{
 "cells": [
  {
   "cell_type": "code",
   "execution_count": null,
   "id": "a6ed20f9-25d6-48b5-9536-6dc9351ebae1",
   "metadata": {},
   "outputs": [],
   "source": [
    "import proveit\n",
    "%play_game"
   ]
  },
  {
   "cell_type": "code",
   "execution_count": null,
   "id": "5964682f-ae1c-4d62-ac45-1344bda9bd39",
   "metadata": {},
   "outputs": [],
   "source": []
  },
  {
   "cell_type": "code",
   "execution_count": null,
   "id": "f0591d98-fc7b-4cc2-a44d-060bba020646",
   "metadata": {},
   "outputs": [],
   "source": []
  }
 ],
 "metadata": {
  "kernelspec": {
   "display_name": "Python 3 (ipykernel)",
   "language": "python",
   "name": "python3"
  }
 },
 "nbformat": 4,
 "nbformat_minor": 0
}
