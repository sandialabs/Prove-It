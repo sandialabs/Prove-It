{
 "cells": [
  {
   "cell_type": "markdown",
   "metadata": {},
   "source": [
    "**Prove-It** Overview\n",
    "=================\n",
    "\n",
    "**Prove-It** is a Python-based tool for generating and organizing mathematical proofs.  It is a general theorem-prover designed for versatility and powerful expressiveness.  The core philosophy behind **Prove-It** is summarized as follows.\n",
    "\n",
    "* ***Freedom of expression***.  Concise mathematical expressions are invaluable for sharing scientific and mathematical information.  **Prove-It** generates and renders LaTeX into mathematical expressions as convenient representations of internal tree-like structures.  To allow unrestricted freedom of generating the desired LaTeX, there is no enforcement built into **Prove-It** to ensure that the generated LaTeX reflects the internal representation of the expression.  However, expressions do hyperlink, via clicking, to notebooks that display the full internal structure that should properly be in correspondence with the concise representation.\n",
    "\n",
    "\n",
    "* ***Right to gibberish***.  Harmless nonsense is acceptable in **Prove-It**, contrary to conventional theorem-proving approaches.  The advantage of allowing harmless nonsense is that we avoid burdensome and unnecessary restrictions and rules.  To be specific, **Prove-It** has no intrinsic type system that defines the space of true/false statements according to syntax.  Assumptions, conditions, and antecedents of implications need not be true/false statements or well-formed in any particular sense; this is harmless as long as outcomes are sensible whenever conditions (or assumptions or antecedents) are satisfied.  For example, $\\forall_{A, B} A \\land B \\Rightarrow A$ is a true statement even without any restriction on $A$ and $B$ given that the $\\land$ operation (logical *and*) may only be evaluated when acting on Boolean operands.  That means that $8 \\land 5 \\Rightarrow 8$ is also true!  The left side of this implication is gibberish in this case and the right side makes no sense as a true/false statement, but this is harmless.  The antecedent cannot be proven to be true; thus, the consequent is irrelevant.  This flexibility frees **Prove-It** from the overhead and burden of an intrinsic type-theory system, often employed by general theorem provers.  Type-theory was specifically invented to circumvent Russel's paradox.  Russel's paradox occurs by defining $R$ to be the set of sets that do not contain themselves, $R = \\{x~|~x \\notin x\\}$ and then asking whether or not $R \\in R$.  The **Prove-It** way of avoiding this paradox is to define set comprehension only as a subset of an existing set that is properly defined (note that the universal set is not a properly defined set).  In trying to define Russel's set, we would have $R_S = \\{x~|~x \\notin x\\}_{x \\in S}$ meaning the set of all $x$ contained in $S$ such that $x \\notin x$.  Given a properly defined set $S$ with elements that do not contain themselves, $R$ is trivially equal to $S$ and $R_S \\notin R_S$ without question.  An improperly defined set $S$ must not contain anything; thus, $R_S = \\emptyset$ and $R_S \\notin R_S$.  Allowing gibberish is key to this solution.  We do not place any explicit restriction on $S$ in our definition of set comprehension (it can be gibberish), but there is an implicit restriction by ensuring (in our axioms) that there may only exist an $x$ for which $x \\in S$ when $S$ is properly defined.\n",
    "\n",
    "\n",
    "* ***Freedom of religion / Right to bear axioms***.  Axioms are statements that are taken to be true by assertion.  These are things that are simply believed to be true.  Ideally, axioms provide definitions and not arbitrary belief systems, but they are ultimately taken on faith.  **Prove-It** is designed to be flexible and extensible.  As such, axioms may be added to the system as needed.  There is no inherent guarantee that axioms are valid or even self-consistent.  However, the axioms required for any particular proof are tracked and presented.  It would be cumbersome to check and re-check axioms each time a new theorem is proven.  However, these axioms are organized into packages, or **theories**, and changes are tracked.  Users should gain and retain trust in packages of axioms as they are checked and rechecked.  As **Prove-It** gains in popularity, packages will be checked via crowdsourcing to catch mistakes.\n",
    "\n",
    "\n",
    "* ***Public trial by an impartial jury***.  In **Prove-It**, proofs are constructed using Python code.  It is important to be able to verify proofs independently, without being required to run code which could easily cheat or do something malicious.  Although one's practice may be to share and trust proofs among collaborators, it is still good practice to perform independent verification to ensure that generated proofs are correct.  Independent verification is possible in two different senses.  It can be done in an automated fashion by exporting/importing a proof certification and allowing **Prove-It**'s open-source light-weight certification-checking code to verify that the steps are valid (in principle, 3rd party code could also be written to perform this task).  The proof is only valid up to the validity of the axioms, however.  It is therefore important to check which packages of axioms are employed and note when changes to the axioms of these packages are made.  Likewise, it is important to check that the theorem statement is faithfully expressing what is intended.  The other sense of independent verification is to manually inspect the proofs.  It is considered good practice to generate small proofs of many intermediate theorems leading up to more sophisticated theorems.  **Prove-It** presents the steps of proofs in a convenient format.  When the proofs are small, they can be understood by human verifiers.  This has educational value in addition to being an extra sanity-check.\n",
    "\n",
    "\n",
    "* ***Liberty to start in the middle***.  Theorems may be conditionally proven using other theorems that have not yet been proven.  Later proving the requisite dependent theorems will then complete the theorem that depends upon them.  This is a convenient feature.  It allows one to temporarily take statements on faith and later fill in the details.  For example, one may wish to use some commonly known facts of mathematics to prove something more interesting, leaving the job of building the proofs of these commonly known facts for some other time and/or some other people.  Or, one may wish to attempt a proof given some initial conjecture.  **Prove-It** is designed to ensure that this freedom cannot be exploited to produce circular logic (e.g., it is not possible for theorem A to depend upon theorem B and for theorem B to depend upon theorem A, or any other more sophisticated cyclical dependency).\n",
    "\n",
    "\n",
    "* ***Pursuit of happiness/convenience/automation***.  **Prove-It** is designed around the ideal goal of allowing a human user to follow any line of reasoning.  A secondary goal is to provide convenient automation to assist the human user in accomplishing their task.  This is far less ambitious than a fully automated system used to derive novel truths independent of human reasoning, but it is far more realistic and still very useful.  For example, it would be valuable to form a collection of formal proofs of theorems that are already believed/understood to be true.  This would produce certificates to allay any doubts, be an educational resource, and form a valuable resource for exploring new theorems and expanding knowledge.  Even without such a collection, **Prove-It** could be a useful tool for mathematicians as they are exploring their field of knowledge.  **Prove-It** is designed to be extensible, enabling users to add packages that make new types of operations and literals, define these with new axioms, and introduce methods that conveniently apply axioms and/or an expanding set of theorems for manipulating expressions and deriving new theorems.  Automation can be extended by defining side-effects (statements that are automatically derived when a given statement of a given type of operation is proven) and also by defining strategies to automatically conclude a statement of a given type of operation.  This is simply intended as a means to allow users to \"skip\" obvious steps that they would likely skip when doing the proof by hand.\n",
    "\n",
    "With its versatility, the Python programming language is very compatible with this philosophy.  This tutorial assumes a working knowledge of the Python programming language.  The reader is encouraged to reference the extensive online resources of Python tutorials and support as unfamiliar Python features are presented in this tutorial."
   ]
  },
  {
   "cell_type": "markdown",
   "metadata": {},
   "source": [
    "Installation\n",
    "============\n",
    "\n",
    "For **Prove-It** to work, Python and Jupyter/IPython must be installed.  We currently use Python 3.7. Older versions of Python 3.x will probably still work, but Python 2.x versions are likely to experience problems as development continues.\n",
    "\n",
    "Since it is intended that **Prove-It** be continually extended, you will likely want to install **Prove-It** as a developer.  To do this, run `python setup.py develop` in your `Prove-It` folder.  This will set the `PYTHONPATH` environment variable appropriately so that Python will know where to find the `proveit` package, and anything that you add/modify in the `Prove-It/packages` folder will be accessible in a Python session.  (You may have to reload modules or restart the Python session if you have made changes since importing a package.)\n",
    "\n",
    "With a successful installation, you should be able to open this Jupyter/IPython notebook and execute the following input line without generating an error:"
   ]
  },
  {
   "cell_type": "code",
   "execution_count": null,
   "metadata": {},
   "outputs": [],
   "source": [
    "import proveit"
   ]
  },
  {
   "cell_type": "markdown",
   "metadata": {},
   "source": [
    "<a name=\"build\"></a>Building or downloading the database\n",
    "============\n",
    "\n",
    "In order for all of the notebooks to run properly, including this tutorial, the **Prove-It** database must be built.  This database stores information (**expressions**, **axioms**, **theorems**, **proofs**, and **dependencies**) for each **theory** in the <a class=\"ProveItLink\" href=\"../packages/index.ipynb#hierarchy\">hierarchy of theories</a>, or any external **theory**, for the purpose of cross-referencing this information.  When a **common expression**, **axiom**, or **theorem** is imported, it is accessed from this database.  The database itself is a collection of files distributed among the packages corresponding to the **theories** contained in directories each named `__pv_it`.  The database information is generated as notebooks are executed, but they need to be executed in the proper order, and twice in some instances, in order for the inter-dependencies to be properly satisfied.  The `build.py` script at the top-level of the **Prove-It** repository automates this process.  This can be time-consuming (currently the bottleneck is in restarting a Jupyter Kernel session for each session -- we should figure out how to speed this up).  However, it is easier to download the latest built database from `http://pyproveit.org` which can be done by simply executing \n",
    "\n",
    "`python build.py --download`\n",
    "\n",
    "To clean out any local files in this database before downloading the online version, execute:\n",
    "\n",
    "`python build.py --clean --download`"
   ]
  },
  {
   "cell_type": "markdown",
   "metadata": {},
   "source": [
    "<a name=\"beginend\"></a>Use of `%begin` and `%end`\n",
    "=============\n",
    "\n",
    "You will see that each of the tutorial chapter notebooks use **Prove-It**'s `%begin` and `%end` \"magic\" commands.  These are automatically defined when anything from the `proveit` library is imported.  They are not necessary to use, but it is good practice to use these for any notebook that uses `proveit`.  It ensures that the **Prove-It** database is kept clean of extraneous objects.  If they are not used, the **Prove-It** objects (in particular, the `Expression`, `Judgment`, and `Proof` objects that will be discussed in the subsequent tutorial chapters) can be continually added to the database without cleaning up old objects that are no longer used.  When the `%end` command is call, all displayed **Prove-It** objects are retained in the database under the name following the command (\"introduction\" in the example below), but anything that was not displayed that was previously stored under that name will be erased.  That way, when the notebook is changed and run again, **Prove-It** objects that were removed from the notebook will be discarded in the database."
   ]
  },
  {
   "cell_type": "code",
   "execution_count": null,
   "metadata": {},
   "outputs": [],
   "source": [
    "%begin introduction # Showing %begin and %end as an example..."
   ]
  },
  {
   "cell_type": "code",
   "execution_count": null,
   "metadata": {},
   "outputs": [],
   "source": [
    "%end introduction   # even though no Prove-It objects are generated in this notebook."
   ]
  },
  {
   "cell_type": "markdown",
   "metadata": {},
   "source": [
    "One reason objects are stored in the database is that the LaTeX renderings, as `.png` images, will be retained and reused rather than regenerated.  Often the bottleneck in executing **Prove-It** notebook cells that create and display new **Prove-It** objects is the time it takes to render the LaTeX.  When the images are reused, it saves a lot of time.  If you want to see the difference for yourself, go to <a href=\"tutorial01_basic_expr.ipynb\">chapter one</a> on basic expressions, execute just the first cell with `%begin basic_expressions` and the last cell with `%end basic_expressions` (clearing the database of `basic_expressions` objects), then do \"Restart & Run All\" (under `Kernel` in Jupyter's menu) a couple of times; the second time should execute much more quickly than the second time after clearing the database.  Other reasons for storing objects in the database relate to tracking interdependencies of constructed proofs and will be discussed in later chapters."
   ]
  },
  {
   "cell_type": "markdown",
   "metadata": {},
   "source": [
    "Outline\n",
    "=======\n",
    "\n",
    "This tutorial is a series of Jupyter notebook \"chapters\" as a convenient way of presenting Python code and LaTeX-formatted output in addition to nicely formatted \"Markdown\" text.  The following is a list of the chapters of this tutorial.  Start with the first chapter which lays an important foundation by explaining how Prove-It represents mathematical expressions, internally and externally.\n",
    "\n",
    "## <a id=\"contents\"></a>Table of Contents\n",
    "\n",
    "1. <a href=\"tutorial01_basic_expr.ipynb\">**Basic Expressions**</a>\n",
    "2. <a href=\"tutorial02_proof_basics.ipynb\">Proof Basics</a>\n",
    "3. <a href=\"tutorial03_implies.ipynb\">Implication</a>\n",
    "4. <a href=\"tutorial04_relabeling.ipynb\">Relabeling</a>\n",
    "5. <a href=\"tutorial05_forall.ipynb\">Universal Quantification (Forall)</a>\n",
    "6. <a href=\"tutorial06_theorem_proving.ipynb\">Theorem Proving</a>\n",
    "7. <a href=\"tutorial07_axiom_elimination.ipynb\">Axiom Elimination</a>\n",
    "8. <a href=\"tutorial08_automation.ipynb\">Automation</a>\n",
    "9. <a href=\"tutorial09_packages.ipynb\">Packages</a>\n",
    "10. <a href=\"tutorial10_advanced_expr.ipynb\">Advanced Expressions</a>\n",
    "11. <a href=\"tutorial11_advanced_proofs.ipynb\">Advanced Expression Proofs</a>"
   ]
  },
  {
   "cell_type": "code",
   "execution_count": null,
   "metadata": {},
   "outputs": [],
   "source": []
  }
 ],
 "metadata": {
  "kernelspec": {
   "display_name": "Python 3",
   "language": "python",
   "name": "python3"
  }
 },
 "nbformat": 4,
 "nbformat_minor": 0
}
