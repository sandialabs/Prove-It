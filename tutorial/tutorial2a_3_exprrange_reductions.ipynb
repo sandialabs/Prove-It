{
 "cells": [
  {
   "cell_type": "markdown",
   "metadata": {},
   "source": [
    "Chapter 2.a.iii.  ExprRange reductions\n",
    "=======\n",
    "\n",
    "As we saw in the previous chapter, an **ExprRange** adds versatility to **Prove-It** by allowing us to define **Lambda** expressions with an indeterminant number of parameters.  Generally, **ExprRange** expressions allow us to form expressions over an indeterminant number of elements.  Basically, an **ExprRange** is how we formalize the concept of using an ellipsis in a mathematical expression.  For example, $a \\cdot (b_1 + \\ldots + b_n) = a \\cdot b_1 + \\ldots + a \\cdot b_n$ (distribution) may be expressed using an **ExprRange** on each side of the equation.  Internally, the **ExprRange** has a *parameter* variable for parameterizing each element of the range.  For the LaTeX display, this *parameter* is hidden by default, as in the above example, and the precise parameterization is implicit.  To avoid ambiguity, it can be important at times to display the explicit parameterization.  For the above example, this would be $a \\cdot (b_1 + ..b_k.. + b_n) = a \\cdot b_1 + ..a \\cdot b_k.. + a \\cdot b_n$, assuming $k$ is the *parameter* in both **ExprRange** instances.\n",
    "\n",
    "There are two kinds of reduction rules that are specific to **ExprRange** expressions that are applied in the process of performing a lambda application (beta reduction).\n",
    "1. *Indexed variable expansions* occur when the **ExprRange** contains one or more **IndexedVar** expressions with an index that is parameterized over the range, and the range of indexed variables is being replaced by an **ExprTuple**.  This falls under two cases.\n",
    "  1. *Parameter dependent expansion* is required whenever the parameter of the **ExprRange** occurs anywhere besides as an index of an indexed variable.  In that case, the indices of the expanded indexed variable must match the original indices.  For example, $1 \\cdot x_1 + \\ldots + n \\cdot x_n$ could be expanded, under $(x_1, \\ldots, x_n) : (a_1, \\ldots, a_j, a_{j+1}, \\ldots, a_n)$ to $1 \\cdot a_1 + \\ldots + j \\cdot a_j + (j+1) \\cdot a_{j+1} + \\ldots + n \\cdot a_n$ assuming $0 \\leq j \\leq n$.  However, an error would occur given $(x_1, \\ldots, x_n) : (a_1, \\ldots, a_j, b_1, \\ldots, b_k)$ as the expansion.\n",
    "  2. *Parameter independent expansion* is allowed otherwise.  In that case, only the lengths of the expansion must match, not the indices themselves.  For example, $x_1 \\cdot y_1 + \\ldots + x_n \\cdot y_n$ could be expanded, under $(x_1, \\ldots, x_n) : (a_1, \\ldots, a_j, b_1, \\ldots, b_k)$, $(y_1, \\ldots, y_n) : (c_1, \\ldots, c_j, d_1, \\ldots, d_k)$ to $a_1 \\cdot c_1 + \\ldots + a_j \\cdot c_j + b_1 \\cdot d_1 + \\ldots + b_k \\cdot d_k$ assuming $j + k = n$.\n",
    "2. *Range reductions* occur when the **ExprRange** is known to be empty or contain only a single element. \n",
    "  1. *Empty range reduction* occurs when the **ExprRange** is known to be empty and may be replaced with zero elements in a containing **ExprTuple**.\n",
    "  2. *Singular element range reduction* occurs when the **ExprRange** is known to contain only a single element and may be replaced with this one element."
   ]
  },
  {
   "cell_type": "code",
   "execution_count": 1,
   "metadata": {},
   "outputs": [],
   "source": [
    "import proveit\n",
    "%begin exprrange_reductions"
   ]
  },
  {
   "cell_type": "markdown",
   "metadata": {},
   "source": [
    "## Creating ExprRange expressions\n",
    "\n",
    "An `ExprRange` may be instantiated with a `parameter`, `body`, `start index`, and `end index`:"
   ]
  },
  {
   "cell_type": "code",
   "execution_count": 2,
   "metadata": {},
   "outputs": [
    {
     "data": {
      "text/html": [
       "<strong id=\"a_prod_range\">a_prod_range:</strong> <a class=\"ProveItLink\" href=\"__pv_it/exprrange_reductions/37b1f1b9613f8ea90e817111ad8af41ae9a1caf10/expr.ipynb\"><img src=\"data:image/png;base64,iVBORw0KGgoAAAANSUhEUgAAAQUAAAAVBAMAAAC9GeaNAAAAMFBMVEX///8AAAAAAAAAAAAAAAAA\n",
       "AAAAAAAAAAAAAAAAAAAAAAAAAAAAAAAAAAAAAAAAAAAv3aB7AAAAD3RSTlMAInZUiRDNmWbv3US7\n",
       "qzJazP2FAAAACXBIWXMAAA7EAAAOxAGVKw4bAAAC60lEQVRIx32WPYgTQRTHX3azt8nmw3CVCAcb\n",
       "FFIpK5xX2BjsI+EKQThJmgMbIYWIXGO6Ky924lkE7iSYQsJ1dnsH1h6HyNmd2F1jVHJNGue93Zmd\n",
       "2ZndKTYz7/9+896+mcksADQg3RqZA6MhMWdIvBUyMLACzX4k9TXZ4C+go/wcbmZgsJ62tsAaJiNN\n",
       "XicXtdU/AEEyqDe7nbbUvxDi9NPCIcC2GGgyGQ5V29OXC4ig7bwcHmsWq0+Ia0p9V/Q0WTZUeN9a\n",
       "xNBuXg6vjFaGlE32clf0NEkuri/ngFACGtoIMmJtmOwr4mU1eSMzB4RWcjaE3YeMWC/wd+3hqljv\n",
       "FpumeMqHKBe+NX2QDOSi54BQAurNbauRADZvR9gzXNc38JUXsVhhJSuJlFH+3KguQDKQi54DQqV+\n",
       "dg5YIzkSwKA8JOSA9Z8MYYfbf7lsGlssHZOdt+COQTKQi54DQvYoOwcvUCOB1bgWELLPBq+j0+Zc\n",
       "sUe3zCauz7kfk905eG0uo4FcwJ1OP76bTk9FDggloGHzzUQk6OFbOPCgSwjm8B6cJSoTfKC9MpJy\n",
       "KIfQmwl5P3bR64BQZZSfA4/kDci0E2FY7L9QSvJ/7rDJx1Lpez7sgbwW5GJYi7EMGtdCjRTVhCEn\n",
       "LId/UOvf5ediWWT7JKRSscbkXgDfbXEbncQuhj0ZyqDasHBVX43EDtwywjo07/3BgP+Fz6/Hx4jW\n",
       "rIOsPXEF14ldlByKf+KzJ0DaPDSDGOG5lSNBVBOGXOL//a2fZxdcOGfnxcP199hFhLJz9mjtjuAu\n",
       "Yxc5h9qPq/MISsAJX3V6THHzjVORoIZVY4h3YVi6G/S8hx5pWTbYfhpKwNR/JC7GJ22X+hFSGmTe\n",
       "LlhXTZYNlWEaSkC1FUG/0GrBXjdGjg3fOyHtTnpLTT7O+kgKVVBpm/ioqp9Zv4MDHmtLny5ytqiv\n",
       "yVsZOSAkg0qjrJxQvT9aMx6roGfdlF8vLRv8BdTM/5ZbNWP/AZO/u3gtqwBDAAAAAElFTkSuQmCC\n",
       "\" style=\"display:inline;vertical-align:middle;\" /></a><br>"
      ],
      "text/plain": [
       "<IPython.core.display.HTML object>"
      ]
     },
     "metadata": {},
     "output_type": "display_data"
    }
   ],
   "source": [
    "from proveit import ExprTuple, ExprRange, defaults\n",
    "from proveit.logic import Equals\n",
    "from proveit.numbers import Add, Mult, zero, one, two\n",
    "from proveit import a, b, c, d, i, j, k, m, n, x, y\n",
    "a_prod_range = ExprRange(k, Mult(a, k), i, j)"
   ]
  },
  {
   "cell_type": "code",
   "execution_count": 3,
   "metadata": {},
   "outputs": [
    {
     "data": {
      "text/html": [
       "<a class=\"ProveItLink\" href=\"__pv_it/exprrange_reductions/006c465e50948aa2b52285e2de47974f741255cc0/expr.ipynb\"><img src=\"data:image/png;base64,iVBORw0KGgoAAAANSUhEUgAAABgAAAAJBAMAAADa0/H1AAAAMFBMVEX///8AAAAAAAAAAAAAAAAA\n",
       "AAAAAAAAAAAAAAAAAAAAAAAAAAAAAAAAAAAAAAAAAAAv3aB7AAAAD3RSTlMAMrsiq4l2RO8QZpnd\n",
       "VM2humBGAAAACXBIWXMAAA7EAAAOxAGVKw4bAAAASUlEQVQI12NggAKTMDMYk4G9mUF/AowzYwHD\n",
       "HrjMfgaGo3BOEwPndxib8xsD1wc45y8Dy4PLMJ4aw50NGxiElIDAgGFKqrCbAAD2sxBIUZwn3gAA\n",
       "AABJRU5ErkJggg==\n",
       "\" style=\"display:inline;vertical-align:middle;\" /></a>"
      ],
      "text/plain": [
       "_a"
      ]
     },
     "metadata": {},
     "output_type": "display_data"
    }
   ],
   "source": [
    "a_prod_range.parameter"
   ]
  },
  {
   "cell_type": "code",
   "execution_count": 4,
   "metadata": {},
   "outputs": [
    {
     "data": {
      "text/html": [
       "<a class=\"ProveItLink\" href=\"__pv_it/exprrange_reductions/5c28ea155f951ea857b37b991cebc65e72806cf00/expr.ipynb\"><img src=\"data:image/png;base64,iVBORw0KGgoAAAANSUhEUgAAADMAAAAJBAMAAABtbgnSAAAAMFBMVEX///8AAAAAAAAAAAAAAAAA\n",
       "AAAAAAAAAAAAAAAAAAAAAAAAAAAAAAAAAAAAAAAAAAAv3aB7AAAAD3RSTlMAIquJdkTvuxBmmd1U\n",
       "zTKBpmoTAAAACXBIWXMAAA7EAAAOxAGVKw4bAAAAY0lEQVQI12NgYFR2dGBAA1CxMAH2H+hSEDGO\n",
       "TAauDWgyUDGuDwzcBiDuX4QUVIytgKE/AMTfhZCCivU7MMxHtwoq1n+AQZdHAE0KIsbuwLOLC00X\n",
       "VIxDxU7IDybGVw4EhVAxAAkMGWeVmnPDAAAAAElFTkSuQmCC\n",
       "\" style=\"display:inline;vertical-align:middle;\" /></a>"
      ],
      "text/plain": [
       "a * _a"
      ]
     },
     "metadata": {},
     "output_type": "display_data"
    }
   ],
   "source": [
    "a_prod_range.body"
   ]
  },
  {
   "cell_type": "code",
   "execution_count": 5,
   "metadata": {},
   "outputs": [
    {
     "data": {
      "text/html": [
       "<a class=\"ProveItLink\" href=\"../packages/proveit/__pv_it/common/ae955345c83abf786c3aff8681cd5465beae262d0/expr.ipynb\"><img src=\"data:image/png;base64,iVBORw0KGgoAAAANSUhEUgAAAAcAAAAOBAMAAAARcxsoAAAALVBMVEX///8AAAAAAAAAAAAAAAAA\n",
       "AAAAAAAAAAAAAAAAAAAAAAAAAAAAAAAAAAAAAADAOrOgAAAADnRSTlMAdpndiRBmRO8yVM2rIuws\n",
       "s0IAAAAJcEhZcwAADsQAAA7EAZUrDhsAAAA6SURBVAjXY2BgEGIAAhMGdMAqlMDAwMLewMAwi2kD\n",
       "A0MAhwBQcF0AkNjDCpR9zsLAwPngGpB7LIEBALAvCJF4nqyTAAAAAElFTkSuQmCC\n",
       "\" style=\"display:inline;vertical-align:middle;\" /></a>"
      ],
      "text/plain": [
       "i"
      ]
     },
     "metadata": {},
     "output_type": "display_data"
    }
   ],
   "source": [
    "a_prod_range.start_index"
   ]
  },
  {
   "cell_type": "code",
   "execution_count": 6,
   "metadata": {},
   "outputs": [
    {
     "data": {
      "text/html": [
       "<a class=\"ProveItLink\" href=\"../packages/proveit/__pv_it/common/1ed21df18baca2f42b561a7ffbf30a2743d594650/expr.ipynb\"><img src=\"data:image/png;base64,iVBORw0KGgoAAAANSUhEUgAAAAoAAAASBAMAAACQmVJ4AAAAMFBMVEX///8AAAAAAAAAAAAAAAAA\n",
       "AAAAAAAAAAAAAAAAAAAAAAAAAAAAAAAAAAAAAAAAAAAv3aB7AAAAD3RSTlMAMrsQds2rme9mIlTd\n",
       "iUQmv6lAAAAACXBIWXMAAA7EAAAOxAGVKw4bAAAATElEQVQI12NgYGBgVAYSDCwBDNiAiRuILOCY\n",
       "AFSxgH8DAwMzw34DkFANWPosiOD6ByI5P4BINgUQyeEAZG2YD1Qov+E0kM/u/oCBAQDY7wxV/Qz6\n",
       "SAAAAABJRU5ErkJggg==\n",
       "\" style=\"display:inline;vertical-align:middle;\" /></a>"
      ],
      "text/plain": [
       "j"
      ]
     },
     "metadata": {},
     "output_type": "display_data"
    }
   ],
   "source": [
    "a_prod_range.end_index"
   ]
  },
  {
   "cell_type": "markdown",
   "metadata": {},
   "source": [
    "It's sub-expressions are a **Lambda** expression created from the `parameter` and `body`, the `start_index`, and the `end_index`:"
   ]
  },
  {
   "cell_type": "code",
   "execution_count": 7,
   "metadata": {},
   "outputs": [
    {
     "data": {
      "text/html": [
       "<table><tr><th>&nbsp;</th><th>core type</th><th>sub-expressions</th><th>expression</th></tr>\n",
       "<tr><td>0</td><td>ExprRange</td><td>lambda_map:&nbsp;1<br>start_index:&nbsp;2<br>end_index:&nbsp;3<br></td><td><a class=\"ProveItLink\" href=\"__pv_it/exprrange_reductions/37b1f1b9613f8ea90e817111ad8af41ae9a1caf10/expr.ipynb\"><img src=\"data:image/png;base64,iVBORw0KGgoAAAANSUhEUgAAAQUAAAAVBAMAAAC9GeaNAAAAMFBMVEX///8AAAAAAAAAAAAAAAAA\n",
       "AAAAAAAAAAAAAAAAAAAAAAAAAAAAAAAAAAAAAAAAAAAv3aB7AAAAD3RSTlMAInZUiRDNmWbv3US7\n",
       "qzJazP2FAAAACXBIWXMAAA7EAAAOxAGVKw4bAAAC60lEQVRIx32WPYgTQRTHX3azt8nmw3CVCAcb\n",
       "FFIpK5xX2BjsI+EKQThJmgMbIYWIXGO6Ky924lkE7iSYQsJ1dnsH1h6HyNmd2F1jVHJNGue93Zmd\n",
       "2ZndKTYz7/9+896+mcksADQg3RqZA6MhMWdIvBUyMLACzX4k9TXZ4C+go/wcbmZgsJ62tsAaJiNN\n",
       "XicXtdU/AEEyqDe7nbbUvxDi9NPCIcC2GGgyGQ5V29OXC4ig7bwcHmsWq0+Ia0p9V/Q0WTZUeN9a\n",
       "xNBuXg6vjFaGlE32clf0NEkuri/ngFACGtoIMmJtmOwr4mU1eSMzB4RWcjaE3YeMWC/wd+3hqljv\n",
       "FpumeMqHKBe+NX2QDOSi54BQAurNbauRADZvR9gzXNc38JUXsVhhJSuJlFH+3KguQDKQi54DQqV+\n",
       "dg5YIzkSwKA8JOSA9Z8MYYfbf7lsGlssHZOdt+COQTKQi54DQvYoOwcvUCOB1bgWELLPBq+j0+Zc\n",
       "sUe3zCauz7kfk905eG0uo4FcwJ1OP76bTk9FDggloGHzzUQk6OFbOPCgSwjm8B6cJSoTfKC9MpJy\n",
       "KIfQmwl5P3bR64BQZZSfA4/kDci0E2FY7L9QSvJ/7rDJx1Lpez7sgbwW5GJYi7EMGtdCjRTVhCEn\n",
       "LId/UOvf5ediWWT7JKRSscbkXgDfbXEbncQuhj0ZyqDasHBVX43EDtwywjo07/3BgP+Fz6/Hx4jW\n",
       "rIOsPXEF14ldlByKf+KzJ0DaPDSDGOG5lSNBVBOGXOL//a2fZxdcOGfnxcP199hFhLJz9mjtjuAu\n",
       "Yxc5h9qPq/MISsAJX3V6THHzjVORoIZVY4h3YVi6G/S8hx5pWTbYfhpKwNR/JC7GJ22X+hFSGmTe\n",
       "LlhXTZYNlWEaSkC1FUG/0GrBXjdGjg3fOyHtTnpLTT7O+kgKVVBpm/ioqp9Zv4MDHmtLny5ytqiv\n",
       "yVsZOSAkg0qjrJxQvT9aMx6roGfdlF8vLRv8BdTM/5ZbNWP/AZO/u3gtqwBDAAAAAElFTkSuQmCC\n",
       "\" style=\"display:inline;vertical-align:middle;\" /></a></td></tr>\n",
       "<tr><td>1</td><td>Lambda</td><td>parameter:&nbsp;9<br>body:&nbsp;5<br></td><td><a class=\"ProveItLink\" href=\"__pv_it/exprrange_reductions/d2c7845bce44c042aa36bf9875459f3e275aa7dd0/expr.ipynb\"><img src=\"data:image/png;base64,iVBORw0KGgoAAAANSUhEUgAAAHkAAAAVCAMAAABVErFaAAAANlBMVEX///8AAAAAAAAAAAAAAAAA\n",
       "AAAAAAAAAAAAAAAAAAAAAAAAAAAAAAAAAAAAAAAAAAAAAAAAAABHL6OuAAAAEXRSTlMAMrsiq4l2\n",
       "RO8QZpndVM3z6UwP0jwAAAAJcEhZcwAADsQAAA7EAZUrDhsAAAEuSURBVEjHvVbblsMgCPRuvGDX\n",
       "///Zjcm2DUTSE91T3hIYBkdQhZgy/UUUMgdDMO9micGOVhzniEMZhpYwxZzGK4/pnkakM5aJqpdP\n",
       "i0Z+wIVCmWAuZ720sU6/ei8jH/5Ktgu5GKZDnDWnhl9WSVUNXS5QvbIJhJ+lY1ykgoWlpUu5v0rh\n",
       "1CF/hi6E3TgUB7RJUt1yvub08ZOR1erfTeJ7kFCZ7cdxstKWUxvYM2v2xQvKfIIwA4PjPFlzqK0B\n",
       "YmV6SqIDYFf7BOHExnGQqbtlM0WA7jEXNNDKdSEsM4qLivhbNlj1eirmL+b5bzAohDMct46kVE9r\n",
       "tQTjrNTGyR7W4r9yF4SHXKXOfubcznL8Xs8zxHeP/X+6bPatG31caDX5Mgjq2yW/ax971mzX7S9a\n",
       "IAoW2RVJdwAAAABJRU5ErkJggg==\n",
       "\" style=\"display:inline;vertical-align:middle;\" /></a></td></tr>\n",
       "<tr><td>2</td><td>Variable</td><td></td><td><a class=\"ProveItLink\" href=\"../packages/proveit/__pv_it/common/ae955345c83abf786c3aff8681cd5465beae262d0/expr.ipynb\"><img src=\"data:image/png;base64,iVBORw0KGgoAAAANSUhEUgAAAAcAAAAOBAMAAAARcxsoAAAALVBMVEX///8AAAAAAAAAAAAAAAAA\n",
       "AAAAAAAAAAAAAAAAAAAAAAAAAAAAAAAAAAAAAADAOrOgAAAADnRSTlMAdpndiRBmRO8yVM2rIuws\n",
       "s0IAAAAJcEhZcwAADsQAAA7EAZUrDhsAAAA6SURBVAjXY2BgEGIAAhMGdMAqlMDAwMLewMAwi2kD\n",
       "A0MAhwBQcF0AkNjDCpR9zsLAwPngGpB7LIEBALAvCJF4nqyTAAAAAElFTkSuQmCC\n",
       "\" style=\"display:inline;vertical-align:middle;\" /></a></td></tr>\n",
       "<tr><td>3</td><td>Variable</td><td></td><td><a class=\"ProveItLink\" href=\"../packages/proveit/__pv_it/common/1ed21df18baca2f42b561a7ffbf30a2743d594650/expr.ipynb\"><img src=\"data:image/png;base64,iVBORw0KGgoAAAANSUhEUgAAAAoAAAASBAMAAACQmVJ4AAAAMFBMVEX///8AAAAAAAAAAAAAAAAA\n",
       "AAAAAAAAAAAAAAAAAAAAAAAAAAAAAAAAAAAAAAAAAAAv3aB7AAAAD3RSTlMAMrsQds2rme9mIlTd\n",
       "iUQmv6lAAAAACXBIWXMAAA7EAAAOxAGVKw4bAAAATElEQVQI12NgYGBgVAYSDCwBDNiAiRuILOCY\n",
       "AFSxgH8DAwMzw34DkFANWPosiOD6ByI5P4BINgUQyeEAZG2YD1Qov+E0kM/u/oCBAQDY7wxV/Qz6\n",
       "SAAAAABJRU5ErkJggg==\n",
       "\" style=\"display:inline;vertical-align:middle;\" /></a></td></tr>\n",
       "<tr><td>4</td><td>ExprTuple</td><td>9</td><td><a class=\"ProveItLink\" href=\"__pv_it/exprrange_reductions/4b0dd6be36d76552eda6a95d5b4a27f5a5b62f900/expr.ipynb\"><img src=\"data:image/png;base64,iVBORw0KGgoAAAANSUhEUgAAACUAAAAVBAMAAAAzyjqdAAAAMFBMVEX///8AAAAAAAAAAAAAAAAA\n",
       "AAAAAAAAAAAAAAAAAAAAAAAAAAAAAAAAAAAAAAAAAAAv3aB7AAAAD3RSTlMAInZUiRDNmWbv3US7\n",
       "qzJazP2FAAAACXBIWXMAAA7EAAAOxAGVKw4bAAAAyUlEQVQY013QrwvCQBTA8e885344ZFkQtn9A\n",
       "DGL2H1D8AwQtgtFgMK4ZXRQsA4NVbLZpNoiI2Wyy2D0N2+4evHe8D7zH3QE+xfh3pZZih19pK0Qp\n",
       "AnOsGhOwIs2W4GiEM6CjWyVinnfGPQygfGWa29H3PmCP2WZkrrESEDGbzKw3bhdq74I5KaM9VOPC\n",
       "7ChgJQ+RcM6txUP42Cm9zLxA7Cy5tstLbr3IOGHe+o0muHvcp/aOurziTLOFzJNKRirLUDXv9/lG\n",
       "oFgIXx7XJBUkcPjNAAAAAElFTkSuQmCC\n",
       "\" style=\"display:inline;vertical-align:middle;\" /></a></td></tr>\n",
       "<tr><td>5</td><td>Operation</td><td>operator:&nbsp;6<br>operands:&nbsp;7<br></td><td><a class=\"ProveItLink\" href=\"__pv_it/exprrange_reductions/5c28ea155f951ea857b37b991cebc65e72806cf00/expr.ipynb\"><img src=\"data:image/png;base64,iVBORw0KGgoAAAANSUhEUgAAADMAAAAJBAMAAABtbgnSAAAAMFBMVEX///8AAAAAAAAAAAAAAAAA\n",
       "AAAAAAAAAAAAAAAAAAAAAAAAAAAAAAAAAAAAAAAAAAAv3aB7AAAAD3RSTlMAIquJdkTvuxBmmd1U\n",
       "zTKBpmoTAAAACXBIWXMAAA7EAAAOxAGVKw4bAAAAY0lEQVQI12NgYFR2dGBAA1CxMAH2H+hSEDGO\n",
       "TAauDWgyUDGuDwzcBiDuX4QUVIytgKE/AMTfhZCCivU7MMxHtwoq1n+AQZdHAE0KIsbuwLOLC00X\n",
       "VIxDxU7IDybGVw4EhVAxAAkMGWeVmnPDAAAAAElFTkSuQmCC\n",
       "\" style=\"display:inline;vertical-align:middle;\" /></a></td></tr>\n",
       "<tr><td>6</td><td>Literal</td><td></td><td><a class=\"ProveItLink\" href=\"../packages/proveit/numbers/multiplication/__pv_it/common/ed719cef37831779c16481533a4d380a2f95ab270/expr.ipynb\"><img src=\"data:image/png;base64,iVBORw0KGgoAAAANSUhEUgAAAAMAAAADBAMAAACkBqiMAAAAElBMVEX///8AAAAAAAAAAAAAAAAA\n",
       "AABknMCaAAAABXRSTlMAEM3dmbZAxI8AAAAJcEhZcwAADsQAAA7EAZUrDhsAAAARSURBVAjXY2Bg\n",
       "YBBVYGB2AAABOAB5TiANUQAAAABJRU5ErkJggg==\n",
       "\" style=\"display:inline;vertical-align:middle;\" /></a></td></tr>\n",
       "<tr><td>7</td><td>ExprTuple</td><td>8, 9</td><td><a class=\"ProveItLink\" href=\"__pv_it/exprrange_reductions/d35d5da9ea47b0747138f514695542cba26a2fff0/expr.ipynb\"><img src=\"data:image/png;base64,iVBORw0KGgoAAAANSUhEUgAAADkAAAAVBAMAAAAOWFv7AAAAMFBMVEX///8AAAAAAAAAAAAAAAAA\n",
       "AAAAAAAAAAAAAAAAAAAAAAAAAAAAAAAAAAAAAAAAAAAv3aB7AAAAD3RSTlMAInZUiRDNmWbv3US7\n",
       "qzJazP2FAAAACXBIWXMAAA7EAAAOxAGVKw4bAAAA9klEQVQoz2NgYBBgwA7A4kwGOGQ3gQgTHJIM\n",
       "TA0MDKwJuGQZUhkY2BtwyrYzMHDilGTgDGAwwy3L1sBQAqQYrygqoIhDBFguMGQAOTsFeL6iyEIE\n",
       "OBIYFgOdPYOBfQGyJFSAeQLDbKCzPzBwOSDLQgX4PoBkOQ8wxG9AcSxEgHsCyOR4BYZ+FGuhAswL\n",
       "GA4BOQYM15gFWJFkwQIMHAcYfBkYeBSYl7MzxCOCFCLAwO7A8AroxEt+snoMXEuB7jgDBAehAgxc\n",
       "Gxi4HsB0mKKHlRTQywUwjgO6bAUQH4QFgQKaJOMBIBEDi2x0rTygpMOogCOKFBkYADa9MjQd2vTT\n",
       "AAAAAElFTkSuQmCC\n",
       "\" style=\"display:inline;vertical-align:middle;\" /></a></td></tr>\n",
       "<tr><td>8</td><td>Variable</td><td></td><td><a class=\"ProveItLink\" href=\"../packages/proveit/__pv_it/common/c06c606ec12678c58933ac85412ecadc2ae28be60/expr.ipynb\"><img src=\"data:image/png;base64,iVBORw0KGgoAAAANSUhEUgAAAAsAAAAJBAMAAAAWSsseAAAAMFBMVEX///8AAAAAAAAAAAAAAAAA\n",
       "AAAAAAAAAAAAAAAAAAAAAAAAAAAAAAAAAAAAAAAAAAAv3aB7AAAAD3RSTlMAIquJdkTvuxBmmd1U\n",
       "zTKBpmoTAAAACXBIWXMAAA7EAAAOxAGVKw4bAAAARUlEQVQI12NgYFR2dGBgYAgTYP/BwMCRycC1\n",
       "gYGB6wMDtwEDA1sBQ38AA0O/A8N8oIr+Awy6PAIM7A48u7iAKlXshPwYAE2lCqdX0eXEAAAAAElF\n",
       "TkSuQmCC\n",
       "\" style=\"display:inline;vertical-align:middle;\" /></a></td></tr>\n",
       "<tr><td>9</td><td>Variable</td><td></td><td><a class=\"ProveItLink\" href=\"__pv_it/exprrange_reductions/006c465e50948aa2b52285e2de47974f741255cc0/expr.ipynb\"><img src=\"data:image/png;base64,iVBORw0KGgoAAAANSUhEUgAAABgAAAAJBAMAAADa0/H1AAAAMFBMVEX///8AAAAAAAAAAAAAAAAA\n",
       "AAAAAAAAAAAAAAAAAAAAAAAAAAAAAAAAAAAAAAAAAAAv3aB7AAAAD3RSTlMAMrsiq4l2RO8QZpnd\n",
       "VM2humBGAAAACXBIWXMAAA7EAAAOxAGVKw4bAAAASUlEQVQI12NggAKTMDMYk4G9mUF/AowzYwHD\n",
       "HrjMfgaGo3BOEwPndxib8xsD1wc45y8Dy4PLMJ4aw50NGxiElIDAgGFKqrCbAAD2sxBIUZwn3gAA\n",
       "AABJRU5ErkJggg==\n",
       "\" style=\"display:inline;vertical-align:middle;\" /></a></td></tr>\n",
       "</table>\n"
      ],
      "text/plain": [
       "0. (a * i), (a * (i + 1)), ..., (a * j)\n",
       "   core type: ExprRange\n",
       "   lambda_map: 1\n",
       "   start_index: 2\n",
       "   end_index: 3\n",
       "1. _a -> (a * _a)\n",
       "   core type: Lambda\n",
       "   parameter: 9\n",
       "   body: 5\n",
       "2. i\n",
       "   core type: Variable\n",
       "   sub-expressions: \n",
       "3. j\n",
       "   core type: Variable\n",
       "   sub-expressions: \n",
       "4. (_a)\n",
       "   core type: ExprTuple\n",
       "   sub-expressions: 9\n",
       "5. a * _a\n",
       "   core type: Operation\n",
       "   operator: 6\n",
       "   operands: 7\n",
       "6. *\n",
       "   core type: Literal\n",
       "   sub-expressions: \n",
       "7. (a, _a)\n",
       "   core type: ExprTuple\n",
       "   sub-expressions: 8, 9\n",
       "8. a\n",
       "   core type: Variable\n",
       "   sub-expressions: \n",
       "9. _a\n",
       "   core type: Variable\n",
       "   sub-expressions: "
      ]
     },
     "metadata": {},
     "output_type": "display_data"
    }
   ],
   "source": [
    "a_prod_range.expr_info()"
   ]
  },
  {
   "cell_type": "markdown",
   "metadata": {},
   "source": [
    "This `lambda_map` may be accessed directly:"
   ]
  },
  {
   "cell_type": "code",
   "execution_count": 8,
   "metadata": {},
   "outputs": [
    {
     "data": {
      "text/html": [
       "<a class=\"ProveItLink\" href=\"__pv_it/exprrange_reductions/d2c7845bce44c042aa36bf9875459f3e275aa7dd0/expr.ipynb\"><img src=\"data:image/png;base64,iVBORw0KGgoAAAANSUhEUgAAAHkAAAAVCAMAAABVErFaAAAANlBMVEX///8AAAAAAAAAAAAAAAAA\n",
       "AAAAAAAAAAAAAAAAAAAAAAAAAAAAAAAAAAAAAAAAAAAAAAAAAABHL6OuAAAAEXRSTlMAMrsiq4l2\n",
       "RO8QZpndVM3z6UwP0jwAAAAJcEhZcwAADsQAAA7EAZUrDhsAAAEuSURBVEjHvVbblsMgCPRuvGDX\n",
       "///Zjcm2DUTSE91T3hIYBkdQhZgy/UUUMgdDMO9micGOVhzniEMZhpYwxZzGK4/pnkakM5aJqpdP\n",
       "i0Z+wIVCmWAuZ720sU6/ei8jH/5Ktgu5GKZDnDWnhl9WSVUNXS5QvbIJhJ+lY1ykgoWlpUu5v0rh\n",
       "1CF/hi6E3TgUB7RJUt1yvub08ZOR1erfTeJ7kFCZ7cdxstKWUxvYM2v2xQvKfIIwA4PjPFlzqK0B\n",
       "YmV6SqIDYFf7BOHExnGQqbtlM0WA7jEXNNDKdSEsM4qLivhbNlj1eirmL+b5bzAohDMct46kVE9r\n",
       "tQTjrNTGyR7W4r9yF4SHXKXOfubcznL8Xs8zxHeP/X+6bPatG31caDX5Mgjq2yW/ax971mzX7S9a\n",
       "IAoW2RVJdwAAAABJRU5ErkJggg==\n",
       "\" style=\"display:inline;vertical-align:middle;\" /></a>"
      ],
      "text/plain": [
       "_a -> (a * _a)"
      ]
     },
     "metadata": {},
     "output_type": "display_data"
    }
   ],
   "source": [
    "a_prod_range.lambda_map"
   ]
  },
  {
   "cell_type": "markdown",
   "metadata": {},
   "source": [
    "You can create the same **ExprRange** by proving `None` for the `parameter` and `body` but suppling the `lambda_map` instead:"
   ]
  },
  {
   "cell_type": "code",
   "execution_count": 9,
   "metadata": {},
   "outputs": [
    {
     "data": {
      "text/html": [
       "<strong id=\"a_prod_range_again\">a_prod_range_again:</strong> <a class=\"ProveItLink\" href=\"__pv_it/exprrange_reductions/37b1f1b9613f8ea90e817111ad8af41ae9a1caf10/expr.ipynb\"><img src=\"data:image/png;base64,iVBORw0KGgoAAAANSUhEUgAAAQUAAAAVBAMAAAC9GeaNAAAAMFBMVEX///8AAAAAAAAAAAAAAAAA\n",
       "AAAAAAAAAAAAAAAAAAAAAAAAAAAAAAAAAAAAAAAAAAAv3aB7AAAAD3RSTlMAInZUiRDNmWbv3US7\n",
       "qzJazP2FAAAACXBIWXMAAA7EAAAOxAGVKw4bAAAC60lEQVRIx32WPYgTQRTHX3azt8nmw3CVCAcb\n",
       "FFIpK5xX2BjsI+EKQThJmgMbIYWIXGO6Ky924lkE7iSYQsJ1dnsH1h6HyNmd2F1jVHJNGue93Zmd\n",
       "2ZndKTYz7/9+896+mcksADQg3RqZA6MhMWdIvBUyMLACzX4k9TXZ4C+go/wcbmZgsJ62tsAaJiNN\n",
       "XicXtdU/AEEyqDe7nbbUvxDi9NPCIcC2GGgyGQ5V29OXC4ig7bwcHmsWq0+Ia0p9V/Q0WTZUeN9a\n",
       "xNBuXg6vjFaGlE32clf0NEkuri/ngFACGtoIMmJtmOwr4mU1eSMzB4RWcjaE3YeMWC/wd+3hqljv\n",
       "FpumeMqHKBe+NX2QDOSi54BQAurNbauRADZvR9gzXNc38JUXsVhhJSuJlFH+3KguQDKQi54DQqV+\n",
       "dg5YIzkSwKA8JOSA9Z8MYYfbf7lsGlssHZOdt+COQTKQi54DQvYoOwcvUCOB1bgWELLPBq+j0+Zc\n",
       "sUe3zCauz7kfk905eG0uo4FcwJ1OP76bTk9FDggloGHzzUQk6OFbOPCgSwjm8B6cJSoTfKC9MpJy\n",
       "KIfQmwl5P3bR64BQZZSfA4/kDci0E2FY7L9QSvJ/7rDJx1Lpez7sgbwW5GJYi7EMGtdCjRTVhCEn\n",
       "LId/UOvf5ediWWT7JKRSscbkXgDfbXEbncQuhj0ZyqDasHBVX43EDtwywjo07/3BgP+Fz6/Hx4jW\n",
       "rIOsPXEF14ldlByKf+KzJ0DaPDSDGOG5lSNBVBOGXOL//a2fZxdcOGfnxcP199hFhLJz9mjtjuAu\n",
       "Yxc5h9qPq/MISsAJX3V6THHzjVORoIZVY4h3YVi6G/S8hx5pWTbYfhpKwNR/JC7GJ22X+hFSGmTe\n",
       "LlhXTZYNlWEaSkC1FUG/0GrBXjdGjg3fOyHtTnpLTT7O+kgKVVBpm/ioqp9Zv4MDHmtLny5ytqiv\n",
       "yVsZOSAkg0qjrJxQvT9aMx6roGfdlF8vLRv8BdTM/5ZbNWP/AZO/u3gtqwBDAAAAAElFTkSuQmCC\n",
       "\" style=\"display:inline;vertical-align:middle;\" /></a><br>"
      ],
      "text/plain": [
       "<IPython.core.display.HTML object>"
      ]
     },
     "metadata": {},
     "output_type": "display_data"
    }
   ],
   "source": [
    "from proveit import Lambda\n",
    "a_prod_range_again = ExprRange(None, None, i, j, lambda_map=Lambda(k, Mult(a, k)))"
   ]
  },
  {
   "cell_type": "code",
   "execution_count": 10,
   "metadata": {},
   "outputs": [
    {
     "data": {
      "text/plain": [
       "True"
      ]
     },
     "metadata": {},
     "output_type": "display_data"
    }
   ],
   "source": [
    "a_prod_range_again == a_prod_range"
   ]
  },
  {
   "cell_type": "markdown",
   "metadata": {},
   "source": [
    "When **ExprRange**(s) are used as *operands* of an **Operation**, it is typically formatted in a clean manner that reflects that there are an indeterminant number of *operands*:"
   ]
  },
  {
   "cell_type": "code",
   "execution_count": 11,
   "metadata": {},
   "outputs": [
    {
     "data": {
      "text/html": [
       "<strong id=\"add_with_ranges\">add_with_ranges:</strong> <a class=\"ProveItLink\" href=\"__pv_it/exprrange_reductions/dd8cca8a3cf1677ab276aa1a13b649c2dd238c7d0/expr.ipynb\"><img src=\"data:image/png;base64,iVBORw0KGgoAAAANSUhEUgAAApUAAAAVBAMAAADlUAhlAAAAMFBMVEX///8AAAAAAAAAAAAAAAAA\n",
       "AAAAAAAAAAAAAAAAAAAAAAAAAAAAAAAAAAAAAAAAAAAv3aB7AAAAD3RSTlMAInZUiRDNmWbv3US7\n",
       "qzJazP2FAAAACXBIWXMAAA7EAAAOxAGVKw4bAAAD70lEQVRYw81YTUgbQRR+Sdz8R4OnIgqxLeil\n",
       "7VZKQS8NPRZsFw+FQktyKXiR7kFK8GJO2oOgLQj9gwoWQiOV4ElPRqGHnipW2l4Klt68JLToxUtn\n",
       "dmc2Oz+bHUXcDrwl+Wa+977d92Z2dgAgC3wTEQj5Ai3Yo8tzvEJ4BV7oPxAd1gV8TRx6yRewWypn\n",
       "m2qTuVk7FU8S9dxF3+DRAQiXeSySlwBhkwMPDIBBsE2tCX6h85MQXvu85MtDWgYDF60V+Y73AI95\n",
       "7L4MSLI+te9PkKwoMbUm+IVwUQwfNX15SIsQ9dxFx8qS0bO0+GlniR/hBtbpj2tITty0je3hJ5Wn\n",
       "XyY8pXfpKjwaNTjRCRmeIDmK0EVkgR/hBobcsmCRGNPDzxJPv0x4St80lHiLQYu+KcOjZZYe4RcC\n",
       "BmBljRNTkSX4ZcNT+h013njQoifxO36v33mLaQPoRjp2WHoMLzJ9t7sdIgbGSlJZo8RUZAl+YewK\n",
       "tMJT+sTFrz48S8to0KJxNjay6UOKd6RQCceLLB0XSuo5fDHclZPfkMqaIaYiS/ALZqLcCk/o2pFR\n",
       "yLbnWVpmgha9jLS+hJiz6/gdQzcSWWDpSbT4PyjDVOu1qUOn/lQqa5iYiizBbziL3zM0PKFHDiGR\n",
       "a8uztQwHLfoNKtqmvVPQjtDFwLI7m7iWq9UPr6tVPN8SNYBpa7cEUCjagAYv8N+pavVVtfqxJatB\n",
       "jOlxt3Z+NbhlkPAtOspuV96LZ4m2tTSCFo2eZaIOhRruqeALxlNcXWL6W9COrbSYBIgcSlO8QUwl\n",
       "xYJfsNKdYusSJXpT9+RVSOk6UYMTjeZ4IQfzLcqEhmhLQllrfyDedE8XiO4YMlkjxBSnC+vXTjcN\n",
       "P+RsL6eN9jxLy0jQorfRs9ThW4QeKGjHHWgdrbP0dA60v5ApXqdkBKBazstkzRFTkSX4hRBONw1P\n",
       "n+U+WtHb8ywtc0GLHsWdkUrMWcabF8hr30XHm5RtGDGdbzkMNELcNhDu4YRMEnP1WKsKvliLWzu/\n",
       "drpj7P1mymnTh2dpmTxT0ZbWk4k+QIN37/ZddTp+oGDJGkvvRJPu0eVfu/vOE0dA5hmXyJ/vJhB3\n",
       "BWxzL3gmvVR8/EIGlyQNT+9qrwQ+PEvLypmKtrSeTHRyX1LOPfxn0yo/YlX2CWHV+5Jtap9jgl9r\n",
       "89PjRffmQStqcKLjpoRW4j/nZ72OH4TDAHxW4pyX+B4TcH4z+rzhCr+uynMiByx6S5LhOo+ks34A\n",
       "bb3E1BrnpqEvS8MDKITvDV70QxWlWt0PoG1Lnh6PxrmJDdTa3XL78FvBiw6Jh/P9Ir/bF6DfU7ap\n",
       "Npmb/lPxJFHPWfQ/N9CjRgx2a6IAAAAASUVORK5CYII=\n",
       "\" style=\"display:inline;vertical-align:middle;\" /></a><br>"
      ],
      "text/plain": [
       "<IPython.core.display.HTML object>"
      ]
     },
     "metadata": {},
     "output_type": "display_data"
    }
   ],
   "source": [
    "add_with_ranges = Add(a_prod_range, b, a_prod_range)"
   ]
  },
  {
   "cell_type": "markdown",
   "metadata": {},
   "source": [
    "Note that the *operands* are an **ExprTuple** that contains the **ExprRange**(s):"
   ]
  },
  {
   "cell_type": "code",
   "execution_count": 12,
   "metadata": {},
   "outputs": [
    {
     "data": {
      "text/html": [
       "<table><tr><th>&nbsp;</th><th>core type</th><th>sub-expressions</th><th>expression</th></tr>\n",
       "<tr><td>0</td><td>Operation</td><td>operator:&nbsp;1<br>operands:&nbsp;2<br></td><td><a class=\"ProveItLink\" href=\"__pv_it/exprrange_reductions/dd8cca8a3cf1677ab276aa1a13b649c2dd238c7d0/expr.ipynb\"><img src=\"data:image/png;base64,iVBORw0KGgoAAAANSUhEUgAAApUAAAAVBAMAAADlUAhlAAAAMFBMVEX///8AAAAAAAAAAAAAAAAA\n",
       "AAAAAAAAAAAAAAAAAAAAAAAAAAAAAAAAAAAAAAAAAAAv3aB7AAAAD3RSTlMAInZUiRDNmWbv3US7\n",
       "qzJazP2FAAAACXBIWXMAAA7EAAAOxAGVKw4bAAAD70lEQVRYw81YTUgbQRR+Sdz8R4OnIgqxLeil\n",
       "7VZKQS8NPRZsFw+FQktyKXiR7kFK8GJO2oOgLQj9gwoWQiOV4ElPRqGHnipW2l4Klt68JLToxUtn\n",
       "dmc2Oz+bHUXcDrwl+Wa+977d92Z2dgAgC3wTEQj5Ai3Yo8tzvEJ4BV7oPxAd1gV8TRx6yRewWypn\n",
       "m2qTuVk7FU8S9dxF3+DRAQiXeSySlwBhkwMPDIBBsE2tCX6h85MQXvu85MtDWgYDF60V+Y73AI95\n",
       "7L4MSLI+te9PkKwoMbUm+IVwUQwfNX15SIsQ9dxFx8qS0bO0+GlniR/hBtbpj2tITty0je3hJ5Wn\n",
       "XyY8pXfpKjwaNTjRCRmeIDmK0EVkgR/hBobcsmCRGNPDzxJPv0x4St80lHiLQYu+KcOjZZYe4RcC\n",
       "BmBljRNTkSX4ZcNT+h013njQoifxO36v33mLaQPoRjp2WHoMLzJ9t7sdIgbGSlJZo8RUZAl+YewK\n",
       "tMJT+sTFrz48S8to0KJxNjay6UOKd6RQCceLLB0XSuo5fDHclZPfkMqaIaYiS/ALZqLcCk/o2pFR\n",
       "yLbnWVpmgha9jLS+hJiz6/gdQzcSWWDpSbT4PyjDVOu1qUOn/lQqa5iYiizBbziL3zM0PKFHDiGR\n",
       "a8uztQwHLfoNKtqmvVPQjtDFwLI7m7iWq9UPr6tVPN8SNYBpa7cEUCjagAYv8N+pavVVtfqxJatB\n",
       "jOlxt3Z+NbhlkPAtOspuV96LZ4m2tTSCFo2eZaIOhRruqeALxlNcXWL6W9COrbSYBIgcSlO8QUwl\n",
       "xYJfsNKdYusSJXpT9+RVSOk6UYMTjeZ4IQfzLcqEhmhLQllrfyDedE8XiO4YMlkjxBSnC+vXTjcN\n",
       "P+RsL6eN9jxLy0jQorfRs9ThW4QeKGjHHWgdrbP0dA60v5ApXqdkBKBazstkzRFTkSX4hRBONw1P\n",
       "n+U+WtHb8ywtc0GLHsWdkUrMWcabF8hr30XHm5RtGDGdbzkMNELcNhDu4YRMEnP1WKsKvliLWzu/\n",
       "drpj7P1mymnTh2dpmTxT0ZbWk4k+QIN37/ZddTp+oGDJGkvvRJPu0eVfu/vOE0dA5hmXyJ/vJhB3\n",
       "BWxzL3gmvVR8/EIGlyQNT+9qrwQ+PEvLypmKtrSeTHRyX1LOPfxn0yo/YlX2CWHV+5Jtap9jgl9r\n",
       "89PjRffmQStqcKLjpoRW4j/nZ72OH4TDAHxW4pyX+B4TcH4z+rzhCr+uynMiByx6S5LhOo+ks34A\n",
       "bb3E1BrnpqEvS8MDKITvDV70QxWlWt0PoG1Lnh6PxrmJDdTa3XL78FvBiw6Jh/P9Ir/bF6DfU7ap\n",
       "Npmb/lPxJFHPWfQ/N9CjRgx2a6IAAAAASUVORK5CYII=\n",
       "\" style=\"display:inline;vertical-align:middle;\" /></a></td></tr>\n",
       "<tr><td>1</td><td>Literal</td><td></td><td><a class=\"ProveItLink\" href=\"../packages/proveit/numbers/addition/__pv_it/common/4b7effaab3619a1c2c38fe2dee8601df8ec714590/expr.ipynb\"><img src=\"data:image/png;base64,iVBORw0KGgoAAAANSUhEUgAAAA4AAAAOBAMAAADtZjDiAAAAHlBMVEX///8AAAAAAAAAAAAAAAAA\n",
       "AAAAAAAAAAAAAAAAAACGjDitAAAACXRSTlMARGZUdpnd76sKo+zpAAAACXBIWXMAAA7EAAAOxAGV\n",
       "Kw4bAAAAH0lEQVQI12NgYGAQYoAAE2LosLS08rS0DKLVI9EgewAshQUueejZFAAAAABJRU5ErkJg\n",
       "gg==\n",
       "\" style=\"display:inline;vertical-align:middle;\" /></a></td></tr>\n",
       "<tr><td>2</td><td>ExprTuple</td><td>4, 3, 4</td><td><a class=\"ProveItLink\" href=\"__pv_it/exprrange_reductions/5a6b1d43d7c418da1bd9df2d7a82a0e5c4614b9a0/expr.ipynb\"><img src=\"data:image/png;base64,iVBORw0KGgoAAAANSUhEUgAAAjwAAAAVBAMAAACwHSl+AAAAMFBMVEX///8AAAAAAAAAAAAAAAAA\n",
       "AAAAAAAAAAAAAAAAAAAAAAAAAAAAAAAAAAAAAAAAAAAv3aB7AAAAD3RSTlMAInZUiRDNmWbv3US7\n",
       "qzJazP2FAAAACXBIWXMAAA7EAAAOxAGVKw4bAAAFEUlEQVRYw51YTWhcVRQ+8/MyM5lpGLISsTix\n",
       "YrtRo9RAsnFw4yo6ZFEQUiabYjbFQYKEunBWqYtAoxCoreBAK8EpluDK2SVuXBqiaBcKFXdBSDSm\n",
       "m4L03nPfve/ce857mc6B+7jvnO+797vn3Z/3HgDUwRTf6qk3ogMtlx7KYubSG0v35IZrBd05GEkT\n",
       "0vLTpgT2HamzsIDXVm0ERG4SE2nMzmXjzp2OdyS5g1M1Ie1iXDw7D/lucsfCFxHi20EL4ILurJsl\n",
       "hTUFf7eQZmzxlq0VmuEgOgTHw9qhILKmCzCSJlWiJVN8uwtwxd2wMDru+q7fPlBSxlQhRG68J3gp\n",
       "phl731YuhbjxJsWx8CUDkTUR4tNoUqWkHnZJeuDXXY2FqaNq66+q9sodj8hN7MnQjB3bymo2joWp\n",
       "43sINJU7I2lSpaKqFSlecRlnYeooNIgU2PSIQqOye9Ml+8TWNjJxPEwdr0OoaRNG0rQJM+o6I4XH\n",
       "XFJZeCY1PcsekduM7F62lWLPNruUiWNhz+GnZ5kSn07TMqyoqy65X6bc/h6dVyMs7tnbMKwdCOHp\n",
       "mQdK5KabgrNvTSYL/4W9mGaeyf7L5hgpNQPgwirFsbB2LKyK6ZmnxBRN3vASTfMut4N6zU3sYlVN\n",
       "1fISzSMNawdCeHrWgBLlR1L9DH5y668EN2MaWvtK9I+bux6wOaA4FtYOhPD0rFFiiiZveImmNbij\n",
       "rqpEN6FkJzb8VVIjLLjVHIa1AyE8PbNAidx0b+914ZpzTOFmPGtv32zB5+acmvaBE9MfUVwY1g4D\n",
       "4emZpURZkz+8RNMs3FZXVUpH5lhs61G3KmrME0cWHoa1AyFQ6ve/udXv7zkph0CJ3HRvn5iXguiR\n",
       "drQKJzENTQ3wP7Nfbjsgdhph2hwuDGuHgcC1fv+Lfv9b8DQdQqYmf3iJpkObnsoOtLf1U+jEDxGq\n",
       "G4Tvh2/HED579PSubmSn50uIHuv6lpnJvZgWv29Vj934LRA7RckDmh4vrB2FE3H2DChR1uQPL9E0\n",
       "sIur3YAbCeNqpDrrkdnnh+/EEJ6eOaBEeSL/C+Uj723P0OLXntKJXSw+cGyvRXAsrFcbQnh65mgH\n",
       "siZ/eImmOfhBXVVpT8OvBftpFj0uqh12R9dACGsHQnh61iEm8ncf21R0DGeWXnPu57djGlL+1zuK\n",
       "rtQaAbC93SQ4FlYOA+HpWacdyJr84SWa1u2xV2sUtkpuHzx6Jj47cTGGYe1AiJeed+vxIamJuLHg\n",
       "BTeOR6QpJWeuk7zF3rBnK4IewI+mot8OPOBhrktwLKwdCPHS4zStyHLk4SWaVuBAf7kpyv47Z19x\n",
       "8Qeqn3FcjF9L4YMYQtPzx1dXlecexMR+K95dcDlvkabg8ot/7j90bf2uL5qGlMtvd01lohcAz3xK\n",
       "cSysHQih6Uk0OWIip5M6vETTPRhXPYw/FJbks3h9A4QwdRToz4JczxILfCaLTeFpg7SEgpX70r+b\n",
       "Xnr4vvTWbElBB8NqUiX1i828gjZBCFNHtRt+3SGxyBuUmvq5fOI+Ch2lCCkftgR3Pf0LmnySWlLQ\n",
       "wbCadNkFU8IntYN7F84NFt5NOQSec8QFvg0KTU0c6xMHaYSClVpdbj4tXKtnaAo6GFaTLotxEbvL\n",
       "m59UYXAxRcquI/L/c2JTH36c6HMUrEQ7cvNpYQnvSEEHw2rSJdcwJbApOpPCcE7+O5mvB0RhUjZS\n",
       "aMwms3GTp+MdKV8fSZMqTwB7CY9i2Od21QAAAABJRU5ErkJggg==\n",
       "\" style=\"display:inline;vertical-align:middle;\" /></a></td></tr>\n",
       "<tr><td>3</td><td>Variable</td><td></td><td><a class=\"ProveItLink\" href=\"../packages/proveit/__pv_it/common/195236b98c6c564a75b5dbada74b173bc52d5c3e0/expr.ipynb\"><img src=\"data:image/png;base64,iVBORw0KGgoAAAANSUhEUgAAAAkAAAAOBAMAAAAPuiubAAAAMFBMVEX///8AAAAAAAAAAAAAAAAA\n",
       "AAAAAAAAAAAAAAAAAAAAAAAAAAAAAAAAAAAAAAAAAAAv3aB7AAAAD3RSTlMAELvv3c2ZVESJq3Yi\n",
       "MmZ3LnoBAAAACXBIWXMAAA7EAAAOxAGVKw4bAAAAT0lEQVQI12NgVHZgAALWBBDJXwAi+wVA5BQQ\n",
       "wRC1ezkDA+NXAfkDDOwfGZg3MLAFMPBPYGCZwNBfAFKeL8DAf4HRjoGB6wET0AjGlXkMDAAVqA7Q\n",
       "GyenWgAAAABJRU5ErkJggg==\n",
       "\" style=\"display:inline;vertical-align:middle;\" /></a></td></tr>\n",
       "<tr><td>4</td><td>ExprRange</td><td>lambda_map:&nbsp;5<br>start_index:&nbsp;6<br>end_index:&nbsp;7<br></td><td><a class=\"ProveItLink\" href=\"__pv_it/exprrange_reductions/37b1f1b9613f8ea90e817111ad8af41ae9a1caf10/expr.ipynb\"><img src=\"data:image/png;base64,iVBORw0KGgoAAAANSUhEUgAAAQUAAAAVBAMAAAC9GeaNAAAAMFBMVEX///8AAAAAAAAAAAAAAAAA\n",
       "AAAAAAAAAAAAAAAAAAAAAAAAAAAAAAAAAAAAAAAAAAAv3aB7AAAAD3RSTlMAInZUiRDNmWbv3US7\n",
       "qzJazP2FAAAACXBIWXMAAA7EAAAOxAGVKw4bAAAC60lEQVRIx32WPYgTQRTHX3azt8nmw3CVCAcb\n",
       "FFIpK5xX2BjsI+EKQThJmgMbIYWIXGO6Ky924lkE7iSYQsJ1dnsH1h6HyNmd2F1jVHJNGue93Zmd\n",
       "2ZndKTYz7/9+896+mcksADQg3RqZA6MhMWdIvBUyMLACzX4k9TXZ4C+go/wcbmZgsJ62tsAaJiNN\n",
       "XicXtdU/AEEyqDe7nbbUvxDi9NPCIcC2GGgyGQ5V29OXC4ig7bwcHmsWq0+Ia0p9V/Q0WTZUeN9a\n",
       "xNBuXg6vjFaGlE32clf0NEkuri/ngFACGtoIMmJtmOwr4mU1eSMzB4RWcjaE3YeMWC/wd+3hqljv\n",
       "FpumeMqHKBe+NX2QDOSi54BQAurNbauRADZvR9gzXNc38JUXsVhhJSuJlFH+3KguQDKQi54DQqV+\n",
       "dg5YIzkSwKA8JOSA9Z8MYYfbf7lsGlssHZOdt+COQTKQi54DQvYoOwcvUCOB1bgWELLPBq+j0+Zc\n",
       "sUe3zCauz7kfk905eG0uo4FcwJ1OP76bTk9FDggloGHzzUQk6OFbOPCgSwjm8B6cJSoTfKC9MpJy\n",
       "KIfQmwl5P3bR64BQZZSfA4/kDci0E2FY7L9QSvJ/7rDJx1Lpez7sgbwW5GJYi7EMGtdCjRTVhCEn\n",
       "LId/UOvf5ediWWT7JKRSscbkXgDfbXEbncQuhj0ZyqDasHBVX43EDtwywjo07/3BgP+Fz6/Hx4jW\n",
       "rIOsPXEF14ldlByKf+KzJ0DaPDSDGOG5lSNBVBOGXOL//a2fZxdcOGfnxcP199hFhLJz9mjtjuAu\n",
       "Yxc5h9qPq/MISsAJX3V6THHzjVORoIZVY4h3YVi6G/S8hx5pWTbYfhpKwNR/JC7GJ22X+hFSGmTe\n",
       "LlhXTZYNlWEaSkC1FUG/0GrBXjdGjg3fOyHtTnpLTT7O+kgKVVBpm/ioqp9Zv4MDHmtLny5ytqiv\n",
       "yVsZOSAkg0qjrJxQvT9aMx6roGfdlF8vLRv8BdTM/5ZbNWP/AZO/u3gtqwBDAAAAAElFTkSuQmCC\n",
       "\" style=\"display:inline;vertical-align:middle;\" /></a></td></tr>\n",
       "<tr><td>5</td><td>Lambda</td><td>parameter:&nbsp;13<br>body:&nbsp;9<br></td><td><a class=\"ProveItLink\" href=\"__pv_it/exprrange_reductions/d2c7845bce44c042aa36bf9875459f3e275aa7dd0/expr.ipynb\"><img src=\"data:image/png;base64,iVBORw0KGgoAAAANSUhEUgAAAHkAAAAVCAMAAABVErFaAAAANlBMVEX///8AAAAAAAAAAAAAAAAA\n",
       "AAAAAAAAAAAAAAAAAAAAAAAAAAAAAAAAAAAAAAAAAAAAAAAAAABHL6OuAAAAEXRSTlMAMrsiq4l2\n",
       "RO8QZpndVM3z6UwP0jwAAAAJcEhZcwAADsQAAA7EAZUrDhsAAAEuSURBVEjHvVbblsMgCPRuvGDX\n",
       "///Zjcm2DUTSE91T3hIYBkdQhZgy/UUUMgdDMO9micGOVhzniEMZhpYwxZzGK4/pnkakM5aJqpdP\n",
       "i0Z+wIVCmWAuZ720sU6/ei8jH/5Ktgu5GKZDnDWnhl9WSVUNXS5QvbIJhJ+lY1ykgoWlpUu5v0rh\n",
       "1CF/hi6E3TgUB7RJUt1yvub08ZOR1erfTeJ7kFCZ7cdxstKWUxvYM2v2xQvKfIIwA4PjPFlzqK0B\n",
       "YmV6SqIDYFf7BOHExnGQqbtlM0WA7jEXNNDKdSEsM4qLivhbNlj1eirmL+b5bzAohDMct46kVE9r\n",
       "tQTjrNTGyR7W4r9yF4SHXKXOfubcznL8Xs8zxHeP/X+6bPatG31caDX5Mgjq2yW/ax971mzX7S9a\n",
       "IAoW2RVJdwAAAABJRU5ErkJggg==\n",
       "\" style=\"display:inline;vertical-align:middle;\" /></a></td></tr>\n",
       "<tr><td>6</td><td>Variable</td><td></td><td><a class=\"ProveItLink\" href=\"../packages/proveit/__pv_it/common/ae955345c83abf786c3aff8681cd5465beae262d0/expr.ipynb\"><img src=\"data:image/png;base64,iVBORw0KGgoAAAANSUhEUgAAAAcAAAAOBAMAAAARcxsoAAAALVBMVEX///8AAAAAAAAAAAAAAAAA\n",
       "AAAAAAAAAAAAAAAAAAAAAAAAAAAAAAAAAAAAAADAOrOgAAAADnRSTlMAdpndiRBmRO8yVM2rIuws\n",
       "s0IAAAAJcEhZcwAADsQAAA7EAZUrDhsAAAA6SURBVAjXY2BgEGIAAhMGdMAqlMDAwMLewMAwi2kD\n",
       "A0MAhwBQcF0AkNjDCpR9zsLAwPngGpB7LIEBALAvCJF4nqyTAAAAAElFTkSuQmCC\n",
       "\" style=\"display:inline;vertical-align:middle;\" /></a></td></tr>\n",
       "<tr><td>7</td><td>Variable</td><td></td><td><a class=\"ProveItLink\" href=\"../packages/proveit/__pv_it/common/1ed21df18baca2f42b561a7ffbf30a2743d594650/expr.ipynb\"><img src=\"data:image/png;base64,iVBORw0KGgoAAAANSUhEUgAAAAoAAAASBAMAAACQmVJ4AAAAMFBMVEX///8AAAAAAAAAAAAAAAAA\n",
       "AAAAAAAAAAAAAAAAAAAAAAAAAAAAAAAAAAAAAAAAAAAv3aB7AAAAD3RSTlMAMrsQds2rme9mIlTd\n",
       "iUQmv6lAAAAACXBIWXMAAA7EAAAOxAGVKw4bAAAATElEQVQI12NgYGBgVAYSDCwBDNiAiRuILOCY\n",
       "AFSxgH8DAwMzw34DkFANWPosiOD6ByI5P4BINgUQyeEAZG2YD1Qov+E0kM/u/oCBAQDY7wxV/Qz6\n",
       "SAAAAABJRU5ErkJggg==\n",
       "\" style=\"display:inline;vertical-align:middle;\" /></a></td></tr>\n",
       "<tr><td>8</td><td>ExprTuple</td><td>13</td><td><a class=\"ProveItLink\" href=\"__pv_it/exprrange_reductions/4b0dd6be36d76552eda6a95d5b4a27f5a5b62f900/expr.ipynb\"><img src=\"data:image/png;base64,iVBORw0KGgoAAAANSUhEUgAAACUAAAAVBAMAAAAzyjqdAAAAMFBMVEX///8AAAAAAAAAAAAAAAAA\n",
       "AAAAAAAAAAAAAAAAAAAAAAAAAAAAAAAAAAAAAAAAAAAv3aB7AAAAD3RSTlMAInZUiRDNmWbv3US7\n",
       "qzJazP2FAAAACXBIWXMAAA7EAAAOxAGVKw4bAAAAyUlEQVQY013QrwvCQBTA8e885344ZFkQtn9A\n",
       "DGL2H1D8AwQtgtFgMK4ZXRQsA4NVbLZpNoiI2Wyy2D0N2+4evHe8D7zH3QE+xfh3pZZih19pK0Qp\n",
       "AnOsGhOwIs2W4GiEM6CjWyVinnfGPQygfGWa29H3PmCP2WZkrrESEDGbzKw3bhdq74I5KaM9VOPC\n",
       "7ChgJQ+RcM6txUP42Cm9zLxA7Cy5tstLbr3IOGHe+o0muHvcp/aOurziTLOFzJNKRirLUDXv9/lG\n",
       "oFgIXx7XJBUkcPjNAAAAAElFTkSuQmCC\n",
       "\" style=\"display:inline;vertical-align:middle;\" /></a></td></tr>\n",
       "<tr><td>9</td><td>Operation</td><td>operator:&nbsp;10<br>operands:&nbsp;11<br></td><td><a class=\"ProveItLink\" href=\"__pv_it/exprrange_reductions/5c28ea155f951ea857b37b991cebc65e72806cf00/expr.ipynb\"><img src=\"data:image/png;base64,iVBORw0KGgoAAAANSUhEUgAAADMAAAAJBAMAAABtbgnSAAAAMFBMVEX///8AAAAAAAAAAAAAAAAA\n",
       "AAAAAAAAAAAAAAAAAAAAAAAAAAAAAAAAAAAAAAAAAAAv3aB7AAAAD3RSTlMAIquJdkTvuxBmmd1U\n",
       "zTKBpmoTAAAACXBIWXMAAA7EAAAOxAGVKw4bAAAAY0lEQVQI12NgYFR2dGBAA1CxMAH2H+hSEDGO\n",
       "TAauDWgyUDGuDwzcBiDuX4QUVIytgKE/AMTfhZCCivU7MMxHtwoq1n+AQZdHAE0KIsbuwLOLC00X\n",
       "VIxDxU7IDybGVw4EhVAxAAkMGWeVmnPDAAAAAElFTkSuQmCC\n",
       "\" style=\"display:inline;vertical-align:middle;\" /></a></td></tr>\n",
       "<tr><td>10</td><td>Literal</td><td></td><td><a class=\"ProveItLink\" href=\"../packages/proveit/numbers/multiplication/__pv_it/common/ed719cef37831779c16481533a4d380a2f95ab270/expr.ipynb\"><img src=\"data:image/png;base64,iVBORw0KGgoAAAANSUhEUgAAAAMAAAADBAMAAACkBqiMAAAAElBMVEX///8AAAAAAAAAAAAAAAAA\n",
       "AABknMCaAAAABXRSTlMAEM3dmbZAxI8AAAAJcEhZcwAADsQAAA7EAZUrDhsAAAARSURBVAjXY2Bg\n",
       "YBBVYGB2AAABOAB5TiANUQAAAABJRU5ErkJggg==\n",
       "\" style=\"display:inline;vertical-align:middle;\" /></a></td></tr>\n",
       "<tr><td>11</td><td>ExprTuple</td><td>12, 13</td><td><a class=\"ProveItLink\" href=\"__pv_it/exprrange_reductions/d35d5da9ea47b0747138f514695542cba26a2fff0/expr.ipynb\"><img src=\"data:image/png;base64,iVBORw0KGgoAAAANSUhEUgAAADkAAAAVBAMAAAAOWFv7AAAAMFBMVEX///8AAAAAAAAAAAAAAAAA\n",
       "AAAAAAAAAAAAAAAAAAAAAAAAAAAAAAAAAAAAAAAAAAAv3aB7AAAAD3RSTlMAInZUiRDNmWbv3US7\n",
       "qzJazP2FAAAACXBIWXMAAA7EAAAOxAGVKw4bAAAA9klEQVQoz2NgYBBgwA7A4kwGOGQ3gQgTHJIM\n",
       "TA0MDKwJuGQZUhkY2BtwyrYzMHDilGTgDGAwwy3L1sBQAqQYrygqoIhDBFguMGQAOTsFeL6iyEIE\n",
       "OBIYFgOdPYOBfQGyJFSAeQLDbKCzPzBwOSDLQgX4PoBkOQ8wxG9AcSxEgHsCyOR4BYZ+FGuhAswL\n",
       "GA4BOQYM15gFWJFkwQIMHAcYfBkYeBSYl7MzxCOCFCLAwO7A8AroxEt+snoMXEuB7jgDBAehAgxc\n",
       "Gxi4HsB0mKKHlRTQywUwjgO6bAUQH4QFgQKaJOMBIBEDi2x0rTygpMOogCOKFBkYADa9MjQd2vTT\n",
       "AAAAAElFTkSuQmCC\n",
       "\" style=\"display:inline;vertical-align:middle;\" /></a></td></tr>\n",
       "<tr><td>12</td><td>Variable</td><td></td><td><a class=\"ProveItLink\" href=\"../packages/proveit/__pv_it/common/c06c606ec12678c58933ac85412ecadc2ae28be60/expr.ipynb\"><img src=\"data:image/png;base64,iVBORw0KGgoAAAANSUhEUgAAAAsAAAAJBAMAAAAWSsseAAAAMFBMVEX///8AAAAAAAAAAAAAAAAA\n",
       "AAAAAAAAAAAAAAAAAAAAAAAAAAAAAAAAAAAAAAAAAAAv3aB7AAAAD3RSTlMAIquJdkTvuxBmmd1U\n",
       "zTKBpmoTAAAACXBIWXMAAA7EAAAOxAGVKw4bAAAARUlEQVQI12NgYFR2dGBgYAgTYP/BwMCRycC1\n",
       "gYGB6wMDtwEDA1sBQ38AA0O/A8N8oIr+Awy6PAIM7A48u7iAKlXshPwYAE2lCqdX0eXEAAAAAElF\n",
       "TkSuQmCC\n",
       "\" style=\"display:inline;vertical-align:middle;\" /></a></td></tr>\n",
       "<tr><td>13</td><td>Variable</td><td></td><td><a class=\"ProveItLink\" href=\"__pv_it/exprrange_reductions/006c465e50948aa2b52285e2de47974f741255cc0/expr.ipynb\"><img src=\"data:image/png;base64,iVBORw0KGgoAAAANSUhEUgAAABgAAAAJBAMAAADa0/H1AAAAMFBMVEX///8AAAAAAAAAAAAAAAAA\n",
       "AAAAAAAAAAAAAAAAAAAAAAAAAAAAAAAAAAAAAAAAAAAv3aB7AAAAD3RSTlMAMrsiq4l2RO8QZpnd\n",
       "VM2humBGAAAACXBIWXMAAA7EAAAOxAGVKw4bAAAASUlEQVQI12NggAKTMDMYk4G9mUF/AowzYwHD\n",
       "HrjMfgaGo3BOEwPndxib8xsD1wc45y8Dy4PLMJ4aw50NGxiElIDAgGFKqrCbAAD2sxBIUZwn3gAA\n",
       "AABJRU5ErkJggg==\n",
       "\" style=\"display:inline;vertical-align:middle;\" /></a></td></tr>\n",
       "</table>\n"
      ],
      "text/plain": [
       "0. (a * i) +  (a * (i + 1)) +  ... +  (a * j) + b+ (a * i) +  (a * (i + 1)) +  ... +  (a * j)\n",
       "   core type: Operation\n",
       "   operator: 1\n",
       "   operands: 2\n",
       "1. +\n",
       "   core type: Literal\n",
       "   sub-expressions: \n",
       "2. ((a * i), (a * (i + 1)), ..., (a * j), b,(a * i), (a * (i + 1)), ..., (a * j))\n",
       "   core type: ExprTuple\n",
       "   sub-expressions: 4, 3, 4\n",
       "3. b\n",
       "   core type: Variable\n",
       "   sub-expressions: \n",
       "4. (a * i), (a * (i + 1)), ..., (a * j)\n",
       "   core type: ExprRange\n",
       "   lambda_map: 5\n",
       "   start_index: 6\n",
       "   end_index: 7\n",
       "5. _a -> (a * _a)\n",
       "   core type: Lambda\n",
       "   parameter: 13\n",
       "   body: 9\n",
       "6. i\n",
       "   core type: Variable\n",
       "   sub-expressions: \n",
       "7. j\n",
       "   core type: Variable\n",
       "   sub-expressions: \n",
       "8. (_a)\n",
       "   core type: ExprTuple\n",
       "   sub-expressions: 13\n",
       "9. a * _a\n",
       "   core type: Operation\n",
       "   operator: 10\n",
       "   operands: 11\n",
       "10. *\n",
       "    core type: Literal\n",
       "    sub-expressions: \n",
       "11. (a, _a)\n",
       "    core type: ExprTuple\n",
       "    sub-expressions: 12, 13\n",
       "12. a\n",
       "    core type: Variable\n",
       "    sub-expressions: \n",
       "13. _a\n",
       "    core type: Variable\n",
       "    sub-expressions: "
      ]
     },
     "metadata": {},
     "output_type": "display_data"
    }
   ],
   "source": [
    "add_with_ranges.expr_info()"
   ]
  },
  {
   "cell_type": "markdown",
   "metadata": {},
   "source": [
    "For convenience, there is a `var_range` method for creating an **ExprRange** over an indexed variable."
   ]
  },
  {
   "cell_type": "code",
   "execution_count": 13,
   "metadata": {},
   "outputs": [
    {
     "data": {
      "text/html": [
       "<a class=\"ProveItLink\" href=\"__pv_it/exprrange_reductions/d50f819f834d55ea1b9fad150926a94bf07ad8fc0/expr.ipynb\"><img src=\"data:image/png;base64,iVBORw0KGgoAAAANSUhEUgAAAHgAAAANBAMAAACQpbeTAAAAMFBMVEX///8AAAAAAAAAAAAAAAAA\n",
       "AAAAAAAAAAAAAAAAAAAAAAAAAAAAAAAAAAAAAAAAAAAv3aB7AAAAD3RSTlMAEHarMolUmd1mIs3v\n",
       "RLtmgJDEAAAACXBIWXMAAA7EAAAOxAGVKw4bAAABQElEQVQoz2NgEFIWCU1ggANGJUPXMAZ8AFlD\n",
       "AZMRewNCip1BWaECr2YkDZwLOD8yT2CQ3ACVmsUwX8CSQTTYEJdeqAYwYGFgB+pjUYJZ7sBQDTKd\n",
       "AaftEA0wwKMAJNgQLj8ExH8Z1jvgdDdYAxTcX8AogKSZ9xeDIMNEfJpBGjgrndQZGOQu2DCwQmxm\n",
       "BAX2W+YDDAFARgQDgwCGNpAKiAbJOxN4FjDkO9YwXINolgf6he2L+AFeYESwNDIw/maAiIEZcB5E\n",
       "w0JtBn4BBnEltsoEiGaORqCaIoX0aUBl64DWdgAxRwGQ084AJUAqoBqMGO7AHQT2cyKcy1XAtYCB\n",
       "DdPdCBVHGMpZUDQHwKXWubgLgIICHcBVcH1gaEmBsaO/KjAwIqLg/P//wHSIGWBwFbwGDKoTkKWY\n",
       "0JQqYGhGUwEAioVH6/Sy9NcAAAAASUVORK5CYII=\n",
       "\" style=\"display:inline;vertical-align:middle;\" /></a>"
      ],
      "text/plain": [
       "x_{1}, x_{2}, ..., x_{n}"
      ]
     },
     "metadata": {},
     "output_type": "display_data"
    }
   ],
   "source": [
    "from proveit import var_range, IndexedVar\n",
    "var_range(x, one, n)"
   ]
  },
  {
   "cell_type": "markdown",
   "metadata": {},
   "source": [
    "Because of the `relabeling` freedom of **Lambda** expressions (alpha conversion), this is treated as `__eq__` to any similar **ExprRange** using any `parameter`."
   ]
  },
  {
   "cell_type": "code",
   "execution_count": 14,
   "metadata": {},
   "outputs": [
    {
     "data": {
      "text/plain": [
       "True"
      ]
     },
     "metadata": {},
     "output_type": "display_data"
    }
   ],
   "source": [
    "var_range(x, one, n) == ExprRange(k, IndexedVar(x, k), one, n)"
   ]
  },
  {
   "cell_type": "code",
   "execution_count": 15,
   "metadata": {},
   "outputs": [
    {
     "data": {
      "text/plain": [
       "True"
      ]
     },
     "metadata": {},
     "output_type": "display_data"
    }
   ],
   "source": [
    "var_range(x, one, n) == ExprRange(a, IndexedVar(x, a), one, n)"
   ]
  },
  {
   "cell_type": "markdown",
   "metadata": {},
   "source": [
    "Also note that there are a variety of variable ranges already defined for convenience \n",
    "in <a class=\"ProveItLink\" href=\"../packages/proveit/core_expr_types/_theory_nbs_/common.ipynb\">proveit.core\\_expr\\_types.\\_theory\\_nbs\\_/common.ipynb</a>:"
   ]
  },
  {
   "cell_type": "code",
   "execution_count": 16,
   "metadata": {},
   "outputs": [],
   "source": [
    "from proveit.core_expr_types import a_i_to_j, a_1_to_n, x_1_to_n"
   ]
  },
  {
   "cell_type": "code",
   "execution_count": 17,
   "metadata": {},
   "outputs": [
    {
     "data": {
      "text/html": [
       "<a class=\"ProveItLink\" href=\"__pv_it/exprrange_reductions/442032b0c138413ed0a2bedb35dc220b29e3d94d0/expr.ipynb\"><img src=\"data:image/png;base64,iVBORw0KGgoAAAANSUhEUgAAAZEAAAAWBAMAAADzzbywAAAAMFBMVEX///8AAAAAAAAAAAAAAAAA\n",
       "AAAAAAAAAAAAAAAAAAAAAAAAAAAAAAAAAAAAAAAAAAAv3aB7AAAAD3RSTlMAInZUiRDNmWbv3US7\n",
       "qzJazP2FAAAACXBIWXMAAA7EAAAOxAGVKw4bAAADfElEQVRYw91XTWgTQRh9m2Td/LTJKhZBWkxL\n",
       "sSBUKmiFHrTU4kGorNXSCv3JRejNRfypXoyIemz0JFi0oKXgoQQ99aKxIAgWLcGKHoQoithDiT/1\n",
       "Umid2ZmdnU2yMQcPNQPdzPvme9+btzszuwWg4/9vlgdfWxU4eUQve6vACHxJQE1UgxOcArRkVTi5\n",
       "AYSqwghCBtqrw8mmJM6SH+VNY9wJNnRtqZDu5hUS/1qnIEFtWvx8yBOWaL2tw932wRtYwCj5mdVr\n",
       "VoBjLBa5idcG1EreMoyHnEwUrQAWt8IEDa3xS56wRDN9WW2S94MJ3Cfub4NGuljsZBKkQMC+2ep1\n",
       "z0qchxmZOGCfhRZUuz94umH5TruCceOdo8fgiZ5FL35QD67U2ueVP4U7xH0e4U6RcBl4YJsmf592\n",
       "eTpx8xgx2jQpQw3irhU1SchqOZyX9Rg04flcotCcN0g0T52EMhhJi9gE1FXezdBLh/d54eJxon9S\n",
       "hrG0suZFl4R4u+XWo3AVO3LeE3B2aSRFV9dIHOPkhb/AlswPBPOItFbghPHUljaJKJwwGDQ8nfCE\n",
       "sU8tYjbf0SfpWfBaOSdPddXgBYjsHJlRG9766+Jk85I1rf5EbWJPb8yQnRSvdRWcp2v+hES0nNBB\n",
       "DhGYtGBBE/kDs8mQzggva1PoFHo2xBEv+cH0ewTACiCYQQ9QE/dPa8pxIvmbJMyhwzTrOuRnYsVH\n",
       "ErwjkMVDX8CUiJYTOsghlgyHacUFYkI7EWMZ/rX+VKRN6NkwOlWKSzsHv1zEY7AC0DqxRMayRxt2\n",
       "k3kBD0lsqPljNkdktPn5ifkX7B7ReJju/2nwS3jK5tGXkkSkTuggh8pzDi2SaV+c/CxmebUz8f1X\n",
       "IfRsWG9I8mIOlNDf5B8jVq0CCKcRtpfhyDC5EfZzVFdy8uryFz/ffaIX0+UEa584g9uwWYYiS+Tf\n",
       "xYWoK8Otp5iKXl6eFdhOFpjJI+0aWdRCKWHKTgLFK905fr+5EiwnYlB5tXxOzrWbyFfymDngynDr\n",
       "1S9/NcrK8wJjpPuMh4Yayftf7Kiszp1sPd0lxZ0t5xyA9JgTCcrhX3FpMLS+npdzxYeGOKAW0JyU\n",
       "Mwr07q2vl5dnBRQ61UEpoUAy4xGn/9o43dGiBB/KwRIFfeWHy8pbrYbeeCXu/WFTyUfok9QG+BRu\n",
       "/Ac1tBZjY3zX/wFCJBFW/brSPAAAAABJRU5ErkJggg==\n",
       "\" style=\"display:inline;vertical-align:middle;\" /></a>"
      ],
      "text/plain": [
       "(a_{i}, a_{i + 1}, ..., a_{j},a_{1}, a_{2}, ..., a_{n},x_{1}, x_{2}, ..., x_{n})"
      ]
     },
     "metadata": {},
     "output_type": "display_data"
    }
   ],
   "source": [
    "ExprTuple(a_i_to_j, a_1_to_n, x_1_to_n)"
   ]
  },
  {
   "cell_type": "markdown",
   "metadata": {},
   "source": [
    "### Showing the explicit parameterization\n",
    "\n",
    "Some **ExprRanges** can be ambiguous in the default formatting style.  For example, the following expression are different but have identical default formatting.  UPDATE: We now require indices to be in a canonical form which presents this issue."
   ]
  },
  {
   "cell_type": "code",
   "execution_count": 18,
   "metadata": {},
   "outputs": [
    {
     "data": {
      "text/html": [
       "<strong id=\"range__add1__0_to_n\">range__add1__0_to_n:</strong> <a class=\"ProveItLink\" href=\"__pv_it/exprrange_reductions/babb12e95e7f8f1534af9dc7456ac09bc399be4a0/expr.ipynb\"><img src=\"data:image/png;base64,iVBORw0KGgoAAAANSUhEUgAAAPcAAAAVBAMAAABoLmXpAAAAMFBMVEX///8AAAAAAAAAAAAAAAAA\n",
       "AAAAAAAAAAAAAAAAAAAAAAAAAAAAAAAAAAAAAAAAAAAv3aB7AAAAD3RSTlMAInZUiRDNmWbv3US7\n",
       "qzJazP2FAAAACXBIWXMAAA7EAAAOxAGVKw4bAAACg0lEQVRIx42WO2gUQRiA/7vdze3dXjYSUomQ\n",
       "FUEsBENQQZss6cXFIqIoWRDBRjwhSLA6ELSx2MZCUxgIIlkfhFRqddoL14haKFenMfERBEGcf+Zm\n",
       "srsz/5xb7M3r+7+b9wLAPjA/NTJTfCh6FCfA+gxRG0SFzCEqxqZdTnICPA7gzt+sVm0lAEf2sk4M\n",
       "ED6pNsKSetfmRs7wSNBLAa7AxfLoeR9vMPlYogoWAC7f+lUJIUqu2uQLxlIFNrrgr4LbE8WvZP0x\n",
       "JvY7qvkyzo+UB7KzvOSeTb5cnsgq2ARo98EZBp4tyuGBwrKi3ImKMZqJRZ6VJ6EKngSY6ED4wyS/\n",
       "pqiUlo9ZJp1zlJyBSwCLTP7bJD8jc42Ylrt9Wo7c5oepoxEBst5NxxB+N8nvyhzvHSH3U1qOXPw+\n",
       "8nYIcE3If5rkp2SuNUPLnYyWMy7YeA61vwS4woY9hgB7fjvPH+b5iz35NxmkuaHkjTxff5TnfRUj\n",
       "3KbljPO8P2I5m8AVvuAc44J7bZBrHQgyqxycbRhPCZANe7sHvnGrnf6vYV+1DjuaJ7qJGXzHZj6D\n",
       "RmqS38cUJtqRZcHh+eTpYsk1Y5hLYjOI22kNLgwq8rN43i5h2F25ndydqpyX8G24mA5bqoTipgdw\n",
       "2B+YwS32c37+K5TlXx5fZ7vkGSZz1oWQDe34591PZbkoaeF6aOGl8xQTnWFCcW/YWX6HAFuD4ljN\n",
       "lu5iPpsOjt9L40HFn/38fUI/3TROBwu3R/Fi4buKH5wuVG+PoKvfHfrVqXMG8C25Vg/w9zl8tckP\n",
       "lhq/D71IqxjBCfASWS3+Fg/r9ahGInxdrxjBCbAWEbX14r+epGIctH9GkRyC/wAelbnQLyOB7AAA\n",
       "AABJRU5ErkJggg==\n",
       "\" style=\"display:inline;vertical-align:middle;\" /></a><br>"
      ],
      "text/plain": [
       "<IPython.core.display.HTML object>"
      ]
     },
     "metadata": {},
     "output_type": "display_data"
    }
   ],
   "source": [
    "range__add1__0_to_n = ExprRange(k, Add(k, one), zero, n)"
   ]
  },
  {
   "cell_type": "code",
   "execution_count": 19,
   "metadata": {},
   "outputs": [
    {
     "name": "stdout",
     "output_type": "stream",
     "text": [
      "Expected Error: Start and end indices must be in the 'quick_simplified_index' canonical form: (0 + 1, n + 1) ≠ (1, n + 1)\n"
     ]
    }
   ],
   "source": [
    "try:\n",
    "    range__0_plus_1__to__n_plus_1 = ExprRange(k, k, Add(zero, one), Add(n, one))\n",
    "    assert False, \"Expected ValueError\"\n",
    "except ValueError as e:\n",
    "    print(\"Expected Error:\", e)"
   ]
  },
  {
   "cell_type": "code",
   "execution_count": 20,
   "metadata": {},
   "outputs": [
    {
     "data": {
      "text/html": [
       "<strong id=\"range__1__to__n_plus_1\">range__1__to__n_plus_1:</strong> <a class=\"ProveItLink\" href=\"__pv_it/exprrange_reductions/b707cb20373a4b119cceb7932932f5ab02c5a6000/expr.ipynb\"><img src=\"data:image/png;base64,iVBORw0KGgoAAAANSUhEUgAAAIkAAAAVBAMAAACArtDCAAAAMFBMVEX///8AAAAAAAAAAAAAAAAA\n",
       "AAAAAAAAAAAAAAAAAAAAAAAAAAAAAAAAAAAAAAAAAAAv3aB7AAAAD3RSTlMAMt0Qq5nNdoki72ZU\n",
       "u0S9iLk1AAAACXBIWXMAAA7EAAAOxAGVKw4bAAABn0lEQVQ4y5WUv0vDUBDHv0msafpDin9BiboJ\n",
       "zSCIg7Q4KNqhpVARRCg4itDBxa2D4Fq6i47SQevgXihot3YTt24OgiiFigjWd0lfzSPvFXvDce9d\n",
       "7sPd5e4B/5Xq1A6JmE2V54WUtjA6WcXjhJrSlt5SsNkAVnb7o5sLhH+UEKMku/WCDylVTtkG6kpK\n",
       "qCEcX3mdFHzvp9w6yCk7FRGPj35KxPFRNoCcsjEPEyizDR+FSUpZ0R4wd7J2/iSjhDMCRftUUo7Y\n",
       "x/EtpKsSSrQkUPSMkrIMvOldXCYklNiVQDlQj8sN4KR76LBGomDbddteHFO0dz8lmplIQQfYlPVl\n",
       "TsilDas6oSJCfBuyipKe4fq0CkzHCAKoCNDPuUasH5Z1t8ta/wWkab5rxWLBs0gZA7+BM7ZnHzBL\n",
       "dyKFghGqYGZnkIVOG5kaDgeepeeZWuKGTcnMs/KTMLJNgeIGQ++NmK1x/q1ARTGi6Anp7LpS40YF\n",
       "QYuL24poXrqNruzzvS8jYI1l1dXPyiGwurzVf09a8CuPu66kxKd4Mq2yynMK/AKh52bLCKSuYAAA\n",
       "AABJRU5ErkJggg==\n",
       "\" style=\"display:inline;vertical-align:middle;\" /></a><br>"
      ],
      "text/plain": [
       "<IPython.core.display.HTML object>"
      ]
     },
     "metadata": {},
     "output_type": "display_data"
    }
   ],
   "source": [
    "range__1__to__n_plus_1 = ExprRange(k, k, one, Add(n, one))"
   ]
  },
  {
   "cell_type": "code",
   "execution_count": 21,
   "metadata": {},
   "outputs": [
    {
     "data": {
      "text/plain": [
       "False"
      ]
     },
     "metadata": {},
     "output_type": "display_data"
    }
   ],
   "source": [
    "range__add1__0_to_n==range__1__to__n_plus_1"
   ]
  },
  {
   "cell_type": "markdown",
   "metadata": {},
   "source": [
    "We have an alternate *style* for formatting an **ExprRange** without this ambiguity.  This style is called *explicit parameterization*.  In between the first and last of the range, it shows the body of the lambda map of the **ExprRange**."
   ]
  },
  {
   "cell_type": "code",
   "execution_count": 22,
   "metadata": {},
   "outputs": [
    {
     "data": {
      "text/html": [
       "<a class=\"ProveItLink\" href=\"__pv_it/exprrange_reductions/f783420f85b274c82c097e80499a82e66a87ae3b0/expr.ipynb\"><img src=\"data:image/png;base64,iVBORw0KGgoAAAANSUhEUgAAAUUAAAAVBAMAAAAjo+EtAAAAMFBMVEX///8AAAAAAAAAAAAAAAAA\n",
       "AAAAAAAAAAAAAAAAAAAAAAAAAAAAAAAAAAAAAAAAAAAv3aB7AAAAD3RSTlMAInZUiRDNmWbv3US7\n",
       "qzJazP2FAAAACXBIWXMAAA7EAAAOxAGVKw4bAAADHUlEQVRIx42XQWgTQRSG/zS7zSabxuBRlFbw\n",
       "4EWsUgv20pJ7MXqRSksCIvQiRggivbgnvYhE0INGMBA9uCIUTxUvac+CpQetByVei2BttRQEcXay\n",
       "Ozs7+2a3Q9nOznv/v9++mZ1OAZRBt7L2RmqZVOXB4uXE3KFxTfSt1Ncm2WPxMW0y5Zwm4bkTgFG5\n",
       "qURKL5nOCe8n/LFo26oCJ+O2E0l8qnOSJMg168BVXInWeuHWH3a9Ju69pMGY1MzPNxjjcFV19pK1\n",
       "TXVOkojcnAOrA6M3GF4Jau9F74nsnBOM8fkNynCa8VkN1TrnUGvCoZ1JiUqRB4rryPrPPytH86JE\n",
       "eciM2TGJEY9VnDxVE6FRnEmJSjEJHGqgtEtEh8XbTSYwLqo4k+mMw06iRKVoAjXGuE9EjfVA1Exg\n",
       "nFVxmlL/WOUwxRg6C4l96mJlDTQFK8PoDEo7RNQSK3kxgfGuyigV1n6Ij1WC0arHJEZxA7UyTdEd\n",
       "MP4motlW4NFNYDyvMnbD7pyDJaqOobOQvC/0MNqnKdpsrmdge3Vcct0nrvtGREvbgUc7ZMy57qun\n",
       "rrsuGH+qjO2wewd4oWgUZyGp1pYxXaUp2vybyVLfjN0iGGN1fJfA+AzmX6qOdisumQY+gaZgZS72\n",
       "YFF7T7ZzkLme0s+1uQNrm5zrTlzCAPdNmoJ9S1YLuTq1Wr2NncvWEhjvez15v1sLGXcxUj9DfTO9\n",
       "MCeQPGKbtEFTzPLXmFNWq/HLW0Yz7FKrB/sLH4s870LZ32rMvUFmmBzgTjUaUU3EWZJk/mGo/oCm\n",
       "2GK/Lle+RVfCyJe9TaCwzLoF7ySxJcbk5319fp3txa+9rssKWWh4P4PkHx9YK2PhxPeNfkQjO/P8\n",
       "wN/uwNwcpykKfWqH5+0Iv57z7Prk3wx+gORLKytNdjSZ0vjO0PjHKKJnghX55ja/etMSTbKd2HHA\n",
       "kEbipwxV4ztD4x+nWNUdozJ8YZu8ANokHOXXS/LQasoR13f2v5kUf547r4sWB8d03tcm+e6RmZxP\n",
       "YyxKp9U0f56bGdNEj8tvo0saIv4R0SZTzmkSlvsfPBT5PZYFh3AAAAAASUVORK5CYII=\n",
       "\" style=\"display:inline;vertical-align:middle;\" /></a>"
      ],
      "text/plain": [
       "(0 + 1), (1 + 1), ..(_a + 1).., (n + 1)"
      ]
     },
     "metadata": {},
     "output_type": "display_data"
    }
   ],
   "source": [
    "range__add1__0_to_n.with_explicit_parameterization()"
   ]
  },
  {
   "cell_type": "code",
   "execution_count": 23,
   "metadata": {},
   "outputs": [
    {
     "data": {
      "text/html": [
       "<a class=\"ProveItLink\" href=\"__pv_it/exprrange_reductions/c3dabc7f3f05d6495140c2828b3664b6098f8e640/expr.ipynb\"><img src=\"data:image/png;base64,iVBORw0KGgoAAAANSUhEUgAAAJ4AAAAVBAMAAABF3EpTAAAAMFBMVEX///8AAAAAAAAAAAAAAAAA\n",
       "AAAAAAAAAAAAAAAAAAAAAAAAAAAAAAAAAAAAAAAAAAAv3aB7AAAAD3RSTlMAMt0Qq5nNdoki72ZU\n",
       "u0S9iLk1AAAACXBIWXMAAA7EAAAOxAGVKw4bAAAB2klEQVQ4y2NgIB1MwCXByUAOYD+AS4avAEgw\n",
       "KsNMD80VIMa8E9iFhQwYGKoZGEzCPkMF5jJw/CPCOOYErKKu+UDz2ICYHWaeJwPDKiLMY92Awn0N\n",
       "Y9QDzeIOQDJvvQGD/wTC5nGhco8jm8ewGMk8JwYGfyIC8Bg+87KRzAMCfWyJwKOyAJkfAYzHEsv2\n",
       "61jNa0Exj/E7FvNeTeD9jMwHOoGD153BfgI287ahmMfkgCXiVjOwKiAL6DAwvGO6wDBfAJt5p1DM\n",
       "i8UWnR8YmBqQBdYxMBjYP2A4D9IepKS0SklJBWGePLJ53A7YovMCA1A3qnkM5xkY3LCG3ytk804w\n",
       "cGKmF/sChv0MaP4FGfabGZt5hyDmgeUYGxjYDZgxzDvA4MYDtQYsCYrYFQw8nzmwmbcXGFk/gZpA\n",
       "eWhSaGgQhAUk7GG5ireAR5UVKgIWBCYJzo8M7Akb0czrnwBOTCxe37wZmEBlgv7//98gLKYAEJK9\n",
       "CwQTmN0bpxRCRcCSQsD0p8DA7H0A1TyX9SnAjKgH5R2G++8wvrwBkmQSwJ4/wGkflrIQKaIBn3kg\n",
       "SVCex1YeIJcVzPAcxVyAr6gCS97ErWAurMhFFL54S2YwaYtbwU1yyntOnF5gn8AAAO2wdOd1Xw+/\n",
       "AAAAAElFTkSuQmCC\n",
       "\" style=\"display:inline;vertical-align:middle;\" /></a>"
      ],
      "text/plain": [
       "1, 2, .._a.., (n + 1)"
      ]
     },
     "metadata": {},
     "output_type": "display_data"
    }
   ],
   "source": [
    "range__1__to__n_plus_1.with_explicit_parameterization()"
   ]
  },
  {
   "cell_type": "markdown",
   "metadata": {},
   "source": [
    "Because it is less compact and not typically necessary, this is not the default style for LaTeX formatting.  However, it is the default for \"string\" formatting that gets used in error messages for the sake of clarity and making the debugging process a little easier."
   ]
  },
  {
   "cell_type": "markdown",
   "metadata": {},
   "source": [
    "### Simple repetitions\n",
    "\n",
    "When an **ExprRange** has a lambda *body* that is independent of its parameter, it requires special formatting to avoid ambiguity.  The simple case in when the start index is $1$."
   ]
  },
  {
   "cell_type": "code",
   "execution_count": 24,
   "metadata": {},
   "outputs": [
    {
     "data": {
      "text/html": [
       "<a class=\"ProveItLink\" href=\"__pv_it/exprrange_reductions/2ba324d9a1e730781601e70b6d21dc2d161f13a10/expr.ipynb\"><img src=\"data:image/png;base64,iVBORw0KGgoAAAANSUhEUgAAAU0AAAAVBAMAAAAwdKHZAAAAMFBMVEX///8AAAAAAAAAAAAAAAAA\n",
       "AAAAAAAAAAAAAAAAAAAAAAAAAAAAAAAAAAAAAAAAAAAv3aB7AAAAD3RSTlMAInZUiRDNmWbv3US7\n",
       "qzJazP2FAAAACXBIWXMAAA7EAAAOxAGVKw4bAAADTElEQVRIx41WTWgTQRh9m822+TExiiCEghFR\n",
       "PAgNpQp6MQev0uChXhR7EYooepCmlB4CgnpQ6MVDLdKCSHG1behJe6re/TuIP1C6iKcebGtpEQqN\n",
       "M7M/2Z39Jpkh2WRn37z35ptvZz4ABdDNUN6EW6HTyI5oTY1EWfE0WwrdHFNxLBJ9SjCJ1tToZ9+1\n",
       "qvTk8MhH4GTr3qwA+Rfy/Gs3HSTqMVoOJqJ1YbxBoTU1rCFY325LPo1lDDTQ1eodBK6ObEscPUju\n",
       "AtdjgoOkjcswtyi0pkY3n2Gv7+iN+5MrID2B1J0APsoTxOfIekH5AkwCD2KCo6SN3rK1Q6E1NdII\n",
       "++xzf9LbyG0CTwKOiTCH6SXudBWrbEJyzghwvL1tgPmMozU1zlA+czPI7QHDQeoMURw/gVUHXXLK\n",
       "CTCZgP/godl68dyKD1Nr3KV8spbZAC76N90VioO1BSD5WbLDwYtfD50qyT6X6j7amAeKTnxYG41h\n",
       "hc91Brzv34goEBz5v0BKDh8HVz6UrE2p/9eKE6CLDrcaG9ZG47nC5xz7ng2CW6Y5Miw6ppyODJxt\n",
       "vIaxF1v3rQBtzMvh7KQx1fI5ZtuTtj3nrgLPnnUfm24EHN22/fKpbbuLPc7nuyEJMrBl7cLkcOuG\n",
       "zZsTvBQ+uiiHs5PGFB3Px+IVJTjCc01xpuwEIWhuICflwx/gUzlAt/VJadDrzs6GA8C5DmvSD6MA\n",
       "c4ZYQGZyfz26BTWr3KeH1l93X+M96fM3cBx4xP/yR/tKFEe+gkQVKZ4hVkiQg9MVnK9Gj89nYt1T\n",
       "y9R7pKEh9p6BQtSnMVursYnzPYsfIu5uktyUOIq12pi3n1wbEsgAfMTBiVQ0Yg/F/inQrX3JHaOj\n",
       "scZuVqZv1SM+M81mkym/4v9tNtk8M537sfM9yrHQbDKBDM+rDK8fZsVHgJfYWX1PKr9qrA5x0cgx\n",
       "j4bIX3eMhkYmMuu+SDUicsnkixLJejOygxfF9XSoZ75N7VakT6rOGqFio1WHeCeECHKSXyLlQ7Ye\n",
       "rzrCudim1lDUKDoa75ScPeJ6SbwbykLcPaat8PTV4Nih7jUdjStKUncGwoG1rAK57Ilwlxqs8qKj\n",
       "YZQUTxNhzoMqjqNEnxJMorU0/gOoIwuRth3wWgAAAABJRU5ErkJggg==\n",
       "\" style=\"display:inline;vertical-align:middle;\" /></a>"
      ],
      "text/plain": [
       "(1 + 2), (1 + 2), ..(n - 3) ×.., (1 + 2)"
      ]
     },
     "metadata": {},
     "output_type": "display_data"
    }
   ],
   "source": [
    "ExprRange(k, Add(one, two), one, n)"
   ]
  },
  {
   "cell_type": "markdown",
   "metadata": {},
   "source": [
    "Otherwise, the start and end indices will be provided when the **ExprRange** is formatted."
   ]
  },
  {
   "cell_type": "code",
   "execution_count": 25,
   "metadata": {},
   "outputs": [
    {
     "data": {
      "text/html": [
       "<a class=\"ProveItLink\" href=\"__pv_it/exprrange_reductions/09bab4d340ba4f4e3d59b5e1536e35ac708727640/expr.ipynb\"><img src=\"data:image/png;base64,iVBORw0KGgoAAAANSUhEUgAAAWsAAAAVBAMAAAByN9JOAAAAMFBMVEX///8AAAAAAAAAAAAAAAAA\n",
       "AAAAAAAAAAAAAAAAAAAAAAAAAAAAAAAAAAAAAAAAAAAv3aB7AAAAD3RSTlMAInZUiRDNmWbv3US7\n",
       "qzJazP2FAAAACXBIWXMAAA7EAAAOxAGVKw4bAAADVUlEQVRIx41Xz2sTQRT+Npttskk3rr0ooYeU\n",
       "IvUihlIFvTT/gDT00JNiLkIRiz1IU4qHntqLYi8eag8tVCmu9Ac96a0KXkVPVkEa0FMvbYX2UjDO\n",
       "zCbZmdmZzQzJJvPmve/75s3b2VkAPtTN0nb45neLTGp+0mAyZaqsGc2XuM6gDmNXYRs0lb2bNJhM\n",
       "OUK+h1Vp5NLMF+Bq1LcrQOGNnI76owZS8zFY6ozCZ8k6ZBZsSOnU4Hx/LMm29jC2g57IOgHcmzmV\n",
       "MPqRPgcexAgn2CLWJOtrs2BDygyd8PW2wPfhj+fDXUJ2uuM+S4W0MfKtHH0DloHFGOGsSX3ogg0p\n",
       "XfCyh8Mf9xTeCfCyg7HEY9itol+t4oDMTy4w5ty16YINKW+qZHtr8P4Bk506q6kwfgIHDfTI9WnX\n",
       "TGTzwWRxaV3GUfSUT1SyScsdA3fanUxFhUHaNpD+KglizuPXRKMzFL/7OsHWFlBsKFD0lJMa2UfE\n",
       "caHdYUlRYBT+Alk5ucx52hVlpvOx0uGCiw2qPI6ip1zXyN4k31ud1JfVGDmSLFvWQ51T/gXxcfA7\n",
       "EysdLtjakpPdjXIlkj0XBMtBsBmuES21o7avu9PByATB21dBEFbGUzr9Y4mQOjsYpZATAW00kVWX\n",
       "EjsPmaERCy7Kye5GuaLO9nN6+aDA4KeepUix1WfOmJOso/KeIQQnylZRqouEPKIuAre7rNgILB/2\n",
       "mmp55acLphzJwAebF0k76pNS9h/gCvCM/qVDvSUVRqGCVBVZWk68JuZsnUs7yXlauiGj4NgtaUDJ\n",
       "NrkxX5RtbdTrJA90c3TO0Nqn0icSRrFen2vtVPdrzDNyzkoVXzi+LBq44GgDDCFMKA9J59fq1Lwg\n",
       "O9dsNomQd/R/QOZeIHPwfpztixjbzSYhyNEizNEzzwb7MGd40tMD+9K+zQXDI5ItttOEEAaUOaGo\n",
       "hoUDFSs8my6ZcMfYJSFt7HqDs1Bnt2R0ci2qD3/dKbnzUnSUaj2oWIJYTQpHnvx8/OBU4SyL8Mov\n",
       "qkay1acuE8qPWsx+dh1nt5n2PSQ8Szh8Nnr9o/K6kWr5INJqJpR3taDhhJggZ0/nFKKnhF1jLzO0\n",
       "YyRbI82E0tJVYYrH7NNhDChsfaYvZQNJg0mU/wEGzhAwKgyGlAAAAABJRU5ErkJggg==\n",
       "\" style=\"display:inline;vertical-align:middle;\" /></a>"
      ],
      "text/plain": [
       "(1 + 2), (1 + 2), ..(j - i - 2) ×.., (1 + 2)"
      ]
     },
     "metadata": {},
     "output_type": "display_data"
    }
   ],
   "source": [
    "ExprRange(k, Add(one, two), i, j)"
   ]
  },
  {
   "cell_type": "markdown",
   "metadata": {},
   "source": [
    "### Nested ExprRanges\n",
    "\n",
    "**ExprRange**s may be nested to express a range of ranges representing elements of a single **ExprTuple**.  For clarity of the expression, ellipses are doubled to express a range of ranges (or tripled for a range of ranges of ranges, etc.)."
   ]
  },
  {
   "cell_type": "code",
   "execution_count": 26,
   "metadata": {},
   "outputs": [
    {
     "data": {
      "text/html": [
       "<strong id=\"double_nested\">double_nested:</strong> <a class=\"ProveItLink\" href=\"__pv_it/exprrange_reductions/aa60cb22cc7d80a73079f1747b9ce82f0a9d39820/expr.ipynb\"><img src=\"data:image/png;base64,iVBORw0KGgoAAAANSUhEUgAAAu8AAAAVBAMAAAAEOx00AAAAMFBMVEX///8AAAAAAAAAAAAAAAAA\n",
       "AAAAAAAAAAAAAAAAAAAAAAAAAAAAAAAAAAAAAAAAAAAv3aB7AAAAD3RSTlMAInZUiRDNmWbv3US7\n",
       "qzJazP2FAAAACXBIWXMAAA7EAAAOxAGVKw4bAAAEsklEQVRYw62ZT4gURxTGX89MuzszO5NOEAIi\n",
       "ZEUSPCToYbMQLw65i62HnCI7l8AelHgQR0IOgqCXGDzEQ8jBBZEFNbp4M15W7wkmkESF4Bw8edEN\n",
       "7BIQnNSf7up6Va9qq8Z+sGN3VX2/9+brruqaFgAysCJznshIwB8ZvCUzqSfndpq3r3qqsmRj44Dd\n",
       "cVc7pvq7895klCSOubeenNtoaqh6qrIkdYH9vcirxv51NvxcdW72v3/mN4B93mymRJaAmQKjgo/W\n",
       "mM0BJKMT48icGCliX4TxC2YD5QSKQCuIy8Go6RDSv7+uXDp+ZpN9fqXOzf5kHY6swY7ck8yUFIGY\n",
       "ElOei9Ea8wuA3dB6HZcTIYvwaiwCDsIJY5UJKosMRp3hl3S/Jm7wdBfVqdnfy6B9GWZPebJZSBmI\n",
       "KTEq+GiNeRbgd4Af43IaSBFeDVE1vi8JJ/QItYIIRm0DZXxbNZj97U3obQBc8WSzkEWzziwwuvEa\n",
       "k/l3NYdnWVROAynjSrDxbSCNN5xAikArqPYcFknjd6grZfb3VqD3BmDZk22RNh4xCwwyXjGbbII+\n",
       "BXg2jsppIGUsBxu/SBtvOIHu+EAriGDU06TxrUfl6Wnbxc4rgMOebKbk7p87P563mAKDjFfMmYH4\n",
       "505sTg3Z/eTo5w/Br7EIpcjphDEgqCysqbxYJo2fHaJbBhv/kikveLKZksGv8+mGxRQYZPwFPDf6\n",
       "/8bm1JCtuT9gKfNrLEIpcjphDAgqC2sqL66RxjfVU+qabfzP7O8zTzZD0l27BckbiykwyHjF7IjN\n",
       "b+dRbE4Neb+zDh+M/RqLUIqcThgDgspCGs2LnyqXloYqXV/NWasfZtb5pfZkMyRp+hqamxZTYEqm\n",
       "GK2YbbEr/Fbsx7YicmrIfGkNDuV+jUUoRU4njAFBZSGN5oXmUueUSte9TLgo++ES/7gXZryQNF9B\n",
       "b2gxL4HGFKPvIeNn5Q2/GpFTRx4C+GsbjU0oRG4n8ICwspCm8sKx1Kw4lxr2q/JdgIPhSw3P9M65\n",
       "3GBKDFpqDqKlZgGSLC4nQrLv+l/q19iEQuR2Ag8IKwtpKi8e0g9XPofEaKv/OcCHAN/xQ/s3W05J\n",
       "2gM21wYGU2KQ8Yo5xx5Z/QE08qCcNPIHNqVbTo2j6kLkdgIPCCsLaSovxGboiPakbm2UGzqxkJn9\n",
       "yepotCK3b2L9FSsXOrAk7NHy0ewYMwtMGWK0YvIt3K7R6BtXTjuxhWRPsMbwe6pOT9WlyOkEHuC1\n",
       "wqGpvHjBzv65elL9TOg92XrMJjtfZTvX+esro78zmUwY8iY/vpEXK9dquYTxFkvyC8Dx8wazwBQh\n",
       "Rytmn32dO5PJlitnlW/VheyuQPr4AFWnIdarLkVOJ/AAvxW0pvKiM6Ym3y7x+SnXk/2JuLWa1gQT\n",
       "LbQkhnk7JqcH6dbUVvVUZXEq/Y7nrNztO18zyZc/Lau95XkzFcG8GJPTg3Rraqt6qrIE9QF1FcWG\n",
       "OBW/A6l+2C0+j1ntsoWUxDDnsoicHqRTU1/VU5UlqF8SHfKLN8Qx1V/w7P98mXdLYpjpekROD9Kp\n",
       "qa/qqcoS1IQoa49+dYj+Rub9IpQkjvlePTm30dRQ9VRlcer/UFQCJPf8+p8AAAAASUVORK5CYII=\n",
       "\" style=\"display:inline;vertical-align:middle;\" /></a><br>"
      ],
      "text/plain": [
       "<IPython.core.display.HTML object>"
      ]
     },
     "metadata": {},
     "output_type": "display_data"
    }
   ],
   "source": [
    "from proveit.numbers import one\n",
    "double_nested = ExprRange(i, ExprRange(j, Mult(i, j), one, n), one, n)"
   ]
  },
  {
   "cell_type": "code",
   "execution_count": 27,
   "metadata": {},
   "outputs": [
    {
     "data": {
      "text/html": [
       "<a class=\"ProveItLink\" href=\"__pv_it/exprrange_reductions/067294af5aca3786ba780fe764d28036ccf9eb8a0/expr.ipynb\"><img src=\"data:image/png;base64,iVBORw0KGgoAAAANSUhEUgAAAwAAAAAVBAMAAAADXJQIAAAAMFBMVEX///8AAAAAAAAAAAAAAAAA\n",
       "AAAAAAAAAAAAAAAAAAAAAAAAAAAAAAAAAAAAAAAAAAAv3aB7AAAAD3RSTlMAInZUiRDNmWbv3US7\n",
       "qzJazP2FAAAACXBIWXMAAA7EAAAOxAGVKw4bAAAE60lEQVRYw61ZO2gcVxS9sx9LO6vdbEIgYAxe\n",
       "YxxcxESFIrAaL+mFJylc2Wgbg4qYqBBeE1wIAlLjGBV2EVx4QRhBnMTCnZJGcZ9gB+IfGG+RSo2l\n",
       "gITB4M37zOfd+z56O5oLbzQz551z7t6782Z2BAAtkINEy3ogIwB3tOCQmkExngdxDp91rrTESUEs\n",
       "TcpB46Gyb8LrbaepiTKa5sliPA/gFJB1rrSEqiBOxWM7ysDmPUZbyo4p/snVvwBOO10pRaaCNYPe\n",
       "N4PsBJ+taJY7GPfzxJIiTo/QgCl6wlQJFJ6lMLRlSeZW7YpRffZtVq1LV/fY9nJ6TPFgC85vwJHI\n",
       "YUopcSBNOAaVd+mxmK1oXsC4nyeixOHk6AooDJUgq49fWqa4LHMbY43gAz5XRErcdiU9pHijBbVV\n",
       "GF9wuGqSMrDmE4AfM4zPVjSvYdzTE0uKcHIMWePvqaESaviWwhArMrca+1MDUwNq6QmK1/agsQtw\n",
       "2+GqScankebdCF63UAMUzVWMe3piSRm3vRtQA2MDSCUQw7MUpvPy806z7bSxAUfSzlG80YfGe4B5\n",
       "h+u0uQFY8yXA6wFuQKpZ7mLc0xNLypj3bsC0uQGkEugK8CyFIYTqPCyy7aKxAZXHyeGiXs1wB2DW\n",
       "4UopD//5+LO2pgnwAC9BmeZYh+J+ngqlfuarLx+Bm6MpJCRrJcgEr7QwR63FrOjdvLEB4130FcIN\n",
       "eMMUlh2ulNL5s13d1TSh+R9pwDK+VlTcz1OhVCb+hrmWm6MpJCRrJcgEr7QwR63FMqyx7ZqxAeXV\n",
       "5HBNb8AvbJx1uBJKfeNnCN5rmhA+Jg1INcNJivt5KpTfwy04PnBzNIWEZK0EmeCVFuKgWpyFO2x7\n",
       "J6vWXDe1be4kEhoOY1u89Q5XQqlW30F5T9OE6+I5bT9rQKpZ26C4n6dCieY24Fzk5mgKCclaCTLB\n",
       "Ky3EQbV4QxsQLqS29VVDNSUOP/DNpl8DBKW8A42upjkuv63rWQM2UQMQ7uepUs4BPD2AoyvEJHsl\n",
       "8AS/tBBHrcWmawnqW5cg9iv1Q4AZ/yWIO36wFFHNKQjIY+gMWoJU3NNTpbDP/Lbq5ugKMcleCTzB\n",
       "Ly3EUWsxA/zm/Mh8E+bXlmBp+L8ApwBu8F39N6CRUuuwa7BDNJsdKEW4AanmRJvgfp6Icotd6hUr\n",
       "B0eUKMQkeyXwBL+0EEetxQ3xACUeos4rd/bKbvIgKBY6igfrvV5fPvaJxVasbMmOmcJuQZ+OD4jm\n",
       "0V7vu8xUzE41+UOailNPgzGVZHe6UvemKU+dLO8zsxnJWgk8wa8UmKPWYhG2+WswNl7dvZL+3Gi8\n",
       "2H/OFgG+Cof3DHg4HA6Z9H2+/1MUr2zryRJnpPwGcOl7qvlgONxPP6qcnWo2+xinnpnfuk2y3ofq\n",
       "80lTnoS8kGhuZyRrJfAEv1JgjlqL+xCyp6NwYLooj4rtF2DDA7EylvULz04ZRfPXojytHBQCz5l1\n",
       "rrSEKiPy90jmd0nX5K8G6+ss+ZKpogN2yiiaK0V5WjkoKpA/61xpCVVO/APkAP1FK1/YxP8aTDgc\n",
       "E9uv9TuPnTKK5kSrGE8rB4fE82WdKy2hyokX40FDFqAk9k14rKv/M8hBGUWzulWMp5WDo32IrHOl\n",
       "JVQ5MWjLQeOE2i0DXmo5P5CJMprmR8V4HsApIOtcaQlVRvwfRvAUlHzlqhkAAAAASUVORK5CYII=\n",
       "\" style=\"display:inline;vertical-align:middle;\" /></a>"
      ],
      "text/plain": [
       "((1 * 1), (1 * 2), ..., (1 * n), (2 * 1), (2 * 2), ..., (2 * n), ......, (n * 1), (n * 2), ..., (n * n))"
      ]
     },
     "metadata": {},
     "output_type": "display_data"
    }
   ],
   "source": [
    "ExprTuple(double_nested)"
   ]
  },
  {
   "cell_type": "markdown",
   "metadata": {},
   "source": [
    "If $n = 3$, for example, the above **ExprTuple** could expand to $((1 \\cdot 1), (1 \\cdot 2), (1 \\cdot 3), (2 \\cdot 1), (2 \\cdot 2), (2 \\cdot 3), (3 \\cdot 1), (3 \\cdot 2), (3 \\cdot 3))$.\n",
    "\n",
    "Let's now show triple nesting for fun:"
   ]
  },
  {
   "cell_type": "code",
   "execution_count": 28,
   "metadata": {},
   "outputs": [
    {
     "data": {
      "text/html": [
       "<strong id=\"triple_nested\">triple_nested:</strong> <a class=\"ProveItLink\" href=\"__pv_it/exprrange_reductions/43f37c99c27c9f2826d7ff988d83a932ca71b0f70/expr.ipynb\"><img src=\"data:image/png;base64,iVBORw0KGgoAAAANSUhEUgAADA0AAAAVBAMAAABlWut+AAAAMFBMVEX///8AAAAAAAAAAAAAAAAA\n",
       "AAAAAAAAAAAAAAAAAAAAAAAAAAAAAAAAAAAAAAAAAAAv3aB7AAAAD3RSTlMAInZUiRDNmWbv3US7\n",
       "qzJazP2FAAAACXBIWXMAAA7EAAAOxAGVKw4bAAALDElEQVR42t2dT2hc1xXG70iaRJItVTWFQglE\n",
       "xbR40RIvVEO7ydB9idqFVw3WJqBFS70wkSlZCAr1Jgla1IviRQQmCNomFtm13ajet7iFtmmhRIuu\n",
       "solbiCkEos77MzPn3POdc8+9b2YQOmCj5/nde79zznffnXkScghhI5jRY1dZsIzE8AjYmBmcrzwN\n",
       "zDDRzuI50ZsZXFCJDv6aqxk7+6M3VbtthKmqv0DuPd+FnnayU9DfIAvXbejSJrnIgmWkhofwQQ5d\n",
       "DIO4mlKWSG2miXYWz9VfnRlcUIlyf83VjMm4OtUWdBefp/4Cufd8F3rayU5Bf5PA1vDPx9uTf1x/\n",
       "lxDVC9fItQV/+fU/cVjGFpqfy97X6XoBunIM09ko3Nv70SmDZSwO+Fr1EB7XMrq9hXJza+fnfb54\n",
       "FNcYztNja0ctN2Ffy0Xf9LpugcZZZlRhnzI5RDVjKkSdeKSqyqKgrOgOsB8KYwvKt9yr0k73yv1h\n",
       "uRdsEKPQBu28ZcnmdLGJGSn5JUZJn/vDBPo7of/3n0wa9+rrn46/bl54bvKiBfdOwivHFJYxHA7m\n",
       "5/GaSjcLsJVfU5Ux+IWw9BmFQdzka7VDWJipiURRbk7tPArEoyDqb/L02Nqi5Rbsaznom6YspuXK\n",
       "TthpRjlEM2MybkLPOKsa3aryywojQ72oDJCvu9egfe5F+8NwL9ogeqF12ukS0JwuNrFWS8ovMIoj\n",
       "hgk8Xx1mL5GpFmgTqheWb48vLXhtI6wcUFhGPVzMz+OeSjcLsJXvqcoY/OcQfklhEHcjZc0QFmZq\n",
       "INGX1P4ktPMoEI+CqL8bp8fWjlpuwb6Wg75pymJaruyEnWaUQzQzJuMu9Iy7qjRKyooiQ710r5Rv\n",
       "uVelne4F+8NwL9ogeqF12nvLks3pYhMzUvILjOKIYQIrIXUOhPvjSwte+TSs/YfCMlZC+hxY2dbo\n",
       "dgG6cgST2Rj8znb4aIPAIA4iZc0QHvfd3V4J6XNA186jQDyM+xTn6YlzwAn7Wg76pilbgY3TzajC\n",
       "TjOCIYoZk3GAPeOtKlu1oKwQ8quX7k2cA5F7Vdrp3tQ5wEuHNoheaJ323rJAczrYJHkOWPILjOLp\n",
       "+Ha4kT4HdseXFrx2GNY+p7CMG45z4Ll9jW4XoCtHMH2rSuF/hvDRKYHBY7udSFkzhMeuu9s3HOeA\n",
       "rp1HgXgYuxTn6clzwAf7Wg76ptX1BmycbkYVdpoRDFHMmHzuu4M9460qe5tXUFb4KDDjubVwb+Ic\n",
       "iNyr0k73Js+BXR23TGLT3lsWaE4Hm6TPgV0nXqJfc8qd9DnwvfGlDYfVpxSWccc6Bz7465e+sRnC\n",
       "0hOdrhegK0cwv5cSOIRHFAYfnwbSfo9GX1z65ve/+zjYqYFEZW5O7RGdLX6kV1Ff4yQ9dA54YV/L\n",
       "Rd+0ut6BjbPMqMJOZWKIYsbks5QB9oyvqjGdXVZumWz1YnIoX3WvRbvci/aH4V60QfRCW7Sn0LA5\n",
       "HWzC9KR9Altbrp9fTRLYTZ8DP+ensn4OfLJJYeUtqXYODP642R9+yFne0el6AbpyBHP/ETis/5fC\n",
       "ylsnvlY1pImly38Jtzbs1ECiMjen9ojOFj/Sq6hv3r1M0kPngBf2tVz0TavrLmycZUYVdioTQxQz\n",
       "Ot5RQc/4qhrT2WXllslWLyaH8lX3WrTLvWh/GO5FG0QvtEV7Cg2b08EmTE/aJ7C15fr51SSBh+lz\n",
       "4NvjSxsO7zFYxkPjHLh0/JvQG37IWTzQ6XoBunIE81vUe/TYfEJhGavX5WeP8SH/+9WT8OKpnRpI\n",
       "VObm0x7T2eJHehX1NU7SQ+eAF/a1XPRNq+tD2DjLjCrsVCaGKGZMRVwn3oNUVWM6t6zcMvnqxeRQ\n",
       "vupei/a4F+4P3b1wg6iFNmlPoWFzym3C9SR9gltbrp9dkQQeTBp3a2fShP6ziaxPxrPa8PMnDJbx\n",
       "AM9fz9XvfxYWhy+tP9XpegG6cgRTZQwObzBYxspxvFY9pLnYvnUcXt62UwOJytxGc9vaYzpb/Ehv\n",
       "k7xQX+MkvahuvOUJ2Ndy0Tetrg9g4ywzqrBPWTNEOEaaMRVxncY9gNpTdG5ZuWXy1YvJuYXAnmfu\n",
       "tWiPe+H+UDwCcMMkKdpT6Di7jjbhepI+wa0t18+uSALkJrR6mxzGRxNZv0X3NwC/FRhsngN0/mau\n",
       "xadhbSjt0oFOvxWilSOYKmPw8hMGm7fSdq3lJ5OLl0P4WyI19RyguY3mTmiP6Hzxrd42+Vh9jdP0\n",
       "eN14yxOwr+Wib1pdH8DGWWZUYZ+yZoh0jDCj6xwAnsHaU3R2WbllstXLybmF5J7n7jVol3vR/lA8\n",
       "AnDDJCnaVegou6424XqSPoGt7aCfXU0ScDwX+o7vudDiIHyRwnnPhSo9X9jfDouHKt0swD6dHqrK\n",
       "GLwVehsE9jwXqoe0Mazb//p2auZzoVFuTu0RnS++1auor3GaHngu5IR9LZd90+r6EDbOMKMKO80o\n",
       "hyhmdD0XAp5xVpXT+WXllslWLydH8nX3GrTLvWh/GO5FG0QvtEH7Co2a08EmXE/SJ7C1HfSzq0kC\n",
       "j9PnwJvVVzVhwv8O4WsUZtEfD9fOgZXB8PPKICyfqHSzAPtuFYepMgqvD8LCNoF5VIMub0ZrNUPa\n",
       "+MXww9OSmpqWqMzNqZ3TBeJbvYr6CmfpgXPACZstHztG9k2r62PYOMOMKuwzIxiimNEKWCfeg1RV\n",
       "Oe0TD/SWqMeTI/m6e3Xa5160Pwz3og2iF9qgfYVGzelgE64n6RPY2g762dUkgfqHjl4h37Feot+O\n",
       "rl+4M34eZcG9o729QwLXf9UPoUZfNMPl/E28eBq+vnza/EgdpNsF6MoRTGZj8Ff29n5KYCCv/skv\n",
       "qqwZ0s71eVjYeZukpkxSC4Fq2tyc2jmNxHMBsfiRXkV9hdP0eEejlptw3HKpr8oN9E1RJmiwsg92\n",
       "mhEMwWa0ug3rxHuQqmrUMa2sTDzSa6nneo1/ridH8lX3GrRv66H9YbgXbRC90DqNCp2qRYlN+FZl\n",
       "etI+ga3NMgq8HcQJfDy8+tc7P94ff1L4x7MPx6qaF35dffmr6sCx4NWzs7MdCh+NHkLVX7zbDgfz\n",
       "N/G7EF792RA81uh2Aboyh+lsDH50dvaMwkeByqvErh9Gypoh7XfVD0P/w+sktXFWUY63NTVtbk7t\n",
       "nEbiJwKQ+JFeRX2F0/TY2nHLTThuOa/EyDGgb4oyQYOVfbDTjGCIYkat27eVOvEepKrKabWsTDzS\n",
       "a6mf6FXSoJND+ap7Ddq39dD+MNyLNoheaJ2GhU7UosgmR6qetE9ga3OMgm8HcQKrp6nPM736+Fus\n",
       "dlMWzONbruHD8zqHLoR51GLfTytTU5tDop3FU/XvzwyW0hy5lfprrma0osBAXezmFe9Uf/Hce04L\n",
       "PaNkp6C/SiD929OaX1VUP1LKgnkMgu83td3NoQthHrVYx6+KUlObQ6KdxVP192YGS2mO3Er9NVcz\n",
       "WlFgoC5284p3qr947j2nhZ5RslPQXyfwhxT0Qv33D+q/s2D2TYtN1/DqV6n66WKYRS32cvq/7dFS\n",
       "m0Oi3cVT9Wm8FJbSHLkV+2uuZjSiwEAd7OYV71V/8dx7Tgs9o2S7628S+GGKamZqssyCaSz4hreJ\n",
       "O+limEUttn8SSlObQ6LdxVP1abwUltIcuRX7a65mNKLAQB3s5hXvVX/x3HtOCz2jZLvrbxLoJe5s\n",
       "C/RIyoLBwZN8c/LVHLoYBnEluUVy/hvSKSfaWTxXf2VmcEElyv01VzMm48pUW9BdfJ76C+Te813o\n",
       "aSc7Bf1VAv8HkAruwjfDQQ4AAAAASUVORK5CYII=\n",
       "\" style=\"display:inline;vertical-align:middle;\" /></a><br>"
      ],
      "text/plain": [
       "<IPython.core.display.HTML object>"
      ]
     },
     "metadata": {},
     "output_type": "display_data"
    }
   ],
   "source": [
    "triple_nested = ExprRange(i, ExprRange(j, ExprRange(k, Mult(i, j, k), \n",
    "                                                    one, n), \n",
    "                                       one, n), \n",
    "                          one, n)"
   ]
  },
  {
   "cell_type": "code",
   "execution_count": 29,
   "metadata": {},
   "outputs": [
    {
     "data": {
      "text/html": [
       "<a class=\"ProveItLink\" href=\"__pv_it/exprrange_reductions/e2733511a2549cb9bada9457895ef661309349d60/expr.ipynb\"><img src=\"data:image/png;base64,iVBORw0KGgoAAAANSUhEUgAADJQAAAAVBAMAAABY5EhdAAAAMFBMVEX///8AAAAAAAAAAAAAAAAA\n",
       "AAAAAAAAAAAAAAAAAAAAAAAAAAAAAAAAAAAAAAAAAAAv3aB7AAAAD3RSTlMAInZUiRDNmWbv3US7\n",
       "qzJazP2FAAAACXBIWXMAAA7EAAAOxAGVKw4bAAALvElEQVR42u2cT2hdxxXG50l6tiXZiloKhRCI\n",
       "SmnpoiXmYQztJqL7EnXjlYO1CWjR0ixEVIIXgkK8aYsWzSL1IgITTNS6Flml7Ub1vsUttE0LJVp0\n",
       "lY2dgk0hYPXp3vvePd/M+Tdzb4MQGojxWN/95pxvfneu3rWjEMJyUMdAnVryIkkkMAqMv54p76HA\n",
       "z79lRxMOSafgzkA4tSDkjswi+0h1EP7PQZ7M4LPbHoTPJexaMnNZFy2uwPSrIUvODcsi8rAKDB+E\n",
       "DvIeCnSMvlt2NGF7dAvuDITTCkLuyC2yj1RNj45BntDgc9vOv6Bs1drlyvi/T9baP1x6jyiOv/AN\n",
       "esnsaqSgky+/8adIzo3Egq5eD/CIC6xWocvPbCvywdYPDnGCcqFA0YIp0B5JyziSlK8ERe9rIomN\n",
       "Yz0OLolWznncEuZSBAJa2CCA3gaBKgpBEC1KQWBMVBBkvR8Ebc0UhNxxJf4DkxxF7z9DlDX5QwSG\n",
       "4xQR9Rl3YLJfnYJP2zb4MS4oDZsZY5fhehj+/UftPfzqG0+mv6+/cI7e4NdQAZPBQXhlH+XcuMYt\n",
       "goN6xAXWq8DyrwVZ/kKY+yyavGYXKFukBTpGnBqMNOVxD4re10ScAzui4JhoxZyvRbmUgUAtHCCA\n",
       "3gYBFGUgyBalIDAmKgiy3g2C4sGAkDuOF4BhkyPr/egoa/Ls4LFuwqPo/cEz+9Ul+Gv6guxxrb2V\n",
       "KgybG2OX88fPxZeI2wzdk+MvXHi9+u2H1a8/jhVkcmk5zO808kXucStYvJT0Qj3iAutVYPlbQZb/\n",
       "OYR3osktUoxUoGhBC2Q9XC3jaFMmPYh62gQXM58DO6LgmGiZnKctYS5FIKCFDQLV2yCAogwE2aIU\n",
       "BMZEBUHW+0HQ1kxA8A9CGn6vbZEj6yk61i0qr8kfInR4ThFRb9EjeHC7cCv7HNEGe1zLI+PANsfY\n",
       "ZT5Yj5LwdvXbUfXrjvIomX8SLn3ayGe5N3CCBXPgEY+4wGYVuvz8mix/dy18vIyTWj5SCxQtaIGs\n",
       "h6vllICkZVFPm+Bi5nNgRxQcEy2T87QlzKUIBLSwQaB6GwRQlIEgW5SCwJloIMh6PwjamgkIGe9b\n",
       "WtKMR0lEjqyn6Fi3qPEoSe4oaNhxioh6ix7Bg9sF2cTXtsSP64KMA9seb4er9qNko7WdXdc+leyG\n",
       "S88auVxZasGcIMQjLrBZhS5/bluW/zOEjw9xUstHaoGiBS3Qi0DaMkNA3LKop03IJ8hVz6MkCo6J\n",
       "lsl52hLmUgQCWtggUL0NAijKQJAtSkHgTDQQZL0fBG3NBITcR8lVx6MkIkf5VELQsW5R61GyodTo\n",
       "OUVEvUWP4MHtgmzia1vix3VBxoFtj42waT9Kvtfanl9VHiXjsfC4kcuVpRZk9cVvff+7DwJ4bKaH\n",
       "zPEqdPm5h6r8fjSp5SO1QMkCCvQiELc8MUlTJj0o+rYJ+QTZFJKtxwd//dI3V5jgkmiZnElINNoy\n",
       "EMDCAQLupgkCVRSCIFiUg0DraPZBBYFZNBsE0YMBIfdRspnUZZITtS2go++M7CGwE11gwZNkHXMg\n",
       "0yN73OeDz8CH3T7tuEYJF4LjPoXLsIQ27Q37UfJWa3tuW3+UPFpp5HJlqQVZfe7iX8KNZfDYSA/2\n",
       "Ryu4/IV1Tb70n2hSy0dqgZIFFOhFIG55YpKmTHpQ9G0T8gmyISRbj9U/rgw/ZYJLomVyJiHRaMtA\n",
       "AAsHCLibJghUUQiCYFEOAq2j2QcVBGbRbBBEDwaE3EfJRlKXSU7UtoCOvjOyh8BOdIEFT5x1woFM\n",
       "j+iR7rxsIrTNbp92XKOEC8Fxn8JlWEKb9h37UfLt1nbhsv4ouTeRy5WlFmT13y8chBcPweNO+ii5\n",
       "Fy0/u6PJFx5Gk1o+UguULKBALwJxyxOTNGXSg6Jvm5BPkDtCsvV3Evu/DoNnTHBJtEzOJCQabRkI\n",
       "YOEAAXfTBIEqCkEQLMpBICaTfVBBYBbNBkHy4EDIfZTcSeqyyInbFtBRd0bx4NmJL7DgibNOOJDp\n",
       "ET3SnZdNBHzY7VOOa5SwIdj3KV6GXbVp327v4Rvr7Z4Mn7a1PQrhzb29d/b27oX5/VgBk/MHlfz8\n",
       "3t77v9zbewhlyRZk9bUb++HlNfBICqxXodUuPdbkN8lS1WQsnxQjFihZtAWyHsHV8sRkYt+kjD0o\n",
       "+ptRz2SIOYDHcPhZmH3CBJdEC9tMgqtDutkZBLBwgAB6GwSqKARBsCgHgZhM9iG63cSWi0GQPDgQ\n",
       "nIMuENVlkRO3zaFj7YziwbMTX2DBE2edcCDQo3mkOy+YyPiw26cc1yhhQ7DvU7xsWkKUNjlyFl4n\n",
       "j/e7bW2/bZ9Q5FBsFDD5WZjI5YdcakFXfzmEv6FHUmC9Cq12cUeRX3hIlqomi/o3o/RRklrQAr3f\n",
       "TSQtNyaThtqUSQ+ynjQhfzN6W0i2ns0+DpfWmeCSaGGbSXBVSxBtGQhg4QAB9DYIVFEIgmRRDAI1\n",
       "afYhvd2ElktBED0YEHI/ldxO6jLJidoW0NF3RvHg2YkuMOGJbtKEg0XjU8ltfr9w5xd3cvHhtk87\n",
       "rlHCheC4T/GySQlR2o4XXN/xvuCaXQ1faOSFL7iOi/rvEDySAutV4KPpriK/EgbLOKnlGS+4qAUt\n",
       "sPQF18QkTZl/wRXpSRP+F1zoMebiue21JLg0WibntiWItgwEsHCAQPU2CKAoA0G0KAaBmjT7oILA\n",
       "LJoNgujBgFDwgiuqyyQnaltAR98ZxYNnBy+w4cGeUg5keiQPZudlEwkfbvu04xolXAiO+xQvw66m\n",
       "aT+wHyU/bW0vrmiPkn+H8LVGLleWWtDVfzH+IDUHHkmB9SrwF2YHsnxpNcys4aSWj9QCRQtaoBeB\n",
       "pOXGJE2Z9CDqaRPyCfJASLYe86vjD6WrSXBptEzO05YglzIQ0MIGAfQ2CFRRCIJoUQoCmDT7oIHA\n",
       "LZoLguzBgJD7KHmQAG2SE7UtoKPvjOLBs4MX2PBgTykHMj2CB7fzsokEJLd92nGNEi4Ex32Kl2Ey\n",
       "07Srfwn2CvlXBnP0L/irL2y2ttW/XQMFmQzubm3tNvKqsvr13NPpu0LBgqw+eBZm1n9OPZICm1Xo\n",
       "8vW/seTlz29tvRlNavlo8uqzrZIUKFlAgZFH1STO+JYnJmnKpAdRT5toY56uK8UGHi8ehq9fOIyD\n",
       "Y6Jlcp62BNGWgYAWNgiwFSYIoCgDQbTQQMAN0Vpu9kEDgVvUAqH+xeORgoDFM60wpEVAm+REbQvo\n",
       "cLeXy4NnBy5wwAM9MRxE9Ni5cDsvmohActunHdco4UJw3Kd4GSYzTfuT8exf7/5we/oJ6B9PP5qW\n",
       "Vn/hV21tS7uRgk4Wjo6O1ht5nebdyS/1u0Legq6+uBuGH10Gj7jAZhW6/MK+LL9/dPQ04KSWj6Yv\n",
       "HKdVtgWKFlBg5FH9Bmd8yxOTNOW2B1lPm2hjbjvhc0CP34Xw6k+S4JhomZynLUG0ZSCAhQMEqrdB\n",
       "AEUZCKKFBgJuiNZysw8aCNyiJgj1i3SHBwPCXaMVhjT0tMnBtiV0uNvL4yGwAxfY8GBPDAcxPWYu\n",
       "3M6LJhKQ7PZpxzVKuBAc9ylchiW0aS8cWp+tBrvk0+Zvgk+u/H/4tgV42AWG50OBfNS9QPcPPOi/\n",
       "ZeiZ+3jt8egS3BkIpxWE3Bdc/iL7SNXt0SnI3J46Bt8jPrnHdT/3aeXS/PQvZTQ/lqz+0V63gk+u\n",
       "/HQw2wI87AKbnzeWKf+we4HuH8PWf8vQMw6/R5fgzkA4rSD4R26RfaTq9ugUZG5PHYPvEZ/c47qf\n",
       "+7R2+YMleoFOLi5nyblhW6CHWeDgoIO8hwLt0XvLdhMOj07BnYFwakHIHZlF9pGqw6NbkCcz+Oy2\n",
       "sy8oXbVyuZ6VyLB7gLYFelzPa/V652RyC7RH7y07tvd6Lpl5wZ2BcGpByB2ZRfaRqsOjW5AnM/js\n",
       "trMvKF21chms6JoZ7PaLIUvODcsi8rAKDF8JHeQ9FOgYfbfsaML26BbcGQinFYTckVtkH6maHh2D\n",
       "PKHB57adf0HZqscu/wMr6s7JYbU1VQAAAABJRU5ErkJggg==\n",
       "\" style=\"display:inline;vertical-align:middle;\" /></a>"
      ],
      "text/plain": [
       "(1 * 1 * 1) +  (1 * 1 * 2) +  ... +  (1 * 1 * n) +  (1 * 2 * 1) +  (1 * 2 * 2) +  ... +  (1 * 2 * n) +  ...... +  (1 * n * 1) +  (1 * n * 2) +  ... +  (1 * n * n) +  (2 * 1 * 1) +  (2 * 1 * 2) +  ... +  (2 * 1 * n) +  (2 * 2 * 1) +  (2 * 2 * 2) +  ... +  (2 * 2 * n) +  ...... +  (2 * n * 1) +  (2 * n * 2) +  ... +  (2 * n * n) +  ......... +  (n * 1 * 1) +  (n * 1 * 2) +  ... +  (n * 1 * n) +  (n * 2 * 1) +  (n * 2 * 2) +  ... +  (n * 2 * n) +  ...... +  (n * n * 1) +  (n * n * 2) +  ... +  (n * n * n)"
      ]
     },
     "metadata": {},
     "output_type": "display_data"
    }
   ],
   "source": [
    "Add(triple_nested)"
   ]
  },
  {
   "cell_type": "markdown",
   "metadata": {},
   "source": [
    "The `var_range` function may also be used to make nested ranges of indexed variables by simply supplying multiple start and end indices."
   ]
  },
  {
   "cell_type": "code",
   "execution_count": 30,
   "metadata": {},
   "outputs": [
    {
     "data": {
      "text/html": [
       "<strong id=\"x_111_to_nnn\">x_111_to_nnn:</strong> <a class=\"ProveItLink\" href=\"__pv_it/exprrange_reductions/363222dbdd12ab5e0100992ad0c05e8e9961e53d0/expr.ipynb\"><img src=\"data:image/png;base64,iVBORw0KGgoAAAANSUhEUgAACJIAAAAQBAMAAAC17torAAAAMFBMVEX///8AAAAAAAAAAAAAAAAA\n",
       "AAAAAAAAAAAAAAAAAAAAAAAAAAAAAAAAAAAAAAAAAAAv3aB7AAAAD3RSTlMAEHarMolUmd1mIs3v\n",
       "RLtmgJDEAAAACXBIWXMAAA7EAAAOxAGVKw4bAAAHcElEQVR42s1Zz2tdVRCel+ZHExL6DJbSjT5S\n",
       "RMGNrSvBRSz1x8JFUCqKmxQEuzO6saUuUhB0mYIoKGJciOCizX9gCSLoxhbBVUEEt0ILdaNIzLtn\n",
       "7j0zZ+bMOZP7Aj3QJPee7/vmm2/Ofbz3CrB86uHz66Ava88LH6ycfv41mEghU6on29lywYql5uzC\n",
       "hE8wXC/8EMPtZ+UBHbv79PYMwaa7HyVDbmPqzNwm+Pe88Dk4NboEEylkSvVkO1suWLHUnF2Y8AmG\n",
       "64UfYrj9rDygY3ef3p4h2HT3o5SXm9+ev3dkC9x7bvjn8NXwGZhIIUuqJ9vppGDFVHN2YcInGK43\n",
       "gUMMt5+VB3Ts3rn3DKFA9z5Khtw0zO3s/zq507zX+aK5Fy7UvcH5p4e5KppUXKtwJVXpMIx5/NXT\n",
       "hUKKlGNRdvcmT3XSblZaySXCu+2kAzV0y1q3KjG4vqmHi3fL4Spwd7icpjupCFfDH3gFZ+1KDimO\n",
       "nRkuj52LiQcBVzoyxi3nrIrVL04Xjnkj5SK6HK7F0T5gpXnHcvaJBr2ymd2bA+udloCztZuqEAxh\n",
       "bsClYqHdSkMldrt0J907wDoruURYt1R6t+uWtW5VYnB9Uw8X79aEK+DucDlNd1IVrsT3WLvkgRCH\n",
       "dFyJGy6PnYulvrvPA2Jku6J9M2cp5lqUrjjeVT7B1LpJ1u/bgyHMBumLzc/ZzezesVsL98EhRdbS\n",
       "P/BQonJRY/4HN1YLhRQpxyLsbqlOcNVaySXCu43SDTV0y1q3KjG4vqmHi3crwpVwd7gJTXVSE66C\n",
       "P/gKk8IlDmkzdma4YuxcLH0QcImRUW5NzoqYZ7HOhGPWSE0RTa5Zj9x6FmZAvpIM9L354bhzKZWD\n",
       "Xz77ODT4wV9HbsIaUwkXgnmt6aOBDKTfjNRnn6xsgIYvsIO/cDVMnQTReisoFr0ENdotSkfqNXrO\n",
       "mgs9XA0eCqVaerh4l0KsKXJ405gjXErLOaHhKlaGOXydl5wzVKGHlFSihivGzsXE2FGNjkxwac7m\n",
       "PJhYfKzMJenUMTlVLFuHG8Z757kP4DflleTRHX0PZjZh8C8EQPOju1LgJ+9sLW43iNn7J24urVMV\n",
       "xEgmvN5CZI2M1ODLn+DnBCqJkh38BScNgjpB0Wil09CtoBjxgmqkWxwioYZuY+uySPOHAg+FpJYe\n",
       "Lt6NEFkjBw+NGZmKPAgt44SFK63QYTB89JIJyhx7VzUeUlKJGS6PnYuJsXdqcWQKN+ac6UcTi49V\n",
       "MQlGZ47jqeLZEje5ZzyRC5cnVmYvryuvJEevgroHL+2/WH28/+/o+NWo+fERZOFfPwnHAn7w3ujt\n",
       "T7lKuJDM6astZLxHaoz/0KUWlnfgXtCKUE4c/yHY6C9cjbuiTlCUWGk0slZQjHhBNdItShNq6Ja0\n",
       "PrbBbY+lFDgWElp6uHiXQLopxsR0eGhMGUY2D0LLOGHhKlbIMBieeOHVq8beVSWHNFZihstj52Ji\n",
       "7J0aGZnkkpz1wWti8bHS5qCMkx/N+IRzM6yI9Ywnch1PfG5sLi7onykX/hjfkW99MvAzcIfjiQpe\n",
       "COb1YQe5IOpkpI6Mlm6q+AI7+AtXZDM4QdFqKygmvNBugzShhm5J62a4DB4KCS09XLxLIGYhBg+N\n",
       "OcKltIwTFq60Qu5wfJ2XnFirQg4pqcQMl8fOxcTYWzUyMsklOZvz4GLisdKXoDPHcZdnW+8m5emv\n",
       "JGv63rfwHYy/SUhXBv4DvD/N8EQFL1LmwsbCdgtZE3UyUourcxurGr7ADv7C1Uz6jRSKVltBMeGF\n",
       "dhukIxW7Ja2b4TJ4KCS09HDDXQoxCzF4aKw+XEbLOGHhzljhcnydl5xYq0IOKanEDJfHzsXE2FGN\n",
       "jkxySc7mPLiYeKz0JejM8ZowQ4vMOOTa3PB8D8I3h8fxI90ItL2FP8+9C7Asv43JwO/Ch28xfKeC\n",
       "GMm8fu7FIRYayP9xykjdgKMvrGr4Anvsr3WyDImTRtRhBcVSL6RbDJdQQ7ekdTtcBg+FUi09XLxL\n",
       "wjULcXgzRUe4hJZ1QsNVrMQ7Cb7OS04MVcghpZWI4ZqxczExdlSLI1O4JGd7HkxMPlb6N66CThzT\n",
       "1mi2HjdsJrj15t+j6R/hm+9fgZfXxxcwFfOle4t7e3cBZLwZ+NJT8NgWxUcVxEjmL3t7baEpmU5G\n",
       "6leYegM0vM1u/LVORqmTRrTeSiuWeiHdYriEGrolrZvhcngolGrp4eJdEq5ZiMHDFB3hElrWCQ1X\n",
       "sTLK4Cu95MRQhRxSskkN14ydi6Vjb9XiyBQuydmcBxcTj5W+JJ04pq3RbD1u2EzoB8Dwa139pGns\n",
       "ueHrFNOvkCVVy7adOK3kvJh9Obsw4RMM1wk/zHC9+B4Beru2h3fwJ2HiAymFaB9gj9zt8Hqjfo1j\n",
       "7XnhePs29C9kStWyTSdeKzkvVl/OLkz4BMP1wg8xXDe+x6lxdl0Y3sGfhEkPpBRi4QB75MIblHmV\n",
       "Ze154fMU06+QKVXLNp14reS8WH05uzDhEwzXCz/EcN34HqfG2XVheAd/EiY9kFKIhQNckvsfOMkY\n",
       "aDppxEkAAAAASUVORK5CYII=\n",
       "\" style=\"display:inline;vertical-align:middle;\" /></a><br>"
      ],
      "text/plain": [
       "<IPython.core.display.HTML object>"
      ]
     },
     "metadata": {},
     "output_type": "display_data"
    }
   ],
   "source": [
    "x_111_to_nnn = var_range(x, (one, one, one), (n, n, n))"
   ]
  },
  {
   "cell_type": "markdown",
   "metadata": {},
   "source": [
    "Note that multiple indices are implemented by nesting **IndexedVar** expressions:"
   ]
  },
  {
   "cell_type": "code",
   "execution_count": 31,
   "metadata": {},
   "outputs": [
    {
     "data": {
      "text/html": [
       "<table><tr><th>&nbsp;</th><th>core type</th><th>sub-expressions</th><th>expression</th></tr>\n",
       "<tr><td>0</td><td>IndexedVar</td><td>variable:&nbsp;1<br>indices:&nbsp;2<br></td><td><a class=\"ProveItLink\" href=\"__pv_it/exprrange_reductions/9be15b6c76bc343df69a4538f7209dd2756a00f40/expr.ipynb\"><img src=\"data:image/png;base64,iVBORw0KGgoAAAANSUhEUgAAAFIAAAAPBAMAAACFEoWBAAAAMFBMVEX///8AAAAAAAAAAAAAAAAA\n",
       "AAAAAAAAAAAAAAAAAAAAAAAAAAAAAAAAAAAAAAAAAAAv3aB7AAAAD3RSTlMAEHarMolUmd1mIs3v\n",
       "RLtmgJDEAAAACXBIWXMAAA7EAAAOxAGVKw4bAAAA2UlEQVQoz2NgEFIWCU1gIAYUMBmxNxCjkHMB\n",
       "50fmCVgkvB+gCbAwsG/AagRzAIYQjwJWlTwOGEL3FzAKQJmsmghd/kqGcDZjpOoCBrkLNgysMJFe\n",
       "lgNwWQ0BdThbYoH/AoZ8xxqGa1AB9geMCCtfMsyGs8sZfBgYxJXYKmHByXMByVFHGIrh7LMMyqgu\n",
       "5l+AxPnAcAzuzF8MLwVRVHJfYAhghAVOI+cDOPsUy9+JUCZXeXl5LQNX5SQBlmMMy4GcCwzuSgxw\n",
       "9vVpqlgihw0HGxNcxMHGBBNwsAF8zzJloQZ0vQAAAABJRU5ErkJggg==\n",
       "\" style=\"display:inline;vertical-align:middle;\" /></a></td></tr>\n",
       "<tr><td>1</td><td>Variable</td><td></td><td><a class=\"ProveItLink\" href=\"../packages/proveit/__pv_it/common/a0d9d672aa5e272d907247690c152cc2c6daafb70/expr.ipynb\"><img src=\"data:image/png;base64,iVBORw0KGgoAAAANSUhEUgAAAAsAAAAJBAMAAAAWSsseAAAAMFBMVEX///8AAAAAAAAAAAAAAAAA\n",
       "AAAAAAAAAAAAAAAAAAAAAAAAAAAAAAAAAAAAAAAAAAAv3aB7AAAAD3RSTlMAEHarMolUmd1mIs3v\n",
       "RLtmgJDEAAAACXBIWXMAAA7EAAAOxAGVKw4bAAAAQklEQVQI12NgEFIWCU1gYChgMmJvYOBcwPmR\n",
       "eQIDCwP7BgYQ4FEAU/cXMAowyF2wYWBlYMh3rGG4xsAgrsRWmcAAAFEjCyBvD0T9AAAAAElFTkSu\n",
       "QmCC\n",
       "\" style=\"display:inline;vertical-align:middle;\" /></a></td></tr>\n",
       "<tr><td>2</td><td>ExprTuple</td><td>3, 4, 5</td><td><a class=\"ProveItLink\" href=\"__pv_it/exprrange_reductions/ceaf46d26a7d08491176d27eb1c082ef0679d10e0/expr.ipynb\"><img src=\"data:image/png;base64,iVBORw0KGgoAAAANSUhEUgAAAGUAAAAVBAMAAACtcD09AAAAMFBMVEX///8AAAAAAAAAAAAAAAAA\n",
       "AAAAAAAAAAAAAAAAAAAAAAAAAAAAAAAAAAAAAAAAAAAv3aB7AAAAD3RSTlMAInZUiRDNmWbv3US7\n",
       "qzJazP2FAAAACXBIWXMAAA7EAAAOxAGVKw4bAAABVElEQVQ4y5VTMUvDUBD+0jS+JkabuSCkguAk\n",
       "GdQ5iJNQyQ8QkkVwETo4uJlNNzsKLgUV1+Dm1LSb4CC2OGd26hJnLw7NvZgU8obA9919ed/dvQNg\n",
       "oc75y244tTQv2We3Kqq9DUvYRkiRoPKXK/0y9hQQYaWmXer6GtCrrY+8Mlb3sF+tOSp3HOKCwYPt\n",
       "hEfPN6dStjLr2kDzA2c513FEzPv24/nS7F4tMwVaAR5y7hG6zVLUVMbaHQR1Xx3gfsGJVDYuArRd\n",
       "jucwCK/PmUaPZQ0ljHi3Ke5HwOqAefPtf+O54t2m+G1meYhJnkPTjTSmSagChn0HX6qFVoxe7jdG\n",
       "M/Hzp7QWmn0wbNrqs6A0F99U1TudMXB4swXjaYG12SUk/Hm8sUNMBCORq9jDcowOjajweF0sx6DL\n",
       "MZaXptC8IoaSTeREXqniihWvMbPnpNi1drsL/AKUK0gUmc44ywAAAABJRU5ErkJggg==\n",
       "\" style=\"display:inline;vertical-align:middle;\" /></a></td></tr>\n",
       "<tr><td>3</td><td>Variable</td><td></td><td><a class=\"ProveItLink\" href=\"__pv_it/exprrange_reductions/78b8c0092da95d22274ec9b98a7b60b11e6bf88a0/expr.ipynb\"><img src=\"data:image/png;base64,iVBORw0KGgoAAAANSUhEUgAAABYAAAAJBAMAAADEGsFGAAAAKlBMVEX///8AAAAAAAAAAAAAAAAA\n",
       "AAAAAAAAAAAAAAAAAAAAAAAAAAAAAAAAAADmU0mKAAAADXRSTlMAMrsiiXZm3VSZ7xBEUEFltAAA\n",
       "AAlwSFlzAAAOxAAADsQBlSsOGwAAADxJREFUCNdjYIACltBEGJO5gmESjM3uwLAUxp67gQEOFiGY\n",
       "3FcRbIZrDAw8MDbQEEcGISUgMGBgcUvdAACpxwlhqslwbwAAAABJRU5ErkJggg==\n",
       "\" style=\"display:inline;vertical-align:middle;\" /></a></td></tr>\n",
       "<tr><td>4</td><td>Variable</td><td></td><td><a class=\"ProveItLink\" href=\"__pv_it/exprrange_reductions/9a18d67b443cf8d92289c655ed91ec78766170a90/expr.ipynb\"><img src=\"data:image/png;base64,iVBORw0KGgoAAAANSUhEUgAAABYAAAAOBAMAAADZH/H+AAAAMFBMVEX///8AAAAAAAAAAAAAAAAA\n",
       "AAAAAAAAAAAAAAAAAAAAAAAAAAAAAAAAAAAAAAAAAAAv3aB7AAAAD3RSTlMAMrsiEO/dzZlURImr\n",
       "dmZtz8FEAAAACXBIWXMAAA7EAAAOxAGVKw4bAAAAU0lEQVQI12NggACnMAYEqEBi/0Qwub4g2NwJ\n",
       "CDb72TsTYGz/EpbPMPZ8B4ZYGLudgeE3jJ3NwPUTYTwH3NSPDK4PYOxzDBoMDEJKQGDA4LPjAQMA\n",
       "4DwTSHGGbcAAAAAASUVORK5CYII=\n",
       "\" style=\"display:inline;vertical-align:middle;\" /></a></td></tr>\n",
       "<tr><td>5</td><td>Variable</td><td></td><td><a class=\"ProveItLink\" href=\"__pv_it/exprrange_reductions/006c465e50948aa2b52285e2de47974f741255cc0/expr.ipynb\"><img src=\"data:image/png;base64,iVBORw0KGgoAAAANSUhEUgAAABgAAAAJBAMAAADa0/H1AAAAMFBMVEX///8AAAAAAAAAAAAAAAAA\n",
       "AAAAAAAAAAAAAAAAAAAAAAAAAAAAAAAAAAAAAAAAAAAv3aB7AAAAD3RSTlMAMrsiq4l2RO8QZpnd\n",
       "VM2humBGAAAACXBIWXMAAA7EAAAOxAGVKw4bAAAASUlEQVQI12NggAKTMDMYk4G9mUF/AowzYwHD\n",
       "HrjMfgaGo3BOEwPndxib8xsD1wc45y8Dy4PLMJ4aw50NGxiElIDAgGFKqrCbAAD2sxBIUZwn3gAA\n",
       "AABJRU5ErkJggg==\n",
       "\" style=\"display:inline;vertical-align:middle;\" /></a></td></tr>\n",
       "</table>\n"
      ],
      "text/plain": [
       "0. x_{_c, _b, _a}\n",
       "   core type: IndexedVar\n",
       "variable: 1\n",
       "indices: 2\n",
       "1. x\n",
       "   core type: Variable\n",
       "   sub-expressions: \n",
       "2. (_c, _b, _a)\n",
       "   core type: ExprTuple\n",
       "   sub-expressions: 3, 4, 5\n",
       "3. _c\n",
       "   core type: Variable\n",
       "   sub-expressions: \n",
       "4. _b\n",
       "   core type: Variable\n",
       "   sub-expressions: \n",
       "5. _a\n",
       "   core type: Variable\n",
       "   sub-expressions: "
      ]
     },
     "metadata": {},
     "output_type": "display_data"
    }
   ],
   "source": [
    "x_111_to_nnn.body.body.body.expr_info()"
   ]
  },
  {
   "cell_type": "markdown",
   "metadata": {},
   "source": [
    "## Expanding ExprRanges\n",
    "\n",
    "The **ExprRange** and **IndexedVar** expression types work together in **ExprRange** expansion reduction rule.  Essentially, when a range of indexed variables is instantiated to an **ExprTuple** of elements and those indexed variables are contained within an **ExprRange**, that **ExprRange** must be \"expanded\" to reflect the expansion of the indexed variables."
   ]
  },
  {
   "cell_type": "markdown",
   "metadata": {},
   "source": [
    "### Parameter dependent expansions\n",
    "\n",
    "The more restrictive form of **ExprRange** expansion is when **ExprRange** parameter is used for anything other than indices of indexed variables being expanded.  For example, consider the following lambda expression."
   ]
  },
  {
   "cell_type": "code",
   "execution_count": 32,
   "metadata": {},
   "outputs": [
    {
     "data": {
      "text/html": [
       "<strong id=\"param_dep_lambda_example\">param_dep_lambda_example:</strong> <a class=\"ProveItLink\" href=\"__pv_it/exprrange_reductions/9ea27e35a75010c55cf6b0bd7fcee2b4ef67c8d60/expr.ipynb\"><img src=\"data:image/png;base64,iVBORw0KGgoAAAANSUhEUgAAAdoAAAAVCAMAAADW899IAAAANlBMVEX///8AAAAAAAAAAAAAAAAA\n",
       "AAAAAAAAAAAAAAAAAAAAAAAAAAAAAAAAAAAAAAAAAAAAAAAAAABHL6OuAAAAEXRSTlMAInZUiRDN\n",
       "mWbv3US7qzLz6SJmQj4AAAAJcEhZcwAADsQAAA7EAZUrDhsAAAQ9SURBVGjexVrpmqwqDBRkVzjX\n",
       "93/ZiyiLGDZHv+bHmBnsSqUiIdIzTXag6XcDPbkZfeQGfUv/a1x0M/D8w9QuuP9eT/QB4S43X+GO\n",
       "j2cpCWS8MZPplwOL3js9UX81ir7q5sBFnLPVfEB/YDxNSSBzGJRNvx2sM0Ge6HGlmrONvunmwEWr\n",
       "/UG25XX6A+N5SgIZZ3Dx49QK3nefJxoI46HU5m4WAeJrt09J+R5uu46KQqR/0NIZcvr1kIUM4Wsv\n",
       "IbPrYGpzN3O+Sx640oHqDb2G2y6/MJO/aWmNmf08tSw+pBeV5st68EQj4cHUMlEV9MTVyv3czFu4\n",
       "46n9S0oCGWvwc8emGGtqCIFbs/ps5w5SwiA6mOoycfnNE+WkldqCo8QNJChPWxe1vYY7ntqTyWK9\n",
       "IYJX/EhLa/g02xWCNZ64gve56mznXlnCEKyQ2nkFnse4SEqpLTgSrCpouvjMhl/DHU/tyYRMq/U2\n",
       "UWhvaGtpDXUkXtjPCyuV3mFpxvYySwnR+kFXePFwDU0WUjvhNTo6iYZrMbWlUGZZFVQlK0DpBm4q\n",
       "QgN3PLUHk2WZ1P5oI2Bv6NDSGvJo8/eP81MFg3EmcTq7b4BPVm+Kkc3E6vfvP3UZW3wLOYmG6zW1\n",
       "dGOQozSU4IY7aCndRef4+w1rCzcVoYFbLWQVJtT63o05RBm5dGhpjSQiGZ6eGUidn939oYEuA8LI\n",
       "mv/iql1Ywq6a2klx2FEMZamvrogr0rTAuKkIy9ur1jOZXZo0g7k0tLRGrEPLXtQpLaQ2zAr6OLUR\n",
       "gwu7nvj9Qbr6NelxQHdBLoWSBVUsyO4oCKF6AIkIDdynBdkndRMTfaClNY4GjK7LpKXbu9MbTsxs\n",
       "1l7V7U2l2BdPdwwqFml3CXnKJ9ZCalmqr+8UY8cIp7YQysUNJKjHNe5zmDZwvQhN3PHUeiaSnPWY\n",
       "VKiUtLTG0S3Pm6Hc3rzMqR6+uGez5+FtLP3BqhgpBqJ4/6vPTPLasZTfa31bH981CHiuAIeSv93c\n",
       "BT1xkeL7UC3ceIJdx70rke7fVSauKlilhKlQKWlpDXMsQI6xlVLM12WtDvrZLDr7VhWO58MmABjn\n",
       "TVeMvasP24IqHNiSS0hGXa9ay43dW8RSKDc3uaAnru3c9sFauCg07w3cuyTZ/l1ishyZ0WKuU4G1\n",
       "3A0FbJuxYgMlD3G/Fc09JRm8SVqnnLtOz66TvrrliaqhfT6Ekru5Fc4h3ChCE3f8oHEsQlBLZ0Cn\n",
       "80EP4MsltBpjOC3MAmsPEmZzAcxm5DDcE+39OiELJXdzO5QfwU1EaOK2u8u/MCloeRhrvmMhwjZy\n",
       "dFfAEyhdwSrNAkdiUDD7boKJOFTqDcITXfuP7mMoHW4GcKMI/fQHxgATWMvToGVy9dx1VR78Xhie\n",
       "KF2/Uesr3AfH7esfHwlvoG/+CaRv4AFpPNEHhLvcfIU7Pp6lJJBxxv9lFSf4URgitQAAAABJRU5E\n",
       "rkJggg==\n",
       "\" style=\"display:inline;vertical-align:middle;\" /></a><br>"
      ],
      "text/plain": [
       "<IPython.core.display.HTML object>"
      ]
     },
     "metadata": {},
     "output_type": "display_data"
    }
   ],
   "source": [
    "param_dep_lambda_example = Lambda(x_1_to_n, Add(ExprRange(k, Mult(k, IndexedVar(x, k)), \n",
    "                                                          one, n)))"
   ]
  },
  {
   "cell_type": "markdown",
   "metadata": {},
   "source": [
    "Note that the **ExprRange** parameter on the right appears as a prefactor as well as an index of $x$.  To respect the restrictions of a parameter dependent expansion, in this case, we may only apply this lambda map to an **ExprTuple** with **ExprRanges** whose indices match the original indices.  We demonstrate this below by applying `param_dep_lambda_example` to $a_1, \\ldots, a_j, a_{j+1}, \\ldots, a_n$.  First, we prove a few things in order to meet the necessary *requirements* for the expansion under a set of *assumption*"
   ]
  },
  {
   "cell_type": "code",
   "execution_count": 33,
   "metadata": {},
   "outputs": [
    {
     "data": {
      "text/html": [
       "<strong id=\"defaults.assumptions\">defaults.assumptions:</strong> <a class=\"ProveItLink\" href=\"__pv_it/exprrange_reductions/69174f66d73800893273183f08a342681172fb600/expr.ipynb\"><img src=\"data:image/png;base64,iVBORw0KGgoAAAANSUhEUgAAAO0AAAAVBAMAAABYonTIAAAAMFBMVEX///8AAAAAAAAAAAAAAAAA\n",
       "AAAAAAAAAAAAAAAAAAAAAAAAAAAAAAAAAAAAAAAAAAAv3aB7AAAAD3RSTlMAInZUiRDNmWbv3US7\n",
       "qzJazP2FAAAACXBIWXMAAA7EAAAOxAGVKw4bAAAC+0lEQVRIx52WTWgTQRTHX7LZZrPNpouIiJem\n",
       "ftRLlT2op4I56kFYevAQLI1IQbxYRET0EuzBY4MnQcFK7SWIhiIeBGFVFLQqCaUHRSR4UJSCkVKh\n",
       "VMT3ZiebndmdDRjIMm/+83tv5+2btwsANvT5pZRKXzQBSzuRef3h22nI3LnFzT1KB0uSXf7zyoXj\n",
       "mw3F8q7MsEN0WXOFBXnnKcAUN7RSvJfCS0hXpbkXg03QO8r75DJheoUmRkXdupupQo4bJxVO0khO\n",
       "S3Mf7WMANWXcroxYthqjW+NwGkxuXE54Utcle8UbsGFeubwrI5YLz4/V62z71s7ijiBuLSFuzhXB\n",
       "1rVUJSauLCN2JCQ/3tfdr/05XeJxtUpC3IGqCLas9t5o3IiM2EWq391Ndl6Cp2XZeVjmcbNYVkur\n",
       "28eKkrOJA3jJSGALvHyDxw2gqIzYWXINN9nN2724hZlyubel0rui/kuKO5NDwaiIYAu+6Ys8bgBF\n",
       "ZcQW0ByBdab36sqGWe21PzYdGGzch9RfqZrtITz4Wk0EW2A4435B9KCojBg1B1fboNnvdfx5PK7l\n",
       "fuCl0wBd3wK2RD9HS+ptGsJRrKlCRwRbAKuWHzeAYmTEWFPKstScCu9Xb5aDuKB1wIqU1xXaVE0E\n",
       "0fGkzvMcQFEZsQWWS9aSzHBc+JIP8kz8UNWV4t4j3/MiiI4LRY876UJRGbHnZA+zjpoOSjaPmUyv\n",
       "4QOgMc7mSphVqV2mtvBieCL4Hv8HPXwIEIIiMmEnyJ7zp88Ex5LeFZdA/82PynAbRo22GNfo8EMW\n",
       "BmmQrcAU5bcHyTJhP8j+5E9PLvu5LJy/7fflOpUOpvIJarNyL6Wtmg0B/LrpsY5vLkIYkmXCTLqj\n",
       "G9zXozd1oXw0Wv9A0SIpe7sU4GFxrSwjZszAirGhaIOZuN7v79aZcxPeGaXkFz9hzwrrpqPQJ1iR\n",
       "xX1V/HToIKS8eE4vJn/AeOx0XbiqWsBwPc55dn9DdUtUwcnbZViq2O9zaJtSGfm/7yvE/gGnkee6\n",
       "QzRvygAAAABJRU5ErkJggg==\n",
       "\" style=\"display:inline;vertical-align:middle;\" /></a><br>"
      ],
      "text/plain": [
       "<IPython.core.display.HTML object>"
      ]
     },
     "metadata": {},
     "output_type": "display_data"
    }
   ],
   "source": [
    "from proveit.core_expr_types import Len\n",
    "from proveit.logic import InSet\n",
    "from proveit.numbers import Natural, subtract\n",
    "param_dep_assumptions = [InSet(j, Natural), InSet(subtract(n, j), Natural),\n",
    "                         InSet(n, Natural)]\n",
    "defaults.assumptions = param_dep_assumptions"
   ]
  },
  {
   "cell_type": "code",
   "execution_count": 34,
   "metadata": {},
   "outputs": [
    {
     "data": {
      "text/html": [
       "<strong id=\"a_1_to_n_partition\">a_1_to_n_partition:</strong> <span style=\"font-size:20px;\"><a class=\"ProveItLink\" href=\"__pv_it/exprrange_reductions/a66b1fb5d205d2e8007a39dfc31bf38e465e0de50/expr.ipynb\"><img src=\"data:image/png;base64,iVBORw0KGgoAAAANSUhEUgAAADMAAAATBAMAAADPIygvAAAAMFBMVEX///8AAAAAAAAAAAAAAAAA\n",
       "AAAAAAAAAAAAAAAAAAAAAAAAAAAAAAAAAAAAAAAAAAAv3aB7AAAAD3RSTlMAMrsQds2rme9mIlTd\n",
       "iUQmv6lAAAAACXBIWXMAAA7EAAAOxAGVKw4bAAAA5klEQVQoz2NgwAA2n1QNGG78eABiMyqjymnz\n",
       "JTAwfwAzWQJQpXIW3GRgaGDABrIVWBcwHEAWYdE5cxTMyJrCFYAixRdiAGVlsQn4QqRM3MACS2Ey\n",
       "DFkMCkwPwFIFHBNAVBQDQkqc+TBIimUB/waQQACSFOeGTSAXMjPsBxnF2HPmzJlDUCmGZDaI42tA\n",
       "BLMCki4GM2aIC8+CyQPIUowOYJVc/8ACLnApRSB2BEtxQoKLdQNMKhqI2cGuYoPYwpz0GCIj+gMo\n",
       "wAyW4nCABsclaEDBANuG+QYM2IH8htM4ZBjY3R/gkAEAR4oz5b1xIc8AAAAASUVORK5CYII=\n",
       "\" style=\"display:inline;vertical-align:middle;\" /></a>, <a class=\"ProveItLink\" href=\"__pv_it/exprrange_reductions/dd26acf72276bf4c265ac70a87f53421f94d1b770/expr.ipynb\"><img src=\"data:image/png;base64,iVBORw0KGgoAAAANSUhEUgAAAGYAAAAVBAMAAABGR4Y+AAAAMFBMVEX///8AAAAAAAAAAAAAAAAA\n",
       "AAAAAAAAAAAAAAAAAAAAAAAAAAAAAAAAAAAAAAAAAAAv3aB7AAAAD3RSTlMAInZUiRDNmWbv3US7\n",
       "qzJazP2FAAAACXBIWXMAAA7EAAAOxAGVKw4bAAABoUlEQVQ4y32TO0jDUBSG/+bRR0xCJhGXtoJO\n",
       "Ch3ESWhxF+LiUCqtSMHNIiKCS8HBTUUchApW3DJoEXERobppHYqCKIgUN6WDUApO4r03tY9LrhdC\n",
       "Ts7h4/znvycALAiOsAApJqqccd/q6X0WymEBGBcQdVvKcyk9dgWkCZwRMCNAlksZR0oeISCQF6rG\n",
       "Js9MYh4aKCY8Idt9jzoOU2MMRPopM/EP43c1XAz/9bHepARhVoC+sZmpG96joSqgVGnoa49lWDoq\n",
       "hFkkJf0Bae4yAtgHgkyR3+owZi6ZBI6BS62McK2XiaIByDuM6XhgYUO+BcgN2ekS4nTcWYeeE1q2\n",
       "5SZgftHwgybLLcawXxiDOPDEzx8okkFZn1R3H7XqaqPAt8oxWoJoK7Kom8G7DlDD9iA3FY4Jl4gH\n",
       "TJEUae8OGVqqA9PEzB9ImS2O2ab6EixcaN8XXedV4JPILkJ95rf7laoqsXCu4u6DuXRAjSL5mvcO\n",
       "7JJnsBWf3zk9mxzMeRGPQWI11kRLde2RMxsa0eori5iUV3J5ndok/Ll9EVElKsj/AqEFVLvOYDq/\n",
       "AAAAAElFTkSuQmCC\n",
       "\" style=\"display:inline;vertical-align:middle;\" /></a> <a class=\"ProveItLink\" href=\"__pv_it/exprrange_reductions/7ce12972010990b2c68e517eab9aad9059900ace0/proof.ipynb\" style=\"text-decoration: none\">&nbsp;&#x22A2;&nbsp;&nbsp;</a><a class=\"ProveItLink\" href=\"__pv_it/exprrange_reductions/c0fc3ebb3d9a52e9b8c01e309824084e6898c91e0/expr.ipynb\"><img src=\"data:image/png;base64,iVBORw0KGgoAAAANSUhEUgAAASgAAAAvBAMAAACiW0omAAAAMFBMVEX///8AAAAAAAAAAAAAAAAA\n",
       "AAAAAAAAAAAAAAAAAAAAAAAAAAAAAAAAAAAAAAAAAAAv3aB7AAAAD3RSTlMAInZUiRDNmWbv3US7\n",
       "qzJazP2FAAAACXBIWXMAAA7EAAAOxAGVKw4bAAADZElEQVRYw+1YTWgTQRh9m3S7SfoXxeLF4lqK\n",
       "LYJSoS3Yg5Qi6qUSCkIFpTkKHgxqUURwT/WgaHooFBQJqBRaKL32oKjgQShaingTYj21B40/9SK0\n",
       "zs7M7k6S3a3sZKBCPwjZme/NN29n5puZtwDSiG4a1FisW6Jxg6mGVI9U6y4lnPSsVPP6jApShiXV\n",
       "PJFTQSop2X5SBak+yfYXVZC6Zif2hwNiFrUN7t5iIxDwQypI2W+6kG5cF9J8Au/Dl6+IH6cLc4ba\n",
       "Uq1IPSEJOAWjAH2c15yzcBP6iU+BxBie2zEVI/WQvGcJqQGsHOI1t4GnMIR+qxKW4rl9U0Qq+RKj\n",
       "80A/r3kE/Q9a5rWNwIRleD6VKkiR6Rs18QAuKf0HEiUkMsGkGP7O/fac06rWa+o16aQbH+NpGp6s\n",
       "I/0nmrJHgboCLVaYXUPxrXenMEEK91SMFEnpRjM+bdB31n9Tmv05MgZrGVYczaLigeK14SzW+ZZS\n",
       "c1sjPS2faTvCJmKGjMSFjs/LRWhveDFlT9I0+INdw/BNZkOeVMyqIJUqOk82qbg7YXuxSyw65tUk\n",
       "i0aOcC+oIOWdqDapOnfTfvd1TCi65tXsR+pLUfY8D7JX/H/P5UFg2B2Hzc2SUHTNq3mO2Glgn5pL\n",
       "3nmxUHGRrL5XmgGvVGPTZG60sTR2bMf+D9tma1WTFqMKjOrbnu02c13SYlSBEX2r6PCSO42T2y/z\n",
       "JqXFqBLVJytGw/BbBvKHDsmI0WIZvrk6uYMcCII6+lZCjM4JeOEKO5KFryMsJIc6+lZWjHI895Bf\n",
       "c3vB3xEWUoDa+lZWjHI8s0Z6jS/4O8JCClBb30YWo3pnt4DH8NVKUpWOkJC8zxsrnUwsRBWjaSOe\n",
       "hQ4Xn+sTSfk67JA6/EIy6MiClUxTfRtVjOJsXY5WMbyeOSWS8nXYIamjOiSFth5ES4bq28hiFPUW\n",
       "Us/g4Mnecmvx7eKiRUn5OuyQ1FEdkkGX2eeS2ehiFC1kqHs9z/eyNeXnoCF7ERzyMa6TTY3o28hi\n",
       "FKvk5+0MzfkyUj4OFnIgOKRWwtxx9r06qhjFYTKR3mkTW3L6PvnL9HXQkLoZHLJhCR0W07eRxSg5\n",
       "oGLCLchy1zP+zRGmbyOK0foXebF4adXZuCss0KFC3xqdZUlwZSwAF+gIsb//Ozz0aYDjrQAAAABJ\n",
       "RU5ErkJggg==\n",
       "\" style=\"display:inline;vertical-align:middle;\" /></a></span><br>"
      ],
      "text/plain": [
       "<IPython.core.display.HTML object>"
      ]
     },
     "metadata": {},
     "output_type": "display_data"
    }
   ],
   "source": [
    "a_1_to_n_partition = a_1_to_n.partition(j)"
   ]
  },
  {
   "cell_type": "code",
   "execution_count": 35,
   "metadata": {},
   "outputs": [
    {
     "data": {
      "text/html": [
       "<strong id=\"typical\">typical:</strong> <span style=\"font-size:20px;\"><a class=\"ProveItLink\" href=\"../packages/proveit/numbers/number_sets/natural_numbers/__pv_it/theorems/1a8a7907b709bbd24c48a9933f16dbe96429f5cc0/expr.ipynb\"><img src=\"data:image/png;base64,iVBORw0KGgoAAAANSUhEUgAAADUAAAAQBAMAAABEqSrGAAAAMFBMVEX///8AAAAAAAAAAAAAAAAA\n",
       "AAAAAAAAAAAAAAAAAAAAAAAAAAAAAAAAAAAAAAAAAAAv3aB7AAAAD3RSTlMARHarECKJu90yVM1m\n",
       "75kejotwAAAACXBIWXMAAA7EAAAOxAGVKw4bAAAA5ElEQVQY02NgwAQe36sdGHL/CjBgA1WMBgws\n",
       "H7BKMVgE5DAwXMAuZ1XAHcDQgCqm3tGxAUSbHmLdgCYnrQJlmDJPUAPJMSq7JhWBRVi3wBSZMhSw\n",
       "CwDl2NiNGPwDQCLcAQi5eSwtQDlBjgKG+AlgOQaEHM+C5UB3OvgLMKx3AInM7QCCAogcgwkzyA/r\n",
       "GRiswardkfQxOLOA3AmU+MMCEuFAluNUAJlwjYHrCxtIhEkBJlcJxJpAOdafDEwbToKFdsHkQAw+\n",
       "YCgwNjCw2CwACzkXgt3EMPsvUA/LBtQwE6voQBYBAAF6MQMvLZecAAAAAElFTkSuQmCC\n",
       "\" style=\"display:inline;vertical-align:middle;\" /></a> <a class=\"ProveItLink\" href=\"__pv_it/exprrange_reductions/737b179e1dbaf3011f60aeff0c87733b17bbc5a60/proof.ipynb\" style=\"text-decoration: none\">&nbsp;&#x22A2;&nbsp;&nbsp;</a><a class=\"ProveItLink\" href=\"__pv_it/exprrange_reductions/3b23aaa9cdfc56ae89b0970d0c2214e46dcd3f350/expr.ipynb\"><img src=\"data:image/png;base64,iVBORw0KGgoAAAANSUhEUgAAASwAAAAVBAMAAAAOUc6XAAAAMFBMVEX///8AAAAAAAAAAAAAAAAA\n",
       "AAAAAAAAAAAAAAAAAAAAAAAAAAAAAAAAAAAAAAAAAAAv3aB7AAAAD3RSTlMAIolEdjJUEM2ZZu/d\n",
       "u6v6CvZmAAAACXBIWXMAAA7EAAAOxAGVKw4bAAADC0lEQVRIx6WWTWgTQRTH/5uvbZKNjVAQwWrR\n",
       "HjxpQG+9xGJFPWgEvRXUgihY6AoepKLZm1BQgxdJqbgXwR6EqIgHkQalilBoChGPRshBRdqgVYuX\n",
       "ODszuzu72Wla9sFmeJP3/vvbefOFLCxTEMIkEllPszFT7Jw9tD0SBusg/Y3kfN1MOXZuM1LRPE+l\n",
       "yYmBMFgxcx2sMfKM6nwsyrcLXbSOi1jXEMpuybFUA+q3uxyrH5FfXaR6dAFrOhzWrBwraY3kSY71\n",
       "BXjVRSpVErAq4bDSuhQrDQFrTsdKtxXw0sVKGOGwekwp1iUR6wew0m1yTblYSWvG7xzsE//2uZ0m\n",
       "BEQaUqx7IhaxRekaPHFlsE7afS6W9bXRp/isC1FeN0BGCEgZNlZygVrDwZryYsVXZXqRTBNFUuHH\n",
       "LpZG9pbrJmaASbuc1FV3L0vRWDyzREU6Wu+8WFpDpndAq2EXqfBlFytNFB8CbxA/XOVR1E0iWZXJ\n",
       "0AB7DFpSrOderAfS0deLOUyQuLNerNdQyZ6SsDGo25tTfstkWDwvaGWDWKmGfFZMAF9JM+QporqK\n",
       "VMvFYm5Kl2LxgOnTx8CzgueWt4hjUKQbBGH6pwLjLlYmD/UPthjn6QtU663MRaRKXf+A2wGTQ2aa\n",
       "vCdVk45W3cayyOIDiOkBerTrGRJ/I8ATF8ta4HWMl0oUq2jAdq3TzHLVNfB+x6MB246iV+cbTDAW\n",
       "Xe/7syxnR7k845NxPFKXmPGI7ygMK05gbg6fahYolvYetqt84u4Hq9Ql+2dBtwOadC5oOSnWKHmW\n",
       "5+6YNGex3V5jelTGFSVdUVKX72RHeCscPvPOUrdmyUVHeTu2iq4T5aysFyjHySjIz0St0JHTqSd0\n",
       "KVUBa9aD5dxylI9n7guuu/U5AS3MX+AnfTAWO3rFnAA9oYse7TZWhq8PZe9PMvvzzhHcbrcE17Gr\n",
       "zs7QwLAJpbbOfWvJnxOgJ3T1i/cttSbe6nyXvM6P8wmzj5Jg3fDnBOgJXUs8dYS2fWEuEIeYtv9u\n",
       "wJSV/KYuuqxsI/8BNQ/bUhYZZSUAAAAASUVORK5CYII=\n",
       "\" style=\"display:inline;vertical-align:middle;\" /></a></span><br>"
      ],
      "text/plain": [
       "<IPython.core.display.HTML object>"
      ]
     },
     "metadata": {},
     "output_type": "display_data"
    }
   ],
   "source": [
    "typical = Len(a_1_to_n_partition.lhs).typical_eq()"
   ]
  },
  {
   "cell_type": "markdown",
   "metadata": {},
   "source": [
    "from proveit.logic import InSet\n",
    "from proveit import j\n",
    "from proveit.numbers import Natural\n",
    "InSet(j, Natural).prove()"
   ]
  },
  {
   "cell_type": "code",
   "execution_count": 36,
   "metadata": {},
   "outputs": [
    {
     "data": {
      "text/html": [
       "<span style=\"font-size:20px;\"><a class=\"ProveItLink\" href=\"__pv_it/exprrange_reductions/a66b1fb5d205d2e8007a39dfc31bf38e465e0de50/expr.ipynb\"><img src=\"data:image/png;base64,iVBORw0KGgoAAAANSUhEUgAAADMAAAATBAMAAADPIygvAAAAMFBMVEX///8AAAAAAAAAAAAAAAAA\n",
       "AAAAAAAAAAAAAAAAAAAAAAAAAAAAAAAAAAAAAAAAAAAv3aB7AAAAD3RSTlMAMrsQds2rme9mIlTd\n",
       "iUQmv6lAAAAACXBIWXMAAA7EAAAOxAGVKw4bAAAA5klEQVQoz2NgwAA2n1QNGG78eABiMyqjymnz\n",
       "JTAwfwAzWQJQpXIW3GRgaGDABrIVWBcwHEAWYdE5cxTMyJrCFYAixRdiAGVlsQn4QqRM3MACS2Ey\n",
       "DFkMCkwPwFIFHBNAVBQDQkqc+TBIimUB/waQQACSFOeGTSAXMjPsBxnF2HPmzJlDUCmGZDaI42tA\n",
       "BLMCki4GM2aIC8+CyQPIUowOYJVc/8ACLnApRSB2BEtxQoKLdQNMKhqI2cGuYoPYwpz0GCIj+gMo\n",
       "wAyW4nCABsclaEDBANuG+QYM2IH8htM4ZBjY3R/gkAEAR4oz5b1xIc8AAAAASUVORK5CYII=\n",
       "\" style=\"display:inline;vertical-align:middle;\" /></a>, <a class=\"ProveItLink\" href=\"__pv_it/exprrange_reductions/dd26acf72276bf4c265ac70a87f53421f94d1b770/expr.ipynb\"><img src=\"data:image/png;base64,iVBORw0KGgoAAAANSUhEUgAAAGYAAAAVBAMAAABGR4Y+AAAAMFBMVEX///8AAAAAAAAAAAAAAAAA\n",
       "AAAAAAAAAAAAAAAAAAAAAAAAAAAAAAAAAAAAAAAAAAAv3aB7AAAAD3RSTlMAInZUiRDNmWbv3US7\n",
       "qzJazP2FAAAACXBIWXMAAA7EAAAOxAGVKw4bAAABoUlEQVQ4y32TO0jDUBSG/+bRR0xCJhGXtoJO\n",
       "Ch3ESWhxF+LiUCqtSMHNIiKCS8HBTUUchApW3DJoEXERobppHYqCKIgUN6WDUApO4r03tY9LrhdC\n",
       "Ts7h4/znvycALAiOsAApJqqccd/q6X0WymEBGBcQdVvKcyk9dgWkCZwRMCNAlksZR0oeISCQF6rG\n",
       "Js9MYh4aKCY8Idt9jzoOU2MMRPopM/EP43c1XAz/9bHepARhVoC+sZmpG96joSqgVGnoa49lWDoq\n",
       "hFkkJf0Bae4yAtgHgkyR3+owZi6ZBI6BS62McK2XiaIByDuM6XhgYUO+BcgN2ekS4nTcWYeeE1q2\n",
       "5SZgftHwgybLLcawXxiDOPDEzx8okkFZn1R3H7XqaqPAt8oxWoJoK7Kom8G7DlDD9iA3FY4Jl4gH\n",
       "TJEUae8OGVqqA9PEzB9ImS2O2ab6EixcaN8XXedV4JPILkJ95rf7laoqsXCu4u6DuXRAjSL5mvcO\n",
       "7JJnsBWf3zk9mxzMeRGPQWI11kRLde2RMxsa0eori5iUV3J5ndok/Ll9EVElKsj/AqEFVLvOYDq/\n",
       "AAAAAElFTkSuQmCC\n",
       "\" style=\"display:inline;vertical-align:middle;\" /></a>, <a class=\"ProveItLink\" href=\"../packages/proveit/numbers/number_sets/natural_numbers/__pv_it/theorems/1a8a7907b709bbd24c48a9933f16dbe96429f5cc0/expr.ipynb\"><img src=\"data:image/png;base64,iVBORw0KGgoAAAANSUhEUgAAADUAAAAQBAMAAABEqSrGAAAAMFBMVEX///8AAAAAAAAAAAAAAAAA\n",
       "AAAAAAAAAAAAAAAAAAAAAAAAAAAAAAAAAAAAAAAAAAAv3aB7AAAAD3RSTlMARHarECKJu90yVM1m\n",
       "75kejotwAAAACXBIWXMAAA7EAAAOxAGVKw4bAAAA5ElEQVQY02NgwAQe36sdGHL/CjBgA1WMBgws\n",
       "H7BKMVgE5DAwXMAuZ1XAHcDQgCqm3tGxAUSbHmLdgCYnrQJlmDJPUAPJMSq7JhWBRVi3wBSZMhSw\n",
       "CwDl2NiNGPwDQCLcAQi5eSwtQDlBjgKG+AlgOQaEHM+C5UB3OvgLMKx3AInM7QCCAogcgwkzyA/r\n",
       "GRiswardkfQxOLOA3AmU+MMCEuFAluNUAJlwjYHrCxtIhEkBJlcJxJpAOdafDEwbToKFdsHkQAw+\n",
       "YCgwNjCw2CwACzkXgt3EMPsvUA/LBtQwE6voQBYBAAF6MQMvLZecAAAAAElFTkSuQmCC\n",
       "\" style=\"display:inline;vertical-align:middle;\" /></a> <a class=\"ProveItLink\" href=\"__pv_it/exprrange_reductions/82b6639e3cb27474f6fd05b5671dad76e952c0600/proof.ipynb\" style=\"text-decoration: none\">&nbsp;&#x22A2;&nbsp;&nbsp;</a><a class=\"ProveItLink\" href=\"__pv_it/exprrange_reductions/4aa7bc9566d132736b16305a9f7da6dab0ffb9da0/expr.ipynb\"><img src=\"data:image/png;base64,iVBORw0KGgoAAAANSUhEUgAAAdIAAAAWBAMAAACGQAATAAAAMFBMVEX///8AAAAAAAAAAAAAAAAA\n",
       "AAAAAAAAAAAAAAAAAAAAAAAAAAAAAAAAAAAAAAAAAAAv3aB7AAAAD3RSTlMAIolEdjJUEM2ZZu/d\n",
       "u6v6CvZmAAAACXBIWXMAAA7EAAAOxAGVKw4bAAAD8ElEQVRYw82XTWgTQRiG383fdvNjIxRE0Fq0\n",
       "gl40oJ56iWLFetAKelKwCqKg0BUKSgUT8CAIahCxtLSYi2APYhREUKRBKSIUGqHiQYpReqgiNWrV\n",
       "4qXOzu7szm5msiEHyRyy+fb75s37ZOdvkYTRFDRXk7hqxKzCum6g1z1NRrqdfgZSntuNmA2mra60\n",
       "c6SjyUhDeTkpNXtUt57Y8LVeH619POkFNFu7IiclZtXPNyzStQj89JFq0TnSkaYjHZeTUrMHLNKP\n",
       "wDMfqWiOIy00HWlMl5IWeNIJHd+SPlpPHNJItulIW/IyUtMsI/0KfPObqFcdUs2Y4+2dbXzaE1Y3\n",
       "d4HyaWdavMjLErUlA2UZKTVrk5I2LV1195/rnCHXLQ6p8QcGH+KDzlW5Q4GMWRC2wq5k4g+5VP+9\n",
       "0oRU0pxcWUaqTdFWZqT0aXOk4UWZXiAxhwwZ2vcc0ngfcDGPUWCQjWMaqusXpLRmPeImgvoUWpFc\n",
       "J1maCXkTdUjSFinInqlhlieNl2V62+IlrCP+zjikMaJ4B3iB8O6iVUVDzXQpbLTAbloFcbYna8Yf\n",
       "zYS8iXolwxUZaSzlJh2TjhE9k0I/qTvmJn0OlWxMEWaDhq0p5ZdMxqy3l8oSMsxWgj6TojhRr2Sw\n",
       "UCdptCyfDv3AvDGBXKNXXUS04hg0w6gutWXVD9w2w0waD8jNnj4vqTfhKxkdOdTD+gvnqWf0noAi\n",
       "3WUI5l8VOOuQJtJQf2NF9rj5A0TEChEoQhUMC7sgdxq0INOH+UhSozuATSpM+EkOduVjxHq0JHum\n",
       "iTQjNWDDHQjpYj3gESJ/AsB9h9RY0mdwNpczDS6BhcbxMpO1btEPO6IFqr7ZvJVIR15rOB/I8aTC\n",
       "hEvS+OKRXLUXrbq1lwhJ6f6DrUmzz5rh4VGPjP2FjJ5Q9i5w0yENE1uXdh2c6zWf6ZTOQuUdGS2v\n",
       "yK3XsD7iOVeBsSsbBercxvZuugOMzb6fnc1TIWHCJUnVPJJzdF7FUzJSwywWJq7naZ/p5eUlU4/K\n",
       "uCwGyej5Qsb6S+40aG8OlDRir2ursRI4VTU0nAJ8B1/QmnTNU1HCV/IxhskmvUZ+7p2s7lPTolLk\n",
       "SMddpAG75u3hIaD6jc4uQNhYIp2CI+61V5DwlVQqmDxpHePFpOPVNmpZhJbnSBPW8qVs+kHm+4C9\n",
       "dywvV6BWH+YGnPdIMmm4gv02kCEkSvhKBsvYRcZ4SU7KzDp9alokL3YcqVriq9z9QtULW9p1EA95\n",
       "ztIJQU9pQvybFo2Y1Dabrk/vjdW1m17bGnvjuHzE9f6xo8COQp4XE1lC2naaBN7TciNmQ0mua8Pt\n",
       "1hAfaT2SI6008T/bPyXWTRNkJfGNAAAAAElFTkSuQmCC\n",
       "\" style=\"display:inline;vertical-align:middle;\" /></a></span>"
      ],
      "text/plain": [
       "{j in Natural, (n - j) in Natural, n in Natural} |- |(a_{1}, a_{2}, ..., a_{j},a_{j + 1}, a_{j + 2}, ..., a_{n})| = |(1, 2, ..., n)|"
      ]
     },
     "metadata": {},
     "output_type": "display_data"
    }
   ],
   "source": [
    "Len(a_1_to_n_partition.rhs).deduce_equal(typical.rhs)"
   ]
  },
  {
   "cell_type": "code",
   "execution_count": 37,
   "metadata": {},
   "outputs": [
    {
     "data": {
      "text/html": [
       "<span style=\"font-size:20px;\"><a class=\"ProveItLink\" href=\"__pv_it/exprrange_reductions/a66b1fb5d205d2e8007a39dfc31bf38e465e0de50/expr.ipynb\"><img src=\"data:image/png;base64,iVBORw0KGgoAAAANSUhEUgAAADMAAAATBAMAAADPIygvAAAAMFBMVEX///8AAAAAAAAAAAAAAAAA\n",
       "AAAAAAAAAAAAAAAAAAAAAAAAAAAAAAAAAAAAAAAAAAAv3aB7AAAAD3RSTlMAMrsQds2rme9mIlTd\n",
       "iUQmv6lAAAAACXBIWXMAAA7EAAAOxAGVKw4bAAAA5klEQVQoz2NgwAA2n1QNGG78eABiMyqjymnz\n",
       "JTAwfwAzWQJQpXIW3GRgaGDABrIVWBcwHEAWYdE5cxTMyJrCFYAixRdiAGVlsQn4QqRM3MACS2Ey\n",
       "DFkMCkwPwFIFHBNAVBQDQkqc+TBIimUB/waQQACSFOeGTSAXMjPsBxnF2HPmzJlDUCmGZDaI42tA\n",
       "BLMCki4GM2aIC8+CyQPIUowOYJVc/8ACLnApRSB2BEtxQoKLdQNMKhqI2cGuYoPYwpz0GCIj+gMo\n",
       "wAyW4nCABsclaEDBANuG+QYM2IH8htM4ZBjY3R/gkAEAR4oz5b1xIc8AAAAASUVORK5CYII=\n",
       "\" style=\"display:inline;vertical-align:middle;\" /></a>, <a class=\"ProveItLink\" href=\"__pv_it/exprrange_reductions/dd26acf72276bf4c265ac70a87f53421f94d1b770/expr.ipynb\"><img src=\"data:image/png;base64,iVBORw0KGgoAAAANSUhEUgAAAGYAAAAVBAMAAABGR4Y+AAAAMFBMVEX///8AAAAAAAAAAAAAAAAA\n",
       "AAAAAAAAAAAAAAAAAAAAAAAAAAAAAAAAAAAAAAAAAAAv3aB7AAAAD3RSTlMAInZUiRDNmWbv3US7\n",
       "qzJazP2FAAAACXBIWXMAAA7EAAAOxAGVKw4bAAABoUlEQVQ4y32TO0jDUBSG/+bRR0xCJhGXtoJO\n",
       "Ch3ESWhxF+LiUCqtSMHNIiKCS8HBTUUchApW3DJoEXERobppHYqCKIgUN6WDUApO4r03tY9LrhdC\n",
       "Ts7h4/znvycALAiOsAApJqqccd/q6X0WymEBGBcQdVvKcyk9dgWkCZwRMCNAlksZR0oeISCQF6rG\n",
       "Js9MYh4aKCY8Idt9jzoOU2MMRPopM/EP43c1XAz/9bHepARhVoC+sZmpG96joSqgVGnoa49lWDoq\n",
       "hFkkJf0Bae4yAtgHgkyR3+owZi6ZBI6BS62McK2XiaIByDuM6XhgYUO+BcgN2ekS4nTcWYeeE1q2\n",
       "5SZgftHwgybLLcawXxiDOPDEzx8okkFZn1R3H7XqaqPAt8oxWoJoK7Kom8G7DlDD9iA3FY4Jl4gH\n",
       "TJEUae8OGVqqA9PEzB9ImS2O2ab6EixcaN8XXedV4JPILkJ95rf7laoqsXCu4u6DuXRAjSL5mvcO\n",
       "7JJnsBWf3zk9mxzMeRGPQWI11kRLde2RMxsa0eori5iUV3J5ndok/Ll9EVElKsj/AqEFVLvOYDq/\n",
       "AAAAAElFTkSuQmCC\n",
       "\" style=\"display:inline;vertical-align:middle;\" /></a> <a class=\"ProveItLink\" href=\"__pv_it/exprrange_reductions/5bb6c8a0c82e0423086d58bf04bf82c17c1ff2ab0/proof.ipynb\" style=\"text-decoration: none\">&nbsp;&#x22A2;&nbsp;&nbsp;</a><a class=\"ProveItLink\" href=\"__pv_it/exprrange_reductions/d464d4934ad3855694e98e564831c042b87fac4c0/expr.ipynb\"><img src=\"data:image/png;base64,iVBORw0KGgoAAAANSUhEUgAAAS8AAAAuBAMAAACL24L6AAAAMFBMVEX///8AAAAAAAAAAAAAAAAA\n",
       "AAAAAAAAAAAAAAAAAAAAAAAAAAAAAAAAAAAAAAAAAAAv3aB7AAAAD3RSTlMAInZUiRDNmWbv3US7\n",
       "qzJazP2FAAAACXBIWXMAAA7EAAAOxAGVKw4bAAADrUlEQVRYw+2YT0gUURzHfzt/dN3VbQ+dQnDt\n",
       "IB2KPFhQF4fu0eTZcC+Ch6KIyKgOC0FeIkUK+nNwISKywMVbdVHvgRWVRaFnCdJkJRCy997MvD/z\n",
       "5s+byBeEP9iZ/Q2f93vfffNm3vsuAJQhQ+RAWxi9WehiRZuwPvRZdf3xGD27koIf0KXLroL98bwv\n",
       "rBOsrRS+xdUkrLWGDof93t4A3E/h8xc0CWsDTtiUC8tpz8JdTcKO8sI+AyynTbIRTcIu8cJQzMQ+\n",
       "j4dOn1hA55OahI2Iwko/4kCr/S0Moft8k8zMaRKLOyjskSisENvXq8IcdKH7fEzTiD0UhV2PBd2h\n",
       "BvQj7vs/EZZPuDn9AB/Q6YUmYeKt7INc7OsCqfppAxzXNMcWAmFYW8kBw7Ujlgd8uANm0wK4pWnE\n",
       "yNN/qgz2JjrvGx29CkNV9A0fyCWa5X6BUb3tv180xCr6fJ06V4NpNGQz29ubUHiMn0688jwJvuBL\n",
       "xTrYS2gn8kyTsELwpjfpk3lEptilXF2TMLooW/SSI1OOuOhriXn/PEBnurwX5C51atsoDvpn2rcR\n",
       "scuVf8fORy7TZtkow27sxn8T5b/XpJwZSkCyGd5kjzybFUpCMhjeby7zyDShm3K0nho10UiHIVLf\n",
       "SF87MJLF8PZQj8ySIM5cbqLjMG+kZcirP5w+ZMPZDW94uSwGiYGFjSVDXv2x9C7G/sDw+k2CMCu8\n",
       "sDY3EfLqt6X/y4CQzIbX98jRwlpqiZBXvyV9kiFE2fCCvX+ReWSaiMKsRd5IyxCpbyVYhdn3ew9W\n",
       "CKJseKEV7jGPTBNRWL7KG2kZIvUZFLHxe12x1wmibHihGzaYsaKJKMyc4N2XDJH6DJL/h2g8x+YC\n",
       "I8qGF1yzyayolyAX9/SB7+KIsNIa71dliNRnkDxd7C3AjRCibnihtc555CARR6w4IRhpCSL1i/Ej\n",
       "BuYadFQJom54oeBwHjlIQreyLhhpCSL1zQQ/g1TtqbkYUTe80NUgkNcEJVGTfy6gIyFSn4NCcwW/\n",
       "wBzodx2MKBtegHHvitdkPPwes9bxvXMCOhIi9RlEytFeyJeuFejJr2BE2fACfAECkSY4Efrs+LS5\n",
       "hMBGQEdCpD4H4Q5YL7j4S7Tq3iBIBsM76UOkySRI7048JJRWgkIT3+URZcP7Lt/0IdSEJOIiTuIK\n",
       "LaAEhf6zFBFFw1vaKPQG0LyXRFjBOVZACRJiQERUDe/FaxQa9BI52susgBIkREVEshneZI/cnRWK\n",
       "R34Df70vVhpmaDAAAAAASUVORK5CYII=\n",
       "\" style=\"display:inline;vertical-align:middle;\" /></a></span>"
      ],
      "text/plain": [
       "{j in Natural, (n - j) in Natural} |- (1, 2, ..., n) =  \\\\ (1, 2, ..., j,(j + 1), (j + 2), ..., n)"
      ]
     },
     "metadata": {},
     "output_type": "display_data"
    }
   ],
   "source": [
    "typical.rhs.operands.entries[0].partition(j)"
   ]
  },
  {
   "cell_type": "code",
   "execution_count": 38,
   "metadata": {},
   "outputs": [
    {
     "data": {
      "text/html": [
       "<strong id=\"param_dep_operands\">param_dep_operands:</strong> <a class=\"ProveItLink\" href=\"__pv_it/exprrange_reductions/2da30b10a822dae938dd42dc5b33f457744730a50/expr.ipynb\"><img src=\"data:image/png;base64,iVBORw0KGgoAAAANSUhEUgAAASgAAAAWBAMAAACBLhxDAAAAMFBMVEX///8AAAAAAAAAAAAAAAAA\n",
       "AAAAAAAAAAAAAAAAAAAAAAAAAAAAAAAAAAAAAAAAAAAv3aB7AAAAD3RSTlMAInZUiRDNmWbv3US7\n",
       "qzJazP2FAAAACXBIWXMAAA7EAAAOxAGVKw4bAAACnUlEQVRIx81XTWgTQRh9m2S6SRqTKooXC6sU\n",
       "I4ISwRbsQUoRPSlBECooyVHwYLAtigjuqSfBehAERQIqBYXSay+iBQ9C0BLEm1B7aw8afy+C9Zuf\n",
       "bCabmW3Ryz7IsvO9lzcvO/vNbgAMIFZw+CFRileofo8ORxEzHABYNW6h+spw/biFSteQQexwDyPx\n",
       "C3UJU7wL3+/1tOLg+I5NunaL+k2NzNLTFAtYHMj91HryLt6VIx2UfqVLn+9tbhsBm1RiBo+pAe/D\n",
       "rYPNqNp5HzfATny0BpN6YF7TA1mVERNVGIkoSyWVOIYHgNtCdgyrB1XtFvAErpzXCKkPIPSKoU9+\n",
       "X91MRFlqUuALD5V5icoCMKpqD8F+o7Dg/LE5KD10vUSOH5J1MxFlqUnp7uDLV/FwB0Eo9g3pFtJl\n",
       "u4PUs2JJ0+PsZDhUmIiwVHNeXy1CBFmiSUr4kBwQoWjR2Xdsqx4BUnUxDIFXpN5NVsEQ6Gsjeigj\n",
       "wS0ZTJZSOrHoZ/jbwW3qP+S85JwrrhT7RbUljNZqwHpZDitVhE6k/lyqJkpSz8qn9FBGglsKotdS\n",
       "SHftR4H/6CmsU7l5ZvCwXL5nVLw49Km5Aue1GmYpIOagTnhF6ft8ZJ+irae95WbjTaPhi1BGglsK\n",
       "otdSSpt0OxGedzpZhEoGC7Yb2/VhG1qlQJd6uMN87bqnTISwHIbd8hGu0abm1PnjTwuVCjbtt5+n\n",
       "tWEArbJGn87OkJ/tCmUgpOWY3dJpYf44xCvCK1XaeWWcWiVo+42NljYMoFUO0UJ2njaJ5fbcJ394\n",
       "RkJYMs9u2b+MIQq0h04v6ILQV3odPP25iYT2FuQH9zO2Rtgm4VfJ8f7tVezFrD68vNbeuEOwEjYk\n",
       "/uM/g1vsaoKr0xadlYjAX4q70KqBKNPLAAAAAElFTkSuQmCC\n",
       "\" style=\"display:inline;vertical-align:middle;\" /></a><br>"
      ],
      "text/plain": [
       "<IPython.core.display.HTML object>"
      ]
     },
     "metadata": {},
     "output_type": "display_data"
    }
   ],
   "source": [
    "param_dep_operands = a_1_to_n_partition.rhs"
   ]
  },
  {
   "cell_type": "markdown",
   "metadata": {},
   "source": [
    "Now we will apply `param_dep_lambda_example` to $a_1, \\ldots, a_j, a_{j+1}, \\ldots, a_n$"
   ]
  },
  {
   "cell_type": "code",
   "execution_count": 39,
   "metadata": {},
   "outputs": [
    {
     "data": {
      "text/html": [
       "<a class=\"ProveItLink\" href=\"__pv_it/exprrange_reductions/525039d0f8f3ff0a64d8a1b8c3a53298fc4941930/expr.ipynb\"><img src=\"data:image/png;base64,iVBORw0KGgoAAAANSUhEUgAAAsgAAAAXBAMAAADkcqSWAAAAMFBMVEX///8AAAAAAAAAAAAAAAAA\n",
       "AAAAAAAAAAAAAAAAAAAAAAAAAAAAAAAAAAAAAAAAAAAv3aB7AAAAD3RSTlMAInZUiRDNmWbv3US7\n",
       "qzJazP2FAAAACXBIWXMAAA7EAAAOxAGVKw4bAAAGNElEQVRo3t1ZbWhbVRh+b5LbJDcfvQ5EKB1L\n",
       "t7n6pxpHKbgfruyHglB3HSoTOpI/gqBimHMpdWD+uP5RG0Vhc8MGqhQj64K/LIKkBUEhaK06pyir\n",
       "IsiK2HY1RSgs3vNxc8/XTe91RcQDJ03Ofc77PO9zPu69pwBggrpI7Rr4RQbEmaoG8x+SaaoGzS94\n",
       "p1OjFKGsx9UPxYZ94BepLr6ZENC/LKEkMgrZ+/yCdzo1SjFo1xVL1bHE/w4Pg1Z8ZtkH0qMgJvjd\n",
       "2r7/oBc4/Z4Psrsk2bhC+lP+wh2nv5DAt5Satx49D/p3z6lMhif5n48D9EJkywdSXWwmuxzYvj8C\n",
       "KsEnTjd9kHVZomxcIZTnl3EdjtZE8C2l5q0niobqHiXVBJ3vdDDHAL4CON8B+ZGahTZHvSfFhATk\n",
       "wU7gUNMFe5ZYQZSNq7t+yYWUCfGyAwaf0oKnhvXEwdPkOGkN032rDDBlwTXTG3lQzUKb4946+P5x\n",
       "CXyQNTm+3eR7S5SNq7t/kAvxJqTWHbBfacFTw3qGvE3uKrGiwvaS+AHg2rI3srOSoQ4rqiQCh7xN\n",
       "7tpum3xKlB3OK0xOVSB10wH7lRY8NaznlGjy7iO76LfIIisqOoz/XHY3tW/6MjyysxLEpO9d7MDE\n",
       "AHkwZ3JEGYIpI6JsLP3YAG+yXYw1Bywm5Ba/qSUGHjmyoBY2QkaSMTnxOnxJf8XyrCgypOkbbeSc\n",
       "mWwCh+ysBDFF4VwHJgbIgzmTY3lVCKacFWVj6YV4STR5NeOAxYSYHdVnapHkEuRMpbCzMC2Y/EQJ\n",
       "xp0hL7OiDPwoaLSnkX4OohUe2VkJYuqDDZEpLfWflsCcyeGyKgRT7hNloxoyu7OiyZfaYDYhfj/0\n",
       "m9rHRh32LCtcRBQXXJNzaNBeAngX4Dj6mrZXU7Raff/tatW2Nl5DmDNYziaaZ2tgDMOjI99S5Hi1\n",
       "er5avSTKcJsRkxVuOv0pExjLYv8LHJgNjE1GYDkELlg2rIqyUdXhMErSvWB/rxMwzZwkBDBLgwVL\n",
       "zcrVCAPjorNgWJMN9DhzEfQtSO9FQ5rgZjI2OUYm8gz6XQc7bgGPWMLPcGMmMvlRf8JEV1dZBDJg\n",
       "cSYTsBgiigzBsmFOlE3mx7i4J7/aBuPMSUKkFHANlNphgCu8i+1tSNwu9BsQs8cujNSGK9J2MQia\n",
       "s+/kMjAJsIXXCEVuv12QucIyEYqKartwwfx2UVGFSLpxDqm2C3dqOSbbr4G3OWA3IVLQHA+Ymu3w\n",
       "X7pCGKJYEEzegFT+XhI6VmdFJe0/6WEIOdBcFq6EzZexEorsrAQz7akJTMeeB7H/ggTmb3x1VQjG\n",
       "5FdE2aiCtiWY/CvAnQ7YTUjvz1KTA6b2JoSbEU5YbOyXfqIHP8Icdd8wFuBQoUDU0oc2Kgo9y/QU\n",
       "i+39PJkJz6A1+pCLJJR4u8QfOe7OjJkmQWAqDIn9MZAHOylG1l2wEIIx+ZQoGz+GucuGXNBmisWK\n",
       "A3YTiuKHauKsOjWclZSadtN+b3+NE3Z8rhQ3sZ4V+/OnqWfbD/gn9v+8tEzUGjVWVNpuutxqbban\n",
       "0dLDu+8mZzYOklLOOB9GgW1GTPAjcxKBmHTrQan/igSmF1Lfb15tg4UQjMkfiLJRhVSdN9lotVp5\n",
       "B+wm9Fik4JjskRrOSkotUQH9apYTdvsB6LawHkP1BkfU9vDLa1a5YHotF9l5TWGmN5TvZz0SkAdz\n",
       "gXsUIc40Pm80SkS2VpFkoxrPSC8jLph7xYs2GhcbnwVOTS5L+LZqU6hPSLDaMf6ASHkwoxXQnXDM\n",
       "zymKzfR1TH7aXwexP5LEg7nAY8oQ7kympzWs7AlIZSct/oDI62in26QzOVhqqvIOFNOEYt7LZK3O\n",
       "tyVVR0O9f/xmSUiPMp/eMKTD7XRZZpr3AtMjSkUIxuReWXbSXM1Oqxei1HLdeboIlJpS6RrM3k8o\n",
       "RlWXH/gzI5mqq/imWi0P++UyCidflE/FF+X+o15g9VijENhkLFtMGMnW69H+mk93BhyTg6Wm+p/I\n",
       "Iuyns1jz+g9Mn9iwC/wi1UXJhM4V+hRA/7LI0USybbmpkO0lPWSqz/DqO5GaJ8W/XZ6+vkMhojuj\n",
       "p+uTsvPG9/8pJ1/4L4RgboT91s4n+TfI4hBoO7fXMQAAAABJRU5ErkJggg==\n",
       "\" style=\"display:inline;vertical-align:middle;\" /></a>"
      ],
      "text/plain": [
       "(1 * a_{1}) +  (2 * a_{2}) +  ... +  (j * a_{j})+ ((j + 1) * a_{j + 1}) +  ((j + 2) * a_{j + 2}) +  ... +  (n * a_{n})"
      ]
     },
     "metadata": {},
     "output_type": "display_data"
    }
   ],
   "source": [
    "requirements = []\n",
    "param_dep_lambda_example.apply(*param_dep_operands.entries, requirements = requirements)"
   ]
  },
  {
   "cell_type": "markdown",
   "metadata": {},
   "source": [
    "The following requirements are needed for this lambda application.  First, the length of the operands must match the length of the parameter index range for a proper applications (as we saw in the previous chapter).  Second, the indices themselves must match in order to perform this parameter-dependent **ExprRange** expansion."
   ]
  },
  {
   "cell_type": "code",
   "execution_count": 40,
   "metadata": {},
   "outputs": [
    {
     "data": {
      "text/html": [
       "<a class=\"ProveItLink\" href=\"__pv_it/exprrange_reductions/0695d7a2cb10b7d61b8105573878605474e0b83c0/expr.ipynb\"><img src=\"data:image/png;base64,iVBORw0KGgoAAAANSUhEUgAABBoAAAAXBAMAAABXIzGhAAAAMFBMVEX///8AAAAAAAAAAAAAAAAA\n",
       "AAAAAAAAAAAAAAAAAAAAAAAAAAAAAAAAAAAAAAAAAAAv3aB7AAAAD3RSTlMAInZUiRDNmWbv3US7\n",
       "qzJazP2FAAAACXBIWXMAAA7EAAAOxAGVKw4bAAAIu0lEQVRo3u1ZfYhUVRQ/8/F2vnbHKfqAMBwt\n",
       "tT/ULFQoooaK+sOsl1AYrOxUCEpFQ5krJjUU5D+VU1RYSQ70IU1qg/RlQYyWgbbaamUWZVsEoVSu\n",
       "2UoiuN3ve+579z5nzD+W6Mhd5777O+ed87vn3nc/AKBA/lGJwdgSh1en4+yZDLBw5lQKHYM6gHTk\n",
       "Z0zSE58Jc9mTi8ZYNmxmf5PNwOPTcdZhSkpiyfF7GzuqLu05617YuWGNqBC6OhWnyuZOQR1AOvMz\n",
       "V+QFZgmCE6Uxlg3xqjsbqLP512Vi99871JGpQ36gedcQlLuc2tMOQBeURWUW1j9/2e6It/7maxVV\n",
       "kUK9j6MEtIFYYPFqm0yZgv08NUFwCS9eWRB8O4w1WeTOBuLswmUj4sl4SJ7owJT3zf2BnklVCKHX\n",
       "OZX7CVFJMdQIXVo/1oJbmu6XTlEquiKFe79I1a0gHtiiNpkyxPCzDYK6fFZSVUHw8jGXDavc2UCd\n",
       "jcts2APwYkemLg1kQ08Ber2WU3kPeK1emThVpE/0MrVThpHCIzcnK8z7VXYQfIADW9UmU+GXSj/b\n",
       "IChdYSUjCa6NuWzI+M5sqOFsWOfDj4VOTEmW4jsbb7CBBPBIT3gundZosBFLhszQAWkI62dGoOfI\n",
       "qcMwlihFnA0Z3wqCy3FgGb89psIvlX62QRA8z8ocQXCiPOayoavqygbmrMqG7wB+HOrElGApd5ci\n",
       "MT/4a0jnvcnq5+/5ilxRYpZ76tBz8pRhzHFnQ1fVCpLZwAPrqrbHVPil0s82CILFrCwVBKfoIvLC\n",
       "a8/GiEA1LCYg9tXEon3/4mqINpkcdGUDc1ZlA5G3ncvtr8+ZVgyaEiydp0dUt7/dVCBOo4/x9m4J\n",
       "XRr40mSHXW/2Jg1qFVUxsyE5CGAByWzggWlQdHiGBP10EpSbfuu128j/81hZLAim6ZV7Br5Ac06g\n",
       "arFkArYUukesOGdDtMl0WXZhqsFkEJCzOBvyf7rslXYVvSPYFGLpTrQCTxdNBfIOPbcmSo/hIYRZ\n",
       "PuxM8xSs0SqqYmZDuoztKpDOBhpYOmLWxuEZLAX8dBOU7N4LfSTUJ4CWVwXBWbJovqMKKxAwUA2L\n",
       "AOTFYFgDqTr5PzQnORvcJjlzNdfcQJ3F2ZB1DZ9ccwPETgZNCZYQy2p/KRVINqCJWENfDWTDRmck\n",
       "E+GoVlEVMxsSNWxXgXQ20MAS7hWdEZ4hAT+dBMFH2RZMID1zBdDysiA4Q6h6FOA1gAUydFb1rv/B\n",
       "OT9wPGR5N6eGIUtn8E2yWRoKNrRhkif0sCsbqLM4G1Y6p2vvBCRGgqY4S/mXyEDaII5q5tLFIlIA\n",
       "OEjHGd9oXEQ0Pa76sslyyr0T8RMjWoVXyOB98yUxeJn3efWd0SBY0Wi82GhsVIHlnR8jMzxDAn6u\n",
       "dLvZ14RrCO4wneiMbFgLxHp+Ul0AWTXFx7VVGEAvY1vQ11TTJGhDwYZ2TeZqbWZD2v1lTQxDTzlo\n",
       "irOE9pS9sRbbh2kF8kxz3hrPdpMWlp+K2lnWUcfIijk35GpG7ylaLseB5SJ2ezi8iGyIIAiuAdhH\n",
       "v+asoC+F9yekSZIlhE+8Oq4Zcy2bBV5KXxFWq1UZc7Vub2jXJNO3rhsCX4pZEHNtoAhX46o+MoVY\n",
       "0il5gPS1N4wVyDu0jSGSKH22GThRgrOcNGdLSEVWAl+KujGzS5DKBhZYou7uShyewZLpZwRBNBX+\n",
       "JhPflUDLNkFwdxG8o8T6Zcw0nRd5Ne2TrvMsM4wEwPwHOb5vJuxLFLypM3E22BocJtE7l/88leJa\n",
       "rrmhuyj4ZFbyJYj7dhchUyLzYEmZ8nA2TFKfpMr7bLuIFIh5tT78NVehuzSmu03qMxO/AEwG3xoJ\n",
       "wIQmUpnQtK4iWxJtgGQ2sMAQKDo8Qww/XQSxR8+Rb00S4EmgZZ4gmG5StsGVlQrrxL4yyCok66zq\n",
       "HQPxXNU4oDKHP+ouJtaTjwA7C1DZYG0ImdS2mckFW6qZgthHWrOBbxiPCJ0L+vtXaDOmUbJAmpIe\n",
       "UqYYHm7hA6VrptpfLoLYJy2sQORutb/s8mH8VVx3ntBn2Nj6/v66hRf+ltWAVFYHzxuo99ytMEhm\n",
       "AwsMgcKc4fAMMfxUBFk6kgzMePlpviVdCocEwXnSdQsv/mnvEOvELL0R4lV698Gq6+lcVpF/Gr4A\n",
       "eP6NHO/tvfnCGXBbsoKzwdoQNsl+qHeeOwXGEfPZpisbqLM93x7bz3XeHh09pu1po9TFD4nJx7Up\n",
       "hvph3X3stMb7/l2xA/5s7cC6tSWsQF35XBxSrV0ysOP4p1z3kNSn2Ozo6GiZ/6qEIoHvQavQipEN\n",
       "zHvuVhgks4EFhkD6BbbwDDH81ASZFuijXB28/WRYvAW00A0BO+zdZHyuZ+ujo+1GVaF84xhrNj4X\n",
       "WzmwY2CgGjSkGxwm9ZO9bFFzgfueYlNYJ9JFZcpA5W7iJ9MWBSrv7GyUg/5lh0LYhG+P5Fms8mxw\n",
       "btBuhUHo9MkARYdnLlrCfoYt4F6us0KvK+YaNx+sE/XUcz5dKJXCpxb65xEDP65grCJtDQ6T+skr\n",
       "0J8X92j2bFgV1ol0UZkqRR12JKPPQkridieATVqRX6ZHtAqvGLdW2q0wSN5aBUHR4YVuoQKoEkQw\n",
       "Tm+5aNkqCO4uoGzwVArHdv/xEKoqma8PAmsYDweNPYWtwWESvXMYNl1N74ud2SCd1TqRLipTXuQJ\n",
       "+fzIZOC6W0PY+TZk/ijd9wgVXrGc2LeQ3XZAkeGZEvLTYgE9Gi9KryBYbr9jN/xVhLg+RRgdHUZV\n",
       "JdpQnCzpEGC66nTTkG5wmNRPcoNwcVX0uD0bpLNxi7bFRWUqHtnf0ZcpXLc3hC1akQ88jFRYJSzc\n",
       "rQ5AkeGZEvIzDhGMs+ShJVaEGezB2f/mqtG8DBOLRWivwXm0yzwOnmefjrMOU6cjseKZU5nYKagD\n",
       "SGd+xgu8/Gu556CRGh/X5JFjIGdcDf/Lf0keeMg4jp3quIJwNvwvY0f+AYxTBA+g7g+MAAAAAElF\n",
       "TkSuQmCC\n",
       "\" style=\"display:inline;vertical-align:middle;\" /></a>"
      ],
      "text/plain": [
       "(|(a_{1}, a_{2}, ..., a_{j},a_{j + 1}, a_{j + 2}, ..., a_{n})| = |(1, 2, ..., n)|, 1 in Integer, n in Integer, (1, 2, ..., j,(j + 1), (j + 2), ..., n) = (1, 2, ..., n))"
      ]
     },
     "metadata": {},
     "output_type": "display_data"
    }
   ],
   "source": [
    "requirements"
   ]
  },
  {
   "cell_type": "markdown",
   "metadata": {},
   "source": [
    "### Parameter independent expansions\n",
    "\n",
    "When the **ExprRange** parameter only appears as indices of variables that are being expanded, the **ExprRange** expansion reduction is more permissive.  Indices do not need to match.  Consider the following `dot_prod_lambda` example."
   ]
  },
  {
   "cell_type": "code",
   "execution_count": 41,
   "metadata": {},
   "outputs": [
    {
     "data": {
      "text/html": [
       "<strong id=\"dot_prod_lambda\">dot_prod_lambda:</strong> <a class=\"ProveItLink\" href=\"__pv_it/exprrange_reductions/b6b9df09a86ee336c16dc04a696db298736aaaf60/expr.ipynb\"><img src=\"data:image/png;base64,iVBORw0KGgoAAAANSUhEUgAAAnIAAAAVCAMAAAD1nvNsAAAANlBMVEX///8AAAAAAAAAAAAAAAAA\n",
       "AAAAAAAAAAAAAAAAAAAAAAAAAAAAAAAAAAAAAAAAAAAAAAAAAABHL6OuAAAAEXRSTlMAInZUiRDN\n",
       "mWbv3US7qzLz6SJmQj4AAAAJcEhZcwAADsQAAA7EAZUrDhsAAASwSURBVGje5VrbEqsqDBUQQVHP\n",
       "8f9/dqMtmkBC46V7Zk95aFqTZiWLcBFtmthU86NNXTFW38ZTfymhv+e3oE6bXy25oOW2iaU7bInw\n",
       "vg5wvt2tkBRWkqZtfrZpL7VMLN1jS4D3dYDz7X6FpLBe0nbND7fOyuwSS3fZ+oj3dYDz7YkKSWFt\n",
       "0vlfLjnvZHaJpbts5XjBM0CPJRTOOnw8JBjWJvvmp1tPzwo62zD3mXwKz+Sbr6cBSoSPy+jjIcGw\n",
       "ojTdb5dctw9h1FUGTxaJpftsdb7av48D3C+5ZyokhRWle28NrdaTnduWvjepa2U7gg8urN4mcDud\n",
       "VsrQGQftfmVA1/GvxJKMrRpiO1X793GA+yV3IiQBz1Gm6oujWk+6cQO9lalqZbuhDy7axqwzuF9O\n",
       "KyWNdeA7usjMyIxRKR8Mou+q/fs4wP2SOxGSgOcoh1fRerXa2WYit4p1rWz/+MHFbF7JTONZpaTx\n",
       "DkxPl1yjR7DSvlmSsVVFNH21fx8HuF9y8pAkPEfZh5ftWsZpfNh8pECtbdtpOn8njgCoGTnuLNdc\n",
       "148CHyivwUPvWVz7ePzv/wG1ZQnH5jcgybNll66ez47nNpC+38SUAfGEUwDI4kiIRqgtRNKQCnqp\n",
       "rGmeo+wBr2+7WWti8kxat8V27a6lOuBCHEIxopnE35VX4XcH+XVulgtdaLiSq7A1uHo+oT7LEQBZ\n",
       "xgQAsghPz3JESEUjgmJ4jnIwh3GcOu02WMxAdNlbu459VboU9foOQI6xdaTonsbflVfhgXdM8ECX\n",
       "3IzOVLOF9SNbfD6ZMbOKiQinOcmjeWph/dyBIp6jHDcAO4Zm6rftH9S/vSOttyk/0fJGunA+jnyX\n",
       "nU2MU/rI8aHyGjx0AMHjz5EuuQ4dzI0aSoatrBH5IDyyfwmAI2MOAFn48eGSo0LCHNJB0TxH+bp5\n",
       "NctsXXQYDCQxLdGZNsIOcAEHSzn7BbqwPvRxD9orZNm4aR1HnsDHyhy+/EJdSg4QODgCiNrKuRy4\n",
       "xWfZKsZ7kQ/GI/uXBHhnXAEAFhlAhlDlSBpSziEVFMdzlPMWqnVaR5q9wbPgMFhCG/9jgRYu5cSX\n",
       "0oWyek1ysQ3yYqdWu0UR+FhZwJegBfzhAINHg0Df7ONZZR6gZNjKJ9gynxIv718SIGXMAwCLPKEM\n",
       "geLInQwp55AKiuN5lQMxZe8UGcqrSscHRrK2UUaTBttcaNB2Ffy38jr8ywECV8I7kcRSlS2icrN8\n",
       "Crxi2aMA1Gg/ABwWRUL3H3gRISEOmaBInjdJPdjeKaLeWlHxD0pxWuJwkLh1jUk418zQYI3T9obG\n",
       "B8pr8MABApc+skaPpUUlR+ZT4BXP0AmAI2MOAFgUCd1/rE+EhDhkgiJ5fslRsSRaTQ25eZ6dZbTE\n",
       "ExDCxbKNHTNDgyHKqWXwD+VFeOAAgivx2XJiqcJWNjcQ+UjwCoAjYw4AWKirh+XnQoIcckFRPL+l\n",
       "zaNUbbe0W1dRndova+O0RaOMwroh1a1HBsZrFzj8Q3kR/nCAwEfxG9aJpQpbWSES+UjwCoAjYw4A\n",
       "WIzfeBW9CAlxyARF8pyk+s7by/9A0yc6KLF0hy0R3tcBzre7FZLC2uQfI803GYuu7T4AAAAASUVO\n",
       "RK5CYII=\n",
       "\" style=\"display:inline;vertical-align:middle;\" /></a><br>"
      ],
      "text/plain": [
       "<IPython.core.display.HTML object>"
      ]
     },
     "metadata": {},
     "output_type": "display_data"
    }
   ],
   "source": [
    "from proveit.core_expr_types import (\n",
    "    a_1_to_j, b_1_to_k, c_1_to_j, d_1_to_k, x_1_to_n, y_1_to_n)\n",
    "dot_prod_lambda = \\\n",
    "    Lambda((x_1_to_n, y_1_to_n), \n",
    "           Add(ExprRange(a, Mult(IndexedVar(x, a),\n",
    "                                 IndexedVar(y, a)), one, n)))"
   ]
  },
  {
   "cell_type": "markdown",
   "metadata": {},
   "source": [
    "We map expand the $x_k$ variables and $y_k$ variables in any manner, with respecting the original indices, as long as the expansions of these two match.  We will demonstrate this by applying `dot_prod_lambda` such that the $x$ operands will be $(a_1, \\dots, a_j, b_1, \\ldots, b_k)$ and the $y$ operands will be $(c_1, \\ldots, c_j, 1 \\cdot d_1, \\ldots, k \\cdot d_k)$.  These don't respect the original indices since they go up to $j$ and then restart at $1$, but the do match each other, both going $1$ to $j$ then $1$ to $k$.  First, we will make some assumptions and prove a few things so we can meet the requirements."
   ]
  },
  {
   "cell_type": "code",
   "execution_count": 42,
   "metadata": {},
   "outputs": [
    {
     "data": {
      "text/html": [
       "<strong id=\"jpk_eq_n\">jpk_eq_n:</strong> <a class=\"ProveItLink\" href=\"__pv_it/exprrange_reductions/34ff063bd5a981f25a87b1aac0b6aea83823bf0e0/expr.ipynb\"><img src=\"data:image/png;base64,iVBORw0KGgoAAAANSUhEUgAAAGUAAAAVBAMAAACtcD09AAAAMFBMVEX///8AAAAAAAAAAAAAAAAA\n",
       "AAAAAAAAAAAAAAAAAAAAAAAAAAAAAAAAAAAAAAAAAAAv3aB7AAAAD3RSTlMAInZUiRDNmWbv3US7\n",
       "qzJazP2FAAAACXBIWXMAAA7EAAAOxAGVKw4bAAABbUlEQVQ4y2NgYBBgwAFwSjAwGeCS2YRTjwmI\n",
       "eBOAIsZ6cgHItAYcWlgTQKQamihbAYhMxaGHHcWwHVCaH+zgdhx6OFF4RlB6P9itnAHY9Zhh1eMJ\n",
       "cSEOD5WA/KR0AU1PLoNJKQMDywX0kLwqoqPAwJAB8hPDDFQ9rD+YDYFCHODwqVoFAmtBTIezCqwf\n",
       "GRgWA5mKDJ9R9TB/3MyXCKQmoFrDvWENA+M/BobZQHYA81eogTMhBrLPeAAS4PuAFi+svxlASmeD\n",
       "A3wBqj1c6XVgc9HsYWD+wMCbAHEbA5cDqp54g/0gi5gXoPkHqIG/IYDhEIgtvwFVT39AvAEwfDgO\n",
       "oEemA4N9gAODL1gNWvxcY4h/ALSa3QFNj/wDBjWOBwyvQOw7aHoOMzAVAdMA1wY0PbsYGGKbgeIg\n",
       "h09CTwcQIIUjvXEUMFzm+IqeRiGgAlf+Ocj3mQt7tmM8gEtPDENRNXYZHpyZm1EBl4wiDnEAavhU\n",
       "TUt6jaUAAAAASUVORK5CYII=\n",
       "\" style=\"display:inline;vertical-align:middle;\" /></a><br>"
      ],
      "text/plain": [
       "<IPython.core.display.HTML object>"
      ]
     },
     "metadata": {},
     "output_type": "display_data"
    }
   ],
   "source": [
    "jpk_eq_n = Equals(Add(j, k), n)"
   ]
  },
  {
   "cell_type": "code",
   "execution_count": 43,
   "metadata": {},
   "outputs": [
    {
     "data": {
      "text/html": [
       "<strong id=\"defaults.assumptions\">defaults.assumptions:</strong> <a class=\"ProveItLink\" href=\"__pv_it/exprrange_reductions/9a65a43d3584b5b8aee2e2b9a406f197132f7c870/expr.ipynb\"><img src=\"data:image/png;base64,iVBORw0KGgoAAAANSUhEUgAAAOsAAAAVBAMAAABVvASPAAAAMFBMVEX///8AAAAAAAAAAAAAAAAA\n",
       "AAAAAAAAAAAAAAAAAAAAAAAAAAAAAAAAAAAAAAAAAAAv3aB7AAAAD3RSTlMAInZUiRDNmWbv3US7\n",
       "qzJazP2FAAAACXBIWXMAAA7EAAAOxAGVKw4bAAADb0lEQVRIx6VWXUgUURQ+O7uz/7POQ0g/D45S\n",
       "+mIxlfkkuG8lFAw+9CDKroXYS7RI/0Es+dBbSk9mQRumD4vR0h8RhGNSoFasiEEhsfRgFEIri5EY\n",
       "0j1n7uzujDtCeGHn3vOd+ea7554zZxYAZNjekP/XQbigbsLFx+97wHP/rgOt4+87DdrWMoZVgc/H\n",
       "k63wJrwsaxZHWH0NEON7mE7ZeVOhLIh5bhA/8tZ6R+cwbihZWRZxMY6reqtDeuBJQoAb3oSd90U+\n",
       "BjDId0V8IW67pRcvPQ7hMtxXaUtSC3RDkBtVm05xXvfKwM/Ayn9pLgp4uekgy/CAJfyZ9BjJ7lSq\n",
       "i7ITxQQ0ptMU1dwNV9yUtfDhEJ9Dq+TTKssyvLnMDJ3i90nyVyFqyraZ7hf7+GJOyu01ZZsrynoo\n",
       "BV6H5DL8POanLktmtbk7SQ7DrCl7Fpou4OwqpmoO9HCGyyIf2vfbZL1Z91ENPFl7DS/saFQA8TOY\n",
       "HxgitLuYWzmS6OjgNfPHfZDcXrkk+10c5bLIh0QgaZWNJQ/vSoKfUnI1jeMRLqMfFHEFEB9hVq1R\n",
       "ARAvyUK/e9pYu1eeRmg/XijJ+tUWXsnIF2Sz7EzZ1j3qkgzuQWuwocw4uDYAcewJmpsqIDLMdjXO\n",
       "ZSXtMy/VoZyx+IGb1g1ZWJD4I5EvQqtmhHWHh3XlFj0wb2tD4jqgFMOpFfnoxES9LFoxyw852Hud\n",
       "t4CyaKFLTJVkmaItt2OXcK8hW7TgzoMUJ3yEHh0lNFUmC9/CPE3qhBFusFw2ouilQwZ4aJUVC6EN\n",
       "VEnZcss0q5Ia4m/QrDH6a12xOTIhYZmdPlsPaDFVoZdaMd0f2e+Azs6WDeK71q2y/lWxILBJt7+w\n",
       "UZaOKOIn0BzgZW/2I1pcBPE3mz5BLGccxmmTjQtfHGJYgsT3562yUlzc8LB7ojbZmhzU+3OI/0Rz\n",
       "kZ/N4nOaI+fusetJgDQLdwqEPuN97po15qU1nXpxcJQZxJd0q2xYhQbWW4IZm+wr9pB+woOYuNtm\n",
       "hR83mmOxBKzd7dlM2tLyj2DGkR9QbCVljN0OPZnh/gTM+1cd/J6tP/B4howvqQOa/VNA47IDD/HJ\n",
       "SCHo9KVu31JVpBgn4Zc6UtHv0sEZ74S+a04PVraUFfjr7GvIVPSHHf7VEO5StvdXyplf64z/A5Cl\n",
       "2WRfXajqAAAAAElFTkSuQmCC\n",
       "\" style=\"display:inline;vertical-align:middle;\" /></a><br>"
      ],
      "text/plain": [
       "<IPython.core.display.HTML object>"
      ]
     },
     "metadata": {},
     "output_type": "display_data"
    }
   ],
   "source": [
    "param_indep_assumptions = [InSet(j, Natural), InSet(k, Natural), jpk_eq_n]\n",
    "defaults.assumptions = param_indep_assumptions"
   ]
  },
  {
   "cell_type": "code",
   "execution_count": 44,
   "metadata": {},
   "outputs": [
    {
     "data": {
      "text/html": [
       "<strong id=\"jpk_in_nats\">jpk_in_nats:</strong> <span style=\"font-size:20px;\"><a class=\"ProveItLink\" href=\"__pv_it/exprrange_reductions/a66b1fb5d205d2e8007a39dfc31bf38e465e0de50/expr.ipynb\"><img src=\"data:image/png;base64,iVBORw0KGgoAAAANSUhEUgAAADMAAAATBAMAAADPIygvAAAAMFBMVEX///8AAAAAAAAAAAAAAAAA\n",
       "AAAAAAAAAAAAAAAAAAAAAAAAAAAAAAAAAAAAAAAAAAAv3aB7AAAAD3RSTlMAMrsQds2rme9mIlTd\n",
       "iUQmv6lAAAAACXBIWXMAAA7EAAAOxAGVKw4bAAAA5klEQVQoz2NgwAA2n1QNGG78eABiMyqjymnz\n",
       "JTAwfwAzWQJQpXIW3GRgaGDABrIVWBcwHEAWYdE5cxTMyJrCFYAixRdiAGVlsQn4QqRM3MACS2Ey\n",
       "DFkMCkwPwFIFHBNAVBQDQkqc+TBIimUB/waQQACSFOeGTSAXMjPsBxnF2HPmzJlDUCmGZDaI42tA\n",
       "BLMCki4GM2aIC8+CyQPIUowOYJVc/8ACLnApRSB2BEtxQoKLdQNMKhqI2cGuYoPYwpz0GCIj+gMo\n",
       "wAyW4nCABsclaEDBANuG+QYM2IH8htM4ZBjY3R/gkAEAR4oz5b1xIc8AAAAASUVORK5CYII=\n",
       "\" style=\"display:inline;vertical-align:middle;\" /></a>, <a class=\"ProveItLink\" href=\"../packages/proveit/numbers/addition/subtraction/__pv_it/theorems/bdb040860ba8b035aec6ab4a51daa2ad1ea247650/expr.ipynb\"><img src=\"data:image/png;base64,iVBORw0KGgoAAAANSUhEUgAAADMAAAAQBAMAAABJt1qBAAAAMFBMVEX///8AAAAAAAAAAAAAAAAA\n",
       "AAAAAAAAAAAAAAAAAAAAAAAAAAAAAAAAAAAAAAAAAAAv3aB7AAAAD3RSTlMAELvv3c2ZVESJq2Yi\n",
       "MnY6gD36AAAACXBIWXMAAA7EAAAOxAGVKw4bAAAA60lEQVQY02NgwAAin1QFGCZ/bmBgVHZAl1Pn\n",
       "WMDA+AHIYE1Al1pyYDYDgwGQwV+ALrVcgfUAA8isfgGoCJ+KiyuYsWYfTwBYajJUhiMOpmYN14WX\n",
       "YKkohspEkMBRmAzDGgYFpgagFONv9hprkEAMA0LqGqMjUIr9TzsvWDQASYq7oAjoQjbrC2A+r4mL\n",
       "i4sTVIphIRdQiiUsF8xnVEDSxSDFCDRQvqAfos0BWYr3AVDlfgH5ggcggXdwKV0gfguUWsogf2EC\n",
       "SIAVHirhQMwGdJU6A18e2EeMixohMlc/A3UwBiAHHcckaEBBAQCiiDO2cyaD1wAAAABJRU5ErkJg\n",
       "gg==\n",
       "\" style=\"display:inline;vertical-align:middle;\" /></a> <a class=\"ProveItLink\" href=\"__pv_it/exprrange_reductions/000c1b80019a1f2c0258cc9d724df48ac458d7c90/proof.ipynb\" style=\"text-decoration: none\">&nbsp;&#x22A2;&nbsp;&nbsp;</a><a class=\"ProveItLink\" href=\"__pv_it/exprrange_reductions/136551346418bc6bfd1c1d7c960b6a1f40a70e550/expr.ipynb\"><img src=\"data:image/png;base64,iVBORw0KGgoAAAANSUhEUgAAAGUAAAAVBAMAAACtcD09AAAAMFBMVEX///8AAAAAAAAAAAAAAAAA\n",
       "AAAAAAAAAAAAAAAAAAAAAAAAAAAAAAAAAAAAAAAAAAAv3aB7AAAAD3RSTlMAInZUiRDNmWbv3US7\n",
       "qzJazP2FAAAACXBIWXMAAA7EAAAOxAGVKw4bAAABtUlEQVQ4y2NgYBBgwAFwSjAwGeCS2YTGj/pz\n",
       "LIDB8+cGBgYTEPdNAIos68kFINMa0DQd5r7AwPoBKJ0A4qmhybIVgMhUNNFbAh4MDBMYGNhRDNsB\n",
       "pfnBDm5H03P5AJsAA9AFnCiiRlB6P9itnFAX66xaBXbNxSbGBJAeM6x6PCEuhLhhmypU9CLvAxWQ\n",
       "nhKQl5UuoOnJZTApZWBgAQszwr11keEAzwagngwgm51hBqoe1h/MhkAhDrCL2AQQep6zLgXqWQxk\n",
       "KzJ8RtXD/HEzXyKQmgDWw4DQw2FgAxSbDWQHMH8FCVWtWjVz1aq1IItnPAAJ8H0AkS9XAcEBiB6G\n",
       "q7xQPQzsC1Dt4UqvA1HcYHtikOxhiGWFuo2BywFVT7zBfpBFzGCjuJD18CkAbTwE4shvQNXTHxBv\n",
       "oAAMA7CLmBRges4BsR5QzBesBi1+rjHEPwBazQ6xPhkmC2KwA8PyFYhzB03PYQamImAa4IJYH3sa\n",
       "kh6e/TwASZ9cIIdPQk8HECAFpbecgqQdGOAoYLjM8RU9jUJABa6cdZDvMxf2bMd4AJeeGIaiauwy\n",
       "PDgzN6MCLhlFHOIAh69q8WUMHTIAAAAASUVORK5CYII=\n",
       "\" style=\"display:inline;vertical-align:middle;\" /></a></span><br>"
      ],
      "text/plain": [
       "<IPython.core.display.HTML object>"
      ]
     },
     "metadata": {},
     "output_type": "display_data"
    }
   ],
   "source": [
    "jpk_in_nats = InSet(Add(j, k), Natural).prove()"
   ]
  },
  {
   "cell_type": "code",
   "execution_count": 45,
   "metadata": {},
   "outputs": [
    {
     "data": {
      "text/html": [
       "<span style=\"font-size:20px;\"><a class=\"ProveItLink\" href=\"__pv_it/exprrange_reductions/a66b1fb5d205d2e8007a39dfc31bf38e465e0de50/expr.ipynb\"><img src=\"data:image/png;base64,iVBORw0KGgoAAAANSUhEUgAAADMAAAATBAMAAADPIygvAAAAMFBMVEX///8AAAAAAAAAAAAAAAAA\n",
       "AAAAAAAAAAAAAAAAAAAAAAAAAAAAAAAAAAAAAAAAAAAv3aB7AAAAD3RSTlMAMrsQds2rme9mIlTd\n",
       "iUQmv6lAAAAACXBIWXMAAA7EAAAOxAGVKw4bAAAA5klEQVQoz2NgwAA2n1QNGG78eABiMyqjymnz\n",
       "JTAwfwAzWQJQpXIW3GRgaGDABrIVWBcwHEAWYdE5cxTMyJrCFYAixRdiAGVlsQn4QqRM3MACS2Ey\n",
       "DFkMCkwPwFIFHBNAVBQDQkqc+TBIimUB/waQQACSFOeGTSAXMjPsBxnF2HPmzJlDUCmGZDaI42tA\n",
       "BLMCki4GM2aIC8+CyQPIUowOYJVc/8ACLnApRSB2BEtxQoKLdQNMKhqI2cGuYoPYwpz0GCIj+gMo\n",
       "wAyW4nCABsclaEDBANuG+QYM2IH8htM4ZBjY3R/gkAEAR4oz5b1xIc8AAAAASUVORK5CYII=\n",
       "\" style=\"display:inline;vertical-align:middle;\" /></a>, <a class=\"ProveItLink\" href=\"../packages/proveit/numbers/addition/subtraction/__pv_it/theorems/bdb040860ba8b035aec6ab4a51daa2ad1ea247650/expr.ipynb\"><img src=\"data:image/png;base64,iVBORw0KGgoAAAANSUhEUgAAADMAAAAQBAMAAABJt1qBAAAAMFBMVEX///8AAAAAAAAAAAAAAAAA\n",
       "AAAAAAAAAAAAAAAAAAAAAAAAAAAAAAAAAAAAAAAAAAAv3aB7AAAAD3RSTlMAELvv3c2ZVESJq2Yi\n",
       "MnY6gD36AAAACXBIWXMAAA7EAAAOxAGVKw4bAAAA60lEQVQY02NgwAAin1QFGCZ/bmBgVHZAl1Pn\n",
       "WMDA+AHIYE1Al1pyYDYDgwGQwV+ALrVcgfUAA8isfgGoCJ+KiyuYsWYfTwBYajJUhiMOpmYN14WX\n",
       "YKkohspEkMBRmAzDGgYFpgagFONv9hprkEAMA0LqGqMjUIr9TzsvWDQASYq7oAjoQjbrC2A+r4mL\n",
       "i4sTVIphIRdQiiUsF8xnVEDSxSDFCDRQvqAfos0BWYr3AVDlfgH5ggcggXdwKV0gfguUWsogf2EC\n",
       "SIAVHirhQMwGdJU6A18e2EeMixohMlc/A3UwBiAHHcckaEBBAQCiiDO2cyaD1wAAAABJRU5ErkJg\n",
       "gg==\n",
       "\" style=\"display:inline;vertical-align:middle;\" /></a>, <a class=\"ProveItLink\" href=\"__pv_it/exprrange_reductions/34ff063bd5a981f25a87b1aac0b6aea83823bf0e0/expr.ipynb\"><img src=\"data:image/png;base64,iVBORw0KGgoAAAANSUhEUgAAAGUAAAAVBAMAAACtcD09AAAAMFBMVEX///8AAAAAAAAAAAAAAAAA\n",
       "AAAAAAAAAAAAAAAAAAAAAAAAAAAAAAAAAAAAAAAAAAAv3aB7AAAAD3RSTlMAInZUiRDNmWbv3US7\n",
       "qzJazP2FAAAACXBIWXMAAA7EAAAOxAGVKw4bAAABbUlEQVQ4y2NgYBBgwAFwSjAwGeCS2YRTjwmI\n",
       "eBOAIsZ6cgHItAYcWlgTQKQamihbAYhMxaGHHcWwHVCaH+zgdhx6OFF4RlB6P9itnAHY9Zhh1eMJ\n",
       "cSEOD5WA/KR0AU1PLoNJKQMDywX0kLwqoqPAwJAB8hPDDFQ9rD+YDYFCHODwqVoFAmtBTIezCqwf\n",
       "GRgWA5mKDJ9R9TB/3MyXCKQmoFrDvWENA+M/BobZQHYA81eogTMhBrLPeAAS4PuAFi+svxlASmeD\n",
       "A3wBqj1c6XVgc9HsYWD+wMCbAHEbA5cDqp54g/0gi5gXoPkHqIG/IYDhEIgtvwFVT39AvAEwfDgO\n",
       "oEemA4N9gAODL1gNWvxcY4h/ALSa3QFNj/wDBjWOBwyvQOw7aHoOMzAVAdMA1wY0PbsYGGKbgeIg\n",
       "h09CTwcQIIUjvXEUMFzm+IqeRiGgAlf+Ocj3mQt7tmM8gEtPDENRNXYZHpyZm1EBl4wiDnEAavhU\n",
       "TUt6jaUAAAAASUVORK5CYII=\n",
       "\" style=\"display:inline;vertical-align:middle;\" /></a> <a class=\"ProveItLink\" href=\"__pv_it/exprrange_reductions/09ab05bcab3e57f17fe378cc9156988a692b28720/proof.ipynb\" style=\"text-decoration: none\">&nbsp;&#x22A2;&nbsp;&nbsp;</a><a class=\"ProveItLink\" href=\"../packages/proveit/numbers/number_sets/natural_numbers/__pv_it/theorems/1a8a7907b709bbd24c48a9933f16dbe96429f5cc0/expr.ipynb\"><img src=\"data:image/png;base64,iVBORw0KGgoAAAANSUhEUgAAADUAAAAQBAMAAABEqSrGAAAAMFBMVEX///8AAAAAAAAAAAAAAAAA\n",
       "AAAAAAAAAAAAAAAAAAAAAAAAAAAAAAAAAAAAAAAAAAAv3aB7AAAAD3RSTlMARHarECKJu90yVM1m\n",
       "75kejotwAAAACXBIWXMAAA7EAAAOxAGVKw4bAAAA5ElEQVQY02NgwAQe36sdGHL/CjBgA1WMBgws\n",
       "H7BKMVgE5DAwXMAuZ1XAHcDQgCqm3tGxAUSbHmLdgCYnrQJlmDJPUAPJMSq7JhWBRVi3wBSZMhSw\n",
       "CwDl2NiNGPwDQCLcAQi5eSwtQDlBjgKG+AlgOQaEHM+C5UB3OvgLMKx3AInM7QCCAogcgwkzyA/r\n",
       "GRiswardkfQxOLOA3AmU+MMCEuFAluNUAJlwjYHrCxtIhEkBJlcJxJpAOdafDEwbToKFdsHkQAw+\n",
       "YCgwNjCw2CwACzkXgt3EMPsvUA/LBtQwE6voQBYBAAF6MQMvLZecAAAAAElFTkSuQmCC\n",
       "\" style=\"display:inline;vertical-align:middle;\" /></a></span>"
      ],
      "text/plain": [
       "{j in Natural, k in Natural, (j + k) = n} |- n in Natural"
      ]
     },
     "metadata": {},
     "output_type": "display_data"
    }
   ],
   "source": [
    "jpk_eq_n.sub_right_side_into(jpk_in_nats)"
   ]
  },
  {
   "cell_type": "code",
   "execution_count": 46,
   "metadata": {},
   "outputs": [
    {
     "data": {
      "text/html": [
       "<strong id=\"x_operands\">x_operands:</strong> <a class=\"ProveItLink\" href=\"__pv_it/exprrange_reductions/d1a2f933d7d4921cf9b06eab5eaacf5e36bed2540/expr.ipynb\"><img src=\"data:image/png;base64,iVBORw0KGgoAAAANSUhEUgAAAPgAAAAWBAMAAAAfsUzKAAAAMFBMVEX///8AAAAAAAAAAAAAAAAA\n",
       "AAAAAAAAAAAAAAAAAAAAAAAAAAAAAAAAAAAAAAAAAAAv3aB7AAAAD3RSTlMAInZUiRDNmWbv3US7\n",
       "qzJazP2FAAAACXBIWXMAAA7EAAAOxAGVKw4bAAACz0lEQVRIx8VWTWgTQRT+NpvN5q9JLIKXlG6r\n",
       "UBEqEaxgL4YiCkJlEQUFS3IRvYh7qD94aS72VNAKgqhg0JaAgvTqxf6AiBeFWKUXIXoRe6jRNL0U\n",
       "GucvuxPT3YB76Dvszjffe/PNzps3swBS2BFT6COQ2RnxmEEeh/2OcvGRBLT3RU9nid9PUN73N1yW\n",
       "Qcjydnb4kAm94Fu8JoNkhyw6fNhCxH/y6jKaN729Jf4BjvgWD7Zk+VQHb4m/gnG665f7DInvGenu\n",
       "UCUt/qHyoLTUV/s/ecZK/CiRB16n4tLSxabx0XvthH+Fo9wl7bezmzfMnNfBIfOTeE46HkIvQpsU\n",
       "fRcKuA3t+FfXCXB/4BWHx0zcx3lRNGodEePs6Ge3WMaHn7H2UTwG9CqiWXw/IPgJYAY6H39b4/62\n",
       "3QDWE/3CW88jmbXI7N1iKU9Fif2i78gCcnPAsOCfQNtEck7ZchtA+DdtBrEaVCFOZjWf2URvxSWW\n",
       "8UqVZ48ue87AXdji2h+Eqwib7uLcXxvINMtcr9vipIwnzDvu4owPL3RnmeASGSyDL2qKiZM8azV0\n",
       "5Q/xCmpPu4amv67mGcIW3SVUnKJkhewIVlDbxzK+q29omrSnyH5H3FBLOvtybYP0LWHYImfgqslh\n",
       "Lg+nwR7c/1zQ4l0reAcmTlFXIU5iE7M8pH0Axkf2skoZxyphyqd7DvJlf0HmO7bvW7kC5a2AUXoY\n",
       "lyAa0VnbP1RgCGMnC1ycccu3SFfa5LFOXAkS33uTZeUlonZ2qLhqL9Ye7JKhbUNO+lISYjlvIsVS\n",
       "Ul6xU7EiiVWK9HiXxIP2IfZh7boEHXNq7KeMmHgTpdd+mF6x5USRNOmVtih6dl8bAc7Y5dRoVCXo\n",
       "bBrnXB2UkHJi3XDQ00bDM3YRK2S90/RfQOaNVnejbYCAfC/ICP8iz1g+BTJp47/ustCbe/4uw4CP\n",
       "f0d9wPR9Gf8F3wy6dIkRLbcAAAAASUVORK5CYII=\n",
       "\" style=\"display:inline;vertical-align:middle;\" /></a><br>"
      ],
      "text/plain": [
       "<IPython.core.display.HTML object>"
      ]
     },
     "metadata": {},
     "output_type": "display_data"
    }
   ],
   "source": [
    "x_operands = [a_1_to_j, b_1_to_k]"
   ]
  },
  {
   "cell_type": "markdown",
   "metadata": {},
   "source": [
    "Make this one a little more interesting and demonstrate that expansions can be **ExprRange**s of any kind, not just variable ranges."
   ]
  },
  {
   "cell_type": "code",
   "execution_count": 47,
   "metadata": {},
   "outputs": [
    {
     "data": {
      "text/html": [
       "<strong id=\"y_operands\">y_operands:</strong> <a class=\"ProveItLink\" href=\"__pv_it/exprrange_reductions/f513d7495be8f7060893848ac85ec016d6dc4a460/expr.ipynb\"><img src=\"data:image/png;base64,iVBORw0KGgoAAAANSUhEUgAAAXwAAAAWBAMAAAAx0TpxAAAAMFBMVEX///8AAAAAAAAAAAAAAAAA\n",
       "AAAAAAAAAAAAAAAAAAAAAAAAAAAAAAAAAAAAAAAAAAAv3aB7AAAAD3RSTlMAInZUiRDNmWbv3US7\n",
       "qzJazP2FAAAACXBIWXMAAA7EAAAOxAGVKw4bAAAEPklEQVRYw81XX2gcRRj/bW739u5ydz3/gFhT\n",
       "umhLimBZsQq9F49QUISURVQopOTeWkFwH2KjRWwQrCKh1kLxLzRQtWChzWt80KTgq8agooL06kPF\n",
       "PDTRo1Eo9JxvZmd2Zm93SbwXP5i9nW9/3/f9buabb2YANDCQWJvRW1s0ltLIi8qNh/zB6D+QoR/2\n",
       "tgrql2xuZMiN9w3GvtAC6p/qmvrzIf/dY4Cs6Rc6+aAUYdwmPjRV19+DMmTNaQ9G/zng8LGbhmqb\n",
       "GLNioINGYN/KB/UL53YkoexCGbLmzgxG/2WaY5P+V4JSKdRB3wEf5IP6hXPrJrImikWGrJUHY4/T\n",
       "/fSfin7P6qBzAa42ckH9UtboSrHnNMOzeGzA1G/305fTfVQH/QJc7eSBUoS42adNXTHUDI9iil7H\n",
       "9mie7ftP5VPW0W4rQd/6fq+c7nEDBFzOBaUIcSsuF56I18eOsTVfMxznf2K77y7Grs/j1Vz2Ah39\n",
       "g+JMgv5Coyp7J9WI8fVV/ysXlCLEbXLmkXvV8hx+F98GmuFJnGfPT1D2HOmn0sIZ58Cv2RWB0MCl\n",
       "CO2b9J334bYhnO2XSg5CZdkEPTP+gw5KEeL2+H3+dbVmDs3gGPC2J73vx0dsbin6bw9GkBOMuAt3\n",
       "LrMcGIlenlf0nQ36uk7/XzhbM0BiTjVQiOM6KEUYN7wiMpnb4QQNXuRujTcGKfPMaUY2H1NRnrdu\n",
       "Z5aDxQz6uCC+Ts5HzhYMUGk5AbqFnR0NlEH/s+mOsmPcHLZ57IT0vkATNOlp9B3K0FKQTZ+jnVE/\n",
       "PXnY13eks6aRPPtgNQzQG5x+Mz95nO5wzIRxK60Ds9auyHsTV9hYs6Uxz7uU8P+wFSLKa3/6k4aj\n",
       "XVYLHdJUvQR9Hz8WGoLUrDQhUL2FocAE8dqvQIkNlx6MW+mm0x1Syi5q7YexctehhjCcpfrDCond\n",
       "oYg8wViKHgRWA9GbbCPxwtHP2iHXwKaUsP9UYate4YIbjemUzFkCbZ+ePp4A8aOSAqkAqkfcam3n\n",
       "tq28X0EzDHHGr0eGU1hlzwNv7RYRP2fDYD/5egDr66hXCaO84y+kEWhWCysUvc5mqfbzxk9qgFYO\n",
       "7tgb0b+IyIRAl3u9jQRoJNBBKpIIR84Zt6qP0d2K/uFd11Y61t+vSe8XUZFbEEUsyFm8B3dovXiP\n",
       "VZptbPoepZdLqVlLzqw5ZZIKskK2GDSQKeS80kmzKy1+YQnvrKkzE0WU02R9c+OluKdtyOrtD9b4\n",
       "XvpmJn1xGLQzQSM3fg90kCmtzPNczVu1hXdqS0J594tjwNOy0vV663EvlljzEEsBXrCqaRci7mwk\n",
       "NkkFnev1DJC5dLnzpTT61UbtlDCkNqF9Me8+/TchT9/PRUFwFrPK3lJssimQec/iz4nsoroUNcvb\n",
       "+jmz+GV8Drwz66Knj/imQCnLI5MbGQ7911u6OxrgfyH/AjzJHHklTSDiAAAAAElFTkSuQmCC\n",
       "\" style=\"display:inline;vertical-align:middle;\" /></a><br>"
      ],
      "text/plain": [
       "<IPython.core.display.HTML object>"
      ]
     },
     "metadata": {},
     "output_type": "display_data"
    }
   ],
   "source": [
    "y_operands = [c_1_to_j, ExprRange(i, Mult(i, IndexedVar(d, i)), one, k)]"
   ]
  },
  {
   "cell_type": "code",
   "execution_count": 48,
   "metadata": {},
   "outputs": [
    {
     "data": {
      "text/html": [
       "<strong id=\"x_len_jpk\">x_len_jpk:</strong> <span style=\"font-size:20px;\"><a class=\"ProveItLink\" href=\"__pv_it/exprrange_reductions/a66b1fb5d205d2e8007a39dfc31bf38e465e0de50/expr.ipynb\"><img src=\"data:image/png;base64,iVBORw0KGgoAAAANSUhEUgAAADMAAAATBAMAAADPIygvAAAAMFBMVEX///8AAAAAAAAAAAAAAAAA\n",
       "AAAAAAAAAAAAAAAAAAAAAAAAAAAAAAAAAAAAAAAAAAAv3aB7AAAAD3RSTlMAMrsQds2rme9mIlTd\n",
       "iUQmv6lAAAAACXBIWXMAAA7EAAAOxAGVKw4bAAAA5klEQVQoz2NgwAA2n1QNGG78eABiMyqjymnz\n",
       "JTAwfwAzWQJQpXIW3GRgaGDABrIVWBcwHEAWYdE5cxTMyJrCFYAixRdiAGVlsQn4QqRM3MACS2Ey\n",
       "DFkMCkwPwFIFHBNAVBQDQkqc+TBIimUB/waQQACSFOeGTSAXMjPsBxnF2HPmzJlDUCmGZDaI42tA\n",
       "BLMCki4GM2aIC8+CyQPIUowOYJVc/8ACLnApRSB2BEtxQoKLdQNMKhqI2cGuYoPYwpz0GCIj+gMo\n",
       "wAyW4nCABsclaEDBANuG+QYM2IH8htM4ZBjY3R/gkAEAR4oz5b1xIc8AAAAASUVORK5CYII=\n",
       "\" style=\"display:inline;vertical-align:middle;\" /></a>, <a class=\"ProveItLink\" href=\"../packages/proveit/numbers/addition/subtraction/__pv_it/theorems/bdb040860ba8b035aec6ab4a51daa2ad1ea247650/expr.ipynb\"><img src=\"data:image/png;base64,iVBORw0KGgoAAAANSUhEUgAAADMAAAAQBAMAAABJt1qBAAAAMFBMVEX///8AAAAAAAAAAAAAAAAA\n",
       "AAAAAAAAAAAAAAAAAAAAAAAAAAAAAAAAAAAAAAAAAAAv3aB7AAAAD3RSTlMAELvv3c2ZVESJq2Yi\n",
       "MnY6gD36AAAACXBIWXMAAA7EAAAOxAGVKw4bAAAA60lEQVQY02NgwAAin1QFGCZ/bmBgVHZAl1Pn\n",
       "WMDA+AHIYE1Al1pyYDYDgwGQwV+ALrVcgfUAA8isfgGoCJ+KiyuYsWYfTwBYajJUhiMOpmYN14WX\n",
       "YKkohspEkMBRmAzDGgYFpgagFONv9hprkEAMA0LqGqMjUIr9TzsvWDQASYq7oAjoQjbrC2A+r4mL\n",
       "i4sTVIphIRdQiiUsF8xnVEDSxSDFCDRQvqAfos0BWYr3AVDlfgH5ggcggXdwKV0gfguUWsogf2EC\n",
       "SIAVHirhQMwGdJU6A18e2EeMixohMlc/A3UwBiAHHcckaEBBAQCiiDO2cyaD1wAAAABJRU5ErkJg\n",
       "gg==\n",
       "\" style=\"display:inline;vertical-align:middle;\" /></a> <a class=\"ProveItLink\" href=\"__pv_it/exprrange_reductions/7c6b42ad99f10753b2538a20f513513b741b897a0/proof.ipynb\" style=\"text-decoration: none\">&nbsp;&#x22A2;&nbsp;&nbsp;</a><a class=\"ProveItLink\" href=\"__pv_it/exprrange_reductions/8fe8f86e2a8d60c5ede1e445f8f9e66c4af6a40b0/expr.ipynb\"><img src=\"data:image/png;base64,iVBORw0KGgoAAAANSUhEUgAAAWUAAAAWBAMAAADqapBTAAAAMFBMVEX///8AAAAAAAAAAAAAAAAA\n",
       "AAAAAAAAAAAAAAAAAAAAAAAAAAAAAAAAAAAAAAAAAAAv3aB7AAAAD3RSTlMAIolEdjJUEM2ZZu/d\n",
       "u6v6CvZmAAAACXBIWXMAAA7EAAAOxAGVKw4bAAAD1ElEQVRIx8WXTWgTQRTHX9I0202aJmovYr/Q\n",
       "ehCk5FAvemgirVoQiWBBsUIUsT0UXKTgQWpyE3vQoIJYC81F1IO0RU9VMYi2FoK0UPHgwVJKFUEJ\n",
       "1Da9xZk3M/uRncnBgA50M2/f/7/vtzuzs1OIADb+868bK+tRJRSOPdjzJf8PcycevdHy82qeTpP5\n",
       "QpW1tS85ZVRJ7cvKmZHnnOE8OfKKO5BZS1f7wOoy6qiS+oaUmfEcK7fd5A5k1rPVMoeT6qiS+qmU\n",
       "2clzUHQ2uQOZg1VPzC5DHVVSBw0Zs5PnIv+tKXIHMg9Wzby/QlRJXZeVMQ9Kmb1T3IHMd+iCsxKP\n",
       "2YQt7Y2V6zr1t7rXQBW5m5X3LsuYKY/WvVzGXLfs32dQBzKPkr9DkVDRctVMw9fKA8z1CfbSbBkp\n",
       "a0l1RpJ1w8oH0oJZz2NbFjw6zJQxp7KXdmWpA5lnyXVmQM+B9oTnr2VhHLTdv5TcTA/wHiN/EYIx\n",
       "04zRlY5vKi/mA++wOyV7zoQH4uyVszFf3pE8HaEOZH5ObqsA9W1w6jjPTwC8JbeqKxdapjejNITb\n",
       "TDNGGXLTKi/N06IAtQUZM00Zfhz28Xz+ZT7/kXYfPuIOwRxcgBSxDnHXa9DWIRz1bKjqcj1vBL8r\n",
       "aZoxWofWhMKLeU8B5+CUitl6XuI5f3iQYA4xN1IxmASTWfsNgQIEDDUz02u9SbHgThgmM0aP1cyY\n",
       "Dyw0knHy52TzeZbfmYNZ26yhNMSBzEuEIQnf/REsa9A8NKTPk6uRKe6uSSc50+v+NArCCTK/0WxF\n",
       "dEVzvw5mviE+ME3ewQXZc16ih9aokzlQ1DZ96EDmDoBQzD+vY1ltC11DGfKB7TcgRd9sesDzZofp\n",
       "r3ozeKohG8owZiuqnbMszgtgPniErjl6m4y5gx4my9bnhrS24UUHMveTC67ubelhZfPk6Vw/fHI1\n",
       "AZ7PZIjm6DjRDcK86FAB15MVngq0lTE+sayo2WBKtFgXEPlWnJ31URlzPz38LGMOJaH3KDqQud6c\n",
       "ebSs3xzRnbANYMC9VllDHo7YBDifReTJeCJ2pWgi/6wmR7xN0v0G8rwo/w6y1sT3G4GMvazX/NR9\n",
       "6rsP0OYq67W6Z8EmQGYRNfedMexK0UR+tTZHumNSZsKzFii69kjYxsT+eZGf2H67HWDYXM9KpQJo\n",
       "MVfZYat7AiwBms3oTankUIp3UOQX4QeZfAvy/fNi7Wa9fG9IHYx5xH7aCelz+2yC0XKBD9SXcudD\n",
       "ETnzCNy7K18nqaOH0cf+bqd/YKq67WCc3YdrIVfzxKvdgeq9xn/4J/IPOjcUIUJ2nBsAAAAASUVO\n",
       "RK5CYII=\n",
       "\" style=\"display:inline;vertical-align:middle;\" /></a></span><br>"
      ],
      "text/plain": [
       "<IPython.core.display.HTML object>"
      ]
     },
     "metadata": {},
     "output_type": "display_data"
    }
   ],
   "source": [
    "x_len_jpk = Len(x_operands).computation()"
   ]
  },
  {
   "cell_type": "code",
   "execution_count": 49,
   "metadata": {},
   "outputs": [
    {
     "data": {
      "text/html": [
       "<span style=\"font-size:20px;\"><a class=\"ProveItLink\" href=\"__pv_it/exprrange_reductions/a66b1fb5d205d2e8007a39dfc31bf38e465e0de50/expr.ipynb\"><img src=\"data:image/png;base64,iVBORw0KGgoAAAANSUhEUgAAADMAAAATBAMAAADPIygvAAAAMFBMVEX///8AAAAAAAAAAAAAAAAA\n",
       "AAAAAAAAAAAAAAAAAAAAAAAAAAAAAAAAAAAAAAAAAAAv3aB7AAAAD3RSTlMAMrsQds2rme9mIlTd\n",
       "iUQmv6lAAAAACXBIWXMAAA7EAAAOxAGVKw4bAAAA5klEQVQoz2NgwAA2n1QNGG78eABiMyqjymnz\n",
       "JTAwfwAzWQJQpXIW3GRgaGDABrIVWBcwHEAWYdE5cxTMyJrCFYAixRdiAGVlsQn4QqRM3MACS2Ey\n",
       "DFkMCkwPwFIFHBNAVBQDQkqc+TBIimUB/waQQACSFOeGTSAXMjPsBxnF2HPmzJlDUCmGZDaI42tA\n",
       "BLMCki4GM2aIC8+CyQPIUowOYJVc/8ACLnApRSB2BEtxQoKLdQNMKhqI2cGuYoPYwpz0GCIj+gMo\n",
       "wAyW4nCABsclaEDBANuG+QYM2IH8htM4ZBjY3R/gkAEAR4oz5b1xIc8AAAAASUVORK5CYII=\n",
       "\" style=\"display:inline;vertical-align:middle;\" /></a>, <a class=\"ProveItLink\" href=\"../packages/proveit/numbers/addition/subtraction/__pv_it/theorems/bdb040860ba8b035aec6ab4a51daa2ad1ea247650/expr.ipynb\"><img src=\"data:image/png;base64,iVBORw0KGgoAAAANSUhEUgAAADMAAAAQBAMAAABJt1qBAAAAMFBMVEX///8AAAAAAAAAAAAAAAAA\n",
       "AAAAAAAAAAAAAAAAAAAAAAAAAAAAAAAAAAAAAAAAAAAv3aB7AAAAD3RSTlMAELvv3c2ZVESJq2Yi\n",
       "MnY6gD36AAAACXBIWXMAAA7EAAAOxAGVKw4bAAAA60lEQVQY02NgwAAin1QFGCZ/bmBgVHZAl1Pn\n",
       "WMDA+AHIYE1Al1pyYDYDgwGQwV+ALrVcgfUAA8isfgGoCJ+KiyuYsWYfTwBYajJUhiMOpmYN14WX\n",
       "YKkohspEkMBRmAzDGgYFpgagFONv9hprkEAMA0LqGqMjUIr9TzsvWDQASYq7oAjoQjbrC2A+r4mL\n",
       "i4sTVIphIRdQiiUsF8xnVEDSxSDFCDRQvqAfos0BWYr3AVDlfgH5ggcggXdwKV0gfguUWsogf2EC\n",
       "SIAVHirhQMwGdJU6A18e2EeMixohMlc/A3UwBiAHHcckaEBBAQCiiDO2cyaD1wAAAABJRU5ErkJg\n",
       "gg==\n",
       "\" style=\"display:inline;vertical-align:middle;\" /></a>, <a class=\"ProveItLink\" href=\"__pv_it/exprrange_reductions/34ff063bd5a981f25a87b1aac0b6aea83823bf0e0/expr.ipynb\"><img src=\"data:image/png;base64,iVBORw0KGgoAAAANSUhEUgAAAGUAAAAVBAMAAACtcD09AAAAMFBMVEX///8AAAAAAAAAAAAAAAAA\n",
       "AAAAAAAAAAAAAAAAAAAAAAAAAAAAAAAAAAAAAAAAAAAv3aB7AAAAD3RSTlMAInZUiRDNmWbv3US7\n",
       "qzJazP2FAAAACXBIWXMAAA7EAAAOxAGVKw4bAAABbUlEQVQ4y2NgYBBgwAFwSjAwGeCS2YRTjwmI\n",
       "eBOAIsZ6cgHItAYcWlgTQKQamihbAYhMxaGHHcWwHVCaH+zgdhx6OFF4RlB6P9itnAHY9Zhh1eMJ\n",
       "cSEOD5WA/KR0AU1PLoNJKQMDywX0kLwqoqPAwJAB8hPDDFQ9rD+YDYFCHODwqVoFAmtBTIezCqwf\n",
       "GRgWA5mKDJ9R9TB/3MyXCKQmoFrDvWENA+M/BobZQHYA81eogTMhBrLPeAAS4PuAFi+svxlASmeD\n",
       "A3wBqj1c6XVgc9HsYWD+wMCbAHEbA5cDqp54g/0gi5gXoPkHqIG/IYDhEIgtvwFVT39AvAEwfDgO\n",
       "oEemA4N9gAODL1gNWvxcY4h/ALSa3QFNj/wDBjWOBwyvQOw7aHoOMzAVAdMA1wY0PbsYGGKbgeIg\n",
       "h09CTwcQIIUjvXEUMFzm+IqeRiGgAlf+Ocj3mQt7tmM8gEtPDENRNXYZHpyZm1EBl4wiDnEAavhU\n",
       "TUt6jaUAAAAASUVORK5CYII=\n",
       "\" style=\"display:inline;vertical-align:middle;\" /></a> <a class=\"ProveItLink\" href=\"__pv_it/exprrange_reductions/d138bcffe96fb905e8920040c1b1f9dfe3beb74b0/proof.ipynb\" style=\"text-decoration: none\">&nbsp;&#x22A2;&nbsp;&nbsp;</a><a class=\"ProveItLink\" href=\"__pv_it/exprrange_reductions/c29f90053aab0453d5cb35586fea1100d79381520/expr.ipynb\"><img src=\"data:image/png;base64,iVBORw0KGgoAAAANSUhEUgAAATQAAAAWBAMAAAC8vH0lAAAAMFBMVEX///8AAAAAAAAAAAAAAAAA\n",
       "AAAAAAAAAAAAAAAAAAAAAAAAAAAAAAAAAAAAAAAAAAAv3aB7AAAAD3RSTlMAIolEdjJUEM2ZZu/d\n",
       "u6v6CvZmAAAACXBIWXMAAA7EAAAOxAGVKw4bAAADU0lEQVRIx8VXTUhUURQ+b2acO29+nCnctFCH\n",
       "MigIEaJVC5+hgREyQS4ioamNQYKvCIJCZ3ZRi3q46QfB2URupKwgiKLBfkSQUCgiWgQylLiQSfOH\n",
       "NtP9e/fd57wfaPo54Jt7znfOe9+995xzr5ACKvznX4siPatkF32Gsv+HWlAjz0CbB7UztX5j6Lmk\n",
       "oM9FT2cJP+JHDeVrnv81WYkY3s4WHtF9qKmFmqmty0rSJz8sPGr4UIvVnjQbstaue3tL+FMfamdr\n",
       "phawZdc+H28Jv+5DbYRU8EKHJtmbWhp86t7mHyn1SJt4o/OrZ6yEtzpQC/acb3nPqRHqB1MJaVOC\n",
       "k/DFe1e4f4Zpuavou1WBm3rOq1HK+LigNjpL5B3REyXADpTaW+z+DNQioHEecaUAo4B2LrvSY/4A\n",
       "b5g6qMMTuMwLPbwBMe1C6ze3WIpHX9PxOYdV2x+fg+YMo/YYF2kZ4mk4fpSjYwBToLKvOwrzF3Ib\n",
       "YKWuk3ureUimDTw3t1iCk49iOeVATc+1kbma1GJzgA0wwNEXgFYh2aasub2e+5syBcF1CHNqmHN7\n",
       "dpVM3FkorpRZXjiVwSDAIogNzWnwAAQ19AOiZYjq7tSYP+rOmm1N3RDUcNsa0++7U6N4dK4hzT+4\n",
       "NdcIr5+IUcPlkMvCYjhFPXF+oXWoz59mPaE63YiF+avhPCBiWiPZSagRLZnBmUhbRHWswOs7+ifx\n",
       "eMJp1R7hdAwwariCE1p4RqWTQJuU7ICBG3WfztRcHrYMmP+lgEFNsASfgFIjWn0hgWPrpq0Q+wso\n",
       "HjtMq3vEgRreq1D+HqPWh+NKu5u62PrO4rkOHzpWyoDykatxcp7MAB8QC/ePFCA+jU3DewuMGtHQ\n",
       "wl1satSlWOsFJt58h+73K6e+hlvFUpZRi4usINTCYht2wDZZFcVvWZK4P/ULO8k1U1MMJeUQK/CJ\n",
       "YBHHKkWf0yBqyNQCYmE/9N6SVOtUsoYn8V/aRs3UGntP6A6xAi/VFdP8YuF5X5vn2vabLQAXRYOo\n",
       "VMqSKkSy9ODtMc8rZc+KZmkvKxWnWIHPwxLeq0bfq+SQbNLsHlpVjGY7nUM2LOQTa8fZmrhQ62IT\n",
       "1n7rvhE58LC2C0uIHqWhzJ+/2qvd+t/7v+EXvQzramJA7FcAAAAASUVORK5CYII=\n",
       "\" style=\"display:inline;vertical-align:middle;\" /></a></span>"
      ],
      "text/plain": [
       "{j in Natural, k in Natural, (j + k) = n} |- |(a_{1}, a_{2}, ..., a_{j},b_{1}, b_{2}, ..., b_{k})| = n"
      ]
     },
     "metadata": {},
     "output_type": "display_data"
    }
   ],
   "source": [
    "jpk_eq_n.sub_right_side_into(x_len_jpk)"
   ]
  },
  {
   "cell_type": "code",
   "execution_count": 50,
   "metadata": {},
   "outputs": [
    {
     "data": {
      "text/html": [
       "<strong id=\"y_len_jpk\">y_len_jpk:</strong> <span style=\"font-size:20px;\"><a class=\"ProveItLink\" href=\"__pv_it/exprrange_reductions/a66b1fb5d205d2e8007a39dfc31bf38e465e0de50/expr.ipynb\"><img src=\"data:image/png;base64,iVBORw0KGgoAAAANSUhEUgAAADMAAAATBAMAAADPIygvAAAAMFBMVEX///8AAAAAAAAAAAAAAAAA\n",
       "AAAAAAAAAAAAAAAAAAAAAAAAAAAAAAAAAAAAAAAAAAAv3aB7AAAAD3RSTlMAMrsQds2rme9mIlTd\n",
       "iUQmv6lAAAAACXBIWXMAAA7EAAAOxAGVKw4bAAAA5klEQVQoz2NgwAA2n1QNGG78eABiMyqjymnz\n",
       "JTAwfwAzWQJQpXIW3GRgaGDABrIVWBcwHEAWYdE5cxTMyJrCFYAixRdiAGVlsQn4QqRM3MACS2Ey\n",
       "DFkMCkwPwFIFHBNAVBQDQkqc+TBIimUB/waQQACSFOeGTSAXMjPsBxnF2HPmzJlDUCmGZDaI42tA\n",
       "BLMCki4GM2aIC8+CyQPIUowOYJVc/8ACLnApRSB2BEtxQoKLdQNMKhqI2cGuYoPYwpz0GCIj+gMo\n",
       "wAyW4nCABsclaEDBANuG+QYM2IH8htM4ZBjY3R/gkAEAR4oz5b1xIc8AAAAASUVORK5CYII=\n",
       "\" style=\"display:inline;vertical-align:middle;\" /></a>, <a class=\"ProveItLink\" href=\"../packages/proveit/numbers/addition/subtraction/__pv_it/theorems/bdb040860ba8b035aec6ab4a51daa2ad1ea247650/expr.ipynb\"><img src=\"data:image/png;base64,iVBORw0KGgoAAAANSUhEUgAAADMAAAAQBAMAAABJt1qBAAAAMFBMVEX///8AAAAAAAAAAAAAAAAA\n",
       "AAAAAAAAAAAAAAAAAAAAAAAAAAAAAAAAAAAAAAAAAAAv3aB7AAAAD3RSTlMAELvv3c2ZVESJq2Yi\n",
       "MnY6gD36AAAACXBIWXMAAA7EAAAOxAGVKw4bAAAA60lEQVQY02NgwAAin1QFGCZ/bmBgVHZAl1Pn\n",
       "WMDA+AHIYE1Al1pyYDYDgwGQwV+ALrVcgfUAA8isfgGoCJ+KiyuYsWYfTwBYajJUhiMOpmYN14WX\n",
       "YKkohspEkMBRmAzDGgYFpgagFONv9hprkEAMA0LqGqMjUIr9TzsvWDQASYq7oAjoQjbrC2A+r4mL\n",
       "i4sTVIphIRdQiiUsF8xnVEDSxSDFCDRQvqAfos0BWYr3AVDlfgH5ggcggXdwKV0gfguUWsogf2EC\n",
       "SIAVHirhQMwGdJU6A18e2EeMixohMlc/A3UwBiAHHcckaEBBAQCiiDO2cyaD1wAAAABJRU5ErkJg\n",
       "gg==\n",
       "\" style=\"display:inline;vertical-align:middle;\" /></a> <a class=\"ProveItLink\" href=\"__pv_it/exprrange_reductions/a2970ccdaf4bc99ffadd53183665fc7179d0401e0/proof.ipynb\" style=\"text-decoration: none\">&nbsp;&#x22A2;&nbsp;&nbsp;</a><a class=\"ProveItLink\" href=\"__pv_it/exprrange_reductions/40e011d0da007dc40e7fffcf1b3c4958eb6d0de40/expr.ipynb\"><img src=\"data:image/png;base64,iVBORw0KGgoAAAANSUhEUgAAAekAAAAWBAMAAAAWU3ncAAAAMFBMVEX///8AAAAAAAAAAAAAAAAA\n",
       "AAAAAAAAAAAAAAAAAAAAAAAAAAAAAAAAAAAAAAAAAAAv3aB7AAAAD3RSTlMAIolEdjJUEM2ZZu/d\n",
       "u6v6CvZmAAAACXBIWXMAAA7EAAAOxAGVKw4bAAAFLUlEQVRYw9VYXWhcRRQ+d/9u7v6kq+ZFzNql\n",
       "aR8qUvfBJ/vgFkxKi+g+WFAMdAliAgZ6kTz4ErLgg1TRLkEs0Uj3QdEKoSsKgrVk8Sc1UOwuKL5G\n",
       "KfiDtCsxSfFlnTnzs3fuzNwm3ScHdnN3zvm+M9/MOTN3AnmgzYHBWt7S71h/7KL/TuRocGwUkagx\n",
       "fJoYTHSiajHEy4EfE7tx2gM5PCrBsdLeUKg6VRxM9RT5TPrBnuQbdfx7st9FgjhLb1ainczk81+B\n",
       "iTzREGBd9RQ6/qx2Ig9FoepXBhPt1sD945yiGvaxuR7q95IgBYhtRjsZyQHOgokcXhNgTTWiIFEL\n",
       "dZ/lKFT97mCqPTrnT6tDf5z9TNdlDwnyC8DlaCcL+TaYyOGiAGuqESXbY+Jhm6NQdXMw1RnQVT/M\n",
       "/34he0iQVR9u5SOdzOTxHTCSZ3wO1lRnlF8viB1kh6Oo6lRtMNUzBtUiJ1+XZU2C/AVwqxLlZCGP\n",
       "NcFIPtTgYE31jFE14yEoqtrDzezgycCAYk98GClUsS+GVTu/joucPCJzju2Y1yOdDI2SD22kDvsG\n",
       "XGyDgzXVOKS5p0KqGQ9BjYkpG6167f6I1uD9KNHMngwuVVD10XxO5OTHEFwXSP4T6WRolHyh8eID\n",
       "DQMuXeNgpnr5Gm0/yCHVMw1VNeMhKKo6S7fEryFTdkX4bBE+dw/ctO6t1E6+eXKshVS7X4JHtnUk\n",
       "e0lCcN/NbqhOLx/5LehkaJT8zH3VZ/MKLv0tVk2Tg7W1pqhEXuz1QjXjISiqOkMwHp2/Z57k5gtE\n",
       "ggdeyzaUC8p8fNZXvUBn3+vSaWFkp+X+ggPDDHJvS6c6LAedDI2Sv8fKKYBjMZNdDtZUU7MLZ3yW\n",
       "AZd5BjAeghKqM5jesxx0hR6KJWfLNpQrYFGdpecI4VoocbKjiuo0W+p16bQJ+ysBJ4vq75cqIZzT\n",
       "xT25ySMYVQPOaHCtGU+8KTN8oRxQ7dLqS/tW1WiHuXfAnOGE65Igm1UyfAqcvOL0Eaqejc5wdzu+\n",
       "FSJPt0fIgqdaPIJW1zgkUrWKas5DUFR1jijeRwq/hAx09P+SGSFcLZIlWpP2+gww+49h1VX4PZVn\n",
       "WlaAO9EgySIkfNUJz94VwRuaXE6e3nG3Eyr58LHpT6l2DtbWGofkbKqqOQ9BjfEDgGzgsQodKBYP\n",
       "Kb9D+GqNdUq/sFs+ULvrH+Z1jAfPI/3Xj1w5te7xFVwUxU6DjC4tLYeckle5kxpAxqXkwzV3K6bi\n",
       "MhNQ4afhokk1DindVVVzHoKiqpM0UQ58cpwN9BqZ9NhDH/jgkHf37FVRrOviQdrp8YD2SfK5ufqW\n",
       "PFvcG4ceHOeqvwHuRINc7/Vuh5wKPndCXjWSIM9V4cRxFbcfKzRb4mBN9SSqbKuqOQ9B4Rvpd8KZ\n",
       "DjQlUu1+uAdgWss7aYe/gdmzFWNFUjIHj4FpJYhy8NdJoTOnlJ7idvKVeIvk1qiIoKlGVKYc2s1Y\n",
       "G+Xv4ReDAxW55Px06jyAfgeVuZakO2jRfnuYlbeAohIk2AqnnvO5U0y32slvJFtFdmtCsKaaoIar\n",
       "l/zw7UNcg1B1jtfkvecOkq1ZHDW9Xhdc/cY/Jy/upFKZvWMaGJIVMCnLwSBKW+31uFOft7+b2ck7\n",
       "8GcFHJrBBfP9ugOnq2vm98o2V+22A72KzoSOKgffMZl93nrudPokShDdCfT5vRM5zmPHrHoevBMl\n",
       "K2ocn0bu4qb16vP96bP9DygRXN+R3TgZ1sb6D6ZjEpyo7A119+3t8/B/bf8B3el6ujaJRjYAAAAA\n",
       "SUVORK5CYII=\n",
       "\" style=\"display:inline;vertical-align:middle;\" /></a></span><br>"
      ],
      "text/plain": [
       "<IPython.core.display.HTML object>"
      ]
     },
     "metadata": {},
     "output_type": "display_data"
    }
   ],
   "source": [
    "y_len_jpk = Len(y_operands).computation()"
   ]
  },
  {
   "cell_type": "code",
   "execution_count": 51,
   "metadata": {},
   "outputs": [
    {
     "data": {
      "text/html": [
       "<span style=\"font-size:20px;\"><a class=\"ProveItLink\" href=\"__pv_it/exprrange_reductions/a66b1fb5d205d2e8007a39dfc31bf38e465e0de50/expr.ipynb\"><img src=\"data:image/png;base64,iVBORw0KGgoAAAANSUhEUgAAADMAAAATBAMAAADPIygvAAAAMFBMVEX///8AAAAAAAAAAAAAAAAA\n",
       "AAAAAAAAAAAAAAAAAAAAAAAAAAAAAAAAAAAAAAAAAAAv3aB7AAAAD3RSTlMAMrsQds2rme9mIlTd\n",
       "iUQmv6lAAAAACXBIWXMAAA7EAAAOxAGVKw4bAAAA5klEQVQoz2NgwAA2n1QNGG78eABiMyqjymnz\n",
       "JTAwfwAzWQJQpXIW3GRgaGDABrIVWBcwHEAWYdE5cxTMyJrCFYAixRdiAGVlsQn4QqRM3MACS2Ey\n",
       "DFkMCkwPwFIFHBNAVBQDQkqc+TBIimUB/waQQACSFOeGTSAXMjPsBxnF2HPmzJlDUCmGZDaI42tA\n",
       "BLMCki4GM2aIC8+CyQPIUowOYJVc/8ACLnApRSB2BEtxQoKLdQNMKhqI2cGuYoPYwpz0GCIj+gMo\n",
       "wAyW4nCABsclaEDBANuG+QYM2IH8htM4ZBjY3R/gkAEAR4oz5b1xIc8AAAAASUVORK5CYII=\n",
       "\" style=\"display:inline;vertical-align:middle;\" /></a>, <a class=\"ProveItLink\" href=\"../packages/proveit/numbers/addition/subtraction/__pv_it/theorems/bdb040860ba8b035aec6ab4a51daa2ad1ea247650/expr.ipynb\"><img src=\"data:image/png;base64,iVBORw0KGgoAAAANSUhEUgAAADMAAAAQBAMAAABJt1qBAAAAMFBMVEX///8AAAAAAAAAAAAAAAAA\n",
       "AAAAAAAAAAAAAAAAAAAAAAAAAAAAAAAAAAAAAAAAAAAv3aB7AAAAD3RSTlMAELvv3c2ZVESJq2Yi\n",
       "MnY6gD36AAAACXBIWXMAAA7EAAAOxAGVKw4bAAAA60lEQVQY02NgwAAin1QFGCZ/bmBgVHZAl1Pn\n",
       "WMDA+AHIYE1Al1pyYDYDgwGQwV+ALrVcgfUAA8isfgGoCJ+KiyuYsWYfTwBYajJUhiMOpmYN14WX\n",
       "YKkohspEkMBRmAzDGgYFpgagFONv9hprkEAMA0LqGqMjUIr9TzsvWDQASYq7oAjoQjbrC2A+r4mL\n",
       "i4sTVIphIRdQiiUsF8xnVEDSxSDFCDRQvqAfos0BWYr3AVDlfgH5ggcggXdwKV0gfguUWsogf2EC\n",
       "SIAVHirhQMwGdJU6A18e2EeMixohMlc/A3UwBiAHHcckaEBBAQCiiDO2cyaD1wAAAABJRU5ErkJg\n",
       "gg==\n",
       "\" style=\"display:inline;vertical-align:middle;\" /></a>, <a class=\"ProveItLink\" href=\"__pv_it/exprrange_reductions/34ff063bd5a981f25a87b1aac0b6aea83823bf0e0/expr.ipynb\"><img src=\"data:image/png;base64,iVBORw0KGgoAAAANSUhEUgAAAGUAAAAVBAMAAACtcD09AAAAMFBMVEX///8AAAAAAAAAAAAAAAAA\n",
       "AAAAAAAAAAAAAAAAAAAAAAAAAAAAAAAAAAAAAAAAAAAv3aB7AAAAD3RSTlMAInZUiRDNmWbv3US7\n",
       "qzJazP2FAAAACXBIWXMAAA7EAAAOxAGVKw4bAAABbUlEQVQ4y2NgYBBgwAFwSjAwGeCS2YRTjwmI\n",
       "eBOAIsZ6cgHItAYcWlgTQKQamihbAYhMxaGHHcWwHVCaH+zgdhx6OFF4RlB6P9itnAHY9Zhh1eMJ\n",
       "cSEOD5WA/KR0AU1PLoNJKQMDywX0kLwqoqPAwJAB8hPDDFQ9rD+YDYFCHODwqVoFAmtBTIezCqwf\n",
       "GRgWA5mKDJ9R9TB/3MyXCKQmoFrDvWENA+M/BobZQHYA81eogTMhBrLPeAAS4PuAFi+svxlASmeD\n",
       "A3wBqj1c6XVgc9HsYWD+wMCbAHEbA5cDqp54g/0gi5gXoPkHqIG/IYDhEIgtvwFVT39AvAEwfDgO\n",
       "oEemA4N9gAODL1gNWvxcY4h/ALSa3QFNj/wDBjWOBwyvQOw7aHoOMzAVAdMA1wY0PbsYGGKbgeIg\n",
       "h09CTwcQIIUjvXEUMFzm+IqeRiGgAlf+Ocj3mQt7tmM8gEtPDENRNXYZHpyZm1EBl4wiDnEAavhU\n",
       "TUt6jaUAAAAASUVORK5CYII=\n",
       "\" style=\"display:inline;vertical-align:middle;\" /></a> <a class=\"ProveItLink\" href=\"__pv_it/exprrange_reductions/b7f0448fde895a03ca998041184334d7205448bd0/proof.ipynb\" style=\"text-decoration: none\">&nbsp;&#x22A2;&nbsp;&nbsp;</a><a class=\"ProveItLink\" href=\"__pv_it/exprrange_reductions/4a49ce9697f503937df6475f2c9bbf87131e27930/expr.ipynb\"><img src=\"data:image/png;base64,iVBORw0KGgoAAAANSUhEUgAAAbkAAAAWBAMAAACvR/+UAAAAMFBMVEX///8AAAAAAAAAAAAAAAAA\n",
       "AAAAAAAAAAAAAAAAAAAAAAAAAAAAAAAAAAAAAAAAAAAv3aB7AAAAD3RSTlMAIolEdjJUEM2ZZu/d\n",
       "u6v6CvZmAAAACXBIWXMAAA7EAAAOxAGVKw4bAAAEsklEQVRYw81YXWgcVRQ+M9nd2dnNbsYqgtht\n",
       "l5o+KCXsgz6l4FCMNUFlBQsVAxn7YIUudJCCQkmzr1bEISA2Guk+WK1isGKh+EeDpa2FahOo+KZR\n",
       "Ai2t2JTYTfRlvf9z78ydSeL64IHdmb3n+84938w5d+4sOECMHf6tGesZNzZI5uakzWqkhniAfGe8\n",
       "7tQ9njDe424UFLfk3DCRks1amrp93YnLVQGyF+WR7OsBOY4oIGPqjXo6SGMot/Gv1aG9X4Agjqyp\n",
       "zmp2p+5VgCPHVpShPnrF874MqoC5nA6KG8nttchgGwSRkFPV2a3u1L2DC0hV9yjNuBDIoF8BvkoH\n",
       "xY3k1o6UJJsLEwk5VV2xO3FwKq5uBzuekUFnfbjlpILiVpTUcDNnJeKZtdS91GXbNePqeC0dlUG/\n",
       "A9yqp4E0hnMzT6lj+UAiHl1L3ST+6h+RJjYfO5GuSEbb1Yg647chXksDCgjgSipIYzi3/ELuwbA3\n",
       "t/SPeRJxQKfu4WubnnKZOix/s2fPhTNfgPdSxVE0E5hvRdQNOiX+66S43qS3s3+mgjSGc5tovXi/\n",
       "WBp6PoNffIl4UqibvoztB3xa/dm1bjN1F9DnWyi6Fp+mtwqnrW1/JK9lGA1wnqE9VZ31JdhNoMEO\n",
       "8EECgt4FFfTywDUZpDGc28G7vb2iXw+34BjAJy6PfkBz73pq34Nxh6n7HBUOTu7ZJ5n3ONJlgz2b\n",
       "uJApTVasCXXWKvYu4ctDg40pIFoREiiAaRmkMZQbvEvbhPDgOL62LNwY+0TVWdYy5FZCdUVSlg3m\n",
       "/QY/jGpYfcJCNpegDi5R70SNBRtUQIWFCGgZttYlUIK676bqgodyQ6nDVuDRB3V9l1uCcjOszAlX\n",
       "Umfh7ij4yeoI2hr29JWJvJ/yYA2lMveB4SigD4m6RnplWu2eMBOUW2EJYMbYxaI3dH2HpPW1fKru\n",
       "KrpTqGtrBImb7W9UuuSxYsWnw36CttEiT/wlN6LOg+s5h+Y8wykYlK1CxldB5JknQJH6YrkVVqx2\n",
       "Rgy2UeovwOK9hx1KnNHdu2IVDvpVqg4tqmgJNOs4IVLcqD22A4z6MIEfZfiLDIsTgn7FDKjfxPVm\n",
       "3hahS27uks3uyCTvFwzaPDU1HQGR7akAiQnEL5xbuWndMUX0q9AIAjjtZRlxUqcOVcQThTpVN4o+\n",
       "2z7eTRO6jC6i+dD7Phg/oXrCk/cGrObJCfZTNFrkiT+LVp/yzdUb4vIubt8yxNSdA0bBoCudzmoE\n",
       "VPFlkJiJTneR5lbyYHi3SPzIrmcW68Zfb/Ho53TqdiLcB6zvevmTGSeU4yVyH9wFsD++MxEl1Ocw\n",
       "/3ltx+BgxqygaEFGgBpRAqm2X85NscLcToNGJ+TUvYrYxpIO5RP/uOdt9FiMMcIaeR6Y/6NEdXR/\n",
       "biaCKnue82WQatXELXbZHTVpdEJOf7+bpz82vdkPcIg3ZqezBFb8zfKQOHsamL+ke30mwSohRQs6\n",
       "2+koIHVVcaXcVCs55ROUWFn77XVcGlH0ZOIMV94kUb81l7Sez4eUdYEgPvl48tNinpOT1A3RKnQ3\n",
       "/maQfyTcud+T9K+BfL/WBdK0ZmJumEjJmTr8x2YP+/A/t38AI1pNRChx4jcAAAAASUVORK5CYII=\n",
       "\" style=\"display:inline;vertical-align:middle;\" /></a></span>"
      ],
      "text/plain": [
       "{j in Natural, k in Natural, (j + k) = n} |- |(c_{1}, c_{2}, ..., c_{j},(1 * d_{1}), (2 * d_{2}), ..., (k * d_{k}))| = n"
      ]
     },
     "metadata": {},
     "output_type": "display_data"
    }
   ],
   "source": [
    "jpk_eq_n.sub_right_side_into(y_len_jpk)"
   ]
  },
  {
   "cell_type": "markdown",
   "metadata": {},
   "source": [
    "Now we perform the lambda application"
   ]
  },
  {
   "cell_type": "code",
   "execution_count": 52,
   "metadata": {},
   "outputs": [
    {
     "data": {
      "text/html": [
       "<a class=\"ProveItLink\" href=\"__pv_it/exprrange_reductions/cc100baf3afc4b9a5896769703235901670ab9880/expr.ipynb\"><img src=\"data:image/png;base64,iVBORw0KGgoAAAANSUhEUgAAAsgAAAAXBAMAAADkcqSWAAAAMFBMVEX///8AAAAAAAAAAAAAAAAA\n",
       "AAAAAAAAAAAAAAAAAAAAAAAAAAAAAAAAAAAAAAAAAAAv3aB7AAAAD3RSTlMAInZUiRDNmWbv3US7\n",
       "qzJazP2FAAAACXBIWXMAAA7EAAAOxAGVKw4bAAAGvUlEQVRo3u2ZXWhcRRTHz83u3c9kd62CWFO6\n",
       "TVtahNZVa6B5aQjFipB6ERULlc1LMaKli6YmFrGLYCsS+gVF+wFdbDW4xTT4ZHwwSUHEF42xahFK\n",
       "Vx8q7UObmqYKhcT5vjNz534s6ot4oZvs7Pmf/++cOzM7uQWAAvhf2mcWRI9tOiaKVyFAa0XQ+xVg\n",
       "hRUXCOBblUjbUgrI+an6diVEjzVdf9fLV4+12WI4q18BWKvpoxfgX5VIuyEwaVV+F+uOHmu8mvPa\n",
       "ftykv+bII1fec7VrQ/Vo0Bp8uSGN5F6skJ9rdb1fAfbXNQOVbsWweFq7LzDrDvnNsxA91nQ16/WC\n",
       "V2//tEtpMsy52oQToseD7RC/Iw/l6TTE2oQTpYBExVSVbsWwWNpk8PzbT6c9DRqC6LHq9Rl5bdZr\n",
       "Tgsg+geVVmTnXW2qEqLHg98BHJOHJmg6rKV6xupbQL5kotKsOBZLmw5uXJowxOh2daiJWPV6mAY0\n",
       "58VJ3QDwNDlek7RHQ/R48JQDl+UvqifYz6Ncz1h9C5hwDFS6FcdiaTuDC09UXfBYX/RYI2OTXnF9\n",
       "9+v0NpkvXqLtD9HjwZ8BLsubMl/n/Vwf1ORO6a4oVHFt/ok9haYdwKeMCyu0zsQ7DrBfpl3wJP7e\n",
       "W9azRDPpWdvwxhoZm/RKzKxTl+aA3uRlPTdKkrY3RJ+kX9zn3CPWhfV8nfdyfVCTMcDOju/BQ5WY\n",
       "jm1xDFgsLW71eKFVne7WaXiDbSp9LjieLdnD8K26XpaWkpPeWCNjk17lHfZNJbRfa7IEQ7T7QvR0\n",
       "qeR+FwMSzD6uD2oyArBvO+WCh6pcfeS+qgGLpT2NdO9DUl1ZmW44wlbYIRc8g27PtirsUe3PQLro\n",
       "jTUySl4NzStn8NrkcAp2ndaajGBeA8l7Y4g+Q+ZXZlqcCxAM3wI3cn1QkxFAbF7UK1Ftur90pWDA\n",
       "YmlPoFU0iyu16X0sY9e9uJDn8G+5WUjW6x8fr9enIT2GPsFdtTdfwgH2bbwE8VR4uvcHLVa+9tTr\n",
       "x+r1T8D1AhhVvSDT8Hoh0luUglphPW8ylWIYwQlww6uXUckg0HVD2QkMhb9B/wlW3wL6IN+d+gBU\n",
       "qtcPSAMU611yK2haFJKehPIY/PoAvdt4yz6JsTvwjMtKswszngT7DiTZzB8BIgaokOmdDZvJwovP\n",
       "LO7FlpnmdQayc5SCWslNZlIEI3GOe/UyKm1yahokdgRD4ce5PmgmnyALb6JESSSqjwYb7gDBYneU\n",
       "pkWTvVyEg+j3Lvd4TXatWI2/uEsQfZKahfyYtcBjy/ijO7C8ocb6rTbmBZoXgNcLnT3RMonVfLcL\n",
       "CiNxdnn1MirdLjaAVXDZD3L4LtGB4O0CHZP3Otasul3Yc9kF0LCWkzc07XnkVYIfYwWpyfAnmhqU\n",
       "OzXpgrcWUTZo63so5bjkebTfj71NOOVYI6PwsteUVK+nXvV6wQLe3eQmn9eaTGAkzmGvXkYlg7lu\n",
       "aOEZKAyFH+b6oCYjgHwD7eSpySXdMlVq3p5r0bCGrVXA0/Zi79hIUp7JeNvaSuHpqYeC42PSeeiq\n",
       "VOQjKDpaxBv09CjFks2JvJDNkzEKr6R05CZelU6D10X4CpQmkyPWkwWpPAzjcg4Y9PJpGQ8uHRzc\n",
       "4zadFE7gB7iesgp2us26BbRVWyvQtuLRwzJVW5+9ENewZu7eVuBpr6E8M1uXrVeaHH/8LYfCZ8Zc\n",
       "8BwaeH7VLzMN5SnN5ndWo48+1GJH+AvZPBmj8HomXlG8bGeLyWtLVW0y0sOlUzvFWYnCuJxnDXoZ\n",
       "FQ+eW1y8LeYcLZzAn+V6xirYR0At4AL62zy9UjoeocHWEqxZDSrWkVJOpM2I6C797yMMvxSkLWBU\n",
       "nG2/1GLbHT3WtNpcr4T+FKPfz0tucqZhWsmC06oZ9ArqqPEvTQyPtVQftF1wgOWDjTAq6483QaRN\n",
       "VQKbPCQ/tNnPP7oX7lIzVvCXyVDYAyLXK68/577p5yU3OVXxbfKQeP6k6RXU/cZ2YHisZc+vAh4Q\n",
       "cYDhbK0QQpWa/NwCkXYqqMnWpDzSyjJb31zfrc6F6785WqzxEl5XtQ9yh/y85Ca7eiNnu0Gvoraa\n",
       "/g+DwLfr+sACZnK17hCqtuK1OIi029noPbt61Bv82K2iRmWzNqQXF2eV2FOLiz4VqBf3gnX6A/tp\n",
       "MHsRCq/eyDll0KuotmkeEPgpv2YZC5iCi41gKkTUdsBNawX9r8sK9e0SiB5rXJlF+SmE9lQhgpcv\n",
       "K9a2FMJZ/QrA2pZCEwVEooqc9t+4El9oTwZfugr/X//wlVyjPfh+Zfd/ut6/ANz5P7nGlToiAAAA\n",
       "AElFTkSuQmCC\n",
       "\" style=\"display:inline;vertical-align:middle;\" /></a>"
      ],
      "text/plain": [
       "(a_{1} * c_{1}) +  (a_{2} * c_{2}) +  ... +  (a_{j} * c_{j})+ (b_{1} * (1 * d_{1})) +  (b_{2} * (2 * d_{2})) +  ... +  (b_{k} * (k * d_{k}))"
      ]
     },
     "metadata": {},
     "output_type": "display_data"
    }
   ],
   "source": [
    "requirements = []\n",
    "dot_prod_lambda.apply(*x_operands, *y_operands, requirements=requirements)"
   ]
  },
  {
   "cell_type": "markdown",
   "metadata": {},
   "source": [
    "Note that the requirements, in this case, only relate to matching the length of the operands and respective parameter index ranges.  The necessity that the $x$ operands and the $y$ operands match with respect to corresponding **ExprRange** start and end indices is not needed as an explicit requirement; it is a simple matter of checking that the expressions of these indices match identically.  In other words, that requirement is met by a trivial inspection."
   ]
  },
  {
   "cell_type": "code",
   "execution_count": 53,
   "metadata": {},
   "outputs": [
    {
     "data": {
      "text/html": [
       "<a class=\"ProveItLink\" href=\"__pv_it/exprrange_reductions/6a6367bb13de83d537a3f37d8874b346476e58780/expr.ipynb\"><img src=\"data:image/png;base64,iVBORw0KGgoAAAANSUhEUgAAA+QAAAAXBAMAAABwnZgIAAAAMFBMVEX///8AAAAAAAAAAAAAAAAA\n",
       "AAAAAAAAAAAAAAAAAAAAAAAAAAAAAAAAAAAAAAAAAAAv3aB7AAAAD3RSTlMAInZUiRDNmWbv3US7\n",
       "qzJazP2FAAAACXBIWXMAAA7EAAAOxAGVKw4bAAAIkUlEQVRo3u1ZbYhUVRh+Z3bu7uzM7O4kQmQr\n",
       "jtoXkdtGKrR/HCQyvGg3CSlQdv+IRolL+bFJ0FCkf8TWKKgUXNISrHTpn/XDVYjoR7VtahaIWz+K\n",
       "/GF+7SIIbue85/vcc+7cdgJJOguz59z7vs993ue559wvACiTP9oycGtaWfuNbc5MAyrTAIIPM94y\n",
       "3kGK7fXAcYeHf7lOagKPMutkuyHE8fxbZPnn+Bvam6dDikHlhqePEGtEHncrVrTB/DRB/wAcKzGr\n",
       "sYTxpybwCFlnIQdpqjZoXfDNkDZa80Ha6GzNbzkl1f6ROFW3vThex59azPJGyyLywIVI39L+fD/+\n",
       "f0BtIgexyDmC3OCWTiKPVmJWY1mu86ovDOcRYifo4yCrG56uzf36aH3q6HV+ywmptVsn+JZOyN2o\n",
       "A7ouZnmDZRF5gp82GZZDB5tgzWrr6ji5eJATPKYTz8NK1vktN3ilEIbxCLHTUuMgAw1b3mGsNVdT\n",
       "R+/0W05JZYXlPwC8Xwd0Z8zyBsui8sDDpm/H2TCvzvCBOLl4kAfc0onnYSU7/ZYbvFIIw3iE2GkV\n",
       "IIMNW35cV6Y4kTq6NfJaPqhbvj+C83VuWhDKsLzBsqg8tuXL+f935ZbBOLl4kBvc1mm5VolRjSmM\n",
       "wSuFMIxHiJ3FvNfU17Dly/VBbih1dHPNZzmSkpb/AnC+zjULoXTLGy1rscNysRRvkJfyvji5WJAH\n",
       "PGedk+u1SoxqTMsNXimEYTxC7GzmvRZ6mzN76Qw9zBrGmxmwcd6PmvhjC5LvKVV0btRnOZLKavPg\n",
       "qPcO9/TMhyocSrccEXLzdusnozGKN2P/ZtvyzKkusRSvkAt01SLnCnI0Ct482rQscuTRSoxqTMtt\n",
       "Xl5higueXnpS8Aixs4H36BlV3APfa9VZQwecERBMRr1qeeldF1xOvC9S0fk+eYU6jG0UNFK65e1X\n",
       "fHDVbyv0eAilW04RMgfgVc0zY+R4hDX2b7AtP1YuCT47jLVFJ+cK8sy83tqjd9UcebQSrZrtKMxn\n",
       "0nKLl1+YXGkMqNA7ROoOOMB7BTInn6vBdi3aGsYbD2jny9sEtKrH0CURvJ2Uq0U3DfpmOSWlW14Y\n",
       "9Z18w59C5iaH0i2nCIWqTsUcxRvbz2tCeXTLg/egRVwrHpMp3SY5Z5CjUfAld3f/Xnbk0UqMasxZ\n",
       "bvHyCgNfFkZgzjjnESKhvbzXSpBfAzgI8Kw4Kg6Dx895ZzqLhwK7jhC2HdVAnNVbAa4l5WJ0/kM8\n",
       "RS/5LKekdMu90zMIbtCTiEHplmNZlISqiowSi8I9vCaUh0vbSxFaLtFzglX5l7wNG5bkgkkZ9MyK\n",
       "03qQo1HwV3aDladEMaoxLd9rWu5ft6LeYTr9GI8QCemW7wOiXPs8ceOFwxZo8d6IYYA+PY53//Yg\n",
       "Hx2E4tWkXIxmzIuDKS3Pj/oXjUvQ1sehbMv3UQW1qqBOUbYrXNoCfc5pHQGiIavymGE5J3dIBvXj\n",
       "EnisjuUfbxu38pQoxcGUlicIA0sAzggeIXa0hT24AnlyXjVxNdiwY5gumO6pxeK1B20yQ3rkY3nL\n",
       "REIui85gOh7QeS23FvaFkPE9ixC/O2oRg7IW9uCKPAgjDXWKstdefWHvrcBb5B9W2WMs7Bo5FnQD\n",
       "F9Se5IU9uFq8aYErUbRq7Gu5yStBGOr39YDzCJH1Sd4rVcjhiXKP4IECWjwO8xFRJ3AsGCIAVr3M\n",
       "4jvGybUIoSmTm+RKj7kQuXJZdH5kBrnZzY/4Znmpwi1HAu1VyEZuKtBaJctXlUERkQId4TqZL0w+\n",
       "GklHCUWxaFETymNY3g1nmspMwF3Ag+hBkJwR9CZavkvgWmcWB89PBFezJrgSRVTjmOWSV5QgDG56\n",
       "h1zxcpxHiKxX8B59IDgJPf39KA5et9iQPmHTIV5tcLscsYD+xWxTW63Uj5bjvrPwNXs6l3lmB6Pb\n",
       "5i7aw59xnJazp5TL/Liztm3b7qNC1L0vP86fyYbZToFALnQr2Yk8CXxkFGUSw/2iJvZs85SaQqVK\n",
       "06EWPmc2Cxb0IEjODMJXD5tjB5DEKXhbX3AzZ+YpUUQ1DssFL0SUwjgOQs7tbN9u/lQXIqELvNdO\n",
       "JFl7z69j4yhOgX7KYEP68h6Hh8T1DH8ORzwgiJax+ODUAF/tcN+yGn/xT0eYckjPxejW+UAOUBj2\n",
       "WU5Jtf08eZYRODo1Nemj8gU54hscioiEUQIh9+TrfMmnkTgyijKJ0f2yJpTn3P6N8jEqGFs5u4tb\n",
       "/gnwIHoQJGcG4fcgGuSQQICXuuH+e808JYqoxmG55EWhlTDxgxTJpDvbzXmESIjemiLIEXknRMVZ\n",
       "pJ5TvzKGMioyHi9lQI++D3ObIm/uHLx3meV/xy5JKQKJVGaJt9KLbASsyiSWhCRqKrjfatEqM0OS\n",
       "zhFnUGckguISJIArUWb537HLVAUdL0d3cYinkg593x7KLxJSHPXJ8U64Qx/KR3zVvazH9+j7MDfn\n",
       "z91VHCrzLx9uyyUpRSCRyoAQqWojsFuh1EWJmjyfRXrElw0GstP5Tqef3FOxoJzj3ZEXXIky4Ldc\n",
       "puYShNE2MR4h65zgIKWyJk4g36lkvru4RRvKtkq9EhvU43u0fZirRcZyx9qHqpAZ8VsuSCn8RCoM\n",
       "it6+VWwEtHxV2qJUTSe8lncqOiXX/XLnxT8iFuSQIAFciiKrcQgjU1clCKNt6hSptLNGfIEd4XI8\n",
       "ca0CWfW1Z2rqkjaUTaFlyc2LDJi5aanah7lQ8eeegLPjXC+35YKUIpBIhUERkbI2AlZlEktCUjWt\n",
       "cbmCVZ5QdARNo+2fmhLOxCVIAJeiyGpclq+JUQbPQbQzJGSdTAW6cDxjmh+bmmuNfayai79d9ubp\n",
       "kGJQ2fHpI8RqylQ8IVl9Zs9IE+RY+ytJlZjVWML4UxN4dNUjlK698Cfcdu12rOlfbC9t+b+m/1T7\n",
       "Gyeh3VzA6l5CAAAAAElFTkSuQmCC\n",
       "\" style=\"display:inline;vertical-align:middle;\" /></a>"
      ],
      "text/plain": [
       "(|(a_{1}, a_{2}, ..., a_{j},b_{1}, b_{2}, ..., b_{k})| = |(1, 2, ..., n)|, |(c_{1}, c_{2}, ..., c_{j},(1 * d_{1}), (2 * d_{2}), ..., (k * d_{k}))| = |(1, 2, ..., n)|)"
      ]
     },
     "metadata": {},
     "output_type": "display_data"
    }
   ],
   "source": [
    "requirements"
   ]
  },
  {
   "cell_type": "markdown",
   "metadata": {},
   "source": [
    "Parameter independent expansions are only possible when all of the indexed variables of a particular expression range are expanded."
   ]
  },
  {
   "cell_type": "code",
   "execution_count": 54,
   "metadata": {},
   "outputs": [
    {
     "data": {
      "text/html": [
       "<strong id=\"dot_prod_with_y\">dot_prod_with_y:</strong> <a class=\"ProveItLink\" href=\"__pv_it/exprrange_reductions/01844fae7e9d10159ffb885a726bafbfbb33de730/expr.ipynb\"><img src=\"data:image/png;base64,iVBORw0KGgoAAAANSUhEUgAAAfUAAAAVCAMAAABopYcVAAAANlBMVEX///8AAAAAAAAAAAAAAAAA\n",
       "AAAAAAAAAAAAAAAAAAAAAAAAAAAAAAAAAAAAAAAAAAAAAAAAAABHL6OuAAAAEXRSTlMAInZUiRDN\n",
       "mWbv3US7qzLz6SJmQj4AAAAJcEhZcwAADsQAAA7EAZUrDhsAAAQoSURBVGjexVrZoqMgDGURAVFn\n",
       "/P+fHdSyJwK1jnlouDcp5yRh1RJihZL3hH7lTJ/Go/8noP/XL827YfzFqhvW7uuJ3mDchvc4QLfc\n",
       "LZKj5TQfyJvCVKunJ3qLcQve4wDdcr9IjtapxUjelVG0+XmiNxnX8R4H6JZfFMnROrRUL1ddyTY/\n",
       "T/Qm4wLPKAzpKYD6eqx+yiihdWhN3haNzA2WHmB00fgRHs934scB6gs6+y2jhJbVfHy96mMYyEm6\n",
       "eDJnPNHbjEd1neLHAbqr/psiOVpWy88xQTC2iHUYkKNixdy0N2FdDItvTokh+csRbWV8uhxLo1gw\n",
       "PLAojwN0V72DEUoq0LLaDQA7r9jCiJyQTfXa3LQvY12oEak6n6EJ1Mj4iI/wfW1UG4YHFuVxgO6q\n",
       "dzBCSQVaVk/nuFF0dxNkOUZJTjsxi2FYlv5jaoKQhqiRqhM2B5yJp40K411WfiZomRMPrq+LAgAg\n",
       "MUcAsUcNoLvqUMioxFGDebZam9N1H0mfvKyM5YMpNu+77RdzPu4is4RB+efvlMi2GX8WMWkDZSy2\n",
       "MZwS9J4++xF7BDx5gGh9qIXgAGnMHiECiD1qAJcrIvQNgFGxrENRw3m22iczduNQUZ15LwTd1q9O\n",
       "keCgN+hcN2PEzuQNjPEUToHGzgwb5Zp4mMpUBACymAOCB4g9zK/nOhhyJnDUUJ6t9gun9bULiBBY\n",
       "1b1ZiW+rHrqQyk4+WVYsxV3j5x35Cl9n7GYG06lH7ous8E0xe4DYowbw7QqPpxAjBebZ6vnoX8yG\n",
       "LPo4CcR2l/TMbPVU3LPQE2XZhVBG261Jf+7jakaqPsYX9pklDYRxJvPiPiIPNV8XBQRwMeMAwaMG\n",
       "0F31klGWQpgUkmerz+M831YhbYeGxzn0e0VmJuskku0Nb/hW3AUVbP/nJrI7mbXi93V/HbpiXIz6\n",
       "ZZ8eKvWQw3VRQIBPzBcAwaMCcJUu+BsloyyFMCkkz1av56yVjNksK56uBdMnjsxMP0drZw57Stlw\n",
       "TmkX9voRdr/JIDeQZEVdp6SBMM4XmmVgcqOpR46XVx0EoLOoAASPGsBVusBvQIySFGKkwDzvegJ2\n",
       "K58hDoVKLUVKUXPRGeCkLaiUx6GU0Mb7gCd6yRgYPGPqUeAVCzAAEGLGAIJHHaD7iSzAKE4hSgrK\n",
       "86Ghlx8+Q9D7PTqv6yoFZgYeGpRdbEck/GDT+mbBE71kXIQudLYHFHjFy5ESIIoZAYg86gD1c6+q\n",
       "MopTiJKC8nzqOR/CdBi34Tw/QINUb7ug5vL5IBDUvk+xQZ0JbU2FJ3rBOJsi9n/LkHq04BUAIWYM\n",
       "IHi0B9QhBaM4hSgpKM8fLXCWlaq2/SylNx58/Mx5o7pQKibNF3iPA/S/xOgYShCpQMtp+sxvftqE\n",
       "deTIE73BuA3vcYBuuVskR+vQ/wCbGCu8Gu3AvgAAAABJRU5ErkJggg==\n",
       "\" style=\"display:inline;vertical-align:middle;\" /></a><br>"
      ],
      "text/plain": [
       "<IPython.core.display.HTML object>"
      ]
     },
     "metadata": {},
     "output_type": "display_data"
    }
   ],
   "source": [
    "dot_prod_with_y = \\\n",
    "    Lambda(x_1_to_n, \n",
    "           Add(ExprRange(a, Mult(IndexedVar(x, a),\n",
    "                                 IndexedVar(y, a)), one, n)))"
   ]
  },
  {
   "cell_type": "code",
   "execution_count": 55,
   "metadata": {},
   "outputs": [
    {
     "name": "stdout",
     "output_type": "stream",
     "text": [
      "Expected error: Failure to apply (x_{1}, x_{2}, ..., x_{n}) -> ((x_{1} * y_{1}) +  (x_{2} * y_{2}) +  ... +  (x_{n} * y_{n})) to (a_{1}, a_{2}, ..., a_{j}, b_{1}, b_{2}, ..., b_{k}) assuming {j in Natural, k in Natural, (j + k) = n}:\n",
      "Improper replacement: Improper replacement of (x_{1} * y_{1}), (x_{2} * y_{2}), ..., (x_{n} * y_{n}) via {(x_{1}, x_{2}, ..., x_{n}): (a_{1}, a_{2}, ..., a_{j},b_{1}, b_{2}, ..., b_{k}), x: {(x_{1}, x_{2}, ..., x_{n})}}:\n",
      "ExprRange indices failed to match expansion which is necessary because not all of the indexed variables being indexed by the ExprRange parameter are being expanded (x is expanded but y is not): Unable to prove (1, 2, ..., j,(1 + j), (2 + j), ..., (k + j)) = (1, 2, ..., n) assuming {j in Natural, k in Natural, (j + k) = n}:\n",
      "Insufficient known transitive relations to sort the remaining items: {(1, 2, ..., j,(1 + j), (2 + j), ..., (k + j)), (1, 2, ..., n)}. \n"
     ]
    }
   ],
   "source": [
    "from proveit import LambdaApplicationError\n",
    "try:\n",
    "    dot_prod_with_y.apply(a_1_to_j, b_1_to_k, requirements=requirements)\n",
    "    assert False, \"Expected an LambdaApplicationError error.\"\n",
    "except LambdaApplicationError as e:\n",
    "    print(\"Expected error:\", e)"
   ]
  },
  {
   "cell_type": "markdown",
   "metadata": {},
   "source": [
    "But we can do a parameter dependent expansion in this case, as long as we can prove that the indices of the expansion match the original indices."
   ]
  },
  {
   "cell_type": "code",
   "execution_count": 56,
   "metadata": {},
   "outputs": [
    {
     "data": {
      "text/html": [
       "<a class=\"ProveItLink\" href=\"__pv_it/exprrange_reductions/dfea716807c882aaba698ab3d67e8c276bab07710/expr.ipynb\"><img src=\"data:image/png;base64,iVBORw0KGgoAAAANSUhEUgAAAsgAAAAXBAMAAADkcqSWAAAAMFBMVEX///8AAAAAAAAAAAAAAAAA\n",
       "AAAAAAAAAAAAAAAAAAAAAAAAAAAAAAAAAAAAAAAAAAAv3aB7AAAAD3RSTlMAInZUiRDNmWbv3US7\n",
       "qzJazP2FAAAACXBIWXMAAA7EAAAOxAGVKw4bAAAFZ0lEQVRo3t2ZX2hbVRzHf2l6d5PmNo1FEcRB\n",
       "5oZRQYki4vogoUh9moSBYwNL8yIMfLBop6Uqu/iwvQyME8E/Q4IKxQxL8Mm+uG4gKGQaSvFpQp1P\n",
       "3YPt1A1BcJ5/957zu/fmnHPb5MUDTZPf73c/v+/v3HPOPTkBgBJoWsyZ0UVrndaBJQuLoQ0AkRlQ\n",
       "IHOPVHUhX0cNB3XRhbKlsIOpcuolDgkxmFoE50ltyIiPP2dr2vCH7HTpKdGcBolDQgymFs5xGvqQ\n",
       "l/DHY/rofXUrYcdS5TRJHBJiMLUwjuvrQ86KQS/CFvXRuXn+/5s+U8eOEslpkjgkxGBqYZy8ISTP\n",
       "72dWrFBNQ/gH/N8TfaaWHSWSM5++gwaBGEwtjPOUabD7KjJrmnYnbYSZKDinUeKQEIOphXEW6C5j\n",
       "4wB+lB5dBKfH3472VKRLV/n905N4wav4MCveH7ERZqLgnMkSE8XKlg6hViDb7mvBwCPsdq2WvFso\n",
       "pnYYcjtiRWmoSDpACu/BT+iZMJptwrvi/RkbYSYKzpksMVGsshCmQqgVyLb7WjDwDHxOuv1DcFtq\n",
       "SLG6BONrgtVUkWNku3nChyVE/I1cfU28P2wjTKEUo5RiLKcqcTPODMRiVyqEmltpaWvp0yWE8wkZ\n",
       "8TswVgOH37g5MgQcOA/5MjcUySBx2+0vP263yQzMdwBOA3wBzrO/0Hvn3CYv9XwZzgvDNvlbarc/\n",
       "are/iqpKoBCNm4jCDTinlAiwEkzHqFjpguMNsEJwwRSh5lZcaWsRFyvF8LZN0+fXYK4D1x/hd4Zu\n",
       "XAq3YHuTGwpoSFDkBXD+AVcM/mX6cqle/FcYVm3ufkgJWkgRuyM8DEOJvFGBMbGidtq9D7SMCJf9\n",
       "McEMoeRWXLurJVoM5ZCJNFdm68eUcqMa8LAwZFuRyeH8QZfAiU4mhMDrMNIUhinLKcYpqFGKCGtF\n",
       "57qQyBpbx2JiWfPCq/UIGherIObaQy0KkHKukPRV+DlbUnV7PbgqkuTWVKRXBudPGG88nqsrEq+S\n",
       "C4ThnI2wkAJHXwNE4QacU0p0KtWETmZiuUt2sh5B42IV8NyKK10tucXrFVxMYDlH9yleObvs4sHR\n",
       "K/wtDG5NRdKd0RWYmidzbFQ+K9+GS74wLCBhbM28Hax8CZR5ZQPLKMyAc0qJLtuUxkYyFctdspP1\n",
       "CI/LaCXkVlyoFllGn1qOr/r5EgIGlgW4Qa5ff37/Y0i3s1G5KQxjHRVZJMlnD/26TtbAG3LTMjt9\n",
       "uiQMF1EnswVvOVz5YhSn/hwgCjfgnFLiC6PzCZ3MxHKX7GQ9gvdkpAKeW3HhWsIy+tRyz4MwgYGB\n",
       "5WL4REW6yQ1qCMN9+Etk+AzPfKeGzwhDpmX1VXQl+q0qpDBDJKeUuM93u90L3e8TxJL96lvdH7pd\n",
       "n3eyBhHExSoguVVX2lrWgydlCOQWwgmOQZDuGThRFYZFfBxyNgi5F+6SNTrvC0NwEGM4VAkpcBMw\n",
       "hRkiOaXEiVLCSOZimUuOZD3CS6yA5ZautLV8Cm8UMZBbKOdyQid/BhvCkFnDaE8sO5kffz8V2MbK\n",
       "4zVhuN/uVCCgQFEerzAKM0RzSolbSbsLLnYL7S4MCC+pAi5GulLWktmBlWdwl3AL5bwo7He/Mh1e\n",
       "+HSlIwxe5GcbR6jP37kT7lqy77wZGC7bCQsoMCIPHRiFGaI5Q4nwaNDJMbHcxXpo5q+yCeElVcDF\n",
       "SFfKWgo9OOQjoLBQTkb7M8uBqGFS+4OE7S9pk/iwDJ+exXKGEk+GIzn5yMzrKxsjvP4nd96ua9lr\n",
       "nwyrvbxlMqBO+LYZfOPr43KNJ6CaOJ7bhf9be/WUyYAODCr1Xbis47S599T+A623DT4JBPIRAAAA\n",
       "AElFTkSuQmCC\n",
       "\" style=\"display:inline;vertical-align:middle;\" /></a>"
      ],
      "text/plain": [
       "(a_{1} * y_{1}) +  (a_{2} * y_{2}) +  ... +  (a_{j} * y_{j})+ (a_{j + 1} * y_{j + 1}) +  (a_{j + 2} * y_{j + 2}) +  ... +  (a_{n} * y_{n})"
      ]
     },
     "metadata": {},
     "output_type": "display_data"
    }
   ],
   "source": [
    "requirements = []\n",
    "dot_prod_with_y.apply(*param_dep_operands.entries, assumptions=param_dep_assumptions, \n",
    "                      requirements=requirements)"
   ]
  },
  {
   "cell_type": "code",
   "execution_count": 57,
   "metadata": {},
   "outputs": [
    {
     "data": {
      "text/html": [
       "<a class=\"ProveItLink\" href=\"__pv_it/exprrange_reductions/0695d7a2cb10b7d61b8105573878605474e0b83c0/expr.ipynb\"><img src=\"data:image/png;base64,iVBORw0KGgoAAAANSUhEUgAABBoAAAAXBAMAAABXIzGhAAAAMFBMVEX///8AAAAAAAAAAAAAAAAA\n",
       "AAAAAAAAAAAAAAAAAAAAAAAAAAAAAAAAAAAAAAAAAAAv3aB7AAAAD3RSTlMAInZUiRDNmWbv3US7\n",
       "qzJazP2FAAAACXBIWXMAAA7EAAAOxAGVKw4bAAAIu0lEQVRo3u1ZfYhUVRQ/8/F2vnbHKfqAMBwt\n",
       "tT/ULFQoooaK+sOsl1AYrOxUCEpFQ5krJjUU5D+VU1RYSQ70IU1qg/RlQYyWgbbaamUWZVsEoVSu\n",
       "2UoiuN3ve+579z5nzD+W6Mhd5777O+ed87vn3nc/AKBA/lGJwdgSh1en4+yZDLBw5lQKHYM6gHTk\n",
       "Z0zSE58Jc9mTi8ZYNmxmf5PNwOPTcdZhSkpiyfF7GzuqLu05617YuWGNqBC6OhWnyuZOQR1AOvMz\n",
       "V+QFZgmCE6Uxlg3xqjsbqLP512Vi99871JGpQ36gedcQlLuc2tMOQBeURWUW1j9/2e6It/7maxVV\n",
       "kUK9j6MEtIFYYPFqm0yZgv08NUFwCS9eWRB8O4w1WeTOBuLswmUj4sl4SJ7owJT3zf2BnklVCKHX\n",
       "OZX7CVFJMdQIXVo/1oJbmu6XTlEquiKFe79I1a0gHtiiNpkyxPCzDYK6fFZSVUHw8jGXDavc2UCd\n",
       "jcts2APwYkemLg1kQ08Ber2WU3kPeK1emThVpE/0MrVThpHCIzcnK8z7VXYQfIADW9UmU+GXSj/b\n",
       "IChdYSUjCa6NuWzI+M5sqOFsWOfDj4VOTEmW4jsbb7CBBPBIT3gundZosBFLhszQAWkI62dGoOfI\n",
       "qcMwlihFnA0Z3wqCy3FgGb89psIvlX62QRA8z8ocQXCiPOayoavqygbmrMqG7wB+HOrElGApd5ci\n",
       "MT/4a0jnvcnq5+/5ilxRYpZ76tBz8pRhzHFnQ1fVCpLZwAPrqrbHVPil0s82CILFrCwVBKfoIvLC\n",
       "a8/GiEA1LCYg9tXEon3/4mqINpkcdGUDc1ZlA5G3ncvtr8+ZVgyaEiydp0dUt7/dVCBOo4/x9m4J\n",
       "XRr40mSHXW/2Jg1qFVUxsyE5CGAByWzggWlQdHiGBP10EpSbfuu128j/81hZLAim6ZV7Br5Ac06g\n",
       "arFkArYUukesOGdDtMl0WXZhqsFkEJCzOBvyf7rslXYVvSPYFGLpTrQCTxdNBfIOPbcmSo/hIYRZ\n",
       "PuxM8xSs0SqqYmZDuoztKpDOBhpYOmLWxuEZLAX8dBOU7N4LfSTUJ4CWVwXBWbJovqMKKxAwUA2L\n",
       "AOTFYFgDqTr5PzQnORvcJjlzNdfcQJ3F2ZB1DZ9ccwPETgZNCZYQy2p/KRVINqCJWENfDWTDRmck\n",
       "E+GoVlEVMxsSNWxXgXQ20MAS7hWdEZ4hAT+dBMFH2RZMID1zBdDysiA4Q6h6FOA1gAUydFb1rv/B\n",
       "OT9wPGR5N6eGIUtn8E2yWRoKNrRhkif0sCsbqLM4G1Y6p2vvBCRGgqY4S/mXyEDaII5q5tLFIlIA\n",
       "OEjHGd9oXEQ0Pa76sslyyr0T8RMjWoVXyOB98yUxeJn3efWd0SBY0Wi82GhsVIHlnR8jMzxDAn6u\n",
       "dLvZ14RrCO4wneiMbFgLxHp+Ul0AWTXFx7VVGEAvY1vQ11TTJGhDwYZ2TeZqbWZD2v1lTQxDTzlo\n",
       "irOE9pS9sRbbh2kF8kxz3hrPdpMWlp+K2lnWUcfIijk35GpG7ylaLseB5SJ2ezi8iGyIIAiuAdhH\n",
       "v+asoC+F9yekSZIlhE+8Oq4Zcy2bBV5KXxFWq1UZc7Vub2jXJNO3rhsCX4pZEHNtoAhX46o+MoVY\n",
       "0il5gPS1N4wVyDu0jSGSKH22GThRgrOcNGdLSEVWAl+KujGzS5DKBhZYou7uShyewZLpZwRBNBX+\n",
       "JhPflUDLNkFwdxG8o8T6Zcw0nRd5Ne2TrvMsM4wEwPwHOb5vJuxLFLypM3E22BocJtE7l/88leJa\n",
       "rrmhuyj4ZFbyJYj7dhchUyLzYEmZ8nA2TFKfpMr7bLuIFIh5tT78NVehuzSmu03qMxO/AEwG3xoJ\n",
       "wIQmUpnQtK4iWxJtgGQ2sMAQKDo8Qww/XQSxR8+Rb00S4EmgZZ4gmG5StsGVlQrrxL4yyCok66zq\n",
       "HQPxXNU4oDKHP+ouJtaTjwA7C1DZYG0ImdS2mckFW6qZgthHWrOBbxiPCJ0L+vtXaDOmUbJAmpIe\n",
       "UqYYHm7hA6VrptpfLoLYJy2sQORutb/s8mH8VVx3ntBn2Nj6/v66hRf+ltWAVFYHzxuo99ytMEhm\n",
       "AwsMgcKc4fAMMfxUBFk6kgzMePlpviVdCocEwXnSdQsv/mnvEOvELL0R4lV698Gq6+lcVpF/Gr4A\n",
       "eP6NHO/tvfnCGXBbsoKzwdoQNsl+qHeeOwXGEfPZpisbqLM93x7bz3XeHh09pu1po9TFD4nJx7Up\n",
       "hvph3X3stMb7/l2xA/5s7cC6tSWsQF35XBxSrV0ysOP4p1z3kNSn2Ozo6GiZ/6qEIoHvQavQipEN\n",
       "zHvuVhgks4EFhkD6BbbwDDH81ASZFuijXB28/WRYvAW00A0BO+zdZHyuZ+ujo+1GVaF84xhrNj4X\n",
       "WzmwY2CgGjSkGxwm9ZO9bFFzgfueYlNYJ9JFZcpA5W7iJ9MWBSrv7GyUg/5lh0LYhG+P5Fms8mxw\n",
       "btBuhUHo9MkARYdnLlrCfoYt4F6us0KvK+YaNx+sE/XUcz5dKJXCpxb65xEDP65grCJtDQ6T+skr\n",
       "0J8X92j2bFgV1ol0UZkqRR12JKPPQkridieATVqRX6ZHtAqvGLdW2q0wSN5aBUHR4YVuoQKoEkQw\n",
       "Tm+5aNkqCO4uoGzwVArHdv/xEKoqma8PAmsYDweNPYWtwWESvXMYNl1N74ud2SCd1TqRLipTXuQJ\n",
       "+fzIZOC6W0PY+TZk/ijd9wgVXrGc2LeQ3XZAkeGZEvLTYgE9Gi9KryBYbr9jN/xVhLg+RRgdHUZV\n",
       "JdpQnCzpEGC66nTTkG5wmNRPcoNwcVX0uD0bpLNxi7bFRWUqHtnf0ZcpXLc3hC1akQ88jFRYJSzc\n",
       "rQ5AkeGZEvIzDhGMs+ShJVaEGezB2f/mqtG8DBOLRWivwXm0yzwOnmefjrMOU6cjseKZU5nYKagD\n",
       "SGd+xgu8/Gu556CRGh/X5JFjIGdcDf/Lf0keeMg4jp3quIJwNvwvY0f+AYxTBA+g7g+MAAAAAElF\n",
       "TkSuQmCC\n",
       "\" style=\"display:inline;vertical-align:middle;\" /></a>"
      ],
      "text/plain": [
       "(|(a_{1}, a_{2}, ..., a_{j},a_{j + 1}, a_{j + 2}, ..., a_{n})| = |(1, 2, ..., n)|, 1 in Integer, n in Integer, (1, 2, ..., j,(j + 1), (j + 2), ..., n) = (1, 2, ..., n))"
      ]
     },
     "metadata": {},
     "output_type": "display_data"
    }
   ],
   "source": [
    "requirements"
   ]
  },
  {
   "cell_type": "markdown",
   "metadata": {},
   "source": [
    "Also note that an explicit expansion must be provided for each precise range containing an expanded range of variables."
   ]
  },
  {
   "cell_type": "code",
   "execution_count": 58,
   "metadata": {},
   "outputs": [
    {
     "data": {
      "text/html": [
       "<strong id=\"inconsistent_dot_prod\">inconsistent_dot_prod:</strong> <a class=\"ProveItLink\" href=\"__pv_it/exprrange_reductions/4bc2a262e7ca3f2c027c19f7e1b625408a0e6f2c0/expr.ipynb\"><img src=\"data:image/png;base64,iVBORw0KGgoAAAANSUhEUgAAAnsAAAAVCAMAAAAJi9imAAAANlBMVEX///8AAAAAAAAAAAAAAAAA\n",
       "AAAAAAAAAAAAAAAAAAAAAAAAAAAAAAAAAAAAAAAAAAAAAAAAAABHL6OuAAAAEXRSTlMAInZUiRDN\n",
       "mWbv3US7qzLz6SJmQj4AAAAJcEhZcwAADsQAAA7EAZUrDhsAAAUESURBVGje5Vrr1qsoDBUQwQvO\n",
       "+P4vO6DlnkBs65x1VvnxxX6J2ckmXNthsI0NP9rYW8bsaTz2/yT0B/yy0h8Xv1p7K6fbBpY+oIuG\n",
       "9zjA7fa1CvHxeSnG4Wcb11TLwNJHdFHwHge43b5YIT6+S8pp+OE2SZpdYOlDuvp4jwPcbl+tEB/f\n",
       "KZX+5drTimYXWPqQrgpv1RjSUwD9hVF/NSI4vlPOw0+3GZkneL69nquHL+GJcof2OEB/ieXfjQiO\n",
       "z0ox/XbtTXFQZ50msvkjsPQxXZNud/TjALdr78sV4uOzUr32kZJzI/dxRE40HTVp29BDOOd2aW4r\n",
       "ieiwhzH+Y8kU2SfPEpUuHHE07dJ4HOB27YXcyTXQ7C0fn5W+DO0w54YPakH2O201acvUdjEOwk3u\n",
       "+ritJDXMg56Q2hMbNJkQ6cIR9dQujccBbtdeyJ1cA83e8vFZuVxVrJmzlYOB95UdNWmT2Xaxiysp\n",
       "s91VkhrqQcxI7Q18i4vwIvIHAh8IopjbpfE4wO3a87mTa6DdWz4+K+f1snd1He4RyrGTqeU4GnP/\n",
       "JJ8hAPO03X26nN2fCj9Rvomeus/DioPzn3+XrB3HGjbIa/6A0iWPqZ1QxFMnyDyfwgw4QJ5yQEBI\n",
       "6QE0lyboDZ97pwPBwKA6OIIMrEbbnXNoWvVqdQb53hmnNQZXO6ZsRDuIH5RvowcPxb/ReW+dEmrW\n",
       "8gGja1HthNbOtAQAFClHBJCU9dvzXhJRuwOBwKB+mIMMq4l9wU6q8hw9YoH67qV2swGD/Xa7PyBA\n",
       "g84NGz7D+EH5NnriPiN6QWpvT29pyzW3TxeWUGmLrLkkwkFSegBvr7ndDuxyncVn5XYCyW0dzHxu\n",
       "E1O9R8nUWvpESUufhFwobecCld9sbMb/ifzVyohOgo820UMCbj9tSO1N6QXfxrMHhK6iQQmleGBp\n",
       "AABJyghAatEDuF17r9yBDjQD19veyhyw8/FZeR15xbFLZR2vIiUzrOCF2uIv2QKPP4Sn1IXU62w3\n",
       "rDPLLJVxA0tntQ8pX+gk+OggeEjB0xsEq8Xv98LFRYuuavTXCWV4YGmAAD5lHCBadACaHIFvvHKH\n",
       "OtC4k28jMMjOx2flfvWj4tzSrUU+Ly7LNW8UavuSTNVxpa8fvFHqgknu0j1yJ9KMXB0s6ypI6dFJ\n",
       "8MEmeMjArcGK3BNk43lfsgeErnLOBRKq8MraAwFCyihAtOgBtPoKfOOVO9SBe13qINepnY/PyWXH\n",
       "1+RBgOsa87cPgrLsQUaGx01nqh+nojMBZUAnwWc2l4cUnBGPLYGlJl1ACRcJVXjVkggBsE12AIJF\n",
       "H+DumgtG5Djc53w3CAVW2fn4Tgl9mx6oAn88w+wbjKHq+qYROPC6kaDOY7vXu1jlXC5itTKik+DH\n",
       "ofKQglO/Jw8sNemqyK8SqvCqr/oBgCRlBCBa9AH6R0LdjejkkG9ulznsrcAqOx/fJTeGkik5OOvt\n",
       "+64kpq6/YAFcHOdwEnuiX6w0Y9GZtTKik+CDTeIhAWfky+rAUoOuYroAEqLgVQBJyghAtGBv377f\n",
       "ieji0M1p9sSgWoGVdj6+l5RluGycjvHsM7Bz58M1VF02yGh1G08+6lQvNFdrgQ8oIzoJPthEDyn4\n",
       "Rv4xeGCpQVdRkUBCFLwKIEkZAYgW2xO/mq8iujh0NwHMcNkIrLLz8XnJnvmh9V/Q+I2eCix9QBcN\n",
       "73GA2+1rFeLjO+V/x0M4LRAhzjIAAAAASUVORK5CYII=\n",
       "\" style=\"display:inline;vertical-align:middle;\" /></a><br>"
      ],
      "text/plain": [
       "<IPython.core.display.HTML object>"
      ]
     },
     "metadata": {},
     "output_type": "display_data"
    }
   ],
   "source": [
    "inconsistent_dot_prod = \\\n",
    "    Lambda((x_1_to_n, y_1_to_n), \n",
    "           Add(ExprRange(a, Mult(IndexedVar(x, a),\n",
    "                                 IndexedVar(y, a)), one, m)))"
   ]
  },
  {
   "cell_type": "code",
   "execution_count": 59,
   "metadata": {},
   "outputs": [
    {
     "name": "stdout",
     "output_type": "stream",
     "text": [
      "Expected error: Failure to apply (x_{1}, x_{2}, ..., x_{n}, y_{1}, y_{2}, ..., y_{n}) -> ((x_{1} * y_{1}) +  (x_{2} * y_{2}) +  ... +  (x_{m} * y_{m})) to (a_{1}, a_{2}, ..., a_{j}, b_{1}, b_{2}, ..., b_{k}, c_{1}, c_{2}, ..., c_{j}, (1 * d_{1}), (2 * d_{2}), ..., (k * d_{k})) assuming {j in Natural, k in Natural, (j + k) = n}:\n",
      "Improper replacement: Improper replacement of (x_{1} * y_{1}), (x_{2} * y_{2}), ..., (x_{m} * y_{m}) via {(x_{1}, x_{2}, ..., x_{n}): (a_{1}, a_{2}, ..., a_{j},b_{1}, b_{2}, ..., b_{k}), (y_{1}, y_{2}, ..., y_{n}): (c_{1}, c_{2}, ..., c_{j},(1 * d_{1}), (2 * d_{2}), ..., (k * d_{k})), x: {(x_{1}, x_{2}, ..., x_{n})}, y: {(y_{1}, y_{2}, ..., y_{n})}}:\n",
      "Failure to expand (x_{1} * y_{1}), (x_{2} * y_{2}), ..., (x_{m} * y_{m}) because there is no explicit expansion for (x_{1}, x_{2}, ..., x_{m}).  The known expansions for this variable are {(x_{1}, x_{2}, ..., x_{n}): (a_{1}, a_{2}, ..., a_{j},b_{1}, b_{2}, ..., b_{k})}.\n",
      "(Note that multiple, equivalent expansion forms may be provided to fulfill this requirement and ExprTuple.align_ranges may be useful). \n"
     ]
    }
   ],
   "source": [
    "try:\n",
    "    inconsistent_dot_prod.apply(*x_operands, *y_operands, requirements=requirements)\n",
    "    assert False, \"Expected an LambdaApplicationError error.\"\n",
    "except LambdaApplicationError as e:\n",
    "    print(\"Expected error:\", e)"
   ]
  },
  {
   "cell_type": "markdown",
   "metadata": {},
   "source": [
    "However, we may supply *equivalent alternative expansions*, `equiv_alt_expansions`, to handle such cases as appropriate.  This was covered in the previous chapter and will not be revisited here."
   ]
  },
  {
   "cell_type": "markdown",
   "metadata": {},
   "source": [
    "All of the expansions within an **ExprRange** must match with respect to the indices of their **ExprRanges**.  That means that the number of entries of the expansions must match:"
   ]
  },
  {
   "cell_type": "code",
   "execution_count": 60,
   "metadata": {},
   "outputs": [
    {
     "name": "stdout",
     "output_type": "stream",
     "text": [
      "Expected error: Failure to apply (x_{1}, x_{2}, ..., x_{n}, y_{1}, y_{2}, ..., y_{n}) -> ((x_{1} * y_{1}) +  (x_{2} * y_{2}) +  ... +  (x_{n} * y_{n})) to (a_{1}, a_{2}, ..., a_{j}, b_{1}, b_{2}, ..., b_{k}, y_{1}, y_{2}, ..., y_{n}) assuming {j in Natural, k in Natural, (j + k) = n}:\n",
      "Improper replacement: Improper replacement of (x_{1} * y_{1}), (x_{2} * y_{2}), ..., (x_{n} * y_{n}) via {(x_{1}, x_{2}, ..., x_{n}): (a_{1}, a_{2}, ..., a_{j},b_{1}, b_{2}, ..., b_{k}), (y_{1}, y_{2}, ..., y_{n}): (y_{1}, y_{2}, ..., y_{n}), x: {(x_{1}, x_{2}, ..., x_{n})}, y: {(y_{1}, y_{2}, ..., y_{n})}}:\n",
      "When expanding IndexedVars within an ExprRange whose parameter is the index, their expansion ExprRange indices must all match. (a_{1}, a_{2}, ..., a_{j}, b_{1}, b_{2}, ..., b_{k}) vs (y_{1}, y_{2}, ..., y_{n},) do not match as respective expansions for x_{_a} and y_{_a}.\n",
      "ExprTuple.align_ranges may be useful.\n",
      "Using multiple, equivalent expansion forms could also help. \n"
     ]
    }
   ],
   "source": [
    "try:\n",
    "    dot_prod_lambda.apply(a_1_to_j, b_1_to_k, y_1_to_n, requirements=requirements)\n",
    "    assert False, \"Expected an LambdaApplicationError error.\"\n",
    "except LambdaApplicationError as e:\n",
    "    print(\"Expected error:\", e)"
   ]
  },
  {
   "cell_type": "markdown",
   "metadata": {},
   "source": [
    "They must match with respect to which entries are singular versus **ExprRanges**:"
   ]
  },
  {
   "cell_type": "code",
   "execution_count": 61,
   "metadata": {},
   "outputs": [
    {
     "data": {
      "text/html": [
       "<strong id=\"defaults.assumptions\">defaults.assumptions:</strong> <a class=\"ProveItLink\" href=\"__pv_it/exprrange_reductions/394b8d42cc9f2fa195414515185f675fad78f0af0/expr.ipynb\"><img src=\"data:image/png;base64,iVBORw0KGgoAAAANSUhEUgAAATgAAAAZBAMAAABX1i9+AAAAMFBMVEX///8AAAAAAAAAAAAAAAAA\n",
       "AAAAAAAAAAAAAAAAAAAAAAAAAAAAAAAAAAAAAAAAAAAv3aB7AAAAD3RSTlMAZkRUmRDNuyLviTJ2\n",
       "3asqG0tJAAAACXBIWXMAAA7EAAAOxAGVKw4bAAAEG0lEQVRIx81XXYgTVxT+ktlJsplkNqhvisaW\n",
       "9qFUDYg/iGAUbbG1ME9tH7pOii74IDoqNC7+MPbBUkGM+1IqlUYoFKGUPBSl0NJ5aNW2VgJ21ZfY\n",
       "FNFdUWF1WbuyL557ZzIzd5ybWChdD+ydOznn+/a759577h0Ac9DN+jBLVmaNUu4ak54tcZ+w5l38\n",
       "L+Lsf+tIONTsifMM/vORgbNPit3EqX9Vh5D9ckTiDiiY5UoymtdljlEgU4v17Eu2oU5EMnfeEJNa\n",
       "WgqYntLhppSC2ZoYPN47zWQXJOKu0IKvx3oe2GeAGt6sDlerPvqCGKPfyBbQ772kyhIKV3slBg9s\n",
       "Z82QRJxpYKAY67llpWw0u685fRV2IO+9DJSkFGzPC+lZ3OlMsmaehD5VwE9CqnOHWtd4Z3xBpiIT\n",
       "1wnSjzhHfXHLfJ6LrVZFoCDrFwjWes/kFPcZkiJm4Y/we3JnJ3Bcb/wmEecH6fa9XL0j7mzH/eov\n",
       "UQqylbHisjUvQ7GWq+EO/bcr739zkL8f9QcxDitdFMWpl9tikG6nsbcjbhfWbGLPzNAzFGRvhfCB\n",
       "uFRb+cpAth3dv7ePXXR4Xqs0gPR9mLzc7EDA/J062hROiD6chBCk21p5cNBT/lBZzd0p+xkKsg9D\n",
       "+ECcWVj+aQEJvgjeaTG7ybr1w446DWgzNGK8lLdwosF+roTEJUqrxCpzyV2/QZBuY64y7PaV6Zc1\n",
       "rjoVS3E1hA/Erfu4dM6GEilmyeJ1ZGZoDh7hT8Awi1jH5ko7TeKve8y4rYsoQ+HrNwgicbpx10vr\n",
       "yYbb+Z4lwIpSjAR4StHnXoo2z+eEE5Hirj4CC6XHLjYCsKVHr1Zo2NiqRupqX1MMInFq25vW/Pa3\n",
       "vcIaSzES4EOZu7aRjSgZPQaUCeg0PRk+rUzZQ5X93Awza44lgvJuvW6GxOEHb8OYpWVu6vKxFFdD\n",
       "eF+cOpmcYVqakTVHygYKBrRpjNHbKUpjlv182Wc+QH+/++K4cpxw67UflCY5ufM0X9RfZJglhxcA\n",
       "J0LBsQdDeF9cYkqdzNEjkgP012mV1dlu/ZXnL1fh05/yy/w2Ng3+0jd5b5FXADpBvPMG1Mc8+Waj\n",
       "7iPDFBz7bQjvi9Mr6kw25gClzXkh0UCixip7sgn1b/4f1bFXXP+5J1bnQOQTMsraMS+NXpC2+zP3\n",
       "xtWi1O1Dbotb/7buNQQKjv0xhPfFpUv4mSp2PnqALiGSuSS6jX7BlfzaO74itoI1X0iCFPH8ee1Q\n",
       "qxLF5hshvL8hXDsuP1slt5KIUdCtxJTEme2JRaIcxi8W/OvltxKt9hzaVAfaZF52X/ygF5ZsvxSf\n",
       "sSTAhexm8xziaE9hywaZ1+mJZeVPhk/L7uk3en9D/EeWkY7gUrdvCKWOF9L411eP79ZZM7qAPQWb\n",
       "LjpnutI6CwAAAABJRU5ErkJggg==\n",
       "\" style=\"display:inline;vertical-align:middle;\" /></a><br>"
      ],
      "text/plain": [
       "<IPython.core.display.HTML object>"
      ]
     },
     "metadata": {},
     "output_type": "display_data"
    }
   ],
   "source": [
    "from proveit.numbers import NaturalPos\n",
    "defaults.assumptions = [InSet(n, NaturalPos)] + param_indep_assumptions"
   ]
  },
  {
   "cell_type": "code",
   "execution_count": 62,
   "metadata": {},
   "outputs": [
    {
     "data": {
      "text/html": [
       "<strong id=\"x_partition\">x_partition:</strong> <span style=\"font-size:20px;\"><a class=\"ProveItLink\" href=\"../packages/proveit/numbers/number_sets/natural_numbers/__pv_it/theorems/132c57ec1224a4beaf274a23bd799047020206590/expr.ipynb\"><img src=\"data:image/png;base64,iVBORw0KGgoAAAANSUhEUgAAAEEAAAATBAMAAAA9n32KAAAAMFBMVEX///8AAAAAAAAAAAAAAAAA\n",
       "AAAAAAAAAAAAAAAAAAAAAAAAAAAAAAAAAAAAAAAAAAAv3aB7AAAAD3RSTlMARHarECKJu90yVM1m\n",
       "75kejotwAAAACXBIWXMAAA7EAAAOxAGVKw4bAAAA90lEQVQoz2NgwAf4GAgBdrJVeHyvdmDI/SuA\n",
       "x4wqRgMGlg/4bLEIyGFguMDwvLy2vPwAVhVWBdwBDA3YzFDv6NgAok0PsW7AqkJaBcowZZ6ghlDB\n",
       "qOyaVAQWZ90CU2rKUMAuAFfBxm7E4B8AYnEHIFTMY2lpgIWpIEcBQ/wEsAoGhAqeBcsvwHgO/gIM\n",
       "6x1ArLkdQFAAUcFgwgxXwbCegcEazHBHMoPBmaUBzgVK/2EBMTiQVXAqFMC51xi4vrCBGEwKMKFK\n",
       "INaEq2D9ycC04SSYuQsmBmLwbYDxGBsYWGwWgJnOhWAXM8z+C9TPsgFbfIhVdGCKAwDDkzTgOh63\n",
       "3AAAAABJRU5ErkJggg==\n",
       "\" style=\"display:inline;vertical-align:middle;\" /></a> <a class=\"ProveItLink\" href=\"__pv_it/exprrange_reductions/30b215fd712593f4afc04f1a52ea02932b2240160/proof.ipynb\" style=\"text-decoration: none\">&nbsp;&#x22A2;&nbsp;&nbsp;</a><a class=\"ProveItLink\" href=\"__pv_it/exprrange_reductions/2a391ceb6bd9980fe06473e42f3a7a1b5388272e0/expr.ipynb\"><img src=\"data:image/png;base64,iVBORw0KGgoAAAANSUhEUgAAAKMAAAAuBAMAAAC2bLS1AAAAMFBMVEX///8AAAAAAAAAAAAAAAAA\n",
       "AAAAAAAAAAAAAAAAAAAAAAAAAAAAAAAAAAAAAAAAAAAv3aB7AAAAD3RSTlMAInZUiRDNmWbv3US7\n",
       "qzJazP2FAAAACXBIWXMAAA7EAAAOxAGVKw4bAAAChUlEQVRIx+2WMWgUQRSG/727cW/vzOUsgmLj\n",
       "ekiCRSBIjJ0RDBaCsAQkKYKmESwPMXpJtWIhVh62QhBCUALKoVUqY8BKkBgUtFAOiU2KGEEtE9/s\n",
       "3s3tzWyyc8zZ+WB35715++/MvGH2A1CEicW9nRoyknwRExs2UkTKV0Js2kwS15SI7RtK3lMijqEi\n",
       "HE+OjJhKHlCmeZOu8cErY5G6S26MRTMya3LvdbrKqXX7cSskuTEWzcgG9Z1b4vYsiCxQsJj93eNj\n",
       "slH70GVjX7y9FBsvhJauyt2PgAJsUiuUGt8NXRt7jzTMaDrbMZJUNZd/Tkhwt7dm7exTZlc088oo\n",
       "F/jtVZF5EUnuZr39JIOMyrcBMZLoWq4CU7XPyIR9DMJFhnx1OVsZk8u+Q4dGdkVOuQSMfp/Fy1Dy\n",
       "6rRwsemB/UEYE41IRl8/eumT9jlZchOYKKUrQ6FkblG41hvqXaJ3cmVqPEGjEclYxzIP1GTJXL3Z\n",
       "ChbltOg4jEMUU2feypjH7QJwVN1j5TZJMQvr3dYMgjWVrJWxjedngYqa8rqZceGXCyY2h7O7Sxtu\n",
       "XC2PyMiv4YQPa0WVnGo7UKVOVz1yJf9gzJ/Cco0OouP4b//Uil0XM0SDOFIY7uqUOSkYo4FKCsZo\n",
       "oJKC0+ViEymMdFmSSCEZDVjp48b5TkghGQ1sDLpznZBCMhrcwQPvE46c+qpLCsloUMctun/ASV1S\n",
       "0EGDh3Rt4aIuKWigQf4nLtPjqS4pJKIBe9tT5f+wfleXFBLRIL0zUc3TFmGrEikITyaFRDRgN9wz\n",
       "d/mAftTbSSHEhRhS0EQDNo9jviYp6KLBIu57uqSgiQYbpffapNAJGmiSgiEaqKTwFwWL6JdiXtYW\n",
       "AAAAAElFTkSuQmCC\n",
       "\" style=\"display:inline;vertical-align:middle;\" /></a></span><br>"
      ],
      "text/plain": [
       "<IPython.core.display.HTML object>"
      ]
     },
     "metadata": {},
     "output_type": "display_data"
    }
   ],
   "source": [
    "x_partition = x_1_to_n.partition(one)"
   ]
  },
  {
   "cell_type": "code",
   "execution_count": 63,
   "metadata": {},
   "outputs": [
    {
     "data": {
      "text/html": [
       "<strong id=\"x_operands_new\">x_operands_new:</strong> <a class=\"ProveItLink\" href=\"__pv_it/exprrange_reductions/462c4b9847b84719417afc173d1713ace7021e9b0/expr.ipynb\"><img src=\"data:image/png;base64,iVBORw0KGgoAAAANSUhEUgAAAKMAAAAVBAMAAADY0UPbAAAAMFBMVEX///8AAAAAAAAAAAAAAAAA\n",
       "AAAAAAAAAAAAAAAAAAAAAAAAAAAAAAAAAAAAAAAAAAAv3aB7AAAAD3RSTlMAInZUiRDNmWbv3US7\n",
       "qzJazP2FAAAACXBIWXMAAA7EAAAOxAGVKw4bAAAB/UlEQVQ4y62VPWgUQRiGn73cuPdjLmchio3r\n",
       "IRGLQJConR4YLARhESQpRK8JWB7iz8VqxSJYedgKIRCCYiGHVqmMAStBYlDQQjkkNiniBdQy8Zud\n",
       "29nN4V21H9zMPMO+78w33+4cUCbFCM0y42lavtLNRJqOZAJQtVQtmQE3SNdyDvLpOpL3OZOy5b6A\n",
       "29JdGbs+mah7D6rK540LA22SguwaN6WrZ9bdhfiJHnQZ8+4PtEwKcjUWpS3n/gwHTHdrb1BNfvMN\n",
       "P+Cx/4XDp773c+zqTQw1eQolXHErVboLGXSJFm5zV9pPnOxnaQQRdLSllMnT/jZZjSMtZyfiJ/Lb\n",
       "4tKAMnt2WGzqxOFNWfkJS40531oWt7kq3fP+lqGg8eOE2dgqXGt9JWt2qbBIVliOU70fblKFUS/E\n",
       "nogF08tBXi6N3AqX4fzPWV4byxs1i2z6qL8yvTPVLMorolZDDB8JB5aM4OAoI7KkW2UTpipDjXFj\n",
       "WViy6LwTxQuxveWdfag39KutkUJdxs/oNgnBOst6okWhHeUQnuVpm9IhDshclKqa52gQYxyxYJ57\n",
       "JTgiudf3WFYjcj5s3SE8UxNLPPITaCMWdHh5DhoyfBtNXfztoezbkN/d7cinZqUblY9JtOWxguIa\n",
       "xwOcFV2vPTdoj8IbiP8R7Nf/FI6X5kV0DP4Bxn5+DIXhLDAAAAAASUVORK5CYII=\n",
       "\" style=\"display:inline;vertical-align:middle;\" /></a><br>"
      ],
      "text/plain": [
       "<IPython.core.display.HTML object>"
      ]
     },
     "metadata": {},
     "output_type": "display_data"
    }
   ],
   "source": [
    "x_operands_new = x_partition.rhs"
   ]
  },
  {
   "cell_type": "code",
   "execution_count": 64,
   "metadata": {},
   "outputs": [
    {
     "data": {
      "text/html": [
       "<a class=\"ProveItLink\" href=\"__pv_it/exprrange_reductions/b6b9df09a86ee336c16dc04a696db298736aaaf60/expr.ipynb\"><img src=\"data:image/png;base64,iVBORw0KGgoAAAANSUhEUgAAAnIAAAAVCAMAAAD1nvNsAAAANlBMVEX///8AAAAAAAAAAAAAAAAA\n",
       "AAAAAAAAAAAAAAAAAAAAAAAAAAAAAAAAAAAAAAAAAAAAAAAAAABHL6OuAAAAEXRSTlMAInZUiRDN\n",
       "mWbv3US7qzLz6SJmQj4AAAAJcEhZcwAADsQAAA7EAZUrDhsAAASwSURBVGje5VrbEqsqDBUQQVHP\n",
       "8f9/dqMtmkBC46V7Zk95aFqTZiWLcBFtmthU86NNXTFW38ZTfymhv+e3oE6bXy25oOW2iaU7bInw\n",
       "vg5wvt2tkBRWkqZtfrZpL7VMLN1jS4D3dYDz7X6FpLBe0nbND7fOyuwSS3fZ+oj3dYDz7YkKSWFt\n",
       "0vlfLjnvZHaJpbts5XjBM0CPJRTOOnw8JBjWJvvmp1tPzwo62zD3mXwKz+Sbr6cBSoSPy+jjIcGw\n",
       "ojTdb5dctw9h1FUGTxaJpftsdb7av48D3C+5ZyokhRWle28NrdaTnduWvjepa2U7gg8urN4mcDud\n",
       "VsrQGQftfmVA1/GvxJKMrRpiO1X793GA+yV3IiQBz1Gm6oujWk+6cQO9lalqZbuhDy7axqwzuF9O\n",
       "KyWNdeA7usjMyIxRKR8Mou+q/fs4wP2SOxGSgOcoh1fRerXa2WYit4p1rWz/+MHFbF7JTONZpaTx\n",
       "DkxPl1yjR7DSvlmSsVVFNH21fx8HuF9y8pAkPEfZh5ftWsZpfNh8pECtbdtpOn8njgCoGTnuLNdc\n",
       "148CHyivwUPvWVz7ePzv/wG1ZQnH5jcgybNll66ez47nNpC+38SUAfGEUwDI4kiIRqgtRNKQCnqp\n",
       "rGmeo+wBr2+7WWti8kxat8V27a6lOuBCHEIxopnE35VX4XcH+XVulgtdaLiSq7A1uHo+oT7LEQBZ\n",
       "xgQAsghPz3JESEUjgmJ4jnIwh3GcOu02WMxAdNlbu459VboU9foOQI6xdaTonsbflVfhgXdM8ECX\n",
       "3IzOVLOF9SNbfD6ZMbOKiQinOcmjeWph/dyBIp6jHDcAO4Zm6rftH9S/vSOttyk/0fJGunA+jnyX\n",
       "nU2MU/rI8aHyGjx0AMHjz5EuuQ4dzI0aSoatrBH5IDyyfwmAI2MOAFn48eGSo0LCHNJB0TxH+bp5\n",
       "NctsXXQYDCQxLdGZNsIOcAEHSzn7BbqwPvRxD9orZNm4aR1HnsDHyhy+/EJdSg4QODgCiNrKuRy4\n",
       "xWfZKsZ7kQ/GI/uXBHhnXAEAFhlAhlDlSBpSziEVFMdzlPMWqnVaR5q9wbPgMFhCG/9jgRYu5cSX\n",
       "0oWyek1ysQ3yYqdWu0UR+FhZwJegBfzhAINHg0Df7ONZZR6gZNjKJ9gynxIv718SIGXMAwCLPKEM\n",
       "geLInQwp55AKiuN5lQMxZe8UGcqrSscHRrK2UUaTBttcaNB2Ffy38jr8ywECV8I7kcRSlS2icrN8\n",
       "Crxi2aMA1Gg/ABwWRUL3H3gRISEOmaBInjdJPdjeKaLeWlHxD0pxWuJwkLh1jUk418zQYI3T9obG\n",
       "B8pr8MABApc+skaPpUUlR+ZT4BXP0AmAI2MOAFgUCd1/rE+EhDhkgiJ5fslRsSRaTQ25eZ6dZbTE\n",
       "ExDCxbKNHTNDgyHKqWXwD+VFeOAAgivx2XJiqcJWNjcQ+UjwCoAjYw4AWKirh+XnQoIcckFRPL+l\n",
       "zaNUbbe0W1dRndova+O0RaOMwroh1a1HBsZrFzj8Q3kR/nCAwEfxG9aJpQpbWSES+UjwCoAjYw4A\n",
       "WIzfeBW9CAlxyARF8pyk+s7by/9A0yc6KLF0hy0R3tcBzre7FZLC2uQfI803GYuu7T4AAAAASUVO\n",
       "RK5CYII=\n",
       "\" style=\"display:inline;vertical-align:middle;\" /></a>"
      ],
      "text/plain": [
       "(x_{1}, x_{2}, ..., x_{n}, y_{1}, y_{2}, ..., y_{n}) -> ((x_{1} * y_{1}) +  (x_{2} * y_{2}) +  ... +  (x_{n} * y_{n}))"
      ]
     },
     "metadata": {},
     "output_type": "display_data"
    }
   ],
   "source": [
    "dot_prod_lambda"
   ]
  },
  {
   "cell_type": "code",
   "execution_count": 65,
   "metadata": {},
   "outputs": [
    {
     "name": "stdout",
     "output_type": "stream",
     "text": [
      "Expected error: Failure to apply (x_{1}, x_{2}, ..., x_{n}, y_{1}, y_{2}, ..., y_{n}) -> ((x_{1} * y_{1}) +  (x_{2} * y_{2}) +  ... +  (x_{n} * y_{n})) to (x_{1}, x_{2}, x_{3}, ..., x_{n}, a_{1}, a_{2}, ..., a_{j}, b_{1}, b_{2}, ..., b_{k}) assuming {n in NaturalPos, j in Natural, k in Natural, (j + k) = n}:\n",
      "Improper replacement: Improper replacement of (x_{1} * y_{1}), (x_{2} * y_{2}), ..., (x_{n} * y_{n}) via {(x_{1}, x_{2}, ..., x_{n}): (x_{1},x_{2}, x_{3}, ..., x_{n}), (y_{1}, y_{2}, ..., y_{n}): (a_{1}, a_{2}, ..., a_{j},b_{1}, b_{2}, ..., b_{k}), x: {(x_{1}, x_{2}, ..., x_{n})}, y: {(y_{1}, y_{2}, ..., y_{n})}}:\n",
      "When expanding IndexedVars within an ExprRange whose parameter is the index, their expansion ExprRange indices must all match. (x_{1}, x_{2}, x_{3}, ..., x_{n}) vs (a_{1}, a_{2}, ..., a_{j}, b_{1}, b_{2}, ..., b_{k}) do not match as respective expansions for x_{_a} and y_{_a}.\n",
      "ExprTuple.align_ranges may be useful.\n",
      "Using multiple, equivalent expansion forms could also help. \n"
     ]
    }
   ],
   "source": [
    "try:\n",
    "    dot_prod_lambda.apply(*x_operands_new.entries, a_1_to_j, b_1_to_k, requirements=requirements)\n",
    "    assert False, \"Expected an LambdaApplicationError error.\"\n",
    "except LambdaApplicationError as e:\n",
    "    print(\"Expected error:\", e)"
   ]
  },
  {
   "cell_type": "markdown",
   "metadata": {},
   "source": [
    "Each of the start indices must match:"
   ]
  },
  {
   "cell_type": "code",
   "execution_count": 66,
   "metadata": {},
   "outputs": [
    {
     "data": {
      "text/html": [
       "<strong id=\"x_shift_equiv\">x_shift_equiv:</strong> <span style=\"font-size:20px;\"><a class=\"ProveItLink\" href=\"../packages/proveit/numbers/number_sets/natural_numbers/__pv_it/theorems/132c57ec1224a4beaf274a23bd799047020206590/expr.ipynb\"><img src=\"data:image/png;base64,iVBORw0KGgoAAAANSUhEUgAAAEEAAAATBAMAAAA9n32KAAAAMFBMVEX///8AAAAAAAAAAAAAAAAA\n",
       "AAAAAAAAAAAAAAAAAAAAAAAAAAAAAAAAAAAAAAAAAAAv3aB7AAAAD3RSTlMARHarECKJu90yVM1m\n",
       "75kejotwAAAACXBIWXMAAA7EAAAOxAGVKw4bAAAA90lEQVQoz2NgwAf4GAgBdrJVeHyvdmDI/SuA\n",
       "x4wqRgMGlg/4bLEIyGFguMDwvLy2vPwAVhVWBdwBDA3YzFDv6NgAok0PsW7AqkJaBcowZZ6ghlDB\n",
       "qOyaVAQWZ90CU2rKUMAuAFfBxm7E4B8AYnEHIFTMY2lpgIWpIEcBQ/wEsAoGhAqeBcsvwHgO/gIM\n",
       "6x1ArLkdQFAAUcFgwgxXwbCegcEazHBHMoPBmaUBzgVK/2EBMTiQVXAqFMC51xi4vrCBGEwKMKFK\n",
       "INaEq2D9ycC04SSYuQsmBmLwbYDxGBsYWGwWgJnOhWAXM8z+C9TPsgFbfIhVdGCKAwDDkzTgOh63\n",
       "3AAAAABJRU5ErkJggg==\n",
       "\" style=\"display:inline;vertical-align:middle;\" /></a> <a class=\"ProveItLink\" href=\"__pv_it/exprrange_reductions/9f7624dac32dc54c6587544c470938ae711f6f970/proof.ipynb\" style=\"text-decoration: none\">&nbsp;&#x22A2;&nbsp;&nbsp;</a><a class=\"ProveItLink\" href=\"__pv_it/exprrange_reductions/cb43d552ee8892183a8f934a42f861ea51a2aa590/expr.ipynb\"><img src=\"data:image/png;base64,iVBORw0KGgoAAAANSUhEUgAAAY0AAAAZBAMAAAA/CW8DAAAAMFBMVEX///8AAAAAAAAAAAAAAAAA\n",
       "AAAAAAAAAAAAAAAAAAAAAAAAAAAAAAAAAAAAAAAAAAAv3aB7AAAAD3RSTlMAInZUiRDNmWbv3US7\n",
       "qzJazP2FAAAACXBIWXMAAA7EAAAOxAGVKw4bAAADoklEQVRYw81YTWgTQRR++Vl30zRpBEX00hiK\n",
       "olCoUC30oMVGb8IgSHuoNhfBm0H8qbVCVFDEg6EeK1IQUQpKUC8FwVQQFBcJBUEPQih6UMS2aLwI\n",
       "rfOzOzszu5sWtl180HTf7HvfN9/Om9mZBVgHMyoQpunrBdwTqgyIVOm/TCAQj2ytEK4OuEp+ol2B\n",
       "MJ66m1pLIetoQfinOxhG1N3prSHLgGhtDYrgpKvlbNg6tAae7EGL4Iar5W/YOuAUQCIoRgIpDelG\n",
       "6DrGAPYFxdigDmh0MnQdu1gxH+08kRdWLcX1MDEiXlNupgrNMLTchy/9q+3fyj1h9hKR0oJidFYX\n",
       "HqLiepgYYdCFYnSK2GO67FabYejQmR1drQ4LZY/anlX8+Trcxz3JGI1UCQatlYu5Wv4z8t13sARm\n",
       "sbJaaDUeke/gw3DdurgCt9FHxwVO688jb3NIqg4ybnsFJvDEBB1jpXPW82OuDv5jwiJsZ0F9KxXt\n",
       "CCObpGOD/+Z2W3frcJ67pDuc1p/nuNRIUpN9IOEOUx14zSEDFeOAxG2rRJaaLFLOyCa9xoNFJOqw\n",
       "iC/p9qeX3x/nbitItH48l+S2Xvul5eC207rC8ySjIQGQuAZqpoNGjMzt5P0Q5gfTQSLaEdxx6Ugu\n",
       "wrFV66AdmwSLytHRL+uYz8ArgKHKJ4gzQA24C/FJ6iqGeMTgdCmBd4lGVV2vqnbEPIJHIh/O1d6l\n",
       "ytDn0oGa8EQKNpWjo0fWgderIwAHvl6EZwxwuMBd+I6oS3+0P+IFi9i8A9owm96nvj/KdgTWMS7w\n",
       "kdzY0kA52aXqkOEVHjzHLCpHxwtZx03cW4CBXGykiwG2POBu5DVz6byFh/bFFOIRszBNWtVDU7Jh\n",
       "R+C6+qWb5l3zDePDudqZbM81Rj9mvjXNEhsPgurHE6sxqrSJbYYh/QARFy7jpLrNTwH38u5sgY2i\n",
       "y6OcErgHF9IA21whE3yWKvNcyFXqKob8edJVm8q3rvBL0ChKOniRRN7/PCe43OLOMWwBnuwHGPHf\n",
       "70azyZrIFwc/HfEmPHieW1ROak7SQfa7MGN36/DvLGh8PU0sLy8IrrNVcOqnBh0l+1Ap2jd+ld+J\n",
       "LL5Npw+KudSlOiitcMfNg3vIqITUGRBxDfK0hqQ5qkxZ93qlKmt1H2xTypao6pvriyq1PHdv0qoS\n",
       "bgvpQyQbaKu5feXzeTHghw49491SlM7n62Dda4x3SG245fW95P//fqV5vSSF0cHuPyFjFvN3l2zZ\n",
       "AAAAAElFTkSuQmCC\n",
       "\" style=\"display:inline;vertical-align:middle;\" /></a></span><br>"
      ],
      "text/plain": [
       "<IPython.core.display.HTML object>"
      ]
     },
     "metadata": {},
     "output_type": "display_data"
    }
   ],
   "source": [
    "from proveit.numbers import zero\n",
    "x_shift_equiv = x_1_to_n.shift_equivalence(new_start=zero)"
   ]
  },
  {
   "cell_type": "code",
   "execution_count": 67,
   "metadata": {},
   "outputs": [
    {
     "data": {
      "text/html": [
       "<strong id=\"x_operands_shifted\">x_operands_shifted:</strong> <a class=\"ProveItLink\" href=\"__pv_it/exprrange_reductions/4e095a606f9011d7d9f43dbdf16d8860828210c60/expr.ipynb\"><img src=\"data:image/png;base64,iVBORw0KGgoAAAANSUhEUgAAAOgAAAAZBAMAAADJSX/3AAAAMFBMVEX///8AAAAAAAAAAAAAAAAA\n",
       "AAAAAAAAAAAAAAAAAAAAAAAAAAAAAAAAAAAAAAAAAAAv3aB7AAAAD3RSTlMAZkRUmRDNuyLviTJ2\n",
       "3asqG0tJAAAACXBIWXMAAA7EAAAOxAGVKw4bAAACgUlEQVRIx71Wz4vTQBT+mibbtOkvVhFB0YIH\n",
       "YQ9uDgpexCj4CxQqrO7Bxe1foFkv0VtughfjSUEPFdGD9FAQEUQwVyEWDwpehBVRETwtVBb34ptJ\n",
       "nWQ6m24PSwJ9kzfvm/flvb55MwBmkevjMFF08iW9zcTlfDlRCEms5EyKT4AZ5E06APRu3qTLbTRa\n",
       "eZPONPG2nTep7uJ93pyoBvhBgxF9f/1kU8DS4Mpze0pn02K1ITwWMAbhhc3bR/W3/mHaVhNjjyqR\n",
       "jenWBq7RsBv7219R6YlCvtgZbWS/MKw3hUo52ZW96WNsQS5MttSRNJhr+EhDH6dJ7sVBHjV9SzSK\n",
       "zoLeESpb+ya7BGIsrsqTbOkcJL/GGo8UeES/h2j4QIn3Y5HScihUl4ljE/LLsSflObZ0hm2QxK8Z\n",
       "pxfaOi6ZQ5RthXTeN9rTknIsQXfuiZw0acWWSK11/KR4b9QDdK0has2U0aBxsfULFSVSdWcnWLMD\n",
       "Y/YeHqRJ+TmWkFL1vqPXjYVAs4mU5UcYl+kfOv7yHA6Mkxp/EFu5EFqM1VyYSx0M06SaK5EWAsy3\n",
       "YZwPD+8Apbdhn/FueV6TG2t0GixExRM2x+qed99biSP9QqHW2NdzwSoxwRZXgXqoBXjl0eNzT5aL\n",
       "lF/oqyiLEh8vpCNSNaTSW1TzK7BEgHJfd/rZ6aXem5wyEQ5Jxm4WaUWtoQRL0LuovUiTVkPJL50y\n",
       "ljhPK71TI6P57G8II/xv4GpMeud6j/qdWkgCi5ugb68+Ti8t+Wm/2Edv3+T1pazuFUfKnhATOt2c\n",
       "moZFyS8+q3ckffI1buuDy1emzkp++R2puM1Xh6dKU26pt8HtvvcaW0xQ4fwDXXWyCcYuOSMAAAAA\n",
       "SUVORK5CYII=\n",
       "\" style=\"display:inline;vertical-align:middle;\" /></a><br>"
      ],
      "text/plain": [
       "<IPython.core.display.HTML object>"
      ]
     },
     "metadata": {},
     "output_type": "display_data"
    }
   ],
   "source": [
    "x_operands_shifted = x_shift_equiv.rhs"
   ]
  },
  {
   "cell_type": "code",
   "execution_count": 68,
   "metadata": {},
   "outputs": [
    {
     "name": "stdout",
     "output_type": "stream",
     "text": [
      "Expected error: Failure to apply (x_{1}, x_{2}, ..., x_{n}, y_{1}, y_{2}, ..., y_{n}) -> ((x_{1} * y_{1}) +  (x_{2} * y_{2}) +  ... +  (x_{n} * y_{n})) to (x_{0 + 1}, x_{1 + 1}, ..., x_{(n - 1) + 1}, y_{1}, y_{2}, ..., y_{n}) assuming {n in NaturalPos, j in Natural, k in Natural, (j + k) = n}:\n",
      "Improper replacement: Improper replacement of (x_{1} * y_{1}), (x_{2} * y_{2}), ..., (x_{n} * y_{n}) via {(x_{1}, x_{2}, ..., x_{n}): (x_{0 + 1}, x_{1 + 1}, ..., x_{(n - 1) + 1}), (y_{1}, y_{2}, ..., y_{n}): (y_{1}, y_{2}, ..., y_{n}), x: {(x_{1}, x_{2}, ..., x_{n})}, y: {(y_{1}, y_{2}, ..., y_{n})}}:\n",
      "When expanding IndexedVars within an ExprRange whose parameter is the index, their expansion ExprRange indices must all match. (x_{0 + 1}, x_{1 + 1}, ..., x_{(n - 1) + 1},) vs (y_{1}, y_{2}, ..., y_{n},) do not match as respective expansions for x_{_a} and y_{_a}.\n",
      "ExprTuple.align_ranges may be useful.\n",
      "Using multiple, equivalent expansion forms could also help. \n"
     ]
    }
   ],
   "source": [
    "try:\n",
    "    dot_prod_lambda.apply(*x_operands_shifted.entries, y_1_to_n, requirements=requirements)\n",
    "    assert False, \"Expected an LambdaApplicationError error.\"\n",
    "except LambdaApplicationError as e:\n",
    "    print(\"Expected error:\", e)"
   ]
  },
  {
   "cell_type": "markdown",
   "metadata": {},
   "source": [
    "And each of the end indices must match:"
   ]
  },
  {
   "cell_type": "code",
   "execution_count": 69,
   "metadata": {},
   "outputs": [
    {
     "data": {
      "text/html": [
       "<strong id=\"defaults.assumptions\">defaults.assumptions:</strong> <a class=\"ProveItLink\" href=\"__pv_it/exprrange_reductions/9a65a43d3584b5b8aee2e2b9a406f197132f7c870/expr.ipynb\"><img src=\"data:image/png;base64,iVBORw0KGgoAAAANSUhEUgAAAOsAAAAVBAMAAABVvASPAAAAMFBMVEX///8AAAAAAAAAAAAAAAAA\n",
       "AAAAAAAAAAAAAAAAAAAAAAAAAAAAAAAAAAAAAAAAAAAv3aB7AAAAD3RSTlMAInZUiRDNmWbv3US7\n",
       "qzJazP2FAAAACXBIWXMAAA7EAAAOxAGVKw4bAAADb0lEQVRIx6VWXUgUURQ+O7uz/7POQ0g/D45S\n",
       "+mIxlfkkuG8lFAw+9CDKroXYS7RI/0Es+dBbSk9mQRumD4vR0h8RhGNSoFasiEEhsfRgFEIri5EY\n",
       "0j1n7uzujDtCeGHn3vOd+ea7554zZxYAZNjekP/XQbigbsLFx+97wHP/rgOt4+87DdrWMoZVgc/H\n",
       "k63wJrwsaxZHWH0NEON7mE7ZeVOhLIh5bhA/8tZ6R+cwbihZWRZxMY6reqtDeuBJQoAb3oSd90U+\n",
       "BjDId0V8IW67pRcvPQ7hMtxXaUtSC3RDkBtVm05xXvfKwM/Ayn9pLgp4uekgy/CAJfyZ9BjJ7lSq\n",
       "i7ITxQQ0ptMU1dwNV9yUtfDhEJ9Dq+TTKssyvLnMDJ3i90nyVyFqyraZ7hf7+GJOyu01ZZsrynoo\n",
       "BV6H5DL8POanLktmtbk7SQ7DrCl7Fpou4OwqpmoO9HCGyyIf2vfbZL1Z91ENPFl7DS/saFQA8TOY\n",
       "HxgitLuYWzmS6OjgNfPHfZDcXrkk+10c5bLIh0QgaZWNJQ/vSoKfUnI1jeMRLqMfFHEFEB9hVq1R\n",
       "ARAvyUK/e9pYu1eeRmg/XijJ+tUWXsnIF2Sz7EzZ1j3qkgzuQWuwocw4uDYAcewJmpsqIDLMdjXO\n",
       "ZSXtMy/VoZyx+IGb1g1ZWJD4I5EvQqtmhHWHh3XlFj0wb2tD4jqgFMOpFfnoxES9LFoxyw852Hud\n",
       "t4CyaKFLTJVkmaItt2OXcK8hW7TgzoMUJ3yEHh0lNFUmC9/CPE3qhBFusFw2ouilQwZ4aJUVC6EN\n",
       "VEnZcss0q5Ia4m/QrDH6a12xOTIhYZmdPlsPaDFVoZdaMd0f2e+Azs6WDeK71q2y/lWxILBJt7+w\n",
       "UZaOKOIn0BzgZW/2I1pcBPE3mz5BLGccxmmTjQtfHGJYgsT3562yUlzc8LB7ojbZmhzU+3OI/0Rz\n",
       "kZ/N4nOaI+fusetJgDQLdwqEPuN97po15qU1nXpxcJQZxJd0q2xYhQbWW4IZm+wr9pB+woOYuNtm\n",
       "hR83mmOxBKzd7dlM2tLyj2DGkR9QbCVljN0OPZnh/gTM+1cd/J6tP/B4howvqQOa/VNA47IDD/HJ\n",
       "SCHo9KVu31JVpBgn4Zc6UtHv0sEZ74S+a04PVraUFfjr7GvIVPSHHf7VEO5StvdXyplf64z/A5Cl\n",
       "2WRfXajqAAAAAElFTkSuQmCC\n",
       "\" style=\"display:inline;vertical-align:middle;\" /></a><br>"
      ],
      "text/plain": [
       "<IPython.core.display.HTML object>"
      ]
     },
     "metadata": {},
     "output_type": "display_data"
    }
   ],
   "source": [
    "defaults.assumptions = param_indep_assumptions"
   ]
  },
  {
   "cell_type": "code",
   "execution_count": 70,
   "metadata": {},
   "outputs": [
    {
     "data": {
      "text/html": [
       "<strong id=\"y_operands_new\">y_operands_new:</strong> <a class=\"ProveItLink\" href=\"__pv_it/exprrange_reductions/9017ea0b5d94f5bbde1fc23b343b4fea17ad81270/expr.ipynb\"><img src=\"data:image/png;base64,iVBORw0KGgoAAAANSUhEUgAAAPgAAAAWBAMAAAAfsUzKAAAAMFBMVEX///8AAAAAAAAAAAAAAAAA\n",
       "AAAAAAAAAAAAAAAAAAAAAAAAAAAAAAAAAAAAAAAAAAAv3aB7AAAAD3RSTlMAInZUiRDNmWbv3US7\n",
       "qzJazP2FAAAACXBIWXMAAA7EAAAOxAGVKw4bAAACuElEQVRIx8WWTWgTQRTH/5vNZJMmMbEIXixu\n",
       "VagIlQhWsBdDEYSCsggeBGVzEb2IOdQPvDSnngpaQRD1ELRSUJBevdhaEPGiEIv0Iqze7EGjMb0I\n",
       "rW9m9mOWNRuwxQzMZGfe/zczO++9yQIooidF402i1JvFsyY1h8He1pXBc/fjobB6E2U/zVUBUlV1\n",
       "8GIXKKz+95KyYNSAQujkW12gwhb5KV1Fhn4WLNUX7S5QSL2ZchdHqB1Xh5LdXDq+VSF3CRPUXt7z\n",
       "QXFFYzj+XENqaMuDptIdGOvvkmGB/iQtD7Zm2UGy2xfYj9hoD6nxophT/JSdwft4r7h6h+oUHgN6\n",
       "GxmTTbnWYxbusOOfOk4h1OlH3lbuwajDh8/WcBNxtNQDz6kexQPAqKBQ/nLANV8DfhlS8dci1ByT\n",
       "vSb6yvDhSWAWsbTQy/Kdz0K9hRJG3aFZZFuFeW29Ey7UWtPtZRZhz8OHH4L9Rhzt6qUH+LFT4k5a\n",
       "Pt+C0U5bnXGhTi/2y/3bJm7BX5z9RLqJOFrq2VBJQEs0nUOeEDx31Tp3HE84FkW5XajzgyMzQmCX\n",
       "8FEvejBrIV85JNM16vZAb+h0r2Ka4h35Wq4qFmdrNLSCN9SuWrC5gDdi2H8Q6sxeilc+lDP1OSOA\n",
       "lzBarQo6DPlzSf2ZJL+iJ7BK5uUb7sk9pe2eP0Evrr0m5z7hHuaqOe+B24V693VHCljj1MBBBd73\n",
       "ueEIWnTDtKJP0Rp4hj7HPRTO695Z7cR2YCSaZp59OlsvqoIQLGk9eu6BvkC0VufXe8AnvWvo3ber\n",
       "QDlCe3Y0ttXLqkCFXToZDZlA/5VnHb39K9ndcWUMOO0lxMZGE8yM0J6doBVHEYRgSQfdIOCCCYep\n",
       "7uIfD4o5tFwiuvXwdhJxRkS3nlD/U+Rba+Z//4JKvbxNW+nRt6MxJIPxD+msuCvujdr0AAAAAElF\n",
       "TkSuQmCC\n",
       "\" style=\"display:inline;vertical-align:middle;\" /></a><br>"
      ],
      "text/plain": [
       "<IPython.core.display.HTML object>"
      ]
     },
     "metadata": {},
     "output_type": "display_data"
    }
   ],
   "source": [
    "y_operands_new = [b_1_to_k, a_1_to_j]"
   ]
  },
  {
   "cell_type": "code",
   "execution_count": 71,
   "metadata": {},
   "outputs": [
    {
     "data": {
      "text/html": [
       "<strong id=\"ynew_len_kpj\">ynew_len_kpj:</strong> <span style=\"font-size:20px;\"><a class=\"ProveItLink\" href=\"../packages/proveit/numbers/addition/subtraction/__pv_it/theorems/bdb040860ba8b035aec6ab4a51daa2ad1ea247650/expr.ipynb\"><img src=\"data:image/png;base64,iVBORw0KGgoAAAANSUhEUgAAADMAAAAQBAMAAABJt1qBAAAAMFBMVEX///8AAAAAAAAAAAAAAAAA\n",
       "AAAAAAAAAAAAAAAAAAAAAAAAAAAAAAAAAAAAAAAAAAAv3aB7AAAAD3RSTlMAELvv3c2ZVESJq2Yi\n",
       "MnY6gD36AAAACXBIWXMAAA7EAAAOxAGVKw4bAAAA60lEQVQY02NgwAAin1QFGCZ/bmBgVHZAl1Pn\n",
       "WMDA+AHIYE1Al1pyYDYDgwGQwV+ALrVcgfUAA8isfgGoCJ+KiyuYsWYfTwBYajJUhiMOpmYN14WX\n",
       "YKkohspEkMBRmAzDGgYFpgagFONv9hprkEAMA0LqGqMjUIr9TzsvWDQASYq7oAjoQjbrC2A+r4mL\n",
       "i4sTVIphIRdQiiUsF8xnVEDSxSDFCDRQvqAfos0BWYr3AVDlfgH5ggcggXdwKV0gfguUWsogf2EC\n",
       "SIAVHirhQMwGdJU6A18e2EeMixohMlc/A3UwBiAHHcckaEBBAQCiiDO2cyaD1wAAAABJRU5ErkJg\n",
       "gg==\n",
       "\" style=\"display:inline;vertical-align:middle;\" /></a>, <a class=\"ProveItLink\" href=\"__pv_it/exprrange_reductions/a66b1fb5d205d2e8007a39dfc31bf38e465e0de50/expr.ipynb\"><img src=\"data:image/png;base64,iVBORw0KGgoAAAANSUhEUgAAADMAAAATBAMAAADPIygvAAAAMFBMVEX///8AAAAAAAAAAAAAAAAA\n",
       "AAAAAAAAAAAAAAAAAAAAAAAAAAAAAAAAAAAAAAAAAAAv3aB7AAAAD3RSTlMAMrsQds2rme9mIlTd\n",
       "iUQmv6lAAAAACXBIWXMAAA7EAAAOxAGVKw4bAAAA5klEQVQoz2NgwAA2n1QNGG78eABiMyqjymnz\n",
       "JTAwfwAzWQJQpXIW3GRgaGDABrIVWBcwHEAWYdE5cxTMyJrCFYAixRdiAGVlsQn4QqRM3MACS2Ey\n",
       "DFkMCkwPwFIFHBNAVBQDQkqc+TBIimUB/waQQACSFOeGTSAXMjPsBxnF2HPmzJlDUCmGZDaI42tA\n",
       "BLMCki4GM2aIC8+CyQPIUowOYJVc/8ACLnApRSB2BEtxQoKLdQNMKhqI2cGuYoPYwpz0GCIj+gMo\n",
       "wAyW4nCABsclaEDBANuG+QYM2IH8htM4ZBjY3R/gkAEAR4oz5b1xIc8AAAAASUVORK5CYII=\n",
       "\" style=\"display:inline;vertical-align:middle;\" /></a> <a class=\"ProveItLink\" href=\"__pv_it/exprrange_reductions/8b141fcd8d1f94c98a7168d6cfe94b495ec61fb20/proof.ipynb\" style=\"text-decoration: none\">&nbsp;&#x22A2;&nbsp;&nbsp;</a><a class=\"ProveItLink\" href=\"__pv_it/exprrange_reductions/30726731d9b85fbb08a3362584fc1e231ec6fb040/expr.ipynb\"><img src=\"data:image/png;base64,iVBORw0KGgoAAAANSUhEUgAAAWUAAAAWBAMAAADqapBTAAAAMFBMVEX///8AAAAAAAAAAAAAAAAA\n",
       "AAAAAAAAAAAAAAAAAAAAAAAAAAAAAAAAAAAAAAAAAAAv3aB7AAAAD3RSTlMAIolEdjJUEM2ZZu/d\n",
       "u6v6CvZmAAAACXBIWXMAAA7EAAAOxAGVKw4bAAAD3klEQVRIx8WXT0gUURzHf7O77tuZddftD0Ek\n",
       "tpQdhAgPdqnAUZIQQjYoCBKaJKqD0ByCDmK7N9FDLUFUJriXoKDQyFN/QIQsYQkFQ6JDIhLRIbbM\n",
       "XTvZ7703Mzuz82ZWQvTBrG/m9/vO9/P+zHtPSAArxp+tLtxW8gp4KA6yWkjbHuYW9htornzuzdNi\n",
       "MfcA+TJpi/S/8feqFt9oCeXEzD1ii5oFpmDMJAMQydqjg1XMBjepoweEzJRHZBHKMAVjlhG+zjEc\n",
       "xSpexU1ifipkpjw2i2MVCsYcxatVtwWCJX+ravENl6guYo46LS5XKBjzNbwO2wOBSX+ravENl0hO\n",
       "xEx5AuNiZlQw5rt43T75zRZY7vJdSSri0lKbarttaNztT1rODyyKmClPZDHcpDuZb3RxBWMewmm/\n",
       "pqfLi2J6gPzyM62IH0/EbJMl+AK+6r7MRn4KQMmYzHKelUWDB9K5K/tyTuZsNMcUjHkaIFyCqEqe\n",
       "GNHrOkyQAz89nWkcnpl9S16BPAmWuC8HI+Cn5vkA79B2XNTP09Ril3Y+4WAOJeg6gQrG/BKbmYG6\n",
       "5NnThugBwG+Zv1hYaByippVcgNokWOJRgCnwU/N8vuIWRMzIA48e8/pIPv86n/9Im0q7iipMZnxJ\n",
       "qwa9hmgKgsW6ZmnVy5XGYb/1Kc9CGm1N8VsgK+CnNvLZPBr3Yv7wMOX6Bke4wpwb2O2jumVbBLmk\n",
       "6N6uNA7PpXZjdqswBhYz+QNKAfzUPJ900pGeFM1n5CHF4KqLeQqYgjHPI3MKZxmzpdNwlU5KuqIR\n",
       "t6MVX97Tl2AJaQ2+hxOmmBQhnrnE10NdqOb5chi/P2VW1M/Io5RIMVTBLK0AUzDmIwDxXCzLmMka\n",
       "PvgBn/G3W4c0/a7pD3tsVVh8Qqvhj2JqeEYui+ehN5tlaqfIqvD8mwFMkpMiZsqTIauBCmaFTn5U\n",
       "MOZufNnSsDG8eeyKW03YzdICTvP3+KSWHkVmzIoZl/7eA55Alg81dNjE7WeWU0zNbt1qI5/uJ7XN\n",
       "ImbkiWnQeaqCOU4HBRWMudac7tQ2bA7oXtgBcNU1umZcmT1BD77lBIeYq8O6lxpLHS5l9cLzhsXj\n",
       "ZI7SxbXeOG8oWZutOSLSp3P3AZLufdtstdpNq0kHcwAc6oCnGssFvIaFzIrjjGmckeLamM4V/Pw8\n",
       "x4M77zTiDmm2an29AER1uZrxWCKOS2g5wSHm6vKtS40Fd2JpVnx+nhOsNhc1utVQBWfut8UclCG3\n",
       "1tmKkF8QVD/1EG23mLlftBN1NgNXdPCRVLf836rIUdxO2ni7U65DlCdPG2xjkTv1/1T+A4KmHK8L\n",
       "BbVsAAAAAElFTkSuQmCC\n",
       "\" style=\"display:inline;vertical-align:middle;\" /></a></span><br>"
      ],
      "text/plain": [
       "<IPython.core.display.HTML object>"
      ]
     },
     "metadata": {},
     "output_type": "display_data"
    }
   ],
   "source": [
    "ynew_len_kpj = Len(y_operands_new).computation()"
   ]
  },
  {
   "cell_type": "code",
   "execution_count": 72,
   "metadata": {},
   "outputs": [
    {
     "data": {
      "text/html": [
       "<strong id=\"ynew_len_jpk\">ynew_len_jpk:</strong> <span style=\"font-size:20px;\"><a class=\"ProveItLink\" href=\"../packages/proveit/numbers/addition/subtraction/__pv_it/theorems/bdb040860ba8b035aec6ab4a51daa2ad1ea247650/expr.ipynb\"><img src=\"data:image/png;base64,iVBORw0KGgoAAAANSUhEUgAAADMAAAAQBAMAAABJt1qBAAAAMFBMVEX///8AAAAAAAAAAAAAAAAA\n",
       "AAAAAAAAAAAAAAAAAAAAAAAAAAAAAAAAAAAAAAAAAAAv3aB7AAAAD3RSTlMAELvv3c2ZVESJq2Yi\n",
       "MnY6gD36AAAACXBIWXMAAA7EAAAOxAGVKw4bAAAA60lEQVQY02NgwAAin1QFGCZ/bmBgVHZAl1Pn\n",
       "WMDA+AHIYE1Al1pyYDYDgwGQwV+ALrVcgfUAA8isfgGoCJ+KiyuYsWYfTwBYajJUhiMOpmYN14WX\n",
       "YKkohspEkMBRmAzDGgYFpgagFONv9hprkEAMA0LqGqMjUIr9TzsvWDQASYq7oAjoQjbrC2A+r4mL\n",
       "i4sTVIphIRdQiiUsF8xnVEDSxSDFCDRQvqAfos0BWYr3AVDlfgH5ggcggXdwKV0gfguUWsogf2EC\n",
       "SIAVHirhQMwGdJU6A18e2EeMixohMlc/A3UwBiAHHcckaEBBAQCiiDO2cyaD1wAAAABJRU5ErkJg\n",
       "gg==\n",
       "\" style=\"display:inline;vertical-align:middle;\" /></a>, <a class=\"ProveItLink\" href=\"__pv_it/exprrange_reductions/a66b1fb5d205d2e8007a39dfc31bf38e465e0de50/expr.ipynb\"><img src=\"data:image/png;base64,iVBORw0KGgoAAAANSUhEUgAAADMAAAATBAMAAADPIygvAAAAMFBMVEX///8AAAAAAAAAAAAAAAAA\n",
       "AAAAAAAAAAAAAAAAAAAAAAAAAAAAAAAAAAAAAAAAAAAv3aB7AAAAD3RSTlMAMrsQds2rme9mIlTd\n",
       "iUQmv6lAAAAACXBIWXMAAA7EAAAOxAGVKw4bAAAA5klEQVQoz2NgwAA2n1QNGG78eABiMyqjymnz\n",
       "JTAwfwAzWQJQpXIW3GRgaGDABrIVWBcwHEAWYdE5cxTMyJrCFYAixRdiAGVlsQn4QqRM3MACS2Ey\n",
       "DFkMCkwPwFIFHBNAVBQDQkqc+TBIimUB/waQQACSFOeGTSAXMjPsBxnF2HPmzJlDUCmGZDaI42tA\n",
       "BLMCki4GM2aIC8+CyQPIUowOYJVc/8ACLnApRSB2BEtxQoKLdQNMKhqI2cGuYoPYwpz0GCIj+gMo\n",
       "wAyW4nCABsclaEDBANuG+QYM2IH8htM4ZBjY3R/gkAEAR4oz5b1xIc8AAAAASUVORK5CYII=\n",
       "\" style=\"display:inline;vertical-align:middle;\" /></a> <a class=\"ProveItLink\" href=\"__pv_it/exprrange_reductions/3a026bba26f9489d028bd8c7ddde6a4c74896c020/proof.ipynb\" style=\"text-decoration: none\">&nbsp;&#x22A2;&nbsp;&nbsp;</a><a class=\"ProveItLink\" href=\"__pv_it/exprrange_reductions/ea240e3c89a653ba97aa3f97472fd2942e552b9d0/expr.ipynb\"><img src=\"data:image/png;base64,iVBORw0KGgoAAAANSUhEUgAAAWUAAAAWBAMAAADqapBTAAAAMFBMVEX///8AAAAAAAAAAAAAAAAA\n",
       "AAAAAAAAAAAAAAAAAAAAAAAAAAAAAAAAAAAAAAAAAAAv3aB7AAAAD3RSTlMAIolEdjJUEM2ZZu/d\n",
       "u6v6CvZmAAAACXBIWXMAAA7EAAAOxAGVKw4bAAAD50lEQVRIx8WXS2gUSRjH/9OZdKVnMpPxwYIo\n",
       "Ovg4CIvkoBcVnIjiBpYwgoJghFHE9SDYh4U9SJy5BT3osA/UrOBcBIUVs5hT3IUg+IJBIkREPBgk\n",
       "iAi7ZB+Z0ZN+9erpnq7uCSL6QddU9ff9+/t1VXVVDXIQpn4+t8m0iShHhGKdqCVLX4Z5syit/vb7\n",
       "0TybPeYjYM+nfJ6RP+JzdfIv1pI1M/MRXhxyDUm5QjCzCtBT9fvPdEh25hN19KiRmfMA3xiTjipm\n",
       "h+D7AsPR6JCr8YmYrxuZnZq/tTWQ9LpiTtO1wz8SXc34VJ38i7a0a2JOB1pHA0lJIZiP0/W1P8ya\n",
       "ik/Vyb9o66mZmI8bma1xpRDMP9J1btcr36PmhmJXkjZ/4uVAwddcvX55PGkr3po1MXMetmu2jbln\n",
       "1t7ocoVgPkshb91ya1Esj7J/4pK2+bflMr7J0vU7XrixzCq+CKQqmtmpC5tVPHAw2cZcrh1bWeMK\n",
       "wXwPsJtIF9g15T7pYoKt/TsyM/fjN923bBLOFDzxqRouI04t44G7lHbc1M/EgwHvO9fMJ5eVDuS4\n",
       "QjDfoteqoC+/71vlvgj868gHG437kdapnHn05uGJrwB3EKeW8cK6503MxAPXFkN3uV6/Xa8/4tVf\n",
       "ryqFZqaH7CjhhBLdQVejrz+xEJWV+7HG+8ynUaa0Wvwn2H+IU6t4MY/Go5hb76z7+cGlolTouUHL\n",
       "8xXXS9uA00y50Vm5HzcSO9VEK+AmPGb2P1LziFPLeDZIn7E9ZZrPfG54Q6GZWaOLP5EUgnmGmIs0\n",
       "y0RaPg0X+KTkKxoLZ/T8c1+dyomAcgmv7ZwWswaylcNyPXSNahnv2PT9paZN/TzDizX9QeZUkzWS\n",
       "QiGYNwHZWqYqmNlbuvEGz6gcdlHm3zUvxG2vIvwTpW55K1OwHzot8QxOVKtCHRR5FRn/g0VBTt7E\n",
       "vIkXN9vW52yFLVhCIZiH6WEvx9Tw1qkrTm+kbk48pQG6z0eJH0Ue6or2J979AhnA5jas3u0T79w7\n",
       "VxRq0QyrVTzfT3r7TczDvPirjTlTwuAeoRDMvUXl5mltPaArsAT4LjS62p+a3s4Pvq2AgFiqbTdK\n",
       "TdZH+8Eq43lD8Ey074PSVqnzRqrqS2vpzerJ/gtAPrxvq99sYZhX8wFmCwG1FakmO0jXmJGZeF6l\n",
       "mqEzkrAxfX5+LNtLz68Hvtcr0vv382CFUFbtz+SytGC2AgJiqW41Q2qyIXqzafP5+XF3o9d8eOAK\n",
       "yTziuxugTIZVwbdIxjlRiFOf5e9tZh7Bzz+Z10mu2C3pC5/9b1XPlnG+QYv3LoZ6M5JnAF/QnEH3\n",
       "I5UfAA6wHZDdwYZXAAAAAElFTkSuQmCC\n",
       "\" style=\"display:inline;vertical-align:middle;\" /></a></span><br>"
      ],
      "text/plain": [
       "<IPython.core.display.HTML object>"
      ]
     },
     "metadata": {},
     "output_type": "display_data"
    }
   ],
   "source": [
    "ynew_len_jpk = ynew_len_kpj.inner_expr().rhs.commute()"
   ]
  },
  {
   "cell_type": "code",
   "execution_count": 73,
   "metadata": {},
   "outputs": [
    {
     "data": {
      "text/html": [
       "<span style=\"font-size:20px;\"><a class=\"ProveItLink\" href=\"../packages/proveit/numbers/addition/subtraction/__pv_it/theorems/bdb040860ba8b035aec6ab4a51daa2ad1ea247650/expr.ipynb\"><img src=\"data:image/png;base64,iVBORw0KGgoAAAANSUhEUgAAADMAAAAQBAMAAABJt1qBAAAAMFBMVEX///8AAAAAAAAAAAAAAAAA\n",
       "AAAAAAAAAAAAAAAAAAAAAAAAAAAAAAAAAAAAAAAAAAAv3aB7AAAAD3RSTlMAELvv3c2ZVESJq2Yi\n",
       "MnY6gD36AAAACXBIWXMAAA7EAAAOxAGVKw4bAAAA60lEQVQY02NgwAAin1QFGCZ/bmBgVHZAl1Pn\n",
       "WMDA+AHIYE1Al1pyYDYDgwGQwV+ALrVcgfUAA8isfgGoCJ+KiyuYsWYfTwBYajJUhiMOpmYN14WX\n",
       "YKkohspEkMBRmAzDGgYFpgagFONv9hprkEAMA0LqGqMjUIr9TzsvWDQASYq7oAjoQjbrC2A+r4mL\n",
       "i4sTVIphIRdQiiUsF8xnVEDSxSDFCDRQvqAfos0BWYr3AVDlfgH5ggcggXdwKV0gfguUWsogf2EC\n",
       "SIAVHirhQMwGdJU6A18e2EeMixohMlc/A3UwBiAHHcckaEBBAQCiiDO2cyaD1wAAAABJRU5ErkJg\n",
       "gg==\n",
       "\" style=\"display:inline;vertical-align:middle;\" /></a>, <a class=\"ProveItLink\" href=\"__pv_it/exprrange_reductions/a66b1fb5d205d2e8007a39dfc31bf38e465e0de50/expr.ipynb\"><img src=\"data:image/png;base64,iVBORw0KGgoAAAANSUhEUgAAADMAAAATBAMAAADPIygvAAAAMFBMVEX///8AAAAAAAAAAAAAAAAA\n",
       "AAAAAAAAAAAAAAAAAAAAAAAAAAAAAAAAAAAAAAAAAAAv3aB7AAAAD3RSTlMAMrsQds2rme9mIlTd\n",
       "iUQmv6lAAAAACXBIWXMAAA7EAAAOxAGVKw4bAAAA5klEQVQoz2NgwAA2n1QNGG78eABiMyqjymnz\n",
       "JTAwfwAzWQJQpXIW3GRgaGDABrIVWBcwHEAWYdE5cxTMyJrCFYAixRdiAGVlsQn4QqRM3MACS2Ey\n",
       "DFkMCkwPwFIFHBNAVBQDQkqc+TBIimUB/waQQACSFOeGTSAXMjPsBxnF2HPmzJlDUCmGZDaI42tA\n",
       "BLMCki4GM2aIC8+CyQPIUowOYJVc/8ACLnApRSB2BEtxQoKLdQNMKhqI2cGuYoPYwpz0GCIj+gMo\n",
       "wAyW4nCABsclaEDBANuG+QYM2IH8htM4ZBjY3R/gkAEAR4oz5b1xIc8AAAAASUVORK5CYII=\n",
       "\" style=\"display:inline;vertical-align:middle;\" /></a>, <a class=\"ProveItLink\" href=\"__pv_it/exprrange_reductions/34ff063bd5a981f25a87b1aac0b6aea83823bf0e0/expr.ipynb\"><img src=\"data:image/png;base64,iVBORw0KGgoAAAANSUhEUgAAAGUAAAAVBAMAAACtcD09AAAAMFBMVEX///8AAAAAAAAAAAAAAAAA\n",
       "AAAAAAAAAAAAAAAAAAAAAAAAAAAAAAAAAAAAAAAAAAAv3aB7AAAAD3RSTlMAInZUiRDNmWbv3US7\n",
       "qzJazP2FAAAACXBIWXMAAA7EAAAOxAGVKw4bAAABbUlEQVQ4y2NgYBBgwAFwSjAwGeCS2YRTjwmI\n",
       "eBOAIsZ6cgHItAYcWlgTQKQamihbAYhMxaGHHcWwHVCaH+zgdhx6OFF4RlB6P9itnAHY9Zhh1eMJ\n",
       "cSEOD5WA/KR0AU1PLoNJKQMDywX0kLwqoqPAwJAB8hPDDFQ9rD+YDYFCHODwqVoFAmtBTIezCqwf\n",
       "GRgWA5mKDJ9R9TB/3MyXCKQmoFrDvWENA+M/BobZQHYA81eogTMhBrLPeAAS4PuAFi+svxlASmeD\n",
       "A3wBqj1c6XVgc9HsYWD+wMCbAHEbA5cDqp54g/0gi5gXoPkHqIG/IYDhEIgtvwFVT39AvAEwfDgO\n",
       "oEemA4N9gAODL1gNWvxcY4h/ALSa3QFNj/wDBjWOBwyvQOw7aHoOMzAVAdMA1wY0PbsYGGKbgeIg\n",
       "h09CTwcQIIUjvXEUMFzm+IqeRiGgAlf+Ocj3mQt7tmM8gEtPDENRNXYZHpyZm1EBl4wiDnEAavhU\n",
       "TUt6jaUAAAAASUVORK5CYII=\n",
       "\" style=\"display:inline;vertical-align:middle;\" /></a> <a class=\"ProveItLink\" href=\"__pv_it/exprrange_reductions/b86195d2424354562aea8c497841233df34a7ef70/proof.ipynb\" style=\"text-decoration: none\">&nbsp;&#x22A2;&nbsp;&nbsp;</a><a class=\"ProveItLink\" href=\"__pv_it/exprrange_reductions/9158c0d89892239ab9fd7a136afbd8f2e1c988530/expr.ipynb\"><img src=\"data:image/png;base64,iVBORw0KGgoAAAANSUhEUgAAATQAAAAWBAMAAAC8vH0lAAAAMFBMVEX///8AAAAAAAAAAAAAAAAA\n",
       "AAAAAAAAAAAAAAAAAAAAAAAAAAAAAAAAAAAAAAAAAAAv3aB7AAAAD3RSTlMAIolEdjJUEM2ZZu/d\n",
       "u6v6CvZmAAAACXBIWXMAAA7EAAAOxAGVKw4bAAADL0lEQVRIx81WTWgTQRT+8mMmmzRNlF482Aat\n",
       "B6FIQDx5aCpWqEhZQU8WjF4qWOgKggepyU30oMGLPxTai9BL0aogiEKofxSKtFAR8SCUIKUHiT9N\n",
       "i5f6ZmZ/ZrvpLthSfTCTzMz3vf123nuzgwyEmT9bbSGl99ge0UcL/0ZaJM/7cM5H2jmwzxVlduiF\n",
       "v0s3egN2LEgaKwHxsjp9PcClG/33FjcCpGmjQNoV03qAy/QmZUCiHCAtSa3TUHNgOcClC70RexYg\n",
       "7Ty1DnU2HJRKHZtVCDcCpN2mdvPIVyUFqr3+EXOhEZrvyivD1vaWgDPDwe9vIC3Se7F9zpRG0tmK\n",
       "UXQOt+I19t23Ql1oHMqklAyITOCLf7xNvE5tzJY2PM3tPR+nqiD3QtpbILaMZJ6NmdxBA0/Z7m/r\n",
       "PkCgE68toc+hVWCTr4xiGH5siQfeULvQYNcONM2gTZfSnlCRlpDOnjxuLt4FfmiS39AEmtPkqIam\n",
       "LGzyCDAJX7bASzvTQJpRzPHNsaQRtrOAAXNxEpF6OhdaWs+5QIdq5ig5A3Jmk1+C/YQf28TL2DYq\n",
       "g0FgAXZA6aAaMWzvdWjLCWN95wKdmGmR717M4yFsaewXEjX4sSWe9RRM0tpc47p+MymNyiGtUwYI\n",
       "IE+RJZ4w/AhhXsd8XaCbu/onBKBYwEIsY5FZHc2ls/IA8qabg9di9A3CeKNde0zJHJbSqIKbR1Nl\n",
       "IY2t0MQiPlHfZ6DI6bwT0/YfgU4epRrjU6l8bEpzyHMYKJcF202yfUn85XDZPLfWSqP9jpYeSGl9\n",
       "RJ6/b27vNL3q1X20aaGPlFTveGZxH1PWH74u0G33dAlg1b2t3Qr58ImqLthi6GYr+Dg9A68anWsU\n",
       "rcWClNakm5Pce8yKwk5sB/q9B4e1Ph6pZFSAiyzZMW9EHXya2KFKwNcgUVa8h61t/XDqDpD1MKx1\n",
       "VLdVsipAJZvssPeBDv60ebHwv6/NysGOW+3AJavEV1drYHkPw1on0qKuAFxkyXaGThk4Dnup7Qq8\n",
       "Sg4pMy4xUS/DLTbqtwjvi0XdX/ZZH2ndcvvzW373jh98RELFhziq478yrSfgyvcHAFXoqQuVnJYA\n",
       "AAAASUVORK5CYII=\n",
       "\" style=\"display:inline;vertical-align:middle;\" /></a></span>"
      ],
      "text/plain": [
       "{k in Natural, j in Natural, (j + k) = n} |- |(b_{1}, b_{2}, ..., b_{k},a_{1}, a_{2}, ..., a_{j})| = n"
      ]
     },
     "metadata": {},
     "output_type": "display_data"
    }
   ],
   "source": [
    "jpk_eq_n.sub_right_side_into(ynew_len_jpk)"
   ]
  },
  {
   "cell_type": "code",
   "execution_count": 74,
   "metadata": {},
   "outputs": [
    {
     "name": "stdout",
     "output_type": "stream",
     "text": [
      "Expected error: Failure to apply (x_{1}, x_{2}, ..., x_{n}, y_{1}, y_{2}, ..., y_{n}) -> ((x_{1} * y_{1}) +  (x_{2} * y_{2}) +  ... +  (x_{n} * y_{n})) to (a_{1}, a_{2}, ..., a_{j}, b_{1}, b_{2}, ..., b_{k}, b_{1}, b_{2}, ..., b_{k}, a_{1}, a_{2}, ..., a_{j}) assuming {j in Natural, k in Natural, (j + k) = n}:\n",
      "Improper replacement: Improper replacement of (x_{1} * y_{1}), (x_{2} * y_{2}), ..., (x_{n} * y_{n}) via {(x_{1}, x_{2}, ..., x_{n}): (a_{1}, a_{2}, ..., a_{j},b_{1}, b_{2}, ..., b_{k}), (y_{1}, y_{2}, ..., y_{n}): (b_{1}, b_{2}, ..., b_{k},a_{1}, a_{2}, ..., a_{j}), x: {(x_{1}, x_{2}, ..., x_{n})}, y: {(y_{1}, y_{2}, ..., y_{n})}}:\n",
      "When expanding IndexedVars within an ExprRange whose parameter is the index, their expansion ExprRange indices must all match. (a_{1}, a_{2}, ..., a_{j}, b_{1}, b_{2}, ..., b_{k}) vs (b_{1}, b_{2}, ..., b_{k}, a_{1}, a_{2}, ..., a_{j}) do not match as respective expansions for x_{_a} and y_{_a}.\n",
      "ExprTuple.align_ranges may be useful.\n",
      "Using multiple, equivalent expansion forms could also help. \n"
     ]
    }
   ],
   "source": [
    "try:\n",
    "    dot_prod_lambda.apply(*x_operands, *y_operands_new, requirements=requirements)\n",
    "    assert False, \"Expected an LambdaApplicationError error.\"\n",
    "except LambdaApplicationError as e:\n",
    "    print(\"Expected error:\", e)"
   ]
  },
  {
   "cell_type": "markdown",
   "metadata": {},
   "source": [
    "## Nested ExprRange expansions\n",
    "\n",
    "As we saw above, we may have nested **ExprRange** expressions and ranges of ranges of variables/parameters."
   ]
  },
  {
   "cell_type": "code",
   "execution_count": 75,
   "metadata": {},
   "outputs": [
    {
     "data": {
      "text/html": [
       "<strong id=\"x_11_to_mn\">x_11_to_mn:</strong> <a class=\"ProveItLink\" href=\"__pv_it/exprrange_reductions/89fb4454ca54b9b6812caf36f4be32063ff9a5dd0/expr.ipynb\"><img src=\"data:image/png;base64,iVBORw0KGgoAAAANSUhEUgAAAkcAAAAQBAMAAADuecaiAAAAMFBMVEX///8AAAAAAAAAAAAAAAAA\n",
       "AAAAAAAAAAAAAAAAAAAAAAAAAAAAAAAAAAAAAAAAAAAv3aB7AAAAD3RSTlMAEHarMolUmd1mIs3v\n",
       "RLtmgJDEAAAACXBIWXMAAA7EAAAOxAGVKw4bAAADR0lEQVRYw7WXTWgTURDHZzdpNlkTuhZL6UXX\n",
       "5KIIksaT4GEt9ePQQ1Aqipf0pDejILToob2oxwqioFgjIoKHJmcvhiqCXmwpeBKs0KvQQrwoEvfr\n",
       "fb/dvE3IHJK8mfn/Zt7wdtsHMFY6MFcDzrTi1JlLoGBSNQwH2rcsAS+ix7peMZZ4pwEle0EFKlUP\n",
       "Cdq3LAFP3mOukdtLrfDep/DCOqnAlKuHA+1bloQn7zENRsv9mmz5h+1Z6HXgDl5qcyesKCaj5t2h\n",
       "kIOOX5xSgsZlxPVCDHXFB+LIQY+i5W2XU/SP4/QR7F3HSwPiziql5t2hkIPWYUEJGp8RKaOGRrpi\n",
       "A/Hkdan3R0OzIBPIriNn4Q/sD5ejG2YnmkmrOTcSstB/0HRUoPEZ0b0QI12xgVhysHHODm6cghGg\n",
       "h+TitF+pNlTD7eUsjykeUI1XP3lUrAeJgTsQ8tCH/pD8mCb2KKgJNPaPEpEtTpf0VQcNSRaIqR32\n",
       "6BYtH90he7px+i58o4ek/XVXnYl2oYbPwMiS74VDLSA//A9arT3/DF+CeOj2hCIULiMoxrB0Wk1B\n",
       "cTy2l8nvK/myXkZDkgZQbREb9OgV/QAlvCeYKGYWa8xJemCBdsu+9pg8KOct3wtZd6hwH8If2WVW\n",
       "bY61YC9IDN2+UICmlxHUI3BQXk1BcSLJlvTy8hiMOkYVDUkawLUZEOnRK9qB22RP7PPr7SdDznYw\n",
       "JPMn60U2z6lTdqHNJPpCAbpm4di8wBTUAlRuhFSBWcjWcFeyQM/aKTvdhnukvDikEeCG9AbeMl5k\n",
       "VU6dd4y6Qyf6Qh5q1s0GilUFpqAWoHIjpI9wHJpp3JUs0LN23tG3zV0Hlyfb1MI39RgzpHEwd2Zu\n",
       "Ml70srSBVTche9ahEj2hCF2bOWeFUM0WbxC8modGvLgxydx1j8yq4fYdvLglgd61m+4Jym3XcfmQ\n",
       "cPW3nf4Er99fACBqbzlby3e7u7QXmU72E6i3QL9CJ3pCEfq120VQXdytoOahciOkQhnewavDbgmv\n",
       "K2mgd+0t2NcwKxYuTz+T0vqqN81MEveAUBWrJQ4old+U/nOlejfYTOAeFKpgkSUKCS47kvLSO2BO\n",
       "FbiSwD0oVOW6mzgQXf4/GzBTPaJ825AAAAAASUVORK5CYII=\n",
       "\" style=\"display:inline;vertical-align:middle;\" /></a><br>"
      ],
      "text/plain": [
       "<IPython.core.display.HTML object>"
      ]
     },
     "metadata": {},
     "output_type": "display_data"
    }
   ],
   "source": [
    "x_11_to_mn = var_range(x, (one, one), (m, n))"
   ]
  },
  {
   "cell_type": "markdown",
   "metadata": {},
   "source": [
    "Consider the following two different lambda expressions mapping a range of ranges of parameters.  The first multiplies groups of sums of terms and the second is a range of ranges of terms added together. "
   ]
  },
  {
   "cell_type": "code",
   "execution_count": 76,
   "metadata": {},
   "outputs": [
    {
     "data": {
      "text/html": [
       "<strong id=\"double_nested_lambda1\">double_nested_lambda1:</strong> <a class=\"ProveItLink\" href=\"__pv_it/exprrange_reductions/b02bf20242e82a8157828e6a06a6977bd3e45c5e0/expr.ipynb\"><img src=\"data:image/png;base64,iVBORw0KGgoAAAANSUhEUgAAB+0AAAAXCAMAAAD5oS1BAAAANlBMVEX///8AAAAAAAAAAAAAAAAA\n",
       "AAAAAAAAAAAAAAAAAAAAAAAAAAAAAAAAAAAAAAAAAAAAAAAAAABHL6OuAAAAEXRSTlMAInZUiRDN\n",
       "mWbv3US7qzLz6SJmQj4AAAAJcEhZcwAADsQAAA7EAZUrDhsAAAqcSURBVHja7V3boquqDvV+13P6\n",
       "/z+71U5awIQkGKrduzwsZpeRMchIgrfWLFtbnv3ar6m0PMY4j9lZn1R+B5/cYFyuJD/ZvlK2K8a6\n",
       "vdjfLz23thblb5X6NZ02FnxbE3d+fxGpi+HFLWnaGs4B7j/ZvlK22Oy8ReG4FZl7SU9EgunL6rdI\n",
       "/ZpaRHdcSxN3fr8MNbwDukGFFAGft20zLal9Imiku3R0RLm7soXcE82QLxsKf1PZztA6J1tsdpLt\n",
       "bBxKcpQ6rz3t3aQZ+9lC7PZ181uifk2vNcykN3Hn9vXcNg9oBHSDEikCPp/Wf6rHmNYngkbw1dMR\n",
       "4e7KhrvnFEOubCj8TWU7R+uMbDKe7NVBIw65YtOLvYJ3k0n/+ULs9G2X/dqvqbWu5dmZuPP7rMDK\n",
       "RhFfTw6kxg6hg6DM+32vvteBH8U5J+WrpyOipytb0D3xDLmyofC6ssl1k/JNLhu3HbKSPpc8G4eC\n",
       "HA03De8mk/7zhdjp++zXfk2x9XDWF94jKj3SJ1ntD6RK/84cAd/v/zs/chX4UnxfUMpXUUdYT1e2\n",
       "oHtOMGTKhsLryibXTco3uWzsUfwwS7/aC3KUGEfDu6mkv6AQW335u5D/a6qteR3DOglTukfLJu78\n",
       "PtFq33ThXKTg52H/97GowJ9f7Rnu0tKxgc5JPNmC7jnBkCkbCq8r2/mSz3FXStnYvA9Z+YHVnp+j\n",
       "xLm9hndTSX9BIbb69u/Rgboo5nqpKsZjgwJTXhMNKDG+lukFaIn4iYatZvPX4Py/+8nEnd9HrPYc\n",
       "dm9ScC4y4LcpPCJ948GfX+0pvuNKKq+KqYiX03D2XYfIhrgH96iubDg8skED/oRsCK2QbgqycZsn\n",
       "75vVCj+N2irLxOaQOZOraaUn2StkLhIJa28W/vXMq5iLrB0YocA3ZcaWZECJ8bVML0BLxE80bNfA\n",
       "63s5EQeesas9h13XhHORAZ9ly6OI9I0Hf361p/hW2bSSymrwciZPTsO5a5hnkKB7cI/qyobDIxs0\n",
       "4E/IhtAK6aYgW+Rp4YtVty5PZa+tskxsDpkzuZpWepK9QuYikbD2w/MwoVvH7la9Zvr6j8CU10QD\n",
       "SoyvZXoBWiJ+smHfIezFZDFZ9eAv7g69fLVnsfPzys9FBvxqNMf6xoM/v9oTfMcxG7aDqxy6nMmU\n",
       "03AGC+pRNtg9uEeVZcPh4Q0q8Cdkg2mFdNOQjdtced+stul0D22VRWKzyJzJ1aTSk+w1MheJhLXv\n",
       "nxcTtqFbczhT2wc2tX+Ug5rWVTXPETdvcGzC2AU87onaajCNHSPSL+B1naA00A5xnEki3lG1+et/\n",
       "/x+c9rC+FfMXd4feLRv1o4HribWBFbpvUu1Ope/3bvbpBOCzdgI28LLhBQ+jB6+rxPCt1z83i/K1\n",
       "keUwUMe366wxjrLB7sE9ykpkvmw4PLyBVRso+BOywbRCujGLT1C2ULPNXHldVu9KwMhOSQ3jic0i\n",
       "w8hVojwmkp5kf4wAiTeDkbD2Vvz1f0cjS1G8z8qcD2HTdp9p3MoGDkgZO4DInqCtBtMzY8jRQDWD\n",
       "0iCX1WI59+xj2xE7tx8b6zYVb7XPhhY5exhaMnzsDyNxqM6A7+xMd+DpbBi1z+1JvuWe4nMjcRis\n",
       "o8X9PcZRNtw9uG5kIvNlQ+FxXnRtGLVP8Gi+Yd0YxScoW/iEvkWz88nqudD0lTA7uTWMKzaDDJ2r\n",
       "VHlMJj3J/hAB/AmEI2Ht39eWxu1OQb1LVtqBVB6jCjbdjknyuCchMeywsQcI7QnbajA9MUaUX8CI\n",
       "GmR7xHMmiMCkXHaL84sVelfyWaHre0p+JX//Jaw8Z6M7vvbgk1/JN9Xi0WV1bL6ZDaDBQTbcPbhu\n",
       "dCKzZUPhA7zo2kDBx8uG0grqxik+QdniruQbVkP1x6GOUpkqF1yxaTKsXA2Xx2TSk+zZmcstxFb/\n",
       "fPavnsZs3g4BqgwtmX8IuGlXv5zFYkMP2HbrsV+LGluAzp6k7fuDhGhowCPT6Aaj7QBzVnT2T0KG\n",
       "pIH2kM2bTcSe/fppglf7xsk+88yp34tXe07o2qTgXCThl334omaju/ExKa/2JN/9tGG7HFjxHQbr\n",
       "6LsOlA1xD86Qlchs2VB4bAOnNtDw0bLh7kJ14xUfQjZu8+XdWT0vMa+LUd7FqRysYXyxSTKcXA2X\n",
       "x4TSk+yZmcsvxFb/fDy/fCx1u44zlmjJNHcPQqYrj8G2Df1BD1h3Y786o89xYwPorn0M278PRzah\n",
       "P9ABIaahKYvRDMC8PZPJkgbZw5+3BhF79pn9LSPn+yXe9+2Br4eYLdjPYsAbGKGbeV99AnKRgs+H\n",
       "dmuDBN0KOA/eQw9FSizfvWgVTdYtbMqIji30896ebJh7cIacRGbLhsKjGxi1gYYPpXoc34BurOJD\n",
       "yBaqREF5d1bPZ8qmKquiVA7XMIHYFBlOrobLY0rpSfa8zBUUYqtfnstzWxRrPe7KDC+Zw/O1ByHT\n",
       "16sRBvOKhNcth+Mf5IB5XWwOfB4zwsbOuxheezJszYcX0RBTY4QOCDGFp9zGoRmAxQ3DgDTIHod5\n",
       "KxBxZr/uBn8FtnKDdxngfp77RwM9c4pt4ITukZSfixT88NhbI0G3As6DP1zlC0RKHN/xmdZzV/Id\n",
       "hugI6unJhrkHZ8hKZK5sKDy6gVMbaPhQdYviG9CNV3wI2UKVKCDvk9XzpHFsizxKZaKGscUmyXBy\n",
       "lSiP6aQn2TMzV1CI7X5YQvdS7A9lnRGm+es7ViXnUjE54PbFQ/OMQQm/rKQG7wCRtq8P8USdAUmm\n",
       "kmtA4I+5rQBLn7lf4glKA+4hmjebiD37nHm/0MSd359scOgeSB0uzOnAI9mQn70JmIpvIN8MZ0RP\n",
       "ZdngRP6UbEhtoOGvkw0rPoRs3KYsL6eGfUxsTnm8s/TCQuz00OsT4JJZUcUib1/PRrBe7kcO2G9H\n",
       "Lu3+xQPQ2AJ09iRt3x/iiToDUkwlDdx/Ayim7UJPtvCkgfaQzZtNxJ499+UP4EsbUq32B1KHd1bo\n",
       "wCPZ4MMrvBVHyV14vhHvRdGVDUnkT8mG1AYa/jLZ0OIjf53NB+Rl1bBPic0qjzeWXlqI3X7KkQpQ\n",
       "u4/x1AVeLHbTfFqWpa1xW//CBDngYz8kKhfE2AB6RGnbN9N4ou6ABFNJg9Eef0du3bR9UYQhDbSH\n",
       "bN5sIvbsc/bDQSbu/F5j8fL8wyGlAg9nQz5l+m1SeqUKkm+GM8pdUzYkkT8lG1IbbiwbWnxI2WKz\n",
       "U4N0sIZ9LEc55fHWGSsrxF5f+zPLq+ZR7ZcJyveH9TgCgrRN+/12SYbZHho54Lg9flBUHWZsAD2i\n",
       "tO2baTRRd0CKqaSB++8A21Pt+bw9a8qQBtpDNm82EXv2/JA2cef3p1IADl0OKQV4LBumFO86q1UK\n",
       "EppvZLXXlA1J5A/JhtWGG8uGFh+1RVpTXlYN+5TYrPJ4Y+mlhdjvc7T0C16uov6emDKV8bVMrwMt\n",
       "P0GkEKSJiTu/V6fFI6UJX8b6JJO7L6mOAe7/Qtki4L9OttjsTFw6LhD726UXRQI9pZH/uNmo/Ruy\n",
       "ogElxtcyvQ40Ec1LZn93Wjd1yv0pX8zi+3T7wki7J/dvdqTOBLokpgkG7LJvYXodaHcXIjf1z3/A\n",
       "Kfen3P2c8K+PtHty/2ZHsifwD70NpwHLIO3+AAAAAElFTkSuQmCC\n",
       "\" style=\"display:inline;vertical-align:middle;\" /></a><br>"
      ],
      "text/plain": [
       "<IPython.core.display.HTML object>"
      ]
     },
     "metadata": {},
     "output_type": "display_data"
    }
   ],
   "source": [
    "double_nested_lambda1 = Lambda(x_11_to_mn, Mult(\n",
    "    ExprRange(i, Add(ExprRange(j, Mult(i, j, IndexedVar(x, (i, j))), \n",
    "                               one, n)), \n",
    "              one, m)))"
   ]
  },
  {
   "cell_type": "code",
   "execution_count": 77,
   "metadata": {},
   "outputs": [
    {
     "data": {
      "text/html": [
       "<strong id=\"double_nested_lambda2\">double_nested_lambda2:</strong> <a class=\"ProveItLink\" href=\"__pv_it/exprrange_reductions/14e7b1eda3b4497af81c43b02fb2db82dd8287c20/expr.ipynb\"><img src=\"data:image/png;base64,iVBORw0KGgoAAAANSUhEUgAAB/cAAAAXCAMAAADJLTxgAAAANlBMVEX///8AAAAAAAAAAAAAAAAA\n",
       "AAAAAAAAAAAAAAAAAAAAAAAAAAAAAAAAAAAAAAAAAAAAAAAAAABHL6OuAAAAEXRSTlMAInZUiRDN\n",
       "mWbv3US7qzLz6SJmQj4AAAAJcEhZcwAADsQAAA7EAZUrDhsAAAqxSURBVHja7V3puqQqDBT3fa7v\n",
       "/7LXpVFRQhIMap+v+TG005Eqkkpw62MUjU1Fv/ZrIk35GKtnyag3+OIF49LHVn8T/hsD9kTxVm+C\n",
       "Ud89Z3V71FbEOPmtV78m05qYbqt1F0x/NDIPw7Nb0HQlcQ7H4Fn4bwxYKNKPzec1WvwD2rDOQPdJ\n",
       "+luufk1MyCXVUutO932d2Q3BL0TIIPCqKPK2D+0LRkPdFTx+HwYOzwSN2AIPo1+IWMCAXdHRA6QJ\n",
       "AkTbZYXStYie6173ftBkvrU0L32W/xarX5NrOTHZte6WPuuKfLDtCX4hRAaBV+34Tzo0YX3BaAjf\n",
       "G+L3CRzomcARW+DhuFyKWLCAXdPR7aQJeYuZSSiUqkV02ZfwfjBt3F6a5764+XDx1/52Kwuandbd\n",
       "qr8YKhOxf/04kWlKgAaA0s13w6pKBr5h5xqXb4D4HSl8GLg8IxgxwAEw+qWI4XphRwzjKx+xRrKi\n",
       "wwLEzy8vK5QoBrSJeD9kMt9bmue+in7t1wRbZc/2+PAES3Xog6z7JzLJ8TYdAl/N/9sNSgQ+Yd8k\n",
       "5PINEL8jhQr3jGDEAAfA6NcihuqFHbFKQkeBVeYlwBvWfaIY8GFEvB8wmW8uzWOf/C7z/5poy9eD\n",
       "WCNPEvNwWetu01+QdT8v3amHwXf1/O/Qi8BfLxUEd8nFz0pBM3B5RjBigANg9GsRw/TCjhjKVz5i\n",
       "Qdd9xnohoFCaGPDzfRHvB0zmm0vz2BefJwuyOO6yPk0JzxcyTGmNNSDH+FmmD6AF4scaNu30p9r4\n",
       "f3NL665Ivdd9CquNjD31CPAT9cHTJwf466UC49uMpFQat7F/GBGXFSnmGdCXEi4z4O3oVyKG6YUd\n",
       "MZSvK2LEvLusMr4AN9YjvbYRz1uWGChkILXIkQnnSwGJmDMYe30IMJ6NxV0cFTW+N8OU1lgDcoyf\n",
       "ZfoAWiB+rGHL3L7SJy1w6Om77lNYlbk79QjwUdQPsadPDvDXSwXGN43akVSUWS9p0sKIuMw467F6\n",
       "BvSlhMv28AD6lYhhemFHDOXrihgx7y6rjC/AlXU5rlNJJZ63LDFQyEBqkSMTzpcCEjFnMPb1cqBQ\n",
       "jkOWY5w6/EkDhimtsQbkGD/L9AG0QPx4w27KPWgxbnd14KO7teev+yRWxzQ6ph4BfjTqfH1ygL9e\n",
       "KhC+TRPV0+GVsl3SJIYRcVmdIJ4BfSnisj08gH4lYphe2BHD+LoiRs27yypjC3BjPX1dDuJ5yxED\n",
       "iQygFkEywXwpIRFzBmNfLdcVphELfTyT7Y9ssuMhMGiapWnXedzSgbERYxPwvCdoK8HUdwxPv1gv\n",
       "mDlDY9vBjzNK5HBcrT/9+6822rD7Jc1Hd2tvlolsyO31Y/cFSbIbmWKmUFVz1x1pOOCjorV8QcuC\n",
       "Fd6O7rzG4sM3Gz9OFsn6JclhQPysFKoG8QzoS1rqIi7bwUPo+2+A6YPVANMLO2IYX1fEqOXmgso8\n",
       "BWiy3moDO2+RskYSA4kMoBZOxQyUzCh9qkTopXnsd7qsPocjfRxvZ2rGhtu0mCfoJzLrgJixAQjs\n",
       "abWVYHplDD6aNYrO0ABX2Hw5V+Sj2wY632/y3ZLhXvejugDOG+oClc1+o0HO3wjw5T6zDXg8Cxrp\n",
       "UwSUbzKndpdzHAbFz0phVzBAz8ARw1MXcdkGD8dl/419+mA1aKTP93G+7ohRyk1z4/m+ns/Celly\n",
       "qtQ3b7GyRhQDgQysFnLFDJbMKH2aROileey361DNdPsgm0OV7AWWnNVmN50OSpTfM5MQttv4AGjb\n",
       "024rwfTCGF5+sQqp5u3hzxkhYidlsuuNP3xx/To/SbJHD/Gv889/UkspMrrh4wN88Ov8ujgMZZT5\n",
       "5hniso0B7BkwYoTURVy2wsPohIiB1QDTCztiOF9nxEjl5rLKPAS4sK7TD8fMN2/d8yGKAScDa4Je\n",
       "MYMlM0qfJhF6aR775SHBrG2ibjoYSCOwiH5Ghk3LbPURiQU+YFGOB38FaLwDNPZEbbcNDlHXgGem\n",
       "3s2ONgN0UVzu/9ykKzS2PXjzJhPZz37cau3rfm5knX44dXtIlbnuUyS7J2NPPRS+n4ePMzK6qYtW\n",
       "uFSgfOfzhemKYEp3GBQ/K4WVAeAZkBspdVGXaXgYnRIxoBrgemFHDOcLRoxWbiRU5iHAmfVy/Xlc\n",
       "lVTpl7fuskYWA0oG8j6jYgZMZpQ+USLk0jz2y6P9ydBnxbh/k4BFVN9TcJmO+PXe1vUBHzArm2r0\n",
       "QaVgYw1oroIE28/GmY3rAzigjalrymw0DdBNT2+SQgPscZy3BJH97KP9L5eMn6Qcfr+/+0mJ/h/o\n",
       "z2rYvyBINjr+6uycehi8qoup1Rz0ndAO8Ad0l0J8+c41Ks6jsidTBuNnpaAZQJ4BuVFSF3WZhofR\n",
       "iRGzVQN88q7kdrrLwReMGKnc+KiMVJAQ/8+sl4fQ2jRK/fLWXdboYsDIgN6nV8xLbr5KnyQRRmke\n",
       "+35ZqIs4HitzmURwEa2X1yy4TNdXMdT6lQzrjYjzB3RAlcWT45ajRrux8e6HdU+Crd5YibqYaiNw\n",
       "QBtT+5QLPzQN0Jvqc4QG2OM0bwEixuzH3ew/oE1Nzfa12XddNeS2p1KhLyiSPZM5ph4GXw9zyzno\n",
       "O6Ed4E8X+hwK8ePbLOnclQndYUj8DhQ0A8gzIDdS6qIu+8DD6MSIWasBrhdXPXO5C+YLR4xWbnxU\n",
       "RipITv8vrJcTyaaIlV/eImWNKgaUDOh9RsW85OZr9GkSYZTmqa975IbRupFk2L0ltf5SK6FcSEYH\n",
       "nH61qJ9FSOyvTcmst4VQ23XDn6gxIMqUcznI+ofjRoC+iswfBjlDY92DNW8ykf3sFfG5Qa27WuYR\n",
       "CbtkT2ROF+dk4IEsUNJ3i8XcBecZ6jIhBkDqoi4LAb9u4HphR0wsYFC5EVDZIwIklLW7xECqmG9O\n",
       "Zl5pnnvbe1TsRTTFyocq1mcnSO8XRAespmOXYv6xgtV4B2jsidpuG/5EjQExppxm3X8CiNvpmk/U\n",
       "00Jj24M3bzKR/eyp75owXhIRat0/kTm9GkMGHsiCI7zAqzyE3AXnGeoyGQZQ6qIuCwC/beB6YUdM\n",
       "KmBguRFQ2SMCJJS1m8RAq5hvTmZeaV76VgE1ITMfAMpiuHzMpqrt+77IYNvjRQp0wGE+Jkp6wFgD\n",
       "HojithtTf6LmgAhTTrOjDZ9jt7KdfltCCI1tD968yUT2s1ctdZ5ad63Iu0qskqWQEYG3ZwHdF4zW\n",
       "Cr3aBcgzAmcJBlDqPgG/RezFAQPLTRjSNwgQL2s3iYFWMV+dzKzS/Omz44RUmg/pfMkg2TbGIwkb\n",
       "1N60mm+iRJDtqaEDNtPjCXFaQsYa8EAUt92YehM1B8SYcpp1/xlgeiJeddNTqYTQ2PbgzZtMZD97\n",
       "upK17jKBhAIkSyEjAA9lQRvi7WuZSP0B84zAWYIBlLpPwG8Re3HAwHIThnTw+VDK2k1ioFXMF2uD\n",
       "WZp1r8BFgPF6F/E31SShjJ9l+hxocgeRmJEdWncqDkSHRkYSPvH1RcR323PxCxawh+G/MWChSN83\n",
       "n2vheBWZd/kSSG18Jg39AbVG+i/WsgbkGD/L9DnQQDQfmf1b6bzMGd9A+WH874vYF2rsSyf37Z72\n",
       "5l8GMQ0wYBl9C9PnQMu3EHmZX/6wM76Bchn9IvbXNfalkyv/sDP/BwWIoxHRsBa9AAAAAElFTkSu\n",
       "QmCC\n",
       "\" style=\"display:inline;vertical-align:middle;\" /></a><br>"
      ],
      "text/plain": [
       "<IPython.core.display.HTML object>"
      ]
     },
     "metadata": {},
     "output_type": "display_data"
    }
   ],
   "source": [
    "double_nested_lambda2 = Lambda(x_11_to_mn, Add(\n",
    "    ExprRange(i, ExprRange(j, Mult(i, j, IndexedVar(x, (i, j))), \n",
    "                           one, n), \n",
    "              one, m)))"
   ]
  },
  {
   "cell_type": "markdown",
   "metadata": {},
   "source": [
    "First, let's consider a simple example in which we assume that $m=2$ and $n=2$ and apply `double_nested_lambda` to $(a, b, c, d)$."
   ]
  },
  {
   "cell_type": "code",
   "execution_count": 78,
   "metadata": {},
   "outputs": [
    {
     "data": {
      "text/html": [
       "<strong id=\"abcd\">abcd:</strong> <a class=\"ProveItLink\" href=\"../packages/proveit/logic/equality/__pv_it/theorems/b9025baedda49f8eb0a4eb7b23501a26c1fde0970/expr.ipynb\"><img src=\"data:image/png;base64,iVBORw0KGgoAAAANSUhEUgAAAFAAAAAVBAMAAAAjqnRBAAAAMFBMVEX///8AAAAAAAAAAAAAAAAA\n",
       "AAAAAAAAAAAAAAAAAAAAAAAAAAAAAAAAAAAAAAAAAAAv3aB7AAAAD3RSTlMAInZUiRDNmWbv3US7\n",
       "qzJazP2FAAAACXBIWXMAAA7EAAAOxAGVKw4bAAABfUlEQVQoz4VTPUjDQBh9/UmvSVuaWSycotBJ\n",
       "Kqhgp1KcBKWroKSji5ChiFs7iYMgDqKgQ6GKg0tXp1Y3J6EW57g4uLRY4uLid3eJtJDQg9w93r37\n",
       "7n3fdwFgYuqIiClamC5McZpWxgjtpRkg+7xEnvaq41zCDgo4QqIC1hinskE+Ui6SNvQJrlMJEMbJ\n",
       "zwXWJrjNoJuFn33URPb9Oa64g/k3b7ecdxTIlQfkZ4ukwKOZdlXWPxVLlXWmwLrK4Dleyc8xWrR9\n",
       "BabKEnOhq9i3Pthp4JCWdVwDbAijJFlWRVYi5voG6+IQMBBCvQurLVnSd2SB9K4vvIH2K9yJqy2O\n",
       "s/8y1mWBLO736hvJIa1FPBNbwHvM1ITQIb8SUBvaAmgjZKrLwCnljTSP3TNY1MtMI21LQCnHHQEo\n",
       "UNGmOtbwRad627klGHeE+keQABsniwrsLXz0qKIPMBzf9mo4QKQp2u2NUjiQT+fJz4+HAmCWvl0P\n",
       "RxEKVLQIn/4rRE38AQwMUMhXz3KBAAAAAElFTkSuQmCC\n",
       "\" style=\"display:inline;vertical-align:middle;\" /></a><br>"
      ],
      "text/plain": [
       "<IPython.core.display.HTML object>"
      ]
     },
     "metadata": {},
     "output_type": "display_data"
    }
   ],
   "source": [
    "abcd = ExprTuple(a, b, c, d)"
   ]
  },
  {
   "cell_type": "markdown",
   "metadata": {},
   "source": [
    "We'll make some assumptions and prove a few things to meet the requirements."
   ]
  },
  {
   "cell_type": "code",
   "execution_count": 79,
   "metadata": {},
   "outputs": [
    {
     "data": {
      "text/html": [
       "<strong id=\"defaults.assumptions\">defaults.assumptions:</strong> <a class=\"ProveItLink\" href=\"__pv_it/exprrange_reductions/5c566e3cd1b843078aead642e9430b5a476615ea0/expr.ipynb\"><img src=\"data:image/png;base64,iVBORw0KGgoAAAANSUhEUgAAAH8AAAAVBAMAAACd/CwcAAAAMFBMVEX///8AAAAAAAAAAAAAAAAA\n",
       "AAAAAAAAAAAAAAAAAAAAAAAAAAAAAAAAAAAAAAAAAAAv3aB7AAAAD3RSTlMAInZUiRDNmWbv3US7\n",
       "qzJazP2FAAAACXBIWXMAAA7EAAAOxAGVKw4bAAABx0lEQVQ4y52UMWgUURCGv729zd3t5cIFAoEQ\n",
       "cC3EJoJFSJsldUI21kK2ESwsLMSVYHGdVTSFjVh4kCIQlCw2QlLkEmyVKBiCzV1xlY1nIBIIZJ23\n",
       "a/V2eQf3YN9b+Gf+mfln3gOajLxS19Ld0Qk+qm2+GJt++tXoa0WPepRa4ITFeIfV2EQwS/kKHkCl\n",
       "VYg3mtS2TATf4A28gFoxXrug8cdE8C6gK0ECForxRpvGtYngJ3R7jLV4AvU7a0vHeRN3kCn9Y2rO\n",
       "6y8XCLIH5RMeyj7+nXXV0spuuk4y/LeXHv4Xz7mM7VSQjRT/kOET51AN2YYDt8ONXi5AZleP32Od\n",
       "Ux3kM5RAwvsWgvWYxUDHK530cJwr7Asq+W4/V1kMFAGLcJrDN/+f9kB513wdr6pK61uqBOV96Wga\n",
       "2D6TWT9CXJ/DZqBpMI/VxG6j5H8tSZa1AH24hXKS2FLiqaUN3IRPKaDaYUXG9ppS+FIb5Z0oajt/\n",
       "5U/kfQWf9QAzUbQhOfv8kkLaOGfanXSTJAnZlRT24TZ8uqkPQZIIvRvj9gzjZgdD7vOMiPnYgJeH\n",
       "PQjP5Dsy4PeG+FtqVu4bDLwhBOPqAlje6E+aKPsPFq91bEart2wAAAAASUVORK5CYII=\n",
       "\" style=\"display:inline;vertical-align:middle;\" /></a><br>"
      ],
      "text/plain": [
       "<IPython.core.display.HTML object>"
      ]
     },
     "metadata": {},
     "output_type": "display_data"
    }
   ],
   "source": [
    "from proveit.numbers import two\n",
    "defaults.assumptions = [Equals(n, two), Equals(m, two)]"
   ]
  },
  {
   "cell_type": "code",
   "execution_count": 80,
   "metadata": {},
   "outputs": [
    {
     "data": {
      "text/html": [
       "<span style=\"font-size:20px;\"><a class=\"ProveItLink\" href=\"__pv_it/exprrange_reductions/f2608d5d08ca932a6528710adef0aaa8c55f08560/expr.ipynb\"><img src=\"data:image/png;base64,iVBORw0KGgoAAAANSUhEUgAAADcAAAAOBAMAAAB5gJkQAAAAMFBMVEX///8AAAAAAAAAAAAAAAAA\n",
       "AAAAAAAAAAAAAAAAAAAAAAAAAAAAAAAAAAAAAAAAAAAv3aB7AAAAD3RSTlMARHarECKJuzJmVO/d\n",
       "mc2qKiq2AAAACXBIWXMAAA7EAAAOxAGVKw4bAAAAs0lEQVQY02NgwA5Y7z5vYMAFwhnYPuKUNGVg\n",
       "2I1Tcr8Dg30ALkkbBgb7BgZGZdekIo60Qkz58wwMbOxGDP4TGVaDuLxnwMAALMfxiYFBkKeAIV6B\n",
       "YT6GRh6gGgd/AYb1Dgz3MCSvg4j1DCCZbehynGDD7RgYjjEwfmVBs3MZA2sASA/LRwbmB5GoGjkS\n",
       "GJgcGFh/MHB+YGBPSECVjLl79w4DA+MBBqYLDIyX0ILj/P///xgA7iAxKmBlclwAAAAASUVORK5C\n",
       "YII=\n",
       "\" style=\"display:inline;vertical-align:middle;\" /></a>, <a class=\"ProveItLink\" href=\"__pv_it/exprrange_reductions/4025f37116aa5c7de72c1722af6178f72e23aef80/expr.ipynb\"><img src=\"data:image/png;base64,iVBORw0KGgoAAAANSUhEUgAAADMAAAAOBAMAAABwazlqAAAAMFBMVEX///8AAAAAAAAAAAAAAAAA\n",
       "AAAAAAAAAAAAAAAAAAAAAAAAAAAAAAAAAAAAAAAAAAAv3aB7AAAAD3RSTlMARHarECKJu90yVM1m\n",
       "75kejotwAAAACXBIWXMAAA7EAAAOxAGVKw4bAAAAnUlEQVQY02NgwAZY322fwIAdhDOwfcQhZcrA\n",
       "cBeH1H0HBvsA7FIWDAz2ExgYlV2TirDI9jMwsLEbMfiDNb/oAIFmiAznJwYGQY4ChnhMl3IYMDA4\n",
       "+AswrHfAkHoOItYzMFhjyPAYgEig+B8WdLuWMbAC7b/GwPWFDU0TZwIDkwMD608Gpg0n0aQi3r17\n",
       "wcDA2MDAYrMA3VP///9mAABaHSef7SKtVAAAAABJRU5ErkJggg==\n",
       "\" style=\"display:inline;vertical-align:middle;\" /></a> <a class=\"ProveItLink\" href=\"__pv_it/exprrange_reductions/2903c885e83beee9cb26acebd003ab8d7fae571a0/proof.ipynb\" style=\"text-decoration: none\">&nbsp;&#x22A2;&nbsp;&nbsp;</a><a class=\"ProveItLink\" href=\"__pv_it/exprrange_reductions/68624c42d65f0ee8920d30d9c453b74f0bccc4380/expr.ipynb\"><img src=\"data:image/png;base64,iVBORw0KGgoAAAANSUhEUgAAAGEAAAAVBAMAAACkm51HAAAAMFBMVEX///8AAAAAAAAAAAAAAAAA\n",
       "AAAAAAAAAAAAAAAAAAAAAAAAAAAAAAAAAAAAAAAAAAAv3aB7AAAAD3RSTlMAInZUiRDNmWbv3US7\n",
       "qzJazP2FAAAACXBIWXMAAA7EAAAOxAGVKw4bAAABZUlEQVQ4y3WTP0jDQBTGvzSmTZu0dXAQl6aL\n",
       "gyg4iODUQ1yFuCvpIjgWERGniKCDgw5uIhTsJArBUZfYVcQi6Fbs7JQOTqL4rpiKubybju+73/ub\n",
       "ABhF+uF0ZGYZ44Yj5thQvqqVGoBR5wisq1KhA+R8ljhUpSki8iyAvKsUdUDEPE9klfQjWSK2AGtm\n",
       "ZbFdWnr4m9LL2LRDfidJVCWxQY79DO8IC0NDPDpGHzAHQ9m9lOdaXjVfEhfAXSFExcFxDFjBFbRv\n",
       "QD9JFgVJnAGuF6DmYluKHsU1jE/oH9RnlCD2YgI1yOeng4HTiqBHKBJpJXJoDn6rwivQgtU3Youe\n",
       "l30XevN/H1a3+3Yu0IaMTnUU6+PDRQiqUsAM1RVRjmXILs0IthCxXulh0uwhJxSiTEHeKVsTmQas\n",
       "zeHnfQus7VNPQRLIPX05KPTYnU+ky2aDJXYY/Z4DtJAxVjnC5n5b2kv6qabLP6PtUpuGmB6yAAAA\n",
       "AElFTkSuQmCC\n",
       "\" style=\"display:inline;vertical-align:middle;\" /></a></span>"
      ],
      "text/plain": [
       "{m = 2, n = 2} |- (m * n) = 4"
      ]
     },
     "metadata": {},
     "output_type": "display_data"
    }
   ],
   "source": [
    "Mult(m, n).evaluation()"
   ]
  },
  {
   "cell_type": "code",
   "execution_count": 81,
   "metadata": {},
   "outputs": [
    {
     "data": {
      "text/html": [
       "<span style=\"font-size:20px;\"><a class=\"ProveItLink\" href=\"__pv_it/exprrange_reductions/f2608d5d08ca932a6528710adef0aaa8c55f08560/expr.ipynb\"><img src=\"data:image/png;base64,iVBORw0KGgoAAAANSUhEUgAAADcAAAAOBAMAAAB5gJkQAAAAMFBMVEX///8AAAAAAAAAAAAAAAAA\n",
       "AAAAAAAAAAAAAAAAAAAAAAAAAAAAAAAAAAAAAAAAAAAv3aB7AAAAD3RSTlMARHarECKJuzJmVO/d\n",
       "mc2qKiq2AAAACXBIWXMAAA7EAAAOxAGVKw4bAAAAs0lEQVQY02NgwA5Y7z5vYMAFwhnYPuKUNGVg\n",
       "2I1Tcr8Dg30ALkkbBgb7BgZGZdekIo60Qkz58wwMbOxGDP4TGVaDuLxnwMAALMfxiYFBkKeAIV6B\n",
       "YT6GRh6gGgd/AYb1Dgz3MCSvg4j1DCCZbehynGDD7RgYjjEwfmVBs3MZA2sASA/LRwbmB5GoGjkS\n",
       "GJgcGFh/MHB+YGBPSECVjLl79w4DA+MBBqYLDIyX0ILj/P///xgA7iAxKmBlclwAAAAASUVORK5C\n",
       "YII=\n",
       "\" style=\"display:inline;vertical-align:middle;\" /></a>, <a class=\"ProveItLink\" href=\"__pv_it/exprrange_reductions/4025f37116aa5c7de72c1722af6178f72e23aef80/expr.ipynb\"><img src=\"data:image/png;base64,iVBORw0KGgoAAAANSUhEUgAAADMAAAAOBAMAAABwazlqAAAAMFBMVEX///8AAAAAAAAAAAAAAAAA\n",
       "AAAAAAAAAAAAAAAAAAAAAAAAAAAAAAAAAAAAAAAAAAAv3aB7AAAAD3RSTlMARHarECKJu90yVM1m\n",
       "75kejotwAAAACXBIWXMAAA7EAAAOxAGVKw4bAAAAnUlEQVQY02NgwAZY322fwIAdhDOwfcQhZcrA\n",
       "cBeH1H0HBvsA7FIWDAz2ExgYlV2TirDI9jMwsLEbMfiDNb/oAIFmiAznJwYGQY4ChnhMl3IYMDA4\n",
       "+AswrHfAkHoOItYzMFhjyPAYgEig+B8WdLuWMbAC7b/GwPWFDU0TZwIDkwMD608Gpg0n0aQi3r17\n",
       "wcDA2MDAYrMA3VP///9mAABaHSef7SKtVAAAAABJRU5ErkJggg==\n",
       "\" style=\"display:inline;vertical-align:middle;\" /></a> <a class=\"ProveItLink\" href=\"__pv_it/exprrange_reductions/dc9b5083865bf3a33411e8675cb30b444c1f92930/proof.ipynb\" style=\"text-decoration: none\">&nbsp;&#x22A2;&nbsp;&nbsp;</a><a class=\"ProveItLink\" href=\"__pv_it/exprrange_reductions/58ec0a8f4d235df966dee2bd1f6b4f07ba459f700/expr.ipynb\"><img src=\"data:image/png;base64,iVBORw0KGgoAAAANSUhEUgAAA3IAAAAVBAMAAADx4MGtAAAAMFBMVEX///8AAAAAAAAAAAAAAAAA\n",
       "AAAAAAAAAAAAAAAAAAAAAAAAAAAAAAAAAAAAAAAAAAAv3aB7AAAAD3RSTlMAIolEdjJUEM2ZZu/d\n",
       "u6v6CvZmAAAACXBIWXMAAA7EAAAOxAGVKw4bAAAHaElEQVRo3p1aTWxUVRQ+8/uY6Q9P043G4sTC\n",
       "QqOliWxMTRiMRW0ijqxJWruRpE06Ji5IDHR2xBq1IS5agmESxcACHcGkiUpoIJQ0QWgVF24UTRMr\n",
       "GilCKWFT79+799x3f2YeJ7yZO73f953v3nPffW/eACHQSEHzCNGripR6S9m7wJ4h9GdLgZcQJsmV\n",
       "amlkCQjNRxI2k0s9hCie5RB62PvuFgzuYK89sb+m+6RAXCRTRh922+WcsRt8hOxwklxapxmGWDNC\n",
       "M3p8dLbZTewpIgliD69EvoS6D35v4eQ+mMrW3ZWjAvTIXY7+vq8KMKhgWmdq5sMKcDlX6GJ8MIgw\n",
       "AvDY9M/uXCwDCwYb9M7SCCA8j8EElRsx5uqyblab3dY92WJQehOVO6B1v2/jbB6Gw+7KHeDHoel1\n",
       "/tfgr4/JbG6qShjuhG5I3wEu5woNL0IRghqkFmF7nzMXz0AXCYOhTjOImMKL8BJMuhbc92FtLPqe\n",
       "15onW2ySIxWVO6p137NxdlbhlLtyR8WRlZP9BtEvTkmY1vk7wHfA5Vyhi/FQhEIdOkNoazhz8Qwk\n",
       "OAx1mkHEFF6El2DSYzvdumY2Nrste7IFJXGiqFxD20zXbZxnAdqqzso1xKFXDmYlTOs8X4VbIZdz\n",
       "RcNSOUVoI//WofO2MxfPABI260nVBggfxWzLlWsDa+XQ6BpxRmuerDEbeeOVy2vnZnrORiFb6Ka6\n",
       "q3JUgInEKjcpt3qt8x+AWxUu57rM1SyVU4T9ZOHOQeeaMxfPABI26Zml/YDwUUy2XLn99sops/n4\n",
       "zteiJ2tMRt545Qr0Erpla5eYoOU94sYm/fIJsTP/MUC20PQNV+WoABOJVa5Xnv2lWCWuCTnXbqHh\n",
       "d/z56OtlTDjCXttX3blYBpCwXs8sHQGEz+x5Z+t18BMMOiPlnvoJV06ZpX7YCPY+15fAky6KffWq\n",
       "ytH1kfkafuMn+MThgG9DqXn4lPP6ww7ipliLKnfsCo2rsnJUgC2yWOVOaqcLqlzurpBzhI4v/Vqm\n",
       "lhSBL9ehsjsXywASdtIzS5OA8OmOZZgI/QSDzkifwSiunDJL/dARPOjLNxJ40kWxr5Oqcu3kHHuv\n",
       "Dsc4aLwK3/CFURKN4Fso0P2w4TrnqAA94pUblWtM74T2G0LOERo+0/cDpNYwYZ69XvXkYhlAwkY9\n",
       "szQPCP98+yI8WfETDDojleErXDlllvhhI7gLxdUEnnRR7GtUVa6NzP5xgAscNA3wH2scjy6yhVVa\n",
       "RcituipHBegRr9yQvOLqnexczq16rtAYHwR3IL+OCWeZq0VPrmi3ELAhzyydBYSvTvTRpeslGHRB\n",
       "msaVU2aJHzGCQi2BJ10U+xrSK3cOAvGN5gJk+PeCczL3IhAiZBpJK9fvqFyRLvBMo8XKQX4VOmuY\n",
       "wCb7S/DkKspTjsH6m1VO4scBVpoQTPo4W+9ncOWUWeqHjICUra2UxJMuinz1a7tloM7le1BgUxbI\n",
       "K8UEP2nzc67rnGu3HHPsliOQCrlcK7slLdvmehUR5vmTiUfcuVgGkLCxZrulxJPpeRD4CSZ9ha33\n",
       "2wHeLeewHzICsmvtDKsJPOmiyNeYqlxHGYJ7RP0toMpr9JpHGw/IymGNiWFYyYdQXHSdc0SAHcx0\n",
       "oGbzNDvRId6ZK0G2yuUC07WJJ2t1vFpCBHqXtRfgFag6crEMDMpgqjP2qCISU/gzZFtLOwkO+hm6\n",
       "YXXWHucMfocizVI/ZARk11pJ1RN40kWRr9OqcvQO9jqMTU0F98mnm/ALsAbZ+rexRkc5v1AQt9vW\n",
       "ylEBdhucJreAE2w33x6KG26moHc+MTNzTMjRzwzBOuQnHU8uza8WK4pA74tTCzMzcwxry8UyUCiD\n",
       "oU6ZSyXtBYxfg2ztBCLovky7zMsa3bA6SiXuh/pGZqkfMgKya/2YtnqSoponXRT7OqIqlyM6h156\n",
       "c7kCV0h9Dz1NbmNpI/3M51XWCJa3bRkgp32fq3JUgB6df9+/Ce30QfG/5z8iKhcpgirondc2Nu4L\n",
       "OfZ5gTamohcT/yIx9QUm7CPvGxsbNYa15WIZKJTDVKfKtYDEFD4zB8HNYURQvhaMRkQnpOwUZD4J\n",
       "GYP5RmapHzKC1wBe2GX1JEU1T7oo9nURPf26JL/vV50NsjDdzy0vYZG35aPVOalgdnI59FnzYMEj\n",
       "QnvFcOfNhTr10MRQLifBR9cYaHSX4pQknnQMJXGiqJx8PJp2N8STU3vlTmGRkv7cNA3WTvEgtmQ4\n",
       "d+ERQT6tTUNLuVCnHpoYyuUk+OgaA43uVJySxJOOoaRCHVWuI3ra+i44G/THCWflqEAkEsjfDLuV\n",
       "gtnJ5QLzB0YHXiMsGe68ubpjYHk3oImhXC6Cj64xsNmOME5p3VMM0y2JonJB9KVW6poNYcBeOSoQ\n",
       "iWRl35JSMDu5XNacDwdeIxw03HlzLcXA8tmwJoZyuQg+usbAZuXsPoSnGGZJEntggL13tfDFZRd7\n",
       "HYgnqkiBuEgW/27SZZdzRhf4CKlyklxZ//95McSaEZrR46OzzW5iTxFJEAf+B0J/zq50PCS3AAAA\n",
       "AElFTkSuQmCC\n",
       "\" style=\"display:inline;vertical-align:middle;\" /></a></span>"
      ],
      "text/plain": [
       "{m = 2, n = 2} |- |(a, b, c, d)| = |((1, 1), (1, 2), ..., (1, n), (2, 1), (2, 2), ..., (2, n), ......, (m, 1), (m, 2), ..., (m, n))|"
      ]
     },
     "metadata": {},
     "output_type": "display_data"
    }
   ],
   "source": [
    "from proveit import extract_var_tuple_indices\n",
    "Equals(Len(abcd), Len(extract_var_tuple_indices(ExprTuple(x_11_to_mn)))).prove()"
   ]
  },
  {
   "cell_type": "code",
   "execution_count": 82,
   "metadata": {},
   "outputs": [
    {
     "data": {
      "text/html": [
       "<strong id=\"eq\">eq:</strong> <span style=\"font-size:20px;\"> <a class=\"ProveItLink\" href=\"../packages/proveit/numbers/numerals/decimals/_theory_nbs_/proofs/count_to_2_range/thm_proof.ipynb\" style=\"text-decoration: none\">&nbsp;&#x22A2;&nbsp;&nbsp;</a><a class=\"ProveItLink\" href=\"../packages/proveit/numbers/numerals/decimals/__pv_it/theorems/a859225b88ee453b5fed3467550d780a123510610/expr.ipynb\"><img src=\"data:image/png;base64,iVBORw0KGgoAAAANSUhEUgAAAJkAAAAVBAMAAACnAFEqAAAAMFBMVEX///8AAAAAAAAAAAAAAAAA\n",
       "AAAAAAAAAAAAAAAAAAAAAAAAAAAAAAAAAAAAAAAAAAAv3aB7AAAAD3RSTlMAInZUiRDNmWbv3US7\n",
       "qzJazP2FAAAACXBIWXMAAA7EAAAOxAGVKw4bAAAB2klEQVQ4y5WVv0scQRTHP3s/vL3VC2sVEIuz\n",
       "CKTTwhwk1f0DwcU6kGsEi4hXSDYEi6u0iXBNinCFByKCIUTs7E7/gHCpAoHgFalsvAS0CWQzs+6N\n",
       "OzMLS74ww5vZz76dmffmLeCjyyFDPrmKkcKSMTtdt0kLytCp7JZFuwqSmYevv8Bjm9QgW074akSh\n",
       "A+UW5W+bCegMWDlhynpNgzI0T+kPrEFFeGQxAWs+1S5u26Q1KENf4QPsQpUUWL2h9gvem7QGZWg/\n",
       "4FIsJKCRBmt9an9h3aQbOd6+w+WIqQ5bBuiN4blJb+V4E/oMpeHdOlLgtciPnfisjmMNpb2e6+3B\n",
       "b3BbHBjgJ9GemuxBrjdPfLXYpaeDlYFcn8n2cr1ty/WNTXBPdmf/7c2VBzLdNTZRbDILz8xzy93p\n",
       "Mo5Psc/FBIzZn/AI3pmwDunXJI5Bk0KAO7jLhhWf8q28WUdh2E8SIi0NiruXrZTBXBi+FbtpciUG\n",
       "P/Y3OhyL73pRFImnH01vGsSRjGF7YhzKZIsi4dk7wRtNjkztwulb8bchpSfKmuP+ipf0O66HzIaU\n",
       "msp6I9p5Yq+m6oslG1JRULXVkan6IhnUrVdTsiFVlZU1I0u5YxKFjH+AU8+v5AvwD4a/dwsffOOV\n",
       "AAAAAElFTkSuQmCC\n",
       "\" style=\"display:inline;vertical-align:middle;\" /></a></span><br>"
      ],
      "text/plain": [
       "<IPython.core.display.HTML object>"
      ]
     },
     "metadata": {},
     "output_type": "display_data"
    }
   ],
   "source": [
    "eq = Equals(ExprTuple(one, two), ExprTuple(ExprRange(k, k, one, two))).prove()"
   ]
  },
  {
   "cell_type": "code",
   "execution_count": 83,
   "metadata": {},
   "outputs": [
    {
     "data": {
      "text/html": [
       "<span style=\"font-size:20px;\"><a class=\"ProveItLink\" href=\"__pv_it/exprrange_reductions/4025f37116aa5c7de72c1722af6178f72e23aef80/expr.ipynb\"><img src=\"data:image/png;base64,iVBORw0KGgoAAAANSUhEUgAAADMAAAAOBAMAAABwazlqAAAAMFBMVEX///8AAAAAAAAAAAAAAAAA\n",
       "AAAAAAAAAAAAAAAAAAAAAAAAAAAAAAAAAAAAAAAAAAAv3aB7AAAAD3RSTlMARHarECKJu90yVM1m\n",
       "75kejotwAAAACXBIWXMAAA7EAAAOxAGVKw4bAAAAnUlEQVQY02NgwAZY322fwIAdhDOwfcQhZcrA\n",
       "cBeH1H0HBvsA7FIWDAz2ExgYlV2TirDI9jMwsLEbMfiDNb/oAIFmiAznJwYGQY4ChnhMl3IYMDA4\n",
       "+AswrHfAkHoOItYzMFhjyPAYgEig+B8WdLuWMbAC7b/GwPWFDU0TZwIDkwMD608Gpg0n0aQi3r17\n",
       "wcDA2MDAYrMA3VP///9mAABaHSef7SKtVAAAAABJRU5ErkJggg==\n",
       "\" style=\"display:inline;vertical-align:middle;\" /></a> <a class=\"ProveItLink\" href=\"__pv_it/exprrange_reductions/b515cecf8f584a7339c2ccf1305cc13786be7b4c0/proof.ipynb\" style=\"text-decoration: none\">&nbsp;&#x22A2;&nbsp;&nbsp;</a><a class=\"ProveItLink\" href=\"__pv_it/exprrange_reductions/72e8e1b36d9097c62cae0155a0f58faf68ff41850/expr.ipynb\"><img src=\"data:image/png;base64,iVBORw0KGgoAAAANSUhEUgAAAK4AAAAVBAMAAAAtL8hrAAAAMFBMVEX///8AAAAAAAAAAAAAAAAA\n",
       "AAAAAAAAAAAAAAAAAAAAAAAAAAAAAAAAAAAAAAAAAAAv3aB7AAAAD3RSTlMAInZUiRDNmWbv3US7\n",
       "qzJazP2FAAAACXBIWXMAAA7EAAAOxAGVKw4bAAACB0lEQVQ4y5WVv0sjQRiG302yataLrJWNcGkO\n",
       "bESLUzgbg724WnvEMo1oIdpaWelhoZXFBUQERbAVm5g/QMTCH4VgYWWjFhErc/NNZjYz32z28IVd\n",
       "hs0zT3Zmv5kBEMKOh4SE+EKkITPKnvYWXdKBUiMNP8XVd6CeDKxeAkMuSdBzZEKpEQZ/Afi92lAD\n",
       "qGHmFF0R5wTk3y5FJpQaYehep2EqbyFEfhs9y5yT0EhkQqkRhjwMb76BwhuwyzkJaa+CUrOLcdNb\n",
       "qKLwCVQ4Nm56FZSaClZMr0jwCkxzbMX0Kii5EoZnp+ogQ4V5X0SNbMg5PZK5av297X0pdvDmvl2j\n",
       "HJJhn3lPxPWL4/vMe9Jp/OdBDd8fybBne7tr9Doc37O9EkpMVD7FZEQG5t2i29l/vFudP9gkcCMN\n",
       "9jxkS+gHJvj82vPQgpIjpB8+Gera61PjCfgBbHK6rr1RDDlrsiXYQbaRI4OsqZyo87JY0N7h2lpV\n",
       "lZUZCc2E8N+hINmSN+oXN7xPZBb+kOGZKv3+/Q6B2HuCZrMpfj3mXoIe/i6u4yjSELVwSLW8rBtC\n",
       "0FuFfzdKhuBRdx6Lt88q98ZQNh5+1p2IMRiG9iZTsnYZvo+oum+vAPeblax96kJPe7yGBt0uGpqL\n",
       "n8y53629CMkwr48ER2JEQ+2u7krO2K/hcSKTcJZ5xa+cQ8LwD42qi/4ncBSVAAAAAElFTkSuQmCC\n",
       "\" style=\"display:inline;vertical-align:middle;\" /></a></span>"
      ],
      "text/plain": [
       "{n = 2} |- (1, 2) = (1, 2, ..., n)"
      ]
     },
     "metadata": {},
     "output_type": "display_data"
    }
   ],
   "source": [
    "eq.inner_expr().rhs[0].end_index.substitute(n)"
   ]
  },
  {
   "cell_type": "code",
   "execution_count": 84,
   "metadata": {},
   "outputs": [
    {
     "data": {
      "text/html": [
       "<span style=\"font-size:20px;\"><a class=\"ProveItLink\" href=\"__pv_it/exprrange_reductions/4025f37116aa5c7de72c1722af6178f72e23aef80/expr.ipynb\"><img src=\"data:image/png;base64,iVBORw0KGgoAAAANSUhEUgAAADMAAAAOBAMAAABwazlqAAAAMFBMVEX///8AAAAAAAAAAAAAAAAA\n",
       "AAAAAAAAAAAAAAAAAAAAAAAAAAAAAAAAAAAAAAAAAAAv3aB7AAAAD3RSTlMARHarECKJu90yVM1m\n",
       "75kejotwAAAACXBIWXMAAA7EAAAOxAGVKw4bAAAAnUlEQVQY02NgwAZY322fwIAdhDOwfcQhZcrA\n",
       "cBeH1H0HBvsA7FIWDAz2ExgYlV2TirDI9jMwsLEbMfiDNb/oAIFmiAznJwYGQY4ChnhMl3IYMDA4\n",
       "+AswrHfAkHoOItYzMFhjyPAYgEig+B8WdLuWMbAC7b/GwPWFDU0TZwIDkwMD608Gpg0n0aQi3r17\n",
       "wcDA2MDAYrMA3VP///9mAABaHSef7SKtVAAAAABJRU5ErkJggg==\n",
       "\" style=\"display:inline;vertical-align:middle;\" /></a> <a class=\"ProveItLink\" href=\"__pv_it/exprrange_reductions/b515cecf8f584a7339c2ccf1305cc13786be7b4c0/proof.ipynb\" style=\"text-decoration: none\">&nbsp;&#x22A2;&nbsp;&nbsp;</a><a class=\"ProveItLink\" href=\"__pv_it/exprrange_reductions/72e8e1b36d9097c62cae0155a0f58faf68ff41850/expr.ipynb\"><img src=\"data:image/png;base64,iVBORw0KGgoAAAANSUhEUgAAAK4AAAAVBAMAAAAtL8hrAAAAMFBMVEX///8AAAAAAAAAAAAAAAAA\n",
       "AAAAAAAAAAAAAAAAAAAAAAAAAAAAAAAAAAAAAAAAAAAv3aB7AAAAD3RSTlMAInZUiRDNmWbv3US7\n",
       "qzJazP2FAAAACXBIWXMAAA7EAAAOxAGVKw4bAAACB0lEQVQ4y5WVv0sjQRiG302yataLrJWNcGkO\n",
       "bESLUzgbg724WnvEMo1oIdpaWelhoZXFBUQERbAVm5g/QMTCH4VgYWWjFhErc/NNZjYz32z28IVd\n",
       "hs0zT3Zmv5kBEMKOh4SE+EKkITPKnvYWXdKBUiMNP8XVd6CeDKxeAkMuSdBzZEKpEQZ/Afi92lAD\n",
       "qGHmFF0R5wTk3y5FJpQaYehep2EqbyFEfhs9y5yT0EhkQqkRhjwMb76BwhuwyzkJaa+CUrOLcdNb\n",
       "qKLwCVQ4Nm56FZSaClZMr0jwCkxzbMX0Kii5EoZnp+ogQ4V5X0SNbMg5PZK5av297X0pdvDmvl2j\n",
       "HJJhn3lPxPWL4/vMe9Jp/OdBDd8fybBne7tr9Doc37O9EkpMVD7FZEQG5t2i29l/vFudP9gkcCMN\n",
       "9jxkS+gHJvj82vPQgpIjpB8+Gera61PjCfgBbHK6rr1RDDlrsiXYQbaRI4OsqZyo87JY0N7h2lpV\n",
       "lZUZCc2E8N+hINmSN+oXN7xPZBb+kOGZKv3+/Q6B2HuCZrMpfj3mXoIe/i6u4yjSELVwSLW8rBtC\n",
       "0FuFfzdKhuBRdx6Lt88q98ZQNh5+1p2IMRiG9iZTsnYZvo+oum+vAPeblax96kJPe7yGBt0uGpqL\n",
       "n8y53629CMkwr48ER2JEQ+2u7krO2K/hcSKTcJZ5xa+cQ8LwD42qi/4ncBSVAAAAAElFTkSuQmCC\n",
       "\" style=\"display:inline;vertical-align:middle;\" /></a></span>"
      ],
      "text/plain": [
       "{n = 2} |- (1, 2) = (1, 2, ..., n)"
      ]
     },
     "metadata": {},
     "output_type": "display_data"
    }
   ],
   "source": [
    "Equals(n, two).sub_left_side_into(eq.inner_expr().rhs[0].end_index, \n",
    "                                  auto_simplify=False)"
   ]
  },
  {
   "cell_type": "code",
   "execution_count": 85,
   "metadata": {},
   "outputs": [
    {
     "data": {
      "text/html": [
       "<span style=\"font-size:20px;\"><a class=\"ProveItLink\" href=\"__pv_it/exprrange_reductions/f2608d5d08ca932a6528710adef0aaa8c55f08560/expr.ipynb\"><img src=\"data:image/png;base64,iVBORw0KGgoAAAANSUhEUgAAADcAAAAOBAMAAAB5gJkQAAAAMFBMVEX///8AAAAAAAAAAAAAAAAA\n",
       "AAAAAAAAAAAAAAAAAAAAAAAAAAAAAAAAAAAAAAAAAAAv3aB7AAAAD3RSTlMARHarECKJuzJmVO/d\n",
       "mc2qKiq2AAAACXBIWXMAAA7EAAAOxAGVKw4bAAAAs0lEQVQY02NgwA5Y7z5vYMAFwhnYPuKUNGVg\n",
       "2I1Tcr8Dg30ALkkbBgb7BgZGZdekIo60Qkz58wwMbOxGDP4TGVaDuLxnwMAALMfxiYFBkKeAIV6B\n",
       "YT6GRh6gGgd/AYb1Dgz3MCSvg4j1DCCZbehynGDD7RgYjjEwfmVBs3MZA2sASA/LRwbmB5GoGjkS\n",
       "GJgcGFh/MHB+YGBPSECVjLl79w4DA+MBBqYLDIyX0ILj/P///xgA7iAxKmBlclwAAAAASUVORK5C\n",
       "YII=\n",
       "\" style=\"display:inline;vertical-align:middle;\" /></a> <a class=\"ProveItLink\" href=\"__pv_it/exprrange_reductions/aada234de3f57b1a5befbd68b39cbb01249a55840/proof.ipynb\" style=\"text-decoration: none\">&nbsp;&#x22A2;&nbsp;&nbsp;</a><a class=\"ProveItLink\" href=\"__pv_it/exprrange_reductions/0e6333657a573ff78b2363c334f028c304ab358b0/expr.ipynb\"><img src=\"data:image/png;base64,iVBORw0KGgoAAAANSUhEUgAAALQAAAAVBAMAAAAdo9lKAAAAMFBMVEX///8AAAAAAAAAAAAAAAAA\n",
       "AAAAAAAAAAAAAAAAAAAAAAAAAAAAAAAAAAAAAAAAAAAv3aB7AAAAD3RSTlMAInZUiRDNmWbv3US7\n",
       "qzJazP2FAAAACXBIWXMAAA7EAAAOxAGVKw4bAAACSElEQVQ4y5WVP2gUQRTGv9u9SfZ2L8tiJSHg\n",
       "io2NmCIKsckituKawkq5awQLxUNCTkKKq7RQ8IpYiEUOVISI5rATmzOtzWnhP5CkTmMimCZgfLM3\n",
       "u5k/ty73wc69Hb75zeybN3MAAqjS37lKGFHJAGta6307xHliVLQXUjNDz3Ys5mre3ILVMox2BPgv\n",
       "IJkKdRJgdbCvtwV6CuV94LrhuwJcW/wD2VSksRjjfI2nBfoT8AS4b/ju8sSl6IGpSE4DFUjo1Rib\n",
       "ASqx7mvL6IGpUI9xVkb/ADa3MKYn267L6IGpUDewIKNJ60C5r7nGIxk9MOUUxqnL5zf8Cx8pvEhw\n",
       "Be3/pjTxRWJpjet1siUtFc1Nw1WufkbtAWYpvIdnKtqlFdttbYA7raLdfh76vdvDsRCPKJzFUxW9\n",
       "zBe1ow2odFX0cm6C41oXczEWKfyloR2+Hq/9f7TTz9+8OXDuCkXvtITMoBTA7mi51hKSmHL0BXgO\n",
       "b5cB57CRojndj2DFcHqavxoKNENqYkOSwZsVsH1M1I8CD6lGSJcCsD36nWw2l0StKfvOM1DeBWr1\n",
       "1JREvEnGZUHpL5wdVCMiLGCbOn6u3mphjWZdPzggg9vV0D5laOL73je4/IpKTEnkNqh5mQYc4HVg\n",
       "NeDdoYS9gpseLDurkknjW9+kwRmYEQxAcj92+DUivlq5jFRlF9ZhqiLzuKgnmI7ZBxHPZ/P1jFFV\n",
       "UREsTHsOo0zzytsUPVdFHOocSUzMZmU9llkh6mR8xSV9/uNDyvXIqH9gVoB/u26P4ak/dsAAAAAA\n",
       "SUVORK5CYII=\n",
       "\" style=\"display:inline;vertical-align:middle;\" /></a></span>"
      ],
      "text/plain": [
       "{m = 2} |- (1, 2) = (1, 2, ..., m)"
      ]
     },
     "metadata": {},
     "output_type": "display_data"
    }
   ],
   "source": [
    "Equals(m, two).sub_left_side_into(eq.inner_expr().rhs[0].end_index)"
   ]
  },
  {
   "cell_type": "markdown",
   "metadata": {},
   "source": [
    "Now we will apply `double_nested_lambda1` to $(a, b, c, d)$ and demonstrate the expansion of nested **ExprRanges**."
   ]
  },
  {
   "cell_type": "code",
   "execution_count": 86,
   "metadata": {},
   "outputs": [
    {
     "data": {
      "text/html": [
       "<a class=\"ProveItLink\" href=\"__pv_it/exprrange_reductions/b02bf20242e82a8157828e6a06a6977bd3e45c5e0/expr.ipynb\"><img src=\"data:image/png;base64,iVBORw0KGgoAAAANSUhEUgAAB+0AAAAXCAMAAAD5oS1BAAAANlBMVEX///8AAAAAAAAAAAAAAAAA\n",
       "AAAAAAAAAAAAAAAAAAAAAAAAAAAAAAAAAAAAAAAAAAAAAAAAAABHL6OuAAAAEXRSTlMAInZUiRDN\n",
       "mWbv3US7qzLz6SJmQj4AAAAJcEhZcwAADsQAAA7EAZUrDhsAAAqcSURBVHja7V3boquqDvV+13P6\n",
       "/z+71U5awIQkGKrduzwsZpeRMchIgrfWLFtbnv3ar6m0PMY4j9lZn1R+B5/cYFyuJD/ZvlK2K8a6\n",
       "vdjfLz23thblb5X6NZ02FnxbE3d+fxGpi+HFLWnaGs4B7j/ZvlK22Oy8ReG4FZl7SU9EgunL6rdI\n",
       "/ZpaRHdcSxN3fr8MNbwDukGFFAGft20zLal9Imiku3R0RLm7soXcE82QLxsKf1PZztA6J1tsdpLt\n",
       "bBxKcpQ6rz3t3aQZ+9lC7PZ181uifk2vNcykN3Hn9vXcNg9oBHSDEikCPp/Wf6rHmNYngkbw1dMR\n",
       "4e7KhrvnFEOubCj8TWU7R+uMbDKe7NVBIw65YtOLvYJ3k0n/+ULs9G2X/dqvqbWu5dmZuPP7rMDK\n",
       "RhFfTw6kxg6hg6DM+32vvteBH8U5J+WrpyOipytb0D3xDLmyofC6ssl1k/JNLhu3HbKSPpc8G4eC\n",
       "HA03De8mk/7zhdjp++zXfk2x9XDWF94jKj3SJ1ntD6RK/84cAd/v/zs/chX4UnxfUMpXUUdYT1e2\n",
       "oHtOMGTKhsLryibXTco3uWzsUfwwS7/aC3KUGEfDu6mkv6AQW335u5D/a6qteR3DOglTukfLJu78\n",
       "PtFq33ThXKTg52H/97GowJ9f7Rnu0tKxgc5JPNmC7jnBkCkbCq8r2/mSz3FXStnYvA9Z+YHVnp+j\n",
       "xLm9hndTSX9BIbb69u/Rgboo5nqpKsZjgwJTXhMNKDG+lukFaIn4iYatZvPX4Py/+8nEnd9HrPYc\n",
       "dm9ScC4y4LcpPCJ948GfX+0pvuNKKq+KqYiX03D2XYfIhrgH96iubDg8skED/oRsCK2QbgqycZsn\n",
       "75vVCj+N2irLxOaQOZOraaUn2StkLhIJa28W/vXMq5iLrB0YocA3ZcaWZECJ8bVML0BLxE80bNfA\n",
       "63s5EQeesas9h13XhHORAZ9ly6OI9I0Hf361p/hW2bSSymrwciZPTsO5a5hnkKB7cI/qyobDIxs0\n",
       "4E/IhtAK6aYgW+Rp4YtVty5PZa+tskxsDpkzuZpWepK9QuYikbD2w/MwoVvH7la9Zvr6j8CU10QD\n",
       "SoyvZXoBWiJ+smHfIezFZDFZ9eAv7g69fLVnsfPzys9FBvxqNMf6xoM/v9oTfMcxG7aDqxy6nMmU\n",
       "03AGC+pRNtg9uEeVZcPh4Q0q8Cdkg2mFdNOQjdtced+stul0D22VRWKzyJzJ1aTSk+w1MheJhLXv\n",
       "nxcTtqFbczhT2wc2tX+Ug5rWVTXPETdvcGzC2AU87onaajCNHSPSL+B1naA00A5xnEki3lG1+et/\n",
       "/x+c9rC+FfMXd4feLRv1o4HribWBFbpvUu1Ope/3bvbpBOCzdgI28LLhBQ+jB6+rxPCt1z83i/K1\n",
       "keUwUMe366wxjrLB7sE9ykpkvmw4PLyBVRso+BOywbRCujGLT1C2ULPNXHldVu9KwMhOSQ3jic0i\n",
       "w8hVojwmkp5kf4wAiTeDkbD2Vvz1f0cjS1G8z8qcD2HTdp9p3MoGDkgZO4DInqCtBtMzY8jRQDWD\n",
       "0iCX1WI59+xj2xE7tx8b6zYVb7XPhhY5exhaMnzsDyNxqM6A7+xMd+DpbBi1z+1JvuWe4nMjcRis\n",
       "o8X9PcZRNtw9uG5kIvNlQ+FxXnRtGLVP8Gi+Yd0YxScoW/iEvkWz88nqudD0lTA7uTWMKzaDDJ2r\n",
       "VHlMJj3J/hAB/AmEI2Ht39eWxu1OQb1LVtqBVB6jCjbdjknyuCchMeywsQcI7QnbajA9MUaUX8CI\n",
       "GmR7xHMmiMCkXHaL84sVelfyWaHre0p+JX//Jaw8Z6M7vvbgk1/JN9Xi0WV1bL6ZDaDBQTbcPbhu\n",
       "dCKzZUPhA7zo2kDBx8uG0grqxik+QdniruQbVkP1x6GOUpkqF1yxaTKsXA2Xx2TSk+zZmcstxFb/\n",
       "fPavnsZs3g4BqgwtmX8IuGlXv5zFYkMP2HbrsV+LGluAzp6k7fuDhGhowCPT6Aaj7QBzVnT2T0KG\n",
       "pIH2kM2bTcSe/fppglf7xsk+88yp34tXe07o2qTgXCThl334omaju/ExKa/2JN/9tGG7HFjxHQbr\n",
       "6LsOlA1xD86Qlchs2VB4bAOnNtDw0bLh7kJ14xUfQjZu8+XdWT0vMa+LUd7FqRysYXyxSTKcXA2X\n",
       "x4TSk+yZmcsvxFb/fDy/fCx1u44zlmjJNHcPQqYrj8G2Df1BD1h3Y786o89xYwPorn0M278PRzah\n",
       "P9ABIaahKYvRDMC8PZPJkgbZw5+3BhF79pn9LSPn+yXe9+2Br4eYLdjPYsAbGKGbeV99AnKRgs+H\n",
       "dmuDBN0KOA/eQw9FSizfvWgVTdYtbMqIji30896ebJh7cIacRGbLhsKjGxi1gYYPpXoc34BurOJD\n",
       "yBaqREF5d1bPZ8qmKquiVA7XMIHYFBlOrobLY0rpSfa8zBUUYqtfnstzWxRrPe7KDC+Zw/O1ByHT\n",
       "16sRBvOKhNcth+Mf5IB5XWwOfB4zwsbOuxheezJszYcX0RBTY4QOCDGFp9zGoRmAxQ3DgDTIHod5\n",
       "KxBxZr/uBn8FtnKDdxngfp77RwM9c4pt4ITukZSfixT88NhbI0G3As6DP1zlC0RKHN/xmdZzV/Id\n",
       "hugI6unJhrkHZ8hKZK5sKDy6gVMbaPhQdYviG9CNV3wI2UKVKCDvk9XzpHFsizxKZaKGscUmyXBy\n",
       "lSiP6aQn2TMzV1CI7X5YQvdS7A9lnRGm+es7ViXnUjE54PbFQ/OMQQm/rKQG7wCRtq8P8USdAUmm\n",
       "kmtA4I+5rQBLn7lf4glKA+4hmjebiD37nHm/0MSd359scOgeSB0uzOnAI9mQn70JmIpvIN8MZ0RP\n",
       "ZdngRP6UbEhtoOGvkw0rPoRs3KYsL6eGfUxsTnm8s/TCQuz00OsT4JJZUcUib1/PRrBe7kcO2G9H\n",
       "Lu3+xQPQ2AJ09iRt3x/iiToDUkwlDdx/Ayim7UJPtvCkgfaQzZtNxJ499+UP4EsbUq32B1KHd1bo\n",
       "wCPZ4MMrvBVHyV14vhHvRdGVDUnkT8mG1AYa/jLZ0OIjf53NB+Rl1bBPic0qjzeWXlqI3X7KkQpQ\n",
       "u4/x1AVeLHbTfFqWpa1xW//CBDngYz8kKhfE2AB6RGnbN9N4ou6ABFNJg9Eef0du3bR9UYQhDbSH\n",
       "bN5sIvbsc/bDQSbu/F5j8fL8wyGlAg9nQz5l+m1SeqUKkm+GM8pdUzYkkT8lG1IbbiwbWnxI2WKz\n",
       "U4N0sIZ9LEc55fHWGSsrxF5f+zPLq+ZR7ZcJyveH9TgCgrRN+/12SYbZHho54Lg9flBUHWZsAD2i\n",
       "tO2baTRRd0CKqaSB++8A21Pt+bw9a8qQBtpDNm82EXv2/JA2cef3p1IADl0OKQV4LBumFO86q1UK\n",
       "EppvZLXXlA1J5A/JhtWGG8uGFh+1RVpTXlYN+5TYrPJ4Y+mlhdjvc7T0C16uov6emDKV8bVMrwMt\n",
       "P0GkEKSJiTu/V6fFI6UJX8b6JJO7L6mOAe7/Qtki4L9OttjsTFw6LhD726UXRQI9pZH/uNmo/Ruy\n",
       "ogElxtcyvQ40Ec1LZn93Wjd1yv0pX8zi+3T7wki7J/dvdqTOBLokpgkG7LJvYXodaHcXIjf1z3/A\n",
       "Kfen3P2c8K+PtHty/2ZHsifwD70NpwHLIO3+AAAAAElFTkSuQmCC\n",
       "\" style=\"display:inline;vertical-align:middle;\" /></a>"
      ],
      "text/plain": [
       "(x_{1, 1}, x_{1, 2}, ..., x_{1, n}, x_{2, 1}, x_{2, 2}, ..., x_{2, n}, ......, x_{m, 1}, x_{m, 2}, ..., x_{m, n}) -> (((1 * 1 * x_{1, 1}) +  (1 * 2 * x_{1, 2}) +  ... +  (1 * n * x_{1, n})) *  ((2 * 1 * x_{2, 1}) +  (2 * 2 * x_{2, 2}) +  ... +  (2 * n * x_{2, n})) *  ... *  ((m * 1 * x_{m, 1}) +  (m * 2 * x_{m, 2}) +  ... +  (m * n * x_{m, n})))"
      ]
     },
     "metadata": {},
     "output_type": "display_data"
    }
   ],
   "source": [
    "double_nested_lambda1"
   ]
  },
  {
   "cell_type": "code",
   "execution_count": 87,
   "metadata": {},
   "outputs": [
    {
     "data": {
      "text/html": [
       "<a class=\"ProveItLink\" href=\"__pv_it/exprrange_reductions/c2fb0b16847adf773dccfa907eb9489c81fc8bfb0/expr.ipynb\"><img src=\"data:image/png;base64,iVBORw0KGgoAAAANSUhEUgAAAZEAAAAVBAMAAAB1Wc4eAAAAMFBMVEX///8AAAAAAAAAAAAAAAAA\n",
       "AAAAAAAAAAAAAAAAAAAAAAAAAAAAAAAAAAAAAAAAAAAv3aB7AAAAD3RSTlMAInZUiRDNmWbv3US7\n",
       "qzJazP2FAAAACXBIWXMAAA7EAAAOxAGVKw4bAAADw0lEQVRYw42XS2gTURSG/2kS00yTNHYjFIX4\n",
       "Alc1ihR0FVyJYJuVICjJRlRQzKIYKYLBhW58VEFQFFqoUqioxZWujN258Y0vECu46kattAiC8Uzu\n",
       "Y+5jMjMH/szc2znnu+fMnXtvARTAFGZOrC7N7LAxQE6XQLFAPSWmUOsrWl0bI1wecUmLAwrgRI5N\n",
       "gnZwLVaUv2oNz7aY/okykL+rVLNxfEHcp55P0QiaTNI4aM2pFyEgi2O6qByy/LG6AKVqHaU+nPRj\n",
       "ag1mq8yO/cChU8t+ey2Sf/2n6/RzmEsEZSCnhdG57iCLY7poHLL+kgClm0zYqsbYagbsrfObx/x6\n",
       "2nvxSiavgZtqeOACFzcOyhWQmegOsjimi8Yhe1oRoAyYIjLBdX7dzq8TRiaTFXwtKOEpaoWJGwdl\n",
       "lpH7FQIyOaaLxiHbK0HD1BqOkclRnZCoGZl8Br4uKOFpojSZuHFQbgq5fyEgg2O5aByyIxI0Rq2x\n",
       "0EzW7R6g3306IV02MiF7KO9ObHgLJF8xcZMguD+DQckNly1OgIvCcd4N/Zago6IO3TLpu4qX1Dqv\n",
       "EzrF1jPJL8mvdKVSLaCXXpsnpdis4D+KgSBnGmcsToCLz8GTQnYZAjRNHdNhmRxoYpwuO3WCW7Iy\n",
       "cWX9E8vIFJGgTynhf9wShPvBILeMaxYnwMXnpG4gXYMA3aKeW37Mag1G4yxwx6uK1zE+O3tzdtYL\n",
       "m5mTmaRWWNwzskHh+8vI04zwxB+QoHSrC6hza3ACXBTOTy99ATIyceswGreR8hbwJ3qtlEwww9bP\n",
       "V7JB4Z+W0Eel6puQD0jQJXQDwebYLgon00J1DgIUNbtSS+j1CrsranbtgFPwtxMqcII2ek/G7KLD\n",
       "weouINgc20XhVIu4AgjQPN3Oh2XyG7naNuCiTsgWjUzyZfQIp/4FmsHobTFxE6DvwObA7+QPVdbi\n",
       "WC4qp1rC+0RBgPaJFXZU3W+Uxjx21etiNZSEzvKaVLa4wUZjXNznmtk6W6g7izUzDnJmGo2pQBDN\n",
       "/xGLY7monGwxMZOWoEXvGEf6MnnC38XUxqFN397QVnRPJ+QpdO7Tykd/kW+3V+R7fOedZdw5JnFW\n",
       "ZHLb7XYtEJTcc65icSwXjfNmZN2QBLk0SncBUeZMGYQHkS6DXGLxjAWyODHGxkHekU0e27pbummc\n",
       "7C5EupzmUs6G0SCLE2NsAvSMK9zWmh3ZyH8zW0zSYoEsTrSLBB3kCjcrXqoV4eGlqqUbC2SPO9JF\n",
       "gpwiU6j12G9gIMJlPZdfuxigAE7k2DjoPwgbP2ve1KrYAAAAAElFTkSuQmCC\n",
       "\" style=\"display:inline;vertical-align:middle;\" /></a>"
      ],
      "text/plain": [
       "((1 * 1 * a) + (1 * 2 * b)) * ((2 * 1 * c) + (2 * 2 * d))"
      ]
     },
     "metadata": {},
     "output_type": "display_data"
    }
   ],
   "source": [
    "requirements=[]\n",
    "double_nested_lambda1.apply(*abcd.entries, requirements=requirements)"
   ]
  },
  {
   "cell_type": "markdown",
   "metadata": {},
   "source": [
    "Note in the requirements below that we need indices to match, (1,2)=(1,…,𝑛)\n",
    "and (1,2)=(1,…,𝑚) in order to perform this parameter-dependent expansion."
   ]
  },
  {
   "cell_type": "code",
   "execution_count": 88,
   "metadata": {},
   "outputs": [
    {
     "data": {
      "text/html": [
       "<a class=\"ProveItLink\" href=\"__pv_it/exprrange_reductions/176a7b0d79d8a2d9a762add10c86a8015513381b0/expr.ipynb\"><img src=\"data:image/png;base64,iVBORw0KGgoAAAANSUhEUgAACKsAAAAVBAMAAABxxeJqAAAAMFBMVEX///8AAAAAAAAAAAAAAAAA\n",
       "AAAAAAAAAAAAAAAAAAAAAAAAAAAAAAAAAAAAAAAAAAAv3aB7AAAAD3RSTlMAInZUiRDNmWbv3US7\n",
       "qzJazP2FAAAACXBIWXMAAA7EAAAOxAGVKw4bAAAOwElEQVR42sVcbYhcVxl+Z3bufn+MQVTClk4a\n",
       "q/nRbldIAglCh1pQ3G479kdA2LKrEtxCi4uEJJRilwqJYK2rNFKbQBZSDWxbu4Rqif7obmyVfmka\n",
       "a62i7QiFYlGStia0FBLP93nPue8599yBHU+Zzd0778dznvc575x7704BoM7+46MCxaOOftpRsf9U\n",
       "6LeAzlCPZ6tA1KG+oblS6IhHrxSFq3QQFLNcd8LUSe8AD5Vw+koCxNKFs24Vx6Iew14vjb1eDLIj\n",
       "0tX5egfKSKWo3gHWUkXZeACYpeokTIkzWxO8TomfU97Z2qoJ4AcZaqBfttLhgmMrxBwY8I3M5UQr\n",
       "GjksxXiKU5BBhZNynML056xP4drYMRWsVSrsTgpn3WR4DWsKIth9nRVjP1VIX2ekq9ABSvXYefwn\n",
       "Lzz+cChyz50f3rXy/GIZfW4ttaQLirLxADBL21W1epro3ZlHCJfROxeqi+G2wgPw1+jP9Pl3WgDb\n",
       "0LSa6pzogwfuakN1MUqDE0wWHTkw4J/c/4dwLpGhRC5rL8e2Emxuz52h5o6HgL6tZFCDa1u+rWDr\n",
       "7PllzRXdVnStkHkBbKOIxMKROhJu2/JtZXuazijsNgOXiqcPf3qlSCewe5RqLetx3RvQC3PBhvVy\n",
       "G+Z6KW2HKM0bxTviYsH7Gw0AsZTNqWrtcd7+JuUzNgl7w21lj3zdsf+iquZfvsVo77XU79Hn+BiH\n",
       "2kcgw4UGDqaHdWDAK2tw22owl8yQnsvay9HbSu4qma8lCo+7uxTQoymygEB7TWTcVlzr3gXNFd1W\n",
       "9riQhHkBbK2INDIDOtqreXXaij/TkM5I7DqDlMpeij49vZKkE9gxpVbLehxgPasW2u1A3wJbcF+g\n",
       "tB2ilDCKjr3xtzcegGWpb1FV66Dz7vuUyzMtOBxuKwfVq2o6wQ2M9v4FY3ZQn+PjFYCfggwXGm4w\n",
       "OawDAz5Sh4GlYC6ZIT2XtZcDRSsafflGT80dDQk9mqIv8OHDnaQjbiuu9dik5opuKwddSGOTxbC1\n",
       "IhILR+vosObVaSv+TEM6I7GbDEIqhyn69PRKkk5gdym9wWsrr0C2NhMMzbLPZGuUtkOUEkbRcTj+\n",
       "9sYDsCwN6GotORegFymXLzPzVrCtLKmX21bgiDFbwqU43oI36zJcaCwRbcU6MOADF2Hk3WAumSE9\n",
       "l7VX40hyWxkAsq34c8ceEvqRckEtriN+WxnwF6biim4rSy6kZ1qFsI0iEgtH62hAh3faykCizijs\n",
       "NoOQiqMPf3rlSKewu5RqLVdfWPk5/7cFfe038jGvW1nhe6AM4DsjbUrbIUoJo7gMA0XpGgDL0k5V\n",
       "rR5nI1pbplzYrrB3MdRWeAARxGsr8+ZCbQ6X4m8Ab7ZluNAV+hzRVqwDAz6yDCOXg7lkhvRc1l6N\n",
       "+eS2sjPQVry5408OCX2+XFCLa95vKzv9ham4ItuKqRU2j8M2ikgsHK0j4Tbvt5WdiTqjsNsMQiqO\n",
       "PvzplSOdwu5SqrQ89HWzHv8zmt8K/epac/fn7NuktgOUUkbREShK9wBYlvapavXxm2BX3bRJvXnu\n",
       "erVxrF3zoLowfXWC7QprZ0NthQcQQby2Mm32l01v4/ikChfajzrBTv3549c1sMM+8XPwQiQXz1Ai\n",
       "l7Yfuv4rN53B0QrHPuU0evOL4bmLGbx1i1nmHPp0maAY17TfVvaJEm1pyFN3X/MnNWGyrZhaATIP\n",
       "0+gqIpVMxwuXb9pvK6KUN21rF+mMwm5xCan4+vCml0J6DLtLqdLyJ6yknxtuuXpl87G3LIZbz5Ha\n",
       "DlBKGdEjtziw1roGQORTLM2ravEuM/Qj+KOkZXZvJq8uKifgXul5uj7MEvTP6XLfs8LHE0bXppl7\n",
       "beWQ20ttWxl9T4WL9V4TrPlyg0OyDvIz53wjkotnKJFL29eGz8FsHUUrHPPK6fuwKzx3PoMPVnvM\n",
       "/p1DP1QmKMZ1yG8r86ZEfLt7qcUMxYRlyxe1WjkLqNjos0maB2l0FZFKpuuFy3fIbysc++bJvjVS\n",
       "ZwXYLS4hFV8f3vRSSI9ht5QiLX8NPTm5H1y9Mqz2wmF7f4PUNqYULSvKiB65xYG11i0AMp9i6YSq\n",
       "1iDrzF9dhHuk2Y0t+LHs7k11kD0MfXz7uRTarfAA/OW3FbPQxJuorQyeVeECwwk2tPo4VC5jhxPi\n",
       "5xOxXINnS+XS9r8ZXIOr2yha4TihnBrwwyAeMYP3oF9vrwT0XWWCYly7/LZyQpZIbtx7LsJAQ06Y\n",
       "3K2YWgEyD9LoKiKVTMfLKd8uv63wUj6qIMR0RmG3uIRUfH1400shPYbdpVRpGT1yMsfaiZ8zwzzd\n",
       "9RcKTSllRI7c4nC01i0AMp9i6aiq1gDj6j5eXTH2A/xXHNynu0DfBd5iYPRCqK3wAPzlt5Xz5mbO\n",
       "qttW+C5o9ELk5g8OlmUfcXkgh6MC1Vos171QKpe2b82uck3ZaIXjqHHaH8SjZtCnhSegny8TFOM6\n",
       "77eVo6ZEPPYcjDXlhMm2YmoFyDxIo6uIVDIdL6d85/22wrFfTNAZhd3iElLx9OFPL4X0GHaXUqnl\n",
       "0UfYp/vj4sRW9lbm6BXgX/zDX8i0OjnFb+vmtB2ilDIiR25xOFrrHgCeT7GE28oxyNST6UdhSD5e\n",
       "O2ZSrAFTNQwtlW0rpwNtpZ+3vqGlxLYCPRdgZA47CAH8ACK5+k1zTctl7G8EeA1HS2kr3IkJ8aEw\n",
       "HjYDxvuAvi0goJ8uFRThOk20FVUiucd8ZlJOOKWtSPNgyVxFJJLpeeHynSbaysBags4o7BaXkIqn\n",
       "D396SaRHsA8RuxXzzJYdjYvHuMgJwD5xnqmsice0+QVLU0oZBW6S+4sDa61LAFQ+xRK6CMrsFv19\n",
       "9fGRmaupWbkX71kO3VsJXQTtDlwEbYdKXYZLuQjitI0ttpDDCXEtCx8L5xIZSuQy9mztfpChaCkX\n",
       "QdyJCfHdLIiHzYALvN5Sl+Ec+u5SQRGu3cRF0Ky5XBqb5NtMMWHy3op3ISHNgyVzFJFKpueFy7eb\n",
       "uAiabYR0VoDd4pIXQcv5yxk7vTTSI9gtpUjLJuVIm63ZWUevDKsJ+AbrONkF6vICUYqWFWVEj9zi\n",
       "wFrrEgCVT7F0RlVruAHZ++ztz4ld0mV+n4UffMB6jziYnYTXeurQvxbarbAA4iVwZJb2B8T+XRnI\n",
       "c/y30SZUWzJclodp7E0w1glvbDWRAwf+FsC1aleXzyUyCFOUK/9kX1i49g+xHV0NRYsNg+UhvtUb\n",
       "mfuUj8fEZzNgn8OvVRbFGQE9lCIQFOF6QK0y83cUZ3SJuO9YO3sY5ITJ3YqplVp33LwVLJkYRhGJ\n",
       "hfO8cPkekLAy01YY9rFFgNWsQGcUdpNB3bJ19IGmV4J0FNmXnqY0w23lGu3x9tACfw6LnRgsjXV0\n",
       "4WnxjDuvbUQpHoRRgPHc4jBa6x4AlU+xNK2qxR8MnYHdCwvZJfbb6/B7EAfscupWcTDc6DnZp545\n",
       "kW3FPn97l4lD7P9uq6tHdiKCfH7FzonfNh84cI8Kx43FOeFlfnODXd2Gz/S3rQMHXjl54MCysKVy\n",
       "iQzC1OYSb5pcNqljX7kM1bkHUTQXlzmw700LJ7bVG242fTwmPpsB+xx+tiZzcOjRFPmgGNc+ucrk\n",
       "ZFeltSwR9x1ZHF5Q5JJtxdRKfdYw8yCNahhFJBbO88Ll2ydhzZqHPdPipketzc/EdEZhNxmEVFx9\n",
       "oOmRpBNCQA+feWRfeppSpG+AXr13eq63BeOfd5zY+IZ5ursXKr9dI7SNKHWWVd4or70cuzq71Fr3\n",
       "AKh8iqV3VLVGGd93fPqf59qwwtrPHV9kfY4f1L50f0scZOduvWqC7YtWQ22FB+Cvkb9eeh0G+feT\n",
       "/nH8bhblMW7BI/A35Tn+25NXrlxS4YTxSX6woH9oexvs1wzUd7EDAz545cqVOWFL5RIZhCnKJYxN\n",
       "rpM6mGM/tAzZ65MomsXleFr3d4RTdQGGvl338Zj4bAafBXh6izgjoQdTkEExrsfUKhM1WpXWskTc\n",
       "N3uV/9m1mDDZVnSt9Oc0Nw/RqIZRRFrhfC9cvsckLOEtpMQ1ePP3rpXQIzqjsJsMQiquPvD0KNIJ\n",
       "IVgvEdmXnqYU6ZvF//sv5fOQY3e+9PyHzzpOPM6LclNz+nfHXjp+rEloG1GKB2FkGLfQfXZ1dqm1\n",
       "7gFQ+RRLg21Vvl+Y2y+t4AFrWRBqKyKACbJDH1SWTYR8BhnOGoNjkQ+GHQbbuWhUrh2ua09+87sD\n",
       "aHsULTYcLBQeN36InOSgwkk6Tsnz8tZWOxd9M4Taiq7V6EtsrMdp/De3qZctHO0l3Cr6/sQOjcZg\n",
       "3xHXmYO9CBcLiqdXgnQc2ZOeodSZ+dAt8o/3Cb3y8dQLK3MJ2t6cA0QYBRiPF6VrACxL/ItXolrm\n",
       "i0a18IH6jhfdVg7jIGY/Jb+7VaMzqK+MNXNQXfsmEA7mG2M2GpWr6brWiD/lCdijaLHhYKHwuPFD\n",
       "5CQHFU7ScUqeF/Rb66Y7YbKtHIbcN8viNHZWOFI+IjyHZa5zDPZmXGcJ2A/S9HVGel56htJmkSTC\n",
       "I6pPZxBGAcbjRekaAMTSuqrWsL7LezsED/hXy4NthQfQQTJzT23cRshnkOGsMTgZ88Ech/UcuvGY\n",
       "r3S9PX+nrhHINQ60A+W+7mO3Edz4QXKSgwqncb3Kbjf0r/vR5YTptoJrlUJjZ4Wj5TOuYAlvKaV1\n",
       "ulh0W4lhp/TROek56RlKiZmTTtSI6tO9ZZozCjEeL0q3AGCWZvT/9EJHNY75A5WHbis8gA5SNe+t\n",
       "2wj5DDJcNT9zx77qz1OemMmhW4/5Stc8K1UI5FoH2oFyn/Gx2whu/CA5yUGF07peZQ1D/4wfXU6Y\n",
       "biu4Vik0dlY4Wj7rClbVSmmGLhbdVmLYKX10TnpOeobSarEkgiOqT7c/5YxCjMeL0i0AmKVKAybE\n",
       "mU1QPOQ9oAmfx7YJ4AepYqyb6HDBsQliDpXGhuaqlvlfg1ao7hPHU5yCDCqclOMEpj9nvQXXxo6J\n",
       "YK1SYXdSOOsmw2tYExDB7uusGPuWQvo6I12FDlDayUjS56ZSIbf8vwFYlv4HA8325+jh00EAAAAA\n",
       "SUVORK5CYII=\n",
       "\" style=\"display:inline;vertical-align:middle;\" /></a>"
      ],
      "text/plain": [
       "(|(a, b, c, d)| = |((1, 1), (1, 2), ..., (1, n), (2, 1), (2, 2), ..., (2, n), ......, (m, 1), (m, 2), ..., (m, n))|, |(a, b)| = |((_b, 1), (_b, 2), ..., (_b, n))|, |(c, d)| = |((_b, 1), (_b, 2), ..., (_b, n))|, 1 in Integer, n in Integer, (1, 2) = (1, 2, ..., n), m in Integer, (1, 2) = (1, 2, ..., m))"
      ]
     },
     "metadata": {},
     "output_type": "display_data"
    }
   ],
   "source": [
    "# remove duplicate requirements using an OrderedDict\n",
    "from collections import OrderedDict\n",
    "requirements = list(OrderedDict.fromkeys(requirements))\n",
    "requirements"
   ]
  },
  {
   "cell_type": "markdown",
   "metadata": {},
   "source": [
    "Now we will apply `double_nested_lambda2` to $(a, b, c, d)$ and demonstrate the expansion of nested **ExprRanges**."
   ]
  },
  {
   "cell_type": "code",
   "execution_count": 89,
   "metadata": {},
   "outputs": [
    {
     "data": {
      "text/html": [
       "<a class=\"ProveItLink\" href=\"__pv_it/exprrange_reductions/ca4b92d48445318395e06afbd1b73b19fe8a2d8d0/expr.ipynb\"><img src=\"data:image/png;base64,iVBORw0KGgoAAAANSUhEUgAAAXsAAAAVBAMAAABVmVOmAAAAMFBMVEX///8AAAAAAAAAAAAAAAAA\n",
       "AAAAAAAAAAAAAAAAAAAAAAAAAAAAAAAAAAAAAAAAAAAv3aB7AAAAD3RSTlMAInZUiRDNmWbv3US7\n",
       "qzJazP2FAAAACXBIWXMAAA7EAAAOxAGVKw4bAAADsklEQVRIx5WXTUhUURTHz3PmNTPPmfHlJhCF\n",
       "lxW00ilEyNXQKgJ1VkGgzGwig6RZiCMSOLTITR8WBJmCAxbSi0pa5crRXZsyk74gnKCVm/zAIRCa\n",
       "zr3zZt79eM0dDzjv3uv5n99/zrve9wQAE2qHVtcSF2ZdS6qKZj2Uhpgiq9GSlk4oJG+kFRXFA6I0\n",
       "Rild+LOVYFa5CYnTos4XB4g+Y1qXuV6ojPV3OSRnRUkXnyVTJAiRHBt97wnBiF5LE4qeAv3LDbcW\n",
       "NynHEXHhEsDg6L47bwX/gZudxo8rggIpXJZMkSAo0fLQv+gJwWiKEUqANKqT1XaKhYJpZ/DWuY6R\n",
       "W8vY/wgwzZYFmKzsCec2EAqXJVEkCEoiJoSmPCEYywlCCYHSPjxyrmed65Rgfy4BmyZTFqs6NXzO\n",
       "lg6JWTJFhKAktA+RHU8IxkVK6a7D/hBf2ZcS7H8H2CwwZXErZHn73WKWTBEgRBLJQeSvJwTjKqWM\n",
       "1LTfdr4ZP3v5yoG4YB/jdXU03P4JwL/G2x8RsziKv/2eBHEkxrYnRNvo2KOUoVr2Gx/AB5zd5ivT\n",
       "1vL2o7vVv7hiImlCMMXbHxKyOIo2DzcliCP5bXlBYMkMIx8p87XsX87COF7O8ZWNmGTfWKseqvsQ\n",
       "ssA3xdufF7I4ihGHhxLEkbz0hOiPIYANQsqMWyuZcgvrRTKcAHhKWkDG47Y9bdukXGixar+cBqR7\n",
       "zgTLNsUhSu55wLafP7FtAp1xs1hKeTJBhwKkLAnkGQkD2SbfmVAY+0aaKbxAPmZBJ2ftEt8Yxn45\n",
       "DYJr1QmWXY5Bo9D9GTeLo9DJbHk/CN2nkrvgShhIKA9JNIGUWptH34UgaWOPavN0gWa6xz5205fz\n",
       "2DxMlkABGUIl+Hg/6gVJWnCf/DoHq7Xs70EkdQbgDl85bAn2o3FoqIiaCrgxIZjn7a8KWRzyD/ZR\n",
       "glDJL4BTXpBkDD77TEKh51U/+zxgJqvQk05Xj71KZXoq+ndcRUsmM14ZR7LhtHO2MvZ7hSyOgnu6\n",
       "T4IQibaQyeS8IGHLtxCglC2c/Zgbdt+x2MngyZ/r+Kh4wVeOYsnIt+JX9zwulYrVO7ZBXimMRd7+\n",
       "lpDFUfwXbiUkCJEYpVIp5QlZ72vroBSjAKrQckLlV0pJC/D21RQJUoexFuZV6f8RyApvU5NKyZjw\n",
       "yqamSJA6jBHKijKrVVwIK/9By4srK4eGqCWUMqC0L9XR8wqF/P0GDg1RSyhFsxRZDXKvmxWS43Kn\n",
       "rENDlMaQ8g/ttx2fWpmVSwAAAABJRU5ErkJggg==\n",
       "\" style=\"display:inline;vertical-align:middle;\" /></a>"
      ],
      "text/plain": [
       "(1 * 1 * a) + (1 * 2 * b) + (2 * 1 * c) + (2 * 2 * d)"
      ]
     },
     "metadata": {},
     "output_type": "display_data"
    }
   ],
   "source": [
    "requirements=[]\n",
    "double_nested_lambda2.apply(*abcd.entries, requirements=requirements)"
   ]
  },
  {
   "cell_type": "markdown",
   "metadata": {},
   "source": [
    "Note in the requirements below that we need indices to match, $(1, 2) = (1, \\ldots, n)$ and $(1, 2) = (1, \\ldots, m)$ in order to perform this parameter-dependent expansion."
   ]
  },
  {
   "cell_type": "code",
   "execution_count": 90,
   "metadata": {},
   "outputs": [
    {
     "data": {
      "text/html": [
       "<a class=\"ProveItLink\" href=\"__pv_it/exprrange_reductions/176a7b0d79d8a2d9a762add10c86a8015513381b0/expr.ipynb\"><img src=\"data:image/png;base64,iVBORw0KGgoAAAANSUhEUgAACKsAAAAVBAMAAABxxeJqAAAAMFBMVEX///8AAAAAAAAAAAAAAAAA\n",
       "AAAAAAAAAAAAAAAAAAAAAAAAAAAAAAAAAAAAAAAAAAAv3aB7AAAAD3RSTlMAInZUiRDNmWbv3US7\n",
       "qzJazP2FAAAACXBIWXMAAA7EAAAOxAGVKw4bAAAOwElEQVR42sVcbYhcVxl+Z3bufn+MQVTClk4a\n",
       "q/nRbldIAglCh1pQ3G479kdA2LKrEtxCi4uEJJRilwqJYK2rNFKbQBZSDWxbu4Rqif7obmyVfmka\n",
       "a62i7QiFYlGStia0FBLP93nPue8599yBHU+Zzd0778dznvc575x7704BoM7+46MCxaOOftpRsf9U\n",
       "6LeAzlCPZ6tA1KG+oblS6IhHrxSFq3QQFLNcd8LUSe8AD5Vw+koCxNKFs24Vx6Iew14vjb1eDLIj\n",
       "0tX5egfKSKWo3gHWUkXZeACYpeokTIkzWxO8TomfU97Z2qoJ4AcZaqBfttLhgmMrxBwY8I3M5UQr\n",
       "GjksxXiKU5BBhZNynML056xP4drYMRWsVSrsTgpn3WR4DWsKIth9nRVjP1VIX2ekq9ABSvXYefwn\n",
       "Lzz+cChyz50f3rXy/GIZfW4ttaQLirLxADBL21W1epro3ZlHCJfROxeqi+G2wgPw1+jP9Pl3WgDb\n",
       "0LSa6pzogwfuakN1MUqDE0wWHTkw4J/c/4dwLpGhRC5rL8e2Emxuz52h5o6HgL6tZFCDa1u+rWDr\n",
       "7PllzRXdVnStkHkBbKOIxMKROhJu2/JtZXuazijsNgOXiqcPf3qlSCewe5RqLetx3RvQC3PBhvVy\n",
       "G+Z6KW2HKM0bxTviYsH7Gw0AsZTNqWrtcd7+JuUzNgl7w21lj3zdsf+iquZfvsVo77XU79Hn+BiH\n",
       "2kcgw4UGDqaHdWDAK2tw22owl8yQnsvay9HbSu4qma8lCo+7uxTQoymygEB7TWTcVlzr3gXNFd1W\n",
       "9riQhHkBbK2INDIDOtqreXXaij/TkM5I7DqDlMpeij49vZKkE9gxpVbLehxgPasW2u1A3wJbcF+g\n",
       "tB2ilDCKjr3xtzcegGWpb1FV66Dz7vuUyzMtOBxuKwfVq2o6wQ2M9v4FY3ZQn+PjFYCfggwXGm4w\n",
       "OawDAz5Sh4GlYC6ZIT2XtZcDRSsafflGT80dDQk9mqIv8OHDnaQjbiuu9dik5opuKwddSGOTxbC1\n",
       "IhILR+vosObVaSv+TEM6I7GbDEIqhyn69PRKkk5gdym9wWsrr0C2NhMMzbLPZGuUtkOUEkbRcTj+\n",
       "9sYDsCwN6GotORegFymXLzPzVrCtLKmX21bgiDFbwqU43oI36zJcaCwRbcU6MOADF2Hk3WAumSE9\n",
       "l7VX40hyWxkAsq34c8ceEvqRckEtriN+WxnwF6biim4rSy6kZ1qFsI0iEgtH62hAh3faykCizijs\n",
       "NoOQiqMPf3rlSKewu5RqLVdfWPk5/7cFfe038jGvW1nhe6AM4DsjbUrbIUoJo7gMA0XpGgDL0k5V\n",
       "rR5nI1pbplzYrrB3MdRWeAARxGsr8+ZCbQ6X4m8Ab7ZluNAV+hzRVqwDAz6yDCOXg7lkhvRc1l6N\n",
       "+eS2sjPQVry5408OCX2+XFCLa95vKzv9ham4ItuKqRU2j8M2ikgsHK0j4Tbvt5WdiTqjsNsMQiqO\n",
       "PvzplSOdwu5SqrQ89HWzHv8zmt8K/epac/fn7NuktgOUUkbREShK9wBYlvapavXxm2BX3bRJvXnu\n",
       "erVxrF3zoLowfXWC7QprZ0NthQcQQby2Mm32l01v4/ikChfajzrBTv3549c1sMM+8XPwQiQXz1Ai\n",
       "l7Yfuv4rN53B0QrHPuU0evOL4bmLGbx1i1nmHPp0maAY17TfVvaJEm1pyFN3X/MnNWGyrZhaATIP\n",
       "0+gqIpVMxwuXb9pvK6KUN21rF+mMwm5xCan4+vCml0J6DLtLqdLyJ6yknxtuuXpl87G3LIZbz5Ha\n",
       "DlBKGdEjtziw1roGQORTLM2ravEuM/Qj+KOkZXZvJq8uKifgXul5uj7MEvTP6XLfs8LHE0bXppl7\n",
       "beWQ20ttWxl9T4WL9V4TrPlyg0OyDvIz53wjkotnKJFL29eGz8FsHUUrHPPK6fuwKzx3PoMPVnvM\n",
       "/p1DP1QmKMZ1yG8r86ZEfLt7qcUMxYRlyxe1WjkLqNjos0maB2l0FZFKpuuFy3fIbysc++bJvjVS\n",
       "ZwXYLS4hFV8f3vRSSI9ht5QiLX8NPTm5H1y9Mqz2wmF7f4PUNqYULSvKiB65xYG11i0AMp9i6YSq\n",
       "1iDrzF9dhHuk2Y0t+LHs7k11kD0MfXz7uRTarfAA/OW3FbPQxJuorQyeVeECwwk2tPo4VC5jhxPi\n",
       "5xOxXINnS+XS9r8ZXIOr2yha4TihnBrwwyAeMYP3oF9vrwT0XWWCYly7/LZyQpZIbtx7LsJAQ06Y\n",
       "3K2YWgEyD9LoKiKVTMfLKd8uv63wUj6qIMR0RmG3uIRUfH1400shPYbdpVRpGT1yMsfaiZ8zwzzd\n",
       "9RcKTSllRI7c4nC01i0AMp9i6aiq1gDj6j5eXTH2A/xXHNynu0DfBd5iYPRCqK3wAPzlt5Xz5mbO\n",
       "qttW+C5o9ELk5g8OlmUfcXkgh6MC1Vos171QKpe2b82uck3ZaIXjqHHaH8SjZtCnhSegny8TFOM6\n",
       "77eVo6ZEPPYcjDXlhMm2YmoFyDxIo6uIVDIdL6d85/22wrFfTNAZhd3iElLx9OFPL4X0GHaXUqnl\n",
       "0UfYp/vj4sRW9lbm6BXgX/zDX8i0OjnFb+vmtB2ilDIiR25xOFrrHgCeT7GE28oxyNST6UdhSD5e\n",
       "O2ZSrAFTNQwtlW0rpwNtpZ+3vqGlxLYCPRdgZA47CAH8ACK5+k1zTctl7G8EeA1HS2kr3IkJ8aEw\n",
       "HjYDxvuAvi0goJ8uFRThOk20FVUiucd8ZlJOOKWtSPNgyVxFJJLpeeHynSbaysBags4o7BaXkIqn\n",
       "D396SaRHsA8RuxXzzJYdjYvHuMgJwD5xnqmsice0+QVLU0oZBW6S+4sDa61LAFQ+xRK6CMrsFv19\n",
       "9fGRmaupWbkX71kO3VsJXQTtDlwEbYdKXYZLuQjitI0ttpDDCXEtCx8L5xIZSuQy9mztfpChaCkX\n",
       "QdyJCfHdLIiHzYALvN5Sl+Ec+u5SQRGu3cRF0Ky5XBqb5NtMMWHy3op3ISHNgyVzFJFKpueFy7eb\n",
       "uAiabYR0VoDd4pIXQcv5yxk7vTTSI9gtpUjLJuVIm63ZWUevDKsJ+AbrONkF6vICUYqWFWVEj9zi\n",
       "wFrrEgCVT7F0RlVruAHZ++ztz4ld0mV+n4UffMB6jziYnYTXeurQvxbarbAA4iVwZJb2B8T+XRnI\n",
       "c/y30SZUWzJclodp7E0w1glvbDWRAwf+FsC1aleXzyUyCFOUK/9kX1i49g+xHV0NRYsNg+UhvtUb\n",
       "mfuUj8fEZzNgn8OvVRbFGQE9lCIQFOF6QK0y83cUZ3SJuO9YO3sY5ITJ3YqplVp33LwVLJkYRhGJ\n",
       "hfO8cPkekLAy01YY9rFFgNWsQGcUdpNB3bJ19IGmV4J0FNmXnqY0w23lGu3x9tACfw6LnRgsjXV0\n",
       "4WnxjDuvbUQpHoRRgPHc4jBa6x4AlU+xNK2qxR8MnYHdCwvZJfbb6/B7EAfscupWcTDc6DnZp545\n",
       "kW3FPn97l4lD7P9uq6tHdiKCfH7FzonfNh84cI8Kx43FOeFlfnODXd2Gz/S3rQMHXjl54MCysKVy\n",
       "iQzC1OYSb5pcNqljX7kM1bkHUTQXlzmw700LJ7bVG242fTwmPpsB+xx+tiZzcOjRFPmgGNc+ucrk\n",
       "ZFeltSwR9x1ZHF5Q5JJtxdRKfdYw8yCNahhFJBbO88Ll2ydhzZqHPdPipketzc/EdEZhNxmEVFx9\n",
       "oOmRpBNCQA+feWRfeppSpG+AXr13eq63BeOfd5zY+IZ5ursXKr9dI7SNKHWWVd4or70cuzq71Fr3\n",
       "AKh8iqV3VLVGGd93fPqf59qwwtrPHV9kfY4f1L50f0scZOduvWqC7YtWQ22FB+Cvkb9eeh0G+feT\n",
       "/nH8bhblMW7BI/A35Tn+25NXrlxS4YTxSX6woH9oexvs1wzUd7EDAz545cqVOWFL5RIZhCnKJYxN\n",
       "rpM6mGM/tAzZ65MomsXleFr3d4RTdQGGvl338Zj4bAafBXh6izgjoQdTkEExrsfUKhM1WpXWskTc\n",
       "N3uV/9m1mDDZVnSt9Oc0Nw/RqIZRRFrhfC9cvsckLOEtpMQ1ePP3rpXQIzqjsJsMQiquPvD0KNIJ\n",
       "IVgvEdmXnqYU6ZvF//sv5fOQY3e+9PyHzzpOPM6LclNz+nfHXjp+rEloG1GKB2FkGLfQfXZ1dqm1\n",
       "7gFQ+RRLg21Vvl+Y2y+t4AFrWRBqKyKACbJDH1SWTYR8BhnOGoNjkQ+GHQbbuWhUrh2ua09+87sD\n",
       "aHsULTYcLBQeN36InOSgwkk6Tsnz8tZWOxd9M4Taiq7V6EtsrMdp/De3qZctHO0l3Cr6/sQOjcZg\n",
       "3xHXmYO9CBcLiqdXgnQc2ZOeodSZ+dAt8o/3Cb3y8dQLK3MJ2t6cA0QYBRiPF6VrACxL/ItXolrm\n",
       "i0a18IH6jhfdVg7jIGY/Jb+7VaMzqK+MNXNQXfsmEA7mG2M2GpWr6brWiD/lCdijaLHhYKHwuPFD\n",
       "5CQHFU7ScUqeF/Rb66Y7YbKtHIbcN8viNHZWOFI+IjyHZa5zDPZmXGcJ2A/S9HVGel56htJmkSTC\n",
       "I6pPZxBGAcbjRekaAMTSuqrWsL7LezsED/hXy4NthQfQQTJzT23cRshnkOGsMTgZ88Ech/UcuvGY\n",
       "r3S9PX+nrhHINQ60A+W+7mO3Edz4QXKSgwqncb3Kbjf0r/vR5YTptoJrlUJjZ4Wj5TOuYAlvKaV1\n",
       "ulh0W4lhp/TROek56RlKiZmTTtSI6tO9ZZozCjEeL0q3AGCWZvT/9EJHNY75A5WHbis8gA5SNe+t\n",
       "2wj5DDJcNT9zx77qz1OemMmhW4/5Stc8K1UI5FoH2oFyn/Gx2whu/CA5yUGF07peZQ1D/4wfXU6Y\n",
       "biu4Vik0dlY4Wj7rClbVSmmGLhbdVmLYKX10TnpOeobSarEkgiOqT7c/5YxCjMeL0i0AmKVKAybE\n",
       "mU1QPOQ9oAmfx7YJ4AepYqyb6HDBsQliDpXGhuaqlvlfg1ao7hPHU5yCDCqclOMEpj9nvQXXxo6J\n",
       "YK1SYXdSOOsmw2tYExDB7uusGPuWQvo6I12FDlDayUjS56ZSIbf8vwFYlv4HA8325+jh00EAAAAA\n",
       "SUVORK5CYII=\n",
       "\" style=\"display:inline;vertical-align:middle;\" /></a>"
      ],
      "text/plain": [
       "(|(a, b, c, d)| = |((1, 1), (1, 2), ..., (1, n), (2, 1), (2, 2), ..., (2, n), ......, (m, 1), (m, 2), ..., (m, n))|, |(a, b)| = |((_b, 1), (_b, 2), ..., (_b, n))|, |(c, d)| = |((_b, 1), (_b, 2), ..., (_b, n))|, 1 in Integer, n in Integer, (1, 2) = (1, 2, ..., n), m in Integer, (1, 2) = (1, 2, ..., m))"
      ]
     },
     "metadata": {},
     "output_type": "display_data"
    }
   ],
   "source": [
    "# remove duplicate requirements using an OrderedDict\n",
    "from collections import OrderedDict\n",
    "requirements = list(OrderedDict.fromkeys(requirements))\n",
    "requirements"
   ]
  },
  {
   "cell_type": "markdown",
   "metadata": {},
   "source": [
    "Let's do one more example to test this capability"
   ]
  },
  {
   "cell_type": "code",
   "execution_count": 91,
   "metadata": {},
   "outputs": [
    {
     "data": {
      "text/html": [
       "<strong id=\"double_nested_operands\">double_nested_operands:</strong> <a class=\"ProveItLink\" href=\"__pv_it/exprrange_reductions/1f66ad8e726bebf359f09f37ffc2ca8caa7a0c720/expr.ipynb\"><img src=\"data:image/png;base64,iVBORw0KGgoAAAANSUhEUgAAA3sAAAAXBAMAAABAPUtsAAAAMFBMVEX///8AAAAAAAAAAAAAAAAA\n",
       "AAAAAAAAAAAAAAAAAAAAAAAAAAAAAAAAAAAAAAAAAAAv3aB7AAAAD3RSTlMAInZUiRDNmWbv3US7\n",
       "qzJazP2FAAAACXBIWXMAAA7EAAAOxAGVKw4bAAAGb0lEQVRo3u1aX4hUVRj/7p25zr+dcRJDkI2d\n",
       "1jQJl/ZBjXzIwSQiEG9i6sOa00PgQ+EQ5m7Rw4bUPmQ2/YNC0gURoT86GD5YiLNBT5VMC5YG4mBG\n",
       "KKGz0Uog7HTOufee8905370zuzO9zfew7vm+8/vd78893zn3uACQhZ50S4hcGoGDQFVruyEfZg73\n",
       "st4toXKZyqHBihZ2QlZQSgE6w39b28t614TnMnMCKW7ZAKvVMJIHY/SlmhwvO3DRZyeEQSjhIHMc\n",
       "wCr0st4t4bncfWBWjX/dx8q3yJaKHQD9EL0nW2AFtpaxnZAdtFqAXgSIjffS3i0RuTRnkeZRluV4\n",
       "UQ7HAH4G+NQbprOQKGE7IWO0WoAmABK9rHdNRC618sHHclgCOGbDNe+Ak5iF9Ay2E1IK0HNQwob1\n",
       "vax3TdbT5dsr9zHWXH8DuOZtfulJSM8hO7X1Be1tHLRoHPazf7YNPb9ZOzNZg5duPNmO0yQ6AN4h\n",
       "aTdgbbswf9R+unxbZHN1jiGn0YRkHdmpfswgZy4tXSOPp6mhZzd955JGq6KKRXM6NqkBYSj3ejuR\n",
       "kegAeIek3YC17cL8UXvp8r0tzxvinJH5G024k0N26ojCIPmfctaMp4j2TcOerAOKF+A4+5mNz6a1\n",
       "E8yb8J59uY3AaHQAvEPSbsDadWEBqON0+R6XS000hmQVTfgK2wlhkFT5SzDmPMW3yQoM1BxQpARH\n",
       "2OsAMd5hd4k2a3nvQg0OyKG1+Wrg6daHVuLAt2+5BNiIta1Jw2aE+eIXMq6m1tgyymAUkiOqfNZd\n",
       "Vb478mhT5j/fQPZYBdup01AZLOseRGY9jL2nDBttB5SpO49MsCWcGRRd5/ojEvqBHMYgrCUhNBYO\n",
       "LwLvONiotK1Jw2cEwppKSsbll3aiDELR5YOTqnznfOWLV5H9XcB2unwQqUO6IDEbAX5xQamSs+Av\n",
       "ZC0bIo7vG+QmOQPPucPFZbV6dcFodK/D4ffEQkdGpG1NGj4j2JemwxsZl19aRxmIat08N/ia51ow\n",
       "suhK5T6dpql58totHpdRsdr9azkgFhk7xYyUr0DUFyaba/2QLkHe5Y7bPDC9szAaP3ri8GARw99C\n",
       "5WvWClJL99iWpM5jFWmoINjY9SHzUI0on3KBcVZXX/QXIsShMNTY9YedTPBcUuU75LnXx9tUHkwZ\n",
       "yg2AlciuJ1dAEnnWLuXd2Uesk0YdULzCD6Ab/3gNvsZh8iYbmdtZSg3LVyM66bTePQVQv4gfGG29\n",
       "8wm874PDM14GdS0nlTR+dpeUz0Ckyq77gmC7zo0nqmZVL59ygXN+BkPN68h1SH9ECIo/LevEIb4A\n",
       "ojOoBFuz7veEYGMHfVg+OipPsMbJ0dFJZCcyzCHsXV8V995G9oaZhcMOiH1V3ALYORgZG/a9pZ/b\n",
       "YL2Se+ygCozfvTItJItuDxa/JE/40ca2Asz64M4FrjBqWk7KGZpI+WNcUvFYRaomqtkE7P5VsLgW\n",
       "yxOrT7rAOeec7zRcPs8h/yPCUfxpLuwW/xS/cledUK8ee5mdg78A170M8+R0o3FXdsZGo1FA9qao\n",
       "OCWHfAOw+6Bs4mwdXR52QMkyJKkmE7GbAjO+92s9Wde0w6RzbDvFE/ttadS0gnSdftGg5okZOil9\n",
       "P6Hs03CTbxp//cgkS8eVzmX4vp/hU6Z8UYY5RKKmxTGCw1QusRiTkuRUCzuR3FN0tAK0HF+oojCj\n",
       "zdvzMr7FRnWWfFP5ErVYsYYmGkWxTwujphWkeY0TPUbM0EhpQfajsAYGMqFxJWpmxajXiCjDHCJR\n",
       "R2E048Doy2fnPwUEyUQLO5HciZDbcX6dPYXCtNyzyjZf+baDcfH2qz6tt7vmwI8egOTvNTSx//af\n",
       "9nY3g81aQWrl9IsvVWY2gyANuC9TsDpbEYdioXENsJUUrxT1KEMdIlF1OPWEC5uiHOtXJH3ZcDuR\n",
       "3D76jyE4yOAfjSNe0E/9k8t8CEv3bQJQIfDhzeFEo1HHWk9MlTIHfR7Mp/HEY40Gg3OjrhWkpu6Z\n",
       "msdnEKS0KHuqCi/AAytD4zoPi7LGtK1HGeoQhWJPe2jchY1Qjk0pEqsSbieSS0IckKisgYERcm67\n",
       "d8c0OgDeIen8pB2Shf3RiA9lEO+YiZfPkhZ2QpZQSgF6UFOfJb9Y2725Ogvtwzsknae0QZKyF0K8\n",
       "MNT/JeR1b7wjdAC8Q9JuxLVAh7qA6pr8B7CsUVMvwqZNAAAAAElFTkSuQmCC\n",
       "\" style=\"display:inline;vertical-align:middle;\" /></a><br>"
      ],
      "text/plain": [
       "<IPython.core.display.HTML object>"
      ]
     },
     "metadata": {},
     "output_type": "display_data"
    }
   ],
   "source": [
    "double_nested_operands = ExprTuple(var_range(x, (one, one), (subtract(m, one), n)),\n",
    "                                   ExprRange(k, Mult(k, k), one, n))"
   ]
  },
  {
   "cell_type": "code",
   "execution_count": 92,
   "metadata": {},
   "outputs": [
    {
     "data": {
      "text/html": [
       "<strong id=\"defaults.assumptions\">defaults.assumptions:</strong> <a class=\"ProveItLink\" href=\"__pv_it/exprrange_reductions/fa50a80d3d9e1b325449837bbfacf6a0c49551f50/expr.ipynb\"><img src=\"data:image/png;base64,iVBORw0KGgoAAAANSUhEUgAAAJQAAAAZBAMAAAAlPBrhAAAAMFBMVEX///8AAAAAAAAAAAAAAAAA\n",
       "AAAAAAAAAAAAAAAAAAAAAAAAAAAAAAAAAAAAAAAAAAAv3aB7AAAAD3RSTlMAZkRUmRDNuyLviTJ2\n",
       "3asqG0tJAAAACXBIWXMAAA7EAAAOxAGVKw4bAAACD0lEQVQ4y62VPUgcQRTH/7d3c7e6dxexTTCL\n",
       "JJ3iNcFSG0m7VbBJbiFNiiArgRzxI1wVwSZbC4FLJQELi5AijVsETPxiC41pDhRRr0hABYmihW8m\n",
       "3uZ2nb3Zwgc77PB+/OfNm3lvAHRDYRmobZgP6WEVlksgNcOHJ7gNqZRHw3iM8+nf1xY+nZvtpQJq\n",
       "C9DdOOqVtgN2pIqqSW1QTmtx0J/qR8DF48qbSqULCgplC3fMOGjPyVbhq6JqUtkuLFkRX366/lP8\n",
       "NO7pdqzUDSrjYD3CaC+b2o3i4kqc1E0q7+KApn37s8ve13mx1XdBlA04OTMkpW2MLkxBTmmnqNC0\n",
       "9tZjx2ZanOUL/Ic+sy2/9bZ35n6jXJVTxgXGSNDchn6JFD942C1QqjQYuiq9BQfvF+WUfoJNgLET\n",
       "pE+R4X7jQ71e376GsF8MSVllE0OWnCKNMV6GR1yng98w5rSsh2fMD2V7CCK3MkoXG0TRRqGGgSpf\n",
       "0G+FDM8JSZHOMYOUMs5wSFOKh0I/0PmdXgugSfpWAymhMEeJ6ISUohP8Qb+UyvvAhICypSb0nB9e\n",
       "kN+yLTaRt+/KqZSLAdpVP/ANePBdrH748B/z5ZzWYoFUgUpf88F2S3Iqs4OOaA1q89clEbFH7Smq\n",
       "wfjOEDEFR53BcJMpMa+9v4d3iWRSeYX/V6LejqS9PV27DSnx4qjfwSQ2AlwBAlKvh6s2jHcAAAAA\n",
       "SUVORK5CYII=\n",
       "\" style=\"display:inline;vertical-align:middle;\" /></a><br>"
      ],
      "text/plain": [
       "<IPython.core.display.HTML object>"
      ]
     },
     "metadata": {},
     "output_type": "display_data"
    }
   ],
   "source": [
    "defaults.assumptions = [InSet(m, NaturalPos), InSet(n, Natural)]"
   ]
  },
  {
   "cell_type": "code",
   "execution_count": 93,
   "metadata": {},
   "outputs": [
    {
     "data": {
      "text/html": [
       "<span style=\"font-size:20px;\"><a class=\"ProveItLink\" href=\"__pv_it/exprrange_reductions/79a768603778550c651661670153c27ee0a505870/expr.ipynb\"><img src=\"data:image/png;base64,iVBORw0KGgoAAAANSUhEUgAAAEYAAAATBAMAAADfQ2bzAAAAMFBMVEX///8AAAAAAAAAAAAAAAAA\n",
       "AAAAAAAAAAAAAAAAAAAAAAAAAAAAAAAAAAAAAAAAAAAv3aB7AAAAD3RSTlMARHarECKJuzJmVO/d\n",
       "mc2qKiq2AAAACXBIWXMAAA7EAAAOxAGVKw4bAAABD0lEQVQoz2NgIAAuMBAGBZSoYTlf/oSBbf9G\n",
       "vOawLxBmYPDHbxfzUbYJDNwMvOXl28srcalZzvCUgQe7OUw1Z86B1UQqxOFQw/jIAWpOgAVTAlwN\n",
       "o7JrUhFHWiFYKs4BZlcAO0MhXA0buxGD/0SG1WCpp3D3BHBc8PGBhbMgTwFDvALDfLDUA4Qahllc\n",
       "1TCeg78Aw3oHhnsgNseeM2fOHIeqYXawhrtzPQNIwTZw8BYgmcNi4ANXY8fAcIyB8SsLiH0ASQ1D\n",
       "EztczTYGlo8MzA8iQWwleFw0AMOqHcZj/cHA+YGBPSEBxOFbABUFM+7Bg+0AA9MFBsZLAWAHmYuA\n",
       "BTnebweSftjjiTEdEhcoAAAiLj7xf6vyygAAAABJRU5ErkJggg==\n",
       "\" style=\"display:inline;vertical-align:middle;\" /></a> <a class=\"ProveItLink\" href=\"__pv_it/exprrange_reductions/c041979dc0129efcd95140db0412aadb785e6c7d0/proof.ipynb\" style=\"text-decoration: none\">&nbsp;&#x22A2;&nbsp;&nbsp;</a><a class=\"ProveItLink\" href=\"__pv_it/exprrange_reductions/7e2b01bd535fc86798ea8f21443a99460d2a18900/expr.ipynb\"><img src=\"data:image/png;base64,iVBORw0KGgoAAAANSUhEUgAAAL0AAAAuBAMAAACPCwXuAAAAMFBMVEX///8AAAAAAAAAAAAAAAAA\n",
       "AAAAAAAAAAAAAAAAAAAAAAAAAAAAAAAAAAAAAAAAAAAv3aB7AAAAD3RSTlMAInZUiRDNmWbv3US7\n",
       "qzJazP2FAAAACXBIWXMAAA7EAAAOxAGVKw4bAAAC+ElEQVRYw+2XT2jTUBzHv2matWmbEUFQZLB6\n",
       "ED0oepiD7bIgHpXGHTwNmouwizhENo89bQcVd5inHQxMGcw/lF1EPViLN1GG4DwJO+y0i50wEYTV\n",
       "99I0TfaS5v1E8OKDJC/t9/fN63svv9+nAEzQmkKTZ84R/YtlknyEHTu2f3Nk9mN6xCmKveZA+3LD\n",
       "91caqNRTQwZsgn+uxk5n/QjDhL6YGpKfIfjrCPnrezB202MeEPxHw/6GC2M/PWaa4H8r7M9aoZW0\n",
       "bc5cudAcvPiedS8T/KcP+H9L2n3Z0idU72CMdee9hVvz2kaK/8oB/2dJwteFBobLuM+6Y4TxL0f9\n",
       "c40koV2tY8LGLP+Nf+5/L1k5AW6+xHovCf7R+VEtHEpSbgKPUNzVgHHC/De7/t4jtoETEF9PjZ+W\n",
       "oP2C4RwF7hLG7+21igntB88Pq3NzrterOv4puFP2kW+hZFn+npZsO+z4+vB6DWts2IV2u+10ejwH\n",
       "eKdV3nnM9r+LzAyKN1k6f0LwL2x1pz6YFlWcoPORAuAS/INkle29SaLKElKidHvrXyeDTybF9Y28\n",
       "1EOk+jLlX3sWYobIxI5IspzSyh17GLVg/2//tJl/Rakk6eX5qq8yjrrWaXw1kpzE7FjqytQofKU5\n",
       "SV948XHUdY3CV33SDo+Po64FCl/p6OsfR126TeCr0RT/GOoaqMnzFVeGGEv0D6hr/fPh0+XtS2wh\n",
       "sxvyfMWVIcYS/eeDYvGhrP2sq2wh8448X3FliLFE/+5Ti/WnUL7zYg32DGm+4soQY+GqhyfPe/5d\n",
       "6tIYZqh7yLHtPNgi8NVyhLHE8QfUpba4uc5qanGRwFcrEcYS/ce7d4aDgoU3pg3VJfBVM8JYor9H\n",
       "XbzDRs7mcVOpId+Q5yuuDDFWpFVM/5+Epx7e4jvgHcOQnCXPV1wZYqxw8+I71MVjXwEngRfHWVyd\n",
       "wFeBMqEAuGLsMQpfpfxt7KS/aOxtEl/1554hMVZpkPhqSoIDI7Elk8RXfZVx1MVW+Dei/OUcBZSv\n",
       "SAAAAABJRU5ErkJggg==\n",
       "\" style=\"display:inline;vertical-align:middle;\" /></a></span>"
      ],
      "text/plain": [
       "{m in NaturalPos} |- (1, 2, ..., m) =  \\\\ (1, 2, ..., (m - 1), m)"
      ]
     },
     "metadata": {},
     "output_type": "display_data"
    }
   ],
   "source": [
    "ExprRange(k, k, one, m).partition(subtract(m, one))"
   ]
  },
  {
   "cell_type": "code",
   "execution_count": 94,
   "metadata": {},
   "outputs": [
    {
     "data": {
      "text/html": [
       "<span style=\"font-size:20px;\"><a class=\"ProveItLink\" href=\"../packages/proveit/numbers/number_sets/natural_numbers/__pv_it/theorems/1a8a7907b709bbd24c48a9933f16dbe96429f5cc0/expr.ipynb\"><img src=\"data:image/png;base64,iVBORw0KGgoAAAANSUhEUgAAADUAAAAQBAMAAABEqSrGAAAAMFBMVEX///8AAAAAAAAAAAAAAAAA\n",
       "AAAAAAAAAAAAAAAAAAAAAAAAAAAAAAAAAAAAAAAAAAAv3aB7AAAAD3RSTlMARHarECKJu90yVM1m\n",
       "75kejotwAAAACXBIWXMAAA7EAAAOxAGVKw4bAAAA5ElEQVQY02NgwAQe36sdGHL/CjBgA1WMBgws\n",
       "H7BKMVgE5DAwXMAuZ1XAHcDQgCqm3tGxAUSbHmLdgCYnrQJlmDJPUAPJMSq7JhWBRVi3wBSZMhSw\n",
       "CwDl2NiNGPwDQCLcAQi5eSwtQDlBjgKG+AlgOQaEHM+C5UB3OvgLMKx3AInM7QCCAogcgwkzyA/r\n",
       "GRiswardkfQxOLOA3AmU+MMCEuFAluNUAJlwjYHrCxtIhEkBJlcJxJpAOdafDEwbToKFdsHkQAw+\n",
       "YCgwNjCw2CwACzkXgt3EMPsvUA/LBtQwE6voQBYBAAF6MQMvLZecAAAAAElFTkSuQmCC\n",
       "\" style=\"display:inline;vertical-align:middle;\" /></a>, <a class=\"ProveItLink\" href=\"__pv_it/exprrange_reductions/79a768603778550c651661670153c27ee0a505870/expr.ipynb\"><img src=\"data:image/png;base64,iVBORw0KGgoAAAANSUhEUgAAAEYAAAATBAMAAADfQ2bzAAAAMFBMVEX///8AAAAAAAAAAAAAAAAA\n",
       "AAAAAAAAAAAAAAAAAAAAAAAAAAAAAAAAAAAAAAAAAAAv3aB7AAAAD3RSTlMARHarECKJuzJmVO/d\n",
       "mc2qKiq2AAAACXBIWXMAAA7EAAAOxAGVKw4bAAABD0lEQVQoz2NgIAAuMBAGBZSoYTlf/oSBbf9G\n",
       "vOawLxBmYPDHbxfzUbYJDNwMvOXl28srcalZzvCUgQe7OUw1Z86B1UQqxOFQw/jIAWpOgAVTAlwN\n",
       "o7JrUhFHWiFYKs4BZlcAO0MhXA0buxGD/0SG1WCpp3D3BHBc8PGBhbMgTwFDvALDfLDUA4Qahllc\n",
       "1TCeg78Aw3oHhnsgNseeM2fOHIeqYXawhrtzPQNIwTZw8BYgmcNi4ANXY8fAcIyB8SsLiH0ASQ1D\n",
       "EztczTYGlo8MzA8iQWwleFw0AMOqHcZj/cHA+YGBPSEBxOFbABUFM+7Bg+0AA9MFBsZLAWAHmYuA\n",
       "BTnebweSftjjiTEdEhcoAAAiLj7xf6vyygAAAABJRU5ErkJggg==\n",
       "\" style=\"display:inline;vertical-align:middle;\" /></a> <a class=\"ProveItLink\" href=\"__pv_it/exprrange_reductions/2f82be4818bd6b1d0d8ebee2a0641175d47bba170/proof.ipynb\" style=\"text-decoration: none\">&nbsp;&#x22A2;&nbsp;&nbsp;</a><a class=\"ProveItLink\" href=\"__pv_it/exprrange_reductions/f7bd803a0e958fe82e94395bcdd41f5e858074c30/expr.ipynb\"><img src=\"data:image/png;base64,iVBORw0KGgoAAAANSUhEUgAAAP0AAAAVBAMAAAB/DPUgAAAAMFBMVEX///8AAAAAAAAAAAAAAAAA\n",
       "AAAAAAAAAAAAAAAAAAAAAAAAAAAAAAAAAAAAAAAAAAAv3aB7AAAAD3RSTlMAInZUiRDNmWbv3US7\n",
       "qzJazP2FAAAACXBIWXMAAA7EAAAOxAGVKw4bAAACqElEQVRIx4VWTWgTQRR+m82mSTaJQTxIEVwR\n",
       "xINCkRKoly7itRAvnirZS6HHIFLEU0AwB8V6qAfxEmhFiFpCT1UviVcRgqDUW85eTA4tgiC+2Zns\n",
       "7Nv58YM36b7vzftm3s7sKwDUgRuF6qGcY6aycGx5ILfEjUL1pHCA5gdGKouLtjywLIxi2TSn9goX\n",
       "18E/LmvpmKJwQ1MuFuxF3ChUj8CdrWMcN9AKTW3AhuK5bS4kBi90uFGonmTNTL+LVmwLzyHhu8qM\n",
       "+2Z9DC4BN4oSWPVLbO/PhecanamU5ZlZH4Mb+NNQiIZdv8DKs6nVL2Qr50ZmfQy+hz9o/tVbNz5J\n",
       "Yu6p3fys08+PcVij+gffzlwJBEVeZajJJYM3+U7yla/Qkpd37nkMKzr9ItvTI6offgm8maBgoR9j\n",
       "LAqi5JLBu/iE9rE8hPOThJ97AtjW6bvsna4QfX/wFpy/gkqjvKTmSgW/xEe0ZmsAq+zotOL1S89W\n",
       "fIXi3ewn+rUpDr/Y44N+/0W//w5vrPcH3GNBkTM2ILm8EyDBQh9WAb7Hy22D9OCEHd3+fbbJ97T+\n",
       "7hSqkaCy+ulcr2mwqD8T/+2l6888e+DPPF39ezhcp/qY71Snyan0+2f1V3LJYHbome1gQfKJCvdg\n",
       "larRWd35G+LwhOqXQixxyKk0KoEmlwxe4zcJT0MueppM4p7iFCph5uudn4k7Fd/clD6e3kvFCafI\n",
       "hLEmlwz+iU9ofg+8I9nzuCfXBv8u7ajVHydHWFP2Tt9Q/Q/YHB4KijSsniaXDC7jpStPsh8m1UOw\n",
       "yLp6T/v9W1SC9615WBtJWkkC1aO0lKRFHf6n23TteUbCKEY2eYedsXNmKnMA69Y868Io1m36ccaR\n",
       "mcr8LzG05nECbpmlBRb9C+we1o1UFqctef4BsfHMLuJSrFIAAAAASUVORK5CYII=\n",
       "\" style=\"display:inline;vertical-align:middle;\" /></a></span>"
      ],
      "text/plain": [
       "{n in Natural, m in NaturalPos} |- ((n * (m - 1)) + n) = (m * n)"
      ]
     },
     "metadata": {},
     "output_type": "display_data"
    }
   ],
   "source": [
    "Add(Mult(n, subtract(m, one)), n).inner_expr().operands[0].distribution(1).inner_expr().rhs.commute()"
   ]
  },
  {
   "cell_type": "code",
   "execution_count": 95,
   "metadata": {},
   "outputs": [
    {
     "data": {
      "text/html": [
       "<a class=\"ProveItLink\" href=\"__pv_it/exprrange_reductions/f44af395030280e4ab863aff658c5a413cdebe3f0/expr.ipynb\"><img src=\"data:image/png;base64,iVBORw0KGgoAAAANSUhEUgAACCEAAAAXBAMAAADNKtqpAAAAMFBMVEX///8AAAAAAAAAAAAAAAAA\n",
       "AAAAAAAAAAAAAAAAAAAAAAAAAAAAAAAAAAAAAAAAAAAv3aB7AAAAD3RSTlMAInZUiRDNmWbv3US7\n",
       "qzJazP2FAAAACXBIWXMAAA7EAAAOxAGVKw4bAAALlklEQVR42t1cb2gcxxV/d6fz/bPka0hJESq+\n",
       "OG1qSkxFMC7Wh/pITSkF4WtIk3xw6uuHgCgtEUG1VNMPKqHWh6iJ2jrQ1BAL1CIqt7ZwCUQppbKh\n",
       "n9IGVeA2KYQcbkqJKbFcKlMwWN2d2Z19M/NmdmZ1slUNrM7a2/fe7/eb37zb3dMaAOrAN9dRd9pl\n",
       "HLktOpYfnZMw7UBaBMQ0pn7lrGF3sRSkUfaYyC3zT86wK4uZPHJtgnvdypy9mx/km/O4pO3xCq81\n",
       "3I99yGtGw8wi+w6lRUBMZeoDzR52F0sZRyqGS1k7Qgb/PGTgksVM7rms2mQ5QjBntQ5G2/VWckTf\n",
       "L2xJJ9U9avgDJ9+2xO93JlhopkAhMu9HmA4qUPxpSeFdpJUb/1YnEy1C+XijRzgvONhDz/3Gck6l\n",
       "fDi6i2fHELLTJ3IT/iErmA0aS0CvEfWTWRJIdQVzG53Lqk2mI2LmYa1im23Fvz6XLOlnTq7bsj6r\n",
       "/K6G55bh2KI5fFfLleCTqVD0zFH2iJYExZ+WFN5NWgPQczsLLR2i2MjB52WX89TaGfmV8uHoLp4V\n",
       "A2f3bNaOoPvHUMFgUCQBYSZtyAIpruBuI3NZtcl2xC6EuzTJN/gcmpS81TZT8blG1LzU8N46VGbM\n",
       "4eVROVw/h4nfmEiFomeOske0ZCjetKTwbtL6M8CrWWgpI568kvljJJwXHOyhpwh7QynnVsqHo1ZK\n",
       "G24YGLuprB1B94+hApgMKiSYImCrQxZIcQV3G5nLqo19mI4QzINaFeCbR0eoREcWomsuNbyyDr03\n",
       "LfGvyOH6WXX8xoxnR2CZXxGYKioUb1pSeDdpnWvB+/UMtFTIaLMsUxzso2cc9qhSzq2UF0e1lDbc\n",
       "MDB2lVbWlqD5J6UjzFAdgWWIMWDY6pAFUlwRuY3KZdXGPippzINah4KXQ34dYdekbHE1vHcWeu9Y\n",
       "4kccl06h7dsRRkT2iJYMxZuWFN5NWn8DeL+TgZYyDqHNtkxHsnWEEcVxfqW8OI64dgQ7BsZuV+Yb\n",
       "CZp/7B1BN6iQIMaAYatDEkh1ReQ2KpdVG/s4lMY8qDUWvIzZOkJx39UPvihF96zIFtfCAapr5nAY\n",
       "dlw6paYMpXbgq49dseDimYcFpjEFShZaOLybtAAu0rTg8QNfPzpooqWMsWRjWfqOvkUu02F6aolS\n",
       "FCPhOM9SiKN3KaPr7RgYu3gig3Hp6v2PNJxB6P7Ry2D9VIMiCWIMCDYF+aKcC+/gbqNy2bTRisgK\n",
       "jKl7YvMNJ7hFWzR1hBIcaJySLzrassVH9I5wo2EOh9OOS4f1RgSlZ/cqnKhbErPMp5Vun0DJQguH\n",
       "d5MW9P2bpgWj+dXSrImWobOPRFlehMPkMj1NTy1RimIkHOdZCnH0LmV0vR0DY1dObp81/9Qo3nQG\n",
       "oftHL4P1Uw2KJIgxINgEZCSQ6orIbVQumzZaEVmBEXVPbL7TCe654GXO1hG+Dy+33pGtPSNbfE7v\n",
       "CL+2hMdwU5dOdVCG8tvqMuztWBKzzIcFpjkFShZaOLybtKC6QtMq18vrvZMmWsqYSzaWpQEvk8uU\n",
       "djRVimIkHOdZCnH0LmV0vR0DY1cQ939ri7+C3B1nELp/9DLYQ6pBkQQxBgSbgJwIpLkichuVy6aN\n",
       "WkRWIDxC3hOb73BS62zwcjZZ0ifaCe3irfBnB06G/+at8+nw7b7w3Lm0sPDLny0srFDhUFoWv+Dw\n",
       "4tH3wqNuyOHK3dDkjcqiDKV1YhGOtKjEoquyLTxY0EJQCFpPDF+108LhOi0enoUWfM9Aqw9KbZFS\n",
       "o4UGZnlWZAlRwZML4biQePQGqQEvpQwmRSQrCzu1sPDqwgLrhZ6lEEdLKa6hWkoeVgzFbzIMHcGO\n",
       "TSQrWyzehsK6AwiTfzBV3UOqQZEEDIMMW8+FBNJcEbmNymXTRi0iKxAeIe+JzXcjqaV0hOooaoTz\n",
       "vOaPg+3aZ9lJzb7wpKumfJhq4fBDQL8k4SVgJ21Ljh+mSHAO5QjAX8jE8Vji2zzqCBiKTmsUTtlp\n",
       "SUw0Wjw8C63yipFWpSFSarTwmJc6Qpgl8MEZ8oN7yaBBRcPKpYhkXVI+gzxLYY7mUlzDJddzBDsG\n",
       "xo5PJCtbWIPetgMIo39QGV0/zaCJBLUZHbaWCwukuYK7jcpl1UYtIitwVtsTmW8pqZV61QC1m/A1\n",
       "gCHu6tn4h+2qodCEj1HhexbZ6cpQxquGEPp/iySuaAyJ7DEtCYpO6zY/XzfSksJ1Wjw8C62DkKvT\n",
       "tOD39WIrSqnRMl81hFl+HqAqUst0yDC1YSkV5awoKcKUM3bXUpijuRTXcMjzqsGAgV81JIs8sP6e\n",
       "yZYDX5N/tDIOVw1DKC2GreXCAmmu4G6jclm1UYvICsxpeyLzDSW4wxuNVywdofhW7ww0pY5QXpYt\n",
       "roV/APBpKrzcYj6fdlw6uxuK4GeC050eMvHEtc9AlHlaYLoiQ6Fo/QB1BIqWFK7T4uEZaPU1Id+i\n",
       "aMHxxXehJ0459dK+UYmWMq6g7QwEp4O97U9Qy3SanNqo1MS1A/npDtURphXH+ZXCHC2luIbTrh3B\n",
       "joHfWVwWv1eawTlxMx2EJrSxDPajZtBEghgDhq3mkkyguYK7jcpl1UYtIinAjpD3ROabTnCLL1yO\n",
       "ob8m6UnuThbuPDVTG5Q6QvRFibC4Gp6bHx+fJcOhZ1Z8rSfC2eXOreTiSrzBvnVBUIJFkm+/RCV+\n",
       "emmyUpe+c4xoYSgkLfiKjZYUTtHi4f60+sfHT5G04Mg/vgu/iVIWX/wp/AjTEvmiS81hxPQOlNdg\n",
       "d7OpuOVYPYGmaMBLhdqt5FeojjCmOM6vFOZoK8U0VEqpRF0xMHalZGfQbB4ud1JBaEKbyyD9NIMi\n",
       "CWIMCLaWCwuku4K7jciVmOpEO72IpACjJe2JzTeW4L4evITbe+e+LW7D9r57S9xHLz7f+PwLIHWE\n",
       "6qJscTW8urGx0SbD+fNQ55Wz6NHomia6jhZv9M3KUGqzUHxnkEr88YdhT5z5vMB0XYZC0uLPqZho\n",
       "SeEUregxF29aFzc2bpG04Kl9hYnBKGXu8TasS7TmcWLBMtyCLPlRqD2v/JUgn5fzQGnAS4XadZJF\n",
       "hDvCeWU1+pXCHG2lmIZqKYWoIwbOrpo8ffImwDMvpIPQhTaVwfppBkUSxBgQbC0XFkhzReQ2KpfQ\n",
       "JnaWrYikAKMl7YnNFzMPalWDblHtQOpAHaFfvTB2Ds/9Ifwx63h6DRfANfEquy0SZo6yu9IaaG2K\n",
       "Fg/fAlosJfQ2wrtKiJYyYpYpUHPWL+FX4cPwKvZffwxGHXcEEfaoUq67pUINtVLGM2MHDP12aSkQ\n",
       "mtBu/rlglKCfgN2tXFZt7MN0hGDeb3uMxtgRJuL+Ep0VuIc/EN4siZ+2SH8kaMq5I7wG433S4ymO\n",
       "tHKj7FZOVlpR+BbQYimh0imNdiwP98QsU6Dan4B5DR6BvX3EOYIIe0Mp19VSTEOtlDY8MEzYpaVA\n",
       "aEK7+WfKKMEEAbtbuaza2IfpCME8rHU52tJX3hNcv9yy+p5reO7tj74TPvPpOnbXXROvwYUv8MwD\n",
       "CFM6roGP/tnaBC0evgW0wpTFJuyF6t87Ei0CYjpTK7RAu1WYLqEVUoxu2A4Yy3WzVKihh3jpGPSJ\n",
       "TAehC+3kH3ImByCTmTxyWbXJdMQArnU82uzj/ucegw8Hc1/6T4OA7hpe2dhYc+of8dX6smPi2gp8\n",
       "alKeRTda5zY2NkOLh28BrTBl30/gd5D/stWcx52YWqEF2n0DPhl/iRJKERQOZSXCtqJUqKGHeOkY\n",
       "UhouCUIX2sk/5ExeJjF0M5dVm0xHXMa1cg2+OQx+++tBve36hOc9/t+4+8AjMcsssu8AWgWCFgEx\n",
       "lWne938eLJjC7mIp82d8GoYHATKByOKf+wwSZDGTey6rNlmOEMw9tatlfu68G+HbFdeW0YLX4R6N\n",
       "13dkqW0O4v9xlO9p+HbFtWW0YPJeTfTkjiy1zUFsl/E/VmzDiOuqax4AAAAASUVORK5CYII=\n",
       "\" style=\"display:inline;vertical-align:middle;\" /></a>"
      ],
      "text/plain": [
       "((1 * 1 * x_{1, 1}) +  (1 * 2 * x_{1, 2}) +  ... +  (1 * n * x_{1, n})) *  ((2 * 1 * x_{2, 1}) +  (2 * 2 * x_{2, 2}) +  ... +  (2 * n * x_{2, n})) *  ... *  (((m - 1) * 1 * x_{m - 1, 1}) +  ((m - 1) * 2 * x_{m - 1, 2}) +  ... +  ((m - 1) * n * x_{m - 1, n})) * ((m * 1 * (1 * 1)) +  (m * 2 * (2 * 2)) +  ... +  (m * n * (n * n)))"
      ]
     },
     "metadata": {},
     "output_type": "display_data"
    }
   ],
   "source": [
    "requirements=[]\n",
    "double_nested_lambda1.apply(*double_nested_operands.entries, requirements=requirements)"
   ]
  },
  {
   "cell_type": "code",
   "execution_count": 96,
   "metadata": {},
   "outputs": [
    {
     "data": {
      "text/html": [
       "<a class=\"ProveItLink\" href=\"__pv_it/exprrange_reductions/021edb3d47a7ba2bed5367e47910e4a6a20e9e480/expr.ipynb\"><img src=\"data:image/png;base64,iVBORw0KGgoAAAANSUhEUgAACy8AAAAXBAMAAABKAYwbAAAAMFBMVEX///8AAAAAAAAAAAAAAAAA\n",
       "AAAAAAAAAAAAAAAAAAAAAAAAAAAAAAAAAAAAAAAAAAAv3aB7AAAAD3RSTlMAInZUiRDNmWbv3US7\n",
       "qzJazP2FAAAACXBIWXMAAA7EAAAOxAGVKw4bAAAQrUlEQVR42u1dfYxcVRU/b3Znv3c6Niimqem0\n",
       "VWxMC/tHqWljZIJEDcuGZ4OAyWIXTWNJIExIbdfG6Cqx/YMCq1KDgLQJIMkCZVOtpBrCtFINn1mq\n",
       "YDECE8QQiNIt0AbSpOu7H+/de+499773Zoewf8wxg/PuPed3vs/72McAAOXof4wCaFPLqJyyROwH\n",
       "+SHFYkCLB4qj7FMVZFLk4Q+80l63c/ucq0iDVMgyfGR50JpqYRdDlpJorjC09SATwsfVmk1wBhn5\n",
       "g2bM40CFIRjmKyvb47RlFAXVogMp+/2V3JACVAh2ThtbYoGJWaJI1UqfoQSt9Bpu6fK6ndvnFIEU\n",
       "S7OkoVV5UE21wIshS0k0VxgatIQfdrB0XPfh9VNPTbiQ1+391dMP39mcrCnu8D9zkD0JOpAjKE46\n",
       "EAOtleHqqLbnacsoCiq8Harj0gNRnifQ/rnbnlfH/GBVKiRRPAx0lacX11rWsG+aKpZ3Zp44v2+/\n",
       "voEMJfpA5xe0Chyeed3O5jMKE6QJWJZiIuzB1MI8qKZaeMXAqfjUPk9JCBq9K19hWMhJzlahwWwU\n",
       "EBSea8BYlxN69avQBWOasTlkTXGUDbO6MgSZiBeKv6dbeBBTTwcT4lMck+G6sj1OW0ZRUIv/uFEV\n",
       "0DXbTkX/3KzvB3W4POkecdAV+iFJYqBckO5FJoasEd80VVfG5jFaCp1ndEMJQvyCNDTkmdftbD6j\n",
       "MBm60siqaMIe476zhXlImmrBFUMSypq7JGL6Xq7CMJG1nAn4YT0EGnXXomH0FSf09mgOdg5pxuaQ\n",
       "xeI4G1Z1ZQmyHS8Uf0+3iCCm0Wbx6Z6Q4Rpvz9OWEQsqXKBlrsBys0vfHyxD72R8LA56ammQBDFQ\n",
       "Lkj3IhMzrGHfNFXjsXmMXgD4tW4oQYhfkIaGPfO5nc1nFCZDVxrZFW3bg6mVeUiaagEWg6BFQ56S\n",
       "kPRevsKwkJOcCfhhPQQ48KPFuhP6BSjWR3Vjc8ga4igbVnVlCbIdLxR/T7eIIKbRLvHpjcM12Z6n\n",
       "LaNeoHqxN9T2e0/B4MnkWBzsSYOk1hnoHmcv9trWXBBLCJrUS2dvCK+VNUMJmiT6ag/QnvnczuYz\n",
       "CpOhK40m6cGM7DEUtjAPSVMtwGIQ9ISvJOST1JyFYSGrnO0hB/PqqSl2YVoE+NGgfZtfeHrqt+z/\n",
       "Q+huvGoNZr+sYkDiKBt2dWUIsh0vHH93t4ggpg6PkH/WyXB1jLXnactoHdmLXRPa/uA+GDybnPTF\n",
       "wZY0SII46BZnL66zreHfElU870np/BPgtYZmKPEkcYwYzFuA9szndjafUZgMXSlEVLRtj3Hx1cI8\n",
       "JE21AItB0KXgKQkpti9fYVjIKmdbqMH8h8/FLKWZNy3I/u8kUftfqWYOZr8sYtDEUTbs6soQZCte\n",
       "Rvzd3SKCmEYMJPpsleHqrkbnnhUvvmE/rKFXISsfvbxxzbcvGWoetBViWU1oQmor2YudM2gf+mY1\n",
       "EXYw4ofsX/ONi48kCwdePGd1RYKOOHtxq20N/5aoYnlHg/ZR3VDiBk/njy0aAdqzFLcz+Kz4bV1p\n",
       "z5OqUqh0yTPONBgM2fOQyLjyEDfVQiwGQTes+Ju7JOSQOLZmKE9hGMh6zkaIwRyoh7ID4VHARQXw\n",
       "KRW0owOhMZhJWR6HNy6bNhg0cTMbKO7+TBuDeQQspVZ8qO6iCYNEny0yXGxOd8Oayg474uQqZOWj\n",
       "l2uFY937mgdthVhWE5qQ2kL2Ys8Yvuo7UdFE2MFOP2TnwDHYlNwKVZ+rFE9K0J1JL+6YYvRI0otb\n",
       "bGv4t53oJK+VTuld3VDHRUHMH1u0E2jPUtzO4LPit3VluPLgQrfAemcaDIbseUhk6DyoplqIxSAu\n",
       "Xk6HMQBREoI2bS6ezFMYBrKes53EYO5SN/Zre+IAKM+uVVee1Z+CMZhJWRaHD6Y7Jg0GTdzMBoq7\n",
       "P9PGYN4JllIRHy3sVHfRhEGiz30yXH3RmfEncHt43BKhVyErH7ncU+45NTjRPGgLxDKb0ITUfWQv\n",
       "dkyifXhEF2EH6/2Qf+qrw7L4Vqh/+mEIzkrQ9c6LpPtsa/i3RBXLu146fTO6oTYh/tii9UB7luJ2\n",
       "Bp8Vv60rhZilXKgCtzvtMRiy5yGWceYhbqqFWAxiWp2C3oqzJARdFMIv8hSGgaznbD01mJW4euFN\n",
       "eaZOA13a93gwE7I8Du9Cz6zBoImb2Xgkc6bNwbzeVmrFh+oukgyQ6HO3DFdvlLkGbGPnO3EquDr2\n",
       "RV8tXvKK8/k/kjaXrxh5UQctQfdYgib3PKA+Do+Y8XgD+yVMMEhsetR5pDS6W2V/01hSiKVZtN9d\n",
       "V/vi4ITHo0gk3DTNOkXIFItnWAMI0BPOXrwbW5N8S1SxvOul80NkKPGnCZ0/tugEEJ553c7qs+K3\n",
       "daUQs1QKbXPaYzDkyYOQceYhbqqFWAxCyxgsqjpLQlDk4/t5CsNA1nN2ghjMb7FLS+55YWiY/ZFO\n",
       "F4LSXdHuw3xtZWR/EQ9mSlbGQbSoYtDFjWZQ1ZiW6Sv5dfB+O16aUis+VHfRz14xSPTRBzPw0+Pr\n",
       "X+ATaIW6YVer3eC7j1d81nINdmBQdkqVaGLPB+rncIphsvzqte5i5KZXnVOKHsx9taQQ+yfR/q2g\n",
       "9sXBoZQhdRHAS4lMxywMjknQQ7kH8yFH6fTMIENTBnNs0SEgPPO6ndlnxW/pyjCYmVDUVne47cEM\n",
       "mfOgZFx5oAbzQikGoawKTww5S0LQ/dD/Xp7CMJG1nB0iBnPyChyMBnX+OpkmBOoduGJ9KX+3TR/M\n",
       "pGwUh2i29VYxgy5uNMOtOTJtXDEn8VJKrfhQ3UUTBok++qMM6D8J3wTYIDiTaaOtLpoOnH/FRNLm\n",
       "8hlxd6JAnygXQ4l2Rt2TOUC9HB5bMJl+MRPM8PBNrzqnVPqjjH36fkcVPqE9BGMHG1Ju66Ny/SC+\n",
       "bmCNuGgiFKAbnI8VXY8yNjhuttZCULb9cd6cSYs2AO2Z1+1sPit+S1eGRxlMKBouJ4tOezBD5jwo\n",
       "GToP6Y8yPs5i4LRoCH4cOktC0HvQfSpPYZjIWs42EIO5LxF5NZqbxVmUaIBE22Ajmrub8BUzKRvF\n",
       "gZ0VyiFi0MVxNlDc0zJtDOYNWvClUhEfLexUd9GEQaLPERmugQoUnxmchKo+wJhBaLUnjEZp0YYN\n",
       "Tb7x1z+Pln+mBjMTH51+GToFGog9L6iQFqDFtIZUYrtuWzGz6nliMGsmjL++prC7gUcsV2c/skmR\n",
       "irTVpHlH6L/31EHbfwNAvc4jDnZL8wm9XOSO6G6nMzkZV6O7rKoA3e28SDqiWxOqqkpUDVSkeVxL\n",
       "qQqFUDPUtgPzS4uU4Ylnoc/tMLvPit/S5a8BYekdEN0jDo592mkPZvDaFJIyRB6KoJpqXsVAN8X8\n",
       "i0GMz0bxTqmBKAlBZ+FbE3zNWximFEc2c7ZbBiXUBnMhlinVHuMvr+lCACtiwDf7a+xls6I+mEnZ\n",
       "KA6bpuGlYEJnQOK4GVR1uTpOZpoYzEm8lNIe88EI0V2O8GGQ6DMia6hzBjrOXjXZP6QPMPb8Cq+y\n",
       "Nxv5U63T8SOx+AjxXX1ooreMlsW7jTHoRf/5AfwOkvckLwUMyr9Y0gIU7XttKd5yJ/wG1hCDWZnA\n",
       "MGcKM+a176UuFW4ppu3n0g7+Js3l2smxk/1tm787E+8HD27fnlwRyIOtbq+4yFkojN0Wy0TnjvN6\n",
       "GuqNLLoXRzRrOKK0K1HF3/Bh5nEtS7Zv36EZShiD+GOLErTEM3HkcJtvOn1WujC/qYtOvfrCLI2E\n",
       "emZhoFp12oMYvHlQDiIZIg8cfBi019eaLAaHZ/MuBnGNNjFQk0+1iZIQdBz+KtaMwnCEW0O2crZV\n",
       "DGYtERF9Nx5g4WYI/lxHQgBd8UX40a4Qln5JN9YhG8XhdoAnOxEDEkfNoKrLUX1xpo1o4ngppd0m\n",
       "I9FdjrLFINHnbVlDpX1QvKnyxZvRAOt7AIxV9vsdbBUejB9v8X9MhZjvk+fBohAti1/yiEGvWtEx\n",
       "PgTxr4mwPQzKvljSAjRhxNyELcHGseiUv5UYzMoEhtlQ8ZSDmambCi0VXimm7ZT0gwX1lb03JG9v\n",
       "DL58+ni0NQ1qv29ubi75m6E8eEh6bXolRfqjFB1Pbhj/CHDNzRL0IWcvvq1bw10SdiWqorwL87iW\n",
       "R+fmTuuGWv5j/tiiBE15xo6cbnMfXT4rXYjf0kWk/kGtBrilkVChBv03lV32YAZ/HmIHsQyRBw4u\n",
       "m2pexcD3nUY0XQzysvDv41IDURKSrvnahFgzC4MOt45s5uwhecWsEsHwnxGXq4f+cs+ze++pIqEI\n",
       "518HxXPJe6579qkPn9SNdchGcYhuqh9bjhiQOGoGrRrJ6lOZRmTESyntM8NOdBc9PQ2Q6NPXkE9+\n",
       "9lPPYi80n9AGR/FqPJpCg+8YfzauLS8NCdDgqNrzggppAXphym2sEhuslNhD9NKzER12+HUM3mJP\n",
       "gv7LeJKHaExdh32H45carPBn/4ypj3xEvSQBofeDfYbXut4+x1PvJbEg3YtMLBFV0Jqq/bZ3S4xj\n",
       "xEHwa2iELsJt0hCPz9q+U8Cugf10VTjSkG4TdtDgQXm4ELSmmk8xOJpifsUQ9wPOIi4JWdnO0NHh\n",
       "1pGNnAn4YTOuv396aowOKB+pl4l/JdsuuXRZm8FVUzk7zlMlSywuolu8g06CLBG/xcFraBc1mKvm\n",
       "YD6XPSyvWtCdJt+9sL2kLwc1/tjbAOVocs8HKqUFaDVlMCux3kahHsw2vH7dC6thWQlfMXN1nTay\n",
       "X6q30V1rCCb6F2jGExB6X/xqikOv60dtkp/JoXtR/X4MgtZU7bK9GzeOEQfBr6ERugi3O3P63Jkh\n",
       "SHYN7KKrwpGGdJuwgwYPykMVtKaaTzFUMxjRZDGYWaRKwh26tHBbORPwwympS8lrdR6y7prK2XGe\n",
       "KrF/NovolmqK5ePyc1jW0EBZG2BXyD+SVdDAvQKC59/5PlqVtNHkm4X9X9aXl77zZmiBMrRile/5\n",
       "QYW0ACUYXWLLoqvYnnrN51eEeQx2d2sjNjZoo/0nAb/UMuj7d0MyHaZOsXUFQu3DUjOUSO9h+rxd\n",
       "jwUdP8F7WBPdSKmK8655V8fH2A6bHxlu6aLc3pjT543pQSJqYKBMVYUrDek2YQcxD8oDB1dN1Xwx\n",
       "OJuiBcVgZnGpI3CO0KWE28qZgB9OSZ0/r/7WT6sJZ03l6zhPlQR1i8vuFv/0FCAcaFTWUPLW4Dk3\n",
       "XgxvDQVffb8CBcUvVnvn5mb11ZgqBl//DHx2Ql/eOzdngzK00i/5nh9USAvQQlr8ldjj0FUOjoU+\n",
       "vyLMa+Ez8V/E2WZskB2/FKnHofD1mGmUsEvkyL0vC8GllxTROt/Ri6OaaIVSFee9QBpq22HzI8Mt\n",
       "XZTblZw+V9KDRNQA+i3ISloa0m2qeGRQHgoAelM1XwzOpmhBMZhZPOwInCN0KeG2cnY4HsyVbL1L\n",
       "UQGal/XUVL6O81TJgP0unN0thRTLGQgHCipwPl9ZrG/Tv9OT9Td/hnIsd8D8QPNRBpCOpoCxVEBU\n",
       "yfKU/YL/FwEDsvCWJ4IF85GYWGBilihStdhnKEGLvYZburxu5/a5kOe/GrfYFTFvTFuUB9VUC7wY\n",
       "spREc4WhQUv48+Fjp6DSEk4qQctzBMVJy72B7g+zr2bmo5cPwrxA81EWkINNIR+ENrWpTW36SKkn\n",
       "x2pmPnp5Yn6grfCrOYNaIdWmNrWpTTb9HwF/W7tq9tB8AAAAAElFTkSuQmCC\n",
       "\" style=\"display:inline;vertical-align:middle;\" /></a>"
      ],
      "text/plain": [
       "(|(x_{1, 1}, x_{1, 2}, ..., x_{1, n}, x_{2, 1}, x_{2, 2}, ..., x_{2, n}, ......, x_{m - 1, 1}, x_{m - 1, 2}, ..., x_{m - 1, n},(1 * 1), (2 * 2), ..., (n * n))| = |((1, 1), (1, 2), ..., (1, n), (2, 1), (2, 2), ..., (2, n), ......, (m, 1), (m, 2), ..., (m, n))|, |((1 * 1), (2 * 2), ..., (n * n))| = |((_b, 1), (_b, 2), ..., (_b, n))|, 1 in Integer, n in Integer, 1 in Integer, m in Integer, (1, 2, ..., (m - 1), m) = (1, 2, ..., m))"
      ]
     },
     "metadata": {},
     "output_type": "display_data"
    }
   ],
   "source": [
    "requirements"
   ]
  },
  {
   "cell_type": "code",
   "execution_count": 97,
   "metadata": {},
   "outputs": [
    {
     "data": {
      "text/html": [
       "<a class=\"ProveItLink\" href=\"__pv_it/exprrange_reductions/8ad20fe2a531d30f7b4ac195269ae6c2e307863a0/expr.ipynb\"><img src=\"data:image/png;base64,iVBORw0KGgoAAAANSUhEUgAAB7YAAAAXBAMAAAB9pb3/AAAAMFBMVEX///8AAAAAAAAAAAAAAAAA\n",
       "AAAAAAAAAAAAAAAAAAAAAAAAAAAAAAAAAAAAAAAAAAAv3aB7AAAAD3RSTlMAInZUiRDNmWbv3US7\n",
       "qzJazP2FAAAACXBIWXMAAA7EAAAOxAGVKw4bAAALrUlEQVR42t1cbYhcVxl+Z2Zn5yszGUulEiIZ\n",
       "E1qDNHQpIZL8yVCDiBg6lpr2R2rGH4FFlC4lJmvoj5Vi90fTZtUWrEGzECW4tclSEY1S3IT2VzWs\n",
       "gdRWKB1qRBqk3RQ3FAK73nPO/Tgf73nPOXfWGHPgbvbePe/zvs/zPufOmbuzAYA2+A91biEgsrAm\n",
       "U+yz87MYJnRoFkHJE/jCWgLa5Wz/17PcTILhjml7FdfOw7ntx6Odb0ZaZXEsQJ5XlLMtAZGNjnPK\n",
       "lqBOqYBDsBgidHgWHoAm/Ja1BLTKSeqyJlluKsFgx2ATGESo8bZYOLh5uLHxGWmV26Pjai/7QesX\n",
       "FNaUdFLqqrMLR741sIduddWpw7mGAhixuOvwRemCTIlkoYfSLNRQCwu1Ekd3poL8yeDZgQ8mnwJI\n",
       "qeCQkx9eWWjFcrgggGDQMChi8MoE5QITc6sPjNL/iIwiED9hHNw8tkPOGXGV5T6U//p4ZoHHDi9T\n",
       "YAel7/dpszfCyA175KjLZvucye2AEYvCAjw4n57LlGgWeijNQgm1sFDgnONgkD33xQc6hHwZoEMF\n",
       "Uk5+eGVxKRbsAn+CgUOniMNLE+QLQszRnhtG7f8+TSBxctCDh7UDzhlxlRV297hPqrZILq9p/vV3\n",
       "/OukNvsvAC/aI6sTfLuA3axwONeQASMWzTbUZrKf3tdzssBDaRaKABYWWiWOYQe0iTRp3wQsp4Ae\n",
       "KpByCmN4ZXEoFu6CAIJBQ6eIw8eDT1D8yMRkEC4Ytf+TmkDiZJrsPFGiMmwz4iprELS2a3zm/fz7\n",
       "GW32yR68S7z7f4HvULA3XDicc0iAEYvaMjSvebpasMBDHSxkASwstEocww5oE2mGtn6tl2tta3IK\n",
       "Y3hlcSgW7oIAgmFDo0iu7Rpga5tDOGDU/s9oAokTxsHeeaJENRNF9AXYEba2R6fSekp9bfbfAN4l\n",
       "3niN01014JxDAoxYNGehueLpasECD3WwkASwsdAqcW0UpwLWNoMv9Wnrj07lW9uqnMIYXlkcigW7\n",
       "IIRg2NAokmt7B762x90wSv8ZGUUgccI42DtPlKiMHRTRcThEre2Htn19j/okbmQxrafSNRfjWSJ0\n",
       "L91VHa6x7asPXKBKkQE5C6gvoa4ub7585QsIC1soyUISwMpChnvl8p33digWdkALPDs46pWvzGPe\n",
       "FIAeKgAp56G4Ba09b7iy0IpBqAv8Cbo9QlE06cluPoSv7b2mUkitWf9jQ5zV1GIc7J23l6ja6ZB+\n",
       "JRFEVDlOre2J4qXKrLqT76f1jBpvSKD1ERH6NN1VHW5k3SU40CbwZEDOAj7soK6uwLbOUYSFLZRk\n",
       "IQlgZSHDdf/cKV+jWNgBLfDsYKgfz5dmMOtX+54qACnneNyCZ2CnKwutGIS6wJ+g2yMURZOe7OZx\n",
       "fG0/bSqF1Jr1XxhCEkicMA72zttLVO00rl9JBBFVniLWdrVdXW6qGyDBgNdTHzPWdn2RCN1Jd1WH\n",
       "+0N9ATYNCDwZkLOAl/GnSN+D4723EBa2UJKFJICVhQTXmP8VFFYoFnZAC3x0cNSPoLqEWb8046kC\n",
       "kHKeilvQgeOuLLRiEOoCf4Juj1AUTXqym0/ha3unAYPVmtlJGKK+qKnFONg7by1RtVOafUUXRFR5\n",
       "IrPAgX5Gp3yd3WCgwi49yq+X+d2qtQRH5+ZenJt7GWrz6uxoPImHPrz3MruXQWVu7pc/mZtTdnNW\n",
       "uN6BedjdS8pS8JKbYwbIWVQWMhYypQEcTosQCBELIlRnUd7zTi8FkASwshBwHKFcvgGlZRQvuYvj\n",
       "gGCFj44YlUtS/uYcG4O0d62lrCOGCuoQPY1V1eQ8kbaAx+3jWc6oWWyKaSPQBf4EUY9guVHHyPQM\n",
       "7wtfKPbmYn5owMi1xnpIdhKGeFJfJYyDpfNUiaqdpOyaIKJKaW3XJ6Rb1WnxIC66gbQ2833Oe5/j\n",
       "N47sXiMtxnh2dREPnQC2GTxH37ENuN0Ab2ZlyXjxkAA5i2dBmi5Tgh+mRQiExgwRarCoAN/pCYAG\n",
       "/botWvlshlBagmYfxUtuxSGv27H1GWrkpVoXe1kTgKdxFdQhehqrqsl5QrQgstXz9iwWxdQR6oIA\n",
       "gohH0Ny4YyR6pvdPGIuBi3nOhJFqjeuQ7MQNoQjETxiHhuN1GytRtdMJ40osiKjyFPmc/I/tcg9K\n",
       "Qp5dPOsssSffDoU2FnqD7xN2he3JWY0fl/FSQCoo3USWuvAJ/Alx4xp8LS5CIAgYS6jBYv083/QI\n",
       "AEkAKwsZLtJ9/VQPw0v6OBu+J2eo9W4E1sO2rLOECtrYJZWwy9iTsxb8PIorO7KYfdesGuaCAIKY\n",
       "R7DcuGMMeh578l0mjFGr3H9uCEUgfsLKsnfeXqJqp1PGlVgQUeUFYm3vn38bRkBZ29WFtJ51HY18\n",
       "qwvFHhb6fd7VY3RXDbjno73GCFrK9HOb2T1MAmQsrgDcjbm6/EZzBrpxEQJBsMBDTRbVHl+LAkAS\n",
       "wMpChotu57t7XQwvZmEHtMCzI0KNdl9vFqawR00LhApR0sWtF9G1rcl5gbcg2vE1+5+isyCKTb63\n",
       "rXhsoK4vbxcEEEQ8gubGHWPQk+13AV/bx0wYo1a5/4yMLFB8wjjYO28vUbFTkl26EgsiquTP8x+U\n",
       "Pnowkj2G2/2P78Kv1bUtHunfn/7yRpoNG44cOYqHwpeTXyrwqsU70evp+xMULvJ/sf8chld+5sfw\n",
       "AwWQsSicPnJEukdnlEorj8w0xuIiBIJggYciLGBkNmUhCcDfAKVUMhYKXOTne6oDBC9hgQEe6Btn\n",
       "GTw7ItTjAK+NaJ7g8lW6dhVY0p/CNnRtq3JyXVbYE6J13S6dxVTs0XNTtcXiov7a6ekCf4KYR7Dc\n",
       "FscY9GQ379UvCDEPmUrptSr9Z2RkgeKT5Hd9UuezhhMlKnZKsmdXEkFElVejr++c/HZ6z2m+fT19\n",
       "mvrI5tLkmLq26/NpPa1ZdTacXV29jofyj9y/lFV9Ovki3p+gcI1ZKL81huEVHurDsgoYsaivrq5m\n",
       "z00kSuUnOp9/KilCIAgWeCjCIv6TCw4gCcCLT6lkLBS43wM89hSGl7DAAPk36lkGz44I9bMAv/2M\n",
       "6nwhX33ergJLuhL/Sl9f26qc7IhaUJyAxhNtOoup2CfvgfWDbAkGusCfIOYRLDfuGIOe4uar+gUh\n",
       "5kumUnqtSv8ZGVmg+IRx0Duf+cleomKnJHt2JRFEVFkfOHeD8trekG2f4Az4hm5kXp6ld2M+cDFe\n",
       "s8MeQ8iAHix4ETHCBggKLbyeAcgC5GUh8AQLAtAG70ixgfphs9Oaid6mtf4UjfPK2tbldOhCZoFL\n",
       "8D57p/kvlqYd7IJhCOK5czgGn8Agwox3xsrB3nlfbNuMuErxwXfvtS0+xi8+3z7tuxYLE4V2/Ll2\n",
       "4q8Epr3Xdm1QmRgogB4seBExgmDhHXoXfzQiAGQB8rIQeIIFAWiDd6SYpH5YGxQXCksD5HVbl9Oh\n",
       "C5kFfgb3wqZWXhcMQxDPncMx+ITsr2h83TNt5WDvvC+2bUZS5XmfBVXuCh8UpOc0sK7tGbrxg3/2\n",
       "YKNrrgdcjLcJ6n8fqIBuFqyIh0WvFRbu0MLFD76TsFBD87GI8QQLJ6AJT6egATdFL2HVhQlpbcea\n",
       "mHKez5+lsBS9eh6r5HXBMATx3Hkcg07YiCkVbgjGwd15t6ktM5Iq9zut+MV/d1o/gjsff0ArtLzg\n",
       "GXpyddWjUDdcgvcqFL+kATpZ8CLeH2MImtzO0Nrq6lLCwrl0PVjEeILFurD/IojB0ylowFdhtF24\n",
       "lDy0ZT2NNTHl3J8/S2MRvgGfvjuvC4YhiOfO45j9tsUUBoOScd/B/Ey9377k2VHo+HiqJP5Rn23c\n",
       "Af6hRbeH/eCSUlRAPxYwhrAYQoDhWXgAmvBkilDAWBNTTlKX4CxBLlhbgjkdg01gEKHGu8PCwc3D\n",
       "jY3PMKskx28g9xgidK3xGr3bgcXajiE0+X/he8tofWuOqf9J6FrjVW8LFms7qre8gW4frW/u+A+E\n",
       "6q1FW71dfwAAAABJRU5ErkJggg==\n",
       "\" style=\"display:inline;vertical-align:middle;\" /></a>"
      ],
      "text/plain": [
       "(1 * 1 * x_{1, 1}) +  (1 * 2 * x_{1, 2}) +  ... +  (1 * n * x_{1, n}) +  (2 * 1 * x_{2, 1}) +  (2 * 2 * x_{2, 2}) +  ... +  (2 * n * x_{2, n}) +  ...... +  ((m - 1) * 1 * x_{m - 1, 1}) +  ((m - 1) * 2 * x_{m - 1, 2}) +  ... +  ((m - 1) * n * x_{m - 1, n})+ (m * 1 * (1 * 1)) +  (m * 2 * (2 * 2)) +  ... +  (m * n * (n * n))"
      ]
     },
     "metadata": {},
     "output_type": "display_data"
    }
   ],
   "source": [
    "requirements=[]\n",
    "double_nested_lambda2.apply(*double_nested_operands.entries, requirements=requirements)"
   ]
  },
  {
   "cell_type": "code",
   "execution_count": 98,
   "metadata": {},
   "outputs": [
    {
     "data": {
      "text/html": [
       "<a class=\"ProveItLink\" href=\"__pv_it/exprrange_reductions/021edb3d47a7ba2bed5367e47910e4a6a20e9e480/expr.ipynb\"><img src=\"data:image/png;base64,iVBORw0KGgoAAAANSUhEUgAACy8AAAAXBAMAAABKAYwbAAAAMFBMVEX///8AAAAAAAAAAAAAAAAA\n",
       "AAAAAAAAAAAAAAAAAAAAAAAAAAAAAAAAAAAAAAAAAAAv3aB7AAAAD3RSTlMAInZUiRDNmWbv3US7\n",
       "qzJazP2FAAAACXBIWXMAAA7EAAAOxAGVKw4bAAAQrUlEQVR42u1dfYxcVRU/b3Znv3c6Niimqem0\n",
       "VWxMC/tHqWljZIJEDcuGZ4OAyWIXTWNJIExIbdfG6Cqx/YMCq1KDgLQJIMkCZVOtpBrCtFINn1mq\n",
       "YDECE8QQiNIt0AbSpOu7H+/de+499773Zoewf8wxg/PuPed3vs/72McAAOXof4wCaFPLqJyyROwH\n",
       "+SHFYkCLB4qj7FMVZFLk4Q+80l63c/ucq0iDVMgyfGR50JpqYRdDlpJorjC09SATwsfVmk1wBhn5\n",
       "g2bM40CFIRjmKyvb47RlFAXVogMp+/2V3JACVAh2ThtbYoGJWaJI1UqfoQSt9Bpu6fK6ndvnFIEU\n",
       "S7OkoVV5UE21wIshS0k0VxgatIQfdrB0XPfh9VNPTbiQ1+391dMP39mcrCnu8D9zkD0JOpAjKE46\n",
       "EAOtleHqqLbnacsoCiq8Harj0gNRnifQ/rnbnlfH/GBVKiRRPAx0lacX11rWsG+aKpZ3Zp44v2+/\n",
       "voEMJfpA5xe0Chyeed3O5jMKE6QJWJZiIuzB1MI8qKZaeMXAqfjUPk9JCBq9K19hWMhJzlahwWwU\n",
       "EBSea8BYlxN69avQBWOasTlkTXGUDbO6MgSZiBeKv6dbeBBTTwcT4lMck+G6sj1OW0ZRUIv/uFEV\n",
       "0DXbTkX/3KzvB3W4POkecdAV+iFJYqBckO5FJoasEd80VVfG5jFaCp1ndEMJQvyCNDTkmdftbD6j\n",
       "MBm60siqaMIe476zhXlImmrBFUMSypq7JGL6Xq7CMJG1nAn4YT0EGnXXomH0FSf09mgOdg5pxuaQ\n",
       "xeI4G1Z1ZQmyHS8Uf0+3iCCm0Wbx6Z6Q4Rpvz9OWEQsqXKBlrsBys0vfHyxD72R8LA56ammQBDFQ\n",
       "Lkj3IhMzrGHfNFXjsXmMXgD4tW4oQYhfkIaGPfO5nc1nFCZDVxrZFW3bg6mVeUiaagEWg6BFQ56S\n",
       "kPRevsKwkJOcCfhhPQQ48KPFuhP6BSjWR3Vjc8ga4igbVnVlCbIdLxR/T7eIIKbRLvHpjcM12Z6n\n",
       "LaNeoHqxN9T2e0/B4MnkWBzsSYOk1hnoHmcv9trWXBBLCJrUS2dvCK+VNUMJmiT6ag/QnvnczuYz\n",
       "CpOhK40m6cGM7DEUtjAPSVMtwGIQ9ISvJOST1JyFYSGrnO0hB/PqqSl2YVoE+NGgfZtfeHrqt+z/\n",
       "Q+huvGoNZr+sYkDiKBt2dWUIsh0vHH93t4ggpg6PkH/WyXB1jLXnactoHdmLXRPa/uA+GDybnPTF\n",
       "wZY0SII46BZnL66zreHfElU870np/BPgtYZmKPEkcYwYzFuA9szndjafUZgMXSlEVLRtj3Hx1cI8\n",
       "JE21AItB0KXgKQkpti9fYVjIKmdbqMH8h8/FLKWZNy3I/u8kUftfqWYOZr8sYtDEUTbs6soQZCte\n",
       "Rvzd3SKCmEYMJPpsleHqrkbnnhUvvmE/rKFXISsfvbxxzbcvGWoetBViWU1oQmor2YudM2gf+mY1\n",
       "EXYw4ofsX/ONi48kCwdePGd1RYKOOHtxq20N/5aoYnlHg/ZR3VDiBk/njy0aAdqzFLcz+Kz4bV1p\n",
       "z5OqUqh0yTPONBgM2fOQyLjyEDfVQiwGQTes+Ju7JOSQOLZmKE9hGMh6zkaIwRyoh7ID4VHARQXw\n",
       "KRW0owOhMZhJWR6HNy6bNhg0cTMbKO7+TBuDeQQspVZ8qO6iCYNEny0yXGxOd8Oayg474uQqZOWj\n",
       "l2uFY937mgdthVhWE5qQ2kL2Ys8Yvuo7UdFE2MFOP2TnwDHYlNwKVZ+rFE9K0J1JL+6YYvRI0otb\n",
       "bGv4t53oJK+VTuld3VDHRUHMH1u0E2jPUtzO4LPit3VluPLgQrfAemcaDIbseUhk6DyoplqIxSAu\n",
       "Xk6HMQBREoI2bS6ezFMYBrKes53EYO5SN/Zre+IAKM+uVVee1Z+CMZhJWRaHD6Y7Jg0GTdzMBoq7\n",
       "P9PGYN4JllIRHy3sVHfRhEGiz30yXH3RmfEncHt43BKhVyErH7ncU+45NTjRPGgLxDKb0ITUfWQv\n",
       "dkyifXhEF2EH6/2Qf+qrw7L4Vqh/+mEIzkrQ9c6LpPtsa/i3RBXLu146fTO6oTYh/tii9UB7luJ2\n",
       "Bp8Vv60rhZilXKgCtzvtMRiy5yGWceYhbqqFWAxiWp2C3oqzJARdFMIv8hSGgaznbD01mJW4euFN\n",
       "eaZOA13a93gwE7I8Du9Cz6zBoImb2Xgkc6bNwbzeVmrFh+oukgyQ6HO3DFdvlLkGbGPnO3EquDr2\n",
       "RV8tXvKK8/k/kjaXrxh5UQctQfdYgib3PKA+Do+Y8XgD+yVMMEhsetR5pDS6W2V/01hSiKVZtN9d\n",
       "V/vi4ITHo0gk3DTNOkXIFItnWAMI0BPOXrwbW5N8S1SxvOul80NkKPGnCZ0/tugEEJ553c7qs+K3\n",
       "daUQs1QKbXPaYzDkyYOQceYhbqqFWAxCyxgsqjpLQlDk4/t5CsNA1nN2ghjMb7FLS+55YWiY/ZFO\n",
       "F4LSXdHuw3xtZWR/EQ9mSlbGQbSoYtDFjWZQ1ZiW6Sv5dfB+O16aUis+VHfRz14xSPTRBzPw0+Pr\n",
       "X+ATaIW6YVer3eC7j1d81nINdmBQdkqVaGLPB+rncIphsvzqte5i5KZXnVOKHsx9taQQ+yfR/q2g\n",
       "9sXBoZQhdRHAS4lMxywMjknQQ7kH8yFH6fTMIENTBnNs0SEgPPO6ndlnxW/pyjCYmVDUVne47cEM\n",
       "mfOgZFx5oAbzQikGoawKTww5S0LQ/dD/Xp7CMJG1nB0iBnPyChyMBnX+OpkmBOoduGJ9KX+3TR/M\n",
       "pGwUh2i29VYxgy5uNMOtOTJtXDEn8VJKrfhQ3UUTBok++qMM6D8J3wTYIDiTaaOtLpoOnH/FRNLm\n",
       "8hlxd6JAnygXQ4l2Rt2TOUC9HB5bMJl+MRPM8PBNrzqnVPqjjH36fkcVPqE9BGMHG1Ju66Ny/SC+\n",
       "bmCNuGgiFKAbnI8VXY8yNjhuttZCULb9cd6cSYs2AO2Z1+1sPit+S1eGRxlMKBouJ4tOezBD5jwo\n",
       "GToP6Y8yPs5i4LRoCH4cOktC0HvQfSpPYZjIWs42EIO5LxF5NZqbxVmUaIBE22Ajmrub8BUzKRvF\n",
       "gZ0VyiFi0MVxNlDc0zJtDOYNWvClUhEfLexUd9GEQaLPERmugQoUnxmchKo+wJhBaLUnjEZp0YYN\n",
       "Tb7x1z+Pln+mBjMTH51+GToFGog9L6iQFqDFtIZUYrtuWzGz6nliMGsmjL++prC7gUcsV2c/skmR\n",
       "irTVpHlH6L/31EHbfwNAvc4jDnZL8wm9XOSO6G6nMzkZV6O7rKoA3e28SDqiWxOqqkpUDVSkeVxL\n",
       "qQqFUDPUtgPzS4uU4Ylnoc/tMLvPit/S5a8BYekdEN0jDo592mkPZvDaFJIyRB6KoJpqXsVAN8X8\n",
       "i0GMz0bxTqmBKAlBZ+FbE3zNWximFEc2c7ZbBiXUBnMhlinVHuMvr+lCACtiwDf7a+xls6I+mEnZ\n",
       "KA6bpuGlYEJnQOK4GVR1uTpOZpoYzEm8lNIe88EI0V2O8GGQ6DMia6hzBjrOXjXZP6QPMPb8Cq+y\n",
       "Nxv5U63T8SOx+AjxXX1ooreMlsW7jTHoRf/5AfwOkvckLwUMyr9Y0gIU7XttKd5yJ/wG1hCDWZnA\n",
       "MGcKM+a176UuFW4ppu3n0g7+Js3l2smxk/1tm787E+8HD27fnlwRyIOtbq+4yFkojN0Wy0TnjvN6\n",
       "GuqNLLoXRzRrOKK0K1HF3/Bh5nEtS7Zv36EZShiD+GOLErTEM3HkcJtvOn1WujC/qYtOvfrCLI2E\n",
       "emZhoFp12oMYvHlQDiIZIg8cfBi019eaLAaHZ/MuBnGNNjFQk0+1iZIQdBz+KtaMwnCEW0O2crZV\n",
       "DGYtERF9Nx5g4WYI/lxHQgBd8UX40a4Qln5JN9YhG8XhdoAnOxEDEkfNoKrLUX1xpo1o4ngppd0m\n",
       "I9FdjrLFINHnbVlDpX1QvKnyxZvRAOt7AIxV9vsdbBUejB9v8X9MhZjvk+fBohAti1/yiEGvWtEx\n",
       "PgTxr4mwPQzKvljSAjRhxNyELcHGseiUv5UYzMoEhtlQ8ZSDmambCi0VXimm7ZT0gwX1lb03JG9v\n",
       "DL58+ni0NQ1qv29ubi75m6E8eEh6bXolRfqjFB1Pbhj/CHDNzRL0IWcvvq1bw10SdiWqorwL87iW\n",
       "R+fmTuuGWv5j/tiiBE15xo6cbnMfXT4rXYjf0kWk/kGtBrilkVChBv03lV32YAZ/HmIHsQyRBw4u\n",
       "m2pexcD3nUY0XQzysvDv41IDURKSrvnahFgzC4MOt45s5uwhecWsEsHwnxGXq4f+cs+ze++pIqEI\n",
       "518HxXPJe6579qkPn9SNdchGcYhuqh9bjhiQOGoGrRrJ6lOZRmTESyntM8NOdBc9PQ2Q6NPXkE9+\n",
       "9lPPYi80n9AGR/FqPJpCg+8YfzauLS8NCdDgqNrzggppAXphym2sEhuslNhD9NKzER12+HUM3mJP\n",
       "gv7LeJKHaExdh32H45carPBn/4ypj3xEvSQBofeDfYbXut4+x1PvJbEg3YtMLBFV0Jqq/bZ3S4xj\n",
       "xEHwa2iELsJt0hCPz9q+U8Cugf10VTjSkG4TdtDgQXm4ELSmmk8xOJpifsUQ9wPOIi4JWdnO0NHh\n",
       "1pGNnAn4YTOuv396aowOKB+pl4l/JdsuuXRZm8FVUzk7zlMlSywuolu8g06CLBG/xcFraBc1mKvm\n",
       "YD6XPSyvWtCdJt+9sL2kLwc1/tjbAOVocs8HKqUFaDVlMCux3kahHsw2vH7dC6thWQlfMXN1nTay\n",
       "X6q30V1rCCb6F2jGExB6X/xqikOv60dtkp/JoXtR/X4MgtZU7bK9GzeOEQfBr6ERugi3O3P63Jkh\n",
       "SHYN7KKrwpGGdJuwgwYPykMVtKaaTzFUMxjRZDGYWaRKwh26tHBbORPwwympS8lrdR6y7prK2XGe\n",
       "KrF/NovolmqK5ePyc1jW0EBZG2BXyD+SVdDAvQKC59/5PlqVtNHkm4X9X9aXl77zZmiBMrRile/5\n",
       "QYW0ACUYXWLLoqvYnnrN51eEeQx2d2sjNjZoo/0nAb/UMuj7d0MyHaZOsXUFQu3DUjOUSO9h+rxd\n",
       "jwUdP8F7WBPdSKmK8655V8fH2A6bHxlu6aLc3pjT543pQSJqYKBMVYUrDek2YQcxD8oDB1dN1Xwx\n",
       "OJuiBcVgZnGpI3CO0KWE28qZgB9OSZ0/r/7WT6sJZ03l6zhPlQR1i8vuFv/0FCAcaFTWUPLW4Dk3\n",
       "XgxvDQVffb8CBcUvVnvn5mb11ZgqBl//DHx2Ql/eOzdngzK00i/5nh9USAvQQlr8ldjj0FUOjoU+\n",
       "vyLMa+Ez8V/E2WZskB2/FKnHofD1mGmUsEvkyL0vC8GllxTROt/Ri6OaaIVSFee9QBpq22HzI8Mt\n",
       "XZTblZw+V9KDRNQA+i3ISloa0m2qeGRQHgoAelM1XwzOpmhBMZhZPOwInCN0KeG2cnY4HsyVbL1L\n",
       "UQGal/XUVL6O81TJgP0unN0thRTLGQgHCipwPl9ZrG/Tv9OT9Td/hnIsd8D8QPNRBpCOpoCxVEBU\n",
       "yfKU/YL/FwEDsvCWJ4IF85GYWGBilihStdhnKEGLvYZburxu5/a5kOe/GrfYFTFvTFuUB9VUC7wY\n",
       "spREc4WhQUv48+Fjp6DSEk4qQctzBMVJy72B7g+zr2bmo5cPwrxA81EWkINNIR+ENrWpTW36SKkn\n",
       "x2pmPnp5Yn6grfCrOYNaIdWmNrWpTTb9HwF/W7tq9tB8AAAAAElFTkSuQmCC\n",
       "\" style=\"display:inline;vertical-align:middle;\" /></a>"
      ],
      "text/plain": [
       "(|(x_{1, 1}, x_{1, 2}, ..., x_{1, n}, x_{2, 1}, x_{2, 2}, ..., x_{2, n}, ......, x_{m - 1, 1}, x_{m - 1, 2}, ..., x_{m - 1, n},(1 * 1), (2 * 2), ..., (n * n))| = |((1, 1), (1, 2), ..., (1, n), (2, 1), (2, 2), ..., (2, n), ......, (m, 1), (m, 2), ..., (m, n))|, |((1 * 1), (2 * 2), ..., (n * n))| = |((_b, 1), (_b, 2), ..., (_b, n))|, 1 in Integer, n in Integer, 1 in Integer, m in Integer, (1, 2, ..., (m - 1), m) = (1, 2, ..., m))"
      ]
     },
     "metadata": {},
     "output_type": "display_data"
    }
   ],
   "source": [
    "requirements"
   ]
  },
  {
   "cell_type": "markdown",
   "metadata": {},
   "source": [
    "### Row-major vs column-major order\n",
    "\n",
    "By our convention we the linearize a range of ranges of parameters according to row-major ordering.  This is what we used in the example above and is what `var_range` produced.  A column-major ordering is allowed, however, as long as it is employed consistently.  We repeat one of the above examples using column-major order."
   ]
  },
  {
   "cell_type": "code",
   "execution_count": 99,
   "metadata": {},
   "outputs": [
    {
     "data": {
      "text/html": [
       "<strong id=\"x_11_to_mn__column_major\">x_11_to_mn__column_major:</strong> <a class=\"ProveItLink\" href=\"__pv_it/exprrange_reductions/c921582d58538cf0883bfc7184efed9416156ed50/expr.ipynb\"><img src=\"data:image/png;base64,iVBORw0KGgoAAAANSUhEUgAAAkYAAAAQBAMAAAABu62cAAAAMFBMVEX///8AAAAAAAAAAAAAAAAA\n",
       "AAAAAAAAAAAAAAAAAAAAAAAAAAAAAAAAAAAAAAAAAAAv3aB7AAAAD3RSTlMAEHarMolUmd1mIs3v\n",
       "RLtmgJDEAAAACXBIWXMAAA7EAAAOxAGVKw4bAAADb0lEQVRYw7WXS2gTURSGz0wek4wJvQZL6UbH\n",
       "BFERJI0rwcVY6mPRRVAqipsUBLszCqJFFxVEXUYQBYs1IiK4MFm7MagIurGl4KpghW6FFupGkXjv\n",
       "zJ25z04nKT2LdHrP/N//z+3JTAegUNo1UQOpjOLIiXMQo7Rq2B5o37IeePqMdbNizciLFpScm3GY\n",
       "WvU2QfuW9cDTZsw2s2uJhrz6FJ6jozGQevX2QPuW9cLTZkyC1cY/htvepM3SVRdu4c/BsyMQ9rRF\n",
       "1cGgzuqglCJCjYkjKB40lG9WgqnaiHJk5WdUKudgTNGbxdED4eoHMqNAxo72NiiiDoqTc1CfIkEt\n",
       "iJp+HsrJNyvOVG1EO4Jw4Ur9aBoI0r5+KljM/4Gd8A9aLj5OR7E9dVBTOiiliNCBeXs9HpTJNy3+\n",
       "SpRGtCMIFy7V7vljkAJ+j3A641eiA1V4yO2ROqdGqM5Oj+7n5SLUo8jQLMKJDTUiUqCBPPpxJJs+\n",
       "eVQsH1wRQiJvj/iG6k0z4pPq5EY2PVoy51y4cvw2fOf3yPiLf1sf6uTJ0/I80D0iq7CnzR14H756\n",
       "eKmRa3JyCYopKhRSMwwj0iUolbN+ZBbf1Hj2BT5CSWgQR7GhYv2M5KSv5NaGI5TNMgwV09M1YY4e\n",
       "IDCuOZcfk1vRnWCPyCpkyObeB3qQwU1f/eIQDCBOLkEJRYHCaeQRJChTh1AqZyeyszVZfFO70IZ1\n",
       "uC40iKPYEEEsIzlpDS+QCK5VDeaM26M0G+y3KOyl1XGfDI8qsKSTUyihKFD7p0AIJUiBSnJ9TUqm\n",
       "CSfZgXtCw3PUNVTvhJPv+BHGIVPT7FGKUet2M+il1FzhBsMnuJFU5RTqURToa3jDE4Li1BQqyTeo\n",
       "qmSac81le9XlG56jrqF651yr7noRDkMryZGNqn+RBfYXHzuFBqlrQb1Phg9oexXuXlLlFEooCtRe\n",
       "GbvKEdhrA8hQSb7BPduRTFt4FrLLdT4kdtQ2NN4tyJx0B0mECsxZAeDibyf5GV69PwPAxN+6XRiv\n",
       "kR6/GpTJnpdl2NdQ5RRKKAo01+2ucoSwHAUqyfVlyqaLsKNpVxDXII7ahsZ7EcwLOCSO8A5e7hW+\n",
       "j1r72C+X6R5WtwjtW9UTThdyQfs/FYqLXIi/ulVo36pecNqQ2te+bGxmI/7qVqF9q3rBhSH/A8DZ\n",
       "VxucgwZvAAAAAElFTkSuQmCC\n",
       "\" style=\"display:inline;vertical-align:middle;\" /></a><br>"
      ],
      "text/plain": [
       "<IPython.core.display.HTML object>"
      ]
     },
     "metadata": {},
     "output_type": "display_data"
    }
   ],
   "source": [
    "x_11_to_mn__column_major = ExprRange(i, ExprRange(j, IndexedVar(x, (j, i)), one, n), one, m)"
   ]
  },
  {
   "cell_type": "code",
   "execution_count": 100,
   "metadata": {},
   "outputs": [
    {
     "data": {
      "text/html": [
       "<strong id=\"double_nested_lambda1_column_major\">double_nested_lambda1_column_major:</strong> <a class=\"ProveItLink\" href=\"__pv_it/exprrange_reductions/b63a6cceedf898c63bd700425e7228f53a4c6c7e0/expr.ipynb\"><img src=\"data:image/png;base64,iVBORw0KGgoAAAANSUhEUgAAB+0AAAAXCAMAAAD5oS1BAAAANlBMVEX///8AAAAAAAAAAAAAAAAA\n",
       "AAAAAAAAAAAAAAAAAAAAAAAAAAAAAAAAAAAAAAAAAAAAAAAAAABHL6OuAAAAEXRSTlMAInZUiRDN\n",
       "mWbv3US7qzLz6SJmQj4AAAAJcEhZcwAADsQAAA7EAZUrDhsAAAqPSURBVHja7V3bgqsqDPV+13P8\n",
       "/5/dakvlFhIgVLu3PAzTEVmLrCQg2jHLtpJnT3kKS8lDGuchJ/OTyu9gkxv0S5Xkke0nZbuir9uL\n",
       "/fvSU3NrUT6z1FN4yljQ2wq/0+uLSF0M712Shq3g7OD+yPaTsoVG5y0Sx63I3Et6xBNEXVbPJPUU\n",
       "No/uqC2F3+n1MtT2E8ADLKQQ+Lxtm2lJbROPgpqLR0eQuyqbyzzBDOmygfA3lS2GVpxsodGJllg/\n",
       "9IlR7Lo22rpJI/a7iVit6+aZop7CVxpi0Au/U+t6bpvV1gN4gIkUAp9P249qHdPaxKMgfPl0BLir\n",
       "ssHmiWJIlQ2Ev6lscbRiZPPjSZ4dOPyQKjY+2TNYN5n030/ESt122VOewla6ltZO+J1eZwWUNorw\n",
       "fGKQGjuADoAyH/e9+p4HfvSOOV++fDoCeqqyOc0TzpAqGwjPK5u/br58k8tGLUZU4teSsX7oEaPu\n",
       "wmHdZNJ/PxErdZ895SmMpbdHfaE9otIDdZLZ3iBV6nfmEPj++Ou85izwpfd9QV++jDra9VRlc5on\n",
       "giFRNhCeVzZ/3Xz5JpeN3IvuZulne48YRfrhsG4q6S9IxFJdPhv5T2EtzWcNqwRMqa6Whd/pdaLZ\n",
       "vuncsYjBz8Pxc11Y4ONne4K5uHRsbNckmmxO80QwJMoGwvPKFp/yKeZKKRuZtxGVX5jt6TGKXNtz\n",
       "WDeV9BckYqlu348O1EUx10tVER4b9GhKK14d+jS+lukFaIn4eXVbzeK3Qfm7+kn4nV4HzPYUdicp\n",
       "eywS4PchrIG20eDjZ3uM77iRyqtiKsLlFJx10wGyAeaBLcorGwwPHOCAj5ANoOXSjUE2atHkPVlt\n",
       "8NPIrbKf2BQyMbGaVnqUPUPkAp6w1WLi3668irnI2oHgCvSmRN/y6dCn8bVML0BLxM+r266xz+/l\n",
       "hCw8Q2d7CruuccciAT7LlrUItI0GHz/bY3yrbNpIZbV1O5Mmp+DcNcQrSKt5YIvyygbDAwc44CNk\n",
       "A2i5dGOQLfCy8MOq26ansudW2U9sCpmYWE0rPcqeIXIBT9jq4bVM6La+u02vGd//8WhKK14d+jS+\n",
       "lukFaIn4+XV7urDmk8Uk5YO33xm1/2xPYqfHlR6LBPit0RxqGw0+frZH+I5jNuyLq9y2nUmUU3C2\n",
       "JlRTNrt5YIsyywbD2w+wwEfIZqfl0o1DNmpR5T1Z7cPpVm6VvcQmkYmJ1aTSo+w5IhfwhK3uX5sJ\n",
       "e9etWM7U8sKm1lc5ctO6qua5BpvSioKtb1240JWjKhU3U0vbWKahXVLRSLaFpeEjgrf+uPB//w9K\n",
       "WaVvxbz9zqjVtFGvjT2fSAdIrnuSag8qfX9Us07HAZ+1k+UALRo+8HZ0575KCN96+3VvUX4OQgaD\n",
       "401wPk0n9WHKZjcPbFFSINNlg+HtB0i5AYOPkM1Oy6UbMfk4ZXMVuZkqr8rq5ECITp8cRhObRMY3\n",
       "Vv3JBEqPsjc9gOYCjiFIteR//Xs1shTFeVWmfDCatsfgnE1ppbcvndzoylGFCsIUaBvDNKZLAhrd\n",
       "ttYB8xHBywhd24+NdJuKNttnQwtcPQwtaib5w4gs1QnwnRzpCjweDSP3tT3KtzxCfG4QgzniTXCW\n",
       "uJ99mLLB5oF1QwOZLhsID/PCc8PIfYGH83XrRkg+TtncF/QtGJ0vVq+Jpq88o5Oaw6hiE8h4xmoA\n",
       "mWDpUfaGB5BcwDEEqT73lsb9TkF9SFbKZihNm3ya7ssQac+hDJ1dJGzdaIOrsXRUo+Jkam8bxTSi\n",
       "Sxoa0baQNHxEUDcf7LP9ovzHCr6dfJLr6tbz38k//hNWnnuYXMLU4JPv5ItssXZZHRpv4jer4xmy\n",
       "weaBdcMDmSwbCO/ghecGDD5cNpCWUzdK8nHKFraTL1gN1ZtDHa8yIdVDxsPJ+MeqN5lg6VH2oZEL\n",
       "DkGqX8/+1dOYzfsSoMrAlPlGUJp2tT2/kdhYO2y7bQnY0tAVohIVlOn5wYeok6lnl75o6lAP6Dkr\n",
       "uvf/h8QHDJwRP2y94+1Pk322b5ToE8+c6rX3bE9xXZmUPRZR+OXovqhd6FA0GPDxsz3K97hs2LcD\n",
       "K6fBwHg7Oeums8oGmAdmSApksmwgPHSAkhtw+GDZYHOButGSDyIbtejyHqxeW8zbZJR3DCq7Eofb\n",
       "eCgZ71gNIBMsPco+LHIdQ5Dq1+P55brU7dbPWIIpU9w90Jpu0OYlzHkXAv7F2mHdjf02/j4nomsr\n",
       "sBcVCtP3B5ON6xc3U71Lx5C90ZShCuh5f0CTNGDwjNhhGx1n8reMlO+XaN+3t3w9RByB/i2G/QDB\n",
       "dTPtq0+WWMTg86Hdy4CgW6PBhNfQXZ4SyvdIZEWTdYuLMhhvGfAlO0A+yDwwQ0ogk2UD4cEDhNyA\n",
       "w7tCPYyvQzdS8kFkc2Uip7wHq9czZVOVVfEquxOH23gYGe9YDSATLj3KPihyXUOQ6uU1QbZFseXj\n",
       "rszglDm8XnugNVXehvA5bxB//NxyMH+xdZjXxW6ztSaiq0lCUCEwFR8+RF1MRSM3U6NL25DbMDRl\n",
       "qAJ6+QiJDRg8I3bYZsfbafavwFaq8y6DvZ7nfm1sz5xCByiua5LSYxGDH9ajNAi6PRoMeGOXz+Ep\n",
       "YXzHV1jPXek0GBxvJ2ernppskHlghqRApsoGwoMHKLkBh3dltyC+Dt1oyQeRzZWJHPK+WL0uJMe2\n",
       "yONVpiQOwHgoGe9YDSETKj3KPixyXUOQ62FBblp8PpT214XU1pt+lK1iW6P9u4byExJudIXoSQVn\n",
       "+vkQTNRg6telL5oy1B166aWbQeiAaWcEDNvoOCfeLxR+p9eRxe66BiljY44HHoiGPPYmYCq+jngT\n",
       "nAE9U8r2seK3ZANyAw5/G9kMznncA7rM8lJy2NfEpqTHG0vvm4iV2vb6BHvKtG3g5K38OMR5Hunl\n",
       "frZG/b46abOFhK4QlaigTM8PwUR1pp5d+qIpQ92hi2nf9XnDowMmnREybKNj6ssfrC9tSDXbG6SM\n",
       "d1awwEPRoMMzvBWHyVxwvCHvRUko22nFL8kG5QYc/i6ymZwj38HCLC8lh31LbFJ6vLH0volYracc\n",
       "UKVWH62oC9v6aFmWttabWtuaGxO2DtdjFVQuFHSFqKBCYXq2DSaqM/Xs0hdNHer6Xst10/FNEsKA\n",
       "KWcEDVvvOCc/HCT8Tq85EormPBRSDPBQNORTxl94zAXGm+AMck8m2xlJX5INyg2/I5vJOZo7r7yE\n",
       "HPYtsUnp8cbS+yZira71keVVs1bHvkB5ftgWDrb1xXGHxGiakSY8W6Nxf8SgqDoSukJUUKEwPdsG\n",
       "E9WZenbpi6YM9YDeH3HP59eDp+iASWeEDNvomO7Swu/0OioE7K5LIcUAD0XDlOJdZzVLQgLjDc32\n",
       "yWQ7I+lLskG54XdkMzlHc+eUl5TDviU2KT3eWHrfRKzXOZj6PV6ukuA9MYnQr2V6AVb5RSqFR5gI\n",
       "v9Nrdm40UpzwZahNMn/zJTWZg/tfKFsA/M/JFhqdt0gctyJzvfSEIdA9YqQ/bjbyv3YzEfq1TC/A\n",
       "Ssbum8P+LW53tsytSV/M4Rd1+0HOt6L8k7GaYghdkqYXo1/L9AKs7j5U7mymf8UytybdPSb4Bzh3\n",
       "D5lrhvAHuxOnAeDaXYsAAAAASUVORK5CYII=\n",
       "\" style=\"display:inline;vertical-align:middle;\" /></a><br>"
      ],
      "text/plain": [
       "<IPython.core.display.HTML object>"
      ]
     },
     "metadata": {},
     "output_type": "display_data"
    }
   ],
   "source": [
    "double_nested_lambda1_column_major = Lambda(x_11_to_mn__column_major, Mult(\n",
    "    ExprRange(i, Add(ExprRange(j, Mult(i, j, IndexedVar(x, (j, i))), \n",
    "                               one, n)), \n",
    "              one, m)))"
   ]
  },
  {
   "cell_type": "code",
   "execution_count": 101,
   "metadata": {},
   "outputs": [
    {
     "data": {
      "text/html": [
       "<strong id=\"defaults.assumptions\">defaults.assumptions:</strong> <a class=\"ProveItLink\" href=\"__pv_it/exprrange_reductions/5c566e3cd1b843078aead642e9430b5a476615ea0/expr.ipynb\"><img src=\"data:image/png;base64,iVBORw0KGgoAAAANSUhEUgAAAH8AAAAVBAMAAACd/CwcAAAAMFBMVEX///8AAAAAAAAAAAAAAAAA\n",
       "AAAAAAAAAAAAAAAAAAAAAAAAAAAAAAAAAAAAAAAAAAAv3aB7AAAAD3RSTlMAInZUiRDNmWbv3US7\n",
       "qzJazP2FAAAACXBIWXMAAA7EAAAOxAGVKw4bAAABx0lEQVQ4y52UMWgUURCGv729zd3t5cIFAoEQ\n",
       "cC3EJoJFSJsldUI21kK2ESwsLMSVYHGdVTSFjVh4kCIQlCw2QlLkEmyVKBiCzV1xlY1nIBIIZJ23\n",
       "a/V2eQf3YN9b+Gf+mfln3gOajLxS19Ld0Qk+qm2+GJt++tXoa0WPepRa4ITFeIfV2EQwS/kKHkCl\n",
       "VYg3mtS2TATf4A28gFoxXrug8cdE8C6gK0ECForxRpvGtYngJ3R7jLV4AvU7a0vHeRN3kCn9Y2rO\n",
       "6y8XCLIH5RMeyj7+nXXV0spuuk4y/LeXHv4Xz7mM7VSQjRT/kOET51AN2YYDt8ONXi5AZleP32Od\n",
       "Ux3kM5RAwvsWgvWYxUDHK530cJwr7Asq+W4/V1kMFAGLcJrDN/+f9kB513wdr6pK61uqBOV96Wga\n",
       "2D6TWT9CXJ/DZqBpMI/VxG6j5H8tSZa1AH24hXKS2FLiqaUN3IRPKaDaYUXG9ppS+FIb5Z0oajt/\n",
       "5U/kfQWf9QAzUbQhOfv8kkLaOGfanXSTJAnZlRT24TZ8uqkPQZIIvRvj9gzjZgdD7vOMiPnYgJeH\n",
       "PQjP5Dsy4PeG+FtqVu4bDLwhBOPqAlje6E+aKPsPFq91bEart2wAAAAASUVORK5CYII=\n",
       "\" style=\"display:inline;vertical-align:middle;\" /></a><br>"
      ],
      "text/plain": [
       "<IPython.core.display.HTML object>"
      ]
     },
     "metadata": {},
     "output_type": "display_data"
    }
   ],
   "source": [
    "defaults.assumptions = [Equals(n, two), Equals(m, two)]"
   ]
  },
  {
   "cell_type": "code",
   "execution_count": 102,
   "metadata": {},
   "outputs": [
    {
     "data": {
      "text/html": [
       "<a class=\"ProveItLink\" href=\"__pv_it/exprrange_reductions/c2fb0b16847adf773dccfa907eb9489c81fc8bfb0/expr.ipynb\"><img src=\"data:image/png;base64,iVBORw0KGgoAAAANSUhEUgAAAZEAAAAVBAMAAAB1Wc4eAAAAMFBMVEX///8AAAAAAAAAAAAAAAAA\n",
       "AAAAAAAAAAAAAAAAAAAAAAAAAAAAAAAAAAAAAAAAAAAv3aB7AAAAD3RSTlMAInZUiRDNmWbv3US7\n",
       "qzJazP2FAAAACXBIWXMAAA7EAAAOxAGVKw4bAAADw0lEQVRYw42XS2gTURSG/2kS00yTNHYjFIX4\n",
       "Alc1ihR0FVyJYJuVICjJRlRQzKIYKYLBhW58VEFQFFqoUqioxZWujN258Y0vECu46kattAiC8Uzu\n",
       "Y+5jMjMH/szc2znnu+fMnXtvARTAFGZOrC7N7LAxQE6XQLFAPSWmUOsrWl0bI1wecUmLAwrgRI5N\n",
       "gnZwLVaUv2oNz7aY/okykL+rVLNxfEHcp55P0QiaTNI4aM2pFyEgi2O6qByy/LG6AKVqHaU+nPRj\n",
       "ag1mq8yO/cChU8t+ey2Sf/2n6/RzmEsEZSCnhdG57iCLY7poHLL+kgClm0zYqsbYagbsrfObx/x6\n",
       "2nvxSiavgZtqeOACFzcOyhWQmegOsjimi8Yhe1oRoAyYIjLBdX7dzq8TRiaTFXwtKOEpaoWJGwdl\n",
       "lpH7FQIyOaaLxiHbK0HD1BqOkclRnZCoGZl8Br4uKOFpojSZuHFQbgq5fyEgg2O5aByyIxI0Rq2x\n",
       "0EzW7R6g3306IV02MiF7KO9ObHgLJF8xcZMguD+DQckNly1OgIvCcd4N/Zago6IO3TLpu4qX1Dqv\n",
       "EzrF1jPJL8mvdKVSLaCXXpsnpdis4D+KgSBnGmcsToCLz8GTQnYZAjRNHdNhmRxoYpwuO3WCW7Iy\n",
       "cWX9E8vIFJGgTynhf9wShPvBILeMaxYnwMXnpG4gXYMA3aKeW37Mag1G4yxwx6uK1zE+O3tzdtYL\n",
       "m5mTmaRWWNwzskHh+8vI04zwxB+QoHSrC6hza3ACXBTOTy99ATIyceswGreR8hbwJ3qtlEwww9bP\n",
       "V7JB4Z+W0Eel6puQD0jQJXQDwebYLgon00J1DgIUNbtSS+j1CrsranbtgFPwtxMqcII2ek/G7KLD\n",
       "weouINgc20XhVIu4AgjQPN3Oh2XyG7naNuCiTsgWjUzyZfQIp/4FmsHobTFxE6DvwObA7+QPVdbi\n",
       "WC4qp1rC+0RBgPaJFXZU3W+Uxjx21etiNZSEzvKaVLa4wUZjXNznmtk6W6g7izUzDnJmGo2pQBDN\n",
       "/xGLY7monGwxMZOWoEXvGEf6MnnC38XUxqFN397QVnRPJ+QpdO7Tykd/kW+3V+R7fOedZdw5JnFW\n",
       "ZHLb7XYtEJTcc65icSwXjfNmZN2QBLk0SncBUeZMGYQHkS6DXGLxjAWyODHGxkHekU0e27pbummc\n",
       "7C5EupzmUs6G0SCLE2NsAvSMK9zWmh3ZyH8zW0zSYoEsTrSLBB3kCjcrXqoV4eGlqqUbC2SPO9JF\n",
       "gpwiU6j12G9gIMJlPZdfuxigAE7k2DjoPwgbP2ve1KrYAAAAAElFTkSuQmCC\n",
       "\" style=\"display:inline;vertical-align:middle;\" /></a>"
      ],
      "text/plain": [
       "((1 * 1 * a) + (1 * 2 * b)) * ((2 * 1 * c) + (2 * 2 * d))"
      ]
     },
     "metadata": {},
     "output_type": "display_data"
    }
   ],
   "source": [
    "requirements = []\n",
    "double_nested_lambda1_column_major.apply(*abcd.entries, requirements=requirements)"
   ]
  },
  {
   "cell_type": "markdown",
   "metadata": {},
   "source": [
    "If the ordering is not consistent, such as using row-major order for the parameters but column-major order in the body of the lambda expression, an error will occur."
   ]
  },
  {
   "cell_type": "code",
   "execution_count": 103,
   "metadata": {},
   "outputs": [
    {
     "data": {
      "text/html": [
       "<strong id=\"double_nested_lambda1_mixed_order\">double_nested_lambda1_mixed_order:</strong> <a class=\"ProveItLink\" href=\"__pv_it/exprrange_reductions/66194235a765471c330729ac60eb1f9e66c0e5870/expr.ipynb\"><img src=\"data:image/png;base64,iVBORw0KGgoAAAANSUhEUgAAB+0AAAAXCAMAAAD5oS1BAAAANlBMVEX///8AAAAAAAAAAAAAAAAA\n",
       "AAAAAAAAAAAAAAAAAAAAAAAAAAAAAAAAAAAAAAAAAAAAAAAAAABHL6OuAAAAEXRSTlMAInZUiRDN\n",
       "mWbv3US7qzLz6SJmQj4AAAAJcEhZcwAADsQAAA7EAZUrDhsAAAq/SURBVHja7V3boquqDvV+13P6\n",
       "/z+71U6qQEIChGr3lofF7DIyBhlJ8NaaZWvLs6c9TaTlIcZ5yM7ypPI7+OQG43IleWT7SdmuGOv2\n",
       "Yv++9NzaWpTPKvU0mTYWfFsVd2Z/EamL4b1b0rRVnB3cH9l+UrbQ7LxF4bgVmXtJT0SC6svqWaSe\n",
       "JhbRHddSxZ3ZL0MN74BuECFFwOdt20xLap94NNJdMjqi3HXZXO4JZsiXDYW/qWwxtOJkC81OssXG\n",
       "oU+OUue10d5NmrHfLcR6XzfPEvU0udYwk17Fnd7Xc9u8oBHQDUKkCPh8Wv+pXmNan3g0gq+cjgh3\n",
       "XTbcPVEMubKh8DeVLY5WjGx+PNmrg0QccsWmF3sB7yaT/vuFWOvbLnva08Ra1/LsVNyZfVZgZaMI\n",
       "rycWqbFD6CAo837fq+9l4EfvnPPlK6cjoqcum9M94Qy5sqHwsrL56+bLN7ls3GZlJX0uGRuHHjnq\n",
       "bhLeTSb99wux1vfZ054m2Ho46wvjEZUe6ZOs9hap0rwzR8D3+//Or1wEvvS+L+jLV1BHWE9dNqd7\n",
       "IhgyZUPhZWXz182Xb3LZ2KOYYZZ+tffIUWIcCe+mkv6CQnzqy+dC/tNEW/M5htUSptSPllXcmX2i\n",
       "1b7p3LlIwc/D/u9rEYGPX+0Z7pLSsYHOSQzZnO6JYMiUDYWXlS2+5HPclVI2Nm8rK7+w2vNzlDi3\n",
       "l/BuKukvKMSnvv17dKAuirleqorx2KCHKa95DehjfC3TC9AS8fMatprVX4P2//onFXdmH7Dac9gd\n",
       "pOBcZMBvU3gF+saAj1/tKb7jSiqviqkIl1NxNl2HyIa4B/eorGw4PLJBAj5CNoSWSzcB2bjNkPdg\n",
       "tcJPo7TKfmJzyMTkalrpSfYCmYtEwtqrhX898yrmImsHRijwTZmx5TOgj/G1TC9AS8TPa9iugdf3\n",
       "ciIOPENXew67rnHnIgM+y5ZXEegbAz5+taf4Vtm0kspq8HImT07FuWuYZ5Cge3CPysqGwyMbJOAj\n",
       "ZENouXQTkC3wtPDDqluXp7KXVtlPbA6ZmFxNKz3JXiBzkUhY++F9mNCtY3erXjN9/cfDlNe8BvQx\n",
       "vpbpBWiJ+PkNe4SwEZPFdKoHf3Fn9f6rPYudmVdmLjLgV6M51DcGfPxqT/Adx2zYDq5y6HImU07F\n",
       "GSyotmywe3CPCsuGw8MbROAjZINpuXSTkI3bdHkPVtt0upe0yl5is8jE5GpS6Un2EpmLRMLa9++L\n",
       "CdvQrTqcqc8HNrV5lIOa1lU1zwE3b3BswlgHtPdEbSWYho4R6Bfwuo5TGmiHMM4kEeOoWv31v/8P\n",
       "WnudvhXzF3dWr5eN+tXA9eS0gRW6B6l2p9L3ezebdBzwWTsBG3jx+IGH0Z3XVUL41uufm0X52Yg5\n",
       "DA8pxflw3WkMWzbYPbhHWWWELxsOD29g1QYKPkI2mJZLN4dsEGdQNlc7m+ny6qwODozs9KntPLFZ\n",
       "ZHxz1Z9MoPQkezsCeCHgmMKpP8Vf/3c0shTFcVamfXCbtvtMw1Y2cEDKWANE9gRtJZjGjOGPBqrp\n",
       "lAa5rBbKuWcf247Yuf3YnG5T8Vb7bGiRs4ehJcPn/GEkDtUZ8N050zV4Oh5H6XN7km+5p/jcEA5z\n",
       "hJTifOJ+jGHLhrsH140sI3zZUHicF10bRukTPJqvWzdENogzKJv7hL5Fs/PN6r3Q9JVndnJrO1ds\n",
       "BhnPXA0gEyw9yd6KAFYIOKZw6o9rS+N2p6DeJSvPbihtn8Cm2zFJHvYkJIbtNjYAoT1hWwmmEWME\n",
       "+QWMqMFvj3DOBBGYlM5u0X6xQu5KPit0TU/5X8nffwkrz8Pi0YBPfiVfVYtXl9V+ctouAxPSkg13\n",
       "D64bXUbYsqHwDl50baDgw2VDaTl1w2SDOJcxZyKmvG9WQ/XHoY5XmVHNMOfRZPxz1ZtMsPQk+9DM\n",
       "Radw6t/P/tXTmM3bIUCVoSXzDwE37eqPA1ls6AHbbj0ebFHjE6C2J2l7fPAh6hrQZhrcYLQdYM6K\n",
       "7vyTkC5poD385s0mcp79+mmCV/tGyz71zKnZe6/2nNA9k4JzkYRf9uGL2oWOxaMFH7/ak3z304bt\n",
       "cmDldJguHegy03WgbIh7cIasMsKWDYXHNnBqAw0fLBvuLlQ3l2wQZ1A2bjPl3Vm9LzGvi1HeCahs\n",
       "1xGu2CQZ71wNIBMsPck+LHMdUzj178fzy9dSt+s4Y4mWTHX3wGW68hjOtq4/6AHrbuxXZ/Q5bqwA\n",
       "9bWPYfv3wWbj+gMdEGLqmrI3mgKYt2cyWdIge5jzliBynn12/paR9v0S4/v2wNdD1BbsZzHgDYzQ\n",
       "zYyvPgG5SMHnQ7u1gUAH49GGN9BdkRLKdy9kRZN1i4uyIR3oshb6eW9DNsw9OENOGWHLhsKjGxi1\n",
       "gYZ3pXoYX4dubtlszpBsrkrklHdn9X6mbKqyKl5lqI5wxabIeOdqAJlw6Un2QZnrmsKpX97Lc1sU\n",
       "az3uygwvmcP7tQcu08+rEQb1ioTPLQf7D3LAvC42B76PGWFj7V0Mnz0ZturDh6iLqTJCB4SYwlNu\n",
       "w9AUwKKHoUMaZA9r3gJEtNmvu8Ffga304F0GuJ/n/tVAz5xiGziha5Myc5GCH157awh0OB4teOsq\n",
       "nyNSwviO77Seu9LpMEM60GWgnoZsmHtwhqwywpUNhUc3cGoDDe+qbkF8Hbq5ZbM5g7K5KpFD3jer\n",
       "94nk2BZ5vMpQHWGKTZLxztUQMqHSk+zDMtc1hXM/LMRNi8+Hsqbub+Sf71iVnEvF5IDbFw/VMwYl\n",
       "/LKSGtqTtv18CCeqDUgy9bkGBP6Y2wqw9Jn+JR6nNOAeXvNmEznPPmfeL1RxZ/aRDQ5di5R1YU4G\n",
       "HonHPPYmYCq+unSgyxA9U8r28eK3ZENqAw1/G9ksznncA8TC8iK1XasjXxMbKd+eZC6THgkBdApa\n",
       "D70+AS6ZFSVg3n6ejWC93I8csN8OVdr9iweg8QlQ25O0PT6EE9UGpJj6NHD/DaCYtgs92cKTBtrD\n",
       "b95sIufZc1/+AL60IdVqb5Gy3lkhAo/Fowkv8FYcIXdp0oEuQ/RMKNvhxS/JhtUGGv4ustmcI9/B\n",
       "IiwvUtu1OvItsbHy7UnmMumREECnoPdTjqhS649W1AUu4G6aT8uytDVua16YIAd87YdE5YIYK0CD\n",
       "KG17MA0nqg9IMPVpMNrr7/Ctm7YvjzCkgfbwmzebyHn2OfvhIBV3Zi9RUAz/cEgJwGPxmE+ZfJNx\n",
       "1yEd4jKUezLZjiD9kmxYbfgd2WzO0dxl5UVq+1FHvic2Wr59yVwkPRYC2BSMvjZnllfNq9qvC5TH\n",
       "h/XAAYI8m/b77ZIMs7UaOeC4PW9QVB1mrAANorTtwTSYqD4gxdSngfvvANtT7fm8PWvKkAbaw2/e\n",
       "bCLn2fNDWsWd2UelABy6HFIC8Fg8TinedVaLFKRDOsRlKPdksh1B+iXZsNrwO7LZnKO5S8qL1vaj\n",
       "jnxPbLR8+5K5SHokBNApmH2Oln6Pl6uIvyemTGV8LdPrQMtvECk80kTFndmL0+KRkoQvQ32S+bsv\n",
       "qcsc3P+FsgXA/5xsodmZuHhdIHYsmeulZ0yBHxEj/3GzUfo3ZL0G9DG+lul1oIloXjL7u9O6qVPu\n",
       "T/piDr+o2w9yvhXln8zVFFPokpgmGLDLfoXpdaDdXYjc1D//Aafcn3T3uOA/wLl7yFwzhX8AvBCn\n",
       "AXzyE/cAAAAASUVORK5CYII=\n",
       "\" style=\"display:inline;vertical-align:middle;\" /></a><br>"
      ],
      "text/plain": [
       "<IPython.core.display.HTML object>"
      ]
     },
     "metadata": {},
     "output_type": "display_data"
    }
   ],
   "source": [
    "double_nested_lambda1_mixed_order = Lambda(x_11_to_mn, Mult(\n",
    "    ExprRange(i, Add(ExprRange(j, Mult(i, j, IndexedVar(x, (j, i))), \n",
    "                               one, n)), \n",
    "              one, m)))"
   ]
  },
  {
   "cell_type": "code",
   "execution_count": 104,
   "metadata": {},
   "outputs": [
    {
     "name": "stdout",
     "output_type": "stream",
     "text": [
      "Expected error: Failure to apply (x_{1, 1}, x_{1, 2}, ..., x_{1, n}, x_{2, 1}, x_{2, 2}, ..., x_{2, n}, ......, x_{m, 1}, x_{m, 2}, ..., x_{m, n}) -> (((1 * 1 * x_{1, 1}) +  (1 * 2 * x_{2, 1}) +  ... +  (1 * n * x_{n, 1})) *  ((2 * 1 * x_{1, 2}) +  (2 * 2 * x_{2, 2}) +  ... +  (2 * n * x_{n, 2})) *  ... *  ((m * 1 * x_{1, m}) +  (m * 2 * x_{2, m}) +  ... +  (m * n * x_{n, m}))) to (a, b, c, d) assuming {n = 2, m = 2}:\n",
      "Improper replacement: Improper replacement of ((1 * 1 * x_{1, 1}) +  (1 * 2 * x_{2, 1}) +  ... +  (1 * n * x_{n, 1})), ((2 * 1 * x_{1, 2}) +  (2 * 2 * x_{2, 2}) +  ... +  (2 * n * x_{n, 2})), ..., ((m * 1 * x_{1, m}) +  (m * 2 * x_{2, m}) +  ... +  (m * n * x_{n, m})) via {(x_{1, 1}, x_{1, 2}, ..., x_{1, n}, x_{2, 1}, x_{2, 2}, ..., x_{2, n}, ......, x_{m, 1}, x_{m, 2}, ..., x_{m, n}): (a, b, c, d), x: {(x_{1, 1}, x_{1, 2}, ..., x_{1, n}, x_{2, 1}, x_{2, 2}, ..., x_{2, n}, ......, x_{m, 1}, x_{m, 2}, ..., x_{m, n})}}:\n",
      "Failure to expand ((1 * 1 * x_{1, 1}) +  (1 * 2 * x_{2, 1}) +  ... +  (1 * n * x_{n, 1})), ((2 * 1 * x_{1, 2}) +  (2 * 2 * x_{2, 2}) +  ... +  (2 * n * x_{n, 2})), ..., ((m * 1 * x_{1, m}) +  (m * 2 * x_{2, m}) +  ... +  (m * n * x_{n, m})) because there is no explicit expansion for (x_{1, 1}, x_{2, 1}, ..., x_{n, 1}, x_{1, 2}, x_{2, 2}, ..., x_{n, 2}, ......, x_{1, m}, x_{2, m}, ..., x_{n, m}).  The known expansions for this variable are {(x_{1, 1}, x_{1, 2}, ..., x_{1, n}, x_{2, 1}, x_{2, 2}, ..., x_{2, n}, ......, x_{m, 1}, x_{m, 2}, ..., x_{m, n}): (a, b, c, d)}.\n",
      "(Note that multiple, equivalent expansion forms may be provided to fulfill this requirement and ExprTuple.align_ranges may be useful). \n"
     ]
    }
   ],
   "source": [
    "try:\n",
    "    requirements = []\n",
    "    double_nested_lambda1_mixed_order.apply(*abcd.entries, requirements=requirements)\n",
    "    assert False, \"Expected an LambdaApplicationError error.\"\n",
    "except LambdaApplicationError as e:\n",
    "    print(\"Expected error:\", e)"
   ]
  },
  {
   "cell_type": "markdown",
   "metadata": {},
   "source": [
    "## Singular and empty range reductions\n",
    "\n",
    "When the length of an **ExprRange** is known to be empty or singular, in the process of performing a lambda application, the **ExprRange** will be eliminated appropriately within the **ExprTuple** in which it is contained.  \n",
    "\n",
    "UPDATE: Obvious singular `ExprRange`s (where the start and end indices are the same expression) will be reduced at the time of `ExprRange` expansion.  Otherwise, it requires a separate simplification step (which can happen via auto-simplification during an instantiation).\n",
    "For example,"
   ]
  },
  {
   "cell_type": "code",
   "execution_count": 105,
   "metadata": {},
   "outputs": [
    {
     "data": {
      "text/html": [
       "<strong id=\"tuple_with_range_lambda\">tuple_with_range_lambda:</strong> <a class=\"ProveItLink\" href=\"__pv_it/exprrange_reductions/93204dadd073250ca5a73b7113bd7f2e63098be20/expr.ipynb\"><img src=\"data:image/png;base64,iVBORw0KGgoAAAANSUhEUgAAAYYAAAAVCAMAAAB127mOAAAANlBMVEX///8AAAAAAAAAAAAAAAAA\n",
       "AAAAAAAAAAAAAAAAAAAAAAAAAAAAAAAAAAAAAAAAAAAAAAAAAABHL6OuAAAAEXRSTlMARHarECKJ\n",
       "u90yVM1m75nz6fLLx40AAAAJcEhZcwAADsQAAA7EAZUrDhsAAANxSURBVGjexVnruqMgDJQ7grDL\n",
       "+7/sKqDcEap+64+e9mQ6mSQCMV2W+Yu8jiXLf4B9Gfc30OSC4nUsgG86HmP7NO4JCT+qFXQeu3Jc\n",
       "B5wGuI2SEa0lW6u31WUZYfs07ikJP6nFchaLkZamVobYIPEYGWH7CzWgUoXIcs/2adyTEn5Rq9u1\n",
       "A1sLC03D02XY9B2bI0N2K1WqpIotBRuYvePasQxeExLK2CuJyo4Q1Vm2+S6nluEyLArfsDkyZb+A\n",
       "THmwJZacTcxuwO1YRq8JCaqaneSfIi2VkOPSA3agDHLrs3kyxO2rKU+HxJKzPS6DkLNlmJBwQAFE\n",
       "mFDIAoonmPSTPg8qgigksOvowo6UgaJ+InR8QnLTishbcrbHZfDuy2TFLU9iu5dAIdzWE0oXhnYE\n",
       "Dus8TbxgtRoDtcNZmt3cUbgfBsqwyX4i4ptrNa2snpac7XEZvPsyWVFWU9udBML3BlgzDwVg4cd7\n",
       "EtY5z1LFohxy1zxjdcjSvOuIi4kyCNVPBI+6do6aiwHV2R6XwbmvJCsshsx2J4Ef60tBD8V7+Y4m\n",
       "T4RM/fnLk8tE/aFyb7W5mOxHi1PK/kEZNisDNrJWhjXsM1W2QOZvoZIssgS2urReK9iJpUxWEJDb\n",
       "biToKCUWKiweycZpsAAZdek+G4pZCaDf21TLsHBdKwO4WQ2BbIuTGZNFFvD2ajjdl8kKAlLbjQQV\n",
       "7fUW6r5ntqtDSsuwJk8XbnFiuwVvZnlxU+KDm5J9miWk9ZzrLDnbS5tSJVlxr5bY+hJwfLxZqKJ+\n",
       "KdFqGWQSsesDsBHOrSAd6aGfGDmiWT8RJ9lqVcIKX2zJ2R6X4XRfJCu+wRPbjQTjznxwQt2RAuWy\n",
       "nccO6Dw3+DbsUCX29ah70kPLRk1jjhgMmvYT4ckI18fFK8OM2JKzZWTXjl6+6cdSJisSkNpuJLhj\n",
       "jF5QwN18Z6sPEOmazeL8OAjSlSC49qR77IKQMhJVnuVjAwf9MniyvV84Lll7YogsOVuxx+jmm24s\n",
       "vWRltjsJlG6bX9QcTM+U+Do+AOhgy3v5dnceJyvZng8zZtxPSiB8frTXmUMVw6uRmVVzcpazTZCV\n",
       "bM9HezPuJyXoXybdjHyAJexNxyNsn8Y9JeE3tZh9gB2Jcdwx++JnUMw+KtqPagl8HQvJm47hNz9G\n",
       "z8Q9IcFC/wE2+CICOmITJgAAAABJRU5ErkJggg==\n",
       "\" style=\"display:inline;vertical-align:middle;\" /></a><br>"
      ],
      "text/plain": [
       "<IPython.core.display.HTML object>"
      ]
     },
     "metadata": {},
     "output_type": "display_data"
    }
   ],
   "source": [
    "tuple_with_range_lambda = Lambda(n, Add(a, ExprRange(i, Mult(i, i), one, n), c))"
   ]
  },
  {
   "cell_type": "markdown",
   "metadata": {},
   "source": [
    "Applying this lambda to set $n : 0$ will eliminate this **ExprRange**, leaving just the $a$ and $c$ terms in this sum."
   ]
  },
  {
   "cell_type": "code",
   "execution_count": 106,
   "metadata": {},
   "outputs": [
    {
     "data": {
      "text/html": [
       "<strong id=\"tuple_with_empty_range\">tuple_with_empty_range:</strong> <a class=\"ProveItLink\" href=\"__pv_it/exprrange_reductions/132172b37582f5eb5b74b0e0716ef2e82756d48d0/expr.ipynb\"><img src=\"data:image/png;base64,iVBORw0KGgoAAAANSUhEUgAAAUcAAAAVBAMAAAAnVjEQAAAAMFBMVEX///8AAAAAAAAAAAAAAAAA\n",
       "AAAAAAAAAAAAAAAAAAAAAAAAAAAAAAAAAAAAAAAAAAAv3aB7AAAAD3RSTlMAIquJdkTvuxBmmd1U\n",
       "zTKBpmoTAAAACXBIWXMAAA7EAAAOxAGVKw4bAAADSElEQVRIx62WTWgTQRTH//lostls01WEgj1Y\n",
       "PxBUtMEWvNnUUyuiOUjBk7lYFMGuIniT4EFBkQQPihVppQdpSiEqimSLBhQvIg1eVBBc8NhDW1oh\n",
       "SmucnexudndmyxT7SDaZ2ffm9983b2cG4FlIqAuqUFegCVKC7ATb1ZZhuqJV1u30plOCTEkDqdeu\n",
       "jvk8MMS4vQO2z1xvZaH0xUC0uCFK7/FW6iN9T3iUILsL3JipO01p/w8isj3v85JqCGnoz9rtTkR+\n",
       "AV83QmmvSs+c9nfcUVkKk2s7C1PmXNZdd06R0MSE1Thj/cpFhFXEcrbTTmAEGPMPth7lEXDE7k+U\n",
       "EdFYCpN/uyByPJE4bzXeW78x8qkjvGQ7jebRQ0TnfYOtR7kCzNmpi3dDqbOUoHClxhX5zRf+CQiX\n",
       "Ef5rOx0Aegy0FwVFmpQ/wIL99nVMILXKUqx63z2Q8YbLaa7Iw77wSXpNLrr83pLy7xYUSSiSKdKe\n",
       "/QIR+ZuloG/IAIbVeN0bTpPBinzsC28+84JLTGqFlFZNUCShhJZd8TvSNN5P6arKGqQLkMve8GSV\n",
       "K/KDL3yWXp+73JIki0pOUCShUJFpl8hllvICsQzkRSRNP1nXX13UdXOyYllHpLTWErlg/pvW9RFd\n",
       "p8rO0UnT6FQ10/fUzOaidzCveSkSEXU2Y1EKabStMBSZyohpKGS9z+gSiUpL5LDvGanIe82s0IUj\n",
       "YbLbRDNpUkhNzlUtCnlxlFWGEmsmIYNxCE33R850k11ji2sHCqlQyuLTjWvAuLMEkUWyzlAK1LtQ\n",
       "xUFF9YTHM1yRD3wir5LvT2DQeW3SiOaR0ARFmpT7wIyzmOcg1xhKB3mJs8RXqcjecLqKRJZcA/er\n",
       "zpLTEkkWi1ClVCrbTl2l0rS1frkGM8uV1pxV3h5KsipdciCzuGkwFFLzEQPSnqNbT3rDU4Qb3ru2\n",
       "zwnfNfqZPNBLn8h5Amk0GjVnkWw0iI6kr8BpuVZa5e2hSJPHDIdyu+8QWErvw0H+hvWGe/or+8KT\n",
       "Bs+tC6LbohglcOsf492Vi76t3zkLeGxK+IAhRgm0OO983cn0XOZlQhM+qglSgkzikVhJt0TJ/0UJ\n",
       "tG1sV5SlhzhlN4DNphD7B27g/V/YszMOAAAAAElFTkSuQmCC\n",
       "\" style=\"display:inline;vertical-align:middle;\" /></a><br>"
      ],
      "text/plain": [
       "<IPython.core.display.HTML object>"
      ]
     },
     "metadata": {},
     "output_type": "display_data"
    }
   ],
   "source": [
    "requirements = []\n",
    "tuple_with_empty_range = tuple_with_range_lambda.apply(\n",
    "    zero, requirements=requirements)"
   ]
  },
  {
   "cell_type": "code",
   "execution_count": 107,
   "metadata": {},
   "outputs": [
    {
     "data": {
      "text/html": [
       "<a class=\"ProveItLink\" href=\"../packages/proveit/core_expr_types/tuples/__pv_it/axioms/1a4193f1deeaf7a4a6b6289328d46189ae6a257f0/expr.ipynb\"><img src=\"data:image/png;base64,iVBORw0KGgoAAAANSUhEUgAAAAwAAAAVBAMAAACAghKHAAAAMFBMVEX///8AAAAAAAAAAAAAAAAA\n",
       "AAAAAAAAAAAAAAAAAAAAAAAAAAAAAAAAAAAAAAAAAAAv3aB7AAAAD3RSTlMAInZUiRDNmWbv3US7\n",
       "qzJazP2FAAAACXBIWXMAAA7EAAAOxAGVKw4bAAAAcklEQVQI12NgYBBgZAACJgNuBSBlwsCgwcDA\n",
       "msDAwBbAwN7AwMBRwMAJkp/KYAaiMhhKQJQvkAEEbQyLQZQlw2wQ9R5C7YQIWjEcAlE9QLVAUMLw\n",
       "CkStZuB6wMDAuABkLNj4gwwMMkDxGDCLgVGBSYABAJpvEmISwLzKAAAAAElFTkSuQmCC\n",
       "\" style=\"display:inline;vertical-align:middle;\" /></a>"
      ],
      "text/plain": [
       "()"
      ]
     },
     "metadata": {},
     "output_type": "display_data"
    }
   ],
   "source": [
    "requirements"
   ]
  },
  {
   "cell_type": "code",
   "execution_count": 108,
   "metadata": {},
   "outputs": [
    {
     "data": {
      "text/html": [
       "<span style=\"font-size:20px;\"> <a class=\"ProveItLink\" href=\"__pv_it/exprrange_reductions/8f8f837353743a26556a6facf3b786543f9a1bf80/proof.ipynb\" style=\"text-decoration: none\">&nbsp;&#x22A2;&nbsp;&nbsp;</a><a class=\"ProveItLink\" href=\"__pv_it/exprrange_reductions/ac950033b85c52ae0eaca56d0d3b086334fb3eb80/expr.ipynb\"><img src=\"data:image/png;base64,iVBORw0KGgoAAAANSUhEUgAAAawAAAAVBAMAAADoVMeWAAAAMFBMVEX///8AAAAAAAAAAAAAAAAA\n",
       "AAAAAAAAAAAAAAAAAAAAAAAAAAAAAAAAAAAAAAAAAAAv3aB7AAAAD3RSTlMAInZUiRDNmWbv3US7\n",
       "qzJazP2FAAAACXBIWXMAAA7EAAAOxAGVKw4bAAADu0lEQVRYw6VXz2sTQRj9kk2an8TgsVRM9dKT\n",
       "FikFewo9eWnNSVEKKYiQg2KEQkspWDzYi2gRCtYKDeRQjGiLp/aW9i+IIgqCNudeWvoLwUOdnzv7\n",
       "zX4rA84h4b19O+97szOzswBQBKoRbMyJiugP/sMlgowyEuL4IHWJYnOlEHWZuPWTeypHF5qkC9fi\n",
       "IfISZ/cqAYKDAVvllSE2/aBrxomD+LxzLOaSGH1ssAADlHKALpFuTJycpC4wNvn9kYklQU/Fkt0C\n",
       "6IPEHx9LcN81Ffe+B3fNZBIg5MJbmKQL1+IUGttN9S/Yq8GuOEjXLdkMwGeAZV8kwYKeDFGPLeCS\n",
       "bkCirXkJQi7iUt3uBBeOvJg4g7TX1H8GqFiwZMkWAVYrsOsPtwQZdZ9XiogVcMl3wDvRvAK2i2hL\n",
       "die4cOy1BMOk4TAdq4ZlHpsHPwB2/cUlQc+8Yyzmcq4OhSPNK1CjYtXsTob/EasGU3ylf+0v4Z6m\n",
       "6Fhj2DBVFn/rwR4ZSHQcYzGXKkvyW/MKWC6QuPTCkH7DhfteSsxHYauYP8E91ehYz7ChfCyFw4CM\n",
       "g/SkYyzmcrEcuF8ByyXWhDlFplqidXSJpnDtpcVNtqe8hlQDGzbpWNexYVa8ObKdgIwDb9ExVlMm\n",
       "OQ7GOg67lOGVIf2GC9deWrzCxuCAI4DZVmu51frAr66YWNVJE2sfkCyzwfGc2G5PZbccFA7kwL57\n",
       "owYWNexSLUPuULsoYLk8EWXs2/0ECg94aTG7mmlDdQOPYyBWtm5ibeFxFLHSsvI1ubVykHN9Witi\n",
       "l/COtIsClstb8btFxAoUrr20mD3LaglegtMkHCEm4RDEioE3PwNew30S5tl7ymzwEmCXpFx6I/ba\n",
       "woUrL1+8w64OwjeviAx36FjPcV151lehDHFfJ0G67RiLuaQXIeUfFxSwXNjemDOk33Dh2kuLx3h1\n",
       "3loKG4rt9GbwiCzAFDbkO3nv9PSsL5JA7fu+FV83Yu2pZYpcmnCnG9gGOLBc2HIdN6TfcOHaS4v3\n",
       "mOWX8QtXsCFj4efqQ3MikeA9Niyw2bZ+dnZqXloCZK35LtbNmlmmyOX26C9TqgSWS+LG04ohzdkb\n",
       "Fa69tDjbpaYHZv0DesOSfSTnWC84TkJHF0SaV0k38pTBxPgMuRl5skSnSy1bIKuecT3qOrqED7bh\n",
       "m5EXF2+TziTbZxN56gM11nb+3nJziSC3I7vl4gnyyoRTFUkqQd79q3/COeu2482+OEauAIqNh+s9\n",
       "T9za7/7R7+hCk7GopcvEfwE+6SfImxZz1gAAAABJRU5ErkJggg==\n",
       "\" style=\"display:inline;vertical-align:middle;\" /></a></span>"
      ],
      "text/plain": [
       "|- (a+ (1 * 1) +  (2 * 2) +  ... +  (0 * 0) + c) = (a + c)"
      ]
     },
     "metadata": {},
     "output_type": "display_data"
    }
   ],
   "source": [
    "tuple_with_empty_range.simplification()"
   ]
  },
  {
   "cell_type": "markdown",
   "metadata": {},
   "source": [
    "This reduction works as long as it is known that the `end_index + 1 = start index`."
   ]
  },
  {
   "cell_type": "code",
   "execution_count": 109,
   "metadata": {},
   "outputs": [
    {
     "data": {
      "text/html": [
       "<strong id=\"tuple_with_ij_range_lambda\">tuple_with_ij_range_lambda:</strong> <a class=\"ProveItLink\" href=\"__pv_it/exprrange_reductions/ec0fe39fdd935842f2fda9cfc25814462e0a00900/expr.ipynb\"><img src=\"data:image/png;base64,iVBORw0KGgoAAAANSUhEUgAAAdkAAAAVCAMAAAA9xGRLAAAANlBMVEX///8AAAAAAAAAAAAAAAAA\n",
       "AAAAAAAAAAAAAAAAAAAAAAAAAAAAAAAAAAAAAAAAAAAAAAAAAABHL6OuAAAAEXRSTlMAMrsQds2r\n",
       "me9mIlTdiUTz6fjtiKsAAAAJcEhZcwAADsQAAA7EAZUrDhsAAAPjSURBVGjetVrXgqwqEFQkSNBz\n",
       "/f+fvUaCQgfH9WV3oKwuuqRBZrqOe7kPsY5H4z7T+Y7JdX9zuY/z/k6n9B9iZ8mh4YSGuV8y0eT+\n",
       "UUoZwQtoLwbSTX6iK76w0lTHs7VKS6eB6bKhhGMobe7XTBS57CultGnC3sEInkOlIt0yKLriiA3V\n",
       "p+FoVQOVBqG70Nqo5eRscf/ApIbPjc1S2jTh6GAE5+s07edmtnRsuqyh0rToHjfIyw9reIMgMOFy\n",
       "0Ur5Kk3c4Nag0/q2GI9AUbmvAyNJ7jgQaUZq3OjHg/sDJlQuWnvfpYkbvDb0osmX3ntFl+xphVtZ\n",
       "Gk2TDvBDVZ/pn5gwuWxnPWN9YwQ/oYOUOq1/5WpYVo5rYXJ6kk6CYU7sIGvlJrVOuqPQtOkAP+7c\n",
       "HzBhctnOxpQWJpS5ujrw4JOUts+g68Qcbd1LL2oPzTyuVVosAxTmxE4r+Kk2tVoFq71CNukAP6wC\n",
       "Hud3TJhctrNxHhYmFN7HDiy4C+v7kxEJui2mi68728l8Jx4O1LBHMgEMc2B735lnfrNWj6T3DNmm\n",
       "A/zw1TXsJyZMLtvZa3ylCbetztmB5mqb/6NM0FW+T/Pv33+huJZlTuvy8a9ZincGs+PGcf+jS+xw\n",
       "hdo/LCqu5Vdrv3QEmipd/YbMj8QdI//KhMmF3ivA8RUm5HKzDiS4yYpohGbz7zZnZzV3d2dHsUef\n",
       "wQfokpw9NF2IG7LYipXE0tmSDptpGXeK/BvT/PWcHefM+prcrAMJPmYrZ4Rm7+yls33xznuUjmHZ\n",
       "GO1CKzNKd5UdeGz1gVONK3RQDQ3tavySCZP7uhpDBydXBxz8sOWm02Xzr7xbFS+0Qh4UmxqtOu8A\n",
       "yQd2n9pPxanVCnjkJ02bDtr3iFqefmLC5LKdFfGzuxXB7tGBBF+OfdacQ/P5NwPvs+deelPj14Jh\n",
       "IMkndi347rnlS61mgkc+aYTukdtpcfc3CpowChMsN62PaUuxKNL4nkWwe3QguTp2xVOfQ7VokB6w\n",
       "ZEg4j1Tl1Dste0jyie20re3lY2uYYWcvmibd7Qatx0VpW+X+gAmRm9bH+F8wpPEBJsQOLFfTZK0c\n",
       "CuhIrSmhpx+bAdj8FYxK06Jr10MXeIMgMOFy2aeLUU3ThKuDEXyHar9Od+pXA8BJ8+N4Gj+Vrp2H\n",
       "N2ladO1j8dZZ+w9MuFzsqo+vaULewQi+Qft1OxToX0QLxvf1BKwTdBrB/KlAm/s1E0Uu+1rVNE3I\n",
       "OxjBD6iRZqbLGMSnWEqOL5pBsDP2wSAKJvEXv5fZ1DRNyDoYwV/pdPJDrHQcGsda0yDul0zyb34I\n",
       "RVPDCL5D/wd9aSsru2duZQAAAABJRU5ErkJggg==\n",
       "\" style=\"display:inline;vertical-align:middle;\" /></a><br>"
      ],
      "text/plain": [
       "<IPython.core.display.HTML object>"
      ]
     },
     "metadata": {},
     "output_type": "display_data"
    }
   ],
   "source": [
    "tuple_with_ij_range_lambda = Lambda(j, Add(a, ExprRange(b, Mult(b, b), i, j), c))"
   ]
  },
  {
   "cell_type": "code",
   "execution_count": 110,
   "metadata": {},
   "outputs": [
    {
     "data": {
      "text/html": [
       "<span style=\"font-size:20px;\"><a class=\"ProveItLink\" href=\"../packages/proveit/numbers/addition/__pv_it/theorems/10cfe086dee5530e9b3b60486d89c6cb824c41920/expr.ipynb\"><img src=\"data:image/png;base64,iVBORw0KGgoAAAANSUhEUgAAAC8AAAAQBAMAAAB0JTvnAAAAMFBMVEX///8AAAAAAAAAAAAAAAAA\n",
       "AAAAAAAAAAAAAAAAAAAAAAAAAAAAAAAAAAAAAAAAAAAv3aB7AAAAD3RSTlMAdpndiRBmRO8yVM2r\n",
       "IrsWj4mGAAAACXBIWXMAAA7EAAAOxAGVKw4bAAAAzklEQVQY02NgQAPB/14HMHj8KAAyhVBlXrEf\n",
       "YGD9AGKZoEocvuDGwNDAgAlOPeC+wGCAJCBnbLwBRJ9N5N2ALFEtCmWc5ZkgApJgFUoAcXm3wlSc\n",
       "ZXjAVwCUYGEHWwQ0Fy4xidUUKDGLCWwyNwNCgm3BOqDiAA4BEHeGMRA8gEgwHOUBmbI+AMSNQ9LB\n",
       "EMMKctUeVhCXGVmCUwCol/U7C4jLKACTeAnEkkAJzg/XwPxdMAkQA+ygY2B/MMQ8B9vFMPsHyJgN\n",
       "SEFS8tgYmQsA0e01kB1DJ3IAAAAASUVORK5CYII=\n",
       "\" style=\"display:inline;vertical-align:middle;\" /></a> <a class=\"ProveItLink\" href=\"__pv_it/exprrange_reductions/3f5f16db7e27dd2a9fd3dc5efd7c84302490b8f10/proof.ipynb\" style=\"text-decoration: none\">&nbsp;&#x22A2;&nbsp;&nbsp;</a><a class=\"ProveItLink\" href=\"__pv_it/exprrange_reductions/c542ca8f46886a309d51db0870d70b8b800245140/expr.ipynb\"><img src=\"data:image/png;base64,iVBORw0KGgoAAAANSUhEUgAAAI8AAAAVBAMAAACNsKCFAAAAMFBMVEX///8AAAAAAAAAAAAAAAAA\n",
       "AAAAAAAAAAAAAAAAAAAAAAAAAAAAAAAAAAAAAAAAAAAv3aB7AAAAD3RSTlMAInZUiRDNmWbv3US7\n",
       "qzJazP2FAAAACXBIWXMAAA7EAAAOxAGVKw4bAAABVklEQVQ4y5VUrU4DQRicQpejXEJOIhDnigNB\n",
       "SFrDE1y4B0BUXkgaEFVVp1AVGAwISMBwhAeohCfAgSFpgquhHsPtftumuzck10kmuZv9ZvZ/AUQQ\n",
       "VtFYQQXWDoQEYVxfBQ4t254+TYG9SjVXtVn1hHh0WtTHeWnZSFFDFXOQCyvYL8s3L+bTyZnqoGVJ\n",
       "g3Btf9Zjpjo4suRBGQ3KWP1AqNo5C0poUOKVGnMmPTTDKxZ0SYNEHRYaL7DmBxh+Bz0W1KFBHa/U\n",
       "mG9hmLZ0qTozvUwWlh/9FRTF001RvLvqEozZBuE4ZSMa0xGN/YXWZjs19BUL6tKgrrdGxvwGQ/Xb\n",
       "ZEEjGjTyd02bE9nO7dmO13oS2cPhBDnqHMY8hfDTO0dfd/1SefaCXHUBbd6aCPnTc++PyFEd6BvI\n",
       "byGWbnOYM9XFqyXD7goqTi3/66SuikYsZK9wVF/9AwfIX23nQxZpAAAAAElFTkSuQmCC\n",
       "\" style=\"display:inline;vertical-align:middle;\" /></a></span>"
      ],
      "text/plain": [
       "{i in Natural} |- ((i - 1) + 1) = i"
      ]
     },
     "metadata": {},
     "output_type": "display_data"
    }
   ],
   "source": [
    "Add(subtract(i, one), one).simplification(assumptions=[InSet(i, Natural)])"
   ]
  },
  {
   "cell_type": "code",
   "execution_count": 111,
   "metadata": {},
   "outputs": [
    {
     "data": {
      "text/html": [
       "<strong id=\"tuple_with_ij_empty_range\">tuple_with_ij_empty_range:</strong> <a class=\"ProveItLink\" href=\"__pv_it/exprrange_reductions/dc8bac7834be81e56cfaac53e72b6ffa85d38a740/expr.ipynb\"><img src=\"data:image/png;base64,iVBORw0KGgoAAAANSUhEUgAAAgMAAAAVBAMAAAAp5fDLAAAAMFBMVEX///8AAAAAAAAAAAAAAAAA\n",
       "AAAAAAAAAAAAAAAAAAAAAAAAAAAAAAAAAAAAAAAAAAAv3aB7AAAAD3RSTlMAIquJdkTvuxBmmd1U\n",
       "zTKBpmoTAAAACXBIWXMAAA7EAAAOxAGVKw4bAAADkUlEQVRYw62YwWsTQRTGX0yz2W62MUhBpJei\n",
       "XhSEUD1rerOlaA5S6C0HK4oHU+gfkIPQU0lupYFioaciQrDoIVtKoKGXUgw9WTyYe4X2IngRnDfp\n",
       "7s6bnZ2dSAYmmez85vvevMxkMwugKqmEz1eXUmAyuhAPqbvUpaCXGrXfgvQ5U1IiC+rRlB7rxEMv\n",
       "zENCGZ3UiP3cIlPaDkW3YU6FYIV5qeO8BpQ+1EBjDeOYDhOkRuy3zmquGHxkzYmaAsEKe+Syff8n\n",
       "I0Xa7umg76YhoYxeaiR+GT9Hu5GucX9NLAmIiPnX4XlNoFlxGjqoKffIZUmQcVTfoc4PhvZz/T1V\n",
       "ifa9vnrvCoiIdUW3gGbF0kJWTeqRS1eQsSBmdnF+MLSfnwK3F+07oyEhQjA6u7Ow40QLTTQMU3Ai\n",
       "SYGJHxj6pe7MlmgKHPYz8D5c5bw5Q0NCBKs931DNbiaU39FC6WnDFOxIUmDiB8l+j+b6AIuF7B+a\n",
       "AkxVcTEYz5tbNCREsKYzFdXstsjy0UDjPcMUnElSYOIHiX5THacK9htwWjQFuQ7kO5/84YPmEQ2J\n",
       "Ibz+cnqq2R2F7vtayK0YpmBfkgITP0j02wOrBM7l4P7neN7Xt56HC8Uqgw0v8W7yF1948wIHfPS8\n",
       "V573eYDwWrNK5PqVG6frPJBlLZS/lHpIETqWRal1D8uB3s/+wam+zs/h69+qQr1MVwHOzeWdbX4Z\n",
       "m4v0W/FTAN9qqi+Y07ltP/Z4KGO6CpYlKTDxgyQ/NnnMXQk+QGQjwMR0IMObx+qNAKe2anbHZGFq\n",
       "ILc13EYIpMDED5L86nzG9Q48cAskBVn2Xi8H/w55c4OGhAhW+3daNbuN0H1VC41XDVOwKkmBiR8k\n",
       "+V1nv+hlNhG37dBVgHeOi1RwY+HNHRoSIljzl7ekOTwpQEgPbkUayCmSHv7jg3uaN8QhM5IUmPhB\n",
       "kh+7HaT7YN99fOMZTUGerZZrm8F43vxCQ0IEK9yTbvm33502QhpPKFooV6Y9bX9Pt6UUnEtSYOIH\n",
       "iX4PN5+q/yAfRE/bLSmkAwnrKmk07eugKTDcCCgjSoGJHwztFxyTmpGu4PCxJCBN1TFJPqqIR5go\n",
       "tGt6TEIZUQpM/GB4P79kI09XbqqQbNxDGEKvaKBU1fh5wUqC1Ij97KoqgAhiVzXhBmVNA2XNn2St\n",
       "JUiN2m9SfmpVUCKTMc+4CJ0qxUOz5g/OUEYn9f9+/wB6GYfCjBD18AAAAABJRU5ErkJggg==\n",
       "\" style=\"display:inline;vertical-align:middle;\" /></a><br>"
      ],
      "text/plain": [
       "<IPython.core.display.HTML object>"
      ]
     },
     "metadata": {},
     "output_type": "display_data"
    }
   ],
   "source": [
    "requirements = []\n",
    "tuple_with_ij_empty_range = tuple_with_ij_range_lambda.apply(subtract(i, one), assumptions=[InSet(i, Natural)],\n",
    "                                 requirements=requirements)"
   ]
  },
  {
   "cell_type": "code",
   "execution_count": 112,
   "metadata": {},
   "outputs": [
    {
     "data": {
      "text/html": [
       "<a class=\"ProveItLink\" href=\"../packages/proveit/core_expr_types/tuples/__pv_it/axioms/1a4193f1deeaf7a4a6b6289328d46189ae6a257f0/expr.ipynb\"><img src=\"data:image/png;base64,iVBORw0KGgoAAAANSUhEUgAAAAwAAAAVBAMAAACAghKHAAAAMFBMVEX///8AAAAAAAAAAAAAAAAA\n",
       "AAAAAAAAAAAAAAAAAAAAAAAAAAAAAAAAAAAAAAAAAAAv3aB7AAAAD3RSTlMAInZUiRDNmWbv3US7\n",
       "qzJazP2FAAAACXBIWXMAAA7EAAAOxAGVKw4bAAAAcklEQVQI12NgYBBgZAACJgNuBSBlwsCgwcDA\n",
       "msDAwBbAwN7AwMBRwMAJkp/KYAaiMhhKQJQvkAEEbQyLQZQlw2wQ9R5C7YQIWjEcAlE9QLVAUMLw\n",
       "CkStZuB6wMDAuABkLNj4gwwMMkDxGDCLgVGBSYABAJpvEmISwLzKAAAAAElFTkSuQmCC\n",
       "\" style=\"display:inline;vertical-align:middle;\" /></a>"
      ],
      "text/plain": [
       "()"
      ]
     },
     "metadata": {},
     "output_type": "display_data"
    }
   ],
   "source": [
    "requirements"
   ]
  },
  {
   "cell_type": "code",
   "execution_count": 113,
   "metadata": {},
   "outputs": [
    {
     "data": {
      "text/html": [
       "<span style=\"font-size:20px;\"><a class=\"ProveItLink\" href=\"../packages/proveit/numbers/addition/__pv_it/theorems/10cfe086dee5530e9b3b60486d89c6cb824c41920/expr.ipynb\"><img src=\"data:image/png;base64,iVBORw0KGgoAAAANSUhEUgAAAC8AAAAQBAMAAAB0JTvnAAAAMFBMVEX///8AAAAAAAAAAAAAAAAA\n",
       "AAAAAAAAAAAAAAAAAAAAAAAAAAAAAAAAAAAAAAAAAAAv3aB7AAAAD3RSTlMAdpndiRBmRO8yVM2r\n",
       "IrsWj4mGAAAACXBIWXMAAA7EAAAOxAGVKw4bAAAAzklEQVQY02NgQAPB/14HMHj8KAAyhVBlXrEf\n",
       "YGD9AGKZoEocvuDGwNDAgAlOPeC+wGCAJCBnbLwBRJ9N5N2ALFEtCmWc5ZkgApJgFUoAcXm3wlSc\n",
       "ZXjAVwCUYGEHWwQ0Fy4xidUUKDGLCWwyNwNCgm3BOqDiAA4BEHeGMRA8gEgwHOUBmbI+AMSNQ9LB\n",
       "EMMKctUeVhCXGVmCUwCol/U7C4jLKACTeAnEkkAJzg/XwPxdMAkQA+ygY2B/MMQ8B9vFMPsHyJgN\n",
       "SEFS8tgYmQsA0e01kB1DJ3IAAAAASUVORK5CYII=\n",
       "\" style=\"display:inline;vertical-align:middle;\" /></a> <a class=\"ProveItLink\" href=\"__pv_it/exprrange_reductions/95f2bc72ded5cf7abdfa0888eb0ca92b58dbaf460/proof.ipynb\" style=\"text-decoration: none\">&nbsp;&#x22A2;&nbsp;&nbsp;</a><a class=\"ProveItLink\" href=\"__pv_it/exprrange_reductions/715d65a1d017c7262f34dd334167559c7ca9ab540/expr.ipynb\"><img src=\"data:image/png;base64,iVBORw0KGgoAAAANSUhEUgAAAmgAAAAVBAMAAAAA4g9MAAAAMFBMVEX///8AAAAAAAAAAAAAAAAA\n",
       "AAAAAAAAAAAAAAAAAAAAAAAAAAAAAAAAAAAAAAAAAAAv3aB7AAAAD3RSTlMAInZUiRDNmWbv3US7\n",
       "qzJazP2FAAAACXBIWXMAAA7EAAAOxAGVKw4bAAAESklEQVRYw7VYz2sTQRR+6SbdbFLr4klKhVSR\n",
       "9qRBpNBeDOLBS2vw0FMhuRR6KeZQpIhg8dD2ULQIBX+BgRaKKZbSU3NL/QuKiHoRCt56aREqghdn\n",
       "Zmdn983M7oxIBl52dubb9733zcxOZgHAB13xDfekZLiBvivpzub5f8X/J59v2Sac95R1XUrrnoq5\n",
       "wk1TiiUZmADCwPTSPb49CwEQ1U1tF20djm6HoWdRhjiVwHoaUsdxFWBEAiaCRqw16yKfmlyCLBB4\n",
       "yNV1Hax1M7on1RkZM8WtUMGPfn1A4uutYmAiKA5ML93km9EKoC/Eg4tE3udXV5V+OZyeYdcCN/lZ\n",
       "uE7iysdGOhUkgPtJyyGJD2z4wI5vWYZjAYrxO+LBQ9gb/OqprB4fIid8K6xxk59l8cF61JEOWpd7\n",
       "5FWZxAc2fGDH58nzz9PHwMo6jGpFG9XMykXswKkHlqDHbMSYDpq1FE3hAxs+sOPrlVfWaIposzBP\n",
       "d9HPQyXsibTmhoUjVs0eYgduJbD7C1o9JqKZng6asBRN4QMbPjDz3R45EsmJgmURomUvP6MeqPBt\n",
       "v+8MeyKt2aKY5qyar2MHdHCoVdpaPZbQKKaAlixFU/jAhg+MfANltxMk57ZYOeQCxGQJY8hswGPq\n",
       "YYNMpJfgNrEn0vrDFdOcVZ017KBQZtZffqjVY0yEawCNWYqm8IENHxj5NsErieREwbKIGCrwgnp4\n",
       "QxQ+DXboR63Wq1brA+0lrVWPInO/gFf7T4PBeP86GAxvl1mOukHPBvGd0FqtDkbQidyDNrEkvik2\n",
       "KXbS+bQgic9lk4klFy8xWWIxPGH7xQnt9TpQ28Xyk1a4xRBbwKtFaabxJMA5004itj4KDTCC2pYz\n",
       "TeEDGz4w8ZHkIUouLlpMljCGt+y3TedhrQTPQVmeMJcTLmjVaWqXC/QeVnV6jMeXSxpo/N+WZ+QK\n",
       "bPjAxFdj7lly8XcaloXHkPvJLuPwkfSW4Yvjo8hJa+5PVuyetJrv4CT6SoHVdis6PVZFuAbQqqVo\n",
       "Ch/Y8IGJ7zzZNnZFcqJgWcIYfpM5ST1MUBZny8WRT9BlfjH0wKpuBSdBd2lqJ5lFKet7Pt+zI2AK\n",
       "aF4a+Tr/YW/TND6w4QMTH9k6s0ciOVGwLGEMZOucpB6OSXifJi9dwzmRVvgW8dJqQVrf/c3Azq1I\n",
       "U+X7uzkC3xYPG0DbuIe9ltjPloEPbPjAxAd3Vq5GyUXneySLGLi7T6vUQ+FIdyLArcH/Gfnf8Q43\n",
       "0K2vTDOqp4IE0HiMkvnAhg/s+AZkKBYAnQiIh3xDd2DPNxTGBfnwuiwddPeTDrypIAE0HtiXdQdr\n",
       "Ex/Y8SkHCCwAOrBTDwda/0prRn5VQp8fmLYMSsBE0KD197Qu8qnJJcgSepnW9kzrQpY+OXUCM4qe\n",
       "CjqwFq2LfBqZpxPjoB4y2g/ASuuQirnATfcp1JeBCaAe3/5zd/f4hiwEiHn5C0UvhS7oQKXHAAAA\n",
       "AElFTkSuQmCC\n",
       "\" style=\"display:inline;vertical-align:middle;\" /></a></span>"
      ],
      "text/plain": [
       "{i in Natural} |- (a+ (i * i) +  ((i + 1) * (i + 1)) +  ... +  ((i - 1) * (i - 1)) + c) = (a + c)"
      ]
     },
     "metadata": {},
     "output_type": "display_data"
    }
   ],
   "source": [
    "tuple_with_ij_empty_range.simplification(assumptions=[InSet(i, Natural)])"
   ]
  },
  {
   "cell_type": "markdown",
   "metadata": {},
   "source": [
    "To reduce the **ExprRange** to a singular element, the `start_index` and `end_index` must match exactly."
   ]
  },
  {
   "cell_type": "code",
   "execution_count": 114,
   "metadata": {},
   "outputs": [
    {
     "data": {
      "text/html": [
       "<a class=\"ProveItLink\" href=\"__pv_it/exprrange_reductions/29f73abf55293b031ba44a3041b10d78ac07f71f0/expr.ipynb\"><img src=\"data:image/png;base64,iVBORw0KGgoAAAANSUhEUgAAAHQAAAAVBAMAAABlHNfrAAAAMFBMVEX///8AAAAAAAAAAAAAAAAA\n",
       "AAAAAAAAAAAAAAAAAAAAAAAAAAAAAAAAAAAAAAAAAAAv3aB7AAAAD3RSTlMAIquJdkTvuxBmmd1U\n",
       "zTKBpmoTAAAACXBIWXMAAA7EAAAOxAGVKw4bAAABbUlEQVQ4y2NgwAYECPBxA5YDaAIhRGs9DMRe\n",
       "CK4XA8sEInVyXAASmxF8IPMGAS2RUJoL045ZUJoVh/VHoDQbphRbA4TmccCv9SymFO8EbFoZlR0d\n",
       "ULUuBnrXC+4yMJNZAU0rs8s8BoYwAfYfqFpvAmVYE2BawUzOC6haGfcwLGfgyGTg2oCqdQ8Dwxuu\n",
       "CzCtYCZPAqpWbgOGFAauDyCagWH17t1pu3dvAomnMjA0sIHUcPxlgDL5PoBCfvfubdm7d4Pcvh4U\n",
       "bGwFDP0BqLYCtTKcBwfpLgYokxXN1nQQ0e/AMJ8Bw8EMlzjg4Qhi8mxA0crxBaz1AIMujwCK1hKg\n",
       "3FdmeAiDmJwFqLb+BDqEgd2BZxcXqq1GIL9JwrSCmVwGqFqXMzDYMXCo2An5oWp9DcSaiBQHYnIH\n",
       "oGpltpzSgC01cT/ASE3SDPgTIiz5cy7AkFpJIPnDQSG6AGMBsVm9HV2AnegShhHdR47YVAEAT8NU\n",
       "xIknzToAAAAASUVORK5CYII=\n",
       "\" style=\"display:inline;vertical-align:middle;\" /></a>"
      ],
      "text/plain": [
       "a + (i * i) + c"
      ]
     },
     "metadata": {},
     "output_type": "display_data"
    }
   ],
   "source": [
    "requirements = []\n",
    "tuple_with_ij_range_lambda.apply(i, requirements=requirements)"
   ]
  },
  {
   "cell_type": "code",
   "execution_count": 115,
   "metadata": {},
   "outputs": [
    {
     "data": {
      "text/html": [
       "<a class=\"ProveItLink\" href=\"../packages/proveit/core_expr_types/tuples/__pv_it/axioms/1a4193f1deeaf7a4a6b6289328d46189ae6a257f0/expr.ipynb\"><img src=\"data:image/png;base64,iVBORw0KGgoAAAANSUhEUgAAAAwAAAAVBAMAAACAghKHAAAAMFBMVEX///8AAAAAAAAAAAAAAAAA\n",
       "AAAAAAAAAAAAAAAAAAAAAAAAAAAAAAAAAAAAAAAAAAAv3aB7AAAAD3RSTlMAInZUiRDNmWbv3US7\n",
       "qzJazP2FAAAACXBIWXMAAA7EAAAOxAGVKw4bAAAAcklEQVQI12NgYBBgZAACJgNuBSBlwsCgwcDA\n",
       "msDAwBbAwN7AwMBRwMAJkp/KYAaiMhhKQJQvkAEEbQyLQZQlw2wQ9R5C7YQIWjEcAlE9QLVAUMLw\n",
       "CkStZuB6wMDAuABkLNj4gwwMMkDxGDCLgVGBSYABAJpvEmISwLzKAAAAAElFTkSuQmCC\n",
       "\" style=\"display:inline;vertical-align:middle;\" /></a>"
      ],
      "text/plain": [
       "()"
      ]
     },
     "metadata": {},
     "output_type": "display_data"
    }
   ],
   "source": [
    "requirements"
   ]
  },
  {
   "cell_type": "markdown",
   "metadata": {},
   "source": [
    "There are no other special **ExprRange** reductions, even if the expansion is obvious.  For example,"
   ]
  },
  {
   "cell_type": "code",
   "execution_count": 116,
   "metadata": {},
   "outputs": [
    {
     "data": {
      "text/html": [
       "<a class=\"ProveItLink\" href=\"__pv_it/exprrange_reductions/6120f6b409360445869bcec2d6a0ac2a58f7fa4e0/expr.ipynb\"><img src=\"data:image/png;base64,iVBORw0KGgoAAAANSUhEUgAAAPkAAAAVBAMAAAB251VaAAAAMFBMVEX///8AAAAAAAAAAAAAAAAA\n",
       "AAAAAAAAAAAAAAAAAAAAAAAAAAAAAAAAAAAAAAAAAAAv3aB7AAAAD3RSTlMAIquJdkTvuxBmmd1U\n",
       "zTKBpmoTAAAACXBIWXMAAA7EAAAOxAGVKw4bAAACWUlEQVRIx5VWvWtTURT/PZK8JO+9xiBChyz1\n",
       "Y1KkQZ013SyIZpCCWxeL4tAn+Adkc5JkEwtioYM0XYqiQ57YQMVFhOCinczewQ4KLqXej/dx78tp\n",
       "c3zwcvM75/ze795z7hdAPfVJkwP+4/A+ecxTHE7aSi2++i3CdpfN3hXvfscwSLDIpgdNOP3v4ywV\n",
       "EhR7THZlhMrFn5m6BjMdrvozYBaFPynW4McUVinunifbO6aYBNX1GNybQscmcBZYSR0arOXD8hmL\n",
       "S+uCUseDGHzCyXQsA6sdzKfzTAO3kws7hv6VVt9jqgcj4BIwnxZeg5kepe6cX2jZ9g1a/QpT3Wuq\n",
       "Zsf0CVCYy6lfWxT9W6qX/9r2PVr9JVNdD7L223BJUB3ZYY2hF6LyEN62bf9Aq39mqvtqt/DnDJcE\n",
       "wbId9hZuC94BfJkqL4reP4oiybmfqXdHmfov+W8rilai6M2EtEF329LwWq3VQ+2VoHZghXkq4W6I\n",
       "btvulaHur2fqS8yxK/WqHvpA/SpQsscudOXoWngFVua//E/md+HUjb1TgMCub1c13SEuB3WL/oRW\n",
       "f85UL4u21kQx/YAG1dAKOyXmZlvEBgPPpquldcM8lBTYsNVVTeW8SIqb0OXSavT7Wylbg3ghJmFi\n",
       "whfGqFy4fvq2Td8X77nVb9mOqMG73NgHybwY2PSaSPHO0dFhttgV8HOz6+qLm3ThxuShvc3daT+S\n",
       "7gZO3mmT/T89T+w11eOeMmuke3PKKZM+jynjLPt8L1P3GCfk0p+yu0TfD0Jul+h7GVGaIv9ihjOE\n",
       "bYEK/Afn0qoZm71zYwAAAABJRU5ErkJggg==\n",
       "\" style=\"display:inline;vertical-align:middle;\" /></a>"
      ],
      "text/plain": [
       "a+ (1 * 1) +  ... +  (2 * 2) + c"
      ]
     },
     "metadata": {},
     "output_type": "display_data"
    }
   ],
   "source": [
    "from proveit.numbers import two\n",
    "tuple_with_range_lambda.apply(two)"
   ]
  },
  {
   "cell_type": "markdown",
   "metadata": {},
   "source": [
    "Depending upon the circumstance, making the explicit expansion may not be desirable.  Such replacements should be made explicitly via the **theory system** rather than complicating the **core derivation system**."
   ]
  },
  {
   "cell_type": "code",
   "execution_count": 117,
   "metadata": {},
   "outputs": [],
   "source": [
    "%end exprrange_reductions"
   ]
  },
  {
   "cell_type": "markdown",
   "metadata": {},
   "source": [
    "# Next chapter: <a href=\"tutorial04_relabeling.ipynb\">ToDo</a>\n",
    "\n",
    "## <a href=\"tutorial00_introduction.ipynb#contents\">Table of Contents</a>"
   ]
  }
 ],
 "metadata": {
  "kernelspec": {
   "display_name": "Python 3",
   "language": "python",
   "name": "python3"
  }
 },
 "nbformat": 4,
 "nbformat_minor": 0
}