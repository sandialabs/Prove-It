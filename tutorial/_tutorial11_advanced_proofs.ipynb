{
 "cells": [
  {
   "cell_type": "markdown",
   "metadata": {},
   "source": [
    "Chapter 11. Proofs Using Advanced Expression \n",
    "==================="
   ]
  },
  {
   "cell_type": "markdown",
   "metadata": {},
   "source": [
    "## Multi_variable relabeling\n",
    "\n",
    "A **Multi_variable** may be relabels to a **Composite** of **Variable**s and/or **Multi_variable**s.\n",
    "\n",
    "For the next examples, we'll import an axiom from the `proveit.logic` package that uses a **Multi_variable**."
   ]
  },
  {
   "cell_type": "code",
   "execution_count": null,
   "metadata": {},
   "outputs": [],
   "source": [
    "from proveit.logic.booleans.conjunction._axioms_ import composition\n",
    "composition"
   ]
  },
  {
   "cell_type": "markdown",
   "metadata": {},
   "source": [
    "Let us *relabel* the **Multi_variable** $B_{\\Box}$ to two **Variable**s.  This results in a weaker statement.  The original statement is a rule that applies to any number of zero or more **Variable**s in place of $B_{\\Box}$.  The new statement replaces it with exactly two **Variable**s."
   ]
  },
  {
   "cell_type": "code",
   "execution_count": null,
   "metadata": {},
   "outputs": [],
   "source": [
    "from proveit.common import Bmulti\n",
    "composition.relabel({Bmulti:[B, C]})"
   ]
  },
  {
   "cell_type": "markdown",
   "metadata": {},
   "source": [
    "Let us consider the case where we replace $B_{\\Box}$ with zero **Variable**s.  The resulting statement requires funny notation in which we make an `And` operator formatted as $[\\land]$ that can take zero or one operand (when there are two or more operands, we can use the standard formatting)."
   ]
  },
  {
   "cell_type": "code",
   "execution_count": null,
   "metadata": {},
   "outputs": [],
   "source": [
    "composition.relabel({Bmulti:[]})"
   ]
  },
  {
   "cell_type": "markdown",
   "metadata": {},
   "source": [
    "This is self-consistent when we define $[\\land]$ to be `TRUE` when acting on zero operands (shown below).  Then the right side of the above is $A \\land \\top = A$, assuming $A$ is a `Boolean`."
   ]
  },
  {
   "cell_type": "code",
   "execution_count": null,
   "metadata": {},
   "outputs": [],
   "source": [
    "from proveit.logic.booleans.conjunction._axioms_ import empty_conjunction\n",
    "empty_conjunction"
   ]
  },
  {
   "cell_type": "markdown",
   "metadata": {},
   "source": [
    "We can also include **Multi_variable**s when we *relabel* a **Multi_variable**.  We can *relabel* a **Multi_variable** to another **Multi_variable** making an equivalent statement."
   ]
  },
  {
   "cell_type": "code",
   "execution_count": null,
   "metadata": {},
   "outputs": [],
   "source": [
    "from proveit.common import Dmulti\n",
    "composition.relabel({Bmulti:Dmulti})"
   ]
  },
  {
   "cell_type": "markdown",
   "metadata": {},
   "source": [
    "We can also *relabel* $B_{\\Box}$ to a list that includes a mix of **Variable**s and **Multi_variable**s, making a weaker statement.  In this case, we *relabel* the original in a way that corresponds to $B_{\\Box}$ being replaced with two or more **Variable**s."
   ]
  },
  {
   "cell_type": "code",
   "execution_count": null,
   "metadata": {},
   "outputs": [],
   "source": [
    "composition.relabel({Bmulti:[B, C, Dmulti]})"
   ]
  },
  {
   "cell_type": "markdown",
   "metadata": {},
   "source": [
    "You may *relabel* a **Multi_variable** to another **Multi_variable** or a **Composite** of **Variable**s and/or **Multi_variable**s, but not any other type of **Expression**."
   ]
  },
  {
   "cell_type": "code",
   "execution_count": null,
   "metadata": {},
   "outputs": [],
   "source": [
    "try:\n",
    "    composition.relabel({Bmulti:[B, And(A, B)]})\n",
    "except RelabelingFailure as e:\n",
    "    print(\"EXPECTED ERROR:\", e)"
   ]
  },
  {
   "cell_type": "markdown",
   "metadata": {},
   "source": [
    "Only a **Multi_variable** may be relabeled to a **Composite**, not a regular **Variable**."
   ]
  },
  {
   "cell_type": "code",
   "execution_count": null,
   "metadata": {},
   "outputs": [],
   "source": [
    "try:\n",
    "    composition.relabel({A:[B, C, Dmulti]})\n",
    "except RelabelingFailure as e:\n",
    "    print(\"EXPECTED ERROR:\", e)"
   ]
  },
  {
   "cell_type": "markdown",
   "metadata": {},
   "source": [
    "### Universal quantification over an unspecified number of variables\n",
    "\n",
    "Using **Multi_variable**s, we can express universal quantification over an unspecified number of variables.  Depending upon how the **Multi_variable** is used in the instance expression, we may *instantiate* it to an **ExpressionList** (if it is used within **Etcetera** sub-expressions), or an **ExpressionTensor** (if it is used within **Block** sub-expressions).\n",
    "\n",
    "The following example uses a theorem from `proveit.logic.booleans.disjunction`.  It states, in English, that the `Or` (disjunction) operation acting an any number of operands is false if all of the operands are false."
   ]
  },
  {
   "cell_type": "code",
   "execution_count": null,
   "metadata": {},
   "outputs": [],
   "source": [
    "from proveit.logic.booleans.disjunction._theorems_ import not_or_if_not_any\n",
    "not_or_if_not_any"
   ]
  },
  {
   "cell_type": "code",
   "execution_count": null,
   "metadata": {},
   "outputs": [],
   "source": [
    "not_or_if_not_any.expr_info()"
   ]
  },
  {
   "cell_type": "markdown",
   "metadata": {},
   "source": [
    "Note that the instance variable (the parameter of the `imap`) is a **Multi_variable**.  The occurrences of this **Multi_variable** in the `iexpr` and `conds` are within **Etcetera** sub-expressions.  Below, we *instantiate* this to an instance with three operands."
   ]
  },
  {
   "cell_type": "code",
   "execution_count": null,
   "metadata": {},
   "outputs": [],
   "source": [
    "from proveit.common import Amulti, c\n",
    "from proveit.logic import Not\n",
    "not_or_if_not_any_spec = not_or_if_not_any.instantiate({Amulti:[a, b, c]}, assumptions=[Not(a), Not(b), Not(c)])\n",
    "not_or_if_not_any_spec"
   ]
  },
  {
   "cell_type": "code",
   "execution_count": null,
   "metadata": {},
   "outputs": [],
   "source": [
    "not_or_if_not_any_spec.proof()"
   ]
  },
  {
   "cell_type": "markdown",
   "metadata": {},
   "source": [
    "Let us look at the expression information for this instantiated instance to show that the **Multi_variable** has been substituted in a seemless manner.  Specifically, the `Or` operation has the $(a, b, c)$ **ExpressionList** operands."
   ]
  },
  {
   "cell_type": "code",
   "execution_count": null,
   "metadata": {},
   "outputs": [],
   "source": [
    "not_or_if_not_any_spec.expr_info()"
   ]
  },
  {
   "cell_type": "markdown",
   "metadata": {},
   "source": [
    "It is possible to *instantiate* the **Multi_variable** with zero expressions."
   ]
  },
  {
   "cell_type": "code",
   "execution_count": null,
   "metadata": {},
   "outputs": [],
   "source": [
    "not_or_if_not_any.instantiate({Amulti:[]})"
   ]
  },
  {
   "cell_type": "markdown",
   "metadata": {},
   "source": [
    "We must format this using the $[\\lor]$ operator.  This statement is valid and self-consistent because we define $[\\lor]$ acting on zero operands to be `FALSE`:"
   ]
  },
  {
   "cell_type": "code",
   "execution_count": null,
   "metadata": {},
   "outputs": [],
   "source": [
    "from proveit.logic.booleans.disjunction._axioms_ import empty_disjunction\n",
    "empty_disjunction"
   ]
  },
  {
   "cell_type": "markdown",
   "metadata": {},
   "source": [
    "It is also possible to include a **Multi_variable** in the *instantiation*:"
   ]
  },
  {
   "cell_type": "code",
   "execution_count": null,
   "metadata": {},
   "outputs": [],
   "source": [
    "from proveit import Etcetera\n",
    "from proveit.logic import in_bool\n",
    "from proveit.common import Bmulti\n",
    "assumptions = [Not(a), Etcetera(Not(Bmulti)), in_bool(a), Etcetera(in_bool(Bmulti))]\n",
    "not_or_if_not_any_spec2 = not_or_if_not_any.instantiate({Amulti:(a, Bmulti)}, assumptions=assumptions)\n",
    "not_or_if_not_any_spec2"
   ]
  },
  {
   "cell_type": "code",
   "execution_count": null,
   "metadata": {},
   "outputs": [],
   "source": []
  },
  {
   "cell_type": "markdown",
   "metadata": {},
   "source": [
    "## <a href=\"tutorial00_introduction.ipynb#contents\">Table of Contents</a>"
   ]
  },
  {
   "cell_type": "code",
   "execution_count": null,
   "metadata": {},
   "outputs": [],
   "source": []
  },
  {
   "cell_type": "markdown",
   "metadata": {},
   "source": [
    "Let us also demonstrate *generalization* over a **Multi_variable**.  For this example, we will use the previous *instantiation* instance that generated a **Multi_variable** as an implicit arbitrary multi-variable that we well next convert back to an explicit universal quantification."
   ]
  },
  {
   "cell_type": "code",
   "execution_count": null,
   "metadata": {},
   "outputs": [],
   "source": [
    "not_or_if_not_any_spec2"
   ]
  },
  {
   "cell_type": "code",
   "execution_count": null,
   "metadata": {},
   "outputs": [],
   "source": [
    "from proveit.logic import Boolean\n",
    "not_or_if_not_any_spec2.generalize((a, Bmulti), conditions=[Not(a), Etcetera(Not(Bmulti))], domain=Boolean)"
   ]
  },
  {
   "cell_type": "markdown",
   "metadata": {},
   "source": [
    "This could have been proven in one step from `not_or_if_not_any` using *relabeling*, but this demonstrates going back and forth from an explicit universal quantification to an implicit arbitrary multi-variable and back in a self-consistent manner. "
   ]
  }
 ],
 "metadata": {
  "kernelspec": {
   "display_name": "Python 3",
   "language": "python",
   "name": "python3"
  }
 },
 "nbformat": 4,
 "nbformat_minor": 0
}
