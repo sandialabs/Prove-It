{
 "cells": [
  {
   "cell_type": "markdown",
   "metadata": {},
   "source": [
    "Chapter 2.a. Core Expression Types\n",
    "=======\n",
    "\n",
    "Expressions in **Prove-It** are fundamental and versatile.  In order to prove some statement to be true, you must be able to express the statement that you want to prove, and express each axiom and each theorem that is used to construct the proof as well as intermediate judgments along the way.  \n",
    "**Expressions** form the basis for **judgments** that are used in the derivation steps of a **proof** and will be discussed later.\n",
    "An expression is a tree-like data structure (technically a directed acyclic graph, DAG, since there may be multiple instances of the same sub-expression).  As a Python object, its base class is `proveit._core_.expression.expr.Expression` (also aliased as `proveit.Expression` via \"`from ... import ...`\" Python statements within `__init__.py` files):"
   ]
  },
  {
   "cell_type": "code",
   "execution_count": null,
   "metadata": {},
   "outputs": [],
   "source": [
    "from proveit import Expression\n",
    "%begin basic_expressions\n",
    "Expression"
   ]
  },
  {
   "cell_type": "markdown",
   "metadata": {},
   "source": [
    "Each `Expression` object has a class that is derived one of the \"primitive\" `Expression` classes listed below (each of which is derived from `proveit._core_.expression.expr.Expression`).  These \"primitive\" types of expressions, in the order that we discuss them below, are:\n",
    "* <a href=\"#Variable\">`Variable`</a>: A label that is interchangeable (as long as it is kept distinct from different labels) with no intrinsic meaning.  It is often represented by a single letter ($a$, $b$, $x$, $y$, etc.) but can have any representation.\n",
    "* <a href=\"#Literal\">`Literal`</a>: A label that is not interchangeable and has an intrinsic meaning.  Specific operators ($\\lnot, \\land, +, \\times$, etc.) and specific irreducible values ($\\top, \\bot, 0, 5$, etc.) are all `Literal`s.  Furthermore, a problem-story `Variable` in a particular theory package, representing some unknown but particular value, should also be a `Literal` (e.g., \"Ann has $a$ apples...\").\n",
    "* <a href=\"#ExprTuple\">`ExprTuple`</a>: A list of `Expression`s that is used, for example, when there are multiple *operators* or *operands* of an `Operation`, or multiple *parameters* of a `Lambda`.\n",
    "* <a href=\"#Operation\">`Operation`</a>: The application of *operator(s)* on *operand(s)*.  For example, $0 + 5 + 8$ and $1 < a \\leq b < 3$ are examples of *operation* expressions.  The **Prove-It** library defines many *types* derived from the *operation* type (e.g., for each specific operation), but all *operations* have the same behavior with respect to reduction rules that will be described in a later tutorial.\n",
    "* <a href=\"#Conditional\">`Conditional`</a>: An expression that has one *condition* and one *value*.  The **Conditional** is reducible to its *value* if and only if the *value* is true.  For example $\\{P(x) \\textrm{ if } Q(x).$ reduces to $P(x)$ if $Q(x)$ is true.  Otherwise, the **Conditional** is not defined (i.e., it is not reducible).\n",
    "* <a href=\"#Lambda\">`Lambda`</a>: A mapping defined by *parameter* `Variable`s (and/or *iterations* of *indexed variables* described below with the `Iter` and `IndexedVar` core classes) transforming to some *body* `Expression`.  For example, $(x, y, z) \\mapsto \\{x+y/z~|~(x \\in \\mathbb{R}) \\land (y \\in \\mathbb{R}) \\land (z \\in \\mathbb{R}) \\land (z \\neq 0)\\}$ is a `Lambda` with a `Conditional` *body* that converts three real numbers $x, y, z$ to $x + y/z$ as long as $z$ is not zero.  Note that a `Lambda` introduces `Variables` into a new scope via the *parameters*.  These *parameter* `Variable`s are said to be *bound* in this new scope; occurrences outside this scope are not deemed to be the same thing. There is a special category of `Operation` types called `OperationOverInstances` that are essentially functionals acting on a `Lambda` operand.  $\\forall$, $\\exists$, $\\sum$, and $\\prod$ are examples of `OperationOverInstances`.  For example, $\\forall_{x~|~Q(x)} P(x)$ is an expression that translates to \"$P(x)$ is true for all values of $x$ for which $Q(x)$ is also true\".  Internally, this is represented as an $\\forall$ operator acting on the `Lambda` map with a `Conditional` *body*: $x \\mapsto \\{P(x)~|~Q(x)\\}$.\n",
    "* <a href=\"#NamedExprs\">`NamedExprs`</a>: A mapping from keyword strings to `Expression`s.  This can be used to prevent ambiguity of an expression's internal representation.\n",
    "* <a href=\"#ExprRange\">`ExprRange`</a>: Represents a range of expressions with a *parameter* going from a *start* index to an *end* index in successive unit increments ($+1$).  It contains a `Lambda` to define each expression in the range as a function of the *parameter* value (the index).\n",
    "For example, $1/(x+i) + ... + 1/(x+j)$ is essentially an `Operation` with `+` as the *operator* and an `ExprRange` as the *operand*.  This `ExprRange` in this case is $1/(x+i), ..., 1/(x+j)$.  The sub-expression of this `ExprRange` may be denoted as $k \\mapsto \\{1/(x+k)~|~k \\in i .. j\\}$ where $k$ is an arbitrary `Lambda` *parameter* and $i .. j$ denotes an integer interval. \n",
    "* <a href=\"#IndexedVar\">`IndexedVar`</a>: A special kind of `Operation` that indexes a `Variable`.  It treats the `Variable` being indexed as the *operator* and the *index* as the *operand*.  For example: $a_1$, $x_i$, $x_{i+1}$, etc.  An *iteration* if *indexed* *variables* acts as a collection of labels, however.  For example: $a_1, ..., a_n$ is a collection of $n$ labels and can be used as *parameters* of a `Lambda` map and has special substitution rules in which an `Iter` may be expanded to multiple entries within an `ExprTuple`.\n",
    "\n",
    "These \"primitive\" types are special for the following reason.  In order to automatically or manually verify the correctness of a proof in **Prove-It**, one is only required to know the primitive base class of the expressions in the expression DAGs involved in the proof.  The way that the expression is to be formatted may be defined by the derived class, but this is a dressing which is not actually verified by **Prove-It** in any way.  For this reason, in order to really understand the axioms that were used in a proof, or understand what was actually proven, one must view the full expression DAG and understand its structure with respect to the primitive types."
   ]
  },
  {
   "cell_type": "markdown",
   "metadata": {},
   "source": [
    "Other classes are derived from these primitives for the purpose of defining specific ways of formatting the expression (as a string or as $\\LaTeX$) and to provide methods for convenience and automation for manipulating expressions of that specific type.  The most common \"primitive\" type used as a base class is the `Operation`; there are a wide variety of kinds of operations (logical operations such as $\\land$, $\\lor$, $\\lnot$, etc.; the $\\forall$ and $\\exists$ quantifiers, number operations such as $+$, $-$, etc.).  Each one of these has its own methods that are convenient for applying axioms and theorems specific to the operation."
   ]
  },
  {
   "cell_type": "markdown",
   "metadata": {},
   "source": [
    "A few non-privitive expression casses are define in the core (`proveit._core_`) for organizational purposes.  These are:\n",
    "* <a href=\"#Function\">`Function`</a>: An `Operation` that uses function-style formatting by default.  For example, $f(x)$, $P(x, y)$, etc.  Beyond formatting, these are no different than `Operation` types.\n",
    "* <a href=\"#OperationOverInstances\">`OperationOverInstances`</a>: An `Operation` whose operand is a `Lambda` expression.  Often, these `Lambda` expression has a `Conditional` body.  The idea is that it operates over the domain of instances of the `Lambda` parameter variables for the the *condition* of the `Conditional` is satisfied.  Quantifiers are `OperationOverInstances`.  $\\forall_{x, y~|~Q(x, y)} P(x, y)$ is internally represented by Prove-It as an operation of the $\\forall$ operator acting on $(x, y) \\mapsto \\left\\{P(x, y) \\textrm{ if } Q(x, y)\\right.$.  $\\sum_{k = 1}^{N} f(x)$ is internally represented by Prove-It as an operation of the $\\sum$ operator acting on $k \\mapsto \\left\\{f(x) \\textrm{ if } k \\in 1 .. N\\right.$.\n",
    "* <a href=\"#ConditionalSet\">`ConditionalSet`</a>: An expression that has one or more *conditions* with associated *values*.  For example, consider this definition for the absolute value of an integer: $\\{x~\\textrm{ if }~x \\geq 0; -x~\\textrm{ if }~x < 0.$ A *value* is only pertinent if its associated *condition* is satisfied (a **judgment**).  Via axioms, a `Conditional` equates to one of its *values* if its associated *condition* is proven the be true and all of its other *conditions* are proven to false.  With respect to substitution rules, the substitution of a *value* may utilize the fact that its *condition* must be satisfied in order to be pertinent, and therefore its *condition* may be assumed within the theory of performing substution for the *value*."
   ]
  },
  {
   "cell_type": "markdown",
   "metadata": {},
   "source": [
    "Developers and users may derive new classes from core `Expression` classes (`Literal` and `Operation` classes in order to make their own `Expression` classes that have special formatting rules for displaying the **expression** and methods for manipulating and utilizing the expression (i.e., applying theorems or axioms as will be discussed in later tutorial chapters).  Ideally, the formatting should be in direct correspondence with the structure of the `Expression` as a true reflection of the internal representation, but there is no enforcement mechanism to ensure that this is the case.  Users are advised to inspect the fully explicit expression DAGs of important axioms and theorems (or rely on crowdsource checking).  Conveniently, clicking on any **expression** rendered as LaTeX will link to a notebook that, when executed, will reveal this internal structure.  (Alternatively, the `expr_info()` method may be called).\n",
    "\n",
    "The remainder of this tutorial chapter will show examples and discuss details of the different core `Expression` classes and discuss their distinct behaviors with respect to *substitution* as well as *meaning* versus *style* equivalence.\n",
    "\n",
    "The following are related but distinct manipulations in **Prove-It**:\n",
    "* *Expression substutition*: creating a new **expression** from an existing **expression** by swapping one or more sub-expression(s) for other sub-expression(s) by using the `substituted` method.  This creates a new `Expression` but has nothing to do, intrinsically, with proving statements.\n",
    "* *Instantiation* derivation step: deriving a new **judgment** from an existing **judgment** via *expression substitution* using specific rules and limitations to ensure that the derivation is sound.  This will be discussed in a later tutorial chapter.\n",
    "* *Equality substitution*: using the `substitution` axiom of `proveit.logic.equality` to prove that $f(x) = f(y)$ given $x = y$.  This uses *instantiation* of the `substitution` axiom which states $\\forall_{f, x, y~|~x=y}~(f(x) = f(y))$.  This specifically involves statements (**judgments**) with the `proveit.logic.equality.equals._operator_` **Literal** (the `=` sign). This will be discussed in a later tutorial chapter.\n",
    "\n",
    "The focus here will be *expression substitution* with some mention of the additional restrictions applicable to the *instantiation* derivation step before delving into more details in later chapters.  It is important to understand the distinctions among these types of manipulations."
   ]
  },
  {
   "cell_type": "markdown",
   "metadata": {},
   "source": [
    "<a name=\"#Label\"></a>Labels (Variables, IndexedVars, and Literals)\n",
    "================================"
   ]
  },
  {
   "cell_type": "code",
   "execution_count": null,
   "metadata": {},
   "outputs": [],
   "source": [
    "from proveit import Label"
   ]
  },
  {
   "cell_type": "markdown",
   "metadata": {},
   "source": [
    "The `Variable` and `Literal` classes both derive from `Label`.  A `Label` is created with a string and a LaTeX format specification to determine how it is displayed.  In a Jupyter notebook, the LaTeX is rendered and presented in the output:"
   ]
  },
  {
   "cell_type": "code",
   "execution_count": null,
   "metadata": {},
   "outputs": [],
   "source": [
    "tri = Label(string_format='triangle', latex_format=r'\\triangle')"
   ]
  },
  {
   "cell_type": "markdown",
   "metadata": {},
   "source": [
    "After importing anything from `proveit` in a Jupyter notebook, whenever assignments are made at the end of an input cell the output shows the name of the assigned Python variable (not to be confused with a **Prove-It** *Variable*) followed by ':' and its rendered value.  In the above input, we have assigned `tri` to a `Label` object we have created which renders as a triangle shape.  For convenience, this Python variable name and shape appear in the output without any additional code.  The string format is presented when the object is converted to a string and is a useful alternate representation (used, for example, in error messages that are displayed as strings)."
   ]
  },
  {
   "cell_type": "code",
   "execution_count": null,
   "metadata": {},
   "outputs": [],
   "source": [
    "str(tri)"
   ]
  },
  {
   "cell_type": "markdown",
   "metadata": {},
   "source": [
    "The breakdown of an **expression** into its DAG structure is displayed by calling `expr_info()`.  Clicking on the **expression** is also a way to view this information, linking to a page that shows a canonical way to build the **expression** and calling `expr_info()` on that built **expression**.  Here we see that the `tri` is a `Label` with no sub-expressions."
   ]
  },
  {
   "cell_type": "code",
   "execution_count": null,
   "metadata": {},
   "outputs": [],
   "source": [
    "tri.expr_info() # the expressions and sub-expressions are numbered with the top level being zero."
   ]
  },
  {
   "cell_type": "markdown",
   "metadata": {},
   "source": [
    "`Label` was not one of the core **expression** types listed above because it is not intended to be used except as the base class of `Variable`, `IndexedVar`, and `Literal`.  Notwithstanding, `Label` is displayed as the core type.\n",
    "Two Label's are regarded to be the same expression if and only if the class and both formats (string and LaTeX), are the same:"
   ]
  },
  {
   "cell_type": "code",
   "execution_count": null,
   "metadata": {},
   "outputs": [],
   "source": [
    "assert tri == Label('triangle', r'\\triangle') # equal b/c class (Label) is the same and\n",
    "                                              # the string and LaTex formats are the same\n",
    "    \n",
    "assert tri != Label('tri', r'\\triangle')      # not equal when class or either format is different\n",
    "                                              # Class for both is Label, but string format different"
   ]
  },
  {
   "cell_type": "markdown",
   "metadata": {},
   "source": [
    "Let's make another label to test out `substituted()` method."
   ]
  },
  {
   "cell_type": "code",
   "execution_count": null,
   "metadata": {},
   "outputs": [],
   "source": [
    "sq =  Label(string_format='square', latex_format=r'\\Box')"
   ]
  },
  {
   "cell_type": "markdown",
   "metadata": {},
   "source": [
    "Using *expression substitution*, we can change one `Label` into another or into any other `Expression`.  Later we'll see that *instantiation* is more restrictive, only being applicable to `Variable`s and not any `Label`, but for *expression substitution* this is fine."
   ]
  },
  {
   "cell_type": "code",
   "execution_count": null,
   "metadata": {},
   "outputs": [],
   "source": [
    "tri.replaced({tri:sq})"
   ]
  },
  {
   "cell_type": "markdown",
   "metadata": {},
   "source": [
    "Notice that the `replaced()` method is non-mutating, leaving the tri `Label` as it was originally defined:"
   ]
  },
  {
   "cell_type": "code",
   "execution_count": null,
   "metadata": {},
   "outputs": [],
   "source": [
    "tri"
   ]
  },
  {
   "cell_type": "markdown",
   "metadata": {},
   "source": [
    "<a href=\"#Variable\"></a>Variable\n",
    "===========\n",
    "A `Variable` is an interchangeable <a href=\"#Label\">Label</a> with no formal, contextual meaning."
   ]
  },
  {
   "cell_type": "code",
   "execution_count": null,
   "metadata": {},
   "outputs": [],
   "source": [
    "from proveit import Variable\n",
    "x = Variable('x')  # the string and latex formats\n",
    "                   # are the same by default"
   ]
  },
  {
   "cell_type": "code",
   "execution_count": null,
   "metadata": {},
   "outputs": [],
   "source": [
    "# different string and latex formats:\n",
    "omega = Variable(string_format='omega', latex_format=r'\\omega') "
   ]
  },
  {
   "cell_type": "markdown",
   "metadata": {},
   "source": [
    "Convenient `Variable`s and other `Expression`s are accessible from the main `proveit` theory package\n",
    "as defined in <a class=\"ProveItLink\" href=\"../packages/proveit/_theory_nbs_/common.ipynb\">proveit.\\_theory\\_nbs\\_/common.ipynb</a>."
   ]
  },
  {
   "cell_type": "code",
   "execution_count": null,
   "metadata": {},
   "outputs": [],
   "source": [
    "from proveit import a, b, c, x, y, z, alpha"
   ]
  },
  {
   "cell_type": "code",
   "execution_count": null,
   "metadata": {},
   "outputs": [],
   "source": [
    "from proveit import ExprTuple\n",
    "ExprTuple(a, b, c, x, y, z, alpha)"
   ]
  },
  {
   "cell_type": "markdown",
   "metadata": {},
   "source": [
    "We used an <a href=\"#ExprTuple\">ExprTuple</a> to conveniently render all of those `Variable`s as a single `Expression`.\n",
    "\n",
    "Expression information for a `Variable` is similar to that for a `Label`, but with the different core type and class:"
   ]
  },
  {
   "cell_type": "code",
   "execution_count": null,
   "metadata": {},
   "outputs": [],
   "source": [
    "alpha.expr_info()"
   ]
  },
  {
   "cell_type": "markdown",
   "metadata": {},
   "source": [
    "Just as we saw for the generic `Label` `Expression`s, we can use *expression substitution* to exchange one `Variable` for another or for any other `Expression`.  Furthermore, we will see in a later tutorial chapter that `Variable`s have special properties with respect to *instantiation* because they are defined as interchangeable labels."
   ]
  },
  {
   "cell_type": "code",
   "execution_count": null,
   "metadata": {},
   "outputs": [],
   "source": [
    "alpha.replaced({alpha:sq}) # we can substitute a Variable for any other Expression"
   ]
  },
  {
   "cell_type": "markdown",
   "metadata": {},
   "source": [
    "<a name=\"#Literal\"></a>Literal\n",
    "-------\n",
    "\n",
    "A `Literal` is another kind of <a href=\"#Label\">Label</a>.  In contrast to `Variable`s, `Literal`s have a formal, contextual meaning."
   ]
  },
  {
   "cell_type": "code",
   "execution_count": null,
   "metadata": {},
   "outputs": [],
   "source": [
    "from proveit import Literal"
   ]
  },
  {
   "cell_type": "markdown",
   "metadata": {},
   "source": [
    "Below are different scenarios in which a `Literal` could appropriately be used."
   ]
  },
  {
   "cell_type": "markdown",
   "metadata": {},
   "source": [
    "### Specific operators"
   ]
  },
  {
   "cell_type": "code",
   "execution_count": null,
   "metadata": {},
   "outputs": [],
   "source": [
    "TIMES = Literal(string_format='*', latex_format=r'\\times')"
   ]
  },
  {
   "cell_type": "code",
   "execution_count": null,
   "metadata": {},
   "outputs": [],
   "source": [
    "FACTORIAL = Literal('!')"
   ]
  },
  {
   "cell_type": "code",
   "execution_count": null,
   "metadata": {},
   "outputs": [],
   "source": [
    "SUMMATION = Literal('sum', r'\\sum')"
   ]
  },
  {
   "cell_type": "markdown",
   "metadata": {},
   "source": [
    "We will see in the <a href=\"#Operation\">Operation</a> section that the *operator* of an `Operation`-derived class should be stored as a Python class variable called `_operator_`.  We are using module-level Python variable names just for these examples."
   ]
  },
  {
   "cell_type": "markdown",
   "metadata": {},
   "source": [
    "### Constant values"
   ]
  },
  {
   "cell_type": "code",
   "execution_count": null,
   "metadata": {},
   "outputs": [],
   "source": [
    "FIVE = Literal('5') # Literal constants are also ALL-CAPS"
   ]
  },
  {
   "cell_type": "code",
   "execution_count": null,
   "metadata": {},
   "outputs": [],
   "source": [
    "TRUE = Literal('true', r'\\top')"
   ]
  },
  {
   "cell_type": "code",
   "execution_count": null,
   "metadata": {},
   "outputs": [],
   "source": [
    "FALSE = Literal('false', r'\\bot')"
   ]
  },
  {
   "cell_type": "markdown",
   "metadata": {},
   "source": [
    "Such constants will typically be defined as **common expressions** in the appropriate **theory**, to be discussed in a later tutorial."
   ]
  },
  {
   "cell_type": "markdown",
   "metadata": {},
   "source": [
    "### Theoryual \"variables\"\n",
    "\n",
    "This is appropriate when variables are given a specific meaning within the theory of a problem.  For example, consider a math \"story problem\" where Andrea has $a$ apples and Bill has $b$ bananas.  These are variables in a sense, but here they have contextual meaning so they should be `Literal`s.  However, suppose one wants to prove a general theorem for any number of Andrea's apples and Bill's bananas.  One may start by using the $a$ and $b$ `Literal`s for convenience for some contextual \"lemmas\" (as an aside, though, **Prove-It** does not distinguish between lemmas and theorems), but then demote them to `Variable`s in order to make a statement of the form $\\forall_{a, b} P(a, b)$ (`Literal`s may not be quantified over).  This is done by using a process called axiom elimination that will be discussed later.  For now, we just note that \"variables\" with contextual meaning need to be `Literal`s."
   ]
  },
  {
   "cell_type": "code",
   "execution_count": null,
   "metadata": {},
   "outputs": [],
   "source": [
    "a_lit = Literal('a')"
   ]
  },
  {
   "cell_type": "code",
   "execution_count": null,
   "metadata": {},
   "outputs": [],
   "source": [
    "b_lit = Literal('b')"
   ]
  },
  {
   "cell_type": "code",
   "execution_count": null,
   "metadata": {},
   "outputs": [],
   "source": [
    "# different because one is a Variable and one is a Literal\n",
    "assert a != a_lit \n",
    "# same after converting the Literal to a Variable\n",
    "assert a == a_lit.as_variable() "
   ]
  },
  {
   "cell_type": "markdown",
   "metadata": {},
   "source": [
    "### Literal substitution\n",
    "It is possible to perform *expression substitution* on a `Literal`."
   ]
  },
  {
   "cell_type": "code",
   "execution_count": null,
   "metadata": {},
   "outputs": [],
   "source": [
    "a_lit.replaced({a_lit:b_lit})"
   ]
  },
  {
   "cell_type": "code",
   "execution_count": null,
   "metadata": {},
   "outputs": [],
   "source": [
    "a_lit.replaced({a_lit:omega})"
   ]
  },
  {
   "cell_type": "markdown",
   "metadata": {},
   "source": [
    "As noted earlier, the `substituted()` method is non-mutating, leaving the a_lit `Literal` as it was originally defined:"
   ]
  },
  {
   "cell_type": "code",
   "execution_count": null,
   "metadata": {},
   "outputs": [],
   "source": [
    "a_lit"
   ]
  },
  {
   "cell_type": "markdown",
   "metadata": {},
   "source": [
    "While we are able to replace a `Literal` via *expression substitution*, we may not replace them via *instantiation* because `Literal`s are not interchangeable labels."
   ]
  },
  {
   "cell_type": "markdown",
   "metadata": {},
   "source": [
    "### Literal theories\n",
    "\n",
    "A `Literal` is distinguished not only by its formatting but also by its **theory**.  Axioms and theorems of **Prove-It** are organized via **theories** which we will discuss later in more detail.  Each `Literal` belongs to a **theory** which is typically the one corresponding to the package (directory) in which it is defined.  This is particularly important for *contextual variable* types of `Literal`s that are very *theory*-specific."
   ]
  },
  {
   "cell_type": "code",
   "execution_count": null,
   "metadata": {},
   "outputs": [],
   "source": [
    "from proveit import logic"
   ]
  },
  {
   "cell_type": "code",
   "execution_count": null,
   "metadata": {},
   "outputs": [],
   "source": [
    "logic.TRUE"
   ]
  },
  {
   "cell_type": "markdown",
   "metadata": {},
   "source": [
    "*If the above output is not the $\\top$ symbol when you execute this, you probably need to <a class=\"ProveItLink\" href=\"tutorial00_introduction.ipynb#build\">build or download the Prove-It database</a>.*"
   ]
  },
  {
   "cell_type": "code",
   "execution_count": null,
   "metadata": {},
   "outputs": [],
   "source": [
    "# When the theory is different, they are not the same.\n",
    "TRUE == logic.TRUE"
   ]
  },
  {
   "cell_type": "markdown",
   "metadata": {},
   "source": [
    "The detailed expression information reveals the differences:"
   ]
  },
  {
   "cell_type": "code",
   "execution_count": null,
   "metadata": {},
   "outputs": [],
   "source": [
    "TRUE.expr_info(details=True)"
   ]
  },
  {
   "cell_type": "code",
   "execution_count": null,
   "metadata": {},
   "outputs": [],
   "source": [
    "logic.TRUE.expr_info(details=True)"
   ]
  },
  {
   "cell_type": "markdown",
   "metadata": {},
   "source": [
    "**Expressions** are also distinguished by their class (derived from the *core type*).  In the above example, `logic.TRUE` is an object of the `proveit.logic.booleans.booleans.TrueLiteral` class.  `logic.TRUE` and `logic.FALSE` have an `eval_equality(..)` method defined in their respective classes which is a convenient method for deriving any of the following: $(\\top = \\top) = \\top$, $(\\bot = \\bot) = \\top$, $(\\top = \\bot) = \\bot$, or $(\\bot = \\top) = \\bot$ (these are proven theorems within `proveit.logic`). For example:"
   ]
  },
  {
   "cell_type": "code",
   "execution_count": null,
   "metadata": {},
   "outputs": [],
   "source": [
    "logic.TRUE.eval_equality(logic.FALSE)"
   ]
  },
  {
   "cell_type": "markdown",
   "metadata": {},
   "source": [
    "That is a sneak preview of a judgment (**Judgment** object) that uses the turnstile notation, $\\boldsymbol{\\vdash}$, to indicate that the expression is a proven statement.  There will be more on this in later tutorial chapters."
   ]
  },
  {
   "cell_type": "markdown",
   "metadata": {},
   "source": [
    "<a name=\"ExprTuple\"></a>ExprTuple\n",
    "=========\n",
    "\n",
    "An `ExprTuple` is an ordered collection of **expression** objects which we previewed briefly already.  Here is another example:"
   ]
  },
  {
   "cell_type": "code",
   "execution_count": null,
   "metadata": {},
   "outputs": [],
   "source": [
    "et = ExprTuple(a, b, c, TRUE, FIVE, a, alpha)"
   ]
  },
  {
   "cell_type": "markdown",
   "metadata": {},
   "source": [
    "An `ExprTuple` may be used as the *operands* or *operations* of an `Operation`, the *parameters* of a `Lambda` map, or the *values* and *conditions* of a `Conditional`.  A Python tuple (or any iterable) will automatically be converted to an `ExprTuple` when it is passed in for any of these roles when constructing an `Operation`, `Lambda`, or `Conditional`. "
   ]
  },
  {
   "cell_type": "markdown",
   "metadata": {},
   "source": [
    "Substitution typically carries forward in a straightforward manner."
   ]
  },
  {
   "cell_type": "code",
   "execution_count": null,
   "metadata": {},
   "outputs": [],
   "source": [
    "et.replaced({a:FALSE})"
   ]
  },
  {
   "cell_type": "markdown",
   "metadata": {},
   "source": [
    "Note that the *substitution* occurs on all relevant instances.  And, as always, `substituted` is non-mutating:"
   ]
  },
  {
   "cell_type": "code",
   "execution_count": null,
   "metadata": {},
   "outputs": [],
   "source": [
    "et"
   ]
  },
  {
   "cell_type": "markdown",
   "metadata": {},
   "source": [
    "The **expression** constituents of an `ExprTuple` are known as *entries*:"
   ]
  },
  {
   "cell_type": "code",
   "execution_count": null,
   "metadata": {},
   "outputs": [],
   "source": [
    "et.entries[5]"
   ]
  },
  {
   "cell_type": "markdown",
   "metadata": {},
   "source": [
    "The enumerated mathematical objects represented by the `ExprTuple` are known as *elements*.  The *elements* and *entries* are in correspondence except when the `ExprTuple` contains an `Iter`.  A contained `Iter` is a single *entry* but may represent multiple elements.  For example, the second *entry* of $(a, b_1, ..., b_n)$ is the `Iter` $b_1, ..., b_n$, but the second *element*, assuming $n \\geq 1$, is $b_1$.  We will revisit this in the <a href=\"#Iter\">Iter</a> section."
   ]
  },
  {
   "cell_type": "markdown",
   "metadata": {},
   "source": [
    "`ExprTuple` *substitution* is more interesting when an `Iter` containing an `IndexedVar` is expanded such that the `Iter` splits into multiple *entries*.  This will be demonstrated in the <a href=\"#IndexedVar\">IndexedVar</a> section.  "
   ]
  },
  {
   "cell_type": "markdown",
   "metadata": {},
   "source": [
    "<a name=\"Operation\"></a>Operation\n",
    "=========\n",
    "\n",
    "This type of **expression** represents an applied operation.  It contains *operator(s)* and *operand(s)*.  The default formatting of an `Operation` with one *operator* and more than one *operand* is to place the *operator* between each successive pair of *operands* as follows."
   ]
  },
  {
   "cell_type": "code",
   "execution_count": null,
   "metadata": {},
   "outputs": [],
   "source": [
    "from proveit import Operation\n",
    "triple_prod = Operation(TIMES, [x, y, omega])"
   ]
  },
  {
   "cell_type": "markdown",
   "metadata": {},
   "source": [
    "A `Function` is derived from `Operation`.  It behaves in the same manner except it formats it in a \"function\" style:"
   ]
  },
  {
   "cell_type": "code",
   "execution_count": null,
   "metadata": {},
   "outputs": [],
   "source": [
    "from proveit import Function\n",
    "\n",
    "# Simple case: a Variable operator with a single Variable operand\n",
    "f = Variable('f')\n",
    "fx = Function(f, x)"
   ]
  },
  {
   "cell_type": "code",
   "execution_count": null,
   "metadata": {},
   "outputs": [],
   "source": [
    "from proveit import fx, gx, Px, Qx\n",
    "ExprTuple(fx, gx, Px, Qx)"
   ]
  },
  {
   "cell_type": "markdown",
   "metadata": {},
   "source": [
    "An `Operation` must have a single *operator* that is a *label* (*variable* or *literal*)."
   ]
  },
  {
   "cell_type": "code",
   "execution_count": null,
   "metadata": {},
   "outputs": [],
   "source": [
    "try:\n",
    "    Operation(fx, fx)\n",
    "    assert False, \"Expecting a TypeError; should not make it to this point\"\n",
    "except TypeError as e:\n",
    "    print(\"Expected TypeError: %s\"%str(e))"
   ]
  },
  {
   "cell_type": "markdown",
   "metadata": {},
   "source": [
    "The `operator` and `operands` attributes access the *operator* and *operands* respectively as `ExprTuple`s:"
   ]
  },
  {
   "cell_type": "code",
   "execution_count": null,
   "metadata": {},
   "outputs": [],
   "source": [
    "triple_prod.operator"
   ]
  },
  {
   "cell_type": "code",
   "execution_count": null,
   "metadata": {},
   "outputs": [],
   "source": [
    "triple_prod.operands"
   ]
  },
  {
   "cell_type": "markdown",
   "metadata": {},
   "source": [
    "If there is only one *operand*, it may be accessed via the `operand` attributes: "
   ]
  },
  {
   "cell_type": "code",
   "execution_count": null,
   "metadata": {},
   "outputs": [],
   "source": [
    "fx.operand"
   ]
  },
  {
   "cell_type": "code",
   "execution_count": null,
   "metadata": {},
   "outputs": [],
   "source": [
    "# An Operation does not have an `operand` attribute\n",
    "# if there is more than one *operand*.\n",
    "hasattr(triple_prod, 'operand')"
   ]
  },
  {
   "cell_type": "markdown",
   "metadata": {},
   "source": [
    "Looking at the expression information, we see that `triple_prod` has `operands` that is an `ExprTuple` but a single `operator` that is a `Literal`."
   ]
  },
  {
   "cell_type": "code",
   "execution_count": null,
   "metadata": {},
   "outputs": [],
   "source": [
    "triple_prod.expr_info()"
   ]
  },
  {
   "cell_type": "markdown",
   "metadata": {},
   "source": [
    "### Defining an `Operation` sub-class\n",
    "\n",
    "Let's derive a couple of classes from `Operation` to represent operations with specific literal operators.\n",
    "This is commonly done within Prove-It library modules.  We use the `%load` magic command to display (and execute) the contents of <a href=\"demo_operations.py\">demo_operations.py</a>."
   ]
  },
  {
   "cell_type": "code",
   "execution_count": null,
   "metadata": {},
   "outputs": [],
   "source": [
    "# %load demo_operations.py\n",
    "'''\n",
    "Module that defines a Operations for demonstration\n",
    "purposes in this tutorial.\n",
    "'''\n",
    "\n",
    "from proveit import Operation, Literal\n",
    "\n",
    "class Factorial(Operation):\n",
    "    # _operator_ is a special class variable name, defining specific literal operator of the Operation class.\n",
    "    # It is not only used for default formatting but also when performing substitutions for rebuilding expressions.\n",
    "    _operator_ = Literal('!')\n",
    "    \n",
    "    def __init__(self, operand):\n",
    "        # creates the Operation with FACTORIAL as the operator and the provided operand as its only operand.\n",
    "        Operation.__init__(self, Factorial._operator_, operand) # initializes self.operand\n",
    "\n",
    "    def string(self, **kwargs): # should accept kwargs even when not used (e.g., 'fence')\n",
    "        # the operand should be fenced (wrapped in parentheses) to prevent ambiguity\n",
    "        return self.operand.string(fence=True) + Factorial._operator_.string()\n",
    "    \n",
    "    def latex(self, **kwargs): # should accept kwargs even when not used (e.g., 'fence')\n",
    "        # the operand should be fenced (wrapped in parentheses) to prevent ambiguity\n",
    "        return self.operand.latex(fence=True) + Factorial._operator_.latex() \n",
    "\n",
    "class Multiply(Operation):\n",
    "    \n",
    "    # This operator Literal has a LaTeX format that differs from the string format.\n",
    "    _operator_ = Literal('*', r'\\times')\n",
    "    \n",
    "    def __init__(self, *operands): # takes a list of arguments as the operands\n",
    "        # creates the AssociativeOperation with TIMES as the operator and any number of operands.\n",
    "        Operation.__init__(self, Multiply._operator_, operands)\n",
    "    \n",
    "    # The default formatting will display the operator between the operands\n"
   ]
  },
  {
   "cell_type": "markdown",
   "metadata": {},
   "source": [
    "In order to work properly, however, we need to import these classes from the module (as Prove-It will use the `__file__` attribute of this module for its internal purposes)."
   ]
  },
  {
   "cell_type": "code",
   "execution_count": null,
   "metadata": {},
   "outputs": [],
   "source": [
    "from demo_operations import Factorial, Multiply"
   ]
  },
  {
   "cell_type": "markdown",
   "metadata": {},
   "source": [
    "A `Factorial` is an `Operation` with \"!\" as the format of the `Literal` operator.  Its formatting is altered from the default but is still true to the core `Expression` structure (the formatting is a reflection of the internal structure)."
   ]
  },
  {
   "cell_type": "code",
   "execution_count": null,
   "metadata": {},
   "outputs": [],
   "source": [
    "# Now we can make an object with this new class\n",
    "x_factorial = Factorial(x)"
   ]
  },
  {
   "cell_type": "code",
   "execution_count": null,
   "metadata": {},
   "outputs": [],
   "source": [
    "# show core structure\n",
    "x_factorial.expr_info()"
   ]
  },
  {
   "cell_type": "markdown",
   "metadata": {},
   "source": [
    "In the Jupyter notebook setting, we typically only use LaTeX formatting, but it is important to define the string formatting as well for whenever it is needed (e.g., when error messages are displayed).  The `fence=True` above indicates that parentheses should be used when it could be ambiguous otherwise.  Our example above has no ambiguity, so parentheses are not used.  We will show a case below where the parentheses are required."
   ]
  },
  {
   "cell_type": "markdown",
   "metadata": {},
   "source": [
    "Next we consider a multiple *operand* example using the `Multiply` class that we imported from <a href=\"demo_operations.py\">demo_operations.py</a> above."
   ]
  },
  {
   "cell_type": "code",
   "execution_count": null,
   "metadata": {},
   "outputs": [],
   "source": [
    "# Demonstrating an Operation with multiple operands\n",
    "mult_expr = Multiply(x, FIVE, omega)"
   ]
  },
  {
   "cell_type": "code",
   "execution_count": null,
   "metadata": {},
   "outputs": [],
   "source": [
    "# Let's nest Operations and show proper fencing behavior\n",
    "nested_operation = Factorial(mult_expr)"
   ]
  },
  {
   "cell_type": "code",
   "execution_count": null,
   "metadata": {},
   "outputs": [],
   "source": [
    "nested_operation.expr_info()"
   ]
  },
  {
   "cell_type": "markdown",
   "metadata": {},
   "source": [
    "### Operand substitution\n",
    "\n",
    "*Substitution* of *operands* is straightforward in the way it works."
   ]
  },
  {
   "cell_type": "code",
   "execution_count": null,
   "metadata": {},
   "outputs": [],
   "source": [
    "x_factorial.replaced({x:omega})"
   ]
  },
  {
   "cell_type": "markdown",
   "metadata": {},
   "source": [
    "Notice that the substituted() method is non-mutating, leaving the **x_factorial** expression as it was originally defined:"
   ]
  },
  {
   "cell_type": "code",
   "execution_count": null,
   "metadata": {},
   "outputs": [],
   "source": [
    "x_factorial"
   ]
  },
  {
   "cell_type": "markdown",
   "metadata": {},
   "source": [
    "We can also substitute an entire expression in for the variable $x$:"
   ]
  },
  {
   "cell_type": "code",
   "execution_count": null,
   "metadata": {},
   "outputs": [],
   "source": [
    "nested_operation_from_sub = x_factorial.replaced({x:mult_expr})"
   ]
  },
  {
   "cell_type": "markdown",
   "metadata": {},
   "source": [
    "Internally, however, there is specific machinery required to regenerate these objects and construct them with the proper classes.  In order for this machinery to work, the `_operator_` class attribute must be properly defined (e.g., `Factorial._operator_` and `Multiply._operator_`).  To demonstrate that this is working properly, note that the classes displayed in the detailed expression info from `expr_info()` are as they should be:"
   ]
  },
  {
   "cell_type": "code",
   "execution_count": null,
   "metadata": {},
   "outputs": [],
   "source": [
    "nested_operation_from_sub.expr_info(details=True)"
   ]
  },
  {
   "cell_type": "markdown",
   "metadata": {},
   "source": [
    "Furthermore, this expression that we obtained via substitution is equivalent to the one constructed directly:"
   ]
  },
  {
   "cell_type": "code",
   "execution_count": null,
   "metadata": {},
   "outputs": [],
   "source": [
    "print(\"Expressions, generated in different ways, are the same:\", \n",
    "      (nested_operation_from_sub == nested_operation))"
   ]
  },
  {
   "cell_type": "markdown",
   "metadata": {},
   "source": [
    "### Operator substitution\n",
    "\n",
    "The *operator* itself may likewise be *substituted*, but with some interesting extra capabilities."
   ]
  },
  {
   "cell_type": "markdown",
   "metadata": {},
   "source": [
    "It is straightforward to substitute a **Variable** *operator* with another **Variable** (i.e., relabel). Here we relabel the $f$ in $f(x)$ to $g$ to obtain $g(x)$:"
   ]
  },
  {
   "cell_type": "code",
   "execution_count": null,
   "metadata": {},
   "outputs": [],
   "source": [
    "from proveit import g\n",
    "fx.replaced({f:g}) # Variable operator to a different Variable"
   ]
  },
  {
   "cell_type": "markdown",
   "metadata": {},
   "source": [
    "And it is straightforward to *substitute* a **Variable** *operator* with a **Literal**."
   ]
  },
  {
   "cell_type": "code",
   "execution_count": null,
   "metadata": {},
   "outputs": [],
   "source": [
    "x_factorial_from_fx = fx.replaced({f:FACTORIAL})"
   ]
  },
  {
   "cell_type": "code",
   "execution_count": null,
   "metadata": {},
   "outputs": [],
   "source": [
    "x_factorial_from_fx.expr_info(details=True)"
   ]
  },
  {
   "cell_type": "code",
   "execution_count": null,
   "metadata": {},
   "outputs": [],
   "source": [
    "assert x_factorial_from_fx == x_factorial # Same"
   ]
  },
  {
   "cell_type": "markdown",
   "metadata": {},
   "source": [
    "It is able to generate the new **expression** in the appropriate `Factorial` class via the internal mechanisms that use its `_operator_` class attribute."
   ]
  },
  {
   "cell_type": "markdown",
   "metadata": {},
   "source": [
    "Performing an *expression substitution* of a `Literal` *operator* within an `Operation` class will typically be blocked because it will not know how to make the new **expression**:"
   ]
  },
  {
   "cell_type": "code",
   "execution_count": null,
   "metadata": {},
   "outputs": [],
   "source": [
    "from proveit import OperationError\n",
    "# But this will typically be prevented (appropriately) in trying to remake a derived Operation class:\n",
    "try:\n",
    "    x_factorial.replaced({FACTORIAL:SUMMATION})\n",
    "    assert False, \"Expecting an OperationError error; should not make it to this point\"\n",
    "except OperationError as e:\n",
    "    print(\"EXPECTED ERROR:\", e)"
   ]
  },
  {
   "cell_type": "markdown",
   "metadata": {},
   "source": [
    "### <a name=\"Operation_sub\"></a>Operation substitution"
   ]
  },
  {
   "cell_type": "markdown",
   "metadata": {},
   "source": [
    "The more interesting and useful case is to *substitute* the `Operation` itself. Here we convert $f(x)$ to $x!$ by substituting a `Lambda` mapping for the function variabe $f$:"
   ]
  },
  {
   "cell_type": "code",
   "execution_count": null,
   "metadata": {},
   "outputs": [],
   "source": [
    "from proveit import Lambda\n",
    "fancy_factorial_map = Lambda(y, Multiply(y, Factorial(y)))"
   ]
  },
  {
   "cell_type": "markdown",
   "metadata": {},
   "source": [
    "The <a href=\"#Lambda\">`Lambda`</a> core type will be discussed in more detail below.  We use it here for a quick example."
   ]
  },
  {
   "cell_type": "code",
   "execution_count": null,
   "metadata": {},
   "outputs": [],
   "source": [
    "fx.replaced({f:fancy_factorial_map})"
   ]
  },
  {
   "cell_type": "markdown",
   "metadata": {},
   "source": [
    "Note that the operand is still $x$ (not $y$).  This is substituting the *operation*, not the operand.  If desired, however, it could be substituted simultaneously:"
   ]
  },
  {
   "cell_type": "code",
   "execution_count": null,
   "metadata": {},
   "outputs": [],
   "source": [
    "fancy_omega_fn = fx.replaced({f:fancy_factorial_map, x:omega})"
   ]
  },
  {
   "cell_type": "code",
   "execution_count": null,
   "metadata": {},
   "outputs": [],
   "source": [
    "fancy_omega_fn.expr_info(details=True)"
   ]
  },
  {
   "cell_type": "markdown",
   "metadata": {},
   "source": [
    "Note that by substituting $f$ with a `Lambda` expression, the entire `Operation` is substituted, not just the *operator*.  This is why `Lambda` *operator*s are not allowed (only `Label` operators); otherwise, such a substitution could be ambiguous or confusing (should it substitute the `Operation` or substitute the *operator* with the `Lambda` expression?).  This also highlights the fact that **Prove-It** is not a functional programming or lambda calculus.  Rather, **Prove-It** is designed for manipulating expressions as desired, and *operation substitution* is a useful and powerful, yet relatively straightforward tool for doing so."
   ]
  },
  {
   "cell_type": "markdown",
   "metadata": {},
   "source": [
    "<a name=\"Conditional\"></a>Conditional\n",
    "====\n",
    "\n",
    "A `Conditional` has one or more *values* associated with one or more *conditions*.  A given *value* is only pertinent if its associated *condition* is satisfied (known to be true).  MUST UPDATE THIS SECTION.  A CONDITIONAL ONLY HAS ONE VALUE AND CONDITION.  A CONDITIONAL SET"
   ]
  },
  {
   "cell_type": "code",
   "execution_count": null,
   "metadata": {},
   "outputs": [],
   "source": [
    "from proveit import Conditional, ConditionalSet"
   ]
  },
  {
   "cell_type": "markdown",
   "metadata": {},
   "source": [
    "To create the `Conditional`, supply the *values* and *conditions* as separate arguments in the constructor.  This example invokes the `Neg`, `Less`, and `greater_eq`  <a href=\"#Operation\">`Operation`</a>s as well as the `zero` <a href=\"#Literal\">`Literal`</a>)"
   ]
  },
  {
   "cell_type": "code",
   "execution_count": null,
   "metadata": {},
   "outputs": [],
   "source": [
    "from proveit.numbers import zero, Neg, Less, greater_eq\n",
    "abs_cond = Conditional((x, Neg(x)), \n",
    "                       (greater_eq(x, zero), Less(x, zero)))"
   ]
  },
  {
   "cell_type": "code",
   "execution_count": null,
   "metadata": {},
   "outputs": [],
   "source": [
    "# The string formatting is somewhat different:\n",
    "str(abs_cond)"
   ]
  },
  {
   "cell_type": "markdown",
   "metadata": {},
   "source": [
    "The `conditions` and `values` attributes may be used to access the *conditions* and *values* respectively."
   ]
  },
  {
   "cell_type": "code",
   "execution_count": null,
   "metadata": {},
   "outputs": [],
   "source": [
    "abs_cond.condition"
   ]
  },
  {
   "cell_type": "code",
   "execution_count": null,
   "metadata": {},
   "outputs": [],
   "source": [
    "abs_cond.value"
   ]
  },
  {
   "cell_type": "markdown",
   "metadata": {},
   "source": [
    "This is the expression information breakdown for our `Conditional` example."
   ]
  },
  {
   "cell_type": "code",
   "execution_count": null,
   "metadata": {},
   "outputs": [],
   "source": [
    "abs_cond.expr_info()"
   ]
  },
  {
   "cell_type": "markdown",
   "metadata": {},
   "source": [
    "It is actually common to have only one *condition*, indicating a value that is only defined when the condition is satisfied."
   ]
  },
  {
   "cell_type": "code",
   "execution_count": null,
   "metadata": {},
   "outputs": [],
   "source": [
    "from proveit.logic import Equals, NotEquals\n",
    "from proveit.numbers import zero, Mult, frac\n",
    "div_cancel_cond = Conditional(Equals(Mult(x, frac(y, x)), y),\n",
    "                              NotEquals(y, zero))"
   ]
  },
  {
   "cell_type": "markdown",
   "metadata": {},
   "source": [
    "It will then have singular `condition` and `value` attributes."
   ]
  },
  {
   "cell_type": "code",
   "execution_count": null,
   "metadata": {},
   "outputs": [],
   "source": [
    "div_cancel_cond.condition"
   ]
  },
  {
   "cell_type": "code",
   "execution_count": null,
   "metadata": {},
   "outputs": [],
   "source": [
    "div_cancel_cond.value"
   ]
  },
  {
   "cell_type": "markdown",
   "metadata": {},
   "source": [
    "<a name=\"Lambda\"></a>Lambda\n",
    "====\n",
    "\n",
    "This type of **expression** represents a mathematical mapping or function.  It contains *parameter(s)* (one or more *variables* and/or *iteration* of *indexed* *variables* that will be discussed in the <a href=\"#IndexedVar\">IndexedVar</a> section below) and a *body* (any **expression** that the *parameters* are to be mapped into)."
   ]
  },
  {
   "cell_type": "code",
   "execution_count": null,
   "metadata": {},
   "outputs": [],
   "source": [
    "from proveit import Lambda"
   ]
  },
  {
   "cell_type": "code",
   "execution_count": null,
   "metadata": {},
   "outputs": [],
   "source": [
    "# maps any value to 5\n",
    "map_to_5 = Lambda(x, FIVE)"
   ]
  },
  {
   "cell_type": "code",
   "execution_count": null,
   "metadata": {},
   "outputs": [],
   "source": [
    "# Let's look at the Expression info\n",
    "map_to_5.expr_info()"
   ]
  },
  {
   "cell_type": "markdown",
   "metadata": {},
   "source": [
    "Here is an example with multiple *parameters* represented by an `ExprTuple` and a `Conditional` *body* .  This maps a pair of real numbers to the first element (invoking the `And`, `Add`, and `InSet` <a href=\"#Operation\">`Operation`</a>s and using the `Real` <a href=\"#Literal\">`Literal`</a>):"
   ]
  },
  {
   "cell_type": "code",
   "execution_count": null,
   "metadata": {},
   "outputs": [],
   "source": [
    "# Can have multiple arguments\n",
    "from proveit.logic import InSet, And\n",
    "from proveit.numbers import Add, Real\n",
    "from proveit import Conditional\n",
    "lambda_expr = Lambda([x, omega], \n",
    "                     Conditional(Add(x, omega), \n",
    "                                 And(InSet(x, Real), \n",
    "                                     InSet(omega, Real))))"
   ]
  },
  {
   "cell_type": "code",
   "execution_count": null,
   "metadata": {},
   "outputs": [],
   "source": [
    "lambda_expr.expr_info()"
   ]
  },
  {
   "cell_type": "markdown",
   "metadata": {},
   "source": [
    "The `parameters` and `body` attributes access these respective sub-expressions:"
   ]
  },
  {
   "cell_type": "code",
   "execution_count": null,
   "metadata": {},
   "outputs": [],
   "source": [
    "lambda_expr.parameters"
   ]
  },
  {
   "cell_type": "code",
   "execution_count": null,
   "metadata": {},
   "outputs": [],
   "source": [
    "lambda_expr.body"
   ]
  },
  {
   "cell_type": "markdown",
   "metadata": {},
   "source": [
    "If a `Lambda` map has one *parameter*, it will have a `parameter` attribute."
   ]
  },
  {
   "cell_type": "code",
   "execution_count": null,
   "metadata": {},
   "outputs": [],
   "source": [
    "single_param_lambda = Lambda(x, Mult(FIVE, a))"
   ]
  },
  {
   "cell_type": "code",
   "execution_count": null,
   "metadata": {},
   "outputs": [],
   "source": [
    "single_param_lambda.parameter"
   ]
  },
  {
   "cell_type": "markdown",
   "metadata": {},
   "source": [
    "### Lambda relabeling and relabeled equivalence"
   ]
  },
  {
   "cell_type": "markdown",
   "metadata": {},
   "source": [
    "The choice of *parameter* *labels* has no effect on the meaning of a `Lambda` map.  We are free to \"relabel\" the *parameters* (via `Lambda.relabeled`) as long as it is done consistently and distinct labels remain distinct."
   ]
  },
  {
   "cell_type": "code",
   "execution_count": null,
   "metadata": {},
   "outputs": [],
   "source": [
    "lambda_expr"
   ]
  },
  {
   "cell_type": "code",
   "execution_count": null,
   "metadata": {},
   "outputs": [],
   "source": [
    "lambda_expr_v2 = lambda_expr.relabeled({x:y})"
   ]
  },
  {
   "cell_type": "markdown",
   "metadata": {},
   "source": [
    "We can even simultaneously swap labels:"
   ]
  },
  {
   "cell_type": "code",
   "execution_count": null,
   "metadata": {},
   "outputs": [],
   "source": [
    "lambda_expr"
   ]
  },
  {
   "cell_type": "code",
   "execution_count": null,
   "metadata": {},
   "outputs": [],
   "source": [
    "lambda_expr.replaced({x:omega, omega:x}, allow_relabeling=True)"
   ]
  },
  {
   "cell_type": "code",
   "execution_count": null,
   "metadata": {},
   "outputs": [],
   "source": [
    "lambda_expr_v3 = lambda_expr.relabeled({x:omega, omega:x})"
   ]
  },
  {
   "cell_type": "markdown",
   "metadata": {},
   "source": [
    "But we cannot allow a collision of the label mappings:"
   ]
  },
  {
   "cell_type": "code",
   "execution_count": null,
   "metadata": {},
   "outputs": [],
   "source": [
    "from proveit import DisallowedParameterRelabeling\n",
    "try:\n",
    "    lambda_expr.relabeled({x:y, omega:y})\n",
    "    assert False, (\"Expecting a DisallowedParameterRelabeling error; \"\n",
    "                   \"should not make it to this point.\")\n",
    "except DisallowedParameterRelabeling as e:\n",
    "    print(\"EXPECTED ERROR: \", e)"
   ]
  },
  {
   "cell_type": "code",
   "execution_count": null,
   "metadata": {},
   "outputs": [],
   "source": [
    "try:\n",
    "    lambda_expr.relabeled({x:omega})\n",
    "    assert False, (\"Expecting a DisallowedParameterRelabeling error; \"\n",
    "                   \"should not make it to this point.\")\n",
    "except DisallowedParameterRelabeling as e:\n",
    "    print(\"EXPECTED ERROR: \", e)"
   ]
  },
  {
   "cell_type": "markdown",
   "metadata": {},
   "source": [
    "Also, an exception is raised if we attempt to relabel to a non-Variable."
   ]
  },
  {
   "cell_type": "code",
   "execution_count": null,
   "metadata": {},
   "outputs": [],
   "source": [
    "try:\n",
    "    lambda_expr.relabeled({x:fx})\n",
    "    assert False, (\"Expecting a TypeError error; \"\n",
    "                   \"should not make it to this point.\")\n",
    "except TypeError as e:\n",
    "    print(\"EXPECTED ERROR: \", e)"
   ]
  },
  {
   "cell_type": "markdown",
   "metadata": {},
   "source": [
    "Moreover, **Prove-It** recognizes the different valid relabeled versions of *Lambda* expressions as the *same* **expression** with respect to *meaning*.  They are regarded as equal."
   ]
  },
  {
   "cell_type": "code",
   "execution_count": null,
   "metadata": {},
   "outputs": [],
   "source": [
    "assert lambda_expr == lambda_expr_v2 == lambda_expr_v3"
   ]
  },
  {
   "cell_type": "markdown",
   "metadata": {},
   "source": [
    "These are recognized as having distinct *styles* of presentation, however.    **Prove-It** provides flexibility with respect to presentation style of expressions while recognizing the *meaning* equivalence when style is the only distinction.  This is the first of many examples to be encountered."
   ]
  },
  {
   "cell_type": "markdown",
   "metadata": {},
   "source": [
    "### Lambda scope and substitution rules"
   ]
  },
  {
   "cell_type": "markdown",
   "metadata": {},
   "source": [
    "It is important to understand that a `Lambda` expression defines a new scope within its *body* with respect to the *parameters*.  This has two important consequences with respect to substitution rules."
   ]
  },
  {
   "cell_type": "markdown",
   "metadata": {},
   "source": [
    "The first consequence of the internal `Lambda` scope is that the `Lambda` masks the substitution of variables that happen to be the same as any of the `Lambda` parameters.  For example,"
   ]
  },
  {
   "cell_type": "code",
   "execution_count": null,
   "metadata": {},
   "outputs": [],
   "source": [
    "tuple_with_lambda = ExprTuple(x, lambda_expr)"
   ]
  },
  {
   "cell_type": "code",
   "execution_count": null,
   "metadata": {},
   "outputs": [],
   "source": [
    "tuple_with_lambda.replaced({x:a_lit}) "
   ]
  },
  {
   "cell_type": "markdown",
   "metadata": {},
   "source": [
    "Here we see that $x$ is altered external to the `Lambda` expression, but the $x$ within the `Lambda` expression is left alone.  This is fine because the internal $x$ is essentially a different $x$; the scope is different."
   ]
  },
  {
   "cell_type": "markdown",
   "metadata": {},
   "source": [
    "For convenience, `substituted` will perform relabeling if the replacement of a `Lambda` *parameter* is another `Variable`.  For example,"
   ]
  },
  {
   "cell_type": "code",
   "execution_count": null,
   "metadata": {},
   "outputs": [],
   "source": [
    "tuple_with_lambda.replaced({x:y}) "
   ]
  },
  {
   "cell_type": "markdown",
   "metadata": {},
   "source": [
    "The inner and outer $y$ *variables* are still regarded as distinct, but it doesn't hurt to relabel the one within the `Lambda` as we wish.  If we do not want this behavior when performing *expression substitution* or *instantiation*, we can *relabel* the map with a distinct variable first.  This feature simply provides a convenient way to perform inner relabeling simultaneously with other substitutions."
   ]
  },
  {
   "cell_type": "markdown",
   "metadata": {},
   "source": [
    "The other consequence for of `Lambda` scoping with respect to substitution is that we must not allow any expression within the `Lambda` *body* to be replaced with something that contains one of its *parameters*.  That is because those *parameters* are, with respect to scope, distinct from anything outside of the `Lambda` expression.  So bringing in a replacement defined for external use would have a different meaning when applied internally, and this must not be allowed.  Otherwise, you could alter the meaning of the expression in ways that can invalidate a proof (e.g., via a *instantiation* step which relies upon *expression substitution* internally).  Thus, the parameters of the Lambda function are \"reserved\" and may not be used in substitution. \n",
    "\n",
    "Consider the mapping defined below:"
   ]
  },
  {
   "cell_type": "code",
   "execution_count": null,
   "metadata": {},
   "outputs": [],
   "source": [
    "map_to_new_var = Lambda([x, omega], z)"
   ]
  },
  {
   "cell_type": "markdown",
   "metadata": {},
   "source": [
    "Expressions involving $x$ and/or $w$ are not allowed to be used in the substitutions for $z$. For example, we are not allowed to transform this map to $(x, \\omega) \\mapsto \\omega$ via substitution.  Prove-It will automatically avoid this via automated relabeling."
   ]
  },
  {
   "cell_type": "code",
   "execution_count": null,
   "metadata": {},
   "outputs": [],
   "source": [
    "map_to_new_var.replaced({z:omega})"
   ]
  },
  {
   "cell_type": "markdown",
   "metadata": {},
   "source": [
    "And we are not allowed to change the map to $(x, \\omega) \\mapsto f(x)$ via substitution.  Again, automatic relabeling avoids this issue."
   ]
  },
  {
   "cell_type": "code",
   "execution_count": null,
   "metadata": {},
   "outputs": [],
   "source": [
    "map_to_new_var.replaced({z:fx})"
   ]
  },
  {
   "cell_type": "markdown",
   "metadata": {},
   "source": [
    "If it does not involve any of the parameter variables, however, that is okay."
   ]
  },
  {
   "cell_type": "code",
   "execution_count": null,
   "metadata": {},
   "outputs": [],
   "source": [
    "tuple_with_lambda.replaced({x:y}) "
   ]
  },
  {
   "cell_type": "code",
   "execution_count": null,
   "metadata": {},
   "outputs": [],
   "source": [
    "map_to_new_var.replaced({z:FIVE})"
   ]
  },
  {
   "cell_type": "markdown",
   "metadata": {},
   "source": [
    "### Applying the Lambda map\n",
    "\n",
    "In addition to the `substituted` method, the `Lambda` class has an `apply` method.  As arguments, the `apply` method should be given the operands to be mapped.  The `apply` method will apply the proper substitution replacements to the `Lambda` *body* to effect the application of the map to the operands.  Internally, <a href=\"#Operation_sub\">*operation substitution*</a> is effected via the `Lambda.apply` method."
   ]
  },
  {
   "cell_type": "code",
   "execution_count": null,
   "metadata": {},
   "outputs": [],
   "source": [
    "lambda_expr"
   ]
  },
  {
   "cell_type": "code",
   "execution_count": null,
   "metadata": {},
   "outputs": [],
   "source": [
    "lambda_expr.apply(fancy_omega_fn, y)"
   ]
  },
  {
   "cell_type": "markdown",
   "metadata": {},
   "source": [
    "### Mocking up **Lambda** operators\n",
    "\n",
    "What if we wanted to represent an expression involving a `Lambda` function applied to operand(s).  We cannot do this using the `Lambda` and `Operation` expression types directly because an `Operation` is only allowed to have *variable* or *iterated indexed variables* as *operators*.   But it would not be consistent with the **Prove-It** philosophy of *freedom of expression* to completely disallow representing such an expression if so desired.  We can, in fact, represent such a thing in **Prove-It** by making an `Operation` class whose *operands* are the `Lambda` function as well as the operand on which we wish to apply the function. As a demonstration, we define such an `Operation`, called `LambdaApplication`, in <a href=\"demo_lambda_app_operation.py\">demo_lambda_app_operation.py</a>."
   ]
  },
  {
   "cell_type": "code",
   "execution_count": null,
   "metadata": {},
   "outputs": [],
   "source": [
    "# %load demo_lambda_app_operation\n",
    "'''\n",
    "Module that defines a LambdaApplication Operation\n",
    "class for demonstration purposes in this tutorial.\n",
    "'''\n",
    "\n",
    "from proveit import Operation, Literal, NamedExprs\n",
    "\n",
    "class LambdaApplication(Operation):\n",
    "    _operator_ = Literal('LAMBDA_APPLICATION', r'{\\rm LAMBDA\\_APPLICATION}')\n",
    "    \n",
    "    def __init__(self, lambda_fn, operand):\n",
    "        Operation.__init__(self, LambdaApplication._operator_, NamedExprs([('lambda_fn',lambda_fn), ('operand',operand)]))\n",
    "        self.lambda_fn = self.operands['lambda_fn'] # The Lambda function operand\n",
    "        self.lambda_operand = self.operands['operand'] # The operand of the Lambda function\n",
    "\n",
    "    @classmethod\n",
    "    def extract_init_arg_value(operation_class, arg_name, operator, operand):\n",
    "        '''\n",
    "        Given a name of one of the arguments of the __init__ method,\n",
    "        return the corresponding value as determined by the operator and\n",
    "        operand of the LambdaApplication Operation.\n",
    "        (This is important so that Prove-It knows how to 'make' an altered\n",
    "        copy of this Operation).\n",
    "        '''\n",
    "        assert isinstance(operand, NamedExprs), \"Expecting LambdaApplication operand to be a NamedExprs object\"\n",
    "        if arg_name=='lambda_fn': \n",
    "            return operand['lambda_fn']\n",
    "        elif arg_name=='operand':\n",
    "            return operand['operand']\n",
    "\n",
    "    def string(self, **kwargs): # should accept kwargs even when not used (e.g., 'fence')\n",
    "        return self.lambda_fn.string(fence=True) + '(' + self.lambda_operand.string() + ')'\n",
    "    \n",
    "    def latex(self, **kwargs): # should accept kwargs even when not used (e.g., 'fence')\n",
    "        return self.lambda_fn.latex(fence=True) + '(' + self.lambda_operand.latex() + ')'\n"
   ]
  },
  {
   "cell_type": "code",
   "execution_count": null,
   "metadata": {},
   "outputs": [],
   "source": [
    "from demo_lambda_app_operation import LambdaApplication"
   ]
  },
  {
   "cell_type": "code",
   "execution_count": null,
   "metadata": {},
   "outputs": [],
   "source": [
    "lambda_app_expr = LambdaApplication(Lambda(y, Factorial(y)), x)"
   ]
  },
  {
   "cell_type": "markdown",
   "metadata": {},
   "source": [
    "Note that the `_operator_` of the `LambdaApplication` is not displayed but is implicit in the theory of the lambda application formatting.  Also, we made use of `NamedExprs` which will be discussed next.  Let us take a look at the expression information."
   ]
  },
  {
   "cell_type": "code",
   "execution_count": null,
   "metadata": {},
   "outputs": [],
   "source": [
    "lambda_app_expr.expr_info(details=True)"
   ]
  },
  {
   "cell_type": "markdown",
   "metadata": {},
   "source": [
    "**Axioms** could then be created to define how the `LambdaApplication` **operation** actually operates, but **axioms** will be discussed in a later chapter."
   ]
  },
  {
   "cell_type": "markdown",
   "metadata": {},
   "source": [
    "NamedExprs\n",
    "=========\n",
    "\n",
    "`NamedExprs` is a composite **expression** that maps string keywords to sub-**expressions**.  The reason that this may be desired is to be explicit in the internal representation about the role of each sub-**expression** so there is no ambiguity between the internal and external representation.  A good example is the `lambda_app_expr` $[y \\mapsto y!](x)$ defined above, where one *operand* plays the role of the lambda function and the other *operand* plays the role of the lambda function's operand."
   ]
  },
  {
   "cell_type": "markdown",
   "metadata": {},
   "source": [
    "Here is a more rudimentary demonstration of using **NamedExpressions**:"
   ]
  },
  {
   "cell_type": "code",
   "execution_count": null,
   "metadata": {},
   "outputs": [],
   "source": [
    "from proveit import NamedExprs\n",
    "NamedExprs([('left',x), ('right',y), ('product',Multiply(x, y))])"
   ]
  },
  {
   "cell_type": "markdown",
   "metadata": {},
   "source": [
    "To produce a `NamedExprs` object, you must supply a list of (keyword, `Expression`) pairs.  The keywords must be strings, but can be any string desired.  When the **NamedExprs** is displayed, it will show each of these pairs in the order that they were originally provided."
   ]
  },
  {
   "cell_type": "markdown",
   "metadata": {},
   "source": [
    "ExprRange\n",
    "=========\n",
    "\n",
    "It is common in mathematical notation to use ellipses ($...$) in representing an unspecified number of parameters or operands.  The `ExprRange` expression type serves this purpose."
   ]
  },
  {
   "cell_type": "markdown",
   "metadata": {},
   "source": [
    "To create an `ExprRange`, supply a *parameter*, *body*, and *start* and *end* indices."
   ]
  },
  {
   "cell_type": "code",
   "execution_count": null,
   "metadata": {},
   "outputs": [],
   "source": [
    "from proveit import ExprRange\n",
    "from proveit import i, j, k\n",
    "from proveit.numbers import one, Add, frac\n",
    "it = ExprRange(k, frac(one, Add(x, k)), i, j)"
   ]
  },
  {
   "cell_type": "markdown",
   "metadata": {},
   "source": [
    "For compactness, we only show the start and the end instances.  It is implicit that our index parameter ($k$, which is not explicitly shown) is that our index ranges from $i$ to $j$ in increments of $1$.  (Future style options could be implemented, if desired, to make the representation more explicit at the expense of being less compact without changing any of the inner workings of the `Iter` expression type.)"
   ]
  },
  {
   "cell_type": "markdown",
   "metadata": {},
   "source": [
    "Looking at the expression information, we see that there are three sub-expression of the `Iter` object: the `lambda_map`, `start_index` and `end_index`."
   ]
  },
  {
   "cell_type": "code",
   "execution_count": null,
   "metadata": {},
   "outputs": [],
   "source": [
    "it.expr_info()"
   ]
  },
  {
   "cell_type": "markdown",
   "metadata": {},
   "source": [
    "The `lambda_map`, `start_index` and `end_index` attributes provides access to the sub-expression.  The `parameter` and `body` attributes provide convient access to some indirect sub-expressions (the sub-expressions of `lambda_map`)."
   ]
  },
  {
   "cell_type": "code",
   "execution_count": null,
   "metadata": {},
   "outputs": [],
   "source": [
    "it.lambda_map"
   ]
  },
  {
   "cell_type": "code",
   "execution_count": null,
   "metadata": {},
   "outputs": [],
   "source": [
    "it.parameter"
   ]
  },
  {
   "cell_type": "code",
   "execution_count": null,
   "metadata": {},
   "outputs": [],
   "source": [
    "it.body"
   ]
  },
  {
   "cell_type": "code",
   "execution_count": null,
   "metadata": {},
   "outputs": [],
   "source": [
    "it.start_index"
   ]
  },
  {
   "cell_type": "code",
   "execution_count": null,
   "metadata": {},
   "outputs": [],
   "source": [
    "it.end_index"
   ]
  },
  {
   "cell_type": "markdown",
   "metadata": {},
   "source": [
    "We have special formatting features when an `Iter` is used as *operands* of an `Operator`.  As stated previously, **Prove-It** is flexible in its formatting."
   ]
  },
  {
   "cell_type": "code",
   "execution_count": null,
   "metadata": {},
   "outputs": [],
   "source": [
    "add_it = Add(it)"
   ]
  },
  {
   "cell_type": "markdown",
   "metadata": {},
   "source": [
    "To really understand how **Prove-It** recognizes an expression, one must look at the expression information. "
   ]
  },
  {
   "cell_type": "code",
   "execution_count": null,
   "metadata": {},
   "outputs": [],
   "source": [
    "add_it.expr_info()"
   ]
  },
  {
   "cell_type": "markdown",
   "metadata": {},
   "source": [
    "IndexedVar\n",
    "=========\n",
    "\n",
    "To truly understand what can be done with `Iter` expressions, we must see how they can be used with `IndexedVar` expressions.  On its own, an `IndexedVar` if fairly straightforward.  An `IndexedVar` is effectively an `Operation` where the *operator* is the variable being indexed and the *operand* is the *index*, but it does have some special properties related to <a href=\"#IterParams\">iterated parameters</a> which justifies makin `IndexedVar` a core expression type."
   ]
  },
  {
   "cell_type": "code",
   "execution_count": null,
   "metadata": {},
   "outputs": [],
   "source": [
    "from proveit import IndexedVar\n",
    "a_i = IndexedVar(a, i)"
   ]
  },
  {
   "cell_type": "code",
   "execution_count": null,
   "metadata": {},
   "outputs": [],
   "source": [
    "a_i.expr_info()"
   ]
  },
  {
   "cell_type": "markdown",
   "metadata": {},
   "source": [
    "This \"operator\" must be a `Variable` or `IndexedVar`:"
   ]
  },
  {
   "cell_type": "code",
   "execution_count": null,
   "metadata": {},
   "outputs": [],
   "source": [
    "try:\n",
    "    IndexedVar(fx, i)\n",
    "    assert False, (\"Expecting a TypeError error; \"\n",
    "                   \"should not make it to this point\")\n",
    "except TypeError as e:\n",
    "    print(\"EXPECTED ERROR: \", e)"
   ]
  },
  {
   "cell_type": "markdown",
   "metadata": {},
   "source": [
    "And `IndexedVar` may have multiple indices:"
   ]
  },
  {
   "cell_type": "code",
   "execution_count": null,
   "metadata": {},
   "outputs": [],
   "source": [
    "a_ij = IndexedVar(a, (i, j))"
   ]
  },
  {
   "cell_type": "markdown",
   "metadata": {},
   "source": [
    "The real purpose of the `IndexedVar` expression type is to be used within an iteration.  So there is a convenient method called `var_range` for generating a range of indexed variables."
   ]
  },
  {
   "cell_type": "code",
   "execution_count": null,
   "metadata": {},
   "outputs": [],
   "source": [
    "from proveit import var_range\n",
    "a_i_to_j = var_range(a, i, j)"
   ]
  },
  {
   "cell_type": "markdown",
   "metadata": {},
   "source": [
    "### <a name=\"IterParams\"></a>Iterated parameters\n",
    "\n",
    "When a `Lambda` expression has iterated parameters, a parameter entry that is an `var_range` over `IndexedVar`s, the `apply` method offers some interesting versatility.  Consider the following example representing a map which distributes a product over a sum of an unspecified number of terms."
   ]
  },
  {
   "cell_type": "code",
   "execution_count": null,
   "metadata": {},
   "outputs": [],
   "source": [
    "a_k = IndexedVar(a, k)\n",
    "distribution_map = Lambda((a_i_to_j, b),\n",
    "                          Add(ExprRange(k, Mult(a_k, b), i, j)))"
   ]
  },
  {
   "cell_type": "markdown",
   "metadata": {},
   "source": [
    "We can apply a map which splits $a_i, ..., a_j$ into multiple entries.  In so doing, the `Iter` of the result is split in the same manner.  For example, consider the following substitution into $a_i, ..., a_j$:"
   ]
  },
  {
   "cell_type": "code",
   "execution_count": null,
   "metadata": {},
   "outputs": [],
   "source": [
    "from proveit import m, n\n",
    "x_1_to_m = var_range(x, one, m)\n",
    "y_1_to_n = var_range(y, one, n)\n",
    "a_sub = ExprTuple(x_1_to_m, y_1_to_n, z)"
   ]
  },
  {
   "cell_type": "markdown",
   "metadata": {},
   "source": [
    "But to allow this as a subtitution, we must prove (or assume) that the lengths of these `ExprTuple`s match (that the have the same number of elements).  We could prove this assuming $j-i+1 = m+n+1$, but for this demonstration we will simply assume what we directly require to be true."
   ]
  },
  {
   "cell_type": "code",
   "execution_count": null,
   "metadata": {},
   "outputs": [],
   "source": [
    "from proveit.core_expr_types import Len\n",
    "a_len = Len(ExprRange(k, k, i, j))\n",
    "a_required_len = Equals(Len(a_sub), a_len)"
   ]
  },
  {
   "cell_type": "markdown",
   "metadata": {},
   "source": [
    "Using `a_required_len` as an assumption, we can `apply`  `distribution_map` to the operands $(x_1, ..., x_m, y_1, ..., y_n, z)$ to obtain the following"
   ]
  },
  {
   "cell_type": "code",
   "execution_count": null,
   "metadata": {},
   "outputs": [],
   "source": [
    "requirements = []\n",
    "distribution_map.apply(*a_sub.entries, b, assumptions=[a_required_len],\n",
    "                      requirements=requirements)"
   ]
  },
  {
   "cell_type": "markdown",
   "metadata": {},
   "source": [
    "The `requirements` is appended with facts that were needed to make this happen.  Here, there is just one requirement which is the statement we assumed.  It is a **Judgment** proven by *assumption*; these concepts will be discussed in future chapters."
   ]
  },
  {
   "cell_type": "code",
   "execution_count": null,
   "metadata": {},
   "outputs": [],
   "source": [
    "ExprTuple(*requirements)"
   ]
  },
  {
   "cell_type": "markdown",
   "metadata": {},
   "source": [
    "Recall that the `apply` method is used in the implementation of <a href=\"#Operation_sub\">*operation substitution*</a>.  Iterated parameters can be used in that setting as well.  Furthermore, this code is used in *instantiation* of iterated parameters that are universally quantified which will be discussed in a later chapter."
   ]
  },
  {
   "cell_type": "markdown",
   "metadata": {},
   "source": [
    "We will remark here that there are limitations in this capability for the sake of simplicity.  We deal with multiple `IndexedVar`s in an iteration, but their subsitutions must be aligned.  For example,"
   ]
  },
  {
   "cell_type": "code",
   "execution_count": null,
   "metadata": {},
   "outputs": [],
   "source": [
    "b_k = IndexedVar(b, k)\n",
    "b_i_to_j = var_range(b, i, j)\n",
    "dot_prod_map = Lambda((a_i_to_j, b_i_to_j),\n",
    "                          Add(ExprRange(k, Mult(a_k, b_k), i, j)))"
   ]
  },
  {
   "cell_type": "code",
   "execution_count": null,
   "metadata": {},
   "outputs": [],
   "source": [
    "requirements = []\n",
    "dot_prod_map.apply(*a_sub.entries, *a_sub.entries, \n",
    "                   assumptions=[a_required_len], requirements=requirements)"
   ]
  },
  {
   "cell_type": "markdown",
   "metadata": {},
   "source": [
    "As long as the iteration ranges are aligned, we are okay"
   ]
  },
  {
   "cell_type": "code",
   "execution_count": null,
   "metadata": {},
   "outputs": [],
   "source": [
    "x_1_to_n = var_range(x, one, n)\n",
    "y_1_to_m = var_range(y, one, m)\n",
    "b_sub = ExprTuple(y_1_to_m, x_1_to_n, z)"
   ]
  },
  {
   "cell_type": "code",
   "execution_count": null,
   "metadata": {},
   "outputs": [],
   "source": [
    "b_required_len = Equals(Len(b_sub), a_len)"
   ]
  },
  {
   "cell_type": "code",
   "execution_count": null,
   "metadata": {},
   "outputs": [],
   "source": [
    "requirements = []\n",
    "dot_prod_map.apply(*a_sub.entries, *b_sub.entries,\n",
    "                   assumptions=[a_required_len, b_required_len],\n",
    "                   requirements=requirements)"
   ]
  },
  {
   "cell_type": "code",
   "execution_count": null,
   "metadata": {},
   "outputs": [],
   "source": [
    "ExprTuple(*requirements).with_wrapping_at(1)"
   ]
  },
  {
   "cell_type": "markdown",
   "metadata": {},
   "source": [
    "If the ranges are not aligned, this will fail"
   ]
  },
  {
   "cell_type": "code",
   "execution_count": null,
   "metadata": {},
   "outputs": [],
   "source": [
    "b_sub = ExprTuple(y_1_to_n, x_1_to_m, z)"
   ]
  },
  {
   "cell_type": "code",
   "execution_count": null,
   "metadata": {},
   "outputs": [],
   "source": [
    "b_required_len = Equals(Len(b_sub), a_len)"
   ]
  },
  {
   "cell_type": "code",
   "execution_count": null,
   "metadata": {},
   "outputs": [],
   "source": [
    "from proveit import LambdaApplicationError\n",
    "try:\n",
    "    dot_prod_map.apply(*a_sub.entries, *b_sub.entries, \n",
    "                       assumptions=[a_required_len, b_required_len],\n",
    "                       requirements=requirements)\n",
    "    assert False, \"Expecting a LambdaApplicationError error; should not make it to this point\"\n",
    "except LambdaApplicationError as e:\n",
    "    print(\"Expected LambdaApplicationError: %s\"%str(e))"
   ]
  },
  {
   "cell_type": "markdown",
   "metadata": {},
   "source": [
    "Such cases may still be handled, but the iterations must first be equated, via axioms/theorems, to split versions withcommon boundaries.  For example, given the following for the $a$ and $b$ substitutions"
   ]
  },
  {
   "cell_type": "code",
   "execution_count": null,
   "metadata": {},
   "outputs": [],
   "source": [
    "a_sub"
   ]
  },
  {
   "cell_type": "code",
   "execution_count": null,
   "metadata": {},
   "outputs": [],
   "source": [
    "b_sub"
   ]
  },
  {
   "cell_type": "markdown",
   "metadata": {},
   "source": [
    "If we know that $m$ and $n$ are natural numbers and $m \\leq n$, then we can split `a_sub` and `b_sub` respectively into"
   ]
  },
  {
   "cell_type": "code",
   "execution_count": null,
   "metadata": {},
   "outputs": [],
   "source": [
    "from proveit.numbers import subtract\n",
    "a_sub = ExprTuple(x_1_to_m, var_range(y, one, subtract(n, m)),\n",
    "                  ExprRange(k, IndexedVar(y, Add(subtract(n, m), k)),\n",
    "                            one, m), z)"
   ]
  },
  {
   "cell_type": "code",
   "execution_count": null,
   "metadata": {},
   "outputs": [],
   "source": [
    "b_sub = ExprTuple(y_1_to_m, \n",
    "                  ExprRange(k, IndexedVar(y, Add(m, k)), \n",
    "                            one, subtract(n, m)),\n",
    "                  x_1_to_m, z)"
   ]
  },
  {
   "cell_type": "markdown",
   "metadata": {},
   "source": [
    "Now the `ExpRange` start and end indices line up: $1$ to $m$, $1$ to $n-m$, and $1$ to $m$, and the last entry is a singular element for both of them.  Now we can apply the map:"
   ]
  },
  {
   "cell_type": "code",
   "execution_count": null,
   "metadata": {},
   "outputs": [],
   "source": [
    "a_required_len = Equals(Len(a_sub), a_len)\n",
    "b_required_len = Equals(Len(b_sub), a_len)\n",
    "dot_prod_map.apply(*a_sub.entries, *b_sub.entries, \n",
    "                   assumptions=[a_required_len, b_required_len],\n",
    "                   requirements=requirements)"
   ]
  },
  {
   "cell_type": "markdown",
   "metadata": {},
   "source": [
    "All of the variables that are indexed by the range parameter (which ranges from the start to the end) must be expanded together unless the indices of the expansion match with iteration indices, not just equal in length."
   ]
  },
  {
   "cell_type": "code",
   "execution_count": null,
   "metadata": {},
   "outputs": [],
   "source": [
    "b_k = IndexedVar(b, k)\n",
    "b_i_to_j = var_range(b, i, j)\n",
    "dot_prod_map = Lambda((a_i_to_j),\n",
    "                      Add(ExprRange(k, Mult(a_k, b_k), i, j)))"
   ]
  },
  {
   "cell_type": "code",
   "execution_count": null,
   "metadata": {},
   "outputs": [],
   "source": [
    "try:\n",
    "    dot_prod_map.apply(*a_sub.entries, assumptions=[a_required_len],\n",
    "                       requirements=requirements)\n",
    "    assert False, \"Expecting a LambdaApplicationError error; should not make it to this point\"\n",
    "except LambdaApplicationError as e:\n",
    "    print(\"Expected LambdaApplicationError: %s\"%str(e))"
   ]
  },
  {
   "cell_type": "markdown",
   "metadata": {},
   "source": [
    "Let's try an example where the indices do match.  This time, we'll do it properly by proving the equivalences via proofs.  (This is using some advanced concepts to be discussed in later chapters, but we'll probably rearrange this anyway)."
   ]
  },
  {
   "cell_type": "code",
   "execution_count": null,
   "metadata": {},
   "outputs": [],
   "source": [
    "from proveit.numbers import subtract, Natural\n",
    "j_m_1 = subtract(j, one)\n",
    "j_m_i = subtract(j, i)\n",
    "j_m_i__in__Natural = InSet(j_m_i, Natural)\n",
    "a_i_to_j__partition = \\\n",
    "    a_i_to_j.partition(j_m_1, [j_m_i__in__Natural])"
   ]
  },
  {
   "cell_type": "code",
   "execution_count": null,
   "metadata": {},
   "outputs": [],
   "source": [
    "a_i_to_j__partition.substitution(Lambda(x, Len(x)))"
   ]
  },
  {
   "cell_type": "code",
   "execution_count": null,
   "metadata": {},
   "outputs": [],
   "source": [
    "i_to_j = ExprRange(k, k, i, j)"
   ]
  },
  {
   "cell_type": "code",
   "execution_count": null,
   "metadata": {},
   "outputs": [],
   "source": [
    "i_to_j__partition = i_to_j.partition(j_m_1, [j_m_i__in__Natural])"
   ]
  },
  {
   "cell_type": "code",
   "execution_count": null,
   "metadata": {},
   "outputs": [],
   "source": [
    "i_to_j__partition.substitution(Lambda(x, Len(x)))"
   ]
  },
  {
   "cell_type": "code",
   "execution_count": null,
   "metadata": {},
   "outputs": [],
   "source": [
    "a_sub = a_i_to_j__partition.rhs"
   ]
  },
  {
   "cell_type": "markdown",
   "metadata": {},
   "source": [
    "Now, with sufficient assumptions, we can explicitly do the expansion for just the $a$ variable, but the $b$ variable will be forced to split at the same locations."
   ]
  },
  {
   "cell_type": "code",
   "execution_count": null,
   "metadata": {},
   "outputs": [],
   "source": [
    "a_required_len = Equals(Len(a_sub), a_len)\n",
    "assumptions = [a_required_len, InSet(j, Natural), j_m_i__in__Natural]"
   ]
  },
  {
   "cell_type": "code",
   "execution_count": null,
   "metadata": {},
   "outputs": [],
   "source": [
    "requirements = []\n",
    "dot_prod_map.apply(*a_sub.entries, assumptions=assumptions, requirements=requirements)"
   ]
  },
  {
   "cell_type": "markdown",
   "metadata": {},
   "source": [
    "Note that we now have the extra requirement that the indices match, not just the lengths."
   ]
  },
  {
   "cell_type": "code",
   "execution_count": null,
   "metadata": {},
   "outputs": [],
   "source": [
    "ExprTuple(*requirements).with_wrapping_at(1)"
   ]
  },
  {
   "cell_type": "markdown",
   "metadata": {},
   "source": [
    "If the iteration parameter occurs anywhere other than as an index of an indexed variable, this will also spur the need for the requirement that the indices match and not just the lengths.  For example, consider"
   ]
  },
  {
   "cell_type": "code",
   "execution_count": null,
   "metadata": {},
   "outputs": [],
   "source": [
    "dot_prod_and_more_map = Lambda((a_i_to_j, b_i_to_j),\n",
    "                               Add(ExprRange(k, Mult(a_k, b_k, k),\n",
    "                                             i, j)))"
   ]
  },
  {
   "cell_type": "markdown",
   "metadata": {},
   "source": [
    "We cannot handle the following substitution because the indices do not match with the original iteration indices."
   ]
  },
  {
   "cell_type": "code",
   "execution_count": null,
   "metadata": {},
   "outputs": [],
   "source": [
    "a_sub, b_sub = (ExprTuple(x_1_to_m, y_1_to_n, z),\n",
    "                ExprTuple(y_1_to_m, x_1_to_n, z))"
   ]
  },
  {
   "cell_type": "code",
   "execution_count": null,
   "metadata": {},
   "outputs": [],
   "source": [
    "try:\n",
    "    a_required_len = Equals(Len(a_sub), a_len)\n",
    "    b_required_len = Equals(Len(b_sub), a_len)\n",
    "    dot_prod_and_more_map.apply(*a_sub.entries, *b_sub.entries, \n",
    "                                assumptions=[a_required_len,\n",
    "                                             b_required_len],\n",
    "                                requirements=requirements)\n",
    "    assert False, \"Expecting a LambdaApplicationError error; should not make it to this point\"\n",
    "except LambdaApplicationError as e:\n",
    "    print(\"Expected LambdaApplicationError: %s\"%str(e))"
   ]
  },
  {
   "cell_type": "markdown",
   "metadata": {},
   "source": [
    "But if we ensure that indices match up, we can do the expansion as we saw before.  Let's try this for a slightly modified map in which the Lambda parameters only covers the $a$ variables. "
   ]
  },
  {
   "cell_type": "code",
   "execution_count": null,
   "metadata": {},
   "outputs": [],
   "source": [
    "dot_prod_and_more_amap = Lambda((a_i_to_j),\n",
    "                                Add(ExprRange(k, Mult(a_k, b_k, k), \n",
    "                                              i, j)))"
   ]
  },
  {
   "cell_type": "code",
   "execution_count": null,
   "metadata": {},
   "outputs": [],
   "source": [
    "a_sub = a_i_to_j__partition.rhs"
   ]
  },
  {
   "cell_type": "code",
   "execution_count": null,
   "metadata": {},
   "outputs": [],
   "source": [
    "a_required_len = Equals(Len(a_sub), a_len)\n",
    "b_required_len = Equals(Len(b_sub), a_len)\n",
    "assumptions = [a_required_len, b_required_len, InSet(j, Natural), j_m_i__in__Natural]"
   ]
  },
  {
   "cell_type": "code",
   "execution_count": null,
   "metadata": {},
   "outputs": [],
   "source": [
    "requirements = []\n",
    "dot_prod_and_more_amap.apply(*a_sub.entries, assumptions=assumptions, requirements=requirements)"
   ]
  },
  {
   "cell_type": "markdown",
   "metadata": {},
   "source": [
    "Again, we have the extra requirement that the indices match, not just the lengths."
   ]
  },
  {
   "cell_type": "code",
   "execution_count": null,
   "metadata": {},
   "outputs": [],
   "source": [
    "ExprTuple(*requirements).with_wrapping_at(1)"
   ]
  },
  {
   "cell_type": "code",
   "execution_count": null,
   "metadata": {},
   "outputs": [],
   "source": [
    "%end basic_expressions"
   ]
  },
  {
   "cell_type": "markdown",
   "metadata": {},
   "source": [
    "# Next chapter: <a class=\"ProveItLink\" href=\"tutorial02_proof_basics.ipynb\">Proof Basics</a>\n",
    "\n",
    "## <a class=\"ProveItLink\" href=\"tutorial00_introduction.ipynb#contents\">Table of Contents</a>"
   ]
  },
  {
   "cell_type": "code",
   "execution_count": null,
   "metadata": {},
   "outputs": [],
   "source": []
  }
 ],
 "metadata": {
  "kernelspec": {
   "display_name": "Python 3",
   "language": "python",
   "name": "python3"
  }
 },
 "nbformat": 4,
 "nbformat_minor": 0
}
