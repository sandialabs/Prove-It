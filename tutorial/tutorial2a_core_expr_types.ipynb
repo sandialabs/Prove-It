{
 "cells": [
  {
   "cell_type": "markdown",
   "metadata": {},
   "source": [
    "Chapter 2.a. Core Expression Types\n",
    "=======\n",
    "\n",
    "Expressions in **Prove-It** are fundamental and versatile.  In order to prove some statement to be true, you must be able to express the statement that you want to prove, and express each axiom and each theorem that is used to construct the proof as well as intermediate judgments along the way.  \n",
    "**Expressions** form the basis for **judgments** that are used in the derivation steps of a **proof** and will be discussed later.\n",
    "An expression is a tree-like data structure (technically a directed acyclic graph, DAG, since there may be multiple instances of the same sub-expression).  As a Python object, its base class is `proveit._core_.expression.expr.Expression` (also aliased as `proveit.Expression` via \"`from ... import ...`\" Python statements within `__init__.py` files):"
   ]
  },
  {
   "cell_type": "code",
   "execution_count": 1,
   "metadata": {},
   "outputs": [
    {
     "data": {
      "text/plain": [
       "proveit._core_.expression.expr.Expression"
      ]
     },
     "execution_count": 1,
     "metadata": {},
     "output_type": "execute_result"
    }
   ],
   "source": [
    "from proveit import Expression\n",
    "%begin basic_expressions\n",
    "Expression"
   ]
  },
  {
   "cell_type": "markdown",
   "metadata": {},
   "source": [
    "Each `Expression` object has a class that is derived one of the \"primitive\" `Expression` classes listed below (each of which is derived from `proveit._core_.expression.expr.Expression`).  These \"primitive\" types of expressions, in the order that we discuss them below, are:\n",
    "* <a href=\"#Variable\">`Variable`</a>: A label that is interchangeable (as long as it is kept distinct from different labels) with no intrinsic meaning.  It is often represented by a single letter ($a$, $b$, $x$, $y$, etc.) but can have any representation.\n",
    "* <a href=\"#Literal\">`Literal`</a>: A label that is not interchangeable and has an intrinsic meaning.  Specific operators ($\\lnot, \\land, +, \\times$, etc.) and specific irreducible values ($\\top, \\bot, 0, 5$, etc.) are all `Literal`s.  Furthermore, a problem-story `Variable` in a particular theory package, representing some unknown but particular value, should also be a `Literal` (e.g., \"Ann has $a$ apples...\").\n",
    "* <a href=\"#ExprTuple\">`ExprTuple`</a>: A list of `Expression`s that is used, for example, when there are multiple *operators* or *operands* of an `Operation`, or multiple *parameters* of a `Lambda`.\n",
    "* <a href=\"#Operation\">`Operation`</a>: The application of *operator(s)* on *operand(s)*.  For example, $0 + 5 + 8$ and $1 < a \\leq b < 3$ are examples of *operation* expressions.  The **Prove-It** library defines many *types* derived from the *operation* type (e.g., for each specific operation), but all *operations* have the same behavior with respect to reduction rules that will be described in a later tutorial.\n",
    "* <a href=\"#Conditional\">`Conditional`</a>: An expression that has one *condition* and one *value*.  The **Conditional** is reducible to its *value* if and only if the *value* is true.  For example $\\{P(x) \\textrm{ if } Q(x).$ reduces to $P(x)$ if $Q(x)$ is true.  Otherwise, the **Conditional** is not defined (i.e., it is not reducible).\n",
    "* <a href=\"#Lambda\">`Lambda`</a>: A mapping defined by *parameter* `Variable`s (and/or *iterations* of *indexed variables* described below with the `Iter` and `IndexedVar` core classes) transforming to some *body* `Expression`.  For example, $(x, y, z) \\mapsto \\{x+y/z~|~(x \\in \\mathbb{R}) \\land (y \\in \\mathbb{R}) \\land (z \\in \\mathbb{R}) \\land (z \\neq 0)\\}$ is a `Lambda` with a `Conditional` *body* that converts three real numbers $x, y, z$ to $x + y/z$ as long as $z$ is not zero.  Note that a `Lambda` introduces `Variables` into a new scope via the *parameters*.  These *parameter* `Variable`s are said to be *bound* in this new scope; occurrences outside this scope are not deemed to be the same thing. There is a special category of `Operation` types called `OperationOverInstances` that are essentially functionals acting on a `Lambda` operand.  $\\forall$, $\\exists$, $\\sum$, and $\\prod$ are examples of `OperationOverInstances`.  For example, $\\forall_{x~|~Q(x)} P(x)$ is an expression that translates to \"$P(x)$ is true for all values of $x$ for which $Q(x)$ is also true\".  Internally, this is represented as an $\\forall$ operator acting on the `Lambda` map with a `Conditional` *body*: $x \\mapsto \\{P(x)~|~Q(x)\\}$.\n",
    "* <a href=\"#NamedExprs\">`NamedExprs`</a>: A mapping from keyword strings to `Expression`s.  This can be used to prevent ambiguity of an expression's internal representation.\n",
    "* <a href=\"#ExprRange\">`ExprRange`</a>: Represents a range of expressions with a *parameter* going from a *start* index to an *end* index in successive unit increments ($+1$).  It contains a `Lambda` to define each expression in the range as a function of the *parameter* value (the index).\n",
    "For example, $1/(x+i) + ... + 1/(x+j)$ is essentially an `Operation` with `+` as the *operator* and an `ExprRange` as the *operand*.  This `ExprRange` in this case is $1/(x+i), ..., 1/(x+j)$.  The sub-expression of this `ExprRange` may be denoted as $k \\mapsto \\{1/(x+k)~|~k \\in i .. j\\}$ where $k$ is an arbitrary `Lambda` *parameter* and $i .. j$ denotes an integer interval. \n",
    "* <a href=\"#IndexedVar\">`IndexedVar`</a>: A special kind of `Operation` that indexes a `Variable`.  It treats the `Variable` being indexed as the *operator* and the *index* as the *operand*.  For example: $a_1$, $x_i$, $x_{i+1}$, etc.  An *iteration* if *indexed* *variables* acts as a collection of labels, however.  For example: $a_1, ..., a_n$ is a collection of $n$ labels and can be used as *parameters* of a `Lambda` map and has special substitution rules in which an `Iter` may be expanded to multiple entries within an `ExprTuple`.\n",
    "\n",
    "These \"primitive\" types are special for the following reason.  In order to automatically or manually verify the correctness of a proof in **Prove-It**, one is only required to know the primitive base class of the expressions in the expression DAGs involved in the proof.  The way that the expression is to be formatted may be defined by the derived class, but this is a dressing which is not actually verified by **Prove-It** in any way.  For this reason, in order to really understand the axioms that were used in a proof, or understand what was actually proven, one must view the full expression DAG and understand its structure with respect to the primitive types."
   ]
  },
  {
   "cell_type": "markdown",
   "metadata": {},
   "source": [
    "Other classes are derived from these primitives for the purpose of defining specific ways of formatting the expression (as a string or as $\\LaTeX$) and to provide methods for convenience and automation for manipulating expressions of that specific type.  The most common \"primitive\" type used as a base class is the `Operation`; there are a wide variety of kinds of operations (logical operations such as $\\land$, $\\lor$, $\\lnot$, etc.; the $\\forall$ and $\\exists$ quantifiers, number operations such as $+$, $-$, etc.).  Each one of these has its own methods that are convenient for applying axioms and theorems specific to the operation."
   ]
  },
  {
   "cell_type": "markdown",
   "metadata": {},
   "source": [
    "A few non-privitive expression casses are define in the core (`proveit._core_`) for organizational purposes.  These are:\n",
    "* <a href=\"#Function\">`Function`</a>: An `Operation` that uses function-style formatting by default.  For example, $f(x)$, $P(x, y)$, etc.  Beyond formatting, these are no different than `Operation` types.\n",
    "* <a href=\"#OperationOverInstances\">`OperationOverInstances`</a>: An `Operation` whose operand is a `Lambda` expression.  Often, these `Lambda` expression has a `Conditional` body.  The idea is that it operates over the domain of instances of the `Lambda` parameter variables for the the *condition* of the `Conditional` is satisfied.  Quantifiers are `OperationOverInstances`.  $\\forall_{x, y~|~Q(x, y)} P(x, y)$ is internally represented by Prove-It as an operation of the $\\forall$ operator acting on $(x, y) \\mapsto \\left\\{P(x, y) \\textrm{ if } Q(x, y)\\right.$.  $\\sum_{k = 1}^{N} f(x)$ is internally represented by Prove-It as an operation of the $\\sum$ operator acting on $k \\mapsto \\left\\{f(x) \\textrm{ if } k \\in 1 .. N\\right.$.\n",
    "* <a href=\"#ConditionalSet\">`ConditionalSet`</a>: An expression that has one or more *conditions* with associated *values*.  For example, consider this definition for the absolute value of an integer: $\\{x~\\textrm{ if }~x \\geq 0; -x~\\textrm{ if }~x < 0.$ A *value* is only pertinent if its associated *condition* is satisfied (a **judgment**).  Via axioms, a `Conditional` equates to one of its *values* if its associated *condition* is proven the be true and all of its other *conditions* are proven to false.  With respect to substitution rules, the substitution of a *value* may utilize the fact that its *condition* must be satisfied in order to be pertinent, and therefore its *condition* may be assumed within the theory of performing substution for the *value*."
   ]
  },
  {
   "cell_type": "markdown",
   "metadata": {},
   "source": [
    "Developers and users may derive new classes from core `Expression` classes (`Literal` and `Operation` classes in order to make their own `Expression` classes that have special formatting rules for displaying the **expression** and methods for manipulating and utilizing the expression (i.e., applying theorems or axioms as will be discussed in later tutorial chapters).  Ideally, the formatting should be in direct correspondence with the structure of the `Expression` as a true reflection of the internal representation, but there is no enforcement mechanism to ensure that this is the case.  Users are advised to inspect the fully explicit expression DAGs of important axioms and theorems (or rely on crowdsource checking).  Conveniently, clicking on any **expression** rendered as LaTeX will link to a notebook that, when executed, will reveal this internal structure.  (Alternatively, the `expr_info()` method may be called).\n",
    "\n",
    "The remainder of this tutorial chapter will show examples and discuss details of the different core `Expression` classes and discuss their distinct behaviors with respect to *substitution* as well as *meaning* versus *style* equivalence.\n",
    "\n",
    "The following are related but distinct manipulations in **Prove-It**:\n",
    "* *Expression substutition*: creating a new **expression** from an existing **expression** by swapping one or more sub-expression(s) for other sub-expression(s) by using the `substituted` method.  This creates a new `Expression` but has nothing to do, intrinsically, with proving statements.\n",
    "* *Instantiation* derivation step: deriving a new **judgment** from an existing **judgment** via *expression substitution* using specific rules and limitations to ensure that the derivation is sound.  This will be discussed in a later tutorial chapter.\n",
    "* *Equality substitution*: using the `substitution` axiom of `proveit.logic.equality` to prove that $f(x) = f(y)$ given $x = y$.  This uses *instantiation* of the `substitution` axiom which states $\\forall_{f, x, y~|~x=y}~(f(x) = f(y))$.  This specifically involves statements (**judgments**) with the `proveit.logic.equality.equals._operator_` **Literal** (the `=` sign). This will be discussed in a later tutorial chapter.\n",
    "\n",
    "The focus here will be *expression substitution* with some mention of the additional restrictions applicable to the *instantiation* derivation step before delving into more details in later chapters.  It is important to understand the distinctions among these types of manipulations."
   ]
  },
  {
   "cell_type": "markdown",
   "metadata": {},
   "source": [
    "<a name=\"#Label\"></a>Labels (Variables, IndexedVars, and Literals)\n",
    "================================"
   ]
  },
  {
   "cell_type": "code",
   "execution_count": 2,
   "metadata": {},
   "outputs": [],
   "source": [
    "from proveit import Label"
   ]
  },
  {
   "cell_type": "markdown",
   "metadata": {},
   "source": [
    "The `Variable` and `Literal` classes both derive from `Label`.  A `Label` is created with a string and a LaTeX format specification to determine how it is displayed.  In a Jupyter notebook, the LaTeX is rendered and presented in the output:"
   ]
  },
  {
   "cell_type": "code",
   "execution_count": 3,
   "metadata": {},
   "outputs": [
    {
     "data": {
      "text/html": [
       "<strong id=\"tri\">tri:</strong> <a class=\"ProveItLink\" href=\"__pv_it/basic_expressions/77ed660a54bc8367bd0290e5a90e45181cdd42300/expr.ipynb\"><img src=\"data:image/png;base64,iVBORw0KGgoAAAANSUhEUgAAABEAAAAPBAMAAADwnzkiAAAAMFBMVEX///8AAAAAAAAAAAAAAAAA\n",
       "AAAAAAAAAAAAAAAAAAAAAAAAAAAAAAAAAAAAAAAAAAAv3aB7AAAAD3RSTlMARKvNMlSZIt0QZnaJ\n",
       "u+8QfENmAAAACXBIWXMAAA7EAAAOxAGVKw4bAAAAYUlEQVQI12NgYGBgVGCAAmYTGCusGMbqZBKA\n",
       "MLg2cBpAWBwMDKcgLCA1A8zgbGBg4N4AYrEFAIkGEAtsxBoQoQjWNYGBgf0CiMWawMDA6wDWZ87A\n",
       "4AQxSoiBQa8DDPonAABG2A9nq7pHhAAAAABJRU5ErkJggg==\n",
       "\" style=\"display:inline;vertical-align:middle;\" /></a><br>"
      ],
      "text/plain": [
       "<IPython.core.display.HTML object>"
      ]
     },
     "metadata": {},
     "output_type": "display_data"
    }
   ],
   "source": [
    "tri = Label(string_format='triangle', latex_format=r'\\triangle')"
   ]
  },
  {
   "cell_type": "markdown",
   "metadata": {},
   "source": [
    "After importing anything from `proveit` in a Jupyter notebook, whenever assignments are made at the end of an input cell the output shows the name of the assigned Python variable (not to be confused with a **Prove-It** *Variable*) followed by ':' and its rendered value.  In the above input, we have assigned `tri` to a `Label` object we have created which renders as a triangle shape.  For convenience, this Python variable name and shape appear in the output without any additional code.  The string format is presented when the object is converted to a string and is a useful alternate representation (used, for example, in error messages that are displayed as strings)."
   ]
  },
  {
   "cell_type": "code",
   "execution_count": 4,
   "metadata": {},
   "outputs": [
    {
     "data": {
      "text/plain": [
       "'triangle'"
      ]
     },
     "metadata": {},
     "output_type": "display_data"
    }
   ],
   "source": [
    "str(tri)"
   ]
  },
  {
   "cell_type": "markdown",
   "metadata": {},
   "source": [
    "The breakdown of an **expression** into its DAG structure is displayed by calling `expr_info()`.  Clicking on the **expression** is also a way to view this information, linking to a page that shows a canonical way to build the **expression** and calling `expr_info()` on that built **expression**.  Here we see that the `tri` is a `Label` with no sub-expressions."
   ]
  },
  {
   "cell_type": "code",
   "execution_count": 5,
   "metadata": {},
   "outputs": [
    {
     "data": {
      "text/html": [
       "<table><tr><th>&nbsp;</th><th>core type</th><th>sub-expressions</th><th>expression</th></tr>\n",
       "<tr><td>0</td><td>Label</td><td></td><td><a class=\"ProveItLink\" href=\"__pv_it/basic_expressions/77ed660a54bc8367bd0290e5a90e45181cdd42300/expr.ipynb\"><img src=\"data:image/png;base64,iVBORw0KGgoAAAANSUhEUgAAABEAAAAPBAMAAADwnzkiAAAAMFBMVEX///8AAAAAAAAAAAAAAAAA\n",
       "AAAAAAAAAAAAAAAAAAAAAAAAAAAAAAAAAAAAAAAAAAAv3aB7AAAAD3RSTlMARKvNMlSZIt0QZnaJ\n",
       "u+8QfENmAAAACXBIWXMAAA7EAAAOxAGVKw4bAAAAYUlEQVQI12NgYGBgVGCAAmYTGCusGMbqZBKA\n",
       "MLg2cBpAWBwMDKcgLCA1A8zgbGBg4N4AYrEFAIkGEAtsxBoQoQjWNYGBgf0CiMWawMDA6wDWZ87A\n",
       "4AQxSoiBQa8DDPonAABG2A9nq7pHhAAAAABJRU5ErkJggg==\n",
       "\" style=\"display:inline;vertical-align:middle;\" /></a></td></tr>\n",
       "</table>\n"
      ],
      "text/plain": [
       "0. triangle\n",
       "   core type: Label\n",
       "   sub-expressions: "
      ]
     },
     "metadata": {},
     "output_type": "display_data"
    }
   ],
   "source": [
    "tri.expr_info() # the expressions and sub-expressions are numbered with the top level being zero."
   ]
  },
  {
   "cell_type": "markdown",
   "metadata": {},
   "source": [
    "`Label` was not one of the core **expression** types listed above because it is not intended to be used except as the base class of `Variable`, `IndexedVar`, and `Literal`.  Notwithstanding, `Label` is displayed as the core type.\n",
    "Two Label's are regarded to be the same expression if and only if the class and both formats (string and LaTeX), are the same:"
   ]
  },
  {
   "cell_type": "code",
   "execution_count": 6,
   "metadata": {},
   "outputs": [],
   "source": [
    "assert tri == Label('triangle', r'\\triangle') # equal b/c class (Label) is the same and\n",
    "                                              # the string and LaTex formats are the same\n",
    "    \n",
    "assert tri != Label('tri', r'\\triangle')      # not equal when class or either format is different\n",
    "                                              # Class for both is Label, but string format different"
   ]
  },
  {
   "cell_type": "markdown",
   "metadata": {},
   "source": [
    "Let's make another label to test out `substituted()` method."
   ]
  },
  {
   "cell_type": "code",
   "execution_count": 7,
   "metadata": {},
   "outputs": [
    {
     "data": {
      "text/html": [
       "<strong id=\"sq\">sq:</strong> <a class=\"ProveItLink\" href=\"__pv_it/basic_expressions/120e8ba2e79768620cddc5f36c8ac068d4af9c3a0/expr.ipynb\"><img src=\"data:image/png;base64,iVBORw0KGgoAAAANSUhEUgAAAA4AAAAOAgMAAABiJsVCAAAADFBMVEX///8AAAAAAAAAAAD4jAJN\n",
       "AAAAA3RSTlMAzd18QMO0AAAACXBIWXMAAA7EAAAOxAGVKw4bAAAAFklEQVQI12PIWrVqAUMDA4MC\n",
       "uQTIAACypww9oW7VUAAAAABJRU5ErkJggg==\n",
       "\" style=\"display:inline;vertical-align:middle;\" /></a><br>"
      ],
      "text/plain": [
       "<IPython.core.display.HTML object>"
      ]
     },
     "metadata": {},
     "output_type": "display_data"
    }
   ],
   "source": [
    "sq =  Label(string_format='square', latex_format=r'\\Box')"
   ]
  },
  {
   "cell_type": "markdown",
   "metadata": {},
   "source": [
    "Using *expression substitution*, we can change one `Label` into another or into any other `Expression`.  Later we'll see that *instantiation* is more restrictive, only being applicable to `Variable`s and not any `Label`, but for *expression substitution* this is fine."
   ]
  },
  {
   "cell_type": "code",
   "execution_count": 8,
   "metadata": {},
   "outputs": [
    {
     "data": {
      "text/html": [
       "<a class=\"ProveItLink\" href=\"__pv_it/basic_expressions/120e8ba2e79768620cddc5f36c8ac068d4af9c3a0/expr.ipynb\"><img src=\"data:image/png;base64,iVBORw0KGgoAAAANSUhEUgAAAA4AAAAOAgMAAABiJsVCAAAADFBMVEX///8AAAAAAAAAAAD4jAJN\n",
       "AAAAA3RSTlMAzd18QMO0AAAACXBIWXMAAA7EAAAOxAGVKw4bAAAAFklEQVQI12PIWrVqAUMDA4MC\n",
       "uQTIAACypww9oW7VUAAAAABJRU5ErkJggg==\n",
       "\" style=\"display:inline;vertical-align:middle;\" /></a>"
      ],
      "text/plain": [
       "square"
      ]
     },
     "metadata": {},
     "output_type": "display_data"
    }
   ],
   "source": [
    "tri.basic_replaced({tri:sq})"
   ]
  },
  {
   "cell_type": "markdown",
   "metadata": {},
   "source": [
    "Notice that the `basic_replaced()` method is non-mutating, leaving the tri `Label` as it was originally defined:"
   ]
  },
  {
   "cell_type": "code",
   "execution_count": 9,
   "metadata": {},
   "outputs": [
    {
     "data": {
      "text/html": [
       "<a class=\"ProveItLink\" href=\"__pv_it/basic_expressions/77ed660a54bc8367bd0290e5a90e45181cdd42300/expr.ipynb\"><img src=\"data:image/png;base64,iVBORw0KGgoAAAANSUhEUgAAABEAAAAPBAMAAADwnzkiAAAAMFBMVEX///8AAAAAAAAAAAAAAAAA\n",
       "AAAAAAAAAAAAAAAAAAAAAAAAAAAAAAAAAAAAAAAAAAAv3aB7AAAAD3RSTlMARKvNMlSZIt0QZnaJ\n",
       "u+8QfENmAAAACXBIWXMAAA7EAAAOxAGVKw4bAAAAYUlEQVQI12NgYGBgVGCAAmYTGCusGMbqZBKA\n",
       "MLg2cBpAWBwMDKcgLCA1A8zgbGBg4N4AYrEFAIkGEAtsxBoQoQjWNYGBgf0CiMWawMDA6wDWZ87A\n",
       "4AQxSoiBQa8DDPonAABG2A9nq7pHhAAAAABJRU5ErkJggg==\n",
       "\" style=\"display:inline;vertical-align:middle;\" /></a>"
      ],
      "text/plain": [
       "triangle"
      ]
     },
     "metadata": {},
     "output_type": "display_data"
    }
   ],
   "source": [
    "tri"
   ]
  },
  {
   "cell_type": "markdown",
   "metadata": {},
   "source": [
    "<a href=\"#Variable\"></a>Variable\n",
    "===========\n",
    "A `Variable` is an interchangeable <a href=\"#Label\">Label</a> with no formal, contextual meaning."
   ]
  },
  {
   "cell_type": "code",
   "execution_count": 10,
   "metadata": {},
   "outputs": [
    {
     "data": {
      "text/html": [
       "<strong id=\"x\">x:</strong> <a class=\"ProveItLink\" href=\"__pv_it/basic_expressions/a0d9d672aa5e272d907247690c152cc2c6daafb70/expr.ipynb\"><img src=\"data:image/png;base64,iVBORw0KGgoAAAANSUhEUgAAAAsAAAAJBAMAAAAWSsseAAAAMFBMVEX///8AAAAAAAAAAAAAAAAA\n",
       "AAAAAAAAAAAAAAAAAAAAAAAAAAAAAAAAAAAAAAAAAAAv3aB7AAAAD3RSTlMAEHarMolUmd1mIs3v\n",
       "RLtmgJDEAAAACXBIWXMAAA7EAAAOxAGVKw4bAAAAQklEQVQI12NgEFIWCU1gYChgMmJvYOBcwPmR\n",
       "eQIDCwP7BgYQ4FEAU/cXMAowyF2wYWBlYMh3rGG4xsAgrsRWmcAAAFEjCyBvD0T9AAAAAElFTkSu\n",
       "QmCC\n",
       "\" style=\"display:inline;vertical-align:middle;\" /></a><br>"
      ],
      "text/plain": [
       "<IPython.core.display.HTML object>"
      ]
     },
     "metadata": {},
     "output_type": "display_data"
    }
   ],
   "source": [
    "from proveit import Variable\n",
    "x = Variable('x')  # the string and latex formats\n",
    "                   # are the same by default"
   ]
  },
  {
   "cell_type": "code",
   "execution_count": 11,
   "metadata": {},
   "outputs": [
    {
     "data": {
      "text/html": [
       "<strong id=\"omega\">omega:</strong> <a class=\"ProveItLink\" href=\"__pv_it/basic_expressions/2e5b33f8f44527195a10b6078888697e89a14e8e0/expr.ipynb\"><img src=\"data:image/png;base64,iVBORw0KGgoAAAANSUhEUgAAAA0AAAAJBAMAAAAbVLtZAAAAMFBMVEX///8AAAAAAAAAAAAAAAAA\n",
       "AAAAAAAAAAAAAAAAAAAAAAAAAAAAAAAAAAAAAAAAAAAv3aB7AAAAD3RSTlMAmSLdMlR2iWZEELur\n",
       "ze8/xV5QAAAACXBIWXMAAA7EAAAOxAGVKw4bAAAATklEQVQI12NgEGBgYFB2YGANANL6CQyMQIqB\n",
       "vYFhJgPXBgYOBYYCBs4DDOwMDAcY2AIY1BkYtjD4C3BdYmCoq3nyW66BgWH1X4W+ZwwMAGWFDnrb\n",
       "bYx6AAAAAElFTkSuQmCC\n",
       "\" style=\"display:inline;vertical-align:middle;\" /></a><br>"
      ],
      "text/plain": [
       "<IPython.core.display.HTML object>"
      ]
     },
     "metadata": {},
     "output_type": "display_data"
    }
   ],
   "source": [
    "# different string and latex formats:\n",
    "omega = Variable(string_format='omega', latex_format=r'\\omega') "
   ]
  },
  {
   "cell_type": "markdown",
   "metadata": {},
   "source": [
    "Convenient `Variable`s and other `Expression`s are accessible from the main `proveit` theory package\n",
    "as defined in <a class=\"ProveItLink\" href=\"../packages/proveit/_theory_nbs_/common.ipynb\">proveit.\\_theory\\_nbs\\_/common.ipynb</a>."
   ]
  },
  {
   "cell_type": "code",
   "execution_count": 12,
   "metadata": {},
   "outputs": [],
   "source": [
    "from proveit import a, b, c, x, y, z, alpha"
   ]
  },
  {
   "cell_type": "code",
   "execution_count": 13,
   "metadata": {},
   "outputs": [
    {
     "data": {
      "text/html": [
       "<a class=\"ProveItLink\" href=\"__pv_it/basic_expressions/a053e89019370ec7ba1eaa6eac2321cd623c5e100/expr.ipynb\"><img src=\"data:image/png;base64,iVBORw0KGgoAAAANSUhEUgAAAI8AAAAVBAMAAACNsKCFAAAAMFBMVEX///8AAAAAAAAAAAAAAAAA\n",
       "AAAAAAAAAAAAAAAAAAAAAAAAAAAAAAAAAAAAAAAAAAAv3aB7AAAAD3RSTlMAInZUiRDNmWbv3US7\n",
       "qzJazP2FAAAACXBIWXMAAA7EAAAOxAGVKw4bAAACP0lEQVQ4y6WUTWjUQBTH/9kkzX5kPxAEKQjp\n",
       "onhSFqxKb6FWsYW2QVAvlt2LIIhQRBapyqb1oCcb14ugh0IRoafFW0+7LYUiIixaxYOHgJ48VaHF\n",
       "U/HNvKTJtrfsHnZ++c/7mHnzZgCU0PdPhkhV+g/0XvwNxwT9w1KiQCmXfGtxZWA22ZJuAYYbF4oJ\n",
       "9/kUyPQIbSdZoIyD8z3CRMJqD7i4T4OyNWSxcLf8JZjSys+5/uWvvy4ynXIxw5OFFf9YYDc26Qvr\n",
       "Lm7TsFoyd9h216lyWynLeCTBwGlrjkOrHhbZ+/qJjS7TYEt/oVSQrmGZ3F/B4GNXd5DhtWVtNCXM\n",
       "Y9H5LuknGf1g96PQgmKS0WbKAeV4TUm3hZ9MX0ORqRFW3Uc9IIdyNMOGu8QjuaKu0V63RaBMB9VW\n",
       "uI42N8CbqJDN6EgLewEeCU+rA4xT0Jwntla1wr1TG/FS9L/7cXJ/cI2pjpQXaC54xeSKaUqtLmGd\n",
       "vir4ppZ0EcinegnAP7IWxvrHvAebtU8wu0xnAaYiBRqnMd3BJGBa6jsDVboredeclSCObErfpVR7\n",
       "N7xchbXHaLuSChvrE74ko4N0o0Cjjd+U9fPU8TPIviXaegAJ0K4sOFhxoN+zLjwJtJnRRkmShpE7\n",
       "gTb27KQxStxC1g+Lce4QqNGFYe1yfDZGGKTd7d93+xBokSVpWk1/GZ+NEWgjWAtbwzoIuBo9VKRl\n",
       "rbwdn40ICnUBboaPEw4CIkuhqQsPe2YjginulWL1/9QOAf8BrcF24otwDf4AAAAASUVORK5CYII=\n",
       "\" style=\"display:inline;vertical-align:middle;\" /></a>"
      ],
      "text/plain": [
       "(a, b, c, x, y, z, alpha)"
      ]
     },
     "metadata": {},
     "output_type": "display_data"
    }
   ],
   "source": [
    "from proveit import ExprTuple\n",
    "ExprTuple(a, b, c, x, y, z, alpha)"
   ]
  },
  {
   "cell_type": "markdown",
   "metadata": {},
   "source": [
    "We used an <a href=\"#ExprTuple\">ExprTuple</a> to conveniently render all of those `Variable`s as a single `Expression`.\n",
    "\n",
    "Expression information for a `Variable` is similar to that for a `Label`, but with the different core type and class:"
   ]
  },
  {
   "cell_type": "code",
   "execution_count": 14,
   "metadata": {},
   "outputs": [
    {
     "data": {
      "text/html": [
       "<table><tr><th>&nbsp;</th><th>core type</th><th>sub-expressions</th><th>expression</th></tr>\n",
       "<tr><td>0</td><td>Variable</td><td></td><td><a class=\"ProveItLink\" href=\"../packages/proveit/__pv_it/common/9705ebf23debd1198c43ec3d0c30ebe152d069440/expr.ipynb\"><img src=\"data:image/png;base64,iVBORw0KGgoAAAANSUhEUgAAAA0AAAAJBAMAAAAbVLtZAAAAMFBMVEX///8AAAAAAAAAAAAAAAAA\n",
       "AAAAAAAAAAAAAAAAAAAAAAAAAAAAAAAAAAAAAAAAAAAv3aB7AAAAD3RSTlMAiasyIt1EEO9UdruZ\n",
       "zWZ7xlX5AAAACXBIWXMAAA7EAAAOxAGVKw4bAAAAS0lEQVQI12NgYBAUMmAAAtcE9haWCQwMXQwM\n",
       "e7gKGHg+MDCcZWRg4NjAwCAhzsBQv4CBQR4ozQ+kJYDKeTYw8J1nBjIE3y3nkWIAAKtXDIZRy46v\n",
       "AAAAAElFTkSuQmCC\n",
       "\" style=\"display:inline;vertical-align:middle;\" /></a></td></tr>\n",
       "</table>\n"
      ],
      "text/plain": [
       "0. alpha\n",
       "   core type: Variable\n",
       "   sub-expressions: "
      ]
     },
     "metadata": {},
     "output_type": "display_data"
    }
   ],
   "source": [
    "alpha.expr_info()"
   ]
  },
  {
   "cell_type": "markdown",
   "metadata": {},
   "source": [
    "Just as we saw for the generic `Label` `Expression`s, we can use *expression substitution* to exchange one `Variable` for another or for any other `Expression`.  Furthermore, we will see in a later tutorial chapter that `Variable`s have special properties with respect to *instantiation* because they are defined as interchangeable labels."
   ]
  },
  {
   "cell_type": "code",
   "execution_count": 15,
   "metadata": {},
   "outputs": [
    {
     "data": {
      "text/html": [
       "<a class=\"ProveItLink\" href=\"__pv_it/basic_expressions/120e8ba2e79768620cddc5f36c8ac068d4af9c3a0/expr.ipynb\"><img src=\"data:image/png;base64,iVBORw0KGgoAAAANSUhEUgAAAA4AAAAOAgMAAABiJsVCAAAADFBMVEX///8AAAAAAAAAAAD4jAJN\n",
       "AAAAA3RSTlMAzd18QMO0AAAACXBIWXMAAA7EAAAOxAGVKw4bAAAAFklEQVQI12PIWrVqAUMDA4MC\n",
       "uQTIAACypww9oW7VUAAAAABJRU5ErkJggg==\n",
       "\" style=\"display:inline;vertical-align:middle;\" /></a>"
      ],
      "text/plain": [
       "square"
      ]
     },
     "metadata": {},
     "output_type": "display_data"
    }
   ],
   "source": [
    "alpha.basic_replaced({alpha:sq}) # we can substitute a Variable for any other Expression"
   ]
  },
  {
   "cell_type": "markdown",
   "metadata": {},
   "source": [
    "<a name=\"#Literal\"></a>Literal\n",
    "-------\n",
    "\n",
    "A `Literal` is another kind of <a href=\"#Label\">Label</a>.  In contrast to `Variable`s, `Literal`s have a formal, contextual meaning."
   ]
  },
  {
   "cell_type": "code",
   "execution_count": 16,
   "metadata": {},
   "outputs": [],
   "source": [
    "from proveit import Literal"
   ]
  },
  {
   "cell_type": "markdown",
   "metadata": {},
   "source": [
    "Below are different scenarios in which a `Literal` could appropriately be used."
   ]
  },
  {
   "cell_type": "markdown",
   "metadata": {},
   "source": [
    "### Specific operators"
   ]
  },
  {
   "cell_type": "code",
   "execution_count": 17,
   "metadata": {},
   "outputs": [
    {
     "name": "stdout",
     "output_type": "stream",
     "text": [
      "Expression notebook is being updated for *\n"
     ]
    },
    {
     "data": {
      "text/html": [
       "<strong id=\"TIMES\">TIMES:</strong> <a class=\"ProveItLink\" href=\"__pv_it/basic_expressions/24e3bd884eb4491d941ad30be1fd76fc379da19e0/expr.ipynb\"><img src=\"data:image/png;base64,iVBORw0KGgoAAAANSUhEUgAAAAsAAAAKBAMAAACQ3rmwAAAAGFBMVEX///8AAAAAAAAAAAAAAAAA\n",
       "AAAAAAAAAABcYkG9AAAAB3RSTlMAqyK73TLN2jnylQAAAAlwSFlzAAAOxAAADsQBlSsOGwAAAC5J\n",
       "REFUCNdjEGJgYFBmYFAJYGByZQBhIAvIDQJygFyXACQKIghVAtUgChRRYwAA0kIF/41Gf3IAAAAA\n",
       "SUVORK5CYII=\n",
       "\" style=\"display:inline;vertical-align:middle;\" /></a><br>"
      ],
      "text/plain": [
       "<IPython.core.display.HTML object>"
      ]
     },
     "metadata": {},
     "output_type": "display_data"
    }
   ],
   "source": [
    "TIMES = Literal(string_format='*', latex_format=r'\\times')"
   ]
  },
  {
   "cell_type": "code",
   "execution_count": 18,
   "metadata": {},
   "outputs": [
    {
     "name": "stdout",
     "output_type": "stream",
     "text": [
      "Expression notebook is being updated for !\n"
     ]
    },
    {
     "data": {
      "text/html": [
       "<strong id=\"FACTORIAL\">FACTORIAL:</strong> <a class=\"ProveItLink\" href=\"__pv_it/basic_expressions/fd03761321b547da82c74b2ed8e2f909ca4de7640/expr.ipynb\"><img src=\"data:image/png;base64,iVBORw0KGgoAAAANSUhEUgAAAAMAAAAPBAMAAADTxGj3AAAAJ1BMVEX///8AAAAAAAAAAAAAAAAA\n",
       "AAAAAAAAAAAAAAAAAAAAAAAAAAAAAAAilU6eAAAADHRSTlMA3asi7xDNmYlmVET5xlbrAAAACXBI\n",
       "WXMAAA7EAAAOxAGVKw4bAAAAL0lEQVQI12NgVGCwcWCIEWDgSWBgUWBgLGBga2BgmsDAvoCBYwMD\n",
       "lwEDBMQkAKUAgMYF6UcwT5IAAAAASUVORK5CYII=\n",
       "\" style=\"display:inline;vertical-align:middle;\" /></a><br>"
      ],
      "text/plain": [
       "<IPython.core.display.HTML object>"
      ]
     },
     "metadata": {},
     "output_type": "display_data"
    }
   ],
   "source": [
    "FACTORIAL = Literal('!')"
   ]
  },
  {
   "cell_type": "code",
   "execution_count": 19,
   "metadata": {},
   "outputs": [
    {
     "data": {
      "text/html": [
       "<strong id=\"SUMMATION\">SUMMATION:</strong> <a class=\"ProveItLink\" href=\"__pv_it/basic_expressions/cbc3f4b4ff3b8235133a8696b42726ca291935d60/expr.ipynb\"><img src=\"data:image/png;base64,iVBORw0KGgoAAAANSUhEUgAAABwAAAAdBAMAAABLfxECAAAAMFBMVEX///8AAAAAAAAAAAAAAAAA\n",
       "AAAAAAAAAAAAAAAAAAAAAAAAAAAAAAAAAAAAAAAAAAAv3aB7AAAAD3RSTlMAzXZUMhAiRKvv3WaZ\n",
       "u4mNgo6tAAAACXBIWXMAAA7EAAAOxAGVKw4bAAAAtElEQVQY02OQ/48AnxgY7P87MIAAa7rG/J8M\n",
       "DBz/FzBAAfd6AwaG9T9gXAaeCwwM/v83wPnHGBiY/n+Dc7mB+P4vBmQQ+f8AMpf9/2cU6fc/A5C5\n",
       "jP8FkLms8/+hqIY5FOaa/1NRpNd/QuHmL0DhaiagOOQLiqS/AYq9k1AkGVG8wHAXhcezFM5kBuKd\n",
       "CFs2o9jCPAHoIrgtrOcPINmS3A/0GONHQTBYNf//f2AYnkeKo98MAAjgScYLQ1DnAAAAAElFTkSu\n",
       "QmCC\n",
       "\" style=\"display:inline;vertical-align:middle;\" /></a><br>"
      ],
      "text/plain": [
       "<IPython.core.display.HTML object>"
      ]
     },
     "metadata": {},
     "output_type": "display_data"
    }
   ],
   "source": [
    "SUMMATION = Literal('sum', r'\\sum')"
   ]
  },
  {
   "cell_type": "markdown",
   "metadata": {},
   "source": [
    "We will see in the <a href=\"#Operation\">Operation</a> section that the *operator* of an `Operation`-derived class should be stored as a Python class variable called `_operator_`.  We are using module-level Python variable names just for these examples."
   ]
  },
  {
   "cell_type": "markdown",
   "metadata": {},
   "source": [
    "### Constant values"
   ]
  },
  {
   "cell_type": "code",
   "execution_count": 20,
   "metadata": {},
   "outputs": [
    {
     "data": {
      "text/html": [
       "<strong id=\"FIVE\">FIVE:</strong> <a class=\"ProveItLink\" href=\"__pv_it/basic_expressions/53d2dd3f57dfef2aa6ec32670440c9b3957640bf0/expr.ipynb\"><img src=\"data:image/png;base64,iVBORw0KGgoAAAANSUhEUgAAAAkAAAAPBAMAAADE5vg+AAAALVBMVEX///8AAAAAAAAAAAAAAAAA\n",
       "AAAAAAAAAAAAAAAAAAAAAAAAAAAAAAAAAAAAAADAOrOgAAAADnRSTlMAMhAi783diatmdrtEme/i\n",
       "v0YAAAAJcEhZcwAADsQAAA7EAZUrDhsAAABNSURBVAjXY2BkYFBmYGB5GpbEwMDml67AwMDBAAIo\n",
       "5KwKAQYGbgXmN2DuNjB5z4BhK5AUYHBjYOhjYChgYPBmYLBl4HJiYGC+26vAAADU3wwJQ/EKOgAA\n",
       "AABJRU5ErkJggg==\n",
       "\" style=\"display:inline;vertical-align:middle;\" /></a><br>"
      ],
      "text/plain": [
       "<IPython.core.display.HTML object>"
      ]
     },
     "metadata": {},
     "output_type": "display_data"
    }
   ],
   "source": [
    "FIVE = Literal('5') # Literal constants are also ALL-CAPS"
   ]
  },
  {
   "cell_type": "code",
   "execution_count": 21,
   "metadata": {},
   "outputs": [
    {
     "data": {
      "text/html": [
       "<strong id=\"TRUE\">TRUE:</strong> <a class=\"ProveItLink\" href=\"__pv_it/basic_expressions/5cc2f0c30293749106c8ff5a2c2fcbeae35267060/expr.ipynb\"><img src=\"data:image/png;base64,iVBORw0KGgoAAAANSUhEUgAAAA4AAAAOBAMAAADtZjDiAAAAG1BMVEX///8AAAAAAAAAAAAAAAAA\n",
       "AAAAAAAAAAAAAAB4Gco9AAAACHRSTlMAmd2rVHZEZkA3AkMAAAAJcEhZcwAADsQAAA7EAZUrDhsA\n",
       "AAAYSURBVAjXYxBSAgFlBiBwZYAAWtHpQAwAFRwEg6MlY1sAAAAASUVORK5CYII=\n",
       "\" style=\"display:inline;vertical-align:middle;\" /></a><br>"
      ],
      "text/plain": [
       "<IPython.core.display.HTML object>"
      ]
     },
     "metadata": {},
     "output_type": "display_data"
    }
   ],
   "source": [
    "TRUE = Literal('true', r'\\top')"
   ]
  },
  {
   "cell_type": "code",
   "execution_count": 22,
   "metadata": {},
   "outputs": [
    {
     "data": {
      "text/html": [
       "<strong id=\"FALSE\">FALSE:</strong> <a class=\"ProveItLink\" href=\"__pv_it/basic_expressions/c245e0365d01f8e1dd3eb9bf2712d4a4fe9899320/expr.ipynb\"><img src=\"data:image/png;base64,iVBORw0KGgoAAAANSUhEUgAAAA4AAAAPBAMAAAAmOuNHAAAAHlBMVEX///8AAAAAAAAAAAAAAAAA\n",
       "AAAAAAAAAAAAAAAAAACGjDitAAAACXRSTlMARGZUdpnd76sKo+zpAAAACXBIWXMAAA7EAAAOxAGV\n",
       "Kw4bAAAAGElEQVQI12NgQAAhKG1CSzosLa08LS0DAJuOBVCdynDUAAAAAElFTkSuQmCC\n",
       "\" style=\"display:inline;vertical-align:middle;\" /></a><br>"
      ],
      "text/plain": [
       "<IPython.core.display.HTML object>"
      ]
     },
     "metadata": {},
     "output_type": "display_data"
    }
   ],
   "source": [
    "FALSE = Literal('false', r'\\bot')"
   ]
  },
  {
   "cell_type": "markdown",
   "metadata": {},
   "source": [
    "Such constants will typically be defined as **common expressions** in the appropriate **theory**, to be discussed in a later tutorial."
   ]
  },
  {
   "cell_type": "markdown",
   "metadata": {},
   "source": [
    "### Contextual \"variables\"\n",
    "\n",
    "This is appropriate when variables are given a specific meaning within the theory of a problem.  For example, consider a math \"story problem\" where Andrea has $a$ apples and Bill has $b$ bananas.  These are variables in a sense, but here they have contextual meaning so they should be `Literal`s.  However, suppose one wants to prove a general theorem for any number of Andrea's apples and Bill's bananas.  One may start by using the $a$ and $b$ `Literal`s for convenience for some contextual \"lemmas\" (as an aside, though, **Prove-It** does not distinguish between lemmas and theorems), but then demote them to `Variable`s in order to make a statement of the form $\\forall_{a, b} P(a, b)$ (`Literal`s may not be quantified over).  This is done by using a process called axiom elimination that will be discussed later.  For now, we just note that \"variables\" with contextual meaning need to be `Literal`s."
   ]
  },
  {
   "cell_type": "code",
   "execution_count": 23,
   "metadata": {},
   "outputs": [
    {
     "data": {
      "text/html": [
       "<strong id=\"a_lit\">a_lit:</strong> <a class=\"ProveItLink\" href=\"__pv_it/basic_expressions/bde8c5664527228837a07cb0ad8fc07f9aabb14c0/expr.ipynb\"><img src=\"data:image/png;base64,iVBORw0KGgoAAAANSUhEUgAAAAsAAAAJBAMAAAAWSsseAAAAMFBMVEX///8AAAAAAAAAAAAAAAAA\n",
       "AAAAAAAAAAAAAAAAAAAAAAAAAAAAAAAAAAAAAAAAAAAv3aB7AAAAD3RSTlMAIquJdkTvuxBmmd1U\n",
       "zTKBpmoTAAAACXBIWXMAAA7EAAAOxAGVKw4bAAAARUlEQVQI12NgYFR2dGBgYAgTYP/BwMCRycC1\n",
       "gYGB6wMDtwEDA1sBQ38AA0O/A8N8oIr+Awy6PAIM7A48u7iAKlXshPwYAE2lCqdX0eXEAAAAAElF\n",
       "TkSuQmCC\n",
       "\" style=\"display:inline;vertical-align:middle;\" /></a><br>"
      ],
      "text/plain": [
       "<IPython.core.display.HTML object>"
      ]
     },
     "metadata": {},
     "output_type": "display_data"
    }
   ],
   "source": [
    "a_lit = Literal('a')"
   ]
  },
  {
   "cell_type": "code",
   "execution_count": 24,
   "metadata": {},
   "outputs": [
    {
     "data": {
      "text/html": [
       "<strong id=\"b_lit\">b_lit:</strong> <a class=\"ProveItLink\" href=\"__pv_it/basic_expressions/82b996f356f3c72cec288bf2f1c1bf1b6ed212f60/expr.ipynb\"><img src=\"data:image/png;base64,iVBORw0KGgoAAAANSUhEUgAAAAkAAAAOBAMAAAAPuiubAAAAMFBMVEX///8AAAAAAAAAAAAAAAAA\n",
       "AAAAAAAAAAAAAAAAAAAAAAAAAAAAAAAAAAAAAAAAAAAv3aB7AAAAD3RSTlMAELvv3c2ZVESJq3Yi\n",
       "MmZ3LnoBAAAACXBIWXMAAA7EAAAOxAGVKw4bAAAAT0lEQVQI12NgVHZgAALWBBDJXwAi+wVA5BQQ\n",
       "wRC1ezkDA+NXAfkDDOwfGZg3MLAFMPBPYGCZwNBfAFKeL8DAf4HRjoGB6wET0AjGlXkMDAAVqA7Q\n",
       "GyenWgAAAABJRU5ErkJggg==\n",
       "\" style=\"display:inline;vertical-align:middle;\" /></a><br>"
      ],
      "text/plain": [
       "<IPython.core.display.HTML object>"
      ]
     },
     "metadata": {},
     "output_type": "display_data"
    }
   ],
   "source": [
    "b_lit = Literal('b')"
   ]
  },
  {
   "cell_type": "code",
   "execution_count": 25,
   "metadata": {},
   "outputs": [],
   "source": [
    "# different because one is a Variable and one is a Literal\n",
    "assert a != a_lit \n",
    "# same after converting the Literal to a Variable\n",
    "assert a == a_lit.as_variable() "
   ]
  },
  {
   "cell_type": "markdown",
   "metadata": {},
   "source": [
    "### Literal substitution\n",
    "It is possible to perform *expression substitution* on a `Literal`."
   ]
  },
  {
   "cell_type": "code",
   "execution_count": 26,
   "metadata": {},
   "outputs": [
    {
     "data": {
      "text/html": [
       "<a class=\"ProveItLink\" href=\"__pv_it/basic_expressions/82b996f356f3c72cec288bf2f1c1bf1b6ed212f60/expr.ipynb\"><img src=\"data:image/png;base64,iVBORw0KGgoAAAANSUhEUgAAAAkAAAAOBAMAAAAPuiubAAAAMFBMVEX///8AAAAAAAAAAAAAAAAA\n",
       "AAAAAAAAAAAAAAAAAAAAAAAAAAAAAAAAAAAAAAAAAAAv3aB7AAAAD3RSTlMAELvv3c2ZVESJq3Yi\n",
       "MmZ3LnoBAAAACXBIWXMAAA7EAAAOxAGVKw4bAAAAT0lEQVQI12NgVHZgAALWBBDJXwAi+wVA5BQQ\n",
       "wRC1ezkDA+NXAfkDDOwfGZg3MLAFMPBPYGCZwNBfAFKeL8DAf4HRjoGB6wET0AjGlXkMDAAVqA7Q\n",
       "GyenWgAAAABJRU5ErkJggg==\n",
       "\" style=\"display:inline;vertical-align:middle;\" /></a>"
      ],
      "text/plain": [
       "b"
      ]
     },
     "metadata": {},
     "output_type": "display_data"
    }
   ],
   "source": [
    "a_lit.basic_replaced({a_lit:b_lit})"
   ]
  },
  {
   "cell_type": "code",
   "execution_count": 27,
   "metadata": {},
   "outputs": [
    {
     "data": {
      "text/html": [
       "<a class=\"ProveItLink\" href=\"__pv_it/basic_expressions/2e5b33f8f44527195a10b6078888697e89a14e8e0/expr.ipynb\"><img src=\"data:image/png;base64,iVBORw0KGgoAAAANSUhEUgAAAA0AAAAJBAMAAAAbVLtZAAAAMFBMVEX///8AAAAAAAAAAAAAAAAA\n",
       "AAAAAAAAAAAAAAAAAAAAAAAAAAAAAAAAAAAAAAAAAAAv3aB7AAAAD3RSTlMAmSLdMlR2iWZEELur\n",
       "ze8/xV5QAAAACXBIWXMAAA7EAAAOxAGVKw4bAAAATklEQVQI12NgEGBgYFB2YGANANL6CQyMQIqB\n",
       "vYFhJgPXBgYOBYYCBs4DDOwMDAcY2AIY1BkYtjD4C3BdYmCoq3nyW66BgWH1X4W+ZwwMAGWFDnrb\n",
       "bYx6AAAAAElFTkSuQmCC\n",
       "\" style=\"display:inline;vertical-align:middle;\" /></a>"
      ],
      "text/plain": [
       "omega"
      ]
     },
     "metadata": {},
     "output_type": "display_data"
    }
   ],
   "source": [
    "a_lit.basic_replaced({a_lit:omega})"
   ]
  },
  {
   "cell_type": "markdown",
   "metadata": {},
   "source": [
    "As noted earlier, the `substituted()` method is non-mutating, leaving the a_lit `Literal` as it was originally defined:"
   ]
  },
  {
   "cell_type": "code",
   "execution_count": 28,
   "metadata": {},
   "outputs": [
    {
     "data": {
      "text/html": [
       "<a class=\"ProveItLink\" href=\"__pv_it/basic_expressions/bde8c5664527228837a07cb0ad8fc07f9aabb14c0/expr.ipynb\"><img src=\"data:image/png;base64,iVBORw0KGgoAAAANSUhEUgAAAAsAAAAJBAMAAAAWSsseAAAAMFBMVEX///8AAAAAAAAAAAAAAAAA\n",
       "AAAAAAAAAAAAAAAAAAAAAAAAAAAAAAAAAAAAAAAAAAAv3aB7AAAAD3RSTlMAIquJdkTvuxBmmd1U\n",
       "zTKBpmoTAAAACXBIWXMAAA7EAAAOxAGVKw4bAAAARUlEQVQI12NgYFR2dGBgYAgTYP/BwMCRycC1\n",
       "gYGB6wMDtwEDA1sBQ38AA0O/A8N8oIr+Awy6PAIM7A48u7iAKlXshPwYAE2lCqdX0eXEAAAAAElF\n",
       "TkSuQmCC\n",
       "\" style=\"display:inline;vertical-align:middle;\" /></a>"
      ],
      "text/plain": [
       "a"
      ]
     },
     "metadata": {},
     "output_type": "display_data"
    }
   ],
   "source": [
    "a_lit"
   ]
  },
  {
   "cell_type": "markdown",
   "metadata": {},
   "source": [
    "While we are able to replace a `Literal` via *expression substitution*, we may not replace them via *instantiation* because `Literal`s are not interchangeable labels."
   ]
  },
  {
   "cell_type": "markdown",
   "metadata": {},
   "source": [
    "### Literal theories\n",
    "\n",
    "A `Literal` is distinguished not only by its formatting but also by its **theory**.  Axioms and theorems of **Prove-It** are organized via **theories** which we will discuss later in more detail.  Each `Literal` belongs to a **theory** which is typically the one corresponding to the package (directory) in which it is defined.  This is particularly important for *contextual variable* types of `Literal`s that are very *theory*-specific."
   ]
  },
  {
   "cell_type": "code",
   "execution_count": 29,
   "metadata": {},
   "outputs": [],
   "source": [
    "from proveit import logic"
   ]
  },
  {
   "cell_type": "code",
   "execution_count": 30,
   "metadata": {},
   "outputs": [
    {
     "data": {
      "text/html": [
       "<a class=\"ProveItLink\" href=\"../packages/proveit/logic/booleans/__pv_it/common/95025295868b9266d37330b4427adf122f6061770/expr.ipynb\"><img src=\"data:image/png;base64,iVBORw0KGgoAAAANSUhEUgAAAA4AAAAOBAMAAADtZjDiAAAAG1BMVEX///8AAAAAAAAAAAAAAAAA\n",
       "AAAAAAAAAAAAAAB4Gco9AAAACHRSTlMAmd2rVHZEZkA3AkMAAAAJcEhZcwAADsQAAA7EAZUrDhsA\n",
       "AAAYSURBVAjXYxBSAgFlBiBwZYAAWtHpQAwAFRwEg6MlY1sAAAAASUVORK5CYII=\n",
       "\" style=\"display:inline;vertical-align:middle;\" /></a>"
      ],
      "text/plain": [
       "TRUE"
      ]
     },
     "metadata": {},
     "output_type": "display_data"
    }
   ],
   "source": [
    "logic.TRUE"
   ]
  },
  {
   "cell_type": "markdown",
   "metadata": {},
   "source": [
    "*If the above output is not the $\\top$ symbol when you execute this, you probably need to <a class=\"ProveItLink\" href=\"tutorial00_introduction.ipynb#build\">build or download the Prove-It database</a>.*"
   ]
  },
  {
   "cell_type": "code",
   "execution_count": 31,
   "metadata": {},
   "outputs": [
    {
     "data": {
      "text/plain": [
       "False"
      ]
     },
     "metadata": {},
     "output_type": "display_data"
    }
   ],
   "source": [
    "# When the theory is different, they are not the same.\n",
    "TRUE == logic.TRUE"
   ]
  },
  {
   "cell_type": "markdown",
   "metadata": {},
   "source": [
    "The detailed expression information reveals the differences:"
   ]
  },
  {
   "cell_type": "code",
   "execution_count": 32,
   "metadata": {},
   "outputs": [
    {
     "data": {
      "text/html": [
       "<table><tr><th>&nbsp;</th><th>core type</th><th>sub-expressions</th><th>expression</th></tr>\n",
       "<tr><td>0</td><td>Literal</td><td></td><td><a class=\"ProveItLink\" href=\"__pv_it/basic_expressions/5cc2f0c30293749106c8ff5a2c2fcbeae35267060/expr.ipynb\"><img src=\"data:image/png;base64,iVBORw0KGgoAAAANSUhEUgAAAA4AAAAOBAMAAADtZjDiAAAAG1BMVEX///8AAAAAAAAAAAAAAAAA\n",
       "AAAAAAAAAAAAAAB4Gco9AAAACHRSTlMAmd2rVHZEZkA3AkMAAAAJcEhZcwAADsQAAA7EAZUrDhsA\n",
       "AAAYSURBVAjXYxBSAgFlBiBwZYAAWtHpQAwAFRwEg6MlY1sAAAAASUVORK5CYII=\n",
       "\" style=\"display:inline;vertical-align:middle;\" /></a></td></tr>\n",
       "<tr><td colspan=4 style=\"text-align:left\"><strong>theory:</strong> tutorial</td></tr>\n",
       "</table>\n"
      ],
      "text/plain": [
       "0. true\n",
       "   core type: Literal\n",
       "   latex_format: \\top\n",
       "   theory: tutorial\n",
       "   class: <class 'proveit._core_.expression.label.literal.Literal'>\n",
       "   sub-expressions: "
      ]
     },
     "metadata": {},
     "output_type": "display_data"
    }
   ],
   "source": [
    "TRUE.expr_info(details=True)"
   ]
  },
  {
   "cell_type": "code",
   "execution_count": 33,
   "metadata": {},
   "outputs": [
    {
     "data": {
      "text/html": [
       "<table><tr><th>&nbsp;</th><th>core type</th><th>sub-expressions</th><th>expression</th></tr>\n",
       "<tr><td>0</td><td>Literal</td><td></td><td><a class=\"ProveItLink\" href=\"../packages/proveit/logic/booleans/__pv_it/common/95025295868b9266d37330b4427adf122f6061770/expr.ipynb\"><img src=\"data:image/png;base64,iVBORw0KGgoAAAANSUhEUgAAAA4AAAAOBAMAAADtZjDiAAAAG1BMVEX///8AAAAAAAAAAAAAAAAA\n",
       "AAAAAAAAAAAAAAB4Gco9AAAACHRSTlMAmd2rVHZEZkA3AkMAAAAJcEhZcwAADsQAAA7EAZUrDhsA\n",
       "AAAYSURBVAjXYxBSAgFlBiBwZYAAWtHpQAwAFRwEg6MlY1sAAAAASUVORK5CYII=\n",
       "\" style=\"display:inline;vertical-align:middle;\" /></a></td></tr>\n",
       "<tr><td colspan=4 style=\"text-align:left\"><strong>class:</strong> proveit.logic.booleans.booleans.TrueLiteral</td></tr>\n",
       "<tr><td colspan=4 style=\"text-align:left\"><strong>theory:</strong> proveit.logic.booleans</td></tr>\n",
       "</table>\n"
      ],
      "text/plain": [
       "0. TRUE\n",
       "   core type: Literal\n",
       "   latex_format: \\top\n",
       "   theory: proveit.logic.booleans\n",
       "   class: <class 'proveit.logic.booleans.booleans.TrueLiteral'>\n",
       "   sub-expressions: "
      ]
     },
     "metadata": {},
     "output_type": "display_data"
    }
   ],
   "source": [
    "logic.TRUE.expr_info(details=True)"
   ]
  },
  {
   "cell_type": "markdown",
   "metadata": {},
   "source": [
    "**Expressions** are also distinguished by their class (derived from the *core type*).  In the above example, `logic.TRUE` is an object of the `proveit.logic.booleans.booleans.TrueLiteral` class.  `logic.TRUE` and `logic.FALSE` have an `eval_equality(..)` method defined in their respective classes which is a convenient method for deriving any of the following: $(\\top = \\top) = \\top$, $(\\bot = \\bot) = \\top$, $(\\top = \\bot) = \\bot$, or $(\\bot = \\top) = \\bot$ (these are proven theorems within `proveit.logic`). For example:"
   ]
  },
  {
   "cell_type": "code",
   "execution_count": 34,
   "metadata": {},
   "outputs": [
    {
     "data": {
      "text/html": [
       "<span style=\"font-size:20px;\"> <a class=\"ProveItLink\" href=\"__pv_it/basic_expressions/9690c55b0d9af6b2d6a6946a379b628461d704bf0/proof.ipynb\" style=\"text-decoration: none\">&nbsp;&#x22A2;&nbsp;&nbsp;</a><a class=\"ProveItLink\" href=\"__pv_it/basic_expressions/2501406b80df63a463595cd1c3fbabf4f36504a00/expr.ipynb\"><img src=\"data:image/png;base64,iVBORw0KGgoAAAANSUhEUgAAAHUAAAAVBAMAAACK3rzVAAAAMFBMVEX///8AAAAAAAAAAAAAAAAA\n",
       "AAAAAAAAAAAAAAAAAAAAAAAAAAAAAAAAAAAAAAAAAAAv3aB7AAAAD3RSTlMAInZUiRDNmWbv3US7\n",
       "qzJazP2FAAAACXBIWXMAAA7EAAAOxAGVKw4bAAAAuUlEQVQ4y2NgYBBgwAsY8cgxGeDXy62AW86E\n",
       "gX0VGFzA1NYAIjWwGQiWYU0AkcxYDYeIsgXgkmFvIKSXowCXDCcDIb0MU3HJmBHWm4FLpoSwXl9c\n",
       "MhkoelGDHCrahktmMWF7LXHJzCas9z0FenfikllM2L9WuGQOEba3B5eML2G9JbhkXiGlbRQAdOTK\n",
       "WWBHrsYlw/WAgQBgXIBLBltKR7OmAafUQUJ6ZXBLxRDSi8dwRgX8WplwlmcACsg6kvF/hdUAAAAA\n",
       "SUVORK5CYII=\n",
       "\" style=\"display:inline;vertical-align:middle;\" /></a></span>"
      ],
      "text/plain": [
       "|- (TRUE = FALSE) = FALSE"
      ]
     },
     "metadata": {},
     "output_type": "display_data"
    }
   ],
   "source": [
    "logic.TRUE.eval_equality(logic.FALSE)"
   ]
  },
  {
   "cell_type": "markdown",
   "metadata": {},
   "source": [
    "That is a sneak preview of a judgment (**Judgment** object) that uses the turnstile notation, $\\boldsymbol{\\vdash}$, to indicate that the expression is a proven statement.  There will be more on this in later tutorial chapters."
   ]
  },
  {
   "cell_type": "markdown",
   "metadata": {},
   "source": [
    "<a name=\"ExprTuple\"></a>ExprTuple\n",
    "=========\n",
    "\n",
    "An `ExprTuple` is an ordered collection of **expression** objects which we previewed briefly already.  Here is another example:"
   ]
  },
  {
   "cell_type": "code",
   "execution_count": 35,
   "metadata": {},
   "outputs": [
    {
     "data": {
      "text/html": [
       "<strong id=\"et\">et:</strong> <a class=\"ProveItLink\" href=\"__pv_it/basic_expressions/8da52779e42e2594df4eecef309bb5b0c6a8a63c0/expr.ipynb\"><img src=\"data:image/png;base64,iVBORw0KGgoAAAANSUhEUgAAAJMAAAAVBAMAAACwIsHjAAAAMFBMVEX///8AAAAAAAAAAAAAAAAA\n",
       "AAAAAAAAAAAAAAAAAAAAAAAAAAAAAAAAAAAAAAAAAAAv3aB7AAAAD3RSTlMAInZUiRDNmWbv3US7\n",
       "qzJazP2FAAAACXBIWXMAAA7EAAAOxAGVKw4bAAACE0lEQVQ4y61UTUgbQRh9m911szFqboIgXaU9\n",
       "9FKCaM+hRGgE7dCzkFwqvQg5tKWIYvCiJ009CS00IEUMCMFTe0oUSuktWCmeJOeeoqBID6Xf7CQ7\n",
       "Y3YiIs5h5+2b7735/T4ACdxD800iydsLGrC7TLzPP+MKYf8sdcYslHnbEz+f58pMbxUpkDqnMj15\n",
       "TdhYgHb/TnZb8CvAKajEQPJGq3r3va8C7jWiyu5q5TI8vUZM4a5WPQW8oc44HvEEMT/6qzVkja6H\n",
       "rU4enraQlCA93eDxdbym7lsifiFu8JJlxW0b21gMW33Hg4pAgQRDFfuDkUQ0h20y2IIjHoF5AVdM\n",
       "FkthM2wFxEWglPCwHxEGs4iPdIlNruTNyWFAoGWmOyuKOBOdlDSBdxbQ3+RWbg3ZSnstVfEcPumO\n",
       "PZ6D80/cVyAhhAy9tt4i32DWw0bwrMRy7HOdlVtCX9NHUkIIL2h6s4RD+kvit5mwuVWDDoEDXNE8\n",
       "YIoVZy1/EZxVJGSVoT5awzSt2zN3HGQpg/oK8bwP+PXN2JeKFWeNPB4zn5USp4bocj/1KfyhCY9m\n",
       "hp8g9oXQ8Xv4ANbzFYZW7n71j5Gzg0tv4bNSgvTaI+cZjVcQa7RPYiIETDWNdOyEHB6iPQa1IBUC\n",
       "lpoZOjYlIW0HB+1a5XUCvFRLmYaVHAx6E5htFy90AnhqbdOwESULeL4Z3n3U9hHgP9Y9dlZjTc40\n",
       "AAAAAElFTkSuQmCC\n",
       "\" style=\"display:inline;vertical-align:middle;\" /></a><br>"
      ],
      "text/plain": [
       "<IPython.core.display.HTML object>"
      ]
     },
     "metadata": {},
     "output_type": "display_data"
    }
   ],
   "source": [
    "et = ExprTuple(a, b, c, TRUE, FIVE, a, alpha)"
   ]
  },
  {
   "cell_type": "markdown",
   "metadata": {},
   "source": [
    "An `ExprTuple` may be used as the *operands* or *operations* of an `Operation`, the *parameters* of a `Lambda` map, or the *values* and *conditions* of a `Conditional`.  A Python tuple (or any iterable) will automatically be converted to an `ExprTuple` when it is passed in for any of these roles when constructing an `Operation`, `Lambda`, or `Conditional`. "
   ]
  },
  {
   "cell_type": "markdown",
   "metadata": {},
   "source": [
    "Substitution typically carries forward in a straightforward manner."
   ]
  },
  {
   "cell_type": "code",
   "execution_count": 36,
   "metadata": {},
   "outputs": [
    {
     "data": {
      "text/html": [
       "<a class=\"ProveItLink\" href=\"__pv_it/basic_expressions/22f1975b2befe058a3e4b0d672306eba99bd349f0/expr.ipynb\"><img src=\"data:image/png;base64,iVBORw0KGgoAAAANSUhEUgAAAJ0AAAAVBAMAAACu6/FQAAAAMFBMVEX///8AAAAAAAAAAAAAAAAA\n",
       "AAAAAAAAAAAAAAAAAAAAAAAAAAAAAAAAAAAAAAAAAAAv3aB7AAAAD3RSTlMAInZUiRDNmWbv3US7\n",
       "qzJazP2FAAAACXBIWXMAAA7EAAAOxAGVKw4bAAAB6klEQVQ4y61VOywEURQ9Mztj9uPXSbYahUQj\n",
       "2QhaIkQUYugkZLcRolIIorHRUCJR+CQkVmESyUalXAoSlWjoTK0iPo1E3DfP7jzvPRLhJfvm3nPv\n",
       "OfM+984CqMd/jVDJzPyGUgsMfRs8ZlMbm1L5Mja6JWc5fjiuQifxOnVQiZxImSap2DlmxdwKOKF5\n",
       "cRRO7ha8Ctwq543T2/OS3tOPejUirOgt0wYkQurlD3oJDx0Swdr7g15VHjMSoeq6pXzh3c2Bqrc0\n",
       "EOj0ekLYusKkRMiO24/cSmeckqJX7RlvGr100V4zMojnsC8ROj2sc6uAhKvo0bjU6BHlwvQQW8W2\n",
       "RJgFnnnZvejOj8ZivaLnPBDRomp/UPQKSPGKSZR0euekFyh6LLe/l4pjVdnvU3lhWVenR91zp+6X\n",
       "5Q7SNcb2cCYQWOW/YyQfGnVU6EUbUrgL2IEt6jGnjuL99IyXMBAR7FeabnHBDbpcK8jmpHADzA18\n",
       "olyPOZQbX6RPhdOF+7DhD7dYw/u0grE+Whcz0LPShCRvfv65YKgxd+NxdMH3N33/iDuU63RTdxeR\n",
       "DIRj8mQD7dCEv6Cik6YtT0eupRjsvPAzKjrz9DuN3GHFsMXC06OCY7ASG41CrmKY4kL0qOBUs0o3\n",
       "3H/7/2gEPgCoFW6OGOdD1QAAAABJRU5ErkJggg==\n",
       "\" style=\"display:inline;vertical-align:middle;\" /></a>"
      ],
      "text/plain": [
       "(false, b, c, true, 5, false, alpha)"
      ]
     },
     "metadata": {},
     "output_type": "display_data"
    }
   ],
   "source": [
    "et.basic_replaced({a:FALSE})"
   ]
  },
  {
   "cell_type": "markdown",
   "metadata": {},
   "source": [
    "Note that the *substitution* occurs on all relevant instances.  And, as always, `substituted` is non-mutating:"
   ]
  },
  {
   "cell_type": "code",
   "execution_count": 37,
   "metadata": {},
   "outputs": [
    {
     "data": {
      "text/html": [
       "<a class=\"ProveItLink\" href=\"__pv_it/basic_expressions/8da52779e42e2594df4eecef309bb5b0c6a8a63c0/expr.ipynb\"><img src=\"data:image/png;base64,iVBORw0KGgoAAAANSUhEUgAAAJMAAAAVBAMAAACwIsHjAAAAMFBMVEX///8AAAAAAAAAAAAAAAAA\n",
       "AAAAAAAAAAAAAAAAAAAAAAAAAAAAAAAAAAAAAAAAAAAv3aB7AAAAD3RSTlMAInZUiRDNmWbv3US7\n",
       "qzJazP2FAAAACXBIWXMAAA7EAAAOxAGVKw4bAAACE0lEQVQ4y61UTUgbQRh9m911szFqboIgXaU9\n",
       "9FKCaM+hRGgE7dCzkFwqvQg5tKWIYvCiJ009CS00IEUMCMFTe0oUSuktWCmeJOeeoqBID6Xf7CQ7\n",
       "Y3YiIs5h5+2b7735/T4ACdxD800iydsLGrC7TLzPP+MKYf8sdcYslHnbEz+f58pMbxUpkDqnMj15\n",
       "TdhYgHb/TnZb8CvAKajEQPJGq3r3va8C7jWiyu5q5TI8vUZM4a5WPQW8oc44HvEEMT/6qzVkja6H\n",
       "rU4enraQlCA93eDxdbym7lsifiFu8JJlxW0b21gMW33Hg4pAgQRDFfuDkUQ0h20y2IIjHoF5AVdM\n",
       "FkthM2wFxEWglPCwHxEGs4iPdIlNruTNyWFAoGWmOyuKOBOdlDSBdxbQ3+RWbg3ZSnstVfEcPumO\n",
       "PZ6D80/cVyAhhAy9tt4i32DWw0bwrMRy7HOdlVtCX9NHUkIIL2h6s4RD+kvit5mwuVWDDoEDXNE8\n",
       "YIoVZy1/EZxVJGSVoT5awzSt2zN3HGQpg/oK8bwP+PXN2JeKFWeNPB4zn5USp4bocj/1KfyhCY9m\n",
       "hp8g9oXQ8Xv4ANbzFYZW7n71j5Gzg0tv4bNSgvTaI+cZjVcQa7RPYiIETDWNdOyEHB6iPQa1IBUC\n",
       "lpoZOjYlIW0HB+1a5XUCvFRLmYaVHAx6E5htFy90AnhqbdOwESULeL4Z3n3U9hHgP9Y9dlZjTc40\n",
       "AAAAAElFTkSuQmCC\n",
       "\" style=\"display:inline;vertical-align:middle;\" /></a>"
      ],
      "text/plain": [
       "(a, b, c, true, 5, a, alpha)"
      ]
     },
     "metadata": {},
     "output_type": "display_data"
    }
   ],
   "source": [
    "et"
   ]
  },
  {
   "cell_type": "markdown",
   "metadata": {},
   "source": [
    "The **expression** constituents of an `ExprTuple` are known as *entries*:"
   ]
  },
  {
   "cell_type": "code",
   "execution_count": 38,
   "metadata": {},
   "outputs": [
    {
     "data": {
      "text/html": [
       "<a class=\"ProveItLink\" href=\"../packages/proveit/__pv_it/common/c06c606ec12678c58933ac85412ecadc2ae28be60/expr.ipynb\"><img src=\"data:image/png;base64,iVBORw0KGgoAAAANSUhEUgAAAAsAAAAJBAMAAAAWSsseAAAAMFBMVEX///8AAAAAAAAAAAAAAAAA\n",
       "AAAAAAAAAAAAAAAAAAAAAAAAAAAAAAAAAAAAAAAAAAAv3aB7AAAAD3RSTlMAIquJdkTvuxBmmd1U\n",
       "zTKBpmoTAAAACXBIWXMAAA7EAAAOxAGVKw4bAAAARUlEQVQI12NgYFR2dGBgYAgTYP/BwMCRycC1\n",
       "gYGB6wMDtwEDA1sBQ38AA0O/A8N8oIr+Awy6PAIM7A48u7iAKlXshPwYAE2lCqdX0eXEAAAAAElF\n",
       "TkSuQmCC\n",
       "\" style=\"display:inline;vertical-align:middle;\" /></a>"
      ],
      "text/plain": [
       "a"
      ]
     },
     "metadata": {},
     "output_type": "display_data"
    }
   ],
   "source": [
    "et.entries[5]"
   ]
  },
  {
   "cell_type": "markdown",
   "metadata": {},
   "source": [
    "The enumerated mathematical objects represented by the `ExprTuple` are known as *elements*.  The *elements* and *entries* are in correspondence except when the `ExprTuple` contains an `Iter`.  A contained `Iter` is a single *entry* but may represent multiple elements.  For example, the second *entry* of $(a, b_1, ..., b_n)$ is the `Iter` $b_1, ..., b_n$, but the second *element*, assuming $n \\geq 1$, is $b_1$.  We will revisit this in the <a href=\"#Iter\">Iter</a> section."
   ]
  },
  {
   "cell_type": "markdown",
   "metadata": {},
   "source": [
    "`ExprTuple` *substitution* is more interesting when an `Iter` containing an `IndexedVar` is expanded such that the `Iter` splits into multiple *entries*.  This will be demonstrated in the <a href=\"#IndexedVar\">IndexedVar</a> section.  "
   ]
  },
  {
   "cell_type": "markdown",
   "metadata": {},
   "source": [
    "<a name=\"Operation\"></a>Operation\n",
    "=========\n",
    "\n",
    "This type of **expression** represents an applied operation.  It contains *operator(s)* and *operand(s)*.  The default formatting of an `Operation` with one *operator* and more than one *operand* is to place the *operator* between each successive pair of *operands* as follows.   However, we cannot create an object of type **Operation**:"
   ]
  },
  {
   "cell_type": "code",
   "execution_count": 39,
   "metadata": {},
   "outputs": [
    {
     "name": "stdout",
     "output_type": "stream",
     "text": [
      "Expected error: Do not create an object of type Operation; use a derived class (e.g., Function) instead.\n"
     ]
    }
   ],
   "source": [
    "from proveit import Operation\n",
    "try:\n",
    "    triple_prod = Operation(TIMES, (x, y, omega), styles=None)\n",
    "    assert False\n",
    "except TypeError as e:\n",
    "    print(\"Expected error: %s\"%str(e))"
   ]
  },
  {
   "cell_type": "markdown",
   "metadata": {},
   "source": [
    "We must use a class derived from **Operation**:"
   ]
  },
  {
   "cell_type": "code",
   "execution_count": 40,
   "metadata": {},
   "outputs": [
    {
     "name": "stdout",
     "output_type": "stream",
     "text": [
      "To do this properly and be able to display the expression, the class needs to be defined in its own module.\n",
      "Examples are shown below (Factorial and Multiply).\n"
     ]
    }
   ],
   "source": [
    "class TimesOp(Operation):\n",
    "    def __init__(self, *operands, styles=None):\n",
    "        Operation.__init__(self, TIMES, operands, styles=styles)\n",
    "\n",
    "triple_prod = TimesOp(x, y, omega)\n",
    "print(\"To do this properly and be able to display the expression, the class needs to be \"\n",
    "      \"defined in its own module.\\nExamples are shown below (Factorial and Multiply).\")"
   ]
  },
  {
   "cell_type": "markdown",
   "metadata": {},
   "source": [
    "A `Function` is derived from `Operation`.  It behaves in the same manner except it formats it in a \"function\" style:"
   ]
  },
  {
   "cell_type": "code",
   "execution_count": 41,
   "metadata": {},
   "outputs": [
    {
     "data": {
      "text/html": [
       "<strong id=\"fx\">fx:</strong> <a class=\"ProveItLink\" href=\"__pv_it/basic_expressions/150826301a1142eace30344ace67d559abc49f500/expr.ipynb\"><img src=\"data:image/png;base64,iVBORw0KGgoAAAANSUhEUgAAACkAAAAVBAMAAAAp9toTAAAAMFBMVEX///8AAAAAAAAAAAAAAAAA\n",
       "AAAAAAAAAAAAAAAAAAAAAAAAAAAAAAAAAAAAAAAAAAAv3aB7AAAAD3RSTlMAmYkQqzLvVES73WZ2\n",
       "Is1wFLxSAAAACXBIWXMAAA7EAAAOxAGVKw4bAAAA/0lEQVQY02NggANeKH2BARkch9I9EIpRyQBI\n",
       "sitARXk2gCmVsAIgaQfX9BhMpneC1ErDRTeCCI7PYHYCXJQNpIhpAYjJ/gAuygc0mNttiQDISqBl\n",
       "zGecg9SByhyAfP4DMAWMDEcOSAHVgbTdDwCJcgHdsZdhv4E30DCQFfUQKxoYGAIY5EBM1g9AQgsu\n",
       "ysCQA3YUSO0UBpgJDBx/GYyBJiyAyTNwHmBgnsGSwAB0CvcEYFD9AIsCncP+1TCBowDiSPYPYFHW\n",
       "BQzMMgcKt4MMA1rB6ADx0VK4324xMJTwFSCFCRgAw2klLAQ5YXHAC7RsjyyUwzwBXRoM7kDpswwM\n",
       "AGRaMXIQBtPcAAAAAElFTkSuQmCC\n",
       "\" style=\"display:inline;vertical-align:middle;\" /></a><br>"
      ],
      "text/plain": [
       "<IPython.core.display.HTML object>"
      ]
     },
     "metadata": {},
     "output_type": "display_data"
    }
   ],
   "source": [
    "from proveit import Function\n",
    "\n",
    "# Simple case: a Variable operator with a single Variable operand\n",
    "f = Variable('f')\n",
    "fx = Function(f, x)"
   ]
  },
  {
   "cell_type": "code",
   "execution_count": 42,
   "metadata": {},
   "outputs": [
    {
     "data": {
      "text/html": [
       "<a class=\"ProveItLink\" href=\"__pv_it/basic_expressions/1facf349f86b82363da03852070f50296740064a0/expr.ipynb\"><img src=\"data:image/png;base64,iVBORw0KGgoAAAANSUhEUgAAAOcAAAAVBAMAAABPgOQBAAAAMFBMVEX///8AAAAAAAAAAAAAAAAA\n",
       "AAAAAAAAAAAAAAAAAAAAAAAAAAAAAAAAAAAAAAAAAAAv3aB7AAAAD3RSTlMAInZUiRDNmWbv3US7\n",
       "qzJazP2FAAAACXBIWXMAAA7EAAAOxAGVKw4bAAADYklEQVRIx51WT0gUYRR/s7vj7K7rukiHkKDV\n",
       "guogejCjOii0QQkLi5BeJIWIOkRJWJgVbgR1KdySOvQHFqJLQkidOkQqGISEElgJlRvURQh3Fbtk\n",
       "a++9me/7ZsYZkAb22zfz+32/9773ve/NAEAC1GXZGmy8NCflv1BNMAJNChR2ZXLjxB3W/wtP2c2h\n",
       "pMuMZr7tP6xsvHZvmBdsE4FlVYwza1/fXvBDAbb0p7MOlHSJoffSTejbCAibroqM22mntE6qh9U4\n",
       "4V3GDw2dBfjonEu6yDA4lsjBKRA2XeE+t9MBad1UD5cwXa1JH1Q/Q8J9DpR0kRHhmze8soiSu+d2\n",
       "mpNWRGWhsYC/Nh+0Io9DVdGBki4yWthu57FFgafdW9qrUqS2bYZ+BR90qEApLjtQ0kVGP5m3H3zi\n",
       "asJfR8PxFNZwWtKa67dS5nE9ev3cj0OoMyuxNYD4sg+qrdFo/DFRmy4yzCUty+X1BT4YmJcbshp6\n",
       "tUfWAgxoSA7ivsjA0aHW3uSDGiu88JK1eKWLjCccVZl5aIcT4dUqJO0Xwq0ZjiiK2tdgOPMZsyW3\n",
       "KPA3dWQMfNDoKo09ORO16SLjIe9YkXlox8HgUJeE8GOIl6g+ULwAF3l9RYHFhOWFVrP34ayJ2nSR\n",
       "wU5DeeEUKdyNXokMrkAgZ8kC3OW2krMfU+nUjUZJU78vUamLDE5vbFakF09PQseqPyAOVskEKUVQ\n",
       "WYJjmJa8PKai03iheFhegnFHoEoXGZMqCrK7x+YhhOYtCpOcFqGH6iCWBH26KgfoJjyO93waG8dE\n",
       "nj3Q+Er4e/ZowkTtusjgs7HdnI12689LGKB5enowe3oJFkgC6zxY7spVNlnn4zfxz8kS90L31EB6\n",
       "zkLtushY5BI156LdVR8coGyMUlqe4vB65yDvbR7088l91+kxRfgMI7myPil23gOF+JfUKBYQo3Zd\n",
       "ZESpb1y1tqYgX4C8M3vZPsXjc9kRarnenW8EH3Qa6pwo6dZyCw7OnnC3ebP1Y6Z+ZeJlVyPn9h1y\n",
       "dkkf9L3ZARVKusSYgOiUKP0JAW7j1wQWwHym0yyymPgm0KhSoMPp1AcdWi84UNJlRjeEd4mH3WD3\n",
       "HuAtvWy9qMYd+q5PCx90ccSJki4zNNt8YQc8PnVqrP86zw+SzaGki4x/B2bw6qE13FgAAAAASUVO\n",
       "RK5CYII=\n",
       "\" style=\"display:inline;vertical-align:middle;\" /></a>"
      ],
      "text/plain": [
       "(f(x), g(x), P(x), Q(x))"
      ]
     },
     "metadata": {},
     "output_type": "display_data"
    }
   ],
   "source": [
    "from proveit import fx, gx, Px, Qx\n",
    "ExprTuple(fx, gx, Px, Qx)"
   ]
  },
  {
   "cell_type": "markdown",
   "metadata": {},
   "source": [
    "An `Operation` must have a single *operator* that *not* a `Lambda`."
   ]
  },
  {
   "cell_type": "code",
   "execution_count": 43,
   "metadata": {},
   "outputs": [
    {
     "name": "stdout",
     "output_type": "stream",
     "text": [
      "Expected TypeError: An operator may not be an explicit Lambda map like x -> g(x); this is necessary to avoid a Curry's paradox.\n"
     ]
    }
   ],
   "source": [
    "from proveit import Lambda\n",
    "try:\n",
    "    Function(Lambda(x, gx), fx)\n",
    "    assert False, \"Expecting a TypeError; should not make it to this point\"\n",
    "except TypeError as e:\n",
    "    print(\"Expected TypeError: %s\"%str(e))"
   ]
  },
  {
   "cell_type": "markdown",
   "metadata": {},
   "source": [
    "The `operator` and `operands` attributes access the *operator* and *operands* respectively as `ExprTuple`s:"
   ]
  },
  {
   "cell_type": "code",
   "execution_count": 44,
   "metadata": {},
   "outputs": [
    {
     "data": {
      "text/html": [
       "<a class=\"ProveItLink\" href=\"__pv_it/basic_expressions/24e3bd884eb4491d941ad30be1fd76fc379da19e0/expr.ipynb\"><img src=\"data:image/png;base64,iVBORw0KGgoAAAANSUhEUgAAAAsAAAAKBAMAAACQ3rmwAAAAGFBMVEX///8AAAAAAAAAAAAAAAAA\n",
       "AAAAAAAAAABcYkG9AAAAB3RSTlMAqyK73TLN2jnylQAAAAlwSFlzAAAOxAAADsQBlSsOGwAAAC5J\n",
       "REFUCNdjEGJgYFBmYFAJYGByZQBhIAvIDQJygFyXACQKIghVAtUgChRRYwAA0kIF/41Gf3IAAAAA\n",
       "SUVORK5CYII=\n",
       "\" style=\"display:inline;vertical-align:middle;\" /></a>"
      ],
      "text/plain": [
       "*"
      ]
     },
     "metadata": {},
     "output_type": "display_data"
    }
   ],
   "source": [
    "triple_prod.operator"
   ]
  },
  {
   "cell_type": "code",
   "execution_count": 45,
   "metadata": {},
   "outputs": [
    {
     "data": {
      "text/html": [
       "<a class=\"ProveItLink\" href=\"__pv_it/basic_expressions/217e35086171651211a3d165ed2e03c7539270480/expr.ipynb\"><img src=\"data:image/png;base64,iVBORw0KGgoAAAANSUhEUgAAAEMAAAAVBAMAAADvM06qAAAAMFBMVEX///8AAAAAAAAAAAAAAAAA\n",
       "AAAAAAAAAAAAAAAAAAAAAAAAAAAAAAAAAAAAAAAAAAAv3aB7AAAAD3RSTlMAInZUiRDNmWbv3US7\n",
       "qzJazP2FAAAACXBIWXMAAA7EAAAOxAGVKw4bAAABXklEQVQoz4WSP0jDQBSHvzSJSf9JZ6eqQ3EQ\n",
       "CoroZAcRF6F0UIQidRAcOzhUpzq5FnFQXIpuDhJ0FquLkxikS7cuLi6tQtXRe5dkjQ/u5bt7v8t7\n",
       "9+6AHDGmg4linORW3HycgkQT7FqshF1wmvGSY0jGK0iWWfhHMtZkX30qs9srwbkqDWxfk6OGcQOW\n",
       "z57CeuLNaetAaQl3qGlOJF/g1rhSPueOsrrq8eIh2Y6W1MWtgdniQgVwwpPbnJDMC6U9qnCkgkOR\n",
       "EC5LZMSgL2DBvcqrVlqSCB5ydjkossaMhixMYyiJ2eYJql5Pdoko4/OiKdMf/2FDXaLbYR2W3w+4\n",
       "w/6Wv/jpX03WaW/wfCYrJT5gc8psqLZcq812t/CpyX7dcc+lwpRHqh/10dTlWLWIAptQuerRRJXD\n",
       "KlvFgCJrqPEYTSpqXNINKTRDGlmNZpJ5seCFFFpGXqaRj7voSfgDFCNFqSG6KR0AAAAASUVORK5C\n",
       "YII=\n",
       "\" style=\"display:inline;vertical-align:middle;\" /></a>"
      ],
      "text/plain": [
       "(x, y, omega)"
      ]
     },
     "metadata": {},
     "output_type": "display_data"
    }
   ],
   "source": [
    "triple_prod.operands"
   ]
  },
  {
   "cell_type": "markdown",
   "metadata": {},
   "source": [
    "If there is only one *operand*, it may be accessed via the `operand` attributes: "
   ]
  },
  {
   "cell_type": "code",
   "execution_count": 46,
   "metadata": {},
   "outputs": [
    {
     "data": {
      "text/html": [
       "<a class=\"ProveItLink\" href=\"__pv_it/basic_expressions/a0d9d672aa5e272d907247690c152cc2c6daafb70/expr.ipynb\"><img src=\"data:image/png;base64,iVBORw0KGgoAAAANSUhEUgAAAAsAAAAJBAMAAAAWSsseAAAAMFBMVEX///8AAAAAAAAAAAAAAAAA\n",
       "AAAAAAAAAAAAAAAAAAAAAAAAAAAAAAAAAAAAAAAAAAAv3aB7AAAAD3RSTlMAEHarMolUmd1mIs3v\n",
       "RLtmgJDEAAAACXBIWXMAAA7EAAAOxAGVKw4bAAAAQklEQVQI12NgEFIWCU1gYChgMmJvYOBcwPmR\n",
       "eQIDCwP7BgYQ4FEAU/cXMAowyF2wYWBlYMh3rGG4xsAgrsRWmcAAAFEjCyBvD0T9AAAAAElFTkSu\n",
       "QmCC\n",
       "\" style=\"display:inline;vertical-align:middle;\" /></a>"
      ],
      "text/plain": [
       "x"
      ]
     },
     "metadata": {},
     "output_type": "display_data"
    }
   ],
   "source": [
    "fx.operand"
   ]
  },
  {
   "cell_type": "code",
   "execution_count": 47,
   "metadata": {},
   "outputs": [
    {
     "data": {
      "text/plain": [
       "False"
      ]
     },
     "metadata": {},
     "output_type": "display_data"
    }
   ],
   "source": [
    "# An Operation does not have an `operand` attribute\n",
    "# if there is more than one *operand*.\n",
    "hasattr(triple_prod, 'operand')"
   ]
  },
  {
   "cell_type": "markdown",
   "metadata": {},
   "source": [
    "Looking at the expression information, we see that `triple_prod` has `operands` that is an `ExprTuple` but a single `operator` that is a `Literal`."
   ]
  },
  {
   "cell_type": "code",
   "execution_count": 48,
   "metadata": {},
   "outputs": [
    {
     "data": {
      "text/plain": [
       "0. x * y * omega\n",
       "   core type: Operation\n",
       "   operator: 1\n",
       "   operands: 2\n",
       "1. *\n",
       "   core type: Literal\n",
       "   sub-expressions: \n",
       "2. (x, y, omega)\n",
       "   core type: ExprTuple\n",
       "   sub-expressions: 3, 4, 5\n",
       "3. x\n",
       "   core type: Variable\n",
       "   sub-expressions: \n",
       "4. y\n",
       "   core type: Variable\n",
       "   sub-expressions: \n",
       "5. omega\n",
       "   core type: Variable\n",
       "   sub-expressions: "
      ]
     },
     "metadata": {},
     "output_type": "display_data"
    }
   ],
   "source": [
    "triple_prod.expr_info()"
   ]
  },
  {
   "cell_type": "markdown",
   "metadata": {},
   "source": [
    "### Defining an `Operation` sub-class\n",
    "\n",
    "Let's derive a couple of classes from `Operation` to represent operations with specific literal operators.\n",
    "This is commonly done within Prove-It library modules.  We use the `%load` magic command to display (and execute) the contents of <a href=\"demo_operations.py\">demo_operations.py</a>."
   ]
  },
  {
   "cell_type": "code",
   "execution_count": 49,
   "metadata": {},
   "outputs": [],
   "source": [
    "# %load demo_operations.py\n",
    "'''\n",
    "Module that defines a Operations for demonstration\n",
    "purposes in this tutorial.\n",
    "'''\n",
    "\n",
    "from proveit import Operation, Literal\n",
    "\n",
    "\n",
    "class Factorial(Operation):\n",
    "    # _operator_ is a special class variable name, defining specific literal operator of the Operation class.\n",
    "    # It is not only used for default formatting but also when performing\n",
    "    # substitutions for rebuilding expressions.\n",
    "    _operator_ = Literal('!')\n",
    "\n",
    "    def __init__(self, operand, *, styles=None):\n",
    "        # creates the Operation with FACTORIAL as the operator and the provided\n",
    "        # operand as its only operand.\n",
    "        Operation.__init__(self, Factorial._operator_, operand,\n",
    "                           styles=styles)\n",
    "        # self.operand is automatically initialized.\n",
    "\n",
    "    def string(self, **kwargs):  # should accept kwargs even when not used (e.g., 'fence')\n",
    "        # the operand should be fenced (wrapped in parentheses) to prevent\n",
    "        # ambiguity\n",
    "        return self.operand.string(fence=True) + Factorial._operator_.string()\n",
    "\n",
    "    def latex(self, **kwargs):  # should accept kwargs even when not used (e.g., 'fence')\n",
    "        # the operand should be fenced (wrapped in parentheses) to prevent\n",
    "        # ambiguity\n",
    "        return self.operand.latex(fence=True) + Factorial._operator_.latex()\n",
    "\n",
    "\n",
    "class Multiply(Operation):\n",
    "\n",
    "    # This operator Literal has a LaTeX format that differs from the string\n",
    "    # format.\n",
    "    _operator_ = Literal('*', r'\\times')\n",
    "\n",
    "    # takes a list of arguments as the operands\n",
    "    def __init__(self, *operands, styles=None):  \n",
    "        # creates the AssociativeOperation with TIMES as the operator and any\n",
    "        # number of operands.\n",
    "        Operation.__init__(self, Multiply._operator_, operands,\n",
    "                           styles=styles)\n",
    "\n",
    "    # The default formatting will display the operator between the operands\n"
   ]
  },
  {
   "cell_type": "markdown",
   "metadata": {},
   "source": [
    "In order to work properly, however, we need to import these classes from the module (as Prove-It will use the `__file__` attribute of this module for its internal purposes)."
   ]
  },
  {
   "cell_type": "code",
   "execution_count": 50,
   "metadata": {},
   "outputs": [],
   "source": [
    "from demo_operations import Factorial, Multiply"
   ]
  },
  {
   "cell_type": "markdown",
   "metadata": {},
   "source": [
    "A `Factorial` is an `Operation` with \"!\" as the format of the `Literal` operator.  Its formatting is altered from the default but is still true to the core `Expression` structure (the formatting is a reflection of the internal structure)."
   ]
  },
  {
   "cell_type": "code",
   "execution_count": 51,
   "metadata": {},
   "outputs": [
    {
     "data": {
      "text/html": [
       "<strong id=\"x_factorial\">x_factorial:</strong> <a class=\"ProveItLink\" href=\"__pv_it/basic_expressions/16e4be536ec1bea945af9bf50581cd4d68519e110/expr.ipynb\"><img src=\"data:image/png;base64,iVBORw0KGgoAAAANSUhEUgAAABAAAAAPBAMAAAAfXVIcAAAAMFBMVEX///8AAAAAAAAAAAAAAAAA\n",
       "AAAAAAAAAAAAAAAAAAAAAAAAAAAAAAAAAAAAAAAAAAAv3aB7AAAAD3RSTlMAEHarMolUmd1mIs3v\n",
       "RLtmgJDEAAAACXBIWXMAAA7EAAAOxAGVKw4bAAAAZklEQVQI12NggIBmKM31B8pg/AFlMPyGMQ7D\n",
       "GO0MDELKIqEJDFsZGAqYjNgbGCwZOBdwfmSewFDGwMLAvgGoJhaIeRSARBYQ31/AKACk5C7YMLCC\n",
       "DMh3rGG4xsD4m0Fcia0yAWggADlxE5U82JylAAAAAElFTkSuQmCC\n",
       "\" style=\"display:inline;vertical-align:middle;\" /></a><br>"
      ],
      "text/plain": [
       "<IPython.core.display.HTML object>"
      ]
     },
     "metadata": {},
     "output_type": "display_data"
    }
   ],
   "source": [
    "# Now we can make an object with this new class\n",
    "x_factorial = Factorial(x)"
   ]
  },
  {
   "cell_type": "code",
   "execution_count": 52,
   "metadata": {},
   "outputs": [
    {
     "name": "stdout",
     "output_type": "stream",
     "text": [
      "Expression notebook is being updated for !\n"
     ]
    },
    {
     "data": {
      "text/html": [
       "<table><tr><th>&nbsp;</th><th>core type</th><th>sub-expressions</th><th>expression</th></tr>\n",
       "<tr><td>0</td><td>Operation</td><td>operator:&nbsp;1<br>operand:&nbsp;3<br></td><td><a class=\"ProveItLink\" href=\"__pv_it/basic_expressions/16e4be536ec1bea945af9bf50581cd4d68519e110/expr.ipynb\"><img src=\"data:image/png;base64,iVBORw0KGgoAAAANSUhEUgAAABAAAAAPBAMAAAAfXVIcAAAAMFBMVEX///8AAAAAAAAAAAAAAAAA\n",
       "AAAAAAAAAAAAAAAAAAAAAAAAAAAAAAAAAAAAAAAAAAAv3aB7AAAAD3RSTlMAEHarMolUmd1mIs3v\n",
       "RLtmgJDEAAAACXBIWXMAAA7EAAAOxAGVKw4bAAAAZklEQVQI12NggIBmKM31B8pg/AFlMPyGMQ7D\n",
       "GO0MDELKIqEJDFsZGAqYjNgbGCwZOBdwfmSewFDGwMLAvgGoJhaIeRSARBYQ31/AKACk5C7YMLCC\n",
       "DMh3rGG4xsD4m0Fcia0yAWggADlxE5U82JylAAAAAElFTkSuQmCC\n",
       "\" style=\"display:inline;vertical-align:middle;\" /></a></td></tr>\n",
       "<tr><td>1</td><td>Literal</td><td></td><td><a class=\"ProveItLink\" href=\"__pv_it/basic_expressions/fd03761321b547da82c74b2ed8e2f909ca4de7640/expr.ipynb\"><img src=\"data:image/png;base64,iVBORw0KGgoAAAANSUhEUgAAAAMAAAAPBAMAAADTxGj3AAAAJ1BMVEX///8AAAAAAAAAAAAAAAAA\n",
       "AAAAAAAAAAAAAAAAAAAAAAAAAAAAAAAilU6eAAAADHRSTlMA3asi7xDNmYlmVET5xlbrAAAACXBI\n",
       "WXMAAA7EAAAOxAGVKw4bAAAAL0lEQVQI12NgVGCwcWCIEWDgSWBgUWBgLGBga2BgmsDAvoCBYwMD\n",
       "lwEDBMQkAKUAgMYF6UcwT5IAAAAASUVORK5CYII=\n",
       "\" style=\"display:inline;vertical-align:middle;\" /></a></td></tr>\n",
       "<tr><td>2</td><td>ExprTuple</td><td>3</td><td><a class=\"ProveItLink\" href=\"../packages/proveit/__pv_it/common/eacfeccc0521684fcb20fe8f5180ac50fca471f20/expr.ipynb\"><img src=\"data:image/png;base64,iVBORw0KGgoAAAANSUhEUgAAABgAAAAVBAMAAACuxzMVAAAAMFBMVEX///8AAAAAAAAAAAAAAAAA\n",
       "AAAAAAAAAAAAAAAAAAAAAAAAAAAAAAAAAAAAAAAAAAAv3aB7AAAAD3RSTlMAInZUiRDNmWbv3US7\n",
       "qzJazP2FAAAACXBIWXMAAA7EAAAOxAGVKw4bAAAAt0lEQVQY02NgYBBgAANGEMFkAOFwKwAJEwYo\n",
       "0GBgYE2AcdgCGNgbYByOAgZOBjiYymCG4GQwlADJIN04F6CZvkAuA0MB0yX2BQwMbQyLgToFOL7y\n",
       "As2xZJjNwMDHwA42/z2Iw8DACbKdYSdIGQPDfgHWAAYGK4ZDDAwxG24ysACFeoDmMdg/rWTYDOSU\n",
       "MLxiYAhXYq4AOX01A9cDmAMYF4CcBwUgJx+EcWSAOAbGAYkyKkDYTAIMAEI7Hl9jb5QLAAAAAElF\n",
       "TkSuQmCC\n",
       "\" style=\"display:inline;vertical-align:middle;\" /></a></td></tr>\n",
       "<tr><td>3</td><td>Variable</td><td></td><td><a class=\"ProveItLink\" href=\"__pv_it/basic_expressions/a0d9d672aa5e272d907247690c152cc2c6daafb70/expr.ipynb\"><img src=\"data:image/png;base64,iVBORw0KGgoAAAANSUhEUgAAAAsAAAAJBAMAAAAWSsseAAAAMFBMVEX///8AAAAAAAAAAAAAAAAA\n",
       "AAAAAAAAAAAAAAAAAAAAAAAAAAAAAAAAAAAAAAAAAAAv3aB7AAAAD3RSTlMAEHarMolUmd1mIs3v\n",
       "RLtmgJDEAAAACXBIWXMAAA7EAAAOxAGVKw4bAAAAQklEQVQI12NgEFIWCU1gYChgMmJvYOBcwPmR\n",
       "eQIDCwP7BgYQ4FEAU/cXMAowyF2wYWBlYMh3rGG4xsAgrsRWmcAAAFEjCyBvD0T9AAAAAElFTkSu\n",
       "QmCC\n",
       "\" style=\"display:inline;vertical-align:middle;\" /></a></td></tr>\n",
       "</table>\n"
      ],
      "text/plain": [
       "0. x!\n",
       "   core type: Operation\n",
       "   operator: 1\n",
       "   operand: 3\n",
       "1. !\n",
       "   core type: Literal\n",
       "   sub-expressions: \n",
       "2. (x)\n",
       "   core type: ExprTuple\n",
       "   sub-expressions: 3\n",
       "3. x\n",
       "   core type: Variable\n",
       "   sub-expressions: "
      ]
     },
     "metadata": {},
     "output_type": "display_data"
    }
   ],
   "source": [
    "# show core structure\n",
    "x_factorial.expr_info()"
   ]
  },
  {
   "cell_type": "markdown",
   "metadata": {},
   "source": [
    "In the Jupyter notebook setting, we typically only use LaTeX formatting, but it is important to define the string formatting as well for whenever it is needed (e.g., when error messages are displayed).  The `fence=True` above indicates that parentheses should be used when it could be ambiguous otherwise.  Our example above has no ambiguity, so parentheses are not used.  We will show a case below where the parentheses are required."
   ]
  },
  {
   "cell_type": "markdown",
   "metadata": {},
   "source": [
    "Next we consider a multiple *operand* example using the `Multiply` class that we imported from <a href=\"demo_operations.py\">demo_operations.py</a> above."
   ]
  },
  {
   "cell_type": "code",
   "execution_count": 53,
   "metadata": {},
   "outputs": [
    {
     "data": {
      "text/html": [
       "<strong id=\"mult_expr\">mult_expr:</strong> <a class=\"ProveItLink\" href=\"__pv_it/basic_expressions/b8fc6cda29cf486795977f11f56b86d07ccf83b90/expr.ipynb\"><img src=\"data:image/png;base64,iVBORw0KGgoAAAANSUhEUgAAAFYAAAAPBAMAAACM+SX7AAAAMFBMVEX///8AAAAAAAAAAAAAAAAA\n",
       "AAAAAAAAAAAAAAAAAAAAAAAAAAAAAAAAAAAAAAAAAAAv3aB7AAAAD3RSTlMAEHarMolUmd1mIs3v\n",
       "RLtmgJDEAAAACXBIWXMAAA7EAAAOxAGVKw4bAAAA+klEQVQoz2NgwAIcGBgXMBAJzu/uECBWbc+P\n",
       "QGKVMhgwMFBRrRUQr0NRixCBAiFlkdAEEGOFAwNXC1jIUtWEAUWEHYhBrAImI/YGBggHKAkCDxnW\n",
       "X0ARSQNxPjFwLuD8yDwBYoxXC8wyvgYUkQIQEcnAwsC+AaqAq8MBppb9F7II7wUGOQaGWUAWjwKa\n",
       "Wr4NDOxfkEVYGRguMzAEAFn3FzAKoNjI08DA/AFZhJmBQY2BK4BB7oINSB+yT4BcngfIInwOLN8Z\n",
       "pBcw5DvWMFxDDSGuAgYdAWQR1qM2/s9PMjCIK7FVgoOXARSmq8Gs5cWFKCKM73dxnlFgAACsy0F5\n",
       "VzzbhAAAAABJRU5ErkJggg==\n",
       "\" style=\"display:inline;vertical-align:middle;\" /></a><br>"
      ],
      "text/plain": [
       "<IPython.core.display.HTML object>"
      ]
     },
     "metadata": {},
     "output_type": "display_data"
    }
   ],
   "source": [
    "# Demonstrating an Operation with multiple operands\n",
    "mult_expr = Multiply(x, FIVE, omega)"
   ]
  },
  {
   "cell_type": "code",
   "execution_count": 54,
   "metadata": {},
   "outputs": [
    {
     "data": {
      "text/html": [
       "<strong id=\"nested_operation\">nested_operation:</strong> <a class=\"ProveItLink\" href=\"__pv_it/basic_expressions/f3f980d58c42fa2075575b3d003ebb7f2822cb6d0/expr.ipynb\"><img src=\"data:image/png;base64,iVBORw0KGgoAAAANSUhEUgAAAGkAAAAVBAMAAAC3TN2zAAAAMFBMVEX///8AAAAAAAAAAAAAAAAA\n",
       "AAAAAAAAAAAAAAAAAAAAAAAAAAAAAAAAAAAAAAAAAAAv3aB7AAAAD3RSTlMAInZUiRDNmWbv3US7\n",
       "qzJazP2FAAAACXBIWXMAAA7EAAAOxAGVKw4bAAABmUlEQVQ4y5WTP0jDQBTGv9ikSdqkdlIoQuOf\n",
       "xUEoKLoWRHARsqhLoXFQHIOoiCBEHBwN4qA4WHCyQwnuQhXEwcE4CHWRCE4uti6CQ/Hu0mIicciD\n",
       "u3v3u/te3t27AMgihnU39xSiVj0IkdEuSUu5wERkzLOVqh7Feywgb0MwIlUX3zPRKS4D5QpEK3LR\n",
       "/e9g+0CvARnxVLIO2cVkED2SNhBS/ZKOJS2kTKwTTxh6epumKOeBq7HFxsgLQkQkjXq8i2QRq4yM\n",
       "advwMdlG7RZ5J0TG6eQTkAyoFs7JbBcHesMP/VrrpqJUQsSk3SyQsCEWcMpKutnZylW9rkpsBUna\n",
       "QYmGR6YJ3mEq4PCPSjEgtoOEB66AIpHbSGRZhki3MB/KR65AbQaJCgyDI6oES/yGXOG9atMwgbOT\n",
       "0HI9SBQv84UF8jQlhueIvL1opwuhe+ZMjOpBwh89f9wd0+MWUTbwTr61pk3tsXRojfqY17+zESLC\n",
       "w5J0otEH79AqpzzEshzrJTOeassfrmOJuLo/lmKplM4fzmlxVIOs/wEgk2aWkwX8UgAAAABJRU5E\n",
       "rkJggg==\n",
       "\" style=\"display:inline;vertical-align:middle;\" /></a><br>"
      ],
      "text/plain": [
       "<IPython.core.display.HTML object>"
      ]
     },
     "metadata": {},
     "output_type": "display_data"
    }
   ],
   "source": [
    "# Let's nest Operations and show proper fencing behavior\n",
    "nested_operation = Factorial(mult_expr)"
   ]
  },
  {
   "cell_type": "code",
   "execution_count": 55,
   "metadata": {},
   "outputs": [
    {
     "name": "stdout",
     "output_type": "stream",
     "text": [
      "Expression notebook is being updated for *\n"
     ]
    },
    {
     "data": {
      "text/html": [
       "<table><tr><th>&nbsp;</th><th>core type</th><th>sub-expressions</th><th>expression</th></tr>\n",
       "<tr><td>0</td><td>Operation</td><td>operator:&nbsp;1<br>operand:&nbsp;3<br></td><td><a class=\"ProveItLink\" href=\"__pv_it/basic_expressions/f3f980d58c42fa2075575b3d003ebb7f2822cb6d0/expr.ipynb\"><img src=\"data:image/png;base64,iVBORw0KGgoAAAANSUhEUgAAAGkAAAAVBAMAAAC3TN2zAAAAMFBMVEX///8AAAAAAAAAAAAAAAAA\n",
       "AAAAAAAAAAAAAAAAAAAAAAAAAAAAAAAAAAAAAAAAAAAv3aB7AAAAD3RSTlMAInZUiRDNmWbv3US7\n",
       "qzJazP2FAAAACXBIWXMAAA7EAAAOxAGVKw4bAAABmUlEQVQ4y5WTP0jDQBTGv9ikSdqkdlIoQuOf\n",
       "xUEoKLoWRHARsqhLoXFQHIOoiCBEHBwN4qA4WHCyQwnuQhXEwcE4CHWRCE4uti6CQ/Hu0mIicciD\n",
       "u3v3u/te3t27AMgihnU39xSiVj0IkdEuSUu5wERkzLOVqh7Feywgb0MwIlUX3zPRKS4D5QpEK3LR\n",
       "/e9g+0CvARnxVLIO2cVkED2SNhBS/ZKOJS2kTKwTTxh6epumKOeBq7HFxsgLQkQkjXq8i2QRq4yM\n",
       "advwMdlG7RZ5J0TG6eQTkAyoFs7JbBcHesMP/VrrpqJUQsSk3SyQsCEWcMpKutnZylW9rkpsBUna\n",
       "QYmGR6YJ3mEq4PCPSjEgtoOEB66AIpHbSGRZhki3MB/KR65AbQaJCgyDI6oES/yGXOG9atMwgbOT\n",
       "0HI9SBQv84UF8jQlhueIvL1opwuhe+ZMjOpBwh89f9wd0+MWUTbwTr61pk3tsXRojfqY17+zESLC\n",
       "w5J0otEH79AqpzzEshzrJTOeassfrmOJuLo/lmKplM4fzmlxVIOs/wEgk2aWkwX8UgAAAABJRU5E\n",
       "rkJggg==\n",
       "\" style=\"display:inline;vertical-align:middle;\" /></a></td></tr>\n",
       "<tr><td>1</td><td>Literal</td><td></td><td><a class=\"ProveItLink\" href=\"__pv_it/basic_expressions/fd03761321b547da82c74b2ed8e2f909ca4de7640/expr.ipynb\"><img src=\"data:image/png;base64,iVBORw0KGgoAAAANSUhEUgAAAAMAAAAPBAMAAADTxGj3AAAAJ1BMVEX///8AAAAAAAAAAAAAAAAA\n",
       "AAAAAAAAAAAAAAAAAAAAAAAAAAAAAAAilU6eAAAADHRSTlMA3asi7xDNmYlmVET5xlbrAAAACXBI\n",
       "WXMAAA7EAAAOxAGVKw4bAAAAL0lEQVQI12NgVGCwcWCIEWDgSWBgUWBgLGBga2BgmsDAvoCBYwMD\n",
       "lwEDBMQkAKUAgMYF6UcwT5IAAAAASUVORK5CYII=\n",
       "\" style=\"display:inline;vertical-align:middle;\" /></a></td></tr>\n",
       "<tr><td>2</td><td>ExprTuple</td><td>3</td><td><a class=\"ProveItLink\" href=\"__pv_it/basic_expressions/1e87e8ea44b7d85842f20e5819c1d6ca4bf5e26c0/expr.ipynb\"><img src=\"data:image/png;base64,iVBORw0KGgoAAAANSUhEUgAAAGMAAAAVBAMAAACgbk16AAAAMFBMVEX///8AAAAAAAAAAAAAAAAA\n",
       "AAAAAAAAAAAAAAAAAAAAAAAAAAAAAAAAAAAAAAAAAAAv3aB7AAAAD3RSTlMAInZUiRDNmWbv3US7\n",
       "qzJazP2FAAAACXBIWXMAAA7EAAAOxAGVKw4bAAABd0lEQVQ4y5WTP0jDUBDGf2kbk9S0dFIogvXP\n",
       "4iAIiqsdFFyE4qBLkToojhkU6iDUybWDg+JgwckOJegsVkEcrU52kTi4uFgFERzE91KLicQhB/dy\n",
       "9919x93lPSBFCHGTI2NBIQc1sNSJPCYCqx2uVnNBeKQEaiGQcvw5E9zZCmilwEjjv2F2wCAcxcgx\n",
       "6fVvhfb5KL/Ij3SVWBef+dGlaXdvaQel5kbuhx/wIZpQacUarAnTitxpFdqYyJFyRb/tQ8al8wZ6\n",
       "gSNxpvT3RHsL6cdapwOz4kMsecxCtMwBJNE6m1aqToeivXqRbps8bIvklqSINWT+UMwC2pcXicEZ\n",
       "ZAW3LBuD85Sa87VhVEi0vEgChlAEJVrhEvJ2U1bxDitco+5FTCf5wYK4dnqdOZh62uTUv1LFYiTn\n",
       "RWK7zZfrPTlilmdYHIwW29dZ/ose1+rd2vAh6s2yvi8njtvEHUJJWvRmhaMUhV6EYihyKflQFFO+\n",
       "VSUThjIA39xCXbwhEhETAAAAAElFTkSuQmCC\n",
       "\" style=\"display:inline;vertical-align:middle;\" /></a></td></tr>\n",
       "<tr><td>3</td><td>Operation</td><td>operator:&nbsp;4<br>operands:&nbsp;5<br></td><td><a class=\"ProveItLink\" href=\"__pv_it/basic_expressions/b8fc6cda29cf486795977f11f56b86d07ccf83b90/expr.ipynb\"><img src=\"data:image/png;base64,iVBORw0KGgoAAAANSUhEUgAAAFYAAAAPBAMAAACM+SX7AAAAMFBMVEX///8AAAAAAAAAAAAAAAAA\n",
       "AAAAAAAAAAAAAAAAAAAAAAAAAAAAAAAAAAAAAAAAAAAv3aB7AAAAD3RSTlMAEHarMolUmd1mIs3v\n",
       "RLtmgJDEAAAACXBIWXMAAA7EAAAOxAGVKw4bAAAA+klEQVQoz2NgwAIcGBgXMBAJzu/uECBWbc+P\n",
       "QGKVMhgwMFBRrRUQr0NRixCBAiFlkdAEEGOFAwNXC1jIUtWEAUWEHYhBrAImI/YGBggHKAkCDxnW\n",
       "X0ARSQNxPjFwLuD8yDwBYoxXC8wyvgYUkQIQEcnAwsC+AaqAq8MBppb9F7II7wUGOQaGWUAWjwKa\n",
       "Wr4NDOxfkEVYGRguMzAEAFn3FzAKoNjI08DA/AFZhJmBQY2BK4BB7oINSB+yT4BcngfIInwOLN8Z\n",
       "pBcw5DvWMFxDDSGuAgYdAWQR1qM2/s9PMjCIK7FVgoOXARSmq8Gs5cWFKCKM73dxnlFgAACsy0F5\n",
       "VzzbhAAAAABJRU5ErkJggg==\n",
       "\" style=\"display:inline;vertical-align:middle;\" /></a></td></tr>\n",
       "<tr><td>4</td><td>Literal</td><td></td><td><a class=\"ProveItLink\" href=\"__pv_it/basic_expressions/24e3bd884eb4491d941ad30be1fd76fc379da19e0/expr.ipynb\"><img src=\"data:image/png;base64,iVBORw0KGgoAAAANSUhEUgAAAAsAAAAKBAMAAACQ3rmwAAAAGFBMVEX///8AAAAAAAAAAAAAAAAA\n",
       "AAAAAAAAAABcYkG9AAAAB3RSTlMAqyK73TLN2jnylQAAAAlwSFlzAAAOxAAADsQBlSsOGwAAAC5J\n",
       "REFUCNdjEGJgYFBmYFAJYGByZQBhIAvIDQJygFyXACQKIghVAtUgChRRYwAA0kIF/41Gf3IAAAAA\n",
       "SUVORK5CYII=\n",
       "\" style=\"display:inline;vertical-align:middle;\" /></a></td></tr>\n",
       "<tr><td>5</td><td>ExprTuple</td><td>6, 7, 8</td><td><a class=\"ProveItLink\" href=\"__pv_it/basic_expressions/fbe3a8114641afe5654690102cd57f822e5c771a0/expr.ipynb\"><img src=\"data:image/png;base64,iVBORw0KGgoAAAANSUhEUgAAAEMAAAAVBAMAAADvM06qAAAAMFBMVEX///8AAAAAAAAAAAAAAAAA\n",
       "AAAAAAAAAAAAAAAAAAAAAAAAAAAAAAAAAAAAAAAAAAAv3aB7AAAAD3RSTlMAInZUiRDNmWbv3US7\n",
       "qzJazP2FAAAACXBIWXMAAA7EAAAOxAGVKw4bAAABcElEQVQoz2NgYBBgwAPAkkwGyEIPGFhRtGwC\n",
       "ESYouuanrQpA5jM1MDCwJqAoWfnLFdWmVAYG9gYUkQvojmlnYOBkwK+EM4DBjIAStgaGEiDFqnT1\n",
       "iTNE5IbKPQiDHYgZ1zEwsFxgyABzdRWqIDJHGeQ3gBnGICWfGBg4EhgWA5mNDP0BN2Am8ywAUwUg\n",
       "woOBgXkCw2xweJUhLGf/CCK5NzDEgPQy8H0AK2FgmAQzIoGB/R+IwcLAsJeBwQGodgLYIgbujwyh\n",
       "EC8uYOD9AGLwMjAoMzAClTAvYDgE9NBp3glADawQzZwHGIBRwPOA7ztDGDC6OA4w+AIV/gufwG3A\n",
       "EA+MCsYCBs0A1m9AtVNuvj8+A+Q0B4ZXQFOKFMybGRi4lgJFxGtLGRiAMcl6PpFjpgJQgGsDA9cD\n",
       "uF9MYQxmpMiWAtpVAOc5wBgsSBFQAcQHYRxWBRgrCKGC8QCQiIGnHri4AkIJDygNMirgS7uKDAwA\n",
       "Sc5GhdMw91QAAAAASUVORK5CYII=\n",
       "\" style=\"display:inline;vertical-align:middle;\" /></a></td></tr>\n",
       "<tr><td>6</td><td>Variable</td><td></td><td><a class=\"ProveItLink\" href=\"__pv_it/basic_expressions/a0d9d672aa5e272d907247690c152cc2c6daafb70/expr.ipynb\"><img src=\"data:image/png;base64,iVBORw0KGgoAAAANSUhEUgAAAAsAAAAJBAMAAAAWSsseAAAAMFBMVEX///8AAAAAAAAAAAAAAAAA\n",
       "AAAAAAAAAAAAAAAAAAAAAAAAAAAAAAAAAAAAAAAAAAAv3aB7AAAAD3RSTlMAEHarMolUmd1mIs3v\n",
       "RLtmgJDEAAAACXBIWXMAAA7EAAAOxAGVKw4bAAAAQklEQVQI12NgEFIWCU1gYChgMmJvYOBcwPmR\n",
       "eQIDCwP7BgYQ4FEAU/cXMAowyF2wYWBlYMh3rGG4xsAgrsRWmcAAAFEjCyBvD0T9AAAAAElFTkSu\n",
       "QmCC\n",
       "\" style=\"display:inline;vertical-align:middle;\" /></a></td></tr>\n",
       "<tr><td>7</td><td>Literal</td><td></td><td><a class=\"ProveItLink\" href=\"__pv_it/basic_expressions/53d2dd3f57dfef2aa6ec32670440c9b3957640bf0/expr.ipynb\"><img src=\"data:image/png;base64,iVBORw0KGgoAAAANSUhEUgAAAAkAAAAPBAMAAADE5vg+AAAALVBMVEX///8AAAAAAAAAAAAAAAAA\n",
       "AAAAAAAAAAAAAAAAAAAAAAAAAAAAAAAAAAAAAADAOrOgAAAADnRSTlMAMhAi783diatmdrtEme/i\n",
       "v0YAAAAJcEhZcwAADsQAAA7EAZUrDhsAAABNSURBVAjXY2BkYFBmYGB5GpbEwMDml67AwMDBAAIo\n",
       "5KwKAQYGbgXmN2DuNjB5z4BhK5AUYHBjYOhjYChgYPBmYLBl4HJiYGC+26vAAADU3wwJQ/EKOgAA\n",
       "AABJRU5ErkJggg==\n",
       "\" style=\"display:inline;vertical-align:middle;\" /></a></td></tr>\n",
       "<tr><td>8</td><td>Variable</td><td></td><td><a class=\"ProveItLink\" href=\"__pv_it/basic_expressions/2e5b33f8f44527195a10b6078888697e89a14e8e0/expr.ipynb\"><img src=\"data:image/png;base64,iVBORw0KGgoAAAANSUhEUgAAAA0AAAAJBAMAAAAbVLtZAAAAMFBMVEX///8AAAAAAAAAAAAAAAAA\n",
       "AAAAAAAAAAAAAAAAAAAAAAAAAAAAAAAAAAAAAAAAAAAv3aB7AAAAD3RSTlMAmSLdMlR2iWZEELur\n",
       "ze8/xV5QAAAACXBIWXMAAA7EAAAOxAGVKw4bAAAATklEQVQI12NgEGBgYFB2YGANANL6CQyMQIqB\n",
       "vYFhJgPXBgYOBYYCBs4DDOwMDAcY2AIY1BkYtjD4C3BdYmCoq3nyW66BgWH1X4W+ZwwMAGWFDnrb\n",
       "bYx6AAAAAElFTkSuQmCC\n",
       "\" style=\"display:inline;vertical-align:middle;\" /></a></td></tr>\n",
       "</table>\n"
      ],
      "text/plain": [
       "0. (x * 5 * omega)!\n",
       "   core type: Operation\n",
       "   operator: 1\n",
       "   operand: 3\n",
       "1. !\n",
       "   core type: Literal\n",
       "   sub-expressions: \n",
       "2. (x * 5 * omega)\n",
       "   core type: ExprTuple\n",
       "   sub-expressions: 3\n",
       "3. x * 5 * omega\n",
       "   core type: Operation\n",
       "   operator: 4\n",
       "   operands: 5\n",
       "4. *\n",
       "   core type: Literal\n",
       "   sub-expressions: \n",
       "5. (x, 5, omega)\n",
       "   core type: ExprTuple\n",
       "   sub-expressions: 6, 7, 8\n",
       "6. x\n",
       "   core type: Variable\n",
       "   sub-expressions: \n",
       "7. 5\n",
       "   core type: Literal\n",
       "   sub-expressions: \n",
       "8. omega\n",
       "   core type: Variable\n",
       "   sub-expressions: "
      ]
     },
     "metadata": {},
     "output_type": "display_data"
    }
   ],
   "source": [
    "nested_operation.expr_info()"
   ]
  },
  {
   "cell_type": "markdown",
   "metadata": {},
   "source": [
    "### Operand substitution\n",
    "\n",
    "*Substitution* of *operands* is straightforward in the way it works."
   ]
  },
  {
   "cell_type": "code",
   "execution_count": 56,
   "metadata": {},
   "outputs": [
    {
     "data": {
      "text/html": [
       "<a class=\"ProveItLink\" href=\"__pv_it/basic_expressions/36fa7e8b7c26e40949afbaf440db8a7be37711f60/expr.ipynb\"><img src=\"data:image/png;base64,iVBORw0KGgoAAAANSUhEUgAAABIAAAAPBAMAAAAbqIIhAAAAMFBMVEX///8AAAAAAAAAAAAAAAAA\n",
       "AAAAAAAAAAAAAAAAAAAAAAAAAAAAAAAAAAAAAAAAAAAv3aB7AAAAD3RSTlMAmSLdMlR2iWZEELur\n",
       "ze8/xV5QAAAACXBIWXMAAA7EAAAOxAGVKw4bAAAAbklEQVQI12NggAIbGIPpH4zF9RnGYvgLZ72B\n",
       "swwZGASAlLIDw3UG1gAgSz+B4QQDI0iKvYFBlGEmA9cGBg4FhkqGAgbOAwzsDAxBDAcY2AIY1EFK\n",
       "tjD4C3BdArHqap78lmtg4PrLsPqvQt8zkMkAdQwWhNOs67QAAAAASUVORK5CYII=\n",
       "\" style=\"display:inline;vertical-align:middle;\" /></a>"
      ],
      "text/plain": [
       "omega!"
      ]
     },
     "metadata": {},
     "output_type": "display_data"
    }
   ],
   "source": [
    "x_factorial.basic_replaced({x:omega})"
   ]
  },
  {
   "cell_type": "markdown",
   "metadata": {},
   "source": [
    "Notice that the substituted() method is non-mutating, leaving the **x_factorial** expression as it was originally defined:"
   ]
  },
  {
   "cell_type": "code",
   "execution_count": 57,
   "metadata": {},
   "outputs": [
    {
     "data": {
      "text/html": [
       "<a class=\"ProveItLink\" href=\"__pv_it/basic_expressions/16e4be536ec1bea945af9bf50581cd4d68519e110/expr.ipynb\"><img src=\"data:image/png;base64,iVBORw0KGgoAAAANSUhEUgAAABAAAAAPBAMAAAAfXVIcAAAAMFBMVEX///8AAAAAAAAAAAAAAAAA\n",
       "AAAAAAAAAAAAAAAAAAAAAAAAAAAAAAAAAAAAAAAAAAAv3aB7AAAAD3RSTlMAEHarMolUmd1mIs3v\n",
       "RLtmgJDEAAAACXBIWXMAAA7EAAAOxAGVKw4bAAAAZklEQVQI12NggIBmKM31B8pg/AFlMPyGMQ7D\n",
       "GO0MDELKIqEJDFsZGAqYjNgbGCwZOBdwfmSewFDGwMLAvgGoJhaIeRSARBYQ31/AKACk5C7YMLCC\n",
       "DMh3rGG4xsD4m0Fcia0yAWggADlxE5U82JylAAAAAElFTkSuQmCC\n",
       "\" style=\"display:inline;vertical-align:middle;\" /></a>"
      ],
      "text/plain": [
       "x!"
      ]
     },
     "metadata": {},
     "output_type": "display_data"
    }
   ],
   "source": [
    "x_factorial"
   ]
  },
  {
   "cell_type": "markdown",
   "metadata": {},
   "source": [
    "We can also substitute an entire expression in for the variable $x$:"
   ]
  },
  {
   "cell_type": "code",
   "execution_count": 58,
   "metadata": {},
   "outputs": [
    {
     "data": {
      "text/html": [
       "<strong id=\"nested_operation_from_sub\">nested_operation_from_sub:</strong> <a class=\"ProveItLink\" href=\"__pv_it/basic_expressions/f3f980d58c42fa2075575b3d003ebb7f2822cb6d0/expr.ipynb\"><img src=\"data:image/png;base64,iVBORw0KGgoAAAANSUhEUgAAAGkAAAAVBAMAAAC3TN2zAAAAMFBMVEX///8AAAAAAAAAAAAAAAAA\n",
       "AAAAAAAAAAAAAAAAAAAAAAAAAAAAAAAAAAAAAAAAAAAv3aB7AAAAD3RSTlMAInZUiRDNmWbv3US7\n",
       "qzJazP2FAAAACXBIWXMAAA7EAAAOxAGVKw4bAAABmUlEQVQ4y5WTP0jDQBTGv9ikSdqkdlIoQuOf\n",
       "xUEoKLoWRHARsqhLoXFQHIOoiCBEHBwN4qA4WHCyQwnuQhXEwcE4CHWRCE4uti6CQ/Hu0mIicciD\n",
       "u3v3u/te3t27AMgihnU39xSiVj0IkdEuSUu5wERkzLOVqh7Feywgb0MwIlUX3zPRKS4D5QpEK3LR\n",
       "/e9g+0CvARnxVLIO2cVkED2SNhBS/ZKOJS2kTKwTTxh6epumKOeBq7HFxsgLQkQkjXq8i2QRq4yM\n",
       "advwMdlG7RZ5J0TG6eQTkAyoFs7JbBcHesMP/VrrpqJUQsSk3SyQsCEWcMpKutnZylW9rkpsBUna\n",
       "QYmGR6YJ3mEq4PCPSjEgtoOEB66AIpHbSGRZhki3MB/KR65AbQaJCgyDI6oES/yGXOG9atMwgbOT\n",
       "0HI9SBQv84UF8jQlhueIvL1opwuhe+ZMjOpBwh89f9wd0+MWUTbwTr61pk3tsXRojfqY17+zESLC\n",
       "w5J0otEH79AqpzzEshzrJTOeassfrmOJuLo/lmKplM4fzmlxVIOs/wEgk2aWkwX8UgAAAABJRU5E\n",
       "rkJggg==\n",
       "\" style=\"display:inline;vertical-align:middle;\" /></a><br>"
      ],
      "text/plain": [
       "<IPython.core.display.HTML object>"
      ]
     },
     "metadata": {},
     "output_type": "display_data"
    }
   ],
   "source": [
    "nested_operation_from_sub = x_factorial.basic_replaced({x:mult_expr})"
   ]
  },
  {
   "cell_type": "markdown",
   "metadata": {},
   "source": [
    "Internally, however, there is specific machinery required to regenerate these objects and construct them with the proper classes.  In order for this machinery to work, the `_operator_` class attribute must be properly defined (e.g., `Factorial._operator_` and `Multiply._operator_`).  To demonstrate that this is working properly, note that the classes displayed in the detailed expression info from `expr_info()` are as they should be:"
   ]
  },
  {
   "cell_type": "code",
   "execution_count": 59,
   "metadata": {},
   "outputs": [
    {
     "data": {
      "text/html": [
       "<table><tr><th>&nbsp;</th><th>core type</th><th>sub-expressions</th><th>expression</th></tr>\n",
       "<tr><td>0</td><td>Operation</td><td>operator:&nbsp;1<br>operand:&nbsp;3<br></td><td><a class=\"ProveItLink\" href=\"__pv_it/basic_expressions/f3f980d58c42fa2075575b3d003ebb7f2822cb6d0/expr.ipynb\"><img src=\"data:image/png;base64,iVBORw0KGgoAAAANSUhEUgAAAGkAAAAVBAMAAAC3TN2zAAAAMFBMVEX///8AAAAAAAAAAAAAAAAA\n",
       "AAAAAAAAAAAAAAAAAAAAAAAAAAAAAAAAAAAAAAAAAAAv3aB7AAAAD3RSTlMAInZUiRDNmWbv3US7\n",
       "qzJazP2FAAAACXBIWXMAAA7EAAAOxAGVKw4bAAABmUlEQVQ4y5WTP0jDQBTGv9ikSdqkdlIoQuOf\n",
       "xUEoKLoWRHARsqhLoXFQHIOoiCBEHBwN4qA4WHCyQwnuQhXEwcE4CHWRCE4uti6CQ/Hu0mIicciD\n",
       "u3v3u/te3t27AMgihnU39xSiVj0IkdEuSUu5wERkzLOVqh7Feywgb0MwIlUX3zPRKS4D5QpEK3LR\n",
       "/e9g+0CvARnxVLIO2cVkED2SNhBS/ZKOJS2kTKwTTxh6epumKOeBq7HFxsgLQkQkjXq8i2QRq4yM\n",
       "advwMdlG7RZ5J0TG6eQTkAyoFs7JbBcHesMP/VrrpqJUQsSk3SyQsCEWcMpKutnZylW9rkpsBUna\n",
       "QYmGR6YJ3mEq4PCPSjEgtoOEB66AIpHbSGRZhki3MB/KR65AbQaJCgyDI6oES/yGXOG9atMwgbOT\n",
       "0HI9SBQv84UF8jQlhueIvL1opwuhe+ZMjOpBwh89f9wd0+MWUTbwTr61pk3tsXRojfqY17+zESLC\n",
       "w5J0otEH79AqpzzEshzrJTOeassfrmOJuLo/lmKplM4fzmlxVIOs/wEgk2aWkwX8UgAAAABJRU5E\n",
       "rkJggg==\n",
       "\" style=\"display:inline;vertical-align:middle;\" /></a></td></tr>\n",
       "<tr><td colspan=4 style=\"text-align:left\"><strong>class:</strong> tutorial.demo_operations.Factorial</td></tr>\n",
       "<tr><td>1</td><td>Literal</td><td></td><td><a class=\"ProveItLink\" href=\"__pv_it/basic_expressions/fd03761321b547da82c74b2ed8e2f909ca4de7640/expr.ipynb\"><img src=\"data:image/png;base64,iVBORw0KGgoAAAANSUhEUgAAAAMAAAAPBAMAAADTxGj3AAAAJ1BMVEX///8AAAAAAAAAAAAAAAAA\n",
       "AAAAAAAAAAAAAAAAAAAAAAAAAAAAAAAilU6eAAAADHRSTlMA3asi7xDNmYlmVET5xlbrAAAACXBI\n",
       "WXMAAA7EAAAOxAGVKw4bAAAAL0lEQVQI12NgVGCwcWCIEWDgSWBgUWBgLGBga2BgmsDAvoCBYwMD\n",
       "lwEDBMQkAKUAgMYF6UcwT5IAAAAASUVORK5CYII=\n",
       "\" style=\"display:inline;vertical-align:middle;\" /></a></td></tr>\n",
       "<tr><td colspan=4 style=\"text-align:left\"><strong>theory:</strong> tutorial</td></tr>\n",
       "<tr><td>2</td><td>ExprTuple</td><td>3</td><td><a class=\"ProveItLink\" href=\"__pv_it/basic_expressions/1e87e8ea44b7d85842f20e5819c1d6ca4bf5e26c0/expr.ipynb\"><img src=\"data:image/png;base64,iVBORw0KGgoAAAANSUhEUgAAAGMAAAAVBAMAAACgbk16AAAAMFBMVEX///8AAAAAAAAAAAAAAAAA\n",
       "AAAAAAAAAAAAAAAAAAAAAAAAAAAAAAAAAAAAAAAAAAAv3aB7AAAAD3RSTlMAInZUiRDNmWbv3US7\n",
       "qzJazP2FAAAACXBIWXMAAA7EAAAOxAGVKw4bAAABd0lEQVQ4y5WTP0jDUBDGf2kbk9S0dFIogvXP\n",
       "4iAIiqsdFFyE4qBLkToojhkU6iDUybWDg+JgwckOJegsVkEcrU52kTi4uFgFERzE91KLicQhB/dy\n",
       "9919x93lPSBFCHGTI2NBIQc1sNSJPCYCqx2uVnNBeKQEaiGQcvw5E9zZCmilwEjjv2F2wCAcxcgx\n",
       "6fVvhfb5KL/Ij3SVWBef+dGlaXdvaQel5kbuhx/wIZpQacUarAnTitxpFdqYyJFyRb/tQ8al8wZ6\n",
       "gSNxpvT3RHsL6cdapwOz4kMsecxCtMwBJNE6m1aqToeivXqRbps8bIvklqSINWT+UMwC2pcXicEZ\n",
       "ZAW3LBuD85Sa87VhVEi0vEgChlAEJVrhEvJ2U1bxDitco+5FTCf5wYK4dnqdOZh62uTUv1LFYiTn\n",
       "RWK7zZfrPTlilmdYHIwW29dZ/ose1+rd2vAh6s2yvi8njtvEHUJJWvRmhaMUhV6EYihyKflQFFO+\n",
       "VSUThjIA39xCXbwhEhETAAAAAElFTkSuQmCC\n",
       "\" style=\"display:inline;vertical-align:middle;\" /></a></td></tr>\n",
       "<tr><td>3</td><td>Operation</td><td>operator:&nbsp;4<br>operands:&nbsp;5<br></td><td><a class=\"ProveItLink\" href=\"__pv_it/basic_expressions/b8fc6cda29cf486795977f11f56b86d07ccf83b90/expr.ipynb\"><img src=\"data:image/png;base64,iVBORw0KGgoAAAANSUhEUgAAAFYAAAAPBAMAAACM+SX7AAAAMFBMVEX///8AAAAAAAAAAAAAAAAA\n",
       "AAAAAAAAAAAAAAAAAAAAAAAAAAAAAAAAAAAAAAAAAAAv3aB7AAAAD3RSTlMAEHarMolUmd1mIs3v\n",
       "RLtmgJDEAAAACXBIWXMAAA7EAAAOxAGVKw4bAAAA+klEQVQoz2NgwAIcGBgXMBAJzu/uECBWbc+P\n",
       "QGKVMhgwMFBRrRUQr0NRixCBAiFlkdAEEGOFAwNXC1jIUtWEAUWEHYhBrAImI/YGBggHKAkCDxnW\n",
       "X0ARSQNxPjFwLuD8yDwBYoxXC8wyvgYUkQIQEcnAwsC+AaqAq8MBppb9F7II7wUGOQaGWUAWjwKa\n",
       "Wr4NDOxfkEVYGRguMzAEAFn3FzAKoNjI08DA/AFZhJmBQY2BK4BB7oINSB+yT4BcngfIInwOLN8Z\n",
       "pBcw5DvWMFxDDSGuAgYdAWQR1qM2/s9PMjCIK7FVgoOXARSmq8Gs5cWFKCKM73dxnlFgAACsy0F5\n",
       "VzzbhAAAAABJRU5ErkJggg==\n",
       "\" style=\"display:inline;vertical-align:middle;\" /></a></td></tr>\n",
       "<tr><td colspan=4 style=\"text-align:left\"><strong>class:</strong> tutorial.demo_operations.Multiply</td></tr>\n",
       "<tr><td>4</td><td>Literal</td><td></td><td><a class=\"ProveItLink\" href=\"__pv_it/basic_expressions/24e3bd884eb4491d941ad30be1fd76fc379da19e0/expr.ipynb\"><img src=\"data:image/png;base64,iVBORw0KGgoAAAANSUhEUgAAAAsAAAAKBAMAAACQ3rmwAAAAGFBMVEX///8AAAAAAAAAAAAAAAAA\n",
       "AAAAAAAAAABcYkG9AAAAB3RSTlMAqyK73TLN2jnylQAAAAlwSFlzAAAOxAAADsQBlSsOGwAAAC5J\n",
       "REFUCNdjEGJgYFBmYFAJYGByZQBhIAvIDQJygFyXACQKIghVAtUgChRRYwAA0kIF/41Gf3IAAAAA\n",
       "SUVORK5CYII=\n",
       "\" style=\"display:inline;vertical-align:middle;\" /></a></td></tr>\n",
       "<tr><td colspan=4 style=\"text-align:left\"><strong>theory:</strong> tutorial</td></tr>\n",
       "<tr><td>5</td><td>ExprTuple</td><td>6, 7, 8</td><td><a class=\"ProveItLink\" href=\"__pv_it/basic_expressions/fbe3a8114641afe5654690102cd57f822e5c771a0/expr.ipynb\"><img src=\"data:image/png;base64,iVBORw0KGgoAAAANSUhEUgAAAEMAAAAVBAMAAADvM06qAAAAMFBMVEX///8AAAAAAAAAAAAAAAAA\n",
       "AAAAAAAAAAAAAAAAAAAAAAAAAAAAAAAAAAAAAAAAAAAv3aB7AAAAD3RSTlMAInZUiRDNmWbv3US7\n",
       "qzJazP2FAAAACXBIWXMAAA7EAAAOxAGVKw4bAAABcElEQVQoz2NgYBBgwAPAkkwGyEIPGFhRtGwC\n",
       "ESYouuanrQpA5jM1MDCwJqAoWfnLFdWmVAYG9gYUkQvojmlnYOBkwK+EM4DBjIAStgaGEiDFqnT1\n",
       "iTNE5IbKPQiDHYgZ1zEwsFxgyABzdRWqIDJHGeQ3gBnGICWfGBg4EhgWA5mNDP0BN2Am8ywAUwUg\n",
       "woOBgXkCw2xweJUhLGf/CCK5NzDEgPQy8H0AK2FgmAQzIoGB/R+IwcLAsJeBwQGodgLYIgbujwyh\n",
       "EC8uYOD9AGLwMjAoMzAClTAvYDgE9NBp3glADawQzZwHGIBRwPOA7ztDGDC6OA4w+AIV/gufwG3A\n",
       "EA+MCsYCBs0A1m9AtVNuvj8+A+Q0B4ZXQFOKFMybGRi4lgJFxGtLGRiAMcl6PpFjpgJQgGsDA9cD\n",
       "uF9MYQxmpMiWAtpVAOc5wBgsSBFQAcQHYRxWBRgrCKGC8QCQiIGnHri4AkIJDygNMirgS7uKDAwA\n",
       "Sc5GhdMw91QAAAAASUVORK5CYII=\n",
       "\" style=\"display:inline;vertical-align:middle;\" /></a></td></tr>\n",
       "<tr><td>6</td><td>Variable</td><td></td><td><a class=\"ProveItLink\" href=\"__pv_it/basic_expressions/a0d9d672aa5e272d907247690c152cc2c6daafb70/expr.ipynb\"><img src=\"data:image/png;base64,iVBORw0KGgoAAAANSUhEUgAAAAsAAAAJBAMAAAAWSsseAAAAMFBMVEX///8AAAAAAAAAAAAAAAAA\n",
       "AAAAAAAAAAAAAAAAAAAAAAAAAAAAAAAAAAAAAAAAAAAv3aB7AAAAD3RSTlMAEHarMolUmd1mIs3v\n",
       "RLtmgJDEAAAACXBIWXMAAA7EAAAOxAGVKw4bAAAAQklEQVQI12NgEFIWCU1gYChgMmJvYOBcwPmR\n",
       "eQIDCwP7BgYQ4FEAU/cXMAowyF2wYWBlYMh3rGG4xsAgrsRWmcAAAFEjCyBvD0T9AAAAAElFTkSu\n",
       "QmCC\n",
       "\" style=\"display:inline;vertical-align:middle;\" /></a></td></tr>\n",
       "<tr><td>7</td><td>Literal</td><td></td><td><a class=\"ProveItLink\" href=\"__pv_it/basic_expressions/53d2dd3f57dfef2aa6ec32670440c9b3957640bf0/expr.ipynb\"><img src=\"data:image/png;base64,iVBORw0KGgoAAAANSUhEUgAAAAkAAAAPBAMAAADE5vg+AAAALVBMVEX///8AAAAAAAAAAAAAAAAA\n",
       "AAAAAAAAAAAAAAAAAAAAAAAAAAAAAAAAAAAAAADAOrOgAAAADnRSTlMAMhAi783diatmdrtEme/i\n",
       "v0YAAAAJcEhZcwAADsQAAA7EAZUrDhsAAABNSURBVAjXY2BkYFBmYGB5GpbEwMDml67AwMDBAAIo\n",
       "5KwKAQYGbgXmN2DuNjB5z4BhK5AUYHBjYOhjYChgYPBmYLBl4HJiYGC+26vAAADU3wwJQ/EKOgAA\n",
       "AABJRU5ErkJggg==\n",
       "\" style=\"display:inline;vertical-align:middle;\" /></a></td></tr>\n",
       "<tr><td colspan=4 style=\"text-align:left\"><strong>theory:</strong> tutorial</td></tr>\n",
       "<tr><td>8</td><td>Variable</td><td></td><td><a class=\"ProveItLink\" href=\"__pv_it/basic_expressions/2e5b33f8f44527195a10b6078888697e89a14e8e0/expr.ipynb\"><img src=\"data:image/png;base64,iVBORw0KGgoAAAANSUhEUgAAAA0AAAAJBAMAAAAbVLtZAAAAMFBMVEX///8AAAAAAAAAAAAAAAAA\n",
       "AAAAAAAAAAAAAAAAAAAAAAAAAAAAAAAAAAAAAAAAAAAv3aB7AAAAD3RSTlMAmSLdMlR2iWZEELur\n",
       "ze8/xV5QAAAACXBIWXMAAA7EAAAOxAGVKw4bAAAATklEQVQI12NgEGBgYFB2YGANANL6CQyMQIqB\n",
       "vYFhJgPXBgYOBYYCBs4DDOwMDAcY2AIY1BkYtjD4C3BdYmCoq3nyW66BgWH1X4W+ZwwMAGWFDnrb\n",
       "bYx6AAAAAElFTkSuQmCC\n",
       "\" style=\"display:inline;vertical-align:middle;\" /></a></td></tr>\n",
       "</table>\n"
      ],
      "text/plain": [
       "0. (x * 5 * omega)!\n",
       "   core type: Operation\n",
       "   class: <class 'demo_operations.Factorial'>\n",
       "   operator: 1\n",
       "   operand: 3\n",
       "1. !\n",
       "   core type: Literal\n",
       "   latex_format: !\n",
       "   theory: tutorial\n",
       "   class: <class 'proveit._core_.expression.label.literal.Literal'>\n",
       "   sub-expressions: \n",
       "2. (x * 5 * omega)\n",
       "   core type: ExprTuple\n",
       "   class: <class 'proveit._core_.expression.composite.expr_tuple.ExprTuple'>\n",
       "   sub-expressions: 3\n",
       "3. x * 5 * omega\n",
       "   core type: Operation\n",
       "   class: <class 'demo_operations.Multiply'>\n",
       "   operator: 4\n",
       "   operands: 5\n",
       "4. *\n",
       "   core type: Literal\n",
       "   latex_format: \\times\n",
       "   theory: tutorial\n",
       "   class: <class 'proveit._core_.expression.label.literal.Literal'>\n",
       "   sub-expressions: \n",
       "5. (x, 5, omega)\n",
       "   core type: ExprTuple\n",
       "   class: <class 'proveit._core_.expression.composite.expr_tuple.ExprTuple'>\n",
       "   sub-expressions: 6, 7, 8\n",
       "6. x\n",
       "   core type: Variable\n",
       "   latex_format: x\n",
       "   class: <class 'proveit._core_.expression.label.var.Variable'>\n",
       "   sub-expressions: \n",
       "7. 5\n",
       "   core type: Literal\n",
       "   latex_format: 5\n",
       "   theory: tutorial\n",
       "   class: <class 'proveit._core_.expression.label.literal.Literal'>\n",
       "   sub-expressions: \n",
       "8. omega\n",
       "   core type: Variable\n",
       "   latex_format: \\omega\n",
       "   class: <class 'proveit._core_.expression.label.var.Variable'>\n",
       "   sub-expressions: "
      ]
     },
     "metadata": {},
     "output_type": "display_data"
    }
   ],
   "source": [
    "nested_operation_from_sub.expr_info(details=True)"
   ]
  },
  {
   "cell_type": "markdown",
   "metadata": {},
   "source": [
    "Furthermore, this expression that we obtained via substitution is equivalent to the one constructed directly:"
   ]
  },
  {
   "cell_type": "code",
   "execution_count": 60,
   "metadata": {},
   "outputs": [
    {
     "name": "stdout",
     "output_type": "stream",
     "text": [
      "Expressions, generated in different ways, are the same: True\n"
     ]
    }
   ],
   "source": [
    "print(\"Expressions, generated in different ways, are the same:\", \n",
    "      (nested_operation_from_sub == nested_operation))"
   ]
  },
  {
   "cell_type": "markdown",
   "metadata": {},
   "source": [
    "### Operator substitution\n",
    "\n",
    "The *operator* itself may likewise be *substituted*, but with some interesting extra capabilities."
   ]
  },
  {
   "cell_type": "markdown",
   "metadata": {},
   "source": [
    "It is straightforward to substitute a **Variable** *operator* with another **Variable** (i.e., relabel). Here we relabel the $f$ in $f(x)$ to $g$ to obtain $g(x)$:"
   ]
  },
  {
   "cell_type": "code",
   "execution_count": 61,
   "metadata": {},
   "outputs": [
    {
     "data": {
      "text/html": [
       "<a class=\"ProveItLink\" href=\"../packages/proveit/__pv_it/common/1d2b81c6e4903ee4506b066df3feec8a729a56a80/expr.ipynb\"><img src=\"data:image/png;base64,iVBORw0KGgoAAAANSUhEUgAAACgAAAAVBAMAAADGNLEtAAAAMFBMVEX///8AAAAAAAAAAAAAAAAA\n",
       "AAAAAAAAAAAAAAAAAAAAAAAAAAAAAAAAAAAAAAAAAAAv3aB7AAAAD3RSTlMAVIl2ImbN77sQqzJE\n",
       "md23+iBgAAAACXBIWXMAAA7EAAAOxAGVKw4bAAAA/0lEQVQY02NggAMHCMXCgASYBSA0jwGSoBCM\n",
       "YYoQ40yAsdgmwAV5A2As1gtwQXaEpko4SwwhmAqywdgVSF4C4slWs5WAbtBiYGBKYKmASl9gXsz7\n",
       "gIEhjIFBfgLDZ6DAQ6ANDqw/uYD2iTMwVDFwfwEK1jAwcDPwgt21n4H7IwNzAUQQ6ASwb44zsH5h\n",
       "4FgA0c7AcN6BE+hyOQbWDwzzQe5uZmCYcWA5AxOQGcHA+YVhPchfQHfI77zOcBDiulNG90A69zEw\n",
       "zDVmvAoKqjcgfi6I4NsA8xDLA4ZdE7h/owYDMGiWT5gGCdUWmKAHyMg7EPYMmGALUsizQKOB2YEB\n",
       "ADh6NR6+4G6CAAAAAElFTkSuQmCC\n",
       "\" style=\"display:inline;vertical-align:middle;\" /></a>"
      ],
      "text/plain": [
       "g(x)"
      ]
     },
     "metadata": {},
     "output_type": "display_data"
    }
   ],
   "source": [
    "from proveit import g\n",
    "fx.basic_replaced({f:g}) # Variable operator to a different Variable"
   ]
  },
  {
   "cell_type": "markdown",
   "metadata": {},
   "source": [
    "And it is straightforward to *substitute* a **Variable** *operator* with a **Literal**."
   ]
  },
  {
   "cell_type": "code",
   "execution_count": 62,
   "metadata": {},
   "outputs": [
    {
     "data": {
      "text/html": [
       "<strong id=\"x_factorial_from_fx\">x_factorial_from_fx:</strong> <a class=\"ProveItLink\" href=\"__pv_it/basic_expressions/16e4be536ec1bea945af9bf50581cd4d68519e110/expr.ipynb\"><img src=\"data:image/png;base64,iVBORw0KGgoAAAANSUhEUgAAABAAAAAPBAMAAAAfXVIcAAAAMFBMVEX///8AAAAAAAAAAAAAAAAA\n",
       "AAAAAAAAAAAAAAAAAAAAAAAAAAAAAAAAAAAAAAAAAAAv3aB7AAAAD3RSTlMAEHarMolUmd1mIs3v\n",
       "RLtmgJDEAAAACXBIWXMAAA7EAAAOxAGVKw4bAAAAZklEQVQI12NggIBmKM31B8pg/AFlMPyGMQ7D\n",
       "GO0MDELKIqEJDFsZGAqYjNgbGCwZOBdwfmSewFDGwMLAvgGoJhaIeRSARBYQ31/AKACk5C7YMLCC\n",
       "DMh3rGG4xsD4m0Fcia0yAWggADlxE5U82JylAAAAAElFTkSuQmCC\n",
       "\" style=\"display:inline;vertical-align:middle;\" /></a><br>"
      ],
      "text/plain": [
       "<IPython.core.display.HTML object>"
      ]
     },
     "metadata": {},
     "output_type": "display_data"
    }
   ],
   "source": [
    "x_factorial_from_fx = fx.basic_replaced({f:FACTORIAL})"
   ]
  },
  {
   "cell_type": "code",
   "execution_count": 63,
   "metadata": {},
   "outputs": [
    {
     "data": {
      "text/html": [
       "<table><tr><th>&nbsp;</th><th>core type</th><th>sub-expressions</th><th>expression</th></tr>\n",
       "<tr><td>0</td><td>Operation</td><td>operator:&nbsp;1<br>operand:&nbsp;3<br></td><td><a class=\"ProveItLink\" href=\"__pv_it/basic_expressions/16e4be536ec1bea945af9bf50581cd4d68519e110/expr.ipynb\"><img src=\"data:image/png;base64,iVBORw0KGgoAAAANSUhEUgAAABAAAAAPBAMAAAAfXVIcAAAAMFBMVEX///8AAAAAAAAAAAAAAAAA\n",
       "AAAAAAAAAAAAAAAAAAAAAAAAAAAAAAAAAAAAAAAAAAAv3aB7AAAAD3RSTlMAEHarMolUmd1mIs3v\n",
       "RLtmgJDEAAAACXBIWXMAAA7EAAAOxAGVKw4bAAAAZklEQVQI12NggIBmKM31B8pg/AFlMPyGMQ7D\n",
       "GO0MDELKIqEJDFsZGAqYjNgbGCwZOBdwfmSewFDGwMLAvgGoJhaIeRSARBYQ31/AKACk5C7YMLCC\n",
       "DMh3rGG4xsD4m0Fcia0yAWggADlxE5U82JylAAAAAElFTkSuQmCC\n",
       "\" style=\"display:inline;vertical-align:middle;\" /></a></td></tr>\n",
       "<tr><td colspan=4 style=\"text-align:left\"><strong>class:</strong> tutorial.demo_operations.Factorial</td></tr>\n",
       "<tr><td>1</td><td>Literal</td><td></td><td><a class=\"ProveItLink\" href=\"__pv_it/basic_expressions/fd03761321b547da82c74b2ed8e2f909ca4de7640/expr.ipynb\"><img src=\"data:image/png;base64,iVBORw0KGgoAAAANSUhEUgAAAAMAAAAPBAMAAADTxGj3AAAAJ1BMVEX///8AAAAAAAAAAAAAAAAA\n",
       "AAAAAAAAAAAAAAAAAAAAAAAAAAAAAAAilU6eAAAADHRSTlMA3asi7xDNmYlmVET5xlbrAAAACXBI\n",
       "WXMAAA7EAAAOxAGVKw4bAAAAL0lEQVQI12NgVGCwcWCIEWDgSWBgUWBgLGBga2BgmsDAvoCBYwMD\n",
       "lwEDBMQkAKUAgMYF6UcwT5IAAAAASUVORK5CYII=\n",
       "\" style=\"display:inline;vertical-align:middle;\" /></a></td></tr>\n",
       "<tr><td colspan=4 style=\"text-align:left\"><strong>theory:</strong> tutorial</td></tr>\n",
       "<tr><td>2</td><td>ExprTuple</td><td>3</td><td><a class=\"ProveItLink\" href=\"../packages/proveit/__pv_it/common/eacfeccc0521684fcb20fe8f5180ac50fca471f20/expr.ipynb\"><img src=\"data:image/png;base64,iVBORw0KGgoAAAANSUhEUgAAABgAAAAVBAMAAACuxzMVAAAAMFBMVEX///8AAAAAAAAAAAAAAAAA\n",
       "AAAAAAAAAAAAAAAAAAAAAAAAAAAAAAAAAAAAAAAAAAAv3aB7AAAAD3RSTlMAInZUiRDNmWbv3US7\n",
       "qzJazP2FAAAACXBIWXMAAA7EAAAOxAGVKw4bAAAAt0lEQVQY02NgYBBgAANGEMFkAOFwKwAJEwYo\n",
       "0GBgYE2AcdgCGNgbYByOAgZOBjiYymCG4GQwlADJIN04F6CZvkAuA0MB0yX2BQwMbQyLgToFOL7y\n",
       "As2xZJjNwMDHwA42/z2Iw8DACbKdYSdIGQPDfgHWAAYGK4ZDDAwxG24ysACFeoDmMdg/rWTYDOSU\n",
       "MLxiYAhXYq4AOX01A9cDmAMYF4CcBwUgJx+EcWSAOAbGAYkyKkDYTAIMAEI7Hl9jb5QLAAAAAElF\n",
       "TkSuQmCC\n",
       "\" style=\"display:inline;vertical-align:middle;\" /></a></td></tr>\n",
       "<tr><td>3</td><td>Variable</td><td></td><td><a class=\"ProveItLink\" href=\"__pv_it/basic_expressions/a0d9d672aa5e272d907247690c152cc2c6daafb70/expr.ipynb\"><img src=\"data:image/png;base64,iVBORw0KGgoAAAANSUhEUgAAAAsAAAAJBAMAAAAWSsseAAAAMFBMVEX///8AAAAAAAAAAAAAAAAA\n",
       "AAAAAAAAAAAAAAAAAAAAAAAAAAAAAAAAAAAAAAAAAAAv3aB7AAAAD3RSTlMAEHarMolUmd1mIs3v\n",
       "RLtmgJDEAAAACXBIWXMAAA7EAAAOxAGVKw4bAAAAQklEQVQI12NgEFIWCU1gYChgMmJvYOBcwPmR\n",
       "eQIDCwP7BgYQ4FEAU/cXMAowyF2wYWBlYMh3rGG4xsAgrsRWmcAAAFEjCyBvD0T9AAAAAElFTkSu\n",
       "QmCC\n",
       "\" style=\"display:inline;vertical-align:middle;\" /></a></td></tr>\n",
       "</table>\n"
      ],
      "text/plain": [
       "0. x!\n",
       "   core type: Operation\n",
       "   class: <class 'demo_operations.Factorial'>\n",
       "   operator: 1\n",
       "   operand: 3\n",
       "1. !\n",
       "   core type: Literal\n",
       "   latex_format: !\n",
       "   theory: tutorial\n",
       "   class: <class 'proveit._core_.expression.label.literal.Literal'>\n",
       "   sub-expressions: \n",
       "2. (x)\n",
       "   core type: ExprTuple\n",
       "   class: <class 'proveit._core_.expression.composite.expr_tuple.ExprTuple'>\n",
       "   sub-expressions: 3\n",
       "3. x\n",
       "   core type: Variable\n",
       "   latex_format: x\n",
       "   class: <class 'proveit._core_.expression.label.var.Variable'>\n",
       "   sub-expressions: "
      ]
     },
     "metadata": {},
     "output_type": "display_data"
    }
   ],
   "source": [
    "x_factorial_from_fx.expr_info(details=True)"
   ]
  },
  {
   "cell_type": "code",
   "execution_count": 64,
   "metadata": {},
   "outputs": [],
   "source": [
    "assert x_factorial_from_fx == x_factorial # Same"
   ]
  },
  {
   "cell_type": "markdown",
   "metadata": {},
   "source": [
    "It is able to generate the new **expression** in the appropriate `Factorial` class via the internal mechanisms that use its `_operator_` class attribute."
   ]
  },
  {
   "cell_type": "markdown",
   "metadata": {},
   "source": [
    "Performing an *expression substitution* of a `Literal` *operator* within an `Operation` class will typically be blocked because it will not know how to make the new **expression**:"
   ]
  },
  {
   "cell_type": "code",
   "execution_count": 65,
   "metadata": {},
   "outputs": [
    {
     "name": "stdout",
     "output_type": "stream",
     "text": [
      "EXPECTED ERROR: An implicit operator may not be changed (sum vs !)\n"
     ]
    }
   ],
   "source": [
    "from proveit import OperationError\n",
    "# But this will typically be prevented (appropriately) in trying to remake a derived Operation class:\n",
    "try:\n",
    "    x_factorial.basic_replaced({FACTORIAL:SUMMATION})\n",
    "    assert False, \"Expecting an OperationError error; should not make it to this point\"\n",
    "except OperationError as e:\n",
    "    print(\"EXPECTED ERROR:\", e)"
   ]
  },
  {
   "cell_type": "markdown",
   "metadata": {},
   "source": [
    "### <a name=\"Operation_sub\"></a>Operation substitution"
   ]
  },
  {
   "cell_type": "markdown",
   "metadata": {},
   "source": [
    "The more interesting and useful case is to *substitute* the `Operation` itself. Here we convert $f(x)$ to $x!$ by substituting a `Lambda` mapping for the function variabe $f$:"
   ]
  },
  {
   "cell_type": "code",
   "execution_count": 66,
   "metadata": {},
   "outputs": [
    {
     "data": {
      "text/html": [
       "<strong id=\"fancy_factorial_map\">fancy_factorial_map:</strong> <a class=\"ProveItLink\" href=\"__pv_it/basic_expressions/3c7bfba1c4ead974c74ebe7a6b7f31bbb06dcb170/expr.ipynb\"><img src=\"data:image/png;base64,iVBORw0KGgoAAAANSUhEUgAAAG4AAAAVCAMAAACQYCvLAAAANlBMVEX///8AAAAAAAAAAAAAAAAA\n",
       "AAAAAAAAAAAAAAAAAAAAAAAAAAAAAAAAAAAAAAAAAAAAAAAAAABHL6OuAAAAEXRSTlMAEHaZZquJ\n",
       "VO8y3btEzSLz6T2OwCoAAAAJcEhZcwAADsQAAA7EAZUrDhsAAAF1SURBVEjHnVbXYsMgDGSYPVr+\n",
       "/2fLkFuE1RbDg0mcO06bMPZ2ZXa2znjCvOd4VR9RHKgZfeBXsd3Q6zWTpwMTefF9T/wtU14nCSjD\n",
       "yEv+m6klwfYo31bBTriHXhlskPkllgqsyoEuFTgl1dhw0SPE1f0bRuJYjkJZKSx7N20PTIL60vWL\n",
       "ZqaF6CqkgEH2ppG6lQJCsxrCKMj4lZgzTDYFFUg5JsIUXd+b7kEZekgNYST0ajWgHmZbA9q7Cz8+\n",
       "PVqlxJ+cR8gupgy9WQ1jNJzgmqux8PbJ0d7FFNki96AQcghjoJJiC69s5SYsXRwO9aaHqCwUIpgU\n",
       "hpl2dlD3g5BLqPEChG+hUKXyxNRS6YlUzfPvcRH/6DsN7IVCNcKE4TBVRh9xpYUs9P2gcT4cuL5S\n",
       "FMDyNAYmzN3m/nZFb47eyfwdCsZkD6+43bzFxpTdoRCYPmZ8Tb/avsVC3qQ8MWOgmkvIuH93hU3K\n",
       "ExNO/j5kwc5Wv8u+AByjDLkIvl5PAAAAAElFTkSuQmCC\n",
       "\" style=\"display:inline;vertical-align:middle;\" /></a><br>"
      ],
      "text/plain": [
       "<IPython.core.display.HTML object>"
      ]
     },
     "metadata": {},
     "output_type": "display_data"
    }
   ],
   "source": [
    "from proveit import Lambda\n",
    "fancy_factorial_map = Lambda(y, Multiply(y, Factorial(y)))"
   ]
  },
  {
   "cell_type": "markdown",
   "metadata": {},
   "source": [
    "The <a href=\"#Lambda\">`Lambda`</a> core type will be discussed in more detail below.  We use it here for a quick example."
   ]
  },
  {
   "cell_type": "code",
   "execution_count": 67,
   "metadata": {},
   "outputs": [
    {
     "data": {
      "text/html": [
       "<a class=\"ProveItLink\" href=\"__pv_it/basic_expressions/1e0a9376897103e289f4d40451a1dece707c52830/expr.ipynb\"><img src=\"data:image/png;base64,iVBORw0KGgoAAAANSUhEUgAAADYAAAAPBAMAAABdHiGLAAAAMFBMVEX///8AAAAAAAAAAAAAAAAA\n",
       "AAAAAAAAAAAAAAAAAAAAAAAAAAAAAAAAAAAAAAAAAAAv3aB7AAAAD3RSTlMAEHarMolUmd1mIs3v\n",
       "RLtmgJDEAAAACXBIWXMAAA7EAAAOxAGVKw4bAAAAn0lEQVQY02NgwAmacUtx/cEtx/gDtxzDbzxy\n",
       "h5HYVkC8DonfzsAgpCwSmgBir3Bg4GoBi0KEtjIwFDAZsTeAHdYCkgYBiJAlA+cCzo/ME8BCK7wg\n",
       "2qBCZQwsDOwbYD7qgGiDCsUCMY8CmhxUKAuI7y9gFEAxEy4kd8GGgZUBxS1woXzHGoZrDCh+gAgx\n",
       "/mYQV2KrBHuPwQSIV4MYUKF2AApqKuOyc9rIAAAAAElFTkSuQmCC\n",
       "\" style=\"display:inline;vertical-align:middle;\" /></a>"
      ],
      "text/plain": [
       "x * x!"
      ]
     },
     "metadata": {},
     "output_type": "display_data"
    }
   ],
   "source": [
    "fx.basic_replaced({f:fancy_factorial_map})"
   ]
  },
  {
   "cell_type": "markdown",
   "metadata": {},
   "source": [
    "Note that the operand is still $x$ (not $y$).  This is substituting the *operation*, not the operand.  If desired, however, it could be substituted simultaneously:"
   ]
  },
  {
   "cell_type": "code",
   "execution_count": 68,
   "metadata": {},
   "outputs": [
    {
     "data": {
      "text/html": [
       "<strong id=\"fancy_omega_fn\">fancy_omega_fn:</strong> <a class=\"ProveItLink\" href=\"__pv_it/basic_expressions/d6b58a181b1f030794af7ffa5d9fc89751ac98c00/expr.ipynb\"><img src=\"data:image/png;base64,iVBORw0KGgoAAAANSUhEUgAAADkAAAAPBAMAAACsFXoGAAAAMFBMVEX///8AAAAAAAAAAAAAAAAA\n",
       "AAAAAAAAAAAAAAAAAAAAAAAAAAAAAAAAAAAAAAAAAAAv3aB7AAAAD3RSTlMAmSLdMlR2iWZEELur\n",
       "ze8/xV5QAAAACXBIWXMAAA7EAAAOxAGVKw4bAAAAsElEQVQY02NgwA2YD+CRZNB/gE92vQE+Wf4L\n",
       "+GT5UOw9BMTayK4SYGAAIgZlBwYIyWQCFoeI8RYwsAaAXJcAEgNKQZRBxXgaGBhBXPYGsBZlJ4hW\n",
       "qBhjAMNMBq4NDBwKYFEmY7BWmBj7BIYCBs4DDOwMKLJQMVYFhgMMbAEM6gwoJiPEtjD4C3BdYkBx\n",
       "FUKsrubJbzmoo2A+goqtv8Cw+q9C3zOIwUeAWBfEgIoxCwAAKpIrasn/UDIAAAAASUVORK5CYII=\n",
       "\" style=\"display:inline;vertical-align:middle;\" /></a><br>"
      ],
      "text/plain": [
       "<IPython.core.display.HTML object>"
      ]
     },
     "metadata": {},
     "output_type": "display_data"
    }
   ],
   "source": [
    "fancy_omega_fn = fx.basic_replaced({f:fancy_factorial_map, x:omega})"
   ]
  },
  {
   "cell_type": "code",
   "execution_count": 69,
   "metadata": {},
   "outputs": [
    {
     "data": {
      "text/html": [
       "<table><tr><th>&nbsp;</th><th>core type</th><th>sub-expressions</th><th>expression</th></tr>\n",
       "<tr><td>0</td><td>Operation</td><td>operator:&nbsp;1<br>operands:&nbsp;2<br></td><td><a class=\"ProveItLink\" href=\"__pv_it/basic_expressions/d6b58a181b1f030794af7ffa5d9fc89751ac98c00/expr.ipynb\"><img src=\"data:image/png;base64,iVBORw0KGgoAAAANSUhEUgAAADkAAAAPBAMAAACsFXoGAAAAMFBMVEX///8AAAAAAAAAAAAAAAAA\n",
       "AAAAAAAAAAAAAAAAAAAAAAAAAAAAAAAAAAAAAAAAAAAv3aB7AAAAD3RSTlMAmSLdMlR2iWZEELur\n",
       "ze8/xV5QAAAACXBIWXMAAA7EAAAOxAGVKw4bAAAAsElEQVQY02NgwA2YD+CRZNB/gE92vQE+Wf4L\n",
       "+GT5UOw9BMTayK4SYGAAIgZlBwYIyWQCFoeI8RYwsAaAXJcAEgNKQZRBxXgaGBhBXPYGsBZlJ4hW\n",
       "qBhjAMNMBq4NDBwKYFEmY7BWmBj7BIYCBs4DDOwMKLJQMVYFhgMMbAEM6gwoJiPEtjD4C3BdYkBx\n",
       "FUKsrubJbzmoo2A+goqtv8Cw+q9C3zOIwUeAWBfEgIoxCwAAKpIrasn/UDIAAAAASUVORK5CYII=\n",
       "\" style=\"display:inline;vertical-align:middle;\" /></a></td></tr>\n",
       "<tr><td colspan=4 style=\"text-align:left\"><strong>class:</strong> tutorial.demo_operations.Multiply</td></tr>\n",
       "<tr><td>1</td><td>Literal</td><td></td><td><a class=\"ProveItLink\" href=\"__pv_it/basic_expressions/24e3bd884eb4491d941ad30be1fd76fc379da19e0/expr.ipynb\"><img src=\"data:image/png;base64,iVBORw0KGgoAAAANSUhEUgAAAAsAAAAKBAMAAACQ3rmwAAAAGFBMVEX///8AAAAAAAAAAAAAAAAA\n",
       "AAAAAAAAAABcYkG9AAAAB3RSTlMAqyK73TLN2jnylQAAAAlwSFlzAAAOxAAADsQBlSsOGwAAAC5J\n",
       "REFUCNdjEGJgYFBmYFAJYGByZQBhIAvIDQJygFyXACQKIghVAtUgChRRYwAA0kIF/41Gf3IAAAAA\n",
       "SUVORK5CYII=\n",
       "\" style=\"display:inline;vertical-align:middle;\" /></a></td></tr>\n",
       "<tr><td colspan=4 style=\"text-align:left\"><strong>theory:</strong> tutorial</td></tr>\n",
       "<tr><td>2</td><td>ExprTuple</td><td>6, 3</td><td><a class=\"ProveItLink\" href=\"__pv_it/basic_expressions/a603d95c2ba85eeb8990f8cbb5ba52e72bebe07c0/expr.ipynb\"><img src=\"data:image/png;base64,iVBORw0KGgoAAAANSUhEUgAAADcAAAAVBAMAAAAQkWtIAAAAMFBMVEX///8AAAAAAAAAAAAAAAAA\n",
       "AAAAAAAAAAAAAAAAAAAAAAAAAAAAAAAAAAAAAAAAAAAv3aB7AAAAD3RSTlMAInZUiRDNmWbv3US7\n",
       "qzJazP2FAAAACXBIWXMAAA7EAAAOxAGVKw4bAAABFklEQVQoz22Sr0/DUBSFv67d2nU/mMZQwj9A\n",
       "AkFXYkgaxNSSDUGCrEAgi8JWICCYJTgEafAkA4OkFjeNgSDAcm/TPWjyXnLbc+6Xd3N7UmCE9VTt\n",
       "1raFhCUP+t61XdvIaWXQntngdA7H4Gc2uCZXLqBr3aZbSiXsWWGYQifjVKQv5dxX3Vp2YvBKTsTt\n",
       "aOergrUcyCbBjFtxqbb3K1hLXz7ezbmBXsEEzrW9kl4Bw0+FHjxCrHAlXQmvl+vYAWzhVPCfxJ3z\n",
       "DP3l8IfxiORP6gkWHMisy7ePlyva30YylYT8mHeJ9/UouI7gLjFSQwgLwqWJxU0aKa3L5NQ4rxnh\n",
       "mdSTcYcN5izkMTE2asC+7uxE9n9oE34B5mk5vOeS0f4AAAAASUVORK5CYII=\n",
       "\" style=\"display:inline;vertical-align:middle;\" /></a></td></tr>\n",
       "<tr><td>3</td><td>Operation</td><td>operator:&nbsp;4<br>operand:&nbsp;6<br></td><td><a class=\"ProveItLink\" href=\"__pv_it/basic_expressions/36fa7e8b7c26e40949afbaf440db8a7be37711f60/expr.ipynb\"><img src=\"data:image/png;base64,iVBORw0KGgoAAAANSUhEUgAAABIAAAAPBAMAAAAbqIIhAAAAMFBMVEX///8AAAAAAAAAAAAAAAAA\n",
       "AAAAAAAAAAAAAAAAAAAAAAAAAAAAAAAAAAAAAAAAAAAv3aB7AAAAD3RSTlMAmSLdMlR2iWZEELur\n",
       "ze8/xV5QAAAACXBIWXMAAA7EAAAOxAGVKw4bAAAAbklEQVQI12NggAIbGIPpH4zF9RnGYvgLZ72B\n",
       "swwZGASAlLIDw3UG1gAgSz+B4QQDI0iKvYFBlGEmA9cGBg4FhkqGAgbOAwzsDAxBDAcY2AIY1EFK\n",
       "tjD4C3BdArHqap78lmtg4PrLsPqvQt8zkMkAdQwWhNOs67QAAAAASUVORK5CYII=\n",
       "\" style=\"display:inline;vertical-align:middle;\" /></a></td></tr>\n",
       "<tr><td colspan=4 style=\"text-align:left\"><strong>class:</strong> tutorial.demo_operations.Factorial</td></tr>\n",
       "<tr><td>4</td><td>Literal</td><td></td><td><a class=\"ProveItLink\" href=\"__pv_it/basic_expressions/fd03761321b547da82c74b2ed8e2f909ca4de7640/expr.ipynb\"><img src=\"data:image/png;base64,iVBORw0KGgoAAAANSUhEUgAAAAMAAAAPBAMAAADTxGj3AAAAJ1BMVEX///8AAAAAAAAAAAAAAAAA\n",
       "AAAAAAAAAAAAAAAAAAAAAAAAAAAAAAAilU6eAAAADHRSTlMA3asi7xDNmYlmVET5xlbrAAAACXBI\n",
       "WXMAAA7EAAAOxAGVKw4bAAAAL0lEQVQI12NgVGCwcWCIEWDgSWBgUWBgLGBga2BgmsDAvoCBYwMD\n",
       "lwEDBMQkAKUAgMYF6UcwT5IAAAAASUVORK5CYII=\n",
       "\" style=\"display:inline;vertical-align:middle;\" /></a></td></tr>\n",
       "<tr><td colspan=4 style=\"text-align:left\"><strong>theory:</strong> tutorial</td></tr>\n",
       "<tr><td>5</td><td>ExprTuple</td><td>6</td><td><a class=\"ProveItLink\" href=\"__pv_it/basic_expressions/65138951db209041c5ef2dd086dfa182817f82b40/expr.ipynb\"><img src=\"data:image/png;base64,iVBORw0KGgoAAAANSUhEUgAAABoAAAAVBAMAAACqMuMoAAAAMFBMVEX///8AAAAAAAAAAAAAAAAA\n",
       "AAAAAAAAAAAAAAAAAAAAAAAAAAAAAAAAAAAAAAAAAAAv3aB7AAAAD3RSTlMAInZUiRDNmWbv3US7\n",
       "qzJazP2FAAAACXBIWXMAAA7EAAAOxAGVKw4bAAAAvElEQVQY02NgYBBggABGEMFkAOVxKwAJEwYY\n",
       "0GBgYE2A89gCGNgb4DyOAgZOBgSYymCGxMtgKAGSBUAs9YCBwRfIZ2AG2SEPNL+NYTEDAztIFQvQ\n",
       "NEuG2QwMuxlYDzBwAJ30HsRzYOC+wMAClN8JUnkB5DoRIM+K4RADwzmG9wWsiUBeD9BUBk/feX8q\n",
       "QU4qYXjFwBDzTaBzEsjc1QxcD+BOYVwAcioMgDxwEM6TAeIYOA8kzqgA5TAJMAAA3qcgz2kKFEsA\n",
       "AAAASUVORK5CYII=\n",
       "\" style=\"display:inline;vertical-align:middle;\" /></a></td></tr>\n",
       "<tr><td>6</td><td>Variable</td><td></td><td><a class=\"ProveItLink\" href=\"__pv_it/basic_expressions/2e5b33f8f44527195a10b6078888697e89a14e8e0/expr.ipynb\"><img src=\"data:image/png;base64,iVBORw0KGgoAAAANSUhEUgAAAA0AAAAJBAMAAAAbVLtZAAAAMFBMVEX///8AAAAAAAAAAAAAAAAA\n",
       "AAAAAAAAAAAAAAAAAAAAAAAAAAAAAAAAAAAAAAAAAAAv3aB7AAAAD3RSTlMAmSLdMlR2iWZEELur\n",
       "ze8/xV5QAAAACXBIWXMAAA7EAAAOxAGVKw4bAAAATklEQVQI12NgEGBgYFB2YGANANL6CQyMQIqB\n",
       "vYFhJgPXBgYOBYYCBs4DDOwMDAcY2AIY1BkYtjD4C3BdYmCoq3nyW66BgWH1X4W+ZwwMAGWFDnrb\n",
       "bYx6AAAAAElFTkSuQmCC\n",
       "\" style=\"display:inline;vertical-align:middle;\" /></a></td></tr>\n",
       "</table>\n"
      ],
      "text/plain": [
       "0. omega * omega!\n",
       "   core type: Operation\n",
       "   class: <class 'demo_operations.Multiply'>\n",
       "   operator: 1\n",
       "   operands: 2\n",
       "1. *\n",
       "   core type: Literal\n",
       "   latex_format: \\times\n",
       "   theory: tutorial\n",
       "   class: <class 'proveit._core_.expression.label.literal.Literal'>\n",
       "   sub-expressions: \n",
       "2. (omega, omega!)\n",
       "   core type: ExprTuple\n",
       "   class: <class 'proveit._core_.expression.composite.expr_tuple.ExprTuple'>\n",
       "   sub-expressions: 6, 3\n",
       "3. omega!\n",
       "   core type: Operation\n",
       "   class: <class 'demo_operations.Factorial'>\n",
       "   operator: 4\n",
       "   operand: 6\n",
       "4. !\n",
       "   core type: Literal\n",
       "   latex_format: !\n",
       "   theory: tutorial\n",
       "   class: <class 'proveit._core_.expression.label.literal.Literal'>\n",
       "   sub-expressions: \n",
       "5. (omega)\n",
       "   core type: ExprTuple\n",
       "   class: <class 'proveit._core_.expression.composite.expr_tuple.ExprTuple'>\n",
       "   sub-expressions: 6\n",
       "6. omega\n",
       "   core type: Variable\n",
       "   latex_format: \\omega\n",
       "   class: <class 'proveit._core_.expression.label.var.Variable'>\n",
       "   sub-expressions: "
      ]
     },
     "metadata": {},
     "output_type": "display_data"
    }
   ],
   "source": [
    "fancy_omega_fn.expr_info(details=True)"
   ]
  },
  {
   "cell_type": "markdown",
   "metadata": {},
   "source": [
    "Note that by substituting $f$ with a `Lambda` expression, the entire `Operation` is substituted, not just the *operator*.  This is why `Lambda` *operator*s are not allowed (only `Label` operators); otherwise, such a substitution could be ambiguous or confusing (should it substitute the `Operation` or substitute the *operator* with the `Lambda` expression?).  This also highlights the fact that **Prove-It** is not a functional programming or lambda calculus.  Rather, **Prove-It** is designed for manipulating expressions as desired, and *operation substitution* is a useful and powerful, yet relatively straightforward tool for doing so."
   ]
  },
  {
   "cell_type": "markdown",
   "metadata": {},
   "source": [
    "<a name=\"Conditional\"></a>Conditional\n",
    "====\n",
    "\n",
    "A `Conditional` has one or more *values* associated with one or more *conditions*.  A given *value* is only pertinent if its associated *condition* is satisfied (known to be true).  MUST UPDATE THIS SECTION.  A CONDITIONAL ONLY HAS ONE VALUE AND CONDITION.  A CONDITIONAL SET"
   ]
  },
  {
   "cell_type": "code",
   "execution_count": 70,
   "metadata": {},
   "outputs": [],
   "source": [
    "from proveit import Conditional, ConditionalSet"
   ]
  },
  {
   "cell_type": "markdown",
   "metadata": {},
   "source": [
    "To create the `Conditional`, supply the *values* and *conditions* as separate arguments in the constructor.  This example invokes the `Neg`, `Less`, and `greater_eq`  <a href=\"#Operation\">`Operation`</a>s as well as the `zero` <a href=\"#Literal\">`Literal`</a>)"
   ]
  },
  {
   "cell_type": "code",
   "execution_count": 71,
   "metadata": {},
   "outputs": [
    {
     "data": {
      "text/html": [
       "<strong id=\"abs_cond\">abs_cond:</strong> <a class=\"ProveItLink\" href=\"__pv_it/basic_expressions/dab8ecfab14de917a1c133cb6431752486f593d70/expr.ipynb\"><img src=\"data:image/png;base64,iVBORw0KGgoAAAANSUhEUgAAAN8AAAAVBAMAAAA0pCbNAAAAMFBMVEX///8AAAAAAAAAAAAAAAAA\n",
       "AAAAAAAAAAAAAAAAAAAAAAAAAAAAAAAAAAAAAAAAAAAv3aB7AAAAD3RSTlMAEER2zVSJ3Zki72ar\n",
       "MruaaVGaAAAACXBIWXMAAA7EAAAOxAGVKw4bAAACoElEQVRIx61WTWgTQRR+kzRp7CZhxaK9VKvo\n",
       "xUsWqyiYgwhFqpcIguIl8WC9iKQW/EGEFaWiBQl4KVIk0muFHJSqB90iHoyXePHa6k0QoQdFQcE3\n",
       "M292Z2ezy6IOYXYm35vvm30/MwsAbAcAbIC4Fo/8bdu7Hbt9sXDG0WfWnn/Wy63zrhFvcFANHnQA\n",
       "JlbHYsymDrQSVDQ038RuOMF2wKZBxQWruWBr0HAnsKqxqwkcGioE5xIELZcGDKDohSB2zvf3MsCF\n",
       "eA4dFYLtJKc/CoZF18D2n6HBF4C63S9ikybKBXOHkgSPJQjCMin+AFit9XHPFdtEuWABc4aNr3w4\n",
       "G7beVB2dQrPzVB9HvVJ3ydMA0U7cEc7llDKiOlH2km2gKIZvN4CTAlSd22FBN/u6gNt5oiLvqRgS\n",
       "INvOFb6b70gpA6oRbZ6hvQaoTPZB3O5zeGW/C7ujZa0XET1N87ISVAAJflSUsrYCovlroAlS5S0c\n",
       "xm4Ii6sHt1TuHbnMW68k3h5NTUEFSJe+FWuQsiLfwScqTvjZHKBQumdLQYDFSMiHhNFuU1ABImlu\n",
       "+ElTV2FdNAVDKNIIl0LmJ2w0BCsthts5GRWUgF4WXwE9SYehIvJdqqMiS8sOsE/FNjR4cftt61gX\n",
       "8vh8aQoqQC/8F4Ce5KuJKJQ0EtUE8x7kfo+0MzXYplVk/f1d2IXPWSW4xn8aoB9tgzX2WKwmIiqs\n",
       "GTtAsXEDLlhqArvpnHqKyHQgODKem+MrL1K0u0uj3V+OBoROudlqT6wmIpXpVIgc5cIuHW3XfYvj\n",
       "0Quxmf7qia62Js1/hOAzfxq9pwqd9IKNFDZZfnCX1W3FnIjBw/i1W0TBBu7ps7rPJ8Q3brmm5KMG\n",
       "n9O/YDaV1fwb7O7Hk7T+6wfNH+KksiR+S1x1AAAAAElFTkSuQmCC\n",
       "\" style=\"display:inline;vertical-align:middle;\" /></a><br>"
      ],
      "text/plain": [
       "<IPython.core.display.HTML object>"
      ]
     },
     "metadata": {},
     "output_type": "display_data"
    }
   ],
   "source": [
    "from proveit.numbers import zero, Neg, Less, greater_eq\n",
    "abs_cond = Conditional((x, Neg(x)), \n",
    "                       (greater_eq(x, zero), Less(x, zero)))"
   ]
  },
  {
   "cell_type": "code",
   "execution_count": 72,
   "metadata": {},
   "outputs": [
    {
     "data": {
      "text/plain": [
       "'{(x, -x) if x >= 0 ,  x < 0.'"
      ]
     },
     "metadata": {},
     "output_type": "display_data"
    }
   ],
   "source": [
    "# The string formatting is somewhat different:\n",
    "str(abs_cond)"
   ]
  },
  {
   "cell_type": "markdown",
   "metadata": {},
   "source": [
    "The `conditions` and `values` attributes may be used to access the *conditions* and *values* respectively."
   ]
  },
  {
   "cell_type": "code",
   "execution_count": 73,
   "metadata": {},
   "outputs": [
    {
     "data": {
      "text/html": [
       "<a class=\"ProveItLink\" href=\"__pv_it/basic_expressions/11eb5fe374b73010c519729b091151aa9237cb420/expr.ipynb\"><img src=\"data:image/png;base64,iVBORw0KGgoAAAANSUhEUgAAAJcAAAAVBAMAAAC5yWGZAAAAMFBMVEX///8AAAAAAAAAAAAAAAAA\n",
       "AAAAAAAAAAAAAAAAAAAAAAAAAAAAAAAAAAAAAAAAAAAv3aB7AAAAD3RSTlMAInZUiRDNmWbv3US7\n",
       "qzJazP2FAAAACXBIWXMAAA7EAAAOxAGVKw4bAAACdUlEQVQ4y42UTWgTQRTHf8lmk82nixdBBNd4\n",
       "sJdADqLoJaH2qBCKWgxFU4rowUIsRaqnqKAogkHwJEhsFUVBgp48mXr1gyIUFEGC6EWU+lX0JM7M\n",
       "bj52mi0OZHbmzcv/vfd//xnAJmiE/sPSHQomnA88Tzq6ZWsw2CM5bR98Fhk+CUOa0SgOdh7ZZhOu\n",
       "gVnp2czjvfUkZZtoyUP2sj84GCuaN2/BUYjV+qz75zorq0GkhVV1d2Uv4uxgsMuwFy5C3GcO3/Zy\n",
       "SS1irMB1dzf0zv3WdRhjQs4voVAiXmKH/9Ty0NZVyfwEr+7GF/evFQ3Luqu8f8NynmiNGbEZzR0e\n",
       "6fTUOKZ6fESA/YF9Hu9RZYwJ/s3s0sc9/jpMCVYjsqhiV8OvY42uHqakx+YimR9wwSXYNhR5IjYx\n",
       "cs4ZP8OhXwLMwaowL5K1rZV0tw/JEx0w4bNLmb7CHflNiPTPcrX0Rlk33KMPrIhR5wZkiPXIMKbc\n",
       "MoskRWbLyvYesvIbb0KbU65jerKrKAH21CHzTYIJL0ejVDbAEA14opxFqHIHDK7pYLIBhTzJuixT\n",
       "4NpmSZOGEJmQxu6OZGN5r0yS3zngL5MXiNoxGjyD8eZbIrpo66r2K4oqyYskIuVgPk/XKWoSv4Ss\n",
       "3WrJ5hc+neaxfp3mOdRGCYdzcnolUxRK/jtWT3ZkNDrn1pHImzeVcD7DWNaYXfV0jA0L2nkgl0ty\n",
       "+iB+mQbmtLPzvC5xcyYnAieaJNrBrwqhhn//UHewJnrrjXTv8sDhewVQdzl4yFdgoe8Juq9GL9dN\n",
       "mn/KXqOKlpjG1wi2oO3NVrCvChRyAs/DqxJZHwy2Bf4BWWOKeKWiUm0AAAAASUVORK5CYII=\n",
       "\" style=\"display:inline;vertical-align:middle;\" /></a>"
      ],
      "text/plain": [
       "(x >= 0) and (x < 0)"
      ]
     },
     "metadata": {},
     "output_type": "display_data"
    }
   ],
   "source": [
    "abs_cond.condition"
   ]
  },
  {
   "cell_type": "code",
   "execution_count": 74,
   "metadata": {},
   "outputs": [
    {
     "data": {
      "text/html": [
       "<a class=\"ProveItLink\" href=\"__pv_it/basic_expressions/fbf94fb40a5bef1d33ee05449cf99bae7205038f0/expr.ipynb\"><img src=\"data:image/png;base64,iVBORw0KGgoAAAANSUhEUgAAAD0AAAAVBAMAAAAHs/uBAAAAMFBMVEX///8AAAAAAAAAAAAAAAAA\n",
       "AAAAAAAAAAAAAAAAAAAAAAAAAAAAAAAAAAAAAAAAAAAv3aB7AAAAD3RSTlMAInZUiRDNmWbv3US7\n",
       "qzJazP2FAAAACXBIWXMAAA7EAAAOxAGVKw4bAAABG0lEQVQoz32SsUvDQBSHvyY5r21syewUuxcc\n",
       "REcLugqhoF2KdBEci4hUp4iDo8HVpeDWQYr+AbauLiIIunXQxUkHHcV3QqwhJAf3Hj++u3e/d3eA\n",
       "R9b4JdZCJr8yYTETY4WgOtmcbdBhDj+BUg6mFLCUx2dC9iQ161tryS5U7fFlFZx7dkR1rQfdT3BN\n",
       "3T+EYocLiV7xs5K0ecRp8AR2xDlU0XGTmwMzLpmwb2T13XDx6aesnZngRqY+3HgqSGL3gw2p3+cW\n",
       "2sNnHPi3Qt1VIhribMQ6rLwecI36mnL7uxW50rFu8Aatmt0TMZgWULv+8rHk8pDy5G9TkDI5J0d0\n",
       "Y+Gk77cncxyLZgoXRhLasUrfwaz5YAU/8/nm4QeeODTqhxvn7AAAAABJRU5ErkJggg==\n",
       "\" style=\"display:inline;vertical-align:middle;\" /></a>"
      ],
      "text/plain": [
       "(x, -x)"
      ]
     },
     "metadata": {},
     "output_type": "display_data"
    }
   ],
   "source": [
    "abs_cond.value"
   ]
  },
  {
   "cell_type": "markdown",
   "metadata": {},
   "source": [
    "This is the expression information breakdown for our `Conditional` example."
   ]
  },
  {
   "cell_type": "code",
   "execution_count": 75,
   "metadata": {},
   "outputs": [
    {
     "data": {
      "text/html": [
       "<table><tr><th>&nbsp;</th><th>core type</th><th>sub-expressions</th><th>expression</th></tr>\n",
       "<tr><td>0</td><td>Conditional</td><td>value:&nbsp;1<br>condition:&nbsp;2<br></td><td><a class=\"ProveItLink\" href=\"__pv_it/basic_expressions/dab8ecfab14de917a1c133cb6431752486f593d70/expr.ipynb\"><img src=\"data:image/png;base64,iVBORw0KGgoAAAANSUhEUgAAAN8AAAAVBAMAAAA0pCbNAAAAMFBMVEX///8AAAAAAAAAAAAAAAAA\n",
       "AAAAAAAAAAAAAAAAAAAAAAAAAAAAAAAAAAAAAAAAAAAv3aB7AAAAD3RSTlMAEER2zVSJ3Zki72ar\n",
       "MruaaVGaAAAACXBIWXMAAA7EAAAOxAGVKw4bAAACoElEQVRIx61WTWgTQRR+kzRp7CZhxaK9VKvo\n",
       "xUsWqyiYgwhFqpcIguIl8WC9iKQW/EGEFaWiBQl4KVIk0muFHJSqB90iHoyXePHa6k0QoQdFQcE3\n",
       "M292Z2ezy6IOYXYm35vvm30/MwsAbAcAbIC4Fo/8bdu7Hbt9sXDG0WfWnn/Wy63zrhFvcFANHnQA\n",
       "JlbHYsymDrQSVDQ038RuOMF2wKZBxQWruWBr0HAnsKqxqwkcGioE5xIELZcGDKDohSB2zvf3MsCF\n",
       "eA4dFYLtJKc/CoZF18D2n6HBF4C63S9ikybKBXOHkgSPJQjCMin+AFit9XHPFdtEuWABc4aNr3w4\n",
       "G7beVB2dQrPzVB9HvVJ3ydMA0U7cEc7llDKiOlH2km2gKIZvN4CTAlSd22FBN/u6gNt5oiLvqRgS\n",
       "INvOFb6b70gpA6oRbZ6hvQaoTPZB3O5zeGW/C7ujZa0XET1N87ISVAAJflSUsrYCovlroAlS5S0c\n",
       "xm4Ii6sHt1TuHbnMW68k3h5NTUEFSJe+FWuQsiLfwScqTvjZHKBQumdLQYDFSMiHhNFuU1ABImlu\n",
       "+ElTV2FdNAVDKNIIl0LmJ2w0BCsthts5GRWUgF4WXwE9SYehIvJdqqMiS8sOsE/FNjR4cftt61gX\n",
       "8vh8aQoqQC/8F4Ce5KuJKJQ0EtUE8x7kfo+0MzXYplVk/f1d2IXPWSW4xn8aoB9tgzX2WKwmIiqs\n",
       "GTtAsXEDLlhqArvpnHqKyHQgODKem+MrL1K0u0uj3V+OBoROudlqT6wmIpXpVIgc5cIuHW3XfYvj\n",
       "0Quxmf7qia62Js1/hOAzfxq9pwqd9IKNFDZZfnCX1W3FnIjBw/i1W0TBBu7ps7rPJ8Q3brmm5KMG\n",
       "n9O/YDaV1fwb7O7Hk7T+6wfNH+KksiR+S1x1AAAAAElFTkSuQmCC\n",
       "\" style=\"display:inline;vertical-align:middle;\" /></a></td></tr>\n",
       "<tr><td>1</td><td>ExprTuple</td><td>14, 3</td><td><a class=\"ProveItLink\" href=\"__pv_it/basic_expressions/fbf94fb40a5bef1d33ee05449cf99bae7205038f0/expr.ipynb\"><img src=\"data:image/png;base64,iVBORw0KGgoAAAANSUhEUgAAAD0AAAAVBAMAAAAHs/uBAAAAMFBMVEX///8AAAAAAAAAAAAAAAAA\n",
       "AAAAAAAAAAAAAAAAAAAAAAAAAAAAAAAAAAAAAAAAAAAv3aB7AAAAD3RSTlMAInZUiRDNmWbv3US7\n",
       "qzJazP2FAAAACXBIWXMAAA7EAAAOxAGVKw4bAAABG0lEQVQoz32SsUvDQBSHvyY5r21syewUuxcc\n",
       "REcLugqhoF2KdBEci4hUp4iDo8HVpeDWQYr+AbauLiIIunXQxUkHHcV3QqwhJAf3Hj++u3e/d3eA\n",
       "R9b4JdZCJr8yYTETY4WgOtmcbdBhDj+BUg6mFLCUx2dC9iQ161tryS5U7fFlFZx7dkR1rQfdT3BN\n",
       "3T+EYocLiV7xs5K0ecRp8AR2xDlU0XGTmwMzLpmwb2T13XDx6aesnZngRqY+3HgqSGL3gw2p3+cW\n",
       "2sNnHPi3Qt1VIhribMQ6rLwecI36mnL7uxW50rFu8Aatmt0TMZgWULv+8rHk8pDy5G9TkDI5J0d0\n",
       "Y+Gk77cncxyLZgoXRhLasUrfwaz5YAU/8/nm4QeeODTqhxvn7AAAAABJRU5ErkJggg==\n",
       "\" style=\"display:inline;vertical-align:middle;\" /></a></td></tr>\n",
       "<tr><td>2</td><td>Operation</td><td>operator:&nbsp;4<br>operands:&nbsp;5<br></td><td><a class=\"ProveItLink\" href=\"__pv_it/basic_expressions/11eb5fe374b73010c519729b091151aa9237cb420/expr.ipynb\"><img src=\"data:image/png;base64,iVBORw0KGgoAAAANSUhEUgAAAJcAAAAVBAMAAAC5yWGZAAAAMFBMVEX///8AAAAAAAAAAAAAAAAA\n",
       "AAAAAAAAAAAAAAAAAAAAAAAAAAAAAAAAAAAAAAAAAAAv3aB7AAAAD3RSTlMAInZUiRDNmWbv3US7\n",
       "qzJazP2FAAAACXBIWXMAAA7EAAAOxAGVKw4bAAACdUlEQVQ4y42UTWgTQRTHf8lmk82nixdBBNd4\n",
       "sJdADqLoJaH2qBCKWgxFU4rowUIsRaqnqKAogkHwJEhsFUVBgp48mXr1gyIUFEGC6EWU+lX0JM7M\n",
       "bj52mi0OZHbmzcv/vfd//xnAJmiE/sPSHQomnA88Tzq6ZWsw2CM5bR98Fhk+CUOa0SgOdh7ZZhOu\n",
       "gVnp2czjvfUkZZtoyUP2sj84GCuaN2/BUYjV+qz75zorq0GkhVV1d2Uv4uxgsMuwFy5C3GcO3/Zy\n",
       "SS1irMB1dzf0zv3WdRhjQs4voVAiXmKH/9Ty0NZVyfwEr+7GF/evFQ3Luqu8f8NynmiNGbEZzR0e\n",
       "6fTUOKZ6fESA/YF9Hu9RZYwJ/s3s0sc9/jpMCVYjsqhiV8OvY42uHqakx+YimR9wwSXYNhR5IjYx\n",
       "cs4ZP8OhXwLMwaowL5K1rZV0tw/JEx0w4bNLmb7CHflNiPTPcrX0Rlk33KMPrIhR5wZkiPXIMKbc\n",
       "MoskRWbLyvYesvIbb0KbU65jerKrKAH21CHzTYIJL0ejVDbAEA14opxFqHIHDK7pYLIBhTzJuixT\n",
       "4NpmSZOGEJmQxu6OZGN5r0yS3zngL5MXiNoxGjyD8eZbIrpo66r2K4oqyYskIuVgPk/XKWoSv4Ss\n",
       "3WrJ5hc+neaxfp3mOdRGCYdzcnolUxRK/jtWT3ZkNDrn1pHImzeVcD7DWNaYXfV0jA0L2nkgl0ty\n",
       "+iB+mQbmtLPzvC5xcyYnAieaJNrBrwqhhn//UHewJnrrjXTv8sDhewVQdzl4yFdgoe8Juq9GL9dN\n",
       "mn/KXqOKlpjG1wi2oO3NVrCvChRyAs/DqxJZHwy2Bf4BWWOKeKWiUm0AAAAASUVORK5CYII=\n",
       "\" style=\"display:inline;vertical-align:middle;\" /></a></td></tr>\n",
       "<tr><td>3</td><td>Operation</td><td>operator:&nbsp;6<br>operand:&nbsp;14<br></td><td><a class=\"ProveItLink\" href=\"__pv_it/basic_expressions/8ae6bcf9f63d27c3e43ea63be5df603397837e130/expr.ipynb\"><img src=\"data:image/png;base64,iVBORw0KGgoAAAANSUhEUgAAABoAAAAJBAMAAADeJiHIAAAAMFBMVEX///8AAAAAAAAAAAAAAAAA\n",
       "AAAAAAAAAAAAAAAAAAAAAAAAAAAAAAAAAAAAAAAAAAAv3aB7AAAAD3RSTlMAEM3dMnariVSZZiLv\n",
       "RLvju4I1AAAACXBIWXMAAA7EAAAOxAGVKw4bAAAASUlEQVQI12NggALG0ET3ChiHgZMhLGAynLea\n",
       "Yb1AFoOQMQiYMDgwTGJABkeROby/GQThRr5lO8BQAONxfJE8wNsAl5sa0LmCAQA5Ow8f8BEAKAAA\n",
       "AABJRU5ErkJggg==\n",
       "\" style=\"display:inline;vertical-align:middle;\" /></a></td></tr>\n",
       "<tr><td>4</td><td>Literal</td><td></td><td><a class=\"ProveItLink\" href=\"../packages/proveit/logic/booleans/conjunction/__pv_it/common/42118ff318bd65d98b1393f64ce7c2269feef76e0/expr.ipynb\"><img src=\"data:image/png;base64,iVBORw0KGgoAAAANSUhEUgAAAAwAAAANBAMAAABvB5JxAAAALVBMVEX///8AAAAAAAAAAAAAAAAA\n",
       "AAAAAAAAAAAAAAAAAAAAAAAAAAAAAAAAAAAAAADAOrOgAAAADnRSTlMAiVQQ3c12ZqtEMrsimR5C\n",
       "toEAAAAJcEhZcwAADsQAAA7EAZUrDhsAAABJSURBVAjXY2BgYFRgAAGTADCV3gmmHFaDSCYB1gNA\n",
       "ivUA0wUgtYKBwRlIdTEwpDEwMAOVm0A08yowsADFeQIYykCadjE0g6hlALZOClg60HSyAAAAAElF\n",
       "TkSuQmCC\n",
       "\" style=\"display:inline;vertical-align:middle;\" /></a></td></tr>\n",
       "<tr><td>5</td><td>ExprTuple</td><td>8, 9</td><td><a class=\"ProveItLink\" href=\"__pv_it/basic_expressions/c8c4a51f6e2526ea93a196314f3ccfb86e85d4c20/expr.ipynb\"><img src=\"data:image/png;base64,iVBORw0KGgoAAAANSUhEUgAAAHkAAAAVBAMAAACQ4lxbAAAAMFBMVEX///8AAAAAAAAAAAAAAAAA\n",
       "AAAAAAAAAAAAAAAAAAAAAAAAAAAAAAAAAAAAAAAAAAAv3aB7AAAAD3RSTlMAInZUiRDNmWbv3US7\n",
       "qzJazP2FAAAACXBIWXMAAA7EAAAOxAGVKw4bAAAB60lEQVQ4y52Uz0sUYRjHP7vvvO7ouNvegi6O\n",
       "XjotzEHq6GAeC4bFWAoxRaIOCVtIWKeNDpEXh66CbBoYniT/gLauFUgg2CX2UJcu/dLqJL3vjOPs\n",
       "zOoc9oUZnvfH553n+T7PM0CZ3kbA5Z0e6Vf6NXrynjF+N4OcOF8m3wA5E6/J27E9x/XTQ+pz5HO4\n",
       "CYVGx+rkWmSZTYzWqfQSXIYn0J9Yzr/wQmNwB3FwAidm9fsDjHn0e1xI7ppH+Jk6pd/dsLkRbP+F\n",
       "7w59DRbUpFqZnoiUF7eCcG8o+l8oxsjul0tJ16SmGxg7aKHq+Y+FZnS9Na9PDLmUfgXzAhX7YVKW\n",
       "3L6ibcwZ1pU7ZfOgeCyedSei94P5I5a9vcA6+5IO2kX4rECJQpw2MR967mKF325zP9wpzh1nVtGv\n",
       "bUo/NK2Et1OyaNVEpNqzNK1VG3OwfO25uqgsvVTGWphHGbN+cjXpOe9R4SCavIWprU8Y6WrxdTjq\n",
       "Kvmu6OOmiukpOhyzxRXlxNcHbKcrdZ1rbflH6XBY860ondW10LUBR66qbLh8g9qIWOxqtNr4Z9j0\n",
       "kPfsi4/TxSQXKm11xxYD7YxWEl5Xsc3G9jk1rWfQRmaDL6rnTUeHbgYj9qaaBed0D05lHLCz6EFd\n",
       "Vjm7xz/TMPwHCCRweQ9H8ZAAAAAASUVORK5CYII=\n",
       "\" style=\"display:inline;vertical-align:middle;\" /></a></td></tr>\n",
       "<tr><td>6</td><td>Literal</td><td></td><td><a class=\"ProveItLink\" href=\"../packages/proveit/numbers/negation/__pv_it/common/221b3c4d1770ee9051b7c044c3f9ec61196fc34b0/expr.ipynb\"><img src=\"data:image/png;base64,iVBORw0KGgoAAAANSUhEUgAAAA4AAAABBAMAAAAcMII3AAAAElBMVEX///8AAAAAAAAAAAAAAAAA\n",
       "AABknMCaAAAABXRSTlMAEM3dMvdEvu8AAAAJcEhZcwAADsQAAA7EAZUrDhsAAAANSURBVAjXYxAy\n",
       "BgETAAS2AUbzwGpmAAAAAElFTkSuQmCC\n",
       "\" style=\"display:inline;vertical-align:middle;\" /></a></td></tr>\n",
       "<tr><td>7</td><td>ExprTuple</td><td>14</td><td><a class=\"ProveItLink\" href=\"../packages/proveit/__pv_it/common/eacfeccc0521684fcb20fe8f5180ac50fca471f20/expr.ipynb\"><img src=\"data:image/png;base64,iVBORw0KGgoAAAANSUhEUgAAABgAAAAVBAMAAACuxzMVAAAAMFBMVEX///8AAAAAAAAAAAAAAAAA\n",
       "AAAAAAAAAAAAAAAAAAAAAAAAAAAAAAAAAAAAAAAAAAAv3aB7AAAAD3RSTlMAInZUiRDNmWbv3US7\n",
       "qzJazP2FAAAACXBIWXMAAA7EAAAOxAGVKw4bAAAAt0lEQVQY02NgYBBgAANGEMFkAOFwKwAJEwYo\n",
       "0GBgYE2AcdgCGNgbYByOAgZOBjiYymCG4GQwlADJIN04F6CZvkAuA0MB0yX2BQwMbQyLgToFOL7y\n",
       "As2xZJjNwMDHwA42/z2Iw8DACbKdYSdIGQPDfgHWAAYGK4ZDDAwxG24ysACFeoDmMdg/rWTYDOSU\n",
       "MLxiYAhXYq4AOX01A9cDmAMYF4CcBwUgJx+EcWSAOAbGAYkyKkDYTAIMAEI7Hl9jb5QLAAAAAElF\n",
       "TkSuQmCC\n",
       "\" style=\"display:inline;vertical-align:middle;\" /></a></td></tr>\n",
       "<tr><td>8</td><td>Operation</td><td>operator:&nbsp;10<br>operands:&nbsp;11<br></td><td><a class=\"ProveItLink\" href=\"../packages/proveit/numbers/number_sets/real_numbers/__pv_it/theorems/ffcbd76494d8407c0ebebaa8c88703403e0e53b60/expr.ipynb\"><img src=\"data:image/png;base64,iVBORw0KGgoAAAANSUhEUgAAADEAAAARBAMAAACGHlkZAAAAMFBMVEX///8AAAAAAAAAAAAAAAAA\n",
       "AAAAAAAAAAAAAAAAAAAAAAAAAAAAAAAAAAAAAAAAAAAv3aB7AAAAD3RSTlMAEHarMolUmd1mIs3v\n",
       "RLtmgJDEAAAACXBIWXMAAA7EAAAOxAGVKw4bAAAAvUlEQVQY02NgwAZC1Rcg8aQnwJncCYxdSDKM\n",
       "EQow5gwGhjgUMzQCoYzHDAz5AihSM6BS3xkY/BMYGISURUIToFLZVWBzQTJAWwuYjNgbYLpuGwIJ\n",
       "rq9AGQUGzgWcH5nhzrr9ECYTwMDCwL4BblG2Fdg0oMx9kEN5EK4thLsgH2T1/QWMAqiufsfAMF+A\n",
       "Qe6CDQMrmk/nMDBUA7U51jBcQwsdjgTGIwwM4kpslQloAcpYquzAQBmQ6ACBFjgfAFAoK0oOcBU8\n",
       "AAAAAElFTkSuQmCC\n",
       "\" style=\"display:inline;vertical-align:middle;\" /></a></td></tr>\n",
       "<tr><td>9</td><td>Operation</td><td>operator:&nbsp;12<br>operands:&nbsp;13<br></td><td><a class=\"ProveItLink\" href=\"__pv_it/basic_expressions/06b534f428ea1735f3f463ace3205ece8e0326b20/expr.ipynb\"><img src=\"data:image/png;base64,iVBORw0KGgoAAAANSUhEUgAAADEAAAAQBAMAAABNQoq8AAAAMFBMVEX///8AAAAAAAAAAAAAAAAA\n",
       "AAAAAAAAAAAAAAAAAAAAAAAAAAAAAAAAAAAAAAAAAAAv3aB7AAAAD3RSTlMAEHarMolUmd1mIs3v\n",
       "RLtmgJDEAAAACXBIWXMAAA7EAAAOxAGVKw4bAAAAwUlEQVQY02NgwAZC1RdgFWfgTmDswi4zg4Eh\n",
       "Dl2MbReIfMzAkC+AKsHZDhb4zsDgn8DAIKQsEpoAkWBqBUswgmQmMDAUMBmxN4AlRJsgCri+AmUU\n",
       "GDgXcH5kngASWN7JgCQTwMDCwL4BzGfeBrONEShzXwHI4FFAkwG5IB9k9f0FjAIopjG8Y2CYL8Ag\n",
       "d8GGgZUBxQUMcxgYqoHaHGsYrkFFhJog/uNIYDzCwCCuxFaZAPcp1EOlyg7oocO5i4EwAADRHieE\n",
       "tyiB0wAAAABJRU5ErkJggg==\n",
       "\" style=\"display:inline;vertical-align:middle;\" /></a></td></tr>\n",
       "<tr><td>10</td><td>Literal</td><td></td><td><a class=\"ProveItLink\" href=\"../packages/proveit/numbers/ordering/__pv_it/common/68379698d72b4689bbda4b5c5cca29ee599d70280/expr.ipynb\"><img src=\"data:image/png;base64,iVBORw0KGgoAAAANSUhEUgAAAA4AAAAQBAMAAADUulMJAAAAJ1BMVEX///8AAAAAAAAAAAAAAAAA\n",
       "AAAAAAAAAAAAAAAAAAAAAAAAAAAAAAAilU6eAAAADHRSTlMAVM0iZt2ZEHaJqzK1PWlpAAAACXBI\n",
       "WXMAAA7EAAAOxAGVKw4bAAAAO0lEQVQI12NgAAFGZTDFElYAojgiwVRlBFiwLARMVSmCKQYuKM1g\n",
       "FgJlQNXB9cHNAZqrzYALlIaCQDQAUHIJvA2CdOkAAAAASUVORK5CYII=\n",
       "\" style=\"display:inline;vertical-align:middle;\" /></a></td></tr>\n",
       "<tr><td>11</td><td>ExprTuple</td><td>15, 14</td><td><a class=\"ProveItLink\" href=\"../packages/proveit/numbers/number_sets/real_numbers/__pv_it/theorems/e1549c2a39fe76392b537ca21abaf0f3eaf19b2d0/expr.ipynb\"><img src=\"data:image/png;base64,iVBORw0KGgoAAAANSUhEUgAAACwAAAAVBAMAAADP3xFXAAAAMFBMVEX///8AAAAAAAAAAAAAAAAA\n",
       "AAAAAAAAAAAAAAAAAAAAAAAAAAAAAAAAAAAAAAAAAAAv3aB7AAAAD3RSTlMAInZUiRDNmWbv3US7\n",
       "qzJazP2FAAAACXBIWXMAAA7EAAAOxAGVKw4bAAABGElEQVQY02NgYBBgQAOMIILJAF2YWwFImDAw\n",
       "sDgVoohrMDCwJjAwJDNEoZjEFsDA3sDAsYCB5QCyMEcBAycDA88FBuavKKZMZTBjYOAvYOD7jCKc\n",
       "wVDCwBAPFP4B4QfpxrkAXeYLlGCQd2Dg+wQRLmC6xL6AgaGNYTFE+AvELgGOr7wNDAyWDLOBhjgw\n",
       "cENU8zGwJ4Do9yBhoJXMMCs5QT5k2AkyhOcAAwfMgfsFWAMYGKwYDgFNnADSC+QxxGy4ycACpHuA\n",
       "bmEA6oh8wPoNyLB/WsmwGUiXMLwCkuFO9xgYVgGVhysxV4ACdDUD1wOoqcwBiABfAAoWCGBB+B0Y\n",
       "fAwHoewghLAMyHYoWwEhDFLJqIAeaUwCDAC9zTVyIfm6dgAAAABJRU5ErkJggg==\n",
       "\" style=\"display:inline;vertical-align:middle;\" /></a></td></tr>\n",
       "<tr><td>12</td><td>Literal</td><td></td><td><a class=\"ProveItLink\" href=\"../packages/proveit/numbers/ordering/__pv_it/common/fa503ed52033522c609eef1cf3e1b45796489da50/expr.ipynb\"><img src=\"data:image/png;base64,iVBORw0KGgoAAAANSUhEUgAAAA4AAAAOBAMAAADtZjDiAAAAJFBMVEX///8AAAAAAAAAAAAAAAAA\n",
       "AAAAAAAAAAAAAAAAAAAAAAAAAADHJj5lAAAAC3RSTlMAVM0iZt2ZEHaJq+LMKKkAAAAJcEhZcwAA\n",
       "DsQAAA7EAZUrDhsAAAA1SURBVAjXY2BABozKYIolrABEcUSCqcoIsKBZCJjiUmRAoWHicHUMDBUR\n",
       "BRAGSySMoQyzAQB3EgcAVBRfuAAAAABJRU5ErkJggg==\n",
       "\" style=\"display:inline;vertical-align:middle;\" /></a></td></tr>\n",
       "<tr><td>13</td><td>ExprTuple</td><td>14, 15</td><td><a class=\"ProveItLink\" href=\"../packages/proveit/numbers/number_sets/real_numbers/__pv_it/theorems/3206534f18b79458ee1d51bcb5c48f75d48416870/expr.ipynb\"><img src=\"data:image/png;base64,iVBORw0KGgoAAAANSUhEUgAAACsAAAAVBAMAAAAtAwouAAAAMFBMVEX///8AAAAAAAAAAAAAAAAA\n",
       "AAAAAAAAAAAAAAAAAAAAAAAAAAAAAAAAAAAAAAAAAAAv3aB7AAAAD3RSTlMAInZUiRDNmWbv3US7\n",
       "qzJazP2FAAAACXBIWXMAAA7EAAAOxAGVKw4bAAABFklEQVQY012Rr08DMRTHP/eju9uA5TTqwKCW\n",
       "nCDYTUxCcpnBLGSGBDmxkOHqCBjmScgIDrXAH8BAs4TgcDMYDIgxLK8XOnbXpE2/n/f6+n0tEFEY\n",
       "GXCTIr4zy3YONbciXA2qs0xLibqGQwj0Mj6HXTiFcq7GBOop5ZSdHP6Bz4SSpieiVTtoZn6UwRr/\n",
       "hSNRXfc1GBrszATHhB1uIIzC7zW9wA28AZdQJfhzqQQ/xFS/DBY78f+V9YSVgSkiGZFKM/wMFyne\n",
       "kCdoj97wwQTO4FguG7Mnx95PuEfNBVcSdSWdN/iA/U2vL7ZvJV31alMJjqhMbYdeanfrUqdrhb94\n",
       "gr7MRytaduOMZWlbZb2zan7NiYuftgG/t7c3jmyOVwgAAAAASUVORK5CYII=\n",
       "\" style=\"display:inline;vertical-align:middle;\" /></a></td></tr>\n",
       "<tr><td>14</td><td>Variable</td><td></td><td><a class=\"ProveItLink\" href=\"__pv_it/basic_expressions/a0d9d672aa5e272d907247690c152cc2c6daafb70/expr.ipynb\"><img src=\"data:image/png;base64,iVBORw0KGgoAAAANSUhEUgAAAAsAAAAJBAMAAAAWSsseAAAAMFBMVEX///8AAAAAAAAAAAAAAAAA\n",
       "AAAAAAAAAAAAAAAAAAAAAAAAAAAAAAAAAAAAAAAAAAAv3aB7AAAAD3RSTlMAEHarMolUmd1mIs3v\n",
       "RLtmgJDEAAAACXBIWXMAAA7EAAAOxAGVKw4bAAAAQklEQVQI12NgEFIWCU1gYChgMmJvYOBcwPmR\n",
       "eQIDCwP7BgYQ4FEAU/cXMAowyF2wYWBlYMh3rGG4xsAgrsRWmcAAAFEjCyBvD0T9AAAAAElFTkSu\n",
       "QmCC\n",
       "\" style=\"display:inline;vertical-align:middle;\" /></a></td></tr>\n",
       "<tr><td>15</td><td>Literal</td><td></td><td><a class=\"ProveItLink\" href=\"../packages/proveit/numbers/numerals/__pv_it/common/dd4e19e8b134dfb293470ea55fe3589b0ab9f8040/expr.ipynb\"><img src=\"data:image/png;base64,iVBORw0KGgoAAAANSUhEUgAAAAoAAAAOBAMAAADkjZCYAAAAMFBMVEX///8AAAAAAAAAAAAAAAAA\n",
       "AAAAAAAAAAAAAAAAAAAAAAAAAAAAAAAAAAAAAAAAAAAv3aB7AAAAD3RSTlMAiXaZIs1UEN1mu6sy\n",
       "RO+L2jdBAAAACXBIWXMAAA7EAAAOxAGVKw4bAAAAV0lEQVQI12NgYBQyYWBgCGOocGDgbGBgXMDA\n",
       "tYGB7TsDvwEDzzeGeiD5k8FfgIHnE5j8yFAvwMD7CSTL9o2BawED53cGzgcMzAEMDG0MdQcYGIqF\n",
       "9jAAAMPIEplEfAWeAAAAAElFTkSuQmCC\n",
       "\" style=\"display:inline;vertical-align:middle;\" /></a></td></tr>\n",
       "</table>\n"
      ],
      "text/plain": [
       "0. {(x, -x) if x >= 0 ,  x < 0.\n",
       "   core type: Conditional\n",
       "   value: 1\n",
       "   condition: 2\n",
       "1. (x, -x)\n",
       "   core type: ExprTuple\n",
       "   sub-expressions: 14, 3\n",
       "2. (x >= 0) and (x < 0)\n",
       "   core type: Operation\n",
       "   operator: 4\n",
       "   operands: 5\n",
       "3. -x\n",
       "   core type: Operation\n",
       "   operator: 6\n",
       "   operand: 14\n",
       "4. and\n",
       "   core type: Literal\n",
       "   sub-expressions: \n",
       "5. (x >= 0, x < 0)\n",
       "   core type: ExprTuple\n",
       "   sub-expressions: 8, 9\n",
       "6. -\n",
       "   core type: Literal\n",
       "   sub-expressions: \n",
       "7. (x)\n",
       "   core type: ExprTuple\n",
       "   sub-expressions: 14\n",
       "8. x >= 0\n",
       "   core type: Operation\n",
       "   operator: 10\n",
       "   operands: 11\n",
       "9. x < 0\n",
       "   core type: Operation\n",
       "   operator: 12\n",
       "   operands: 13\n",
       "10. <=\n",
       "    core type: Literal\n",
       "    sub-expressions: \n",
       "11. (0, x)\n",
       "    core type: ExprTuple\n",
       "    sub-expressions: 15, 14\n",
       "12. <\n",
       "    core type: Literal\n",
       "    sub-expressions: \n",
       "13. (x, 0)\n",
       "    core type: ExprTuple\n",
       "    sub-expressions: 14, 15\n",
       "14. x\n",
       "    core type: Variable\n",
       "    sub-expressions: \n",
       "15. 0\n",
       "    core type: Literal\n",
       "    sub-expressions: "
      ]
     },
     "metadata": {},
     "output_type": "display_data"
    }
   ],
   "source": [
    "abs_cond.expr_info()"
   ]
  },
  {
   "cell_type": "markdown",
   "metadata": {},
   "source": [
    "It is actually common to have only one *condition*, indicating a value that is only defined when the condition is satisfied."
   ]
  },
  {
   "cell_type": "code",
   "execution_count": 76,
   "metadata": {},
   "outputs": [
    {
     "data": {
      "text/html": [
       "<strong id=\"div_cancel_cond\">div_cancel_cond:</strong> <a class=\"ProveItLink\" href=\"__pv_it/basic_expressions/4dda00671b93a7e9b6e94a0451b0c97cc668dc530/expr.ipynb\"><img src=\"data:image/png;base64,iVBORw0KGgoAAAANSUhEUgAAAMwAAAAmCAMAAAC/I4QkAAAAPFBMVEX///8AAAAAAAAAAAAAAAAA\n",
       "AAAAAAAAAAAAAAAAAAAAAAAAAAAAAAAAAAAAAAAAAAAAAAAAAAAAAAAAAAAo1xBWAAAAE3RSTlMA\n",
       "dt0yIs3vqxBmu0SZiVTn9enzKryueAAAAAlwSFlzAAAOxAAADsQBlSsOGwAAAx1JREFUWMPNWdmW\n",
       "2yAMZd8MdOH//7XG2BMEJMie9hQ9eBKPAF2h5UIIKUIZJ5X4SG6IkYasI4JJAbDoqf3U2/ynKHK2\n",
       "DhqhoPFWTocEElXWTOcIvQwYnYBjuZr6mUfiWR7pzhcurgKGwZ2QYZ4lhChKzsfxQq0SaDDKYsLY\n",
       "tWUtnjg+zf4LGBYwY3zeTapeeZfEgmA4amOI09fjehEWBPOV05Od0TnUbFUC1YJgagM/lQAdqK9D\n",
       "S6RvFTRLN4QHzT0w/EbsB1AFmX/U4orvZORpioaDoAm7N8VnMFcbROAwKnYl4a5s6XCBZUToqdtd\n",
       "Tbnkvrhh4iMYjTOJ7Q1Gw5Sn6Ul4FQQaU9h5rWTZ4VP3EYzC9YtoqW/CIib+nINgQtSJtpqOemKq\n",
       "AKTHFZZ/owJgwGzAzSU8+zV5XcBenw2l2vAQsCaaeR2EXDvnv8yRwLVSr0DrlK4kEWAx35letOSw\n",
       "wO7aVNNCKFGSaFUNWCX6Ddc+FtdtzrRK51Q/ftZTiRJBvF4zY3T10eq1b1bkCQ3RFg1mFqEd1/6K\n",
       "/QrMSKnbmBcYsObGKCyVV1rzttqa9PqWKmnC+A7XHoEZKWXDfBPToZgLtIQEbRVmFJxw1hXTPItb\n",
       "rj0AM1LqNuZaLLYFICj+BsyW2YAxfy9nOq49BNMoHVP9+t1M5Vxp8a11WtWxaK9U2so/8KUaweo6\n",
       "rj0C0yvtG9MaXXhtzzpE5VJzfd5boPH7gA3dPDBMs+Pap4ed+6hEYh/BLNOZKqiulAYM4BxmPKX7\n",
       "HBbfCBFMsePaR4cx+zNp+p6QDzYmGxio5n1K12CkIw8Fd9xuuTZKKd6gJTUY//iMFRjKxIZro5Tu\n",
       "XDLCI8DTaxY3p6gDro1Rsnf4Yg3GPKaLiGI24NoYpVv3pYD2O/8My/bvrmduHS0AGOTFRMepgyRL\n",
       "CABjEBV2xKlVXBAMzsUdp6aL3DQRBnuL4rgwBlxilY0BpzOC+kWj49R0kYzZA6spRBJ1Hqs5tVBi\n",
       "FTCGwUo+uo5qRkBObdgyP89k25SFJzYz42GAUztLVpIICCgRkxoAObXZ1gDxBxH3G//2gtfFAAAA\n",
       "AElFTkSuQmCC\n",
       "\" style=\"display:inline;vertical-align:middle;\" /></a><br>"
      ],
      "text/plain": [
       "<IPython.core.display.HTML object>"
      ]
     },
     "metadata": {},
     "output_type": "display_data"
    }
   ],
   "source": [
    "from proveit.logic import Equals, NotEquals\n",
    "from proveit.numbers import zero, Mult, frac\n",
    "div_cancel_cond = Conditional(Equals(Mult(x, frac(y, x)), y),\n",
    "                              NotEquals(y, zero))"
   ]
  },
  {
   "cell_type": "markdown",
   "metadata": {},
   "source": [
    "It will then have singular `condition` and `value` attributes."
   ]
  },
  {
   "cell_type": "code",
   "execution_count": 77,
   "metadata": {},
   "outputs": [
    {
     "data": {
      "text/html": [
       "<a class=\"ProveItLink\" href=\"__pv_it/basic_expressions/08a8b8d4a3b83fecc96ee9cda55659414829cfc20/expr.ipynb\"><img src=\"data:image/png;base64,iVBORw0KGgoAAAANSUhEUgAAADEAAAAUCAMAAAATIyWrAAAAPFBMVEX///8AAAAAAAAAAAAAAAAA\n",
       "AAAAAAAAAAAAAAAAAAAAAAAAAAAAAAAAAAAAAAAAAAAAAAAAAAAAAAAAAAAo1xBWAAAAE3RSTlMA\n",
       "EHaZZquJVO8y3btEzSLn9enz1JlQNgAAAAlwSFlzAAAOxAAADsQBlSsOGwAAAOVJREFUKM+VU+0O\n",
       "wyAIRFHRWrsP3/9dh3Tt1CU09QeRyHHcqQDaQgP3Vsp9FoLF7QKRU5cUAjCLDkm+S9wiPFmn6Btm\n",
       "gVPVlK09BVQU2tpms+h4b/yMKD2FORBcG4Bim7Oeli6yHs8Wjz5bDTvCQiIu4b3PGsUPEYCVRAvf\n",
       "0KvAITU7Yq1WomngpFEcyqkpBywcbIRBx+u9qzn9yDK1E3fF6TxZVWbfnbSU7oC+TeaGc8K/61na\n",
       "TUSZ3Xh+YnXTKbgMg/U/saGMFEF7Pa3YRLqi6Odjh/3Y06kUQM7iOjW5+/UgaYcfTccGjh8+UiMA\n",
       "AAAASUVORK5CYII=\n",
       "\" style=\"display:inline;vertical-align:middle;\" /></a>"
      ],
      "text/plain": [
       "y != 0"
      ]
     },
     "metadata": {},
     "output_type": "display_data"
    }
   ],
   "source": [
    "div_cancel_cond.condition"
   ]
  },
  {
   "cell_type": "code",
   "execution_count": 78,
   "metadata": {},
   "outputs": [
    {
     "data": {
      "text/html": [
       "<a class=\"ProveItLink\" href=\"__pv_it/basic_expressions/8913d9151764ba41baa72c6ded400c50ae7177900/expr.ipynb\"><img src=\"data:image/png;base64,iVBORw0KGgoAAAANSUhEUgAAAGgAAAAmBAMAAADaYMOOAAAAMFBMVEX///8AAAAAAAAAAAAAAAAA\n",
       "AAAAAAAAAAAAAAAAAAAAAAAAAAAAAAAAAAAAAAAAAAAv3aB7AAAAD3RSTlMAmVSrZs0y7xCJ3bsi\n",
       "RHYwvcNTAAAACXBIWXMAAA7EAAAOxAGVKw4bAAAB8klEQVQ4y42VS0sCURTHz+g0jqUpZAQuYoKg\n",
       "ZbMISoKQINoEtaydux4bpUWrCNtUFKQELdoZ7SLCHpsWgZvWSV9ARaKdqFgY9Jp7rxHMPefSWcwc\n",
       "zvgbz+t/BwBAswAzcxEU1ucOHEbAtAHW0jSjL7gj2RHQ684Dm4aW3S80rCh4845zTUNLUjGwBb6y\n",
       "4+yS+XnaUijYhmSCdYjMrzsrhbQFeGH3wAcFJeUcemy44c4dBU3KIc0OtrgzS0EtZKyxikjsER87\n",
       "GGjefjG77jAx2rocO4Zd67cjqHmR+CXEhNNbxyEfMovhSrEzwzccCmUVq2w0CSjO97q6c4J0ymzh\n",
       "AhBdDfdOaTnklV/8Gj1ndvYngCSD9ILe9sYR6B0XQInVbHSaa77yjL+Z8cY1cAEkRSlcCgCnrh81\n",
       "cAF0oFLBTP+nJiGAR1bKQXEc/P9aTCGADMtrdGUAnhAm0MQF4GM7uV3zRLCFNj5xAXTlFRuBHAVc\n",
       "AFpKAflzuAD0tgLqsXEBmE0FFIoTArhSQKUC8QA5PMzaxOqRqICwTFE+jaBajjJnneyQrPc5mE+P\n",
       "MbXTnd2QIgnoF1tskdAMEtvi12e6RV2y+oIfsOds3iYNmRfuwL03Bc55s28ppvHgUpLnbTsVdIBb\n",
       "1Tc3kHD902B5aNq5FSngB2Z3gEEcH6syAAAAAElFTkSuQmCC\n",
       "\" style=\"display:inline;vertical-align:middle;\" /></a>"
      ],
      "text/plain": [
       "(x * (y / x)) = y"
      ]
     },
     "metadata": {},
     "output_type": "display_data"
    }
   ],
   "source": [
    "div_cancel_cond.value"
   ]
  },
  {
   "cell_type": "markdown",
   "metadata": {},
   "source": [
    "<a name=\"Lambda\"></a>Lambda\n",
    "====\n",
    "\n",
    "This type of **expression** represents a mathematical mapping or function.  It contains *parameter(s)* (one or more *variables* and/or *iteration* of *indexed* *variables* that will be discussed in the <a href=\"#IndexedVar\">IndexedVar</a> section below) and a *body* (any **expression** that the *parameters* are to be mapped into)."
   ]
  },
  {
   "cell_type": "code",
   "execution_count": 79,
   "metadata": {},
   "outputs": [],
   "source": [
    "from proveit import Lambda"
   ]
  },
  {
   "cell_type": "code",
   "execution_count": 80,
   "metadata": {},
   "outputs": [
    {
     "data": {
      "text/html": [
       "<strong id=\"map_to_5\">map_to_5:</strong> <a class=\"ProveItLink\" href=\"__pv_it/basic_expressions/7683c1d3fdd864418993ce67505b575f6706ffe90/expr.ipynb\"><img src=\"data:image/png;base64,iVBORw0KGgoAAAANSUhEUgAAADcAAAAPCAMAAAB3LKe0AAAANlBMVEX///8AAAAAAAAAAAAAAAAA\n",
       "AAAAAAAAAAAAAAAAAAAAAAAAAAAAAAAAAAAAAAAAAAAAAAAAAABHL6OuAAAAEXRSTlMAEHarMolU\n",
       "md1mIs3vRLvz6fgHHdMAAAAJcEhZcwAADsQAAA7EAZUrDhsAAAC9SURBVCjPlZLZDoQwCEWBLnR3\n",
       "+P+fHVwythObWB6MWA69FwRYC7s/MMFqFMk5BFzmQpHg1jEwbwspveYGGZ5nHBIZtM75n4fR0chF\n",
       "cuYYKmhDMgQcnit967OmYpJUfYtqIApqp2cOqP3Pr4Vrk5z7z9snDCFH/y5YrmEVmjuCmm+s5ZM7\n",
       "HdadR3zmbO5kluPMiJa3CqZo4ib35X6BZ1HRUXmxyMpVfwub7y/tGRVVgEykh9FPfgJnYQTZsGJf\n",
       "6lEE1kaTsIUAAAAASUVORK5CYII=\n",
       "\" style=\"display:inline;vertical-align:middle;\" /></a><br>"
      ],
      "text/plain": [
       "<IPython.core.display.HTML object>"
      ]
     },
     "metadata": {},
     "output_type": "display_data"
    }
   ],
   "source": [
    "# maps any value to 5\n",
    "map_to_5 = Lambda(x, FIVE)"
   ]
  },
  {
   "cell_type": "code",
   "execution_count": 81,
   "metadata": {},
   "outputs": [
    {
     "data": {
      "text/html": [
       "<table><tr><th>&nbsp;</th><th>core type</th><th>sub-expressions</th><th>expression</th></tr>\n",
       "<tr><td>0</td><td>Lambda</td><td>parameter:&nbsp;3<br>body:&nbsp;2<br></td><td><a class=\"ProveItLink\" href=\"__pv_it/basic_expressions/7683c1d3fdd864418993ce67505b575f6706ffe90/expr.ipynb\"><img src=\"data:image/png;base64,iVBORw0KGgoAAAANSUhEUgAAADcAAAAPCAMAAAB3LKe0AAAANlBMVEX///8AAAAAAAAAAAAAAAAA\n",
       "AAAAAAAAAAAAAAAAAAAAAAAAAAAAAAAAAAAAAAAAAAAAAAAAAABHL6OuAAAAEXRSTlMAEHarMolU\n",
       "md1mIs3vRLvz6fgHHdMAAAAJcEhZcwAADsQAAA7EAZUrDhsAAAC9SURBVCjPlZLZDoQwCEWBLnR3\n",
       "+P+fHVwythObWB6MWA69FwRYC7s/MMFqFMk5BFzmQpHg1jEwbwspveYGGZ5nHBIZtM75n4fR0chF\n",
       "cuYYKmhDMgQcnit967OmYpJUfYtqIApqp2cOqP3Pr4Vrk5z7z9snDCFH/y5YrmEVmjuCmm+s5ZM7\n",
       "HdadR3zmbO5kluPMiJa3CqZo4ib35X6BZ1HRUXmxyMpVfwub7y/tGRVVgEykh9FPfgJnYQTZsGJf\n",
       "6lEE1kaTsIUAAAAASUVORK5CYII=\n",
       "\" style=\"display:inline;vertical-align:middle;\" /></a></td></tr>\n",
       "<tr><td>1</td><td>ExprTuple</td><td>3</td><td><a class=\"ProveItLink\" href=\"../packages/proveit/__pv_it/common/eacfeccc0521684fcb20fe8f5180ac50fca471f20/expr.ipynb\"><img src=\"data:image/png;base64,iVBORw0KGgoAAAANSUhEUgAAABgAAAAVBAMAAACuxzMVAAAAMFBMVEX///8AAAAAAAAAAAAAAAAA\n",
       "AAAAAAAAAAAAAAAAAAAAAAAAAAAAAAAAAAAAAAAAAAAv3aB7AAAAD3RSTlMAInZUiRDNmWbv3US7\n",
       "qzJazP2FAAAACXBIWXMAAA7EAAAOxAGVKw4bAAAAt0lEQVQY02NgYBBgAANGEMFkAOFwKwAJEwYo\n",
       "0GBgYE2AcdgCGNgbYByOAgZOBjiYymCG4GQwlADJIN04F6CZvkAuA0MB0yX2BQwMbQyLgToFOL7y\n",
       "As2xZJjNwMDHwA42/z2Iw8DACbKdYSdIGQPDfgHWAAYGK4ZDDAwxG24ysACFeoDmMdg/rWTYDOSU\n",
       "MLxiYAhXYq4AOX01A9cDmAMYF4CcBwUgJx+EcWSAOAbGAYkyKkDYTAIMAEI7Hl9jb5QLAAAAAElF\n",
       "TkSuQmCC\n",
       "\" style=\"display:inline;vertical-align:middle;\" /></a></td></tr>\n",
       "<tr><td>2</td><td>Literal</td><td></td><td><a class=\"ProveItLink\" href=\"__pv_it/basic_expressions/53d2dd3f57dfef2aa6ec32670440c9b3957640bf0/expr.ipynb\"><img src=\"data:image/png;base64,iVBORw0KGgoAAAANSUhEUgAAAAkAAAAPBAMAAADE5vg+AAAALVBMVEX///8AAAAAAAAAAAAAAAAA\n",
       "AAAAAAAAAAAAAAAAAAAAAAAAAAAAAAAAAAAAAADAOrOgAAAADnRSTlMAMhAi783diatmdrtEme/i\n",
       "v0YAAAAJcEhZcwAADsQAAA7EAZUrDhsAAABNSURBVAjXY2BkYFBmYGB5GpbEwMDml67AwMDBAAIo\n",
       "5KwKAQYGbgXmN2DuNjB5z4BhK5AUYHBjYOhjYChgYPBmYLBl4HJiYGC+26vAAADU3wwJQ/EKOgAA\n",
       "AABJRU5ErkJggg==\n",
       "\" style=\"display:inline;vertical-align:middle;\" /></a></td></tr>\n",
       "<tr><td>3</td><td>Variable</td><td></td><td><a class=\"ProveItLink\" href=\"__pv_it/basic_expressions/a0d9d672aa5e272d907247690c152cc2c6daafb70/expr.ipynb\"><img src=\"data:image/png;base64,iVBORw0KGgoAAAANSUhEUgAAAAsAAAAJBAMAAAAWSsseAAAAMFBMVEX///8AAAAAAAAAAAAAAAAA\n",
       "AAAAAAAAAAAAAAAAAAAAAAAAAAAAAAAAAAAAAAAAAAAv3aB7AAAAD3RSTlMAEHarMolUmd1mIs3v\n",
       "RLtmgJDEAAAACXBIWXMAAA7EAAAOxAGVKw4bAAAAQklEQVQI12NgEFIWCU1gYChgMmJvYOBcwPmR\n",
       "eQIDCwP7BgYQ4FEAU/cXMAowyF2wYWBlYMh3rGG4xsAgrsRWmcAAAFEjCyBvD0T9AAAAAElFTkSu\n",
       "QmCC\n",
       "\" style=\"display:inline;vertical-align:middle;\" /></a></td></tr>\n",
       "</table>\n"
      ],
      "text/plain": [
       "0. x -> 5\n",
       "   core type: Lambda\n",
       "   parameter: 3\n",
       "   body: 2\n",
       "1. (x)\n",
       "   core type: ExprTuple\n",
       "   sub-expressions: 3\n",
       "2. 5\n",
       "   core type: Literal\n",
       "   sub-expressions: \n",
       "3. x\n",
       "   core type: Variable\n",
       "   sub-expressions: "
      ]
     },
     "metadata": {},
     "output_type": "display_data"
    }
   ],
   "source": [
    "# Let's look at the Expression info\n",
    "map_to_5.expr_info()"
   ]
  },
  {
   "cell_type": "markdown",
   "metadata": {},
   "source": [
    "Here is an example with multiple *parameters* represented by an `ExprTuple` and a `Conditional` *body* .  This maps a pair of real numbers to the first element (invoking the `And`, `Add`, and `InSet` <a href=\"#Operation\">`Operation`</a>s and using the `Real` <a href=\"#Literal\">`Literal`</a>):"
   ]
  },
  {
   "cell_type": "code",
   "execution_count": 82,
   "metadata": {},
   "outputs": [
    {
     "data": {
      "text/html": [
       "<strong id=\"lambda_expr\">lambda_expr:</strong> <a class=\"ProveItLink\" href=\"__pv_it/basic_expressions/60c41d2fc10e783bdc8f5485aabd88a45530d3880/expr.ipynb\"><img src=\"data:image/png;base64,iVBORw0KGgoAAAANSUhEUgAAASYAAAAVCAMAAADcg7NfAAAANlBMVEX///8AAAAAAAAAAAAAAAAA\n",
       "AAAAAAAAAAAAAAAAAAAAAAAAAAAAAAAAAAAAAAAAAAAAAAAAAABHL6OuAAAAEXRSTlMAInZUiRDN\n",
       "mWbv3US7qzLz6SJmQj4AAAAJcEhZcwAADsQAAA7EAZUrDhsAAALuSURBVFjD3VjbtqMgDOUid8IZ\n",
       "/v9nB0WtSqihda05a3horTU7yU4IiYyVxRll0Z5alwqB/WdLSNJjQQxA6qAesc2KIbqtdjFm7V20\n",
       "H2l7Iy4nqu9k1TJ/SRJ3VZeWKY+lZWQcSkjBxo9M6IorTcbQVM2T/zKJQjZLdH2xWo36OS1fCT6k\n",
       "CRc39PS05hGaAkFj5QbgUz8NZ/oLmlpxNwDiOpEVfIQmSS5ycBsXEX1ZGvMzUuoIVVyOkK7tJdwb\n",
       "iPk3NAUtFJ4OoNR9Jg6Im7WAKyFApWk6nXqbldyn6v5L9kyEx2lCQRuarlrKlXZFUwLnDtuuBeNI\n",
       "sax+pig1v1EyJL4lSIERIJg5Oiw3i3gW64HZIUaeU9ToPmhDU6NlMQua2tSCaY4WF6d99pc8wZQM\n",
       "iDNf5W0RseUYB4tEoKRHvS1dL3/E8QDdjnMUtKGp0bKY29CEgOlODba2Ob4xJQPizNW2JB1yYN+6\n",
       "818qbjbOT+X9z58//rTy3t9w0OtlA2qWR51bvqCnBaeptTC5TXm87JqorL1xZUh8p2m5vNSMpWoF\n",
       "2C/Lj242Bf3CSeaQWk7clPBWC05TC6Zi70RPhp3bQ0zJgPi+6ZaWrvCsDn/DPsnwFVv6Dk3pXA0j\n",
       "dEEbmlotXZquYL7b+JjE460Suni5LyqzgYHbuF4NiWneZmZu1NdEtbGj41IN60l3Bu3R1GpBacLA\n",
       "hOj5WTKljlbqjRKC+MsjqENYUqYYEWbCVa4lYHITuJSjcfbSPcyRve+bTqD9TddoWcyNr0/WBdMS\n",
       "83M2phSXwusbV0jia4QKSKqBN4VaaWyV817VAObCvXWviuA7Y+iUMJrOoD2aWi1rx6TKZ4btLgqm\n",
       "IJ7fRNQRP/KZYZ3lG1do4qvbhTmfkD4ZH0o4daJ9qgsnzMhTPE8bRFeo4m/n2c6rFfKU/P3o+9ia\n",
       "ngKKTTOq8HDzSIUUjv2SpR7L3LZ/EFQ+u2/VsvwlND24vzkNSwy8DOcGfgtRj6y/+yweCdlBICMA\n",
       "AAAASUVORK5CYII=\n",
       "\" style=\"display:inline;vertical-align:middle;\" /></a><br>"
      ],
      "text/plain": [
       "<IPython.core.display.HTML object>"
      ]
     },
     "metadata": {},
     "output_type": "display_data"
    }
   ],
   "source": [
    "# Can have multiple arguments\n",
    "from proveit.logic import InSet, And\n",
    "from proveit.numbers import Add, Real\n",
    "from proveit import Conditional\n",
    "lambda_expr = Lambda([x, omega], \n",
    "                     Conditional(Add(x, omega), \n",
    "                                 And(InSet(x, Real), \n",
    "                                     InSet(omega, Real))))"
   ]
  },
  {
   "cell_type": "code",
   "execution_count": 83,
   "metadata": {},
   "outputs": [
    {
     "data": {
      "text/html": [
       "<table><tr><th>&nbsp;</th><th>core type</th><th>sub-expressions</th><th>expression</th></tr>\n",
       "<tr><td>0</td><td>Lambda</td><td>parameters:&nbsp;5<br>body:&nbsp;1<br></td><td><a class=\"ProveItLink\" href=\"__pv_it/basic_expressions/60c41d2fc10e783bdc8f5485aabd88a45530d3880/expr.ipynb\"><img src=\"data:image/png;base64,iVBORw0KGgoAAAANSUhEUgAAASYAAAAVCAMAAADcg7NfAAAANlBMVEX///8AAAAAAAAAAAAAAAAA\n",
       "AAAAAAAAAAAAAAAAAAAAAAAAAAAAAAAAAAAAAAAAAAAAAAAAAABHL6OuAAAAEXRSTlMAInZUiRDN\n",
       "mWbv3US7qzLz6SJmQj4AAAAJcEhZcwAADsQAAA7EAZUrDhsAAALuSURBVFjD3VjbtqMgDOUid8IZ\n",
       "/v9nB0WtSqihda05a3horTU7yU4IiYyVxRll0Z5alwqB/WdLSNJjQQxA6qAesc2KIbqtdjFm7V20\n",
       "H2l7Iy4nqu9k1TJ/SRJ3VZeWKY+lZWQcSkjBxo9M6IorTcbQVM2T/zKJQjZLdH2xWo36OS1fCT6k\n",
       "CRc39PS05hGaAkFj5QbgUz8NZ/oLmlpxNwDiOpEVfIQmSS5ycBsXEX1ZGvMzUuoIVVyOkK7tJdwb\n",
       "iPk3NAUtFJ4OoNR9Jg6Im7WAKyFApWk6nXqbldyn6v5L9kyEx2lCQRuarlrKlXZFUwLnDtuuBeNI\n",
       "sax+pig1v1EyJL4lSIERIJg5Oiw3i3gW64HZIUaeU9ToPmhDU6NlMQua2tSCaY4WF6d99pc8wZQM\n",
       "iDNf5W0RseUYB4tEoKRHvS1dL3/E8QDdjnMUtKGp0bKY29CEgOlODba2Ob4xJQPizNW2JB1yYN+6\n",
       "818qbjbOT+X9z58//rTy3t9w0OtlA2qWR51bvqCnBaeptTC5TXm87JqorL1xZUh8p2m5vNSMpWoF\n",
       "2C/Lj242Bf3CSeaQWk7clPBWC05TC6Zi70RPhp3bQ0zJgPi+6ZaWrvCsDn/DPsnwFVv6Dk3pXA0j\n",
       "dEEbmlotXZquYL7b+JjE460Suni5LyqzgYHbuF4NiWneZmZu1NdEtbGj41IN60l3Bu3R1GpBacLA\n",
       "hOj5WTKljlbqjRKC+MsjqENYUqYYEWbCVa4lYHITuJSjcfbSPcyRve+bTqD9TddoWcyNr0/WBdMS\n",
       "83M2phSXwusbV0jia4QKSKqBN4VaaWyV817VAObCvXWviuA7Y+iUMJrOoD2aWi1rx6TKZ4btLgqm\n",
       "IJ7fRNQRP/KZYZ3lG1do4qvbhTmfkD4ZH0o4daJ9qgsnzMhTPE8bRFeo4m/n2c6rFfKU/P3o+9ia\n",
       "ngKKTTOq8HDzSIUUjv2SpR7L3LZ/EFQ+u2/VsvwlND24vzkNSwy8DOcGfgtRj6y/+yweCdlBICMA\n",
       "AAAASUVORK5CYII=\n",
       "\" style=\"display:inline;vertical-align:middle;\" /></a></td></tr>\n",
       "<tr><td>1</td><td>Conditional</td><td>value:&nbsp;2<br>condition:&nbsp;3<br></td><td><a class=\"ProveItLink\" href=\"__pv_it/basic_expressions/7d82a18ae48d460ee01bcdfcc43c77a7bbe0f3dc0/expr.ipynb\"><img src=\"data:image/png;base64,iVBORw0KGgoAAAANSUhEUgAAANMAAAAVBAMAAAAumMZDAAAAMFBMVEX///8AAAAAAAAAAAAAAAAA\n",
       "AAAAAAAAAAAAAAAAAAAAAAAAAAAAAAAAAAAAAAAAAAAv3aB7AAAAD3RSTlMAEER2zVSJ3Zki72ar\n",
       "MruaaVGaAAAACXBIWXMAAA7EAAAOxAGVKw4bAAACqElEQVRIx72WTWgTQRTH3ybZZON+sKU9FGxj\n",
       "LOrFQlOrJ4usQinpxYAK3uxFD9ZDwcOCKC4oFCvKnmIpQQOKh6olgh40oFvES3qJF1ERMw2KithS\n",
       "TFFBizO72c1Okk0WLH2EMDP/N+83781HAgBMH2yW7d3e3off03x4bLly7pv3tEfzK6PzOafLrrbB\n",
       "zGLfkVK8qSZFjcDikvdclIH+Z7LdC0+2QQ1owE9mZA/UOKD3LVBpkETDA7W7wZ0BEAyPUAR1JdQS\n",
       "xemKB+pIsxmCVjdwQFUVByU1TrB1E4X+B7Vj0JXVQk+Dv6NjlNBBFZAZWnh9kkaR4DeK+Cs6ZoiF\n",
       "+6Z753DvqRQZOugqoPgpabU5olwASseoD0d1u8cpxGs4MUWhWBLyVoI0Q4a9V1rwBUdqENJrqDsX\n",
       "z1ZPzDEC+QGUjmZHfw5SZ/kJPJcXKRRnJmxeCclG8Tq/KpChkOtYTDxUXHWACaB0lM53OZ3MIfxV\n",
       "hMtmZ0pV51T1PG71AYNwbAolmhXA9k7FhqoFXMpbgQJxiJFFUzpKS1udKyxeN/O/XXcsxiFgQBgo\n",
       "FMAWs6IkZG2v3khWAbFzP5lH6SgtarUbLpEwgd/QQaEMCKYgXY8a0BkSN+JGcW+twywA7IOoiYq4\n",
       "79W1m+A6gUxZyFrrcVDfoaQxSRoVixesRIMJF4pB+wHwAqSi+Au6dFrHqFgw50Kxf7uzgRSFOn3m\n",
       "wfq05SMh8sF24tU07DSHRmooDfJSnKngOHcLpS/3gNbRDPC5MmltU6ysLiWOP6b3KlbRn1r7hy9V\n",
       "b+EPWWf3EHvVWlBPWbZf9nVd+rgGqgzMSpKfq6Zj6/hl/wrLh8mkiObvtWiwXZ9Vxd1n5da6z+fW\n",
       "j4V9eQWzG/Dz2unLK7q2AaiEP7eZl5vzx+IfFzTEJayx1woAAAAASUVORK5CYII=\n",
       "\" style=\"display:inline;vertical-align:middle;\" /></a></td></tr>\n",
       "<tr><td>2</td><td>Operation</td><td>operator:&nbsp;4<br>operands:&nbsp;5<br></td><td><a class=\"ProveItLink\" href=\"__pv_it/basic_expressions/dddd929993ca5bd62bc536b9b689268049e12ba90/expr.ipynb\"><img src=\"data:image/png;base64,iVBORw0KGgoAAAANSUhEUgAAADIAAAAOBAMAAACfqVJUAAAAMFBMVEX///8AAAAAAAAAAAAAAAAA\n",
       "AAAAAAAAAAAAAAAAAAAAAAAAAAAAAAAAAAAAAAAAAAAv3aB7AAAAD3RSTlMAEHarMolUmd1mIs3v\n",
       "RLtmgJDEAAAACXBIWXMAAA7EAAAOxAGVKw4bAAAAnUlEQVQY02NgQAI3GXCBJGJlhJRFQhNQZNiB\n",
       "mKuFgaGAyYi9AUUmDSTziYFzAedH5gkoMgUgIpKBhYF9A5hf0dFxpqOjmYGB9wKDHAPDLKAQjwKq\n",
       "C1gZGC4zMAQAWfcXMAogyzAzMKgxcAUwyF2wAalCkuFzYPnOIL2AId+xhuEaqmlHbfyfn2RgEFdi\n",
       "q0xAkWF8v4vzjAKxoYMSogDHmiKXnE+wjAAAAABJRU5ErkJggg==\n",
       "\" style=\"display:inline;vertical-align:middle;\" /></a></td></tr>\n",
       "<tr><td>3</td><td>Operation</td><td>operator:&nbsp;6<br>operands:&nbsp;7<br></td><td><a class=\"ProveItLink\" href=\"__pv_it/basic_expressions/74bf3ffa371e89a1767f3498e1a8d734a4f080cd0/expr.ipynb\"><img src=\"data:image/png;base64,iVBORw0KGgoAAAANSUhEUgAAAJ0AAAAVBAMAAACu6/FQAAAAMFBMVEX///8AAAAAAAAAAAAAAAAA\n",
       "AAAAAAAAAAAAAAAAAAAAAAAAAAAAAAAAAAAAAAAAAAAv3aB7AAAAD3RSTlMAInZUiRDNmWbv3US7\n",
       "qzJazP2FAAAACXBIWXMAAA7EAAAOxAGVKw4bAAACsklEQVQ4y42UTWgTQRTH/5tks9tksywiilIh\n",
       "VoQeFAJKQS/24KEHhSBYpaSSKAXtxQge6kWiYJtDDzmo+NFDUBRcpQa/wENxq0SlLTYIBYsirSCi\n",
       "VCqKCuLBeTOb/Ug3wTnMzpt5+3vvzXtvABhoOqT/2PEMTgqlVh6ox2Z+3XoJxJONJ5uCOMNjs4Nj\n",
       "BeAeCduDNDSpFn9TBTob9sPdgY5ZGzAxmkaIMeVsMK8b1lcgmhZyxA6iNzhQazU0vQYMAEqhGe9E\n",
       "lAWeF3KfbXWoKU8xmMoI0OY7CE2ZNx2exhYXxH7nW/Et+TlbTDPr8CwGS6PLex4/nHb9m+tni6NC\n",
       "Li+J6/NfzqPNrn+J/SzeaAEnmbhv66Hd/ILWpN149Wc5tthrpyHKa0Fh6VCoasZ57Qx44l3qYhqR\n",
       "GncgH3qtlGk/597fxbvXCD7MxagR5hfJ7GMbkb6LXYe3bvAP+apmcZ3NhvozwdOSdXk957iwg4ss\n",
       "0zfoG2NRcHAP53nyUeSZD5dwFdChCJB+xTTNO3a81SItlvnBe6CDvm0VxCvIAGdI+sy0TUvwtIPk\n",
       "kP6NeExP9IFseerlk0bxPub7zFyfzYsAEwAv64zHPz1fpXyWKF7giSHzTJQ9PGWR6Dvr1aykRLwJ\n",
       "6jmJ82Le+jvdTvGW8ZTZqcyTWdhB2TzZomYbrf8o0ZVoSWgL+m/0is5PengZajbVooLY9fEU7os8\n",
       "phxeHkWtAl5OOEvTK/B6iJyfX35xSWgdcXhroRameT19AQ50hIcESH73sP6+/DW05z+A2yTO0fSB\n",
       "7rsMeTanXrYd659O19+XScwcTyFWQWzB1yB7RL85z13Z32DjfvHBlOnrmPVuxwePxtdiBC0HPReT\n",
       "rRTaG98do5W2ZPmqKGA0GnMrNPCVI2tSsrlCaIU7q1rxNgL/AGqFn8s4MtFKAAAAAElFTkSuQmCC\n",
       "\" style=\"display:inline;vertical-align:middle;\" /></a></td></tr>\n",
       "<tr><td>4</td><td>Literal</td><td></td><td><a class=\"ProveItLink\" href=\"../packages/proveit/numbers/addition/__pv_it/common/4b7effaab3619a1c2c38fe2dee8601df8ec714590/expr.ipynb\"><img src=\"data:image/png;base64,iVBORw0KGgoAAAANSUhEUgAAAA4AAAAOBAMAAADtZjDiAAAAHlBMVEX///8AAAAAAAAAAAAAAAAA\n",
       "AAAAAAAAAAAAAAAAAACGjDitAAAACXRSTlMARGZUdpnd76sKo+zpAAAACXBIWXMAAA7EAAAOxAGV\n",
       "Kw4bAAAAH0lEQVQI12NgYGAQYoAAE2LosLS08rS0DKLVI9EgewAshQUueejZFAAAAABJRU5ErkJg\n",
       "gg==\n",
       "\" style=\"display:inline;vertical-align:middle;\" /></a></td></tr>\n",
       "<tr><td>5</td><td>ExprTuple</td><td>13, 14</td><td><a class=\"ProveItLink\" href=\"__pv_it/basic_expressions/bcb16c68e42926ce03bf906fc9840ad12ddeb0490/expr.ipynb\"><img src=\"data:image/png;base64,iVBORw0KGgoAAAANSUhEUgAAAC8AAAAVBAMAAAAk6KpUAAAAMFBMVEX///8AAAAAAAAAAAAAAAAA\n",
       "AAAAAAAAAAAAAAAAAAAAAAAAAAAAAAAAAAAAAAAAAAAv3aB7AAAAD3RSTlMAInZUiRDNmWbv3US7\n",
       "qzJazP2FAAAACXBIWXMAAA7EAAAOxAGVKw4bAAABF0lEQVQoz22RL0zDUBCHv/6j3diWalQBTUIC\n",
       "wTKBwJA0E2AaMgQJsgIxXFHYCQQEswSHIA1owoZBQnBzMxgMhASw3K00JWmbvHvvft/Lvd9dAZ/S\n",
       "N5XM5TK40bBa1jETcLoVgH1wkypwArUqnVrIWiWYSTiUrbO0u5F5c2UZ12A/cyDH2HxxB1OwouAT\n",
       "vC6XEn3vq5l5iDVsgtXnAlq4f55nUyI4FulDgZgIMmDDHbTlRl9Lwb3vhLo3YRFDgDXgAaJ0rHcF\n",
       "NSatH7ZlhN6QLVh/PeIW51tKnY7fH8/Udps32FmwetLGVYjztOed63v1lPok79YKi87npFqcJ/a/\n",
       "kfRkjfKkU+jGUEKUZ0EBGvpvjaA83Hn4BSvPMLsOqROkAAAAAElFTkSuQmCC\n",
       "\" style=\"display:inline;vertical-align:middle;\" /></a></td></tr>\n",
       "<tr><td>6</td><td>Literal</td><td></td><td><a class=\"ProveItLink\" href=\"../packages/proveit/logic/booleans/conjunction/__pv_it/common/42118ff318bd65d98b1393f64ce7c2269feef76e0/expr.ipynb\"><img src=\"data:image/png;base64,iVBORw0KGgoAAAANSUhEUgAAAAwAAAANBAMAAABvB5JxAAAALVBMVEX///8AAAAAAAAAAAAAAAAA\n",
       "AAAAAAAAAAAAAAAAAAAAAAAAAAAAAAAAAAAAAADAOrOgAAAADnRSTlMAiVQQ3c12ZqtEMrsimR5C\n",
       "toEAAAAJcEhZcwAADsQAAA7EAZUrDhsAAABJSURBVAjXY2BgYFRgAAGTADCV3gmmHFaDSCYB1gNA\n",
       "ivUA0wUgtYKBwRlIdTEwpDEwMAOVm0A08yowsADFeQIYykCadjE0g6hlALZOClg60HSyAAAAAElF\n",
       "TkSuQmCC\n",
       "\" style=\"display:inline;vertical-align:middle;\" /></a></td></tr>\n",
       "<tr><td>7</td><td>ExprTuple</td><td>8, 9</td><td><a class=\"ProveItLink\" href=\"__pv_it/basic_expressions/352e8cd3ee196bcfd05afb15b60acb596a35b5e90/expr.ipynb\"><img src=\"data:image/png;base64,iVBORw0KGgoAAAANSUhEUgAAAH8AAAAVBAMAAACd/CwcAAAAMFBMVEX///8AAAAAAAAAAAAAAAAA\n",
       "AAAAAAAAAAAAAAAAAAAAAAAAAAAAAAAAAAAAAAAAAAAv3aB7AAAAD3RSTlMAInZUiRDNmWbv3US7\n",
       "qzJazP2FAAAACXBIWXMAAA7EAAAOxAGVKw4bAAACLUlEQVQ4y2NgYBBgIBuAtTIZYEpwZJ75tvIE\n",
       "bo1tc85nzWlgYNgE4phgU8HDeIH7xlHcJhyQZdjbE8DABDSENQG7AQ4MB97iMUCEgYfvAgNDKgMD\n",
       "ewMuAwrZ8BrALgC0up2BgRNFgunUqmVwA3gwNeqsWpUAN+AAUHcAgxmyPHdSAMIFV2Mx9G9TRbiA\n",
       "NxToBbYGhhIgN0g3zgUcF2IBCC/wHU6EsNmBmHEdiMWYiuSFN2bASGS5wJAB5BYwXWJfABJPRITB\n",
       "tPWLoKYZg7R+ArHY4EnmgGTWL5BrOBIYFgNJAY6vvOCwTEAY4NEK4xSACA+wAUiB2BEGopknMMxm\n",
       "YOBjYIco5pu1atWqNVAvHO2AhssGhhgGhkYQ8yVQetUBiAE8ESAr+T6ADAAGpgJYLesBpGh8zgPx\n",
       "AgsDw14GBgcQMwbJBXwFoHTGPQHkBQaG/QKsYNULkAxgfwgxjpeBQZmBEWwAF3I6qJMBeWEBwyGg\n",
       "wRtuguwBAiUkA1gPaDAwAI3lecD3nSEMkm0UkAyIAaVjjgMMvgwM9k8rGTaDxdkM4AYUMHTwbGD9\n",
       "BvTClJvvj8+ACCfDDRBn4Gg4DYxiB4ZXDAzhSswVEJ2sd7bCcuMfAZ5jnxlWBTCwnk/kmAm1OvZ0\n",
       "ACw3HmQ4k2/AwLWBgesBSlL0gSRlGGAOQE2KW06tQsl8UkDLCvCVGCwESpQKID6IT0EQfv2MB1Ai\n",
       "FwtQwG8ADyhyGBXILxMVGRgA7l+FzNEy1c4AAAAASUVORK5CYII=\n",
       "\" style=\"display:inline;vertical-align:middle;\" /></a></td></tr>\n",
       "<tr><td>8</td><td>Operation</td><td>operator:&nbsp;11<br>operands:&nbsp;10<br></td><td><a class=\"ProveItLink\" href=\"../packages/proveit/numbers/ordering/__pv_it/theorems/d1323f34847310a404e8089c2c268d3c2eb89dbf0/expr.ipynb\"><img src=\"data:image/png;base64,iVBORw0KGgoAAAANSUhEUgAAADQAAAAQBAMAAACra0H4AAAAMFBMVEX///8AAAAAAAAAAAAAAAAA\n",
       "AAAAAAAAAAAAAAAAAAAAAAAAAAAAAAAAAAAAAAAAAAAv3aB7AAAAD3RSTlMAEHarMolUmd1mIs3v\n",
       "RLtmgJDEAAAACXBIWXMAAA7EAAAOxAGVKw4bAAAAyklEQVQY02NgwACce9797nnJgBXwcRnwWj7E\n",
       "IRXA8MAZp1QVN4qQXkfHBrgUH7LMbUUkXYbCQIaQskhoApDm2ohkIMuzXUBGAZMRewOQ5l6AkDrd\n",
       "3yQA9MUCzo/ME0BSSM6InAiylIWBHWw3g08HEDyAGvhwJliMRwFMySE73p1PAMS6v4ARRHMgS7F7\n",
       "AfXLXbBhYAUJMCkgSTE+0GRgyHesYbgGFtmGkCpgmMl3gUFcia0yASwi/FYAFvL/FvC9/oYcHFdf\n",
       "QAIKCgBACzQrtGfvLgAAAABJRU5ErkJggg==\n",
       "\" style=\"display:inline;vertical-align:middle;\" /></a></td></tr>\n",
       "<tr><td>9</td><td>Operation</td><td>operator:&nbsp;11<br>operands:&nbsp;12<br></td><td><a class=\"ProveItLink\" href=\"__pv_it/basic_expressions/9e5bdc0f6303404066b7274dbb0070e0f70489900/expr.ipynb\"><img src=\"data:image/png;base64,iVBORw0KGgoAAAANSUhEUgAAADYAAAAQBAMAAACvnpHFAAAAMFBMVEX///8AAAAAAAAAAAAAAAAA\n",
       "AAAAAAAAAAAAAAAAAAAAAAAAAAAAAAAAAAAAAAAAAAAv3aB7AAAAD3RSTlMAmSLdMlR2iWZEELur\n",
       "ze8/xV5QAAAACXBIWXMAAA7EAAAOxAGVKw4bAAAA1klEQVQY02NgwAQc93b/tdvBgB1wMx3gPLEL\n",
       "l1wBwwYf3HJCvKhi2cbGF+By3ChSc7OQ9J1aA2QIALGyA5BguoVkJsvWSwwMrAFAjn4CkOBVQMi9\n",
       "tTdbwMDACOKwN4DkkNxS0QWyeCYD1wYGDpAWP2Mg2AA1c1cHkC5g4DzAwA4SWY3sB0duoJkHGNgC\n",
       "GNRBIszIcoxOQBO2MPgLcF0CibAlIMlxbchgYKirefJbrgEsdBUhJ8DQwT2BYfVfhb5nEKE1OxfA\n",
       "4uG3AvferygBM30zJMygAACOZzaxzJUEAgAAAABJRU5ErkJggg==\n",
       "\" style=\"display:inline;vertical-align:middle;\" /></a></td></tr>\n",
       "<tr><td>10</td><td>ExprTuple</td><td>13, 15</td><td><a class=\"ProveItLink\" href=\"../packages/proveit/numbers/ordering/__pv_it/theorems/d87b972e3e29265b9fca1a9cb6e1de56983159ab0/expr.ipynb\"><img src=\"data:image/png;base64,iVBORw0KGgoAAAANSUhEUgAAADAAAAAVBAMAAADyTXAxAAAAMFBMVEX///8AAAAAAAAAAAAAAAAA\n",
       "AAAAAAAAAAAAAAAAAAAAAAAAAAAAAAAAAAAAAAAAAAAv3aB7AAAAD3RSTlMAInZUiRDNmWbv3US7\n",
       "qzJazP2FAAAACXBIWXMAAA7EAAAOxAGVKw4bAAABJUlEQVQoz2NgYBBgwACMIILJACHAkXnm28oT\n",
       "DAzcCkCOCbJSHsYL3DeOMjBoMDCwJqBKODAceMvAwBbAwN6ALlHIBjSzgIGTAUOCB8iYymCGIXE1\n",
       "FsjIYCgBkkG6cS4GMAm+w4lAhi9QioGhgOkS+wKoxLT1iwKAjDaGxUCbBDi+8jZAJTxawc60ZJjN\n",
       "wMDHwJ6AsONoB4jxHiTBwMCpgJB4zgMyaifIKAaG/QKsATAJ9ocHgAwrhkMMDDEbbjKwMDAEQCRY\n",
       "DwDDg6EH6C4G+6eVDJsZWL+BJQoYOng2MAB98YqBIVyJuQLojVUBoND9I8Bz7DMDw2oGrgcwXzMH\n",
       "IEXIAlBwQQELUtCAgvYgjBOEJCEDxDEwjgKSBEg1owJmnDMJMAAAJQc9wvIku18AAAAASUVORK5C\n",
       "YII=\n",
       "\" style=\"display:inline;vertical-align:middle;\" /></a></td></tr>\n",
       "<tr><td>11</td><td>Literal</td><td></td><td><a class=\"ProveItLink\" href=\"../packages/proveit/logic/sets/membership/__pv_it/common/477487d8796864d23d5810f83761435f25167f690/expr.ipynb\"><img src=\"data:image/png;base64,iVBORw0KGgoAAAANSUhEUgAAAAwAAAAMBAMAAACkW0HUAAAAKlBMVEX///8AAAAAAAAAAAAAAAAA\n",
       "AAAAAAAAAAAAAAAAAAAAAAAAAAAAAAAAAADmU0mKAAAADXRSTlMAdrvdzUQQIjLvVKuJ3kDT2wAA\n",
       "AAlwSFlzAAAOxAAADsQBlSsOGwAAADpJREFUCNdjYGAQMjZ2YGAIEWMAAnY3EMnAUgChwCRDpzEQ\n",
       "KDAkQXjMEIpRAEJ7Qahs1QQwHaNs7AAA8KcF/23LEVMAAAAASUVORK5CYII=\n",
       "\" style=\"display:inline;vertical-align:middle;\" /></a></td></tr>\n",
       "<tr><td>12</td><td>ExprTuple</td><td>14, 15</td><td><a class=\"ProveItLink\" href=\"__pv_it/basic_expressions/5360a028616b01c3a90509aaac0eb2f9040ecc450/expr.ipynb\"><img src=\"data:image/png;base64,iVBORw0KGgoAAAANSUhEUgAAADIAAAAVBAMAAAD2uKAMAAAAMFBMVEX///8AAAAAAAAAAAAAAAAA\n",
       "AAAAAAAAAAAAAAAAAAAAAAAAAAAAAAAAAAAAAAAAAAAv3aB7AAAAD3RSTlMAInZUiRDNmWbv3US7\n",
       "qzJazP2FAAAACXBIWXMAAA7EAAAOxAGVKw4bAAABKUlEQVQoz2NgYBBgwASMIILJAEmEI/PMt5Un\n",
       "GBi4FYAcExTFPIwXuG8cZWDQYGBgTUCTcWA48JaBgS2Agb0BQ6aQDWhsAQMnA6YMD5AxlcEMU+Zq\n",
       "LJCRwVACJAuAWOoBTIbvcCKQ4QuUY2AGuVteASozbf2iACCjjWExAwM7SIilASrj0Qp2rSXDbAaG\n",
       "3QysBxg4BGCmHe0AMd6DZBwYuC8wsMBd8JwHZNpOkGkXQCEkApdhf3gAyLBiOMTAcI7hfQFrIgMr\n",
       "VIb1ADBoGHqArmPw9J33p7KBIT4BLFPA0MGzgQHom1cMDDHfBDonMTBwLQWH9R8BnmOfGRhWM3A9\n",
       "gPvfFDmCFoCCDgYckGRAAX0QxmFVQJKRAeIYGIcJOWRB6hkVsKQDJgEGAAlCPzNG/1XXAAAAAElF\n",
       "TkSuQmCC\n",
       "\" style=\"display:inline;vertical-align:middle;\" /></a></td></tr>\n",
       "<tr><td>13</td><td>Variable</td><td></td><td><a class=\"ProveItLink\" href=\"__pv_it/basic_expressions/a0d9d672aa5e272d907247690c152cc2c6daafb70/expr.ipynb\"><img src=\"data:image/png;base64,iVBORw0KGgoAAAANSUhEUgAAAAsAAAAJBAMAAAAWSsseAAAAMFBMVEX///8AAAAAAAAAAAAAAAAA\n",
       "AAAAAAAAAAAAAAAAAAAAAAAAAAAAAAAAAAAAAAAAAAAv3aB7AAAAD3RSTlMAEHarMolUmd1mIs3v\n",
       "RLtmgJDEAAAACXBIWXMAAA7EAAAOxAGVKw4bAAAAQklEQVQI12NgEFIWCU1gYChgMmJvYOBcwPmR\n",
       "eQIDCwP7BgYQ4FEAU/cXMAowyF2wYWBlYMh3rGG4xsAgrsRWmcAAAFEjCyBvD0T9AAAAAElFTkSu\n",
       "QmCC\n",
       "\" style=\"display:inline;vertical-align:middle;\" /></a></td></tr>\n",
       "<tr><td>14</td><td>Variable</td><td></td><td><a class=\"ProveItLink\" href=\"__pv_it/basic_expressions/2e5b33f8f44527195a10b6078888697e89a14e8e0/expr.ipynb\"><img src=\"data:image/png;base64,iVBORw0KGgoAAAANSUhEUgAAAA0AAAAJBAMAAAAbVLtZAAAAMFBMVEX///8AAAAAAAAAAAAAAAAA\n",
       "AAAAAAAAAAAAAAAAAAAAAAAAAAAAAAAAAAAAAAAAAAAv3aB7AAAAD3RSTlMAmSLdMlR2iWZEELur\n",
       "ze8/xV5QAAAACXBIWXMAAA7EAAAOxAGVKw4bAAAATklEQVQI12NgEGBgYFB2YGANANL6CQyMQIqB\n",
       "vYFhJgPXBgYOBYYCBs4DDOwMDAcY2AIY1BkYtjD4C3BdYmCoq3nyW66BgWH1X4W+ZwwMAGWFDnrb\n",
       "bYx6AAAAAElFTkSuQmCC\n",
       "\" style=\"display:inline;vertical-align:middle;\" /></a></td></tr>\n",
       "<tr><td>15</td><td>Literal</td><td></td><td><a class=\"ProveItLink\" href=\"../packages/proveit/numbers/number_sets/real_numbers/__pv_it/common/93cac87a1a47e613f7a83b23ef7891599a1a4cca0/expr.ipynb\"><img src=\"data:image/png;base64,iVBORw0KGgoAAAANSUhEUgAAAA8AAAAPBAMAAADJ+Ih5AAAAMFBMVEX///8AAAAAAAAAAAAAAAAA\n",
       "AAAAAAAAAAAAAAAAAAAAAAAAAAAAAAAAAAAAAAAAAAAv3aB7AAAAD3RSTlMAZs3vu90iq0QQiTKZ\n",
       "VHZ+Ip2vAAAACXBIWXMAAA7EAAAOxAGVKw4bAAAAX0lEQVQI12MQMvFXNRFgAAKHdIZ2kQkgRhYD\n",
       "C3cBhMGToABjOEAY7DOhUlsuJYAYyapfX4K1ZwlOYoAwWCZCDMziPuAJYTCcToEypvCB5BxyGBgF\n",
       "PBgYgLa7MbjoXwAAK2IYKL6KYFkAAAAASUVORK5CYII=\n",
       "\" style=\"display:inline;vertical-align:middle;\" /></a></td></tr>\n",
       "</table>\n"
      ],
      "text/plain": [
       "0. (x, omega) -> {x + omega if x in Real ,  omega in Real.\n",
       "   core type: Lambda\n",
       "   parameters: 5\\n   body: 1\n",
       "1. {x + omega if x in Real ,  omega in Real.\n",
       "   core type: Conditional\n",
       "   value: 2\n",
       "   condition: 3\n",
       "2. x + omega\n",
       "   core type: Operation\n",
       "   operator: 4\n",
       "   operands: 5\n",
       "3. (x in Real) and (omega in Real)\n",
       "   core type: Operation\n",
       "   operator: 6\n",
       "   operands: 7\n",
       "4. +\n",
       "   core type: Literal\n",
       "   sub-expressions: \n",
       "5. (x, omega)\n",
       "   core type: ExprTuple\n",
       "   sub-expressions: 13, 14\n",
       "6. and\n",
       "   core type: Literal\n",
       "   sub-expressions: \n",
       "7. (x in Real, omega in Real)\n",
       "   core type: ExprTuple\n",
       "   sub-expressions: 8, 9\n",
       "8. x in Real\n",
       "   core type: Operation\n",
       "   operator: 11\n",
       "   operands: 10\n",
       "9. omega in Real\n",
       "   core type: Operation\n",
       "   operator: 11\n",
       "   operands: 12\n",
       "10. (x, Real)\n",
       "    core type: ExprTuple\n",
       "    sub-expressions: 13, 15\n",
       "11. in\n",
       "    core type: Literal\n",
       "    sub-expressions: \n",
       "12. (omega, Real)\n",
       "    core type: ExprTuple\n",
       "    sub-expressions: 14, 15\n",
       "13. x\n",
       "    core type: Variable\n",
       "    sub-expressions: \n",
       "14. omega\n",
       "    core type: Variable\n",
       "    sub-expressions: \n",
       "15. Real\n",
       "    core type: Literal\n",
       "    sub-expressions: "
      ]
     },
     "metadata": {},
     "output_type": "display_data"
    }
   ],
   "source": [
    "lambda_expr.expr_info()"
   ]
  },
  {
   "cell_type": "markdown",
   "metadata": {},
   "source": [
    "The `parameters` and `body` attributes access these respective sub-expressions:"
   ]
  },
  {
   "cell_type": "code",
   "execution_count": 84,
   "metadata": {},
   "outputs": [
    {
     "data": {
      "text/html": [
       "<a class=\"ProveItLink\" href=\"__pv_it/basic_expressions/bcb16c68e42926ce03bf906fc9840ad12ddeb0490/expr.ipynb\"><img src=\"data:image/png;base64,iVBORw0KGgoAAAANSUhEUgAAAC8AAAAVBAMAAAAk6KpUAAAAMFBMVEX///8AAAAAAAAAAAAAAAAA\n",
       "AAAAAAAAAAAAAAAAAAAAAAAAAAAAAAAAAAAAAAAAAAAv3aB7AAAAD3RSTlMAInZUiRDNmWbv3US7\n",
       "qzJazP2FAAAACXBIWXMAAA7EAAAOxAGVKw4bAAABF0lEQVQoz22RL0zDUBCHv/6j3diWalQBTUIC\n",
       "wTKBwJA0E2AaMgQJsgIxXFHYCQQEswSHIA1owoZBQnBzMxgMhASw3K00JWmbvHvvft/Lvd9dAZ/S\n",
       "N5XM5TK40bBa1jETcLoVgH1wkypwArUqnVrIWiWYSTiUrbO0u5F5c2UZ12A/cyDH2HxxB1OwouAT\n",
       "vC6XEn3vq5l5iDVsgtXnAlq4f55nUyI4FulDgZgIMmDDHbTlRl9Lwb3vhLo3YRFDgDXgAaJ0rHcF\n",
       "NSatH7ZlhN6QLVh/PeIW51tKnY7fH8/Udps32FmwetLGVYjztOed63v1lPok79YKi87npFqcJ/a/\n",
       "kfRkjfKkU+jGUEKUZ0EBGvpvjaA83Hn4BSvPMLsOqROkAAAAAElFTkSuQmCC\n",
       "\" style=\"display:inline;vertical-align:middle;\" /></a>"
      ],
      "text/plain": [
       "(x, omega)"
      ]
     },
     "metadata": {},
     "output_type": "display_data"
    }
   ],
   "source": [
    "lambda_expr.parameters"
   ]
  },
  {
   "cell_type": "code",
   "execution_count": 85,
   "metadata": {},
   "outputs": [
    {
     "data": {
      "text/html": [
       "<a class=\"ProveItLink\" href=\"__pv_it/basic_expressions/7d82a18ae48d460ee01bcdfcc43c77a7bbe0f3dc0/expr.ipynb\"><img src=\"data:image/png;base64,iVBORw0KGgoAAAANSUhEUgAAANMAAAAVBAMAAAAumMZDAAAAMFBMVEX///8AAAAAAAAAAAAAAAAA\n",
       "AAAAAAAAAAAAAAAAAAAAAAAAAAAAAAAAAAAAAAAAAAAv3aB7AAAAD3RSTlMAEER2zVSJ3Zki72ar\n",
       "MruaaVGaAAAACXBIWXMAAA7EAAAOxAGVKw4bAAACqElEQVRIx72WTWgTQRTH3ybZZON+sKU9FGxj\n",
       "LOrFQlOrJ4usQinpxYAK3uxFD9ZDwcOCKC4oFCvKnmIpQQOKh6olgh40oFvES3qJF1ERMw2KithS\n",
       "TFFBizO72c1Okk0WLH2EMDP/N+83781HAgBMH2yW7d3e3off03x4bLly7pv3tEfzK6PzOafLrrbB\n",
       "zGLfkVK8qSZFjcDikvdclIH+Z7LdC0+2QQ1owE9mZA/UOKD3LVBpkETDA7W7wZ0BEAyPUAR1JdQS\n",
       "xemKB+pIsxmCVjdwQFUVByU1TrB1E4X+B7Vj0JXVQk+Dv6NjlNBBFZAZWnh9kkaR4DeK+Cs6ZoiF\n",
       "+6Z753DvqRQZOugqoPgpabU5olwASseoD0d1u8cpxGs4MUWhWBLyVoI0Q4a9V1rwBUdqENJrqDsX\n",
       "z1ZPzDEC+QGUjmZHfw5SZ/kJPJcXKRRnJmxeCclG8Tq/KpChkOtYTDxUXHWACaB0lM53OZ3MIfxV\n",
       "hMtmZ0pV51T1PG71AYNwbAolmhXA9k7FhqoFXMpbgQJxiJFFUzpKS1udKyxeN/O/XXcsxiFgQBgo\n",
       "FMAWs6IkZG2v3khWAbFzP5lH6SgtarUbLpEwgd/QQaEMCKYgXY8a0BkSN+JGcW+twywA7IOoiYq4\n",
       "79W1m+A6gUxZyFrrcVDfoaQxSRoVixesRIMJF4pB+wHwAqSi+Au6dFrHqFgw50Kxf7uzgRSFOn3m\n",
       "wfq05SMh8sF24tU07DSHRmooDfJSnKngOHcLpS/3gNbRDPC5MmltU6ysLiWOP6b3KlbRn1r7hy9V\n",
       "b+EPWWf3EHvVWlBPWbZf9nVd+rgGqgzMSpKfq6Zj6/hl/wrLh8mkiObvtWiwXZ9Vxd1n5da6z+fW\n",
       "j4V9eQWzG/Dz2unLK7q2AaiEP7eZl5vzx+IfFzTEJayx1woAAAAASUVORK5CYII=\n",
       "\" style=\"display:inline;vertical-align:middle;\" /></a>"
      ],
      "text/plain": [
       "{x + omega if x in Real ,  omega in Real."
      ]
     },
     "metadata": {},
     "output_type": "display_data"
    }
   ],
   "source": [
    "lambda_expr.body"
   ]
  },
  {
   "cell_type": "markdown",
   "metadata": {},
   "source": [
    "If a `Lambda` map has one *parameter*, it will have a `parameter` attribute."
   ]
  },
  {
   "cell_type": "code",
   "execution_count": 86,
   "metadata": {},
   "outputs": [
    {
     "data": {
      "text/html": [
       "<strong id=\"single_param_lambda\">single_param_lambda:</strong> <a class=\"ProveItLink\" href=\"__pv_it/basic_expressions/a6058ec6bbdb96aeb78124eff0628514f9a5e3d20/expr.ipynb\"><img src=\"data:image/png;base64,iVBORw0KGgoAAAANSUhEUgAAAF8AAAAVCAMAAAAXUcLNAAAANlBMVEX///8AAAAAAAAAAAAAAAAA\n",
       "AAAAAAAAAAAAAAAAAAAAAAAAAAAAAAAAAAAAAAAAAAAAAAAAAABHL6OuAAAAEXRSTlMAEHarMolU\n",
       "md1mIs3vRLvz6fgHHdMAAAAJcEhZcwAADsQAAA7EAZUrDhsAAAFuSURBVDjLrVXbdsQgCBS84Y3W\n",
       "///ZatQ2btxt3LM+JJHgOIyAQuwP/1G3y0BTHqp+wUuIhG/BG12fMYdABK+JuDfgIRwvipk0/OMb\n",
       "YB/fNlLyjq+zN9R+0DiK+/giLgOYjGbmYMIOfqjBAqIEpbUZVpp85pnVHd+hlmqZllKj76mjK41C\n",
       "ECUKS2tEwxdGZXAJ0ue0yMpYBOXcNHAlWlfmrsylW+ML5JNgZE5/mK7axgozuJrYKsWGs8/XN00j\n",
       "n3jGM2Wb++FDDr+mg0VXUeW+Cp8rLlI4YXZ8Dg1snACNLIh8bJeGWO1VeQCs8dVUJV2fePjIfJEn\n",
       "V6Zu2A0J4CRk3UY/4R+mAuAWqf4j+4Bf95dBmGOVY2GyAlvw09/BpRf5r1vi+2rFRfnU/U1Ry45s\n",
       "BotYQJx5UiJ6TnLVg/PWSruoTpColZfYVlHa7j+kNi4K2u9vd3rWQy/cG3z7XvL8zv0C/HkmM62b\n",
       "997R2X8A/O4JMl/3uygAAAAASUVORK5CYII=\n",
       "\" style=\"display:inline;vertical-align:middle;\" /></a><br>"
      ],
      "text/plain": [
       "<IPython.core.display.HTML object>"
      ]
     },
     "metadata": {},
     "output_type": "display_data"
    }
   ],
   "source": [
    "single_param_lambda = Lambda(x, Mult(FIVE, a))"
   ]
  },
  {
   "cell_type": "code",
   "execution_count": 87,
   "metadata": {},
   "outputs": [
    {
     "data": {
      "text/html": [
       "<a class=\"ProveItLink\" href=\"__pv_it/basic_expressions/a0d9d672aa5e272d907247690c152cc2c6daafb70/expr.ipynb\"><img src=\"data:image/png;base64,iVBORw0KGgoAAAANSUhEUgAAAAsAAAAJBAMAAAAWSsseAAAAMFBMVEX///8AAAAAAAAAAAAAAAAA\n",
       "AAAAAAAAAAAAAAAAAAAAAAAAAAAAAAAAAAAAAAAAAAAv3aB7AAAAD3RSTlMAEHarMolUmd1mIs3v\n",
       "RLtmgJDEAAAACXBIWXMAAA7EAAAOxAGVKw4bAAAAQklEQVQI12NgEFIWCU1gYChgMmJvYOBcwPmR\n",
       "eQIDCwP7BgYQ4FEAU/cXMAowyF2wYWBlYMh3rGG4xsAgrsRWmcAAAFEjCyBvD0T9AAAAAElFTkSu\n",
       "QmCC\n",
       "\" style=\"display:inline;vertical-align:middle;\" /></a>"
      ],
      "text/plain": [
       "x"
      ]
     },
     "metadata": {},
     "output_type": "display_data"
    }
   ],
   "source": [
    "single_param_lambda.parameter"
   ]
  },
  {
   "cell_type": "markdown",
   "metadata": {},
   "source": [
    "### Lambda relabeling and relabeled equivalence"
   ]
  },
  {
   "cell_type": "markdown",
   "metadata": {},
   "source": [
    "The choice of *parameter* *labels* has no effect on the meaning of a `Lambda` map.  We are free to \"relabel\" the *parameters* (via `Lambda.relabeled`) as long as it is done consistently and distinct labels remain distinct."
   ]
  },
  {
   "cell_type": "code",
   "execution_count": 88,
   "metadata": {},
   "outputs": [
    {
     "data": {
      "text/html": [
       "<a class=\"ProveItLink\" href=\"__pv_it/basic_expressions/60c41d2fc10e783bdc8f5485aabd88a45530d3880/expr.ipynb\"><img src=\"data:image/png;base64,iVBORw0KGgoAAAANSUhEUgAAASYAAAAVCAMAAADcg7NfAAAANlBMVEX///8AAAAAAAAAAAAAAAAA\n",
       "AAAAAAAAAAAAAAAAAAAAAAAAAAAAAAAAAAAAAAAAAAAAAAAAAABHL6OuAAAAEXRSTlMAInZUiRDN\n",
       "mWbv3US7qzLz6SJmQj4AAAAJcEhZcwAADsQAAA7EAZUrDhsAAALuSURBVFjD3VjbtqMgDOUid8IZ\n",
       "/v9nB0WtSqihda05a3horTU7yU4IiYyVxRll0Z5alwqB/WdLSNJjQQxA6qAesc2KIbqtdjFm7V20\n",
       "H2l7Iy4nqu9k1TJ/SRJ3VZeWKY+lZWQcSkjBxo9M6IorTcbQVM2T/zKJQjZLdH2xWo36OS1fCT6k\n",
       "CRc39PS05hGaAkFj5QbgUz8NZ/oLmlpxNwDiOpEVfIQmSS5ycBsXEX1ZGvMzUuoIVVyOkK7tJdwb\n",
       "iPk3NAUtFJ4OoNR9Jg6Im7WAKyFApWk6nXqbldyn6v5L9kyEx2lCQRuarlrKlXZFUwLnDtuuBeNI\n",
       "sax+pig1v1EyJL4lSIERIJg5Oiw3i3gW64HZIUaeU9ToPmhDU6NlMQua2tSCaY4WF6d99pc8wZQM\n",
       "iDNf5W0RseUYB4tEoKRHvS1dL3/E8QDdjnMUtKGp0bKY29CEgOlODba2Ob4xJQPizNW2JB1yYN+6\n",
       "818qbjbOT+X9z58//rTy3t9w0OtlA2qWR51bvqCnBaeptTC5TXm87JqorL1xZUh8p2m5vNSMpWoF\n",
       "2C/Lj242Bf3CSeaQWk7clPBWC05TC6Zi70RPhp3bQ0zJgPi+6ZaWrvCsDn/DPsnwFVv6Dk3pXA0j\n",
       "dEEbmlotXZquYL7b+JjE460Suni5LyqzgYHbuF4NiWneZmZu1NdEtbGj41IN60l3Bu3R1GpBacLA\n",
       "hOj5WTKljlbqjRKC+MsjqENYUqYYEWbCVa4lYHITuJSjcfbSPcyRve+bTqD9TddoWcyNr0/WBdMS\n",
       "83M2phSXwusbV0jia4QKSKqBN4VaaWyV817VAObCvXWviuA7Y+iUMJrOoD2aWi1rx6TKZ4btLgqm\n",
       "IJ7fRNQRP/KZYZ3lG1do4qvbhTmfkD4ZH0o4daJ9qgsnzMhTPE8bRFeo4m/n2c6rFfKU/P3o+9ia\n",
       "ngKKTTOq8HDzSIUUjv2SpR7L3LZ/EFQ+u2/VsvwlND24vzkNSwy8DOcGfgtRj6y/+yweCdlBICMA\n",
       "AAAASUVORK5CYII=\n",
       "\" style=\"display:inline;vertical-align:middle;\" /></a>"
      ],
      "text/plain": [
       "(x, omega) -> {x + omega if x in Real ,  omega in Real."
      ]
     },
     "metadata": {},
     "output_type": "display_data"
    }
   ],
   "source": [
    "lambda_expr"
   ]
  },
  {
   "cell_type": "code",
   "execution_count": 89,
   "metadata": {},
   "outputs": [
    {
     "data": {
      "text/html": [
       "<strong id=\"lambda_expr_v2\">lambda_expr_v2:</strong> <a class=\"ProveItLink\" href=\"__pv_it/basic_expressions/af2483277b0a0c2162dc2a430b4bb1cc9d2f27520/expr.ipynb\"><img src=\"data:image/png;base64,iVBORw0KGgoAAAANSUhEUgAAASMAAAAVCAMAAAA6qngbAAAANlBMVEX///8AAAAAAAAAAAAAAAAA\n",
       "AAAAAAAAAAAAAAAAAAAAAAAAAAAAAAAAAAAAAAAAAAAAAAAAAABHL6OuAAAAEXRSTlMAInZUiRDN\n",
       "mWbv3US7qzLz6SJmQj4AAAAJcEhZcwAADsQAAA7EAZUrDhsAAAMYSURBVFjD3VjZkuMgDOS+YZf/\n",
       "/9kBDLHNEctOqqZqeEhSSdQtNUJIRigtjAAL9KfX4taiv7QIhfzLkjuQwvJvuKbIDamV0M5FYbRT\n",
       "j7jemFMGjBvOTONnCmG9cQka4p18dAj7tJteuUf8S3MuoBACTMzMZ+ljoyw7a5LT/F6QrLwF/1Cj\n",
       "ubkEp4eS39DIQvg2Ybx/FqTESHyg0Wiu4Rh6sacE39CIwuuav9oU4kxaYhKkA1UPoDm9obhQ3UY3\n",
       "DPkrGllB+DQRPOeADISby61ic1LOXP9jq6EmlND3X88imLlGU9Beo46jfBQ6mQSv9X7aRiw81sct\n",
       "yOCowFccd8xrbjBE86FT8RROawpwJNvtuFCFdqktxRvQs0Y9R/XK9/VoxBJ4VlC0MNF0CTLlgJsj\n",
       "U+wDRTKH7d1M/uRhUZLqVeaQ021Zr+45aKdRz1G97TWaYIl50VVquKmnHHBzpG0tLzr7ro8BlFaZ\n",
       "F6dUET3sm/jvvzmtuPcx2AuLZqCy/FPr8uYXHAuNRgeDbtzufFgcV+erc8oBN28a5ZaEZxHCsaqU\n",
       "7/3rI7LLPLLi0OoF2bJqAtrl0cCx0GjE4m5xeQeJzj3glANu3s5aLSHk1Aj416CCN2xqFhqFrv45\n",
       "vwTtNBo4lhoNWGbV4MiA3TUH2Dx9Tw5eba61eF3IGydzK76lqHILhr7+tbv/ALrQaOBYajRgEbII\n",
       "MqXINjfxdxzX5ns4bcvzpBLL9Rpr0WKaeR2ik3V6an1CSV1Qf7SDLs9az1G9dfsrWmEJOgkyu5IK\n",
       "irN7IAuOK/N6JhNIqOFwz4iMRWdjeD2yMQmv9KtOmsV8ycJCowPoQqOBoxzd3Bnx9Br9/vWIxb07\n",
       "PV3YBneHs7gi0lcgUw6AeQ06yXZoq1hNIDqfOTB4Uj322Uw87rNH3A7LMncaJoae/v1AfGXeTaqZ\n",
       "nWt6uAjGBZ9+q0Yn0Fsz7VyeAevS6FuP2HJ2IZN217PW9s/TyIEh6/VzBP10PcHi5FsalU6BKiJb\n",
       "tSFvtAQ+I9uO8xH00/UE62sSpYhAWOTOA20sPUV/Zf0A9vsfkoEJ4xUAAAAASUVORK5CYII=\n",
       "\" style=\"display:inline;vertical-align:middle;\" /></a><br>"
      ],
      "text/plain": [
       "<IPython.core.display.HTML object>"
      ]
     },
     "metadata": {},
     "output_type": "display_data"
    }
   ],
   "source": [
    "lambda_expr_v2 = lambda_expr.relabeled({x:y})"
   ]
  },
  {
   "cell_type": "markdown",
   "metadata": {},
   "source": [
    "We can even simultaneously swap labels:"
   ]
  },
  {
   "cell_type": "code",
   "execution_count": 90,
   "metadata": {},
   "outputs": [
    {
     "data": {
      "text/html": [
       "<a class=\"ProveItLink\" href=\"__pv_it/basic_expressions/60c41d2fc10e783bdc8f5485aabd88a45530d3880/expr.ipynb\"><img src=\"data:image/png;base64,iVBORw0KGgoAAAANSUhEUgAAASYAAAAVCAMAAADcg7NfAAAANlBMVEX///8AAAAAAAAAAAAAAAAA\n",
       "AAAAAAAAAAAAAAAAAAAAAAAAAAAAAAAAAAAAAAAAAAAAAAAAAABHL6OuAAAAEXRSTlMAInZUiRDN\n",
       "mWbv3US7qzLz6SJmQj4AAAAJcEhZcwAADsQAAA7EAZUrDhsAAALuSURBVFjD3VjbtqMgDOUid8IZ\n",
       "/v9nB0WtSqihda05a3horTU7yU4IiYyVxRll0Z5alwqB/WdLSNJjQQxA6qAesc2KIbqtdjFm7V20\n",
       "H2l7Iy4nqu9k1TJ/SRJ3VZeWKY+lZWQcSkjBxo9M6IorTcbQVM2T/zKJQjZLdH2xWo36OS1fCT6k\n",
       "CRc39PS05hGaAkFj5QbgUz8NZ/oLmlpxNwDiOpEVfIQmSS5ycBsXEX1ZGvMzUuoIVVyOkK7tJdwb\n",
       "iPk3NAUtFJ4OoNR9Jg6Im7WAKyFApWk6nXqbldyn6v5L9kyEx2lCQRuarlrKlXZFUwLnDtuuBeNI\n",
       "sax+pig1v1EyJL4lSIERIJg5Oiw3i3gW64HZIUaeU9ToPmhDU6NlMQua2tSCaY4WF6d99pc8wZQM\n",
       "iDNf5W0RseUYB4tEoKRHvS1dL3/E8QDdjnMUtKGp0bKY29CEgOlODba2Ob4xJQPizNW2JB1yYN+6\n",
       "818qbjbOT+X9z58//rTy3t9w0OtlA2qWR51bvqCnBaeptTC5TXm87JqorL1xZUh8p2m5vNSMpWoF\n",
       "2C/Lj242Bf3CSeaQWk7clPBWC05TC6Zi70RPhp3bQ0zJgPi+6ZaWrvCsDn/DPsnwFVv6Dk3pXA0j\n",
       "dEEbmlotXZquYL7b+JjE460Suni5LyqzgYHbuF4NiWneZmZu1NdEtbGj41IN60l3Bu3R1GpBacLA\n",
       "hOj5WTKljlbqjRKC+MsjqENYUqYYEWbCVa4lYHITuJSjcfbSPcyRve+bTqD9TddoWcyNr0/WBdMS\n",
       "83M2phSXwusbV0jia4QKSKqBN4VaaWyV817VAObCvXWviuA7Y+iUMJrOoD2aWi1rx6TKZ4btLgqm\n",
       "IJ7fRNQRP/KZYZ3lG1do4qvbhTmfkD4ZH0o4daJ9qgsnzMhTPE8bRFeo4m/n2c6rFfKU/P3o+9ia\n",
       "ngKKTTOq8HDzSIUUjv2SpR7L3LZ/EFQ+u2/VsvwlND24vzkNSwy8DOcGfgtRj6y/+yweCdlBICMA\n",
       "AAAASUVORK5CYII=\n",
       "\" style=\"display:inline;vertical-align:middle;\" /></a>"
      ],
      "text/plain": [
       "(x, omega) -> {x + omega if x in Real ,  omega in Real."
      ]
     },
     "metadata": {},
     "output_type": "display_data"
    }
   ],
   "source": [
    "lambda_expr"
   ]
  },
  {
   "cell_type": "code",
   "execution_count": 91,
   "metadata": {},
   "outputs": [
    {
     "data": {
      "text/html": [
       "<a class=\"ProveItLink\" href=\"__pv_it/basic_expressions/e74a8579e9994f7c4b6efb05f2e769119a9ced900/expr.ipynb\"><img src=\"data:image/png;base64,iVBORw0KGgoAAAANSUhEUgAAASYAAAAVCAMAAADcg7NfAAAANlBMVEX///8AAAAAAAAAAAAAAAAA\n",
       "AAAAAAAAAAAAAAAAAAAAAAAAAAAAAAAAAAAAAAAAAAAAAAAAAABHL6OuAAAAEXRSTlMAInZUiRDN\n",
       "mWbv3US7qzLz6SJmQj4AAAAJcEhZcwAADsQAAA7EAZUrDhsAAAL6SURBVFjD3VhZsuMgDGQxqwVv\n",
       "uP9lh4CXAFKCE1fNq+EjS5W7JbWEEGYsL85m1txT21Lryv6zJeTUY6u4QKlXdYtvVlyT22oHkLR3\n",
       "YD+x9gItl9nYpy3L9KVI3FVbWsZ0sSyB8ZBzGix84gOJVnqaQ88aXvyXRbQmU7Lrs9fqcqBL+Yrh\n",
       "M5lwtJmvTmtukml9a7NqE8LHgRrONLsR7S6QOCKzgl+TSU62uTCRFwE+L40ECtfBJFpe0VzbLt07\n",
       "iflXMq1aKLQeglLhOphEm62B7w5xH5viFyKouCz1MFxObCuEx2UiSAeZWiv5ee2ypRice9p2GBkf\n",
       "22UNNILU/LURDEyitwKRh4epCSH7JoJgxm8HJiGMbEvU6Jekg0ytleJW6HsTSqY5FqjTPvmhUAYj\n",
       "CJhEe9mkKlfCc3u1mcnm0z1sYjqqfsTzAbof5wTpIFNnpbg7yISSabwJWzue36MRzebRrowlZWZW\n",
       "sNMdK56lUf6m4+fPH9+sdMw3POj6EyM15WHnylfAraAyoR5Gt5uHdtuAsv1hOhjBwCS6ylQa1BqO\n",
       "n80TZ+pXsppWfU6B0dTSokmRFu7Ea5lQMgXEkR4Nw6bLxggGJtF104Xj0sKXYdLLyVMVJT0hU2y7\n",
       "4RYkSTrK9GwFlQkn89TkYyIH9saIZ/NoKB5DfOwo85jJ+dNxr2BlwZ0JtEA42HXDetL1pJRMvRVU\n",
       "JpxMCCLQXCr1bqVoIwi4R58R1Tp2S3AxganNV6XtqEpRmcy9ynZ6eGTm/dzUkZIy9VaKu3B+shdk\n",
       "WiKBPrzJ3SULc0SCGhnBHXpTOHNEX7VOOUnW7ZvX+5IFZbLi0tidzhPX0CViMvWkZDV1VraJSeXP\n",
       "FMRRDSiZCtC8i6h3fOAPiXWSRySIkRE8orews3Ld5LcHgl1L+OyN9q4pfOqWvEB735iJZBb87j6L\n",
       "vlyZviV/f/W9by038QAyjCos3RxmKYVjv2WpuwoXmx/ErJ7EW7Ukf4tM921vPkclLrwM5yb8GqHu\n",
       "WH8B/DAeCdlhGjQAAAAASUVORK5CYII=\n",
       "\" style=\"display:inline;vertical-align:middle;\" /></a>"
      ],
      "text/plain": [
       "(omega, x) -> {omega + x if omega in Real ,  x in Real."
      ]
     },
     "metadata": {},
     "output_type": "display_data"
    }
   ],
   "source": [
    "lambda_expr.basic_replaced({x:omega, omega:x}, allow_relabeling=True)"
   ]
  },
  {
   "cell_type": "code",
   "execution_count": 92,
   "metadata": {},
   "outputs": [
    {
     "data": {
      "text/html": [
       "<strong id=\"lambda_expr_v3\">lambda_expr_v3:</strong> <a class=\"ProveItLink\" href=\"__pv_it/basic_expressions/e74a8579e9994f7c4b6efb05f2e769119a9ced900/expr.ipynb\"><img src=\"data:image/png;base64,iVBORw0KGgoAAAANSUhEUgAAASYAAAAVCAMAAADcg7NfAAAANlBMVEX///8AAAAAAAAAAAAAAAAA\n",
       "AAAAAAAAAAAAAAAAAAAAAAAAAAAAAAAAAAAAAAAAAAAAAAAAAABHL6OuAAAAEXRSTlMAInZUiRDN\n",
       "mWbv3US7qzLz6SJmQj4AAAAJcEhZcwAADsQAAA7EAZUrDhsAAAL6SURBVFjD3VhZsuMgDGQxqwVv\n",
       "uP9lh4CXAFKCE1fNq+EjS5W7JbWEEGYsL85m1txT21Lryv6zJeTUY6u4QKlXdYtvVlyT22oHkLR3\n",
       "YD+x9gItl9nYpy3L9KVI3FVbWsZ0sSyB8ZBzGix84gOJVnqaQ88aXvyXRbQmU7Lrs9fqcqBL+Yrh\n",
       "M5lwtJmvTmtukml9a7NqE8LHgRrONLsR7S6QOCKzgl+TSU62uTCRFwE+L40ECtfBJFpe0VzbLt07\n",
       "iflXMq1aKLQeglLhOphEm62B7w5xH5viFyKouCz1MFxObCuEx2UiSAeZWiv5ee2ypRice9p2GBkf\n",
       "22UNNILU/LURDEyitwKRh4epCSH7JoJgxm8HJiGMbEvU6Jekg0ytleJW6HsTSqY5FqjTPvmhUAYj\n",
       "CJhEe9mkKlfCc3u1mcnm0z1sYjqqfsTzAbof5wTpIFNnpbg7yISSabwJWzue36MRzebRrowlZWZW\n",
       "sNMdK56lUf6m4+fPH9+sdMw3POj6EyM15WHnylfAraAyoR5Gt5uHdtuAsv1hOhjBwCS6ylQa1BqO\n",
       "n80TZ+pXsppWfU6B0dTSokmRFu7Ea5lQMgXEkR4Nw6bLxggGJtF104Xj0sKXYdLLyVMVJT0hU2y7\n",
       "4RYkSTrK9GwFlQkn89TkYyIH9saIZ/NoKB5DfOwo85jJ+dNxr2BlwZ0JtEA42HXDetL1pJRMvRVU\n",
       "JpxMCCLQXCr1bqVoIwi4R58R1Tp2S3AxganNV6XtqEpRmcy9ynZ6eGTm/dzUkZIy9VaKu3B+shdk\n",
       "WiKBPrzJ3SULc0SCGhnBHXpTOHNEX7VOOUnW7ZvX+5IFZbLi0tidzhPX0CViMvWkZDV1VraJSeXP\n",
       "FMRRDSiZCtC8i6h3fOAPiXWSRySIkRE8orews3Ld5LcHgl1L+OyN9q4pfOqWvEB735iJZBb87j6L\n",
       "vlyZviV/f/W9by038QAyjCos3RxmKYVjv2WpuwoXmx/ErJ7EW7Ukf4tM921vPkclLrwM5yb8GqHu\n",
       "WH8B/DAeCdlhGjQAAAAASUVORK5CYII=\n",
       "\" style=\"display:inline;vertical-align:middle;\" /></a><br>"
      ],
      "text/plain": [
       "<IPython.core.display.HTML object>"
      ]
     },
     "metadata": {},
     "output_type": "display_data"
    }
   ],
   "source": [
    "lambda_expr_v3 = lambda_expr.relabeled({x:omega, omega:x})"
   ]
  },
  {
   "cell_type": "markdown",
   "metadata": {},
   "source": [
    "But we cannot allow a collision of the label mappings:"
   ]
  },
  {
   "cell_type": "code",
   "execution_count": 93,
   "metadata": {},
   "outputs": [
    {
     "name": "stdout",
     "output_type": "stream",
     "text": [
      "EXPECTED ERROR:  Invalid relabeling of (x, omega) -> {x + omega if x in Real ,  omega in Real.: {x: y, omega: y}\n"
     ]
    }
   ],
   "source": [
    "from proveit import ParameterRelabelingError\n",
    "try:\n",
    "    lambda_expr.relabeled({x:y, omega:y})\n",
    "    assert False, (\"Expecting a ParameterRelabelingError error; \"\n",
    "                   \"should not make it to this point.\")\n",
    "except ParameterRelabelingError as e:\n",
    "    print(\"EXPECTED ERROR: \", e)"
   ]
  },
  {
   "cell_type": "code",
   "execution_count": 94,
   "metadata": {},
   "outputs": [
    {
     "name": "stdout",
     "output_type": "stream",
     "text": [
      "EXPECTED ERROR:  Invalid relabeling of (x, omega) -> {x + omega if x in Real ,  omega in Real.: {x: omega}\n"
     ]
    }
   ],
   "source": [
    "try:\n",
    "    lambda_expr.relabeled({x:omega})\n",
    "    assert False, (\"Expecting a ParameterRelabelingError error; \"\n",
    "                   \"should not make it to this point.\")\n",
    "except ParameterRelabelingError as e:\n",
    "    print(\"EXPECTED ERROR: \", e)"
   ]
  },
  {
   "cell_type": "markdown",
   "metadata": {},
   "source": [
    "Also, an exception is raised if we attempt to relabel to a non-Variable."
   ]
  },
  {
   "cell_type": "code",
   "execution_count": 95,
   "metadata": {},
   "outputs": [
    {
     "name": "stdout",
     "output_type": "stream",
     "text": [
      "EXPECTED ERROR:  May only relabel Variables/IndexedVars to Variables/IndexedVars; may not relabel f(x)\n"
     ]
    }
   ],
   "source": [
    "try:\n",
    "    lambda_expr.relabeled({x:fx})\n",
    "    assert False, (\"Expecting a TypeError error; \"\n",
    "                   \"should not make it to this point.\")\n",
    "except TypeError as e:\n",
    "    print(\"EXPECTED ERROR: \", e)"
   ]
  },
  {
   "cell_type": "markdown",
   "metadata": {},
   "source": [
    "Moreover, **Prove-It** recognizes the different valid relabeled versions of *Lambda* expressions as the *same* **expression** with respect to *meaning*.  They are regarded as equal."
   ]
  },
  {
   "cell_type": "code",
   "execution_count": 96,
   "metadata": {},
   "outputs": [],
   "source": [
    "assert lambda_expr == lambda_expr_v2 == lambda_expr_v3"
   ]
  },
  {
   "cell_type": "markdown",
   "metadata": {},
   "source": [
    "These are recognized as having distinct *styles* of presentation, however.    **Prove-It** provides flexibility with respect to presentation style of expressions while recognizing the *meaning* equivalence when style is the only distinction.  This is the first of many examples to be encountered."
   ]
  },
  {
   "cell_type": "markdown",
   "metadata": {},
   "source": [
    "### Lambda scope and substitution rules"
   ]
  },
  {
   "cell_type": "markdown",
   "metadata": {},
   "source": [
    "It is important to understand that a `Lambda` expression defines a new scope within its *body* with respect to the *parameters*.  This has two important consequences with respect to substitution rules."
   ]
  },
  {
   "cell_type": "markdown",
   "metadata": {},
   "source": [
    "The first consequence of the internal `Lambda` scope is that the `Lambda` masks the substitution of variables that happen to be the same as any of the `Lambda` parameters.  For example,"
   ]
  },
  {
   "cell_type": "code",
   "execution_count": 97,
   "metadata": {},
   "outputs": [
    {
     "data": {
      "text/html": [
       "<strong id=\"tuple_with_lambda\">tuple_with_lambda:</strong> <a class=\"ProveItLink\" href=\"__pv_it/basic_expressions/50b7a7232c3a32ef5826a608f6c8222ae80d2e430/expr.ipynb\"><img src=\"data:image/png;base64,iVBORw0KGgoAAAANSUhEUgAAAUsAAAAVCAMAAAD4mjyfAAAANlBMVEX///8AAAAAAAAAAAAAAAAA\n",
       "AAAAAAAAAAAAAAAAAAAAAAAAAAAAAAAAAAAAAAAAAAAAAAAAAABHL6OuAAAAEXRSTlMAInZUiRDN\n",
       "mWbv3US7qzLz6SJmQj4AAAAJcEhZcwAADsQAAA7EAZUrDhsAAANzSURBVFjD3VnZkuMgDOQwp4FZ\n",
       "/v9nFxtjB5AITly1U8tDkhq51VIjQGYISYOSwRgabz5VhlhX8l+NM33GB08NjddY2Q1mJlfxSAqa\n",
       "3ZkTLY1zUVrj9EdkA3hJny8DB0Njpc98fDx+qSQ1mUzyEG8VuCPUp8S9dh9FMIDn9IUcLUY5TSSn\n",
       "w1vsl+W4RrUXik25iZtiLPtX8B9qicL39NWooNR8tWn1iJbrDGMW0PsPxVCUyC+0BOF7+maENjeY\n",
       "DFIijN7Rks9vvP7d7DFn05CQGG5q32rwQ3hKn49miN+ZPqmbuilO1L/RcpVMwIXlhZgo6R4/hKf0\n",
       "1XG4CMa8CMtSHdvFiFjLUWDDLtFFUItlES1Bp62WDcn+U5pEFbwxL6u8c0aBDTyLERyX9B0JhMfg\n",
       "5Ei/VFNyxzwjyoKlBll5CZtGlnsGRD3erAglB5SNli3JEZfv9svOGZRvEsNIG21TcCAJgEfgpWUi\n",
       "NvvRCalTr+Krrf8wwtZrhS37n7nBKpFVPUTpaGDKRsuW5Eiq07J3JpHDQ+uuOQFJ5DT8CNwQkxu0\n",
       "8FIvL/vp0b1B1v3VRbiSSHoonrafP7Ya8WoDqZeIU7U/asz+5RESTMsuwmAKuWsWqRNajzPB8DC8\n",
       "AOIp16Ycw7SErPtWuvrzJ1nRulzli5+gXqq0p6zrsiPBtOycCYc1NUGRutcGSSA8DC9JmnMZbx1w\n",
       "mhQhoDUOWf35hklzBNwiWoZmF3d+QFlr2ZEMtGycWbRBVIG69yR2Fl4Ct8SxPAsr8aZMzBlPNsJW\n",
       "F7a6Vtu7UV4Y2iFxtLt4Psdrp4iWHQmiJeCMMUyMVHLHK9+IBMA38ObscUcnw2MQKsWybrMjorzO\n",
       "edS6mMWbEJ0yummg0oMT/WXlFF3jLcmRlLs+CeZMckiMLZi04SXt8UwwfA0/ZrGIldIPuUhUmgau\n",
       "dIZbe8xYNsJW4WKaRm3OXcoi1wxLALWsnSJadiR7VFtnKdJn9OXPkDPhXX0dlS96HN1mQUaOZwLj\n",
       "O/iRtrrStwFY+8UHZLys9eXN9I3FU+89799cFle/Q85lMo9v04fuJJbhhcXy5TXI93cbT43lOVc5\n",
       "fdc1+OKqjd74an2dFzdNywz5HUM8twaO9PtOig3bNDgAN/9fChr579Dywe2kpE9HPukcIbvzDx+q\n",
       "/C9R87FZ2dL/CxYTIhXXO/nlAAAAAElFTkSuQmCC\n",
       "\" style=\"display:inline;vertical-align:middle;\" /></a><br>"
      ],
      "text/plain": [
       "<IPython.core.display.HTML object>"
      ]
     },
     "metadata": {},
     "output_type": "display_data"
    }
   ],
   "source": [
    "tuple_with_lambda = ExprTuple(x, lambda_expr)"
   ]
  },
  {
   "cell_type": "code",
   "execution_count": 98,
   "metadata": {},
   "outputs": [
    {
     "data": {
      "text/html": [
       "<a class=\"ProveItLink\" href=\"__pv_it/basic_expressions/5498d61d0345f5caa2a23776ebce810b1c0a94600/expr.ipynb\"><img src=\"data:image/png;base64,iVBORw0KGgoAAAANSUhEUgAAAUoAAAAVCAMAAAAXWFehAAAANlBMVEX///8AAAAAAAAAAAAAAAAA\n",
       "AAAAAAAAAAAAAAAAAAAAAAAAAAAAAAAAAAAAAAAAAAAAAAAAAABHL6OuAAAAEXRSTlMAInZUiRDN\n",
       "mWbv3US7qzLz6SJmQj4AAAAJcEhZcwAADsQAAA7EAZUrDhsAAAOPSURBVFjD3VnZkuMgDOQwpwWz\n",
       "/P/PLsYQmzOQuGqnloeZzMhS040QMkHID4z6Y2RbfSoOtu/o/xov+oT2HxrZbmMn87iE7+wRApIs\n",
       "LYnkCsBxrUB+hDZwT/Tp1vcf2XJ9pqdH3ZdCYnVicWrdWnoDwsbzNhI+msLA/aTP+GAr8mkcPju7\n",
       "TX+ZjLsTIUu0Z8ZWtdjCL2s+lLLrHuiLQT6J+a0gxSNS7hOIp37GfKqFwIh/IWXTPdBXA2e1AKQ6\n",
       "GULwipR0uuiat2tHQPvBW1rATM1acvf06WCB6MricVmkTQoi/o2UOyesnVaGsfcZveru6Yt0sGCz\n",
       "EZwTSTZGiGF227LTPDHB2p4SXfFzsXRHymbUUsoSxX/iyiNZo9Rti9excKN4n1pYoBy/AVlyT/RT\n",
       "Mu3K2yE/XZPNQxFDkLiLQtOssSOxWeiIR/PtIDjqRy2lrFDCtExVK+tYLbpeC8W100W+tUAW3FOv\n",
       "hPQZh4UOQxT5dNqkDyu9yEY2VtKvx/lvqnp5SO7NQ2pl2lFLKSuUQKmSshGLd84NKau2pAWy4I4S\n",
       "fXW2ZsIFDfI2MtrsPZdSKTlMDBKP4yn3Mv780dlwr/4PG54+llFFeFSp8Mv0UNpS1jO0KoFDsUOB\n",
       "SfmGypJ78nBJLnW4sKLlVdefqqhhQfPdvD4eFaKXlTu/4lhxT1FFxsdOjdKWso7FoNfNWIHyFrsF\n",
       "suCOXvTPTcxClZAOtTZ4aIv9erFbCPN6q8QRn+qOlDav4GBQN2opZY3SlbKMpbuNobAY3oLMu6MX\n",
       "fSCnlEcowxHFt14m2mBHRqU1i0awR06L44UobgoJnXkUFTye4HnUjpQ1SlPKVixCelr4jIvveQOQ\n",
       "Cffi2IHUwxyqUS2OEswcvw748NJsmfAT3Sm6jJvajLIORDpFrq7KPznRV2ZRuxu8QglzhetnPxan\n",
       "LS2Oyfhi57UfUJlyj6uYxPL0bUwSQzaLDTkKuNZxvU4bE36JqJBn7Ghk4PwaSnVVKN25WthsU8o8\n",
       "akfKGiV2lMz/dCb9txmLGchvoM6rHTh6PuDHLuxSmXOPtMVFX9t636cYDdtlLO5rZm8pnnrbmbj3\n",
       "2CB/85ukMute0W/cQ2yjO4rty5uP768zHhvbc6FO+lA29uzKjMp2N2arArOgRKFfMthzOyDSr3oo\n",
       "MmrPOvAw/ZUEdvSXSPlgLUn08SAmnsMjC1/uYGF+i5iPLcpB/y9ediIubKZU6AAAAABJRU5ErkJg\n",
       "gg==\n",
       "\" style=\"display:inline;vertical-align:middle;\" /></a>"
      ],
      "text/plain": [
       "(a, (x, omega) -> {x + omega if x in Real ,  omega in Real.)"
      ]
     },
     "metadata": {},
     "output_type": "display_data"
    }
   ],
   "source": [
    "tuple_with_lambda.basic_replaced({x:a_lit}) "
   ]
  },
  {
   "cell_type": "markdown",
   "metadata": {},
   "source": [
    "Here we see that $x$ is altered external to the `Lambda` expression, but the $x$ within the `Lambda` expression is left alone.  This is fine because the internal $x$ is essentially a different $x$; the scope is different."
   ]
  },
  {
   "cell_type": "markdown",
   "metadata": {},
   "source": [
    "For convenience, `substituted` will perform relabeling if the replacement of a `Lambda` *parameter* is another `Variable`.  For example,"
   ]
  },
  {
   "cell_type": "code",
   "execution_count": 99,
   "metadata": {},
   "outputs": [
    {
     "data": {
      "text/html": [
       "<a class=\"ProveItLink\" href=\"__pv_it/basic_expressions/8abb16a45929845db01929b1d954ee491d849e620/expr.ipynb\"><img src=\"data:image/png;base64,iVBORw0KGgoAAAANSUhEUgAAAUoAAAAVCAMAAAAXWFehAAAANlBMVEX///8AAAAAAAAAAAAAAAAA\n",
       "AAAAAAAAAAAAAAAAAAAAAAAAAAAAAAAAAAAAAAAAAAAAAAAAAABHL6OuAAAAEXRSTlMAInZUiRDN\n",
       "mWbv3US7qzLz6SJmQj4AAAAJcEhZcwAADsQAAA7EAZUrDhsAAAOcSURBVFjD3VnXsuQoDCUnA7P8\n",
       "/88u0TYmNNx21dwaHjphhXMkhKAB8AOC8ZjN7T6VBz0O8G+NEz7C44dmc7dxoHW7iB30FQACbYVE\n",
       "MKm1Y0pq8SNrE/ECH5Ox/Gyu5mfZPey+JBLKZIth6/bSWwNoPG4j9I9cmIgn+JRNliJbtsNWvSPq\n",
       "y2Q8HI9ZojwyussFiW/W/JDKoXiEzyf5xNeXguCvUHksWEz8GfNTLjgE7Asqu+IRvpwIyw1DcpAh\n",
       "CO5QiZeLrvkYO6SVH6zHhV6pWVviHj6eBAjvBI+JR9oUJfzvUHkwRPtpZSj9nNG74h4+TxsLRXEx\n",
       "1w/lOT+JDLWEVLt5QQKVTRRdojVZakBlV+uTyqcV/4lJb8kaKW9LvNUFO8U7cWE1ZvCDkS3xAj8n\n",
       "EwE4rGbheonmTSGDAL+TgovX0KHcLAzIw/Vy4AyMtT6pbKxEt0xTK1tdPbieC8mUU4986xnZEC+9\n",
       "ElBRj8XJDVPBTnNAwMAxBUZ0IumjkH7GcpSH6N48lFamr/VJZWMlQmqo7Ohig31DiKYt6RnZEAcF\n",
       "vjxydZMBhKyQpDlg77lUSkmYorrgCE9dCf3nP1UNd/Z/0LDy8amVx0eljG9mZKVPZeuhlcW4fqxQ\n",
       "TYX4AGVLvEi4Qpfv1mj4bjtUgobjUBCCjDk/+i/DrDzYpcfye4pKNN92Wit9KltdVI+6GctB3WL3\n",
       "jGyIgxN+XsQpqKjufhS+2mIfL3pTYc5TJcz2sRpQaesKrg0Yan1S2VoZUvnUpYaNIbdQfzSyLg5O\n",
       "+Brd/EtOnv6kOaoPYGSJWZ7UNuQwDweivCiEHvjxqOB5B6+1DqhsrXSp7OlCaMSFz7h8zpsYWRB/\n",
       "bDv67GF4OF662BA5dm3w8dBsKfeOHvg2SSQx0jrNyy5ydk4hQxb6ykrrcIE3ViIkfb2OdTHc4yI4\n",
       "44ud534CZUk8R7GQ5eHbnELUEMRdDItSOV5pjnIfIsxF0p0nqXY+hkJeFUoNrhaI7VJZax1Q2VrJ\n",
       "HSX1r86UX7u6qNH1DVS62tEwRIE5PIGyJp5h8wv+1ZYCkhnGRYeynaLQPyDC1VuKt047C/ceRNcn\n",
       "v0Uoq+IN/HQPEVikEt/2tNEdBfny5uP764zXBnlPVYIfchYonw3mPCde5aFp+mk/baBeNYok+CWD\n",
       "vrcCMvzYQ2GBeCl2aNaeDczr5b8koMO/hMoXa0mBDyc64Zo9tPHnDuTmt5D5WlAC/P8B5J0imNOG\n",
       "ipkAAAAASUVORK5CYII=\n",
       "\" style=\"display:inline;vertical-align:middle;\" /></a>"
      ],
      "text/plain": [
       "(y, (x, omega) -> {x + omega if x in Real ,  omega in Real.)"
      ]
     },
     "metadata": {},
     "output_type": "display_data"
    }
   ],
   "source": [
    "tuple_with_lambda.basic_replaced({x:y}) "
   ]
  },
  {
   "cell_type": "markdown",
   "metadata": {},
   "source": [
    "The inner and outer $y$ *variables* are still regarded as distinct, but it doesn't hurt to relabel the one within the `Lambda` as we wish.  If we do not want this behavior when performing *expression substitution* or *instantiation*, we can *relabel* the map with a distinct variable first.  This feature simply provides a convenient way to perform inner relabeling simultaneously with other substitutions."
   ]
  },
  {
   "cell_type": "markdown",
   "metadata": {},
   "source": [
    "The other consequence for of `Lambda` scoping with respect to substitution is that we must not allow any expression within the `Lambda` *body* to be replaced with something that contains one of its *parameters*.  That is because those *parameters* are, with respect to scope, distinct from anything outside of the `Lambda` expression.  So bringing in a replacement defined for external use would have a different meaning when applied internally, and this must not be allowed.  Otherwise, you could alter the meaning of the expression in ways that can invalidate a proof (e.g., via a *instantiation* step which relies upon *expression substitution* internally).  Thus, the parameters of the Lambda function are \"reserved\" and may not be used in substitution. \n",
    "\n",
    "Consider the mapping defined below:"
   ]
  },
  {
   "cell_type": "code",
   "execution_count": 100,
   "metadata": {},
   "outputs": [
    {
     "data": {
      "text/html": [
       "<strong id=\"map_to_new_var\">map_to_new_var:</strong> <a class=\"ProveItLink\" href=\"__pv_it/basic_expressions/2d3f60d0f2232b3f0506e67a419464715a381c7c0/expr.ipynb\"><img src=\"data:image/png;base64,iVBORw0KGgoAAAANSUhEUgAAAFsAAAAVCAMAAAAeumK3AAAANlBMVEX///8AAAAAAAAAAAAAAAAA\n",
       "AAAAAAAAAAAAAAAAAAAAAAAAAAAAAAAAAAAAAAAAAAAAAAAAAABHL6OuAAAAEXRSTlMAInZUiRDN\n",
       "mWbv3US7qzLz6SJmQj4AAAAJcEhZcwAADsQAAA7EAZUrDhsAAAFlSURBVDjLpVVbksQgCFQUH4jO\n",
       "ev/LrsaYjRlTpbV8zCQR2wYaFKKYFCu25vUwUEtuAfahlV7l4Hah0Sy7GtzEtutsnN3E9ju+c+Lw\n",
       "UmZlNrDNFeNwiHqJx56VRICISetBM32PpHT869hXaAAZ30Si4i/dRaXAQARh726qHyRz058zczTF\n",
       "ozpAc6VBbb8rKXMZRXQT2oVw+6z8C1PgW5Jkfdblx4cWRoV6pD7UJeR+dPXKfe3zQ4PlHAbqFbpj\n",
       "Hyp4NN5RiRCvx/LyxjuYAVo2JLqKF3Ihh7fY4jUQ5ImtaI6dxq4KrimJjyOQg4i+EzwdOdUs2Fqc\n",
       "U8CO59hmEHiTQOyyUjmhLdihfsbcEq+9jj5ltt49BFsc3/WdWDPoqtp0MEALUFxcSxARtmByIeT8\n",
       "Xx0oTHtEp0eZlG/5pzRp1nlvS9qcJ7MBpP891k7jr0mD81tA8vbdgF9bYJXEwkW4dlnBLvQv1AMI\n",
       "jOuqTFQAAAAASUVORK5CYII=\n",
       "\" style=\"display:inline;vertical-align:middle;\" /></a><br>"
      ],
      "text/plain": [
       "<IPython.core.display.HTML object>"
      ]
     },
     "metadata": {},
     "output_type": "display_data"
    }
   ],
   "source": [
    "map_to_new_var = Lambda([x, omega], z)"
   ]
  },
  {
   "cell_type": "markdown",
   "metadata": {},
   "source": [
    "Expressions involving $x$ and/or $w$ are not allowed to be used in the substitutions for $z$. For example, we are not allowed to transform this map to $(x, \\omega) \\mapsto \\omega$ via substitution.  Prove-It will automatically avoid this via automated relabeling."
   ]
  },
  {
   "cell_type": "code",
   "execution_count": 101,
   "metadata": {},
   "outputs": [
    {
     "data": {
      "text/html": [
       "<a class=\"ProveItLink\" href=\"__pv_it/basic_expressions/da6957833c396424d58ddd5538eb43aefb4035380/expr.ipynb\"><img src=\"data:image/png;base64,iVBORw0KGgoAAAANSUhEUgAAAGkAAAAVCAMAAAByvDCyAAAANlBMVEX///8AAAAAAAAAAAAAAAAA\n",
       "AAAAAAAAAAAAAAAAAAAAAAAAAAAAAAAAAAAAAAAAAAAAAAAAAABHL6OuAAAAEXRSTlMAInZUiRDN\n",
       "mWbv3US7qzLz6SJmQj4AAAAJcEhZcwAADsQAAA7EAZUrDhsAAAF4SURBVEjHtVbbdsQgCFQUr0jr\n",
       "//9s1WiyaWO28bS8rDHCDDiQFaKYFA/tsUM3UE89IiwBKb1Azi0AoVmhZ/C5j12hJ5x97uPXLtdP\n",
       "koKpWpRZQzJHKU6Yapqs7XpAgISs9Z0OZdIgu+x02rfD6dDpacDKwDu3sgcJhA032valMpS3FJyZ\n",
       "ICl6WQ/eMoMI24MrQVwJkub6QF/fDSrKT5AEEH5PqZTACR/biuv+/ZXZ3ML2anPeX3x8hpPlHHsR\n",
       "6i9Sz6QjNTndd76vLrhHmeYUzQjZSMXUl2GXQMylgjjtSMyViBupqDBB4qOp0z7rZEGilghSFMkP\n",
       "GniNVF2SEap1jKMJkjkairhW2dY5JIdaVWa0BSmqFvPywionFWy/ZntMyzjrJ+118pzJNi1xY4QW\n",
       "oBxyWylD2LJiGlZ5YgLNMgFvZ+J1kTW/lIFyScb5LoDAF4Pj7fyU4W9mpf6fuUw/ZiK+/dBJWpmV\n",
       "+MMLFtj97l/B4281LAB9AfCNCYsRZxr9AAAAAElFTkSuQmCC\n",
       "\" style=\"display:inline;vertical-align:middle;\" /></a>"
      ],
      "text/plain": [
       "(x, _a) -> omega"
      ]
     },
     "metadata": {},
     "output_type": "display_data"
    }
   ],
   "source": [
    "map_to_new_var.basic_replaced({z:omega})"
   ]
  },
  {
   "cell_type": "markdown",
   "metadata": {},
   "source": [
    "And we are not allowed to change the map to $(x, \\omega) \\mapsto f(x)$ via substitution.  Again, automatic relabeling avoids this issue."
   ]
  },
  {
   "cell_type": "code",
   "execution_count": 102,
   "metadata": {},
   "outputs": [
    {
     "data": {
      "text/html": [
       "<a class=\"ProveItLink\" href=\"__pv_it/basic_expressions/cf587f24c6dcfc67279c5aca8dddc88dc54117b20/expr.ipynb\"><img src=\"data:image/png;base64,iVBORw0KGgoAAAANSUhEUgAAAIgAAAAVCAMAAACqnFb9AAAANlBMVEX///8AAAAAAAAAAAAAAAAA\n",
       "AAAAAAAAAAAAAAAAAAAAAAAAAAAAAAAAAAAAAAAAAAAAAAAAAABHL6OuAAAAEXRSTlMAInZUiRDN\n",
       "mWbv3US7qzLz6SJmQj4AAAAJcEhZcwAADsQAAA7EAZUrDhsAAAICSURBVEjHpVZbgoMgDOQVILx2\n",
       "uf9lF0QsYGyty5etcWYyCQHGyuLs6/Xgk8uPj59Cfo/lxXMdK1/HkuoRmv0m2igF/fnM17BAP8tL\n",
       "w/1YFRN2Gyi+DcvYZ0KsuR+L0oeum+LbsPBpqZG2RJz72OchFC+wpH4qRB+pTYrk2Snlhtf6AsvQ\n",
       "rcqjEnzeGZ2Au7QXvr9xU5xbfY/oonm17S5eiAhJKdmxNNkiHovBYXSUyd5tPDeBVtPUMqxoWZx9\n",
       "LMpEFMy4juWoIQJYw42jDCnyG5bECw9EmLuH5zT41fhsSdSWROOBhZ7a9nn7Zqyar3EQOkhZKfd3\n",
       "P79uWjlPoDKPbdleVWnm1S4FixSClRAmuE2Uj8djLd+FI177y14d+VAMrUCWBrai2jERFo/hzHch\n",
       "0tFC0jrqQmSn0mybujgL0LGCoITU6KiZ5MfeDKkaaOpk3AeFDbQQvQ4SHCkaHwTPIr7cLVgqEqWp\n",
       "0dKZ2qCQWyUVqogpB4N22Yglt7dzhM8ljq1tEpgixMsDK7V0Uuir5gNRqMSjqC3lHLQccknV4is9\n",
       "5+lzJS1/TL2684ERoki2csBy6cMElfQo5+7uyTt7TvFtWB8Pr4tbwr3DUpaRKT8elg0rvL9tAX0F\n",
       "4uGWHS6cjv0z344F7yEvrmLh3mXRCrMGnvk6Fn9w7RP/uLSufBvWH074DZ7tvqfhAAAAAElFTkSu\n",
       "QmCC\n",
       "\" style=\"display:inline;vertical-align:middle;\" /></a>"
      ],
      "text/plain": [
       "(_a, omega) -> f(x)"
      ]
     },
     "metadata": {},
     "output_type": "display_data"
    }
   ],
   "source": [
    "map_to_new_var.basic_replaced({z:fx})"
   ]
  },
  {
   "cell_type": "markdown",
   "metadata": {},
   "source": [
    "If it does not involve any of the parameter variables, however, that is okay."
   ]
  },
  {
   "cell_type": "code",
   "execution_count": 103,
   "metadata": {},
   "outputs": [
    {
     "data": {
      "text/html": [
       "<a class=\"ProveItLink\" href=\"__pv_it/basic_expressions/8abb16a45929845db01929b1d954ee491d849e620/expr.ipynb\"><img src=\"data:image/png;base64,iVBORw0KGgoAAAANSUhEUgAAAUoAAAAVCAMAAAAXWFehAAAANlBMVEX///8AAAAAAAAAAAAAAAAA\n",
       "AAAAAAAAAAAAAAAAAAAAAAAAAAAAAAAAAAAAAAAAAAAAAAAAAABHL6OuAAAAEXRSTlMAInZUiRDN\n",
       "mWbv3US7qzLz6SJmQj4AAAAJcEhZcwAADsQAAA7EAZUrDhsAAAOcSURBVFjD3VnXsuQoDCUnA7P8\n",
       "/88u0TYmNNx21dwaHjphhXMkhKAB8AOC8ZjN7T6VBz0O8G+NEz7C44dmc7dxoHW7iB30FQACbYVE\n",
       "MKm1Y0pq8SNrE/ECH5Ox/Gyu5mfZPey+JBLKZIth6/bSWwNoPG4j9I9cmIgn+JRNliJbtsNWvSPq\n",
       "y2Q8HI9ZojwyussFiW/W/JDKoXiEzyf5xNeXguCvUHksWEz8GfNTLjgE7Asqu+IRvpwIyw1DcpAh\n",
       "CO5QiZeLrvkYO6SVH6zHhV6pWVviHj6eBAjvBI+JR9oUJfzvUHkwRPtpZSj9nNG74h4+TxsLRXEx\n",
       "1w/lOT+JDLWEVLt5QQKVTRRdojVZakBlV+uTyqcV/4lJb8kaKW9LvNUFO8U7cWE1ZvCDkS3xAj8n\n",
       "EwE4rGbheonmTSGDAL+TgovX0KHcLAzIw/Vy4AyMtT6pbKxEt0xTK1tdPbieC8mUU4986xnZEC+9\n",
       "ElBRj8XJDVPBTnNAwMAxBUZ0IumjkH7GcpSH6N48lFamr/VJZWMlQmqo7Ohig31DiKYt6RnZEAcF\n",
       "vjxydZMBhKyQpDlg77lUSkmYorrgCE9dCf3nP1UNd/Z/0LDy8amVx0eljG9mZKVPZeuhlcW4fqxQ\n",
       "TYX4AGVLvEi4Qpfv1mj4bjtUgobjUBCCjDk/+i/DrDzYpcfye4pKNN92Wit9KltdVI+6GctB3WL3\n",
       "jGyIgxN+XsQpqKjufhS+2mIfL3pTYc5TJcz2sRpQaesKrg0Yan1S2VoZUvnUpYaNIbdQfzSyLg5O\n",
       "+Brd/EtOnv6kOaoPYGSJWZ7UNuQwDweivCiEHvjxqOB5B6+1DqhsrXSp7OlCaMSFz7h8zpsYWRB/\n",
       "bDv67GF4OF662BA5dm3w8dBsKfeOHvg2SSQx0jrNyy5ydk4hQxb6ykrrcIE3ViIkfb2OdTHc4yI4\n",
       "44ud534CZUk8R7GQ5eHbnELUEMRdDItSOV5pjnIfIsxF0p0nqXY+hkJeFUoNrhaI7VJZax1Q2VrJ\n",
       "HSX1r86UX7u6qNH1DVS62tEwRIE5PIGyJp5h8wv+1ZYCkhnGRYeynaLQPyDC1VuKt047C/ceRNcn\n",
       "v0Uoq+IN/HQPEVikEt/2tNEdBfny5uP764zXBnlPVYIfchYonw3mPCde5aFp+mk/baBeNYok+CWD\n",
       "vrcCMvzYQ2GBeCl2aNaeDczr5b8koMO/hMoXa0mBDyc64Zo9tPHnDuTmt5D5WlAC/P8B5J0imNOG\n",
       "ipkAAAAASUVORK5CYII=\n",
       "\" style=\"display:inline;vertical-align:middle;\" /></a>"
      ],
      "text/plain": [
       "(y, (x, omega) -> {x + omega if x in Real ,  omega in Real.)"
      ]
     },
     "metadata": {},
     "output_type": "display_data"
    }
   ],
   "source": [
    "tuple_with_lambda.basic_replaced({x:y}) "
   ]
  },
  {
   "cell_type": "code",
   "execution_count": 104,
   "metadata": {},
   "outputs": [
    {
     "data": {
      "text/html": [
       "<a class=\"ProveItLink\" href=\"__pv_it/basic_expressions/1930fe8665c4b2a3bb5a085e4bebf5123876adb10/expr.ipynb\"><img src=\"data:image/png;base64,iVBORw0KGgoAAAANSUhEUgAAAFsAAAAVCAMAAAAeumK3AAAANlBMVEX///8AAAAAAAAAAAAAAAAA\n",
       "AAAAAAAAAAAAAAAAAAAAAAAAAAAAAAAAAAAAAAAAAAAAAAAAAABHL6OuAAAAEXRSTlMAInZUiRDN\n",
       "mWbv3US7qzLz6SJmQj4AAAAJcEhZcwAADsQAAA7EAZUrDhsAAAF4SURBVDjLlVXp1uwQELS1tn/X\n",
       "+7/sbUQShnPEjzkjSnX1ijFanJ2sM9S0hDyCeXHIl8oPVClSnWowZzibtXYOigF97KCGI5iz2akK\n",
       "RXPMbfAIFh8PPmTGboQLvuSW+gO3fnwcrEhccuOVSRAiQlJqqJl+hbuae6Yed90Y4oHbCBXTSwrR\n",
       "iCgYvlGyG+K51Z/RG24ZXpsA5YYnTLtvKGImA9lcyCbB7bO0G24mwpSKQADr73rHKfS+HEHopgsq\n",
       "34d//9ywcvbDZcy8c9cqmBqvZsLH+y9ttrq9vnmCbtypx6QckyUGMOW7DgR+cUu34U6vtrL1KJKL\n",
       "oYqF4Fm0XeCFC6lEAUvrXvVrwoZb88ldZkMvK5kTIHH7ohJyC7yyKtqUA1ozFWzxclvfvGxEabNU\n",
       "BQAKQQjTAtQGDTmTSY+xTx6cX/eUSsMwRoxYGVz6xcp1b3P3cXqvBtBm6n4Ya71mfh4UWL8CPHx+\n",
       "duDnijgVcfAQnj1W4iv1f/ZDCXeluwHCAAAAAElFTkSuQmCC\n",
       "\" style=\"display:inline;vertical-align:middle;\" /></a>"
      ],
      "text/plain": [
       "(x, omega) -> 5"
      ]
     },
     "metadata": {},
     "output_type": "display_data"
    }
   ],
   "source": [
    "map_to_new_var.basic_replaced({z:FIVE})"
   ]
  },
  {
   "cell_type": "markdown",
   "metadata": {},
   "source": [
    "### Applying the Lambda map\n",
    "\n",
    "In addition to the `substituted` method, the `Lambda` class has an `apply` method.  As arguments, the `apply` method should be given the operands to be mapped.  The `apply` method will apply the proper substitution replacements to the `Lambda` *body* to effect the application of the map to the operands.  Internally, <a href=\"#Operation_sub\">*operation substitution*</a> is effected via the `Lambda.apply` method."
   ]
  },
  {
   "cell_type": "code",
   "execution_count": 105,
   "metadata": {},
   "outputs": [
    {
     "data": {
      "text/html": [
       "<a class=\"ProveItLink\" href=\"__pv_it/basic_expressions/60c41d2fc10e783bdc8f5485aabd88a45530d3880/expr.ipynb\"><img src=\"data:image/png;base64,iVBORw0KGgoAAAANSUhEUgAAASYAAAAVCAMAAADcg7NfAAAANlBMVEX///8AAAAAAAAAAAAAAAAA\n",
       "AAAAAAAAAAAAAAAAAAAAAAAAAAAAAAAAAAAAAAAAAAAAAAAAAABHL6OuAAAAEXRSTlMAInZUiRDN\n",
       "mWbv3US7qzLz6SJmQj4AAAAJcEhZcwAADsQAAA7EAZUrDhsAAALuSURBVFjD3VjbtqMgDOUid8IZ\n",
       "/v9nB0WtSqihda05a3horTU7yU4IiYyVxRll0Z5alwqB/WdLSNJjQQxA6qAesc2KIbqtdjFm7V20\n",
       "H2l7Iy4nqu9k1TJ/SRJ3VZeWKY+lZWQcSkjBxo9M6IorTcbQVM2T/zKJQjZLdH2xWo36OS1fCT6k\n",
       "CRc39PS05hGaAkFj5QbgUz8NZ/oLmlpxNwDiOpEVfIQmSS5ycBsXEX1ZGvMzUuoIVVyOkK7tJdwb\n",
       "iPk3NAUtFJ4OoNR9Jg6Im7WAKyFApWk6nXqbldyn6v5L9kyEx2lCQRuarlrKlXZFUwLnDtuuBeNI\n",
       "sax+pig1v1EyJL4lSIERIJg5Oiw3i3gW64HZIUaeU9ToPmhDU6NlMQua2tSCaY4WF6d99pc8wZQM\n",
       "iDNf5W0RseUYB4tEoKRHvS1dL3/E8QDdjnMUtKGp0bKY29CEgOlODba2Ob4xJQPizNW2JB1yYN+6\n",
       "818qbjbOT+X9z58//rTy3t9w0OtlA2qWR51bvqCnBaeptTC5TXm87JqorL1xZUh8p2m5vNSMpWoF\n",
       "2C/Lj242Bf3CSeaQWk7clPBWC05TC6Zi70RPhp3bQ0zJgPi+6ZaWrvCsDn/DPsnwFVv6Dk3pXA0j\n",
       "dEEbmlotXZquYL7b+JjE460Suni5LyqzgYHbuF4NiWneZmZu1NdEtbGj41IN60l3Bu3R1GpBacLA\n",
       "hOj5WTKljlbqjRKC+MsjqENYUqYYEWbCVa4lYHITuJSjcfbSPcyRve+bTqD9TddoWcyNr0/WBdMS\n",
       "83M2phSXwusbV0jia4QKSKqBN4VaaWyV817VAObCvXWviuA7Y+iUMJrOoD2aWi1rx6TKZ4btLgqm\n",
       "IJ7fRNQRP/KZYZ3lG1do4qvbhTmfkD4ZH0o4daJ9qgsnzMhTPE8bRFeo4m/n2c6rFfKU/P3o+9ia\n",
       "ngKKTTOq8HDzSIUUjv2SpR7L3LZ/EFQ+u2/VsvwlND24vzkNSwy8DOcGfgtRj6y/+yweCdlBICMA\n",
       "AAAASUVORK5CYII=\n",
       "\" style=\"display:inline;vertical-align:middle;\" /></a>"
      ],
      "text/plain": [
       "(x, omega) -> {x + omega if x in Real ,  omega in Real."
      ]
     },
     "metadata": {},
     "output_type": "display_data"
    }
   ],
   "source": [
    "lambda_expr"
   ]
  },
  {
   "cell_type": "code",
   "execution_count": 106,
   "metadata": {},
   "outputs": [
    {
     "data": {
      "text/html": [
       "<a class=\"ProveItLink\" href=\"__pv_it/basic_expressions/84abebd646c4a9943565c583c35a3d8e9d94ac310/expr.ipynb\"><img src=\"data:image/png;base64,iVBORw0KGgoAAAANSUhEUgAAAU8AAAAVBAMAAAA0gXHkAAAAMFBMVEX///8AAAAAAAAAAAAAAAAA\n",
       "AAAAAAAAAAAAAAAAAAAAAAAAAAAAAAAAAAAAAAAAAAAv3aB7AAAAD3RSTlMAEER2zVSJ3Zki72ar\n",
       "MruaaVGaAAAACXBIWXMAAA7EAAAOxAGVKw4bAAAD4ElEQVRIx62WTWgTQRTH324+TJrsEtGT1ho9\n",
       "itD4BUUvQdHSejAHRdRLUE9aJKgQKVaD+IHfC0pbStFK/QCtsqIHtaDrQQ8VSi+CgpitKFr8xorf\n",
       "4pudnd2ZbbJJwKGZzObN+82/772ZWQCQZgNAFHxbBXOV06qklGsLZ2G3yG/GbpBTfvbYfHtQIyXW\n",
       "+mG8/W1Zh5vXPjZf053H0GfSZf0C8RNgSTljD5KWF5MUVStFjRryo9GyLmYvzL2bYE/hHHZT/UIh\n",
       "fQMIJsoYGwsQy/VSa80UNZoF81l5oZ2gKoYg9KhvcYxjlgp0KOve9QHijFU1hRd6OOgnNKKlBaF9\n",
       "vksM4OecXSglijXOlq+aEnid3+kIVb0TmZUKNXmhobSwsIYVZXI/7MLPyspCq6bIyxJuRO/Xe3CO\n",
       "lQiNTxZSH8FdECEF3wF23zVCRkQBjlbgV5sodMpRkAgi2mooQwMURijMhafYZJdyOuGmXnnVYtdQ\n",
       "kw71gpUIfb5aY08RjEMQK28NwX2xfuoaoYpDGezOpuAROStEodn1EPtEBkHDqVFCYS4chZFdSotb\n",
       "o+f37rB1hUN9cE+wgtnT/G2ecL5MytBQwFZ6knS4oYCwDgfwa70gVMkcgriVV9UVSijMhaMwsktJ\n",
       "u0K3XmcPjyM5GBasGNFB9yDpXYpdXRLkJDQA3KY/dtFQzAbJhJgGG3FcJMLz+fZL+bxB9no/1KU8\n",
       "QpHiuHAURmYUUJCR32OnfnTQFpJAXr9gRaHqdOeUUU4krCXCAHMxo4LQLMgGMazD8Rwx9fJnKI6U\n",
       "EMpcOAojOxTJ5I6nJyorycaE8kewolCl4F4HuBJJWpxcgNGskHoDAhnopNPWikKxshdDidRzLozC\n",
       "kyklxwmNPGXC9kOgT7CSzXT8DPC7Xk2BOqJ8h6masJneQ7Eg2bV9VxSK+t55hSKFd2EUnkwpCzih\n",
       "kon3qhXUd1bMOCsR2hDQeaFhTNfFoeKbKyAcT1varv49ooOEdwoc9ETUkH/RtUzyR0mG48JTbDJH\n",
       "CWYcoQUYVJOWCY5Boy5YweyGmP6CjGamqVAlB9LHlthlqiKO+CjZew3j2p1++6jeLgqVHjb9sEp8\n",
       "aGDG0G/7KMi5LhyFkV2KNDyLvT391dSXXyFPQlq/6aTGW8nb0xh8WEV0TyrYV2hHxTfNnPdmCqcn\n",
       "TKqaIm+zL0n2Bkc31ObSVv6uv1VpiYguvpRshmmZCZOqpkzQYP3j0gVfZ2urqVqFJc54nnfAw4mT\n",
       "aqawNoVkNxXP+qfjq3h4lW5jnucNTckSr5y1Ulgj9RS6sa+Cd/cD7E75zwlUihVt/4dSsv0Doq1D\n",
       "k66shTEAAAAASUVORK5CYII=\n",
       "\" style=\"display:inline;vertical-align:middle;\" /></a>"
      ],
      "text/plain": [
       "{(omega * omega!) + y if (omega * omega!) in Real ,  y in Real."
      ]
     },
     "metadata": {},
     "output_type": "display_data"
    }
   ],
   "source": [
    "lambda_expr.apply(fancy_omega_fn, y)"
   ]
  },
  {
   "cell_type": "markdown",
   "metadata": {},
   "source": [
    "### Mocking up **Lambda** operators\n",
    "\n",
    "What if we wanted to represent an expression involving a `Lambda` function applied to operand(s).  We cannot do this using the `Lambda` and `Operation` expression types directly because an `Operation` is only allowed to have *variable* or *iterated indexed variables* as *operators*.   But it would not be consistent with the **Prove-It** philosophy of *freedom of expression* to completely disallow representing such an expression if so desired.  We can, in fact, represent such a thing in **Prove-It** by making an `Operation` class whose *operands* are the `Lambda` function as well as the operand on which we wish to apply the function. As a demonstration, we define such an `Operation`, called `LambdaApplication`, in <a href=\"demo_lambda_app_operation.py\">demo_lambda_app_operation.py</a>."
   ]
  },
  {
   "cell_type": "code",
   "execution_count": 107,
   "metadata": {},
   "outputs": [],
   "source": [
    "# %load demo_lambda_app_operation\n",
    "'''\n",
    "Module that defines a LambdaApplication Operation\n",
    "class for demonstration purposes in this tutorial.\n",
    "'''\n",
    "\n",
    "from proveit import Operation, Literal, NamedExprs\n",
    "\n",
    "\n",
    "class LambdaApplication(Operation):\n",
    "    _operator_ = Literal('LAMBDA_APPLICATION', r'{\\rm LAMBDA\\_APPLICATION}')\n",
    "\n",
    "    def __init__(self, lambda_fn, operand, *, styles=None):\n",
    "        Operation.__init__(self, LambdaApplication._operator_, \n",
    "                           NamedExprs([('lambda_fn', lambda_fn), \n",
    "                                       ('operand', operand)]),\n",
    "                           styles=styles)\n",
    "        # The Lambda function operand\n",
    "        self.lambda_fn = self.operands['lambda_fn']\n",
    "        # The operand of the Lambda function\n",
    "        self.lambda_operand = self.operands['operand']\n",
    "\n",
    "    @classmethod\n",
    "    def extract_init_arg_value(operation_class, arg_name, operator, operand):\n",
    "        '''\n",
    "        Given a name of one of the arguments of the __init__ method,\n",
    "        return the corresponding value as determined by the operator and\n",
    "        operand of the LambdaApplication Operation.\n",
    "        (This is important so that Prove-It knows how to 'make' an altered\n",
    "        copy of this Operation).\n",
    "        '''\n",
    "        assert isinstance(\n",
    "            operand, NamedExprs), \"Expecting LambdaApplication operand to be a NamedExprs object\"\n",
    "        if arg_name == 'lambda_fn':\n",
    "            return operand['lambda_fn']\n",
    "        elif arg_name == 'operand':\n",
    "            return operand['operand']\n",
    "\n",
    "    def string(self, **kwargs):  # should accept kwargs even when not used (e.g., 'fence')\n",
    "        return self.lambda_fn.string(\n",
    "            fence=True) + '(' + self.lambda_operand.string() + ')'\n",
    "\n",
    "    def latex(self, **kwargs):  # should accept kwargs even when not used (e.g., 'fence')\n",
    "        return self.lambda_fn.latex(\n",
    "            fence=True) + '(' + self.lambda_operand.latex() + ')'\n"
   ]
  },
  {
   "cell_type": "code",
   "execution_count": 108,
   "metadata": {},
   "outputs": [],
   "source": [
    "from demo_lambda_app_operation import LambdaApplication"
   ]
  },
  {
   "cell_type": "code",
   "execution_count": 109,
   "metadata": {},
   "outputs": [
    {
     "data": {
      "text/html": [
       "<strong id=\"lambda_app_expr\">lambda_app_expr:</strong> <a class=\"ProveItLink\" href=\"__pv_it/basic_expressions/c82833f1270c09d75eff60d78681db0ba18cbabf0/expr.ipynb\"><img src=\"data:image/png;base64,iVBORw0KGgoAAAANSUhEUgAAAGMAAAAVCAMAAABlnqB7AAAANlBMVEX///8AAAAAAAAAAAAAAAAA\n",
       "AAAAAAAAAAAAAAAAAAAAAAAAAAAAAAAAAAAAAAAAAAAAAAAAAABHL6OuAAAAEXRSTlMAdt0yiUQQ\n",
       "mWarVO+7zSLz6Wj4J+IAAAAJcEhZcwAADsQAAA7EAZUrDhsAAAGRSURBVEjHpZVXkoAgDEAJJXR2\n",
       "uf9ll6JCEGec1Q/H8sgLJcCAc8E+XEv7RP/2V6n+H5/bNQI4Sij46EjZLxGcvHXTfHNg5tSB8Q5F\n",
       "/DZWOVKHNnfG6FcOSA8//DIffgvhgwPnF6ef5lwTh4s7KJpOILRuor1a01izfUKjJA4tTwQsCin7\n",
       "GpO2E5K52k+T9w4XxvOMWkMc8ZiO0juwwHQPYmIjhOsfbNg7GIRz8AiqHXHwnrhJNQU8MqgpVaIE\n",
       "8LVY2q1dP7+cXDmra6IG2qNfDt8fatnrMTUiH4Qq3vImHvqh4lgZE+rSzsFItkz5g2he8GzvEHFa\n",
       "Zyt6G6uWR7Fjb+T4QQR73naOOBfIig5HaMljUMz6tjr69ISzH7bKR5mq5/oYKC51LpvYZYG6OJS7\n",
       "VnQn0ErQ+aGeJdn8J3SpQdF6jxqgpGXOgeNqqnMZX29UBB0RdidR4gdR26B3b8NTdDjMZtOpu0Ij\n",
       "eJktK9+dSzd02vHCbbRTOAlnQL/c4+/o5MCw4s0qP5/nU+mxBJtj4Q909AugyAMdogAAAABJRU5E\n",
       "rkJggg==\n",
       "\" style=\"display:inline;vertical-align:middle;\" /></a><br>"
      ],
      "text/plain": [
       "<IPython.core.display.HTML object>"
      ]
     },
     "metadata": {},
     "output_type": "display_data"
    }
   ],
   "source": [
    "lambda_app_expr = LambdaApplication(Lambda(y, Factorial(y)), x)"
   ]
  },
  {
   "cell_type": "markdown",
   "metadata": {},
   "source": [
    "Note that the `_operator_` of the `LambdaApplication` is not displayed but is implicit in the theory of the lambda application formatting.  Also, we made use of `NamedExprs` which will be discussed next.  Let us take a look at the expression information."
   ]
  },
  {
   "cell_type": "code",
   "execution_count": 110,
   "metadata": {},
   "outputs": [
    {
     "data": {
      "text/html": [
       "<table><tr><th>&nbsp;</th><th>core type</th><th>sub-expressions</th><th>expression</th></tr>\n",
       "<tr><td>0</td><td>Operation</td><td>operator:&nbsp;1<br>operand:&nbsp;4<br></td><td><a class=\"ProveItLink\" href=\"__pv_it/basic_expressions/c82833f1270c09d75eff60d78681db0ba18cbabf0/expr.ipynb\"><img src=\"data:image/png;base64,iVBORw0KGgoAAAANSUhEUgAAAGMAAAAVCAMAAABlnqB7AAAANlBMVEX///8AAAAAAAAAAAAAAAAA\n",
       "AAAAAAAAAAAAAAAAAAAAAAAAAAAAAAAAAAAAAAAAAAAAAAAAAABHL6OuAAAAEXRSTlMAdt0yiUQQ\n",
       "mWarVO+7zSLz6Wj4J+IAAAAJcEhZcwAADsQAAA7EAZUrDhsAAAGRSURBVEjHpZVXkoAgDEAJJXR2\n",
       "uf9ll6JCEGec1Q/H8sgLJcCAc8E+XEv7RP/2V6n+H5/bNQI4Sij46EjZLxGcvHXTfHNg5tSB8Q5F\n",
       "/DZWOVKHNnfG6FcOSA8//DIffgvhgwPnF6ef5lwTh4s7KJpOILRuor1a01izfUKjJA4tTwQsCin7\n",
       "GpO2E5K52k+T9w4XxvOMWkMc8ZiO0juwwHQPYmIjhOsfbNg7GIRz8AiqHXHwnrhJNQU8MqgpVaIE\n",
       "8LVY2q1dP7+cXDmra6IG2qNfDt8fatnrMTUiH4Qq3vImHvqh4lgZE+rSzsFItkz5g2he8GzvEHFa\n",
       "Zyt6G6uWR7Fjb+T4QQR73naOOBfIig5HaMljUMz6tjr69ISzH7bKR5mq5/oYKC51LpvYZYG6OJS7\n",
       "VnQn0ErQ+aGeJdn8J3SpQdF6jxqgpGXOgeNqqnMZX29UBB0RdidR4gdR26B3b8NTdDjMZtOpu0Ij\n",
       "eJktK9+dSzd02vHCbbRTOAlnQL/c4+/o5MCw4s0qP5/nU+mxBJtj4Q909AugyAMdogAAAABJRU5E\n",
       "rkJggg==\n",
       "\" style=\"display:inline;vertical-align:middle;\" /></a></td></tr>\n",
       "<tr><td colspan=4 style=\"text-align:left\"><strong>class:</strong> tutorial.demo_lambda_app_operation.LambdaApplication</td></tr>\n",
       "<tr><td>1</td><td>Literal</td><td></td><td><a class=\"ProveItLink\" href=\"__pv_it/common/1e01da0adae59ae3fbcadb61a290f15a1660c8c00/expr.ipynb\"><img src=\"data:image/png;base64,iVBORw0KGgoAAAANSUhEUgAAAPYAAAAPBAMAAAAloS8qAAAAMFBMVEX///8AAAAAAAAAAAAAAAAA\n",
       "AAAAAAAAAAAAAAAAAAAAAAAAAAAAAAAAAAAAAAAAAAAv3aB7AAAAD3RSTlMAMqvN77siid0QmXZE\n",
       "VGYjdPt3AAAACXBIWXMAAA7EAAAOxAGVKw4bAAADQUlEQVQ4y42VTUwTURDHZ1vY7bItaTwZD7YW\n",
       "0FoP9iCRxENJ4aybAPFiQoMhJngoXlROgBpRYrKNmHjg0B4NFxoTjUoMDUcu5eqJDUYTT2i/APmo\n",
       "M+9jd9FGnaRv3nbe/H/v+wE4dgb+bp64Lwz/Zf+QPJFK8xb6TyzUeI3qbbtnx6x0bGgK/2jGuuac\n",
       "uLB8AYsxqxIbsaXjOsGuwQRAaCRWfC5T+nrjD3v6zLVLaUx6vXQBQOnaBWi/Ng8QMbmewajqqI3l\n",
       "VgMgWwD9UQ6UCkDHYyfObbWfykgU1AHXMR2ljhojYTg1JFMOwTiCUD+L3yyCMYuNUlGABYxlo2Ie\n",
       "l0vU1XdJLD/s8bGVURbZsJyTcW6JAxCZ25NeB6z5C6zpA0JSjxIbTIqr+/jnZhjUrUMckId9K0IV\n",
       "fQWHrKwLdn6Gs/NRGWem3qlIdmTG6zh7FHsKn4WkajP2FMX9NF1+1Pw2mDvGfhv4Tuz3uEZGh2Bv\n",
       "inG3N2ScL0/Gkuxy0usYO8Q6tiAklRJjf6X4Jm0T/FLtsnmMHdUOiV3sBugUbP1JjrMpxON8eWB6\n",
       "Q2RixeMY23dElaAjydis9UXaS8E6sjuOvGy1yCh6sbwBnxj7ysorm08iGDsyzuw2T8Ji8arXcbZf\n",
       "9lGmOOwU9Vip0TpYGQ9by4DF2AETimLcwXnJ/injzO4Cm//s3L2PHvcHW6a0YkeSkq0ABGIxa4PY\n",
       "RkMtyfXOJ51xizizB7E46Wf56ZSO6ThzrjuSv815qEpsbV+yNYDTSDKJre8YINntB5zt+yHj7Azb\n",
       "oNdbsjV3r7mSLnubpkbbJzZYEyLHR4cA/HvEhuFOh41D4GfMlHEmi2colWvF9rlnbNGRdNl+Wqm2\n",
       "GcaOzIuccdyTvA2yy+cddqDB2dMZGefbHG82uxV73LlboOBIumyV7tjVME0cGHVxM6ahEwWUKp6A\n",
       "KLSZ4ON3KiwX2Z2qzTpxsi+UleQ/cB3TkXfqy7Cbwtl0p54sgPEMl3wSv3vxLcGnILWjpHZzcL95\n",
       "XR2u2kbJ6K7yt+QGe0t6LudkHJrNZrX5FDSrPjmWqpCGcFwnGK+xtyQxBU7KenctEYY1i96SN0vn\n",
       "sEOjVdyCE/ALSSph9pL3HtoAAAAASUVORK5CYII=\n",
       "\" style=\"display:inline;vertical-align:middle;\" /></a></td></tr>\n",
       "<tr><td colspan=4 style=\"text-align:left\"><strong>theory:</strong> tutorial</td></tr>\n",
       "<tr><td>2</td><td>NamedExprs</td><td>lambda_fn: 3<br>operand: 4<br></td><td><a class=\"ProveItLink\" href=\"__pv_it/basic_expressions/eb48059e632c4decf092702e5f01c18524ba188e0/expr.ipynb\"><img src=\"data:image/png;base64,iVBORw0KGgoAAAANSUhEUgAAAOUAAAAyCAMAAACULOyzAAAANlBMVEX///8AAAAAAAAAAAAAAAAA\n",
       "AAAAAAAAAAAAAAAAAAAAAAAAAAAAAAAAAAAAAAAAAAAAAAAAAABHL6OuAAAAEXRSTlMAIrt2mRCJ\n",
       "ZkSrMu/dzVTz6YZJ0GMAAAAJcEhZcwAADsQAAA7EAZUrDhsAAARNSURBVGje3ZrrmpwgDIbBAHJu\n",
       "uf+bLQRFQJzZrWudyo/ZfRyIvJiE8DmELI1OE3lW0wb6SxAYv3VOYK3+4fHSWNpcEGG+FmIG+bqD\n",
       "kH9v3KqxBe5MjSkD2z1vZ9RL09IZ0S+nOZqq8zrIqyhpMAcWuKnDcAqjmak31nvKeLuDqc6WUMWv\n",
       "ouTBHlkQoXLjMMo80ztK11OSI0ql3k71jMcGd2RBB6gWQ11MyX6AEuihU6kjC7wKRR7YZ1I2Tu4P\n",
       "jVh2lnIGEIJjNmIUYAIi4ycadCx+yfwySwGwZJh1SHEbZYxSiwEF/ewqSg4s5Xq+rq9tYZr5V13z\n",
       "cp+g9CkXM5fztU+OPkdjMyY1h9uRY5jMPMa6bIe0cbkYoNttXUcp4uC0TGFI6evsUXdV809QSpzZ\n",
       "ZEqi0pi6chKWCW1yW46thrSUi4F56JBpjtoTlsDUNKQkMJURTdfsT+fikkuRKfHeQWyUeVQczHMq\n",
       "42tcrkM6ymwADuMyMmBVVkqzX79t00IJ/KZr5jtDyZnyvqaEHeW0JuyFchvyTcrkAny1PniW0sm6\n",
       "kildPT3tsXKNpUPK7llWQ75NieEMZphvYgKsXbzreooSv4lBpumAUpH1fzdtcVkN+TYl3nPbwlpK\n",
       "R3fTq3e7s5QQdHQKV1Mmiw7XVqVApVjBKsws1ZBiCoe6jnKfYwlTaYFKfpIv9sutKz+ufd5R4iZH\n",
       "4x/wwIUFrYJR2k/xkwgXbGSbuJdyOWtwhvtlOh2UISTkFk0F1Rg42i/j9ieAhXGRI9qTVdX1TFXw\n",
       "b9s2R+G+PsiRsx57A2WadS4wvgTYdh1TqqpyF59BGb08x/kXTs67rsNKuDptQZCfQelnYF+cyr7r\n",
       "kNJtJ2dj79eixGndZyhU+JKwmaHksW3N2Mxo8uCGeNwqTh7dfExU3LKnU+K55eEeqxa8R2efTau0\n",
       "7po7vJCh/1WrSv/LqgJ6e7lR6enXVXi3U1aHu+uq9bsp62r9yZTvTl6cARbE6eXWzJhawpgyEAyv\n",
       "ghdJpOh06VVWrmTo3ZGZx25cC+Fvp9SoKU8oB6ZUyfM0ddp2IHm7YZ7GDLbXpdO4Wobeyx/RUloN\n",
       "Zm+ntGLTrlQu72V5JCEyWIuy6F6XTg+9lqGXm2ym5+QBgRM1302pQ3anlH6zJIm9dN5/0puJ7f1m\n",
       "p0sD2cnQnW3Sv2K4i9IvE0yH7U1ejpfZnJouV4e6tH5JiWda+ATK8ixZ9yxLxlhe7A11af6OEl2c\n",
       "89vj0rA8G7nFZfK0RWeUhXKsS9cy9O7Wk4w1dEpO9+8kGmt5RMGfWvAlHWFpKmjZGsa6dC1D9zk2\n",
       "LhdnkVL6+ynjxiiEyq9jVdwTlVwvxw2TEplE5DTNoS7dyND9fpk2YuLZ7MkHUFZC2P1y7Y9QqodS\n",
       "0vr5hde/wbPqf6VsTltTeJHTMQL/UzUB6l81fcIrhEvC0rhWHfFPhHSdogWBPQ5SWtsH2qN/BfwH\n",
       "l7EyXtgM3nkAAAAASUVORK5CYII=\n",
       "\" style=\"display:inline;vertical-align:middle;\" /></a></td></tr>\n",
       "<tr><td>3</td><td>Lambda</td><td>parameter:&nbsp;8<br>body:&nbsp;5<br></td><td><a class=\"ProveItLink\" href=\"__pv_it/basic_expressions/865cd558112bc550865b894be47944918c2e87540/expr.ipynb\"><img src=\"data:image/png;base64,iVBORw0KGgoAAAANSUhEUgAAADoAAAATCAMAAAD2xu7kAAAANlBMVEX///8AAAAAAAAAAAAAAAAA\n",
       "AAAAAAAAAAAAAAAAAAAAAAAAAAAAAAAAAAAAAAAAAAAAAAAAAABHL6OuAAAAEXRSTlMAEHaZZquJ\n",
       "VO8y3btEzSLz6T2OwCoAAAAJcEhZcwAADsQAAA7EAZUrDhsAAADRSURBVDjLnZPtFsMQDIZDEJRt\n",
       "uf+bXbOzVvTo5sgPp+F5NV8AFi37VeWD46rUcF6VAtc/gH3cncRBrkY7hLdl2k+MRSeK45Y+h87T\n",
       "aA0AAUiK5XgopU05GvUOEgEK7behFOx2ZtChSJJatPBdxJ6v3BlzaVVoaJDdwvte4jT+a6lFOQ0l\n",
       "qT1Kh2wcFgZS1RW/oLD5YxlIa9fYCwroJRJ3BvWjrw01n2kyPljk8diE1I9LQ/NxaajTw6tQ+TSR\n",
       "ZlUazXuXfJh73heUnMUyF2uPvgEf/gZMbdRqlQAAAABJRU5ErkJggg==\n",
       "\" style=\"display:inline;vertical-align:middle;\" /></a></td></tr>\n",
       "<tr><td>4</td><td>Variable</td><td></td><td><a class=\"ProveItLink\" href=\"__pv_it/basic_expressions/a0d9d672aa5e272d907247690c152cc2c6daafb70/expr.ipynb\"><img src=\"data:image/png;base64,iVBORw0KGgoAAAANSUhEUgAAAAsAAAAJBAMAAAAWSsseAAAAMFBMVEX///8AAAAAAAAAAAAAAAAA\n",
       "AAAAAAAAAAAAAAAAAAAAAAAAAAAAAAAAAAAAAAAAAAAv3aB7AAAAD3RSTlMAEHarMolUmd1mIs3v\n",
       "RLtmgJDEAAAACXBIWXMAAA7EAAAOxAGVKw4bAAAAQklEQVQI12NgEFIWCU1gYChgMmJvYOBcwPmR\n",
       "eQIDCwP7BgYQ4FEAU/cXMAowyF2wYWBlYMh3rGG4xsAgrsRWmcAAAFEjCyBvD0T9AAAAAElFTkSu\n",
       "QmCC\n",
       "\" style=\"display:inline;vertical-align:middle;\" /></a></td></tr>\n",
       "<tr><td>5</td><td>Operation</td><td>operator:&nbsp;6<br>operand:&nbsp;8<br></td><td><a class=\"ProveItLink\" href=\"__pv_it/basic_expressions/e58323e310a95e19466c884e8dab279c66cbfdeb0/expr.ipynb\"><img src=\"data:image/png;base64,iVBORw0KGgoAAAANSUhEUgAAAA8AAAATBAMAAAC97EqZAAAAMFBMVEX///8AAAAAAAAAAAAAAAAA\n",
       "AAAAAAAAAAAAAAAAAAAAAAAAAAAAAAAAAAAAAAAAAAAv3aB7AAAAD3RSTlMAEHaZZquJVO8y3btE\n",
       "zSKD2s2pAAAACXBIWXMAAA7EAAAOxAGVKw4bAAAAfUlEQVQI12NgAAOuAAjN8L4BypBfAGXwX4Ay\n",
       "OGBquAwYGJUdGEQZeBMY2NgbGPwZWB0YpjMvYIhmYC5gEOBQYGhiYDvAwHBegPMnA/sDBgZbBiaI\n",
       "sVsZuCGGmDKcd2CQB5osmmT/AGQgEOSCZdguMLZDbFFgTQAz2J1swDQAjTYVAtyAi+MAAAAASUVO\n",
       "RK5CYII=\n",
       "\" style=\"display:inline;vertical-align:middle;\" /></a></td></tr>\n",
       "<tr><td colspan=4 style=\"text-align:left\"><strong>class:</strong> tutorial.demo_operations.Factorial</td></tr>\n",
       "<tr><td>6</td><td>Literal</td><td></td><td><a class=\"ProveItLink\" href=\"__pv_it/basic_expressions/fd03761321b547da82c74b2ed8e2f909ca4de7640/expr.ipynb\"><img src=\"data:image/png;base64,iVBORw0KGgoAAAANSUhEUgAAAAMAAAAPBAMAAADTxGj3AAAAJ1BMVEX///8AAAAAAAAAAAAAAAAA\n",
       "AAAAAAAAAAAAAAAAAAAAAAAAAAAAAAAilU6eAAAADHRSTlMA3asi7xDNmYlmVET5xlbrAAAACXBI\n",
       "WXMAAA7EAAAOxAGVKw4bAAAAL0lEQVQI12NgVGCwcWCIEWDgSWBgUWBgLGBga2BgmsDAvoCBYwMD\n",
       "lwEDBMQkAKUAgMYF6UcwT5IAAAAASUVORK5CYII=\n",
       "\" style=\"display:inline;vertical-align:middle;\" /></a></td></tr>\n",
       "<tr><td colspan=4 style=\"text-align:left\"><strong>theory:</strong> tutorial</td></tr>\n",
       "<tr><td>7</td><td>ExprTuple</td><td>8</td><td><a class=\"ProveItLink\" href=\"__pv_it/basic_expressions/c60c4da4d0e362e1aae93eaa5e9af5fbed84db960/expr.ipynb\"><img src=\"data:image/png;base64,iVBORw0KGgoAAAANSUhEUgAAABcAAAAVBAMAAABfzGiYAAAAMFBMVEX///8AAAAAAAAAAAAAAAAA\n",
       "AAAAAAAAAAAAAAAAAAAAAAAAAAAAAAAAAAAAAAAAAAAv3aB7AAAAD3RSTlMAInZUiRDNmWbv3US7\n",
       "qzJazP2FAAAACXBIWXMAAA7EAAAOxAGVKw4bAAAAyElEQVQY0z2PvQ7BYBSGH62qVonZVJPVIGYx\n",
       "2CS9AJIuEqNBRCKisRg1jBaJGxA30LJLXIBBYjO5AnE+xZecn+fLe/6AIp/3CVo1gYNytSRHC8Dw\n",
       "v0APzOAHC7B+OZZH/Q+ZgKGUVQK6kL7QF6+HLCHrs4O7ueUK8rUBz3JZQeGpgMgrvCAXKhkjtFBk\n",
       "W04CZ5yLNIhpC0yJZA+zwUOg25zJAfYe+6amt8RKohyQ9o21wFjsiO3mG5CKBTro84lER92dcpOl\n",
       "y/AG0sAkFSf5QrsAAAAASUVORK5CYII=\n",
       "\" style=\"display:inline;vertical-align:middle;\" /></a></td></tr>\n",
       "<tr><td>8</td><td>Variable</td><td></td><td><a class=\"ProveItLink\" href=\"../packages/proveit/__pv_it/common/ff7dba4ef0bbe791ab573bf2d9c220a304399ac80/expr.ipynb\"><img src=\"data:image/png;base64,iVBORw0KGgoAAAANSUhEUgAAAAsAAAANBAMAAACN24kIAAAAMFBMVEX///8AAAAAAAAAAAAAAAAA\n",
       "AAAAAAAAAAAAAAAAAAAAAAAAAAAAAAAAAAAAAAAAAAAv3aB7AAAAD3RSTlMAEHaZZquJVO8y3btE\n",
       "zSKD2s2pAAAACXBIWXMAAA7EAAAOxAGVKw4bAAAAVklEQVQI12NgVHZgEGVgYGNvYPBnYJjOvIAh\n",
       "moFBgEOBoYmBgeG8AOdPIGXLwNQApLYycAcAKVOG8w5ASjTJ/gEDCOQCMdsFxnYgxaXAmgCk2J1s\n",
       "gCQAaFoNDtFIIdEAAAAASUVORK5CYII=\n",
       "\" style=\"display:inline;vertical-align:middle;\" /></a></td></tr>\n",
       "</table>\n"
      ],
      "text/plain": [
       "0. [y -> y!](x)\n",
       "   core type: Operation\n",
       "   class: <class 'demo_lambda_app_operation.LambdaApplication'>\n",
       "   operator: 1\n",
       "   operand: 4\n",
       "1. LAMBDA_APPLICATION\n",
       "   core type: Literal\n",
       "   latex_format: {\\rm LAMBDA\\_APPLICATION}\n",
       "   theory: tutorial\n",
       "   class: <class 'proveit._core_.expression.label.literal.Literal'>\n",
       "   sub-expressions: \n",
       "2. {lambda_fn:[y -> y!], operand:x}\n",
       "   core type: NamedExprs\n",
       "   class: <class 'proveit._core_.expression.composite.named_exprs.NamedExprs'>\n",
       "   lambda_fn: 3\n",
       "   operand: 4\n",
       "3. y -> y!\n",
       "   core type: Lambda\n",
       "   class: <class 'proveit._core_.expression.lambda_expr.lambda_expr.Lambda'>\n",
       "   parameter: 8\n",
       "   body: 5\n",
       "4. x\n",
       "   core type: Variable\n",
       "   latex_format: x\n",
       "   class: <class 'proveit._core_.expression.label.var.Variable'>\n",
       "   sub-expressions: \n",
       "5. y!\n",
       "   core type: Operation\n",
       "   class: <class 'demo_operations.Factorial'>\n",
       "   operator: 6\n",
       "   operand: 8\n",
       "6. !\n",
       "   core type: Literal\n",
       "   latex_format: !\n",
       "   theory: tutorial\n",
       "   class: <class 'proveit._core_.expression.label.literal.Literal'>\n",
       "   sub-expressions: \n",
       "7. (y)\n",
       "   core type: ExprTuple\n",
       "   class: <class 'proveit._core_.expression.composite.expr_tuple.ExprTuple'>\n",
       "   sub-expressions: 8\n",
       "8. y\n",
       "   core type: Variable\n",
       "   latex_format: y\n",
       "   class: <class 'proveit._core_.expression.label.var.Variable'>\n",
       "   sub-expressions: "
      ]
     },
     "metadata": {},
     "output_type": "display_data"
    }
   ],
   "source": [
    "lambda_app_expr.expr_info(details=True)"
   ]
  },
  {
   "cell_type": "markdown",
   "metadata": {},
   "source": [
    "**Axioms** could then be created to define how the `LambdaApplication` **operation** actually operates, but **axioms** will be discussed in a later chapter."
   ]
  },
  {
   "cell_type": "markdown",
   "metadata": {},
   "source": [
    "NamedExprs\n",
    "=========\n",
    "\n",
    "`NamedExprs` is a composite **expression** that maps string keywords to sub-**expressions**.  The reason that this may be desired is to be explicit in the internal representation about the role of each sub-**expression** so there is no ambiguity between the internal and external representation.  A good example is the `lambda_app_expr` $[y \\mapsto y!](x)$ defined above, where one *operand* plays the role of the lambda function and the other *operand* plays the role of the lambda function's operand."
   ]
  },
  {
   "cell_type": "markdown",
   "metadata": {},
   "source": [
    "Here is a more rudimentary demonstration of using **NamedExpressions**:"
   ]
  },
  {
   "cell_type": "code",
   "execution_count": 111,
   "metadata": {},
   "outputs": [
    {
     "data": {
      "text/html": [
       "<a class=\"ProveItLink\" href=\"__pv_it/basic_expressions/7ee593cfa3dc1fc7a16ef41a0ad583fda56d30730/expr.ipynb\"><img src=\"data:image/png;base64,iVBORw0KGgoAAAANSUhEUgAAAMsAAABMCAMAAAD0kLNhAAAAOVBMVEX///8AAAAAAAAAAAAAAAAA\n",
       "AAAAAAAAAAAAAAAAAAAAAAAAAAAAAAAAAAAAAAAAAAAAAAAAAAAAAAACXHtMAAAAEnRSTlMAEFRm\n",
       "u5mrdkTdic0y31wi74U6jrWwAAAACXBIWXMAAA7EAAAOxAGVKw4bAAAFUUlEQVRo3u2b6XqjIBSG\n",
       "WYTDNgPD/V/ssBhFhNQ6iSXz6I82Iabl5WzwgQgtFybo8y4rWq3UTx/IIvyEd43Mc4Q+EkbaqgmO\n",
       "WIWCGBKmbvC1qYx2laU0MX5AmNqjpFf7m/T2HiqR5Rip0Viw9+a5WcI1bVl4emvZcIaZNobhXqOv\n",
       "WRIFjMdCN5aQnh1kMZ4NGP2lk3kPXRbLQIX+G+4c54R7GX4Wo7CiYQCOjVLkBwKGHGIxLqRv0Eu8\n",
       "SLb9M6tzhg+AA2LycsN4Tztvtiy57xG8xYJWR6U2ei5GnI7KYvInWnVYinoUTaN/JGAOshDPaLzM\n",
       "lyzxcjAyi1nDamVR3YQS/AzjYeNlnsiIB4vusOBJIO4Q+ol5wVEW4+IUTIUBn9LsU+myu2seI95g\n",
       "FlgEGZAlFRQb60soMDa+9RySqyncqC+YASDCKBkzXj7m2nT/16/fn8yy6f7/ZJeb5Wa5WW6Wm+Vm\n",
       "eRkLdBbM9WXdBtRox4ZjWWe7ZquW7VYlVd9lqc+MIP3JQiCj3j/VOZr6zGy0EWzECgWFf0/jL1mG\n",
       "kP7MKvaFcDksedstyyDSn1yCXzXNIrQDorS1s94vuOIUiIwsFiCtyyrpbyP8sZgx8DWbOsu+hfWu\n",
       "LTc4RmxM1knvN9GMIaOJuFim8b2tZZlS+FOIuBSJ1xhG5UyGpbMdy8kc98mnuHz8QJNLiZDWLEWS\n",
       "MCTrl/yqfUMewwTLqScCPfZfdiypg9lFO3IZnrWy6wQzCCWS9kuLZgWLiD4m6UGW+X7zrG69+Jqi\n",
       "QNSdv2hVsGAWYx+1WJrlMsmx4K4isVLiVGnoARaypu2SpSf95S9NV+1NWzfnL9kpLw//SX0X2lib\n",
       "79cFSyn9lXkMMR797Kop64IgfMsVBPculo6k+QUI7cMlIbwP7YZMPpedUvrbJGiugHl7VUpeRtEd\n",
       "GL8pYGFL5HcSk7poC6OcuDD/5T8Vc6Gg03EM7C4SZGnhWO0t8S26zNlVH+xetB+/aj0wFYdGzIHJ\n",
       "JVYKQLGj9YJQYJed0XC+3Hn4f9bIt3Zxs9wsY7PYF37lh1ngRBkV8FYWkO5UFSGnyijQt9rFPquy\n",
       "3Q7jkxM1jY+w/Dkdd32Wvg7ITg4dZR2WPy+JlycsfR3w9HKzrRi9Kvb7LH0dkPRcjM+pyvZm45qe\n",
       "YhHaKcpYWuM/dL98vOIxaYyzzXTKNx//pTqrLpipeLivrwMiNgfS7iSgzbPx+dd8TykaKn7SLs4l\n",
       "zSl1Ytb9TDqkPcU+59WJynaRU5qiQlp6h3bhTF8HXEZ3fxIwUZQolWhI9UmWrI+R1NtZ95Mqe4/J\n",
       "Gs6Sxwo5Q8d2EvXDjg4YPsiGaJ0EDBwblEo0JO4sC8sjyhaux2mysF7IRgi/Kha8riW62tlck5on\n",
       "Aa0sUWrR0Ph/YkFp0ZZfkznSQ5PpsJh1LfEVC0INYbNiqURD8RK7qI1d2BO7sJKlWS4lWTtanQSs\n",
       "fawSDYn8x3gxq+6XtypFBMgqWRkvdo2X8LVnOmAehsZJwH3sb0XDtnRSsbSmbToGMM7hPvuLcQuY\n",
       "TZ7C85+BOF7U5fbYEg8CdnVA9Rik+iRgIydvRUOm2pJSefq7WdY0p6EAiEL3i/MSpXh291BHYn3J\n",
       "O7GMAcXOpdQcXoN9pgMamb+/OwnIZwarO6KhFM05YSnBt59N0G/bv5PflP8foqGVbXmslMTaAtn7\n",
       "WCj7FsYiGrbnpNXWsWwFjHyfSj8dXlaWomF7mlZvHYv9nmWKkXdp2/jw3l8pGrZHYLejry5+jM+e\n",
       "2PyDJsru2bdIN95DOodEAN/YOoaPfMCy+axoMPtHPsNbdPovDAM8Oa9MLZEAAAAASUVORK5CYII=\n",
       "\" style=\"display:inline;vertical-align:middle;\" /></a>"
      ],
      "text/plain": [
       "{left:x, right:y, product:(x * y)}"
      ]
     },
     "metadata": {},
     "output_type": "display_data"
    }
   ],
   "source": [
    "from proveit import NamedExprs\n",
    "NamedExprs(('left',x), ('right',y), ('product',Multiply(x, y)))"
   ]
  },
  {
   "cell_type": "markdown",
   "metadata": {},
   "source": [
    "To produce a `NamedExprs` object, you must supply a list of (keyword, `Expression`) pairs.  The keywords must be strings, but can be any string desired.  When the **NamedExprs** is displayed, it will show each of these pairs in the order that they were originally provided."
   ]
  },
  {
   "cell_type": "markdown",
   "metadata": {},
   "source": [
    "ExprRange\n",
    "=========\n",
    "\n",
    "It is common in mathematical notation to use ellipses ($...$) in representing an unspecified number of parameters or operands.  The `ExprRange` expression type serves this purpose."
   ]
  },
  {
   "cell_type": "markdown",
   "metadata": {},
   "source": [
    "To create an `ExprRange`, supply a *parameter*, *body*, and *start* and *end* indices."
   ]
  },
  {
   "cell_type": "code",
   "execution_count": 112,
   "metadata": {},
   "outputs": [
    {
     "data": {
      "text/html": [
       "<strong id=\"it\">it:</strong> <a class=\"ProveItLink\" href=\"__pv_it/basic_expressions/fece1e33ce24f4fcca7858a8415592d637c1af450/expr.ipynb\"><img src=\"data:image/png;base64,iVBORw0KGgoAAAANSUhEUgAAAP0AAAAvBAMAAADa7dHrAAAAMFBMVEX///8AAAAAAAAAAAAAAAAA\n",
       "AAAAAAAAAAAAAAAAAAAAAAAAAAAAAAAAAAAAAAAAAAAv3aB7AAAAD3RSTlMAMt0Qq5nNdoki72ZU\n",
       "RLsDrqvKAAAACXBIWXMAAA7EAAAOxAGVKw4bAAACuUlEQVRYw+2YP2jUUBjAv1yS5i7J2VIXB6El\n",
       "Koh0ONFyW3ugIvSWo8Mp3nJgNwcz9ChOvcHBQTC4ugSXgiDe4iAKDYh/Nm8TrOCBgzgIykGhQ6nv\n",
       "5ZI0L++98JJbRPLBPR7fx/f98v5973sHEIl0BkRlvgb5heN8uT0WDCBfu5ufz3fWxsJBtqcZ/3bB\n",
       "L/gFv+D/Y/zygXCIR84UfI6zsrbfFIxw9cXGIDd+KudCCinkf5IjpvyeGGePMkpGTMgphK7Tc/rV\n",
       "BDQistrlmpwUtbwf+JKd7FLivsY0j63/7LcWGm6phTrnIOhYmSdAw25vedaP6NdL6PDbUfOvVZOi\n",
       "mVy+9J0z9j5q+ryNgRfmPOvteNuvYui6hj/OxBrvxTE2sI1qrHqoDuK120vcq1MUSrPH+54P8W/j\n",
       "GfX41Npxvo4n2qai2mkYMUPc+J7LnxGsq0hMffPiA48w1DvHq7B15dRD0usm0vYGLH65kQKlMUiF\n",
       "25Z2XV0kDP0vkZcKm/Y66XUHgaoui290U/g0Blo6GobhGGNlEDdIXjvyegW7tSbptQRwWu2y+KbL\n",
       "x9MY0JxZNCESBMHWLeuZZZ3FmXcncpuDNmkEeI4yqo65qmVdeGpZjYgvpdxmNAZxPvmZQbcTG8OM\n",
       "P4R2krsG8QPH5PirbtquozDoW/z2myPXCMNM4zhjVQ/gEjX/sCEz538xjU9hJllsZbgWZajAsDoM\n",
       "c5/8S3HDRBh6/UDqwzJz/434dAYGKod4Kk/egq+kYaESHmTzz7JbTZya+3ihnyT4/ttR7fP5DAwY\n",
       "eL8sb5kdjzQor6Pjf8N+9ybhNY9+zcT5n7wdS0M+n4EBZZQn/5XmGPnPl8eQLf/ptujFEDcaLcb9\n",
       "40tHkD+JpHi7+Sqjnxx9ZZQpzIK3lK/CW+HoT2T7U0LtDfPxKzZbfy9PsL/RFCSrZf0DLQAAAABJ\n",
       "RU5ErkJggg==\n",
       "\" style=\"display:inline;vertical-align:middle;\" /></a><br>"
      ],
      "text/plain": [
       "<IPython.core.display.HTML object>"
      ]
     },
     "metadata": {},
     "output_type": "display_data"
    }
   ],
   "source": [
    "from proveit import ExprRange\n",
    "from proveit import i, j, k\n",
    "from proveit.numbers import one, Add, frac\n",
    "it = ExprRange(k, frac(one, Add(x, k)), i, j)"
   ]
  },
  {
   "cell_type": "markdown",
   "metadata": {},
   "source": [
    "For compactness, we only show the start and the end instances.  It is implicit that our index parameter ($k$, which is not explicitly shown) is that our index ranges from $i$ to $j$ in increments of $1$.  (Future style options could be implemented, if desired, to make the representation more explicit at the expense of being less compact without changing any of the inner workings of the `Iter` expression type.)"
   ]
  },
  {
   "cell_type": "markdown",
   "metadata": {},
   "source": [
    "Looking at the expression information, we see that there are three sub-expression of the `Iter` object: the `lambda_map`, `start_index` and `end_index`."
   ]
  },
  {
   "cell_type": "code",
   "execution_count": 113,
   "metadata": {},
   "outputs": [
    {
     "data": {
      "text/html": [
       "<table><tr><th>&nbsp;</th><th>core type</th><th>sub-expressions</th><th>expression</th></tr>\n",
       "<tr><td>0</td><td>ExprRange</td><td>lambda_map:&nbsp;1<br>start_index:&nbsp;2<br>end_index:&nbsp;3<br></td><td><a class=\"ProveItLink\" href=\"__pv_it/basic_expressions/fece1e33ce24f4fcca7858a8415592d637c1af450/expr.ipynb\"><img src=\"data:image/png;base64,iVBORw0KGgoAAAANSUhEUgAAAP0AAAAvBAMAAADa7dHrAAAAMFBMVEX///8AAAAAAAAAAAAAAAAA\n",
       "AAAAAAAAAAAAAAAAAAAAAAAAAAAAAAAAAAAAAAAAAAAv3aB7AAAAD3RSTlMAMt0Qq5nNdoki72ZU\n",
       "RLsDrqvKAAAACXBIWXMAAA7EAAAOxAGVKw4bAAACuUlEQVRYw+2YP2jUUBjAv1yS5i7J2VIXB6El\n",
       "Koh0ONFyW3ugIvSWo8Mp3nJgNwcz9ChOvcHBQTC4ugSXgiDe4iAKDYh/Nm8TrOCBgzgIykGhQ6nv\n",
       "5ZI0L++98JJbRPLBPR7fx/f98v5973sHEIl0BkRlvgb5heN8uT0WDCBfu5ufz3fWxsJBtqcZ/3bB\n",
       "L/gFv+D/Y/zygXCIR84UfI6zsrbfFIxw9cXGIDd+KudCCinkf5IjpvyeGGePMkpGTMgphK7Tc/rV\n",
       "BDQistrlmpwUtbwf+JKd7FLivsY0j63/7LcWGm6phTrnIOhYmSdAw25vedaP6NdL6PDbUfOvVZOi\n",
       "mVy+9J0z9j5q+ryNgRfmPOvteNuvYui6hj/OxBrvxTE2sI1qrHqoDuK120vcq1MUSrPH+54P8W/j\n",
       "GfX41Npxvo4n2qai2mkYMUPc+J7LnxGsq0hMffPiA48w1DvHq7B15dRD0usm0vYGLH65kQKlMUiF\n",
       "25Z2XV0kDP0vkZcKm/Y66XUHgaoui290U/g0Blo6GobhGGNlEDdIXjvyegW7tSbptQRwWu2y+KbL\n",
       "x9MY0JxZNCESBMHWLeuZZZ3FmXcncpuDNmkEeI4yqo65qmVdeGpZjYgvpdxmNAZxPvmZQbcTG8OM\n",
       "P4R2krsG8QPH5PirbtquozDoW/z2myPXCMNM4zhjVQ/gEjX/sCEz538xjU9hJllsZbgWZajAsDoM\n",
       "c5/8S3HDRBh6/UDqwzJz/434dAYGKod4Kk/egq+kYaESHmTzz7JbTZya+3ihnyT4/ttR7fP5DAwY\n",
       "eL8sb5kdjzQor6Pjf8N+9ybhNY9+zcT5n7wdS0M+n4EBZZQn/5XmGPnPl8eQLf/ptujFEDcaLcb9\n",
       "40tHkD+JpHi7+Sqjnxx9ZZQpzIK3lK/CW+HoT2T7U0LtDfPxKzZbfy9PsL/RFCSrZf0DLQAAAABJ\n",
       "RU5ErkJggg==\n",
       "\" style=\"display:inline;vertical-align:middle;\" /></a></td></tr>\n",
       "<tr><td>1</td><td>Lambda</td><td>parameter:&nbsp;13<br>body:&nbsp;5<br></td><td><a class=\"ProveItLink\" href=\"__pv_it/basic_expressions/16b6258acf444bb8e22179347652aad12da41cfc0/expr.ipynb\"><img src=\"data:image/png;base64,iVBORw0KGgoAAAANSUhEUgAAAHoAAAAsCAMAAACdUFw8AAAANlBMVEX///8AAAAAAAAAAAAAAAAA\n",
       "AAAAAAAAAAAAAAAAAAAAAAAAAAAAAAAAAAAAAAAAAAAAAAAAAABHL6OuAAAAEXRSTlMAMrsiq4l2\n",
       "RO8QZpndVM3z6UwP0jwAAAAJcEhZcwAADsQAAA7EAZUrDhsAAAE9SURBVFjD7ZfpboUgEIVZhgFk\n",
       "aef9X7ZgUit4F8VSb284f4ya8IVx5hxkrJe4t+wKWXCRrkEn4UAP9EAP9FugFclrwACGIkxs6J8K\n",
       "/7RxigEJritLgkKJy60vXvqeZG1SUcWPG5SwIDrW1+RRdP7ePlF0syhHM08tDz4+fSEivbyjc6rQ\n",
       "JlfUrpavdq2j7lVvyg020b3G4rFbvS2F7L+RBXkTHTsOtki7Dt6xZYB1x7nm4lty/mtAxSUgv52D\n",
       "fDj6K0pfd0II+N5oiwiWKxUOoKtobLb8FCiA67h5iq6jsVGTzK5rWXXyfITeRGOrHeVV4roKc7oZ\n",
       "M19gVzSekMFDbbaJxhMznP8xrN2L3kZjY38LzcBkb2f70XU0Ns4vcesSWof9Bd9EY+OuHWIK0ikc\n",
       "+NaPo/GX3axM5deIjy/YCA71sT8hwwAAAABJRU5ErkJggg==\n",
       "\" style=\"display:inline;vertical-align:middle;\" /></a></td></tr>\n",
       "<tr><td>2</td><td>Variable</td><td></td><td><a class=\"ProveItLink\" href=\"../packages/proveit/__pv_it/common/ae955345c83abf786c3aff8681cd5465beae262d0/expr.ipynb\"><img src=\"data:image/png;base64,iVBORw0KGgoAAAANSUhEUgAAAAcAAAAOBAMAAAARcxsoAAAALVBMVEX///8AAAAAAAAAAAAAAAAA\n",
       "AAAAAAAAAAAAAAAAAAAAAAAAAAAAAAAAAAAAAADAOrOgAAAADnRSTlMAdpndiRBmRO8yVM2rIuws\n",
       "s0IAAAAJcEhZcwAADsQAAA7EAZUrDhsAAAA6SURBVAjXY2BgEGIAAhMGdMAqlMDAwMLewMAwi2kD\n",
       "A0MAhwBQcF0AkNjDCpR9zsLAwPngGpB7LIEBALAvCJF4nqyTAAAAAElFTkSuQmCC\n",
       "\" style=\"display:inline;vertical-align:middle;\" /></a></td></tr>\n",
       "<tr><td>3</td><td>Variable</td><td></td><td><a class=\"ProveItLink\" href=\"../packages/proveit/__pv_it/common/1ed21df18baca2f42b561a7ffbf30a2743d594650/expr.ipynb\"><img src=\"data:image/png;base64,iVBORw0KGgoAAAANSUhEUgAAAAoAAAASBAMAAACQmVJ4AAAAMFBMVEX///8AAAAAAAAAAAAAAAAA\n",
       "AAAAAAAAAAAAAAAAAAAAAAAAAAAAAAAAAAAAAAAAAAAv3aB7AAAAD3RSTlMAMrsQds2rme9mIlTd\n",
       "iUQmv6lAAAAACXBIWXMAAA7EAAAOxAGVKw4bAAAATElEQVQI12NgYGBgVAYSDCwBDNiAiRuILOCY\n",
       "AFSxgH8DAwMzw34DkFANWPosiOD6ByI5P4BINgUQyeEAZG2YD1Qov+E0kM/u/oCBAQDY7wxV/Qz6\n",
       "SAAAAABJRU5ErkJggg==\n",
       "\" style=\"display:inline;vertical-align:middle;\" /></a></td></tr>\n",
       "<tr><td>4</td><td>ExprTuple</td><td>13</td><td><a class=\"ProveItLink\" href=\"__pv_it/basic_expressions/4b0dd6be36d76552eda6a95d5b4a27f5a5b62f900/expr.ipynb\"><img src=\"data:image/png;base64,iVBORw0KGgoAAAANSUhEUgAAACUAAAAVBAMAAAAzyjqdAAAAMFBMVEX///8AAAAAAAAAAAAAAAAA\n",
       "AAAAAAAAAAAAAAAAAAAAAAAAAAAAAAAAAAAAAAAAAAAv3aB7AAAAD3RSTlMAInZUiRDNmWbv3US7\n",
       "qzJazP2FAAAACXBIWXMAAA7EAAAOxAGVKw4bAAAAyUlEQVQY013QrwvCQBTA8e885344ZFkQtn9A\n",
       "DGL2H1D8AwQtgtFgMK4ZXRQsA4NVbLZpNoiI2Wyy2D0N2+4evHe8D7zH3QE+xfh3pZZih19pK0Qp\n",
       "AnOsGhOwIs2W4GiEM6CjWyVinnfGPQygfGWa29H3PmCP2WZkrrESEDGbzKw3bhdq74I5KaM9VOPC\n",
       "7ChgJQ+RcM6txUP42Cm9zLxA7Cy5tstLbr3IOGHe+o0muHvcp/aOurziTLOFzJNKRirLUDXv9/lG\n",
       "oFgIXx7XJBUkcPjNAAAAAElFTkSuQmCC\n",
       "\" style=\"display:inline;vertical-align:middle;\" /></a></td></tr>\n",
       "<tr><td>5</td><td>Operation</td><td>operator:&nbsp;6<br>operands:&nbsp;7<br></td><td><a class=\"ProveItLink\" href=\"__pv_it/basic_expressions/5a815aea9051dc5a2d60de726b1a0ece17350fe10/expr.ipynb\"><img src=\"data:image/png;base64,iVBORw0KGgoAAAANSUhEUgAAAD8AAAAsBAMAAAAgM33ZAAAAMFBMVEX///8AAAAAAAAAAAAAAAAA\n",
       "AAAAAAAAAAAAAAAAAAAAAAAAAAAAAAAAAAAAAAAAAAAv3aB7AAAAD3RSTlMAMt0Qq5nNdoki72ZU\n",
       "RLsDrqvKAAAACXBIWXMAAA7EAAAOxAGVKw4bAAAAxElEQVQ4y2NgQAVCBgz4ALNrPn4FDAz1owqo\n",
       "pKB/An55l/UpGxhGATbwHz/4MAKDhJdQWuEpIE+BeYlhxwGsCqa0TwdRAezurArYFPCuZHgPzATc\n",
       "E7g/s2zApsBqA0MQkGJkYE0AcVmVlLQWKSk5IBTEMzBogBlcBdgduY6B+S+YcX8CswEWBczfGbhB\n",
       "qcHughcDBzYTmP8wsCScZGA4LxzFcAerFc8ZDgUEMDCYlvNEH8CqwKRC0l0Aa0jKvQOCCcRGFgC1\n",
       "N1NDkvsRFgAAAABJRU5ErkJggg==\n",
       "\" style=\"display:inline;vertical-align:middle;\" /></a></td></tr>\n",
       "<tr><td>6</td><td>Literal</td><td></td><td><a class=\"ProveItLink\" href=\"../packages/proveit/numbers/division/__pv_it/common/a2a633e1e3c749fb1f2692466b287b6348c5de840/expr.ipynb\"><img src=\"data:image/png;base64,iVBORw0KGgoAAAANSUhEUgAAAA4AAAAMBAMAAACgrpHpAAAAJFBMVEX///8AAAAAAAAAAAAAAAAA\n",
       "AAAAAAAAAAAAAAAAAAAAAAAAAADHJj5lAAAAC3RSTlMAu80QIkRmdpndq8GgXCoAAAAJcEhZcwAA\n",
       "DsQAAA7EAZUrDhsAAAAkSURBVAjXY2BgYBAyYAABlt0BYJohnQEL6JwJArMY8ABs5gAAeHQHkckd\n",
       "QZIAAAAASUVORK5CYII=\n",
       "\" style=\"display:inline;vertical-align:middle;\" /></a></td></tr>\n",
       "<tr><td>7</td><td>ExprTuple</td><td>8, 9</td><td><a class=\"ProveItLink\" href=\"__pv_it/basic_expressions/2ffdac9b4bbe2dd9dc15497ebf760a0f55a89d7b0/expr.ipynb\"><img src=\"data:image/png;base64,iVBORw0KGgoAAAANSUhEUgAAAF4AAAAVBAMAAAA9Y0TyAAAAMFBMVEX///8AAAAAAAAAAAAAAAAA\n",
       "AAAAAAAAAAAAAAAAAAAAAAAAAAAAAAAAAAAAAAAAAAAv3aB7AAAAD3RSTlMAInZUiRDNmWbv3US7\n",
       "qzJazP2FAAAACXBIWXMAAA7EAAAOxAGVKw4bAAABPUlEQVQoz2NgYBBgIBYwgggmA6LVcysACRMg\n",
       "fhVAnAYNBgbWBAbW6/lEqmcLYGBvANL6mOq5G7Co5yhg4GTArp5ZAZsFUxnMSFKfwVCCrJ5V6eoT\n",
       "Z+zqZZ2EgKQvUAeSenYGXYUqrOq5JzKcBypqY1iMrL6RoT/gBlb1kQ0MIIMsGWYjq3/AUAaxZ9Wq\n",
       "lbNWrbqAUF/PwLAESL1HVc/AMAmHf+cwsP4GUjtR3cPA/ZEhFJt61k8MHB+AtBXDIZh6IGI9zTuB\n",
       "wQGr+s8MvAmGDAw9wBACAn8BBtZvQDX/widwG2B1zyEGq4ICBmDovwJy7s7PbWBYFcDAWqRg3ozm\n",
       "/jdngECAIVbl4aUHDAyrGbgewBQEEI5fxgWgJAQBLESkN1DiPAhlBxGRnmWAOAbKViBCPchsRgWi\n",
       "8yOTAAMA/9pHvufPMbwAAAAASUVORK5CYII=\n",
       "\" style=\"display:inline;vertical-align:middle;\" /></a></td></tr>\n",
       "<tr><td>8</td><td>Literal</td><td></td><td><a class=\"ProveItLink\" href=\"../packages/proveit/numbers/numerals/__pv_it/common/682157d4892d216d9e5626ed533aff9b56b9506e0/expr.ipynb\"><img src=\"data:image/png;base64,iVBORw0KGgoAAAANSUhEUgAAAAgAAAAOBAMAAADgeEClAAAAJ1BMVEX///8AAAAAAAAAAAAAAAAA\n",
       "AAAAAAAAAAAAAAAAAAAAAAAAAAAAAAAilU6eAAAADHRSTlMAMt0Qq5nNdoki72YJhDyyAAAACXBI\n",
       "WXMAAA7EAAAOxAGVKw4bAAAAH0lEQVQI12NgYFRmYDAJO8zAwMBOMsFxkoGBxeuYNwB0KguGAVQB\n",
       "OAAAAABJRU5ErkJggg==\n",
       "\" style=\"display:inline;vertical-align:middle;\" /></a></td></tr>\n",
       "<tr><td>9</td><td>Operation</td><td>operator:&nbsp;10<br>operands:&nbsp;11<br></td><td><a class=\"ProveItLink\" href=\"__pv_it/basic_expressions/d7f8c2a59b0e58b50006b461293e3e5eb6acd4290/expr.ipynb\"><img src=\"data:image/png;base64,iVBORw0KGgoAAAANSUhEUgAAAD4AAAAOBAMAAACFlbLaAAAAMFBMVEX///8AAAAAAAAAAAAAAAAA\n",
       "AAAAAAAAAAAAAAAAAAAAAAAAAAAAAAAAAAAAAAAAAAAv3aB7AAAAD3RSTlMAEHarMolUmd1mIs3v\n",
       "RLtmgJDEAAAACXBIWXMAAA7EAAAOxAGVKw4bAAAAnUlEQVQY02NgQADeCQx4AZsCOfJCyiKhCVjl\n",
       "FwctApIFTEbsDdjkeU8xvBdg4FzA+ZF5AjZ5mQkMFQwMLAzsG0A89o6OnhMdHQYI+XoGhlYQzaOA\n",
       "3X3nGBj/guj7CxgFsMgzfmLg/MDAIHfBhoEVm37GbwzMG7IY8h1rGK5hNf8RQ0ZBAYO4EltlAqq8\n",
       "3zsgWMAgrOpl5EBK+GKLHwCeSCTMRTGY4wAAAABJRU5ErkJggg==\n",
       "\" style=\"display:inline;vertical-align:middle;\" /></a></td></tr>\n",
       "<tr><td>10</td><td>Literal</td><td></td><td><a class=\"ProveItLink\" href=\"../packages/proveit/numbers/addition/__pv_it/common/4b7effaab3619a1c2c38fe2dee8601df8ec714590/expr.ipynb\"><img src=\"data:image/png;base64,iVBORw0KGgoAAAANSUhEUgAAAA4AAAAOBAMAAADtZjDiAAAAHlBMVEX///8AAAAAAAAAAAAAAAAA\n",
       "AAAAAAAAAAAAAAAAAACGjDitAAAACXRSTlMARGZUdpnd76sKo+zpAAAACXBIWXMAAA7EAAAOxAGV\n",
       "Kw4bAAAAH0lEQVQI12NgYGAQYoAAE2LosLS08rS0DKLVI9EgewAshQUueejZFAAAAABJRU5ErkJg\n",
       "gg==\n",
       "\" style=\"display:inline;vertical-align:middle;\" /></a></td></tr>\n",
       "<tr><td>11</td><td>ExprTuple</td><td>12, 13</td><td><a class=\"ProveItLink\" href=\"__pv_it/basic_expressions/43c66062ae1073a77f0149e735d4c79a547025940/expr.ipynb\"><img src=\"data:image/png;base64,iVBORw0KGgoAAAANSUhEUgAAADoAAAAVBAMAAADlb+D4AAAAMFBMVEX///8AAAAAAAAAAAAAAAAA\n",
       "AAAAAAAAAAAAAAAAAAAAAAAAAAAAAAAAAAAAAAAAAAAv3aB7AAAAD3RSTlMAInZUiRDNmWbv3US7\n",
       "qzJazP2FAAAACXBIWXMAAA7EAAAOxAGVKw4bAAABEElEQVQoz2NgYBBgwA4YQQSTAQ5ZbgUgYcKA\n",
       "C2gwMLAm4JRlC2Bgb8Apy1HAwMmAG0xlMMMjm8FQAiSDdONcUF0u6yQEJH2B8gwMBUyX2BegeGYi\n",
       "w/kABoY2hsVA2wU4vvKiOC6ygaEKSFkyzGZg4GNgR/NWPQPDEiD1HiTLwMCpgCo7h4H1N5DaCTKZ\n",
       "gWG/AGsAkiTrJwaOD0DaiuEQA0PMhpsMLAwMCHnWzwy8CYYMDD1AVzPYP61k2MzA+g2h+RCDVUEB\n",
       "A9C3rxgYwpWYK4DeXQXU/OYMEAgwxKo8vPSAgWE1A9cDmAbmAPQIXgAKaihgQQ9IUAQdhHGC0GVl\n",
       "gDgGxlFAlwXpY1TAEUNMAgwAY200TO12SAoAAAAASUVORK5CYII=\n",
       "\" style=\"display:inline;vertical-align:middle;\" /></a></td></tr>\n",
       "<tr><td>12</td><td>Variable</td><td></td><td><a class=\"ProveItLink\" href=\"__pv_it/basic_expressions/a0d9d672aa5e272d907247690c152cc2c6daafb70/expr.ipynb\"><img src=\"data:image/png;base64,iVBORw0KGgoAAAANSUhEUgAAAAsAAAAJBAMAAAAWSsseAAAAMFBMVEX///8AAAAAAAAAAAAAAAAA\n",
       "AAAAAAAAAAAAAAAAAAAAAAAAAAAAAAAAAAAAAAAAAAAv3aB7AAAAD3RSTlMAEHarMolUmd1mIs3v\n",
       "RLtmgJDEAAAACXBIWXMAAA7EAAAOxAGVKw4bAAAAQklEQVQI12NgEFIWCU1gYChgMmJvYOBcwPmR\n",
       "eQIDCwP7BgYQ4FEAU/cXMAowyF2wYWBlYMh3rGG4xsAgrsRWmcAAAFEjCyBvD0T9AAAAAElFTkSu\n",
       "QmCC\n",
       "\" style=\"display:inline;vertical-align:middle;\" /></a></td></tr>\n",
       "<tr><td>13</td><td>Variable</td><td></td><td><a class=\"ProveItLink\" href=\"__pv_it/basic_expressions/006c465e50948aa2b52285e2de47974f741255cc0/expr.ipynb\"><img src=\"data:image/png;base64,iVBORw0KGgoAAAANSUhEUgAAABgAAAAJBAMAAADa0/H1AAAAMFBMVEX///8AAAAAAAAAAAAAAAAA\n",
       "AAAAAAAAAAAAAAAAAAAAAAAAAAAAAAAAAAAAAAAAAAAv3aB7AAAAD3RSTlMAMrsiq4l2RO8QZpnd\n",
       "VM2humBGAAAACXBIWXMAAA7EAAAOxAGVKw4bAAAASUlEQVQI12NggAKTMDMYk4G9mUF/AowzYwHD\n",
       "HrjMfgaGo3BOEwPndxib8xsD1wc45y8Dy4PLMJ4aw50NGxiElIDAgGFKqrCbAAD2sxBIUZwn3gAA\n",
       "AABJRU5ErkJggg==\n",
       "\" style=\"display:inline;vertical-align:middle;\" /></a></td></tr>\n",
       "</table>\n"
      ],
      "text/plain": [
       "0. (1 / (x + i)), (1 / (x + (i + 1))), ..., (1 / (x + j))\n",
       "   core type: ExprRange\n",
       "   lambda_map: 1\n",
       "   start_index: 2\n",
       "   end_index: 3\n",
       "1. _a -> (1 / (x + _a))\n",
       "   core type: Lambda\n",
       "   parameter: 13\n",
       "   body: 5\n",
       "2. i\n",
       "   core type: Variable\n",
       "   sub-expressions: \n",
       "3. j\n",
       "   core type: Variable\n",
       "   sub-expressions: \n",
       "4. (_a)\n",
       "   core type: ExprTuple\n",
       "   sub-expressions: 13\n",
       "5. 1 / (x + _a)\n",
       "   core type: Operation\n",
       "   operator: 6\n",
       "   operands: 7\n",
       "6. /\n",
       "   core type: Literal\n",
       "   sub-expressions: \n",
       "7. (1, x + _a)\n",
       "   core type: ExprTuple\n",
       "   sub-expressions: 8, 9\n",
       "8. 1\n",
       "   core type: Literal\n",
       "   sub-expressions: \n",
       "9. x + _a\n",
       "   core type: Operation\n",
       "   operator: 10\n",
       "   operands: 11\n",
       "10. +\n",
       "    core type: Literal\n",
       "    sub-expressions: \n",
       "11. (x, _a)\n",
       "    core type: ExprTuple\n",
       "    sub-expressions: 12, 13\n",
       "12. x\n",
       "    core type: Variable\n",
       "    sub-expressions: \n",
       "13. _a\n",
       "    core type: Variable\n",
       "    sub-expressions: "
      ]
     },
     "metadata": {},
     "output_type": "display_data"
    }
   ],
   "source": [
    "it.expr_info()"
   ]
  },
  {
   "cell_type": "markdown",
   "metadata": {},
   "source": [
    "The `lambda_map`, `start_index` and `end_index` attributes provides access to the sub-expression.  The `parameter` and `body` attributes provide convient access to some indirect sub-expressions (the sub-expressions of `lambda_map`)."
   ]
  },
  {
   "cell_type": "code",
   "execution_count": 114,
   "metadata": {},
   "outputs": [
    {
     "data": {
      "text/html": [
       "<a class=\"ProveItLink\" href=\"__pv_it/basic_expressions/16b6258acf444bb8e22179347652aad12da41cfc0/expr.ipynb\"><img src=\"data:image/png;base64,iVBORw0KGgoAAAANSUhEUgAAAHoAAAAsCAMAAACdUFw8AAAANlBMVEX///8AAAAAAAAAAAAAAAAA\n",
       "AAAAAAAAAAAAAAAAAAAAAAAAAAAAAAAAAAAAAAAAAAAAAAAAAABHL6OuAAAAEXRSTlMAMrsiq4l2\n",
       "RO8QZpndVM3z6UwP0jwAAAAJcEhZcwAADsQAAA7EAZUrDhsAAAE9SURBVFjD7ZfpboUgEIVZhgFk\n",
       "aef9X7ZgUit4F8VSb284f4ya8IVx5hxkrJe4t+wKWXCRrkEn4UAP9EAP9FugFclrwACGIkxs6J8K\n",
       "/7RxigEJritLgkKJy60vXvqeZG1SUcWPG5SwIDrW1+RRdP7ePlF0syhHM08tDz4+fSEivbyjc6rQ\n",
       "JlfUrpavdq2j7lVvyg020b3G4rFbvS2F7L+RBXkTHTsOtki7Dt6xZYB1x7nm4lty/mtAxSUgv52D\n",
       "fDj6K0pfd0II+N5oiwiWKxUOoKtobLb8FCiA67h5iq6jsVGTzK5rWXXyfITeRGOrHeVV4roKc7oZ\n",
       "M19gVzSekMFDbbaJxhMznP8xrN2L3kZjY38LzcBkb2f70XU0Ns4vcesSWof9Bd9EY+OuHWIK0ikc\n",
       "+NaPo/GX3axM5deIjy/YCA71sT8hwwAAAABJRU5ErkJggg==\n",
       "\" style=\"display:inline;vertical-align:middle;\" /></a>"
      ],
      "text/plain": [
       "_a -> (1 / (x + _a))"
      ]
     },
     "metadata": {},
     "output_type": "display_data"
    }
   ],
   "source": [
    "it.lambda_map"
   ]
  },
  {
   "cell_type": "code",
   "execution_count": 115,
   "metadata": {},
   "outputs": [
    {
     "data": {
      "text/html": [
       "<a class=\"ProveItLink\" href=\"__pv_it/basic_expressions/006c465e50948aa2b52285e2de47974f741255cc0/expr.ipynb\"><img src=\"data:image/png;base64,iVBORw0KGgoAAAANSUhEUgAAABgAAAAJBAMAAADa0/H1AAAAMFBMVEX///8AAAAAAAAAAAAAAAAA\n",
       "AAAAAAAAAAAAAAAAAAAAAAAAAAAAAAAAAAAAAAAAAAAv3aB7AAAAD3RSTlMAMrsiq4l2RO8QZpnd\n",
       "VM2humBGAAAACXBIWXMAAA7EAAAOxAGVKw4bAAAASUlEQVQI12NggAKTMDMYk4G9mUF/AowzYwHD\n",
       "HrjMfgaGo3BOEwPndxib8xsD1wc45y8Dy4PLMJ4aw50NGxiElIDAgGFKqrCbAAD2sxBIUZwn3gAA\n",
       "AABJRU5ErkJggg==\n",
       "\" style=\"display:inline;vertical-align:middle;\" /></a>"
      ],
      "text/plain": [
       "_a"
      ]
     },
     "metadata": {},
     "output_type": "display_data"
    }
   ],
   "source": [
    "it.parameter"
   ]
  },
  {
   "cell_type": "code",
   "execution_count": 116,
   "metadata": {},
   "outputs": [
    {
     "data": {
      "text/html": [
       "<a class=\"ProveItLink\" href=\"__pv_it/basic_expressions/5a815aea9051dc5a2d60de726b1a0ece17350fe10/expr.ipynb\"><img src=\"data:image/png;base64,iVBORw0KGgoAAAANSUhEUgAAAD8AAAAsBAMAAAAgM33ZAAAAMFBMVEX///8AAAAAAAAAAAAAAAAA\n",
       "AAAAAAAAAAAAAAAAAAAAAAAAAAAAAAAAAAAAAAAAAAAv3aB7AAAAD3RSTlMAMt0Qq5nNdoki72ZU\n",
       "RLsDrqvKAAAACXBIWXMAAA7EAAAOxAGVKw4bAAAAxElEQVQ4y2NgQAVCBgz4ALNrPn4FDAz1owqo\n",
       "pKB/An55l/UpGxhGATbwHz/4MAKDhJdQWuEpIE+BeYlhxwGsCqa0TwdRAezurArYFPCuZHgPzATc\n",
       "E7g/s2zApsBqA0MQkGJkYE0AcVmVlLQWKSk5IBTEMzBogBlcBdgduY6B+S+YcX8CswEWBczfGbhB\n",
       "qcHughcDBzYTmP8wsCScZGA4LxzFcAerFc8ZDgUEMDCYlvNEH8CqwKRC0l0Aa0jKvQOCCcRGFgC1\n",
       "N1NDkvsRFgAAAABJRU5ErkJggg==\n",
       "\" style=\"display:inline;vertical-align:middle;\" /></a>"
      ],
      "text/plain": [
       "1 / (x + _a)"
      ]
     },
     "metadata": {},
     "output_type": "display_data"
    }
   ],
   "source": [
    "it.body"
   ]
  },
  {
   "cell_type": "code",
   "execution_count": 117,
   "metadata": {},
   "outputs": [
    {
     "data": {
      "text/html": [
       "<a class=\"ProveItLink\" href=\"../packages/proveit/__pv_it/common/ae955345c83abf786c3aff8681cd5465beae262d0/expr.ipynb\"><img src=\"data:image/png;base64,iVBORw0KGgoAAAANSUhEUgAAAAcAAAAOBAMAAAARcxsoAAAALVBMVEX///8AAAAAAAAAAAAAAAAA\n",
       "AAAAAAAAAAAAAAAAAAAAAAAAAAAAAAAAAAAAAADAOrOgAAAADnRSTlMAdpndiRBmRO8yVM2rIuws\n",
       "s0IAAAAJcEhZcwAADsQAAA7EAZUrDhsAAAA6SURBVAjXY2BgEGIAAhMGdMAqlMDAwMLewMAwi2kD\n",
       "A0MAhwBQcF0AkNjDCpR9zsLAwPngGpB7LIEBALAvCJF4nqyTAAAAAElFTkSuQmCC\n",
       "\" style=\"display:inline;vertical-align:middle;\" /></a>"
      ],
      "text/plain": [
       "i"
      ]
     },
     "metadata": {},
     "output_type": "display_data"
    }
   ],
   "source": [
    "it.start_index"
   ]
  },
  {
   "cell_type": "code",
   "execution_count": 118,
   "metadata": {},
   "outputs": [
    {
     "data": {
      "text/html": [
       "<a class=\"ProveItLink\" href=\"../packages/proveit/__pv_it/common/1ed21df18baca2f42b561a7ffbf30a2743d594650/expr.ipynb\"><img src=\"data:image/png;base64,iVBORw0KGgoAAAANSUhEUgAAAAoAAAASBAMAAACQmVJ4AAAAMFBMVEX///8AAAAAAAAAAAAAAAAA\n",
       "AAAAAAAAAAAAAAAAAAAAAAAAAAAAAAAAAAAAAAAAAAAv3aB7AAAAD3RSTlMAMrsQds2rme9mIlTd\n",
       "iUQmv6lAAAAACXBIWXMAAA7EAAAOxAGVKw4bAAAATElEQVQI12NgYGBgVAYSDCwBDNiAiRuILOCY\n",
       "AFSxgH8DAwMzw34DkFANWPosiOD6ByI5P4BINgUQyeEAZG2YD1Qov+E0kM/u/oCBAQDY7wxV/Qz6\n",
       "SAAAAABJRU5ErkJggg==\n",
       "\" style=\"display:inline;vertical-align:middle;\" /></a>"
      ],
      "text/plain": [
       "j"
      ]
     },
     "metadata": {},
     "output_type": "display_data"
    }
   ],
   "source": [
    "it.end_index"
   ]
  },
  {
   "cell_type": "markdown",
   "metadata": {},
   "source": [
    "We have special formatting features when an `Iter` is used as *operands* of an `Operator`.  As stated previously, **Prove-It** is flexible in its formatting."
   ]
  },
  {
   "cell_type": "code",
   "execution_count": 119,
   "metadata": {},
   "outputs": [
    {
     "data": {
      "text/html": [
       "<strong id=\"add_it\">add_it:</strong> <a class=\"ProveItLink\" href=\"__pv_it/basic_expressions/f5351e1a8f8ab75fd6fbf98ef11da67937d834780/expr.ipynb\"><img src=\"data:image/png;base64,iVBORw0KGgoAAAANSUhEUgAAASoAAAAvBAMAAACmrpobAAAAMFBMVEX///8AAAAAAAAAAAAAAAAA\n",
       "AAAAAAAAAAAAAAAAAAAAAAAAAAAAAAAAAAAAAAAAAAAv3aB7AAAAD3RSTlMAMt0Qq5nNdoki72ZU\n",
       "RLsDrqvKAAAACXBIWXMAAA7EAAAOxAGVKw4bAAACrElEQVRYw2NggANGZQYSAek6SDbLJOwziQaR\n",
       "roMMs9hJtoOdeq7Cadaoq0ZdNeqqUVeNuooSszh+kmoS6TpINovF65s3aQaRroM+Zo0CBLhNmXbe\n",
       "DTQx9zhlruIpoIm5o64adRWZ5v7HCj4AZYKUlFYpKangVoQbgLSzKilpLVJScsCwEclcfhz6R2Nw\n",
       "JLtqAlZRTkxX2ScwMDB/gzJo7Cr2A9irmQIMVzEFAAlVGINcV7EHEOOqE0BciiYmZMDAUE1pDMoZ\n",
       "YBVmaiCiFmUGxYYGqpBrPtBANgMKa+cy4qp4rCaybsCisx7oIu4AqrZPcAY41tDnwqYT5CqGxVRN\n",
       "w6S56hhOV2VTwVXmJYYdB1DMNo/G0IJQBNcdAUxHpRuwuaqFeKcwlztL9KCay1wOqqQC2N1ZFVDM\n",
       "briFoRuhCK4bGCIcvAuwuWob8a5iZSgpCEI1l5VhNTBtTuD+zLIB2WzGA2HompEUwXXrMDDIsCZg\n",
       "c9Up4l21k2G/gTequZUMf4BuYIAYjajimRmWo2uGKUKu79cyMBhwFaA1DsCukifeVQIMYejmGvCA\n",
       "+6tcBWhplgdLNxauCO4noKsYzhtgC6tbpCTy5RipHZJU7k9gNkAxm80Bs3CFK0KOQYYUZmyuOkRK\n",
       "N+gngzGaq0BluN0FLwYOtMr0QgOaXiRFcN3PgXH9lwObq/YRnwXfsixgaEBz1fwLwEgQjmK4g2q2\n",
       "PCd6IY+kCK4bmP8ZP8xGc1X/BEiZQWxT56PpAl60EodhPxCblvNEH0A1m2U3um4kRXDdQkDsjVZe\n",
       "uaxPAYroEh9W4QVH96CnKz9KynYmARw6ORUoK9uXE9kBx1qLIlfCKDpZN5DlKqi5PtyUDYq9xCE+\n",
       "jxJDGf8wHaDIVXYkupY4EB5LWV+BE3syZJ9A+VgQAB/lOhSWusETAAAAAElFTkSuQmCC\n",
       "\" style=\"display:inline;vertical-align:middle;\" /></a><br>"
      ],
      "text/plain": [
       "<IPython.core.display.HTML object>"
      ]
     },
     "metadata": {},
     "output_type": "display_data"
    }
   ],
   "source": [
    "add_it = Add(it)"
   ]
  },
  {
   "cell_type": "markdown",
   "metadata": {},
   "source": [
    "To really understand how **Prove-It** recognizes an expression, one must look at the expression information. "
   ]
  },
  {
   "cell_type": "code",
   "execution_count": 120,
   "metadata": {},
   "outputs": [
    {
     "data": {
      "text/html": [
       "<table><tr><th>&nbsp;</th><th>core type</th><th>sub-expressions</th><th>expression</th></tr>\n",
       "<tr><td>0</td><td>Operation</td><td>operator:&nbsp;12<br>operands:&nbsp;1<br></td><td><a class=\"ProveItLink\" href=\"__pv_it/basic_expressions/f5351e1a8f8ab75fd6fbf98ef11da67937d834780/expr.ipynb\"><img src=\"data:image/png;base64,iVBORw0KGgoAAAANSUhEUgAAASoAAAAvBAMAAACmrpobAAAAMFBMVEX///8AAAAAAAAAAAAAAAAA\n",
       "AAAAAAAAAAAAAAAAAAAAAAAAAAAAAAAAAAAAAAAAAAAv3aB7AAAAD3RSTlMAMt0Qq5nNdoki72ZU\n",
       "RLsDrqvKAAAACXBIWXMAAA7EAAAOxAGVKw4bAAACrElEQVRYw2NggANGZQYSAek6SDbLJOwziQaR\n",
       "roMMs9hJtoOdeq7Cadaoq0ZdNeqqUVeNuooSszh+kmoS6TpINovF65s3aQaRroM+Zo0CBLhNmXbe\n",
       "DTQx9zhlruIpoIm5o64adRWZ5v7HCj4AZYKUlFYpKangVoQbgLSzKilpLVJScsCwEclcfhz6R2Nw\n",
       "JLtqAlZRTkxX2ScwMDB/gzJo7Cr2A9irmQIMVzEFAAlVGINcV7EHEOOqE0BciiYmZMDAUE1pDMoZ\n",
       "YBVmaiCiFmUGxYYGqpBrPtBANgMKa+cy4qp4rCaybsCisx7oIu4AqrZPcAY41tDnwqYT5CqGxVRN\n",
       "w6S56hhOV2VTwVXmJYYdB1DMNo/G0IJQBNcdAUxHpRuwuaqFeKcwlztL9KCay1wOqqQC2N1ZFVDM\n",
       "briFoRuhCK4bGCIcvAuwuWob8a5iZSgpCEI1l5VhNTBtTuD+zLIB2WzGA2HompEUwXXrMDDIsCZg\n",
       "c9Up4l21k2G/gTequZUMf4BuYIAYjajimRmWo2uGKUKu79cyMBhwFaA1DsCukifeVQIMYejmGvCA\n",
       "+6tcBWhplgdLNxauCO4noKsYzhtgC6tbpCTy5RipHZJU7k9gNkAxm80Bs3CFK0KOQYYUZmyuOkRK\n",
       "N+gngzGaq0BluN0FLwYOtMr0QgOaXiRFcN3PgXH9lwObq/YRnwXfsixgaEBz1fwLwEgQjmK4g2q2\n",
       "PCd6IY+kCK4bmP8ZP8xGc1X/BEiZQWxT56PpAl60EodhPxCblvNEH0A1m2U3um4kRXDdQkDsjVZe\n",
       "uaxPAYroEh9W4QVH96CnKz9KynYmARw6ORUoK9uXE9kBx1qLIlfCKDpZN5DlKqi5PtyUDYq9xCE+\n",
       "jxJDGf8wHaDIVXYkupY4EB5LWV+BE3syZJ9A+VgQAB/lOhSWusETAAAAAElFTkSuQmCC\n",
       "\" style=\"display:inline;vertical-align:middle;\" /></a></td></tr>\n",
       "<tr><td>1</td><td>ExprTuple</td><td>2</td><td><a class=\"ProveItLink\" href=\"__pv_it/basic_expressions/13daca0e264015ba07544a2bc52a9285b9b3b7d60/expr.ipynb\"><img src=\"data:image/png;base64,iVBORw0KGgoAAAANSUhEUgAAARkAAAAyBAMAAACaIrJlAAAAMFBMVEX///8AAAAAAAAAAAAAAAAA\n",
       "AAAAAAAAAAAAAAAAAAAAAAAAAAAAAAAAAAAAAAAAAAAv3aB7AAAAD3RSTlMAuzKrZonNIu/ddhCZ\n",
       "VERetuGgAAAACXBIWXMAAA7EAAAOxAGVKw4bAAAD2ElEQVRYw82YTWgTQRSAX7L52/z2JipILh6K\n",
       "SAL2UFQwB1EPShbEozRQb0XMwYu3FZHWHmqgCi4qrPQglEK3Ch5ioTnU0npxL4p/kBxERJAWkRYs\n",
       "ts7ubLa7OzObZHvIDKQ7fTPz3rczb9/MGwBUQnnod1nQ7OpQ32Eg/LhdEyS6vGMZ1PZh3zP4U7ty\n",
       "zil9ubLdpbrU6RvBaYjB0SJ+xsdd4uR21yrn9zM33sEP8ENUuaD5iP+/AFzQxBrm4y4fNNktmvV+\n",
       "0cCo6TZFTmiahqCQ54RmyfiahoETmlAN/bnDC00EuXH4Dy80KUSS3PIIo1tdKxyp7oOGHIxWKSS7\n",
       "RcLwZrdb+on7o6XAMJTBBwESA8BLGUHfVYMbmnILCio3NAilqXNDg5apnOeGJleE+So/NAMwonFD\n",
       "k6jAO35oxBqcwbVdatmwpnC3x8I0uOtnR5TbNFzMjczZSnXY+VIBNWtdSChePO8fb5YqzKaqjzi1\n",
       "aY11VzrQFDtFP5GZBycZQfyn+VdBUyEaW+ATsCpKx8nJNaDZYrYmDSVfWK3v0W+OktsnzYNChrCd\n",
       "YdKED1vrIEGBfUQRjdsCieVQxhI+dMtwDj9mntmIAVH2W1fsXTNHnii+OY2qjMa04y2yJecp9qJR\n",
       "qxNa635mcAqjg0i66WcnN6sx4VwE1UmTMJaEPKeofmbwSbkKggwdu9EaPzBpYl0eTwkzKBBHrBSh\n",
       "PvPiiu7qVl/eW6/ZU0evunW8QdK5Eo0mWvRBIM0gkVW5jRz6H642kifTNVc36YetIw0z6ppbxzVk\n",
       "NivTaCIVHxrSDDQS+KXif+3sLlKNbAslZ7ewvmLrOA9lbcit4ynA8XSFRpOR2TCkGUhWc7qd3cEq\n",
       "tg2W6jVFmVCUaWNPmLSV5GHF3QgwhWJ9wqBIK8qje4pStGnCG2wa0gyy08SRSDDmbN0KfwnV414Z\n",
       "Z9I56fW9qfatAjE3Wdk3/KuEF1s+kFPbYdugqqY0V7dYUXNe9bwmVgpGU9SVqvnREGbsGFo25Pij\n",
       "WmgN29HS6rbUasfh1BEUByS3jkNIvBOlerFPvkgxA/Ed/Jzeu2lrHluFX+5uhXg7cGR+L8pZz3d5\n",
       "2XCQmx4aM4dPS2waihmIbDhu2vAMLc5mlnV3N+GsHW7eql8veXQMot+QJ97gHF5k78M0MyDguQzh\n",
       "MBWTgsRiMU+JxWa5Bb3FYsuv17E7hcc7bWe0xkiDsmuaZblLGqxJ0Mua/VkY5Vmgs+YBhjze26VH\n",
       "QccY9n4iSEFoFhjyUG/Ja3oOu9l3W3I9CE2ccbnxPNBMh8f2Xqf/NwOvTOf5D4L4odHeMb8PAAAA\n",
       "AElFTkSuQmCC\n",
       "\" style=\"display:inline;vertical-align:middle;\" /></a></td></tr>\n",
       "<tr><td>2</td><td>ExprRange</td><td>lambda_map:&nbsp;3<br>start_index:&nbsp;4<br>end_index:&nbsp;5<br></td><td><a class=\"ProveItLink\" href=\"__pv_it/basic_expressions/fece1e33ce24f4fcca7858a8415592d637c1af450/expr.ipynb\"><img src=\"data:image/png;base64,iVBORw0KGgoAAAANSUhEUgAAAP0AAAAvBAMAAADa7dHrAAAAMFBMVEX///8AAAAAAAAAAAAAAAAA\n",
       "AAAAAAAAAAAAAAAAAAAAAAAAAAAAAAAAAAAAAAAAAAAv3aB7AAAAD3RSTlMAMt0Qq5nNdoki72ZU\n",
       "RLsDrqvKAAAACXBIWXMAAA7EAAAOxAGVKw4bAAACuUlEQVRYw+2YP2jUUBjAv1yS5i7J2VIXB6El\n",
       "Koh0ONFyW3ugIvSWo8Mp3nJgNwcz9ChOvcHBQTC4ugSXgiDe4iAKDYh/Nm8TrOCBgzgIykGhQ6nv\n",
       "5ZI0L++98JJbRPLBPR7fx/f98v5973sHEIl0BkRlvgb5heN8uT0WDCBfu5ufz3fWxsJBtqcZ/3bB\n",
       "L/gFv+D/Y/zygXCIR84UfI6zsrbfFIxw9cXGIDd+KudCCinkf5IjpvyeGGePMkpGTMgphK7Tc/rV\n",
       "BDQistrlmpwUtbwf+JKd7FLivsY0j63/7LcWGm6phTrnIOhYmSdAw25vedaP6NdL6PDbUfOvVZOi\n",
       "mVy+9J0z9j5q+ryNgRfmPOvteNuvYui6hj/OxBrvxTE2sI1qrHqoDuK120vcq1MUSrPH+54P8W/j\n",
       "GfX41Npxvo4n2qai2mkYMUPc+J7LnxGsq0hMffPiA48w1DvHq7B15dRD0usm0vYGLH65kQKlMUiF\n",
       "25Z2XV0kDP0vkZcKm/Y66XUHgaoui290U/g0Blo6GobhGGNlEDdIXjvyegW7tSbptQRwWu2y+KbL\n",
       "x9MY0JxZNCESBMHWLeuZZZ3FmXcncpuDNmkEeI4yqo65qmVdeGpZjYgvpdxmNAZxPvmZQbcTG8OM\n",
       "P4R2krsG8QPH5PirbtquozDoW/z2myPXCMNM4zhjVQ/gEjX/sCEz538xjU9hJllsZbgWZajAsDoM\n",
       "c5/8S3HDRBh6/UDqwzJz/434dAYGKod4Kk/egq+kYaESHmTzz7JbTZya+3ihnyT4/ttR7fP5DAwY\n",
       "eL8sb5kdjzQor6Pjf8N+9ybhNY9+zcT5n7wdS0M+n4EBZZQn/5XmGPnPl8eQLf/ptujFEDcaLcb9\n",
       "40tHkD+JpHi7+Sqjnxx9ZZQpzIK3lK/CW+HoT2T7U0LtDfPxKzZbfy9PsL/RFCSrZf0DLQAAAABJ\n",
       "RU5ErkJggg==\n",
       "\" style=\"display:inline;vertical-align:middle;\" /></a></td></tr>\n",
       "<tr><td>3</td><td>Lambda</td><td>parameter:&nbsp;15<br>body:&nbsp;7<br></td><td><a class=\"ProveItLink\" href=\"__pv_it/basic_expressions/16b6258acf444bb8e22179347652aad12da41cfc0/expr.ipynb\"><img src=\"data:image/png;base64,iVBORw0KGgoAAAANSUhEUgAAAHoAAAAsCAMAAACdUFw8AAAANlBMVEX///8AAAAAAAAAAAAAAAAA\n",
       "AAAAAAAAAAAAAAAAAAAAAAAAAAAAAAAAAAAAAAAAAAAAAAAAAABHL6OuAAAAEXRSTlMAMrsiq4l2\n",
       "RO8QZpndVM3z6UwP0jwAAAAJcEhZcwAADsQAAA7EAZUrDhsAAAE9SURBVFjD7ZfpboUgEIVZhgFk\n",
       "aef9X7ZgUit4F8VSb284f4ya8IVx5hxkrJe4t+wKWXCRrkEn4UAP9EAP9FugFclrwACGIkxs6J8K\n",
       "/7RxigEJritLgkKJy60vXvqeZG1SUcWPG5SwIDrW1+RRdP7ePlF0syhHM08tDz4+fSEivbyjc6rQ\n",
       "JlfUrpavdq2j7lVvyg020b3G4rFbvS2F7L+RBXkTHTsOtki7Dt6xZYB1x7nm4lty/mtAxSUgv52D\n",
       "fDj6K0pfd0II+N5oiwiWKxUOoKtobLb8FCiA67h5iq6jsVGTzK5rWXXyfITeRGOrHeVV4roKc7oZ\n",
       "M19gVzSekMFDbbaJxhMznP8xrN2L3kZjY38LzcBkb2f70XU0Ns4vcesSWof9Bd9EY+OuHWIK0ikc\n",
       "+NaPo/GX3axM5deIjy/YCA71sT8hwwAAAABJRU5ErkJggg==\n",
       "\" style=\"display:inline;vertical-align:middle;\" /></a></td></tr>\n",
       "<tr><td>4</td><td>Variable</td><td></td><td><a class=\"ProveItLink\" href=\"../packages/proveit/__pv_it/common/ae955345c83abf786c3aff8681cd5465beae262d0/expr.ipynb\"><img src=\"data:image/png;base64,iVBORw0KGgoAAAANSUhEUgAAAAcAAAAOBAMAAAARcxsoAAAALVBMVEX///8AAAAAAAAAAAAAAAAA\n",
       "AAAAAAAAAAAAAAAAAAAAAAAAAAAAAAAAAAAAAADAOrOgAAAADnRSTlMAdpndiRBmRO8yVM2rIuws\n",
       "s0IAAAAJcEhZcwAADsQAAA7EAZUrDhsAAAA6SURBVAjXY2BgEGIAAhMGdMAqlMDAwMLewMAwi2kD\n",
       "A0MAhwBQcF0AkNjDCpR9zsLAwPngGpB7LIEBALAvCJF4nqyTAAAAAElFTkSuQmCC\n",
       "\" style=\"display:inline;vertical-align:middle;\" /></a></td></tr>\n",
       "<tr><td>5</td><td>Variable</td><td></td><td><a class=\"ProveItLink\" href=\"../packages/proveit/__pv_it/common/1ed21df18baca2f42b561a7ffbf30a2743d594650/expr.ipynb\"><img src=\"data:image/png;base64,iVBORw0KGgoAAAANSUhEUgAAAAoAAAASBAMAAACQmVJ4AAAAMFBMVEX///8AAAAAAAAAAAAAAAAA\n",
       "AAAAAAAAAAAAAAAAAAAAAAAAAAAAAAAAAAAAAAAAAAAv3aB7AAAAD3RSTlMAMrsQds2rme9mIlTd\n",
       "iUQmv6lAAAAACXBIWXMAAA7EAAAOxAGVKw4bAAAATElEQVQI12NgYGBgVAYSDCwBDNiAiRuILOCY\n",
       "AFSxgH8DAwMzw34DkFANWPosiOD6ByI5P4BINgUQyeEAZG2YD1Qov+E0kM/u/oCBAQDY7wxV/Qz6\n",
       "SAAAAABJRU5ErkJggg==\n",
       "\" style=\"display:inline;vertical-align:middle;\" /></a></td></tr>\n",
       "<tr><td>6</td><td>ExprTuple</td><td>15</td><td><a class=\"ProveItLink\" href=\"__pv_it/basic_expressions/4b0dd6be36d76552eda6a95d5b4a27f5a5b62f900/expr.ipynb\"><img src=\"data:image/png;base64,iVBORw0KGgoAAAANSUhEUgAAACUAAAAVBAMAAAAzyjqdAAAAMFBMVEX///8AAAAAAAAAAAAAAAAA\n",
       "AAAAAAAAAAAAAAAAAAAAAAAAAAAAAAAAAAAAAAAAAAAv3aB7AAAAD3RSTlMAInZUiRDNmWbv3US7\n",
       "qzJazP2FAAAACXBIWXMAAA7EAAAOxAGVKw4bAAAAyUlEQVQY013QrwvCQBTA8e885344ZFkQtn9A\n",
       "DGL2H1D8AwQtgtFgMK4ZXRQsA4NVbLZpNoiI2Wyy2D0N2+4evHe8D7zH3QE+xfh3pZZih19pK0Qp\n",
       "AnOsGhOwIs2W4GiEM6CjWyVinnfGPQygfGWa29H3PmCP2WZkrrESEDGbzKw3bhdq74I5KaM9VOPC\n",
       "7ChgJQ+RcM6txUP42Cm9zLxA7Cy5tstLbr3IOGHe+o0muHvcp/aOurziTLOFzJNKRirLUDXv9/lG\n",
       "oFgIXx7XJBUkcPjNAAAAAElFTkSuQmCC\n",
       "\" style=\"display:inline;vertical-align:middle;\" /></a></td></tr>\n",
       "<tr><td>7</td><td>Operation</td><td>operator:&nbsp;8<br>operands:&nbsp;9<br></td><td><a class=\"ProveItLink\" href=\"__pv_it/basic_expressions/5a815aea9051dc5a2d60de726b1a0ece17350fe10/expr.ipynb\"><img src=\"data:image/png;base64,iVBORw0KGgoAAAANSUhEUgAAAD8AAAAsBAMAAAAgM33ZAAAAMFBMVEX///8AAAAAAAAAAAAAAAAA\n",
       "AAAAAAAAAAAAAAAAAAAAAAAAAAAAAAAAAAAAAAAAAAAv3aB7AAAAD3RSTlMAMt0Qq5nNdoki72ZU\n",
       "RLsDrqvKAAAACXBIWXMAAA7EAAAOxAGVKw4bAAAAxElEQVQ4y2NgQAVCBgz4ALNrPn4FDAz1owqo\n",
       "pKB/An55l/UpGxhGATbwHz/4MAKDhJdQWuEpIE+BeYlhxwGsCqa0TwdRAezurArYFPCuZHgPzATc\n",
       "E7g/s2zApsBqA0MQkGJkYE0AcVmVlLQWKSk5IBTEMzBogBlcBdgduY6B+S+YcX8CswEWBczfGbhB\n",
       "qcHughcDBzYTmP8wsCScZGA4LxzFcAerFc8ZDgUEMDCYlvNEH8CqwKRC0l0Aa0jKvQOCCcRGFgC1\n",
       "N1NDkvsRFgAAAABJRU5ErkJggg==\n",
       "\" style=\"display:inline;vertical-align:middle;\" /></a></td></tr>\n",
       "<tr><td>8</td><td>Literal</td><td></td><td><a class=\"ProveItLink\" href=\"../packages/proveit/numbers/division/__pv_it/common/a2a633e1e3c749fb1f2692466b287b6348c5de840/expr.ipynb\"><img src=\"data:image/png;base64,iVBORw0KGgoAAAANSUhEUgAAAA4AAAAMBAMAAACgrpHpAAAAJFBMVEX///8AAAAAAAAAAAAAAAAA\n",
       "AAAAAAAAAAAAAAAAAAAAAAAAAADHJj5lAAAAC3RSTlMAu80QIkRmdpndq8GgXCoAAAAJcEhZcwAA\n",
       "DsQAAA7EAZUrDhsAAAAkSURBVAjXY2BgYBAyYAABlt0BYJohnQEL6JwJArMY8ABs5gAAeHQHkckd\n",
       "QZIAAAAASUVORK5CYII=\n",
       "\" style=\"display:inline;vertical-align:middle;\" /></a></td></tr>\n",
       "<tr><td>9</td><td>ExprTuple</td><td>10, 11</td><td><a class=\"ProveItLink\" href=\"__pv_it/basic_expressions/2ffdac9b4bbe2dd9dc15497ebf760a0f55a89d7b0/expr.ipynb\"><img src=\"data:image/png;base64,iVBORw0KGgoAAAANSUhEUgAAAF4AAAAVBAMAAAA9Y0TyAAAAMFBMVEX///8AAAAAAAAAAAAAAAAA\n",
       "AAAAAAAAAAAAAAAAAAAAAAAAAAAAAAAAAAAAAAAAAAAv3aB7AAAAD3RSTlMAInZUiRDNmWbv3US7\n",
       "qzJazP2FAAAACXBIWXMAAA7EAAAOxAGVKw4bAAABPUlEQVQoz2NgYBBgIBYwgggmA6LVcysACRMg\n",
       "fhVAnAYNBgbWBAbW6/lEqmcLYGBvANL6mOq5G7Co5yhg4GTArp5ZAZsFUxnMSFKfwVCCrJ5V6eoT\n",
       "Z+zqZZ2EgKQvUAeSenYGXYUqrOq5JzKcBypqY1iMrL6RoT/gBlb1kQ0MIIMsGWYjq3/AUAaxZ9Wq\n",
       "lbNWrbqAUF/PwLAESL1HVc/AMAmHf+cwsP4GUjtR3cPA/ZEhFJt61k8MHB+AtBXDIZh6IGI9zTuB\n",
       "wQGr+s8MvAmGDAw9wBACAn8BBtZvQDX/widwG2B1zyEGq4ICBmDovwJy7s7PbWBYFcDAWqRg3ozm\n",
       "/jdngECAIVbl4aUHDAyrGbgewBQEEI5fxgWgJAQBLESkN1DiPAhlBxGRnmWAOAbKViBCPchsRgWi\n",
       "8yOTAAMA/9pHvufPMbwAAAAASUVORK5CYII=\n",
       "\" style=\"display:inline;vertical-align:middle;\" /></a></td></tr>\n",
       "<tr><td>10</td><td>Literal</td><td></td><td><a class=\"ProveItLink\" href=\"../packages/proveit/numbers/numerals/__pv_it/common/682157d4892d216d9e5626ed533aff9b56b9506e0/expr.ipynb\"><img src=\"data:image/png;base64,iVBORw0KGgoAAAANSUhEUgAAAAgAAAAOBAMAAADgeEClAAAAJ1BMVEX///8AAAAAAAAAAAAAAAAA\n",
       "AAAAAAAAAAAAAAAAAAAAAAAAAAAAAAAilU6eAAAADHRSTlMAMt0Qq5nNdoki72YJhDyyAAAACXBI\n",
       "WXMAAA7EAAAOxAGVKw4bAAAAH0lEQVQI12NgYFRmYDAJO8zAwMBOMsFxkoGBxeuYNwB0KguGAVQB\n",
       "OAAAAABJRU5ErkJggg==\n",
       "\" style=\"display:inline;vertical-align:middle;\" /></a></td></tr>\n",
       "<tr><td>11</td><td>Operation</td><td>operator:&nbsp;12<br>operands:&nbsp;13<br></td><td><a class=\"ProveItLink\" href=\"__pv_it/basic_expressions/d7f8c2a59b0e58b50006b461293e3e5eb6acd4290/expr.ipynb\"><img src=\"data:image/png;base64,iVBORw0KGgoAAAANSUhEUgAAAD4AAAAOBAMAAACFlbLaAAAAMFBMVEX///8AAAAAAAAAAAAAAAAA\n",
       "AAAAAAAAAAAAAAAAAAAAAAAAAAAAAAAAAAAAAAAAAAAv3aB7AAAAD3RSTlMAEHarMolUmd1mIs3v\n",
       "RLtmgJDEAAAACXBIWXMAAA7EAAAOxAGVKw4bAAAAnUlEQVQY02NgQADeCQx4AZsCOfJCyiKhCVjl\n",
       "FwctApIFTEbsDdjkeU8xvBdg4FzA+ZF5AjZ5mQkMFQwMLAzsG0A89o6OnhMdHQYI+XoGhlYQzaOA\n",
       "3X3nGBj/guj7CxgFsMgzfmLg/MDAIHfBhoEVm37GbwzMG7IY8h1rGK5hNf8RQ0ZBAYO4EltlAqq8\n",
       "3zsgWMAgrOpl5EBK+GKLHwCeSCTMRTGY4wAAAABJRU5ErkJggg==\n",
       "\" style=\"display:inline;vertical-align:middle;\" /></a></td></tr>\n",
       "<tr><td>12</td><td>Literal</td><td></td><td><a class=\"ProveItLink\" href=\"../packages/proveit/numbers/addition/__pv_it/common/4b7effaab3619a1c2c38fe2dee8601df8ec714590/expr.ipynb\"><img src=\"data:image/png;base64,iVBORw0KGgoAAAANSUhEUgAAAA4AAAAOBAMAAADtZjDiAAAAHlBMVEX///8AAAAAAAAAAAAAAAAA\n",
       "AAAAAAAAAAAAAAAAAACGjDitAAAACXRSTlMARGZUdpnd76sKo+zpAAAACXBIWXMAAA7EAAAOxAGV\n",
       "Kw4bAAAAH0lEQVQI12NgYGAQYoAAE2LosLS08rS0DKLVI9EgewAshQUueejZFAAAAABJRU5ErkJg\n",
       "gg==\n",
       "\" style=\"display:inline;vertical-align:middle;\" /></a></td></tr>\n",
       "<tr><td>13</td><td>ExprTuple</td><td>14, 15</td><td><a class=\"ProveItLink\" href=\"__pv_it/basic_expressions/43c66062ae1073a77f0149e735d4c79a547025940/expr.ipynb\"><img src=\"data:image/png;base64,iVBORw0KGgoAAAANSUhEUgAAADoAAAAVBAMAAADlb+D4AAAAMFBMVEX///8AAAAAAAAAAAAAAAAA\n",
       "AAAAAAAAAAAAAAAAAAAAAAAAAAAAAAAAAAAAAAAAAAAv3aB7AAAAD3RSTlMAInZUiRDNmWbv3US7\n",
       "qzJazP2FAAAACXBIWXMAAA7EAAAOxAGVKw4bAAABEElEQVQoz2NgYBBgwA4YQQSTAQ5ZbgUgYcKA\n",
       "C2gwMLAm4JRlC2Bgb8Apy1HAwMmAG0xlMMMjm8FQAiSDdONcUF0u6yQEJH2B8gwMBUyX2BegeGYi\n",
       "w/kABoY2hsVA2wU4vvKiOC6ygaEKSFkyzGZg4GNgR/NWPQPDEiD1HiTLwMCpgCo7h4H1N5DaCTKZ\n",
       "gWG/AGsAkiTrJwaOD0DaiuEQA0PMhpsMLAwMCHnWzwy8CYYMDD1AVzPYP61k2MzA+g2h+RCDVUEB\n",
       "A9C3rxgYwpWYK4DeXQXU/OYMEAgwxKo8vPSAgWE1A9cDmAbmAPQIXgAKaihgQQ9IUAQdhHGC0GVl\n",
       "gDgGxlFAlwXpY1TAEUNMAgwAY200TO12SAoAAAAASUVORK5CYII=\n",
       "\" style=\"display:inline;vertical-align:middle;\" /></a></td></tr>\n",
       "<tr><td>14</td><td>Variable</td><td></td><td><a class=\"ProveItLink\" href=\"__pv_it/basic_expressions/a0d9d672aa5e272d907247690c152cc2c6daafb70/expr.ipynb\"><img src=\"data:image/png;base64,iVBORw0KGgoAAAANSUhEUgAAAAsAAAAJBAMAAAAWSsseAAAAMFBMVEX///8AAAAAAAAAAAAAAAAA\n",
       "AAAAAAAAAAAAAAAAAAAAAAAAAAAAAAAAAAAAAAAAAAAv3aB7AAAAD3RSTlMAEHarMolUmd1mIs3v\n",
       "RLtmgJDEAAAACXBIWXMAAA7EAAAOxAGVKw4bAAAAQklEQVQI12NgEFIWCU1gYChgMmJvYOBcwPmR\n",
       "eQIDCwP7BgYQ4FEAU/cXMAowyF2wYWBlYMh3rGG4xsAgrsRWmcAAAFEjCyBvD0T9AAAAAElFTkSu\n",
       "QmCC\n",
       "\" style=\"display:inline;vertical-align:middle;\" /></a></td></tr>\n",
       "<tr><td>15</td><td>Variable</td><td></td><td><a class=\"ProveItLink\" href=\"__pv_it/basic_expressions/006c465e50948aa2b52285e2de47974f741255cc0/expr.ipynb\"><img src=\"data:image/png;base64,iVBORw0KGgoAAAANSUhEUgAAABgAAAAJBAMAAADa0/H1AAAAMFBMVEX///8AAAAAAAAAAAAAAAAA\n",
       "AAAAAAAAAAAAAAAAAAAAAAAAAAAAAAAAAAAAAAAAAAAv3aB7AAAAD3RSTlMAMrsiq4l2RO8QZpnd\n",
       "VM2humBGAAAACXBIWXMAAA7EAAAOxAGVKw4bAAAASUlEQVQI12NggAKTMDMYk4G9mUF/AowzYwHD\n",
       "HrjMfgaGo3BOEwPndxib8xsD1wc45y8Dy4PLMJ4aw50NGxiElIDAgGFKqrCbAAD2sxBIUZwn3gAA\n",
       "AABJRU5ErkJggg==\n",
       "\" style=\"display:inline;vertical-align:middle;\" /></a></td></tr>\n",
       "</table>\n"
      ],
      "text/plain": [
       "0. (1 / (x + i)) +  (1 / (x + (i + 1))) +  ... +  (1 / (x + j))\n",
       "   core type: Operation\n",
       "   operator: 12\n",
       "   operands: 1\n",
       "1. ((1 / (x + i)), (1 / (x + (i + 1))), ..., (1 / (x + j)))\n",
       "   core type: ExprTuple\n",
       "   sub-expressions: 2\n",
       "2. (1 / (x + i)), (1 / (x + (i + 1))), ..., (1 / (x + j))\n",
       "   core type: ExprRange\n",
       "   lambda_map: 3\n",
       "   start_index: 4\n",
       "   end_index: 5\n",
       "3. _a -> (1 / (x + _a))\n",
       "   core type: Lambda\n",
       "   parameter: 15\n",
       "   body: 7\n",
       "4. i\n",
       "   core type: Variable\n",
       "   sub-expressions: \n",
       "5. j\n",
       "   core type: Variable\n",
       "   sub-expressions: \n",
       "6. (_a)\n",
       "   core type: ExprTuple\n",
       "   sub-expressions: 15\n",
       "7. 1 / (x + _a)\n",
       "   core type: Operation\n",
       "   operator: 8\n",
       "   operands: 9\n",
       "8. /\n",
       "   core type: Literal\n",
       "   sub-expressions: \n",
       "9. (1, x + _a)\n",
       "   core type: ExprTuple\n",
       "   sub-expressions: 10, 11\n",
       "10. 1\n",
       "    core type: Literal\n",
       "    sub-expressions: \n",
       "11. x + _a\n",
       "    core type: Operation\n",
       "    operator: 12\n",
       "    operands: 13\n",
       "12. +\n",
       "    core type: Literal\n",
       "    sub-expressions: \n",
       "13. (x, _a)\n",
       "    core type: ExprTuple\n",
       "    sub-expressions: 14, 15\n",
       "14. x\n",
       "    core type: Variable\n",
       "    sub-expressions: \n",
       "15. _a\n",
       "    core type: Variable\n",
       "    sub-expressions: "
      ]
     },
     "metadata": {},
     "output_type": "display_data"
    }
   ],
   "source": [
    "add_it.expr_info()"
   ]
  },
  {
   "cell_type": "markdown",
   "metadata": {},
   "source": [
    "IndexedVar\n",
    "=========\n",
    "\n",
    "To truly understand what can be done with `Iter` expressions, we must see how they can be used with `IndexedVar` expressions.  On its own, an `IndexedVar` if fairly straightforward.  An `IndexedVar` is effectively an `Operation` where the *operator* is the variable being indexed and the *operand* is the *index*, but it does have some special properties related to <a href=\"#IterParams\">iterated parameters</a> which justifies makin `IndexedVar` a core expression type."
   ]
  },
  {
   "cell_type": "code",
   "execution_count": 121,
   "metadata": {},
   "outputs": [
    {
     "data": {
      "text/html": [
       "<strong id=\"a_i\">a_i:</strong> <a class=\"ProveItLink\" href=\"__pv_it/basic_expressions/c1fad46b1cc25ea9a3a84c0aa346db8e42543d970/expr.ipynb\"><img src=\"data:image/png;base64,iVBORw0KGgoAAAANSUhEUgAAABEAAAAMBAMAAAB2C0uMAAAAMFBMVEX///8AAAAAAAAAAAAAAAAA\n",
       "AAAAAAAAAAAAAAAAAAAAAAAAAAAAAAAAAAAAAAAAAAAv3aB7AAAAD3RSTlMAIquJdkTvuxBmmd1U\n",
       "zTKBpmoTAAAACXBIWXMAAA7EAAAOxAGVKw4bAAAAYElEQVQI12NgYFR2dGAAgzAB9h8MDI0MDByZ\n",
       "DFwbGBhMGBi4PjBwG4Al2QoY+gPArH4HhvkMDCEKQNYBBl0eCQegJnYHnl1cjD1ATRwqdkJ+QD4D\n",
       "FPT3wVhnuWCsJkcGADJBEUvsfGs+AAAAAElFTkSuQmCC\n",
       "\" style=\"display:inline;vertical-align:middle;\" /></a><br>"
      ],
      "text/plain": [
       "<IPython.core.display.HTML object>"
      ]
     },
     "metadata": {},
     "output_type": "display_data"
    }
   ],
   "source": [
    "from proveit import IndexedVar\n",
    "a_i = IndexedVar(a, i)"
   ]
  },
  {
   "cell_type": "code",
   "execution_count": 122,
   "metadata": {},
   "outputs": [
    {
     "data": {
      "text/html": [
       "<table><tr><th>&nbsp;</th><th>core type</th><th>sub-expressions</th><th>expression</th></tr>\n",
       "<tr><td>0</td><td>IndexedVar</td><td>variable:&nbsp;1<br>index:&nbsp;3<br></td><td><a class=\"ProveItLink\" href=\"__pv_it/basic_expressions/c1fad46b1cc25ea9a3a84c0aa346db8e42543d970/expr.ipynb\"><img src=\"data:image/png;base64,iVBORw0KGgoAAAANSUhEUgAAABEAAAAMBAMAAAB2C0uMAAAAMFBMVEX///8AAAAAAAAAAAAAAAAA\n",
       "AAAAAAAAAAAAAAAAAAAAAAAAAAAAAAAAAAAAAAAAAAAv3aB7AAAAD3RSTlMAIquJdkTvuxBmmd1U\n",
       "zTKBpmoTAAAACXBIWXMAAA7EAAAOxAGVKw4bAAAAYElEQVQI12NgYFR2dGAAgzAB9h8MDI0MDByZ\n",
       "DFwbGBhMGBi4PjBwG4Al2QoY+gPArH4HhvkMDCEKQNYBBl0eCQegJnYHnl1cjD1ATRwqdkJ+QD4D\n",
       "FPT3wVhnuWCsJkcGADJBEUvsfGs+AAAAAElFTkSuQmCC\n",
       "\" style=\"display:inline;vertical-align:middle;\" /></a></td></tr>\n",
       "<tr><td>1</td><td>Variable</td><td></td><td><a class=\"ProveItLink\" href=\"../packages/proveit/__pv_it/common/c06c606ec12678c58933ac85412ecadc2ae28be60/expr.ipynb\"><img src=\"data:image/png;base64,iVBORw0KGgoAAAANSUhEUgAAAAsAAAAJBAMAAAAWSsseAAAAMFBMVEX///8AAAAAAAAAAAAAAAAA\n",
       "AAAAAAAAAAAAAAAAAAAAAAAAAAAAAAAAAAAAAAAAAAAv3aB7AAAAD3RSTlMAIquJdkTvuxBmmd1U\n",
       "zTKBpmoTAAAACXBIWXMAAA7EAAAOxAGVKw4bAAAARUlEQVQI12NgYFR2dGBgYAgTYP/BwMCRycC1\n",
       "gYGB6wMDtwEDA1sBQ38AA0O/A8N8oIr+Awy6PAIM7A48u7iAKlXshPwYAE2lCqdX0eXEAAAAAElF\n",
       "TkSuQmCC\n",
       "\" style=\"display:inline;vertical-align:middle;\" /></a></td></tr>\n",
       "<tr><td>2</td><td>ExprTuple</td><td>3</td><td><a class=\"ProveItLink\" href=\"__pv_it/basic_expressions/0fc33550aa9740010879fdf30c320b63ba918eff0/expr.ipynb\"><img src=\"data:image/png;base64,iVBORw0KGgoAAAANSUhEUgAAABMAAAAVBAMAAABWJ8jiAAAAMFBMVEX///8AAAAAAAAAAAAAAAAA\n",
       "AAAAAAAAAAAAAAAAAAAAAAAAAAAAAAAAAAAAAAAAAAAv3aB7AAAAD3RSTlMAInZUiRDNmWbv3US7\n",
       "qzJazP2FAAAACXBIWXMAAA7EAAAOxAGVKw4bAAAArElEQVQI1y2PoQrCUBSGv83NuSliFNNMqwax\n",
       "6gsIewDDimARDAbjmnXdIugDiE8wfQKjUbCZ7Bb/e7cL5+cL3/0PB+hBHe7I5NXEWJPg5uBnwjMs\n",
       "Icixbw9hRYQpkxqbOVvpiSTvwUrZLqCVcYJ3oJZGwQHSMIbu1yDTFCRJYO1LOHJXw8/Tt5K50fra\n",
       "OuMj4ane6EL0qrYN5Gwq3GlulpxSsbDYMRc5scEh/AEH8RxSIDPuhwAAAABJRU5ErkJggg==\n",
       "\" style=\"display:inline;vertical-align:middle;\" /></a></td></tr>\n",
       "<tr><td>3</td><td>Variable</td><td></td><td><a class=\"ProveItLink\" href=\"../packages/proveit/__pv_it/common/ae955345c83abf786c3aff8681cd5465beae262d0/expr.ipynb\"><img src=\"data:image/png;base64,iVBORw0KGgoAAAANSUhEUgAAAAcAAAAOBAMAAAARcxsoAAAALVBMVEX///8AAAAAAAAAAAAAAAAA\n",
       "AAAAAAAAAAAAAAAAAAAAAAAAAAAAAAAAAAAAAADAOrOgAAAADnRSTlMAdpndiRBmRO8yVM2rIuws\n",
       "s0IAAAAJcEhZcwAADsQAAA7EAZUrDhsAAAA6SURBVAjXY2BgEGIAAhMGdMAqlMDAwMLewMAwi2kD\n",
       "A0MAhwBQcF0AkNjDCpR9zsLAwPngGpB7LIEBALAvCJF4nqyTAAAAAElFTkSuQmCC\n",
       "\" style=\"display:inline;vertical-align:middle;\" /></a></td></tr>\n",
       "</table>\n"
      ],
      "text/plain": [
       "0. a_{i}\n",
       "   core type: IndexedVar\n",
       "variable: 1\n",
       "index: 3\n",
       "1. a\n",
       "   core type: Variable\n",
       "   sub-expressions: \n",
       "2. (i)\n",
       "   core type: ExprTuple\n",
       "   sub-expressions: 3\n",
       "3. i\n",
       "   core type: Variable\n",
       "   sub-expressions: "
      ]
     },
     "metadata": {},
     "output_type": "display_data"
    }
   ],
   "source": [
    "a_i.expr_info()"
   ]
  },
  {
   "cell_type": "markdown",
   "metadata": {},
   "source": [
    "This \"operator\" must be a `Variable` or `IndexedVar`:"
   ]
  },
  {
   "cell_type": "code",
   "execution_count": 123,
   "metadata": {},
   "outputs": [
    {
     "name": "stdout",
     "output_type": "stream",
     "text": [
      "EXPECTED ERROR:  'var' being indexed should be a Variable or IndexedVar itself; got f(x)\n"
     ]
    }
   ],
   "source": [
    "try:\n",
    "    IndexedVar(fx, i)\n",
    "    assert False, (\"Expecting a TypeError error; \"\n",
    "                   \"should not make it to this point\")\n",
    "except TypeError as e:\n",
    "    print(\"EXPECTED ERROR: \", e)"
   ]
  },
  {
   "cell_type": "markdown",
   "metadata": {},
   "source": [
    "And `IndexedVar` may have multiple indices:"
   ]
  },
  {
   "cell_type": "code",
   "execution_count": 124,
   "metadata": {},
   "outputs": [
    {
     "data": {
      "text/html": [
       "<strong id=\"a_ij\">a_ij:</strong> <a class=\"ProveItLink\" href=\"__pv_it/basic_expressions/5f24f4a47f94fefe2b8380b215257ec46a146e410/expr.ipynb\"><img src=\"data:image/png;base64,iVBORw0KGgoAAAANSUhEUgAAAB0AAAAPBAMAAADqo9msAAAAMFBMVEX///8AAAAAAAAAAAAAAAAA\n",
       "AAAAAAAAAAAAAAAAAAAAAAAAAAAAAAAAAAAAAAAAAAAv3aB7AAAAD3RSTlMAIquJdkTvuxBmmd1U\n",
       "zTKBpmoTAAAACXBIWXMAAA7EAAAOxAGVKw4bAAAAmElEQVQI12NgYFR2dGBAAmEC7D8YGBrBbD4G\n",
       "Bo5MBq4NDAwmYD73AwauDwzcBkjK2QoY+gOQ+P0ODPMZGEIUQOyWNUD+AQZdHgmHHyD+grMMDOwO\n",
       "PLu4GHuARjJwNFgBCRU7IT+gKFjzTbgpfWDqI4x/louhGeicBBi/yZHh2QEGFgVkhx9g4J2AxGVt\n",
       "uPoMWZqTYckKBgYARTYfGjzV7PUAAAAASUVORK5CYII=\n",
       "\" style=\"display:inline;vertical-align:middle;\" /></a><br>"
      ],
      "text/plain": [
       "<IPython.core.display.HTML object>"
      ]
     },
     "metadata": {},
     "output_type": "display_data"
    }
   ],
   "source": [
    "a_ij = IndexedVar(a, (i, j))"
   ]
  },
  {
   "cell_type": "markdown",
   "metadata": {},
   "source": [
    "The real purpose of the `IndexedVar` expression type is to be used within an iteration.  So there is a convenient method called `var_range` for generating a range of indexed variables."
   ]
  },
  {
   "cell_type": "code",
   "execution_count": 125,
   "metadata": {},
   "outputs": [
    {
     "data": {
      "text/html": [
       "<strong id=\"a_i_to_j\">a_i_to_j:</strong> <a class=\"ProveItLink\" href=\"__pv_it/basic_expressions/30a0a26b5bf024e53f59b1b53df145eac0b723cf0/expr.ipynb\"><img src=\"data:image/png;base64,iVBORw0KGgoAAAANSUhEUgAAAIIAAAAPBAMAAADaAwrIAAAAMFBMVEX///8AAAAAAAAAAAAAAAAA\n",
       "AAAAAAAAAAAAAAAAAAAAAAAAAAAAAAAAAAAAAAAAAAAv3aB7AAAAD3RSTlMAIquJdkTvuxBmmd1U\n",
       "zTKBpmoTAAAACXBIWXMAAA7EAAAOxAGVKw4bAAABZ0lEQVQoz6VTv0vDQBh9tdael5SG6tBRMKvg\n",
       "kFnSulUQB3EUnYpbBiE4GUsRBzH9B8TsDha6SAWpmxCErE5WEOcOCh0UvPy8kxAJ+EGOd4+8l+97\n",
       "uQMKyw0dSdW0ReQrrttRylPgJNyU9nFsgSg5HEIdxiAHoH1AC+nTHq6BYtwUucw0iHS4B51AWk34\n",
       "G2AQQYc9bxuZDlw3Z8DeSvg2yGcEDX9xMx24ztZxBWwvha19YH6CUjOHQ6gjrRHsEVbkus5CsRjx\n",
       "hRnvoVu1RAcrnYHv4OsUKnso6/KQFs77IN+MP4TrOHVX7CHgbU8AwRLocFZ0QNS12ibbA3fsY531\n",
       "V3XMfKhpts2jsAefl/xch4iAdItIh0ovnuoCkON2yXQsTiGnx3hMUDU+Ok+UnYKYlT1HdCimY+S/\n",
       "/z0GnQbQTYJSlchh4UUTeJ4kvwZNkdd/v2Zk8KxmOXz+49w7Oe5GZXcP/yvasvADvyhcqgrCmpEA\n",
       "AAAASUVORK5CYII=\n",
       "\" style=\"display:inline;vertical-align:middle;\" /></a><br>"
      ],
      "text/plain": [
       "<IPython.core.display.HTML object>"
      ]
     },
     "metadata": {},
     "output_type": "display_data"
    }
   ],
   "source": [
    "from proveit import var_range\n",
    "a_i_to_j = var_range(a, i, j)"
   ]
  },
  {
   "cell_type": "markdown",
   "metadata": {},
   "source": [
    "### <a name=\"IterParams\"></a>Iterated parameters\n",
    "\n",
    "When a `Lambda` expression has iterated parameters, a parameter entry that is an `var_range` over `IndexedVar`s, the `apply` method offers some interesting versatility.  Consider the following example representing a map which distributes a product over a sum of an unspecified number of terms."
   ]
  },
  {
   "cell_type": "code",
   "execution_count": 126,
   "metadata": {},
   "outputs": [
    {
     "data": {
      "text/html": [
       "<strong id=\"distribution_map\">distribution_map:</strong> <a class=\"ProveItLink\" href=\"__pv_it/basic_expressions/a67323e7f4e98a427c3a38365490183febf55f820/expr.ipynb\"><img src=\"data:image/png;base64,iVBORw0KGgoAAAANSUhEUgAAAfsAAAAWCAMAAADw+MUIAAAANlBMVEX///8AAAAAAAAAAAAAAAAA\n",
       "AAAAAAAAAAAAAAAAAAAAAAAAAAAAAAAAAAAAAAAAAAAAAAAAAABHL6OuAAAAEXRSTlMAInZUiRDN\n",
       "mWbv3US7qzLz6SJmQj4AAAAJcEhZcwAADsQAAA7EAZUrDhsAAAQjSURBVGje7VrbopwgDAQUEUVb\n",
       "//9ny4qgQIJB9rQ+1Idmj2AmM5FwsYzZi7OXXvxJZ/4DCPzvUvkxv5lGontr7mdB7+tZ1LGhIXxB\n",
       "oRoqrJ51ZRTedv3bUi6Nng5qI/UZz4LGpg6hQaEnVCouYmR5FM7K4YUDflD+hyRqPMT2mwhtClVT\n",
       "qXmzhsdR7FaNL8z95kvZqGgPeBZkNjjCPCK+v0xlrnbbEFkWxW71G+f5LYwRjYwWES9ydGIbELp0\n",
       "ZtY/Q6WrXgE8jwyIwtrujSW/n85idb7akXRdNIo8CzIbGAFUuE0hHKg99/TIgCisVX61wJdecDic\n",
       "QlPD5qTgdFiEWFyV6pdwd4r6RH95FoHNXcwwAqgwRSH2AKg99/TIgCis9a/BrG0RNa40yLieFpoa\n",
       "auHFKWNrvITZ7EpEbjvUOCC578yV25gMrZuYEQRQYYJChdUYDtSeeyiyVEs0Cmsn9zZI/fGjnLx9\n",
       "hFFo2pvHJzUxcmrTGgXc7TT0DtVpJPdMmHMSOFgEexMzhgAqfK9QQYYCUHvuochSLdEorNWzKx/b\n",
       "/hi0XYSb/HS7CjE9yH0BzzbuMm5747qF279+T9G1bXNYwMyxhd3b17+IoHa3Wu9mSXxXyHDiwEAw\n",
       "TlGu+sju6Fp7PK/N3nkGcOGms+J2T3JfwDtozG5bMqPjfh7Op9PcI+4nVUYAR1dRIViGgFMCah/3\n",
       "d7kr0rXW1Q25fdyOmzvvW+K3B2xqy/3VKZNCdflmVLn56+I9xlmvZyVJzS/QKSIUKutDGQpA36r5\n",
       "ZS3RKKw1wj3/aV0G1nEp2LGe8WnKm0DSpGOr3Omnbh6bFe9hW/0kZjkZJPfDdbllRGSRmC9iwAig\n",
       "wrhClNzjQO25zyK7aHkbhbXHkv/jprM1QjEuHYswW+RNIOnQP/8B3DqdMilZr6LGxUZpVLprYzO+\n",
       "v79sXAoxnxeCACqMKkTJfQEowSnpR43s1PI+CmvXI3OL6Fe+iPUcPNMk4SZl7KU//4xX0r7/ZZpR\n",
       "+cwDOA2blbOxD6eV04ycVkSr2YNFsACdWOgCQqowphAiAxkoq+AK/UGPLD+qwqL42GxLIDfpbnWS\n",
       "YU3gC99Rqj7YaeNYIycuJjyLfINziRk+Y5ruTk5xhaqWPfxmXfHgTBfYzgUtb6LYbfYtw04Y7la+\n",
       "AQtNIGnS90So06rRRurXiugTBRYzvH1KEbIvJrhCVblPgb7wLQf40rVqWhTOGp4WCPedRAqgdoRP\n",
       "KJ4074fNnXRIynsMdvLL5ryRG6ounkXK5hozOA4M3TdJhhag6itjy0T5vMBHcViJBFVOpansX+rk\n",
       "pyhB4Ia+VIYV2dDVw32TZGgBqt8rG0xL4hB59JlGfSv8YcbLlKjQy7OoY0NDwH2q7wJVX3FkJS2j\n",
       "KMQ7/oumEkqy/9c/0PIPg0ors+Fm5goAAAAASUVORK5CYII=\n",
       "\" style=\"display:inline;vertical-align:middle;\" /></a><br>"
      ],
      "text/plain": [
       "<IPython.core.display.HTML object>"
      ]
     },
     "metadata": {},
     "output_type": "display_data"
    }
   ],
   "source": [
    "a_k = IndexedVar(a, k)\n",
    "distribution_map = Lambda((a_i_to_j, b),\n",
    "                          Add(ExprRange(k, Mult(a_k, b), i, j)))"
   ]
  },
  {
   "cell_type": "markdown",
   "metadata": {},
   "source": [
    "We can apply a map which splits $a_i, ..., a_j$ into multiple entries.  In so doing, the `Iter` of the result is split in the same manner.  For example, consider the following substitution into $a_i, ..., a_j$:"
   ]
  },
  {
   "cell_type": "code",
   "execution_count": 127,
   "metadata": {},
   "outputs": [
    {
     "data": {
      "text/html": [
       "<strong id=\"a_sub\">a_sub:</strong> <a class=\"ProveItLink\" href=\"__pv_it/basic_expressions/382b702ef71332787af026d0ce9384016c86f9780/expr.ipynb\"><img src=\"data:image/png;base64,iVBORw0KGgoAAAANSUhEUgAAARoAAAAVBAMAAABrvDzoAAAAMFBMVEX///8AAAAAAAAAAAAAAAAA\n",
       "AAAAAAAAAAAAAAAAAAAAAAAAAAAAAAAAAAAAAAAAAAAv3aB7AAAAD3RSTlMAInZUiRDNmWbv3US7\n",
       "qzJazP2FAAAACXBIWXMAAA7EAAAOxAGVKw4bAAADAUlEQVRIx82VTWjUQBiG3ySbZn/MGk9eCg2L\n",
       "0Hoo7MG/enHRWkRaCKVSBauLJ49BaqkVcVXUg2LXiiKIWJQiVCgLXvRQ2gqepGUpLSgoBKoIpfQH\n",
       "rAjCrjOZ7GQ26+45c5jJ+82TN998k0wAGAhHk2gnp0OSTcIk3T6EpbUBajY02TRZ0HKhySZqI4bw\n",
       "tMc4EKJsLmKQ9L3t5zqFLysga5uaWv5+rDrSmsOA4DAMtdjIIQisTknkjekh+QC2vKiN+1MBWds0\n",
       "tJsjVZGIkseoLzMdiG42cggA6oXuHjLcwSvy9hjRbT2H097XxaTa+c2q53UDo9bnqsgKSf8rd0im\n",
       "R6DP9vUs1zNggHDwWThOhg48I3PQiE0y5dWDSQ316+NgKBCxYibGuIOKMcRMGyN1t9oFxEgfXfoG\n",
       "zQZsRuFPp3JnQSrVr/RYMDBjJUu+Q2IbG85ftDh1z10KiH8FN7X3dKeIl6FaQjZURq0G2SS2cAp3\n",
       "H6SKbQteZAhy3ncgxd2L2w2ycQFiYHv6HSkXcBgfgLOFL4iw2tCYJxEZd2VwTwj0Sc8jo957iudo\n",
       "Z/dgHjuKLBtacnI9T4aTTAV3yQOowUNGKGnoZLhPvioc+XEFb1k257NcYtVypfobXldRSqk/n0hL\n",
       "vVmU6AFBw7iGmRxbDyW1YuIPeQEn/nMzwylADbZZbK17zxQZBrEK9KeU4TTLJj7BpfSRSbyG18Vp\n",
       "XSctqJfMg7cA3Uzm6Ua70MDR6warzSSt3lLrFtBsMeXf7F5Q3AV0M5FnREZ5UiDRN4jzvXW99vOK\n",
       "7sYuUXKK1z7myLPSplOBujwHBkSykGzJEHDeGE6AmKPZjkBI4/RXJWaT4VML65cF6Z9z/KqFLC46\n",
       "a7tQJKs+8hwibmZn0mhe/2kJuH/yVYAWxFccgaA/8LnK47t+mVD5IRArlzcF6Z/p/GoaTYa0aLlQ\n",
       "3NQzzMEFXmIJeFEuizh/i80KMA35hEg0009IROXqO+XaldXmRyHl5lURONRaaIgLgEDM8YMnBE02\n",
       "8A+9tdUgZiEK9gAAAABJRU5ErkJggg==\n",
       "\" style=\"display:inline;vertical-align:middle;\" /></a><br>"
      ],
      "text/plain": [
       "<IPython.core.display.HTML object>"
      ]
     },
     "metadata": {},
     "output_type": "display_data"
    }
   ],
   "source": [
    "from proveit import m, n\n",
    "x_1_to_m = var_range(x, one, m)\n",
    "y_1_to_n = var_range(y, one, n)\n",
    "a_sub = ExprTuple(x_1_to_m, y_1_to_n, z)"
   ]
  },
  {
   "cell_type": "markdown",
   "metadata": {},
   "source": [
    "But to allow this as a subtitution, we must prove (or assume) that the lengths of these `ExprTuple`s match (that the have the same number of elements).  We could prove this assuming $j-i+1 = m+n+1$, but for this demonstration we will simply assume what we directly require to be true."
   ]
  },
  {
   "cell_type": "code",
   "execution_count": 128,
   "metadata": {},
   "outputs": [
    {
     "data": {
      "text/html": [
       "<strong id=\"a_required_len\">a_required_len:</strong> <a class=\"ProveItLink\" href=\"__pv_it/basic_expressions/78e256f3bf7a89a4a51e3a2513beba6a44e09dfe0/expr.ipynb\"><img src=\"data:image/png;base64,iVBORw0KGgoAAAANSUhEUgAAAfIAAAAVBAMAAABPiXFtAAAAMFBMVEX///8AAAAAAAAAAAAAAAAA\n",
       "AAAAAAAAAAAAAAAAAAAAAAAAAAAAAAAAAAAAAAAAAAAv3aB7AAAAD3RSTlMAIolEdjJUEM2ZZu/d\n",
       "u6v6CvZmAAAACXBIWXMAAA7EAAAOxAGVKw4bAAAEpElEQVRYw82YTYgcRRTHX89Md+3M7M62QZCI\n",
       "4pANmkviHEIOBtxO2IgbZB0kxstKBkGiGLCRDZpA4hwCgRySQQXjGrTFD9yDbIPRiIgOCRMRc5ig\n",
       "ITeZw4IYMUwSlnhLqupVdVV/VM916rBb9fb/Pn5dr6u7F1xgw4IxGYZyMsxupv9oEEu6z/Dfz4wL\n",
       "+Xb+s9BImNNVllqZ/kVvVAahmMGYTn1cyEuBmZxXOS8sr2hzORZ9gL358e3rQiHI34GxGSfN5LzK\n",
       "i2ggbTUXg/xzhpJP+PlXti0Ugnx5fMhXzOR6leVA6185f54yVTqjMqBCkIfjQ171jeR6lVVt7nga\n",
       "OVwYmeKCInfa40M+EZjIY1W+ZiQ/NTLFKUVepkcHmfv7hce1Py8tHN7UyvNPOlDLfADHDausAEnB\n",
       "Ys8KoDAwkfMq50Vnv6fN4+Tb8nIuLUgFkrPrXIYF75ym6ZTWyt28IEkHWq8TwqphlTGSAnJiK62p\n",
       "0pbk5St8DCQ5q7JQDKN9i+Zx8q/zcnaqgVAg+STd3M9g1b8BRPpV3MrdWkA23TQeleigj/30Uv0H\n",
       "R9vaKi8AyrVXDB+eoBihac9ZlfvLIvplbR4nfyPvZHenW0KB5FWaqAln6Wzfc/K5ByxuGcz7jg76\n",
       "8KsenLfnutoqLwAXxCxv0crtoYmcVcl8+PhWzmln/P6T6AxOfiDvBoM3faFQ5IBVHFKnJ4073bDW\n",
       "zXHOJw2zvr0OTldb5Qbgcn3TGUkxzCPnlQvyaB7f8525p9s5qVDdDsVb8LZOPusSv+LnFM4dVr6c\n",
       "G+y9JixnoRQqcrbKDcAFy/uiN7Gn6J6ge+Z9zqs8TaJuj+Zx8kO55BelAsmnPCB/1EKoo5X5H2v8\n",
       "CwVWQxdIRqOCcCCf/wg/wwL6wF8wNeClk2jFAoCf0XZCcHRnUHVx6bSgRg+YvmnPaZVA7hRQ/CfO\n",
       "M8i/EQVmZQTrjlQgOX2SOOtHwmKLk5P/WSe99DHswFfhd9vCFk3YD3SwltqwTh8x3AyfwGzAyZkS\n",
       "VyxA2lkJHnoWpjEFvLx1dw+fXdnk7HlnDx9G8Tacx8mfdPF5l0ikMkJlKBSC3KYb+4H3+leiE67Q\n",
       "K3ZkzlmmF8K6TrvsV2r7jbVbR0yYQjjUPDtkrcd84PjmT11Ozl34igXgf1TOPFQkWGO3HV/WnR8o\n",
       "8GTDRG6z++BGgOJFnMfIb/5ymlouiQITNXMvqLGOuqS9vfaiFIzcUb2yER4AOJhqHaWoNkt9a9iU\n",
       "li3iRj0oVzyAk26+SPAdfGTrKR4xv7f3NN/JZsY7HO/nbrzAeEZ2bKNCkK/EyAsqzLUXPwRIf8Iq\n",
       "xWN01yv9Dp4JbfK9IK+LFQYopE+KSDCE3qt6imUz+YryjX2YFIPUp0x2xlpr1ZcKQT4l/8Gx4cxm\n",
       "+oqnnmz37g2BpD/2leJpmHCtNZ9bJr1aHawttz3uwlc8gCaPzhspKA5gd6ClsPpmclEliq8aDu9H\n",
       "EwXqGQ+0LkcKQU76uihBWkqH9zItzhfvay5qlSFPCFQKpMsmF1Wi+JiB/GpOxvJ8I1LMwB7++8Fx\n",
       "+VTbhWU2E+Z0lZZneD8d+V8fVOy5Dw7QYYq8T8jtAAAAAElFTkSuQmCC\n",
       "\" style=\"display:inline;vertical-align:middle;\" /></a><br>"
      ],
      "text/plain": [
       "<IPython.core.display.HTML object>"
      ]
     },
     "metadata": {},
     "output_type": "display_data"
    }
   ],
   "source": [
    "from proveit.core_expr_types import Len\n",
    "a_len = Len(ExprRange(k, k, i, j))\n",
    "a_required_len = Equals(Len(a_sub), a_len)"
   ]
  },
  {
   "cell_type": "markdown",
   "metadata": {},
   "source": [
    "Using `a_required_len` as an assumption, we can `apply`  `distribution_map` to the operands $(x_1, ..., x_m, y_1, ..., y_n, z)$ to obtain the following"
   ]
  },
  {
   "cell_type": "code",
   "execution_count": 129,
   "metadata": {},
   "outputs": [
    {
     "data": {
      "text/html": [
       "<a class=\"ProveItLink\" href=\"__pv_it/basic_expressions/a399a82957284b0c0c145a4d32d32a69fcd846f00/expr.ipynb\"><img src=\"data:image/png;base64,iVBORw0KGgoAAAANSUhEUgAAAp0AAAAVBAMAAAD2h0iRAAAAMFBMVEX///8AAAAAAAAAAAAAAAAA\n",
       "AAAAAAAAAAAAAAAAAAAAAAAAAAAAAAAAAAAAAAAAAAAv3aB7AAAAD3RSTlMAInZUiRDNmWbv3US7\n",
       "qzJazP2FAAAACXBIWXMAAA7EAAAOxAGVKw4bAAAFPElEQVRYw6WZXWgcVRTHz35M9nszBApSAp1u\n",
       "i6kPgUVDND7YxY8IhcIQNG2htftSFERYpOgaka6K5kGxS0WoDepileCKZakv9kGyLQUpUlliCy30\n",
       "YfEDoQ82wUYEIfXc2b2zc+eeO3PjHsgkufe/v/OfM/feuTMLACbQEdFqCmzfqtbUatqiOXML5syh\n",
       "jDlN0aKCkbGkpl36UmXsCug7L7Wo3G3B3Hl9b8pa6BlzVFPU5w+fwcMef2uspC1VBsnAMK400GTN\n",
       "3zw1lDkFVBlT/9uYqzLKJPl5/BmxfY3z+lJlzKs6Rip4OOY/mfJw5kioMuhsesa4KkFfvb/wJ1np\n",
       "zy0uqYZK4TvVihDMwBhlE2jRh6Hd6ZsjoVIEZxMYPJ0k5aoUffob7PhRfybxtaoeKoUHVdM8kMFi\n",
       "hQ24lC1iUkOaI6FSBGYTGTxdSqWaJhnxBju+IDJi5VBpaD1pBot9zqypiZjpIc2RUGU9p8ON8XTT\n",
       "KtVx/DU3+dyT4u1qZHUSG/aLjASu+Ebh+m9PqKWh9aQZLF4q/Iyl6ogYdGdM1OCInrm5KhidcKiy\n",
       "nmQ2kcHTsbLlm937JBW7zJXoaqIhMI4eM9YB3hUZ7BolYNJaUEtD60kz2AL/t33UhGRZxKC7eKwO\n",
       "J/XMlWYguRYOVdaTzCYyeDpWtvndlzuS6iwu7WZyIyeur3ttOAUwIzLSOCrehJP2DbU0tJ40gwk2\n",
       "IGVBrC5i0N2veKlvaZnLFxcg1w6HKutJZhMZPB1KYRvEbUm1hOMWEqz6B8u9QrPjKwB3Ae6wedRs\n",
       "fnWm2WQXItUC6LIueGb/dWeglAUpLDSbHzeb30h+SYZnvDEMWhgtQX5NxKA7G32e0jJnoC5leb3R\n",
       "UDGobO6gExmedEtO/1OyyulACOQLvSm/zA5fQAY3JRd897QWO7JsFXDma7ril4aOzwFjEA4mXYKV\n",
       "ImR8Q2nJuXPmN/XM4Y3/TtfrjYYqxyfP5nYsSwyezinbGKE669zsTcOGWMO7w0vgpuRRea5CZh2e\n",
       "hX9hR5eUas33HkPev50YePDMQByO0bqeORwkDwjeaGjQfO9lUxvzznfci9qS6hI+v7VuQhwEy5tw\n",
       "CBfU90VG1gLjx1wdSvCOx7MgDa3ngLH4QaGz56eB7a5xGpfytohBd3AVsh0tc0x3VfBGQ5X15NmS\n",
       "1V8mFMZ4OiZ9CKAjqXDbsff31+BbsZ434If+psDDwN1AbPNAPVPk2y1Zyq05awpbwnorHsEw3jsN\n",
       "n8Cki8nVspXersd7hmxT9Aas1LTMQaKT+UfwRkIlb1K2gxdqKZNm8HQozV++tK8rqW4DHCjEqkWx\n",
       "nkeeZvf7r0VGvgHGy9bDb7M/v6SlrrVlvoQtKxiRuTIOtOODbck19sCYbomY2yzB4ydMLXPImFgX\n",
       "vNFQvzcp27b7YdSmGTwdSuMw86KcKe2WONbwv1D0rRlwzu0at2lp+POmy8hZ+f7q7YntPkzP3ay2\n",
       "uXhZ9iZBlfPdzbbq3l/9DHe57lKg7Z43GbJl/szvvnJYdE+mEjFJafj7EJeR6kbbkTWfraoPg+7i\n",
       "ZeNDTXOzcKgoe5OgyvchbrZP4dU8zeDpBmXzqy4q6znul2e50fE//7CDpcpwGTtwhCbboq1I2y+/\n",
       "CGkrV9I09zlcI7zJUGX0s0XW4NxjocaIbwiY6jD/Z/auFfIRg1M/u3cvnK54x8gZ38OIGVm16WIP\n",
       "3h1D7K3Xdc09MtEivGX1v/DoZ8t0YHct1JhirERU31VEZR9j+lJljAX07ZQvuTW0uZ363pS10DOG\n",
       "qv8AidLofSYIpnoAAAAASUVORK5CYII=\n",
       "\" style=\"display:inline;vertical-align:middle;\" /></a>"
      ],
      "text/plain": [
       "(x_{1} * b) +  (x_{2} * b) +  ... +  (x_{m} * b)+ (y_{1} * b) +  (y_{2} * b) +  ... +  (y_{n} * b) + (z * b)"
      ]
     },
     "metadata": {},
     "output_type": "display_data"
    }
   ],
   "source": [
    "from proveit.numbers import Integer\n",
    "requirements = []\n",
    "distribution_map.apply(*a_sub.entries, b, \n",
    "                       assumptions=[InSet(i, Integer), InSet(j, Integer), \n",
    "                                    InSet(m, Integer), InSet(n, Integer),\n",
    "                                    a_required_len],\n",
    "                       requirements=requirements)"
   ]
  },
  {
   "cell_type": "markdown",
   "metadata": {},
   "source": [
    "The `requirements` is appended with facts that were needed to make this happen.  Here, there is just one requirement which is the statement we assumed.  It is a **Judgment** proven by *assumption*; these concepts will be discussed in future chapters."
   ]
  },
  {
   "cell_type": "code",
   "execution_count": 130,
   "metadata": {},
   "outputs": [
    {
     "data": {
      "text/html": [
       "<a class=\"ProveItLink\" href=\"__pv_it/basic_expressions/940d411091b8f6b68ab59b68380f2025b7d24b4f0/expr.ipynb\"><img src=\"data:image/png;base64,iVBORw0KGgoAAAANSUhEUgAAAgIAAAAVBAMAAADGJ5v1AAAAMFBMVEX///8AAAAAAAAAAAAAAAAA\n",
       "AAAAAAAAAAAAAAAAAAAAAAAAAAAAAAAAAAAAAAAAAAAv3aB7AAAAD3RSTlMAInZUiRDNmWbv3US7\n",
       "qzJazP2FAAAACXBIWXMAAA7EAAAOxAGVKw4bAAAE7UlEQVRYw81YX2gcRRj/9vY2d5fLXVZRFBFc\n",
       "YzFFiN5DW7EPGmrtyza4BLV9SPUQhLyUHhJrrIirgnlQzFGJiEU9SEVs4Dj0xT5ILoU+ieUIiBUs\n",
       "HK2+BLEnqC+F1Jlvvtmd/TN7rzeB8Pvmft+f+d23M7MHADb748OAERmaclKm7VT/4QsxpDuCXA1c\n",
       "tB8aFQW+xf/5Tmw6WSUrPW2UnWEZiOEKsI9im7OjokDO1yuAVU7TzD4Fy7HjAezNjl+9TAwXqVad\n",
       "Yr8AIzNe0SuAVZ4XE7x0iWlYv5xiCox52QrXieEiteBT7OXRUWBFr4BaZcFX+lrix9jaio1hGQTD\n",
       "RVCSsZujo0DJ0yqgVllSsOkoCsDa0BRrMuIaHCBk1kdHgTFfp0CkygNaBRaHpliUERdhiVCBbTHW\n",
       "1M+/P63Q5mdePFzLihN3YDPTPpzQWGkB4oSdtuFDvqdTAKucpo5fUnBUgbmsnPMzkuEiWCTEdS/A\n",
       "jHNG4TZy24VWVrC4A6vbbMKqxkoZcYL18lFWW7EuFShcwNEDpcp8uRl8jwGOKvB+Vs5GySeGi9R1\n",
       "QuPsy34HVr2rYEn/ol38t+Jbh69pt1bhoI4bTLLf4HhdsbICCLpyVfHgGbacpq4HeJU3ChR9XcFR\n",
       "BZ7IOgnsyRoxXKSeI1RiCftwmqHrj8hzE3j8Auj7QDiowys5cLY61VKsrABIiMw8x1ZQHegU4FVy\n",
       "HxznJGad8s1n1CmowM2sBw+e8ojhIlVVAEQ1B8PdlsWf7Bi7+nhn4xObXnUXzJZiZQZAutoEfEXl\n",
       "ZpYCuAJSIMDRHriYuQuekQwXgfoUQPlveF5VYNO2vKKXsQB0WPloqrf3Cs2chlwzVIBbmQGQsHw9\n",
       "uNl9z74j4Z66D2CVJ63gKQhwVIGDmQqclwwXwSVCEw5YP1aaMCs+5XEWOr9CntfSAiulgYEcrA8+\n",
       "hc9hRvjATzDRwyVYgcUDgJfSjkQ4ftEv2cI0a1BhG1BX1wOsSrBu5QX5ksApCnxIBaZlBOOWZLgI\n",
       "5gixE8jcPdYs11AB6z/eYX+8Ad+Jq/ZLdZoLAP8nHIz5Ouyyowmn4S3Y9FEBzhQWD5B0Dgl3PwyT\n",
       "IgX8eXRPW5x56Qrwc7I6uFeQ5wSOKvCsLc7JWKIwIxQHxMCIS7BDqMq+6Fedx9+jDrnAFDw2ZS4z\n",
       "QYzLrPu+YnNf8zZsEOAMcqg41SZvSe4DJw69baMC6IIWD4Afhs4YKiBs88cSzVnzE7bw8Y5OgSp/\n",
       "Pq76grwjcESBa1+eZDMbVGCsZvSCCu+wDRlxA8b7dN9sB6m4AmbYQ/fAHQD7Ey0VMkr9XNcY9OXM\n",
       "EXqQ90sLA5jJpgwIX8DrVTXFffr3grbiy0tP3Amxz1vRAqMZ+fYuGC4C/o7gBq8jgQL5MNyVv14D\n",
       "SL46h4wHWBcUuw2xZ9Stj0mBWbJEgHxyJwkIA2g/qaZY1iuwEvpGXoDKfuKVKT1jpbbqSYYrwBbF\n",
       "npA/uNx16hC7OoYn4u3bA7CSPzqEjB9gzDa2PZwZdyqzYBz5x0EXtDCAQg/2JUko92CPr6QwunoF\n",
       "qEpB3tJs9vfHClQz3qytBwxXgAWKbXVVcmzFuWQaJ3XGfPdNxSW0UugxQphCrDJdAapSkBc0Cmxl\n",
       "ZCxMdwKGKwC7gzyK9p2j8mr4oCi3H5tOVmk4mnvv0F+hbIrIwP9p/WjiPs5aBAAAAABJRU5ErkJg\n",
       "gg==\n",
       "\" style=\"display:inline;vertical-align:middle;\" /></a>"
      ],
      "text/plain": [
       "(|(x_{1}, x_{2}, ..., x_{m},y_{1}, y_{2}, ..., y_{n}, z)| = |(i, (i + 1), ..., j)|)"
      ]
     },
     "metadata": {},
     "output_type": "display_data"
    }
   ],
   "source": [
    "ExprTuple(*requirements)"
   ]
  },
  {
   "cell_type": "markdown",
   "metadata": {},
   "source": [
    "Recall that the `apply` method is used in the implementation of <a href=\"#Operation_sub\">*operation substitution*</a>.  Iterated parameters can be used in that setting as well.  Furthermore, this code is used in *instantiation* of iterated parameters that are universally quantified which will be discussed in a later chapter."
   ]
  },
  {
   "cell_type": "markdown",
   "metadata": {},
   "source": [
    "We will remark here that there are limitations in this capability for the sake of simplicity.  We deal with multiple `IndexedVar`s in an iteration, but their subsitutions must be aligned.  For example,"
   ]
  },
  {
   "cell_type": "code",
   "execution_count": 131,
   "metadata": {},
   "outputs": [
    {
     "data": {
      "text/html": [
       "<strong id=\"dot_prod_map\">dot_prod_map:</strong> <a class=\"ProveItLink\" href=\"__pv_it/basic_expressions/5edc7723cc6770c90421c1a6cead55e1380869060/expr.ipynb\"><img src=\"data:image/png;base64,iVBORw0KGgoAAAANSUhEUgAAApwAAAAXCAMAAACRfW+lAAAANlBMVEX///8AAAAAAAAAAAAAAAAA\n",
       "AAAAAAAAAAAAAAAAAAAAAAAAAAAAAAAAAAAAAAAAAAAAAAAAAABHL6OuAAAAEXRSTlMAInZUiRDN\n",
       "mWbv3US7qzLz6SJmQj4AAAAJcEhZcwAADsQAAA7EAZUrDhsAAAUmSURBVGje7ZvRlpwgDIYRBUTR\n",
       "1vd/2TIqKJBgEG3n9CwXO+wGk48/qJFxGbOtYT/taM2dwc1rgZrvmez7fpukw9ufFXlqI6ePddLd\n",
       "kpAU6OXklEyWletyG8d12u7blocweigzPBqL99SDnXQ0CZNQhEAVyaGJRZ9sQaNSp4geZ+sI+YVX\n",
       "L6lKDU/GkoKorQw/i0NdBqpLDkks6mRLTgt5H9HjrB3Vf+HiXNpSw5OxeuIZ4KQjSxiHigONPRLh\n",
       "YRWzkx1LY9ZQJ4geZ+3obyz7FlFoeDaWhqPwqMzX0Wd5qChQG1eA+hUV85NtS8vQCmoA0ePYTvuN\n",
       "d/VuKDU8G0v6Uz/Qrg0vMk46soRpKNln01yXHKJYEUP94iygBhA9ju0oV7s2U8cbmCtjqthsyDiV\n",
       "E+dTW2KoKMwAl93keqF44W9OOoqESKgjEJhmsucyFbHJPrQ4C6gBRI9jO26hjtreswx4I8iYKu45\n",
       "GadisdWwWBq6oaJ4h1z2El6OrYHOcYKEWKheZtNM9cyKVIyrPPnw4qRTQ4gex3aGbd0K/fGotlyI\n",
       "YHTGVLEmzk4Zm8PZrhPSPImHGip2PQ6XB0ar4cXJuDlJvUtHkBClb3U2zVTPVzPLHhMx1C9OiDpO\n",
       "MS6+x7EdPW6X4mV1u12QuyBaxrQy9HcKo8Cp7QToavW4dCkKZqgAOVweGPPizL9+D0FblvEo3cfg\n",
       "E9HJXh1weh9Ird61Xj+mKEJJBrLhwGOOycIQOfHI1KcUH4Sg+B7HdnZP2qyHjdDTHGhyzwYz53ce\n",
       "UjLx9gmNwEYIZKgEAWON2JVzlCfiaHFiUxoUHmrMXzmznpGJ58KBx4xPXzmvlpQnBBE9ju1s12Cx\n",
       "fAL0C1gXgKaj+mpvrIlMPLf5pYBiBTLUgcCxDk+hyznYsQ5v6/kpIaEiZPgGeTMDVLHiox+6rV/r\n",
       "ASN6HNsxfPP0GTZJ1jZs5NN5FwUygdMkleuAUya4agMPy7xXLBFKaqgGOVweGFZSAy9OGdRuhp8/\n",
       "EZ3OqUjpe5NNc9bz5eIkiZUw1C/OlPqsLYh4GuBxbGd/cv84bO31VtlhbF3KvjRITeA0/fi0A/zp\n",
       "cPq512w7Y944WVyjWIoSG0pBACLn8sA4b4awMbPP6TY9UAmjBtCrLpvmrOerxUkSK2WIIHJJpFIH\n",
       "2kKI5wEex3bmPaMT7+Zm4jNrxM49DAIzgdN0409Vj0oLocQpE4J1KjJ26zdgAEpkKAU5EUUuTxjW\n",
       "CNfCXfjEuUuXkTC6WKf0UaA4zVnPV4uTJlY62QgCSqIqow60hRDPAzzOpzMkz/judtWmZ/9qUsY2\n",
       "/fnRh0UC5X4KDnI7Y4kRRXkFxGE0xOLVSYdLiDRnbq7KPcQzNvFcOOyYZLL1X18OM55ifD++D3HW\n",
       "TvLFv1jE5rwDnmPEjJ+DpPekwEFuG7ajorwD4jCoLy446XAJscfB3RwHSl6hyHkmPwnmj0kmW//i\n",
       "B/TizOWXAfsAj7N1THSYvfmvzkV6BjkT/BxCOePAQbNGjCjKKyAOozHUtDjpMAmxS81uJgTKeCYv\n",
       "zuwx9MkWNNNg2qJtH+Bx9o4wcSGwvX3DoRrBv5jjnXRy2fZ4SXcDcJB7muRYPP5XQByGIX/55KTD\n",
       "JMQO282EQBnP6cQvwoHHmDf+UUMYTFs8H1OovevceqfjyRNO1ry1aJ7G4AXpctLdkpAUCPdsnhCL\n",
       "v/NPRAk1seT0OHVcj72RLsdZfwFILcbfb+pfZu1Zbb9WfMWV+MH4r9ultsiAP82ION/PN50fAAAA\n",
       "AElFTkSuQmCC\n",
       "\" style=\"display:inline;vertical-align:middle;\" /></a><br>"
      ],
      "text/plain": [
       "<IPython.core.display.HTML object>"
      ]
     },
     "metadata": {},
     "output_type": "display_data"
    }
   ],
   "source": [
    "b_k = IndexedVar(b, k)\n",
    "b_i_to_j = var_range(b, i, j)\n",
    "dot_prod_map = Lambda((a_i_to_j, b_i_to_j),\n",
    "                          Add(ExprRange(k, Mult(a_k, b_k), i, j)))"
   ]
  },
  {
   "cell_type": "code",
   "execution_count": 132,
   "metadata": {},
   "outputs": [
    {
     "data": {
      "text/html": [
       "<a class=\"ProveItLink\" href=\"__pv_it/basic_expressions/78e256f3bf7a89a4a51e3a2513beba6a44e09dfe0/expr.ipynb\"><img src=\"data:image/png;base64,iVBORw0KGgoAAAANSUhEUgAAAfIAAAAVBAMAAABPiXFtAAAAMFBMVEX///8AAAAAAAAAAAAAAAAA\n",
       "AAAAAAAAAAAAAAAAAAAAAAAAAAAAAAAAAAAAAAAAAAAv3aB7AAAAD3RSTlMAIolEdjJUEM2ZZu/d\n",
       "u6v6CvZmAAAACXBIWXMAAA7EAAAOxAGVKw4bAAAEpElEQVRYw82YTYgcRRTHX89Md+3M7M62QZCI\n",
       "4pANmkviHEIOBtxO2IgbZB0kxstKBkGiGLCRDZpA4hwCgRySQQXjGrTFD9yDbIPRiIgOCRMRc5ig\n",
       "ITeZw4IYMUwSlnhLqupVdVV/VM916rBb9fb/Pn5dr6u7F1xgw4IxGYZyMsxupv9oEEu6z/Dfz4wL\n",
       "+Xb+s9BImNNVllqZ/kVvVAahmMGYTn1cyEuBmZxXOS8sr2hzORZ9gL358e3rQiHI34GxGSfN5LzK\n",
       "i2ggbTUXg/xzhpJP+PlXti0Ugnx5fMhXzOR6leVA6185f54yVTqjMqBCkIfjQ171jeR6lVVt7nga\n",
       "OVwYmeKCInfa40M+EZjIY1W+ZiQ/NTLFKUVepkcHmfv7hce1Py8tHN7UyvNPOlDLfADHDausAEnB\n",
       "Ys8KoDAwkfMq50Vnv6fN4+Tb8nIuLUgFkrPrXIYF75ym6ZTWyt28IEkHWq8TwqphlTGSAnJiK62p\n",
       "0pbk5St8DCQ5q7JQDKN9i+Zx8q/zcnaqgVAg+STd3M9g1b8BRPpV3MrdWkA23TQeleigj/30Uv0H\n",
       "R9vaKi8AyrVXDB+eoBihac9ZlfvLIvplbR4nfyPvZHenW0KB5FWaqAln6Wzfc/K5ByxuGcz7jg76\n",
       "8KsenLfnutoqLwAXxCxv0crtoYmcVcl8+PhWzmln/P6T6AxOfiDvBoM3faFQ5IBVHFKnJ4073bDW\n",
       "zXHOJw2zvr0OTldb5Qbgcn3TGUkxzCPnlQvyaB7f8525p9s5qVDdDsVb8LZOPusSv+LnFM4dVr6c\n",
       "G+y9JixnoRQqcrbKDcAFy/uiN7Gn6J6ge+Z9zqs8TaJuj+Zx8kO55BelAsmnPCB/1EKoo5X5H2v8\n",
       "CwVWQxdIRqOCcCCf/wg/wwL6wF8wNeClk2jFAoCf0XZCcHRnUHVx6bSgRg+YvmnPaZVA7hRQ/CfO\n",
       "M8i/EQVmZQTrjlQgOX2SOOtHwmKLk5P/WSe99DHswFfhd9vCFk3YD3SwltqwTh8x3AyfwGzAyZkS\n",
       "VyxA2lkJHnoWpjEFvLx1dw+fXdnk7HlnDx9G8Tacx8mfdPF5l0ikMkJlKBSC3KYb+4H3+leiE67Q\n",
       "K3ZkzlmmF8K6TrvsV2r7jbVbR0yYQjjUPDtkrcd84PjmT11Ozl34igXgf1TOPFQkWGO3HV/WnR8o\n",
       "8GTDRG6z++BGgOJFnMfIb/5ymlouiQITNXMvqLGOuqS9vfaiFIzcUb2yER4AOJhqHaWoNkt9a9iU\n",
       "li3iRj0oVzyAk26+SPAdfGTrKR4xv7f3NN/JZsY7HO/nbrzAeEZ2bKNCkK/EyAsqzLUXPwRIf8Iq\n",
       "xWN01yv9Dp4JbfK9IK+LFQYopE+KSDCE3qt6imUz+YryjX2YFIPUp0x2xlpr1ZcKQT4l/8Gx4cxm\n",
       "+oqnnmz37g2BpD/2leJpmHCtNZ9bJr1aHawttz3uwlc8gCaPzhspKA5gd6ClsPpmclEliq8aDu9H\n",
       "EwXqGQ+0LkcKQU76uihBWkqH9zItzhfvay5qlSFPCFQKpMsmF1Wi+JiB/GpOxvJ8I1LMwB7++8Fx\n",
       "+VTbhWU2E+Z0lZZneD8d+V8fVOy5Dw7QYYq8T8jtAAAAAElFTkSuQmCC\n",
       "\" style=\"display:inline;vertical-align:middle;\" /></a>"
      ],
      "text/plain": [
       "|(x_{1}, x_{2}, ..., x_{m},y_{1}, y_{2}, ..., y_{n}, z)| = |(i, (i + 1), ..., j)|"
      ]
     },
     "metadata": {},
     "output_type": "display_data"
    }
   ],
   "source": [
    "a_required_len"
   ]
  },
  {
   "cell_type": "code",
   "execution_count": 133,
   "metadata": {},
   "outputs": [
    {
     "data": {
      "text/html": [
       "<a class=\"ProveItLink\" href=\"__pv_it/basic_expressions/f774a2f961dc4199048f3f624c2fe34a84bca3e90/expr.ipynb\"><img src=\"data:image/png;base64,iVBORw0KGgoAAAANSUhEUgAAAsgAAAAVBAMAAACpugWdAAAAMFBMVEX///8AAAAAAAAAAAAAAAAA\n",
       "AAAAAAAAAAAAAAAAAAAAAAAAAAAAAAAAAAAAAAAAAAAv3aB7AAAAD3RSTlMAInZUiRDNmWbv3US7\n",
       "qzJazP2FAAAACXBIWXMAAA7EAAAOxAGVKw4bAAAFfElEQVRYw62ZX2gcVRTGz+zuOPsnu12LRZFI\n",
       "1hiNioWlluD2QZfSBildGEJpK7S6CkLAB/ch6hoRF8H0wUWjUlELNVikuMWw6EvzIE1LfawsoX0o\n",
       "KCwpIgZpIpgiCI0z987cOefOzM4NzHkI5NzvfPc3Z+7cmdwAQBEGRTEyQUIDtSgqaLRtmW8LNB5M\n",
       "JUCWS5QHGv0g/R4hz5WU4CNcQrweiQ00HkwlQCbaGzFPi/4eIYfHlej3Kqkkr2Q1PtB4MJUALZFe\n",
       "jzB6lfwWKb/HVICPdAn0OhojaDyYSoCWyGhFGJ1yVj3XRcrTDSyX4yKouRAvt6oZI6hkLT/i27vY\n",
       "wYCWKBN1pRl+t5J8/4mUw2ksl2MPKLpgL7dqPk5Qai3FNi82AvA0TEQ+sy08b6QcphWaPKHY5Glc\n",
       "lazHCTqt0OSJeACnYcb6ObX7xQP0PYoyqR6eN1IONYUmB7v4kzVcZVivlakm6D2ybY634GQIKBpz\n",
       "7b3ymkKTAz0Igw8QCp3+A0K6tqi1bJF9LxqJFWOBGKFMuo7njZTDnEKTg138yTlcZa/UagXSG7gg\n",
       "lZyHj0NA0ZgTqHxOocmBHoTBBwhHx66KVaC/crjGROcsumJ6M0/2eJxJzuN5I+VQUWhyoAv4kxVc\n",
       "lS1DoTwL+WVcccu6J7+GgKIxHri8otDkIA/KIAMC7IKU+OTQTDjIRGesMjDsRXCcrQT9DtBMwbpr\n",
       "Rqfz3VedjnWLhFw/8JtJ5U5mHctJzHY6X3Y63wNyQc89mlfEOq7KdEGHTyFT0vn6ecmWmpmSlQsG\n",
       "ZWOYk5cfqd2QrUn4PcSQPSU3CQG0Jzko4ACO8I6cYa9Rq6gwyp/T80AzObJAhNwA/lx7ciezpLCS\n",
       "hQsKz8iLJVxlX0NuE9b7q0/yhcO+ny6ZhbthoPYY4WTlDZiVrUNWsush8mxKZhIGCLATwWklLjrH\n",
       "SIu6CUm8Q3oZJ+09QXxwR1e7S+VOZp/aduFMIQdN7pOfRmuhPyHSLN6ExHwYqD1GOFn5fzDSl6zD\n",
       "twvuT1c6YwgBtD+xTfRngc5EVwBOdG9CCnCTcSa9jOcV8rTpwZNMW6HJnktzdXei3ZeMRLKNq4Ys\n",
       "y6EeXKNNvmbngkHZGObk5R+wJrcVmiw8mqvjQE1OfTTaCAKEpwHENpksQ56JrNffc7+/DT+SJuOM\n",
       "UcXzenJILUhynpnBcraJ3fH2qD1AXY4vtTK9RI8aeckZfA32J5rRy/1Lm/wuXGqFgPIxxOmUwyHZ\n",
       "WmCyHz4PG6hITPQPv4BPggALV68cEmvmr8Nji0y0BnBsNNkskybjTLaL5/XksGZKcp65gOVsazov\n",
       "9ii3ycJl12Owo29UqZGXvICvoWDR6NfH/6ZNPrn/vWIIKB9DnE554VvZWmA6bwbJwwaiJtpUHTaD\n",
       "AFNQec372Et+3mWirOh70vfVyjIPkifIk2s/+05O7Yy2oLBdeC4r8Cffy3C4ScfLrVpky6VOmwww\n",
       "OQB0Uua0y4dNn3XwdiE8Vtw3nDDJl+z3bBCg/0B5QZxxhDa5Sc5MPPn9cK8kZxnnUGXwAZHnchae\n",
       "gpGCpHKT7gHNRXECNAkvlEmTU3X9szBQPoY5WbnW0IqydfABkfA4C28VqEmmbzT6AYABYYsuD26y\n",
       "tkxzrlz75fYb0h1jmWGlQwnhsmGtkrYhGblJyWuoCN/AdSBNzpby1TBQNkY4Wfnw7T9MZUzusQGL\n",
       "z1KTEcje6gcABoQtOuFe2uQ/0iPOMnKhK89sbW1Ip2Asc1mJ3nXJ9eBleOhRaR25SclLX4Znxq1N\n",
       "7r7X93vr4P13QkHZGOFk5V9vbaljMg8LaKxFTX6CxPNBgCELShv8n5iH5R1msDxRVKLXVP794/Pa\n",
       "GRtoPJhKgJbof5doEstrHp05AAAAAElFTkSuQmCC\n",
       "\" style=\"display:inline;vertical-align:middle;\" /></a>"
      ],
      "text/plain": [
       "(x_{1} * x_{1}) +  (x_{2} * x_{2}) +  ... +  (x_{m} * x_{m})+ (y_{1} * y_{1}) +  (y_{2} * y_{2}) +  ... +  (y_{n} * y_{n}) + (z * z)"
      ]
     },
     "metadata": {},
     "output_type": "display_data"
    }
   ],
   "source": [
    "requirements = []\n",
    "dot_prod_map.apply(*a_sub.entries, *a_sub.entries, \n",
    "                   assumptions=[InSet(i, Integer), InSet(j, Integer), \n",
    "                                InSet(m, Integer), InSet(n, Integer),\n",
    "                                a_required_len], \n",
    "                   requirements=requirements)"
   ]
  },
  {
   "cell_type": "markdown",
   "metadata": {},
   "source": [
    "As long as the iteration ranges are aligned, we are okay"
   ]
  },
  {
   "cell_type": "code",
   "execution_count": 134,
   "metadata": {},
   "outputs": [
    {
     "data": {
      "text/html": [
       "<strong id=\"b_sub\">b_sub:</strong> <a class=\"ProveItLink\" href=\"__pv_it/basic_expressions/06dd241f0c5b85f5f7ddc0406b6a8a2199a1c8c20/expr.ipynb\"><img src=\"data:image/png;base64,iVBORw0KGgoAAAANSUhEUgAAARoAAAAVBAMAAABrvDzoAAAAMFBMVEX///8AAAAAAAAAAAAAAAAA\n",
       "AAAAAAAAAAAAAAAAAAAAAAAAAAAAAAAAAAAAAAAAAAAv3aB7AAAAD3RSTlMAInZUiRDNmWbv3US7\n",
       "qzJazP2FAAAACXBIWXMAAA7EAAAOxAGVKw4bAAACzklEQVRIx81VTWgTQRh9u5tx82PSCIoXpUvw\n",
       "DzGQg1X0Yqi1eGhhKUp7sBp78maQKlURo0I9GGxUFEGQgoigUApe7EFKBU+ihIKgoLC0ejCIVrAe\n",
       "W2e+/clsttnzfofZfbPvPd78LoAsolGKaNRCRNKkDN7sRVRqF8BKkUmzzoReiUyaeBkJRKfuY1+E\n",
       "0pzBKN86OysY9rr8aI0KElju47fDEh7In+wJPamtAjSmFL5j+nkexLQaJrwPfrRGBQk68sYlCZfV\n",
       "eX0yzKJVwEb6+vljHE+ARS79giHncBFiPV/NdlY2Xa5rmDA/gY27uzEbX05XwixsgXTxmTjCHwfw\n",
       "CDATBu5mcs5oCOloPzgi+HosXODtwm4HZqCXxPjbW9gCuY6J5L9FGsyamRVorlagjmllpe08E91f\n",
       "lO6gB3lehFq0DAeKuIcxI1aKB1VrzTQCxc0QKyKMLeTVquVe6n9wXE4zm2VmqAUJbt7OlR38CoyG\n",
       "84a377G+TmlEl40Q4zC47h5haKaSqKt14rB36RqKdhohOTH9GTGQBVtjoV0Bu/UQd2yFVkCaP6oQ\n",
       "e/kKZiuU5lTJRWiYYP9gd9GLh4iwaQc6LL1IvdrKYC1VoDREOvT9Il6CLDy1z8YWKAMlLNudP/u2\n",
       "TfHHKBq8He6+mqU0yacuUt7yt+c8d1JM5jM4TZMwjx9IFojDzhn7bzj7RkgGc9oY/yIsiE9Cz6Yp\n",
       "SBupmq0oag+m+acXSNLa98LeN11w0GZs4F3BpfIIj7EHnRkfR6SRIFl0BRyajISlly0JK5PiVxUr\n",
       "sXtOGr76hJQPv86DFr+lPMISn52q7uOINE1oWxSDl6f31onkoiVh8QOfQ9JIF6H0/jXA+EEjlFhd\n",
       "XeI3fHAXu4RUHaexdbvM2Xi2W4ZkwYyARZPxGupRGW8RJwDa9csOVsVMeghBqxZCkGME+QhlSHjO\n",
       "u3giUGoW/wF869AWToR5JgAAAABJRU5ErkJggg==\n",
       "\" style=\"display:inline;vertical-align:middle;\" /></a><br>"
      ],
      "text/plain": [
       "<IPython.core.display.HTML object>"
      ]
     },
     "metadata": {},
     "output_type": "display_data"
    }
   ],
   "source": [
    "x_1_to_n = var_range(x, one, n)\n",
    "y_1_to_m = var_range(y, one, m)\n",
    "b_sub = ExprTuple(y_1_to_m, x_1_to_n, z)"
   ]
  },
  {
   "cell_type": "code",
   "execution_count": 135,
   "metadata": {},
   "outputs": [
    {
     "data": {
      "text/html": [
       "<strong id=\"b_required_len\">b_required_len:</strong> <a class=\"ProveItLink\" href=\"__pv_it/basic_expressions/b7f8133fe568702883136c792382f3829f99d65a0/expr.ipynb\"><img src=\"data:image/png;base64,iVBORw0KGgoAAAANSUhEUgAAAfIAAAAVBAMAAABPiXFtAAAAMFBMVEX///8AAAAAAAAAAAAAAAAA\n",
       "AAAAAAAAAAAAAAAAAAAAAAAAAAAAAAAAAAAAAAAAAAAv3aB7AAAAD3RSTlMAIolEdjJUEM2ZZu/d\n",
       "u6v6CvZmAAAACXBIWXMAAA7EAAAOxAGVKw4bAAAE1ElEQVRYw81YXWgcVRQ+s7szN/uTzVgEUQxd\n",
       "2qI+2LgPxQcLZiypmCpxkVYRIlkE8acLHUpEq7TugyD0oV2qYF2DjvibB8mA0YqIDa3bIvZhg5a+\n",
       "laUEihXLlhAqvsT7P/fuzp193QOd3HP5zjnfN/fcO3cLLhCzYEjMQCdm2o2NHyzEEuHb6d/Hh0X5\n",
       "LvpMlXum+1lmqrHxaW9QBY7YznI6pWFRngnMyinLaT7zojIWNusD7EvOb1/hCK78TRgae8+snLI8\n",
       "xyZQPRpzQ3+dxMpH/OQ3W+cIrrw5PMoXzcpVltlA6V8xfhpryjUGVWAIrjwcHuV536hcZZlXxo6n\n",
       "KIczA0uciZQ79eFRPhKYlGssXzEqPz6wxPFIeRYfHfNNQJ1oz0wHcCwpWofTkKnrz9xndONSzLy+\n",
       "TTugZ1tWAKmOSTlhSXhRO6WMdeUTyTUFgikn77l0EHJdiUg5ISwlpdDhdOfBjLdgdGOskVnLrqiv\n",
       "7t2dmFOuLpRnL1HrCOWEZSodynWTY135N4k18wFHMOWFKtjVBSi2kQh7FnP6B227aTooGVyb+gyW\n",
       "/BsgMzD38MR140Hj5m4XA/WK4cP9WEZoWnPMEvPiLX9BGevKDyad7O5YlSOY8nwZECxD3tv/FIf4\n",
       "eQ+Ws6CtidbaFK5NVeA0fsoMzG2Acd1tyPYeL4cxc7trUo5ZUl7UvhNj3Bm//8w7gyqfS1CO4JDP\n",
       "EVI5pG/DXAVqAjPp2xtjZWvDeBOicN2WyaOmueuwtWI+xnvuWxbx02GScsqcK5djfc13J26xBYGQ\n",
       "3U4W4EmF92nIhDnfrJzCF7+c6uy7LF/GLXhDyUDdr5OUT7rIzzX3y5vYI3hNwFkx7XPCEk4g2e1y\n",
       "rCuvJSo/JxBM+SgOHe3AVTZJ810lE5BaAdQfTfITOPr8J/gFZlgE+qMYQoll8CMXHmT43q4DOFr+\n",
       "G1Lw1u4g77IiThWKePu3TWtOWKL1FAP/ycYxyr8VFPtL4rZaFwimnHxJsp30f4z3O2T7fQKTAb0I\n",
       "U4880L/qgMCt+TpskO8LmXU2joTpKs1AAMK1L0aBeppDz30MD8NdT8AYL/LCzj0t9u2KV05Y2t17\n",
       "GHiCjXXlD7nse8eK6IRpFPsenYqU27jD0LXpW0x54SJ+HNvxqQvWFe4VyIXvNzG45HN40bND0ncE\n",
       "gz7wXv2KtxIGCHfcZ3gaGKXBAUemnCZ+NWtk29EiJedHLLhQNiknLOFGwMCzbKwpv3n2BJ45D5xi\n",
       "RFiUBPY9Oq/cXlv0G17nW+BlmucBgLvhDuGp5vgcnq9k2la3omFqEkC7q2G5iistCvgePrJV/17z\n",
       "vb2lBBcqMXc4WnEFNAZ6SXKoMgRXvkiEvl3lyktEFvoBrMsHPqRej6WAw7fiVc+1GxqmxgHMxg88\n",
       "7ytudBGSRLvQeklN0DQrX1SC1R8m6aDvp0x8yWJ1yRcIrnzUhV/hGsCWkztw3+L3UvCKJchvbnap\n",
       "13sFxP8o/FEYca01X8XQDPPSPbu5qbryuJEB6Q7sCRTfapuVj7pK8Krh8B6XFPtLzlUvSARXjtrw\n",
       "2rSoliHd8sX7itdjpHIEj8F4iW5MQOQzdfHKUVsBHzUoX00omaWkV3nGvfTvncPyU+0xRrP3EtDP\n",
       "0vIM99OB/+vDEHv/B2CjXskdO7UbAAAAAElFTkSuQmCC\n",
       "\" style=\"display:inline;vertical-align:middle;\" /></a><br>"
      ],
      "text/plain": [
       "<IPython.core.display.HTML object>"
      ]
     },
     "metadata": {},
     "output_type": "display_data"
    }
   ],
   "source": [
    "b_required_len = Equals(Len(b_sub), a_len)"
   ]
  },
  {
   "cell_type": "code",
   "execution_count": 136,
   "metadata": {},
   "outputs": [
    {
     "data": {
      "text/html": [
       "<a class=\"ProveItLink\" href=\"__pv_it/basic_expressions/13837467beffc7f335e620dd2f4a5ae39a11194e0/expr.ipynb\"><img src=\"data:image/png;base64,iVBORw0KGgoAAAANSUhEUgAAAsgAAAAVBAMAAACpugWdAAAAMFBMVEX///8AAAAAAAAAAAAAAAAA\n",
       "AAAAAAAAAAAAAAAAAAAAAAAAAAAAAAAAAAAAAAAAAAAv3aB7AAAAD3RSTlMAInZUiRDNmWbv3US7\n",
       "qzJazP2FAAAACXBIWXMAAA7EAAAOxAGVKw4bAAAGAklEQVRYw61ZX2hbVRj/bpK7/GtiKA6kVBrr\n",
       "tFMshDqm7YthuiJjhVB0m7BpFISBDwYpI1bEqLg+WFxUFLWoxSLFDEvQl+5hrCt7k0koGyj4EDZF\n",
       "LGI7sEMQOs+/e+75Tk5yT1w/WJp8/fX3+33fOee7dzcAkIEOkQlMqOGAXWT+D6Y7Zee2DQTXYyXK\n",
       "cqFcJ57vtM+d0cmslffOJDujfG9X5G2iM4mdKAPt69yPCv7cGQ17rbzvs1qJ21IO57siN0cAiaUo\n",
       "AbnFzjwvok9B6F0FC+9BJDuhfKQr8jYRRGInSkDRgDWdEZuew4LQsRL/uWw+XnYkWFlQWSoLCSh3\n",
       "RW72GUiil1tuB4oH8MT5YoX5+AlCw0f8x4j5+FmSIGVBZaksJKDaFbnZZyCJXm61HWh/0ImoqLpB\n",
       "aDhp0eT9dk0WyoLKUllIhItdkZt9hoPHGiq3Hf4kTJHXyeFnn0DXbneoAif420hD1aVod/Dqr48j\n",
       "lskyuBwGExZNNkpqPL6yoJpCrjyfipUJVSKa19k0NCY3+zSS4PJRuRQP6VrzLoldX3IqFETXohRa\n",
       "i86rRJFwFc6IiVJUdSk6CsPZaaSbH4XYJn972qLJRkmNx1cekXtGcSVCtXJalaAbFbNpaExu9mkk\n",
       "weWjctnpOLLnklwU94XDEwy0QAQzsa0Uuq5cJw34RQhWVV2ChjfhTOEnFZ3OTUNqhb8ftWiyUVLj\n",
       "8ZUF1QJyJUK1MqpKJHI6m4bG5GafRhJcPio3QY/mbojIWw6nAAcZaI4UB1G6rsfY4ro3yUshnoUP\n",
       "eCJN1jFaq33zWa1GVoigoQmnyOtTE1c9tEuw8SxPbJB/07Xap7Xat5pzRCIk/Xiu6PH4Pd9UqeaQ\n",
       "Ky4srLhsP22oEvE6csXokXFMbvYpSVSTgkUEKpfgqZuDEkrECgw0x661hCc9yI/vIn25UEhv80QS\n",
       "7WSGJsLkvMO0RCe3YKPJE+csdrKUVCJR8nj8Gym02eaQKyHMrVx7EKSydwNTR644vWo8abGTJQky\n",
       "yVlEoHJ5k3sVqJPloAXW04xbgLAyI09BqMoTIquMC0jegKfhXxiQ4mRXPiASY3bjQkjqm4jy+Oh5\n",
       "bVworuRCUCtcdEw76aorFc0zmLztuNAsKZo8xlrGBbnH9utaJkeBglYBjtd/hggg95ehp8ETsRVV\n",
       "l6DdH1JVyMM7inuCvSwSsxZNlpKx8rXh0KzfBMYz895gY++PvrKgWkWuxIWFW+GlzqoSPVnkSkXz\n",
       "DCY3+5QkxFJJ0xQpVC7Fw8MA8sIXzkGKgcjl77HfXoXvcZNfhwsVnojmVV2CDm8frSbpmh3yd2Aj\n",
       "+Y9ITKmqbNDelBNUIeGSx85V4o1QA/G4734Cn8Owrzzi3yz5rkQRwsoYSGUhQe/QFFcIzTKInNmT\n",
       "ZltIqKX3MYuXQuVSfPrS6iG5a/48vGeJgdYBjg6Gyznc5BMH3sjwRKKu6hK0+0r2kbfppeNrf0dd\n",
       "GbohEmfR+Sl5w3NRI+GSu++HO5rRPOJxJouwzcwLZdHkdeRK4IUV1uSzqkR6HrlCaJbB5IvIrE5C\n",
       "LW1hFi+FyqX4CIy+5N+Shj+uM1Ciqc1AEeMi0YfHlH+2+9WRGinyhDNvMS58kjX4g08yhSeVTVfZ\n",
       "BO5DVPyPxnWbcjI66NoBS6orHCzTZ+FTkqSySf1/zDyllbtkfuo8L59xIPeRovuhSJTRMxMf7ZSc\n",
       "jL8gz+R4wnuM0/HBi0/yBTwEA2lAPPFmaMXZbErlZfmYRXHV2mSh7D3bmVFd4ZpZpmzzgGhGWoqW\n",
       "mtqzD5bSyp0xslHQRUOTE9lUniccfCfuo/v/+l3uka/gikj0Wz2V8EicTbKXZ6OAeAbILomtlAzK\n",
       "vitDkzXlnoziCm9kmtHJzeGRDEDiutZknmoVNQQFHfcqHv9b3rqG33pNJPS/89Dw5a1bMvnoUF0k\n",
       "Llo12SNJNuB5uPs+zHMedmWctYJB2XeF486XD7QouyuKKxQs02P1/ZNHch5CT2q/4qlW0TZbyun4\n",
       "ldE9+oDpiA7ZfXfWmWRnlHu7Im8TvQFf3tiIEtB/ki4cHBvdaiMAAAAASUVORK5CYII=\n",
       "\" style=\"display:inline;vertical-align:middle;\" /></a>"
      ],
      "text/plain": [
       "(x_{1} * y_{1}) +  (x_{2} * y_{2}) +  ... +  (x_{m} * y_{m})+ (y_{1} * x_{1}) +  (y_{2} * x_{2}) +  ... +  (y_{n} * x_{n}) + (z * z)"
      ]
     },
     "metadata": {},
     "output_type": "display_data"
    }
   ],
   "source": [
    "requirements = []\n",
    "dot_prod_map.apply(*a_sub.entries, *b_sub.entries,\n",
    "                   assumptions=[InSet(i, Integer), InSet(j, Integer), \n",
    "                                InSet(m, Integer), InSet(n, Integer),\n",
    "                                a_required_len, b_required_len],\n",
    "                   requirements=requirements)"
   ]
  },
  {
   "cell_type": "code",
   "execution_count": 137,
   "metadata": {},
   "outputs": [
    {
     "data": {
      "text/html": [
       "<a class=\"ProveItLink\" href=\"__pv_it/basic_expressions/165d2b72263f453362c4120e9daabcc8d392ad690/expr.ipynb\"><img src=\"data:image/png;base64,iVBORw0KGgoAAAANSUhEUgAAAicAAAAyBAMAAAB1+mbvAAAAMFBMVEX///8AAAAAAAAAAAAAAAAA\n",
       "AAAAAAAAAAAAAAAAAAAAAAAAAAAAAAAAAAAAAAAAAAAv3aB7AAAAD3RSTlMAuzKrZonNIu/ddhCZ\n",
       "VERetuGgAAAACXBIWXMAAA7EAAAOxAGVKw4bAAAH8ElEQVRo3u2ae4hUVRzHf/PaOzN3ZnbQP6SE\n",
       "mIQgrdiJFGT9o7E/KmprR0QhIx0oCIpopCJ6gNObjGrZErIyrq722Da8mw/CBAdaF7cihyhRDBwo\n",
       "QoLYZTGFltzO+3XnHvurGdg54J1zr7/z+537vef9WQCUIgXoJpLGfZFdyX6r5Op0Sg1DqlPVfgL5\n",
       "Kz+WyTHtoh/wXKzMMpvJ9YtOEeUPck00jce0lumGfKLmgw4sKecpHkk6wzO3a+Gy5U4RJV2yiPIz\n",
       "+jfGnqh59ZtTB6EpuhT2mqIkiqwNvaaFO9w5PfzRcFHcCrrsoA/UPE8HJue4g3DRK9DjG6LAu/Qn\n",
       "5WnhJjpHlIFwUTJKI1DzOZ5Pz3EHthSvm6KcpkPtnXq4WueIkvRDRUmqZko+66miJP0rhXjDFKWH\n",
       "yASvaOGylc4RpacUKsop5cGpUFF6SlcK8ZApSu6SKC3DZdA4646uue4BxfDIyJcbGjbXZgH0ZKwE\n",
       "BxQPE+AWbQ50c4Dlw06JjnqtRTlOy4CZ10VJ2GIeGUGX9aYo8CAZUopaOCxuBka8KcWunu7PDNlE\n",
       "MQug6mRrMChvy6chPmNxYJiD+8g6VN14hYuS2UlSUbwC+sKJXE18bZHXRYnbmn09WWIzrybKOdzl\n",
       "+gqaKCnUJO6AQX8luHyqjlfjc7GSu+GW0B5KC6jpJqTizXCQVSramIJY/tD6NWEOqLmyqvLhfvSG\n",
       "tdCWsguXYd7VvC5K1jJApqu96FVPB0Q5hj2s1sMlUR0KMIlyKz7j8zngkBkIby20gJr8pAfbo6Os\n",
       "hAvbIenVYSrMATHXnhxCXyA6EyrKW7QMaHnUnt57nbUnIkrU0jpd0ib6AqJEcJ1fCooCtIJn5PiO\n",
       "QvY2ndnwENvNB9N+dBayXMbcHGqRl2Fb6CaLmKtNBb9krmYThTZ0I6+3lJx1KsWf6HxAlDgaaaMX\n",
       "INB98BD8tSrKdNX1475FFFJg4LbR4t5F7MkkpGtSFNTUPoW7LaJg8/jECrEu/Q19SVq89ZiyCw+J\n",
       "rug+Im90H+tIuIN/eE0UFwmSvqSLEvHAvSZWgzItgD/AeHM1JHD1hsBt0fKBFXDvfRk1uxGgRosh\n",
       "UiSVIncovxj93Ecdmu2YmR88X0pWqUW2ATH00fKhLeVqVO5ygpZl+VYDbZ77D0YE5zK6rGUelWqh\n",
       "rhOp6eHQLJadPVrLNYgo7kXcNG84AX/iadKHYxX2DGfEHS3gHKnALJ4fyf99A9MlIgq5yxRzF8h+\n",
       "RBQmGekKmz/3MfT69Nm16/YN0+VBiCjr8YDxJC3L8rooiUtsfaHXWUak0+Fx6pE8ZukqNFzk9XBR\n",
       "1By+9X65hzWtnUjCo6PZCaSRsxR1Lry1/hD3sjq/IAtWIOZFa7gtE6MDm05WiSjkzl01hiq51acO\n",
       "STnshboS5v2ki2OLcvZVpEWqGSrKcnziUaJlWV4TJbb64krmQK+ziIimQ3T5iHncKZvKFqRa3Qg3\n",
       "rG2js9L4eXga4GygLUqLZCGdd2YK3Ggj69P0LlEBp+5UVYc8CfMX4fuo6vCZ8L1PqiDLpgotVrTS\n",
       "QYs6n+WzhzPEPCrVGmxCn2eEG9BEScj5YNGy7wCC5wrSYhtqK/F8nRglKu6bTJQyeeOvGrB12Y2+\n",
       "Yi5XdszcmYHhH1WHE+GixOuirMhrG0LpoEWd0ZNYY9Dne8nNalCsyLmGES7Cz6GeenwTWgvLaXl+\n",
       "fgZcL7haFrlfoafq9PvEKOXFyuBs/MujRd6HVQBvz8+r5mLY4+a5IuwrKRZO3nKeskSU5fkWB2t5\n",
       "aWNG7GvgSWsr96hUC/WdwYJ5UpFXyxsO08HIQZmwUfauH9QiP401/6O5YkE/T4go40p9xkNEoQ7S\n",
       "LSNmSI2WcI9KtXqLsF85yNxDrs92yib5E/oG5tpmj1zdqSu9UAe2Y6aq4lGIkoctPnSTfopTgZNd\n",
       "UYyUGoJbuyqYotS6orQSRe0+XRjGus+WqjnZLWgYRgfa/eY6ZWHDMCxKMbh4W+AwDK1T6nCuaYRb\n",
       "4DAMLfPL0FcywtU6aBnVBhhGNoS9xtHBQodhgLfIqYoeDh9W6egqAKoCm86AgQHHgqwssNU2cVv7\n",
       "YBjeDcaM40gsro6uTFAVPFEJGBhwLMjKzGTitjbCMLycjc/poqQaDF0JFkZAlQ2FmSQrQNPorYWF\n",
       "UdymrqraB8PgBTRZ/6OHSzYZuhIsjIAqGwoLkiyDptFbCwujuE1LbYNhzt/QEoYRdCWxDwZVVhRm\n",
       "kiwI0DR8a2NhkDSORNoLw+BEoPtQdCVfiYAqGwpjJGskvZa/tUHTyK2NhVHc1hEwLIbLTDc1USIe\n",
       "R1dnQOVa4ShMkqxiuqjAMUHT+G04C6O4rZ0wTFnQYg+puhYOz2IUXeFXklyLo7AWbEmQrAKazyUc\n",
       "EzSN33IWFiRTFLe1EYYpCR/yq9MPg2EMXWFRJKgSKEwiJZwhEImRrOtJ35NwjNM0fstZWJBMMdzW\n",
       "Rhgm0zvkqv95F4VhiQrrbgJU2VEYIVm7YZvGsgyaZmdhOLURhoEy/In2IsMNMHRFRRGgyoLCOMnq\n",
       "h7UZDSvpNM3CwphqbYRhIkXoIrinrIWLVCm6IixMgCobCuMk62F44nMVKxk0zcLC2Au1EYYpywu6\n",
       "ctL/uNjNK+iqBdfSkwc6yQrQLvttK6fC5P+EYSLtYr+7+YMuDJNbyFjHHEC2P/0uco91xeCbMHmA\n",
       "GSl05aDpMBlm/wUJV4aZCRNd5wAAAABJRU5ErkJggg==\n",
       "\" style=\"display:inline;vertical-align:middle;\" /></a>"
      ],
      "text/plain": [
       "(|(x_{1}, x_{2}, ..., x_{m},y_{1}, y_{2}, ..., y_{n}, z)| = |(i, (i + 1), ..., j)|,  \\\\ |(y_{1}, y_{2}, ..., y_{m},x_{1}, x_{2}, ..., x_{n}, z)| = |(i, (i + 1), ..., j)|)"
      ]
     },
     "metadata": {},
     "output_type": "display_data"
    }
   ],
   "source": [
    "ExprTuple(*requirements).with_wrapping_at(1)"
   ]
  },
  {
   "cell_type": "markdown",
   "metadata": {},
   "source": [
    "If the ranges are not aligned, this will fail"
   ]
  },
  {
   "cell_type": "code",
   "execution_count": 138,
   "metadata": {},
   "outputs": [
    {
     "data": {
      "text/html": [
       "<strong id=\"b_sub\">b_sub:</strong> <a class=\"ProveItLink\" href=\"__pv_it/basic_expressions/a0e53f8083be7b4bc847309fe688ca2fc42b63dd0/expr.ipynb\"><img src=\"data:image/png;base64,iVBORw0KGgoAAAANSUhEUgAAARoAAAAVBAMAAABrvDzoAAAAMFBMVEX///8AAAAAAAAAAAAAAAAA\n",
       "AAAAAAAAAAAAAAAAAAAAAAAAAAAAAAAAAAAAAAAAAAAv3aB7AAAAD3RSTlMAInZUiRDNmWbv3US7\n",
       "qzJazP2FAAAACXBIWXMAAA7EAAAOxAGVKw4bAAACz0lEQVRIx82VT2gTQRTGv93Nuk1q0hUUL5Uu\n",
       "oVoRAzn4Bz1oqLUHaWCQSnuwmnryZpCqVRGjYk+FBkUvQi1IERRKwIs9hQqeRAmBgoJCqIpYpFZQ\n",
       "L0Ljm9k/2c1mc953mJ3f7Pdmv519MwtARzhC4o2cDombToOafQhL7AbUXGjcbGLQCqFx05FHFOGJ\n",
       "BzgQIjfnMUGl01fAmDPkpRbRLFCTy1+OBWKLOJk6M9C0kVcXJKqYLPlBRClixrnhpRbRLNCQMq4F\n",
       "YovIy1VtzvuC54aydJnCE+Az3fuIUWtzCVIHPrGgyUx5I25hhr2HOuXB4exyYLHqHX/i3r0jMRyn\n",
       "yyE8AljUwL1E0rIrSEOTe1cIgYtruEztyh4P5hG4Pglo/lNlmL/8T+4GZZbYgGI/nlNXSdoIXGkh\n",
       "d4fwdtiD/9BTC5wgavj+CmJkkX8pehm52HDDqYO1cSMEkyt9zpH+C6dcbgTebeemrKuMJkjJ07bm\n",
       "JVTxQq+ofYvNFeGGD5mECKG/dBzB6GIhqgtU38SLyJhuWANxIij/dOkDIuATVOSKKVLSiNNlGryW\n",
       "b6BcEG7O5mzCKoP6F+aQ6DgkBNt2oYsJVDZGip1p4YZLbEzMuzKcSXjn6NereAE+QU3LmMM/hnoX\n",
       "6DKBVWrH+m/qwk1s3ibpNfWeke9YnjpPYTUNQZW+skD1onHwjlU3lGBjN3PlO5PwhJGkMkl2q/iO\n",
       "WNoUZZSHJbr7HDHx6QZh1s1+WLQdW2jIv9SOYBZXEjbCruJGgpSX9OB8HrPYi56EJ2eO/6oiOfW+\n",
       "5YY+uCDp3dol6voL0BGsY+GIQLebRkL32jcWkG89ep1WZ1pz5/Af+BJiRjwDafC3AZU2mqBovb5O\n",
       "R7i/Cm1BZwW9BYFWbL3Q7054XK8H5Vs7r4Jx7NjpFnXzEody+7rFMl9th+A7FpoFctNtoy22SPCI\n",
       "lpyDJwQh6/gPI+LM+6ByvU8AAAAASUVORK5CYII=\n",
       "\" style=\"display:inline;vertical-align:middle;\" /></a><br>"
      ],
      "text/plain": [
       "<IPython.core.display.HTML object>"
      ]
     },
     "metadata": {},
     "output_type": "display_data"
    }
   ],
   "source": [
    "b_sub = ExprTuple(y_1_to_n, x_1_to_m, z)"
   ]
  },
  {
   "cell_type": "code",
   "execution_count": 139,
   "metadata": {},
   "outputs": [
    {
     "data": {
      "text/html": [
       "<strong id=\"b_required_len\">b_required_len:</strong> <a class=\"ProveItLink\" href=\"__pv_it/basic_expressions/9201691d22446269338a2548f6b727c4fc405f280/expr.ipynb\"><img src=\"data:image/png;base64,iVBORw0KGgoAAAANSUhEUgAAAfIAAAAVBAMAAABPiXFtAAAAMFBMVEX///8AAAAAAAAAAAAAAAAA\n",
       "AAAAAAAAAAAAAAAAAAAAAAAAAAAAAAAAAAAAAAAAAAAv3aB7AAAAD3RSTlMAIolEdjJUEM2ZZu/d\n",
       "u6v6CvZmAAAACXBIWXMAAA7EAAAOxAGVKw4bAAAE3klEQVRYw82YX2gcRRzHf3t/drp3l8sqgijG\n",
       "HG2xRWy8B/HBglklVeOfeEj/IFay+OKfFrqUirbSeoIg9KENVbCcQVf8m4eQE2MrIjS0pqXYhwsq\n",
       "fStHKRQrlqshRHyJM/Ob2Z3d29l7vYHczQzf3/y+n50/OxewgRUD+qRo7CR024nxvUEMGb6Bfz/R\n",
       "L+QP8c9MNdbd7TLnJsZnnV4ZhGIDjmlW+oU85+vJuctx0fOKUpdltwfwdPr4+ctCIcjfhr4pH+jJ\n",
       "ucuz2EHqYV0U8udxSr7OS3+ydaEQ5I3+IZ/Rk6suLV9Zv7L+PGUqTPXKgApB3uwf8qKnJVddFpW6\n",
       "6SjkcLpnitMhuVnvH/J1vo484vI1LfnRnimOhuQWPToONIC0wz0z7sORtOionLYn3lyvnLZk7PoL\n",
       "96WmjwXwA2rR8CHT1pEzl8wXLyeUepR8JD2rVCA5e86VPVDoBIqM2YS5tCGicoCp3DVrQdmGMOFM\n",
       "p5LHAtjTen8L9VSoS3LrEi9tSc5cZrLNYN6CepT829SsRV8okLzkQt6dhnKLyLCd1NXfZP1N3UGJ\n",
       "cuXUsAurZR8OyQX5Ocx5N2D/yHXtMYMBkSuGB5soRlM359Ql9SUynFfqUfI9aSe7PegKBZIXq0Bg\n",
       "HorO9meFxCs6MG9BbFaU+eFy5UkAs5Efk/oanGRPGLTzjgGxsp86z3d05NQl98XL97JOV8avP4uV\n",
       "wcknU8gJ7POEIiCH7CpM1mCv1Ix6+ZXBqrGivQlxuXrYMhtm+KTm6d8yDNf0h3jXbctgPdlmGjl3\n",
       "LsiDenTOt6ZusmmpCFY7m4JnICQ/CblmwdOTc/nMV2PB23PUJp5Cnr0Fb8E3aeQsoNDYPpGblZpH\n",
       "6JzgEIn7nLmEYyRY7UE9Sr43lfysVCD5AA0daMMV7OTjXWEdkFkA0h3Nxmdy8sVP8B3qD1f/ggza\n",
       "Zk3yW7kJ7K75AKrja04GHNrqF9u5NiYxXSjTA6Clm3PmkixnUPw71hPIZ6XF7qR0WS1LBZKzN4nV\n",
       "zv6H5O+yDfgpjPr8Isxb7IP8q1aY3DhQh1Xs27frE3gYyVnTXDnYzNIpyl+IhQWjYcCdT8Fgjb6t\n",
       "ePfLWx5fxHdXMjlzme/cjeIRrEfJH7TxfYe5EjLj++hESJ5nU3V1/BaSly7QjyMbP7PBuCxaJbao\n",
       "L8rKJU/Iyw7blUxxcMxsuEjOmuQj5/WvqXLIQ3U0Xgm4Bi+xVcyTVMwfKXCpqiNnLuGGj+LdWI+Q\n",
       "3zxzjPacA2ExTHhRUuH76Jxye13k7/C62AKv8nE2A9wFt8mWWkxPyIs1a6qmKvgmDZvGlGELdaSE\n",
       "ih/gORjOqz336O/ti0p4qZZwh+M5F0KL3UnZsYoKQT7DQN9xBXmFYZFTYPyx42PeipUMCPkwlHbW\n",
       "VAUnD5tDO170IJNwDQpsduisz1pqTENPPqOEqz9Msn7XT5nkpGV3zpMKQT5gwy9wFeD24xvpUqXP\n",
       "peSUK1BcW+vwVvwKSP+4/FHI3Q+Kwtj8j6MGnFlbQ3XssAkU2Ta8B/c+qQ7R0pMP2Er4kubwHgos\n",
       "dieddM8HCkFOWvDGuMyWY5P35YdKK1ZY5lAeV+QS1OkKtQfpkslJSxEf1pAvpSS1uOklMeI2/n1H\n",
       "v/xUewxtxq8B3S4NR3M/7flfH1Rs+x9iZFv5+oR/jwAAAABJRU5ErkJggg==\n",
       "\" style=\"display:inline;vertical-align:middle;\" /></a><br>"
      ],
      "text/plain": [
       "<IPython.core.display.HTML object>"
      ]
     },
     "metadata": {},
     "output_type": "display_data"
    }
   ],
   "source": [
    "b_required_len = Equals(Len(b_sub), a_len)"
   ]
  },
  {
   "cell_type": "code",
   "execution_count": 140,
   "metadata": {},
   "outputs": [
    {
     "name": "stdout",
     "output_type": "stream",
     "text": [
      "Expected LambdaApplicationError: Failure to apply (a_{i}, a_{i + 1}, ..., a_{j}, b_{i}, b_{i + 1}, ..., b_{j}) -> ((a_{i} * b_{i}) +  (a_{i + 1} * b_{i + 1}) +  ... +  (a_{j} * b_{j})) to (x_{1}, x_{2}, ..., x_{m}, y_{1}, y_{2}, ..., y_{n}, z, y_{1}, y_{2}, ..., y_{n}, x_{1}, x_{2}, ..., x_{m}, z) assuming {i in Integer, j in Integer, m in Integer, n in Integer, |(x_{1}, x_{2}, ..., x_{m},y_{1}, y_{2}, ..., y_{n}, z)| = |(i, (i + 1), ..., j)|, |(y_{1}, y_{2}, ..., y_{n},x_{1}, x_{2}, ..., x_{m}, z)| = |(i, (i + 1), ..., j)|}:\n",
      "Improper replacement: Improper replacement of (a_{i} * b_{i}), (a_{i + 1} * b_{i + 1}), ..., (a_{j} * b_{j}) via {(a_{i}, a_{i + 1}, ..., a_{j}): (x_{1}, x_{2}, ..., x_{m},y_{1}, y_{2}, ..., y_{n}, z), (b_{i}, b_{i + 1}, ..., b_{j}): (y_{1}, y_{2}, ..., y_{n},x_{1}, x_{2}, ..., x_{m}, z), a: {(a_{i}, a_{i + 1}, ..., a_{j})}, b: {(b_{i}, b_{i + 1}, ..., b_{j})}}:\n",
      "When expanding IndexedVars within an ExprRange whose parameter is the index, their expansion ExprRange indices must all match. (x_{1}, x_{2}, ..., x_{m}, y_{1}, y_{2}, ..., y_{n}, z) vs (y_{1}, y_{2}, ..., y_{n}, x_{1}, x_{2}, ..., x_{m}, z) do not match as respective expansions for a_{_a} and b_{_a}.\n",
      "ExprTuple.align_ranges may be useful.\n",
      "Using multiple, equivalent expansion forms could also help. \n"
     ]
    }
   ],
   "source": [
    "from proveit import LambdaApplicationError\n",
    "try:\n",
    "    dot_prod_map.apply(*a_sub.entries, *b_sub.entries, \n",
    "                       assumptions=[InSet(i, Integer), InSet(j, Integer), \n",
    "                                    InSet(m, Integer), InSet(n, Integer),\n",
    "                                    a_required_len, b_required_len],\n",
    "                       requirements=requirements)\n",
    "    assert False, \"Expecting a LambdaApplicationError error; should not make it to this point\"\n",
    "except LambdaApplicationError as e:\n",
    "    print(\"Expected LambdaApplicationError: %s\"%str(e))"
   ]
  },
  {
   "cell_type": "markdown",
   "metadata": {},
   "source": [
    "Such cases may still be handled, but the iterations must first be equated, via axioms/theorems, to split versions withcommon boundaries.  For example, given the following for the $a$ and $b$ substitutions"
   ]
  },
  {
   "cell_type": "code",
   "execution_count": 141,
   "metadata": {},
   "outputs": [
    {
     "data": {
      "text/html": [
       "<a class=\"ProveItLink\" href=\"__pv_it/basic_expressions/382b702ef71332787af026d0ce9384016c86f9780/expr.ipynb\"><img src=\"data:image/png;base64,iVBORw0KGgoAAAANSUhEUgAAARoAAAAVBAMAAABrvDzoAAAAMFBMVEX///8AAAAAAAAAAAAAAAAA\n",
       "AAAAAAAAAAAAAAAAAAAAAAAAAAAAAAAAAAAAAAAAAAAv3aB7AAAAD3RSTlMAInZUiRDNmWbv3US7\n",
       "qzJazP2FAAAACXBIWXMAAA7EAAAOxAGVKw4bAAADAUlEQVRIx82VTWjUQBiG3ySbZn/MGk9eCg2L\n",
       "0Hoo7MG/enHRWkRaCKVSBauLJ49BaqkVcVXUg2LXiiKIWJQiVCgLXvRQ2gqepGUpLSgoBKoIpfQH\n",
       "rAjCrjOZ7GQ26+45c5jJ+82TN998k0wAGAhHk2gnp0OSTcIk3T6EpbUBajY02TRZ0HKhySZqI4bw\n",
       "tMc4EKJsLmKQ9L3t5zqFLysga5uaWv5+rDrSmsOA4DAMtdjIIQisTknkjekh+QC2vKiN+1MBWds0\n",
       "tJsjVZGIkseoLzMdiG42cggA6oXuHjLcwSvy9hjRbT2H097XxaTa+c2q53UDo9bnqsgKSf8rd0im\n",
       "R6DP9vUs1zNggHDwWThOhg48I3PQiE0y5dWDSQ316+NgKBCxYibGuIOKMcRMGyN1t9oFxEgfXfoG\n",
       "zQZsRuFPp3JnQSrVr/RYMDBjJUu+Q2IbG85ftDh1z10KiH8FN7X3dKeIl6FaQjZURq0G2SS2cAp3\n",
       "H6SKbQteZAhy3ncgxd2L2w2ycQFiYHv6HSkXcBgfgLOFL4iw2tCYJxEZd2VwTwj0Sc8jo957iudo\n",
       "Z/dgHjuKLBtacnI9T4aTTAV3yQOowUNGKGnoZLhPvioc+XEFb1k257NcYtVypfobXldRSqk/n0hL\n",
       "vVmU6AFBw7iGmRxbDyW1YuIPeQEn/nMzwylADbZZbK17zxQZBrEK9KeU4TTLJj7BpfSRSbyG18Vp\n",
       "XSctqJfMg7cA3Uzm6Ua70MDR6warzSSt3lLrFtBsMeXf7F5Q3AV0M5FnREZ5UiDRN4jzvXW99vOK\n",
       "7sYuUXKK1z7myLPSplOBujwHBkSykGzJEHDeGE6AmKPZjkBI4/RXJWaT4VML65cF6Z9z/KqFLC46\n",
       "a7tQJKs+8hwibmZn0mhe/2kJuH/yVYAWxFccgaA/8LnK47t+mVD5IRArlzcF6Z/p/GoaTYa0aLlQ\n",
       "3NQzzMEFXmIJeFEuizh/i80KMA35hEg0009IROXqO+XaldXmRyHl5lURONRaaIgLgEDM8YMnBE02\n",
       "8A+9tdUgZiEK9gAAAABJRU5ErkJggg==\n",
       "\" style=\"display:inline;vertical-align:middle;\" /></a>"
      ],
      "text/plain": [
       "(x_{1}, x_{2}, ..., x_{m},y_{1}, y_{2}, ..., y_{n}, z)"
      ]
     },
     "metadata": {},
     "output_type": "display_data"
    }
   ],
   "source": [
    "a_sub"
   ]
  },
  {
   "cell_type": "code",
   "execution_count": 142,
   "metadata": {},
   "outputs": [
    {
     "data": {
      "text/html": [
       "<a class=\"ProveItLink\" href=\"__pv_it/basic_expressions/a0e53f8083be7b4bc847309fe688ca2fc42b63dd0/expr.ipynb\"><img src=\"data:image/png;base64,iVBORw0KGgoAAAANSUhEUgAAARoAAAAVBAMAAABrvDzoAAAAMFBMVEX///8AAAAAAAAAAAAAAAAA\n",
       "AAAAAAAAAAAAAAAAAAAAAAAAAAAAAAAAAAAAAAAAAAAv3aB7AAAAD3RSTlMAInZUiRDNmWbv3US7\n",
       "qzJazP2FAAAACXBIWXMAAA7EAAAOxAGVKw4bAAACz0lEQVRIx82VT2gTQRTGv93Nuk1q0hUUL5Uu\n",
       "oVoRAzn4Bz1oqLUHaWCQSnuwmnryZpCqVRGjYk+FBkUvQi1IERRKwIs9hQqeRAmBgoJCqIpYpFZQ\n",
       "L0Ljm9k/2c1mc953mJ3f7Pdmv519MwtARzhC4o2cDombToOafQhL7AbUXGjcbGLQCqFx05FHFOGJ\n",
       "BzgQIjfnMUGl01fAmDPkpRbRLFCTy1+OBWKLOJk6M9C0kVcXJKqYLPlBRClixrnhpRbRLNCQMq4F\n",
       "YovIy1VtzvuC54aydJnCE+Az3fuIUWtzCVIHPrGgyUx5I25hhr2HOuXB4exyYLHqHX/i3r0jMRyn\n",
       "yyE8AljUwL1E0rIrSEOTe1cIgYtruEztyh4P5hG4Pglo/lNlmL/8T+4GZZbYgGI/nlNXSdoIXGkh\n",
       "d4fwdtiD/9BTC5wgavj+CmJkkX8pehm52HDDqYO1cSMEkyt9zpH+C6dcbgTebeemrKuMJkjJ07bm\n",
       "JVTxQq+ofYvNFeGGD5mECKG/dBzB6GIhqgtU38SLyJhuWANxIij/dOkDIuATVOSKKVLSiNNlGryW\n",
       "b6BcEG7O5mzCKoP6F+aQ6DgkBNt2oYsJVDZGip1p4YZLbEzMuzKcSXjn6NereAE+QU3LmMM/hnoX\n",
       "6DKBVWrH+m/qwk1s3ibpNfWeke9YnjpPYTUNQZW+skD1onHwjlU3lGBjN3PlO5PwhJGkMkl2q/iO\n",
       "WNoUZZSHJbr7HDHx6QZh1s1+WLQdW2jIv9SOYBZXEjbCruJGgpSX9OB8HrPYi56EJ2eO/6oiOfW+\n",
       "5YY+uCDp3dol6voL0BGsY+GIQLebRkL32jcWkG89ep1WZ1pz5/Af+BJiRjwDafC3AZU2mqBovb5O\n",
       "R7i/Cm1BZwW9BYFWbL3Q7054XK8H5Vs7r4Jx7NjpFnXzEody+7rFMl9th+A7FpoFctNtoy22SPCI\n",
       "lpyDJwQh6/gPI+LM+6ByvU8AAAAASUVORK5CYII=\n",
       "\" style=\"display:inline;vertical-align:middle;\" /></a>"
      ],
      "text/plain": [
       "(y_{1}, y_{2}, ..., y_{n},x_{1}, x_{2}, ..., x_{m}, z)"
      ]
     },
     "metadata": {},
     "output_type": "display_data"
    }
   ],
   "source": [
    "b_sub"
   ]
  },
  {
   "cell_type": "markdown",
   "metadata": {},
   "source": [
    "If we know that $m$ and $n$ are natural numbers and $m \\leq n$, then we can split `a_sub` and `b_sub` respectively into"
   ]
  },
  {
   "cell_type": "code",
   "execution_count": 143,
   "metadata": {},
   "outputs": [
    {
     "data": {
      "text/html": [
       "<strong id=\"a_sub\">a_sub:</strong> <a class=\"ProveItLink\" href=\"__pv_it/basic_expressions/b46c5d6c2f7fa0e5b69bca5ad064ae335092794b0/expr.ipynb\"><img src=\"data:image/png;base64,iVBORw0KGgoAAAANSUhEUgAAAngAAAAZBAMAAABQjk7fAAAAMFBMVEX///8AAAAAAAAAAAAAAAAA\n",
       "AAAAAAAAAAAAAAAAAAAAAAAAAAAAAAAAAAAAAAAAAAAv3aB7AAAAD3RSTlMAZkRUmRDNuyLviTJ2\n",
       "3asqG0tJAAAACXBIWXMAAA7EAAAOxAGVKw4bAAAFB0lEQVRYw+1ZXYgbVRT+ksx0J5kkG9afCooN\n",
       "+CDdhzZiBYuoWbG1itUp1BZ16QZB8EmjIFlbkQjWiogb8UVw0UjpPpRWBqos2kpHWBVLugS0IGgh\n",
       "IlUsi6wLK4t5WO+9M/fOj3dmkvRlH3JgZ3POfOc75565vzMAxjCUAaRML6nysBCDyDF6OTCsw0CS\n",
       "sMjlxWEdBpNLgNYYlmEwWQSU5rAMg8mUgdHisAyDyaYCzhvDMgwmShUXyT+1deXL4641oEpkcvHp\n",
       "kyW/ZQJqx2VYKOBQJIEPHpBY72tA95uLVPTL5utAtoHfaQ2xaO31lNSvyjaI2SWl7bM0dyKxLLRM\n",
       "qoEtUQR+eEBiva8B3W8uUjlw4TCpdnIVNaLchC3Gr+69gCrZ4tQTq/mC71mU9iJfFeoZUto/oh6d\n",
       "Hx4Qx/tuya1sX2hYvXQjO5dUvbdwVI4iQyY7vYvniWJiN+3/Nzr3bPWpT6+ExoNSCYwdzCJtCQYj\n",
       "bWFWPflX2Hxqw8PomTcSxdBDEZN9lXi0IgLG5jKG6HB+nxPkoq3gR6bNkr9zF8XNWeYXMXT/13LS\n",
       "h8+bLsN2Q+8qCAztIDyUnXqHzGPjvCZ6qx2PTjYddGwuIbPeuO8RCHmHVXCF9Twk1/AEcK+go+oK\n",
       "ZiKaV1f9T5J0xe89DLvJdDpa1LqhKxWDhwn1xgPy/QENO8LO5O14NJ510LG5KMWYcL5yF0DsGhu2\n",
       "6kv5Bpp20w2h3kCLZ0h6OXCw+CcySEycW8xuNpkPRjp4zWagAPJ7pJMwCL0qGZUcfv3NLT4sBJfw\n",
       "RpsaF7gTwXa+PkKWh5K3eF60lO64g47NJYfocJyRcdwJkI6qr9G5NtXd30iWWNPVf1wVp5mKqYpz\n",
       "Edr9nz+M27BvayHdyXZss9JJ/m0Xj8Efw3ayoGTaEmcBV8fewwd8AnO4XG+twozONE6xH9EDEXsH\n",
       "JIrnRUvpdoiOE50L3kR0OM5IvfTDr5422XAno0d91NpxHeymXzaEql9iKnKUgF3o/Jgj1v2t1EQJ\n",
       "R7/FqElPdxSkXl1YsxkoAIdOPU7y+MqwNde5DBeuTVawytcvziW8k1VmdLo+xXbxCMm46i2eFy2l\n",
       "u10ULzoXCowMxxkpRwY7n6GdsUGmW9GHadNTrnrM8Klc7hK/lvAFciUOylScOc8GzJEUXvbBuQh4\n",
       "3ko2MF8jUhdcwjvVoQG2Qqf3pwlWb+AH8kSreKj2Sq1WsOc8L1pGN8/Rcbnch5hwnNHlUDpIF33F\n",
       "ywhNK2t1j+ruKcWvD/EdZnTbZw5PlpziNWk26vvAG3jLCxe7Wg5Pm0rZDHAJb5I2MT6o8+XdzFa1\n",
       "ZTMwbH1oGZ0YtnG5zCMmHGdses+2nrcqtOmTbsc7+5nhUcWCITYp2jJ5HJsV2+cXXHUYKCBn5ZvQ\n",
       "jpzd5YG7xyEOn0HujBngEt5kCSDGn+9xnGZIZ0hUy8havgXDg5bStRx0bC45RIfjjB6OKQO6eJ/3\n",
       "9gunvHvyj9fXZVt0d9Od7OA5vPuNDbpjoegwUEDqFrJ1SK+vL8v26AK+DdlPglzCG9PUeIGfY7Zh\n",
       "U11bMjBS562Z+9fyoaV00w46NhfCGxmOM3o4biV/v23QlxbjUutByDZeYWi1KkeHbKd7D0flJ2zc\n",
       "bxiK7LCJPfItfwiaWZWewu1BP+HgfMNIbdRXySdkGRf7QffzVTVj9BXO+Xq2Yb/bqj3aIu7086LX\n",
       "6CscsAv4D8EV7s3S12GwAAAAAElFTkSuQmCC\n",
       "\" style=\"display:inline;vertical-align:middle;\" /></a><br>"
      ],
      "text/plain": [
       "<IPython.core.display.HTML object>"
      ]
     },
     "metadata": {},
     "output_type": "display_data"
    }
   ],
   "source": [
    "from proveit.numbers import subtract\n",
    "a_sub = ExprTuple(x_1_to_m, var_range(y, one, subtract(n, m)),\n",
    "                  ExprRange(k, IndexedVar(y, Add(subtract(n, m), k)),\n",
    "                            one, m), z)"
   ]
  },
  {
   "cell_type": "code",
   "execution_count": 144,
   "metadata": {},
   "outputs": [
    {
     "data": {
      "text/html": [
       "<strong id=\"b_sub\">b_sub:</strong> <a class=\"ProveItLink\" href=\"__pv_it/basic_expressions/4f0fe9e50c70e64ef82a4d2afb7d185f26de2d540/expr.ipynb\"><img src=\"data:image/png;base64,iVBORw0KGgoAAAANSUhEUgAAAhgAAAAZBAMAAACBaUqvAAAAMFBMVEX///8AAAAAAAAAAAAAAAAA\n",
       "AAAAAAAAAAAAAAAAAAAAAAAAAAAAAAAAAAAAAAAAAAAv3aB7AAAAD3RSTlMAZkRUmRDNuyLviTJ2\n",
       "3asqG0tJAAAACXBIWXMAAA7EAAAOxAGVKw4bAAAEe0lEQVRYw+2ZX4hUdRTHvzNzr3vnzszuIIkP\n",
       "SS74IL3kRPrgS80G/TFQryBKtegQBD7F+BBTGjJBtj5EO9FDQVITkQ+iMqAiouEEW2Fsy0IFPSgM\n",
       "REWyxLawIe3Ddn5/53fv/d1xKBd6uAf27v2dc36f89vz+38XwHqkQlJlj1w1TQSTKfY4kOaBS6ZL\n",
       "j6NpHoT8CHitNA1C5gCnnaZByOEAY+NpGoSsK+NGkKZBiFPHd2kWpBRb+BVwZ8o41FdOTsDtDaoV\n",
       "c4gAMKxtGPa9a8y9eLaSWLx3BZLC7c6bQHYZDcDPtbC5b2rvRGZxEC3mEAFgWNswbHYsbFocu/rk\n",
       "WFxw5o2DZLhoO2rGPA58e4w6oLCCV4CLZPsN+2oyTZXdGK2/cOGXJJhwMDUCEBaFs9jcs38EQ7OR\n",
       "cF9w1FmpmVkeLetwojgggqpgykn45O4t4QcgyHdxujArs+XiNPLdKnYn0YSDqeGAcDs1zmJzkNh3\n",
       "UTa7KtinTVYeCQpwakY4URwQQXpEwn7OHktsZGBbQEMkp6rT3LnRWcJ0JwnHHUIaDtAywsf2fKJt\n",
       "bNxbGZLNBolj3/xfVi88eTocLw6KgEhPMnmHPTw+TfA0W0k1jhJ3ExsGJIM7PPDgbO/L41LDAJmJ\n",
       "63PFjZ1YMuK2TJDc1AibJaMEplDXSY36TPdE0w2MZLDioAjSQ7eI9UAZNE0Kd/l8PoGRnsCxmUbv\n",
       "J+jXeTZo48NYOrjr38PH7ATLNQyw7+FyvlfsmclIssGft7B1cM0WyXgbTPGhWosUarvgHxz/HX4/\n",
       "nCyyCAisEYSHwvBmPAb0+KC8SYU92FYWuL9Y5/Syf1Ke6N5yuCZVoRfu4E3WsILnpIYBTn6NsQ4/\n",
       "3OtkJNnwRRBB6lKILZKxFUyxrBY7hdoqaj1xeRe29MPJIosQbzl/ER4Kw9SFY2+cpzGSadGUBg6d\n",
       "29sUI+M2ldw7M3fpek9vJUoIW2FRqqoXpuEOo91CC99LDQcs4CpKFTzTeL3RELlNsnmvRtn8oYNL\n",
       "ttNofNA4isdBimwLVxokGoUrgrF/NjdRgQ4niywC5/VbriJID4lhdXzsfIn3A/J8eTojJ3mODy2/\n",
       "Bq/q0e6+IzbQhIYc8p1i3VvsKA0BPsI3mC6E1owE21s4ZWPr4JrNRwb91fmOU1VLmEJth8kwwukI\n",
       "ucAeIYTZYd5NaKj4Nfd9ifN525+vYOraJaoYv9G2lcM0dVemXuUaDvAWKdsbnVAy7Dbv+LWnbGw/\n",
       "xlYL6DRKF2UyNGoWJkOFk048gm+NEMG0zVsrDchSd7QN78zftONMkvIW7gCfrK7SmI3tQVzDHR7B\n",
       "uqa3EHANB2R7OIJ3v1J/MMMl2PKrq4sWdj+4YotkjDRJUfxU7b0K9ZrZPh1Obp4sAufFI4QxRjMe\n",
       "op+fkdv0pHnIfXRGbezF+GUGIQepMQD6nDGMzXLCDrFFMrLWLy5uPcYoJp3YB2iMOj+tyTdQ51/a\n",
       "kj5ZP2sFNdfiG2juf/+py7fdM+77Pzim1gZ73yUYUvefhFbcfwBsAL2l3k3XIAAAAABJRU5ErkJg\n",
       "gg==\n",
       "\" style=\"display:inline;vertical-align:middle;\" /></a><br>"
      ],
      "text/plain": [
       "<IPython.core.display.HTML object>"
      ]
     },
     "metadata": {},
     "output_type": "display_data"
    }
   ],
   "source": [
    "b_sub = ExprTuple(y_1_to_m, \n",
    "                  ExprRange(k, IndexedVar(y, Add(m, k)), \n",
    "                            one, subtract(n, m)),\n",
    "                  x_1_to_m, z)"
   ]
  },
  {
   "cell_type": "markdown",
   "metadata": {},
   "source": [
    "Now the `ExpRange` start and end indices line up: $1$ to $m$, $1$ to $n-m$, and $1$ to $m$, and the last entry is a singular element for both of them.  Now we can apply the map:"
   ]
  },
  {
   "cell_type": "code",
   "execution_count": 145,
   "metadata": {},
   "outputs": [
    {
     "data": {
      "text/html": [
       "<a class=\"ProveItLink\" href=\"__pv_it/basic_expressions/73986090bca48415f5115ab9d92caaeb3a190a030/expr.ipynb\"><img src=\"data:image/png;base64,iVBORw0KGgoAAAANSUhEUgAABToAAAAZBAMAAADj+ozBAAAAMFBMVEX///8AAAAAAAAAAAAAAAAA\n",
       "AAAAAAAAAAAAAAAAAAAAAAAAAAAAAAAAAAAAAAAAAAAv3aB7AAAAD3RSTlMAInZUiRDNmWbv3US7\n",
       "qzJazP2FAAAACXBIWXMAAA7EAAAOxAGVKw4bAAAKYklEQVR42u1bfYhcVxU/87VvvnYyBusXKxnX\n",
       "atLgwlpDYgLq0o8ghcAjaFuhNeMfgYAEp5LWNa24Vkwo2dpREfysqyUsTrEMmj8MtHS2VIg4LUP6\n",
       "gUKFIVWkJTQbMEVY2Pjuve/ee+59533NPv+R3D+Wffeec36/c3733Xffe/MAbrQErdzPNJxjHZ/J\n",
       "MtjWuHYS2JzJoASdhHbN5IO5yQMlNkkFGWHZnNSRavuyney5gXFY6GQYbItcZ+JNtkaXxmmGyJKf\n",
       "jwrye+Poo5DclmrRWBNA4lZrpYaiHKlWame8Fj9qHN2dZbAtci3HFmOrdCkcSi0uy57o+bSET5qF\n",
       "5LZk25OEdxpIo+1KDUU5Uq2+lPHsrLr46EKWwbbK9WysxYVMSnA2Vq1d8afa0RQnzdFslqCjE56n\n",
       "U+6EK8iUG2Pwwaz3sfkRvoR1Mwy2Za5zsTuJbiYlmIudGJ4sTsypdpr//SP/uwjJba1VmqM4yU7r\n",
       "NJDGxaKTGiroSPGGE1nPztI1lKOzkEmwjLgeccOKkRFdAodWy5OlEhOkwoPcyv/vprC1NtJ8l1FJ\n",
       "xjsNpNF+nBoq6Ejxho3MHwIcA53jtn4mwTLiOrUUVoys6AZxKmGy7E0UhPMqtJPbkirvTcM7GWRQ\n",
       "pVRQQUeKd+Na5rPzEST3FTeTYBlxdQYxs3PLdIM4e8NkYReCw3NfvsO4aSrtXIL7xb/FkeLFl/SE\n",
       "tqTKJBZrhxehpDdPFqQ5CESHbIcsqEkcKd75FSNN+vIaM261W5Dcu6OoheLNvvaP241gmmvqYFiV\n",
       "fDdmdu5OnWyQsYXD1Gr0xh9Qg+LgEF82OvmLzgoOVCx04Qn/4t9WvPialtCWVJnEYm1hP5TX9X7D\n",
       "hDQHgeiQ7ZQJNZEjxXu6baRJtrhxqz2Pdi+vR1ELXXpgrnXSCKa5pg6GValdi5mdr6dONsjYwmFq\n",
       "3X3zi/qMEgen4ClvNjTL16aNfembHtU3fH26ild1PrktqTKJxc6U+ZMwPdDGBqQ1CMEO1fYbUJM5\n",
       "UrzrAyNNspHjn6TusMXlcaxLNVTUCs1QB7t9B55w/+r/L4IprumDYVUamzGzc6iSpdKDVliFMGML\n",
       "x1MLboKi3jKIg/3wc88OHLZa3cuXrNK73h+30oIfio7GOpzs9X7a6/0OKn1pW7rj7yzSkba0FR3I\n",
       "1jhper3f/qzXGyEsvdwzuJIHVtFZmZBisHRK3Oi1A9YiDB++YkAJuy8cei3KUQwjR4r31EiWhL5k\n",
       "6ZJZopP3D/wBwY6+LtVxRY1+RdgxsxRlH8NDqscLhrkmDIY0xKrmNshiGHRFsnR6DnV/rhnrB1Mb\n",
       "hloe/J3K1D+4IgaYZo1ZsbSvimtFY1N01PRCVulLWwf4daDakbaioxazdios1Fb9VV6c/2LNNyH5\n",
       "4KXdfIgjmta83mL4vAnF7TpwMspRDJ+PXju5M0szZFVQJbM0ordm57gIfV2qVUktZLN4zszSLzs/\n",
       "F0SPCKa5xgZzwNIQqVraiFk7V2WydHq1heAURYz1Ob1hTYzt2HS70PMpXtlmyYUC2g4+xDatvEP0\n",
       "qiu7sN3Wz20atqID2YZd2X0s+3xr+zt7YWxCisEDYdbAr9UH1B8Nxe02YMc4wlEMH4ienWztFCWJ\n",
       "aOZ4nf15GEIeMoNPSpTquKTm9MMddJZyFlyFL/o9O8Ym19hgdf5gCGmIVM3FXdmPy2Tp9PjLlDo5\n",
       "bzljtXZaV/baErj4ObPLknsB4L7+36AIxux8Ceoj0VEeKF71lrQtuygzZis6kC2pssIqL16ayy/r\n",
       "ZcwDewlOf392tOvlICQfxMKY1ki3ZQNK2H0PzU7CUQwvJ5idPM3FSzvVOwMVB5VB5cXlWQHKochO\n",
       "8itNU25OrQrhDtbsLP1lugsLfo8IprnGBmPssIZY1cbVBLOTz48VHlVuFVTut0sAU2SfsSobxmFq\n",
       "fQpAr/biYJk9TPncP78JfzBn57fg+SXRId4M3Cqf9Pi2UFwxbXkHsuXbB77Ze1eTUFj3nl+qjNAL\n",
       "OGdU+0/pzE/gl/z9lgXJBs2107BGup0woHxHuCvSkQ9rR05XkZf3wQM/Tcbbv9dAcXQZdF5Mnlwb\n",
       "KIdCx7pnf0NyfR+EO1izs7B5T7c27/cY9+yDBMHE0qY1xKqie2lxU6AqguiyZL30WNQf+DFU7vt8\n",
       "AEtkwViXDd+ze2o1XnzhLjWT/YMT8DbAPbOFxXlzdt5/27eboqOqN0iNFWULb7umLe9Atnz7wP+s\n",
       "ahIK66aPw7YxeiNWenXn1dzhNmzyeWJBskFjdprWSLenDSjfsXE20pEPI8dVg7z/DLHrp8l4+4mj\n",
       "OLoMOi8mT20AlEON4T6GFqNbJNdnIdzBXju/3tr3XdnzGH7e2U0QTMxOrSFWtdw1i6ErguiyZL1I\n",
       "LKp8+q9yf9YHsEQWjHXZMI6nVhH2f1U/nhMHT0N1bG73ZDvod3wIlfEZvWn4k2XLO7AteXehsC7C\n",
       "W/42VvJpw3Sr0eU7kACkN2hsuZC1Mxz+YnhBDOdWbCjmOONGOrJh7EjxFqc5S/Oit1NvDL22puni\n",
       "Mvh5PTL883C4VBiRDg2xEuscxdLnUfsMhDjgLM12AFQwzDUqmM/O0lCp6oxiruyC7kFg6U23vFvY\n",
       "ywyhqTS9LAECIvO1XZYN41TH1D7Vk6XcIWZnsV36kd8hfoYh3v+fVgbvh/eYtrwD21obYv4wTWM9\n",
       "CZ+AHQ2k65fmoTLOD3Lr4wAkH8TCmNZ6VRG/JdBQ3C7XyTUjHPkwdqR4s3tKkeaT8A3JWsdBZVB5\n",
       "scWDTUPCgV9bj6Ec2YMJTu0yhDsE7orQ7DxmcY0NVrc0xKpOhRZD0+XJsvQqY6cztjSVV3ZbZKts\n",
       "U0vUxDDulb2xNWJ2VlvTC6LD+OF1Xeqce/mdBw1b3pEbxL0ukFi5de/EWtaPHX4Dr3p3nt55VR50\n",
       "ApB8EAtjWCPdZiwobjfzzr/cCEc+HPt78BMyzXV45rN+n46DyqDy8u+KKId8S/2syFdhwadWhVCH\n",
       "qNlpBGNcY4PVLQ2xqkfiXqN7dMX8WGFRq2+OLU1nJYAlslU2A2eNAmKy3Ce5Hfy3Ws0Ljz7sd9Tx\n",
       "C4eSnDeV69fXDVveUY/9WEJi1UbwFfjwx1T/p3d6y8dzMNXMXXQDkHzwvV+7jbYWuvHhNQuK2/3q\n",
       "+vUoRz68Fsf7LT9Nj/fNclHRcXQZdF51UXPKgeVXxg8jvUudoOaNhDnoLI3Ge4xgjGtssLqlIVb1\n",
       "8bhieHR5sqxsz0H+87ama3LbbYlsle1xamIE1rJcK4rKR4yj7ZDcltxJtBK8j00DqW+9vfuBZkoo\n",
       "2pFq08k/A8HPO8+FnqJVA/IV/CA75JyOuC6ZwSTXqGD1COa/js3tFfxgP/jmbBADQOFQauWb8H/Q\n",
       "Ov97x/Tf6vALmkPW9wEI/a7oAQhziCIb8l1RRDAnPFiK74ro9HivExskAc6NlrDtmcztTkqWfvCb\n",
       "TLnMFd0Qh8gL0oDmOlGwRN9kLkSkl/Rz4pkbkyqzNuE34qWQPscNUdRNGMRYrNwQrpMEgwcTpHUm\n",
       "KljC3yYnwYH/Ap6JWHX/EPxhAAAAAElFTkSuQmCC\n",
       "\" style=\"display:inline;vertical-align:middle;\" /></a>"
      ],
      "text/plain": [
       "(x_{1} * y_{1}) +  (x_{2} * y_{2}) +  ... +  (x_{m} * y_{m})+ (y_{1} * y_{m + 1}) +  (y_{2} * y_{m + 2}) +  ... +  (y_{n - m} * y_{m + (n - m)})+ (y_{(n - m) + 1} * x_{1}) +  (y_{(n - m) + 2} * x_{2}) +  ... +  (y_{(n - m) + m} * x_{m}) + (z * z)"
      ]
     },
     "metadata": {},
     "output_type": "display_data"
    }
   ],
   "source": [
    "a_required_len = Equals(Len(a_sub), a_len)\n",
    "b_required_len = Equals(Len(b_sub), a_len)\n",
    "dot_prod_map.apply(*a_sub.entries, *b_sub.entries, \n",
    "                   assumptions=[InSet(i, Integer), InSet(j, Integer), \n",
    "                                InSet(m, Integer), InSet(n, Integer),\n",
    "                                a_required_len, b_required_len],\n",
    "                   requirements=requirements)"
   ]
  },
  {
   "cell_type": "markdown",
   "metadata": {},
   "source": [
    "All of the variables that are indexed by the range parameter (which ranges from the start to the end) must be expanded together unless the indices of the expansion match with iteration indices, not just equal in length."
   ]
  },
  {
   "cell_type": "code",
   "execution_count": 146,
   "metadata": {},
   "outputs": [
    {
     "data": {
      "text/html": [
       "<strong id=\"dot_prod_map\">dot_prod_map:</strong> <a class=\"ProveItLink\" href=\"__pv_it/basic_expressions/a4fb332cc868d3fc53a001b9fcba7ab3d5c0fce90/expr.ipynb\"><img src=\"data:image/png;base64,iVBORw0KGgoAAAANSUhEUgAAAhUAAAAWCAMAAABAMZ7LAAAANlBMVEX///8AAAAAAAAAAAAAAAAA\n",
       "AAAAAAAAAAAAAAAAAAAAAAAAAAAAAAAAAAAAAAAAAAAAAAAAAABHL6OuAAAAEXRSTlMAInZUiRDN\n",
       "mWbv3US7qzLz6SJmQj4AAAAJcEhZcwAADsQAAA7EAZUrDhsAAARrSURBVGje7VrblqUoDEUQUUF7\n",
       "/P+fHRRRgQQDelb70DxUrAokO9sYbsWYbQ37RGuqejc/c9R8KNqf203o5OIbWaF5QWcPugY8zdGP\n",
       "aSmKtpyXWjheipZ9pPGe3NWDpoGXZhhLHT2gJXb3OFpWzEs5Qg/HSdmxz7ROUnnvQnlvWRU6ekZL\n",
       "5O5htAX52NUj9HA2qfrvZEWviB09aDL4ReQd6R7xUNcWURGtLnb5AHWK0MPZ5MA+1Abk8+HRGmqI\n",
       "5C19i8w7EvEs/4iWxB0pWlG80qhHDSH0cKwU3ZeyojtzPUAtws/KgyaDb0fcEcjvM1rasTTad7KC\n",
       "jhpC6OFYqfzypJla3sC4MqoHOyjIaDsdjyHs8DcPmgLeBTpxPgnYEcgv2TLNHfJqppezgo4aQujh\n",
       "WOkTRA+2SBtXV2RYrzOqB0X2YpSx2c9tHZIHwiBZTUIoF7uEkktzqvsuzy/VMrzmS9whC4vu5ayA\n",
       "UJ/kwghT8q0cXcLIYTWo3KtoA2cZ1abua4ptYNSmwI5MDEhWMG4uU8oOmgB+N7sRNPBTLYY8vzTL\n",
       "SOypO3hMBOJ5VkCoT3JhhCn5Vg7a1Z5l00O7XVjlJ/qZ87EiKxB/83I8/vlvDNqy6HNdpAMJG7Pf\n",
       "w+Fte1payJHarA/DJqbIQ0HsWXfwmAMEjCHLXznqK0QI4QHHyt3QYLZRGlopg6qzoouarED8abRW\n",
       "6O7SN8oKxNh4LFE3gvR1M6ZvakXWMhx7zh08Rr9dK+5e5gERQnjAsdIVHbms9vstWTSfwgQDVc+y\n",
       "4mqUSa5Eaiu0OgdHPuEMkgF/3ZwrWzUPdQwarsWVsafu4DHR6LdmEIxcCCFEvpWGO0OrauqYaCRn\n",
       "++LKv8BUBUZJ2qKnRtfieuyoeoNkRRes2gy/SgThlYTZTbanujd5frOWb7MicQePiUA8z4oEdUAu\n",
       "gBAk38p9O7LaE7bAKNZIB/uYhFIVGOU5aR1PmYfTKJOStSreWtlvM3NecdlD4QgvbbLxG2viVKs2\n",
       "z2/W8l1WpO7gMRGICEOGPTLqgFwAIUi+lfP+Tifezs3E5/NLHEcJq5SxbVh/9Ncoff/r9JU+AEYv\n",
       "xzmjRnb24TJ6B50BH1Woqd3Pgr06dhTzi1lGYs+6Q8dEIJL5AKeRjjo9sAsRAuSvMtm3yEW6PwnJ\n",
       "MBWY+4Iyh4Cd9o0za6hLFA8aB4+tZ5w6cZRU75xl8poqP6a5WdtUnHgDm9CDXKzF5G8yuSiy84z7\n",
       "U7pNPVRglKRLXKjT7Nfi5Mud4CYHQQjSuKsTR8k9U84yOSvyY2IQL9yOAdeL883dSEK+k6aJq4u7\n",
       "i5IcKDzHNZWPsmm7xR3VSEqqg538Sr0xZD48aAw85t6pKY4yltPY8+7gMQXRsmJeUnKxFpO/S4mg\n",
       "y79kU9g/18nPbIZ+nO5BS/MOd7gHUuwEl1Ugyrf8BiMXazH5XlZdfKm34ui0r2G8hCYPugY8zRFu\n",
       "Wb3BF//NP26GqE9yqeTzb/wTr+JKsn/t75CL6P8HcT0tTs1pIvMAAAAASUVORK5CYII=\n",
       "\" style=\"display:inline;vertical-align:middle;\" /></a><br>"
      ],
      "text/plain": [
       "<IPython.core.display.HTML object>"
      ]
     },
     "metadata": {},
     "output_type": "display_data"
    }
   ],
   "source": [
    "b_k = IndexedVar(b, k)\n",
    "b_i_to_j = var_range(b, i, j)\n",
    "dot_prod_map = Lambda((a_i_to_j),\n",
    "                      Add(ExprRange(k, Mult(a_k, b_k), i, j)))"
   ]
  },
  {
   "cell_type": "code",
   "execution_count": 147,
   "metadata": {},
   "outputs": [
    {
     "name": "stdout",
     "output_type": "stream",
     "text": [
      "Expected LambdaApplicationError: Failure to apply (a_{i}, a_{i + 1}, ..., a_{j}) -> ((a_{i} * b_{i}) +  (a_{i + 1} * b_{i + 1}) +  ... +  (a_{j} * b_{j})) to (x_{1}, x_{2}, ..., x_{m}, y_{1}, y_{2}, ..., y_{n - m}, y_{(n - m) + 1}, y_{(n - m) + 2}, ..., y_{(n - m) + m}, z) assuming {i in Integer, j in Integer, m in Integer, n in Integer, |(x_{1}, x_{2}, ..., x_{m},y_{1}, y_{2}, ..., y_{n - m},y_{(n - m) + 1}, y_{(n - m) + 2}, ..., y_{(n - m) + m}, z)| = |(i, (i + 1), ..., j)|}:\n",
      "Improper replacement: Improper replacement of (a_{i} * b_{i}), (a_{i + 1} * b_{i + 1}), ..., (a_{j} * b_{j}) via {(a_{i}, a_{i + 1}, ..., a_{j}): (x_{1}, x_{2}, ..., x_{m},y_{1}, y_{2}, ..., y_{n - m},y_{(n - m) + 1}, y_{(n - m) + 2}, ..., y_{(n - m) + m}, z), a: {(a_{i}, a_{i + 1}, ..., a_{j})}}:\n",
      "ExprRange indices failed to match expansion which is necessary because not all of the indexed variables being indexed by the ExprRange parameter are being expanded (a is expanded but b is not): Proof step failed assuming {i in Integer, j in Integer, m in Integer, n in Integer, |(x_{1}, x_{2}, ..., x_{m},y_{1}, y_{2}, ..., y_{n - m},y_{(n - m) + 1}, y_{(n - m) + 2}, ..., y_{(n - m) + m}, z)| = |(i, (i + 1), ..., j)|}:\n",
      "Attempting to instantiate |- forall_{n in NaturalPos} [forall_{f_{1}, f_{2}, ..., f_{n}, i_{1}, i_{2}, ..., i_{n}, j_{1}, j_{2}, ..., j_{n} | ((j_{1} - i_{1} + 1) in Natural), ((j_{2} - i_{2} + 1) in Natural), ..., ((j_{n} - i_{n} + 1) in Natural)} (|(f_{1}(i_{1}), f_{1}(i_{1} + 1), ..., f_{1}(j_{1}), f_{2}(i_{2}), f_{2}(i_{2} + 1), ..., f_{2}(j_{2}), ......, f_{n}(i_{n}), f_{n}(i_{n} + 1), ..., f_{n}(j_{n}))| \\\\  = ((j_{1} - i_{1} + 1) +  (j_{2} - i_{2} + 1) +  ... +  (j_{n} - i_{n} + 1)))] with {n: 4, f: (_a -> (_a + (i - 1)), _a -> (_a + (m + i - 1)), _a -> (_a + (n + i - 1)), _b -> (m + n + i)), i: (1, 1, 1, 1), j: (m, n - m, m, 1)}:\n",
      "Unsatisfied condition: (m - 1 + 1) in Natural. For debugging purposes, this is accessible via Instantiation.unsatisfied_condition with applicable assumptions in Instantiation.condition_assumptions.. \n"
     ]
    }
   ],
   "source": [
    "try:\n",
    "    dot_prod_map.apply(*a_sub.entries, \n",
    "                       assumptions=[InSet(i, Integer), InSet(j, Integer), \n",
    "                                    InSet(m, Integer), InSet(n, Integer),\n",
    "                                    a_required_len],\n",
    "                       requirements=requirements)\n",
    "    assert False, \"Expecting a LambdaApplicationError error; should not make it to this point\"\n",
    "except LambdaApplicationError as e:\n",
    "    print(\"Expected LambdaApplicationError: %s\"%str(e))"
   ]
  },
  {
   "cell_type": "markdown",
   "metadata": {},
   "source": [
    "Let's try an example where the indices do match.  This time, we'll do it properly by proving the equivalences via proofs.  (This is using some advanced concepts to be discussed in later chapters, but we'll probably rearrange this anyway)."
   ]
  },
  {
   "cell_type": "code",
   "execution_count": 148,
   "metadata": {},
   "outputs": [
    {
     "data": {
      "text/html": [
       "<strong id=\"a_i_to_j__partition\">a_i_to_j__partition:</strong> <span style=\"font-size:20px;\"><a class=\"ProveItLink\" href=\"../packages/proveit/core_expr_types/tuples/__pv_it/theorems/1a0f35dd914089b5473d6cf135d661e2318d96e10/expr.ipynb\"><img src=\"data:image/png;base64,iVBORw0KGgoAAAANSUhEUgAAAGEAAAAVBAMAAACkm51HAAAAMFBMVEX///8AAAAAAAAAAAAAAAAA\n",
       "AAAAAAAAAAAAAAAAAAAAAAAAAAAAAAAAAAAAAAAAAAAv3aB7AAAAD3RSTlMAInZUiRDNmWbv3US7\n",
       "qzJazP2FAAAACXBIWXMAAA7EAAAOxAGVKw4bAAABlklEQVQ4y2NgYBBgwApwCAMBkwF28U1o/Kg/\n",
       "xwIYPH9uYGAwAXHfBKDJqzMwNaAJHea+wMD6gYGBNQHEU0O3YQkDQyqa0C0BDwaGCQwM7A24nNuO\n",
       "xr98gE2AYQEDAydOD3JCXMp0atUyMONiE2MCSIcZTh1sYNu5k2BevMj7QAWkowTIZlW6gKqYVR2o\n",
       "mgUsKAYPk4sMB3g2AHVkANnsDDNQdbBwA33IAQ6TRAaEjuesS4E6FgPZigyfUXU8ZgeqZp4AYiYg\n",
       "6eAwsAGKzQayA5i/goTCVoHAOpAApwIDAx8w7Bn4ZgGF1kB1MFzlhepgYF+A5mt7oOtBLmNgPYBk\n",
       "B0MsK9RVDFwOaDpyWYGuAhuzAFkHnwLQgEMgjvwGtLD6zQL0Odh4JbjgOSDWA4r5gjj9aFbwfZAA\n",
       "OhVsMRs8oSaDnA8MiFcgzh302LsBjA8usMWsd7ZChJ79PABJhVwPgLxJ2OJcCkJx+0BTCQxwFDBc\n",
       "5viKTUcFruRzkO8zF7ZMxXgAl44YhqJqbOI8OLMtowJ2cUUc6gEU+1zyNSwQMQAAAABJRU5ErkJg\n",
       "gg==\n",
       "\" style=\"display:inline;vertical-align:middle;\" /></a> <a class=\"ProveItLink\" href=\"__pv_it/basic_expressions/34241dd1cbb534e4395f77cebcc3fe7b0c05fb4f0/proof.ipynb\" style=\"text-decoration: none\">&nbsp;&#x22A2;&nbsp;&nbsp;</a><a class=\"ProveItLink\" href=\"__pv_it/basic_expressions/b97abdb81160a10934b30814ddd40eeb5b3085c00/expr.ipynb\"><img src=\"data:image/png;base64,iVBORw0KGgoAAAANSUhEUgAAAMIAAAAvBAMAAABDFQheAAAAMFBMVEX///8AAAAAAAAAAAAAAAAA\n",
       "AAAAAAAAAAAAAAAAAAAAAAAAAAAAAAAAAAAAAAAAAAAv3aB7AAAAD3RSTlMAInZUiRDNmWbv3US7\n",
       "qzJazP2FAAAACXBIWXMAAA7EAAAOxAGVKw4bAAACiUlEQVRYw+2WP2gUQRTGv3NvsrlLNIskXQIX\n",
       "EBIE5YQk4FXheuUSsRCMd2U6t7BKY6pUgqYICElxkEggooR0aeTOKsVB5BDr004bgxIbm7zZfzeb\n",
       "zYwLedv5YO/mZt67b2fmzZsfAAeXtpxx9Er58gpDJdPoDBhs2jAmGhwKAzX9mL3KoTDo6scKYLEN\n",
       "/dAcj8KyfuiZTLbPk0oyTFSvp03Sftw9s/ihM3wKLASZt47jGkSaU+LHoUfPmvy9sift3TmvbUqn\n",
       "17CbQNXveLSKFSAfvpxY06ehH4f39NzVv8cmpdMJivNRx3NgJ2jKBPl2U5+GStxPo0Khhfp+1LEF\n",
       "8TdotuRHRZ+GStyhXoFWqV7CS+Dgkz/1Xxg8wdCtFAp+nJgqh14X78NH8izjizVWok2jkyl+42rj\n",
       "zuJITVVInliBIM6xLVkVXujnQGk2XLJ27dyDJsQfT7LiumMVdQ5ef72hNLwPLw4P826Q9Br7QXHd\n",
       "+xO3yR/Yo5dduvG12yMdu9PZ6hz5c5D9RflHuwgaxTdhHAZk3XmrVyj2wlV9AljhcojTnrpKVnKZ\n",
       "ZqPWCB2dXDNFzZqz6RSEvVbDVRXyybh+en//V/1sB99Lk8BitJFdJ1AYfVpV+vs73S8zMu3GTUf/\n",
       "sdI+d1W1NP3yZozXnbaxfOlvQDfN3fPhFek5yM7sqRr+G4dluUs5LiIzo9pMpgs0zUVkJlTjITJT\n",
       "2StknEcbXERmoCUmIjOgGhORGVCNichirnFUYyIyqK5xVGMiMqiucVRjIrKYQhzVmIgsUkiiGhOR\n",
       "RQpJVOMgsmsdsrbvmkQ1HiJT9iGBajxEpigkUY2FyDzzXC9ANRYiM6IaB5FlimpaIgsHzgDQP/N9\n",
       "A0nRhgAAAABJRU5ErkJggg==\n",
       "\" style=\"display:inline;vertical-align:middle;\" /></a></span><br>"
      ],
      "text/plain": [
       "<IPython.core.display.HTML object>"
      ]
     },
     "metadata": {},
     "output_type": "display_data"
    }
   ],
   "source": [
    "from proveit.numbers import subtract, Natural\n",
    "j_m_1 = subtract(j, one)\n",
    "j_m_i = subtract(j, i)\n",
    "j_m_i__in__Natural = InSet(j_m_i, Natural)\n",
    "a_i_to_j__partition = \\\n",
    "    a_i_to_j.partition(j_m_1, assumptions=[j_m_i__in__Natural])"
   ]
  },
  {
   "cell_type": "code",
   "execution_count": 149,
   "metadata": {},
   "outputs": [
    {
     "data": {
      "text/html": [
       "<span style=\"font-size:20px;\"><a class=\"ProveItLink\" href=\"../packages/proveit/core_expr_types/tuples/__pv_it/theorems/1a0f35dd914089b5473d6cf135d661e2318d96e10/expr.ipynb\"><img src=\"data:image/png;base64,iVBORw0KGgoAAAANSUhEUgAAAGEAAAAVBAMAAACkm51HAAAAMFBMVEX///8AAAAAAAAAAAAAAAAA\n",
       "AAAAAAAAAAAAAAAAAAAAAAAAAAAAAAAAAAAAAAAAAAAv3aB7AAAAD3RSTlMAInZUiRDNmWbv3US7\n",
       "qzJazP2FAAAACXBIWXMAAA7EAAAOxAGVKw4bAAABlklEQVQ4y2NgYBBgwApwCAMBkwF28U1o/Kg/\n",
       "xwIYPH9uYGAwAXHfBKDJqzMwNaAJHea+wMD6gYGBNQHEU0O3YQkDQyqa0C0BDwaGCQwM7A24nNuO\n",
       "xr98gE2AYQEDAydOD3JCXMp0atUyMONiE2MCSIcZTh1sYNu5k2BevMj7QAWkowTIZlW6gKqYVR2o\n",
       "mgUsKAYPk4sMB3g2AHVkANnsDDNQdbBwA33IAQ6TRAaEjuesS4E6FgPZigyfUXU8ZgeqZp4AYiYg\n",
       "6eAwsAGKzQayA5i/goTCVoHAOpAApwIDAx8w7Bn4ZgGF1kB1MFzlhepgYF+A5mt7oOtBLmNgPYBk\n",
       "B0MsK9RVDFwOaDpyWYGuAhuzAFkHnwLQgEMgjvwGtLD6zQL0Odh4JbjgOSDWA4r5gjj9aFbwfZAA\n",
       "OhVsMRs8oSaDnA8MiFcgzh302LsBjA8usMWsd7ZChJ79PABJhVwPgLxJ2OJcCkJx+0BTCQxwFDBc\n",
       "5viKTUcFruRzkO8zF7ZMxXgAl44YhqJqbOI8OLMtowJ2cUUc6gEU+1zyNSwQMQAAAABJRU5ErkJg\n",
       "gg==\n",
       "\" style=\"display:inline;vertical-align:middle;\" /></a> <a class=\"ProveItLink\" href=\"__pv_it/basic_expressions/9760cc797121987337d40a6f931d163a7c0935b60/proof.ipynb\" style=\"text-decoration: none\">&nbsp;&#x22A2;&nbsp;&nbsp;</a><a class=\"ProveItLink\" href=\"__pv_it/basic_expressions/5f6cfbfc3fcb52c30b1b616e353a53cc3e835c570/expr.ipynb\"><img src=\"data:image/png;base64,iVBORw0KGgoAAAANSUhEUgAAAZcAAAAWBAMAAAD+08z3AAAAMFBMVEX///8AAAAAAAAAAAAAAAAA\n",
       "AAAAAAAAAAAAAAAAAAAAAAAAAAAAAAAAAAAAAAAAAAAv3aB7AAAAD3RSTlMAIolEdjJUEM2ZZu/d\n",
       "u6v6CvZmAAAACXBIWXMAAA7EAAAOxAGVKw4bAAAC1klEQVRYw7WXTWgTQRTHXz7cdfNhFxF60VIw\n",
       "gifpQU+9bMQeKiIRvKkYezFgDitUBcVmb4IXlx6lYI71IFY8CEIhKCqFIil4EoJFcvAYVKxHZ3dm\n",
       "d9/u5oVgXx5kM8zLm39+OzNv3oAJvqmv/ZgcIjO8m0OAtEzwPO438vX9D3naf2bnEt18AqTlLKUs\n",
       "tZYYhsy3R8AswSTtPIbRHY4hH9EwPAKkHbQRjNHmGPI5DcMjQFrBRTBFliGLNglThMnaGwTT4Jns\n",
       "NgnTmDDMYwSz6mW271Ur8s5UjoybF8O47C4JwyNAO04hGA9s3izvAdxWye4VfLNBH+dwkHFQEyvX\n",
       "CWHWtj37HMLwCNCOdQTzUeSbt2B0ACrydw/asCbcAbi+TkqpOPgAoG2QM8MjIO2+k3bcQjCvRb4Z\n",
       "QGk2HOEZwDvV9BLF5QukFoo7MCBheASkyrlO2nE9DlPsQiv6H5ug/1LNrvdo0iksisttjIJhEJCm\n",
       "ddKO+fgya1nwUpQku3IGf0NhALmLY2jJOH2xrlSG7xkegTgMdjQRzBfhqsMPbdoSO0qcFvofOOTc\n",
       "WJ6ysZadXs6g4kxDEwu50CVnhkcggkk6XiAYkdnKlrZlZO52QP/rizddd7qJX5zf33JQw3/4cXAv\n",
       "K1a+MUvC8AhEMEnHKoK5Kkbon5hZED8A2BZvaOXspX5NKBq93mbvq3xxXn/Ji9wC1Sh9CuL8A7M0\n",
       "R8KwCFzrCTN9mIQyvEcwpSCJt+4I8mC69b0aXgVaehncDFtT4sQ4StdmPAJoz8QdmQ6CKQRz2DBE\n",
       "ZxjluFgrm96cUcq8Ij5PaRgeAQQTdxhtfJ/ZUZ6VKsByuP36ptI6/KSC+qP9GZUZIi9luiPuMxwC\n",
       "qog5+dNKOo7FLmcP0QiJQqhL9HvXsVilVzZHwHAI0I4dpbwgcS0yz7vj1MtnxHlZlTLJGopPgHTk\n",
       "zaHK/2nGoj3ZEp8UiDn+AQMeICTHmA3SAAAAAElFTkSuQmCC\n",
       "\" style=\"display:inline;vertical-align:middle;\" /></a></span>"
      ],
      "text/plain": [
       "{(j - i) in Natural} |- |(a_{i}, a_{i + 1}, ..., a_{j})| = |(a_{i}, a_{i + 1}, ..., a_{j - 1}, a_{j})|"
      ]
     },
     "metadata": {},
     "output_type": "display_data"
    }
   ],
   "source": [
    "a_i_to_j__partition.substitution(Lambda(x, Len(x)))"
   ]
  },
  {
   "cell_type": "code",
   "execution_count": 150,
   "metadata": {},
   "outputs": [
    {
     "data": {
      "text/html": [
       "<strong id=\"i_to_j\">i_to_j:</strong> <a class=\"ProveItLink\" href=\"__pv_it/basic_expressions/63eed09e6f2e98b25ec5b4e7089e2dc2dbc004740/expr.ipynb\"><img src=\"data:image/png;base64,iVBORw0KGgoAAAANSUhEUgAAAIYAAAAVBAMAAABxpYtPAAAAMFBMVEX///8AAAAAAAAAAAAAAAAA\n",
       "AAAAAAAAAAAAAAAAAAAAAAAAAAAAAAAAAAAAAAAAAAAv3aB7AAAAD3RSTlMAdpndiRBmRO8yVM2r\n",
       "IrsWj4mGAAAACXBIWXMAAA7EAAAOxAGVKw4bAAABlklEQVQ4y2NgQABeBqzgAgMJQAq7cCERWoWg\n",
       "NJcDAwOjAqocpylQLAGvds6nQMIEyokGYmYHFPkY7a9AciteMxg3IHHUkNhlMAUgM5KID44GJPZC\n",
       "ZDM4Aog1gmsDLjO4EwhoZRWCqmACBkWgGjYzWA7g0R8oA1TADvUDyDaHCmxmsG3AY4YCRwLDLCao\n",
       "CuYFDJwLtLGZwdWAJ1Yu8C9gCOAQgPA4ChhYGRpBLGVj4w5jYxu4GZwf8AQFw3pgiK8PgJvBwPUV\n",
       "mzvYG/AFqDIQ72GF+4WB+0AANr8Y4DMDmERZv7MwgE3hA/opvsABW5g+ADsaA4Dt4/0O8uw1hvgN\n",
       "0Bicz5uAagbLX2isg9Ww/maAEnAeAxsosI4lMDCbgkIO6GKeNNTw4Dnx+xjQlwUgr4LUGDFACWZQ\n",
       "3jQGOYTnAVTLUhBhiSWdgsFlhBrUlA0yAxatDOBQSMKS55AyowOGGSxAVyzIh8YCK9gsPhwFFu8D\n",
       "hBrUZA4MwAVWsNCHmPQAuxkQsxkxJYCmMgkVoIpdxG6GLKEcDwBvKlRWmAikKQAAAABJRU5ErkJg\n",
       "gg==\n",
       "\" style=\"display:inline;vertical-align:middle;\" /></a><br>"
      ],
      "text/plain": [
       "<IPython.core.display.HTML object>"
      ]
     },
     "metadata": {},
     "output_type": "display_data"
    }
   ],
   "source": [
    "i_to_j = ExprRange(k, k, i, j)"
   ]
  },
  {
   "cell_type": "code",
   "execution_count": 151,
   "metadata": {},
   "outputs": [
    {
     "data": {
      "text/html": [
       "<strong id=\"i_to_j__partition\">i_to_j__partition:</strong> <span style=\"font-size:20px;\"><a class=\"ProveItLink\" href=\"../packages/proveit/core_expr_types/tuples/__pv_it/theorems/1a0f35dd914089b5473d6cf135d661e2318d96e10/expr.ipynb\"><img src=\"data:image/png;base64,iVBORw0KGgoAAAANSUhEUgAAAGEAAAAVBAMAAACkm51HAAAAMFBMVEX///8AAAAAAAAAAAAAAAAA\n",
       "AAAAAAAAAAAAAAAAAAAAAAAAAAAAAAAAAAAAAAAAAAAv3aB7AAAAD3RSTlMAInZUiRDNmWbv3US7\n",
       "qzJazP2FAAAACXBIWXMAAA7EAAAOxAGVKw4bAAABlklEQVQ4y2NgYBBgwApwCAMBkwF28U1o/Kg/\n",
       "xwIYPH9uYGAwAXHfBKDJqzMwNaAJHea+wMD6gYGBNQHEU0O3YQkDQyqa0C0BDwaGCQwM7A24nNuO\n",
       "xr98gE2AYQEDAydOD3JCXMp0atUyMONiE2MCSIcZTh1sYNu5k2BevMj7QAWkowTIZlW6gKqYVR2o\n",
       "mgUsKAYPk4sMB3g2AHVkANnsDDNQdbBwA33IAQ6TRAaEjuesS4E6FgPZigyfUXU8ZgeqZp4AYiYg\n",
       "6eAwsAGKzQayA5i/goTCVoHAOpAApwIDAx8w7Bn4ZgGF1kB1MFzlhepgYF+A5mt7oOtBLmNgPYBk\n",
       "B0MsK9RVDFwOaDpyWYGuAhuzAFkHnwLQgEMgjvwGtLD6zQL0Odh4JbjgOSDWA4r5gjj9aFbwfZAA\n",
       "OhVsMRs8oSaDnA8MiFcgzh302LsBjA8usMWsd7ZChJ79PABJhVwPgLxJ2OJcCkJx+0BTCQxwFDBc\n",
       "5viKTUcFruRzkO8zF7ZMxXgAl44YhqJqbOI8OLMtowJ2cUUc6gEU+1zyNSwQMQAAAABJRU5ErkJg\n",
       "gg==\n",
       "\" style=\"display:inline;vertical-align:middle;\" /></a> <a class=\"ProveItLink\" href=\"__pv_it/basic_expressions/3ea862b57a56008170ace744645604b26fa3f8d10/proof.ipynb\" style=\"text-decoration: none\">&nbsp;&#x22A2;&nbsp;&nbsp;</a><a class=\"ProveItLink\" href=\"__pv_it/basic_expressions/98edd8c696c63d2db436d2e3c2955657453400430/expr.ipynb\"><img src=\"data:image/png;base64,iVBORw0KGgoAAAANSUhEUgAAAN0AAAAuBAMAAABe7AGeAAAAMFBMVEX///8AAAAAAAAAAAAAAAAA\n",
       "AAAAAAAAAAAAAAAAAAAAAAAAAAAAAAAAAAAAAAAAAAAv3aB7AAAAD3RSTlMAInZUiRDNmWbv3US7\n",
       "qzJazP2FAAAACXBIWXMAAA7EAAAOxAGVKw4bAAADJElEQVRYw+2YvWsUQRjG37u9r93LnUcqCRYJ\n",
       "FmcjbqGCaXL/QHBJkUrJNkIQgikkHKmuMhaCh5BGCwNJEFcMR7p0UbC/zlgIATubxCJp0jhfuztz\n",
       "MzuzMNvpC7vZj2feZz523/1dAKADaZRAGR0whVkRR9nnTm6qNYfGLIe5/e6ircuOnR7yXxfvt/fR\n",
       "tYE2RfubSZFGNUS7PXayjDavJ9x/vHGB9k/0UxSaFGnU+Y7108NmfL2M/baMebZy+rn8yTA9dGZ5\n",
       "Pzcw5gny+d3njp0wy69mXJ5azgV8jpawy7R1tHRLfZVfZaxJsXTbpOBiFUmbw7SPvSOVXyPUpFh3\n",
       "B7FiM8LxWSPeBfhVZ9k8H9r+hsrPGWqezs41X6/g4x1A4LLc7giq8AZPbBR9fBtF48Svfa55o2Ah\n",
       "0Csm/Iie+YFzoRpfU9v7TaNCmE9YqybzCbVxoJrPHV2OvURhXr+vaEKuKkAcp5DHyqinel6OycRJ\n",
       "QfpWuooVOWIRT/11WAnZM31WGoh+lT/sTSGa6iWwXXIGjfNYkSN+o+1kAN4+firQnLReiuvX+nF5\n",
       "gmZ6hKcbaz4A23m4rkd4gC08NKLIEd4p/XsP7w4U9YXETKoRwsF+5PGeyVk/G+zz05souk2hPvVT\n",
       "jRAVNDr/dSCWen18oS8RGc5Uxme6dJxqxFKGFtzfTRR54hF9CqlrRivaj7J8A/Wg3h1peqroO9/r\n",
       "abVmzphlDv7HPxL2vFvKeb1TEO9mtILmrCKNPe/iVph5Jwozqjq3ZCgugHeXY+blP/rfnyG/WiBB\n",
       "cQG8qy6dd4K0OHNQXADvDjP9YFuCYnvedcJsv1UJiu15l3zZCfPKfosSFNvzLhk7YV7Z74UExfa8\n",
       "i6mOMq/s90CCYnvexdRKmReqTwkPniZ+ZxIU2/OuO4qZVx7fkQTF9rzr+cCVDNFvXoJie97FrSjz\n",
       "yn6vJCi2513yrjSkBX7Yob8uJ6DYnndxK8q8fPx8v4Y6/gkmobgA3j2ImVf+AO5IUGzNu7gVY96M\n",
       "f36IUGzLu7gVZV45biig2JZ3cSvKvFnsLkJxAbw7nfnLXkrzF3TwBcDhEVzlAAAAAElFTkSuQmCC\n",
       "\" style=\"display:inline;vertical-align:middle;\" /></a></span><br>"
      ],
      "text/plain": [
       "<IPython.core.display.HTML object>"
      ]
     },
     "metadata": {},
     "output_type": "display_data"
    }
   ],
   "source": [
    "i_to_j__partition = i_to_j.partition(j_m_1, assumptions=[j_m_i__in__Natural])"
   ]
  },
  {
   "cell_type": "code",
   "execution_count": 152,
   "metadata": {},
   "outputs": [
    {
     "data": {
      "text/html": [
       "<span style=\"font-size:20px;\"><a class=\"ProveItLink\" href=\"../packages/proveit/core_expr_types/tuples/__pv_it/theorems/1a0f35dd914089b5473d6cf135d661e2318d96e10/expr.ipynb\"><img src=\"data:image/png;base64,iVBORw0KGgoAAAANSUhEUgAAAGEAAAAVBAMAAACkm51HAAAAMFBMVEX///8AAAAAAAAAAAAAAAAA\n",
       "AAAAAAAAAAAAAAAAAAAAAAAAAAAAAAAAAAAAAAAAAAAv3aB7AAAAD3RSTlMAInZUiRDNmWbv3US7\n",
       "qzJazP2FAAAACXBIWXMAAA7EAAAOxAGVKw4bAAABlklEQVQ4y2NgYBBgwApwCAMBkwF28U1o/Kg/\n",
       "xwIYPH9uYGAwAXHfBKDJqzMwNaAJHea+wMD6gYGBNQHEU0O3YQkDQyqa0C0BDwaGCQwM7A24nNuO\n",
       "xr98gE2AYQEDAydOD3JCXMp0atUyMONiE2MCSIcZTh1sYNu5k2BevMj7QAWkowTIZlW6gKqYVR2o\n",
       "mgUsKAYPk4sMB3g2AHVkANnsDDNQdbBwA33IAQ6TRAaEjuesS4E6FgPZigyfUXU8ZgeqZp4AYiYg\n",
       "6eAwsAGKzQayA5i/goTCVoHAOpAApwIDAx8w7Bn4ZgGF1kB1MFzlhepgYF+A5mt7oOtBLmNgPYBk\n",
       "B0MsK9RVDFwOaDpyWYGuAhuzAFkHnwLQgEMgjvwGtLD6zQL0Odh4JbjgOSDWA4r5gjj9aFbwfZAA\n",
       "OhVsMRs8oSaDnA8MiFcgzh302LsBjA8usMWsd7ZChJ79PABJhVwPgLxJ2OJcCkJx+0BTCQxwFDBc\n",
       "5viKTUcFruRzkO8zF7ZMxXgAl44YhqJqbOI8OLMtowJ2cUUc6gEU+1zyNSwQMQAAAABJRU5ErkJg\n",
       "gg==\n",
       "\" style=\"display:inline;vertical-align:middle;\" /></a> <a class=\"ProveItLink\" href=\"__pv_it/basic_expressions/dd73be96e19904d25933fe8e55a319f426121dfa0/proof.ipynb\" style=\"text-decoration: none\">&nbsp;&#x22A2;&nbsp;&nbsp;</a><a class=\"ProveItLink\" href=\"__pv_it/basic_expressions/516f532e2b45e6821b3f139087877aac1621b9ed0/expr.ipynb\"><img src=\"data:image/png;base64,iVBORw0KGgoAAAANSUhEUgAAAbUAAAAVBAMAAAAz7220AAAAMFBMVEX///8AAAAAAAAAAAAAAAAA\n",
       "AAAAAAAAAAAAAAAAAAAAAAAAAAAAAAAAAAAAAAAAAAAv3aB7AAAAD3RSTlMAIolEdjJUEM2ZZu/d\n",
       "u6v6CvZmAAAACXBIWXMAAA7EAAAOxAGVKw4bAAAEB0lEQVRYw4VYTWgTQRR+2fw3sebQk1gM9B5z\n",
       "8NReUrCl7UF78lRJEMFCC+6hBy/a3IQiNVQPpfSQYxVKAxYKKhgsWsQgLQhecxKsKJVC26Pztztv\n",
       "ZmdmH+zux9uXN9+38/btTKAEzMQlguPd0hLmuIRyieB4dyyDkikNOY8wkGrIWxhjuxGnLVljlxHN\n",
       "7VXZZRK5Jp0JbGYjpjPjaciwnMk9ckyLWxgHlj4gqdvOkdM/YMahLVMmGVrcg3Focz6IBDajxOCu\n",
       "H8OMBMxgbdkmOX3k9zAO7Mn6OTk/dT/VJuR8u7ZH5CiWuQdjYdlfz8mPc75jAEYMpuKYTYk0gbY8\n",
       "Eo5xMsApmuFVXFEOtOzaNpAH49EA3PaDBBbLG+vGxIylCbQV0A2MMzWcoeDHiduza+sgD8b3sTae\n",
       "wGIFsGrTme0hbfPIP2/VlmvHaVuxass0UdamVduKI/m8XZvObAVpWyPVPC3uY6xq8/qOkZdukVPF\n",
       "qi1PXq8lUYsYa9oqjhHW6Dt3s2/SJpnxgArSRnR6yU6oOcSqtoGmY+RWgTyPrVDbZo/at1AbfbLl\n",
       "MR6KsaZtK6Yo8vDWpE0y4wFbSNtngDt5cR9jVVum4+iSpcvk67NgnbdiA9KNde7AWNO24NBGiME4\n",
       "nJm0SWY8YAFpewPgF4SOEOd7va/ve71+mCF94mjQ8JBwq1u1FaokZFc0hRCT2X0nZpdrqzu0EWLg\n",
       "ZyiR7DNWFbMGZjygrmpj3HSszluy4+ojm+QYc2kDNqyGtXkbi9EG+a5p3hAzFjCm1iSsZuXUB1ir\n",
       "ya5LG/3cL1rfN1KHkOv7QU2GWNO2GFOT+ic/yowFLCJt38k8n3qQRdjUSw5Z8UXLkS1NT8lp2zpv\n",
       "l0im5WoZfIQN2liC6GfUF8QArlWNvUQyYwHbSFuFluwVWG5KrGrz/onezWKyFzog6U9EmzZro126\n",
       "nmizHwisabteCvr8hXEY/n3Y0WWrzETAGtI2R47jNhQPJFa0Df6+OCbTzYqLxnyhoBWAAxZCH92+\n",
       "VVuaVM3ga4CeL7Gi7e+H1bZIQGNk9pbwMGLwR0uuM+MB+0hbcZZHPkBYmTdmV8MY1ZiHttZE177m\n",
       "+iQy+hKr88YKuxvGKMY8jNiu8VVEzHaDNIG2YI1aBnW9mlTWMhthjGrEM9jY8YPVrFmbWM56oC1t\n",
       "R6PLYS8ygidI/hw4N2oLmfEAlibcvx3xrlCT2LArPpQxSi8hnnqDdrFhx/7tEt8cLyEctWEZoy7o\n",
       "OMn0WbHhZCYChpW96WPecxCOGmeUii5J6JOaroZPxawty8aHGsJRO5IxitUEsZcvYpjxgCMx7ARX\n",
       "jvIlLDv78bhdQIpPx4Tu5i/wEHINORNY/4+x/eUwbkqTmv0P2Oow4hLuBhQAAAAASUVORK5CYII=\n",
       "\" style=\"display:inline;vertical-align:middle;\" /></a></span>"
      ],
      "text/plain": [
       "{(j - i) in Natural} |- |(i, (i + 1), ..., j)| = |(i, (i + 1), ..., (j - 1), j)|"
      ]
     },
     "metadata": {},
     "output_type": "display_data"
    }
   ],
   "source": [
    "i_to_j__partition.substitution(Lambda(x, Len(x)))"
   ]
  },
  {
   "cell_type": "code",
   "execution_count": 153,
   "metadata": {},
   "outputs": [
    {
     "data": {
      "text/html": [
       "<strong id=\"a_sub\">a_sub:</strong> <a class=\"ProveItLink\" href=\"__pv_it/basic_expressions/9527b62f6c6d7140a64245dc33a2fb89bed763180/expr.ipynb\"><img src=\"data:image/png;base64,iVBORw0KGgoAAAANSUhEUgAAAMIAAAAWBAMAAABgYF47AAAAMFBMVEX///8AAAAAAAAAAAAAAAAA\n",
       "AAAAAAAAAAAAAAAAAAAAAAAAAAAAAAAAAAAAAAAAAAAv3aB7AAAAD3RSTlMAInZUiRDNmWbv3US7\n",
       "qzJazP2FAAAACXBIWXMAAA7EAAAOxAGVKw4bAAAB+0lEQVRIx7VWMUjDUBB9NY2pbbVB7KYQQagI\n",
       "SgUV7CTdlag4CGozupnBycVOToI6CIIOBZWCgohbF2k7ORSUIs7VTRdFqYuL95uk/UlN6WAO8rnc\n",
       "u8f7+Xe5BIAM78zHlo64hwohhZYJeGnDgKh5qtCpQkp7qhDQ0QVv7RBTHiusY5P11OOg0ogNJHvb\n",
       "7UUb729gljSAnByuAvNmgx3gXoXYzlti8FBpBezglNrpCFIGSBrochpbgN/ag7jjKmDycOVM5YFp\n",
       "HAPSB4Izdd42cGa6Ol0vI64Kdh6XygPvTKErj9R1Pe8E4o/p5tmScFWw87hUHsixU0op2ANuHown\n",
       "/ETgA6HRNhQMnhiLOxV4IIEiBeJ4EqIK1Ual+Be6tfGFiMorqM01gMmTJUHjFZzALnUTwoqQlXyL\n",
       "GYjfFCoioevRBP8MtXhK45zaUuNhya/zCk5gE2/EK88NjFEYuKDNrg49lyukI5VKJ6U7g8biQZaf\n",
       "hekEzy0eOtM9JbKCkWoD6P4SQaubU2uAYB2HWK3wpyQ0H9Nk3YvItjrYAV+GjSbDpiR6CyxQ0HRe\n",
       "wd9c5kabvtp7yQ6wwVow71cHgYV6IcuyqdC3keTijUo3xsWo5dRSHUA/XSsczzFl8i5x9mXkZ1sL\n",
       "gO3fp7g2vN7OJ+Z2vwXQ8Q8/AVJMbQ38AmYCg9ciLfdhAAAAAElFTkSuQmCC\n",
       "\" style=\"display:inline;vertical-align:middle;\" /></a><br>"
      ],
      "text/plain": [
       "<IPython.core.display.HTML object>"
      ]
     },
     "metadata": {},
     "output_type": "display_data"
    }
   ],
   "source": [
    "a_sub = a_i_to_j__partition.rhs"
   ]
  },
  {
   "cell_type": "markdown",
   "metadata": {},
   "source": [
    "Now, with sufficient assumptions, we can explicitly do the expansion for just the $a$ variable, but the $b$ variable will be forced to split at the same locations."
   ]
  },
  {
   "cell_type": "code",
   "execution_count": 154,
   "metadata": {},
   "outputs": [
    {
     "data": {
      "text/html": [
       "<strong id=\"assumptions\">assumptions:</strong> <a class=\"ProveItLink\" href=\"__pv_it/basic_expressions/231844efcc2950b7761cab348d3714e734d1cb4f0/expr.ipynb\"><img src=\"data:image/png;base64,iVBORw0KGgoAAAANSUhEUgAAAocAAAAXBAMAAACLw/i7AAAAMFBMVEX///8AAAAAAAAAAAAAAAAA\n",
       "AAAAAAAAAAAAAAAAAAAAAAAAAAAAAAAAAAAAAAAAAAAv3aB7AAAAD3RSTlMAInZUiRDNmWbv3US7\n",
       "qzJazP2FAAAACXBIWXMAAA7EAAAOxAGVKw4bAAAG+0lEQVRYw91YfYhUVRQ/83HnzbeDVIQovVVr\n",
       "JVIm0IVEaDHog814bSQVu+1UCEpFg5lJRQ3+Yf0ROAmF1IIDadIkyyB9sP/EU1PQthq1wkRkKkiM\n",
       "wjVbYbE/uvfce9+7d97ctxMx/3jEnfvOved3zv3dcz8BoED/MYlAD8XgoqD9BMpzq32JdNkOugTq\n",
       "NgDUR4swhF9LekniQfwbb7SpuWcagidqOQgQIhlbQQzIwJ73ThzYbTCNbZp9rn68Ir6WdBfAE/8c\n",
       "c+CB2QbqVwrHscFekhithJBIQ4B+oVHLUvL7JIBR8kdhmUZitKzV33EeElCSX384enDftKCUkIwO\n",
       "cjhd+oMBHMk0gUyjnpSE4/XQU9lgJpGFAHu5Qi1LGd06IwHMg1SChKOSmNZz4mWAZXEvyW/Tja0y\n",
       "peIe8bFewOmyNxjA2cL9AFXUWxXheFtvSXzTTKKljLFazshydEYChEmyHDKdTwJxR0yWuQKMEFd8\n",
       "bAvtgSKn3UQBaqhPScfV3pKYcowkptRm6lJlqySmnLlcvNuBxOiJ+kfs1wGrdT6QvqKSALyeawll\n",
       "NbQHbGWo1zFPT26PlBiJVD8gHMdKvSUxUTGSOKBuAEYSE5W5XGwMkph52qP+z3y5fSvyK/PNC9Jp\n",
       "KbQHAJ/fKpM711rKSKT6LcKxxdaQRWvnK1v99312lwxpdtpxwcOIN40k0hBIv6BILeskIoBJhpfT\n",
       "P+sUEof5rLzJT9+jWVkmi5vtlVlH7iTIA8IpgiHxACIb/BXCzTZqqN8oHDOeM+/Adz7wZCE70x2H\n",
       "up0qPkayJEm06ihNr8s0hHim6mWTV9ZJTIZNlXKKhr9DIXFwEn+e8tN6cLu37sLutkpYmbTVfEM4\n",
       "RTAkHkCi4JN4geyrof5D4ThNt67HK/AKpZ03I7vBok0e7oJEbgf5QIXAALrexKrGTKQh/GoJitSy\n",
       "TmIsZNGOFubR8O/yScwXt+KvT7xywOmDK22V/gEHeeBwimBIPICEslcli2uqqP9AOE7R/r2BW3mc\n",
       "x25N4zFhrbR5zJwJ3A7Scm0mO+SYcwyYoN2aNpJIQ3BSgjCvTPP14/dFviKJCGAQAnfTmXDJJ5HA\n",
       "LuSSItQP8CM09U14ayc201YZLQ6xvQcEDxwO1uOMmQAREg/gItO5nET4IVdFvUriOJBr/mbkwlhD\n",
       "5j9turhm7INmR+WX24MYmWoYiTzqtrKeiZnQ4wObCZPKdOY8eecWWlqIRxnen5peCSMRF0kRPHA4\n",
       "VVhIPIARJRNhlNRQr0xn8hck/eEes2GnXHYxLCOJuh2T1UEMNO+8JrIQnifedPbKbdO5FkbiXulV\n",
       "kJho4kh4NrkW7fOYfhD3Ac9Tesm0N50Dx30MiQeQVknM2y7qDwvHWRvIFciV7swsx4MTjBXhx1jh\n",
       "YFMlkQSjp7FyOxh+USPR8TBIPw0s6RozkYZArsU5uCh32lhckFNOn8m4Z7KZ8LZARM8NJGqxbHYh\n",
       "Qw84Z0XrW3gYXmW+/AWluYaGWVvCqU5YSBgARL0Ty7f0/woX9etEV9gGfhhWl8vD8xwYKzG02H6L\n",
       "2DMqiUyPf8hVtYB2UB5QScQKxACLnb3w6NCZxHVsXbmZg4uyTmL8sjh7IKjuG634TNjCEVF9KYL7\n",
       "a0JuEEfppXDhGtFazA6vMutsgMgRFw3xINM2sXhIFs/fZ6SSFSzes99FV/KUo9GlP59q3UgZSNMb\n",
       "Pzn10KIVkUdqKolMD2l2aN0vC3VH2BHnPi0TWQViwKNx2jDdMJLIQjhT4eCirJGY++nqGQHAQH3f\n",
       "WNiHTViWfCIQWaPcWzyFzn3GV+TxTVPHZ78Src+BVgmTx8an9owPoiHjgcOpwkJK8+BHv+bT4bdZ\n",
       "l1/1qZ5tqdiVCWnAJvgq7xRqw2tTx6emKnxJWBV8RnKUG0N+isohTqJSwc5eC8x3Z7mrr1J3eDUT\n",
       "URa0eZOCIbHdM1ITiGqjzIP8Zqe13mWoRMMJAReQBeL30xP1UpueXduH1Ps1maH98J5Axp7UNpbg\n",
       "c1ncL17WMlGpmFcQ9/rOJCbFfWxQKWsPEP7DQDzYN2qVK+505NvFUMdGauvTSdMdIs554HABMb1M\n",
       "MP0h0ZVsQV4ey0C8kRiwtI0lOELD/sJR1Uj0K+AiTRM35D3xEB892y93uEC6ujdvzadWl4psU18o\n",
       "EYdDDpQ25K+ki6bLI+eBw3UOwKAfka96ohE5VYCo/5bXJ0iM3Pu3reg98WmNepfbG15Yq1bAcjlE\n",
       "BhL52SsK+jlMFw4QHERmZfU3PPqHOjXSWm9+1VRrcx44XOcADPqIDSvwa77Rdbb7dxrT80of70Or\n",
       "rYZ7jijdjhgo6Jvz7bygIP4fmf/fAujrEtbqptGzF03kftnjp8rrSDa/ZBqCfuc67/q/5OnuO0iT\n",
       "gN8AAAAASUVORK5CYII=\n",
       "\" style=\"display:inline;vertical-align:middle;\" /></a><br>"
      ],
      "text/plain": [
       "<IPython.core.display.HTML object>"
      ]
     },
     "metadata": {},
     "output_type": "display_data"
    }
   ],
   "source": [
    "a_required_len = Equals(Len(a_sub), a_len)\n",
    "assumptions = [a_required_len, InSet(i, Integer), InSet(j, Integer),\n",
    "               j_m_i__in__Natural]"
   ]
  },
  {
   "cell_type": "code",
   "execution_count": 155,
   "metadata": {},
   "outputs": [
    {
     "data": {
      "text/html": [
       "<a class=\"ProveItLink\" href=\"__pv_it/basic_expressions/736050b978bf2200f78855a47418ee5cad2545af0/expr.ipynb\"><img src=\"data:image/png;base64,iVBORw0KGgoAAAANSUhEUgAAAdkAAAAWBAMAAAB+oPvkAAAAMFBMVEX///8AAAAAAAAAAAAAAAAA\n",
       "AAAAAAAAAAAAAAAAAAAAAAAAAAAAAAAAAAAAAAAAAAAv3aB7AAAAD3RSTlMAInZUiRDNmWbv3US7\n",
       "qzJazP2FAAAACXBIWXMAAA7EAAAOxAGVKw4bAAAES0lEQVRYw72YT0gUURzHf9s6jvtHHSIvgbBa\n",
       "IATGBuLBS+IhITA2oyiwdi+SENHSPySC9pTHrJOYByFB8hDSrUtuXSpYSEyi49ZN6aCpXYLo/d6b\n",
       "f+/33psdg3oHZ9/8vvOZ73fem3kzAoADpubE2hXVnH+kNR2QaCQ/kDfWXyp7IsQxCca2X7QWfqSR\n",
       "vE/dPzbrGqjQSl/U2a0P80qESmzvkWgdWwNPDprDcLlV0rCvuttxes5SpKXmsrJrPG7YBmgdW4Vf\n",
       "gIgwKLd1V3/H3U6524wrsqOHql2djJSgtJhoHVuFT0JEGJSndA723B+pgjtDcm4/2tFKQdlFCUqL\n",
       "idaxVfh0VBiU92sETd490lyRcf3Rjk5rJmAlZtoGaB1bgSdLUWFQfhuf2+tdkpnmtV4xb5pWZRyK\n",
       "oXPooMHR9e5PyrlWY6bV+WjAVuD2oMaeHwblE2zzysmy4T7rC4rj1jZYbH1qKck4FGcew8cCryoP\n",
       "mp+FohPCYKMEY9rAB9TBxCYlCsexFvagTQ7D+0z+jJFmwGbDPeQLThbgCTQxRHJaxjExXKrAPeBV\n",
       "YeNhYHwPUrkAcxG9UIIxbeADXkiEMJuUKDyd9+xBui6F4X0mf8omwBakvYWqiJS7ALu817aF82Np\n",
       "6fns0hLOGiaGBwALrhgXhW/HxKVHYQnaBcfGY7vnNQS5yeiwD/AJlB0qUXhqWbJHwqCcnSVVheKy\n",
       "K0hjggXIiMd2hlw8TDsH1i9XXMU/A/znIh47CCviFsnyg+Y1BOPYEh/gEyg7VKJwTBuyR8KgnM2g\n",
       "Yg4esRer1dAKZe9leoPTSdPtB7RsAa+G07pL4oMCxwRpKSFqJgsfVk+epPXZtEThbCYLezB6Swoj\n",
       "+kz+lp0lD5+THTl/XYLfbPaPtrN7vaUq45jY2oHW0gleVdLWrRmLY4K0lGBM6/lw7GAdCaet411N\n",
       "ShSezbn2oNwvhRF9Jh9BUXLRTpwL0F/gHXQMeI/0EG6E2xool3mVpm2tZMsCE6SlBLyV+I1YLClo\n",
       "7gPON5U1aZGtlCgcVyRuzyoMS2FEn8k32dnXznQexwvjtcvDFX6xIb0s4zaxePTrWp1V7VptrvY+\n",
       "nNZan+TX937tQ61WEYYogd9Ki94PGS184DryvcaaE07L2bRE4W3znj2+oIXC8D6T+4/q4hV5gdtj\n",
       "hcNkuvliXqVjG2CCsaUE40wOlox2RzO22pIC9xco2CZHbgt5izc5+m3ZRakcvGV7r92+mFe1aTkm\n",
       "SDsZ96vAR8MGGNOSkgKf8lco8sbM+yh/4414lzy2aw4kqtTbm1BVpD10Y0hScAymTZzazWkIxuah\n",
       "odf/RwQSpCaXVHjWG/sDZG3HPpePmQ1klddDWWyMkjUTjM1HT5g1Ew3sWVXyvRD+fuDyhPFFHLrU\n",
       "//tI4rLpQNtMMDYX3fx62vhBT0oauPtBcG1D3s37+/Dy35rdU/iLEmk37+j7fwCYU1RLryE3ZQAA\n",
       "AABJRU5ErkJggg==\n",
       "\" style=\"display:inline;vertical-align:middle;\" /></a>"
      ],
      "text/plain": [
       "(a_{i} * b_{i}) +  (a_{i + 1} * b_{i + 1}) +  ... +  (a_{j - 1} * b_{j - 1}) + (a_{j} * b_{j})"
      ]
     },
     "metadata": {},
     "output_type": "display_data"
    }
   ],
   "source": [
    "requirements = []\n",
    "dot_prod_map.apply(*a_sub.entries, assumptions=assumptions, requirements=requirements)"
   ]
  },
  {
   "cell_type": "markdown",
   "metadata": {},
   "source": [
    "Note that we now have the extra requirement that the indices match, not just the lengths."
   ]
  },
  {
   "cell_type": "code",
   "execution_count": 156,
   "metadata": {},
   "outputs": [
    {
     "data": {
      "text/html": [
       "<a class=\"ProveItLink\" href=\"__pv_it/basic_expressions/5eec19b978695c1802157e0d892a5f7f5cba0abe0/expr.ipynb\"><img src=\"data:image/png;base64,iVBORw0KGgoAAAANSUhEUgAAAjEAAAAyBAMAAABfSpdAAAAAMFBMVEX///8AAAAAAAAAAAAAAAAA\n",
       "AAAAAAAAAAAAAAAAAAAAAAAAAAAAAAAAAAAAAAAAAAAv3aB7AAAAD3RSTlMAuzKrZonNIu/ddhCZ\n",
       "VERetuGgAAAACXBIWXMAAA7EAAAOxAGVKw4bAAAJmUlEQVRo3u1bXYicVxl+5//nm5mdRTRJF3WK\n",
       "F6bSsmOMtgbFKUgRKexgwIugyUh6UQhtJ1Qvkl64i6nRCs0aLbhYZdLULtYN+dJIlRXZUZJiamvW\n",
       "i8akucgitSxFaC60KV0inv/vPX/fjPNlhMKei8k7c8553nOe73znfc95NgCkpBqwWaJyJlTmTvFv\n",
       "l30WxunV48LxczcOIKYUhmznL+mfSivTFsZe9nlqnMy8xT5za8bPtufyahxATKn1EOJo5Yo07tPG\n",
       "V22Pk5lyy88M87wkfnkN2fhhcgD/856CZxMzk2uK5XdUG9+L432JD/iZYZ6f4j8EnciW5exLGxLA\n",
       "z3wH8mFSZuDH/J9STxvfufEyc7+fGey5gpZGTdrlDQkQV7L9xMxc5nvwl/TxzY6XmWLoZQZ7LiK7\n",
       "2sPMFMNBLn6QmJk8Ixce18ZX7YyXmXzLx4zm+ZKXmXxrkIsHEjNTu6HcReOr0G3w0T2HURj89GJv\n",
       "SEStnxZKFQbb3ZzMUM/Bkpj3eWTrzMjt0VmWT5KP3YmZgf1sm2lq46OPpHYUPhpCIFKC9W6KjOg3\n",
       "w1DN+kHaruEYQDLKbEcyU1lgpYk952qz6rkrW2cmG7eo+8WWiLXJmLlGX9nphsZMieQRv23BBTIy\n",
       "PqDgCFTmAfbIRr/2j4z3g5JEDGQ+IDDgOJnmrG/NUM93VQT6z5CtM1ON2QjL3QkCcjk5MyvU5T36\n",
       "+Ipk0BdxwKxch5JIcSo0YXh+3ot30Qi0n/iljZG+7mOGeg6LgoUnpU1W1k++L1YWY4YBeErAHvZ0\n",
       "cmZSdJLfscc3B8F/oihRhxUxkRR7gn5mtH44mUQYtdk4Zvgy5swoW18ztdjgSdfsenJmsmQLTv/L\n",
       "WtPBe5C9DrWTamHNkKS8OZgZ3g+WX7WY4RjB0qro7txn6NsE+wP1NinbeJvm46b0lPSajJmAsFK+\n",
       "oTOT6kFwEzKdvy1PkE2YzmoVPlN9rLeBmQlsLPJ8eT/oX9KYCSVGt0LjcrbuWzPEM1lzOQ5+G7dd\n",
       "O3BdgJovEouBdM3eKxDDBNSQNyk1q4+PBsXb4Eq//xiZ1kqHDrj6dKXw+3nMDP09eAfEh/rG+gXh\n",
       "1zAzrIJhwO9yfZEVOJmhntPXv8ngaOSlts5M7oYM7rZv1outWRrxKSL7edSyjW0B2vjSZOJnf/Hx\n",
       "XQ362ErkCBfs+sqjz9AH+ofJrZOTLcYM/R2eBvFRohnjQij7kYibniRlC18ztIJjsLhcWvMxQz3D\n",
       "zhYHv4PbGjOZe97ZKQAoaOSbGezqIENn83OBuJBg0ewjXPeNHP24XJ4bZJJXVRh7QdtnrlpQ1WgY\n",
       "N7S3CVVMkAzpkP/cJD1fxZEfrxlWDhneAPUCGs4K8wKxmoCZmTWY7hnjkye2aodwpm4kLlU0Zuyb\n",
       "ilx0ETCrMRNVwHZ5bHQzIz231bHQOFGCOnfm7LmQXpnVmVAeRvc6Gw1dCC3XVo3xpUTqG+zqQqBo\n",
       "O7somCl89d899HuUl0fplkqqv/XIHlwBJNoV6n5mhGcOvsV3ZVfXvakdmPSaXqUh7aBEXE6S6vVh\n",
       "pmGML0AbT9nIfzy/09LTz4yuCpry89m7mRGeOfgZXw7WNUDRkCpLa4rTva5Gw5eJJpxGF6bPsM/D\n",
       "3uaVYTAf3u47Zf+dvGaLfBoNo872XPDMa3HgrWEXIY7OTB32hXBry8t/9vG6dKtdjfMaqQMX30fD\n",
       "/T+W0jx8YZMFJzOzm8x4mblFb1PXYw/+WW25Q/7eHdCm8L/Be4DJ27TPP+Dqg+9+Y2Gr79r10rHv\n",
       "bvvhERkQUFY0oobmEwBrvcEwpwbj1AbG8LeMHfg0DqC69FX+QAM6efX1dn11ndgBeZD3e1g3G01D\n",
       "YzJcesr49Q7i81mMM+WCoX3Lfdv2wjjK7aEGXGxqmZ4hfVX6ZBhfV1+f06FeIc5yYnlg3WxEDY3J\n",
       "cGX9JjX43CNkSnn0RGiDA86+8s4Q214YR3lOB57ow7U1b+NMF87gjFgvd5OcVSaqWDcbUUNzC4Cn\n",
       "Q/0IBU6Ycx77jTgYu2DglTZMO9b4iYWFDr8M+mOm4amEECqNHXLt4XUIjlPyYA1t1ssMV9aQgzCu\n",
       "L7Zfj4NxZHehdqKcsKl881fqtW7e6a+Ej6VlX6ybjaaheQRANqUHjFNGK6avhvN6HIzj+IKAyUG7\n",
       "FEEJ6asQvW+pUG2JwfNNoxKmUpLk84k1NHbVt3zSyczu6EB/0gVD+y6fs22Dmd0xpLDZYWBynMxE\n",
       "y09IX/kojr+W7UWnySNGZbX9ZXSITqihsefFdDSbGfVXLLwBh7nArtd/JPu21yMcaRvM3BfDDJsd\n",
       "Hh9JgLOReCukryhO45i9CDeNyihma7rZaBoaFQ64jmYzczk6RtMGFgzpm159ybYNZi7HMMNmh4Hn\n",
       "yFZyU30TMth2+jDqPGeLbuDD6oZeCadya1JEeDKxhkbFJq6jwYtsNRyPpjSt1jxrYMEU6TieMG2y\n",
       "qL4nFpUB4yhsdgi48B5oShyXvqI7ozP0Au1uueDm9cqgfpAFdsFGQg2NyXBMR7PXzHr0/YILhvat\n",
       "bti2sWbW43ZfOjsETJU4+FNUzaWvkvq+g0w8kETy9CmqzDQIZyvqDUqooTEZzkwQxZSu6Kkoh0H7\n",
       "DO2bb4Zg2gYzV2JPkG1tfBlqvq1SPSF9leV00v1/sjbcz7fXtEq4s0Zi9mc13WwYDc0t4jEZjuto\n",
       "NjP3yka8QdZMPmnflbW2wqG2g5kIxvLOZ4eAJ+hwSiqhkdLXQypmH4DCh+tC0ZoBrRKmSLp98K+a\n",
       "bjaEhqZLZ5GixiJm1tqI2Hn3vGzEG1RM4YL2nS60FA6xDWZ0GHsIfHYImGoQODgJ6evsRziP6x+a\n",
       "mzw21xaK1idBq6zNPTi59d0ParrZMBqaEvGUhsbwmQyXMVfDp47tbwlljQ2CNSiZ5xnaN/PFCIfa\n",
       "GjMGTKTe9SUwmx0C5hv349YC+8e2BZx6cEXrCXelppsNoaH5RDwai4rOmwKurLFGrMEhq8VxA8fK\n",
       "gQ0Y2zubXQTM/xqNr5y4QjeNz6OlpResmw2hoflEvPuFjuYIGy3RSDQ45zsK5sxj4RtOGO/sIuAU\n",
       "z4bzg/40eplmPSXPfRTWzYbR0HwiXqrLdTS7HJSNeIOCffoXEt4ysmNgfLNDwG/zR5Q+OoAZOpeX\n",
       "/+KpxLrZMBqaT8QL6lxHs8sW2Yg3cExdXJX0kB0D45sdApaP6ETya2Csm42oofkEwHJ3MMzhwTjl\n",
       "gf9FY1ELdjxyjPV/GrwPy5vKemiTDC0LQNcwjU068LUy23//C5iPQT2VXbVhAAAAAElFTkSuQmCC\n",
       "\" style=\"display:inline;vertical-align:middle;\" /></a>"
      ],
      "text/plain": [
       "(|(a_{i}, a_{i + 1}, ..., a_{j - 1}, a_{j})| = |(i, (i + 1), ..., j)|,  \\\\ i in Integer, j in Integer, (i, (i + 1), ..., (j - 1), j) = (i, (i + 1), ..., j))"
      ]
     },
     "metadata": {},
     "output_type": "display_data"
    }
   ],
   "source": [
    "ExprTuple(*requirements).with_wrapping_at(1)"
   ]
  },
  {
   "cell_type": "markdown",
   "metadata": {},
   "source": [
    "If the iteration parameter occurs anywhere other than as an index of an indexed variable, this will also spur the need for the requirement that the indices match and not just the lengths.  For example, consider"
   ]
  },
  {
   "cell_type": "code",
   "execution_count": 157,
   "metadata": {},
   "outputs": [
    {
     "data": {
      "text/html": [
       "<strong id=\"dot_prod_and_more_map\">dot_prod_and_more_map:</strong> <a class=\"ProveItLink\" href=\"__pv_it/basic_expressions/c39d35c491c3c4fdf15a3d5e7725cddfa1b79e0b0/expr.ipynb\"><img src=\"data:image/png;base64,iVBORw0KGgoAAAANSUhEUgAAAxQAAAAXCAMAAAClIfmQAAAANlBMVEX///8AAAAAAAAAAAAAAAAA\n",
       "AAAAAAAAAAAAAAAAAAAAAAAAAAAAAAAAAAAAAAAAAAAAAAAAAABHL6OuAAAAEXRSTlMAInZUiRDN\n",
       "mWbv3US7qzLz6SJmQj4AAAAJcEhZcwAADsQAAA7EAZUrDhsAAAYXSURBVHja7VvZlqQoEEUQcEF7\n",
       "/P+fHVNFWSIwEKzOOVM8dNbpQO4CSECSjK2lYb/lLM2j2s0P4zf/O1/e1R/x5eJ3Klxl5BmVrXUV\n",
       "LSTh/3yXZSJaFVluvsYmn69ov21cStMPeYGaWLwjP2yto1l4z55rGn5Blz200CJuDFNlHqTnYoab\n",
       "+WyqiJ2NjPhK9YWva6VzAxWxlKQOMOV/Ppd1lKEl4Zd12RMLT8QhORzlpNUifRfJbj5gU0UsVzFf\n",
       "3X3hpFhEbqAiVkcdNdY6soU09iH+2CG4lb0lKI2yjuj/uZ0UVkXk5pjLvkQ/XazHt//GvH6RmYGq\n",
       "WD0CwoPtXR98PpaVxhdhXt6/4m2SEZbHcHRSnCpCN0XuNqNAf45Yh6/4xuypHXIDVbHU9SbyPBX+\n",
       "S89aR7aQyl51yUFR1mVPLEQRU5PCqgjUlE+KDP05Yh2+2iaJzdTyBuabCD0vqUbVxPkkcgIFKXbc\n",
       "ZDtdWb6f8/ureOt/3vqUZi+5TQscfGhQkPEekECypzZgSJkUVkWgpnxSZOi/FSvXeMzXzo+xX3MD\n",
       "A642iVDBKp5oVC7rbkcuDT1QsGkDmuwUMg2EQV4tJJ9u2LdrAxE+NCioeE9IJF+iF0PKpLAqAjXl\n",
       "k4Ku/17suvb3XcR32OeR3EJ6HwPSayURKhiLbqOMzb4Lm9CeR3ho4HlxmjxpiB6ZFIwbpwsO6wgW\n",
       "UtjPgmkV4UODgop3p5du4Y7oMKRMCqtC9JUnBaQ/HEJ450a7RLsXd/j24z5jFufArfVYJEIbt+5J\n",
       "ius1uv7hMd6tX9qYChYoIHI1edKYlzP855/BK8syXjuz0fuEfVpfVin2V1ievXfh6w2z77ePKcDN\n",
       "6ZcLhm6hw3xHdBhi1NxJYVVcbmLP4J1D1u8MIdhxuIK0E8fneyD0Zqs9QrtyMGT3nDPnTza/CbxD\n",
       "6AicpkGBQiJQkyO6UozKYRxMCkTSoJOyrvDVPWN6pUjiIXacMBkWXtSsUrFI+kphVYy1V4q7IXvj\n",
       "uOe5s9Q4fPe1SC4f4G4B8zIwdGXX4sFYTOCxY0HTQLIIBcqIgE06DflNzt43UX76lJaUlHXuCo/D\n",
       "rkAInD487JdHFlqlJ0NS+jTAbVZKn+79vnfcW2ocvobvCJ/HJ8VEw8ZjPy7t+I1DoJGkDR/Q6OdQ\n",
       "Q3gtLPORMQZU4kAxkavJiwbrDDIplJeFG+5+Ij65XQSw914UI2tDfGhQJPFuJwXJQgYhOgxJG23D\n",
       "IDXlkyLW7/QdLBarwFhzLjUO3+Mg6gMk1mVFr4+zTdeZecUh0MizfuIPqNHP6r2fPJ/BaZVhNIup\n",
       "hIEKRGyTFw3nzG8dOl7vaPDkFrUwKBB7dxlaWNOF+NCgSOLdDXCShdHB2BQwxAd4e571RCfW4DNA\n",
       "lzg5P02/23egWLSCu9Q4fOdjJE28nZuJz6yRhzPDcbULCIFG2vpO/qrjLC9qlEnJWh0E2+1AHKAS\n",
       "BGoQ2Zt0aLBhRA5N/QOMw7qEhcFSALD3u7AD8cNBkcS7G+A0CxmIeDHEqE1Tv6ip81SEbgbPOF2i\n",
       "oZyfoN/tO1AsWmFlfIp3+Q4zslgyIeF1VJu19J9/Os9IQclbwEr25DkKolReIXLQaKh7E2sdbiFS\n",
       "0uHmLglH8DA7UiSIzwwzLbMBVERull/zgNiou/tQSIXzPM3jG13YkovcQVsg7ZUz/nYh3ecFK9kl\n",
       "t6VSeYfIQYN83wy98+bQg48ZkuEQP7oQl8IjnztkPYPdkUxc7kNvS5ZfCITY3H4dCVSYxJo9SZCv\n",
       "CWqvydcGKuMZbUPw/pbyBgArzT0SRKm8QuSg0Rhyd1nrMAuxV18yTMBP4JEnRd4zJve7Uqsiw02W\n",
       "7Xs8hNACVJjXrbo9Vwv5ShMmYvttUA7laOdFUftQ06pl/xaItCqClew5CMfw+I8QOWhk9L+1DrMQ\n",
       "eywZJuAn8GI77kkQnpHm4bg1b/wgNWbD774LhCporkeM76O7fjVfAKrk9wGmMg2e04vWuorXJUn4\n",
       "OJ55ycJMhVYFf+dH2hGbp1uKunyr/QJOjXP/BURKaXxL0X+zL/9Sue27/1znrmuY/KXxW97su8zO\n",
       "/Rd1rkHCKAcu7QAAAABJRU5ErkJggg==\n",
       "\" style=\"display:inline;vertical-align:middle;\" /></a><br>"
      ],
      "text/plain": [
       "<IPython.core.display.HTML object>"
      ]
     },
     "metadata": {},
     "output_type": "display_data"
    }
   ],
   "source": [
    "dot_prod_and_more_map = Lambda((a_i_to_j, b_i_to_j),\n",
    "                               Add(ExprRange(k, Mult(a_k, b_k, k),\n",
    "                                             i, j)))"
   ]
  },
  {
   "cell_type": "markdown",
   "metadata": {},
   "source": [
    "We cannot handle the following substitution because the indices do not match with the original iteration indices."
   ]
  },
  {
   "cell_type": "code",
   "execution_count": 158,
   "metadata": {},
   "outputs": [
    {
     "data": {
      "text/html": [
       "<strong id=\"a_sub\">a_sub:</strong> <a class=\"ProveItLink\" href=\"__pv_it/basic_expressions/382b702ef71332787af026d0ce9384016c86f9780/expr.ipynb\"><img src=\"data:image/png;base64,iVBORw0KGgoAAAANSUhEUgAAARoAAAAVBAMAAABrvDzoAAAAMFBMVEX///8AAAAAAAAAAAAAAAAA\n",
       "AAAAAAAAAAAAAAAAAAAAAAAAAAAAAAAAAAAAAAAAAAAv3aB7AAAAD3RSTlMAInZUiRDNmWbv3US7\n",
       "qzJazP2FAAAACXBIWXMAAA7EAAAOxAGVKw4bAAADAUlEQVRIx82VTWjUQBiG3ySbZn/MGk9eCg2L\n",
       "0Hoo7MG/enHRWkRaCKVSBauLJ49BaqkVcVXUg2LXiiKIWJQiVCgLXvRQ2gqepGUpLSgoBKoIpfQH\n",
       "rAjCrjOZ7GQ26+45c5jJ+82TN998k0wAGAhHk2gnp0OSTcIk3T6EpbUBajY02TRZ0HKhySZqI4bw\n",
       "tMc4EKJsLmKQ9L3t5zqFLysga5uaWv5+rDrSmsOA4DAMtdjIIQisTknkjekh+QC2vKiN+1MBWds0\n",
       "tJsjVZGIkseoLzMdiG42cggA6oXuHjLcwSvy9hjRbT2H097XxaTa+c2q53UDo9bnqsgKSf8rd0im\n",
       "R6DP9vUs1zNggHDwWThOhg48I3PQiE0y5dWDSQ316+NgKBCxYibGuIOKMcRMGyN1t9oFxEgfXfoG\n",
       "zQZsRuFPp3JnQSrVr/RYMDBjJUu+Q2IbG85ftDh1z10KiH8FN7X3dKeIl6FaQjZURq0G2SS2cAp3\n",
       "H6SKbQteZAhy3ncgxd2L2w2ycQFiYHv6HSkXcBgfgLOFL4iw2tCYJxEZd2VwTwj0Sc8jo957iudo\n",
       "Z/dgHjuKLBtacnI9T4aTTAV3yQOowUNGKGnoZLhPvioc+XEFb1k257NcYtVypfobXldRSqk/n0hL\n",
       "vVmU6AFBw7iGmRxbDyW1YuIPeQEn/nMzwylADbZZbK17zxQZBrEK9KeU4TTLJj7BpfSRSbyG18Vp\n",
       "XSctqJfMg7cA3Uzm6Ua70MDR6warzSSt3lLrFtBsMeXf7F5Q3AV0M5FnREZ5UiDRN4jzvXW99vOK\n",
       "7sYuUXKK1z7myLPSplOBujwHBkSykGzJEHDeGE6AmKPZjkBI4/RXJWaT4VML65cF6Z9z/KqFLC46\n",
       "a7tQJKs+8hwibmZn0mhe/2kJuH/yVYAWxFccgaA/8LnK47t+mVD5IRArlzcF6Z/p/GoaTYa0aLlQ\n",
       "3NQzzMEFXmIJeFEuizh/i80KMA35hEg0009IROXqO+XaldXmRyHl5lURONRaaIgLgEDM8YMnBE02\n",
       "8A+9tdUgZiEK9gAAAABJRU5ErkJggg==\n",
       "\" style=\"display:inline;vertical-align:middle;\" /></a><br>"
      ],
      "text/plain": [
       "<IPython.core.display.HTML object>"
      ]
     },
     "metadata": {},
     "output_type": "display_data"
    },
    {
     "data": {
      "text/html": [
       "<strong id=\"b_sub\">b_sub:</strong> <a class=\"ProveItLink\" href=\"__pv_it/basic_expressions/06dd241f0c5b85f5f7ddc0406b6a8a2199a1c8c20/expr.ipynb\"><img src=\"data:image/png;base64,iVBORw0KGgoAAAANSUhEUgAAARoAAAAVBAMAAABrvDzoAAAAMFBMVEX///8AAAAAAAAAAAAAAAAA\n",
       "AAAAAAAAAAAAAAAAAAAAAAAAAAAAAAAAAAAAAAAAAAAv3aB7AAAAD3RSTlMAInZUiRDNmWbv3US7\n",
       "qzJazP2FAAAACXBIWXMAAA7EAAAOxAGVKw4bAAACzklEQVRIx81VTWgTQRh9u5tx82PSCIoXpUvw\n",
       "DzGQg1X0Yqi1eGhhKUp7sBp78maQKlURo0I9GGxUFEGQgoigUApe7EFKBU+ihIKgoLC0ejCIVrAe\n",
       "W2e+/clsttnzfofZfbPvPd78LoAsolGKaNRCRNKkDN7sRVRqF8BKkUmzzoReiUyaeBkJRKfuY1+E\n",
       "0pzBKN86OysY9rr8aI0KElju47fDEh7In+wJPamtAjSmFL5j+nkexLQaJrwPfrRGBQk68sYlCZfV\n",
       "eX0yzKJVwEb6+vljHE+ARS79giHncBFiPV/NdlY2Xa5rmDA/gY27uzEbX05XwixsgXTxmTjCHwfw\n",
       "CDATBu5mcs5oCOloPzgi+HosXODtwm4HZqCXxPjbW9gCuY6J5L9FGsyamRVorlagjmllpe08E91f\n",
       "lO6gB3lehFq0DAeKuIcxI1aKB1VrzTQCxc0QKyKMLeTVquVe6n9wXE4zm2VmqAUJbt7OlR38CoyG\n",
       "84a377G+TmlEl40Q4zC47h5haKaSqKt14rB36RqKdhohOTH9GTGQBVtjoV0Bu/UQd2yFVkCaP6oQ\n",
       "e/kKZiuU5lTJRWiYYP9gd9GLh4iwaQc6LL1IvdrKYC1VoDREOvT9Il6CLDy1z8YWKAMlLNudP/u2\n",
       "TfHHKBq8He6+mqU0yacuUt7yt+c8d1JM5jM4TZMwjx9IFojDzhn7bzj7RkgGc9oY/yIsiE9Cz6Yp\n",
       "SBupmq0oag+m+acXSNLa98LeN11w0GZs4F3BpfIIj7EHnRkfR6SRIFl0BRyajISlly0JK5PiVxUr\n",
       "sXtOGr76hJQPv86DFr+lPMISn52q7uOINE1oWxSDl6f31onkoiVh8QOfQ9JIF6H0/jXA+EEjlFhd\n",
       "XeI3fHAXu4RUHaexdbvM2Xi2W4ZkwYyARZPxGupRGW8RJwDa9csOVsVMeghBqxZCkGME+QhlSHjO\n",
       "u3giUGoW/wF869AWToR5JgAAAABJRU5ErkJggg==\n",
       "\" style=\"display:inline;vertical-align:middle;\" /></a><br>"
      ],
      "text/plain": [
       "<IPython.core.display.HTML object>"
      ]
     },
     "metadata": {},
     "output_type": "display_data"
    }
   ],
   "source": [
    "a_sub, b_sub = (ExprTuple(x_1_to_m, y_1_to_n, z),\n",
    "                ExprTuple(y_1_to_m, x_1_to_n, z))"
   ]
  },
  {
   "cell_type": "code",
   "execution_count": 159,
   "metadata": {},
   "outputs": [
    {
     "name": "stdout",
     "output_type": "stream",
     "text": [
      "Expected LambdaApplicationError: Failure to apply (a_{i}, a_{i + 1}, ..., a_{j}, b_{i}, b_{i + 1}, ..., b_{j}) -> ((a_{i} * b_{i} * i) +  (a_{i + 1} * b_{i + 1} * (i + 1)) +  ... +  (a_{j} * b_{j} * j)) to (x_{1}, x_{2}, ..., x_{m}, y_{1}, y_{2}, ..., y_{n}, z, y_{1}, y_{2}, ..., y_{m}, x_{1}, x_{2}, ..., x_{n}, z) assuming {i in Integer, j in Integer, m in Integer, n in Integer, |(x_{1}, x_{2}, ..., x_{m},y_{1}, y_{2}, ..., y_{n}, z)| = |(i, (i + 1), ..., j)|, |(y_{1}, y_{2}, ..., y_{m},x_{1}, x_{2}, ..., x_{n}, z)| = |(i, (i + 1), ..., j)|}:\n",
      "Improper replacement: Improper replacement of (a_{i} * b_{i} * i), (a_{i + 1} * b_{i + 1} * (i + 1)), ..., (a_{j} * b_{j} * j) via {(a_{i}, a_{i + 1}, ..., a_{j}): (x_{1}, x_{2}, ..., x_{m},y_{1}, y_{2}, ..., y_{n}, z), (b_{i}, b_{i + 1}, ..., b_{j}): (y_{1}, y_{2}, ..., y_{m},x_{1}, x_{2}, ..., x_{n}, z), a: {(a_{i}, a_{i + 1}, ..., a_{j})}, b: {(b_{i}, b_{i + 1}, ..., b_{j})}}:\n",
      "ExprRange indices failed to match expansion which is necessary because the ExprRange parameter appears outside of IndexedVar indices: Proof step failed assuming {i in Integer, j in Integer, m in Integer, n in Integer, |(x_{1}, x_{2}, ..., x_{m},y_{1}, y_{2}, ..., y_{n}, z)| = |(i, (i + 1), ..., j)|, |(y_{1}, y_{2}, ..., y_{m},x_{1}, x_{2}, ..., x_{n}, z)| = |(i, (i + 1), ..., j)|}:\n",
      "Attempting to instantiate |- forall_{n in NaturalPos} [forall_{f_{1}, f_{2}, ..., f_{n}, i_{1}, i_{2}, ..., i_{n}, j_{1}, j_{2}, ..., j_{n} | ((j_{1} - i_{1} + 1) in Natural), ((j_{2} - i_{2} + 1) in Natural), ..., ((j_{n} - i_{n} + 1) in Natural)} (|(f_{1}(i_{1}), f_{1}(i_{1} + 1), ..., f_{1}(j_{1}), f_{2}(i_{2}), f_{2}(i_{2} + 1), ..., f_{2}(j_{2}), ......, f_{n}(i_{n}), f_{n}(i_{n} + 1), ..., f_{n}(j_{n}))| \\\\  = ((j_{1} - i_{1} + 1) +  (j_{2} - i_{2} + 1) +  ... +  (j_{n} - i_{n} + 1)))] with {n: 3, f: (_a -> (_a + (i - 1)), _a -> (_a + (m + i - 1)), _b -> (n + m + i)), i: (1, 1, 1), j: (m, n, 1)}:\n",
      "Unsatisfied condition: (m - 1 + 1) in Natural. For debugging purposes, this is accessible via Instantiation.unsatisfied_condition with applicable assumptions in Instantiation.condition_assumptions.. \n"
     ]
    }
   ],
   "source": [
    "try:\n",
    "    a_required_len = Equals(Len(a_sub), a_len)\n",
    "    b_required_len = Equals(Len(b_sub), a_len)\n",
    "    dot_prod_and_more_map.apply(*a_sub.entries, *b_sub.entries, \n",
    "                                assumptions=[InSet(i, Integer), InSet(j, Integer), \n",
    "                                             InSet(m, Integer), InSet(n, Integer),\n",
    "                                             a_required_len,\n",
    "                                             b_required_len],\n",
    "                                requirements=requirements)\n",
    "    assert False, \"Expecting a LambdaApplicationError error; should not make it to this point\"\n",
    "except LambdaApplicationError as e:\n",
    "    print(\"Expected LambdaApplicationError: %s\"%str(e))"
   ]
  },
  {
   "cell_type": "markdown",
   "metadata": {},
   "source": [
    "But if we ensure that indices match up, we can do the expansion as we saw before.  Let's try this for a slightly modified map in which the Lambda parameters only covers the $a$ variables. "
   ]
  },
  {
   "cell_type": "code",
   "execution_count": 160,
   "metadata": {},
   "outputs": [
    {
     "data": {
      "text/html": [
       "<strong id=\"dot_prod_and_more_amap\">dot_prod_and_more_amap:</strong> <a class=\"ProveItLink\" href=\"__pv_it/basic_expressions/978a90a513d1a30651d199d6da77fd0c8b62660b0/expr.ipynb\"><img src=\"data:image/png;base64,iVBORw0KGgoAAAANSUhEUgAAAo4AAAAXCAMAAACyJj5wAAAANlBMVEX///8AAAAAAAAAAAAAAAAA\n",
       "AAAAAAAAAAAAAAAAAAAAAAAAAAAAAAAAAAAAAAAAAAAAAAAAAABHL6OuAAAAEXRSTlMAInZUiRDN\n",
       "mWbv3US7qzLz6SJmQj4AAAAJcEhZcwAADsQAAA7EAZUrDhsAAAWjSURBVGje7VvrspwgDEYUr2jr\n",
       "+79sUQkCJhDY3TN7ZuqPyhyQ70IwwFohzNWIr7iamsbND8M3323LB3z5rP7mUZDtd4TjIvltgfMb\n",
       "ubPgf96rQkRQUWLm59gUuA6FthNfcsmR2xI487grPc0Z5IEH/4JXeRJJxJNh6tpmFZjIN7OCzXvE\n",
       "blp5PK+C6sXXXL1iqu3De77jzGDOHQv+Na9yJJKIczIQ1Dr0uwpN5JpZw+Y9YmUf8DwLw/g94Tgy\n",
       "Bww4s7nvbRX8MuK4dddekegoxOXxdwnhCCqyahiZtF4/X6zjeRYm8UXXRMxoGa6gp+ietXVXVfBt\n",
       "tAB7ySsuCRZiK8lwdCpyahi5uVp/idjJI9723xSO/T39AjltMNOBM5t7NxfDY8PxmlddxdKRREyF\n",
       "I6jIqCkPxwL9JWIdT1MYYE3SrJ1scMKJqhd2+Fin3Xov58LFXZAzuvCeJdivUq5k9lASkpAHjw2H\n",
       "w6tyJE2CyNVdxJATjqAio6Y8HNl+c8Qq0yDiaQoQmstk8qFGX7GJqhdSF9rp2BPh2GpkOjG4X8p3\n",
       "s0pWO3Vk1pkOHvDYcLhpXONIhkTyxXEz5IQjqMioKQ9Hrt8ssSbfTWPI0xTmK4TVWTVcMaCCbhJV\n",
       "L+zR/E7Nlh/0T0Q4Cqlv9ZYzg7vt9XRuknj11oqhf8BjwwG4VY6kSVA7/jZiyAlHUNFObw5HzO97\n",
       "7AixeINzN2C3O46nKUzLFau7d5rQBSwSVSe5sWZFFXRqCpbytrsWf/7OwbXvi1v7LsGdIGhmKICd\n",
       "hb3Dq5XzzYMfTsxpOm9rhFvgSIYEauL9jEX0GBLMgnAEFRk16fFJ6CfGjhDrNfCEHZpay9jxNAUL\n",
       "Memz+YJtfNAq2FtsUtac7hJ4C/l2XPq7bRSOFPd58M/slvjowVU7X3Ip0eEWOJIkQZh4MwPEdlf8\n",
       "tyOoWN79dszGSsZxT5jw3q+OpylcL2C1H8Djji4D0Kp7LddWhCOF5/UV9rr5h7phsk5w98/ABnqt\n",
       "0692Hx9LIZJVlSMYiayJoNQxZCXrWXDU1CbrvN95x4X/fnU8TUHLC+J4fu1F24jF7ngURM6zCnWS\n",
       "tbBHOj32jTCNRk2EY+8vt7T07wRB35zNLnjw6mOidzE8NhwWl+1IlkQ2HB0iMGRtZbTgqCkPx6ff\n",
       "/tihYqkGx/Yc3q+OpynYXfaB1Jp36WCeF6cwl+ifVaiT91rsUUD+dHd6pCx3oHUfpYiFPneMTjJw\n",
       "gt61Gl/0IKhqs2RpxhgeGw7AZTqSJ5ENR4t4M6RDq3P72Mc5GP5MasCS+omxw8SSDfz3q+NpCpsN\n",
       "plV2W7PKTTTKWjPb3+SRKtRJaO+tIIbnouLRqVBKdK56Ic5igt2Z5ZzgHr3+1u48tyOqjXkjDh8N\n",
       "B+ByHcmSyIYjIDqGVDiu67T36xioyKhBxmkeOPqJscPEkg0Oyjoe9KMwb0SGEK3Ck8egzTUd/4xh\n",
       "6ueka7QRHGg1zGUocKa5E1e6+gH/GMCtzJEECeYj88ZKo5iKrJriZI2y6XO/Y1MN4LDA8TwLj1/a\n",
       "1a42e/gqqCp0YrM+PkIbQZ7h/kRPfiXgEcR3UMnqB3z8CcHzE4+0IzkS+Ueoj0oSn0OQ35e8/gkF\n",
       "xiZ7sI81WFuTq1XE8yroqLnJ9Seqek4mqMK3MpzJhzba7E6/0VyfgDPFnZrtyWoGfIyXdiRLgvGI\n",
       "Lv3dAVTwzSy4nmy23GcVWIPN7Ibg0MDxtAWl47x/fT8jsSWB+7TGddL1+3Wsy0oFaCPYavKtB84U\n",
       "d+qxZDUDPsZLO5IlwXhE6cqI0Z/47wlPNjJ3qo42GOSwxK5DoerriHfOPbu6kAUGAuc3ftnBgk/g\n",
       "6c+YWKgQVMjP/GeZB5vqpWPs+muEh7fF4rJ91SeXP+nI8MslZ8fu9w2ueW8r8f/6nTMwN3alg/sP\n",
       "VCI2MWMNfQsAAAAASUVORK5CYII=\n",
       "\" style=\"display:inline;vertical-align:middle;\" /></a><br>"
      ],
      "text/plain": [
       "<IPython.core.display.HTML object>"
      ]
     },
     "metadata": {},
     "output_type": "display_data"
    }
   ],
   "source": [
    "dot_prod_and_more_amap = Lambda((a_i_to_j),\n",
    "                                Add(ExprRange(k, Mult(a_k, b_k, k), \n",
    "                                              i, j)))"
   ]
  },
  {
   "cell_type": "code",
   "execution_count": 161,
   "metadata": {},
   "outputs": [
    {
     "data": {
      "text/html": [
       "<strong id=\"a_sub\">a_sub:</strong> <a class=\"ProveItLink\" href=\"__pv_it/basic_expressions/9527b62f6c6d7140a64245dc33a2fb89bed763180/expr.ipynb\"><img src=\"data:image/png;base64,iVBORw0KGgoAAAANSUhEUgAAAMIAAAAWBAMAAABgYF47AAAAMFBMVEX///8AAAAAAAAAAAAAAAAA\n",
       "AAAAAAAAAAAAAAAAAAAAAAAAAAAAAAAAAAAAAAAAAAAv3aB7AAAAD3RSTlMAInZUiRDNmWbv3US7\n",
       "qzJazP2FAAAACXBIWXMAAA7EAAAOxAGVKw4bAAAB+0lEQVRIx7VWMUjDUBB9NY2pbbVB7KYQQagI\n",
       "SgUV7CTdlag4CGozupnBycVOToI6CIIOBZWCgohbF2k7ORSUIs7VTRdFqYuL95uk/UlN6WAO8rnc\n",
       "u8f7+Xe5BIAM78zHlo64hwohhZYJeGnDgKh5qtCpQkp7qhDQ0QVv7RBTHiusY5P11OOg0ogNJHvb\n",
       "7UUb729gljSAnByuAvNmgx3gXoXYzlti8FBpBezglNrpCFIGSBrochpbgN/ag7jjKmDycOVM5YFp\n",
       "HAPSB4Izdd42cGa6Ol0vI64Kdh6XygPvTKErj9R1Pe8E4o/p5tmScFWw87hUHsixU0op2ANuHown\n",
       "/ETgA6HRNhQMnhiLOxV4IIEiBeJ4EqIK1Ual+Be6tfGFiMorqM01gMmTJUHjFZzALnUTwoqQlXyL\n",
       "GYjfFCoioevRBP8MtXhK45zaUuNhya/zCk5gE2/EK88NjFEYuKDNrg49lyukI5VKJ6U7g8biQZaf\n",
       "hekEzy0eOtM9JbKCkWoD6P4SQaubU2uAYB2HWK3wpyQ0H9Nk3YvItjrYAV+GjSbDpiR6CyxQ0HRe\n",
       "wd9c5kabvtp7yQ6wwVow71cHgYV6IcuyqdC3keTijUo3xsWo5dRSHUA/XSsczzFl8i5x9mXkZ1sL\n",
       "gO3fp7g2vN7OJ+Z2vwXQ8Q8/AVJMbQ38AmYCg9ciLfdhAAAAAElFTkSuQmCC\n",
       "\" style=\"display:inline;vertical-align:middle;\" /></a><br>"
      ],
      "text/plain": [
       "<IPython.core.display.HTML object>"
      ]
     },
     "metadata": {},
     "output_type": "display_data"
    }
   ],
   "source": [
    "a_sub = a_i_to_j__partition.rhs"
   ]
  },
  {
   "cell_type": "code",
   "execution_count": 162,
   "metadata": {},
   "outputs": [
    {
     "data": {
      "text/html": [
       "<strong id=\"assumptions\">assumptions:</strong> <a class=\"ProveItLink\" href=\"__pv_it/basic_expressions/8aa16e57b03c0bef5d841e23f920db715e8024b00/expr.ipynb\"><img src=\"data:image/png;base64,iVBORw0KGgoAAAANSUhEUgAABIYAAAAXBAMAAACMtFnGAAAAMFBMVEX///8AAAAAAAAAAAAAAAAA\n",
       "AAAAAAAAAAAAAAAAAAAAAAAAAAAAAAAAAAAAAAAAAAAv3aB7AAAAD3RSTlMAInZUiRDNmWbv3US7\n",
       "qzJazP2FAAAACXBIWXMAAA7EAAAOxAGVKw4bAAAKdklEQVRo3u1ae4xUVxn/7szcnfcwElsbA+FC\n",
       "H1TTxTGB1W5MOqEVjQt6u9Y+yG53qCHBR8MEW7Ju1Y42FhOJTDEYYoms9hUXXTf1uX80zNZgQll0\n",
       "XKlC0jYj1TQQUhZxGg0JeF73nu+ce8/dYZNtNoavKcy95/e9fvObc885FwAokv+oWbCAZkgRcrsY\n",
       "6j93cZbibkUFe/fNUE7IbSuKv3kwPN9SOy2AwWMl6GNXNy4kiS+yPxMT2u1gZlJOmGWduTIIBI8o\n",
       "MhmCvfumFudbSJU3RvE3D4a5xb/w3y+PHa1BB4MdFmD/YnorJA4+zTpbK1qLlxeSxFjNrCGaOVYV\n",
       "d0g5sFpDnXUBbo2Of84VCEVDa2Gx2K0RGsItK1wIKzzn8We0whGdYZXD2PEWVLoQ2jjIZKABaLRA\n",
       "AbnSSwBDrDO7Ilq7d2FJ3GrWEM2cEQqm5cCzquL/tp1oqMuNDH+Lh8AaYsEWhynFqRpSWsZcCBvc\n",
       "2fb4M/9EKzrDKofJKhHBnRhtGrw3BMCi6QXkf5yoQZp1lqyJ1oYXlsRdZg3hzEkk96z3+UPkC0hV\n",
       "58rAEVhDydqi0ZBSnKohpcrhkPZjbY+/eTAsvvAiDNgNg6MyOBwZHnt9DLZAhnWW9lqrLyyJadeo\n",
       "IZw5jZ/TDtIQ7JszxT5dQ2lYPLbPqCGlynpI+0xDaXc+DMdeGXuezeUA38i3dI/bxsYq+mA9Mrx0\n",
       "gvwNzvVUQ6SzHtFafIHn/a6aSUNK5h6jhrbNmWKbrqGeRaShbUYNKS1XTBrqqs2D4exDvvIKzbd0\n",
       "h9/cHBw0y0AU4Dvli2/EyhnW2SOitSR9CC9fvxTt2k6sdDokSPELH0g0TRqimfu9KZSUY6+uhWlo\n",
       "U0R+e1XTQ2ANiWCDEkjy2M2oQCqchX71H3ei6/7uB++K3O3pDnB23Kqpxakawi1jLlQNJaLK7u/W\n",
       "GBYBr5eTV849oqDJ97s1ZJDJQAAUVkQB0ilfzMGxDKN9m2iNyiz7FPxJZp0s5tod7lwVv/CBVMV/\n",
       "/o8xawLKXJ6UP9dEth6moScjCkjCfg+BNUSDxeuwRwLLt0NqNiKQBmehu50RdF2NzSRHIbIW1cF+\n",
       "aOMmpbgR1v7PlSq9ljEXqoZSUc+JarqGGfYDbpGQtSlHQZNcxZBBNtsIgGSFRuMFSKd8sVDdvJl1\n",
       "9oxoLUN+XA/UgHRvc5i9HyhZd3egIe4HhaiBeN00D5HMhdJOcYOU82ayEqah2yMKWAkXPQTWEAs2\n",
       "Cq/JLXBpBPKNiEAqnNo3YY97Eq2Ni6l2PvKxojmA5cLHteLUeQi3jLlQNRSPWK/GiktKKsMiINKd\n",
       "3NlzNJFD2CCVgQdArFS8ArrwSvyJ+FHW2dOitTRJ/jjbxCV47clZtslc7/ncb/4hcD/IeOsy+8ng\n",
       "QGHWpCGS2Ya94gYpx007fLb66Q/FbMU0dD7ie3PjbQ+BNSSC7fVrp3nSzj2bXjUGYnBsLdiJOyoA\n",
       "5dO+63XjEpc7YLvH1YpTNeS3jLnA7TMNFSKmTxvucFWGecACiTD2M3F0S3K7CA1whk6HDW2QykAA\n",
       "7C+yCbMlovECpBPRUN49xTrDGjoA9iW5Dm/A0IQ3PZMQq8wzuOJH7PQHgwPZeoSGIN6WGhIt6vPQ\n",
       "ZOQDZNRDaBqCw27hsqw924bzrSqMGANRuHZrL+6IlOtQQqKeZ6oIwWJtTEZpyG8Zc6HOQ9nIffOI\n",
       "zjBXgZxyByzy+c8ITW6FDaYnJEAajcYLGMDzkN3czDpDzzL7X3ixMOT4K4Mca8nImupHrTc4wNxD\n",
       "10N0+uxquv6zDB62wzTUG8UhO5brDXmWkUkhVpe1k0nkA3AJVrRMgRhcXdNdgM/h7IeLtrtkwrps\n",
       "Xh0yB2m/o5tnVJy+HsItYy60Z1nkIuxZhWE/oPR5g37ls8r5YyZsMFMKHlDyaLyADNYQnM6xzl4W\n",
       "reUcsC9CvvLhbDc7MYChEvw1XnyxiTVkh8z+IPyg/yuKhrSBVMM0D5HMZMYr88mUlGNfSoRpaLfI\n",
       "FpjHqa2Y8BBiVmaZaG/HIdeUtZPPx+HbVEOGSBSeGj7dHdvd4i0cy9ehzDuigIGJU5CAlEs0ZCCD\n",
       "O+z63qoqryRegjwqLjgPiZZ5fYKLkDV1A0z8k6nuEmKYggSHq/yFYPW35FsfRWgS1gkZpAV4AMkM\n",
       "jZZqKE6QIwTFzrHONonW6NbtZeitVvuXuDBUodHiLyRtp401RO/b7wD/IK+YH1R7sIb0AbZpDNUQ\n",
       "zXzeqjEHWk5h9gZNQ58p8i1wWG52xWfMR3hEdptlor19HQ7X/Noh2cz+h/z1KWMkCr9/spZuxprs\n",
       "bvzyffVsiWuIAu7451fhlzT+qIEM7mB/dz88xUfPbbxpXBYXoiHRMosiuFDbT1zw+PNT+nk5a2y2\n",
       "9ximtwWHXSV/874VrN83EJrY50MG2Q5e37qyaMmy4sRj72SdnRWtFQjNgzf9faZ1HaEr8xypbubT\n",
       "y9dYnx3FGqL34QU6pVW9P8Zc4We7n1DmIW0gM2HSEM2c/w53YOWc1M6HXj/4MLlzCERQmZtVQkvi\n",
       "e6lDIiIFsUw02OD6x4uydvvE6gv8JaYhEoVfdwssaVHKCMbe4XzkCdERBdy3Kj5MyTvrGsjgDlZ/\n",
       "Bdo8STn+gwlUXFBDomUWzuMCt58/9c5JwZ+fUuZlrLG9pscwA3EO7dd+Lc5p/nBg+uCBMkLTXo+5\n",
       "gUFaQHDrSqNlJhSnwvYD4u3aIbZnYq2New70CbDOn7Ec+Nr00elp/luW9+VpqouOYgvTxKY448oA\n",
       "wPvN78vGUaRMK+Sglk3Ao1o2z9Z5y1iO6OMglokH2wC49gT5lS5zzZEofAbOsIUBwvSC0r11ZA4y\n",
       "8g5dg8prv7ighryW1ynfgtY+58+Uku3CfIYRKLuRv+sIoqn96pWxij44jgHBAgJOtDP6MrAPv1Oz\n",
       "26Snsr+yflBZU5eDp3Ly4wWFcW1g2KyhXSgSfrWaxecw/M1kItgbKekvqbaP6OMglokES1Ts76Pa\n",
       "N8ADJbCqVtEQicN/BLfBioKSrReU7t8H74kmI91KVlvo2i8uqCGv5bL2ZlNpX7wLDU2ZL+1xMcPl\n",
       "iDNUHx0+SAswAEwvY2lnU6K1XNF7Y1IF2xdiT1JZUwcF2i+fmnWFcXXAapg1JDJzhylDqcu0bP56\n",
       "z4HCRbabWOZF7PczTUHGyZdR7T+BEwT49ltueCQOt2bJTLQ7qWTrBdy99ce3H40mYwVk3myh62Vg\n",
       "1JBomYfLGf69IOcvPOX50jOAGLYj3lD5aMMgLSAcYDUivpgB0Zp3mGDPFCHmIwZXCg1ZG/7toPu+\n",
       "yYJj/hud925frw9wbsI1JDI72qmFalNaNj84+X/HYxLRx0E80wDEv/UYrv2jq8n9g1eumCIxeLYJ\n",
       "W2D5zRjDOpLdp69cmY0m4yWIfRJfT0VoaMBPrxzpKMb5C0+ZpE1JhmMRZwA+2jBICwgHmMTNOrMc\n",
       "WMMulhoz5zp6a2Z8s0wHVnKe9HOZYGbLMRznz5VeINYAymR1+tJ4oU0tTt4OVrnU9DZnLjMwfNV2\n",
       "lQXEOvwn68lOQF86c7UD1+yaqbbj0asduGb/H/Y/6CpOpKe14wYAAAAASUVORK5CYII=\n",
       "\" style=\"display:inline;vertical-align:middle;\" /></a><br>"
      ],
      "text/plain": [
       "<IPython.core.display.HTML object>"
      ]
     },
     "metadata": {},
     "output_type": "display_data"
    }
   ],
   "source": [
    "a_required_len = Equals(Len(a_sub), a_len)\n",
    "b_required_len = Equals(Len(b_sub), a_len)\n",
    "assumptions = [a_required_len, b_required_len, \n",
    "               InSet(i, Integer), InSet(j, Integer), j_m_i__in__Natural]"
   ]
  },
  {
   "cell_type": "code",
   "execution_count": 163,
   "metadata": {},
   "outputs": [
    {
     "data": {
      "text/html": [
       "<a class=\"ProveItLink\" href=\"__pv_it/basic_expressions/578b5e5d5a715aacadebbb3d83ea209ccb88394c0/expr.ipynb\"><img src=\"data:image/png;base64,iVBORw0KGgoAAAANSUhEUgAAAp4AAAAXBAMAAABQeFKZAAAAMFBMVEX///8AAAAAAAAAAAAAAAAA\n",
       "AAAAAAAAAAAAAAAAAAAAAAAAAAAAAAAAAAAAAAAAAAAv3aB7AAAAD3RSTlMAInZUiRDNmWbv3US7\n",
       "qzJazP2FAAAACXBIWXMAAA7EAAAOxAGVKw4bAAAF90lEQVRYw91ZXWhcRRQ+m83du3/ZLMUHKRY3\n",
       "URoRqrGUQPPSkAcLhei1oiik7r4UgxK61FpCFbpPrQ+FxkChVsGASnCLJeSpebFJX6QQMKRFKyis\n",
       "+tQgJDFNXwrinLl35s7PuXcvG5+ch03OnDnn++bbM3PnzgJAGdq3FNGXJI5s5WiI8q7T7Cq0TPtS\n",
       "CdPycV2DCUYWKlZXojiqRQRyiIVdp9lV6AJN4ZmEefkUDlndzp1ZA78Oz1mjDsVltlIYgQNG37oH\n",
       "HKKrkViUWPxYAn7oX57eWfrGh7cppEfsFOPXrC6WkE3BqdmDM3Xdzo9AxjMJ12LnY6YwAr/Wu34+\n",
       "xdJziJNJ5WyDH0MgCN2vd544uxPAWxTepJK8a/Xs51NwiYrotddDVtC7Gfx14yupN3I1qoEiGbzo\n",
       "BRAXTY/ZEuLHEIgI7doJ4AWFghg2RQ3fpjrZFHJE9y3P7rsS/D0Y/M3FT4dKYQceVPXkEDnP8Jgt\n",
       "IX4MgYhQrifCCwpp8cyYprbKHTLJFRgieo8RfRPGfIbip3Ms0jMUqSdCZBoJ9WyDH0MgIpTrifCC\n",
       "gtAzTe0s3fT2PAFn8Dl/r097fk/231XN41jwY8Z8qLjoFEpjgc5Ag9ITIbpXE+rZBj+GAA91+lcp\n",
       "PRFeUBB6uvg42je6R9+e1w7oG4qfcIwXxWK5qJav88irqqewkUX2ccGYDxEXk0Iv9O7CNKUnQmRr\n",
       "CfWMx48jwENduErpifCCgtAT67XwKfyobSDVk86WvinzhBfgK4Z9FVxWvq/J88EO5CqhWRo8yz4P\n",
       "G/Mh4tQjhp5CbSzwT7dG6YkQ6emEeob40IokQLowFPqsBwrXE+EFBaFnnhXi2w04h1LI0Uc8mFHt\n",
       "IOFh+JxJu4knIhjlXytKXYPeEW5ClU3cwUjYQPNcs/lZs/kd/qvH8fZWTYSoKQwPBno4VTWZrydC\n",
       "lDYNj9ZIfLghatJfQwoB0oWh4KVRPue9JraW1BPhOQW32fz2WrOJazg3D3DeP+LlWyIJK7GHgc01\n",
       "CxJuYPLcElTnA+A5/7h5K9gc8nX/u2Zry6gPPc5FLv2zMiRMYXr4bI54VH0iRCFpfRq8sf3xPBAE\n",
       "LBdn4Fe2VZ8IXzDqE/X8ApzH8jRe5wfogizwOZAJF7H4qxW4bBzdzqubRWaVWcP2elPiipzALJHC\n",
       "9PDVNulQeg4rI5Osd5O35EjMYdhY735l2+t9NqSgrHfnb8huGsdPd8d66UGY24zXIPyULi/IB15v\n",
       "i+1MocmKgA29ZMxHj7P0lCksPVmg87ib0hMhsksJ9ZT4zsAgpScSoF0YCvD0PPk8WgopCD2LFXC2\n",
       "oaf2Ehz/QI7+B7dUxQ4SXsJDSrGSnnOditS7p1GsKyZspBr+IUOdjx5nqhamsPQcwx3qSUO1V8vB\n",
       "OcYd0Tx8b+IbVrVG44Mbng8V0ZBAhMs/+l22TpRbAbygIPTE89NtGK7XoR6eXO/DD6DaQcIzsM5I\n",
       "r72y74XU63LOzr0pUEzo+YR9XDf01ONM1cIUlp7ryMY4f/725WTDh8jP6545uSHWaXx4o7tOiIYE\n",
       "IlycAfxqyNnzy6P7PrygIPQsMfInnv19reV4R8PX/aMNUO0g4XX/ERWUtdoMMzVr6KnGfbxyZ2Wl\n",
       "oakW7cm3iPcjCbEXEq73ME2mUVphbVkXLcbFQ2fI7HsVCvJ984b1kkjZM/4U5EVH9R1tqGHKO4Sb\n",
       "5gUJH2hVYbQnWyfuQyTEVNL7kDBNb5kqwhgXC72bpV8EphQK8j7konRvGcND20+IU1gWb7Wu/pKr\n",
       "m09Z0FocqWeEZzlCKYRILSW+/5RpHkCknhGu5dJ2nrx+QnibQlF8KyXjZiS0g4Q4hXGxI/Tp94F9\n",
       "NPvwRlUdiKqlXn5YsVPYnvEYgYrJf8SQaQ6If544NWqMiXCNw+mPyJwIb1NwhMJdxju/YvsJcQqp\n",
       "SpJfCOx5anHFyMhifKAB0Zf8RwuZZiJ6zESbULP10RT2QPgmr2/PbVXqsLkdeP6blvl+ugNXR+39\n",
       "B/H2/6K5A14Hro7a6Q/jbWz/Agx8wVpOuiviAAAAAElFTkSuQmCC\n",
       "\" style=\"display:inline;vertical-align:middle;\" /></a>"
      ],
      "text/plain": [
       "(a_{i} * b_{i} * i) +  (a_{i + 1} * b_{i + 1} * (i + 1)) +  ... +  (a_{j - 1} * b_{j - 1} * (j - 1)) + (a_{j} * b_{j} * j)"
      ]
     },
     "metadata": {},
     "output_type": "display_data"
    }
   ],
   "source": [
    "requirements = []\n",
    "dot_prod_and_more_amap.apply(*a_sub.entries, assumptions=assumptions, requirements=requirements)"
   ]
  },
  {
   "cell_type": "markdown",
   "metadata": {},
   "source": [
    "Again, we have the extra requirement that the indices match, not just the lengths."
   ]
  },
  {
   "cell_type": "code",
   "execution_count": 164,
   "metadata": {},
   "outputs": [
    {
     "data": {
      "text/html": [
       "<a class=\"ProveItLink\" href=\"__pv_it/basic_expressions/5eec19b978695c1802157e0d892a5f7f5cba0abe0/expr.ipynb\"><img src=\"data:image/png;base64,iVBORw0KGgoAAAANSUhEUgAAAjEAAAAyBAMAAABfSpdAAAAAMFBMVEX///8AAAAAAAAAAAAAAAAA\n",
       "AAAAAAAAAAAAAAAAAAAAAAAAAAAAAAAAAAAAAAAAAAAv3aB7AAAAD3RSTlMAuzKrZonNIu/ddhCZ\n",
       "VERetuGgAAAACXBIWXMAAA7EAAAOxAGVKw4bAAAJmUlEQVRo3u1bXYicVxl+5//nm5mdRTRJF3WK\n",
       "F6bSsmOMtgbFKUgRKexgwIugyUh6UQhtJ1Qvkl64i6nRCs0aLbhYZdLULtYN+dJIlRXZUZJiamvW\n",
       "i8akucgitSxFaC60KV0inv/vPX/fjPNlhMKei8k7c8553nOe73znfc95NgCkpBqwWaJyJlTmTvFv\n",
       "l30WxunV48LxczcOIKYUhmznL+mfSivTFsZe9nlqnMy8xT5za8bPtufyahxATKn1EOJo5Yo07tPG\n",
       "V22Pk5lyy88M87wkfnkN2fhhcgD/856CZxMzk2uK5XdUG9+L432JD/iZYZ6f4j8EnciW5exLGxLA\n",
       "z3wH8mFSZuDH/J9STxvfufEyc7+fGey5gpZGTdrlDQkQV7L9xMxc5nvwl/TxzY6XmWLoZQZ7LiK7\n",
       "2sPMFMNBLn6QmJk8Ixce18ZX7YyXmXzLx4zm+ZKXmXxrkIsHEjNTu6HcReOr0G3w0T2HURj89GJv\n",
       "SEStnxZKFQbb3ZzMUM/Bkpj3eWTrzMjt0VmWT5KP3YmZgf1sm2lq46OPpHYUPhpCIFKC9W6KjOg3\n",
       "w1DN+kHaruEYQDLKbEcyU1lgpYk952qz6rkrW2cmG7eo+8WWiLXJmLlGX9nphsZMieQRv23BBTIy\n",
       "PqDgCFTmAfbIRr/2j4z3g5JEDGQ+IDDgOJnmrG/NUM93VQT6z5CtM1ON2QjL3QkCcjk5MyvU5T36\n",
       "+Ipk0BdxwKxch5JIcSo0YXh+3ot30Qi0n/iljZG+7mOGeg6LgoUnpU1W1k++L1YWY4YBeErAHvZ0\n",
       "cmZSdJLfscc3B8F/oihRhxUxkRR7gn5mtH44mUQYtdk4Zvgy5swoW18ztdjgSdfsenJmsmQLTv/L\n",
       "WtPBe5C9DrWTamHNkKS8OZgZ3g+WX7WY4RjB0qro7txn6NsE+wP1NinbeJvm46b0lPSajJmAsFK+\n",
       "oTOT6kFwEzKdvy1PkE2YzmoVPlN9rLeBmQlsLPJ8eT/oX9KYCSVGt0LjcrbuWzPEM1lzOQ5+G7dd\n",
       "O3BdgJovEouBdM3eKxDDBNSQNyk1q4+PBsXb4Eq//xiZ1kqHDrj6dKXw+3nMDP09eAfEh/rG+gXh\n",
       "1zAzrIJhwO9yfZEVOJmhntPXv8ngaOSlts5M7oYM7rZv1outWRrxKSL7edSyjW0B2vjSZOJnf/Hx\n",
       "XQ362ErkCBfs+sqjz9AH+ofJrZOTLcYM/R2eBvFRohnjQij7kYibniRlC18ztIJjsLhcWvMxQz3D\n",
       "zhYHv4PbGjOZe97ZKQAoaOSbGezqIENn83OBuJBg0ewjXPeNHP24XJ4bZJJXVRh7QdtnrlpQ1WgY\n",
       "N7S3CVVMkAzpkP/cJD1fxZEfrxlWDhneAPUCGs4K8wKxmoCZmTWY7hnjkye2aodwpm4kLlU0Zuyb\n",
       "ilx0ETCrMRNVwHZ5bHQzIz231bHQOFGCOnfm7LmQXpnVmVAeRvc6Gw1dCC3XVo3xpUTqG+zqQqBo\n",
       "O7somCl89d899HuUl0fplkqqv/XIHlwBJNoV6n5mhGcOvsV3ZVfXvakdmPSaXqUh7aBEXE6S6vVh\n",
       "pmGML0AbT9nIfzy/09LTz4yuCpry89m7mRGeOfgZXw7WNUDRkCpLa4rTva5Gw5eJJpxGF6bPsM/D\n",
       "3uaVYTAf3u47Zf+dvGaLfBoNo872XPDMa3HgrWEXIY7OTB32hXBry8t/9vG6dKtdjfMaqQMX30fD\n",
       "/T+W0jx8YZMFJzOzm8x4mblFb1PXYw/+WW25Q/7eHdCm8L/Be4DJ27TPP+Dqg+9+Y2Gr79r10rHv\n",
       "bvvhERkQUFY0oobmEwBrvcEwpwbj1AbG8LeMHfg0DqC69FX+QAM6efX1dn11ndgBeZD3e1g3G01D\n",
       "YzJcesr49Q7i81mMM+WCoX3Lfdv2wjjK7aEGXGxqmZ4hfVX6ZBhfV1+f06FeIc5yYnlg3WxEDY3J\n",
       "cGX9JjX43CNkSnn0RGiDA86+8s4Q214YR3lOB57ow7U1b+NMF87gjFgvd5OcVSaqWDcbUUNzC4Cn\n",
       "Q/0IBU6Ycx77jTgYu2DglTZMO9b4iYWFDr8M+mOm4amEECqNHXLt4XUIjlPyYA1t1ssMV9aQgzCu\n",
       "L7Zfj4NxZHehdqKcsKl881fqtW7e6a+Ej6VlX6ybjaaheQRANqUHjFNGK6avhvN6HIzj+IKAyUG7\n",
       "FEEJ6asQvW+pUG2JwfNNoxKmUpLk84k1NHbVt3zSyczu6EB/0gVD+y6fs22Dmd0xpLDZYWBynMxE\n",
       "y09IX/kojr+W7UWnySNGZbX9ZXSITqihsefFdDSbGfVXLLwBh7nArtd/JPu21yMcaRvM3BfDDJsd\n",
       "Hh9JgLOReCukryhO45i9CDeNyihma7rZaBoaFQ64jmYzczk6RtMGFgzpm159ybYNZi7HMMNmh4Hn\n",
       "yFZyU30TMth2+jDqPGeLbuDD6oZeCadya1JEeDKxhkbFJq6jwYtsNRyPpjSt1jxrYMEU6TieMG2y\n",
       "qL4nFpUB4yhsdgi48B5oShyXvqI7ozP0Au1uueDm9cqgfpAFdsFGQg2NyXBMR7PXzHr0/YILhvat\n",
       "bti2sWbW43ZfOjsETJU4+FNUzaWvkvq+g0w8kETy9CmqzDQIZyvqDUqooTEZzkwQxZSu6Kkoh0H7\n",
       "DO2bb4Zg2gYzV2JPkG1tfBlqvq1SPSF9leV00v1/sjbcz7fXtEq4s0Zi9mc13WwYDc0t4jEZjuto\n",
       "NjP3yka8QdZMPmnflbW2wqG2g5kIxvLOZ4eAJ+hwSiqhkdLXQypmH4DCh+tC0ZoBrRKmSLp98K+a\n",
       "bjaEhqZLZ5GixiJm1tqI2Hn3vGzEG1RM4YL2nS60FA6xDWZ0GHsIfHYImGoQODgJ6evsRziP6x+a\n",
       "mzw21xaK1idBq6zNPTi59d0ParrZMBqaEvGUhsbwmQyXMVfDp47tbwlljQ2CNSiZ5xnaN/PFCIfa\n",
       "GjMGTKTe9SUwmx0C5hv349YC+8e2BZx6cEXrCXelppsNoaH5RDwai4rOmwKurLFGrMEhq8VxA8fK\n",
       "gQ0Y2zubXQTM/xqNr5y4QjeNz6OlpResmw2hoflEvPuFjuYIGy3RSDQ45zsK5sxj4RtOGO/sIuAU\n",
       "z4bzg/40eplmPSXPfRTWzYbR0HwiXqrLdTS7HJSNeIOCffoXEt4ysmNgfLNDwG/zR5Q+OoAZOpeX\n",
       "/+KpxLrZMBqaT8QL6lxHs8sW2Yg3cExdXJX0kB0D45sdApaP6ETya2Csm42oofkEwHJ3MMzhwTjl\n",
       "gf9FY1ELdjxyjPV/GrwPy5vKemiTDC0LQNcwjU068LUy23//C5iPQT2VXbVhAAAAAElFTkSuQmCC\n",
       "\" style=\"display:inline;vertical-align:middle;\" /></a>"
      ],
      "text/plain": [
       "(|(a_{i}, a_{i + 1}, ..., a_{j - 1}, a_{j})| = |(i, (i + 1), ..., j)|,  \\\\ i in Integer, j in Integer, (i, (i + 1), ..., (j - 1), j) = (i, (i + 1), ..., j))"
      ]
     },
     "metadata": {},
     "output_type": "display_data"
    }
   ],
   "source": [
    "ExprTuple(*requirements).with_wrapping_at(1)"
   ]
  },
  {
   "cell_type": "code",
   "execution_count": 165,
   "metadata": {},
   "outputs": [],
   "source": [
    "%end basic_expressions"
   ]
  },
  {
   "cell_type": "markdown",
   "metadata": {},
   "source": [
    "# Next chapter: <a class=\"ProveItLink\" href=\"tutorial02_proof_basics.ipynb\">Proof Basics</a>\n",
    "\n",
    "## <a class=\"ProveItLink\" href=\"tutorial00_introduction.ipynb#contents\">Table of Contents</a>"
   ]
  }
 ],
 "metadata": {
  "kernelspec": {
   "display_name": "Python 3",
   "language": "python",
   "name": "python3"
  }
 },
 "nbformat": 4,
 "nbformat_minor": 0
}