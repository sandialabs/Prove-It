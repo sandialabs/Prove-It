{
 "cells": [
  {
   "cell_type": "markdown",
   "metadata": {},
   "source": [
    "Chapter 2.b.iv.  Generalization\n",
    "=======\n",
    "\n",
    "As we saw, **instantiation** may be used to eliminate universal quantifiers.  Introducing universal quantifiers in a judgment is accomplished via **generalization**.  To a certain extent, these are inverse procedures.  You can instantiate $A \\vdash \\forall_{x~|~Q_1(x), Q_2(x)} P(x)$ to get $A \\cup B \\vdash P(t)$ provided $A \\cup B \\vdash Q_1(t)$ and  $A \\cup B \\vdash Q_2(t)$ are provable.  You can generalize  $A \\cup \\{Q_1(x), Q_2(x)\\} \\vdash P(x)$ to get $A \\vdash \\forall_{x~|~Q_1(x), Q_2(x)} P(x)$ provided the expressions in $A$ do not have $x$ as a free variable.  Essentially, these convert between implicit and explicit forms of universal quantification.  Free variables of a judgment may be instantiated to anything as long as it is consistent across its the judgment (both sides of the turnstile); in that sense, there is an implicit universal quantification.  With **generalization**, you can make universal quantification of any number of parameters explicit, binding the parameters within the $\\forall$ operation.  The only caveat is that assumptions of the original judgment than contain any of the newly quantified variables must move to the right side of the turnstile and become conditions of the $\\forall$ operation so they can be properly bound, consistent with the other occurrences.  In our example, $Q_1(x)$ and $Q_2(x)$ were assumptions that became conditions of the new quantifer.\n",
    "\n",
    "The rules and mechanisms of **generalization** are very simple and versatile.  You can parameterize any variables, over any range of indices, and introduce any conditions (more conditions will only make the statement weaker and therefore no less derivable) with the only caveat that assumptions containing any of the new parameter variables must be in the conditions of the new quantifier.  Assumptions are eliminated when they appear as conditions.  For convenience, any number of nested $\\forall$ operations may be introduced in one derivation step, but the effect is the same as if they were introduced one at a time."
   ]
  },
  {
   "cell_type": "code",
   "execution_count": null,
   "metadata": {},
   "outputs": [],
   "source": [
    "import proveit\n",
    "from proveit import f, i, j, n, x\n",
    "%begin generalization"
   ]
  },
  {
   "cell_type": "markdown",
   "metadata": {},
   "source": [
    "## Generalization demonstrations\n",
    "\n",
    "Let us try out the various possibilities.  Let's start from the `general_len` theorem once again.  We will **instantiate** it in a generic fashion and then generalize it in various ways."
   ]
  },
  {
   "cell_type": "code",
   "execution_count": null,
   "metadata": {},
   "outputs": [],
   "source": [
    "from proveit.core_expr_types.tuples import general_len\n",
    "general_len"
   ]
  },
  {
   "cell_type": "code",
   "execution_count": null,
   "metadata": {},
   "outputs": [],
   "source": [
    "general_len_inst = general_len.instantiate({j:j}, assumptions=general_len.all_conditions())"
   ]
  },
  {
   "cell_type": "markdown",
   "metadata": {},
   "source": [
    "We will now attempt to generalize $n$.  However, this attempt will fail because we don't have all of the conditions needed to eliminate the assumptions involving $n$ as free."
   ]
  },
  {
   "cell_type": "code",
   "execution_count": null,
   "metadata": {},
   "outputs": [],
   "source": [
    "from proveit import GeneralizationFailure\n",
    "try:\n",
    "    general_len_inst.generalize(n)\n",
    "    assert False, \"Expected an GeneralizationFailure error.\"\n",
    "except GeneralizationFailure as e:\n",
    "    print(\"Expected error:\", e)"
   ]
  },
  {
   "cell_type": "markdown",
   "metadata": {},
   "source": [
    "Let's just use `general_len_inst.assumptions` as the conditions to make sure we get all of the conditions."
   ]
  },
  {
   "cell_type": "code",
   "execution_count": null,
   "metadata": {},
   "outputs": [],
   "source": [
    "general_len_forall_n = general_len_inst.generalize(n, conditions=general_len_inst.assumptions)"
   ]
  },
  {
   "cell_type": "markdown",
   "metadata": {},
   "source": [
    "This is not quite the statement that we had before because $i$, $j$, and $f$ are still free.  That's okay.  They are implicitly universally quantified.  Note that $n \\in \\mathbb{N^+}$ shows up as a domain of $n$ before `|`.  That is just formatting as a matter of *style*.  Internally, $n \\in \\mathbb{N^+}$ is just one of the conditions."
   ]
  },
  {
   "cell_type": "code",
   "execution_count": null,
   "metadata": {},
   "outputs": [],
   "source": [
    "general_len_forall_n.conditions"
   ]
  },
  {
   "cell_type": "markdown",
   "metadata": {},
   "source": [
    "We can accomplish the same thing by setting a `domain` argument when we call `generalize` and leaving it off of the `conditions` list.  "
   ]
  },
  {
   "cell_type": "code",
   "execution_count": null,
   "metadata": {},
   "outputs": [],
   "source": [
    "from proveit.numbers import NaturalPos\n",
    "general_len_forall_n_v2 = general_len_inst.generalize(n, domain=NaturalPos, \n",
    "                                                      conditions=general_len_inst.assumptions[1:])"
   ]
  },
  {
   "cell_type": "code",
   "execution_count": null,
   "metadata": {},
   "outputs": [],
   "source": [
    "general_len_forall_n_v2 == general_len_forall_n"
   ]
  },
  {
   "cell_type": "markdown",
   "metadata": {},
   "source": [
    "Let us look at the proof graph."
   ]
  },
  {
   "cell_type": "code",
   "execution_count": null,
   "metadata": {},
   "outputs": [],
   "source": [
    "general_len_forall_n.proof()"
   ]
  },
  {
   "cell_type": "markdown",
   "metadata": {},
   "source": [
    "Unlike **instantiation** there is no extra information for the **generalization** derivation step.  It isn't necessary because correctness of a **generalization** is obvious by inspection of the original (step 1) versus new (step 0) judgments.\n",
    "\n",
    "Now let's generalize `general_len_inst` with all of the original parameters of `general_len`."
   ]
  },
  {
   "cell_type": "code",
   "execution_count": null,
   "metadata": {},
   "outputs": [],
   "source": [
    "all_params = general_len.all_instance_params()"
   ]
  },
  {
   "cell_type": "code",
   "execution_count": null,
   "metadata": {},
   "outputs": [],
   "source": [
    "from proveit import ParameterCollisionError\n",
    "try:\n",
    "    general_len_inst.generalize(all_params, conditions=general_len_inst.assumptions[1:])\n",
    "    assert False, \"Expected an ParameterCollisionError error.\"\n",
    "except ParameterCollisionError as e:\n",
    "    print(\"Expected error:\", e)"
   ]
  },
  {
   "cell_type": "markdown",
   "metadata": {},
   "source": [
    "This isn't allowed however because we cannot construct a universal quantifer in which one of the parameters occurs free in parameter indices.  We must nest the quantifiers for $n$ and the other variables whose ranges depend upon $n$.  In this case, instead of given `generalize` a single variable or a list of variables (or variable ranges) as the first argument, we can give it a list of lists of variables (or variable ranges)."
   ]
  },
  {
   "cell_type": "code",
   "execution_count": null,
   "metadata": {},
   "outputs": [],
   "source": [
    "general_len_recovered = general_len_inst.generalize([[n], all_params[1:]], conditions=general_len_inst.assumptions)"
   ]
  },
  {
   "cell_type": "markdown",
   "metadata": {},
   "source": [
    "However, Prove-It recognizes that this has a short proof by simply invoking the `general_len` theorem."
   ]
  },
  {
   "cell_type": "code",
   "execution_count": null,
   "metadata": {},
   "outputs": [],
   "source": [
    "general_len_recovered.proof()"
   ]
  },
  {
   "cell_type": "markdown",
   "metadata": {},
   "source": [
    "To make it more interesting, we shall add in an extraneous condition that only makes the statement weaker.  While we are at it, let's swap out one of the variable ranges to something nonsensical just to show we can.  There are no restrictions as long as they form valid **Lambda** expression parameters (recalling that $\\forall$ is an operation that internally operates on a **Lambda** expression)."
   ]
  },
  {
   "cell_type": "code",
   "execution_count": null,
   "metadata": {},
   "outputs": [],
   "source": [
    "from proveit import IndexedVar, var_range\n",
    "from proveit import k, l\n",
    "from proveit.logic import Equals\n",
    "from proveit.numbers import one\n",
    "f_k_to_l = var_range(f, k, l)\n",
    "general_len_weaker = general_len_inst.generalize([[n], [f_k_to_l], all_params[2:]], \n",
    "                                                 conditions=(general_len_inst.assumptions+\n",
    "                                                            (Equals(IndexedVar(i, one), one),)))"
   ]
  },
  {
   "cell_type": "markdown",
   "metadata": {},
   "source": [
    "We have weakened the statement by requiring that $i_1 = 1$.  Now let's look at the proof."
   ]
  },
  {
   "cell_type": "code",
   "execution_count": null,
   "metadata": {},
   "outputs": [],
   "source": [
    "general_len_weaker.proof()"
   ]
  },
  {
   "cell_type": "markdown",
   "metadata": {},
   "source": [
    "Again, we can check this by simply inspecting the original (step 1) and new (step 0) judgments even though we have introduced multiple, nested $\\forall$ operations."
   ]
  },
  {
   "cell_type": "markdown",
   "metadata": {},
   "source": [
    "## Automatic generalization\n",
    "\n",
    "Rather than calling `generalize` manually, **generalization** is typically applied via automation.  Starting from what you want to prove, if there is an \"original judgment\" that can be generalized to get to this result, **Prove-It** will do so automatically.  Let's demonstrate this with a theorem called `singular_constructive_dilemma`."
   ]
  },
  {
   "cell_type": "code",
   "execution_count": null,
   "metadata": {},
   "outputs": [],
   "source": [
    "from proveit.logic.booleans.disjunction import singular_constructive_dilemma\n",
    "from proveit import A, B, C\n",
    "singular_constructive_dilemma"
   ]
  },
  {
   "cell_type": "code",
   "execution_count": null,
   "metadata": {},
   "outputs": [],
   "source": [
    "singular_constructive_dilemma.instantiate({C:C}, assumptions = singular_constructive_dilemma.all_conditions())"
   ]
  },
  {
   "cell_type": "code",
   "execution_count": null,
   "metadata": {},
   "outputs": [],
   "source": [
    "from proveit.logic import Forall\n",
    "partially_quantified = Forall((A, B), C, conditions = singular_constructive_dilemma.all_conditions())"
   ]
  },
  {
   "cell_type": "code",
   "execution_count": null,
   "metadata": {},
   "outputs": [],
   "source": [
    "partially_quantified.prove().proof()"
   ]
  },
  {
   "cell_type": "code",
   "execution_count": null,
   "metadata": {},
   "outputs": [],
   "source": [
    "%end generalization"
   ]
  },
  {
   "cell_type": "markdown",
   "metadata": {},
   "source": [
    "# Next chapter: <a href=\"tutorial04_relabeling.ipynb\">ToDo</a>\n",
    "\n",
    "## <a href=\"tutorial00_introduction.ipynb#contents\">Table of Contents</a>"
   ]
  }
 ],
 "metadata": {
  "kernelspec": {
   "display_name": "Python 3",
   "language": "python",
   "name": "python3"
  }
 },
 "nbformat": 4,
 "nbformat_minor": 0
}
