{
 "cells": [
  {
   "cell_type": "markdown",
   "metadata": {},
   "source": [
    "Theorems (or conjectures) for the theory of <a href=\"_theory_.ipynb\" class=\"ProveItLink\">socks_demo</a>\n",
    "========\n",
    "\n",
    "Theorems created specifically for the \"matching socks\" demonstration problem.\n",
    "\n",
    "There are 10 black socks and 10 white socks in a dresser.  It is pitch black.  What is the minimum number of socks that must be randomly pulled from the dresser in order to guarantee that you have a matching pair?\n",
    "\n",
    "As defined in <a href=\"_axioms_.ipynb\" class=\"ProveItLink\">\\_axioms\\_</a>:\n",
    "* ${\\cal D}$ is the set of socks in the dresser.\n",
    "* ${\\cal W}$ is the set of white socks in the dresser.\n",
    "* ${\\cal B}$ is the set of black socks in the dresser.\n",
    "* $c$ is the set of randomly chosen socks.\n",
    "* $w$ is the set of chosen white socks.\n",
    "* $b$ is the set of chosen black socks.\n",
    "* $N$ is the number of randomly chosen socks.\n"
   ]
  },
  {
   "cell_type": "code",
   "execution_count": null,
   "metadata": {},
   "outputs": [],
   "source": [
    "import proveit\n",
    "# Prepare this notebook for defining the theorems of a theory:\n",
    "%theorems_notebook # Keep this at the top following 'import proveit'.\n",
    "from socks_demo._common_ import color, Dsocks, Ngeq3, c_socks, c_size_n\n",
    "from socks_demo._common_ import any_matches, chosen_matches, ab_distinct, ab_is_match, chose2or_more_of_either\n",
    "from socks_demo.socks import Color\n",
    "from proveit.logic import Forall, And, Or, Implies, Iff, Equals, InSet, Card, SubsetEq\n",
    "from proveit.numbers import num, greater_eq\n",
    "from proveit._common_ import a, b, c, x, S\n",
    "from socks_demo.socks import ContainsMatch, MatchingSubset"
   ]
  },
  {
   "cell_type": "code",
   "execution_count": null,
   "metadata": {},
   "outputs": [],
   "source": [
    "%begin theorems"
   ]
  },
  {
   "cell_type": "code",
   "execution_count": null,
   "metadata": {},
   "outputs": [],
   "source": [
    "unfold_matching_subset = Forall((S, color), Forall(x, And(InSet(x, S), Equals(Color(x), color)), domain=any_matches))"
   ]
  },
  {
   "cell_type": "code",
   "execution_count": null,
   "metadata": {},
   "outputs": [],
   "source": [
    "pair_in_chosen_matches = Forall(color, Forall((a, b), ab_is_match, domain=chosen_matches, conditions=[ab_distinct]))"
   ]
  },
  {
   "cell_type": "code",
   "execution_count": null,
   "metadata": {},
   "outputs": [],
   "source": [
    "chosen_matches_are_chosen = Forall(color, SubsetEq(chosen_matches, c_socks))"
   ]
  },
  {
   "cell_type": "markdown",
   "metadata": {},
   "source": [
    "Choosing 2 or more of either black or white socks ensures that there is a match among the chosen socks:"
   ]
  },
  {
   "cell_type": "code",
   "execution_count": null,
   "metadata": {},
   "outputs": [],
   "source": [
    "two_or_more_is_sufficient = Forall(color, \n",
    "                           Implies(greater_eq(Card(MatchingSubset(c_socks, \n",
    "                                                                color)),\n",
    "                                             num(2)),\n",
    "                                   ContainsMatch(c_socks)))"
   ]
  },
  {
   "cell_type": "markdown",
   "metadata": {},
   "source": [
    "Consider doing the contrapositive of the above theorem and do a proof by contradiction.  That is, from Not(ContainsMatch(c)) show that |w| <= 1 and |b| <= 1.  Therefore, |c| <= 2.  Therefore, |c| >= 3 implies ContainsMatch(c)."
   ]
  },
  {
   "cell_type": "code",
   "execution_count": null,
   "metadata": {},
   "outputs": [],
   "source": [
    "sufficient_subsets = Implies(chose2or_more_of_either, ContainsMatch(c_socks))"
   ]
  },
  {
   "cell_type": "markdown",
   "metadata": {},
   "source": [
    "Conversely, if there is a match among the chosen socks, there must have been two or more of either black or white socks chosen:"
   ]
  },
  {
   "cell_type": "code",
   "execution_count": null,
   "metadata": {},
   "outputs": [],
   "source": [
    "necessary_subsets = Implies(ContainsMatch(c_socks), chose2or_more_of_either)"
   ]
  },
  {
   "cell_type": "markdown",
   "metadata": {},
   "source": [
    "If 3 or more socks were chosen, there must be a match.  Prove this by contradiction.  If there were no more than 1 chosen of each kind, there could not be more than 2 chosen in total.  But if there are 2 or more of either, by `sufficient_subsets` there must be a match."
   ]
  },
  {
   "cell_type": "code",
   "execution_count": null,
   "metadata": {},
   "outputs": [],
   "source": [
    "sufficient_num = Implies(Ngeq3, ContainsMatch(c_socks))"
   ]
  },
  {
   "cell_type": "markdown",
   "metadata": {},
   "source": [
    "To ensure that there is a match (considering all possible outcomes), 3 must be chosen.  Prove this by a counter-example.  If only 2 socks are drawn, it is possible that a black and white sock are chosen.  In that case, the necessary condition for a match indicated by `necessary_subsets` is not met."
   ]
  },
  {
   "cell_type": "code",
   "execution_count": null,
   "metadata": {},
   "outputs": [],
   "source": [
    "necessary_num = Implies(Forall(c, ContainsMatch(c), conditions=[SubsetEq(c, Dsocks), c_size_n]), Ngeq3)"
   ]
  },
  {
   "cell_type": "markdown",
   "metadata": {},
   "source": [
    "Combining the necessary and sufficient conditions on the number of drawn socks, and generalizing over possible sets of chosen socks $c$, we have:"
   ]
  },
  {
   "cell_type": "code",
   "execution_count": null,
   "metadata": {},
   "outputs": [],
   "source": [
    "answer = Iff(Ngeq3, Forall(c, ContainsMatch(c), conditions=[SubsetEq(c, Dsocks), c_size_n]))"
   ]
  },
  {
   "cell_type": "code",
   "execution_count": null,
   "metadata": {},
   "outputs": [],
   "source": [
    "%end theorems"
   ]
  },
  {
   "cell_type": "code",
   "execution_count": null,
   "metadata": {},
   "outputs": [],
   "source": []
  }
 ],
 "metadata": {
  "kernelspec": {
   "display_name": "Python 3",
   "language": "python",
   "name": "python3"
  }
 },
 "nbformat": 4,
 "nbformat_minor": 0
}
