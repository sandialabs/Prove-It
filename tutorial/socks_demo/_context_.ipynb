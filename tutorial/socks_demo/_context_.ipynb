{
 "cells": [
  {
   "cell_type": "markdown",
   "metadata": {},
   "source": [
    "Theory of socks_demo\n",
    "========\n",
    "\n",
    "The socks_demo theory in the tutorial.  This theory provides a demonstration of **Prove-It** by solving a simple riddle.\n",
    "\n",
    "There are 10 black socks and 10 white socks in a dresser.  It is pitch black.  What is the minimum number of socks that must be randomly pulled from the dresser in order to guarantee that you have a matching pair?"
   ]
  },
  {
   "cell_type": "code",
   "execution_count": null,
   "metadata": {},
   "outputs": [],
   "source": [
    "import proveit\n",
    "%theory # toggles between interactive and static modes"
   ]
  },
  {
   "cell_type": "code",
   "execution_count": null,
   "metadata": {},
   "outputs": [],
   "source": []
  }
 ],
 "metadata": {
  "kernelspec": {
   "display_name": "Python 3",
   "language": "python",
   "name": "python3"
  }
 },
 "nbformat": 4,
 "nbformat_minor": 0
}
