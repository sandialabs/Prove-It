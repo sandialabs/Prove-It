{
 "cells": [
  {
   "cell_type": "markdown",
   "metadata": {},
   "source": [
    "Axioms for the theory of <a href=\"_theory_.ipynb\" class=\"ProveItLink\">socks_demo</a>\n",
    "========"
   ]
  },
  {
   "cell_type": "code",
   "execution_count": null,
   "metadata": {},
   "outputs": [],
   "source": [
    "import proveit\n",
    "# Prepare this notebook for defining the axioms of a theory:\n",
    "%axioms_notebook # Keep this at the top following 'import proveit'.\n",
    "from socks_demo._common_ import color, WHITE, BLACK\n",
    "from socks_demo._common_ import Dsocks, Bsocks, Wsocks, c_socks, w_socks, b_socks, N\n",
    "from socks_demo._common_ import ab_is_match, ab_distinct, ab_same_color\n",
    "from socks_demo.socks import Color, MatchingSubset, IsMatch, ContainsMatch\n",
    "from proveit._common_ import a, b, s, S # 's' for sock, 'S' for set of socks\n",
    "from proveit.logic import Forall, Exists, Equals, NotEquals, And, Iff, SetOfAll, SubsetEq, Card\n",
    "%begin axioms"
   ]
  },
  {
   "cell_type": "markdown",
   "metadata": {},
   "source": [
    "A matching subset is the subset of a set of socks of a given color, defined for convenience."
   ]
  },
  {
   "cell_type": "code",
   "execution_count": null,
   "metadata": {},
   "outputs": [],
   "source": [
    "matching_subset_def = Forall([S, color], \n",
    "                          Equals(MatchingSubset(S, color), \n",
    "                                 SetOfAll(s, s,\n",
    "                                          conditions=[Equals(Color(s), color)],\n",
    "                                          domain=S)))"
   ]
  },
  {
   "cell_type": "markdown",
   "metadata": {},
   "source": [
    "Let ${\\cal D}$ be the set of socks in the dresser.  Let ${\\cal W}$ be the set of white socks in the dresser.  Let ${\\cal B}$ be the set of black socks in the dresser."
   ]
  },
  {
   "cell_type": "code",
   "execution_count": null,
   "metadata": {},
   "outputs": [],
   "source": [
    "dresser_white_socks = Equals(Wsocks, MatchingSubset(Dsocks, WHITE))"
   ]
  },
  {
   "cell_type": "code",
   "execution_count": null,
   "metadata": {},
   "outputs": [],
   "source": [
    "dresser_black_socks = Equals(Bsocks, MatchingSubset(Dsocks, BLACK))"
   ]
  },
  {
   "cell_type": "markdown",
   "metadata": {},
   "source": [
    "Let $c$ be the set of \"chosen\" socks (pulled randomly from the drawer) and $N$ be the number of \"chosen\" socks.  Let $w$ be the set of chosen white socks.  Let $b$ be the set of chosen black sets.  We start by assuming that $c = w \\cup b$.  At some point, however, this axiom will be eliminated and we will prove that such a decomposition exists."
   ]
  },
  {
   "cell_type": "code",
   "execution_count": null,
   "metadata": {},
   "outputs": [],
   "source": [
    "chosen_from_drawer = SubsetEq(c_socks, Dsocks)"
   ]
  },
  {
   "cell_type": "code",
   "execution_count": null,
   "metadata": {},
   "outputs": [],
   "source": [
    "num_chosen = Equals(Card(c_socks), N)"
   ]
  },
  {
   "cell_type": "code",
   "execution_count": null,
   "metadata": {},
   "outputs": [],
   "source": [
    "chosen_white_socks = Equals(w_socks, MatchingSubset(c_socks, WHITE))"
   ]
  },
  {
   "cell_type": "code",
   "execution_count": null,
   "metadata": {},
   "outputs": [],
   "source": [
    "chosen_black_socks = Equals(b_socks, MatchingSubset(c_socks, BLACK))"
   ]
  },
  {
   "cell_type": "markdown",
   "metadata": {},
   "source": [
    "Two socks match if and only if they are distinct and have the same color."
   ]
  },
  {
   "cell_type": "code",
   "execution_count": null,
   "metadata": {},
   "outputs": [],
   "source": [
    "is_match_def = Forall((a, b), Iff(ab_is_match, And(ab_distinct, ab_same_color)), domain=Dsocks)"
   ]
  },
  {
   "cell_type": "markdown",
   "metadata": {},
   "source": [
    "A set of socks contains a match if and only if there exists a pair of socks within the set that are a match."
   ]
  },
  {
   "cell_type": "code",
   "execution_count": null,
   "metadata": {},
   "outputs": [],
   "source": [
    "contains_match_def = Forall(S, Iff(ContainsMatch(S), \n",
    "                                 Exists((a, b), IsMatch(a, b), domain=S)), \n",
    "                          conditions=[SubsetEq(S, Dsocks)])"
   ]
  },
  {
   "cell_type": "code",
   "execution_count": null,
   "metadata": {},
   "outputs": [],
   "source": [
    "%end axioms"
   ]
  },
  {
   "cell_type": "code",
   "execution_count": null,
   "metadata": {},
   "outputs": [],
   "source": []
  },
  {
   "cell_type": "code",
   "execution_count": null,
   "metadata": {},
   "outputs": [],
   "source": []
  }
 ],
 "metadata": {
  "kernelspec": {
   "display_name": "Python 3",
   "language": "python",
   "name": "python3"
  }
 },
 "nbformat": 4,
 "nbformat_minor": 0
}
