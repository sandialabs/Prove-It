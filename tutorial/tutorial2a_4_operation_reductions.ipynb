{
 "cells": [
  {
   "cell_type": "markdown",
   "metadata": {},
   "source": [
    "Chapter 2.a.iv.  Operation reductions\n",
    "=======\n",
    "\n",
    "**Operation** is the base class for most of the **Expression** classes defined in the **Prove-It** theory systems.  An **Operation** represents *operator(s)* acting upon *operand(s)*.  $1 + 5 - 1$, $1 < k \\leq l$, and $x_1 \\cdot \\ldots \\cdot x_n$ are a few examples of expressions that can be represented by classes derived from **Operation**.\n",
    "\n",
    "There are essentially two kinds of reduction rules specific to **Operation** expressions when the operation itself is to be replaced, rather than just its operator and/or operand(s):\n",
    "1. *Explicit operation replacement* is performed by replacing an operator with a **Lambda** expression.  In that case, the operation is replaced by the result of applying thislambda mapping to the operands (an internal beta reduction).  For example, $P(x, y)$ with $P:[(a, b) \\mapsto a+b]$ becomes $x + y$.\n",
    "2. *Implicit operation replacement* is performed by replacing an operator with a designated **Literal** operator of an **Operation** class.  In that case, the operation is replaced by one of that derived class rather than the **Operation** class. For example, $P(x, y)$ with $P:+$ becomes $x + y$ with the correct `Add` type rather than a generic **Operation** type."
   ]
  },
  {
   "cell_type": "code",
   "execution_count": 1,
   "metadata": {},
   "outputs": [],
   "source": [
    "import proveit\n",
    "%begin operation_reductions"
   ]
  },
  {
   "cell_type": "markdown",
   "metadata": {},
   "source": [
    "## Creating operation expressions\n",
    "\n",
    "Operation expressions come in various forms.  In any of its forms an **Operation** has two sub-expressions representing its *operator(s)* and *operand(s)* respectively.  Each of these may either be an **ExprTuple** or it represents a singular operator/operand.  There are two main types of formatting for an **Operation**, though any formatting rules may be defined by a class that derives from **Operation**.  These are *infix* and *function* formatting.\n",
    "\n",
    "The default formatting of an **Operation** class is *infix* notation. However, we cannot create an object of type **Operation**:"
   ]
  },
  {
   "cell_type": "code",
   "execution_count": 2,
   "metadata": {},
   "outputs": [
    {
     "name": "stdout",
     "output_type": "stream",
     "text": [
      "Expected error: Do not create an object of type Operation; use a derived class (e.g., Function) instead.\n"
     ]
    }
   ],
   "source": [
    "from proveit import Operation\n",
    "from proveit import a, b, c\n",
    "from proveit.numbers import Add\n",
    "\n",
    "try:\n",
    "    add_abc_opclass = Operation(Add._operator_, (a, b, c), styles={})\n",
    "    assert False\n",
    "except TypeError as e:\n",
    "    print(\"Expected error: %s\"%str(e))"
   ]
  },
  {
   "cell_type": "markdown",
   "metadata": {},
   "source": [
    "We must use a class derived from **Operation**:"
   ]
  },
  {
   "cell_type": "code",
   "execution_count": 3,
   "metadata": {},
   "outputs": [
    {
     "name": "stdout",
     "output_type": "stream",
     "text": [
      "To do this properly and be able to display the expression, the class needs to be defined in its own module.\n"
     ]
    }
   ],
   "source": [
    "class MyOp(Operation):\n",
    "    def __init__(self, *operands, styles=None):\n",
    "        Operation.__init__(self, Add._operator_, operands, styles=styles)\n",
    "    \n",
    "add_abc_opclass = MyOp(a, b, c)\n",
    "print(\"To do this properly and be able to display the expression, the class needs to be \"\n",
    "      \"defined in its own module.\")"
   ]
  },
  {
   "cell_type": "markdown",
   "metadata": {},
   "source": [
    "Note, however, that this is not the proper way to create an expression representing $a+b+c$ because it is not of type `Add`, we just borrowed the **Literal** operator for the `Add` operation called `Add._operator_`."
   ]
  },
  {
   "cell_type": "code",
   "execution_count": 4,
   "metadata": {},
   "outputs": [
    {
     "data": {
      "text/plain": [
       "__main__.MyOp"
      ]
     },
     "metadata": {},
     "output_type": "display_data"
    }
   ],
   "source": [
    "add_abc_opclass.__class__"
   ]
  },
  {
   "cell_type": "markdown",
   "metadata": {},
   "source": [
    "Instead, we should use the `Add` constructor."
   ]
  },
  {
   "cell_type": "code",
   "execution_count": 5,
   "metadata": {},
   "outputs": [
    {
     "data": {
      "text/html": [
       "<strong id=\"add_abc\">add_abc:</strong> <a class=\"ProveItLink\" href=\"__pv_it/operation_reductions/de496ee2475985ca405037c773e5c371b35485f30/expr.ipynb\"><img src=\"data:image/png;base64,iVBORw0KGgoAAAANSUhEUgAAAFAAAAAQBAMAAABzZ+XyAAAAMFBMVEX///8AAAAAAAAAAAAAAAAA\n",
       "AAAAAAAAAAAAAAAAAAAAAAAAAAAAAAAAAAAAAAAAAAAv3aB7AAAAD3RSTlMAIquJdkTvuxBmmd1U\n",
       "zTKBpmoTAAAACXBIWXMAAA7EAAAOxAGVKw4bAAAA7ElEQVQoz2NgwAAcZRsYiAO8CwgoiITS/Aeg\n",
       "DNYJ2BUegdLxDVAGjwN+hdYMWBUyKjs6oCq85KKDppDZZR4DQ5gA+w8UhRx/G/oFUBQy7mFYzsCR\n",
       "ycC1AUUhzw8GNgcUhdwGDCkMXB9ANAPD6t2703bv3gRkcV1g4AeKcO3evS17924FoMh6kO/YChj6\n",
       "A1BMBOqLP4BiYjqI6HdgmI/qa2Awrm9AVsjxBazwAIMujwCKwgdAd6OY+BMY9gzsDjy7uFBMZJrA\n",
       "vgBV4XIGBjsGDhU7IT/U4FFeiRbgzJZTGrDFDAMDgSiMRBdAThQA98A6GLhRfscAAAAASUVORK5C\n",
       "YII=\n",
       "\" style=\"display:inline;vertical-align:middle;\" /></a><br>"
      ],
      "text/plain": [
       "<IPython.core.display.HTML object>"
      ]
     },
     "metadata": {},
     "output_type": "display_data"
    }
   ],
   "source": [
    "add_abc = Add(a, b, c)"
   ]
  },
  {
   "cell_type": "code",
   "execution_count": 6,
   "metadata": {},
   "outputs": [
    {
     "data": {
      "text/plain": [
       "proveit.numbers.addition.add.Add"
      ]
     },
     "metadata": {},
     "output_type": "display_data"
    }
   ],
   "source": [
    "add_abc.__class__"
   ]
  },
  {
   "cell_type": "markdown",
   "metadata": {},
   "source": [
    "When you want *function* formatting, it is best to use the `Function` class that is derived from `Operation`:"
   ]
  },
  {
   "cell_type": "code",
   "execution_count": 7,
   "metadata": {},
   "outputs": [
    {
     "data": {
      "text/html": [
       "<a class=\"ProveItLink\" href=\"__pv_it/operation_reductions/150826301a1142eace30344ace67d559abc49f500/expr.ipynb\"><img src=\"data:image/png;base64,iVBORw0KGgoAAAANSUhEUgAAACkAAAAVBAMAAAAp9toTAAAAMFBMVEX///8AAAAAAAAAAAAAAAAA\n",
       "AAAAAAAAAAAAAAAAAAAAAAAAAAAAAAAAAAAAAAAAAAAv3aB7AAAAD3RSTlMAmYkQqzLvVES73WZ2\n",
       "Is1wFLxSAAAACXBIWXMAAA7EAAAOxAGVKw4bAAAA/0lEQVQY02NggANeKH2BARkch9I9EIpRyQBI\n",
       "sitARXk2gCmVsAIgaQfX9BhMpneC1ErDRTeCCI7PYHYCXJQNpIhpAYjJ/gAuygc0mNttiQDISqBl\n",
       "zGecg9SByhyAfP4DMAWMDEcOSAHVgbTdDwCJcgHdsZdhv4E30DCQFfUQKxoYGAIY5EBM1g9AQgsu\n",
       "ysCQA3YUSO0UBpgJDBx/GYyBJiyAyTNwHmBgnsGSwAB0CvcEYFD9AIsCncP+1TCBowDiSPYPYFHW\n",
       "BQzMMgcKt4MMA1rB6ADx0VK4324xMJTwFSCFCRgAw2klLAQ5YXHAC7RsjyyUwzwBXRoM7kDpswwM\n",
       "AGRaMXIQBtPcAAAAAElFTkSuQmCC\n",
       "\" style=\"display:inline;vertical-align:middle;\" /></a>"
      ],
      "text/plain": [
       "f(x)"
      ]
     },
     "metadata": {},
     "output_type": "display_data"
    }
   ],
   "source": [
    "from proveit import Function\n",
    "from proveit import f, g, x, y, z\n",
    "Function(f, x)"
   ]
  },
  {
   "cell_type": "code",
   "execution_count": 8,
   "metadata": {},
   "outputs": [
    {
     "data": {
      "text/html": [
       "<a class=\"ProveItLink\" href=\"__pv_it/operation_reductions/87065bb714d258da6970b903b4ab7170e3ae577a0/expr.ipynb\"><img src=\"data:image/png;base64,iVBORw0KGgoAAAANSUhEUgAAAFEAAAAVBAMAAADMaB9/AAAAMFBMVEX///8AAAAAAAAAAAAAAAAA\n",
       "AAAAAAAAAAAAAAAAAAAAAAAAAAAAAAAAAAAAAAAAAAAv3aB7AAAAD3RSTlMAmYkQqzLvVES73WZ2\n",
       "Is1wFLxSAAAACXBIWXMAAA7EAAAOxAGVKw4bAAABlklEQVQoz31TPUjDQBT+kmub9Mfq4CD+1KKC\n",
       "UEQidq4BQRCX4KBrti4OFUVHXQWhpTg4OBTUQac4uVQaRXBRKLipYMHFsSAFF8F3d0n8geYN777L\n",
       "++7d+969AIH1oLs1/+zuQpj7clHGDPJaNoSZcsQysVIiX0CYvQlf3OM5h0KZF9zpHwLbocwYT6bW\n",
       "ONRaocw0FZpcOOnjskgQu59fnhQBdu0gLznRc+uZ0pkEe13/kIJbd1CEVc1GQzILN1ViJfmVrxb/\n",
       "kCD9V2gYSyK8qtSwKJmPUKlGjcvYkSXvAhYyXllGzMWah9k4r6FNLhcwEURRNqIdD76IBvGcB/Bv\n",
       "h/6FWRnOIOW1TXfAb68FeeIu2GHERhYM4njclGgb4IoqNEKfUq0JrTNj6yXMcZn9KDsCRatHOUs2\n",
       "UWvLttXAht31S6rjmLb5qdGmQCq23nlxJEMxZT2nwXtsCD8dIG5PwGa69GsGhNFFaosVJfKM5ufM\n",
       "n7a4P9eM3izhRrISef8DCaqP+ISKP7V8XuoDHvqX5qfDXewB+AYx01Cr5wkekAAAAABJRU5ErkJg\n",
       "gg==\n",
       "\" style=\"display:inline;vertical-align:middle;\" /></a>"
      ],
      "text/plain": [
       "f(x, y, z)"
      ]
     },
     "metadata": {},
     "output_type": "display_data"
    }
   ],
   "source": [
    "Function(f, (x, y, z))"
   ]
  },
  {
   "cell_type": "markdown",
   "metadata": {},
   "source": [
    "## Operation replacement\n",
    "\n",
    "We will demonstrate the two types of *operation replacement* in the following examples: explicit and implicit.\n",
    "\n",
    "### Explicit operation replacement\n",
    "\n",
    "To start our demonstration, let us define a **Lambda** expression which maps a variable $f$ to an expression in which $f$ is used as an operator."
   ]
  },
  {
   "cell_type": "code",
   "execution_count": 9,
   "metadata": {},
   "outputs": [
    {
     "data": {
      "text/html": [
       "<strong id=\"ab_substitution\">ab_substitution:</strong> <a class=\"ProveItLink\" href=\"__pv_it/operation_reductions/38194b4311aac6fc27db8b0b959157f9b7832b770/expr.ipynb\"><img src=\"data:image/png;base64,iVBORw0KGgoAAAANSUhEUgAAAKkAAAAVCAMAAAAKAz4TAAAANlBMVEX///8AAAAAAAAAAAAAAAAA\n",
       "AAAAAAAAAAAAAAAAAAAAAAAAAAAAAAAAAAAAAAAAAAAAAAAAAABHL6OuAAAAEXRSTlMAmYkQqzLv\n",
       "VES73WZ2Is3z6e3ESjgAAAAJcEhZcwAADsQAAA7EAZUrDhsAAAIhSURBVEjHpZfblqsgDIY5yUlw\n",
       "b97/ZacCkUTjiB1u0vWv5jPmVCrE25On9Cy+PJn5/B0suSndJ/F3PEAITCqlZ0hO8T5Yb49cZ4O7\n",
       "YHSwkUIQTJnFugmq3gTrg/V+Nj0XKIfZ5AkyYNb5MEOWKFPYR14zuMq5SDlMcSfIAfPlLsxEu9mi\n",
       "JsI+lgthKqkcBmkAAasirjDpS5IZh4sfeX2Uf6pTOQzSANLsamw0I6JISJE2/1Fb4nPo2aiUEzTg\n",
       "c5w8ZjMpGUcgYEu6i024cJMm7AO6t59mCb1260i0jOjQF2AwunwGSJeMId3mstxGKhIatTj2A/Hp\n",
       "urZrDau/o51Z9AzG1Ve1CUO6dQU7//sfySnFH/3tR66xT9dl1WKv4VJm9jOHqfkrCkO6JQN1zqnf\n",
       "vGAiJT5dt6HWzkMrvBwowNRX9W1TAaTbYO4jXfAGR9UnPk3XtedWyJKLE33KYNo2la3bAdKtTfeR\n",
       "bnihhvFF4tN0XR9hNuHaMISZvX/FiL11W8sPSLN5NGJN9P0+HYuH+nR9f5KLUsjTSvttoBiM+QQZ\n",
       "JF1czbpfWl8tpBUiOwmga5PUkk1qPtG/HKiBUcevM0CalUbMngiBn3zick1XnLlHPGAAsltnxOam\n",
       "I203hasPcx2Rjz+mExiA7DYGvb246YZ9WBifcL6X5+d5esYApNo1yTeXf33jo8NT6EyBHjEACd/8\n",
       "P8lpSk9f/pEiGIBU+wP50hOHdxbtKAAAAABJRU5ErkJggg==\n",
       "\" style=\"display:inline;vertical-align:middle;\" /></a><br>"
      ],
      "text/plain": [
       "<IPython.core.display.HTML object>"
      ]
     },
     "metadata": {},
     "output_type": "display_data"
    }
   ],
   "source": [
    "from proveit import Function, Lambda\n",
    "from proveit.logic import Equals\n",
    "from proveit import a, b, c, f, n, x, y, z\n",
    "ab_substitution = Lambda(f, Equals(Function(f, a), Function(f, b)))"
   ]
  },
  {
   "cell_type": "markdown",
   "metadata": {},
   "source": [
    "Now we just need to define a **Lambda** expression for replacing $f$."
   ]
  },
  {
   "cell_type": "code",
   "execution_count": 10,
   "metadata": {},
   "outputs": [
    {
     "data": {
      "text/html": [
       "<strong id=\"add_y_then_mult_z\">add_y_then_mult_z:</strong> <a class=\"ProveItLink\" href=\"__pv_it/operation_reductions/0f14676b91366f9c4e5a71a58308444ede0c615f0/expr.ipynb\"><img src=\"data:image/png;base64,iVBORw0KGgoAAAANSUhEUgAAAJQAAAAVCAMAAACXDjebAAAANlBMVEX///8AAAAAAAAAAAAAAAAA\n",
       "AAAAAAAAAAAAAAAAAAAAAAAAAAAAAAAAAAAAAAAAAAAAAAAAAABHL6OuAAAAEXRSTlMAEHarMolU\n",
       "md1mIs3vRLvz6fgHHdMAAAAJcEhZcwAADsQAAA7EAZUrDhsAAAHUSURBVEjHpVbXtuMgDESiY+Au\n",
       "//+za9yF5UKsh8whGYVRQSBEt4UGf3D9wmANDcUeS/idwZnRFDsj8t8ZZ4OBYq8N8J1xMuspsiW4\n",
       "+c3bpx2eGQKbzosNshW+64v4mAiWQb4zVLcZKPaLGh57ZmIAogSl9XqaHKHQldUUW19OFOBUa5DT\n",
       "SktOiHJOieB3xpgLlCisY2WYzMW5YuvLidLC1GL7MrfMwB4f1HmVWxk+VAcQ0rOiBOZDPZ0hePJl\n",
       "RCkza5ZzdIbrxlC30Ms+laFqwEf5f/8csVLS3oSJYOtrJ4cYJ5Bbi8aqMs5SVdnSU467wqppY0S8\n",
       "7CKRhiSuRJ182UZPYy7HrdS82DPlDoco7D4LI5WxDACsKEWGWVO+ky8rasolLmKMuxxtsDEgJyHj\n",
       "1I+sqIEMqoxHPPuyorJcP2obZm6ITDHuDFMU2PGP0x77zZxaT8iMZ18+U7Im1NNhQqqRdUbt1MYA\n",
       "izhu7S/ufK2aeXLEC99WFEiNtiwZd4nZpB65rXU5xr2t4TjVN9H1ctKCe3xRuV5N23V5d202F3LV\n",
       "A9E8X+RvGWfLgeKL5I6Jk0snhfyYqNyvaTxxFF88Cz3aJN6Gkn96EK9jLvzwcMXwivEfC3INg+oT\n",
       "wYsAAAAASUVORK5CYII=\n",
       "\" style=\"display:inline;vertical-align:middle;\" /></a><br>"
      ],
      "text/plain": [
       "<IPython.core.display.HTML object>"
      ]
     },
     "metadata": {},
     "output_type": "display_data"
    }
   ],
   "source": [
    "from proveit.numbers import Add, Mult\n",
    "add_y_then_mult_z = Lambda(x, Mult(Add(x, y), z))"
   ]
  },
  {
   "cell_type": "code",
   "execution_count": 11,
   "metadata": {},
   "outputs": [
    {
     "data": {
      "text/html": [
       "<a class=\"ProveItLink\" href=\"__pv_it/operation_reductions/120df71a70177dc40c9fa07bbea2c1eff50063d60/expr.ipynb\"><img src=\"data:image/png;base64,iVBORw0KGgoAAAANSUhEUgAAAOgAAAAVBAMAAAC+i7+MAAAAMFBMVEX///8AAAAAAAAAAAAAAAAA\n",
       "AAAAAAAAAAAAAAAAAAAAAAAAAAAAAAAAAAAAAAAAAAAv3aB7AAAAD3RSTlMAInZUiRDNmWbv3US7\n",
       "qzJazP2FAAAACXBIWXMAAA7EAAAOxAGVKw4bAAAC+UlEQVRIx4VWQWgTQRR92812m6QJoSCIKGyx\n",
       "ED0oC0oxXgyCFaSVRaRQaEkQigUvHqSUihg8tBfBoFSkXoIKxYgheLKnpqXgqVBKEA8eCt6K0EqN\n",
       "eCr+2ZlNMrMT8+HNsm/nv/kz8//MAkiBQ2uprgSZIYAO38JEj8uht09dCbLTAjqLOzriooDeegrd\n",
       "CMDM+phc1iqc0RBWnqOTTXclMC5wVyvQ64UJmyK3pejj0tuiKhIiMCdwqBXou690JyJKj6i8WtIu\n",
       "RNVAQwSKHPGGVgBLav8lDFM7/J9Be9U9DBFmniNS0g86ow46gwfUMhj1QUfysdIFTJHUdrNzsrx7\n",
       "XCK42VmO3p1zrjTorTlY1Hms1XWvYhQYMSNiWU31N6RBI2YRz2gHWkk2PrS5HRDzZWYfg6kz5Kat\n",
       "X9Kg2Qz6DoCFpoB1Z5RFsIC31BKsV7BL0qA/6P07vRWbPscQ8SSCW8zluOLhebtA0p1HogZkWueC\n",
       "h2tgxGtqCfYBYlm2VuXy++VymWbkRR0mkjxgIf7hkTIXn5Ayq8oxC/xuF7DInTSwzzrl+ILdZlm4\n",
       "HwwarSFXlfNgzUseUU76E1vxmQG/IIodBn2H+KEkQOm8v0sb5y+HXziG/2U1WN6cwzZQ8plFD+mb\n",
       "pfYC9gKibU+D5T2E3ZAE7DzO0uNyK77PNH1GbFBLyLn4aqYkny30s7ypNV0uADLBrd/hOMJEQRIg\n",
       "9y16PG0Vl4uET7B0GmNe5ootz/QR1gq8GETFbG7c2G0nhLEaYviGL7KAvR3/KwqS28/RoYpP7LHy\n",
       "oV3fuXnqvOwzdfUxTT1WbYojcw/tRBBMiWPqekEWsOppVkMfmj2z5suqT8QoeAbdiTRCOKGeJyEC\n",
       "FYGwQIRy1iipF2rJP4/lM1mc15G89UKc5KHjPXwFLGpujBFMuOptAk6sg0O1mJOg3TPUtAkRlA8p\n",
       "DtXeoE7tSZVmxKRA6Gp+8hAaMY26VeNQ7VK6qpvQuihYw+l0hw92JcShMdDp1yMVJv4Bs1G37d1y\n",
       "+FUAAAAASUVORK5CYII=\n",
       "\" style=\"display:inline;vertical-align:middle;\" /></a>"
      ],
      "text/plain": [
       "((a + y) * z) = ((b + y) * z)"
      ]
     },
     "metadata": {},
     "output_type": "display_data"
    }
   ],
   "source": [
    "ab_substitution.apply(add_y_then_mult_z)"
   ]
  },
  {
   "cell_type": "markdown",
   "metadata": {},
   "source": [
    "Note that the $f(a)$ and $f(b)$ operations themselves were replaced according to the `add_y_then_mult_z` lambda mapping applied to $a$ and $b$ respectively.  Let's show an example with multiple operands."
   ]
  },
  {
   "cell_type": "code",
   "execution_count": 12,
   "metadata": {},
   "outputs": [
    {
     "data": {
      "text/html": [
       "<strong id=\"ab_commutation\">ab_commutation:</strong> <a class=\"ProveItLink\" href=\"__pv_it/operation_reductions/ae529ed04f4f49e0e804b9fa05103b62869110950/expr.ipynb\"><img src=\"data:image/png;base64,iVBORw0KGgoAAAANSUhEUgAAANAAAAAVCAMAAAAAX5BBAAAANlBMVEX///8AAAAAAAAAAAAAAAAA\n",
       "AAAAAAAAAAAAAAAAAAAAAAAAAAAAAAAAAAAAAAAAAAAAAAAAAABHL6OuAAAAEXRSTlMAmYkQqzLv\n",
       "VES73WZ2Is3z6e3ESjgAAAAJcEhZcwAADsQAAA7EAZUrDhsAAAKISURBVFjDrZfbuqUgCIA95Slr\n",
       "j+//slMeEpLMZo83rI8VP0KAxtjntX3Uz/7/z4bb7xwE801/LRv+r8MOjBxwIeQU3gjaCOrRkk77\n",
       "srN1NoYO3CBkyGvnQKhFmxlXcmekEdTf187rj7mckeALQnqQdwfaWDfljYMsQyM+yH6sm1v5XEAU\n",
       "OI7yXcGXAxsfowm41TQoXWikByXentNTSaPAgx1CcJUCFSgyNSirBlacp/VdAbXn9qkuosDCD00q\n",
       "OMtVaa/AvrGtx916vWVkdOk3JcKGx9muQlCmNMd7ODQYQBjhqoKrjOExBGYckYm7UdVbfVSoQ+Uh\n",
       "49GqMqbKXduL5B4sHCcBhhBGuKrgIre4PAfEAhgXviUJGRW91GvaK0pI8qnTJo2eOUcJMIQwwlUF\n",
       "F2kiIv788WjFaK/ms2CjsCmzniedR0cST0mLSbfEmZOOAgMII1xVcJFi0DXHu90tIwJCRkWvXSoP\n",
       "i2giDSmTy+TjTKhgCGGEqwou0qlBQAs8DkHJIaOsl6n619ifQjzXuvETPUSAEYQRriq4SB0GAe2w\n",
       "E117EhllvUx+1c7M1ob/2RG54I8NuJljtQcDiKwBAVcNnOWGa4TZ53OozV1sVPSne+M542ku5b/U\n",
       "sQ3H71N/NBMI8AW5sMAVAGdpRq0q0ABcPNm6VS9VEMumwmnjvSw6cd2LvP04Exq4Qhq2uWrgLPnE\n",
       "cXeVY43vZuSXfmfdZWXzM7fFF7Ah7kAVfEqj2G7mA8rXv96IuHeK4c324fW8g8XgynxK70Y3/365\n",
       "swkJI3f/XpTd99z2PhLewZL4TKzgJNfAP326ygcjed9toHPxUgCv4PCU5DkH1BQK3/RPHyK/dtiB\n",
       "k/wLAGsX7Nzg1m0AAAAASUVORK5CYII=\n",
       "\" style=\"display:inline;vertical-align:middle;\" /></a><br>"
      ],
      "text/plain": [
       "<IPython.core.display.HTML object>"
      ]
     },
     "metadata": {},
     "output_type": "display_data"
    }
   ],
   "source": [
    "ab_commutation = Lambda(f, Equals(Function(f, [a, b]), Function(f, [b, a])))"
   ]
  },
  {
   "cell_type": "code",
   "execution_count": 13,
   "metadata": {},
   "outputs": [
    {
     "data": {
      "text/html": [
       "<strong id=\"add_then_mult_z\">add_then_mult_z:</strong> <a class=\"ProveItLink\" href=\"__pv_it/operation_reductions/09ae201a6c31c6a1e125495098d3c0ca7d3702cb0/expr.ipynb\"><img src=\"data:image/png;base64,iVBORw0KGgoAAAANSUhEUgAAALcAAAAVCAMAAAAzZI9IAAAANlBMVEX///8AAAAAAAAAAAAAAAAA\n",
       "AAAAAAAAAAAAAAAAAAAAAAAAAAAAAAAAAAAAAAAAAAAAAAAAAABHL6OuAAAAEXRSTlMAInZUiRDN\n",
       "mWbv3US7qzLz6SJmQj4AAAAJcEhZcwAADsQAAA7EAZUrDhsAAAJESURBVEjHpVdZloQgDEQW2Znx\n",
       "/pcdttiAYIc3fnSedlEVCsJCSHwO8v3BYB7grUbYJjeCMgSfpXhtIEQRb+sAgnFcMgorDYRI4m2d\n",
       "ghAnkvAUOBwQoom3dTJCYn1UEocDwldiq/6hkxEabYSeG0GHUtJDnM8luq3TIxh+NM/bo46Y9f4A\n",
       "4TvxW96nQmQioXgEpV4Ezts1QNA82MLnN+7hu+lY+jcghDjjHfNe6bRPMCaQQwHi7lx0jXpKZJsF\n",
       "JyyNtrrKtDrnmTI3cwvijHfMe6XTVTvlDnoUEab6oI7UThDfDFJgRc6XxJie502oayYOENY44x3z\n",
       "Xuq0u02S4FUnIrStbZM1Q0cjSid+XUTCBX/8/JruuS77qRnbxQevzC20zsG/64irbSkg7YTQtinT\n",
       "R7HY6FREhfKy8tueLUmf95x3rMuFDjFNzR+fJhFhWNM4jqno1orsFK08zMzzDt1OMcyTOe+Y90Ln\n",
       "seKLG+EKgXCWeJ1LpF3nnIefNFXdPO+zW8ArYY097zLvhU7bINvwQdQSZVcQMvJb1k0r6ZNdql/Z\n",
       "4qeX9RtqvsSO98XvuU4zpo47yk24EaF4JySlMQNV6I2pjgvPqbyqn8ZONwEehnW2jT3vMu+vOjwt\n",
       "IncZJYQJs1FpZiOv5h8Gt60C4ZT4Zb/E62TE9BjDP1RCM8Q5aXIuej0f9eeqTZ2CcM8rhqhumBh9\n",
       "7cPhsOcYIHTo686eTkWIJxAGkSkqLdnNAggFuqd7OoA4MFcwunFXBMJj426H18mIPz3UEfc702xL\n",
       "AAAAAElFTkSuQmCC\n",
       "\" style=\"display:inline;vertical-align:middle;\" /></a><br>"
      ],
      "text/plain": [
       "<IPython.core.display.HTML object>"
      ]
     },
     "metadata": {},
     "output_type": "display_data"
    }
   ],
   "source": [
    "add_then_mult_z = Lambda((x, y), Mult(Add(x, y), z))"
   ]
  },
  {
   "cell_type": "code",
   "execution_count": 14,
   "metadata": {},
   "outputs": [
    {
     "data": {
      "text/html": [
       "<a class=\"ProveItLink\" href=\"__pv_it/operation_reductions/1e1100cbe5be89c2e786ec6b0b6d822cb2e350760/expr.ipynb\"><img src=\"data:image/png;base64,iVBORw0KGgoAAAANSUhEUgAAAOYAAAAVBAMAAACgQo8/AAAAMFBMVEX///8AAAAAAAAAAAAAAAAA\n",
       "AAAAAAAAAAAAAAAAAAAAAAAAAAAAAAAAAAAAAAAAAAAv3aB7AAAAD3RSTlMAInZUiRDNmWbv3US7\n",
       "qzJazP2FAAAACXBIWXMAAA7EAAAOxAGVKw4bAAAC5ElEQVRIx4VVTUhUURT+xufzzZ/6GAgiEp7l\n",
       "ok0xUQi6aQgiEI1ZhBAoMwTSQASziBA3zko3QRYYYS0eJEgjibTKlaMI0SoxiZa2lSBrmjZBdO7P\n",
       "/NyfYT747uN97557zj33nvMA+BC0we8oECKSaPPNFLrSgla86ygQzkvakAhswlVJHe7HkIIpaaoh\n",
       "AE6Gc2rF6vSCRXDzgiZ6ijTM6KohYFLyntVnT9YUPArcU4JPyLd+lvBFfQ1DwKxkVbMXiBa16STE\n",
       "6BFTcyWPYJtFGNPDNAQsCSZqmr3Esj5/GcM0Dlt9jvFM6OdnCE5esDu0+yzoPgt4SCNj5HAwUG0e\n",
       "nPtMK+035vaVj04rgoCXEew5uJhWfQ5cT9E40Zx6vBEpMaEgQ9nykzXFp/snm/MRbV6vyaE98ieE\n",
       "uTLD2/rGGXMz7k/FZ+IpPtFBLDQr4e44C2ABr2kkui/ghYpPp4ZYAGepYXIK3bREiyAQTwtey+KZ\n",
       "4vNOCXP0GGm2gyxucOEljUTvBPEMy1S5/GalXKYNeXn0Z9B3wrcs4mQWXFAu1abgI+B3qz3mgVV6\n",
       "/GCTciJdt7NckD5jFeQ2lX1SCNtpJPi21riS4hlbauNzFYmqss9XcP+yQ+OL8YqJ8C9b9dzmAjxR\n",
       "7x2V53wWTthatyy3oXae9dxW4dWU+/ALUZaT0WZ47+FyYZdGYi6NL46v+DyiM0a00rC4AuwrgkAy\n",
       "EPzHDrDVZxW9+cvA42ZVpdELJkyI65wMnDVP2WdvKVkUVSBLZW937KhVkGDFw/gVH9Ra28VosSgK\n",
       "UeD7+NAGr8xjVjcU1cGtgUtqrRyyhhbfbKyNkfuKUI8lFJy+WVJ9Tg99O6Ag1xszM85zZryOOMmM\n",
       "Zh/iOKN3EUPAhqTVHpFQ/4GGvAerfVjp0bO2jm52/cV29tr/Qwo7ELT/5iudBLoKvqAdZ23ClKQV\n",
       "xlqWxd2KoB07NoEVaiRoYzHYUZC9ItVmgS7fFP4DqWyzTbGxA2oAAAAASUVORK5CYII=\n",
       "\" style=\"display:inline;vertical-align:middle;\" /></a>"
      ],
      "text/plain": [
       "((a + b) * z) = ((b + a) * z)"
      ]
     },
     "metadata": {},
     "output_type": "display_data"
    }
   ],
   "source": [
    "ab_commutation.apply(add_then_mult_z)"
   ]
  },
  {
   "cell_type": "markdown",
   "metadata": {},
   "source": [
    "### Implicit operation replacement\n",
    "\n",
    "It is typical to derive classes from **Operation** that have a single corresponding *operator* that is a **Literal**.  This operator should be defined as the `_operator_` attribute of the derived class.  This indicates to **Prove-It** that this specific operator is tied to that specific class.  This knowlege is used in *implicit operation replacement*.  When an operator is replaced by `_operator_` of a particular **Operation** class, the **Operation** is reconstucted to by of that particular type.  For example."
   ]
  },
  {
   "cell_type": "code",
   "execution_count": 15,
   "metadata": {},
   "outputs": [
    {
     "data": {
      "text/html": [
       "<strong id=\"a_add_b_commutation\">a_add_b_commutation:</strong> <a class=\"ProveItLink\" href=\"__pv_it/operation_reductions/651fd8f441426417f50a46a34a5865e78725fb3a0/expr.ipynb\"><img src=\"data:image/png;base64,iVBORw0KGgoAAAANSUhEUgAAAJMAAAAVBAMAAACwIsHjAAAAMFBMVEX///8AAAAAAAAAAAAAAAAA\n",
       "AAAAAAAAAAAAAAAAAAAAAAAAAAAAAAAAAAAAAAAAAAAv3aB7AAAAD3RSTlMAInZUiRDNmWbv3US7\n",
       "qzJazP2FAAAACXBIWXMAAA7EAAAOxAGVKw4bAAACEUlEQVQ4y3WUT0gbQRTGv2Qz2SQbm+CxVNgU\n",
       "D14saZGCXpReCoWWvQpKcpF6EXIoRby4p/YiGAuF+ucgKJRuKUhP9WTqRTwZoojH9OrF1KgXofTN\n",
       "JoG82ZmBmWXefO83b96+GQB56FtMZzSJQ3u8aFh13KjNKP4phzHdyswGDSNR+xjE8bbOIe4Doqzd\n",
       "5S31pKdapThZ0TrMAbbPDtWbtamnIk5SnOud8Rdb+gikmcHq5se5leNnFSXFB71Yn/ElD8+1qESY\n",
       "kHkVJcWvoEUlfbyT36EXgxyVbIzSOV6rKCleeHzKUbGzAnkl6uHOzhpOPIYqzYm/wIcwP0HY6t0w\n",
       "xZ1XyjPUfj5L6UiVsUOTaR9LPKpJD5+AcTUqElu3SLv9KPEFNqXDqmKTZsvAbmf/bxud/d8DN8CV\n",
       "iiKxXUZuClgKgvUg+CG9WsiQ4UErRG1B3POoduFQOexrUOR2UOyPKl1DaY+SVJUxi2ukWhzVhk3n\n",
       "n1BztROW1bLXjyq5WJWe2zgkVBsD5acM9U/mDytqVCTONSk5DFXEuZVHqhb+8ENMVCoMdYGj7r9n\n",
       "jcQDfrbCUFnX+mpT8FO4pNns8J9Gk6FmX8ob9F1FkVicLfISFY03Q08oh3vINHXV3qm9yBvAxLza\n",
       "H6p31vGVy8sbE/PrLGP9DVN7FDUZxbGafOWMKI2fUZyVlynmGlbjmnfcKC4A/wEuZnpcs4HOzQAA\n",
       "AABJRU5ErkJggg==\n",
       "\" style=\"display:inline;vertical-align:middle;\" /></a><br>"
      ],
      "text/plain": [
       "<IPython.core.display.HTML object>"
      ]
     },
     "metadata": {},
     "output_type": "display_data"
    }
   ],
   "source": [
    "a_add_b_commutation = ab_commutation.apply(Add._operator_)"
   ]
  },
  {
   "cell_type": "markdown",
   "metadata": {},
   "source": [
    "Is created using the proper `Add` class for constructing the left and right sides of the equation."
   ]
  },
  {
   "cell_type": "code",
   "execution_count": 16,
   "metadata": {},
   "outputs": [
    {
     "data": {
      "text/plain": [
       "proveit.numbers.addition.add.Add"
      ]
     },
     "metadata": {},
     "output_type": "display_data"
    }
   ],
   "source": [
    "a_add_b_commutation.lhs.__class__"
   ]
  },
  {
   "cell_type": "code",
   "execution_count": 17,
   "metadata": {},
   "outputs": [
    {
     "data": {
      "text/plain": [
       "proveit.numbers.addition.add.Add"
      ]
     },
     "metadata": {},
     "output_type": "display_data"
    }
   ],
   "source": [
    "a_add_b_commutation.rhs.__class__"
   ]
  },
  {
   "cell_type": "markdown",
   "metadata": {},
   "source": [
    "We can do the same using `Mult._operator_`:"
   ]
  },
  {
   "cell_type": "code",
   "execution_count": 18,
   "metadata": {},
   "outputs": [
    {
     "data": {
      "text/html": [
       "<strong id=\"a_mult_b_commutation\">a_mult_b_commutation:</strong> <a class=\"ProveItLink\" href=\"__pv_it/operation_reductions/68b1447e12dd0ba32326138d8ff57429bc0081fa0/expr.ipynb\"><img src=\"data:image/png;base64,iVBORw0KGgoAAAANSUhEUgAAAH4AAAAVBAMAAAByPkciAAAAMFBMVEX///8AAAAAAAAAAAAAAAAA\n",
       "AAAAAAAAAAAAAAAAAAAAAAAAAAAAAAAAAAAAAAAAAAAv3aB7AAAAD3RSTlMAInZUiRDNmWbv3US7\n",
       "qzJazP2FAAAACXBIWXMAAA7EAAAOxAGVKw4bAAAB7ElEQVQ4y3VUTShEURT+xvO8eTPDTLMU9fws\n",
       "bGiUFBsvG6XorZSimY3YqFlIsjErNspQSlhMUVNEk52VYSMrGpLl2Nr4GWyUnDPmPdx73br39b73\n",
       "fed85557H4AIpKGA4PsHqorJH44U+hYZClq0dP3F9IsMxUxJXM3G2KYIthE/IWA1SVomJP0IzUkR\n",
       "rHFgiKnCXM+SpJ+jWRJBfxKmiJ04tJiOCKep3Dcp6jq6RWiwbEx0pVGZ1RlJP4UZ7sNNk+VB083X\n",
       "RL0SiIZNQQvtP71q7I/SOkQRgONIyLOmvzvxCPzlXZ3f43HgGopP6M9e61ZxSTUuYockGzA8a9ob\n",
       "TAtaWsgfoMx9Dtbc99EU5unRgy3y9oSAXU7NRhMI26h7EvRmDpgFXissLAC79HhkvZlHPMdglhPZ\n",
       "OIkhmFbodxEsVVjYhv7BlbP/uIWV3+1fcKBlhPrZfwmGu036C/xssRdnpI/hVnOvTLhI2wF/Xsgf\n",
       "ogZ9ctUVfQm1iU5gmTpA37Ss4RJrU6Hkd7v+DG7oHc699zP0Jok3gwcKVhhu7PD6d8MnNZAT9HVU\n",
       "0PjAz6kab70vFIF9BIqKu4p6CTlU0XwZvgKKMSchSyoaX75TVdy8BIVU/6QGmmMKXEHW8woe5/ZZ\n",
       "Mt6k4EZlqCqCL+1TbLRBZEDIAAAAAElFTkSuQmCC\n",
       "\" style=\"display:inline;vertical-align:middle;\" /></a><br>"
      ],
      "text/plain": [
       "<IPython.core.display.HTML object>"
      ]
     },
     "metadata": {},
     "output_type": "display_data"
    }
   ],
   "source": [
    "a_mult_b_commutation = ab_commutation.apply(Mult._operator_)"
   ]
  },
  {
   "cell_type": "code",
   "execution_count": 19,
   "metadata": {},
   "outputs": [
    {
     "data": {
      "text/plain": [
       "proveit.numbers.multiplication.mult.Mult"
      ]
     },
     "metadata": {},
     "output_type": "display_data"
    }
   ],
   "source": [
    "a_mult_b_commutation.lhs.__class__"
   ]
  },
  {
   "cell_type": "code",
   "execution_count": 20,
   "metadata": {},
   "outputs": [],
   "source": [
    "%end operation_reductions"
   ]
  },
  {
   "cell_type": "markdown",
   "metadata": {},
   "source": [
    "# Next chapter: <a href=\"tutorial04_relabeling.ipynb\">ToDo</a>\n",
    "\n",
    "## <a href=\"tutorial00_introduction.ipynb#contents\">Table of Contents</a>"
   ]
  }
 ],
 "metadata": {
  "kernelspec": {
   "display_name": "Python 3",
   "language": "python",
   "name": "python3"
  }
 },
 "nbformat": 4,
 "nbformat_minor": 0
}