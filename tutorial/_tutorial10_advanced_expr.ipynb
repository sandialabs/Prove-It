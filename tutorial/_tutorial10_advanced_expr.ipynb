{
 "cells": [
  {
   "cell_type": "markdown",
   "metadata": {},
   "source": [
    "Chapter 10. Advanced Expressions\n",
    "==================="
   ]
  },
  {
   "cell_type": "code",
   "execution_count": null,
   "metadata": {},
   "outputs": [],
   "source": [
    "from proveit import ExprTuple\n",
    "from proveit._common_ import x, y, z\n",
    "%begin advanced_expressions\n",
    "xyz = ExprTuple(x, y, z)"
   ]
  },
  {
   "cell_type": "code",
   "execution_count": null,
   "metadata": {},
   "outputs": [],
   "source": [
    "xy = ExprTuple(x, y)"
   ]
  },
  {
   "cell_type": "markdown",
   "metadata": {},
   "source": [
    "The `get_elem` method may be used to access an element of the `ExprTuple` using an `Expression` representative for the index, relative to a `base` (defaulting to `1`, common in mathematics though it is less common in programming)."
   ]
  },
  {
   "cell_type": "code",
   "execution_count": null,
   "metadata": {},
   "outputs": [],
   "source": [
    "from proveit.numbers import num\n",
    "xyz.get_elem(num(3)) # get the 3rd element of (x, y, z)"
   ]
  },
  {
   "cell_type": "markdown",
   "metadata": {},
   "source": [
    "The method works by starting from the `base` and adding `1` until the given index is reached while iterating through the elements of the `ExprTuple`.  It uses the `proveit.numbers` package for number representations for generating the required counting steps which are optionally passed back via the `requirements` parameter."
   ]
  },
  {
   "cell_type": "code",
   "execution_count": null,
   "metadata": {},
   "outputs": [],
   "source": [
    "requirements = []\n",
    "xyz.get_elem(num(2), base=0, requirements=requirements) # start from a base of zero and pass back the requirements"
   ]
  },
  {
   "cell_type": "code",
   "execution_count": null,
   "metadata": {},
   "outputs": [],
   "source": [
    "ExprTuple(*requirements) # composing an ExprTuple out of the requirements list is done to display a LaTeX representation."
   ]
  },
  {
   "cell_type": "markdown",
   "metadata": {},
   "source": [
    "The *index* argument into the `get_elem` method does not need to be a direct representation of a number.  If it can be proven to be equal to a counted index value (through *assumptions*, for example), that also works."
   ]
  },
  {
   "cell_type": "code",
   "execution_count": null,
   "metadata": {},
   "outputs": [],
   "source": [
    "from proveit._common_ import k\n",
    "from proveit.logic import Equals\n",
    "requirements = []\n",
    "xyz.get_elem(k, assumptions=[Equals(k, num(2))], requirements=requirements)"
   ]
  },
  {
   "cell_type": "code",
   "execution_count": null,
   "metadata": {},
   "outputs": [],
   "source": [
    "ExprTuple(*requirements)"
   ]
  },
  {
   "cell_type": "markdown",
   "metadata": {},
   "source": [
    "<a name=\"Indexed\"></a>IndexedVar (to be updated)\n",
    "====================\n",
    "\n",
    "Before we discuss `Iter`s, let us first introduced `Indexed` which are designed specifically to be contained in an `Iter`.  An `Indexed` `Expression` has a *variable* (as a `Variable`) and an *index* (or *indices*).  The *variable* is intended to be a placeholder for an `ExprTuple` (or `ExprArray`).  The `Indexed` object represents an element of that `ExprTuple` (or `ExprArray`) addressed by the *index* (or *indices*).  Here is a simple example for a single *index* $k$ of *variable* $a$:"
   ]
  },
  {
   "cell_type": "code",
   "execution_count": null,
   "metadata": {},
   "outputs": [],
   "source": [
    "from proveit import IndexedVar\n",
    "from proveit._common_ import a, b, k\n",
    "a_k = IndexedVar(a, k)"
   ]
  },
  {
   "cell_type": "code",
   "execution_count": null,
   "metadata": {},
   "outputs": [],
   "source": [
    "a_k.expr_info()"
   ]
  },
  {
   "cell_type": "markdown",
   "metadata": {},
   "source": [
    "Note that a *base* is shown in the *expression information*.  This indicates an initial offset into the list.  The default is *base*=1 which means that 1 is taken to be the first element.  Although this *base* is not shown in the LaTeX rendering (or the string rendering), it can usually be inferred from the theory of a containing `Iter`.  Let us show a *base*=0 example:"
   ]
  },
  {
   "cell_type": "code",
   "execution_count": null,
   "metadata": {},
   "outputs": [],
   "source": [
    "b_k = IndexedVar(b, k, base=0)"
   ]
  },
  {
   "cell_type": "code",
   "execution_count": null,
   "metadata": {},
   "outputs": [],
   "source": [
    "b_k.expr_info()"
   ]
  },
  {
   "cell_type": "markdown",
   "metadata": {},
   "source": [
    "The *index* may be substituted freely."
   ]
  },
  {
   "cell_type": "code",
   "execution_count": null,
   "metadata": {},
   "outputs": [],
   "source": [
    "from proveit.logic import And\n",
    "a_and_b = And(a, b)\n",
    "a_k.substituted({k:a_and_b})"
   ]
  },
  {
   "cell_type": "markdown",
   "metadata": {},
   "source": [
    "The *variable* may only be substituted with another `Variable` or with an `ExprTuple`."
   ]
  },
  {
   "cell_type": "code",
   "execution_count": null,
   "metadata": {},
   "outputs": [],
   "source": [
    "a_k.substituted({a:b})"
   ]
  },
  {
   "cell_type": "code",
   "execution_count": null,
   "metadata": {},
   "outputs": [],
   "source": [
    "try:\n",
    "    a_k.substituted({a:a_and_b})\n",
    "    assert False, \"Expecting an TypeError error; should not make it to this point\"\n",
    "except TypeError as e:\n",
    "    print(\"EXPECTED ERROR:\", e)"
   ]
  },
  {
   "cell_type": "markdown",
   "metadata": {},
   "source": [
    "But when the *variable* is substituted with an `ExprTuple`, the *index* must be an `Expression` that is \"known\" to evaluate to a specific element (or iteration range as we see below in the `Iter` section)."
   ]
  },
  {
   "cell_type": "code",
   "execution_count": null,
   "metadata": {},
   "outputs": [],
   "source": [
    "from proveit import ExprTupleError\n",
    "try:\n",
    "    a_k.substituted({a:xyz})\n",
    "    assert False, \"Expecting an ExprTupleError error; should not make it to this point\"\n",
    "except ExprTupleError as e:\n",
    "    print(\"EXPECTED ERROR:\", e)"
   ]
  },
  {
   "cell_type": "markdown",
   "metadata": {},
   "source": [
    "Here we assign the index, $k$, to a specific numeric value to extract the first element of the $(x, y, z)$:"
   ]
  },
  {
   "cell_type": "code",
   "execution_count": null,
   "metadata": {},
   "outputs": [],
   "source": [
    "from proveit.numbers import num\n",
    "a_k.substituted({a:xyz, k:num(1)})"
   ]
  },
  {
   "cell_type": "markdown",
   "metadata": {},
   "source": [
    "But we can also assign the index implicitly via *assumptions* or other known relationships:"
   ]
  },
  {
   "cell_type": "code",
   "execution_count": null,
   "metadata": {},
   "outputs": [],
   "source": [
    "from proveit.logic import Equals\n",
    "from proveit.numbers import num\n",
    "requirements=[]\n",
    "a_k.substituted({a:xyz}, assumptions=[Equals(k, num(2))], requirements=requirements)"
   ]
  },
  {
   "cell_type": "markdown",
   "metadata": {},
   "source": [
    "As with the `get_elem` of the `ExprTuple` class, we can pass back the requirements for counting into the `ExprTuple` that is being substituted into the *indexed* *variable*, as attained above and displayed below."
   ]
  },
  {
   "cell_type": "code",
   "execution_count": null,
   "metadata": {},
   "outputs": [],
   "source": [
    "ExprTuple(*requirements)"
   ]
  },
  {
   "cell_type": "markdown",
   "metadata": {},
   "source": [
    "Next, we see what happens when the *index* is out-of-range."
   ]
  },
  {
   "cell_type": "code",
   "execution_count": null,
   "metadata": {},
   "outputs": [],
   "source": [
    "try:\n",
    "    a_k.substituted({a:xyz, k:num(4)})\n",
    "    assert False, \"Expecting an IndexError error; should not make it to this point\"\n",
    "except IndexError as e:\n",
    "    print(\"EXPECTED ERROR:\", e)"
   ]
  },
  {
   "cell_type": "markdown",
   "metadata": {},
   "source": [
    "<a name=\"Iter\"></a>Iter\n",
    "====================\n",
    "\n",
    "An `Iter` `Expression` represents an iteration over a range.  For example,"
   ]
  },
  {
   "cell_type": "code",
   "execution_count": null,
   "metadata": {},
   "outputs": [],
   "source": [
    "from proveit import Iter\n",
    "from proveit._common_ import i, j\n",
    "a_it = Iter(i, IndexedVar(a, i), num(1), num(3))"
   ]
  },
  {
   "cell_type": "code",
   "execution_count": null,
   "metadata": {},
   "outputs": [],
   "source": [
    "ExprTuple(a_it).get_elem(num(2))"
   ]
  },
  {
   "cell_type": "code",
   "execution_count": null,
   "metadata": {},
   "outputs": [],
   "source": [
    "%end advanced_expressions"
   ]
  },
  {
   "cell_type": "code",
   "execution_count": null,
   "metadata": {},
   "outputs": [],
   "source": []
  },
  {
   "cell_type": "code",
   "execution_count": null,
   "metadata": {},
   "outputs": [],
   "source": [
    "from proveit.numbers import Less, num\n",
    "Less(num(3), num(4)).prove().derive_relaxed()"
   ]
  },
  {
   "cell_type": "code",
   "execution_count": null,
   "metadata": {},
   "outputs": [],
   "source": [
    "ExprTuple(a_it).get_elem(num(4))"
   ]
  },
  {
   "cell_type": "code",
   "execution_count": null,
   "metadata": {},
   "outputs": [],
   "source": [
    "ExprTuple(a_it, b_it).get_elem(num(2))"
   ]
  },
  {
   "cell_type": "markdown",
   "metadata": {},
   "source": [
    "Here, `a_it` represents a list ranging from the first element of $x$ to the third element of $x$.  If we substitute $x$ with an `ExprTuple`, the iteration will be expanded by successively applying `+1` (via `proveit.numbers` definitions of addition and `1`) to the *start index* (1 in this case) until the *end index* (3 in this case) is reached."
   ]
  },
  {
   "cell_type": "code",
   "execution_count": null,
   "metadata": {},
   "outputs": [],
   "source": [
    "a_it.substituted({a:xyz})"
   ]
  },
  {
   "cell_type": "markdown",
   "metadata": {},
   "source": [
    "In the following case, the substituted ExprTuple is not long enough to cover the iteration range."
   ]
  },
  {
   "cell_type": "code",
   "execution_count": null,
   "metadata": {},
   "outputs": [],
   "source": [
    "try:\n",
    "    a_it.substituted({a:xy})\n",
    "    assert False, \"Expecting an IndexError error; should not make it to this point\"\n",
    "except IndexError as e:\n",
    "    print(\"EXPECTED ERROR:\", e)"
   ]
  },
  {
   "cell_type": "markdown",
   "metadata": {},
   "source": [
    "The `Iter` may be embedded within a containing `ExprTuple`."
   ]
  },
  {
   "cell_type": "code",
   "execution_count": null,
   "metadata": {},
   "outputs": [],
   "source": [
    "b_it = Iter(j, IndexedVar(b, j), num(1), k)\n",
    "a13_b1k_yz = ExprTuple(a_it, b_it, y, z)"
   ]
  },
  {
   "cell_type": "markdown",
   "metadata": {},
   "source": [
    "When expanded via *expression substition*, the result is inserted into the outer `ExprTuple`:"
   ]
  },
  {
   "cell_type": "code",
   "execution_count": null,
   "metadata": {},
   "outputs": [],
   "source": [
    "a13_b1k_yz.substituted({a:xyz, b:xy, k:num(2)})"
   ]
  },
  {
   "cell_type": "code",
   "execution_count": null,
   "metadata": {},
   "outputs": [],
   "source": [
    "a13_b1k_yz.substituted({a:xyz, b:ExprTuple(x, a_it, y), k:num(5)})"
   ]
  },
  {
   "cell_type": "code",
   "execution_count": null,
   "metadata": {},
   "outputs": [],
   "source": [
    "a13_b1k_yz.substituted({a:xyz, b:ExprTuple(a_it), k:num(3)})"
   ]
  },
  {
   "cell_type": "markdown",
   "metadata": {},
   "source": [
    "A simple `Iter` over an `IndexedVar` as above may be used as `Lambda` *parameters* or `Operation` *operators*.  For example,"
   ]
  },
  {
   "cell_type": "code",
   "execution_count": null,
   "metadata": {},
   "outputs": [],
   "source": [
    "from proveit.numbers import Add\n",
    "Lambda(a13_b1k_yz, Add(*a13_b1k_yz))"
   ]
  },
  {
   "cell_type": "markdown",
   "metadata": {},
   "source": [
    "Note that the asterisk, `*`, above is necessary to indicate addition over the `ExprTuple` rather than `Add` applied to a single `ExprTuple` term."
   ]
  },
  {
   "cell_type": "markdown",
   "metadata": {},
   "source": [
    "An `Iter` may be applying more generally than an iteration over an **indexed** **variable**."
   ]
  },
  {
   "cell_type": "code",
   "execution_count": null,
   "metadata": {},
   "outputs": [],
   "source": [
    "Iter(Lambda(k, Add(k, k)), num(1), num(5))"
   ]
  },
  {
   "cell_type": "code",
   "execution_count": null,
   "metadata": {},
   "outputs": [],
   "source": []
  },
  {
   "cell_type": "markdown",
   "metadata": {},
   "source": [
    "<a name=\"ExprArray\"></a>ExprArray\n",
    "====================\n",
    "\n",
    "An `ExprArray` is the multi-dimensional analog to `ExprTuple`.  It has not been fully implemented, however.  This tutorial will be updated after it has been implemented."
   ]
  },
  {
   "cell_type": "code",
   "execution_count": null,
   "metadata": {},
   "outputs": [],
   "source": []
  },
  {
   "cell_type": "markdown",
   "metadata": {},
   "source": [
    "# Next chapter: <a href=\"tutorial11_advanced_proofs.ipynb\">Proofs Using Advanced Expressions</a>\n",
    "\n",
    "## <a href=\"tutorial00_introduction.ipynb#contents\">Table of Contents</a>"
   ]
  },
  {
   "cell_type": "code",
   "execution_count": null,
   "metadata": {},
   "outputs": [],
   "source": []
  }
 ],
 "metadata": {
  "kernelspec": {
   "display_name": "Python 3",
   "language": "python",
   "name": "python3"
  }
 },
 "nbformat": 4,
 "nbformat_minor": 0
}
