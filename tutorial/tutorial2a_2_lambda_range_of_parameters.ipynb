{
 "cells": [
  {
   "cell_type": "markdown",
   "metadata": {},
   "source": [
    "Chapter 2.a.ii.  Lambda with an indeterminate number of parameters\n",
    "=======\n",
    "\n",
    "The previous chapter discussed **Lambda** expressions with a fixed number of parameters.  In this chapter, we will discuss **Lambda** expressions with an unspecified number of parameters.  This is done by using an **ExprRange** of **IndexedVar** expressions in the **ExprTuple** of parameters.  For example $(x_1, ..., x_n) \\mapsto (x_1 + ... + x_n)$.  In this new theory, we revisit creation of **Lambda** expressions (abstraction), *relabeling* its parameters while retaining its meaning (alpha conversion), and *applying* the **Lambda** function to operators (beta reduction).  As a reminder, the beta reduction rule plays an important role in the **Instantiation** derivation rule, critical for constructing **Prove-It** proofs."
   ]
  },
  {
   "cell_type": "code",
   "execution_count": 1,
   "metadata": {},
   "outputs": [],
   "source": [
    "import proveit\n",
    "%begin lambda_indeterminate_params"
   ]
  },
  {
   "cell_type": "markdown",
   "metadata": {},
   "source": [
    "## Creating Lambda expressions (abstraction) with an indeterminate number of parameters\n",
    "\n",
    "We can make a **Lambda** expression with an indeterminate number of parameters by composing parameter entries from an `ExprRange` of `IndexedVar` expressions, such as $x_1, ..., x_n$.  It is important to recognize that although the number of parameters may not be a specific integer value, this number is tied to expressions in a consistent manner.  In the example of $x_1, ..., x_n$, there are $n$ parameters in this range and this same $n$ may be used elsewhere in the expression.  In the following example, we construct a lambda function that takes $2 n$ arguments and produces the dot product between the first $n$ and the last $n$ of these."
   ]
  },
  {
   "cell_type": "code",
   "execution_count": 2,
   "metadata": {},
   "outputs": [],
   "source": [
    "from proveit import Lambda, ExprTuple, ExprRange, IndexedVar\n",
    "from proveit import a, b, m, n, x, y\n",
    "from proveit.core_expr_types import Len\n",
    "from proveit.core_expr_types import x_1_to_n, y_1_to_n\n",
    "from proveit.logic import InSet\n",
    "from proveit.numbers import one, two, Natural, Add, Mult"
   ]
  },
  {
   "cell_type": "code",
   "execution_count": 3,
   "metadata": {},
   "outputs": [
    {
     "data": {
      "text/html": [
       "<strong id=\"dot_prod_lambda\">dot_prod_lambda:</strong> <a class=\"ProveItLink\" href=\"__pv_it/lambda_indeterminate_params/3b36687bec8951fa4d45f43ed7b5d9446552ba350/expr.ipynb\"><img src=\"data:image/png;base64,iVBORw0KGgoAAAANSUhEUgAAAnIAAAAVCAMAAAD1nvNsAAAANlBMVEX///8AAAAAAAAAAAAAAAAA\n",
       "AAAAAAAAAAAAAAAAAAAAAAAAAAAAAAAAAAAAAAAAAAAAAAAAAABHL6OuAAAAEXRSTlMAInZUiRDN\n",
       "mWbv3US7qzLz6SJmQj4AAAAJcEhZcwAADsQAAA7EAZUrDhsAAASwSURBVGje5VrbEqsqDBUQQVHP\n",
       "8f9/dqMtmkBC46V7Zk95aFqTZiWLcBFtmthU86NNXTFW38ZTfymhv+e3oE6bXy25oOW2iaU7bInw\n",
       "vg5wvt2tkBRWkqZtfrZpL7VMLN1jS4D3dYDz7X6FpLBe0nbND7fOyuwSS3fZ+oj3dYDz7YkKSWFt\n",
       "0vlfLjnvZHaJpbts5XjBM0CPJRTOOnw8JBjWJvvmp1tPzwo62zD3mXwKz+Sbr6cBSoSPy+jjIcGw\n",
       "ojTdb5dctw9h1FUGTxaJpftsdb7av48D3C+5ZyokhRWle28NrdaTnduWvjepa2U7gg8urN4mcDud\n",
       "VsrQGQftfmVA1/GvxJKMrRpiO1X793GA+yV3IiQBz1Gm6oujWk+6cQO9lalqZbuhDy7axqwzuF9O\n",
       "KyWNdeA7usjMyIxRKR8Mou+q/fs4wP2SOxGSgOcoh1fRerXa2WYit4p1rWz/+MHFbF7JTONZpaTx\n",
       "DkxPl1yjR7DSvlmSsVVFNH21fx8HuF9y8pAkPEfZh5ftWsZpfNh8pECtbdtpOn8njgCoGTnuLNdc\n",
       "148CHyivwUPvWVz7ePzv/wG1ZQnH5jcgybNll66ez47nNpC+38SUAfGEUwDI4kiIRqgtRNKQCnqp\n",
       "rGmeo+wBr2+7WWti8kxat8V27a6lOuBCHEIxopnE35VX4XcH+XVulgtdaLiSq7A1uHo+oT7LEQBZ\n",
       "xgQAsghPz3JESEUjgmJ4jnIwh3GcOu02WMxAdNlbu459VboU9foOQI6xdaTonsbflVfhgXdM8ECX\n",
       "3IzOVLOF9SNbfD6ZMbOKiQinOcmjeWph/dyBIp6jHDcAO4Zm6rftH9S/vSOttyk/0fJGunA+jnyX\n",
       "nU2MU/rI8aHyGjx0AMHjz5EuuQ4dzI0aSoatrBH5IDyyfwmAI2MOAFn48eGSo0LCHNJB0TxH+bp5\n",
       "NctsXXQYDCQxLdGZNsIOcAEHSzn7BbqwPvRxD9orZNm4aR1HnsDHyhy+/EJdSg4QODgCiNrKuRy4\n",
       "xWfZKsZ7kQ/GI/uXBHhnXAEAFhlAhlDlSBpSziEVFMdzlPMWqnVaR5q9wbPgMFhCG/9jgRYu5cSX\n",
       "0oWyek1ysQ3yYqdWu0UR+FhZwJegBfzhAINHg0Df7ONZZR6gZNjKJ9gynxIv718SIGXMAwCLPKEM\n",
       "geLInQwp55AKiuN5lQMxZe8UGcqrSscHRrK2UUaTBttcaNB2Ffy38jr8ywECV8I7kcRSlS2icrN8\n",
       "Crxi2aMA1Gg/ABwWRUL3H3gRISEOmaBInjdJPdjeKaLeWlHxD0pxWuJwkLh1jUk418zQYI3T9obG\n",
       "B8pr8MABApc+skaPpUUlR+ZT4BXP0AmAI2MOAFgUCd1/rE+EhDhkgiJ5fslRsSRaTQ25eZ6dZbTE\n",
       "ExDCxbKNHTNDgyHKqWXwD+VFeOAAgivx2XJiqcJWNjcQ+UjwCoAjYw4AWKirh+XnQoIcckFRPL+l\n",
       "zaNUbbe0W1dRndova+O0RaOMwroh1a1HBsZrFzj8Q3kR/nCAwEfxG9aJpQpbWSES+UjwCoAjYw4A\n",
       "WIzfeBW9CAlxyARF8pyk+s7by/9A0yc6KLF0hy0R3tcBzre7FZLC2uQfI803GYuu7T4AAAAASUVO\n",
       "RK5CYII=\n",
       "\" style=\"display:inline;vertical-align:middle;\" /></a><br>"
      ],
      "text/plain": [
       "<IPython.core.display.HTML object>"
      ]
     },
     "metadata": {},
     "output_type": "display_data"
    }
   ],
   "source": [
    "dot_prod_lambda = \\\n",
    "    Lambda((x_1_to_n, y_1_to_n), \n",
    "           Add(ExprRange(a, Mult(IndexedVar(x, a),\n",
    "                                 IndexedVar(y, a)), one, n)))"
   ]
  },
  {
   "cell_type": "markdown",
   "metadata": {},
   "source": [
    "It is useful to make the distinction between parameter entries (which may be ExprRange or IndexedVar expressions) and parameter variables (which may only be Variable types).  In the `dot_prod_lambda` example, the parameter entries are $x_1, ..., x_n$ and $y_1, ..., y_n$ but the variables are $x$ and $y$."
   ]
  },
  {
   "cell_type": "code",
   "execution_count": 4,
   "metadata": {},
   "outputs": [
    {
     "data": {
      "text/html": [
       "<a class=\"ProveItLink\" href=\"__pv_it/lambda_indeterminate_params/512e62ae07d92005c8d6625d28ea28f8a40984bd0/expr.ipynb\"><img src=\"data:image/png;base64,iVBORw0KGgoAAAANSUhEUgAAAQIAAAAVBAMAAABfxf30AAAAMFBMVEX///8AAAAAAAAAAAAAAAAA\n",
       "AAAAAAAAAAAAAAAAAAAAAAAAAAAAAAAAAAAAAAAAAAAv3aB7AAAAD3RSTlMAInZUiRDNmWbv3US7\n",
       "qzJazP2FAAAACXBIWXMAAA7EAAAOxAGVKw4bAAACt0lEQVRIx8WWT2gTQRjF324ybpI1aTyIl0CX\n",
       "IEYPhRz8Vw8atAQRCktRWsFqjh6D1BojYlTUg2JjRBAEDUoRFCTgqQepCp6kEkoLCgqLVYQe2hSM\n",
       "CELizO5mdjZhc93vMJm3/N7um9mZnQCIw7+SWCOnfUygarTZDT9rJ0ByvibYpEMp+ZoglEcY/tYD\n",
       "7PU5wVlM0XZs6PSIsCO6ZG+R5PKPI6JOlTAp+Asg9X52ER+lGYC8vKhUHaJL9paCIa0o6GCgjBlH\n",
       "ZoYRavSxu/CbeEZXQzzUjJYwYe8KS5KRb7rXLa5iRv8s6BUa+Cv3x9JFRN8eH132slu4XcN4RC1Q\n",
       "qDmWtMdtSQXe82Bg2qX1sIYK9xNUENbyKHrZTbwj1lkCUANtAvyJTA7UpJb3RFbccl6PtRy/2sS6\n",
       "8Q+DhpfbxO2aY2+BXooTXUjAZEjvk0DdwAncupvM23oactnx0ynchRt9EjA8VPieYv0DeA+cqn1B\n",
       "0JoDAi4RrJqyewop9DFaRobcfoh7lgML2FznftZfoD/HTLh7H3TwiblSmJ2Jd+huwKGfF/HaSnAm\n",
       "xyVWdVOaDfkjdAKt8bKalsZyaFoXcRnzJe6HUlf/0uU063Y5ysS37sAACziFVWA8GSikrQSRWS6l\n",
       "D5ZEhM31807nhQ5yTtt3HYhqatlGJg9fiXM/yFJqA0joJuzYrXtwfJEuAVovEeFvy3yPe/h8bcMW\n",
       "UXKKz2zYUPJGB8m6/MEcpLwUF2BeHH+MCzE6zio7GsQEGf7f4dPaeUE6nxPeG0RkxTCRYI7cF/xZ\n",
       "nEwjsfZLF2Dnc2XjUgOvDsI8GN91Hpn9rYFofITtdkOQzieX995APgoTiWjRjOB/iiXgSbstwnwl\n",
       "dnC1ju306Qm29EVAdvNy7xi6MzEkcO2SaNifqnnA3bg1fknz8WSU4/gPAnPANEmgkTQAAAAASUVO\n",
       "RK5CYII=\n",
       "\" style=\"display:inline;vertical-align:middle;\" /></a>"
      ],
      "text/plain": [
       "(x_{1}, x_{2}, ..., x_{n},y_{1}, y_{2}, ..., y_{n})"
      ]
     },
     "metadata": {},
     "output_type": "display_data"
    }
   ],
   "source": [
    "dot_prod_lambda.parameters"
   ]
  },
  {
   "cell_type": "code",
   "execution_count": 5,
   "metadata": {},
   "outputs": [
    {
     "data": {
      "text/html": [
       "<a class=\"ProveItLink\" href=\"../packages/proveit/__pv_it/common/70b6dfe187a2382408546cc714e0c3bc5c3a48c90/expr.ipynb\"><img src=\"data:image/png;base64,iVBORw0KGgoAAAANSUhEUgAAACwAAAAVBAMAAADP3xFXAAAAMFBMVEX///8AAAAAAAAAAAAAAAAA\n",
       "AAAAAAAAAAAAAAAAAAAAAAAAAAAAAAAAAAAAAAAAAAAv3aB7AAAAD3RSTlMAInZUiRDNmWbv3US7\n",
       "qzJazP2FAAAACXBIWXMAAA7EAAAOxAGVKw4bAAABFElEQVQY022QIU8DQRBG31273JVScj8A0WAK\n",
       "gqSCEIoBQXAkzRlC0hAksqKioFAoFAkK04AD0wSFguJJLqQGV4PBFEQJkm/veuauk+zM7tvZ2W8G\n",
       "CMiYY51bz+JyVW6dnK2AOc7juSbeeR77bUrMsGs2ZuETOvLh2tFuoifsYiLY1wW03XevF+OdBv43\n",
       "XHCnHwJ/Uol/XqyfUXmBBjc64E1VGq4oqZmxxcTbpMEJ4xE82SLwHJhmjPVsVWGLV2j1PyiCvViI\n",
       "eFO4lBa2P095xPza7Kj8p9DhCw6WC13Jvle6GdZ+hB+YH6WtFeLyRYlyenYsU1N59jjUOzu+QYpD\n",
       "rVuG8ktarRRb7Zu1PkmmU83Ozw34B0+VM03mG9eBAAAAAElFTkSuQmCC\n",
       "\" style=\"display:inline;vertical-align:middle;\" /></a>"
      ],
      "text/plain": [
       "(x, y)"
      ]
     },
     "metadata": {},
     "output_type": "display_data"
    }
   ],
   "source": [
    "dot_prod_lambda.parameter_vars"
   ]
  },
  {
   "cell_type": "markdown",
   "metadata": {},
   "source": [
    "Note that parameter variables must be unique (rather than parameter entries)."
   ]
  },
  {
   "cell_type": "code",
   "execution_count": 6,
   "metadata": {},
   "outputs": [
    {
     "name": "stdout",
     "output_type": "stream",
     "text": [
      "Expected error: Parameter variables must be unique.  (x_{1}, x_{2}, ..., x_{n}, x) does not satisfy this criterion.\n"
     ]
    }
   ],
   "source": [
    "from proveit import ParameterCollisionError\n",
    "try:\n",
    "    Lambda((x_1_to_n, x), Mult(x_1_to_n))\n",
    "    assert False, \"Expected an ParameterCollisionError error.\"\n",
    "except ParameterCollisionError as e:\n",
    "    print(\"Expected error:\", e)"
   ]
  },
  {
   "cell_type": "code",
   "execution_count": 7,
   "metadata": {},
   "outputs": [
    {
     "name": "stdout",
     "output_type": "stream",
     "text": [
      "Expected error: Parameter variables must be unique.  (x_{n}, x_{m}) does not satisfy this criterion.\n"
     ]
    }
   ],
   "source": [
    "try:\n",
    "    Lambda((IndexedVar(x, n), IndexedVar(x, m)), Mult(IndexedVar(x, n), IndexedVar(x, m)))\n",
    "    assert False, \"Expected an ParameterCollisionError error.\"\n",
    "except ParameterCollisionError as e:\n",
    "    print(\"Expected error:\", e)"
   ]
  },
  {
   "cell_type": "markdown",
   "metadata": {},
   "source": [
    "Also, none of the parameter variables may occur as free variables within any parameter index."
   ]
  },
  {
   "cell_type": "code",
   "execution_count": 8,
   "metadata": {},
   "outputs": [
    {
     "name": "stdout",
     "output_type": "stream",
     "text": [
      "Expected error: Parameter variables may not occur as free variables in parameter indices.  (x_{n}, y_{x}) does not satisfy this criterion.\n"
     ]
    }
   ],
   "source": [
    "try:\n",
    "    Lambda((IndexedVar(x, n), IndexedVar(y, x)), Mult(IndexedVar(x, n), IndexedVar(y, x)))\n",
    "    assert False, \"Expected an ParameterCollisionError error.\"\n",
    "except ParameterCollisionError as e:\n",
    "    print(\"Expected error:\", e)"
   ]
  },
  {
   "cell_type": "markdown",
   "metadata": {},
   "source": [
    "Parameters are not restricted to occurrences where the ranges matches.  Any ambiguity must be resolved when the **Lambda** expression is applied, however.  Also, relabeling will not be allowed as we shall see in the next section."
   ]
  },
  {
   "cell_type": "code",
   "execution_count": 9,
   "metadata": {},
   "outputs": [
    {
     "data": {
      "text/html": [
       "<strong id=\"inconsistent_dot_prod\">inconsistent_dot_prod:</strong> <a class=\"ProveItLink\" href=\"__pv_it/lambda_indeterminate_params/c61a20188733442cc0676bb949e76dc9b6b54ca40/expr.ipynb\"><img src=\"data:image/png;base64,iVBORw0KGgoAAAANSUhEUgAAAnsAAAAVCAMAAAAJi9imAAAANlBMVEX///8AAAAAAAAAAAAAAAAA\n",
       "AAAAAAAAAAAAAAAAAAAAAAAAAAAAAAAAAAAAAAAAAAAAAAAAAABHL6OuAAAAEXRSTlMAInZUiRDN\n",
       "mWbv3US7qzLz6SJmQj4AAAAJcEhZcwAADsQAAA7EAZUrDhsAAAUESURBVGje5Vrr1qsoDBUQwQvO\n",
       "+P4vO6DlnkBs65x1VvnxxX6J2ckmXNthsI0NP9rYW8bsaTz2/yT0B/yy0h8Xv1p7K6fbBpY+oIuG\n",
       "9zjA7fa1CvHxeSnG4Wcb11TLwNJHdFHwHge43b5YIT6+S8pp+OE2SZpdYOlDuvp4jwPcbl+tEB/f\n",
       "KZX+5drTimYXWPqQrgpv1RjSUwD9hVF/NSI4vlPOw0+3GZkneL69nquHL+GJcof2OEB/ieXfjQiO\n",
       "z0ox/XbtTXFQZ50msvkjsPQxXZNud/TjALdr78sV4uOzUr32kZJzI/dxRE40HTVp29BDOOd2aW4r\n",
       "ieiwhzH+Y8kU2SfPEpUuHHE07dJ4HOB27YXcyTXQ7C0fn5W+DO0w54YPakH2O201acvUdjEOwk3u\n",
       "+ritJDXMg56Q2hMbNJkQ6cIR9dQujccBbtdeyJ1cA83e8vFZuVxVrJmzlYOB95UdNWmT2Xaxiysp\n",
       "s91VkhrqQcxI7Q18i4vwIvIHAh8IopjbpfE4wO3a87mTa6DdWz4+K+f1snd1He4RyrGTqeU4GnP/\n",
       "JJ8hAPO03X26nN2fCj9Rvomeus/DioPzn3+XrB3HGjbIa/6A0iWPqZ1QxFMnyDyfwgw4QJ5yQEBI\n",
       "6QE0lyboDZ97pwPBwKA6OIIMrEbbnXNoWvVqdQb53hmnNQZXO6ZsRDuIH5RvowcPxb/ReW+dEmrW\n",
       "8gGja1HthNbOtAQAFClHBJCU9dvzXhJRuwOBwKB+mIMMq4l9wU6q8hw9YoH67qV2swGD/Xa7PyBA\n",
       "g84NGz7D+EH5NnriPiN6QWpvT29pyzW3TxeWUGmLrLkkwkFSegBvr7ndDuxyncVn5XYCyW0dzHxu\n",
       "E1O9R8nUWvpESUufhFwobecCld9sbMb/ifzVyohOgo820UMCbj9tSO1N6QXfxrMHhK6iQQmleGBp\n",
       "AABJyghAatEDuF17r9yBDjQD19veyhyw8/FZeR15xbFLZR2vIiUzrOCF2uIv2QKPP4Sn1IXU62w3\n",
       "rDPLLJVxA0tntQ8pX+gk+OggeEjB0xsEq8Xv98LFRYuuavTXCWV4YGmAAD5lHCBadACaHIFvvHKH\n",
       "OtC4k28jMMjOx2flfvWj4tzSrUU+Ly7LNW8UavuSTNVxpa8fvFHqgknu0j1yJ9KMXB0s6ypI6dFJ\n",
       "8MEmeMjArcGK3BNk43lfsgeErnLOBRKq8MraAwFCyihAtOgBtPoKfOOVO9SBe13qINepnY/PyWXH\n",
       "1+RBgOsa87cPgrLsQUaGx01nqh+nojMBZUAnwWc2l4cUnBGPLYGlJl1ACRcJVXjVkggBsE12AIJF\n",
       "H+DumgtG5Djc53w3CAVW2fn4Tgl9mx6oAn88w+wbjKHq+qYROPC6kaDOY7vXu1jlXC5itTKik+DH\n",
       "ofKQglO/Jw8sNemqyK8SqvCqr/oBgCRlBCBa9AH6R0LdjejkkG9ulznsrcAqOx/fJTeGkik5OOvt\n",
       "+64kpq6/YAFcHOdwEnuiX6w0Y9GZtTKik+CDTeIhAWfky+rAUoOuYroAEqLgVQBJyghAtGBv377f\n",
       "ieji0M1p9sSgWoGVdj6+l5RluGycjvHsM7Bz58M1VF02yGh1G08+6lQvNFdrgQ8oIzoJPthEDyn4\n",
       "Rv4xeGCpQVdRkUBCFLwKIEkZAYgW2xO/mq8iujh0NwHMcNkIrLLz8XnJnvmh9V/Q+I2eCix9QBcN\n",
       "73GA2+1rFeLjO+V/x0M4LRAhzjIAAAAASUVORK5CYII=\n",
       "\" style=\"display:inline;vertical-align:middle;\" /></a><br>"
      ],
      "text/plain": [
       "<IPython.core.display.HTML object>"
      ]
     },
     "metadata": {},
     "output_type": "display_data"
    }
   ],
   "source": [
    "inconsistent_dot_prod = Lambda((x_1_to_n, y_1_to_n), Add(ExprRange(a, Mult(IndexedVar(x, a),\n",
    "                                                                           IndexedVar(y, a)), one, m)))"
   ]
  },
  {
   "cell_type": "markdown",
   "metadata": {},
   "source": [
    "## Relabeling with an indeterminant number of parameters (alpha conversion)\n",
    "\n",
    "When a parameter variable occurs in the **Lambda** body only within ranges that match the range of the parameter entry, relabeling is straightforward.  For example, with"
   ]
  },
  {
   "cell_type": "code",
   "execution_count": 10,
   "metadata": {},
   "outputs": [
    {
     "data": {
      "text/html": [
       "<a class=\"ProveItLink\" href=\"__pv_it/lambda_indeterminate_params/3b36687bec8951fa4d45f43ed7b5d9446552ba350/expr.ipynb\"><img src=\"data:image/png;base64,iVBORw0KGgoAAAANSUhEUgAAAnIAAAAVCAMAAAD1nvNsAAAANlBMVEX///8AAAAAAAAAAAAAAAAA\n",
       "AAAAAAAAAAAAAAAAAAAAAAAAAAAAAAAAAAAAAAAAAAAAAAAAAABHL6OuAAAAEXRSTlMAInZUiRDN\n",
       "mWbv3US7qzLz6SJmQj4AAAAJcEhZcwAADsQAAA7EAZUrDhsAAASwSURBVGje5VrbEqsqDBUQQVHP\n",
       "8f9/dqMtmkBC46V7Zk95aFqTZiWLcBFtmthU86NNXTFW38ZTfymhv+e3oE6bXy25oOW2iaU7bInw\n",
       "vg5wvt2tkBRWkqZtfrZpL7VMLN1jS4D3dYDz7X6FpLBe0nbND7fOyuwSS3fZ+oj3dYDz7YkKSWFt\n",
       "0vlfLjnvZHaJpbts5XjBM0CPJRTOOnw8JBjWJvvmp1tPzwo62zD3mXwKz+Sbr6cBSoSPy+jjIcGw\n",
       "ojTdb5dctw9h1FUGTxaJpftsdb7av48D3C+5ZyokhRWle28NrdaTnduWvjepa2U7gg8urN4mcDud\n",
       "VsrQGQftfmVA1/GvxJKMrRpiO1X793GA+yV3IiQBz1Gm6oujWk+6cQO9lalqZbuhDy7axqwzuF9O\n",
       "KyWNdeA7usjMyIxRKR8Mou+q/fs4wP2SOxGSgOcoh1fRerXa2WYit4p1rWz/+MHFbF7JTONZpaTx\n",
       "DkxPl1yjR7DSvlmSsVVFNH21fx8HuF9y8pAkPEfZh5ftWsZpfNh8pECtbdtpOn8njgCoGTnuLNdc\n",
       "148CHyivwUPvWVz7ePzv/wG1ZQnH5jcgybNll66ez47nNpC+38SUAfGEUwDI4kiIRqgtRNKQCnqp\n",
       "rGmeo+wBr2+7WWti8kxat8V27a6lOuBCHEIxopnE35VX4XcH+XVulgtdaLiSq7A1uHo+oT7LEQBZ\n",
       "xgQAsghPz3JESEUjgmJ4jnIwh3GcOu02WMxAdNlbu459VboU9foOQI6xdaTonsbflVfhgXdM8ECX\n",
       "3IzOVLOF9SNbfD6ZMbOKiQinOcmjeWph/dyBIp6jHDcAO4Zm6rftH9S/vSOttyk/0fJGunA+jnyX\n",
       "nU2MU/rI8aHyGjx0AMHjz5EuuQ4dzI0aSoatrBH5IDyyfwmAI2MOAFn48eGSo0LCHNJB0TxH+bp5\n",
       "NctsXXQYDCQxLdGZNsIOcAEHSzn7BbqwPvRxD9orZNm4aR1HnsDHyhy+/EJdSg4QODgCiNrKuRy4\n",
       "xWfZKsZ7kQ/GI/uXBHhnXAEAFhlAhlDlSBpSziEVFMdzlPMWqnVaR5q9wbPgMFhCG/9jgRYu5cSX\n",
       "0oWyek1ysQ3yYqdWu0UR+FhZwJegBfzhAINHg0Df7ONZZR6gZNjKJ9gynxIv718SIGXMAwCLPKEM\n",
       "geLInQwp55AKiuN5lQMxZe8UGcqrSscHRrK2UUaTBttcaNB2Ffy38jr8ywECV8I7kcRSlS2icrN8\n",
       "Crxi2aMA1Gg/ABwWRUL3H3gRISEOmaBInjdJPdjeKaLeWlHxD0pxWuJwkLh1jUk418zQYI3T9obG\n",
       "B8pr8MABApc+skaPpUUlR+ZT4BXP0AmAI2MOAFgUCd1/rE+EhDhkgiJ5fslRsSRaTQ25eZ6dZbTE\n",
       "ExDCxbKNHTNDgyHKqWXwD+VFeOAAgivx2XJiqcJWNjcQ+UjwCoAjYw4AWKirh+XnQoIcckFRPL+l\n",
       "zaNUbbe0W1dRndova+O0RaOMwroh1a1HBsZrFzj8Q3kR/nCAwEfxG9aJpQpbWSES+UjwCoAjYw4A\n",
       "WIzfeBW9CAlxyARF8pyk+s7by/9A0yc6KLF0hy0R3tcBzre7FZLC2uQfI803GYuu7T4AAAAASUVO\n",
       "RK5CYII=\n",
       "\" style=\"display:inline;vertical-align:middle;\" /></a>"
      ],
      "text/plain": [
       "(x_{1}, x_{2}, ..., x_{n}, y_{1}, y_{2}, ..., y_{n}) -> ((x_{1} * y_{1}) +  (x_{2} * y_{2}) +  ... +  (x_{n} * y_{n}))"
      ]
     },
     "metadata": {},
     "output_type": "display_data"
    }
   ],
   "source": [
    "dot_prod_lambda"
   ]
  },
  {
   "cell_type": "markdown",
   "metadata": {},
   "source": [
    "both $x$ and $y$ have consistent $1$ to $n$ ranges in the body and the parameters.  So we can relabel with"
   ]
  },
  {
   "cell_type": "code",
   "execution_count": 11,
   "metadata": {},
   "outputs": [
    {
     "data": {
      "text/html": [
       "<strong id=\"dot_prod_lambda_relabeled\">dot_prod_lambda_relabeled:</strong> <a class=\"ProveItLink\" href=\"__pv_it/lambda_indeterminate_params/b28c9816d0efdad74e5abbd55edcdfb29e8a7ee90/expr.ipynb\"><img src=\"data:image/png;base64,iVBORw0KGgoAAAANSUhEUgAAAmUAAAAVCAMAAAAw7Gn9AAAANlBMVEX///8AAAAAAAAAAAAAAAAA\n",
       "AAAAAAAAAAAAAAAAAAAAAAAAAAAAAAAAAAAAAAAAAAAAAAAAAABHL6OuAAAAEXRSTlMAInZUiRDN\n",
       "mWbv3US7qzLz6SJmQj4AAAAJcEhZcwAADsQAAA7EAZUrDhsAAATBSURBVGje5VrZlqQgDBUQcZ/x\n",
       "/392kDKyJWyOfeqc5iXVnXhvuMSAVnWdHqz7dYO1BLN32diPTOaHcCPNuPh9Vbbw8ljQp12nIraX\n",
       "4evHo7qAnMCK/gtWXa7TXO96AM3H0utBn1KdML4Ctpfh60d5XaAKQ04fK4fv6C6DanG1Qw+yUMLB\n",
       "t218WbaX4RtuzuGhwpCTsWr8jio7RIurHXosLF3Qp0InhC9kW0aC5iX4/A73ICFcYcjJ2OlLDkqH\n",
       "bHA9gZ5wVB6ceafANvIFbCI8Sr0Mn98f2xOiFIactBVfsmH2c4vrCfRw36yeRMJvC6BPhU4o3zAm\n",
       "F/Vl+Poqq6oLXGHISVsFZzy29ZyRyaW9RY+2aYRh43wTta6yQwN+fb/BJ18j/y/Qp1Anks+yoYv6\n",
       "Mnx9lVUkRCkMOWkLBbdMeqdYqb0p7S1qqmkEeehDojxYnavsGEtcPw54XYmVuCELlcD5xiG5qC/D\n",
       "11dZeUKkwpCTtvOnBOV0oipib0p7i5Y6gyDMPCZe5yrTj7heTHiVdXx1NL30KdMpwSem5KK+DF9f\n",
       "ZeUJkQpDTtpOy6dBHgbatEk5hnuy45V9v231Pc3FR/2G8ugR9tvVSn1D+2M/4NOfv7M3jmOxR9jF\n",
       "s6RO+n5OTuVmU4ZimozZAhpSaATeC8jAJ/UpTAjpYGmFISdtL7RpNdedf+ych6XreFVbU3MQ0GHm\n",
       "segH4pj9djVS39dHezjRy5bBSTOoMlqnWSWnsqSbTQwfzDaG9wKW/93L4oRiYVVaYchJ209nlMdJ\n",
       "Ml7FJ+awaq33JGTHXn02cvGpFy7KdN6Q/Xa1UbvQvq4zXmW794rT3zHTOqWmEsTiG1SJ0LgcGfjW\n",
       "HTO7bimFISdtV/5BOwO3oRPMccu7Rqx3lDC3or1LIghq1He58t8hnIifM0DEfrvaqJ3rHeJTuxWv\n",
       "ssE7xa7ctbhOgebxVDw2dFFjeDtbAt4LyMDXVxmSkC8fmpIXAjlpez1unqBCt0DliGM3Xs97vR65\n",
       "vfEH5F8WQY7LmdD56OJcsel/rarD2B0XSZ3KBq53ib1n9W5JvC9zHscpnYIRT8VnQxcVg8ffQ8Vy\n",
       "5OFTa1WaUCgfklIQ4rwE2q813Xi/s43vrjjzDK3I9epLpOe1+7OKt+wryCIwyc8JHjJg6OErjZDd\n",
       "cdHUSBLh9R7x6ccPib3fPi59kjoFPTSeSswWLioGD7Ml4Z2ADDyijurqEgrlQ1IKQiCn085xU77F\n",
       "EdjWxOBBX5RsXEjQxu3JEHEn2B9Su8QdK3yOAH1SOpEZ3AEhW7SlIfBszczSBmThq3dMJCFPPny4\n",
       "IZCTsci3xrc42AMs0/GMUd64NSDPmzp/pbqdcNPsT6ld4uJvg70vfZurLGSLvpyO4e1sqSKzAVn4\n",
       "/FvzfEKefMSrBCfE/5nByihxJMfun33flSS8cTONg9hh7hSxExgk+1Nql1iDleoP+tA65ausgC2E\n",
       "t7MlO9kdUD6ZihEl5MpHpOSEQE6XlUGKrB+O3qwQtpbTcQ7KGw0kaDnPlbwfcXeC/Sm1S4zUDFmt\n",
       "a5fRidLcBhSwhfB2tlTfsAHrG7/JDhPy5CMaohMS3pzsnR/0fvXgFesC+rTrVMT2Mnz9eFQXkJOx\n",
       "/wD07TdPGnkGEwAAAABJRU5ErkJggg==\n",
       "\" style=\"display:inline;vertical-align:middle;\" /></a><br>"
      ],
      "text/plain": [
       "<IPython.core.display.HTML object>"
      ]
     },
     "metadata": {},
     "output_type": "display_data"
    }
   ],
   "source": [
    "dot_prod_lambda_relabeled = dot_prod_lambda.relabeled({x:a, y:b})"
   ]
  },
  {
   "cell_type": "code",
   "execution_count": 12,
   "metadata": {},
   "outputs": [],
   "source": [
    "assert dot_prod_lambda_relabeled == dot_prod_lambda"
   ]
  },
  {
   "cell_type": "markdown",
   "metadata": {},
   "source": [
    "When they do not match, a `DisallowedParameterRelabeling` exception is raised whenever relabeling is attempted.  The attempt may be direct:"
   ]
  },
  {
   "cell_type": "code",
   "execution_count": 13,
   "metadata": {},
   "outputs": [
    {
     "data": {
      "text/html": [
       "<a class=\"ProveItLink\" href=\"__pv_it/lambda_indeterminate_params/07f72890306d20e60357c0c6e1a670bfc70fb1930/expr.ipynb\"><img src=\"data:image/png;base64,iVBORw0KGgoAAAANSUhEUgAAAm4AAAAVCAMAAADIDJIKAAAANlBMVEX///8AAAAAAAAAAAAAAAAA\n",
       "AAAAAAAAAAAAAAAAAAAAAAAAAAAAAAAAAAAAAAAAAAAAAAAAAABHL6OuAAAAEXRSTlMAInZUiRDN\n",
       "mWbv3US7qzLz6SJmQj4AAAAJcEhZcwAADsQAAA7EAZUrDhsAAATsSURBVGje5VrbltsgDDRgfLdb\n",
       "///PFki4SyBovM055QXvSpkRI1lgJ8OgBhv+t8G6nNmzbOwnFvPjuCxF4+K/K7ed032dPN060dge\n",
       "hm8eHyoLG52dxfjv0y+PdeuxdWPzhfpxJw9VJ4CPwvYwfPNoLAs8Sza61yynr+g309xn68WeJFHG\n",
       "Kb3o4auzPQzffpNOH8ugjc7M8/IV5XaLPlsv9kIsYSdPg045X8a2LxjPM/DVLe8v4qllyUZn5vU7\n",
       "DlO37LL1Y68IKI9PyGt20cWXson0vPUwfHXr7I+nniUbnZrFd+yl49Zn68ee/O0b6SSiTuHkadAJ\n",
       "4puWcnofhm8ut/ayKGTJRqfm2Z4I2TlyhkVZNBIfiIsQ08n5KdptpEMF+PnxdJexUNFfTh6aTihf\n",
       "wAam92H45nJriKeeJRudmm3l7avaRA6kIRaNxF5bhJC3OkfKm7XaSIde+PPLhJSbOKC2QdIJ51um\n",
       "cnofhm8uN3o8hCzZ6NS8vQpSrhp/hhti0UjMeRlCmAWtvNVGUhL+vFiRchv44dXdRHxBkALkE2s5\n",
       "vQ/DN5cbPR5KBlc3r/ured6GxLRQmd4rgVGO43l2dLkQHzIbxnsEyL2tk9tjR+O63eWv31s07nt3\n",
       "p9w9vkB1Und3aS2ebTYU62qmc0Dh49UC8KFDDb4kDzEerKeVVY6iU/Mbdz3Mh/UfF+dJNQfGubPN\n",
       "BRDQMAva1aN0Tu5tndzu8+nujnW3ffJhpuWG67TNpbXslfaTwyerzeFDh/3T3S2PBxF3LqscRafm\n",
       "V9eUt6Zb3lUotqSEvVEzs/tqPz+F+Mg7m9n0Y7Fhtk7uADsSeEPK7QpfmiabaVGn0lpSV3jzoigN\n",
       "ylGD79xMa2mrqxxFp+aDv3C19zkNggVmaWvFGxfp1kjZ1uQAQMyLuu/nyK4RX+eElDyweW7Sjpph\n",
       "h8TqrwMptyk87h48uoB1SoTP1xKxgenN4QOlYfjQoQbfXG5APEa9c+DLcZVWDfjZ6NT8fkjV8EJ1\n",
       "xjlQyW3MkdG+YXFWykUAIZddR6WfeLz9VP855gEiD21vbhJjhh0Sh4/6qsnj793cG4aCTsnI1xKz\n",
       "gemF4OF3WbkcdfiSTsR4rHrq//wsrBrys9Gp+Xpn9+TjxU5+hSptm8yN6hMysgb7d35hfTwEk1yv\n",
       "9NV2PcNovzVJyUOb5aZQZ9gRsTIjB5IxunevLb4AdUq6ar6WnC1NLwTvlMbgvUMNvqQTLR6r3pXX\n",
       "Nqhy6Gej0/N2oXvtIIDlMveaQBD2NMjn5P70mNtL5I6bQp07hcSM+Mzh5CnphEZgHTK2bLcD4NlR\n",
       "WaVzqMO3bqZAPFq9aw3Ps/DI/Gx0Zga+q3YqAWXMlDtjmDXvFdBTqq78ebhge4Hcc5N+HDOWiKlf\n",
       "QTt5SjpVyy1jy74Sz+EDpZFqcw51+Opb+Ho8Wj1+6PPiUHxcy/xsdK/5YJhKkgM31HVds0SseYsF\n",
       "fNhtbh5xwXac3HNTqHOnkJgd1EQ4eXCdquVGYUvhA6Wx3mYd6ItpGFk897tzqQN/6dc0mZ+N7j3L\n",
       "JFg2TvdoUgUkdb31GBBrNiCfXZ8g+biA9hK556b9OrZEfJC/E3Py4DphwjsHClsKHyiNdBHncDzx\n",
       "8/E0HqOefmpXR7nSJp/52ejszJ758fE3D96QICdPt040tofhm8eHysJGZ+Y/xL44Y/EL5ikAAAAA\n",
       "SUVORK5CYII=\n",
       "\" style=\"display:inline;vertical-align:middle;\" /></a>"
      ],
      "text/plain": [
       "(a_{1}, a_{2}, ..., a_{n}, b_{1}, b_{2}, ..., b_{n}) -> ((a_{1} * b_{1}) +  (a_{2} * b_{2}) +  ... +  (a_{m} * b_{m}))"
      ]
     },
     "metadata": {},
     "output_type": "display_data"
    }
   ],
   "source": [
    "inconsistent_dot_prod.relabeled({x:a, y:b})"
   ]
  },
  {
   "cell_type": "code",
   "execution_count": 14,
   "metadata": {},
   "outputs": [
    {
     "data": {
      "text/html": [
       "<a class=\"ProveItLink\" href=\"__pv_it/lambda_indeterminate_params/07f72890306d20e60357c0c6e1a670bfc70fb1930/expr.ipynb\"><img src=\"data:image/png;base64,iVBORw0KGgoAAAANSUhEUgAAAm4AAAAVCAMAAADIDJIKAAAANlBMVEX///8AAAAAAAAAAAAAAAAA\n",
       "AAAAAAAAAAAAAAAAAAAAAAAAAAAAAAAAAAAAAAAAAAAAAAAAAABHL6OuAAAAEXRSTlMAInZUiRDN\n",
       "mWbv3US7qzLz6SJmQj4AAAAJcEhZcwAADsQAAA7EAZUrDhsAAATsSURBVGje5VrbltsgDDRgfLdb\n",
       "///PFki4SyBovM055QXvSpkRI1lgJ8OgBhv+t8G6nNmzbOwnFvPjuCxF4+K/K7ed032dPN060dge\n",
       "hm8eHyoLG52dxfjv0y+PdeuxdWPzhfpxJw9VJ4CPwvYwfPNoLAs8Sza61yynr+g309xn68WeJFHG\n",
       "Kb3o4auzPQzffpNOH8ugjc7M8/IV5XaLPlsv9kIsYSdPg045X8a2LxjPM/DVLe8v4qllyUZn5vU7\n",
       "DlO37LL1Y68IKI9PyGt20cWXson0vPUwfHXr7I+nniUbnZrFd+yl49Zn68ee/O0b6SSiTuHkadAJ\n",
       "4puWcnofhm8ut/ayKGTJRqfm2Z4I2TlyhkVZNBIfiIsQ08n5KdptpEMF+PnxdJexUNFfTh6aTihf\n",
       "wAam92H45nJriKeeJRudmm3l7avaRA6kIRaNxF5bhJC3OkfKm7XaSIde+PPLhJSbOKC2QdIJ51um\n",
       "cnofhm8uN3o8hCzZ6NS8vQpSrhp/hhti0UjMeRlCmAWtvNVGUhL+vFiRchv44dXdRHxBkALkE2s5\n",
       "vQ/DN5cbPR5KBlc3r/ured6GxLRQmd4rgVGO43l2dLkQHzIbxnsEyL2tk9tjR+O63eWv31s07nt3\n",
       "p9w9vkB1Und3aS2ebTYU62qmc0Dh49UC8KFDDb4kDzEerKeVVY6iU/Mbdz3Mh/UfF+dJNQfGubPN\n",
       "BRDQMAva1aN0Tu5tndzu8+nujnW3ffJhpuWG67TNpbXslfaTwyerzeFDh/3T3S2PBxF3LqscRafm\n",
       "V9eUt6Zb3lUotqSEvVEzs/tqPz+F+Mg7m9n0Y7Fhtk7uADsSeEPK7QpfmiabaVGn0lpSV3jzoigN\n",
       "ylGD79xMa2mrqxxFp+aDv3C19zkNggVmaWvFGxfp1kjZ1uQAQMyLuu/nyK4RX+eElDyweW7Sjpph\n",
       "h8TqrwMptyk87h48uoB1SoTP1xKxgenN4QOlYfjQoQbfXG5APEa9c+DLcZVWDfjZ6NT8fkjV8EJ1\n",
       "xjlQyW3MkdG+YXFWykUAIZddR6WfeLz9VP855gEiD21vbhJjhh0Sh4/6qsnj793cG4aCTsnI1xKz\n",
       "gemF4OF3WbkcdfiSTsR4rHrq//wsrBrys9Gp+Xpn9+TjxU5+hSptm8yN6hMysgb7d35hfTwEk1yv\n",
       "9NV2PcNovzVJyUOb5aZQZ9gRsTIjB5IxunevLb4AdUq6ar6WnC1NLwTvlMbgvUMNvqQTLR6r3pXX\n",
       "Nqhy6Gej0/N2oXvtIIDlMveaQBD2NMjn5P70mNtL5I6bQp07hcSM+Mzh5CnphEZgHTK2bLcD4NlR\n",
       "WaVzqMO3bqZAPFq9aw3Ps/DI/Gx0Zga+q3YqAWXMlDtjmDXvFdBTqq78ebhge4Hcc5N+HDOWiKlf\n",
       "QTt5SjpVyy1jy74Sz+EDpZFqcw51+Opb+Ho8Wj1+6PPiUHxcy/xsdK/5YJhKkgM31HVds0SseYsF\n",
       "fNhtbh5xwXac3HNTqHOnkJgd1EQ4eXCdquVGYUvhA6Wx3mYd6ItpGFk897tzqQN/6dc0mZ+N7j3L\n",
       "JFg2TvdoUgUkdb31GBBrNiCfXZ8g+biA9hK556b9OrZEfJC/E3Py4DphwjsHClsKHyiNdBHncDzx\n",
       "8/E0HqOefmpXR7nSJp/52ejszJ758fE3D96QICdPt040tofhm8eHysJGZ+Y/xL44Y/EL5ikAAAAA\n",
       "SUVORK5CYII=\n",
       "\" style=\"display:inline;vertical-align:middle;\" /></a>"
      ],
      "text/plain": [
       "(a_{1}, a_{2}, ..., a_{n}, b_{1}, b_{2}, ..., b_{n}) -> ((a_{1} * b_{1}) +  (a_{2} * b_{2}) +  ... +  (a_{m} * b_{m}))"
      ]
     },
     "metadata": {},
     "output_type": "display_data"
    }
   ],
   "source": [
    "# from proveit import ParameterRelabelingError\n",
    "# try:\n",
    "#     inconsistent_dot_prod.relabeled({x:a, y:b})\n",
    "#     assert False, \"Expected an ParameterRelabelingError error.\"\n",
    "# except ParameterRelabelingError as e:\n",
    "#     print(\"Expected error:\", e)\n",
    "inconsistent_dot_prod.relabeled({x:a, y:b})"
   ]
  },
  {
   "cell_type": "markdown",
   "metadata": {},
   "source": [
    "Or relabeling may be indirect when the system tries to automaticically avoid a variable collision:"
   ]
  },
  {
   "cell_type": "code",
   "execution_count": 15,
   "metadata": {},
   "outputs": [
    {
     "data": {
      "text/html": [
       "<strong id=\"try_this\">try_this:</strong> <a class=\"ProveItLink\" href=\"__pv_it/lambda_indeterminate_params/48551601f6e3121251b3d3930b9757c6bbe42c270/expr.ipynb\"><img src=\"data:image/png;base64,iVBORw0KGgoAAAANSUhEUgAAAvkAAAAVCAMAAADrewGaAAAANlBMVEX///8AAAAAAAAAAAAAAAAA\n",
       "AAAAAAAAAAAAAAAAAAAAAAAAAAAAAAAAAAAAAAAAAAAAAAAAAABHL6OuAAAAEXRSTlMAELvv3c2Z\n",
       "VESJq3YiMmbz6Q5VJBAAAAAJcEhZcwAADsQAAA7EAZUrDhsAAAXKSURBVGje5VvpmqQoEAQPkMtZ\n",
       "3/9lV9BUEhMFqxx3v+LHZE+TRQRByFU2Y+XFdJ1bfrLsR4u9k2zf4mFfFuA/0C49FLuTy4oa4BGQ\n",
       "v+r8wVRMFPI5tYp4vAZcX552FNDe6Hsv86bt6pwvFfvZYsbSTFApxHKRv8fjNeD68gxVijbExcu9\n",
       "qHI+79kPl56X5YFKEEtF/hqP14Dry1NUKdprXLw8ySrni/GXnT8Wjg6oBHGSz/IYxgyBvw58vfX4\n",
       "W1Qp2msMXh6m3FNsLOX8lv10aXmJVptKa8yL/CUeMt2AvwZ8vbf5a1Qp2ksMXlbx7gphS0E4X/a/\n",
       "7fx+LNEKVIKouud4kHZ6Dbje+c9RpWgvMXi518ZoWGcweEc4X6wnNz5/ijul6BXqvLZs93fRBDdh\n",
       "leS6sq4UPdOC0qxAK1AJIhK5TqcME6VP7fQacL3zv0C1YNSB9hLD3c40b/r5ZKnxk83R+fDszHOc\n",
       "0YYJ+kE9ry3bKV80oZj0y+Q4VdYVHmpyLYw97XWsFZ5hEpHrdMowGftTO70GXO/8L1AtGHWgvUTv\n",
       "ZRl2V62hRpOZhqfO75ZHb7QegjNNHnDOa8uOJBdNOLlooZu6urKSb0G2tPOxVqtKELHIVTrlmMj2\n",
       "1E6vAdc7/3OqJaMOtJfovSzCMzCtK86ffzpUpmlInN8uv/DfgQl4+nkyD6BarpTW9WcXBEAtbatK\n",
       "/p8UP6q7iR63nvDaZpQzrVaVIGKR59mN6iTqxZaT6+fGQwTwtg1BJwRKgLFEFDDKuAA+XcaLqe5M\n",
       "r41AKUX4aYqj93KnwrFakvPY0A+Mdj6LIJwxxEoEtSJ0+d55/HQ+CXcBbnIU/lZ3G31rIf19bs5H\n",
       "WiXOxyKzThCdTHqx59D9HM6n3grgRCICGGUM357zSaqI6bkRCMLUeLZx9F4OUAIulPBoOvS1Bdrt\n",
       "BJx5HeIhQ3aEc9ZaPxPayd0y3wZAziD+WTctib/V3UaPWsfj1tHOx1olux0scq6TsqvoZ5Kc2UKU\n",
       "AGclokW8AL692ynT6NaYxbSXGJw/d4i3IzmavT2ecJvAmzcD0204VcTNruRQ7chBtqJNB9mEGOf5\n",
       "TiSXiY2Gf1L8qG5Hr4KPW4jB5/82rECrxqCIRd7BaBWTQvQT8SDtVAEcSZQBRhkXwPXOr6EaxkIz\n",
       "MzbuTCkiD2gv0XvZHxyafb24vM9fboXk5LiY+QwyHjPYciW161Xtvnfbt2bZH+Im+Dh4RVqLd4BC\n",
       "+9lgJPBRHVwUn4BSv4IWEHh0B3ehFbpDS0TeP0SqeJjJDv3EPEg7VQFn7tIJES+Bz8T9mCqMhfa3\n",
       "PSeEqTx8zxxuNbXKvY+gHOF8t9hIGDOP9ijxUtJ1nKidP8Oj2nhrRvxwbMJy47VbF8KtlZm5Ecst\n",
       "WIKP6gB9rzyCHuD3FjD4nDCUaOU6FDMiZ1RMs479PPJI7VQFvEmUBY4yLoDPxP2UKoyFOzx/9JjF\n",
       "eUB7iWqouuJeTyIuv4liklLQwn2fLNlwUEnaRCerOEH1efy1bkOvh19aQOC28LQMKtW8CC7zbaf9\n",
       "PPA4bDpqgG3DL4D3jEvg6t1ODVU/Fq5Fx02S8CEPaK/xlvOpd7a2EaGeRDt/wNpcLfF9BHHJ459e\n",
       "wVyc4LvIW0niR3U7ehV81AICL31fL3lD6gPnk/088Di8BlYBHEmUAY4yLoGvLy4+oOrHwjT+1MHc\n",
       "GeFDXvIG4S3ns8Zmx4wbakJxzgmeqT2uWFQTU5gZpIsTujlqRePvdTt6HXzUQgxui78bA5Ua+6Hz\n",
       "qX6W8CgGjiTKAEcZ9vaXg1+hOq3z+XxOFWeE0zygDfGe83naeav6SQXHUN5qJ19ytYdCJQ3+mGLU\n",
       "iBLkaMSQwd/rdvQ6+L0FBF7uY1CJl1pl70XyPBD9LOFRDBxJlAGOMpon/m6wmGoYC3+LZrXhJ4QP\n",
       "eek8VOl8+OtF+8yfpP0PiqkYd1DpCbWKeLwGXF+edhTQXqPp2uFfeONHycPLKUsAAAAASUVORK5C\n",
       "YII=\n",
       "\" style=\"display:inline;vertical-align:middle;\" /></a><br>"
      ],
      "text/plain": [
       "<IPython.core.display.HTML object>"
      ]
     },
     "metadata": {},
     "output_type": "display_data"
    }
   ],
   "source": [
    "try_this = Lambda(b, Lambda((x_1_to_n, y_1_to_n), Add(ExprRange(a, Mult(b, IndexedVar(x, a),\n",
    "                                                                        IndexedVar(y, a)), one, m))))"
   ]
  },
  {
   "cell_type": "code",
   "execution_count": 16,
   "metadata": {},
   "outputs": [
    {
     "data": {
      "text/html": [
       "<a class=\"ProveItLink\" href=\"__pv_it/lambda_indeterminate_params/496bb39b4bc6f5e3c99309c68c6eb82265194d2f0/expr.ipynb\"><img src=\"data:image/png;base64,iVBORw0KGgoAAAANSUhEUgAAAxoAAAAWCAMAAABwtBqGAAAANlBMVEX///8AAAAAAAAAAAAAAAAA\n",
       "AAAAAAAAAAAAAAAAAAAAAAAAAAAAAAAAAAAAAAAAAAAAAAAAAABHL6OuAAAAEXRSTlMAInZUiRDN\n",
       "mWbv3US7qzLz6SJmQj4AAAAJcEhZcwAADsQAAA7EAZUrDhsAAAWmSURBVHja7VvbdusoDDU3X4EZ\n",
       "///PDjjB3IQRju10rYkeqp6Dom5tCSFTt+uMkO4nR0LOGJM/g4v8LYL+gF907ij7Vf+hLBRv68h8\n",
       "glQcrgeQtBDUtXP5eKKdZvxX/LUcjVhLR+YzpGJwPYIET1CDfKEwXRwvLfpf6VelFzg7R+ZTpNZx\n",
       "PYQES1CDfKUwXRybHsZf5VdlHHB2jsynSM1wLWMB0deBVIeZLyGH49j09Ct8hEyFrkjjJ8Up0Y/j\n",
       "YunUP/0VINXx6VvI4TiMZr95CnXQ+hYW1QCLuqUj8zlS+/G4wB5DUgPSvDW+VJguDqMH+FmHKE4J\n",
       "LroG0+5zh4JuB61QzYu4Abfggfv/mKOF6F+OTKcFpUpoztkFJMLIuDousGYkdwFp3hp3cIioEheH\n",
       "0T040S2TGRTkinm2ajBFDp2HDnnH7Ek7rs2LKCl5GPvC1mASbjmv9JqJS9FumC8gEUY29scF1ork\n",
       "NiDNW+MODhFV4uIweoZ2o5gsrjqaNlNk3z50qNlrScnWRZQUPbCpsDU6Kn0yHJlvPRKbANGp8XMS\n",
       "C8jYdFxgjUjuA9K8NW7gEFMlLg6jpwW6aNk21Iy5V24wRV7yHDo0ZThZDu0XkXaqYFFwrlT7SRa6\n",
       "j/n0Leaff+dI1nWn0JH51tqGE2IUa98Ws/9AIXCPa9jATNOmVIIoRXINkJDkGpCjjLcgb4eefq6Y\n",
       "4ygOo8GtMcnN14J5osebIq8IKg4Xe2TqVXea0rm4OJw9ynYP6WldOjWW3kNNtkaXJWAeGmMOPgAG\n",
       "vlSadQnJJUBCkperT43rOMw+V8hxFIfR0EAlVupnsaw3F01PduqDnw12BwuHbgGwubhoKSJw8JUW\n",
       "5t1HiZsLW0OHv+xKBqotC2YgEKIh5iLfYOApBYWxBIkEl02Q5BqQswPVKQ7P5TiKw2hJoR9jYam+\n",
       "YyRoUQJG5E2DJoLZIKKrOQStpXJffDryxVG4rKH2qjfyHobRxO46zSgLW6MPYToyX1rIpVPT9txX\n",
       "SyvEdypQ4CEusMDakBSyWQLiSa4Dad4aH3BYkyTHqqOj1AmhRnNoGrSwmDmAhiAPhRkvMPVNxM91\n",
       "iG+OfjYwYQ7K9pExrBBw0bA5x0MyCovzIMbFPtdNJL5KtE0sSuhQuPmza6sWg0nrUr13hPjOe10e\n",
       "eJfdvacF1ogEzOYBkDfJdSD1/H+IvFA3h0y6HCt7CZbfv2soEUJRromiOszDPItj06CJ7Lb7gAd8\n",
       "M8PnUOAwaNy7tVCcDiuJKgRaNJGJ+MegsDgPRFCbOncXOBdmWB7VjiPzpcVAqdk7Y/1GHuQ7N8oD\n",
       "z3ClBdaIBM5mGYgjuQ7kgPxLkOd1Ex0GYAAuxzrY2S4Oq+ft01o6IcUxm71YODD1TYQh5hhnU3IY\n",
       "N+7QI++T+RZYJO5SFQMlNnp5UNQ/lBHkE/2sY12+QUTwDe3EJPAMVzbH1JCgslkEspNcB9I6UJ3n\n",
       "EDoMCgHYHOspeLJxcWy6+ubcngfEBe3eRDCXuTWbuHFzH5KYWFJE+SIxYRGChbIbBR4m20yG7fYQ\n",
       "/apb9HbaSSlsDTDwDFf2kt4nSDR4roMk14FUrwYvQw4dBoUAbI6ptMfjK8/J+6GS4FIl6n1gbyIC\n",
       "9fv6qknQuJ31bLTiSRHli0RqrQeBhOKNAg/r1rmY3rxh0+LIlOTqrQEFjsF1HgmR4hiIJ5nI7no5\n",
       "jzw7DEoBrG9j89A9hIS+tZC4VCF2xt5EMOWIsAkat7NmIx1e4yDh/cpp5MovTqsVLBRv5D0s9iym\n",
       "fGxLkiNTyKu3BhQ4BtdpJD6bJSCeZHnHn6qe5zA7DAoBbDm2d4zmGUVAna3yShab0V3GNZGLJGzc\n",
       "3xTakHhH5vkXLtF8I3GdRNKSTXrPH3Gf5TA7DFoJRRLre3N1r+5N5CIJG/f/RRr4vlcuz+Zzkh0G\n",
       "p+Q/iz9Avj86/loAAAAASUVORK5CYII=\n",
       "\" style=\"display:inline;vertical-align:middle;\" /></a>"
      ],
      "text/plain": [
       "(_a_{1}, _a_{2}, ..., _a_{n}, y_{1}, y_{2}, ..., y_{n}) -> ((x * _a_{1} * y_{1}) +  (x * _a_{2} * y_{2}) +  ... +  (x * _a_{m} * y_{m}))"
      ]
     },
     "metadata": {},
     "output_type": "display_data"
    }
   ],
   "source": [
    "# try:\n",
    "#     try_this.apply(x) # SHOULD NOT BE ALLOWED!\n",
    "#     assert False, \"Expected an ParameterRelabelingError error.\"\n",
    "# except ParameterRelabelingError as e:\n",
    "#     print(\"Expected error:\", e)\n",
    "try_this.apply(x)"
   ]
  },
  {
   "cell_type": "markdown",
   "metadata": {},
   "source": [
    "It is, however, possible to perform an internal relabeling in such cases in the process of performing an lambda application.  We will show an example of this in the next section."
   ]
  },
  {
   "cell_type": "markdown",
   "metadata": {},
   "source": [
    "## Application with an indeterminant number of parameters (beta reduction)\n",
    "\n",
    "Starting with a simple case, let us call the `apply` method on our `dot_prod_labmda` example to perform beta reduction."
   ]
  },
  {
   "cell_type": "code",
   "execution_count": 17,
   "metadata": {},
   "outputs": [
    {
     "data": {
      "text/html": [
       "<a class=\"ProveItLink\" href=\"__pv_it/lambda_indeterminate_params/3b36687bec8951fa4d45f43ed7b5d9446552ba350/expr.ipynb\"><img src=\"data:image/png;base64,iVBORw0KGgoAAAANSUhEUgAAAnIAAAAVCAMAAAD1nvNsAAAANlBMVEX///8AAAAAAAAAAAAAAAAA\n",
       "AAAAAAAAAAAAAAAAAAAAAAAAAAAAAAAAAAAAAAAAAAAAAAAAAABHL6OuAAAAEXRSTlMAInZUiRDN\n",
       "mWbv3US7qzLz6SJmQj4AAAAJcEhZcwAADsQAAA7EAZUrDhsAAASwSURBVGje5VrbEqsqDBUQQVHP\n",
       "8f9/dqMtmkBC46V7Zk95aFqTZiWLcBFtmthU86NNXTFW38ZTfymhv+e3oE6bXy25oOW2iaU7bInw\n",
       "vg5wvt2tkBRWkqZtfrZpL7VMLN1jS4D3dYDz7X6FpLBe0nbND7fOyuwSS3fZ+oj3dYDz7YkKSWFt\n",
       "0vlfLjnvZHaJpbts5XjBM0CPJRTOOnw8JBjWJvvmp1tPzwo62zD3mXwKz+Sbr6cBSoSPy+jjIcGw\n",
       "ojTdb5dctw9h1FUGTxaJpftsdb7av48D3C+5ZyokhRWle28NrdaTnduWvjepa2U7gg8urN4mcDud\n",
       "VsrQGQftfmVA1/GvxJKMrRpiO1X793GA+yV3IiQBz1Gm6oujWk+6cQO9lalqZbuhDy7axqwzuF9O\n",
       "KyWNdeA7usjMyIxRKR8Mou+q/fs4wP2SOxGSgOcoh1fRerXa2WYit4p1rWz/+MHFbF7JTONZpaTx\n",
       "DkxPl1yjR7DSvlmSsVVFNH21fx8HuF9y8pAkPEfZh5ftWsZpfNh8pECtbdtpOn8njgCoGTnuLNdc\n",
       "148CHyivwUPvWVz7ePzv/wG1ZQnH5jcgybNll66ez47nNpC+38SUAfGEUwDI4kiIRqgtRNKQCnqp\n",
       "rGmeo+wBr2+7WWti8kxat8V27a6lOuBCHEIxopnE35VX4XcH+XVulgtdaLiSq7A1uHo+oT7LEQBZ\n",
       "xgQAsghPz3JESEUjgmJ4jnIwh3GcOu02WMxAdNlbu459VboU9foOQI6xdaTonsbflVfhgXdM8ECX\n",
       "3IzOVLOF9SNbfD6ZMbOKiQinOcmjeWph/dyBIp6jHDcAO4Zm6rftH9S/vSOttyk/0fJGunA+jnyX\n",
       "nU2MU/rI8aHyGjx0AMHjz5EuuQ4dzI0aSoatrBH5IDyyfwmAI2MOAFn48eGSo0LCHNJB0TxH+bp5\n",
       "NctsXXQYDCQxLdGZNsIOcAEHSzn7BbqwPvRxD9orZNm4aR1HnsDHyhy+/EJdSg4QODgCiNrKuRy4\n",
       "xWfZKsZ7kQ/GI/uXBHhnXAEAFhlAhlDlSBpSziEVFMdzlPMWqnVaR5q9wbPgMFhCG/9jgRYu5cSX\n",
       "0oWyek1ysQ3yYqdWu0UR+FhZwJegBfzhAINHg0Df7ONZZR6gZNjKJ9gynxIv718SIGXMAwCLPKEM\n",
       "geLInQwp55AKiuN5lQMxZe8UGcqrSscHRrK2UUaTBttcaNB2Ffy38jr8ywECV8I7kcRSlS2icrN8\n",
       "Crxi2aMA1Gg/ABwWRUL3H3gRISEOmaBInjdJPdjeKaLeWlHxD0pxWuJwkLh1jUk418zQYI3T9obG\n",
       "B8pr8MABApc+skaPpUUlR+ZT4BXP0AmAI2MOAFgUCd1/rE+EhDhkgiJ5fslRsSRaTQ25eZ6dZbTE\n",
       "ExDCxbKNHTNDgyHKqWXwD+VFeOAAgivx2XJiqcJWNjcQ+UjwCoAjYw4AWKirh+XnQoIcckFRPL+l\n",
       "zaNUbbe0W1dRndova+O0RaOMwroh1a1HBsZrFzj8Q3kR/nCAwEfxG9aJpQpbWSES+UjwCoAjYw4A\n",
       "WIzfeBW9CAlxyARF8pyk+s7by/9A0yc6KLF0hy0R3tcBzre7FZLC2uQfI803GYuu7T4AAAAASUVO\n",
       "RK5CYII=\n",
       "\" style=\"display:inline;vertical-align:middle;\" /></a>"
      ],
      "text/plain": [
       "(x_{1}, x_{2}, ..., x_{n}, y_{1}, y_{2}, ..., y_{n}) -> ((x_{1} * y_{1}) +  (x_{2} * y_{2}) +  ... +  (x_{n} * y_{n}))"
      ]
     },
     "metadata": {},
     "output_type": "display_data"
    }
   ],
   "source": [
    "dot_prod_lambda"
   ]
  },
  {
   "cell_type": "markdown",
   "metadata": {},
   "source": [
    "Let's apply this to some operands for the simple case where they are composed of two expression ranges that have the same start and end indices as the corresponding parameters."
   ]
  },
  {
   "cell_type": "code",
   "execution_count": 18,
   "metadata": {},
   "outputs": [
    {
     "data": {
      "text/html": [
       "<strong id=\"operands\">operands:</strong> <a class=\"ProveItLink\" href=\"__pv_it/lambda_indeterminate_params/837d2ee104654eaa611666f03b6eb0a017a9f8050/expr.ipynb\"><img src=\"data:image/png;base64,iVBORw0KGgoAAAANSUhEUgAAAWsAAAAVBAMAAAByN9JOAAAAMFBMVEX///8AAAAAAAAAAAAAAAAA\n",
       "AAAAAAAAAAAAAAAAAAAAAAAAAAAAAAAAAAAAAAAAAAAv3aB7AAAAD3RSTlMAInZUiRDNmWbv3US7\n",
       "qzJazP2FAAAACXBIWXMAAA7EAAAOxAGVKw4bAAADnUlEQVRIx51XT0gUURj/ZmYnd8fdzSQIRGhE\n",
       "ig5FIibUxaV7uHnwZDgXwUNRB2kX6bAQtJcKD3WwDi5ISFPq4qk/l9V7YUF/CEIPnbyogRIIbu/f\n",
       "vJlvhvdcXPiWmd97v9/7zZvvfe8NAHTAMX4qkqG8aYV9FI8zGdvsO4ZrJandjdz0qugrevVeddNK\n",
       "wB4gsVUU6Jn7n1uyjUjyR5EL4a1VAKN0ezM2kxQxKzpxwlPPV4WH7YH9465wYDRguN6Ca0SSIENO\n",
       "hOgoQDekDnAvjkzo1Ed1jRM82uiDXxZj5TogM9OCbUSCdwFMkfQ92asM8AVgVmSPmGCOVHXqZZx2\n",
       "+M1UeWQg4iCzB7ndFmwjEvRHbcNz2YtMwFwRNvj6s0TScyRT1KjjibNcPHSRxWDUQa4GucMWbA9q\n",
       "bE/K8TyAXwAbm2h0jpzQJDflqW1TJokp5ADA2VHViEs3r6+J6ymN7Rsyk/jKWk6MTpDUuiYDCW/l\n",
       "2+mLLiYKiDJJTMZsb7sKtVT2K4yLgjupsf0oOi8A+b9x2xRJe2rblFf45Nq7mCggyiQxH7O9qFL7\n",
       "6DTgrKhm8xrbV+V7Y7XdWY/bpoilWfiE115/C8YhIgYQZZJ4iW23NVRqxfE6DIl+EdK078/6/mJo\n",
       "e1suHlZKHzBV33/9wvf5E1Akv6NZ73Ww7QOw9hAxgCiTRMz2E7XcEMB3SNhOzPZ7ZDu9Hl9ZDGmf\n",
       "0doGawdyHiYKiDJJ4PdNNqhTKjni+Z99dJJcQ0kyAAYugByxatokoQZPVoqIKCDKJLEWjMc6/QE4\n",
       "B8maytw+Iy8pxRvXNLYfs4wikSXj5Qtg4tE5km4EqrFMFLxMgSRkAREFRJkkWL0a7gB7n27uC6VS\n",
       "jV2Ne+JP3pH1YHpP2a0kxWwzhBZH1ouWqq5SaRq/a46w4ojk2YXkkbV/Po0LvoAok8QWQX7P3amA\n",
       "T57UaTabHr+iezT7W6AXr0hC1cD+2ccaQxKyzZE39JL2ypPXudxs7mPbHHHqQpXLB+NI3geAWw8x\n",
       "UUCUScIJTmiWzA0rmSVXADU66FjXj054NdlrSb3ZdcVUkfqSbpfs4iGPPqlwY0nmXAE3Rs5L0aOU\n",
       "PGXxXlX1iagcU0XqVd1RqixiVdyPyJaR5JJ0Y42ryjrQHfbKKj9ijEZMFalnNR8/lMnYYwIINZJq\n",
       "JsQax5S6q2EvW7l1cWNmsuEIHmcytuEe46NMSTKjM9Wpovfo1TvVTT08/gNJgAYSkUu6ZgAAAABJ\n",
       "RU5ErkJggg==\n",
       "\" style=\"display:inline;vertical-align:middle;\" /></a><br>"
      ],
      "text/plain": [
       "<IPython.core.display.HTML object>"
      ]
     },
     "metadata": {},
     "output_type": "display_data"
    }
   ],
   "source": [
    "operands = [ExprRange(a, a, one, n), ExprRange(a, Add(a, a), one, n)]"
   ]
  },
  {
   "cell_type": "code",
   "execution_count": 19,
   "metadata": {},
   "outputs": [
    {
     "data": {
      "text/html": [
       "<a class=\"ProveItLink\" href=\"__pv_it/lambda_indeterminate_params/1cc2570b393c90fd42c78ab950cbb40b139036a00/expr.ipynb\"><img src=\"data:image/png;base64,iVBORw0KGgoAAAANSUhEUgAAAZ4AAAAVBAMAAACEUpWTAAAAMFBMVEX///8AAAAAAAAAAAAAAAAA\n",
       "AAAAAAAAAAAAAAAAAAAAAAAAAAAAAAAAAAAAAAAAAAAv3aB7AAAAD3RSTlMAInZUiRDNmWbv3US7\n",
       "qzJazP2FAAAACXBIWXMAAA7EAAAOxAGVKw4bAAAEHElEQVRYw5WXT0hUQRzHf2//uO6uu20RBCL0\n",
       "QooORSIi5MWlu7hdOhnuJfBQ5EHcRToIgV4q9lAH65AQIa2liyeti3ovLKgsCD108qIGSiC4zfxm\n",
       "3rz5zdvxbQO/lf39fu8z3+9788ZZAMgBHQ5YRg6CzY36c5brnZOKtgmbkyZ6sRzpMiqdtkuWZIT0\n",
       "B4DeSLuNAbYRBHXam5e8CXpY7BT8QjQPkH1ttvNMZFIEHazfKd3d9hMMeG78k9GFmcvQCGAdPQ2m\n",
       "spvnXDZBvAjx7/c1P7cAbo8fGN0ic0cGGay/A2JH6jsDOqswWKMLBTMthUYA22Cg4FT2wblsggT3\n",
       "dU3zU+ZmPT9p725iZloGqbD+zwAz6noGzOQgWRHflsUfkWkd1QDLNmHLPsgYZbp8aZ1z2QRJMPxU\n",
       "dD9RV/eTLIggFdb/sgBb6t1lwOQBZPbFt26ZFJln4AO6bX66fZAxKnT1ueQrcp9Br+EnWrT7aZkU\n",
       "oVd4/0+ALfUCMWBmFjLHRJzMjIAPCPXTG3h9iif5Qe4IjBl+Enm7n9iGCL2SEO/oogIgEFJ7pmqe\n",
       "GQAfEOqHgdJXb95YJ9KWvp694lIFMoXcAbxluh+0afHTWhShV8Ttzv5RAATCrmuq5pkp8AGhfhgo\n",
       "1vYFhnO6tPxHN75PFcgUcqfgleEn1WX3E62I0CvYD6kNBUAgvANTNc9cBx8Q6oeBPqRW4fy2Ji1d\n",
       "ewvOMVHgpZB7HV74foa5w2RN+UlUq2+eV6sbyk92T4RewX54gBvsIf9EYGKVf05UqzPVqrCGmV0J\n",
       "IRUytAIDFYZr0F/QpMXjRxA9IAq8FHJ3dT+pUeon8HzSFRF6BftbxeOZU34emzdbZFbAB4Q+Hw7q\n",
       "B/hGpEX3IGOseJlC7sr/rbdZEYH11gNOTl9v7B/5aSpOZPrABzSz3riZv3FdGlN+arJAFMgUcvtg\n",
       "3fDT5p6wH6yK0Cu8P5uHiCJw4G+Ai1ScyDwCHxDqh4OesqUU06Ul82wB5ukKESnkPsItFAb9kyxu\n",
       "e7F90w9m+IYp92dV4f3tpdKEAjCgM1cq0acgM2P+Bu9V8KXjr4d4+zQ/HHQMkeITXRrbHS61bhMF\n",
       "MoXcMdhhn79e3lNnhyybNvPjcJOqFplUTYRe4f2L9fqh8sOAqXq9TndlmZkHH+DJnvNejznDDwOl\n",
       "ZyG+2aVLe8/Okg+pAplC7jykto3HvWD/H9wug1QWjOspkKwqZ1YDhK63gDJjKuN80C4mwDOiea6z\n",
       "nPnK2plQVaaN6ymQnDrxhFlu9jwaUGZMZZxHy3KCNeOiNusvSHboxwjpX7Me6TugEcA61qBpaZLL\n",
       "Jxgyf3ZYJ+S4IDLQP3SiwLbmf3APQdPSJJdP4LhG5YztkgsyQvoDQPUTMtcYYL3lLjQrTXDZBP8A\n",
       "Npw52E56g8UAAAAASUVORK5CYII=\n",
       "\" style=\"display:inline;vertical-align:middle;\" /></a>"
      ],
      "text/plain": [
       "(1 * (1 + 1)) +  (2 * (2 + 2)) +  ... +  (n * (n + n))"
      ]
     },
     "metadata": {},
     "output_type": "display_data"
    }
   ],
   "source": [
    "requirements = []\n",
    "dot_prod_lambda.apply(*operands, assumptions=[InSet(n, Natural)],\n",
    "                     requirements=requirements)"
   ]
  },
  {
   "cell_type": "markdown",
   "metadata": {},
   "source": [
    "Note that this time we supplied assumptions, specifically that $n \\in \\mathbb{N}$, and made a list to pass back requirements.  In order to make this step, we need to prove that the lengths of the operands match lengths of corresponding parameters.  In order to prove it in this case, we need to know that $n$ is in the set of natural numbers (otherwise, this lambda expression does not make sense and should not apply to anything anyways).  The requirements that are passed back are precisely the judgments that prove that the lengths match as is necessary in order to assure that this beta reduction is valid.  This will get used when beta reduction is employed to perform the **instantiation** derivation rule."
   ]
  },
  {
   "cell_type": "code",
   "execution_count": 20,
   "metadata": {},
   "outputs": [
    {
     "data": {
      "text/html": [
       "<a class=\"ProveItLink\" href=\"__pv_it/lambda_indeterminate_params/d668befcaece3821bd7eb7f0aacd05d5ab24e4570/expr.ipynb\"><img src=\"data:image/png;base64,iVBORw0KGgoAAAANSUhEUgAAAt4AAAAVBAMAAACDCvQyAAAAMFBMVEX///8AAAAAAAAAAAAAAAAA\n",
       "AAAAAAAAAAAAAAAAAAAAAAAAAAAAAAAAAAAAAAAAAAAv3aB7AAAAD3RSTlMAInZUiRDNmWbv3US7\n",
       "qzJazP2FAAAACXBIWXMAAA7EAAAOxAGVKw4bAAAFjklEQVRYw6VZTWhcVRQ+8/OS+WscgqsQ8ElB\n",
       "utAaSgwkmw5uh+Czi6xSMpvALBS7CCaULgaEZFNkFu2izaKBIOKoydCV0U0me6EKahWkWXeTKhiE\n",
       "gvX+v3Pve+fOzMstZM47eec73/fNvfe93AJAnf3jIwfjDKImh3874rBr0FXdXwB+2vWRulKVhL76\n",
       "RfSJID8HTXF9eSy/H4ufxb6TlgmGOcaohuKj6SKQKKoA/LQf+7te9msj9EmSGfWJYF6BFBoAU1/o\n",
       "r2Tzo1M/SL7j8ZthwvNoVCi4kvR73kGJB89ciS8Z7WQHkZEMqcHl+rQR+iTJrPpYELQUyArAzU//\n",
       "UXfMQvHlEJB12m+GGfz2STQy1ETk+s1ZWSh6yMxEnF1J6yAz676eK8O0rdN+Z9bHgsmOAtniX6z2\n",
       "+yeAB0NAdmi/OSa8G40MVbrl+s0RLBT4Tt/MM7IAFO24Q7WDe+74em7ZS76T0LZD+51ZHwvKGqSL\n",
       "/X4UwbMhz4RyRPpdBsRnBCi47/pddlHgGvZbFoCiHXcohLhnOfK07Nq7S5jQlq5PkMyu7z4sqKjQ\n",
       "wn7/AfBsyK400SH9XsB8RoCCtuv3govi+N02RrVwB22bzEx4NnAhl/SbV6brEySz62vDhoomG9hv\n",
       "Ng7Jp/cvr7/N6BWfkH5vWE55oKrvfPj+Cftcdv3eSKDYfi/rq8kG7oBsO1QMicHrlBBciLSl6xMk\n",
       "s+tbFtY39XRFfk/9TYE0fgyDv9he1DJ8bvf4+Na41bb50FDF2s+wxhbjtut3O4Fi+71trTLTIfab\n",
       "Z0ot/+pUQnAh0paurwkX0rcN+yqqzNl+V6jJUe1/A7n/GMUuOb/3bT4kFPxQOYY32GJcdP3eT6DY\n",
       "fi8a7DncIfabZwpd2m9Wp4WgQqwtXZ8gmV3fIuyqqNy3/b5DYQTBSyiw+6ZekH7v2nxIKIjW+nCd\n",
       "3Xfm+r1ro7AJ9kBNMJk5M0+2vukw2et99bDXe2J6CobU075vhKBCrC1dnyCZXd8Z5XeJ3vsKL+AS\n",
       "W2vV7oh+e6DgOsCv7ONoiN+J+X1k+W06mPktMtWu128tBBcibdXuiH6Po++I2k/mIUe95DBCr3Ui\n",
       "KOyR+7e93jxQnMy/AcDSuPvJkrWfmA7Gb5ERDOn9RAvBhUhbur6U/WQcfUtwoqJaqPwOxCOgAfko\n",
       "SFkgfGo02BppQOmYnN8nmk/kgRKpe2z5FgHuKj4RRjjx+H1Xk+G0RQfLNpkRDAkRvE4JwYVIW7o+\n",
       "4XdmfSxYVpF8/WHP5jW+xGY2N2+LKDgHlTJX7AHwVulUvoml+y1efz6oy9sNVIxgQNmzKd/6XL1g\n",
       "NWXeIGgUx2+R2dAonLboYNkmM4IhIYLXKSG4EGlL1yf8HqbPXDn6ePBcRVNs+Vz6/fwpVPiZ1eGr\n",
       "V+cy+pIvvlv6R499o98D3PyMXfdJvznmn48+7ojbYyiBwPEkKEtV9yB4ylb214oPv98gGBTLb5kR\n",
       "BfxuTlt0sGyTGcGQEMHrlBBciLSl6xN+D9MnW6XoY0HlVIEcaMj3IBmZZ2X8kj9Dn59UThO3J6FQ\n",
       "Kren+BQihFCx/mq7Zp3/7Rn0A/rPxBmfiAPf35czpD5hVWZ9LOBnKU1z/iTe+SEZGTudA590v81x\n",
       "UtEDhVLi/IezKGIEdCiFz6vigqJFO3nstOUTseM7r9oi9TXhIvp4MFAgNbVTBuarDsIExo34Ozv2\n",
       "nH8P3NtToFBqVku5YSEMyLeL2Ri9Rr4bSIaUiJrnjIlXEvrkS1RWfTxY1Ye6x+qwPT52TzKJMSRf\n",
       "wu9V9/YUKJQaaD6hhbBKGjKI0TXt5JAMKRF0nawk9Em/s+rjQS6Eq+J6eqz/T3tTgronYzKRC8eB\n",
       "ysupdtVFIFHyeG5O+xmSY9qvjdAnSWbUx4L/AVvdJxUT0UlgAAAAAElFTkSuQmCC\n",
       "\" style=\"display:inline;vertical-align:middle;\" /></a>"
      ],
      "text/plain": [
       "(|(1, 2, ..., n)| = |(1, 2, ..., n)|, |((1 + 1), (2 + 2), ..., (n + n))| = |(1, 2, ..., n)|)"
      ]
     },
     "metadata": {},
     "output_type": "display_data"
    }
   ],
   "source": [
    "requirements"
   ]
  },
  {
   "cell_type": "markdown",
   "metadata": {},
   "source": [
    "We can also perform `apply` such that multiple operand entries correspond to a given parameter entry as long as we can meet the length-matching requirements under the provided assumptions.  In such cases, expression ranges containing these parameters will expand to accommodate the different operand entries.  Also, it doesn't matter what the start and end indices are, as long as we meet the length matching requirements.  Consider the following operands for an application of `dot_prod_lambda`."
   ]
  },
  {
   "cell_type": "code",
   "execution_count": 21,
   "metadata": {},
   "outputs": [
    {
     "data": {
      "text/html": [
       "<strong id=\"operands\">operands:</strong> <a class=\"ProveItLink\" href=\"__pv_it/lambda_indeterminate_params/dd32bf37da208b8023c3d64465778820809826000/expr.ipynb\"><img src=\"data:image/png;base64,iVBORw0KGgoAAAANSUhEUgAAAusAAAAVBAMAAAAN0L1OAAAAMFBMVEX///8AAAAAAAAAAAAAAAAA\n",
       "AAAAAAAAAAAAAAAAAAAAAAAAAAAAAAAAAAAAAAAAAAAv3aB7AAAAD3RSTlMAInZUiRDNmWbv3US7\n",
       "qzJazP2FAAAACXBIWXMAAA7EAAAOxAGVKw4bAAAGYElEQVRYw62ZXWgcVRTHz+7sJJvdzXYRH7QW\n",
       "OlUkChbHtanWlwyxKEKLa0FLpbIrIs2DxVhiE4PIimBRiw2lhX6AjcZa3Kpd2gerPiRWX6QWVmlr\n",
       "FbT7UHzoS5p+GSik3u+5M3PnzuyQC7fZM3P/Z3/nPzP33p0CQAlo97VSaEBbCvRNIYnUdNBSsb63\n",
       "1Kk6QrcoFZDkaZt2fzsufVadz1va3CpJlKaTdl/YiSjuxPCLVgEhXEV7ZvAN98TavhKk626Mx1yu\n",
       "SEocPKDNjSSbD0gxDdQanjo1+lo7JrrhUEpvi+ROCE+a+ctkWAXFw9BBBZjQrNH+CrwoiuiyzU8B\n",
       "XnW/sAbmH6+7+DToqmhS45SwRT5CApXGTb0MMrdi2v4Cp5RbFHdyeJp+OKSCl7bfgE4qQITdddKz\n",
       "k5CZ4Yc/BFgHsEMMw2PgYfn7cJAd1mQmkmvyERKoNTz1bwD7Y9o+xinJk1+Pw30yITzPDkvssArS\n",
       "3PZ4FSDCHiC90AKDa+EMwEAFeoTPPaCyHfZqMmNJ/oY8KdJgr872QxW4WIpn+wSnJDOOFYe7nBCe\n",
       "Z4fpSlgFwvZ4FSDC1egP6kuGoSiu738AszZ0iUlytdr2IU1mLMlMSAdYMKSz/S+Ai/Emd6PGKWVj\n",
       "9NzlhPDC9mdCKxC2x6sAEY6gP6hXke3zfGrD+HXItPiwEbXt6zWZsaSrZTwtRCwQGvPec5ee9NmO\n",
       "2rHQLcTK5wZPFdeeZtOAwyklYyK4ywnhhe1bYdWbknDDGJgtn+26Co6fu/Mh69K6JmDCIXoBlztQ\n",
       "vMqX4+sI34JsjQuG1La/ryHHkmr90bvFnccCoemGldZ4wHbBEGiZwu9Q/QjWiPuFUUrGRHCXE8Jz\n",
       "281545F9ktBZA9krAdvDK3DOWOZ800BPESKcQgemqO3XZdsdMMRjNqW2fY2GHEsG7rH/FRMdC4Tm\n",
       "XdhVuRCwPdcKS/hDbgaWW7CLjbM5pd/2cO5yQnhuuzF3oviyKyza49A7E7A9tIJ88ytIXSVXChEe\n",
       "REdQrzqQx9epiveTCH/aguIVrjjo4ldrLvmshhxL3vqY3iU3wQ2Epg3bA3M7wNuhCSvVJl4vmain\n",
       "ySmhu9H48kCj0dJzjzca+xuNrzuGd7ND9762XIEJu6HHCtgeWoFp3sK7lm5kICJktqMl1cBLam6Y\n",
       "Lk0DNuQnFPi5YZf8uwjyL0bp6nIE3EDS7A7anm2FZxwA7PkeYTuj9C2pYdyBuz0uvJs9t+UdTwVo\n",
       "rzPb9tuuqcC4gj3vQQ8oImSTTGEGskL7K6AZAIzJiEnmCf1zal7LL7jXmgWuJj8Hz/ttXwWp0O3X\n",
       "eYDPkcjkkwyjlI3Rc5cTwvPsVXu6LQuRhw/6dzK6CnprkHNgukQIT6EDqGcnyO1P2wfkxsrOkEeJ\n",
       "nlfZvpM8/MGniUmyN8xraXEXsGAnG2Ce7p0Ah44l2XCeogPpiqmYYPA/ewA9pb21u0hUsDilbIye\n",
       "u5wQnmffVanaliREP3XOsBTYdqLUVYDuczRRnk/VMeF6tpmagk1iw5mzzU/IJo3N5WTP9Kx8FUkw\n",
       "widusiDwD0LSWzMXMu6lpsEIG2AsbJzI22ypQNmIfOno6Libw5s6tYBXo4LjkAhvEimlZxrQcpcj\n",
       "4N0KvPA8+3moth1J2N3Kz7OFKzPHlKICb0byYXkbbwh+zhDCy/jdEOobB/9xL/nISnQJck1cyWF2\n",
       "/u9DW913TDQ4ij82KmzCP8Jnfi4p2NB3P1fw4CgbYG6zHnuPjSXZcJ5jt2/fpIe8GfG5/CSkhyG/\n",
       "rUSi4iSn9GzxtNzlCHj6fUF4nv0nSG+rSELzbN8c/dT7580LVOlW4GbkFXwP0Afw7QpCmMOgyh9W\n",
       "S8m//RB2PkXmUCP4oIZLmKbfOxa8efqDi1ElEH3jOWLF4S4nhPdml4WZmpo7qoKl9NWO+r3QGN3k\n",
       "h77AIi+MIKP4XRAqYRrHOxa8eZzgT6VgtMOzJa7H4T6ZEN6b3RU+BZtsNXdUBZjwR9YDNyb5KWCS\n",
       "S606D8voT+TgqhQuoRrT8o315DGD/5GwIRgVwv//J4o7MbxP+BmcVXNHVUAIN7Pub7QwupqrzjO2\n",
       "4FdoJFST9o/15EkHVVYwMmfCfInkTgzvEz7e11RzR1VACFMW7f62Qr4+ivNp/QtOlSRK00m7I+xE\n",
       "FHdi+EWrABH+DxMTJ/BBtdy4AAAAAElFTkSuQmCC\n",
       "\" style=\"display:inline;vertical-align:middle;\" /></a><br>"
      ],
      "text/plain": [
       "<IPython.core.display.HTML object>"
      ]
     },
     "metadata": {},
     "output_type": "display_data"
    }
   ],
   "source": [
    "from proveit import k\n",
    "from proveit.logic import Equals\n",
    "from proveit.numbers import zero\n",
    "operands = [ExprRange(a, Mult(a, a), zero, k), x,\n",
    "            ExprRange(a, a, one, m), \n",
    "            ExprRange(a, Add(a, a), zero, k), y,\n",
    "            ExprRange(a, a, one, m)]"
   ]
  },
  {
   "cell_type": "code",
   "execution_count": 22,
   "metadata": {},
   "outputs": [
    {
     "data": {
      "text/html": [
       "<strong id=\"assumption1\">assumption1:</strong> <a class=\"ProveItLink\" href=\"__pv_it/lambda_indeterminate_params/4b3326ffd4f13b452c61207d3eb5e64ee5d203f90/expr.ipynb\"><img src=\"data:image/png;base64,iVBORw0KGgoAAAANSUhEUgAAAhIAAAAVBAMAAADhiRodAAAAMFBMVEX///8AAAAAAAAAAAAAAAAA\n",
       "AAAAAAAAAAAAAAAAAAAAAAAAAAAAAAAAAAAAAAAAAAAv3aB7AAAAD3RSTlMAIolEdjJUEM2ZZu/d\n",
       "u6v6CvZmAAAACXBIWXMAAA7EAAAOxAGVKw4bAAAFDUlEQVRYw51YTYgcRRR+09PTNT+966DeTLBJ\n",
       "vIgkDigBibAdcJUVXBcvegik3YMGEpgWNqCHdSanEMG4BMXsRmEuAReVHQwiRCEj4k8gkl0JXiRh\n",
       "AwHXRJKNyf64l1g/3VXVXVXdjQ/e9Lyq+r56/XXV6x9oArFS5GlrGgNjk2w6yjxMIWvq6Zv/Y4ZS\n",
       "jNlJj89Hnranpf92kN2vMR1lHqaQMQ6rlWreaUzUbGU/glKw4zHfMSbJSQK7J+JJ7PtDEVd+hkS/\n",
       "apgS/TGQGqa/AxOGsLFrNPv+RG76jMOghJxoAbYXZSXeZl4N0Pd8AAuO8Rh1Af31gVDi3VMbIPdr\n",
       "jNBWZ+SW42DAMDZi28G6m38lj5mVSCRagK0aSkrMMf8CYBcfwIJ5HtfIZXhZWhM2yX0+aw5C+0Bi\n",
       "qa6DCWPHSlwD+DZfiXmzEolEC7DVZyQl+syvArT5qbKgweMG6JRohBlzENoReUCZnq4Ww5U4H8Lt\n",
       "/JJHOfRKJBItwvaNUMLpMv8X4AC/hCyo8k19UKtENaNQEEp4Qm6x+mDCcCX+BridXygoh16JRKJF\n",
       "2N4TStQ86oicfJxlFFjL8fiTWiVEv2qEFk7A5Mci/2Xn8VDCTI0f2RGklMB2yXjL+PPBl/xXdrWi\n",
       "efVKpBM1spXH33rsMj7uFkoQgbGX/sEn78clnAX1bkI5RQnRr79uaMt5/Rxv6fTeeKQnYWbs67WB\n",
       "okTlnonRu+qjrZbTj+alStQuUlvmSqQSNbNZQ9ehg7fOZ0IJN6BOT96TlfDA6ce4n7RKiH7VCK1z\n",
       "Z0/lKG9pPxS81hSYerO+MdxTlHBN66zc+hVK96C+Gs2rXxOpRI1s8JS7CI/irXNIKNFoUUf45Efw\n",
       "mkCbZHewoLIa486KCTpdnrvo11Q1TFs7x3Ypg5w+AzKmArWuUicAPjURInQXnA0Kohx6Jc4mlTCy\n",
       "Qdhp0TvEAUUJUiTbZNteiComDsp9jRLuDM+93M9Wwj3+EQjIL7MTSUzDV5Wom0uPs0pkaHgRRxEl\n",
       "MtigDbCCD3uV3QFXABa4lixwBjm7Y5C9OzrBiCjdaL28lsSMNFGYVmISSqb73nAXXA+Dorz0dSKZ\n",
       "aAYbkWELARwWSgz5zD8HOMWHsaC+SM6AxJf1FZP3p1ZeRLsQdgJ+3esbaN2WMNOtm2CxsZSN8lQ8\n",
       "sEMDI14NeEWvlHqMQ78meKJhBhtt+grvNTz/l0IJcksi7gboa+mKkoDeCekmp/eaJyV9rTsg9bPi\n",
       "silHhHIFOhOeuKRozZIw7VdPwx42lrLRebbNzn4iOGgTj3B9WwD4LebQKxEnShGcTUNZWgO7eya6\n",
       "7TIlKgPm6OS4tJRp4JLJXPJ2tB/7rfMn+FPR8M3NG3I/LS4X4pJwMWSUv4P9IV9HQwGMvSBh3nnO\n",
       "mQvYWMpGeS7dv78pGCkZZ3wWYAzgmX0Rh14JnihBCDZKIihxU3kA6Aae/wfpafvHyFXbRn/fJNiJ\n",
       "7P5UbQuNlArG4VKJNgNjkkOvBE9Ux6uZoDSQlJg3vkvNsSca/qJi7k89tYD59SyNscSTk+afOopz\n",
       "6JXgiVoZbFITfWOLlRhqMlc/6CzSjUJr3lJOf8KmYtoCmCm+IX31nzpKcBi+TyyZeUHTtF3+PoEW\n",
       "mSvGzsVmn1ly+hPmx7QFMOKZAtR/6ijBYVBi2syrm2Apgo7S48ORp22ffB387H6N6SjzMIWMcdjp\n",
       "0jVqTDTj8xdbuKP/AZRTk3t9/GAoAAAAAElFTkSuQmCC\n",
       "\" style=\"display:inline;vertical-align:middle;\" /></a><br>"
      ],
      "text/plain": [
       "<IPython.core.display.HTML object>"
      ]
     },
     "metadata": {},
     "output_type": "display_data"
    }
   ],
   "source": [
    "assumption1 = Equals(Len(operands[:3]),\n",
    "                     Len(ExprRange(a, a, one, n)))"
   ]
  },
  {
   "cell_type": "code",
   "execution_count": 23,
   "metadata": {},
   "outputs": [
    {
     "data": {
      "text/html": [
       "<strong id=\"assumption2\">assumption2:</strong> <a class=\"ProveItLink\" href=\"__pv_it/lambda_indeterminate_params/9432da2c314e4c408f66022738893423c1cfea0d0/expr.ipynb\"><img src=\"data:image/png;base64,iVBORw0KGgoAAAANSUhEUgAAAjAAAAAVBAMAAACqIcnwAAAAMFBMVEX///8AAAAAAAAAAAAAAAAA\n",
       "AAAAAAAAAAAAAAAAAAAAAAAAAAAAAAAAAAAAAAAAAAAv3aB7AAAAD3RSTlMAIolEdjJUEM2ZZu/d\n",
       "u6v6CvZmAAAACXBIWXMAAA7EAAAOxAGVKw4bAAAFWUlEQVRYw41YX2gcRRj/bm9vJ3e5xEN9s8HF\n",
       "+KBI9UARrEKuD1FSsR4++VDIWooVK+SEPggS73wqDVhLUWxqhLwUDCoJVgm0hUb8j2ebSvFFLGcR\n",
       "jFVsY5s/5qXOzDe7N7PzZ2/gu5v7uN9vfvubb2dmFyrAWk6EsVWsP6RmRWfgMoG9tIqZqZIxtENO\n",
       "BYb595MijO0Rqe9Hlj/la87xrLgsYE8NFXrVVHo4Y2iHnGEEByHGPWNpd1nGn+3+3ktjTyPNxjK7\n",
       "nONR3OTZdJL8sgQWYOHbeAan36pnXg0qtBgjS+6BbZdszGsYfRH5Qv0XZg51L6UF5M+3U8Zgpq/h\n",
       "GI3iAA5r6b6jYAa+cXxD9IbAu5E9z4fsxiiSe2BDOcKYExgfA2wXBSWKBDNzCarI8s/GV7IjTrNM\n",
       "6ahjNI5bT8o1LsHbWJUbgX5szG8AZ7KNmbMbo0jugQ3lCGMWMC4DTCBDIG58zPQnc9oPsjH7ZGNg\n",
       "0TEaw+Xja03YYYQzLbqMOdeAa9mrJ1doNkaR3AvbYteYoIXxH8B4pEjHTF+yyLzkMGbKMRjDeQua\n",
       "MQ/wzymXMX8DXMteZLhCszGK5F7YprrGFEMehNkwK0sXGa8Tg445jHnQMRjD9XWC+9V6hCOw9z0J\n",
       "ePAEkE7KGNouWDejP25/pvbcduoHV2g2RpXsYMvvfvXeS/F1oDHMbxq5f6kNNVm6yJRaipsWYz7M\n",
       "mIXm7It3KbYD2QpeOC0BwwNQuq4ZU7hpYw0v18hWNaCVyBWiMTNt1s4nxqiSHWzewO/QrAg5aEw5\n",
       "4sFtCDVjQgiSm+AbhzEHHMYw3MQd0fMVxZhg9dHCm11gIZqBwWXNmHLHNsXVHyF3k3vJFZorRpVs\n",
       "Z4OHy8twd13IQWP6qzwItWGEai622z+cbbcpg8gUrsfgU91R6MycETODmXGHMQz3/kncoBJ2KJ7m\n",
       "93sMJPAZ9Nc0Yz6wngHIDQg2oEirhSs0G3NKNcbKBo1mle8945oxbKmd0BZfmskvGIzRKubxDGO+\n",
       "m66nFt/y4XdBBtJ9a7yeNqZknWIIrjNX+mmR5xd6NMbBBhMAK7Ec5VaCXwHm1eURM8FSL7fSK+5b\n",
       "iazn11LGNKORugykV/l0eleiB9ecbYMdbEE5hJGKUGheY1TJDjbmyhYRctCYgRrGRwDHVemYKS3z\n",
       "QqftksOYT3g96gUvcKUNsu6r7PONZlSTgAMddnBqxMZwZCEEv0EMhc8qPQRa/iu5WVRorphEcsPB\n",
       "xlOf0hvTE3LQGLbZsShH5PNUsfMM286h2Yq3socqaWN4hu2LZFP8M+kkuMEWWfNU9hVo1kMJWOzk\n",
       "t7AH3qpAbpuenukyqvx0qZwH+MkTCs3GxJI5ImEziMytgd86KfZ3NKawhEGO7a6r0jFTZiOW2WPd\n",
       "Hhr/nDsyqxqDmS9Zt03npcwO1d+D6MS4gQjGnlLZfwb/nYYEJFfGVrE3+NfmVUReuHVrE3uMsUvL\n",
       "/vUEwBjAYzuFQrMxiWSG6LLpIvNLQK5GQo54JPhaBGhnU9628c/9jEA5Nu5TXmTwhSjQ7yUdp7LL\n",
       "QK8lU+wHvZdwNDSFZmOSoU28hgFQjjBmDuQnRfkxD+JnTHqc0h74dmjPieAZjmEaTmXvAu+D1yOZ\n",
       "IjT0kuMYaArNxiRDew42KYVyhDEDFQzLSy1+6CJ8mi9aN54hPNXr61oGTgJ+BVdkClLTe0k7qCu0\n",
       "vI+5mEYY2KTUkPw+hixjmBtahjvKpPX6cHx9zCycBHx5rCpT+KD3klbTFVqMmUwjDGx+Ws4wjPLv\n",
       "O0UY2055bmwvIn3307wVlwXsqaFCP/3cPJoxtEPO6P8b96623AvzsQAAAABJRU5ErkJggg==\n",
       "\" style=\"display:inline;vertical-align:middle;\" /></a><br>"
      ],
      "text/plain": [
       "<IPython.core.display.HTML object>"
      ]
     },
     "metadata": {},
     "output_type": "display_data"
    }
   ],
   "source": [
    "assumption2 = Equals(Len(operands[3:]),\n",
    "                     Len(ExprRange(a, a, one, n)))"
   ]
  },
  {
   "cell_type": "code",
   "execution_count": 24,
   "metadata": {},
   "outputs": [
    {
     "data": {
      "text/html": [
       "<a class=\"ProveItLink\" href=\"__pv_it/lambda_indeterminate_params/952715e8d3541d53bb0e6f91fa986868dba1e63b0/expr.ipynb\"><img src=\"data:image/png;base64,iVBORw0KGgoAAAANSUhEUgAAA0YAAAAVBAMAAACQ+OPvAAAAMFBMVEX///8AAAAAAAAAAAAAAAAA\n",
       "AAAAAAAAAAAAAAAAAAAAAAAAAAAAAAAAAAAAAAAAAAAv3aB7AAAAD3RSTlMAInZUiRDNmWbv3US7\n",
       "qzJazP2FAAAACXBIWXMAAA7EAAAOxAGVKw4bAAAHpElEQVRo3pVZXWxURRQ++3Pb7ba7rMRERRIW\n",
       "CSkPEtdKMPDSTSUaEwjrgxANZNcYQx8kVlJbxL+qCURF2Sgk/CSypipxEWjwQdCHFvTFIKaagD9R\n",
       "aSLxgRdaoEhC0jr/c2buzN3tJGfbOfc73zfnnrmzc2cBIAfcrGa6YuBuMTfUBc9F9BpHNwtrTsUV\n",
       "H/OlFwmZMwJgThB2KV7gZreTRm+Jh6I974S64AbKpagIGWl084k0qeKSWeJLLxIyZ4Qvm6gbvIJb\n",
       "sudFfWFNZw7iQwiZKHKn0VjIMnorbCi17GfISTsGiqpeKdkDoh5KuKxRUkIk+KGmfbxjq2w6aMdy\n",
       "XEiGUoZbCGKkJceLEbHB5ydU/66Bn5rMxttIdFDh9iw8rUrQUgg+AXgOATdIJ24spIXeaAtKbfPA\n",
       "tPbxDkIRxeDXF6wacU+LsMgmRKClDzl5x1QB2BIKZriQzAankA3BaenxYsRCSN5WC9UYrB9pLhtv\n",
       "I9GtZN4RS9UgOSbd7wKsBdiFgNulkz1+fKrykBRNmENPSSiz+DRedKbBIKSq8IAc+ynpph5KyEil\n",
       "jtlMkXl4MeMdW+W6WjWGME7LIMpwC0GMtOR4MeJngAPyeiYHbVUT4cvG20h0G/lDrGMcEkr9PEB3\n",
       "CdpQ+avSyR5NvsCKkH2UgF3oklBm4RohwjbANerCOTPCfUjHbKbIKJ6ivGOptKthKDqOUzKI0tFs\n",
       "SKhGNuJwCS7JFaltGjJTJsKXjb/tg5Xkk9i8PsiqGfcfwNUCtOhpnKhIJ0pWhPTS53FICVIoNUeN\n",
       "EOHKiBr1CouokRJ5HF/iHUslWQ3ViOOUjKZ0NRsSrpGF+APgkvxCytQgM2MgfNlEtF7oJ5/EyuSG\n",
       "35LrLC3HECTH9aJRlE6UrAhZR2/EuBIkUGaOGiHC/ogarRMWUSMlshVWvKQu8Y6l0jKeeKxk1ojj\n",
       "lIymDO67cPkR9W3TOQSbQxBHjWwEwAkESU8aCF82Jy/ceX/+8toRtTAvf6LnbHbNOcYvptOiImSv\n",
       "yW+6G6QceUjp8pK5KZwoWRGyk66ZFSVIpzGbyuEaIcLeiBrtFBZRIykS3Eo8uF/dVN6xVMpDD91j\n",
       "TC2JUzKashWW53eoXWuiCntCEEeNbIS+kbTRe7YzukY0qng+H9waSaiHPtnxC5Tfg1WMf5h8DvMb\n",
       "fgPXqAg6ANIF6bRqRJyUhkO7BJSZo0aIcDiiRquERdRIiiSmvso+o9Yy3rFUuu8t/JszaiRwSkZT\n",
       "vgl7Sr/J4H9aa/BnCOKokY2A9DiCHDMRnmzaR76E2DVITcoL36bHYFGeThISfYh8EisXoZ2Wv0y3\n",
       "4uTOj+YhSwOCm+y7b0Q6obVe/+JgvT6uQq7SmTMJO+r1A/X6MQplJpLh8byDCA/pGslA5bnKTOug\n",
       "Zou07ucrPx217FgqL3/AV2tNJ3BcxqCcgAFNV2rLw4chiJmWHK+BgFcRonXMRHiyCYLbdAPWWpGR\n",
       "pfII3aINsGhRI7IBSNA9Q7qP7xm6SW3ZhDwiaiSc5p6Bhpymq6d+jqwa8XjeQYSHIp6j08IiniMp\n",
       "kt7yOn/O6ahFx1L5fHDC2jMInJLRlECLIunI9i87E4YYaanxYkRqHCHeBxPhyyYxSQvUVlSR3UAL\n",
       "tJdFi7Wug7zpqKf4RyAPPSRqeK0TTrz35iGrqafW1FpXa2qtWy2sibWuXBjV7/SiY6oE19tnrBoJ\n",
       "nJJBy1T7FDypogcgXg1DwmudjVgBsRw6QbjDQPiyyVQgXYTRnHpxuAjwKRlPQKPPkj6xVJU/aKy9\n",
       "w2qYUu+00JGXTpSsCNkNEtolodRcewZNeDaiRruFRdRIiuwplQsKJDqmSmo6uB43ayRwSkZRBucy\n",
       "VdDHMufpG6AFcdXIQmSLEFd3+jLAUgPhy4Y8QWR1uxhTLw57gSx/mcrdNFpuQYfhqQn92AQfq40k\n",
       "iF0zd+JkeUi/2nN2SSjb/ian8NHeFBiEbDe6PmfXiHn65d6c6bDVmX2UKyGRi1CeKOqZxzqmSqYS\n",
       "zCTNYQucklGUiZmN1XZ9cPEajA7ZECstNV6EWDA4qPaGsSODgzUDwb7vHdksmqD7g++TKnKGbiA6\n",
       "imygV+jRILGNPX/rg6j+5eTmp0f0kWhNOnGyPOQoSGiXhFLL/H5TbZFEBxFSxb8Obx0ya8Q9RwWp\n",
       "0DkiP/i3hCHyHcS3qTkrOqZKRwE6l5rDFjgloyiDbfmH30aHjD1v5GyImZYeL0KcmJ29qSb77Oxs\n",
       "xUCwJBzZfAPQCfD1YvV+VIN4H7RvYyNI02pMuN5vF6D/jxvHtHgNitUUtEtBj0MDQlPRWAUoISON\n",
       "Ogvyi/hVTDotgyit9mhjyJwRvmz8PyDV8Nmi1fBJ3y7jJw181snOLbejA8JdNtxFaCoap43ikDf6\n",
       "TNUv4lcx6bQMojR+eakEHzWA6BvQPMKXjbfR6DPALVS/MdTp8P6gudAFdcIN1BmIIlzY6BcXr0iz\n",
       "KmEZmy6dzxQbQBTRHBC+bCIHuklYZGAw5qM444I64QZqE0QRnmmUlVekWZWwjE2XeOuVRpDwPGiM\n",
       "8GUTOdBYnpvdFhu9+R6GeM4JdcENlEtREcZzjbLyijSp4pKZ70svEjJnhC8b/0D/B0yvsZ+h2Pu4\n",
       "AAAAAElFTkSuQmCC\n",
       "\" style=\"display:inline;vertical-align:middle;\" /></a>"
      ],
      "text/plain": [
       "((0 * 0) * (0 + 0)) +  ((1 * 1) * (1 + 1)) +  ... +  ((k * k) * (k + k)) + (x * y)+ (1 * 1) +  (2 * 2) +  ... +  (m * m)"
      ]
     },
     "metadata": {},
     "output_type": "display_data"
    }
   ],
   "source": [
    "requirements = []\n",
    "dot_prod_lambda.apply(*operands, assumptions=[InSet(k, Natural),\n",
    "                                              InSet(n, Natural),\n",
    "                                              assumption1,\n",
    "                                              assumption2],\n",
    "                     requirements=requirements)"
   ]
  },
  {
   "cell_type": "code",
   "execution_count": 25,
   "metadata": {},
   "outputs": [
    {
     "data": {
      "text/html": [
       "<a class=\"ProveItLink\" href=\"__pv_it/lambda_indeterminate_params/f3fc5bdf8df7941e58321f7a19e3e43e8d22d03b0/expr.ipynb\"><img src=\"data:image/png;base64,iVBORw0KGgoAAAANSUhEUgAABF8AAAAVBAMAAABieFxOAAAAMFBMVEX///8AAAAAAAAAAAAAAAAA\n",
       "AAAAAAAAAAAAAAAAAAAAAAAAAAAAAAAAAAAAAAAAAAAv3aB7AAAAD3RSTlMAInZUiRDNmWbv3US7\n",
       "qzJazP2FAAAACXBIWXMAAA7EAAAOxAGVKw4bAAAJKElEQVRo3q2ZW2wUVRjHv93ZoXtpl5WYqEji\n",
       "IEF4EFzXQoIvnRCiMZWw9kGjKXaNIfRBYiWVAt42mki8QaOSgCRSg0hEhQ08iPrQi74YxSCJCEal\n",
       "iegDL1CwSELSem5z5lxnZguHnObsYb7/N99v/3PmzA4AlNA/3FKsK02eKukHGKbs8cliErWSWb5k\n",
       "zxp3jiXtUylJUanoM2yOzI3CkzIrpWaSgCMlg3QZOsnEAtaVVvCED+hgrR2JzrbANHnkBhiGamQa\n",
       "ynSnPau1sRppKJPEpZrK1aEsiD7D5sjcKDxySbyFtc2ENBm0M1XHp33VotB+mZXPASwWQtHBcL4a\n",
       "fi7uR9nrUcmQpPv9kDDR/QHYYrAaNfPAM+OxZVANs2FwIc2oLdYN0047QSAzV6BIua6HTBweDv6W\n",
       "TT/Ff8uLIwzTLsKOV+Ok8cCtMdVHaZ9Vdj/iRz4NT5RgVmgQdLD767Ph57WbJtHfdVHJsOysPnFm\n",
       "PVhiqBpu8yBzLR7JOrthHm1SjdYoGgZzwZ0gkJoKRcp1XWQi8YTgUyOwphFLRypJNgyui59yEjVO\n",
       "Gg1a6kx1M+1vAjwcHJcdgswIZMOi8MFwj7DCpHHWbVG5sOxsaQW8DLaYdID9Z4Dd8YbZZjfM5ibV\n",
       "aI2iYXCpqFMEpB2zQJFyFeozJHMsHk8Avq0EucFYOlJJsmHI1xicchI1ThoNcoHqIO3HAToCR7Se\n",
       "AAfJ7uSBOTAZJleNyIVlh8UDCuREjTEc+94qnI3flxENs2EGm1XbqRomRztDgFvFAkXK5XgzJFOJ\n",
       "xxOAz01C20T89bTTapicCDuJGieNBsuZqlOj/T+AC4HtZ/dBERm+lwcuNxpmVsStGkvCQ9IpEzsb\n",
       "Yzj23wDOxm9iiIbRMCRrU2q9qmGW084QCF+pCkXOJRumCTKVeDx8hRmCtql4w/RaDbNchJ1EjZNG\n",
       "g36m2uKT7mLDBGfbg9hcBVjNA/uNhsmcsKfCsrAB2p8Pk59wHqwKMV1LnlxVVgyD2mHrlv2Xm+/2\n",
       "zj3cYHmNhiFZE6kVljyycgxYjaJh+mlnCISvVIUi55IN0wSZihmPu6gOaxXDoJa/GFVPcdUPSkmy\n",
       "YfoV2FY1ClsgjQa9TBWbCPXUv8gwQdF3+FC8BPC6bFrNMNlatDfdq869u/hMT/2+2+pCTF/6ZMuQ\n",
       "Zhic19z84557teEMsrz0pnyQtBMgFJNMLdN6EnpKrEbRML20MwTCV6pCkXPJhmmCTMWMJ4MK3aEb\n",
       "5oIXVc9bsALEkrYSOl9ItYl4rGoE9oRAGg32MdV8mXRiGF8wDPq8gsfvMxrGidgzYVln4mjxKT7T\n",
       "cXv5n1IYky1lJ9vqmmHytmuz0PgcUpcge5HlNa4wOGsiNfgmPwJ3jLMaRcPso50hUAwjQpFzyYZp\n",
       "gkzFjOcvdDH9rhvmi8h6POKxFdYVZp8C26pGYE8JpNFgD1PNNUh3EYthVLR7BbvdhwK6mC5wgT3h\n",
       "effUeNbixYjtEpJt2UV3EDRky3YQY4rQUtP2MAAv2gRd9xredOIgomE0DM6aSA2qPQ2yyb+gGmYP\n",
       "7QwBvkh304tUhSLkQgvdpx+wha4pMqG6iqea8+BdzTAtIzH1bAK5JNkwe2TYdjUGOySNBoph8Ka3\n",
       "A18zB+j+zkH7u69Mhsn38ayFwWgs+fUvQxjyycC4HJPzdMNk7Td/5yJ2S85nGkkME6EGHQCngNVo\n",
       "MAxDIG96JShyLnmFSUpGWGFUPMPV4pRmmHci60FueV8pKdIwEWoIdltNII0Gyi0JfgTYwR+rRyCL\n",
       "ZO+PuyUNRS+8PeXh8CHFvVyYkmOGS25VNUw7pGwPwqiAvI+CqlTDuIdRbkkRatgtV11Wo+GWxBCI\n",
       "j9UKlMhbUnIyFQueTZAeVA3j+HBTRD0fQ2FCKkndw8i3pCg1BHt2XSCNBmNMtdWj/Q3iUHZlDpKl\n",
       "/22y1uE/Y+ZNL17SXMPyyGR3VHvKfBXJTrqX00JMd+MMZJg8ViM6RR/SVYsiWlvQsnsqVacaxhUG\n",
       "Z02mhq5FZzLDauykc0RyjHaGQPhKVSg8l2nTayZDZhQyFTMeOI5/+HG5Ycg5nwNYCFWz7PuAbiNt\n",
       "tVvDkvQVZkyCHaWGYHdU/ZA0GqxmqvjJCfd82f1QWFEeH6dPYWRPQ5/U1ghXa2YieEDEGxS68amJ\n",
       "n7DkKegZ90PPulMZIabj7y1wlMljNRI+d2Bgq00RbVHRlu67QMNoGPoYqKnJkmSAtnTp2nb2pNnJ\n",
       "zrnBSl3NEYg3DQUKzyUbxkImLEghUzHjgZdguM52fwg8PecDAwNDsiL/hOpBzwOtvs9LMhhmtQg7\n",
       "VDOcJIJ9V3Y8JI0G55lqcYh2t39JeP94bOWf6O9neHgQexAf/MfeDfxXpbYzV04jj+GTyO9nGx+y\n",
       "UyF/cAiW/BbSG7mDW8uwaKEQ89idzuYyPZaoEZ3D09NXbIpfAywC+HI+0zAaBmc1qRGRA6JaYQjc\n",
       "02VWYyedI5LnWacIRMMoUHguyTBWMgeCGYVMxYwH1q58pURHBDzOmJ+enq7RUaDIZVE96T4obCyF\n",
       "JemGOQ8CnlDNcJII9trXBNJokB9nqodY11qK3E8drJg3/mA6l/xdpu+YqjZJPcbhjgrnLIqyhvnV\n",
       "wKEm1WiNnXSOSOJS5XIrFihShY6XhMwy0MhUrHgeECXCc3aqZlmtJN0wYV3Lkqlx0nPpO6rO4AWT\n",
       "8Z0XeVWF9xkgvnJT3qIB+PqPSGB//6bGZMLfigwj/SiuYTbMtibVaI2ddI5I4lLlco9ZoEgVFupJ\n",
       "yPg6mWNmPJma+54okbGw0BPxknTDhHX5ydQ4aTwYZaqtJdq1No/+gk/+jppWIPIY7+q/FnYFsgli\n",
       "uvhey9NH+lGhhtkwQdakavOC0C4uOWopV4PSan0Cs5GhM/Y4ITDvtfmiRJeZhaHEeWA1DK/LpGtQ\n",
       "46TJoJupuiO0a42q0/Buw//TwtP6f3iBbIKY8LcY0Ef6UaGG2TBB1qRqo0GoxyW7LeVqUFzr7142\n",
       "MnTGHicEOq++IEl4ZhaGEkcjDNOtRUSqcdJkkPJgKZmew7oaKF4IKcNbh/nRbzrnmCbnw/U3qpFW\n",
       "t1VL7VmtjdW4FARJXGrKiw6A6FwzIXOj8MglhdPjtq8xCWk0+B89S15WrimZEQAAAABJRU5ErkJg\n",
       "gg==\n",
       "\" style=\"display:inline;vertical-align:middle;\" /></a>"
      ],
      "text/plain": [
       "(|((0 * 0), (1 * 1), ..., (k * k), x,1, 2, ..., m)| = |(1, 2, ..., n)|, |((0 + 0), (1 + 1), ..., (k + k), y,1, 2, ..., m)| = |(1, 2, ..., n)|)"
      ]
     },
     "metadata": {},
     "output_type": "display_data"
    }
   ],
   "source": [
    "requirements"
   ]
  },
  {
   "cell_type": "markdown",
   "metadata": {},
   "source": [
    "To ensure unambiguous and straightforward behavior when different parameter ranges are involved in the same expression range (as in the dot product case), their operands must be in exact correspondence with respect to range start and end indices (and whether or not an entry is a range).  Otherwise, a `LambdaApplicationError` exception will be raised as in the following demonstration.  In this example, `assumption1` is used again so there is a proper alignment of lengths with $n$ elements for $x$ and $n$ elements for $y$.  However, the internal structures of $x$ and $y$ are not aligned to each other."
   ]
  },
  {
   "cell_type": "code",
   "execution_count": 26,
   "metadata": {},
   "outputs": [
    {
     "data": {
      "text/html": [
       "<strong id=\"new_operands\">new_operands:</strong> <a class=\"ProveItLink\" href=\"__pv_it/lambda_indeterminate_params/73c7b0a7814c247a2bfac0a230284933ab313e260/expr.ipynb\"><img src=\"data:image/png;base64,iVBORw0KGgoAAAANSUhEUgAAAm8AAAAVBAMAAADiPhQ1AAAAMFBMVEX///8AAAAAAAAAAAAAAAAA\n",
       "AAAAAAAAAAAAAAAAAAAAAAAAAAAAAAAAAAAAAAAAAAAv3aB7AAAAD3RSTlMAInZUiRDNmWbv3US7\n",
       "qzJazP2FAAAACXBIWXMAAA7EAAAOxAGVKw4bAAAF8ElEQVRYw5VYT2hcRRj/dt++ZP9kN2sRlBDo\n",
       "qigeLF1LWkkvfUQvHkJXwRalsisi5mBxDTUJQSRSaA/+6SIptPbQhViKq22Xemn10LSepFSi0BoF\n",
       "7R56yiWJmhAoJH4z39uZN/tm5m0GZvd9873f733zezPfzDwAyAPVjhIzGsYmpWgoIzHbKXlDe6yr\n",
       "B+bt5DG7h6PjRaqdJVMIGE9F+MNFRxmF2U7R8ncTN5WrdnYjjug5eohqYuQD6eXGs9J2PIDchQB8\n",
       "qaT4NQUp3Z/r0iZDj2FsvDw28Uu3wg0Fcaa4MO7Y5HutjjHDWuIzNnLWX1Nh9AztVqi+DW/I4cuN\n",
       "HhnWIYA3J9akCL+/j76ekuXRjBJ6qoEWbugwxMa7NA8Hm93phvwSZ4wL4x6ExEP1Lmp5x8Z+yOLj\n",
       "9IjuneE1WYfEfNtHRlJ2e4qpvBZA70Z0smqhZ7TQH5xO3NBjdvtdzeYhVetOOM7fxsE1Q1wY968A\n",
       "Z/1J5g8yajlpY59SZ6cyOjk9olPAa98COEIZ3zgtbq7phAv4w4XRwo3giCDjtE241BpkV7sTLhXE\n",
       "wR5DXBj3+RLcp6nk+MmPWlK2+aK+PUfNzIwe0fvwD2t/FXL/isFBxphAVrTCjVkezWjh5WALGWPW\n",
       "EVeH7GZ3wu2zCKfE/SfA/ZbSf2rpsSQ53l+jcIwe0cfwD2sZtdpou3xjVMwLTyvcqKVjjBaOwtCH\n",
       "ooUMgXGfvPvgxQ7hsKRXTKvZrldGbuVeuh3kNwinxg1wJdR/bEksWPIA4q7effS5ggLkEfj0iB4j\n",
       "DXd6kPunDfSNEyIfzmiFO2ERjtG6G87zZ4RQZAhML+wqTIeFWzZtWBJ9v0H5UxgO8JuEU+MW/ZLC\n",
       "sZZkxZL/EefdKbirCpBHkCd6RM/h3xxp9V9QODSGxTAoaoUbtgjHaJ3V73NvifFOhsB8AqdKi2Hh\n",
       "LpkIf0zPw84CnArwm4RT44b0QqdwrMWxrEKIyzS/g9imAuQRtIge0efwD2vZgwx7M2X2InxjWWTi\n",
       "phDOXZcBLluEY7S9Zyi5cE7fEJgWTIRyHN41byIslZtwoCRA5yRuutE422hc0sTF44aPOHGj8c1X\n",
       "jQZpyFpyK5aVpwmu+5BWSwn0I+D0iPaFw/XAYYtDugrCuK4RDi7KAK9HCJd+92N6gVVpBDBfaoT7\n",
       "3Mx4AJhqs2HhQiNOjTu50JnjeUumZhUOnBXIVlQgRnDPp0e0P1X7cN8mtyNk7I+Yqvsjpmq5eENu\n",
       "2n1DYjKr8FqncLhjf8TEiDF/jSA3eqqqcQ9BTN2OUItTt05Vplr/TEkBYgQbLtEjmq0TWJM16BXp\n",
       "0jc+41OECVnQCif8Hft3IEpMYuWiyCu+0ca4t7M18OhezsZ5HgA8bWKcBZw92crj5L9lEU6JO+dB\n",
       "XO0/tSTnzcEzXMrDeekpwFmcvAmiR/Sov8DOweutwHhhxrF2TuNLdyK4NT2Yh4Cf/7BMJi445T0o\n",
       "tzw5YLjRxjibh2uZIt3L2DgydnFysi45FEbM1MkV6PM8yrKjIgpFODUuFvfA5OS0OuOohW05TMEz\n",
       "HC4DzySVDSBGEK98QfSIXmJHY6yHR/6WupDxLbts4FvJ4bDO/rG+KPx/nT86E/DzxMczGb+44FP+\n",
       "BPFx8U59o41xxwsvHPfv5WyMJ721tVWhq2onY6YO8SpkxvP0xCURRVC4jrhY3Fe2ttZV4agl3TQH\n",
       "z3A/4PH8uLqPq4O7WCR6RKdR1XRL++WJZwGHcV+O8KtlL5gow5i9YrtSCl+F7xJ+lX9PN3GrB4AB\n",
       "26MuW04OnH6Azqz6ozc/R0MCwHAiDvjV4hlP82GMmMqyzcCo+lX+a93ErZ7Vp2yPOmk55HN6hr7p\n",
       "11AZ5L+v8myZt/vV/MpfkJYyhHHFy5RtJkbVf9O4JkbF3f6CZXlUn+UD8WAbfcSvoUKhcSJ33u5X\n",
       "v83yXy1lCBMXVwXNVfgu6T9i7FlU3CClMT3KjCN6jo4VqIYogqrviPBrXqnu0BmB2U6JmQ61UXFT\n",
       "ecLOvsP8yT5P6P8BecfI97153agAAAAASUVORK5CYII=\n",
       "\" style=\"display:inline;vertical-align:middle;\" /></a><br>"
      ],
      "text/plain": [
       "<IPython.core.display.HTML object>"
      ]
     },
     "metadata": {},
     "output_type": "display_data"
    }
   ],
   "source": [
    "from proveit import k\n",
    "new_operands = [*operands[:3], \n",
    "                ExprRange(a, Add(a, a), one, n)]"
   ]
  },
  {
   "cell_type": "code",
   "execution_count": 27,
   "metadata": {},
   "outputs": [
    {
     "name": "stdout",
     "output_type": "stream",
     "text": [
      "Expected error: Failure to apply (x_{1}, x_{2}, ..., x_{n}, y_{1}, y_{2}, ..., y_{n}) -> ((x_{1} * y_{1}) +  (x_{2} * y_{2}) +  ... +  (x_{n} * y_{n})) to ((0 * 0), (1 * 1), ..., (k * k), x, 1, 2, ..., m, (1 + 1), (2 + 2), ..., (n + n)) assuming {k in Natural, n in Natural, |((0 * 0), (1 * 1), ..., (k * k), x,1, 2, ..., m)| = |(1, 2, ..., n)|}:\n",
      "Improper replacement: Improper replacement of (x_{1} * y_{1}), (x_{2} * y_{2}), ..., (x_{n} * y_{n}) via {(x_{1}, x_{2}, ..., x_{n}): ((0 * 0), (1 * 1), ..., (k * k), x,1, 2, ..., m), (y_{1}, y_{2}, ..., y_{n}): ((1 + 1), (2 + 2), ..., (n + n)), x: {(x_{1}, x_{2}, ..., x_{n})}, y: {(y_{1}, y_{2}, ..., y_{n})}}:\n",
      "When expanding IndexedVars within an ExprRange whose parameter is the index, their expansion ExprRange indices must all match. ((0 * 0), (1 * 1), ..., (k * k), x, 1, 2, ..., m) vs ((1 + 1), (2 + 2), ..., (n + n),) do not match as respective expansions for x_{_a} and y_{_a}.\n",
      "ExprTuple.align_ranges may be useful.\n",
      "Using multiple, equivalent expansion forms could also help. \n"
     ]
    }
   ],
   "source": [
    "from proveit import LambdaApplicationError\n",
    "try:\n",
    "    dot_prod_lambda.apply(*new_operands, \n",
    "                          assumptions=[InSet(k, Natural),\n",
    "                                       InSet(n, Natural), \n",
    "                                       assumption1],\n",
    "                         requirements=requirements)\n",
    "    assert False, \"Expecting LambdaApplicationError\"\n",
    "except LambdaApplicationError as e:\n",
    "    print(\"Expected error:\", e)"
   ]
  },
  {
   "cell_type": "markdown",
   "metadata": {},
   "source": [
    "Of course, when parameter ranges are not involved in the same expression range, this restriction does not apply."
   ]
  },
  {
   "cell_type": "code",
   "execution_count": 28,
   "metadata": {},
   "outputs": [
    {
     "data": {
      "text/html": [
       "<strong id=\"add2n_lambda\">add2n_lambda:</strong> <a class=\"ProveItLink\" href=\"__pv_it/lambda_indeterminate_params/59183235fe0c54f561c61f226fc2beed61c34c180/expr.ipynb\"><img src=\"data:image/png;base64,iVBORw0KGgoAAAANSUhEUgAAApIAAAAVCAMAAADCfP4dAAAANlBMVEX///8AAAAAAAAAAAAAAAAA\n",
       "AAAAAAAAAAAAAAAAAAAAAAAAAAAAAAAAAAAAAAAAAAAAAAAAAABHL6OuAAAAEXRSTlMAInZUiRDN\n",
       "mWbv3US7qzLz6SJmQj4AAAAJcEhZcwAADsQAAA7EAZUrDhsAAARFSURBVGje7VvZlqQgDBUQwXXG\n",
       "///ZATcCJhissufB5qHbroTceC+E5VRXlWuiemcTD3r/tk8EkeqlDPSywPm1LP0HQVT9WgqkZbu+\n",
       "mKUfF0Q3L6ag0UzHV7P004IY+2IGrGE68ljqi7jsi5kv7VHk/5xzQY9FkPbVs7IlyqRMDjM8llTJ\n",
       "5rTQ+06PIv/nnEt6OEHUu1ekJszdaHCquHwyWfodkh/3cIKYbduupRz1VNf4uTJv5e3GLkJouSyO\n",
       "eiy0cdHxCHX4oIsM8V88llLay7xvyHrF6SmfHI2fOBfnTkZ3guxlwlUFOcrKdPhWKmvl7cYuQtSV\n",
       "8qujnQttvEZFsA0xCNWAFdOLl0iEKvO+MSSvOE388zR+4lycOxndCdKtM8wKb9fViG5C81beQeIi\n",
       "xKRWZsehzMZrZATVEkOykgNYyVkspbSXed8YkpeyxP4XNH7gXJw7Hd0J0varj59ze8XQNtk6Qauu\n",
       "63HU5YMCAmArq9vZ+qT9jxQf2G6iw+hxWmGa/vnbRW2e+7DpvmLJLF3advk1XrGGeV+sMViPDKeY\n",
       "P0nxhfMDuZN6eEFawPtmn6REVoLdahaQe8fb7NTq3Xx3GU0Y/mG7jX5ESD4mq2Tf9FU6JK9YOteO\n",
       "HGtfOSJkOU39cxTTzo/kTujhBelUcHLrgF5mg+oQSTerrx3iHIo1Kg4AdDL5eStbFP+w3UYH0SOi\n",
       "OmJITtEtOpOlk1BZ1r4xJPOcnvaeGYpp50dyJ/TweQ2Lpx76amyXbSfMd3vVyGr1niBr/URDGOum\n",
       "qUmuXoZx/5HiA1tAL4KHEQC4+2sghmQTXUxmWSJoJ1j74qmV4pREQChmOD+RO6WHF2S9BVHzpI17\n",
       "u15BsvW8bjgSq+OgA9bwgHyEhdC2b92GvBVR38qMftJbBD+ybegZLPSjPQIEB7c7vuBk7iVzLFG0\n",
       "46xlbl0yL4T2oDjNFL4TxTzn7+dO6eEFmVZ9jZROBqvi5azrNGJ1fTSwuodDv+MpPJxDCC19unMc\n",
       "pNJjLc0sEPzItqMj8FgeaYQI3Nl74tIoLgpZlqgqibNGjwGEvGzVIzml7zHPFLOcv587pcciSIds\n",
       "zI58FbY6iv16RHHWTsxplOFgEdnrhsbfbAd6OfwaAYIL7kkpyxJrOROD/vq9JMVpzj+lmOP8UO5n\n",
       "PVZBsG8eHPli38gSroMQlBW5pEaO3k5gY5ZLjMPu89OtQvGBLaAXwYMIEJz9nZMsS2Htp8OBvBne\n",
       "1AEx0wO+FuGPUsxwfiB3Qo9NkEGQZGuJzfZpmowmrOfzBRZiXuqOmqC9cw9jjeMHW0AvgwcRALjg\n",
       "371nWOI0kPczDb4WWeoRihnOT+SO67ELolNdRN3M9SIlJno7+0ZZTw1z6v1hQdY2sisrTU/gB1tA\n",
       "L4MPESD4wP/nhQxLrCvZkPczDb4WuXYiFDOcn8gd1+MQRMjqnU2W/DvNa1n6aUH+ATDyNBDvTIv+\n",
       "AAAAAElFTkSuQmCC\n",
       "\" style=\"display:inline;vertical-align:middle;\" /></a><br>"
      ],
      "text/plain": [
       "<IPython.core.display.HTML object>"
      ]
     },
     "metadata": {},
     "output_type": "display_data"
    }
   ],
   "source": [
    "add2n_lambda = Lambda((x_1_to_n, y_1_to_n), \n",
    "                       Add(x_1_to_n, y_1_to_n))"
   ]
  },
  {
   "cell_type": "code",
   "execution_count": 29,
   "metadata": {},
   "outputs": [
    {
     "data": {
      "text/html": [
       "<a class=\"ProveItLink\" href=\"__pv_it/lambda_indeterminate_params/038a1a8c88ebbf0903314754428b0336acad5e520/expr.ipynb\"><img src=\"data:image/png;base64,iVBORw0KGgoAAAANSUhEUgAAAscAAAAVBAMAAABYsV4QAAAAMFBMVEX///8AAAAAAAAAAAAAAAAA\n",
       "AAAAAAAAAAAAAAAAAAAAAAAAAAAAAAAAAAAAAAAAAAAv3aB7AAAAD3RSTlMAInZUiRDNmWbv3US7\n",
       "qzJazP2FAAAACXBIWXMAAA7EAAAOxAGVKw4bAAAFw0lEQVRYw71ZX2gcRRj/Lnub+5e7niIIRehF\n",
       "0fpg8TxCRF9yVF+Elt6LFiXlIiLNS/EsZxr6ICcFg2LpIQjVgJ4EKZ5ajvhg9CXX6ItopS+t7YNy\n",
       "D3nKS3K1rQEh8Zud2dmZ3ZnduQt0oJT53e/7ft/3252Z3Q0A5CEw8pGAElKNmAo0jN37yJvi+UHK\n",
       "H4jmZB4pBn9Y9s1NOJrxmApcvk8eq+o2btAZmcLwXQpSEwDxw2974IsH8zDSkInIgY2KN899BQGO\n",
       "elhlsH9teXM6iYgl6YXx8NwfQ5rsr1tb/IRKxUGeNOxSf6FRyp4BeANe48tltGh/CfCmxEOO/edb\n",
       "XrEn5u6Cn6MZr5CUNQGgk9BYmt5bil041hnKY3/d2uKRGFShyGjFsEvtQKlEA5ItiHdd6EOAIwAL\n",
       "bLHQC54g/z0tqI2QOmWOf5kxdB7/7RPXIp2w2BVf1IqQnifJ5iHV1CsFkniQXPeKvngkchVOpEiy\n",
       "plXx0Hll72ygVApg7BpY/N65CjBVgRStzKI7UgpUJssc/wJiKKl7VbwZ6ITFlnxRJdlkmiR1F7J9\n",
       "vVIgiQfJdZf0xacEFS+aIp9oVTy0qeydDZSaxJurBrl/XOhfgM0ijDZE+qTSZJmjNtnCzQheEn+g\n",
       "ExZrZHK2BdmdoUye1JscaJCrcCJDZqNNdrrUmoxSdYAqmrzt7k7E5AbEr4n0utJkmaM2OUFOhFMw\n",
       "8Q7/gU5YLK3RfvT6+gt6k3GktyJNXr7+0FOF9SMdMU9db7KiQaYi+kmQo9Emky4dfblsBqEUXqgD\n",
       "Zcjddnf7O2hyAZIzIn1WabLMUZtMbhh723rmIj9i6ITFshrhUOFsqMmbhUiTy1cL9nbHaop5ZvUm\n",
       "KxpkKqKfBHk/2mTSJdHvy2UzCKWWqMl3RJPLwIpl9CWlyTJHbXIajzmr/33udY7TiWTGe3ChcjPU\n",
       "5O8gyuRM51uI3YbklphnSW+yokGmIvpJkOeiTcYuHf0dqWwXQqlF3C7KkCF3chWvro0mrxYgh8Um\n",
       "2u2vP2u3cV0tesVWZ3idMkccHprC5Zu42AMeyiYk9my7/Wm7jX30YI5gfE7TC6kTXZ0SD7Lt/8jp\n",
       "nZgR8wh1e6CqeIeY6PqIFNn0gUFt0iXTF5O6EEotOgefRQ6+dI0efFN4YaQLLRTrcGidGYM7mZic\n",
       "Pvku8FA2yUjLGj4OO/gAzkPknQzWFnE4VRbzLOrvZEWD5wMnqYP8GH0nky5RPzsj18kglMKVMtaF\n",
       "JH+E+x1w8YLVMtguWmbbRbW42uM4m7BYVnmmDy+HmIzvUw9EmoztpMuwmq8YbheBBl0Vj0iR5422\n",
       "C6K/ryE/1DIIpdZwZ246y4yOD4As3mRXpK+pD75utMljBXLNqkXOYRMW69Ro/5ZtQjnE5HWAxyNN\n",
       "xnu42oEbsYaQZy3k4As06Kp4RIp8FG0y6RL1pyplyREGodRR50K+yu+1dNH+nD16cbrzFHNM+FAV\n",
       "74OPY99zd126a7NI8qR0A6o9/m7PJgnBVGvneDNTFDuJS8d07NKZMy0hp3N0cDk36EAPLgD8Ehfz\n",
       "yHWXtMUTIlfhRIbURVCtTbpE/SeSPclkBqHUBs6OH/7be42vH0JquiPSCeevL07xt8XsrXs3/ZxL\n",
       "fNetCWgOq/wZRk7zVcAmaeF51j5dePactPKd9DxJend3V7xwjgCXc4N+AjgI8MO4aJNcd0lf/Iag\n",
       "wokM+UbaGJTapEvUP3FO3pMZhFLpnmoZ7Jd3VgOO5rX6svqjyX4Ie+PTvDoN/MYn110ybVAixloG\n",
       "r9WXw+pEqWRNFTwvfeow4Wg+EC2oTZ4P/UCk+dIy8Aciue4V0wYlYqJh8IFoIaxOInVF9aG/K89N\n",
       "OOoxpvyTg1ns3scV7V8yuoZEeGT4LgWpaYOg6QETC19quzB07N7HtKkr04Nfp+guBamYYqcb918N\n",
       "A45mPKgCx++Px8q6jRukz3v54bvkUv8DoMMF/g87QOgAAAAASUVORK5CYII=\n",
       "\" style=\"display:inline;vertical-align:middle;\" /></a>"
      ],
      "text/plain": [
       "(0 * 0) +  (1 * 1) +  ... +  (k * k) + x+ 1 +  2 +  ... +  m+ (1 + 1) +  (2 + 2) +  ... +  (n + n)"
      ]
     },
     "metadata": {},
     "output_type": "display_data"
    }
   ],
   "source": [
    "requirements = []\n",
    "add2n_lambda.apply(*new_operands,\n",
    "                   assumptions=[InSet(k, Natural), InSet(n, Natural), assumption1],\n",
    "                   requirements=requirements)"
   ]
  },
  {
   "cell_type": "markdown",
   "metadata": {},
   "source": [
    "Furthermore, to ensure unambiguous and straightforward lambda application, we do not allow a single operand entry to correspond with multiple parameter entries or crossing boundaries in any way."
   ]
  },
  {
   "cell_type": "code",
   "execution_count": 30,
   "metadata": {},
   "outputs": [
    {
     "data": {
      "text/html": [
       "<strong id=\"operands\">operands:</strong> <a class=\"ProveItLink\" href=\"__pv_it/lambda_indeterminate_params/d03850b8c7aeb68ec4c17406ca31486bed6eeef80/expr.ipynb\"><img src=\"data:image/png;base64,iVBORw0KGgoAAAANSUhEUgAAAT0AAAAVBAMAAADGPSRBAAAAMFBMVEX///8AAAAAAAAAAAAAAAAA\n",
       "AAAAAAAAAAAAAAAAAAAAAAAAAAAAAAAAAAAAAAAAAAAv3aB7AAAAD3RSTlMAInZUiRDNmWbv3US7\n",
       "qzJazP2FAAAACXBIWXMAAA7EAAAOxAGVKw4bAAADV0lEQVRIx4VWPWgUQRR+ez96d7mLZxCEEPAk\n",
       "KBaKKWJAmyz2IauFlZJrhBSKKYIXxOJA0MZICi0kRQ6CBPxJjnRqc6ZXouAPguQKqzSJQoIQyDk/\n",
       "b2bezsxePvjuePve9+3bnTe7CwBlkLQQJAaJh2JIsLV0QTepkKeGJG30VEgweEDeRZKtpRv0aVcJ\n",
       "YRi5GZEKHpwxYTqEoHarrePjdz/F8h6graiMg+psY7y2umG2Kpj9fsf0J4ND5sA1gAHI7OlFacF4\n",
       "k+ZdoK2sjIPqLGOFm4aH65Jwnp6OB7kpHc4AfAZ4rsJSGfJzNO8CbWVlHFRnGSs8MsyDpNsfPNMh\n",
       "O8VCBBtq3PM7UPpD8y7QFivjIDrLWKsjzREWjvj7m9RTwhbrJ8CGmpNSA0r7JO8B2mJlHEZnG+sR\n",
       "qGtOs3Da39+YXqxQ/K2QgsI2yXugbUUl7txzVy6vUV/XePXrsbNsf2fWNSfVBbn9PaSXA9D7lxRs\n",
       "VUjeA20rKiUyxS8wUaY6xzj8WMmyechVNRfZ0UV/fxf1zRLPscI6KXhD8x5oW1Ep8b7QghNtqrON\n",
       "e5qvIWDzkJ7TnGeH501/E1XT35YeV/GIuC+eG7tyYVo074G2FZXSNppowmiEOnHENs5m9yC9w+7o\n",
       "tqbVX2HK9Pc21l9OXuWS+J0Fmu/W3ywY21GAb0onjjjG6W0oscZ75jS7rO+l2DIMQ1Amj/2jJN9l\n",
       "fWUlgjX3L0t1jjFr7kg9gnQDFPmGWvP395jfcR4V2Yj3hpDSFb8BTsk8uC8RIVG2shLxlC1eBnXg\n",
       "Nc6HbAJCyLGhQI6pDT9OH5IimFZjwrd6f612T7/flmq1hsyLsRFF/MdEaIuVKNuHVPWJeu6Ax5hv\n",
       "n9O5tnjuIDf51wDjr4XbdV0mg1d8BV7wBwA7xUqns6uXpdPpVGUeXkY4S+JnSUnQFitxdzYg+2MI\n",
       "dQK2MbwDuPGAyZqaBbbhC23fCAXiwi/wn+XkfNpdYC5JtkWdxLJ/evsN+dva/6YXXw0Qqvd1Qj7j\n",
       "JkLoZos68yHgwQzhB6SDATHs4ulfLCfl4aq7P4Qk0RZ1uEHK3jvcMoTrSAfCPSVP2UrKg/sVLSWJ\n",
       "trGuvcaia0UIKpLOaeil9R2Q99yDBFtL1+fTnjT8D7rRAnywuq1rAAAAAElFTkSuQmCC\n",
       "\" style=\"display:inline;vertical-align:middle;\" /></a><br>"
      ],
      "text/plain": [
       "<IPython.core.display.HTML object>"
      ]
     },
     "metadata": {},
     "output_type": "display_data"
    }
   ],
   "source": [
    "operands = [ExprRange(a, Mult(a, a), one, Mult(two, n))]"
   ]
  },
  {
   "cell_type": "code",
   "execution_count": 31,
   "metadata": {},
   "outputs": [
    {
     "data": {
      "text/html": [
       "<strong id=\"assumption\">assumption:</strong> <a class=\"ProveItLink\" href=\"__pv_it/lambda_indeterminate_params/4271c344b269e50e6937c1a5629933393ce56aa50/expr.ipynb\"><img src=\"data:image/png;base64,iVBORw0KGgoAAAANSUhEUgAAAkgAAAAVBAMAAABPvwycAAAAMFBMVEX///8AAAAAAAAAAAAAAAAA\n",
       "AAAAAAAAAAAAAAAAAAAAAAAAAAAAAAAAAAAAAAAAAAAv3aB7AAAAD3RSTlMAIolEdjJUEM2ZZu/d\n",
       "u6v6CvZmAAAACXBIWXMAAA7EAAAOxAGVKw4bAAAFFElEQVRYw7VYQWgbRxT9K0vaWJJVNeRSiKkg\n",
       "PTuG5uYctoc0wdDW9ByQ8SUBG7KFHHJJrVtA0Db4FIUUdGmxDwmmOfjQQwyhCYLUsSG9lhQKbdPS\n",
       "OKTBphd15v+/s7OzMxMtbT/+6/36/7//9+3szOxCC6QErIYEToOlBV5xwJq/tRzIaXrgQHhN/X8p\n",
       "qsgJ/P8+qyETkWZY/HDKX8UBm8WF8qIDWYZRaGnWcNMP1sz/TrjNE0RStU1aeaiFnI8B5lNT+IP+\n",
       "ZwspzdIoD3xFGDaTRjKvG0sAb934wYhA5Pkk1EHSEreJksewS4GEeZ2kK6Sf3jhQ/vC3LwTYkVj9\n",
       "IPzTUHqpbDKu+WpcsaSRaLgQdiHYhZMmDdc4DEPtJIlMahNvmgXDIoUSqE0m6SZr+UCL+EhE1K4r\n",
       "U/h/AvhW2WRs+GrctKSRaLgwOYBmC+qbRsgGh2GonaTJAbcpxYZhlQIJ1CaTtMmaIwm2lCn892J4\n",
       "rqZKMuqxp8amJY0lxYW6+DuA5gsjop6U33KSVNev2YbhJWmchK2UpGqX1EJST80vwv8HwHM1u5Bx\n",
       "xDMpJbCZNJZeenpR3NRtaL4yh/qAw3pOki5mBoYFwz+SxkjopSRNtkktJM2oh6KN/x7rEMIoPXVX\n",
       "ULBa2sSHn7zzRMcFWMNjY1+ta78c/SBi5BlWO0lr+jVnMMxliqtC0YSZlCR50/DG5Ulaz9xYqPyl\n",
       "BUij1vVMe4N8WmnqZ1htabjJoOqoXUH7xyh8wcjrrETSrUdSdhRJPeOaO5Gjk6QqFE1YT0lqLJJa\n",
       "SFpWpOOWpKEPHGlUPVOfgtXS3m3swtsLGi7AAzzuqJs4+z0Erxh5mdU+kh4Y17zj6iSpCkUTllOS\n",
       "6rOkTFJ4mIJ11DyKbX6p+dGo7LtJUrBaWrw6C5dixiWgu/ho7srjqhg9YfgSqgeM3GG1k3Q3e82E\n",
       "YZOkKhRN6DhJgmEKNpchqfZU86MxsTkGSXraJYBfFe5QkXSHxp5ccqv70Owy8hzrWCTdcbfCVaFo\n",
       "wtxYj9tK5nFbgqClbZSFUd0e43HT00Tpv0MNlx4asS9/M7EFQ28MYkJeYbXPSdnHTccwhatC0YSV\n",
       "lKSpiNRC0m0cfBxTaUNZ3QYyanLEhpbxqsFm0r4Rz1KJcUnkKvIxwFk1ANtipLcJ+TarfSQ9SdpE\n",
       "dMTIb9vCtGoMBROoTSJJrra44pb0zdXJFq+yOHVI//F+/5Zyk4FLPE4lh/qJSjHTxJRc7n6VrPso\n",
       "YpkNhv2+GpJiwjxXWyDkNVY7STPcJlZDDNVFtieqynOpPSFtO03gNomkyjZp8/fDZ6qNP+99Lpbv\n",
       "+/L0UUz+x6PRYbpJQqMhm2085PkF55ShnmKmTWxD+GyRcfmFU+SNRiO1lzgtXiK/ZuT7rHaSzidt\n",
       "ymqEgWfX9VZkc1xVOp0JQ8gnUJv8WvIda/6LCt7fauzyw3E8XsjvtmMfLOPy1LXgRJZhGGonSWVW\n",
       "Y8idKbkA4AnzJlCbTNIGOF5V8RUSSuDy4zus2P/ld2NeWMbNv+wayDIMQ+0kqcxStm5W2hbnmAnU\n",
       "JpM01SLNyTQeLycx+RGBO40wv3G97IVlXJY9cCFPJ6GO70l7ejXjTM3DkcU5ZsK0/j0p3CXNCXUR\n",
       "JTE5IQrKeUfkhc3ychVcyHtJqIOkq3o140x9vQOLc8yEPSbpDP4/xmrG68PA4of3/C/RDtgsLgSR\n",
       "A1mGUWjZnLfohyD6Xz/fcptn/gH6EsS9/Sy5VAAAAABJRU5ErkJggg==\n",
       "\" style=\"display:inline;vertical-align:middle;\" /></a><br>"
      ],
      "text/plain": [
       "<IPython.core.display.HTML object>"
      ]
     },
     "metadata": {},
     "output_type": "display_data"
    }
   ],
   "source": [
    "assumption = Equals(Len(operands),\n",
    "                    Len([ExprRange(a, a, one, n), \n",
    "                         ExprRange(a, a, one, n)]))"
   ]
  },
  {
   "cell_type": "code",
   "execution_count": 32,
   "metadata": {},
   "outputs": [
    {
     "name": "stdout",
     "output_type": "stream",
     "text": [
      "Expected error: Failure to apply (x_{1}, x_{2}, ..., x_{n}, y_{1}, y_{2}, ..., y_{n}) -> (x_{1} +  x_{2} +  ... +  x_{n}+ y_{1} +  y_{2} +  ... +  y_{n}) to ((1 * 1), (2 * 2), ..., ((2 * n) * (2 * n)),) assuming {|((1 * 1), (2 * 2), ..., ((2 * n) * (2 * n)))| = |(1, 2, ..., n,1, 2, ..., n)|}:\n",
      "Failed to prove operand length requirement, |((1 * 1), (2 * 2), ..., ((2 * n) * (2 * n)))| = |(1, 2, ..., n)|: Proof step failed assuming {|((1 * 1), (2 * 2), ..., ((2 * n) * (2 * n)))| = |(1, 2, ..., n,1, 2, ..., n)|}:\n",
      "Attempting to instantiate |- forall_{i in Natural} [forall_{f} (|(f(1), f(2), ..., f(i))| = |(1, 2, ..., i)|)] with {f: _a -> (_a * _a), i: 2 * n}:\n",
      "Unsatisfied condition: (2 * n) in Natural. For debugging purposes, this is accessible via Instantiation.unsatisfied_condition with applicable assumptions in Instantiation.condition_assumptions.\n"
     ]
    }
   ],
   "source": [
    "try:\n",
    "    add2n_lambda.apply(*operands, assumptions=[assumption],\n",
    "                       requirements=requirements)\n",
    "    assert False, \"Expecting LambdaApplicationError\"\n",
    "except LambdaApplicationError as e:\n",
    "    print(\"Expected error:\", e)"
   ]
  },
  {
   "cell_type": "markdown",
   "metadata": {},
   "source": [
    "### Providing alternative expansions\n",
    "\n",
    "A variable may occur in an expression in various forms, indexed over different ranges.  In order to treat the various forms that a range of parameters may occur in an unambiguous and versatile manner, you may pass an optional `equiv_alt_expansions` dictionary to the `apply` method for specifying various expansions for the different alternative forms.  The rule in doing this is fairly simple and straightforward, but allows for a lot of versatility.  Basically, if $x_i, ..., x_j$ is a range of parameters of the lambda expression, an `equiv_alt_expansions` may have various keys that are alternative ways of representing $(x_i, ..., x_j)$, such as $(x_i, x_{i+1}, ..., x_{j-1}, x_j)$ assuming $j-i \\geq 1$, and the corresponding values of the dictionary are alternative ways of representing the **ExprTuple** of operands supplied for the $x_i, ..., x_j$ parameters.  These alternative expansions can provide the information needed to expand the variable in its various forms.  The requirements to allow for these alternative expansions is straightforward.  The alternative ways of representing $(x_i, ..., x_j)$ must be equal to $(x_i, ..., x_j)$ and the corresponding values of the `equiv_alt_expansions` dictionary must be equal to the **ExprTuple** of operands supplied for $x_i, ..., x_j$.\n",
    "\n",
    "The following is an example that demonstrates the versatility of this feature and even includes some partial masking of a range of parameters to make it interesting."
   ]
  },
  {
   "cell_type": "code",
   "execution_count": 33,
   "metadata": {},
   "outputs": [
    {
     "data": {
      "text/html": [
       "<strong id=\"A_1_to_j\">A_1_to_j:</strong> <a class=\"ProveItLink\" href=\"__pv_it/lambda_indeterminate_params/6f07f7e1cd84e684d7c7dec96c23c91dfce5a4940/expr.ipynb\"><img src=\"data:image/png;base64,iVBORw0KGgoAAAANSUhEUgAAAIAAAAAVBAMAAAB8u/sIAAAAMFBMVEX///8AAAAAAAAAAAAAAAAA\n",
       "AAAAAAAAAAAAAAAAAAAAAAAAAAAAAAAAAAAAAAAAAAAv3aB7AAAAD3RSTlMAIs1UmauJMnZmRLsQ\n",
       "3e++988cAAAACXBIWXMAAA7EAAAOxAGVKw4bAAABj0lEQVQ4y6WTv0vDQBTHv2lCW2tqq4g4qZMg\n",
       "CO2u0Azt5uDi3OrgqpuT2qGC4GD/BMFB3BwEF6EZFQUzCC4q/RPaii0iEi93Te9XqkO/cM27z7t+\n",
       "eXnvAgSagiIN6DIWhE1Ozeb+N4i1eGz6SlIDESoIBlY5Kyc1EKFSm8ebO7tyUgO64jM93o7qaV7u\n",
       "jwoiNJv84AWjUJffQAURcsyvQXyOw4qU1ICuVD7RDZ70VR3MrwP3fK4U2Nsb7nADC8Zn8HwhK3ld\n",
       "LF8hceyFSQYsWN5wg5Ni6TuM74AMOWp6MsicGb2h/7erwA8vGOmmaMDAmPuHgUXWO/GpkWml6uxa\n",
       "BgY27U8fIO4xIIs25pJdd8skjZsj8XibGTwFjQwB9l0K7A76mcHOIBWjkcVj3MGDvwyz0alQg/Qr\n",
       "ODBuGcAzWWkn/HlzYTc6Llb8RVKpcF9oD1aFWqcxKYP+OXG4maxiINwf42ZvTQLhRyBuDoTzW90q\n",
       "nU6oCd9vSYAPmetISSbxHwAkyyWMpNhFczQDq+biF/7taGoxhcgYAAAAAElFTkSuQmCC\n",
       "\" style=\"display:inline;vertical-align:middle;\" /></a><br>"
      ],
      "text/plain": [
       "<IPython.core.display.HTML object>"
      ]
     },
     "metadata": {},
     "output_type": "display_data"
    },
    {
     "data": {
      "text/html": [
       "<strong id=\"A_m\">A_m:</strong> <a class=\"ProveItLink\" href=\"__pv_it/lambda_indeterminate_params/8f1646f65cbfed7f14d5310f17ee8eff34f52e950/expr.ipynb\"><img src=\"data:image/png;base64,iVBORw0KGgoAAAANSUhEUgAAAB4AAAASBAMAAAC+3HPqAAAAMFBMVEX///8AAAAAAAAAAAAAAAAA\n",
       "AAAAAAAAAAAAAAAAAAAAAAAAAAAAAAAAAAAAAAAAAAAv3aB7AAAAD3RSTlMAIs1UmauJMnZmRLsQ\n",
       "3e++988cAAAACXBIWXMAAA7EAAAOxAGVKw4bAAAAlUlEQVQY02NgAAEhBlSgj8pl/o/KZ4kXQOEn\n",
       "5hcgcxkb+g1QlDPYT0DmL2aoT0DmOzDIByBxOba4xG9A4p9gYOC/gKKcgfcBA6dnRSvHbKC9XECz\n",
       "mT4wnFw3gS+AA2iOHFAJ90cGmSYG/gKWBIbT/3UYmPd/SmCIYKhj4EVy13OGbgZ5doSjPwBVzGaB\n",
       "87kCGBQZRHsAx/0fHfITt9UAAAAASUVORK5CYII=\n",
       "\" style=\"display:inline;vertical-align:middle;\" /></a><br>"
      ],
      "text/plain": [
       "<IPython.core.display.HTML object>"
      ]
     },
     "metadata": {},
     "output_type": "display_data"
    }
   ],
   "source": [
    "from proveit import var_range\n",
    "from proveit import A, B, C, D, i, j, k, m\n",
    "from proveit.core_expr_types import A_1_to_m, A_i_to_j\n",
    "from proveit.logic import Not, And, Or, Forall\n",
    "from proveit.numbers import one, Neg, subtract, NaturalPos\n",
    "A_1_to_j, A_m = var_range(A, one, j), IndexedVar(A, m)"
   ]
  },
  {
   "cell_type": "code",
   "execution_count": 34,
   "metadata": {},
   "outputs": [
    {
     "data": {
      "text/html": [
       "<strong id=\"partially_masked_lambda\">partially_masked_lambda:</strong> <a class=\"ProveItLink\" href=\"__pv_it/lambda_indeterminate_params/38d7b2d14a87dc5d26275c7c48b75ff4847f0b260/expr.ipynb\"><img src=\"data:image/png;base64,iVBORw0KGgoAAAANSUhEUgAAAxYAAAAZCAMAAACb3kjdAAAANlBMVEX///8AAAAAAAAAAAAAAAAA\n",
       "AAAAAAAAAAAAAAAAAAAAAAAAAAAAAAAAAAAAAAAAAAAAAAAAAABHL6OuAAAAEXRSTlMAInZUiRDN\n",
       "mWbv3US7qzLz6SJmQj4AAAAJcEhZcwAADsQAAA7EAZUrDhsAAAb6SURBVHja7VyNkqQoDEZ+BFG8\n",
       "8/1f9kRRQRMI2j09PXVU7WyPG0JCvoQkuM3YVw/Ts+8fzlrbsP/HSwafN1M8mK+Pj7/IJnWiCP0X\n",
       "LNl+6/b/qnGIbswTNsPuYLF3NUUjNa8xI8ym5xUsVPtErua9cKSz/z1uUYmEn9tMwooHcmhugUls\n",
       "Ah8hExtNRStOL1ELYcMrXH0wT+R6kR7P2Xv7uOMENB/zilok/NxmUlbckUNzC1Riq64hV0wl/coU\n",
       "NBNgbFpFjhcdUS4pqvSQlbnpU/beAHovktqPJTJFJLjdNCO/CQqcRSU5sOKGnLNbVNqHLyFKJ0y0\n",
       "mwpmKVPQShuMjSHXC1rS5FK2rREAJs+g6Sl7//voLrntj48iEswOzWG8CQqcRSU5JJ4G3aLSPkxN\n",
       "3r2SkCsbOeXFLVPQIizOpkOOC35WY+ppDLlxfYUAIHkuIX/Kvo1DnRQfc4syEiySl1eAwtYVI1Ur\n",
       "BuSc3KLSPrMp5vkiXq/hjE9Zu5QpaPlPhk17aKVybadxUjSGlo1DhQAQed5yD9m3sS0/V38TkLD5\n",
       "rBa3QYGwqCSHVwzIOblFpX3mtYZTJqJ9zpUtWMoUtPM6w0a6S6yAfmPc0hj6QvKSsOP0IHmhTn3G\n",
       "foVjZ/3o5OdyqDIStpht74MCYVFJDq8YkJO6RaV9PLC6JDazXvgYnDNMmYI0smxMiziCSJ3etTSG\n",
       "fk/OJ02GHiLPdjQes1/10MuZPqiPuQUFCW4RkvMHoABZVJIjKwbkpG5RaR//r3MaEl8J+snN5PJR\n",
       "vkBBPSxwNqJDz4cENMNAYrgWs1YRBQDJM4PCfsyTr8Zs3PYDTCEJz2kNAjwZxJCgmgptVXNnw16z\n",
       "vwE5iVtUmn/NzkfW9RHqtJ4L9BVtygBZbkyhpHTunoWShQCp9o///GuTMcVVdutIkkPhJqNHZTAr\n",
       "sl+MMmbJg7je52Wkn+rgmhB7TvMKfDKGBCZ5NvbixAxEUuVxXFzx2N+AnMQtKPY5J24zyo7NUOvU\n",
       "aQnRI+fX7C+h8JJqe8s0MRvgDENPi76NWwpWUyQPzXhlaXpA5FldSuzL5JtbCJ4W3BKpCeWTlkdm\n",
       "MoKEUmmEEW/WuSCpsnijr7ghJ3aLSvuEDm0fHZ1BDxtQKSyY++wUPnA3t3q1p4Uu+2ARtxjTm77j\n",
       "tMhJDrUyMnpUNkrK7AmNlXb/20RBrR878MjCntOKusxkFAn5vg5GPEAGvdPqI6+4LRS7RaV9wmkx\n",
       "smHbpn7rEE6pMgcUUwqjNjiRMimUjTZzPHGMm+3CxgyIW5wbOK4gecIianxjeiDkBZsV2M+xKTIJ\n",
       "yL7dTRj7PY+zRFZ+TktfM5MRJPQ8mXG+BUCJcbeovBjKrxjvb0BO7BZl81/wN+dizd4O3d+kGMLt\n",
       "X1BGTRvDC8VsSBtTZD6gbJTpu1nMzm2X7kmjMNmOcz7qhrzk6xZdr0kxPRDynFYU9jq6EIAvbY+d\n",
       "cTGAmW5BYMPPiV6RmQwjYc444vuh850xToy7Rcoiu7/FFZP9DciJ3KJoHwB/SydqXGRWwzQtoUr4\n",
       "DzJWxoZXp64U81wVUUTZ/vUDxqZR3Cvlo/XmDhYJJXK8tpezki++c36pJqMHg9/ByWlVZq8Ukzh5\n",
       "4hahPAzZzqYgG9Is6PJ8iyJNsbkbTWb6QgwjoVEnVMfpSI4Yd4tThprb3+KKyf4G5ERuUbQPgD9m\n",
       "urRNAqf4Atvt3Q6CkkZhRG6Wd+yO3LahVrv9pIrFCWk0b74saAs3XeArO1JKBygIPA+gGEWx6Ykx\n",
       "vTbMwOSKMhZiPcyj8z/MHXvc3d8NOXX/3+KMP/+6FMNfzduVwW49mnli0+Qo0mCPNUB8CBt8fr/2\n",
       "nzVZqa5/iVscerxplN6ia8FsJ1Q8Iul4Qs+PA1kVU6itjDKQ1WEkqEnR+yoR8XA7TN3d3w05dW5x\n",
       "xt/mZkOTBZfiWIwdx3E5ihUlnKBspuCxc7203LLQmxRavsItDj3eNMaO1bpFqAp9M1WsJZWS8POr\n",
       "WyyU6Y/L5KZR0BEFImHO3OmXDBHxj7nFtr87cqrc4oy/7Q3aOd2CqGU7rfEIw3w3+ZGjuIYqKBVy\n",
       "ocfUOK5wJ6Xj7ZCcGC12Pd40uKt1C73U3kpP/p5mrRXHTkDPpdbazn/6wy0WyrFroh/XycxAIQVE\n",
       "gnKcbpKIeLhpj9v7uyOnyi3O+Junb60Hzn7N4DXZjBPsC0aptMi/NKssW7UUyPNrEgXsyuUR3CJ9\n",
       "JRKGH97fAznm2ausX/91E6r9/T7RF3OowrvkwxrEegU/P0pu3q13V/01Ibw+sm/XXH9sf5+5heHs\n",
       "24eQv11CzctlC8m5DRl/pjiZi7/xlSnI/r7omz++ePyJ74lqn31PVH1oEO6veAWQhVvbPXGL1cv+\n",
       "A9eSSBs44nMPAAAAAElFTkSuQmCC\n",
       "\" style=\"display:inline;vertical-align:middle;\" /></a><br>"
      ],
      "text/plain": [
       "<IPython.core.display.HTML object>"
      ]
     },
     "metadata": {},
     "output_type": "display_data"
    }
   ],
   "source": [
    "partially_masked_lambda = Lambda(A_1_to_m, And(A_1_to_j, Forall(A_i_to_j, Or(A_i_to_j)), A_m))"
   ]
  },
  {
   "cell_type": "markdown",
   "metadata": {},
   "source": [
    "On its own, this **Lambda** expression is ambiguous.  There are different interpretations depending upon the order of the $1$, $i$, $j$, and $m$ indices.  The `assumptions` and the `equiv_alt_expansions` supplied when calling the `apply` must resolve any ambiguity.  So let's set this up for some unambiguous interpretation when we apply this lambda expression to some `operands`."
   ]
  },
  {
   "cell_type": "code",
   "execution_count": 35,
   "metadata": {},
   "outputs": [
    {
     "data": {
      "text/html": [
       "<strong id=\"operands\">operands:</strong> <a class=\"ProveItLink\" href=\"__pv_it/lambda_indeterminate_params/9535c45b3fb278070cbf9abbdc8dedeb980b111d0/expr.ipynb\"><img src=\"data:image/png;base64,iVBORw0KGgoAAAANSUhEUgAAAcMAAAAVBAMAAADIuJhrAAAAMFBMVEX///8AAAAAAAAAAAAAAAAA\n",
       "AAAAAAAAAAAAAAAAAAAAAAAAAAAAAAAAAAAAAAAAAAAv3aB7AAAAD3RSTlMAInZUiRDNmWbv3US7\n",
       "qzJazP2FAAAACXBIWXMAAA7EAAAOxAGVKw4bAAAE00lEQVRYw71YXWhcRRQ+d3dv7u6muVlLoCCV\n",
       "bOKLiKV5sBFF7FLUByF4rSIq1u5DCy0IXaFirRYWQX0RooIiVHBBQrUPEvKkvnSNKChNk5f2oXZN\n",
       "6ItQalPTGmN/sp4zc+bemTuTvS/SA3P37PnOz5w7Z87MLgBUQA6LKk42Q6jIg55UgTtDIk5uTA6b\n",
       "ZmIuC3fQvb1Dz/zPqXj1HnEe5MH0QbfTeXVJJtZUwizcpnwtZovztzvnzqRwzXb3XKc5pGOWwCZL\n",
       "pe9qSuOB7tyFuYqI49fliOlzgIF1ye5nURbuoOc1vtQGWFxKKcS2uY8jeOgrPfu0wCZbZadI8Sw9\n",
       "LkrJKr7cayJO0JQjXvEVgP5/JP8+y7JwBx3R+OEqwKlGSkHZ+r9i8sFfCWAJbHKoHBPf3qGHLJgQ\n",
       "5wlvijglkCMuK1yh4gq//og/M3AHfajxkzihyWpKQdn2fYKPfk3dEthkqxSGRGGVk12ZI8GpJsUZ\n",
       "R25cUx7AFe/7iF3x6mXhjq2ol/YijoPpFqpsn6ZOFmprbAlsslU2566JTBEIZGvcRJU7XKM4h5E7\n",
       "bG4c/zxvnMKC/MzCbQpq5u7d801ag229G6Lykp1qCRzd01Zp5NdUXy1LySA2AFheoDgHkDugKS/P\n",
       "jp5Ti1PktcjCHaWkrW94a3QbeXjG0GDbwko69ZXMAyJWiT32j4XXBfM7wCjPk3bGZI3ifIkcjuAk\n",
       "Ea799grkPwN4gWaQ53K3cf/xTpTgNpWxWo6SxQncFdgJHsaUdylQ913mpuG/pyxZ8NzE2Q2dq0YT\n",
       "ewzAuy2YPwGmpGg7LfLiNMU5jtxxVQFYPL9QrS+Foy16/3zY2HgAQSvBbSpNM3MP7gpMprCuraru\n",
       "uyQ+fLh4v7JkQQOObuicVbRD8I1jt2T1VPK8Refp8a+Ik06R3ga2v3xLa1o2Pjjtrffqe3qKgwtJ\n",
       "D5a9SPNdFtN9DOARtUQsuAnDG+3H2CY+RLAob/CNo4/7GqVcXBNxuFBVCuEar29LzcWJFyNKUeHu\n",
       "QlUpLmORDtyEmQUjRbaVp1stSVEJ3t04RaUSewxwfC3Z1mVIjsUX2yLOLLKzKoWG2DjhKs+g2Jbl\n",
       "4MCh0Epwk+jA26SOwS1i98Jy3a/+baTItnSTgEIkUzQE8JR0lTr1ExXhUWh8i+OQxO/7DZJj8WcZ\n",
       "ZwI/JrRWiPXz3X6eBrb+vXU3DpeiGPcpZfGIv+nHyUGslk8j79mWkaLyvbMJ/U+ATNEQhFMpn/E3\n",
       "ViGPQuZRzc/LAn2pntxZv2/IOJdousnBTlfmH9U0ytNQnnLj3k8afgL4USanJzH5MCnhC3RvHxML\n",
       "e/k0UsX07b/deQs4RUOwNZKuhM8kgqZCpYIa/vxqBI9298maHYvnefo14DhY8WW76sU07saxA5z4\n",
       "FrgrwVOmVDzWUQ97X3H6ViT2oibwGl5FujJph+kxH2Ucohin2JDDleIR2QkcuHfmyusJnjqZ3Tf0\n",
       "8cDp20hRE2y98kckXZlUMz0Wsu4JFOcHHmYKT16vgteW/diBl7rdqxpu/pYTV0TrZ/2eEbdvSUOH\n",
       "dpmCL7pddmW2m6rpcXfWT2W6x73MwyaaZk5wWbhBYhJ+u3dop23O6aqnShWy44BXlcOmkeRdZOAO\n",
       "2tw79Mgd+u8G4/wH1nSUya6AWNEAAAAASUVORK5CYII=\n",
       "\" style=\"display:inline;vertical-align:middle;\" /></a><br>"
      ],
      "text/plain": [
       "<IPython.core.display.HTML object>"
      ]
     },
     "metadata": {},
     "output_type": "display_data"
    }
   ],
   "source": [
    "operands = ExprTuple(ExprRange(k, Not(IndexedVar(B, k)), one, subtract(i, one)), \n",
    "                    var_range(C, one, i),\n",
    "                    Or(A, D))"
   ]
  },
  {
   "cell_type": "markdown",
   "metadata": {},
   "source": [
    "This gives us the replacement that should be used when encountering the range $A_1, ..., A_m$, but we really need to know what to do when we encounter $A_1, ..., A_j$, $A_i, ..., A_j$, and $A_m$.  First, we will need some assumptions for our arbitrary (for demonstration purposes) scenario."
   ]
  },
  {
   "cell_type": "code",
   "execution_count": 36,
   "metadata": {},
   "outputs": [
    {
     "data": {
      "text/html": [
       "<strong id=\"assumptions\">assumptions:</strong> <a class=\"ProveItLink\" href=\"__pv_it/lambda_indeterminate_params/0532807d38b7131924c2afd008695d24f95ade6c0/expr.ipynb\"><img src=\"data:image/png;base64,iVBORw0KGgoAAAANSUhEUgAAA5AAAAAZBAMAAAC1NdyaAAAAMFBMVEX///8AAAAAAAAAAAAAAAAA\n",
       "AAAAAAAAAAAAAAAAAAAAAAAAAAAAAAAAAAAAAAAAAAAv3aB7AAAAD3RSTlMAZkRUmRDNuyLviTJ2\n",
       "3asqG0tJAAAACXBIWXMAAA7EAAAOxAGVKw4bAAAHj0lEQVRo3u1aX4hUVRj/Zmbv/J9xMtGXyDEo\n",
       "MKLmxSRJXMMUQuE+WQ+uO0tIPtQ6GTVKCuOLviRuQYhhOD1FEbZQJEGyE22lZTakliibK1aulLms\n",
       "rCkFds655557zrnfuXN29cEFD5zL3Tu/8/u+7/edf/fcBYDZcOeVbgtM1+0km9mFRZiIiLNh87wR\n",
       "YSE9Tc9qFpjU7SFLo242bi1uaw0aU3ieNiJ30Zu1Ziv5iuGHR2xAtMRb2oOef15z4YMbZQzsnKtv\n",
       "gOyBtyK1DwiiE2lFRstXvJojnEbckRpMVWHZUxwZoyZeNptZQi+HXPVh7hSxX9JAaDlMWn6pP3wl\n",
       "PgrOOP9jWBtjlUcBerVBlHvVQNBhRFqRkQmpyWp6xQuDwcNhJcKIuHVx8t02GgSBWykseRri556S\n",
       "FukBc6eu0us36sP1KyfJdYMGwlr/tok4mNSchMuN9wB8m2fU34qnsyXIaNrnqwaCDom0IvMmpLV0\n",
       "cspOBA/PyBFGxa2JA4WmjQYicCuFZU81fuHpcbJlaJp3E0qvWOBrQc3MMYCU8iMJIKZ3oQu1ZAPa\n",
       "Bu0Xw0YoQFe9vrdunCg4war61nq9FJVIGzKA5V4dA9inPJ8TmgWt45bEwjWYmsKypyF+jux1YVbZ\n",
       "6E1G+etJ2UzGxUGhRMLbvNX2kZ/Zzdh96aqeyG9HRljXLO5o7STao8tamMAwIn1gFJlUBrx6wIUr\n",
       "ygYj42KJtIpbEkvRYJoKy56G+DkyWYIh1+jN42YzyRIOCieyz1vwX/TNjBUHv9MS+dDX/iBq/Jlv\n",
       "4tojBHgiBTCCTF54ql69DHBlUP4hWcISaRV3KJF9t6Sw5CmaSIrsqsEPJPbjz320LffhZt3MM3QW\n",
       "PzaKmcmOSiBTexbEQXa7U3SXMailyl4inWHmbFosB8VGCjZr2q87biIQiVTsC2AEmTy5NcXqck6s\n",
       "bNSvIEJj3JI4Pv9yNJEH9e3DcGkKCkue6vzC0/wA/EHuUn9B72x4gsFHWGEsfeyt+03MTEx0jz61\n",
       "fSiRc9ntRgjy8KlzyktkNs5mi2QjSGSuu6dH1b47UzIQiEQq9jdakK1hMf7qd2ev8+f+E3zUr1gV\n",
       "S6QStyQOL82FaCLnasrywC0U1jzV+YWn8UmoAzxQqMGeFszXE3GC1CNwFTOTGJBApvYsCE/eqpSH\n",
       "WGWx1/qTLvY4GexPGnBvYqtyGJNvzKoYCMTJjmK/akEmbzMrXiVXMQSYX4kBLJFK3JI4/L2hshJN\n",
       "pN7FeeCWCgeehviFp7l/oR/A7S3DMhdW6omgL9NuYpL3jH28ZzAzuXEJJLdfy7rQ2SCIIRbhu+Th\n",
       "LzwP8HvRc9LNsFflz2mLGte+6F5SZyHKbCLgRbYfAM1kynaj7FWAVQxxzfeLRei8xMIZxOPm4gQg\n",
       "B/ZrYkkayA5nWlNQOPA0xC88TU/ASfL3MqAqvIMlErraWH+JD8ggQ3sWBJsMnJo0oGC9wzk9WZ+V\n",
       "R6Qz2qOxrIkg4EWyHwDNZGgiY96APOn7FUdHpBp3II6/IZlER+RC3arfn6wUljwN8fueOhN0RNJ1\n",
       "8gzErzvaGnlCecVVB35bnmKk9qFELmW3bTkPuRZXu5+1KMiJhC9S6LszTsCLbL9tQSatPGJqXQJp\n",
       "sVZTvxJtdGpV4g69nydHXSyRS/XdR7+DkSAKa56G+H1P02xqJX2ZZLRY3aG5vo1e9pTRpbjGZioO\n",
       "MrRnQcxjt8fEw9dJ/b7G2joTWUYoziJTZHrKHwomQranncAJ/FkKNPvHcDIPmJ4IHeS1vJprQt6f\n",
       "dplfsRq62VHiDsThpbfcxBI5T9+1EgOOjcK6pzq/8DR3HS6ydMbGIdXUz3jYrnm+/uqSvc73wtBb\n",
       "9UCm9h83+A6bdCWxyXietq6ytrnxHeJRgBJLNaOnzCgBj4SuaYp9AVTJGNAnkwrdu9O6e8UKMe0y\n",
       "v0InXuG4IbS/G0qXtERKGkibImIAIQkrrHuq8wtPya71KLm26WFsfLX+6eQwvVzUzBQvXTtPxjnt\n",
       "RYVTHsjQ/u8D/cTsT56OFx/0Hn52o8aOGFnb855b6zd7YyG3aa/8NYZBoFjDCXgZcTX7PlAjY0Cf\n",
       "TNa07dVzN29eEw+pXwVtsCFxS+L4oHu0nMgaSIUYQEjCCuuehvh9T2MD8Jj5ZKdAd2v7scME2M2u\n",
       "i3xQxMc4vqjE3+cnbH5ZJN0/vH0EO3pnEH+DFyLg24uQ+1HATPiL0lle9bIbDUeLe3/Hkx1Zg3B0\n",
       "HRXWPcWgFNk1yvfeaIl1w4XYJHZOyw9wmxB1Ihx9ttzs/CGPQIqV+W4kJguWJWsgm4MeUKtH1Ia4\n",
       "JXGMh+ZmDZo2CpuO8RdoyGQp6usHbMldLaBfPtNsinJY/94Sqd8u00euVkfpKWSociIatM42kesM\n",
       "ZKmGV9EII+M2iWOnQQcSxD7ipUD2upAzf48kb3irn0J/8DjzoL4Gon3B8DzfOX4K6RouR4Natols\n",
       "Gcjoi6djq5oat0EcOw3yNgqHPDUh7yf1QsQCZ5LpiA3IOxSDO728was5wmnEbauBlcKypwbkaYj8\n",
       "n527ZYYU9j87ieZdIWZ68Vbh2XeFmOnlaYD/AZkl9iYNKVJQAAAAAElFTkSuQmCC\n",
       "\" style=\"display:inline;vertical-align:middle;\" /></a><br>"
      ],
      "text/plain": [
       "<IPython.core.display.HTML object>"
      ]
     },
     "metadata": {},
     "output_type": "display_data"
    }
   ],
   "source": [
    "assumptions = (Equals(m, Add(j, one)), InSet(subtract(m, one), Natural), InSet(i, NaturalPos), \n",
    "               InSet(j, NaturalPos), InSet(m, NaturalPos),#InSet(Add(j, Neg(i), one), Natural),\n",
    "               Equals(j, subtract(Mult(two, i), one)),\n",
    "               Equals(Add(j, Neg(i), one), i),\n",
    "               Equals(Add(j, one), Add(i, i)))"
   ]
  },
  {
   "cell_type": "markdown",
   "metadata": {},
   "source": [
    "The last two assumptions are redundant so we don't have to bother proving them for this demonstration.  They were chosen to give us precisely what we need for proving the requirements needed for our lambda application demonstration.  Now let's make some needed alternatives to $(A_1, ..., A_m)$ and prove they are equivalent to it by calling the `ExprTuple.merger` method which will automatically apply some theorems."
   ]
  },
  {
   "cell_type": "code",
   "execution_count": 37,
   "metadata": {},
   "outputs": [
    {
     "data": {
      "text/html": [
       "<strong id=\"alt_A_form1\">alt_A_form1:</strong> <a class=\"ProveItLink\" href=\"__pv_it/lambda_indeterminate_params/85c8774d8bc6f88fd42bf866df6a73c2bb50ea920/expr.ipynb\"><img src=\"data:image/png;base64,iVBORw0KGgoAAAANSUhEUgAAAWQAAAAWBAMAAAAFqPttAAAAMFBMVEX///8AAAAAAAAAAAAAAAAA\n",
       "AAAAAAAAAAAAAAAAAAAAAAAAAAAAAAAAAAAAAAAAAAAv3aB7AAAAD3RSTlMAInZUiRDNmWbv3US7\n",
       "qzJazP2FAAAACXBIWXMAAA7EAAAOxAGVKw4bAAADM0lEQVRIx9WXT2gTQRTGv81mu20SkihaEZRG\n",
       "QeuhxRy0YBFaRbyJa0XoodoKCr01h0o9WMjJUw+9eBIkICIqiOjFXsQWRIRgQ+/S4M0itsW2iKhx\n",
       "dqbZzJvZSdaL6INsZt5877dv5+8ugCz+I7P8SyzPy51qY2eE+DFjU2dkZQSsBEvm2OWYKE+ogROt\n",
       "2W1rxqaJyMoIWBl2BHDEI9k1RaY5QmzAmIgaPfAnKatiAmvz4BZ5yV1WprTmCLHpdVOLGm1WRsAS\n",
       "WHsBHaJ06nyV6jSHbvFdv0xNSnQTZQQshd1Bn5jxuaN5ugRUR4jtjH01LSAl2qyMgFVg45gUfY+B\n",
       "Ih0M1RFiBfubaV4o0WZlBKwCO8eS9u0FVgeJTnPolsynN9jfhZAmEe1kWyuNWFQNqdzGffFk6KoA\n",
       "w40NkTucMx88M9uF9ZP9na7X1WjEc62VRiyeUlhgJ3CXHydvp5ZfI32wVPcLhwu3ZGb3TE3/kKpa\n",
       "dKjSpcrWWA22KlIeAjIMYwco4cg8s8wr3WF9+J1sn0p0qDJFlRGwCgxzYmIUgMSsjBKOdq9Jyn5/\n",
       "PQKeV/SURXSyN0TZMuVtsdOdp6nc/Ngbm/Hndz8W/BlfFKekj+KTt+5AvARH7wh+fclPUie3Kacs\n",
       "Rw9lPFGXlUHKOlYWw7XHhGQbNjxX7KjE/IeeYXsGsNdnrXOUswXJgRUPo2ytcC8pwGKjgsWsdbEk\n",
       "pUyid/eLOlEGKVNaUNsW41K8IFrqsMPIVF1/55jECjBSuw57cWuQox57ksN6w0blAdM9ZL9EoV5g\n",
       "Hmdxy8PJ2jWkcvhcZpbVoxd4XVbeKr8rl4tcSbH8IovRVuSSALaET0j4k+UJElW6gGx5W9uDHcBx\n",
       "bQRlz+gVU7SzWSV1rmzMZR1Lbp3JUsk99KArzYah5L9mkJTj8lH5/ssNQD9SZE+fa4q2xwqkzpWN\n",
       "lHWsLGZ9SiTWGuvnGUbwX+PmG+6zGzl/Twmso1Zb47uOvg8FdvmAKdpZypI6V6bqSh1LxOil90lW\n",
       "cBX7DwH7WGWExmmkGFp7jNEaLdUEQsTjhvvM8xelv/nt5kb8MHk1G94Q+2e/VN1u88vNb/PaDR/j\n",
       "NfqDAAAAAElFTkSuQmCC\n",
       "\" style=\"display:inline;vertical-align:middle;\" /></a><br>"
      ],
      "text/plain": [
       "<IPython.core.display.HTML object>"
      ]
     },
     "metadata": {},
     "output_type": "display_data"
    }
   ],
   "source": [
    "alt_A_form1 = ExprTuple(var_range(A, one, subtract(i, one)), A_i_to_j, A_m)"
   ]
  },
  {
   "cell_type": "code",
   "execution_count": 38,
   "metadata": {},
   "outputs": [
    {
     "data": {
      "text/html": [
       "<span style=\"font-size:20px;\"><a class=\"ProveItLink\" href=\"__pv_it/lambda_indeterminate_params/25affb7a8c81ead7ae47a3a75d143c7ed8067f4d0/expr.ipynb\"><img src=\"data:image/png;base64,iVBORw0KGgoAAAANSUhEUgAAADwAAAATBAMAAAA+KHOiAAAAMFBMVEX///8AAAAAAAAAAAAAAAAA\n",
       "AAAAAAAAAAAAAAAAAAAAAAAAAAAAAAAAAAAAAAAAAAAv3aB7AAAAD3RSTlMAdpndiRBmRO8yVM2r\n",
       "IrsWj4mGAAAACXBIWXMAAA7EAAAOxAGVKw4bAAAA4UlEQVQoz2NgwA0UGPCCB6RLs9q/28rA0t8O\n",
       "lxZCledbUMPAEI/QbYIqzWPLksDAwcD07l3fu2eYpvOsY9jLwIxht5yx8Qaw9DWB25jS1aIw3RdO\n",
       "MjrApVmFEkBM3q1wwy/wMTyHS7OwN4CY3BcQ0pwKwcGwUJvFBLaRG+G0CwxZXC9gvAAOARA1wxgI\n",
       "HkCleQJOwFWvDwCRcci6WQ8Ew7l7WEEkM7I0w0Q+eBh/ZwFRjALwQJ0A5M2D8Tg/XAPTu2AC3AuA\n",
       "hDbcsGNgfzPEPA+AKN/fBySjMcK65DEkUFEAAOa+ODepc/WBAAAAAElFTkSuQmCC\n",
       "\" style=\"display:inline;vertical-align:middle;\" /></a>, <a class=\"ProveItLink\" href=\"__pv_it/lambda_indeterminate_params/319413f06f46b6c6a6feca32af6ea654909c0e480/expr.ipynb\"><img src=\"data:image/png;base64,iVBORw0KGgoAAAANSUhEUgAAAIgAAAAVBAMAAABvbLv8AAAAMFBMVEX///8AAAAAAAAAAAAAAAAA\n",
       "AAAAAAAAAAAAAAAAAAAAAAAAAAAAAAAAAAAAAAAAAAAv3aB7AAAAD3RSTlMAMrsQds2rme9mIlTd\n",
       "iUQmv6lAAAAACXBIWXMAAA7EAAAOxAGVKw4bAAABuElEQVQ4y3WUMUgCYRTHn6nneZ7WXuFFTU4S\n",
       "NXcQJLUkBIJTTUWbS0hQELSXBNXY0RJFg0vQUGRLDVY4uerQ0Gi0NWjvu+/z7N49H/w9ed/j9973\n",
       "fe99AKw5SkFvwAwYYpGqFLFPLjZlu5/QNF14lLramfrnzEGkQgMnsgDLMm+eLIXzrgwLWu2B9x1g\n",
       "jcRtrSMkmmV3E6u40hzQD3wL5zRyFQHxEgvRpfQf0H79C1kGAocs5E5Kq4H27VuIVjhIETW3RCH7\n",
       "SgBmx9t/DgHJDQ7SRJV0wY+9ueZGFZUA0nY/PJnC44nnOcgp3o0zSjuirgTw4vnGYwhIHHCQe6wT\n",
       "nuhxHSlBzBK/CyJ/VseiQmJ3827JzwNIWvzbg2GQM3kw7h2KVCm2ki/VRf4z6W8n0YAbL74QRkeN\n",
       "gzyICerSSmaUJgEWvdvpJvFgLQ5ygop3KKQpZbyWy17qUOcay22QyJajukGzAmMlZfZ6vcGdbmMj\n",
       "mG1/4OZxAb0fopdtCjHHpAJ2yz4o2NjVi8AUipFix2p3yLimq/WgP6NEc1oc5BI5uXbQP6tEbIR9\n",
       "HzNDnkfDliK2wj6lDvwB+wZquh1CeLoAAAAASUVORK5CYII=\n",
       "\" style=\"display:inline;vertical-align:middle;\" /></a> <a class=\"ProveItLink\" href=\"__pv_it/lambda_indeterminate_params/e94a0a74278bf44d2cf3dd4f0866a58d271314830/proof.ipynb\" style=\"text-decoration: none\">&nbsp;&#x22A2;&nbsp;&nbsp;</a><a class=\"ProveItLink\" href=\"__pv_it/lambda_indeterminate_params/25affb7a8c81ead7ae47a3a75d143c7ed8067f4d0/expr.ipynb\"><img src=\"data:image/png;base64,iVBORw0KGgoAAAANSUhEUgAAADwAAAATBAMAAAA+KHOiAAAAMFBMVEX///8AAAAAAAAAAAAAAAAA\n",
       "AAAAAAAAAAAAAAAAAAAAAAAAAAAAAAAAAAAAAAAAAAAv3aB7AAAAD3RSTlMAdpndiRBmRO8yVM2r\n",
       "IrsWj4mGAAAACXBIWXMAAA7EAAAOxAGVKw4bAAAA4UlEQVQoz2NgwA0UGPCCB6RLs9q/28rA0t8O\n",
       "lxZCledbUMPAEI/QbYIqzWPLksDAwcD07l3fu2eYpvOsY9jLwIxht5yx8Qaw9DWB25jS1aIw3RdO\n",
       "MjrApVmFEkBM3q1wwy/wMTyHS7OwN4CY3BcQ0pwKwcGwUJvFBLaRG+G0CwxZXC9gvAAOARA1wxgI\n",
       "HkCleQJOwFWvDwCRcci6WQ8Ew7l7WEEkM7I0w0Q+eBh/ZwFRjALwQJ0A5M2D8Tg/XAPTu2AC3AuA\n",
       "hDbcsGNgfzPEPA+AKN/fBySjMcK65DEkUFEAAOa+ODepc/WBAAAAAElFTkSuQmCC\n",
       "\" style=\"display:inline;vertical-align:middle;\" /></a></span>"
      ],
      "text/plain": [
       "{i in NaturalPos, j = ((2 * i) - 1)} |- i in NaturalPos"
      ]
     },
     "metadata": {},
     "output_type": "display_data"
    }
   ],
   "source": [
    "# And maybe we'll have a simpler way to do this:\n",
    "assumptions[5].sub_left_side_into(assumptions[2].prove(assumptions=assumptions), \n",
    "                                  assumptions=assumptions)"
   ]
  },
  {
   "cell_type": "code",
   "execution_count": 39,
   "metadata": {},
   "outputs": [
    {
     "data": {
      "text/html": [
       "<a class=\"ProveItLink\" href=\"__pv_it/lambda_indeterminate_params/0532807d38b7131924c2afd008695d24f95ade6c0/expr.ipynb\"><img src=\"data:image/png;base64,iVBORw0KGgoAAAANSUhEUgAAA5AAAAAZBAMAAAC1NdyaAAAAMFBMVEX///8AAAAAAAAAAAAAAAAA\n",
       "AAAAAAAAAAAAAAAAAAAAAAAAAAAAAAAAAAAAAAAAAAAv3aB7AAAAD3RSTlMAZkRUmRDNuyLviTJ2\n",
       "3asqG0tJAAAACXBIWXMAAA7EAAAOxAGVKw4bAAAHj0lEQVRo3u1aX4hUVRj/Zmbv/J9xMtGXyDEo\n",
       "MKLmxSRJXMMUQuE+WQ+uO0tIPtQ6GTVKCuOLviRuQYhhOD1FEbZQJEGyE22lZTakliibK1aulLms\n",
       "rCkFds655557zrnfuXN29cEFD5zL3Tu/8/u+7/edf/fcBYDZcOeVbgtM1+0km9mFRZiIiLNh87wR\n",
       "YSE9Tc9qFpjU7SFLo242bi1uaw0aU3ieNiJ30Zu1Ziv5iuGHR2xAtMRb2oOef15z4YMbZQzsnKtv\n",
       "gOyBtyK1DwiiE2lFRstXvJojnEbckRpMVWHZUxwZoyZeNptZQi+HXPVh7hSxX9JAaDlMWn6pP3wl\n",
       "PgrOOP9jWBtjlUcBerVBlHvVQNBhRFqRkQmpyWp6xQuDwcNhJcKIuHVx8t02GgSBWykseRri556S\n",
       "FukBc6eu0us36sP1KyfJdYMGwlr/tok4mNSchMuN9wB8m2fU34qnsyXIaNrnqwaCDom0IvMmpLV0\n",
       "cspOBA/PyBFGxa2JA4WmjQYicCuFZU81fuHpcbJlaJp3E0qvWOBrQc3MMYCU8iMJIKZ3oQu1ZAPa\n",
       "Bu0Xw0YoQFe9vrdunCg4war61nq9FJVIGzKA5V4dA9inPJ8TmgWt45bEwjWYmsKypyF+jux1YVbZ\n",
       "6E1G+etJ2UzGxUGhRMLbvNX2kZ/Zzdh96aqeyG9HRljXLO5o7STao8tamMAwIn1gFJlUBrx6wIUr\n",
       "ygYj42KJtIpbEkvRYJoKy56G+DkyWYIh1+jN42YzyRIOCieyz1vwX/TNjBUHv9MS+dDX/iBq/Jlv\n",
       "4tojBHgiBTCCTF54ql69DHBlUP4hWcISaRV3KJF9t6Sw5CmaSIrsqsEPJPbjz320LffhZt3MM3QW\n",
       "PzaKmcmOSiBTexbEQXa7U3SXMailyl4inWHmbFosB8VGCjZr2q87biIQiVTsC2AEmTy5NcXqck6s\n",
       "bNSvIEJj3JI4Pv9yNJEH9e3DcGkKCkue6vzC0/wA/EHuUn9B72x4gsFHWGEsfeyt+03MTEx0jz61\n",
       "fSiRc9ntRgjy8KlzyktkNs5mi2QjSGSuu6dH1b47UzIQiEQq9jdakK1hMf7qd2ev8+f+E3zUr1gV\n",
       "S6QStyQOL82FaCLnasrywC0U1jzV+YWn8UmoAzxQqMGeFszXE3GC1CNwFTOTGJBApvYsCE/eqpSH\n",
       "WGWx1/qTLvY4GexPGnBvYqtyGJNvzKoYCMTJjmK/akEmbzMrXiVXMQSYX4kBLJFK3JI4/L2hshJN\n",
       "pN7FeeCWCgeehviFp7l/oR/A7S3DMhdW6omgL9NuYpL3jH28ZzAzuXEJJLdfy7rQ2SCIIRbhu+Th\n",
       "LzwP8HvRc9LNsFflz2mLGte+6F5SZyHKbCLgRbYfAM1kynaj7FWAVQxxzfeLRei8xMIZxOPm4gQg\n",
       "B/ZrYkkayA5nWlNQOPA0xC88TU/ASfL3MqAqvIMlErraWH+JD8ggQ3sWBJsMnJo0oGC9wzk9WZ+V\n",
       "R6Qz2qOxrIkg4EWyHwDNZGgiY96APOn7FUdHpBp3II6/IZlER+RC3arfn6wUljwN8fueOhN0RNJ1\n",
       "8gzErzvaGnlCecVVB35bnmKk9qFELmW3bTkPuRZXu5+1KMiJhC9S6LszTsCLbL9tQSatPGJqXQJp\n",
       "sVZTvxJtdGpV4g69nydHXSyRS/XdR7+DkSAKa56G+H1P02xqJX2ZZLRY3aG5vo1e9pTRpbjGZioO\n",
       "MrRnQcxjt8fEw9dJ/b7G2joTWUYoziJTZHrKHwomQranncAJ/FkKNPvHcDIPmJ4IHeS1vJprQt6f\n",
       "dplfsRq62VHiDsThpbfcxBI5T9+1EgOOjcK6pzq/8DR3HS6ydMbGIdXUz3jYrnm+/uqSvc73wtBb\n",
       "9UCm9h83+A6bdCWxyXietq6ytrnxHeJRgBJLNaOnzCgBj4SuaYp9AVTJGNAnkwrdu9O6e8UKMe0y\n",
       "v0InXuG4IbS/G0qXtERKGkibImIAIQkrrHuq8wtPya71KLm26WFsfLX+6eQwvVzUzBQvXTtPxjnt\n",
       "RYVTHsjQ/u8D/cTsT56OFx/0Hn52o8aOGFnb855b6zd7YyG3aa/8NYZBoFjDCXgZcTX7PlAjY0Cf\n",
       "TNa07dVzN29eEw+pXwVtsCFxS+L4oHu0nMgaSIUYQEjCCuuehvh9T2MD8Jj5ZKdAd2v7scME2M2u\n",
       "i3xQxMc4vqjE3+cnbH5ZJN0/vH0EO3pnEH+DFyLg24uQ+1HATPiL0lle9bIbDUeLe3/Hkx1Zg3B0\n",
       "HRXWPcWgFNk1yvfeaIl1w4XYJHZOyw9wmxB1Ihx9ttzs/CGPQIqV+W4kJguWJWsgm4MeUKtH1Ia4\n",
       "JXGMh+ZmDZo2CpuO8RdoyGQp6usHbMldLaBfPtNsinJY/94Sqd8u00euVkfpKWSociIatM42kesM\n",
       "ZKmGV9EII+M2iWOnQQcSxD7ipUD2upAzf48kb3irn0J/8DjzoL4Gon3B8DzfOX4K6RouR4Natols\n",
       "Gcjoi6djq5oat0EcOw3yNgqHPDUh7yf1QsQCZ5LpiA3IOxSDO728was5wmnEbauBlcKypwbkaYj8\n",
       "n527ZYYU9j87ieZdIWZ68Vbh2XeFmOnlaYD/AZkl9iYNKVJQAAAAAElFTkSuQmCC\n",
       "\" style=\"display:inline;vertical-align:middle;\" /></a>"
      ],
      "text/plain": [
       "(m = (j + 1), (m - 1) in Natural, i in NaturalPos, j in NaturalPos, m in NaturalPos, j = ((2 * i) - 1), (j - i + 1) = i, (j + 1) = (i + i))"
      ]
     },
     "metadata": {},
     "output_type": "display_data"
    }
   ],
   "source": [
    "assumptions"
   ]
  },
  {
   "cell_type": "code",
   "execution_count": 40,
   "metadata": {},
   "outputs": [
    {
     "data": {
      "text/html": [
       "<span style=\"font-size:20px;\"><a class=\"ProveItLink\" href=\"__pv_it/lambda_indeterminate_params/649ae346ef247b1d190476e522e54e82e6fe76a10/expr.ipynb\"><img src=\"data:image/png;base64,iVBORw0KGgoAAAANSUhEUgAAAD8AAAAWBAMAAACF0lkSAAAAMFBMVEX///8AAAAAAAAAAAAAAAAA\n",
       "AAAAAAAAAAAAAAAAAAAAAAAAAAAAAAAAAAAAAAAAAAAv3aB7AAAAD3RSTlMAMrsQds2rme9mIlTd\n",
       "iUQmv6lAAAAACXBIWXMAAA7EAAAOxAGVKw4bAAAA+klEQVQoz2NgwAPYGQgAJjIV2HxSNWC48eMB\n",
       "QgGjMqoKbb4EBuYPSCawBKAqyFlwk4GhgaFISUNJaQI2O7IVWBcwHMB0A4vOmaNgRtYUrgAsCvhC\n",
       "DKCsLDYBX2QFJm5gailMniGLQYHpAZKCAg6wS6IYEArEmQ8fgIckywL+DSA6AEkB54ZNDXAuM8N+\n",
       "kOGMPWfOnDkEVcCQzNaA5LwasDoFJBMYzJgPICk4CyYPICtgdECoZ+D6B6Zc4AKKQOyIpIDzA5hi\n",
       "3QATiAZ5ACn42SCKmZMeQ/iiP4ACzEgKOBygQXkJGtSogG3DfAO8qUZ+w2n8yYrd/QFeeQD5RTWT\n",
       "DhgrWwAAAABJRU5ErkJggg==\n",
       "\" style=\"display:inline;vertical-align:middle;\" /></a>, <a class=\"ProveItLink\" href=\"__pv_it/lambda_indeterminate_params/25affb7a8c81ead7ae47a3a75d143c7ed8067f4d0/expr.ipynb\"><img src=\"data:image/png;base64,iVBORw0KGgoAAAANSUhEUgAAADwAAAATBAMAAAA+KHOiAAAAMFBMVEX///8AAAAAAAAAAAAAAAAA\n",
       "AAAAAAAAAAAAAAAAAAAAAAAAAAAAAAAAAAAAAAAAAAAv3aB7AAAAD3RSTlMAdpndiRBmRO8yVM2r\n",
       "IrsWj4mGAAAACXBIWXMAAA7EAAAOxAGVKw4bAAAA4UlEQVQoz2NgwA0UGPCCB6RLs9q/28rA0t8O\n",
       "lxZCledbUMPAEI/QbYIqzWPLksDAwcD07l3fu2eYpvOsY9jLwIxht5yx8Qaw9DWB25jS1aIw3RdO\n",
       "MjrApVmFEkBM3q1wwy/wMTyHS7OwN4CY3BcQ0pwKwcGwUJvFBLaRG+G0CwxZXC9gvAAOARA1wxgI\n",
       "HkCleQJOwFWvDwCRcci6WQ8Ew7l7WEEkM7I0w0Q+eBh/ZwFRjALwQJ0A5M2D8Tg/XAPTu2AC3AuA\n",
       "hDbcsGNgfzPEPA+AKN/fBySjMcK65DEkUFEAAOa+ODepc/WBAAAAAElFTkSuQmCC\n",
       "\" style=\"display:inline;vertical-align:middle;\" /></a>, <a class=\"ProveItLink\" href=\"__pv_it/lambda_indeterminate_params/319413f06f46b6c6a6feca32af6ea654909c0e480/expr.ipynb\"><img src=\"data:image/png;base64,iVBORw0KGgoAAAANSUhEUgAAAIgAAAAVBAMAAABvbLv8AAAAMFBMVEX///8AAAAAAAAAAAAAAAAA\n",
       "AAAAAAAAAAAAAAAAAAAAAAAAAAAAAAAAAAAAAAAAAAAv3aB7AAAAD3RSTlMAMrsQds2rme9mIlTd\n",
       "iUQmv6lAAAAACXBIWXMAAA7EAAAOxAGVKw4bAAABuElEQVQ4y3WUMUgCYRTHn6nneZ7WXuFFTU4S\n",
       "NXcQJLUkBIJTTUWbS0hQELSXBNXY0RJFg0vQUGRLDVY4uerQ0Gi0NWjvu+/z7N49H/w9ed/j9973\n",
       "fe99AKw5SkFvwAwYYpGqFLFPLjZlu5/QNF14lLramfrnzEGkQgMnsgDLMm+eLIXzrgwLWu2B9x1g\n",
       "jcRtrSMkmmV3E6u40hzQD3wL5zRyFQHxEgvRpfQf0H79C1kGAocs5E5Kq4H27VuIVjhIETW3RCH7\n",
       "SgBmx9t/DgHJDQ7SRJV0wY+9ueZGFZUA0nY/PJnC44nnOcgp3o0zSjuirgTw4vnGYwhIHHCQe6wT\n",
       "nuhxHSlBzBK/CyJ/VseiQmJ3827JzwNIWvzbg2GQM3kw7h2KVCm2ki/VRf4z6W8n0YAbL74QRkeN\n",
       "gzyICerSSmaUJgEWvdvpJvFgLQ5ygop3KKQpZbyWy17qUOcay22QyJajukGzAmMlZfZ6vcGdbmMj\n",
       "mG1/4OZxAb0fopdtCjHHpAJ2yz4o2NjVi8AUipFix2p3yLimq/WgP6NEc1oc5BI5uXbQP6tEbIR9\n",
       "HzNDnkfDliK2wj6lDvwB+wZquh1CeLoAAAAASUVORK5CYII=\n",
       "\" style=\"display:inline;vertical-align:middle;\" /></a>, <a class=\"ProveItLink\" href=\"__pv_it/lambda_indeterminate_params/28402e1fc4cc6203230d8176d5fd8a82a992957c0/expr.ipynb\"><img src=\"data:image/png;base64,iVBORw0KGgoAAAANSUhEUgAAAG0AAAAVBAMAAAC+p33JAAAAMFBMVEX///8AAAAAAAAAAAAAAAAA\n",
       "AAAAAAAAAAAAAAAAAAAAAAAAAAAAAAAAAAAAAAAAAAAv3aB7AAAAD3RSTlMAInZUiRDNmWbv3US7\n",
       "qzJazP2FAAAACXBIWXMAAA7EAAAOxAGVKw4bAAABnElEQVQ4y2NgYBBgwA0YcUsxGeDRx62AJhD1\n",
       "51gAg+fPDQwMJjg1vQpgYNBAFzzMfYGB9QMDA2sCDl2s1/OB+tgC0IRvCXgwMExgYGBvwGmfPlAP\n",
       "RwGa4OUDbAIMCxgYOBnw6mOYCg2FU6uWgRkXmxgTQPrMCOjLgIRPEsy9F3kfqID0lQDZm66K6Cg8\n",
       "8dmATZ8vmCkG9+ZFhgM8GxZAzHM4q8D6YwPzBGz62sDMRAaEvuesS4H6FgMdsWENA+MnBo4P2PRZ\n",
       "gpkJSPo4DGyANswGhjjrbwbmrwzsIMmwVSCwDqHvPYjFNwsouAaqj+EqL0QfA/MHkCZOB2z27QTH\n",
       "5QEk+xhiWSHuZOBNYOByYNgvEIBFnxWYuQBZH58C0JhDQDbQpvgNDNcYG7Do6wEzleCC54BY7wAk\n",
       "nOUfMPQzMBxhQXOnPyinlICZbPDEnwzEoJB4BaR3MTCoMzBsV0TVdnd+LtABqyGJ9c5WiOCznwcg\n",
       "aZrrAQM+wAj1GbcPNJ3BAEbCRQW4k/1BvPpkcMrE4NWH21RGBTzamHAVPgCYW2etbzbyGQAAAABJ\n",
       "RU5ErkJggg==\n",
       "\" style=\"display:inline;vertical-align:middle;\" /></a>, <a class=\"ProveItLink\" href=\"__pv_it/lambda_indeterminate_params/91d6cfbadf5d23721bc0c34087a83223b7072ae10/expr.ipynb\"><img src=\"data:image/png;base64,iVBORw0KGgoAAAANSUhEUgAAAGkAAAAVBAMAAAC3TN2zAAAAMFBMVEX///8AAAAAAAAAAAAAAAAA\n",
       "AAAAAAAAAAAAAAAAAAAAAAAAAAAAAAAAAAAAAAAAAAAv3aB7AAAAD3RSTlMARHarECKJuzJmVO/d\n",
       "mc2qKiq2AAAACXBIWXMAAA7EAAAOxAGVKw4bAAABVklEQVQ4y2NgwAkCSBQHA6YFOCSE8OlaBiLa\n",
       "HVAFOY4AjZuAWxPLAxCphyrofO8LkHyCWxcvsomMMA4TSNdc3Lq4kTlcCsi6uB1w6lqHWxffBAZG\n",
       "ZdekIo60QnRd10B+UzLApovNgIGN3YjBfyLDarBfzoABWOlLEJ9hJzZdnA8YBHkKGOIVGOaj23UK\n",
       "iFUZfmHTxbWBwcFfgGG9A8M9dF0bgdiB6wvEBaf3QF0A1sXxgYFhPQNIyzZsuhh4D2Czi3EDA4Md\n",
       "A8MxBsavLGj+ArmQgScBqwsPgGxh+cjA/CASza4iEBEvgDU0ChhYfzBwfmBgT0hA05UMIuajxxfb\n",
       "V5CTEhgYDzAwXWBgvISe/ntAhDmaLmbrf5ZAdwvgTBs8DUBiE7pdYBCDOx1yXmCw4vyCnnrB4Cae\n",
       "/FXK8YsHa8ZkLcCjy53h0kWsEuz4igBWBRwSqgwMACgCWJr3WQr3AAAAAElFTkSuQmCC\n",
       "\" style=\"display:inline;vertical-align:middle;\" /></a> <a class=\"ProveItLink\" href=\"__pv_it/lambda_indeterminate_params/27c0644536bfeff33e9930b1128130694a1df3b40/proof.ipynb\" style=\"text-decoration: none\">&nbsp;&#x22A2;&nbsp;&nbsp;</a><a class=\"ProveItLink\" href=\"__pv_it/lambda_indeterminate_params/63525346a43e038aff0c13ed8829f97d29c6408c0/expr.ipynb\"><img src=\"data:image/png;base64,iVBORw0KGgoAAAANSUhEUgAAAhkAAAAWBAMAAACf/ZNEAAAAMFBMVEX///8AAAAAAAAAAAAAAAAA\n",
       "AAAAAAAAAAAAAAAAAAAAAAAAAAAAAAAAAAAAAAAAAAAv3aB7AAAAD3RSTlMAInZUiRDNmWbv3US7\n",
       "qzJazP2FAAAACXBIWXMAAA7EAAAOxAGVKw4bAAAENElEQVRYw9WYTUgUYRjHn9kP90NbJWyhMFyF\n",
       "IkLJg+1hCdw8FATSZB08WG6QIHTYpQxFELyUhyQ8BvYhLBIJQdilDsHopQ6Si9DZxUvooZRSog+3\n",
       "d953Zvb9mHdnxqSPgV1m3vn/f/M8z7xfuwBQB//TUeeybZdkXxs+j/M3lYwzIC69w7vjXuKKV4DN\n",
       "iXIjAyFgjxlgcjs5z/K6qg1nVlZ6h3dnvVQjWwHmGxPk7ZKAPWagk4OkgP4Sr+twZokmmbuC0gWW\n",
       "gfXzciMDMWCvGSByiNQ6tMIPvtFNR5ZokrkrKF1gGdi4IB+TBOw1A0SOkLPT54usLlC/48gSTFK3\n",
       "XOkCy8IiKiePSAL2nAEiJ8mEkzjRxur2+z47oUSTzF1B6QLLwqr4iSMpCdhzBog8SHoMdHAPyfm/\n",
       "OnYzwSRzV1C6wLKwQIHTD0oC9pwBIg/gkxfwKc3oqttiX5xYxBS0mREM9wVnpRQLMUkoYTxpjszq\n",
       "xzP9dMA+YPcZUOQ8qSM0opL3ZKiqKT8BLnW9r8AipkDCnNvvcG7odFZKsRAtsjBrGZjk9HlKJcTg\n",
       "JgOKPIWX2jdDKxrEmqetOy1Doz909YgcRUzlY/U457ZV5lilM5aHxfh1c4pSCTF4yQCRMasboBZV\n",
       "wm9VI4he4zeA79AoXwsMU/lIcW5bpcYoXWB5WPWkXTVMVeo3MkDkvPHCopN0NULo8xTgdiUWMVW3\n",
       "itUw3HMFG6VjNYxYum+ysPF7zYVj78AMkpo38pRKiMFFBuHh1VbfRBGTF/SijJFtrP6gINa9NDet\n",
       "54wG5sArvmHqrlWpatDuYGKLXDNKqxqqgKXFkEsaEgN29z48BL2eYY2zLdABp7xn0PNqLFLwFTC5\n",
       "CzUfRJ+aTVKNPn0mVfTeuISWgNgMadC/gtv0iWk6kKL7Bu1WLk6Ta0ZpVoOlWQ8xxUH1LLljwroz\n",
       "sIMX01Cay6yLDji1iwyOQm1Rp6LPOkBvqR/8S9tpXI3oDBIvbatwqnQNoEHFDRDVJ78n5smsSpkW\n",
       "ILaIjnkcCeOuSeBrShlaXHyw+Jb0DR3CYhmxvnAiiQXbl4iRYR19zlVjnQ44tYsMlmENom2YHKWG\n",
       "FR6SJ+m9Wk6pYxoMHdXLg1tFet6gxX1XmGuitEaKXxwqzJM2WUmk6NOUDUQ4xLvoDIQYXGQAj6AF\n",
       "GmOYHM5x1aA7YsPHDyqkxV8hNDeToyOhxckQc02UVjUC4mimzagnMJJG1DvCGiIM8y46AyEGFxko\n",
       "G6h3TIQIeb7cfOZLAq9M1vG4VGIbrJWp/MaXzR1mfbaTFV9uYq6JUjOUDKS8KJb3AgVW8hqq6pRl\n",
       "FRRN8JUzEGNwkUF1Aa7C4SOE3MvtSIQtivgOE/L9jKNZk0MYsf7jzO45NeL2fo8ywGQl8Uf/18y5\n",
       "k11fk9xosvsluieRNf27fwbfuPU3nvoLaUSRYd0cxUIAAAAASUVORK5CYII=\n",
       "\" style=\"display:inline;vertical-align:middle;\" /></a></span>"
      ],
      "text/plain": [
       "{j in NaturalPos, i in NaturalPos, j = ((2 * i) - 1), (m - 1) in Natural, m = (j + 1)} |- (A_{1}, A_{2}, ..., A_{i - 1},A_{i}, A_{i + 1}, ..., A_{j}, A_{m}) = (A_{1}, A_{2}, ..., A_{m})"
      ]
     },
     "metadata": {},
     "output_type": "display_data"
    }
   ],
   "source": [
    "alt_A_form1.merger(assumptions=assumptions)"
   ]
  },
  {
   "cell_type": "markdown",
   "metadata": {},
   "source": [
    "Here we employ a trick using an `InnerExpr` object.  We'll discuss how that works in a later chapter."
   ]
  },
  {
   "cell_type": "code",
   "execution_count": 41,
   "metadata": {},
   "outputs": [
    {
     "data": {
      "text/html": [
       "<strong id=\"alt_A_form2\">alt_A_form2:</strong> <a class=\"ProveItLink\" href=\"__pv_it/lambda_indeterminate_params/8cac6f539f025b4f038b575365d2d5f203505df80/expr.ipynb\"><img src=\"data:image/png;base64,iVBORw0KGgoAAAANSUhEUgAAALYAAAAWBAMAAACfwnvZAAAAMFBMVEX///8AAAAAAAAAAAAAAAAA\n",
       "AAAAAAAAAAAAAAAAAAAAAAAAAAAAAAAAAAAAAAAAAAAv3aB7AAAAD3RSTlMAInZUiRDNmWbv3US7\n",
       "qzJazP2FAAAACXBIWXMAAA7EAAAOxAGVKw4bAAACQ0lEQVQ4y7VVTWgTQRh9u5vNNBtJomhFUBoE\n",
       "rYcWc1BBEVpBvImLIPRQMIJCb91DS70U9uQph148FUqgFFFBBC/2IiqINxO8S4O39mBTLEFEu87M\n",
       "l3Rn9k+h+GB2Z95+783fN7MAKvgfMMTDrMn6cPTj8D/o6+maYpU/LlB9Niqc/bt3vpuhOQfY1LcV\n",
       "RMJiRAImuhmavAvmyxrbiCx7jEjA4k6GZshDgWrXbnX0uBgRR+7oXpbmMS7RrlTP1/RtihIJOGJ+\n",
       "z9LMYI5mgwlfn16USIBn/cjS3OTuAq+wPanFxYg4irXSrnh3UjSPsEpDwEgbmArzVRL29S9uujeD\n",
       "8Vu8X2iaEJexLM/Px4WNtyidbg54IhhYM917bGHxl9omTYht8r4NlLmLte9ERPmlsZdqbfOD91Ml\n",
       "+ib7WKc18QBnSfUmYsjN8Ga8POVdjNZ0zcOv42ZD7MEVvBe74tP5Fd42FAK5JhE65Ca8pjPOrLqm\n",
       "mVr3C21TrHuDZwpwgpdDO+R9t64Q2HIlYfeAsCIfBp8nWhXcyXma5thZlDtM5MsctoDp4AGsVm9S\n",
       "ejtrCmF8IAJPeHG8fgXPXNitnourwX0+Vl/XfMYmHLFOz+Eox1Su90Vl8sdxWCf6cWpmlit6yArG\n",
       "MFLiE2uKK0X3VtLf+PRtXiMGF4na2IxounzkDb7R4hJ8F9I3dqsytQYoBEFXI8JsCzEOLaTYxj2c\n",
       "OgOc5I1pXWdGjcx4nmi9zSSG0JiN6kF+i/k3S8kfzIP/htlo+o3zB19amUxJqambAAAAAElFTkSu\n",
       "QmCC\n",
       "\" style=\"display:inline;vertical-align:middle;\" /></a><br>"
      ],
      "text/plain": [
       "<IPython.core.display.HTML object>"
      ]
     },
     "metadata": {},
     "output_type": "display_data"
    }
   ],
   "source": [
    "alt_A_form2 = alt_A_form1.inner_expr(assumptions)[:2].merged(assumptions=assumptions)"
   ]
  },
  {
   "cell_type": "code",
   "execution_count": 42,
   "metadata": {},
   "outputs": [
    {
     "data": {
      "text/html": [
       "<span style=\"font-size:20px;\"><a class=\"ProveItLink\" href=\"__pv_it/lambda_indeterminate_params/649ae346ef247b1d190476e522e54e82e6fe76a10/expr.ipynb\"><img src=\"data:image/png;base64,iVBORw0KGgoAAAANSUhEUgAAAD8AAAAWBAMAAACF0lkSAAAAMFBMVEX///8AAAAAAAAAAAAAAAAA\n",
       "AAAAAAAAAAAAAAAAAAAAAAAAAAAAAAAAAAAAAAAAAAAv3aB7AAAAD3RSTlMAMrsQds2rme9mIlTd\n",
       "iUQmv6lAAAAACXBIWXMAAA7EAAAOxAGVKw4bAAAA+klEQVQoz2NgwAPYGQgAJjIV2HxSNWC48eMB\n",
       "QgGjMqoKbb4EBuYPSCawBKAqyFlwk4GhgaFISUNJaQI2O7IVWBcwHMB0A4vOmaNgRtYUrgAsCvhC\n",
       "DKCsLDYBX2QFJm5gailMniGLQYHpAZKCAg6wS6IYEArEmQ8fgIckywL+DSA6AEkB54ZNDXAuM8N+\n",
       "kOGMPWfOnDkEVcCQzNaA5LwasDoFJBMYzJgPICk4CyYPICtgdECoZ+D6B6Zc4AKKQOyIpIDzA5hi\n",
       "3QATiAZ5ACn42SCKmZMeQ/iiP4ACzEgKOBygQXkJGtSogG3DfAO8qUZ+w2n8yYrd/QFeeQD5RTWT\n",
       "DhgrWwAAAABJRU5ErkJggg==\n",
       "\" style=\"display:inline;vertical-align:middle;\" /></a>, <a class=\"ProveItLink\" href=\"__pv_it/lambda_indeterminate_params/25affb7a8c81ead7ae47a3a75d143c7ed8067f4d0/expr.ipynb\"><img src=\"data:image/png;base64,iVBORw0KGgoAAAANSUhEUgAAADwAAAATBAMAAAA+KHOiAAAAMFBMVEX///8AAAAAAAAAAAAAAAAA\n",
       "AAAAAAAAAAAAAAAAAAAAAAAAAAAAAAAAAAAAAAAAAAAv3aB7AAAAD3RSTlMAdpndiRBmRO8yVM2r\n",
       "IrsWj4mGAAAACXBIWXMAAA7EAAAOxAGVKw4bAAAA4UlEQVQoz2NgwA0UGPCCB6RLs9q/28rA0t8O\n",
       "lxZCledbUMPAEI/QbYIqzWPLksDAwcD07l3fu2eYpvOsY9jLwIxht5yx8Qaw9DWB25jS1aIw3RdO\n",
       "MjrApVmFEkBM3q1wwy/wMTyHS7OwN4CY3BcQ0pwKwcGwUJvFBLaRG+G0CwxZXC9gvAAOARA1wxgI\n",
       "HkCleQJOwFWvDwCRcci6WQ8Ew7l7WEEkM7I0w0Q+eBh/ZwFRjALwQJ0A5M2D8Tg/XAPTu2AC3AuA\n",
       "hDbcsGNgfzPEPA+AKN/fBySjMcK65DEkUFEAAOa+ODepc/WBAAAAAElFTkSuQmCC\n",
       "\" style=\"display:inline;vertical-align:middle;\" /></a>, <a class=\"ProveItLink\" href=\"__pv_it/lambda_indeterminate_params/319413f06f46b6c6a6feca32af6ea654909c0e480/expr.ipynb\"><img src=\"data:image/png;base64,iVBORw0KGgoAAAANSUhEUgAAAIgAAAAVBAMAAABvbLv8AAAAMFBMVEX///8AAAAAAAAAAAAAAAAA\n",
       "AAAAAAAAAAAAAAAAAAAAAAAAAAAAAAAAAAAAAAAAAAAv3aB7AAAAD3RSTlMAMrsQds2rme9mIlTd\n",
       "iUQmv6lAAAAACXBIWXMAAA7EAAAOxAGVKw4bAAABuElEQVQ4y3WUMUgCYRTHn6nneZ7WXuFFTU4S\n",
       "NXcQJLUkBIJTTUWbS0hQELSXBNXY0RJFg0vQUGRLDVY4uerQ0Gi0NWjvu+/z7N49H/w9ed/j9973\n",
       "fe99AKw5SkFvwAwYYpGqFLFPLjZlu5/QNF14lLramfrnzEGkQgMnsgDLMm+eLIXzrgwLWu2B9x1g\n",
       "jcRtrSMkmmV3E6u40hzQD3wL5zRyFQHxEgvRpfQf0H79C1kGAocs5E5Kq4H27VuIVjhIETW3RCH7\n",
       "SgBmx9t/DgHJDQ7SRJV0wY+9ueZGFZUA0nY/PJnC44nnOcgp3o0zSjuirgTw4vnGYwhIHHCQe6wT\n",
       "nuhxHSlBzBK/CyJ/VseiQmJ3827JzwNIWvzbg2GQM3kw7h2KVCm2ki/VRf4z6W8n0YAbL74QRkeN\n",
       "gzyICerSSmaUJgEWvdvpJvFgLQ5ygop3KKQpZbyWy17qUOcay22QyJajukGzAmMlZfZ6vcGdbmMj\n",
       "mG1/4OZxAb0fopdtCjHHpAJ2yz4o2NjVi8AUipFix2p3yLimq/WgP6NEc1oc5BI5uXbQP6tEbIR9\n",
       "HzNDnkfDliK2wj6lDvwB+wZquh1CeLoAAAAASUVORK5CYII=\n",
       "\" style=\"display:inline;vertical-align:middle;\" /></a>, <a class=\"ProveItLink\" href=\"__pv_it/lambda_indeterminate_params/28402e1fc4cc6203230d8176d5fd8a82a992957c0/expr.ipynb\"><img src=\"data:image/png;base64,iVBORw0KGgoAAAANSUhEUgAAAG0AAAAVBAMAAAC+p33JAAAAMFBMVEX///8AAAAAAAAAAAAAAAAA\n",
       "AAAAAAAAAAAAAAAAAAAAAAAAAAAAAAAAAAAAAAAAAAAv3aB7AAAAD3RSTlMAInZUiRDNmWbv3US7\n",
       "qzJazP2FAAAACXBIWXMAAA7EAAAOxAGVKw4bAAABnElEQVQ4y2NgYBBgwA0YcUsxGeDRx62AJhD1\n",
       "51gAg+fPDQwMJjg1vQpgYNBAFzzMfYGB9QMDA2sCDl2s1/OB+tgC0IRvCXgwMExgYGBvwGmfPlAP\n",
       "RwGa4OUDbAIMCxgYOBnw6mOYCg2FU6uWgRkXmxgTQPrMCOjLgIRPEsy9F3kfqID0lQDZm66K6Cg8\n",
       "8dmATZ8vmCkG9+ZFhgM8GxZAzHM4q8D6YwPzBGz62sDMRAaEvuesS4H6FgMdsWENA+MnBo4P2PRZ\n",
       "gpkJSPo4DGyANswGhjjrbwbmrwzsIMmwVSCwDqHvPYjFNwsouAaqj+EqL0QfA/MHkCZOB2z27QTH\n",
       "5QEk+xhiWSHuZOBNYOByYNgvEIBFnxWYuQBZH58C0JhDQDbQpvgNDNcYG7Do6wEzleCC54BY7wAk\n",
       "nOUfMPQzMBxhQXOnPyinlICZbPDEnwzEoJB4BaR3MTCoMzBsV0TVdnd+LtABqyGJ9c5WiOCznwcg\n",
       "aZrrAQM+wAj1GbcPNJ3BAEbCRQW4k/1BvPpkcMrE4NWH21RGBTzamHAVPgCYW2etbzbyGQAAAABJ\n",
       "RU5ErkJggg==\n",
       "\" style=\"display:inline;vertical-align:middle;\" /></a>, <a class=\"ProveItLink\" href=\"__pv_it/lambda_indeterminate_params/91d6cfbadf5d23721bc0c34087a83223b7072ae10/expr.ipynb\"><img src=\"data:image/png;base64,iVBORw0KGgoAAAANSUhEUgAAAGkAAAAVBAMAAAC3TN2zAAAAMFBMVEX///8AAAAAAAAAAAAAAAAA\n",
       "AAAAAAAAAAAAAAAAAAAAAAAAAAAAAAAAAAAAAAAAAAAv3aB7AAAAD3RSTlMARHarECKJuzJmVO/d\n",
       "mc2qKiq2AAAACXBIWXMAAA7EAAAOxAGVKw4bAAABVklEQVQ4y2NgwAkCSBQHA6YFOCSE8OlaBiLa\n",
       "HVAFOY4AjZuAWxPLAxCphyrofO8LkHyCWxcvsomMMA4TSNdc3Lq4kTlcCsi6uB1w6lqHWxffBAZG\n",
       "ZdekIo60QnRd10B+UzLApovNgIGN3YjBfyLDarBfzoABWOlLEJ9hJzZdnA8YBHkKGOIVGOaj23UK\n",
       "iFUZfmHTxbWBwcFfgGG9A8M9dF0bgdiB6wvEBaf3QF0A1sXxgYFhPQNIyzZsuhh4D2Czi3EDA4Md\n",
       "A8MxBsavLGj+ArmQgScBqwsPgGxh+cjA/CASza4iEBEvgDU0ChhYfzBwfmBgT0hA05UMIuajxxfb\n",
       "V5CTEhgYDzAwXWBgvISe/ntAhDmaLmbrf5ZAdwvgTBs8DUBiE7pdYBCDOx1yXmCw4vyCnnrB4Cae\n",
       "/FXK8YsHa8ZkLcCjy53h0kWsEuz4igBWBRwSqgwMACgCWJr3WQr3AAAAAElFTkSuQmCC\n",
       "\" style=\"display:inline;vertical-align:middle;\" /></a> <a class=\"ProveItLink\" href=\"__pv_it/lambda_indeterminate_params/e1109e70328cbf806b4ba490d31ca9989ec481a00/proof.ipynb\" style=\"text-decoration: none\">&nbsp;&#x22A2;&nbsp;&nbsp;</a><a class=\"ProveItLink\" href=\"__pv_it/lambda_indeterminate_params/8eef07964dcde20cfc089e1d81b0a1c2311adb270/expr.ipynb\"><img src=\"data:image/png;base64,iVBORw0KGgoAAAANSUhEUgAAAcsAAAAVBAMAAADbb9ifAAAAMFBMVEX///8AAAAAAAAAAAAAAAAA\n",
       "AAAAAAAAAAAAAAAAAAAAAAAAAAAAAAAAAAAAAAAAAAAv3aB7AAAAD3RSTlMAInZUiRDNmWbv3US7\n",
       "qzJazP2FAAAACXBIWXMAAA7EAAAOxAGVKw4bAAADrklEQVRYw6WYz2vUQBTHXzab7ma3qVEEpRdT\n",
       "RPaiuAft1f0DLF08eKo0F0GEYg/Slp5y8yTdsx5caKW4WAleBC9uRY9KL2o9CAv21Iut0CIUrDPJ\n",
       "TDK/29iBhmTmk+9738zLZLoA4MNxm1+g2y8kUSSiBfAfIqXmcXEd+fqErKGp8ItFbSYi19Dfdpv0\n",
       "nJv7rMcx2RD6Rp4jS1F+3SjAKtrIR+FpybjdSpWOzpcVcUJwvj0gNq0+TMY6GpEAK3zfnbk9dLyb\n",
       "d6wUYFUZhUKHjN+mSkfly4lU8PO6Smx6PrgdHVxRTUQJB3xkZOuRmTU2GV+gSkfly4m4wNh098Db\n",
       "1cEu6Gy6bRNrB2bW2GS8w9g05suJjLM2vS54f3XwuNbmUGRieZtDUSGbEm6H7Gya8uVEHrI2Uavt\n",
       "6GBEOo1IZbO8QV9fOs6yvM2MVbVbV8ja+OXs5WDrZqzAKy3GpjFfTuSeYPNXoLsNkeV6R2WzSheO\n",
       "bJxleZvV0GBz1k0fTetT4PyJ7Q7FF3u4rWXTy9jU58uJLAs217Q5IPJnJVTZtKn5bJxleZu2Ycko\n",
       "+aeSz209fgnWb6juKPBak7epzZcXecrbrPS1SSCy7eKUnfvJwx1kqY/QwknHWbbS67140uttyKzq\n",
       "kwU3kkQc5wDsPcDPScLdmLOpz5cXEWw+BpNNkoY4m3kp03GW5WezbvwALJJbdnB6bkuBCzYN+XIi\n",
       "fNGiLcZpQ9HCjKMs2i69pOMsKxRt12ST7Ci8EGoteOe3Cc68m3zRmvLlRN5Tm4nTLYBL0FZUE2qI\n",
       "dA7KyiWoTxg8LrHCEkRZoSVBrYP0BE3BdAxfrSjF2TYcECXHkK8sMoF7J31w9nGY1fn5bnI2HZJD\n",
       "fjWBi/y8oFfepYv8dJiOS2xmk2cVYfB6kZxcGMASwIcywbmAG0QJ35Xnq1DjRLZRx49nMxH00BOo\n",
       "HR4ehunZLJDDKj7BW2VMbgrfTe/7/iYajimDxiWW2hTZVWDD4KDg9dOTt8m+/80YwbnNfZcoYY08\n",
       "X4UaJ1Ib0DLP5t6Wq+A6vn+gewtGM0bF2oGeZaikzgIx+qgEvmJz0uUriVRnaTXkdaH41AJDKnfT\n",
       "KaNi65GeBTao11xqi9EX9Jv5liFfWWSdbrTyLZe8BCUTsq5xafVzphjL7vPQhqa5LEa35M/isM/G\n",
       "UeerEJkiF3lkOYdScpzSpJ4GLv0HyzQUtNKIxejD8q8kTp+No85XIWIFx/1vQUeOnZA1NBV+puiP\n",
       "JEjkHzXIPok/UbtBAAAAAElFTkSuQmCC\n",
       "\" style=\"display:inline;vertical-align:middle;\" /></a></span>"
      ],
      "text/plain": [
       "{j in NaturalPos, i in NaturalPos, j = ((2 * i) - 1), (m - 1) in Natural, m = (j + 1)} |- (1, 2, ..., (i - 1),i, (i + 1), ..., j, m) = (1, 2, ..., m)"
      ]
     },
     "metadata": {},
     "output_type": "display_data"
    }
   ],
   "source": [
    "from proveit import extract_var_tuple_indices\n",
    "extract_var_tuple_indices(alt_A_form1).merger(assumptions=assumptions)"
   ]
  },
  {
   "cell_type": "markdown",
   "metadata": {},
   "source": [
    "Now we are ready to demonstrate this lambda application using multiple alternative expansions via `equiv_alt_expansions`."
   ]
  },
  {
   "cell_type": "code",
   "execution_count": 43,
   "metadata": {},
   "outputs": [
    {
     "data": {
      "text/html": [
       "<strong id=\"m_eq\">m_eq:</strong> <span style=\"font-size:20px;\"><a class=\"ProveItLink\" href=\"__pv_it/lambda_indeterminate_params/91d6cfbadf5d23721bc0c34087a83223b7072ae10/expr.ipynb\"><img src=\"data:image/png;base64,iVBORw0KGgoAAAANSUhEUgAAAGkAAAAVBAMAAAC3TN2zAAAAMFBMVEX///8AAAAAAAAAAAAAAAAA\n",
       "AAAAAAAAAAAAAAAAAAAAAAAAAAAAAAAAAAAAAAAAAAAv3aB7AAAAD3RSTlMARHarECKJuzJmVO/d\n",
       "mc2qKiq2AAAACXBIWXMAAA7EAAAOxAGVKw4bAAABVklEQVQ4y2NgwAkCSBQHA6YFOCSE8OlaBiLa\n",
       "HVAFOY4AjZuAWxPLAxCphyrofO8LkHyCWxcvsomMMA4TSNdc3Lq4kTlcCsi6uB1w6lqHWxffBAZG\n",
       "ZdekIo60QnRd10B+UzLApovNgIGN3YjBfyLDarBfzoABWOlLEJ9hJzZdnA8YBHkKGOIVGOaj23UK\n",
       "iFUZfmHTxbWBwcFfgGG9A8M9dF0bgdiB6wvEBaf3QF0A1sXxgYFhPQNIyzZsuhh4D2Czi3EDA4Md\n",
       "A8MxBsavLGj+ArmQgScBqwsPgGxh+cjA/CASza4iEBEvgDU0ChhYfzBwfmBgT0hA05UMIuajxxfb\n",
       "V5CTEhgYDzAwXWBgvISe/ntAhDmaLmbrf5ZAdwvgTBs8DUBiE7pdYBCDOx1yXmCw4vyCnnrB4Cae\n",
       "/FXK8YsHa8ZkLcCjy53h0kWsEuz4igBWBRwSqgwMACgCWJr3WQr3AAAAAElFTkSuQmCC\n",
       "\" style=\"display:inline;vertical-align:middle;\" /></a>, <a class=\"ProveItLink\" href=\"__pv_it/lambda_indeterminate_params/319413f06f46b6c6a6feca32af6ea654909c0e480/expr.ipynb\"><img src=\"data:image/png;base64,iVBORw0KGgoAAAANSUhEUgAAAIgAAAAVBAMAAABvbLv8AAAAMFBMVEX///8AAAAAAAAAAAAAAAAA\n",
       "AAAAAAAAAAAAAAAAAAAAAAAAAAAAAAAAAAAAAAAAAAAv3aB7AAAAD3RSTlMAMrsQds2rme9mIlTd\n",
       "iUQmv6lAAAAACXBIWXMAAA7EAAAOxAGVKw4bAAABuElEQVQ4y3WUMUgCYRTHn6nneZ7WXuFFTU4S\n",
       "NXcQJLUkBIJTTUWbS0hQELSXBNXY0RJFg0vQUGRLDVY4uerQ0Gi0NWjvu+/z7N49H/w9ed/j9973\n",
       "fe99AKw5SkFvwAwYYpGqFLFPLjZlu5/QNF14lLramfrnzEGkQgMnsgDLMm+eLIXzrgwLWu2B9x1g\n",
       "jcRtrSMkmmV3E6u40hzQD3wL5zRyFQHxEgvRpfQf0H79C1kGAocs5E5Kq4H27VuIVjhIETW3RCH7\n",
       "SgBmx9t/DgHJDQ7SRJV0wY+9ueZGFZUA0nY/PJnC44nnOcgp3o0zSjuirgTw4vnGYwhIHHCQe6wT\n",
       "nuhxHSlBzBK/CyJ/VseiQmJ3827JzwNIWvzbg2GQM3kw7h2KVCm2ki/VRf4z6W8n0YAbL74QRkeN\n",
       "gzyICerSSmaUJgEWvdvpJvFgLQ5ygop3KKQpZbyWy17qUOcay22QyJajukGzAmMlZfZ6vcGdbmMj\n",
       "mG1/4OZxAb0fopdtCjHHpAJ2yz4o2NjVi8AUipFix2p3yLimq/WgP6NEc1oc5BI5uXbQP6tEbIR9\n",
       "HzNDnkfDliK2wj6lDvwB+wZquh1CeLoAAAAASUVORK5CYII=\n",
       "\" style=\"display:inline;vertical-align:middle;\" /></a>, <a class=\"ProveItLink\" href=\"__pv_it/lambda_indeterminate_params/25affb7a8c81ead7ae47a3a75d143c7ed8067f4d0/expr.ipynb\"><img src=\"data:image/png;base64,iVBORw0KGgoAAAANSUhEUgAAADwAAAATBAMAAAA+KHOiAAAAMFBMVEX///8AAAAAAAAAAAAAAAAA\n",
       "AAAAAAAAAAAAAAAAAAAAAAAAAAAAAAAAAAAAAAAAAAAv3aB7AAAAD3RSTlMAdpndiRBmRO8yVM2r\n",
       "IrsWj4mGAAAACXBIWXMAAA7EAAAOxAGVKw4bAAAA4UlEQVQoz2NgwA0UGPCCB6RLs9q/28rA0t8O\n",
       "lxZCledbUMPAEI/QbYIqzWPLksDAwcD07l3fu2eYpvOsY9jLwIxht5yx8Qaw9DWB25jS1aIw3RdO\n",
       "MjrApVmFEkBM3q1wwy/wMTyHS7OwN4CY3BcQ0pwKwcGwUJvFBLaRG+G0CwxZXC9gvAAOARA1wxgI\n",
       "HkCleQJOwFWvDwCRcci6WQ8Ew7l7WEEkM7I0w0Q+eBh/ZwFRjALwQJ0A5M2D8Tg/XAPTu2AC3AuA\n",
       "hDbcsGNgfzPEPA+AKN/fBySjMcK65DEkUFEAAOa+ODepc/WBAAAAAElFTkSuQmCC\n",
       "\" style=\"display:inline;vertical-align:middle;\" /></a> <a class=\"ProveItLink\" href=\"__pv_it/lambda_indeterminate_params/b07f3682b3a3d3c188e07e7808bf24cc50403acb0/proof.ipynb\" style=\"text-decoration: none\">&nbsp;&#x22A2;&nbsp;&nbsp;</a><a class=\"ProveItLink\" href=\"__pv_it/lambda_indeterminate_params/af97d32233b50971887bf146089c6765fba252d60/expr.ipynb\"><img src=\"data:image/png;base64,iVBORw0KGgoAAAANSUhEUgAAAF0AAAAVBAMAAADWVP/xAAAAMFBMVEX///8AAAAAAAAAAAAAAAAA\n",
       "AAAAAAAAAAAAAAAAAAAAAAAAAAAAAAAAAAAAAAAAAAAv3aB7AAAAD3RSTlMARHarECKJuzJmVO/d\n",
       "mc2qKiq2AAAACXBIWXMAAA7EAAAOxAGVKw4bAAABZ0lEQVQoz42TsUvDQBSHf0maNElTif4FBXUs\n",
       "FDcXySKO7eIgKAYFV2NBcHRyEMGKs+jkIti6OAcEB1EoDoJDS0AXtxQsdKvvIo3NpRc8kkfu4+Pd\n",
       "e3cXQDhq/yBjQ75KoZks/xrY6B6MgTLkhljPBVA97Np/5BH4FPvFBpQaCq0EvBD7BXq+ofST0BH6\n",
       "t4DiQxkk4FQD0uzyVl3f2eP9tyhaYdxPmZrVKtDyC6ie4Saq+TkaFfb9FVmnpZGvSdSKEWDa8rBZ\n",
       "wiWf/ymKD/H8uBgAZgtO1UbTQZf376IFPRarZMIp0FI6ldcEk+8n+ue/TbRZpKRgNS2xk5D6Oa5+\n",
       "Vo/pYjVO8EGG6bPMuR6UYI3LX6f3CJiL96enUb8e1AGMEHnX5fxtQH3pdPzRXA8pY9GF5ENuQ3rl\n",
       "7+oJ1T0cDoMYLNL+W7bwfK3DCXBdfH+M9gT4nnH/99NI9TL8lTTKZ/2QaimF5oEf9RhUbMh4AVoA\n",
       "AAAASUVORK5CYII=\n",
       "\" style=\"display:inline;vertical-align:middle;\" /></a></span><br>"
      ],
      "text/plain": [
       "<IPython.core.display.HTML object>"
      ]
     },
     "metadata": {},
     "output_type": "display_data"
    }
   ],
   "source": [
    "m_eq = assumptions[5].sub_right_side_into(assumptions[0], assumptions=assumptions)"
   ]
  },
  {
   "cell_type": "code",
   "execution_count": 44,
   "metadata": {},
   "outputs": [
    {
     "data": {
      "text/html": [
       "<span style=\"font-size:20px;\"><a class=\"ProveItLink\" href=\"__pv_it/lambda_indeterminate_params/91d6cfbadf5d23721bc0c34087a83223b7072ae10/expr.ipynb\"><img src=\"data:image/png;base64,iVBORw0KGgoAAAANSUhEUgAAAGkAAAAVBAMAAAC3TN2zAAAAMFBMVEX///8AAAAAAAAAAAAAAAAA\n",
       "AAAAAAAAAAAAAAAAAAAAAAAAAAAAAAAAAAAAAAAAAAAv3aB7AAAAD3RSTlMARHarECKJuzJmVO/d\n",
       "mc2qKiq2AAAACXBIWXMAAA7EAAAOxAGVKw4bAAABVklEQVQ4y2NgwAkCSBQHA6YFOCSE8OlaBiLa\n",
       "HVAFOY4AjZuAWxPLAxCphyrofO8LkHyCWxcvsomMMA4TSNdc3Lq4kTlcCsi6uB1w6lqHWxffBAZG\n",
       "ZdekIo60QnRd10B+UzLApovNgIGN3YjBfyLDarBfzoABWOlLEJ9hJzZdnA8YBHkKGOIVGOaj23UK\n",
       "iFUZfmHTxbWBwcFfgGG9A8M9dF0bgdiB6wvEBaf3QF0A1sXxgYFhPQNIyzZsuhh4D2Czi3EDA4Md\n",
       "A8MxBsavLGj+ArmQgScBqwsPgGxh+cjA/CASza4iEBEvgDU0ChhYfzBwfmBgT0hA05UMIuajxxfb\n",
       "V5CTEhgYDzAwXWBgvISe/ntAhDmaLmbrf5ZAdwvgTBs8DUBiE7pdYBCDOx1yXmCw4vyCnnrB4Cae\n",
       "/FXK8YsHa8ZkLcCjy53h0kWsEuz4igBWBRwSqgwMACgCWJr3WQr3AAAAAElFTkSuQmCC\n",
       "\" style=\"display:inline;vertical-align:middle;\" /></a>, <a class=\"ProveItLink\" href=\"__pv_it/lambda_indeterminate_params/319413f06f46b6c6a6feca32af6ea654909c0e480/expr.ipynb\"><img src=\"data:image/png;base64,iVBORw0KGgoAAAANSUhEUgAAAIgAAAAVBAMAAABvbLv8AAAAMFBMVEX///8AAAAAAAAAAAAAAAAA\n",
       "AAAAAAAAAAAAAAAAAAAAAAAAAAAAAAAAAAAAAAAAAAAv3aB7AAAAD3RSTlMAMrsQds2rme9mIlTd\n",
       "iUQmv6lAAAAACXBIWXMAAA7EAAAOxAGVKw4bAAABuElEQVQ4y3WUMUgCYRTHn6nneZ7WXuFFTU4S\n",
       "NXcQJLUkBIJTTUWbS0hQELSXBNXY0RJFg0vQUGRLDVY4uerQ0Gi0NWjvu+/z7N49H/w9ed/j9973\n",
       "fe99AKw5SkFvwAwYYpGqFLFPLjZlu5/QNF14lLramfrnzEGkQgMnsgDLMm+eLIXzrgwLWu2B9x1g\n",
       "jcRtrSMkmmV3E6u40hzQD3wL5zRyFQHxEgvRpfQf0H79C1kGAocs5E5Kq4H27VuIVjhIETW3RCH7\n",
       "SgBmx9t/DgHJDQ7SRJV0wY+9ueZGFZUA0nY/PJnC44nnOcgp3o0zSjuirgTw4vnGYwhIHHCQe6wT\n",
       "nuhxHSlBzBK/CyJ/VseiQmJ3827JzwNIWvzbg2GQM3kw7h2KVCm2ki/VRf4z6W8n0YAbL74QRkeN\n",
       "gzyICerSSmaUJgEWvdvpJvFgLQ5ygop3KKQpZbyWy17qUOcay22QyJajukGzAmMlZfZ6vcGdbmMj\n",
       "mG1/4OZxAb0fopdtCjHHpAJ2yz4o2NjVi8AUipFix2p3yLimq/WgP6NEc1oc5BI5uXbQP6tEbIR9\n",
       "HzNDnkfDliK2wj6lDvwB+wZquh1CeLoAAAAASUVORK5CYII=\n",
       "\" style=\"display:inline;vertical-align:middle;\" /></a>, <a class=\"ProveItLink\" href=\"__pv_it/lambda_indeterminate_params/25affb7a8c81ead7ae47a3a75d143c7ed8067f4d0/expr.ipynb\"><img src=\"data:image/png;base64,iVBORw0KGgoAAAANSUhEUgAAADwAAAATBAMAAAA+KHOiAAAAMFBMVEX///8AAAAAAAAAAAAAAAAA\n",
       "AAAAAAAAAAAAAAAAAAAAAAAAAAAAAAAAAAAAAAAAAAAv3aB7AAAAD3RSTlMAdpndiRBmRO8yVM2r\n",
       "IrsWj4mGAAAACXBIWXMAAA7EAAAOxAGVKw4bAAAA4UlEQVQoz2NgwA0UGPCCB6RLs9q/28rA0t8O\n",
       "lxZCledbUMPAEI/QbYIqzWPLksDAwcD07l3fu2eYpvOsY9jLwIxht5yx8Qaw9DWB25jS1aIw3RdO\n",
       "MjrApVmFEkBM3q1wwy/wMTyHS7OwN4CY3BcQ0pwKwcGwUJvFBLaRG+G0CwxZXC9gvAAOARA1wxgI\n",
       "HkCleQJOwFWvDwCRcci6WQ8Ew7l7WEEkM7I0w0Q+eBh/ZwFRjALwQJ0A5M2D8Tg/XAPTu2AC3AuA\n",
       "hDbcsGNgfzPEPA+AKN/fBySjMcK65DEkUFEAAOa+ODepc/WBAAAAAElFTkSuQmCC\n",
       "\" style=\"display:inline;vertical-align:middle;\" /></a> <a class=\"ProveItLink\" href=\"__pv_it/lambda_indeterminate_params/b07f3682b3a3d3c188e07e7808bf24cc50403acb0/proof.ipynb\" style=\"text-decoration: none\">&nbsp;&#x22A2;&nbsp;&nbsp;</a><a class=\"ProveItLink\" href=\"__pv_it/lambda_indeterminate_params/af97d32233b50971887bf146089c6765fba252d60/expr.ipynb\"><img src=\"data:image/png;base64,iVBORw0KGgoAAAANSUhEUgAAAF0AAAAVBAMAAADWVP/xAAAAMFBMVEX///8AAAAAAAAAAAAAAAAA\n",
       "AAAAAAAAAAAAAAAAAAAAAAAAAAAAAAAAAAAAAAAAAAAv3aB7AAAAD3RSTlMARHarECKJuzJmVO/d\n",
       "mc2qKiq2AAAACXBIWXMAAA7EAAAOxAGVKw4bAAABZ0lEQVQoz42TsUvDQBSHf0maNElTif4FBXUs\n",
       "FDcXySKO7eIgKAYFV2NBcHRyEMGKs+jkIti6OAcEB1EoDoJDS0AXtxQsdKvvIo3NpRc8kkfu4+Pd\n",
       "e3cXQDhq/yBjQ75KoZks/xrY6B6MgTLkhljPBVA97Np/5BH4FPvFBpQaCq0EvBD7BXq+ofST0BH6\n",
       "t4DiQxkk4FQD0uzyVl3f2eP9tyhaYdxPmZrVKtDyC6ie4Saq+TkaFfb9FVmnpZGvSdSKEWDa8rBZ\n",
       "wiWf/ymKD/H8uBgAZgtO1UbTQZf376IFPRarZMIp0FI6ldcEk+8n+ue/TbRZpKRgNS2xk5D6Oa5+\n",
       "Vo/pYjVO8EGG6bPMuR6UYI3LX6f3CJiL96enUb8e1AGMEHnX5fxtQH3pdPzRXA8pY9GF5ENuQ3rl\n",
       "7+oJ1T0cDoMYLNL+W7bwfK3DCXBdfH+M9gT4nnH/99NI9TL8lTTKZ/2QaimF5oEf9RhUbMh4AVoA\n",
       "AAAASUVORK5CYII=\n",
       "\" style=\"display:inline;vertical-align:middle;\" /></a></span>"
      ],
      "text/plain": [
       "{m = (j + 1), j = ((2 * i) - 1), i in NaturalPos} |- m = (2 * i)"
      ]
     },
     "metadata": {},
     "output_type": "display_data"
    }
   ],
   "source": [
    "m_eq.inner_expr().rhs.simplify(assumptions=assumptions)"
   ]
  },
  {
   "cell_type": "code",
   "execution_count": 45,
   "metadata": {},
   "outputs": [
    {
     "name": "stdout",
     "output_type": "stream",
     "text": [
      "Failure to apply (A_{1}, A_{2}, ..., A_{m}) -> (A_{1} and  A_{2} and  ... and  A_{j} and [forall_{A_{i}, A_{i + 1}, ..., A_{j}} (A_{i} or  A_{i + 1} or  ... or  A_{j})] and A_{m}) to ([not](B_{1}), [not](B_{2}), ..., [not](B_{i - 1}), C_{1}, C_{2}, ..., C_{i}, A or D) using equivalent alternate expansions of {(A_{1}, A_{2}, ..., A_{i - 1},A_{i}, A_{i + 1}, ..., A_{j}, A_{m}): ([not](B_{1}), [not](B_{2}), ..., [not](B_{i - 1}),C_{1}, C_{2}, ..., C_{i}, A or D), (A_{1}, A_{2}, ..., A_{j}, A_{m}): ([not](B_{1}), [not](B_{2}), ..., [not](B_{i - 1}),C_{1}, C_{2}, ..., C_{i}, A or D)} assuming {m = (j + 1), (m - 1) in Natural, i in NaturalPos, j in NaturalPos, m in NaturalPos, j = ((2 * i) - 1), (j - i + 1) = i, (j + 1) = (i + i)}:\n",
      "Improper replacement: Improper replacement of (A_{i}, A_{i + 1}, ..., A_{j}) -> (A_{i} or  A_{i + 1} or  ... or  A_{j}) via {(A_{1}, A_{2}, ..., A_{m}): ([not](B_{1}), [not](B_{2}), ..., [not](B_{i - 1}),C_{1}, C_{2}, ..., C_{i}, A or D), (A_{1}, A_{2}, ..., A_{i - 1},A_{i}, A_{i + 1}, ..., A_{j}, A_{m}): ([not](B_{1}), [not](B_{2}), ..., [not](B_{i - 1}),C_{1}, C_{2}, ..., C_{i}, A or D), (A_{1}, A_{2}, ..., A_{i - 1}): ([not](B_{1}), [not](B_{2}), ..., [not](B_{i - 1})), (A_{i}, A_{i + 1}, ..., A_{j}): (C_{1}, C_{2}, ..., C_{i}), A_{m}: A or D, (A_{1}, A_{2}, ..., A_{j}, A_{m}): ([not](B_{1}), [not](B_{2}), ..., [not](B_{i - 1}),C_{1}, C_{2}, ..., C_{i}, A or D), (A_{1}, A_{2}, ..., A_{j}): ([not](B_{1}), [not](B_{2}), ..., [not](B_{i - 1}),C_{1}, C_{2}, ..., C_{i}), A: {(A_{1}, A_{2}, ..., A_{j}, A_{m}), (A_{1}, A_{2}, ..., A_{m}), (A_{1}, A_{2}, ..., A_{i - 1},A_{i}, A_{i + 1}, ..., A_{j}, A_{m})}}:\n",
      "Partial masking not allowed. A_{i}, A_{i + 1}, ..., A_{j} is not in {(A_{1}, A_{2}, ..., A_{j}, A_{m}), (A_{1}, A_{2}, ..., A_{m}), (A_{1}, A_{2}, ..., A_{i - 1},A_{i}, A_{i + 1}, ..., A_{j}, A_{m})} \n"
     ]
    }
   ],
   "source": [
    "from proveit import LambdaApplicationError\n",
    "requirements = []\n",
    "try:\n",
    "    partially_masked_lambda.apply(*operands.entries, assumptions=assumptions, requirements=requirements,\n",
    "                                  equiv_alt_expansions={alt_A_form1:operands, alt_A_form2:operands})\n",
    "    assert False, \"Expecting ImproperReplacement error; partial masking no longer supported\"\n",
    "except LambdaApplicationError as e:\n",
    "    print(e)"
   ]
  },
  {
   "cell_type": "markdown",
   "metadata": {},
   "source": [
    "And these were the requirements to make that happen, making sure that lengths match properly as well as certain index ranges."
   ]
  },
  {
   "cell_type": "code",
   "execution_count": 46,
   "metadata": {},
   "outputs": [
    {
     "data": {
      "text/html": [
       "<a class=\"ProveItLink\" href=\"__pv_it/lambda_indeterminate_params/ca9fc9d79efb9c6af87b80c4534485c48f20cf020/expr.ipynb\"><img src=\"data:image/png;base64,iVBORw0KGgoAAAANSUhEUgAACvoAAAAVBAMAAAB/f7bdAAAAMFBMVEX///8AAAAAAAAAAAAAAAAA\n",
       "AAAAAAAAAAAAAAAAAAAAAAAAAAAAAAAAAAAAAAAAAAAv3aB7AAAAD3RSTlMAInZUiRDNmWbv3US7\n",
       "qzJazP2FAAAACXBIWXMAAA7EAAAOxAGVKw4bAAAQOUlEQVR42tVdb4xdRRU/71/f/n37JAhI1vS1\n",
       "BIqG0qZpS7of5IngB9emz8agH4pdPzRZjKQbqG1TSHxfbElssyuhRixJNymKisALmsjqB7ZVQlSg\n",
       "K4aChE03SkLSEHZb2EossM7fe+fPmblzH7t7y5C3nZ05c+ac3/nNuXPn3n0AQJX8R0tOfKySQ6sJ\n",
       "jVGpenv9YxexVHFjqu1ZYQ6rphwZBkO1HUSDVFdT+mtTIDO25HDB3OIEgjXr0a0uDlGDCZhrd6Xk\n",
       "2ibl8lCm+ilOMH7W5dohAhuUXw+D7PfrxMcq3bWomtRvF6LeV7xj2ylXOdqfYT8HzeZBt1u+wrUV\n",
       "W2FOJsOBwuDS+kwqUzHV4fbaSoTTmbFFjDcjyc36xIFg4OrRbZMibRPwunZXCpdog5TLQxmm4dOa\n",
       "YLysS0cOSQSmcqPQWajzjygdpz+aPvMyr98oG5P6kbIxrh5emJ7+/ozRr4zd/tJ080qlq3TT9Ou5\n",
       "utcTW2S3GZzTH06/+A/yb9NNfupW5Rei5eq9Lwes3aZGdOrkuYa4Du6zfDTgWGO00ZEqhGs8stRM\n",
       "PrmzVJ53IgyIvWEO32gQLkO23OhZB+GOUcn8CA6uHt2IIjbb0jA0iYDSGLXupAhS3mlwCZSUCUF+\n",
       "p7EMlNkIGScYK1pmwvGFz8e6FPmDLM6ICERlaUjovFN8ZOmcBDjLXVkhUU/qR6wfUn55FKD3Y0Mg\n",
       "Hpt/qAG3/Erp+sL1UDjgzzSWSGGB/uylSiv8ctVHLBgl18ddbvITt+7aOy+S5yRsayVTa5dKdOJk\n",
       "6bXdwpF+KF7yw/GY3sRGqhA+5pQVZu7yXxmGXAgrVsT2hjkcK+FOZ8gWPh5dB+GOsZm66g5wd1nZ\n",
       "906UbakY6idgZMydtmE2RZByg5BASZkQ5Btg6SnDEM80wZjRshKOL3we1qXJH3RxSiIQleWm0Llf\n",
       "fGRZSZLXc/wa3CEvxUn9dikr3uYukB38fw2BaGzpbwTp8vm4Z8dT5McPvac6tkj5LP2tgybeHh65\n",
       "WVIvjwEccpOfupUX6PVWoXMsOfseUtcnc3KdiDLZZz8SBEdU6EgEQlW2W9aZmYdS3TTZqjV7wxyO\n",
       "lXCnM2QLH4+ug3DH0EBE4B6ysu9+jG3pGJpAQEBQezaBIliQUFIGsnopKcM0ZJlgzGhZCccbPg/r\n",
       "0uYPSQSislPqHBMfWUaJbaPi0OSoaEvqt0unigO5LHVcMCXk2BW00q3McDeN9YTXD1vky9tYzh2P\n",
       "T4DXkYbuD4glDSf5xxT0Oueh93wyPzvVbUYnKNQ83oCz1RA4tOyLQKjKFmpqguhspEq/R1HN0t5A\n",
       "h4/qhMuSLUed6yDcMTQQEbhadCOKWGxLx9AEAgKC2oYEimDooKQMDPJSUqYTMk4wZrSshOMPn5t1\n",
       "afNHRISjsFnUCkP8E5WzdHKRRoZFDkjoR8pmpd47R1z+iSkhx26jp+eV+CJXfI/+fNvnhi2Sq61j\n",
       "h/BfIZ/7eNNp2vw+mbnpIj9zK7p2jds3L9htVVMh+maVmm9E90sJcOjZd9grq2ffFc1U2XcY1Rxt\n",
       "ZMIcHtYIlylbhp3rINyxzc7sS8HVoispYrEtJUMTCAgIahsSKIKhg5IyMMhLSZnNkG2CsaJlJpyE\n",
       "8LlZlzZ/REQYhj2iVq7zj3qGctdTor5V7PIT+pGyRz/IKb1hJSYxNvc/djcQd6+k+1f4js8NW6QM\n",
       "t7LMdJXY/5LyIcX4IwLUlIv8zC2JHj11m3NN+MyrV95Ue+vrLaFNEn2PSk1SnvbBUVrTxLJvBGHU\n",
       "r8rq2ZdN7irb1/KzirXfuO1U5fa/Y9Ex7XU6jCnht5FZsmWrcx0EO8Ykt+/Hsi8FV4uupIjFtpQM\n",
       "9RNQGqPWjey71TNRafWUkHCR0o0FH7vUlNkD2SYYM1pWwkkIn5t14fmDL86ICFtZSh9UL/miVD5c\n",
       "vTa64hxUkranP+EiOntq9Rl71ybGFs07hm21xIurLfI7mGUB7J2BPO+sUL0dZO/bMSTRK/+GlSlQ\n",
       "XFfRm3XOXH+pVvqgVRgT2iTRh3VqVi744ChaNztsZARh1K/K6tm3Y8gDykgnw7jY8wrs/DFskapV\n",
       "pw173Q6bSiLCZcqWg9E6OMB8ejIyK9gxJlmfwLIvBVeLrqSIxbaUDPUTUBqj1o3se9AzURl+JiQc\n",
       "pPRgwccuNWWGIdsEY0areAFShS9mnYJLtBjC8gdfnBERDsIJUetazz+M0I8TbecBtkhXtoikntCP\n",
       "lBPSWLLDX1eFAolzST8VlbrNw5Knk1/vliKxxhFYychSmYIuTpU8vQ3ovUQS2Jhr60HdUtF70jVf\n",
       "d+u39GS/Y05ok0Q/oVOza8oHx3/KQ1j2jSCM+lVZPfsWPIdV+WofO3v5U9ckfW4xikXHsNftMKaE\n",
       "OZ0pW7Y4dyHBjlHJyvq9WPal4GrRlRSxCJmSoV4CRsaodSP7bvFMtAreExIOUnqw4GOXmjInINsE\n",
       "Y0arK+DkWg2fm3XB+UMszogIW+CYqHW2+IeVzwP0EJHix1BiKX9W7Ozt/m9ufTXuR8oxuc8nGemv\n",
       "9GoyA0WZSXTdbLteEo2kHGc/G6Xbp53PmIRIrDH/wr6zk6z2XbiFN/VQvX3E2Mqci/zMrRi98qTz\n",
       "Fq10CQrzQFMi0yaJfkyn5gPgg6PRSa0tfY9RZiYaGUHI+1VZwq5f/1zsQZiZlTnPLSjcygxp7GzR\n",
       "2l4sOoa9bocxJfwRSpZsmXWug2DHqGQJHjICEYGrRVdSRLLt20PtMdRLQG6MVidp6BGxsTcogkWq\n",
       "MC8kHKT0YMHHLjVljkG2CcYMn0w4fILk8LlZF5w/xOKMiDDrzL59U+z54b+/SH+fsMER/SNwAHzP\n",
       "fVVwPoL4ISYtmm5+WPIl0SgPTwszZSiPOy9NXEQ5ViF2cemNJP+y0kexGG2Kp5sh2feIm+OFOZp6\n",
       "O+tCG070jilv9hXZ0dz7xhDKflVW3/v6H9QeEGqALoGHsegYS8njMKIEzb7LypaJ0Ox7xB+Iwjy2\n",
       "96Xgdo8h2VewrbJ6vD2G+gkojVHrxt7X+3YFs2HCnX2PJI1dasocg2wTjBk+mXBG5IJJCN9EaPY9\n",
       "krQ4IyJMWCcP0vnZJr9hH6C/D8Q3Bkb/JVg5E/XjNwYSnMoH5N+z6pvIqm7+4l091sXesitCXyvn\n",
       "fIQoRJRjFWIjz0xdlcn4EKb0KAVx3HXspt85FOrwGdeEvUP0Rfjnqg2uDb/J2wi5qg+Oe0pY9o0h\n",
       "lP2qrHHyMO4LsPgDjTO01n2+JFSrTuv2+hw2lFgnD5mwZcB57hvuGJVcMdXATh7GQY+upIhkW4R+\n",
       "Sob6CSiNUetG9h3wRZ39gcaAk5Q+LKI/7lhSypyAbBOMGT6ZcPgEyeEbcJ77hucPvjgjIgzAKVHr\n",
       "qfEPK1ezMxSYHRKTHqbbb7T/R8x20W9us0k5JcEZYQc5lYvQvVYHR4ylb0pDscEbaQN92RrugI4G\n",
       "4XYJucOJRahGJkH/JmEFvyvPHxFRoK/79tCbjY5J19aDuUXRY0reArge8YY1kV0vubE6k2tybcWW\n",
       "4iSlJvsTuzrkGyVwwlG6VMSy72E5B+23ZI2nbpPgBBxyl3jlYTKaXC6uEarVotnrchhTEr0GmyVb\n",
       "uCnoLiTcMSq5s1XHnrpNgh5dSRHBNrZ4WEc6hiYQkBrTUOpI9o1CgIV9ZUtIoKT0YkHHLj1lTkG2\n",
       "CcYMn0w4bIISrlwNn5t14fmDLk6FCIfZixS0Fr1oI8rdJJn9VCRD2AOli4D3w9fifvZj55BSUV8V\n",
       "WUF2pRO7YHtfQwNHjKWvinXfwRtZQ4FcyX7PYjce69RnECJUI5vscxQKfphe+qWYYzex83F2xaq7\n",
       "yM/fLzrPFece37dvHJmL/SBxGgX4S1FoI9jHTm6rcplr9+07wJt1JKRkZe4a88lqFfibM0yY9luy\n",
       "UfalZrLJXYDTZ4LMj49prade11/KYUWz1+UwooSToLVIbEEwCmGL8AddB8GOMcnZnPGAPAJXi66k\n",
       "iCQkXb6sA2WoThiFoQkEJMZEqEWGbcApghCLPeZiEigpYywQ1OnYNilja3NSZissDmX0iIYnGCt8\n",
       "MuHQCezwqRFmGt2sC88f7IF9TIQ9cE7UKuP8I8qb9Asr1ksHngD4TQPvZ98uIfqBprmuEVmhPefi\n",
       "u3b6rRl/BvjsgH5pkmNLD0zfLxtZw7deeo3tX881uCqWQ6MZFBGqkUrsWNgFhdMX+b7hvsjON19g\n",
       "BwFdLRf5qVu9/7r4OlPStbCwMIR4w5r+yL725g+rhDaCfeTk9PF7mkzm6YWFi7w5RmJEheN1Y82z\n",
       "kRQG4RTpt2Rl9mVm8skdgEPvJKt0j9Pvaum+typUq0Wz1+UwpoRKMcItBls4KunZwk1B10GwY0yy\n",
       "90HjXCkCV4uupIgkJF2+HGqMoTphFIYmEfDBGLXIsA04RRBiwZsSHZSUMRYI6nRsm5SxtTkpcw4W\n",
       "iTJxHkiXYMzwyYRDJ7DDp0aYaXSzLjx/0MWpEOEJ6JoROp8SH6PQiXP0KKyB9/c3lH69bKIz2Wcq\n",
       "p6DyIiknDd3qhGpD7nmhyngA1tBvizYlvT1yLbjIH7u1CdOONl0rsdecjGUQcxxwCC/HtfGmbKFm\n",
       "Te4AHOhrEpts1do5n22vS5ttHz9XzJAt3BT83Z9gx5yBYOBq0dUpIo7tVHACGZpMQAu1DR6KGIF6\n",
       "SEp4SOkbu+SUYRougwRjhY9OgIRvk37u4mFdivzB3mGSRCAq6bdHMJ3Rt4vY4NBvsigC2p8byVXj\n",
       "fr3QTaj9/Ril+RlUt9qoNlxND7HrlvKiobGelH33u8l/SLXY1I437ZfYa04WwdKUBId87NzUxpuy\n",
       "3U17cnSG3vWjDWN2+wtlEHsd4UPs44TLkC3cFHQdhDvm/t6W/WZ0Bw1f2PKtp2doMgEt1J71UETz\n",
       "558d81LCQ0rf2CWnDNNwGSQYM3xsAiR8dV2jh3XB+YMvzogIVOVJobOnyj8IOP3AXubC+vvffbsR\n",
       "9+sosP3aSesaMDSC6lYblYbcy+/+QKjSynZdIyJhRHHSTX7pVqzE9kZv4troAw7Nye267yFwSBy1\n",
       "8X5ZPjkO+Oz6E+bs/bYGy15n+Gz7OOEyZEs/uNdBuGM+cPXoDhq+sMc2tdQMDSCgAzWUIpo/lffY\n",
       "c/d+Pyl9Y5eBMifhskgwZvjYBHb41Baq0ce60PzBFmdMBKpyh9BZmuQfvVy5+zbuYE3K6OX4woLS\n",
       "rz9BZj93WG69UkV1q41KQ+fCwpxQpZWarjGftPXlCOHkl27lMe1oE9dGsNedrOm+h8ChkbsWJMsn\n",
       "xwEvr2mZsyN5xrLXGT7bPk64DNly0rMOwh3zgatHd1D3JffV92saOIEMDSCgAzWUIro/994fSbhJ\n",
       "6Ru7DJTZAZdDgrHCxybIe32hGn2sC80fbHHGRKAqczW4mXVfIT62IfEFKakf2Uv4N6X5tv/nUynL\n",
       "KvbzZrP5ZrdbydryM2FOJsOBwuDSuiqVqZjqcHttJcLpzNgixpuR5GZ94kAwcPXotkmRtgl4Rbsr\n",
       "hUu0QcrloQzT8GlNMF7WpSOHJAJR+X8YIkCg9OeqwgAAAABJRU5ErkJggg==\n",
       "\" style=\"display:inline;vertical-align:middle;\" /></a>"
      ],
      "text/plain": [
       "(|([not](B_{1}), [not](B_{2}), ..., [not](B_{i - 1}),C_{1}, C_{2}, ..., C_{i}, A or D)| = |(1, 2, ..., m)|, (1, 2, ..., (i - 1),i, (i + 1), ..., j, m) = (1, 2, ..., m), |([not](B_{1}), [not](B_{2}), ..., [not](B_{i - 1}))| = |(1, 2, ..., (i - 1))|, |(C_{1}, C_{2}, ..., C_{i})| = |(i, (i + 1), ..., j)|, (1, 2, ..., j, m) = (1, 2, ..., m), |([not](B_{1}), [not](B_{2}), ..., [not](B_{i - 1}),C_{1}, C_{2}, ..., C_{i})| = |(1, 2, ..., j)|)"
      ]
     },
     "metadata": {},
     "output_type": "display_data"
    }
   ],
   "source": [
    "requirements"
   ]
  },
  {
   "cell_type": "markdown",
   "metadata": {},
   "source": [
    "Notice how the inner $\\forall_{A_i, .., A_j}$ masks a certain range of the $A$ variables and remains unchanged.  If we turn on the `allow_relabeling` flag, we can propagate changes as long as the replacement yields proper parameters.  In this case, it does:"
   ]
  },
  {
   "cell_type": "code",
   "execution_count": 47,
   "metadata": {},
   "outputs": [
    {
     "name": "stdout",
     "output_type": "stream",
     "text": [
      "Expected error: Failure to apply (A_{1}, A_{2}, ..., A_{m}) -> (A_{1} and  A_{2} and  ... and  A_{j} and [forall_{A_{i}, A_{i + 1}, ..., A_{j}} (A_{i} or  A_{i + 1} or  ... or  A_{j})] and A_{m}) to ([not](B_{1}), [not](B_{2}), ..., [not](B_{i - 1}), C_{1}, C_{2}, ..., C_{i}, A or D) using equivalent alternate expansions of {(A_{1}, A_{2}, ..., A_{i - 1},A_{i}, A_{i + 1}, ..., A_{j}, A_{m}): ([not](B_{1}), [not](B_{2}), ..., [not](B_{i - 1}),C_{1}, C_{2}, ..., C_{i}, A or D), (A_{1}, A_{2}, ..., A_{j}, A_{m}): ([not](B_{1}), [not](B_{2}), ..., [not](B_{i - 1}),C_{1}, C_{2}, ..., C_{i}, A or D)} assuming {m = (j + 1), (m - 1) in Natural, i in NaturalPos, j in NaturalPos, m in NaturalPos, j = ((2 * i) - 1), (j - i + 1) = i, (j + 1) = (i + i)}:\n",
      "Improper replacement: Improper replacement of (A_{i}, A_{i + 1}, ..., A_{j}) -> (A_{i} or  A_{i + 1} or  ... or  A_{j}) via {(A_{1}, A_{2}, ..., A_{m}): ([not](B_{1}), [not](B_{2}), ..., [not](B_{i - 1}),C_{1}, C_{2}, ..., C_{i}, A or D), (A_{1}, A_{2}, ..., A_{i - 1},A_{i}, A_{i + 1}, ..., A_{j}, A_{m}): ([not](B_{1}), [not](B_{2}), ..., [not](B_{i - 1}),C_{1}, C_{2}, ..., C_{i}, A or D), (A_{1}, A_{2}, ..., A_{i - 1}): ([not](B_{1}), [not](B_{2}), ..., [not](B_{i - 1})), (A_{i}, A_{i + 1}, ..., A_{j}): (C_{1}, C_{2}, ..., C_{i}), A_{m}: A or D, (A_{1}, A_{2}, ..., A_{j}, A_{m}): ([not](B_{1}), [not](B_{2}), ..., [not](B_{i - 1}),C_{1}, C_{2}, ..., C_{i}, A or D), (A_{1}, A_{2}, ..., A_{j}): ([not](B_{1}), [not](B_{2}), ..., [not](B_{i - 1}),C_{1}, C_{2}, ..., C_{i}), A: {(A_{1}, A_{2}, ..., A_{j}, A_{m}), (A_{1}, A_{2}, ..., A_{m}), (A_{1}, A_{2}, ..., A_{i - 1},A_{i}, A_{i + 1}, ..., A_{j}, A_{m})}}:\n",
      "Partial masking not allowed. A_{i}, A_{i + 1}, ..., A_{j} is not in {(A_{1}, A_{2}, ..., A_{j}, A_{m}), (A_{1}, A_{2}, ..., A_{m}), (A_{1}, A_{2}, ..., A_{i - 1},A_{i}, A_{i + 1}, ..., A_{j}, A_{m})} \n"
     ]
    }
   ],
   "source": [
    "try:\n",
    "    partially_masked_lambda.apply(*operands.entries, assumptions=assumptions,\n",
    "                                  equiv_alt_expansions={alt_A_form1:operands, alt_A_form2:operands},\n",
    "                                 allow_relabeling=True)\n",
    "    assert False, \"Expecting ImproperReplacement error; partial masking no longer supported\"\n",
    "except LambdaApplicationError as e:\n",
    "    print(\"Expected error:\", e)"
   ]
  },
  {
   "cell_type": "markdown",
   "metadata": {},
   "source": [
    "But of we change our `operands` such that it does not provide proper relabeling, then no relabeling will occur either way (whether `allow_relabeling` on or off)."
   ]
  },
  {
   "cell_type": "code",
   "execution_count": 48,
   "metadata": {},
   "outputs": [
    {
     "data": {
      "text/html": [
       "<strong id=\"operands\">operands:</strong> <a class=\"ProveItLink\" href=\"__pv_it/lambda_indeterminate_params/aa4932ab39730e5b33023880b5bf25bd7459fd6b0/expr.ipynb\"><img src=\"data:image/png;base64,iVBORw0KGgoAAAANSUhEUgAAAh0AAAAVBAMAAAAQgkGQAAAAMFBMVEX///8AAAAAAAAAAAAAAAAA\n",
       "AAAAAAAAAAAAAAAAAAAAAAAAAAAAAAAAAAAAAAAAAAAv3aB7AAAAD3RSTlMAInZUiRDNmWbv3US7\n",
       "qzJazP2FAAAACXBIWXMAAA7EAAAOxAGVKw4bAAAFIklEQVRYw5VYXWhcVRCeu7t3d7NpNmsJFEol\n",
       "aXwpojQPGmkQu4j6IAS3VUTF2n2w0ILQFSrWamER1BchVagIFVyQUK0goU/Wl24jCkrT5KV90K5Z\n",
       "+iKU2tS0xtifrDPn5/6dOffeDJybyf3uN3POnJnzswBQAdkMqbBqwkstDsTKOmxX1m29su7uBHiZ\n",
       "MdlMOe1pSTgjD8S7Tm+bxftHYmxzjBDBqcd06hHVlHzc63Te6Eq7Tf0yCTclW/XU4vy9zqUL0T5z\n",
       "tmH3XKc5lArfFhMPlhEk5G9EGA/15i7PVYRTty6bJ18ADKxJdZ96lYQz8mJA72sDLHYjH3C2M5/W\n",
       "4LGvU+H5mtU1zwgSdop4XKTHFflmBaftpnBaaMrm5dIyJte/Uv9IvUvCGTkc0IcxV882Ih8wtt1f\n",
       "MWiFv1PhxYbVNc8IEo6KN+/TQ+ZtGQcF7winfSCbl90498VlNbEqpkk4I8cC+hR2aipa8Izt/HEq\n",
       "9GPp8ONW1xaGT8gNifwu+StJhl6cbZLTcdTGA9YGMJfynyhzKtJJOLN8BCtsEduB6JrP2H6O1sFy\n",
       "Ix2+3xoPC8MnbMzcFGFBsCCX3g1UQMNVcnoItUPhYnd/U8WeW5B/k3AmZ6vhFWfPd9EvTNvObZHi\n",
       "3XT4pDUeFoZPaGRX9S5Tkm8GcYWDpQVyuj8S66XZ0Ut62ot1cy443JRg5pTvjj5MFnaFvjBt55bX\n",
       "g39ojQfD2BUk9I+VbwnlD4BRNSiq5qkqOf0KNWyFUySYWdsrkP0c4CXqTlbVqom7T3VqPm5KCfPw\n",
       "CDFOYnHi6rUD4/OkBi22S2oldUXP7fgLk7Qz7LDGw2QI1x6hAM49ofwFMC1fbacUWpwhpydQO6Hz\n",
       "C3P0Fyq7bnm0RTOr9mkTL0Ch5ePMmjajlPuxOHFkubVAvlhs94k3Llx5EGLxBhyhKbXGw2TIHPAO\n",
       "G28fvSuTuJJVi9E8Pf4TTqPxoNDhZpBtBdZyEx+ccdZ8PD4egwv+jiQXW952SfT+CYAJiMXvwDBO\n",
       "55kU8fAskmiCi7VxW50Z82qVp/gUV4VTVS96vOVVlTkt3XEWL9YoHhrn60XHYwlrZeAOnF4IxcO0\n",
       "Lc8JVRUPO/6BiMdEXL1EGML1hFcuAN9ItXUN/OPHy23hdBbVWW2hIYq9vKK6U2zLZGNwyLV8PCx0\n",
       "cNigjxubxIoDS3V35J9QPEzbdNKDXE31PAaHZ+neIB1FjqYsQ7rWhO+xHZRfbPsd/OPHz9LpZHjv\n",
       "ymOantmn+oy75t46j8PVmoe7FB/x8P4L7sQHMA8/qznPt0LxYGzvbEL/03omY/DytNhVwx69/0yG\n",
       "dK0IDtXhvKyTV+r+feaHhnR6lcbmn7bo7vWj7nNpBkrTPO78FMBPgnqUyOgpjFTZr6TLdAEcEylz\n",
       "7TxKxWYb3Pc674KORwy+heb5W+lIePT98wyRrZLgzq/U4PHe67J0xrxBnX9TO8VaLHXNAyb1eTO2\n",
       "R4HFN8F9Ph6hUneN8xfsfS2tbREPO451UAGnpRyFhWeQawshLJvlPYe5HIk+H5brG4M7F66/5eOR\n",
       "kyd/1RsvpLQt42HHt1z/syYubTlzQDyDXFsI5i30nGrh8T5zawScttydGLyv17sRwEOyW9wIjN+o\n",
       "9mxNaXvoIB6fYvAvez0MinYUXk95BrnmCZFR07H9VdVMoTFlhJaEh0T0yW3Hu05vm8fPaUfhX5ns\n",
       "DJ5gOgVnRDZTtvqBS8AZ2RjvOr1tFs/E/XbLMWIJAaf/A8B34ZdImLVJAAAAAElFTkSuQmCC\n",
       "\" style=\"display:inline;vertical-align:middle;\" /></a><br>"
      ],
      "text/plain": [
       "<IPython.core.display.HTML object>"
      ]
     },
     "metadata": {},
     "output_type": "display_data"
    }
   ],
   "source": [
    "operands = ExprTuple(ExprRange(k, Not(IndexedVar(B, k)), one, subtract(i, one)), \n",
    "                     ExprRange(k, Not(IndexedVar(C, k)), one, i), Or(A, D))"
   ]
  },
  {
   "cell_type": "code",
   "execution_count": 49,
   "metadata": {},
   "outputs": [
    {
     "name": "stdout",
     "output_type": "stream",
     "text": [
      "Expected error: Failure to apply (A_{1}, A_{2}, ..., A_{m}) -> (A_{1} and  A_{2} and  ... and  A_{j} and [forall_{A_{i}, A_{i + 1}, ..., A_{j}} (A_{i} or  A_{i + 1} or  ... or  A_{j})] and A_{m}) to ([not](B_{1}), [not](B_{2}), ..., [not](B_{i - 1}), [not](C_{1}), [not](C_{2}), ..., [not](C_{i}), A or D) using equivalent alternate expansions of {(A_{1}, A_{2}, ..., A_{i - 1},A_{i}, A_{i + 1}, ..., A_{j}, A_{m}): ([not](B_{1}), [not](B_{2}), ..., [not](B_{i - 1}),[not](C_{1}), [not](C_{2}), ..., [not](C_{i}), A or D), (A_{1}, A_{2}, ..., A_{j}, A_{m}): ([not](B_{1}), [not](B_{2}), ..., [not](B_{i - 1}),[not](C_{1}), [not](C_{2}), ..., [not](C_{i}), A or D)} assuming {m = (j + 1), (m - 1) in Natural, i in NaturalPos, j in NaturalPos, m in NaturalPos, j = ((2 * i) - 1), (j - i + 1) = i, (j + 1) = (i + i)}:\n",
      "Improper replacement: Improper replacement of (A_{i}, A_{i + 1}, ..., A_{j}) -> (A_{i} or  A_{i + 1} or  ... or  A_{j}) via {(A_{1}, A_{2}, ..., A_{m}): ([not](B_{1}), [not](B_{2}), ..., [not](B_{i - 1}),[not](C_{1}), [not](C_{2}), ..., [not](C_{i}), A or D), (A_{1}, A_{2}, ..., A_{i - 1},A_{i}, A_{i + 1}, ..., A_{j}, A_{m}): ([not](B_{1}), [not](B_{2}), ..., [not](B_{i - 1}),[not](C_{1}), [not](C_{2}), ..., [not](C_{i}), A or D), (A_{1}, A_{2}, ..., A_{i - 1}): ([not](B_{1}), [not](B_{2}), ..., [not](B_{i - 1})), (A_{i}, A_{i + 1}, ..., A_{j}): ([not](C_{1}), [not](C_{2}), ..., [not](C_{i})), A_{m}: A or D, (A_{1}, A_{2}, ..., A_{j}, A_{m}): ([not](B_{1}), [not](B_{2}), ..., [not](B_{i - 1}),[not](C_{1}), [not](C_{2}), ..., [not](C_{i}), A or D), (A_{1}, A_{2}, ..., A_{j}): ([not](B_{1}), [not](B_{2}), ..., [not](B_{i - 1}),[not](C_{1}), [not](C_{2}), ..., [not](C_{i})), A: {(A_{1}, A_{2}, ..., A_{j}, A_{m}), (A_{1}, A_{2}, ..., A_{m}), (A_{1}, A_{2}, ..., A_{i - 1},A_{i}, A_{i + 1}, ..., A_{j}, A_{m})}}:\n",
      "Partial masking not allowed. A_{i}, A_{i + 1}, ..., A_{j} is not in {(A_{1}, A_{2}, ..., A_{j}, A_{m}), (A_{1}, A_{2}, ..., A_{m}), (A_{1}, A_{2}, ..., A_{i - 1},A_{i}, A_{i + 1}, ..., A_{j}, A_{m})} \n"
     ]
    }
   ],
   "source": [
    "try:\n",
    "    partially_masked_lambda.apply(*operands.entries, assumptions=assumptions,\n",
    "                                  equiv_alt_expansions={alt_A_form1:operands, alt_A_form2:operands})\n",
    "    assert False, \"Expecting ImproperReplacement error; partial masking no longer supported\"\n",
    "except LambdaApplicationError as e:\n",
    "    print(\"Expected error:\", e)"
   ]
  },
  {
   "cell_type": "code",
   "execution_count": 50,
   "metadata": {},
   "outputs": [
    {
     "name": "stdout",
     "output_type": "stream",
     "text": [
      "Expected error: Failure to apply (A_{1}, A_{2}, ..., A_{m}) -> (A_{1} and  A_{2} and  ... and  A_{j} and [forall_{A_{i}, A_{i + 1}, ..., A_{j}} (A_{i} or  A_{i + 1} or  ... or  A_{j})] and A_{m}) to ([not](B_{1}), [not](B_{2}), ..., [not](B_{i - 1}), [not](C_{1}), [not](C_{2}), ..., [not](C_{i}), A or D) using equivalent alternate expansions of {(A_{1}, A_{2}, ..., A_{i - 1},A_{i}, A_{i + 1}, ..., A_{j}, A_{m}): ([not](B_{1}), [not](B_{2}), ..., [not](B_{i - 1}),[not](C_{1}), [not](C_{2}), ..., [not](C_{i}), A or D), (A_{1}, A_{2}, ..., A_{j}, A_{m}): ([not](B_{1}), [not](B_{2}), ..., [not](B_{i - 1}),[not](C_{1}), [not](C_{2}), ..., [not](C_{i}), A or D)} assuming {m = (j + 1), (m - 1) in Natural, i in NaturalPos, j in NaturalPos, m in NaturalPos, j = ((2 * i) - 1), (j - i + 1) = i, (j + 1) = (i + i)}:\n",
      "Improper replacement: Improper replacement of (A_{i}, A_{i + 1}, ..., A_{j}) -> (A_{i} or  A_{i + 1} or  ... or  A_{j}) via {(A_{1}, A_{2}, ..., A_{m}): ([not](B_{1}), [not](B_{2}), ..., [not](B_{i - 1}),[not](C_{1}), [not](C_{2}), ..., [not](C_{i}), A or D), (A_{1}, A_{2}, ..., A_{i - 1},A_{i}, A_{i + 1}, ..., A_{j}, A_{m}): ([not](B_{1}), [not](B_{2}), ..., [not](B_{i - 1}),[not](C_{1}), [not](C_{2}), ..., [not](C_{i}), A or D), (A_{1}, A_{2}, ..., A_{i - 1}): ([not](B_{1}), [not](B_{2}), ..., [not](B_{i - 1})), (A_{i}, A_{i + 1}, ..., A_{j}): ([not](C_{1}), [not](C_{2}), ..., [not](C_{i})), A_{m}: A or D, (A_{1}, A_{2}, ..., A_{j}, A_{m}): ([not](B_{1}), [not](B_{2}), ..., [not](B_{i - 1}),[not](C_{1}), [not](C_{2}), ..., [not](C_{i}), A or D), (A_{1}, A_{2}, ..., A_{j}): ([not](B_{1}), [not](B_{2}), ..., [not](B_{i - 1}),[not](C_{1}), [not](C_{2}), ..., [not](C_{i})), A: {(A_{1}, A_{2}, ..., A_{j}, A_{m}), (A_{1}, A_{2}, ..., A_{m}), (A_{1}, A_{2}, ..., A_{i - 1},A_{i}, A_{i + 1}, ..., A_{j}, A_{m})}}:\n",
      "Partial masking not allowed. A_{i}, A_{i + 1}, ..., A_{j} is not in {(A_{1}, A_{2}, ..., A_{j}, A_{m}), (A_{1}, A_{2}, ..., A_{m}), (A_{1}, A_{2}, ..., A_{i - 1},A_{i}, A_{i + 1}, ..., A_{j}, A_{m})} \n"
     ]
    }
   ],
   "source": [
    "try:\n",
    "    partially_masked_lambda.apply(*operands.entries, assumptions=assumptions,\n",
    "                                  equiv_alt_expansions={alt_A_form1:operands, alt_A_form2:operands},\n",
    "                                 allow_relabeling=True)\n",
    "    assert False, \"Expecting ImproperReplacement error; partial masking no longer supported\"\n",
    "except LambdaApplicationError as e:\n",
    "    print(\"Expected error:\", e)"
   ]
  },
  {
   "cell_type": "markdown",
   "metadata": {},
   "source": [
    "We will discuss these features and its limitations in more detail in a later chapter (ExprRange/IndexedVar expansions in ExprTuples).  Here we demonstrated some of the versatility of using `equiv_alt_expansions`."
   ]
  },
  {
   "cell_type": "code",
   "execution_count": 51,
   "metadata": {},
   "outputs": [],
   "source": [
    "%end lambda_indeterminate_params"
   ]
  },
  {
   "cell_type": "markdown",
   "metadata": {},
   "source": [
    "# Next chapter: <a href=\"tutorial04_relabeling.ipynb\">ToDo</a>\n",
    "\n",
    "## <a href=\"tutorial00_introduction.ipynb#contents\">Table of Contents</a>"
   ]
  }
 ],
 "metadata": {
  "kernelspec": {
   "display_name": "Python 3",
   "language": "python",
   "name": "python3"
  }
 },
 "nbformat": 4,
 "nbformat_minor": 0
}