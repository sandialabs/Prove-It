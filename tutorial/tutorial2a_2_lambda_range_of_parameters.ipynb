{
 "cells": [
  {
   "cell_type": "markdown",
   "metadata": {},
   "source": [
    "Chapter 2.a.ii.  Lambda with an indeterminate number of parameters\n",
    "=======\n",
    "\n",
    "The previous chapter discussed **Lambda** expressions with a fixed number of parameters.  In this chapter, we will discuss **Lambda** expressions with an unspecified number of parameters.  This is done by using an **ExprRange** of **IndexedVar** expressions in the **ExprTuple** of parameters.  For example $(x_1, ..., x_n) \\mapsto (x_1 + ... + x_n)$.  In this new theory, we revisit creation of **Lambda** expressions (abstraction), *relabeling* its parameters while retaining its meaning (alpha conversion), and *applying* the **Lambda** function to operators (beta reduction).  As a reminder, the beta reduction rule plays an important role in the **Instantiation** derivation rule, critical for constructing **Prove-It** proofs."
   ]
  },
  {
   "cell_type": "code",
   "execution_count": null,
   "metadata": {},
   "outputs": [],
   "source": [
    "import proveit\n",
    "%begin lambda_indeterminate_params"
   ]
  },
  {
   "cell_type": "markdown",
   "metadata": {},
   "source": [
    "## Creating Lambda expressions (abstraction) with an indeterminate number of parameters\n",
    "\n",
    "We can make a **Lambda** expression with an indeterminate number of parameters by composing parameter entries from an `ExprRange` of `IndexedVar` expressions, such as $x_1, ..., x_n$.  It is important to recognize that although the number of parameters may not be a specific integer value, this number is tied to expressions in a consistent manner.  In the example of $x_1, ..., x_n$, there are $n$ parameters in this range and this same $n$ may be used elsewhere in the expression.  In the following example, we construct a lambda function that takes $2 n$ arguments and produces the dot product between the first $n$ and the last $n$ of these."
   ]
  },
  {
   "cell_type": "code",
   "execution_count": null,
   "metadata": {},
   "outputs": [],
   "source": [
    "from proveit import Lambda, ExprTuple, ExprRange, IndexedVar\n",
    "from proveit import a, b, m, n, x, y\n",
    "from proveit.core_expr_types import Len\n",
    "from proveit.core_expr_types import x_1_to_n, y_1_to_n\n",
    "from proveit.logic import InSet\n",
    "from proveit.numbers import one, two, Natural, Add, Mult"
   ]
  },
  {
   "cell_type": "code",
   "execution_count": null,
   "metadata": {},
   "outputs": [],
   "source": [
    "dot_prod_lambda = \\\n",
    "    Lambda((x_1_to_n, y_1_to_n), \n",
    "           Add(ExprRange(a, Mult(IndexedVar(x, a),\n",
    "                                 IndexedVar(y, a)), one, n)))"
   ]
  },
  {
   "cell_type": "markdown",
   "metadata": {},
   "source": [
    "It is useful to make the distinction between parameter entries (which may be ExprRange or IndexedVar expressions) and parameter variables (which may only be Variable types).  In the `dot_prod_lambda` example, the parameter entries are $x_1, ..., x_n$ and $y_1, ..., y_n$ but the variables are $x$ and $y$."
   ]
  },
  {
   "cell_type": "code",
   "execution_count": null,
   "metadata": {},
   "outputs": [],
   "source": [
    "dot_prod_lambda.parameters"
   ]
  },
  {
   "cell_type": "code",
   "execution_count": null,
   "metadata": {},
   "outputs": [],
   "source": [
    "dot_prod_lambda.parameter_vars"
   ]
  },
  {
   "cell_type": "markdown",
   "metadata": {},
   "source": [
    "Note that parameter variables must be unique (rather than parameter entries)."
   ]
  },
  {
   "cell_type": "code",
   "execution_count": null,
   "metadata": {},
   "outputs": [],
   "source": [
    "from proveit import ParameterCollisionError\n",
    "try:\n",
    "    Lambda((x_1_to_n, x), Mult(x_1_to_n))\n",
    "    assert False, \"Expected an ParameterCollisionError error.\"\n",
    "except ParameterCollisionError as e:\n",
    "    print(\"Expected error:\", e)"
   ]
  },
  {
   "cell_type": "code",
   "execution_count": null,
   "metadata": {},
   "outputs": [],
   "source": [
    "try:\n",
    "    Lambda((IndexedVar(x, n), IndexedVar(x, m)), Mult(IndexedVar(x, n), IndexedVar(x, m)))\n",
    "    assert False, \"Expected an ParameterCollisionError error.\"\n",
    "except ParameterCollisionError as e:\n",
    "    print(\"Expected error:\", e)"
   ]
  },
  {
   "cell_type": "markdown",
   "metadata": {},
   "source": [
    "Also, none of the parameter variables may occur as free variables within any parameter index."
   ]
  },
  {
   "cell_type": "code",
   "execution_count": null,
   "metadata": {},
   "outputs": [],
   "source": [
    "try:\n",
    "    Lambda((IndexedVar(x, n), IndexedVar(y, x)), Mult(IndexedVar(x, n), IndexedVar(y, x)))\n",
    "    assert False, \"Expected an ParameterCollisionError error.\"\n",
    "except ParameterCollisionError as e:\n",
    "    print(\"Expected error:\", e)"
   ]
  },
  {
   "cell_type": "markdown",
   "metadata": {},
   "source": [
    "Parameters are not restricted to occurrences where the ranges matches.  Any ambiguity must be resolved when the **Lambda** expression is applied, however.  Also, relabeling will not be allowed as we shall see in the next section."
   ]
  },
  {
   "cell_type": "code",
   "execution_count": null,
   "metadata": {},
   "outputs": [],
   "source": [
    "inconsistent_dot_prod = Lambda((x_1_to_n, y_1_to_n), Add(ExprRange(a, Mult(IndexedVar(x, a),\n",
    "                                                                           IndexedVar(y, a)), one, m)))"
   ]
  },
  {
   "cell_type": "markdown",
   "metadata": {},
   "source": [
    "## Relabeling with an indeterminant number of parameters (alpha conversion)\n",
    "\n",
    "When a parameter variable occurs in the **Lambda** body only within ranges that match the range of the parameter entry, relabeling is straightforward.  For example, with"
   ]
  },
  {
   "cell_type": "code",
   "execution_count": null,
   "metadata": {},
   "outputs": [],
   "source": [
    "dot_prod_lambda"
   ]
  },
  {
   "cell_type": "markdown",
   "metadata": {},
   "source": [
    "both $x$ and $y$ have consistent $1$ to $n$ ranges in the body and the parameters.  So we can relabel with"
   ]
  },
  {
   "cell_type": "code",
   "execution_count": null,
   "metadata": {},
   "outputs": [],
   "source": [
    "dot_prod_lambda_relabeled = dot_prod_lambda.relabeled({x:a, y:b})"
   ]
  },
  {
   "cell_type": "code",
   "execution_count": null,
   "metadata": {},
   "outputs": [],
   "source": [
    "assert dot_prod_lambda_relabeled == dot_prod_lambda"
   ]
  },
  {
   "cell_type": "markdown",
   "metadata": {},
   "source": [
    "When they do not match, a `DisallowedParameterRelabeling` exception is raised whenever relabeling is attempted.  The attempt may be direct:"
   ]
  },
  {
   "cell_type": "code",
   "execution_count": null,
   "metadata": {},
   "outputs": [],
   "source": [
    "from proveit import DisallowedParameterRelabeling\n",
    "try:\n",
    "    inconsistent_dot_prod.relabeled({x:a, y:b})\n",
    "    assert False, \"Expected an DisallowedParameterRelabeling error.\"\n",
    "except DisallowedParameterRelabeling as e:\n",
    "    print(\"Expected error:\", e)"
   ]
  },
  {
   "cell_type": "markdown",
   "metadata": {},
   "source": [
    "Or relabeling may be indirect when the system tries to automaticically avoid a variable collision:"
   ]
  },
  {
   "cell_type": "code",
   "execution_count": null,
   "metadata": {},
   "outputs": [],
   "source": [
    "try_this = Lambda(b, Lambda((x_1_to_n, y_1_to_n), Add(ExprRange(a, Mult(b, IndexedVar(x, a),\n",
    "                                                                        IndexedVar(y, a)), one, m))))"
   ]
  },
  {
   "cell_type": "code",
   "execution_count": null,
   "metadata": {},
   "outputs": [],
   "source": [
    "try:\n",
    "    try_this.apply(x) # SHOULD NOT BE ALLOWED!\n",
    "    assert False, \"Expected an DisallowedParameterRelabeling error.\"\n",
    "except DisallowedParameterRelabeling as e:\n",
    "    print(\"Expected error:\", e)"
   ]
  },
  {
   "cell_type": "markdown",
   "metadata": {},
   "source": [
    "It is, however, possible to perform an internal relabeling in such cases in the process of performing an lambda application.  We will show an example of this in the next section."
   ]
  },
  {
   "cell_type": "markdown",
   "metadata": {},
   "source": [
    "## Application with an indeterminant number of parameters (beta reduction)\n",
    "\n",
    "Starting with a simple case, let us call the `apply` method on our `dot_prod_labmda` example to perform beta reduction."
   ]
  },
  {
   "cell_type": "code",
   "execution_count": null,
   "metadata": {},
   "outputs": [],
   "source": [
    "dot_prod_lambda"
   ]
  },
  {
   "cell_type": "markdown",
   "metadata": {},
   "source": [
    "Let's apply this to some operands for the simple case where they are composed of two expression ranges that have the same start and end indices as the corresponding parameters."
   ]
  },
  {
   "cell_type": "code",
   "execution_count": null,
   "metadata": {},
   "outputs": [],
   "source": [
    "operands = [ExprRange(a, a, one, n), ExprRange(a, Add(a, a), one, n)]"
   ]
  },
  {
   "cell_type": "code",
   "execution_count": null,
   "metadata": {},
   "outputs": [],
   "source": [
    "requirements = []\n",
    "dot_prod_lambda.apply(*operands, assumptions=[InSet(n, Natural)],\n",
    "                     requirements=requirements)"
   ]
  },
  {
   "cell_type": "markdown",
   "metadata": {},
   "source": [
    "Note that this time we supplied assumptions, specifically that $n \\in \\mathbb{N}$, and made a list to pass back requirements.  In order to make this step, we need to prove that the lengths of the operands match lengths of corresponding parameters.  In order to prove it in this case, we need to know that $n$ is in the set of natural numbers (otherwise, this lambda expression does not make sense and should not apply to anything anyways).  The requirements that are passed back are precisely the judgments that prove that the lengths match as is necessary in order to assure that this beta reduction is valid.  This will get used when beta reduction is employed to perform the **instantiation** derivation rule."
   ]
  },
  {
   "cell_type": "code",
   "execution_count": null,
   "metadata": {},
   "outputs": [],
   "source": [
    "requirements"
   ]
  },
  {
   "cell_type": "markdown",
   "metadata": {},
   "source": [
    "We can also perform `apply` such that multiple operand entries correspond to a given parameter entry as long as we can meet the length-matching requirements under the provided assumptions.  In such cases, expression ranges containing these parameters will expand to accommodate the different operand entries.  Also, it doesn't matter what the start and end indices are, as long as we meet the length matching requirements.  Consider the following operands for an application of `dot_prod_lambda`."
   ]
  },
  {
   "cell_type": "code",
   "execution_count": null,
   "metadata": {},
   "outputs": [],
   "source": [
    "from proveit import k\n",
    "from proveit.logic import Equals\n",
    "from proveit.numbers import zero\n",
    "operands = [ExprRange(a, Mult(a, a), zero, k), x,\n",
    "            ExprRange(a, a, one, m), \n",
    "            ExprRange(a, Add(a, a), zero, k), y,\n",
    "            ExprRange(a, a, one, m)]"
   ]
  },
  {
   "cell_type": "code",
   "execution_count": null,
   "metadata": {},
   "outputs": [],
   "source": [
    "assumption1 = Equals(Len(operands[:3]),\n",
    "                     Len(ExprRange(a, a, one, n)))"
   ]
  },
  {
   "cell_type": "code",
   "execution_count": null,
   "metadata": {},
   "outputs": [],
   "source": [
    "assumption2 = Equals(Len(operands[3:]),\n",
    "                     Len(ExprRange(a, a, one, n)))"
   ]
  },
  {
   "cell_type": "code",
   "execution_count": null,
   "metadata": {},
   "outputs": [],
   "source": [
    "requirements = []\n",
    "dot_prod_lambda.apply(*operands, assumptions=[InSet(n, Natural),\n",
    "                                             assumption1,\n",
    "                                             assumption2],\n",
    "                     requirements=requirements)"
   ]
  },
  {
   "cell_type": "code",
   "execution_count": null,
   "metadata": {},
   "outputs": [],
   "source": [
    "requirements"
   ]
  },
  {
   "cell_type": "markdown",
   "metadata": {},
   "source": [
    "To ensure unambiguous and straightforward behavior when different parameter ranges are involved in the same expression range (as in the dot product case), their operands must be in exact correspondence with respect to range start and end indices (and whether or not an entry is a range).  Otherwise, a `LambdaApplicationError` exception will be raised as in the following demonstration.  In this example, `assumption1` is used again so there is a proper alignment of lengths with $n$ elements for $x$ and $n$ elements for $y$.  However, the internal structures of $x$ and $y$ are not aligned to each other."
   ]
  },
  {
   "cell_type": "code",
   "execution_count": null,
   "metadata": {},
   "outputs": [],
   "source": [
    "from proveit import k\n",
    "new_operands = [*operands[:3], \n",
    "                ExprRange(a, Add(a, a), one, n)]"
   ]
  },
  {
   "cell_type": "code",
   "execution_count": null,
   "metadata": {},
   "outputs": [],
   "source": [
    "from proveit import LambdaApplicationError\n",
    "try:\n",
    "    dot_prod_lambda.apply(*new_operands, \n",
    "                          assumptions=[InSet(n, Natural), \n",
    "                                       assumption1],\n",
    "                         requirements=requirements)\n",
    "    assert False, \"Expecting LambdaApplicationError\"\n",
    "except LambdaApplicationError as e:\n",
    "    print(\"Expected error:\", e)"
   ]
  },
  {
   "cell_type": "markdown",
   "metadata": {},
   "source": [
    "Of course, when parameter ranges are not involved in the same expression range, this restriction does not apply."
   ]
  },
  {
   "cell_type": "code",
   "execution_count": null,
   "metadata": {},
   "outputs": [],
   "source": [
    "add2n_lambda = Lambda((x_1_to_n, y_1_to_n), \n",
    "                       Add(x_1_to_n, y_1_to_n))"
   ]
  },
  {
   "cell_type": "code",
   "execution_count": null,
   "metadata": {},
   "outputs": [],
   "source": [
    "requirements = []\n",
    "add2n_lambda.apply(*new_operands,\n",
    "                   assumptions=[InSet(n, Natural), assumption1],\n",
    "                   requirements=requirements)"
   ]
  },
  {
   "cell_type": "markdown",
   "metadata": {},
   "source": [
    "Furthermore, to ensure unambiguous and straightforward lambda application, we do not allow a single operand entry to correspond with multiple parameter entries or crossing boundaries in any way."
   ]
  },
  {
   "cell_type": "code",
   "execution_count": null,
   "metadata": {},
   "outputs": [],
   "source": [
    "operands = [ExprRange(a, Mult(a, a), one, Mult(two, n))]"
   ]
  },
  {
   "cell_type": "code",
   "execution_count": null,
   "metadata": {},
   "outputs": [],
   "source": [
    "assumption = Equals(Len(operands),\n",
    "                    Len([ExprRange(a, a, one, n), \n",
    "                         ExprRange(a, a, one, n)]))"
   ]
  },
  {
   "cell_type": "code",
   "execution_count": null,
   "metadata": {},
   "outputs": [],
   "source": [
    "try:\n",
    "    add2n_lambda.apply(*operands, assumptions=[assumption],\n",
    "                       requirements=requirements)\n",
    "    assert False, \"Expecting LambdaApplicationError\"\n",
    "except LambdaApplicationError as e:\n",
    "    print(\"Expected error:\", e)"
   ]
  },
  {
   "cell_type": "markdown",
   "metadata": {},
   "source": [
    "### Providing alternative expansions\n",
    "\n",
    "A variable may occur in an expression in various forms, indexed over different ranges.  In order to treat the various forms that a range of parameters may occur in an unambiguous and versatile manner, you may pass an optional `equiv_alt_expansions` dictionary to the `apply` method for specifying various expansions for the different alternative forms.  The rule in doing this is fairly simple and straightforward, but allows for a lot of versatility.  Basically, if $x_i, ..., x_j$ is a range of parameters of the lambda expression, an `equiv_alt_expansions` may have various keys that are alternative ways of representing $(x_i, ..., x_j)$, such as $(x_i, x_{i+1}, ..., x_{j-1}, x_j)$ assuming $j-i \\geq 1$, and the corresponding values of the dictionary are alternative ways of representing the **ExprTuple** of operands supplied for the $x_i, ..., x_j$ parameters.  These alternative expansions can provide the information needed to expand the variable in its various forms.  The requirements to allow for these alternative expansions is straightforward.  The alternative ways of representing $(x_i, ..., x_j)$ must be equal to $(x_i, ..., x_j)$ and the corresponding values of the `equiv_alt_expansions` dictionary must be equal to the **ExprTuple** of operands supplied for $x_i, ..., x_j$.\n",
    "\n",
    "The following is an example that demonstrates the versatility of this feature and even includes some partial masking of a range of parameters to make it interesting."
   ]
  },
  {
   "cell_type": "code",
   "execution_count": null,
   "metadata": {},
   "outputs": [],
   "source": [
    "from proveit import var_range\n",
    "from proveit import A, B, C, D, i, j, k, m\n",
    "from proveit.core_expr_types import A_1_to_m, A_i_to_j\n",
    "from proveit.logic import Not, And, Or, Forall\n",
    "from proveit.numbers import one, Neg, subtract, NaturalPos\n",
    "A_1_to_j, A_m = var_range(A, one, j), IndexedVar(A, m)"
   ]
  },
  {
   "cell_type": "code",
   "execution_count": null,
   "metadata": {},
   "outputs": [],
   "source": [
    "partially_masked_lambda = Lambda(A_1_to_m, And(A_1_to_j, Forall(A_i_to_j, Or(A_i_to_j)), A_m))"
   ]
  },
  {
   "cell_type": "markdown",
   "metadata": {},
   "source": [
    "On its own, this **Lambda** expression is ambiguous.  There are different interpretations depending upon the order of the $1$, $i$, $j$, and $m$ indices.  The `assumptions` and the `equiv_alt_expansions` supplied when calling the `apply` must resolve any ambiguity.  So let's set this up for some unambiguous interpretation when we apply this lambda expression to some `operands`."
   ]
  },
  {
   "cell_type": "code",
   "execution_count": null,
   "metadata": {},
   "outputs": [],
   "source": [
    "operands = ExprTuple(ExprRange(k, Not(IndexedVar(B, k)), one, subtract(i, one)), \n",
    "                    var_range(C, one, i),\n",
    "                    Or(A, D))"
   ]
  },
  {
   "cell_type": "markdown",
   "metadata": {},
   "source": [
    "This gives us the replacement that should be used when encountering the range $A_1, ..., A_m$, but we really need to know what to do when we encounter $A_1, ..., A_j$, $A_i, ..., A_j$, and $A_m$.  First, we will need some assumptions for our arbitrary (for demonstration purposes) scenario."
   ]
  },
  {
   "cell_type": "code",
   "execution_count": null,
   "metadata": {},
   "outputs": [],
   "source": [
    "assumptions = (Equals(m, Add(j, one)), InSet(subtract(m, one), Natural), InSet(i, NaturalPos), \n",
    "               InSet(j, NaturalPos), #InSet(Add(j, Neg(i), one), Natural),\n",
    "               Equals(j, subtract(Mult(two, i), one)),\n",
    "               Equals(Add(j, Neg(i), one), i),\n",
    "               Equals(Add(j, one), Add(i, i)))"
   ]
  },
  {
   "cell_type": "markdown",
   "metadata": {},
   "source": [
    "The last two assumptions are redundant so we don't have to bother proving them for this demonstration.  They were chosen to give us precisely what we need for proving the requirements needed for our lambda application demonstration.  Now let's make some needed alternatives to $(A_1, ..., A_m)$ and prove they are equivalent to it by calling the `ExprTuple.merger` method which will automatically apply some theorems."
   ]
  },
  {
   "cell_type": "code",
   "execution_count": null,
   "metadata": {},
   "outputs": [],
   "source": [
    "alt_A_form1 = ExprTuple(var_range(A, one, subtract(i, one)), A_i_to_j, A_m)"
   ]
  },
  {
   "cell_type": "code",
   "execution_count": null,
   "metadata": {},
   "outputs": [],
   "source": [
    "# And maybe we'll have a simpler way to do this:\n",
    "assumptions[5].sub_left_side_into(assumptions[2].prove(assumptions), assumptions)"
   ]
  },
  {
   "cell_type": "code",
   "execution_count": null,
   "metadata": {},
   "outputs": [],
   "source": [
    "alt_A_form1.merger(assumptions)"
   ]
  },
  {
   "cell_type": "markdown",
   "metadata": {},
   "source": [
    "Here we employ a trick using an `InnerExpr` object.  We'll discuss how that works in a later chapter."
   ]
  },
  {
   "cell_type": "code",
   "execution_count": null,
   "metadata": {},
   "outputs": [],
   "source": [
    "alt_A_form2 = alt_A_form1.inner_expr(assumptions)[:2].merged(assumptions=assumptions)"
   ]
  },
  {
   "cell_type": "code",
   "execution_count": null,
   "metadata": {},
   "outputs": [],
   "source": [
    "from proveit import extract_var_tuple_indices\n",
    "extract_var_tuple_indices(alt_A_form1).merger(assumptions)"
   ]
  },
  {
   "cell_type": "markdown",
   "metadata": {},
   "source": [
    "Now we are ready to demonstrate this lambda application using multiple alternative expansions via `equiv_alt_expansions`."
   ]
  },
  {
   "cell_type": "code",
   "execution_count": null,
   "metadata": {},
   "outputs": [],
   "source": [
    "m_eq = assumptions[4].sub_right_side_into(assumptions[0], assumptions)"
   ]
  },
  {
   "cell_type": "code",
   "execution_count": null,
   "metadata": {},
   "outputs": [],
   "source": [
    "m_eq.inner_expr().rhs.simplify(assumptions)"
   ]
  },
  {
   "cell_type": "code",
   "execution_count": null,
   "metadata": {},
   "outputs": [],
   "source": [
    "requirements = []\n",
    "partially_masked_lambda.apply(*operands.entries, assumptions=assumptions, requirements=requirements,\n",
    "                              equiv_alt_expansions={alt_A_form1:operands, alt_A_form2:operands})"
   ]
  },
  {
   "cell_type": "markdown",
   "metadata": {},
   "source": [
    "And these were the requirements to make that happen, making sure that lengths match properly as well as certain index ranges."
   ]
  },
  {
   "cell_type": "code",
   "execution_count": null,
   "metadata": {},
   "outputs": [],
   "source": [
    "requirements"
   ]
  },
  {
   "cell_type": "markdown",
   "metadata": {},
   "source": [
    "Notice how the inner $\\forall_{A_i, .., A_j}$ masks a certain range of the $A$ variables and remains unchanged.  If we turn on the `allow_relabeling` flag, we can propagate changes as long as the replacement yields proper parameters.  In this case, it does:"
   ]
  },
  {
   "cell_type": "code",
   "execution_count": null,
   "metadata": {},
   "outputs": [],
   "source": [
    "partially_masked_lambda.apply(*operands.entries, assumptions=assumptions,\n",
    "                              equiv_alt_expansions={alt_A_form1:operands, alt_A_form2:operands},\n",
    "                             allow_relabeling=True)"
   ]
  },
  {
   "cell_type": "markdown",
   "metadata": {},
   "source": [
    "But of we change our `operands` such that it does not provide proper relabeling, then no relabeling will occur either way (whether `allow_relabeling` on or off)."
   ]
  },
  {
   "cell_type": "code",
   "execution_count": null,
   "metadata": {},
   "outputs": [],
   "source": [
    "operands = ExprTuple(ExprRange(k, Not(IndexedVar(B, k)), one, subtract(i, one)), \n",
    "                     ExprRange(k, Not(IndexedVar(C, k)), one, i), Or(A, D))"
   ]
  },
  {
   "cell_type": "code",
   "execution_count": null,
   "metadata": {},
   "outputs": [],
   "source": [
    "partially_masked_lambda.apply(*operands.entries, assumptions=assumptions,\n",
    "                              equiv_alt_expansions={alt_A_form1:operands, alt_A_form2:operands})"
   ]
  },
  {
   "cell_type": "code",
   "execution_count": null,
   "metadata": {},
   "outputs": [],
   "source": [
    "partially_masked_lambda.apply(*operands.entries, assumptions=assumptions,\n",
    "                              equiv_alt_expansions={alt_A_form1:operands, alt_A_form2:operands},\n",
    "                             allow_relabeling=True)"
   ]
  },
  {
   "cell_type": "markdown",
   "metadata": {},
   "source": [
    "We will discuss these features and its limitations in more detail in a later chapter (ExprRange/IndexedVar expansions in ExprTuples).  Here we demonstrated some of the versatility of using `equiv_alt_expansions`."
   ]
  },
  {
   "cell_type": "code",
   "execution_count": null,
   "metadata": {},
   "outputs": [],
   "source": [
    "%end lambda_indeterminate_params"
   ]
  },
  {
   "cell_type": "markdown",
   "metadata": {},
   "source": [
    "# Next chapter: <a href=\"tutorial04_relabeling.ipynb\">ToDo</a>\n",
    "\n",
    "## <a href=\"tutorial00_introduction.ipynb#contents\">Table of Contents</a>"
   ]
  }
 ],
 "metadata": {
  "kernelspec": {
   "display_name": "Python 3",
   "language": "python",
   "name": "python3"
  }
 },
 "nbformat": 4,
 "nbformat_minor": 0
}
