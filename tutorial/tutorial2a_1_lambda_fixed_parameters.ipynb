{
 "cells": [
  {
   "cell_type": "markdown",
   "metadata": {},
   "source": [
    "Chapter 2.a.i. Lambda with a fixed number of parameters\n",
    "=======\n",
    "\n",
    "**Lambda** expressions and their reductions are critical components of the core deriviation system of **Prove-It**. A **Lambda** expression defines a function by mapping one or more parameters to an expression involving those parameters. For example $(x,y,z) \\mapsto (x+y) \\cdot z$ defines a function that operates on three parameters by adding the first two then multiplying that sum by the third. In lambda calculus terminology, this way of defining an function is called an *abstraction*.\n",
    "\n",
    "In this chapter, we discuss **Lambda** expressions with a fixed number of parameters. We will discuss creation of Lambda expressions (abstraction), *relabeling* its parameters while retaining its meaning (alpha conversion), and *applying* the **Lambda** function to operators (beta reduction). The latter reduction rule plays an important role in proof deriviations in **Prove-It**. Specifically, the **instantiation** derivation rule is implemented via *lambda application*.\n",
    "\n",
    "In the next chapter, we will discuss **Lambda** expressions with an indeterminate number of parameters."
   ]
  },
  {
   "cell_type": "code",
   "execution_count": null,
   "metadata": {},
   "outputs": [],
   "source": [
    "import proveit\n",
    "%begin lambda_reductions"
   ]
  },
  {
   "cell_type": "markdown",
   "metadata": {},
   "source": [
    "## Creating Lambda expressions (abstraction)\n",
    "\n",
    "Let's create our example expression after importing some necessary classes and objects."
   ]
  },
  {
   "cell_type": "code",
   "execution_count": null,
   "metadata": {},
   "outputs": [],
   "source": [
    "from proveit import Lambda\n",
    "from proveit import a, b, c, x, y, z\n",
    "from proveit.numbers import Add, Mult\n",
    "sum_then_mult = Lambda((x, y, z), Mult(Add(x, y), z))"
   ]
  },
  {
   "cell_type": "markdown",
   "metadata": {},
   "source": [
    "A **Lambda** expression has `parameter(s)` and a `body`:"
   ]
  },
  {
   "cell_type": "code",
   "execution_count": null,
   "metadata": {},
   "outputs": [],
   "source": [
    "sum_then_mult.parameters"
   ]
  },
  {
   "cell_type": "code",
   "execution_count": null,
   "metadata": {},
   "outputs": [],
   "source": [
    "sum_then_mult.body"
   ]
  },
  {
   "cell_type": "markdown",
   "metadata": {},
   "source": [
    "If there is a single parameter, just use `parameter`:"
   ]
  },
  {
   "cell_type": "code",
   "execution_count": null,
   "metadata": {},
   "outputs": [],
   "source": [
    "single_param_lambda = Lambda(x, Mult(x, x))"
   ]
  },
  {
   "cell_type": "code",
   "execution_count": null,
   "metadata": {},
   "outputs": [],
   "source": [
    "single_param_lambda.parameter"
   ]
  },
  {
   "cell_type": "markdown",
   "metadata": {},
   "source": [
    "The body may be any type of expression. The parameter(s) must each be a variable, indexed variable, or range over indexed variables. We will discuss the latter possibilities later in this chapter."
   ]
  },
  {
   "cell_type": "code",
   "execution_count": null,
   "metadata": {},
   "outputs": [],
   "source": [
    "try:\n",
    "    Lambda((x, y, Add(x, y)), Mult(Add(x, y), z))\n",
    "    assert False, \"Expected a TypeError to be raised\"\n",
    "except TypeError as e:\n",
    "    print(\"Expected Error:\", e)"
   ]
  },
  {
   "cell_type": "markdown",
   "metadata": {},
   "source": [
    "Also note that parameter variables must be unique."
   ]
  },
  {
   "cell_type": "code",
   "execution_count": null,
   "metadata": {},
   "outputs": [],
   "source": [
    "from proveit import ParameterCollisionError\n",
    "try:\n",
    "    Lambda((x, x), Mult(Add(x, x), z))\n",
    "    assert False, \"Expected a ParameterCollisionError to be raised\"\n",
    "except ParameterCollisionError as e:\n",
    "    print(\"Expected Error:\", e)"
   ]
  },
  {
   "cell_type": "markdown",
   "metadata": {},
   "source": [
    "## Relabeling (alpha conversion)\n",
    "\n",
    "The name of the parameters is irrelevant. The following is equivalent to the previous example: $(a,b,c) \\mapsto (a+b)/c$. It uses different parameter labels but defines the same mapping. In **Prove-It**, we call this relabeling and these two **Lambda** expressions would be equal. In lambda calculus terminology, this is known as *alpha* conversion."
   ]
  },
  {
   "cell_type": "code",
   "execution_count": null,
   "metadata": {},
   "outputs": [],
   "source": [
    "sum_then_mult # recall our earlier example"
   ]
  },
  {
   "cell_type": "code",
   "execution_count": null,
   "metadata": {},
   "outputs": [],
   "source": [
    "sum_then_mult_relabeled = sum_then_mult.relabeled({x:a, y:b, z:c})"
   ]
  },
  {
   "cell_type": "code",
   "execution_count": null,
   "metadata": {},
   "outputs": [],
   "source": [
    "assert sum_then_mult_relabeled == sum_then_mult"
   ]
  },
  {
   "cell_type": "markdown",
   "metadata": {},
   "source": [
    "We still have the original expression in its different form"
   ]
  },
  {
   "cell_type": "code",
   "execution_count": null,
   "metadata": {},
   "outputs": [],
   "source": [
    "sum_then_mult"
   ]
  },
  {
   "cell_type": "markdown",
   "metadata": {},
   "source": [
    "**Prove-It** has overloaded `Expression.__eq__` to regard these two objects as effectively equal and therefore interchangeable for the purposes of proof derivations. It does this by internally relabeling into a canonical form by choosing labels in a specific order according to the number of nested lambda expressions (similar, but different, to de Bruijn indices which labels variable occurrences according to the number of intervening lambda bindings):"
   ]
  },
  {
   "cell_type": "code",
   "execution_count": null,
   "metadata": {},
   "outputs": [],
   "source": [
    "sum_then_mult._canonical_version()"
   ]
  },
  {
   "cell_type": "markdown",
   "metadata": {},
   "source": [
    "The variables used for the canonical relabeling have preceeding underscores to distinguish them from user-specified variables.  We call these \"dummy\" variables.\n",
    "\n",
    "These objects, the original expression and the canonical version, are not the same in all aspects. They have different representations. Having flexibility in ones choice of representation is important. In **Prove-It**, we call this *style*. One is free to manipulate the *style* of an expression while its *meaning* remains the same. Expressions with the same *meaning* will be equal via `==` and therefore interchangeable for the purposes of proof derivations. We will discuss more about *style* in a later chapter."
   ]
  },
  {
   "cell_type": "markdown",
   "metadata": {},
   "source": [
    "## Lambda application (beta reduction)\n",
    "\n",
    "Applying the lambda function largely amounts to replacing the parameters as they appear in the lambda body with the provided operands:"
   ]
  },
  {
   "cell_type": "code",
   "execution_count": null,
   "metadata": {},
   "outputs": [],
   "source": [
    "sum_then_mult"
   ]
  },
  {
   "cell_type": "code",
   "execution_count": null,
   "metadata": {},
   "outputs": [],
   "source": [
    "operands = [Add(a, x), Mult(b, y), Add(b, y, x)]"
   ]
  },
  {
   "cell_type": "code",
   "execution_count": null,
   "metadata": {},
   "outputs": [],
   "source": [
    "sum_then_mult.apply(*operands)"
   ]
  },
  {
   "cell_type": "markdown",
   "metadata": {},
   "source": [
    "The replacement is not always direct as it is in the above example. The reduction rules discussed in later chapters may be applied in the process.\n",
    "\n",
    "Note that there is no type-checking in this process. The way **Prove-It** effects type-checking is via **Conditional** expressions discussed in a later chapter and via universal quantifier conditions when performing the **Instantiation** derivation rule. In these basic examples, anything goes. We can mix logical and numerical operations without any complaint:"
   ]
  },
  {
   "cell_type": "code",
   "execution_count": null,
   "metadata": {},
   "outputs": [],
   "source": [
    "from proveit.logic import And, Or\n",
    "operands = [Or(a, x), And(b, y), Or(b, y, x)]"
   ]
  },
  {
   "cell_type": "code",
   "execution_count": null,
   "metadata": {},
   "outputs": [],
   "source": [
    "sum_then_mult.apply(*operands)"
   ]
  },
  {
   "cell_type": "markdown",
   "metadata": {},
   "source": [
    "### Automatic relabeling to avoid collisions\n",
    "\n",
    "A lambda sub-expression defines a new scope for its parameters. This is clear from the fact that alpha conversion may be used to change its parameters arbitrarily without anything external to that sub-expression. Consider the following example"
   ]
  },
  {
   "cell_type": "code",
   "execution_count": null,
   "metadata": {},
   "outputs": [],
   "source": [
    "nested_lambda = Lambda(x, Lambda(y, Add(x, y)))"
   ]
  },
  {
   "cell_type": "markdown",
   "metadata": {},
   "source": [
    "This defines a function that produces a function which produces the sum of the respective parameters. First, let's apply `nested_lambda` to something with no collissions with $y$:"
   ]
  },
  {
   "cell_type": "code",
   "execution_count": null,
   "metadata": {},
   "outputs": [],
   "source": [
    "nested_lambda.apply(Mult(a, b))"
   ]
  },
  {
   "cell_type": "markdown",
   "metadata": {},
   "source": [
    "We produced a lambda function in terms of the $y$ parameter. But what happens if we apply this `nested_lambda` to something that happens to be a function of $y$?"
   ]
  },
  {
   "cell_type": "code",
   "execution_count": null,
   "metadata": {},
   "outputs": [],
   "source": [
    "applied_nested_lambda = nested_lambda.apply(Mult(a, y))"
   ]
  },
  {
   "cell_type": "markdown",
   "metadata": {},
   "source": [
    "The system automatically relabeled the $y$ of the nested lambda expression to a new variable to avoid the collision. It uses ${_{-}a}$ as the first available dummy variable, which has no relation to $a$ as a variable. (Note, if you happen to use the full alphabet, it will go on to ${_{-}aa}$, ${_{-}ab}$, etc. so it will never run out of options).\n",
    "\n",
    "To understand that this is a correct and valid thing to do, consider that you could have relabeled $y$ to ${_{-}a}$ in the nested lambda expression first before calling `apply`. To relabel a lambda sub-expression, one can call `inner_expr()` to create an `InnerExpr` object. We will discuss this capability in more detail in Chapter 2.a.vi. but here is a quick prelude, relabeling the inner lambda expression."
   ]
  },
  {
   "cell_type": "code",
   "execution_count": null,
   "metadata": {},
   "outputs": [],
   "source": [
    "relabeled_nested_lambda = \\\n",
    "    nested_lambda.inner_expr().body.relabeled({y:b})"
   ]
  },
  {
   "cell_type": "markdown",
   "metadata": {},
   "source": [
    "And now there is clearly no conflict and we obtain the same result (but with a different lambda parameter):"
   ]
  },
  {
   "cell_type": "code",
   "execution_count": null,
   "metadata": {},
   "outputs": [],
   "source": [
    "applied_nested_lambda2 = relabeled_nested_lambda.apply(Mult(a, y))"
   ]
  },
  {
   "cell_type": "markdown",
   "metadata": {},
   "source": [
    "These are equal expressions since they are the same up to alpha conversion."
   ]
  },
  {
   "cell_type": "code",
   "execution_count": null,
   "metadata": {},
   "outputs": [],
   "source": [
    "applied_nested_lambda == applied_nested_lambda2"
   ]
  },
  {
   "cell_type": "markdown",
   "metadata": {},
   "source": [
    "Lambda expressions are used implicitly in other types of expressions. They are used in `ExprRange` and `OperationOverInstances` type expressions. Examples of the later are $\\forall, \\exists, \\sum, \\prod$ operations. Automatic relabeling will happen in these cases as well, of course."
   ]
  },
  {
   "cell_type": "code",
   "execution_count": null,
   "metadata": {},
   "outputs": [],
   "source": [
    "from proveit.logic import Exists, Equals\n",
    "from proveit.numbers import zero\n",
    "exists_fn = Lambda(x, Exists(y, Equals(Add(x, y), zero)))"
   ]
  },
  {
   "cell_type": "code",
   "execution_count": null,
   "metadata": {},
   "outputs": [],
   "source": [
    "exists_fn.apply(Mult(a, y))"
   ]
  },
  {
   "cell_type": "markdown",
   "metadata": {},
   "source": [
    "### Masking parameters\n",
    "\n",
    "For clarity reasons, it is generally best to avoid using the same parameter variable for a lambda expression within lambda expression. It is not disallowed, however. Importantly, scoping rules are obeyed such that the inner lambda expression masks any external uses of its parameter. For example, consider"
   ]
  },
  {
   "cell_type": "code",
   "execution_count": null,
   "metadata": {},
   "outputs": [],
   "source": [
    "masking_lambda = Lambda(a, And(a, Exists(a, Or(a, a))))"
   ]
  },
  {
   "cell_type": "markdown",
   "metadata": {},
   "source": [
    "If we apply this `masking_lambda` function onto a general expression, the $a$ within the inner lambda expression (of the $\\exists$ operation) will be left alone."
   ]
  },
  {
   "cell_type": "code",
   "execution_count": null,
   "metadata": {},
   "outputs": [],
   "source": [
    "masking_lambda.apply(Or(x, y))"
   ]
  },
  {
   "cell_type": "markdown",
   "metadata": {},
   "source": [
    "The `apply` method does have an optional `allow_relabeling` flag. When this is `True`, if it is valid to relabel an inner parameter with the same name as an external variable, it will do so. This is just a convenient way to perform alpha conversion in one step. It's purpose will be more apparent when we discuss **instantiation**. For example, turning `allow_relabeling` on, we get"
   ]
  },
  {
   "cell_type": "code",
   "execution_count": null,
   "metadata": {},
   "outputs": [],
   "source": [
    "masking_lambda.apply(b, allow_relabeling=True)"
   ]
  },
  {
   "cell_type": "markdown",
   "metadata": {},
   "source": [
    "compared with the default of `allow_relabeling=False`"
   ]
  },
  {
   "cell_type": "code",
   "execution_count": null,
   "metadata": {},
   "outputs": [],
   "source": [
    "masking_lambda.apply(b)"
   ]
  },
  {
   "cell_type": "markdown",
   "metadata": {},
   "source": [
    "But note that no relabeling occurs if it is not valid to do so.  Because relabeling is not allowed in the following example, `allow_relabeling=True` gives the same result as we had above with the `allow_relabeling=False` default:"
   ]
  },
  {
   "cell_type": "code",
   "execution_count": null,
   "metadata": {},
   "outputs": [],
   "source": [
    "masking_lambda.apply(Or(x, y), allow_relabeling=True)"
   ]
  },
  {
   "cell_type": "code",
   "execution_count": null,
   "metadata": {},
   "outputs": [],
   "source": [
    "%end lambda_reductions"
   ]
  },
  {
   "cell_type": "markdown",
   "metadata": {},
   "source": [
    "# Next chapter: <a href=\"tutorial04_relabeling.ipynb\">ToDo</a>\n",
    "\n",
    "## <a href=\"tutorial00_introduction.ipynb#contents\">Table of Contents</a>"
   ]
  }
 ],
 "metadata": {
  "kernelspec": {
   "display_name": "Python 3",
   "language": "python",
   "name": "python3"
  }
 },
 "nbformat": 4,
 "nbformat_minor": 0
}
