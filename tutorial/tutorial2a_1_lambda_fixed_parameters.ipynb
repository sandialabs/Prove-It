{
 "cells": [
  {
   "cell_type": "markdown",
   "metadata": {},
   "source": [
    "Chapter 2.a.i. Lambda with a fixed number of parameters\n",
    "=======\n",
    "\n",
    "**Lambda** expressions and their reductions are critical components of the core deriviation system of **Prove-It**. A **Lambda** expression defines a function by mapping one or more parameters to an expression involving those parameters. For example $(x,y,z) \\mapsto (x+y) \\cdot z$ defines a function that operates on three parameters by adding the first two then multiplying that sum by the third. In lambda calculus terminology, this way of defining an function is called an *abstraction*.\n",
    "\n",
    "In this chapter, we discuss **Lambda** expressions with a fixed number of parameters. We will discuss creation of Lambda expressions (abstraction), *relabeling* its parameters while retaining its meaning (alpha conversion), and *applying* the **Lambda** function to operators (beta reduction). The latter reduction rule plays an important role in proof deriviations in **Prove-It**. Specifically, the **instantiation** derivation rule is implemented via *lambda application*.\n",
    "\n",
    "In the next chapter, we will discuss **Lambda** expressions with an indeterminate number of parameters."
   ]
  },
  {
   "cell_type": "code",
   "execution_count": 1,
   "metadata": {},
   "outputs": [],
   "source": [
    "import proveit\n",
    "%begin lambda_reductions"
   ]
  },
  {
   "cell_type": "markdown",
   "metadata": {},
   "source": [
    "## Creating Lambda expressions (abstraction)\n",
    "\n",
    "Let's create our example expression after importing some necessary classes and objects."
   ]
  },
  {
   "cell_type": "code",
   "execution_count": 2,
   "metadata": {},
   "outputs": [
    {
     "data": {
      "text/html": [
       "<strong id=\"sum_then_mult\">sum_then_mult:</strong> <a class=\"ProveItLink\" href=\"__pv_it/lambda_reductions/0da04121c0720bb5c20e66a0e8c0f26f6b28d6ed0/expr.ipynb\"><img src=\"data:image/png;base64,iVBORw0KGgoAAAANSUhEUgAAAMoAAAAVCAMAAAAw04FgAAAANlBMVEX///8AAAAAAAAAAAAAAAAA\n",
       "AAAAAAAAAAAAAAAAAAAAAAAAAAAAAAAAAAAAAAAAAAAAAAAAAABHL6OuAAAAEXRSTlMAInZUiRDN\n",
       "mWbv3US7qzLz6SJmQj4AAAAJcEhZcwAADsQAAA7EAZUrDhsAAAJzSURBVFjDtZfblqQgDEUx3K8z\n",
       "/v/PjqCUCQVo02t4aFbRB3YSEkDGjraxlbYtqbf/AfoogC+54uEH4spYYT2DqoILttbAvJZWxhrr\n",
       "GXQqpGKrTcmXwspYZT2DikKbZVeMfimsjBnLm9+AisKy9WYH0YKmUm3Td3MQFkBEwdUvXFF3JAmL\n",
       "0yhWxpQ1dUWZF6boqxAlQJRJCHzCSCgZISOZlJxLbCtri/s/jmjor8qYsVpXKFvEnvnIkqyo/h5x\n",
       "hAhMYyME4zklzE5LGES4ljZqYDwPvZjOWK0rlG1U9zC5LckKd4bGbHmaZBHtZOInLRK7tpxK4swn\n",
       "bgeuMAgo4y7GjNW60rB5r8qwJVlh/Tk1B6tx/RDZvL5ts1jW+enerz9/HWn77u+S9KRvWbpMsLZ0\n",
       "scu+QXJXPUuywiLiV+H5I3aHKDXR+Oj8cFe88mzkSp/Vlj1hY5DuWZIVjt9zj42X5CQqsQPbuQCu\n",
       "BHMDVxK51JoE67NaVwibu+FVJD+KUFaQwbNoS7XhgzXE+uce48Weq+zDwBVFLpYAuKesoSuITUBo\n",
       "BrIkK84TgO9J6mN5z0k66pgDaPBYCiKAcImcrjlCk3ulnjId1mRXPmwKunceW5IVqYRTaoDDAHOu\n",
       "7ty1BzIK0PuGx0Q+LGohON+/r0Rqzn/cU9bQFcTug4glReFSZ+tQFgv1PVarzr18FVRGjzW77Sv7\n",
       "GVQUvaeauFeSlpOx3ivx9btz9ixsnpOE/Qw6FeHrK01eAXJHHwUdw5EIrx9rlRFef0Ri9jPoUsgv\n",
       "YbWaG9C+GevY9+aDJbABa5hviP0MqortJ1+245f8PGywznoGFcU/SbcTYSOiENcAAAAASUVORK5C\n",
       "YII=\n",
       "\" style=\"display:inline;vertical-align:middle;\" /></a><br>"
      ],
      "text/plain": [
       "<IPython.core.display.HTML object>"
      ]
     },
     "metadata": {},
     "output_type": "display_data"
    }
   ],
   "source": [
    "from proveit import Lambda\n",
    "from proveit import a, b, c, x, y, z\n",
    "from proveit.numbers import Add, Mult\n",
    "sum_then_mult = Lambda((x, y, z), Mult(Add(x, y), z))"
   ]
  },
  {
   "cell_type": "markdown",
   "metadata": {},
   "source": [
    "A **Lambda** expression has `parameter(s)` and a `body`:"
   ]
  },
  {
   "cell_type": "code",
   "execution_count": 3,
   "metadata": {},
   "outputs": [
    {
     "data": {
      "text/html": [
       "<a class=\"ProveItLink\" href=\"__pv_it/lambda_reductions/ad051f8530138a126c248572b29596b23c427da30/expr.ipynb\"><img src=\"data:image/png;base64,iVBORw0KGgoAAAANSUhEUgAAAEAAAAAVBAMAAAAEBPWpAAAAMFBMVEX///8AAAAAAAAAAAAAAAAA\n",
       "AAAAAAAAAAAAAAAAAAAAAAAAAAAAAAAAAAAAAAAAAAAv3aB7AAAAD3RSTlMAInZUiRDNmWbv3US7\n",
       "qzJazP2FAAAACXBIWXMAAA7EAAAOxAGVKw4bAAABSklEQVQoz32Rv0tCURTHP/q8Pc2M9wc0SATW\n",
       "ELwhIltyqCaFhwQRSEhTo4ODNTU1NQW1tEhtBSK01FS2BxIubS4tEliD0di5775XS74v3HO+97zv\n",
       "O78u4DAWMW3i7nhBOitmiQjMg6pGCSY87KMoQbJGikicsRwt2Kcutry4u25mKTdQXfNp0IpJ9ZJI\n",
       "oBZ/sZt+tJAn+eEztVcsiTvmSjpxkqOM3+u0e0jm0ezIY0NcngsJYwezKk5JZYPyW56YoRbwF0yP\n",
       "GPaDNfuxe10CHhzl+VFJtRBo7yQfrPIElfYrCdCSqS7PhlkuGXEnMgdrbwfcor50hm7627D34lxL\n",
       "XJ0BbM9aDVnDtfyoerlPwwrWeVsEN0z2w6VZfhuJasj8Tpv6OQJIG2yy4xpmoJ+yE17Kci7pBcxg\n",
       "Rk4lvOi5V3LtgBl0fhfyP+IOP9gEP1+9JNgRAAAAAElFTkSuQmCC\n",
       "\" style=\"display:inline;vertical-align:middle;\" /></a>"
      ],
      "text/plain": [
       "(x, y, z)"
      ]
     },
     "metadata": {},
     "output_type": "display_data"
    }
   ],
   "source": [
    "sum_then_mult.parameters"
   ]
  },
  {
   "cell_type": "code",
   "execution_count": 4,
   "metadata": {},
   "outputs": [
    {
     "data": {
      "text/html": [
       "<a class=\"ProveItLink\" href=\"__pv_it/lambda_reductions/5d5b509a006bcf617783ad86939c7abd79fdc3e30/expr.ipynb\"><img src=\"data:image/png;base64,iVBORw0KGgoAAAANSUhEUgAAAFcAAAAVBAMAAADBdm84AAAAMFBMVEX///8AAAAAAAAAAAAAAAAA\n",
       "AAAAAAAAAAAAAAAAAAAAAAAAAAAAAAAAAAAAAAAAAAAv3aB7AAAAD3RSTlMAInZUiRDNmWbv3US7\n",
       "qzJazP2FAAAACXBIWXMAAA7EAAAOxAGVKw4bAAABWklEQVQoz2NgYBBgwAEYMYWYDHAp5lbAEDJh\n",
       "wAk00AVYE3ArZgtAE2BvQLEZhcdRgKaYE4XHjOrMqWiKzfApzkBTXALEQbpxLgYoioMqGFgvMDD4\n",
       "ItS9WsfYANZcwHSJfQGKYgdLBo4PDAxtiHBI8gHqXAz0hwDHV94GZMV8BlUMvAcYGCwRERTA4MrA\n",
       "MBsoxcAODj/2VatWzlq1Cmg9K8MkBk6gvvcg4XhI4IYEgBUzgCVQnMH9leH9AwaGnSA2FzgAGUEy\n",
       "i0Gs/QKsASiKgVZpAikrhAd3AK1jOMTAELPhJgMLqsk8FxjOAqkeRJgaMPCCQ8f+aSXDZlTF7Be4\n",
       "f0DDFQLe+KisA4YfA0O4EnOFAapi1ivqH4HUarhiB+ZpG4DOf4A9BlmAYcC4AC0GURMLLCG5MUQa\n",
       "oCcyEDiILXEuYrgCJGUwxGOwKbZQ34DVHEYFXGmfCT13AgBOtEHVExxwmAAAAABJRU5ErkJggg==\n",
       "\" style=\"display:inline;vertical-align:middle;\" /></a>"
      ],
      "text/plain": [
       "(x + y) * z"
      ]
     },
     "metadata": {},
     "output_type": "display_data"
    }
   ],
   "source": [
    "sum_then_mult.body"
   ]
  },
  {
   "cell_type": "markdown",
   "metadata": {},
   "source": [
    "If there is a single parameter, just use `parameter`:"
   ]
  },
  {
   "cell_type": "code",
   "execution_count": 5,
   "metadata": {},
   "outputs": [
    {
     "data": {
      "text/html": [
       "<strong id=\"single_param_lambda\">single_param_lambda:</strong> <a class=\"ProveItLink\" href=\"__pv_it/lambda_reductions/7c80d6dbfc9a927424f576c315e366ce06a7f3050/expr.ipynb\"><img src=\"data:image/png;base64,iVBORw0KGgoAAAANSUhEUgAAAGEAAAAVCAMAAABha3BGAAAANlBMVEX///8AAAAAAAAAAAAAAAAA\n",
       "AAAAAAAAAAAAAAAAAAAAAAAAAAAAAAAAAAAAAAAAAAAAAAAAAABHL6OuAAAAEXRSTlMAEHarMolU\n",
       "md1mIs3vRLvz6fgHHdMAAAAJcEhZcwAADsQAAA7EAZUrDhsAAAEqSURBVEjHtVXbsoMgDCThXgo9\n",
       "/P/PNmqLBPGMcaY8Ccm6mwtBKfF6/MCTLXSXXTPeIXBWoibKCSCJ3BOIGbxMVfQXAuXlegoVPadB\n",
       "sEPHVLgkZEhLzICowVjbeiQwH7bznzofMJ0+ZrJ6QVEqNCof5gyujJJmmE4EM0UKOlKiYwWl45xB\n",
       "YdnTFjZlR8xeW25yVDiz8LL0vv4CW7XmVrjt64CB+t0NJlM/QDzNPN3MlNXAMMH0DdGZ8tZ8uVJo\n",
       "AHMG09+a0Eo7YJikzuSCgpKVXojsSQypvxBlVTfBtHQNpliUqwY8HeW98fL5fVibb4Zp7oOJ2hs8\n",
       "Iv0mnk1Ma1jK1vj+wYymkKVzKRjZWxLEk+/KKLs/KLdaSx6uR7nxAkH5lZxd1/WncZ38b92dCHsX\n",
       "1Sl8AAAAAElFTkSuQmCC\n",
       "\" style=\"display:inline;vertical-align:middle;\" /></a><br>"
      ],
      "text/plain": [
       "<IPython.core.display.HTML object>"
      ]
     },
     "metadata": {},
     "output_type": "display_data"
    }
   ],
   "source": [
    "single_param_lambda = Lambda(x, Mult(x, x))"
   ]
  },
  {
   "cell_type": "code",
   "execution_count": 6,
   "metadata": {},
   "outputs": [
    {
     "data": {
      "text/html": [
       "<a class=\"ProveItLink\" href=\"../packages/proveit/__pv_it/common/a0d9d672aa5e272d907247690c152cc2c6daafb70/expr.ipynb\"><img src=\"data:image/png;base64,iVBORw0KGgoAAAANSUhEUgAAAAsAAAAJBAMAAAAWSsseAAAAMFBMVEX///8AAAAAAAAAAAAAAAAA\n",
       "AAAAAAAAAAAAAAAAAAAAAAAAAAAAAAAAAAAAAAAAAAAv3aB7AAAAD3RSTlMAEHarMolUmd1mIs3v\n",
       "RLtmgJDEAAAACXBIWXMAAA7EAAAOxAGVKw4bAAAAQklEQVQI12NgEFIWCU1gYChgMmJvYOBcwPmR\n",
       "eQIDCwP7BgYQ4FEAU/cXMAowyF2wYWBlYMh3rGG4xsAgrsRWmcAAAFEjCyBvD0T9AAAAAElFTkSu\n",
       "QmCC\n",
       "\" style=\"display:inline;vertical-align:middle;\" /></a>"
      ],
      "text/plain": [
       "x"
      ]
     },
     "metadata": {},
     "output_type": "display_data"
    }
   ],
   "source": [
    "single_param_lambda.parameter"
   ]
  },
  {
   "cell_type": "markdown",
   "metadata": {},
   "source": [
    "The body may be any type of expression. The parameter(s) must each be a variable, indexed variable, or range over indexed variables. We will discuss the latter possibilities later in this chapter."
   ]
  },
  {
   "cell_type": "code",
   "execution_count": 7,
   "metadata": {},
   "outputs": [
    {
     "name": "stdout",
     "output_type": "stream",
     "text": [
      "Expected Error: Parameter must be a Variable, Indexed variable, or range (ExprRange) over Indexed variables.  x + y fails to meet this requirement.\n"
     ]
    }
   ],
   "source": [
    "try:\n",
    "    Lambda((x, y, Add(x, y)), Mult(Add(x, y), z))\n",
    "    assert False, \"Expected a TypeError to be raised\"\n",
    "except TypeError as e:\n",
    "    print(\"Expected Error:\", e)"
   ]
  },
  {
   "cell_type": "markdown",
   "metadata": {},
   "source": [
    "Also note that parameter variables must be unique."
   ]
  },
  {
   "cell_type": "code",
   "execution_count": 8,
   "metadata": {},
   "outputs": [
    {
     "name": "stdout",
     "output_type": "stream",
     "text": [
      "Expected Error: Parameter variables must be unique.  (x, x) does not satisfy this criterion.\n"
     ]
    }
   ],
   "source": [
    "from proveit import ParameterCollisionError\n",
    "try:\n",
    "    Lambda((x, x), Mult(Add(x, x), z))\n",
    "    assert False, \"Expected a ParameterCollisionError to be raised\"\n",
    "except ParameterCollisionError as e:\n",
    "    print(\"Expected Error:\", e)"
   ]
  },
  {
   "cell_type": "markdown",
   "metadata": {},
   "source": [
    "## Relabeling (alpha conversion)\n",
    "\n",
    "The name of the parameters is irrelevant. The following is equivalent to the previous example: $(a,b,c) \\mapsto (a+b)/c$. It uses different parameter labels but defines the same mapping. In **Prove-It**, we call this relabeling and these two **Lambda** expressions would be equal. In lambda calculus terminology, this is known as *alpha* conversion."
   ]
  },
  {
   "cell_type": "code",
   "execution_count": 9,
   "metadata": {},
   "outputs": [
    {
     "data": {
      "text/html": [
       "<a class=\"ProveItLink\" href=\"__pv_it/lambda_reductions/0da04121c0720bb5c20e66a0e8c0f26f6b28d6ed0/expr.ipynb\"><img src=\"data:image/png;base64,iVBORw0KGgoAAAANSUhEUgAAAMoAAAAVCAMAAAAw04FgAAAANlBMVEX///8AAAAAAAAAAAAAAAAA\n",
       "AAAAAAAAAAAAAAAAAAAAAAAAAAAAAAAAAAAAAAAAAAAAAAAAAABHL6OuAAAAEXRSTlMAInZUiRDN\n",
       "mWbv3US7qzLz6SJmQj4AAAAJcEhZcwAADsQAAA7EAZUrDhsAAAJzSURBVFjDtZfblqQgDEUx3K8z\n",
       "/v/PjqCUCQVo02t4aFbRB3YSEkDGjraxlbYtqbf/AfoogC+54uEH4spYYT2DqoILttbAvJZWxhrr\n",
       "GXQqpGKrTcmXwspYZT2DikKbZVeMfimsjBnLm9+AisKy9WYH0YKmUm3Td3MQFkBEwdUvXFF3JAmL\n",
       "0yhWxpQ1dUWZF6boqxAlQJRJCHzCSCgZISOZlJxLbCtri/s/jmjor8qYsVpXKFvEnvnIkqyo/h5x\n",
       "hAhMYyME4zklzE5LGES4ljZqYDwPvZjOWK0rlG1U9zC5LckKd4bGbHmaZBHtZOInLRK7tpxK4swn\n",
       "bgeuMAgo4y7GjNW60rB5r8qwJVlh/Tk1B6tx/RDZvL5ts1jW+enerz9/HWn77u+S9KRvWbpMsLZ0\n",
       "scu+QXJXPUuywiLiV+H5I3aHKDXR+Oj8cFe88mzkSp/Vlj1hY5DuWZIVjt9zj42X5CQqsQPbuQCu\n",
       "BHMDVxK51JoE67NaVwibu+FVJD+KUFaQwbNoS7XhgzXE+uce48Weq+zDwBVFLpYAuKesoSuITUBo\n",
       "BrIkK84TgO9J6mN5z0k66pgDaPBYCiKAcImcrjlCk3ulnjId1mRXPmwKunceW5IVqYRTaoDDAHOu\n",
       "7ty1BzIK0PuGx0Q+LGohON+/r0Rqzn/cU9bQFcTug4glReFSZ+tQFgv1PVarzr18FVRGjzW77Sv7\n",
       "GVQUvaeauFeSlpOx3ivx9btz9ixsnpOE/Qw6FeHrK01eAXJHHwUdw5EIrx9rlRFef0Ri9jPoUsgv\n",
       "YbWaG9C+GevY9+aDJbABa5hviP0MqortJ1+245f8PGywznoGFcU/SbcTYSOiENcAAAAASUVORK5C\n",
       "YII=\n",
       "\" style=\"display:inline;vertical-align:middle;\" /></a>"
      ],
      "text/plain": [
       "(x, y, z) -> ((x + y) * z)"
      ]
     },
     "metadata": {},
     "output_type": "display_data"
    }
   ],
   "source": [
    "sum_then_mult # recall our earlier example"
   ]
  },
  {
   "cell_type": "code",
   "execution_count": 10,
   "metadata": {},
   "outputs": [
    {
     "data": {
      "text/html": [
       "<strong id=\"sum_then_mult_relabeled\">sum_then_mult_relabeled:</strong> <a class=\"ProveItLink\" href=\"__pv_it/lambda_reductions/3061879a0c9b2781ca99c2951ac80186157983500/expr.ipynb\"><img src=\"data:image/png;base64,iVBORw0KGgoAAAANSUhEUgAAAMEAAAAVCAMAAADIM3qXAAAANlBMVEX///8AAAAAAAAAAAAAAAAA\n",
       "AAAAAAAAAAAAAAAAAAAAAAAAAAAAAAAAAAAAAAAAAAAAAAAAAABHL6OuAAAAEXRSTlMAInZUiRDN\n",
       "mWbv3US7qzLz6SJmQj4AAAAJcEhZcwAADsQAAA7EAZUrDhsAAAJQSURBVEjHrZfbmq0gCIDzlMfa\n",
       "2/d/2SnNAhO1+aYbW+DiBwG1ZTketnx92K9msz+m3HouPkfg+YfJxf5nzohS9EISE1SwjvTKTPtR\n",
       "7JMcmjuiZL1a6RmrplVq1p8VjzPPzR1Rkl534ox03o2e9KbY73G8IbgjStLbjuHYWQJL6HjVf7Ya\n",
       "m4XGKa4dJOHQi05ypesl8Fk3RBF42Yr9HqeOAHDXQSccel36i22SM2xp3TjfqkKSnJs9vWy3DAeK\n",
       "fxX7PU4dAeACCuVFCdLbI/sBlY2KR6OoCKuCucOwDqkEV8JnEVqp6nDqCCDXtFKHvXA5VmVPgka+\n",
       "iMSx0LqTt0RYIoKFB+DfZb/HqSOAXNFqH+yF9TnJ8VY9BZDij0Cmwdrt8X7999+hJ0b/tJpHY83R\n",
       "6Q/WpmF7cx/KkZm2F5dlG9Ik/wrVwx3VggLxZA78CsxUEbQ4dQ4gF1J024ucXRVPGya+d2UYcJ5V\n",
       "qI6IYEfHEK6iJqeOAHLFezusvQg8S89/besi2LM5xr3U7S3J7ZhW0AQighUdCIHDEXHICG4uojx6\n",
       "7MW1XZ0AceRJg4LbjplBwxLM/S93tD1etojzoGyHbw4Zwc3FlKcbsRd7XkC1cbmzjZ9i59Qlk9dV\n",
       "oEgWKY3h+d154hjccU05NEIOuZveXIJSeeH29xGpxhLmJu9FxX6DQ51o85Skb1ye5IREz16vi/3e\n",
       "Jc2bwbWwf20M9aeQeq3IW8LC9FW52A+/+BQMU3pVT3unlJNuTX2wLG3OfPAjPeOfTfMv61nsf+aM\n",
       "KEn/A8k4E1FaOIZYAAAAAElFTkSuQmCC\n",
       "\" style=\"display:inline;vertical-align:middle;\" /></a><br>"
      ],
      "text/plain": [
       "<IPython.core.display.HTML object>"
      ]
     },
     "metadata": {},
     "output_type": "display_data"
    }
   ],
   "source": [
    "sum_then_mult_relabeled = sum_then_mult.relabeled({x:a, y:b, z:c})"
   ]
  },
  {
   "cell_type": "code",
   "execution_count": 11,
   "metadata": {},
   "outputs": [],
   "source": [
    "assert sum_then_mult_relabeled == sum_then_mult"
   ]
  },
  {
   "cell_type": "markdown",
   "metadata": {},
   "source": [
    "We still have the original expression in its different form"
   ]
  },
  {
   "cell_type": "code",
   "execution_count": 12,
   "metadata": {},
   "outputs": [
    {
     "data": {
      "text/html": [
       "<a class=\"ProveItLink\" href=\"__pv_it/lambda_reductions/0da04121c0720bb5c20e66a0e8c0f26f6b28d6ed0/expr.ipynb\"><img src=\"data:image/png;base64,iVBORw0KGgoAAAANSUhEUgAAAMoAAAAVCAMAAAAw04FgAAAANlBMVEX///8AAAAAAAAAAAAAAAAA\n",
       "AAAAAAAAAAAAAAAAAAAAAAAAAAAAAAAAAAAAAAAAAAAAAAAAAABHL6OuAAAAEXRSTlMAInZUiRDN\n",
       "mWbv3US7qzLz6SJmQj4AAAAJcEhZcwAADsQAAA7EAZUrDhsAAAJzSURBVFjDtZfblqQgDEUx3K8z\n",
       "/v/PjqCUCQVo02t4aFbRB3YSEkDGjraxlbYtqbf/AfoogC+54uEH4spYYT2DqoILttbAvJZWxhrr\n",
       "GXQqpGKrTcmXwspYZT2DikKbZVeMfimsjBnLm9+AisKy9WYH0YKmUm3Td3MQFkBEwdUvXFF3JAmL\n",
       "0yhWxpQ1dUWZF6boqxAlQJRJCHzCSCgZISOZlJxLbCtri/s/jmjor8qYsVpXKFvEnvnIkqyo/h5x\n",
       "hAhMYyME4zklzE5LGES4ljZqYDwPvZjOWK0rlG1U9zC5LckKd4bGbHmaZBHtZOInLRK7tpxK4swn\n",
       "bgeuMAgo4y7GjNW60rB5r8qwJVlh/Tk1B6tx/RDZvL5ts1jW+enerz9/HWn77u+S9KRvWbpMsLZ0\n",
       "scu+QXJXPUuywiLiV+H5I3aHKDXR+Oj8cFe88mzkSp/Vlj1hY5DuWZIVjt9zj42X5CQqsQPbuQCu\n",
       "BHMDVxK51JoE67NaVwibu+FVJD+KUFaQwbNoS7XhgzXE+uce48Weq+zDwBVFLpYAuKesoSuITUBo\n",
       "BrIkK84TgO9J6mN5z0k66pgDaPBYCiKAcImcrjlCk3ulnjId1mRXPmwKunceW5IVqYRTaoDDAHOu\n",
       "7ty1BzIK0PuGx0Q+LGohON+/r0Rqzn/cU9bQFcTug4glReFSZ+tQFgv1PVarzr18FVRGjzW77Sv7\n",
       "GVQUvaeauFeSlpOx3ivx9btz9ixsnpOE/Qw6FeHrK01eAXJHHwUdw5EIrx9rlRFef0Ri9jPoUsgv\n",
       "YbWaG9C+GevY9+aDJbABa5hviP0MqortJ1+245f8PGywznoGFcU/SbcTYSOiENcAAAAASUVORK5C\n",
       "YII=\n",
       "\" style=\"display:inline;vertical-align:middle;\" /></a>"
      ],
      "text/plain": [
       "(x, y, z) -> ((x + y) * z)"
      ]
     },
     "metadata": {},
     "output_type": "display_data"
    }
   ],
   "source": [
    "sum_then_mult"
   ]
  },
  {
   "cell_type": "markdown",
   "metadata": {},
   "source": [
    "**Prove-It** has overloaded `Expression.__eq__` to regard these two objects as effectively equal and therefore interchangeable for the purposes of proof derivations. It does this by internally relabeling into a canonical form by choosing labels in a specific order according to the number of nested lambda expressions (similar, but different, to de Bruijn indices which labels variable occurrences according to the number of intervening lambda bindings):"
   ]
  },
  {
   "cell_type": "code",
   "execution_count": 13,
   "metadata": {},
   "outputs": [
    {
     "data": {
      "text/html": [
       "<a class=\"ProveItLink\" href=\"__pv_it/lambda_reductions/5a381077c0b6d2f737b011addd8701308cbb452e0/expr.ipynb\"><img src=\"data:image/png;base64,iVBORw0KGgoAAAANSUhEUgAAARUAAAAVCAMAAABfR4pkAAAANlBMVEX///8AAAAAAAAAAAAAAAAA\n",
       "AAAAAAAAAAAAAAAAAAAAAAAAAAAAAAAAAAAAAAAAAAAAAAAAAABHL6OuAAAAEXRSTlMAInZUiRDN\n",
       "mWbv3US7qzLz6SJmQj4AAAAJcEhZcwAADsQAAA7EAZUrDhsAAAJ5SURBVFjDxZjZdoQgDIZlk1Vb\n",
       "3v9liwsOWEKCnTnlxjNDMB8/IQSnKTU2fa6xR9bsn/wX9lx8UBXPB4wzyRuJhvwX9kIOu1LBOvJM\n",
       "Dfm1meQBEUw44L+wV/MTr7OmmyrqTOb6+bd2EZL9l/baPPEZ6TFuqAJmEiqRNyRCo8emttvbR7s1\n",
       "DiyABWz5LRPa2xPdcJxGaAeDJdmLR+Eq3UhIvta04hP1ImYSMlFXlYJwHtwNyV4DmU1yblZ44ML5\n",
       "0ttEbJGcndRyuf6uxax/ZRIyUVeVgrDwT+VtC8lceqEOYF6MKSWpCNcC3qa+cAaxmQEdRGiFFJmo\n",
       "p0pJaPDgu/O65oq7bb0s6FXs4+F+ZbeZ6VMDYQFVJh6KLZVJyEQ9VUpCgSaqX7zWt04DJJnqXf0I\n",
       "lhU6XhNJbY1Xx9e3q1qML/eZhECk98HW7o8FI3z5TxFE420y2NDXdh/v4dN5H6/yjD0YK34uvHdV\n",
       "aRH1YqUkLP1rGm8rXlXkhGoFDqhjvMlLJBygyloVWL0d1CTqqVISCuzA/M0bWq+OR8Lzt6P01b/m\n",
       "vajaXjamZZ7Eke0CoMpcpetMghARVbkIK/+QKnfe5rF15Hq5QhtxSe6ChjfqNjGRolXfj1rfqVcy\n",
       "SZ+IqMpF2DnqO7zrsXxryG2XS0pj+BYHzqlGv1rkWZZD/VyubOHHJJwHCpC6HjpJMCJIFYiw7R/j\n",
       "dWu/gETKZYGW04xaB2cShIhWxT3wX9ojlycs+vBLP/n6mUmo1zlPe/Ho9fewD73PVQpZD4WuFwtk\n",
       "nkwS3vlxcMB/aa96w7BJc/JUSZ+KJpxotI1KnO0Znz7X+AhUJnkjEWcP7H8AqW0WM+POMMUAAAAA\n",
       "SUVORK5CYII=\n",
       "\" style=\"display:inline;vertical-align:middle;\" /></a>"
      ],
      "text/plain": [
       "(_c, _b, _a) -> ((_c + _b) * _a)"
      ]
     },
     "metadata": {},
     "output_type": "display_data"
    }
   ],
   "source": [
    "sum_then_mult.canonically_labeled()"
   ]
  },
  {
   "cell_type": "markdown",
   "metadata": {},
   "source": [
    "The variables used for the canonical relabeling have preceeding underscores to distinguish them from user-specified variables.  We call these \"dummy\" variables.\n",
    "\n",
    "These objects, the original expression and the canonical version, are not the same in all aspects. They have different representations. Having flexibility in ones choice of representation is important. In **Prove-It**, we call this *style*. One is free to manipulate the *style* of an expression while its *meaning* remains the same. Expressions with the same *meaning* will be equal via `==` and therefore interchangeable for the purposes of proof derivations. We will discuss more about *style* in a later chapter."
   ]
  },
  {
   "cell_type": "markdown",
   "metadata": {},
   "source": [
    "## Lambda application (beta reduction)\n",
    "\n",
    "Applying the lambda function largely amounts to replacing the parameters as they appear in the lambda body with the provided operands:"
   ]
  },
  {
   "cell_type": "code",
   "execution_count": 14,
   "metadata": {},
   "outputs": [
    {
     "data": {
      "text/html": [
       "<a class=\"ProveItLink\" href=\"__pv_it/lambda_reductions/0da04121c0720bb5c20e66a0e8c0f26f6b28d6ed0/expr.ipynb\"><img src=\"data:image/png;base64,iVBORw0KGgoAAAANSUhEUgAAAMoAAAAVCAMAAAAw04FgAAAANlBMVEX///8AAAAAAAAAAAAAAAAA\n",
       "AAAAAAAAAAAAAAAAAAAAAAAAAAAAAAAAAAAAAAAAAAAAAAAAAABHL6OuAAAAEXRSTlMAInZUiRDN\n",
       "mWbv3US7qzLz6SJmQj4AAAAJcEhZcwAADsQAAA7EAZUrDhsAAAJzSURBVFjDtZfblqQgDEUx3K8z\n",
       "/v/PjqCUCQVo02t4aFbRB3YSEkDGjraxlbYtqbf/AfoogC+54uEH4spYYT2DqoILttbAvJZWxhrr\n",
       "GXQqpGKrTcmXwspYZT2DikKbZVeMfimsjBnLm9+AisKy9WYH0YKmUm3Td3MQFkBEwdUvXFF3JAmL\n",
       "0yhWxpQ1dUWZF6boqxAlQJRJCHzCSCgZISOZlJxLbCtri/s/jmjor8qYsVpXKFvEnvnIkqyo/h5x\n",
       "hAhMYyME4zklzE5LGES4ljZqYDwPvZjOWK0rlG1U9zC5LckKd4bGbHmaZBHtZOInLRK7tpxK4swn\n",
       "bgeuMAgo4y7GjNW60rB5r8qwJVlh/Tk1B6tx/RDZvL5ts1jW+enerz9/HWn77u+S9KRvWbpMsLZ0\n",
       "scu+QXJXPUuywiLiV+H5I3aHKDXR+Oj8cFe88mzkSp/Vlj1hY5DuWZIVjt9zj42X5CQqsQPbuQCu\n",
       "BHMDVxK51JoE67NaVwibu+FVJD+KUFaQwbNoS7XhgzXE+uce48Weq+zDwBVFLpYAuKesoSuITUBo\n",
       "BrIkK84TgO9J6mN5z0k66pgDaPBYCiKAcImcrjlCk3ulnjId1mRXPmwKunceW5IVqYRTaoDDAHOu\n",
       "7ty1BzIK0PuGx0Q+LGohON+/r0Rqzn/cU9bQFcTug4glReFSZ+tQFgv1PVarzr18FVRGjzW77Sv7\n",
       "GVQUvaeauFeSlpOx3ivx9btz9ixsnpOE/Qw6FeHrK01eAXJHHwUdw5EIrx9rlRFef0Ri9jPoUsgv\n",
       "YbWaG9C+GevY9+aDJbABa5hviP0MqortJ1+245f8PGywznoGFcU/SbcTYSOiENcAAAAASUVORK5C\n",
       "YII=\n",
       "\" style=\"display:inline;vertical-align:middle;\" /></a>"
      ],
      "text/plain": [
       "(x, y, z) -> ((x + y) * z)"
      ]
     },
     "metadata": {},
     "output_type": "display_data"
    }
   ],
   "source": [
    "sum_then_mult"
   ]
  },
  {
   "cell_type": "code",
   "execution_count": 15,
   "metadata": {},
   "outputs": [
    {
     "data": {
      "text/html": [
       "<strong id=\"operands\">operands:</strong> <a class=\"ProveItLink\" href=\"__pv_it/lambda_reductions/5ee97ad8e30798a8af37d4cedc4cff848ee2f5eb0/expr.ipynb\"><img src=\"data:image/png;base64,iVBORw0KGgoAAAANSUhEUgAAAMQAAAAVBAMAAADr6lzSAAAAMFBMVEX///8AAAAAAAAAAAAAAAAA\n",
       "AAAAAAAAAAAAAAAAAAAAAAAAAAAAAAAAAAAAAAAAAAAv3aB7AAAAD3RSTlMAInZUiRDNmWbv3US7\n",
       "qzJazP2FAAAACXBIWXMAAA7EAAAOxAGVKw4bAAACM0lEQVRIx7VVPWtTURh+kpvTm89yf4DC1SV1\n",
       "qIQiYl0aROpUuWSRQmO6iI4ZRGpLMTg4CZaK4MdSVCjcUgi4tFOqi1MhhFAUHAri4tKWGnEqvsf7\n",
       "ffJeo0POcLjnec/7POfjOe8FYGCILSG7ZGmYEjmTugt/nzP38t9Rro0BYn7AnNv/gTJtxILeCANb\n",
       "/XOO2czj+Iwokq4jEwEm+g+zxx5xLz5DQZ7h4gCJ1BonEaADJe7grnRW94wZDVfGb151nDbSGfct\n",
       "V1mAaCuomyGKDVRZjhkSAbaNfC8aric7urPQ2i1x5EmUJ5E+VFA3I6Wt4AnL8QhvaAXP4fJ54bSR\n",
       "7hUcH0xZWHVzRkuLKOwoqJvxlRi+sByTeAXoh8iWCVy07Re2vSnJoHtevgf8kMumsSDajBlGgwyL\n",
       "Aqssx4GUyOyg1lSuyqUC3iInDZqtOz462A+joYyWNXrCcmzLg6qZ3jEG4ZYhLPcB6L5BaVnnoKAT\n",
       "/m6TKyzHZXwgiRL2NCMcnmt+Rop2T58nmPUfZ76NXRX1CHdllOHAY/IU8qa2rkfCU9/u4x3ET/r8\n",
       "hI++xfV27peKehLLaDUYDtCr+E7X2Ll++nwkfOOstkCWtmnB1WtBhRHd4pGKehLVKw8MjgMbyO7H\n",
       "v0zN6nvV8yoaZEyzHIk1WaZiS1hKEZjGbElFtzxt8ZTlkGX2fXwhrijj1+gy6J+WNQtlluOUvPl4\n",
       "CVMZXyo2GdQ504dLPIfcQcIc5o81aeA33mua3DSGWLYAAAAASUVORK5CYII=\n",
       "\" style=\"display:inline;vertical-align:middle;\" /></a><br>"
      ],
      "text/plain": [
       "<IPython.core.display.HTML object>"
      ]
     },
     "metadata": {},
     "output_type": "display_data"
    }
   ],
   "source": [
    "operands = [Add(a, x), Mult(b, y), Add(b, y, x)]"
   ]
  },
  {
   "cell_type": "code",
   "execution_count": 16,
   "metadata": {},
   "outputs": [
    {
     "data": {
      "text/html": [
       "<a class=\"ProveItLink\" href=\"__pv_it/lambda_reductions/4f1dc1d569b0cd2fb91916b7aa2065ce5422ff7b0/expr.ipynb\"><img src=\"data:image/png;base64,iVBORw0KGgoAAAANSUhEUgAAAQoAAAAVBAMAAABMEr0AAAAAMFBMVEX///8AAAAAAAAAAAAAAAAA\n",
       "AAAAAAAAAAAAAAAAAAAAAAAAAAAAAAAAAAAAAAAAAAAv3aB7AAAAD3RSTlMAInZUiRDNmWbv3US7\n",
       "qzJazP2FAAAACXBIWXMAAA7EAAAOxAGVKw4bAAAC5ElEQVRIx42WTWgTQRTHXz62m8+y9FxhtYfU\n",
       "QyUUKaaXBpF6qoQelEJichFz7KGUWCkGD+2lYKgU/LgEFYQUS8BLe0r04qkQQhAFD4J48dKWGvBU\n",
       "fLsz+/Fmd5IMvP14/Ob93+zMm1kA0ICZbwuM7AoMgwZKBNPM/Ftc97im/ClKTo2ehdnxOjdJmxYd\n",
       "oSzkX/lR08OgARJKiZmsjeUEx120h36Um/SFBkioVTDNaYcEiawK7grauRjIoGxShA49uh6JKN6i\n",
       "xDlLe+wJ7hrOZN8Td89FitCsh/ZIzOF1bhBSpu4Qzl647olbdpEiNDSLMqzh1bBA77JOkeWZ+7ew\n",
       "dpZoTzWLE9mdsYtquQJKh1FLdlgK8Z5KqgoFiYQ1iCMt0afIarCr4ni2aBZjuIaKD5QzSzCbgcgp\n",
       "o7ac9UYg3jMcqsEzicRbfEFTXoBaJ0hEi/STGC1Ds4hh7gs52OXe8fQGJNuMythZUIj3/IUCPyQS\n",
       "r/ENTT2FGH5G2Gg0XjYaH4z4oJoFfALEHW0CrAP8xceiUeQoFdUZZZKG0w05PXPI7UokeBbRNhSb\n",
       "wtKJmgvliH4LQ+AdxI0yjBmliaVw8pNRJmk6XZArYCs3fiGR4DNS1K05c5CWpuBGNO+dkXNQ7TLE\n",
       "0VwFRs2TGXEgK+A6BGsSic/4jFZMw9eQ5kbyze8QxvsOzSKB2V/Air3PJTpwzKkdOwsKWZrHBuwv\n",
       "wUssoYfeqwRZ+P0IPvIydq90DPQNvjhF2Yn/49Sa7aSQlcUmtKoSiT94RVO6dy5dI8i9K6GKUfD7\n",
       "NNY4VlLhtrPlK73UGaf2bSeFrCwKN59oEokYLi3DZBtboC64D8SNMFxiVMC1ox74B1yUSYjnkHjU\n",
       "2Ced5d6mOSzCSho8Z+K2T8BwSXkulfgEzCRtUnQk6H/ZG+hxalIOscLRk1mpRJ6bpHkSVNrk9Uaq\n",
       "Cd6hCBA74p4+lksEdGb+Legd1IQ/RcmJ0f/4sON/PmPTWFLCxFAAAAAASUVORK5CYII=\n",
       "\" style=\"display:inline;vertical-align:middle;\" /></a>"
      ],
      "text/plain": [
       "((a + x) + (b * y)) * (b + y + x)"
      ]
     },
     "metadata": {},
     "output_type": "display_data"
    }
   ],
   "source": [
    "sum_then_mult.apply(*operands)"
   ]
  },
  {
   "cell_type": "markdown",
   "metadata": {},
   "source": [
    "The replacement is not always direct as it is in the above example. The reduction rules discussed in later chapters may be applied in the process.\n",
    "\n",
    "Note that there is no type-checking in this process. The way **Prove-It** effects type-checking is via **Conditional** expressions discussed in a later chapter and via universal quantifier conditions when performing the **Instantiation** derivation rule. In these basic examples, anything goes. We can mix logical and numerical operations without any complaint:"
   ]
  },
  {
   "cell_type": "code",
   "execution_count": 17,
   "metadata": {},
   "outputs": [
    {
     "data": {
      "text/html": [
       "<strong id=\"operands\">operands:</strong> <a class=\"ProveItLink\" href=\"__pv_it/lambda_reductions/bfc5d69116615b2e86a2f2d3d39c3b370c83fee60/expr.ipynb\"><img src=\"data:image/png;base64,iVBORw0KGgoAAAANSUhEUgAAAMUAAAAVBAMAAAAEKDfsAAAAMFBMVEX///8AAAAAAAAAAAAAAAAA\n",
       "AAAAAAAAAAAAAAAAAAAAAAAAAAAAAAAAAAAAAAAAAAAv3aB7AAAAD3RSTlMAInZUiRDNmWbv3US7\n",
       "qzJazP2FAAAACXBIWXMAAA7EAAAOxAGVKw4bAAACkElEQVRIx7WVP4gTQRTGv2R3s0k2OVJdIQh7\n",
       "aU6LSArxzsqAopUSAnLcEU2uOLQMKhKvilpYyQUr0Sb4F6yCVlZGGwtRQsjJiSBBtBHFBI1YHb6Z\n",
       "2d3MJJsFiwzMzu73m7w3b+a9CYAUZtm49XB2pj6essfBwCnFO/9PlBauAUbZ+0zm6TFnq3POOaM+\n",
       "Ea4g2+zxWZLHhQ3ArHlfUWY+0VMt/XLGtfK4D0Guscc7SR4XbgAxCTeoz6uGrKHzsu8jfEmcekj2\n",
       "Py7E8jgk4aPUL6qW9Ibr/zt8CdtDU97HcSFSwyXmtrvAT2HeiQWFzNljYlqkk+EvWi7Cs7BQhdGW\n",
       "CVtyXCaeYKS3v9Cq9TbO09fzVIIHnuwhzJ1Vwh1TLLO0YQy4xZRWYWPuMKJ9hXwC0gpxBRMZe5NO\n",
       "uYz75PA2hMW5NuIst6Kp6DApcuFIHrfY+AN4yGZkN5FsBRNHwFVs5XdoB+q4Sw77iOf479axxH3B\n",
       "dA/tMvBbWpxBdmO2QpwIR8QNucemkLE+8xFrodSEqMd1JxncKnkAi+Uoq6I1J5t+9mTinZRHXAEi\n",
       "TqvO9qpkY8vJuzmxD3iRMvJOEZhDOVkowP2QiZdxI+KmoDXAaXLZwCvykcV7TdxdN3k8xeYH6ADz\n",
       "sovVmpz0iTbeKsSrHEFGgvEmWQcdQbSFk0Rt7bHJqfFIHOfXK3gG4w+97uC1Urxm2/qrEO8G4EQS\n",
       "tN2VusXCz+EbWe6c2ntAYFGBK2mtSvQJLffMiZpyCRndxYFCvIITZCQYF+yl62wLmoj3pl6ZWt5P\n",
       "1ctBZLLtoe2qTPWh+2jHsZoNIpOtSv3lVB8FH+0euoFkooVYphan+rB9tOXFZiCZaAmWsCF7pv+1\n",
       "C8A/UN2zExyC8KEAAAAASUVORK5CYII=\n",
       "\" style=\"display:inline;vertical-align:middle;\" /></a><br>"
      ],
      "text/plain": [
       "<IPython.core.display.HTML object>"
      ]
     },
     "metadata": {},
     "output_type": "display_data"
    }
   ],
   "source": [
    "from proveit.logic import And, Or\n",
    "operands = [Or(a, x), And(b, y), Or(b, y, x)]"
   ]
  },
  {
   "cell_type": "code",
   "execution_count": 18,
   "metadata": {},
   "outputs": [
    {
     "data": {
      "text/html": [
       "<a class=\"ProveItLink\" href=\"__pv_it/lambda_reductions/724c1c4336b047ee3d00cdcba58c3818901c0b900/expr.ipynb\"><img src=\"data:image/png;base64,iVBORw0KGgoAAAANSUhEUgAAAQwAAAAVBAMAAABBDM1HAAAAMFBMVEX///8AAAAAAAAAAAAAAAAA\n",
       "AAAAAAAAAAAAAAAAAAAAAAAAAAAAAAAAAAAAAAAAAAAv3aB7AAAAD3RSTlMAInZUiRDNmWbv3US7\n",
       "qzJazP2FAAAACXBIWXMAAA7EAAAOxAGVKw4bAAADkklEQVRIx41WTWhTQRCe5OXlJa8vafDQk0Ks\n",
       "h+qhEqRU20uDioJQCT0oLa1JD2IvhYClxIo09FAvFUul4M+l+AspSsCLPSV6EQ+VUKMoigTFiyht\n",
       "qRFPxdmf1919P9CF2Z/JtzPfzszuCwAkgIlXC+xKZasdP/kZ9bQYTDHxbC1Jl+qAP1JF+xr1dNLF\n",
       "xbsddCq0NAzf9UMq6C7Q3yztigdu03NMeItlsIuLU4Uzji3nUC7xeUg+L0HKaGI0nCez96T7JkGd\n",
       "CtxmFIEKbxHCwGqIdZ5PXvCxgLLF50M5yTZB7qCBGW2lPGdI91aCOhW4LYpDVIKQMLZJ60U+HuHj\n",
       "POayaQfzMziQi2JJjFZodExShjJjl2IRurHvljQnUC5L6zGVhoa7Q3bGl36BAzkmlsTomZ3cGXL+\n",
       "XIoxmMCeSKC+n1ZEG48IDHReOInQfpWGkcZUrnWmWLWG6Z0cKIBeY8h+YZoYHW9/xw9u0nLpKMKI\n",
       "rBBO7DOsJCwa61gDgpRPPrhmIJ9ZlUYYM569qG/SeUKjtZDugcgGQ84qwdH/ZrKE6FeAdhoFbR5u\n",
       "gqQQTh7gAkW/DQYNQrwGJsloJBFpxtBnj0rDRO59GVgg898Aj8iO1BTEqgzZI2igUa0J0aQAwnd0\n",
       "8UXaKTm5hysUYwPMNN0+CkcpHTBoEa2TbqpUulMqPSWFVwaYBPgjnUlHUsTbuo3O0o3EaA5a01LY\n",
       "MghbkOMonHAa0Spky/zVGeWlTnOzokaD0HgILVv8YRiir2AT1hsMSdFmntPAg1VSUhHhzYlvy1Ul\n",
       "nPCkZJMsa7g3XmWTSkLH7PS6k7IFRlOudzzRIWDIXiUp+GxMZ+QrNQnBefWO2U5e4Rwlm4IPGmUY\n",
       "vEGjMlz+BCEc51QaFrLfhsGifPutGqxy5JyggUZbG1hy8gOzSrCSQjjh18xKak8M9gg/pkPfjyvw\n",
       "nN87iUYIzXyE18pbaNRa/nHkhKCBRmNFK688t9egUpQVwslP7FH0tbP7DjMse7zOt2sFEvFllUYc\n",
       "r9PI6aLyZdDrHZscuSxoEKP1An9t+Fs1cnw6ISuEExOLy2z4/xdYcjzmz7xQoRxDBqQvqrfRUz5O\n",
       "nF8kR9v56tmftutepgdT4PxGehkN5fRbfk5eAhPvttepsNz/qe5DnSMVtNuomYyl/ZwMc/FuLlt6\n",
       "1YU51lEGj+O4jWozV32dBJJMPFvQffY9/kgV7WvUY+t/lwrkePKwwiUAAAAASUVORK5CYII=\n",
       "\" style=\"display:inline;vertical-align:middle;\" /></a>"
      ],
      "text/plain": [
       "((a or x) + (b and y)) * (b or y or x)"
      ]
     },
     "metadata": {},
     "output_type": "display_data"
    }
   ],
   "source": [
    "sum_then_mult.apply(*operands)"
   ]
  },
  {
   "cell_type": "markdown",
   "metadata": {},
   "source": [
    "### Automatic relabeling to avoid collisions\n",
    "\n",
    "A lambda sub-expression defines a new scope for its parameters. This is clear from the fact that alpha conversion may be used to change its parameters arbitrarily without anything external to that sub-expression. Consider the following example"
   ]
  },
  {
   "cell_type": "code",
   "execution_count": 19,
   "metadata": {},
   "outputs": [
    {
     "data": {
      "text/html": [
       "<strong id=\"nested_lambda\">nested_lambda:</strong> <a class=\"ProveItLink\" href=\"__pv_it/lambda_reductions/d2649ab8e96bfb20459c64936eb2ec91dfbb04160/expr.ipynb\"><img src=\"data:image/png;base64,iVBORw0KGgoAAAANSUhEUgAAAKIAAAAVCAMAAADy48XkAAAANlBMVEX///8AAAAAAAAAAAAAAAAA\n",
       "AAAAAAAAAAAAAAAAAAAAAAAAAAAAAAAAAAAAAAAAAAAAAAAAAABHL6OuAAAAEXRSTlMAEHarMolU\n",
       "md1mIs3vRLvz6fgHHdMAAAAJcEhZcwAADsQAAA7EAZUrDhsAAAHASURBVEjHvZfpkoMgEISZ4T53\n",
       "ff+XXSQeoKgjqVp+JFZM99ecjoy9amiMYG+bY8OSAZ6M73Go3msiDhMHIirJBhra/4sIng01D/8W\n",
       "Udu7+by+aTWZiO5lxFbAwu0iwOt7AW6I0Ljo54g3AuVHI3q7EwGRg5By23im+as5RQQsswecINDL\n",
       "ZjlBehEbY8l3Yu41cmTa9IkqHSNKpubpsxNBsIzFGdKL2BhbvxGtm38Exm2fyDBBE1GoD4kngsB8\n",
       "hu0M6URsjVXYiXMfmxXz82uaNk2xjpj5YbYOSBCEz9UJossfQyhffFvSlbGYmtUf8HIx5ZPBx8N2\n",
       "iXk8soUgCEJ1iY/bpTaOoY4YpzwPAH2i8HDc0WU8MDCCwKgd30C6EWtjZVYipMh4KGu1T/TudOgk\n",
       "vn48ClIJ0YF0I9bGNq1ENQnQWR334yA+nYuaz4NiSYLC60D6o1gZL8fVPIoaMdvaq3JEinNE4BL1\n",
       "5CgCUUb4CnKMWBub+O0zWhLLg9t6r/d0WYyd+aaMmE0gEKtAq+llRG28lh9jEU3uOydXgYledFfG\n",
       "Ln1VLyqLmi6ERK9+d+OtY+8jDry7OBwout367hLiH0WMEEE0C8+TAAAAAElFTkSuQmCC\n",
       "\" style=\"display:inline;vertical-align:middle;\" /></a><br>"
      ],
      "text/plain": [
       "<IPython.core.display.HTML object>"
      ]
     },
     "metadata": {},
     "output_type": "display_data"
    }
   ],
   "source": [
    "nested_lambda = Lambda(x, Lambda(y, Add(x, y)))"
   ]
  },
  {
   "cell_type": "markdown",
   "metadata": {},
   "source": [
    "This defines a function that produces a function which produces the sum of the respective parameters. First, let's apply `nested_lambda` to something with no collissions with $y$:"
   ]
  },
  {
   "cell_type": "code",
   "execution_count": 20,
   "metadata": {},
   "outputs": [
    {
     "data": {
      "text/html": [
       "<a class=\"ProveItLink\" href=\"__pv_it/lambda_reductions/49e3a62557bad79cb6b1f105e72c3f1d72e683b00/expr.ipynb\"><img src=\"data:image/png;base64,iVBORw0KGgoAAAANSUhEUgAAAJEAAAAVCAMAAABxJ/zfAAAANlBMVEX///8AAAAAAAAAAAAAAAAA\n",
       "AAAAAAAAAAAAAAAAAAAAAAAAAAAAAAAAAAAAAAAAAAAAAAAAAABHL6OuAAAAEXRSTlMAEHaZZquJ\n",
       "VO8y3btEzSLz6T2OwCoAAAAJcEhZcwAADsQAAA7EAZUrDhsAAAHwSURBVEjHrVbZlqwgDJR9dy7/\n",
       "/7MDUZCgIN4zeejqpZoqkhjYts+xd7jG/mtuE1RhfAlP15f+wr1CSYyDIE7b0zn/sFv+3RAJGMcR\n",
       "WHlD1pf/wj2DcYzjiKWqnHW1mfy15z7lses23eG4J2LdrsYbV7Nu0U9JQt8pbFoFjOOQ9ioFX3eU\n",
       "uYRCBYgoX1pEwZ+YxLjtQtL9SSIISsVROClmjrB+5spN5RLw+OxBuX4LLXqdquriPdUkpiYlEWrO\n",
       "w8wR1k9cozaWPQj37GijrtGzCiHR2RmzD0MCXGoQV3riqNNPXHL+T1fezz+LIkZ/NZ5HyGBjVl6J\n",
       "qeWFdxF+MSX9DNbTGkDUrm31gQtPhYlmkCMf/DZypB34qARbnwNw6Y8J4PW0s5E+cGE7VA962aCh\n",
       "hatGIkUd2E8jdjSYslNHSB+4TpSXJ0cBDSRHWySgK8Kmbmdk3vLRZcmymzpC+sBlImfumhl+Mo/K\n",
       "g3xiNqZSqe6TVqT1HOtGxSBHrT5wSRopLA5uAtLgGlqERFBpdkHN/ekXsh401k8dIf3Kla8zuKxu\n",
       "MK7cerpH5WlmF33g5g9Eq8Xly1G4cCT2h/PgpEX6wLXJspDL67sd43uK3EvWG/2Dqzhl/sMFyWFc\n",
       "3sLwCtjou/+615ZzdV+7gtIPIsD9BXZ2Dtv8ZxrTAAAAAElFTkSuQmCC\n",
       "\" style=\"display:inline;vertical-align:middle;\" /></a>"
      ],
      "text/plain": [
       "y -> ((a * b) + y)"
      ]
     },
     "metadata": {},
     "output_type": "display_data"
    }
   ],
   "source": [
    "nested_lambda.apply(Mult(a, b))"
   ]
  },
  {
   "cell_type": "markdown",
   "metadata": {},
   "source": [
    "We produced a lambda function in terms of the $y$ parameter. But what happens if we apply this `nested_lambda` to something that happens to be a function of $y$?"
   ]
  },
  {
   "cell_type": "code",
   "execution_count": 21,
   "metadata": {},
   "outputs": [
    {
     "data": {
      "text/html": [
       "<strong id=\"applied_nested_lambda\">applied_nested_lambda:</strong> <a class=\"ProveItLink\" href=\"__pv_it/lambda_reductions/19a2f88df39f124236ca22f6dae7be041442f2910/expr.ipynb\"><img src=\"data:image/png;base64,iVBORw0KGgoAAAANSUhEUgAAAK4AAAAVCAMAAADo3yVqAAAANlBMVEX///8AAAAAAAAAAAAAAAAA\n",
       "AAAAAAAAAAAAAAAAAAAAAAAAAAAAAAAAAAAAAAAAAAAAAAAAAABHL6OuAAAAEXRSTlMAMrsiq4l2\n",
       "RO8QZpndVM3z6UwP0jwAAAAJcEhZcwAADsQAAA7EAZUrDhsAAAHUSURBVEjHpVfbtqsgDOR+h334\n",
       "/589gqImokXMQ2dVnWRIYpoS8s04wtHn5yN9MRUh/jStZkPNM3eLEuLIAd10atxHtTZBHLJkZ8PN\n",
       "M1fzDuKQOY+K7GaZP8uB2t0gHDMDkxTVLLNXb+AZHi8miKM1dbNy07UQXEjFDw8B3ITfvISIuceZ\n",
       "VW0XK+o3Kd7IPftEzNJJZik4y7YvMLLeYRti7m6SxNIvLq8tmF7IBT4dLqM1JbQPN/kkip3EhAjw\n",
       "wm1G43pVrIeNZlwu9BnxS+JrAsIxRv/+BWA566PzNUDEtTkd/W+KJrMKo7kFqx6NqSD6swf43Jm7\n",
       "AlYD6bvs6qTJnVzMDceLqUs1aaZbfcezC30i5nJDHT3WkUvBpIbNcOWeklQSrbZgMQzLRT4Rc7ld\n",
       "IotEIu/KTWDwMnXGK/f0pGgfJTp7IRf4RMw1clyquNdRP8zdNlc2vHBP2RWlIRyaewPNAH0uTMqa\n",
       "8ToalaRcKNolS3iZBoAPXLsMT5+3rAf9JPdJD2K+tUAhPprcBgVHDTj+q8bDtxWn7Ry/do+i1JrY\n",
       "34fGVxz/dYNkHOJdFZYEiq1jOZv+O8E+qiWWQbzb4p3ymgydbCA3X/6qKYivd9CX2+t/R68QRs14\n",
       "PdkAAAAASUVORK5CYII=\n",
       "\" style=\"display:inline;vertical-align:middle;\" /></a><br>"
      ],
      "text/plain": [
       "<IPython.core.display.HTML object>"
      ]
     },
     "metadata": {},
     "output_type": "display_data"
    }
   ],
   "source": [
    "applied_nested_lambda = nested_lambda.apply(Mult(a, y))"
   ]
  },
  {
   "cell_type": "markdown",
   "metadata": {},
   "source": [
    "The system automatically relabeled the $y$ of the nested lambda expression to a new variable to avoid the collision. It uses ${_{-}a}$ as the first available dummy variable, which has no relation to $a$ as a variable. (Note, if you happen to use the full alphabet, it will go on to ${_{-}aa}$, ${_{-}ab}$, etc. so it will never run out of options).\n",
    "\n",
    "To understand that this is a correct and valid thing to do, consider that you could have relabeled $y$ to ${_{-}a}$ in the nested lambda expression first before calling `apply`. To relabel a lambda sub-expression, one can call `inner_expr()` to create an `InnerExpr` object. We will discuss this capability in more detail in Chapter 2.a.vi. but here is a quick prelude, relabeling the inner lambda expression."
   ]
  },
  {
   "cell_type": "code",
   "execution_count": 22,
   "metadata": {},
   "outputs": [
    {
     "data": {
      "text/html": [
       "<strong id=\"relabeled_nested_lambda\">relabeled_nested_lambda:</strong> <a class=\"ProveItLink\" href=\"__pv_it/lambda_reductions/c6f661d8a9a3345c085d9272c668ca3bc0a0f4260/expr.ipynb\"><img src=\"data:image/png;base64,iVBORw0KGgoAAAANSUhEUgAAAJ4AAAAVCAMAAACALKdSAAAANlBMVEX///8AAAAAAAAAAAAAAAAA\n",
       "AAAAAAAAAAAAAAAAAAAAAAAAAAAAAAAAAAAAAAAAAAAAAAAAAABHL6OuAAAAEXRSTlMAEHarMolU\n",
       "md1mIs3vRLvz6fgHHdMAAAAJcEhZcwAADsQAAA7EAZUrDhsAAAHCSURBVEjHvZZZdsMgDEWRmM3Q\n",
       "sv/NFs9gwAbnNPzEScR71yCBCBkaqBQbm0EmQt7NeOHF3agXimE8h2/dlgngreqdIHi39imL+hM8\n",
       "QozstTQj6oesgY/wQu+OSX23idc/D1kte/FwKvFcgL5wYm83Hi+4p6yFNl7mLWSJx1VnuDAjeIms\n",
       "0WemI1JgnB8blue9KvEMjVN6wuVWGIVFFS+R5fRwi++LFIlUdT/hi8oNMXUhTM/hZsuuwqKGl8pq\n",
       "s7vp+F3HXae6jkfQQ44nlhyx+Byu1rUoLWp4qaywu9t8MsssR35+VTZCcBneGh34c7hdnwoLuQRa\n",
       "u3zQ/cdEloW0NCw20ycWlHH56im+lJl4DrfJIz6VRirrbILn5g0HqOMxA5fcWxTkcQrchCtxHhqZ\n",
       "RQ0vlRVqcwPvCJ1ZeWP1zHQtjRA3C6zuCPe43laFRRUvkdV+cxOBgYxz3Vn07uHcmzPcy65wuuZ8\n",
       "YVHDS2XXE2lePYkYRXXrmuKsbAkob15WeThbVrZlcT1YElnlPrlzu8dtxyaw2fEp8hU8LUdagmsn\n",
       "8e94xI83y3HxPPkSHvgXePs7jeMN9/8TDtNtTRkq6/4A8dkQYdnBbnIAAAAASUVORK5CYII=\n",
       "\" style=\"display:inline;vertical-align:middle;\" /></a><br>"
      ],
      "text/plain": [
       "<IPython.core.display.HTML object>"
      ]
     },
     "metadata": {},
     "output_type": "display_data"
    }
   ],
   "source": [
    "relabeled_nested_lambda = \\\n",
    "    nested_lambda.inner_expr().body.relabeled({y:b})"
   ]
  },
  {
   "cell_type": "markdown",
   "metadata": {},
   "source": [
    "And now there is clearly no conflict and we obtain the same result (but with a different lambda parameter):"
   ]
  },
  {
   "cell_type": "code",
   "execution_count": 23,
   "metadata": {},
   "outputs": [
    {
     "data": {
      "text/html": [
       "<strong id=\"applied_nested_lambda2\">applied_nested_lambda2:</strong> <a class=\"ProveItLink\" href=\"__pv_it/lambda_reductions/0319c7aaecbb7dc729df069e1b4508609f28c5380/expr.ipynb\"><img src=\"data:image/png;base64,iVBORw0KGgoAAAANSUhEUgAAAI8AAAAVCAMAAABIQE2EAAAANlBMVEX///8AAAAAAAAAAAAAAAAA\n",
       "AAAAAAAAAAAAAAAAAAAAAAAAAAAAAAAAAAAAAAAAAAAAAAAAAABHL6OuAAAAEXRSTlMAELvv3c2Z\n",
       "VESJq3YiMmbz6Q5VJBAAAAAJcEhZcwAADsQAAA7EAZUrDhsAAAHpSURBVEjHrVZZluMgDGQXIGCG\n",
       "+1+2Dd4QjTF+r/WRcpIyKqEFGPtoocNV/l8yG0Og+GoW2TcmF1ItywFHcSWCNP//9n8ytVldm2uK\n",
       "S6b5G8FQZl7de2YSxSVLXbi2f/nyvzNtfgwAuxqTHa6ZpOtDV1GN/8p0pHzIu0BDA01xNWFpqqfx\n",
       "X5naI/orZbS26TfjKLLgHYZBA3GsGeV+d+inehr/hcnzVkY8h6ECEKNAT7Rye0sM0u0YlJSmvJeF\n",
       "nulp/Rcm1PUkDvUwFI03BQS5LLrM72kRYf/V79GAnOlp/RemqerzmYJ//xWxnO1dmJagqeErdwd6\n",
       "12Bd/wgy5jPfdUUpK5xJbP0XZl3PXj3XRWu1ZU96pKgqLoIytGdijkdaZ/vT+i/M+mSuIqB6Ihlm\n",
       "NF88410j/aAqQeOhA9RMT+u/MEsQeyUM9GgygAS2yOtKXjP4fRIKf34UyWKqp/FfmH57FM1OT+bP\n",
       "2bgHFlmwJWlw3BhfcpC68TDU0/ovTO7d4/h3kWZPEeQeXQwe42AAbYPJnDNE2Wm/N/475qupSHFq\n",
       "7mi30LUIPN5Agvom5zoak3mXwiWMD1+b3o7rdROB4tM+blvgj6oJYvmCKL7K2S5PFJ+ubQmNZUvS\n",
       "B8F+uj4jxffr4bKTyvwBXiMO/141+U0AAAAASUVORK5CYII=\n",
       "\" style=\"display:inline;vertical-align:middle;\" /></a><br>"
      ],
      "text/plain": [
       "<IPython.core.display.HTML object>"
      ]
     },
     "metadata": {},
     "output_type": "display_data"
    }
   ],
   "source": [
    "applied_nested_lambda2 = relabeled_nested_lambda.apply(Mult(a, y))"
   ]
  },
  {
   "cell_type": "markdown",
   "metadata": {},
   "source": [
    "These are equal expressions since they are the same up to alpha conversion."
   ]
  },
  {
   "cell_type": "code",
   "execution_count": 24,
   "metadata": {},
   "outputs": [
    {
     "data": {
      "text/plain": [
       "True"
      ]
     },
     "metadata": {},
     "output_type": "display_data"
    }
   ],
   "source": [
    "applied_nested_lambda == applied_nested_lambda2"
   ]
  },
  {
   "cell_type": "markdown",
   "metadata": {},
   "source": [
    "Lambda expressions are used implicitly in other types of expressions. They are used in `ExprRange` and `OperationOverInstances` type expressions. Examples of the later are $\\forall, \\exists, \\sum, \\prod$ operations. Automatic relabeling will happen in these cases as well, of course."
   ]
  },
  {
   "cell_type": "code",
   "execution_count": 25,
   "metadata": {},
   "outputs": [
    {
     "data": {
      "text/html": [
       "<strong id=\"exists_fn\">exists_fn:</strong> <a class=\"ProveItLink\" href=\"__pv_it/lambda_reductions/41083d77fc85f8ba041bec8962675a763219dff40/expr.ipynb\"><img src=\"data:image/png;base64,iVBORw0KGgoAAAANSUhEUgAAAMwAAAAWCAMAAAC7WYOJAAAANlBMVEX///8AAAAAAAAAAAAAAAAA\n",
       "AAAAAAAAAAAAAAAAAAAAAAAAAAAAAAAAAAAAAAAAAAAAAAAAAABHL6OuAAAAEXRSTlMAEHarMolU\n",
       "md1mIs3vRLvz6fgHHdMAAAAJcEhZcwAADsQAAA7EAZUrDhsAAAJ4SURBVFjDzVfr1qUgCBW8m/qN\n",
       "7/+y46VOaZbZd2at4RdrRbI3ICAhU4JKsUeG5qQ8F/PG+jGyXbh7SFq0yoQ4fGX9FFtNRqoi9vJv\n",
       "wVtlLv/6CRSO0hyt35Eho6jD0iqTssDYJDoHZQ7W/4iM1K3SK4+bb1qOgGiV4fiD9ZgMmhdk7Enp\n",
       "leLdzbCj1HiazwiwW3fJVOcIOU9GLK0yTWYZ3ZqQcbEgduuMDRApMM43aKr6S82TkbxRWg89MoC5\n",
       "JoEWP/SeC2xk9G5dmlOERTH2qC584afJfMK6Ka2HHhlORCpKHcqV2HO69c4sG0cTeCGDu3XCpk06\n",
       "AgjVXTIEPTRkxNaaL8goUSsnDx0yTBSutMRO2MGk3Mjw3TphS3NTHov754+qJAQ3l5nP/FmV1kOJ\n",
       "tbXHWMeA2cTOFoosjMoss3AlM8V6w2bx8pYQtzjyOzInD90G4FJnYqHsJM4+agCiNABnD9hciIUA\n",
       "0CXDqgF2IuMwhZbeltnJQ5dMzh2uJIS6vzPElwlTWnOxjtjAO0JtvoFdMou5awCAJJ7H6jh6rJSz\n",
       "hy6ZPDn8ilb70dC0ZC/eYh2xicBAxi9uj+LEnDGQooK1609f5etkaz30M0NTAnXT3S8lZR0sO1in\n",
       "zEjECFlf1D9ng0WTxoNojYupSrnw0JIBGjfHsNaBGq4mIDlSdrT+3W72Ocg2L4nPy+LuidHbAPja\n",
       "84yaetEo8i0yLBbH1Z54tzA2i2biAdvkknoG1Gr9BTKxfvxpBfOmVYaisJRsDrWfSownXyIDEa0/\n",
       "xRF8qwxFaJRuOgRH63ky7Us73n3X2Y0NtsrMQ9O8sMabh+/jF7hGTv4X+QujAhVEpH6XhAAAAABJ\n",
       "RU5ErkJggg==\n",
       "\" style=\"display:inline;vertical-align:middle;\" /></a><br>"
      ],
      "text/plain": [
       "<IPython.core.display.HTML object>"
      ]
     },
     "metadata": {},
     "output_type": "display_data"
    }
   ],
   "source": [
    "from proveit.logic import Exists, Equals\n",
    "from proveit.numbers import zero\n",
    "exists_fn = Lambda(x, Exists(y, Equals(Add(x, y), zero)))"
   ]
  },
  {
   "cell_type": "code",
   "execution_count": 26,
   "metadata": {},
   "outputs": [
    {
     "data": {
      "text/html": [
       "<a class=\"ProveItLink\" href=\"__pv_it/lambda_reductions/4187ccd88f3261e4703aaf3174cfdf8fb05190d40/expr.ipynb\"><img src=\"data:image/png;base64,iVBORw0KGgoAAAANSUhEUgAAANYAAAAVBAMAAADIsQ0HAAAAMFBMVEX///8AAAAAAAAAAAAAAAAA\n",
       "AAAAAAAAAAAAAAAAAAAAAAAAAAAAAAAAAAAAAAAAAAAv3aB7AAAAD3RSTlMAmd3vRHZUIhCJZjKr\n",
       "u82ULvv+AAAACXBIWXMAAA7EAAAOxAGVKw4bAAACVklEQVRIx5VVP2hTQRz+XhNfXpu+mmQRuxgf\n",
       "KogdCq1WBCHi5vSKoEQdQooITs+hW4vaUHAQ85YsKhIXcVEDDk6SLB2CIFmkIIqZHDp1aNLo5L3w\n",
       "fndn7nKQD77c5fs4vrvf/XnAGKQk6jyYBk445obEUSR9w8AxZiTnPM9bVi07FFRxy7Qw1ZyuHeOy\n",
       "Zu7PJKqYe2TIUs3f2ApI1mTNS1Qxk4k710wmF/KY7pCsyVqUqMHFuL1rMgluC/aAZDXL7grqsGfK\n",
       "2hv5fzSDdJ9kNcsKBbFRW+fG9jycFvBSn5Vq3/SFSaiyrL8kq1lzdcHkCn7x7Q7XMLMPvNdnXQ3c\n",
       "QWxa3hBsXngYIt2L5DITLihZUyXBSh050tOlHGY7wJo2y7kEKy9MQpT1h2R1XYmC4Ang7LAUbO8c\n",
       "nEeClakZCexqLnneglT5fUyFsSnXMESyR7I56zKcg+Fao0ObHKDZYMXSrivRQbUgTOls2H2SKct5\n",
       "XgyUGjq94Q7R1Lu4zpqyNqvq4wOZ0n657HINaAxlbQXNOMv1OZ0+Zrv3pLvygzXv9FklfLUDbvK7\n",
       "vBhNMZYpK4uP9IK1BL+hnOFPgdVKsuOL49os17dPWsLkOINKI5Llt3cZd+i85QWfFj/tNPhRa68e\n",
       "subU/1mffzIEcHZebNwWJsfj2heMyM4hvj+J++ckjjzarBypvOHd4KZRXkkfvI27ryXKeIUKOzJW\n",
       "3fD2cnOM/CCbzRZw5U2RBDcQlHEabfa7afp+bU4kR/XsCMq4v8ouEHZNWbsTyRHWJY7iSGCIGmMy\n",
       "+R92fpuqwPeV6gAAAABJRU5ErkJggg==\n",
       "\" style=\"display:inline;vertical-align:middle;\" /></a>"
      ],
      "text/plain": [
       "exists_{_a} (((a * y) + _a) = 0)"
      ]
     },
     "metadata": {},
     "output_type": "display_data"
    }
   ],
   "source": [
    "exists_fn.apply(Mult(a, y))"
   ]
  },
  {
   "cell_type": "markdown",
   "metadata": {},
   "source": [
    "### Masking parameters\n",
    "\n",
    "For clarity reasons, it is generally best to avoid using the same parameter variable for a lambda expression within lambda expression. It is not disallowed, however. Importantly, scoping rules are obeyed such that the inner lambda expression masks any external uses of its parameter. For example, consider"
   ]
  },
  {
   "cell_type": "code",
   "execution_count": 27,
   "metadata": {},
   "outputs": [
    {
     "data": {
      "text/html": [
       "<strong id=\"masking_lambda\">masking_lambda:</strong> <a class=\"ProveItLink\" href=\"__pv_it/lambda_reductions/0c0b42ef225272707b5731afff75b17b660b27300/expr.ipynb\"><img src=\"data:image/png;base64,iVBORw0KGgoAAAANSUhEUgAAAMQAAAAVCAMAAAAuGrHTAAAANlBMVEX///8AAAAAAAAAAAAAAAAA\n",
       "AAAAAAAAAAAAAAAAAAAAAAAAAAAAAAAAAAAAAAAAAAAAAAAAAABHL6OuAAAAEXRSTlMAIquJdkTv\n",
       "uxBmmd1UzTLz6WsWsi8AAAAJcEhZcwAADsQAAA7EAZUrDhsAAAI6SURBVFjDrVeJksMgCPUWr+zm\n",
       "/392Y4wtKnZjdp3pTGnh4QNBYWx18VtaKoTtP/EG/csBZ0+WirfUpP5fvPfSCrt4SSsrSnafhA9l\n",
       "Gf1nPEzb4ThVaWFBmm87TjMxjzaJJ6B+28g4J8AuEqyS8FPeENIDEiSee23dknXlPHZxSZ9S1xWO\n",
       "+ZBkoddJ0Hih1vAk7wawC0OkovkptjTj/DQFttllEhO8ejL9xC457KJIXEjFVR8GSvK1DFuTq0AT\n",
       "XyUxwasZwM6xhhTYxSlpczi3O5DbjnYMwWDCCgGctnskZnjirAWFotRouIRdZAmMO7shHXumLNpq\n",
       "KLvpTY42csYmQEsi1hY7IzHDG+BajWgwiSz5/TR49euv79CsfX8H9Wr4vQkRunuZmOL1iW01th27\n",
       "yJLJBwbeO+0yoZMenPYmtd1DeEZiwBtKrNXQTSYOCfYcPrdPSnlr7pKS/sGEaCcjCZBOSU4dpxGv\n",
       "b3adRgzNcQrH/xlIJBY5RSI1bq0qkJ0J0dgHEhD4kfiOxAyvv3Y6DWebwrYFKAbP6gnUH+6J0tsG\n",
       "E+KKHUj4Q3nr77YJ3vgAaDVKZ64usgRCyY0LRd7wsv11KyHvTYjHzvAAzB8lOvgJ3njRtRpBYxLh\n",
       "7oP5dVRvDgnDUxzySbIO4CFeM1EE7IKHVfvfX1uzecLkktAOHuIRr8bLhV9/i1v+kIT2LirpnuLh\n",
       "RFjsgtv1KIB9SOKPeATv4sI+GVD5vXlQ3p2x+ep8eU0HqsyLp/QDwVkVEjC1AWQAAAAASUVORK5C\n",
       "YII=\n",
       "\" style=\"display:inline;vertical-align:middle;\" /></a><br>"
      ],
      "text/plain": [
       "<IPython.core.display.HTML object>"
      ]
     },
     "metadata": {},
     "output_type": "display_data"
    }
   ],
   "source": [
    "masking_lambda = Lambda(a, And(a, Exists(a, Or(a, a))))"
   ]
  },
  {
   "cell_type": "markdown",
   "metadata": {},
   "source": [
    "If we apply this `masking_lambda` function onto a general expression, the $a$ within the inner lambda expression (of the $\\exists$ operation) will be left alone."
   ]
  },
  {
   "cell_type": "code",
   "execution_count": 28,
   "metadata": {},
   "outputs": [
    {
     "data": {
      "text/html": [
       "<a class=\"ProveItLink\" href=\"__pv_it/lambda_reductions/1512d620f49383b2003f2ef96b8f1c42c47bae960/expr.ipynb\"><img src=\"data:image/png;base64,iVBORw0KGgoAAAANSUhEUgAAALoAAAAVBAMAAAADaun5AAAAMFBMVEX///8AAAAAAAAAAAAAAAAA\n",
       "AAAAAAAAAAAAAAAAAAAAAAAAAAAAAAAAAAAAAAAAAAAv3aB7AAAAD3RSTlMAInZUiRDNmWbv3US7\n",
       "qzJazP2FAAAACXBIWXMAAA7EAAAOxAGVKw4bAAACf0lEQVQ4y4VVTWgTQRT+8jPd/O2y9OBJIWig\n",
       "WihEKGpyaVERYSmEgkqllvTWY6ABYy4WxHqpYCue4iGoeEihBDxITzY9eRFD6cVbPHjQS6ylIPTi\n",
       "m83sZqbubBd2Z+eb93375r23bwDYCL4iJ+bRVu90Ixkf3yJSXmOQzqrzeDvA6EIY2QEmobsu/qde\n",
       "b7VaDRmLTYeRHbCyD5glelhDj0dKg/GG4rvi7d1QsgNjxQcSfC0zDG6i4g7svV69Fkp2kJRsm3Sf\n",
       "keavBtl83taqvwglO7giATwEy9J8yX2mrB2deqwcSnZQpZfZiYWbefFp7gJma2BdYMY1m8SiTt3g\n",
       "ST13fRQyWQAzXJ37V4nuGXzB7CHq5mW6gMRvYNU1XsRVnfoIJS29jq8lmSyAVa7+lhJgJ45Mnlyr\n",
       "i5Sb+nwdJoWjAAnk6kWqyJeSeop2PLeCumIngAJXp/K1YIj4CTcZNpAkP/qQfQrwPUnQY+CdskcB\n",
       "9IU6XCk5xOkj9Km4tkVJs2aI+muwY4UsgG0RGeCTzUpyedBeLtFQVGrBV2e3c7YfGfbHTdGQ7AFF\n",
       "rr4LzLe/Ia6UdqaLLzSsKXXsq9+3+0I9kwU7hFm+LJE9YI2rU+FM/XiED8pvaXTTf2moKv+gr/4Q\n",
       "P73WQ2W7i2KlIpMFUOXqv4B752M10SjF78D2xw5o2FT6h9/FGpgQ6hZt7EHu+15PJgtgk6uneoEt\n",
       "Lk5VFGkGdmB2gM93BLalbbCc7HitSr1uYY42IzU4pb+vW8dPxeszrTonU3/vBCy9wT49z2pOj49P\n",
       "ct53M7qDzSWT+nzA0rUxrtQ5/WxiOzr1zkA9ktWsR0/4FQ86V0dDyOONf/IZqrBE7g7EAAAAAElF\n",
       "TkSuQmCC\n",
       "\" style=\"display:inline;vertical-align:middle;\" /></a>"
      ],
      "text/plain": [
       "(x or y) and [exists_{a} (a or a)]"
      ]
     },
     "metadata": {},
     "output_type": "display_data"
    }
   ],
   "source": [
    "masking_lambda.apply(Or(x, y))"
   ]
  },
  {
   "cell_type": "markdown",
   "metadata": {},
   "source": [
    "The `apply` method does have an optional `allow_relabeling` flag. When this is `True`, if it is valid to relabel an inner parameter with the same name as an external variable, it will do so. This is just a convenient way to perform alpha conversion in one step. It's purpose will be more apparent when we discuss **instantiation**. For example, turning `allow_relabeling` on, we get"
   ]
  },
  {
   "cell_type": "code",
   "execution_count": 29,
   "metadata": {},
   "outputs": [
    {
     "data": {
      "text/html": [
       "<a class=\"ProveItLink\" href=\"__pv_it/lambda_reductions/c678257a17d5c4e8a588d6b3b05b222157d8b7af0/expr.ipynb\"><img src=\"data:image/png;base64,iVBORw0KGgoAAAANSUhEUgAAAIEAAAAVBAMAAACTeZA2AAAAMFBMVEX///8AAAAAAAAAAAAAAAAA\n",
       "AAAAAAAAAAAAAAAAAAAAAAAAAAAAAAAAAAAAAAAAAAAv3aB7AAAAD3RSTlMAELvv3c2ZVESJq3Yi\n",
       "MmZ3LnoBAAAACXBIWXMAAA7EAAAOxAGVKw4bAAABuUlEQVQ4y32Uu0/CUBTGTx+0Qmm5MXGWxFEH\n",
       "RxcNhhonE3Q0xLAZY4Ismrh1d4CBROPEZtgYnNSBQfYO/gGNg4OTDk4u3te5trSXk0D4Tj5+nFcB\n",
       "mI/Hg1wKplAUNOuFcT5/l095vULCDX2VIzDWGvMEJwzDZpRKXedcXHsJJ0CpI7O36RrSP2u00FUh\n",
       "9M2fgNSHglCTXmNPR3ASdAXsyyZrnesPQegT2exnpCFYoFyslxmgtggnDKXP9usawiUoF+v0FFCX\n",
       "Ek44fn6Q42prCGegXDNZh9DlEd/FD1nl627DlYZwAspVicFjsxA6aDGC+w0Wy/kjsIkguGybPf8I\n",
       "CfuQcwntbjKC04LaIEX/r2GMhC1QLqxUaP+LEewB9FnFK7S0RoawnSKgC6cl9BKvgS72gqSnjAT/\n",
       "94moLtCFGxPabXBCbOxkNo0Eb9eT17oOyoVXI3RQZ4RKYnYy14YEM6Gj5nEP6FKXK7Qz4Nscd7MX\n",
       "j0+WFTsjQXgDdGGnUtsRvyjd010DS96EHUNxvMJCgk3e5aegoyF0FxP88wmmNooB1fpiQiqWiwnm\n",
       "tJgwzP9PVieFhBe6smb0B39VhA/BTbx/AAAAAElFTkSuQmCC\n",
       "\" style=\"display:inline;vertical-align:middle;\" /></a>"
      ],
      "text/plain": [
       "b and [exists_{b} (b or b)]"
      ]
     },
     "metadata": {},
     "output_type": "display_data"
    }
   ],
   "source": [
    "masking_lambda.apply(b, allow_relabeling=True)"
   ]
  },
  {
   "cell_type": "markdown",
   "metadata": {},
   "source": [
    "compared with the default of `allow_relabeling=False`"
   ]
  },
  {
   "cell_type": "code",
   "execution_count": 30,
   "metadata": {},
   "outputs": [
    {
     "data": {
      "text/html": [
       "<a class=\"ProveItLink\" href=\"__pv_it/lambda_reductions/ac56b6c46c462de533f4c53d98ab4291a1323ecd0/expr.ipynb\"><img src=\"data:image/png;base64,iVBORw0KGgoAAAANSUhEUgAAAIcAAAAVBAMAAACeZ+BxAAAAMFBMVEX///8AAAAAAAAAAAAAAAAA\n",
       "AAAAAAAAAAAAAAAAAAAAAAAAAAAAAAAAAAAAAAAAAAAv3aB7AAAAD3RSTlMAELvv3c2ZVESJq3Yi\n",
       "MmZ3LnoBAAAACXBIWXMAAA7EAAAOxAGVKw4bAAAB3UlEQVQ4y32UMUjDQBSGX5M0aZsmDYKDUwqO\n",
       "OnR0kkKjLgp1lSLdxKV2URCXgKNgOxQUUekiUlw6uFkhg12cOrgbFwcdbAc3B+8uL+21zfXgwrs/\n",
       "d9+9e+/dAUy2xy2Ybh5EN6LrTm9av4yYq1cFkDPSky7EFvOTENVxnILLa8cCBug+g0C8jMIF78nY\n",
       "3rHi0ExZ5GO0h+PtAJLB6bE1IUT1h6ZJ10ujKHwGkJqFnn25IojM2fTwXe6XxSANHCpGVgQ55Gx6\n",
       "6L3RMO4zyM7TPQavJILsk55udVgkuugNCskmy86vZbMqKMGRCLJL+qknDVhke6AzWiCYRQrRBiBT\n",
       "0WiCYgUQjaaYh2yQsK+CyhwI56Gg5ShELUKmzu8Q4ckKSVAflDpwHqNg9CmEWDW6YJ7A82KInAXb\n",
       "5WOHQoJ5QsrkwOKjPoQsfF+PjmO34WcsiyhoeQbpkdPx+Q8hsU3jDyFLZE0V7jSPqycUzCyFpHyp\n",
       "PFaJIUQtGzmEXJFfbW1d5SsbBbXOUtyqjN+J8ALKrt5EyBtZ+nDz+hyMglJDQXFZsYmeAtuTPvBG\n",
       "KD3RLYYXmAmRvfdzhJhlIaQyG5KonNyG2rKIkc7OhvBtTgSRvGhII+KNTbcFkA7JY8H9B2SwhR6Z\n",
       "nbj6AAAAAElFTkSuQmCC\n",
       "\" style=\"display:inline;vertical-align:middle;\" /></a>"
      ],
      "text/plain": [
       "b and [exists_{a} (a or a)]"
      ]
     },
     "metadata": {},
     "output_type": "display_data"
    }
   ],
   "source": [
    "masking_lambda.apply(b)"
   ]
  },
  {
   "cell_type": "markdown",
   "metadata": {},
   "source": [
    "But note that no relabeling occurs if it is not valid to do so.  Because relabeling is not allowed in the following example, `allow_relabeling=True` gives the same result as we had above with the `allow_relabeling=False` default:"
   ]
  },
  {
   "cell_type": "code",
   "execution_count": 31,
   "metadata": {},
   "outputs": [
    {
     "data": {
      "text/html": [
       "<a class=\"ProveItLink\" href=\"__pv_it/lambda_reductions/1512d620f49383b2003f2ef96b8f1c42c47bae960/expr.ipynb\"><img src=\"data:image/png;base64,iVBORw0KGgoAAAANSUhEUgAAALoAAAAVBAMAAAADaun5AAAAMFBMVEX///8AAAAAAAAAAAAAAAAA\n",
       "AAAAAAAAAAAAAAAAAAAAAAAAAAAAAAAAAAAAAAAAAAAv3aB7AAAAD3RSTlMAInZUiRDNmWbv3US7\n",
       "qzJazP2FAAAACXBIWXMAAA7EAAAOxAGVKw4bAAACf0lEQVQ4y4VVTWgTQRT+8jPd/O2y9OBJIWig\n",
       "WihEKGpyaVERYSmEgkqllvTWY6ABYy4WxHqpYCue4iGoeEihBDxITzY9eRFD6cVbPHjQS6ylIPTi\n",
       "m83sZqbubBd2Z+eb93375r23bwDYCL4iJ+bRVu90Ixkf3yJSXmOQzqrzeDvA6EIY2QEmobsu/qde\n",
       "b7VaDRmLTYeRHbCyD5glelhDj0dKg/GG4rvi7d1QsgNjxQcSfC0zDG6i4g7svV69Fkp2kJRsm3Sf\n",
       "keavBtl83taqvwglO7giATwEy9J8yX2mrB2deqwcSnZQpZfZiYWbefFp7gJma2BdYMY1m8SiTt3g\n",
       "ST13fRQyWQAzXJ37V4nuGXzB7CHq5mW6gMRvYNU1XsRVnfoIJS29jq8lmSyAVa7+lhJgJ45Mnlyr\n",
       "i5Sb+nwdJoWjAAnk6kWqyJeSeop2PLeCumIngAJXp/K1YIj4CTcZNpAkP/qQfQrwPUnQY+CdskcB\n",
       "9IU6XCk5xOkj9Km4tkVJs2aI+muwY4UsgG0RGeCTzUpyedBeLtFQVGrBV2e3c7YfGfbHTdGQ7AFF\n",
       "rr4LzLe/Ia6UdqaLLzSsKXXsq9+3+0I9kwU7hFm+LJE9YI2rU+FM/XiED8pvaXTTf2moKv+gr/4Q\n",
       "P73WQ2W7i2KlIpMFUOXqv4B752M10SjF78D2xw5o2FT6h9/FGpgQ6hZt7EHu+15PJgtgk6uneoEt\n",
       "Lk5VFGkGdmB2gM93BLalbbCc7HitSr1uYY42IzU4pb+vW8dPxeszrTonU3/vBCy9wT49z2pOj49P\n",
       "ct53M7qDzSWT+nzA0rUxrtQ5/WxiOzr1zkA9ktWsR0/4FQ86V0dDyOONf/IZqrBE7g7EAAAAAElF\n",
       "TkSuQmCC\n",
       "\" style=\"display:inline;vertical-align:middle;\" /></a>"
      ],
      "text/plain": [
       "(x or y) and [exists_{a} (a or a)]"
      ]
     },
     "metadata": {},
     "output_type": "display_data"
    }
   ],
   "source": [
    "masking_lambda.apply(Or(x, y), allow_relabeling=True)"
   ]
  },
  {
   "cell_type": "code",
   "execution_count": 32,
   "metadata": {},
   "outputs": [],
   "source": [
    "%end lambda_reductions"
   ]
  },
  {
   "cell_type": "markdown",
   "metadata": {},
   "source": [
    "# Next chapter: <a href=\"tutorial04_relabeling.ipynb\">ToDo</a>\n",
    "\n",
    "## <a href=\"tutorial00_introduction.ipynb#contents\">Table of Contents</a>"
   ]
  }
 ],
 "metadata": {
  "kernelspec": {
   "display_name": "Python 3",
   "language": "python",
   "name": "python3"
  }
 },
 "nbformat": 4,
 "nbformat_minor": 0
}