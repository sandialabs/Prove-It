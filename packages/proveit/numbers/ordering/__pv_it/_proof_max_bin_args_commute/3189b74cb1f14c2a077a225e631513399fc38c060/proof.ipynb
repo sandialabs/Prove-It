{
 "cells": [
  {
   "cell_type": "markdown",
   "metadata": {},
   "source": [
    "Show the Proof\n",
    "========"
   ]
  },
  {
   "cell_type": "code",
   "execution_count": 1,
   "metadata": {},
   "outputs": [
    {
     "data": {
      "text/html": [
       "<table><tr><th>&nbsp;</th><th>step type</th><th>requirements</th><th>statement</th></tr>\n",
       "<tr><td><a name=\"proveit.numbers.ordering._proof_max_bin_args_commute.3189b74cb1f14c2a077a225e631513399fc38c060_step0\">0</a></td><td>instantiation</td><td><a href=\"#proveit.numbers.ordering._proof_max_bin_args_commute.3189b74cb1f14c2a077a225e631513399fc38c060_step1\">1</a>, <a href=\"#proveit.numbers.ordering._proof_max_bin_args_commute.3189b74cb1f14c2a077a225e631513399fc38c060_step2\">2</a></td><td><span style=\"font-size:20px;\"><a class=\"ProveItLink\" href=\"../../theorems/d1323f34847310a404e8089c2c268d3c2eb89dbf0/expr.ipynb\"><img src=\"../../theorems/d1323f34847310a404e8089c2c268d3c2eb89dbf0/expr.png\" style=\"display:inline;vertical-align:middle;\" /></a>, <a class=\"ProveItLink\" href=\"../../theorems/5d76fdd975252a644e3e1cb067a357f9a9c8486a0/expr.ipynb\"><img src=\"../../theorems/5d76fdd975252a644e3e1cb067a357f9a9c8486a0/expr.png\" style=\"display:inline;vertical-align:middle;\" /></a>, <a class=\"ProveItLink\" href=\"../../theorems/44d10bba886cb9c03d8c1d01224b9827d41c27660/expr.ipynb\"><img src=\"../../theorems/44d10bba886cb9c03d8c1d01224b9827d41c27660/expr.png\" style=\"display:inline;vertical-align:middle;\" /></a> <a class=\"ProveItLink\" href=\"proof.ipynb\" style=\"text-decoration: none\">&nbsp;&#x22A2;&nbsp;&nbsp;</a><a class=\"ProveItLink\" href=\"../1488775939d9330c8517f26d39a3ded40e5d73230/expr.ipynb\"><img src=\"../1488775939d9330c8517f26d39a3ded40e5d73230/expr.png\" style=\"display:inline;vertical-align:middle;\" /></a></span></td></tr>\n",
       "<tr><td>&nbsp;</td><td colspan=4 style=\"text-align:left\"><span style=\"font-size:20px;\"><a class=\"ProveItLink\" href=\"../../../../../__pv_it/common/c06c606ec12678c58933ac85412ecadc2ae28be60/expr.ipynb\"><img src=\"../../../../../__pv_it/common/c06c606ec12678c58933ac85412ecadc2ae28be60/expr.png\" style=\"display:inline;vertical-align:middle;\" /></a> : <a class=\"ProveItLink\" href=\"../../../../../__pv_it/common/a0d9d672aa5e272d907247690c152cc2c6daafb70/expr.ipynb\"><img src=\"../../../../../__pv_it/common/a0d9d672aa5e272d907247690c152cc2c6daafb70/expr.png\" style=\"display:inline;vertical-align:middle;\" /></a>, <a class=\"ProveItLink\" href=\"../../../../../__pv_it/common/d72bb8b07403efe79afab564c36a28e21330e5f90/expr.ipynb\"><img src=\"../../../../../__pv_it/common/d72bb8b07403efe79afab564c36a28e21330e5f90/expr.png\" style=\"display:inline;vertical-align:middle;\" /></a> : <a class=\"ProveItLink\" href=\"../../theorems/2a516f0944259c69b1ee6ea6089cf0e6c33d73950/expr.ipynb\"><img src=\"../../theorems/2a516f0944259c69b1ee6ea6089cf0e6c33d73950/expr.png\" style=\"display:inline;vertical-align:middle;\" /></a></span></td></tr><tr><td><a name=\"proveit.numbers.ordering._proof_max_bin_args_commute.3189b74cb1f14c2a077a225e631513399fc38c060_step1\">1</a></td><td>theorem</td><td></td><td><span style=\"font-size:20px;\"> <a class=\"ProveItLink\" href=\"../../../../../core_expr_types/conditionals/_theory_nbs_/proofs/dissatisfied_condition_reduction/thm_proof.ipynb\" style=\"text-decoration: none\">&nbsp;&#x22A2;&nbsp;&nbsp;</a><a class=\"ProveItLink\" href=\"../../../../../core_expr_types/conditionals/__pv_it/theorems/a149ec43b7ef5d374bb47943807533d24c1266170/expr.ipynb\"><img src=\"../../../../../core_expr_types/conditionals/__pv_it/theorems/a149ec43b7ef5d374bb47943807533d24c1266170/expr.png\" style=\"display:inline;vertical-align:middle;\" /></a></span></td></tr>\n",
       "<tr><td>&nbsp;</td><td colspan=4 style-\"text-align:left\"><a class=\"ProveItLink\" href=\"../../../../../core_expr_types/conditionals/_theory_nbs_/proofs/dissatisfied_condition_reduction/thm_proof.ipynb\">proveit.core_expr_types.conditionals.dissatisfied_condition_reduction</a></td></tr><tr><td><a name=\"proveit.numbers.ordering._proof_max_bin_args_commute.3189b74cb1f14c2a077a225e631513399fc38c060_step2\">2</a></td><td>instantiation</td><td><a href=\"#proveit.numbers.ordering._proof_max_bin_args_commute.3189b74cb1f14c2a077a225e631513399fc38c060_step3\">3</a>, <a href=\"#proveit.numbers.ordering._proof_max_bin_args_commute.3189b74cb1f14c2a077a225e631513399fc38c060_step4\">4</a>, <a href=\"#proveit.numbers.ordering._proof_max_bin_args_commute.3189b74cb1f14c2a077a225e631513399fc38c060_step5\">5</a>, <a href=\"#proveit.numbers.ordering._proof_max_bin_args_commute.3189b74cb1f14c2a077a225e631513399fc38c060_step6\">6</a></td><td><span style=\"font-size:20px;\"><a class=\"ProveItLink\" href=\"../../theorems/d1323f34847310a404e8089c2c268d3c2eb89dbf0/expr.ipynb\"><img src=\"../../theorems/d1323f34847310a404e8089c2c268d3c2eb89dbf0/expr.png\" style=\"display:inline;vertical-align:middle;\" /></a>, <a class=\"ProveItLink\" href=\"../../theorems/5d76fdd975252a644e3e1cb067a357f9a9c8486a0/expr.ipynb\"><img src=\"../../theorems/5d76fdd975252a644e3e1cb067a357f9a9c8486a0/expr.png\" style=\"display:inline;vertical-align:middle;\" /></a>, <a class=\"ProveItLink\" href=\"../../theorems/44d10bba886cb9c03d8c1d01224b9827d41c27660/expr.ipynb\"><img src=\"../../theorems/44d10bba886cb9c03d8c1d01224b9827d41c27660/expr.png\" style=\"display:inline;vertical-align:middle;\" /></a> <a class=\"ProveItLink\" href=\"../4bc6e3259a1878631986e9d6d93e3fb1abe6bebe0/proof.ipynb\" style=\"text-decoration: none\">&nbsp;&#x22A2;&nbsp;&nbsp;</a><a class=\"ProveItLink\" href=\"../../theorems/519bde702023a297cf633c1d22e1f29d08b0a27c0/expr.ipynb\"><img src=\"../../theorems/519bde702023a297cf633c1d22e1f29d08b0a27c0/expr.png\" style=\"display:inline;vertical-align:middle;\" /></a></span></td></tr>\n",
       "<tr><td>&nbsp;</td><td colspan=4 style=\"text-align:left\"><span style=\"font-size:20px;\"><a class=\"ProveItLink\" href=\"../../../../../__pv_it/common/a0d9d672aa5e272d907247690c152cc2c6daafb70/expr.ipynb\"><img src=\"../../../../../__pv_it/common/a0d9d672aa5e272d907247690c152cc2c6daafb70/expr.png\" style=\"display:inline;vertical-align:middle;\" /></a> : <a class=\"ProveItLink\" href=\"../../../../../__pv_it/common/a0d9d672aa5e272d907247690c152cc2c6daafb70/expr.ipynb\"><img src=\"../../../../../__pv_it/common/a0d9d672aa5e272d907247690c152cc2c6daafb70/expr.png\" style=\"display:inline;vertical-align:middle;\" /></a>, <a class=\"ProveItLink\" href=\"../../../../../__pv_it/common/ff7dba4ef0bbe791ab573bf2d9c220a304399ac80/expr.ipynb\"><img src=\"../../../../../__pv_it/common/ff7dba4ef0bbe791ab573bf2d9c220a304399ac80/expr.png\" style=\"display:inline;vertical-align:middle;\" /></a> : <a class=\"ProveItLink\" href=\"../../../../../__pv_it/common/ff7dba4ef0bbe791ab573bf2d9c220a304399ac80/expr.ipynb\"><img src=\"../../../../../__pv_it/common/ff7dba4ef0bbe791ab573bf2d9c220a304399ac80/expr.png\" style=\"display:inline;vertical-align:middle;\" /></a></span></td></tr><tr><td><a name=\"proveit.numbers.ordering._proof_max_bin_args_commute.3189b74cb1f14c2a077a225e631513399fc38c060_step3\">3</a></td><td>theorem</td><td></td><td><span style=\"font-size:20px;\"> <a class=\"ProveItLink\" href=\"../../../_theory_nbs_/proofs/not_less_eq_from_less/thm_proof.ipynb\" style=\"text-decoration: none\">&nbsp;&#x22A2;&nbsp;&nbsp;</a><a class=\"ProveItLink\" href=\"../../theorems/204076f4276d106430b6496917459e6b4d30cd7c0/expr.ipynb\"><img src=\"../../theorems/204076f4276d106430b6496917459e6b4d30cd7c0/expr.png\" style=\"display:inline;vertical-align:middle;\" /></a></span></td></tr>\n",
       "<tr><td>&nbsp;</td><td colspan=4 style-\"text-align:left\"><a class=\"ProveItLink\" href=\"../../../_theory_nbs_/proofs/not_less_eq_from_less/thm_proof.ipynb\">proveit.numbers.ordering.not_less_eq_from_less</a></td></tr><tr><td><a name=\"proveit.numbers.ordering._proof_max_bin_args_commute.3189b74cb1f14c2a077a225e631513399fc38c060_step4\">4</a></td><td>assumption</td><td></td><td><span style=\"font-size:20px;\"><a class=\"ProveItLink\" href=\"../../theorems/d1323f34847310a404e8089c2c268d3c2eb89dbf0/expr.ipynb\"><img src=\"../../theorems/d1323f34847310a404e8089c2c268d3c2eb89dbf0/expr.png\" style=\"display:inline;vertical-align:middle;\" /></a> <a class=\"ProveItLink\" href=\"../499029f99697c97102f99412efa7281ab55568fb0/proof.ipynb\" style=\"text-decoration: none\">&nbsp;&#x22A2;&nbsp;&nbsp;</a><a class=\"ProveItLink\" href=\"../../theorems/d1323f34847310a404e8089c2c268d3c2eb89dbf0/expr.ipynb\"><img src=\"../../theorems/d1323f34847310a404e8089c2c268d3c2eb89dbf0/expr.png\" style=\"display:inline;vertical-align:middle;\" /></a></span></td></tr>\n",
       "<tr><td><a name=\"proveit.numbers.ordering._proof_max_bin_args_commute.3189b74cb1f14c2a077a225e631513399fc38c060_step5\">5</a></td><td>assumption</td><td></td><td><span style=\"font-size:20px;\"><a class=\"ProveItLink\" href=\"../../theorems/5d76fdd975252a644e3e1cb067a357f9a9c8486a0/expr.ipynb\"><img src=\"../../theorems/5d76fdd975252a644e3e1cb067a357f9a9c8486a0/expr.png\" style=\"display:inline;vertical-align:middle;\" /></a> <a class=\"ProveItLink\" href=\"../cd7f372c01e30c9c5ac66da440b6de1a628d3ce80/proof.ipynb\" style=\"text-decoration: none\">&nbsp;&#x22A2;&nbsp;&nbsp;</a><a class=\"ProveItLink\" href=\"../../theorems/5d76fdd975252a644e3e1cb067a357f9a9c8486a0/expr.ipynb\"><img src=\"../../theorems/5d76fdd975252a644e3e1cb067a357f9a9c8486a0/expr.png\" style=\"display:inline;vertical-align:middle;\" /></a></span></td></tr>\n",
       "<tr><td><a name=\"proveit.numbers.ordering._proof_max_bin_args_commute.3189b74cb1f14c2a077a225e631513399fc38c060_step6\">6</a></td><td>assumption</td><td></td><td><span style=\"font-size:20px;\"><a class=\"ProveItLink\" href=\"../../theorems/44d10bba886cb9c03d8c1d01224b9827d41c27660/expr.ipynb\"><img src=\"../../theorems/44d10bba886cb9c03d8c1d01224b9827d41c27660/expr.png\" style=\"display:inline;vertical-align:middle;\" /></a> <a class=\"ProveItLink\" href=\"../2ea24ffcfa1f91fab9b22d2ae63dd99e07639b1f0/proof.ipynb\" style=\"text-decoration: none\">&nbsp;&#x22A2;&nbsp;&nbsp;</a><a class=\"ProveItLink\" href=\"../../theorems/44d10bba886cb9c03d8c1d01224b9827d41c27660/expr.ipynb\"><img src=\"../../theorems/44d10bba886cb9c03d8c1d01224b9827d41c27660/expr.png\" style=\"display:inline;vertical-align:middle;\" /></a></span></td></tr>\n",
       "</table>"
      ],
      "text/plain": [
       "<proveit._core_.proof._ShowProof at 0x7f3e60b866d8>"
      ]
     },
     "execution_count": 1,
     "metadata": {},
     "output_type": "execute_result"
    }
   ],
   "source": [
    "import proveit\n",
    "# Automation is not needed when only showing a stored proof:\n",
    "proveit.defaults.automation = False # This will speed things up.\n",
    "proveit.defaults.inline_pngs = False # Makes files smaller.\n",
    "%show_proof"
   ]
  },
  {
   "cell_type": "code",
   "execution_count": null,
   "metadata": {},
   "outputs": [],
   "source": []
  }
 ],
 "metadata": {
  "kernelspec": {
   "display_name": "Python 3",
   "language": "python",
   "name": "python3"
  }
 },
 "nbformat": 4,
 "nbformat_minor": 0
}