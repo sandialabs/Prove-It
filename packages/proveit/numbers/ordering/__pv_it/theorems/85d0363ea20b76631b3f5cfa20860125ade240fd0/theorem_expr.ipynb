{
 "cells": [
  {
   "cell_type": "markdown",
   "metadata": {},
   "source": [
    "Theorem <a class=\"ProveItLink\" href=\"../../../_theorems_.ipynb#less_eq_complement_is_greater\">less_eq_complement_is_greater</a> of type <a class=\"ProveItLink\" href=\"../../../../../../../doc/html/api/proveit.logic.Forall.html\">Forall</a>\n",
    "=======================\n",
    "# from the theory of <a class=\"ProveItLink\" href=\"../../../_theory_nbs_/theory.ipynb\">proveit.numbers.ordering</a>\n",
    "*** see <a class=\"ProveItLink\" href=\"dependencies.ipynb\">dependencies</a> ***"
   ]
  },
  {
   "cell_type": "code",
   "execution_count": 1,
   "metadata": {},
   "outputs": [],
   "source": [
    "import proveit\n",
    "# Automation is not needed when only building an expression:\n",
    "proveit.defaults.automation = False # This will speed things up.\n",
    "proveit.defaults.inline_pngs = False # Makes files smaller.\n",
    "%load_theorem_expr # Load the stored theorem expression as 'stored_expr'\n",
    "# import the special expression\n",
    "from proveit.numbers.ordering import less_eq_complement_is_greater"
   ]
  },
  {
   "cell_type": "code",
   "execution_count": 2,
   "metadata": {},
   "outputs": [
    {
     "name": "stdout",
     "output_type": "stream",
     "text": [
      "Passed sanity check: less_eq_complement_is_greater matches stored_expr\n"
     ]
    }
   ],
   "source": [
    "# check that the built expression is the same as the stored expression\n",
    "assert less_eq_complement_is_greater.expr == stored_expr\n",
    "assert less_eq_complement_is_greater.expr._style_id == stored_expr._style_id\n",
    "print(\"Passed sanity check: less_eq_complement_is_greater matches stored_expr\")"
   ]
  },
  {
   "cell_type": "code",
   "execution_count": 3,
   "metadata": {},
   "outputs": [
    {
     "name": "stdout",
     "output_type": "stream",
     "text": [
      "\\forall_{x, y \\in \\mathbb{R}}~\\left((\\lnot \\left(x \\leq y\\right)) = \\left(y < x\\right)\\right)\n"
     ]
    }
   ],
   "source": [
    "# Show the LaTeX representation of the expression for convenience if you need it.\n",
    "print(stored_expr.latex())"
   ]
  },
  {
   "cell_type": "code",
   "execution_count": 4,
   "metadata": {},
   "outputs": [
    {
     "data": {
      "text/html": [
       "<table>\n",
       "<tr><th>name</th><th>description</th><th>default</th><th>current value</th><th>related methods</th></tr><tr><td>with_wrapping</td><td>If 'True', wrap the Expression after the parameters</td><td>None</td><td>None/False</td><td>('with_wrapping',)</td></tr>\n",
       "<tr><td>condition_wrapping</td><td>Wrap 'before' or 'after' the condition (or None).</td><td>None</td><td>None/False</td><td>('with_wrap_after_condition', 'with_wrap_before_condition')</td></tr>\n",
       "<tr><td>wrap_params</td><td>If 'True', wraps every two parameters AND wraps the Expression after the parameters</td><td>None</td><td>None/False</td><td>('with_params',)</td></tr>\n",
       "<tr><td>justification</td><td>justify to the 'left', 'center', or 'right' in the array cells</td><td>center</td><td>center</td><td>('with_justification',)</td></tr>\n",
       "</table>\n"
      ],
      "text/plain": [
       "style name: with_wrapping\n",
       "description: If 'True', wrap the Expression after the parameters\n",
       "default: None\n",
       "current value: None/False\n",
       "related methods: ('with_wrapping',)\n",
       "style name: condition_wrapping\n",
       "description: Wrap 'before' or 'after' the condition (or None).\n",
       "default: None\n",
       "current value: None/False\n",
       "related methods: ('with_wrap_after_condition', 'with_wrap_before_condition')\n",
       "style name: wrap_params\n",
       "description: If 'True', wraps every two parameters AND wraps the Expression after the parameters\n",
       "default: None\n",
       "current value: None/False\n",
       "related methods: ('with_params',)\n",
       "style name: justification\n",
       "description: justify to the 'left', 'center', or 'right' in the array cells\n",
       "default: center\n",
       "current value: center\n",
       "related methods: ('with_justification',)"
      ]
     },
     "metadata": {},
     "output_type": "display_data"
    }
   ],
   "source": [
    "stored_expr.style_options()"
   ]
  },
  {
   "cell_type": "code",
   "execution_count": 5,
   "metadata": {},
   "outputs": [
    {
     "data": {
      "text/html": [
       "<table><tr><th>&nbsp;</th><th>core type</th><th>sub-expressions</th><th>expression</th></tr>\n",
       "<tr><td>0</td><td>Operation</td><td>operator:&nbsp;1<br>operand:&nbsp;3<br></td><td><a class=\"ProveItLink\" href=\"../461c2e32f7c74dcda8af75ab7fa5c93c95d254eb0/expr.ipynb\"><img src=\"../461c2e32f7c74dcda8af75ab7fa5c93c95d254eb0/expr.png\" style=\"display:inline;vertical-align:middle;\" /></a></td></tr>\n",
       "<tr><td>1</td><td>Literal</td><td></td><td><a class=\"ProveItLink\" href=\"../../../../../logic/booleans/quantification/universality/__pv_it/common/083d2baa0b8ecab1d230f9ec29a15aa1355809fb0/expr.ipynb\"><img src=\"../../../../../logic/booleans/quantification/universality/__pv_it/common/083d2baa0b8ecab1d230f9ec29a15aa1355809fb0/expr.png\" style=\"display:inline;vertical-align:middle;\" /></a></td></tr>\n",
       "<tr><td>2</td><td>ExprTuple</td><td>3</td><td><a class=\"ProveItLink\" href=\"../e5e8b548df528234249ee23dbf5ca0267afcd4ff0/expr.ipynb\"><img src=\"../e5e8b548df528234249ee23dbf5ca0267afcd4ff0/expr.png\" style=\"display:inline;vertical-align:middle;\" /></a></td></tr>\n",
       "<tr><td>3</td><td>Lambda</td><td>parameters:&nbsp;25<br>body:&nbsp;4<br></td><td><a class=\"ProveItLink\" href=\"../523a45f6ca874ecc8bb22b1d07b72690ac2409ef0/expr.ipynb\"><img src=\"../523a45f6ca874ecc8bb22b1d07b72690ac2409ef0/expr.png\" style=\"display:inline;vertical-align:middle;\" /></a></td></tr>\n",
       "<tr><td>4</td><td>Conditional</td><td>value:&nbsp;5<br>condition:&nbsp;6<br></td><td><a class=\"ProveItLink\" href=\"../e1fbf6aaf17bc6b73d9e08d8fb8312b6a6a1744a0/expr.ipynb\"><img src=\"../e1fbf6aaf17bc6b73d9e08d8fb8312b6a6a1744a0/expr.png\" style=\"display:inline;vertical-align:middle;\" /></a></td></tr>\n",
       "<tr><td>5</td><td>Operation</td><td>operator:&nbsp;7<br>operands:&nbsp;8<br></td><td><a class=\"ProveItLink\" href=\"../3677f45c0502e1f9259a32f47c95ede63f10da850/expr.ipynb\"><img src=\"../3677f45c0502e1f9259a32f47c95ede63f10da850/expr.png\" style=\"display:inline;vertical-align:middle;\" /></a></td></tr>\n",
       "<tr><td>6</td><td>Operation</td><td>operator:&nbsp;9<br>operands:&nbsp;10<br></td><td><a class=\"ProveItLink\" href=\"../ca3bfb2eaa16fa71f618eeddc749aeca0db34d860/expr.ipynb\"><img src=\"../ca3bfb2eaa16fa71f618eeddc749aeca0db34d860/expr.png\" style=\"display:inline;vertical-align:middle;\" /></a></td></tr>\n",
       "<tr><td>7</td><td>Literal</td><td></td><td><a class=\"ProveItLink\" href=\"../../../../../logic/equality/__pv_it/common/fb96dc12b2aa8801dda64d0132b396c63d1502bb0/expr.ipynb\"><img src=\"../../../../../logic/equality/__pv_it/common/fb96dc12b2aa8801dda64d0132b396c63d1502bb0/expr.png\" style=\"display:inline;vertical-align:middle;\" /></a></td></tr>\n",
       "<tr><td>8</td><td>ExprTuple</td><td>11, 12</td><td><a class=\"ProveItLink\" href=\"../b3205bb765cb6ceba28df7b897d5381bcf8b64130/expr.ipynb\"><img src=\"../b3205bb765cb6ceba28df7b897d5381bcf8b64130/expr.png\" style=\"display:inline;vertical-align:middle;\" /></a></td></tr>\n",
       "<tr><td>9</td><td>Literal</td><td></td><td><a class=\"ProveItLink\" href=\"../../../../../logic/booleans/conjunction/__pv_it/common/42118ff318bd65d98b1393f64ce7c2269feef76e0/expr.ipynb\"><img src=\"../../../../../logic/booleans/conjunction/__pv_it/common/42118ff318bd65d98b1393f64ce7c2269feef76e0/expr.png\" style=\"display:inline;vertical-align:middle;\" /></a></td></tr>\n",
       "<tr><td>10</td><td>ExprTuple</td><td>13, 14</td><td><a class=\"ProveItLink\" href=\"../d1ad07990e7eda932aeddb9254501f6273d630bd0/expr.ipynb\"><img src=\"../d1ad07990e7eda932aeddb9254501f6273d630bd0/expr.png\" style=\"display:inline;vertical-align:middle;\" /></a></td></tr>\n",
       "<tr><td>11</td><td>Operation</td><td>operator:&nbsp;15<br>operand:&nbsp;22<br></td><td><a class=\"ProveItLink\" href=\"../75424aacfa95a1a6794fcf925407e6285fedc4b20/expr.ipynb\"><img src=\"../75424aacfa95a1a6794fcf925407e6285fedc4b20/expr.png\" style=\"display:inline;vertical-align:middle;\" /></a></td></tr>\n",
       "<tr><td>12</td><td>Operation</td><td>operator:&nbsp;17<br>operands:&nbsp;18<br></td><td><a class=\"ProveItLink\" href=\"../3b81d247a213fe4f0c14383e50a51ba454966c2e0/expr.ipynb\"><img src=\"../3b81d247a213fe4f0c14383e50a51ba454966c2e0/expr.png\" style=\"display:inline;vertical-align:middle;\" /></a></td></tr>\n",
       "<tr><td>13</td><td>Operation</td><td>operator:&nbsp;20<br>operands:&nbsp;19<br></td><td><a class=\"ProveItLink\" href=\"../d1323f34847310a404e8089c2c268d3c2eb89dbf0/expr.ipynb\"><img src=\"../d1323f34847310a404e8089c2c268d3c2eb89dbf0/expr.png\" style=\"display:inline;vertical-align:middle;\" /></a></td></tr>\n",
       "<tr><td>14</td><td>Operation</td><td>operator:&nbsp;20<br>operands:&nbsp;21<br></td><td><a class=\"ProveItLink\" href=\"../5d76fdd975252a644e3e1cb067a357f9a9c8486a0/expr.ipynb\"><img src=\"../5d76fdd975252a644e3e1cb067a357f9a9c8486a0/expr.png\" style=\"display:inline;vertical-align:middle;\" /></a></td></tr>\n",
       "<tr><td>15</td><td>Literal</td><td></td><td><a class=\"ProveItLink\" href=\"../../../../../logic/booleans/negation/__pv_it/common/1a811a997e5d75fdb50cdaf74f302daccad39af40/expr.ipynb\"><img src=\"../../../../../logic/booleans/negation/__pv_it/common/1a811a997e5d75fdb50cdaf74f302daccad39af40/expr.png\" style=\"display:inline;vertical-align:middle;\" /></a></td></tr>\n",
       "<tr><td>16</td><td>ExprTuple</td><td>22</td><td><a class=\"ProveItLink\" href=\"../d3b00ccf48fa39980cff1f74ca80b9c1e31c837c0/expr.ipynb\"><img src=\"../d3b00ccf48fa39980cff1f74ca80b9c1e31c837c0/expr.png\" style=\"display:inline;vertical-align:middle;\" /></a></td></tr>\n",
       "<tr><td>17</td><td>Literal</td><td></td><td><a class=\"ProveItLink\" href=\"../../common/fa503ed52033522c609eef1cf3e1b45796489da50/expr.ipynb\"><img src=\"../../common/fa503ed52033522c609eef1cf3e1b45796489da50/expr.png\" style=\"display:inline;vertical-align:middle;\" /></a></td></tr>\n",
       "<tr><td>18</td><td>ExprTuple</td><td>27, 26</td><td><a class=\"ProveItLink\" href=\"../d6058e955f7e8ff10e99ba4a3833dc46470c2de60/expr.ipynb\"><img src=\"../d6058e955f7e8ff10e99ba4a3833dc46470c2de60/expr.png\" style=\"display:inline;vertical-align:middle;\" /></a></td></tr>\n",
       "<tr><td>19</td><td>ExprTuple</td><td>26, 23</td><td><a class=\"ProveItLink\" href=\"../d87b972e3e29265b9fca1a9cb6e1de56983159ab0/expr.ipynb\"><img src=\"../d87b972e3e29265b9fca1a9cb6e1de56983159ab0/expr.png\" style=\"display:inline;vertical-align:middle;\" /></a></td></tr>\n",
       "<tr><td>20</td><td>Literal</td><td></td><td><a class=\"ProveItLink\" href=\"../../../../../logic/sets/membership/__pv_it/common/477487d8796864d23d5810f83761435f25167f690/expr.ipynb\"><img src=\"../../../../../logic/sets/membership/__pv_it/common/477487d8796864d23d5810f83761435f25167f690/expr.png\" style=\"display:inline;vertical-align:middle;\" /></a></td></tr>\n",
       "<tr><td>21</td><td>ExprTuple</td><td>27, 23</td><td><a class=\"ProveItLink\" href=\"../bee9e297dbbe7973b768621f1e2595a566af7f1b0/expr.ipynb\"><img src=\"../bee9e297dbbe7973b768621f1e2595a566af7f1b0/expr.png\" style=\"display:inline;vertical-align:middle;\" /></a></td></tr>\n",
       "<tr><td>22</td><td>Operation</td><td>operator:&nbsp;24<br>operands:&nbsp;25<br></td><td><a class=\"ProveItLink\" href=\"../aba6340e84a2dc194f2dc2e8029d9090c42823300/expr.ipynb\"><img src=\"../aba6340e84a2dc194f2dc2e8029d9090c42823300/expr.png\" style=\"display:inline;vertical-align:middle;\" /></a></td></tr>\n",
       "<tr><td>23</td><td>Literal</td><td></td><td><a class=\"ProveItLink\" href=\"../../../../number_sets/real_numbers/__pv_it/common/93cac87a1a47e613f7a83b23ef7891599a1a4cca0/expr.ipynb\"><img src=\"../../../../number_sets/real_numbers/__pv_it/common/93cac87a1a47e613f7a83b23ef7891599a1a4cca0/expr.png\" style=\"display:inline;vertical-align:middle;\" /></a></td></tr>\n",
       "<tr><td>24</td><td>Literal</td><td></td><td><a class=\"ProveItLink\" href=\"../../common/68379698d72b4689bbda4b5c5cca29ee599d70280/expr.ipynb\"><img src=\"../../common/68379698d72b4689bbda4b5c5cca29ee599d70280/expr.png\" style=\"display:inline;vertical-align:middle;\" /></a></td></tr>\n",
       "<tr><td>25</td><td>ExprTuple</td><td>26, 27</td><td><a class=\"ProveItLink\" href=\"../bbaa48af4605eceb7fbc4af345a1eb6de480e1c50/expr.ipynb\"><img src=\"../bbaa48af4605eceb7fbc4af345a1eb6de480e1c50/expr.png\" style=\"display:inline;vertical-align:middle;\" /></a></td></tr>\n",
       "<tr><td>26</td><td>Variable</td><td></td><td><a class=\"ProveItLink\" href=\"../../../../../__pv_it/common/a0d9d672aa5e272d907247690c152cc2c6daafb70/expr.ipynb\"><img src=\"../../../../../__pv_it/common/a0d9d672aa5e272d907247690c152cc2c6daafb70/expr.png\" style=\"display:inline;vertical-align:middle;\" /></a></td></tr>\n",
       "<tr><td>27</td><td>Variable</td><td></td><td><a class=\"ProveItLink\" href=\"../../../../../__pv_it/common/ff7dba4ef0bbe791ab573bf2d9c220a304399ac80/expr.ipynb\"><img src=\"../../../../../__pv_it/common/ff7dba4ef0bbe791ab573bf2d9c220a304399ac80/expr.png\" style=\"display:inline;vertical-align:middle;\" /></a></td></tr>\n",
       "</table>\n"
      ],
      "text/plain": [
       "0. forall_{x, y in Real} ([not](x <= y) = (y < x))\n",
       "   core type: Operation\n",
       "   operator: 1\n",
       "   operand: 3\n",
       "1. forall\n",
       "   core type: Literal\n",
       "   sub-expressions: \n",
       "2. ((x, y) -> {[not](x <= y) = (y < x) if x in Real ,  y in Real.)\n",
       "   core type: ExprTuple\n",
       "   sub-expressions: 3\n",
       "3. (x, y) -> {[not](x <= y) = (y < x) if x in Real ,  y in Real.\n",
       "   core type: Lambda\n",
       "   parameters: 25\\n   body: 4\n",
       "4. {[not](x <= y) = (y < x) if x in Real ,  y in Real.\n",
       "   core type: Conditional\n",
       "   value: 5\n",
       "   condition: 6\n",
       "5. [not](x <= y) = (y < x)\n",
       "   core type: Operation\n",
       "   operator: 7\n",
       "   operands: 8\n",
       "6. (x in Real) and (y in Real)\n",
       "   core type: Operation\n",
       "   operator: 9\n",
       "   operands: 10\n",
       "7. =\n",
       "   core type: Literal\n",
       "   sub-expressions: \n",
       "8. ([not](x <= y), y < x)\n",
       "   core type: ExprTuple\n",
       "   sub-expressions: 11, 12\n",
       "9. and\n",
       "   core type: Literal\n",
       "   sub-expressions: \n",
       "10. (x in Real, y in Real)\n",
       "    core type: ExprTuple\n",
       "    sub-expressions: 13, 14\n",
       "11. [not](x <= y)\n",
       "    core type: Operation\n",
       "    operator: 15\n",
       "    operand: 22\n",
       "12. y < x\n",
       "    core type: Operation\n",
       "    operator: 17\n",
       "    operands: 18\n",
       "13. x in Real\n",
       "    core type: Operation\n",
       "    operator: 20\n",
       "    operands: 19\n",
       "14. y in Real\n",
       "    core type: Operation\n",
       "    operator: 20\n",
       "    operands: 21\n",
       "15. not\n",
       "    core type: Literal\n",
       "    sub-expressions: \n",
       "16. (x <= y)\n",
       "    core type: ExprTuple\n",
       "    sub-expressions: 22\n",
       "17. <\n",
       "    core type: Literal\n",
       "    sub-expressions: \n",
       "18. (y, x)\n",
       "    core type: ExprTuple\n",
       "    sub-expressions: 27, 26\n",
       "19. (x, Real)\n",
       "    core type: ExprTuple\n",
       "    sub-expressions: 26, 23\n",
       "20. in\n",
       "    core type: Literal\n",
       "    sub-expressions: \n",
       "21. (y, Real)\n",
       "    core type: ExprTuple\n",
       "    sub-expressions: 27, 23\n",
       "22. x <= y\n",
       "    core type: Operation\n",
       "    operator: 24\n",
       "    operands: 25\n",
       "23. Real\n",
       "    core type: Literal\n",
       "    sub-expressions: \n",
       "24. <=\n",
       "    core type: Literal\n",
       "    sub-expressions: \n",
       "25. (x, y)\n",
       "    core type: ExprTuple\n",
       "    sub-expressions: 26, 27\n",
       "26. x\n",
       "    core type: Variable\n",
       "    sub-expressions: \n",
       "27. y\n",
       "    core type: Variable\n",
       "    sub-expressions: "
      ]
     },
     "metadata": {},
     "output_type": "display_data"
    }
   ],
   "source": [
    "# display the expression information\n",
    "stored_expr.expr_info()"
   ]
  },
  {
   "cell_type": "code",
   "execution_count": null,
   "metadata": {},
   "outputs": [],
   "source": []
  }
 ],
 "metadata": {
  "kernelspec": {
   "display_name": "Python 3",
   "language": "python",
   "name": "python3"
  }
 },
 "nbformat": 4,
 "nbformat_minor": 0
}