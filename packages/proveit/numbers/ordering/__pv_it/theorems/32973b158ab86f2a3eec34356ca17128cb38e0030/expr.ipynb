{
 "cells": [
  {
   "cell_type": "markdown",
   "metadata": {},
   "source": [
    "Expression of type <a class=\"ProveItLink\" href=\"../../../../../../../doc/html/api/proveit.Conditional.html\">Conditional</a>\n",
    "=======================\n",
    "# from the theory of <a class=\"ProveItLink\" href=\"../../../_theory_nbs_/theory.ipynb\">proveit.numbers.ordering</a>"
   ]
  },
  {
   "cell_type": "code",
   "execution_count": 1,
   "metadata": {},
   "outputs": [],
   "source": [
    "import proveit\n",
    "# Automation is not needed when building an expression:\n",
    "proveit.defaults.automation = False # This will speed things up.\n",
    "proveit.defaults.inline_pngs = False # Makes files smaller.\n",
    "%load_expr # Load the stored expression as 'stored_expr'\n",
    "# import Expression classes needed to build the expression\n",
    "from proveit import Conditional, S, n\n",
    "from proveit.core_expr_types import a_1_to_n\n",
    "from proveit.logic import Forall, InSet, SubsetEq\n",
    "from proveit.numbers import Min, Natural, Real"
   ]
  },
  {
   "cell_type": "code",
   "execution_count": 2,
   "metadata": {},
   "outputs": [
    {
     "data": {
      "text/html": [
       "<strong id=\"expr\">expr:</strong> <a class=\"ProveItLink\" href=\"expr.ipynb\"><img src=\"expr.png\" style=\"display:inline;vertical-align:middle;\" /></a><br>"
      ],
      "text/plain": [
       "<IPython.core.display.HTML object>"
      ]
     },
     "metadata": {},
     "output_type": "display_data"
    }
   ],
   "source": [
    "# build up the expression from sub-expressions\n",
    "expr = Conditional(Forall(instance_param_or_params = [n], instance_expr = Forall(instance_param_or_params = [a_1_to_n], instance_expr = InSet(Min(a_1_to_n), S), domain = S), domain = Natural), SubsetEq(S, Real))"
   ]
  },
  {
   "cell_type": "code",
   "execution_count": 3,
   "metadata": {},
   "outputs": [
    {
     "name": "stdout",
     "output_type": "stream",
     "text": [
      "Passed sanity check: expr matches stored_expr\n"
     ]
    }
   ],
   "source": [
    "# check that the built expression is the same as the stored expression\n",
    "assert expr == stored_expr\n",
    "assert expr._style_id == stored_expr._style_id\n",
    "print(\"Passed sanity check: expr matches stored_expr\")"
   ]
  },
  {
   "cell_type": "code",
   "execution_count": 4,
   "metadata": {},
   "outputs": [
    {
     "name": "stdout",
     "output_type": "stream",
     "text": [
      "\\left\\{\\forall_{n \\in \\mathbb{N}}~\\left[\\forall_{a_{1}, a_{2}, \\ldots, a_{n} \\in S}~\\left({\\rm Min}\\left(a_{1}, a_{2}, \\ldots, a_{n}\\right) \\in S\\right)\\right] \\textrm{ if } S \\subseteq \\mathbb{R}\\right..\n"
     ]
    }
   ],
   "source": [
    "# Show the LaTeX representation of the expression for convenience if you need it.\n",
    "print(stored_expr.latex())"
   ]
  },
  {
   "cell_type": "code",
   "execution_count": 5,
   "metadata": {},
   "outputs": [
    {
     "data": {
      "text/html": [
       "<table>\n",
       "<tr><th>name</th><th>description</th><th>default</th><th>current value</th><th>related methods</th></tr><tr><td>condition_delimiter</td><td>'comma' or 'and'</td><td>comma</td><td>comma</td><td>('with_comma_delimiter', 'with_conjunction_delimiter')</td></tr>\n",
       "</table>\n"
      ],
      "text/plain": [
       "style name: condition_delimiter\n",
       "description: 'comma' or 'and'\n",
       "default: comma\n",
       "current value: comma\n",
       "related methods: ('with_comma_delimiter', 'with_conjunction_delimiter')"
      ]
     },
     "metadata": {},
     "output_type": "display_data"
    }
   ],
   "source": [
    "stored_expr.style_options()"
   ]
  },
  {
   "cell_type": "code",
   "execution_count": 6,
   "metadata": {},
   "outputs": [
    {
     "data": {
      "text/html": [
       "<table><tr><th>&nbsp;</th><th>core type</th><th>sub-expressions</th><th>expression</th></tr>\n",
       "<tr><td>0</td><td>Conditional</td><td>value:&nbsp;1<br>condition:&nbsp;2<br></td><td><a class=\"ProveItLink\" href=\"expr.ipynb\"><img src=\"expr.png\" style=\"display:inline;vertical-align:middle;\" /></a></td></tr>\n",
       "<tr><td>1</td><td>Operation</td><td>operator:&nbsp;12<br>operand:&nbsp;6<br></td><td><a class=\"ProveItLink\" href=\"../a30b52c8709360ce2856eadbaf230426318957150/expr.ipynb\"><img src=\"../a30b52c8709360ce2856eadbaf230426318957150/expr.png\" style=\"display:inline;vertical-align:middle;\" /></a></td></tr>\n",
       "<tr><td>2</td><td>Operation</td><td>operator:&nbsp;4<br>operands:&nbsp;5<br></td><td><a class=\"ProveItLink\" href=\"../5c6fb0da7d3c1fb5a7cecea11f536b20809beb890/expr.ipynb\"><img src=\"../5c6fb0da7d3c1fb5a7cecea11f536b20809beb890/expr.png\" style=\"display:inline;vertical-align:middle;\" /></a></td></tr>\n",
       "<tr><td>3</td><td>ExprTuple</td><td>6</td><td><a class=\"ProveItLink\" href=\"../e2ba91f9151306f6d1bfa97a333f1c9974a9b2700/expr.ipynb\"><img src=\"../e2ba91f9151306f6d1bfa97a333f1c9974a9b2700/expr.png\" style=\"display:inline;vertical-align:middle;\" /></a></td></tr>\n",
       "<tr><td>4</td><td>Literal</td><td></td><td><a class=\"ProveItLink\" href=\"../../../../../logic/sets/inclusion/__pv_it/common/af21bfd7d93759eac7fe399a50aaac31ae45d8cf0/expr.ipynb\"><img src=\"../../../../../logic/sets/inclusion/__pv_it/common/af21bfd7d93759eac7fe399a50aaac31ae45d8cf0/expr.png\" style=\"display:inline;vertical-align:middle;\" /></a></td></tr>\n",
       "<tr><td>5</td><td>ExprTuple</td><td>36, 7</td><td><a class=\"ProveItLink\" href=\"../471f7df5787564ab8b5e045d322aca8d279301040/expr.ipynb\"><img src=\"../471f7df5787564ab8b5e045d322aca8d279301040/expr.png\" style=\"display:inline;vertical-align:middle;\" /></a></td></tr>\n",
       "<tr><td>6</td><td>Lambda</td><td>parameter:&nbsp;32<br>body:&nbsp;9<br></td><td><a class=\"ProveItLink\" href=\"../21216a309ea33da70ac3a4bef5df666b1e016d4a0/expr.ipynb\"><img src=\"../21216a309ea33da70ac3a4bef5df666b1e016d4a0/expr.png\" style=\"display:inline;vertical-align:middle;\" /></a></td></tr>\n",
       "<tr><td>7</td><td>Literal</td><td></td><td><a class=\"ProveItLink\" href=\"../../../../number_sets/real_numbers/__pv_it/common/93cac87a1a47e613f7a83b23ef7891599a1a4cca0/expr.ipynb\"><img src=\"../../../../number_sets/real_numbers/__pv_it/common/93cac87a1a47e613f7a83b23ef7891599a1a4cca0/expr.png\" style=\"display:inline;vertical-align:middle;\" /></a></td></tr>\n",
       "<tr><td>8</td><td>ExprTuple</td><td>32</td><td><a class=\"ProveItLink\" href=\"../ca565dff2751ea9a3b48fe855133b9e0c2eca83f0/expr.ipynb\"><img src=\"../ca565dff2751ea9a3b48fe855133b9e0c2eca83f0/expr.png\" style=\"display:inline;vertical-align:middle;\" /></a></td></tr>\n",
       "<tr><td>9</td><td>Conditional</td><td>value:&nbsp;10<br>condition:&nbsp;11<br></td><td><a class=\"ProveItLink\" href=\"../3fbc4fedf323bb71a071deb13cac2cc7e7b046680/expr.ipynb\"><img src=\"../3fbc4fedf323bb71a071deb13cac2cc7e7b046680/expr.png\" style=\"display:inline;vertical-align:middle;\" /></a></td></tr>\n",
       "<tr><td>10</td><td>Operation</td><td>operator:&nbsp;12<br>operand:&nbsp;15<br></td><td><a class=\"ProveItLink\" href=\"../aa1ba2673d6b86ce23649e4b665ef018118d71480/expr.ipynb\"><img src=\"../aa1ba2673d6b86ce23649e4b665ef018118d71480/expr.png\" style=\"display:inline;vertical-align:middle;\" /></a></td></tr>\n",
       "<tr><td>11</td><td>Operation</td><td>operator:&nbsp;33<br>operands:&nbsp;14<br></td><td><a class=\"ProveItLink\" href=\"../a4c62904f3a87ce48a16b43526806be1316ce7cc0/expr.ipynb\"><img src=\"../a4c62904f3a87ce48a16b43526806be1316ce7cc0/expr.png\" style=\"display:inline;vertical-align:middle;\" /></a></td></tr>\n",
       "<tr><td>12</td><td>Literal</td><td></td><td><a class=\"ProveItLink\" href=\"../../../../../logic/booleans/quantification/universality/__pv_it/common/083d2baa0b8ecab1d230f9ec29a15aa1355809fb0/expr.ipynb\"><img src=\"../../../../../logic/booleans/quantification/universality/__pv_it/common/083d2baa0b8ecab1d230f9ec29a15aa1355809fb0/expr.png\" style=\"display:inline;vertical-align:middle;\" /></a></td></tr>\n",
       "<tr><td>13</td><td>ExprTuple</td><td>15</td><td><a class=\"ProveItLink\" href=\"../8215be1f2600a7898f4a0098bfcf2c9e007587de0/expr.ipynb\"><img src=\"../8215be1f2600a7898f4a0098bfcf2c9e007587de0/expr.png\" style=\"display:inline;vertical-align:middle;\" /></a></td></tr>\n",
       "<tr><td>14</td><td>ExprTuple</td><td>32, 16</td><td><a class=\"ProveItLink\" href=\"../ecc3c58a9897ba541ec19be82e54ee986957c4200/expr.ipynb\"><img src=\"../ecc3c58a9897ba541ec19be82e54ee986957c4200/expr.png\" style=\"display:inline;vertical-align:middle;\" /></a></td></tr>\n",
       "<tr><td>15</td><td>Lambda</td><td>parameters:&nbsp;26<br>body:&nbsp;17<br></td><td><a class=\"ProveItLink\" href=\"../72728616423c635da40e7df4daad373ae671d1cf0/expr.ipynb\"><img src=\"../72728616423c635da40e7df4daad373ae671d1cf0/expr.png\" style=\"display:inline;vertical-align:middle;\" /></a></td></tr>\n",
       "<tr><td>16</td><td>Literal</td><td></td><td><a class=\"ProveItLink\" href=\"../../../../number_sets/natural_numbers/__pv_it/common/8b7c321957f52ed3b05b36af612eeae4fa4783bc0/expr.ipynb\"><img src=\"../../../../number_sets/natural_numbers/__pv_it/common/8b7c321957f52ed3b05b36af612eeae4fa4783bc0/expr.png\" style=\"display:inline;vertical-align:middle;\" /></a></td></tr>\n",
       "<tr><td>17</td><td>Conditional</td><td>value:&nbsp;18<br>condition:&nbsp;19<br></td><td><a class=\"ProveItLink\" href=\"../4cffbb00d20b38971b6e4e784df82fcccabf86260/expr.ipynb\"><img src=\"../4cffbb00d20b38971b6e4e784df82fcccabf86260/expr.png\" style=\"display:inline;vertical-align:middle;\" /></a></td></tr>\n",
       "<tr><td>18</td><td>Operation</td><td>operator:&nbsp;33<br>operands:&nbsp;20<br></td><td><a class=\"ProveItLink\" href=\"../42c79e459c26460959d2ce81af9432c2495b57610/expr.ipynb\"><img src=\"../42c79e459c26460959d2ce81af9432c2495b57610/expr.png\" style=\"display:inline;vertical-align:middle;\" /></a></td></tr>\n",
       "<tr><td>19</td><td>Operation</td><td>operator:&nbsp;21<br>operands:&nbsp;22<br></td><td><a class=\"ProveItLink\" href=\"../4b300e05eef65400ee75253202cf83b75b69a8160/expr.ipynb\"><img src=\"../4b300e05eef65400ee75253202cf83b75b69a8160/expr.png\" style=\"display:inline;vertical-align:middle;\" /></a></td></tr>\n",
       "<tr><td>20</td><td>ExprTuple</td><td>23, 36</td><td><a class=\"ProveItLink\" href=\"../75b96604cfd50f31911813625256c57cd7dbdb430/expr.ipynb\"><img src=\"../75b96604cfd50f31911813625256c57cd7dbdb430/expr.png\" style=\"display:inline;vertical-align:middle;\" /></a></td></tr>\n",
       "<tr><td>21</td><td>Literal</td><td></td><td><a class=\"ProveItLink\" href=\"../../../../../logic/booleans/conjunction/__pv_it/common/42118ff318bd65d98b1393f64ce7c2269feef76e0/expr.ipynb\"><img src=\"../../../../../logic/booleans/conjunction/__pv_it/common/42118ff318bd65d98b1393f64ce7c2269feef76e0/expr.png\" style=\"display:inline;vertical-align:middle;\" /></a></td></tr>\n",
       "<tr><td>22</td><td>ExprTuple</td><td>24</td><td><a class=\"ProveItLink\" href=\"../1e5d0cffe1f924963fb53ece79390491588188490/expr.ipynb\"><img src=\"../1e5d0cffe1f924963fb53ece79390491588188490/expr.png\" style=\"display:inline;vertical-align:middle;\" /></a></td></tr>\n",
       "<tr><td>23</td><td>Operation</td><td>operator:&nbsp;25<br>operands:&nbsp;26<br></td><td><a class=\"ProveItLink\" href=\"../6e2b9cb7e3e4c51db55c2f5a5163610ae1d5f09b0/expr.ipynb\"><img src=\"../6e2b9cb7e3e4c51db55c2f5a5163610ae1d5f09b0/expr.png\" style=\"display:inline;vertical-align:middle;\" /></a></td></tr>\n",
       "<tr><td>24</td><td>ExprRange</td><td>lambda_map:&nbsp;27<br>start_index:&nbsp;31<br>end_index:&nbsp;32<br></td><td><a class=\"ProveItLink\" href=\"../d666561dd800498b298f65a15c9e4dfff9b536950/expr.ipynb\"><img src=\"../d666561dd800498b298f65a15c9e4dfff9b536950/expr.png\" style=\"display:inline;vertical-align:middle;\" /></a></td></tr>\n",
       "<tr><td>25</td><td>Literal</td><td></td><td><a class=\"ProveItLink\" href=\"../../common/02aff561bee7a3f97a38cab9c19dbc1e3070b9670/expr.ipynb\"><img src=\"../../common/02aff561bee7a3f97a38cab9c19dbc1e3070b9670/expr.png\" style=\"display:inline;vertical-align:middle;\" /></a></td></tr>\n",
       "<tr><td>26</td><td>ExprTuple</td><td>28</td><td><a class=\"ProveItLink\" href=\"../7b420e2a84f53537bd285f3baa95d83c0ea120860/expr.ipynb\"><img src=\"../7b420e2a84f53537bd285f3baa95d83c0ea120860/expr.png\" style=\"display:inline;vertical-align:middle;\" /></a></td></tr>\n",
       "<tr><td>27</td><td>Lambda</td><td>parameter:&nbsp;39<br>body:&nbsp;29<br></td><td><a class=\"ProveItLink\" href=\"../8960a4c34053dc8b84cdb449e6a10bd31c7bd71e0/expr.ipynb\"><img src=\"../8960a4c34053dc8b84cdb449e6a10bd31c7bd71e0/expr.png\" style=\"display:inline;vertical-align:middle;\" /></a></td></tr>\n",
       "<tr><td>28</td><td>ExprRange</td><td>lambda_map:&nbsp;30<br>start_index:&nbsp;31<br>end_index:&nbsp;32<br></td><td><a class=\"ProveItLink\" href=\"../../../../../core_expr_types/__pv_it/common/7ee2dd28754734e63298daa7955625a3d904698e0/expr.ipynb\"><img src=\"../../../../../core_expr_types/__pv_it/common/7ee2dd28754734e63298daa7955625a3d904698e0/expr.png\" style=\"display:inline;vertical-align:middle;\" /></a></td></tr>\n",
       "<tr><td>29</td><td>Operation</td><td>operator:&nbsp;33<br>operands:&nbsp;34<br></td><td><a class=\"ProveItLink\" href=\"../5b71b7fbffb0157ed09259d6280b1f494c0b27080/expr.ipynb\"><img src=\"../5b71b7fbffb0157ed09259d6280b1f494c0b27080/expr.png\" style=\"display:inline;vertical-align:middle;\" /></a></td></tr>\n",
       "<tr><td>30</td><td>Lambda</td><td>parameter:&nbsp;39<br>body:&nbsp;35<br></td><td><a class=\"ProveItLink\" href=\"../../../../../core_expr_types/__pv_it/common/1527ad383e12f9c6ed6b371c9a7dd1892d80da1b0/expr.ipynb\"><img src=\"../../../../../core_expr_types/__pv_it/common/1527ad383e12f9c6ed6b371c9a7dd1892d80da1b0/expr.png\" style=\"display:inline;vertical-align:middle;\" /></a></td></tr>\n",
       "<tr><td>31</td><td>Literal</td><td></td><td><a class=\"ProveItLink\" href=\"../../../../numerals/__pv_it/common/682157d4892d216d9e5626ed533aff9b56b9506e0/expr.ipynb\"><img src=\"../../../../numerals/__pv_it/common/682157d4892d216d9e5626ed533aff9b56b9506e0/expr.png\" style=\"display:inline;vertical-align:middle;\" /></a></td></tr>\n",
       "<tr><td>32</td><td>Variable</td><td></td><td><a class=\"ProveItLink\" href=\"../../../../../__pv_it/common/8968bb04eb3f7dfa02353397ce929b025bbd79c20/expr.ipynb\"><img src=\"../../../../../__pv_it/common/8968bb04eb3f7dfa02353397ce929b025bbd79c20/expr.png\" style=\"display:inline;vertical-align:middle;\" /></a></td></tr>\n",
       "<tr><td>33</td><td>Literal</td><td></td><td><a class=\"ProveItLink\" href=\"../../../../../logic/sets/membership/__pv_it/common/477487d8796864d23d5810f83761435f25167f690/expr.ipynb\"><img src=\"../../../../../logic/sets/membership/__pv_it/common/477487d8796864d23d5810f83761435f25167f690/expr.png\" style=\"display:inline;vertical-align:middle;\" /></a></td></tr>\n",
       "<tr><td>34</td><td>ExprTuple</td><td>35, 36</td><td><a class=\"ProveItLink\" href=\"../008eae1864d0f8653b14be7c007caae31cac1f990/expr.ipynb\"><img src=\"../008eae1864d0f8653b14be7c007caae31cac1f990/expr.png\" style=\"display:inline;vertical-align:middle;\" /></a></td></tr>\n",
       "<tr><td>35</td><td>IndexedVar</td><td>variable:&nbsp;37<br>index:&nbsp;39<br></td><td><a class=\"ProveItLink\" href=\"../../../../../core_expr_types/__pv_it/common/3a62c13e156d62d52fe585fa37cc2172fcf685260/expr.ipynb\"><img src=\"../../../../../core_expr_types/__pv_it/common/3a62c13e156d62d52fe585fa37cc2172fcf685260/expr.png\" style=\"display:inline;vertical-align:middle;\" /></a></td></tr>\n",
       "<tr><td>36</td><td>Variable</td><td></td><td><a class=\"ProveItLink\" href=\"../../../../../__pv_it/common/38f47c5670ea8c5b56253448e95d8afb56bc09b40/expr.ipynb\"><img src=\"../../../../../__pv_it/common/38f47c5670ea8c5b56253448e95d8afb56bc09b40/expr.png\" style=\"display:inline;vertical-align:middle;\" /></a></td></tr>\n",
       "<tr><td>37</td><td>Variable</td><td></td><td><a class=\"ProveItLink\" href=\"../../../../../__pv_it/common/c06c606ec12678c58933ac85412ecadc2ae28be60/expr.ipynb\"><img src=\"../../../../../__pv_it/common/c06c606ec12678c58933ac85412ecadc2ae28be60/expr.png\" style=\"display:inline;vertical-align:middle;\" /></a></td></tr>\n",
       "<tr><td>38</td><td>ExprTuple</td><td>39</td><td><a class=\"ProveItLink\" href=\"../../../../../core_expr_types/__pv_it/common/4b0dd6be36d76552eda6a95d5b4a27f5a5b62f900/expr.ipynb\"><img src=\"../../../../../core_expr_types/__pv_it/common/4b0dd6be36d76552eda6a95d5b4a27f5a5b62f900/expr.png\" style=\"display:inline;vertical-align:middle;\" /></a></td></tr>\n",
       "<tr><td>39</td><td>Variable</td><td></td><td><a class=\"ProveItLink\" href=\"../../../../../core_expr_types/__pv_it/common/006c465e50948aa2b52285e2de47974f741255cc0/expr.ipynb\"><img src=\"../../../../../core_expr_types/__pv_it/common/006c465e50948aa2b52285e2de47974f741255cc0/expr.png\" style=\"display:inline;vertical-align:middle;\" /></a></td></tr>\n",
       "</table>\n"
      ],
      "text/plain": [
       "0. {forall_{n in Natural} [forall_{a_{1}, a_{2}, ..., a_{n} in S} (Min(a_{1}, a_{2}, ..., a_{n}) in S)] if S subset_eq Real.\n",
       "   core type: Conditional\n",
       "   value: 1\n",
       "   condition: 2\n",
       "1. forall_{n in Natural} [forall_{a_{1}, a_{2}, ..., a_{n} in S} (Min(a_{1}, a_{2}, ..., a_{n}) in S)]\n",
       "   core type: Operation\n",
       "   operator: 12\n",
       "   operand: 6\n",
       "2. S subset_eq Real\n",
       "   core type: Operation\n",
       "   operator: 4\n",
       "   operands: 5\n",
       "3. (n -> {forall_{a_{1}, a_{2}, ..., a_{n} in S} (Min(a_{1}, a_{2}, ..., a_{n}) in S) if n in Natural.)\n",
       "   core type: ExprTuple\n",
       "   sub-expressions: 6\n",
       "4. subset_eq\n",
       "   core type: Literal\n",
       "   sub-expressions: \n",
       "5. (S, Real)\n",
       "   core type: ExprTuple\n",
       "   sub-expressions: 36, 7\n",
       "6. n -> {forall_{a_{1}, a_{2}, ..., a_{n} in S} (Min(a_{1}, a_{2}, ..., a_{n}) in S) if n in Natural.\n",
       "   core type: Lambda\n",
       "   parameter: 32\n",
       "   body: 9\n",
       "7. Real\n",
       "   core type: Literal\n",
       "   sub-expressions: \n",
       "8. (n)\n",
       "   core type: ExprTuple\n",
       "   sub-expressions: 32\n",
       "9. {forall_{a_{1}, a_{2}, ..., a_{n} in S} (Min(a_{1}, a_{2}, ..., a_{n}) in S) if n in Natural.\n",
       "   core type: Conditional\n",
       "   value: 10\n",
       "   condition: 11\n",
       "10. forall_{a_{1}, a_{2}, ..., a_{n} in S} (Min(a_{1}, a_{2}, ..., a_{n}) in S)\n",
       "    core type: Operation\n",
       "    operator: 12\n",
       "    operand: 15\n",
       "11. n in Natural\n",
       "    core type: Operation\n",
       "    operator: 33\n",
       "    operands: 14\n",
       "12. forall\n",
       "    core type: Literal\n",
       "    sub-expressions: \n",
       "13. ((a_{1}, a_{2}, ..., a_{n}) -> {Min(a_{1}, a_{2}, ..., a_{n}) in S if (a_{1} in S) and  (a_{2} in S) and  ... and  (a_{n} in S).)\n",
       "    core type: ExprTuple\n",
       "    sub-expressions: 15\n",
       "14. (n, Natural)\n",
       "    core type: ExprTuple\n",
       "    sub-expressions: 32, 16\n",
       "15. (a_{1}, a_{2}, ..., a_{n}) -> {Min(a_{1}, a_{2}, ..., a_{n}) in S if (a_{1} in S) and  (a_{2} in S) and  ... and  (a_{n} in S).\n",
       "    core type: Lambda\n",
       "    parameters: 26\\n    body: 17\n",
       "16. Natural\n",
       "    core type: Literal\n",
       "    sub-expressions: \n",
       "17. {Min(a_{1}, a_{2}, ..., a_{n}) in S if (a_{1} in S) and  (a_{2} in S) and  ... and  (a_{n} in S).\n",
       "    core type: Conditional\n",
       "    value: 18\n",
       "    condition: 19\n",
       "18. Min(a_{1}, a_{2}, ..., a_{n}) in S\n",
       "    core type: Operation\n",
       "    operator: 33\n",
       "    operands: 20\n",
       "19. (a_{1} in S) and  (a_{2} in S) and  ... and  (a_{n} in S)\n",
       "    core type: Operation\n",
       "    operator: 21\n",
       "    operands: 22\n",
       "20. (Min(a_{1}, a_{2}, ..., a_{n}), S)\n",
       "    core type: ExprTuple\n",
       "    sub-expressions: 23, 36\n",
       "21. and\n",
       "    core type: Literal\n",
       "    sub-expressions: \n",
       "22. ((a_{1} in S), (a_{2} in S), ..., (a_{n} in S))\n",
       "    core type: ExprTuple\n",
       "    sub-expressions: 24\n",
       "23. Min(a_{1}, a_{2}, ..., a_{n})\n",
       "    core type: Operation\n",
       "    operator: 25\n",
       "    operands: 26\n",
       "24. (a_{1} in S), (a_{2} in S), ..., (a_{n} in S)\n",
       "    core type: ExprRange\n",
       "    lambda_map: 27\n",
       "    start_index: 31\n",
       "    end_index: 32\n",
       "25. Min\n",
       "    core type: Literal\n",
       "    sub-expressions: \n",
       "26. (a_{1}, a_{2}, ..., a_{n})\n",
       "    core type: ExprTuple\n",
       "    sub-expressions: 28\n",
       "27. _a -> (a_{_a} in S)\n",
       "    core type: Lambda\n",
       "    parameter: 39\n",
       "    body: 29\n",
       "28. a_{1}, a_{2}, ..., a_{n}\n",
       "    core type: ExprRange\n",
       "    lambda_map: 30\n",
       "    start_index: 31\n",
       "    end_index: 32\n",
       "29. a_{_a} in S\n",
       "    core type: Operation\n",
       "    operator: 33\n",
       "    operands: 34\n",
       "30. _a -> a_{_a}\n",
       "    core type: Lambda\n",
       "    parameter: 39\n",
       "    body: 35\n",
       "31. 1\n",
       "    core type: Literal\n",
       "    sub-expressions: \n",
       "32. n\n",
       "    core type: Variable\n",
       "    sub-expressions: \n",
       "33. in\n",
       "    core type: Literal\n",
       "    sub-expressions: \n",
       "34. (a_{_a}, S)\n",
       "    core type: ExprTuple\n",
       "    sub-expressions: 35, 36\n",
       "35. a_{_a}\n",
       "    core type: IndexedVar\n",
       "variable: 37\n",
       "index: 39\n",
       "36. S\n",
       "    core type: Variable\n",
       "    sub-expressions: \n",
       "37. a\n",
       "    core type: Variable\n",
       "    sub-expressions: \n",
       "38. (_a)\n",
       "    core type: ExprTuple\n",
       "    sub-expressions: 39\n",
       "39. _a\n",
       "    core type: Variable\n",
       "    sub-expressions: "
      ]
     },
     "metadata": {},
     "output_type": "display_data"
    }
   ],
   "source": [
    "# display the expression information\n",
    "stored_expr.expr_info()"
   ]
  },
  {
   "cell_type": "code",
   "execution_count": null,
   "metadata": {},
   "outputs": [],
   "source": []
  }
 ],
 "metadata": {
  "kernelspec": {
   "display_name": "Python 3",
   "language": "python",
   "name": "python3"
  }
 },
 "nbformat": 4,
 "nbformat_minor": 0
}