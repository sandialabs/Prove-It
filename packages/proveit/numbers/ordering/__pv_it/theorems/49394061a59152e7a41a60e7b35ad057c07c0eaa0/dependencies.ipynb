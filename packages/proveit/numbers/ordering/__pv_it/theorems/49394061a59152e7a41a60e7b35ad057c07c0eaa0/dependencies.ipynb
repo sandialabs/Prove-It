{
 "cells": [
  {
   "cell_type": "markdown",
   "metadata": {},
   "source": [
    "Theorem Dependencies\n",
    "=======================\n",
    "\n",
    "## <a class=\"ProveItLink\" href=\"../../../_theory_nbs_/theory.ipynb\">proveit.numbers.ordering</a>.<a class=\"ProveItLink\" href=\"../../../_theorems_.ipynb#less_than_an_increase\">less_than_an_increase</a> \n",
    "***see <a class=\"ProveItLink\" href=\"../../../_theory_nbs_/proofs/less_than_an_increase/thm_proof.ipynb\">proof</a>***"
   ]
  },
  {
   "cell_type": "code",
   "execution_count": 1,
   "metadata": {},
   "outputs": [],
   "source": [
    "import proveit\n",
    "# Automation is not needed when querying dependencies:\n",
    "proveit.defaults.automation = False # This will speed things up.\n",
    "proveit.defaults.inline_pngs = False # Makes files smaller.\n",
    "from proveit.numbers.ordering import less_than_an_increase"
   ]
  },
  {
   "cell_type": "code",
   "execution_count": 2,
   "metadata": {},
   "outputs": [
    {
     "data": {
      "text/html": [
       "<h3>Unproven conjectures required (directly or indirectly) to prove less_than_an_increase</h3>"
      ],
      "text/plain": [
       "<IPython.core.display.HTML object>"
      ]
     },
     "metadata": {},
     "output_type": "display_data"
    },
    {
     "data": {
      "text/html": [
       "<dl>"
      ],
      "text/plain": [
       "<IPython.core.display.HTML object>"
      ]
     },
     "metadata": {},
     "output_type": "display_data"
    },
    {
     "data": {
      "text/html": [
       "<dt><a class=\"ProveItLink\" href=\"../../../_theory_nbs_/proofs/less_than_an_increase/thm_proof.ipynb\">proveit.numbers.ordering.less_than_an_increase</a></dt><dd><a class=\"ProveItLink\" href=\"../6eb93f08ed32e2b6207d72824b8c84a8022ce1030/expr.ipynb\"><img src=\"../6eb93f08ed32e2b6207d72824b8c84a8022ce1030/expr.png\" style=\"display:inline;vertical-align:middle;\" /></a></dd>"
      ],
      "text/plain": [
       "<IPython.core.display.HTML object>"
      ]
     },
     "metadata": {},
     "output_type": "display_data"
    },
    {
     "data": {
      "text/html": [
       "</dl>"
      ],
      "text/plain": [
       "<IPython.core.display.HTML object>"
      ]
     },
     "metadata": {},
     "output_type": "display_data"
    },
    {
     "data": {
      "text/html": [
       "<h3>No theorems/conjectures depend upon less_than_an_increase</h3>"
      ],
      "text/plain": [
       "<IPython.core.display.HTML object>"
      ]
     },
     "metadata": {},
     "output_type": "display_data"
    }
   ],
   "source": [
    "%dependencies less_than_an_increase"
   ]
  }
 ],
 "metadata": {
  "kernelspec": {
   "display_name": "Python 3",
   "language": "python",
   "name": "python3"
  }
 },
 "nbformat": 4,
 "nbformat_minor": 0
}