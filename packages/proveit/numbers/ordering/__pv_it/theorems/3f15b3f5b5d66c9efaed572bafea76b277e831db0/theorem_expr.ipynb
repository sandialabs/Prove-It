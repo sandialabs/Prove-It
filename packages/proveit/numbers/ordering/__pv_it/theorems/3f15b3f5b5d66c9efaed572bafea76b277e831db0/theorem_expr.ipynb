{
 "cells": [
  {
   "cell_type": "markdown",
   "metadata": {},
   "source": [
    "Theorem <a class=\"ProveItLink\" href=\"../../../_theorems_.ipynb#min_real_closure\">min_real_closure</a> of type <a class=\"ProveItLink\" href=\"../../../../../../../doc/html/api/proveit.logic.Forall.html\">Forall</a>\n",
    "=======================\n",
    "# from the theory of <a class=\"ProveItLink\" href=\"../../../_theory_nbs_/theory.ipynb\">proveit.numbers.ordering</a>\n",
    "*** see <a class=\"ProveItLink\" href=\"dependencies.ipynb\">dependencies</a> ***"
   ]
  },
  {
   "cell_type": "code",
   "execution_count": 1,
   "metadata": {},
   "outputs": [],
   "source": [
    "import proveit\n",
    "# Automation is not needed when only building an expression:\n",
    "proveit.defaults.automation = False # This will speed things up.\n",
    "proveit.defaults.inline_pngs = False # Makes files smaller.\n",
    "%load_theorem_expr # Load the stored theorem expression as 'stored_expr'\n",
    "# import the special expression\n",
    "from proveit.numbers.ordering import min_real_closure"
   ]
  },
  {
   "cell_type": "code",
   "execution_count": 2,
   "metadata": {},
   "outputs": [
    {
     "name": "stdout",
     "output_type": "stream",
     "text": [
      "Passed sanity check: min_real_closure matches stored_expr\n"
     ]
    }
   ],
   "source": [
    "# check that the built expression is the same as the stored expression\n",
    "assert min_real_closure.expr == stored_expr\n",
    "assert min_real_closure.expr._style_id == stored_expr._style_id\n",
    "print(\"Passed sanity check: min_real_closure matches stored_expr\")"
   ]
  },
  {
   "cell_type": "code",
   "execution_count": 3,
   "metadata": {},
   "outputs": [
    {
     "name": "stdout",
     "output_type": "stream",
     "text": [
      "\\forall_{n \\in \\mathbb{N}}~\\left[\\forall_{a_{1}, a_{2}, \\ldots, a_{n} \\in \\mathbb{R}}~\\left({\\rm Min}\\left(a_{1}, a_{2}, \\ldots, a_{n}\\right) \\in \\mathbb{R}\\right)\\right]\n"
     ]
    }
   ],
   "source": [
    "# Show the LaTeX representation of the expression for convenience if you need it.\n",
    "print(stored_expr.latex())"
   ]
  },
  {
   "cell_type": "code",
   "execution_count": 4,
   "metadata": {},
   "outputs": [
    {
     "data": {
      "text/html": [
       "<table>\n",
       "<tr><th>name</th><th>description</th><th>default</th><th>current value</th><th>related methods</th></tr><tr><td>with_wrapping</td><td>If 'True', wrap the Expression after the parameters</td><td>None</td><td>None/False</td><td>('with_wrapping',)</td></tr>\n",
       "<tr><td>condition_wrapping</td><td>Wrap 'before' or 'after' the condition (or None).</td><td>None</td><td>None/False</td><td>('with_wrap_after_condition', 'with_wrap_before_condition')</td></tr>\n",
       "<tr><td>wrap_params</td><td>If 'True', wraps every two parameters AND wraps the Expression after the parameters</td><td>None</td><td>None/False</td><td>('with_params',)</td></tr>\n",
       "<tr><td>justification</td><td>justify to the 'left', 'center', or 'right' in the array cells</td><td>center</td><td>center</td><td>('with_justification',)</td></tr>\n",
       "</table>\n"
      ],
      "text/plain": [
       "style name: with_wrapping\n",
       "description: If 'True', wrap the Expression after the parameters\n",
       "default: None\n",
       "current value: None/False\n",
       "related methods: ('with_wrapping',)\n",
       "style name: condition_wrapping\n",
       "description: Wrap 'before' or 'after' the condition (or None).\n",
       "default: None\n",
       "current value: None/False\n",
       "related methods: ('with_wrap_after_condition', 'with_wrap_before_condition')\n",
       "style name: wrap_params\n",
       "description: If 'True', wraps every two parameters AND wraps the Expression after the parameters\n",
       "default: None\n",
       "current value: None/False\n",
       "related methods: ('with_params',)\n",
       "style name: justification\n",
       "description: justify to the 'left', 'center', or 'right' in the array cells\n",
       "default: center\n",
       "current value: center\n",
       "related methods: ('with_justification',)"
      ]
     },
     "metadata": {},
     "output_type": "display_data"
    }
   ],
   "source": [
    "stored_expr.style_options()"
   ]
  },
  {
   "cell_type": "code",
   "execution_count": 5,
   "metadata": {},
   "outputs": [
    {
     "data": {
      "text/html": [
       "<table><tr><th>&nbsp;</th><th>core type</th><th>sub-expressions</th><th>expression</th></tr>\n",
       "<tr><td>0</td><td>Operation</td><td>operator:&nbsp;7<br>operand:&nbsp;2<br></td><td><a class=\"ProveItLink\" href=\"../e5e7ecd2c9877aad7a438b56d7206e5948ac564f0/expr.ipynb\"><img src=\"../e5e7ecd2c9877aad7a438b56d7206e5948ac564f0/expr.png\" style=\"display:inline;vertical-align:middle;\" /></a></td></tr>\n",
       "<tr><td>1</td><td>ExprTuple</td><td>2</td><td><a class=\"ProveItLink\" href=\"../85c7d9c7c8a6a89d448797a36ae770305771bbd60/expr.ipynb\"><img src=\"../85c7d9c7c8a6a89d448797a36ae770305771bbd60/expr.png\" style=\"display:inline;vertical-align:middle;\" /></a></td></tr>\n",
       "<tr><td>2</td><td>Lambda</td><td>parameter:&nbsp;27<br>body:&nbsp;4<br></td><td><a class=\"ProveItLink\" href=\"../77c8b3ebdbcf4fad2953a129e889aa253e73c9090/expr.ipynb\"><img src=\"../77c8b3ebdbcf4fad2953a129e889aa253e73c9090/expr.png\" style=\"display:inline;vertical-align:middle;\" /></a></td></tr>\n",
       "<tr><td>3</td><td>ExprTuple</td><td>27</td><td><a class=\"ProveItLink\" href=\"../ca565dff2751ea9a3b48fe855133b9e0c2eca83f0/expr.ipynb\"><img src=\"../ca565dff2751ea9a3b48fe855133b9e0c2eca83f0/expr.png\" style=\"display:inline;vertical-align:middle;\" /></a></td></tr>\n",
       "<tr><td>4</td><td>Conditional</td><td>value:&nbsp;5<br>condition:&nbsp;6<br></td><td><a class=\"ProveItLink\" href=\"../8f8a6c80ee02990d3f798c73e9b2fb6e144446390/expr.ipynb\"><img src=\"../8f8a6c80ee02990d3f798c73e9b2fb6e144446390/expr.png\" style=\"display:inline;vertical-align:middle;\" /></a></td></tr>\n",
       "<tr><td>5</td><td>Operation</td><td>operator:&nbsp;7<br>operand:&nbsp;10<br></td><td><a class=\"ProveItLink\" href=\"../034e30a19ba0b45619e4b40c6d52785e75623bee0/expr.ipynb\"><img src=\"../034e30a19ba0b45619e4b40c6d52785e75623bee0/expr.png\" style=\"display:inline;vertical-align:middle;\" /></a></td></tr>\n",
       "<tr><td>6</td><td>Operation</td><td>operator:&nbsp;28<br>operands:&nbsp;9<br></td><td><a class=\"ProveItLink\" href=\"../a4c62904f3a87ce48a16b43526806be1316ce7cc0/expr.ipynb\"><img src=\"../a4c62904f3a87ce48a16b43526806be1316ce7cc0/expr.png\" style=\"display:inline;vertical-align:middle;\" /></a></td></tr>\n",
       "<tr><td>7</td><td>Literal</td><td></td><td><a class=\"ProveItLink\" href=\"../../../../../logic/booleans/quantification/universality/__pv_it/common/083d2baa0b8ecab1d230f9ec29a15aa1355809fb0/expr.ipynb\"><img src=\"../../../../../logic/booleans/quantification/universality/__pv_it/common/083d2baa0b8ecab1d230f9ec29a15aa1355809fb0/expr.png\" style=\"display:inline;vertical-align:middle;\" /></a></td></tr>\n",
       "<tr><td>8</td><td>ExprTuple</td><td>10</td><td><a class=\"ProveItLink\" href=\"../388c7783b5ee37ab411c3f736b28d2f71882b1e70/expr.ipynb\"><img src=\"../388c7783b5ee37ab411c3f736b28d2f71882b1e70/expr.png\" style=\"display:inline;vertical-align:middle;\" /></a></td></tr>\n",
       "<tr><td>9</td><td>ExprTuple</td><td>27, 11</td><td><a class=\"ProveItLink\" href=\"../ecc3c58a9897ba541ec19be82e54ee986957c4200/expr.ipynb\"><img src=\"../ecc3c58a9897ba541ec19be82e54ee986957c4200/expr.png\" style=\"display:inline;vertical-align:middle;\" /></a></td></tr>\n",
       "<tr><td>10</td><td>Lambda</td><td>parameters:&nbsp;21<br>body:&nbsp;12<br></td><td><a class=\"ProveItLink\" href=\"../738e3c455e70c77cb2fae0de48c356b96163a0530/expr.ipynb\"><img src=\"../738e3c455e70c77cb2fae0de48c356b96163a0530/expr.png\" style=\"display:inline;vertical-align:middle;\" /></a></td></tr>\n",
       "<tr><td>11</td><td>Literal</td><td></td><td><a class=\"ProveItLink\" href=\"../../../../number_sets/natural_numbers/__pv_it/common/8b7c321957f52ed3b05b36af612eeae4fa4783bc0/expr.ipynb\"><img src=\"../../../../number_sets/natural_numbers/__pv_it/common/8b7c321957f52ed3b05b36af612eeae4fa4783bc0/expr.png\" style=\"display:inline;vertical-align:middle;\" /></a></td></tr>\n",
       "<tr><td>12</td><td>Conditional</td><td>value:&nbsp;13<br>condition:&nbsp;14<br></td><td><a class=\"ProveItLink\" href=\"../d69c83b1950c76df4f55de399890f5f898f7ad8d0/expr.ipynb\"><img src=\"../d69c83b1950c76df4f55de399890f5f898f7ad8d0/expr.png\" style=\"display:inline;vertical-align:middle;\" /></a></td></tr>\n",
       "<tr><td>13</td><td>Operation</td><td>operator:&nbsp;28<br>operands:&nbsp;15<br></td><td><a class=\"ProveItLink\" href=\"../3a618d7bb96aa157d51e4d66c9a35736ea435ff50/expr.ipynb\"><img src=\"../3a618d7bb96aa157d51e4d66c9a35736ea435ff50/expr.png\" style=\"display:inline;vertical-align:middle;\" /></a></td></tr>\n",
       "<tr><td>14</td><td>Operation</td><td>operator:&nbsp;16<br>operands:&nbsp;17<br></td><td><a class=\"ProveItLink\" href=\"../29129ffb24e055afd6cd6c7379685fd66155fbeb0/expr.ipynb\"><img src=\"../29129ffb24e055afd6cd6c7379685fd66155fbeb0/expr.png\" style=\"display:inline;vertical-align:middle;\" /></a></td></tr>\n",
       "<tr><td>15</td><td>ExprTuple</td><td>18, 31</td><td><a class=\"ProveItLink\" href=\"../f7ac20c535539e2cc86050de4f0575d5c2be84590/expr.ipynb\"><img src=\"../f7ac20c535539e2cc86050de4f0575d5c2be84590/expr.png\" style=\"display:inline;vertical-align:middle;\" /></a></td></tr>\n",
       "<tr><td>16</td><td>Literal</td><td></td><td><a class=\"ProveItLink\" href=\"../../../../../logic/booleans/conjunction/__pv_it/common/42118ff318bd65d98b1393f64ce7c2269feef76e0/expr.ipynb\"><img src=\"../../../../../logic/booleans/conjunction/__pv_it/common/42118ff318bd65d98b1393f64ce7c2269feef76e0/expr.png\" style=\"display:inline;vertical-align:middle;\" /></a></td></tr>\n",
       "<tr><td>17</td><td>ExprTuple</td><td>19</td><td><a class=\"ProveItLink\" href=\"../958ae024be092cdb0d67ace61ac6b59e150aa81d0/expr.ipynb\"><img src=\"../958ae024be092cdb0d67ace61ac6b59e150aa81d0/expr.png\" style=\"display:inline;vertical-align:middle;\" /></a></td></tr>\n",
       "<tr><td>18</td><td>Operation</td><td>operator:&nbsp;20<br>operands:&nbsp;21<br></td><td><a class=\"ProveItLink\" href=\"../6e2b9cb7e3e4c51db55c2f5a5163610ae1d5f09b0/expr.ipynb\"><img src=\"../6e2b9cb7e3e4c51db55c2f5a5163610ae1d5f09b0/expr.png\" style=\"display:inline;vertical-align:middle;\" /></a></td></tr>\n",
       "<tr><td>19</td><td>ExprRange</td><td>lambda_map:&nbsp;22<br>start_index:&nbsp;26<br>end_index:&nbsp;27<br></td><td><a class=\"ProveItLink\" href=\"../13c97cb4f939392cce145afb9b77c40a424592b80/expr.ipynb\"><img src=\"../13c97cb4f939392cce145afb9b77c40a424592b80/expr.png\" style=\"display:inline;vertical-align:middle;\" /></a></td></tr>\n",
       "<tr><td>20</td><td>Literal</td><td></td><td><a class=\"ProveItLink\" href=\"../../common/02aff561bee7a3f97a38cab9c19dbc1e3070b9670/expr.ipynb\"><img src=\"../../common/02aff561bee7a3f97a38cab9c19dbc1e3070b9670/expr.png\" style=\"display:inline;vertical-align:middle;\" /></a></td></tr>\n",
       "<tr><td>21</td><td>ExprTuple</td><td>23</td><td><a class=\"ProveItLink\" href=\"../7b420e2a84f53537bd285f3baa95d83c0ea120860/expr.ipynb\"><img src=\"../7b420e2a84f53537bd285f3baa95d83c0ea120860/expr.png\" style=\"display:inline;vertical-align:middle;\" /></a></td></tr>\n",
       "<tr><td>22</td><td>Lambda</td><td>parameter:&nbsp;34<br>body:&nbsp;24<br></td><td><a class=\"ProveItLink\" href=\"../673f2e509e0b4134da2bfb83fcd2e814659f6d9a0/expr.ipynb\"><img src=\"../673f2e509e0b4134da2bfb83fcd2e814659f6d9a0/expr.png\" style=\"display:inline;vertical-align:middle;\" /></a></td></tr>\n",
       "<tr><td>23</td><td>ExprRange</td><td>lambda_map:&nbsp;25<br>start_index:&nbsp;26<br>end_index:&nbsp;27<br></td><td><a class=\"ProveItLink\" href=\"../../../../../core_expr_types/__pv_it/common/7ee2dd28754734e63298daa7955625a3d904698e0/expr.ipynb\"><img src=\"../../../../../core_expr_types/__pv_it/common/7ee2dd28754734e63298daa7955625a3d904698e0/expr.png\" style=\"display:inline;vertical-align:middle;\" /></a></td></tr>\n",
       "<tr><td>24</td><td>Operation</td><td>operator:&nbsp;28<br>operands:&nbsp;29<br></td><td><a class=\"ProveItLink\" href=\"../45d548b97d067920a871df03d8504195cfdf15220/expr.ipynb\"><img src=\"../45d548b97d067920a871df03d8504195cfdf15220/expr.png\" style=\"display:inline;vertical-align:middle;\" /></a></td></tr>\n",
       "<tr><td>25</td><td>Lambda</td><td>parameter:&nbsp;34<br>body:&nbsp;30<br></td><td><a class=\"ProveItLink\" href=\"../../../../../core_expr_types/__pv_it/common/1527ad383e12f9c6ed6b371c9a7dd1892d80da1b0/expr.ipynb\"><img src=\"../../../../../core_expr_types/__pv_it/common/1527ad383e12f9c6ed6b371c9a7dd1892d80da1b0/expr.png\" style=\"display:inline;vertical-align:middle;\" /></a></td></tr>\n",
       "<tr><td>26</td><td>Literal</td><td></td><td><a class=\"ProveItLink\" href=\"../../../../numerals/__pv_it/common/682157d4892d216d9e5626ed533aff9b56b9506e0/expr.ipynb\"><img src=\"../../../../numerals/__pv_it/common/682157d4892d216d9e5626ed533aff9b56b9506e0/expr.png\" style=\"display:inline;vertical-align:middle;\" /></a></td></tr>\n",
       "<tr><td>27</td><td>Variable</td><td></td><td><a class=\"ProveItLink\" href=\"../../../../../__pv_it/common/8968bb04eb3f7dfa02353397ce929b025bbd79c20/expr.ipynb\"><img src=\"../../../../../__pv_it/common/8968bb04eb3f7dfa02353397ce929b025bbd79c20/expr.png\" style=\"display:inline;vertical-align:middle;\" /></a></td></tr>\n",
       "<tr><td>28</td><td>Literal</td><td></td><td><a class=\"ProveItLink\" href=\"../../../../../logic/sets/membership/__pv_it/common/477487d8796864d23d5810f83761435f25167f690/expr.ipynb\"><img src=\"../../../../../logic/sets/membership/__pv_it/common/477487d8796864d23d5810f83761435f25167f690/expr.png\" style=\"display:inline;vertical-align:middle;\" /></a></td></tr>\n",
       "<tr><td>29</td><td>ExprTuple</td><td>30, 31</td><td><a class=\"ProveItLink\" href=\"../fe3b7639f3a3f460dce10a0148189b5a8a2af3560/expr.ipynb\"><img src=\"../fe3b7639f3a3f460dce10a0148189b5a8a2af3560/expr.png\" style=\"display:inline;vertical-align:middle;\" /></a></td></tr>\n",
       "<tr><td>30</td><td>IndexedVar</td><td>variable:&nbsp;32<br>index:&nbsp;34<br></td><td><a class=\"ProveItLink\" href=\"../../../../../core_expr_types/__pv_it/common/3a62c13e156d62d52fe585fa37cc2172fcf685260/expr.ipynb\"><img src=\"../../../../../core_expr_types/__pv_it/common/3a62c13e156d62d52fe585fa37cc2172fcf685260/expr.png\" style=\"display:inline;vertical-align:middle;\" /></a></td></tr>\n",
       "<tr><td>31</td><td>Literal</td><td></td><td><a class=\"ProveItLink\" href=\"../../../../number_sets/real_numbers/__pv_it/common/93cac87a1a47e613f7a83b23ef7891599a1a4cca0/expr.ipynb\"><img src=\"../../../../number_sets/real_numbers/__pv_it/common/93cac87a1a47e613f7a83b23ef7891599a1a4cca0/expr.png\" style=\"display:inline;vertical-align:middle;\" /></a></td></tr>\n",
       "<tr><td>32</td><td>Variable</td><td></td><td><a class=\"ProveItLink\" href=\"../../../../../__pv_it/common/c06c606ec12678c58933ac85412ecadc2ae28be60/expr.ipynb\"><img src=\"../../../../../__pv_it/common/c06c606ec12678c58933ac85412ecadc2ae28be60/expr.png\" style=\"display:inline;vertical-align:middle;\" /></a></td></tr>\n",
       "<tr><td>33</td><td>ExprTuple</td><td>34</td><td><a class=\"ProveItLink\" href=\"../../../../../core_expr_types/__pv_it/common/4b0dd6be36d76552eda6a95d5b4a27f5a5b62f900/expr.ipynb\"><img src=\"../../../../../core_expr_types/__pv_it/common/4b0dd6be36d76552eda6a95d5b4a27f5a5b62f900/expr.png\" style=\"display:inline;vertical-align:middle;\" /></a></td></tr>\n",
       "<tr><td>34</td><td>Variable</td><td></td><td><a class=\"ProveItLink\" href=\"../../../../../core_expr_types/__pv_it/common/006c465e50948aa2b52285e2de47974f741255cc0/expr.ipynb\"><img src=\"../../../../../core_expr_types/__pv_it/common/006c465e50948aa2b52285e2de47974f741255cc0/expr.png\" style=\"display:inline;vertical-align:middle;\" /></a></td></tr>\n",
       "</table>\n"
      ],
      "text/plain": [
       "0. forall_{n in Natural} [forall_{a_{1}, a_{2}, ..., a_{n} in Real} (Min(a_{1}, a_{2}, ..., a_{n}) in Real)]\n",
       "   core type: Operation\n",
       "   operator: 7\n",
       "   operand: 2\n",
       "1. (n -> {forall_{a_{1}, a_{2}, ..., a_{n} in Real} (Min(a_{1}, a_{2}, ..., a_{n}) in Real) if n in Natural.)\n",
       "   core type: ExprTuple\n",
       "   sub-expressions: 2\n",
       "2. n -> {forall_{a_{1}, a_{2}, ..., a_{n} in Real} (Min(a_{1}, a_{2}, ..., a_{n}) in Real) if n in Natural.\n",
       "   core type: Lambda\n",
       "   parameter: 27\n",
       "   body: 4\n",
       "3. (n)\n",
       "   core type: ExprTuple\n",
       "   sub-expressions: 27\n",
       "4. {forall_{a_{1}, a_{2}, ..., a_{n} in Real} (Min(a_{1}, a_{2}, ..., a_{n}) in Real) if n in Natural.\n",
       "   core type: Conditional\n",
       "   value: 5\n",
       "   condition: 6\n",
       "5. forall_{a_{1}, a_{2}, ..., a_{n} in Real} (Min(a_{1}, a_{2}, ..., a_{n}) in Real)\n",
       "   core type: Operation\n",
       "   operator: 7\n",
       "   operand: 10\n",
       "6. n in Natural\n",
       "   core type: Operation\n",
       "   operator: 28\n",
       "   operands: 9\n",
       "7. forall\n",
       "   core type: Literal\n",
       "   sub-expressions: \n",
       "8. ((a_{1}, a_{2}, ..., a_{n}) -> {Min(a_{1}, a_{2}, ..., a_{n}) in Real if (a_{1} in Real) and  (a_{2} in Real) and  ... and  (a_{n} in Real).)\n",
       "   core type: ExprTuple\n",
       "   sub-expressions: 10\n",
       "9. (n, Natural)\n",
       "   core type: ExprTuple\n",
       "   sub-expressions: 27, 11\n",
       "10. (a_{1}, a_{2}, ..., a_{n}) -> {Min(a_{1}, a_{2}, ..., a_{n}) in Real if (a_{1} in Real) and  (a_{2} in Real) and  ... and  (a_{n} in Real).\n",
       "    core type: Lambda\n",
       "    parameters: 21\\n    body: 12\n",
       "11. Natural\n",
       "    core type: Literal\n",
       "    sub-expressions: \n",
       "12. {Min(a_{1}, a_{2}, ..., a_{n}) in Real if (a_{1} in Real) and  (a_{2} in Real) and  ... and  (a_{n} in Real).\n",
       "    core type: Conditional\n",
       "    value: 13\n",
       "    condition: 14\n",
       "13. Min(a_{1}, a_{2}, ..., a_{n}) in Real\n",
       "    core type: Operation\n",
       "    operator: 28\n",
       "    operands: 15\n",
       "14. (a_{1} in Real) and  (a_{2} in Real) and  ... and  (a_{n} in Real)\n",
       "    core type: Operation\n",
       "    operator: 16\n",
       "    operands: 17\n",
       "15. (Min(a_{1}, a_{2}, ..., a_{n}), Real)\n",
       "    core type: ExprTuple\n",
       "    sub-expressions: 18, 31\n",
       "16. and\n",
       "    core type: Literal\n",
       "    sub-expressions: \n",
       "17. ((a_{1} in Real), (a_{2} in Real), ..., (a_{n} in Real))\n",
       "    core type: ExprTuple\n",
       "    sub-expressions: 19\n",
       "18. Min(a_{1}, a_{2}, ..., a_{n})\n",
       "    core type: Operation\n",
       "    operator: 20\n",
       "    operands: 21\n",
       "19. (a_{1} in Real), (a_{2} in Real), ..., (a_{n} in Real)\n",
       "    core type: ExprRange\n",
       "    lambda_map: 22\n",
       "    start_index: 26\n",
       "    end_index: 27\n",
       "20. Min\n",
       "    core type: Literal\n",
       "    sub-expressions: \n",
       "21. (a_{1}, a_{2}, ..., a_{n})\n",
       "    core type: ExprTuple\n",
       "    sub-expressions: 23\n",
       "22. _a -> (a_{_a} in Real)\n",
       "    core type: Lambda\n",
       "    parameter: 34\n",
       "    body: 24\n",
       "23. a_{1}, a_{2}, ..., a_{n}\n",
       "    core type: ExprRange\n",
       "    lambda_map: 25\n",
       "    start_index: 26\n",
       "    end_index: 27\n",
       "24. a_{_a} in Real\n",
       "    core type: Operation\n",
       "    operator: 28\n",
       "    operands: 29\n",
       "25. _a -> a_{_a}\n",
       "    core type: Lambda\n",
       "    parameter: 34\n",
       "    body: 30\n",
       "26. 1\n",
       "    core type: Literal\n",
       "    sub-expressions: \n",
       "27. n\n",
       "    core type: Variable\n",
       "    sub-expressions: \n",
       "28. in\n",
       "    core type: Literal\n",
       "    sub-expressions: \n",
       "29. (a_{_a}, Real)\n",
       "    core type: ExprTuple\n",
       "    sub-expressions: 30, 31\n",
       "30. a_{_a}\n",
       "    core type: IndexedVar\n",
       "variable: 32\n",
       "index: 34\n",
       "31. Real\n",
       "    core type: Literal\n",
       "    sub-expressions: \n",
       "32. a\n",
       "    core type: Variable\n",
       "    sub-expressions: \n",
       "33. (_a)\n",
       "    core type: ExprTuple\n",
       "    sub-expressions: 34\n",
       "34. _a\n",
       "    core type: Variable\n",
       "    sub-expressions: "
      ]
     },
     "metadata": {},
     "output_type": "display_data"
    }
   ],
   "source": [
    "# display the expression information\n",
    "stored_expr.expr_info()"
   ]
  },
  {
   "cell_type": "code",
   "execution_count": null,
   "metadata": {},
   "outputs": [],
   "source": []
  }
 ],
 "metadata": {
  "kernelspec": {
   "display_name": "Python 3",
   "language": "python",
   "name": "python3"
  }
 },
 "nbformat": 4,
 "nbformat_minor": 0
}