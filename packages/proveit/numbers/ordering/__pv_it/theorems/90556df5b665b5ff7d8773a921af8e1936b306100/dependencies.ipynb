{
 "cells": [
  {
   "cell_type": "markdown",
   "metadata": {},
   "source": [
    "Theorem Dependencies\n",
    "=======================\n",
    "\n",
    "## <a class=\"ProveItLink\" href=\"../../../_theory_nbs_/theory.ipynb\">proveit.numbers.ordering</a>.<a class=\"ProveItLink\" href=\"../../../_theorems_.ipynb#less_is_not_eq_nat\">less_is_not_eq_nat</a> \n",
    "***see <a class=\"ProveItLink\" href=\"../../../_theory_nbs_/proofs/less_is_not_eq_nat/thm_proof.ipynb\">proof</a>***"
   ]
  },
  {
   "cell_type": "code",
   "execution_count": 1,
   "metadata": {},
   "outputs": [],
   "source": [
    "import proveit\n",
    "# Automation is not needed when querying dependencies:\n",
    "proveit.defaults.automation = False # This will speed things up.\n",
    "proveit.defaults.inline_pngs = False # Makes files smaller.\n",
    "from proveit.numbers.ordering import less_is_not_eq_nat"
   ]
  },
  {
   "cell_type": "code",
   "execution_count": 2,
   "metadata": {},
   "outputs": [
    {
     "data": {
      "text/html": [
       "<h3>Unproven conjectures required (directly or indirectly) to prove less_is_not_eq_nat</h3>"
      ],
      "text/plain": [
       "<IPython.core.display.HTML object>"
      ]
     },
     "metadata": {},
     "output_type": "display_data"
    },
    {
     "data": {
      "text/html": [
       "<dl>"
      ],
      "text/plain": [
       "<IPython.core.display.HTML object>"
      ]
     },
     "metadata": {},
     "output_type": "display_data"
    },
    {
     "data": {
      "text/html": [
       "<dt><a class=\"ProveItLink\" href=\"../../../_theory_nbs_/proofs/less_is_not_eq_nat/thm_proof.ipynb\">proveit.numbers.ordering.less_is_not_eq_nat</a></dt><dd><a class=\"ProveItLink\" href=\"../25e75496c071b11af4ee9c174d64f8cbe1acb4a60/expr.ipynb\"><img src=\"../25e75496c071b11af4ee9c174d64f8cbe1acb4a60/expr.png\" style=\"display:inline;vertical-align:middle;\" /></a></dd>"
      ],
      "text/plain": [
       "<IPython.core.display.HTML object>"
      ]
     },
     "metadata": {},
     "output_type": "display_data"
    },
    {
     "data": {
      "text/html": [
       "</dl>"
      ],
      "text/plain": [
       "<IPython.core.display.HTML object>"
      ]
     },
     "metadata": {},
     "output_type": "display_data"
    },
    {
     "data": {
      "text/html": [
       "<h3>Theorems/conjectures that depend directly on less_is_not_eq_nat</h3>"
      ],
      "text/plain": [
       "<IPython.core.display.HTML object>"
      ]
     },
     "metadata": {},
     "output_type": "display_data"
    },
    {
     "data": {
      "text/html": [
       "<dl>"
      ],
      "text/plain": [
       "<IPython.core.display.HTML object>"
      ]
     },
     "metadata": {},
     "output_type": "display_data"
    },
    {
     "data": {
      "text/html": [
       "<dt><a class=\"ProveItLink\" href=\"../../../../number_sets/natural_numbers/_theory_nbs_/proofs/nonzero_if_is_nat_pos/thm_proof.ipynb\">proveit.numbers.number_sets.natural_numbers.nonzero_if_is_nat_pos</a></dt><dd><a class=\"ProveItLink\" href=\"../../../../number_sets/natural_numbers/__pv_it/theorems/2da89c571229ffc57db13a7e9b9b2d58a4b513440/expr.ipynb\"><img src=\"../../../../number_sets/natural_numbers/__pv_it/theorems/2da89c571229ffc57db13a7e9b9b2d58a4b513440/expr.png\" style=\"display:inline;vertical-align:middle;\" /></a></dd>"
      ],
      "text/plain": [
       "<IPython.core.display.HTML object>"
      ]
     },
     "metadata": {},
     "output_type": "display_data"
    },
    {
     "data": {
      "text/html": [
       "<dt><a class=\"ProveItLink\" href=\"../../../../../physics/quantum/QPE/_theory_nbs_/proofs/_e_value_ge_two/thm_proof.ipynb\">proveit.physics.quantum.QPE._e_value_ge_two</a></dt><dd><a class=\"ProveItLink\" href=\"../../../../../physics/quantum/QPE/__pv_it/theorems/396def8ba7d11f0cfc66829313d1ccd83d6529830/expr.ipynb\"><img src=\"../../../../../physics/quantum/QPE/__pv_it/theorems/396def8ba7d11f0cfc66829313d1ccd83d6529830/expr.png\" style=\"display:inline;vertical-align:middle;\" /></a></dd>"
      ],
      "text/plain": [
       "<IPython.core.display.HTML object>"
      ]
     },
     "metadata": {},
     "output_type": "display_data"
    },
    {
     "data": {
      "text/html": [
       "<dt><a class=\"ProveItLink\" href=\"../../../../../physics/quantum/QPE/_theory_nbs_/proofs/_e_value_in_e_domain/thm_proof.ipynb\">proveit.physics.quantum.QPE._e_value_in_e_domain</a></dt><dd><a class=\"ProveItLink\" href=\"../../../../../physics/quantum/QPE/__pv_it/theorems/49db90fec0aa3a848ce1be0ddb300cf33a6495e90/expr.ipynb\"><img src=\"../../../../../physics/quantum/QPE/__pv_it/theorems/49db90fec0aa3a848ce1be0ddb300cf33a6495e90/expr.png\" style=\"display:inline;vertical-align:middle;\" /></a></dd>"
      ],
      "text/plain": [
       "<IPython.core.display.HTML object>"
      ]
     },
     "metadata": {},
     "output_type": "display_data"
    },
    {
     "data": {
      "text/html": [
       "<dt><a class=\"ProveItLink\" href=\"../../../../../physics/quantum/QPE/_theory_nbs_/proofs/_precision_guarantee_lemma_01/thm_proof.ipynb\">proveit.physics.quantum.QPE._precision_guarantee_lemma_01</a></dt><dd><a class=\"ProveItLink\" href=\"../../../../../physics/quantum/QPE/__pv_it/theorems/50da7603f05a79ba3a95ed765a4ccf4c18e0743b0/expr.ipynb\"><img src=\"../../../../../physics/quantum/QPE/__pv_it/theorems/50da7603f05a79ba3a95ed765a4ccf4c18e0743b0/expr.png\" style=\"display:inline;vertical-align:middle;\" /></a></dd>"
      ],
      "text/plain": [
       "<IPython.core.display.HTML object>"
      ]
     },
     "metadata": {},
     "output_type": "display_data"
    },
    {
     "data": {
      "text/html": [
       "</dl>"
      ],
      "text/plain": [
       "<IPython.core.display.HTML object>"
      ]
     },
     "metadata": {},
     "output_type": "display_data"
    }
   ],
   "source": [
    "%dependencies less_is_not_eq_nat"
   ]
  }
 ],
 "metadata": {
  "kernelspec": {
   "display_name": "Python 3",
   "language": "python",
   "name": "python3"
  }
 },
 "nbformat": 4,
 "nbformat_minor": 0
}