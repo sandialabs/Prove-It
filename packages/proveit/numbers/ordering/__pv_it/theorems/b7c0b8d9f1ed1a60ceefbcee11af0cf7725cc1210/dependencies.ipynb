{
 "cells": [
  {
   "cell_type": "markdown",
   "metadata": {},
   "source": [
    "Theorem Dependencies\n",
    "=======================\n",
    "\n",
    "## <a class=\"ProveItLink\" href=\"../../../_theory_nbs_/theory.ipynb\">proveit.numbers.ordering</a>.<a class=\"ProveItLink\" href=\"../../../_theorems_.ipynb#not_less_from_less_eq\">not_less_from_less_eq</a> \n",
    "***see <a class=\"ProveItLink\" href=\"../../../_theory_nbs_/proofs/not_less_from_less_eq/thm_proof.ipynb\">proof</a>***"
   ]
  },
  {
   "cell_type": "code",
   "execution_count": 1,
   "metadata": {},
   "outputs": [],
   "source": [
    "import proveit\n",
    "# Automation is not needed when querying dependencies:\n",
    "proveit.defaults.automation = False # This will speed things up.\n",
    "proveit.defaults.inline_pngs = False # Makes files smaller.\n",
    "from proveit.numbers.ordering import not_less_from_less_eq"
   ]
  },
  {
   "cell_type": "code",
   "execution_count": 2,
   "metadata": {},
   "outputs": [
    {
     "data": {
      "text/html": [
       "<h3>Unproven conjectures required (directly or indirectly) to prove not_less_from_less_eq</h3>"
      ],
      "text/plain": [
       "<IPython.core.display.HTML object>"
      ]
     },
     "metadata": {},
     "output_type": "display_data"
    },
    {
     "data": {
      "text/html": [
       "<dl>"
      ],
      "text/plain": [
       "<IPython.core.display.HTML object>"
      ]
     },
     "metadata": {},
     "output_type": "display_data"
    },
    {
     "data": {
      "text/html": [
       "<dt><a class=\"ProveItLink\" href=\"../../../_theory_nbs_/proofs/not_less_from_less_eq/thm_proof.ipynb\">proveit.numbers.ordering.not_less_from_less_eq</a></dt><dd><a class=\"ProveItLink\" href=\"../ddf70a51afcb1b004d345436ba446cbdef87b07e0/expr.ipynb\"><img src=\"../ddf70a51afcb1b004d345436ba446cbdef87b07e0/expr.png\" style=\"display:inline;vertical-align:middle;\" /></a></dd>"
      ],
      "text/plain": [
       "<IPython.core.display.HTML object>"
      ]
     },
     "metadata": {},
     "output_type": "display_data"
    },
    {
     "data": {
      "text/html": [
       "</dl>"
      ],
      "text/plain": [
       "<IPython.core.display.HTML object>"
      ]
     },
     "metadata": {},
     "output_type": "display_data"
    },
    {
     "data": {
      "text/html": [
       "<h3>Theorems/conjectures that depend directly on not_less_from_less_eq</h3>"
      ],
      "text/plain": [
       "<IPython.core.display.HTML object>"
      ]
     },
     "metadata": {},
     "output_type": "display_data"
    },
    {
     "data": {
      "text/html": [
       "<dl>"
      ],
      "text/plain": [
       "<IPython.core.display.HTML object>"
      ]
     },
     "metadata": {},
     "output_type": "display_data"
    },
    {
     "data": {
      "text/html": [
       "<dt><a class=\"ProveItLink\" href=\"../../../_theory_nbs_/proofs/max_bin_args_commute/thm_proof.ipynb\">proveit.numbers.ordering.max_bin_args_commute</a></dt><dd><a class=\"ProveItLink\" href=\"../fb493b0f23cfd895bb4935086af2ce040e96c1520/expr.ipynb\"><img src=\"../fb493b0f23cfd895bb4935086af2ce040e96c1520/expr.png\" style=\"display:inline;vertical-align:middle;\" /></a></dd>"
      ],
      "text/plain": [
       "<IPython.core.display.HTML object>"
      ]
     },
     "metadata": {},
     "output_type": "display_data"
    },
    {
     "data": {
      "text/html": [
       "<dt><a class=\"ProveItLink\" href=\"../../../_theory_nbs_/proofs/max_nat_n_zero_is_n/thm_proof.ipynb\">proveit.numbers.ordering.max_nat_n_zero_is_n</a></dt><dd><a class=\"ProveItLink\" href=\"../ecd6389de8a3528e7ca9d7b9e89662b2696997360/expr.ipynb\"><img src=\"../ecd6389de8a3528e7ca9d7b9e89662b2696997360/expr.png\" style=\"display:inline;vertical-align:middle;\" /></a></dd>"
      ],
      "text/plain": [
       "<IPython.core.display.HTML object>"
      ]
     },
     "metadata": {},
     "output_type": "display_data"
    },
    {
     "data": {
      "text/html": [
       "<dt><a class=\"ProveItLink\" href=\"../../../_theory_nbs_/proofs/max_x_x_is_x/thm_proof.ipynb\">proveit.numbers.ordering.max_x_x_is_x</a></dt><dd><a class=\"ProveItLink\" href=\"../91369821e1f1c5ee80cf40ceb0e9a2e1ed8899360/expr.ipynb\"><img src=\"../91369821e1f1c5ee80cf40ceb0e9a2e1ed8899360/expr.png\" style=\"display:inline;vertical-align:middle;\" /></a></dd>"
      ],
      "text/plain": [
       "<IPython.core.display.HTML object>"
      ]
     },
     "metadata": {},
     "output_type": "display_data"
    },
    {
     "data": {
      "text/html": [
       "<dt><a class=\"ProveItLink\" href=\"../../../_theory_nbs_/proofs/max_y_ge_x/thm_proof.ipynb\">proveit.numbers.ordering.max_y_ge_x</a></dt><dd><a class=\"ProveItLink\" href=\"../9f8d0c05f21642d704f9ad81e216b493f42084f90/expr.ipynb\"><img src=\"../9f8d0c05f21642d704f9ad81e216b493f42084f90/expr.png\" style=\"display:inline;vertical-align:middle;\" /></a></dd>"
      ],
      "text/plain": [
       "<IPython.core.display.HTML object>"
      ]
     },
     "metadata": {},
     "output_type": "display_data"
    },
    {
     "data": {
      "text/html": [
       "<dt><a class=\"ProveItLink\" href=\"../../../_theory_nbs_/proofs/min_bin_args_commute/thm_proof.ipynb\">proveit.numbers.ordering.min_bin_args_commute</a></dt><dd><a class=\"ProveItLink\" href=\"../0e065a433b4f3aeea2ac6362a49e7e9bee60244f0/expr.ipynb\"><img src=\"../0e065a433b4f3aeea2ac6362a49e7e9bee60244f0/expr.png\" style=\"display:inline;vertical-align:middle;\" /></a></dd>"
      ],
      "text/plain": [
       "<IPython.core.display.HTML object>"
      ]
     },
     "metadata": {},
     "output_type": "display_data"
    },
    {
     "data": {
      "text/html": [
       "<dt><a class=\"ProveItLink\" href=\"../../../_theory_nbs_/proofs/min_nat_n_zero_is_zero/thm_proof.ipynb\">proveit.numbers.ordering.min_nat_n_zero_is_zero</a></dt><dd><a class=\"ProveItLink\" href=\"../feb316f151e2b66ea0a3ac1d6a23e334f77e59780/expr.ipynb\"><img src=\"../feb316f151e2b66ea0a3ac1d6a23e334f77e59780/expr.png\" style=\"display:inline;vertical-align:middle;\" /></a></dd>"
      ],
      "text/plain": [
       "<IPython.core.display.HTML object>"
      ]
     },
     "metadata": {},
     "output_type": "display_data"
    },
    {
     "data": {
      "text/html": [
       "<dt><a class=\"ProveItLink\" href=\"../../../_theory_nbs_/proofs/min_x_x_is_x/thm_proof.ipynb\">proveit.numbers.ordering.min_x_x_is_x</a></dt><dd><a class=\"ProveItLink\" href=\"../b437b622f518a2711294904f6bc7e614af22443e0/expr.ipynb\"><img src=\"../b437b622f518a2711294904f6bc7e614af22443e0/expr.png\" style=\"display:inline;vertical-align:middle;\" /></a></dd>"
      ],
      "text/plain": [
       "<IPython.core.display.HTML object>"
      ]
     },
     "metadata": {},
     "output_type": "display_data"
    },
    {
     "data": {
      "text/html": [
       "<dt><a class=\"ProveItLink\" href=\"../../../_theory_nbs_/proofs/min_y_le_x/thm_proof.ipynb\">proveit.numbers.ordering.min_y_le_x</a></dt><dd><a class=\"ProveItLink\" href=\"../c904403d1b888ebf89aaac7c499db036b8eba6dc0/expr.ipynb\"><img src=\"../c904403d1b888ebf89aaac7c499db036b8eba6dc0/expr.png\" style=\"display:inline;vertical-align:middle;\" /></a></dd>"
      ],
      "text/plain": [
       "<IPython.core.display.HTML object>"
      ]
     },
     "metadata": {},
     "output_type": "display_data"
    },
    {
     "data": {
      "text/html": [
       "<dt><a class=\"ProveItLink\" href=\"../../../../../physics/quantum/QPE/_theory_nbs_/proofs/_fail_sum_prob_conds_equiv_lemma/thm_proof.ipynb\">proveit.physics.quantum.QPE._fail_sum_prob_conds_equiv_lemma</a></dt><dd><a class=\"ProveItLink\" href=\"../../../../../physics/quantum/QPE/__pv_it/theorems/0a562497775decef0684b103fc6e5c149a6f3c490/expr.ipynb\"><img src=\"../../../../../physics/quantum/QPE/__pv_it/theorems/0a562497775decef0684b103fc6e5c149a6f3c490/expr.png\" style=\"display:inline;vertical-align:middle;\" /></a></dd>"
      ],
      "text/plain": [
       "<IPython.core.display.HTML object>"
      ]
     },
     "metadata": {},
     "output_type": "display_data"
    },
    {
     "data": {
      "text/html": [
       "<dt><a class=\"ProveItLink\" href=\"../../../../../physics/quantum/QPE/_theory_nbs_/proofs/_modabs_in_full_domain_simp/thm_proof.ipynb\">proveit.physics.quantum.QPE._modabs_in_full_domain_simp</a></dt><dd><a class=\"ProveItLink\" href=\"../../../../../physics/quantum/QPE/__pv_it/theorems/0fb99394f15210ee297c213071cd6210cf67fb1a0/expr.ipynb\"><img src=\"../../../../../physics/quantum/QPE/__pv_it/theorems/0fb99394f15210ee297c213071cd6210cf67fb1a0/expr.png\" style=\"display:inline;vertical-align:middle;\" /></a></dd>"
      ],
      "text/plain": [
       "<IPython.core.display.HTML object>"
      ]
     },
     "metadata": {},
     "output_type": "display_data"
    },
    {
     "data": {
      "text/html": [
       "</dl>"
      ],
      "text/plain": [
       "<IPython.core.display.HTML object>"
      ]
     },
     "metadata": {},
     "output_type": "display_data"
    }
   ],
   "source": [
    "%dependencies not_less_from_less_eq"
   ]
  }
 ],
 "metadata": {
  "kernelspec": {
   "display_name": "Python 3",
   "language": "python",
   "name": "python3"
  }
 },
 "nbformat": 4,
 "nbformat_minor": 0
}