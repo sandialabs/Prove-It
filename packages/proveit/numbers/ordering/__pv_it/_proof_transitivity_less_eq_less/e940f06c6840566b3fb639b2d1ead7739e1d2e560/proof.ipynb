{
 "cells": [
  {
   "cell_type": "markdown",
   "metadata": {},
   "source": [
    "Show the Proof\n",
    "========"
   ]
  },
  {
   "cell_type": "code",
   "execution_count": 1,
   "metadata": {},
   "outputs": [
    {
     "data": {
      "text/html": [
       "<table><tr><th>&nbsp;</th><th>step type</th><th>requirements</th><th>statement</th></tr>\n",
       "<tr><td><a name=\"proveit.numbers.ordering._proof_transitivity_less_eq_less.e940f06c6840566b3fb639b2d1ead7739e1d2e560_step0\">0</a></td><td>deduction</td><td><a href=\"#proveit.numbers.ordering._proof_transitivity_less_eq_less.e940f06c6840566b3fb639b2d1ead7739e1d2e560_step1\">1</a></td><td><span style=\"font-size:20px;\"><a class=\"ProveItLink\" href=\"../../theorems/568fa3bbc8036d6fb9bb87d609869de6437353400/expr.ipynb\"><img src=\"../../theorems/568fa3bbc8036d6fb9bb87d609869de6437353400/expr.png\" style=\"display:inline;vertical-align:middle;\" /></a> <a class=\"ProveItLink\" href=\"proof.ipynb\" style=\"text-decoration: none\">&nbsp;&#x22A2;&nbsp;&nbsp;</a><a class=\"ProveItLink\" href=\"../79ec613a9670671c446ffc9205f0adca627c84ed0/expr.ipynb\"><img src=\"../79ec613a9670671c446ffc9205f0adca627c84ed0/expr.png\" style=\"display:inline;vertical-align:middle;\" /></a></span></td></tr>\n",
       "<tr><td><a name=\"proveit.numbers.ordering._proof_transitivity_less_eq_less.e940f06c6840566b3fb639b2d1ead7739e1d2e560_step1\">1</a></td><td>instantiation</td><td><a href=\"#proveit.numbers.ordering._proof_transitivity_less_eq_less.e940f06c6840566b3fb639b2d1ead7739e1d2e560_step2\">2</a>, <a href=\"#proveit.numbers.ordering._proof_transitivity_less_eq_less.e940f06c6840566b3fb639b2d1ead7739e1d2e560_step3\">3</a>, <a href=\"#proveit.numbers.ordering._proof_transitivity_less_eq_less.e940f06c6840566b3fb639b2d1ead7739e1d2e560_step4\">4</a></td><td><span style=\"font-size:20px;\"><a class=\"ProveItLink\" href=\"../../theorems/44d10bba886cb9c03d8c1d01224b9827d41c27660/expr.ipynb\"><img src=\"../../theorems/44d10bba886cb9c03d8c1d01224b9827d41c27660/expr.png\" style=\"display:inline;vertical-align:middle;\" /></a>, <a class=\"ProveItLink\" href=\"../../theorems/568fa3bbc8036d6fb9bb87d609869de6437353400/expr.ipynb\"><img src=\"../../theorems/568fa3bbc8036d6fb9bb87d609869de6437353400/expr.png\" style=\"display:inline;vertical-align:middle;\" /></a> <a class=\"ProveItLink\" href=\"../6227dd4d6085a0d38e84d1156a3a408b279efce60/proof.ipynb\" style=\"text-decoration: none\">&nbsp;&#x22A2;&nbsp;&nbsp;</a><a class=\"ProveItLink\" href=\"../../theorems/379a915db37b0a2702f9d2f28f9d6723c69946af0/expr.ipynb\"><img src=\"../../theorems/379a915db37b0a2702f9d2f28f9d6723c69946af0/expr.png\" style=\"display:inline;vertical-align:middle;\" /></a></span></td></tr>\n",
       "<tr><td>&nbsp;</td><td colspan=4 style=\"text-align:left\"><span style=\"font-size:20px;\"><a class=\"ProveItLink\" href=\"../../../../../__pv_it/common/a0d9d672aa5e272d907247690c152cc2c6daafb70/expr.ipynb\"><img src=\"../../../../../__pv_it/common/a0d9d672aa5e272d907247690c152cc2c6daafb70/expr.png\" style=\"display:inline;vertical-align:middle;\" /></a> : <a class=\"ProveItLink\" href=\"../../../../../__pv_it/common/a0d9d672aa5e272d907247690c152cc2c6daafb70/expr.ipynb\"><img src=\"../../../../../__pv_it/common/a0d9d672aa5e272d907247690c152cc2c6daafb70/expr.png\" style=\"display:inline;vertical-align:middle;\" /></a>, <a class=\"ProveItLink\" href=\"../../../../../__pv_it/common/ff7dba4ef0bbe791ab573bf2d9c220a304399ac80/expr.ipynb\"><img src=\"../../../../../__pv_it/common/ff7dba4ef0bbe791ab573bf2d9c220a304399ac80/expr.png\" style=\"display:inline;vertical-align:middle;\" /></a> : <a class=\"ProveItLink\" href=\"../../../../../__pv_it/common/ff7dba4ef0bbe791ab573bf2d9c220a304399ac80/expr.ipynb\"><img src=\"../../../../../__pv_it/common/ff7dba4ef0bbe791ab573bf2d9c220a304399ac80/expr.png\" style=\"display:inline;vertical-align:middle;\" /></a>, <a class=\"ProveItLink\" href=\"../../../../../__pv_it/common/95a8f6b9b9f29b83f192ad7fd05708d6be097a3f0/expr.ipynb\"><img src=\"../../../../../__pv_it/common/95a8f6b9b9f29b83f192ad7fd05708d6be097a3f0/expr.png\" style=\"display:inline;vertical-align:middle;\" /></a> : <a class=\"ProveItLink\" href=\"../../../../../__pv_it/common/95a8f6b9b9f29b83f192ad7fd05708d6be097a3f0/expr.ipynb\"><img src=\"../../../../../__pv_it/common/95a8f6b9b9f29b83f192ad7fd05708d6be097a3f0/expr.png\" style=\"display:inline;vertical-align:middle;\" /></a></span></td></tr><tr><td><a name=\"proveit.numbers.ordering._proof_transitivity_less_eq_less.e940f06c6840566b3fb639b2d1ead7739e1d2e560_step2\">2</a></td><td>axiom</td><td></td><td><span style=\"font-size:20px;\"> <a class=\"ProveItLink\" href=\"../../../_theory_nbs_/axioms.ipynb#transitivity_less_less\" style=\"text-decoration: none\">&nbsp;&#x22A2;&nbsp;&nbsp;</a><a class=\"ProveItLink\" href=\"../../axioms/5b78a7ab6ba3fa1d1e3ffb772b8741309cc27b2a0/expr.ipynb\"><img src=\"../../axioms/5b78a7ab6ba3fa1d1e3ffb772b8741309cc27b2a0/expr.png\" style=\"display:inline;vertical-align:middle;\" /></a></span></td></tr>\n",
       "<tr><td>&nbsp;</td><td colspan=4 style-\"text-align:left\"><a class=\"ProveItLink\" href=\"../../../_theory_nbs_/axioms.ipynb#transitivity_less_less\">proveit.numbers.ordering.transitivity_less_less</a></td></tr><tr><td><a name=\"proveit.numbers.ordering._proof_transitivity_less_eq_less.e940f06c6840566b3fb639b2d1ead7739e1d2e560_step3\">3</a></td><td>assumption</td><td></td><td><span style=\"font-size:20px;\"><a class=\"ProveItLink\" href=\"../../theorems/44d10bba886cb9c03d8c1d01224b9827d41c27660/expr.ipynb\"><img src=\"../../theorems/44d10bba886cb9c03d8c1d01224b9827d41c27660/expr.png\" style=\"display:inline;vertical-align:middle;\" /></a> <a class=\"ProveItLink\" href=\"../2ea24ffcfa1f91fab9b22d2ae63dd99e07639b1f0/proof.ipynb\" style=\"text-decoration: none\">&nbsp;&#x22A2;&nbsp;&nbsp;</a><a class=\"ProveItLink\" href=\"../../theorems/44d10bba886cb9c03d8c1d01224b9827d41c27660/expr.ipynb\"><img src=\"../../theorems/44d10bba886cb9c03d8c1d01224b9827d41c27660/expr.png\" style=\"display:inline;vertical-align:middle;\" /></a></span></td></tr>\n",
       "<tr><td><a name=\"proveit.numbers.ordering._proof_transitivity_less_eq_less.e940f06c6840566b3fb639b2d1ead7739e1d2e560_step4\">4</a></td><td>assumption</td><td></td><td><span style=\"font-size:20px;\"><a class=\"ProveItLink\" href=\"../../theorems/568fa3bbc8036d6fb9bb87d609869de6437353400/expr.ipynb\"><img src=\"../../theorems/568fa3bbc8036d6fb9bb87d609869de6437353400/expr.png\" style=\"display:inline;vertical-align:middle;\" /></a> <a class=\"ProveItLink\" href=\"../1a9228581d0ec8f0e42bdc8485f73daec487bd770/proof.ipynb\" style=\"text-decoration: none\">&nbsp;&#x22A2;&nbsp;&nbsp;</a><a class=\"ProveItLink\" href=\"../../theorems/568fa3bbc8036d6fb9bb87d609869de6437353400/expr.ipynb\"><img src=\"../../theorems/568fa3bbc8036d6fb9bb87d609869de6437353400/expr.png\" style=\"display:inline;vertical-align:middle;\" /></a></span></td></tr>\n",
       "</table>"
      ],
      "text/plain": [
       "<proveit._core_.proof._ShowProof at 0x7f2cf4422470>"
      ]
     },
     "execution_count": 1,
     "metadata": {},
     "output_type": "execute_result"
    }
   ],
   "source": [
    "import proveit\n",
    "# Automation is not needed when only showing a stored proof:\n",
    "proveit.defaults.automation = False # This will speed things up.\n",
    "proveit.defaults.inline_pngs = False # Makes files smaller.\n",
    "%show_proof"
   ]
  },
  {
   "cell_type": "code",
   "execution_count": null,
   "metadata": {},
   "outputs": [],
   "source": []
  }
 ],
 "metadata": {
  "kernelspec": {
   "display_name": "Python 3",
   "language": "python",
   "name": "python3"
  }
 },
 "nbformat": 4,
 "nbformat_minor": 0
}