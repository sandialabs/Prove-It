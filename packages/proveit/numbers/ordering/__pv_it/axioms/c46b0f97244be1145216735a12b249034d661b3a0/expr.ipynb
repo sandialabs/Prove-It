{
 "cells": [
  {
   "cell_type": "markdown",
   "metadata": {},
   "source": [
    "Expression of type <a class=\"ProveItLink\" href=\"../../../../../../../doc/html/api/proveit.Lambda.html\">Lambda</a>\n",
    "=======================\n",
    "# from the theory of <a class=\"ProveItLink\" href=\"../../../_theory_nbs_/theory.ipynb\">proveit.numbers.ordering</a>"
   ]
  },
  {
   "cell_type": "code",
   "execution_count": 1,
   "metadata": {},
   "outputs": [],
   "source": [
    "import proveit\n",
    "# Automation is not needed when building an expression:\n",
    "proveit.defaults.automation = False # This will speed things up.\n",
    "proveit.defaults.inline_pngs = False # Makes files smaller.\n",
    "%load_expr # Load the stored expression as 'stored_expr'\n",
    "# import Expression classes needed to build the expression\n",
    "from proveit import Conditional, ExprRange, IndexedVar, Lambda, Variable, a, b, m\n",
    "from proveit.core_expr_types import a_1_to_m\n",
    "from proveit.logic import And, Equals, InSet\n",
    "from proveit.numbers import Min, Real, one"
   ]
  },
  {
   "cell_type": "code",
   "execution_count": 2,
   "metadata": {},
   "outputs": [
    {
     "data": {
      "text/html": [
       "<strong id=\"expr\">expr:</strong> <a class=\"ProveItLink\" href=\"expr.ipynb\"><img src=\"expr.png\" style=\"display:inline;vertical-align:middle;\" /></a><br>"
      ],
      "text/plain": [
       "<IPython.core.display.HTML object>"
      ]
     },
     "metadata": {},
     "output_type": "display_data"
    }
   ],
   "source": [
    "# build up the expression from sub-expressions\n",
    "sub_expr1 = Variable(\"_a\", latex_format = r\"{_{-}a}\")\n",
    "expr = Lambda([a_1_to_m, b], Conditional(Equals(Min(a_1_to_m, b), Min(Min(a_1_to_m), b)), And(ExprRange(sub_expr1, InSet(IndexedVar(a, sub_expr1), Real), one, m), InSet(b, Real))))"
   ]
  },
  {
   "cell_type": "code",
   "execution_count": 3,
   "metadata": {},
   "outputs": [
    {
     "name": "stdout",
     "output_type": "stream",
     "text": [
      "Passed sanity check: expr matches stored_expr\n"
     ]
    }
   ],
   "source": [
    "# check that the built expression is the same as the stored expression\n",
    "assert expr == stored_expr\n",
    "assert expr._style_id == stored_expr._style_id\n",
    "print(\"Passed sanity check: expr matches stored_expr\")"
   ]
  },
  {
   "cell_type": "code",
   "execution_count": 4,
   "metadata": {},
   "outputs": [
    {
     "name": "stdout",
     "output_type": "stream",
     "text": [
      "\\left(a_{1}, a_{2}, \\ldots, a_{m}, b\\right) \\mapsto \\left\\{{\\rm Min}\\left(a_{1}, a_{2}, \\ldots, a_{m}, b\\right) = {\\rm Min}\\left({\\rm Min}\\left(a_{1}, a_{2}, \\ldots, a_{m}\\right), b\\right) \\textrm{ if } \\left(a_{1} \\in \\mathbb{R}\\right) ,  \\left(a_{2} \\in \\mathbb{R}\\right) ,  \\ldots ,  \\left(a_{m} \\in \\mathbb{R}\\right) ,  b \\in \\mathbb{R}\\right..\n"
     ]
    }
   ],
   "source": [
    "# Show the LaTeX representation of the expression for convenience if you need it.\n",
    "print(stored_expr.latex())"
   ]
  },
  {
   "cell_type": "code",
   "execution_count": 5,
   "metadata": {},
   "outputs": [
    {
     "data": {
      "text/html": [
       "no style options"
      ],
      "text/plain": [
       "no style options"
      ]
     },
     "metadata": {},
     "output_type": "display_data"
    }
   ],
   "source": [
    "stored_expr.style_options()"
   ]
  },
  {
   "cell_type": "code",
   "execution_count": 6,
   "metadata": {},
   "outputs": [
    {
     "data": {
      "text/html": [
       "<table><tr><th>&nbsp;</th><th>core type</th><th>sub-expressions</th><th>expression</th></tr>\n",
       "<tr><td>0</td><td>Lambda</td><td>parameters:&nbsp;12<br>body:&nbsp;1<br></td><td><a class=\"ProveItLink\" href=\"expr.ipynb\"><img src=\"expr.png\" style=\"display:inline;vertical-align:middle;\" /></a></td></tr>\n",
       "<tr><td>1</td><td>Conditional</td><td>value:&nbsp;2<br>condition:&nbsp;3<br></td><td><a class=\"ProveItLink\" href=\"../c2171693f5fb8bde3419102452857954775c774f0/expr.ipynb\"><img src=\"../c2171693f5fb8bde3419102452857954775c774f0/expr.png\" style=\"display:inline;vertical-align:middle;\" /></a></td></tr>\n",
       "<tr><td>2</td><td>Operation</td><td>operator:&nbsp;4<br>operands:&nbsp;5<br></td><td><a class=\"ProveItLink\" href=\"../37af557d220ac76cace4c9add829e95d46be26240/expr.ipynb\"><img src=\"../37af557d220ac76cace4c9add829e95d46be26240/expr.png\" style=\"display:inline;vertical-align:middle;\" /></a></td></tr>\n",
       "<tr><td>3</td><td>Operation</td><td>operator:&nbsp;6<br>operands:&nbsp;7<br></td><td><a class=\"ProveItLink\" href=\"../d3cb949100067cfbc8fbdb78449d9e060c0b78220/expr.ipynb\"><img src=\"../d3cb949100067cfbc8fbdb78449d9e060c0b78220/expr.png\" style=\"display:inline;vertical-align:middle;\" /></a></td></tr>\n",
       "<tr><td>4</td><td>Literal</td><td></td><td><a class=\"ProveItLink\" href=\"../../../../../logic/equality/__pv_it/common/fb96dc12b2aa8801dda64d0132b396c63d1502bb0/expr.ipynb\"><img src=\"../../../../../logic/equality/__pv_it/common/fb96dc12b2aa8801dda64d0132b396c63d1502bb0/expr.png\" style=\"display:inline;vertical-align:middle;\" /></a></td></tr>\n",
       "<tr><td>5</td><td>ExprTuple</td><td>8, 9</td><td><a class=\"ProveItLink\" href=\"../1bc89ea04e544a75593ab5e36304e30daa9a4a270/expr.ipynb\"><img src=\"../1bc89ea04e544a75593ab5e36304e30daa9a4a270/expr.png\" style=\"display:inline;vertical-align:middle;\" /></a></td></tr>\n",
       "<tr><td>6</td><td>Literal</td><td></td><td><a class=\"ProveItLink\" href=\"../../../../../logic/booleans/conjunction/__pv_it/common/42118ff318bd65d98b1393f64ce7c2269feef76e0/expr.ipynb\"><img src=\"../../../../../logic/booleans/conjunction/__pv_it/common/42118ff318bd65d98b1393f64ce7c2269feef76e0/expr.png\" style=\"display:inline;vertical-align:middle;\" /></a></td></tr>\n",
       "<tr><td>7</td><td>ExprTuple</td><td>10, 11</td><td><a class=\"ProveItLink\" href=\"../a13d5852e5dbe38de970c4f94ad537bcb560a5f80/expr.ipynb\"><img src=\"../a13d5852e5dbe38de970c4f94ad537bcb560a5f80/expr.png\" style=\"display:inline;vertical-align:middle;\" /></a></td></tr>\n",
       "<tr><td>8</td><td>Operation</td><td>operator:&nbsp;19<br>operands:&nbsp;12<br></td><td><a class=\"ProveItLink\" href=\"../1c07338f73fa1e3ce9de13c4de4e6a060a392a770/expr.ipynb\"><img src=\"../1c07338f73fa1e3ce9de13c4de4e6a060a392a770/expr.png\" style=\"display:inline;vertical-align:middle;\" /></a></td></tr>\n",
       "<tr><td>9</td><td>Operation</td><td>operator:&nbsp;19<br>operands:&nbsp;13<br></td><td><a class=\"ProveItLink\" href=\"../904ecaa8811f81c453c71ac09e8d20c013024c2f0/expr.ipynb\"><img src=\"../904ecaa8811f81c453c71ac09e8d20c013024c2f0/expr.png\" style=\"display:inline;vertical-align:middle;\" /></a></td></tr>\n",
       "<tr><td>10</td><td>ExprRange</td><td>lambda_map:&nbsp;14<br>start_index:&nbsp;26<br>end_index:&nbsp;27<br></td><td><a class=\"ProveItLink\" href=\"../a7d600420e6ba9c52a6d31e27c04fb82ff1115be0/expr.ipynb\"><img src=\"../a7d600420e6ba9c52a6d31e27c04fb82ff1115be0/expr.png\" style=\"display:inline;vertical-align:middle;\" /></a></td></tr>\n",
       "<tr><td>11</td><td>Operation</td><td>operator:&nbsp;21<br>operands:&nbsp;15<br></td><td><a class=\"ProveItLink\" href=\"../6e5cad5b2984ed0d75bd47bd0c542ec447a4f3570/expr.ipynb\"><img src=\"../6e5cad5b2984ed0d75bd47bd0c542ec447a4f3570/expr.png\" style=\"display:inline;vertical-align:middle;\" /></a></td></tr>\n",
       "<tr><td>12</td><td>ExprTuple</td><td>23, 18</td><td><a class=\"ProveItLink\" href=\"../19405cf9df803d16ed6fce045569317b6e0f67e20/expr.ipynb\"><img src=\"../19405cf9df803d16ed6fce045569317b6e0f67e20/expr.png\" style=\"display:inline;vertical-align:middle;\" /></a></td></tr>\n",
       "<tr><td>13</td><td>ExprTuple</td><td>16, 18</td><td><a class=\"ProveItLink\" href=\"../58cda6f9d9fda56bca2ed43888f6a90f848389080/expr.ipynb\"><img src=\"../58cda6f9d9fda56bca2ed43888f6a90f848389080/expr.png\" style=\"display:inline;vertical-align:middle;\" /></a></td></tr>\n",
       "<tr><td>14</td><td>Lambda</td><td>parameter:&nbsp;31<br>body:&nbsp;17<br></td><td><a class=\"ProveItLink\" href=\"../673f2e509e0b4134da2bfb83fcd2e814659f6d9a0/expr.ipynb\"><img src=\"../673f2e509e0b4134da2bfb83fcd2e814659f6d9a0/expr.png\" style=\"display:inline;vertical-align:middle;\" /></a></td></tr>\n",
       "<tr><td>15</td><td>ExprTuple</td><td>18, 24</td><td><a class=\"ProveItLink\" href=\"../3cf9b209cada40f4dbeb74780e8d7cfa407b10aa0/expr.ipynb\"><img src=\"../3cf9b209cada40f4dbeb74780e8d7cfa407b10aa0/expr.png\" style=\"display:inline;vertical-align:middle;\" /></a></td></tr>\n",
       "<tr><td>16</td><td>Operation</td><td>operator:&nbsp;19<br>operands:&nbsp;20<br></td><td><a class=\"ProveItLink\" href=\"../03004caf196d158b3a7dd997d306722d92945d5a0/expr.ipynb\"><img src=\"../03004caf196d158b3a7dd997d306722d92945d5a0/expr.png\" style=\"display:inline;vertical-align:middle;\" /></a></td></tr>\n",
       "<tr><td>17</td><td>Operation</td><td>operator:&nbsp;21<br>operands:&nbsp;22<br></td><td><a class=\"ProveItLink\" href=\"../45d548b97d067920a871df03d8504195cfdf15220/expr.ipynb\"><img src=\"../45d548b97d067920a871df03d8504195cfdf15220/expr.png\" style=\"display:inline;vertical-align:middle;\" /></a></td></tr>\n",
       "<tr><td>18</td><td>Variable</td><td></td><td><a class=\"ProveItLink\" href=\"../../../../../__pv_it/common/195236b98c6c564a75b5dbada74b173bc52d5c3e0/expr.ipynb\"><img src=\"../../../../../__pv_it/common/195236b98c6c564a75b5dbada74b173bc52d5c3e0/expr.png\" style=\"display:inline;vertical-align:middle;\" /></a></td></tr>\n",
       "<tr><td>19</td><td>Literal</td><td></td><td><a class=\"ProveItLink\" href=\"../../common/02aff561bee7a3f97a38cab9c19dbc1e3070b9670/expr.ipynb\"><img src=\"../../common/02aff561bee7a3f97a38cab9c19dbc1e3070b9670/expr.png\" style=\"display:inline;vertical-align:middle;\" /></a></td></tr>\n",
       "<tr><td>20</td><td>ExprTuple</td><td>23</td><td><a class=\"ProveItLink\" href=\"../4a3affb8d94ea09e09cb392a1a13d01844a34d250/expr.ipynb\"><img src=\"../4a3affb8d94ea09e09cb392a1a13d01844a34d250/expr.png\" style=\"display:inline;vertical-align:middle;\" /></a></td></tr>\n",
       "<tr><td>21</td><td>Literal</td><td></td><td><a class=\"ProveItLink\" href=\"../../../../../logic/sets/membership/__pv_it/common/477487d8796864d23d5810f83761435f25167f690/expr.ipynb\"><img src=\"../../../../../logic/sets/membership/__pv_it/common/477487d8796864d23d5810f83761435f25167f690/expr.png\" style=\"display:inline;vertical-align:middle;\" /></a></td></tr>\n",
       "<tr><td>22</td><td>ExprTuple</td><td>28, 24</td><td><a class=\"ProveItLink\" href=\"../fe3b7639f3a3f460dce10a0148189b5a8a2af3560/expr.ipynb\"><img src=\"../fe3b7639f3a3f460dce10a0148189b5a8a2af3560/expr.png\" style=\"display:inline;vertical-align:middle;\" /></a></td></tr>\n",
       "<tr><td>23</td><td>ExprRange</td><td>lambda_map:&nbsp;25<br>start_index:&nbsp;26<br>end_index:&nbsp;27<br></td><td><a class=\"ProveItLink\" href=\"../../../../../core_expr_types/__pv_it/common/1b82bfd6d142c0dcddaa042c515eb9e5527f4b990/expr.ipynb\"><img src=\"../../../../../core_expr_types/__pv_it/common/1b82bfd6d142c0dcddaa042c515eb9e5527f4b990/expr.png\" style=\"display:inline;vertical-align:middle;\" /></a></td></tr>\n",
       "<tr><td>24</td><td>Literal</td><td></td><td><a class=\"ProveItLink\" href=\"../../../../number_sets/real_numbers/__pv_it/common/93cac87a1a47e613f7a83b23ef7891599a1a4cca0/expr.ipynb\"><img src=\"../../../../number_sets/real_numbers/__pv_it/common/93cac87a1a47e613f7a83b23ef7891599a1a4cca0/expr.png\" style=\"display:inline;vertical-align:middle;\" /></a></td></tr>\n",
       "<tr><td>25</td><td>Lambda</td><td>parameter:&nbsp;31<br>body:&nbsp;28<br></td><td><a class=\"ProveItLink\" href=\"../../../../../core_expr_types/__pv_it/common/1527ad383e12f9c6ed6b371c9a7dd1892d80da1b0/expr.ipynb\"><img src=\"../../../../../core_expr_types/__pv_it/common/1527ad383e12f9c6ed6b371c9a7dd1892d80da1b0/expr.png\" style=\"display:inline;vertical-align:middle;\" /></a></td></tr>\n",
       "<tr><td>26</td><td>Literal</td><td></td><td><a class=\"ProveItLink\" href=\"../../../../numerals/__pv_it/common/682157d4892d216d9e5626ed533aff9b56b9506e0/expr.ipynb\"><img src=\"../../../../numerals/__pv_it/common/682157d4892d216d9e5626ed533aff9b56b9506e0/expr.png\" style=\"display:inline;vertical-align:middle;\" /></a></td></tr>\n",
       "<tr><td>27</td><td>Variable</td><td></td><td><a class=\"ProveItLink\" href=\"../../../../../__pv_it/common/674a03b9c3ca221b3aabd5636837b31528ff33830/expr.ipynb\"><img src=\"../../../../../__pv_it/common/674a03b9c3ca221b3aabd5636837b31528ff33830/expr.png\" style=\"display:inline;vertical-align:middle;\" /></a></td></tr>\n",
       "<tr><td>28</td><td>IndexedVar</td><td>variable:&nbsp;29<br>index:&nbsp;31<br></td><td><a class=\"ProveItLink\" href=\"../../../../../core_expr_types/__pv_it/common/3a62c13e156d62d52fe585fa37cc2172fcf685260/expr.ipynb\"><img src=\"../../../../../core_expr_types/__pv_it/common/3a62c13e156d62d52fe585fa37cc2172fcf685260/expr.png\" style=\"display:inline;vertical-align:middle;\" /></a></td></tr>\n",
       "<tr><td>29</td><td>Variable</td><td></td><td><a class=\"ProveItLink\" href=\"../../../../../__pv_it/common/c06c606ec12678c58933ac85412ecadc2ae28be60/expr.ipynb\"><img src=\"../../../../../__pv_it/common/c06c606ec12678c58933ac85412ecadc2ae28be60/expr.png\" style=\"display:inline;vertical-align:middle;\" /></a></td></tr>\n",
       "<tr><td>30</td><td>ExprTuple</td><td>31</td><td><a class=\"ProveItLink\" href=\"../../../../../core_expr_types/__pv_it/common/4b0dd6be36d76552eda6a95d5b4a27f5a5b62f900/expr.ipynb\"><img src=\"../../../../../core_expr_types/__pv_it/common/4b0dd6be36d76552eda6a95d5b4a27f5a5b62f900/expr.png\" style=\"display:inline;vertical-align:middle;\" /></a></td></tr>\n",
       "<tr><td>31</td><td>Variable</td><td></td><td><a class=\"ProveItLink\" href=\"../../../../../core_expr_types/__pv_it/common/006c465e50948aa2b52285e2de47974f741255cc0/expr.ipynb\"><img src=\"../../../../../core_expr_types/__pv_it/common/006c465e50948aa2b52285e2de47974f741255cc0/expr.png\" style=\"display:inline;vertical-align:middle;\" /></a></td></tr>\n",
       "</table>\n"
      ],
      "text/plain": [
       "0. (a_{1}, a_{2}, ..., a_{m}, b) -> {Min(a_{1}, a_{2}, ..., a_{m}, b) = Min(Min(a_{1}, a_{2}, ..., a_{m}), b) if (a_{1} in Real) ,  (a_{2} in Real) ,  ... ,  (a_{m} in Real) ,  b in Real.\n",
       "   core type: Lambda\n",
       "   parameters: 12\\n   body: 1\n",
       "1. {Min(a_{1}, a_{2}, ..., a_{m}, b) = Min(Min(a_{1}, a_{2}, ..., a_{m}), b) if (a_{1} in Real) ,  (a_{2} in Real) ,  ... ,  (a_{m} in Real) ,  b in Real.\n",
       "   core type: Conditional\n",
       "   value: 2\n",
       "   condition: 3\n",
       "2. Min(a_{1}, a_{2}, ..., a_{m}, b) = Min(Min(a_{1}, a_{2}, ..., a_{m}), b)\n",
       "   core type: Operation\n",
       "   operator: 4\n",
       "   operands: 5\n",
       "3. (a_{1} in Real) and  (a_{2} in Real) and  ... and  (a_{m} in Real) and (b in Real)\n",
       "   core type: Operation\n",
       "   operator: 6\n",
       "   operands: 7\n",
       "4. =\n",
       "   core type: Literal\n",
       "   sub-expressions: \n",
       "5. (Min(a_{1}, a_{2}, ..., a_{m}, b), Min(Min(a_{1}, a_{2}, ..., a_{m}), b))\n",
       "   core type: ExprTuple\n",
       "   sub-expressions: 8, 9\n",
       "6. and\n",
       "   core type: Literal\n",
       "   sub-expressions: \n",
       "7. ((a_{1} in Real), (a_{2} in Real), ..., (a_{m} in Real), b in Real)\n",
       "   core type: ExprTuple\n",
       "   sub-expressions: 10, 11\n",
       "8. Min(a_{1}, a_{2}, ..., a_{m}, b)\n",
       "   core type: Operation\n",
       "   operator: 19\n",
       "   operands: 12\n",
       "9. Min(Min(a_{1}, a_{2}, ..., a_{m}), b)\n",
       "   core type: Operation\n",
       "   operator: 19\n",
       "   operands: 13\n",
       "10. (a_{1} in Real), (a_{2} in Real), ..., (a_{m} in Real)\n",
       "    core type: ExprRange\n",
       "    lambda_map: 14\n",
       "    start_index: 26\n",
       "    end_index: 27\n",
       "11. b in Real\n",
       "    core type: Operation\n",
       "    operator: 21\n",
       "    operands: 15\n",
       "12. (a_{1}, a_{2}, ..., a_{m}, b)\n",
       "    core type: ExprTuple\n",
       "    sub-expressions: 23, 18\n",
       "13. (Min(a_{1}, a_{2}, ..., a_{m}), b)\n",
       "    core type: ExprTuple\n",
       "    sub-expressions: 16, 18\n",
       "14. _a -> (a_{_a} in Real)\n",
       "    core type: Lambda\n",
       "    parameter: 31\n",
       "    body: 17\n",
       "15. (b, Real)\n",
       "    core type: ExprTuple\n",
       "    sub-expressions: 18, 24\n",
       "16. Min(a_{1}, a_{2}, ..., a_{m})\n",
       "    core type: Operation\n",
       "    operator: 19\n",
       "    operands: 20\n",
       "17. a_{_a} in Real\n",
       "    core type: Operation\n",
       "    operator: 21\n",
       "    operands: 22\n",
       "18. b\n",
       "    core type: Variable\n",
       "    sub-expressions: \n",
       "19. Min\n",
       "    core type: Literal\n",
       "    sub-expressions: \n",
       "20. (a_{1}, a_{2}, ..., a_{m})\n",
       "    core type: ExprTuple\n",
       "    sub-expressions: 23\n",
       "21. in\n",
       "    core type: Literal\n",
       "    sub-expressions: \n",
       "22. (a_{_a}, Real)\n",
       "    core type: ExprTuple\n",
       "    sub-expressions: 28, 24\n",
       "23. a_{1}, a_{2}, ..., a_{m}\n",
       "    core type: ExprRange\n",
       "    lambda_map: 25\n",
       "    start_index: 26\n",
       "    end_index: 27\n",
       "24. Real\n",
       "    core type: Literal\n",
       "    sub-expressions: \n",
       "25. _a -> a_{_a}\n",
       "    core type: Lambda\n",
       "    parameter: 31\n",
       "    body: 28\n",
       "26. 1\n",
       "    core type: Literal\n",
       "    sub-expressions: \n",
       "27. m\n",
       "    core type: Variable\n",
       "    sub-expressions: \n",
       "28. a_{_a}\n",
       "    core type: IndexedVar\n",
       "variable: 29\n",
       "index: 31\n",
       "29. a\n",
       "    core type: Variable\n",
       "    sub-expressions: \n",
       "30. (_a)\n",
       "    core type: ExprTuple\n",
       "    sub-expressions: 31\n",
       "31. _a\n",
       "    core type: Variable\n",
       "    sub-expressions: "
      ]
     },
     "metadata": {},
     "output_type": "display_data"
    }
   ],
   "source": [
    "# display the expression information\n",
    "stored_expr.expr_info()"
   ]
  },
  {
   "cell_type": "code",
   "execution_count": null,
   "metadata": {},
   "outputs": [],
   "source": []
  }
 ],
 "metadata": {
  "kernelspec": {
   "display_name": "Python 3",
   "language": "python",
   "name": "python3"
  }
 },
 "nbformat": 4,
 "nbformat_minor": 0
}