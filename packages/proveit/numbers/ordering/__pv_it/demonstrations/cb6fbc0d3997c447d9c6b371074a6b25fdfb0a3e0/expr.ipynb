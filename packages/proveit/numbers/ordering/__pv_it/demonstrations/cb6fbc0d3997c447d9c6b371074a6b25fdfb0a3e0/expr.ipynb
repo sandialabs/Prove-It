{
 "cells": [
  {
   "cell_type": "markdown",
   "metadata": {},
   "source": [
    "Expression of type <a class=\"ProveItLink\" href=\"../../../../../../../doc/html/api/proveit.ExprTuple.html\">ExprTuple</a>\n",
    "=======================\n",
    "# from the theory of <a class=\"ProveItLink\" href=\"../../../_theory_nbs_/theory.ipynb\">proveit.numbers.ordering</a>"
   ]
  },
  {
   "cell_type": "code",
   "execution_count": 1,
   "metadata": {},
   "outputs": [],
   "source": [
    "import proveit\n",
    "# Automation is not needed when building an expression:\n",
    "proveit.defaults.automation = False # This will speed things up.\n",
    "proveit.defaults.inline_pngs = False # Makes files smaller.\n",
    "%load_expr # Load the stored expression as 'stored_expr'\n",
    "# import Expression classes needed to build the expression\n",
    "from proveit import Conditional, ConditionalSet, ExprTuple, c, d\n",
    "from proveit.logic import FALSE\n",
    "from proveit.numbers import greater, greater_eq"
   ]
  },
  {
   "cell_type": "code",
   "execution_count": 2,
   "metadata": {},
   "outputs": [
    {
     "data": {
      "text/html": [
       "<strong id=\"expr\">expr:</strong> <a class=\"ProveItLink\" href=\"expr.ipynb\"><img src=\"expr.png\" style=\"display:inline;vertical-align:middle;\" /></a><br>"
      ],
      "text/plain": [
       "<IPython.core.display.HTML object>"
      ]
     },
     "metadata": {},
     "output_type": "display_data"
    }
   ],
   "source": [
    "# build up the expression from sub-expressions\n",
    "expr = ExprTuple(ConditionalSet(Conditional(c, greater_eq(c, d)), Conditional(d, greater(d, c))), ConditionalSet(c, Conditional(d, FALSE)))"
   ]
  },
  {
   "cell_type": "code",
   "execution_count": 3,
   "metadata": {},
   "outputs": [
    {
     "name": "stdout",
     "output_type": "stream",
     "text": [
      "Passed sanity check: expr matches stored_expr\n"
     ]
    }
   ],
   "source": [
    "# check that the built expression is the same as the stored expression\n",
    "assert expr == stored_expr\n",
    "assert expr._style_id == stored_expr._style_id\n",
    "print(\"Passed sanity check: expr matches stored_expr\")"
   ]
  },
  {
   "cell_type": "code",
   "execution_count": 4,
   "metadata": {},
   "outputs": [
    {
     "name": "stdout",
     "output_type": "stream",
     "text": [
      "\\left(\\left\\{\\begin{array}{ccc}c \\textrm{ if } c \\geq d \\\\ d \\textrm{ if } d > c\\end{array}\\right.., \\left\\{\\begin{array}{ccc}c \\\\ d \\textrm{ if } \\bot\\end{array}\\right..\\right)\n"
     ]
    }
   ],
   "source": [
    "# Show the LaTeX representation of the expression for convenience if you need it.\n",
    "print(stored_expr.latex())"
   ]
  },
  {
   "cell_type": "code",
   "execution_count": 5,
   "metadata": {},
   "outputs": [
    {
     "data": {
      "text/html": [
       "<table>\n",
       "<tr><th>name</th><th>description</th><th>default</th><th>current value</th><th>related methods</th></tr><tr><td>wrap_positions</td><td>position(s) at which wrapping is to occur; 'n' is after the nth comma.</td><td>()</td><td>()</td><td>('with_wrapping_at',)</td></tr>\n",
       "<tr><td>justification</td><td>if any wrap positions are set, justify to the 'left', 'center', or 'right'</td><td>left</td><td>left</td><td>('with_justification',)</td></tr>\n",
       "</table>\n"
      ],
      "text/plain": [
       "style name: wrap_positions\n",
       "description: position(s) at which wrapping is to occur; 'n' is after the nth comma.\n",
       "default: ()\n",
       "current value: ()\n",
       "related methods: ('with_wrapping_at',)\n",
       "style name: justification\n",
       "description: if any wrap positions are set, justify to the 'left', 'center', or 'right'\n",
       "default: left\n",
       "current value: left\n",
       "related methods: ('with_justification',)"
      ]
     },
     "metadata": {},
     "output_type": "display_data"
    }
   ],
   "source": [
    "stored_expr.style_options()"
   ]
  },
  {
   "cell_type": "code",
   "execution_count": 6,
   "metadata": {},
   "outputs": [
    {
     "data": {
      "text/html": [
       "<table><tr><th>&nbsp;</th><th>core type</th><th>sub-expressions</th><th>expression</th></tr>\n",
       "<tr><td>0</td><td>ExprTuple</td><td>1, 2</td><td><a class=\"ProveItLink\" href=\"expr.ipynb\"><img src=\"expr.png\" style=\"display:inline;vertical-align:middle;\" /></a></td></tr>\n",
       "<tr><td>1</td><td>Operation</td><td>operator:&nbsp;4<br>operands:&nbsp;3<br></td><td><a class=\"ProveItLink\" href=\"../aba561ae4933da35e4c1373989249364c22c71870/expr.ipynb\"><img src=\"../aba561ae4933da35e4c1373989249364c22c71870/expr.png\" style=\"display:inline;vertical-align:middle;\" /></a></td></tr>\n",
       "<tr><td>2</td><td>Operation</td><td>operator:&nbsp;4<br>operands:&nbsp;5<br></td><td><a class=\"ProveItLink\" href=\"../db6df1e7ce288baacf339991671530507f8426bb0/expr.ipynb\"><img src=\"../db6df1e7ce288baacf339991671530507f8426bb0/expr.png\" style=\"display:inline;vertical-align:middle;\" /></a></td></tr>\n",
       "<tr><td>3</td><td>ExprTuple</td><td>6, 7</td><td><a class=\"ProveItLink\" href=\"../a6071523d56b58d2355dd2c5cc1cd5be6f0e76410/expr.ipynb\"><img src=\"../a6071523d56b58d2355dd2c5cc1cd5be6f0e76410/expr.png\" style=\"display:inline;vertical-align:middle;\" /></a></td></tr>\n",
       "<tr><td>4</td><td>Literal</td><td></td><td><a class=\"ProveItLink\" href=\"../../axioms/83d667c64f29f6c733f867a4bce407455c5de51e0/expr.ipynb\"><img src=\"../../../../../_core_/expression/conditional/__pv_it/common/83d667c64f29f6c733f867a4bce407455c5de51e0/expr.png\" style=\"display:inline;vertical-align:middle;\" /></a></td></tr>\n",
       "<tr><td>5</td><td>ExprTuple</td><td>16, 8</td><td><a class=\"ProveItLink\" href=\"../7119b69eae08da82481f4a2caca430d20de026680/expr.ipynb\"><img src=\"../7119b69eae08da82481f4a2caca430d20de026680/expr.png\" style=\"display:inline;vertical-align:middle;\" /></a></td></tr>\n",
       "<tr><td>6</td><td>Conditional</td><td>value:&nbsp;16<br>condition:&nbsp;9<br></td><td><a class=\"ProveItLink\" href=\"../d0915181ae803e2518a39e2f6d2e5d42f3e8bd1e0/expr.ipynb\"><img src=\"../d0915181ae803e2518a39e2f6d2e5d42f3e8bd1e0/expr.png\" style=\"display:inline;vertical-align:middle;\" /></a></td></tr>\n",
       "<tr><td>7</td><td>Conditional</td><td>value:&nbsp;17<br>condition:&nbsp;10<br></td><td><a class=\"ProveItLink\" href=\"../56ee0b1f652a1e3a2afd3cd6f9daae44c444cf5e0/expr.ipynb\"><img src=\"../56ee0b1f652a1e3a2afd3cd6f9daae44c444cf5e0/expr.png\" style=\"display:inline;vertical-align:middle;\" /></a></td></tr>\n",
       "<tr><td>8</td><td>Conditional</td><td>value:&nbsp;17<br>condition:&nbsp;11<br></td><td><a class=\"ProveItLink\" href=\"../8fc3b369a481c785a3c4a3274b9b858e9e56dfa60/expr.ipynb\"><img src=\"../8fc3b369a481c785a3c4a3274b9b858e9e56dfa60/expr.png\" style=\"display:inline;vertical-align:middle;\" /></a></td></tr>\n",
       "<tr><td>9</td><td>Operation</td><td>operator:&nbsp;12<br>operands:&nbsp;13<br></td><td><a class=\"ProveItLink\" href=\"../a5a701ab1a45e0b043b7f71af56ba846224d6bb70/expr.ipynb\"><img src=\"../a5a701ab1a45e0b043b7f71af56ba846224d6bb70/expr.png\" style=\"display:inline;vertical-align:middle;\" /></a></td></tr>\n",
       "<tr><td>10</td><td>Operation</td><td>operator:&nbsp;14<br>operands:&nbsp;15<br></td><td><a class=\"ProveItLink\" href=\"../25ffbd7959c39b9fdf5e33fd8db14e8ea2432a5a0/expr.ipynb\"><img src=\"../25ffbd7959c39b9fdf5e33fd8db14e8ea2432a5a0/expr.png\" style=\"display:inline;vertical-align:middle;\" /></a></td></tr>\n",
       "<tr><td>11</td><td>Literal</td><td></td><td><a class=\"ProveItLink\" href=\"../../../../../logic/booleans/__pv_it/common/e0f123f2e4f322e1eba7f861749cda9fd9d99a120/expr.ipynb\"><img src=\"../../../../../logic/booleans/__pv_it/common/e0f123f2e4f322e1eba7f861749cda9fd9d99a120/expr.png\" style=\"display:inline;vertical-align:middle;\" /></a></td></tr>\n",
       "<tr><td>12</td><td>Literal</td><td></td><td><a class=\"ProveItLink\" href=\"../../common/68379698d72b4689bbda4b5c5cca29ee599d70280/expr.ipynb\"><img src=\"../../common/68379698d72b4689bbda4b5c5cca29ee599d70280/expr.png\" style=\"display:inline;vertical-align:middle;\" /></a></td></tr>\n",
       "<tr><td>13</td><td>ExprTuple</td><td>17, 16</td><td><a class=\"ProveItLink\" href=\"../91149f37ce763f91960b9c454931e9ce39a0661f0/expr.ipynb\"><img src=\"../91149f37ce763f91960b9c454931e9ce39a0661f0/expr.png\" style=\"display:inline;vertical-align:middle;\" /></a></td></tr>\n",
       "<tr><td>14</td><td>Literal</td><td></td><td><a class=\"ProveItLink\" href=\"../../common/fa503ed52033522c609eef1cf3e1b45796489da50/expr.ipynb\"><img src=\"../../common/fa503ed52033522c609eef1cf3e1b45796489da50/expr.png\" style=\"display:inline;vertical-align:middle;\" /></a></td></tr>\n",
       "<tr><td>15</td><td>ExprTuple</td><td>16, 17</td><td><a class=\"ProveItLink\" href=\"../f336fa46d73583f2c4c9aeb5e26e359cc42790830/expr.ipynb\"><img src=\"../f336fa46d73583f2c4c9aeb5e26e359cc42790830/expr.png\" style=\"display:inline;vertical-align:middle;\" /></a></td></tr>\n",
       "<tr><td>16</td><td>Variable</td><td></td><td><a class=\"ProveItLink\" href=\"../../../../../__pv_it/common/ceef4280a2f1cc604b455b54e735507244cc62cd0/expr.ipynb\"><img src=\"../../../../../__pv_it/common/ceef4280a2f1cc604b455b54e735507244cc62cd0/expr.png\" style=\"display:inline;vertical-align:middle;\" /></a></td></tr>\n",
       "<tr><td>17</td><td>Variable</td><td></td><td><a class=\"ProveItLink\" href=\"../../../../../__pv_it/common/4f5c524ffda87296de1c79b96880123fe2efedd50/expr.ipynb\"><img src=\"../../../../../__pv_it/common/4f5c524ffda87296de1c79b96880123fe2efedd50/expr.png\" style=\"display:inline;vertical-align:middle;\" /></a></td></tr>\n",
       "</table>\n"
      ],
      "text/plain": [
       "0. ({c if c >= d; d if d > c., {c; d if FALSE.)\n",
       "   core type: ExprTuple\n",
       "   sub-expressions: 1, 2\n",
       "1. {c if c >= d; d if d > c.\n",
       "   core type: Operation\n",
       "   operator: 4\n",
       "   operands: 3\n",
       "2. {c; d if FALSE.\n",
       "   core type: Operation\n",
       "   operator: 4\n",
       "   operands: 5\n",
       "3. (c if c >= d, d if d > c)\n",
       "   core type: ExprTuple\n",
       "   sub-expressions: 6, 7\n",
       "4. CondSet\n",
       "   core type: Literal\n",
       "   sub-expressions: \n",
       "5. (c, d if FALSE)\n",
       "   core type: ExprTuple\n",
       "   sub-expressions: 16, 8\n",
       "6. {c if c >= d.\n",
       "   core type: Conditional\n",
       "   value: 16\n",
       "   condition: 9\n",
       "7. {d if d > c.\n",
       "   core type: Conditional\n",
       "   value: 17\n",
       "   condition: 10\n",
       "8. {d if FALSE.\n",
       "   core type: Conditional\n",
       "   value: 17\n",
       "   condition: 11\n",
       "9. c >= d\n",
       "   core type: Operation\n",
       "   operator: 12\n",
       "   operands: 13\n",
       "10. d > c\n",
       "    core type: Operation\n",
       "    operator: 14\n",
       "    operands: 15\n",
       "11. FALSE\n",
       "    core type: Literal\n",
       "    sub-expressions: \n",
       "12. <=\n",
       "    core type: Literal\n",
       "    sub-expressions: \n",
       "13. (d, c)\n",
       "    core type: ExprTuple\n",
       "    sub-expressions: 17, 16\n",
       "14. <\n",
       "    core type: Literal\n",
       "    sub-expressions: \n",
       "15. (c, d)\n",
       "    core type: ExprTuple\n",
       "    sub-expressions: 16, 17\n",
       "16. c\n",
       "    core type: Variable\n",
       "    sub-expressions: \n",
       "17. d\n",
       "    core type: Variable\n",
       "    sub-expressions: "
      ]
     },
     "metadata": {},
     "output_type": "display_data"
    }
   ],
   "source": [
    "# display the expression information\n",
    "stored_expr.expr_info()"
   ]
  },
  {
   "cell_type": "code",
   "execution_count": null,
   "metadata": {},
   "outputs": [],
   "source": []
  }
 ],
 "metadata": {
  "kernelspec": {
   "display_name": "Python 3",
   "language": "python",
   "name": "python3"
  }
 },
 "nbformat": 4,
 "nbformat_minor": 0
}