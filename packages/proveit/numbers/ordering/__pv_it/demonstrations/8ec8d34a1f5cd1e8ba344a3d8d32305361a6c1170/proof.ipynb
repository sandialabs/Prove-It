{
 "cells": [
  {
   "cell_type": "markdown",
   "metadata": {},
   "source": [
    "Show the Proof\n",
    "========"
   ]
  },
  {
   "cell_type": "code",
   "execution_count": 1,
   "metadata": {},
   "outputs": [
    {
     "data": {
      "text/html": [
       "<table><tr><th>&nbsp;</th><th>step type</th><th>requirements</th><th>statement</th></tr>\n",
       "<tr><td><a name=\"proveit.numbers.ordering.demonstrations.8ec8d34a1f5cd1e8ba344a3d8d32305361a6c1170_step0\">0</a></td><td>instantiation</td><td><a href=\"#proveit.numbers.ordering.demonstrations.8ec8d34a1f5cd1e8ba344a3d8d32305361a6c1170_step1\">1</a>, <a href=\"#proveit.numbers.ordering.demonstrations.8ec8d34a1f5cd1e8ba344a3d8d32305361a6c1170_step2\">2</a>, <a href=\"#proveit.numbers.ordering.demonstrations.8ec8d34a1f5cd1e8ba344a3d8d32305361a6c1170_step3\">3</a></td><td><span style=\"font-size:20px;\"><a class=\"ProveItLink\" href=\"../727e41fdf2d772522c8d75855fd225d4ba73b9f80/expr.ipynb\"><img src=\"../727e41fdf2d772522c8d75855fd225d4ba73b9f80/expr.png\" style=\"display:inline;vertical-align:middle;\" /></a>, <a class=\"ProveItLink\" href=\"../db5ecd2923e447bd3a0075247ae8fe235b5e2ca60/expr.ipynb\"><img src=\"../db5ecd2923e447bd3a0075247ae8fe235b5e2ca60/expr.png\" style=\"display:inline;vertical-align:middle;\" /></a>, <a class=\"ProveItLink\" href=\"../585c53702697cf7fd692665e03a306bf03ff58fc0/expr.ipynb\"><img src=\"../585c53702697cf7fd692665e03a306bf03ff58fc0/expr.png\" style=\"display:inline;vertical-align:middle;\" /></a> <a class=\"ProveItLink\" href=\"proof.ipynb\" style=\"text-decoration: none\">&nbsp;&#x22A2;&nbsp;&nbsp;</a><a class=\"ProveItLink\" href=\"../fc2838e8a19cb67dd6b2bc52245ee98ae1d1cbf40/expr.ipynb\"><img src=\"../fc2838e8a19cb67dd6b2bc52245ee98ae1d1cbf40/expr.png\" style=\"display:inline;vertical-align:middle;\" /></a></span></td></tr>\n",
       "<tr><td>&nbsp;</td><td colspan=4 style=\"text-align:left\"><span style=\"font-size:20px;\"><a class=\"ProveItLink\" href=\"../1d99392da58b40374b949787020ddefb47f454cd0/expr.ipynb\"><img src=\"../1d99392da58b40374b949787020ddefb47f454cd0/expr.png\" style=\"display:inline;vertical-align:middle;\" /></a> : <a class=\"ProveItLink\" href=\"../f077708654e1a0311f3826fd3f80cad94cf4b35c0/expr.ipynb\"><img src=\"../f077708654e1a0311f3826fd3f80cad94cf4b35c0/expr.png\" style=\"display:inline;vertical-align:middle;\" /></a>, <a class=\"ProveItLink\" href=\"../../../../../__pv_it/common/a0d9d672aa5e272d907247690c152cc2c6daafb70/expr.ipynb\"><img src=\"../../../../../__pv_it/common/a0d9d672aa5e272d907247690c152cc2c6daafb70/expr.png\" style=\"display:inline;vertical-align:middle;\" /></a> : <a class=\"ProveItLink\" href=\"../../../../../__pv_it/common/ceef4280a2f1cc604b455b54e735507244cc62cd0/expr.ipynb\"><img src=\"../../../../../__pv_it/common/ceef4280a2f1cc604b455b54e735507244cc62cd0/expr.png\" style=\"display:inline;vertical-align:middle;\" /></a>, <a class=\"ProveItLink\" href=\"../../../../../__pv_it/common/ff7dba4ef0bbe791ab573bf2d9c220a304399ac80/expr.ipynb\"><img src=\"../../../../../__pv_it/common/ff7dba4ef0bbe791ab573bf2d9c220a304399ac80/expr.png\" style=\"display:inline;vertical-align:middle;\" /></a> : <a class=\"ProveItLink\" href=\"../../../../../__pv_it/common/4f5c524ffda87296de1c79b96880123fe2efedd50/expr.ipynb\"><img src=\"../../../../../__pv_it/common/4f5c524ffda87296de1c79b96880123fe2efedd50/expr.png\" style=\"display:inline;vertical-align:middle;\" /></a></span></td></tr><tr><td><a name=\"proveit.numbers.ordering.demonstrations.8ec8d34a1f5cd1e8ba344a3d8d32305361a6c1170_step1\">1</a></td><td>theorem</td><td></td><td><span style=\"font-size:20px;\"> <a class=\"ProveItLink\" href=\"../../../../../logic/equality/_theory_nbs_/proofs/sub_right_side_into/thm_proof.ipynb\" style=\"text-decoration: none\">&nbsp;&#x22A2;&nbsp;&nbsp;</a><a class=\"ProveItLink\" href=\"../../../../../logic/equality/__pv_it/theorems/6f117f8e22b1de06fedba415f5137beb876c1d570/expr.ipynb\"><img src=\"../../../../../logic/equality/__pv_it/theorems/6f117f8e22b1de06fedba415f5137beb876c1d570/expr.png\" style=\"display:inline;vertical-align:middle;\" /></a></span></td></tr>\n",
       "<tr><td>&nbsp;</td><td colspan=4 style-\"text-align:left\"><a class=\"ProveItLink\" href=\"../../../../../logic/equality/_theory_nbs_/proofs/sub_right_side_into/thm_proof.ipynb\">proveit.logic.equality.sub_right_side_into</a></td></tr><tr><td><a name=\"proveit.numbers.ordering.demonstrations.8ec8d34a1f5cd1e8ba344a3d8d32305361a6c1170_step2\">2</a></td><td>instantiation</td><td><a href=\"#proveit.numbers.ordering.demonstrations.8ec8d34a1f5cd1e8ba344a3d8d32305361a6c1170_step4\">4</a>, <a href=\"#proveit.numbers.ordering.demonstrations.8ec8d34a1f5cd1e8ba344a3d8d32305361a6c1170_step5\">5</a>, <a href=\"#proveit.numbers.ordering.demonstrations.8ec8d34a1f5cd1e8ba344a3d8d32305361a6c1170_step6\">6</a></td><td><span style=\"font-size:20px;\"><a class=\"ProveItLink\" href=\"../727e41fdf2d772522c8d75855fd225d4ba73b9f80/expr.ipynb\"><img src=\"../727e41fdf2d772522c8d75855fd225d4ba73b9f80/expr.png\" style=\"display:inline;vertical-align:middle;\" /></a>, <a class=\"ProveItLink\" href=\"../db5ecd2923e447bd3a0075247ae8fe235b5e2ca60/expr.ipynb\"><img src=\"../db5ecd2923e447bd3a0075247ae8fe235b5e2ca60/expr.png\" style=\"display:inline;vertical-align:middle;\" /></a> <a class=\"ProveItLink\" href=\"../0c6455bb93c95c6f94dbd22a31b961f27112d23b0/proof.ipynb\" style=\"text-decoration: none\">&nbsp;&#x22A2;&nbsp;&nbsp;</a><a class=\"ProveItLink\" href=\"../57413596af4c18f4c2c2c7e249a54ad620b87b870/expr.ipynb\"><img src=\"../57413596af4c18f4c2c2c7e249a54ad620b87b870/expr.png\" style=\"display:inline;vertical-align:middle;\" /></a></span></td></tr>\n",
       "<tr><td>&nbsp;</td><td colspan=4 style=\"text-align:left\"><span style=\"font-size:20px;\"><a class=\"ProveItLink\" href=\"../../../../../__pv_it/common/a0d9d672aa5e272d907247690c152cc2c6daafb70/expr.ipynb\"><img src=\"../../../../../__pv_it/common/a0d9d672aa5e272d907247690c152cc2c6daafb70/expr.png\" style=\"display:inline;vertical-align:middle;\" /></a> : <a class=\"ProveItLink\" href=\"../../../../../__pv_it/common/195236b98c6c564a75b5dbada74b173bc52d5c3e0/expr.ipynb\"><img src=\"../../../../../__pv_it/common/195236b98c6c564a75b5dbada74b173bc52d5c3e0/expr.png\" style=\"display:inline;vertical-align:middle;\" /></a>, <a class=\"ProveItLink\" href=\"../../../../../__pv_it/common/ff7dba4ef0bbe791ab573bf2d9c220a304399ac80/expr.ipynb\"><img src=\"../../../../../__pv_it/common/ff7dba4ef0bbe791ab573bf2d9c220a304399ac80/expr.png\" style=\"display:inline;vertical-align:middle;\" /></a> : <a class=\"ProveItLink\" href=\"../../../../../__pv_it/common/c06c606ec12678c58933ac85412ecadc2ae28be60/expr.ipynb\"><img src=\"../../../../../__pv_it/common/c06c606ec12678c58933ac85412ecadc2ae28be60/expr.png\" style=\"display:inline;vertical-align:middle;\" /></a>, <a class=\"ProveItLink\" href=\"../../../../../__pv_it/common/95a8f6b9b9f29b83f192ad7fd05708d6be097a3f0/expr.ipynb\"><img src=\"../../../../../__pv_it/common/95a8f6b9b9f29b83f192ad7fd05708d6be097a3f0/expr.png\" style=\"display:inline;vertical-align:middle;\" /></a> : <a class=\"ProveItLink\" href=\"../../../../../__pv_it/common/ceef4280a2f1cc604b455b54e735507244cc62cd0/expr.ipynb\"><img src=\"../../../../../__pv_it/common/ceef4280a2f1cc604b455b54e735507244cc62cd0/expr.png\" style=\"display:inline;vertical-align:middle;\" /></a></span></td></tr><tr><td><a name=\"proveit.numbers.ordering.demonstrations.8ec8d34a1f5cd1e8ba344a3d8d32305361a6c1170_step3\">3</a></td><td>assumption</td><td></td><td><span style=\"font-size:20px;\"><a class=\"ProveItLink\" href=\"../585c53702697cf7fd692665e03a306bf03ff58fc0/expr.ipynb\"><img src=\"../585c53702697cf7fd692665e03a306bf03ff58fc0/expr.png\" style=\"display:inline;vertical-align:middle;\" /></a> <a class=\"ProveItLink\" href=\"../ce544d67a613bf0975745336a72dab452f0b17430/proof.ipynb\" style=\"text-decoration: none\">&nbsp;&#x22A2;&nbsp;&nbsp;</a><a class=\"ProveItLink\" href=\"../585c53702697cf7fd692665e03a306bf03ff58fc0/expr.ipynb\"><img src=\"../585c53702697cf7fd692665e03a306bf03ff58fc0/expr.png\" style=\"display:inline;vertical-align:middle;\" /></a></span></td></tr>\n",
       "<tr><td><a name=\"proveit.numbers.ordering.demonstrations.8ec8d34a1f5cd1e8ba344a3d8d32305361a6c1170_step4\">4</a></td><td>theorem</td><td></td><td><span style=\"font-size:20px;\"> <a class=\"ProveItLink\" href=\"../../../_theory_nbs_/proofs/transitivity_less_less_eq/thm_proof.ipynb\" style=\"text-decoration: none\">&nbsp;&#x22A2;&nbsp;&nbsp;</a><a class=\"ProveItLink\" href=\"../../theorems/b92cdd66584b50f04a21e5076b35d033cbdb6e110/expr.ipynb\"><img src=\"../../theorems/b92cdd66584b50f04a21e5076b35d033cbdb6e110/expr.png\" style=\"display:inline;vertical-align:middle;\" /></a></span></td></tr>\n",
       "<tr><td>&nbsp;</td><td colspan=4 style-\"text-align:left\"><a class=\"ProveItLink\" href=\"../../../_theory_nbs_/proofs/transitivity_less_less_eq/thm_proof.ipynb\">proveit.numbers.ordering.transitivity_less_less_eq</a></td></tr><tr><td><a name=\"proveit.numbers.ordering.demonstrations.8ec8d34a1f5cd1e8ba344a3d8d32305361a6c1170_step5\">5</a></td><td>assumption</td><td></td><td><span style=\"font-size:20px;\"><a class=\"ProveItLink\" href=\"../727e41fdf2d772522c8d75855fd225d4ba73b9f80/expr.ipynb\"><img src=\"../727e41fdf2d772522c8d75855fd225d4ba73b9f80/expr.png\" style=\"display:inline;vertical-align:middle;\" /></a> <a class=\"ProveItLink\" href=\"../245bebc06ab85a36f893e1bfca6c36e8a9e3ff1e0/proof.ipynb\" style=\"text-decoration: none\">&nbsp;&#x22A2;&nbsp;&nbsp;</a><a class=\"ProveItLink\" href=\"../727e41fdf2d772522c8d75855fd225d4ba73b9f80/expr.ipynb\"><img src=\"../727e41fdf2d772522c8d75855fd225d4ba73b9f80/expr.png\" style=\"display:inline;vertical-align:middle;\" /></a></span></td></tr>\n",
       "<tr><td><a name=\"proveit.numbers.ordering.demonstrations.8ec8d34a1f5cd1e8ba344a3d8d32305361a6c1170_step6\">6</a></td><td>assumption</td><td></td><td><span style=\"font-size:20px;\"><a class=\"ProveItLink\" href=\"../db5ecd2923e447bd3a0075247ae8fe235b5e2ca60/expr.ipynb\"><img src=\"../db5ecd2923e447bd3a0075247ae8fe235b5e2ca60/expr.png\" style=\"display:inline;vertical-align:middle;\" /></a> <a class=\"ProveItLink\" href=\"../2d7bb29364cdf08c381342b79d6c000ad85650660/proof.ipynb\" style=\"text-decoration: none\">&nbsp;&#x22A2;&nbsp;&nbsp;</a><a class=\"ProveItLink\" href=\"../db5ecd2923e447bd3a0075247ae8fe235b5e2ca60/expr.ipynb\"><img src=\"../db5ecd2923e447bd3a0075247ae8fe235b5e2ca60/expr.png\" style=\"display:inline;vertical-align:middle;\" /></a></span></td></tr>\n",
       "</table>"
      ],
      "text/plain": [
       "<proveit._core_.proof._ShowProof at 0x7f2140670e10>"
      ]
     },
     "execution_count": 1,
     "metadata": {},
     "output_type": "execute_result"
    }
   ],
   "source": [
    "import proveit\n",
    "# Automation is not needed when only showing a stored proof:\n",
    "proveit.defaults.automation = False # This will speed things up.\n",
    "proveit.defaults.inline_pngs = False # Makes files smaller.\n",
    "%show_proof"
   ]
  },
  {
   "cell_type": "code",
   "execution_count": null,
   "metadata": {},
   "outputs": [],
   "source": []
  }
 ],
 "metadata": {
  "kernelspec": {
   "display_name": "Python 3",
   "language": "python",
   "name": "python3"
  }
 },
 "nbformat": 4,
 "nbformat_minor": 0
}