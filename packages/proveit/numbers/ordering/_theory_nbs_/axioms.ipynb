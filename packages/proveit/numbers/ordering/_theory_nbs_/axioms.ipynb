{
 "cells": [
  {
   "cell_type": "markdown",
   "metadata": {},
   "source": [
    "Axioms for the theory of <a class=\"ProveItLink\" href=\"theory.ipynb\">proveit.numbers.ordering</a>\n",
    "========"
   ]
  },
  {
   "cell_type": "code",
   "execution_count": null,
   "metadata": {},
   "outputs": [],
   "source": [
    "import proveit\n",
    "# Prepare this notebook for defining the axioms of a theory:\n",
    "%axioms_notebook # Keep this at the top following 'import proveit'.\n",
    "from proveit import b, m, n, x, y, z, Conditional\n",
    "from proveit.core_expr_types import ConditionalSet\n",
    "from proveit.core_expr_types import a_1_to_m\n",
    "from proveit.logic import Forall, Or, Equals\n",
    "from proveit.numbers import (greater, greater_eq, Less, LessEq,\n",
    "                             Max, Min, Natural, NaturalPos, Real)"
   ]
  },
  {
   "cell_type": "code",
   "execution_count": null,
   "metadata": {},
   "outputs": [],
   "source": [
    "%begin axioms"
   ]
  },
  {
   "cell_type": "code",
   "execution_count": null,
   "metadata": {},
   "outputs": [],
   "source": [
    "less_eq_def = Forall([x, y], Equals(LessEq(x, y), Or(Less(x, y), Equals(x, y))))"
   ]
  },
  {
   "cell_type": "code",
   "execution_count": null,
   "metadata": {},
   "outputs": [],
   "source": [
    "transitivity_less_less = Forall((x,y,z), Less(x, z),\n",
    "                              conditions=[Less(x,y), Less(y, z)])"
   ]
  },
  {
   "cell_type": "code",
   "execution_count": null,
   "metadata": {},
   "outputs": [],
   "source": [
    "max_def_unary = Forall(x,\n",
    "       Equals(Max(x), x),\n",
    "       domain = Real)"
   ]
  },
  {
   "cell_type": "code",
   "execution_count": null,
   "metadata": {},
   "outputs": [],
   "source": [
    "min_def_unary = Forall(x,\n",
    "       Equals(Min(x), x),\n",
    "       domain = Real)"
   ]
  },
  {
   "cell_type": "code",
   "execution_count": null,
   "metadata": {},
   "outputs": [],
   "source": [
    "max_def_bin = (\n",
    "    Forall((x, y),\n",
    "           Equals(Max(x, y),\n",
    "                  ConditionalSet(Conditional(x, greater_eq(x, y)),\n",
    "                                 Conditional(y, greater(y, x)))),\n",
    "           domain = Real))"
   ]
  },
  {
   "cell_type": "code",
   "execution_count": null,
   "metadata": {},
   "outputs": [],
   "source": [
    "min_def_bin = (\n",
    "    Forall((x, y),\n",
    "           Equals(Min(x, y),\n",
    "                  ConditionalSet(Conditional(x, LessEq(x, y)),\n",
    "                                 Conditional(y, Less(y, x)))),\n",
    "           domain = Real))"
   ]
  },
  {
   "cell_type": "code",
   "execution_count": null,
   "metadata": {},
   "outputs": [],
   "source": [
    "max_def_multi = (\n",
    "    Forall(m,\n",
    "    Forall((a_1_to_m, b),\n",
    "           Equals(Max(a_1_to_m, b), Max(Max(a_1_to_m), b)),\n",
    "           domain=Real),\n",
    "    domain=NaturalPos))"
   ]
  },
  {
   "cell_type": "code",
   "execution_count": null,
   "metadata": {},
   "outputs": [],
   "source": [
    "min_def_multi = (\n",
    "    Forall(m,\n",
    "    Forall((a_1_to_m, b),\n",
    "           Equals(Min(a_1_to_m, b), Min(Min(a_1_to_m), b)),\n",
    "           domain=Real),\n",
    "    domain=NaturalPos))"
   ]
  },
  {
   "cell_type": "code",
   "execution_count": null,
   "metadata": {},
   "outputs": [],
   "source": [
    "%end axioms"
   ]
  },
  {
   "cell_type": "code",
   "execution_count": null,
   "metadata": {},
   "outputs": [],
   "source": []
  }
 ],
 "metadata": {
  "kernelspec": {
   "display_name": "Python 3 (ipykernel)",
   "language": "python",
   "name": "python3"
  }
 },
 "nbformat": 4,
 "nbformat_minor": 0
}
