{
 "cells": [
  {
   "cell_type": "markdown",
   "metadata": {},
   "source": [
    "Demonstrations for the theory of <a class=\"ProveItLink\" href=\"theory.ipynb\">proveit.numbers.ordering</a>\n",
    "========"
   ]
  },
  {
   "cell_type": "code",
   "execution_count": 1,
   "metadata": {},
   "outputs": [],
   "source": [
    "import proveit\n",
    "%begin demonstrations"
   ]
  },
  {
   "cell_type": "code",
   "execution_count": 2,
   "metadata": {},
   "outputs": [],
   "source": [
    "from proveit import ExprTuple, extract_var_tuple_indices, ProofFailure\n",
    "from proveit.core_expr_types import Len\n",
    "from proveit.logic import Equals, InSet, Not\n",
    "from proveit.numbers import (zero, one, two, three, four, num, \n",
    "                             Add, Neg, frac)\n",
    "from proveit.numbers import (\n",
    "        Integer, Natural, NaturalPos, IntegerNeg, IntegerNonZero, Real, Less,\n",
    "        LessEq, greater, greater_eq, Min, Max)\n",
    "from proveit.numbers import number_ordering\n",
    "from proveit import a, b, c, d, e, n, t, u, v, w, x, y, z, rho\n",
    "import random"
   ]
  },
  {
   "cell_type": "markdown",
   "metadata": {},
   "source": [
    "### Transitivity search"
   ]
  },
  {
   "cell_type": "code",
   "execution_count": 3,
   "metadata": {},
   "outputs": [
    {
     "data": {
      "text/html": [
       "<strong id=\"assumptions\">assumptions:</strong> <a class=\"ProveItLink\" href=\"../__pv_it/demonstrations/0685d7f619d3f591200c8a1c2411f6ab231a73590/expr.ipynb\"><img src=\"data:image/png;base64,iVBORw0KGgoAAAANSUhEUgAAAhoAAAAVBAMAAADyXlrpAAAAMFBMVEX///8AAAAAAAAAAAAAAAAA\n",
       "AAAAAAAAAAAAAAAAAAAAAAAAAAAAAAAAAAAAAAAAAAAv3aB7AAAAD3RSTlMAInZUiRDNmWbv3US7\n",
       "qzJazP2FAAAACXBIWXMAAA7EAAAOxAGVKw4bAAAEV0lEQVRYw+1XXWhURxT+dm/G3WSzYfHFl5Su\n",
       "VUktqCvYtPrQXRSlSJRLsC1KJRt9MA8GtKShBAoppaVIwRBUBCnYqEQUQp7EPIhREAp16TYk0YcI\n",
       "CxHEHzA+KIISnL87c2dy711ZzZMZuJuT+eac79wz58yZCyCDpcFGjP3Ec0uB4COVpT+bluIgx6cA\n",
       "KdLnb/YP6QpaIrB3Hq2LVI/f9r8nQ/syWOYiQc05z/nEnqGAVRJ7x3Hsx0XaT7Iz+34M5V0kj6Ce\n",
       "SomzYiZ+3l2wysNYYDprpfpse8T7dL2NhXDuKNtVVP3UffQ5iVb621CQU8mF4VAYksPuouxfYEpa\n",
       "I4r72PaaVX3U5+nThR7g2n8lz13nkKjv2ORKMaUxL3HafwKmxFu29CNtUZHV/ThnSqSv3wc+wBah\n",
       "Qj6Zur/NTMkQ3OAmZTH1aCTmmW09aoHaRZ9xT8Eg8dDUzOsJYBdYsuR9baabw2OZRnle5O0wFjYj\n",
       "OcelOmcAx3k1XeKjLOf+UiiTyLRq4WxqBtdHRQliXbbP3L4wPICbHGjbpZy+MmWCWtKqSsEgUdQO\n",
       "W/87375eXzQOM5ScVueFxFZclAuacn1IF7k4S9dMW7k3myjKnq0kHQ2mMIhlIv1+wXH3rpmSIbjJ\n",
       "PS6S14UukCu3DNDnolLVCgaJok6w9ZtxRtaMxLoFNqfOC4GlD6pSoKbqRfG49O+gFQ02N2tKMVUp\n",
       "dKppnm46HxVjE3hKBuOB3HTXVY22/m+CWtKqWsEgUdT8dZ+yaJBX9olTP44OkUoS85lNPcfHFSFe\n",
       "d2PzAZ0qa0n6FM278QHEvaWDdkoG4yb3U8kdy9rdW4PKRX80YsFOSGr+umOsUmjNmGcKOrLiQNCY\n",
       "TjmaaBtUV4rPWecG61QF1bMKVhfsRWMZjz03nuEbMyVDcB93EWuleJWmgNlhNahd1KpawSDxqPMM\n",
       "3YKbzIxTMftNRw7TToZAYxqkpm4nXW65hMbx36zcKMHJiAByydy/EstIGiKKk3/TA160ksMZROF+\n",
       "7pJ4KSeHtNW9OciphYumKlcgfhKDuhdfAX/SroJ0ud26izRmneEEOooKY21rSNhPlJtO1HEMP+Nh\n",
       "oWBFYweWg7zwJH0z5zFtw1g5NcpxZ/67gVTOuvQF437u1EtB/aRt9Yh1M+cgpxYumqpcgatKEpP6\n",
       "HqFR7cEjWlH/2Jd9MrH7o/VouGBg8mpGJldJDPu3bpyo2HfXu1ThkutJFtiz5s7X4Dj5IfvFr9Lf\n",
       "aNzgbnkmqAvOqVHbaQZyauGiqcoVuKpHYlA3/0F/LqOhEn6N+9y61XWGY9ZluMqt1Y+Ti2+j73HX\n",
       "FSOoGRiuutBrizp2ln2qhI4CasNQV+WiXSu+A3tzodQCjDYd6TX7gL2hIiU6g84VEvF5QSI/Pdr9\n",
       "K22zFl5N3z+GMGlR7+PGRxQYbTra62b6fB+KxiM045FvU+0ru1b8y5bRcGoORpuO9vqGcY35wEc8\n",
       "gzcis3mrsl8evgAAAABJRU5ErkJggg==\n",
       "\" style=\"display:inline;vertical-align:middle;\" /></a><br>"
      ],
      "text/plain": [
       "<IPython.core.display.HTML object>"
      ]
     },
     "metadata": {},
     "output_type": "display_data"
    }
   ],
   "source": [
    "assumptions = [greater_eq(t, a), Less(t, u), Equals(u, v), LessEq(v, w), greater(x, w), Less(x, y), greater_eq(z, y), Less(u, z), greater(w, t)]"
   ]
  },
  {
   "cell_type": "code",
   "execution_count": 4,
   "metadata": {},
   "outputs": [],
   "source": [
    "random.shuffle(assumptions)"
   ]
  },
  {
   "cell_type": "code",
   "execution_count": 5,
   "metadata": {},
   "outputs": [
    {
     "data": {
      "text/html": [
       "<span style=\"font-size:20px;\"><a class=\"ProveItLink\" href=\"../__pv_it/demonstrations/b7fcf5abcf9ec741d5ac987ba5ad1fded690e77a0/expr.ipynb\"><img src=\"data:image/png;base64,iVBORw0KGgoAAAANSUhEUgAAAC4AAAAQBAMAAACb51DZAAAAMFBMVEX///8AAAAAAAAAAAAAAAAA\n",
       "AAAAAAAAAAAAAAAAAAAAAAAAAAAAAAAAAAAAAAAAAAAv3aB7AAAAD3RSTlMAEN0iVJmJRKu7ds0y\n",
       "Zu8qwvqBAAAACXBIWXMAAA7EAAAOxAGVKw4bAAAAn0lEQVQY02NgYFRmAALpCwxogOUjiGRMWoAm\n",
       "zqoAoRclooozJUAZl1AkKubPgJngHQyhLbKsgKQ/Qk11I4hkf8wwX4CBIRpJfCKIlLvAEASk1ODC\n",
       "3s1gKh4sxvgdJnwpEEK/BIuxfGAQQHEn4y8G3g9A529gOYDiL8YvDBwbnBk4GqTQwmEWg1NAAAPz\n",
       "XPSQkVh2uOsAA5lASAkEdOB8ACvmJSVV7+MRAAAAAElFTkSuQmCC\n",
       "\" style=\"display:inline;vertical-align:middle;\" /></a>, <a class=\"ProveItLink\" href=\"../__pv_it/demonstrations/627a426deb7bc71073e53cc76a852a5f9b67acaa0/expr.ipynb\"><img src=\"data:image/png;base64,iVBORw0KGgoAAAANSUhEUgAAAC8AAAAPBAMAAACGpYupAAAAMFBMVEX///8AAAAAAAAAAAAAAAAA\n",
       "AAAAAAAAAAAAAAAAAAAAAAAAAAAAAAAAAAAAAAAAAAAv3aB7AAAAD3RSTlMAEN0iVJmJRKu7ds0y\n",
       "Zu8qwvqBAAAACXBIWXMAAA7EAAAOxAGVKw4bAAAApklEQVQY02NgYFRmwA5YPuKQYFVAqNmMLMGU\n",
       "AGPxqgogiVfMn7EAwuJSg4hLxTIwNAJpf6gKMS0oI8GPgfcDkI6GcE11oeI8DkEMHBuADDUwl2ML\n",
       "zGxGhlcMfEDTGb+jSTCwf2SwPwB04gcGARSjQO5fD6I2sBxAtZyzgWEmrwADR4MUVEBKC+Jc1gae\n",
       "Z2wMDMxzL8A9CPEIY9sSizWoocO7mYEwAAAfKRy7hQLf+QAAAABJRU5ErkJggg==\n",
       "\" style=\"display:inline;vertical-align:middle;\" /></a>, <a class=\"ProveItLink\" href=\"../__pv_it/demonstrations/f6472a84d40ba4aea8f6fc1b16f63e89e51120660/expr.ipynb\"><img src=\"data:image/png;base64,iVBORw0KGgoAAAANSUhEUgAAADEAAAAOBAMAAAB0nulXAAAAMFBMVEX///8AAAAAAAAAAAAAAAAA\n",
       "AAAAAAAAAAAAAAAAAAAAAAAAAAAAAAAAAAAAAAAAAAAv3aB7AAAAD3RSTlMAEHaZZquJVO8y3c1E\n",
       "Irudu/YqAAAACXBIWXMAAA7EAAAOxAGVKw4bAAAAnUlEQVQY02NgIBKw78UhwbJYAMFhVHZgYIXy\n",
       "mZZBGbNW8jowsLE3MPhD+GKLYKo35aUyMExnXsAQDeZfXgIzh1eAIZGBQYBDgaEJxGXdjmShGMjY\n",
       "8wK8P9FleBVApBUD0wc00xiOMDACyacMfA8cUV3AXsDACqRMGWYkJEBEhBZBXD0vT20lkBJNqg2a\n",
       "APMpxEMJ7N0HMAJhLxFBCAAPDR8qfig9sQAAAABJRU5ErkJggg==\n",
       "\" style=\"display:inline;vertical-align:middle;\" /></a> <a class=\"ProveItLink\" href=\"../__pv_it/demonstrations/65d15b476542fa033516572cb51c8dd261b82b310/proof.ipynb\" style=\"text-decoration: none\">&nbsp;&#x22A2;&nbsp;&nbsp;</a><a class=\"ProveItLink\" href=\"../__pv_it/demonstrations/6c88fbbb43c4ccbbbe4dc000dd13ca1989da6dcb0/expr.ipynb\"><img src=\"data:image/png;base64,iVBORw0KGgoAAAANSUhEUgAAADEAAAAOBAMAAAB0nulXAAAAMFBMVEX///8AAAAAAAAAAAAAAAAA\n",
       "AAAAAAAAAAAAAAAAAAAAAAAAAAAAAAAAAAAAAAAAAAAv3aB7AAAAD3RSTlMAIquJdkTvuxBmmd1U\n",
       "zTKBpmoTAAAACXBIWXMAAA7EAAAOxAGVKw4bAAAAnElEQVQY02NgIBLwXMQhwbmrAYnHqOzoAGWy\n",
       "bIZKvN7HOIGBIUyA/QeE37wFqoLjirkRkMxk4NoA5kvthBvTwGDBwMD1gYHbAMRluoNkRTPQWLYC\n",
       "hv4AdBlGkM39DgzzGdBMY4hk4ADKHGDQ5RFAdQHPAQYmBgZ2B55dXFCRli0QVz83d94HdJuKnZAf\n",
       "3KcQDxnw5AZgBMJFIoIQAMOeIV+3WArdAAAAAElFTkSuQmCC\n",
       "\" style=\"display:inline;vertical-align:middle;\" /></a></span>"
      ],
      "text/plain": [
       "{t >= a, t < u, u < z} |- a < z"
      ]
     },
     "metadata": {},
     "output_type": "display_data"
    }
   ],
   "source": [
    "Less(a, z).prove(assumptions=assumptions)"
   ]
  },
  {
   "cell_type": "code",
   "execution_count": 6,
   "metadata": {},
   "outputs": [
    {
     "data": {
      "text/html": [
       "<span style=\"font-size:20px;\"><a class=\"ProveItLink\" href=\"../__pv_it/demonstrations/b7fcf5abcf9ec741d5ac987ba5ad1fded690e77a0/expr.ipynb\"><img src=\"data:image/png;base64,iVBORw0KGgoAAAANSUhEUgAAAC4AAAAQBAMAAACb51DZAAAAMFBMVEX///8AAAAAAAAAAAAAAAAA\n",
       "AAAAAAAAAAAAAAAAAAAAAAAAAAAAAAAAAAAAAAAAAAAv3aB7AAAAD3RSTlMAEN0iVJmJRKu7ds0y\n",
       "Zu8qwvqBAAAACXBIWXMAAA7EAAAOxAGVKw4bAAAAn0lEQVQY02NgYFRmAALpCwxogOUjiGRMWoAm\n",
       "zqoAoRclooozJUAZl1AkKubPgJngHQyhLbKsgKQ/Qk11I4hkf8wwX4CBIRpJfCKIlLvAEASk1ODC\n",
       "3s1gKh4sxvgdJnwpEEK/BIuxfGAQQHEn4y8G3g9A529gOYDiL8YvDBwbnBk4GqTQwmEWg1NAAAPz\n",
       "XPSQkVh2uOsAA5lASAkEdOB8ACvmJSVV7+MRAAAAAElFTkSuQmCC\n",
       "\" style=\"display:inline;vertical-align:middle;\" /></a>, <a class=\"ProveItLink\" href=\"../__pv_it/demonstrations/627a426deb7bc71073e53cc76a852a5f9b67acaa0/expr.ipynb\"><img src=\"data:image/png;base64,iVBORw0KGgoAAAANSUhEUgAAAC8AAAAPBAMAAACGpYupAAAAMFBMVEX///8AAAAAAAAAAAAAAAAA\n",
       "AAAAAAAAAAAAAAAAAAAAAAAAAAAAAAAAAAAAAAAAAAAv3aB7AAAAD3RSTlMAEN0iVJmJRKu7ds0y\n",
       "Zu8qwvqBAAAACXBIWXMAAA7EAAAOxAGVKw4bAAAApklEQVQY02NgYFRmwA5YPuKQYFVAqNmMLMGU\n",
       "AGPxqgogiVfMn7EAwuJSg4hLxTIwNAJpf6gKMS0oI8GPgfcDkI6GcE11oeI8DkEMHBuADDUwl2ML\n",
       "zGxGhlcMfEDTGb+jSTCwf2SwPwB04gcGARSjQO5fD6I2sBxAtZyzgWEmrwADR4MUVEBKC+Jc1gae\n",
       "Z2wMDMxzL8A9CPEIY9sSizWoocO7mYEwAAAfKRy7hQLf+QAAAABJRU5ErkJggg==\n",
       "\" style=\"display:inline;vertical-align:middle;\" /></a>, <a class=\"ProveItLink\" href=\"../__pv_it/demonstrations/f6472a84d40ba4aea8f6fc1b16f63e89e51120660/expr.ipynb\"><img src=\"data:image/png;base64,iVBORw0KGgoAAAANSUhEUgAAADEAAAAOBAMAAAB0nulXAAAAMFBMVEX///8AAAAAAAAAAAAAAAAA\n",
       "AAAAAAAAAAAAAAAAAAAAAAAAAAAAAAAAAAAAAAAAAAAv3aB7AAAAD3RSTlMAEHaZZquJVO8y3c1E\n",
       "Irudu/YqAAAACXBIWXMAAA7EAAAOxAGVKw4bAAAAnUlEQVQY02NgIBKw78UhwbJYAMFhVHZgYIXy\n",
       "mZZBGbNW8jowsLE3MPhD+GKLYKo35aUyMExnXsAQDeZfXgIzh1eAIZGBQYBDgaEJxGXdjmShGMjY\n",
       "8wK8P9FleBVApBUD0wc00xiOMDACyacMfA8cUV3AXsDACqRMGWYkJEBEhBZBXD0vT20lkBJNqg2a\n",
       "APMpxEMJ7N0HMAJhLxFBCAAPDR8qfig9sQAAAABJRU5ErkJggg==\n",
       "\" style=\"display:inline;vertical-align:middle;\" /></a> <a class=\"ProveItLink\" href=\"../__pv_it/demonstrations/65d15b476542fa033516572cb51c8dd261b82b310/proof.ipynb\" style=\"text-decoration: none\">&nbsp;&#x22A2;&nbsp;&nbsp;</a><a class=\"ProveItLink\" href=\"../__pv_it/demonstrations/3d7cb4bc8901f5c5c1fdd73c2cc5215796ec4bc90/expr.ipynb\"><img src=\"data:image/png;base64,iVBORw0KGgoAAAANSUhEUgAAADEAAAAOBAMAAAB0nulXAAAAMFBMVEX///8AAAAAAAAAAAAAAAAA\n",
       "AAAAAAAAAAAAAAAAAAAAAAAAAAAAAAAAAAAAAAAAAAAv3aB7AAAAD3RSTlMAMt0iZhDNdom7q0RU\n",
       "75mOI7qcAAAACXBIWXMAAA7EAAAOxAGVKw4bAAAAn0lEQVQY02NgIAhYU3BKRaijizAqCZiAGewa\n",
       "AVAh5hXFBUAqrGLGAogAix5Uaq8B51cgZcrAAVPLk2cAtvIKA58CmNEKN5k7C6SI7wMDUwOIa46w\n",
       "kzsTJMM7gSF+A4jnwAA3LQtsWnwBgz+IPsPAAHcBWIIh/gDDMh4DBsYZ05sEUF3NWcCjx8fAwMFw\n",
       "NhvMD4f7lHV5o1UhUuioMBALAMG5HHNPT6HOAAAAAElFTkSuQmCC\n",
       "\" style=\"display:inline;vertical-align:middle;\" /></a></span>"
      ],
      "text/plain": [
       "{t >= a, t < u, u < z} |- z > a"
      ]
     },
     "metadata": {},
     "output_type": "display_data"
    }
   ],
   "source": [
    "greater(z, a).prove(assumptions=assumptions)"
   ]
  },
  {
   "cell_type": "markdown",
   "metadata": {},
   "source": [
    "### Transitivity sort"
   ]
  },
  {
   "cell_type": "code",
   "execution_count": 7,
   "metadata": {},
   "outputs": [
    {
     "data": {
      "text/html": [
       "<span style=\"font-size:20px;\"> <a class=\"ProveItLink\" href=\"../__pv_it/demonstrations/906cb9e0cd1d306d9a44bfc0a14bc47892f451850/proof.ipynb\" style=\"text-decoration: none\">&nbsp;&#x22A2;&nbsp;&nbsp;</a><a class=\"ProveItLink\" href=\"../__pv_it/demonstrations/1ae852997fc1e7e5c1aadc478c5ee98d1c5a6bcb0/expr.ipynb\"><img src=\"data:image/png;base64,iVBORw0KGgoAAAANSUhEUgAAADAAAAAQBAMAAACigOGCAAAAMFBMVEX///8AAAAAAAAAAAAAAAAA\n",
       "AAAAAAAAAAAAAAAAAAAAAAAAAAAAAAAAAAAAAAAAAAAv3aB7AAAAD3RSTlMAMt0Qq5nNdoki72ZU\n",
       "RLsDrqvKAAAACXBIWXMAAA7EAAAOxAGVKw4bAAAAfklEQVQY02NgYFRmwASiDAwmYZ+xSKgAMTsW\n",
       "CXYMiWMTwJR0CprEpmAI3YAmUdQMNWkCigRzUwGUNZsBWYIzaANMZwOKhNsBmDj3BBwS0xlwGHXF\n",
       "xeWXB1bLGRiWADHHTxiPuagYxvzHwMDi9c0b4UGoR+L+u6MF0rYJDIQAAO8QJzgviFLHAAAAAElF\n",
       "TkSuQmCC\n",
       "\" style=\"display:inline;vertical-align:middle;\" /></a></span>"
      ],
      "text/plain": [
       "|- 1 < 4"
      ]
     },
     "metadata": {},
     "output_type": "display_data"
    }
   ],
   "source": [
    "from proveit.numbers import one, four, Less\n",
    "Less.sort([one, four], reorder=False)"
   ]
  },
  {
   "cell_type": "code",
   "execution_count": 8,
   "metadata": {},
   "outputs": [
    {
     "data": {
      "text/html": [
       "<strong id=\"assumptions\">assumptions:</strong> <a class=\"ProveItLink\" href=\"../__pv_it/demonstrations/8c113bd6406473b17e4ffc19856091ab8919990c0/expr.ipynb\"><img src=\"data:image/png;base64,iVBORw0KGgoAAAANSUhEUgAAAOcAAAAVBAMAAABPgOQBAAAAMFBMVEX///8AAAAAAAAAAAAAAAAA\n",
       "AAAAAAAAAAAAAAAAAAAAAAAAAAAAAAAAAAAAAAAAAAAv3aB7AAAAD3RSTlMAInZUiRDNmWbv3US7\n",
       "qzJazP2FAAAACXBIWXMAAA7EAAAOxAGVKw4bAAACkElEQVRIx71WTWgTQRT+ks10kzQ1wYtQCG5D\n",
       "BUGQCNaDpxA8FMESiiCKZSMiejASoYoUwaUH9aTVi4IeQlupBCzBm6fG3jxVavEcQTx4MVhSBBF8\n",
       "s3+zM6HrUiRz2Pl2Zr/3vXnvzUsA5DDQYcvFi4MVfcsfx8E+NP6n1W/P+lFgxC2AVYGh+j8tsWvR\n",
       "Vbf7kXZJbF8BdBLORojw2cWomsO9PpRcqYj9B0CKprXAUtAnOSzLlWiiiYaKZGqqghM0nRYrkk/y\n",
       "SEZUFclykRKkIQuzNNUKn9Tj5Mv7PXcLj7wgXHVuV2xrzHCXyoc7imS+/KMoo3OvRY4Kt8jgR1CB\n",
       "sJ2KmZN9Gn6CDUc+toS7fo5q9tq7XMZN1mhRb9M01+TjjUz00Mxlke1VfKWIVbFEJ+ghZbt+wPfp\n",
       "vIU5B6VLeOqTrnMr7Dl0N1nLLlEMIt6W0YgQPWjhCMkt4AUVcBXZkrx9jxt0kEikVrPjoXe5Jzbq\n",
       "9SU0QPSQOMpGYbwF7OtyUTKxVpRFX4L99pBaY6k2zJaH1BEkeshP2h8nXgs8vHRNnfP4PrGfSHY9\n",
       "pNaYaeCxj+whcioRXSSoji2tgXUS7VCaJJ/YNkaqx8A//UWuyXVvFvFZyzFCWWosLblx+UQXSUGi\n",
       "cGv00sYZCquV8a7W9KLj0zpO1utshxCV7pTcBjOGtqLDpPZJpZtQrowg2sgvhxv8eR/sJrFK+E4G\n",
       "t+6oHWBm/MtmB03Cicl5pSewzan8UaRfETz18JCSU0F0kNzUJuf5fWghrWwkA21QC2tBEyF7ocRR\n",
       "Egn5hUmEdbsS9kjkYX2/+/Z0IKZ2gTZFWJiBSERcsImr/nuM37OLu3PD7MbDDhNGzPAOEzMG+3dl\n",
       "DPgL5Qi3HdMSvtsAAAAASUVORK5CYII=\n",
       "\" style=\"display:inline;vertical-align:middle;\" /></a><br>"
      ],
      "text/plain": [
       "<IPython.core.display.HTML object>"
      ]
     },
     "metadata": {},
     "output_type": "display_data"
    }
   ],
   "source": [
    "assumptions = [Less(b, a), greater_eq(c, a), Equals(c, d), LessEq(d, e)]"
   ]
  },
  {
   "cell_type": "markdown",
   "metadata": {},
   "source": [
    "*We can use `Less.sort` as long as we only have strict ordering relations between the items being sorted (i.e., no $\\leq$).*"
   ]
  },
  {
   "cell_type": "code",
   "execution_count": 9,
   "metadata": {},
   "outputs": [
    {
     "name": "stdout",
     "output_type": "stream",
     "text": [
      "[b, e]\n"
     ]
    },
    {
     "data": {
      "text/html": [
       "<span style=\"font-size:20px;\"><a class=\"ProveItLink\" href=\"../__pv_it/demonstrations/727e41fdf2d772522c8d75855fd225d4ba73b9f80/expr.ipynb\"><img src=\"data:image/png;base64,iVBORw0KGgoAAAANSUhEUgAAADAAAAAQBAMAAACigOGCAAAAMFBMVEX///8AAAAAAAAAAAAAAAAA\n",
       "AAAAAAAAAAAAAAAAAAAAAAAAAAAAAAAAAAAAAAAAAAAv3aB7AAAAD3RSTlMAELvv3c2ZVESJq3Yi\n",
       "MmZ3LnoBAAAACXBIWXMAAA7EAAAOxAGVKw4bAAAAs0lEQVQY02NgVHZgwA5YE3BI8BfgkOgXQLDZ\n",
       "Y5AkpiCYfG5Iihiidi+Hsrg9oeKnZp9mYGD8KiB/AMyV9IYq4LBh0BdgYP/IwLwBxD3mBzND+AFD\n",
       "CgMDWwAD/wQgjyscbng+A4MnAwPLBIb+AlQJIwbGH2Bv5AugGMX4m4HvA1DiAqMdA4rljN8ZuAJq\n",
       "GLgeMMHCRNob4lxthpKEBAbGlXkID0I8IrXzzuoLqMHDF8NAEAAA9ncjMmKaby4AAAAASUVORK5C\n",
       "YII=\n",
       "\" style=\"display:inline;vertical-align:middle;\" /></a>, <a class=\"ProveItLink\" href=\"../__pv_it/demonstrations/db5ecd2923e447bd3a0075247ae8fe235b5e2ca60/expr.ipynb\"><img src=\"data:image/png;base64,iVBORw0KGgoAAAANSUhEUgAAADAAAAAQBAMAAACigOGCAAAAMFBMVEX///8AAAAAAAAAAAAAAAAA\n",
       "AAAAAAAAAAAAAAAAAAAAAAAAAAAAAAAAAAAAAAAAAAAv3aB7AAAAD3RSTlMAiXZmMiLdVJm77xBE\n",
       "zatgdeJyAAAACXBIWXMAAA7EAAAOxAGVKw4bAAAAn0lEQVQY02NggIK9BgzYAbeYAg4ZBjVpXDJm\n",
       "aDJCyg5QVm0rhI4TCgKSYQUcE2Bqzr4GkTxLGeZvYGBIZOCCW3t2NojcZcDQxsDA8RthaO1TMNUP\n",
       "Us3ANQFheTeEXsnA/YeBYb8CunO5PzEwf2Bg4Af6+ACKB7m/M/BdKGUAOonRATVIJjGUNTQwMAga\n",
       "a6N5dJ+i6yMHBvLBtjQQSIHzAarwIxM9IYhIAAAAAElFTkSuQmCC\n",
       "\" style=\"display:inline;vertical-align:middle;\" /></a>, <a class=\"ProveItLink\" href=\"../__pv_it/demonstrations/585c53702697cf7fd692665e03a306bf03ff58fc0/expr.ipynb\"><img src=\"data:image/png;base64,iVBORw0KGgoAAAANSUhEUgAAADAAAAAOBAMAAACbXIJpAAAAMFBMVEX///8AAAAAAAAAAAAAAAAA\n",
       "AAAAAAAAAAAAAAAAAAAAAAAAAAAAAAAAAAAAAAAAAAAv3aB7AAAAD3RSTlMAiXZmMiLdVJm77xBE\n",
       "q833A+o+AAAACXBIWXMAAA7EAAAOxAGVKw4bAAAAjUlEQVQY02NgwAr8VjDgAN9xiPP8xiHBmIBD\n",
       "gq8BSAgpO6AJxwr5FzAwhBVwTABy2tJAIBdswVKG+RsYGBIZuBRQNewyYOhjYODAtL8fpJqBawKG\n",
       "xEoG7j8MDPuh5iDs4P7EwPyBgYHfgIHhAIoG7u8MvA9KGYBOYkRz7iSGsgagPwSNtdHs2KvoeskB\n",
       "ALArIL68OdxDAAAAAElFTkSuQmCC\n",
       "\" style=\"display:inline;vertical-align:middle;\" /></a>, <a class=\"ProveItLink\" href=\"../__pv_it/demonstrations/0eded9dc7e32b6de622b83b5128d08d76cbce37a0/expr.ipynb\"><img src=\"data:image/png;base64,iVBORw0KGgoAAAANSUhEUgAAAC8AAAARBAMAAAC/eehCAAAAMFBMVEX///8AAAAAAAAAAAAAAAAA\n",
       "AAAAAAAAAAAAAAAAAAAAAAAAAAAAAAAAAAAAAAAAAAAv3aB7AAAAD3RSTlMAMs3vmVREEIndIqt2\n",
       "u2aBbGR5AAAACXBIWXMAAA7EAAAOxAGVKw4bAAAAtUlEQVQY02NgYGBgVHZgwA74A2CsoAUoEvkF\n",
       "UMZLd1QdnVD6ZDuaUSpgkr3zAIoo146DX8Hing9gQuw9R4CGJy/g/Q7ibIK7gCFTgLGBgd2OgUUB\n",
       "xENIcP1j4ElgYPnAwNkA5sKN4v1zpo2BgfkCQ30CquX8G0Bk/QGG9wyozuUHK6gPYNjEugDFgyCj\n",
       "Axh4D7BOYYG7J0gASPApMJQsYGDf07j6IJqHT7w7wEABYJ8JBgIwPgAF9zCTXqf+XwAAAABJRU5E\n",
       "rkJggg==\n",
       "\" style=\"display:inline;vertical-align:middle;\" /></a> <a class=\"ProveItLink\" href=\"../__pv_it/demonstrations/9b311deb7eb66662ad9ee06d861cedec7dfe15df0/proof.ipynb\" style=\"text-decoration: none\">&nbsp;&#x22A2;&nbsp;&nbsp;</a><a class=\"ProveItLink\" href=\"../__pv_it/demonstrations/104d54070fea7f2553459988f528d8e5c17faad00/expr.ipynb\"><img src=\"data:image/png;base64,iVBORw0KGgoAAAANSUhEUgAAAC0AAAAQBAMAAABw0OvaAAAAMFBMVEX///8AAAAAAAAAAAAAAAAA\n",
       "AAAAAAAAAAAAAAAAAAAAAAAAAAAAAAAAAAAAAAAAAAAv3aB7AAAAD3RSTlMAELvv3c2ZVESJq3Yi\n",
       "MmZ3LnoBAAAACXBIWXMAAA7EAAAOxAGVKw4bAAAAqElEQVQY02NgVHZgwApYE7CL8xdgF+8XQLBL\n",
       "DyDYUxDMJ4lI6qN2L4eytkyE0IyztwkwMH4VkAfrZpyyASrfcoF3AgP7RwZmkABPygOoMM8/Bu4G\n",
       "BrYABv4JQN5SuLOYfu+ewcDAMoGhvwBFnH8B1Pn5Aijm8IPt4b/AaMeAYi/QBIYCBq4HTNCAYNyy\n",
       "EUzzBTCIHWBgXJmH8BfEAzvfbUALk6cHGAgAAC/IK5hFbbHKAAAAAElFTkSuQmCC\n",
       "\" style=\"display:inline;vertical-align:middle;\" /></a></span>"
      ],
      "text/plain": [
       "{b < a, c >= a, c = d, d <= e} |- b < e"
      ]
     },
     "metadata": {},
     "output_type": "display_data"
    }
   ],
   "source": [
    "to_sort = [b, e]\n",
    "random.shuffle(to_sort)\n",
    "random.shuffle(assumptions)\n",
    "print(to_sort)\n",
    "\n",
    "Less.sort(to_sort, assumptions=assumptions)"
   ]
  },
  {
   "cell_type": "markdown",
   "metadata": {},
   "source": [
    "*Otherwise, if $\\leq$ is involved, use `LessEq.sort`*."
   ]
  },
  {
   "cell_type": "code",
   "execution_count": 10,
   "metadata": {},
   "outputs": [
    {
     "name": "stdout",
     "output_type": "stream",
     "text": [
      "[e, c, b]\n"
     ]
    },
    {
     "data": {
      "text/html": [
       "<span style=\"font-size:20px;\"><a class=\"ProveItLink\" href=\"../__pv_it/demonstrations/727e41fdf2d772522c8d75855fd225d4ba73b9f80/expr.ipynb\"><img src=\"data:image/png;base64,iVBORw0KGgoAAAANSUhEUgAAADAAAAAQBAMAAACigOGCAAAAMFBMVEX///8AAAAAAAAAAAAAAAAA\n",
       "AAAAAAAAAAAAAAAAAAAAAAAAAAAAAAAAAAAAAAAAAAAv3aB7AAAAD3RSTlMAELvv3c2ZVESJq3Yi\n",
       "MmZ3LnoBAAAACXBIWXMAAA7EAAAOxAGVKw4bAAAAs0lEQVQY02NgVHZgwA5YE3BI8BfgkOgXQLDZ\n",
       "Y5AkpiCYfG5Iihiidi+Hsrg9oeKnZp9mYGD8KiB/AMyV9IYq4LBh0BdgYP/IwLwBxD3mBzND+AFD\n",
       "CgMDWwAD/wQgjyscbng+A4MnAwPLBIb+AlQJIwbGH2Bv5AugGMX4m4HvA1DiAqMdA4rljN8ZuAJq\n",
       "GLgeMMHCRNob4lxthpKEBAbGlXkID0I8IrXzzuoLqMHDF8NAEAAA9ncjMmKaby4AAAAASUVORK5C\n",
       "YII=\n",
       "\" style=\"display:inline;vertical-align:middle;\" /></a>, <a class=\"ProveItLink\" href=\"../__pv_it/demonstrations/db5ecd2923e447bd3a0075247ae8fe235b5e2ca60/expr.ipynb\"><img src=\"data:image/png;base64,iVBORw0KGgoAAAANSUhEUgAAADAAAAAQBAMAAACigOGCAAAAMFBMVEX///8AAAAAAAAAAAAAAAAA\n",
       "AAAAAAAAAAAAAAAAAAAAAAAAAAAAAAAAAAAAAAAAAAAv3aB7AAAAD3RSTlMAiXZmMiLdVJm77xBE\n",
       "zatgdeJyAAAACXBIWXMAAA7EAAAOxAGVKw4bAAAAn0lEQVQY02NggIK9BgzYAbeYAg4ZBjVpXDJm\n",
       "aDJCyg5QVm0rhI4TCgKSYQUcE2Bqzr4GkTxLGeZvYGBIZOCCW3t2NojcZcDQxsDA8RthaO1TMNUP\n",
       "Us3ANQFheTeEXsnA/YeBYb8CunO5PzEwf2Bg4Af6+ACKB7m/M/BdKGUAOonRATVIJjGUNTQwMAga\n",
       "a6N5dJ+i6yMHBvLBtjQQSIHzAarwIxM9IYhIAAAAAElFTkSuQmCC\n",
       "\" style=\"display:inline;vertical-align:middle;\" /></a>, <a class=\"ProveItLink\" href=\"../__pv_it/demonstrations/0eded9dc7e32b6de622b83b5128d08d76cbce37a0/expr.ipynb\"><img src=\"data:image/png;base64,iVBORw0KGgoAAAANSUhEUgAAAC8AAAARBAMAAAC/eehCAAAAMFBMVEX///8AAAAAAAAAAAAAAAAA\n",
       "AAAAAAAAAAAAAAAAAAAAAAAAAAAAAAAAAAAAAAAAAAAv3aB7AAAAD3RSTlMAMs3vmVREEIndIqt2\n",
       "u2aBbGR5AAAACXBIWXMAAA7EAAAOxAGVKw4bAAAAtUlEQVQY02NgYGBgVHZgwA74A2CsoAUoEvkF\n",
       "UMZLd1QdnVD6ZDuaUSpgkr3zAIoo146DX8Hing9gQuw9R4CGJy/g/Q7ibIK7gCFTgLGBgd2OgUUB\n",
       "xENIcP1j4ElgYPnAwNkA5sKN4v1zpo2BgfkCQ30CquX8G0Bk/QGG9wyozuUHK6gPYNjEugDFgyCj\n",
       "Axh4D7BOYYG7J0gASPApMJQsYGDf07j6IJqHT7w7wEABYJ8JBgIwPgAF9zCTXqf+XwAAAABJRU5E\n",
       "rkJggg==\n",
       "\" style=\"display:inline;vertical-align:middle;\" /></a>, <a class=\"ProveItLink\" href=\"../__pv_it/demonstrations/585c53702697cf7fd692665e03a306bf03ff58fc0/expr.ipynb\"><img src=\"data:image/png;base64,iVBORw0KGgoAAAANSUhEUgAAADAAAAAOBAMAAACbXIJpAAAAMFBMVEX///8AAAAAAAAAAAAAAAAA\n",
       "AAAAAAAAAAAAAAAAAAAAAAAAAAAAAAAAAAAAAAAAAAAv3aB7AAAAD3RSTlMAiXZmMiLdVJm77xBE\n",
       "q833A+o+AAAACXBIWXMAAA7EAAAOxAGVKw4bAAAAjUlEQVQY02NgwAr8VjDgAN9xiPP8xiHBmIBD\n",
       "gq8BSAgpO6AJxwr5FzAwhBVwTABy2tJAIBdswVKG+RsYGBIZuBRQNewyYOhjYODAtL8fpJqBawKG\n",
       "xEoG7j8MDPuh5iDs4P7EwPyBgYHfgIHhAIoG7u8MvA9KGYBOYkRz7iSGsgagPwSNtdHs2KvoeskB\n",
       "ALArIL68OdxDAAAAAElFTkSuQmCC\n",
       "\" style=\"display:inline;vertical-align:middle;\" /></a> <a class=\"ProveItLink\" href=\"../__pv_it/demonstrations/c21ba9e4555d7dec6e2dd9118deae845b7c700290/proof.ipynb\" style=\"text-decoration: none\">&nbsp;&#x22A2;&nbsp;&nbsp;</a><a class=\"ProveItLink\" href=\"../__pv_it/demonstrations/d5b39bdbe33ac821496a43443320bcb0b722e2200/expr.ipynb\"><img src=\"data:image/png;base64,iVBORw0KGgoAAAANSUhEUgAAAFIAAAARBAMAAAC8zuZqAAAAMFBMVEX///8AAAAAAAAAAAAAAAAA\n",
       "AAAAAAAAAAAAAAAAAAAAAAAAAAAAAAAAAAAAAAAAAAAv3aB7AAAAD3RSTlMAELvv3c2ZVESJq3Yi\n",
       "MmZ3LnoBAAAACXBIWXMAAA7EAAAOxAGVKw4bAAAA9UlEQVQoz2NgVHZgIBKwJuCVLj0AZ/IX4FP4\n",
       "JBHB7hdAsNlj0BRumYjEmYJg8rkJoKhjnLIBmRu1ezmUxe0JVci5+y1YYcoDmCLJ3YkMjF8F5CGO\n",
       "lvSGCvO4MySBFC6F+4DDl+EmA/tHBmawHcf8YOIsExisQTRC5fkHDDsY2AIY+CcAOVzhcPfkQx3B\n",
       "A7ddf/fOBpAB/QWoKo0wfPQLGpwQM+C2M/7GCCWwCP8FRjsGVB/9A3oBNeQ9gUHNwPWACRad0t4Q\n",
       "BwI9PhcRmxeAxFMGxhwGxpV5iJCHBCjnvNeoMcDAPe81WuTxxTDQFjC6gMEFKBcAwHc61oKzxloA\n",
       "AAAASUVORK5CYII=\n",
       "\" style=\"display:inline;vertical-align:middle;\" /></a></span>"
      ],
      "text/plain": [
       "{b < a, c >= a, d <= e, c = d} |- b < c <= e"
      ]
     },
     "metadata": {},
     "output_type": "display_data"
    }
   ],
   "source": [
    "to_sort = [b, c, e]\n",
    "random.shuffle(to_sort)\n",
    "random.shuffle(assumptions)\n",
    "print(to_sort)\n",
    "LessEq.sort(to_sort, assumptions=assumptions)"
   ]
  },
  {
   "cell_type": "code",
   "execution_count": 11,
   "metadata": {},
   "outputs": [
    {
     "name": "stdout",
     "output_type": "stream",
     "text": [
      "[a, e, c, b]\n"
     ]
    },
    {
     "data": {
      "text/html": [
       "<span style=\"font-size:20px;\"><a class=\"ProveItLink\" href=\"../__pv_it/demonstrations/727e41fdf2d772522c8d75855fd225d4ba73b9f80/expr.ipynb\"><img src=\"data:image/png;base64,iVBORw0KGgoAAAANSUhEUgAAADAAAAAQBAMAAACigOGCAAAAMFBMVEX///8AAAAAAAAAAAAAAAAA\n",
       "AAAAAAAAAAAAAAAAAAAAAAAAAAAAAAAAAAAAAAAAAAAv3aB7AAAAD3RSTlMAELvv3c2ZVESJq3Yi\n",
       "MmZ3LnoBAAAACXBIWXMAAA7EAAAOxAGVKw4bAAAAs0lEQVQY02NgVHZgwA5YE3BI8BfgkOgXQLDZ\n",
       "Y5AkpiCYfG5Iihiidi+Hsrg9oeKnZp9mYGD8KiB/AMyV9IYq4LBh0BdgYP/IwLwBxD3mBzND+AFD\n",
       "CgMDWwAD/wQgjyscbng+A4MnAwPLBIb+AlQJIwbGH2Bv5AugGMX4m4HvA1DiAqMdA4rljN8ZuAJq\n",
       "GLgeMMHCRNob4lxthpKEBAbGlXkID0I8IrXzzuoLqMHDF8NAEAAA9ncjMmKaby4AAAAASUVORK5C\n",
       "YII=\n",
       "\" style=\"display:inline;vertical-align:middle;\" /></a>, <a class=\"ProveItLink\" href=\"../__pv_it/demonstrations/db5ecd2923e447bd3a0075247ae8fe235b5e2ca60/expr.ipynb\"><img src=\"data:image/png;base64,iVBORw0KGgoAAAANSUhEUgAAADAAAAAQBAMAAACigOGCAAAAMFBMVEX///8AAAAAAAAAAAAAAAAA\n",
       "AAAAAAAAAAAAAAAAAAAAAAAAAAAAAAAAAAAAAAAAAAAv3aB7AAAAD3RSTlMAiXZmMiLdVJm77xBE\n",
       "zatgdeJyAAAACXBIWXMAAA7EAAAOxAGVKw4bAAAAn0lEQVQY02NggIK9BgzYAbeYAg4ZBjVpXDJm\n",
       "aDJCyg5QVm0rhI4TCgKSYQUcE2Bqzr4GkTxLGeZvYGBIZOCCW3t2NojcZcDQxsDA8RthaO1TMNUP\n",
       "Us3ANQFheTeEXsnA/YeBYb8CunO5PzEwf2Bg4Af6+ACKB7m/M/BdKGUAOonRATVIJjGUNTQwMAga\n",
       "a6N5dJ+i6yMHBvLBtjQQSIHzAarwIxM9IYhIAAAAAElFTkSuQmCC\n",
       "\" style=\"display:inline;vertical-align:middle;\" /></a>, <a class=\"ProveItLink\" href=\"../__pv_it/demonstrations/0eded9dc7e32b6de622b83b5128d08d76cbce37a0/expr.ipynb\"><img src=\"data:image/png;base64,iVBORw0KGgoAAAANSUhEUgAAAC8AAAARBAMAAAC/eehCAAAAMFBMVEX///8AAAAAAAAAAAAAAAAA\n",
       "AAAAAAAAAAAAAAAAAAAAAAAAAAAAAAAAAAAAAAAAAAAv3aB7AAAAD3RSTlMAMs3vmVREEIndIqt2\n",
       "u2aBbGR5AAAACXBIWXMAAA7EAAAOxAGVKw4bAAAAtUlEQVQY02NgYGBgVHZgwA74A2CsoAUoEvkF\n",
       "UMZLd1QdnVD6ZDuaUSpgkr3zAIoo146DX8Hing9gQuw9R4CGJy/g/Q7ibIK7gCFTgLGBgd2OgUUB\n",
       "xENIcP1j4ElgYPnAwNkA5sKN4v1zpo2BgfkCQ30CquX8G0Bk/QGG9wyozuUHK6gPYNjEugDFgyCj\n",
       "Axh4D7BOYYG7J0gASPApMJQsYGDf07j6IJqHT7w7wEABYJ8JBgIwPgAF9zCTXqf+XwAAAABJRU5E\n",
       "rkJggg==\n",
       "\" style=\"display:inline;vertical-align:middle;\" /></a>, <a class=\"ProveItLink\" href=\"../__pv_it/demonstrations/585c53702697cf7fd692665e03a306bf03ff58fc0/expr.ipynb\"><img src=\"data:image/png;base64,iVBORw0KGgoAAAANSUhEUgAAADAAAAAOBAMAAACbXIJpAAAAMFBMVEX///8AAAAAAAAAAAAAAAAA\n",
       "AAAAAAAAAAAAAAAAAAAAAAAAAAAAAAAAAAAAAAAAAAAv3aB7AAAAD3RSTlMAiXZmMiLdVJm77xBE\n",
       "q833A+o+AAAACXBIWXMAAA7EAAAOxAGVKw4bAAAAjUlEQVQY02NgwAr8VjDgAN9xiPP8xiHBmIBD\n",
       "gq8BSAgpO6AJxwr5FzAwhBVwTABy2tJAIBdswVKG+RsYGBIZuBRQNewyYOhjYODAtL8fpJqBawKG\n",
       "xEoG7j8MDPuh5iDs4P7EwPyBgYHfgIHhAIoG7u8MvA9KGYBOYkRz7iSGsgagPwSNtdHs2KvoeskB\n",
       "ALArIL68OdxDAAAAAElFTkSuQmCC\n",
       "\" style=\"display:inline;vertical-align:middle;\" /></a> <a class=\"ProveItLink\" href=\"../__pv_it/demonstrations/d9f9318ffd83ad9f1ef7b8e825f083e0889f11530/proof.ipynb\" style=\"text-decoration: none\">&nbsp;&#x22A2;&nbsp;&nbsp;</a><a class=\"ProveItLink\" href=\"../__pv_it/demonstrations/a1f16ea55669596805ea5abd03037d683523a7c70/expr.ipynb\"><img src=\"data:image/png;base64,iVBORw0KGgoAAAANSUhEUgAAAHkAAAARBAMAAAALcx5NAAAAMFBMVEX///8AAAAAAAAAAAAAAAAA\n",
       "AAAAAAAAAAAAAAAAAAAAAAAAAAAAAAAAAAAAAAAAAAAv3aB7AAAAD3RSTlMAELvv3c2ZVESJq3Yi\n",
       "MmZ3LnoBAAAACXBIWXMAAA7EAAAOxAGVKw4bAAABSUlEQVQ4y2NgVHZgoACwJuCVZo/BECo9gGDz\n",
       "F+DTzOcmgC70JBGJ0y+AxyJuTwzNWyYi86bgsUjSG10v45QNKPyo3cvRLTo1+zSYFvODq+Lc/Ras\n",
       "OeUB3JzZ2wQYGL8KyB9AtYjDhkEfZI5UOFwzjztDEkjHUkQgtVzgncDA/pGBGeyYY3CLhB8wpIBo\n",
       "LoRulgkM1iAaoZvnHwN3AwNbAAP/BFSl+QwMngyoBuZD/cQDdznT790zwKb2F6DqNmJg/IEWakYY\n",
       "oca/ABrdEIPhFjH+ZuD7gBqQQCH0GOMHm8J/gdEO1SLG7wxcATWokfgPGJaoqQXoZoYCBq4HTLCk\n",
       "Ku0N8Z02Q0kCPPmyx4JIYIDPRaTUCyBjAxjEDjAwrsxDpBaIO6V23ll9ATWRcM57jZ7odr7bgJ6q\n",
       "YxgGCRBxAQFf5FQOFnGBewsA/jRRT63D2lAAAAAASUVORK5CYII=\n",
       "\" style=\"display:inline;vertical-align:middle;\" /></a></span>"
      ],
      "text/plain": [
       "{b < a, c >= a, d <= e, c = d} |- b < a <= c <= e"
      ]
     },
     "metadata": {},
     "output_type": "display_data"
    }
   ],
   "source": [
    "to_sort = [a, b, c, e]\n",
    "random.shuffle(to_sort)\n",
    "random.shuffle(assumptions)\n",
    "print(to_sort)\n",
    "LessEq.sort(to_sort, assumptions=assumptions)"
   ]
  },
  {
   "cell_type": "code",
   "execution_count": 12,
   "metadata": {},
   "outputs": [
    {
     "name": "stdout",
     "output_type": "stream",
     "text": [
      "[c, a, d, b, e]\n"
     ]
    },
    {
     "data": {
      "text/html": [
       "<span style=\"font-size:20px;\"><a class=\"ProveItLink\" href=\"../__pv_it/demonstrations/727e41fdf2d772522c8d75855fd225d4ba73b9f80/expr.ipynb\"><img src=\"data:image/png;base64,iVBORw0KGgoAAAANSUhEUgAAADAAAAAQBAMAAACigOGCAAAAMFBMVEX///8AAAAAAAAAAAAAAAAA\n",
       "AAAAAAAAAAAAAAAAAAAAAAAAAAAAAAAAAAAAAAAAAAAv3aB7AAAAD3RSTlMAELvv3c2ZVESJq3Yi\n",
       "MmZ3LnoBAAAACXBIWXMAAA7EAAAOxAGVKw4bAAAAs0lEQVQY02NgVHZgwA5YE3BI8BfgkOgXQLDZ\n",
       "Y5AkpiCYfG5Iihiidi+Hsrg9oeKnZp9mYGD8KiB/AMyV9IYq4LBh0BdgYP/IwLwBxD3mBzND+AFD\n",
       "CgMDWwAD/wQgjyscbng+A4MnAwPLBIb+AlQJIwbGH2Bv5AugGMX4m4HvA1DiAqMdA4rljN8ZuAJq\n",
       "GLgeMMHCRNob4lxthpKEBAbGlXkID0I8IrXzzuoLqMHDF8NAEAAA9ncjMmKaby4AAAAASUVORK5C\n",
       "YII=\n",
       "\" style=\"display:inline;vertical-align:middle;\" /></a>, <a class=\"ProveItLink\" href=\"../__pv_it/demonstrations/db5ecd2923e447bd3a0075247ae8fe235b5e2ca60/expr.ipynb\"><img src=\"data:image/png;base64,iVBORw0KGgoAAAANSUhEUgAAADAAAAAQBAMAAACigOGCAAAAMFBMVEX///8AAAAAAAAAAAAAAAAA\n",
       "AAAAAAAAAAAAAAAAAAAAAAAAAAAAAAAAAAAAAAAAAAAv3aB7AAAAD3RSTlMAiXZmMiLdVJm77xBE\n",
       "zatgdeJyAAAACXBIWXMAAA7EAAAOxAGVKw4bAAAAn0lEQVQY02NggIK9BgzYAbeYAg4ZBjVpXDJm\n",
       "aDJCyg5QVm0rhI4TCgKSYQUcE2Bqzr4GkTxLGeZvYGBIZOCCW3t2NojcZcDQxsDA8RthaO1TMNUP\n",
       "Us3ANQFheTeEXsnA/YeBYb8CunO5PzEwf2Bg4Af6+ACKB7m/M/BdKGUAOonRATVIJjGUNTQwMAga\n",
       "a6N5dJ+i6yMHBvLBtjQQSIHzAarwIxM9IYhIAAAAAElFTkSuQmCC\n",
       "\" style=\"display:inline;vertical-align:middle;\" /></a>, <a class=\"ProveItLink\" href=\"../__pv_it/demonstrations/585c53702697cf7fd692665e03a306bf03ff58fc0/expr.ipynb\"><img src=\"data:image/png;base64,iVBORw0KGgoAAAANSUhEUgAAADAAAAAOBAMAAACbXIJpAAAAMFBMVEX///8AAAAAAAAAAAAAAAAA\n",
       "AAAAAAAAAAAAAAAAAAAAAAAAAAAAAAAAAAAAAAAAAAAv3aB7AAAAD3RSTlMAiXZmMiLdVJm77xBE\n",
       "q833A+o+AAAACXBIWXMAAA7EAAAOxAGVKw4bAAAAjUlEQVQY02NgwAr8VjDgAN9xiPP8xiHBmIBD\n",
       "gq8BSAgpO6AJxwr5FzAwhBVwTABy2tJAIBdswVKG+RsYGBIZuBRQNewyYOhjYODAtL8fpJqBawKG\n",
       "xEoG7j8MDPuh5iDs4P7EwPyBgYHfgIHhAIoG7u8MvA9KGYBOYkRz7iSGsgagPwSNtdHs2KvoeskB\n",
       "ALArIL68OdxDAAAAAElFTkSuQmCC\n",
       "\" style=\"display:inline;vertical-align:middle;\" /></a>, <a class=\"ProveItLink\" href=\"../__pv_it/demonstrations/0eded9dc7e32b6de622b83b5128d08d76cbce37a0/expr.ipynb\"><img src=\"data:image/png;base64,iVBORw0KGgoAAAANSUhEUgAAAC8AAAARBAMAAAC/eehCAAAAMFBMVEX///8AAAAAAAAAAAAAAAAA\n",
       "AAAAAAAAAAAAAAAAAAAAAAAAAAAAAAAAAAAAAAAAAAAv3aB7AAAAD3RSTlMAMs3vmVREEIndIqt2\n",
       "u2aBbGR5AAAACXBIWXMAAA7EAAAOxAGVKw4bAAAAtUlEQVQY02NgYGBgVHZgwA74A2CsoAUoEvkF\n",
       "UMZLd1QdnVD6ZDuaUSpgkr3zAIoo146DX8Hing9gQuw9R4CGJy/g/Q7ibIK7gCFTgLGBgd2OgUUB\n",
       "xENIcP1j4ElgYPnAwNkA5sKN4v1zpo2BgfkCQ30CquX8G0Bk/QGG9wyozuUHK6gPYNjEugDFgyCj\n",
       "Axh4D7BOYYG7J0gASPApMJQsYGDf07j6IJqHT7w7wEABYJ8JBgIwPgAF9zCTXqf+XwAAAABJRU5E\n",
       "rkJggg==\n",
       "\" style=\"display:inline;vertical-align:middle;\" /></a> <a class=\"ProveItLink\" href=\"../__pv_it/demonstrations/cd65b365d978e6d928d52bb673b2b8a0451d87a20/proof.ipynb\" style=\"text-decoration: none\">&nbsp;&#x22A2;&nbsp;&nbsp;</a><a class=\"ProveItLink\" href=\"../__pv_it/demonstrations/a33ec34b8f3d4fb17a38bc053225ca13d77b4a7c0/expr.ipynb\"><img src=\"data:image/png;base64,iVBORw0KGgoAAAANSUhEUgAAAJ8AAAARBAMAAAAxj2N7AAAAMFBMVEX///8AAAAAAAAAAAAAAAAA\n",
       "AAAAAAAAAAAAAAAAAAAAAAAAAAAAAAAAAAAAAAAAAAAv3aB7AAAAD3RSTlMAELvv3c2ZVESJq3Yi\n",
       "MmZ3LnoBAAAACXBIWXMAAA7EAAAOxAGVKw4bAAABhklEQVQ4y2NgVHZgIBPwBidgE2ZNwKuLPQa3\n",
       "HH8BjFV6AJsoNsDnJoBbsh8m9yQRmyiaRWDA7YnHPIYpUHrLRGyi6BaBgKQ33uAIA5OMUzagiEbt\n",
       "Xo5mEc/KPRAlYn5wVZy736KZxrNy73eweSkPYEKMs7cJMDB+FZA/gGpR8wGmjyBaKhyh250hCUix\n",
       "uYDBAiRVjEsRcdBygXcCA/tHBmaQSTxwixjtGNjASYkLYSDLBAZrVAeCVAWAGAgDef4xcDeARPkn\n",
       "oIizfQDpB4FjcC/nY8QNXBXCJUy/d88A291fgGIgswKDfANapBhhRAhCFTys+BdAkyHYeoRF8hsY\n",
       "3qMlG8bfUGchwhBZFTQ2+cEG818AhgaKRfIFDEvZD6Am7H8MDByoLkRRBUlvoCAoYOB6wATNe4xb\n",
       "NkKCYgO7Gxsi68WCSGAUz0U1EFVV6QWQ5QEMYgcYGFfmIRI22OmMq+ee2osWYpzzXqNFCzZVO99t\n",
       "QBN5eoBhSAERcJT64lfECIn4CzA+ALtWcYhwOvTaAAAAAElFTkSuQmCC\n",
       "\" style=\"display:inline;vertical-align:middle;\" /></a></span>"
      ],
      "text/plain": [
       "{b < a, c >= a, c = d, d <= e} |- b < a <= c = d <= e"
      ]
     },
     "metadata": {},
     "output_type": "display_data"
    }
   ],
   "source": [
    "to_sort = [a, b, c, d, e]\n",
    "random.shuffle(to_sort)\n",
    "random.shuffle(assumptions)\n",
    "print(to_sort)\n",
    "LessEq.sort(to_sort, assumptions=assumptions)"
   ]
  },
  {
   "cell_type": "code",
   "execution_count": 13,
   "metadata": {},
   "outputs": [
    {
     "data": {
      "text/html": [
       "<span style=\"font-size:20px;\"> <a class=\"ProveItLink\" href=\"../__pv_it/demonstrations/bbc0bcee901e6972eb6e429f1c8d0480eb40fab80/proof.ipynb\" style=\"text-decoration: none\">&nbsp;&#x22A2;&nbsp;&nbsp;</a><a class=\"ProveItLink\" href=\"../__pv_it/demonstrations/db6b16172b589ac343a08116db1d262ad681b5cf0/expr.ipynb\"><img src=\"data:image/png;base64,iVBORw0KGgoAAAANSUhEUgAAADAAAAARBAMAAABp3DInAAAAMFBMVEX///8AAAAAAAAAAAAAAAAA\n",
       "AAAAAAAAAAAAAAAAAAAAAAAAAAAAAAAAAAAAAAAAAAAv3aB7AAAAD3RSTlMAMt0Qq5nNdoki72ZU\n",
       "RLsDrqvKAAAACXBIWXMAAA7EAAAOxAGVKw4bAAAAhklEQVQY02NgYFRmwASiDAwmYZ+RBI5NgNAq\n",
       "QMyOJLEpGEKzo0kUNUMZ0inIEsxNBTAVDcgSzEEbYOLsE5AkmN0OwI2czYCsA0miAUWCE24U9wQG\n",
       "7JZPZ0CVgDv3iovLLw/sHmRYAsQcP5GDRABC/2NgYPH65o0RhnH/3RnIB8xKYCAA4wMAB34ngXDu\n",
       "UyEAAAAASUVORK5CYII=\n",
       "\" style=\"display:inline;vertical-align:middle;\" /></a></span>"
      ],
      "text/plain": [
       "|- 1 <= 4"
      ]
     },
     "metadata": {},
     "output_type": "display_data"
    }
   ],
   "source": [
    "LessEq(one, four).prove(automation=False)"
   ]
  },
  {
   "cell_type": "code",
   "execution_count": 14,
   "metadata": {},
   "outputs": [
    {
     "name": "stdout",
     "output_type": "stream",
     "text": [
      "[b, a, d, e, c]\n"
     ]
    },
    {
     "data": {
      "text/html": [
       "<span style=\"font-size:20px;\"><a class=\"ProveItLink\" href=\"../__pv_it/demonstrations/727e41fdf2d772522c8d75855fd225d4ba73b9f80/expr.ipynb\"><img src=\"data:image/png;base64,iVBORw0KGgoAAAANSUhEUgAAADAAAAAQBAMAAACigOGCAAAAMFBMVEX///8AAAAAAAAAAAAAAAAA\n",
       "AAAAAAAAAAAAAAAAAAAAAAAAAAAAAAAAAAAAAAAAAAAv3aB7AAAAD3RSTlMAELvv3c2ZVESJq3Yi\n",
       "MmZ3LnoBAAAACXBIWXMAAA7EAAAOxAGVKw4bAAAAs0lEQVQY02NgVHZgwA5YE3BI8BfgkOgXQLDZ\n",
       "Y5AkpiCYfG5Iihiidi+Hsrg9oeKnZp9mYGD8KiB/AMyV9IYq4LBh0BdgYP/IwLwBxD3mBzND+AFD\n",
       "CgMDWwAD/wQgjyscbng+A4MnAwPLBIb+AlQJIwbGH2Bv5AugGMX4m4HvA1DiAqMdA4rljN8ZuAJq\n",
       "GLgeMMHCRNob4lxthpKEBAbGlXkID0I8IrXzzuoLqMHDF8NAEAAA9ncjMmKaby4AAAAASUVORK5C\n",
       "YII=\n",
       "\" style=\"display:inline;vertical-align:middle;\" /></a>, <a class=\"ProveItLink\" href=\"../__pv_it/demonstrations/db5ecd2923e447bd3a0075247ae8fe235b5e2ca60/expr.ipynb\"><img src=\"data:image/png;base64,iVBORw0KGgoAAAANSUhEUgAAADAAAAAQBAMAAACigOGCAAAAMFBMVEX///8AAAAAAAAAAAAAAAAA\n",
       "AAAAAAAAAAAAAAAAAAAAAAAAAAAAAAAAAAAAAAAAAAAv3aB7AAAAD3RSTlMAiXZmMiLdVJm77xBE\n",
       "zatgdeJyAAAACXBIWXMAAA7EAAAOxAGVKw4bAAAAn0lEQVQY02NggIK9BgzYAbeYAg4ZBjVpXDJm\n",
       "aDJCyg5QVm0rhI4TCgKSYQUcE2Bqzr4GkTxLGeZvYGBIZOCCW3t2NojcZcDQxsDA8RthaO1TMNUP\n",
       "Us3ANQFheTeEXsnA/YeBYb8CunO5PzEwf2Bg4Af6+ACKB7m/M/BdKGUAOonRATVIJjGUNTQwMAga\n",
       "a6N5dJ+i6yMHBvLBtjQQSIHzAarwIxM9IYhIAAAAAElFTkSuQmCC\n",
       "\" style=\"display:inline;vertical-align:middle;\" /></a>, <a class=\"ProveItLink\" href=\"../__pv_it/demonstrations/585c53702697cf7fd692665e03a306bf03ff58fc0/expr.ipynb\"><img src=\"data:image/png;base64,iVBORw0KGgoAAAANSUhEUgAAADAAAAAOBAMAAACbXIJpAAAAMFBMVEX///8AAAAAAAAAAAAAAAAA\n",
       "AAAAAAAAAAAAAAAAAAAAAAAAAAAAAAAAAAAAAAAAAAAv3aB7AAAAD3RSTlMAiXZmMiLdVJm77xBE\n",
       "q833A+o+AAAACXBIWXMAAA7EAAAOxAGVKw4bAAAAjUlEQVQY02NgwAr8VjDgAN9xiPP8xiHBmIBD\n",
       "gq8BSAgpO6AJxwr5FzAwhBVwTABy2tJAIBdswVKG+RsYGBIZuBRQNewyYOhjYODAtL8fpJqBawKG\n",
       "xEoG7j8MDPuh5iDs4P7EwPyBgYHfgIHhAIoG7u8MvA9KGYBOYkRz7iSGsgagPwSNtdHs2KvoeskB\n",
       "ALArIL68OdxDAAAAAElFTkSuQmCC\n",
       "\" style=\"display:inline;vertical-align:middle;\" /></a>, <a class=\"ProveItLink\" href=\"../__pv_it/demonstrations/0eded9dc7e32b6de622b83b5128d08d76cbce37a0/expr.ipynb\"><img src=\"data:image/png;base64,iVBORw0KGgoAAAANSUhEUgAAAC8AAAARBAMAAAC/eehCAAAAMFBMVEX///8AAAAAAAAAAAAAAAAA\n",
       "AAAAAAAAAAAAAAAAAAAAAAAAAAAAAAAAAAAAAAAAAAAv3aB7AAAAD3RSTlMAMs3vmVREEIndIqt2\n",
       "u2aBbGR5AAAACXBIWXMAAA7EAAAOxAGVKw4bAAAAtUlEQVQY02NgYGBgVHZgwA74A2CsoAUoEvkF\n",
       "UMZLd1QdnVD6ZDuaUSpgkr3zAIoo146DX8Hing9gQuw9R4CGJy/g/Q7ibIK7gCFTgLGBgd2OgUUB\n",
       "xENIcP1j4ElgYPnAwNkA5sKN4v1zpo2BgfkCQ30CquX8G0Bk/QGG9wyozuUHK6gPYNjEugDFgyCj\n",
       "Axh4D7BOYYG7J0gASPApMJQsYGDf07j6IJqHT7w7wEABYJ8JBgIwPgAF9zCTXqf+XwAAAABJRU5E\n",
       "rkJggg==\n",
       "\" style=\"display:inline;vertical-align:middle;\" /></a> <a class=\"ProveItLink\" href=\"../__pv_it/demonstrations/cd65b365d978e6d928d52bb673b2b8a0451d87a20/proof.ipynb\" style=\"text-decoration: none\">&nbsp;&#x22A2;&nbsp;&nbsp;</a><a class=\"ProveItLink\" href=\"../__pv_it/demonstrations/a33ec34b8f3d4fb17a38bc053225ca13d77b4a7c0/expr.ipynb\"><img src=\"data:image/png;base64,iVBORw0KGgoAAAANSUhEUgAAAJ8AAAARBAMAAAAxj2N7AAAAMFBMVEX///8AAAAAAAAAAAAAAAAA\n",
       "AAAAAAAAAAAAAAAAAAAAAAAAAAAAAAAAAAAAAAAAAAAv3aB7AAAAD3RSTlMAELvv3c2ZVESJq3Yi\n",
       "MmZ3LnoBAAAACXBIWXMAAA7EAAAOxAGVKw4bAAABhklEQVQ4y2NgVHZgIBPwBidgE2ZNwKuLPQa3\n",
       "HH8BjFV6AJsoNsDnJoBbsh8m9yQRmyiaRWDA7YnHPIYpUHrLRGyi6BaBgKQ33uAIA5OMUzagiEbt\n",
       "Xo5mEc/KPRAlYn5wVZy736KZxrNy73eweSkPYEKMs7cJMDB+FZA/gGpR8wGmjyBaKhyh250hCUix\n",
       "uYDBAiRVjEsRcdBygXcCA/tHBmaQSTxwixjtGNjASYkLYSDLBAZrVAeCVAWAGAgDef4xcDeARPkn\n",
       "oIizfQDpB4FjcC/nY8QNXBXCJUy/d88A291fgGIgswKDfANapBhhRAhCFTys+BdAkyHYeoRF8hsY\n",
       "3qMlG8bfUGchwhBZFTQ2+cEG818AhgaKRfIFDEvZD6Am7H8MDByoLkRRBUlvoCAoYOB6wATNe4xb\n",
       "NkKCYgO7Gxsi68WCSGAUz0U1EFVV6QWQ5QEMYgcYGFfmIRI22OmMq+ee2osWYpzzXqNFCzZVO99t\n",
       "QBN5eoBhSAERcJT64lfECIn4CzA+ALtWcYhwOvTaAAAAAElFTkSuQmCC\n",
       "\" style=\"display:inline;vertical-align:middle;\" /></a></span>"
      ],
      "text/plain": [
       "{b < a, c >= a, c = d, d <= e} |- b < a <= c = d <= e"
      ]
     },
     "metadata": {},
     "output_type": "display_data"
    }
   ],
   "source": [
    "to_sort = [a, b, c, d, e]\n",
    "random.shuffle(to_sort)\n",
    "random.shuffle(assumptions)\n",
    "print(to_sort)\n",
    "LessEq.sort(to_sort, assumptions=assumptions)"
   ]
  },
  {
   "cell_type": "code",
   "execution_count": 15,
   "metadata": {},
   "outputs": [
    {
     "name": "stdout",
     "output_type": "stream",
     "text": [
      "[d, c, b, a, e]\n"
     ]
    },
    {
     "data": {
      "text/html": [
       "<span style=\"font-size:20px;\"><a class=\"ProveItLink\" href=\"../__pv_it/demonstrations/727e41fdf2d772522c8d75855fd225d4ba73b9f80/expr.ipynb\"><img src=\"data:image/png;base64,iVBORw0KGgoAAAANSUhEUgAAADAAAAAQBAMAAACigOGCAAAAMFBMVEX///8AAAAAAAAAAAAAAAAA\n",
       "AAAAAAAAAAAAAAAAAAAAAAAAAAAAAAAAAAAAAAAAAAAv3aB7AAAAD3RSTlMAELvv3c2ZVESJq3Yi\n",
       "MmZ3LnoBAAAACXBIWXMAAA7EAAAOxAGVKw4bAAAAs0lEQVQY02NgVHZgwA5YE3BI8BfgkOgXQLDZ\n",
       "Y5AkpiCYfG5Iihiidi+Hsrg9oeKnZp9mYGD8KiB/AMyV9IYq4LBh0BdgYP/IwLwBxD3mBzND+AFD\n",
       "CgMDWwAD/wQgjyscbng+A4MnAwPLBIb+AlQJIwbGH2Bv5AugGMX4m4HvA1DiAqMdA4rljN8ZuAJq\n",
       "GLgeMMHCRNob4lxthpKEBAbGlXkID0I8IrXzzuoLqMHDF8NAEAAA9ncjMmKaby4AAAAASUVORK5C\n",
       "YII=\n",
       "\" style=\"display:inline;vertical-align:middle;\" /></a>, <a class=\"ProveItLink\" href=\"../__pv_it/demonstrations/db5ecd2923e447bd3a0075247ae8fe235b5e2ca60/expr.ipynb\"><img src=\"data:image/png;base64,iVBORw0KGgoAAAANSUhEUgAAADAAAAAQBAMAAACigOGCAAAAMFBMVEX///8AAAAAAAAAAAAAAAAA\n",
       "AAAAAAAAAAAAAAAAAAAAAAAAAAAAAAAAAAAAAAAAAAAv3aB7AAAAD3RSTlMAiXZmMiLdVJm77xBE\n",
       "zatgdeJyAAAACXBIWXMAAA7EAAAOxAGVKw4bAAAAn0lEQVQY02NggIK9BgzYAbeYAg4ZBjVpXDJm\n",
       "aDJCyg5QVm0rhI4TCgKSYQUcE2Bqzr4GkTxLGeZvYGBIZOCCW3t2NojcZcDQxsDA8RthaO1TMNUP\n",
       "Us3ANQFheTeEXsnA/YeBYb8CunO5PzEwf2Bg4Af6+ACKB7m/M/BdKGUAOonRATVIJjGUNTQwMAga\n",
       "a6N5dJ+i6yMHBvLBtjQQSIHzAarwIxM9IYhIAAAAAElFTkSuQmCC\n",
       "\" style=\"display:inline;vertical-align:middle;\" /></a>, <a class=\"ProveItLink\" href=\"../__pv_it/demonstrations/585c53702697cf7fd692665e03a306bf03ff58fc0/expr.ipynb\"><img src=\"data:image/png;base64,iVBORw0KGgoAAAANSUhEUgAAADAAAAAOBAMAAACbXIJpAAAAMFBMVEX///8AAAAAAAAAAAAAAAAA\n",
       "AAAAAAAAAAAAAAAAAAAAAAAAAAAAAAAAAAAAAAAAAAAv3aB7AAAAD3RSTlMAiXZmMiLdVJm77xBE\n",
       "q833A+o+AAAACXBIWXMAAA7EAAAOxAGVKw4bAAAAjUlEQVQY02NgwAr8VjDgAN9xiPP8xiHBmIBD\n",
       "gq8BSAgpO6AJxwr5FzAwhBVwTABy2tJAIBdswVKG+RsYGBIZuBRQNewyYOhjYODAtL8fpJqBawKG\n",
       "xEoG7j8MDPuh5iDs4P7EwPyBgYHfgIHhAIoG7u8MvA9KGYBOYkRz7iSGsgagPwSNtdHs2KvoeskB\n",
       "ALArIL68OdxDAAAAAElFTkSuQmCC\n",
       "\" style=\"display:inline;vertical-align:middle;\" /></a>, <a class=\"ProveItLink\" href=\"../__pv_it/demonstrations/0eded9dc7e32b6de622b83b5128d08d76cbce37a0/expr.ipynb\"><img src=\"data:image/png;base64,iVBORw0KGgoAAAANSUhEUgAAAC8AAAARBAMAAAC/eehCAAAAMFBMVEX///8AAAAAAAAAAAAAAAAA\n",
       "AAAAAAAAAAAAAAAAAAAAAAAAAAAAAAAAAAAAAAAAAAAv3aB7AAAAD3RSTlMAMs3vmVREEIndIqt2\n",
       "u2aBbGR5AAAACXBIWXMAAA7EAAAOxAGVKw4bAAAAtUlEQVQY02NgYGBgVHZgwA74A2CsoAUoEvkF\n",
       "UMZLd1QdnVD6ZDuaUSpgkr3zAIoo146DX8Hing9gQuw9R4CGJy/g/Q7ibIK7gCFTgLGBgd2OgUUB\n",
       "xENIcP1j4ElgYPnAwNkA5sKN4v1zpo2BgfkCQ30CquX8G0Bk/QGG9wyozuUHK6gPYNjEugDFgyCj\n",
       "Axh4D7BOYYG7J0gASPApMJQsYGDf07j6IJqHT7w7wEABYJ8JBgIwPgAF9zCTXqf+XwAAAABJRU5E\n",
       "rkJggg==\n",
       "\" style=\"display:inline;vertical-align:middle;\" /></a> <a class=\"ProveItLink\" href=\"../__pv_it/demonstrations/cd65b365d978e6d928d52bb673b2b8a0451d87a20/proof.ipynb\" style=\"text-decoration: none\">&nbsp;&#x22A2;&nbsp;&nbsp;</a><a class=\"ProveItLink\" href=\"../__pv_it/demonstrations/a33ec34b8f3d4fb17a38bc053225ca13d77b4a7c0/expr.ipynb\"><img src=\"data:image/png;base64,iVBORw0KGgoAAAANSUhEUgAAAJ8AAAARBAMAAAAxj2N7AAAAMFBMVEX///8AAAAAAAAAAAAAAAAA\n",
       "AAAAAAAAAAAAAAAAAAAAAAAAAAAAAAAAAAAAAAAAAAAv3aB7AAAAD3RSTlMAELvv3c2ZVESJq3Yi\n",
       "MmZ3LnoBAAAACXBIWXMAAA7EAAAOxAGVKw4bAAABhklEQVQ4y2NgVHZgIBPwBidgE2ZNwKuLPQa3\n",
       "HH8BjFV6AJsoNsDnJoBbsh8m9yQRmyiaRWDA7YnHPIYpUHrLRGyi6BaBgKQ33uAIA5OMUzagiEbt\n",
       "Xo5mEc/KPRAlYn5wVZy736KZxrNy73eweSkPYEKMs7cJMDB+FZA/gGpR8wGmjyBaKhyh250hCUix\n",
       "uYDBAiRVjEsRcdBygXcCA/tHBmaQSTxwixjtGNjASYkLYSDLBAZrVAeCVAWAGAgDef4xcDeARPkn\n",
       "oIizfQDpB4FjcC/nY8QNXBXCJUy/d88A291fgGIgswKDfANapBhhRAhCFTys+BdAkyHYeoRF8hsY\n",
       "3qMlG8bfUGchwhBZFTQ2+cEG818AhgaKRfIFDEvZD6Am7H8MDByoLkRRBUlvoCAoYOB6wATNe4xb\n",
       "NkKCYgO7Gxsi68WCSGAUz0U1EFVV6QWQ5QEMYgcYGFfmIRI22OmMq+ee2osWYpzzXqNFCzZVO99t\n",
       "QBN5eoBhSAERcJT64lfECIn4CzA+ALtWcYhwOvTaAAAAAElFTkSuQmCC\n",
       "\" style=\"display:inline;vertical-align:middle;\" /></a></span>"
      ],
      "text/plain": [
       "{b < a, c >= a, c = d, d <= e} |- b < a <= c = d <= e"
      ]
     },
     "metadata": {},
     "output_type": "display_data"
    }
   ],
   "source": [
    "to_sort = [a, b, c, d, e]\n",
    "random.shuffle(to_sort)\n",
    "random.shuffle(assumptions)\n",
    "print(to_sort)\n",
    "LessEq.sort(to_sort, assumptions=assumptions)"
   ]
  },
  {
   "cell_type": "markdown",
   "metadata": {},
   "source": [
    "### Number ordering\n",
    "\n",
    "A number ordering is simply a total-ordering style for presenting a conjunction of number ordering relations."
   ]
  },
  {
   "cell_type": "code",
   "execution_count": 16,
   "metadata": {},
   "outputs": [
    {
     "data": {
      "text/html": [
       "<strong id=\"ordering\">ordering:</strong> <span style=\"font-size:20px;\"><a class=\"ProveItLink\" href=\"../__pv_it/demonstrations/cac6b94a1016f386d7aa2e18455423ffa3c896b70/expr.ipynb\"><img src=\"data:image/png;base64,iVBORw0KGgoAAAANSUhEUgAAADYAAAAOBAMAAACWQvIuAAAAMFBMVEX///8AAAAAAAAAAAAAAAAA\n",
       "AAAAAAAAAAAAAAAAAAAAAAAAAAAAAAAAAAAAAAAAAAAv3aB7AAAAD3RSTlMAEHaJZjKZVN3vq7tE\n",
       "zSL5cm/iAAAACXBIWXMAAA7EAAAOxAGVKw4bAAAAuElEQVQY02NgIAGw38MpxdImgOAwKjswhDFU\n",
       "QEWYmiEMRqWFweYMzOwTGFYznD8AFhJugupgY9BSyGAIZ2tgmMTA+wAk8qwFZpofg7/AEgYBTgXW\n",
       "r0B1QMB1HW5TAEMuiKoXYJrAwIQmxwA0CwhyGbgXMMQwoJrJwPOPQZCBYRcDhwGDAQOKWxj3cE0A\n",
       "iVkznFzAcwCqXKgJ7Af2r2ITeAqAzk1WXGaC8DvYg4xJCmXuWALmHlFBCwDYSCPQHYkPUgAAAABJ\n",
       "RU5ErkJggg==\n",
       "\" style=\"display:inline;vertical-align:middle;\" /></a>, <a class=\"ProveItLink\" href=\"../__pv_it/theorems/aba6340e84a2dc194f2dc2e8029d9090c42823300/expr.ipynb\"><img src=\"data:image/png;base64,iVBORw0KGgoAAAANSUhEUgAAADMAAAARBAMAAACC64kkAAAAMFBMVEX///8AAAAAAAAAAAAAAAAA\n",
       "AAAAAAAAAAAAAAAAAAAAAAAAAAAAAAAAAAAAAAAAAAAv3aB7AAAAD3RSTlMAEHarMolUmd1mIs3v\n",
       "RLtmgJDEAAAACXBIWXMAAA7EAAAOxAGVKw4bAAAAuklEQVQY02NgQAXZCxhwgBmFuGQ0AnFIMEYo\n",
       "oAoIKYuEJoBlKibA1KhPYBAG0gVMRuwNIL51Akw1K9sBhvkMDJwLOD8yg5UjpNyAau0YGFgY2DdA\n",
       "BLjgBgrwKDAcAjF4FDCccV+A5QuYXsAogOb4agamAwwMchdsGFjRvfyYgc+AgSHfsYbhGlJAOYDI\n",
       "Yob7QHvFldgqE9A9LxxUjzMsGaJxiLNuYDyGEoIdYACyi0OBOQCHLrZJtUASAKK5Jt8THS4EAAAA\n",
       "AElFTkSuQmCC\n",
       "\" style=\"display:inline;vertical-align:middle;\" /></a>, <a class=\"ProveItLink\" href=\"../__pv_it/theorems/568fa3bbc8036d6fb9bb87d609869de6437353400/expr.ipynb\"><img src=\"data:image/png;base64,iVBORw0KGgoAAAANSUhEUgAAADEAAAAQBAMAAABNQoq8AAAAMFBMVEX///8AAAAAAAAAAAAAAAAA\n",
       "AAAAAAAAAAAAAAAAAAAAAAAAAAAAAAAAAAAAAAAAAAAv3aB7AAAAD3RSTlMAEHaZZquJVO8y3btE\n",
       "zSKD2s2pAAAACXBIWXMAAA7EAAAOxAGVKw4bAAAArUlEQVQY02NgIBKw38MhwbJYAMFhVHZgEIWy\n",
       "mZZBJWat5HNgYGNvYPCH8MUWwVRfyk5lYJjOvIAhGsx/vARmDp8AQyIDgwCHAkMTiMt6HclCMZCx\n",
       "5wU4f6LL8CmASFsGpgY00xiOMDACya0M3AFoLmAvYGAFUqYM5x2gIkKLIK6ena22EkiJJtk/gPsU\n",
       "4qEE9t4DYH4uUiAghQ7bBcZ27EHFpcCagCN0nWywSwAAex8gyW+OmV4AAAAASUVORK5CYII=\n",
       "\" style=\"display:inline;vertical-align:middle;\" /></a> <a class=\"ProveItLink\" href=\"../__pv_it/demonstrations/f9376c1d5b9a0a20743cc57a70a659b5ed8bd5d40/proof.ipynb\" style=\"text-decoration: none\">&nbsp;&#x22A2;&nbsp;&nbsp;</a><a class=\"ProveItLink\" href=\"../__pv_it/demonstrations/76318da9ea08c23097a8355c4e993a2d63bc39ab0/expr.ipynb\"><img src=\"data:image/png;base64,iVBORw0KGgoAAAANSUhEUgAAAIMAAAARBAMAAAAMHQIdAAAAMFBMVEX///8AAAAAAAAAAAAAAAAA\n",
       "AAAAAAAAAAAAAAAAAAAAAAAAAAAAAAAAAAAAAAAAAAAv3aB7AAAAD3RSTlMAEHaJZjKZVN3vq7tE\n",
       "zSL5cm/iAAAACXBIWXMAAA7EAAAOxAGVKw4bAAABWElEQVQ4y2NgIAKw32OgELC0CZCkHtNGpmYB\n",
       "khyGaaNwEyFljMoODGEMFQKoNjIqLQw2B7PEWmAK1RwYpNAdFtHK58DAzD6BYTXD+QOoNrIxaClk\n",
       "gBhS12F2gRT6ozmM8ZK1FQNDOFsDwyQG3gcgkWcwGxn8GPwFloAYXHAjQApXM6Aq4xNgMGRgEOBU\n",
       "YP0KtBVFOUMAQy6UBVcPVAi0C1UZ0EEgH9ULME1gYMKQm4QRnOcFgHahKeNTAJG5DNwLGGLQXMjA\n",
       "849BEC3schmAdqEpO8LACCR3MXAYMBig2si4h2sCTAweg7tAdqE6jL2AgQtIWTOcXMBzACom1ARW\n",
       "zf5VbAJPASIdXQWRWQznHVCVMURbK7eC4i9ZcZkJIs2AXc2YpFDmjp6cpIzyH6AqYzBgn3sAS7rD\n",
       "k6VsiVOGEzBfYJxOVi6V6AABkIc5FLgMKMzy7E452CUATrFPHVTVacsAAAAASUVORK5CYII=\n",
       "\" style=\"display:inline;vertical-align:middle;\" /></a></span><br>"
      ],
      "text/plain": [
       "<IPython.core.display.HTML object>"
      ]
     },
     "metadata": {},
     "output_type": "display_data"
    }
   ],
   "source": [
    "ordering = number_ordering(Less(w, x), LessEq(x, y), Less(y, z)).prove(\n",
    "    assumptions=[Less(w, x), LessEq(x, y), Less(y, z)])"
   ]
  },
  {
   "cell_type": "code",
   "execution_count": 17,
   "metadata": {},
   "outputs": [
    {
     "data": {
      "text/html": [
       "<table><tr><th>&nbsp;</th><th>core type</th><th>sub-expressions</th><th>expression</th></tr>\n",
       "<tr><td>0</td><td>Operation</td><td>operator:&nbsp;1<br>operands:&nbsp;2<br></td><td><a class=\"ProveItLink\" href=\"../__pv_it/demonstrations/76318da9ea08c23097a8355c4e993a2d63bc39ab0/expr.ipynb\"><img src=\"data:image/png;base64,iVBORw0KGgoAAAANSUhEUgAAAIMAAAARBAMAAAAMHQIdAAAAMFBMVEX///8AAAAAAAAAAAAAAAAA\n",
       "AAAAAAAAAAAAAAAAAAAAAAAAAAAAAAAAAAAAAAAAAAAv3aB7AAAAD3RSTlMAEHaJZjKZVN3vq7tE\n",
       "zSL5cm/iAAAACXBIWXMAAA7EAAAOxAGVKw4bAAABWElEQVQ4y2NgIAKw32OgELC0CZCkHtNGpmYB\n",
       "khyGaaNwEyFljMoODGEMFQKoNjIqLQw2B7PEWmAK1RwYpNAdFtHK58DAzD6BYTXD+QOoNrIxaClk\n",
       "gBhS12F2gRT6ozmM8ZK1FQNDOFsDwyQG3gcgkWcwGxn8GPwFloAYXHAjQApXM6Aq4xNgMGRgEOBU\n",
       "YP0KtBVFOUMAQy6UBVcPVAi0C1UZ0EEgH9ULME1gYMKQm4QRnOcFgHahKeNTAJG5DNwLGGLQXMjA\n",
       "849BEC3schmAdqEpO8LACCR3MXAYMBig2si4h2sCTAweg7tAdqE6jL2AgQtIWTOcXMBzACom1ARW\n",
       "zf5VbAJPASIdXQWRWQznHVCVMURbK7eC4i9ZcZkJIs2AXc2YpFDmjp6cpIzyH6AqYzBgn3sAS7rD\n",
       "k6VsiVOGEzBfYJxOVi6V6AABkIc5FLgMKMzy7E452CUATrFPHVTVacsAAAAASUVORK5CYII=\n",
       "\" style=\"display:inline;vertical-align:middle;\" /></a></td></tr>\n",
       "<tr><td>1</td><td>Literal</td><td></td><td><a class=\"ProveItLink\" href=\"../../../logic/booleans/conjunction/__pv_it/common/42118ff318bd65d98b1393f64ce7c2269feef76e0/expr.ipynb\"><img src=\"data:image/png;base64,iVBORw0KGgoAAAANSUhEUgAAAAwAAAANBAMAAABvB5JxAAAALVBMVEX///8AAAAAAAAAAAAAAAAA\n",
       "AAAAAAAAAAAAAAAAAAAAAAAAAAAAAAAAAAAAAADAOrOgAAAADnRSTlMAiVQQ3c12ZqtEMrsimR5C\n",
       "toEAAAAJcEhZcwAADsQAAA7EAZUrDhsAAABJSURBVAjXY2BgYFRgAAGTADCV3gmmHFaDSCYB1gNA\n",
       "ivUA0wUgtYKBwRlIdTEwpDEwMAOVm0A08yowsADFeQIYykCadjE0g6hlALZOClg60HSyAAAAAElF\n",
       "TkSuQmCC\n",
       "\" style=\"display:inline;vertical-align:middle;\" /></a></td></tr>\n",
       "<tr><td>2</td><td>ExprTuple</td><td>3, 4, 5</td><td><a class=\"ProveItLink\" href=\"../__pv_it/demonstrations/76d6d28db1f2f043d4b3bbe8e8166fcecff484040/expr.ipynb\"><img src=\"data:image/png;base64,iVBORw0KGgoAAAANSUhEUgAAALkAAAAVBAMAAADoXVL6AAAAMFBMVEX///8AAAAAAAAAAAAAAAAA\n",
       "AAAAAAAAAAAAAAAAAAAAAAAAAAAAAAAAAAAAAAAAAAAv3aB7AAAAD3RSTlMAInZUiRDNmWbv3US7\n",
       "qzJazP2FAAAACXBIWXMAAA7EAAAOxAGVKw4bAAACSUlEQVQ4y7VVPWgUURD+dvdeLreXPbYTUq0h\n",
       "IgiBKzSCTRY1QeSEJShpjJ6KkDJIDDEirloINlki2NiEqCgW4dBGq4u2EjgE/yDFgYoQU2hhG5z3\n",
       "3t7+35IUN7DLtzPzzc2bmTcHwERvRMRVqz2K/oq/DvcoOFQXYPW9skZ3W8qrQNHdY/AH13freR8o\n",
       "pbXapRzKofHciFFuycFoyqH/udOVzE5bucFj3D4Xc0QZdvELx3y9+lQCNvTpxwmpmhy5cFJMFlvs\n",
       "1JEddDGdQCEXW2uKi0ILM0BB87CJZkPoz676nkWMWIsSzqofiys80OdgejlnKYFCLrtcO0MHqeMJ\n",
       "8J2oy+gTo7DvRYd/B0vOV3lcs/+fIZIOo3POZgKFXMUBtYd+9jHglKzKDuVKYlwJqtbGvI8qKPpj\n",
       "qwSVIQ5lFEMRLh2DSlT5w6NjzFE9qCmP5bD7VqqrTYcyiqEoV+FuZY9XhpIcaOF34nQo/8W5TiiT\n",
       "OYmJnAdlFEcR7hswqswK3hPegG7DjneGfTA80pETzje+oZC8TRs8IxageFe1Kgzq1zqot6jhbavc\n",
       "8C2TqyJNbWfKK1dxkSo+9vMGXkc2QZu/b6HpCqtEMS62a8NrNHU2tvjwzR34ciq8EWJo2TXr6D1A\n",
       "fwZMDWkLqUU6ffy2KawSxbiwtUeUrN6A3k5fuOgmONL1Xk4E1ols7iB9zuavIjtbXaizh9LqowxZ\n",
       "oOddbnAW3SvspRB+Wt0ybGmVKEOUdT4R+X8B3Xbh3Zu+VaIMGTA7g98L2Q/8B30kjSBrjDbaAAAA\n",
       "AElFTkSuQmCC\n",
       "\" style=\"display:inline;vertical-align:middle;\" /></a></td></tr>\n",
       "<tr><td>3</td><td>Operation</td><td>operator:&nbsp;9<br>operands:&nbsp;6<br></td><td><a class=\"ProveItLink\" href=\"../__pv_it/demonstrations/cac6b94a1016f386d7aa2e18455423ffa3c896b70/expr.ipynb\"><img src=\"data:image/png;base64,iVBORw0KGgoAAAANSUhEUgAAADYAAAAOBAMAAACWQvIuAAAAMFBMVEX///8AAAAAAAAAAAAAAAAA\n",
       "AAAAAAAAAAAAAAAAAAAAAAAAAAAAAAAAAAAAAAAAAAAv3aB7AAAAD3RSTlMAEHaJZjKZVN3vq7tE\n",
       "zSL5cm/iAAAACXBIWXMAAA7EAAAOxAGVKw4bAAAAuElEQVQY02NgIAGw38MpxdImgOAwKjswhDFU\n",
       "QEWYmiEMRqWFweYMzOwTGFYznD8AFhJugupgY9BSyGAIZ2tgmMTA+wAk8qwFZpofg7/AEgYBTgXW\n",
       "r0B1QMB1HW5TAEMuiKoXYJrAwIQmxwA0CwhyGbgXMMQwoJrJwPOPQZCBYRcDhwGDAQOKWxj3cE0A\n",
       "iVkznFzAcwCqXKgJ7Af2r2ITeAqAzk1WXGaC8DvYg4xJCmXuWALmHlFBCwDYSCPQHYkPUgAAAABJ\n",
       "RU5ErkJggg==\n",
       "\" style=\"display:inline;vertical-align:middle;\" /></a></td></tr>\n",
       "<tr><td>4</td><td>Operation</td><td>operator:&nbsp;7<br>operands:&nbsp;8<br></td><td><a class=\"ProveItLink\" href=\"../__pv_it/theorems/aba6340e84a2dc194f2dc2e8029d9090c42823300/expr.ipynb\"><img src=\"data:image/png;base64,iVBORw0KGgoAAAANSUhEUgAAADMAAAARBAMAAACC64kkAAAAMFBMVEX///8AAAAAAAAAAAAAAAAA\n",
       "AAAAAAAAAAAAAAAAAAAAAAAAAAAAAAAAAAAAAAAAAAAv3aB7AAAAD3RSTlMAEHarMolUmd1mIs3v\n",
       "RLtmgJDEAAAACXBIWXMAAA7EAAAOxAGVKw4bAAAAuklEQVQY02NgQAXZCxhwgBmFuGQ0AnFIMEYo\n",
       "oAoIKYuEJoBlKibA1KhPYBAG0gVMRuwNIL51Akw1K9sBhvkMDJwLOD8yg5UjpNyAau0YGFgY2DdA\n",
       "BLjgBgrwKDAcAjF4FDCccV+A5QuYXsAogOb4agamAwwMchdsGFjRvfyYgc+AgSHfsYbhGlJAOYDI\n",
       "Yob7QHvFldgqE9A9LxxUjzMsGaJxiLNuYDyGEoIdYACyi0OBOQCHLrZJtUASAKK5Jt8THS4EAAAA\n",
       "AElFTkSuQmCC\n",
       "\" style=\"display:inline;vertical-align:middle;\" /></a></td></tr>\n",
       "<tr><td>5</td><td>Operation</td><td>operator:&nbsp;9<br>operands:&nbsp;10<br></td><td><a class=\"ProveItLink\" href=\"../__pv_it/theorems/568fa3bbc8036d6fb9bb87d609869de6437353400/expr.ipynb\"><img src=\"data:image/png;base64,iVBORw0KGgoAAAANSUhEUgAAADEAAAAQBAMAAABNQoq8AAAAMFBMVEX///8AAAAAAAAAAAAAAAAA\n",
       "AAAAAAAAAAAAAAAAAAAAAAAAAAAAAAAAAAAAAAAAAAAv3aB7AAAAD3RSTlMAEHaZZquJVO8y3btE\n",
       "zSKD2s2pAAAACXBIWXMAAA7EAAAOxAGVKw4bAAAArUlEQVQY02NgIBKw38MhwbJYAMFhVHZgEIWy\n",
       "mZZBJWat5HNgYGNvYPCH8MUWwVRfyk5lYJjOvIAhGsx/vARmDp8AQyIDgwCHAkMTiMt6HclCMZCx\n",
       "5wU4f6LL8CmASFsGpgY00xiOMDACya0M3AFoLmAvYGAFUqYM5x2gIkKLIK6ena22EkiJJtk/gPsU\n",
       "4qEE9t4DYH4uUiAghQ7bBcZ27EHFpcCagCN0nWywSwAAex8gyW+OmV4AAAAASUVORK5CYII=\n",
       "\" style=\"display:inline;vertical-align:middle;\" /></a></td></tr>\n",
       "<tr><td>6</td><td>ExprTuple</td><td>11, 12</td><td><a class=\"ProveItLink\" href=\"../__pv_it/demonstrations/33895ad9474b3d32392990d98446284a10763b300/expr.ipynb\"><img src=\"data:image/png;base64,iVBORw0KGgoAAAANSUhEUgAAADEAAAAVBAMAAAAdjxsPAAAAMFBMVEX///8AAAAAAAAAAAAAAAAA\n",
       "AAAAAAAAAAAAAAAAAAAAAAAAAAAAAAAAAAAAAAAAAAAv3aB7AAAAD3RSTlMAInZUiRDNmWbv3US7\n",
       "qzJazP2FAAAACXBIWXMAAA7EAAAOxAGVKw4bAAABH0lEQVQoz22QMUjDQBSGv6ZN0yS1ODudoqPg\n",
       "IAouBlwcFA5BXBy6CI4iRcQp4uBo6OpScHMKbk5WVxGyiA4OBQVBF10ci++iJoN3cO/+d9/Pu3sP\n",
       "GOX/yu+cGQu5MGHWAnBicNs2whZ4sZUcg28F+Jo5O6nHdOSpyZhXFnR+5U7cvyxBLWNbYjXhias0\n",
       "Jx7T6gAabc7g2evRpf7T8SEn+hHEfAraV62hmPM1YM8crQ9DWNROgvP3eNeEMDHVxNXMeP8F4Sfr\n",
       "Uq3HjSR3BBGRlJWv3Y4kRjb6rApZ4TILU9wv8Q43klBm7EW8mZ92ph6W5TzXuLtq/khkkBIMysar\n",
       "upBjUnCnJLVS7su+LtO1QlX6EjZLogrVNAOpKMuox+EbZxk2V+n54ogAAAAASUVORK5CYII=\n",
       "\" style=\"display:inline;vertical-align:middle;\" /></a></td></tr>\n",
       "<tr><td>7</td><td>Literal</td><td></td><td><a class=\"ProveItLink\" href=\"../__pv_it/common/68379698d72b4689bbda4b5c5cca29ee599d70280/expr.ipynb\"><img src=\"data:image/png;base64,iVBORw0KGgoAAAANSUhEUgAAAA4AAAAQBAMAAADUulMJAAAAJ1BMVEX///8AAAAAAAAAAAAAAAAA\n",
       "AAAAAAAAAAAAAAAAAAAAAAAAAAAAAAAilU6eAAAADHRSTlMAVM0iZt2ZEHaJqzK1PWlpAAAACXBI\n",
       "WXMAAA7EAAAOxAGVKw4bAAAAO0lEQVQI12NgAAFGZTDFElYAojgiwVRlBFiwLARMVSmCKQYuKM1g\n",
       "FgJlQNXB9cHNAZqrzYALlIaCQDQAUHIJvA2CdOkAAAAASUVORK5CYII=\n",
       "\" style=\"display:inline;vertical-align:middle;\" /></a></td></tr>\n",
       "<tr><td>8</td><td>ExprTuple</td><td>12, 13</td><td><a class=\"ProveItLink\" href=\"../../../__pv_it/common/70b6dfe187a2382408546cc714e0c3bc5c3a48c90/expr.ipynb\"><img src=\"data:image/png;base64,iVBORw0KGgoAAAANSUhEUgAAACwAAAAVBAMAAADP3xFXAAAAMFBMVEX///8AAAAAAAAAAAAAAAAA\n",
       "AAAAAAAAAAAAAAAAAAAAAAAAAAAAAAAAAAAAAAAAAAAv3aB7AAAAD3RSTlMAInZUiRDNmWbv3US7\n",
       "qzJazP2FAAAACXBIWXMAAA7EAAAOxAGVKw4bAAABFElEQVQY022QIU8DQRBG31273JVScj8A0WAK\n",
       "gqSCEIoBQXAkzRlC0hAksqKioFAoFAkK04AD0wSFguJJLqQGV4PBFEQJkm/veuauk+zM7tvZ2W8G\n",
       "CMiYY51bz+JyVW6dnK2AOc7juSbeeR77bUrMsGs2ZuETOvLh2tFuoifsYiLY1wW03XevF+OdBv43\n",
       "XHCnHwJ/Uol/XqyfUXmBBjc64E1VGq4oqZmxxcTbpMEJ4xE82SLwHJhmjPVsVWGLV2j1PyiCvViI\n",
       "eFO4lBa2P095xPza7Kj8p9DhCw6WC13Jvle6GdZ+hB+YH6WtFeLyRYlyenYsU1N59jjUOzu+QYpD\n",
       "rVuG8ktarRRb7Zu1PkmmU83Ozw34B0+VM03mG9eBAAAAAElFTkSuQmCC\n",
       "\" style=\"display:inline;vertical-align:middle;\" /></a></td></tr>\n",
       "<tr><td>9</td><td>Literal</td><td></td><td><a class=\"ProveItLink\" href=\"../__pv_it/common/fa503ed52033522c609eef1cf3e1b45796489da50/expr.ipynb\"><img src=\"data:image/png;base64,iVBORw0KGgoAAAANSUhEUgAAAA4AAAAOBAMAAADtZjDiAAAAJFBMVEX///8AAAAAAAAAAAAAAAAA\n",
       "AAAAAAAAAAAAAAAAAAAAAAAAAADHJj5lAAAAC3RSTlMAVM0iZt2ZEHaJq+LMKKkAAAAJcEhZcwAA\n",
       "DsQAAA7EAZUrDhsAAAA1SURBVAjXY2BABozKYIolrABEcUSCqcoIsKBZCJjiUmRAoWHicHUMDBUR\n",
       "BRAGSySMoQyzAQB3EgcAVBRfuAAAAABJRU5ErkJggg==\n",
       "\" style=\"display:inline;vertical-align:middle;\" /></a></td></tr>\n",
       "<tr><td>10</td><td>ExprTuple</td><td>13, 14</td><td><a class=\"ProveItLink\" href=\"../__pv_it/demonstrations/e069a458aad4ee5753d8c0683702408c3e7d03f30/expr.ipynb\"><img src=\"data:image/png;base64,iVBORw0KGgoAAAANSUhEUgAAACsAAAAVBAMAAAAtAwouAAAAMFBMVEX///8AAAAAAAAAAAAAAAAA\n",
       "AAAAAAAAAAAAAAAAAAAAAAAAAAAAAAAAAAAAAAAAAAAv3aB7AAAAD3RSTlMAInZUiRDNmWbv3US7\n",
       "qzJazP2FAAAACXBIWXMAAA7EAAAOxAGVKw4bAAABEklEQVQY023Rv0rDUBTH8W/TXGvSGoogiFME\n",
       "wVXwD7gVQQdByORkMYsguDiICCJeXBwNOroUxMVJfIHW0lXIAzgE3Jx8AvEcUzMkBu6B8+Hmd3NP\n",
       "gDal5xecpTK/aFkpK44FE1eYA2jYKl+DV1W8iLV/eMJyIvGLlm4OwVM2C27KodR6wk3OuwujFCZj\n",
       "HuCj0eM95xncCGTbPUReyO041mxq1Jcy/Sj4HvO0lmaiIZziJLk2LRrSYyjNG60Uo7wMeuSAHWku\n",
       "6Fv2ZQrBaLidyc07fAp3Ny7b+I/yqawfSe8/42f68pas1eKWc5JzjBubO2k6BZ/JesUPp4RM+Ke1\n",
       "gZQ96lfnOvxic0v/Wi0sD3AefgA6oC/rr64gfQAAAABJRU5ErkJggg==\n",
       "\" style=\"display:inline;vertical-align:middle;\" /></a></td></tr>\n",
       "<tr><td>11</td><td>Variable</td><td></td><td><a class=\"ProveItLink\" href=\"../../../__pv_it/common/d365663894822dede40e6e04c77860068334d0820/expr.ipynb\"><img src=\"data:image/png;base64,iVBORw0KGgoAAAANSUhEUgAAAA8AAAAJBAMAAAAfoWtkAAAAMFBMVEX///8AAAAAAAAAAAAAAAAA\n",
       "AAAAAAAAAAAAAAAAAAAAAAAAAAAAAAAAAAAAAAAAAAAv3aB7AAAAD3RSTlMAEHaJZjKZVN3vq7tE\n",
       "zSL5cm/iAAAACXBIWXMAAA7EAAAOxAGVKw4bAAAAVUlEQVQI12NgVHZgCGOoEGBgZp/AsJrh/AGG\n",
       "cLYGhkkMvA8YBDgVWL8ysDEwMNQLME1gYAIychm4FzDEABm7GDgMGAyADGuGkwt4DgAZbMmKy0wY\n",
       "GAB9Kg85GMaWxgAAAABJRU5ErkJggg==\n",
       "\" style=\"display:inline;vertical-align:middle;\" /></a></td></tr>\n",
       "<tr><td>12</td><td>Variable</td><td></td><td><a class=\"ProveItLink\" href=\"../../../__pv_it/common/a0d9d672aa5e272d907247690c152cc2c6daafb70/expr.ipynb\"><img src=\"data:image/png;base64,iVBORw0KGgoAAAANSUhEUgAAAAsAAAAJBAMAAAAWSsseAAAAMFBMVEX///8AAAAAAAAAAAAAAAAA\n",
       "AAAAAAAAAAAAAAAAAAAAAAAAAAAAAAAAAAAAAAAAAAAv3aB7AAAAD3RSTlMAEHarMolUmd1mIs3v\n",
       "RLtmgJDEAAAACXBIWXMAAA7EAAAOxAGVKw4bAAAAQklEQVQI12NgEFIWCU1gYChgMmJvYOBcwPmR\n",
       "eQIDCwP7BgYQ4FEAU/cXMAowyF2wYWBlYMh3rGG4xsAgrsRWmcAAAFEjCyBvD0T9AAAAAElFTkSu\n",
       "QmCC\n",
       "\" style=\"display:inline;vertical-align:middle;\" /></a></td></tr>\n",
       "<tr><td>13</td><td>Variable</td><td></td><td><a class=\"ProveItLink\" href=\"../../../__pv_it/common/ff7dba4ef0bbe791ab573bf2d9c220a304399ac80/expr.ipynb\"><img src=\"data:image/png;base64,iVBORw0KGgoAAAANSUhEUgAAAAsAAAANBAMAAACN24kIAAAAMFBMVEX///8AAAAAAAAAAAAAAAAA\n",
       "AAAAAAAAAAAAAAAAAAAAAAAAAAAAAAAAAAAAAAAAAAAv3aB7AAAAD3RSTlMAEHaZZquJVO8y3btE\n",
       "zSKD2s2pAAAACXBIWXMAAA7EAAAOxAGVKw4bAAAAVklEQVQI12NgVHZgEGVgYGNvYPBnYJjOvIAh\n",
       "moFBgEOBoYmBgeG8AOdPIGXLwNQApLYycAcAKVOG8w5ASjTJ/gEDCOQCMdsFxnYgxaXAmgCk2J1s\n",
       "gCQAaFoNDtFIIdEAAAAASUVORK5CYII=\n",
       "\" style=\"display:inline;vertical-align:middle;\" /></a></td></tr>\n",
       "<tr><td>14</td><td>Variable</td><td></td><td><a class=\"ProveItLink\" href=\"../../../__pv_it/common/95a8f6b9b9f29b83f192ad7fd05708d6be097a3f0/expr.ipynb\"><img src=\"data:image/png;base64,iVBORw0KGgoAAAANSUhEUgAAAAoAAAAJBAMAAAD5iKAgAAAALVBMVEX///8AAAAAAAAAAAAAAAAA\n",
       "AAAAAAAAAAAAAAAAAAAAAAAAAAAAAAAAAAAAAADAOrOgAAAADnRSTlMAMt0iZhDNdom7q0RU75I/\n",
       "FSIAAAAJcEhZcwAADsQAAA7EAZUrDhsAAAA6SURBVAjXY2BgVBIwYWAIq5ixgIHBlIEjgIGBgbUV\n",
       "SDCYgwhuBwagyBkGhgUMjDOmNwkwcDCczWYAAM4bCMVQ6vlKAAAAAElFTkSuQmCC\n",
       "\" style=\"display:inline;vertical-align:middle;\" /></a></td></tr>\n",
       "</table>\n"
      ],
      "text/plain": [
       "0. w < x <= y < z\n",
       "   core type: Operation\n",
       "   operator: 1\n",
       "   operands: 2\n",
       "1. and\n",
       "   core type: Literal\n",
       "   sub-expressions: \n",
       "2. (w < x, x <= y, y < z)\n",
       "   core type: ExprTuple\n",
       "   sub-expressions: 3, 4, 5\n",
       "3. w < x\n",
       "   core type: Operation\n",
       "   operator: 9\n",
       "   operands: 6\n",
       "4. x <= y\n",
       "   core type: Operation\n",
       "   operator: 7\n",
       "   operands: 8\n",
       "5. y < z\n",
       "   core type: Operation\n",
       "   operator: 9\n",
       "   operands: 10\n",
       "6. (w, x)\n",
       "   core type: ExprTuple\n",
       "   sub-expressions: 11, 12\n",
       "7. <=\n",
       "   core type: Literal\n",
       "   sub-expressions: \n",
       "8. (x, y)\n",
       "   core type: ExprTuple\n",
       "   sub-expressions: 12, 13\n",
       "9. <\n",
       "   core type: Literal\n",
       "   sub-expressions: \n",
       "10. (y, z)\n",
       "    core type: ExprTuple\n",
       "    sub-expressions: 13, 14\n",
       "11. w\n",
       "    core type: Variable\n",
       "    sub-expressions: \n",
       "12. x\n",
       "    core type: Variable\n",
       "    sub-expressions: \n",
       "13. y\n",
       "    core type: Variable\n",
       "    sub-expressions: \n",
       "14. z\n",
       "    core type: Variable\n",
       "    sub-expressions: "
      ]
     },
     "metadata": {},
     "output_type": "display_data"
    }
   ],
   "source": [
    "ordering.expr_info()"
   ]
  },
  {
   "cell_type": "markdown",
   "metadata": {},
   "source": [
    "### Min and Max closure"
   ]
  },
  {
   "cell_type": "code",
   "execution_count": 18,
   "metadata": {},
   "outputs": [],
   "source": [
    "# some number sets for testing\n",
    "from proveit.numbers import (\n",
    "        NaturalPos, IntegerNeg, Natural, IntegerNonPos, IntegerNonZero, Integer,\n",
    "        RationalPos, RationalNeg, RationalNonNeg, RationalNonPos, RationalNonZero, Rational,\n",
    "        RealPos, RealNeg, RealNonNeg, RealNonPos, RealNonZero, Real, ComplexNonZero, Complex)"
   ]
  },
  {
   "cell_type": "code",
   "execution_count": 19,
   "metadata": {},
   "outputs": [
    {
     "data": {
      "text/html": [
       "<span style=\"font-size:20px;\"><a class=\"ProveItLink\" href=\"../__pv_it/theorems/4aa8d696b1f407d6126de9f51a052e8d90e0848c0/expr.ipynb\"><img src=\"data:image/png;base64,iVBORw0KGgoAAAANSUhEUgAAADMAAAAQBAMAAABJt1qBAAAAMFBMVEX///8AAAAAAAAAAAAAAAAA\n",
       "AAAAAAAAAAAAAAAAAAAAAAAAAAAAAAAAAAAAAAAAAAAv3aB7AAAAD3RSTlMAIquJdkTvuxBmmd1U\n",
       "zTKBpmoTAAAACXBIWXMAAA7EAAAOxAGVKw4bAAAAzElEQVQY02NgwABz0+tvp09gwAoKhBiCpjdg\n",
       "lxJmYOdTwCXFJXABRch99+4LcKkCZJlYD4Qupg6QgYzKjg4gAcYbSAY+PysAZIQJsP8ACfAKwKXE\n",
       "bv8GmcCRycC1ASyF5IyZvSCa6wMDtwGI8Ww3EBRApNg7QV5mK2DoDwAJtCPp4ltQAaT7HRjmgwW4\n",
       "kf21ThwkdYBBlwfkAhYHJKl2FqCJ7A48u7jAInfgUlIMnBNKgS5UsRPyA4s0lTbAQr6Qofz+AeTg\n",
       "CK7ejRxyAISENKeL/c93AAAAAElFTkSuQmCC\n",
       "\" style=\"display:inline;vertical-align:middle;\" /></a>, <a class=\"ProveItLink\" href=\"../__pv_it/theorems/6e5cad5b2984ed0d75bd47bd0c542ec447a4f3570/expr.ipynb\"><img src=\"data:image/png;base64,iVBORw0KGgoAAAANSUhEUgAAADEAAAAQBAMAAABNQoq8AAAAMFBMVEX///8AAAAAAAAAAAAAAAAA\n",
       "AAAAAAAAAAAAAAAAAAAAAAAAAAAAAAAAAAAAAAAAAAAv3aB7AAAAD3RSTlMAELvv3c2ZVESJq3Yi\n",
       "MmZ3LnoBAAAACXBIWXMAAA7EAAAOxAGVKw4bAAAA1ElEQVQY02NgQAdPjfRDjB4AGYzKDmhSCqcY\n",
       "uh4JABmsCegyJxmYeBcAGfwFmDJsBwKAjH4BqMgmF5cAuIwCkDEFKtG6EaGHSxBkWtTu5SA+TyCS\n",
       "aZdKDwDd9lVA/gDIIQfgModDvoD0s39kYN4AkkFywTtREM0WwMA/AUhfdgECBYgMkxzIpywTGPpB\n",
       "7hZC0sOboAjxTj7I3SzI/sk9BJK5wGgH4nNvQJIR4gYax/WACRI84XCZYwx8DzSArl6ZBxGQ0hCA\n",
       "hbUOg1I8cph1qkBCBwoAxe43BugJR6MAAAAASUVORK5CYII=\n",
       "\" style=\"display:inline;vertical-align:middle;\" /></a>, <a class=\"ProveItLink\" href=\"../__pv_it/demonstrations/d550e8309ef79ca46e4c9fb5617a392ea678789b0/expr.ipynb\"><img src=\"data:image/png;base64,iVBORw0KGgoAAAANSUhEUgAAADEAAAAQBAMAAABNQoq8AAAAMFBMVEX///8AAAAAAAAAAAAAAAAA\n",
       "AAAAAAAAAAAAAAAAAAAAAAAAAAAAAAAAAAAAAAAAAAAv3aB7AAAAD3RSTlMAiXZmMiLdVJm77xBE\n",
       "zatgdeJyAAAACXBIWXMAAA7EAAAOxAGVKw4bAAAAvUlEQVQY02NgQAe2K+dfW2nAgA1MiGM4Z7kB\n",
       "q0wgAyfLAxwyHAEXkEU009IuwGUmIEmc1Ubo4dsNNk1I2QFIst5GMs2zNgDICCvgAGnlDYDLRF37\n",
       "BtafyMClAJJBcoHxXhDN8RvC90oDggkQGc7NIJ9yQV2xE0kPS8NsIL1fAcJnQ/ZPSySQ5gdqPACk\n",
       "mRSQZHYyAUWBDmMEuZrhOlwmgoHZYA6QIWgM8eK+ORtgYT2VYeb9AqRAODgtDTm0ALktNaaWdOV1\n",
       "AAAAAElFTkSuQmCC\n",
       "\" style=\"display:inline;vertical-align:middle;\" /></a> <a class=\"ProveItLink\" href=\"../__pv_it/demonstrations/8f930721b693f01a5965505dc0d917696104b0800/proof.ipynb\" style=\"text-decoration: none\">&nbsp;&#x22A2;&nbsp;&nbsp;</a><a class=\"ProveItLink\" href=\"../__pv_it/demonstrations/42403d7105116f0cc3f88518c0b93d6df9765c1f0/expr.ipynb\"><img src=\"data:image/png;base64,iVBORw0KGgoAAAANSUhEUgAAAJQAAAAVBAMAAABS/tqaAAAAMFBMVEX///8AAAAAAAAAAAAAAAAA\n",
       "AAAAAAAAAAAAAAAAAAAAAAAAAAAAAAAAAAAAAAAAAAAv3aB7AAAAD3RSTlMAIqvd77tmEHbNmTJE\n",
       "VIk1oG/QAAAACXBIWXMAAA7EAAAOxAGVKw4bAAACh0lEQVQ4y5WUTWgTURDHZ7uf2eymS0tvHnqq\n",
       "erCKqfgBml4UBCErflRBMacIXlyKhdx2K9gW/OhatBVUiB561LR6Eg9BPOiljSCIByVYUaFQWtGG\n",
       "RovOey9J325cMAub/Gfn7e/NvJkdgKjLatkRdWmlKM+rkK3cOrHWdxJFR6qf2Omdoc0+clo9voPf\n",
       "JBNiyUK30TOAomuVkLeHSKrPW7E8b001ocpgz6LI7SU7PXaCbj2wdXsg2wv/QD2IEdQ4BvQ8jJIC\n",
       "1nzAK9WsK8mk30DJBOVi9F4Y9T5gLQSsGIv49SgX1eZBgmrDc88gShlbcpRzq8aPu/j0Ed5C77DH\n",
       "Fk+Mbau99m2kAIluooQpLsH42ZsEZayD6SDqraX7kKjAPeKexPulJVdYDdYcl5Wls6TboNC0YtYG\n",
       "6nBqD8kqB7tAA4oyVgBuKwXi3o+AQ6CzJjArILH4DhBh0vaJccf+5Tyl52Dc2kRQoM4h6lIPdR/B\n",
       "Ii6DWGbl9KGdKp1GGV8mv0+TeNm1BAeyDOWWPYJSH35AlPm7jpJscIvUQOI8bQeJvmrQqIb4Zngm\n",
       "swTl/gxNsBhHlP7ZqSXoenCx0Vaswi5N06RpizxKn7EpyvjukKVVMFZm4KtM0z6F75Vgq2mpBFXA\n",
       "c6MC26AICo1N8ziUao+geAFwEAA/nCpov94kPLVK3J9whWfu08FFcltGzlOB5UsUQGcneH8DlYes\n",
       "XISu9CRcg8vpCWv2+ujCjZSv/LmD7idYhS2LHVdB3I2qdxqogKUs9qXITnDwjFOfDD8t+fR61CQR\n",
       "C3X1rkl01v7njiX9/xhXSmMWlJvEdIuj72h92nhhIdgtoupto0FYyK1OZMGL8gxHPP8LZcmtXfCE\n",
       "fzQAAAAASUVORK5CYII=\n",
       "\" style=\"display:inline;vertical-align:middle;\" /></a></span>"
      ],
      "text/plain": [
       "{a in Real, b in Real, c in Real} |- Max(a, b, c) in Real"
      ]
     },
     "metadata": {},
     "output_type": "display_data"
    }
   ],
   "source": [
    "InSet(Max(a, b, c), Real).prove(\n",
    "    assumptions=[InSet(a, Real), InSet(b, Real), InSet(c, Real)])"
   ]
  },
  {
   "cell_type": "code",
   "execution_count": 20,
   "metadata": {},
   "outputs": [
    {
     "data": {
      "text/html": [
       "<span style=\"font-size:20px;\"><a class=\"ProveItLink\" href=\"../__pv_it/demonstrations/d8d02d2a77383d238ed10b8fda7965dfafa87db90/expr.ipynb\"><img src=\"data:image/png;base64,iVBORw0KGgoAAAANSUhEUgAAADIAAAAQBAMAAACmdTG/AAAAMFBMVEX///8AAAAAAAAAAAAAAAAA\n",
       "AAAAAAAAAAAAAAAAAAAAAAAAAAAAAAAAAAAAAAAAAAAv3aB7AAAAD3RSTlMAIquJdkTvuxBmmd1U\n",
       "zTKBpmoTAAAACXBIWXMAAA7EAAAOxAGVKw4bAAAA3klEQVQY02NgwAA8175d3102AVOCgaXoAcMF\n",
       "XiwSDFwLGFgm2GCTYRJgaOcoQDGlevdeEM3BwLCO6QGSBOuVBhiTT+EViGJUdnQA0bJwCQb2hgoQ\n",
       "FSbA/gNEX0RoP8wJUsuRycC1AcS9gJCBuJnrAwO3Acjs7N27d2+HOOWAKQNDAwNbAUN/AEgvwp3t\n",
       "jEC2IkO/A8N8MH8DXEYP6COODwz9Bxh0eQSAfBe4mxdEAb27gYHdgWcXF0iA9wDczTcYGGsKGDhU\n",
       "7IT8wF5Xj4DIhNWml+enGyAHgjkkdKAAAEfmMVewssrcAAAAAElFTkSuQmCC\n",
       "\" style=\"display:inline;vertical-align:middle;\" /></a>, <a class=\"ProveItLink\" href=\"../__pv_it/demonstrations/035e0ae7bd8c0fe127ee5d2062443d6c874adcdd0/expr.ipynb\"><img src=\"data:image/png;base64,iVBORw0KGgoAAAANSUhEUgAAADAAAAAQBAMAAACigOGCAAAAMFBMVEX///8AAAAAAAAAAAAAAAAA\n",
       "AAAAAAAAAAAAAAAAAAAAAAAAAAAAAAAAAAAAAAAAAAAv3aB7AAAAD3RSTlMAELvv3c2ZVESJq3Yi\n",
       "MmZ3LnoBAAAACXBIWXMAAA7EAAAOxAGVKw4bAAAA50lEQVQY02NgQAfswZ+DXJQfMDAqO6BKcGtd\n",
       "YAhgBTJYE1Al2BIYuB9MBzL4C1AluA4wCDEqABn9AlAjVFxcQTQjA0Mu1wUgYwpEnCNaAKaHd8E1\n",
       "EBW1ezmIOgoXZ2ASUATp/CogfwBIxyBsqeTbAHL2RwZmEB2AkAA7loEtgIF/AtBcExcXFyeIKwpm\n",
       "MDAIMLBMYOgHOhjsQAgQ4gGy14C8kQ+yF+H/tUCfMH5g4L/AaAfi7oY7NqEN6EsHBq4HTOAwYS2A\n",
       "OzaQgUddgYFxZR6Yz7ioESLRrGqkZG80AeFIjkmQIIECANNVKrcrbsjPAAAAAElFTkSuQmCC\n",
       "\" style=\"display:inline;vertical-align:middle;\" /></a>, <a class=\"ProveItLink\" href=\"../__pv_it/demonstrations/ab9efd361cdf04a40e51b5b0d3fd587cd7505e5a0/expr.ipynb\"><img src=\"data:image/png;base64,iVBORw0KGgoAAAANSUhEUgAAADAAAAAQBAMAAACigOGCAAAAMFBMVEX///8AAAAAAAAAAAAAAAAA\n",
       "AAAAAAAAAAAAAAAAAAAAAAAAAAAAAAAAAAAAAAAAAAAv3aB7AAAAD3RSTlMAiXZmMiLdVJm77xBE\n",
       "zatgdeJyAAAACXBIWXMAAA7EAAAOxAGVKw4bAAAAzElEQVQY02NgQAfst37dTJtlgCHOwDTPgeEC\n",
       "L6Y4A0cDA5OBOBYJvgCGndwTkI2YlpYLorkZGFr4HBDiPJc2wJgsDzzAtJAySD4WLs7AuWE2iAor\n",
       "4ACZeBWhuZBZAUQlMnCB6AsICYhjOX5DzF2WlpaWCXFFgQwDwwYGLojLkBy4kxXIfsqwXwHCTYBL\n",
       "PAH6hPsDAz8wVA4AuUpwxzacAPoygQHoJEaQc3kL4I69zcA6HWiaoLE22JKXpyESp+aunLl+pQCS\n",
       "1yUhQQIFAA/aLo4ZZrU0AAAAAElFTkSuQmCC\n",
       "\" style=\"display:inline;vertical-align:middle;\" /></a> <a class=\"ProveItLink\" href=\"../__pv_it/demonstrations/a33d302d6c4f65715dada4049dbe74db0f974f520/proof.ipynb\" style=\"text-decoration: none\">&nbsp;&#x22A2;&nbsp;&nbsp;</a><a class=\"ProveItLink\" href=\"../__pv_it/demonstrations/e2659d0b4c0808173c30360da002caa1c5c937f00/expr.ipynb\"><img src=\"data:image/png;base64,iVBORw0KGgoAAAANSUhEUgAAAJMAAAAVBAMAAACwIsHjAAAAMFBMVEX///8AAAAAAAAAAAAAAAAA\n",
       "AAAAAAAAAAAAAAAAAAAAAAAAAAAAAAAAAAAAAAAAAAAv3aB7AAAAD3RSTlMAIqvd77tmEHbNmTJE\n",
       "VIk1oG/QAAAACXBIWXMAAA7EAAAOxAGVKw4bAAACmUlEQVQ4y5VUTUgUYRh+Vt0Zd3Z2GIQ9BF0k\n",
       "EkOoaFmiyBREKwh2w8LoUHsJjA4N4cLcdhKqhTK3KJPqEEGHOtRmtwhaQugWRkZ4qJZ+ISEyREuz\n",
       "er93ftwZGMz38M3zfu83z/f+fkCY6GGGCFYpjRNhFtUKbExl9vSme4Cmjk6hZrYEvHhbq+S7arUz\n",
       "AarTbYihRCA5R4u0KcAkl3zqtVolZvjP3iV2TQRhbhPh3A+YlZxPXapVpJv+s82Qs3kBzGFy6HGQ\n",
       "qsGfnnmfustJZ29KuAEDSrmNqQp0iRWkmvJp2mafOmLzj3r/jMXZUbOO8p4jKqn4zZCOzKmz12n3\n",
       "nqj6xlNOsWKtg05BteJx4D3DNcu390UZm+oSEgZRTepKCdo8brgXj+tRJ7DCVXnG7ql23AaOMb7o\n",
       "MSWq/fw1kUYjmEql81eksthtpyL2QHECe2dgN4P6qgCTjJdrHHOwiWF9raCC/JyoBlp4dy8V8bv4\n",
       "k+UO8IeBndInYol3pVKpNO8OaRXITFWoWuKMfOsNUSV+u1QNWRQqNtVOqHY7dPM6zp2X9XowmwTq\n",
       "dEEV7cxxgJU4USkfDSfAgoUTXlspnDX5J6svefWqWlduptPslfrDEFQLUGce4EuU4z5IxglsSOjC\n",
       "cSxiIAdxBU2GChxlhqJL9UilVlhH4Cm7TYOzgMbFF5olLwgz1TtqJbYrKAjmFhyC/IsAlW/a7hRK\n",
       "tjvwfTRJyVc0gpkRnMdg5pI+NnT2w4WOkvR3lMwPKZrW6aZzqN9K2smvNEcpckv73E/rDjtF65/Z\n",
       "rdp9+cD+2cOhb0x92UWvve5xWzLiZEn9ZA/OCrI8slVvekJGfUXZ51bae+hMFyRX+Yrm3dfU27GC\n",
       "t/yvRKzQpzrk1f8H8QilxupT7WQAAAAASUVORK5CYII=\n",
       "\" style=\"display:inline;vertical-align:middle;\" /></a></span>"
      ],
      "text/plain": [
       "{a in Integer, b in Integer, c in Integer} |- Max(a, b, c) in Integer"
      ]
     },
     "metadata": {},
     "output_type": "display_data"
    }
   ],
   "source": [
    "InSet(Max(a, b, c), Integer).prove(\n",
    "    assumptions=[InSet(a, Integer), InSet(b, Integer), InSet(c, Integer)])"
   ]
  },
  {
   "cell_type": "code",
   "execution_count": 21,
   "metadata": {},
   "outputs": [
    {
     "data": {
      "text/html": [
       "<span style=\"font-size:20px;\"><a class=\"ProveItLink\" href=\"../__pv_it/demonstrations/d8d02d2a77383d238ed10b8fda7965dfafa87db90/expr.ipynb\"><img src=\"data:image/png;base64,iVBORw0KGgoAAAANSUhEUgAAADIAAAAQBAMAAACmdTG/AAAAMFBMVEX///8AAAAAAAAAAAAAAAAA\n",
       "AAAAAAAAAAAAAAAAAAAAAAAAAAAAAAAAAAAAAAAAAAAv3aB7AAAAD3RSTlMAIquJdkTvuxBmmd1U\n",
       "zTKBpmoTAAAACXBIWXMAAA7EAAAOxAGVKw4bAAAA3klEQVQY02NgwAA8175d3102AVOCgaXoAcMF\n",
       "XiwSDFwLGFgm2GCTYRJgaOcoQDGlevdeEM3BwLCO6QGSBOuVBhiTT+EViGJUdnQA0bJwCQb2hgoQ\n",
       "FSbA/gNEX0RoP8wJUsuRycC1AcS9gJCBuJnrAwO3Acjs7N27d2+HOOWAKQNDAwNbAUN/AEgvwp3t\n",
       "jEC2IkO/A8N8MH8DXEYP6COODwz9Bxh0eQSAfBe4mxdEAb27gYHdgWcXF0iA9wDczTcYGGsKGDhU\n",
       "7IT8wF5Xj4DIhNWml+enGyAHgjkkdKAAAEfmMVewssrcAAAAAElFTkSuQmCC\n",
       "\" style=\"display:inline;vertical-align:middle;\" /></a>, <a class=\"ProveItLink\" href=\"../__pv_it/demonstrations/035e0ae7bd8c0fe127ee5d2062443d6c874adcdd0/expr.ipynb\"><img src=\"data:image/png;base64,iVBORw0KGgoAAAANSUhEUgAAADAAAAAQBAMAAACigOGCAAAAMFBMVEX///8AAAAAAAAAAAAAAAAA\n",
       "AAAAAAAAAAAAAAAAAAAAAAAAAAAAAAAAAAAAAAAAAAAv3aB7AAAAD3RSTlMAELvv3c2ZVESJq3Yi\n",
       "MmZ3LnoBAAAACXBIWXMAAA7EAAAOxAGVKw4bAAAA50lEQVQY02NgQAfswZ+DXJQfMDAqO6BKcGtd\n",
       "YAhgBTJYE1Al2BIYuB9MBzL4C1AluA4wCDEqABn9AlAjVFxcQTQjA0Mu1wUgYwpEnCNaAKaHd8E1\n",
       "EBW1ezmIOgoXZ2ASUATp/CogfwBIxyBsqeTbAHL2RwZmEB2AkAA7loEtgIF/AtBcExcXFyeIKwpm\n",
       "MDAIMLBMYOgHOhjsQAgQ4gGy14C8kQ+yF+H/tUCfMH5g4L/AaAfi7oY7NqEN6EsHBq4HTOAwYS2A\n",
       "OzaQgUddgYFxZR6Yz7ioESLRrGqkZG80AeFIjkmQIIECANNVKrcrbsjPAAAAAElFTkSuQmCC\n",
       "\" style=\"display:inline;vertical-align:middle;\" /></a>, <a class=\"ProveItLink\" href=\"../__pv_it/demonstrations/ab9efd361cdf04a40e51b5b0d3fd587cd7505e5a0/expr.ipynb\"><img src=\"data:image/png;base64,iVBORw0KGgoAAAANSUhEUgAAADAAAAAQBAMAAACigOGCAAAAMFBMVEX///8AAAAAAAAAAAAAAAAA\n",
       "AAAAAAAAAAAAAAAAAAAAAAAAAAAAAAAAAAAAAAAAAAAv3aB7AAAAD3RSTlMAiXZmMiLdVJm77xBE\n",
       "zatgdeJyAAAACXBIWXMAAA7EAAAOxAGVKw4bAAAAzElEQVQY02NgQAfst37dTJtlgCHOwDTPgeEC\n",
       "L6Y4A0cDA5OBOBYJvgCGndwTkI2YlpYLorkZGFr4HBDiPJc2wJgsDzzAtJAySD4WLs7AuWE2iAor\n",
       "4ACZeBWhuZBZAUQlMnCB6AsICYhjOX5DzF2WlpaWCXFFgQwDwwYGLojLkBy4kxXIfsqwXwHCTYBL\n",
       "PAH6hPsDAz8wVA4AuUpwxzacAPoygQHoJEaQc3kL4I69zcA6HWiaoLE22JKXpyESp+aunLl+pQCS\n",
       "1yUhQQIFAA/aLo4ZZrU0AAAAAElFTkSuQmCC\n",
       "\" style=\"display:inline;vertical-align:middle;\" /></a> <a class=\"ProveItLink\" href=\"../__pv_it/demonstrations/a33d302d6c4f65715dada4049dbe74db0f974f520/proof.ipynb\" style=\"text-decoration: none\">&nbsp;&#x22A2;&nbsp;&nbsp;</a><a class=\"ProveItLink\" href=\"../__pv_it/demonstrations/e2659d0b4c0808173c30360da002caa1c5c937f00/expr.ipynb\"><img src=\"data:image/png;base64,iVBORw0KGgoAAAANSUhEUgAAAJMAAAAVBAMAAACwIsHjAAAAMFBMVEX///8AAAAAAAAAAAAAAAAA\n",
       "AAAAAAAAAAAAAAAAAAAAAAAAAAAAAAAAAAAAAAAAAAAv3aB7AAAAD3RSTlMAIqvd77tmEHbNmTJE\n",
       "VIk1oG/QAAAACXBIWXMAAA7EAAAOxAGVKw4bAAACmUlEQVQ4y5VUTUgUYRh+Vt0Zd3Z2GIQ9BF0k\n",
       "EkOoaFmiyBREKwh2w8LoUHsJjA4N4cLcdhKqhTK3KJPqEEGHOtRmtwhaQugWRkZ4qJZ+ISEyREuz\n",
       "er93ftwZGMz38M3zfu83z/f+fkCY6GGGCFYpjRNhFtUKbExl9vSme4Cmjk6hZrYEvHhbq+S7arUz\n",
       "AarTbYihRCA5R4u0KcAkl3zqtVolZvjP3iV2TQRhbhPh3A+YlZxPXapVpJv+s82Qs3kBzGFy6HGQ\n",
       "qsGfnnmfustJZ29KuAEDSrmNqQp0iRWkmvJp2mafOmLzj3r/jMXZUbOO8p4jKqn4zZCOzKmz12n3\n",
       "nqj6xlNOsWKtg05BteJx4D3DNcu390UZm+oSEgZRTepKCdo8brgXj+tRJ7DCVXnG7ql23AaOMb7o\n",
       "MSWq/fw1kUYjmEql81eksthtpyL2QHECe2dgN4P6qgCTjJdrHHOwiWF9raCC/JyoBlp4dy8V8bv4\n",
       "k+UO8IeBndInYol3pVKpNO8OaRXITFWoWuKMfOsNUSV+u1QNWRQqNtVOqHY7dPM6zp2X9XowmwTq\n",
       "dEEV7cxxgJU4USkfDSfAgoUTXlspnDX5J6svefWqWlduptPslfrDEFQLUGce4EuU4z5IxglsSOjC\n",
       "cSxiIAdxBU2GChxlhqJL9UilVlhH4Cm7TYOzgMbFF5olLwgz1TtqJbYrKAjmFhyC/IsAlW/a7hRK\n",
       "tjvwfTRJyVc0gpkRnMdg5pI+NnT2w4WOkvR3lMwPKZrW6aZzqN9K2smvNEcpckv73E/rDjtF65/Z\n",
       "rdp9+cD+2cOhb0x92UWvve5xWzLiZEn9ZA/OCrI8slVvekJGfUXZ51bae+hMFyRX+Yrm3dfU27GC\n",
       "t/yvRKzQpzrk1f8H8QilxupT7WQAAAAASUVORK5CYII=\n",
       "\" style=\"display:inline;vertical-align:middle;\" /></a></span>"
      ],
      "text/plain": [
       "{a in Integer, b in Integer, c in Integer} |- Max(a, b, c) in Integer"
      ]
     },
     "metadata": {},
     "output_type": "display_data"
    }
   ],
   "source": [
    "Max(a, b, c).deduce_in_number_set(Integer,\n",
    "    assumptions=[InSet(a, Integer), InSet(b, Integer), InSet(c, Integer)])"
   ]
  },
  {
   "cell_type": "code",
   "execution_count": 22,
   "metadata": {},
   "outputs": [
    {
     "data": {
      "text/html": [
       "<span style=\"font-size:20px;\"><a class=\"ProveItLink\" href=\"../__pv_it/demonstrations/3491a039698971b62ff4e02bff8d5580af19c47d0/expr.ipynb\"><img src=\"data:image/png;base64,iVBORw0KGgoAAAANSUhEUgAAAD8AAAATBAMAAADVH8ihAAAAMFBMVEX///8AAAAAAAAAAAAAAAAA\n",
       "AAAAAAAAAAAAAAAAAAAAAAAAAAAAAAAAAAAAAAAAAAAv3aB7AAAAD3RSTlMAIquJdkTvuxBmmd1U\n",
       "zTKBpmoTAAAACXBIWXMAAA7EAAAOxAGVKw4bAAAA7UlEQVQoz2NgwAO4GAgAdjIVdH+vbWAw+xaA\n",
       "24QaVgUGjg94rNAWsGRgSGBYXl5WXj4BmwKdAl4Bhg1YTHDfvfsCiFacwngBm4JYDyhDkemBM5IC\n",
       "RmVHBzB9A6ZSkaGAPQChIEyA/QeIBtoLV/CKY8cGWEhyZDJwbQArYEAo4DxwPAEe3h8YuA1AjGe7\n",
       "gaAAooBBgwmugK2AoT8AxGhHMoGhiWMDjNfvwDAfzOBGVsDnUABXcIBBlwfkPhYHmFAdEPvBFbA7\n",
       "8OyCxPsdmBCIwXUBxuNQsRPyA7OaShvA9NtvQN0cF7DEQXD1bkxhAO9GNyFbmCdHAAAAAElFTkSu\n",
       "QmCC\n",
       "\" style=\"display:inline;vertical-align:middle;\" /></a>, <a class=\"ProveItLink\" href=\"../__pv_it/demonstrations/338bea1169aca2a51c9e3cdb908726f9096b30730/expr.ipynb\"><img src=\"data:image/png;base64,iVBORw0KGgoAAAANSUhEUgAAAD0AAAATBAMAAADR6hicAAAAMFBMVEX///8AAAAAAAAAAAAAAAAA\n",
       "AAAAAAAAAAAAAAAAAAAAAAAAAAAAAAAAAAAAAAAAAAAv3aB7AAAAD3RSTlMAELvv3c2ZVESJq3Yi\n",
       "MmZ3LnoBAAAACXBIWXMAAA7EAAAOxAGVKw4bAAAA+ElEQVQoz2NgwA3YGPADJrLkRT6pCjBM/twA\n",
       "lWdUdkBToM6xgIHxA1w/awKa/JID8xgYDBiSlJSVlB4wMPAXoMkvV2A9wOAA198vABXf5OISAKLX\n",
       "vOYJQJKfApVu3QhlrOG6sBNJPmr3chDFEwgzfw2DAlMDXJ7xq4D8AZAzDyDkrzE6OsDCj/0jA/MG\n",
       "kDwDQp6voMgAHsgBDPwTgPRlFyBQgMgzLOSCy7NMYOgH+VAIST+DFCM80IDezwf5kAVZnneDAlz+\n",
       "AqMdiObeABPRBeK9cHmuB0yQAA6HiYRDXAUFjCvzIAwpDUhAXv0M1MsYgBmxnSoumKIAyg80ctEW\n",
       "W0oAAAAASUVORK5CYII=\n",
       "\" style=\"display:inline;vertical-align:middle;\" /></a>, <a class=\"ProveItLink\" href=\"../__pv_it/demonstrations/ac2f214a7d3fc0b9845ffce652df2805874cddfa0/expr.ipynb\"><img src=\"data:image/png;base64,iVBORw0KGgoAAAANSUhEUgAAAD0AAAATBAMAAADR6hicAAAAMFBMVEX///8AAAAAAAAAAAAAAAAA\n",
       "AAAAAAAAAAAAAAAAAAAAAAAAAAAAAAAAAAAAAAAAAAAv3aB7AAAAD3RSTlMAiXZmMiLdVJm77xBE\n",
       "zatgdeJyAAAACXBIWXMAAA7EAAAOxAGVKw4bAAAA4klEQVQoz2NgwA04GPADTrLkt/2cu4FB6tcB\n",
       "nPqn8zxg4P6A2/xnAcIMDAsYOmfOmjnTAIv88wm8AQwJmPo109IugOinRqwXsMif1YYynvI5KCLL\n",
       "Cyk7AEnW2zCFTxkmcB5AyIcVcEwAUkA74fIe3NkJ8PBLZOBSAMkzIOSZCyoXwAP5N4T2SgOCCRB5\n",
       "htd8cHmuCRB6J5J+hn3cCTDefgUIzYYsz6IwAcbjBwYRMKwZmBRgIlOAWAUuD3Q8I8h/DNdhIiAG\n",
       "xwW4cYLGkIDZN2cDmPb9BdTLfQEz3A9OS8MUBQDEQzmrRDgWuAAAAABJRU5ErkJggg==\n",
       "\" style=\"display:inline;vertical-align:middle;\" /></a> <a class=\"ProveItLink\" href=\"../__pv_it/demonstrations/cca11d2ec291640972a9971b390f0c817adb0c250/proof.ipynb\" style=\"text-decoration: none\">&nbsp;&#x22A2;&nbsp;&nbsp;</a><a class=\"ProveItLink\" href=\"../__pv_it/demonstrations/f8603baff2947aa9acd787fc5e64cd0c471c04310/expr.ipynb\"><img src=\"data:image/png;base64,iVBORw0KGgoAAAANSUhEUgAAAKAAAAAXBAMAAAB+LlnTAAAAMFBMVEX///8AAAAAAAAAAAAAAAAA\n",
       "AAAAAAAAAAAAAAAAAAAAAAAAAAAAAAAAAAAAAAAAAAAv3aB7AAAAD3RSTlMAIqvd77tmEHbNmTJE\n",
       "VIk1oG/QAAAACXBIWXMAAA7EAAAOxAGVKw4bAAACqUlEQVQ4y62UTWgTQRTH/8l+ZpNNl5YKgoce\n",
       "RBSxfgQRBU0v9SQkYiMeCubkQRAXoxBPuxW0BT8aC7aCisFDwYvGL/DgIYgHvbQRFPGgBCsoCKUV\n",
       "aTAq+mY22e5uadTQgd19783Ob97XDLCSo4gVHulWk8Z/T7QGqpXlZp4HdCWZmUA8ta8B7Ez2MWtq\n",
       "W2Dj994lA1u8W2UDRKnyFLBcD7sX6CVvDvCUgleL+LI9EQCGt8azEKFlMv2Zg0B+J9v1run/SfO5\n",
       "0eGL/2gQ+BqXIbge5kfJuSdBoOjTpn2zYkM7m0jwOMKr7NVeoEXx2EHgW58249MijvcvhpseGhvV\n",
       "qgcYpqpkCSiPzJry4YXYt2tkvUNPqHfIdpaMjWxqLP58roR4D5NCbirDhoRBDzD2C7pJwFeGVkC8\n",
       "huvMOk7PM0OqORX6blpO0boqWhoyDzRiLAKjxVzOPSl5bIcKDozNA1fkErPuJsxeaE676DWIjq97\n",
       "mKDzRossFsXAMX3AVfMYNdYwIJQpAp5cx63UptochKpT8gI6uKRxj6Nz7P0wQSPdAIbNtR6gVbUZ\n",
       "ULn1joD6zyZQTMMqc4W407xxRA6IcQ9PeT1UenIeoNSX5SGXowTUPpqNkC0bx902dLrA4oHrPBGC\n",
       "F4jHkgcY+2qyBXXE5u/hk8RTfohWV7BBNxQGLFE+uUANU4bM/VRt9+hR1tVHLpDOYT9AR68O9cfL\n",
       "uK3UmfUD/WfruzRYxA9npSIXqMTxEjQnszfcvmTpuN3UulPjuIAzqTHj/sXhmUvJgvz7KpkfUI3W\n",
       "f+k8D2EHSb2T4AJmj1A3C05mTww6hyF6kxzC6b9clUKpKb1ZInQ1vlMHEoV/vntl936pLhEm27rN\n",
       "9zfvMTsohNJtAZttpiIoSEZbwJC93MxQy3V/AIkFqO7qbBp3AAAAAElFTkSuQmCC\n",
       "\" style=\"display:inline;vertical-align:middle;\" /></a></span>"
      ],
      "text/plain": [
       "{a in NaturalPos, b in NaturalPos, c in NaturalPos} |- Max(a, b, c) in NaturalPos"
      ]
     },
     "metadata": {},
     "output_type": "display_data"
    }
   ],
   "source": [
    "Max(a, b, c).deduce_in_number_set(NaturalPos,\n",
    "    assumptions=[InSet(a, NaturalPos), InSet(b, NaturalPos), InSet(c, NaturalPos)])"
   ]
  },
  {
   "cell_type": "code",
   "execution_count": 23,
   "metadata": {},
   "outputs": [
    {
     "data": {
      "text/html": [
       "<span style=\"font-size:20px;\"><a class=\"ProveItLink\" href=\"../__pv_it/demonstrations/3491a039698971b62ff4e02bff8d5580af19c47d0/expr.ipynb\"><img src=\"data:image/png;base64,iVBORw0KGgoAAAANSUhEUgAAAD8AAAATBAMAAADVH8ihAAAAMFBMVEX///8AAAAAAAAAAAAAAAAA\n",
       "AAAAAAAAAAAAAAAAAAAAAAAAAAAAAAAAAAAAAAAAAAAv3aB7AAAAD3RSTlMAIquJdkTvuxBmmd1U\n",
       "zTKBpmoTAAAACXBIWXMAAA7EAAAOxAGVKw4bAAAA7UlEQVQoz2NgwAO4GAgAdjIVdH+vbWAw+xaA\n",
       "24QaVgUGjg94rNAWsGRgSGBYXl5WXj4BmwKdAl4Bhg1YTHDfvfsCiFacwngBm4JYDyhDkemBM5IC\n",
       "RmVHBzB9A6ZSkaGAPQChIEyA/QeIBtoLV/CKY8cGWEhyZDJwbQArYEAo4DxwPAEe3h8YuA1AjGe7\n",
       "gaAAooBBgwmugK2AoT8AxGhHMoGhiWMDjNfvwDAfzOBGVsDnUABXcIBBlwfkPhYHmFAdEPvBFbA7\n",
       "8OyCxPsdmBCIwXUBxuNQsRPyA7OaShvA9NtvQN0cF7DEQXD1bkxhAO9GNyFbmCdHAAAAAElFTkSu\n",
       "QmCC\n",
       "\" style=\"display:inline;vertical-align:middle;\" /></a>, <a class=\"ProveItLink\" href=\"../__pv_it/demonstrations/338bea1169aca2a51c9e3cdb908726f9096b30730/expr.ipynb\"><img src=\"data:image/png;base64,iVBORw0KGgoAAAANSUhEUgAAAD0AAAATBAMAAADR6hicAAAAMFBMVEX///8AAAAAAAAAAAAAAAAA\n",
       "AAAAAAAAAAAAAAAAAAAAAAAAAAAAAAAAAAAAAAAAAAAv3aB7AAAAD3RSTlMAELvv3c2ZVESJq3Yi\n",
       "MmZ3LnoBAAAACXBIWXMAAA7EAAAOxAGVKw4bAAAA+ElEQVQoz2NgwA3YGPADJrLkRT6pCjBM/twA\n",
       "lWdUdkBToM6xgIHxA1w/awKa/JID8xgYDBiSlJSVlB4wMPAXoMkvV2A9wOAA198vABXf5OISAKLX\n",
       "vOYJQJKfApVu3QhlrOG6sBNJPmr3chDFEwgzfw2DAlMDXJ7xq4D8AZAzDyDkrzE6OsDCj/0jA/MG\n",
       "kDwDQp6voMgAHsgBDPwTgPRlFyBQgMgzLOSCy7NMYOgH+VAIST+DFCM80IDezwf5kAVZnneDAlz+\n",
       "AqMdiObeABPRBeK9cHmuB0yQAA6HiYRDXAUFjCvzIAwpDUhAXv0M1MsYgBmxnSoumKIAyg80ctEW\n",
       "W0oAAAAASUVORK5CYII=\n",
       "\" style=\"display:inline;vertical-align:middle;\" /></a>, <a class=\"ProveItLink\" href=\"../__pv_it/demonstrations/ac2f214a7d3fc0b9845ffce652df2805874cddfa0/expr.ipynb\"><img src=\"data:image/png;base64,iVBORw0KGgoAAAANSUhEUgAAAD0AAAATBAMAAADR6hicAAAAMFBMVEX///8AAAAAAAAAAAAAAAAA\n",
       "AAAAAAAAAAAAAAAAAAAAAAAAAAAAAAAAAAAAAAAAAAAv3aB7AAAAD3RSTlMAiXZmMiLdVJm77xBE\n",
       "zatgdeJyAAAACXBIWXMAAA7EAAAOxAGVKw4bAAAA4klEQVQoz2NgwA04GPADTrLkt/2cu4FB6tcB\n",
       "nPqn8zxg4P6A2/xnAcIMDAsYOmfOmjnTAIv88wm8AQwJmPo109IugOinRqwXsMif1YYynvI5KCLL\n",
       "Cyk7AEnW2zCFTxkmcB5AyIcVcEwAUkA74fIe3NkJ8PBLZOBSAMkzIOSZCyoXwAP5N4T2SgOCCRB5\n",
       "htd8cHmuCRB6J5J+hn3cCTDefgUIzYYsz6IwAcbjBwYRMKwZmBRgIlOAWAUuD3Q8I8h/DNdhIiAG\n",
       "xwW4cYLGkIDZN2cDmPb9BdTLfQEz3A9OS8MUBQDEQzmrRDgWuAAAAABJRU5ErkJggg==\n",
       "\" style=\"display:inline;vertical-align:middle;\" /></a> <a class=\"ProveItLink\" href=\"../__pv_it/demonstrations/5a0507b92ffc43ce4be488160fa25828c542f1ff0/proof.ipynb\" style=\"text-decoration: none\">&nbsp;&#x22A2;&nbsp;&nbsp;</a><a class=\"ProveItLink\" href=\"../__pv_it/demonstrations/e2659d0b4c0808173c30360da002caa1c5c937f00/expr.ipynb\"><img src=\"data:image/png;base64,iVBORw0KGgoAAAANSUhEUgAAAJMAAAAVBAMAAACwIsHjAAAAMFBMVEX///8AAAAAAAAAAAAAAAAA\n",
       "AAAAAAAAAAAAAAAAAAAAAAAAAAAAAAAAAAAAAAAAAAAv3aB7AAAAD3RSTlMAIqvd77tmEHbNmTJE\n",
       "VIk1oG/QAAAACXBIWXMAAA7EAAAOxAGVKw4bAAACmUlEQVQ4y5VUTUgUYRh+Vt0Zd3Z2GIQ9BF0k\n",
       "EkOoaFmiyBREKwh2w8LoUHsJjA4N4cLcdhKqhTK3KJPqEEGHOtRmtwhaQugWRkZ4qJZ+ISEyREuz\n",
       "er93ftwZGMz38M3zfu83z/f+fkCY6GGGCFYpjRNhFtUKbExl9vSme4Cmjk6hZrYEvHhbq+S7arUz\n",
       "AarTbYihRCA5R4u0KcAkl3zqtVolZvjP3iV2TQRhbhPh3A+YlZxPXapVpJv+s82Qs3kBzGFy6HGQ\n",
       "qsGfnnmfustJZ29KuAEDSrmNqQp0iRWkmvJp2mafOmLzj3r/jMXZUbOO8p4jKqn4zZCOzKmz12n3\n",
       "nqj6xlNOsWKtg05BteJx4D3DNcu390UZm+oSEgZRTepKCdo8brgXj+tRJ7DCVXnG7ql23AaOMb7o\n",
       "MSWq/fw1kUYjmEql81eksthtpyL2QHECe2dgN4P6qgCTjJdrHHOwiWF9raCC/JyoBlp4dy8V8bv4\n",
       "k+UO8IeBndInYol3pVKpNO8OaRXITFWoWuKMfOsNUSV+u1QNWRQqNtVOqHY7dPM6zp2X9XowmwTq\n",
       "dEEV7cxxgJU4USkfDSfAgoUTXlspnDX5J6svefWqWlduptPslfrDEFQLUGce4EuU4z5IxglsSOjC\n",
       "cSxiIAdxBU2GChxlhqJL9UilVlhH4Cm7TYOzgMbFF5olLwgz1TtqJbYrKAjmFhyC/IsAlW/a7hRK\n",
       "tjvwfTRJyVc0gpkRnMdg5pI+NnT2w4WOkvR3lMwPKZrW6aZzqN9K2smvNEcpckv73E/rDjtF65/Z\n",
       "rdp9+cD+2cOhb0x92UWvve5xWzLiZEn9ZA/OCrI8slVvekJGfUXZ51bae+hMFyRX+Yrm3dfU27GC\n",
       "t/yvRKzQpzrk1f8H8QilxupT7WQAAAAASUVORK5CYII=\n",
       "\" style=\"display:inline;vertical-align:middle;\" /></a></span>"
      ],
      "text/plain": [
       "{a in NaturalPos, b in NaturalPos, c in NaturalPos} |- Max(a, b, c) in Integer"
      ]
     },
     "metadata": {},
     "output_type": "display_data"
    }
   ],
   "source": [
    "# Notice that this will work if the user-designated number_set just\n",
    "# CONTAINS the number sets in which the arguments exist\n",
    "InSet(Max(a, b, c), Integer).prove(\n",
    "    assumptions=[InSet(a, NaturalPos), InSet(b, NaturalPos), InSet(c, NaturalPos)])"
   ]
  },
  {
   "cell_type": "code",
   "execution_count": 24,
   "metadata": {},
   "outputs": [
    {
     "data": {
      "text/html": [
       "<span style=\"font-size:20px;\"><a class=\"ProveItLink\" href=\"../__pv_it/demonstrations/3491a039698971b62ff4e02bff8d5580af19c47d0/expr.ipynb\"><img src=\"data:image/png;base64,iVBORw0KGgoAAAANSUhEUgAAAD8AAAATBAMAAADVH8ihAAAAMFBMVEX///8AAAAAAAAAAAAAAAAA\n",
       "AAAAAAAAAAAAAAAAAAAAAAAAAAAAAAAAAAAAAAAAAAAv3aB7AAAAD3RSTlMAIquJdkTvuxBmmd1U\n",
       "zTKBpmoTAAAACXBIWXMAAA7EAAAOxAGVKw4bAAAA7UlEQVQoz2NgwAO4GAgAdjIVdH+vbWAw+xaA\n",
       "24QaVgUGjg94rNAWsGRgSGBYXl5WXj4BmwKdAl4Bhg1YTHDfvfsCiFacwngBm4JYDyhDkemBM5IC\n",
       "RmVHBzB9A6ZSkaGAPQChIEyA/QeIBtoLV/CKY8cGWEhyZDJwbQArYEAo4DxwPAEe3h8YuA1AjGe7\n",
       "gaAAooBBgwmugK2AoT8AxGhHMoGhiWMDjNfvwDAfzOBGVsDnUABXcIBBlwfkPhYHmFAdEPvBFbA7\n",
       "8OyCxPsdmBCIwXUBxuNQsRPyA7OaShvA9NtvQN0cF7DEQXD1bkxhAO9GNyFbmCdHAAAAAElFTkSu\n",
       "QmCC\n",
       "\" style=\"display:inline;vertical-align:middle;\" /></a>, <a class=\"ProveItLink\" href=\"../__pv_it/theorems/5d56aa038eb34c97b005be8161434236efec38e90/expr.ipynb\"><img src=\"data:image/png;base64,iVBORw0KGgoAAAANSUhEUgAAADEAAAAQBAMAAABNQoq8AAAAMFBMVEX///8AAAAAAAAAAAAAAAAA\n",
       "AAAAAAAAAAAAAAAAAAAAAAAAAAAAAAAAAAAAAAAAAAAv3aB7AAAAD3RSTlMAELvv3c2ZVESJq3Yi\n",
       "MmZ3LnoBAAAACXBIWXMAAA7EAAAOxAGVKw4bAAAA5UlEQVQY02NgQAcin1QFGCZ/bmBgVHZAk1Ln\n",
       "WMDA+AHIYE1Ak1lyYB4DgwGQwV+AJrNcgfUAA8igfgGoyCYXlwAQveY1TwBYZgpUonUjlLGG68JO\n",
       "sEzU7uUgPk8gzLQ1DApMDUAZxq8C8gdADjmAkLnG6AiUYf/IwLwBJMOAkOErKAK6jS2AgX8CkH/Z\n",
       "BQgUIDIMC7mAMiwTGPpB7hZC0sMgxegA9k4+yN0syDK8G4C6+S8w2oH43BtgMrpAvBcow/WACRI8\n",
       "4TAZEANoOwPjyjyIgJQGJDCufgaqZwxADq9OFRdkPgBHFjKLuGzoKQAAAABJRU5ErkJggg==\n",
       "\" style=\"display:inline;vertical-align:middle;\" /></a>, <a class=\"ProveItLink\" href=\"../__pv_it/demonstrations/998872576a74beb393f102cb852f413149d702360/expr.ipynb\"><img src=\"data:image/png;base64,iVBORw0KGgoAAAANSUhEUgAAADwAAAAQBAMAAAC4vAEMAAAAMFBMVEX///8AAAAAAAAAAAAAAAAA\n",
       "AAAAAAAAAAAAAAAAAAAAAAAAAAAAAAAAAAAAAAAAAAAv3aB7AAAAD3RSTlMAiXZmMiLdVJm77xBE\n",
       "zatgdeJyAAAACXBIWXMAAA7EAAAOxAGVKw4bAAAA1ElEQVQY02NgQAfst37dTJtlwIADMM1zYLjA\n",
       "i0uWgaOBgclAnIFlJhBMxZTmC2DYyT0B09BpabkgmpuBoYXPAV2W59IGGJPlgQeShJAySG0sXJaB\n",
       "c8NshGxYAQfIpqsIkUJmBQQnkYELxLuAEEH2FsdviH3L0tLSMiFuLJBhYIBZxQXxA5JXdrIC2U+h\n",
       "nP1QexLg0k+APuf+AOXwA0P3AJBWgnur4QQwbGCqgc5mBHmMtwDurdsMrNPhdgkaa4Mtf3kawj81\n",
       "d+XM9SsFMIJNEhKoKAAAK+Mxi6TG7LMAAAAASUVORK5CYII=\n",
       "\" style=\"display:inline;vertical-align:middle;\" /></a> <a class=\"ProveItLink\" href=\"../__pv_it/demonstrations/53785a36cd06093678f55b53066ef7d56638f32c0/proof.ipynb\" style=\"text-decoration: none\">&nbsp;&#x22A2;&nbsp;&nbsp;</a><a class=\"ProveItLink\" href=\"../__pv_it/demonstrations/e2659d0b4c0808173c30360da002caa1c5c937f00/expr.ipynb\"><img src=\"data:image/png;base64,iVBORw0KGgoAAAANSUhEUgAAAJMAAAAVBAMAAACwIsHjAAAAMFBMVEX///8AAAAAAAAAAAAAAAAA\n",
       "AAAAAAAAAAAAAAAAAAAAAAAAAAAAAAAAAAAAAAAAAAAv3aB7AAAAD3RSTlMAIqvd77tmEHbNmTJE\n",
       "VIk1oG/QAAAACXBIWXMAAA7EAAAOxAGVKw4bAAACmUlEQVQ4y5VUTUgUYRh+Vt0Zd3Z2GIQ9BF0k\n",
       "EkOoaFmiyBREKwh2w8LoUHsJjA4N4cLcdhKqhTK3KJPqEEGHOtRmtwhaQugWRkZ4qJZ+ISEyREuz\n",
       "er93ftwZGMz38M3zfu83z/f+fkCY6GGGCFYpjRNhFtUKbExl9vSme4Cmjk6hZrYEvHhbq+S7arUz\n",
       "AarTbYihRCA5R4u0KcAkl3zqtVolZvjP3iV2TQRhbhPh3A+YlZxPXapVpJv+s82Qs3kBzGFy6HGQ\n",
       "qsGfnnmfustJZ29KuAEDSrmNqQp0iRWkmvJp2mafOmLzj3r/jMXZUbOO8p4jKqn4zZCOzKmz12n3\n",
       "nqj6xlNOsWKtg05BteJx4D3DNcu390UZm+oSEgZRTepKCdo8brgXj+tRJ7DCVXnG7ql23AaOMb7o\n",
       "MSWq/fw1kUYjmEql81eksthtpyL2QHECe2dgN4P6qgCTjJdrHHOwiWF9raCC/JyoBlp4dy8V8bv4\n",
       "k+UO8IeBndInYol3pVKpNO8OaRXITFWoWuKMfOsNUSV+u1QNWRQqNtVOqHY7dPM6zp2X9XowmwTq\n",
       "dEEV7cxxgJU4USkfDSfAgoUTXlspnDX5J6svefWqWlduptPslfrDEFQLUGce4EuU4z5IxglsSOjC\n",
       "cSxiIAdxBU2GChxlhqJL9UilVlhH4Cm7TYOzgMbFF5olLwgz1TtqJbYrKAjmFhyC/IsAlW/a7hRK\n",
       "tjvwfTRJyVc0gpkRnMdg5pI+NnT2w4WOkvR3lMwPKZrW6aZzqN9K2smvNEcpckv73E/rDjtF65/Z\n",
       "rdp9+cD+2cOhb0x92UWvve5xWzLiZEn9ZA/OCrI8slVvekJGfUXZ51bae+hMFyRX+Yrm3dfU27GC\n",
       "t/yvRKzQpzrk1f8H8QilxupT7WQAAAAASUVORK5CYII=\n",
       "\" style=\"display:inline;vertical-align:middle;\" /></a></span>"
      ],
      "text/plain": [
       "{a in NaturalPos, b in Natural, c in IntegerNeg} |- Max(a, b, c) in Integer"
      ]
     },
     "metadata": {},
     "output_type": "display_data"
    }
   ],
   "source": [
    "# Notice that this will work even if the user-designated number_set\n",
    "# simply CONTAINS the number sets in which the arguments exist\n",
    "InSet(Max(a, b, c), Integer).prove(\n",
    "    assumptions=[InSet(a, NaturalPos), InSet(b, Natural), InSet(c, IntegerNeg)])"
   ]
  },
  {
   "cell_type": "code",
   "execution_count": 25,
   "metadata": {},
   "outputs": [
    {
     "data": {
      "text/html": [
       "<span style=\"font-size:20px;\"><a class=\"ProveItLink\" href=\"../__pv_it/demonstrations/3491a039698971b62ff4e02bff8d5580af19c47d0/expr.ipynb\"><img src=\"data:image/png;base64,iVBORw0KGgoAAAANSUhEUgAAAD8AAAATBAMAAADVH8ihAAAAMFBMVEX///8AAAAAAAAAAAAAAAAA\n",
       "AAAAAAAAAAAAAAAAAAAAAAAAAAAAAAAAAAAAAAAAAAAv3aB7AAAAD3RSTlMAIquJdkTvuxBmmd1U\n",
       "zTKBpmoTAAAACXBIWXMAAA7EAAAOxAGVKw4bAAAA7UlEQVQoz2NgwAO4GAgAdjIVdH+vbWAw+xaA\n",
       "24QaVgUGjg94rNAWsGRgSGBYXl5WXj4BmwKdAl4Bhg1YTHDfvfsCiFacwngBm4JYDyhDkemBM5IC\n",
       "RmVHBzB9A6ZSkaGAPQChIEyA/QeIBtoLV/CKY8cGWEhyZDJwbQArYEAo4DxwPAEe3h8YuA1AjGe7\n",
       "gaAAooBBgwmugK2AoT8AxGhHMoGhiWMDjNfvwDAfzOBGVsDnUABXcIBBlwfkPhYHmFAdEPvBFbA7\n",
       "8OyCxPsdmBCIwXUBxuNQsRPyA7OaShvA9NtvQN0cF7DEQXD1bkxhAO9GNyFbmCdHAAAAAElFTkSu\n",
       "QmCC\n",
       "\" style=\"display:inline;vertical-align:middle;\" /></a>, <a class=\"ProveItLink\" href=\"../__pv_it/demonstrations/338bea1169aca2a51c9e3cdb908726f9096b30730/expr.ipynb\"><img src=\"data:image/png;base64,iVBORw0KGgoAAAANSUhEUgAAAD0AAAATBAMAAADR6hicAAAAMFBMVEX///8AAAAAAAAAAAAAAAAA\n",
       "AAAAAAAAAAAAAAAAAAAAAAAAAAAAAAAAAAAAAAAAAAAv3aB7AAAAD3RSTlMAELvv3c2ZVESJq3Yi\n",
       "MmZ3LnoBAAAACXBIWXMAAA7EAAAOxAGVKw4bAAAA+ElEQVQoz2NgwA3YGPADJrLkRT6pCjBM/twA\n",
       "lWdUdkBToM6xgIHxA1w/awKa/JID8xgYDBiSlJSVlB4wMPAXoMkvV2A9wOAA198vABXf5OISAKLX\n",
       "vOYJQJKfApVu3QhlrOG6sBNJPmr3chDFEwgzfw2DAlMDXJ7xq4D8AZAzDyDkrzE6OsDCj/0jA/MG\n",
       "kDwDQp6voMgAHsgBDPwTgPRlFyBQgMgzLOSCy7NMYOgH+VAIST+DFCM80IDezwf5kAVZnneDAlz+\n",
       "AqMdiObeABPRBeK9cHmuB0yQAA6HiYRDXAUFjCvzIAwpDUhAXv0M1MsYgBmxnSoumKIAyg80ctEW\n",
       "W0oAAAAASUVORK5CYII=\n",
       "\" style=\"display:inline;vertical-align:middle;\" /></a>, <a class=\"ProveItLink\" href=\"../__pv_it/demonstrations/ac2f214a7d3fc0b9845ffce652df2805874cddfa0/expr.ipynb\"><img src=\"data:image/png;base64,iVBORw0KGgoAAAANSUhEUgAAAD0AAAATBAMAAADR6hicAAAAMFBMVEX///8AAAAAAAAAAAAAAAAA\n",
       "AAAAAAAAAAAAAAAAAAAAAAAAAAAAAAAAAAAAAAAAAAAv3aB7AAAAD3RSTlMAiXZmMiLdVJm77xBE\n",
       "zatgdeJyAAAACXBIWXMAAA7EAAAOxAGVKw4bAAAA4klEQVQoz2NgwA04GPADTrLkt/2cu4FB6tcB\n",
       "nPqn8zxg4P6A2/xnAcIMDAsYOmfOmjnTAIv88wm8AQwJmPo109IugOinRqwXsMif1YYynvI5KCLL\n",
       "Cyk7AEnW2zCFTxkmcB5AyIcVcEwAUkA74fIe3NkJ8PBLZOBSAMkzIOSZCyoXwAP5N4T2SgOCCRB5\n",
       "htd8cHmuCRB6J5J+hn3cCTDefgUIzYYsz6IwAcbjBwYRMKwZmBRgIlOAWAUuD3Q8I8h/DNdhIiAG\n",
       "xwW4cYLGkIDZN2cDmPb9BdTLfQEz3A9OS8MUBQDEQzmrRDgWuAAAAABJRU5ErkJggg==\n",
       "\" style=\"display:inline;vertical-align:middle;\" /></a> <a class=\"ProveItLink\" href=\"../__pv_it/demonstrations/cca11d2ec291640972a9971b390f0c817adb0c250/proof.ipynb\" style=\"text-decoration: none\">&nbsp;&#x22A2;&nbsp;&nbsp;</a><a class=\"ProveItLink\" href=\"../__pv_it/demonstrations/f8603baff2947aa9acd787fc5e64cd0c471c04310/expr.ipynb\"><img src=\"data:image/png;base64,iVBORw0KGgoAAAANSUhEUgAAAKAAAAAXBAMAAAB+LlnTAAAAMFBMVEX///8AAAAAAAAAAAAAAAAA\n",
       "AAAAAAAAAAAAAAAAAAAAAAAAAAAAAAAAAAAAAAAAAAAv3aB7AAAAD3RSTlMAIqvd77tmEHbNmTJE\n",
       "VIk1oG/QAAAACXBIWXMAAA7EAAAOxAGVKw4bAAACqUlEQVQ4y62UTWgTQRTH/8l+ZpNNl5YKgoce\n",
       "RBSxfgQRBU0v9SQkYiMeCubkQRAXoxBPuxW0BT8aC7aCisFDwYvGL/DgIYgHvbQRFPGgBCsoCKUV\n",
       "aTAq+mY22e5uadTQgd19783Ob97XDLCSo4gVHulWk8Z/T7QGqpXlZp4HdCWZmUA8ta8B7Ez2MWtq\n",
       "W2Dj994lA1u8W2UDRKnyFLBcD7sX6CVvDvCUgleL+LI9EQCGt8azEKFlMv2Zg0B+J9v1run/SfO5\n",
       "0eGL/2gQ+BqXIbge5kfJuSdBoOjTpn2zYkM7m0jwOMKr7NVeoEXx2EHgW58249MijvcvhpseGhvV\n",
       "qgcYpqpkCSiPzJry4YXYt2tkvUNPqHfIdpaMjWxqLP58roR4D5NCbirDhoRBDzD2C7pJwFeGVkC8\n",
       "huvMOk7PM0OqORX6blpO0boqWhoyDzRiLAKjxVzOPSl5bIcKDozNA1fkErPuJsxeaE676DWIjq97\n",
       "mKDzRossFsXAMX3AVfMYNdYwIJQpAp5cx63UptochKpT8gI6uKRxj6Nz7P0wQSPdAIbNtR6gVbUZ\n",
       "ULn1joD6zyZQTMMqc4W407xxRA6IcQ9PeT1UenIeoNSX5SGXowTUPpqNkC0bx902dLrA4oHrPBGC\n",
       "F4jHkgcY+2qyBXXE5u/hk8RTfohWV7BBNxQGLFE+uUANU4bM/VRt9+hR1tVHLpDOYT9AR68O9cfL\n",
       "uK3UmfUD/WfruzRYxA9npSIXqMTxEjQnszfcvmTpuN3UulPjuIAzqTHj/sXhmUvJgvz7KpkfUI3W\n",
       "f+k8D2EHSb2T4AJmj1A3C05mTww6hyF6kxzC6b9clUKpKb1ZInQ1vlMHEoV/vntl936pLhEm27rN\n",
       "9zfvMTsohNJtAZttpiIoSEZbwJC93MxQy3V/AIkFqO7qbBp3AAAAAElFTkSuQmCC\n",
       "\" style=\"display:inline;vertical-align:middle;\" /></a></span>"
      ],
      "text/plain": [
       "{a in NaturalPos, b in NaturalPos, c in NaturalPos} |- Max(a, b, c) in NaturalPos"
      ]
     },
     "metadata": {},
     "output_type": "display_data"
    }
   ],
   "source": [
    "InSet(Max(a, b, c), NaturalPos).prove(\n",
    "    assumptions=[InSet(a, NaturalPos), InSet(b, NaturalPos), InSet(c, NaturalPos)])"
   ]
  },
  {
   "cell_type": "code",
   "execution_count": 26,
   "metadata": {},
   "outputs": [
    {
     "data": {
      "text/html": [
       "<span style=\"font-size:20px;\"><a class=\"ProveItLink\" href=\"../__pv_it/theorems/4aa8d696b1f407d6126de9f51a052e8d90e0848c0/expr.ipynb\"><img src=\"data:image/png;base64,iVBORw0KGgoAAAANSUhEUgAAADMAAAAQBAMAAABJt1qBAAAAMFBMVEX///8AAAAAAAAAAAAAAAAA\n",
       "AAAAAAAAAAAAAAAAAAAAAAAAAAAAAAAAAAAAAAAAAAAv3aB7AAAAD3RSTlMAIquJdkTvuxBmmd1U\n",
       "zTKBpmoTAAAACXBIWXMAAA7EAAAOxAGVKw4bAAAAzElEQVQY02NgwABz0+tvp09gwAoKhBiCpjdg\n",
       "lxJmYOdTwCXFJXABRch99+4LcKkCZJlYD4Qupg6QgYzKjg4gAcYbSAY+PysAZIQJsP8ACfAKwKXE\n",
       "bv8GmcCRycC1ASyF5IyZvSCa6wMDtwGI8Ww3EBRApNg7QV5mK2DoDwAJtCPp4ltQAaT7HRjmgwW4\n",
       "kf21ThwkdYBBlwfkAhYHJKl2FqCJ7A48u7jAInfgUlIMnBNKgS5UsRPyA4s0lTbAQr6Qofz+AeTg\n",
       "CK7ejRxyAISENKeL/c93AAAAAElFTkSuQmCC\n",
       "\" style=\"display:inline;vertical-align:middle;\" /></a>, <a class=\"ProveItLink\" href=\"../__pv_it/theorems/6e5cad5b2984ed0d75bd47bd0c542ec447a4f3570/expr.ipynb\"><img src=\"data:image/png;base64,iVBORw0KGgoAAAANSUhEUgAAADEAAAAQBAMAAABNQoq8AAAAMFBMVEX///8AAAAAAAAAAAAAAAAA\n",
       "AAAAAAAAAAAAAAAAAAAAAAAAAAAAAAAAAAAAAAAAAAAv3aB7AAAAD3RSTlMAELvv3c2ZVESJq3Yi\n",
       "MmZ3LnoBAAAACXBIWXMAAA7EAAAOxAGVKw4bAAAA1ElEQVQY02NgQAdPjfRDjB4AGYzKDmhSCqcY\n",
       "uh4JABmsCegyJxmYeBcAGfwFmDJsBwKAjH4BqMgmF5cAuIwCkDEFKtG6EaGHSxBkWtTu5SA+TyCS\n",
       "aZdKDwDd9lVA/gDIIQfgModDvoD0s39kYN4AkkFywTtREM0WwMA/AUhfdgECBYgMkxzIpywTGPpB\n",
       "7hZC0sOboAjxTj7I3SzI/sk9BJK5wGgH4nNvQJIR4gYax/WACRI84XCZYwx8DzSArl6ZBxGQ0hCA\n",
       "hbUOg1I8cph1qkBCBwoAxe43BugJR6MAAAAASUVORK5CYII=\n",
       "\" style=\"display:inline;vertical-align:middle;\" /></a>, <a class=\"ProveItLink\" href=\"../__pv_it/demonstrations/d550e8309ef79ca46e4c9fb5617a392ea678789b0/expr.ipynb\"><img src=\"data:image/png;base64,iVBORw0KGgoAAAANSUhEUgAAADEAAAAQBAMAAABNQoq8AAAAMFBMVEX///8AAAAAAAAAAAAAAAAA\n",
       "AAAAAAAAAAAAAAAAAAAAAAAAAAAAAAAAAAAAAAAAAAAv3aB7AAAAD3RSTlMAiXZmMiLdVJm77xBE\n",
       "zatgdeJyAAAACXBIWXMAAA7EAAAOxAGVKw4bAAAAvUlEQVQY02NgQAe2K+dfW2nAgA1MiGM4Z7kB\n",
       "q0wgAyfLAxwyHAEXkEU009IuwGUmIEmc1Ubo4dsNNk1I2QFIst5GMs2zNgDICCvgAGnlDYDLRF37\n",
       "BtafyMClAJJBcoHxXhDN8RvC90oDggkQGc7NIJ9yQV2xE0kPS8NsIL1fAcJnQ/ZPSySQ5gdqPACk\n",
       "mRSQZHYyAUWBDmMEuZrhOlwmgoHZYA6QIWgM8eK+ORtgYT2VYeb9AqRAODgtDTm0ALktNaaWdOV1\n",
       "AAAAAElFTkSuQmCC\n",
       "\" style=\"display:inline;vertical-align:middle;\" /></a> <a class=\"ProveItLink\" href=\"../__pv_it/demonstrations/55f003c2f875f9e83dcbffe10a3c7e19c7c441f90/proof.ipynb\" style=\"text-decoration: none\">&nbsp;&#x22A2;&nbsp;&nbsp;</a><a class=\"ProveItLink\" href=\"../__pv_it/demonstrations/0a6cc3fdc1a23e51ca5d11fc4ce360e2ef6bfd190/expr.ipynb\"><img src=\"data:image/png;base64,iVBORw0KGgoAAAANSUhEUgAAAJAAAAAVBAMAAABbFXrgAAAAMFBMVEX///8AAAAAAAAAAAAAAAAA\n",
       "AAAAAAAAAAAAAAAAAAAAAAAAAAAAAAAAAAAAAAAAAAAv3aB7AAAAD3RSTlMAIqvd77tmEHbNmTJE\n",
       "VIk1oG/QAAAACXBIWXMAAA7EAAAOxAGVKw4bAAACa0lEQVQ4y5WUTWgTQRTH33YzSXaT7S6tPelh\n",
       "D6L10FaM4gdoQ0BBELLiRxUU9xTBi0tBCHjYrWAtKDSW0J6E9NKjjR8nUQziQS8mN/EiQUEEQYqg\n",
       "pYdC38zsZmc3CZKBzf4nb+a372sGoPcwYFBD75Fu9bN8iM2T1Utbhy+jGJnO03nxkLHLDs1fhaWp\n",
       "iwfFT9gxEpHM7L4ZFGP/KHfKgGYt3FsRlyo1cbbSBWqD9RxF+Tj9zroDqdCoRj6rR+K81QO0qlDQ\n",
       "IubvNYKEkYgsbUZt/ux+LlfpgAgFuei5FwV9iYC+R2YK9/bjA8Gj/bMUNITZttcdqWpmqqsL49T4\n",
       "FB9pcs7jS5cWJvxNP+frMGxSJa0IoWWuP6ag7DZoDnqkmCBPwFvaKMv4vDfIJs/8luPy7hltqRYk\n",
       "WUCKEYLOTh+j8ZThCKQBQcQEkgeden4St58BlZdd24QE9+0UFRprF0VI9o+bjF2GRWNPALJAp3vO\n",
       "YeE2QG7zElZAZ0plHmY26O/LHA7LD22mxEFu2+sGJSxwGwyEvCZrgATbmGUe3RHL/4rw0EjejoEw\n",
       "NNeD25024jV1WYAaC1gWQeozi4Gyf5wY6AruasEBzaBNqtcxX0xg+hqQZH6lPQGUsuZRvAM4DYBH\n",
       "BCmKD/qGdk87oYKLaRyySY0JLNlwHVSeuSchqAYl0oCx4jI8gnvFpd17C3enCm9uFND4Aqs2/mvk\n",
       "IchHUU2uARPwu4RdKPPMzV5zgtP/1yBXt3vfFXI9UJ+7xKj//nQhV/nvdZTsnPd2l1gb6GI7H9wn\n",
       "XlxI1kCgoE3SEBdksLtW8vpZ5vr8vwORZZjqCXtbhgAAAABJRU5ErkJggg==\n",
       "\" style=\"display:inline;vertical-align:middle;\" /></a></span>"
      ],
      "text/plain": [
       "{a in Real, b in Real, c in Real} |- Min(a, b, c) in Real"
      ]
     },
     "metadata": {},
     "output_type": "display_data"
    }
   ],
   "source": [
    "InSet(Min(a, b, c), Real).prove(\n",
    "    assumptions=[InSet(a, Real), InSet(b, Real), InSet(c, Real)])"
   ]
  },
  {
   "cell_type": "code",
   "execution_count": 27,
   "metadata": {},
   "outputs": [
    {
     "data": {
      "text/html": [
       "<span style=\"font-size:20px;\"><a class=\"ProveItLink\" href=\"../__pv_it/theorems/27094ede24067904bb8353fa305df8461a3a4be40/expr.ipynb\"><img src=\"data:image/png;base64,iVBORw0KGgoAAAANSUhEUgAAADMAAAAQBAMAAABJt1qBAAAAMFBMVEX///8AAAAAAAAAAAAAAAAA\n",
       "AAAAAAAAAAAAAAAAAAAAAAAAAAAAAAAAAAAAAAAAAAAv3aB7AAAAD3RSTlMAIquJdkTvuxBmmd1U\n",
       "zTKBpmoTAAAACXBIWXMAAA7EAAAOxAGVKw4bAAAA3ElEQVQY02NgwADd32sbGMy+BTBgATWsCgwc\n",
       "H7DJMGgLWDIwJGCV0ingFWDYgCLkvnv3BRCtOIXxAqpUrAeUocj0wBksxajs6AASYLwBU6PIUMAe\n",
       "AJIKE2D/ARIAmg+XesWxAyjFkcnABTaXlwEhxXngONCFXB8YuA1AAs92A0EBRIpBgwkoxVbA0A/2\n",
       "eDuSLoYmDqBJ/Q4M88EC3MhSfA5A/f0HGHR5QC5gcYBJ1QGxH1CK3YFnFxdY5A5MCsTgAnqeQ8VO\n",
       "yA8s0lTaAKbffgPq4LiAElDB1buRBQCzkDPDLBuujwAAAABJRU5ErkJggg==\n",
       "\" style=\"display:inline;vertical-align:middle;\" /></a>, <a class=\"ProveItLink\" href=\"../__pv_it/demonstrations/19b64e51459c8785ee13260763cbb9c8a9b5c1df0/expr.ipynb\"><img src=\"data:image/png;base64,iVBORw0KGgoAAAANSUhEUgAAADwAAAAQBAMAAAC4vAEMAAAAMFBMVEX///8AAAAAAAAAAAAAAAAA\n",
       "AAAAAAAAAAAAAAAAAAAAAAAAAAAAAAAAAAAAAAAAAAAv3aB7AAAAD3RSTlMAELvv3c2ZVESJq3Yi\n",
       "MmZ3LnoBAAAACXBIWXMAAA7EAAAOxAGVKw4bAAAA7klEQVQY02NgQAfswZ+DXJQfQHmMyg6o0txa\n",
       "FxgCWOFc1gRUabYEBu4H0xl4lYBAh4GBvwBVmusAgxCjApzbLwA1VMXFFWwbA0Mu1wW49BQIxREt\n",
       "ABPhXXANYVjU7uUg6ihcloFJQBHOZvwqIH8ASMcgNFTybUB48yMDM4gXgJBG8hYDWwAD/wSgfSYu\n",
       "Li5OEDcWzGBggFnFMoGhH+g1JK8I8QDZa6AcoLfzQUoRYbcW6HPGDzDpC4x2IHo33FsJbcCwganm\n",
       "esAEDlXWAri3Ahl41GF2Ma7Mg9CLGiECzapGSvZGE9AjkmMSJFBRAAAtlit4EU1N0wAAAABJRU5E\n",
       "rkJggg==\n",
       "\" style=\"display:inline;vertical-align:middle;\" /></a>, <a class=\"ProveItLink\" href=\"../__pv_it/demonstrations/ac2f214a7d3fc0b9845ffce652df2805874cddfa0/expr.ipynb\"><img src=\"data:image/png;base64,iVBORw0KGgoAAAANSUhEUgAAAD0AAAATBAMAAADR6hicAAAAMFBMVEX///8AAAAAAAAAAAAAAAAA\n",
       "AAAAAAAAAAAAAAAAAAAAAAAAAAAAAAAAAAAAAAAAAAAv3aB7AAAAD3RSTlMAiXZmMiLdVJm77xBE\n",
       "zatgdeJyAAAACXBIWXMAAA7EAAAOxAGVKw4bAAAA4klEQVQoz2NgwA04GPADTrLkt/2cu4FB6tcB\n",
       "nPqn8zxg4P6A2/xnAcIMDAsYOmfOmjnTAIv88wm8AQwJmPo109IugOinRqwXsMif1YYynvI5KCLL\n",
       "Cyk7AEnW2zCFTxkmcB5AyIcVcEwAUkA74fIe3NkJ8PBLZOBSAMkzIOSZCyoXwAP5N4T2SgOCCRB5\n",
       "htd8cHmuCRB6J5J+hn3cCTDefgUIzYYsz6IwAcbjBwYRMKwZmBRgIlOAWAUuD3Q8I8h/DNdhIiAG\n",
       "xwW4cYLGkIDZN2cDmPb9BdTLfQEz3A9OS8MUBQDEQzmrRDgWuAAAAABJRU5ErkJggg==\n",
       "\" style=\"display:inline;vertical-align:middle;\" /></a> <a class=\"ProveItLink\" href=\"../__pv_it/demonstrations/d05a1963acfed2c474bb4ecd886e5432e2c6beb30/proof.ipynb\" style=\"text-decoration: none\">&nbsp;&#x22A2;&nbsp;&nbsp;</a><a class=\"ProveItLink\" href=\"../__pv_it/demonstrations/94d9b4144dc731741cd0ee06930c7d9f0331327a0/expr.ipynb\"><img src=\"data:image/png;base64,iVBORw0KGgoAAAANSUhEUgAAAI8AAAAVBAMAAACNsKCFAAAAMFBMVEX///8AAAAAAAAAAAAAAAAA\n",
       "AAAAAAAAAAAAAAAAAAAAAAAAAAAAAAAAAAAAAAAAAAAv3aB7AAAAD3RSTlMAIqvd77tmEHbNmTJE\n",
       "VIk1oG/QAAAACXBIWXMAAA7EAAAOxAGVKw4bAAACgklEQVQ4y5VUTWgTQRT+knS7SbpJl2JOekhR\n",
       "JFK0YiiiWA2RVgUhkSqKSN2LUPHgUiwseNi1oBZUGiS0IAj14EEPJqgnUVqkFy9aUJFeNHjwYC8q\n",
       "4g9S8c3bv2x0qZ3D7Hszs9+8977vDfDvoYasI4JVjfhC2I5itSwslg4M9Q0CXXsKwi1tU9do/u7b\n",
       "5qNje5u9Sy1AF3uQQIWMzDea2ntVvJjxNuVK4OyNZiehB4HuEnZaJGDsEKnUdMj+ZlILnF1udtpn\n",
       "gkDdkMtjwjAmqbCPa4F72oJl+R5w9zkp5fMct45kvYeBTLrCCgItBv5Mbw24Uzw/u+wt3O/gII0o\n",
       "VVur6ZFqtqN6ayIn1u4JnrdccAhK5MYdEtMTZ4D3rIJpH/moxFEYyjJSOkWUyCK2GbOqc+m8Kjkp\n",
       "mdPyZ1tD/bgNnGZwX2ipxgh/DfQhDgKSspAK6BR17ifiBpF0UnqnYz8bsYYwXjFQE42oOECT6joX\n",
       "qIxOkc9BIu6T+I/HHeA3G3YhZ8X0ME+jzKvX0nPMuAGzYf0N1FaGOWcD7YZiC2CA53kWqa+5cgaI\n",
       "qgJIKmgtQJSaaeGsJ6MkV0v+we5LztIDita76TRHpHzRW4CO0dYCNqVUFukvnNMgsqIeUIBT3Ixe\n",
       "yz1SiPz1ZDzlkKlFCCXhABHDkpXamYQp6rgRxyH/JIMoW7K1Adz0yKeeybymVitN4SrGS9fXbiie\n",
       "7y0+OVmkzQeUR26p6wpi28kb/UhM5imk9IcRmnfx/6MnbAkrA9Ujh78Oh7wVsbprvfHU4ko/4oji\n",
       "+VC+suJz5Ddmw+uTkIZeYRxyufVqarhGZlUvpCuTuLditd7xfyNihT7CIa/5HzXsko4sfmpyAAAA\n",
       "AElFTkSuQmCC\n",
       "\" style=\"display:inline;vertical-align:middle;\" /></a></span>"
      ],
      "text/plain": [
       "{a in Natural, b in IntegerNeg, c in NaturalPos} |- Min(a, b, c) in Integer"
      ]
     },
     "metadata": {},
     "output_type": "display_data"
    }
   ],
   "source": [
    "InSet(Min(a, b, c), Integer).prove(\n",
    "    assumptions=[InSet(a, Natural), InSet(b, IntegerNeg), InSet(c, NaturalPos)])"
   ]
  },
  {
   "cell_type": "markdown",
   "metadata": {},
   "source": [
    "### Min and Max evaluation, simplification (testing & development)"
   ]
  },
  {
   "cell_type": "code",
   "execution_count": 28,
   "metadata": {},
   "outputs": [
    {
     "data": {
      "text/html": [
       "<span style=\"font-size:20px;\"> <a class=\"ProveItLink\" href=\"axioms.ipynb#max_def_bin\" style=\"text-decoration: none\">&nbsp;&#x22A2;&nbsp;&nbsp;</a><a class=\"ProveItLink\" href=\"../__pv_it/axioms/112a9c7f7c68b65c22eb9c549f5045dd5acb93350/expr.ipynb\"><img src=\"data:image/png;base64,iVBORw0KGgoAAAANSUhEUgAAAV4AAAAyBAMAAADmRK68AAAAMFBMVEX///8AAAAAAAAAAAAAAAAA\n",
       "AAAAAAAAAAAAAAAAAAAAAAAAAAAAAAAAAAAAAAAAAAAv3aB7AAAAD3RSTlMAq1RmmUTNIjK7EInv\n",
       "3XZ/CtNrAAAACXBIWXMAAA7EAAAOxAGVKw4bAAAGOElEQVRo3sVaW2gcVRj+d2dmdzKTTBYFS9Jt\n",
       "WGifippVBO1LshLrtdVFtI/uVgNSKzJ9Mxo19sEHje5GiBiJuoUo1dhkLSi0Yi6CrVYqEaOINWFi\n",
       "U8SqSWqTbE28nTlzO3PJ7NnOQA8hl39nzvnmP//lO98EgHK8DkFHVzHQ7cIbtVwdSQeFKy2Xgk3w\n",
       "ci33bw7s3nHvJ2bO0U4QnaJfjMkHhcstu23d6BEeLmRpp/iQfrVuOSjeuiW3LZcBZuoAuc3CIz5T\n",
       "NNDH5GzgcGj0yDYB5UXCbhr2WSl6ijocJgLjHU1453HGmZZnNk6rTtrF6svB8Wbo8AKzMeAcbVQu\n",
       "lsLEOzJ3+JMU+hl/PMEnJxOkCW97J4YlzKfhkH2OWIJysW8gTLwZqYWd0tfX49c04VKyV3WPGJ2A\n",
       "dkcAr9GtxV8KEy8jM2ta+6kz8FomjHefivcgeoAmR37+S9ncJsLEywOrV3MTr2VSvbgXx0OpXoGv\n",
       "HZO8SZluiVDjARASO17LhHw9rSdLruTa13a6hCukw8Wbk4WSA69hIurZ7SA593WUDsii72PFXRbZ\n",
       "F+972SSIdv9aJqJf9KmfX9ZGD/p++rPL8pAv3tYXd8H9Gt6i+kWayH58K+Sc7qybAox4qz/eL7Eb\n",
       "t/yNH/GfTY4i4+4lUtoP79BCtAPXWlR8DycvKKSJHIfG7nNulLgEO9Wfj/ozZY1axd9WYdxQcXz6\n",
       "rscdj1H3N9/xsav3rcDzKhJ/5s9rZU/4Q605886a3eFxx00h4BXzwmceSGIoHcWUP1H+U8O7gFzL\n",
       "P+DE61Wb6939u0BFQYQZPHpU9qhEyh47zaBNjlVhZ1oZFM6juJBYB96oF5OPuQN4MVujf6NtO93G\n",
       "CwCnZ2a+qnLy0kJWUJIIu4q37bfjsOO/dO4E8gNbVj3f/NJRIEiK6K47pyGM8RfAnQBVTp7imo43\n",
       "l4LtCG/0JKrlMF6KZXVXsjCn7NYu1UgKPj6x2t5q0NmToeA9AXAA4m5vRM90XmN2SNbA21AERcOL\n",
       "mGiseAs+pKDYvxnaS1fja3SSEnUF9a6eUPDOoBpcEh2h9UpTPyhl8WmT7izpeKVKPIvBvzMugzCJ\n",
       "g7Qe3dyj+hsIksI7D2tHmkOBCz8hXyiOdGNRhICiMCMuvMK6hJ09dFUrquStWQMvWERKIymc079H\n",
       "7g4NL+Tb0LeFO+YRBG4OInAWMF5pyBUPMMiof0Q/hwK6+J5TRjwAV4H3SZKCpQJb/IYXD3AUdSNJ\n",
       "boqhhUcaS70Cbh5KueusmW9GfYBcs4q3MQO5J2Wx9Bpu6QoI/Yggl9XTrkFSGFcD2jDf6PUSPd+g\n",
       "W10A3uLRr09dB79yOCyVu45Z9Uyrv1wC6osQqah4Fw/KY1rLQqUremlogkvBaN4kKay7OXwPgfSS\n",
       "Ua3MT6rhibeqostOLcy+gYFXUTx8lLL3i/jgalrKSsnVTXzL9cOzn65C+yoqIfwUCPcq225EkfGj\n",
       "SVIaslT9wq2XbKyVaO3cFIn4CUxjv4Mv+LIWvw8eN4vbit9MP5i/bTdJyjNA1Y899JIq7Xrd2Bkx\n",
       "z8IwWpxb0roHqmdmvvEX/eawuE3ZJCkdl6k/+MpRFvNCAXdu7Dz0pmDbjjx0ofjgntgv3GYyg2Vf\n",
       "YcwgqSgfdZLixffo9JLhWRrmZYyUINelQTg20F89VyyfGOAkk6TUyf56SQcICZteYmkj1vGNlFAc\n",
       "TMY495ciyh4vSEnfh37WZfnF/7xZvhaYJZteQmgj5vHYJqHYO5dRB4Br82Sp7cHlKFJ/SO2GSNF2\n",
       "3iS1EV2OsksoBq+me6VQSIWJV0DdW5MbTLw2bUSTo2wSijGeU66EXsKtQaHHrj+Q2ogmR5ESSq16\n",
       "CRuqHqU67neHvkNoI7ocRUgo1thCtxa3EipeBLPPgdfSRphp2aGqEINS74PpcP2b4C7a9RJLGzHr\n",
       "maWqEAWBUk8No0AQeIXN8xW7XmJqIyOzLlWFJBG0eRT2+wAx762NCN/6zkH9PoB6I3zwJghoH6Sq\n",
       "ayMeo496tf2B8RLvs2Zdb0u9tBGPtKf3Wm/w94XWYlvnszTaiJsD07ctqRgUL78eeItqeB8bxvvu\n",
       "oE2dy9dwcSwwhZCWA07wQk1F9cr/vwYWlf8H543fsVt259YAAAAASUVORK5CYII=\n",
       "\" style=\"display:inline;vertical-align:middle;\" /></a></span>"
      ],
      "text/plain": [
       "|- forall_{x, y in Real} (Max(x, y) = {x if x >= y; y if y > x.)"
      ]
     },
     "metadata": {},
     "output_type": "display_data"
    }
   ],
   "source": [
    "from proveit.numbers.ordering import max_def_bin\n",
    "max_def_bin"
   ]
  },
  {
   "cell_type": "code",
   "execution_count": 29,
   "metadata": {},
   "outputs": [
    {
     "data": {
      "text/html": [
       "<strong id=\"temp_max_assumptions\">temp_max_assumptions:</strong> <a class=\"ProveItLink\" href=\"../__pv_it/demonstrations/0b93c0f99c3fac029ba34fcd21be3fb814fc38550/expr.ipynb\"><img src=\"data:image/png;base64,iVBORw0KGgoAAAANSUhEUgAAAZsAAAAVBAMAAABie17XAAAAMFBMVEX///8AAAAAAAAAAAAAAAAA\n",
       "AAAAAAAAAAAAAAAAAAAAAAAAAAAAAAAAAAAAAAAAAAAv3aB7AAAAD3RSTlMAInZUiRDNmWbv3US7\n",
       "qzJazP2FAAAACXBIWXMAAA7EAAAOxAGVKw4bAAAD6UlEQVRYw91YXUhUQRQ++3N31b2u9yGKouAq\n",
       "BBEl+1C+ti+SSMlFKiqU3QqxJEmhIiJqCTKRKOkhwnwQ+7GWKIkSegivhf0ZZGbiQw/2FEWBtSkR\n",
       "Ec3c+b27e4dle+s8eGfmm/OdOXPOnJkVAAz4T8RxxB/LBUoOvFq89dxDSwlCV//rtv5Uceg/yj38\n",
       "Z0M+RPdNRmbHSbupTwHmir0KHp2zWC96oEOB5kiOLQ/JptVeDKDAoH3SkvndiYP9lXZaVWCuO0tA\n",
       "j07ybkVMhTqyQwpXa4GRyKKFEHavBSCc8nKnM0Q7GRWYz52wIfZo1FKhZGvrTd7OFOhOFi1x7yxA\n",
       "qWt0XTqd5CvWyVhkQQFy8b9M3xALtvl4vRKlsrYWsmwxT/d7uFPPWzUGd6/Ughp50shqKQDvmkk7\n",
       "OKAAmUT2WmL/y7dPurPHE2XSU+u2xWXbYH53eFL2HBHuhVJwGH1805VOuH0tUj5Fn+yhaTm1PuYJ\n",
       "QrDqPP4staR0+lJDi79vujqjQit5ltV0yrYEL/ivMV0xndFKcW2veot0JgFH86GhO0EOGWLFl+4O\n",
       "Up5Ei/bNE/RdhRP4u0ecjuVtv1gcGbEaJbF/J9kSvOheGLKyp/MWP3XaopUwoCQJV1H7MoSdIIek\n",
       "0153hh3YTRZc9ATL4g4ISemwd+9gmY+Ik0pU5NbIuGRL8CIJtBru6ZzWd5zVscAClJoQ6IUrqLjN\n",
       "Y20kn9JIbJpP49106lGAH57gKbJ10T4E3qYL1ndSK4xYjZJkeyPb4rzkXLZbrum8NcOrNXKvIg7R\n",
       "eexOqQ2JYecSk2vxR50yXoNIxhPspzttS/sf7aB3LCNWo9KBZrY4L3HnoOWazlvCHeTeaAwivTjZ\n",
       "EiZcIIPyisMfbHYVhBe8QO07HRuQb5aTK+mpY8RqVCrU1JbgxYnUbrin85ZINnTtoHgGBuAxgmMw\n",
       "E8AqflNasWavAcDb8gd2pTzBn2jz8FiVvOAm9NzQQCJWo9I16tiSeXEpIDWITHcpCs2KOXSgoMSG\n",
       "rWh5ZmAo7IzuEyvugG59WFtE7Vl45g2i8tPgVBEed3sZlKQmIJGUiNWo9MjBtly8olCT6S5F5M9a\n",
       "UibLUzp65YTj8BmNTTWsqnZGmycs9mj+behPM5BG/ebNKW8wWHfaGdXeP+Bv5jF4dShWdl0iVqOS\n",
       "OLZk3kZ+jZLpOYrkAtamj+HzMAxlczLd/Zdp14MqYBUKRrbQZwyTjVAwmiUSr3YzG8xR7BK/11ag\n",
       "ve5QvfSCRYMQLxoNFquIIzSmUm4sGtTMgtHd+EZL3ymIV0Xrs133SR4xiwb9UDRqFqmo47Tzmf/L\n",
       "/woqAf4CNYRyeoh4ujIAAAAASUVORK5CYII=\n",
       "\" style=\"display:inline;vertical-align:middle;\" /></a><br>"
      ],
      "text/plain": [
       "<IPython.core.display.HTML object>"
      ]
     },
     "metadata": {},
     "output_type": "display_data"
    }
   ],
   "source": [
    "temp_max_assumptions = [InSet(a, Real), InSet(b, Real),\n",
    "                    InSet(c, Real), InSet(d, Real),\n",
    "                    greater_eq(a, b), greater(c, a), Less(d, b)]"
   ]
  },
  {
   "cell_type": "code",
   "execution_count": 30,
   "metadata": {},
   "outputs": [
    {
     "data": {
      "text/html": [
       "<span style=\"font-size:20px;\"><a class=\"ProveItLink\" href=\"../__pv_it/demonstrations/ac5f396a8c72c20cf32342c883fcb3d3f7e3c28b0/expr.ipynb\"><img src=\"data:image/png;base64,iVBORw0KGgoAAAANSUhEUgAAAC8AAAAQBAMAAAB0JTvnAAAAMFBMVEX///8AAAAAAAAAAAAAAAAA\n",
       "AAAAAAAAAAAAAAAAAAAAAAAAAAAAAAAAAAAAAAAAAAAv3aB7AAAAD3RSTlMAMs3vmVREEIndIqt2\n",
       "u2aBbGR5AAAACXBIWXMAAA7EAAAOxAGVKw4bAAAAv0lEQVQY02NgYGBgVHZgQAbslydAWfwBKBIM\n",
       "TDCF+QWoEnCFnXAhVi0UhSowcb4pBQiFXDsOfoWK88yAKNU+sxVIJi/g/Q4Rr5gDddWngvoFDOx2\n",
       "DCwKYP6SeTCLvjMwH2Bg+cDA2QDicqvCbAIq5G9gYL7AUJ+AKgFUmB/AUH+A4T0DqlFAb/gXMNQH\n",
       "MGxiXYBiOb8A0GIG3gOsU1igSmvmgJ3L/YAXGCbsexpXH4R7EOwR9h1+DOiAT4uBEAAAD2UsNOeM\n",
       "7YYAAAAASUVORK5CYII=\n",
       "\" style=\"display:inline;vertical-align:middle;\" /></a>, <a class=\"ProveItLink\" href=\"../__pv_it/demonstrations/9e47a6cd364dfd85d42bf620b65d4e5a21fa88910/expr.ipynb\"><img src=\"data:image/png;base64,iVBORw0KGgoAAAANSUhEUgAAADAAAAARBAMAAABp3DInAAAAMFBMVEX///8AAAAAAAAAAAAAAAAA\n",
       "AAAAAAAAAAAAAAAAAAAAAAAAAAAAAAAAAAAAAAAAAAAv3aB7AAAAD3RSTlMAIquJdkTvuxBmmd1U\n",
       "zTKBpmoTAAAACXBIWXMAAA7EAAAOxAGVKw4bAAAAsElEQVQY02NgwALas5F5vRMQ7FvIEhzWDnD2\n",
       "H1QTvC2gDNYfaGbPhsowbwCRjMqOcDPOLgRTvCpOBxgYwgTYETpjNUBk/w2OjwwcmQxcGxASFSDy\n",
       "fANDCgPXBwZuA7hRimBqLQPDZwa2Aob+AJjlKyD0ZgbWPwz9Dgzz0Z37h4HrB0P/AQZdHgFUD/5j\n",
       "aJvAwO7As4sLLUg0GaqAClXshPzQPNpkNYGBEtC9GwT2wbgAz2wsvL0X6QAAAAAASUVORK5CYII=\n",
       "\" style=\"display:inline;vertical-align:middle;\" /></a>, <a class=\"ProveItLink\" href=\"../__pv_it/demonstrations/22aa7d854d91d09c163fd686a70a7a5bda1a77db0/expr.ipynb\"><img src=\"data:image/png;base64,iVBORw0KGgoAAAANSUhEUgAAADAAAAAOBAMAAACbXIJpAAAAMFBMVEX///8AAAAAAAAAAAAAAAAA\n",
       "AAAAAAAAAAAAAAAAAAAAAAAAAAAAAAAAAAAAAAAAAAAv3aB7AAAAD3RSTlMAiXZmMiLdVJm77xBE\n",
       "zatgdeJyAAAACXBIWXMAAA7EAAAOxAGVKw4bAAAAmklEQVQY02NgIAT2GuCQ4BZTQBcSUnYA02rS\n",
       "MJE4oSAgGVbAMQHCN+uG0DxLGeZvYGBIZOCCGVLbCqZ2GTC0MTBw/EYy9exrENkPUs3ANQFZYjaI\n",
       "XMnA/YeBYT+SY2qfgt33iYH5AwMDP9D9B6CWQ6zg/s7Ad6GUAegkRjTnTmIoa2hgYBA01garU4Ob\n",
       "uU/R9ZED3PxtBgzEAQDxNCBuHQFnjgAAAABJRU5ErkJggg==\n",
       "\" style=\"display:inline;vertical-align:middle;\" /></a> <a class=\"ProveItLink\" href=\"../__pv_it/demonstrations/6186e080ea684de4f48a0af6800f2460427dd8680/proof.ipynb\" style=\"text-decoration: none\">&nbsp;&#x22A2;&nbsp;&nbsp;</a><a class=\"ProveItLink\" href=\"../__pv_it/demonstrations/05592f9f408b0a46d1ae004f583daf193a0bc6d80/expr.ipynb\"><img src=\"data:image/png;base64,iVBORw0KGgoAAAANSUhEUgAAADAAAAAQBAMAAACigOGCAAAAMFBMVEX///8AAAAAAAAAAAAAAAAA\n",
       "AAAAAAAAAAAAAAAAAAAAAAAAAAAAAAAAAAAAAAAAAAAv3aB7AAAAD3RSTlMAiXZmMiLdVJm77xBE\n",
       "zatgdeJyAAAACXBIWXMAAA7EAAAOxAGVKw4bAAAArklEQVQY02NgwAp8VzDgAN9xiPP8hjP3GiBL\n",
       "MCbAmdxiCkgSvA1AQkjZAcxRk4YJxwn5FzAwhBVwTIDwzbqhFixlmL+BgSGRgQtmSG0rmNplwNDL\n",
       "wMDxG8nos69BZD9INQPXBGSJ2SByJQP3HwaG/UiOqX0Kdt8nBuYPDAz8QPcfgFoOsYL7OwPfhVIG\n",
       "oJMY0Zw7iaGsAegPQWNtsDo1uJn7FF0fOcDN32bAQBwAAHYFJMOtQyJbAAAAAElFTkSuQmCC\n",
       "\" style=\"display:inline;vertical-align:middle;\" /></a></span>"
      ],
      "text/plain": [
       "{d < b, a >= b, c > a} |- c > d"
      ]
     },
     "metadata": {},
     "output_type": "display_data"
    }
   ],
   "source": [
    "# notice that the assumptions then imply that c > d\n",
    "greater(c, d).prove(assumptions=temp_max_assumptions)"
   ]
  },
  {
   "cell_type": "code",
   "execution_count": 31,
   "metadata": {},
   "outputs": [
    {
     "data": {
      "text/html": [
       "<strong id=\"max_def_bin_inst\">max_def_bin_inst:</strong> <span style=\"font-size:20px;\"><a class=\"ProveItLink\" href=\"../__pv_it/theorems/4aa8d696b1f407d6126de9f51a052e8d90e0848c0/expr.ipynb\"><img src=\"data:image/png;base64,iVBORw0KGgoAAAANSUhEUgAAADMAAAAQBAMAAABJt1qBAAAAMFBMVEX///8AAAAAAAAAAAAAAAAA\n",
       "AAAAAAAAAAAAAAAAAAAAAAAAAAAAAAAAAAAAAAAAAAAv3aB7AAAAD3RSTlMAIquJdkTvuxBmmd1U\n",
       "zTKBpmoTAAAACXBIWXMAAA7EAAAOxAGVKw4bAAAAzElEQVQY02NgwABz0+tvp09gwAoKhBiCpjdg\n",
       "lxJmYOdTwCXFJXABRch99+4LcKkCZJlYD4Qupg6QgYzKjg4gAcYbSAY+PysAZIQJsP8ACfAKwKXE\n",
       "bv8GmcCRycC1ASyF5IyZvSCa6wMDtwGI8Ww3EBRApNg7QV5mK2DoDwAJtCPp4ltQAaT7HRjmgwW4\n",
       "kf21ThwkdYBBlwfkAhYHJKl2FqCJ7A48u7jAInfgUlIMnBNKgS5UsRPyA4s0lTbAQr6Qofz+AeTg\n",
       "CK7ejRxyAISENKeL/c93AAAAAElFTkSuQmCC\n",
       "\" style=\"display:inline;vertical-align:middle;\" /></a>, <a class=\"ProveItLink\" href=\"../__pv_it/theorems/6e5cad5b2984ed0d75bd47bd0c542ec447a4f3570/expr.ipynb\"><img src=\"data:image/png;base64,iVBORw0KGgoAAAANSUhEUgAAADEAAAAQBAMAAABNQoq8AAAAMFBMVEX///8AAAAAAAAAAAAAAAAA\n",
       "AAAAAAAAAAAAAAAAAAAAAAAAAAAAAAAAAAAAAAAAAAAv3aB7AAAAD3RSTlMAELvv3c2ZVESJq3Yi\n",
       "MmZ3LnoBAAAACXBIWXMAAA7EAAAOxAGVKw4bAAAA1ElEQVQY02NgQAdPjfRDjB4AGYzKDmhSCqcY\n",
       "uh4JABmsCegyJxmYeBcAGfwFmDJsBwKAjH4BqMgmF5cAuIwCkDEFKtG6EaGHSxBkWtTu5SA+TyCS\n",
       "aZdKDwDd9lVA/gDIIQfgModDvoD0s39kYN4AkkFywTtREM0WwMA/AUhfdgECBYgMkxzIpywTGPpB\n",
       "7hZC0sOboAjxTj7I3SzI/sk9BJK5wGgH4nNvQJIR4gYax/WACRI84XCZYwx8DzSArl6ZBxGQ0hCA\n",
       "hbUOg1I8cph1qkBCBwoAxe43BugJR6MAAAAASUVORK5CYII=\n",
       "\" style=\"display:inline;vertical-align:middle;\" /></a> <a class=\"ProveItLink\" href=\"../__pv_it/demonstrations/ea2dff0de49d6611d6c650e1c491785f6096cea30/proof.ipynb\" style=\"text-decoration: none\">&nbsp;&#x22A2;&nbsp;&nbsp;</a><a class=\"ProveItLink\" href=\"../__pv_it/demonstrations/43a5c05d7230e296ee0874c0c46235769c2e13860/expr.ipynb\"><img src=\"data:image/png;base64,iVBORw0KGgoAAAANSUhEUgAAAPgAAAAyBAMAAACDjAvqAAAAMFBMVEX///8AAAAAAAAAAAAAAAAA\n",
       "AAAAAAAAAAAAAAAAAAAAAAAAAAAAAAAAAAAAAAAAAAAv3aB7AAAAD3RSTlMAIqvd77tmEHbNmTJE\n",
       "VIk1oG/QAAAACXBIWXMAAA7EAAAOxAGVKw4bAAAEJ0lEQVRYw8WYX0gUQRzHf/dv925v71wsoaCH\n",
       "KyQtqMSISkitLIICryiKXjzwJXppKQUj6E59SMjyONLCCuwPRS9p9hp0RA/1kkpBSFSSgVEQKqVl\n",
       "XjU7czPezJ3n2e11w8HNztzeZ+c3M7/vfBcgu2I5BPkrHXfzx/ZOpWyW2v8HfKAnqWlpAOD642jK\n",
       "n8sHy0yE16V8HqmsUE8gds3VXT0mwr+nGB2A1ce1nN3CqgWD5rHlyZTNVmF8zkoaiAHdRPhMRnCQ\n",
       "KH0UcgMv/LQMb/xLPnfxDhx3y/rmULzT063h70jbulzA1e1Qh4fn8tE5f6o5pll3xOiUf+pBLQfw\n",
       "hgDcwhUHhcu7QWE7S+004J5psIdyAO8FqOThyjjYRmjYI3jAShgKRnIA3wXyLA+3+yEYzzVSBVlw\n",
       "6GEGBs2Hyz9AGufhwRCcELYa2ua9GW02bYFrAR4Da3iIhw/CGo/GJZmCPrQQMihOMTzP0of9CLzs\n",
       "wdvb4Tc+RiXkqVD49GoNOLgUUFhVbXzVlgsjeyfqgTOQFn7y4oPSPvSNNvmZ4kljSculXwrPC79f\n",
       "f4dvKDJUUdogsOVw4hXWg8sZZ7jMS9NWI8jiOlC4cWI9OJ4LeAca9CMRbudl0ui1J69T9+9MtsRG\n",
       "XPpSwoMopiERPsxdYT1wJU+6czbbkVvRigsguNT2VZfqptRvV1HrfU4YsB54fUn32rM9mDSpMfDo\n",
       "CP5KQ9nPOw3XjNauRGEgeiDhNXgLx7Cc3Hs7W5Vogk3gBAxXJwA6JTw52xKFgeiBp1q8VdkLWcM7\n",
       "tBU468kvELxhNW7dlygMRA/c4+JKKtezhwdHQgZcvvkWwT2zFD4nDEQPVHHkcoUJcEd1AIc96kZw\n",
       "5aMeD/ucMBA98JSJc25G2NVJ3fjzGVAnHsCYI0xSdVwYZKYHkj/p3vkW3LFohvAnhhYDSq8z4Pw1\n",
       "5A2RrPWBCkMwTPVAST4G2MJJfsCCHtP1xpi7xp0LJJ+fUFTbBe3QUhvR+i+cG71YFZb+XEE9D6kw\n",
       "2DZTPbBF0yaZuB9Q0bPXW0qMavcCw66Yr8PGsuFrWlkCadMr9QNoyawitdi/rgSJ6S4L9p30wpLg\n",
       "B9aSGJAMdTqwePp++v/0tGnxp4cn+AEC95JFII8u/rzaSKeVNji09PC4H1i+A/prcNxdpS1kJlrH\n",
       "BGOx8CsH8Xmb0x+jmB+I0DkPXpYnSF/9XcFYmH10Zn7gAIW/12EPFegbvLEwG878AIPfA2Cb4XkJ\n",
       "ZyzMhjM/wOCVoLLN9vwwZyzMhjM/wOAxUKhPHF7JGwvT4dQPMPgvY47JgrshGAuz4cwPHMIfVFbD\n",
       "UeC3GjMWZsOpH+ivKemvLcU24jMeuNwaEo1FTl+LcOVUAHJT5nkh9J/K93zCTcyWiy+PR/II98by\n",
       "GfeOnjzCs3rZ/xdZFD9li84BywAAAABJRU5ErkJggg==\n",
       "\" style=\"display:inline;vertical-align:middle;\" /></a></span><br>"
      ],
      "text/plain": [
       "<IPython.core.display.HTML object>"
      ]
     },
     "metadata": {},
     "output_type": "display_data"
    }
   ],
   "source": [
    "# instantiating the Max definition axiom for binary\n",
    "_x_sub = a\n",
    "_y_sub = b\n",
    "max_def_bin_inst = max_def_bin.instantiate(\n",
    "    {x: _x_sub, y: _y_sub},\n",
    "    assumptions=temp_max_assumptions,\n",
    "    auto_simplify=False)"
   ]
  },
  {
   "cell_type": "code",
   "execution_count": 32,
   "metadata": {},
   "outputs": [
    {
     "data": {
      "text/html": [
       "<span style=\"font-size:20px;\"><a class=\"ProveItLink\" href=\"../__pv_it/theorems/4aa8d696b1f407d6126de9f51a052e8d90e0848c0/expr.ipynb\"><img src=\"data:image/png;base64,iVBORw0KGgoAAAANSUhEUgAAADMAAAAQBAMAAABJt1qBAAAAMFBMVEX///8AAAAAAAAAAAAAAAAA\n",
       "AAAAAAAAAAAAAAAAAAAAAAAAAAAAAAAAAAAAAAAAAAAv3aB7AAAAD3RSTlMAIquJdkTvuxBmmd1U\n",
       "zTKBpmoTAAAACXBIWXMAAA7EAAAOxAGVKw4bAAAAzElEQVQY02NgwABz0+tvp09gwAoKhBiCpjdg\n",
       "lxJmYOdTwCXFJXABRch99+4LcKkCZJlYD4Qupg6QgYzKjg4gAcYbSAY+PysAZIQJsP8ACfAKwKXE\n",
       "bv8GmcCRycC1ASyF5IyZvSCa6wMDtwGI8Ww3EBRApNg7QV5mK2DoDwAJtCPp4ltQAaT7HRjmgwW4\n",
       "kf21ThwkdYBBlwfkAhYHJKl2FqCJ7A48u7jAInfgUlIMnBNKgS5UsRPyA4s0lTbAQr6Qofz+AeTg\n",
       "CK7ejRxyAISENKeL/c93AAAAAElFTkSuQmCC\n",
       "\" style=\"display:inline;vertical-align:middle;\" /></a>, <a class=\"ProveItLink\" href=\"../__pv_it/theorems/6e5cad5b2984ed0d75bd47bd0c542ec447a4f3570/expr.ipynb\"><img src=\"data:image/png;base64,iVBORw0KGgoAAAANSUhEUgAAADEAAAAQBAMAAABNQoq8AAAAMFBMVEX///8AAAAAAAAAAAAAAAAA\n",
       "AAAAAAAAAAAAAAAAAAAAAAAAAAAAAAAAAAAAAAAAAAAv3aB7AAAAD3RSTlMAELvv3c2ZVESJq3Yi\n",
       "MmZ3LnoBAAAACXBIWXMAAA7EAAAOxAGVKw4bAAAA1ElEQVQY02NgQAdPjfRDjB4AGYzKDmhSCqcY\n",
       "uh4JABmsCegyJxmYeBcAGfwFmDJsBwKAjH4BqMgmF5cAuIwCkDEFKtG6EaGHSxBkWtTu5SA+TyCS\n",
       "aZdKDwDd9lVA/gDIIQfgModDvoD0s39kYN4AkkFywTtREM0WwMA/AUhfdgECBYgMkxzIpywTGPpB\n",
       "7hZC0sOboAjxTj7I3SzI/sk9BJK5wGgH4nNvQJIR4gYax/WACRI84XCZYwx8DzSArl6ZBxGQ0hCA\n",
       "hbUOg1I8cph1qkBCBwoAxe43BugJR6MAAAAASUVORK5CYII=\n",
       "\" style=\"display:inline;vertical-align:middle;\" /></a>, <a class=\"ProveItLink\" href=\"../__pv_it/demonstrations/9e47a6cd364dfd85d42bf620b65d4e5a21fa88910/expr.ipynb\"><img src=\"data:image/png;base64,iVBORw0KGgoAAAANSUhEUgAAADAAAAARBAMAAABp3DInAAAAMFBMVEX///8AAAAAAAAAAAAAAAAA\n",
       "AAAAAAAAAAAAAAAAAAAAAAAAAAAAAAAAAAAAAAAAAAAv3aB7AAAAD3RSTlMAIquJdkTvuxBmmd1U\n",
       "zTKBpmoTAAAACXBIWXMAAA7EAAAOxAGVKw4bAAAAsElEQVQY02NgwALas5F5vRMQ7FvIEhzWDnD2\n",
       "H1QTvC2gDNYfaGbPhsowbwCRjMqOcDPOLgRTvCpOBxgYwgTYETpjNUBk/w2OjwwcmQxcGxASFSDy\n",
       "fANDCgPXBwZuA7hRimBqLQPDZwa2Aob+AJjlKyD0ZgbWPwz9Dgzz0Z37h4HrB0P/AQZdHgFUD/5j\n",
       "aJvAwO7As4sLLUg0GaqAClXshPzQPNpkNYGBEtC9GwT2wbgAz2wsvL0X6QAAAAAASUVORK5CYII=\n",
       "\" style=\"display:inline;vertical-align:middle;\" /></a> <a class=\"ProveItLink\" href=\"../__pv_it/demonstrations/beb357adc7f178c900a6a7b3720f6a32c526d0d10/proof.ipynb\" style=\"text-decoration: none\">&nbsp;&#x22A2;&nbsp;&nbsp;</a><a class=\"ProveItLink\" href=\"../__pv_it/demonstrations/f9e85f404dbb1e75286b1c517aaf415501cf375d0/expr.ipynb\"><img src=\"data:image/png;base64,iVBORw0KGgoAAAANSUhEUgAAAIAAAAAVBAMAAAB8u/sIAAAAMFBMVEX///8AAAAAAAAAAAAAAAAA\n",
       "AAAAAAAAAAAAAAAAAAAAAAAAAAAAAAAAAAAAAAAAAAAv3aB7AAAAD3RSTlMAIqvd77tmEHbNmTJE\n",
       "VIk1oG/QAAAACXBIWXMAAA7EAAAOxAGVKw4bAAACIElEQVQ4y5WUPWgUQRTH//exs+dm97JEAhYW\n",
       "VhIL4xERSUBzFloJd4JFumxt4yIRrtuNjQE1WQJJBC0OAynNJWktDrFIlVxQEAvlMIKCIBeRnJ4J\n",
       "+t5c9siOLuEGZvd9zP7mvTdvB4gb9hH6USNTUwzrMQv7RvP8KgwpO3w4JOs3c0R0Ygj9u/QQ55Tv\n",
       "9eCwdqxMj4UYQGmYA152o1Yjsl8v53MrDjBDm79QAemItsnetBsD8Cg+XwW8i2jbMo+YIpSSVEWH\n",
       "AGLqmyvGd80fT8j6nGZicNJvr5mdOgtkT/1zAF9OMMDch+US4I1tBMg28ZR98zRf2VqzXdFfrmdD\n",
       "yLounucxxKJ5BeMUeAkXkIEEmDvAnKiw8xJ9dg1GTgKsJtI+rLwSwISDRY4AM/ZJBkDfIMDEaem8\n",
       "TgfRQKrePpIAvXX0NBTAMnBZAry6zwD92XsCWHshIF2EV5UKcTZrMNUIrkLfkwAt78gUqj0EMD65\n",
       "Byl4Pm532oD8Vi5aA/0nREMCzO8uL2jB3FnBZ03WaowANZyxbJ0BFaoHRFFp1n0kgy3gJccCauUW\n",
       "Mr+3sr7eYu9HQPOtEQMe8ZKORr1i1JUUxvC6XEZ/YR4Pca8wa68+ur89PRqIP4/JuUY7DHzte4DU\n",
       "RZIGl7gSVQVwZ3ploBL3N6c6nrehcLyr60CUQ6kT+FJ3F8qNsFQH3YxEsTvA3fBmCg1al3dawlcM\n",
       "k/9f9xdLmIzKfF532QAAAABJRU5ErkJggg==\n",
       "\" style=\"display:inline;vertical-align:middle;\" /></a></span>"
      ],
      "text/plain": [
       "{a in Real, b in Real, a >= b} |- Max(a, b) = a"
      ]
     },
     "metadata": {},
     "output_type": "display_data"
    }
   ],
   "source": [
    "# then simplify/evaluate with assumptions about a, b relation\n",
    "max_def_bin_inst.inner_expr().rhs.simplify(assumptions=temp_max_assumptions)"
   ]
  },
  {
   "cell_type": "code",
   "execution_count": 33,
   "metadata": {},
   "outputs": [
    {
     "data": {
      "text/html": [
       "<span style=\"font-size:20px;\"><a class=\"ProveItLink\" href=\"../__pv_it/theorems/4aa8d696b1f407d6126de9f51a052e8d90e0848c0/expr.ipynb\"><img src=\"data:image/png;base64,iVBORw0KGgoAAAANSUhEUgAAADMAAAAQBAMAAABJt1qBAAAAMFBMVEX///8AAAAAAAAAAAAAAAAA\n",
       "AAAAAAAAAAAAAAAAAAAAAAAAAAAAAAAAAAAAAAAAAAAv3aB7AAAAD3RSTlMAIquJdkTvuxBmmd1U\n",
       "zTKBpmoTAAAACXBIWXMAAA7EAAAOxAGVKw4bAAAAzElEQVQY02NgwABz0+tvp09gwAoKhBiCpjdg\n",
       "lxJmYOdTwCXFJXABRch99+4LcKkCZJlYD4Qupg6QgYzKjg4gAcYbSAY+PysAZIQJsP8ACfAKwKXE\n",
       "bv8GmcCRycC1ASyF5IyZvSCa6wMDtwGI8Ww3EBRApNg7QV5mK2DoDwAJtCPp4ltQAaT7HRjmgwW4\n",
       "kf21ThwkdYBBlwfkAhYHJKl2FqCJ7A48u7jAInfgUlIMnBNKgS5UsRPyA4s0lTbAQr6Qofz+AeTg\n",
       "CK7ejRxyAISENKeL/c93AAAAAElFTkSuQmCC\n",
       "\" style=\"display:inline;vertical-align:middle;\" /></a>, <a class=\"ProveItLink\" href=\"../__pv_it/theorems/6e5cad5b2984ed0d75bd47bd0c542ec447a4f3570/expr.ipynb\"><img src=\"data:image/png;base64,iVBORw0KGgoAAAANSUhEUgAAADEAAAAQBAMAAABNQoq8AAAAMFBMVEX///8AAAAAAAAAAAAAAAAA\n",
       "AAAAAAAAAAAAAAAAAAAAAAAAAAAAAAAAAAAAAAAAAAAv3aB7AAAAD3RSTlMAELvv3c2ZVESJq3Yi\n",
       "MmZ3LnoBAAAACXBIWXMAAA7EAAAOxAGVKw4bAAAA1ElEQVQY02NgQAdPjfRDjB4AGYzKDmhSCqcY\n",
       "uh4JABmsCegyJxmYeBcAGfwFmDJsBwKAjH4BqMgmF5cAuIwCkDEFKtG6EaGHSxBkWtTu5SA+TyCS\n",
       "aZdKDwDd9lVA/gDIIQfgModDvoD0s39kYN4AkkFywTtREM0WwMA/AUhfdgECBYgMkxzIpywTGPpB\n",
       "7hZC0sOboAjxTj7I3SzI/sk9BJK5wGgH4nNvQJIR4gYax/WACRI84XCZYwx8DzSArl6ZBxGQ0hCA\n",
       "hbUOg1I8cph1qkBCBwoAxe43BugJR6MAAAAASUVORK5CYII=\n",
       "\" style=\"display:inline;vertical-align:middle;\" /></a>, <a class=\"ProveItLink\" href=\"../__pv_it/demonstrations/9e47a6cd364dfd85d42bf620b65d4e5a21fa88910/expr.ipynb\"><img src=\"data:image/png;base64,iVBORw0KGgoAAAANSUhEUgAAADAAAAARBAMAAABp3DInAAAAMFBMVEX///8AAAAAAAAAAAAAAAAA\n",
       "AAAAAAAAAAAAAAAAAAAAAAAAAAAAAAAAAAAAAAAAAAAv3aB7AAAAD3RSTlMAIquJdkTvuxBmmd1U\n",
       "zTKBpmoTAAAACXBIWXMAAA7EAAAOxAGVKw4bAAAAsElEQVQY02NgwALas5F5vRMQ7FvIEhzWDnD2\n",
       "H1QTvC2gDNYfaGbPhsowbwCRjMqOcDPOLgRTvCpOBxgYwgTYETpjNUBk/w2OjwwcmQxcGxASFSDy\n",
       "fANDCgPXBwZuA7hRimBqLQPDZwa2Aob+AJjlKyD0ZgbWPwz9Dgzz0Z37h4HrB0P/AQZdHgFUD/5j\n",
       "aJvAwO7As4sLLUg0GaqAClXshPzQPNpkNYGBEtC9GwT2wbgAz2wsvL0X6QAAAAAASUVORK5CYII=\n",
       "\" style=\"display:inline;vertical-align:middle;\" /></a> <a class=\"ProveItLink\" href=\"../__pv_it/demonstrations/323408dc911d823a0ac79e063bab645e71ba72810/proof.ipynb\" style=\"text-decoration: none\">&nbsp;&#x22A2;&nbsp;&nbsp;</a><a class=\"ProveItLink\" href=\"../__pv_it/demonstrations/f9e85f404dbb1e75286b1c517aaf415501cf375d0/expr.ipynb\"><img src=\"data:image/png;base64,iVBORw0KGgoAAAANSUhEUgAAAIAAAAAVBAMAAAB8u/sIAAAAMFBMVEX///8AAAAAAAAAAAAAAAAA\n",
       "AAAAAAAAAAAAAAAAAAAAAAAAAAAAAAAAAAAAAAAAAAAv3aB7AAAAD3RSTlMAIqvd77tmEHbNmTJE\n",
       "VIk1oG/QAAAACXBIWXMAAA7EAAAOxAGVKw4bAAACIElEQVQ4y5WUPWgUQRTH//exs+dm97JEAhYW\n",
       "VhIL4xERSUBzFloJd4JFumxt4yIRrtuNjQE1WQJJBC0OAynNJWktDrFIlVxQEAvlMIKCIBeRnJ4J\n",
       "+t5c9siOLuEGZvd9zP7mvTdvB4gb9hH6USNTUwzrMQv7RvP8KgwpO3w4JOs3c0R0Ygj9u/QQ55Tv\n",
       "9eCwdqxMj4UYQGmYA152o1Yjsl8v53MrDjBDm79QAemItsnetBsD8Cg+XwW8i2jbMo+YIpSSVEWH\n",
       "AGLqmyvGd80fT8j6nGZicNJvr5mdOgtkT/1zAF9OMMDch+US4I1tBMg28ZR98zRf2VqzXdFfrmdD\n",
       "yLounucxxKJ5BeMUeAkXkIEEmDvAnKiw8xJ9dg1GTgKsJtI+rLwSwISDRY4AM/ZJBkDfIMDEaem8\n",
       "TgfRQKrePpIAvXX0NBTAMnBZAry6zwD92XsCWHshIF2EV5UKcTZrMNUIrkLfkwAt78gUqj0EMD65\n",
       "Byl4Pm532oD8Vi5aA/0nREMCzO8uL2jB3FnBZ03WaowANZyxbJ0BFaoHRFFp1n0kgy3gJccCauUW\n",
       "Mr+3sr7eYu9HQPOtEQMe8ZKORr1i1JUUxvC6XEZ/YR4Pca8wa68+ur89PRqIP4/JuUY7DHzte4DU\n",
       "RZIGl7gSVQVwZ3ploBL3N6c6nrehcLyr60CUQ6kT+FJ3F8qNsFQH3YxEsTvA3fBmCg1al3dawlcM\n",
       "k/9f9xdLmIzKfF532QAAAABJRU5ErkJggg==\n",
       "\" style=\"display:inline;vertical-align:middle;\" /></a></span>"
      ],
      "text/plain": [
       "{a in Real, b in Real, a >= b} |- Max(a, b) = a"
      ]
     },
     "metadata": {},
     "output_type": "display_data"
    }
   ],
   "source": [
    "# alternatively, execute the definition() method:\n",
    "Max(a, b).definition(assumptions=temp_max_assumptions)"
   ]
  },
  {
   "cell_type": "code",
   "execution_count": 34,
   "metadata": {},
   "outputs": [
    {
     "data": {
      "text/html": [
       "<span style=\"font-size:20px;\"><a class=\"ProveItLink\" href=\"../__pv_it/theorems/4aa8d696b1f407d6126de9f51a052e8d90e0848c0/expr.ipynb\"><img src=\"data:image/png;base64,iVBORw0KGgoAAAANSUhEUgAAADMAAAAQBAMAAABJt1qBAAAAMFBMVEX///8AAAAAAAAAAAAAAAAA\n",
       "AAAAAAAAAAAAAAAAAAAAAAAAAAAAAAAAAAAAAAAAAAAv3aB7AAAAD3RSTlMAIquJdkTvuxBmmd1U\n",
       "zTKBpmoTAAAACXBIWXMAAA7EAAAOxAGVKw4bAAAAzElEQVQY02NgwABz0+tvp09gwAoKhBiCpjdg\n",
       "lxJmYOdTwCXFJXABRch99+4LcKkCZJlYD4Qupg6QgYzKjg4gAcYbSAY+PysAZIQJsP8ACfAKwKXE\n",
       "bv8GmcCRycC1ASyF5IyZvSCa6wMDtwGI8Ww3EBRApNg7QV5mK2DoDwAJtCPp4ltQAaT7HRjmgwW4\n",
       "kf21ThwkdYBBlwfkAhYHJKl2FqCJ7A48u7jAInfgUlIMnBNKgS5UsRPyA4s0lTbAQr6Qofz+AeTg\n",
       "CK7ejRxyAISENKeL/c93AAAAAElFTkSuQmCC\n",
       "\" style=\"display:inline;vertical-align:middle;\" /></a>, <a class=\"ProveItLink\" href=\"../__pv_it/theorems/6e5cad5b2984ed0d75bd47bd0c542ec447a4f3570/expr.ipynb\"><img src=\"data:image/png;base64,iVBORw0KGgoAAAANSUhEUgAAADEAAAAQBAMAAABNQoq8AAAAMFBMVEX///8AAAAAAAAAAAAAAAAA\n",
       "AAAAAAAAAAAAAAAAAAAAAAAAAAAAAAAAAAAAAAAAAAAv3aB7AAAAD3RSTlMAELvv3c2ZVESJq3Yi\n",
       "MmZ3LnoBAAAACXBIWXMAAA7EAAAOxAGVKw4bAAAA1ElEQVQY02NgQAdPjfRDjB4AGYzKDmhSCqcY\n",
       "uh4JABmsCegyJxmYeBcAGfwFmDJsBwKAjH4BqMgmF5cAuIwCkDEFKtG6EaGHSxBkWtTu5SA+TyCS\n",
       "aZdKDwDd9lVA/gDIIQfgModDvoD0s39kYN4AkkFywTtREM0WwMA/AUhfdgECBYgMkxzIpywTGPpB\n",
       "7hZC0sOboAjxTj7I3SzI/sk9BJK5wGgH4nNvQJIR4gYax/WACRI84XCZYwx8DzSArl6ZBxGQ0hCA\n",
       "hbUOg1I8cph1qkBCBwoAxe43BugJR6MAAAAASUVORK5CYII=\n",
       "\" style=\"display:inline;vertical-align:middle;\" /></a>, <a class=\"ProveItLink\" href=\"../__pv_it/demonstrations/d334def440d0d2ef87948beef2b49c743b1328ac0/expr.ipynb\"><img src=\"data:image/png;base64,iVBORw0KGgoAAAANSUhEUgAAADAAAAARBAMAAABp3DInAAAAMFBMVEX///8AAAAAAAAAAAAAAAAA\n",
       "AAAAAAAAAAAAAAAAAAAAAAAAAAAAAAAAAAAAAAAAAAAv3aB7AAAAD3RSTlMAIquJdkTvuxBmmd1U\n",
       "zTKBpmoTAAAACXBIWXMAAA7EAAAOxAGVKw4bAAAAs0lEQVQY02NgwALaszGEeC6CqVvo4py7GsD0\n",
       "HzRxls0QcdYfqOLNW6AM5g0gklHZ0QHM7doJU8Gr4nSAgSFMgB2ss+kOXGv/DY6PDByZDFxgnUwI\n",
       "ifMNDCkMXB8YuA3AXCm4UWsZGD4zsBUw9AegWb6ZgfUPQ78Dw3x05/5h4PrB0H+AQZdHANWD/xja\n",
       "JjCwO/Ds4kIEyT0QqclQxcDAoWIn5IcWAk1WExgoAd27QWAfjAsAOFswJenq0dEAAAAASUVORK5C\n",
       "YII=\n",
       "\" style=\"display:inline;vertical-align:middle;\" /></a> <a class=\"ProveItLink\" href=\"../__pv_it/demonstrations/d73f5cd42c430a2c7712bc12b4beee91bbf6b0ea0/proof.ipynb\" style=\"text-decoration: none\">&nbsp;&#x22A2;&nbsp;&nbsp;</a><a class=\"ProveItLink\" href=\"../__pv_it/demonstrations/8de63938ca6b7c941ff92d7a54d3b229880a6d740/expr.ipynb\"><img src=\"data:image/png;base64,iVBORw0KGgoAAAANSUhEUgAAAE4AAAAVBAMAAAAazcUaAAAAMFBMVEX///8AAAAAAAAAAAAAAAAA\n",
       "AAAAAAAAAAAAAAAAAAAAAAAAAAAAAAAAAAAAAAAAAAAv3aB7AAAAD3RSTlMAmd0iq3ZUiRDNZu9E\n",
       "uzLWhN+VAAAACXBIWXMAAA7EAAAOxAGVKw4bAAABO0lEQVQoz2NgQABmBhwATSIMlzqeAGQeWwFD\n",
       "7ybsCqOQOZ1APBG7Os4GJI4UEH/Dro5LAImzAeiQH0jOmIwktwNJfAIDA7sCwghFZLtmIZiMBUB3\n",
       "uIYkQHis6lBlJqWmQLIEya0LGBj6Z3B8BnPaVWFBspnhPlDHSgYhJSBQBIowAU3Kb2DYCpI11ILp\n",
       "7l7AIASksqGGAzH3AQYGSQaG70AmyzS4LfIMDOpA6j2qOnUGnm+o6vYycPwBUqcR6kD2fmNg/IFi\n",
       "L8dXBq4PQDoJwjUEYl5gJP4DuQfZHxzfGFgmJDMwrEX4l92BgcGL4SKU16oKCZerDEkCwMgQR6jj\n",
       "A4ZxS+ECeDhDArAl/LHrAwYGHaQw10OLU6R4Y1ZAkljIgBMwLkDi8BrgVGeLzOG4gFPdZRSeKS5l\n",
       "rAYMAJaaO7VOpQmLAAAAAElFTkSuQmCC\n",
       "\" style=\"display:inline;vertical-align:middle;\" /></a></span>"
      ],
      "text/plain": [
       "{a in Real, b in Real, a <= b} |- [not](b < a)"
      ]
     },
     "metadata": {},
     "output_type": "display_data"
    }
   ],
   "source": [
    "# Notice that side_effects for a <= b include Not(b < a):\n",
    "Not(Less(b, a)).prove(assumptions=[InSet(a, Real), InSet(b, Real), LessEq(a, b)])"
   ]
  },
  {
   "cell_type": "code",
   "execution_count": 35,
   "metadata": {},
   "outputs": [
    {
     "data": {
      "text/html": [
       "<span style=\"font-size:20px;\"><a class=\"ProveItLink\" href=\"../__pv_it/theorems/6e5cad5b2984ed0d75bd47bd0c542ec447a4f3570/expr.ipynb\"><img src=\"data:image/png;base64,iVBORw0KGgoAAAANSUhEUgAAADEAAAAQBAMAAABNQoq8AAAAMFBMVEX///8AAAAAAAAAAAAAAAAA\n",
       "AAAAAAAAAAAAAAAAAAAAAAAAAAAAAAAAAAAAAAAAAAAv3aB7AAAAD3RSTlMAELvv3c2ZVESJq3Yi\n",
       "MmZ3LnoBAAAACXBIWXMAAA7EAAAOxAGVKw4bAAAA1ElEQVQY02NgQAdPjfRDjB4AGYzKDmhSCqcY\n",
       "uh4JABmsCegyJxmYeBcAGfwFmDJsBwKAjH4BqMgmF5cAuIwCkDEFKtG6EaGHSxBkWtTu5SA+TyCS\n",
       "aZdKDwDd9lVA/gDIIQfgModDvoD0s39kYN4AkkFywTtREM0WwMA/AUhfdgECBYgMkxzIpywTGPpB\n",
       "7hZC0sOboAjxTj7I3SzI/sk9BJK5wGgH4nNvQJIR4gYax/WACRI84XCZYwx8DzSArl6ZBxGQ0hCA\n",
       "hbUOg1I8cph1qkBCBwoAxe43BugJR6MAAAAASUVORK5CYII=\n",
       "\" style=\"display:inline;vertical-align:middle;\" /></a>, <a class=\"ProveItLink\" href=\"../__pv_it/theorems/4aa8d696b1f407d6126de9f51a052e8d90e0848c0/expr.ipynb\"><img src=\"data:image/png;base64,iVBORw0KGgoAAAANSUhEUgAAADMAAAAQBAMAAABJt1qBAAAAMFBMVEX///8AAAAAAAAAAAAAAAAA\n",
       "AAAAAAAAAAAAAAAAAAAAAAAAAAAAAAAAAAAAAAAAAAAv3aB7AAAAD3RSTlMAIquJdkTvuxBmmd1U\n",
       "zTKBpmoTAAAACXBIWXMAAA7EAAAOxAGVKw4bAAAAzElEQVQY02NgwABz0+tvp09gwAoKhBiCpjdg\n",
       "lxJmYOdTwCXFJXABRch99+4LcKkCZJlYD4Qupg6QgYzKjg4gAcYbSAY+PysAZIQJsP8ACfAKwKXE\n",
       "bv8GmcCRycC1ASyF5IyZvSCa6wMDtwGI8Ww3EBRApNg7QV5mK2DoDwAJtCPp4ltQAaT7HRjmgwW4\n",
       "kf21ThwkdYBBlwfkAhYHJKl2FqCJ7A48u7jAInfgUlIMnBNKgS5UsRPyA4s0lTbAQr6Qofz+AeTg\n",
       "CK7ejRxyAISENKeL/c93AAAAAElFTkSuQmCC\n",
       "\" style=\"display:inline;vertical-align:middle;\" /></a>, <a class=\"ProveItLink\" href=\"../__pv_it/demonstrations/77a74da8c0adcebeb479cb47f69091936720ac580/expr.ipynb\"><img src=\"data:image/png;base64,iVBORw0KGgoAAAANSUhEUgAAAE4AAAAVBAMAAAAazcUaAAAAMFBMVEX///8AAAAAAAAAAAAAAAAA\n",
       "AAAAAAAAAAAAAAAAAAAAAAAAAAAAAAAAAAAAAAAAAAAv3aB7AAAAD3RSTlMAmd0iq3ZUiRDNZu9E\n",
       "uzLWhN+VAAAACXBIWXMAAA7EAAAOxAGVKw4bAAABQElEQVQoz2NgQABmBhwATSIMlzqeAGQeWwE2\n",
       "Nb2bgEQUskgndsMmAjFnA5KAFHZ134CYSwBJYAOS0QsQbvsBIncgOW8Cgs1RBHc5uwKInIWQYwR5\n",
       "w6TUFMILqoAKc7qGJDAwlCDUcQLt4tnMcB/q5EUSELp/BsdnBoaVDEJKQKAIFGACautewCAE05cp\n",
       "DKbyGxi2MjBkQ8RMgJj7AAODPAODOtyCkx4gUpKB4TsDw3tUdXsZOP4g1N0AkeoMPMCQOY1QB7SX\n",
       "4ysD1we4vc7Q4GMEhkwSRMwQiHkDGDi+MbBMSIb6A+I8hn8gRzOsRfiX3YGB4SpDkoAAarh4MVwE\n",
       "kuIIdXzAAG0Jf+z6ABTOQfBwbikExY0OUrzpIZhNC9ASoAISZyEDTsCIrI/XAKc6W2QOxwWc6i6j\n",
       "8ExxKWM1YAAAJuM+p/1VkGUAAAAASUVORK5CYII=\n",
       "\" style=\"display:inline;vertical-align:middle;\" /></a> <a class=\"ProveItLink\" href=\"../__pv_it/demonstrations/1598c24eaeaa7c9a25604c3f0d9a45b5ffcd367e0/proof.ipynb\" style=\"text-decoration: none\">&nbsp;&#x22A2;&nbsp;&nbsp;</a><a class=\"ProveItLink\" href=\"../__pv_it/demonstrations/d334def440d0d2ef87948beef2b49c743b1328ac0/expr.ipynb\"><img src=\"data:image/png;base64,iVBORw0KGgoAAAANSUhEUgAAADAAAAARBAMAAABp3DInAAAAMFBMVEX///8AAAAAAAAAAAAAAAAA\n",
       "AAAAAAAAAAAAAAAAAAAAAAAAAAAAAAAAAAAAAAAAAAAv3aB7AAAAD3RSTlMAIquJdkTvuxBmmd1U\n",
       "zTKBpmoTAAAACXBIWXMAAA7EAAAOxAGVKw4bAAAAs0lEQVQY02NgwALaszGEeC6CqVvo4py7GsD0\n",
       "HzRxls0QcdYfqOLNW6AM5g0gklHZ0QHM7doJU8Gr4nSAgSFMgB2ss+kOXGv/DY6PDByZDFxgnUwI\n",
       "ifMNDCkMXB8YuA3AXCm4UWsZGD4zsBUw9AegWb6ZgfUPQ78Dw3x05/5h4PrB0H+AQZdHANWD/xja\n",
       "JjCwO/Ds4kIEyT0QqclQxcDAoWIn5IcWAk1WExgoAd27QWAfjAsAOFswJenq0dEAAAAASUVORK5C\n",
       "YII=\n",
       "\" style=\"display:inline;vertical-align:middle;\" /></a></span>"
      ],
      "text/plain": [
       "{b in Real, a in Real, [not](a > b)} |- a <= b"
      ]
     },
     "metadata": {},
     "output_type": "display_data"
    }
   ],
   "source": [
    "# And notice side effects of Not(a > b) include a <= b\n",
    "LessEq(a, b).prove(\n",
    "        assumptions=[InSet(a, Real), InSet(b, Real), Not(greater(a, b))])"
   ]
  },
  {
   "cell_type": "code",
   "execution_count": 36,
   "metadata": {},
   "outputs": [
    {
     "data": {
      "text/html": [
       "<span style=\"font-size:20px;\"><a class=\"ProveItLink\" href=\"../__pv_it/theorems/4aa8d696b1f407d6126de9f51a052e8d90e0848c0/expr.ipynb\"><img src=\"data:image/png;base64,iVBORw0KGgoAAAANSUhEUgAAADMAAAAQBAMAAABJt1qBAAAAMFBMVEX///8AAAAAAAAAAAAAAAAA\n",
       "AAAAAAAAAAAAAAAAAAAAAAAAAAAAAAAAAAAAAAAAAAAv3aB7AAAAD3RSTlMAIquJdkTvuxBmmd1U\n",
       "zTKBpmoTAAAACXBIWXMAAA7EAAAOxAGVKw4bAAAAzElEQVQY02NgwABz0+tvp09gwAoKhBiCpjdg\n",
       "lxJmYOdTwCXFJXABRch99+4LcKkCZJlYD4Qupg6QgYzKjg4gAcYbSAY+PysAZIQJsP8ACfAKwKXE\n",
       "bv8GmcCRycC1ASyF5IyZvSCa6wMDtwGI8Ww3EBRApNg7QV5mK2DoDwAJtCPp4ltQAaT7HRjmgwW4\n",
       "kf21ThwkdYBBlwfkAhYHJKl2FqCJ7A48u7jAInfgUlIMnBNKgS5UsRPyA4s0lTbAQr6Qofz+AeTg\n",
       "CK7ejRxyAISENKeL/c93AAAAAElFTkSuQmCC\n",
       "\" style=\"display:inline;vertical-align:middle;\" /></a>, <a class=\"ProveItLink\" href=\"../__pv_it/theorems/6e5cad5b2984ed0d75bd47bd0c542ec447a4f3570/expr.ipynb\"><img src=\"data:image/png;base64,iVBORw0KGgoAAAANSUhEUgAAADEAAAAQBAMAAABNQoq8AAAAMFBMVEX///8AAAAAAAAAAAAAAAAA\n",
       "AAAAAAAAAAAAAAAAAAAAAAAAAAAAAAAAAAAAAAAAAAAv3aB7AAAAD3RSTlMAELvv3c2ZVESJq3Yi\n",
       "MmZ3LnoBAAAACXBIWXMAAA7EAAAOxAGVKw4bAAAA1ElEQVQY02NgQAdPjfRDjB4AGYzKDmhSCqcY\n",
       "uh4JABmsCegyJxmYeBcAGfwFmDJsBwKAjH4BqMgmF5cAuIwCkDEFKtG6EaGHSxBkWtTu5SA+TyCS\n",
       "aZdKDwDd9lVA/gDIIQfgModDvoD0s39kYN4AkkFywTtREM0WwMA/AUhfdgECBYgMkxzIpywTGPpB\n",
       "7hZC0sOboAjxTj7I3SzI/sk9BJK5wGgH4nNvQJIR4gYax/WACRI84XCZYwx8DzSArl6ZBxGQ0hCA\n",
       "hbUOg1I8cph1qkBCBwoAxe43BugJR6MAAAAASUVORK5CYII=\n",
       "\" style=\"display:inline;vertical-align:middle;\" /></a>, <a class=\"ProveItLink\" href=\"../__pv_it/demonstrations/9e47a6cd364dfd85d42bf620b65d4e5a21fa88910/expr.ipynb\"><img src=\"data:image/png;base64,iVBORw0KGgoAAAANSUhEUgAAADAAAAARBAMAAABp3DInAAAAMFBMVEX///8AAAAAAAAAAAAAAAAA\n",
       "AAAAAAAAAAAAAAAAAAAAAAAAAAAAAAAAAAAAAAAAAAAv3aB7AAAAD3RSTlMAIquJdkTvuxBmmd1U\n",
       "zTKBpmoTAAAACXBIWXMAAA7EAAAOxAGVKw4bAAAAsElEQVQY02NgwALas5F5vRMQ7FvIEhzWDnD2\n",
       "H1QTvC2gDNYfaGbPhsowbwCRjMqOcDPOLgRTvCpOBxgYwgTYETpjNUBk/w2OjwwcmQxcGxASFSDy\n",
       "fANDCgPXBwZuA7hRimBqLQPDZwa2Aob+AJjlKyD0ZgbWPwz9Dgzz0Z37h4HrB0P/AQZdHgFUD/5j\n",
       "aJvAwO7As4sLLUg0GaqAClXshPzQPNpkNYGBEtC9GwT2wbgAz2wsvL0X6QAAAAAASUVORK5CYII=\n",
       "\" style=\"display:inline;vertical-align:middle;\" /></a> <a class=\"ProveItLink\" href=\"../__pv_it/demonstrations/323408dc911d823a0ac79e063bab645e71ba72810/proof.ipynb\" style=\"text-decoration: none\">&nbsp;&#x22A2;&nbsp;&nbsp;</a><a class=\"ProveItLink\" href=\"../__pv_it/demonstrations/f9e85f404dbb1e75286b1c517aaf415501cf375d0/expr.ipynb\"><img src=\"data:image/png;base64,iVBORw0KGgoAAAANSUhEUgAAAIAAAAAVBAMAAAB8u/sIAAAAMFBMVEX///8AAAAAAAAAAAAAAAAA\n",
       "AAAAAAAAAAAAAAAAAAAAAAAAAAAAAAAAAAAAAAAAAAAv3aB7AAAAD3RSTlMAIqvd77tmEHbNmTJE\n",
       "VIk1oG/QAAAACXBIWXMAAA7EAAAOxAGVKw4bAAACIElEQVQ4y5WUPWgUQRTH//exs+dm97JEAhYW\n",
       "VhIL4xERSUBzFloJd4JFumxt4yIRrtuNjQE1WQJJBC0OAynNJWktDrFIlVxQEAvlMIKCIBeRnJ4J\n",
       "+t5c9siOLuEGZvd9zP7mvTdvB4gb9hH6USNTUwzrMQv7RvP8KgwpO3w4JOs3c0R0Ygj9u/QQ55Tv\n",
       "9eCwdqxMj4UYQGmYA152o1Yjsl8v53MrDjBDm79QAemItsnetBsD8Cg+XwW8i2jbMo+YIpSSVEWH\n",
       "AGLqmyvGd80fT8j6nGZicNJvr5mdOgtkT/1zAF9OMMDch+US4I1tBMg28ZR98zRf2VqzXdFfrmdD\n",
       "yLounucxxKJ5BeMUeAkXkIEEmDvAnKiw8xJ9dg1GTgKsJtI+rLwSwISDRY4AM/ZJBkDfIMDEaem8\n",
       "TgfRQKrePpIAvXX0NBTAMnBZAry6zwD92XsCWHshIF2EV5UKcTZrMNUIrkLfkwAt78gUqj0EMD65\n",
       "Byl4Pm532oD8Vi5aA/0nREMCzO8uL2jB3FnBZ03WaowANZyxbJ0BFaoHRFFp1n0kgy3gJccCauUW\n",
       "Mr+3sr7eYu9HQPOtEQMe8ZKORr1i1JUUxvC6XEZ/YR4Pca8wa68+ur89PRqIP4/JuUY7DHzte4DU\n",
       "RZIGl7gSVQVwZ3ploBL3N6c6nrehcLyr60CUQ6kT+FJ3F8qNsFQH3YxEsTvA3fBmCg1al3dawlcM\n",
       "k/9f9xdLmIzKfF532QAAAABJRU5ErkJggg==\n",
       "\" style=\"display:inline;vertical-align:middle;\" /></a></span>"
      ],
      "text/plain": [
       "{a in Real, b in Real, a >= b} |- Max(a, b) = a"
      ]
     },
     "metadata": {},
     "output_type": "display_data"
    }
   ],
   "source": [
    "Max(a, b).simplification(assumptions=[InSet(a, Real), InSet(b, Real), greater_eq(a, b)])"
   ]
  },
  {
   "cell_type": "code",
   "execution_count": 37,
   "metadata": {},
   "outputs": [
    {
     "data": {
      "text/html": [
       "<strong id=\"max_multi_test\">max_multi_test:</strong> <a class=\"ProveItLink\" href=\"../__pv_it/demonstrations/97f06bf4b75e47d6eab724d55e85f70ada39d94e0/expr.ipynb\"><img src=\"data:image/png;base64,iVBORw0KGgoAAAANSUhEUgAAAH0AAAAVBAMAAACZCfwhAAAAMFBMVEX///8AAAAAAAAAAAAAAAAA\n",
       "AAAAAAAAAAAAAAAAAAAAAAAAAAAAAAAAAAAAAAAAAAAv3aB7AAAAD3RSTlMAIqvd77tmEHbNmTJE\n",
       "VIk1oG/QAAAACXBIWXMAAA7EAAAOxAGVKw4bAAACK0lEQVQ4y4WUMWgTURjH/2lyd/Fylx4t3Ryc\n",
       "RAdjEUQq1GbRSUgEBzdvcnDxBoVsd+3QFqptKLaKOgSHjhp1dQji4GQjCOKgBCsoCKUVaTBa2v97\n",
       "L1fqxdc8uLv/3f/73fvu++49QDc89B0HhWSb/fk3PIYmikKWTiVe9nmfti6P9sK5u7Wsz+vIFk/m\n",
       "yQRuVfffHar9Z/bBJu7xUhkT2T4N/jVtPxHaO1YDXBf8Aqd+meQzydDescYoPq+ETC5K8h+Tob3j\n",
       "Ab+LWVYGWECfvDm7HphXt5xfD2k+4ZEqTEYqdHH2RBf6Pl2X11RhbhvIHyHvbMMNyL/37CrybTwS\n",
       "/jKP157RVsX8HYSqvsNNuyyF8kxWuYLTyELyziawZMoJxkldgK365raRUZmc6wrhkXWLgl/wDgse\n",
       "1lvyN4/KwItswQbSLdWMKgalsttxe5SX2xB82IoEbz3+RN79G/OZMsKGvGHoquxgphy3R3mOnN8o\n",
       "+jL/Ro68/TXo5h9GuLHXftWfsFvP2HNHBe/8DITfgbP5DN8M+eddYUwTx13PEnyd3ysF+9UQQnkw\n",
       "mc8r4DzA/7eD7J93+cjqCP4LYETuWRshXzfgGzUpWPx8XQjlwW5hpLSM25gqLXrP78yszU9UzZ37\n",
       "5F+wnMd+DM0hfYaqsAIpsH5tRj2RHtIN3dJM12P1QS8wrF3a5t6Ka+kFVvR7w6V4IUdagVRZz9+K\n",
       "9yFoBYwDNrBU1H//mgR2Abf4nf9wq0AYAAAAAElFTkSuQmCC\n",
       "\" style=\"display:inline;vertical-align:middle;\" /></a><br>"
      ],
      "text/plain": [
       "<IPython.core.display.HTML object>"
      ]
     },
     "metadata": {},
     "output_type": "display_data"
    }
   ],
   "source": [
    "max_multi_test = Max(a, b, c, d)"
   ]
  },
  {
   "cell_type": "code",
   "execution_count": 38,
   "metadata": {},
   "outputs": [
    {
     "data": {
      "text/html": [
       "<strong id=\"max_multi_test_01\">max_multi_test_01:</strong> <span style=\"font-size:20px;\"><a class=\"ProveItLink\" href=\"../__pv_it/theorems/4aa8d696b1f407d6126de9f51a052e8d90e0848c0/expr.ipynb\"><img src=\"data:image/png;base64,iVBORw0KGgoAAAANSUhEUgAAADMAAAAQBAMAAABJt1qBAAAAMFBMVEX///8AAAAAAAAAAAAAAAAA\n",
       "AAAAAAAAAAAAAAAAAAAAAAAAAAAAAAAAAAAAAAAAAAAv3aB7AAAAD3RSTlMAIquJdkTvuxBmmd1U\n",
       "zTKBpmoTAAAACXBIWXMAAA7EAAAOxAGVKw4bAAAAzElEQVQY02NgwABz0+tvp09gwAoKhBiCpjdg\n",
       "lxJmYOdTwCXFJXABRch99+4LcKkCZJlYD4Qupg6QgYzKjg4gAcYbSAY+PysAZIQJsP8ACfAKwKXE\n",
       "bv8GmcCRycC1ASyF5IyZvSCa6wMDtwGI8Ww3EBRApNg7QV5mK2DoDwAJtCPp4ltQAaT7HRjmgwW4\n",
       "kf21ThwkdYBBlwfkAhYHJKl2FqCJ7A48u7jAInfgUlIMnBNKgS5UsRPyA4s0lTbAQr6Qofz+AeTg\n",
       "CK7ejRxyAISENKeL/c93AAAAAElFTkSuQmCC\n",
       "\" style=\"display:inline;vertical-align:middle;\" /></a>, <a class=\"ProveItLink\" href=\"../__pv_it/theorems/6e5cad5b2984ed0d75bd47bd0c542ec447a4f3570/expr.ipynb\"><img src=\"data:image/png;base64,iVBORw0KGgoAAAANSUhEUgAAADEAAAAQBAMAAABNQoq8AAAAMFBMVEX///8AAAAAAAAAAAAAAAAA\n",
       "AAAAAAAAAAAAAAAAAAAAAAAAAAAAAAAAAAAAAAAAAAAv3aB7AAAAD3RSTlMAELvv3c2ZVESJq3Yi\n",
       "MmZ3LnoBAAAACXBIWXMAAA7EAAAOxAGVKw4bAAAA1ElEQVQY02NgQAdPjfRDjB4AGYzKDmhSCqcY\n",
       "uh4JABmsCegyJxmYeBcAGfwFmDJsBwKAjH4BqMgmF5cAuIwCkDEFKtG6EaGHSxBkWtTu5SA+TyCS\n",
       "aZdKDwDd9lVA/gDIIQfgModDvoD0s39kYN4AkkFywTtREM0WwMA/AUhfdgECBYgMkxzIpywTGPpB\n",
       "7hZC0sOboAjxTj7I3SzI/sk9BJK5wGgH4nNvQJIR4gYax/WACRI84XCZYwx8DzSArl6ZBxGQ0hCA\n",
       "hbUOg1I8cph1qkBCBwoAxe43BugJR6MAAAAASUVORK5CYII=\n",
       "\" style=\"display:inline;vertical-align:middle;\" /></a>, <a class=\"ProveItLink\" href=\"../__pv_it/demonstrations/d550e8309ef79ca46e4c9fb5617a392ea678789b0/expr.ipynb\"><img src=\"data:image/png;base64,iVBORw0KGgoAAAANSUhEUgAAADEAAAAQBAMAAABNQoq8AAAAMFBMVEX///8AAAAAAAAAAAAAAAAA\n",
       "AAAAAAAAAAAAAAAAAAAAAAAAAAAAAAAAAAAAAAAAAAAv3aB7AAAAD3RSTlMAiXZmMiLdVJm77xBE\n",
       "zatgdeJyAAAACXBIWXMAAA7EAAAOxAGVKw4bAAAAvUlEQVQY02NgQAe2K+dfW2nAgA1MiGM4Z7kB\n",
       "q0wgAyfLAxwyHAEXkEU009IuwGUmIEmc1Ubo4dsNNk1I2QFIst5GMs2zNgDICCvgAGnlDYDLRF37\n",
       "BtafyMClAJJBcoHxXhDN8RvC90oDggkQGc7NIJ9yQV2xE0kPS8NsIL1fAcJnQ/ZPSySQ5gdqPACk\n",
       "mRSQZHYyAUWBDmMEuZrhOlwmgoHZYA6QIWgM8eK+ORtgYT2VYeb9AqRAODgtDTm0ALktNaaWdOV1\n",
       "AAAAAElFTkSuQmCC\n",
       "\" style=\"display:inline;vertical-align:middle;\" /></a>, <a class=\"ProveItLink\" href=\"../__pv_it/demonstrations/41c3ad9f29c40b69fd61c49f41684c1b813e9e850/expr.ipynb\"><img src=\"data:image/png;base64,iVBORw0KGgoAAAANSUhEUgAAADMAAAAQBAMAAABJt1qBAAAAMFBMVEX///8AAAAAAAAAAAAAAAAA\n",
       "AAAAAAAAAAAAAAAAAAAAAAAAAAAAAAAAAAAAAAAAAAAv3aB7AAAAD3RSTlMAMs3vmVREEIndIqt2\n",
       "u2aBbGR5AAAACXBIWXMAAA7EAAAOxAGVKw4bAAAA3klEQVQY02NgwACPbO9r2j6AsBmVHVDkLqxm\n",
       "yH5bAGHzB6BKrWDgZdwAYecXoEuxLFCAsDsh1NmZMxXgUhcgYipgMuk4Qhd3OchArh0Hv4IEuNSR\n",
       "DJQNWgBkJC/g/Q4SYFoAl1qs+RNkArsdAwvYBiYkZ7wrAtEsHxg4G0AM4ZlAcAEixVsH8jLzBYb6\n",
       "BJBALZIuRofrQLr+AMN7sAAnsr8c14KkAhg2sYJcwHMASaqWB2gi7wHWKSxgEVW41BIGvgfXgC7c\n",
       "07j6IFik+loBLORvMdzVRwnXjJszFZC4AHM6StvnxMwUAAAAAElFTkSuQmCC\n",
       "\" style=\"display:inline;vertical-align:middle;\" /></a>, <a class=\"ProveItLink\" href=\"../__pv_it/demonstrations/9e47a6cd364dfd85d42bf620b65d4e5a21fa88910/expr.ipynb\"><img src=\"data:image/png;base64,iVBORw0KGgoAAAANSUhEUgAAADAAAAARBAMAAABp3DInAAAAMFBMVEX///8AAAAAAAAAAAAAAAAA\n",
       "AAAAAAAAAAAAAAAAAAAAAAAAAAAAAAAAAAAAAAAAAAAv3aB7AAAAD3RSTlMAIquJdkTvuxBmmd1U\n",
       "zTKBpmoTAAAACXBIWXMAAA7EAAAOxAGVKw4bAAAAsElEQVQY02NgwALas5F5vRMQ7FvIEhzWDnD2\n",
       "H1QTvC2gDNYfaGbPhsowbwCRjMqOcDPOLgRTvCpOBxgYwgTYETpjNUBk/w2OjwwcmQxcGxASFSDy\n",
       "fANDCgPXBwZuA7hRimBqLQPDZwa2Aob+AJjlKyD0ZgbWPwz9Dgzz0Z37h4HrB0P/AQZdHgFUD/5j\n",
       "aJvAwO7As4sLLUg0GaqAClXshPzQPNpkNYGBEtC9GwT2wbgAz2wsvL0X6QAAAAAASUVORK5CYII=\n",
       "\" style=\"display:inline;vertical-align:middle;\" /></a>, <a class=\"ProveItLink\" href=\"../__pv_it/demonstrations/22aa7d854d91d09c163fd686a70a7a5bda1a77db0/expr.ipynb\"><img src=\"data:image/png;base64,iVBORw0KGgoAAAANSUhEUgAAADAAAAAOBAMAAACbXIJpAAAAMFBMVEX///8AAAAAAAAAAAAAAAAA\n",
       "AAAAAAAAAAAAAAAAAAAAAAAAAAAAAAAAAAAAAAAAAAAv3aB7AAAAD3RSTlMAiXZmMiLdVJm77xBE\n",
       "zatgdeJyAAAACXBIWXMAAA7EAAAOxAGVKw4bAAAAmklEQVQY02NgIAT2GuCQ4BZTQBcSUnYA02rS\n",
       "MJE4oSAgGVbAMQHCN+uG0DxLGeZvYGBIZOCCGVLbCqZ2GTC0MTBw/EYy9exrENkPUs3ANQFZYjaI\n",
       "XMnA/YeBYT+SY2qfgt33iYH5AwMDP9D9B6CWQ6zg/s7Ad6GUAegkRjTnTmIoa2hgYBA01garU4Ob\n",
       "uU/R9ZED3PxtBgzEAQDxNCBuHQFnjgAAAABJRU5ErkJggg==\n",
       "\" style=\"display:inline;vertical-align:middle;\" /></a>, <a class=\"ProveItLink\" href=\"../__pv_it/demonstrations/ac5f396a8c72c20cf32342c883fcb3d3f7e3c28b0/expr.ipynb\"><img src=\"data:image/png;base64,iVBORw0KGgoAAAANSUhEUgAAAC8AAAAQBAMAAAB0JTvnAAAAMFBMVEX///8AAAAAAAAAAAAAAAAA\n",
       "AAAAAAAAAAAAAAAAAAAAAAAAAAAAAAAAAAAAAAAAAAAv3aB7AAAAD3RSTlMAMs3vmVREEIndIqt2\n",
       "u2aBbGR5AAAACXBIWXMAAA7EAAAOxAGVKw4bAAAAv0lEQVQY02NgYGBgVHZgQAbslydAWfwBKBIM\n",
       "TDCF+QWoEnCFnXAhVi0UhSowcb4pBQiFXDsOfoWK88yAKNU+sxVIJi/g/Q4Rr5gDddWngvoFDOx2\n",
       "DCwKYP6SeTCLvjMwH2Bg+cDA2QDicqvCbAIq5G9gYL7AUJ+AKgFUmB/AUH+A4T0DqlFAb/gXMNQH\n",
       "MGxiXYBiOb8A0GIG3gOsU1igSmvmgJ3L/YAXGCbsexpXH4R7EOwR9h1+DOiAT4uBEAAAD2UsNOeM\n",
       "7YYAAAAASUVORK5CYII=\n",
       "\" style=\"display:inline;vertical-align:middle;\" /></a> <a class=\"ProveItLink\" href=\"../__pv_it/demonstrations/7cfbd6c2f9a81f089385c49214c0504e5651711e0/proof.ipynb\" style=\"text-decoration: none\">&nbsp;&#x22A2;&nbsp;&nbsp;</a><a class=\"ProveItLink\" href=\"../__pv_it/demonstrations/9070d87647989b246de9cae92c41d35b8378f7b20/expr.ipynb\"><img src=\"data:image/png;base64,iVBORw0KGgoAAAANSUhEUgAAAKQAAAAVBAMAAAA6DViiAAAAMFBMVEX///8AAAAAAAAAAAAAAAAA\n",
       "AAAAAAAAAAAAAAAAAAAAAAAAAAAAAAAAAAAAAAAAAAAv3aB7AAAAD3RSTlMAIqvd77tmEHbNmTJE\n",
       "VIk1oG/QAAAACXBIWXMAAA7EAAAOxAGVKw4bAAACZ0lEQVQ4y5WVP2gTcRTHv2lyd/Fydz1aujk4\n",
       "iQ7GUhGxUJtFcRBygoObN4no4A0K2e7qYAPVNhStog5BsaNGXR2CODjZCII4KMGKCoXSijQaLfp+\n",
       "v99dSX+5I+ZBct/83nuf35/37hcgyWz0tP8I6bRso3fMq/jhockCexTHpCk/dmjt1Gh3Yu5GNevG\n",
       "M0c26EvdLxG1SuevHdWYxMEGbsUjS4fZNh9720d1V8rutiUP5xOQc7TA5zIyI2d32zJFefFIn3YV\n",
       "yMj3cna33aEDiT/M0gDVxyWkWl711DMbxo+7NPqIPqn8VCBi5sv7wuhvV2v8mcrPbALWLplmlS8Q\n",
       "0tiE6RHyra1XYLVwj7kW6PPSVlqiVr88X5RvuKE7XAifyov44ACzMT7TBB4SEgeRBUca68BNlS9j\n",
       "gkDHoIvmMVvIiPUeCQXzEc4sSItMN3GcIefsnQwJ7TUhL+3mvhNU9DUWwctfwSBXeitqCOHLrUlI\n",
       "UZIS/GbAtHb/AyHNPxEy48CvR3Mv8TbKOFFDCJ8hr/KoKA+Ugss3Xs8RUv/shRv3A1zcaksxvR+W\n",
       "K/KZo9vPUvsZIo3vHktpw1h/gq8KP/LTlNbAXtPWGLJGZ8cFNU2dCeGD6kirpDfRAF7w5dIL2Ub2\n",
       "9xsr0NrM9wlQAnNch08zDLhKlQsqt1VjQvigNyUklXsFI8UFXMOV4rz99Pr08uxkRf17m3zPaBd7\n",
       "VoZmkD5EKr8ILrB6dlqMcB/Sdbktv5zzku6tdC1S75IFhvu5LtWtu6eZLLDY1xV8MrrlgkSBlNMX\n",
       "8nJ0uyNRQOnvnyIV9I6Zih39B1JXq3cM5A8aAAAAAElFTkSuQmCC\n",
       "\" style=\"display:inline;vertical-align:middle;\" /></a></span><br>"
      ],
      "text/plain": [
       "<IPython.core.display.HTML object>"
      ]
     },
     "metadata": {},
     "output_type": "display_data"
    }
   ],
   "source": [
    "max_multi_test_01 = max_multi_test.definition(assumptions=temp_max_assumptions)"
   ]
  },
  {
   "cell_type": "code",
   "execution_count": 39,
   "metadata": {},
   "outputs": [
    {
     "data": {
      "text/html": [
       "<strong id=\"max_multi_test_02\">max_multi_test_02:</strong> <span style=\"font-size:20px;\"><a class=\"ProveItLink\" href=\"../__pv_it/theorems/4aa8d696b1f407d6126de9f51a052e8d90e0848c0/expr.ipynb\"><img src=\"data:image/png;base64,iVBORw0KGgoAAAANSUhEUgAAADMAAAAQBAMAAABJt1qBAAAAMFBMVEX///8AAAAAAAAAAAAAAAAA\n",
       "AAAAAAAAAAAAAAAAAAAAAAAAAAAAAAAAAAAAAAAAAAAv3aB7AAAAD3RSTlMAIquJdkTvuxBmmd1U\n",
       "zTKBpmoTAAAACXBIWXMAAA7EAAAOxAGVKw4bAAAAzElEQVQY02NgwABz0+tvp09gwAoKhBiCpjdg\n",
       "lxJmYOdTwCXFJXABRch99+4LcKkCZJlYD4Qupg6QgYzKjg4gAcYbSAY+PysAZIQJsP8ACfAKwKXE\n",
       "bv8GmcCRycC1ASyF5IyZvSCa6wMDtwGI8Ww3EBRApNg7QV5mK2DoDwAJtCPp4ltQAaT7HRjmgwW4\n",
       "kf21ThwkdYBBlwfkAhYHJKl2FqCJ7A48u7jAInfgUlIMnBNKgS5UsRPyA4s0lTbAQr6Qofz+AeTg\n",
       "CK7ejRxyAISENKeL/c93AAAAAElFTkSuQmCC\n",
       "\" style=\"display:inline;vertical-align:middle;\" /></a>, <a class=\"ProveItLink\" href=\"../__pv_it/theorems/6e5cad5b2984ed0d75bd47bd0c542ec447a4f3570/expr.ipynb\"><img src=\"data:image/png;base64,iVBORw0KGgoAAAANSUhEUgAAADEAAAAQBAMAAABNQoq8AAAAMFBMVEX///8AAAAAAAAAAAAAAAAA\n",
       "AAAAAAAAAAAAAAAAAAAAAAAAAAAAAAAAAAAAAAAAAAAv3aB7AAAAD3RSTlMAELvv3c2ZVESJq3Yi\n",
       "MmZ3LnoBAAAACXBIWXMAAA7EAAAOxAGVKw4bAAAA1ElEQVQY02NgQAdPjfRDjB4AGYzKDmhSCqcY\n",
       "uh4JABmsCegyJxmYeBcAGfwFmDJsBwKAjH4BqMgmF5cAuIwCkDEFKtG6EaGHSxBkWtTu5SA+TyCS\n",
       "aZdKDwDd9lVA/gDIIQfgModDvoD0s39kYN4AkkFywTtREM0WwMA/AUhfdgECBYgMkxzIpywTGPpB\n",
       "7hZC0sOboAjxTj7I3SzI/sk9BJK5wGgH4nNvQJIR4gYax/WACRI84XCZYwx8DzSArl6ZBxGQ0hCA\n",
       "hbUOg1I8cph1qkBCBwoAxe43BugJR6MAAAAASUVORK5CYII=\n",
       "\" style=\"display:inline;vertical-align:middle;\" /></a>, <a class=\"ProveItLink\" href=\"../__pv_it/demonstrations/d550e8309ef79ca46e4c9fb5617a392ea678789b0/expr.ipynb\"><img src=\"data:image/png;base64,iVBORw0KGgoAAAANSUhEUgAAADEAAAAQBAMAAABNQoq8AAAAMFBMVEX///8AAAAAAAAAAAAAAAAA\n",
       "AAAAAAAAAAAAAAAAAAAAAAAAAAAAAAAAAAAAAAAAAAAv3aB7AAAAD3RSTlMAiXZmMiLdVJm77xBE\n",
       "zatgdeJyAAAACXBIWXMAAA7EAAAOxAGVKw4bAAAAvUlEQVQY02NgQAe2K+dfW2nAgA1MiGM4Z7kB\n",
       "q0wgAyfLAxwyHAEXkEU009IuwGUmIEmc1Ubo4dsNNk1I2QFIst5GMs2zNgDICCvgAGnlDYDLRF37\n",
       "BtafyMClAJJBcoHxXhDN8RvC90oDggkQGc7NIJ9yQV2xE0kPS8NsIL1fAcJnQ/ZPSySQ5gdqPACk\n",
       "mRSQZHYyAUWBDmMEuZrhOlwmgoHZYA6QIWgM8eK+ORtgYT2VYeb9AqRAODgtDTm0ALktNaaWdOV1\n",
       "AAAAAElFTkSuQmCC\n",
       "\" style=\"display:inline;vertical-align:middle;\" /></a>, <a class=\"ProveItLink\" href=\"../__pv_it/demonstrations/41c3ad9f29c40b69fd61c49f41684c1b813e9e850/expr.ipynb\"><img src=\"data:image/png;base64,iVBORw0KGgoAAAANSUhEUgAAADMAAAAQBAMAAABJt1qBAAAAMFBMVEX///8AAAAAAAAAAAAAAAAA\n",
       "AAAAAAAAAAAAAAAAAAAAAAAAAAAAAAAAAAAAAAAAAAAv3aB7AAAAD3RSTlMAMs3vmVREEIndIqt2\n",
       "u2aBbGR5AAAACXBIWXMAAA7EAAAOxAGVKw4bAAAA3klEQVQY02NgwACPbO9r2j6AsBmVHVDkLqxm\n",
       "yH5bAGHzB6BKrWDgZdwAYecXoEuxLFCAsDsh1NmZMxXgUhcgYipgMuk4Qhd3OchArh0Hv4IEuNSR\n",
       "DJQNWgBkJC/g/Q4SYFoAl1qs+RNkArsdAwvYBiYkZ7wrAtEsHxg4G0AM4ZlAcAEixVsH8jLzBYb6\n",
       "BJBALZIuRofrQLr+AMN7sAAnsr8c14KkAhg2sYJcwHMASaqWB2gi7wHWKSxgEVW41BIGvgfXgC7c\n",
       "07j6IFik+loBLORvMdzVRwnXjJszFZC4AHM6StvnxMwUAAAAAElFTkSuQmCC\n",
       "\" style=\"display:inline;vertical-align:middle;\" /></a> <a class=\"ProveItLink\" href=\"../__pv_it/demonstrations/fd7d400025877883cbed53ce8adacbecb6815f0b0/proof.ipynb\" style=\"text-decoration: none\">&nbsp;&#x22A2;&nbsp;&nbsp;</a><a class=\"ProveItLink\" href=\"../__pv_it/demonstrations/642717577c9a187185beb89808aaa2ea1139450b0/expr.ipynb\"><img src=\"data:image/png;base64,iVBORw0KGgoAAAANSUhEUgAAAVgAAAAVBAMAAADx8+t1AAAAMFBMVEX///8AAAAAAAAAAAAAAAAA\n",
       "AAAAAAAAAAAAAAAAAAAAAAAAAAAAAAAAAAAAAAAAAAAv3aB7AAAAD3RSTlMAIqvd77tmEHbNmTJE\n",
       "VIk1oG/QAAAACXBIWXMAAA7EAAAOxAGVKw4bAAAEdElEQVRIx5VXXWgcVRQ+m92dO9mdmQwpgYI+\n",
       "tFhqfGhcWsTf2lSpVSlkhTy0vmQRKv156FBaWEXcaYUmWJssRVtRHxaLgi/tVp8EJYP0QXzobkmh\n",
       "+qBZmmKDhTbR0ripaT3n3pnNzJ3M7OZANt+535l7v3vOmTszAFFmQlvrIMS1xOqZRMdTAKj19hJ+\n",
       "7ljsqdUzmh32e7cNEhzaLKXpDx9mw7nwZNmPK2pB3v1jd+lf6p/1wXG9Ec34nKMv+6kTfuf717nf\n",
       "dw9/lCclrazs97orK2y9pw5nQ7UbIf1vzUvD78QxPvsssKjl95a4X3yWin7BCk6SKUi6wlaz4IA8\n",
       "xj6gTX64IA1/HccEFPlM8WdIW+B+cQKT+oMsNiXrCtsMRsnjbAxTl/1FljQYxwQU+W2nDxs57hdL\n",
       "qNiWxf4m6wob1qxbblo2uohlykiS9HIcE1TkszNSI6Jf7MLdFVCsMnbbUkbuaXc/R/I8NeDAMfeO\n",
       "PD22yb1o9kRVNOfASayZsU4Wa2/A+pGkfeM3Ye/DQu01jM804hjonV3rKuo/7vabMXYQ4Hpr2t7Z\n",
       "yTr3i9oS6BaKvWpmymAswBferi6ZaZEI1rRK4gZcU8/kORCcwhNzbgvZZiG2VodrKEnfDt8A3LG6\n",
       "HRAFiGa07TAi6lo6y8QNmNgKXwHsb7WHiEC/CE+BClyshqGfKDx1W3H6VyAj6qIvQErk+EUXEIdC\n",
       "9cFQZpN5sIWkmgnd+YM0mqzHMUcKcE5cPW3BqxwkGwSuerNiBO6P/CJMmI+SWGCXUeyRjZzfhSWa\n",
       "o4v40VCGHo5aLedy2bmQWHU+4fCw9+6YwF7iTZ1y4pgLlANuqOgBB+IOmvRmdSMmSWypYRPNvvwd\n",
       "xer/eWJTeSg53kZrvJlSee+wEJwWzix7oPI9vbtpGjtn2lkWG8XsACbWREWaOLx2iFbzZnUjLpHY\n",
       "9GCBt4GTRbGZG5bbBiUbDrWOWbHXkvcIdDk9F+pZGFZIkr4LJlHS+Z3LbRDBsH9BmfOOWVE6HCKb\n",
       "8jLgRkyRWO1vi8QsgjZ/EW6m+U2zGwXV4QndZCS2ij3KAdbOISA4UPKhzELtcVqypwK1R0zD2kOj\n",
       "aTuGYUvQVb4ClIz71J0E8KGqAeylCelPRJD/E886Pm4XQb1/xbDZIs1ynSbSn8tACbV3FdIVDvAo\n",
       "MKoEBCdOnsCxvo46pGueJE38aM4CHeL8hItmdsNUpcKa6G2EN4EDPApuieOTFhMR5PcNnYGP4PjQ\n",
       "afPbU6Mz49vKysNPkf8ON9R/q/ckJJ9GNIBPRQJw++1RMcI5SDrSq8Fws6A66obm+mz/r+8/M9OE\n",
       "Q03MajYXw8Dh8Yv9VdiCGT38F1aOgPHnPvx9AdxVRQT3V7Rk1UPXogGs6fAN8fn2jG7JIJELLpbI\n",
       "RU2y/BbRiAbSa0i0HWjPGCEg3qUaEe9WAXtj+ZaJApDIdyg2bbZliiCDvuBiwl/ZjnpfDBAJYjTI\n",
       "h0S+LdMSZQfSpYbTt9InkN1ew7GOP2vWrp5RzZD/Pxb0mAy5JUORAAAAAElFTkSuQmCC\n",
       "\" style=\"display:inline;vertical-align:middle;\" /></a></span><br>"
      ],
      "text/plain": [
       "<IPython.core.display.HTML object>"
      ]
     },
     "metadata": {},
     "output_type": "display_data"
    }
   ],
   "source": [
    "# And to see an intermediate step that was already simplified above,\n",
    "# try the same without auto_simplify:\n",
    "max_multi_test_02 = max_multi_test.definition(\n",
    "    assumptions=temp_max_assumptions, auto_simplify=False)"
   ]
  },
  {
   "cell_type": "code",
   "execution_count": 40,
   "metadata": {},
   "outputs": [
    {
     "data": {
      "text/html": [
       "<span style=\"font-size:20px;\"><a class=\"ProveItLink\" href=\"../__pv_it/theorems/4aa8d696b1f407d6126de9f51a052e8d90e0848c0/expr.ipynb\"><img src=\"data:image/png;base64,iVBORw0KGgoAAAANSUhEUgAAADMAAAAQBAMAAABJt1qBAAAAMFBMVEX///8AAAAAAAAAAAAAAAAA\n",
       "AAAAAAAAAAAAAAAAAAAAAAAAAAAAAAAAAAAAAAAAAAAv3aB7AAAAD3RSTlMAIquJdkTvuxBmmd1U\n",
       "zTKBpmoTAAAACXBIWXMAAA7EAAAOxAGVKw4bAAAAzElEQVQY02NgwABz0+tvp09gwAoKhBiCpjdg\n",
       "lxJmYOdTwCXFJXABRch99+4LcKkCZJlYD4Qupg6QgYzKjg4gAcYbSAY+PysAZIQJsP8ACfAKwKXE\n",
       "bv8GmcCRycC1ASyF5IyZvSCa6wMDtwGI8Ww3EBRApNg7QV5mK2DoDwAJtCPp4ltQAaT7HRjmgwW4\n",
       "kf21ThwkdYBBlwfkAhYHJKl2FqCJ7A48u7jAInfgUlIMnBNKgS5UsRPyA4s0lTbAQr6Qofz+AeTg\n",
       "CK7ejRxyAISENKeL/c93AAAAAElFTkSuQmCC\n",
       "\" style=\"display:inline;vertical-align:middle;\" /></a>, <a class=\"ProveItLink\" href=\"../__pv_it/theorems/6e5cad5b2984ed0d75bd47bd0c542ec447a4f3570/expr.ipynb\"><img src=\"data:image/png;base64,iVBORw0KGgoAAAANSUhEUgAAADEAAAAQBAMAAABNQoq8AAAAMFBMVEX///8AAAAAAAAAAAAAAAAA\n",
       "AAAAAAAAAAAAAAAAAAAAAAAAAAAAAAAAAAAAAAAAAAAv3aB7AAAAD3RSTlMAELvv3c2ZVESJq3Yi\n",
       "MmZ3LnoBAAAACXBIWXMAAA7EAAAOxAGVKw4bAAAA1ElEQVQY02NgQAdPjfRDjB4AGYzKDmhSCqcY\n",
       "uh4JABmsCegyJxmYeBcAGfwFmDJsBwKAjH4BqMgmF5cAuIwCkDEFKtG6EaGHSxBkWtTu5SA+TyCS\n",
       "aZdKDwDd9lVA/gDIIQfgModDvoD0s39kYN4AkkFywTtREM0WwMA/AUhfdgECBYgMkxzIpywTGPpB\n",
       "7hZC0sOboAjxTj7I3SzI/sk9BJK5wGgH4nNvQJIR4gYax/WACRI84XCZYwx8DzSArl6ZBxGQ0hCA\n",
       "hbUOg1I8cph1qkBCBwoAxe43BugJR6MAAAAASUVORK5CYII=\n",
       "\" style=\"display:inline;vertical-align:middle;\" /></a>, <a class=\"ProveItLink\" href=\"../__pv_it/demonstrations/d550e8309ef79ca46e4c9fb5617a392ea678789b0/expr.ipynb\"><img src=\"data:image/png;base64,iVBORw0KGgoAAAANSUhEUgAAADEAAAAQBAMAAABNQoq8AAAAMFBMVEX///8AAAAAAAAAAAAAAAAA\n",
       "AAAAAAAAAAAAAAAAAAAAAAAAAAAAAAAAAAAAAAAAAAAv3aB7AAAAD3RSTlMAiXZmMiLdVJm77xBE\n",
       "zatgdeJyAAAACXBIWXMAAA7EAAAOxAGVKw4bAAAAvUlEQVQY02NgQAe2K+dfW2nAgA1MiGM4Z7kB\n",
       "q0wgAyfLAxwyHAEXkEU009IuwGUmIEmc1Ubo4dsNNk1I2QFIst5GMs2zNgDICCvgAGnlDYDLRF37\n",
       "BtafyMClAJJBcoHxXhDN8RvC90oDggkQGc7NIJ9yQV2xE0kPS8NsIL1fAcJnQ/ZPSySQ5gdqPACk\n",
       "mRSQZHYyAUWBDmMEuZrhOlwmgoHZYA6QIWgM8eK+ORtgYT2VYeb9AqRAODgtDTm0ALktNaaWdOV1\n",
       "AAAAAElFTkSuQmCC\n",
       "\" style=\"display:inline;vertical-align:middle;\" /></a>, <a class=\"ProveItLink\" href=\"../__pv_it/demonstrations/41c3ad9f29c40b69fd61c49f41684c1b813e9e850/expr.ipynb\"><img src=\"data:image/png;base64,iVBORw0KGgoAAAANSUhEUgAAADMAAAAQBAMAAABJt1qBAAAAMFBMVEX///8AAAAAAAAAAAAAAAAA\n",
       "AAAAAAAAAAAAAAAAAAAAAAAAAAAAAAAAAAAAAAAAAAAv3aB7AAAAD3RSTlMAMs3vmVREEIndIqt2\n",
       "u2aBbGR5AAAACXBIWXMAAA7EAAAOxAGVKw4bAAAA3klEQVQY02NgwACPbO9r2j6AsBmVHVDkLqxm\n",
       "yH5bAGHzB6BKrWDgZdwAYecXoEuxLFCAsDsh1NmZMxXgUhcgYipgMuk4Qhd3OchArh0Hv4IEuNSR\n",
       "DJQNWgBkJC/g/Q4SYFoAl1qs+RNkArsdAwvYBiYkZ7wrAtEsHxg4G0AM4ZlAcAEixVsH8jLzBYb6\n",
       "BJBALZIuRofrQLr+AMN7sAAnsr8c14KkAhg2sYJcwHMASaqWB2gi7wHWKSxgEVW41BIGvgfXgC7c\n",
       "07j6IFik+loBLORvMdzVRwnXjJszFZC4AHM6StvnxMwUAAAAAElFTkSuQmCC\n",
       "\" style=\"display:inline;vertical-align:middle;\" /></a>, <a class=\"ProveItLink\" href=\"../__pv_it/demonstrations/9e47a6cd364dfd85d42bf620b65d4e5a21fa88910/expr.ipynb\"><img src=\"data:image/png;base64,iVBORw0KGgoAAAANSUhEUgAAADAAAAARBAMAAABp3DInAAAAMFBMVEX///8AAAAAAAAAAAAAAAAA\n",
       "AAAAAAAAAAAAAAAAAAAAAAAAAAAAAAAAAAAAAAAAAAAv3aB7AAAAD3RSTlMAIquJdkTvuxBmmd1U\n",
       "zTKBpmoTAAAACXBIWXMAAA7EAAAOxAGVKw4bAAAAsElEQVQY02NgwALas5F5vRMQ7FvIEhzWDnD2\n",
       "H1QTvC2gDNYfaGbPhsowbwCRjMqOcDPOLgRTvCpOBxgYwgTYETpjNUBk/w2OjwwcmQxcGxASFSDy\n",
       "fANDCgPXBwZuA7hRimBqLQPDZwa2Aob+AJjlKyD0ZgbWPwz9Dgzz0Z37h4HrB0P/AQZdHgFUD/5j\n",
       "aJvAwO7As4sLLUg0GaqAClXshPzQPNpkNYGBEtC9GwT2wbgAz2wsvL0X6QAAAAAASUVORK5CYII=\n",
       "\" style=\"display:inline;vertical-align:middle;\" /></a>, <a class=\"ProveItLink\" href=\"../__pv_it/demonstrations/22aa7d854d91d09c163fd686a70a7a5bda1a77db0/expr.ipynb\"><img src=\"data:image/png;base64,iVBORw0KGgoAAAANSUhEUgAAADAAAAAOBAMAAACbXIJpAAAAMFBMVEX///8AAAAAAAAAAAAAAAAA\n",
       "AAAAAAAAAAAAAAAAAAAAAAAAAAAAAAAAAAAAAAAAAAAv3aB7AAAAD3RSTlMAiXZmMiLdVJm77xBE\n",
       "zatgdeJyAAAACXBIWXMAAA7EAAAOxAGVKw4bAAAAmklEQVQY02NgIAT2GuCQ4BZTQBcSUnYA02rS\n",
       "MJE4oSAgGVbAMQHCN+uG0DxLGeZvYGBIZOCCGVLbCqZ2GTC0MTBw/EYy9exrENkPUs3ANQFZYjaI\n",
       "XMnA/YeBYT+SY2qfgt33iYH5AwMDP9D9B6CWQ6zg/s7Ad6GUAegkRjTnTmIoa2hgYBA01garU4Ob\n",
       "uU/R9ZED3PxtBgzEAQDxNCBuHQFnjgAAAABJRU5ErkJggg==\n",
       "\" style=\"display:inline;vertical-align:middle;\" /></a>, <a class=\"ProveItLink\" href=\"../__pv_it/demonstrations/ac5f396a8c72c20cf32342c883fcb3d3f7e3c28b0/expr.ipynb\"><img src=\"data:image/png;base64,iVBORw0KGgoAAAANSUhEUgAAAC8AAAAQBAMAAAB0JTvnAAAAMFBMVEX///8AAAAAAAAAAAAAAAAA\n",
       "AAAAAAAAAAAAAAAAAAAAAAAAAAAAAAAAAAAAAAAAAAAv3aB7AAAAD3RSTlMAMs3vmVREEIndIqt2\n",
       "u2aBbGR5AAAACXBIWXMAAA7EAAAOxAGVKw4bAAAAv0lEQVQY02NgYGBgVHZgQAbslydAWfwBKBIM\n",
       "TDCF+QWoEnCFnXAhVi0UhSowcb4pBQiFXDsOfoWK88yAKNU+sxVIJi/g/Q4Rr5gDddWngvoFDOx2\n",
       "DCwKYP6SeTCLvjMwH2Bg+cDA2QDicqvCbAIq5G9gYL7AUJ+AKgFUmB/AUH+A4T0DqlFAb/gXMNQH\n",
       "MGxiXYBiOb8A0GIG3gOsU1igSmvmgJ3L/YAXGCbsexpXH4R7EOwR9h1+DOiAT4uBEAAAD2UsNOeM\n",
       "7YYAAAAASUVORK5CYII=\n",
       "\" style=\"display:inline;vertical-align:middle;\" /></a> <a class=\"ProveItLink\" href=\"../__pv_it/demonstrations/7cfbd6c2f9a81f089385c49214c0504e5651711e0/proof.ipynb\" style=\"text-decoration: none\">&nbsp;&#x22A2;&nbsp;&nbsp;</a><a class=\"ProveItLink\" href=\"../__pv_it/demonstrations/9070d87647989b246de9cae92c41d35b8378f7b20/expr.ipynb\"><img src=\"data:image/png;base64,iVBORw0KGgoAAAANSUhEUgAAAKQAAAAVBAMAAAA6DViiAAAAMFBMVEX///8AAAAAAAAAAAAAAAAA\n",
       "AAAAAAAAAAAAAAAAAAAAAAAAAAAAAAAAAAAAAAAAAAAv3aB7AAAAD3RSTlMAIqvd77tmEHbNmTJE\n",
       "VIk1oG/QAAAACXBIWXMAAA7EAAAOxAGVKw4bAAACZ0lEQVQ4y5WVP2gTcRTHv2lyd/Fydz1aujk4\n",
       "iQ7GUhGxUJtFcRBygoObN4no4A0K2e7qYAPVNhStog5BsaNGXR2CODjZCII4KMGKCoXSijQaLfp+\n",
       "v99dSX+5I+ZBct/83nuf35/37hcgyWz0tP8I6bRso3fMq/jhockCexTHpCk/dmjt1Gh3Yu5GNevG\n",
       "M0c26EvdLxG1SuevHdWYxMEGbsUjS4fZNh9720d1V8rutiUP5xOQc7TA5zIyI2d32zJFefFIn3YV\n",
       "yMj3cna33aEDiT/M0gDVxyWkWl711DMbxo+7NPqIPqn8VCBi5sv7wuhvV2v8mcrPbALWLplmlS8Q\n",
       "0tiE6RHyra1XYLVwj7kW6PPSVlqiVr88X5RvuKE7XAifyov44ACzMT7TBB4SEgeRBUca68BNlS9j\n",
       "gkDHoIvmMVvIiPUeCQXzEc4sSItMN3GcIefsnQwJ7TUhL+3mvhNU9DUWwctfwSBXeitqCOHLrUlI\n",
       "UZIS/GbAtHb/AyHNPxEy48CvR3Mv8TbKOFFDCJ8hr/KoKA+Ugss3Xs8RUv/shRv3A1zcaksxvR+W\n",
       "K/KZo9vPUvsZIo3vHktpw1h/gq8KP/LTlNbAXtPWGLJGZ8cFNU2dCeGD6kirpDfRAF7w5dIL2Ub2\n",
       "9xsr0NrM9wlQAnNch08zDLhKlQsqt1VjQvigNyUklXsFI8UFXMOV4rz99Pr08uxkRf17m3zPaBd7\n",
       "VoZmkD5EKr8ILrB6dlqMcB/Sdbktv5zzku6tdC1S75IFhvu5LtWtu6eZLLDY1xV8MrrlgkSBlNMX\n",
       "8nJ0uyNRQOnvnyIV9I6Zih39B1JXq3cM5A8aAAAAAElFTkSuQmCC\n",
       "\" style=\"display:inline;vertical-align:middle;\" /></a></span>"
      ],
      "text/plain": [
       "{a in Real, b in Real, c in Real, d in Real, a >= b, c > a, d < b} |- Max(a, b, c, d) = c"
      ]
     },
     "metadata": {},
     "output_type": "display_data"
    }
   ],
   "source": [
    "max_multi_test_01.lhs.simplification(assumptions=temp_max_assumptions)"
   ]
  },
  {
   "cell_type": "code",
   "execution_count": 41,
   "metadata": {},
   "outputs": [
    {
     "data": {
      "text/html": [
       "<span style=\"font-size:20px;\"><a class=\"ProveItLink\" href=\"../__pv_it/theorems/4aa8d696b1f407d6126de9f51a052e8d90e0848c0/expr.ipynb\"><img src=\"data:image/png;base64,iVBORw0KGgoAAAANSUhEUgAAADMAAAAQBAMAAABJt1qBAAAAMFBMVEX///8AAAAAAAAAAAAAAAAA\n",
       "AAAAAAAAAAAAAAAAAAAAAAAAAAAAAAAAAAAAAAAAAAAv3aB7AAAAD3RSTlMAIquJdkTvuxBmmd1U\n",
       "zTKBpmoTAAAACXBIWXMAAA7EAAAOxAGVKw4bAAAAzElEQVQY02NgwABz0+tvp09gwAoKhBiCpjdg\n",
       "lxJmYOdTwCXFJXABRch99+4LcKkCZJlYD4Qupg6QgYzKjg4gAcYbSAY+PysAZIQJsP8ACfAKwKXE\n",
       "bv8GmcCRycC1ASyF5IyZvSCa6wMDtwGI8Ww3EBRApNg7QV5mK2DoDwAJtCPp4ltQAaT7HRjmgwW4\n",
       "kf21ThwkdYBBlwfkAhYHJKl2FqCJ7A48u7jAInfgUlIMnBNKgS5UsRPyA4s0lTbAQr6Qofz+AeTg\n",
       "CK7ejRxyAISENKeL/c93AAAAAElFTkSuQmCC\n",
       "\" style=\"display:inline;vertical-align:middle;\" /></a> <a class=\"ProveItLink\" href=\"../__pv_it/demonstrations/1acc0630d19ce313112626821fdf64afff2f96ce0/proof.ipynb\" style=\"text-decoration: none\">&nbsp;&#x22A2;&nbsp;&nbsp;</a><a class=\"ProveItLink\" href=\"../__pv_it/demonstrations/b22410e9f0be6a8c233c76b45a0a330d8b9855090/expr.ipynb\"><img src=\"data:image/png;base64,iVBORw0KGgoAAAANSUhEUgAAAG4AAAAVBAMAAABVkMbKAAAAMFBMVEX///8AAAAAAAAAAAAAAAAA\n",
       "AAAAAAAAAAAAAAAAAAAAAAAAAAAAAAAAAAAAAAAAAAAv3aB7AAAAD3RSTlMAIqvd77tmEHbNmTJE\n",
       "VIk1oG/QAAAACXBIWXMAAA7EAAAOxAGVKw4bAAABx0lEQVQ4y5WUP0jDQBTGv1qT1JiUoBQcHJxE\n",
       "F5WKg4K2DjoJrZubnV0MotCtqYuC/4LgH9ChWHC0ra4ORRycRNHFQSkqKAhSRVSqou9iW+lpwB5c\n",
       "3uM+fvfefdwFsBtaSfj3cB19xwMbvcbnZyHg5Ta+KPAhG9DzTB+xlcMks5Ct2HDhTrZrQi9dlYtl\n",
       "Ruy4BSq1y3OVP5luw0VigMFzZ8WsyuaA4QoyJkScOH2vi8PPytMarW7RdLREDcDd8MvK2zrGKR9Q\n",
       "deJONdmE+wXrTFumua8JL2SZ5VC8nQ0vS5VeDFN3YXTABYtTHoAlMcnEbrK0H3IboPq5cuMhxFk9\n",
       "LGj1jIN0SNx4oyUOkKVZODNAdZbjEkCPxUUyBuOkjXPi1PcCVxlEJE1t8fX6IL1bnOAPWX2mq4mT\n",
       "r/V8nxEDo5SpbaXnk14hZi1OedQZl4PykMKNYPkwRNwRmlUNYpC7SR+oMI+BPVYZdM9ycL0duw0p\n",
       "x9RLQDDULpkayHB9DuEkFoMnsIxZTAYWte25qat5nyl+rpK4Qxs33dXMAM40x43Np5qSds/IWVRq\n",
       "y3p+YqyQbZb3bgfz0REsj5vIR6HMH4XD+I7Rv+Uvblx3OiN/tkIAAAAASUVORK5CYII=\n",
       "\" style=\"display:inline;vertical-align:middle;\" /></a></span>"
      ],
      "text/plain": [
       "{a in Real} |- Max(a) = a"
      ]
     },
     "metadata": {},
     "output_type": "display_data"
    }
   ],
   "source": [
    "# As long as we know the arg is Real, Max(arg) = arg.\n",
    "Max(a).definition(assumptions=temp_max_assumptions)"
   ]
  },
  {
   "cell_type": "code",
   "execution_count": 42,
   "metadata": {},
   "outputs": [
    {
     "data": {
      "text/html": [
       "<span style=\"font-size:20px;\"><a class=\"ProveItLink\" href=\"../__pv_it/theorems/4aa8d696b1f407d6126de9f51a052e8d90e0848c0/expr.ipynb\"><img src=\"data:image/png;base64,iVBORw0KGgoAAAANSUhEUgAAADMAAAAQBAMAAABJt1qBAAAAMFBMVEX///8AAAAAAAAAAAAAAAAA\n",
       "AAAAAAAAAAAAAAAAAAAAAAAAAAAAAAAAAAAAAAAAAAAv3aB7AAAAD3RSTlMAIquJdkTvuxBmmd1U\n",
       "zTKBpmoTAAAACXBIWXMAAA7EAAAOxAGVKw4bAAAAzElEQVQY02NgwABz0+tvp09gwAoKhBiCpjdg\n",
       "lxJmYOdTwCXFJXABRch99+4LcKkCZJlYD4Qupg6QgYzKjg4gAcYbSAY+PysAZIQJsP8ACfAKwKXE\n",
       "bv8GmcCRycC1ASyF5IyZvSCa6wMDtwGI8Ww3EBRApNg7QV5mK2DoDwAJtCPp4ltQAaT7HRjmgwW4\n",
       "kf21ThwkdYBBlwfkAhYHJKl2FqCJ7A48u7jAInfgUlIMnBNKgS5UsRPyA4s0lTbAQr6Qofz+AeTg\n",
       "CK7ejRxyAISENKeL/c93AAAAAElFTkSuQmCC\n",
       "\" style=\"display:inline;vertical-align:middle;\" /></a> <a class=\"ProveItLink\" href=\"../__pv_it/demonstrations/1acc0630d19ce313112626821fdf64afff2f96ce0/proof.ipynb\" style=\"text-decoration: none\">&nbsp;&#x22A2;&nbsp;&nbsp;</a><a class=\"ProveItLink\" href=\"../__pv_it/demonstrations/b22410e9f0be6a8c233c76b45a0a330d8b9855090/expr.ipynb\"><img src=\"data:image/png;base64,iVBORw0KGgoAAAANSUhEUgAAAG4AAAAVBAMAAABVkMbKAAAAMFBMVEX///8AAAAAAAAAAAAAAAAA\n",
       "AAAAAAAAAAAAAAAAAAAAAAAAAAAAAAAAAAAAAAAAAAAv3aB7AAAAD3RSTlMAIqvd77tmEHbNmTJE\n",
       "VIk1oG/QAAAACXBIWXMAAA7EAAAOxAGVKw4bAAABx0lEQVQ4y5WUP0jDQBTGv1qT1JiUoBQcHJxE\n",
       "F5WKg4K2DjoJrZubnV0MotCtqYuC/4LgH9ChWHC0ra4ORRycRNHFQSkqKAhSRVSqou9iW+lpwB5c\n",
       "3uM+fvfefdwFsBtaSfj3cB19xwMbvcbnZyHg5Ta+KPAhG9DzTB+xlcMks5Ct2HDhTrZrQi9dlYtl\n",
       "Ruy4BSq1y3OVP5luw0VigMFzZ8WsyuaA4QoyJkScOH2vi8PPytMarW7RdLREDcDd8MvK2zrGKR9Q\n",
       "deJONdmE+wXrTFumua8JL2SZ5VC8nQ0vS5VeDFN3YXTABYtTHoAlMcnEbrK0H3IboPq5cuMhxFk9\n",
       "LGj1jIN0SNx4oyUOkKVZODNAdZbjEkCPxUUyBuOkjXPi1PcCVxlEJE1t8fX6IL1bnOAPWX2mq4mT\n",
       "r/V8nxEDo5SpbaXnk14hZi1OedQZl4PykMKNYPkwRNwRmlUNYpC7SR+oMI+BPVYZdM9ycL0duw0p\n",
       "x9RLQDDULpkayHB9DuEkFoMnsIxZTAYWte25qat5nyl+rpK4Qxs33dXMAM40x43Np5qSds/IWVRq\n",
       "y3p+YqyQbZb3bgfz0REsj5vIR6HMH4XD+I7Rv+Uvblx3OiN/tkIAAAAASUVORK5CYII=\n",
       "\" style=\"display:inline;vertical-align:middle;\" /></a></span>"
      ],
      "text/plain": [
       "{a in Real} |- Max(a) = a"
      ]
     },
     "metadata": {},
     "output_type": "display_data"
    }
   ],
   "source": [
    "Max(a).simplification(assumptions=temp_max_assumptions)"
   ]
  },
  {
   "cell_type": "code",
   "execution_count": 43,
   "metadata": {},
   "outputs": [
    {
     "data": {
      "text/html": [
       "<span style=\"font-size:20px;\"> <a class=\"ProveItLink\" href=\"../__pv_it/demonstrations/eda9f67f81ab2c1b572cf541a01ee066eb6936bd0/proof.ipynb\" style=\"text-decoration: none\">&nbsp;&#x22A2;&nbsp;&nbsp;</a><a class=\"ProveItLink\" href=\"../__pv_it/demonstrations/3494122b99868400f5fd30c69ee6831f452f629c0/expr.ipynb\"><img src=\"data:image/png;base64,iVBORw0KGgoAAAANSUhEUgAAAMwAAAAVBAMAAAD4PRwmAAAAMFBMVEX///8AAAAAAAAAAAAAAAAA\n",
       "AAAAAAAAAAAAAAAAAAAAAAAAAAAAAAAAAAAAAAAAAAAv3aB7AAAAD3RSTlMAIqvd77tmEHbNmTJE\n",
       "VIk1oG/QAAAACXBIWXMAAA7EAAAOxAGVKw4bAAADH0lEQVRIx42VW0hTcRzHv3PbObudeTB8qgcl\n",
       "MXvQhhFdqLSiLBBc4EP14giELg8eQkEi2tEgpYsOIY3qQQqEXszqtXCED9FDMxKsh3JkYBSkK3Fs\n",
       "pvb7nTlz/+PW/rCz/+37//wu/wuQraj/aSNvpSXHXMe40PE6X4pJ6dGBopparjZUCzZ8XleXG32k\n",
       "DohGbp3nP9vv0uxKtB2hz3X6FS/QR9ohUOTQ+pZzkD4DotmWJiafjeVS4h7LNaB9Lzv6RMuc7Mqw\n",
       "vZDjcEHEyNd4xRvxXEossRNkZXsvOfJCxNgyWhEetWkippsccb+J51J6jNE6wgSJpYuYjxmtaSNy\n",
       "YnLkriTFwRXPpfT6+NtPmALaAwHCSN0/NalpwTN/nwaGOfZVHXpqcl93JSlKRIxeRgFhzLmeGTSv\n",
       "BCInRkSls6KTAv6FMJ4lKBphJlRXCN44HqzyMabaU5bKCS2oQjJy+2gnl+oUJjKOScIoh/AYmNWc\n",
       "YVGJ4IBMkT1PGOyCAwbGQz13pBEePkCrHIPLcBlKHDYdSq3JG6sfegoTUeH0XzQpMaXhODDBmF51\n",
       "C2MgvyVMa7kxXE9bZg7WaGrzhFAYhXvOhHHELGEjN1dmVciHAyYle7kMjDImGNUZIz/8RBjlTxpj\n",
       "8yMYNhqkofB4zN7Iyw4w5nLlFG3XqbBJiYOgnGCMMfbagBG0sJswrq/aqutBHS1rx4bGFZ8pN2iU\n",
       "GKPUY5Qww3UmJR0bNuM9Yzy/NF4mCU/sKWbsRqZP0eRxbFdUmTEjFG1IfpM3iGzjZQoHEdmserXT\n",
       "JiUW0UqhbAZeAUcBumyScCy+8+pykodpC9p1ZZ8LQaIWBOx0tlxR8Uos4fAUxBjT+1L9Bj6BmUqU\n",
       "44xxPIob+nELnQ196rPbXdM9NSFp5S4NPCdjK34U3YR1N9WqhjhDYeFKa0wEHGFHWaLUXfHh6p7p\n",
       "BFoSuqDEpe+8L/Znu82tI+naZLqyKb93YAOlxZdtMt92qbIWqqH8MBsoXYGss0/+y/OqSf48nzWT\n",
       "EsXZJ7el38J0hz3fV9qkXANvUCy60NGR7yNtUjpU/AW8HPYR46fYxwAAAABJRU5ErkJggg==\n",
       "\" style=\"display:inline;vertical-align:middle;\" /></a></span>"
      ],
      "text/plain": [
       "|- Max(a, b) = Max(a, b)"
      ]
     },
     "metadata": {},
     "output_type": "display_data"
    }
   ],
   "source": [
    "# If we don't know the relationship between a and b,\n",
    "# we simply get a self-equality in the binary case\n",
    "Max(a, b).simplification()"
   ]
  },
  {
   "cell_type": "code",
   "execution_count": 44,
   "metadata": {},
   "outputs": [
    {
     "data": {
      "text/html": [
       "<span style=\"font-size:20px;\"><a class=\"ProveItLink\" href=\"../__pv_it/theorems/4aa8d696b1f407d6126de9f51a052e8d90e0848c0/expr.ipynb\"><img src=\"data:image/png;base64,iVBORw0KGgoAAAANSUhEUgAAADMAAAAQBAMAAABJt1qBAAAAMFBMVEX///8AAAAAAAAAAAAAAAAA\n",
       "AAAAAAAAAAAAAAAAAAAAAAAAAAAAAAAAAAAAAAAAAAAv3aB7AAAAD3RSTlMAIquJdkTvuxBmmd1U\n",
       "zTKBpmoTAAAACXBIWXMAAA7EAAAOxAGVKw4bAAAAzElEQVQY02NgwABz0+tvp09gwAoKhBiCpjdg\n",
       "lxJmYOdTwCXFJXABRch99+4LcKkCZJlYD4Qupg6QgYzKjg4gAcYbSAY+PysAZIQJsP8ACfAKwKXE\n",
       "bv8GmcCRycC1ASyF5IyZvSCa6wMDtwGI8Ww3EBRApNg7QV5mK2DoDwAJtCPp4ltQAaT7HRjmgwW4\n",
       "kf21ThwkdYBBlwfkAhYHJKl2FqCJ7A48u7jAInfgUlIMnBNKgS5UsRPyA4s0lTbAQr6Qofz+AeTg\n",
       "CK7ejRxyAISENKeL/c93AAAAAElFTkSuQmCC\n",
       "\" style=\"display:inline;vertical-align:middle;\" /></a>, <a class=\"ProveItLink\" href=\"../__pv_it/theorems/6e5cad5b2984ed0d75bd47bd0c542ec447a4f3570/expr.ipynb\"><img src=\"data:image/png;base64,iVBORw0KGgoAAAANSUhEUgAAADEAAAAQBAMAAABNQoq8AAAAMFBMVEX///8AAAAAAAAAAAAAAAAA\n",
       "AAAAAAAAAAAAAAAAAAAAAAAAAAAAAAAAAAAAAAAAAAAv3aB7AAAAD3RSTlMAELvv3c2ZVESJq3Yi\n",
       "MmZ3LnoBAAAACXBIWXMAAA7EAAAOxAGVKw4bAAAA1ElEQVQY02NgQAdPjfRDjB4AGYzKDmhSCqcY\n",
       "uh4JABmsCegyJxmYeBcAGfwFmDJsBwKAjH4BqMgmF5cAuIwCkDEFKtG6EaGHSxBkWtTu5SA+TyCS\n",
       "aZdKDwDd9lVA/gDIIQfgModDvoD0s39kYN4AkkFywTtREM0WwMA/AUhfdgECBYgMkxzIpywTGPpB\n",
       "7hZC0sOboAjxTj7I3SzI/sk9BJK5wGgH4nNvQJIR4gYax/WACRI84XCZYwx8DzSArl6ZBxGQ0hCA\n",
       "hbUOg1I8cph1qkBCBwoAxe43BugJR6MAAAAASUVORK5CYII=\n",
       "\" style=\"display:inline;vertical-align:middle;\" /></a>, <a class=\"ProveItLink\" href=\"../__pv_it/demonstrations/227573a920b3dec0e900f3b33056184672fbe9620/expr.ipynb\"><img src=\"data:image/png;base64,iVBORw0KGgoAAAANSUhEUgAAADAAAAARBAMAAABp3DInAAAAMFBMVEX///8AAAAAAAAAAAAAAAAA\n",
       "AAAAAAAAAAAAAAAAAAAAAAAAAAAAAAAAAAAAAAAAAAAv3aB7AAAAD3RSTlMAELvv3c2ZVESJq3Yi\n",
       "MmZ3LnoBAAAACXBIWXMAAA7EAAAOxAGVKw4bAAAAtElEQVQY02NgVHZgwA5YE8CU6AN0Cf4CMMU4\n",
       "ZQOaRL8AlLFlIqrEFDjrCapM1O7lMGZpDoQ+Nfs00OyvAvIHYDKtC0Ekhw2DvgAD+0cGZri1rYog\n",
       "UvgBQwoDA1sAA/8EmFFrwFQ+A4MnAwPLBIb+AqjliRDaiIHxB9gb+QIozmX8zcD3AShxgdEO1YOM\n",
       "3xm4AmoYuB4wJaAFiTZDSUICA+PKPPRAktp5Z/UFBvKBiAsI+ML5APzLLEktqkc7AAAAAElFTkSu\n",
       "QmCC\n",
       "\" style=\"display:inline;vertical-align:middle;\" /></a> <a class=\"ProveItLink\" href=\"../__pv_it/demonstrations/85e602d102f5c597f9bd8aad78bf0fa49e6271880/proof.ipynb\" style=\"text-decoration: none\">&nbsp;&#x22A2;&nbsp;&nbsp;</a><a class=\"ProveItLink\" href=\"../__pv_it/demonstrations/10032a39ebea2efff6261da9afda9c551791910e0/expr.ipynb\"><img src=\"data:image/png;base64,iVBORw0KGgoAAAANSUhEUgAAAH4AAAAVBAMAAAByPkciAAAAMFBMVEX///8AAAAAAAAAAAAAAAAA\n",
       "AAAAAAAAAAAAAAAAAAAAAAAAAAAAAAAAAAAAAAAAAAAv3aB7AAAAD3RSTlMAIqvd77tmEHbNmTJE\n",
       "VIk1oG/QAAAACXBIWXMAAA7EAAAOxAGVKw4bAAACJUlEQVQ4y5WUTWgTURDH/2myu+l2N10q3jx4\n",
       "KvVgDRURBW1AFA9CIngQL+7Zi4u00Ntue7HgR0PBVtRDUSh40ahXD0E8eLIRBPGgBisICtKKdDE1\n",
       "6n9euqV5bSl5sG9n3szvzbx5H8B2zdtB36Fla9rAq639+oYL8isOafN/3CBb5/Kc0NfR0RPS715h\n",
       "Zx7QcKu8UeueYze7KfYd6caOSLaPg3aT3RatVxZzaRPfVPwUQz/X+UybtiDWjOYCJ1Z8yOQinX/f\n",
       "pi2qRegFyOUV38UC+uTNyR+BeXHF+XWXo4/4pQbHo5bn9OR+uu/V+O6BCa5rzGnCDci/9ewycjHu\n",
       "iW2G30vPiFvF/B2EHkxV0gcHpQ2JGM5ay+RxCFko3qF6y6yI7RipU7BVhnBjZCK4BS3+pwCnhZ/y\n",
       "9ggP6zX5kX5lO8MtWEK63tqMMnrr6FnS+IfAX+HDeiS8df8DefdPwmdKCKtK4TQLNTh6/OPg0skb\n",
       "BV/lX+0hb38J1vIPI1xe337a3by2/ibsWHjnZyD2BpzlJ/hqqDKdJ1/DPtezhK+wFjBLWvxVjHBL\n",
       "XwAnAZ7fBrKrb3KR1RDbZ8CI3KM2Qk7X5Rs8I3Zd4/txgce/OIPrmChOe09vXF28OVw2/92m7RnL\n",
       "OfC97xrShykNzksVqhp/5Zu/7fVNVxLpXSLs6uT6m3OJtJ71fEfvx9nkIq8dYaRKHfGjyTuUDBid\n",
       "PWCpSBsY39LtP35uj0+LNTUAAAAAAElFTkSuQmCC\n",
       "\" style=\"display:inline;vertical-align:middle;\" /></a></span>"
      ],
      "text/plain": [
       "{a in Real, b in Real, b >= a} |- Max(a, b) = b"
      ]
     },
     "metadata": {},
     "output_type": "display_data"
    }
   ],
   "source": [
    "# If we only know 2nd op ≥ 1st op? This now simplifies nicely as well.\n",
    "Max(a, b).simplification(assumptions=[InSet(a, Real), InSet(b, Real), greater_eq(b, a)])"
   ]
  },
  {
   "cell_type": "code",
   "execution_count": 45,
   "metadata": {},
   "outputs": [
    {
     "data": {
      "text/html": [
       "<strong id=\"temp_min_assumptions\">temp_min_assumptions:</strong> <a class=\"ProveItLink\" href=\"../__pv_it/demonstrations/5c094c06fd1a95526953ecd4ec2c556d2b6e2d3c0/expr.ipynb\"><img src=\"data:image/png;base64,iVBORw0KGgoAAAANSUhEUgAAAZsAAAAVBAMAAABie17XAAAAMFBMVEX///8AAAAAAAAAAAAAAAAA\n",
       "AAAAAAAAAAAAAAAAAAAAAAAAAAAAAAAAAAAAAAAAAAAv3aB7AAAAD3RSTlMAInZUiRDNmWbv3US7\n",
       "qzJazP2FAAAACXBIWXMAAA7EAAAOxAGVKw4bAAAECklEQVRYw92YX2gURxzHf3d7e383d4dIg9LA\n",
       "GhoQaeUE9aEvHtKiBBuW0lZbctxZCVFBPcGWIqU5BG0oorYPRdJ7CGobPUoN0hb6UFwVWxsFQ5pK\n",
       "Hny4PEmLQvRMKFqk83dndm9nSdY35+H2N/PZ+e5vZn7zm+EAIA8vSCEDiRbaQXLPrYULNxS9AiEc\n",
       "q9/eW6+Fo89ZLuGf9X7EiExmZq5Tu38kALYXuwt+PW7xWnZPVUX1P0ZDe+6VJVpRNE96xX84RbAf\n",
       "sMpgEGwfznIwspNONVdQ0rjkkrZzaePxyFKtAYBETTWcg3FWaQVBv+Ek8mKOLltKKrmUHLOWNhyP\n",
       "LNX6HCDlan210ag4Hhu0LTMfAJ0SnWh8Jxy2nfZeNRUuRc8Fj2ZjW7rq9TCilbJgo/zSzz3SAvxV\n",
       "onZsNADykvnQEvPf8a4ItkE1dVx650zwUnzxUVvToIcRrXgNDqFHZHqViauRASmestdYOMenXiso\n",
       "IcS6T+DHS5YUTvf5bEam17bUdF/3n+S5/bzjZdfmZW0WrHmTGZtXN12yEiNasUnYjexf8gYJqHhe\n",
       "ePz1xTPMh/KA/lAJI2fhU/wUO9lesfcJX0cu7Ev1BauMNUu7xBp/Cbctj6X3moyuLCRsl6xgVCtZ\n",
       "gbPIPg0JElBxabdvPcq38yYLvlLCdJFAqEibffg9nj6RcEVJtXlIYW86xHDer8FhjxU57OSqc/R9\n",
       "ISsY1dJOwTcouc1hr1D5u4GKzeLp+jB79WOAx0o4RKcwO4Lg98xhYwf7ChdW0ArkyGc7nWAbwj67\n",
       "rTtO+kvwlOT4KzGilZ3Dw0nZUB4nB6aci+8ZFp+UTEsJ62wdbGn+s1V2xnJhf4pculxwp4I66E89\n",
       "lnA5ZYNbVmJUK3MKB1vZhJO0UfY4MWvzY4fMiy/UH7G2Uflk+exltuu4sC9FRwVbW56okVpyDtyW\n",
       "CKiyCR5ZwaiWNgpXES7AHQ1vyqgpeazbqwHwV57hQFbBf9GuxW3dssP96LqhgyTsS3NNtAlcx6je\n",
       "go7KOqzLLNd2zyEvxl2yEiNaSRveQu6Z2liCtO4SHldh2BjXF5A9A7+rIUprfSSLOOtud0KydhPK\n",
       "FUnYl3bUDHHL0fbj36vwerVKdInFAnkNTYUorcWaLlnBqFaiCP+gtqm+rrWktXTT4pfm//LGby1o\n",
       "oHppS00NY1uP0Di5+5NzZ74Ctw4U0t9Kwv50+hPv4Vh6ZXaqST9KLH5U0sPljeEecMkKRrXS45Bu\n",
       "yno/TjRcV1LNWizMbGPXGF42wKKpp2htN55jeXVHia1Ec10Nul7EQkMohqaxsB3xCl0J6vx2aKib\n",
       "i6Uf4AOt8cPidINkI7brPPEpZmgYhdDUDNnRwGEXMV+U/wpWAfwPmr100oECo48AAAAASUVORK5C\n",
       "YII=\n",
       "\" style=\"display:inline;vertical-align:middle;\" /></a><br>"
      ],
      "text/plain": [
       "<IPython.core.display.HTML object>"
      ]
     },
     "metadata": {},
     "output_type": "display_data"
    }
   ],
   "source": [
    "temp_min_assumptions = [\n",
    "        InSet(a, Real), InSet(b, Real), InSet(c, Real), InSet(d, Real),\n",
    "        LessEq(b, a), Less(a, c), Less(d, b)]"
   ]
  },
  {
   "cell_type": "code",
   "execution_count": 46,
   "metadata": {},
   "outputs": [
    {
     "data": {
      "text/html": [
       "<strong id=\"min_multi_test\">min_multi_test:</strong> <a class=\"ProveItLink\" href=\"../__pv_it/demonstrations/8b3facb8cad25c574a9364b2ca888518ca4404a30/expr.ipynb\"><img src=\"data:image/png;base64,iVBORw0KGgoAAAANSUhEUgAAAHkAAAAVBAMAAACQ4lxbAAAAMFBMVEX///8AAAAAAAAAAAAAAAAA\n",
       "AAAAAAAAAAAAAAAAAAAAAAAAAAAAAAAAAAAAAAAAAAAv3aB7AAAAD3RSTlMAIqvd77tmEHbNmTJE\n",
       "VIk1oG/QAAAACXBIWXMAAA7EAAAOxAGVKw4bAAACC0lEQVQ4y4VUMWgTURj+rpdLk0uud7R20iGD\n",
       "Qx2aFkGkghoCOgk5wcHNmxxcvEUIONzVwRYqtJTQglNcOtqAq2IQB7dkExcJugiCFAeDQ8HvvZdr\n",
       "4l0e+eHdfdz3fbz//f/9D5geHmaGXlLoz3Z/4lq8WROwcdk7F4yZrxOq+XvrWWup1S4I/fIfPvJr\n",
       "HnrtsWFvUllsT9nZ7eOQr+aGyPQ4xPyYsoOUMBu9EI+Ee5fHf0v3ROTSwmx8p4rfmxETi/93f0kL\n",
       "s/GSJ2KGzTmWLTgOjVal1Hq1vSKo11xGdTNWwv3t1ZHlx/OOfBvVnVNgoUJ3+RROyL2LFZireC/a\n",
       "eMD10bOGqoR/w0j1dqlv+xIoLs/aNnEFBdBtVWDV4IqCXafnNmzVKWeInMrixggIjk6nJty73oXE\n",
       "7cMV/B2W/QTmQDVgD65E9jBpieJKJ8IdDeKsO+cj6kothT3Zs5yftERxZbm3VQtSbmYexXh81m7V\n",
       "kWhUxYRz1oW7/DtMue9T0cclxxN/kNvhOSVgSboCKA555vIBuAXwT6W1OHJ/A6zYuWYjYnHmAqst\n",
       "AQu+0BFAcbAHWG4c4AWeNfbPX6w/Xau/e1Cn+w3ruvJzcQfmVaLqESTAr4db6ovkYHanD5/ZSdBn\n",
       "PcCSZnTzZ1M10AMc6Sb/bjKqsRbA8HXuJ8kdAy2Apb2ajHj2zbQJ/AMQ3omM3WaKSAAAAABJRU5E\n",
       "rkJggg==\n",
       "\" style=\"display:inline;vertical-align:middle;\" /></a><br>"
      ],
      "text/plain": [
       "<IPython.core.display.HTML object>"
      ]
     },
     "metadata": {},
     "output_type": "display_data"
    }
   ],
   "source": [
    "min_multi_test = Min(a, b, c, d)"
   ]
  },
  {
   "cell_type": "code",
   "execution_count": 47,
   "metadata": {},
   "outputs": [
    {
     "data": {
      "text/html": [
       "<strong id=\"min_multi_test_01\">min_multi_test_01:</strong> <span style=\"font-size:20px;\"><a class=\"ProveItLink\" href=\"../__pv_it/theorems/4aa8d696b1f407d6126de9f51a052e8d90e0848c0/expr.ipynb\"><img src=\"data:image/png;base64,iVBORw0KGgoAAAANSUhEUgAAADMAAAAQBAMAAABJt1qBAAAAMFBMVEX///8AAAAAAAAAAAAAAAAA\n",
       "AAAAAAAAAAAAAAAAAAAAAAAAAAAAAAAAAAAAAAAAAAAv3aB7AAAAD3RSTlMAIquJdkTvuxBmmd1U\n",
       "zTKBpmoTAAAACXBIWXMAAA7EAAAOxAGVKw4bAAAAzElEQVQY02NgwABz0+tvp09gwAoKhBiCpjdg\n",
       "lxJmYOdTwCXFJXABRch99+4LcKkCZJlYD4Qupg6QgYzKjg4gAcYbSAY+PysAZIQJsP8ACfAKwKXE\n",
       "bv8GmcCRycC1ASyF5IyZvSCa6wMDtwGI8Ww3EBRApNg7QV5mK2DoDwAJtCPp4ltQAaT7HRjmgwW4\n",
       "kf21ThwkdYBBlwfkAhYHJKl2FqCJ7A48u7jAInfgUlIMnBNKgS5UsRPyA4s0lTbAQr6Qofz+AeTg\n",
       "CK7ejRxyAISENKeL/c93AAAAAElFTkSuQmCC\n",
       "\" style=\"display:inline;vertical-align:middle;\" /></a>, <a class=\"ProveItLink\" href=\"../__pv_it/theorems/6e5cad5b2984ed0d75bd47bd0c542ec447a4f3570/expr.ipynb\"><img src=\"data:image/png;base64,iVBORw0KGgoAAAANSUhEUgAAADEAAAAQBAMAAABNQoq8AAAAMFBMVEX///8AAAAAAAAAAAAAAAAA\n",
       "AAAAAAAAAAAAAAAAAAAAAAAAAAAAAAAAAAAAAAAAAAAv3aB7AAAAD3RSTlMAELvv3c2ZVESJq3Yi\n",
       "MmZ3LnoBAAAACXBIWXMAAA7EAAAOxAGVKw4bAAAA1ElEQVQY02NgQAdPjfRDjB4AGYzKDmhSCqcY\n",
       "uh4JABmsCegyJxmYeBcAGfwFmDJsBwKAjH4BqMgmF5cAuIwCkDEFKtG6EaGHSxBkWtTu5SA+TyCS\n",
       "aZdKDwDd9lVA/gDIIQfgModDvoD0s39kYN4AkkFywTtREM0WwMA/AUhfdgECBYgMkxzIpywTGPpB\n",
       "7hZC0sOboAjxTj7I3SzI/sk9BJK5wGgH4nNvQJIR4gYax/WACRI84XCZYwx8DzSArl6ZBxGQ0hCA\n",
       "hbUOg1I8cph1qkBCBwoAxe43BugJR6MAAAAASUVORK5CYII=\n",
       "\" style=\"display:inline;vertical-align:middle;\" /></a>, <a class=\"ProveItLink\" href=\"../__pv_it/demonstrations/d550e8309ef79ca46e4c9fb5617a392ea678789b0/expr.ipynb\"><img src=\"data:image/png;base64,iVBORw0KGgoAAAANSUhEUgAAADEAAAAQBAMAAABNQoq8AAAAMFBMVEX///8AAAAAAAAAAAAAAAAA\n",
       "AAAAAAAAAAAAAAAAAAAAAAAAAAAAAAAAAAAAAAAAAAAv3aB7AAAAD3RSTlMAiXZmMiLdVJm77xBE\n",
       "zatgdeJyAAAACXBIWXMAAA7EAAAOxAGVKw4bAAAAvUlEQVQY02NgQAe2K+dfW2nAgA1MiGM4Z7kB\n",
       "q0wgAyfLAxwyHAEXkEU009IuwGUmIEmc1Ubo4dsNNk1I2QFIst5GMs2zNgDICCvgAGnlDYDLRF37\n",
       "BtafyMClAJJBcoHxXhDN8RvC90oDggkQGc7NIJ9yQV2xE0kPS8NsIL1fAcJnQ/ZPSySQ5gdqPACk\n",
       "mRSQZHYyAUWBDmMEuZrhOlwmgoHZYA6QIWgM8eK+ORtgYT2VYeb9AqRAODgtDTm0ALktNaaWdOV1\n",
       "AAAAAElFTkSuQmCC\n",
       "\" style=\"display:inline;vertical-align:middle;\" /></a>, <a class=\"ProveItLink\" href=\"../__pv_it/demonstrations/41c3ad9f29c40b69fd61c49f41684c1b813e9e850/expr.ipynb\"><img src=\"data:image/png;base64,iVBORw0KGgoAAAANSUhEUgAAADMAAAAQBAMAAABJt1qBAAAAMFBMVEX///8AAAAAAAAAAAAAAAAA\n",
       "AAAAAAAAAAAAAAAAAAAAAAAAAAAAAAAAAAAAAAAAAAAv3aB7AAAAD3RSTlMAMs3vmVREEIndIqt2\n",
       "u2aBbGR5AAAACXBIWXMAAA7EAAAOxAGVKw4bAAAA3klEQVQY02NgwACPbO9r2j6AsBmVHVDkLqxm\n",
       "yH5bAGHzB6BKrWDgZdwAYecXoEuxLFCAsDsh1NmZMxXgUhcgYipgMuk4Qhd3OchArh0Hv4IEuNSR\n",
       "DJQNWgBkJC/g/Q4SYFoAl1qs+RNkArsdAwvYBiYkZ7wrAtEsHxg4G0AM4ZlAcAEixVsH8jLzBYb6\n",
       "BJBALZIuRofrQLr+AMN7sAAnsr8c14KkAhg2sYJcwHMASaqWB2gi7wHWKSxgEVW41BIGvgfXgC7c\n",
       "07j6IFik+loBLORvMdzVRwnXjJszFZC4AHM6StvnxMwUAAAAAElFTkSuQmCC\n",
       "\" style=\"display:inline;vertical-align:middle;\" /></a>, <a class=\"ProveItLink\" href=\"../__pv_it/demonstrations/b15027e0f6a0874c63644426467914ac428e0e7a0/expr.ipynb\"><img src=\"data:image/png;base64,iVBORw0KGgoAAAANSUhEUgAAADAAAAARBAMAAABp3DInAAAAMFBMVEX///8AAAAAAAAAAAAAAAAA\n",
       "AAAAAAAAAAAAAAAAAAAAAAAAAAAAAAAAAAAAAAAAAAAv3aB7AAAAD3RSTlMAELvv3c2ZVESJq3Yi\n",
       "MmZ3LnoBAAAACXBIWXMAAA7EAAAOxAGVKw4bAAAAtklEQVQY02NgVHZgwA5YExBs9hgkCf4COJPP\n",
       "TQBJoh/O4fZEFmeYAmNIeqPaEbV7OZgW84MLnZp9moGB8auA/AEgRyocLs5hw6AvwMD+kYF5A5DH\n",
       "hZAQfsCQwsDAFsDAPwHEPQY3Kp+BwZOBgWUCQ38BquVGDIw/wN7IF0BxLuNvBr4PQIkLjHaoHmT8\n",
       "zsAVUMPA9YAJESbssSBSm6EkIYGBcWUeeuhJ7byz+gID+UDEBQR84XwA6LwkLF+kJTYAAAAASUVO\n",
       "RK5CYII=\n",
       "\" style=\"display:inline;vertical-align:middle;\" /></a> <a class=\"ProveItLink\" href=\"../__pv_it/demonstrations/101a8cf1370ab4fd413fdf2ca33cb9213a376f0f0/proof.ipynb\" style=\"text-decoration: none\">&nbsp;&#x22A2;&nbsp;&nbsp;</a><a class=\"ProveItLink\" href=\"../__pv_it/demonstrations/5cf5be9f92c293e0f9403fd862e835305a3d506c0/expr.ipynb\"><img src=\"data:image/png;base64,iVBORw0KGgoAAAANSUhEUgAAATgAAAAVBAMAAAAgFO8FAAAAMFBMVEX///8AAAAAAAAAAAAAAAAA\n",
       "AAAAAAAAAAAAAAAAAAAAAAAAAAAAAAAAAAAAAAAAAAAv3aB7AAAAD3RSTlMAIqvd77tmEHbNmTJE\n",
       "VIk1oG/QAAAACXBIWXMAAA7EAAAOxAGVKw4bAAAEC0lEQVRIx41WXWgUVxT+Nvszs7szu0M0YGkf\n",
       "VhpqRIxLpJTWamOqtpRCtiUF8SWLUGntg4NUGOnDjhE01LaGEBX6tEUUfDFbfRJaspQ+lL7sFhXp\n",
       "S7tYKKJQsjY0SduI5947k52fve4cyOac78w997vnnPsDdBcDPSXCJ1xi0fBYxGGA2uw96U8RyX0Z\n",
       "DdfssN3/xihTx0eMjeWO5zfPV8pEMRw5O1dVy8G1vrjE/iX+3hw70EH1lgzHiTe9w894jVvvcHvg\n",
       "H/pJ7TDQqHb4zHg/TFe7rDvfxKVQoSYZ38NtaP92wJNyHF/7pjG91hq3rVdZGedNKB1PphzgEZaG\n",
       "iaNBTDnNFvX5MuCZ56ocJwYeSXlzoC1z2zpPnf3dvI92IsgjLH/QV0FcmW5TwX9e9oGjclzzI295\n",
       "9FyR21aFGNp+cr8GeYSFKpIONp1ylsqmZnxT6jNyPOdv5ouBViLb6qM1lOfN2FwhO/fN9BBzXWcN\n",
       "NHzK2T+z09udIQ/O1ERzDZ+jiuQKQXL2IFWHSDw3Rh29aYqNz7TkeHpoyumY3PQnwP31QP0PFprc\n",
       "trQ16CZlLl1AfDsWDGcNPxpJsVRl1ayIM21DM1PiivCl+La5vJPJiCDXaOIey9AsMNLMtiHSK8Mr\n",
       "l5S2WOxuXAE+Xm+4vZg0uW3hZaggcskCkqPIs1rtpoAHkBFZ15eREDnc4yjMR8T00VDm4iXYjMT7\n",
       "wATAzoF4U47/buJtPjDeYsodN86nZVwDty2cN15wyZWQZ9O/S2lfZEP41p1BnmvrTeP4soshcmo7\n",
       "VndIfACssL1Vl+PE4AkfKDp+wY0zz/LAbQuVlh0mlyihUneX1eCtkSi5m1n4tHDmlCcqupHrju+B\n",
       "Jg6T/aJZ3Dj7ofwvbIuKWQ6Qo7JWbBxbP+bEyiruBeP49GKo5zCRCpAQZe2OrznFUFZ42NvuGleQ\n",
       "WhS2Be2xGSB3kAg0sVU32MGcr1GPcYXasc4U4UOqFMocGlsCJJK2HP+PdRdbNzWhBnzIQrC/NfTN\n",
       "/MLtH3hW6foiZmmH3H02WH8tgwr1fV85WeUKbdVcjSnCx08D/11dYBXva3MGFwQJdt7I8JdwiM4C\n",
       "MmirPhIHGAtPubldrTJ7YPwivsDU+Ozzg2Of7Rj7fnKMvDeJ/tCj/nOIv0LaMN00TMFfR84KhPsQ\n",
       "rweu1onVslpXB1c339i35cbStrtLRCBblOI4/pBqsZNSl/vzI/p9Hc48x7/6dqgm7C4Sr7naPbmC\n",
       "DZFeTLt64Lp7N8WK/vCxYveBnTu4JVf41d1bjvbAc/7XRkvy+vDIe50WlymIlSKRSxrPxi0XGPCH\n",
       "F3Y3OeG+iCFVpLMGt3Dp2bjtS4gaTlD4fW/3nvVUxGf6pmi4aoTsp/yxX/lyfoH8AAAAAElFTkSu\n",
       "QmCC\n",
       "\" style=\"display:inline;vertical-align:middle;\" /></a></span><br>"
      ],
      "text/plain": [
       "<IPython.core.display.HTML object>"
      ]
     },
     "metadata": {},
     "output_type": "display_data"
    }
   ],
   "source": [
    "# Notice here that the assumptions allow us to INFER that b < c\n",
    "# but b < c is not actually present as an assumption, so processing stops\n",
    "min_multi_test_01 = min_multi_test.definition(assumptions=temp_min_assumptions)"
   ]
  },
  {
   "cell_type": "code",
   "execution_count": 48,
   "metadata": {},
   "outputs": [
    {
     "data": {
      "text/html": [
       "<strong id=\"min_multi_test_01\">min_multi_test_01:</strong> <span style=\"font-size:20px;\"><a class=\"ProveItLink\" href=\"../__pv_it/theorems/4aa8d696b1f407d6126de9f51a052e8d90e0848c0/expr.ipynb\"><img src=\"data:image/png;base64,iVBORw0KGgoAAAANSUhEUgAAADMAAAAQBAMAAABJt1qBAAAAMFBMVEX///8AAAAAAAAAAAAAAAAA\n",
       "AAAAAAAAAAAAAAAAAAAAAAAAAAAAAAAAAAAAAAAAAAAv3aB7AAAAD3RSTlMAIquJdkTvuxBmmd1U\n",
       "zTKBpmoTAAAACXBIWXMAAA7EAAAOxAGVKw4bAAAAzElEQVQY02NgwABz0+tvp09gwAoKhBiCpjdg\n",
       "lxJmYOdTwCXFJXABRch99+4LcKkCZJlYD4Qupg6QgYzKjg4gAcYbSAY+PysAZIQJsP8ACfAKwKXE\n",
       "bv8GmcCRycC1ASyF5IyZvSCa6wMDtwGI8Ww3EBRApNg7QV5mK2DoDwAJtCPp4ltQAaT7HRjmgwW4\n",
       "kf21ThwkdYBBlwfkAhYHJKl2FqCJ7A48u7jAInfgUlIMnBNKgS5UsRPyA4s0lTbAQr6Qofz+AeTg\n",
       "CK7ejRxyAISENKeL/c93AAAAAElFTkSuQmCC\n",
       "\" style=\"display:inline;vertical-align:middle;\" /></a>, <a class=\"ProveItLink\" href=\"../__pv_it/theorems/6e5cad5b2984ed0d75bd47bd0c542ec447a4f3570/expr.ipynb\"><img src=\"data:image/png;base64,iVBORw0KGgoAAAANSUhEUgAAADEAAAAQBAMAAABNQoq8AAAAMFBMVEX///8AAAAAAAAAAAAAAAAA\n",
       "AAAAAAAAAAAAAAAAAAAAAAAAAAAAAAAAAAAAAAAAAAAv3aB7AAAAD3RSTlMAELvv3c2ZVESJq3Yi\n",
       "MmZ3LnoBAAAACXBIWXMAAA7EAAAOxAGVKw4bAAAA1ElEQVQY02NgQAdPjfRDjB4AGYzKDmhSCqcY\n",
       "uh4JABmsCegyJxmYeBcAGfwFmDJsBwKAjH4BqMgmF5cAuIwCkDEFKtG6EaGHSxBkWtTu5SA+TyCS\n",
       "aZdKDwDd9lVA/gDIIQfgModDvoD0s39kYN4AkkFywTtREM0WwMA/AUhfdgECBYgMkxzIpywTGPpB\n",
       "7hZC0sOboAjxTj7I3SzI/sk9BJK5wGgH4nNvQJIR4gYax/WACRI84XCZYwx8DzSArl6ZBxGQ0hCA\n",
       "hbUOg1I8cph1qkBCBwoAxe43BugJR6MAAAAASUVORK5CYII=\n",
       "\" style=\"display:inline;vertical-align:middle;\" /></a>, <a class=\"ProveItLink\" href=\"../__pv_it/demonstrations/d550e8309ef79ca46e4c9fb5617a392ea678789b0/expr.ipynb\"><img src=\"data:image/png;base64,iVBORw0KGgoAAAANSUhEUgAAADEAAAAQBAMAAABNQoq8AAAAMFBMVEX///8AAAAAAAAAAAAAAAAA\n",
       "AAAAAAAAAAAAAAAAAAAAAAAAAAAAAAAAAAAAAAAAAAAv3aB7AAAAD3RSTlMAiXZmMiLdVJm77xBE\n",
       "zatgdeJyAAAACXBIWXMAAA7EAAAOxAGVKw4bAAAAvUlEQVQY02NgQAe2K+dfW2nAgA1MiGM4Z7kB\n",
       "q0wgAyfLAxwyHAEXkEU009IuwGUmIEmc1Ubo4dsNNk1I2QFIst5GMs2zNgDICCvgAGnlDYDLRF37\n",
       "BtafyMClAJJBcoHxXhDN8RvC90oDggkQGc7NIJ9yQV2xE0kPS8NsIL1fAcJnQ/ZPSySQ5gdqPACk\n",
       "mRSQZHYyAUWBDmMEuZrhOlwmgoHZYA6QIWgM8eK+ORtgYT2VYeb9AqRAODgtDTm0ALktNaaWdOV1\n",
       "AAAAAElFTkSuQmCC\n",
       "\" style=\"display:inline;vertical-align:middle;\" /></a>, <a class=\"ProveItLink\" href=\"../__pv_it/demonstrations/41c3ad9f29c40b69fd61c49f41684c1b813e9e850/expr.ipynb\"><img src=\"data:image/png;base64,iVBORw0KGgoAAAANSUhEUgAAADMAAAAQBAMAAABJt1qBAAAAMFBMVEX///8AAAAAAAAAAAAAAAAA\n",
       "AAAAAAAAAAAAAAAAAAAAAAAAAAAAAAAAAAAAAAAAAAAv3aB7AAAAD3RSTlMAMs3vmVREEIndIqt2\n",
       "u2aBbGR5AAAACXBIWXMAAA7EAAAOxAGVKw4bAAAA3klEQVQY02NgwACPbO9r2j6AsBmVHVDkLqxm\n",
       "yH5bAGHzB6BKrWDgZdwAYecXoEuxLFCAsDsh1NmZMxXgUhcgYipgMuk4Qhd3OchArh0Hv4IEuNSR\n",
       "DJQNWgBkJC/g/Q4SYFoAl1qs+RNkArsdAwvYBiYkZ7wrAtEsHxg4G0AM4ZlAcAEixVsH8jLzBYb6\n",
       "BJBALZIuRofrQLr+AMN7sAAnsr8c14KkAhg2sYJcwHMASaqWB2gi7wHWKSxgEVW41BIGvgfXgC7c\n",
       "07j6IFik+loBLORvMdzVRwnXjJszFZC4AHM6StvnxMwUAAAAAElFTkSuQmCC\n",
       "\" style=\"display:inline;vertical-align:middle;\" /></a>, <a class=\"ProveItLink\" href=\"../__pv_it/demonstrations/b15027e0f6a0874c63644426467914ac428e0e7a0/expr.ipynb\"><img src=\"data:image/png;base64,iVBORw0KGgoAAAANSUhEUgAAADAAAAARBAMAAABp3DInAAAAMFBMVEX///8AAAAAAAAAAAAAAAAA\n",
       "AAAAAAAAAAAAAAAAAAAAAAAAAAAAAAAAAAAAAAAAAAAv3aB7AAAAD3RSTlMAELvv3c2ZVESJq3Yi\n",
       "MmZ3LnoBAAAACXBIWXMAAA7EAAAOxAGVKw4bAAAAtklEQVQY02NgVHZgwA5YExBs9hgkCf4COJPP\n",
       "TQBJoh/O4fZEFmeYAmNIeqPaEbV7OZgW84MLnZp9moGB8auA/AEgRyocLs5hw6AvwMD+kYF5A5DH\n",
       "hZAQfsCQwsDAFsDAPwHEPQY3Kp+BwZOBgWUCQ38BquVGDIw/wN7IF0BxLuNvBr4PQIkLjHaoHmT8\n",
       "zsAVUMPA9YAJESbssSBSm6EkIYGBcWUeeuhJ7byz+gID+UDEBQR84XwA6LwkLF+kJTYAAAAASUVO\n",
       "RK5CYII=\n",
       "\" style=\"display:inline;vertical-align:middle;\" /></a>, <a class=\"ProveItLink\" href=\"../__pv_it/demonstrations/57413596af4c18f4c2c2c7e249a54ad620b87b870/expr.ipynb\"><img src=\"data:image/png;base64,iVBORw0KGgoAAAANSUhEUgAAAC4AAAAQBAMAAACb51DZAAAAMFBMVEX///8AAAAAAAAAAAAAAAAA\n",
       "AAAAAAAAAAAAAAAAAAAAAAAAAAAAAAAAAAAAAAAAAAAv3aB7AAAAD3RSTlMAELvv3c2ZVESJq3Yi\n",
       "MmZ3LnoBAAAACXBIWXMAAA7EAAAOxAGVKw4bAAAAnklEQVQY02NgVHZgwApYE7CL8xdgF+8XQLDZ\n",
       "YxDsKQgmnxuSmqjdy6Esbk+oMOfutwyMXwXkD4B5kt5QeR53hiQG9o8MzBtAvGN+MBNYJjBYM7AF\n",
       "MPBPAHK4wuEm5wtAJPsLUMWNoM4HyyPMYfwNFr/AaMeAau8/BgYOBq4HTLCAkPaGuDOJgWEuA+PK\n",
       "PIS/IB7gnPdaADVM+GIYCAAAXsIdfR7kVAAAAAAASUVORK5CYII=\n",
       "\" style=\"display:inline;vertical-align:middle;\" /></a>, <a class=\"ProveItLink\" href=\"../__pv_it/demonstrations/ac5f396a8c72c20cf32342c883fcb3d3f7e3c28b0/expr.ipynb\"><img src=\"data:image/png;base64,iVBORw0KGgoAAAANSUhEUgAAAC8AAAAQBAMAAAB0JTvnAAAAMFBMVEX///8AAAAAAAAAAAAAAAAA\n",
       "AAAAAAAAAAAAAAAAAAAAAAAAAAAAAAAAAAAAAAAAAAAv3aB7AAAAD3RSTlMAMs3vmVREEIndIqt2\n",
       "u2aBbGR5AAAACXBIWXMAAA7EAAAOxAGVKw4bAAAAv0lEQVQY02NgYGBgVHZgQAbslydAWfwBKBIM\n",
       "TDCF+QWoEnCFnXAhVi0UhSowcb4pBQiFXDsOfoWK88yAKNU+sxVIJi/g/Q4Rr5gDddWngvoFDOx2\n",
       "DCwKYP6SeTCLvjMwH2Bg+cDA2QDicqvCbAIq5G9gYL7AUJ+AKgFUmB/AUH+A4T0DqlFAb/gXMNQH\n",
       "MGxiXYBiOb8A0GIG3gOsU1igSmvmgJ3L/YAXGCbsexpXH4R7EOwR9h1+DOiAT4uBEAAAD2UsNOeM\n",
       "7YYAAAAASUVORK5CYII=\n",
       "\" style=\"display:inline;vertical-align:middle;\" /></a> <a class=\"ProveItLink\" href=\"../__pv_it/demonstrations/4c1013cfc41239335f22ac73e2398fd95a3827d30/proof.ipynb\" style=\"text-decoration: none\">&nbsp;&#x22A2;&nbsp;&nbsp;</a><a class=\"ProveItLink\" href=\"../__pv_it/demonstrations/58934085984d74b7a5972c57f33a997b4212ca290/expr.ipynb\"><img src=\"data:image/png;base64,iVBORw0KGgoAAAANSUhEUgAAAKIAAAAVBAMAAAA3EyjlAAAAMFBMVEX///8AAAAAAAAAAAAAAAAA\n",
       "AAAAAAAAAAAAAAAAAAAAAAAAAAAAAAAAAAAAAAAAAAAv3aB7AAAAD3RSTlMAIqvd77tmEHbNmTJE\n",
       "VIk1oG/QAAAACXBIWXMAAA7EAAAOxAGVKw4bAAACZ0lEQVQ4y5VVPWgTYRh+ksvl55JLjtZOOmRw\n",
       "iEPTUilFQY0BHUTICQ7depODi4coBBzu6qCFig0lVHA6EQouJuIkKA3i4JaIg7hI0KUgSHAwCgZ8\n",
       "v+/L5efuQswLxz28P8+93/O++QIEm4ap9h8pIxZvTc95P8E/d67AXqUV7Ygx9H4ZyYhdXfaXJatO\n",
       "3Aige3UJWPhFILqkoekMSSqjWQknoDTTwqOgDntA+RQ7Zc1EbOhWDE+x35omrge4U11i3CGJXxPj\n",
       "iEW8xX77RlkB/jQpVLboUPY442dvsd8ekxoBQjKFymEajVEzQ9VssvpkK8f8z+kJ5TdtkbW7tdjP\n",
       "P7xX5+9Qfpv0Smd9Yz48IIXKqR5Uk3pMZCEt4oCt2R497zS5K8b0x7TE7s23FJ0DEYvy+T09yWyF\n",
       "i3geG3TWMlYRBzHKWcgFZNhRzhDPRShia9QuIqLbs33AYsSmFjwt3jLwDIxxRzvmMurIsJrLNO4O\n",
       "pLYYfAUZjpSuuwoilux4GGvso4zRatt+xogOq8HzqLjJ9yeiu6sgYilvjxcQ+8sZ5YLhYaRTWzZu\n",
       "DNZRbILVn5QbU5fHdYz9RrTDGVM/TQ/jOlW1cELV2NZn6qQbByRxgwERQ1QfbzHWQ7jyAXjLugX9\n",
       "Coku0Wf8Csi2elqBRQMIG7LDAQ06XWdAxKC0Padex0fHwUJpDw9wt7R79HjxzlLxzUaRQi/pg7nv\n",
       "c9uQ1gjl98EBfly7Lzw8BqnhYbz58EWuHnwhSQP/p8kA8zNcj9HBbdOeDLA/y417xRXbnggQ0mdh\n",
       "vO3e5ZgIIM/0txCyp+dsBrv/AW9QocUbzn2FAAAAAElFTkSuQmCC\n",
       "\" style=\"display:inline;vertical-align:middle;\" /></a></span><br>"
      ],
      "text/plain": [
       "<IPython.core.display.HTML object>"
      ]
     },
     "metadata": {},
     "output_type": "display_data"
    }
   ],
   "source": [
    "# but if we then augment the assumptions with an explicit b < c\n",
    "# we obtain a complete reduction\n",
    "min_multi_test_01 = min_multi_test.definition(\n",
    "        assumptions=temp_min_assumptions+[Less(b, c)])"
   ]
  },
  {
   "cell_type": "code",
   "execution_count": 49,
   "metadata": {},
   "outputs": [
    {
     "data": {
      "text/html": [
       "<span style=\"font-size:20px;\"><a class=\"ProveItLink\" href=\"../__pv_it/theorems/4aa8d696b1f407d6126de9f51a052e8d90e0848c0/expr.ipynb\"><img src=\"data:image/png;base64,iVBORw0KGgoAAAANSUhEUgAAADMAAAAQBAMAAABJt1qBAAAAMFBMVEX///8AAAAAAAAAAAAAAAAA\n",
       "AAAAAAAAAAAAAAAAAAAAAAAAAAAAAAAAAAAAAAAAAAAv3aB7AAAAD3RSTlMAIquJdkTvuxBmmd1U\n",
       "zTKBpmoTAAAACXBIWXMAAA7EAAAOxAGVKw4bAAAAzElEQVQY02NgwABz0+tvp09gwAoKhBiCpjdg\n",
       "lxJmYOdTwCXFJXABRch99+4LcKkCZJlYD4Qupg6QgYzKjg4gAcYbSAY+PysAZIQJsP8ACfAKwKXE\n",
       "bv8GmcCRycC1ASyF5IyZvSCa6wMDtwGI8Ww3EBRApNg7QV5mK2DoDwAJtCPp4ltQAaT7HRjmgwW4\n",
       "kf21ThwkdYBBlwfkAhYHJKl2FqCJ7A48u7jAInfgUlIMnBNKgS5UsRPyA4s0lTbAQr6Qofz+AeTg\n",
       "CK7ejRxyAISENKeL/c93AAAAAElFTkSuQmCC\n",
       "\" style=\"display:inline;vertical-align:middle;\" /></a> <a class=\"ProveItLink\" href=\"../__pv_it/demonstrations/6e27b95815123d67f2ee54efbaac10ded4139dfe0/proof.ipynb\" style=\"text-decoration: none\">&nbsp;&#x22A2;&nbsp;&nbsp;</a><a class=\"ProveItLink\" href=\"../__pv_it/demonstrations/9581d76e2d71b1f75abda6b23ba5030ff226567f0/expr.ipynb\"><img src=\"data:image/png;base64,iVBORw0KGgoAAAANSUhEUgAAAGoAAAAVBAMAAABce2awAAAAMFBMVEX///8AAAAAAAAAAAAAAAAA\n",
       "AAAAAAAAAAAAAAAAAAAAAAAAAAAAAAAAAAAAAAAAAAAv3aB7AAAAD3RSTlMAIqvd77tmEHbNmTJE\n",
       "VIk1oG/QAAAACXBIWXMAAA7EAAAOxAGVKw4bAAABrUlEQVQ4y5WUP0gCcRTHv/45z3+XhyUENTg0\n",
       "2FCJ0VBQmVBToG1u3tzSEQVCg2dTUKSE2GoIjVm0Fkk0tGU0tYQ0BS3SUA0JvZ9/zu70IB/87j3e\n",
       "4/N7f36/3wG9RdSof4q90tT3BnHvYpipaEgckjrelzYtGWC+T/rYpkQ8FFQfn21bxwZUcpbtWZLB\n",
       "d3xONcW6EZWhlq+I+iPWjiUbUCmqTNFSz6rlMGgsaaZxSCXZlPO7cid7AeY7o2WaTCvAgL9rfG/D\n",
       "jHLXIciUy+GHZQI37IjytO5E7ovG1JhLcZpJiJnuJSSoriRmYAdRnB9cGB5W0jyNcQXOICCEdam2\n",
       "JBRZLmTE0TYVg4fKwiqNsQZLFXDVdFQJWGhQqarSTVljSJWpIH2uZfA/DYoLSzqKKkwp2CBLCGr7\n",
       "4r9hqzUo94eso+JEVTAuiLDFtKn4OszZR+CWZQXdKEIcLeoV4BRhzkntVXUVxvFUKMAXzeMAu9Gj\n",
       "kbHIzlTkOhGh0CVtGnj37gOWso7aPLwInPc+eYvqH+zjednU63/az6tca2lTrB9qu6W5vn4BJqWp\n",
       "073Dv1SsYsfK5DOmAAAAAElFTkSuQmCC\n",
       "\" style=\"display:inline;vertical-align:middle;\" /></a></span>"
      ],
      "text/plain": [
       "{a in Real} |- Min(a) = a"
      ]
     },
     "metadata": {},
     "output_type": "display_data"
    }
   ],
   "source": [
    "# As long as we know the arg is Real, Min(arg) = arg.\n",
    "Min(a).definition(assumptions=temp_min_assumptions)"
   ]
  },
  {
   "cell_type": "code",
   "execution_count": 50,
   "metadata": {},
   "outputs": [
    {
     "data": {
      "text/html": [
       "<span style=\"font-size:20px;\"><a class=\"ProveItLink\" href=\"../__pv_it/theorems/4aa8d696b1f407d6126de9f51a052e8d90e0848c0/expr.ipynb\"><img src=\"data:image/png;base64,iVBORw0KGgoAAAANSUhEUgAAADMAAAAQBAMAAABJt1qBAAAAMFBMVEX///8AAAAAAAAAAAAAAAAA\n",
       "AAAAAAAAAAAAAAAAAAAAAAAAAAAAAAAAAAAAAAAAAAAv3aB7AAAAD3RSTlMAIquJdkTvuxBmmd1U\n",
       "zTKBpmoTAAAACXBIWXMAAA7EAAAOxAGVKw4bAAAAzElEQVQY02NgwABz0+tvp09gwAoKhBiCpjdg\n",
       "lxJmYOdTwCXFJXABRch99+4LcKkCZJlYD4Qupg6QgYzKjg4gAcYbSAY+PysAZIQJsP8ACfAKwKXE\n",
       "bv8GmcCRycC1ASyF5IyZvSCa6wMDtwGI8Ww3EBRApNg7QV5mK2DoDwAJtCPp4ltQAaT7HRjmgwW4\n",
       "kf21ThwkdYBBlwfkAhYHJKl2FqCJ7A48u7jAInfgUlIMnBNKgS5UsRPyA4s0lTbAQr6Qofz+AeTg\n",
       "CK7ejRxyAISENKeL/c93AAAAAElFTkSuQmCC\n",
       "\" style=\"display:inline;vertical-align:middle;\" /></a> <a class=\"ProveItLink\" href=\"../__pv_it/demonstrations/6e27b95815123d67f2ee54efbaac10ded4139dfe0/proof.ipynb\" style=\"text-decoration: none\">&nbsp;&#x22A2;&nbsp;&nbsp;</a><a class=\"ProveItLink\" href=\"../__pv_it/demonstrations/9581d76e2d71b1f75abda6b23ba5030ff226567f0/expr.ipynb\"><img src=\"data:image/png;base64,iVBORw0KGgoAAAANSUhEUgAAAGoAAAAVBAMAAABce2awAAAAMFBMVEX///8AAAAAAAAAAAAAAAAA\n",
       "AAAAAAAAAAAAAAAAAAAAAAAAAAAAAAAAAAAAAAAAAAAv3aB7AAAAD3RSTlMAIqvd77tmEHbNmTJE\n",
       "VIk1oG/QAAAACXBIWXMAAA7EAAAOxAGVKw4bAAABrUlEQVQ4y5WUP0gCcRTHv/45z3+XhyUENTg0\n",
       "2FCJ0VBQmVBToG1u3tzSEQVCg2dTUKSE2GoIjVm0Fkk0tGU0tYQ0BS3SUA0JvZ9/zu70IB/87j3e\n",
       "4/N7f36/3wG9RdSof4q90tT3BnHvYpipaEgckjrelzYtGWC+T/rYpkQ8FFQfn21bxwZUcpbtWZLB\n",
       "d3xONcW6EZWhlq+I+iPWjiUbUCmqTNFSz6rlMGgsaaZxSCXZlPO7cid7AeY7o2WaTCvAgL9rfG/D\n",
       "jHLXIciUy+GHZQI37IjytO5E7ovG1JhLcZpJiJnuJSSoriRmYAdRnB9cGB5W0jyNcQXOICCEdam2\n",
       "JBRZLmTE0TYVg4fKwiqNsQZLFXDVdFQJWGhQqarSTVljSJWpIH2uZfA/DYoLSzqKKkwp2CBLCGr7\n",
       "4r9hqzUo94eso+JEVTAuiLDFtKn4OszZR+CWZQXdKEIcLeoV4BRhzkntVXUVxvFUKMAXzeMAu9Gj\n",
       "kbHIzlTkOhGh0CVtGnj37gOWso7aPLwInPc+eYvqH+zjednU63/az6tca2lTrB9qu6W5vn4BJqWp\n",
       "073Dv1SsYsfK5DOmAAAAAElFTkSuQmCC\n",
       "\" style=\"display:inline;vertical-align:middle;\" /></a></span>"
      ],
      "text/plain": [
       "{a in Real} |- Min(a) = a"
      ]
     },
     "metadata": {},
     "output_type": "display_data"
    }
   ],
   "source": [
    "Min(a).simplification(assumptions=temp_min_assumptions)"
   ]
  },
  {
   "cell_type": "code",
   "execution_count": 51,
   "metadata": {},
   "outputs": [
    {
     "data": {
      "text/html": [
       "<span style=\"font-size:20px;\"> <a class=\"ProveItLink\" href=\"../__pv_it/demonstrations/dbc7dc74575715a54442388892999fdc0dd186d50/proof.ipynb\" style=\"text-decoration: none\">&nbsp;&#x22A2;&nbsp;&nbsp;</a><a class=\"ProveItLink\" href=\"../__pv_it/demonstrations/ef7c9be9fa7dc16844e6e0e1d392683c19a0f2c90/expr.ipynb\"><img src=\"data:image/png;base64,iVBORw0KGgoAAAANSUhEUgAAAMQAAAAVBAMAAADr6lzSAAAAMFBMVEX///8AAAAAAAAAAAAAAAAA\n",
       "AAAAAAAAAAAAAAAAAAAAAAAAAAAAAAAAAAAAAAAAAAAv3aB7AAAAD3RSTlMAIqvd77tmEHbNmTJE\n",
       "VIk1oG/QAAAACXBIWXMAAA7EAAAOxAGVKw4bAAAC5klEQVRIx42VTUgUYRjH/+Pu7Mx+tYMlFHVY\n",
       "ScoIdTEiij6WrSwicIsNootD0KEuDZEgdJjRoKQCRUyhUxEIXVLsFBQu4SG67EKFdKmlbnVxS9ws\n",
       "lJ5n1t113tmlGXB2fJ/n//6ej/cDqP9o//kfHnVSQ081Lwy89UZw6SIW0HwsyZ+93doWvWb5vMFL\n",
       "ySRIq4vh7VziH/+vVqmnvg79x+l1h/5alukV6NKQe1ybdXSja5ANk2LAUh9TLxcR+dNAh0csNoCB\n",
       "g5zgtAGlZgs5Yo5x9tdEhHKb57tXAowGOqxy8BTfwAi16NW0sdHmd3jm2OY3RMRwEQi/KzXWRWzb\n",
       "KUKYxLGciE8O1292tcRmKHepQGqo1Fi3KcHvCUI0Ub/1aUMaj4fHnwy38/BzrnXnoFV2HRvuIP+4\n",
       "iLDaqAyE2JbCyzNbhyyXLtg+RCX+SojIKqIGZRGMw9eBOa1MxrwmlyNUVgxTQ8Du5NN9/HSXEbk8\n",
       "FjiLMaA7Hy6KOpiTCg1eJQT2QwUh5DjkJGJckCM0Qw9CdqKIluC3EE26svClYTHiPJABlkUdvhg4\n",
       "DXxgxIi2o4JII8ZZnqXFsQhfobxMRhErILzoQqhFKbuOuAD8FnV4BqwBc4wwC5Yb4U/DzNqepKCS\n",
       "RNxZKGsqXIiaDkdBPcA8I+SkLiAoYdPC9eq2IGs04eoFMgEB4dDRtmDre0ZEfhoC4iK55rEnqvF2\n",
       "jM1QfRFIu7JAbreAcOjwFzepsVeAN8BJgA4Qmj+4jqCFJlvRQyGYtI6adJl2TqggHnBxLkpT0Z7/\n",
       "YRnh0GEXLtkLuaV3Ag8w1Du2vS11qyv1ui9Fwy8oyPYfzffhO0BfnVPckaxwRGVWdDWrtq20zp7Y\n",
       "Pbu09+NSXNDhxndenYfrn8m+mcrXQuVjs5ezvI5OStR3DVQP3Wp5prwg6uhCegPfc7WergeT9nQl\n",
       "uXRoaeTaX7nFKgOyt5vVpatCXY9kCQOD3i5Wl07V8A9lYNkuKWG1agAAAABJRU5ErkJggg==\n",
       "\" style=\"display:inline;vertical-align:middle;\" /></a></span>"
      ],
      "text/plain": [
       "|- Min(a, b) = Min(a, b)"
      ]
     },
     "metadata": {},
     "output_type": "display_data"
    }
   ],
   "source": [
    "# If we don't know the relationship between a and b,\n",
    "# we simply get a self-equality in the binary case\n",
    "Min(a, b).simplification()"
   ]
  },
  {
   "cell_type": "markdown",
   "metadata": {},
   "source": [
    "### `LessEq.add_left` and `LessEq.add_right`"
   ]
  },
  {
   "cell_type": "code",
   "execution_count": 52,
   "metadata": {},
   "outputs": [
    {
     "data": {
      "text/html": [
       "<strong id=\"a_less_eq_b\">a_less_eq_b:</strong> <a class=\"ProveItLink\" href=\"../__pv_it/demonstrations/d334def440d0d2ef87948beef2b49c743b1328ac0/expr.ipynb\"><img src=\"data:image/png;base64,iVBORw0KGgoAAAANSUhEUgAAADAAAAARBAMAAABp3DInAAAAMFBMVEX///8AAAAAAAAAAAAAAAAA\n",
       "AAAAAAAAAAAAAAAAAAAAAAAAAAAAAAAAAAAAAAAAAAAv3aB7AAAAD3RSTlMAIquJdkTvuxBmmd1U\n",
       "zTKBpmoTAAAACXBIWXMAAA7EAAAOxAGVKw4bAAAAs0lEQVQY02NgwALaszGEeC6CqVvo4py7GsD0\n",
       "HzRxls0QcdYfqOLNW6AM5g0gklHZ0QHM7doJU8Gr4nSAgSFMgB2ss+kOXGv/DY6PDByZDFxgnUwI\n",
       "ifMNDCkMXB8YuA3AXCm4UWsZGD4zsBUw9AegWb6ZgfUPQ78Dw3x05/5h4PrB0H+AQZdHANWD/xja\n",
       "JjCwO/Ds4kIEyT0QqclQxcDAoWIn5IcWAk1WExgoAd27QWAfjAsAOFswJenq0dEAAAAASUVORK5C\n",
       "YII=\n",
       "\" style=\"display:inline;vertical-align:middle;\" /></a><br>"
      ],
      "text/plain": [
       "<IPython.core.display.HTML object>"
      ]
     },
     "metadata": {},
     "output_type": "display_data"
    }
   ],
   "source": [
    "a_less_eq_b = LessEq(a, b)"
   ]
  },
  {
   "cell_type": "code",
   "execution_count": 53,
   "metadata": {},
   "outputs": [
    {
     "data": {
      "text/html": [
       "<span style=\"font-size:20px;\"><a class=\"ProveItLink\" href=\"../__pv_it/theorems/4aa8d696b1f407d6126de9f51a052e8d90e0848c0/expr.ipynb\"><img src=\"data:image/png;base64,iVBORw0KGgoAAAANSUhEUgAAADMAAAAQBAMAAABJt1qBAAAAMFBMVEX///8AAAAAAAAAAAAAAAAA\n",
       "AAAAAAAAAAAAAAAAAAAAAAAAAAAAAAAAAAAAAAAAAAAv3aB7AAAAD3RSTlMAIquJdkTvuxBmmd1U\n",
       "zTKBpmoTAAAACXBIWXMAAA7EAAAOxAGVKw4bAAAAzElEQVQY02NgwABz0+tvp09gwAoKhBiCpjdg\n",
       "lxJmYOdTwCXFJXABRch99+4LcKkCZJlYD4Qupg6QgYzKjg4gAcYbSAY+PysAZIQJsP8ACfAKwKXE\n",
       "bv8GmcCRycC1ASyF5IyZvSCa6wMDtwGI8Ww3EBRApNg7QV5mK2DoDwAJtCPp4ltQAaT7HRjmgwW4\n",
       "kf21ThwkdYBBlwfkAhYHJKl2FqCJ7A48u7jAInfgUlIMnBNKgS5UsRPyA4s0lTbAQr6Qofz+AeTg\n",
       "CK7ejRxyAISENKeL/c93AAAAAElFTkSuQmCC\n",
       "\" style=\"display:inline;vertical-align:middle;\" /></a>, <a class=\"ProveItLink\" href=\"../__pv_it/theorems/6e5cad5b2984ed0d75bd47bd0c542ec447a4f3570/expr.ipynb\"><img src=\"data:image/png;base64,iVBORw0KGgoAAAANSUhEUgAAADEAAAAQBAMAAABNQoq8AAAAMFBMVEX///8AAAAAAAAAAAAAAAAA\n",
       "AAAAAAAAAAAAAAAAAAAAAAAAAAAAAAAAAAAAAAAAAAAv3aB7AAAAD3RSTlMAELvv3c2ZVESJq3Yi\n",
       "MmZ3LnoBAAAACXBIWXMAAA7EAAAOxAGVKw4bAAAA1ElEQVQY02NgQAdPjfRDjB4AGYzKDmhSCqcY\n",
       "uh4JABmsCegyJxmYeBcAGfwFmDJsBwKAjH4BqMgmF5cAuIwCkDEFKtG6EaGHSxBkWtTu5SA+TyCS\n",
       "aZdKDwDd9lVA/gDIIQfgModDvoD0s39kYN4AkkFywTtREM0WwMA/AUhfdgECBYgMkxzIpywTGPpB\n",
       "7hZC0sOboAjxTj7I3SzI/sk9BJK5wGgH4nNvQJIR4gYax/WACRI84XCZYwx8DzSArl6ZBxGQ0hCA\n",
       "hbUOg1I8cph1qkBCBwoAxe43BugJR6MAAAAASUVORK5CYII=\n",
       "\" style=\"display:inline;vertical-align:middle;\" /></a>, <a class=\"ProveItLink\" href=\"../__pv_it/demonstrations/d334def440d0d2ef87948beef2b49c743b1328ac0/expr.ipynb\"><img src=\"data:image/png;base64,iVBORw0KGgoAAAANSUhEUgAAADAAAAARBAMAAABp3DInAAAAMFBMVEX///8AAAAAAAAAAAAAAAAA\n",
       "AAAAAAAAAAAAAAAAAAAAAAAAAAAAAAAAAAAAAAAAAAAv3aB7AAAAD3RSTlMAIquJdkTvuxBmmd1U\n",
       "zTKBpmoTAAAACXBIWXMAAA7EAAAOxAGVKw4bAAAAs0lEQVQY02NgwALaszGEeC6CqVvo4py7GsD0\n",
       "HzRxls0QcdYfqOLNW6AM5g0gklHZ0QHM7doJU8Gr4nSAgSFMgB2ss+kOXGv/DY6PDByZDFxgnUwI\n",
       "ifMNDCkMXB8YuA3AXCm4UWsZGD4zsBUw9AegWb6ZgfUPQ78Dw3x05/5h4PrB0H+AQZdHANWD/xja\n",
       "JjCwO/Ds4kIEyT0QqclQxcDAoWIn5IcWAk1WExgoAd27QWAfjAsAOFswJenq0dEAAAAASUVORK5C\n",
       "YII=\n",
       "\" style=\"display:inline;vertical-align:middle;\" /></a> <a class=\"ProveItLink\" href=\"../__pv_it/demonstrations/6743428796d02bc212e732839a238d7da6ede8e50/proof.ipynb\" style=\"text-decoration: none\">&nbsp;&#x22A2;&nbsp;&nbsp;</a><a class=\"ProveItLink\" href=\"../__pv_it/demonstrations/818709ca26df8d4131b88bc58afddbad8242211c0/expr.ipynb\"><img src=\"data:image/png;base64,iVBORw0KGgoAAAANSUhEUgAAAH8AAAAVBAMAAACd/CwcAAAAMFBMVEX///8AAAAAAAAAAAAAAAAA\n",
       "AAAAAAAAAAAAAAAAAAAAAAAAAAAAAAAAAAAAAAAAAAAv3aB7AAAAD3RSTlMAInZUiRDNmWbv3US7\n",
       "qzJazP2FAAAACXBIWXMAAA7EAAAOxAGVKw4bAAAB4klEQVQ4y3WUTygEURzHf+sZu7OGnVyUUoM7\n",
       "m+S8BydFcxAl2pWUC+1BkZS9ceNIkg1FUzQ54bLLzYmQm9ocHaRkc+P3+xnevtm37zBv5tfnfd/v\n",
       "7wCADfqls0c0SF2yhsCZxtalQfo0nHGTR+VclV2kpC8DKz4jRkZ3e0MWHzMVJ6d4G5WWMRAfjESV\n",
       "e86DPUFxrf2bY0cu70uS7EkaZUZM5ebeYC/QAdMNvuoOg7dNSV74UGakXyswyHEEzo3s/wWihCu+\n",
       "GFmghDx2OKrAXOcDQP3db7THf0eiqUqByxwjs+SObX0qAkbZTdsQ4wsnp2VqK/P18lwCQg4Q34Jo\n",
       "XhEQn2A6IDjkJikQV1qGqoDIDnr2DnFybtnztj3vhHzNQCIFze8Mtv6HYPpYSY/WKX3uuYSggFmE\n",
       "tK94gHqFJDRuhpJo+vL+N4BbRjCEtAMbahWwDVZdEPlQGStD+HZJAJFrFEjCk7AVgRLmBWLFUCNZ\n",
       "jhTY5RAQGSK7OIoqHjTlrKxSNTFPz6CuvNa5DxB5xSrcD7d3q2V8pKaN+6EJac7L98ZFHCZC4iVd\n",
       "J/Jqq5qx07ABkVhWN0zh0QnWWthAyFWN/wlEfnM4LgsPlq1BJmoJWNX/NKOoQSJODYEOja2lCvkB\n",
       "L+ZyRSN83i8AAAAASUVORK5CYII=\n",
       "\" style=\"display:inline;vertical-align:middle;\" /></a></span>"
      ],
      "text/plain": [
       "{a in Real, b in Real, a <= b} |- (a + b) <= (-3)"
      ]
     },
     "metadata": {},
     "output_type": "display_data"
    }
   ],
   "source": [
    "a_less_eq_b.add_left(Neg(three), assumptions=[InSet(a, Real), InSet(b, Real), a_less_eq_b])"
   ]
  },
  {
   "cell_type": "code",
   "execution_count": 54,
   "metadata": {},
   "outputs": [
    {
     "data": {
      "text/html": [
       "<span style=\"font-size:20px;\"><a class=\"ProveItLink\" href=\"../__pv_it/theorems/4aa8d696b1f407d6126de9f51a052e8d90e0848c0/expr.ipynb\"><img src=\"data:image/png;base64,iVBORw0KGgoAAAANSUhEUgAAADMAAAAQBAMAAABJt1qBAAAAMFBMVEX///8AAAAAAAAAAAAAAAAA\n",
       "AAAAAAAAAAAAAAAAAAAAAAAAAAAAAAAAAAAAAAAAAAAv3aB7AAAAD3RSTlMAIquJdkTvuxBmmd1U\n",
       "zTKBpmoTAAAACXBIWXMAAA7EAAAOxAGVKw4bAAAAzElEQVQY02NgwABz0+tvp09gwAoKhBiCpjdg\n",
       "lxJmYOdTwCXFJXABRch99+4LcKkCZJlYD4Qupg6QgYzKjg4gAcYbSAY+PysAZIQJsP8ACfAKwKXE\n",
       "bv8GmcCRycC1ASyF5IyZvSCa6wMDtwGI8Ww3EBRApNg7QV5mK2DoDwAJtCPp4ltQAaT7HRjmgwW4\n",
       "kf21ThwkdYBBlwfkAhYHJKl2FqCJ7A48u7jAInfgUlIMnBNKgS5UsRPyA4s0lTbAQr6Qofz+AeTg\n",
       "CK7ejRxyAISENKeL/c93AAAAAElFTkSuQmCC\n",
       "\" style=\"display:inline;vertical-align:middle;\" /></a>, <a class=\"ProveItLink\" href=\"../__pv_it/theorems/6e5cad5b2984ed0d75bd47bd0c542ec447a4f3570/expr.ipynb\"><img src=\"data:image/png;base64,iVBORw0KGgoAAAANSUhEUgAAADEAAAAQBAMAAABNQoq8AAAAMFBMVEX///8AAAAAAAAAAAAAAAAA\n",
       "AAAAAAAAAAAAAAAAAAAAAAAAAAAAAAAAAAAAAAAAAAAv3aB7AAAAD3RSTlMAELvv3c2ZVESJq3Yi\n",
       "MmZ3LnoBAAAACXBIWXMAAA7EAAAOxAGVKw4bAAAA1ElEQVQY02NgQAdPjfRDjB4AGYzKDmhSCqcY\n",
       "uh4JABmsCegyJxmYeBcAGfwFmDJsBwKAjH4BqMgmF5cAuIwCkDEFKtG6EaGHSxBkWtTu5SA+TyCS\n",
       "aZdKDwDd9lVA/gDIIQfgModDvoD0s39kYN4AkkFywTtREM0WwMA/AUhfdgECBYgMkxzIpywTGPpB\n",
       "7hZC0sOboAjxTj7I3SzI/sk9BJK5wGgH4nNvQJIR4gYax/WACRI84XCZYwx8DzSArl6ZBxGQ0hCA\n",
       "hbUOg1I8cph1qkBCBwoAxe43BugJR6MAAAAASUVORK5CYII=\n",
       "\" style=\"display:inline;vertical-align:middle;\" /></a>, <a class=\"ProveItLink\" href=\"../__pv_it/demonstrations/d334def440d0d2ef87948beef2b49c743b1328ac0/expr.ipynb\"><img src=\"data:image/png;base64,iVBORw0KGgoAAAANSUhEUgAAADAAAAARBAMAAABp3DInAAAAMFBMVEX///8AAAAAAAAAAAAAAAAA\n",
       "AAAAAAAAAAAAAAAAAAAAAAAAAAAAAAAAAAAAAAAAAAAv3aB7AAAAD3RSTlMAIquJdkTvuxBmmd1U\n",
       "zTKBpmoTAAAACXBIWXMAAA7EAAAOxAGVKw4bAAAAs0lEQVQY02NgwALaszGEeC6CqVvo4py7GsD0\n",
       "HzRxls0QcdYfqOLNW6AM5g0gklHZ0QHM7doJU8Gr4nSAgSFMgB2ss+kOXGv/DY6PDByZDFxgnUwI\n",
       "ifMNDCkMXB8YuA3AXCm4UWsZGD4zsBUw9AegWb6ZgfUPQ78Dw3x05/5h4PrB0H+AQZdHANWD/xja\n",
       "JjCwO/Ds4kIEyT0QqclQxcDAoWIn5IcWAk1WExgoAd27QWAfjAsAOFswJenq0dEAAAAASUVORK5C\n",
       "YII=\n",
       "\" style=\"display:inline;vertical-align:middle;\" /></a> <a class=\"ProveItLink\" href=\"../__pv_it/demonstrations/39ca2edf7112ce1377a7302b9e96990ae7eff3cf0/proof.ipynb\" style=\"text-decoration: none\">&nbsp;&#x22A2;&nbsp;&nbsp;</a><a class=\"ProveItLink\" href=\"../__pv_it/demonstrations/b28d2beb3a5d59dedd031b58f4a8e6a064cb35f80/expr.ipynb\"><img src=\"data:image/png;base64,iVBORw0KGgoAAAANSUhEUgAAAGEAAAAVBAMAAACkm51HAAAAMFBMVEX///8AAAAAAAAAAAAAAAAA\n",
       "AAAAAAAAAAAAAAAAAAAAAAAAAAAAAAAAAAAAAAAAAAAv3aB7AAAAD3RSTlMAIquJdkTvuxBmmd1U\n",
       "zTKBpmoTAAAACXBIWXMAAA7EAAAOxAGVKw4bAAABj0lEQVQ4y3VTPUsDQRB9MbnkcjlDECttgqax\n",
       "EAJ2FpJYi14hNjZBbCSFqW08IihE5NJqYykJCIGIYA7k/oGxCyJiYS0Rmwjnx9xePm7X7MLeLG/m\n",
       "zczOvgPGrtB4GCnI1poE35QR9CxOimLZpSsDkeq/0Edmzmg/Ca4KdBfoCGi8ZTJbo+32MaWfdsNR\n",
       "v4ELnhBp+gQUKLA3KJvz7ZYBYkTNIOHoZhDUBsINgUGnL2CSKobm8z5WuRu4tCy5MquOwNim6HCa\n",
       "qqVirIHy87CYl8jqqB88423ulW7ahroHjTUwMWIkKPuDiV2xKxqGXoDWRSLLgJlhV1EDuAY+qT/b\n",
       "vi3adtrH900ku4iWYBnCzT1GE4rL1XgHDh0oBVg5XIrT9bpyofU4xq/pMfQGLAeLeop/wRgF/eC4\n",
       "yjF2WFfxEnn1ljZSyYv39Ua4gAP+Pc7Ze9Dg1czK1LogliQNr7xc5RlKnZSIhDFeu/dBceaCnlmJ\n",
       "2oN6UziB1wLnU9tbfvaY7F8LlSQOVeaQpsK0BM8Df/9nYXGYuOHfAAAAAElFTkSuQmCC\n",
       "\" style=\"display:inline;vertical-align:middle;\" /></a></span>"
      ],
      "text/plain": [
       "{a in Real, b in Real, a <= b} |- a <= (b + 3)"
      ]
     },
     "metadata": {},
     "output_type": "display_data"
    }
   ],
   "source": [
    "a_less_eq_b.add_right(three, assumptions=[InSet(a, Real), InSet(b, Real), a_less_eq_b])"
   ]
  },
  {
   "cell_type": "code",
   "execution_count": 55,
   "metadata": {},
   "outputs": [
    {
     "name": "stdout",
     "output_type": "stream",
     "text": [
      "ProofFailure, InstantiationFailure: Proof step failed assuming {a in Real, b in Real, a <= b}:\n",
      "Attempting to instantiate |- forall_{a, b, c in Real | a <= b, c <= 0} ((a + b) <= c) with {a: a, b: b, c: 3}:\n",
      "Unsatisfied condition: 3 <= 0. For debugging purposes, this is accessible via Instantiation.unsatisfied_condition with applicable assumptions in Instantiation.condition_assumptions.\n"
     ]
    }
   ],
   "source": [
    "# shouldn't be able to add_left a positive value to a LessEq:\n",
    "try:\n",
    "    a_less_eq_b.add_left(three, assumptions=[InSet(a, Real), InSet(b, Real), a_less_eq_b])\n",
    "    print(\"Shouldn't get this far!\")\n",
    "except ProofFailure as the_error:\n",
    "    print(\"ProofFailure, InstantiationFailure: {}\".format(the_error))"
   ]
  },
  {
   "cell_type": "code",
   "execution_count": 56,
   "metadata": {},
   "outputs": [
    {
     "data": {
      "text/html": [
       "<strong id=\"d_greater_eq_c\">d_greater_eq_c:</strong> <a class=\"ProveItLink\" href=\"../__pv_it/demonstrations/dd7cde7f151c3877c7acc1228f031919a02e4f440/expr.ipynb\"><img src=\"data:image/png;base64,iVBORw0KGgoAAAANSUhEUgAAAC8AAAARBAMAAAC/eehCAAAAMFBMVEX///8AAAAAAAAAAAAAAAAA\n",
       "AAAAAAAAAAAAAAAAAAAAAAAAAAAAAAAAAAAAAAAAAAAv3aB7AAAAD3RSTlMAMs3vmVREEIndIqt2\n",
       "u2aBbGR5AAAACXBIWXMAAA7EAAAOxAGVKw4bAAAAsElEQVQY02NgYGBgVHZgwA74A4BE0QNMifwC\n",
       "IMHeeQBDohNCnWxHl1CB0i9RZLh2HPwKYwd5QeiecwIMDMkLeL/DVSVtB5ErA1guMLDbMbAoICSu\n",
       "g8gZDMwHGFg+MHA2wI3aBSJZwCYwX2CoT4BZ7s4AFQKC+gMM7xlQnVsP9lB9AMMm1gUoHuQHhkEC\n",
       "A+8B1iksDChBAnQShwAD+57G1QfRPNzx7jgDJaByJghMhHEBZW4xcSYazeMAAAAASUVORK5CYII=\n",
       "\" style=\"display:inline;vertical-align:middle;\" /></a><br>"
      ],
      "text/plain": [
       "<IPython.core.display.HTML object>"
      ]
     },
     "metadata": {},
     "output_type": "display_data"
    }
   ],
   "source": [
    "d_greater_eq_c = greater_eq(d, c)"
   ]
  },
  {
   "cell_type": "code",
   "execution_count": 57,
   "metadata": {},
   "outputs": [
    {
     "data": {
      "text/html": [
       "<span style=\"font-size:20px;\"><a class=\"ProveItLink\" href=\"../__pv_it/demonstrations/d550e8309ef79ca46e4c9fb5617a392ea678789b0/expr.ipynb\"><img src=\"data:image/png;base64,iVBORw0KGgoAAAANSUhEUgAAADEAAAAQBAMAAABNQoq8AAAAMFBMVEX///8AAAAAAAAAAAAAAAAA\n",
       "AAAAAAAAAAAAAAAAAAAAAAAAAAAAAAAAAAAAAAAAAAAv3aB7AAAAD3RSTlMAiXZmMiLdVJm77xBE\n",
       "zatgdeJyAAAACXBIWXMAAA7EAAAOxAGVKw4bAAAAvUlEQVQY02NgQAe2K+dfW2nAgA1MiGM4Z7kB\n",
       "q0wgAyfLAxwyHAEXkEU009IuwGUmIEmc1Ubo4dsNNk1I2QFIst5GMs2zNgDICCvgAGnlDYDLRF37\n",
       "BtafyMClAJJBcoHxXhDN8RvC90oDggkQGc7NIJ9yQV2xE0kPS8NsIL1fAcJnQ/ZPSySQ5gdqPACk\n",
       "mRSQZHYyAUWBDmMEuZrhOlwmgoHZYA6QIWgM8eK+ORtgYT2VYeb9AqRAODgtDTm0ALktNaaWdOV1\n",
       "AAAAAElFTkSuQmCC\n",
       "\" style=\"display:inline;vertical-align:middle;\" /></a>, <a class=\"ProveItLink\" href=\"../__pv_it/demonstrations/41c3ad9f29c40b69fd61c49f41684c1b813e9e850/expr.ipynb\"><img src=\"data:image/png;base64,iVBORw0KGgoAAAANSUhEUgAAADMAAAAQBAMAAABJt1qBAAAAMFBMVEX///8AAAAAAAAAAAAAAAAA\n",
       "AAAAAAAAAAAAAAAAAAAAAAAAAAAAAAAAAAAAAAAAAAAv3aB7AAAAD3RSTlMAMs3vmVREEIndIqt2\n",
       "u2aBbGR5AAAACXBIWXMAAA7EAAAOxAGVKw4bAAAA3klEQVQY02NgwACPbO9r2j6AsBmVHVDkLqxm\n",
       "yH5bAGHzB6BKrWDgZdwAYecXoEuxLFCAsDsh1NmZMxXgUhcgYipgMuk4Qhd3OchArh0Hv4IEuNSR\n",
       "DJQNWgBkJC/g/Q4SYFoAl1qs+RNkArsdAwvYBiYkZ7wrAtEsHxg4G0AM4ZlAcAEixVsH8jLzBYb6\n",
       "BJBALZIuRofrQLr+AMN7sAAnsr8c14KkAhg2sYJcwHMASaqWB2gi7wHWKSxgEVW41BIGvgfXgC7c\n",
       "07j6IFik+loBLORvMdzVRwnXjJszFZC4AHM6StvnxMwUAAAAAElFTkSuQmCC\n",
       "\" style=\"display:inline;vertical-align:middle;\" /></a>, <a class=\"ProveItLink\" href=\"../__pv_it/demonstrations/dd7cde7f151c3877c7acc1228f031919a02e4f440/expr.ipynb\"><img src=\"data:image/png;base64,iVBORw0KGgoAAAANSUhEUgAAAC8AAAARBAMAAAC/eehCAAAAMFBMVEX///8AAAAAAAAAAAAAAAAA\n",
       "AAAAAAAAAAAAAAAAAAAAAAAAAAAAAAAAAAAAAAAAAAAv3aB7AAAAD3RSTlMAMs3vmVREEIndIqt2\n",
       "u2aBbGR5AAAACXBIWXMAAA7EAAAOxAGVKw4bAAAAsElEQVQY02NgYGBgVHZgwA74A4BE0QNMifwC\n",
       "IMHeeQBDohNCnWxHl1CB0i9RZLh2HPwKYwd5QeiecwIMDMkLeL/DVSVtB5ErA1guMLDbMbAoICSu\n",
       "g8gZDMwHGFg+MHA2wI3aBSJZwCYwX2CoT4BZ7s4AFQKC+gMM7xlQnVsP9lB9AMMm1gUoHuQHhkEC\n",
       "A+8B1iksDChBAnQShwAD+57G1QfRPNzx7jgDJaByJghMhHEBZW4xcSYazeMAAAAASUVORK5CYII=\n",
       "\" style=\"display:inline;vertical-align:middle;\" /></a> <a class=\"ProveItLink\" href=\"../__pv_it/demonstrations/3f89f7634bfc9f6ceb14a00d234c14f54b09f7130/proof.ipynb\" style=\"text-decoration: none\">&nbsp;&#x22A2;&nbsp;&nbsp;</a><a class=\"ProveItLink\" href=\"../__pv_it/demonstrations/cf6f7d26775eba2addffc3bf87f8d992f99935ad0/expr.ipynb\"><img src=\"data:image/png;base64,iVBORw0KGgoAAAANSUhEUgAAAGEAAAAVBAMAAACkm51HAAAAMFBMVEX///8AAAAAAAAAAAAAAAAA\n",
       "AAAAAAAAAAAAAAAAAAAAAAAAAAAAAAAAAAAAAAAAAAAv3aB7AAAAD3RSTlMAInZUiRDNmWbv3US7\n",
       "qzJazP2FAAAACXBIWXMAAA7EAAAOxAGVKw4bAAABiUlEQVQ4y2NgYBBgwA4YcYgzMBngkOBWwCFh\n",
       "AiL4MgtQBEXcTzMwaGDXwJoApvhRbGItYLA3YGALALMz0HSwN4Cp/QEQl0B4TJ8Z4hMYOCD2hixC\n",
       "1cEJobwgFDPE7dyzGfiBdk+F+nRJALIOMwiVjqIDCOyBtsHcw4GipQQUjlf0PqPp4F4BJHxhipjT\n",
       "oVHgpPEAbM5OAZ6vqDr4dO8ByTZESOeCbZEyYD/AsBgYGjMY2BMwXAUMPEuEjhywjiUMnAoMs4HB\n",
       "9YGBywEUbKtWrZy1atUFSIgAbX0Pd1Uu2FXsYJcAdXAeYIjfgGIH3wMGHqDPdsJ8vhzic6BCIAC6\n",
       "Kl6BoZ8BRQf/V7AOK7TQjQfLHgIyDBiuMQsg6+C8AHZVD1oM8gNDfAMoBHkUmJezo9jB0QCOjxK0\n",
       "VAIMKJYHDK+AYpf8ZPVQw2p7OTAlMqxGT4QuHaoMDFwPkIWYkVM44wKsaZcDJZlDUyJKIsUAB3Fl\n",
       "NQYZSMpfBQZITonBqQOXWYy4MicT9gIAADp+UoHlsUAHAAAAAElFTkSuQmCC\n",
       "\" style=\"display:inline;vertical-align:middle;\" /></a></span>"
      ],
      "text/plain": [
       "{c in Real, d in Real, d >= c} |- (d + 3) >= c"
      ]
     },
     "metadata": {},
     "output_type": "display_data"
    }
   ],
   "source": [
    "d_greater_eq_c.add_left(three, assumptions=[InSet(c, Real), InSet(d, Real), d_greater_eq_c])"
   ]
  },
  {
   "cell_type": "code",
   "execution_count": 58,
   "metadata": {},
   "outputs": [
    {
     "data": {
      "text/html": [
       "<span style=\"font-size:20px;\"><a class=\"ProveItLink\" href=\"../__pv_it/demonstrations/d550e8309ef79ca46e4c9fb5617a392ea678789b0/expr.ipynb\"><img src=\"data:image/png;base64,iVBORw0KGgoAAAANSUhEUgAAADEAAAAQBAMAAABNQoq8AAAAMFBMVEX///8AAAAAAAAAAAAAAAAA\n",
       "AAAAAAAAAAAAAAAAAAAAAAAAAAAAAAAAAAAAAAAAAAAv3aB7AAAAD3RSTlMAiXZmMiLdVJm77xBE\n",
       "zatgdeJyAAAACXBIWXMAAA7EAAAOxAGVKw4bAAAAvUlEQVQY02NgQAe2K+dfW2nAgA1MiGM4Z7kB\n",
       "q0wgAyfLAxwyHAEXkEU009IuwGUmIEmc1Ubo4dsNNk1I2QFIst5GMs2zNgDICCvgAGnlDYDLRF37\n",
       "BtafyMClAJJBcoHxXhDN8RvC90oDggkQGc7NIJ9yQV2xE0kPS8NsIL1fAcJnQ/ZPSySQ5gdqPACk\n",
       "mRSQZHYyAUWBDmMEuZrhOlwmgoHZYA6QIWgM8eK+ORtgYT2VYeb9AqRAODgtDTm0ALktNaaWdOV1\n",
       "AAAAAElFTkSuQmCC\n",
       "\" style=\"display:inline;vertical-align:middle;\" /></a>, <a class=\"ProveItLink\" href=\"../__pv_it/demonstrations/41c3ad9f29c40b69fd61c49f41684c1b813e9e850/expr.ipynb\"><img src=\"data:image/png;base64,iVBORw0KGgoAAAANSUhEUgAAADMAAAAQBAMAAABJt1qBAAAAMFBMVEX///8AAAAAAAAAAAAAAAAA\n",
       "AAAAAAAAAAAAAAAAAAAAAAAAAAAAAAAAAAAAAAAAAAAv3aB7AAAAD3RSTlMAMs3vmVREEIndIqt2\n",
       "u2aBbGR5AAAACXBIWXMAAA7EAAAOxAGVKw4bAAAA3klEQVQY02NgwACPbO9r2j6AsBmVHVDkLqxm\n",
       "yH5bAGHzB6BKrWDgZdwAYecXoEuxLFCAsDsh1NmZMxXgUhcgYipgMuk4Qhd3OchArh0Hv4IEuNSR\n",
       "DJQNWgBkJC/g/Q4SYFoAl1qs+RNkArsdAwvYBiYkZ7wrAtEsHxg4G0AM4ZlAcAEixVsH8jLzBYb6\n",
       "BJBALZIuRofrQLr+AMN7sAAnsr8c14KkAhg2sYJcwHMASaqWB2gi7wHWKSxgEVW41BIGvgfXgC7c\n",
       "07j6IFik+loBLORvMdzVRwnXjJszFZC4AHM6StvnxMwUAAAAAElFTkSuQmCC\n",
       "\" style=\"display:inline;vertical-align:middle;\" /></a>, <a class=\"ProveItLink\" href=\"../__pv_it/demonstrations/dd7cde7f151c3877c7acc1228f031919a02e4f440/expr.ipynb\"><img src=\"data:image/png;base64,iVBORw0KGgoAAAANSUhEUgAAAC8AAAARBAMAAAC/eehCAAAAMFBMVEX///8AAAAAAAAAAAAAAAAA\n",
       "AAAAAAAAAAAAAAAAAAAAAAAAAAAAAAAAAAAAAAAAAAAv3aB7AAAAD3RSTlMAMs3vmVREEIndIqt2\n",
       "u2aBbGR5AAAACXBIWXMAAA7EAAAOxAGVKw4bAAAAsElEQVQY02NgYGBgVHZgwA74A4BE0QNMifwC\n",
       "IMHeeQBDohNCnWxHl1CB0i9RZLh2HPwKYwd5QeiecwIMDMkLeL/DVSVtB5ErA1guMLDbMbAoICSu\n",
       "g8gZDMwHGFg+MHA2wI3aBSJZwCYwX2CoT4BZ7s4AFQKC+gMM7xlQnVsP9lB9AMMm1gUoHuQHhkEC\n",
       "A+8B1iksDChBAnQShwAD+57G1QfRPNzx7jgDJaByJghMhHEBZW4xcSYazeMAAAAASUVORK5CYII=\n",
       "\" style=\"display:inline;vertical-align:middle;\" /></a> <a class=\"ProveItLink\" href=\"../__pv_it/demonstrations/bdb49e0b2f636d95f5018cb20d9d0057443d5ab80/proof.ipynb\" style=\"text-decoration: none\">&nbsp;&#x22A2;&nbsp;&nbsp;</a><a class=\"ProveItLink\" href=\"../__pv_it/demonstrations/650d9708a3ed739e64fa21ca5b5e10c8a05a90720/expr.ipynb\"><img src=\"data:image/png;base64,iVBORw0KGgoAAAANSUhEUgAAAIAAAAAVBAMAAAB8u/sIAAAAMFBMVEX///8AAAAAAAAAAAAAAAAA\n",
       "AAAAAAAAAAAAAAAAAAAAAAAAAAAAAAAAAAAAAAAAAAAv3aB7AAAAD3RSTlMAInZUiRDNmWbv3US7\n",
       "qzJazP2FAAAACXBIWXMAAA7EAAAOxAGVKw4bAAAB0UlEQVQ4y3WUO0vDUBTHT9+NVdvBSRQyKHQR\n",
       "KpSCXQpFcCp0cBEq7aaIhQxFRzuJg4uDCNahaEGNi5u41a4OFj+A1MXBpWLI5OI5N2nuo+kZQu7J\n",
       "L/+cZwAgBaIFwMdS4G8MDmYkX0If5xREgbP8PLfxCpAe57L+r39dEBypeY6IAYUMRMvsfpeDAiKb\n",
       "RXCsySO1oFqDuMEOm9eeX0Awan5I2ARrwrMWJPFj565cp+z6NfGrIV6jcJvgnBRUAfVHwcdHCrkJ\n",
       "AlGD4IZU1Tu8lDx2x2kfQ4rpgSywWBxmCBaKBbMrH3g95np1FgMh85lYVxJInMFbmeAbOQUUXeMC\n",
       "+0yAkA5ouiSw1YQDILiFbdozyShEzQYYeinUnRQQidlOP0zz/tI0+3h7RKIEt4QMBjBtATyPinjr\n",
       "FhERrasW8Qoif0CwkELSZgJ5tY2IVHVFIPIL8R8guMcFtD5L4VQdJESS2N5HScCCmdoqwSUuEG+y\n",
       "OWioo4wItiAst7EHecMg+FvowdMhLhM8qCNPyPrJslyD7aXP9wHBUwN1x9uqgISEdAV2dwf8V8dJ\n",
       "zfBfJhd+UfAFp0imNxvjiAxXFJ8PXZkoQHBA/ocFff5/AX3C+wj/AwoTbjNyK5RJAAAAAElFTkSu\n",
       "QmCC\n",
       "\" style=\"display:inline;vertical-align:middle;\" /></a></span>"
      ],
      "text/plain": [
       "{c in Real, d in Real, d >= c} |- (-3) >= (c + d)"
      ]
     },
     "metadata": {},
     "output_type": "display_data"
    }
   ],
   "source": [
    "d_greater_eq_c.add_right(Neg(three), assumptions=[InSet(c, Real), InSet(d, Real), d_greater_eq_c])"
   ]
  },
  {
   "cell_type": "code",
   "execution_count": 59,
   "metadata": {},
   "outputs": [
    {
     "name": "stdout",
     "output_type": "stream",
     "text": [
      "ProofFailure, InstantiationFailure: Proof step failed assuming {c in Real, d in Real, d >= c}:\n",
      "Attempting to instantiate |- forall_{a, b, c in Real | a <= b, c <= 0} ((a + b) <= c) with {a: c, b: d, c: 3}:\n",
      "Unsatisfied condition: 3 <= 0. For debugging purposes, this is accessible via Instantiation.unsatisfied_condition with applicable assumptions in Instantiation.condition_assumptions.\n"
     ]
    }
   ],
   "source": [
    "# shouldn't be able to add_right a positive value to a greater_eq:\n",
    "try:\n",
    "    d_greater_eq_c.add_right(three, assumptions=[InSet(c, Real), InSet(d, Real), d_greater_eq_c])\n",
    "    print(\"Shouldn't get this far!\")\n",
    "except ProofFailure as the_error:\n",
    "    print(\"ProofFailure, InstantiationFailure: {}\".format(the_error))"
   ]
  },
  {
   "cell_type": "markdown",
   "metadata": {},
   "source": [
    "### Work & Notes Related to the Creation of a `merging_dict` and Related merging function(s)"
   ]
  },
  {
   "cell_type": "markdown",
   "metadata": {},
   "source": [
    "Create a 'merging_dict' that maps each pair of standard number sets to the minimal standard number set that includes both. This dictionary can then be found in the number_operation.py file in the proveit.numbers package. Un-comment the following two code cells to see this in action:"
   ]
  },
  {
   "cell_type": "code",
   "execution_count": 60,
   "metadata": {},
   "outputs": [],
   "source": [
    "# from proveit.numbers import (\n",
    "#         NaturalPos, IntegerNeg, Natural, IntegerNonPos, IntegerNonZero, Integer,\n",
    "#         RationalPos, RationalNeg, RationalNonNeg, RationalNonPos, RationalNonZero, Rational,\n",
    "#         RealPos, RealNeg, RealNonNeg, RealNonPos, RealNonZero, Real, ComplexNonZero, Complex)\n",
    "# sorted_number_sets = (\n",
    "#     NaturalPos, IntegerNeg, Natural, IntegerNonPos, IntegerNonZero, Integer,\n",
    "#     RationalPos, RationalNeg, RationalNonNeg, RationalNonPos, RationalNonZero, Rational,\n",
    "#     RealPos, RealNeg, RealNonNeg, RealNonPos, RealNonZero, Real, ComplexNonZero, Complex)\n",
    "# merging_dict = {}\n",
    "# for i in range(0, len(sorted_number_sets)):\n",
    "#     print(sorted_number_sets[i])\n",
    "#     for j in range (i+1, len(sorted_number_sets)):\n",
    "#         for number_set in sorted_number_sets:\n",
    "#             if (number_set.includes(sorted_number_sets[i])\n",
    "#                 and number_set.includes(sorted_number_sets[j])):\n",
    "#                 merging_dict[(sorted_number_sets[i], sorted_number_sets[j])] = number_set\n",
    "#                 break"
   ]
  },
  {
   "cell_type": "markdown",
   "metadata": {},
   "source": [
    "The `merging_dict` then looks like this:"
   ]
  },
  {
   "cell_type": "code",
   "execution_count": 61,
   "metadata": {},
   "outputs": [],
   "source": [
    "# merging_dict"
   ]
  },
  {
   "cell_type": "markdown",
   "metadata": {},
   "source": [
    "### Automation via canonical forms"
   ]
  },
  {
   "cell_type": "code",
   "execution_count": 62,
   "metadata": {},
   "outputs": [
    {
     "data": {
      "text/html": [
       "<a class=\"ProveItLink\" href=\"../__pv_it/demonstrations/a47326beff5e0ca4a0b56a93f5eee644e30905dd0/expr.ipynb\"><img src=\"data:image/png;base64,iVBORw0KGgoAAAANSUhEUgAAAF8AAAAVBAMAAADSoS/MAAAAMFBMVEX///8AAAAAAAAAAAAAAAAA\n",
       "AAAAAAAAAAAAAAAAAAAAAAAAAAAAAAAAAAAAAAAAAAAv3aB7AAAAD3RSTlMAInZUiRDNmWbv3US7\n",
       "qzJazP2FAAAACXBIWXMAAA7EAAAOxAGVKw4bAAABhUlEQVQ4y3WTv0vDQBzFX3pt0zZa3QSndHUx\n",
       "g7jawVUIRXBxaBHBsYOog0Nc1LGzUqy1oM1U3BSE6uQi7T9QLI4OUhBFENHvNb+8JBcIefeSz33f\n",
       "3fcCYBqxl8QGEka8fy0DFqKWsrzfQcKKvshXgVSZ7nPRXwN7BzajQK4PqDQR+3DGmjvpvJH6BI6i\n",
       "wBwBWXqqDWfMdOd50wEBWdP/kFWcRIcELPJKRREg9QWk/UVkLh02mSZgG7jrPekh4JY+Tva9fWy5\n",
       "tQoc2CKxhFCFl8GQ5i07g9Wmt3kWBy5I7SASiXaJ1cZy5sozk+DAKakWH6q23T6xbTfHmYn8iIvJ\n",
       "DX/pBx6Q+g5VeAN6BrSaCCg63EhsBFMAfk0OsIYYSRsMnutFPFCYMhsKQH0cKdMNLZpaQxVWqGq/\n",
       "JEY6HvdBdbuDUtNr4RTN8UrhHi0R0Hbp8CHX8RvnNkLt/ejIDYOjEmwrv2YDman809VAa8KJ3pP8\n",
       "D/cSX+lKXqxL/AnZP6ro8X4h3v4DP0hYW+gr54gAAAAASUVORK5CYII=\n",
       "\" style=\"display:inline;vertical-align:middle;\" /></a>"
      ],
      "text/plain": [
       "(t + 3) < 4"
      ]
     },
     "metadata": {},
     "output_type": "display_data"
    },
    {
     "data": {
      "text/html": [
       "<a class=\"ProveItLink\" href=\"../__pv_it/demonstrations/1c797a4eacd8fa36ef67650f5fb3b815cb2c5cdd0/expr.ipynb\"><img src=\"data:image/png;base64,iVBORw0KGgoAAAANSUhEUgAAACwAAAAQBAMAAACfEoDkAAAAMFBMVEX///8AAAAAAAAAAAAAAAAA\n",
       "AAAAAAAAAAAAAAAAAAAAAAAAAAAAAAAAAAAAAAAAAAAv3aB7AAAAD3RSTlMAEN0iVJmJRKu7ds0y\n",
       "Zu8qwvqBAAAACXBIWXMAAA7EAAAOxAGVKw4bAAAAgUlEQVQY02NgwAQ8ikCCURlNVCL6I5Bk+Yiu\n",
       "mgskwqoA57NsRggzJcBEeVUF4MIV82csgOpVE0AyxB+qVkwLxexoCNtUF9VKNTCTYwuqSxi/YxVm\n",
       "+cAggMUQ1g0sB7BYydEgBeVJaUEdyPaZgYF57gW4dyAO5+j73YsSGLybGfADAMt2Hgknd+NZAAAA\n",
       "AElFTkSuQmCC\n",
       "\" style=\"display:inline;vertical-align:middle;\" /></a>"
      ],
      "text/plain": [
       "t < 1"
      ]
     },
     "metadata": {},
     "output_type": "display_data"
    }
   ],
   "source": [
    "expr = Less(Add(t, three), four)\n",
    "display(expr)\n",
    "expr.canonical_form()"
   ]
  },
  {
   "cell_type": "code",
   "execution_count": 63,
   "metadata": {},
   "outputs": [
    {
     "data": {
      "text/html": [
       "<span style=\"font-size:20px;\"><a class=\"ProveItLink\" href=\"../__pv_it/demonstrations/2b099af77e35e8e8ca0401dfccb0cc41422d65960/expr.ipynb\"><img src=\"data:image/png;base64,iVBORw0KGgoAAAANSUhEUgAAADAAAAAQBAMAAACigOGCAAAAMFBMVEX///8AAAAAAAAAAAAAAAAA\n",
       "AAAAAAAAAAAAAAAAAAAAAAAAAAAAAAAAAAAAAAAAAAAv3aB7AAAAD3RSTlMAEN0iVJmJRKu7ds0y\n",
       "Zu8qwvqBAAAACXBIWXMAAA7EAAAOxAGVKw4bAAAAx0lEQVQY02NgQAO8+2b+1pvLgAVwMjew904E\n",
       "MhiV0SUSGCacADJYPmJKBHMDGawKEIGVSkob4BKcQAZTAli8eiGSjkYJBoaK+TMWALnMG5GM4pmy\n",
       "GcjwB3O5DRASr/W1BICMaIgEkuW5F8GWqYG555SAYALUqIl3Qd74DpaQRHbuUU6gUSwfGEAGMiFL\n",
       "sB4G6mXdwHIAyOVagCTBOGEtAwNHgxSYvwUhEcBwl7OAgXnuBTBfYroALHR/GnDO/oIIo7JJkCCB\n",
       "AgCd+y6qx6l4EwAAAABJRU5ErkJggg==\n",
       "\" style=\"display:inline;vertical-align:middle;\" /></a>, <a class=\"ProveItLink\" href=\"../__pv_it/demonstrations/1c797a4eacd8fa36ef67650f5fb3b815cb2c5cdd0/expr.ipynb\"><img src=\"data:image/png;base64,iVBORw0KGgoAAAANSUhEUgAAACwAAAAQBAMAAACfEoDkAAAAMFBMVEX///8AAAAAAAAAAAAAAAAA\n",
       "AAAAAAAAAAAAAAAAAAAAAAAAAAAAAAAAAAAAAAAAAAAv3aB7AAAAD3RSTlMAEN0iVJmJRKu7ds0y\n",
       "Zu8qwvqBAAAACXBIWXMAAA7EAAAOxAGVKw4bAAAAgUlEQVQY02NgwAQ8ikCCURlNVCL6I5Bk+Yiu\n",
       "mgskwqoA57NsRggzJcBEeVUF4MIV82csgOpVE0AyxB+qVkwLxexoCNtUF9VKNTCTYwuqSxi/YxVm\n",
       "+cAggMUQ1g0sB7BYydEgBeVJaUEdyPaZgYF57gW4dyAO5+j73YsSGLybGfADAMt2Hgknd+NZAAAA\n",
       "AElFTkSuQmCC\n",
       "\" style=\"display:inline;vertical-align:middle;\" /></a> <a class=\"ProveItLink\" href=\"../__pv_it/demonstrations/ab3c9290c6f7db7649542cff67a013f7cf1b0d060/proof.ipynb\" style=\"text-decoration: none\">&nbsp;&#x22A2;&nbsp;&nbsp;</a><a class=\"ProveItLink\" href=\"../__pv_it/demonstrations/a47326beff5e0ca4a0b56a93f5eee644e30905dd0/expr.ipynb\"><img src=\"data:image/png;base64,iVBORw0KGgoAAAANSUhEUgAAAF8AAAAVBAMAAADSoS/MAAAAMFBMVEX///8AAAAAAAAAAAAAAAAA\n",
       "AAAAAAAAAAAAAAAAAAAAAAAAAAAAAAAAAAAAAAAAAAAv3aB7AAAAD3RSTlMAInZUiRDNmWbv3US7\n",
       "qzJazP2FAAAACXBIWXMAAA7EAAAOxAGVKw4bAAABhUlEQVQ4y3WTv0vDQBzFX3pt0zZa3QSndHUx\n",
       "g7jawVUIRXBxaBHBsYOog0Nc1LGzUqy1oM1U3BSE6uQi7T9QLI4OUhBFENHvNb+8JBcIefeSz33f\n",
       "3fcCYBqxl8QGEka8fy0DFqKWsrzfQcKKvshXgVSZ7nPRXwN7BzajQK4PqDQR+3DGmjvpvJH6BI6i\n",
       "wBwBWXqqDWfMdOd50wEBWdP/kFWcRIcELPJKRREg9QWk/UVkLh02mSZgG7jrPekh4JY+Tva9fWy5\n",
       "tQoc2CKxhFCFl8GQ5i07g9Wmt3kWBy5I7SASiXaJ1cZy5sozk+DAKakWH6q23T6xbTfHmYn8iIvJ\n",
       "DX/pBx6Q+g5VeAN6BrSaCCg63EhsBFMAfk0OsIYYSRsMnutFPFCYMhsKQH0cKdMNLZpaQxVWqGq/\n",
       "JEY6HvdBdbuDUtNr4RTN8UrhHi0R0Hbp8CHX8RvnNkLt/ejIDYOjEmwrv2YDman809VAa8KJ3pP8\n",
       "D/cSX+lKXqxL/AnZP6ro8X4h3v4DP0hYW+gr54gAAAAASUVORK5CYII=\n",
       "\" style=\"display:inline;vertical-align:middle;\" /></a></span>"
      ],
      "text/plain": [
       "{t in Real, t < 1} |- (t + 3) < 4"
      ]
     },
     "metadata": {},
     "output_type": "display_data"
    }
   ],
   "source": [
    "expr.prove(assumptions=[Less(t, one), InSet(t, Real)])"
   ]
  },
  {
   "cell_type": "code",
   "execution_count": 64,
   "metadata": {},
   "outputs": [
    {
     "data": {
      "text/html": [
       "<a class=\"ProveItLink\" href=\"../__pv_it/demonstrations/3e7d44b3ae7670ee47592c1bd794fa7f716fcb1d0/expr.ipynb\"><img src=\"data:image/png;base64,iVBORw0KGgoAAAANSUhEUgAAAF8AAAAVBAMAAADSoS/MAAAAMFBMVEX///8AAAAAAAAAAAAAAAAA\n",
       "AAAAAAAAAAAAAAAAAAAAAAAAAAAAAAAAAAAAAAAAAAAv3aB7AAAAD3RSTlMAInZUiRDNmWbv3US7\n",
       "qzJazP2FAAAACXBIWXMAAA7EAAAOxAGVKw4bAAABlUlEQVQ4y3VTMUjDQBR97TWmbaq4CU5xcrSD\n",
       "uNqh4KSEIrg4tIgguDiIWlDIplsLgoMi1lpQMwU3BaE6qSjtLAhFnBykIBbRof5L0sZLmoNL3r27\n",
       "9/+7f3cABtGzBdBAONmbvwgSjPupUHrTRFj38ZH0DCBlqR+LE3Ngn8CiL84yngGZArEvm1GcoGNJ\n",
       "qQVsewV9Kh6BGCG5ZDNMtf+XJkgQ07pLWY5/Jy1igno8JQoIfVPA7iaip9bSe2uwClzXnlSP4IoW\n",
       "R+qdOlbsXHtvoyawxHPBk+H1pUFxs/ZgtuywLR27wAmhNfgsUZVY0YJDZw4ntYG8hgOCFT6WDeN8\n",
       "3zAcH0caBpoc9C90gkg/QMHkAunXk+EDqCWhFEUBr1xB55ZYE5ogaGtcwEqiJTxYGW7JTJY1BMGh\n",
       "ZSla9WyaapMHpilrPSNa2rHOQXZOB5mybSCRkqhK73RH7nRRoKzT5UPc7B6ccxBTW+Qk3nAvi1tW\n",
       "3oZdGM39wysuVoQbvRHwHm4C+FA1YGI+gE8EvdGQ2psf6U3/ATz6WxKz6f/NAAAAAElFTkSuQmCC\n",
       "\" style=\"display:inline;vertical-align:middle;\" /></a>"
      ],
      "text/plain": [
       "(t + 3) < 6"
      ]
     },
     "metadata": {},
     "output_type": "display_data"
    },
    {
     "data": {
      "text/html": [
       "<a class=\"ProveItLink\" href=\"../__pv_it/demonstrations/e8513a529b57528c0c6543bd33556576f750633e0/expr.ipynb\"><img src=\"data:image/png;base64,iVBORw0KGgoAAAANSUhEUgAAAC0AAAAQBAMAAABw0OvaAAAAMFBMVEX///8AAAAAAAAAAAAAAAAA\n",
       "AAAAAAAAAAAAAAAAAAAAAAAAAAAAAAAAAAAAAAAAAAAv3aB7AAAAD3RSTlMAEN0iVJmJRKu7ds0y\n",
       "Zu8qwvqBAAAACXBIWXMAAA7EAAAOxAGVKw4bAAAAqElEQVQY02NgwADMaZEFQIpRGU1clIHlC5Bi\n",
       "+Ygmvt6B8TeQYlWAi7BsBpF1BQwgcaYEmDCvqgBU/i8DQ8X8GQsgPC41qDBD0QUg4Q/liGnB9J3q\n",
       "OAAkoyEcU12EzWD3qIGZHFuQnfRegIHxO7r4GQaG+Q4MLB8YBFDN+S8AEmfdwHIA1d4XYHM4GqSg\n",
       "fCktiDvvgt3PPPcC3F8QD7CHgsMNCfBuZiAEAHZ1JHVrlgPVAAAAAElFTkSuQmCC\n",
       "\" style=\"display:inline;vertical-align:middle;\" /></a>"
      ],
      "text/plain": [
       "t < 3"
      ]
     },
     "metadata": {},
     "output_type": "display_data"
    }
   ],
   "source": [
    "expr = Less(Add(t, three), num(6))\n",
    "display(expr)\n",
    "expr.canonical_form()"
   ]
  },
  {
   "cell_type": "code",
   "execution_count": 65,
   "metadata": {},
   "outputs": [
    {
     "data": {
      "text/html": [
       "<span style=\"font-size:20px;\"><a class=\"ProveItLink\" href=\"../__pv_it/demonstrations/2b099af77e35e8e8ca0401dfccb0cc41422d65960/expr.ipynb\"><img src=\"data:image/png;base64,iVBORw0KGgoAAAANSUhEUgAAADAAAAAQBAMAAACigOGCAAAAMFBMVEX///8AAAAAAAAAAAAAAAAA\n",
       "AAAAAAAAAAAAAAAAAAAAAAAAAAAAAAAAAAAAAAAAAAAv3aB7AAAAD3RSTlMAEN0iVJmJRKu7ds0y\n",
       "Zu8qwvqBAAAACXBIWXMAAA7EAAAOxAGVKw4bAAAAx0lEQVQY02NgQAO8+2b+1pvLgAVwMjew904E\n",
       "MhiV0SUSGCacADJYPmJKBHMDGawKEIGVSkob4BKcQAZTAli8eiGSjkYJBoaK+TMWALnMG5GM4pmy\n",
       "GcjwB3O5DRASr/W1BICMaIgEkuW5F8GWqYG555SAYALUqIl3Qd74DpaQRHbuUU6gUSwfGEAGMiFL\n",
       "sB4G6mXdwHIAyOVagCTBOGEtAwNHgxSYvwUhEcBwl7OAgXnuBTBfYroALHR/GnDO/oIIo7JJkCCB\n",
       "AgCd+y6qx6l4EwAAAABJRU5ErkJggg==\n",
       "\" style=\"display:inline;vertical-align:middle;\" /></a>, <a class=\"ProveItLink\" href=\"../__pv_it/demonstrations/1c797a4eacd8fa36ef67650f5fb3b815cb2c5cdd0/expr.ipynb\"><img src=\"data:image/png;base64,iVBORw0KGgoAAAANSUhEUgAAACwAAAAQBAMAAACfEoDkAAAAMFBMVEX///8AAAAAAAAAAAAAAAAA\n",
       "AAAAAAAAAAAAAAAAAAAAAAAAAAAAAAAAAAAAAAAAAAAv3aB7AAAAD3RSTlMAEN0iVJmJRKu7ds0y\n",
       "Zu8qwvqBAAAACXBIWXMAAA7EAAAOxAGVKw4bAAAAgUlEQVQY02NgwAQ8ikCCURlNVCL6I5Bk+Yiu\n",
       "mgskwqoA57NsRggzJcBEeVUF4MIV82csgOpVE0AyxB+qVkwLxexoCNtUF9VKNTCTYwuqSxi/YxVm\n",
       "+cAggMUQ1g0sB7BYydEgBeVJaUEdyPaZgYF57gW4dyAO5+j73YsSGLybGfADAMt2Hgknd+NZAAAA\n",
       "AElFTkSuQmCC\n",
       "\" style=\"display:inline;vertical-align:middle;\" /></a> <a class=\"ProveItLink\" href=\"../__pv_it/demonstrations/98410d27d75985cb05a2f80080d908a2503106af0/proof.ipynb\" style=\"text-decoration: none\">&nbsp;&#x22A2;&nbsp;&nbsp;</a><a class=\"ProveItLink\" href=\"../__pv_it/demonstrations/3e7d44b3ae7670ee47592c1bd794fa7f716fcb1d0/expr.ipynb\"><img src=\"data:image/png;base64,iVBORw0KGgoAAAANSUhEUgAAAF8AAAAVBAMAAADSoS/MAAAAMFBMVEX///8AAAAAAAAAAAAAAAAA\n",
       "AAAAAAAAAAAAAAAAAAAAAAAAAAAAAAAAAAAAAAAAAAAv3aB7AAAAD3RSTlMAInZUiRDNmWbv3US7\n",
       "qzJazP2FAAAACXBIWXMAAA7EAAAOxAGVKw4bAAABlUlEQVQ4y3VTMUjDQBR97TWmbaq4CU5xcrSD\n",
       "uNqh4KSEIrg4tIgguDiIWlDIplsLgoMi1lpQMwU3BaE6qSjtLAhFnBykIBbRof5L0sZLmoNL3r27\n",
       "9/+7f3cABtGzBdBAONmbvwgSjPupUHrTRFj38ZH0DCBlqR+LE3Ngn8CiL84yngGZArEvm1GcoGNJ\n",
       "qQVsewV9Kh6BGCG5ZDNMtf+XJkgQ07pLWY5/Jy1igno8JQoIfVPA7iaip9bSe2uwClzXnlSP4IoW\n",
       "R+qdOlbsXHtvoyawxHPBk+H1pUFxs/ZgtuywLR27wAmhNfgsUZVY0YJDZw4ntYG8hgOCFT6WDeN8\n",
       "3zAcH0caBpoc9C90gkg/QMHkAunXk+EDqCWhFEUBr1xB55ZYE5ogaGtcwEqiJTxYGW7JTJY1BMGh\n",
       "ZSla9WyaapMHpilrPSNa2rHOQXZOB5mybSCRkqhK73RH7nRRoKzT5UPc7B6ccxBTW+Qk3nAvi1tW\n",
       "3oZdGM39wysuVoQbvRHwHm4C+FA1YGI+gE8EvdGQ2psf6U3/ATz6WxKz6f/NAAAAAElFTkSuQmCC\n",
       "\" style=\"display:inline;vertical-align:middle;\" /></a></span>"
      ],
      "text/plain": [
       "{t in Real, t < 1} |- (t + 3) < 6"
      ]
     },
     "metadata": {},
     "output_type": "display_data"
    }
   ],
   "source": [
    "expr.prove(\n",
    "    assumptions=[Less(t, one), InSet(t, Real)])"
   ]
  },
  {
   "cell_type": "code",
   "execution_count": 66,
   "metadata": {},
   "outputs": [
    {
     "data": {
      "text/html": [
       "<a class=\"ProveItLink\" href=\"../__pv_it/demonstrations/72ee546794e76cebd6c2a02c5315efd678ba5c680/expr.ipynb\"><img src=\"data:image/png;base64,iVBORw0KGgoAAAANSUhEUgAAAHMAAAAyBAMAAACdafkcAAAAMFBMVEX///8AAAAAAAAAAAAAAAAA\n",
       "AAAAAAAAAAAAAAAAAAAAAAAAAAAAAAAAAAAAAAAAAAAv3aB7AAAAD3RSTlMAuzKrZonNIu/ddhCZ\n",
       "VERetuGgAAAACXBIWXMAAA7EAAAOxAGVKw4bAAACi0lEQVRIx5VWTWgTURCeZNfubtJkiwfBi+Ti\n",
       "ufXnICI0oIh4ScCrkIKHIlJYD+IlhxaRKkINpDmkVoh49ND1oKKX9FQsBBo8qZf0IJ6EqhQFQ9Td\n",
       "995mU95+E/oOOwsz3+68+eZ9b4iClSoQWi99YtdZ7Eo/YZFGmXF+YqGXxfOtl+g8MsMgrWVhemBX\n",
       "qwzUaQmzDdwfmUJdkaYB3BObGHo/fORP/Tif7M7/hshMX5jcdxRwA29VlnByDgX04GanZSs5kNx2\n",
       "C3nOqYBdFJCqIc89lRZlQYCJ6pTel3aLPoCI7D4qsPrmmWxrTF76ThalvX0JcnBcT5XoDZE9BSF3\n",
       "rp8QtqJ57F83g8PYhn2W3aReN3wpacV3HjcCsqf1LX5RVRhQW/SJHmJIUroa9LNq3hVyBXQ0sdx8\n",
       "DC0VEDT8bjF8uvFpN9f9GLrhYWheHnN3WMlMQ/azcfVa8MeKD6Hp56dlPaOT8WotYtS3/hLt+FzC\n",
       "ohCOauLq6kGyZ+Xbv3CFR3a72XzQbNYVf+IsO7JrjIXR7+94ETThr+kCpQbJ0GMBtMAk7PYjqJbw\n",
       "Q5FtBVbYnlEJ62UKZGEpIAfyahYVr/aQ13drMscqZR6xLfGtI9vfjbvJlMRanQuB7anerm4d1clR\n",
       "2jMiW+b8iKoV5e0xRZXdg+0fhwARUNkYHtmLSE27QIbnIvINJF8bHrhcFd81Mn4C6CySyv7w/+jq\n",
       "WEJiOhhXDevPWKmsH1bC6b2yk0gaDXhx7Ck6L6IAF2q7I4nNleluckAJXpKqxCeJXiQH1McMBNZ6\n",
       "p1M77EAgE3ICfUm+11PM4DRRZgeyPWb4SS+z0Kec8xnnZAc9frz8yg+1C8xubvFQZpR+jYv0HyGk\n",
       "qsZoA3ODAAAAAElFTkSuQmCC\n",
       "\" style=\"display:inline;vertical-align:middle;\" /></a>"
      ],
      "text/plain": [
       "((t / 2) + 3) < 5"
      ]
     },
     "metadata": {},
     "output_type": "display_data"
    },
    {
     "data": {
      "text/html": [
       "<a class=\"ProveItLink\" href=\"../__pv_it/demonstrations/9938f563de513904d1be80603b6e5d6a57910b090/expr.ipynb\"><img src=\"data:image/png;base64,iVBORw0KGgoAAAANSUhEUgAAAC0AAAAQBAMAAABw0OvaAAAAMFBMVEX///8AAAAAAAAAAAAAAAAA\n",
       "AAAAAAAAAAAAAAAAAAAAAAAAAAAAAAAAAAAAAAAAAAAv3aB7AAAAD3RSTlMAEN0iVJmJRKu7ds0y\n",
       "Zu8qwvqBAAAACXBIWXMAAA7EAAAOxAGVKw4bAAAApklEQVQY02NgwAJ4AoAEozKGOFMDkGD5iCG+\n",
       "CCTOqgDns2yGGHMbJM6UABPmVRUA02zcQPGK+TMWQIS51CDCDItB4gz+UNViWlAG8wWweDSEZ6oL\n",
       "M46NASyuBuZwbIHbfhkszvgdTZx5AVic5QODAIo57B0d/S8SGFg3sBxAtZeBgQ+onqNBCsqT0oK6\n",
       "k4F/AtC4uRfg/oJ6gHX+jwUo4cK7mYEQAABX0x+LKKdhfAAAAABJRU5ErkJggg==\n",
       "\" style=\"display:inline;vertical-align:middle;\" /></a>"
      ],
      "text/plain": [
       "t < 4"
      ]
     },
     "metadata": {},
     "output_type": "display_data"
    }
   ],
   "source": [
    "expr = Less(Add(frac(t, two), three), num(5))\n",
    "display(expr)\n",
    "expr.canonical_form()"
   ]
  },
  {
   "cell_type": "code",
   "execution_count": 67,
   "metadata": {},
   "outputs": [
    {
     "data": {
      "text/html": [
       "<span style=\"font-size:20px;\"><a class=\"ProveItLink\" href=\"../__pv_it/demonstrations/2b099af77e35e8e8ca0401dfccb0cc41422d65960/expr.ipynb\"><img src=\"data:image/png;base64,iVBORw0KGgoAAAANSUhEUgAAADAAAAAQBAMAAACigOGCAAAAMFBMVEX///8AAAAAAAAAAAAAAAAA\n",
       "AAAAAAAAAAAAAAAAAAAAAAAAAAAAAAAAAAAAAAAAAAAv3aB7AAAAD3RSTlMAEN0iVJmJRKu7ds0y\n",
       "Zu8qwvqBAAAACXBIWXMAAA7EAAAOxAGVKw4bAAAAx0lEQVQY02NgQAO8+2b+1pvLgAVwMjew904E\n",
       "MhiV0SUSGCacADJYPmJKBHMDGawKEIGVSkob4BKcQAZTAli8eiGSjkYJBoaK+TMWALnMG5GM4pmy\n",
       "GcjwB3O5DRASr/W1BICMaIgEkuW5F8GWqYG555SAYALUqIl3Qd74DpaQRHbuUU6gUSwfGEAGMiFL\n",
       "sB4G6mXdwHIAyOVagCTBOGEtAwNHgxSYvwUhEcBwl7OAgXnuBTBfYroALHR/GnDO/oIIo7JJkCCB\n",
       "AgCd+y6qx6l4EwAAAABJRU5ErkJggg==\n",
       "\" style=\"display:inline;vertical-align:middle;\" /></a>, <a class=\"ProveItLink\" href=\"../__pv_it/demonstrations/1c797a4eacd8fa36ef67650f5fb3b815cb2c5cdd0/expr.ipynb\"><img src=\"data:image/png;base64,iVBORw0KGgoAAAANSUhEUgAAACwAAAAQBAMAAACfEoDkAAAAMFBMVEX///8AAAAAAAAAAAAAAAAA\n",
       "AAAAAAAAAAAAAAAAAAAAAAAAAAAAAAAAAAAAAAAAAAAv3aB7AAAAD3RSTlMAEN0iVJmJRKu7ds0y\n",
       "Zu8qwvqBAAAACXBIWXMAAA7EAAAOxAGVKw4bAAAAgUlEQVQY02NgwAQ8ikCCURlNVCL6I5Bk+Yiu\n",
       "mgskwqoA57NsRggzJcBEeVUF4MIV82csgOpVE0AyxB+qVkwLxexoCNtUF9VKNTCTYwuqSxi/YxVm\n",
       "+cAggMUQ1g0sB7BYydEgBeVJaUEdyPaZgYF57gW4dyAO5+j73YsSGLybGfADAMt2Hgknd+NZAAAA\n",
       "AElFTkSuQmCC\n",
       "\" style=\"display:inline;vertical-align:middle;\" /></a> <a class=\"ProveItLink\" href=\"../__pv_it/demonstrations/ab7fe905158e41108b75ecbb4df17d74647b98170/proof.ipynb\" style=\"text-decoration: none\">&nbsp;&#x22A2;&nbsp;&nbsp;</a><a class=\"ProveItLink\" href=\"../__pv_it/demonstrations/72ee546794e76cebd6c2a02c5315efd678ba5c680/expr.ipynb\"><img src=\"data:image/png;base64,iVBORw0KGgoAAAANSUhEUgAAAHMAAAAyBAMAAACdafkcAAAAMFBMVEX///8AAAAAAAAAAAAAAAAA\n",
       "AAAAAAAAAAAAAAAAAAAAAAAAAAAAAAAAAAAAAAAAAAAv3aB7AAAAD3RSTlMAuzKrZonNIu/ddhCZ\n",
       "VERetuGgAAAACXBIWXMAAA7EAAAOxAGVKw4bAAACi0lEQVRIx5VWTWgTURCeZNfubtJkiwfBi+Ti\n",
       "ufXnICI0oIh4ScCrkIKHIlJYD+IlhxaRKkINpDmkVoh49ND1oKKX9FQsBBo8qZf0IJ6EqhQFQ9Td\n",
       "995mU95+E/oOOwsz3+68+eZ9b4iClSoQWi99YtdZ7Eo/YZFGmXF+YqGXxfOtl+g8MsMgrWVhemBX\n",
       "qwzUaQmzDdwfmUJdkaYB3BObGHo/fORP/Tif7M7/hshMX5jcdxRwA29VlnByDgX04GanZSs5kNx2\n",
       "C3nOqYBdFJCqIc89lRZlQYCJ6pTel3aLPoCI7D4qsPrmmWxrTF76ThalvX0JcnBcT5XoDZE9BSF3\n",
       "rp8QtqJ57F83g8PYhn2W3aReN3wpacV3HjcCsqf1LX5RVRhQW/SJHmJIUroa9LNq3hVyBXQ0sdx8\n",
       "DC0VEDT8bjF8uvFpN9f9GLrhYWheHnN3WMlMQ/azcfVa8MeKD6Hp56dlPaOT8WotYtS3/hLt+FzC\n",
       "ohCOauLq6kGyZ+Xbv3CFR3a72XzQbNYVf+IsO7JrjIXR7+94ETThr+kCpQbJ0GMBtMAk7PYjqJbw\n",
       "Q5FtBVbYnlEJ62UKZGEpIAfyahYVr/aQ13drMscqZR6xLfGtI9vfjbvJlMRanQuB7anerm4d1clR\n",
       "2jMiW+b8iKoV5e0xRZXdg+0fhwARUNkYHtmLSE27QIbnIvINJF8bHrhcFd81Mn4C6CySyv7w/+jq\n",
       "WEJiOhhXDevPWKmsH1bC6b2yk0gaDXhx7Ck6L6IAF2q7I4nNleluckAJXpKqxCeJXiQH1McMBNZ6\n",
       "p1M77EAgE3ICfUm+11PM4DRRZgeyPWb4SS+z0Kec8xnnZAc9frz8yg+1C8xubvFQZpR+jYv0HyGk\n",
       "qsZoA3ODAAAAAElFTkSuQmCC\n",
       "\" style=\"display:inline;vertical-align:middle;\" /></a></span>"
      ],
      "text/plain": [
       "{t in Real, t < 1} |- ((t / 2) + 3) < 5"
      ]
     },
     "metadata": {},
     "output_type": "display_data"
    }
   ],
   "source": [
    "expr.prove(assumptions=[Less(t, one), InSet(t, Real)])"
   ]
  },
  {
   "cell_type": "markdown",
   "metadata": {},
   "source": [
    "**Make sure simple numeric cases work as a special case**"
   ]
  },
  {
   "cell_type": "code",
   "execution_count": 68,
   "metadata": {},
   "outputs": [
    {
     "data": {
      "text/html": [
       "<span style=\"font-size:20px;\"> <a class=\"ProveItLink\" href=\"../__pv_it/demonstrations/c1aa7151380ffefa2c19277851525e035798c9c00/proof.ipynb\" style=\"text-decoration: none\">&nbsp;&#x22A2;&nbsp;&nbsp;</a><a class=\"ProveItLink\" href=\"../__pv_it/demonstrations/ce808086a2a3b04d7e33b967124e77a96c99d5850/expr.ipynb\"><img src=\"data:image/png;base64,iVBORw0KGgoAAAANSUhEUgAAADEAAAARBAMAAACGHlkZAAAAMFBMVEX///8AAAAAAAAAAAAAAAAA\n",
       "AAAAAAAAAAAAAAAAAAAAAAAAAAAAAAAAAAAAAAAAAAAv3aB7AAAAD3RSTlMAiXaZIs1UEN1mu6sy\n",
       "RO+L2jdBAAAACXBIWXMAAA7EAAAOxAGVKw4bAAAAyUlEQVQY02NgwAJ4GBhKgBSjkAm6DN/XiHYg\n",
       "FcZQ4YAmw/G+sYCBgbOBgXEBmgw3mOTawMD2HS7GFoKQ4Tdg4PkGk+BsLkDI1ANlfkIlmBoLIKZN\n",
       "kj7AwOAvwMDzCSJR2ARVwVXA8hci8xHMd+5EcsQKoGkCDLxgPdxhyM6zdwC5gO0bmsxSoMwBBq4F\n",
       "DJzf0Ux7wcCwH+jQBwzMAWguEGBgeAWk2hjqDkBFipogrnZmYHoOpIqF9sAt4IR4iMV4cwF6KHOG\n",
       "MBAGAGL2Ky0yjzeKAAAAAElFTkSuQmCC\n",
       "\" style=\"display:inline;vertical-align:middle;\" /></a></span>"
      ],
      "text/plain": [
       "|- 0 < 5"
      ]
     },
     "metadata": {},
     "output_type": "display_data"
    }
   ],
   "source": [
    "Less(zero, num(5)).prove()"
   ]
  },
  {
   "cell_type": "code",
   "execution_count": 69,
   "metadata": {},
   "outputs": [
    {
     "data": {
      "text/html": [
       "<span style=\"font-size:20px;\"> <a class=\"ProveItLink\" href=\"../__pv_it/demonstrations/bedc08ccc0d684235fc8bbae094c0d19404f933c0/proof.ipynb\" style=\"text-decoration: none\">&nbsp;&#x22A2;&nbsp;&nbsp;</a><a class=\"ProveItLink\" href=\"../__pv_it/demonstrations/7ade981ea5991b9c27fd8a4ce537e0134fe651e80/expr.ipynb\"><img src=\"data:image/png;base64,iVBORw0KGgoAAAANSUhEUgAAADkAAAAQBAMAAABelcpIAAAAMFBMVEX///8AAAAAAAAAAAAAAAAA\n",
       "AAAAAAAAAAAAAAAAAAAAAAAAAAAAAAAAAAAAAAAAAAAv3aB7AAAAD3RSTlMAIpnNuzKJRKvvEN12\n",
       "ZlQ4bmvwAAAACXBIWXMAAA7EAAAOxAGVKw4bAAAA5ElEQVQY02NgVDIJYEADrLuARNohAQYGEQa2\n",
       "72iSK5R/MTAwP+DayMDQyMAwE10vD1D2NgNDCgPD/AUM/QIwYT5DuKwHA8P7BQzdDAz9MIt5Ny2A\n",
       "y35iYIh/AOLshxm4bQHcZC6Q7AWQC/9AxJbtQbKX8RtQ9gCQzd0AFhLay4AumwBkq4BFOOxQ3MwF\n",
       "lK0H6uVtwCYLctV7oKueMTAKYJrM4MLAcH8BA2sCA88CTFcx3GRgUGZgkFZS0oYKrtkD9RHbR6Bb\n",
       "H3BNBXr2///PMD28EA9zdH7uZeBSO4EeO7yGDCQAAKgXQ13rsC/BAAAAAElFTkSuQmCC\n",
       "\" style=\"display:inline;vertical-align:middle;\" /></a></span>"
      ],
      "text/plain": [
       "|- 2 < 10"
      ]
     },
     "metadata": {},
     "output_type": "display_data"
    }
   ],
   "source": [
    "Less(two, num(10)).prove()"
   ]
  },
  {
   "cell_type": "code",
   "execution_count": 70,
   "metadata": {},
   "outputs": [
    {
     "data": {
      "text/html": [
       "<span style=\"font-size:20px;\"> <a class=\"ProveItLink\" href=\"../__pv_it/demonstrations/1b6d0d543c8f3320b2ee2fe0077a690edc2c5f300/proof.ipynb\" style=\"text-decoration: none\">&nbsp;&#x22A2;&nbsp;&nbsp;</a><a class=\"ProveItLink\" href=\"../__pv_it/demonstrations/43a5df62d7ba2b06a5b7a1edf41d026534334bba0/expr.ipynb\"><img src=\"data:image/png;base64,iVBORw0KGgoAAAANSUhEUgAAAE4AAAAVBAMAAAAazcUaAAAAMFBMVEX///8AAAAAAAAAAAAAAAAA\n",
       "AAAAAAAAAAAAAAAAAAAAAAAAAAAAAAAAAAAAAAAAAAAv3aB7AAAAD3RSTlMAmd0iq3ZUiRDNZu9E\n",
       "uzLWhN+VAAAACXBIWXMAAA7EAAAOxAGVKw4bAAABDUlEQVQoz2NgQAADBhyAGYXHmoBLHU8AMi8d\n",
       "RDzEUPSogYEhConPMQFEqqCp4nCcD1TH2YAQYVwAslsFw7x4oBouAQSfG0S8moIQyDSAq2PYgSQM\n",
       "IgoQ6hZJIMxjmIVQJw6y1gCuLqgCyV6GEoQ6kBYrBqg6jqIAZPcxrGQQUgICRSBTDWQtVB2z0AIU\n",
       "fzBkQ9gmQLwH6C0DqDrPBFT/MrxHUWfKgEvdaYQ6oL1HXFx+u2O1NwnCNgTiq2DWFuz+WIswH+L1\n",
       "v7D4CoqAsuoNoIEGi28QIfvfFR7OkAB02T8F6AYdhDqmB2gRuxKRHpkVEMLIcY0OGBcgcS7jVmeL\n",
       "zOnFrQ7FCOYAXMpYDRgA4u85xnrmelkAAAAASUVORK5CYII=\n",
       "\" style=\"display:inline;vertical-align:middle;\" /></a></span>"
      ],
      "text/plain": [
       "|- [not](4 < 1)"
      ]
     },
     "metadata": {},
     "output_type": "display_data"
    }
   ],
   "source": [
    "Less(four, one).disprove()"
   ]
  },
  {
   "cell_type": "code",
   "execution_count": 71,
   "metadata": {},
   "outputs": [
    {
     "data": {
      "text/html": [
       "<span style=\"font-size:20px;\"> <a class=\"ProveItLink\" href=\"../__pv_it/demonstrations/87cc8feb447e1d45dcc4c73d2ecc2c71814cca4c0/proof.ipynb\" style=\"text-decoration: none\">&nbsp;&#x22A2;&nbsp;&nbsp;</a><a class=\"ProveItLink\" href=\"../__pv_it/demonstrations/0fc0afa68fbd0751412080f4c1f5c27ac311c3fa0/expr.ipynb\"><img src=\"data:image/png;base64,iVBORw0KGgoAAAANSUhEUgAAAE8AAAAVBAMAAAD1D64kAAAAMFBMVEX///8AAAAAAAAAAAAAAAAA\n",
       "AAAAAAAAAAAAAAAAAAAAAAAAAAAAAAAAAAAAAAAAAAAv3aB7AAAAD3RSTlMAInZUiRDNmWbv3US7\n",
       "qzJazP2FAAAACXBIWXMAAA7EAAAOxAGVKw4bAAABOUlEQVQoz2NgYBBgQAaMDLgAkwEKl1sBl0IT\n",
       "BFO87BwDgwYWNXwFDAysCQhbDzD4b2BgC8BUyHWBgYG9Ac7lFWDgnMDAUYCpUAuokBPB5fzKwPuR\n",
       "gWEqQoQ5EWJzG1ChGUKYdwED7z8Ghgy4AMdyiDNY2IAKS1Ad84GBwRceHkugzlUEKcxAUfgeGDht\n",
       "UHbIIpgnG0AKF6MoXAvEltCwWgETZGEAKZwNDKGsVSDwABgEB0CmQhycDNfdCFOIAL0gYieaQkYF\n",
       "BnSrmR0YBBkYrNCs5r579/5cB4ZDSAqfMDCoMjD0oHsGGMIXkAIDaMfy8vIFSAEWtAgWm/xAt79C\n",
       "CsT///8DY341IsChAcl+/q8CA9cDtHhlXIBgcyQisdHTAFIqQQUH0fgyuBJuDAGNDEjhiZIzBLAr\n",
       "AwADgUP61iFdSgAAAABJRU5ErkJggg==\n",
       "\" style=\"display:inline;vertical-align:middle;\" /></a></span>"
      ],
      "text/plain": [
       "|- (-2) < 4"
      ]
     },
     "metadata": {},
     "output_type": "display_data"
    }
   ],
   "source": [
    "Less(Neg(two), four).prove()"
   ]
  },
  {
   "cell_type": "code",
   "execution_count": 72,
   "metadata": {},
   "outputs": [
    {
     "data": {
      "text/html": [
       "<span style=\"font-size:20px;\"> <a class=\"ProveItLink\" href=\"../__pv_it/demonstrations/1ed292bc25c92660ddba01a20b94682a8d03e6450/proof.ipynb\" style=\"text-decoration: none\">&nbsp;&#x22A2;&nbsp;&nbsp;</a><a class=\"ProveItLink\" href=\"../__pv_it/demonstrations/0411e3c9c07ad1509a20617ee3ce589c980000f20/expr.ipynb\"><img src=\"data:image/png;base64,iVBORw0KGgoAAAANSUhEUgAAAG8AAAAVBAMAAAC6Uq30AAAAMFBMVEX///8AAAAAAAAAAAAAAAAA\n",
       "AAAAAAAAAAAAAAAAAAAAAAAAAAAAAAAAAAAAAAAAAAAv3aB7AAAAD3RSTlMAmd0iq3ZUiRDNZu9E\n",
       "uzLWhN+VAAAACXBIWXMAAA7EAAAOxAGVKw4bAAABiUlEQVQ4y2NgQAADBqwAVZgZU4g1Aas+NGGe\n",
       "ACBxFEUonYHBvPAOhsZ0JPajBgaGKJBhC5AEOSYwcAgw5KNbCxSGMx3nAzVyAjHDDCQVjAsYWL8x\n",
       "9E9A08iIbHg8UBOXAJCxEEmQG+j+PQz8CI2ZBlBhVI0MO0CiDQjBTDCZD7dgkQSSMLLGWUDMieQO\n",
       "cXCYacG4QRVIwigaS4CY3QEhCDKIL8QPGg5FAUjCqBpXAjHXBAYhJSBQBLLVIE4FhyqzENwpahga\n",
       "s4GYbQNEwASI90CC6AeI9EREClCYYxLIcKUHUI3vQU77gKKR7wED7zdMjWg2ngaFBZKNQDfx/4Bq\n",
       "xOvUJJBTFSAChkB8FehOB6hTkQLnKobGtaDAuYAQBIYy1wJ4PHIERcCFEaDeABpBjAVICRiIDwoi\n",
       "EvmiCrgwDLjsnwI0VwfIYjqAEGV6gJZKVxpgFWYGec8ISQCceDEBhjA41Ushi1zGXgCgC9uCbL2A\n",
       "LNKLXWMvFoN4UcoO5gCsGtGEWUF6ghkYAFfCVf0uml+oAAAAAElFTkSuQmCC\n",
       "\" style=\"display:inline;vertical-align:middle;\" /></a></span>"
      ],
      "text/plain": [
       "|- [not](3 < (-1))"
      ]
     },
     "metadata": {},
     "output_type": "display_data"
    }
   ],
   "source": [
    "Less(three, Neg(one)).disprove()"
   ]
  },
  {
   "cell_type": "code",
   "execution_count": 73,
   "metadata": {},
   "outputs": [
    {
     "data": {
      "text/html": [
       "<span style=\"font-size:20px;\"> <a class=\"ProveItLink\" href=\"../__pv_it/demonstrations/2d3176b09c740e60799ac5e91c3709c86fd95ea10/proof.ipynb\" style=\"text-decoration: none\">&nbsp;&#x22A2;&nbsp;&nbsp;</a><a class=\"ProveItLink\" href=\"../__pv_it/demonstrations/cfd32b6ca4cf63845a5a80598f0ed4483cc987170/expr.ipynb\"><img src=\"data:image/png;base64,iVBORw0KGgoAAAANSUhEUgAAADYAAAAqBAMAAAAKf7UOAAAAMFBMVEX///8AAAAAAAAAAAAAAAAA\n",
       "AAAAAAAAAAAAAAAAAAAAAAAAAAAAAAAAAAAAAAAAAAAv3aB7AAAAD3RSTlMAMt0Qq5nNdoki72a7\n",
       "RFSRpcO+AAAACXBIWXMAAA7EAAAOxAGVKw4bAAABNUlEQVQ4y2NgYBAyYMAAnKE5AgwMzK75WOTm\n",
       "MHD8BdH1WOQ8GRhW4ZJbb8DgPwGHnBMDg78ADjkg0GfAKcf4HbcckwNuuRgGnHLcDrjlXjBw4vID\n",
       "YwMDO0i4fwKm3KTQ0CAg5bI+ZQOm5/7//8ZAD8CXiVOKW9UAlxS7Bk4pC3WcBk7VRhP4DwIfQCyW\n",
       "PLggP1gUSRWSHBFmEukWBgZzdQPcktyoHpwadhBZEhJmnB0xF4DkAYb+Cxj6TRn4/gFdPoGBawGG\n",
       "XP0DZmDccn1mYPmJIXfrAgNQjkWBgeUjtsj6DUnCH7DIXYIkIvkCTClxFwEwrYI1AfwDkawHsAbD\n",
       "elAobMEiIcjAcP4BUHMDw0wMuf8GYDkJBoZiDLklYDM5VUNDFTDkdoP9xwSM/AQMOd5QYFgDABNC\n",
       "UjV2k0dQAAAAAElFTkSuQmCC\n",
       "\" style=\"display:inline;vertical-align:middle;\" /></a></span>"
      ],
      "text/plain": [
       "|- (1 / 2) < (2 / 3)"
      ]
     },
     "metadata": {},
     "output_type": "display_data"
    }
   ],
   "source": [
    "Less(frac(one, two), frac(two, three)).prove()"
   ]
  },
  {
   "cell_type": "code",
   "execution_count": 74,
   "metadata": {},
   "outputs": [
    {
     "data": {
      "text/html": [
       "<span style=\"font-size:20px;\"> <a class=\"ProveItLink\" href=\"../__pv_it/demonstrations/28a35dfb1e66c897690532ce0383398ef479cb590/proof.ipynb\" style=\"text-decoration: none\">&nbsp;&#x22A2;&nbsp;&nbsp;</a><a class=\"ProveItLink\" href=\"../__pv_it/demonstrations/2d27e1b20de838319990f54a5ce94c228e27afb30/expr.ipynb\"><img src=\"data:image/png;base64,iVBORw0KGgoAAAANSUhEUgAAADYAAAAqBAMAAAAKf7UOAAAAMFBMVEX///8AAAAAAAAAAAAAAAAA\n",
       "AAAAAAAAAAAAAAAAAAAAAAAAAAAAAAAAAAAAAAAAAAAv3aB7AAAAD3RSTlMAMt0Qq5nNdoki72a7\n",
       "RFSRpcO+AAAACXBIWXMAAA7EAAAOxAGVKw4bAAAA/klEQVQ4y2NgYBAyYMAEjMpAgtk1H4ucSdhn\n",
       "MF2PTR/7qFz/BCxyHD9BpMv6lA0YUixe37wZ6AH4MnFKcasa4JJi18ApZaGO08Cp2mgC/0HgA9i/\n",
       "eXBBfrAocljk4XE/hplEuoWBwVzdALckN6oHZ7SeRZaEhBlnaI4AMD8EMLx/gKF/DgPHX2Aw/WOw\n",
       "T8CQ82RgWMXAwLuWgR9Tbr0Bgz84qbzHTBNODAz+QAsZeLF7WR+UQ0scsUkxfgdTWNzJwMDkAKa4\n",
       "PmORiwHpFWDg+YclgEDa+D9jlXvBwDmBgcsBm5mMDQzsBgzcG7D5b1JoaBCQuhp6Fovn/v//xgAA\n",
       "EARNhS8RNVAAAAAASUVORK5CYII=\n",
       "\" style=\"display:inline;vertical-align:middle;\" /></a></span>"
      ],
      "text/plain": [
       "|- (1 / 3) < (1 / 2)"
      ]
     },
     "metadata": {},
     "output_type": "display_data"
    }
   ],
   "source": [
    "Less(frac(one, three), frac(one, two)).prove()"
   ]
  },
  {
   "cell_type": "code",
   "execution_count": 75,
   "metadata": {},
   "outputs": [
    {
     "data": {
      "text/html": [
       "<span style=\"font-size:20px;\"> <a class=\"ProveItLink\" href=\"../__pv_it/demonstrations/106377cf0d739575f5ccb3a70aa1239ec514a55e0/proof.ipynb\" style=\"text-decoration: none\">&nbsp;&#x22A2;&nbsp;&nbsp;</a><a class=\"ProveItLink\" href=\"../__pv_it/demonstrations/e4a465aae5fdf00a45aabe0b29552867e03f71940/expr.ipynb\"><img src=\"data:image/png;base64,iVBORw0KGgoAAAANSUhEUgAAAEYAAAAqBAMAAAD8NjCWAAAAMFBMVEX///8AAAAAAAAAAAAAAAAA\n",
       "AAAAAAAAAAAAAAAAAAAAAAAAAAAAAAAAAAAAAAAAAAAv3aB7AAAAD3RSTlMAEM3dMquZdoki72a7\n",
       "RFQmQY1BAAAACXBIWXMAAA7EAAAOxAGVKw4bAAABDElEQVQ4y2NggANnAQZMwGKIxGEM08eiRjTp\n",
       "Iwq/Hps57ENVDaOyMQg4DD4390/AoobjJzIvdL3qBgwlrFGfohkGA+DTJKiE20yAkBJ2C4JKJMwJ\n",
       "WjTNGk3gPzL4AA43PbgkP1gUizFIakiwi0w3MzCImwsQVsSNGUAz2s6iK4LEBWeajgM0rycwvH+A\n",
       "1bw5DBx/oUH/j0FeAauaSAaGVRAW71oGfuxq1gswxMOT8PsNWNUEMzDEQx3EwIs72OxhpVVpCC4l\n",
       "LN/hTBz+YmBgDoAzuT7iUJMDM8+BgecfjgCHGcP/EaeaFwycEL9zBeCyi6WBgR0Sc9wbcIXP5LS0\n",
       "ZCjzWtpZHIHz//8nBgCJ8VR6AA8O8gAAAABJRU5ErkJggg==\n",
       "\" style=\"display:inline;vertical-align:middle;\" /></a></span>"
      ],
      "text/plain": [
       "|- ((-1) / 3) < (1 / 2)"
      ]
     },
     "metadata": {},
     "output_type": "display_data"
    }
   ],
   "source": [
    "Less(frac(Neg(one), three), frac(one, two)).prove()"
   ]
  },
  {
   "cell_type": "code",
   "execution_count": 76,
   "metadata": {},
   "outputs": [],
   "source": [
    "%end demonstrations"
   ]
  },
  {
   "cell_type": "code",
   "execution_count": null,
   "metadata": {},
   "outputs": [],
   "source": []
  }
 ],
 "metadata": {
  "kernelspec": {
   "display_name": "Python 3",
   "language": "python",
   "name": "python3"
  }
 },
 "nbformat": 4,
 "nbformat_minor": 0
}