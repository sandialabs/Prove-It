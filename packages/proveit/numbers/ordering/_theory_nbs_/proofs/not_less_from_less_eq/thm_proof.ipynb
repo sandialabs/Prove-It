{
 "cells": [
  {
   "cell_type": "markdown",
   "metadata": {},
   "source": [
    "Proof of <a class=\"ProveItLink\" href=\"../../../../../_theory_nbs_/theory.ipynb\">proveit</a>.<a class=\"ProveItLink\" href=\"../../../../_theory_nbs_/theory.ipynb\">numbers</a>.<a class=\"ProveItLink\" href=\"../../theory.ipynb\">ordering</a>.<a class=\"ProveItLink\" href=\"../../theorems.ipynb#not_less_from_less_eq\">not_less_from_less_eq</a> theorem\n",
    "========"
   ]
  },
  {
   "cell_type": "code",
   "execution_count": 1,
   "metadata": {},
   "outputs": [],
   "source": [
    "import proveit\n",
    "theory = proveit.Theory() # the theorem's theory"
   ]
  },
  {
   "cell_type": "code",
   "execution_count": 2,
   "metadata": {},
   "outputs": [
    {
     "data": {
      "text/html": [
       "With these <a href=\"allowed_presumptions.txt\">allowed</a>/<a href=\"disallowed_presumptions.txt\">disallowed</a> theorem/theory presumptions (e.g., to avoid circular dependencies), we begin our proof of<br><strong id=\"not_less_from_less_eq\">not_less_from_less_eq:</strong> <a class=\"ProveItLink\" href=\"../../../__pv_it/theorems/ddf70a51afcb1b004d345436ba446cbdef87b07e0/expr.ipynb\"><img src=\"data:image/png;base64,iVBORw0KGgoAAAANSUhEUgAAANUAAAAXBAMAAABuThcPAAAAMFBMVEX///8AAAAAAAAAAAAAAAAA\n",
       "AAAAAAAAAAAAAAAAAAAAAAAAAAAAAAAAAAAAAAAAAAAv3aB7AAAAD3RSTlMAq1RmmUTNIjK7EInv\n",
       "3XZ/CtNrAAAACXBIWXMAAA7EAAAOxAGVKw4bAAAC8klEQVRIx61WXUgUURQ++zP7M6PTRr1YEAtJ\n",
       "ICEsEYU9+ENpQVhLgS9BDvUQ+BAj+BQW1ltosD1ETYKMIIEJsvlg0IMMQRBEsZRBEMoYVuiD+KaP\n",
       "nXvuzu7Z2XaIyQuf3Lvnm/Pde37uFeA/RpIvzMY8M9j8T+MHm+vZxrzrZWTE4mgoqWiRLY4HEPWc\n",
       "RK9Y3Aql9YLNVSOIOSRxX8S9EErrLJvHc0HMkxIJG0DLhtJy2LypLsA8Vk02IYYbSoRLFw/bMZ8x\n",
       "tmyzVSIn8XFl5UMorTgvjYuYsvUcTHvV8F1KqVuHxhcwcBmJCwDPg1x2NzIkeIpuorOoA11yNbfq\n",
       "7QfW3H48pSExDMlMvaP2xZ7bclZbN23VnmzGLPev4FjGxWeAB/EStJBl5IvHOQ1d9gEMtyORtrV8\n",
       "rU5qzcrrGrwu1mu1uSzh3mfDiHcAdpMLn8Q6cqPCGYM+8rgtEXX9pXFuDAOuwxm3TquDh82vBYN2\n",
       "atenBVJdcSTA6MQ/W+fXMTrKGkSow4XWZjfTIvuG6A3ieDGsaGEM8Qi644shKDvwEs9TkoAF7Gjd\n",
       "bEngp/P77AmYpULSklO5qhbZJ8g5ccRIe/EcQUwhHkM6U1sb6pOIA5iKWEECRpEQg6kUTu+0wwZc\n",
       "JefxyQKrDbJHJ22PI4bGS+oVogcGvRjPr1LNR3dnHCUr24NaJDImft4hzmE4Aqcsy8rqunalpg6F\n",
       "XSExwaGEl5jWI8T00uVKlcaowdRLbusJEe68RLn2HHqMvsJ7GKdz6co1m2lJe+qgKTk0vjGtZtrw\n",
       "Irs4+B11twwao5oRhzn8XNnGJqB8wRtWG2QXt/R+mziVG7Xiuhs0Q30bcEtXbur4z6VNwNy3dhiQ\n",
       "fIY/DPwqzvRVtchefooFRxYHf2ufQrMbKTZ4vwv1b0lWNdOY3TnLYt3tf28kh2bcNAvRzt4GxxKb\n",
       "Stf+E6DYEXegjujXYpx7fO9u4yv1dxk85qB0FgO0HmKBWubfOHs1zD3z9AdIoMB7n12KEAAAAABJ\n",
       "RU5ErkJggg==\n",
       "\" style=\"display:inline;vertical-align:middle;\" /></a><br>(see <a class=\"ProveItLink\" href=\"../../../__pv_it/theorems/b7c0b8d9f1ed1a60ceefbcee11af0cf7725cc1210/dependencies.ipynb\">dependencies</a>)<br>"
      ],
      "text/plain": [
       "<IPython.core.display.HTML object>"
      ]
     },
     "metadata": {},
     "output_type": "display_data"
    },
    {
     "name": "stdout",
     "output_type": "stream",
     "text": [
      "not_less_from_less_eq may now be readily provable (assuming required theorems are usable).  Simply execute \"%qed\".\n"
     ]
    }
   ],
   "source": [
    "%proving not_less_from_less_eq"
   ]
  },
  {
   "cell_type": "code",
   "execution_count": null,
   "metadata": {},
   "outputs": [],
   "source": []
  }
 ],
 "metadata": {
  "kernelspec": {
   "display_name": "Python 3",
   "language": "python",
   "name": "python3"
  }
 },
 "nbformat": 4,
 "nbformat_minor": 0
}