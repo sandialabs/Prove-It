{
 "cells": [
  {
   "cell_type": "markdown",
   "metadata": {},
   "source": [
    "Proof of <a class=\"ProveItLink\" href=\"../../../../../_theory_nbs_/theory.ipynb\">proveit</a>.<a class=\"ProveItLink\" href=\"../../../../_theory_nbs_/theory.ipynb\">numbers</a>.<a class=\"ProveItLink\" href=\"../../theory.ipynb\">ordering</a>.<a class=\"ProveItLink\" href=\"../../theorems.ipynb#max_set_closure\">max_set_closure</a> theorem\n",
    "========"
   ]
  },
  {
   "cell_type": "code",
   "execution_count": 1,
   "metadata": {},
   "outputs": [],
   "source": [
    "import proveit\n",
    "theory = proveit.Theory() # the theorem's theory"
   ]
  },
  {
   "cell_type": "code",
   "execution_count": 2,
   "metadata": {},
   "outputs": [
    {
     "data": {
      "text/html": [
       "With these <a href=\"allowed_presumptions.txt\">allowed</a>/<a href=\"disallowed_presumptions.txt\">disallowed</a> theorem/theory presumptions (e.g., to avoid circular dependencies), we begin our proof of<br><strong id=\"max_set_closure\">max_set_closure:</strong> <a class=\"ProveItLink\" href=\"../../../__pv_it/theorems/435eb69b70c30f6956a3f38dfaa92c647005e2a30/expr.ipynb\"><img src=\"data:image/png;base64,iVBORw0KGgoAAAANSUhEUgAAAhkAAAAXBAMAAABUoUDhAAAAMFBMVEX///8AAAAAAAAAAAAAAAAA\n",
       "AAAAAAAAAAAAAAAAAAAAAAAAAAAAAAAAAAAAAAAAAAAv3aB7AAAAD3RSTlMAq1RmmUTNIjK7EInv\n",
       "3XZ/CtNrAAAACXBIWXMAAA7EAAAOxAGVKw4bAAAGe0lEQVRYw+WYfWxTVRTAT9/H2r52j6qJQExw\n",
       "QYU/ZEuDsCh/zC5shrCQFTCaiNEaYhD/wLfEjyAqhWggkY9GQqQY2cP4D4JrZVFkEzIlZlFimAZR\n",
       "lIaHREEWxvgSRLTec+99H319XVvKP8aT9u3ee+5O3/3de8499wJUI2d/vDl9yop2A5ry4i9tU80l\n",
       "yac6cx/fpD7lRG2oXlOByIZ3+xPkG4rjJ4LVuyql4cOnEB2bRlUmPeVe6Do+gIVD32puTS1ysqhF\n",
       "aOsX42rUpNGObUsqpSHFybNOG5tGVSa9REkALL9ICuKdWrGmBqnT3S3bQOkGeNaksQr9KVUpjQDO\n",
       "+/IynlKVSS+RyFz1HEG/6NSLNTWIGHP/EmloBphh0kBcoYaK4wahCLvL9KnKpJeEybfnHFkWb7hp\n",
       "hGsMSF/z6PNu7ggtjEvSqBHWOQ2R0K6rPIreR56JMn2qMuklU5BGhkyb4aYxpUYai1k0XWaafZK8\n",
       "6lrytlFOA77J5Q5WTiOcyx3LlttTqjHpJR1Iw0fCaJTQEEf6dbH7onz9Ga7x33HKuTd07X+tzL7q\n",
       "6P8Rfb5oMc78RXfVUMSkMQdgq+N/Y2OPVEpCUC9WhApouEze0Az2yBdA0AmNaZqUgNA1eNrUPK4F\n",
       "rzl2zUHo1se05uzfDIURXsznx+OfhEmjC/wYGheNtFBMPPrRaiidTmuNn7Qus0dK+nZ5xb0CGtxk\n",
       "lcnA/pOnefE7pAFHQQVKQ74CsFRMco1yAKQhUJp5311RmAdK/y0libD+XKbRp8PVe7qv4z47YNII\n",
       "6vgUDNgINg1aVTbTiBOCPVl7pFsL06tXO+Li524azGTlsmEi+aUmCIzy+peUxjntBaQByiJCY9dt\n",
       "pkYahfosbDjL+3YC/Ex+3h5w0UTR/lzoGAPEk3NHzaZO8qrklzkNwahjwdrnoEGrQbrZqyrMMuyR\n",
       "NtlkAyfScSHSB3PdNJjJyjfUOfgkYSJSQCOTNZCG0jqZ0BAum5pwCjLktRt5369AuQzj4v6rJTco\n",
       "1p97DV0t1u4vYuggu59srQ1ItOBWE+VZPOtJqyuA0zgTs0daJ1ohqY0sXqFFgmyobV5buzMzpyZ3\n",
       "tuwxF2vvcHHCZjeyDPGifQZhnhIciFJPiQcIDekznWsyBjwIFg3lHxBHQdRL02D9Z9w/ErP+y1pH\n",
       "28l3JTEsDFk0dmMOoeY3gYMGrU5mxZB/W9QeaWiKzm1jPgvC6keNrHttUJPKDzgKKh9qG4tpWI18\n",
       "qs79GbUTRKQhn9eRxiWQr6yBvmCCa8hc3i5odFzoRhfAl5hKXmuIVl2iA+//8swDMEgqD9DmEVPf\n",
       "yLcpMWXReIUu0Pc6Iw4atLqQ0ZDeSTlG6idRQqG2d9AAk+y7p5gGmpRigQHw072lDdaB3NRe+KbY\n",
       "yMIno6Dcfd65D85HJwCSmV8C9erUkKFc4pqgIRyW6ECUPyifxhiZ9fU6q2YS4CrQ/v6eBFzjQyfr\n",
       "20wN52VxcyXvmrVo+JKUojzqoEGr27mnhBY4RzqBEKG2FzIakpoqooEmw3E1Aqt/Yt5+gkSiTCEN\n",
       "bGTOuzSdfgsUkgqZqvUk+z+0GH6FE4ee0lb9cmbf8PGEmF/GNMqkT7tOs2nNkbnfPrxmUpJRx2o9\n",
       "+sNh4AVsYf19hozHwO8Z+ImP8XRifuut+Lc+btGg89NgnixSdpVl16oqL9Jdp3Vqu5nsvw1CUskm\n",
       "3PkG81ctOEsHpKFcgU0f+M2lYIYNbBTbp2chQCP+Asf5p77kRYOtQRqC5RvPw0vOqnVCtVrCSSlG\n",
       "oPGIIe/lmbm5M0IBDSkCPs2mwasdSbbD9sVcI6W232RrAxYYnvcbYW3jQqShZGEwcHkWwGYs7rQe\n",
       "2Cj8jhGNelMrwPiShyuPY1ejM+fzb1k7t2BKipLClVC/Olny0DfbReP1jj2OKMqr8l6SfT3yW/b9\n",
       "h1wjpbZpTirGQY140pBnN/UCoRH4Ah6ePhzFLJYU12mBQXzwxgl+PLwj9Dlt/XakfbvkbmxqVjy3\n",
       "HyOtST6fH3VU7dzKKs0Htbfk6RvdwknDllQl91rUtn8LOvISO03wuvsiniKwUp9qFcEqDakzSfjb\n",
       "m95c+Ds7Sr5BgcZ1lVV8s2WUYOkSTKxugMa+gjvPnel0vEyfDQcbgEWsuvzfwIsorKREhF7PyTJK\n",
       "HsGMWi4YS1xTnSKqY3HyGYuGL43nlJovOaNexSj8J0SD/7H8C5pZALaNb26kAAAAAElFTkSuQmCC\n",
       "\" style=\"display:inline;vertical-align:middle;\" /></a><br>(see <a class=\"ProveItLink\" href=\"../../../__pv_it/theorems/5cd2bfeb63f3b83fb9236b6bb2baa64a5e770acf0/dependencies.ipynb\">dependencies</a>)<br>"
      ],
      "text/plain": [
       "<IPython.core.display.HTML object>"
      ]
     },
     "metadata": {},
     "output_type": "display_data"
    }
   ],
   "source": [
    "%proving max_set_closure"
   ]
  },
  {
   "cell_type": "code",
   "execution_count": null,
   "metadata": {},
   "outputs": [],
   "source": []
  }
 ],
 "metadata": {
  "kernelspec": {
   "display_name": "Python 3",
   "language": "python",
   "name": "python3"
  }
 },
 "nbformat": 4,
 "nbformat_minor": 0
}