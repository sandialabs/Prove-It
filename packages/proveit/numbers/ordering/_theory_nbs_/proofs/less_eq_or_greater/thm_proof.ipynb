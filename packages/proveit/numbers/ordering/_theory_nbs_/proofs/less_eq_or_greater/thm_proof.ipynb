{
 "cells": [
  {
   "cell_type": "markdown",
   "metadata": {},
   "source": [
    "Proof of <a class=\"ProveItLink\" href=\"../../../../../_theory_nbs_/theory.ipynb\">proveit</a>.<a class=\"ProveItLink\" href=\"../../../../_theory_nbs_/theory.ipynb\">numbers</a>.<a class=\"ProveItLink\" href=\"../../theory.ipynb\">ordering</a>.<a class=\"ProveItLink\" href=\"../../theorems.ipynb#less_eq_or_greater\">less_eq_or_greater</a> theorem\n",
    "========"
   ]
  },
  {
   "cell_type": "code",
   "execution_count": 1,
   "metadata": {},
   "outputs": [],
   "source": [
    "import proveit\n",
    "theory = proveit.Theory() # the theorem's theory"
   ]
  },
  {
   "cell_type": "code",
   "execution_count": 2,
   "metadata": {},
   "outputs": [
    {
     "data": {
      "text/html": [
       "With these <a href=\"allowed_presumptions.txt\">allowed</a>/<a href=\"disallowed_presumptions.txt\">disallowed</a> theorem/theory presumptions (e.g., to avoid circular dependencies), we begin our proof of<br><strong id=\"less_eq_or_greater\">less_eq_or_greater:</strong> <a class=\"ProveItLink\" href=\"../../../__pv_it/theorems/b70d357ee1572bdf9d926140fc0f3ead2997837a0/expr.ipynb\"><img src=\"data:image/png;base64,iVBORw0KGgoAAAANSUhEUgAAAO4AAAAWBAMAAAA1Ab1lAAAAMFBMVEX///8AAAAAAAAAAAAAAAAA\n",
       "AAAAAAAAAAAAAAAAAAAAAAAAAAAAAAAAAAAAAAAAAAAv3aB7AAAAD3RSTlMAq1RmmUTNIjK7EInv\n",
       "3XZ/CtNrAAAACXBIWXMAAA7EAAAOxAGVKw4bAAADVUlEQVRIx71WXUgUURQ+uzOzP7O6LUQ/asiA\n",
       "4ktKS0jhgyZY2Z8hQT4FLRn0BzFBL5bE9liZViClDzKBRGYum1BgUexLEEYhlSCJMpY9FLkIPRg+\n",
       "dc7M3Nmdu7OjT1347szc+3333HvuOWcXYB0tSJ3qPb3GiGMqCOtr3xBRpei0pLsJPMiEGH1UeZr1\n",
       "p7Hb7kH47ibwIiP20fsZT7uPEHKCXztPE9CoL6eulwmKNiIjrpO/73jabUGIceeY8EXL+2imvom6\n",
       "B0xQtBEZQeYjiqfdDKLEORSd1fI/J6krpRMkmMB2VpxfbtKAgOMB7+ultWocQ6PzTkondbR7UWEC\n",
       "1uTXfNR1mvgwN/fe065IUXIYkVp4/MrwzPBnNpdqARkj8xlYZy1lAjlbfmvc5Cy9LCQjDgAMetoN\n",
       "xK1NNkcrxSl8Pjxlz6VrQVgG2GV8bAXIMoEIC3qbRWo8VEBGXIJgrNC3s6c3M/+U0hk/YTCowqqP\n",
       "9uCz7YaUNvBhUNYaXxiiX5lgN+zRNjJaTStPRoS1SLvTaG9ZP+jpyFXrs4Sm36IOROviLjM/y/AR\n",
       "SnB/faZjVH8zEyRhf96KHeUcGeHXubAS0fOg60KKswuGyhlX0ir0JQFOWOUioNoCNJJnd5AjExKU\n",
       "eNnWRdRIC+Azq4+uR4c5PwOcVGXNmUfogd/4qDNHp27kBNIKPLH9vIUnE8bP4zpqWQDZqQ1aj2wU\n",
       "ET3dxapfmE45BDDSvg0iXN0Ix+AuPhqsEriJCeR+XwZYtWxstRbKkQndGFYCDIXw9Uod/JSMRNcP\n",
       "TjATkZgZ+DtuHoFjucg7axwhJv2xsgzbWIIJ/H+HM5LC5VEemeBL0uCKMVUBlcK5gYF76OfnrIiF\n",
       "KHduY9Zm/S18YZMrFkk4bS2sMIF8VK/eaTKWdBfytJ0RGeNHcRrehdLm/R5n24QZurNkkeyO4BmD\n",
       "U86xmbz3sbgL2RZ0RxIijKJCWjarCOYRiyuot0t/QXsBT5XCH416WINsC8Qfb35BjwLVDQnowqNJ\n",
       "Fy/Ie1mZDVN23M87whw141DzeDMAXZyBsPt/kxyZEyiyGo6DPDHQ77xEivAR16WqFtude8oJvMhO\n",
       "gaT59A43wTWq+nrRAh5V3QQeZE4ggNSUhv/T/gHUTOihU8LAzQAAAABJRU5ErkJggg==\n",
       "\" style=\"display:inline;vertical-align:middle;\" /></a><br>(see <a class=\"ProveItLink\" href=\"../../../__pv_it/theorems/fc166597eb8ec11f6bfef9b4945cf711bc34102c0/dependencies.ipynb\">dependencies</a>)<br>"
      ],
      "text/plain": [
       "<IPython.core.display.HTML object>"
      ]
     },
     "metadata": {},
     "output_type": "display_data"
    }
   ],
   "source": [
    "%proving less_eq_or_greater"
   ]
  },
  {
   "cell_type": "code",
   "execution_count": null,
   "metadata": {},
   "outputs": [],
   "source": []
  }
 ],
 "metadata": {
  "kernelspec": {
   "display_name": "Python 3",
   "language": "python",
   "name": "python3"
  }
 },
 "nbformat": 4,
 "nbformat_minor": 0
}