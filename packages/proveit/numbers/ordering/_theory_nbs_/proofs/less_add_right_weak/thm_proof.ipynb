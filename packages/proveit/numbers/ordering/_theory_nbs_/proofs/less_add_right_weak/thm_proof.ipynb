{
 "cells": [
  {
   "cell_type": "markdown",
   "metadata": {},
   "source": [
    "Proof of <a class=\"ProveItLink\" href=\"../../../../../_theory_nbs_/theory.ipynb\">proveit</a>.<a class=\"ProveItLink\" href=\"../../../../_theory_nbs_/theory.ipynb\">numbers</a>.<a class=\"ProveItLink\" href=\"../../theory.ipynb\">ordering</a>.<a class=\"ProveItLink\" href=\"../../theorems.ipynb#less_add_right_weak\">less_add_right_weak</a> theorem\n",
    "========"
   ]
  },
  {
   "cell_type": "code",
   "execution_count": 1,
   "metadata": {},
   "outputs": [],
   "source": [
    "import proveit\n",
    "theory = proveit.Theory() # the theorem's theory"
   ]
  },
  {
   "cell_type": "code",
   "execution_count": 2,
   "metadata": {},
   "outputs": [
    {
     "data": {
      "text/html": [
       "With these <a href=\"allowed_presumptions.txt\">allowed</a>/<a href=\"disallowed_presumptions.txt\">disallowed</a> theorem/theory presumptions (e.g., to avoid circular dependencies), we begin our proof of<br><strong id=\"less_add_right_weak\">less_add_right_weak:</strong> <a class=\"ProveItLink\" href=\"../../../__pv_it/theorems/e7e861404d83dd1b0be1f28bda72a85d0b466a210/expr.ipynb\"><img src=\"data:image/png;base64,iVBORw0KGgoAAAANSUhEUgAAARAAAAAXBAMAAAAxVg0qAAAAMFBMVEX///8AAAAAAAAAAAAAAAAA\n",
       "AAAAAAAAAAAAAAAAAAAAAAAAAAAAAAAAAAAAAAAAAAAv3aB7AAAAD3RSTlMAq1RmmUTNIjK7EInv\n",
       "3XZ/CtNrAAAACXBIWXMAAA7EAAAOxAGVKw4bAAADmUlEQVRIx71WW2gTQRS9zaP7SjZVRKEFWRAK\n",
       "4oPgh9iCMaX1jRofCD6gFT9EP2QL/gh+pCCCWGmwHxorsh/+aJBECyqCIkrxhSLFIoiBLRVfxVAQ\n",
       "LfRDvHdmk91ZUzQQvXCnsyczd87c1xSg/mLWBEuO1l90oxYYwjbXJvpYVE8iS2aD1Uuvqv0wwXUt\n",
       "zQ/VkYfa4wNazTLcmKy2odFi2kchytSRSCgufq/eVIFj5eiEvWuCSabERzPqSCQifn6968LdlgMG\n",
       "bO+SZ0yDSK6xninSKsTpnu2B70FVIge5vigWn9eTyGaKdctHdpS6Je6FD5Tm+ohopVUAN4DpBoCL\n",
       "f4x7DUTofvtNZYZ4zDe8sPrDypsCEWkUNgKsBKa9IDWVV8uHBZvLbnUcZRPFf9oplt7a/QL7Wuzt\n",
       "VaN44iMIsUr1EEE4MAMRWyASLcBLgKXAVLG0VGV5S2Umj2dTuga3C1WIWNDA4ATsYTyEiI+gA6fo\n",
       "CLqxGxqCeyCGcKhYfIf5QLffxrJ3gGvA9uTqk8qsK43NUId2+3cix5ohkuarY+iLNrFe8cRIBvIp\n",
       "X7KOsPt3G4JHnrJxv6M9CRxyidvkhp/jxFGbsHWyjkS+JF0i6vAkxaBvAV6g1Iz3RVcb8JnZxi1u\n",
       "DPI2rPGX7yhrI9wFZSLqT54Bjt48gtAbeZpOfqvTwWPyg6vsedCky3GXyHVzAInsWU/mrfdIewai\n",
       "8X5+R9zinHwZiRgwP2CKDQ3hWBqTR/DIN+xt6FLgegKjFUoyQ0o8iJ04lFHTOxmR0FDGk6xd0I88\n",
       "2A0HKc1lSr7AEF2StjgHYyEqduC1W2itaQduiCtJkQiWzB1e2aQNuDCS0il5IulQE31gOWWzWUPX\n",
       "tR0eIiMwDvJDJ5c6WGjQ22FiEnHz/Sz6d+Gd3k++OiO4pdPX0LThBG4eA64keVNpRyhGQWcZeIZ5\n",
       "RA/vsypE1GkYvAa5czSfgoeVZJXnmeyvI9F01fYiwEJnlV5x5S+BObDTykHUaoMcNKagoFgsR+Cu\n",
       "J1kfy9/bERzE6dtgRi1ACbYzS3Ms2uJ5w6qIAAuPHj2HlZcy3Ll8GPoNeauNo9SZsKQLiO7+ULiy\n",
       "ziWya8UkrQ8ik5MlCpJ2f5PzTxZtKRs+7740RSZpH+yT4456xPCMuWzWjbvYRwLcZmAWw1drgjlD\n",
       "kWXYckdRlGoG9s5iWLJrgUE3uXrD6Bn/gggP62ksr6wJ/0mkf3/EL/RZ9bkOmLkwAAAAAElFTkSu\n",
       "QmCC\n",
       "\" style=\"display:inline;vertical-align:middle;\" /></a><br>(see <a class=\"ProveItLink\" href=\"../../../__pv_it/theorems/1304e29b43b3fba263192420c1abb7ab30b1888b0/dependencies.ipynb\">dependencies</a>)<br>"
      ],
      "text/plain": [
       "<IPython.core.display.HTML object>"
      ]
     },
     "metadata": {},
     "output_type": "display_data"
    },
    {
     "name": "stdout",
     "output_type": "stream",
     "text": [
      "less_add_right_weak may now be readily provable (assuming required theorems are usable).  Simply execute \"%qed\".\n"
     ]
    }
   ],
   "source": [
    "%proving less_add_right_weak"
   ]
  },
  {
   "cell_type": "code",
   "execution_count": null,
   "metadata": {},
   "outputs": [],
   "source": []
  }
 ],
 "metadata": {
  "kernelspec": {
   "display_name": "Python 3",
   "language": "python",
   "name": "python3"
  }
 },
 "nbformat": 4,
 "nbformat_minor": 0
}