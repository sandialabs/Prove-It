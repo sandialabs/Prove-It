{
 "cells": [
  {
   "cell_type": "markdown",
   "metadata": {},
   "source": [
    "Proof of <a class=\"ProveItLink\" href=\"../../../../../_theory_nbs_/theory.ipynb\">proveit</a>.<a class=\"ProveItLink\" href=\"../../../../_theory_nbs_/theory.ipynb\">numbers</a>.<a class=\"ProveItLink\" href=\"../../theory.ipynb\">ordering</a>.<a class=\"ProveItLink\" href=\"../../theorems.ipynb#not_equals_is_less_than_or_greater_than\">not_equals_is_less_than_or_greater_than</a> theorem\n",
    "========"
   ]
  },
  {
   "cell_type": "code",
   "execution_count": 1,
   "metadata": {},
   "outputs": [],
   "source": [
    "import proveit\n",
    "theory = proveit.Theory() # the theorem's theory"
   ]
  },
  {
   "cell_type": "code",
   "execution_count": 2,
   "metadata": {},
   "outputs": [
    {
     "data": {
      "text/html": [
       "With these <a href=\"allowed_presumptions.txt\">allowed</a>/<a href=\"disallowed_presumptions.txt\">disallowed</a> theorem/theory presumptions (e.g., to avoid circular dependencies), we begin our proof of<br><strong id=\"not_equals_is_less_than_or_greater_than\">not_equals_is_less_than_or_greater_than:</strong> <a class=\"ProveItLink\" href=\"../../../__pv_it/theorems/984518f004c1091a17b97575c50f7cec6ff14dce0/expr.ipynb\"><img src=\"data:image/png;base64,iVBORw0KGgoAAAANSUhEUgAAASAAAAAXCAMAAACcVWITAAAAOVBMVEX///8AAAAAAAAAAAAAAAAA\n",
       "AAAAAAAAAAAAAAAAAAAAAAAAAAAAAAAAAAAAAAAAAAAAAAAAAAAAAAACXHtMAAAAEnRSTlMAq1Rm\n",
       "mUTNIjK7EInv3Xbt5cmRiLwgAAAACXBIWXMAAA7EAAAOxAGVKw4bAAADdElEQVRYw+1YiZLkJgzl\n",
       "xgijTfz/HxvA5sbHuKc6VamwNft6eswTEnoSmJB/b+gO383+9JnfXtfvDWQt/nBIfGzhJfOONH/P\n",
       "+Ffjw2yLPw8wf2jhNXNEIdPX6qspBarFF0NB/kjzxwV7Cx8wB1xSCmnz1QQSvMUXg4vyMYfFLL2F\n",
       "D5gjpmhZ9tUArR1eSeUst9eSQi5tsxosjLl7H7nEHJAfj6vvViDV4sVuOgFnSiiepu0VrLcwiZB1\n",
       "dwU+MUdcXRir/a7CbIsEECksts9jdLYNj6YW9eGfLR0mZY4bLEyJB9oT5ogiqtbAW1cvS/GjLTpo\n",
       "kCIR7nqr5erlZradl1dJQqMXiIOFGfEsMafMETVN/z1QhrNKUFUv+6q2W3n2F8da5H513K+OFtVo\n",
       "4YZiAWvsvIezrCoze7Nx0FuYEGcNCn3HvGNInnNXUvekxvhnkPjMtdo+CtBF1FfZYth/0VQNqiZd\n",
       "Q2zR98P8stU56b1lYrAwEldJo8rxYM68I8PbEi3E0T3R/yMc8FGAqH4coPgZbwO0BmuwyaSK7lhY\n",
       "t7uKecWzAJXCMmc+UOVzBFiONltBFBpDHpZDawwQgpgHKE/Y2e2MdC6x8PjmnwG4khhsYZ18y4Jv\n",
       "KMliJhZG4iyxagNPmA+07DgMgdM+q9I01IQa4jcSiuEgMW3qU361qDxBmDD++B/ek6ZZ2CB4+dKw\n",
       "W/ayH8PGYm4RFum4aS8IVA4W5sR7kdb3zAfqlSYlednlvOXRiteW5FWAhLHNuqpf8oTmRtOSkkkf\n",
       "9Tu1LSD8M7KTFaBD6LxmThytU7ThdGq0cEI8tvk5c0K6FN1iXVn3jecqZoRhu8RsY62tQSVTctoN\n",
       "pLH6uQZB+AbNBGezg2LlC1C0i6a4r9e1nUWw0cKMOER9PJBMmTsLENwzvMg1bLz/arGkrkFS1uFv\n",
       "AnRMCBL7628TJTaQHqaXFq/O0idXDe0up50xg7u9aiTmwcIaqoXk4NUfhEes2g+CpdjvbX5epKsJ\n",
       "1SW4kJ7fBz+7797fZX/tJi19LqLlIRN8TgqUFmMJ0OmOLBUq6/O2OllUGVQm1DHNpJ3odYs/f/F3\n",
       "9/rhY+ZLC6y73wW9TA+TcxJ2+74v1Sh4+5rl1v+Pma8syMdXs/kqHrwbSBdDja+8QP3YwkvmSwvP\n",
       "XzZNA8Qk+X+kbfpvu/cPZQEeu5jbnXcAAAAASUVORK5CYII=\n",
       "\" style=\"display:inline;vertical-align:middle;\" /></a><br>(see <a class=\"ProveItLink\" href=\"../../../__pv_it/theorems/3395220c1eb13bd01925f6c6736407d1691bf8ab0/dependencies.ipynb\">dependencies</a>)<br>"
      ],
      "text/plain": [
       "<IPython.core.display.HTML object>"
      ]
     },
     "metadata": {},
     "output_type": "display_data"
    }
   ],
   "source": [
    "%proving not_equals_is_less_than_or_greater_than"
   ]
  },
  {
   "cell_type": "code",
   "execution_count": null,
   "metadata": {},
   "outputs": [],
   "source": []
  }
 ],
 "metadata": {
  "kernelspec": {
   "display_name": "Python 3",
   "language": "python",
   "name": "python3"
  }
 },
 "nbformat": 4,
 "nbformat_minor": 0
}