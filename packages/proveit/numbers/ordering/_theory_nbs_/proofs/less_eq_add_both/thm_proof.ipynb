{
 "cells": [
  {
   "cell_type": "markdown",
   "metadata": {},
   "source": [
    "Proof of <a class=\"ProveItLink\" href=\"../../../../../_theory_nbs_/theory.ipynb\">proveit</a>.<a class=\"ProveItLink\" href=\"../../../../_theory_nbs_/theory.ipynb\">numbers</a>.<a class=\"ProveItLink\" href=\"../../theory.ipynb\">ordering</a>.<a class=\"ProveItLink\" href=\"../../theorems.ipynb#less_eq_add_both\">less_eq_add_both</a> theorem\n",
    "========"
   ]
  },
  {
   "cell_type": "code",
   "execution_count": 1,
   "metadata": {},
   "outputs": [],
   "source": [
    "import proveit\n",
    "theory = proveit.Theory() # the theorem's theory"
   ]
  },
  {
   "cell_type": "code",
   "execution_count": 2,
   "metadata": {},
   "outputs": [
    {
     "data": {
      "text/html": [
       "With these <a href=\"allowed_presumptions.txt\">allowed</a>/<a href=\"disallowed_presumptions.txt\">disallowed</a> theorem/theory presumptions (e.g., to avoid circular dependencies), we begin our proof of<br><strong id=\"less_eq_add_both\">less_eq_add_both:</strong> <a class=\"ProveItLink\" href=\"../../../__pv_it/theorems/598e74a4fdb1469af09789c661169bd5028dc5e70/expr.ipynb\"><img src=\"data:image/png;base64,iVBORw0KGgoAAAANSUhEUgAAAVIAAAAXBAMAAACrGdq3AAAAMFBMVEX///8AAAAAAAAAAAAAAAAA\n",
       "AAAAAAAAAAAAAAAAAAAAAAAAAAAAAAAAAAAAAAAAAAAv3aB7AAAAD3RSTlMAq1RmmUTNIjK7EInv\n",
       "3XZ/CtNrAAAACXBIWXMAAA7EAAAOxAGVKw4bAAAERUlEQVRIx81XXWgUVxQ+2d/ZmThZ6JsFWfCh\n",
       "FBpdqgjmIawktRaxXaoU/KGEVrH6IBPwpaB2xWIfGtihKdhVSEeQUt2KayMKEdIgSvqjEqlSMZ0y\n",
       "aYrShEpYkIYK0nPuvTt77+wMWFipB76ZOXfOufPtueecexfgWUlaIFSsCIf/PFE75HeBUHk3wiFM\n",
       "kh5HlpTl7Scaq3GEi5kPczh9o9Xy6FWYxRviNVJ3t5/pVwIRsleiuNt32BliWYeUA4TDlAV2+5n2\n",
       "CTRls6ys9p/itx3fod5Y8GbIk/9AvAAEImzk2s90QqApK2Sl02nkwbTjOyArEWbPNzSmAH4EQhzp\n",
       "p55Bmg5wRDFNiahVf5MciFWQaQoD+j4w3HDdn9rPNFHjgMHxQ0Gm47MlMFglw6mfZYfUspmcynRw\n",
       "vIwj54FhA8Dxp/380zOlmBGSk/ClozI9mEvYEGfxPvme4nBur/63wlR4rwGGQUhnG+baHuVz35XY\n",
       "rfviun3sIaMu8DE4aqs6LuAiV5bkOL7Jw6ZATKeh04MYy+GOJlMyXunATYUpeq/H2yscGcco+vYv\n",
       "Klw+Qu4zlaJpwKVaC9PYCH6ppurYRhZExRQ53iJmKJtc97rr3qKFYWWjcbv9/uqTMbJ6jAau+yum\n",
       "JIVPeJc5Yp5UUN8rTP8E6Mewmib0eEGm8WGavqTqaGurTH8A/ZEa005mkZwIVBQZT0OyrsRUeO8Q\n",
       "GOglj95L9EufzFBSGbMeG9rH9xJkOldoMtVH5y0wP6PH8sOlrER6ha6P3veU1defQHxBZXqOWcSm\n",
       "Al2KHOoi4A2mDe9ugW9xv9B/0SiXzXsmUbqjTbChRTjNJjPSI/km07NW2dKusMe/nD/oI8UhoeMr\n",
       "EeWMx6DXoWPgJYVpF05VhLgd6PzksEiJKTMV3muB4wBmRKJA5CCTp5pM2HqJDS3wfcVMnLCliuqH\n",
       "IYCXx+hxmJXlG/C10PtZSrGGneUYge5CQWGKhW+UeAcTCf5Bw+EF+Fztp8J7I3B0lChLzCzLu0SW\n",
       "pwwbsmFNpVLJmabxtsT0GszgdesYS+t1bKChX6PU5l1kiuPk/CfLSmrtX141R+sQaGvM+EJeZSq8\n",
       "7wAHSx4r04OL0AWdmC5dlhiacz5lMTWT2x2fKba84TN4P/w6wALQqvMeiDq+GjkjZrwrELFHHWzp\n",
       "wLKxtEdRP5ni4JVnlTc7VVjirIUqpIpQq9LQESfjsDyFMamiJrVHPWz/WAr34rZeg11gCH1SW+yR\n",
       "jiCro08ofS1MZeOkcihM5Dn4q74VozCU09708Jru63WGcmwo/QW+fOd+7dT6JtMtr87nxcH944eA\n",
       "tbSflpPp/iu0tTgizvE88c+6JHd9h3D5UECSXMsVqpVKM6MyoWeR8Ol1myNcQmhFGx8TkGLuBK/B\n",
       "+cPm2RYx/yGBUHkQ4RD6/8DikLedlmskUw17QoX/znxAfy4k/X9+/F8PrEI1JgvTOAAAAABJRU5E\n",
       "rkJggg==\n",
       "\" style=\"display:inline;vertical-align:middle;\" /></a><br>(see <a class=\"ProveItLink\" href=\"../../../__pv_it/theorems/f7060279114b57904c6ba8739bbfa030e25c94e00/dependencies.ipynb\">dependencies</a>)<br>"
      ],
      "text/plain": [
       "<IPython.core.display.HTML object>"
      ]
     },
     "metadata": {},
     "output_type": "display_data"
    }
   ],
   "source": [
    "%proving less_eq_add_both"
   ]
  },
  {
   "cell_type": "code",
   "execution_count": null,
   "metadata": {},
   "outputs": [],
   "source": []
  }
 ],
 "metadata": {
  "kernelspec": {
   "display_name": "Python 3",
   "language": "python",
   "name": "python3"
  }
 },
 "nbformat": 4,
 "nbformat_minor": 0
}