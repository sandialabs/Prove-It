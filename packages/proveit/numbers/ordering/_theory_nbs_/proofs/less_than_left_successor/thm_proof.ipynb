{
 "cells": [
  {
   "cell_type": "markdown",
   "metadata": {},
   "source": [
    "Proof of <a class=\"ProveItLink\" href=\"../../../../../_theory_nbs_/theory.ipynb\">proveit</a>.<a class=\"ProveItLink\" href=\"../../../../_theory_nbs_/theory.ipynb\">numbers</a>.<a class=\"ProveItLink\" href=\"../../theory.ipynb\">ordering</a>.<a class=\"ProveItLink\" href=\"../../theorems.ipynb#less_than_left_successor\">less_than_left_successor</a> theorem\n",
    "========"
   ]
  },
  {
   "cell_type": "code",
   "execution_count": 1,
   "metadata": {},
   "outputs": [],
   "source": [
    "import proveit\n",
    "theory = proveit.Theory() # the theorem's theory"
   ]
  },
  {
   "cell_type": "code",
   "execution_count": 2,
   "metadata": {},
   "outputs": [
    {
     "data": {
      "text/html": [
       "With these <a href=\"allowed_presumptions.txt\">allowed</a>/<a href=\"disallowed_presumptions.txt\">disallowed</a> theorem/theory presumptions (e.g., to avoid circular dependencies), we begin our proof of<br><strong id=\"less_than_left_successor\">less_than_left_successor:</strong> <a class=\"ProveItLink\" href=\"../../../__pv_it/theorems/ab0607b2bc7960a2f86571564a89592c77aa3dc80/expr.ipynb\"><img src=\"data:image/png;base64,iVBORw0KGgoAAAANSUhEUgAAAKkAAAAVBAMAAADP89MSAAAAMFBMVEX///8AAAAAAAAAAAAAAAAA\n",
       "AAAAAAAAAAAAAAAAAAAAAAAAAAAAAAAAAAAAAAAAAAAv3aB7AAAAD3RSTlMAq1RmmUTNIjK7EInv\n",
       "3XZ/CtNrAAAACXBIWXMAAA7EAAAOxAGVKw4bAAACNklEQVQ4y5VUQWgTQRT93d1ks9lkSUG8CBIQ\n",
       "vIglB/HQQ02pFUGExYIXRaIeAh50Cx4V6llKe6urEObQSyjYqGDFiwHpScWqBQ+yZb1Y8WJvgif/\n",
       "7p+ZZJKd2nx47P43f97M/D9/APa1YCSaBgL4j3nVUWi0axyVxDmmCTqhpxdZ5no1wmziNLNnFxs6\n",
       "unjoTqYq3CI8wI+9nK1q1fT0b6E6p4ydIuRx1NXkqTRIGE1JS9UJdQpLYeLCeU1ajw/45jaTtEY1\n",
       "XyN8iKJ3GtULSXaO7MaiFN+YpIdVKdCtEM4DPNao3kRcDZy/5K3t9NHDqhRoNgjzYFf6lE6+nL4t\n",
       "/j9jvd+CtZU6d7/00cOqPNDoEhzm+jyg8D30PRc2OtzfxHrvQTl1x27IhTd7qhej6H0UfQIZWNgj\n",
       "GLEs1tkFTJ4Hk3FvemkZ1n29am+vPDDXJUBjKkna1EbaFInqr3rvqOsxnIGDZIAHGlsEeI69UPxa\n",
       "+APttNCu3RKXv4XBVThsBGq1WpmqFGhiQyWAe1gsq17oUpd41hPZac8w67GxbXH36Q4TNMCbQFXl\n",
       "gVaHAGOYzZLvVeB0GIZVz3MvCdVFPMTRV/M/ZRfQhUUaxj9er6l3gALLPoH2HziT7GG6Vy93RRyu\n",
       "vDDYXM1hWu2t+xxUwWBpjjkszSu8FtUy65nNodLq6zLDkVpuZuIF2I/w7/KPzuo5Qa9k99yK9plP\n",
       "Xr/BF3AtDH2FaGfPbWtVnYCwr9nxKDTaLuEfzMihwVXzQ0UAAAAASUVORK5CYII=\n",
       "\" style=\"display:inline;vertical-align:middle;\" /></a><br>(see <a class=\"ProveItLink\" href=\"../../../__pv_it/theorems/189b87b3672bd923af271dc822a3a93d5cb1eb3b0/dependencies.ipynb\">dependencies</a>)<br>"
      ],
      "text/plain": [
       "<IPython.core.display.HTML object>"
      ]
     },
     "metadata": {},
     "output_type": "display_data"
    },
    {
     "name": "stdout",
     "output_type": "stream",
     "text": [
      "less_than_left_successor may now be readily provable (assuming required theorems are usable).  Simply execute \"%qed\".\n"
     ]
    }
   ],
   "source": [
    "%proving less_than_left_successor"
   ]
  },
  {
   "cell_type": "code",
   "execution_count": null,
   "metadata": {},
   "outputs": [],
   "source": []
  }
 ],
 "metadata": {
  "kernelspec": {
   "display_name": "Python 3",
   "language": "python",
   "name": "python3"
  }
 },
 "nbformat": 4,
 "nbformat_minor": 0
}