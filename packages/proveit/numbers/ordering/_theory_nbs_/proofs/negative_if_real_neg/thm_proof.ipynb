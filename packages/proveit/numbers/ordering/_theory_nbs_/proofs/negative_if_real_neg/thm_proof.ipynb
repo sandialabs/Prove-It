{
 "cells": [
  {
   "cell_type": "markdown",
   "metadata": {},
   "source": [
    "Proof of <a class=\"ProveItLink\" href=\"../../../../../_theory_nbs_/theory.ipynb\">proveit</a>.<a class=\"ProveItLink\" href=\"../../../../_theory_nbs_/theory.ipynb\">numbers</a>.<a class=\"ProveItLink\" href=\"../../theory.ipynb\">ordering</a>.<a class=\"ProveItLink\" href=\"../../theorems.ipynb#negative_if_real_neg\">negative_if_real_neg</a> theorem\n",
    "========"
   ]
  },
  {
   "cell_type": "code",
   "execution_count": 1,
   "metadata": {},
   "outputs": [],
   "source": [
    "import proveit\n",
    "theory = proveit.Theory() # the theorem's theory"
   ]
  },
  {
   "cell_type": "code",
   "execution_count": 2,
   "metadata": {},
   "outputs": [
    {
     "data": {
      "text/html": [
       "With these <a href=\"allowed_presumptions.txt\">allowed</a>/<a href=\"disallowed_presumptions.txt\">disallowed</a> theorem/theory presumptions (e.g., to avoid circular dependencies), we begin our proof of<br><strong id=\"negative_if_real_neg\">negative_if_real_neg:</strong> <a class=\"ProveItLink\" href=\"../../../__pv_it/theorems/3d214449d5a1a56b2298d11ba469bfa2a530d3e80/expr.ipynb\"><img src=\"data:image/png;base64,iVBORw0KGgoAAAANSUhEUgAAAIEAAAAVBAMAAACTeZA2AAAAMFBMVEX///8AAAAAAAAAAAAAAAAA\n",
       "AAAAAAAAAAAAAAAAAAAAAAAAAAAAAAAAAAAAAAAAAAAv3aB7AAAAD3RSTlMAq1RmmUTNIjK7EInv\n",
       "3XZ/CtNrAAAACXBIWXMAAA7EAAAOxAGVKw4bAAACD0lEQVQ4y52UMUgcQRSGf/f2bm9375ar0ghh\n",
       "IWAj6hWSQqJeuFMEm0UhjcGIFgELWcEyAVOHoKl0E5ApbA4hdyrERBtBhIAIQQWLoKwgMaSyEAKx\n",
       "8c3oXW6Wu0EysOy8NzvfvPe/NwvcY/j/sSINx224NEpPhk8eKQmt9d1b5z6cLNDHjZcqgDVW151w\n",
       "rWNgEnhDhjGvIujZuu5u4CvQSSgG2K6KkIo6NBHye6CDIcUQoxMSShlaInbsiPHXFTDnIkHb909O\n",
       "9pSEQZ5n80VYqcwPAbA4IQubKjEAfFASJuh57pt/b62V09u3cU2EEDGSeRpGRkk4oAN3oH8Xxswh\n",
       "aghlaNuAyWyv5vu2z0+nZMIuleMS6TKfN41Xa0yEFyGSl6RsWBUyeRZ4jo2NcpSQmkfJkwlcyQ4X\n",
       "cYoBYz0VZ2GWhHLQFRqFQqGvJotSiF7IWSAAehk0ntzaJBeoZ0O0KCf8zkkxLBHBxQPNl5TEE6Cf\n",
       "Ssub8RUJaR0n/6AoimUbS3ITrpJWoXak35mfTkU1kXatb6QQz7iJYtdzyW0MC4L+MdLj7+iAh1+m\n",
       "f1U76q4hBs9oY7pShZTnZPA4CALXcewhmZCejTZlzUV8XZmUfLOLvRUxOPERJm/IKZolX709/tww\n",
       "M5nQAZuRLQuNAf9udTzfvg5jkWbPfpaX++XPio0JZuQ3txIEXr2DwoaEC+AGSzV3O7scEqcAAAAA\n",
       "SUVORK5CYII=\n",
       "\" style=\"display:inline;vertical-align:middle;\" /></a><br>(see <a class=\"ProveItLink\" href=\"../../../__pv_it/theorems/9def80ac868942d53cb7cc4621c1b09da26c0a960/dependencies.ipynb\">dependencies</a>)<br>"
      ],
      "text/plain": [
       "<IPython.core.display.HTML object>"
      ]
     },
     "metadata": {},
     "output_type": "display_data"
    },
    {
     "name": "stdout",
     "output_type": "stream",
     "text": [
      "negative_if_real_neg may now be readily provable (assuming required theorems are usable).  Simply execute \"%qed\".\n"
     ]
    }
   ],
   "source": [
    "%proving negative_if_real_neg"
   ]
  },
  {
   "cell_type": "code",
   "execution_count": null,
   "metadata": {},
   "outputs": [],
   "source": []
  }
 ],
 "metadata": {
  "kernelspec": {
   "display_name": "Python 3",
   "language": "python",
   "name": "python3"
  }
 },
 "nbformat": 4,
 "nbformat_minor": 0
}