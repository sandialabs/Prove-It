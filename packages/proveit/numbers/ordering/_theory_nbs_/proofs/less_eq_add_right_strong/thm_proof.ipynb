{
 "cells": [
  {
   "cell_type": "markdown",
   "metadata": {},
   "source": [
    "Proof of <a class=\"ProveItLink\" href=\"../../../../../_theory_nbs_/theory.ipynb\">proveit</a>.<a class=\"ProveItLink\" href=\"../../../../_theory_nbs_/theory.ipynb\">numbers</a>.<a class=\"ProveItLink\" href=\"../../theory.ipynb\">ordering</a>.<a class=\"ProveItLink\" href=\"../../theorems.ipynb#less_eq_add_right_strong\">less_eq_add_right_strong</a> theorem\n",
    "========"
   ]
  },
  {
   "cell_type": "code",
   "execution_count": 1,
   "metadata": {},
   "outputs": [],
   "source": [
    "import proveit\n",
    "theory = proveit.Theory() # the theorem's theory"
   ]
  },
  {
   "cell_type": "code",
   "execution_count": 2,
   "metadata": {},
   "outputs": [
    {
     "data": {
      "text/html": [
       "With these <a href=\"allowed_presumptions.txt\">allowed</a>/<a href=\"disallowed_presumptions.txt\">disallowed</a> theorem/theory presumptions (e.g., to avoid circular dependencies), we begin our proof of<br><strong id=\"less_eq_add_right_strong\">less_eq_add_right_strong:</strong> <a class=\"ProveItLink\" href=\"../../../__pv_it/theorems/c52c745173fcd07ea600439e51b4b6ab61146eca0/expr.ipynb\"><img src=\"data:image/png;base64,iVBORw0KGgoAAAANSUhEUgAAARAAAAAXBAMAAAAxVg0qAAAAMFBMVEX///8AAAAAAAAAAAAAAAAA\n",
       "AAAAAAAAAAAAAAAAAAAAAAAAAAAAAAAAAAAAAAAAAAAv3aB7AAAAD3RSTlMAq1RmmUTNIjK7EInv\n",
       "3XZ/CtNrAAAACXBIWXMAAA7EAAAOxAGVKw4bAAADm0lEQVRIx71WW0gUURj+3YtzW2etBx8UYiAQ\n",
       "pAtDD5JC24p2p9oyAkvQ6CHqIcbHoIcVopcMlwxsM2QeerEldktIW1DCkG4UIkkgCSNGF8VFiBJ8\n",
       "kP5zzuxc9kIsbB34zsx8M+f/v3P+/z9nAMrftJJozkT5m6yUQoPfYKgmD9vLKWRHMVp8MFPoxRLD\n",
       "AXJ/qYw6xO6idGW40JtKnaKXhChWRiE+tSgdzEbH7/zGG6YgeiSljEICuUS9lqW7dJPyGM4P3lJ4\n",
       "UVxlOVOkPud531GLnoCCQi4yvF9YeFdOIcdIrOu+ZV2tpm36QmZrjhApsxfgCVAcBrj/17iXIITM\n",
       "r1MTNliKThg2Lf7Wk5pLCDcLRwAagaIHuOqsEf6yy+auZy1X6Y3goj2DcJOmtzSZyhcyix5fgo9W\n",
       "KndcddCeDQgYLiFVKfgAsBMoBF2KWFbqrDt+MR6RJRhL5QnxDANUUDoEHWzeztfTuIBrxAW2GsVF\n",
       "d0MQad/CwmfMBzL7kzR7+xk8hiNXX1t3bVHcDGVoNnKFeAdIDUTZ10Gy1FyL7hYSiEEyki8ExXUp\n",
       "rhV5Q/tOE90h7BKhMbIMm4vEprRkyGRNUchy2BYijq5oIN+hk8jUogBcajTMb9HoEDsGSQP2Q35o\n",
       "cBthS5AVIm6yDDDx9ApSn/h14nleJo7n+Bcj9HiQuGHVFvJY69f4KVYL+hdUsAFVKvjvamyI6RED\n",
       "l1SgxqO5kxXpYBSTx7UiP3FvA2gChusYLV+YGhJUL+7EvpgYbadCfEMxR7K2QR9AAy3HAZLmPEk+\n",
       "/xCZJBliesRCFAzPR7PQxNVli65QhbBbCJbMOKtsggo0EYjI1TT0vmrygOUUj8cVWZZOO4RMwyL2\n",
       "HWmaHS00NEGlj0Y9YOf7bfS+bbznu7WhpS26rjVnQ5NGQziNOWAgLakJzUgFadBJBt6iKyL7z+uW\n",
       "EHEdBh7htfcQwBpMmckqPidKgvbPRlU0p54btTzatbNyMwzsgND62/UEVOlNkIDKCKQEneYIpB3J\n",
       "+or/1UyuPbUw742JKcjAKXz8QQ4JHOI4wwo0F+069MhxaJ2U/tbdo9Cn8CcM7LnWkM7dQ/bs19TD\n",
       "g7aQM3tWVPNf60YGMG2lSXqONKlAhmQNDxbecQeLbcXXTDia4ugT8bgdd6GQAY911+D6Cxwp7G+k\n",
       "mJDBPJV+3e7draCQc0UMc0YpNMgagzOMjr6YEB6rKc70q/D/G/fvXfwBmQbvzPYHM+4AAAAASUVO\n",
       "RK5CYII=\n",
       "\" style=\"display:inline;vertical-align:middle;\" /></a><br>(see <a class=\"ProveItLink\" href=\"../../../__pv_it/theorems/8e8bff69f8da0bc78cab9eaa657f92d2750c3c250/dependencies.ipynb\">dependencies</a>)<br>"
      ],
      "text/plain": [
       "<IPython.core.display.HTML object>"
      ]
     },
     "metadata": {},
     "output_type": "display_data"
    },
    {
     "name": "stdout",
     "output_type": "stream",
     "text": [
      "less_eq_add_right_strong may now be readily provable (assuming required theorems are usable).  Simply execute \"%qed\".\n"
     ]
    }
   ],
   "source": [
    "%proving less_eq_add_right_strong"
   ]
  },
  {
   "cell_type": "code",
   "execution_count": null,
   "metadata": {},
   "outputs": [],
   "source": []
  }
 ],
 "metadata": {
  "kernelspec": {
   "display_name": "Python 3",
   "language": "python",
   "name": "python3"
  }
 },
 "nbformat": 4,
 "nbformat_minor": 0
}