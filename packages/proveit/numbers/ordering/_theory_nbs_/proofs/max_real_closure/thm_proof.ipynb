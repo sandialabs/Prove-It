{
 "cells": [
  {
   "cell_type": "markdown",
   "metadata": {},
   "source": [
    "Proof of <a class=\"ProveItLink\" href=\"../../../../../_theory_nbs_/theory.ipynb\">proveit</a>.<a class=\"ProveItLink\" href=\"../../../../_theory_nbs_/theory.ipynb\">numbers</a>.<a class=\"ProveItLink\" href=\"../../theory.ipynb\">ordering</a>.<a class=\"ProveItLink\" href=\"../../theorems.ipynb#max_real_closure\">max_real_closure</a> theorem\n",
    "========"
   ]
  },
  {
   "cell_type": "code",
   "execution_count": 1,
   "metadata": {},
   "outputs": [],
   "source": [
    "import proveit\n",
    "theory = proveit.Theory() # the theorem's theory"
   ]
  },
  {
   "cell_type": "code",
   "execution_count": 2,
   "metadata": {},
   "outputs": [
    {
     "data": {
      "text/html": [
       "With these <a href=\"allowed_presumptions.txt\">allowed</a>/<a href=\"disallowed_presumptions.txt\">disallowed</a> theorem/theory presumptions (e.g., to avoid circular dependencies), we begin our proof of<br><strong id=\"max_real_closure\">max_real_closure:</strong> <a class=\"ProveItLink\" href=\"../../../__pv_it/theorems/6e5baf853d8a2c92fbb800eba61fdfd22683e3ab0/expr.ipynb\"><img src=\"data:image/png;base64,iVBORw0KGgoAAAANSUhEUgAAAasAAAAWBAMAAACMHK5BAAAAMFBMVEX///8AAAAAAAAAAAAAAAAA\n",
       "AAAAAAAAAAAAAAAAAAAAAAAAAAAAAAAAAAAAAAAAAAAv3aB7AAAAD3RSTlMAq1RmmUTNIjK7EInv\n",
       "3XZ/CtNrAAAACXBIWXMAAA7EAAAOxAGVKw4bAAAFfUlEQVRYw81Yb2gcVRCf+7+3d7c9/NBqreFE\n",
       "rKGl19Om0gZJF5JKRMQrrX5ogzlEECvVDYiY/knPIqgQmkOJklDNxtRCG03OhqgNtLWWGqOI/RC0\n",
       "tD1ZTbE20RjEJJAa48x7u3t7d9m06X5xILuTmdn33u/NnzfvABYgKZcGxxS4Bc1NkGIvv9GyQ0nn\n",
       "qOCXW9DcBD1V9P+DQx27hhJcjuuOkuweO1guerkTDqZ3ZwN3/UNMeHZZscYJLKl4UZkG2LJRZXKE\n",
       "tZlEz9rB8pK//IqD6Y9gsHXQEu6fLtU4oZ3FsPZAUIgyOcJ6lYI8YweL7KDRyezVAOIfKWSuzJRq\n",
       "nFBFKSyvkmJyhOVX8RWzzS3ak+NOZv8CYY2jo4RtM6UaJxRW+ftaLpcyYWWYHNftwQDx25eMdfhK\n",
       "OUkt/Fgc/RtzwTtTqnFCfp5cT47mveU6FmVyKnXf5XLf2sMK53KXnaS2Fz8WtRUAHoJVNTYAG+cS\n",
       "9V+luQYaTjVZK/6dV7WFDwuLQYgVu8BOSxC+uVJhcoJVC9BuD8ubhqDqcE9FrT4GqxCWexAeBjit\n",
       "+pO6xjcIHZbR65TgzIKjWQ08zNv5cpbZu2t2lMsJVgMEotYNGe6Hh6ImLNQ1LDrwLj2z1NjUSIxg\n",
       "RTKgcVj1CvgzGwzNRwl4DKBLD0fxLHjPQ/cny+0G5gbGLCw3/ZaSse6ILidYQTV/6h68oxXuDqle\n",
       "NX8ct0P/ojDREFo2tMdI7CTBkqYDSZZbH55WQDyTMDSPA1wCYVxfqncCIlmQCalNRDMDnYQJejbn\n",
       "kDIcVrArweW0brdmIvbW0tGsySFLlxFfXMVgQ2iap6cAlnhdAoJ1+La1GDRrk4ZmCMRJXIEOK5yB\n",
       "3iRMwn673ocb6ORj3jpq8ZYgt3M581OqCgOy+uAVgBFSl9/bZIXl92A8iX1jRgxb2Dx1V32mc2wI\n",
       "TZMOFwQhHPIQLPc5aMGPH/1G14j/gmciD6tXg00AlfawuEHFhnEZjK8i1nOrtpHLGazjWEy66hJh\n",
       "RWTOLA99sMMCK7QSI/JjpcXAYmHzMf+joLcQfAgt2ziiq4Iag1W/nGAtkaH+FSWkvqNrxL/AlbqP\n",
       "LVCkVcdgqRsHPwlQWqVMg93rz8IglQY2laRZYB2lzgnlDNZeLBC7f4Ulqo/FfDnI1yywAmeQqYFm\n",
       "bDbYXMT64psLI08W9LOVD6E9csJahn1RCh/XNMH684ByCnplXfM+rJFlBqs3RUDdw15MjosgThEQ\n",
       "epDcZJhBoCcFM/rRgfS0CeslPINbmZzBcpHPy6AOPM+1tb2FsLr91g7+dvw7Bz+DsIbBIjYMvYUx\n",
       "n5T02smH0LR+o28RzkPg0FRCSkorppYJZfHun05OwaYpjWmgc+z1sjSDFbmIyy/7vOE3vn05mmuY\n",
       "gkw2GNPApbG0ivAs62xVjQ7+XWh7MUbyfA38GmoEIcu95YsXXUzEaXj7GERUgw2Q86wxrwQr1Yqt\n",
       "q3GtWZ5bTwwYugu21cXUsCxZZZ4wckABd2kUmgbhtFdGT+zT/93xXq6gqO2zXKgCE3ChnB/L6wH9\n",
       "UXTfGhQmKwmWmOUstBLbzR/dEFZatqrxDKVvO8+t0GG7jnSeXpXBMgt34xuvYVdXam4a7IfIgbR9\n",
       "p1xtWTeG/1gCGtFa+EEBVzGsbQ+gFmEJX3IWew9kmxVhEB/NMV91vA9j+WVaFA7he+F5scbYwaDt\n",
       "rcbQBD69rlFZ0en7uTmAntKSYRpsAanP/tZB8qLrr3iirdX+dkxB6ObsgGSySDyPIjCyvXQIvTbO\n",
       "2zNYNVKhrrQ1lGw2Zb7NusGtPmT9UUD4HS8o23mjNzdrsORpngedsHreW3ST7fBNThr4q/Zy6fJi\n",
       "f6xIzMN64P9H/wFALK1pmUI0WwAAAABJRU5ErkJggg==\n",
       "\" style=\"display:inline;vertical-align:middle;\" /></a><br>(see <a class=\"ProveItLink\" href=\"../../../__pv_it/theorems/d7eb97acf82730e6f00c82a880c0b8894d098d020/dependencies.ipynb\">dependencies</a>)<br>"
      ],
      "text/plain": [
       "<IPython.core.display.HTML object>"
      ]
     },
     "metadata": {},
     "output_type": "display_data"
    }
   ],
   "source": [
    "%proving max_real_closure"
   ]
  },
  {
   "cell_type": "code",
   "execution_count": null,
   "metadata": {},
   "outputs": [],
   "source": []
  }
 ],
 "metadata": {
  "kernelspec": {
   "display_name": "Python 3",
   "language": "python",
   "name": "python3"
  }
 },
 "nbformat": 4,
 "nbformat_minor": 0
}