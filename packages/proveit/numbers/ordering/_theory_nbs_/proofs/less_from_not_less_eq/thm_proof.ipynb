{
 "cells": [
  {
   "cell_type": "markdown",
   "metadata": {},
   "source": [
    "Proof of <a class=\"ProveItLink\" href=\"../../../../../_theory_nbs_/theory.ipynb\">proveit</a>.<a class=\"ProveItLink\" href=\"../../../../_theory_nbs_/theory.ipynb\">numbers</a>.<a class=\"ProveItLink\" href=\"../../theory.ipynb\">ordering</a>.<a class=\"ProveItLink\" href=\"../../theorems.ipynb#less_from_not_less_eq\">less_from_not_less_eq</a> theorem\n",
    "========"
   ]
  },
  {
   "cell_type": "code",
   "execution_count": 1,
   "metadata": {},
   "outputs": [],
   "source": [
    "import proveit\n",
    "theory = proveit.Theory() # the theorem's theory"
   ]
  },
  {
   "cell_type": "code",
   "execution_count": 2,
   "metadata": {},
   "outputs": [
    {
     "data": {
      "text/html": [
       "With these <a href=\"allowed_presumptions.txt\">allowed</a>/<a href=\"disallowed_presumptions.txt\">disallowed</a> theorem/theory presumptions (e.g., to avoid circular dependencies), we begin our proof of<br><strong id=\"less_from_not_less_eq\">less_from_not_less_eq:</strong> <a class=\"ProveItLink\" href=\"../../../__pv_it/theorems/b115651dc23e89575949779bf1bc1a945f6f7e310/expr.ipynb\"><img src=\"data:image/png;base64,iVBORw0KGgoAAAANSUhEUgAAAM8AAAAXBAMAAABewgYuAAAAMFBMVEX///8AAAAAAAAAAAAAAAAA\n",
       "AAAAAAAAAAAAAAAAAAAAAAAAAAAAAAAAAAAAAAAAAAAv3aB7AAAAD3RSTlMAq1RmmUTNIjK7EInv\n",
       "3XZ/CtNrAAAACXBIWXMAAA7EAAAOxAGVKw4bAAADEUlEQVRIx61WXUgUURT+ZmdmZ3ZmHRd6SkE2\n",
       "lCAqWKIf6sEMyw1CkQRBhFrsIeghVogewmJ9DI2sKNsiGUKIMmTzwcCHWIIgiEL6gSCUEbYkCxF6\n",
       "MHzq3OvM7OxVl8q9MDPn3nPnfOec+50zA1RspP9L9e/Dim+sO0VXjAn1FQDaWc6JBHCMCWc3j2Ok\n",
       "ymnPAf300IY2D6Qkymn3AmEbMOObB4qKC6FgmqI2ZPIkXIEj2i7M5Y92YBYmlLczM28qAHSCrvFm\n",
       "GDH3+L+s4hiLNQMTlDNaPg7cK2ehKZiONQXheMIZunK7IC/x2disd3SYc1opPqJKL7TYWvO7J4+c\n",
       "X5WCRNlXhBz2DLnjPaDHWyHx7Rc+eMsHcNjeQtvzQMQ220tB9Llsu2XieU4EMnyPQiOuoOZc4RWp\n",
       "8Q5RFqLU47+SQQs3SYGGHJELRzOUYwuHHBFI8TySbwUrxAOCuoLrmVIgEDjTUERINdJtMVmg/Ktz\n",
       "kHgZM6CFJhGoitYLV5KwbvK+EmNtZaKYOigp/ERp6qAu4wlFM03iBDllpbeGqZjGq+1BPOasMbWR\n",
       "hAh0EZiXhnr0lzyPzopOfja4OpbLSAw3UEIG47aUB2VXZlb6yC8ZIzqJl3bjOzo4kHJ/KEAGM5vN\n",
       "PkAXkIg4GeyYYu3k4bRFui4X6BmLKKb+cqfjs5zeod+jeZUiUNhRSiytWOb6WtRhPxmNW5Z5UmCd\n",
       "hG10r2YM72JIUk6iU7zqaq8x/2sLy37B8kIy2pyGPSzpPt/0vMYen/AaAzwiS+22RSBmdJB/XPqT\n",
       "7OVoppi6Ku6uWWytcrAFXfaEPjOlYAz4rC4R3/kZYUogg0Jk0PKTqxXcW0OmTzMWeXZpeRJPN+ia\n",
       "zb6Rry8WMBhHw8EUtLu00PktN9oikiGSRlv3ou1+NEPNd+g57ClJmKXUrzvEz0PcSEeIamPZbKCE\n",
       "A3v86uTjEaiaDF9NZK0vtK8PFCltXaotOZ1rNgWdSQYVdSodiOKb0JyN++W80NmhNubKApk8bTrR\n",
       "MjuMjh8l3a+yPze2qLX/1swfa9u1dcDQe5sAAAAASUVORK5CYII=\n",
       "\" style=\"display:inline;vertical-align:middle;\" /></a><br>(see <a class=\"ProveItLink\" href=\"../../../__pv_it/theorems/4efd124afda5e4e3a18809d32352f9fc5f9081310/dependencies.ipynb\">dependencies</a>)<br>"
      ],
      "text/plain": [
       "<IPython.core.display.HTML object>"
      ]
     },
     "metadata": {},
     "output_type": "display_data"
    }
   ],
   "source": [
    "%proving less_from_not_less_eq"
   ]
  },
  {
   "cell_type": "code",
   "execution_count": null,
   "metadata": {},
   "outputs": [],
   "source": []
  }
 ],
 "metadata": {
  "kernelspec": {
   "display_name": "Python 3",
   "language": "python",
   "name": "python3"
  }
 },
 "nbformat": 4,
 "nbformat_minor": 0
}