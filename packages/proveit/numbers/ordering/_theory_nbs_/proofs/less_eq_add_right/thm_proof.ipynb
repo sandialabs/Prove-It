{
 "cells": [
  {
   "cell_type": "markdown",
   "metadata": {},
   "source": [
    "Proof of <a class=\"ProveItLink\" href=\"../../../../../_theory_nbs_/theory.ipynb\">proveit</a>.<a class=\"ProveItLink\" href=\"../../../../_theory_nbs_/theory.ipynb\">numbers</a>.<a class=\"ProveItLink\" href=\"../../theory.ipynb\">ordering</a>.<a class=\"ProveItLink\" href=\"../../theorems.ipynb#less_eq_add_right\">less_eq_add_right</a> theorem\n",
    "========"
   ]
  },
  {
   "cell_type": "code",
   "execution_count": 1,
   "metadata": {},
   "outputs": [],
   "source": [
    "import proveit\n",
    "theory = proveit.Theory() # the theorem's theory"
   ]
  },
  {
   "cell_type": "code",
   "execution_count": 2,
   "metadata": {},
   "outputs": [
    {
     "data": {
      "text/html": [
       "With these <a href=\"allowed_presumptions.txt\">allowed</a>/<a href=\"disallowed_presumptions.txt\">disallowed</a> theorem/theory presumptions (e.g., to avoid circular dependencies), we begin our proof of<br><strong id=\"less_eq_add_right\">less_eq_add_right:</strong> <a class=\"ProveItLink\" href=\"../../../__pv_it/theorems/d155003283bcaa3e9d4b7f81f4ee0f4f39c700690/expr.ipynb\"><img src=\"data:image/png;base64,iVBORw0KGgoAAAANSUhEUgAAARAAAAAXBAMAAAAxVg0qAAAAMFBMVEX///8AAAAAAAAAAAAAAAAA\n",
       "AAAAAAAAAAAAAAAAAAAAAAAAAAAAAAAAAAAAAAAAAAAv3aB7AAAAD3RSTlMAq1RmmUTNIjK7EInv\n",
       "3XZ/CtNrAAAACXBIWXMAAA7EAAAOxAGVKw4bAAADnklEQVRIx71WW0gUURj+nd11buvsFuGDQgwE\n",
       "QnRh6SFSaFvRbka1ZQSWoNFD1EOMj0EPK0QQGS75YJsh89CLSeyWkCIoYUg3CpEkkBZGjG7SIkQJ\n",
       "Pkj/OWd2Z860EgtbP/xnZr495z/f+W9nAcovRkmwaGv5RdNLgSFgMQ2Tjy3lJLJtPVi5N1Psh0Wm\n",
       "+8n7hTLyUDo9QJ2RhytjxRZUmlS7SYiSZSTij/Dfe1sKcCgfnYB7ji9GlfBR9TISCfKf38cduMO0\n",
       "QcFyT3lF1YfkKsuZInVcnCYsFzwBRYmcZ/omm31dTiJHSKxrP9OtlKMRN3wut9FDRM3tAXgEVA8B\n",
       "3P1r3EsgQs7XbsirhEe17oaVX2ba4IiIs3AYYDdQ7QIxnJ8tXeRs7njSeJm+yBws9MN1mt7qZIYC\n",
       "W929ahZ3fAZ+WqkuIggLqxC0OCJVGXgLsB2oyqYaL0yvLbxJC6m4psJo5g8iwiBABYWj0EZ5cBGf\n",
       "Rgcuky3IiZ3QELgTQgj7s9kPmA/k9Mdp9vYyFSxXrr4ovDUnsBlq0GB5ifj6SA0k2OwQ+qKer1fc\n",
       "MZiEdNyTrNP0/B0655GXdGy3tTOKw3B0lLhhbYFwVBctjVhHIt9iDhFlZMkA7TY9RK4Gz4uu1uEr\n",
       "tY1LnBikLdjnLd9Z2kaYC/JElDWWAbY+voTQe2mF7DyvkY3npKdD9HpQxcGIQ+Sh0WtIU8y8+RFp\n",
       "r0JVpIedEZfYO2Pg0jpUCwbf0BAOJTB5OI/8wN6GLgWmVzFa/hg1JEd82In9SSXRSon4B5KuZG2G\n",
       "HkwIesI+kuYSST5hgBySLLE3xkKULeGdU2h1CRuuiMgxngiWzBirbKIVODEY18I09P4w+cBySqVS\n",
       "uqapJ11EpmEBx7Zxmh2NNDTo7QBhEnTy/Rb6d/NY1xdPVRO4tsnT0NSRKC6eA6ZE0obcgFCIBJ1m\n",
       "4E3qES1w1iwQUVag7wE+uw8CLMNUIVmlTQZ92lKVKNpeOJjrrOIMU3YTGL2t5jBUmfUwDJVxyMgm\n",
       "zREYdyXrc+lnA3l21cC8L6lkIAcnqKUNJlniusOKCAdzlx65Dgs3ZaBp5wj06NIxC0exKWqKdxA9\n",
       "/Slz/4BD5NSupYj9X+taDjBt1ckW+08WWZI33O/cNFkqCQ/skSu2ukR3jcOplBN3uZgBYR3DQyXB\n",
       "jCHPMmA6Iy9FiZxZx7BolQKDZjB1h9E1rkdEwmpKMf4sTDcIYMB/EvHfb/EbCmr4XvDN6oQAAAAA\n",
       "SUVORK5CYII=\n",
       "\" style=\"display:inline;vertical-align:middle;\" /></a><br>(see <a class=\"ProveItLink\" href=\"../../../__pv_it/theorems/13810ea945f67813988dd2233869e6cc2aa197bb0/dependencies.ipynb\">dependencies</a>)<br>"
      ],
      "text/plain": [
       "<IPython.core.display.HTML object>"
      ]
     },
     "metadata": {},
     "output_type": "display_data"
    },
    {
     "name": "stdout",
     "output_type": "stream",
     "text": [
      "less_eq_add_right may now be readily provable (assuming required theorems are usable).  Simply execute \"%qed\".\n"
     ]
    }
   ],
   "source": [
    "%proving less_eq_add_right"
   ]
  },
  {
   "cell_type": "code",
   "execution_count": null,
   "metadata": {},
   "outputs": [],
   "source": []
  }
 ],
 "metadata": {
  "kernelspec": {
   "display_name": "Python 3",
   "language": "python",
   "name": "python3"
  }
 },
 "nbformat": 4,
 "nbformat_minor": 0
}