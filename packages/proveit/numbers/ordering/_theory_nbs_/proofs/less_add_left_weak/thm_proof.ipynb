{
 "cells": [
  {
   "cell_type": "markdown",
   "metadata": {},
   "source": [
    "Proof of <a class=\"ProveItLink\" href=\"../../../../../_theory_nbs_/theory.ipynb\">proveit</a>.<a class=\"ProveItLink\" href=\"../../../../_theory_nbs_/theory.ipynb\">numbers</a>.<a class=\"ProveItLink\" href=\"../../theory.ipynb\">ordering</a>.<a class=\"ProveItLink\" href=\"../../theorems.ipynb#less_add_left_weak\">less_add_left_weak</a> theorem\n",
    "========"
   ]
  },
  {
   "cell_type": "code",
   "execution_count": 1,
   "metadata": {},
   "outputs": [],
   "source": [
    "import proveit\n",
    "theory = proveit.Theory() # the theorem's theory"
   ]
  },
  {
   "cell_type": "code",
   "execution_count": 2,
   "metadata": {},
   "outputs": [
    {
     "data": {
      "text/html": [
       "With these <a href=\"allowed_presumptions.txt\">allowed</a>/<a href=\"disallowed_presumptions.txt\">disallowed</a> theorem/theory presumptions (e.g., to avoid circular dependencies), we begin our proof of<br><strong id=\"less_add_left_weak\">less_add_left_weak:</strong> <a class=\"ProveItLink\" href=\"../../../__pv_it/theorems/e884cfa5769bd90387d73daf4db1a932aedb97ee0/expr.ipynb\"><img src=\"data:image/png;base64,iVBORw0KGgoAAAANSUhEUgAAARAAAAAXBAMAAAAxVg0qAAAAMFBMVEX///8AAAAAAAAAAAAAAAAA\n",
       "AAAAAAAAAAAAAAAAAAAAAAAAAAAAAAAAAAAAAAAAAAAv3aB7AAAAD3RSTlMAq1RmmUTNIjK7EInv\n",
       "3XZ/CtNrAAAACXBIWXMAAA7EAAAOxAGVKw4bAAADx0lEQVRIx71WXWgUVxT+Mjubnd2ZnQQKFSLI\n",
       "glCQNnZpS8E8rBviXy0tay0FrUhQS2seygbyIihsQPrSSBYjxFUIE8hD063s+oOWFEKoiNJWSTWi\n",
       "JGyZEKlFaQiBEtmCeM+9s/PnLCpsPPDdPffMnb3fnPOdOwM03rIW6l173iJYDdMTAoG2PzAaNoFW\n",
       "ctY3ksjbFoJZJv2R8ZtsWAC20uTrBvKIdQvUsR7HlcS2hxiaDfRTifINJCInBRzb7Z58YHuhGYP/\n",
       "LpOfJi5QEw0kollwbKPnslEr0pzwwlUaf0OIkW9upETeslCHSLOVrOJfVkCdpvEgcLNS+b2RRD62\n",
       "EFn70PQRmVzIQeXdgbE7NrN186wg54EdwJkX1v0ViBy0sC8brXqJHEvIeYS4jkcP2OtLPbEV4EOg\n",
       "F5HWWlA57PnP9sud33In6t/tO7e8pWGok+Xa7LZA7CrkaS+ROWgmpClymxwi7xq4BbzDNjHUjB1d\n",
       "a3vKfCGjq7hSDiBioKns4jECpLCnNr0mIC8hTos+qVT+qFT+pLTyBClLfFWfXZptwP/AIPsf06XV\n",
       "G7a3JceEraPDfJ5IXxu0nNOFQ/y+lqyXiJZHKePJiMazGJ7yiXUOYdbA+5jXnaJ46grRfTpPPaUu\n",
       "mPwEZEQepR0isYuPabf+NewBFtu4+lLQT5Iwq9AS3tKUTGz2dk2JP5M07WvfZZ6qduZdYIdd7J6y\n",
       "Qhdnddr4rjI1zteqkZGkQ+RcdpAR2bOduf8aD9gYzwwov/J8VxGvnWEjAqUE3pSybiItbEUGobzv\n",
       "QHuCn9iFTcw7yrQqpxVKWTRJopbzsRw/DXX5bN4l1i0YYDwmyB0imeMj/IANE4KIZvUqNSIhakoz\n",
       "sicjrGXUHGRHXdI3NL6BU1bDN7F6axmdWkfLya00Ye1UKBQSuq5+5iJyDfMQGWCa6LTkwJmx0rTU\n",
       "SnNCILbu595/vF3zy/uPKIu+Bhy9RLm8W2vmbLSDJaqFl5p09z3PiB7+0rCJsHYf+hFF0gSWQIRW\n",
       "+L392z1ijecE6pysx4I/SGrK0bKDu40i4sYmFNGcQTlqcI1gwiXW68p/HSxIXTIbysfK+AoqxXvb\n",
       "sIhddunTAnVeel1135TizdO18SIGEsqnJhsjXSkjcppFv/i7PLbNIfL5e4+TVr8eX6Qi9VGu+WeX\n",
       "OrnT/tNhC8GPLkR3rkJ23w4f8a5KuMZioeBU03uOSGIbqc5e4xYCLRr8reglHjac0Xd70M176z20\n",
       "KRBoD4O/27z0Qq7xJYjwsiqsuwrDeF0WWf0tngEVRPWb3ImLQwAAAABJRU5ErkJggg==\n",
       "\" style=\"display:inline;vertical-align:middle;\" /></a><br>(see <a class=\"ProveItLink\" href=\"../../../__pv_it/theorems/962df2a3d610101f668b083523696bd883086a410/dependencies.ipynb\">dependencies</a>)<br>"
      ],
      "text/plain": [
       "<IPython.core.display.HTML object>"
      ]
     },
     "metadata": {},
     "output_type": "display_data"
    },
    {
     "name": "stdout",
     "output_type": "stream",
     "text": [
      "less_add_left_weak may now be readily provable (assuming required theorems are usable).  Simply execute \"%qed\".\n"
     ]
    }
   ],
   "source": [
    "%proving less_add_left_weak"
   ]
  },
  {
   "cell_type": "code",
   "execution_count": null,
   "metadata": {},
   "outputs": [],
   "source": []
  }
 ],
 "metadata": {
  "kernelspec": {
   "display_name": "Python 3",
   "language": "python",
   "name": "python3"
  }
 },
 "nbformat": 4,
 "nbformat_minor": 0
}