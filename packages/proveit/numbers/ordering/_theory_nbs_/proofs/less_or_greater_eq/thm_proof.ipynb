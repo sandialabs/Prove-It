{
 "cells": [
  {
   "cell_type": "markdown",
   "metadata": {},
   "source": [
    "Proof of <a class=\"ProveItLink\" href=\"../../../../../_theory_nbs_/theory.ipynb\">proveit</a>.<a class=\"ProveItLink\" href=\"../../../../_theory_nbs_/theory.ipynb\">numbers</a>.<a class=\"ProveItLink\" href=\"../../theory.ipynb\">ordering</a>.<a class=\"ProveItLink\" href=\"../../theorems.ipynb#less_or_greater_eq\">less_or_greater_eq</a> theorem\n",
    "========"
   ]
  },
  {
   "cell_type": "code",
   "execution_count": 1,
   "metadata": {},
   "outputs": [],
   "source": [
    "import proveit\n",
    "theory = proveit.Theory() # the theorem's theory"
   ]
  },
  {
   "cell_type": "code",
   "execution_count": 2,
   "metadata": {},
   "outputs": [
    {
     "data": {
      "text/html": [
       "With these <a href=\"allowed_presumptions.txt\">allowed</a>/<a href=\"disallowed_presumptions.txt\">disallowed</a> theorem/theory presumptions (e.g., to avoid circular dependencies), we begin our proof of<br><strong id=\"less_or_greater_eq\">less_or_greater_eq:</strong> <a class=\"ProveItLink\" href=\"../../../__pv_it/theorems/81e5c635f0cab6dfc9972d8195ca833be52c1a5e0/expr.ipynb\"><img src=\"data:image/png;base64,iVBORw0KGgoAAAANSUhEUgAAAO4AAAAWBAMAAAA1Ab1lAAAAMFBMVEX///8AAAAAAAAAAAAAAAAA\n",
       "AAAAAAAAAAAAAAAAAAAAAAAAAAAAAAAAAAAAAAAAAAAv3aB7AAAAD3RSTlMAq1RmmUTNIjK7EInv\n",
       "3XZ/CtNrAAAACXBIWXMAAA7EAAAOxAGVKw4bAAADU0lEQVRIx71WXUgUURQ+uzOzP7O6LUQ/asiA\n",
       "4ktKS0jhQyZY2Z8hQT4FLRlEBTFBL5bE9liZWiClDzIPEpm5bEKBRbEvQRiFZIIkylj2UNQi9GD4\n",
       "1Dkzc2dn7o6jT1347uy99/vumXvuOWcWYAMtTJ3qv7zOjGspDBtrXxFxZc1lSfcS+JAJCRpU+ZoN\n",
       "ZrHb6UP45iXwIyMO0u/zvnYfIeSUDyGkUV9OXQ8T2OKkBxlxk/zd52u3GSEmfQhCE/WN1D1kAtbk\n",
       "13oxGUHmY4qv3RyipMj5Th9NUldKJ0gxQaH9fulWThoQ8CAh/+ulvWr4I37WHKMO6ujtRYUJHG2f\n",
       "23CHiQ/z8+997YoUJccQmcXHryzPxOdMs5lmkDEyn4F11lImkPPld8bZDjUtPBlxGGDQ124oab1k\n",
       "U7xSnDKmRhestWwtCMsAe4zBdoA8E4iwqLfaW7SXc2TEFQgnin07d24ri4dSOuMndK0qrAaM8Lo6\n",
       "bS1FlFYIYFDWGiMM0S9MsBf2a5sLdgc5MiKqxdrcRnvK+kHPxq5bwxJafos6EM2LC5y1gxU+Qgm+\n",
       "X6/pGDXYxARpOFTYsGYbT0YEdS6sRPQ86LqQ4eyCoXLZBWkVetMAp61yEVJtARqx4+poEZmQosTL\n",
       "tyyhRlqEgFl9dD0+zPkZ4Iwqay4/kwd+4aPOHE3dKgikFXjC5ZGDTBi/iPGploWQndmkdctGEdGz\n",
       "naz6RemUQwAjbTsgBu64iibgHj4arBK4hQnk/kAOslzdcJAJXRhWAgxF8Oe1OvghGaGjH5lg9FjC\n",
       "DPxdt4/DSWsus2DmkZiQ/lhZhm0sxQTBv8M5SeHqpINMCKRpcsVYqoBK4cLAwH3083NWxCKUO3cB\n",
       "hvPBZruwCWYCyxVLJJyxNlaYQD6hV+/mk8RBnmFzkZzxUZyBd5Gseb+n7CozS3eW5guWVSdjeMbw\n",
       "lHttdq1SwMi2oCuWEmEUFdKyWUUwj1hcQb1d+ovaC3iqFH806mEdsi0Qv7/5Cd0KVDekoBOPJl2+\n",
       "JB9gZTZK2fHAc6sFvBmATm426vhvMjZPbdZN5gSKrEaTIE8M9LvvhSJ8xNNu1VKbxzvJfeuQ3QJJ\n",
       "C+jtXoIbVPX1NQt4XPUS+JA5gQBSYxb+T/sHscPot7LYm5QAAAAASUVORK5CYII=\n",
       "\" style=\"display:inline;vertical-align:middle;\" /></a><br>(see <a class=\"ProveItLink\" href=\"../../../__pv_it/theorems/31ac53eda69a4f54b6da032b7d412bb7b42f42740/dependencies.ipynb\">dependencies</a>)<br>"
      ],
      "text/plain": [
       "<IPython.core.display.HTML object>"
      ]
     },
     "metadata": {},
     "output_type": "display_data"
    }
   ],
   "source": [
    "%proving less_or_greater_eq"
   ]
  },
  {
   "cell_type": "code",
   "execution_count": null,
   "metadata": {},
   "outputs": [],
   "source": []
  }
 ],
 "metadata": {
  "kernelspec": {
   "display_name": "Python 3",
   "language": "python",
   "name": "python3"
  }
 },
 "nbformat": 4,
 "nbformat_minor": 0
}