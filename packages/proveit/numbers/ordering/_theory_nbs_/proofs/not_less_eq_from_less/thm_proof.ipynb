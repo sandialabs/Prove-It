{
 "cells": [
  {
   "cell_type": "markdown",
   "metadata": {},
   "source": [
    "Proof of <a class=\"ProveItLink\" href=\"../../../../../_theory_nbs_/theory.ipynb\">proveit</a>.<a class=\"ProveItLink\" href=\"../../../../_theory_nbs_/theory.ipynb\">numbers</a>.<a class=\"ProveItLink\" href=\"../../theory.ipynb\">ordering</a>.<a class=\"ProveItLink\" href=\"../../theorems.ipynb#not_less_eq_from_less\">not_less_eq_from_less</a> theorem\n",
    "========"
   ]
  },
  {
   "cell_type": "code",
   "execution_count": 1,
   "metadata": {},
   "outputs": [],
   "source": [
    "import proveit\n",
    "theory = proveit.Theory() # the theorem's theory"
   ]
  },
  {
   "cell_type": "code",
   "execution_count": 2,
   "metadata": {},
   "outputs": [
    {
     "data": {
      "text/html": [
       "With these <a href=\"allowed_presumptions.txt\">allowed</a>/<a href=\"disallowed_presumptions.txt\">disallowed</a> theorem/theory presumptions (e.g., to avoid circular dependencies), we begin our proof of<br><strong id=\"not_less_eq_from_less\">not_less_eq_from_less:</strong> <a class=\"ProveItLink\" href=\"../../../__pv_it/theorems/204076f4276d106430b6496917459e6b4d30cd7c0/expr.ipynb\"><img src=\"data:image/png;base64,iVBORw0KGgoAAAANSUhEUgAAANUAAAAXBAMAAABuThcPAAAAMFBMVEX///8AAAAAAAAAAAAAAAAA\n",
       "AAAAAAAAAAAAAAAAAAAAAAAAAAAAAAAAAAAAAAAAAAAv3aB7AAAAD3RSTlMAq1RmmUTNIjK7EInv\n",
       "3XZ/CtNrAAAACXBIWXMAAA7EAAAOxAGVKw4bAAAC70lEQVRIx61VTWgTQRR++dn87KZrxFMVZMEi\n",
       "iBSCiFIPaYK2ClINCr0INuhB8SBb6EmqRK+tEEHRWAhbCEINSuyhooeyCIIgStAKgkQ2UpX2UHpr\n",
       "j76ZSTZvN90osQPfMrPv2/fNvJ9ZgP8YYbrQvXl6Z/M/jR9krmrevIsNxNliX1dS/gpZHOxAVBMC\n",
       "Q2xxpSutJ2QuZ90boT6vCdxmcc93pXWczIMJpy2wZJDVYYEQvlO0rrRMMo+5ovaNSkHM4AjghkLd\n",
       "pYuGbb/DVP7upIYSAh9qtfddaQVpaZzGlC0nYJYvSp/tNK7tnprHwMUFTgE87uQy5WUI0RRdRmd+\n",
       "EwbZfPZSaz9Qt0Ywe1mBcQjH2x31L6Svi5ln3fRglkdqOJZw8QngTrAKvczga2kdhUFjF4bbFIga\n",
       "SsbpJFIvZFQFXla20JJJwpufjSPeAhgxCz7yFxN2DHMwzD2uC/gtd2mcyGEhqXDMatcKpw1PLRgz\n",
       "IptttcHVJVMAskl8rJ1cxhtLqoOPdzjTWk0RLWGP7NQFpxlDWwtjiEdQTXfNSxvwFM9TFYB57GhV\n",
       "7w3hp893GNMwx8lKuJhoaQm7dF9vcNiIWg3HE4gi4h5E485elh/4TMBUBPICMImEABQjOL3RDytw\n",
       "njsPzuRJbXC7NGM0OWwotKReINIw1ipN/1X22CyZkibag7eIL8dsG5yxB/bCkUKhoKmqcs5Rh2if\n",
       "1mwOT3iVaN1ltb541vXnkM9YfYdYuDMCjdoz+c/oC7yDKX4uVbpgEC1ml19pTQ4fX2kD8A0veLTH\n",
       "zQb4mFSyQSjj59I6NgHPF7wmtcHtACssRoxj36h2flKgZOU3HW5p+6YO/lxcZTHqG8hC+BG+GP1V\n",
       "KQ23tLgdxwCKMY4oDhqxh9Bj+URHPmMNXiOnZv8R979Ek/UoOisXCqS7nZwDuuDwbFDTHPiTQx7H\n",
       "YpuKOlMpGT5rtI3ovqMI5xbtcsv7Sv3dAI05SMnKX7W24mzX0LfN0x/V9MMAlV2cXQAAAABJRU5E\n",
       "rkJggg==\n",
       "\" style=\"display:inline;vertical-align:middle;\" /></a><br>(see <a class=\"ProveItLink\" href=\"../../../__pv_it/theorems/08c30e0cf228515fd3dd0a66cea3e6161c2de4740/dependencies.ipynb\">dependencies</a>)<br>"
      ],
      "text/plain": [
       "<IPython.core.display.HTML object>"
      ]
     },
     "metadata": {},
     "output_type": "display_data"
    }
   ],
   "source": [
    "%proving not_less_eq_from_less"
   ]
  },
  {
   "cell_type": "code",
   "execution_count": null,
   "metadata": {},
   "outputs": [],
   "source": []
  }
 ],
 "metadata": {
  "kernelspec": {
   "display_name": "Python 3",
   "language": "python",
   "name": "python3"
  }
 },
 "nbformat": 4,
 "nbformat_minor": 0
}