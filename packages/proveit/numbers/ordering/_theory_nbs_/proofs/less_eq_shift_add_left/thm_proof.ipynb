{
 "cells": [
  {
   "cell_type": "markdown",
   "metadata": {},
   "source": [
    "Proof of <a class=\"ProveItLink\" href=\"../../../../../_theory_nbs_/theory.ipynb\">proveit</a>.<a class=\"ProveItLink\" href=\"../../../../_theory_nbs_/theory.ipynb\">numbers</a>.<a class=\"ProveItLink\" href=\"../../theory.ipynb\">ordering</a>.<a class=\"ProveItLink\" href=\"../../theorems.ipynb#less_eq_shift_add_left\">less_eq_shift_add_left</a> theorem\n",
    "========"
   ]
  },
  {
   "cell_type": "code",
   "execution_count": 1,
   "metadata": {},
   "outputs": [],
   "source": [
    "import proveit\n",
    "theory = proveit.Theory() # the theorem's theory"
   ]
  },
  {
   "cell_type": "code",
   "execution_count": 2,
   "metadata": {},
   "outputs": [
    {
     "data": {
      "text/html": [
       "With these <a href=\"allowed_presumptions.txt\">allowed</a>/<a href=\"disallowed_presumptions.txt\">disallowed</a> theorem/theory presumptions (e.g., to avoid circular dependencies), we begin our proof of<br><strong id=\"less_eq_shift_add_left\">less_eq_shift_add_left:</strong> <a class=\"ProveItLink\" href=\"../../../__pv_it/theorems/3b730866fbb9592340cd76ad55d4415dcb0d177c0/expr.ipynb\"><img src=\"data:image/png;base64,iVBORw0KGgoAAAANSUhEUgAAASEAAAAXBAMAAAC2Z+QsAAAAMFBMVEX///8AAAAAAAAAAAAAAAAA\n",
       "AAAAAAAAAAAAAAAAAAAAAAAAAAAAAAAAAAAAAAAAAAAv3aB7AAAAD3RSTlMAq1RmmUTNIjK7EInv\n",
       "3XZ/CtNrAAAACXBIWXMAAA7EAAAOxAGVKw4bAAAD1ElEQVRIx71XXWgTQRCe5qeX3CWXKOJLQQKC\n",
       "ItpyYCm2YIhExR+qQcEXRSN9EH2Q66OgJT6JqJg3jUo9QQSp0GjBiqIIIlr/qEJR1IOrBcWKpSgq\n",
       "+CDO7F5ye5dchaY4MHub3Zndb3e+nd0ANCw6quTTJ/k5+DTrMAeiprD44NMZtnwc6shuW5P0Y3ED\n",
       "iJajBsp+vRP1HTwiXxhFpBrXddSyb/aA5DwWV3y7mw2nvkSvOtSYZbA4wPUoRbs4e0QhXBVkxUBp\n",
       "YncwU62u3uQ4VGS7/U1QJNu50iKU1OwRxai4LzQE3NR5Uql8vS04VKTN/u6hrYwZTIMIubkBGi0h\n",
       "EHl/RD12cO9agkMNorssdBrX56b5tAFEmykQRGxlapUbUe+9Piyvc0DdmugA9yYKLkR7p+bjCEmu\n",
       "GwDO/XPejG9Pj7046RVsdCEKP4KLGIYOBmhhyuVwJBUqiojkn8agDkHcatJekJIV68h+12ytN9cc\n",
       "5DU39ZfpjuEr1DjOFy/DCxeiaxp042cF+yEgIod3ELNERIHf1BBAOpJGDSVXNW+p1iLjpZyqwHC5\n",
       "FtEySzB8SJTEAbayYx4yzfdIA1riVpoY4DTP3U7U0CH0m9W6TfOZab4ktzwkyhCZBqYBSyD242pt\n",
       "LQZaVaHLqkHUqYmGFUQjXmaPgPwDP7u8zEaHWNHDbNzgPSkI4/6QQj6NxUB6mDbmzzgtVZmwKHkS\n",
       "osmMgIgZfU45hk7U5D8eRNgQnKbIe08/OgxaHkSYjnCPA5i4SeEG5kn5deQXQXirEoKxyP2r7AZS\n",
       "pH7NQcSMTjJG2IYo/ahRnOE7rs+F6Bs05ZfijnozJDokcNCcC1FBfoCsLnKFwxj1UCZC2xXViOuh\n",
       "olxgyVQNnS8KzGZGgfNG1RDs001HFg/aLVfU+qE1k7EPu52JCrYDHjTFdfqbtGiGJxGWSJoKxASV\n",
       "2BgrhJKcFh2lUimlqso2ARE3ChMkbkhyimKIW60MpQ0Xoktfji3Ckce86YIc7qycdEVNbqF7KJ7j\n",
       "ymRQj3bhgAmIYVASeCOeYHukhncaDiLbKLJAtw0ZKWmxb3xztjTqRRQv1MnZTI7Yyi8b/fR2YwDi\n",
       "RicMQHMOylGD8QhuC8xmRjTLPIMMhau03femdd2r3rvXuWmZZMU7O5xtG0LSRrZYWErZtCGdxdYd\n",
       "H8uX1zuImBF/GZKhLWeIVr5vv0M8KiaTQtWh7nuzWPsKSQnlQKnkJE6Y4blCp1L27T9T36Ge0LI8\n",
       "SwsbTumRGRBJtFt9fk9e3cehjnyyVYywUPoiOo6HsDQnD/TG/2/8J/kLh2UCPXhMXdMAAAAASUVO\n",
       "RK5CYII=\n",
       "\" style=\"display:inline;vertical-align:middle;\" /></a><br>(see <a class=\"ProveItLink\" href=\"../../../__pv_it/theorems/1e3b971c2266cfcdc9d1279f1111794b0379c9320/dependencies.ipynb\">dependencies</a>)<br>"
      ],
      "text/plain": [
       "<IPython.core.display.HTML object>"
      ]
     },
     "metadata": {},
     "output_type": "display_data"
    },
    {
     "name": "stdout",
     "output_type": "stream",
     "text": [
      "less_eq_shift_add_left may now be readily provable (assuming required theorems are usable).  Simply execute \"%qed\".\n"
     ]
    }
   ],
   "source": [
    "%proving less_eq_shift_add_left"
   ]
  },
  {
   "cell_type": "code",
   "execution_count": null,
   "metadata": {},
   "outputs": [],
   "source": []
  }
 ],
 "metadata": {
  "kernelspec": {
   "display_name": "Python 3",
   "language": "python",
   "name": "python3"
  }
 },
 "nbformat": 4,
 "nbformat_minor": 0
}