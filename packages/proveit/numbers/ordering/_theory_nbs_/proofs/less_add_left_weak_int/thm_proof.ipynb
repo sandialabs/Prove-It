{
 "cells": [
  {
   "cell_type": "markdown",
   "metadata": {},
   "source": [
    "Proof of <a class=\"ProveItLink\" href=\"../../../../../_theory_nbs_/theory.ipynb\">proveit</a>.<a class=\"ProveItLink\" href=\"../../../../_theory_nbs_/theory.ipynb\">numbers</a>.<a class=\"ProveItLink\" href=\"../../theory.ipynb\">ordering</a>.<a class=\"ProveItLink\" href=\"../../theorems.ipynb#less_add_left_weak_int\">less_add_left_weak_int</a> theorem\n",
    "========"
   ]
  },
  {
   "cell_type": "code",
   "execution_count": 1,
   "metadata": {},
   "outputs": [],
   "source": [
    "import proveit\n",
    "theory = proveit.Theory() # the theorem's theory"
   ]
  },
  {
   "cell_type": "code",
   "execution_count": 2,
   "metadata": {},
   "outputs": [
    {
     "data": {
      "text/html": [
       "With these <a href=\"allowed_presumptions.txt\">allowed</a>/<a href=\"disallowed_presumptions.txt\">disallowed</a> theorem/theory presumptions (e.g., to avoid circular dependencies), we begin our proof of<br><strong id=\"less_add_left_weak_int\">less_add_left_weak_int:</strong> <a class=\"ProveItLink\" href=\"../../../__pv_it/theorems/4675e69eda84d5d7856942f7da44e1086ee21e0a0/expr.ipynb\"><img src=\"data:image/png;base64,iVBORw0KGgoAAAANSUhEUgAAAQ8AAAAXBAMAAADn89dPAAAAMFBMVEX///8AAAAAAAAAAAAAAAAA\n",
       "AAAAAAAAAAAAAAAAAAAAAAAAAAAAAAAAAAAAAAAAAAAv3aB7AAAAD3RSTlMAq1RmmUTNIjK7EInv\n",
       "3XZ/CtNrAAAACXBIWXMAAA7EAAAOxAGVKw4bAAADj0lEQVRIx71WTUhUURT+5v/NndGxFgUKMRD0\n",
       "s0imEiEhmRjDCswB29QibRFRm8ZyV8ozohZJDgnZVNhrE+WUDhkEhiJFqFRgiyiMgTGDoEGRwAQX\n",
       "0v15837GN2Q0deDcd+/HvHu/e853zhug6OZR3dJif4D+rX1R3dKOF0TL2GRzEXnYU8KtrTSUB5C7\n",
       "UwLdz1anikjkgeoF7Iw+3cIz4g4LtJNlNF5EIhHVdWsyLqq02d5D/BEICtStAL5gEYmMqa5bpXHh\n",
       "V9TJ3LB4NisCddD0uIspkRbhhYi4hUjISEYFRnLou3T6TRGJOFPC0TrakU9kdFaGj1cHadBEe2J+\n",
       "PTh6ALj9293XToTdjblrHPcUM5H2oDMOB4sW2aCJgfxUBmMcbYWnLIdKp02b2iaf3WGahjf/uCtG\n",
       "edt7Qapzi5Kg8MchNORF5DP8Gdi5fnQi9uUc6lV8UW3PCm0mzSSiJTHfgGJBRIHN0CjsfcD1OU2M\n",
       "UeGN7GBqDen023T6PQvrMt93gXdfLTXOFgRSHLVnDFqd0GZ1MuDApfNYTaStHH5ZWzl62Lgjn8gk\n",
       "yKI5In4eRdeYWawlKTQHBdpSS4dk7XNGd2WGRcA3m1E7YDhsIEKGsqwFdW4EuufLufpqUXoDJiJq\n",
       "asgKHAtmIoP8aPuUuXxpG2lUBPqUtjXyUVpiDXi6lJ38QRp7JG57TjYQeRLrpkSO1rNdlK/s0GiX\n",
       "9BJmIt4Md/IDtpatJiIBercoHHFzQwvI5BUEepFq1RmWWHC8ISZfZ5zIohsO+GAgUocuyoNfpAdM\n",
       "nQfxENuHzURYITLvww41nDkitGR8sihttcWzW9pC3rBa8DaZZbWUlY5fdpaJFFcnEokgUsPo14m8\n",
       "xgzUCExgHweQY6YRkaaE389e3SSbq+bF7u8sinkfvYoIDOhgzFtD1RGAn6Y4QBNwjQtrWwjDGhGy\n",
       "hJ5+JLkmFsAILfF3O+uNRPBJ9QKdtd2y+2ioP9bdpCRRouxBEu4oUl4uWidcU3pExqXFGqojViXT\n",
       "jjhJ4SR46lrLjUSqTF+2VR+9SMEvJTdXpHIIXUHpcIaOnkit4rlF0Z3rsjfLdCJHdmVDar1enmdJ\n",
       "amOx5n+wLpwd1dQaE17g7xvXKklzk82obkHDmEwk9Gya+wjtpPxhfRSJC7c2a4p5qEvRx7wfWr19\n",
       "rMBZHapb2re1oA7DuAYivOVJtLoSvfhf5vn3R/wCCC7mxkH/eBAAAAAASUVORK5CYII=\n",
       "\" style=\"display:inline;vertical-align:middle;\" /></a><br>(see <a class=\"ProveItLink\" href=\"../../../__pv_it/theorems/c550b7201b650e1895c22a793a3a2384cbefe6c80/dependencies.ipynb\">dependencies</a>)<br>"
      ],
      "text/plain": [
       "<IPython.core.display.HTML object>"
      ]
     },
     "metadata": {},
     "output_type": "display_data"
    }
   ],
   "source": [
    "%proving less_add_left_weak_int"
   ]
  },
  {
   "cell_type": "code",
   "execution_count": null,
   "metadata": {},
   "outputs": [],
   "source": []
  }
 ],
 "metadata": {
  "kernelspec": {
   "display_name": "Python 3",
   "language": "python",
   "name": "python3"
  }
 },
 "nbformat": 4,
 "nbformat_minor": 0
}