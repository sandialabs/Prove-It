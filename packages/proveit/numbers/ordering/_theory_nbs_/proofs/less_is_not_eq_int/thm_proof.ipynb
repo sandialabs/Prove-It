{
 "cells": [
  {
   "cell_type": "markdown",
   "metadata": {},
   "source": [
    "Proof of <a class=\"ProveItLink\" href=\"../../../../../_theory_nbs_/theory.ipynb\">proveit</a>.<a class=\"ProveItLink\" href=\"../../../../_theory_nbs_/theory.ipynb\">numbers</a>.<a class=\"ProveItLink\" href=\"../../theory.ipynb\">ordering</a>.<a class=\"ProveItLink\" href=\"../../theorems.ipynb#less_is_not_eq_int\">less_is_not_eq_int</a> theorem\n",
    "========"
   ]
  },
  {
   "cell_type": "code",
   "execution_count": 1,
   "metadata": {},
   "outputs": [],
   "source": [
    "import proveit\n",
    "theory = proveit.Theory() # the theorem's theory"
   ]
  },
  {
   "cell_type": "code",
   "execution_count": 2,
   "metadata": {},
   "outputs": [
    {
     "data": {
      "text/html": [
       "With these <a href=\"allowed_presumptions.txt\">allowed</a>/<a href=\"disallowed_presumptions.txt\">disallowed</a> theorem/theory presumptions (e.g., to avoid circular dependencies), we begin our proof of<br><strong id=\"less_is_not_eq_int\">less_is_not_eq_int:</strong> <a class=\"ProveItLink\" href=\"../../../__pv_it/theorems/a0acfddee888fa518129dfde97b7fd2758de070b0/expr.ipynb\"><img src=\"data:image/png;base64,iVBORw0KGgoAAAANSUhEUgAAAK8AAAAXCAMAAABK1e9fAAAAPFBMVEX///8AAAAAAAAAAAAAAAAA\n",
       "AAAAAAAAAAAAAAAAAAAAAAAAAAAAAAAAAAAAAAAAAAAAAAAAAAAAAAAAAAAo1xBWAAAAE3RSTlMA\n",
       "q1RmmUTNIjK7EInv3Xbn9enzK1aD6QAAAAlwSFlzAAAOxAAADsQBlSsOGwAAApFJREFUSMfFV4my\n",
       "pCAMNNyEY3cf//+vy6mADs7O2/JRU5aOJGk6TYjb9jNDPmLy34Yn6/cMz/9xn66wPxP6GFxi1u+V\n",
       "Pu5RW1cXmQAy3l6IxwhHcTNBq/5JsHYTWVeNYKkfo5fdZFLB8BiaeCiroNMw5DG89o7eIdM87GK2\n",
       "8Y7WxYrn1HsTio/0GncoI2G1Lg1rnpNDCyXBeOlP76eNJMB7KMk3aSUsi1vjZ7E/sBE1o9xGYPrI\n",
       "NsvEuV+/03XnGENULIa8BiryKttllr2YtyBYbVj8dVK7A3d2srlCFtpcn9wNvSQvyOY0ENuoNfwi\n",
       "FrTEKQ9axxkuujLo8U28ODg5tluJxUIGP7/mU8pYVnvI01Q2If7FbrO1DDJWbyIhisi+Gi3wSgbY\n",
       "OTnhtTpnm6/pLQvipaZxW0sDrapHQ71pBipEoWM9Vw7BDuvv8Y7GALJ3ctIDhhSThs510u2fr6Ji\n",
       "GKovKyonrpbeWoQxJlyFFtI73DyLB2IXi0qiXuDtjblmcnAy2PiCNwEBsZGBUDHv+6Ca1GP0Ek5a\n",
       "aImPhOzVXNO8I3lHL/pt1FuH9zDm2uDkZCiosMMmbsoXORUciA40GyshqENZHnr5MojRdB6JDrMl\n",
       "JIhXeHdjZcm4B9hYfFTJKoI3SoJXS3rjNLOf324Ue65ymjY4SVoxtDoY5UQlU3OFtzNGo3fE1cko\n",
       "YPVZ4ybn2meTAjmN9TnZReVlwRxHicnJ4+5SD7txlq2unDQn/aAvTxmB/9QncUaJN7SmVDHvS+fW\n",
       "yhlAzKEWcIl3N66TC+LmZNHQdAtZ07sq9mQoVEm//LKVWrl4BWssOb1Q8P22bWL6zXbiw6b5osvJ\n",
       "yVh+Q62+J979Nnquyf+x79xvjb/pIhPYSvR8ZgAAAABJRU5ErkJggg==\n",
       "\" style=\"display:inline;vertical-align:middle;\" /></a><br>(see <a class=\"ProveItLink\" href=\"../../../__pv_it/theorems/18611bda59e6c2b853f168584bb88c4b52f721e90/dependencies.ipynb\">dependencies</a>)<br>"
      ],
      "text/plain": [
       "<IPython.core.display.HTML object>"
      ]
     },
     "metadata": {},
     "output_type": "display_data"
    }
   ],
   "source": [
    "%proving less_is_not_eq_int"
   ]
  },
  {
   "cell_type": "code",
   "execution_count": null,
   "metadata": {},
   "outputs": [],
   "source": []
  }
 ],
 "metadata": {
  "kernelspec": {
   "display_name": "Python 3",
   "language": "python",
   "name": "python3"
  }
 },
 "nbformat": 4,
 "nbformat_minor": 0
}