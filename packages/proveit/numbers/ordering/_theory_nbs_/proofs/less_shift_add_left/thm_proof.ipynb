{
 "cells": [
  {
   "cell_type": "markdown",
   "metadata": {},
   "source": [
    "Proof of <a class=\"ProveItLink\" href=\"../../../../../_theory_nbs_/theory.ipynb\">proveit</a>.<a class=\"ProveItLink\" href=\"../../../../_theory_nbs_/theory.ipynb\">numbers</a>.<a class=\"ProveItLink\" href=\"../../theory.ipynb\">ordering</a>.<a class=\"ProveItLink\" href=\"../../theorems.ipynb#less_shift_add_left\">less_shift_add_left</a> theorem\n",
    "========"
   ]
  },
  {
   "cell_type": "code",
   "execution_count": 1,
   "metadata": {},
   "outputs": [],
   "source": [
    "import proveit\n",
    "theory = proveit.Theory() # the theorem's theory"
   ]
  },
  {
   "cell_type": "code",
   "execution_count": 2,
   "metadata": {},
   "outputs": [
    {
     "data": {
      "text/html": [
       "With these <a href=\"allowed_presumptions.txt\">allowed</a>/<a href=\"disallowed_presumptions.txt\">disallowed</a> theorem/theory presumptions (e.g., to avoid circular dependencies), we begin our proof of<br><strong id=\"less_shift_add_left\">less_shift_add_left:</strong> <a class=\"ProveItLink\" href=\"../../../__pv_it/theorems/556cecc2cf60889e00805d49c7ab3e33619a7fa80/expr.ipynb\"><img src=\"data:image/png;base64,iVBORw0KGgoAAAANSUhEUgAAASEAAAAXBAMAAAC2Z+QsAAAAMFBMVEX///8AAAAAAAAAAAAAAAAA\n",
       "AAAAAAAAAAAAAAAAAAAAAAAAAAAAAAAAAAAAAAAAAAAv3aB7AAAAD3RSTlMAq1RmmUTNIjK7EInv\n",
       "3XZ/CtNrAAAACXBIWXMAAA7EAAAOxAGVKw4bAAADyUlEQVRIx8VWXUgUURQ+rrvO7sw6az30IsRC\n",
       "YEQ/DCSSQrJiRT+YS0IvRW70EPUQ42OQsj31UOE+BLYZNkEEYuCWkGUoQkTZHxZEUS1sCUWGIkUF\n",
       "Pkjn3JmduTM7t0KjDpw7d+49597v3vPdcy/AkkVHlQR9kshB0KzDXxA1jsV7QWeoIHDwkQOWVtHP\n",
       "qiUgWosayIl6p/wdPCJfnESkmqlbqeXw4gHJKSyuCrsrDF+HErMEFkdNPUnRziweURBXBc18oDS+\n",
       "uzzh61CUNusbo0jWmkqLUOKLRxSlYpxrCLip89Cp1ui2Q1E2WN922sqowbQcIVcsgUY1BCIlRnTI\n",
       "rm3eaTuUIBplodNMfZLPP1oCol0UCCK2MrvJjahjrAvL60XDmRHHAcam0i5EB2eX4whVpm4HuPDb\n",
       "eRPCnkPW4qTnsMOFKHQfLmEY6iw+jxY4h854MMMjkr8bgzqU41aTdoBUVRw+fMQ12/qbTcfMmpf6\n",
       "juFz1ErkYWUOnroQXdOgBT/rzEzZovEObyBa4BEF5qkhgHQkjRhK0p6p2pnzXTapKjCc80Ekc4b3\n",
       "iJI4QCs75sF8/i3SgJbYShMDdDOrFc7ZQYfgPKu15POP8/ln5JaCWA7Cc8A0UOCI/cCubcFAqyo0\n",
       "FEoRSU2GY1hENOFl9gTI3/Cz3wdRNONhNm5wexxCuD+kkGrEYqBxmDZm4R0tVZkqUPIkRNMJDpFl\n",
       "tEwvGjpRkxc8iLChfI4i7xO1wYIHEaYj3OMAJm5SuIF5Un4Z/kEQXquE4EV4vJ/dQIrUpzmITKPQ\n",
       "Od02ROlDjeAMX7HHhegLlKVWA9R7mY0OMRw06UKUlu8iqzOmwgmMejARpu2KaMT1YEZOs2SqBnsz\n",
       "HLOZUajXsA3BOt10ZPGg3XJFrQ/WJxLWYSdIM9O2Ax40xXX6y7RIwkwiLJGUpYkJKrExmg5WmbSo\n",
       "y2azcVVV9nCImNEZxgjTkOQsxRG3WhlqNFyILn8+tRJHfuFkyBHb4c7GaVfU5Gq6hyqTpjIZ1CMN\n",
       "OGAMojhhDMNymu2RGtpnOIiYkXybIJmGjJS02FfCnC1NOvU63Xbw5mwmnZaat5Pe3WYMQKVRDwNQ\n",
       "kYRcxGA8ghGO2cwI4BOygAy5q7RWeNO67tXSu7eN72nm7+xQ84YhDEh4dwFLqbnRkM5j694PuSvb\n",
       "HETMCKVeAzK0pIdoJXz7HS9t6hG9NzOlr5A4Vw5ks07i9GTINTwAOpWy8DnjM32/wJSW5VlayHBK\n",
       "j/ziASXRbnWJnry6wMFHPlrKR5gr/xzRfxL93031E8vx+Zy/B/EsAAAAAElFTkSuQmCC\n",
       "\" style=\"display:inline;vertical-align:middle;\" /></a><br>(see <a class=\"ProveItLink\" href=\"../../../__pv_it/theorems/cfc343d4e0ff548c862a696b66710e63447a2a5c0/dependencies.ipynb\">dependencies</a>)<br>"
      ],
      "text/plain": [
       "<IPython.core.display.HTML object>"
      ]
     },
     "metadata": {},
     "output_type": "display_data"
    },
    {
     "name": "stdout",
     "output_type": "stream",
     "text": [
      "less_shift_add_left may now be readily provable (assuming required theorems are usable).  Simply execute \"%qed\".\n"
     ]
    }
   ],
   "source": [
    "%proving less_shift_add_left"
   ]
  },
  {
   "cell_type": "code",
   "execution_count": null,
   "metadata": {},
   "outputs": [],
   "source": []
  }
 ],
 "metadata": {
  "kernelspec": {
   "display_name": "Python 3",
   "language": "python",
   "name": "python3"
  }
 },
 "nbformat": 4,
 "nbformat_minor": 0
}