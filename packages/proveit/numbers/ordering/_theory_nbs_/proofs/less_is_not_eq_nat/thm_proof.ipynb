{
 "cells": [
  {
   "cell_type": "markdown",
   "metadata": {},
   "source": [
    "Proof of <a class=\"ProveItLink\" href=\"../../../../../_theory_nbs_/theory.ipynb\">proveit</a>.<a class=\"ProveItLink\" href=\"../../../../_theory_nbs_/theory.ipynb\">numbers</a>.<a class=\"ProveItLink\" href=\"../../theory.ipynb\">ordering</a>.<a class=\"ProveItLink\" href=\"../../theorems.ipynb#less_is_not_eq_nat\">less_is_not_eq_nat</a> theorem\n",
    "========"
   ]
  },
  {
   "cell_type": "code",
   "execution_count": 1,
   "metadata": {},
   "outputs": [],
   "source": [
    "import proveit\n",
    "theory = proveit.Theory() # the theorem's theory"
   ]
  },
  {
   "cell_type": "code",
   "execution_count": 2,
   "metadata": {},
   "outputs": [
    {
     "data": {
      "text/html": [
       "With these <a href=\"allowed_presumptions.txt\">allowed</a>/<a href=\"disallowed_presumptions.txt\">disallowed</a> theorem/theory presumptions (e.g., to avoid circular dependencies), we begin our proof of<br><strong id=\"less_is_not_eq_nat\">less_is_not_eq_nat:</strong> <a class=\"ProveItLink\" href=\"../../../__pv_it/theorems/25e75496c071b11af4ee9c174d64f8cbe1acb4a60/expr.ipynb\"><img src=\"data:image/png;base64,iVBORw0KGgoAAAANSUhEUgAAALAAAAAXCAMAAACccDU6AAAAPFBMVEX///8AAAAAAAAAAAAAAAAA\n",
       "AAAAAAAAAAAAAAAAAAAAAAAAAAAAAAAAAAAAAAAAAAAAAAAAAAAAAAAAAAAo1xBWAAAAE3RSTlMA\n",
       "q1RmmUTNIjK7EInv3Xbn9enzK1aD6QAAAAlwSFlzAAAOxAAADsQBlSsOGwAAApVJREFUSMfFV+22\n",
       "nCAMFAgCAdL2+v7vWj4V0MXt3h4vPzzrQpJhMoS4LD801CMm/28Qn88Dnv+TFJ9sf+fiObzczue1\n",
       "OX6jcb7sMiIEWSfW5yjH9WaB0e3bCvVH4F1XipV5jmC4SaZm3etW9SOgoI7D8ucAuzuCu2TLbRe0\n",
       "C79E2e36oIJvYsmeYOsPcUSwzsfh7IOKqLEUs6ToND+cppURsZx/G7cCSeAGP4v9idFakipdQGaO\n",
       "hEOizv/6HZ87y7gF1eKWNiHWtM36GKW/DudQebChqAh3LL49qScnYfhMF7pUpvwNwTztyKVEcFfJ\n",
       "tfIiGKup08SMCSs4Wyx2VX0KGDsnzZnLwWBL6Md5OWQNkuK3tEwnE04vjpwr1RBA17uFogiaEBPA\n",
       "Chg2Ts6AnUkJl3OC845kLm3SlQIhivLRCrLVQG9B7FgumAxYcxkOyQvAvTFjqnVylgRuMajYGi6j\n",
       "dv98ZSWzrgpDVjr3pQSXYoxehQg1JnlcCMLVeMhJB0lweQ24NZYGVOekL7OUAUckbF14R+k6nv5N\n",
       "V7mH7eV4qp4iCJ71XtWNSMdSihZwkASZS8CHsTQWByd9YWU7bu6hrzT8VHdY8GCgL4hMH+Ii1koY\n",
       "WAhn0uAZMNpW8KZXZjLWjvfnAIYSpHNikZHVipGeEhyW2f0q973gU7EzAotNVFeIrW3H8CI5XQFu\n",
       "jNGaHXJxMohYf9bGqbEEuqhCKTDSGNxi1sxxp4i0QWLXDFfjtMYUUqqTboiX982K/9Q0SRCcrChZ\n",
       "1UCU+zhdU5lLzjXg3biAypCrk1l30+xkTvCs6vOuXkUNy8u+aubCvOyw8YWdx/ebuIHrN1uLT5vo\n",
       "i5Yn5WP6WTX7wnj3c+nBrv/HPn6/N/4CLysT3soT8+EAAAAASUVORK5CYII=\n",
       "\" style=\"display:inline;vertical-align:middle;\" /></a><br>(see <a class=\"ProveItLink\" href=\"../../../__pv_it/theorems/90556df5b665b5ff7d8773a921af8e1936b306100/dependencies.ipynb\">dependencies</a>)<br>"
      ],
      "text/plain": [
       "<IPython.core.display.HTML object>"
      ]
     },
     "metadata": {},
     "output_type": "display_data"
    }
   ],
   "source": [
    "%proving less_is_not_eq_nat"
   ]
  },
  {
   "cell_type": "code",
   "execution_count": null,
   "metadata": {},
   "outputs": [],
   "source": []
  }
 ],
 "metadata": {
  "kernelspec": {
   "display_name": "Python 3",
   "language": "python",
   "name": "python3"
  }
 },
 "nbformat": 4,
 "nbformat_minor": 0
}