{
 "cells": [
  {
   "cell_type": "markdown",
   "metadata": {},
   "source": [
    "Proof of <a class=\"ProveItLink\" href=\"../../../../../_theory_nbs_/theory.ipynb\">proveit</a>.<a class=\"ProveItLink\" href=\"../../../../_theory_nbs_/theory.ipynb\">numbers</a>.<a class=\"ProveItLink\" href=\"../../theory.ipynb\">ordering</a>.<a class=\"ProveItLink\" href=\"../../theorems.ipynb#less_than_is_bool\">less_than_is_bool</a> theorem\n",
    "========"
   ]
  },
  {
   "cell_type": "code",
   "execution_count": 1,
   "metadata": {},
   "outputs": [],
   "source": [
    "import proveit\n",
    "theory = proveit.Theory() # the theorem's theory"
   ]
  },
  {
   "cell_type": "code",
   "execution_count": 2,
   "metadata": {},
   "outputs": [
    {
     "data": {
      "text/html": [
       "With these <a href=\"allowed_presumptions.txt\">allowed</a>/<a href=\"disallowed_presumptions.txt\">disallowed</a> theorem/theory presumptions (e.g., to avoid circular dependencies), we begin our proof of<br><strong id=\"less_than_is_bool\">less_than_is_bool:</strong> <a class=\"ProveItLink\" href=\"../../../__pv_it/theorems/3b7f7735b27ae7387da6398670899aac2cd71f300/expr.ipynb\"><img src=\"data:image/png;base64,iVBORw0KGgoAAAANSUhEUgAAALwAAAAWBAMAAACI4OsQAAAAMFBMVEX///8AAAAAAAAAAAAAAAAA\n",
       "AAAAAAAAAAAAAAAAAAAAAAAAAAAAAAAAAAAAAAAAAAAv3aB7AAAAD3RSTlMAq1RmmUTNIjK7EInv\n",
       "3XZ/CtNrAAAACXBIWXMAAA7EAAAOxAGVKw4bAAAC1ElEQVRIx61VW0gUURj+Zmdmb2PTvkSIIQNG\n",
       "LylFD4IFsmE3usCS4EN2WfJBELENIih8sNcy3J5qi7Z58CExljVCqUB6CbIotDKK2GUWTUhqEXoI\n",
       "hKAz55xZ98w6g0E/fLvzfzPznXP+2wAbsRTH+hb6R95tusHgYarlIn7OXOifS1A+ZvtN/vI7Obxs\n",
       "wU2kz4b6tlD+oO32+qpHkwyeFjTd8p2YilD+mh2ktK+8spvB0+R4rfweifL2yprhK1/HIVig+sSv\n",
       "eY7uFz5V5IOUl8m2gv6h38EhbPhjdUB6WIoHzLXdb93H+LeFwht/+WMcudLD5/yc+lemlOtAlBTH\n",
       "BHUum2upzc3lQfkjwF1/+R6OuN6ozFJmvMhv5ZshrwCtEAskfab/z1FQ/iJCsVrJlsn9A871ewY5\n",
       "Ja9KNMOXPvA7YeMEJFIXzdRLVqd2ocukfMTUEqJ0uJRJ6Bqm8tx/yRCGwgSk85WSxTvUkeYZoa+R\n",
       "MBe+OPIRNU/5gOXO7IEhElwdey1RHlRJkIe6ihHy9Gm6Vrp69xGkGZ9sJz/lw4tkqKglSNDtABD5\n",
       "5bgYHOBcKmoKwbHP88MOJXVmRfkk4x/3EbVUfZAURW6zOYwxWhpaKOt0UpZhLLENGsTURmK4Rf7a\n",
       "qFMW5AMW4wdJZmVkw+Tyagu+o5PKK/cqZ51g2HX9OE5yKldkRajE1F+8bEn7VLoz3Y3pJ5yXhmzm\n",
       "N+Ub0IjWTCZj6LrmSOEmw2g50FERkFnhRxsW7RfnWaLrT7GbSzMP7Inp8HbaX9DpPI9XuEF3r6vd\n",
       "TpdsGmIQ25ZXuUZCHOJRV5/yoeAMfCcbg1pSwTjwWV0hlUpjj2fxqolVM7WYTeKR4T3vKrzybXoZ\n",
       "wwa2tyURukOIrqX86CHnsdsctVYk4QSueLS7izeiqQhZcDyTERttjKPWmhYTnku7edWUrK51P5oW\n",
       "g9e3MrUhXobansd/tb/Btb06a4+pdAAAAABJRU5ErkJggg==\n",
       "\" style=\"display:inline;vertical-align:middle;\" /></a><br>(see <a class=\"ProveItLink\" href=\"../../../__pv_it/theorems/454c5539223856fd424bae7d7af67c90d870f7d20/dependencies.ipynb\">dependencies</a>)<br>"
      ],
      "text/plain": [
       "<IPython.core.display.HTML object>"
      ]
     },
     "metadata": {},
     "output_type": "display_data"
    },
    {
     "name": "stdout",
     "output_type": "stream",
     "text": [
      "less_than_is_bool may now be readily provable (assuming required theorems are usable).  Simply execute \"%qed\".\n"
     ]
    }
   ],
   "source": [
    "%proving less_than_is_bool"
   ]
  },
  {
   "cell_type": "code",
   "execution_count": null,
   "metadata": {},
   "outputs": [],
   "source": []
  }
 ],
 "metadata": {
  "kernelspec": {
   "display_name": "Python 3",
   "language": "python",
   "name": "python3"
  }
 },
 "nbformat": 4,
 "nbformat_minor": 0
}