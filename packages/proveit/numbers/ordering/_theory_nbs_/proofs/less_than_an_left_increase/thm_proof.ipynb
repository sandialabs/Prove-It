{
 "cells": [
  {
   "cell_type": "markdown",
   "metadata": {},
   "source": [
    "Proof of <a class=\"ProveItLink\" href=\"../../../../../_theory_nbs_/theory.ipynb\">proveit</a>.<a class=\"ProveItLink\" href=\"../../../../_theory_nbs_/theory.ipynb\">numbers</a>.<a class=\"ProveItLink\" href=\"../../theory.ipynb\">ordering</a>.<a class=\"ProveItLink\" href=\"../../theorems.ipynb#less_than_an_left_increase\">less_than_an_left_increase</a> theorem\n",
    "========"
   ]
  },
  {
   "cell_type": "code",
   "execution_count": 1,
   "metadata": {},
   "outputs": [],
   "source": [
    "import proveit\n",
    "theory = proveit.Theory() # the theorem's theory"
   ]
  },
  {
   "cell_type": "code",
   "execution_count": 2,
   "metadata": {},
   "outputs": [
    {
     "data": {
      "text/html": [
       "With these <a href=\"allowed_presumptions.txt\">allowed</a>/<a href=\"disallowed_presumptions.txt\">disallowed</a> theorem/theory presumptions (e.g., to avoid circular dependencies), we begin our proof of<br><strong id=\"less_than_an_left_increase\">less_than_an_left_increase:</strong> <a class=\"ProveItLink\" href=\"../../../__pv_it/theorems/dfe8c6104d31131fe1d494a1b1f8199d5a0a5ae00/expr.ipynb\"><img src=\"data:image/png;base64,iVBORw0KGgoAAAANSUhEUgAAANUAAAAXBAMAAABuThcPAAAAMFBMVEX///8AAAAAAAAAAAAAAAAA\n",
       "AAAAAAAAAAAAAAAAAAAAAAAAAAAAAAAAAAAAAAAAAAAv3aB7AAAAD3RSTlMAq1RmmUTNIjK7EInv\n",
       "3XZ/CtNrAAAACXBIWXMAAA7EAAAOxAGVKw4bAAADJElEQVRIx71VXUgUURQ+zszuzp/j0oNQgiwE\n",
       "9RDGPogPQrayW/SDuCT1UJEbBVGBrI9SyQZRD1FKETUWNoEEYuT0awrGYkRFBBJCkS1MGRmGsgQV\n",
       "+BCdO3dW524z4Qo18O3ce+bu/c79zs8FWMYT8rGn/2JPw/Kej95mLeKzfp+DMJmsLomKM73t60C+\n",
       "Nu7pRJRiE5kcKonrprdZTgEEY56fjlCcJPp3l8QV9zYL6HlFQcZA1P2pliJoACiRkriyxYY1duBV\n",
       "RKtR0NlyL1ANGzw6ECwtXKkiw4ZtlBExCp5cwSjFq1zuZUlcAkmN9sedhfnsCH1vR+yfW8Fyhaqm\n",
       "caSEKbYA9CyBwWScDDyD61QuebRwggM4+WEMphmuvWlpHoBPUbRDKLwErsUEK8fo3opCE/W7aSEJ\n",
       "XiPDPKiWm0t+AgKWAZelkAwl6dqz5mFjG3mfdnKTmzxYaTFcKi5vBpi0J5WLafUU5U1BBQog5HLv\n",
       "MTR4BCEP5WgQ8xSctZAa4gc9qSkwRPQqIz/nV14Cy1SO/cH1AuTvHly4b2vEfS61GwZxeSBLAamG\n",
       "wupEButbg3qyTsWxgLEEy+Jvw/3ERCK5qKH8C/i8h4ZYXs2Gm2vQgo1kNk4Bd0lVDzQM2W2EcM2Q\n",
       "M3TNrYIpsLm0PuZckgXyNyhLrS3KjV7kymCAGK4IVHJp4DEgBHAcdZXfiD+h3+5dSqiXcM4an2Q7\n",
       "ZJbZMcVwkeTthZqYY5FnZ+jgDgoflWIMl2RxEwItE7tUyohaMTELLTaXcNWmuAh1tM9YW4fZPBRR\n",
       "jBtfz1RnFmqZFtg55K2Ks7UsVz9q/4KyJymceGthqNN1PaJpyg5ieQ6N/GFdv4AaPogw9QVvi+uh\n",
       "zq6p8oy7uTB944QDqmtaqjfO2ufSAntIePMwJpo0XjtH2K1rvSuQd/d4tvfG3R1bTXe1GJJhxwtG\n",
       "YrIJ7zCWPTReSh+7qeRzx172vce73XdJIL7+HoSu4GjXZ7NvszgGp+YAOlCVQNtROcF2W9nnCur3\n",
       "4yLOFTs4oOtOADm66bB+yeu/nT7uWz5c0w68n93w/57ov9j0N0cg1Ut8GelTAAAAAElFTkSuQmCC\n",
       "\" style=\"display:inline;vertical-align:middle;\" /></a><br>(see <a class=\"ProveItLink\" href=\"../../../__pv_it/theorems/cd01ef1256d9ccdd4d1f4fcd5eda271fd61247060/dependencies.ipynb\">dependencies</a>)<br>"
      ],
      "text/plain": [
       "<IPython.core.display.HTML object>"
      ]
     },
     "metadata": {},
     "output_type": "display_data"
    }
   ],
   "source": [
    "%proving less_than_an_left_increase"
   ]
  },
  {
   "cell_type": "code",
   "execution_count": null,
   "metadata": {},
   "outputs": [],
   "source": []
  }
 ],
 "metadata": {
  "kernelspec": {
   "display_name": "Python 3",
   "language": "python",
   "name": "python3"
  }
 },
 "nbformat": 4,
 "nbformat_minor": 0
}