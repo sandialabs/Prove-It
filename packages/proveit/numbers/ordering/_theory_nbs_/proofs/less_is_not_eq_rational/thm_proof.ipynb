{
 "cells": [
  {
   "cell_type": "markdown",
   "metadata": {},
   "source": [
    "Proof of <a class=\"ProveItLink\" href=\"../../../../../_theory_nbs_/theory.ipynb\">proveit</a>.<a class=\"ProveItLink\" href=\"../../../../_theory_nbs_/theory.ipynb\">numbers</a>.<a class=\"ProveItLink\" href=\"../../theory.ipynb\">ordering</a>.<a class=\"ProveItLink\" href=\"../../theorems.ipynb#less_is_not_eq_rational\">less_is_not_eq_rational</a> theorem\n",
    "========"
   ]
  },
  {
   "cell_type": "code",
   "execution_count": 1,
   "metadata": {},
   "outputs": [],
   "source": [
    "import proveit\n",
    "theory = proveit.Theory() # the theorem's theory"
   ]
  },
  {
   "cell_type": "code",
   "execution_count": 2,
   "metadata": {},
   "outputs": [
    {
     "data": {
      "text/html": [
       "With these <a href=\"allowed_presumptions.txt\">allowed</a>/<a href=\"disallowed_presumptions.txt\">disallowed</a> theorem/theory presumptions (e.g., to avoid circular dependencies), we begin our proof of<br><strong id=\"less_is_not_eq_rational\">less_is_not_eq_rational:</strong> <a class=\"ProveItLink\" href=\"../../../__pv_it/theorems/d4ab62509194a9c7562c70020b00337b8537ef010/expr.ipynb\"><img src=\"data:image/png;base64,iVBORw0KGgoAAAANSUhEUgAAALAAAAAXCAMAAACccDU6AAAAPFBMVEX///8AAAAAAAAAAAAAAAAA\n",
       "AAAAAAAAAAAAAAAAAAAAAAAAAAAAAAAAAAAAAAAAAAAAAAAAAAAAAAAAAAAo1xBWAAAAE3RSTlMA\n",
       "q1RmmUTNIjK7EInv3Xbn9enzK1aD6QAAAAlwSFlzAAAOxAAADsQBlSsOGwAAApJJREFUSMfFV+m2\n",
       "niAMFAgQtnTx/d+1rAou+PW2x8sPj4pJhsmQ4LJ809CvmPy/QXw+D/b8TlK6su2Zi/fwcjefR7Pf\n",
       "W+NDXWVCCLJNqPcot+rhA4P9k4J2E3nHRrE27xEMD8lENjyuTT8CKuo0HH8PsH8ieEi2XDdB+3gn\n",
       "6mrViwp+iCVHgl3YxZHA+pCGdy8qosXSzJGm0/xhNylGxEr+XVoKZIEb+8XgX7BRNanSR2RmTzhk\n",
       "6sKPn+m6sWzXqFq75kUIlZfZLkfpq9M+tM4AYz0Bj1v1wksodFmfy1R4IJjnFfmcCO4buU5exGIt\n",
       "dUjMmPiFdumNE/xDwHbwsu+5EgzWjP44LQ9Jg6z4NX+G2YTTzZbztRoC1BunE1QrhP4EsAZmOy8n\n",
       "wN7khMs5wWVFspQ26WuBENRSLsg1A1yj2G1tMPkF8jxHC10CHq2rdJqXkyTsmryIteMyaffX76Jk\n",
       "NlRhKErnoZbgWoxt0DFAC0nBLgSxNTZTYQv0G8C9tTSgBy9DmaUCOCFhauEDpeq4+1dsco8ISjjt\n",
       "Wct9ZGSr6kbkbSm3ttSA0uKuAO/W0jh78DIUVrbh5gHGQsNPZYdFBwbGgshwFxexXsLAYjSTB1/k\n",
       "XBKbNXo+bgQYaxCWxFpGDjUjnBIcP3NbKw+j4HOxM8JWm6SuGBp3OqebrrOO1W+DXL2MIsavHeP0\n",
       "sQT6JEIpYp1OdlF8WTN7T8FMoOsPoubCOmfB1I+al36I23aj7F8dmiQITk7UpCIQlXMc7nUggGJ4\n",
       "3Tg264qqQG5eJqebbiVzgmdFn4/9zeTGkVWBwzKnPu5wdZXnoBX7+SHuwPWtJXABJD9vzTdk0XUf\n",
       "n/5Wzf4wJidsJIHLvwL+vvH2r+wfNscUiZ+RLwQAAAAASUVORK5CYII=\n",
       "\" style=\"display:inline;vertical-align:middle;\" /></a><br>(see <a class=\"ProveItLink\" href=\"../../../__pv_it/theorems/e44b7477e164ae3531a8e492a410022837f025890/dependencies.ipynb\">dependencies</a>)<br>"
      ],
      "text/plain": [
       "<IPython.core.display.HTML object>"
      ]
     },
     "metadata": {},
     "output_type": "display_data"
    }
   ],
   "source": [
    "%proving less_is_not_eq_rational"
   ]
  },
  {
   "cell_type": "code",
   "execution_count": null,
   "metadata": {},
   "outputs": [],
   "source": []
  }
 ],
 "metadata": {
  "kernelspec": {
   "display_name": "Python 3",
   "language": "python",
   "name": "python3"
  }
 },
 "nbformat": 4,
 "nbformat_minor": 0
}