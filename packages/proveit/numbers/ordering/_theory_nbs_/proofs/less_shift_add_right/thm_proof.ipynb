{
 "cells": [
  {
   "cell_type": "markdown",
   "metadata": {},
   "source": [
    "Proof of <a class=\"ProveItLink\" href=\"../../../../../_theory_nbs_/theory.ipynb\">proveit</a>.<a class=\"ProveItLink\" href=\"../../../../_theory_nbs_/theory.ipynb\">numbers</a>.<a class=\"ProveItLink\" href=\"../../theory.ipynb\">ordering</a>.<a class=\"ProveItLink\" href=\"../../theorems.ipynb#less_shift_add_right\">less_shift_add_right</a> theorem\n",
    "========"
   ]
  },
  {
   "cell_type": "code",
   "execution_count": 1,
   "metadata": {},
   "outputs": [],
   "source": [
    "import proveit\n",
    "theory = proveit.Theory() # the theorem's theory"
   ]
  },
  {
   "cell_type": "code",
   "execution_count": 2,
   "metadata": {},
   "outputs": [
    {
     "data": {
      "text/html": [
       "With these <a href=\"allowed_presumptions.txt\">allowed</a>/<a href=\"disallowed_presumptions.txt\">disallowed</a> theorem/theory presumptions (e.g., to avoid circular dependencies), we begin our proof of<br><strong id=\"less_shift_add_right\">less_shift_add_right:</strong> <a class=\"ProveItLink\" href=\"../../../__pv_it/theorems/b1ba2369fad5dc46009848babd81d5c330b254a70/expr.ipynb\"><img src=\"data:image/png;base64,iVBORw0KGgoAAAANSUhEUgAAASEAAAAXBAMAAAC2Z+QsAAAAMFBMVEX///8AAAAAAAAAAAAAAAAA\n",
       "AAAAAAAAAAAAAAAAAAAAAAAAAAAAAAAAAAAAAAAAAAAv3aB7AAAAD3RSTlMAq1RmmUTNIjK7EInv\n",
       "3XZ/CtNrAAAACXBIWXMAAA7EAAAOxAGVKw4bAAADwUlEQVRIx8VWTWgTQRR+zd8mu+mmevAiSEBQ\n",
       "RFsWLMUKlkhU/KEaLHhRNOJB9CDrUdASTx5UzEHQqNQVRJAKjRb8qVgKIv6LFoqiBqIFxYoiigo9\n",
       "iO/NZLMz2x2VVvTBG3ZnvjfzzXtv3gzAlMVG1RRjmspA0W3DXxAzjc1rxWC0qjAIkM01baKf2VNg\n",
       "NB81VFaNjgYZ6KceB23N4rqcfrZPnpCex+accjjmBBnEMkHYnVz3U7SLk2cUwV1BVoqUJfyEM0EG\n",
       "KTdwXeJIK1fahJGePKMkNUNiT0jKnXve5xzbNdjieq5FmsphGkbKsSmk0RzikFcz2lb/WrK6bnAD\n",
       "ghjFLK4PK5X7U2C0hgJBib17sNvHyPi4COCiC/ww4Bls/Tjdx2hwtAAGnjLSlQAnfrtuRjmyrba5\n",
       "6G047UiMtGFYBdBWy+cbVc9A/+b02RKjfelIEcLoatLdoDW508d3SKs1X166i3/5U98DDqM2Yh5e\n",
       "sKBT9lFjGR4BLODsOi3BIDQOyarE6AV1hDAdSROOkauvNNNb81UpZxpwpRzASBeAtyglcYJ1NC0G\n",
       "sFJ5iXlAe1zHXHaEoWZ4ZwcNInlI4bydlcqDSuUJWY2zJT9xDVWFxL5T/1pWwHplwuLqREbaUscD\n",
       "uozugv5V9tFd1m4KYITe25IWfZRk80eHuEK+A5vejivE8scr2pgxWqXiSYzGMgKjGmia7QK9qOk/\n",
       "IPxJYoQ9LPIBUcNyxB3oMupjJqHHXOES1kn9afw7UXhuEoOR+NB5VtcNrcfyGHFQ9KhdB6L0oCaq\n",
       "oH+GhvxcyUdfEAvQ7s9sNEgV9JvSWUvhKjkI4yqksBeDHsnEyV0Ji3I9UtQLrJiakZNFIbMZKHrS\n",
       "qQNJ6HTTke2B5kxGYoQH7So/7IzSh7G6QYOVyEiM8KAZBVZEWCFpKFAmmJSMyUKkiadFW6lUSpum\n",
       "sV5gxECHWAJwIMlhiiO6+sz7A7MKEiOjvwPJj3gVcsA10GdmfRXy+kLk25jjygNpJxajeQqSuGAK\n",
       "w3KQ+ciMbnQ8RgykXyNKHMjOONF4pqzZmnDLt9l1g8Cava+mPNntI11OLzQ67dALsRyUEw7LIxgQ\n",
       "MpuBAN5h0AkoXKWtyps2YvlLqnT3SjdtVryzo9mWfgxIfG0VWy3b4WjHsXfDm/LZFR4jBkJpt4CA\n",
       "NTlGaaV8++2Z2HVM9d4sTnyFpIW2t1TyCqevQs4TCdCp1JXPmYDlzyugtC3f1qKO1/rkFw8ojbzV\n",
       "rXry2gqDAHlbUzHCQvvnjP6T2P9uqZ9HCfmckWc34QAAAABJRU5ErkJggg==\n",
       "\" style=\"display:inline;vertical-align:middle;\" /></a><br>(see <a class=\"ProveItLink\" href=\"../../../__pv_it/theorems/92c32eea125c1f00207190d493c7b7415c85e38e0/dependencies.ipynb\">dependencies</a>)<br>"
      ],
      "text/plain": [
       "<IPython.core.display.HTML object>"
      ]
     },
     "metadata": {},
     "output_type": "display_data"
    },
    {
     "name": "stdout",
     "output_type": "stream",
     "text": [
      "less_shift_add_right may now be readily provable (assuming required theorems are usable).  Simply execute \"%qed\".\n"
     ]
    }
   ],
   "source": [
    "%proving less_shift_add_right"
   ]
  },
  {
   "cell_type": "code",
   "execution_count": null,
   "metadata": {},
   "outputs": [],
   "source": []
  }
 ],
 "metadata": {
  "kernelspec": {
   "display_name": "Python 3",
   "language": "python",
   "name": "python3"
  }
 },
 "nbformat": 4,
 "nbformat_minor": 0
}