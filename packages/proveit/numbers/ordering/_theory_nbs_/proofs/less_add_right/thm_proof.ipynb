{
 "cells": [
  {
   "cell_type": "markdown",
   "metadata": {},
   "source": [
    "Proof of <a class=\"ProveItLink\" href=\"../../../../../_theory_nbs_/theory.ipynb\">proveit</a>.<a class=\"ProveItLink\" href=\"../../../../_theory_nbs_/theory.ipynb\">numbers</a>.<a class=\"ProveItLink\" href=\"../../theory.ipynb\">ordering</a>.<a class=\"ProveItLink\" href=\"../../theorems.ipynb#less_add_right\">less_add_right</a> theorem\n",
    "========"
   ]
  },
  {
   "cell_type": "code",
   "execution_count": 1,
   "metadata": {},
   "outputs": [],
   "source": [
    "import proveit\n",
    "theory = proveit.Theory() # the theorem's theory"
   ]
  },
  {
   "cell_type": "code",
   "execution_count": 2,
   "metadata": {},
   "outputs": [
    {
     "data": {
      "text/html": [
       "With these <a href=\"allowed_presumptions.txt\">allowed</a>/<a href=\"disallowed_presumptions.txt\">disallowed</a> theorem/theory presumptions (e.g., to avoid circular dependencies), we begin our proof of<br><strong id=\"less_add_right\">less_add_right:</strong> <a class=\"ProveItLink\" href=\"../../../__pv_it/theorems/208a54c3caa532bf1b82d4efd1dc268bd18df5c20/expr.ipynb\"><img src=\"data:image/png;base64,iVBORw0KGgoAAAANSUhEUgAAARAAAAAXBAMAAAAxVg0qAAAAMFBMVEX///8AAAAAAAAAAAAAAAAA\n",
       "AAAAAAAAAAAAAAAAAAAAAAAAAAAAAAAAAAAAAAAAAAAv3aB7AAAAD3RSTlMAq1RmmUTNIjK7EInv\n",
       "3XZ/CtNrAAAACXBIWXMAAA7EAAAOxAGVKw4bAAADlElEQVRIx71WW0gUURj+3Ytz2521CAOFGAiE\n",
       "6MLSg6TQtqLdjGrLCCxBo4eohxihl6CHFSKIDJd8sM2QeejFltgtIUVQwpBuFCFJIC2MGF0UFyFK\n",
       "8EH6zzmzc9kLtbB14D975ps5//+d/3YWoPxDLQnmDCn/kJVSYPDqTKrIw9ZyEtleDBbvvy/0YoHJ\n",
       "frK+UEYeYldRuDJc6E2lRqWHhChWRiKeYFE4kI2O1/6NO0yF8JGUMhLx5QJ1ahbu1AzIpds/eE3F\n",
       "jeQqy5kidTnPe1tNeAIKEjnP5G06/aacRI6QWNd+zZpaHrfgc5mNOUSkzB6Ax0DlEMC9P8a9BCLk\n",
       "fB2qsMZSdEK3YPGXllQdRLgZOAxQD1S6gavKKuEvOnTufNp0mS6EXGs3aHpLkyn6tM3eq2bQ4nPw\n",
       "0ErljgZtsGsNfLqDiD8F7wB2ABVBkyKmllpzxc/HI7IEo6kCRDSooHAI2ikPR8Sn0YErxASOasUB\n",
       "d0EAYU86/QnzgZz+OM3ePiYu3ZarL81VSxSboQyNej6RKzXgi7KvA+iLBme9okVfDJKRfCJIrlNx\n",
       "eOQVnTsM6QrhlAiNEjeszxOO0oIuE+1IZDFsERFHlkgMejbjATI16Hh0tQLfqW7cYsUgqcM+yA8N\n",
       "thHmgiwRcZ1lgCFPLiH0kV8lludkYniWfzZMrweJGwpaRB6pfUik/SCpBe0z0l4Df7CXnRG3GBaH\n",
       "kIgC1S7VmawIB6KYPA6P/MDehi4FJtcwWp4wVSQE3diJPTEx2kaJeAZjtmRtgV7kQcuxn6Q5T5LP\n",
       "NUgOSbYYFrEQBd31wSg0cXnRhCuCQthJBEtmjFU2kQpU4YvIJHl8UU8VecByisfjiixLJ21EpmEe\n",
       "+Ckjl5poaNDbXsLEZ+X7bbS+Zaz7m9nQxk24tjmnoUkjIdw8C0zISKpCI0IBEnSagbeoR2TvWc0k\n",
       "Iq5C/0NI3CHrFZgyk5XfpNJfY/ijOaVer+bBjs7KvWfCLgi1r01LgF9rgARURiAlaDRHYNyWrC/4\n",
       "n40I9uNyzh0TU5CBE1TTBo1ssd1hBYYDdlx65Do0b0pv864R6FX4YzrOXHNI4+4ievpL6sEBi8ip\n",
       "3UvkezcyuZ4hQZImW40/WWRLVvFA4Y47UKwVXzXENhTbnIjHrbg7+4iL6XQVUTxcEswYOll6NWt2\n",
       "DqGQgjNFFHN6KTDIKhN7GG3zXxBhYb2J5RVX4T8N7t+b+A0LK/Ce57QZ/QAAAABJRU5ErkJggg==\n",
       "\" style=\"display:inline;vertical-align:middle;\" /></a><br>(see <a class=\"ProveItLink\" href=\"../../../__pv_it/theorems/86aea9267385e1e335dd45dae317205d766fa1400/dependencies.ipynb\">dependencies</a>)<br>"
      ],
      "text/plain": [
       "<IPython.core.display.HTML object>"
      ]
     },
     "metadata": {},
     "output_type": "display_data"
    }
   ],
   "source": [
    "%proving less_add_right"
   ]
  },
  {
   "cell_type": "code",
   "execution_count": null,
   "metadata": {},
   "outputs": [],
   "source": []
  }
 ],
 "metadata": {
  "kernelspec": {
   "display_name": "Python 3",
   "language": "python",
   "name": "python3"
  }
 },
 "nbformat": 4,
 "nbformat_minor": 0
}