{
 "cells": [
  {
   "cell_type": "markdown",
   "metadata": {},
   "source": [
    "Proof of <a class=\"ProveItLink\" href=\"../../../../../_theory_nbs_/theory.ipynb\">proveit</a>.<a class=\"ProveItLink\" href=\"../../../../_theory_nbs_/theory.ipynb\">numbers</a>.<a class=\"ProveItLink\" href=\"../../theory.ipynb\">ordering</a>.<a class=\"ProveItLink\" href=\"../../theorems.ipynb#less_eq_from_not_less\">less_eq_from_not_less</a> theorem\n",
    "========"
   ]
  },
  {
   "cell_type": "code",
   "execution_count": 1,
   "metadata": {},
   "outputs": [],
   "source": [
    "import proveit\n",
    "theory = proveit.Theory() # the theorem's theory"
   ]
  },
  {
   "cell_type": "code",
   "execution_count": 2,
   "metadata": {},
   "outputs": [
    {
     "data": {
      "text/html": [
       "With these <a href=\"allowed_presumptions.txt\">allowed</a>/<a href=\"disallowed_presumptions.txt\">disallowed</a> theorem/theory presumptions (e.g., to avoid circular dependencies), we begin our proof of<br><strong id=\"less_eq_from_not_less\">less_eq_from_not_less:</strong> <a class=\"ProveItLink\" href=\"../../../__pv_it/theorems/c11ab083998d7d792a9de64a1b208645341926b10/expr.ipynb\"><img src=\"data:image/png;base64,iVBORw0KGgoAAAANSUhEUgAAAM8AAAAXBAMAAABewgYuAAAAMFBMVEX///8AAAAAAAAAAAAAAAAA\n",
       "AAAAAAAAAAAAAAAAAAAAAAAAAAAAAAAAAAAAAAAAAAAv3aB7AAAAD3RSTlMAq1RmmUTNIjK7EInv\n",
       "3XZ/CtNrAAAACXBIWXMAAA7EAAAOxAGVKw4bAAADEUlEQVRIx61WXUgUURT+xp3Z2Z3RcaGHSEE2\n",
       "lF5KWKIf6sEMS4NQlgRhEWqpB6OH2EB6CIv1MTSyomyLZAohaks2Hwx8iCUIgkikHxBiZYQtyUKE\n",
       "HgyfOve6Oz93VSr3wp0595675zv3nO+cWaBsI/Ffqn8fRnh93UmaISbUlwFo50ZORICjTOjZPI4W\n",
       "FzYq3EbPAf30Uoc2DyRHvGvfJ9O12gP4aa2HNw9UKQTri+nRmvCRJ/4ypGiHZ5We9Wr9hPI+l3tX\n",
       "BqDjNMdaoHFyjX60U7dYMzBOMaPtY8C9jSw0uxNcUhBWUThDM7MLviV6PzztpA5zVjtljKhyAWqo\n",
       "1HzjxOHzq5KbKHtLOVAUPgCBcDskdlxygPbjkLmFPMwCQVOPen8cmEtFDR0vMyKQ5vKokGslU1i/\n",
       "ITWmUMmv2GuHLolWbpIuWmGJXDiSJNYYOGiJQLLjUW+NUyFFICgruJ4UyTDF/aEbId5Ej8W2PMVf\n",
       "mYPEy5gBLTSLQFW0n7/SRlL/VuorIdZWxp3QQY7jp0hvZRlP6TbTJI6TU0Zim5+KaazaHMQTflBX\n",
       "RyIi0EVgXhqiBMQITLNWAuRnQ0E3QjMYwg1vwWq3pSwouj5mpY/88mEkQOKlRnxHJweS7w+5yKCn\n",
       "UqkHiAGRoJVEbJK1k0fTBuliBcMv2I1Cyi+HoWfZ4/doVqEbyCyVEg/rMtfWog77yGjYMPQTAusk\n",
       "bKdndQKB16vrjERZvFrQXmP+1+aXhQ7YYTXsZkG3sxvIquz1GW8xwG9kKN2mCMSMDtLHJX2TZyxa\n",
       "mXRCV8Xd1eNrF+PlotCnx2WkgRllifjOc4RJgQwykUHNTrAKNm5x06cYi4o5oe0JPFuna7bYRr6+\n",
       "WsBgGA0H4lDv0kbXt8xoq0iGYAId3YvMDx8hVbTcIWm4qCRhlkLPxvMcGzPOD8XPQ1hLBIlq6VTK\n",
       "VcKuM3Z1EsowHoPQNFtNZK3PR9e+UNDbuhRTsrpKDrmdaXMr6hRKiGybUK31++W88K2C0pTZEEh3\n",
       "f2Q6f6zZ/crz58YUtebfmvkDGEi4zOXojL4AAAAASUVORK5CYII=\n",
       "\" style=\"display:inline;vertical-align:middle;\" /></a><br>(see <a class=\"ProveItLink\" href=\"../../../__pv_it/theorems/84f6ab7ab5717da28e6f0dadcf5fa023d6e846bf0/dependencies.ipynb\">dependencies</a>)<br>"
      ],
      "text/plain": [
       "<IPython.core.display.HTML object>"
      ]
     },
     "metadata": {},
     "output_type": "display_data"
    }
   ],
   "source": [
    "%proving less_eq_from_not_less"
   ]
  },
  {
   "cell_type": "code",
   "execution_count": null,
   "metadata": {},
   "outputs": [],
   "source": []
  }
 ],
 "metadata": {
  "kernelspec": {
   "display_name": "Python 3",
   "language": "python",
   "name": "python3"
  }
 },
 "nbformat": 4,
 "nbformat_minor": 0
}