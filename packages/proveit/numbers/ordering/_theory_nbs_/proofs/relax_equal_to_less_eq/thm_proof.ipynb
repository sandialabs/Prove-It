{
 "cells": [
  {
   "cell_type": "markdown",
   "metadata": {},
   "source": [
    "Proof of <a class=\"ProveItLink\" href=\"../../../../../_theory_nbs_/theory.ipynb\">proveit</a>.<a class=\"ProveItLink\" href=\"../../../../_theory_nbs_/theory.ipynb\">numbers</a>.<a class=\"ProveItLink\" href=\"../../theory.ipynb\">ordering</a>.<a class=\"ProveItLink\" href=\"../../theorems.ipynb#relax_equal_to_less_eq\">relax_equal_to_less_eq</a> theorem\n",
    "========"
   ]
  },
  {
   "cell_type": "code",
   "execution_count": 1,
   "metadata": {},
   "outputs": [],
   "source": [
    "import proveit\n",
    "theory = proveit.Theory() # the theorem's theory"
   ]
  },
  {
   "cell_type": "code",
   "execution_count": 2,
   "metadata": {},
   "outputs": [
    {
     "data": {
      "text/html": [
       "With these <a href=\"allowed_presumptions.txt\">allowed</a>/<a href=\"disallowed_presumptions.txt\">disallowed</a> theorem/theory presumptions (e.g., to avoid circular dependencies), we begin our proof of<br><strong id=\"relax_equal_to_less_eq\">relax_equal_to_less_eq:</strong> <a class=\"ProveItLink\" href=\"../../../__pv_it/theorems/20ed4dab1729db797b19f1f03ee36c379c4038d80/expr.ipynb\"><img src=\"data:image/png;base64,iVBORw0KGgoAAAANSUhEUgAAALYAAAAXBAMAAABUnqh8AAAAMFBMVEX///8AAAAAAAAAAAAAAAAA\n",
       "AAAAAAAAAAAAAAAAAAAAAAAAAAAAAAAAAAAAAAAAAAAv3aB7AAAAD3RSTlMAq1RmmUTNIjK7EInv\n",
       "3XZ/CtNrAAAACXBIWXMAAA7EAAAOxAGVKw4bAAACp0lEQVRIx62VTWgTQRTH/5tkm2STpguCUAsl\n",
       "0B5bCCJKL7UQtYq0FEQvioYq+AWygpdoKfFssNUSJR5klaBgNawFC/UgOYqiBLQglJSpjYgfhIKH\n",
       "Sk++2ewmu5umLVsHdmfevJnfvnkfs8B2mt+Vamvta3OVyACZD7rcoT3aBspl4CDvz7tjP2n4mAXU\n",
       "ouIm982kO3bcIXs/qxZhgOMRirpjF+xiZEG1iu/gjZH5Lt2dsInTi3b1WeBDqfTeHdtHoZQqu27N\n",
       "6FLukzmfj0OiFHkJHAYebARormqJcfUSG+LCo9HavNYD7wqwF7gKv9x43IVzO5k+CjZnt1KY9mG/\n",
       "uoMLQo0diA5BoOzooc1qaMS+53Z7BkwL3diMHaZ9KRwypGumTyR8RJgMmyATmSOUPvISGPPmt8IG\n",
       "gZyxFNcwkQJO0TDRT6/KYFmh2SUIvKA4O5KzsCPl8UFj52kZct0nEFfxzJGDvgR+U9dLz8wlmlba\n",
       "W2hlvk1NS3ohMS25bGF/FyZHfVlqUxJbCxh5HWSQMkIBmqN2gjLuUNdHzxiZ4cXDAA2v9+KHGNPZ\n",
       "R+ZgYceCLGXcb4+LEaOMQzI8f3MFsV55ngu63bL4h7qjPML6rlVd2YFO78Vs9i755FXU6u82xdwv\n",
       "aAIzEqIIaZh173bGQeooc9p8LXEK+oU7j7cBrerv46+t7DSUqk/QOhI2joAvzaIcoor1Fw1hLJTw\n",
       "YZpWiyvVSqIctMTSX5jFgJnVqTMmYs/65Fk8pzP7YmbefXvzE+kouvsSSJJZ4pXL0oFE3e7hkxXz\n",
       "HvLE75mQoFIHvijxpp9kkVwLJO0fjEpKMAZpLpupzzXk91NM1Ry7/t3cVeaJf9/+G1IFdsK5sIHd\n",
       "Kdavv/HmhRVR7Fc7xH5tU/axX/hfbRv/638/I6mUrcvA3wAAAABJRU5ErkJggg==\n",
       "\" style=\"display:inline;vertical-align:middle;\" /></a><br>(see <a class=\"ProveItLink\" href=\"../../../__pv_it/theorems/5036c37b9b62ede54e02e5d39eceb41de4510f9f0/dependencies.ipynb\">dependencies</a>)<br>"
      ],
      "text/plain": [
       "<IPython.core.display.HTML object>"
      ]
     },
     "metadata": {},
     "output_type": "display_data"
    },
    {
     "name": "stdout",
     "output_type": "stream",
     "text": [
      "relax_equal_to_less_eq may now be readily provable (assuming required theorems are usable).  Simply execute \"%qed\".\n"
     ]
    }
   ],
   "source": [
    "%proving relax_equal_to_less_eq"
   ]
  },
  {
   "cell_type": "code",
   "execution_count": null,
   "metadata": {},
   "outputs": [],
   "source": []
  }
 ],
 "metadata": {
  "kernelspec": {
   "display_name": "Python 3",
   "language": "python",
   "name": "python3"
  }
 },
 "nbformat": 4,
 "nbformat_minor": 0
}