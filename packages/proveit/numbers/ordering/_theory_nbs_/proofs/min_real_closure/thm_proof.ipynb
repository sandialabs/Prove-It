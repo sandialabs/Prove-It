{
 "cells": [
  {
   "cell_type": "markdown",
   "metadata": {},
   "source": [
    "Proof of <a class=\"ProveItLink\" href=\"../../../../../_theory_nbs_/theory.ipynb\">proveit</a>.<a class=\"ProveItLink\" href=\"../../../../_theory_nbs_/theory.ipynb\">numbers</a>.<a class=\"ProveItLink\" href=\"../../theory.ipynb\">ordering</a>.<a class=\"ProveItLink\" href=\"../../theorems.ipynb#min_real_closure\">min_real_closure</a> theorem\n",
    "========"
   ]
  },
  {
   "cell_type": "code",
   "execution_count": 1,
   "metadata": {},
   "outputs": [],
   "source": [
    "import proveit\n",
    "theory = proveit.Theory() # the theorem's theory"
   ]
  },
  {
   "cell_type": "code",
   "execution_count": 2,
   "metadata": {},
   "outputs": [
    {
     "data": {
      "text/html": [
       "With these <a href=\"allowed_presumptions.txt\">allowed</a>/<a href=\"disallowed_presumptions.txt\">disallowed</a> theorem/theory presumptions (e.g., to avoid circular dependencies), we begin our proof of<br><strong id=\"min_real_closure\">min_real_closure:</strong> <a class=\"ProveItLink\" href=\"../../../__pv_it/theorems/e5e7ecd2c9877aad7a438b56d7206e5948ac564f0/expr.ipynb\"><img src=\"data:image/png;base64,iVBORw0KGgoAAAANSUhEUgAAAacAAAAWBAMAAACWIE7PAAAAMFBMVEX///8AAAAAAAAAAAAAAAAA\n",
       "AAAAAAAAAAAAAAAAAAAAAAAAAAAAAAAAAAAAAAAAAAAv3aB7AAAAD3RSTlMAq1RmmUTNIjK7EInv\n",
       "3XZ/CtNrAAAACXBIWXMAAA7EAAAOxAGVKw4bAAAFeUlEQVRYw82YfWgcRRTA393t3e7t3a33V1tj\n",
       "DSdijC0Np01Fg9SFpBARMaXVP9pgzw+QVqobkEL6kSYifkBsTyWUhGguphTSaHJtiNqCkholBhWr\n",
       "BC1tD7amWJtoCGoSSJPG92Z29/busilh/3Hg9t69eTszv5k3b94cwDJFyTSC6yI66DU3jWrO+lsN\n",
       "OlTjngl+c5iwmJtGn8n7/eBIx96RONfjqKOku9sJykNf3riL7r1p8c55EsILq8WhrH69q5lS8oeU\n",
       "rIOtD6eYHqG2kOpFJyiB1irgxlNOoAN20BDunwX/v5ZaTrhb/z35UAcgKEWZHqGayO2TTlBkB/Vu\n",
       "eq9EgL+I4OocQMpSC3F3UOWFUIKWYHqECmBHoZjjnqIZOe2m90GEmpwFkLbP2dVhlzs1bMzP9Uwm\n",
       "YUElmR5H7cMpCzgHio345cZTvPiyPI5upwg5UCUuoQJ8pZ8ez66U52SU6Sm8/ZDJfOcMFc5kLqdd\n",
       "dC7gy7K+FsCHUPvOwRtfN1zRUf84VdZ92WCP/Xdc05c/HGwGIRbgxD0293u7RGN6gqoGaHOGEhoh\n",
       "mHI5o7K+KwbraKWeBfgpJqEzwvP48Q9Dh63tWi04t2xbdgMfc59sCEse3LswzvUEVQdi1D4dowPw\n",
       "SNSCwrq6FbvcpRdWmVMaiRFUJAk6Qb0L0A7wD+p/xs/HcXgCoMvwbnkIhPPQc6rIqVluYPYxyKBs\n",
       "gWLjCUNPUMFU9ow9cnsL3BVKCans4dsGAysioib0dOiAuaFrCEqZFWsMqFaAm6j/Bj9PAlwCadIY\n",
       "qDAFkTSoxOngyczAKNIUPZszWJIcKtgV53oatVe3eIVqOoh1NWTLKMpWFidYE7ru682Bkm8oUAg1\n",
       "AvI09m9AhZPQVwPTcNgpy+EGRvGzleq2rZSktnE9W6PEZnTFyiNXAcaouvSeBjtUwIeeJPdPmN5r\n",
       "E7OlZ/NnhsSa0HXleI77QbsvDwrdT74JvqksVJ8OjwJUOENxg/KHJlUw34rYz6nqeq5nUKcxhHTV\n",
       "xsOazBayNPTRThtUqAR98RPtqEliE7Pe/ivb/CSxJvR0/ZhRFdQZ1K6iPKgPUf03eBL3suHJNOYY\n",
       "rPJi01/Yz2irB9Ng/6YhGKaAwDpSdBtUN+VIqGdQBzEs7P8dbkv5WewvBfW6DUo8h0IVNGNiwfoi\n",
       "0V+2JdfnVGnQ8ArWhP7YGXvo9UfJdTyzjGg3hzrFwDaoKoPqSxC+d1TATXER5BnCoAfpLYEZiL0J\n",
       "mDOOCizPWVCv4onbwvQMykPrXQy14Nvd2voeQvUE7Fn6GrYDroC0gUGRGIa+XG+vUYx4yZvQ9QEz\n",
       "R5HOg9g+E1dqlLUzq5u+L2qaX3PfPBq/g3WdE28WNzKoyEUcfPHndX/wqctQT6PkXqopWAYenW2n\n",
       "CN9dnS0pM0s/Bq2vxEifjXvfQpUkpflK+cvyrh7yLLx/EiIpUxRp4ezergUrUuXbMPHmTej6U2fN\n",
       "ugtLb5CItXPY7lhnnSiqqIG30P8sg3CjoOK7h4yfOz/I5ASyQ7YLkzgFF0r5IbwJcC3y7lPD0nQF\n",
       "QclpLkILiT380QNh7ei2VFmStm0b31Oh406Zp3l4qjlQVqiuf+t1zN4K7S2DwxB5rZHlyU75szVq\n",
       "dPuJONSjtfSLBp58qO0PYC1CSV9xEfMMFJs1aRgfzTF/ZVk/evE+GhQ24X/5JbnKnL+gw73lmDmd\n",
       "n97QKZQY5cfFRYDewkBhGWwFpd/5XkH6vKutfKa1xfnmS+7n5eJZxRKx8P0TgbEdhU0Y8bCwdOfc\n",
       "+XLrClPAPAPHqSL9Le7rIft1X/oTryA7eEK3uGCKtMp8B3TC+iXvSA0Oc6q7SdKvOeuVyyv9EyK+\n",
       "hOiD/1v5D8DXqgpaJyQNAAAAAElFTkSuQmCC\n",
       "\" style=\"display:inline;vertical-align:middle;\" /></a><br>(see <a class=\"ProveItLink\" href=\"../../../__pv_it/theorems/3f15b3f5b5d66c9efaed572bafea76b277e831db0/dependencies.ipynb\">dependencies</a>)<br>"
      ],
      "text/plain": [
       "<IPython.core.display.HTML object>"
      ]
     },
     "metadata": {},
     "output_type": "display_data"
    }
   ],
   "source": [
    "%proving min_real_closure"
   ]
  },
  {
   "cell_type": "code",
   "execution_count": null,
   "metadata": {},
   "outputs": [],
   "source": []
  }
 ],
 "metadata": {
  "kernelspec": {
   "display_name": "Python 3",
   "language": "python",
   "name": "python3"
  }
 },
 "nbformat": 4,
 "nbformat_minor": 0
}