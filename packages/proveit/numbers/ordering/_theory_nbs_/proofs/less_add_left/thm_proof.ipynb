{
 "cells": [
  {
   "cell_type": "markdown",
   "metadata": {},
   "source": [
    "Proof of <a class=\"ProveItLink\" href=\"../../../../../_theory_nbs_/theory.ipynb\">proveit</a>.<a class=\"ProveItLink\" href=\"../../../../_theory_nbs_/theory.ipynb\">numbers</a>.<a class=\"ProveItLink\" href=\"../../theory.ipynb\">ordering</a>.<a class=\"ProveItLink\" href=\"../../theorems.ipynb#less_add_left\">less_add_left</a> theorem\n",
    "========"
   ]
  },
  {
   "cell_type": "code",
   "execution_count": 1,
   "metadata": {},
   "outputs": [],
   "source": [
    "import proveit\n",
    "theory = proveit.Theory() # the theorem's theory"
   ]
  },
  {
   "cell_type": "code",
   "execution_count": 2,
   "metadata": {},
   "outputs": [
    {
     "data": {
      "text/html": [
       "With these <a href=\"allowed_presumptions.txt\">allowed</a>/<a href=\"disallowed_presumptions.txt\">disallowed</a> theorem/theory presumptions (e.g., to avoid circular dependencies), we begin our proof of<br><strong id=\"less_add_left\">less_add_left:</strong> <a class=\"ProveItLink\" href=\"../../../__pv_it/theorems/948adb7afc79b3c41279b97a7d80f885d7c276070/expr.ipynb\"><img src=\"data:image/png;base64,iVBORw0KGgoAAAANSUhEUgAAARAAAAAXBAMAAAAxVg0qAAAAMFBMVEX///8AAAAAAAAAAAAAAAAA\n",
       "AAAAAAAAAAAAAAAAAAAAAAAAAAAAAAAAAAAAAAAAAAAv3aB7AAAAD3RSTlMAq1RmmUTNIjK7EInv\n",
       "3XZ/CtNrAAAACXBIWXMAAA7EAAAOxAGVKw4bAAADw0lEQVRIx71Wa2gUVxT+sjO7O7szOwkIFSLI\n",
       "QqFQWu1ii2B+rJH4akvLtpaCVYr4oNQfZQP5I1TYgPjHSBYjpFshTKE/mm7b3dZSSwohtEiLL+IL\n",
       "wbAyIaUWxRAEiUQQz7l3nptZbGH1wHc5987cud+c8517L9B+Kzpo9Wy5JfEszMxKRNrHkaNxG+hi\n",
       "58V2EnnFQTTLXPPI+EVq5oAt3PmkjTzSeyRa2MFlI/sJCQuDnKJyG4moOQnfdgQ7byybcJ+g9DIX\n",
       "6Nk2EjEc+LY29Njy3JhIRHyJ23NQiHyinRJ5yUELIgkvWMo1wUmf5nYfcLHRON9OIm87SK66bTcR\n",
       "mZwrQe9yZTsjY5NYPUsJ+RHYDnz51Lz/DyL7HOwuppbCRA5n1TIUR8fVW85o7WB6EVgP9CPpkoT2\n",
       "aeiba37Z9JlwUs2rHQ3KOzYKfbLu9q5IpP+AOh0mMgPDRmxK+ANX3fdfs3AJeJUWsfSC981VnqfN\n",
       "VgqmjjP1CCIWOuoBHmNAHjvd7lkJdQEZfumdRuNCo3GZwyoCpC1w27HXm74VeAQM03fsgFb/8rzN\n",
       "JUqjiR57OZGBbhglr6eMiHmdxTARo4xaIRQRQ0QxPtVEZAZxKuDd5O3Jc8ryZ5ju41lWkD5nix2Q\n",
       "iNzp9YmkT9/l1QZX0g/Mdwv15WGeYGEuwciGU1OzsTFcNTXxT7HpptTcF6FaQ95PtNmlb2iLvPJN\n",
       "kxe+rk2NC2HrybGcT+T74jAR2bmN3HvW39RmCkPa7yLeS8i4ZTkmUcvihVgxSKST3ihAKTeJ9SG+\n",
       "owcbyPuctKr2ahyyVI5FrZbTJbEbmuqpckCsmzFEPCbYHWGZ4018g5cnJBHDqVUuREbKjl1TQxGh\n",
       "ktFLUF11/XBLlu8KnHQKvoPybRRMLh2jpHZxh8qpUqlkTVN/P0DkLGYhI0Ca2OTIQTCj1HS6qTku\n",
       "kV79a/+/4ar57fU7HEVPXHIj+epnjuV1t5iLqR4a7hSpZt0dExEx47ssjwiV+8i3qLImsAAmtCjm\n",
       "Dm4LiTVTkmixsx72XcU/a5PT7glQHN5hVZGxNqCKRAH1lCU0gomAWP/UHvTQIFfJTaWcruMAdB7v\n",
       "78Y83vM+3yvR4tDra3lSyptJ39rTGMpq79rUJvvyVvILGv3wn/rXW30iH6y7m3Pq9cg8J2mAYy2u\n",
       "XfrkW95HRx1E38WiD/pD4W420FYrFX+fC+8jMblMrMVa4w4iLRV9VwwTj1t+2zQ9avJHrX7aloi0\n",
       "29H3tjA9JdD+ByIirRpVV2UUz8uSz36JJ7bH758jiL7JAAAAAElFTkSuQmCC\n",
       "\" style=\"display:inline;vertical-align:middle;\" /></a><br>(see <a class=\"ProveItLink\" href=\"../../../__pv_it/theorems/e20181e706b08a9f94848edead24d96dbd54e6400/dependencies.ipynb\">dependencies</a>)<br>"
      ],
      "text/plain": [
       "<IPython.core.display.HTML object>"
      ]
     },
     "metadata": {},
     "output_type": "display_data"
    }
   ],
   "source": [
    "%proving less_add_left"
   ]
  },
  {
   "cell_type": "code",
   "execution_count": null,
   "metadata": {},
   "outputs": [],
   "source": []
  }
 ],
 "metadata": {
  "kernelspec": {
   "display_name": "Python 3",
   "language": "python",
   "name": "python3"
  }
 },
 "nbformat": 4,
 "nbformat_minor": 0
}