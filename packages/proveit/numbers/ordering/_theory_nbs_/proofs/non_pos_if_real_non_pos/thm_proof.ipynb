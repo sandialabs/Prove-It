{
 "cells": [
  {
   "cell_type": "markdown",
   "metadata": {},
   "source": [
    "Proof of <a class=\"ProveItLink\" href=\"../../../../../_theory_nbs_/theory.ipynb\">proveit</a>.<a class=\"ProveItLink\" href=\"../../../../_theory_nbs_/theory.ipynb\">numbers</a>.<a class=\"ProveItLink\" href=\"../../theory.ipynb\">ordering</a>.<a class=\"ProveItLink\" href=\"../../theorems.ipynb#non_pos_if_real_non_pos\">non_pos_if_real_non_pos</a> theorem\n",
    "========"
   ]
  },
  {
   "cell_type": "code",
   "execution_count": 1,
   "metadata": {},
   "outputs": [],
   "source": [
    "import proveit\n",
    "theory = proveit.Theory() # the theorem's theory"
   ]
  },
  {
   "cell_type": "code",
   "execution_count": 2,
   "metadata": {},
   "outputs": [
    {
     "data": {
      "text/html": [
       "With these <a href=\"allowed_presumptions.txt\">allowed</a>/<a href=\"disallowed_presumptions.txt\">disallowed</a> theorem/theory presumptions (e.g., to avoid circular dependencies), we begin our proof of<br><strong id=\"non_pos_if_real_non_pos\">non_pos_if_real_non_pos:</strong> <a class=\"ProveItLink\" href=\"../../../__pv_it/theorems/cea3b3378f8812b32917f5b8ce11248e619e2b470/expr.ipynb\"><img src=\"data:image/png;base64,iVBORw0KGgoAAAANSUhEUgAAAIcAAAAVBAMAAACeZ+BxAAAAMFBMVEX///8AAAAAAAAAAAAAAAAA\n",
       "AAAAAAAAAAAAAAAAAAAAAAAAAAAAAAAAAAAAAAAAAAAv3aB7AAAAD3RSTlMAq1RmmUTNIjK7EInv\n",
       "3XZ/CtNrAAAACXBIWXMAAA7EAAAOxAGVKw4bAAACOUlEQVQ4y42UTWgTURDH/8km2a90CUjBkyz0\n",
       "4KltDsVD0XalSSmIGCx4ETR4UXqQFHrU0J48eKjeXIV2C0UorRgUDCpIbvUDoaDSQolsRRT0UkTx\n",
       "IIgzz+xm87HdPFh25u17v535z7wH9Dbk0C8l9Dw+hX65QE+GjYEoRrzSdfr55xKMLJBn53IU5H47\n",
       "VOxImdo2MAMscMK3oiATra703uHXCeApMEI0cnUzClJr8YxdwcBtYNhB2oFEKaUiJSkGvfWPDeMn\n",
       "sGgiRYS39fqbKEiCdZ19URbO6rvGrMaQLHSqzRRwt9tGLWDzz5KbWOYsVi75vfOHIC4kCnMWcqYL\n",
       "QzqM8pDXSH0k2kYWp9mOtUIqiJNgqqMXApsHn5y8ynlPce08KdK04gywK5w5Px2CXHSh7JNorq+r\n",
       "smcXDB3VCuaqtKaG1wHIK2i/OoUdNpHk0hXHPEhunspnYNSVP3C0W9hppqP9hbTfVmIbGHcQ3yLz\n",
       "0QzTx6qigRnyzYLULyLZbOxSXWg/ECsebW2248AkOdyq10hXbVv5jTXxF11eIlj8EIXoa8JVXMKg\n",
       "ZfmNc+V/gNrLRv1jlETCUmqYFpDEPXEIlDzKA151FIp45fuNI/NtXXBqj2b6Cr5yRgbHbNs2DUM/\n",
       "21nwnQM68bpnPCypo85NEYmRPO/IuVwuH1w40svhTJcWpx3VEZrgmdWxUG3eXw/qPJqhNa+A5MTQ\n",
       "Y8h3yDr3pbI62XkGwi8Lte1+XLftQsjScijkK/AP/5GItuSmN3MAAAAASUVORK5CYII=\n",
       "\" style=\"display:inline;vertical-align:middle;\" /></a><br>(see <a class=\"ProveItLink\" href=\"../../../__pv_it/theorems/78e66f2c6cb9ce3976ecaf7b7588b329d4e6d2f00/dependencies.ipynb\">dependencies</a>)<br>"
      ],
      "text/plain": [
       "<IPython.core.display.HTML object>"
      ]
     },
     "metadata": {},
     "output_type": "display_data"
    },
    {
     "name": "stdout",
     "output_type": "stream",
     "text": [
      "non_pos_if_real_non_pos may now be readily provable (assuming required theorems are usable).  Simply execute \"%qed\".\n"
     ]
    }
   ],
   "source": [
    "%proving non_pos_if_real_non_pos"
   ]
  },
  {
   "cell_type": "code",
   "execution_count": null,
   "metadata": {},
   "outputs": [],
   "source": []
  }
 ],
 "metadata": {
  "kernelspec": {
   "display_name": "Python 3",
   "language": "python",
   "name": "python3"
  }
 },
 "nbformat": 4,
 "nbformat_minor": 0
}