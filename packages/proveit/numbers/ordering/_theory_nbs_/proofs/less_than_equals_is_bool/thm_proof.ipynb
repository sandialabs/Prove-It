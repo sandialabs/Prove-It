{
 "cells": [
  {
   "cell_type": "markdown",
   "metadata": {},
   "source": [
    "Proof of <a class=\"ProveItLink\" href=\"../../../../../_theory_nbs_/theory.ipynb\">proveit</a>.<a class=\"ProveItLink\" href=\"../../../../_theory_nbs_/theory.ipynb\">numbers</a>.<a class=\"ProveItLink\" href=\"../../theory.ipynb\">ordering</a>.<a class=\"ProveItLink\" href=\"../../theorems.ipynb#less_than_equals_is_bool\">less_than_equals_is_bool</a> theorem\n",
    "========"
   ]
  },
  {
   "cell_type": "code",
   "execution_count": 1,
   "metadata": {},
   "outputs": [],
   "source": [
    "import proveit\n",
    "theory = proveit.Theory() # the theorem's theory"
   ]
  },
  {
   "cell_type": "code",
   "execution_count": 2,
   "metadata": {},
   "outputs": [
    {
     "data": {
      "text/html": [
       "With these <a href=\"allowed_presumptions.txt\">allowed</a>/<a href=\"disallowed_presumptions.txt\">disallowed</a> theorem/theory presumptions (e.g., to avoid circular dependencies), we begin our proof of<br><strong id=\"less_than_equals_is_bool\">less_than_equals_is_bool:</strong> <a class=\"ProveItLink\" href=\"../../../__pv_it/theorems/d8d95d05c7637213b59cb0a28786411fe42bc2ee0/expr.ipynb\"><img src=\"data:image/png;base64,iVBORw0KGgoAAAANSUhEUgAAALwAAAAWBAMAAACI4OsQAAAAMFBMVEX///8AAAAAAAAAAAAAAAAA\n",
       "AAAAAAAAAAAAAAAAAAAAAAAAAAAAAAAAAAAAAAAAAAAv3aB7AAAAD3RSTlMAq1RmmUTNIjK7EInv\n",
       "3XZ/CtNrAAAACXBIWXMAAA7EAAAOxAGVKw4bAAAC20lEQVRIx61VW0gUURj+Zmdnb2PTvkSIIQNG\n",
       "LylFD4IFsmE3usCS4EN2WfKhELENIih8sNcy3J5qi2wCHxJrWSOUCqSXIItCK0OJlV00ISkRegiE\n",
       "oHOb3Tmz7mDQD9/OOd+c850z/22B9VhSYG0L/iPvNsPkqGBa3kX8nLjQNRVnfJTO67zltwtUsnk3\n",
       "kTod7NzE+P10es5TPZLgkMzn2BOw3PKtGAsz/hp1UspT3r+Tw2nqZ4ekGiuX36Uwnp6sm57yVQLO\n",
       "aHyVLvxWsPdzX4ryAcar5FoBb9dvEyjZ8Jy8ooOHuNsq3X7zHs6/z+XeecsfEcgUHr1k3zn4yX6V\n",
       "aUGEJMcIm1y2SqHNTGXB+EPAXW/5DoGYUeufJM+HZ4uvsvVQV4BGyAmSOtX15zAYfxHBaLlkw+je\n",
       "bnv8kUNNqqsKjbBSlA+Zx6CQvKhns4QztPNtFuPDlh6XpUOFdNzQMZYV89ccIfiFwCXbORF8QBUp\n",
       "nn62jbg5N2vLh7Us4315d2T39ZIkMLA7L8uDKcmh1VbRT1afZGelnLcPI8X5RDP5WT64QJqKVoAC\n",
       "gzqAyC/FZOcAZ5IRS05M8j0/qCvZZFKWT3D+aSdZnqwOkKTIbLT6MMT268EBu5IGOIbiW6C7yioc\n",
       "xS3yaGLcsiTvy3O+h0RWxUCIDK824Dtambz/XvFbRzh2XD+K46WmcJ7dPqr9EmlLyqdYnal2jD8T\n",
       "vNJLmd+Mr0EtGtPptGkYelHqJsfgsq/FXd6RmgW6cZpPqk9wdnHiAe2YNk/D/op152m8wQ12e0Nr\n",
       "t6tkQy/HmqYTFweF17XnoinYDd+ORo+e8GMYmNFWSKYy3+NFzNGxyroWt1E8Nsv7nbMX8sG38SX0\n",
       "mdjalEDwDiHaFrODB+xltwWEPclRm6HDOeJO4EqFL3PxZiQZJgcOp9NyoQ0JlFvdQlw+WjKZ1ywl\n",
       "37bmn2aeo9J/ZXJdvAqtOYv/an8BSdvDNqN4OJ0AAAAASUVORK5CYII=\n",
       "\" style=\"display:inline;vertical-align:middle;\" /></a><br>(see <a class=\"ProveItLink\" href=\"../../../__pv_it/theorems/c4ea339c30f0e90c713c3fbbdc518d0ca76935ef0/dependencies.ipynb\">dependencies</a>)<br>"
      ],
      "text/plain": [
       "<IPython.core.display.HTML object>"
      ]
     },
     "metadata": {},
     "output_type": "display_data"
    },
    {
     "name": "stdout",
     "output_type": "stream",
     "text": [
      "less_than_equals_is_bool may now be readily provable (assuming required theorems are usable).  Simply execute \"%qed\".\n"
     ]
    }
   ],
   "source": [
    "%proving less_than_equals_is_bool"
   ]
  },
  {
   "cell_type": "code",
   "execution_count": null,
   "metadata": {},
   "outputs": [],
   "source": []
  }
 ],
 "metadata": {
  "kernelspec": {
   "display_name": "Python 3",
   "language": "python",
   "name": "python3"
  }
 },
 "nbformat": 4,
 "nbformat_minor": 0
}