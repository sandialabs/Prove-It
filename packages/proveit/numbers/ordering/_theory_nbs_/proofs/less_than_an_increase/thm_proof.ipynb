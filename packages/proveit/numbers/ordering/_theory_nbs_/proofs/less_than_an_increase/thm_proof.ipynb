{
 "cells": [
  {
   "cell_type": "markdown",
   "metadata": {},
   "source": [
    "Proof of <a class=\"ProveItLink\" href=\"../../../../../_theory_nbs_/theory.ipynb\">proveit</a>.<a class=\"ProveItLink\" href=\"../../../../_theory_nbs_/theory.ipynb\">numbers</a>.<a class=\"ProveItLink\" href=\"../../theory.ipynb\">ordering</a>.<a class=\"ProveItLink\" href=\"../../theorems.ipynb#less_than_an_increase\">less_than_an_increase</a> theorem\n",
    "========"
   ]
  },
  {
   "cell_type": "code",
   "execution_count": 1,
   "metadata": {},
   "outputs": [],
   "source": [
    "import proveit\n",
    "theory = proveit.Theory() # the theorem's theory"
   ]
  },
  {
   "cell_type": "code",
   "execution_count": 2,
   "metadata": {},
   "outputs": [
    {
     "data": {
      "text/html": [
       "With these <a href=\"allowed_presumptions.txt\">allowed</a>/<a href=\"disallowed_presumptions.txt\">disallowed</a> theorem/theory presumptions (e.g., to avoid circular dependencies), we begin our proof of<br><strong id=\"less_than_an_increase\">less_than_an_increase:</strong> <a class=\"ProveItLink\" href=\"../../../__pv_it/theorems/6eb93f08ed32e2b6207d72824b8c84a8022ce1030/expr.ipynb\"><img src=\"data:image/png;base64,iVBORw0KGgoAAAANSUhEUgAAANUAAAAXBAMAAABuThcPAAAAMFBMVEX///8AAAAAAAAAAAAAAAAA\n",
       "AAAAAAAAAAAAAAAAAAAAAAAAAAAAAAAAAAAAAAAAAAAv3aB7AAAAD3RSTlMAq1RmmUTNIjK7EInv\n",
       "3XZ/CtNrAAAACXBIWXMAAA7EAAAOxAGVKw4bAAADJ0lEQVRIx71VX0gUQRj/bnfPu927W48ehBLk\n",
       "IKiHMO5BfBCyE6/oD+KR1ENFXhREBXI+SiUXRD1EeRRRa2EbSCBGt/01BUOMqIhAQiiygy0jw1CO\n",
       "oAIfom9m1tO5ZsMTauC3M/Pd3Pxmft+fAVhG87nYU3+xp2B57aPYrEdc1u9zECaT1SVRSZbYvk5g\n",
       "066N4SGiDJuI5VBJXDfFZi0pspbF8HOE4STRP1MSV6PYrEQXz7zOrJwIW8NQZgIEIiVxjRQb1lDH\n",
       "B3mhbda3muQnk0JG/rLS3FWs1YZtjFHINUyFjDK8yuVelsSlkNBof9w5P58ZYv124o3KKZvn2j+7\n",
       "AoULM2wB6F4Cw0LskQN6n8F1k0XEsLMpHEDsTalzHJf2w8ymQEYpCNrBF14CV6wwCqF3b0WhiaV1\n",
       "UyEiXuPOT0AZ47ikOQjaIKGLCVQzkFi0Z/XDhjbSn3ZiU5o4WGFzXEFc3gwwQScVC2H1FOXNQ4gI\n",
       "oORy79E3eAclCeUW+PNAIdmF0PB/MBJ6AAbIcg/5nF95CWwrcOwPrhegfRdwBTOQTXD3QurWCHjx\n",
       "TgSQrJ9fHU9jfutQR5YFcaygL8G25dtwPz4eTyxoqP0COS/QMGvDRj4OMb2aTZBQWAK4S7K6v36A\n",
       "lhHCNU3u0DW7CiaBcum93L1UG7Rv4EmuLYqNHuSKQIWU4rjS6EOQMwxwHGXV3vh/Qh8toAFfD+Gc\n",
       "MT9p1GW21THJcZHg7YHqmGPRZqbZ4A45hjSucPfyRNUYSxOaKh6iVsw/Ai2US7lKKS5CLSsz9tZB\n",
       "Pg79KMaNr2eq0oVcZgl2DnmrHrV/4WO+klS0UILB8bcehlrDMCK6HthBLM+hQT5sGBdQwwcRLr/g\n",
       "bXE+1FLZQmlR3aDthAPasim1zjxL76V795AszcOo32L+2jnEb10jzkA5Jqq9hWpdqNjBVFeLqZrU\n",
       "XzAU0yx4h77sZv4K9PKbqi5v7GXXdzyz+C3xNq6/B74rONr12erd7B+FU7MAHaiKt+2oFuerreby\n",
       "BPW5cZHDFR+w3zDmM5FtOmhcEv230+X4tgvXlANx2w3/r0X/xaa/AS6B1UuNcrNCAAAAAElFTkSu\n",
       "QmCC\n",
       "\" style=\"display:inline;vertical-align:middle;\" /></a><br>(see <a class=\"ProveItLink\" href=\"../../../__pv_it/theorems/49394061a59152e7a41a60e7b35ad057c07c0eaa0/dependencies.ipynb\">dependencies</a>)<br>"
      ],
      "text/plain": [
       "<IPython.core.display.HTML object>"
      ]
     },
     "metadata": {},
     "output_type": "display_data"
    }
   ],
   "source": [
    "%proving less_than_an_increase"
   ]
  },
  {
   "cell_type": "code",
   "execution_count": null,
   "metadata": {},
   "outputs": [],
   "source": []
  }
 ],
 "metadata": {
  "kernelspec": {
   "display_name": "Python 3",
   "language": "python",
   "name": "python3"
  }
 },
 "nbformat": 4,
 "nbformat_minor": 0
}