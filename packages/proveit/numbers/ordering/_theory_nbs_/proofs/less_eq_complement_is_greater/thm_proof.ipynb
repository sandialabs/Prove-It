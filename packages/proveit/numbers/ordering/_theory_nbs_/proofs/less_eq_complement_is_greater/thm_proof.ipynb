{
 "cells": [
  {
   "cell_type": "markdown",
   "metadata": {},
   "source": [
    "Proof of <a class=\"ProveItLink\" href=\"../../../../../_theory_nbs_/theory.ipynb\">proveit</a>.<a class=\"ProveItLink\" href=\"../../../../_theory_nbs_/theory.ipynb\">numbers</a>.<a class=\"ProveItLink\" href=\"../../theory.ipynb\">ordering</a>.<a class=\"ProveItLink\" href=\"../../theorems.ipynb#less_eq_complement_is_greater\">less_eq_complement_is_greater</a> theorem\n",
    "========"
   ]
  },
  {
   "cell_type": "code",
   "execution_count": 1,
   "metadata": {},
   "outputs": [],
   "source": [
    "import proveit\n",
    "theory = proveit.Theory() # the theorem's theory"
   ]
  },
  {
   "cell_type": "code",
   "execution_count": 2,
   "metadata": {},
   "outputs": [
    {
     "data": {
      "text/html": [
       "With these <a href=\"allowed_presumptions.txt\">allowed</a>/<a href=\"disallowed_presumptions.txt\">disallowed</a> theorem/theory presumptions (e.g., to avoid circular dependencies), we begin our proof of<br><strong id=\"less_eq_complement_is_greater\">less_eq_complement_is_greater:</strong> <a class=\"ProveItLink\" href=\"../../../__pv_it/theorems/461c2e32f7c74dcda8af75ab7fa5c93c95d254eb0/expr.ipynb\"><img src=\"data:image/png;base64,iVBORw0KGgoAAAANSUhEUgAAARQAAAAWBAMAAADz4X71AAAAMFBMVEX///8AAAAAAAAAAAAAAAAA\n",
       "AAAAAAAAAAAAAAAAAAAAAAAAAAAAAAAAAAAAAAAAAAAv3aB7AAAAD3RSTlMAq1RmmUTNIjK7EInv\n",
       "3XZ/CtNrAAAACXBIWXMAAA7EAAAOxAGVKw4bAAADuklEQVRIx8VWW2gTQRS9m91tkt0YA0KhViSg\n",
       "+KNiEFH8sI3U+o4GQb9EgxV8gUTwp1ql+qn1UaFI/ZAtBPEZoqCgogRBEEWpLxCkstWKKFoKfrT4\n",
       "5Z3HJjOz2cU/D5xN5s7cu2fmztxZgH9AlDyKqqExisrQf3CJhndL+IxMphVDAHZwNooRANNlTJHG\n",
       "nFAlkQo+5quGACQzjI1iBOELYyf5vydUyhWkVVAM8ouEAPs5/TEC0eRQniCJOh8qpQNpZBSDCP2d\n",
       "U28s4fTHCISepSSK7HSolCoyoRrEnHwUlEDCYfTHkDBP3NvPKXWcblP4ViG5maca6rjxSV7tDKM/\n",
       "hogV68VWF+PLkZEXoVIMsuM2KAZrfObpO7RVesvN1lgGhnCJU4y+GOUOsDz7rwfstzx69SGm5DZQ\n",
       "rgW4FCqFTrFLMRgw6uZIY2iXZ7YjVWjHpBcYAXIjBK89l8oC0CeY6Ecu98kmZxvDAEuB8hBEU/6k\n",
       "fNzd7A2fRnbSG3w7jZxlhmXQ7swgvVpNykkM2oKuVUYJ6BJL50Cj5yOa8/KnF/U/GjYWAGXcsfOy\n",
       "39mWAXAr9lFvH5Lup15lTDFDL6zmlsNegpyEC68AYhOMEtDFws4EnV5z7ZTEwKDrd44x4iq71sCU\n",
       "gevq5TApQN6qbNudTmwK62aVUZUC5h841ytLAS5uO2ehDR/ja8bwdJmjoNHah1KSJSVBNSnUYE7C\n",
       "deUwr4YkSc4wo7RXiAsuwE+QE4TyixY6LwTGO1gbk8WWJhxdnu70WTSfbqX7Cx8dJ8Ive1Ky1GAN\n",
       "aFWoKCWuH+IoVD/PKIHEwM5+kLfttfwssPF3OWcP8YfLMfx7ZCF8N6lkd9392slIsaMGgiEyVaqa\n",
       "9XWO7CXPlbAzw86tod44JIaRMn975/7XD/q76NRG2MJLBaFGEzhJ+1phtr5vcPACJuiu96YYWe0z\n",
       "Qlw0WJvcuYvVYzf0eDMmeVqeUQKJYbWOTdZLHC0spfFIB3nNe042tkq/GN7Ds1iF7ZWtD7y+DyTZ\n",
       "vULgD0El6B7yGKcM6mILNXepUPijw4wUPXbBgBvoYU6wgoeHuSRecOTGkm48P+yC9YRffP7LbwnR\n",
       "eTPgriN3be2+Nb4+/gF9aZi7vADduADmwQPWKm8OcTKBi+ImFGZ0ix4TunCuVmG3fIObHl0+Yfob\n",
       "o5tTQNoqxjNg3R8ckMz0TF1TDf4K3dbJZcb9X5ToMmcsHyDlojJVXApHc7c1Gnqc5NNVDAH4xtko\n",
       "RtCHX5FR/IIBs60C/w1/ARmPA4aU/BY2AAAAAElFTkSuQmCC\n",
       "\" style=\"display:inline;vertical-align:middle;\" /></a><br>(see <a class=\"ProveItLink\" href=\"../../../__pv_it/theorems/85d0363ea20b76631b3f5cfa20860125ade240fd0/dependencies.ipynb\">dependencies</a>)<br>"
      ],
      "text/plain": [
       "<IPython.core.display.HTML object>"
      ]
     },
     "metadata": {},
     "output_type": "display_data"
    }
   ],
   "source": [
    "%proving less_eq_complement_is_greater"
   ]
  },
  {
   "cell_type": "code",
   "execution_count": null,
   "metadata": {},
   "outputs": [],
   "source": []
  }
 ],
 "metadata": {
  "kernelspec": {
   "display_name": "Python 3",
   "language": "python",
   "name": "python3"
  }
 },
 "nbformat": 4,
 "nbformat_minor": 0
}