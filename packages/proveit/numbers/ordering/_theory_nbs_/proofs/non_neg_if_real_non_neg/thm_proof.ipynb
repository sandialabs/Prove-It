{
 "cells": [
  {
   "cell_type": "markdown",
   "metadata": {},
   "source": [
    "Proof of <a class=\"ProveItLink\" href=\"../../../../../_theory_nbs_/theory.ipynb\">proveit</a>.<a class=\"ProveItLink\" href=\"../../../../_theory_nbs_/theory.ipynb\">numbers</a>.<a class=\"ProveItLink\" href=\"../../theory.ipynb\">ordering</a>.<a class=\"ProveItLink\" href=\"../../theorems.ipynb#non_neg_if_real_non_neg\">non_neg_if_real_non_neg</a> theorem\n",
    "========"
   ]
  },
  {
   "cell_type": "code",
   "execution_count": 1,
   "metadata": {},
   "outputs": [],
   "source": [
    "import proveit\n",
    "theory = proveit.Theory() # the theorem's theory"
   ]
  },
  {
   "cell_type": "code",
   "execution_count": 2,
   "metadata": {},
   "outputs": [
    {
     "data": {
      "text/html": [
       "With these <a href=\"allowed_presumptions.txt\">allowed</a>/<a href=\"disallowed_presumptions.txt\">disallowed</a> theorem/theory presumptions (e.g., to avoid circular dependencies), we begin our proof of<br><strong id=\"non_neg_if_real_non_neg\">non_neg_if_real_non_neg:</strong> <a class=\"ProveItLink\" href=\"../../../__pv_it/theorems/187159c8a6c1e5f46fec0c156f3a8b6a5798761b0/expr.ipynb\"><img src=\"data:image/png;base64,iVBORw0KGgoAAAANSUhEUgAAAIcAAAAVBAMAAACeZ+BxAAAAMFBMVEX///8AAAAAAAAAAAAAAAAA\n",
       "AAAAAAAAAAAAAAAAAAAAAAAAAAAAAAAAAAAAAAAAAAAv3aB7AAAAD3RSTlMAq1RmmUTNIjK7EInv\n",
       "3XZ/CtNrAAAACXBIWXMAAA7EAAAOxAGVKw4bAAACOklEQVQ4y42UT2jUQBTGv+5uNslkNyx6EDxI\n",
       "oKCntjkUD8XWSLdVLOJioRdB9yZ4kPSuS3vy4KH1ZirUEUSQKi4qFivK3uofhF6kBVlIpSgoQhHF\n",
       "gyC+CTtJdteYHQi8mXn55c33vgzQ21ATd1z0PD4m7pyjpySC/jRGpv7P5ec7LkwbmBCTC2mQu7HQ\n",
       "DsO8xTaBi8C8OPBiGmQ8CtkLX4ajwDNgmGgcMKw0SCM++bbWCq4DQxwFjixVl0+VpNo2HW1RfgAL\n",
       "FvJEeNdsvk2D5ISusy9rcn7weHAwAbFhUG9OAEtpEPExZR23uFyY2S+k/E0QH1kqcxZqqfMlNiXS\n",
       "a4PSSEUS7b6NU2HCzJKE1JEhwXRuVGLvDzw9don2n7iid1KKAmWcBj6Ex9kXfIog531ouySaH+qq\n",
       "bXsV08AqKcB2KqyBNzHIa7CfUtiTobBDFhTRuuqYhJTnANPEiDCC+l7dwFZ0HPYH2d2OFnvAUY7M\n",
       "BoWPyHJYGVsNDCwgXxwqaopTJeutbN0H+46+6qF2sx0BJoGssOpl0pVtar9wT2yYhrpsQ9krSgw1\n",
       "EV1cxoDjtNu+aLFXrf730SFyjtbAdADJ3VwE2yPCWr/sjkYV3/569cBcZxO3aaVYCZUzSzjseZ5l\n",
       "msaZbqNs/cdEV2Tw0NVH+LWgElM5y9VyuTwRTxzu5ecsuAvTXOeBJlhzuhL16P560BQjKi26ApTx\n",
       "wcdQbwgvfqrfmeyCsOTLQu+4H1c8r5KQWkuEfAb+Av/YiEWJ0iNyAAAAAElFTkSuQmCC\n",
       "\" style=\"display:inline;vertical-align:middle;\" /></a><br>(see <a class=\"ProveItLink\" href=\"../../../__pv_it/theorems/1f9bc40d4fed8d27d9ff3f204734219c4136668d0/dependencies.ipynb\">dependencies</a>)<br>"
      ],
      "text/plain": [
       "<IPython.core.display.HTML object>"
      ]
     },
     "metadata": {},
     "output_type": "display_data"
    },
    {
     "name": "stdout",
     "output_type": "stream",
     "text": [
      "non_neg_if_real_non_neg may now be readily provable (assuming required theorems are usable).  Simply execute \"%qed\".\n"
     ]
    }
   ],
   "source": [
    "%proving non_neg_if_real_non_neg"
   ]
  },
  {
   "cell_type": "code",
   "execution_count": null,
   "metadata": {},
   "outputs": [],
   "source": []
  }
 ],
 "metadata": {
  "kernelspec": {
   "display_name": "Python 3",
   "language": "python",
   "name": "python3"
  }
 },
 "nbformat": 4,
 "nbformat_minor": 0
}