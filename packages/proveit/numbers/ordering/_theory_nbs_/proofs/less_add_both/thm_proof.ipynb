{
 "cells": [
  {
   "cell_type": "markdown",
   "metadata": {},
   "source": [
    "Proof of <a class=\"ProveItLink\" href=\"../../../../../_theory_nbs_/theory.ipynb\">proveit</a>.<a class=\"ProveItLink\" href=\"../../../../_theory_nbs_/theory.ipynb\">numbers</a>.<a class=\"ProveItLink\" href=\"../../theory.ipynb\">ordering</a>.<a class=\"ProveItLink\" href=\"../../theorems.ipynb#less_add_both\">less_add_both</a> theorem\n",
    "========"
   ]
  },
  {
   "cell_type": "code",
   "execution_count": 1,
   "metadata": {},
   "outputs": [],
   "source": [
    "import proveit\n",
    "theory = proveit.Theory() # the theorem's theory"
   ]
  },
  {
   "cell_type": "code",
   "execution_count": 2,
   "metadata": {},
   "outputs": [
    {
     "data": {
      "text/html": [
       "With these <a href=\"allowed_presumptions.txt\">allowed</a>/<a href=\"disallowed_presumptions.txt\">disallowed</a> theorem/theory presumptions (e.g., to avoid circular dependencies), we begin our proof of<br><strong id=\"less_add_both\">less_add_both:</strong> <a class=\"ProveItLink\" href=\"../../../__pv_it/theorems/f35793f3b868c16696b214a491d7b96e12557ec60/expr.ipynb\"><img src=\"data:image/png;base64,iVBORw0KGgoAAAANSUhEUgAAAVIAAAAXBAMAAACrGdq3AAAAMFBMVEX///8AAAAAAAAAAAAAAAAA\n",
       "AAAAAAAAAAAAAAAAAAAAAAAAAAAAAAAAAAAAAAAAAAAv3aB7AAAAD3RSTlMAq1RmmUTNIjK7EInv\n",
       "3XZ/CtNrAAAACXBIWXMAAA7EAAAOxAGVKw4bAAAER0lEQVRIx81XXWhcRRQ+2bu/925vAj4IEcpC\n",
       "H6Rg6qKl0DyELaltRWqXVgR/kOAPwT6UDeRFaOuGij4Y2IsR0lVIRxBpu2q3rViIEINY2qqViBal\n",
       "ccuNKRUTLGGhGCwUz5mZ+zO7cyHClvbAd++dmXNmvj1zzplZgLslKQmtlCIM/vdEnZA/JLTyUoSB\n",
       "ThKuQA81NnSeaKwuoBc7rzM4cbld8+1vYRFfiCeoOdx5pp9IRMh+rcGrGs0mJBkQxigKnM4zHZQI\n",
       "ZF+4sVlr0PQ2PHB54l8wCkAgwlau80xnJQLZFG5kWbDtw54BspJdrj9qzQF8BwQD6SfvQpgOCUQx\n",
       "TfpeM35hngGxamWaRIe+AhyXG43vO880XheAkZnDrUxnFstg9Xi5Nc98g+T6hZzKdGSmgj2ngWMX\n",
       "wAdrXX7tTMlnhMQFOMZUpodycQcM6e/atZDBqf3mPwpTab0FOEYg5f0+SL+uLPd1mb/6vtx2gH9k\n",
       "2kpIOBVjkxRWq6KxLifwaR52t/h0HrIuxEQMj/7sWZPyowx+VJii9Q58PSKQYVbRX+0hhcibyH2h\n",
       "WrQtOFfXMGXQFSqYsSl+oKzIjCkK7CFmKLsbjR8ajZ9oY3japLle18tBiqEysrqNCo3G7xiS5D5p\n",
       "XRGIuaGEuqhQ+QtgO7rVtqHfbWc62gvZst8yJkTYOSrTS2DeUn2a5RqJWQ3TeUg0FZ9K6xclhgYo\n",
       "XgbO0S+9s0BBZS26vOuAOEuQ6VIhYGqeXaZje+xB/KE3e3mKDID9nhi64Sq7b94BY0VleoprxOY0\n",
       "u9+UDveYetZ9EmfwvDB/TVMs21dtonQlPcu7VuEE95OVmsoHTD8rVZDpczvx8292nRYpjqe/8Yak\n",
       "lzMuh9mErqGHFabdOFURDKclo8hglQIzzFRabwWBgxgR8QKRg0yecjLumGXetSLOFTv+oRPKqO0w\n",
       "jkSn6XOCp+WTcBw2TouhilewewSmoK9QUJhi4ltlUcFIPr/GfIMH4H21nkrrp0Cgq0xRYlMEZ8vx\n",
       "HhEyvMuBLdVqNWfb1t4Q0/OwANKHF2Eb7wBJ/TyFtqgicwIfLb+zvqzm/lePL9E++AEuCipX/iKv\n",
       "MpXWV0CAB08p048G3ZDFcOkuya4l9i73qZ14gflMseRNnIQaj8sVIMaiBo7tpKGpk3LG3yQizqhD\n",
       "wacx7BtA+xlF9WROQGReqbKP1WAd2wo1SBahXqOuIyzDeJzCdCijLqRv9WMn5fpVwzHr8BpY/Dzp\n",
       "xaHV/tAVZHP0DWWw7awIKyeUS2E8LyCGBjedhfFc+mkXn6nBATae412pozj47I36xzsCps88tpyX\n",
       "ZemtmxQHo7Sd/CIvh7huSSDiHt9+e4tWfkMiJLm2J9Sq1eBcUOspP5PwpZ/edAT0oqEVrTwpEfI5\n",
       "a322zq+b5/mI+Q9LaOXPCAPt/4OSQEiMtudamPLtTmONqE7CfSOpe7n4f30BOZQcp0siAAAAAElF\n",
       "TkSuQmCC\n",
       "\" style=\"display:inline;vertical-align:middle;\" /></a><br>(see <a class=\"ProveItLink\" href=\"../../../__pv_it/theorems/724eebbe2789318593d6e814c2268391180a55400/dependencies.ipynb\">dependencies</a>)<br>"
      ],
      "text/plain": [
       "<IPython.core.display.HTML object>"
      ]
     },
     "metadata": {},
     "output_type": "display_data"
    }
   ],
   "source": [
    "%proving less_add_both"
   ]
  },
  {
   "cell_type": "code",
   "execution_count": null,
   "metadata": {},
   "outputs": [],
   "source": []
  }
 ],
 "metadata": {
  "kernelspec": {
   "display_name": "Python 3",
   "language": "python",
   "name": "python3"
  }
 },
 "nbformat": 4,
 "nbformat_minor": 0
}