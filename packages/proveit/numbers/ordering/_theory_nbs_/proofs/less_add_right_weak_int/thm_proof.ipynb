{
 "cells": [
  {
   "cell_type": "markdown",
   "metadata": {},
   "source": [
    "Proof of <a class=\"ProveItLink\" href=\"../../../../../_theory_nbs_/theory.ipynb\">proveit</a>.<a class=\"ProveItLink\" href=\"../../../../_theory_nbs_/theory.ipynb\">numbers</a>.<a class=\"ProveItLink\" href=\"../../theory.ipynb\">ordering</a>.<a class=\"ProveItLink\" href=\"../../theorems.ipynb#less_add_right_weak_int\">less_add_right_weak_int</a> theorem\n",
    "========"
   ]
  },
  {
   "cell_type": "code",
   "execution_count": 1,
   "metadata": {},
   "outputs": [],
   "source": [
    "import proveit\n",
    "theory = proveit.Theory() # the theorem's theory"
   ]
  },
  {
   "cell_type": "code",
   "execution_count": 2,
   "metadata": {},
   "outputs": [
    {
     "data": {
      "text/html": [
       "With these <a href=\"allowed_presumptions.txt\">allowed</a>/<a href=\"disallowed_presumptions.txt\">disallowed</a> theorem/theory presumptions (e.g., to avoid circular dependencies), we begin our proof of<br><strong id=\"less_add_right_weak_int\">less_add_right_weak_int:</strong> <a class=\"ProveItLink\" href=\"../../../__pv_it/theorems/7a8da3b38796f7ac537d3ff5dc89224ed4e87da40/expr.ipynb\"><img src=\"data:image/png;base64,iVBORw0KGgoAAAANSUhEUgAAASkAAAAXBAMAAAClsKTYAAAAMFBMVEX///8AAAAAAAAAAAAAAAAA\n",
       "AAAAAAAAAAAAAAAAAAAAAAAAAAAAAAAAAAAAAAAAAAAv3aB7AAAAD3RSTlMAq1RmmUTNIjK7EInv\n",
       "3XZ/CtNrAAAACXBIWXMAAA7EAAAOxAGVKw4bAAAEAklEQVRIx71XXUgUURQ+7p87s7OuRhQkxEZh\n",
       "RSTbLxQkGxpGYS7Yiz3URg9RL60VvZQxRRTRj0tCthU1vQS2lZsGgaGIERYVWBCFsbBmECWJBCb4\n",
       "EJ1z7zhzZ5ytILYL5+7cM/fe+c75zjn3LkBhW3EefSK/OgEFbx+d1SVhZ/1OXUppsLBQoFwZZ/0y\n",
       "kK8POqGNcNlEg72FQnXbrqhg/MhxAF/UacF+LieI/GShUFXbxhu2sB8PuiM0TWKDOGE1F58GEAgX\n",
       "ClWfdfitm/8qKLs0XVkpzlA0Jm6E7StYWMXFkdyTm+YRpQecUPkiXF5lsy8KhcpDwd7Ue5yDqotM\n",
       "67ei7B6bZUPVO6JCALOPZDPA1T/uns8XYm3JzXxPVnsH4CaRJc8x42QPDn9oHQkLquawJwlu9C5J\n",
       "ExSXTs/277NsWvT84TWWKZL9c6d5fqwxyFlrQF8qIA0ikLsRqGMDAdUbNGgKlJwF1QdSuDASSSQt\n",
       "EDOmlxtP/uFULJgI3NccUGlQxOqQbJhz8Rs6hemWii5TcOd6+h4r8yaDT9GGOIRwQV02+zKbfU18\n",
       "TLHPjnNx5YRgf2Y81ajoSjh5CGaiOjwPFJURa5qzXK816yJgQ/Uc5Al7tCOqYAZ2hUVfKcz93j4u\n",
       "EK/CLl31iJD+HCbfBEZyJXz3aFRAJXeNEjsn5gK0jM0jgsCCqhPgC/sQrjcYlH+Ce9xeGd6wclWv\n",
       "iag62BrXIBfoRBvld/5JKvhDJQTjrb+vnc10H1QFVPcSLYiqsZa21z5hf8SKahGc59bjeq6VciB/\n",
       "h6L4YlsVvYGoVPmJJQdD6IcYuNFjJHAMo8MTZRtJEYp/T1JWecG9HwABVQ2cR1DM3FbA8IZGK6pG\n",
       "cF0j82k911KO34DlUfNwqWBvHmAmRaSoBRUmYEBltYTVkyKVAqCEIldRPaU8GtamUqkwZLrhjonq\n",
       "KQyDv1+Pv43YL0DOcV6qjaM6iyFBsBQj3PzIxa3RM/NVWwpfQHbKq21V9PGqr8h5jAsnNSGtx/1C\n",
       "oCAHIeTpHAu9JRHoNlDJk9B6B9KX6Hkc+jkMK4OIY3aCrdfbe+c6FxRhWmp7sy48ARItDVoagto6\n",
       "SIMvBhmJRb0HvIOmrwb8E+sx9lrxccidlDP2aB9j+V+m0XrhsHVobvG+0GA/zo0j3Vtd2YWx6t+W\n",
       "w764ukorvoLaFWWjl0tNVNtXjlJmuhHWqTHiUjKccvRAL0Cbfvuk9brenAFyljXupbZ8V9fkzBtM\n",
       "WOjTqZRZjaz1ysX3dOl10/isw31IznNHas+DiqyQrFdkr2b2tslOO+wAqLUclk4X7uN5fJJz1n/W\n",
       "RWRb6P8CFbIZEC3AQ/EsZeR/+Dfw+38qoOV5/sf2C/f4+JR7sAewAAAAAElFTkSuQmCC\n",
       "\" style=\"display:inline;vertical-align:middle;\" /></a><br>(see <a class=\"ProveItLink\" href=\"../../../__pv_it/theorems/4294e548c90865be91bfdbeeb00ebc3b9cc7ef240/dependencies.ipynb\">dependencies</a>)<br>"
      ],
      "text/plain": [
       "<IPython.core.display.HTML object>"
      ]
     },
     "metadata": {},
     "output_type": "display_data"
    }
   ],
   "source": [
    "%proving less_add_right_weak_int"
   ]
  },
  {
   "cell_type": "code",
   "execution_count": null,
   "metadata": {},
   "outputs": [],
   "source": []
  }
 ],
 "metadata": {
  "kernelspec": {
   "display_name": "Python 3",
   "language": "python",
   "name": "python3"
  }
 },
 "nbformat": 4,
 "nbformat_minor": 0
}