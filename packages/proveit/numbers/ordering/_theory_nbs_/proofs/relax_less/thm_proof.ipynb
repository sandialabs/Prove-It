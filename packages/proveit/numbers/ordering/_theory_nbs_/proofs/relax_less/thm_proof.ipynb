{
 "cells": [
  {
   "cell_type": "markdown",
   "metadata": {},
   "source": [
    "Proof of <a class=\"ProveItLink\" href=\"../../../../../_theory_nbs_/theory.ipynb\">proveit</a>.<a class=\"ProveItLink\" href=\"../../../../_theory_nbs_/theory.ipynb\">numbers</a>.<a class=\"ProveItLink\" href=\"../../theory.ipynb\">ordering</a>.<a class=\"ProveItLink\" href=\"../../theorems.ipynb#relax_less\">relax_less</a> theorem\n",
    "========"
   ]
  },
  {
   "cell_type": "code",
   "execution_count": 1,
   "metadata": {},
   "outputs": [],
   "source": [
    "import proveit\n",
    "theory = proveit.Theory() # the theorem's theory"
   ]
  },
  {
   "cell_type": "code",
   "execution_count": 2,
   "metadata": {},
   "outputs": [
    {
     "data": {
      "text/html": [
       "With these <a href=\"allowed_presumptions.txt\">allowed</a>/<a href=\"disallowed_presumptions.txt\">disallowed</a> theorem/theory presumptions (e.g., to avoid circular dependencies), we begin our proof of<br><strong id=\"relax_less\">relax_less:</strong> <a class=\"ProveItLink\" href=\"../../../__pv_it/theorems/e31e463cf2805f510e0c2c78f9eb78535b1640d20/expr.ipynb\"><img src=\"data:image/png;base64,iVBORw0KGgoAAAANSUhEUgAAAKEAAAAXBAMAAACR7DLtAAAAMFBMVEX///8AAAAAAAAAAAAAAAAA\n",
       "AAAAAAAAAAAAAAAAAAAAAAAAAAAAAAAAAAAAAAAAAAAv3aB7AAAAD3RSTlMAq1RmmUTNIjK7EInv\n",
       "3XZ/CtNrAAAACXBIWXMAAA7EAAAOxAGVKw4bAAACOElEQVQ4y52UT2jUQBTGv2ST3eyku1YKQhVk\n",
       "wVLwIAQRpAe3LdIqQtWTR5ub4ClepUrr1R4U9KIgU5AeKsjSg6BgCZ4EUfYieFlIpSIVLL21R99L\n",
       "3GSSTZTsg4R578v8dt+fGaC81YolD0PZ92LpJj2jvDhVBqh3irWmA8zx4lYZ4no2MKnkehtY4cI8\n",
       "KkO8mPEvXFGcc0BVAnarDNFPu7/fqd6IRIUyr5Yqo6t64n2QUquE+9zrfSpDNKgxYu/4w80QuOD0\n",
       "0TsO1ihd6vRl4NnAtpliIv8LA9vBAmOOxfWydR/TQIUyuIPa6MC2f7SqQZDzmJZj7CTEB0YX41QT\n",
       "qnJd2tf/QxSp2tPXy5j/e3zirOVIgC+AtU/UIKcxKWJtVmaI4M2ZzixK6xAweRLcNr32Lu3QnJrb\n",
       "0BRiFLSOeokQZQ3zABuZ6ZlHk2h6l5abNOdNb7xKX74+IlcTYhQ0n3iKQFUKIJ5qPjqZCX+MOvWj\n",
       "wjuXeIEXFi3vnsFuQgyD5nOpCuF86IcvfTM5FZPL/J7FohPNFrQwcBCKJ3BSrSMFV1spgYrQhbga\n",
       "TJzNln5t6xol04i7bPnhrfcVHxUiB8XbliqQfSuaqzf03Os7S7Zr4BV9be4nxDAI7PKA9IXoMsgx\n",
       "2xUf1GvE+LH1ixOcmHITYhgkmyJkX+DWJJeX6IXGZWsEWmfwFmsJr+7kTPhpLxYYk3ug9PZc+tfY\n",
       "TKkFN/JPYSyw3S8+oj/TbgVmu5NPjIWhzRt+6x9nW4y+fv6K2gAAAABJRU5ErkJggg==\n",
       "\" style=\"display:inline;vertical-align:middle;\" /></a><br>(see <a class=\"ProveItLink\" href=\"../../../__pv_it/theorems/c40ed6adadbaa57a41f1c177c714f3e309e065da0/dependencies.ipynb\">dependencies</a>)<br>"
      ],
      "text/plain": [
       "<IPython.core.display.HTML object>"
      ]
     },
     "metadata": {},
     "output_type": "display_data"
    },
    {
     "name": "stdout",
     "output_type": "stream",
     "text": [
      "relax_less may now be readily provable (assuming required theorems are usable).  Simply execute \"%qed\".\n"
     ]
    }
   ],
   "source": [
    "%proving relax_less"
   ]
  },
  {
   "cell_type": "code",
   "execution_count": null,
   "metadata": {},
   "outputs": [],
   "source": []
  }
 ],
 "metadata": {
  "kernelspec": {
   "display_name": "Python 3",
   "language": "python",
   "name": "python3"
  }
 },
 "nbformat": 4,
 "nbformat_minor": 0
}