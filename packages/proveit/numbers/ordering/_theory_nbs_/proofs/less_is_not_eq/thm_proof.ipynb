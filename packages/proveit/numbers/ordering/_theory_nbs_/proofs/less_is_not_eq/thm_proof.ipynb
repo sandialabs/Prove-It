{
 "cells": [
  {
   "cell_type": "markdown",
   "metadata": {},
   "source": [
    "Proof of <a class=\"ProveItLink\" href=\"../../../../../_theory_nbs_/theory.ipynb\">proveit</a>.<a class=\"ProveItLink\" href=\"../../../../_theory_nbs_/theory.ipynb\">numbers</a>.<a class=\"ProveItLink\" href=\"../../theory.ipynb\">ordering</a>.<a class=\"ProveItLink\" href=\"../../theorems.ipynb#less_is_not_eq\">less_is_not_eq</a> theorem\n",
    "========"
   ]
  },
  {
   "cell_type": "code",
   "execution_count": 1,
   "metadata": {},
   "outputs": [],
   "source": [
    "import proveit\n",
    "theory = proveit.Theory() # the theorem's theory"
   ]
  },
  {
   "cell_type": "code",
   "execution_count": 2,
   "metadata": {},
   "outputs": [
    {
     "data": {
      "text/html": [
       "With these <a href=\"allowed_presumptions.txt\">allowed</a>/<a href=\"disallowed_presumptions.txt\">disallowed</a> theorem/theory presumptions (e.g., to avoid circular dependencies), we begin our proof of<br><strong id=\"less_is_not_eq\">less_is_not_eq:</strong> <a class=\"ProveItLink\" href=\"../../../__pv_it/theorems/69b5550628a93ed4e5cd8e25409c482182111a630/expr.ipynb\"><img src=\"data:image/png;base64,iVBORw0KGgoAAAANSUhEUgAAALAAAAAXCAMAAACccDU6AAAAPFBMVEX///8AAAAAAAAAAAAAAAAA\n",
       "AAAAAAAAAAAAAAAAAAAAAAAAAAAAAAAAAAAAAAAAAAAAAAAAAAAAAAAAAAAo1xBWAAAAE3RSTlMA\n",
       "q1RmmUTNIjK7EInv3Xbn9enzK1aD6QAAAAlwSFlzAAAOxAAADsQBlSsOGwAAApNJREFUSMfFV4uS\n",
       "pCAMFAivALm79f//9XgqoKNzs1cuU2XpSJKm04S4LD809CMm/28Qv34PePxPUrqy7ZmL5/Byd/3e\n",
       "2P0erQ91lQkhyPZCPUc5qpsJ1vRPCtpN5N00irV9jmC4SaZhw+Pa9COgok7D8ecA+zuCh2TLdRO0\n",
       "j3eirlY9qOCbWHIk2IVdHAmsD2l496AiWizNHGk6vJ92k2JErOTfpaVAFrjFz2J/YqRqUqWPyOye\n",
       "cMjUhV+/03VjGdeoWlzzIoTKy2yXWfpq2oc8OAVM9ZTc7tSDkzhCoQt9LlPhhmCeV+RzVO4buU6e\n",
       "BGMtdYaYtXEGLfEfp92bgHFw0u25EgzWjH5+L6esQVb8mqeZbMLpxZbztRoC1BuKv0UgvQVYA8PO\n",
       "yRGwtznh8prgsiJZSpv0tUCIigGdINcMzBrFjvWA2QETwjng0Zgx3Ts5SgLXFFSsHZdJu3++ipLZ\n",
       "UIWhKJ2HWoJrMcagY4QWkwIuBPFo3DuAKAltSZwC7o2lBT04GcssFcAJCVMLHyhV8+5fTZN7XF6J\n",
       "pz1ruY+UbFXdirwtpegAg3WDCrqH3Vhah5OTsbCyDTcPMFYafqg7LHqwMBZEZnZxEeslDCyGs3nw\n",
       "Igkn+Tngzdh4Pu4DmEqQKYlFRs5oRuaS4DjNbUd5GAWfi50VWG2SumJs45Zew1I6PAPcGaOzG+Tq\n",
       "ZBKx+ayN03MJ9EmFUsQ6neyi+rJm9jOllLUXm24zzjNtJaU5GYZ4ed4o/KemSYLg5ETNqgGi0sdV\n",
       "QqQi5RYEUGeAN+MKqkBuTq66m24l1wRfVX0+1KukYXnaV125sC87bHxhF/D9Jm7i+s3W4tMm+qTl\n",
       "yfm4/Ky6+sJ493Ppwa7/xz5+vzf+Ap9pFH0QnSRUAAAAAElFTkSuQmCC\n",
       "\" style=\"display:inline;vertical-align:middle;\" /></a><br>(see <a class=\"ProveItLink\" href=\"../../../__pv_it/theorems/97be5388c05f867a4edc43d3e5c55b084f5efedc0/dependencies.ipynb\">dependencies</a>)<br>"
      ],
      "text/plain": [
       "<IPython.core.display.HTML object>"
      ]
     },
     "metadata": {},
     "output_type": "display_data"
    }
   ],
   "source": [
    "%proving less_is_not_eq"
   ]
  },
  {
   "cell_type": "code",
   "execution_count": null,
   "metadata": {},
   "outputs": [],
   "source": []
  }
 ],
 "metadata": {
  "kernelspec": {
   "display_name": "Python 3",
   "language": "python",
   "name": "python3"
  }
 },
 "nbformat": 4,
 "nbformat_minor": 0
}