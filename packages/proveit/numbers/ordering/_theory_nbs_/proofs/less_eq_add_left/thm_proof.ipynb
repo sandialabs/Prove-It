{
 "cells": [
  {
   "cell_type": "markdown",
   "metadata": {},
   "source": [
    "Proof of <a class=\"ProveItLink\" href=\"../../../../../_theory_nbs_/theory.ipynb\">proveit</a>.<a class=\"ProveItLink\" href=\"../../../../_theory_nbs_/theory.ipynb\">numbers</a>.<a class=\"ProveItLink\" href=\"../../theory.ipynb\">ordering</a>.<a class=\"ProveItLink\" href=\"../../theorems.ipynb#less_eq_add_left\">less_eq_add_left</a> theorem\n",
    "========"
   ]
  },
  {
   "cell_type": "code",
   "execution_count": 1,
   "metadata": {},
   "outputs": [],
   "source": [
    "import proveit\n",
    "theory = proveit.Theory() # the theorem's theory"
   ]
  },
  {
   "cell_type": "code",
   "execution_count": 2,
   "metadata": {},
   "outputs": [
    {
     "data": {
      "text/html": [
       "With these <a href=\"allowed_presumptions.txt\">allowed</a>/<a href=\"disallowed_presumptions.txt\">disallowed</a> theorem/theory presumptions (e.g., to avoid circular dependencies), we begin our proof of<br><strong id=\"less_eq_add_left\">less_eq_add_left:</strong> <a class=\"ProveItLink\" href=\"../../../__pv_it/theorems/aba7ba97c31461dd9b6fcd1e71b3b794a8ac64c20/expr.ipynb\"><img src=\"data:image/png;base64,iVBORw0KGgoAAAANSUhEUgAAARAAAAAXBAMAAAAxVg0qAAAAMFBMVEX///8AAAAAAAAAAAAAAAAA\n",
       "AAAAAAAAAAAAAAAAAAAAAAAAAAAAAAAAAAAAAAAAAAAv3aB7AAAAD3RSTlMAq1RmmUTNIjK7EInv\n",
       "3XZ/CtNrAAAACXBIWXMAAA7EAAAOxAGVKw4bAAADvElEQVRIx71WX2gURxj/ZW+T2z+XvdAHHwyU\n",
       "A0EQqxytiObhjERtVdSzSsE21NQgVR9kA74ICieIL0ZyNA96rYQVfFCD3GmgSqAhtEjtHyX+oyVy\n",
       "ssGiovQISBvIg/jNzN7uzt0eIpx+8JuZb3Z25jff95vZBZpvtodGz+otjndhVkog0r6O7G11gQ7W\n",
       "WNRMIks91JpxdooYpiPfeQysZ/W3TeRh9AnUW1s3FQcCXwmWbXNwjKUo30QialogsB1enWT5WuF3\n",
       "x+47QbubcYGZaiKRhIfAlnv1brZworq69dAJjfkdMSLf1kyJLPZQT+QnngQvWKOPpDH9wK1y+Y9m\n",
       "EtnsId751JWJfFP5gKLPTwfO3/NfMCurgCvAZ8D3b8z7WxDp99Br6/MSEeN/p2gjxnV8bk9wh9zF\n",
       "RmAlMIB4R7VT2y/NuezHtQd5Q5e6ldM4kZd9c6JU9e4KGL9AnZKIKPNIuFAmWbslINJewm3gI1rE\n",
       "MbN+b6ff0mYKWcvEtVIdEWWEJirJfga7qu4NAXWWLQFsKZf/LJfvsLD2IVmCNstHHfJTs41rdojm\n",
       "cUNavem31uVI2Ba63FoisWGm/Zzs30TSlokk8ihmpYgQr90ptE7WiPU3XvYS+jKsP3ONheHVDONn\n",
       "Pnb5DUhEnncHRIyxFzas7/gGKgtZNZERfpyinpJTU3SxRj41dI3Q7pUp+fgar4QKCFfpsjP+0ubY\n",
       "w2mLLfxAm7zIx5rxkXRA5LI9ZGs/8+a/zj9sj9lB4WvzaK/eYSMCxRQWKLZEJEe6QSxfc6G9pE8N\n",
       "sJpaR0irarfGQqanmajVvJHjt6Gl/pAPiXUdBoEl46w5zGROar8gfI3rUNgVAd1V7qtSRFrSOu1S\n",
       "DdSl7AOfBNfFgW+hfCeyVgdPvdrBHDpOhUIhZVnm5yEiNzBD5a5xrom1nhy4T6lJVlNzSsD48PrA\n",
       "M/n4dvbwKNYcd3MsQ5F54HlFW+8iN8lTzXR3kkfEav3K8YkYcxi+RPWxT4FZsJTM8XeZHxJre06g\n",
       "/mbldjT6h6SqnIQ9tMMZRbuzGqNoy6KkO1wjGA+J9Vftvy5WDyzEdCxvlLAXpudXsD30/eKo/+hx\n",
       "62n4pRR/Jj3LxzCY0ra6VMZ7Mk78DPV+8aR0fkNAZOfHL9Leb9bxCkimhz557vnmxCZ/0tMeorcu\n",
       "RHe5zOxvv/uwPCoVKkcLhSCbetScSoO1LnqIND36X1Em3uoEZc3rUS9/2WjTrkCkPY3+u5TpxUJl\n",
       "IyIanaaC4J+u8d+Hxd/9Eq8BqHbzkO8Q0uAAAAAASUVORK5CYII=\n",
       "\" style=\"display:inline;vertical-align:middle;\" /></a><br>(see <a class=\"ProveItLink\" href=\"../../../__pv_it/theorems/a1f982b72a1ab2522cd90897aecb03596858043f0/dependencies.ipynb\">dependencies</a>)<br>"
      ],
      "text/plain": [
       "<IPython.core.display.HTML object>"
      ]
     },
     "metadata": {},
     "output_type": "display_data"
    }
   ],
   "source": [
    "%proving less_eq_add_left"
   ]
  },
  {
   "cell_type": "code",
   "execution_count": null,
   "metadata": {},
   "outputs": [],
   "source": []
  }
 ],
 "metadata": {
  "kernelspec": {
   "display_name": "Python 3",
   "language": "python",
   "name": "python3"
  }
 },
 "nbformat": 4,
 "nbformat_minor": 0
}