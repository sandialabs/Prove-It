{
 "cells": [
  {
   "cell_type": "markdown",
   "metadata": {},
   "source": [
    "Proof of <a class=\"ProveItLink\" href=\"../../../../../_theory_nbs_/theory.ipynb\">proveit</a>.<a class=\"ProveItLink\" href=\"../../../../_theory_nbs_/theory.ipynb\">numbers</a>.<a class=\"ProveItLink\" href=\"../../theory.ipynb\">ordering</a>.<a class=\"ProveItLink\" href=\"../../theorems.ipynb#min_set_closure\">min_set_closure</a> theorem\n",
    "========"
   ]
  },
  {
   "cell_type": "code",
   "execution_count": 1,
   "metadata": {},
   "outputs": [],
   "source": [
    "import proveit\n",
    "theory = proveit.Theory() # the theorem's theory"
   ]
  },
  {
   "cell_type": "code",
   "execution_count": 2,
   "metadata": {},
   "outputs": [
    {
     "data": {
      "text/html": [
       "With these <a href=\"allowed_presumptions.txt\">allowed</a>/<a href=\"disallowed_presumptions.txt\">disallowed</a> theorem/theory presumptions (e.g., to avoid circular dependencies), we begin our proof of<br><strong id=\"min_set_closure\">min_set_closure:</strong> <a class=\"ProveItLink\" href=\"../../../__pv_it/theorems/414734663e20d987885ff624300dc43fcb24db7d0/expr.ipynb\"><img src=\"data:image/png;base64,iVBORw0KGgoAAAANSUhEUgAAAgkAAAAXBAMAAABzD8EJAAAAMFBMVEX///8AAAAAAAAAAAAAAAAA\n",
       "AAAAAAAAAAAAAAAAAAAAAAAAAAAAAAAAAAAAAAAAAAAv3aB7AAAAD3RSTlMAq1RmmUTNIjK7EInv\n",
       "3XZ/CtNrAAAACXBIWXMAAA7EAAAOxAGVKw4bAAAGWklEQVRYw+WYb4wTRRTAX7fb7nbbLsUYhWig\n",
       "UcREhTQIF+XDUQLohYu5chhNwEgNH4iGwF7iPwS1XjSaCFwjIVqMsBg/COi1cEG4I156EnJRYjgN\n",
       "Ihw0LkEFJHcUCIJ8sM6/3Z3udUtLjV98yW3fvJ2bmf3NmzdvBqAOUQupaq9HjkPjotVpr0WkKm2O\n",
       "HL/JV42RYKLq673/AgQ1Wp+9JvEZle3P0lGjz4pg7d5aKXjwjxBzo1BPY5XlQej4JY+VIz9o62K8\n",
       "vRE5M9Y0pTU3S42ZFBZg04paKYjYG/yaG4V6GqsoShJgzRWkeCdrsCxeZm9A/LrTEjBgRxFeMCm8\n",
       "hddNulYKMp7tNa4rop7GKoqIZqf7GF4BbToo5fYGxBt3WuYjYxJmmhQwpmC05riA6e1xpVBPYxUl\n",
       "hP66LyJfe6dNd9obke9YdPmkcIxq10m0COmMghdR9tceHR9GP0lXCvU0VlGmYgpZNHNGOYWpDVJY\n",
       "TqPkKrNRH1p1cgr8MUYBvi8UDtdOIVQonMq57xF1NFZRWjEFDwqPsTZdWhmRVz4+Osm0S3ed5WN9\n",
       "R/8bN9kfufq7yfNli6xS2k8+KGJSaAHYwv1vvDoFMQUB3Z2Co7FbmrNu32UQdOQL/giEb4Mujdmf\n",
       "0QI3uN1vELbpVdvi6zeBI27PKV3SSGhgFDpAwiFv6WgzSR5YbCPFYCaT0aZ9NXeVTQHV7eC7er01\n",
       "4R2wKbDG6tzO+8+cY+qPmAKcABUQhUAEAnkYF6N25SCIQ6A0sZpfxOAJUA6MdyVB6zN5iDy5payc\n",
       "LyGPE/ImhYCOn4IBXWBTIEVlM4koQdiXs7OmLXZyJJ/OJIRIHyy0KdDGapeNE1Ef00EusvIhQuGi\n",
       "9pJJIQ3jDGoXixDOwcYRVrMN4CSI3IeO2W5IfSbk22S0XgsnrPdXgfRLKQiGnwZhD0eBFAMkL1BV\n",
       "mG3YFKbbROcj5xGaRcjZFGhjtW+MLfiJJiRSRiGbM8ZSCKUhi/qfxmp+C8pVGJeQrrtuN7Q+Wx1k\n",
       "/u09HPmXchl5oeULkGxGD+R3EkeBFNcCo/BH3Kbg96JRzXxkNA4k8xI6nzY4CrSxXc37zO441fbG\n",
       "ngsan9NdsU8JdEUE8jEHBWTPGjAHLArK3+Atgld3p0Drk5Ga/2X5jYKoSyhoCEMWhT04B1BLm4Cj\n",
       "QIr3UDUobY3ZFIJTUToz6yAMwg6ydFJ99/EUcGPKz/I1sztbteVLrYt+NZuci39ZOdFWQsF3SXdQ\n",
       "QPZsFO4QNPI9OplJT/J+NJwhUnRyBlb/NTJSgEeJedR8j79eRMP2pi0K64g7ftoW4SiQ4mJKQfw4\n",
       "zZ2mJBQLpe4k3KCvhZSopjkKuDExLudBInsFUdt/TTjytvUsLNKvV6Zc4ne0RdjdAWXQCIGfUdiN\n",
       "c17hqEhmVfmTcJkWR7O8QafFbBJshTxIfTpSutMiPzYTOvEk7QqTYBQ8KYLXV+QokOJ2tiKC7fyZ\n",
       "cgL+FwOtqCa0g0SFlJJLchRwY6GEGoHOYbI4sZpXimUUDsFpltg+n8l8gCdumflqA8rPjyyH3+D0\n",
       "kedevXvg88kDndsGqF2ZtL/jHPXtApr97RfenZSirHExjP3+KDAlPGzWJyMF+IninriEUfDdPh4T\n",
       "CScsCmRWomb+n7aLNBdWVd9S3XGyDqXEeOp96gvQbjhO1lktMFuHYUvV5HyZu16DTTu9C2bkQCZr\n",
       "qZ07mYRdjvq2HVMQrDXwIrzCFy15APiRgsQigq/XzKDZPg9lFMQIeDSbAiu2puhO2Rd3UHgTwp0p\n",
       "kj15E6BGHBRCWtdiQmEXUwMJpCo58kA/g/LV2cJ5HKvIqpkLcKf7scdpxxSCVnr40XsLuaIt1hZJ\n",
       "Rup6GJvnoPB26z4uOrKirxdlTU/9nvvsMQeFRaD2oCFgV11hb3MmBd+86T2AKayPUrUFq/IgrNfk\n",
       "QfkbeHLGhRhMkPAhGmNumX/APqp/6BLxTfva1f04fpq8S6UiV7TdzUqdyUjdTsHE/fdWujxK137X\n",
       "tCuTSbjfNeEVQaNRUDdMFbsz/RlSZ6HA1pvZXN7FDpeuy+yOq6OxN0mqC0PnJYN2SxSq39B9zd87\n",
       "bjwcBR9dsKtLQ6aKZAnbsYWeitPjcjnmZq/tGs/lWugsvnc8pJ6qSsGTweeIRi43KqmN3Zf8R6LB\n",
       "/1D+ATM59lU2YvcHAAAAAElFTkSuQmCC\n",
       "\" style=\"display:inline;vertical-align:middle;\" /></a><br>(see <a class=\"ProveItLink\" href=\"../../../__pv_it/theorems/296175d550b2dce2244de1f4fd9771926b8d032f0/dependencies.ipynb\">dependencies</a>)<br>"
      ],
      "text/plain": [
       "<IPython.core.display.HTML object>"
      ]
     },
     "metadata": {},
     "output_type": "display_data"
    }
   ],
   "source": [
    "%proving min_set_closure"
   ]
  },
  {
   "cell_type": "code",
   "execution_count": null,
   "metadata": {},
   "outputs": [],
   "source": []
  }
 ],
 "metadata": {
  "kernelspec": {
   "display_name": "Python 3",
   "language": "python",
   "name": "python3"
  }
 },
 "nbformat": 4,
 "nbformat_minor": 0
}