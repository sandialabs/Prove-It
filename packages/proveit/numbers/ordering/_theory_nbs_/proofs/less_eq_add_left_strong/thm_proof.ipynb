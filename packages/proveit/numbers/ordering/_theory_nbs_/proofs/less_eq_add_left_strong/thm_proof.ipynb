{
 "cells": [
  {
   "cell_type": "markdown",
   "metadata": {},
   "source": [
    "Proof of <a class=\"ProveItLink\" href=\"../../../../../_theory_nbs_/theory.ipynb\">proveit</a>.<a class=\"ProveItLink\" href=\"../../../../_theory_nbs_/theory.ipynb\">numbers</a>.<a class=\"ProveItLink\" href=\"../../theory.ipynb\">ordering</a>.<a class=\"ProveItLink\" href=\"../../theorems.ipynb#less_eq_add_left_strong\">less_eq_add_left_strong</a> theorem\n",
    "========"
   ]
  },
  {
   "cell_type": "code",
   "execution_count": 1,
   "metadata": {},
   "outputs": [],
   "source": [
    "import proveit\n",
    "theory = proveit.Theory() # the theorem's theory"
   ]
  },
  {
   "cell_type": "code",
   "execution_count": 2,
   "metadata": {},
   "outputs": [
    {
     "data": {
      "text/html": [
       "With these <a href=\"allowed_presumptions.txt\">allowed</a>/<a href=\"disallowed_presumptions.txt\">disallowed</a> theorem/theory presumptions (e.g., to avoid circular dependencies), we begin our proof of<br><strong id=\"less_eq_add_left_strong\">less_eq_add_left_strong:</strong> <a class=\"ProveItLink\" href=\"../../../__pv_it/theorems/4bd09370a9595aadde4140c634396250e0b7c4fb0/expr.ipynb\"><img src=\"data:image/png;base64,iVBORw0KGgoAAAANSUhEUgAAARAAAAAXBAMAAAAxVg0qAAAAMFBMVEX///8AAAAAAAAAAAAAAAAA\n",
       "AAAAAAAAAAAAAAAAAAAAAAAAAAAAAAAAAAAAAAAAAAAv3aB7AAAAD3RSTlMAq1RmmUTNIjK7EInv\n",
       "3XZ/CtNrAAAACXBIWXMAAA7EAAAOxAGVKw4bAAADw0lEQVRIx71WXYgTVxT+NplkJplkdkFQWEEC\n",
       "glD8aVAR3Id1ZdX6Q0tai7AqRaoi+iCzsC8FhQjiSy0bXEFjYRnBBzXWpLVUsbAsiij+sVpFcInM\n",
       "sqKiuCyCWFYoPefemclMdoII0QPfzbl35t775Zzv3LlA88100OjZdFPxKczISITaD6GjMRtoY2du\n",
       "M4nMdxDOMls/cuYONePAau7saiKP5DaJBrZn2sgOQtzCAU5RoYlElKxEzTb6O0unTXhDiHYxF+iZ\n",
       "JhJJOajZosBjy3MjIhGxKW5vIkrk482UyDwHDYjEvWBFHwhO+gi324E71eqtZhLZ4ECd/dyuIzI0\n",
       "nofe5sp2VMYmPmeMEvI7sBY48cG8fwSR7Q62mompIJH9GaWAqKPj0hNntLwn+Q5YBvRCdUlC2x1Y\n",
       "c+FfK/cKJxEYjhzDoTp560MV170vkbwKZSRIZBQpG5Fh4ff9477/pYW7wALaxNJz3oKzPU8bK+YM\n",
       "HRcr04hEBoGWin/EQid63M41CWUSaX7p62r1drV6j8MqAqRNctvyozd5DfAe6Kd1bZ9Wb3jeqjyl\n",
       "0UCHXU8kOsDaz/tG+tppXqsZJJIqoJwLRCQlohgbriMyihgV8FbytnVyyjovMt3/xlhB+rgtTkAi\n",
       "8rKrRiR54ZUJ4wi7/RPtQn089cAsqFNIZYKpKdtYEayasvhPkZG61LwRoVpI3h902CUfae9458cG\n",
       "b/xQGz4jhK2rg9kakd/MflO7ItzX1lNq07nDQM9X9AemkHbLclCinMHMiOkn0kpv5BAt1In1X5yj\n",
       "B8vJ20daVbo0Dlkiy6JWCsm8OA0N5deCT6yrQPt+cZndAZY51uE0erhPRFJOrXIhMhJ25IESiAiV\n",
       "jJ6H4qrr/BNZvjNw1Cn4Fsp3Kme0idQrbdyhcioWixnD0L/zEbmGMWrFzjewUkpBRohS0+qm5heJ\n",
       "5JxLvS+CVfP3kpccRU9s8iA5+SfH8qFbzGaig4ZbRapZdz+LiBixLZZHhMp94CxrgnIxCSbA2Swd\n",
       "kSL3xJrOSzQ4Wff7ZF/71qoj7hfA7N9olZC2lqOEeA6VhCU0gss+sV7X3nbwb287HkcLyQp2QqeX\n",
       "uIom8K23fJdEg49ed8MvpbyZdC+6gMMZ7RubWrW701KP0+imZ5VTa2pEvl/8Kutcsw5OcFL6ONai\n",
       "nvWh9d6ixxyE38XCP/Q/BbsZX1sqFmvnXCJscsR30gZuOg5CLRF+VwyuELNqbd30sMmbG/1pWyLU\n",
       "noff24L0or62ERGNqqko+Wfx+U399Fv8D+EX75/8jdUeAAAAAElFTkSuQmCC\n",
       "\" style=\"display:inline;vertical-align:middle;\" /></a><br>(see <a class=\"ProveItLink\" href=\"../../../__pv_it/theorems/9e88081cb4a2b571d3c1ceb2fda95a1c4eb91c650/dependencies.ipynb\">dependencies</a>)<br>"
      ],
      "text/plain": [
       "<IPython.core.display.HTML object>"
      ]
     },
     "metadata": {},
     "output_type": "display_data"
    },
    {
     "name": "stdout",
     "output_type": "stream",
     "text": [
      "less_eq_add_left_strong may now be readily provable (assuming required theorems are usable).  Simply execute \"%qed\".\n"
     ]
    }
   ],
   "source": [
    "%proving less_eq_add_left_strong"
   ]
  },
  {
   "cell_type": "code",
   "execution_count": null,
   "metadata": {},
   "outputs": [],
   "source": []
  }
 ],
 "metadata": {
  "kernelspec": {
   "display_name": "Python 3",
   "language": "python",
   "name": "python3"
  }
 },
 "nbformat": 4,
 "nbformat_minor": 0
}