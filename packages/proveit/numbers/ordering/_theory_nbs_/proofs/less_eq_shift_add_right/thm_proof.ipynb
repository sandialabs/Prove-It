{
 "cells": [
  {
   "cell_type": "markdown",
   "metadata": {},
   "source": [
    "Proof of <a class=\"ProveItLink\" href=\"../../../../../_theory_nbs_/theory.ipynb\">proveit</a>.<a class=\"ProveItLink\" href=\"../../../../_theory_nbs_/theory.ipynb\">numbers</a>.<a class=\"ProveItLink\" href=\"../../theory.ipynb\">ordering</a>.<a class=\"ProveItLink\" href=\"../../theorems.ipynb#less_eq_shift_add_right\">less_eq_shift_add_right</a> theorem\n",
    "========"
   ]
  },
  {
   "cell_type": "code",
   "execution_count": 1,
   "metadata": {},
   "outputs": [],
   "source": [
    "import proveit\n",
    "theory = proveit.Theory() # the theorem's theory"
   ]
  },
  {
   "cell_type": "code",
   "execution_count": 2,
   "metadata": {},
   "outputs": [
    {
     "data": {
      "text/html": [
       "With these <a href=\"allowed_presumptions.txt\">allowed</a>/<a href=\"disallowed_presumptions.txt\">disallowed</a> theorem/theory presumptions (e.g., to avoid circular dependencies), we begin our proof of<br><strong id=\"less_eq_shift_add_right\">less_eq_shift_add_right:</strong> <a class=\"ProveItLink\" href=\"../../../__pv_it/theorems/6764ee9362060f55edf3b4618729989c8d7bf2a90/expr.ipynb\"><img src=\"data:image/png;base64,iVBORw0KGgoAAAANSUhEUgAAASEAAAAXBAMAAAC2Z+QsAAAAMFBMVEX///8AAAAAAAAAAAAAAAAA\n",
       "AAAAAAAAAAAAAAAAAAAAAAAAAAAAAAAAAAAAAAAAAAAv3aB7AAAAD3RSTlMAq1RmmUTNIjK7EInv\n",
       "3XZ/CtNrAAAACXBIWXMAAA7EAAAOxAGVKw4bAAADy0lEQVRIx71XX4gNURj/9v6be2fuzl2SF6Vb\n",
       "aiV/mrJtKNvVRf609kZ5Ia48iAfNPiq28SQh942L1igprXJRaLXakvwXWyJMDVuEbBuhPMj3nTP3\n",
       "zjmzM9Re+eo7nTvn+835ne/fnAvQtJioSsSaEgWIeGzCPxA9j8PbiMWkGwEIkS2ettGPWU0wmosa\n",
       "q0WtjoYB1FNPwo5mcF1BP3ZMnpBaxuFc5HLK9uftZh2QKoTZ7uK6n6JdmTyjBJ4KilKkDOFH3N97\n",
       "6ZoGIFcP3AYR2MGVDqHlJ88oS8Ow+CQm5c79+uTzoA/YWvfcAulVNtM4Uk41kUbtxKEczWi7F9wh\n",
       "VwAMQRijlMH1keM8aILRWgoEJXbvzb4AI21sEcAlTqjbEAHbxqYGGN0ctUDDKiNdBXDir/sWIle2\n",
       "e4dL3oHTtsRIGYHVAJ2M0PS8CFC/2xdNidG+fKICcXQ1aS8obXXr9E5pt/lXl+3mMzn155i+4Qhq\n",
       "K+53wYBu2UetNXgMMI/NBUYIiP2ErCsxekUPYpiOpBlbKzXMZzRm6TfVkq7BtdpERnNcwfA2pSS+\n",
       "oIdeiwF0nNeYB3TGHuayo9xfftQQkChDDt/b7TgPHecpoX6yLce5xlwhse82Zsst7Fc6LHEnMFps\n",
       "iIZ1RvdA/Sb76B4bNwcz+zbz3ta86KMse39ymCuUu3AY6LpGLH+9oYNpoy41T2L0sSAwYkYf8r6h\n",
       "HzX1F8THJUb4hEU+WP0jrB1xB9YZXWSQ2BOucBn7pPo8/YMovNSJwbP08HnW1zWl3/AZMaPD7HCe\n",
       "IUo/asYF9Qu0lGdLPvqKJ0aPBjskAnKWekuqtRzuUoI47kIKezHoiUKa3JUxKNcTFdVizVRPnKwI\n",
       "mc2MYifthiEJVTeVbD/MLxQkRlho13mx1zuR5QFajExBYoSFplmsibBG0mJRJuiUjFkr0cbTorNa\n",
       "reZ1XVsvMOJGSaLEDUmOUAzR1Wc+HZhpSYy0K11o+SzYLhCgzigGOuSNhR8x+CWuPJBmZgnCc5DF\n",
       "oOSwVxxiPtKTm2yfkWeUnmZ6hqzGicaLyJ6tTPjKt1rCD6ln7/OUJ7t5dIM9AK32YhiAVAlqGZvl\n",
       "EQwKmc2MaJcpNhkKn9KOyC9twggyiovdVvrSFsVvdrK44AombXqdi6NS7LKV4/h047va2ZU+I2bE\n",
       "b4Zk6MkxSqvIu98eXncOE6sBCL1vVibeQvLCOFCt+o0T/nBdoapUI9ePhQPChI4VOFrS9seA/IGR\n",
       "Qt7qi7rymhGAEHnvqRhhYYxkdBCLsPpPLujN/9/4T/IbAn0CPfQnnzoAAAAASUVORK5CYII=\n",
       "\" style=\"display:inline;vertical-align:middle;\" /></a><br>(see <a class=\"ProveItLink\" href=\"../../../__pv_it/theorems/26461229f300c5869c21c4d3f5c160fc5ebfb7440/dependencies.ipynb\">dependencies</a>)<br>"
      ],
      "text/plain": [
       "<IPython.core.display.HTML object>"
      ]
     },
     "metadata": {},
     "output_type": "display_data"
    },
    {
     "name": "stdout",
     "output_type": "stream",
     "text": [
      "less_eq_shift_add_right may now be readily provable (assuming required theorems are usable).  Simply execute \"%qed\".\n"
     ]
    }
   ],
   "source": [
    "%proving less_eq_shift_add_right"
   ]
  },
  {
   "cell_type": "code",
   "execution_count": null,
   "metadata": {},
   "outputs": [],
   "source": []
  }
 ],
 "metadata": {
  "kernelspec": {
   "display_name": "Python 3",
   "language": "python",
   "name": "python3"
  }
 },
 "nbformat": 4,
 "nbformat_minor": 0
}