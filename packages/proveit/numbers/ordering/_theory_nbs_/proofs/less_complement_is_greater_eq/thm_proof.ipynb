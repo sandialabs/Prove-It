{
 "cells": [
  {
   "cell_type": "markdown",
   "metadata": {},
   "source": [
    "Proof of <a class=\"ProveItLink\" href=\"../../../../../_theory_nbs_/theory.ipynb\">proveit</a>.<a class=\"ProveItLink\" href=\"../../../../_theory_nbs_/theory.ipynb\">numbers</a>.<a class=\"ProveItLink\" href=\"../../theory.ipynb\">ordering</a>.<a class=\"ProveItLink\" href=\"../../theorems.ipynb#less_complement_is_greater_eq\">less_complement_is_greater_eq</a> theorem\n",
    "========"
   ]
  },
  {
   "cell_type": "code",
   "execution_count": 1,
   "metadata": {},
   "outputs": [],
   "source": [
    "import proveit\n",
    "theory = proveit.Theory() # the theorem's theory"
   ]
  },
  {
   "cell_type": "code",
   "execution_count": 2,
   "metadata": {},
   "outputs": [
    {
     "data": {
      "text/html": [
       "With these <a href=\"allowed_presumptions.txt\">allowed</a>/<a href=\"disallowed_presumptions.txt\">disallowed</a> theorem/theory presumptions (e.g., to avoid circular dependencies), we begin our proof of<br><strong id=\"less_complement_is_greater_eq\">less_complement_is_greater_eq:</strong> <a class=\"ProveItLink\" href=\"../../../__pv_it/theorems/96a22d9a691819409281268f5094d9d7c24e2d3b0/expr.ipynb\"><img src=\"data:image/png;base64,iVBORw0KGgoAAAANSUhEUgAAARQAAAAWBAMAAADz4X71AAAAMFBMVEX///8AAAAAAAAAAAAAAAAA\n",
       "AAAAAAAAAAAAAAAAAAAAAAAAAAAAAAAAAAAAAAAAAAAv3aB7AAAAD3RSTlMAq1RmmUTNIjK7EInv\n",
       "3XZ/CtNrAAAACXBIWXMAAA7EAAAOxAGVKw4bAAADu0lEQVRIx8VWXUgUURQ+uzPj7s7qthAIZsiC\n",
       "4ktGS0ThQ7qx2b+1BPUUuWQQFcQGvVgW1mNZaiBiD7LCEpmxrEKCRbIEQRSF/QiCrIy5EUWJ0IPi\n",
       "U+feO7POvfODb33wze6ce8+ZM+ece84AbAA+ckmJAnukhK0bUPG5L3P4hgxFBIEDzuq0s+EARWMM\n",
       "k5taV0+8ObxsEwUOCEUZ7Ww4YZGxhfy/4OrKY6SaFASOuKTTaoNDvSmLZWnK2yRRva6uxJFyVBA4\n",
       "YpdOqw0z9h4x3UgxSuJRMOLqSh5ZLgr48JvCWp5mtNow4c8L7vYdpYSvW+ZeKiQ39aLADOmr6dFl\n",
       "UUarjRLUVxq/3M74oVB47+qKTCruqCBQl7bcGzcqdY56ohajMIwhDjNabGTjoFK52lryNLvw5CWm\n",
       "ZAwoDwE8cnWFvmK7IJBhQWtlt6Pz7DfozUMzhijJCNBaIPhkqOQaQFomnlSu10MsVCNPA+wGyqvg\n",
       "C1uTMne+0ghiBdH8jE+nlmNMsAea05vp8rUv+r47aLQKVfOMHFDFH2kFDz0f665IKWnNg142AGUg\n",
       "HUzweg+q+kHLBW8YdUiW3xidMcwEXXCACTznDLV0uQYfAfzLjBxQRcXFcvp6vlKC/CDT+PUwejWh\n",
       "amVMGWialHVzBchTeVegLe1fxb6ZZxRdAWUNerrEsmXOndGZbMLL0sEi9hxlATy096EroYyQoJIr\n",
       "VKCswFM+QRinEEnONCNXK0QFA/DbcpjbUirW/HZgHMfeGEpVleHu7KZ0t0rzqeU6FvXdAeL4kOFK\n",
       "jArUfk8ecnzZQh8E0FGpl5EDsYGLfUKLG0lshSD+NursJPow5Me/17fDT4UmUjs8aWjRkzlmsosC\n",
       "72omrxjVl51nbWUftEXZuZXFiUNsyGHlr6nxk1ztuHsMTuqtgtBDE7hCN1RDjXRxcPAhJui58SQ/\n",
       "ifZ9k10UqMe1up3rLY41luGpE5jkigQjB2JDrS6uCOLMkjdOHjOjk+3N0y+GGXjrz7FaOVXqzbMk\n",
       "2V0mC7Pi2Zf0xj+BvKmTB1UJJh0+WKYZKTqDSRlGUUNZZg0PD3PGPODIxOImnhXBpPpaH3xxuyE5\n",
       "Ac8cZh2ZtaV5K3+f+gXdEahrTEIHBkC5clndb7xDgMzzAXMR2n2mQYXmybEpbzPpUWUe00+PMj1Y\n",
       "BVOYO3SaEFFTgSiok4P9nJieqRFRYO3QTS26mzauokptMeEwWgaEV8VQpD3aabutt0g+NUHggB86\n",
       "7Ww4ffilGM3FB0pTDv4b/gFH5wKll+UTRAAAAABJRU5ErkJggg==\n",
       "\" style=\"display:inline;vertical-align:middle;\" /></a><br>(see <a class=\"ProveItLink\" href=\"../../../__pv_it/theorems/37638561c302a27781f1cd77de4f762e769ac4960/dependencies.ipynb\">dependencies</a>)<br>"
      ],
      "text/plain": [
       "<IPython.core.display.HTML object>"
      ]
     },
     "metadata": {},
     "output_type": "display_data"
    }
   ],
   "source": [
    "%proving less_complement_is_greater_eq"
   ]
  },
  {
   "cell_type": "code",
   "execution_count": null,
   "metadata": {},
   "outputs": [],
   "source": []
  }
 ],
 "metadata": {
  "kernelspec": {
   "display_name": "Python 3",
   "language": "python",
   "name": "python3"
  }
 },
 "nbformat": 4,
 "nbformat_minor": 0
}