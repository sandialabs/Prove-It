{
 "cells": [
  {
   "cell_type": "markdown",
   "metadata": {},
   "source": [
    "Proof of <a class=\"ProveItLink\" href=\"../../../../../_theory_nbs_/theory.ipynb\">proveit</a>.<a class=\"ProveItLink\" href=\"../../../../_theory_nbs_/theory.ipynb\">numbers</a>.<a class=\"ProveItLink\" href=\"../../theory.ipynb\">ordering</a>.<a class=\"ProveItLink\" href=\"../../theorems.ipynb#positive_if_real_pos\">positive_if_real_pos</a> theorem\n",
    "========"
   ]
  },
  {
   "cell_type": "code",
   "execution_count": 1,
   "metadata": {},
   "outputs": [],
   "source": [
    "import proveit\n",
    "theory = proveit.Theory() # the theorem's theory"
   ]
  },
  {
   "cell_type": "code",
   "execution_count": 2,
   "metadata": {},
   "outputs": [
    {
     "data": {
      "text/html": [
       "With these <a href=\"allowed_presumptions.txt\">allowed</a>/<a href=\"disallowed_presumptions.txt\">disallowed</a> theorem/theory presumptions (e.g., to avoid circular dependencies), we begin our proof of<br><strong id=\"positive_if_real_pos\">positive_if_real_pos:</strong> <a class=\"ProveItLink\" href=\"../../../__pv_it/theorems/de464f56413fff33e9ad9fe1b8e1860e063cd7510/expr.ipynb\"><img src=\"data:image/png;base64,iVBORw0KGgoAAAANSUhEUgAAAIEAAAAVBAMAAACTeZA2AAAAMFBMVEX///8AAAAAAAAAAAAAAAAA\n",
       "AAAAAAAAAAAAAAAAAAAAAAAAAAAAAAAAAAAAAAAAAAAv3aB7AAAAD3RSTlMAq1RmmUTNIjK7EInv\n",
       "3XZ/CtNrAAAACXBIWXMAAA7EAAAOxAGVKw4bAAACG0lEQVQ4y52UT0gUURzHv83O7uzM7A57KlCI\n",
       "gaCLpHuIDpK64qqRBEuCF6MED0KHGO8Fdg5xO+lssLyDCCKyW0GWEQgRBBGECHtamIVoRRA8CEJd\n",
       "+r1pZ2bfOjuEA4/3e39+n/d+3/f7DfAfn3WBFeEzzK5LD6lluHEtktAXPv3xpwUjC4zzwUIUQJsL\n",
       "nU6YWg14DDyngVKMIsjZ0Okh4ANwk1AM0M0oQqrN3ghoL4EBhhRDjOYSkTJcb4/ok+OZp8CKiQS5\n",
       "f6/Xv0USpnicvc2W6/Fui8UJWej0EneA0nk3PTDnqT2w1N9e/HfdTvlDBAcxknkRSiZEvsDcpwM/\n",
       "Q/7hRzXpE6qQ9gCV6YU21xvvRp+IhC80OkG66k/M9PAoiPDIQfIEkBxfyGTDLhg6dqqdhFQRleCY\n",
       "mVJLyQETcboD5oa9pfwSpbCBQUfP38uPt0VRcTASvM0Vt7OBEQaJB/eG8gpbwztuinLCUU64Q5kI\n",
       "Ji5LrSoamvzX3wYmgBhPxqckpFZLnmHTLSNdKWcFwmvSypEOZPE1kTa1r7SPy3OJ7i7nknuYdgny\n",
       "q6Ko5DIdcPX94qGbBcd+RmlTDXJMe/KkCkYGt2zbNg1Dvy/mQ3opsLc7a+SZZ1QsdZC9cO9gxGeZ\n",
       "sCmWi0jYMb96rJVppjJXB+x2uKx2BwRVHR/rfwtljT/2r+r6hLhtsztB7fjNbdl2IewgpyuhCfwF\n",
       "bzF1J0/aRGoAAAAASUVORK5CYII=\n",
       "\" style=\"display:inline;vertical-align:middle;\" /></a><br>(see <a class=\"ProveItLink\" href=\"../../../__pv_it/theorems/f862d9992208f1b0ea6eb0ee11d649d0845c79f50/dependencies.ipynb\">dependencies</a>)<br>"
      ],
      "text/plain": [
       "<IPython.core.display.HTML object>"
      ]
     },
     "metadata": {},
     "output_type": "display_data"
    },
    {
     "name": "stdout",
     "output_type": "stream",
     "text": [
      "positive_if_real_pos may now be readily provable (assuming required theorems are usable).  Simply execute \"%qed\".\n"
     ]
    }
   ],
   "source": [
    "%proving positive_if_real_pos"
   ]
  },
  {
   "cell_type": "code",
   "execution_count": null,
   "metadata": {},
   "outputs": [],
   "source": []
  }
 ],
 "metadata": {
  "kernelspec": {
   "display_name": "Python 3",
   "language": "python",
   "name": "python3"
  }
 },
 "nbformat": 4,
 "nbformat_minor": 0
}