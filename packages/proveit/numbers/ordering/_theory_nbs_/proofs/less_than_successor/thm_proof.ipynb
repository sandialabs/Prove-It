{
 "cells": [
  {
   "cell_type": "markdown",
   "metadata": {},
   "source": [
    "Proof of <a class=\"ProveItLink\" href=\"../../../../../_theory_nbs_/theory.ipynb\">proveit</a>.<a class=\"ProveItLink\" href=\"../../../../_theory_nbs_/theory.ipynb\">numbers</a>.<a class=\"ProveItLink\" href=\"../../theory.ipynb\">ordering</a>.<a class=\"ProveItLink\" href=\"../../theorems.ipynb#less_than_successor\">less_than_successor</a> theorem\n",
    "========"
   ]
  },
  {
   "cell_type": "code",
   "execution_count": 1,
   "metadata": {},
   "outputs": [],
   "source": [
    "import proveit\n",
    "theory = proveit.Theory() # the theorem's theory"
   ]
  },
  {
   "cell_type": "code",
   "execution_count": 2,
   "metadata": {},
   "outputs": [
    {
     "data": {
      "text/html": [
       "With these <a href=\"allowed_presumptions.txt\">allowed</a>/<a href=\"disallowed_presumptions.txt\">disallowed</a> theorem/theory presumptions (e.g., to avoid circular dependencies), we begin our proof of<br><strong id=\"less_than_successor\">less_than_successor:</strong> <a class=\"ProveItLink\" href=\"../../../__pv_it/theorems/60825b465cd84ebb393bbce924bd30640e621df20/expr.ipynb\"><img src=\"data:image/png;base64,iVBORw0KGgoAAAANSUhEUgAAAKkAAAAVBAMAAADP89MSAAAAMFBMVEX///8AAAAAAAAAAAAAAAAA\n",
       "AAAAAAAAAAAAAAAAAAAAAAAAAAAAAAAAAAAAAAAAAAAv3aB7AAAAD3RSTlMAq1RmmUTNIjK7EInv\n",
       "3XZ/CtNrAAAACXBIWXMAAA7EAAAOxAGVKw4bAAACKUlEQVQ4y2NgwAsKSBKGSBQwEAB8CqQIA0Ec\n",
       "FAuAOMo4FGmTIsxxC2ifAQS7ggTSsevmSiBBeKHbLyCZBcGNQIp9AnZTWQyIEGaF8fhApppAMNsC\n",
       "BgZuHOHEgy7AlI4pzPQA2VSeBWDMDLSKDUewqqHxma8swBRGNZXNAILP3r17Goep3qDQkX4O13Z7\n",
       "ARZhVFO5BSDYg4FhFg5Tk4E4poDzF4S3+h5WYVRTmRMguJCBXQDJJN1tjnkw9iVgfB9mYLkA5pRc\n",
       "xiqMZirTAQjmXMAdAEtxD2cG8HEzbN8A5R8FxvcHBl4wlzEJbjGSMMvdu3eAQSgAN5XjAwQzPYBH\n",
       "lksDUI6PweoBQjvPBIb1AZimwoXR3cp6AIIZEuxAgWa3HZwpQKa+ckB4df0DBnsGzBBACKOHwAUI\n",
       "ZtgEzAtc1zm+M6wEy3Gzz4Ol63lA7QoMYkwFqLGFKowWWxMgmKEGGCosDhwHGILBciyz4TltIzDU\n",
       "HzBdYYFy191bgEUYbir3d1BAb4BgBkZgaPIE8AkwmM2cOVOBj487CGZqL9ATcjsKX8BzASTBogrD\n",
       "TGWU+SbMwMAbAMFgsL6A02pBN9itfKzRC6CivA3omSsdUxjuVjCohWJIji/oD17AuQAcrgy7YLHF\n",
       "7IA1c6AKs6KUNc5QDJFy1tvMwD4DyAp7tmGJG0x4OvY8Nx1nMQ8q/dBLwNUzZwagCKzErnclTlM5\n",
       "CyAYL2B/QIowEDyHYAD/VaO/ZPaAYAAAAABJRU5ErkJggg==\n",
       "\" style=\"display:inline;vertical-align:middle;\" /></a><br>(see <a class=\"ProveItLink\" href=\"../../../__pv_it/theorems/f8ef3216f1cc39d0ed1642723161805806fdf2200/dependencies.ipynb\">dependencies</a>)<br>"
      ],
      "text/plain": [
       "<IPython.core.display.HTML object>"
      ]
     },
     "metadata": {},
     "output_type": "display_data"
    },
    {
     "name": "stdout",
     "output_type": "stream",
     "text": [
      "less_than_successor may now be readily provable (assuming required theorems are usable).  Simply execute \"%qed\".\n"
     ]
    }
   ],
   "source": [
    "%proving less_than_successor"
   ]
  },
  {
   "cell_type": "code",
   "execution_count": null,
   "metadata": {},
   "outputs": [],
   "source": []
  }
 ],
 "metadata": {
  "kernelspec": {
   "display_name": "Python 3",
   "language": "python",
   "name": "python3"
  }
 },
 "nbformat": 4,
 "nbformat_minor": 0
}