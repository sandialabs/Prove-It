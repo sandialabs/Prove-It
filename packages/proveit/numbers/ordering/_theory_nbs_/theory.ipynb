{
 "cells": [
  {
   "cell_type": "markdown",
   "metadata": {},
   "source": [
    "Theory of <a class=\"ProveItLink\" href=\"../../../_theory_nbs_/theory.ipynb\">proveit</a>.<a class=\"ProveItLink\" href=\"../../_theory_nbs_/theory.ipynb\">numbers</a>.ordering\n",
    "========\n",
    "\n",
    "Provide description here."
   ]
  },
  {
   "cell_type": "code",
   "execution_count": 1,
   "metadata": {},
   "outputs": [
    {
     "data": {
      "text/html": [
       "<h3>Local content of this theory</h3>"
      ],
      "text/plain": [
       "<IPython.core.display.HTML object>"
      ]
     },
     "metadata": {},
     "output_type": "display_data"
    },
    {
     "data": {
      "text/html": [
       "<table><tr>\n",
       "<th><a class=\"ProveItLink\" href=\"common.ipynb\">common expressions</a></th>\n",
       "<th><a class=\"ProveItLink\" href=\"axioms.ipynb\">axioms</a></th>\n",
       "<th><a class=\"ProveItLink\" href=\"theorems.ipynb\">theorems</a></th>\n",
       "<th><a class=\"ProveItLink\" href=\"demonstrations.ipynb\">demonstrations</a></th>\n",
       "</tr></table>\n",
       "<h3>Sub-theories</h3>\n"
      ],
      "text/plain": [
       "<IPython.core.display.HTML object>"
      ]
     },
     "metadata": {},
     "output_type": "display_data"
    },
    {
     "data": {
      "text/html": [
       "<h3>All axioms contained within this theory</h3>"
      ],
      "text/plain": [
       "<IPython.core.display.HTML object>"
      ]
     },
     "metadata": {},
     "output_type": "display_data"
    },
    {
     "data": {
      "text/html": [
       "<dt><a class=\"ProveItLink\" href=\"axioms.ipynb#less_eq_def\">proveit.numbers.ordering.less_eq_def</a></dt><dd><a class=\"ProveItLink\" href=\"../__pv_it/axioms/77d6ff7c532a194c5fae4b1c6707b9c6decf64260/expr.ipynb\"><img src=\"data:image/png;base64,iVBORw0KGgoAAAANSUhEUgAAAUcAAAAWBAMAAAChwkO+AAAAMFBMVEX///8AAAAAAAAAAAAAAAAA\n",
       "AAAAAAAAAAAAAAAAAAAAAAAAAAAAAAAAAAAAAAAAAAAv3aB7AAAAD3RSTlMAq1RmmUTNIjK7EInv\n",
       "3XZ/CtNrAAAACXBIWXMAAA7EAAAOxAGVKw4bAAADSElEQVRIx82XTWgTQRTH32azabJpYkAQqiAB\n",
       "Sy9FiFIQD7ZaaRWlmpNHG/QQ8BRBepBWolcr1IMUPJQtiKCFEnPwIFiCIAiixE8ESdlKpShYvLVH\n",
       "Z3bezO7MzmZz9MEvNJP3f/Nm5u3bKUCk1ZAuP6vWh/QsqcVP38UFIF9kRNllzdgPpFdJXHxOgQ4c\n",
       "0jgNI5GLKIWGEg1Gz5K4+JwJOlAN+9gVhmxDgc2/FtI8RiLNkxgO+Ui7oIuvOiO3aRkthF2SJYZk\n",
       "J84FvoyENKeRSPMkJs0vUwdN/JAzkiLrympKox8J2p8XkoejalqIXANVVdImzIAmvpKBIzDJalIa\n",
       "lyEkUAAvXel7St2HRIUhmfnZUSVNwjiE4qtGnTnvOp23GpfziL29/27Ty3GKJ2VvlmCZ7H9BrZAG\n",
       "Q0ho+X93QpIZ3E05fmA3fGfOWYCHmiSvIknYcKeocp+oiWyiBWNkj7xNm+pQ+xBcOpcQW1nXSIw6\n",
       "5F1Q4ie9OJ2C7My5Dn0FTZIfkWMw5uylA36Sd5JtGCAnq5ZfrsgQErjxSSdJFyDngBrft4AzJ+Nk\n",
       "y5okXyN1mMS3iThup9+F92Suv2qllxlCYlwBraQKg2IO4exbwJmTcHXPjUgSqL/y4Ew76V0AqxWR\n",
       "pJD4ScqSYWzMcnzQOHOgMko+ts9skj5tbYChHDdYO/BUaUGTkKfH0FZqkh+3LxHHLUkgl14Qc3Dn\n",
       "QE0GnDnQJC09XxtIkfCre5x5jLrEsB8YLWgozfw+ZEgwU30FZFyPoIQ/OLIkf6TM55Djh5w5MEsH\n",
       "YClN/rx5GH6h4zNGYvdRy/J7/RB9UcApmC6xbiMZ9gtJsrrO2qQksb+KOZT4oDhzaEcgtuP9fAAO\n",
       "ouM9hn3BHTyq1szy2kVSGzn1eUu3PWSJyRqlLBkXc8TE5+AELe8e+AXe8H5SZ+jtOWEuNPoNkV85\n",
       "1UhJfPy5oGg2W0nCCpnC4n3FPMnQWLZiv9JeJUa0145oSXx86cqS/Ln2G+aLMHhcvHsXEd6A2NNH\n",
       "155zjYb26pSpMcIWIVmE7s6coBXtWkbcGp4gYUuMToA2G3uB0bMkLr5m1ZZjuJf8/1dcRpRtacZu\n",
       "Ib1K4uJvhUUmWKMN+A/tHwCSLCX1hrYEAAAAAElFTkSuQmCC\n",
       "\" style=\"display:inline;vertical-align:middle;\" /></a></dd>"
      ],
      "text/plain": [
       "<IPython.core.display.HTML object>"
      ]
     },
     "metadata": {},
     "output_type": "display_data"
    },
    {
     "data": {
      "text/html": [
       "<dt><a class=\"ProveItLink\" href=\"axioms.ipynb#transitivity_less_less\">proveit.numbers.ordering.transitivity_less_less</a></dt><dd><a class=\"ProveItLink\" href=\"../__pv_it/axioms/5b78a7ab6ba3fa1d1e3ffb772b8741309cc27b2a0/expr.ipynb\"><img src=\"data:image/png;base64,iVBORw0KGgoAAAANSUhEUgAAANEAAAAXBAMAAABnpbd1AAAAMFBMVEX///8AAAAAAAAAAAAAAAAA\n",
       "AAAAAAAAAAAAAAAAAAAAAAAAAAAAAAAAAAAAAAAAAAAv3aB7AAAAD3RSTlMAq1RmmUTNIjK7EInv\n",
       "3XZ/CtNrAAAACXBIWXMAAA7EAAAOxAGVKw4bAAACvElEQVRIx61VT2jTUBj/JWmaNO26ggdxwii4\n",
       "gxehiCCCTGHohuAoDIU60LLLwINUmDvMObrDDmKVoqjgQYKKgoURhwjbQYKHIYhS8A8D2chkMnRQ\n",
       "dpt48nt5SZOlpmyQB+3vve97ye/L7/ve94DohhLuKiHS8SPcdZF+GTY5EAWRaIT70jngFJuMRsH0\n",
       "vJ3zMjDNBK5GwdTXznkEiOtAMhsFk9kip0+qlA6JFIxHkqZiwCB90b1FnGg+Li9/iIIpRgWhNbpu\n",
       "zblF8N0hur2k5JCkyhsAHoU9vBsmFnUMq9ZZvqytOHbtyvwr+kD64qtQMiEPJ3bD1EHJPooT+h57\n",
       "Nfa5eZ51LJC2lMWEnszvjElv2eC3pOgtZZzmC2HE56nRNnWT2KzQgtjONNYV9G+zpOx4P7UyKRb9\n",
       "yawyi7301+hfo94kr0Kwkzh6zmNKr031E0zvpaaSsXuKA8yifruW99SDvIWXAfUwBI2+p06zOTq/\n",
       "6dK+OO2c7dQrzDkwfNJjWheqFGGB2DTrr2o2gVkQm3ntCmBBuy+YMAIVIWZZ9BJrDpMUn4THKk0n\n",
       "DuGX7b7uUy+XsMooLDAdntTTVRdsCy3cbkd1LP55ZspuF5hd4Vm8Ob+xxM8AhDIzbNnm/ehmoFr+\n",
       "PHWWoL7j8huC5YBjwR1XJLUObdDqOeydXH6gDHGR9O1oVp1q2rfLV7zn0k74mCp0vdTu2rnIp8ou\n",
       "cIucU9wCXAoWjOTrRjfcyWSyGEONdsubBMrITLXJpJhvQFlL32MU5UvQDBscy/jBgq+J7qD9xn6+\n",
       "/Y1KFj3HigSxp4sl75sGhxssbIleLPY9YEIycCxnjjcDT7S5WIO3RVYrJainZP9/nsSHeAFGx4Fb\n",
       "fENrc/cEopB1wTrPILQbdcvUvi5waB1T4UzrgQxC7jUYhDINbbCq5xDpUKJ82T8tw6bVT5/uSQAA\n",
       "AABJRU5ErkJggg==\n",
       "\" style=\"display:inline;vertical-align:middle;\" /></a></dd>"
      ],
      "text/plain": [
       "<IPython.core.display.HTML object>"
      ]
     },
     "metadata": {},
     "output_type": "display_data"
    },
    {
     "data": {
      "text/html": [
       "<dt><a class=\"ProveItLink\" href=\"axioms.ipynb#max_def_unary\">proveit.numbers.ordering.max_def_unary</a></dt><dd><a class=\"ProveItLink\" href=\"../__pv_it/axioms/c619de107728b41083d1940d72422213f1ece1390/expr.ipynb\"><img src=\"data:image/png;base64,iVBORw0KGgoAAAANSUhEUgAAALQAAAAVBAMAAAAdo9lKAAAAMFBMVEX///8AAAAAAAAAAAAAAAAA\n",
       "AAAAAAAAAAAAAAAAAAAAAAAAAAAAAAAAAAAAAAAAAAAv3aB7AAAAD3RSTlMAq1RmmUTNIjK7EInv\n",
       "3XZ/CtNrAAAACXBIWXMAAA7EAAAOxAGVKw4bAAAClUlEQVQ4y4VVTWgTQRT+kt3NJtm4FDwJokGh\n",
       "Hmwxp4IeJMVfUDBW8FLBSBF/DmV78FDooT2IoIjeahTiHnowKGn0oNCq5OLBiqQKCh5CN2o9RGjR\n",
       "RipF0DeT3exmk3Ef7O7b75v5ZubNmzfAf80IYlQBrSLA9GQQo1jdeYb3MGenQGA3xpbKzKm8M/yM\n",
       "bV8EXQk/xL4XutPxLDC+Ro603ehkmhYxu/clfIoF5nZ3Wk4BxY9s+SfMTqZpUrp7X8LZqJogpAl6\n",
       "iqs04at+6YTrLggisgCJxo8I2F4mPUvTsvzSva47IuhM+Ntq9Y2APcakQ7SPKZKWVuZN6f6a8uei\n",
       "w9QezNNyH/t7ufhR4K54YBSVnwibJN1nyFloGzjvMGl9m7wIDPDYV7nxdHPxMag9Hrn+p4Ojjv+e\n",
       "SeMTdHBpZR24JE3ajGRIGyGKZp9//1w8ZmoZG43Wchldw7OS/f+KS68aV5g04sMk/Wizw0Qh8wy8\n",
       "5ZP24GGrtYsHaUa6jn1Wm/RsyWLS8cEdJB3+1WKQ4O3OdCZWC8/up9fKka+GzpKVpOvptoDEyike\n",
       "kEyUpOXnpsPgrBGnn35/rD34k8skaGyJJAu8OGhq3jkPeS6t/DCZdAPK+jXMxbI2U8hshUbuXt+c\n",
       "vfgEjSUhH8UpLi3fa51NllcngdcAHfQG9N+7NCvesJk9149jyM5Dr3nxEN9zWuxALpdL6ro25LS6\n",
       "SSWkMoJl1CrnjKnP9Rffl7LS39EmM7MSPsBO8QefdAceLau4wWetK8PO0ds0KaqpLqMuCgq2g09o\n",
       "WZnSkMcac+mA0uNl3EIlKGDy8ss61Dvknf5Wmjns8NPCS6LFjAsa+PCHuVymfbeF0oWg0acDLjDV\n",
       "CmJ0we1J+D+3lcW7HtLpBAAAAABJRU5ErkJggg==\n",
       "\" style=\"display:inline;vertical-align:middle;\" /></a></dd>"
      ],
      "text/plain": [
       "<IPython.core.display.HTML object>"
      ]
     },
     "metadata": {},
     "output_type": "display_data"
    },
    {
     "data": {
      "text/html": [
       "<dt><a class=\"ProveItLink\" href=\"axioms.ipynb#min_def_unary\">proveit.numbers.ordering.min_def_unary</a></dt><dd><a class=\"ProveItLink\" href=\"../__pv_it/axioms/7df364387f7097a264361920ef692dfc45f0c4230/expr.ipynb\"><img src=\"data:image/png;base64,iVBORw0KGgoAAAANSUhEUgAAALAAAAAVBAMAAAAUSHkwAAAAMFBMVEX///8AAAAAAAAAAAAAAAAA\n",
       "AAAAAAAAAAAAAAAAAAAAAAAAAAAAAAAAAAAAAAAAAAAv3aB7AAAAD3RSTlMAq1RmmUTNIjK7EInv\n",
       "3XZ/CtNrAAAACXBIWXMAAA7EAAAOxAGVKw4bAAACeElEQVQ4y42VTWgTQRTH/8km2SRrt8GbUNqA\n",
       "0IsWcxL0IBE/KigkVvCi0EgPghTZHoQWcoiCF0Xam65C3EMPDUIaPSgoSHLwYEVSBQUPwQ1aDz2k\n",
       "qAfBk29md5P9mtQHSV5+b95/Zt+8mQWGmjacy4KwjF1MzQ7ncTM8zniGOfsFwgew8LXJnPYHrZxz\n",
       "c9u+CRKJn2K/V8PD6RKw9JscaULDbN7DLUsY4ZnEb7KSrISHY7TI+mf26AUDaS+3TMqHZxJncyqC\n",
       "Uu6hT32HNup2wfBz2zYEtdiARLMnBNFJJrxOizK9wpMDd06QSvx9p/NOED3LhCO0e7mCIc9nkvPT\n",
       "vfE+7669ogd96s8Z8DPAQ/G0qMd/IWrQihMZjOzFsmbzvDoe2wQO85p3uPEGG/AFyBmX2NTz49cd\n",
       "/yMTxheoIOFUBqkmRnMWlzTpb4T8g/5dG/CUoRRtmuzqRVXBi4b9/w0X3tFuOMIrGDUtnkSM99yy\n",
       "T9jFo2Z/705WqLNUHDU9wusNMyhMrcFHXQ62Up+XjtFXb/q7prLHJOHtvKcUqWbOJ8w4ZrU0tcqU\n",
       "v8Yu/uwayWn7EtkavwYUuer0f5ULx38aPmHiteIYFHKP+Nbr5mWaSUI1iQtcOPaofw5ZL50H3gJ0\n",
       "pEk1YQsTP3TnHGbsznObm0cqjPyhFtF1Pauqyowz6h5dFe05bKHbvrI41lqbaN163LL4ai96gp3X\n",
       "Tz7hAE82ZdzlK1bjl5xjNlIJ7+8BlzcFF7LDy0opRo3Ha4yX+d2vmMB1FLy+LGfr9TbkB+Rd/NFY\n",
       "Pe3E7wuOZJ8vCQb4+BNdL3r3WJBX+++ZRe8uczhXBe9E4v8ATzu4zy8bcZYAAAAASUVORK5CYII=\n",
       "\" style=\"display:inline;vertical-align:middle;\" /></a></dd>"
      ],
      "text/plain": [
       "<IPython.core.display.HTML object>"
      ]
     },
     "metadata": {},
     "output_type": "display_data"
    },
    {
     "data": {
      "text/html": [
       "<dt><a class=\"ProveItLink\" href=\"axioms.ipynb#max_def_bin\">proveit.numbers.ordering.max_def_bin</a></dt><dd><a class=\"ProveItLink\" href=\"../__pv_it/axioms/112a9c7f7c68b65c22eb9c549f5045dd5acb93350/expr.ipynb\"><img src=\"data:image/png;base64,iVBORw0KGgoAAAANSUhEUgAAAV4AAAAyBAMAAADmRK68AAAAMFBMVEX///8AAAAAAAAAAAAAAAAA\n",
       "AAAAAAAAAAAAAAAAAAAAAAAAAAAAAAAAAAAAAAAAAAAv3aB7AAAAD3RSTlMAq1RmmUTNIjK7EInv\n",
       "3XZ/CtNrAAAACXBIWXMAAA7EAAAOxAGVKw4bAAAGOElEQVRo3sVaW2gcVRj+d2dmdzKTTBYFS9Jt\n",
       "WGifippVBO1LshLrtdVFtI/uVgNSKzJ9Mxo19sEHje5GiBiJuoUo1dhkLSi0Yi6CrVYqEaOINWFi\n",
       "U8SqSWqTbE28nTlzO3PJ7NnOQA8hl39nzvnmP//lO98EgHK8DkFHVzHQ7cIbtVwdSQeFKy2Xgk3w\n",
       "ci33bw7s3nHvJ2bO0U4QnaJfjMkHhcstu23d6BEeLmRpp/iQfrVuOSjeuiW3LZcBZuoAuc3CIz5T\n",
       "NNDH5GzgcGj0yDYB5UXCbhr2WSl6ijocJgLjHU1453HGmZZnNk6rTtrF6svB8Wbo8AKzMeAcbVQu\n",
       "lsLEOzJ3+JMU+hl/PMEnJxOkCW97J4YlzKfhkH2OWIJysW8gTLwZqYWd0tfX49c04VKyV3WPGJ2A\n",
       "dkcAr9GtxV8KEy8jM2ta+6kz8FomjHefivcgeoAmR37+S9ncJsLEywOrV3MTr2VSvbgXx0OpXoGv\n",
       "HZO8SZluiVDjARASO17LhHw9rSdLruTa13a6hCukw8Wbk4WSA69hIurZ7SA593WUDsii72PFXRbZ\n",
       "F+972SSIdv9aJqJf9KmfX9ZGD/p++rPL8pAv3tYXd8H9Gt6i+kWayH58K+Sc7qybAox4qz/eL7Eb\n",
       "t/yNH/GfTY4i4+4lUtoP79BCtAPXWlR8DycvKKSJHIfG7nNulLgEO9Wfj/ozZY1axd9WYdxQcXz6\n",
       "rscdj1H3N9/xsav3rcDzKhJ/5s9rZU/4Q605886a3eFxx00h4BXzwmceSGIoHcWUP1H+U8O7gFzL\n",
       "P+DE61Wb6939u0BFQYQZPHpU9qhEyh47zaBNjlVhZ1oZFM6juJBYB96oF5OPuQN4MVujf6NtO93G\n",
       "CwCnZ2a+qnLy0kJWUJIIu4q37bfjsOO/dO4E8gNbVj3f/NJRIEiK6K47pyGM8RfAnQBVTp7imo43\n",
       "l4LtCG/0JKrlMF6KZXVXsjCn7NYu1UgKPj6x2t5q0NmToeA9AXAA4m5vRM90XmN2SNbA21AERcOL\n",
       "mGiseAs+pKDYvxnaS1fja3SSEnUF9a6eUPDOoBpcEh2h9UpTPyhl8WmT7izpeKVKPIvBvzMugzCJ\n",
       "g7Qe3dyj+hsIksI7D2tHmkOBCz8hXyiOdGNRhICiMCMuvMK6hJ09dFUrquStWQMvWERKIymc079H\n",
       "7g4NL+Tb0LeFO+YRBG4OInAWMF5pyBUPMMiof0Q/hwK6+J5TRjwAV4H3SZKCpQJb/IYXD3AUdSNJ\n",
       "boqhhUcaS70Cbh5KueusmW9GfYBcs4q3MQO5J2Wx9Bpu6QoI/Yggl9XTrkFSGFcD2jDf6PUSPd+g\n",
       "W10A3uLRr09dB79yOCyVu45Z9Uyrv1wC6osQqah4Fw/KY1rLQqUremlogkvBaN4kKay7OXwPgfSS\n",
       "Ua3MT6rhibeqostOLcy+gYFXUTx8lLL3i/jgalrKSsnVTXzL9cOzn65C+yoqIfwUCPcq225EkfGj\n",
       "SVIaslT9wq2XbKyVaO3cFIn4CUxjv4Mv+LIWvw8eN4vbit9MP5i/bTdJyjNA1Y899JIq7Xrd2Bkx\n",
       "z8IwWpxb0roHqmdmvvEX/eawuE3ZJCkdl6k/+MpRFvNCAXdu7Dz0pmDbjjx0ofjgntgv3GYyg2Vf\n",
       "YcwgqSgfdZLixffo9JLhWRrmZYyUINelQTg20F89VyyfGOAkk6TUyf56SQcICZteYmkj1vGNlFAc\n",
       "TMY495ciyh4vSEnfh37WZfnF/7xZvhaYJZteQmgj5vHYJqHYO5dRB4Br82Sp7cHlKFJ/SO2GSNF2\n",
       "3iS1EV2OsksoBq+me6VQSIWJV0DdW5MbTLw2bUSTo2wSijGeU66EXsKtQaHHrj+Q2ogmR5ESSq16\n",
       "CRuqHqU67neHvkNoI7ocRUgo1thCtxa3EipeBLPPgdfSRphp2aGqEINS74PpcP2b4C7a9RJLGzHr\n",
       "maWqEAWBUk8No0AQeIXN8xW7XmJqIyOzLlWFJBG0eRT2+wAx762NCN/6zkH9PoB6I3zwJghoH6Sq\n",
       "ayMeo496tf2B8RLvs2Zdb0u9tBGPtKf3Wm/w94XWYlvnszTaiJsD07ctqRgUL78eeItqeB8bxvvu\n",
       "oE2dy9dwcSwwhZCWA07wQk1F9cr/vwYWlf8H543fsVt259YAAAAASUVORK5CYII=\n",
       "\" style=\"display:inline;vertical-align:middle;\" /></a></dd>"
      ],
      "text/plain": [
       "<IPython.core.display.HTML object>"
      ]
     },
     "metadata": {},
     "output_type": "display_data"
    },
    {
     "data": {
      "text/html": [
       "<dt><a class=\"ProveItLink\" href=\"axioms.ipynb#min_def_bin\">proveit.numbers.ordering.min_def_bin</a></dt><dd><a class=\"ProveItLink\" href=\"../__pv_it/axioms/752760836d3f86f4583cb4dcf21cfa9aec6caa870/expr.ipynb\"><img src=\"data:image/png;base64,iVBORw0KGgoAAAANSUhEUgAAAVoAAAAyBAMAAADvrw7GAAAAMFBMVEX///8AAAAAAAAAAAAAAAAA\n",
       "AAAAAAAAAAAAAAAAAAAAAAAAAAAAAAAAAAAAAAAAAAAv3aB7AAAAD3RSTlMAq1RmmUTNIjK7EInv\n",
       "3XZ/CtNrAAAACXBIWXMAAA7EAAAOxAGVKw4bAAAGDUlEQVRo3sVaW2gcVRj+d2dmdzKTTBeE1KTb\n",
       "MtBSsCquIooPuUisl9joIuqju2pBakW2L0I0auJDHzR1N0LQSKxbyEO9NNkWLLRiTbzfKrGoiJoy\n",
       "oSliMJeapFuTKJ6Z2TlzOTOzZzuDHrK7yb+7c77zn//ynW8CQDleg2CjuxDo68LrtXw6kgoGVlou\n",
       "BrvAgVq+vymgaz90Xy1znvYC0Un6yZhsMLDcMmnrQQt4JJ+mvcRR+tl6csHQ1i2Stkw7MJP7yA3e\n",
       "7j5XA30sng0YCBtcckxA2ZAgzS2dHqHwFXUgjAdEO5Zwz912wjR30usau2knqy8FRdtOh1b4QPG8\n",
       "RoY2GheK4aEdnT78voxe408k+OREwmoCocsITmEmBYfs14glKCf7DsJD2y5tYScrs1fi1jAJjbLx\n",
       "KTE6Dm2OwF2lm4u/FB5aJses6q2mzkBrmky0LyD4TY4o+YeykY2Hh5YHtlK7MVrTFMeRUKxX4FvH\n",
       "Rd6gTLJEiJEA9YoDrWmyZFmmSOxoG12a5VNhos3khKIDrWGyVLDbQXLu6BgdjAWfReUoLFa0b6WT\n",
       "INp9a5os3WFAff+ytnjYh1vJhOkhX7TXvbgL7tPRFtQfm0nvvL3q862QcbqybhI0vFv90X6pZcDm\n",
       "dW2Bf2+Mf2y+dbXLAlJ+aEfmox3aClGxPZy8oFhN1nHo1L3OTRIXYaf6+pg/E9YJVPxNFcb1ZSuh\n",
       "Ety42ePUvcx3HCf6/wr0qTj8eT2vFzphToU2g2q02dlYt8C/MQS0Ylb4yAVHDE0tyv5E+E8d7XwZ\n",
       "feN+W0epdy14ZJ/OUxENYUobatw2KJGSyx4zyDuxKgxML3zCLIoAibWh3e72+Rjp8IV0jb6Ntu4k\n",
       "jRcATk9NfV3lTFXW0SpJhByhfWoC9n/y3LSaIHdrPm9+6ZiViohkpTkNYYy/AO4EqHKeFFcraDMy\n",
       "7FB9+zDiOTKvruFRNXZhWumyUhHtWMTqu6oDZz8PBe1nAPsgTvoi+svuRsw0WQNtQwEU9Y8BrQQv\n",
       "IdsZ9LgZ2opXWKlIlKAVu3pDQTuFam5RdATVy02DoJTEZzCpWayglcrxdAXtEIBaKT5Fj17UJW1U\n",
       "hHcewo40hwIWfkWeUBxJxqLYAEVhRgm0wpoEJFowyZJORTinb490hoYWsq3oaf6OGdQ6uGmIwDnQ\n",
       "0EojRCTAMONAe0Y7fpfhbSsV0Y7+trgNLxLgGOo9Uq4phoru6IZiv6C1CqXUfQ5nmVETINPsQHsQ\n",
       "mQcR/S2pJ1iDijBEs/HMMnr1o5Jl0KNOAAd59OvT18LvnFYtlbtOmBVMr7dcAuoLEClrUPfoaI8i\n",
       "T14aGedkGMtiKsKSreBHCKR+jOkNfkINS22byhUBaQuzZ2joFRQJ78n27hAfvpiS0lLy4sa+b5r7\n",
       "1q+8ah2t8gDy7T3KthtQ8/kZU5GGNFV38FI/3JQPvXFjfsKPx9WXH+ALvqTH7QP4YB9d8b6MGZA7\n",
       "MBV5Fqg6r4f64dOY14xdEbMsvAPwE7eo9wpUwXCW8UveTdlkKyVMRTouX0/wFpZMdoVC7fypWeiX\n",
       "YdstWehG/uKe3Cvchtngsvd6X8ULVwwq4sbo6NG2dFZjV8aQhVxdCoQTQ4PVc8Q4uOBUxFSkLuev\n",
       "fnSAkLCpH1alwziWYUGE5CuGbFmMKA+6QUp6o42TStBv/qfI0jXALNrUD1PpMI+8WCOx7oStRzLA\n",
       "tbry0LagwpJVT5C7IFKwnSKx0mHKCaYgYuXNdDcD8nJ4aAXUp3X5AKPFSocp1ZiCiGU8r/z36ge3\n",
       "Cvleu55gKB2NMqmR1K5+sCEqS6rT/nBoNYbSYUaCTRAxxma6ubiVENEikAMOtFjpwFlmF0Qqg1K1\n",
       "g+/D9G2CW7KrHxalQ5ibBRdBRM88SkU0eFGwoBU2zZTt6odN6Wg5CR6CSANt9oSr5ItZP6XjJq9c\n",
       "olbyqTfBE23CAuxdubrS4TIGqGfbGxCt5Q7UWeK+ppvS4ZLq9B7rD3p3z5xq60yaRukgySl9i5KC\n",
       "3QEHfi3woayGO6fB70oHbd5ctoYPxwLOJi0HRLu/piL6f/83hSYK/wvz9NYhAoH02AAAAABJRU5E\n",
       "rkJggg==\n",
       "\" style=\"display:inline;vertical-align:middle;\" /></a></dd>"
      ],
      "text/plain": [
       "<IPython.core.display.HTML object>"
      ]
     },
     "metadata": {},
     "output_type": "display_data"
    },
    {
     "data": {
      "text/html": [
       "<dt><a class=\"ProveItLink\" href=\"axioms.ipynb#max_def_multi\">proveit.numbers.ordering.max_def_multi</a></dt><dd><a class=\"ProveItLink\" href=\"../__pv_it/axioms/52da64a97548ec1c4da6644196d73ab5884d998f0/expr.ipynb\"><img src=\"data:image/png;base64,iVBORw0KGgoAAAANSUhEUgAAAtoAAAAXBAMAAADHKfVDAAAAMFBMVEX///8AAAAAAAAAAAAAAAAA\n",
       "AAAAAAAAAAAAAAAAAAAAAAAAAAAAAAAAAAAAAAAAAAAv3aB7AAAAD3RSTlMAq1RmmUTNIjK7EInv\n",
       "3XZ/CtNrAAAACXBIWXMAAA7EAAAOxAGVKw4bAAAGnElEQVRo3u1Zb2wURRR/3b3r3e31jjMkJGpS\n",
       "LxIhsRTvQ22sH7BIMQghnBBioo05AwbBBLaJxlREDqJiIrQXlZTjgyzRmBBI71AboQgpEIJCkGrA\n",
       "PyUNW0FRSMvJHyHVWOfN/p2dLrc9rtEPvGS3c29+3fd7b968mdkFKC6DP0L5RC6hZ0wS+B9wkTlG\n",
       "Ac9x7CpjsKPxsfeMTfzqf8/lOY4RZdUFMfw9uUi0PYA8Sg20nO3BxslvZWfP7cuOE+R2zql1tzhe\n",
       "XKIJjtE5GsjZqFtWJNoeQN5ESgG0XiUN8T6Z77l9WUquSsWpdbc4XlxWcIzw6oJ1WFQyRaLtAeRN\n",
       "fGTQO7/H0V+g8D23L1cweI1OrbvF8eJSxzHCq4vGPBwvEm0PIG9Shb5fJqn0ltPDqrLU7GG8H+Oi\n",
       "7WpxvLhUKRyjYxhIkYxjZbFV0gPIm0xBD3NkmFWnh1PK8fhwL96XcNF2tTheXCoTHKMldLtxor//\n",
       "eNE9SXGQN5mHHlaQpSlBPBSH9initqv+v1/UewL3XrBvKFoOvHHrp3GAyuoBMgN3c9F2tVg+Liw+\n",
       "HOMY7aaBnAOwtWi0i4O8CQ5yp/8KCArxcJrsS0F4GF4weprl0LCtLByFbcot6wYHyK2QbgDU09rb\n",
       "T4V67W6xbFwceDHFMaqngWyBQGz0aWmLtitojPIdegg/QRSoh37CZLmY1nukw+DrtbC7EjD/lg/j\n",
       "AQ8p8A3ANC633SyWj4sDL/RwjKbRQIaUcJL9zzXzkuJBkh22aPOgovK2vocRziydZM6xI9TDy/Ir\n",
       "6CFIzxIPd000enwFiORBqtexCwDOgLTvLtecogBGngD4C6Cdj7aLxfJx0fCmBAsco3YaSEG1r3/B\n",
       "gWxSiHXDXDbaLMiTVKDxtrs3g5oPr2ajncur6KE0837ioXDd6KnKQC4JbYM69muQrhMS9pRhhQIY\n",
       "OQOkMkAzH20Xi+XjouGtytPDMWrWDuWpGbb/aiJTSZjhgzwbbRbkbRNEnuQj9R5UVexkK0moJ0Fn\n",
       "bzJIPPR9qeg9ORUeI61afW7+A2IBJiQDN90mLwU4ttu+Yf0BTN12s1g2LgberCS9HKNaLZCfkoOP\n",
       "OKttINqQ1o6cwvqnST42zW+abUUbQbBzxhfG42xNSxhl+9A92iFaVaMfG8oPqYf+PxT08Br4b2yA\n",
       "7lBK78nFYZIgU2o4ta9ARWqqqBAPJd6UBdCZowZuYoGFBj63XSyWwAX4YoL0NHzdI0Oxc1twlcyA\n",
       "k1GDFsjXyfh/1JyoikVjsIMOTLr7AWduI0j6AcdfM2A1bVYZ5aByXqKlW823mq8ucCv0FE5MIKfl\n",
       "axC9OTWsStf0npAqnPLRJJD+pD7XNjbSHWsOY4A3qjcbFGAwp5qJ8IG+gWPE1WIJXFgKJjOKlx4+\n",
       "DAdhAGdWHpyM5mmBrCCJ8dqvMCFNIIu0aPuiGUe0EeRrDPZAgO4EaXPheXblpEpT3od6P93jq0/u\n",
       "NZWbAFpPLoFfYODk8/K6ny/uv3Q2JY6s1Hqk6j0tv2nTrp/kxfZLG6qJ1U0KRPqIKoIH8lNGwwQY\n",
       "zDXN52jxtPM1iavFErjQnywXpEfxgc4USWYMbSQJTkanbS9Tq2EjROJQn81m40Jayqcc0aaVOEly\n",
       "aH2f2eyR2LJJlaZ8BTPF5dnse6SSdJmH/kjarfBZPeihYM5XOroPcnALoDO3NIFebwtLiVwEvpSY\n",
       "9CpUkm+4HqxhOCIjvLqs2PwOa4PwrpbbsFBl99vaSiCHHlWgz2zK9lQ2lHWT6xbuwV8FOBTMa3V7\n",
       "cbe5629089DqqbXv9eFleBUg734YMJhbGq/vlErkEubxeWtnEM0ECmSsZjEckRFeRiADBZIjDT6y\n",
       "r0ZjSbAnqZXbcvsiGu2dejOUJE0pb9yocnqmKlmDv/vISrFVq9thc5WEDlfnO+wempuYwJZ35oLE\n",
       "fyCwADpzS9PqdddUEhfrp7VemfTWkuwWM436+1KGUastkP4YLIOWi+SBWLaWAYwWbf+s6Z8BRntj\n",
       "XGvOwWbwKGyU8aYpQ+lP4HEIHoI3h4gJMsz+lS9JTeYL4x3uXwL0v6tXHSAjZGbLyEiBnPY4MQEG\n",
       "c0vT4fnbQylcgB/5qG05rpQD1SQNZYZjh35xH8F2ZrPcoXE/8z0NK4lWh8OKajTBVEagBnoTIGij\n",
       "vje72fHyxvU7VsDzF64i3008f1McPy4XOEZ4DR4Z84PajsfBr5X/VSO9RhOTTGttJ4t8tQzPwB0p\n",
       "k4ijNUUGkrgTpVHkX5YDBMp+bfGOAAAAAElFTkSuQmCC\n",
       "\" style=\"display:inline;vertical-align:middle;\" /></a></dd>"
      ],
      "text/plain": [
       "<IPython.core.display.HTML object>"
      ]
     },
     "metadata": {},
     "output_type": "display_data"
    },
    {
     "data": {
      "text/html": [
       "<dt><a class=\"ProveItLink\" href=\"axioms.ipynb#min_def_multi\">proveit.numbers.ordering.min_def_multi</a></dt><dd><a class=\"ProveItLink\" href=\"../__pv_it/axioms/2feb8dd0c2add876f2a7b1fde3bad224b0994da00/expr.ipynb\"><img src=\"data:image/png;base64,iVBORw0KGgoAAAANSUhEUgAAAs4AAAAXBAMAAADpbNTRAAAAMFBMVEX///8AAAAAAAAAAAAAAAAA\n",
       "AAAAAAAAAAAAAAAAAAAAAAAAAAAAAAAAAAAAAAAAAAAv3aB7AAAAD3RSTlMAq1RmmUTNIjK7EInv\n",
       "3XZ/CtNrAAAACXBIWXMAAA7EAAAOxAGVKw4bAAAGtUlEQVRo3u1Za2wUVRQ+3dfszj66akLiI0sT\n",
       "oiZCcX/UxvoDqxRFGtIVYkxME2tKQkQi00SjFYSV+EqEdqOSsv6QIRoiwXQXtREwkhZCUAhSCSiW\n",
       "NE4tvtNSMQrBRLznzvPundudZfenJ5nJnW/P3vPdb849984MQHmbOgu1M8UdlmrUvVQlDyF+TeEl\n",
       "4/Cm4FANZU40uOM/1Kj/oFYdDxF+beHxkkJDkMTreWV09uDk0eZDz/fD2Dj5tbIhbcG+Yg363n2C\n",
       "nCZLUdd4Ih4Er84meTaTVMIliK0uo7MHJ28mdwH0/kka/rkKPN5q4btqksyryBFSS1G3eCIeiFdl\n",
       "jvAmGzyG4CUsIbkyOntw8mYBkjqD3+D87FBBtvHFNdH5IgrXWoq6xRPxCKSrpOAIb7LBY4iqHW0o\n",
       "o7MHJ28Ww3FfIGvNKx1M3g3XpDZfwfMxTmeXeLFZ8OrsGM/mGEroJ3cwVG4d9ODkzW7D8RXIDdaY\n",
       "8fm6atF5dBTP3ZzOfDwRD4pXZ908m266lTgxPn687H6jvJM3a8fx1ZHsTXeo0tpkeO2D0ymcrrgM\n",
       "Sjf/7Fytew5unL0vziGUmiBzbi+nMx9PxIPilfJg/ffybPZSCZcCvFNW5/JO3u/2YPAi+FSSR6Ek\n",
       "xK+HfjJ7Q1gWO5XIFUcROAo71FmrBOdQWCNfAmimdXacGt0nucQT8aB4hTxK/Jt5Ns1Uwh6Qku7T\n",
       "0KGz0KlCO4Xjg+8gAWR8kSREhqGeaBwnd14+DIFR2/PDNCyftSve4U4VvgJYwOUzH0/EA/FKeZT4\n",
       "L+DZLKASRtRohv3ni+0Z/wjJCYfOvFNZe9XYn/jOrZpjzasjdHwXlGfN8eWgnvwYI50HZiBeBNnM\n",
       "hw6AcyB/dp0wl6gDYw8A/APQz+vMxRPxQLxSHrq/Zf08m34qoU9zrnDhiXzGlzwAy1idWSdPVofB\n",
       "+27cBloxup7VuVDUeJ1jOShkoG/K8PwS5L8IBWeqsEYdGDsHpBJAJ68zF0/EA/FKeej+dhXh2XTq\n",
       "j9Rdixz/assSURcFoMjqzDp528KRngKkroOm+QfZuhEZTrPjw7pR0OBe8mujMRv/Bf8M1Geky6Lp\n",
       "Sh1Kts+BK0YHTH3m44l4IF4hD9PftEaeTaMu4UdryF56cd9EoiULCSxSvs2PkhxsW962xNYZnWDP\n",
       "ok/NXhxN2xiwf/om/SlU0xLvm+C7dHzBP1R2fBFyFBpgjk+hxMgclS9CXdftfpWMT+YD2Q4Gb0Tg\n",
       "MhZTaOHzmYsn4oG4kAeobjwM/6a7p5OT28EIz7Jp0SXcQO76e53pWDKRhN20omYP3Fqaz+gkfxu+\n",
       "ZGaT3XSkGANOqedlWqK1Yu+kc9fzME5GIM+7ZHAhfXzRJGrtOx2gN1/+m464sbWV7kILuLnGE8Wt\n",
       "BnUweVPkBnjb2Jox5hJPxANxIQ82vNWg/vJdh2EEJozwJWzadQnrSDq88BPUZ8kudqWucyCRK9EZ\n",
       "nQKt4WGQ6P6ONlecZ9dGClr2FjQH6VOs9tB+C9wK0HuyG36EiZNPPH/LyAdzRzbvIEtumFQ/ObWv\n",
       "5xd9oo2TfNj5+2spEnOrCvExAsXxefa02bAcTN468gnGO1P6esMlnogH4kIe9JLnQf2lwS6SwO1m\n",
       "eJbNGccrzxRswSrZnM/nG3xZudhVojOtuBmSOZvHrOawzBZIClr2BdznfzKff5PUjSHrkT2edS9y\n",
       "Z5n65rNmKL2rd3DutoPB20akUS+Lh4iHjbvw8KliHnUaybFTZniGDR5Dtiq/wqYwvKHnM6zQ2P2z\n",
       "XvGVyD0qjFlNJcy+lqBg07ymFfvwagYOhYt6fX7kgMtrFsaaGJ2tyPAMPAdQFG/tTd424u1NkIiH\n",
       "jbvwiM7CI5ZN5KSZrBGeYYOHKaE0QzKjJUD2yRgsA87EtPNZ6V9Jdd5jNCMZ0pSL5omCC3OxzHy8\n",
       "HvPn9GdIsqZa6yAMuI8vojjHZ21PpO2vLwOZf3VvOxi8baTX225ooBzO87AveR6wiWS0P9dqhGfY\n",
       "9DokDCZhNfT8RjrEIrUawE3n4OKFHwPqvKVBby7FZvgobFHwpIOR7C64H8KH4OVpEoJMw+DTT8lt\n",
       "1nui3YJdmvnSdf26g+TOWFly9eoMeWbjzHIwedvIgMdvAmVwFx6giXmQRTWkSCnVCM+wGXD7JLUn\n",
       "n+ce/D5nvm5h3dDrbVTVzCZYYBzmw2gafLp8+/PbSl66CL4rbazVdzGP3/dEPCStluHxEo+pIxX3\n",
       "1He8AYJ6mV93ddRsYmrprZ1kEU8p8Bj8b1Wb363pZ1zS/6vE2H9Yed6c+tc2kwAAAABJRU5ErkJg\n",
       "gg==\n",
       "\" style=\"display:inline;vertical-align:middle;\" /></a></dd>"
      ],
      "text/plain": [
       "<IPython.core.display.HTML object>"
      ]
     },
     "metadata": {},
     "output_type": "display_data"
    }
   ],
   "source": [
    "import proveit\n",
    "%theory"
   ]
  },
  {
   "cell_type": "code",
   "execution_count": null,
   "metadata": {},
   "outputs": [],
   "source": []
  }
 ],
 "metadata": {
  "kernelspec": {
   "display_name": "Python 3",
   "language": "python",
   "name": "python3"
  }
 },
 "nbformat": 4,
 "nbformat_minor": 0
}