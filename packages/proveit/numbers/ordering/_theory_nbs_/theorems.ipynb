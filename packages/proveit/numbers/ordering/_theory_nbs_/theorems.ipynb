{
 "cells": [
  {
   "cell_type": "markdown",
   "metadata": {},
   "source": [
    "Theorems (or conjectures) for the theory of <a class=\"ProveItLink\" href=\"theory.ipynb\">proveit.numbers.ordering</a>\n",
    "========"
   ]
  },
  {
   "cell_type": "code",
   "execution_count": 1,
   "metadata": {},
   "outputs": [
    {
     "name": "stdout",
     "output_type": "stream",
     "text": [
      "Defining theorems for theory 'proveit.numbers.ordering'\n",
      "Subsequent end-of-cell assignments will define theorems\n",
      "'%end theorems' will finalize the definitions\n"
     ]
    }
   ],
   "source": [
    "import proveit\n",
    "# Prepare this notebook for defining the theorems of a theory:\n",
    "%theorems_notebook # Keep this at the top following 'import proveit'.\n",
    "from proveit.logic import (Forall, Not, Or, Equals, NotEquals, Iff, Implies,\n",
    "                           InSet, Boolean, SubsetEq)\n",
    "from proveit.numbers import (\n",
    "        Integer, IntegerNeg, IntegerNonZero, Natural, NaturalPos,\n",
    "        Rational,\n",
    "        Real, RealPos, RealNonNeg, RealNeg, RealNonPos, RealNonZero,\n",
    "        Add, zero, one)\n",
    "from proveit.numbers import Neg, Less, LessEq, greater, greater_eq, Min, Max\n",
    "from proveit import a, b, c, d, n, x, y, z, S\n",
    "from proveit.core_expr_types import a_1_to_n\n",
    "\n",
    "%begin theorems"
   ]
  },
  {
   "cell_type": "code",
   "execution_count": 2,
   "metadata": {},
   "outputs": [
    {
     "data": {
      "text/html": [
       "<strong id=\"less_than_is_bool\"><a class=\"ProveItLink\" href=\"proofs/less_than_is_bool/thm_proof.ipynb\">less_than_is_bool</a> (conjecture without proof):<br></strong> <a class=\"ProveItLink\" href=\"../__pv_it/theorems/454c5539223856fd424bae7d7af67c90d870f7d20/theorem_expr.ipynb\"><img src=\"data:image/png;base64,iVBORw0KGgoAAAANSUhEUgAAALwAAAAWBAMAAACI4OsQAAAAMFBMVEX///8AAAAAAAAAAAAAAAAA\n",
       "AAAAAAAAAAAAAAAAAAAAAAAAAAAAAAAAAAAAAAAAAAAv3aB7AAAAD3RSTlMAq1RmmUTNIjK7EInv\n",
       "3XZ/CtNrAAAACXBIWXMAAA7EAAAOxAGVKw4bAAAC1ElEQVRIx61VW0gUURj+Zmdmb2PTvkSIIQNG\n",
       "LylFD4IFsmE3usCS4EN2WfJBELENIih8sNcy3J5qi7Z58CExljVCqUB6CbIotDKK2GUWTUhqEXoI\n",
       "hKAz55xZ98w6g0E/fLvzfzPznXP+2wAbsRTH+hb6R95tusHgYarlIn7OXOifS1A+ZvtN/vI7Obxs\n",
       "wU2kz4b6tlD+oO32+qpHkwyeFjTd8p2YilD+mh2ktK+8spvB0+R4rfweifL2yprhK1/HIVig+sSv\n",
       "eY7uFz5V5IOUl8m2gv6h38EhbPhjdUB6WIoHzLXdb93H+LeFwht/+WMcudLD5/yc+lemlOtAlBTH\n",
       "BHUum2upzc3lQfkjwF1/+R6OuN6ozFJmvMhv5ZshrwCtEAskfab/z1FQ/iJCsVrJlsn9A871ewY5\n",
       "Ja9KNMOXPvA7YeMEJFIXzdRLVqd2ocukfMTUEqJ0uJRJ6Bqm8tx/yRCGwgSk85WSxTvUkeYZoa+R\n",
       "MBe+OPIRNU/5gOXO7IEhElwdey1RHlRJkIe6ihHy9Gm6Vrp69xGkGZ9sJz/lw4tkqKglSNDtABD5\n",
       "5bgYHOBcKmoKwbHP88MOJXVmRfkk4x/3EbVUfZAURW6zOYwxWhpaKOt0UpZhLLENGsTURmK4Rf7a\n",
       "qFMW5AMW4wdJZmVkw+Tyagu+o5PKK/cqZ51g2HX9OE5yKldkRajE1F+8bEn7VLoz3Y3pJ5yXhmzm\n",
       "N+Ub0IjWTCZj6LrmSOEmw2g50FERkFnhRxsW7RfnWaLrT7GbSzMP7Inp8HbaX9DpPI9XuEF3r6vd\n",
       "TpdsGmIQ25ZXuUZCHOJRV5/yoeAMfCcbg1pSwTjwWV0hlUpjj2fxqolVM7WYTeKR4T3vKrzybXoZ\n",
       "wwa2tyURukOIrqX86CHnsdsctVYk4QSueLS7izeiqQhZcDyTERttjKPWmhYTnku7edWUrK51P5oW\n",
       "g9e3MrUhXobansd/tb/Btb06a4+pdAAAAABJRU5ErkJggg==\n",
       "\" style=\"display:inline;vertical-align:middle;\" /></a><br>"
      ],
      "text/plain": [
       "<IPython.core.display.HTML object>"
      ]
     },
     "metadata": {},
     "output_type": "display_data"
    }
   ],
   "source": [
    "less_than_is_bool = Forall((x, y), InSet(Less(x, y), Boolean), domain=Real)"
   ]
  },
  {
   "cell_type": "code",
   "execution_count": 3,
   "metadata": {},
   "outputs": [
    {
     "data": {
      "text/html": [
       "<strong id=\"less_than_equals_is_bool\"><a class=\"ProveItLink\" href=\"proofs/less_than_equals_is_bool/thm_proof.ipynb\">less_than_equals_is_bool</a> (conjecture without proof):<br></strong> <a class=\"ProveItLink\" href=\"../__pv_it/theorems/c4ea339c30f0e90c713c3fbbdc518d0ca76935ef0/theorem_expr.ipynb\"><img src=\"data:image/png;base64,iVBORw0KGgoAAAANSUhEUgAAALwAAAAWBAMAAACI4OsQAAAAMFBMVEX///8AAAAAAAAAAAAAAAAA\n",
       "AAAAAAAAAAAAAAAAAAAAAAAAAAAAAAAAAAAAAAAAAAAv3aB7AAAAD3RSTlMAq1RmmUTNIjK7EInv\n",
       "3XZ/CtNrAAAACXBIWXMAAA7EAAAOxAGVKw4bAAAC20lEQVRIx61VW0gUURj+Zmdnb2PTvkSIIQNG\n",
       "LylFD4IFsmE3usCS4EN2WfKhELENIih8sNcy3J5qi2wCHxJrWSOUCqSXIItCK0OJlV00ISkRegiE\n",
       "oHOb3Tmz7mDQD9/OOd+c850z/22B9VhSYG0L/iPvNsPkqGBa3kX8nLjQNRVnfJTO67zltwtUsnk3\n",
       "kTod7NzE+P10es5TPZLgkMzn2BOw3PKtGAsz/hp1UspT3r+Tw2nqZ4ekGiuX36Uwnp6sm57yVQLO\n",
       "aHyVLvxWsPdzX4ryAcar5FoBb9dvEyjZ8Jy8ooOHuNsq3X7zHs6/z+XeecsfEcgUHr1k3zn4yX6V\n",
       "aUGEJMcIm1y2SqHNTGXB+EPAXW/5DoGYUeufJM+HZ4uvsvVQV4BGyAmSOtX15zAYfxHBaLlkw+je\n",
       "bnv8kUNNqqsKjbBSlA+Zx6CQvKhns4QztPNtFuPDlh6XpUOFdNzQMZYV89ccIfiFwCXbORF8QBUp\n",
       "nn62jbg5N2vLh7Us4315d2T39ZIkMLA7L8uDKcmh1VbRT1afZGelnLcPI8X5RDP5WT64QJqKVoAC\n",
       "gzqAyC/FZOcAZ5IRS05M8j0/qCvZZFKWT3D+aSdZnqwOkKTIbLT6MMT268EBu5IGOIbiW6C7yioc\n",
       "xS3yaGLcsiTvy3O+h0RWxUCIDK824Dtambz/XvFbRzh2XD+K46WmcJ7dPqr9EmlLyqdYnal2jD8T\n",
       "vNJLmd+Mr0EtGtPptGkYelHqJsfgsq/FXd6RmgW6cZpPqk9wdnHiAe2YNk/D/op152m8wQ12e0Nr\n",
       "t6tkQy/HmqYTFweF17XnoinYDd+ORo+e8GMYmNFWSKYy3+NFzNGxyroWt1E8Nsv7nbMX8sG38SX0\n",
       "mdjalEDwDiHaFrODB+xltwWEPclRm6HDOeJO4EqFL3PxZiQZJgcOp9NyoQ0JlFvdQlw+WjKZ1ywl\n",
       "37bmn2aeo9J/ZXJdvAqtOYv/an8BSdvDNqN4OJ0AAAAASUVORK5CYII=\n",
       "\" style=\"display:inline;vertical-align:middle;\" /></a><br>"
      ],
      "text/plain": [
       "<IPython.core.display.HTML object>"
      ]
     },
     "metadata": {},
     "output_type": "display_data"
    }
   ],
   "source": [
    "less_than_equals_is_bool = Forall((x, y), InSet(LessEq(x, y), Boolean), domain=Real)"
   ]
  },
  {
   "cell_type": "code",
   "execution_count": 4,
   "metadata": {},
   "outputs": [
    {
     "data": {
      "text/html": [
       "<strong id=\"relax_less\"><a class=\"ProveItLink\" href=\"proofs/relax_less/thm_proof.ipynb\">relax_less</a> (conjecture without proof):<br></strong> <a class=\"ProveItLink\" href=\"../__pv_it/theorems/c40ed6adadbaa57a41f1c177c714f3e309e065da0/theorem_expr.ipynb\"><img src=\"data:image/png;base64,iVBORw0KGgoAAAANSUhEUgAAAKEAAAAXBAMAAACR7DLtAAAAMFBMVEX///8AAAAAAAAAAAAAAAAA\n",
       "AAAAAAAAAAAAAAAAAAAAAAAAAAAAAAAAAAAAAAAAAAAv3aB7AAAAD3RSTlMAq1RmmUTNIjK7EInv\n",
       "3XZ/CtNrAAAACXBIWXMAAA7EAAAOxAGVKw4bAAACOElEQVQ4y52UT2jUQBTGv2ST3eyku1YKQhVk\n",
       "wVLwIAQRpAe3LdIqQtWTR5ub4ClepUrr1R4U9KIgU5AeKsjSg6BgCZ4EUfYieFlIpSIVLL21R99L\n",
       "3GSSTZTsg4R578v8dt+fGaC81YolD0PZ92LpJj2jvDhVBqh3irWmA8zx4lYZ4no2MKnkehtY4cI8\n",
       "KkO8mPEvXFGcc0BVAnarDNFPu7/fqd6IRIUyr5Yqo6t64n2QUquE+9zrfSpDNKgxYu/4w80QuOD0\n",
       "0TsO1ihd6vRl4NnAtpliIv8LA9vBAmOOxfWydR/TQIUyuIPa6MC2f7SqQZDzmJZj7CTEB0YX41QT\n",
       "qnJd2tf/QxSp2tPXy5j/e3zirOVIgC+AtU/UIKcxKWJtVmaI4M2ZzixK6xAweRLcNr32Lu3QnJrb\n",
       "0BRiFLSOeokQZQ3zABuZ6ZlHk2h6l5abNOdNb7xKX74+IlcTYhQ0n3iKQFUKIJ5qPjqZCX+MOvWj\n",
       "wjuXeIEXFi3vnsFuQgyD5nOpCuF86IcvfTM5FZPL/J7FohPNFrQwcBCKJ3BSrSMFV1spgYrQhbga\n",
       "TJzNln5t6xol04i7bPnhrfcVHxUiB8XbliqQfSuaqzf03Os7S7Zr4BV9be4nxDAI7PKA9IXoMsgx\n",
       "2xUf1GvE+LH1ixOcmHITYhgkmyJkX+DWJJeX6IXGZWsEWmfwFmsJr+7kTPhpLxYYk3ug9PZc+tfY\n",
       "TKkFN/JPYSyw3S8+oj/TbgVmu5NPjIWhzRt+6x9nW4y+fv6K2gAAAABJRU5ErkJggg==\n",
       "\" style=\"display:inline;vertical-align:middle;\" /></a><br>"
      ],
      "text/plain": [
       "<IPython.core.display.HTML object>"
      ]
     },
     "metadata": {},
     "output_type": "display_data"
    }
   ],
   "source": [
    "relax_less = Forall((x, y), LessEq(x, y), conditions=[Less(x, y)])"
   ]
  },
  {
   "cell_type": "code",
   "execution_count": 5,
   "metadata": {},
   "outputs": [
    {
     "data": {
      "text/html": [
       "<strong id=\"relax_equal_to_less_eq\"><a class=\"ProveItLink\" href=\"proofs/relax_equal_to_less_eq/thm_proof.ipynb\">relax_equal_to_less_eq</a> (conjecture without proof):<br></strong> <a class=\"ProveItLink\" href=\"../__pv_it/theorems/5036c37b9b62ede54e02e5d39eceb41de4510f9f0/theorem_expr.ipynb\"><img src=\"data:image/png;base64,iVBORw0KGgoAAAANSUhEUgAAALYAAAAXBAMAAABUnqh8AAAAMFBMVEX///8AAAAAAAAAAAAAAAAA\n",
       "AAAAAAAAAAAAAAAAAAAAAAAAAAAAAAAAAAAAAAAAAAAv3aB7AAAAD3RSTlMAq1RmmUTNIjK7EInv\n",
       "3XZ/CtNrAAAACXBIWXMAAA7EAAAOxAGVKw4bAAACp0lEQVRIx62VTWgTQRTH/5tkm2STpguCUAsl\n",
       "0B5bCCJKL7UQtYq0FEQvioYq+AWygpdoKfFssNUSJR5klaBgNawFC/UgOYqiBLQglJSpjYgfhIKH\n",
       "Sk++2ewmu5umLVsHdmfevJnfvnkfs8B2mt+Vamvta3OVyACZD7rcoT3aBspl4CDvz7tjP2n4mAXU\n",
       "ouIm982kO3bcIXs/qxZhgOMRirpjF+xiZEG1iu/gjZH5Lt2dsInTi3b1WeBDqfTeHdtHoZQqu27N\n",
       "6FLukzmfj0OiFHkJHAYebARormqJcfUSG+LCo9HavNYD7wqwF7gKv9x43IVzO5k+CjZnt1KY9mG/\n",
       "uoMLQo0diA5BoOzooc1qaMS+53Z7BkwL3diMHaZ9KRwypGumTyR8RJgMmyATmSOUPvISGPPmt8IG\n",
       "gZyxFNcwkQJO0TDRT6/KYFmh2SUIvKA4O5KzsCPl8UFj52kZct0nEFfxzJGDvgR+U9dLz8wlmlba\n",
       "W2hlvk1NS3ohMS25bGF/FyZHfVlqUxJbCxh5HWSQMkIBmqN2gjLuUNdHzxiZ4cXDAA2v9+KHGNPZ\n",
       "R+ZgYceCLGXcb4+LEaOMQzI8f3MFsV55ngu63bL4h7qjPML6rlVd2YFO78Vs9i755FXU6u82xdwv\n",
       "aAIzEqIIaZh173bGQeooc9p8LXEK+oU7j7cBrerv46+t7DSUqk/QOhI2joAvzaIcoor1Fw1hLJTw\n",
       "YZpWiyvVSqIctMTSX5jFgJnVqTMmYs/65Fk8pzP7YmbefXvzE+kouvsSSJJZ4pXL0oFE3e7hkxXz\n",
       "HvLE75mQoFIHvijxpp9kkVwLJO0fjEpKMAZpLpupzzXk91NM1Ry7/t3cVeaJf9/+G1IFdsK5sIHd\n",
       "Kdavv/HmhRVR7Fc7xH5tU/axX/hfbRv/638/I6mUrcvA3wAAAABJRU5ErkJggg==\n",
       "\" style=\"display:inline;vertical-align:middle;\" /></a><br>"
      ],
      "text/plain": [
       "<IPython.core.display.HTML object>"
      ]
     },
     "metadata": {},
     "output_type": "display_data"
    }
   ],
   "source": [
    "relax_equal_to_less_eq = Forall(\n",
    "    (x, y),\n",
    "    LessEq(x, y),\n",
    "    domain=Real,\n",
    "    conditions=[Equals(x, y)])"
   ]
  },
  {
   "cell_type": "markdown",
   "metadata": {},
   "source": [
    "### Transitivity Theorems\n",
    "#### Notice that transitivity_less_less is an axiom, not a theorem. The other transitivity theorems can be derived from that axiom."
   ]
  },
  {
   "cell_type": "code",
   "execution_count": 6,
   "metadata": {},
   "outputs": [
    {
     "data": {
      "text/html": [
       "<strong id=\"transitivity_less_eq_less\"><a class=\"ProveItLink\" href=\"proofs/transitivity_less_eq_less/thm_proof.ipynb\">transitivity_less_eq_less</a> (conjecture with conjecture-based proof):<br></strong> <a class=\"ProveItLink\" href=\"../__pv_it/theorems/b7711babf5538bc0420cd9132c105ee1677756790/theorem_expr.ipynb\"><img src=\"data:image/png;base64,iVBORw0KGgoAAAANSUhEUgAAANEAAAAXBAMAAABnpbd1AAAAMFBMVEX///8AAAAAAAAAAAAAAAAA\n",
       "AAAAAAAAAAAAAAAAAAAAAAAAAAAAAAAAAAAAAAAAAAAv3aB7AAAAD3RSTlMAq1RmmUTNIjK7EInv\n",
       "3XZ/CtNrAAAACXBIWXMAAA7EAAAOxAGVKw4bAAACy0lEQVRIx61VTWgTQRT+dpPNbjY/DXgQI5SA\n",
       "PehBCCKIIFUomiJYCkUhFjTkUvAgKVQPtZbk0IMYJSha9FAWFQUDJRYRmoMED0UQJeAPBWnZSqVo\n",
       "IfRW8eSb2Wx23XVDhR1Ivpl5s/O9+d6bN4B/TfY2FeBr++ZtukC/BOvs84NIrHnb4mngJOuM+cH0\n",
       "tJvxElBiAlf8YBroZjwMhDQgkvKDqeGS0yZVVEOAFAz5EqacYyLwSbMGIaJ5v7Lyzg+mICWE2kre\n",
       "XDCT4Gub6NaynEaEMm8QeOj18f8wMa+DWNPPGMPqantevbz4gg5IJx6HnPD4OPy3PLNdmWIU7CM4\n",
       "ru3io4mPnfusoU4fUxTDWmR4J0zinHuBLRCI0i5FnDIGQt5mqdIyZYt20D0Tws4UuOu2TyQdTMAH\n",
       "N5Os05/EMjPXT3+tzDrVJmkNAg/i2FmLKb4+nUH8Di8qCV5T2lDaTb5+uTJsqQdpG88d6mEEKp2n\n",
       "Sb0Fur/xwp4QrZzv0crMODh6wmLaECp55Q0Prv5baXQgm2FJM/PSFECHek9ooObICDHFvA+w4jBF\n",
       "/gUwp1B38iB+cPM1m3rpsF7EgTrT4VEzXjEhWze0Masd5bH460lDMqvA/KoRxRuLm8vGHYBQZBPb\n",
       "fHovehkouj1OPazm842FmqC3wTglcNsUSWlCHdL7DlmRNS5UTVwifWOdrFMa/HX5jLeGtJM2pjJ/\n",
       "XkoZtj7K3OJQ5ZGT0rKZgMvOhAnYqtF1szMVyQVRpdXSFoGcn6l0mOTGK/CojScRK16EWuNAsWXZ\n",
       "eHV/1lZEd1B+g99f/0Q5hb6jOYLg46WCdaah0ZbWfjjFgfsg2Ri0E//0sY7j4S4Pq/O1SKmFMNWU\n",
       "1L9rBLVnoM1FA1xVQ+3y9ji8kDRBP8fAk6lXovJ13gB3m/Zm2nBEEFJ/jYGbSXlAbRYjmyzrDfC1\n",
       "yX5u9gcWIql6NlI93QAAAABJRU5ErkJggg==\n",
       "\" style=\"display:inline;vertical-align:middle;\" /></a><br>"
      ],
      "text/plain": [
       "<IPython.core.display.HTML object>"
      ]
     },
     "metadata": {},
     "output_type": "display_data"
    }
   ],
   "source": [
    "# proven\n",
    "transitivity_less_eq_less = Forall((x,y,z), Less(x, z), conditions=[LessEq(x,y), Less(y, z)])"
   ]
  },
  {
   "cell_type": "code",
   "execution_count": 7,
   "metadata": {},
   "outputs": [
    {
     "data": {
      "text/html": [
       "<strong id=\"transitivity_less_less_eq\"><a class=\"ProveItLink\" href=\"proofs/transitivity_less_less_eq/thm_proof.ipynb\">transitivity_less_less_eq</a> (conjecture with conjecture-based proof):<br></strong> <a class=\"ProveItLink\" href=\"../__pv_it/theorems/a9d9e1badf965d9eaed1582bdd5dda60a395e68d0/theorem_expr.ipynb\"><img src=\"data:image/png;base64,iVBORw0KGgoAAAANSUhEUgAAANEAAAAXBAMAAABnpbd1AAAAMFBMVEX///8AAAAAAAAAAAAAAAAA\n",
       "AAAAAAAAAAAAAAAAAAAAAAAAAAAAAAAAAAAAAAAAAAAv3aB7AAAAD3RSTlMAq1RmmUTNIjK7EInv\n",
       "3XZ/CtNrAAAACXBIWXMAAA7EAAAOxAGVKw4bAAACyklEQVRIx71WTWgTQRT+NslmN5ufBjyIEUrA\n",
       "HvQgBBFEkCoUbREsgaIQCxp6KXiQFFoPtZbk0IMYJSha9FAWFQUDZS0iNAdZPBRBlIA/BKRlK5Wi\n",
       "hdBbxZNv9ie7btzYwuKD7DczbzbfzPfevFnAPxO8XQX4al+9XRfol2SNfX4QBRRvXyIDnGSNUT+Y\n",
       "nnRyXgJKTOCKH0x9nZyHgbAMRNN+MKltcjqkiskIkoJhX8KUdw0EP8p2J0w075aX3/rBFKKEkJqp\n",
       "GwtWEnwxiW42hAyilHkDwAOvl3fCxFYdwqp2xuhWV8xx6fLic9og7XgMQtLj5ci/BJt1dOIU7CM4\n",
       "Lu/Se+MfWudZRo2mUhQjcjS7PSbZTTTn7MXoX4o4ZXS4EYenSi+KmzRf80yIP5nGU66I34GbCXjf\n",
       "ziRo9OBZZuZ76dHsX6PaxK+C04M4etZmSqxN9xOUdlNRSeo1RYfEbeYUP09kbfXAb+GZSz0MQaL9\n",
       "1Km1QOc3UdgTppnzXXKZOQeGT9hM61yFVpgjNkn7JaomiK+NpJl5YQmgQbrLqVBcGRFIs9UHWXGY\n",
       "omUGMSdSc/Igvuvuqw71MhGtiFyN6fCwnqhYcKBmaGNVO8rjwM/HKm9VgfkVI67XFzcaxhkAV2QD\n",
       "W/rwXnTrmmjOOHUVYO6AUzitBTo5blkiiXVIg1rPITuOxoFSAkukb7yVdaKq3y6f8MaQdtLBVKbr\n",
       "papHJZ6NFW0okaB8RrBSsuFOqKCjGl2zGlPRfAhVms1vEggjM5UWk6C+BEUtwTItXrwISdGB2VgK\n",
       "V/bnHEV0G+U39O3VD5TT6DmaJwg9WirYexocbspmUgf67jEhGZhX6eljrYVHOlys7tsiLRUiVFPS\n",
       "fz9PVBGegtEZ0GZSh7vHtQpe5rRzDDyrUTdP5eu8Ae027c207oog+F6FgSfT0AbLeh3E+2Sz/+Fj\n",
       "Z+f2G+Z5qXqsIhMMAAAAAElFTkSuQmCC\n",
       "\" style=\"display:inline;vertical-align:middle;\" /></a><br>"
      ],
      "text/plain": [
       "<IPython.core.display.HTML object>"
      ]
     },
     "metadata": {},
     "output_type": "display_data"
    }
   ],
   "source": [
    "# proven\n",
    "transitivity_less_less_eq = Forall((x,y,z), Less(x, z), conditions=[Less(x,y), LessEq(y, z)])"
   ]
  },
  {
   "cell_type": "code",
   "execution_count": 8,
   "metadata": {},
   "outputs": [
    {
     "data": {
      "text/html": [
       "<strong id=\"transitivity_less_eq_less_eq\"><a class=\"ProveItLink\" href=\"proofs/transitivity_less_eq_less_eq/thm_proof.ipynb\">transitivity_less_eq_less_eq</a> (conjecture with conjecture-based proof):<br></strong> <a class=\"ProveItLink\" href=\"../__pv_it/theorems/35efeecb8df0e82550d7ccc2b45f6f7c61162ce30/theorem_expr.ipynb\"><img src=\"data:image/png;base64,iVBORw0KGgoAAAANSUhEUgAAANEAAAAXBAMAAABnpbd1AAAAMFBMVEX///8AAAAAAAAAAAAAAAAA\n",
       "AAAAAAAAAAAAAAAAAAAAAAAAAAAAAAAAAAAAAAAAAAAv3aB7AAAAD3RSTlMAq1RmmUTNIjK7EInv\n",
       "3XZ/CtNrAAAACXBIWXMAAA7EAAAOxAGVKw4bAAACzUlEQVRIx7VWTWgTURCe3exmf5KmAU9WKAF7\n",
       "0IMQRBBBqlA0RbAUikItaMil4kFSUA+1lvTQgxglKFr0UFYtChZlLSK0B1k8FEGUQFUCEtlKpWgh\n",
       "9Fbx5Mzb3exm1y0trAN582bm7fvem5k3E4DoSAo3FSFS+h5uOou/NE12RwHE6+G2VBbgGE2Go0B6\n",
       "EoD2bHsBYIIcXIkCqccnxz5prnAAII5iIhMFkuFz2FcPECQ1iKEH45GEKd8izn5rEeMI86Fefx8F\n",
       "koAJoTY6bswxaWapabhZk7KQwMzrBXgQ9vF2kOjUAiybJ0l4WGjq1YvzLzFoeOMRkNIhHyut7pkK\n",
       "OMyracNgH4Qj2g4SOBdJ0mABl2IUFS3RvxUkfjoA1KJJ4i4lOG5Ll5Y8IcPUkNdxvRmaEF6k2B2/\n",
       "1adJsvN+DGaEZOIgUmbmu3Fo5FawNonLwLEgDp9ykVIr4zlI3WZFJc1qCmOWRv5yud/1Hogb8Myf\n",
       "5QOg4n2qOJvD95sq7ozjyhftWpmMvUNHXaRVrlKQ37Lgmn9kw2aWBoTJV44DTFDvcgbovpfLZ+j0\n",
       "MSoOY3jMGEzLOB3dBz/Zqqse72UVswR7F8gPj6qpisOYBgVnZ8xj/veMIbpVgD9P4/X5tZr1BoAr\n",
       "kWKDGXdBJ/OJ6Y1TO9X8QdqY0zmzyZgGbjn7ylVQ+8yu/f5w6vwi+retmXWywbrLZ3hnuXbUg1Rm\n",
       "7WUiR+uTdCybkUbMSk7RqW322q45k7FEXoBZXC2uI5MKk5UmkmS8Bha1kQ5oK50DVWfM1lzZM+gp\n",
       "olsov8KPN7+gnIGuQ3lkwuPFonunvqGGZjdOvuceYCoQszUnDjdbg+JprM/rRO4t/d0ioxYVrCmZ\n",
       "f9cIpKeAb4i3WIDUTXqP0treRY0zTxMLReoUsXydsViQxsORVn2PHsRunVgQSb6PNAUDa5T1jNma\n",
       "//9nZ/v0F2jZsht3j4QAAAAAAElFTkSuQmCC\n",
       "\" style=\"display:inline;vertical-align:middle;\" /></a><br>"
      ],
      "text/plain": [
       "<IPython.core.display.HTML object>"
      ]
     },
     "metadata": {},
     "output_type": "display_data"
    }
   ],
   "source": [
    "transitivity_less_eq_less_eq = Forall((x,y,z), LessEq(x, z), conditions=[LessEq(x,y), LessEq(y, z)])"
   ]
  },
  {
   "cell_type": "code",
   "execution_count": 9,
   "metadata": {},
   "outputs": [
    {
     "data": {
      "text/html": [
       "<strong id=\"symmetric_less_eq\"><a class=\"ProveItLink\" href=\"proofs/symmetric_less_eq/thm_proof.ipynb\">symmetric_less_eq</a> (conjecture without proof):<br></strong> <a class=\"ProveItLink\" href=\"../__pv_it/theorems/ff83459a5ad389effc70e59d0989358838d8431c0/theorem_expr.ipynb\"><img src=\"data:image/png;base64,iVBORw0KGgoAAAANSUhEUgAAAMUAAAAXBAMAAABJ4JbnAAAAMFBMVEX///8AAAAAAAAAAAAAAAAA\n",
       "AAAAAAAAAAAAAAAAAAAAAAAAAAAAAAAAAAAAAAAAAAAv3aB7AAAAD3RSTlMAq1RmmUTNIjK7EInv\n",
       "3XZ/CtNrAAAACXBIWXMAAA7EAAAOxAGVKw4bAAACV0lEQVRIx61WPWgUQRT+dm/3bm/37oxoEwUJ\n",
       "mCaFsIggaS6KRG38qSzNdoLV2kqUaCdJoYWFCjIBsVCQI4VlWKwEMVwj2BxsJCKxCOmS0vdm57L/\n",
       "C7L3YHdmv2/efLvz3rxZYBLWKqd8TMh+lVN36Zriztl6EvqgnOu5wCJ37tXTeF9F3gee8HI+r6dx\n",
       "pYq8ADQF4MzU0wiqyI5Ag9arWTMcXhXbJIHvo9G3ehoGhdzeO7W6kYbtHRfrtEiUVdeB1zm3S/+j\n",
       "wW9qYDu8wXojaZytjh5gAWjQVz5Aayrnlk6CudxGSiFdCudFLIgT6TFPjSGmaSUpWm3h3K7WmAtz\n",
       "EimkQ/4ruJodJDohtgBrn3TCgpAnNebdLJtBOvIdt3KTLAnrEDA567w+3fau7dDnm9vQEhoS3OXE\n",
       "VkTUSER5jNcK5gE+pONBX9aj+fUhdTdoJ/b86SaN/HRMrMUaElyTEypCNhGiPNjaIeyXWoBsRXmB\n",
       "Nmk1eK5l7uCtRd2H57Aba0hQfyNiQjYRojzYKDv1w3eBmd3Jl7HkRpkNbYWBAwmfxplkPBg05ZSK\n",
       "kE2EKA8yawj7Zjh7PhuP9c1btJrdo4yyAnkG/MDXhEYEWif9IyJqJKI82H6W7ZzPdD0aPyw7noGP\n",
       "NNrcjzUkyCXzuJBEzBMyJlXZKzDHs78kC6bxe/MvB3N23os1JKiOOSYSfCsmOeiFh1031Ab5mj5j\n",
       "+223YJ9T7ZFEzGfYwrNB7y/m9U2hhXdQqCGJBJ+xx+XF7E/6sQGzP8hqPHtF5ktC8RFS/ydgYn8T\n",
       "bP8Am8GsbKGRpQ0AAAAASUVORK5CYII=\n",
       "\" style=\"display:inline;vertical-align:middle;\" /></a><br>"
      ],
      "text/plain": [
       "<IPython.core.display.HTML object>"
      ]
     },
     "metadata": {},
     "output_type": "display_data"
    }
   ],
   "source": [
    "symmetric_less_eq = Forall((x,y), Equals(x, y), conditions=[LessEq(x,y), LessEq(y, x)])"
   ]
  },
  {
   "cell_type": "code",
   "execution_count": 10,
   "metadata": {},
   "outputs": [
    {
     "data": {
      "text/html": [
       "<strong id=\"positive_if_real_pos\"><a class=\"ProveItLink\" href=\"proofs/positive_if_real_pos/thm_proof.ipynb\">positive_if_real_pos</a> (conjecture without proof):<br></strong> <a class=\"ProveItLink\" href=\"../__pv_it/theorems/f862d9992208f1b0ea6eb0ee11d649d0845c79f50/theorem_expr.ipynb\"><img src=\"data:image/png;base64,iVBORw0KGgoAAAANSUhEUgAAAIEAAAAVBAMAAACTeZA2AAAAMFBMVEX///8AAAAAAAAAAAAAAAAA\n",
       "AAAAAAAAAAAAAAAAAAAAAAAAAAAAAAAAAAAAAAAAAAAv3aB7AAAAD3RSTlMAq1RmmUTNIjK7EInv\n",
       "3XZ/CtNrAAAACXBIWXMAAA7EAAAOxAGVKw4bAAACG0lEQVQ4y52UT0gUURzHv83O7uzM7A57KlCI\n",
       "gaCLpHuIDpK64qqRBEuCF6MED0KHGO8Fdg5xO+lssLyDCCKyW0GWEQgRBBGECHtamIVoRRA8CEJd\n",
       "+r1pZ2bfOjuEA4/3e39+n/d+3/f7DfAfn3WBFeEzzK5LD6lluHEtktAXPv3xpwUjC4zzwUIUQJsL\n",
       "nU6YWg14DDyngVKMIsjZ0Okh4ANwk1AM0M0oQqrN3ghoL4EBhhRDjOYSkTJcb4/ok+OZp8CKiQS5\n",
       "f6/Xv0USpnicvc2W6/Fui8UJWej0EneA0nk3PTDnqT2w1N9e/HfdTvlDBAcxknkRSiZEvsDcpwM/\n",
       "Q/7hRzXpE6qQ9gCV6YU21xvvRp+IhC80OkG66k/M9PAoiPDIQfIEkBxfyGTDLhg6dqqdhFQRleCY\n",
       "mVJLyQETcboD5oa9pfwSpbCBQUfP38uPt0VRcTASvM0Vt7OBEQaJB/eG8gpbwztuinLCUU64Q5kI\n",
       "Ji5LrSoamvzX3wYmgBhPxqckpFZLnmHTLSNdKWcFwmvSypEOZPE1kTa1r7SPy3OJ7i7nknuYdgny\n",
       "q6Ko5DIdcPX94qGbBcd+RmlTDXJMe/KkCkYGt2zbNg1Dvy/mQ3opsLc7a+SZZ1QsdZC9cO9gxGeZ\n",
       "sCmWi0jYMb96rJVppjJXB+x2uKx2BwRVHR/rfwtljT/2r+r6hLhtsztB7fjNbdl2IewgpyuhCfwF\n",
       "bzF1J0/aRGoAAAAASUVORK5CYII=\n",
       "\" style=\"display:inline;vertical-align:middle;\" /></a><br>"
      ],
      "text/plain": [
       "<IPython.core.display.HTML object>"
      ]
     },
     "metadata": {},
     "output_type": "display_data"
    }
   ],
   "source": [
    "positive_if_real_pos = Forall(a, greater(a, zero), domain=RealPos)"
   ]
  },
  {
   "cell_type": "code",
   "execution_count": 11,
   "metadata": {},
   "outputs": [
    {
     "data": {
      "text/html": [
       "<strong id=\"negative_if_real_neg\"><a class=\"ProveItLink\" href=\"proofs/negative_if_real_neg/thm_proof.ipynb\">negative_if_real_neg</a> (conjecture without proof):<br></strong> <a class=\"ProveItLink\" href=\"../__pv_it/theorems/9def80ac868942d53cb7cc4621c1b09da26c0a960/theorem_expr.ipynb\"><img src=\"data:image/png;base64,iVBORw0KGgoAAAANSUhEUgAAAIEAAAAVBAMAAACTeZA2AAAAMFBMVEX///8AAAAAAAAAAAAAAAAA\n",
       "AAAAAAAAAAAAAAAAAAAAAAAAAAAAAAAAAAAAAAAAAAAv3aB7AAAAD3RSTlMAq1RmmUTNIjK7EInv\n",
       "3XZ/CtNrAAAACXBIWXMAAA7EAAAOxAGVKw4bAAACD0lEQVQ4y52UMUgcQRSGf/f2bm9375ar0ghh\n",
       "IWAj6hWSQqJeuFMEm0UhjcGIFgELWcEyAVOHoKl0E5ApbA4hdyrERBtBhIAIQQWLoKwgMaSyEAKx\n",
       "8c3oXW6Wu0EysOy8NzvfvPe/NwvcY/j/sSINx224NEpPhk8eKQmt9d1b5z6cLNDHjZcqgDVW151w\n",
       "rWNgEnhDhjGvIujZuu5u4CvQSSgG2K6KkIo6NBHye6CDIcUQoxMSShlaInbsiPHXFTDnIkHb909O\n",
       "9pSEQZ5n80VYqcwPAbA4IQubKjEAfFASJuh57pt/b62V09u3cU2EEDGSeRpGRkk4oAN3oH8Xxswh\n",
       "aghlaNuAyWyv5vu2z0+nZMIuleMS6TKfN41Xa0yEFyGSl6RsWBUyeRZ4jo2NcpSQmkfJkwlcyQ4X\n",
       "cYoBYz0VZ2GWhHLQFRqFQqGvJotSiF7IWSAAehk0ntzaJBeoZ0O0KCf8zkkxLBHBxQPNl5TEE6Cf\n",
       "Ssub8RUJaR0n/6AoimUbS3ITrpJWoXak35mfTkU1kXatb6QQz7iJYtdzyW0MC4L+MdLj7+iAh1+m\n",
       "f1U76q4hBs9oY7pShZTnZPA4CALXcewhmZCejTZlzUV8XZmUfLOLvRUxOPERJm/IKZolX709/tww\n",
       "M5nQAZuRLQuNAf9udTzfvg5jkWbPfpaX++XPio0JZuQ3txIEXr2DwoaEC+AGSzV3O7scEqcAAAAA\n",
       "SUVORK5CYII=\n",
       "\" style=\"display:inline;vertical-align:middle;\" /></a><br>"
      ],
      "text/plain": [
       "<IPython.core.display.HTML object>"
      ]
     },
     "metadata": {},
     "output_type": "display_data"
    }
   ],
   "source": [
    "negative_if_real_neg = Forall(a, Less(a, zero), domain=RealNeg)"
   ]
  },
  {
   "cell_type": "code",
   "execution_count": 12,
   "metadata": {},
   "outputs": [
    {
     "data": {
      "text/html": [
       "<strong id=\"non_neg_if_real_non_neg\"><a class=\"ProveItLink\" href=\"proofs/non_neg_if_real_non_neg/thm_proof.ipynb\">non_neg_if_real_non_neg</a> (conjecture without proof):<br></strong> <a class=\"ProveItLink\" href=\"../__pv_it/theorems/1f9bc40d4fed8d27d9ff3f204734219c4136668d0/theorem_expr.ipynb\"><img src=\"data:image/png;base64,iVBORw0KGgoAAAANSUhEUgAAAIcAAAAVBAMAAACeZ+BxAAAAMFBMVEX///8AAAAAAAAAAAAAAAAA\n",
       "AAAAAAAAAAAAAAAAAAAAAAAAAAAAAAAAAAAAAAAAAAAv3aB7AAAAD3RSTlMAq1RmmUTNIjK7EInv\n",
       "3XZ/CtNrAAAACXBIWXMAAA7EAAAOxAGVKw4bAAACOklEQVQ4y42UT2jUQBTGv+5uNslkNyx6EDxI\n",
       "oKCntjkUD8XWSLdVLOJioRdB9yZ4kPSuS3vy4KH1ZirUEUSQKi4qFivK3uofhF6kBVlIpSgoQhHF\n",
       "gyC+CTtJdteYHQi8mXn55c33vgzQ21ATd1z0PD4m7pyjpySC/jRGpv7P5ec7LkwbmBCTC2mQu7HQ\n",
       "DsO8xTaBi8C8OPBiGmQ8CtkLX4ajwDNgmGgcMKw0SCM++bbWCq4DQxwFjixVl0+VpNo2HW1RfgAL\n",
       "FvJEeNdsvk2D5ISusy9rcn7weHAwAbFhUG9OAEtpEPExZR23uFyY2S+k/E0QH1kqcxZqqfMlNiXS\n",
       "a4PSSEUS7b6NU2HCzJKE1JEhwXRuVGLvDzw9don2n7iid1KKAmWcBj6Ex9kXfIog531ouySaH+qq\n",
       "bXsV08AqKcB2KqyBNzHIa7CfUtiTobBDFhTRuuqYhJTnANPEiDCC+l7dwFZ0HPYH2d2OFnvAUY7M\n",
       "BoWPyHJYGVsNDCwgXxwqaopTJeutbN0H+46+6qF2sx0BJoGssOpl0pVtar9wT2yYhrpsQ9krSgw1\n",
       "EV1cxoDjtNu+aLFXrf730SFyjtbAdADJ3VwE2yPCWr/sjkYV3/569cBcZxO3aaVYCZUzSzjseZ5l\n",
       "msaZbqNs/cdEV2Tw0NVH+LWgElM5y9VyuTwRTxzu5ecsuAvTXOeBJlhzuhL16P560BQjKi26ApTx\n",
       "wcdQbwgvfqrfmeyCsOTLQu+4H1c8r5KQWkuEfAb+Av/YiEWJ0iNyAAAAAElFTkSuQmCC\n",
       "\" style=\"display:inline;vertical-align:middle;\" /></a><br>"
      ],
      "text/plain": [
       "<IPython.core.display.HTML object>"
      ]
     },
     "metadata": {},
     "output_type": "display_data"
    }
   ],
   "source": [
    "non_neg_if_real_non_neg = Forall(a, greater_eq(a, zero), domain=RealNonNeg)"
   ]
  },
  {
   "cell_type": "code",
   "execution_count": 13,
   "metadata": {},
   "outputs": [
    {
     "data": {
      "text/html": [
       "<strong id=\"non_pos_if_real_non_pos\"><a class=\"ProveItLink\" href=\"proofs/non_pos_if_real_non_pos/thm_proof.ipynb\">non_pos_if_real_non_pos</a> (conjecture without proof):<br></strong> <a class=\"ProveItLink\" href=\"../__pv_it/theorems/78e66f2c6cb9ce3976ecaf7b7588b329d4e6d2f00/theorem_expr.ipynb\"><img src=\"data:image/png;base64,iVBORw0KGgoAAAANSUhEUgAAAIcAAAAVBAMAAACeZ+BxAAAAMFBMVEX///8AAAAAAAAAAAAAAAAA\n",
       "AAAAAAAAAAAAAAAAAAAAAAAAAAAAAAAAAAAAAAAAAAAv3aB7AAAAD3RSTlMAq1RmmUTNIjK7EInv\n",
       "3XZ/CtNrAAAACXBIWXMAAA7EAAAOxAGVKw4bAAACOUlEQVQ4y42UTWgTURDH/8km2a90CUjBkyz0\n",
       "4KltDsVD0XalSSmIGCx4ETR4UXqQFHrU0J48eKjeXIV2C0UorRgUDCpIbvUDoaDSQolsRRT0UkTx\n",
       "IIgzz+xm87HdPFh25u17v535z7wH9Dbk0C8l9Dw+hX65QE+GjYEoRrzSdfr55xKMLJBn53IU5H47\n",
       "VOxImdo2MAMscMK3oiATra703uHXCeApMEI0cnUzClJr8YxdwcBtYNhB2oFEKaUiJSkGvfWPDeMn\n",
       "sGgiRYS39fqbKEiCdZ19URbO6rvGrMaQLHSqzRRwt9tGLWDzz5KbWOYsVi75vfOHIC4kCnMWcqYL\n",
       "QzqM8pDXSH0k2kYWp9mOtUIqiJNgqqMXApsHn5y8ynlPce08KdK04gywK5w5Px2CXHSh7JNorq+r\n",
       "smcXDB3VCuaqtKaG1wHIK2i/OoUdNpHk0hXHPEhunspnYNSVP3C0W9hppqP9hbTfVmIbGHcQ3yLz\n",
       "0QzTx6qigRnyzYLULyLZbOxSXWg/ECsebW2248AkOdyq10hXbVv5jTXxF11eIlj8EIXoa8JVXMKg\n",
       "ZfmNc+V/gNrLRv1jlETCUmqYFpDEPXEIlDzKA151FIp45fuNI/NtXXBqj2b6Cr5yRgbHbNs2DUM/\n",
       "21nwnQM68bpnPCypo85NEYmRPO/IuVwuH1w40svhTJcWpx3VEZrgmdWxUG3eXw/qPJqhNa+A5MTQ\n",
       "Y8h3yDr3pbI62XkGwi8Lte1+XLftQsjScijkK/AP/5GItuSmN3MAAAAASUVORK5CYII=\n",
       "\" style=\"display:inline;vertical-align:middle;\" /></a><br>"
      ],
      "text/plain": [
       "<IPython.core.display.HTML object>"
      ]
     },
     "metadata": {},
     "output_type": "display_data"
    }
   ],
   "source": [
    "non_pos_if_real_non_pos = Forall(a, LessEq(a, zero), domain=RealNonPos)"
   ]
  },
  {
   "cell_type": "code",
   "execution_count": 14,
   "metadata": {},
   "outputs": [
    {
     "data": {
      "text/html": [
       "<strong id=\"less_than_successor\"><a class=\"ProveItLink\" href=\"proofs/less_than_successor/thm_proof.ipynb\">less_than_successor</a> (conjecture without proof):<br></strong> <a class=\"ProveItLink\" href=\"../__pv_it/theorems/f8ef3216f1cc39d0ed1642723161805806fdf2200/theorem_expr.ipynb\"><img src=\"data:image/png;base64,iVBORw0KGgoAAAANSUhEUgAAAKkAAAAVBAMAAADP89MSAAAAMFBMVEX///8AAAAAAAAAAAAAAAAA\n",
       "AAAAAAAAAAAAAAAAAAAAAAAAAAAAAAAAAAAAAAAAAAAv3aB7AAAAD3RSTlMAq1RmmUTNIjK7EInv\n",
       "3XZ/CtNrAAAACXBIWXMAAA7EAAAOxAGVKw4bAAACKUlEQVQ4y2NgwAsKSBKGSBQwEAB8CqQIA0Ec\n",
       "FAuAOMo4FGmTIsxxC2ifAQS7ggTSsevmSiBBeKHbLyCZBcGNQIp9AnZTWQyIEGaF8fhApppAMNsC\n",
       "BgZuHOHEgy7AlI4pzPQA2VSeBWDMDLSKDUewqqHxma8swBRGNZXNAILP3r17Goep3qDQkX4O13Z7\n",
       "ARZhVFO5BSDYg4FhFg5Tk4E4poDzF4S3+h5WYVRTmRMguJCBXQDJJN1tjnkw9iVgfB9mYLkA5pRc\n",
       "xiqMZirTAQjmXMAdAEtxD2cG8HEzbN8A5R8FxvcHBl4wlzEJbjGSMMvdu3eAQSgAN5XjAwQzPYBH\n",
       "lksDUI6PweoBQjvPBIb1AZimwoXR3cp6AIIZEuxAgWa3HZwpQKa+ckB4df0DBnsGzBBACKOHwAUI\n",
       "ZtgEzAtc1zm+M6wEy3Gzz4Ol63lA7QoMYkwFqLGFKowWWxMgmKEGGCosDhwHGILBciyz4TltIzDU\n",
       "HzBdYYFy191bgEUYbir3d1BAb4BgBkZgaPIE8AkwmM2cOVOBj487CGZqL9ATcjsKX8BzASTBogrD\n",
       "TGWU+SbMwMAbAMFgsL6A02pBN9itfKzRC6CivA3omSsdUxjuVjCohWJIji/oD17AuQAcrgy7YLHF\n",
       "7IA1c6AKs6KUNc5QDJFy1tvMwD4DyAp7tmGJG0x4OvY8Nx1nMQ8q/dBLwNUzZwagCKzErnclTlM5\n",
       "CyAYL2B/QIowEDyHYAD/VaO/ZPaAYAAAAABJRU5ErkJggg==\n",
       "\" style=\"display:inline;vertical-align:middle;\" /></a><br>"
      ],
      "text/plain": [
       "<IPython.core.display.HTML object>"
      ]
     },
     "metadata": {},
     "output_type": "display_data"
    }
   ],
   "source": [
    "less_than_successor = Forall(a, Less(a, Add(a, one)), domain=Real)"
   ]
  },
  {
   "cell_type": "code",
   "execution_count": 15,
   "metadata": {},
   "outputs": [
    {
     "data": {
      "text/html": [
       "<strong id=\"less_than_left_successor\"><a class=\"ProveItLink\" href=\"proofs/less_than_left_successor/thm_proof.ipynb\">less_than_left_successor</a> (conjecture without proof):<br></strong> <a class=\"ProveItLink\" href=\"../__pv_it/theorems/189b87b3672bd923af271dc822a3a93d5cb1eb3b0/theorem_expr.ipynb\"><img src=\"data:image/png;base64,iVBORw0KGgoAAAANSUhEUgAAAKkAAAAVBAMAAADP89MSAAAAMFBMVEX///8AAAAAAAAAAAAAAAAA\n",
       "AAAAAAAAAAAAAAAAAAAAAAAAAAAAAAAAAAAAAAAAAAAv3aB7AAAAD3RSTlMAq1RmmUTNIjK7EInv\n",
       "3XZ/CtNrAAAACXBIWXMAAA7EAAAOxAGVKw4bAAACNklEQVQ4y5VUQWgTQRT93d1ks9lkSUG8CBIQ\n",
       "vIglB/HQQ02pFUGExYIXRaIeAh50Cx4V6llKe6urEObQSyjYqGDFiwHpScWqBQ+yZb1Y8WJvgif/\n",
       "7p+ZZJKd2nx47P43f97M/D9/APa1YCSaBgL4j3nVUWi0axyVxDmmCTqhpxdZ5no1wmziNLNnFxs6\n",
       "unjoTqYq3CI8wI+9nK1q1fT0b6E6p4ydIuRx1NXkqTRIGE1JS9UJdQpLYeLCeU1ajw/45jaTtEY1\n",
       "XyN8iKJ3GtULSXaO7MaiFN+YpIdVKdCtEM4DPNao3kRcDZy/5K3t9NHDqhRoNgjzYFf6lE6+nL4t\n",
       "/j9jvd+CtZU6d7/00cOqPNDoEhzm+jyg8D30PRc2OtzfxHrvQTl1x27IhTd7qhej6H0UfQIZWNgj\n",
       "GLEs1tkFTJ4Hk3FvemkZ1n29am+vPDDXJUBjKkna1EbaFInqr3rvqOsxnIGDZIAHGlsEeI69UPxa\n",
       "+APttNCu3RKXv4XBVThsBGq1WpmqFGhiQyWAe1gsq17oUpd41hPZac8w67GxbXH36Q4TNMCbQFXl\n",
       "gVaHAGOYzZLvVeB0GIZVz3MvCdVFPMTRV/M/ZRfQhUUaxj9er6l3gALLPoH2HziT7GG6Vy93RRyu\n",
       "vDDYXM1hWu2t+xxUwWBpjjkszSu8FtUy65nNodLq6zLDkVpuZuIF2I/w7/KPzuo5Qa9k99yK9plP\n",
       "Xr/BF3AtDH2FaGfPbWtVnYCwr9nxKDTaLuEfzMihwVXzQ0UAAAAASUVORK5CYII=\n",
       "\" style=\"display:inline;vertical-align:middle;\" /></a><br>"
      ],
      "text/plain": [
       "<IPython.core.display.HTML object>"
      ]
     },
     "metadata": {},
     "output_type": "display_data"
    }
   ],
   "source": [
    "less_than_left_successor = Forall(a, Less(a, Add(one, a)), domain=Real)"
   ]
  },
  {
   "cell_type": "code",
   "execution_count": 16,
   "metadata": {},
   "outputs": [
    {
     "data": {
      "text/html": [
       "<strong id=\"less_than_an_increase\"><a class=\"ProveItLink\" href=\"proofs/less_than_an_increase/thm_proof.ipynb\">less_than_an_increase</a> (conjecture without proof):<br></strong> <a class=\"ProveItLink\" href=\"../__pv_it/theorems/49394061a59152e7a41a60e7b35ad057c07c0eaa0/theorem_expr.ipynb\"><img src=\"data:image/png;base64,iVBORw0KGgoAAAANSUhEUgAAANUAAAAXBAMAAABuThcPAAAAMFBMVEX///8AAAAAAAAAAAAAAAAA\n",
       "AAAAAAAAAAAAAAAAAAAAAAAAAAAAAAAAAAAAAAAAAAAv3aB7AAAAD3RSTlMAq1RmmUTNIjK7EInv\n",
       "3XZ/CtNrAAAACXBIWXMAAA7EAAAOxAGVKw4bAAADJ0lEQVRIx71VX0gUQRj/bnfPu927W48ehBLk\n",
       "IKiHMO5BfBCyE6/oD+KR1ENFXhREBXI+SiUXRD1EeRRRa2EbSCBGt/01BUOMqIhAQiiygy0jw1CO\n",
       "oAIfom9m1tO5ZsMTauC3M/Pd3Pxmft+fAVhG87nYU3+xp2B57aPYrEdc1u9zECaT1SVRSZbYvk5g\n",
       "066N4SGiDJuI5VBJXDfFZi0pspbF8HOE4STRP1MSV6PYrEQXz7zOrJwIW8NQZgIEIiVxjRQb1lDH\n",
       "B3mhbda3muQnk0JG/rLS3FWs1YZtjFHINUyFjDK8yuVelsSlkNBof9w5P58ZYv124o3KKZvn2j+7\n",
       "AoULM2wB6F4Cw0LskQN6n8F1k0XEsLMpHEDsTalzHJf2w8ymQEYpCNrBF14CV6wwCqF3b0WhiaV1\n",
       "UyEiXuPOT0AZ47ikOQjaIKGLCVQzkFi0Z/XDhjbSn3ZiU5o4WGFzXEFc3gwwQScVC2H1FOXNQ4gI\n",
       "oORy79E3eAclCeUW+PNAIdmF0PB/MBJ6AAbIcg/5nF95CWwrcOwPrhegfRdwBTOQTXD3QurWCHjx\n",
       "TgSQrJ9fHU9jfutQR5YFcaygL8G25dtwPz4eTyxoqP0COS/QMGvDRj4OMb2aTZBQWAK4S7K6v36A\n",
       "lhHCNU3u0DW7CiaBcum93L1UG7Rv4EmuLYqNHuSKQIWU4rjS6EOQMwxwHGXV3vh/Qh8toAFfD+Gc\n",
       "MT9p1GW21THJcZHg7YHqmGPRZqbZ4A45hjSucPfyRNUYSxOaKh6iVsw/Ai2US7lKKS5CLSsz9tZB\n",
       "Pg79KMaNr2eq0oVcZgl2DnmrHrV/4WO+klS0UILB8bcehlrDMCK6HthBLM+hQT5sGBdQwwcRLr/g\n",
       "bXE+1FLZQmlR3aDthAPasim1zjxL76V795AszcOo32L+2jnEb10jzkA5Jqq9hWpdqNjBVFeLqZrU\n",
       "XzAU0yx4h77sZv4K9PKbqi5v7GXXdzyz+C3xNq6/B74rONr12erd7B+FU7MAHaiKt+2oFuerreby\n",
       "BPW5cZHDFR+w3zDmM5FtOmhcEv230+X4tgvXlANx2w3/r0X/xaa/AS6B1UuNcrNCAAAAAElFTkSu\n",
       "QmCC\n",
       "\" style=\"display:inline;vertical-align:middle;\" /></a><br>"
      ],
      "text/plain": [
       "<IPython.core.display.HTML object>"
      ]
     },
     "metadata": {},
     "output_type": "display_data"
    }
   ],
   "source": [
    "less_than_an_increase = Forall((a, b), Less(a, Add(a, b)), \n",
    "                            domains=(Real, RealPos))"
   ]
  },
  {
   "cell_type": "code",
   "execution_count": 17,
   "metadata": {},
   "outputs": [
    {
     "data": {
      "text/html": [
       "<strong id=\"less_than_an_left_increase\"><a class=\"ProveItLink\" href=\"proofs/less_than_an_left_increase/thm_proof.ipynb\">less_than_an_left_increase</a> (conjecture without proof):<br></strong> <a class=\"ProveItLink\" href=\"../__pv_it/theorems/cd01ef1256d9ccdd4d1f4fcd5eda271fd61247060/theorem_expr.ipynb\"><img src=\"data:image/png;base64,iVBORw0KGgoAAAANSUhEUgAAANUAAAAXBAMAAABuThcPAAAAMFBMVEX///8AAAAAAAAAAAAAAAAA\n",
       "AAAAAAAAAAAAAAAAAAAAAAAAAAAAAAAAAAAAAAAAAAAv3aB7AAAAD3RSTlMAq1RmmUTNIjK7EInv\n",
       "3XZ/CtNrAAAACXBIWXMAAA7EAAAOxAGVKw4bAAADJElEQVRIx71VXUgUURQ+zszuzp/j0oNQgiwE\n",
       "9RDGPogPQrayW/SDuCT1UJEbBVGBrI9SyQZRD1FKETUWNoEEYuT0awrGYkRFBBJCkS1MGRmGsgQV\n",
       "+BCdO3dW524z4Qo18O3ce+bu/c79zs8FWMYT8rGn/2JPw/Kej95mLeKzfp+DMJmsLomKM73t60C+\n",
       "Nu7pRJRiE5kcKonrprdZTgEEY56fjlCcJPp3l8QV9zYL6HlFQcZA1P2pliJoACiRkriyxYY1duBV\n",
       "RKtR0NlyL1ANGzw6ECwtXKkiw4ZtlBExCp5cwSjFq1zuZUlcAkmN9sedhfnsCH1vR+yfW8Fyhaqm\n",
       "caSEKbYA9CyBwWScDDyD61QuebRwggM4+WEMphmuvWlpHoBPUbRDKLwErsUEK8fo3opCE/W7aSEJ\n",
       "XiPDPKiWm0t+AgKWAZelkAwl6dqz5mFjG3mfdnKTmzxYaTFcKi5vBpi0J5WLafUU5U1BBQog5HLv\n",
       "MTR4BCEP5WgQ8xSctZAa4gc9qSkwRPQqIz/nV14Cy1SO/cH1AuTvHly4b2vEfS61GwZxeSBLAamG\n",
       "wupEButbg3qyTsWxgLEEy+Jvw/3ERCK5qKH8C/i8h4ZYXs2Gm2vQgo1kNk4Bd0lVDzQM2W2EcM2Q\n",
       "M3TNrYIpsLm0PuZckgXyNyhLrS3KjV7kymCAGK4IVHJp4DEgBHAcdZXfiD+h3+5dSqiXcM4an2Q7\n",
       "ZJbZMcVwkeTthZqYY5FnZ+jgDgoflWIMl2RxEwItE7tUyohaMTELLTaXcNWmuAh1tM9YW4fZPBRR\n",
       "jBtfz1RnFmqZFtg55K2Ks7UsVz9q/4KyJymceGthqNN1PaJpyg5ieQ6N/GFdv4AaPogw9QVvi+uh\n",
       "zq6p8oy7uTB944QDqmtaqjfO2ufSAntIePMwJpo0XjtH2K1rvSuQd/d4tvfG3R1bTXe1GJJhxwtG\n",
       "YrIJ7zCWPTReSh+7qeRzx172vce73XdJIL7+HoSu4GjXZ7NvszgGp+YAOlCVQNtROcF2W9nnCur3\n",
       "4yLOFTs4oOtOADm66bB+yeu/nT7uWz5c0w68n93w/57ov9j0N0cg1Ut8GelTAAAAAElFTkSuQmCC\n",
       "\" style=\"display:inline;vertical-align:middle;\" /></a><br>"
      ],
      "text/plain": [
       "<IPython.core.display.HTML object>"
      ]
     },
     "metadata": {},
     "output_type": "display_data"
    }
   ],
   "source": [
    "less_than_an_left_increase = Forall((a, b), Less(a, Add(b, a)), \n",
    "                                    domains=(Real, RealPos))"
   ]
  },
  {
   "cell_type": "code",
   "execution_count": 18,
   "metadata": {},
   "outputs": [
    {
     "data": {
      "text/html": [
       "<strong id=\"less_eq_shift_add_right\"><a class=\"ProveItLink\" href=\"proofs/less_eq_shift_add_right/thm_proof.ipynb\">less_eq_shift_add_right</a> (conjecture without proof):<br></strong> <a class=\"ProveItLink\" href=\"../__pv_it/theorems/26461229f300c5869c21c4d3f5c160fc5ebfb7440/theorem_expr.ipynb\"><img src=\"data:image/png;base64,iVBORw0KGgoAAAANSUhEUgAAASEAAAAXBAMAAAC2Z+QsAAAAMFBMVEX///8AAAAAAAAAAAAAAAAA\n",
       "AAAAAAAAAAAAAAAAAAAAAAAAAAAAAAAAAAAAAAAAAAAv3aB7AAAAD3RSTlMAq1RmmUTNIjK7EInv\n",
       "3XZ/CtNrAAAACXBIWXMAAA7EAAAOxAGVKw4bAAADy0lEQVRIx71XX4gNURj/9v6be2fuzl2SF6Vb\n",
       "aiV/mrJtKNvVRf609kZ5Ia48iAfNPiq28SQh942L1igprXJRaLXakvwXWyJMDVuEbBuhPMj3nTP3\n",
       "zjmzM9Re+eo7nTvn+835ne/fnAvQtJioSsSaEgWIeGzCPxA9j8PbiMWkGwEIkS2ettGPWU0wmosa\n",
       "q0WtjoYB1FNPwo5mcF1BP3ZMnpBaxuFc5HLK9uftZh2QKoTZ7uK6n6JdmTyjBJ4KilKkDOFH3N97\n",
       "6ZoGIFcP3AYR2MGVDqHlJ88oS8Ow+CQm5c79+uTzoA/YWvfcAulVNtM4Uk41kUbtxKEczWi7F9wh\n",
       "VwAMQRijlMH1keM8aILRWgoEJXbvzb4AI21sEcAlTqjbEAHbxqYGGN0ctUDDKiNdBXDir/sWIle2\n",
       "e4dL3oHTtsRIGYHVAJ2M0PS8CFC/2xdNidG+fKICcXQ1aS8obXXr9E5pt/lXl+3mMzn155i+4Qhq\n",
       "K+53wYBu2UetNXgMMI/NBUYIiP2ErCsxekUPYpiOpBlbKzXMZzRm6TfVkq7BtdpERnNcwfA2pSS+\n",
       "oIdeiwF0nNeYB3TGHuayo9xfftQQkChDDt/b7TgPHecpoX6yLce5xlwhse82Zsst7Fc6LHEnMFps\n",
       "iIZ1RvdA/Sb76B4bNwcz+zbz3ta86KMse39ymCuUu3AY6LpGLH+9oYNpoy41T2L0sSAwYkYf8r6h\n",
       "HzX1F8THJUb4hEU+WP0jrB1xB9YZXWSQ2BOucBn7pPo8/YMovNSJwbP08HnW1zWl3/AZMaPD7HCe\n",
       "IUo/asYF9Qu0lGdLPvqKJ0aPBjskAnKWekuqtRzuUoI47kIKezHoiUKa3JUxKNcTFdVizVRPnKwI\n",
       "mc2MYifthiEJVTeVbD/MLxQkRlho13mx1zuR5QFajExBYoSFplmsibBG0mJRJuiUjFkr0cbTorNa\n",
       "reZ1XVsvMOJGSaLEDUmOUAzR1Wc+HZhpSYy0K11o+SzYLhCgzigGOuSNhR8x+CWuPJBmZgnCc5DF\n",
       "oOSwVxxiPtKTm2yfkWeUnmZ6hqzGicaLyJ6tTPjKt1rCD6ln7/OUJ7t5dIM9AK32YhiAVAlqGZvl\n",
       "EQwKmc2MaJcpNhkKn9KOyC9twggyiovdVvrSFsVvdrK44AombXqdi6NS7LKV4/h047va2ZU+I2bE\n",
       "b4Zk6MkxSqvIu98eXncOE6sBCL1vVibeQvLCOFCt+o0T/nBdoapUI9ePhQPChI4VOFrS9seA/IGR\n",
       "Qt7qi7rymhGAEHnvqRhhYYxkdBCLsPpPLujN/9/4T/IbAn0CPfQnnzoAAAAASUVORK5CYII=\n",
       "\" style=\"display:inline;vertical-align:middle;\" /></a><br>"
      ],
      "text/plain": [
       "<IPython.core.display.HTML object>"
      ]
     },
     "metadata": {},
     "output_type": "display_data"
    }
   ],
   "source": [
    "less_eq_shift_add_right = Forall([a, b, c], LessEq(Add(a, c), Add(b, c)), domain=Real, conditions=[LessEq(a, b)])"
   ]
  },
  {
   "cell_type": "code",
   "execution_count": 19,
   "metadata": {},
   "outputs": [
    {
     "data": {
      "text/html": [
       "<strong id=\"less_eq_shift_add_left\"><a class=\"ProveItLink\" href=\"proofs/less_eq_shift_add_left/thm_proof.ipynb\">less_eq_shift_add_left</a> (conjecture without proof):<br></strong> <a class=\"ProveItLink\" href=\"../__pv_it/theorems/1e3b971c2266cfcdc9d1279f1111794b0379c9320/theorem_expr.ipynb\"><img src=\"data:image/png;base64,iVBORw0KGgoAAAANSUhEUgAAASEAAAAXBAMAAAC2Z+QsAAAAMFBMVEX///8AAAAAAAAAAAAAAAAA\n",
       "AAAAAAAAAAAAAAAAAAAAAAAAAAAAAAAAAAAAAAAAAAAv3aB7AAAAD3RSTlMAq1RmmUTNIjK7EInv\n",
       "3XZ/CtNrAAAACXBIWXMAAA7EAAAOxAGVKw4bAAAD1ElEQVRIx71XXWgTQRCe5qeX3CWXKOJLQQKC\n",
       "ItpyYCm2YIhExR+qQcEXRSN9EH2Q66OgJT6JqJg3jUo9QQSp0GjBiqIIIlr/qEJR1IOrBcWKpSgq\n",
       "+CDO7F5ye5dchaY4MHub3Zndb3e+nd0ANCw6quTTJ/k5+DTrMAeiprD44NMZtnwc6shuW5P0Y3ED\n",
       "iJajBsp+vRP1HTwiXxhFpBrXddSyb/aA5DwWV3y7mw2nvkSvOtSYZbA4wPUoRbs4e0QhXBVkxUBp\n",
       "YncwU62u3uQ4VGS7/U1QJNu50iKU1OwRxai4LzQE3NR5Uql8vS04VKTN/u6hrYwZTIMIubkBGi0h\n",
       "EHl/RD12cO9agkMNorssdBrX56b5tAFEmykQRGxlapUbUe+9Piyvc0DdmugA9yYKLkR7p+bjCEmu\n",
       "GwDO/XPejG9Pj7046RVsdCEKP4KLGIYOBmhhyuVwJBUqiojkn8agDkHcatJekJIV68h+12ytN9cc\n",
       "5DU39ZfpjuEr1DjOFy/DCxeiaxp042cF+yEgIod3ELNERIHf1BBAOpJGDSVXNW+p1iLjpZyqwHC5\n",
       "FtEySzB8SJTEAbayYx4yzfdIA1riVpoY4DTP3U7U0CH0m9W6TfOZab4ktzwkyhCZBqYBSyD242pt\n",
       "LQZaVaHLqkHUqYmGFUQjXmaPgPwDP7u8zEaHWNHDbNzgPSkI4/6QQj6NxUB6mDbmzzgtVZmwKHkS\n",
       "osmMgIgZfU45hk7U5D8eRNgQnKbIe08/OgxaHkSYjnCPA5i4SeEG5kn5deQXQXirEoKxyP2r7AZS\n",
       "pH7NQcSMTjJG2IYo/ahRnOE7rs+F6Bs05ZfijnozJDokcNCcC1FBfoCsLnKFwxj1UCZC2xXViOuh\n",
       "olxgyVQNnS8KzGZGgfNG1RDs001HFg/aLVfU+qE1k7EPu52JCrYDHjTFdfqbtGiGJxGWSJoKxASV\n",
       "2BgrhJKcFh2lUimlqso2ARE3ChMkbkhyimKIW60MpQ0Xoktfji3Ckce86YIc7qycdEVNbqF7KJ7j\n",
       "ymRQj3bhgAmIYVASeCOeYHukhncaDiLbKLJAtw0ZKWmxb3xztjTqRRQv1MnZTI7Yyi8b/fR2YwDi\n",
       "RicMQHMOylGD8QhuC8xmRjTLPIMMhau03femdd2r3rvXuWmZZMU7O5xtG0LSRrZYWErZtCGdxdYd\n",
       "H8uX1zuImBF/GZKhLWeIVr5vv0M8KiaTQtWh7nuzWPsKSQnlQKnkJE6Y4blCp1L27T9T36Ge0LI8\n",
       "SwsbTumRGRBJtFt9fk9e3cehjnyyVYywUPoiOo6HsDQnD/TG/2/8J/kLh2UCPXhMXdMAAAAASUVO\n",
       "RK5CYII=\n",
       "\" style=\"display:inline;vertical-align:middle;\" /></a><br>"
      ],
      "text/plain": [
       "<IPython.core.display.HTML object>"
      ]
     },
     "metadata": {},
     "output_type": "display_data"
    }
   ],
   "source": [
    "less_eq_shift_add_left = Forall([a, b, c], LessEq(Add(c, a), Add(c, b)), domain=Real, conditions=[LessEq(a, b)])"
   ]
  },
  {
   "cell_type": "code",
   "execution_count": 20,
   "metadata": {},
   "outputs": [
    {
     "data": {
      "text/html": [
       "<strong id=\"less_shift_add_right\"><a class=\"ProveItLink\" href=\"proofs/less_shift_add_right/thm_proof.ipynb\">less_shift_add_right</a> (conjecture without proof):<br></strong> <a class=\"ProveItLink\" href=\"../__pv_it/theorems/92c32eea125c1f00207190d493c7b7415c85e38e0/theorem_expr.ipynb\"><img src=\"data:image/png;base64,iVBORw0KGgoAAAANSUhEUgAAASEAAAAXBAMAAAC2Z+QsAAAAMFBMVEX///8AAAAAAAAAAAAAAAAA\n",
       "AAAAAAAAAAAAAAAAAAAAAAAAAAAAAAAAAAAAAAAAAAAv3aB7AAAAD3RSTlMAq1RmmUTNIjK7EInv\n",
       "3XZ/CtNrAAAACXBIWXMAAA7EAAAOxAGVKw4bAAADwUlEQVRIx8VWTWgTQRR+zd8mu+mmevAiSEBQ\n",
       "RFsWLMUKlkhU/KEaLHhRNOJB9CDrUdASTx5UzEHQqNQVRJAKjRb8qVgKIv6LFoqiBqIFxYoiigo9\n",
       "iO/NZLMz2x2VVvTBG3ZnvjfzzXtv3gzAlMVG1RRjmspA0W3DXxAzjc1rxWC0qjAIkM01baKf2VNg\n",
       "NB81VFaNjgYZ6KceB23N4rqcfrZPnpCex+accjjmBBnEMkHYnVz3U7SLk2cUwV1BVoqUJfyEM0EG\n",
       "KTdwXeJIK1fahJGePKMkNUNiT0jKnXve5xzbNdjieq5FmsphGkbKsSmk0RzikFcz2lb/WrK6bnAD\n",
       "ghjFLK4PK5X7U2C0hgJBib17sNvHyPi4COCiC/ww4Bls/Tjdx2hwtAAGnjLSlQAnfrtuRjmyrba5\n",
       "6G047UiMtGFYBdBWy+cbVc9A/+b02RKjfelIEcLoatLdoDW508d3SKs1X166i3/5U98DDqM2Yh5e\n",
       "sKBT9lFjGR4BLODsOi3BIDQOyarE6AV1hDAdSROOkauvNNNb81UpZxpwpRzASBeAtyglcYJ1NC0G\n",
       "sFJ5iXlAe1zHXHaEoWZ4ZwcNInlI4bydlcqDSuUJWY2zJT9xDVWFxL5T/1pWwHplwuLqREbaUscD\n",
       "uozugv5V9tFd1m4KYITe25IWfZRk80eHuEK+A5vejivE8scr2pgxWqXiSYzGMgKjGmia7QK9qOk/\n",
       "IPxJYoQ9LPIBUcNyxB3oMupjJqHHXOES1kn9afw7UXhuEoOR+NB5VtcNrcfyGHFQ9KhdB6L0oCaq\n",
       "oH+GhvxcyUdfEAvQ7s9sNEgV9JvSWUvhKjkI4yqksBeDHsnEyV0Ji3I9UtQLrJiakZNFIbMZKHrS\n",
       "qQNJ6HTTke2B5kxGYoQH7So/7IzSh7G6QYOVyEiM8KAZBVZEWCFpKFAmmJSMyUKkiadFW6lUSpum\n",
       "sV5gxECHWAJwIMlhiiO6+sz7A7MKEiOjvwPJj3gVcsA10GdmfRXy+kLk25jjygNpJxajeQqSuGAK\n",
       "w3KQ+ciMbnQ8RgykXyNKHMjOONF4pqzZmnDLt9l1g8Cava+mPNntI11OLzQ67dALsRyUEw7LIxgQ\n",
       "MpuBAN5h0AkoXKWtyps2YvlLqnT3SjdtVryzo9mWfgxIfG0VWy3b4WjHsXfDm/LZFR4jBkJpt4CA\n",
       "NTlGaaV8++2Z2HVM9d4sTnyFpIW2t1TyCqevQs4TCdCp1JXPmYDlzyugtC3f1qKO1/rkFw8ojbzV\n",
       "rXry2gqDAHlbUzHCQvvnjP6T2P9uqZ9HCfmckWc34QAAAABJRU5ErkJggg==\n",
       "\" style=\"display:inline;vertical-align:middle;\" /></a><br>"
      ],
      "text/plain": [
       "<IPython.core.display.HTML object>"
      ]
     },
     "metadata": {},
     "output_type": "display_data"
    }
   ],
   "source": [
    "less_shift_add_right = Forall([a, b, c], Less(Add(a, c), Add(b, c)), domain=Real, conditions=[Less(a, b)])"
   ]
  },
  {
   "cell_type": "code",
   "execution_count": 21,
   "metadata": {},
   "outputs": [
    {
     "data": {
      "text/html": [
       "<strong id=\"less_shift_add_left\"><a class=\"ProveItLink\" href=\"proofs/less_shift_add_left/thm_proof.ipynb\">less_shift_add_left</a> (conjecture without proof):<br></strong> <a class=\"ProveItLink\" href=\"../__pv_it/theorems/cfc343d4e0ff548c862a696b66710e63447a2a5c0/theorem_expr.ipynb\"><img src=\"data:image/png;base64,iVBORw0KGgoAAAANSUhEUgAAASEAAAAXBAMAAAC2Z+QsAAAAMFBMVEX///8AAAAAAAAAAAAAAAAA\n",
       "AAAAAAAAAAAAAAAAAAAAAAAAAAAAAAAAAAAAAAAAAAAv3aB7AAAAD3RSTlMAq1RmmUTNIjK7EInv\n",
       "3XZ/CtNrAAAACXBIWXMAAA7EAAAOxAGVKw4bAAADyUlEQVRIx8VWXUgUURQ+rrvO7sw6az30IsRC\n",
       "YEQ/DCSSQrJiRT+YS0IvRW70EPUQ42OQsj31UOE+BLYZNkEEYuCWkGUoQkTZHxZEUS1sCUWGIkUF\n",
       "Pkjn3JmduTM7t0KjDpw7d+49597v3vPdcy/AkkVHlQR9kshB0KzDXxA1jsV7QWeoIHDwkQOWVtHP\n",
       "qiUgWosayIl6p/wdPCJfnESkmqlbqeXw4gHJKSyuCrsrDF+HErMEFkdNPUnRziweURBXBc18oDS+\n",
       "uzzh61CUNusbo0jWmkqLUOKLRxSlYpxrCLip89Cp1ui2Q1E2WN922sqowbQcIVcsgUY1BCIlRnTI\n",
       "rm3eaTuUIBplodNMfZLPP1oCol0UCCK2MrvJjahjrAvL60XDmRHHAcam0i5EB2eX4whVpm4HuPDb\n",
       "eRPCnkPW4qTnsMOFKHQfLmEY6iw+jxY4h854MMMjkr8bgzqU41aTdoBUVRw+fMQ12/qbTcfMmpf6\n",
       "juFz1ErkYWUOnroQXdOgBT/rzEzZovEObyBa4BEF5qkhgHQkjRhK0p6p2pnzXTapKjCc80Ekc4b3\n",
       "iJI4QCs75sF8/i3SgJbYShMDdDOrFc7ZQYfgPKu15POP8/ln5JaCWA7Cc8A0UOCI/cCubcFAqyo0\n",
       "FEoRSU2GY1hENOFl9gTI3/Cz3wdRNONhNm5wexxCuD+kkGrEYqBxmDZm4R0tVZkqUPIkRNMJDpFl\n",
       "tEwvGjpRkxc8iLChfI4i7xO1wYIHEaYj3OMAJm5SuIF5Un4Z/kEQXquE4EV4vJ/dQIrUpzmITKPQ\n",
       "Od02ROlDjeAMX7HHhegLlKVWA9R7mY0OMRw06UKUlu8iqzOmwgmMejARpu2KaMT1YEZOs2SqBnsz\n",
       "HLOZUajXsA3BOt10ZPGg3XJFrQ/WJxLWYSdIM9O2Ax40xXX6y7RIwkwiLJGUpYkJKrExmg5WmbSo\n",
       "y2azcVVV9nCImNEZxgjTkOQsxRG3WhlqNFyILn8+tRJHfuFkyBHb4c7GaVfU5Gq6hyqTpjIZ1CMN\n",
       "OGAMojhhDMNymu2RGtpnOIiYkXybIJmGjJS02FfCnC1NOvU63Xbw5mwmnZaat5Pe3WYMQKVRDwNQ\n",
       "kYRcxGA8ghGO2cwI4BOygAy5q7RWeNO67tXSu7eN72nm7+xQ84YhDEh4dwFLqbnRkM5j694PuSvb\n",
       "HETMCKVeAzK0pIdoJXz7HS9t6hG9NzOlr5A4Vw5ks07i9GTINTwAOpWy8DnjM32/wJSW5VlayHBK\n",
       "j/ziASXRbnWJnry6wMFHPlrKR5gr/xzRfxL93031E8vx+Zy/B/EsAAAAAElFTkSuQmCC\n",
       "\" style=\"display:inline;vertical-align:middle;\" /></a><br>"
      ],
      "text/plain": [
       "<IPython.core.display.HTML object>"
      ]
     },
     "metadata": {},
     "output_type": "display_data"
    }
   ],
   "source": [
    "less_shift_add_left = Forall([a, b, c], Less(Add(c, a), Add(c, b)), domain=Real, conditions=[Less(a, b)])"
   ]
  },
  {
   "cell_type": "code",
   "execution_count": 22,
   "metadata": {},
   "outputs": [
    {
     "data": {
      "text/html": [
       "<strong id=\"less_add_both\"><a class=\"ProveItLink\" href=\"proofs/less_add_both/thm_proof.ipynb\">less_add_both</a> (conjecture without proof):<br></strong> <a class=\"ProveItLink\" href=\"../__pv_it/theorems/724eebbe2789318593d6e814c2268391180a55400/theorem_expr.ipynb\"><img src=\"data:image/png;base64,iVBORw0KGgoAAAANSUhEUgAAAVIAAAAXBAMAAACrGdq3AAAAMFBMVEX///8AAAAAAAAAAAAAAAAA\n",
       "AAAAAAAAAAAAAAAAAAAAAAAAAAAAAAAAAAAAAAAAAAAv3aB7AAAAD3RSTlMAq1RmmUTNIjK7EInv\n",
       "3XZ/CtNrAAAACXBIWXMAAA7EAAAOxAGVKw4bAAAER0lEQVRIx81XXWhcRRQ+2bu/925vAj4IEcpC\n",
       "H6Rg6qKl0DyELaltRWqXVgR/kOAPwT6UDeRFaOuGij4Y2IsR0lVIRxBpu2q3rViIEINY2qqViBal\n",
       "ccuNKRUTLGGhGCwUz5mZ+zO7cyHClvbAd++dmXNmvj1zzplZgLslKQmtlCIM/vdEnZA/JLTyUoSB\n",
       "ThKuQA81NnSeaKwuoBc7rzM4cbld8+1vYRFfiCeoOdx5pp9IRMh+rcGrGs0mJBkQxigKnM4zHZQI\n",
       "ZF+4sVlr0PQ2PHB54l8wCkAgwlau80xnJQLZFG5kWbDtw54BspJdrj9qzQF8BwQD6SfvQpgOCUQx\n",
       "TfpeM35hngGxamWaRIe+AhyXG43vO880XheAkZnDrUxnFstg9Xi5Nc98g+T6hZzKdGSmgj2ngWMX\n",
       "wAdrXX7tTMlnhMQFOMZUpodycQcM6e/atZDBqf3mPwpTab0FOEYg5f0+SL+uLPd1mb/6vtx2gH9k\n",
       "2kpIOBVjkxRWq6KxLifwaR52t/h0HrIuxEQMj/7sWZPyowx+VJii9Q58PSKQYVbRX+0hhcibyH2h\n",
       "WrQtOFfXMGXQFSqYsSl+oKzIjCkK7CFmKLsbjR8ajZ9oY3japLle18tBiqEysrqNCo3G7xiS5D5p\n",
       "XRGIuaGEuqhQ+QtgO7rVtqHfbWc62gvZst8yJkTYOSrTS2DeUn2a5RqJWQ3TeUg0FZ9K6xclhgYo\n",
       "XgbO0S+9s0BBZS26vOuAOEuQ6VIhYGqeXaZje+xB/KE3e3mKDID9nhi64Sq7b94BY0VleoprxOY0\n",
       "u9+UDveYetZ9EmfwvDB/TVMs21dtonQlPcu7VuEE95OVmsoHTD8rVZDpczvx8292nRYpjqe/8Yak\n",
       "lzMuh9mErqGHFabdOFURDKclo8hglQIzzFRabwWBgxgR8QKRg0yecjLumGXetSLOFTv+oRPKqO0w\n",
       "jkSn6XOCp+WTcBw2TouhilewewSmoK9QUJhi4ltlUcFIPr/GfIMH4H21nkrrp0Cgq0xRYlMEZ8vx\n",
       "HhEyvMuBLdVqNWfb1t4Q0/OwANKHF2Eb7wBJ/TyFtqgicwIfLb+zvqzm/lePL9E++AEuCipX/iKv\n",
       "MpXWV0CAB08p048G3ZDFcOkuya4l9i73qZ14gflMseRNnIQaj8sVIMaiBo7tpKGpk3LG3yQizqhD\n",
       "wacx7BtA+xlF9WROQGReqbKP1WAd2wo1SBahXqOuIyzDeJzCdCijLqRv9WMn5fpVwzHr8BpY/Dzp\n",
       "xaHV/tAVZHP0DWWw7awIKyeUS2E8LyCGBjedhfFc+mkXn6nBATae412pozj47I36xzsCps88tpyX\n",
       "ZemtmxQHo7Sd/CIvh7huSSDiHt9+e4tWfkMiJLm2J9Sq1eBcUOspP5PwpZ/edAT0oqEVrTwpEfI5\n",
       "a322zq+b5/mI+Q9LaOXPCAPt/4OSQEiMtudamPLtTmONqE7CfSOpe7n4f30BOZQcp0siAAAAAElF\n",
       "TkSuQmCC\n",
       "\" style=\"display:inline;vertical-align:middle;\" /></a><br>"
      ],
      "text/plain": [
       "<IPython.core.display.HTML object>"
      ]
     },
     "metadata": {},
     "output_type": "display_data"
    }
   ],
   "source": [
    "less_add_both = Forall([a, b, c, d], Less(Add(a, c), Add(b, d)), domain=Real, conditions=[Less(a, b), LessEq(c, d)])"
   ]
  },
  {
   "cell_type": "code",
   "execution_count": 23,
   "metadata": {},
   "outputs": [
    {
     "data": {
      "text/html": [
       "<strong id=\"less_add_right\"><a class=\"ProveItLink\" href=\"proofs/less_add_right/thm_proof.ipynb\">less_add_right</a> (conjecture without proof):<br></strong> <a class=\"ProveItLink\" href=\"../__pv_it/theorems/86aea9267385e1e335dd45dae317205d766fa1400/theorem_expr.ipynb\"><img src=\"data:image/png;base64,iVBORw0KGgoAAAANSUhEUgAAARAAAAAXBAMAAAAxVg0qAAAAMFBMVEX///8AAAAAAAAAAAAAAAAA\n",
       "AAAAAAAAAAAAAAAAAAAAAAAAAAAAAAAAAAAAAAAAAAAv3aB7AAAAD3RSTlMAq1RmmUTNIjK7EInv\n",
       "3XZ/CtNrAAAACXBIWXMAAA7EAAAOxAGVKw4bAAADlElEQVRIx71WW0gUURj+3Ytz2521CAOFGAiE\n",
       "6MLSg6TQtqLdjGrLCCxBo4eohxihl6CHFSKIDJd8sM2QeejFltgtIUVQwpBuFCFJIC2MGF0UFyFK\n",
       "8EH6zzmzc9kLtbB14D975ps5//+d/3YWoPxDLQnmDCn/kJVSYPDqTKrIw9ZyEtleDBbvvy/0YoHJ\n",
       "frK+UEYeYldRuDJc6E2lRqWHhChWRiKeYFE4kI2O1/6NO0yF8JGUMhLx5QJ1ahbu1AzIpds/eE3F\n",
       "jeQqy5kidTnPe1tNeAIKEjnP5G06/aacRI6QWNd+zZpaHrfgc5mNOUSkzB6Ax0DlEMC9P8a9BCLk\n",
       "fB2qsMZSdEK3YPGXllQdRLgZOAxQD1S6gavKKuEvOnTufNp0mS6EXGs3aHpLkyn6tM3eq2bQ4nPw\n",
       "0ErljgZtsGsNfLqDiD8F7wB2ABVBkyKmllpzxc/HI7IEo6kCRDSooHAI2ikPR8Sn0YErxASOasUB\n",
       "d0EAYU86/QnzgZz+OM3ePiYu3ZarL81VSxSboQyNej6RKzXgi7KvA+iLBme9okVfDJKRfCJIrlNx\n",
       "eOQVnTsM6QrhlAiNEjeszxOO0oIuE+1IZDFsERFHlkgMejbjATI16Hh0tQLfqW7cYsUgqcM+yA8N\n",
       "thHmgiwRcZ1lgCFPLiH0kV8lludkYniWfzZMrweJGwpaRB6pfUik/SCpBe0z0l4Df7CXnRG3GBaH\n",
       "kIgC1S7VmawIB6KYPA6P/MDehi4FJtcwWp4wVSQE3diJPTEx2kaJeAZjtmRtgV7kQcuxn6Q5T5LP\n",
       "NUgOSbYYFrEQBd31wSg0cXnRhCuCQthJBEtmjFU2kQpU4YvIJHl8UU8VecByisfjiixLJ21EpmEe\n",
       "+Ckjl5poaNDbXsLEZ+X7bbS+Zaz7m9nQxk24tjmnoUkjIdw8C0zISKpCI0IBEnSagbeoR2TvWc0k\n",
       "Iq5C/0NI3CHrFZgyk5XfpNJfY/ijOaVer+bBjs7KvWfCLgi1r01LgF9rgARURiAlaDRHYNyWrC/4\n",
       "n40I9uNyzh0TU5CBE1TTBo1ssd1hBYYDdlx65Do0b0pv864R6FX4YzrOXHNI4+4ievpL6sEBi8ip\n",
       "3UvkezcyuZ4hQZImW40/WWRLVvFA4Y47UKwVXzXENhTbnIjHrbg7+4iL6XQVUTxcEswYOll6NWt2\n",
       "DqGQgjNFFHN6KTDIKhN7GG3zXxBhYb2J5RVX4T8N7t+b+A0LK/Ce57QZ/QAAAABJRU5ErkJggg==\n",
       "\" style=\"display:inline;vertical-align:middle;\" /></a><br>"
      ],
      "text/plain": [
       "<IPython.core.display.HTML object>"
      ]
     },
     "metadata": {},
     "output_type": "display_data"
    }
   ],
   "source": [
    "less_add_right = Forall([a, b, c], Less(a, Add(b, c)), domain=Real, conditions=[Less(a, b), LessEq(zero, c)])"
   ]
  },
  {
   "cell_type": "code",
   "execution_count": 24,
   "metadata": {},
   "outputs": [
    {
     "data": {
      "text/html": [
       "<strong id=\"less_add_left\"><a class=\"ProveItLink\" href=\"proofs/less_add_left/thm_proof.ipynb\">less_add_left</a> (conjecture without proof):<br></strong> <a class=\"ProveItLink\" href=\"../__pv_it/theorems/e20181e706b08a9f94848edead24d96dbd54e6400/theorem_expr.ipynb\"><img src=\"data:image/png;base64,iVBORw0KGgoAAAANSUhEUgAAARAAAAAXBAMAAAAxVg0qAAAAMFBMVEX///8AAAAAAAAAAAAAAAAA\n",
       "AAAAAAAAAAAAAAAAAAAAAAAAAAAAAAAAAAAAAAAAAAAv3aB7AAAAD3RSTlMAq1RmmUTNIjK7EInv\n",
       "3XZ/CtNrAAAACXBIWXMAAA7EAAAOxAGVKw4bAAADw0lEQVRIx71Wa2gUVxT+sjO7O7szOwkIFSLI\n",
       "QqFQWu1ii2B+rJH4akvLtpaCVYr4oNQfZQP5I1TYgPjHSBYjpFshTKE/mm7b3dZSSwohtEiLL+IL\n",
       "wbAyIaUWxRAEiUQQz7l3nptZbGH1wHc5987cud+c8517L9B+Kzpo9Wy5JfEszMxKRNrHkaNxG+hi\n",
       "58V2EnnFQTTLXPPI+EVq5oAt3PmkjTzSeyRa2MFlI/sJCQuDnKJyG4moOQnfdgQ7byybcJ+g9DIX\n",
       "6Nk2EjEc+LY29Njy3JhIRHyJ23NQiHyinRJ5yUELIgkvWMo1wUmf5nYfcLHRON9OIm87SK66bTcR\n",
       "mZwrQe9yZTsjY5NYPUsJ+RHYDnz51Lz/DyL7HOwuppbCRA5n1TIUR8fVW85o7WB6EVgP9CPpkoT2\n",
       "aeiba37Z9JlwUs2rHQ3KOzYKfbLu9q5IpP+AOh0mMgPDRmxK+ANX3fdfs3AJeJUWsfSC981VnqfN\n",
       "VgqmjjP1CCIWOuoBHmNAHjvd7lkJdQEZfumdRuNCo3GZwyoCpC1w27HXm74VeAQM03fsgFb/8rzN\n",
       "JUqjiR57OZGBbhglr6eMiHmdxTARo4xaIRQRQ0QxPtVEZAZxKuDd5O3Jc8ryZ5ju41lWkD5nix2Q\n",
       "iNzp9YmkT9/l1QZX0g/Mdwv15WGeYGEuwciGU1OzsTFcNTXxT7HpptTcF6FaQ95PtNmlb2iLvPJN\n",
       "kxe+rk2NC2HrybGcT+T74jAR2bmN3HvW39RmCkPa7yLeS8i4ZTkmUcvihVgxSKST3ihAKTeJ9SG+\n",
       "owcbyPuctKr2ahyyVI5FrZbTJbEbmuqpckCsmzFEPCbYHWGZ4018g5cnJBHDqVUuREbKjl1TQxGh\n",
       "ktFLUF11/XBLlu8KnHQKvoPybRRMLh2jpHZxh8qpUqlkTVN/P0DkLGYhI0Ca2OTIQTCj1HS6qTku\n",
       "kV79a/+/4ar57fU7HEVPXHIj+epnjuV1t5iLqR4a7hSpZt0dExEx47ssjwiV+8i3qLImsAAmtCjm\n",
       "Dm4LiTVTkmixsx72XcU/a5PT7glQHN5hVZGxNqCKRAH1lCU0gomAWP/UHvTQIFfJTaWcruMAdB7v\n",
       "78Y83vM+3yvR4tDra3lSyptJ39rTGMpq79rUJvvyVvILGv3wn/rXW30iH6y7m3Pq9cg8J2mAYy2u\n",
       "XfrkW95HRx1E38WiD/pD4W420FYrFX+fC+8jMblMrMVa4w4iLRV9VwwTj1t+2zQ9avJHrX7aloi0\n",
       "29H3tjA9JdD+ByIirRpVV2UUz8uSz36JJ7bH758jiL7JAAAAAElFTkSuQmCC\n",
       "\" style=\"display:inline;vertical-align:middle;\" /></a><br>"
      ],
      "text/plain": [
       "<IPython.core.display.HTML object>"
      ]
     },
     "metadata": {},
     "output_type": "display_data"
    }
   ],
   "source": [
    "less_add_left = Forall([a, b, c], Less(Add(a, c), b), domain=Real, conditions=[Less(a, b), LessEq(c, zero)])"
   ]
  },
  {
   "cell_type": "code",
   "execution_count": 25,
   "metadata": {},
   "outputs": [
    {
     "data": {
      "text/html": [
       "<strong id=\"less_add_right_weak\"><a class=\"ProveItLink\" href=\"proofs/less_add_right_weak/thm_proof.ipynb\">less_add_right_weak</a> (conjecture without proof):<br></strong> <a class=\"ProveItLink\" href=\"../__pv_it/theorems/1304e29b43b3fba263192420c1abb7ab30b1888b0/theorem_expr.ipynb\"><img src=\"data:image/png;base64,iVBORw0KGgoAAAANSUhEUgAAARAAAAAXBAMAAAAxVg0qAAAAMFBMVEX///8AAAAAAAAAAAAAAAAA\n",
       "AAAAAAAAAAAAAAAAAAAAAAAAAAAAAAAAAAAAAAAAAAAv3aB7AAAAD3RSTlMAq1RmmUTNIjK7EInv\n",
       "3XZ/CtNrAAAACXBIWXMAAA7EAAAOxAGVKw4bAAADmUlEQVRIx71WW2gTQRS9zaP7SjZVRKEFWRAK\n",
       "4oPgh9iCMaX1jRofCD6gFT9EP2QL/gh+pCCCWGmwHxorsh/+aJBECyqCIkrxhSLFIoiBLRVfxVAQ\n",
       "LfRDvHdmk91ZUzQQvXCnsyczd87c1xSg/mLWBEuO1l90oxYYwjbXJvpYVE8iS2aD1Uuvqv0wwXUt\n",
       "zQ/VkYfa4wNazTLcmKy2odFi2kchytSRSCgufq/eVIFj5eiEvWuCSabERzPqSCQifn6968LdlgMG\n",
       "bO+SZ0yDSK6xninSKsTpnu2B70FVIge5vigWn9eTyGaKdctHdpS6Je6FD5Tm+ohopVUAN4DpBoCL\n",
       "f4x7DUTofvtNZYZ4zDe8sPrDypsCEWkUNgKsBKa9IDWVV8uHBZvLbnUcZRPFf9oplt7a/QL7Wuzt\n",
       "VaN44iMIsUr1EEE4MAMRWyASLcBLgKXAVLG0VGV5S2Umj2dTuga3C1WIWNDA4ATsYTyEiI+gA6fo\n",
       "CLqxGxqCeyCGcKhYfIf5QLffxrJ3gGvA9uTqk8qsK43NUId2+3cix5ohkuarY+iLNrFe8cRIBvIp\n",
       "X7KOsPt3G4JHnrJxv6M9CRxyidvkhp/jxFGbsHWyjkS+JF0i6vAkxaBvAV6g1Iz3RVcb8JnZxi1u\n",
       "DPI2rPGX7yhrI9wFZSLqT54Bjt48gtAbeZpOfqvTwWPyg6vsedCky3GXyHVzAInsWU/mrfdIewai\n",
       "8X5+R9zinHwZiRgwP2CKDQ3hWBqTR/DIN+xt6FLgegKjFUoyQ0o8iJ04lFHTOxmR0FDGk6xd0I88\n",
       "2A0HKc1lSr7AEF2StjgHYyEqduC1W2itaQduiCtJkQiWzB1e2aQNuDCS0il5IulQE31gOWWzWUPX\n",
       "tR0eIiMwDvJDJ5c6WGjQ22FiEnHz/Sz6d+Gd3k++OiO4pdPX0LThBG4eA64keVNpRyhGQWcZeIZ5\n",
       "RA/vsypE1GkYvAa5czSfgoeVZJXnmeyvI9F01fYiwEJnlV5x5S+BObDTykHUaoMcNKagoFgsR+Cu\n",
       "J1kfy9/bERzE6dtgRi1ACbYzS3Ms2uJ5w6qIAAuPHj2HlZcy3Ll8GPoNeauNo9SZsKQLiO7+ULiy\n",
       "ziWya8UkrQ8ik5MlCpJ2f5PzTxZtKRs+7740RSZpH+yT4456xPCMuWzWjbvYRwLcZmAWw1drgjlD\n",
       "kWXYckdRlGoG9s5iWLJrgUE3uXrD6Bn/gggP62ksr6wJ/0mkf3/EL/RZ9bkOmLkwAAAAAElFTkSu\n",
       "QmCC\n",
       "\" style=\"display:inline;vertical-align:middle;\" /></a><br>"
      ],
      "text/plain": [
       "<IPython.core.display.HTML object>"
      ]
     },
     "metadata": {},
     "output_type": "display_data"
    }
   ],
   "source": [
    "less_add_right_weak = Forall([a, b, c], LessEq(a, Add(b, c)), domain=Real, conditions=[Less(a, b), LessEq(zero, c)])"
   ]
  },
  {
   "cell_type": "code",
   "execution_count": 26,
   "metadata": {},
   "outputs": [
    {
     "data": {
      "text/html": [
       "<strong id=\"less_add_left_weak\"><a class=\"ProveItLink\" href=\"proofs/less_add_left_weak/thm_proof.ipynb\">less_add_left_weak</a> (conjecture without proof):<br></strong> <a class=\"ProveItLink\" href=\"../__pv_it/theorems/962df2a3d610101f668b083523696bd883086a410/theorem_expr.ipynb\"><img src=\"data:image/png;base64,iVBORw0KGgoAAAANSUhEUgAAARAAAAAXBAMAAAAxVg0qAAAAMFBMVEX///8AAAAAAAAAAAAAAAAA\n",
       "AAAAAAAAAAAAAAAAAAAAAAAAAAAAAAAAAAAAAAAAAAAv3aB7AAAAD3RSTlMAq1RmmUTNIjK7EInv\n",
       "3XZ/CtNrAAAACXBIWXMAAA7EAAAOxAGVKw4bAAADx0lEQVRIx71WXWgUVxT+Mjubnd2ZnQQKFSLI\n",
       "glCQNnZpS8E8rBviXy0tay0FrUhQS2seygbyIihsQPrSSBYjxFUIE8hD063s+oOWFEKoiNJWSTWi\n",
       "JGyZEKlFaQiBEtmCeM+9s/PnLCpsPPDdPffMnb3fnPOdOwM03rIW6l173iJYDdMTAoG2PzAaNoFW\n",
       "ctY3ksjbFoJZJv2R8ZtsWAC20uTrBvKIdQvUsR7HlcS2hxiaDfRTifINJCInBRzb7Z58YHuhGYP/\n",
       "LpOfJi5QEw0kollwbKPnslEr0pzwwlUaf0OIkW9upETeslCHSLOVrOJfVkCdpvEgcLNS+b2RRD62\n",
       "EFn70PQRmVzIQeXdgbE7NrN186wg54EdwJkX1v0ViBy0sC8brXqJHEvIeYS4jkcP2OtLPbEV4EOg\n",
       "F5HWWlA57PnP9sud33In6t/tO7e8pWGok+Xa7LZA7CrkaS+ROWgmpClymxwi7xq4BbzDNjHUjB1d\n",
       "a3vKfCGjq7hSDiBioKns4jECpLCnNr0mIC8hTos+qVT+qFT+pLTyBClLfFWfXZptwP/AIPsf06XV\n",
       "G7a3JceEraPDfJ5IXxu0nNOFQ/y+lqyXiJZHKePJiMazGJ7yiXUOYdbA+5jXnaJ46grRfTpPPaUu\n",
       "mPwEZEQepR0isYuPabf+NewBFtu4+lLQT5Iwq9AS3tKUTGz2dk2JP5M07WvfZZ6qduZdYIdd7J6y\n",
       "Qhdnddr4rjI1zteqkZGkQ+RcdpAR2bOduf8aD9gYzwwov/J8VxGvnWEjAqUE3pSybiItbEUGobzv\n",
       "QHuCn9iFTcw7yrQqpxVKWTRJopbzsRw/DXX5bN4l1i0YYDwmyB0imeMj/IANE4KIZvUqNSIhakoz\n",
       "sicjrGXUHGRHXdI3NL6BU1bDN7F6axmdWkfLya00Ye1UKBQSuq5+5iJyDfMQGWCa6LTkwJmx0rTU\n",
       "SnNCILbu595/vF3zy/uPKIu+Bhy9RLm8W2vmbLSDJaqFl5p09z3PiB7+0rCJsHYf+hFF0gSWQIRW\n",
       "+L392z1ijecE6pysx4I/SGrK0bKDu40i4sYmFNGcQTlqcI1gwiXW68p/HSxIXTIbysfK+AoqxXvb\n",
       "sIhddunTAnVeel1135TizdO18SIGEsqnJhsjXSkjcppFv/i7PLbNIfL5e4+TVr8eX6Qi9VGu+WeX\n",
       "OrnT/tNhC8GPLkR3rkJ23w4f8a5KuMZioeBU03uOSGIbqc5e4xYCLRr8reglHjac0Xd70M176z20\n",
       "KRBoD4O/27z0Qq7xJYjwsiqsuwrDeF0WWf0tngEVRPWb3ImLQwAAAABJRU5ErkJggg==\n",
       "\" style=\"display:inline;vertical-align:middle;\" /></a><br>"
      ],
      "text/plain": [
       "<IPython.core.display.HTML object>"
      ]
     },
     "metadata": {},
     "output_type": "display_data"
    }
   ],
   "source": [
    "less_add_left_weak = Forall([a, b, c], LessEq(Add(a, c), b), domain=Real, conditions=[Less(a, b), LessEq(c, zero)])"
   ]
  },
  {
   "cell_type": "code",
   "execution_count": 27,
   "metadata": {},
   "outputs": [
    {
     "data": {
      "text/html": [
       "<strong id=\"less_add_right_weak_int\"><a class=\"ProveItLink\" href=\"proofs/less_add_right_weak_int/thm_proof.ipynb\">less_add_right_weak_int</a> (conjecture without proof):<br></strong> <a class=\"ProveItLink\" href=\"../__pv_it/theorems/4294e548c90865be91bfdbeeb00ebc3b9cc7ef240/theorem_expr.ipynb\"><img src=\"data:image/png;base64,iVBORw0KGgoAAAANSUhEUgAAASkAAAAXBAMAAAClsKTYAAAAMFBMVEX///8AAAAAAAAAAAAAAAAA\n",
       "AAAAAAAAAAAAAAAAAAAAAAAAAAAAAAAAAAAAAAAAAAAv3aB7AAAAD3RSTlMAq1RmmUTNIjK7EInv\n",
       "3XZ/CtNrAAAACXBIWXMAAA7EAAAOxAGVKw4bAAAEAklEQVRIx71XXUgUURQ+7p87s7OuRhQkxEZh\n",
       "RSTbLxQkGxpGYS7Yiz3URg9RL60VvZQxRRTRj0tCthU1vQS2lZsGgaGIERYVWBCFsbBmECWJBCb4\n",
       "EJ1z7zhzZ5ytILYL5+7cM/fe+c75zjn3LkBhW3EefSK/OgEFbx+d1SVhZ/1OXUppsLBQoFwZZ/0y\n",
       "kK8POqGNcNlEg72FQnXbrqhg/MhxAF/UacF+LieI/GShUFXbxhu2sB8PuiM0TWKDOGE1F58GEAgX\n",
       "ClWfdfitm/8qKLs0XVkpzlA0Jm6E7StYWMXFkdyTm+YRpQecUPkiXF5lsy8KhcpDwd7Ue5yDqotM\n",
       "67ei7B6bZUPVO6JCALOPZDPA1T/uns8XYm3JzXxPVnsH4CaRJc8x42QPDn9oHQkLquawJwlu9C5J\n",
       "ExSXTs/277NsWvT84TWWKZL9c6d5fqwxyFlrQF8qIA0ikLsRqGMDAdUbNGgKlJwF1QdSuDASSSQt\n",
       "EDOmlxtP/uFULJgI3NccUGlQxOqQbJhz8Rs6hemWii5TcOd6+h4r8yaDT9GGOIRwQV02+zKbfU18\n",
       "TLHPjnNx5YRgf2Y81ajoSjh5CGaiOjwPFJURa5qzXK816yJgQ/Uc5Al7tCOqYAZ2hUVfKcz93j4u\n",
       "EK/CLl31iJD+HCbfBEZyJXz3aFRAJXeNEjsn5gK0jM0jgsCCqhPgC/sQrjcYlH+Ce9xeGd6wclWv\n",
       "iag62BrXIBfoRBvld/5JKvhDJQTjrb+vnc10H1QFVPcSLYiqsZa21z5hf8SKahGc59bjeq6VciB/\n",
       "h6L4YlsVvYGoVPmJJQdD6IcYuNFjJHAMo8MTZRtJEYp/T1JWecG9HwABVQ2cR1DM3FbA8IZGK6pG\n",
       "cF0j82k911KO34DlUfNwqWBvHmAmRaSoBRUmYEBltYTVkyKVAqCEIldRPaU8GtamUqkwZLrhjonq\n",
       "KQyDv1+Pv43YL0DOcV6qjaM6iyFBsBQj3PzIxa3RM/NVWwpfQHbKq21V9PGqr8h5jAsnNSGtx/1C\n",
       "oCAHIeTpHAu9JRHoNlDJk9B6B9KX6Hkc+jkMK4OIY3aCrdfbe+c6FxRhWmp7sy48ARItDVoagto6\n",
       "SIMvBhmJRb0HvIOmrwb8E+sx9lrxccidlDP2aB9j+V+m0XrhsHVobvG+0GA/zo0j3Vtd2YWx6t+W\n",
       "w764ukorvoLaFWWjl0tNVNtXjlJmuhHWqTHiUjKccvRAL0Cbfvuk9brenAFyljXupbZ8V9fkzBtM\n",
       "WOjTqZRZjaz1ysX3dOl10/isw31IznNHas+DiqyQrFdkr2b2tslOO+wAqLUclk4X7uN5fJJz1n/W\n",
       "RWRb6P8CFbIZEC3AQ/EsZeR/+Dfw+38qoOV5/sf2C/f4+JR7sAewAAAAAElFTkSuQmCC\n",
       "\" style=\"display:inline;vertical-align:middle;\" /></a><br>"
      ],
      "text/plain": [
       "<IPython.core.display.HTML object>"
      ]
     },
     "metadata": {},
     "output_type": "display_data"
    }
   ],
   "source": [
    "less_add_right_weak_int = Forall([a, b, c], LessEq(a, Add(b, c)), domain=Integer, \n",
    "                                 conditions=[Less(a, b), LessEq(Neg(one), c)])"
   ]
  },
  {
   "cell_type": "code",
   "execution_count": 28,
   "metadata": {},
   "outputs": [
    {
     "data": {
      "text/html": [
       "<strong id=\"less_add_left_weak_int\"><a class=\"ProveItLink\" href=\"proofs/less_add_left_weak_int/thm_proof.ipynb\">less_add_left_weak_int</a> (conjecture without proof):<br></strong> <a class=\"ProveItLink\" href=\"../__pv_it/theorems/c550b7201b650e1895c22a793a3a2384cbefe6c80/theorem_expr.ipynb\"><img src=\"data:image/png;base64,iVBORw0KGgoAAAANSUhEUgAAAQ8AAAAXBAMAAADn89dPAAAAMFBMVEX///8AAAAAAAAAAAAAAAAA\n",
       "AAAAAAAAAAAAAAAAAAAAAAAAAAAAAAAAAAAAAAAAAAAv3aB7AAAAD3RSTlMAq1RmmUTNIjK7EInv\n",
       "3XZ/CtNrAAAACXBIWXMAAA7EAAAOxAGVKw4bAAADj0lEQVRIx71WTUhUURT+5v/NndGxFgUKMRD0\n",
       "s0imEiEhmRjDCswB29QibRFRm8ZyV8ozohZJDgnZVNhrE+WUDhkEhiJFqFRgiyiMgTGDoEGRwAQX\n",
       "0v15837GN2Q0deDcd+/HvHu/e853zhug6OZR3dJif4D+rX1R3dKOF0TL2GRzEXnYU8KtrTSUB5C7\n",
       "UwLdz1anikjkgeoF7Iw+3cIz4g4LtJNlNF5EIhHVdWsyLqq02d5D/BEICtStAL5gEYmMqa5bpXHh\n",
       "V9TJ3LB4NisCddD0uIspkRbhhYi4hUjISEYFRnLou3T6TRGJOFPC0TrakU9kdFaGj1cHadBEe2J+\n",
       "PTh6ALj9293XToTdjblrHPcUM5H2oDMOB4sW2aCJgfxUBmMcbYWnLIdKp02b2iaf3WGahjf/uCtG\n",
       "edt7Qapzi5Kg8MchNORF5DP8Gdi5fnQi9uUc6lV8UW3PCm0mzSSiJTHfgGJBRIHN0CjsfcD1OU2M\n",
       "UeGN7GBqDen023T6PQvrMt93gXdfLTXOFgRSHLVnDFqd0GZ1MuDApfNYTaStHH5ZWzl62Lgjn8gk\n",
       "yKI5In4eRdeYWawlKTQHBdpSS4dk7XNGd2WGRcA3m1E7YDhsIEKGsqwFdW4EuufLufpqUXoDJiJq\n",
       "asgKHAtmIoP8aPuUuXxpG2lUBPqUtjXyUVpiDXi6lJ38QRp7JG57TjYQeRLrpkSO1rNdlK/s0GiX\n",
       "9BJmIt4Md/IDtpatJiIBercoHHFzQwvI5BUEepFq1RmWWHC8ISZfZ5zIohsO+GAgUocuyoNfpAdM\n",
       "nQfxENuHzURYITLvww41nDkitGR8sihttcWzW9pC3rBa8DaZZbWUlY5fdpaJFFcnEokgUsPo14m8\n",
       "xgzUCExgHweQY6YRkaaE389e3SSbq+bF7u8sinkfvYoIDOhgzFtD1RGAn6Y4QBNwjQtrWwjDGhGy\n",
       "hJ5+JLkmFsAILfF3O+uNRPBJ9QKdtd2y+2ioP9bdpCRRouxBEu4oUl4uWidcU3pExqXFGqojViXT\n",
       "jjhJ4SR46lrLjUSqTF+2VR+9SMEvJTdXpHIIXUHpcIaOnkit4rlF0Z3rsjfLdCJHdmVDar1enmdJ\n",
       "amOx5n+wLpwd1dQaE17g7xvXKklzk82obkHDmEwk9Gya+wjtpPxhfRSJC7c2a4p5qEvRx7wfWr19\n",
       "rMBZHapb2re1oA7DuAYivOVJtLoSvfhf5vn3R/wCCC7mxkH/eBAAAAAASUVORK5CYII=\n",
       "\" style=\"display:inline;vertical-align:middle;\" /></a><br>"
      ],
      "text/plain": [
       "<IPython.core.display.HTML object>"
      ]
     },
     "metadata": {},
     "output_type": "display_data"
    }
   ],
   "source": [
    "less_add_left_weak_int = Forall([a, b, c], LessEq(Add(a, c), b), domain=Integer, \n",
    "                                conditions=[Less(a, b), LessEq(c, one)])"
   ]
  },
  {
   "cell_type": "code",
   "execution_count": 29,
   "metadata": {},
   "outputs": [
    {
     "data": {
      "text/html": [
       "<strong id=\"less_eq_add_both\"><a class=\"ProveItLink\" href=\"proofs/less_eq_add_both/thm_proof.ipynb\">less_eq_add_both</a> (conjecture without proof):<br></strong> <a class=\"ProveItLink\" href=\"../__pv_it/theorems/f7060279114b57904c6ba8739bbfa030e25c94e00/theorem_expr.ipynb\"><img src=\"data:image/png;base64,iVBORw0KGgoAAAANSUhEUgAAAVIAAAAXBAMAAACrGdq3AAAAMFBMVEX///8AAAAAAAAAAAAAAAAA\n",
       "AAAAAAAAAAAAAAAAAAAAAAAAAAAAAAAAAAAAAAAAAAAv3aB7AAAAD3RSTlMAq1RmmUTNIjK7EInv\n",
       "3XZ/CtNrAAAACXBIWXMAAA7EAAAOxAGVKw4bAAAERUlEQVRIx81XXWgUVxQ+2d/ZmThZ6JsFWfCh\n",
       "FBpdqgjmIawktRaxXaoU/KGEVrH6IBPwpaB2xWIfGtihKdhVSEeQUt2KayMKEdIgSvqjEqlSMZ0y\n",
       "aYrShEpYkIYK0nPuvTt77+wMWFipB76ZOXfOufPtueecexfgWUlaIFSsCIf/PFE75HeBUHk3wiFM\n",
       "kh5HlpTl7Scaq3GEi5kPczh9o9Xy6FWYxRviNVJ3t5/pVwIRsleiuNt32BliWYeUA4TDlAV2+5n2\n",
       "CTRls6ys9p/itx3fod5Y8GbIk/9AvAAEImzk2s90QqApK2Sl02nkwbTjOyArEWbPNzSmAH4EQhzp\n",
       "p55Bmg5wRDFNiahVf5MciFWQaQoD+j4w3HDdn9rPNFHjgMHxQ0Gm47MlMFglw6mfZYfUspmcynRw\n",
       "vIwj54FhA8Dxp/380zOlmBGSk/ClozI9mEvYEGfxPvme4nBur/63wlR4rwGGQUhnG+baHuVz35XY\n",
       "rfviun3sIaMu8DE4aqs6LuAiV5bkOL7Jw6ZATKeh04MYy+GOJlMyXunATYUpeq/H2yscGcco+vYv\n",
       "Klw+Qu4zlaJpwKVaC9PYCH6ppurYRhZExRQ53iJmKJtc97rr3qKFYWWjcbv9/uqTMbJ6jAau+yum\n",
       "JIVPeJc5Yp5UUN8rTP8E6Mewmib0eEGm8WGavqTqaGurTH8A/ZEa005mkZwIVBQZT0OyrsRUeO8Q\n",
       "GOglj95L9EufzFBSGbMeG9rH9xJkOldoMtVH5y0wP6PH8sOlrER6ha6P3veU1defQHxBZXqOWcSm\n",
       "Al2KHOoi4A2mDe9ugW9xv9B/0SiXzXsmUbqjTbChRTjNJjPSI/km07NW2dKusMe/nD/oI8UhoeMr\n",
       "EeWMx6DXoWPgJYVpF05VhLgd6PzksEiJKTMV3muB4wBmRKJA5CCTp5pM2HqJDS3wfcVMnLCliuqH\n",
       "IYCXx+hxmJXlG/C10PtZSrGGneUYge5CQWGKhW+UeAcTCf5Bw+EF+Fztp8J7I3B0lChLzCzLu0SW\n",
       "pwwbsmFNpVLJmabxtsT0GszgdesYS+t1bKChX6PU5l1kiuPk/CfLSmrtX141R+sQaGvM+EJeZSq8\n",
       "7wAHSx4r04OL0AWdmC5dlhiacz5lMTWT2x2fKba84TN4P/w6wALQqvMeiDq+GjkjZrwrELFHHWzp\n",
       "wLKxtEdRP5ni4JVnlTc7VVjirIUqpIpQq9LQESfjsDyFMamiJrVHPWz/WAr34rZeg11gCH1SW+yR\n",
       "jiCro08ofS1MZeOkcihM5Dn4q74VozCU09708Jru63WGcmwo/QW+fOd+7dT6JtMtr87nxcH944eA\n",
       "tbSflpPp/iu0tTgizvE88c+6JHd9h3D5UECSXMsVqpVKM6MyoWeR8Ol1myNcQmhFGx8TkGLuBK/B\n",
       "+cPm2RYx/yGBUHkQ4RD6/8DikLedlmskUw17QoX/znxAfy4k/X9+/F8PrEI1JgvTOAAAAABJRU5E\n",
       "rkJggg==\n",
       "\" style=\"display:inline;vertical-align:middle;\" /></a><br>"
      ],
      "text/plain": [
       "<IPython.core.display.HTML object>"
      ]
     },
     "metadata": {},
     "output_type": "display_data"
    }
   ],
   "source": [
    "less_eq_add_both = Forall([a, b, c, d], LessEq(Add(a, c), Add(b, d)), domain=Real, conditions=[LessEq(a, b), LessEq(c, d)])"
   ]
  },
  {
   "cell_type": "code",
   "execution_count": 30,
   "metadata": {},
   "outputs": [
    {
     "data": {
      "text/html": [
       "<strong id=\"less_eq_add_right\"><a class=\"ProveItLink\" href=\"proofs/less_eq_add_right/thm_proof.ipynb\">less_eq_add_right</a> (conjecture without proof):<br></strong> <a class=\"ProveItLink\" href=\"../__pv_it/theorems/13810ea945f67813988dd2233869e6cc2aa197bb0/theorem_expr.ipynb\"><img src=\"data:image/png;base64,iVBORw0KGgoAAAANSUhEUgAAARAAAAAXBAMAAAAxVg0qAAAAMFBMVEX///8AAAAAAAAAAAAAAAAA\n",
       "AAAAAAAAAAAAAAAAAAAAAAAAAAAAAAAAAAAAAAAAAAAv3aB7AAAAD3RSTlMAq1RmmUTNIjK7EInv\n",
       "3XZ/CtNrAAAACXBIWXMAAA7EAAAOxAGVKw4bAAADnklEQVRIx71WW0gUURj+nd11buvsFuGDQgwE\n",
       "QnRh6SFSaFvRbka1ZQSWoNFD1EOMj0EPK0QQGS75YJsh89CLSeyWkCIoYUg3CpEkkBZGjG7SIkQJ\n",
       "Pkj/OWd2Z860EgtbP/xnZr495z/f+W9nAcovRkmwaGv5RdNLgSFgMQ2Tjy3lJLJtPVi5N1Psh0Wm\n",
       "+8n7hTLyUDo9QJ2RhytjxRZUmlS7SYiSZSTij/Dfe1sKcCgfnYB7ji9GlfBR9TISCfKf38cduMO0\n",
       "QcFyT3lF1YfkKsuZInVcnCYsFzwBRYmcZ/omm31dTiJHSKxrP9OtlKMRN3wut9FDRM3tAXgEVA8B\n",
       "3P1r3EsgQs7XbsirhEe17oaVX2ba4IiIs3AYYDdQ7QIxnJ8tXeRs7njSeJm+yBws9MN1mt7qZIYC\n",
       "W929ahZ3fAZ+WqkuIggLqxC0OCJVGXgLsB2oyqYaL0yvLbxJC6m4psJo5g8iwiBABYWj0EZ5cBGf\n",
       "Rgcuky3IiZ3QELgTQgj7s9kPmA/k9Mdp9vYyFSxXrr4ovDUnsBlq0GB5ifj6SA0k2OwQ+qKer1fc\n",
       "MZiEdNyTrNP0/B0655GXdGy3tTOKw3B0lLhhbYFwVBctjVhHIt9iDhFlZMkA7TY9RK4Gz4uu1uEr\n",
       "tY1LnBikLdjnLd9Z2kaYC/JElDWWAbY+voTQe2mF7DyvkY3npKdD9HpQxcGIQ+Sh0WtIU8y8+RFp\n",
       "r0JVpIedEZfYO2Pg0jpUCwbf0BAOJTB5OI/8wN6GLgWmVzFa/hg1JEd82In9SSXRSon4B5KuZG2G\n",
       "HkwIesI+kuYSST5hgBySLLE3xkKULeGdU2h1CRuuiMgxngiWzBirbKIVODEY18I09P4w+cBySqVS\n",
       "uqapJ11EpmEBx7Zxmh2NNDTo7QBhEnTy/Rb6d/NY1xdPVRO4tsnT0NSRKC6eA6ZE0obcgFCIBJ1m\n",
       "4E3qES1w1iwQUVag7wE+uw8CLMNUIVmlTQZ92lKVKNpeOJjrrOIMU3YTGL2t5jBUmfUwDJVxyMgm\n",
       "zREYdyXrc+lnA3l21cC8L6lkIAcnqKUNJlniusOKCAdzlx65Dgs3ZaBp5wj06NIxC0exKWqKdxA9\n",
       "/Slz/4BD5NSupYj9X+taDjBt1ckW+08WWZI33O/cNFkqCQ/skSu2ukR3jcOplBN3uZgBYR3DQyXB\n",
       "jCHPMmA6Iy9FiZxZx7BolQKDZjB1h9E1rkdEwmpKMf4sTDcIYMB/EvHfb/EbCmr4XvDN6oQAAAAA\n",
       "SUVORK5CYII=\n",
       "\" style=\"display:inline;vertical-align:middle;\" /></a><br>"
      ],
      "text/plain": [
       "<IPython.core.display.HTML object>"
      ]
     },
     "metadata": {},
     "output_type": "display_data"
    }
   ],
   "source": [
    "less_eq_add_right = Forall([a, b, c], LessEq(a, Add(b, c)), domain=Real, conditions=[LessEq(a, b), LessEq(zero, c)])"
   ]
  },
  {
   "cell_type": "code",
   "execution_count": 31,
   "metadata": {},
   "outputs": [
    {
     "data": {
      "text/html": [
       "<strong id=\"less_eq_add_left\"><a class=\"ProveItLink\" href=\"proofs/less_eq_add_left/thm_proof.ipynb\">less_eq_add_left</a> (conjecture without proof):<br></strong> <a class=\"ProveItLink\" href=\"../__pv_it/theorems/a1f982b72a1ab2522cd90897aecb03596858043f0/theorem_expr.ipynb\"><img src=\"data:image/png;base64,iVBORw0KGgoAAAANSUhEUgAAARAAAAAXBAMAAAAxVg0qAAAAMFBMVEX///8AAAAAAAAAAAAAAAAA\n",
       "AAAAAAAAAAAAAAAAAAAAAAAAAAAAAAAAAAAAAAAAAAAv3aB7AAAAD3RSTlMAq1RmmUTNIjK7EInv\n",
       "3XZ/CtNrAAAACXBIWXMAAA7EAAAOxAGVKw4bAAADvElEQVRIx71WX2gURxj/ZW+T2z+XvdAHHwyU\n",
       "A0EQqxytiObhjERtVdSzSsE21NQgVR9kA74ICieIL0ZyNA96rYQVfFCD3GmgSqAhtEjtHyX+oyVy\n",
       "ssGiovQISBvIg/jNzN7uzt0eIpx+8JuZb3Z25jff95vZBZpvtodGz+otjndhVkog0r6O7G11gQ7W\n",
       "WNRMIks91JpxdooYpiPfeQysZ/W3TeRh9AnUW1s3FQcCXwmWbXNwjKUo30QialogsB1enWT5WuF3\n",
       "x+47QbubcYGZaiKRhIfAlnv1brZworq69dAJjfkdMSLf1kyJLPZQT+QnngQvWKOPpDH9wK1y+Y9m\n",
       "EtnsId751JWJfFP5gKLPTwfO3/NfMCurgCvAZ8D3b8z7WxDp99Br6/MSEeN/p2gjxnV8bk9wh9zF\n",
       "RmAlMIB4R7VT2y/NuezHtQd5Q5e6ldM4kZd9c6JU9e4KGL9AnZKIKPNIuFAmWbslINJewm3gI1rE\n",
       "MbN+b6ff0mYKWcvEtVIdEWWEJirJfga7qu4NAXWWLQFsKZf/LJfvsLD2IVmCNstHHfJTs41rdojm\n",
       "cUNavem31uVI2Ba63FoisWGm/Zzs30TSlokk8ihmpYgQr90ptE7WiPU3XvYS+jKsP3ONheHVDONn\n",
       "Pnb5DUhEnncHRIyxFzas7/gGKgtZNZERfpyinpJTU3SxRj41dI3Q7pUp+fgar4QKCFfpsjP+0ubY\n",
       "w2mLLfxAm7zIx5rxkXRA5LI9ZGs/8+a/zj9sj9lB4WvzaK/eYSMCxRQWKLZEJEe6QSxfc6G9pE8N\n",
       "sJpaR0irarfGQqanmajVvJHjt6Gl/pAPiXUdBoEl46w5zGROar8gfI3rUNgVAd1V7qtSRFrSOu1S\n",
       "DdSl7AOfBNfFgW+hfCeyVgdPvdrBHDpOhUIhZVnm5yEiNzBD5a5xrom1nhy4T6lJVlNzSsD48PrA\n",
       "M/n4dvbwKNYcd3MsQ5F54HlFW+8iN8lTzXR3kkfEav3K8YkYcxi+RPWxT4FZsJTM8XeZHxJre06g\n",
       "/mbldjT6h6SqnIQ9tMMZRbuzGqNoy6KkO1wjGA+J9Vftvy5WDyzEdCxvlLAXpudXsD30/eKo/+hx\n",
       "62n4pRR/Jj3LxzCY0ra6VMZ7Mk78DPV+8aR0fkNAZOfHL9Leb9bxCkimhz557vnmxCZ/0tMeorcu\n",
       "RHe5zOxvv/uwPCoVKkcLhSCbetScSoO1LnqIND36X1Em3uoEZc3rUS9/2WjTrkCkPY3+u5TpxUJl\n",
       "IyIanaaC4J+u8d+Hxd/9Eq8BqHbzkO8Q0uAAAAAASUVORK5CYII=\n",
       "\" style=\"display:inline;vertical-align:middle;\" /></a><br>"
      ],
      "text/plain": [
       "<IPython.core.display.HTML object>"
      ]
     },
     "metadata": {},
     "output_type": "display_data"
    }
   ],
   "source": [
    "less_eq_add_left = Forall([a, b, c], LessEq(Add(a, b), c), domain=Real, conditions=[LessEq(a, b), LessEq(c, zero)])"
   ]
  },
  {
   "cell_type": "code",
   "execution_count": 32,
   "metadata": {},
   "outputs": [
    {
     "data": {
      "text/html": [
       "<strong id=\"less_eq_add_right_strong\"><a class=\"ProveItLink\" href=\"proofs/less_eq_add_right_strong/thm_proof.ipynb\">less_eq_add_right_strong</a> (conjecture without proof):<br></strong> <a class=\"ProveItLink\" href=\"../__pv_it/theorems/8e8bff69f8da0bc78cab9eaa657f92d2750c3c250/theorem_expr.ipynb\"><img src=\"data:image/png;base64,iVBORw0KGgoAAAANSUhEUgAAARAAAAAXBAMAAAAxVg0qAAAAMFBMVEX///8AAAAAAAAAAAAAAAAA\n",
       "AAAAAAAAAAAAAAAAAAAAAAAAAAAAAAAAAAAAAAAAAAAv3aB7AAAAD3RSTlMAq1RmmUTNIjK7EInv\n",
       "3XZ/CtNrAAAACXBIWXMAAA7EAAAOxAGVKw4bAAADm0lEQVRIx71WW0gUURj+3YtzW2etBx8UYiAQ\n",
       "pAtDD5JC24p2p9oyAkvQ6CHqIcbHoIcVopcMlwxsM2QeerEldktIW1DCkG4UIkkgCSNGF8VFiBJ8\n",
       "kP5zzuxc9kIsbB34zsx8M+f/v3P+/z9nAMrftJJozkT5m6yUQoPfYKgmD9vLKWRHMVp8MFPoxRLD\n",
       "AXJ/qYw6xO6idGW40JtKnaKXhChWRiE+tSgdzEbH7/zGG6YgeiSljEICuUS9lqW7dJPyGM4P3lJ4\n",
       "UVxlOVOkPud531GLnoCCQi4yvF9YeFdOIcdIrOu+ZV2tpm36QmZrjhApsxfgCVAcBrj/17iXIITM\n",
       "r1MTNliKThg2Lf7Wk5pLCDcLRwAagaIHuOqsEf6yy+auZy1X6Y3goj2DcJOmtzSZyhcyix5fgo9W\n",
       "KndcddCeDQgYLiFVKfgAsBMoBF2KWFbqrDt+MR6RJRhL5QnxDANUUDoEHWzeztfTuIBrxAW2GsVF\n",
       "d0MQad/CwmfMBzL7kzR7+xk8hiNXX1t3bVHcDGVoNnKFeAdIDUTZ10Gy1FyL7hYSiEEyki8ExXUp\n",
       "rhV5Q/tOE90h7BKhMbIMm4vEprRkyGRNUchy2BYijq5oIN+hk8jUogBcajTMb9HoEDsGSQP2Q35o\n",
       "cBthS5AVIm6yDDDx9ApSn/h14nleJo7n+Bcj9HiQuGHVFvJY69f4KVYL+hdUsAFVKvjvamyI6RED\n",
       "l1SgxqO5kxXpYBSTx7UiP3FvA2gChusYLV+YGhJUL+7EvpgYbadCfEMxR7K2QR9AAy3HAZLmPEk+\n",
       "/xCZJBliesRCFAzPR7PQxNVli65QhbBbCJbMOKtsggo0EYjI1TT0vmrygOUUj8cVWZZOO4RMwyL2\n",
       "HWmaHS00NEGlj0Y9YOf7bfS+bbznu7WhpS26rjVnQ5NGQziNOWAgLakJzUgFadBJBt6iKyL7z+uW\n",
       "EHEdBh7htfcQwBpMmckqPidKgvbPRlU0p54btTzatbNyMwzsgND62/UEVOlNkIDKCKQEneYIpB3J\n",
       "+or/1UyuPbUw742JKcjAKXz8QQ4JHOI4wwo0F+069MhxaJ2U/tbdo9Cn8CcM7LnWkM7dQ/bs19TD\n",
       "g7aQM3tWVPNf60YGMG2lSXqONKlAhmQNDxbecQeLbcXXTDia4ugT8bgdd6GQAY911+D6Cxwp7G+k\n",
       "mJDBPJV+3e7draCQc0UMc0YpNMgagzOMjr6YEB6rKc70q/D/G/fvXfwBmQbvzPYHM+4AAAAASUVO\n",
       "RK5CYII=\n",
       "\" style=\"display:inline;vertical-align:middle;\" /></a><br>"
      ],
      "text/plain": [
       "<IPython.core.display.HTML object>"
      ]
     },
     "metadata": {},
     "output_type": "display_data"
    }
   ],
   "source": [
    "less_eq_add_right_strong = Forall([a, b, c], Less(a, Add(b, c)), domain=Real, \n",
    "                                 conditions=[LessEq(a, b), Less(zero, c)])"
   ]
  },
  {
   "cell_type": "code",
   "execution_count": 33,
   "metadata": {},
   "outputs": [
    {
     "data": {
      "text/html": [
       "<strong id=\"less_eq_add_left_strong\"><a class=\"ProveItLink\" href=\"proofs/less_eq_add_left_strong/thm_proof.ipynb\">less_eq_add_left_strong</a> (conjecture without proof):<br></strong> <a class=\"ProveItLink\" href=\"../__pv_it/theorems/9e88081cb4a2b571d3c1ceb2fda95a1c4eb91c650/theorem_expr.ipynb\"><img src=\"data:image/png;base64,iVBORw0KGgoAAAANSUhEUgAAARAAAAAXBAMAAAAxVg0qAAAAMFBMVEX///8AAAAAAAAAAAAAAAAA\n",
       "AAAAAAAAAAAAAAAAAAAAAAAAAAAAAAAAAAAAAAAAAAAv3aB7AAAAD3RSTlMAq1RmmUTNIjK7EInv\n",
       "3XZ/CtNrAAAACXBIWXMAAA7EAAAOxAGVKw4bAAADw0lEQVRIx71WXYgTVxT+NplkJplkdkFQWEEC\n",
       "glD8aVAR3Id1ZdX6Q0tai7AqRaoi+iCzsC8FhQjiSy0bXEFjYRnBBzXWpLVUsbAsiij+sVpFcInM\n",
       "sqKiuCyCWFYoPefemclMdoII0QPfzbl35t775Zzv3LlA88100OjZdFPxKczISITaD6GjMRtoY2du\n",
       "M4nMdxDOMls/cuYONePAau7saiKP5DaJBrZn2sgOQtzCAU5RoYlElKxEzTb6O0unTXhDiHYxF+iZ\n",
       "JhJJOajZosBjy3MjIhGxKW5vIkrk482UyDwHDYjEvWBFHwhO+gi324E71eqtZhLZ4ECd/dyuIzI0\n",
       "nofe5sp2VMYmPmeMEvI7sBY48cG8fwSR7Q62mompIJH9GaWAqKPj0hNntLwn+Q5YBvRCdUlC2x1Y\n",
       "c+FfK/cKJxEYjhzDoTp560MV170vkbwKZSRIZBQpG5Fh4ff9477/pYW7wALaxNJz3oKzPU8bK+YM\n",
       "HRcr04hEBoGWin/EQid63M41CWUSaX7p62r1drV6j8MqAqRNctvyozd5DfAe6Kd1bZ9Wb3jeqjyl\n",
       "0UCHXU8kOsDaz/tG+tppXqsZJJIqoJwLRCQlohgbriMyihgV8FbytnVyyjovMt3/xlhB+rgtTkAi\n",
       "8rKrRiR54ZUJ4wi7/RPtQn089cAsqFNIZYKpKdtYEayasvhPkZG61LwRoVpI3h902CUfae9458cG\n",
       "b/xQGz4jhK2rg9kakd/MflO7ItzX1lNq07nDQM9X9AemkHbLclCinMHMiOkn0kpv5BAt1In1X5yj\n",
       "B8vJ20daVbo0Dlkiy6JWCsm8OA0N5deCT6yrQPt+cZndAZY51uE0erhPRFJOrXIhMhJ25IESiAiV\n",
       "jJ6H4qrr/BNZvjNw1Cn4Fsp3Kme0idQrbdyhcioWixnD0L/zEbmGMWrFzjewUkpBRohS0+qm5heJ\n",
       "5JxLvS+CVfP3kpccRU9s8iA5+SfH8qFbzGaig4ZbRapZdz+LiBixLZZHhMp94CxrgnIxCSbA2Swd\n",
       "kSL3xJrOSzQ4Wff7ZF/71qoj7hfA7N9olZC2lqOEeA6VhCU0gss+sV7X3nbwb287HkcLyQp2QqeX\n",
       "uIom8K23fJdEg49ed8MvpbyZdC+6gMMZ7RubWrW701KP0+imZ5VTa2pEvl/8Kutcsw5OcFL6ONai\n",
       "nvWh9d6ixxyE38XCP/Q/BbsZX1sqFmvnXCJscsR30gZuOg5CLRF+VwyuELNqbd30sMmbG/1pWyLU\n",
       "noff24L0or62ERGNqqko+Wfx+U399Fv8D+EX75/8jdUeAAAAAElFTkSuQmCC\n",
       "\" style=\"display:inline;vertical-align:middle;\" /></a><br>"
      ],
      "text/plain": [
       "<IPython.core.display.HTML object>"
      ]
     },
     "metadata": {},
     "output_type": "display_data"
    }
   ],
   "source": [
    "less_eq_add_left_strong = Forall([a, b, c], Less(Add(a, c), b), domain=Real, \n",
    "                                 conditions=[LessEq(a, b), Less(c, zero)])"
   ]
  },
  {
   "cell_type": "code",
   "execution_count": 34,
   "metadata": {},
   "outputs": [
    {
     "data": {
      "text/html": [
       "<strong id=\"less_is_not_eq_nat\"><a class=\"ProveItLink\" href=\"proofs/less_is_not_eq_nat/thm_proof.ipynb\">less_is_not_eq_nat</a> (conjecture without proof):<br></strong> <a class=\"ProveItLink\" href=\"../__pv_it/theorems/90556df5b665b5ff7d8773a921af8e1936b306100/theorem_expr.ipynb\"><img src=\"data:image/png;base64,iVBORw0KGgoAAAANSUhEUgAAALAAAAAXCAMAAACccDU6AAAAPFBMVEX///8AAAAAAAAAAAAAAAAA\n",
       "AAAAAAAAAAAAAAAAAAAAAAAAAAAAAAAAAAAAAAAAAAAAAAAAAAAAAAAAAAAo1xBWAAAAE3RSTlMA\n",
       "q1RmmUTNIjK7EInv3Xbn9enzK1aD6QAAAAlwSFlzAAAOxAAADsQBlSsOGwAAApVJREFUSMfFV+22\n",
       "nCAMFAgCAdL2+v7vWj4V0MXt3h4vPzzrQpJhMoS4LD801CMm/28Qn88Dnv+TFJ9sf+fiObzczue1\n",
       "OX6jcb7sMiIEWSfW5yjH9WaB0e3bCvVH4F1XipV5jmC4SaZm3etW9SOgoI7D8ucAuzuCu2TLbRe0\n",
       "C79E2e36oIJvYsmeYOsPcUSwzsfh7IOKqLEUs6ToND+cppURsZx/G7cCSeAGP4v9idFakipdQGaO\n",
       "hEOizv/6HZ87y7gF1eKWNiHWtM36GKW/DudQebChqAh3LL49qScnYfhMF7pUpvwNwTztyKVEcFfJ\n",
       "tfIiGKup08SMCSs4Wyx2VX0KGDsnzZnLwWBL6Md5OWQNkuK3tEwnE04vjpwr1RBA17uFogiaEBPA\n",
       "Chg2Ts6AnUkJl3OC845kLm3SlQIhivLRCrLVQG9B7FgumAxYcxkOyQvAvTFjqnVylgRuMajYGi6j\n",
       "dv98ZSWzrgpDVjr3pQSXYoxehQg1JnlcCMLVeMhJB0lweQ24NZYGVOekL7OUAUckbF14R+k6nv5N\n",
       "V7mH7eV4qp4iCJ71XtWNSMdSihZwkASZS8CHsTQWByd9YWU7bu6hrzT8VHdY8GCgL4hMH+Ii1koY\n",
       "WAhn0uAZMNpW8KZXZjLWjvfnAIYSpHNikZHVipGeEhyW2f0q973gU7EzAotNVFeIrW3H8CI5XQFu\n",
       "jNGaHXJxMohYf9bGqbEEuqhCKTDSGNxi1sxxp4i0QWLXDFfjtMYUUqqTboiX982K/9Q0SRCcrChZ\n",
       "1UCU+zhdU5lLzjXg3biAypCrk1l30+xkTvCs6vOuXkUNy8u+aubCvOyw8YWdx/ebuIHrN1uLT5vo\n",
       "i5Yn5WP6WTX7wnj3c+nBrv/HPn6/N/4CLysT3soT8+EAAAAASUVORK5CYII=\n",
       "\" style=\"display:inline;vertical-align:middle;\" /></a><br>"
      ],
      "text/plain": [
       "<IPython.core.display.HTML object>"
      ]
     },
     "metadata": {},
     "output_type": "display_data"
    }
   ],
   "source": [
    "less_is_not_eq_nat = Forall([a, b], NotEquals(a, b), domain=Natural, conditions=[Less(a, b)])"
   ]
  },
  {
   "cell_type": "code",
   "execution_count": 35,
   "metadata": {},
   "outputs": [
    {
     "data": {
      "text/html": [
       "<strong id=\"less_is_not_eq_int\"><a class=\"ProveItLink\" href=\"proofs/less_is_not_eq_int/thm_proof.ipynb\">less_is_not_eq_int</a> (conjecture without proof):<br></strong> <a class=\"ProveItLink\" href=\"../__pv_it/theorems/18611bda59e6c2b853f168584bb88c4b52f721e90/theorem_expr.ipynb\"><img src=\"data:image/png;base64,iVBORw0KGgoAAAANSUhEUgAAAK8AAAAXCAMAAABK1e9fAAAAPFBMVEX///8AAAAAAAAAAAAAAAAA\n",
       "AAAAAAAAAAAAAAAAAAAAAAAAAAAAAAAAAAAAAAAAAAAAAAAAAAAAAAAAAAAo1xBWAAAAE3RSTlMA\n",
       "q1RmmUTNIjK7EInv3Xbn9enzK1aD6QAAAAlwSFlzAAAOxAAADsQBlSsOGwAAApFJREFUSMfFV4my\n",
       "pCAMNNyEY3cf//+vy6mADs7O2/JRU5aOJGk6TYjb9jNDPmLy34Yn6/cMz/9xn66wPxP6GFxi1u+V\n",
       "Pu5RW1cXmQAy3l6IxwhHcTNBq/5JsHYTWVeNYKkfo5fdZFLB8BiaeCiroNMw5DG89o7eIdM87GK2\n",
       "8Y7WxYrn1HsTio/0GncoI2G1Lg1rnpNDCyXBeOlP76eNJMB7KMk3aSUsi1vjZ7E/sBE1o9xGYPrI\n",
       "NsvEuV+/03XnGENULIa8BiryKttllr2YtyBYbVj8dVK7A3d2srlCFtpcn9wNvSQvyOY0ENuoNfwi\n",
       "FrTEKQ9axxkuujLo8U28ODg5tluJxUIGP7/mU8pYVnvI01Q2If7FbrO1DDJWbyIhisi+Gi3wSgbY\n",
       "OTnhtTpnm6/pLQvipaZxW0sDrapHQ71pBipEoWM9Vw7BDuvv8Y7GALJ3ctIDhhSThs510u2fr6Ji\n",
       "GKovKyonrpbeWoQxJlyFFtI73DyLB2IXi0qiXuDtjblmcnAy2PiCNwEBsZGBUDHv+6Ca1GP0Ek5a\n",
       "aImPhOzVXNO8I3lHL/pt1FuH9zDm2uDkZCiosMMmbsoXORUciA40GyshqENZHnr5MojRdB6JDrMl\n",
       "JIhXeHdjZcm4B9hYfFTJKoI3SoJXS3rjNLOf324Ue65ymjY4SVoxtDoY5UQlU3OFtzNGo3fE1cko\n",
       "YPVZ4ybn2meTAjmN9TnZReVlwRxHicnJ4+5SD7txlq2unDQn/aAvTxmB/9QncUaJN7SmVDHvS+fW\n",
       "yhlAzKEWcIl3N66TC+LmZNHQdAtZ07sq9mQoVEm//LKVWrl4BWssOb1Q8P22bWL6zXbiw6b5osvJ\n",
       "yVh+Q62+J979Nnquyf+x79xvjb/pIhPYSvR8ZgAAAABJRU5ErkJggg==\n",
       "\" style=\"display:inline;vertical-align:middle;\" /></a><br>"
      ],
      "text/plain": [
       "<IPython.core.display.HTML object>"
      ]
     },
     "metadata": {},
     "output_type": "display_data"
    }
   ],
   "source": [
    "less_is_not_eq_int = Forall([a, b], NotEquals(a, b), domain=Integer, conditions=[Less(a, b)])"
   ]
  },
  {
   "cell_type": "code",
   "execution_count": 36,
   "metadata": {},
   "outputs": [
    {
     "data": {
      "text/html": [
       "<strong id=\"less_is_not_eq_rational\"><a class=\"ProveItLink\" href=\"proofs/less_is_not_eq_rational/thm_proof.ipynb\">less_is_not_eq_rational</a> (conjecture without proof):<br></strong> <a class=\"ProveItLink\" href=\"../__pv_it/theorems/e44b7477e164ae3531a8e492a410022837f025890/theorem_expr.ipynb\"><img src=\"data:image/png;base64,iVBORw0KGgoAAAANSUhEUgAAALAAAAAXCAMAAACccDU6AAAAPFBMVEX///8AAAAAAAAAAAAAAAAA\n",
       "AAAAAAAAAAAAAAAAAAAAAAAAAAAAAAAAAAAAAAAAAAAAAAAAAAAAAAAAAAAo1xBWAAAAE3RSTlMA\n",
       "q1RmmUTNIjK7EInv3Xbn9enzK1aD6QAAAAlwSFlzAAAOxAAADsQBlSsOGwAAApJJREFUSMfFV+m2\n",
       "niAMFAgQtnTx/d+1rAou+PW2x8sPj4pJhsmQ4LJ809CvmPy/QXw+D/b8TlK6su2Zi/fwcjefR7Pf\n",
       "W+NDXWVCCLJNqPcot+rhA4P9k4J2E3nHRrE27xEMD8lENjyuTT8CKuo0HH8PsH8ieEi2XDdB+3gn\n",
       "6mrViwp+iCVHgl3YxZHA+pCGdy8qosXSzJGm0/xhNylGxEr+XVoKZIEb+8XgX7BRNanSR2RmTzhk\n",
       "6sKPn+m6sWzXqFq75kUIlZfZLkfpq9M+tM4AYz0Bj1v1wksodFmfy1R4IJjnFfmcCO4buU5exGIt\n",
       "dUjMmPiFdumNE/xDwHbwsu+5EgzWjP44LQ9Jg6z4NX+G2YTTzZbztRoC1BunE1QrhP4EsAZmOy8n\n",
       "wN7khMs5wWVFspQ26WuBENRSLsg1A1yj2G1tMPkF8jxHC10CHq2rdJqXkyTsmryIteMyaffX76Jk\n",
       "NlRhKErnoZbgWoxt0DFAC0nBLgSxNTZTYQv0G8C9tTSgBy9DmaUCOCFhauEDpeq4+1dsco8ISjjt\n",
       "Wct9ZGSr6kbkbSm3ttSA0uKuAO/W0jh78DIUVrbh5gHGQsNPZYdFBwbGgshwFxexXsLAYjSTB1/k\n",
       "XBKbNXo+bgQYaxCWxFpGDjUjnBIcP3NbKw+j4HOxM8JWm6SuGBp3OqebrrOO1W+DXL2MIsavHeP0\n",
       "sQT6JEIpYp1OdlF8WTN7T8FMoOsPoubCOmfB1I+al36I23aj7F8dmiQITk7UpCIQlXMc7nUggGJ4\n",
       "3Tg264qqQG5eJqebbiVzgmdFn4/9zeTGkVWBwzKnPu5wdZXnoBX7+SHuwPWtJXABJD9vzTdk0XUf\n",
       "n/5Wzf4wJidsJIHLvwL+vvH2r+wfNscUiZ+RLwQAAAAASUVORK5CYII=\n",
       "\" style=\"display:inline;vertical-align:middle;\" /></a><br>"
      ],
      "text/plain": [
       "<IPython.core.display.HTML object>"
      ]
     },
     "metadata": {},
     "output_type": "display_data"
    }
   ],
   "source": [
    "less_is_not_eq_rational = Forall([a, b], NotEquals(a, b), domain=Rational, conditions=[Less(a, b)])"
   ]
  },
  {
   "cell_type": "code",
   "execution_count": 37,
   "metadata": {},
   "outputs": [
    {
     "data": {
      "text/html": [
       "<strong id=\"less_is_not_eq\"><a class=\"ProveItLink\" href=\"proofs/less_is_not_eq/thm_proof.ipynb\">less_is_not_eq</a> (conjecture without proof):<br></strong> <a class=\"ProveItLink\" href=\"../__pv_it/theorems/97be5388c05f867a4edc43d3e5c55b084f5efedc0/theorem_expr.ipynb\"><img src=\"data:image/png;base64,iVBORw0KGgoAAAANSUhEUgAAALAAAAAXCAMAAACccDU6AAAAPFBMVEX///8AAAAAAAAAAAAAAAAA\n",
       "AAAAAAAAAAAAAAAAAAAAAAAAAAAAAAAAAAAAAAAAAAAAAAAAAAAAAAAAAAAo1xBWAAAAE3RSTlMA\n",
       "q1RmmUTNIjK7EInv3Xbn9enzK1aD6QAAAAlwSFlzAAAOxAAADsQBlSsOGwAAApNJREFUSMfFV4uS\n",
       "pCAMFAivALm79f//9XgqoKNzs1cuU2XpSJKm04S4LD809CMm/28Qv34PePxPUrqy7ZmL5/Byd/3e\n",
       "2P0erQ91lQkhyPZCPUc5qpsJ1vRPCtpN5N00irV9jmC4SaZhw+Pa9COgok7D8ecA+zuCh2TLdRO0\n",
       "j3eirlY9qOCbWHIk2IVdHAmsD2l496AiWizNHGk6vJ92k2JErOTfpaVAFrjFz2J/YqRqUqWPyOye\n",
       "cMjUhV+/03VjGdeoWlzzIoTKy2yXWfpq2oc8OAVM9ZTc7tSDkzhCoQt9LlPhhmCeV+RzVO4buU6e\n",
       "BGMtdYaYtXEGLfEfp92bgHFw0u25EgzWjH5+L6esQVb8mqeZbMLpxZbztRoC1BuKv0UgvQVYA8PO\n",
       "yRGwtznh8prgsiJZSpv0tUCIigGdINcMzBrFjvWA2QETwjng0Zgx3Ts5SgLXFFSsHZdJu3++ipLZ\n",
       "UIWhKJ2HWoJrMcagY4QWkwIuBPFo3DuAKAltSZwC7o2lBT04GcssFcAJCVMLHyhV8+5fTZN7XF6J\n",
       "pz1ruY+UbFXdirwtpegAg3WDCrqH3Vhah5OTsbCyDTcPMFYafqg7LHqwMBZEZnZxEeslDCyGs3nw\n",
       "Igkn+Tngzdh4Pu4DmEqQKYlFRs5oRuaS4DjNbUd5GAWfi50VWG2SumJs45Zew1I6PAPcGaOzG+Tq\n",
       "ZBKx+ayN03MJ9EmFUsQ6neyi+rJm9jOllLUXm24zzjNtJaU5GYZ4ed4o/KemSYLg5ETNqgGi0sdV\n",
       "QqQi5RYEUGeAN+MKqkBuTq66m24l1wRfVX0+1KukYXnaV125sC87bHxhF/D9Jm7i+s3W4tMm+qTl\n",
       "yfm4/Ky6+sJ493Ppwa7/xz5+vzf+Ap9pFH0QnSRUAAAAAElFTkSuQmCC\n",
       "\" style=\"display:inline;vertical-align:middle;\" /></a><br>"
      ],
      "text/plain": [
       "<IPython.core.display.HTML object>"
      ]
     },
     "metadata": {},
     "output_type": "display_data"
    }
   ],
   "source": [
    "less_is_not_eq = Forall([a, b], NotEquals(a, b), domain=Real, conditions=[Less(a, b)])"
   ]
  },
  {
   "cell_type": "code",
   "execution_count": 38,
   "metadata": {},
   "outputs": [
    {
     "data": {
      "text/html": [
       "<strong id=\"min_real_closure\"><a class=\"ProveItLink\" href=\"proofs/min_real_closure/thm_proof.ipynb\">min_real_closure</a> (conjecture without proof):<br></strong> <a class=\"ProveItLink\" href=\"../__pv_it/theorems/3f15b3f5b5d66c9efaed572bafea76b277e831db0/theorem_expr.ipynb\"><img src=\"data:image/png;base64,iVBORw0KGgoAAAANSUhEUgAAAacAAAAWBAMAAACWIE7PAAAAMFBMVEX///8AAAAAAAAAAAAAAAAA\n",
       "AAAAAAAAAAAAAAAAAAAAAAAAAAAAAAAAAAAAAAAAAAAv3aB7AAAAD3RSTlMAq1RmmUTNIjK7EInv\n",
       "3XZ/CtNrAAAACXBIWXMAAA7EAAAOxAGVKw4bAAAFeUlEQVRYw82YfWgcRRTA393t3e7t3a33V1tj\n",
       "DSdijC0Np01Fg9SFpBARMaXVP9pgzw+QVqobkEL6kSYifkBsTyWUhGguphTSaHJtiNqCkholBhWr\n",
       "BC1tD7amWJtoCGoSSJPG92Z29/busilh/3Hg9t69eTszv5k3b94cwDJFyTSC6yI66DU3jWrO+lsN\n",
       "OlTjngl+c5iwmJtGn8n7/eBIx96RONfjqKOku9sJykNf3riL7r1p8c55EsILq8WhrH69q5lS8oeU\n",
       "rIOtD6eYHqG2kOpFJyiB1irgxlNOoAN20BDunwX/v5ZaTrhb/z35UAcgKEWZHqGayO2TTlBkB/Vu\n",
       "eq9EgL+I4OocQMpSC3F3UOWFUIKWYHqECmBHoZjjnqIZOe2m90GEmpwFkLbP2dVhlzs1bMzP9Uwm\n",
       "YUElmR5H7cMpCzgHio345cZTvPiyPI5upwg5UCUuoQJ8pZ8ez66U52SU6Sm8/ZDJfOcMFc5kLqdd\n",
       "dC7gy7K+FsCHUPvOwRtfN1zRUf84VdZ92WCP/Xdc05c/HGwGIRbgxD0293u7RGN6gqoGaHOGEhoh\n",
       "mHI5o7K+KwbraKWeBfgpJqEzwvP48Q9Dh63tWi04t2xbdgMfc59sCEse3LswzvUEVQdi1D4dowPw\n",
       "SNSCwrq6FbvcpRdWmVMaiRFUJAk6Qb0L0A7wD+p/xs/HcXgCoMvwbnkIhPPQc6rIqVluYPYxyKBs\n",
       "gWLjCUNPUMFU9ow9cnsL3BVKCans4dsGAysioib0dOiAuaFrCEqZFWsMqFaAm6j/Bj9PAlwCadIY\n",
       "qDAFkTSoxOngyczAKNIUPZszWJIcKtgV53oatVe3eIVqOoh1NWTLKMpWFidYE7ru682Bkm8oUAg1\n",
       "AvI09m9AhZPQVwPTcNgpy+EGRvGzleq2rZSktnE9W6PEZnTFyiNXAcaouvSeBjtUwIeeJPdPmN5r\n",
       "E7OlZ/NnhsSa0HXleI77QbsvDwrdT74JvqksVJ8OjwJUOENxg/KHJlUw34rYz6nqeq5nUKcxhHTV\n",
       "xsOazBayNPTRThtUqAR98RPtqEliE7Pe/ivb/CSxJvR0/ZhRFdQZ1K6iPKgPUf03eBL3suHJNOYY\n",
       "rPJi01/Yz2irB9Ng/6YhGKaAwDpSdBtUN+VIqGdQBzEs7P8dbkv5WewvBfW6DUo8h0IVNGNiwfoi\n",
       "0V+2JdfnVGnQ8ArWhP7YGXvo9UfJdTyzjGg3hzrFwDaoKoPqSxC+d1TATXER5BnCoAfpLYEZiL0J\n",
       "mDOOCizPWVCv4onbwvQMykPrXQy14Nvd2voeQvUE7Fn6GrYDroC0gUGRGIa+XG+vUYx4yZvQ9QEz\n",
       "R5HOg9g+E1dqlLUzq5u+L2qaX3PfPBq/g3WdE28WNzKoyEUcfPHndX/wqctQT6PkXqopWAYenW2n\n",
       "CN9dnS0pM0s/Bq2vxEifjXvfQpUkpflK+cvyrh7yLLx/EiIpUxRp4ezergUrUuXbMPHmTej6U2fN\n",
       "ugtLb5CItXPY7lhnnSiqqIG30P8sg3CjoOK7h4yfOz/I5ASyQ7YLkzgFF0r5IbwJcC3y7lPD0nQF\n",
       "QclpLkILiT380QNh7ei2VFmStm0b31Oh406Zp3l4qjlQVqiuf+t1zN4K7S2DwxB5rZHlyU75szVq\n",
       "dPuJONSjtfSLBp58qO0PYC1CSV9xEfMMFJs1aRgfzTF/ZVk/evE+GhQ24X/5JbnKnL+gw73lmDmd\n",
       "n97QKZQY5cfFRYDewkBhGWwFpd/5XkH6vKutfKa1xfnmS+7n5eJZxRKx8P0TgbEdhU0Y8bCwdOfc\n",
       "+XLrClPAPAPHqSL9Le7rIft1X/oTryA7eEK3uGCKtMp8B3TC+iXvSA0Oc6q7SdKvOeuVyyv9EyK+\n",
       "hOiD/1v5D8DXqgpaJyQNAAAAAElFTkSuQmCC\n",
       "\" style=\"display:inline;vertical-align:middle;\" /></a><br>"
      ],
      "text/plain": [
       "<IPython.core.display.HTML object>"
      ]
     },
     "metadata": {},
     "output_type": "display_data"
    }
   ],
   "source": [
    "min_real_closure = Forall(n, Forall(a_1_to_n, InSet(Min(a_1_to_n), Real), \n",
    "                                    domain=Real),\n",
    "                          domain=Natural)"
   ]
  },
  {
   "cell_type": "code",
   "execution_count": 39,
   "metadata": {},
   "outputs": [
    {
     "data": {
      "text/html": [
       "<strong id=\"max_real_closure\"><a class=\"ProveItLink\" href=\"proofs/max_real_closure/thm_proof.ipynb\">max_real_closure</a> (conjecture without proof):<br></strong> <a class=\"ProveItLink\" href=\"../__pv_it/theorems/d7eb97acf82730e6f00c82a880c0b8894d098d020/theorem_expr.ipynb\"><img src=\"data:image/png;base64,iVBORw0KGgoAAAANSUhEUgAAAasAAAAWBAMAAACMHK5BAAAAMFBMVEX///8AAAAAAAAAAAAAAAAA\n",
       "AAAAAAAAAAAAAAAAAAAAAAAAAAAAAAAAAAAAAAAAAAAv3aB7AAAAD3RSTlMAq1RmmUTNIjK7EInv\n",
       "3XZ/CtNrAAAACXBIWXMAAA7EAAAOxAGVKw4bAAAFfUlEQVRYw81Yb2gcVRCf+7+3d7c9/NBqreFE\n",
       "rKGl19Om0gZJF5JKRMQrrX5ogzlEECvVDYiY/knPIqgQmkOJklDNxtRCG03OhqgNtLWWGqOI/RC0\n",
       "tD1ZTbE20RjEJJAa48x7u3t7d9m06X5xILuTmdn33u/NnzfvABYgKZcGxxS4Bc1NkGIvv9GyQ0nn\n",
       "qOCXW9DcBD1V9P+DQx27hhJcjuuOkuweO1guerkTDqZ3ZwN3/UNMeHZZscYJLKl4UZkG2LJRZXKE\n",
       "tZlEz9rB8pK//IqD6Y9gsHXQEu6fLtU4oZ3FsPZAUIgyOcJ6lYI8YweL7KDRyezVAOIfKWSuzJRq\n",
       "nFBFKSyvkmJyhOVX8RWzzS3ak+NOZv8CYY2jo4RtM6UaJxRW+ftaLpcyYWWYHNftwQDx25eMdfhK\n",
       "OUkt/Fgc/RtzwTtTqnFCfp5cT47mveU6FmVyKnXf5XLf2sMK53KXnaS2Fz8WtRUAHoJVNTYAG+cS\n",
       "9V+luQYaTjVZK/6dV7WFDwuLQYgVu8BOSxC+uVJhcoJVC9BuD8ubhqDqcE9FrT4GqxCWexAeBjit\n",
       "+pO6xjcIHZbR65TgzIKjWQ08zNv5cpbZu2t2lMsJVgMEotYNGe6Hh6ImLNQ1LDrwLj2z1NjUSIxg\n",
       "RTKgcVj1CvgzGwzNRwl4DKBLD0fxLHjPQ/cny+0G5gbGLCw3/ZaSse6ILidYQTV/6h68oxXuDqle\n",
       "NX8ct0P/ojDREFo2tMdI7CTBkqYDSZZbH55WQDyTMDSPA1wCYVxfqncCIlmQCalNRDMDnYQJejbn\n",
       "kDIcVrArweW0brdmIvbW0tGsySFLlxFfXMVgQ2iap6cAlnhdAoJ1+La1GDRrk4ZmCMRJXIEOK5yB\n",
       "3iRMwn673ocb6ORj3jpq8ZYgt3M581OqCgOy+uAVgBFSl9/bZIXl92A8iX1jRgxb2Dx1V32mc2wI\n",
       "TZMOFwQhHPIQLPc5aMGPH/1G14j/gmciD6tXg00AlfawuEHFhnEZjK8i1nOrtpHLGazjWEy66hJh\n",
       "RWTOLA99sMMCK7QSI/JjpcXAYmHzMf+joLcQfAgt2ziiq4Iag1W/nGAtkaH+FSWkvqNrxL/AlbqP\n",
       "LVCkVcdgqRsHPwlQWqVMg93rz8IglQY2laRZYB2lzgnlDNZeLBC7f4Ulqo/FfDnI1yywAmeQqYFm\n",
       "bDbYXMT64psLI08W9LOVD6E9csJahn1RCh/XNMH684ByCnplXfM+rJFlBqs3RUDdw15MjosgThEQ\n",
       "epDcZJhBoCcFM/rRgfS0CeslPINbmZzBcpHPy6AOPM+1tb2FsLr91g7+dvw7Bz+DsIbBIjYMvYUx\n",
       "n5T02smH0LR+o28RzkPg0FRCSkorppYJZfHun05OwaYpjWmgc+z1sjSDFbmIyy/7vOE3vn05mmuY\n",
       "gkw2GNPApbG0ivAs62xVjQ7+XWh7MUbyfA38GmoEIcu95YsXXUzEaXj7GERUgw2Q86wxrwQr1Yqt\n",
       "q3GtWZ5bTwwYugu21cXUsCxZZZ4wckABd2kUmgbhtFdGT+zT/93xXq6gqO2zXKgCE3ChnB/L6wH9\n",
       "UXTfGhQmKwmWmOUstBLbzR/dEFZatqrxDKVvO8+t0GG7jnSeXpXBMgt34xuvYVdXam4a7IfIgbR9\n",
       "p1xtWTeG/1gCGtFa+EEBVzGsbQ+gFmEJX3IWew9kmxVhEB/NMV91vA9j+WVaFA7he+F5scbYwaDt\n",
       "rcbQBD69rlFZ0en7uTmAntKSYRpsAanP/tZB8qLrr3iirdX+dkxB6ObsgGSySDyPIjCyvXQIvTbO\n",
       "2zNYNVKhrrQ1lGw2Zb7NusGtPmT9UUD4HS8o23mjNzdrsORpngedsHreW3ST7fBNThr4q/Zy6fJi\n",
       "f6xIzMN64P9H/wFALK1pmUI0WwAAAABJRU5ErkJggg==\n",
       "\" style=\"display:inline;vertical-align:middle;\" /></a><br>"
      ],
      "text/plain": [
       "<IPython.core.display.HTML object>"
      ]
     },
     "metadata": {},
     "output_type": "display_data"
    }
   ],
   "source": [
    "max_real_closure = Forall(n, Forall(a_1_to_n, InSet(Max(a_1_to_n), Real), \n",
    "                                    domain=Real),\n",
    "                          domain=Natural)"
   ]
  },
  {
   "cell_type": "code",
   "execution_count": 40,
   "metadata": {},
   "outputs": [
    {
     "data": {
      "text/html": [
       "<strong id=\"min_set_closure\"><a class=\"ProveItLink\" href=\"proofs/min_set_closure/thm_proof.ipynb\">min_set_closure</a> (conjecture without proof):<br></strong> <a class=\"ProveItLink\" href=\"../__pv_it/theorems/296175d550b2dce2244de1f4fd9771926b8d032f0/theorem_expr.ipynb\"><img src=\"data:image/png;base64,iVBORw0KGgoAAAANSUhEUgAAAgkAAAAXBAMAAABzD8EJAAAAMFBMVEX///8AAAAAAAAAAAAAAAAA\n",
       "AAAAAAAAAAAAAAAAAAAAAAAAAAAAAAAAAAAAAAAAAAAv3aB7AAAAD3RSTlMAq1RmmUTNIjK7EInv\n",
       "3XZ/CtNrAAAACXBIWXMAAA7EAAAOxAGVKw4bAAAGWklEQVRYw+WYb4wTRRTAX7fb7nbbLsUYhWig\n",
       "UcREhTQIF+XDUQLohYu5chhNwEgNH4iGwF7iPwS1XjSaCFwjIVqMsBg/COi1cEG4I156EnJRYjgN\n",
       "Ihw0LkEFJHcUCIJ8sM6/3Z3udUtLjV98yW3fvJ2bmf3NmzdvBqAOUQupaq9HjkPjotVpr0WkKm2O\n",
       "HL/JV42RYKLq673/AgQ1Wp+9JvEZle3P0lGjz4pg7d5aKXjwjxBzo1BPY5XlQej4JY+VIz9o62K8\n",
       "vRE5M9Y0pTU3S42ZFBZg04paKYjYG/yaG4V6GqsoShJgzRWkeCdrsCxeZm9A/LrTEjBgRxFeMCm8\n",
       "hddNulYKMp7tNa4rop7GKoqIZqf7GF4BbToo5fYGxBt3WuYjYxJmmhQwpmC05riA6e1xpVBPYxUl\n",
       "hP66LyJfe6dNd9obke9YdPmkcIxq10m0COmMghdR9tceHR9GP0lXCvU0VlGmYgpZNHNGOYWpDVJY\n",
       "TqPkKrNRH1p1cgr8MUYBvi8UDtdOIVQonMq57xF1NFZRWjEFDwqPsTZdWhmRVz4+Osm0S3ed5WN9\n",
       "R/8bN9kfufq7yfNli6xS2k8+KGJSaAHYwv1vvDoFMQUB3Z2Co7FbmrNu32UQdOQL/giEb4Mujdmf\n",
       "0QI3uN1vELbpVdvi6zeBI27PKV3SSGhgFDpAwiFv6WgzSR5YbCPFYCaT0aZ9NXeVTQHV7eC7er01\n",
       "4R2wKbDG6tzO+8+cY+qPmAKcABUQhUAEAnkYF6N25SCIQ6A0sZpfxOAJUA6MdyVB6zN5iDy5payc\n",
       "LyGPE/ImhYCOn4IBXWBTIEVlM4koQdiXs7OmLXZyJJ/OJIRIHyy0KdDGapeNE1Ef00EusvIhQuGi\n",
       "9pJJIQ3jDGoXixDOwcYRVrMN4CSI3IeO2W5IfSbk22S0XgsnrPdXgfRLKQiGnwZhD0eBFAMkL1BV\n",
       "mG3YFKbbROcj5xGaRcjZFGhjtW+MLfiJJiRSRiGbM8ZSCKUhi/qfxmp+C8pVGJeQrrtuN7Q+Wx1k\n",
       "/u09HPmXchl5oeULkGxGD+R3EkeBFNcCo/BH3Kbg96JRzXxkNA4k8xI6nzY4CrSxXc37zO441fbG\n",
       "ngsan9NdsU8JdEUE8jEHBWTPGjAHLArK3+Atgld3p0Drk5Ga/2X5jYKoSyhoCEMWhT04B1BLm4Cj\n",
       "QIr3UDUobY3ZFIJTUToz6yAMwg6ydFJ99/EUcGPKz/I1sztbteVLrYt+NZuci39ZOdFWQsF3SXdQ\n",
       "QPZsFO4QNPI9OplJT/J+NJwhUnRyBlb/NTJSgEeJedR8j79eRMP2pi0K64g7ftoW4SiQ4mJKQfw4\n",
       "zZ2mJBQLpe4k3KCvhZSopjkKuDExLudBInsFUdt/TTjytvUsLNKvV6Zc4ne0RdjdAWXQCIGfUdiN\n",
       "c17hqEhmVfmTcJkWR7O8QafFbBJshTxIfTpSutMiPzYTOvEk7QqTYBQ8KYLXV+QokOJ2tiKC7fyZ\n",
       "cgL+FwOtqCa0g0SFlJJLchRwY6GEGoHOYbI4sZpXimUUDsFpltg+n8l8gCdumflqA8rPjyyH3+D0\n",
       "kedevXvg88kDndsGqF2ZtL/jHPXtApr97RfenZSirHExjP3+KDAlPGzWJyMF+IninriEUfDdPh4T\n",
       "CScsCmRWomb+n7aLNBdWVd9S3XGyDqXEeOp96gvQbjhO1lktMFuHYUvV5HyZu16DTTu9C2bkQCZr\n",
       "qZ07mYRdjvq2HVMQrDXwIrzCFy15APiRgsQigq/XzKDZPg9lFMQIeDSbAiu2puhO2Rd3UHgTwp0p\n",
       "kj15E6BGHBRCWtdiQmEXUwMJpCo58kA/g/LV2cJ5HKvIqpkLcKf7scdpxxSCVnr40XsLuaIt1hZJ\n",
       "Rup6GJvnoPB26z4uOrKirxdlTU/9nvvsMQeFRaD2oCFgV11hb3MmBd+86T2AKayPUrUFq/IgrNfk\n",
       "QfkbeHLGhRhMkPAhGmNumX/APqp/6BLxTfva1f04fpq8S6UiV7TdzUqdyUjdTsHE/fdWujxK137X\n",
       "tCuTSbjfNeEVQaNRUDdMFbsz/RlSZ6HA1pvZXN7FDpeuy+yOq6OxN0mqC0PnJYN2SxSq39B9zd87\n",
       "bjwcBR9dsKtLQ6aKZAnbsYWeitPjcjnmZq/tGs/lWugsvnc8pJ6qSsGTweeIRi43KqmN3Zf8R6LB\n",
       "/1D+ATM59lU2YvcHAAAAAElFTkSuQmCC\n",
       "\" style=\"display:inline;vertical-align:middle;\" /></a><br>"
      ],
      "text/plain": [
       "<IPython.core.display.HTML object>"
      ]
     },
     "metadata": {},
     "output_type": "display_data"
    }
   ],
   "source": [
    "min_set_closure = (\n",
    "    Forall(S,\n",
    "    Forall(n,\n",
    "    Forall(a_1_to_n,\n",
    "           InSet(Min(a_1_to_n), S), \n",
    "           domain=S),\n",
    "    domain=Natural),\n",
    "    condition=SubsetEq(S, Real)))"
   ]
  },
  {
   "cell_type": "code",
   "execution_count": 41,
   "metadata": {},
   "outputs": [
    {
     "data": {
      "text/html": [
       "<strong id=\"max_set_closure\"><a class=\"ProveItLink\" href=\"proofs/max_set_closure/thm_proof.ipynb\">max_set_closure</a> (conjecture without proof):<br></strong> <a class=\"ProveItLink\" href=\"../__pv_it/theorems/5cd2bfeb63f3b83fb9236b6bb2baa64a5e770acf0/theorem_expr.ipynb\"><img src=\"data:image/png;base64,iVBORw0KGgoAAAANSUhEUgAAAhkAAAAXBAMAAABUoUDhAAAAMFBMVEX///8AAAAAAAAAAAAAAAAA\n",
       "AAAAAAAAAAAAAAAAAAAAAAAAAAAAAAAAAAAAAAAAAAAv3aB7AAAAD3RSTlMAq1RmmUTNIjK7EInv\n",
       "3XZ/CtNrAAAACXBIWXMAAA7EAAAOxAGVKw4bAAAGe0lEQVRYw+WYfWxTVRTAT9/H2r52j6qJQExw\n",
       "QYU/ZEuDsCh/zC5shrCQFTCaiNEaYhD/wLfEjyAqhWggkY9GQqQY2cP4D4JrZVFkEzIlZlFimAZR\n",
       "lIaHREEWxvgSRLTec+99H319XVvKP8aT9u3ee+5O3/3de8499wJUI2d/vDl9yop2A5ry4i9tU80l\n",
       "yac6cx/fpD7lRG2oXlOByIZ3+xPkG4rjJ4LVuyql4cOnEB2bRlUmPeVe6Do+gIVD32puTS1ysqhF\n",
       "aOsX42rUpNGObUsqpSHFybNOG5tGVSa9REkALL9ICuKdWrGmBqnT3S3bQOkGeNaksQr9KVUpjQDO\n",
       "+/IynlKVSS+RyFz1HEG/6NSLNTWIGHP/EmloBphh0kBcoYaK4wahCLvL9KnKpJeEybfnHFkWb7hp\n",
       "hGsMSF/z6PNu7ggtjEvSqBHWOQ2R0K6rPIreR56JMn2qMuklU5BGhkyb4aYxpUYai1k0XWaafZK8\n",
       "6lrytlFOA77J5Q5WTiOcyx3LlttTqjHpJR1Iw0fCaJTQEEf6dbH7onz9Ga7x33HKuTd07X+tzL7q\n",
       "6P8Rfb5oMc78RXfVUMSkMQdgq+N/Y2OPVEpCUC9WhApouEze0Az2yBdA0AmNaZqUgNA1eNrUPK4F\n",
       "rzl2zUHo1se05uzfDIURXsznx+OfhEmjC/wYGheNtFBMPPrRaiidTmuNn7Qus0dK+nZ5xb0CGtxk\n",
       "lcnA/pOnefE7pAFHQQVKQ74CsFRMco1yAKQhUJp5311RmAdK/y0libD+XKbRp8PVe7qv4z47YNII\n",
       "6vgUDNgINg1aVTbTiBOCPVl7pFsL06tXO+Li524azGTlsmEi+aUmCIzy+peUxjntBaQByiJCY9dt\n",
       "pkYahfosbDjL+3YC/Ex+3h5w0UTR/lzoGAPEk3NHzaZO8qrklzkNwahjwdrnoEGrQbrZqyrMMuyR\n",
       "NtlkAyfScSHSB3PdNJjJyjfUOfgkYSJSQCOTNZCG0jqZ0BAum5pwCjLktRt5369AuQzj4v6rJTco\n",
       "1p97DV0t1u4vYuggu59srQ1ItOBWE+VZPOtJqyuA0zgTs0daJ1ohqY0sXqFFgmyobV5buzMzpyZ3\n",
       "tuwxF2vvcHHCZjeyDPGifQZhnhIciFJPiQcIDekznWsyBjwIFg3lHxBHQdRL02D9Z9w/ErP+y1pH\n",
       "28l3JTEsDFk0dmMOoeY3gYMGrU5mxZB/W9QeaWiKzm1jPgvC6keNrHttUJPKDzgKKh9qG4tpWI18\n",
       "qs79GbUTRKQhn9eRxiWQr6yBvmCCa8hc3i5odFzoRhfAl5hKXmuIVl2iA+//8swDMEgqD9DmEVPf\n",
       "yLcpMWXReIUu0Pc6Iw4atLqQ0ZDeSTlG6idRQqG2d9AAk+y7p5gGmpRigQHw072lDdaB3NRe+KbY\n",
       "yMIno6Dcfd65D85HJwCSmV8C9erUkKFc4pqgIRyW6ECUPyifxhiZ9fU6q2YS4CrQ/v6eBFzjQyfr\n",
       "20wN52VxcyXvmrVo+JKUojzqoEGr27mnhBY4RzqBEKG2FzIakpoqooEmw3E1Aqt/Yt5+gkSiTCEN\n",
       "bGTOuzSdfgsUkgqZqvUk+z+0GH6FE4ee0lb9cmbf8PGEmF/GNMqkT7tOs2nNkbnfPrxmUpJRx2o9\n",
       "+sNh4AVsYf19hozHwO8Z+ImP8XRifuut+Lc+btGg89NgnixSdpVl16oqL9Jdp3Vqu5nsvw1CUskm\n",
       "3PkG81ctOEsHpKFcgU0f+M2lYIYNbBTbp2chQCP+Asf5p77kRYOtQRqC5RvPw0vOqnVCtVrCSSlG\n",
       "oPGIIe/lmbm5M0IBDSkCPs2mwasdSbbD9sVcI6W232RrAxYYnvcbYW3jQqShZGEwcHkWwGYs7rQe\n",
       "2Cj8jhGNelMrwPiShyuPY1ejM+fzb1k7t2BKipLClVC/Olny0DfbReP1jj2OKMqr8l6SfT3yW/b9\n",
       "h1wjpbZpTirGQY140pBnN/UCoRH4Ah6ePhzFLJYU12mBQXzwxgl+PLwj9Dlt/XakfbvkbmxqVjy3\n",
       "HyOtST6fH3VU7dzKKs0Htbfk6RvdwknDllQl91rUtn8LOvISO03wuvsiniKwUp9qFcEqDakzSfjb\n",
       "m95c+Ds7Sr5BgcZ1lVV8s2WUYOkSTKxugMa+gjvPnel0vEyfDQcbgEWsuvzfwIsorKREhF7PyTJK\n",
       "HsGMWi4YS1xTnSKqY3HyGYuGL43nlJovOaNexSj8J0SD/7H8C5pZALaNb26kAAAAAElFTkSuQmCC\n",
       "\" style=\"display:inline;vertical-align:middle;\" /></a><br>"
      ],
      "text/plain": [
       "<IPython.core.display.HTML object>"
      ]
     },
     "metadata": {},
     "output_type": "display_data"
    }
   ],
   "source": [
    "max_set_closure = (\n",
    "    Forall(S,\n",
    "    Forall(n,\n",
    "    Forall(a_1_to_n,\n",
    "           InSet(Max(a_1_to_n), S), \n",
    "           domain=S),\n",
    "    domain=NaturalPos),\n",
    "    condition=SubsetEq(S, Real)))"
   ]
  },
  {
   "cell_type": "code",
   "execution_count": 42,
   "metadata": {},
   "outputs": [
    {
     "data": {
      "text/html": [
       "<strong id=\"not_equals_is_less_than_or_greater_than\"><a class=\"ProveItLink\" href=\"proofs/not_equals_is_less_than_or_greater_than/thm_proof.ipynb\">not_equals_is_less_than_or_greater_than</a> (conjecture without proof):<br></strong> <a class=\"ProveItLink\" href=\"../__pv_it/theorems/3395220c1eb13bd01925f6c6736407d1691bf8ab0/theorem_expr.ipynb\"><img src=\"data:image/png;base64,iVBORw0KGgoAAAANSUhEUgAAASAAAAAXCAMAAACcVWITAAAAOVBMVEX///8AAAAAAAAAAAAAAAAA\n",
       "AAAAAAAAAAAAAAAAAAAAAAAAAAAAAAAAAAAAAAAAAAAAAAAAAAAAAAACXHtMAAAAEnRSTlMAq1Rm\n",
       "mUTNIjK7EInv3Xbt5cmRiLwgAAAACXBIWXMAAA7EAAAOxAGVKw4bAAADdElEQVRYw+1YiZLkJgzl\n",
       "xgijTfz/HxvA5sbHuKc6VamwNft6eswTEnoSmJB/b+gO383+9JnfXtfvDWQt/nBIfGzhJfOONH/P\n",
       "+Ffjw2yLPw8wf2jhNXNEIdPX6qspBarFF0NB/kjzxwV7Cx8wB1xSCmnz1QQSvMUXg4vyMYfFLL2F\n",
       "D5gjpmhZ9tUArR1eSeUst9eSQi5tsxosjLl7H7nEHJAfj6vvViDV4sVuOgFnSiiepu0VrLcwiZB1\n",
       "dwU+MUdcXRir/a7CbIsEECksts9jdLYNj6YW9eGfLR0mZY4bLEyJB9oT5ogiqtbAW1cvS/GjLTpo\n",
       "kCIR7nqr5erlZradl1dJQqMXiIOFGfEsMafMETVN/z1QhrNKUFUv+6q2W3n2F8da5H513K+OFtVo\n",
       "4YZiAWvsvIezrCoze7Nx0FuYEGcNCn3HvGNInnNXUvekxvhnkPjMtdo+CtBF1FfZYth/0VQNqiZd\n",
       "Q2zR98P8stU56b1lYrAwEldJo8rxYM68I8PbEi3E0T3R/yMc8FGAqH4coPgZbwO0BmuwyaSK7lhY\n",
       "t7uKecWzAJXCMmc+UOVzBFiONltBFBpDHpZDawwQgpgHKE/Y2e2MdC6x8PjmnwG4khhsYZ18y4Jv\n",
       "KMliJhZG4iyxagNPmA+07DgMgdM+q9I01IQa4jcSiuEgMW3qU361qDxBmDD++B/ek6ZZ2CB4+dKw\n",
       "W/ayH8PGYm4RFum4aS8IVA4W5sR7kdb3zAfqlSYlednlvOXRiteW5FWAhLHNuqpf8oTmRtOSkkkf\n",
       "9Tu1LSD8M7KTFaBD6LxmThytU7ThdGq0cEI8tvk5c0K6FN1iXVn3jecqZoRhu8RsY62tQSVTctoN\n",
       "pLH6uQZB+AbNBGezg2LlC1C0i6a4r9e1nUWw0cKMOER9PJBMmTsLENwzvMg1bLz/arGkrkFS1uFv\n",
       "AnRMCBL7628TJTaQHqaXFq/O0idXDe0up50xg7u9aiTmwcIaqoXk4NUfhEes2g+CpdjvbX5epKsJ\n",
       "1SW4kJ7fBz+7797fZX/tJi19LqLlIRN8TgqUFmMJ0OmOLBUq6/O2OllUGVQm1DHNpJ3odYs/f/F3\n",
       "9/rhY+ZLC6y73wW9TA+TcxJ2+74v1Sh4+5rl1v+Pma8syMdXs/kqHrwbSBdDja+8QP3YwkvmSwvP\n",
       "XzZNA8Qk+X+kbfpvu/cPZQEeu5jbnXcAAAAASUVORK5CYII=\n",
       "\" style=\"display:inline;vertical-align:middle;\" /></a><br>"
      ],
      "text/plain": [
       "<IPython.core.display.HTML object>"
      ]
     },
     "metadata": {},
     "output_type": "display_data"
    }
   ],
   "source": [
    "not_equals_is_less_than_or_greater_than = (\n",
    "    Forall((a, x),\n",
    "           Or(Less(x, a), greater(x, a)),\n",
    "           domain=Real,\n",
    "           conditions=[NotEquals(x, a)]))"
   ]
  },
  {
   "cell_type": "code",
   "execution_count": 43,
   "metadata": {},
   "outputs": [
    {
     "data": {
      "text/html": [
       "<strong id=\"less_complement_is_greater_eq\"><a class=\"ProveItLink\" href=\"proofs/less_complement_is_greater_eq/thm_proof.ipynb\">less_complement_is_greater_eq</a> (conjecture without proof):<br></strong> <a class=\"ProveItLink\" href=\"../__pv_it/theorems/37638561c302a27781f1cd77de4f762e769ac4960/theorem_expr.ipynb\"><img src=\"data:image/png;base64,iVBORw0KGgoAAAANSUhEUgAAARQAAAAWBAMAAADz4X71AAAAMFBMVEX///8AAAAAAAAAAAAAAAAA\n",
       "AAAAAAAAAAAAAAAAAAAAAAAAAAAAAAAAAAAAAAAAAAAv3aB7AAAAD3RSTlMAq1RmmUTNIjK7EInv\n",
       "3XZ/CtNrAAAACXBIWXMAAA7EAAAOxAGVKw4bAAADu0lEQVRIx8VWXUgUURQ+uzPj7s7qthAIZsiC\n",
       "4ktGS0ThQ7qx2b+1BPUUuWQQFcQGvVgW1mNZaiBiD7LCEpmxrEKCRbIEQRSF/QiCrIy5EUWJ0IPi\n",
       "U+feO7POvfODb33wze6ce8+ZM+ece84AbAA+ckmJAnukhK0bUPG5L3P4hgxFBIEDzuq0s+EARWMM\n",
       "k5taV0+8ObxsEwUOCEUZ7Ww4YZGxhfy/4OrKY6SaFASOuKTTaoNDvSmLZWnK2yRRva6uxJFyVBA4\n",
       "YpdOqw0z9h4x3UgxSuJRMOLqSh5ZLgr48JvCWp5mtNow4c8L7vYdpYSvW+ZeKiQ39aLADOmr6dFl\n",
       "UUarjRLUVxq/3M74oVB47+qKTCruqCBQl7bcGzcqdY56ohajMIwhDjNabGTjoFK52lryNLvw5CWm\n",
       "ZAwoDwE8cnWFvmK7IJBhQWtlt6Pz7DfozUMzhijJCNBaIPhkqOQaQFomnlSu10MsVCNPA+wGyqvg\n",
       "C1uTMne+0ghiBdH8jE+nlmNMsAea05vp8rUv+r47aLQKVfOMHFDFH2kFDz0f665IKWnNg142AGUg\n",
       "HUzweg+q+kHLBW8YdUiW3xidMcwEXXCACTznDLV0uQYfAfzLjBxQRcXFcvp6vlKC/CDT+PUwejWh\n",
       "amVMGWialHVzBchTeVegLe1fxb6ZZxRdAWUNerrEsmXOndGZbMLL0sEi9hxlATy096EroYyQoJIr\n",
       "VKCswFM+QRinEEnONCNXK0QFA/DbcpjbUirW/HZgHMfeGEpVleHu7KZ0t0rzqeU6FvXdAeL4kOFK\n",
       "jArUfk8ecnzZQh8E0FGpl5EDsYGLfUKLG0lshSD+NursJPow5Me/17fDT4UmUjs8aWjRkzlmsosC\n",
       "72omrxjVl51nbWUftEXZuZXFiUNsyGHlr6nxk1ztuHsMTuqtgtBDE7hCN1RDjXRxcPAhJui58SQ/\n",
       "ifZ9k10UqMe1up3rLY41luGpE5jkigQjB2JDrS6uCOLMkjdOHjOjk+3N0y+GGXjrz7FaOVXqzbMk\n",
       "2V0mC7Pi2Zf0xj+BvKmTB1UJJh0+WKYZKTqDSRlGUUNZZg0PD3PGPODIxOImnhXBpPpaH3xxuyE5\n",
       "Ac8cZh2ZtaV5K3+f+gXdEahrTEIHBkC5clndb7xDgMzzAXMR2n2mQYXmybEpbzPpUWUe00+PMj1Y\n",
       "BVOYO3SaEFFTgSiok4P9nJieqRFRYO3QTS26mzauokptMeEwWgaEV8VQpD3aabutt0g+NUHggB86\n",
       "7Ww4ffilGM3FB0pTDv4b/gFH5wKll+UTRAAAAABJRU5ErkJggg==\n",
       "\" style=\"display:inline;vertical-align:middle;\" /></a><br>"
      ],
      "text/plain": [
       "<IPython.core.display.HTML object>"
      ]
     },
     "metadata": {},
     "output_type": "display_data"
    }
   ],
   "source": [
    "less_complement_is_greater_eq = (\n",
    "    Forall((x, y), Equals(Not(Less(x, y)), LessEq(y, x)),\n",
    "           domain=Real))"
   ]
  },
  {
   "cell_type": "code",
   "execution_count": 44,
   "metadata": {},
   "outputs": [
    {
     "data": {
      "text/html": [
       "<strong id=\"less_eq_complement_is_greater\"><a class=\"ProveItLink\" href=\"proofs/less_eq_complement_is_greater/thm_proof.ipynb\">less_eq_complement_is_greater</a> (conjecture without proof):<br></strong> <a class=\"ProveItLink\" href=\"../__pv_it/theorems/85d0363ea20b76631b3f5cfa20860125ade240fd0/theorem_expr.ipynb\"><img src=\"data:image/png;base64,iVBORw0KGgoAAAANSUhEUgAAARQAAAAWBAMAAADz4X71AAAAMFBMVEX///8AAAAAAAAAAAAAAAAA\n",
       "AAAAAAAAAAAAAAAAAAAAAAAAAAAAAAAAAAAAAAAAAAAv3aB7AAAAD3RSTlMAq1RmmUTNIjK7EInv\n",
       "3XZ/CtNrAAAACXBIWXMAAA7EAAAOxAGVKw4bAAADuklEQVRIx8VWW2gTQRS9m91tkt0YA0KhViSg\n",
       "+KNiEFH8sI3U+o4GQb9EgxV8gUTwp1ql+qn1UaFI/ZAtBPEZoqCgogRBEEWpLxCkstWKKFoKfrT4\n",
       "5Z3HJjOz2cU/D5xN5s7cu2fmztxZgH9AlDyKqqExisrQf3CJhndL+IxMphVDAHZwNooRANNlTJHG\n",
       "nFAlkQo+5quGACQzjI1iBOELYyf5vydUyhWkVVAM8ouEAPs5/TEC0eRQniCJOh8qpQNpZBSDCP2d\n",
       "U28s4fTHCISepSSK7HSolCoyoRrEnHwUlEDCYfTHkDBP3NvPKXWcblP4ViG5maca6rjxSV7tDKM/\n",
       "hogV68VWF+PLkZEXoVIMsuM2KAZrfObpO7RVesvN1lgGhnCJU4y+GOUOsDz7rwfstzx69SGm5DZQ\n",
       "rgW4FCqFTrFLMRgw6uZIY2iXZ7YjVWjHpBcYAXIjBK89l8oC0CeY6Ecu98kmZxvDAEuB8hBEU/6k\n",
       "fNzd7A2fRnbSG3w7jZxlhmXQ7swgvVpNykkM2oKuVUYJ6BJL50Cj5yOa8/KnF/U/GjYWAGXcsfOy\n",
       "39mWAXAr9lFvH5Lup15lTDFDL6zmlsNegpyEC68AYhOMEtDFws4EnV5z7ZTEwKDrd44x4iq71sCU\n",
       "gevq5TApQN6qbNudTmwK62aVUZUC5h841ytLAS5uO2ehDR/ja8bwdJmjoNHah1KSJSVBNSnUYE7C\n",
       "deUwr4YkSc4wo7RXiAsuwE+QE4TyixY6LwTGO1gbk8WWJhxdnu70WTSfbqX7Cx8dJ8Ive1Ky1GAN\n",
       "aFWoKCWuH+IoVD/PKIHEwM5+kLfttfwssPF3OWcP8YfLMfx7ZCF8N6lkd9392slIsaMGgiEyVaqa\n",
       "9XWO7CXPlbAzw86tod44JIaRMn975/7XD/q76NRG2MJLBaFGEzhJ+1phtr5vcPACJuiu96YYWe0z\n",
       "Qlw0WJvcuYvVYzf0eDMmeVqeUQKJYbWOTdZLHC0spfFIB3nNe042tkq/GN7Ds1iF7ZWtD7y+DyTZ\n",
       "vULgD0El6B7yGKcM6mILNXepUPijw4wUPXbBgBvoYU6wgoeHuSRecOTGkm48P+yC9YRffP7LbwnR\n",
       "eTPgriN3be2+Nb4+/gF9aZi7vADduADmwQPWKm8OcTKBi+ImFGZ0ix4TunCuVmG3fIObHl0+Yfob\n",
       "o5tTQNoqxjNg3R8ckMz0TF1TDf4K3dbJZcb9X5ToMmcsHyDlojJVXApHc7c1Gnqc5NNVDAH4xtko\n",
       "RtCHX5FR/IIBs60C/w1/ARmPA4aU/BY2AAAAAElFTkSuQmCC\n",
       "\" style=\"display:inline;vertical-align:middle;\" /></a><br>"
      ],
      "text/plain": [
       "<IPython.core.display.HTML object>"
      ]
     },
     "metadata": {},
     "output_type": "display_data"
    }
   ],
   "source": [
    "less_eq_complement_is_greater = (\n",
    "    Forall((x, y), Equals(Not(LessEq(x, y)), Less(y, x)),\n",
    "           domain=Real))"
   ]
  },
  {
   "cell_type": "code",
   "execution_count": 45,
   "metadata": {},
   "outputs": [
    {
     "data": {
      "text/html": [
       "<strong id=\"less_from_not_less_eq\"><a class=\"ProveItLink\" href=\"proofs/less_from_not_less_eq/thm_proof.ipynb\">less_from_not_less_eq</a> (conjecture without proof):<br></strong> <a class=\"ProveItLink\" href=\"../__pv_it/theorems/4efd124afda5e4e3a18809d32352f9fc5f9081310/theorem_expr.ipynb\"><img src=\"data:image/png;base64,iVBORw0KGgoAAAANSUhEUgAAAM8AAAAXBAMAAABewgYuAAAAMFBMVEX///8AAAAAAAAAAAAAAAAA\n",
       "AAAAAAAAAAAAAAAAAAAAAAAAAAAAAAAAAAAAAAAAAAAv3aB7AAAAD3RSTlMAq1RmmUTNIjK7EInv\n",
       "3XZ/CtNrAAAACXBIWXMAAA7EAAAOxAGVKw4bAAADEUlEQVRIx61WXUgUURT+ZmdmZ3ZmHRd6SkE2\n",
       "lCAqWKIf6sEMyw1CkQRBhFrsIeghVogewmJ9DI2sKNsiGUKIMmTzwcCHWIIgiEL6gSCUEbYkCxF6\n",
       "MHzq3OvM7OxVl8q9MDPn3nPnfOec+50zA1RspP9L9e/Dim+sO0VXjAn1FQDaWc6JBHCMCWc3j2Ok\n",
       "ymnPAf300IY2D6Qkymn3AmEbMOObB4qKC6FgmqI2ZPIkXIEj2i7M5Y92YBYmlLczM28qAHSCrvFm\n",
       "GDH3+L+s4hiLNQMTlDNaPg7cK2ehKZiONQXheMIZunK7IC/x2disd3SYc1opPqJKL7TYWvO7J4+c\n",
       "X5WCRNlXhBz2DLnjPaDHWyHx7Rc+eMsHcNjeQtvzQMQ220tB9Llsu2XieU4EMnyPQiOuoOZc4RWp\n",
       "8Q5RFqLU47+SQQs3SYGGHJELRzOUYwuHHBFI8TySbwUrxAOCuoLrmVIgEDjTUERINdJtMVmg/Ktz\n",
       "kHgZM6CFJhGoitYLV5KwbvK+EmNtZaKYOigp/ERp6qAu4wlFM03iBDllpbeGqZjGq+1BPOasMbWR\n",
       "hAh0EZiXhnr0lzyPzopOfja4OpbLSAw3UEIG47aUB2VXZlb6yC8ZIzqJl3bjOzo4kHJ/KEAGM5vN\n",
       "PkAXkIg4GeyYYu3k4bRFui4X6BmLKKb+cqfjs5zeod+jeZUiUNhRSiytWOb6WtRhPxmNW5Z5UmCd\n",
       "hG10r2YM72JIUk6iU7zqaq8x/2sLy37B8kIy2pyGPSzpPt/0vMYen/AaAzwiS+22RSBmdJB/XPqT\n",
       "7OVoppi6Ku6uWWytcrAFXfaEPjOlYAz4rC4R3/kZYUogg0Jk0PKTqxXcW0OmTzMWeXZpeRJPN+ia\n",
       "zb6Rry8WMBhHw8EUtLu00PktN9oikiGSRlv3ou1+NEPNd+g57ClJmKXUrzvEz0PcSEeIamPZbKCE\n",
       "A3v86uTjEaiaDF9NZK0vtK8PFCltXaotOZ1rNgWdSQYVdSodiOKb0JyN++W80NmhNubKApk8bTrR\n",
       "MjuMjh8l3a+yPze2qLX/1swfa9u1dcDQe5sAAAAASUVORK5CYII=\n",
       "\" style=\"display:inline;vertical-align:middle;\" /></a><br>"
      ],
      "text/plain": [
       "<IPython.core.display.HTML object>"
      ]
     },
     "metadata": {},
     "output_type": "display_data"
    }
   ],
   "source": [
    "less_from_not_less_eq = (\n",
    "    Forall((x, y),\n",
    "       Less(y, x),\n",
    "       domain=Real,\n",
    "       condition=Not(LessEq(x, y))))"
   ]
  },
  {
   "cell_type": "code",
   "execution_count": 46,
   "metadata": {},
   "outputs": [
    {
     "data": {
      "text/html": [
       "<strong id=\"less_eq_from_not_less\"><a class=\"ProveItLink\" href=\"proofs/less_eq_from_not_less/thm_proof.ipynb\">less_eq_from_not_less</a> (conjecture without proof):<br></strong> <a class=\"ProveItLink\" href=\"../__pv_it/theorems/84f6ab7ab5717da28e6f0dadcf5fa023d6e846bf0/theorem_expr.ipynb\"><img src=\"data:image/png;base64,iVBORw0KGgoAAAANSUhEUgAAAM8AAAAXBAMAAABewgYuAAAAMFBMVEX///8AAAAAAAAAAAAAAAAA\n",
       "AAAAAAAAAAAAAAAAAAAAAAAAAAAAAAAAAAAAAAAAAAAv3aB7AAAAD3RSTlMAq1RmmUTNIjK7EInv\n",
       "3XZ/CtNrAAAACXBIWXMAAA7EAAAOxAGVKw4bAAADEUlEQVRIx61WXUgUURT+xp3Z2Z3RcaGHSEE2\n",
       "lF5KWKIf6sEMS4NQlgRhEWqpB6OH2EB6CIv1MTSyomyLZAohaks2Hwx8iCUIgkikHxBiZYQtyUKE\n",
       "HgyfOve6Oz93VSr3wp0595675zv3nO+cWaBsI/Ffqn8fRnh93UmaISbUlwFo50ZORICjTOjZPI4W\n",
       "FzYq3EbPAf30Uoc2DyRHvGvfJ9O12gP4aa2HNw9UKQTri+nRmvCRJ/4ypGiHZ5We9Wr9hPI+l3tX\n",
       "BqDjNMdaoHFyjX60U7dYMzBOMaPtY8C9jSw0uxNcUhBWUThDM7MLviV6PzztpA5zVjtljKhyAWqo\n",
       "1HzjxOHzq5KbKHtLOVAUPgCBcDskdlxygPbjkLmFPMwCQVOPen8cmEtFDR0vMyKQ5vKokGslU1i/\n",
       "ITWmUMmv2GuHLolWbpIuWmGJXDiSJNYYOGiJQLLjUW+NUyFFICgruJ4UyTDF/aEbId5Ej8W2PMVf\n",
       "mYPEy5gBLTSLQFW0n7/SRlL/VuorIdZWxp3QQY7jp0hvZRlP6TbTJI6TU0Zim5+KaazaHMQTflBX\n",
       "RyIi0EVgXhqiBMQITLNWAuRnQ0E3QjMYwg1vwWq3pSwouj5mpY/88mEkQOKlRnxHJweS7w+5yKCn\n",
       "UqkHiAGRoJVEbJK1k0fTBuliBcMv2I1Cyi+HoWfZ4/doVqEbyCyVEg/rMtfWog77yGjYMPQTAusk\n",
       "bKdndQKB16vrjERZvFrQXmP+1+aXhQ7YYTXsZkG3sxvIquz1GW8xwG9kKN2mCMSMDtLHJX2TZyxa\n",
       "mXRCV8Xd1eNrF+PlotCnx2WkgRllifjOc4RJgQwykUHNTrAKNm5x06cYi4o5oe0JPFuna7bYRr6+\n",
       "WsBgGA0H4lDv0kbXt8xoq0iGYAId3YvMDx8hVbTcIWm4qCRhlkLPxvMcGzPOD8XPQ1hLBIlq6VTK\n",
       "VcKuM3Z1EsowHoPQNFtNZK3PR9e+UNDbuhRTsrpKDrmdaXMr6hRKiGybUK31++W88K2C0pTZEEh3\n",
       "f2Q6f6zZ/crz58YUtebfmvkDGEi4zOXojL4AAAAASUVORK5CYII=\n",
       "\" style=\"display:inline;vertical-align:middle;\" /></a><br>"
      ],
      "text/plain": [
       "<IPython.core.display.HTML object>"
      ]
     },
     "metadata": {},
     "output_type": "display_data"
    }
   ],
   "source": [
    "less_eq_from_not_less = (\n",
    "    Forall((x, y),\n",
    "       LessEq(y, x),\n",
    "       domain=Real,\n",
    "       condition=Not(Less(x, y))))"
   ]
  },
  {
   "cell_type": "code",
   "execution_count": 47,
   "metadata": {},
   "outputs": [
    {
     "data": {
      "text/html": [
       "<strong id=\"not_less_from_less_eq\"><a class=\"ProveItLink\" href=\"proofs/not_less_from_less_eq/thm_proof.ipynb\">not_less_from_less_eq</a> (conjecture without proof):<br></strong> <a class=\"ProveItLink\" href=\"../__pv_it/theorems/b7c0b8d9f1ed1a60ceefbcee11af0cf7725cc1210/theorem_expr.ipynb\"><img src=\"data:image/png;base64,iVBORw0KGgoAAAANSUhEUgAAANUAAAAXBAMAAABuThcPAAAAMFBMVEX///8AAAAAAAAAAAAAAAAA\n",
       "AAAAAAAAAAAAAAAAAAAAAAAAAAAAAAAAAAAAAAAAAAAv3aB7AAAAD3RSTlMAq1RmmUTNIjK7EInv\n",
       "3XZ/CtNrAAAACXBIWXMAAA7EAAAOxAGVKw4bAAAC8klEQVRIx61WXUgUURQ++zP7M6PTRr1YEAtJ\n",
       "ICEsEYU9+ENpQVhLgS9BDvUQ+BAj+BQW1ltosD1ETYKMIIEJsvlg0IMMQRBEsZRBEMoYVuiD+KaP\n",
       "nXvuzu7Z2XaIyQuf3Lvnm/Pde37uFeA/RpIvzMY8M9j8T+MHm+vZxrzrZWTE4mgoqWiRLY4HEPWc\n",
       "RK9Y3Aql9YLNVSOIOSRxX8S9EErrLJvHc0HMkxIJG0DLhtJy2LypLsA8Vk02IYYbSoRLFw/bMZ8x\n",
       "tmyzVSIn8XFl5UMorTgvjYuYsvUcTHvV8F1KqVuHxhcwcBmJCwDPg1x2NzIkeIpuorOoA11yNbfq\n",
       "7QfW3H48pSExDMlMvaP2xZ7bclZbN23VnmzGLPev4FjGxWeAB/EStJBl5IvHOQ1d9gEMtyORtrV8\n",
       "rU5qzcrrGrwu1mu1uSzh3mfDiHcAdpMLn8Q6cqPCGYM+8rgtEXX9pXFuDAOuwxm3TquDh82vBYN2\n",
       "atenBVJdcSTA6MQ/W+fXMTrKGkSow4XWZjfTIvuG6A3ieDGsaGEM8Qi644shKDvwEs9TkoAF7Gjd\n",
       "bEngp/P77AmYpULSklO5qhbZJ8g5ccRIe/EcQUwhHkM6U1sb6pOIA5iKWEECRpEQg6kUTu+0wwZc\n",
       "JefxyQKrDbJHJ22PI4bGS+oVogcGvRjPr1LNR3dnHCUr24NaJDImft4hzmE4Aqcsy8rqunalpg6F\n",
       "XSExwaGEl5jWI8T00uVKlcaowdRLbusJEe68RLn2HHqMvsJ7GKdz6co1m2lJe+qgKTk0vjGtZtrw\n",
       "Irs4+B11twwao5oRhzn8XNnGJqB8wRtWG2QXt/R+mziVG7Xiuhs0Q30bcEtXbur4z6VNwNy3dhiQ\n",
       "fIY/DPwqzvRVtchefooFRxYHf2ufQrMbKTZ4vwv1b0lWNdOY3TnLYt3tf28kh2bcNAvRzt4GxxKb\n",
       "Stf+E6DYEXegjujXYpx7fO9u4yv1dxk85qB0FgO0HmKBWubfOHs1zD3z9AdIoMB7n12KEAAAAABJ\n",
       "RU5ErkJggg==\n",
       "\" style=\"display:inline;vertical-align:middle;\" /></a><br>"
      ],
      "text/plain": [
       "<IPython.core.display.HTML object>"
      ]
     },
     "metadata": {},
     "output_type": "display_data"
    }
   ],
   "source": [
    "not_less_from_less_eq = (\n",
    "    Forall((x, y),\n",
    "       Not(Less(y, x)),\n",
    "       domain=Real,\n",
    "       condition=LessEq(x, y)))"
   ]
  },
  {
   "cell_type": "code",
   "execution_count": 48,
   "metadata": {},
   "outputs": [
    {
     "data": {
      "text/html": [
       "<strong id=\"not_less_eq_from_less\"><a class=\"ProveItLink\" href=\"proofs/not_less_eq_from_less/thm_proof.ipynb\">not_less_eq_from_less</a> (conjecture without proof):<br></strong> <a class=\"ProveItLink\" href=\"../__pv_it/theorems/08c30e0cf228515fd3dd0a66cea3e6161c2de4740/theorem_expr.ipynb\"><img src=\"data:image/png;base64,iVBORw0KGgoAAAANSUhEUgAAANUAAAAXBAMAAABuThcPAAAAMFBMVEX///8AAAAAAAAAAAAAAAAA\n",
       "AAAAAAAAAAAAAAAAAAAAAAAAAAAAAAAAAAAAAAAAAAAv3aB7AAAAD3RSTlMAq1RmmUTNIjK7EInv\n",
       "3XZ/CtNrAAAACXBIWXMAAA7EAAAOxAGVKw4bAAAC70lEQVRIx61VTWgTQRR++dn87KZrxFMVZMEi\n",
       "iBSCiFIPaYK2ClINCr0INuhB8SBb6EmqRK+tEEHRWAhbCEINSuyhooeyCIIgStAKgkQ2UpX2UHpr\n",
       "j76ZSTZvN90osQPfMrPv2/fNvJ9ZgP8YYbrQvXl6Z/M/jR9krmrevIsNxNliX1dS/gpZHOxAVBMC\n",
       "Q2xxpSutJ2QuZ90boT6vCdxmcc93pXWczIMJpy2wZJDVYYEQvlO0rrRMMo+5ovaNSkHM4AjghkLd\n",
       "pYuGbb/DVP7upIYSAh9qtfddaQVpaZzGlC0nYJYvSp/tNK7tnprHwMUFTgE87uQy5WUI0RRdRmd+\n",
       "EwbZfPZSaz9Qt0Ywe1mBcQjH2x31L6Svi5ln3fRglkdqOJZw8QngTrAKvczga2kdhUFjF4bbFIga\n",
       "SsbpJFIvZFQFXla20JJJwpufjSPeAhgxCz7yFxN2DHMwzD2uC/gtd2mcyGEhqXDMatcKpw1PLRgz\n",
       "IptttcHVJVMAskl8rJ1cxhtLqoOPdzjTWk0RLWGP7NQFpxlDWwtjiEdQTXfNSxvwFM9TFYB57GhV\n",
       "7w3hp893GNMwx8lKuJhoaQm7dF9vcNiIWg3HE4gi4h5E485elh/4TMBUBPICMImEABQjOL3RDytw\n",
       "njsPzuRJbXC7NGM0OWwotKReINIw1ipN/1X22CyZkibag7eIL8dsG5yxB/bCkUKhoKmqcs5Rh2if\n",
       "1mwOT3iVaN1ltb541vXnkM9YfYdYuDMCjdoz+c/oC7yDKX4uVbpgEC1ml19pTQ4fX2kD8A0veLTH\n",
       "zQb4mFSyQSjj59I6NgHPF7wmtcHtACssRoxj36h2flKgZOU3HW5p+6YO/lxcZTHqG8hC+BG+GP1V\n",
       "KQ23tLgdxwCKMY4oDhqxh9Bj+URHPmMNXiOnZv8R979Ek/UoOisXCqS7nZwDuuDwbFDTHPiTQx7H\n",
       "YpuKOlMpGT5rtI3ovqMI5xbtcsv7Sv3dAI05SMnKX7W24mzX0LfN0x/V9MMAlV2cXQAAAABJRU5E\n",
       "rkJggg==\n",
       "\" style=\"display:inline;vertical-align:middle;\" /></a><br>"
      ],
      "text/plain": [
       "<IPython.core.display.HTML object>"
      ]
     },
     "metadata": {},
     "output_type": "display_data"
    }
   ],
   "source": [
    "not_less_eq_from_less = (\n",
    "    Forall((x, y),\n",
    "       Not(LessEq(y, x)),\n",
    "       domain=Real,\n",
    "       condition=Less(x, y)))"
   ]
  },
  {
   "cell_type": "code",
   "execution_count": 49,
   "metadata": {},
   "outputs": [
    {
     "data": {
      "text/html": [
       "<strong id=\"less_or_greater_eq\"><a class=\"ProveItLink\" href=\"proofs/less_or_greater_eq/thm_proof.ipynb\">less_or_greater_eq</a> (conjecture without proof):<br></strong> <a class=\"ProveItLink\" href=\"../__pv_it/theorems/31ac53eda69a4f54b6da032b7d412bb7b42f42740/theorem_expr.ipynb\"><img src=\"data:image/png;base64,iVBORw0KGgoAAAANSUhEUgAAAO4AAAAWBAMAAAA1Ab1lAAAAMFBMVEX///8AAAAAAAAAAAAAAAAA\n",
       "AAAAAAAAAAAAAAAAAAAAAAAAAAAAAAAAAAAAAAAAAAAv3aB7AAAAD3RSTlMAq1RmmUTNIjK7EInv\n",
       "3XZ/CtNrAAAACXBIWXMAAA7EAAAOxAGVKw4bAAADU0lEQVRIx71WXUgUURQ+uzOzP7O6LUQ/asiA\n",
       "4ktKS0jhQyZY2Z8hQT4FLRlEBTFBL5bE9liZWiClDzIPEpm5bEKBRbEvQRiFZIIkylj2UNQi9GD4\n",
       "1Dkzc2dn7o6jT1347uy99/vumXvuOWcWYAMtTJ3qv7zOjGspDBtrXxFxZc1lSfcS+JAJCRpU+ZoN\n",
       "ZrHb6UP45iXwIyMO0u/zvnYfIeSUDyGkUV9OXQ8T2OKkBxlxk/zd52u3GSEmfQhCE/WN1D1kAtbk\n",
       "13oxGUHmY4qv3RyipMj5Th9NUldKJ0gxQaH9fulWThoQ8CAh/+ulvWr4I37WHKMO6ujtRYUJHG2f\n",
       "23CHiQ/z8+997YoUJccQmcXHryzPxOdMs5lmkDEyn4F11lImkPPld8bZDjUtPBlxGGDQ124oab1k\n",
       "U7xSnDKmRhestWwtCMsAe4zBdoA8E4iwqLfaW7SXc2TEFQgnin07d24ri4dSOuMndK0qrAaM8Lo6\n",
       "bS1FlFYIYFDWGiMM0S9MsBf2a5sLdgc5MiKqxdrcRnvK+kHPxq5bwxJafos6EM2LC5y1gxU+Qgm+\n",
       "X6/pGDXYxARpOFTYsGYbT0YEdS6sRPQ86LqQ4eyCoXLZBWkVetMAp61yEVJtARqx4+poEZmQosTL\n",
       "tyyhRlqEgFl9dD0+zPkZ4Iwqay4/kwd+4aPOHE3dKgikFXjC5ZGDTBi/iPGploWQndmkdctGEdGz\n",
       "naz6RemUQwAjbTsgBu64iibgHj4arBK4hQnk/kAOslzdcJAJXRhWAgxF8Oe1OvghGaGjH5lg9FjC\n",
       "DPxdt4/DSWsus2DmkZiQ/lhZhm0sxQTBv8M5SeHqpINMCKRpcsVYqoBK4cLAwH3083NWxCKUO3cB\n",
       "hvPBZruwCWYCyxVLJJyxNlaYQD6hV+/mk8RBnmFzkZzxUZyBd5Gseb+n7CozS3eW5guWVSdjeMbw\n",
       "lHttdq1SwMi2oCuWEmEUFdKyWUUwj1hcQb1d+ovaC3iqFH806mEdsi0Qv7/5Cd0KVDekoBOPJl2+\n",
       "JB9gZTZK2fHAc6sFvBmATm426vhvMjZPbdZN5gSKrEaTIE8M9LvvhSJ8xNNu1VKbxzvJfeuQ3QJJ\n",
       "C+jtXoIbVPX1NQt4XPUS+JA5gQBSYxb+T/sHscPot7LYm5QAAAAASUVORK5CYII=\n",
       "\" style=\"display:inline;vertical-align:middle;\" /></a><br>"
      ],
      "text/plain": [
       "<IPython.core.display.HTML object>"
      ]
     },
     "metadata": {},
     "output_type": "display_data"
    }
   ],
   "source": [
    "less_or_greater_eq = Forall((x, y), Or(Less(x, y), greater_eq(x, y)),\n",
    "                            domain=Real)"
   ]
  },
  {
   "cell_type": "code",
   "execution_count": 50,
   "metadata": {},
   "outputs": [
    {
     "data": {
      "text/html": [
       "<strong id=\"less_eq_or_greater\"><a class=\"ProveItLink\" href=\"proofs/less_eq_or_greater/thm_proof.ipynb\">less_eq_or_greater</a> (conjecture without proof):<br></strong> <a class=\"ProveItLink\" href=\"../__pv_it/theorems/fc166597eb8ec11f6bfef9b4945cf711bc34102c0/theorem_expr.ipynb\"><img src=\"data:image/png;base64,iVBORw0KGgoAAAANSUhEUgAAAO4AAAAWBAMAAAA1Ab1lAAAAMFBMVEX///8AAAAAAAAAAAAAAAAA\n",
       "AAAAAAAAAAAAAAAAAAAAAAAAAAAAAAAAAAAAAAAAAAAv3aB7AAAAD3RSTlMAq1RmmUTNIjK7EInv\n",
       "3XZ/CtNrAAAACXBIWXMAAA7EAAAOxAGVKw4bAAADVUlEQVRIx71WXUgUURQ+uzOzP7O6LUQ/asiA\n",
       "4ktKS0jhgyZY2Z8hQT4FLRn0BzFBL5bE9liZViClDzKBRGYum1BgUexLEEYhlSCJMpY9FLkIPRg+\n",
       "dc7M3Nmdu7OjT1347szc+3333HvuOWcXYB0tSJ3qPb3GiGMqCOtr3xBRpei0pLsJPMiEGH1UeZr1\n",
       "p7Hb7kH47ibwIiP20fsZT7uPEHKCXztPE9CoL6eulwmKNiIjrpO/73jabUGIceeY8EXL+2imvom6\n",
       "B0xQtBEZQeYjiqfdDKLEORSd1fI/J6krpRMkmMB2VpxfbtKAgOMB7+ultWocQ6PzTkondbR7UWEC\n",
       "1uTXfNR1mvgwN/fe065IUXIYkVp4/MrwzPBnNpdqARkj8xlYZy1lAjlbfmvc5Cy9LCQjDgAMetoN\n",
       "xK1NNkcrxSl8Pjxlz6VrQVgG2GV8bAXIMoEIC3qbRWo8VEBGXIJgrNC3s6c3M/+U0hk/YTCowqqP\n",
       "9uCz7YaUNvBhUNYaXxiiX5lgN+zRNjJaTStPRoS1SLvTaG9ZP+jpyFXrs4Sm36IOROviLjM/y/AR\n",
       "SnB/faZjVH8zEyRhf96KHeUcGeHXubAS0fOg60KKswuGyhlX0ir0JQFOWOUioNoCNJJnd5AjExKU\n",
       "eNnWRdRIC+Azq4+uR4c5PwOcVGXNmUfogd/4qDNHp27kBNIKPLH9vIUnE8bP4zpqWQDZqQ1aj2wU\n",
       "ET3dxapfmE45BDDSvg0iXN0Ix+AuPhqsEriJCeR+XwZYtWxstRbKkQndGFYCDIXw9Uod/JSMRNcP\n",
       "TjATkZgZ+DtuHoFjucg7axwhJv2xsgzbWIIJ/H+HM5LC5VEemeBL0uCKMVUBlcK5gYF76OfnrIiF\n",
       "KHduY9Zm/S18YZMrFkk4bS2sMIF8VK/eaTKWdBfytJ0RGeNHcRrehdLm/R5n24QZurNkkeyO4BmD\n",
       "U86xmbz3sbgL2RZ0RxIijKJCWjarCOYRiyuot0t/QXsBT5XCH416WINsC8Qfb35BjwLVDQnowqNJ\n",
       "Fy/Ie1mZDVN23M87whw141DzeDMAXZyBsPt/kxyZEyiyGo6DPDHQ77xEivAR16WqFtude8oJvMhO\n",
       "gaT59A43wTWq+nrRAh5V3QQeZE4ggNSUhv/T/gHUTOihU8LAzQAAAABJRU5ErkJggg==\n",
       "\" style=\"display:inline;vertical-align:middle;\" /></a><br>"
      ],
      "text/plain": [
       "<IPython.core.display.HTML object>"
      ]
     },
     "metadata": {},
     "output_type": "display_data"
    }
   ],
   "source": [
    "less_eq_or_greater = Forall((x, y), Or(LessEq(x, y), greater(x, y)),\n",
    "                            domain=Real)"
   ]
  },
  {
   "cell_type": "markdown",
   "metadata": {},
   "source": [
    "### Misc Additional Min/Max Theorems"
   ]
  },
  {
   "cell_type": "code",
   "execution_count": 51,
   "metadata": {},
   "outputs": [
    {
     "data": {
      "text/html": [
       "<strong id=\"max_x_x_is_x\"><a class=\"ProveItLink\" href=\"proofs/max_x_x_is_x/thm_proof.ipynb\">max_x_x_is_x</a> (conjecture with conjecture-based proof):<br></strong> <a class=\"ProveItLink\" href=\"../__pv_it/theorems/e1955b0e8c6ac05ca6334b93e4d477024f8451360/theorem_expr.ipynb\"><img src=\"data:image/png;base64,iVBORw0KGgoAAAANSUhEUgAAAMkAAAAVBAMAAAAeFNdiAAAAMFBMVEX///8AAAAAAAAAAAAAAAAA\n",
       "AAAAAAAAAAAAAAAAAAAAAAAAAAAAAAAAAAAAAAAAAAAv3aB7AAAAD3RSTlMAq1RmmUTNIjK7EInv\n",
       "3XZ/CtNrAAAACXBIWXMAAA7EAAAOxAGVKw4bAAAC4ElEQVRIx5WVTWgTQRTHX3Y32XQ3GYMeiiWW\n",
       "gOJB0UYRvw5tpFqFWlmqeBFMwIPgQdabhwrRo0XMxY9oqXuIYCzU2INCxTYeqqAo1XtkA1WhYvQg\n",
       "iURF3+xnsttRModk8v+/zO/tezOzAP8cageO2vEa1iCJDpyTjFCqx+hkPSNgM4jrftFJ5He31/GD\n",
       "k4yEUD9AJ6dX9qUMgHiH/nlbw+/4xhlGrqhfxC8xt7ItIED6Qhdcavod39jBoKAe0gBkRvkjNOsa\n",
       "Pkb4WNPv+MM1xjIa8JhViJHERkpZ/o6lFZp+xzdCjMZQ/XWl8opBGaYUPQ7AU0r/51nY8yeZfp41\n",
       "nenqvSdmEaRaz/gMliTm7aurHwK4xaCcMijpBGxCCvcChgDmtZBiOSnSKyyaXYKqPoK5GFtipELH\n",
       "W49+DsTWHLY82nfWnr8zKNEc6CYlrUIot9tyeJVvBswa7YIBbQ0AV/Zk2aJ3abJiqeFqXiEyPC5Z\n",
       "vxcMCmmIitGXu/MqSM+SlhMGwd7OWfqUqHzzUFp0Tneavx8rTgjs1dso0k8ClFJY3YeXRZ9iOxDR\n",
       "nfXe0I9g2VdzV8/040ft4JJqHF6kLKfaKgYTPKVwC3AVKcMvbQcLKFl7N9iA+5jvoqcvrfoMnk2i\n",
       "rg0lisZ9IIuT9o6cNCnpHkpZlYL0eVXWrltOUYmDDIAc6VqgDFhl3nO42/QxbD4Pk2E4alCE207w\n",
       "Q5pODCI5CDQo5esldQ4epEyn7/JhGAWpjrn+KJSDuKeFUjulTQ9kqYQnfGc+n08QIo/aYVfw8pmo\n",
       "J4lC4vXucO/WqfdP6zBQ1w2nUOMGcYmKBtIRfcN2DI8qnmfx6eGyCOPGs5DgCfumiGZZF7/rcO61\n",
       "coER7OhjckbAPW30BWbt7vMpFsV1ZFccZAQ7uvBhbhnEmzg7/rFUGLLlG8z3m+NMOxLrZvfqU/l8\n",
       "e2mLTIrjuGemi/Hq7frfK1nUO3A+MUJR/wvqMNXARomvpwAAAABJRU5ErkJggg==\n",
       "\" style=\"display:inline;vertical-align:middle;\" /></a><br>"
      ],
      "text/plain": [
       "<IPython.core.display.HTML object>"
      ]
     },
     "metadata": {},
     "output_type": "display_data"
    }
   ],
   "source": [
    "max_x_x_is_x = (\n",
    "    Forall(x,\n",
    "           Equals(Max(x, x), x),\n",
    "           domain=Real))"
   ]
  },
  {
   "cell_type": "code",
   "execution_count": 52,
   "metadata": {},
   "outputs": [
    {
     "data": {
      "text/html": [
       "<strong id=\"min_x_x_is_x\"><a class=\"ProveItLink\" href=\"proofs/min_x_x_is_x/thm_proof.ipynb\">min_x_x_is_x</a> (conjecture with conjecture-based proof):<br></strong> <a class=\"ProveItLink\" href=\"../__pv_it/theorems/7a145496b41dfda17e878262622a7273981491f00/theorem_expr.ipynb\"><img src=\"data:image/png;base64,iVBORw0KGgoAAAANSUhEUgAAAMUAAAAVBAMAAAAEKDfsAAAAMFBMVEX///8AAAAAAAAAAAAAAAAA\n",
       "AAAAAAAAAAAAAAAAAAAAAAAAAAAAAAAAAAAAAAAAAAAv3aB7AAAAD3RSTlMAq1RmmUTNIjK7EInv\n",
       "3XZ/CtNrAAAACXBIWXMAAA7EAAAOxAGVKw4bAAACvklEQVRIx5WVTWgTQRTH/8lussluOwQ8VEuV\n",
       "gCKoiFVEwYNWqlXQSqjiRTApHkQPEi+eqqQXDxYhHkRXS82hB6tQag8KChJRT37Qeg9soCoUDILS\n",
       "SKzim9nsbnY3o3UOm8lvZ97/zfuYBf468ivm+f+04A6WXjE/LTHBeYpP1ksWbIG2dplPOn51aS9b\n",
       "eVi2V+IO8YN8crb9ez0HaPf45u11xL77eGicl/hJfJR+tGL71yqZ179wgwsNoOTjobFTokE8TlsN\n",
       "Sdg7uM+1OpA40Qjy8OKSxEgJCvkUl7iwkWssUoyY2gjy0IhLEsL5u0rljUTjCNewegCFNC69wNVX\n",
       "V6pWk09X7z+zj6/XusdmKRipYDY9fhi4I9E4IzSyaWzm5xgG5tOJepP3sXXqnJ0dVK1B8kMUwmCF\n",
       "j/kAvwit1YOtj/dfcOYfhEZnERbXuAGMA99sruSVRsSOzm7sK60CouWAhy08WTIyTZqomhlm4MlM\n",
       "8/9rocHqWqapYQK/bZ6A6hRwAQNi89eARguPWm7KDxQovQx7LJ+G/pMhpEH1YrnW3vNHrByKtcdz\n",
       "e+lRO7SQF61KGot9vlhhXAlocI5sXm9Wa6yOB+TrXCAfrXyWOpHl18TTU6L3DW3CqcIJWyPbHdAg\n",
       "PpXpgSH6Ur8ZKYOiqwQa2cdHKOUKJhI4LjTUu+7iR9yZFDqKiNSFwDlbg/i2a0cxBH2J/PwxWY5R\n",
       "Faszfg0fjxQ4IiO7TNNMM2YMOcuu0zUzvtTLMqxnqWv0bffo8upNyynBJ2vRfjJQKUE/Zm3YQYs7\n",
       "M4FzhHiirGFMnIPFTjm3Qmehfd94POpdIJclTebyESOnUhWLfOCpk3Olr/02jxse7JdouFz9+HwR\n",
       "2m2anfw0Mzng4FuSfS6fdpHs7g7yh6bpD+qURMPlXo8kJR/V5L8+tpq1Yv5ZYoL4H4XO0jSDQFJm\n",
       "AAAAAElFTkSuQmCC\n",
       "\" style=\"display:inline;vertical-align:middle;\" /></a><br>"
      ],
      "text/plain": [
       "<IPython.core.display.HTML object>"
      ]
     },
     "metadata": {},
     "output_type": "display_data"
    }
   ],
   "source": [
    "min_x_x_is_x = (\n",
    "    Forall(x,\n",
    "           Equals(Min(x, x), x),\n",
    "           domain=Real))"
   ]
  },
  {
   "cell_type": "code",
   "execution_count": 53,
   "metadata": {},
   "outputs": [
    {
     "data": {
      "text/html": [
       "<strong id=\"max_nat_n_zero_is_n\"><a class=\"ProveItLink\" href=\"proofs/max_nat_n_zero_is_n/thm_proof.ipynb\">max_nat_n_zero_is_n</a> (conjecture with conjecture-based proof):<br></strong> <a class=\"ProveItLink\" href=\"../__pv_it/theorems/d9e9c380fe5aa21fc669f8ef414d43f85894edb10/theorem_expr.ipynb\"><img src=\"data:image/png;base64,iVBORw0KGgoAAAANSUhEUgAAAMkAAAAVBAMAAAAeFNdiAAAAMFBMVEX///8AAAAAAAAAAAAAAAAA\n",
       "AAAAAAAAAAAAAAAAAAAAAAAAAAAAAAAAAAAAAAAAAAAv3aB7AAAAD3RSTlMAq1RmmUTNIjK7EInv\n",
       "3XZ/CtNrAAAACXBIWXMAAA7EAAAOxAGVKw4bAAAC+0lEQVRIx5VV30sUURg9O/tjZu/srtKLJCYb\n",
       "ESw+uFMUFJguWCFIMA+9Ze6+RT1Nb/006w/QNTDYEJp+vvjgEPRgUdpDJUVgEGWBMZYYJpUPtYYW\n",
       "de/cmXV215v4Pd095+w99/u+e78B/hvyBhhDoDSwXnzcANMtUDK8li22CQSSJW/5zRaxP3WVTNnP\n",
       "B7MGEtramzD8AFscE7jcoZW5xv68Y6ma8UUkSd4CJwS7UPwiq3FewLcD5GuOLmaXqxlf7ANGgV2C\n",
       "XSgeMQE1KeDHqcs3moZyeLma8cUAkDYRM9feheJBWpCIqC00DfLlBy1taLma8QWV9CcRETSG4S+n\n",
       "p18IXEK0xcRuAILMpXXhPvb+1bJPeznTXX923nZ0hLloUGsrbxdXMLwDuArxIYidTaKJukjPcBAY\n",
       "MyO6y1gDNuGXQl6hLjaCToKHplm8YktXwfCTkP1nkF/fQ4sLxJPMJZ6HzV2yBiL5PS4T1t9B/rXq\n",
       "YkEqb1ZJwfCoqeoe3rd5EFtVM+S2MaYzl8SSrDt9uT1mgDzWXIaQn5B4uwh1ydpQFstdPAXDJbvU\n",
       "/FAHe6F2RoXfhawkwFxubUrTYZHWPUZaRCBX6n6aZjdeeXu4wsFzrbR07X2zwCdGpbb3eC68YhgK\n",
       "MhfpCfqpS+dzj6Eb1Gg86wLQZkKarOiLq3Dwu/Rt3uzSYgZxHmdKvXHEdYnajku2nrnUZJA9Zajm\n",
       "FY+JWfSRWIT9bAG7GcHKx80VHD9He31mDjVm2Cl5Cpl5V8WuYLgWsTwCS8zl+yXjEUYyLnOhF3PB\n",
       "3pGckxqZ4Ne7LLiC4wF6/9GILgSPFwqXqcuw1yhlEvJQUUvoiYZindLYPPzhYRFtRdthcBS4vhPx\n",
       "96zPnTN0k7he4cIVPnwC+xXF4rmEmz10Sjj4V5mm0uq8QFvC5UVMpfjr3A3M+OaceAK6YQkm6BqT\n",
       "lVZ/QcNpmrbyxkDAg6PC71yJIXbppILJXomT0cJgOSD6JKwyCax3pOi6n+SeDTCfBUqK/wPkw+KC\n",
       "MNlzLQAAAABJRU5ErkJggg==\n",
       "\" style=\"display:inline;vertical-align:middle;\" /></a><br>"
      ],
      "text/plain": [
       "<IPython.core.display.HTML object>"
      ]
     },
     "metadata": {},
     "output_type": "display_data"
    }
   ],
   "source": [
    "max_nat_n_zero_is_n = (\n",
    "    Forall(n,\n",
    "           Equals(Max(n, zero), n),\n",
    "           domain=Natural))"
   ]
  },
  {
   "cell_type": "code",
   "execution_count": 54,
   "metadata": {},
   "outputs": [
    {
     "data": {
      "text/html": [
       "<strong id=\"min_nat_n_zero_is_zero\"><a class=\"ProveItLink\" href=\"proofs/min_nat_n_zero_is_zero/thm_proof.ipynb\">min_nat_n_zero_is_zero</a> (conjecture with conjecture-based proof):<br></strong> <a class=\"ProveItLink\" href=\"../__pv_it/theorems/249f64f3f3dbbe90e773d416a532a182576790410/theorem_expr.ipynb\"><img src=\"data:image/png;base64,iVBORw0KGgoAAAANSUhEUgAAAMMAAAAVBAMAAAAJNkerAAAAMFBMVEX///8AAAAAAAAAAAAAAAAA\n",
       "AAAAAAAAAAAAAAAAAAAAAAAAAAAAAAAAAAAAAAAAAAAv3aB7AAAAD3RSTlMAq1RmmUTNIjK7EInv\n",
       "3XZ/CtNrAAAACXBIWXMAAA7EAAAOxAGVKw4bAAACyUlEQVRIx42VTWgTURDH//nczUuyza0aqkRE\n",
       "iD3YKPVWtVCVggg5eLM28ST1FC+CX7W9eKyp0EOk4KrgxYOL4KF4ieihoEILolUobLVUqigFtZE2\n",
       "ivP2K7svWdM5hLe/zLz/m5k3u8B/TdoyL7V2LKGdfdwyH27tyHGKL3b77BTUpB11vkj86ZSeu7nH\n",
       "7elyCUquKdrGx/jDOR+JB1SSOzx2fw2Rnx7usmiGvQPOi8EOHueVLftIDADsW5EWyxuA6uEuOwTM\n",
       "AL1isIOjFBnP+EhUSeJ7DZBPbYjcZZNAj4qEKgQ7OER1iPq1ghJgX6hASnhD5C4jh5sZRMVmNPDr\n",
       "xcWXPhJh6irTu4AQSVx8hhsvRpd0iw+nr6zqhhfje+UQT3mDXXgQuO0jwU/A9EIG3TyLs8B8Rq5Z\n",
       "XJvUWc2ckU3aS0fISO3kIrd5L74Aya0vvXmCPgskM1wiWYbOJai208APk0fy7yH9bkhoCFaF6Wzg\n",
       "mBrP23hi+xR2xdWw1blEnksoNSlvSVSAvyZn7BeCZoMY7VXQIa8JhWrgoO50OzzIx1Dvj8MtwTYV\n",
       "NEkguIZA0elrD+VVbW63jYuHqZ8DE8vAJ/5Pds+oLWEWCtMhQYJz2r8jZ2ZL9IiK4Jy3F278mAbw\n",
       "/lAuUWLGBGbj905bEjHdkCikBQnOExrdeo1xtz7gOJ1SnF8XvkrNvbyCDjVi3Ows+lctJ37hIikk\n",
       "ygjUjP1HTAnOr49hJTT2qGgkxWbNm+wxFw6M0c9ODCE0UqncIomHdnPkOUjT6zklr3Std46/So/X\n",
       "t+2tpwyOM8DdA0h+4I09sURbJPOChIhncVSWNTOLyD6bLvgMTIN3O6trrV0dLK1hIWuO4EFgyca9\n",
       "PhINrvm8GpsxVfxrDpcoMfltCQEbx3w+Wg5nunPI1m9rEbOZypQX+LzlHa6gzWlibb+so1vmn1s7\n",
       "Ev4HBC7iNBsZJCMAAAAASUVORK5CYII=\n",
       "\" style=\"display:inline;vertical-align:middle;\" /></a><br>"
      ],
      "text/plain": [
       "<IPython.core.display.HTML object>"
      ]
     },
     "metadata": {},
     "output_type": "display_data"
    }
   ],
   "source": [
    "min_nat_n_zero_is_zero = (\n",
    "    Forall(n,\n",
    "           Equals(Min(n, zero), zero),\n",
    "           domain=Natural))"
   ]
  },
  {
   "cell_type": "code",
   "execution_count": 55,
   "metadata": {},
   "outputs": [
    {
     "data": {
      "text/html": [
       "<strong id=\"max_bin_args_commute\"><a class=\"ProveItLink\" href=\"proofs/max_bin_args_commute/thm_proof.ipynb\">max_bin_args_commute</a> (conjecture with conjecture-based proof):<br></strong> <a class=\"ProveItLink\" href=\"../__pv_it/theorems/ebc29f05d3a4f78800946112d8573354c778c9ff0/theorem_expr.ipynb\"><img src=\"data:image/png;base64,iVBORw0KGgoAAAANSUhEUgAAASUAAAAWBAMAAAB00JfzAAAAMFBMVEX///8AAAAAAAAAAAAAAAAA\n",
       "AAAAAAAAAAAAAAAAAAAAAAAAAAAAAAAAAAAAAAAAAAAv3aB7AAAAD3RSTlMAq1RmmUTNIjK7EInv\n",
       "3XZ/CtNrAAAACXBIWXMAAA7EAAAOxAGVKw4bAAAEcElEQVRIx8WWTWwbRRTH/9712utdZ2vBoYKG\n",
       "YFFUJEiJkaqKcAiuAgWpIJYW9VKEjSrEx6HaHpAoKihFQkhQFHMBDFW6h4CIUrmGQ5FS2oZD+SiC\n",
       "BKQiOKTdlBRECkkhwUGhqLw33vXKu2vLN0aydz1v/s+/efPmzQCdNKtzSxKdtmRkj9Wh2sh2blGc\n",
       "TpkuIEr7GD0z/GN9e/Vt2Ht+kl+mvrWCllD7KTj5G67wI/3v2uZ+qRqpNXLAvfz+ZFskrQjsW6IX\n",
       "+UYrbAm2hB2EOkx/gztWAt3vI1r7DHCAVaW2THHyWfmeV+ohO2wJNjkfnNLvTD63GugeRLR2Ux1N\n",
       "z7ZlStOnskghejnIlI4afibItEAhUh8JMk220KZtyDTVRPt02sBMR2kKTpBpQ9Tw3UGm+WUKcTzA\n",
       "JBVbaBME9PXMzFftmbYxU4zmlSMmeeG4LR9eUq485VlmPzhej3NlEBptmQ+DTE43rQozDVyaQP/V\n",
       "XOGzIVr2akMA3wtpdeq5H3inPRNPvKL8Cckmpl4rXoS+iic8S97oiU+LcdVeyJeBzSLTZkTLCKZC\n",
       "FrcSk/Q5tgKn7ISJejhcAXwvpJUpgHuRzIQ5Nh7bssd7/46Z8CMMCCaF0uNpeci1yJa8GhOprmYf\n",
       "RIx2S28oTl0lOHWmgoVE6U7u7co2BPC9kFaiBUnZutnsRJ0tm4aOj70CclowLVrPMhO0XcR05FrP\n",
       "oiLuZoaGb5CmqjccYjJWkqbIp/dOWdA+FTNImw0BfC+kVSlykhNM8XsoBoaBu5wmpqNVh5m0LTcR\n",
       "k/RXw+K5pTK8imGSPhpi0v4xwEyj1/TR7u0zXSZPAN8LaRXekMUB+lq4b46GK7OIiUrKTPP5prVL\n",
       "TebE2pkqMcU/sT0LrYdW34401d942UP5hEMyM0mnMUx/su2Mu3aeAL4X0kqcnB9R5TSs6xI0qLLG\n",
       "PogxcZDpyRGvII4IJuUPm5mWoay8golU0bWMmd3QAaZKZfAGPfpDcULhemZak0fhOUu33+TelOMJ\n",
       "WOp6Ya3MGbafJiNjRKXX5zfiV+wQTPF3G8WdN/fDwJcAnS3LMP6+RXe0ZdfS9+oD2A6txrHJKEtu\n",
       "gWg6WTNIlxBbYabFl6yT4FIntrwQCGndi9BykUBMLGn9OFqHHmwul8tZw9C3e05fp+NuajcuYnbq\n",
       "cevAhfkTl84X5at76pbRBWmQIjzD2b9ujr2cDRx3h2o5wzS6a2vVntvHz52o4e4axUid9gQsdb2w\n",
       "tqux49RJcZ05iy/wmoiToezyinbXUKvK5VskMVinFU1Od3ZV+cETSP7hwNoXvB/79WIc4zRQuUzF\n",
       "QeQTJvKtTtWI85aT4RiOZKPP5ai2yRPozWd642yOXzw5j4NZ3NxfRPJt6tj5c3V0q2d9q6XjhqVC\n",
       "n3O09LTMHV7pUpYrqPh9+8J3lKxmpYh0vFxurqJjLR03LFxd1s+ZbScQ2I4lV+A0TTHVfEVT7Jiz\n",
       "M/Lm3PI+G7YYnV6o8SKitL8EsgPKQBX/f/sP2YxYuVhtc6kAAAAASUVORK5CYII=\n",
       "\" style=\"display:inline;vertical-align:middle;\" /></a><br>"
      ],
      "text/plain": [
       "<IPython.core.display.HTML object>"
      ]
     },
     "metadata": {},
     "output_type": "display_data"
    }
   ],
   "source": [
    "max_bin_args_commute = (\n",
    "    Forall((x, y),\n",
    "           Equals(Max(x, y), Max(y, x)),\n",
    "           domain=Real))"
   ]
  },
  {
   "cell_type": "code",
   "execution_count": 56,
   "metadata": {},
   "outputs": [
    {
     "data": {
      "text/html": [
       "<strong id=\"min_bin_args_commute\"><a class=\"ProveItLink\" href=\"proofs/min_bin_args_commute/thm_proof.ipynb\">min_bin_args_commute</a> (conjecture with conjecture-based proof):<br></strong> <a class=\"ProveItLink\" href=\"../__pv_it/theorems/d33ba64ef4195c3713fe4fe965786f0d7b7cb9b70/theorem_expr.ipynb\"><img src=\"data:image/png;base64,iVBORw0KGgoAAAANSUhEUgAAAR0AAAAWBAMAAAAP9FU/AAAAMFBMVEX///8AAAAAAAAAAAAAAAAA\n",
       "AAAAAAAAAAAAAAAAAAAAAAAAAAAAAAAAAAAAAAAAAAAv3aB7AAAAD3RSTlMAq1RmmUTNIjK7EInv\n",
       "3XZ/CtNrAAAACXBIWXMAAA7EAAAOxAGVKw4bAAAESElEQVRIx8VWXWgcVRT+dmdnZ3cmmQz6UE1j\n",
       "OtBSUFtcRSr1oa5EW0FrtlX6opgtfRClyPRBUYklEfTBtmR9EF0N6TwEaaxs1z5UsCAbVGj9aVKh\n",
       "og/RWU0Vg6bRSlZiFM+9d2Z35yfLvPXA2Z399tw73/m9F4gjVlxcQTxRIreyYq7Wzbi47MTb8ccQ\n",
       "8oSrBvuxsfPqW3Hohxp7mLloDefa8ZD8FAzETavsq+vfdconLTRZDfuWE3o/+/FkRzpqEXjhKj1I\n",
       "GywM5X14UNJ2kNBx5sDtDch/tcB3I97ytNBRtqbUkU+Kdqx8w3wYtKH68aBI+aAzvzPW8ytAG9OB\n",
       "iLfcKZQ5pJkd+XSRVq5Qsb0yaAfxkHwe5LPYADKPrvjAWtRbbK4SOZnuXD6bGZ9T5Ljj57M5yvhA\n",
       "kM8C5UlP+fgkIxKNdE7oV3NzX3Tm8yDjkyCfcoO2ctDIHNy12N/E6yfOiuhWBqBSc3wQ5OP0URaJ\n",
       "z3PTePXTw3XWgKlq05xHsPfIaUqSIfQB4O3OfJjLFflPJG2KT9pA93UYs1w8r/enZrlVdQukJWAb\n",
       "r6w5LgbnM2TiFhaf/cBFM9NwQ+GaM2PUnd3EuSj0EBQjzGHrmXuf8Z6/ZnzwHXQQn6yBbA09OYFL\n",
       "lrSS4GWdMXcjQX2xJRSf7hIcxud1YBxgfdptNs1J7sI99vWUxJrQrK0V/Ftk6uWCruFDb0h8xvlc\n",
       "sZ71+JTQ4wg8g5RbCyouoIvQsRAfvaEUXD5l4D9WuoWmOckIdvK3LglNOsFyvm+EKlDH3Y6Pz6mq\n",
       "E+YDb1MazSsYo4WPh/io/+gI8fHMuVzg62tCUdxBH4u75qkk5DoSfEoyPgt5X76ytVyAD8MxZKmi\n",
       "6ShQv7FEh+oH41KAD+XLM+dMGniP4jIrFKdpKurWjWkyqvTYRzHFx7emTHjjboLzkf+wA3wInyr0\n",
       "QROjjv6gN2J7KD4Y6g3wyTqeOS1U36DWpdKQSkIxTG5ImMjQ44tb8Sse4XxS7zSHNmvhPcB5gM4L\n",
       "IpN2+RB+22sPYS/UZRYTQ77qDgHfCWugq4REg5N5SvBhbc3N2cLk35M12RRDgCkSPI0Nvno9+rGt\n",
       "XC6buq7t9bY8RsfXzAFcRn1m//N90yc2TL98fFrgk4vJAdprjvm5fp7tcSlwfI0v5/SC3re8bvTL\n",
       "3tHVG25eJS6ZWc+cFqoPO5vuYEksCHV7qsavJJdwDkd4fHT5MW8Yd49Ez6UWnuSmGrWaMhvnuvGt\n",
       "Z55sDfyXXOUyrBVTOEmG8hINAF4/+Ci/1hkZwqmEcAbvm9FnbOTZKcw1/xnbPGdTlz9ewFETm7YX\n",
       "obxFwL6fq5M7vX/fXGPbJl4h/Z6STYmNdR3LWq55pZXYUvieYapWlvw7WS77J+TUGts2cVbdG+cL\n",
       "HagHmq7kmjvtFLm2t4KdcPZF3nbXuIWGcT3mFfhwCPnF1fZ6gLyjimsr/wPG90qotS98lwAAAABJ\n",
       "RU5ErkJggg==\n",
       "\" style=\"display:inline;vertical-align:middle;\" /></a><br>"
      ],
      "text/plain": [
       "<IPython.core.display.HTML object>"
      ]
     },
     "metadata": {},
     "output_type": "display_data"
    }
   ],
   "source": [
    "min_bin_args_commute = (\n",
    "    Forall((x, y),\n",
    "           Equals(Min(x, y), Min(y, x)),\n",
    "           domain=Real))"
   ]
  },
  {
   "cell_type": "code",
   "execution_count": 57,
   "metadata": {},
   "outputs": [
    {
     "data": {
      "text/html": [
       "<strong id=\"max_y_ge_x\"><a class=\"ProveItLink\" href=\"proofs/max_y_ge_x/thm_proof.ipynb\">max_y_ge_x</a> (conjecture with conjecture-based proof):<br></strong> <a class=\"ProveItLink\" href=\"../__pv_it/theorems/1575f47b67f608b97a730595946b10aaf29977760/theorem_expr.ipynb\"><img src=\"data:image/png;base64,iVBORw0KGgoAAAANSUhEUgAAAQcAAAAXBAMAAAD0JJe7AAAAMFBMVEX///8AAAAAAAAAAAAAAAAA\n",
       "AAAAAAAAAAAAAAAAAAAAAAAAAAAAAAAAAAAAAAAAAAAv3aB7AAAAD3RSTlMAq1RmmUTNIjK7EInv\n",
       "3XZ/CtNrAAAACXBIWXMAAA7EAAAOxAGVKw4bAAADy0lEQVRIx62WXWwMURTH/7uz092dqdHECyFs\n",
       "kHpQsQ8iIVJt6itBrEr6QnRFxMeDTBMeCAkSEV/Bg7AkNU36oCpreSBapJFIfESLhPBQphRRUh8t\n",
       "lUbCOXc/e2e2qeUk097d/9kzv3vvOede4J/MHLni/+sQIzQjNHJFtd0919JTwoMpBUJMR92rNh50\n",
       "PDZlxWFv8uCGgYU82FgYgxYFdvTRQJlkOhXZiiz3KFuAvbxdxwuD8NEk4s94NisspyKbUuEeZVaS\n",
       "Tw8VBlFMT/wzLcJ+GaLYzf1+nigWFGIuKjAlShniEk3QliFK3dzXu0cpIoKHnZ0PCoRYyhAeysww\n",
       "QSi9rZZyrk/9tSmtdJ1vTS5xvAoaFcBlOaW6w2igfSBpCXBmuDdV5Jd4anH1G7wWQZSZvij0QWxI\n",
       "KxXGRN8j4Zcog/IFmC2ypVMYF6XubcN8yhVK4jr4S5zxZ1yt3JocZZP2YERyesIQeAEDAkIdADYr\n",
       "e1KKYiqDHpGfgdByeChMmfTzfcQ4DiAUBC1dCh7oikUMHdcSEoR2XUrgOwLis7mdIaCtJoiLY9JK\n",
       "AL5UnWpoRzG1qmMShEVftpMjLZLXlvNyAU3GMDDXliCAD2EXiEsJmyG0yskE4f2eUcSLk81yEMco\n",
       "5hp5uWutwE9Sud1Fy+lP7+JuKjW1Cx7RwhiipyILIQSyOXbaNbsdwbaw2I5IgCB8N6y0glpTSxYN\n",
       "Lckn3mIpJ7AIBgF4OXGuUMsyzHFFtNbx0dYRNIlmqvvrw1kIIbDNM1OubPUCQv1qMUQ/1IEDaAlG\n",
       "U0pTZAJ0WnP6FCzBCZ6BvBInWIHCb9jFA9QHaLhzBj5glYDwnT2ek5hCIGs+mXZl45pbCdwDqG33\n",
       "w/g5Tbe1/pQy89AyVEP7wbMvUftSdTvEKlFLE/Vx7nlEPg+Ir8djImbHYrGQYejVudXBArBtbNaV\n",
       "7CgdHR3r8RZdHevMva97bn58FVV+b00qjb3eKlqxTk7Z8d38m6cyRMOtFbSxozJ1EWgT5/1T3MVh\n",
       "sRKGutrKgWABdWNzXMlG7cnXQbKKV0TRaZP8j5x+V+nZnf6wS4/60Aw8V79QzYqcQEtOYgqhYXHG\n",
       "dfgjKVfRxasuhlwONT2q3aZ/VZlT7+2tHhwJYeqcKPyn6Yuad4nGRTkQLFzIuqbsVN5mmlHi9Lyk\n",
       "3aSdcyyX7Uk4j/CQZgYJtzkWy2lfwicpOKwpL0RG4V4xpTviRuwt58tMcOhVRLU8do0jnIBwE/gi\n",
       "YueDcCpGnsvke2kjoZYn3CGEcJDKJvbP99L/fKH+b/YHt90XUIwK/XQAAAAASUVORK5CYII=\n",
       "\" style=\"display:inline;vertical-align:middle;\" /></a><br>"
      ],
      "text/plain": [
       "<IPython.core.display.HTML object>"
      ]
     },
     "metadata": {},
     "output_type": "display_data"
    }
   ],
   "source": [
    "max_y_ge_x = (\n",
    "    Forall((x, y),\n",
    "           Equals(Max(x, y), y),\n",
    "           domain=Real,\n",
    "           condition=greater_eq(y, x)))"
   ]
  },
  {
   "cell_type": "code",
   "execution_count": 58,
   "metadata": {},
   "outputs": [
    {
     "data": {
      "text/html": [
       "<strong id=\"min_y_le_x\"><a class=\"ProveItLink\" href=\"proofs/min_y_le_x/thm_proof.ipynb\">min_y_le_x</a> (conjecture with conjecture-based proof):<br></strong> <a class=\"ProveItLink\" href=\"../__pv_it/theorems/bca43335dac9b0b216dc91234c273373a2770d270/theorem_expr.ipynb\"><img src=\"data:image/png;base64,iVBORw0KGgoAAAANSUhEUgAAAQMAAAAXBAMAAAD9zzfBAAAAMFBMVEX///8AAAAAAAAAAAAAAAAA\n",
       "AAAAAAAAAAAAAAAAAAAAAAAAAAAAAAAAAAAAAAAAAAAv3aB7AAAAD3RSTlMAq1RmmUTNIjK7EInv\n",
       "3XZ/CtNrAAAACXBIWXMAAA7EAAAOxAGVKw4bAAADtklEQVRIx61WS2gTURQ9+Uw+M+00ihtpqYFK\n",
       "oWgxCynookbqD1RaK7hRbMSFIEWmC0GlQhVc+KPtSmOhTqGLlkqMLiooSCoIftCqUNFFNMWoWKR+\n",
       "CiquvPdNTDKfSE17YZI3596577z77r3vAQsSbb64/z8dzFvU8HxxKeNsuZ+eEA/qyqSwCl1vUzyY\n",
       "fK51R4pxm7wrQZa+2syDQ+UxkGPA8TkaeFZo6IiacKv4dGcfh4FTvFF95VHw0hISL3ktrTpkM24V\n",
       "T9TZx1qDnRIuj0IFPYkvlFFnWnUrbpNHJXzo8BBjX5mpUM8UrtPyMmYK9U7GB519+Gj+J+n04zIp\n",
       "bGcKLsrHSKvu7wwFOrfO1ubx6ZE7RnATLZAp6W9YEykbwRDtAKm2AVf+NU+0tIoXlpC+w61TFHwh\n",
       "VC5Fr5bDo2qt95mwSq6G5yvQJLIkLYTLUHGnsIFyhFK3C/6Q3Xvj+MYjxsicqg3FveQFU8BrqCAK\n",
       "wRCCKVRFDNyjeX67RFYGwjvhIierLTOcJobLASKCoK60mZWB6XibquBW0k6hwdRh7gsKX7Sjfyn0\n",
       "oSpj4AF4c5Up4ykqCO21UNAJfEqGFCB3xpqNm3qozFSsz9gorDNXm0HhejJjpwAxrdEYf6OXPO6z\n",
       "BrpDD/wiLbe2WDP9zG7NUoilabhEw2IKM9ECBaHAJ5FfhmlhI4KpiIXCCzGDJhtlQuH4zFtryQVs\n",
       "gUrTuzlhblKDUrXlPvKfqNIvYFQ0TsU/GClQEIoLgkHOlGVQUJC+6RYKhI+21UChaNMbKfo5gtYo\n",
       "9LMGHvbfzQMMBmh4ohGfsFtM5B3oK0pHoXAPsMecKQvX2S7gIUANmub35SgQvubcDrRD/sErD0lz\n",
       "uUo1yUZ00CK9nHGuHgZ+CrgatWiKx+NhVVXaiyuCFZAEh5wpyUU6IiYP4j2mJw8cq5kYWTFx+uqE\n",
       "gQ/PulsoVmn6QK7O8hdTVgpDd1tpQyvztRBIiRN9Cg9wXkRBlfbqRRRYQVbLtLwpSWWPc78o4G7h\n",
       "Q6Hi8D+z243Tc/LvS7cS82IMeCV9pSoVuYDbRekoFHygLdGF6b+PngKuiImuhR2OLiUm36O/lvzZ\n",
       "9v7uDKfbynUx+C8TsOdDcnhLEQVWGLcfYZqTSyXaZh5P0POGdpF2zBaqjCtpP6TDshYksmPxeFGz\n",
       "EjaGwiajJSjkcU7OumybE1t3M19Vguabm6S7Mnts7gQFJwXHpMR1zI6rJS6JHy1bCKk56UxBKM5S\n",
       "qcQXfN9cxEvyoskfRTsJayU/ylsAAAAASUVORK5CYII=\n",
       "\" style=\"display:inline;vertical-align:middle;\" /></a><br>"
      ],
      "text/plain": [
       "<IPython.core.display.HTML object>"
      ]
     },
     "metadata": {},
     "output_type": "display_data"
    }
   ],
   "source": [
    "min_y_le_x = (\n",
    "    Forall((x, y),\n",
    "           Equals(Min(x, y), y),\n",
    "           domain=Real,\n",
    "           condition=LessEq(y, x)))"
   ]
  },
  {
   "cell_type": "code",
   "execution_count": 59,
   "metadata": {},
   "outputs": [
    {
     "name": "stdout",
     "output_type": "stream",
     "text": [
      "These theorems may now be imported from the theory package: proveit.numbers.ordering\n"
     ]
    }
   ],
   "source": [
    "%end theorems"
   ]
  },
  {
   "cell_type": "code",
   "execution_count": null,
   "metadata": {},
   "outputs": [],
   "source": []
  }
 ],
 "metadata": {
  "kernelspec": {
   "display_name": "Python 3",
   "language": "python",
   "name": "python3"
  }
 },
 "nbformat": 4,
 "nbformat_minor": 0
}