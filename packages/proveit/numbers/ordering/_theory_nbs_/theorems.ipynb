{
 "cells": [
  {
   "cell_type": "markdown",
   "metadata": {},
   "source": [
    "Theorems (or conjectures) for the theory of <a class=\"ProveItLink\" href=\"theory.ipynb\">proveit.numbers.ordering</a>\n",
    "========"
   ]
  },
  {
   "cell_type": "code",
   "execution_count": null,
   "metadata": {},
   "outputs": [],
   "source": [
    "import proveit\n",
    "# Prepare this notebook for defining the theorems of a theory:\n",
    "%theorems_notebook # Keep this at the top following 'import proveit'.\n",
    "from proveit.logic import Forall, Or, Equals, NotEquals, Iff, Implies, InSet, Boolean\n",
    "from proveit.numbers import Real, RealPos, RealNonNeg, RealNeg, RealNonPos, Add, zero, one\n",
    "from proveit.numbers import Less, LessEq, greater, greater_eq\n",
    "from proveit import a, b, c, d, x, y, z\n",
    "%begin theorems"
   ]
  },
  {
   "cell_type": "code",
   "execution_count": null,
   "metadata": {},
   "outputs": [],
   "source": [
    "less_than_is_bool = Forall((x, y), InSet(Less(x, y), Boolean), domain=Real)"
   ]
  },
  {
   "cell_type": "code",
   "execution_count": null,
   "metadata": {},
   "outputs": [],
   "source": [
    "less_than_equals_is_bool = Forall((x, y), InSet(LessEq(x, y), Boolean), domain=Real)"
   ]
  },
  {
   "cell_type": "code",
   "execution_count": null,
   "metadata": {},
   "outputs": [],
   "source": [
    "relax_less = Forall((x, y), LessEq(x, y), conditions=[Less(x, y)])"
   ]
  },
  {
   "cell_type": "code",
   "execution_count": null,
   "metadata": {},
   "outputs": [],
   "source": [
    "relax_equal_to_less_eq = Forall(\n",
    "    (x, y),\n",
    "    LessEq(x, y),\n",
    "    domain=Real,\n",
    "    conditions=[Equals(x, y)])"
   ]
  },
  {
   "cell_type": "code",
   "execution_count": null,
   "metadata": {},
   "outputs": [],
   "source": [
    "### Transitivity Theorems\n",
    "#### Notice that transitivity_less_less is an axiom, not a theorem. The other transitivity theorems can be derived from that axiom."
   ]
  },
  {
   "cell_type": "code",
   "execution_count": null,
   "metadata": {},
   "outputs": [],
   "source": [
    "# proven\n",
    "transitivity_less_eq_less = Forall((x,y,z), Less(x, z), conditions=[LessEq(x,y), Less(y, z)])"
   ]
  },
  {
   "cell_type": "code",
   "execution_count": null,
   "metadata": {},
   "outputs": [],
   "source": [
    "# proven\n",
    "transitivity_less_less_eq = Forall((x,y,z), Less(x, z), conditions=[Less(x,y), LessEq(y, z)])"
   ]
  },
  {
   "cell_type": "code",
   "execution_count": null,
   "metadata": {},
   "outputs": [],
   "source": [
    "transitivity_less_eq_less_eq = Forall((x,y,z), LessEq(x, z), conditions=[LessEq(x,y), LessEq(y, z)])"
   ]
  },
  {
   "cell_type": "code",
   "execution_count": null,
   "metadata": {},
   "outputs": [],
   "source": [
    "symmetric_less_eq = Forall((x,y), Equals(x, y), conditions=[LessEq(x,y), LessEq(y, x)])"
   ]
  },
  {
   "cell_type": "code",
   "execution_count": null,
   "metadata": {},
   "outputs": [],
   "source": [
    "positive_if_real_pos = Forall(a, greater(a, zero), domain=RealPos)"
   ]
  },
  {
   "cell_type": "code",
   "execution_count": null,
   "metadata": {},
   "outputs": [],
   "source": [
    "negative_if_real_neg = Forall(a, Less(a, zero), domain=RealNeg)"
   ]
  },
  {
   "cell_type": "code",
   "execution_count": null,
   "metadata": {},
   "outputs": [],
   "source": [
    "non_neg_if_real_non_neg = Forall(a, greater_eq(a, zero), domain=RealNonNeg)"
   ]
  },
  {
   "cell_type": "code",
   "execution_count": null,
   "metadata": {},
   "outputs": [],
   "source": [
    "non_pos_if_real_non_pos = Forall(a, LessEq(a, zero), domain=RealNonPos)"
   ]
  },
  {
   "cell_type": "code",
   "execution_count": null,
   "metadata": {},
   "outputs": [],
   "source": [
    "less_than_successor = Forall(a, Less(a, Add(a, one)), domain=Real)"
   ]
  },
  {
   "cell_type": "code",
   "execution_count": null,
   "metadata": {},
   "outputs": [],
   "source": [
    "less_than_left_successor = Forall(a, Less(a, Add(one, a)), domain=Real)"
   ]
  },
  {
   "cell_type": "code",
   "execution_count": null,
   "metadata": {},
   "outputs": [],
   "source": [
    "less_than_an_increase = Forall((a, b), Less(a, Add(a, b)), \n",
    "                            domains=(Real, RealPos))"
   ]
  },
  {
   "cell_type": "code",
   "execution_count": null,
   "metadata": {},
   "outputs": [],
   "source": [
    "less_than_an_left_increase = Forall((a, b), Less(a, Add(b, a)), \n",
    "                                    domains=(Real, RealPos))"
   ]
  },
  {
   "cell_type": "code",
   "execution_count": null,
   "metadata": {},
   "outputs": [],
   "source": [
    "less_eq_shift_add_right = Forall([a, b, c], LessEq(Add(a, c), Add(b, c)), domain=Real, conditions=[LessEq(a, b)])"
   ]
  },
  {
   "cell_type": "code",
   "execution_count": null,
   "metadata": {},
   "outputs": [],
   "source": [
    "less_eq_shift_add_left = Forall([a, b, c], LessEq(Add(c, a), Add(c, b)), domain=Real, conditions=[LessEq(a, b)])"
   ]
  },
  {
   "cell_type": "code",
   "execution_count": null,
   "metadata": {},
   "outputs": [],
   "source": [
    "less_shift_add_right = Forall([a, b, c], Less(Add(a, c), Add(b, c)), domain=Real, conditions=[Less(a, b)])"
   ]
  },
  {
   "cell_type": "code",
   "execution_count": null,
   "metadata": {},
   "outputs": [],
   "source": [
    "less_shift_add_left = Forall([a, b, c], Less(Add(c, a), Add(c, b)), domain=Real, conditions=[Less(a, b)])"
   ]
  },
  {
   "cell_type": "code",
   "execution_count": null,
   "metadata": {},
   "outputs": [],
   "source": [
    "less_add_both = Forall([a, b, c, d], Less(Add(a, c), Add(b, d)), domain=Real, conditions=[Less(a, b), LessEq(c, d)])"
   ]
  },
  {
   "cell_type": "code",
   "execution_count": null,
   "metadata": {},
   "outputs": [],
   "source": [
    "less_add_right = Forall([a, b, c], Less(a, Add(b, c)), domain=Real, conditions=[Less(a, b), LessEq(zero, c)])"
   ]
  },
  {
   "cell_type": "code",
   "execution_count": null,
   "metadata": {},
   "outputs": [],
   "source": [
    "less_add_left = Forall([a, b, c], Less(Add(a, c), b), domain=Real, conditions=[Less(a, b), LessEq(c, zero)])"
   ]
  },
  {
   "cell_type": "code",
   "execution_count": null,
   "metadata": {},
   "outputs": [],
   "source": [
    "less_eq_add_both = Forall([a, b, c, d], LessEq(Add(a, c), Add(b, d)), domain=Real, conditions=[LessEq(a, b), LessEq(c, d)])"
   ]
  },
  {
   "cell_type": "code",
   "execution_count": null,
   "metadata": {},
   "outputs": [],
   "source": [
    "less_eq_add_right = Forall([a, b, c], LessEq(a, Add(b, c)), domain=Real, conditions=[LessEq(a, b), LessEq(zero, c)])"
   ]
  },
  {
   "cell_type": "code",
   "execution_count": null,
   "metadata": {},
   "outputs": [],
   "source": [
    "less_eq_add_left = Forall([a, b, c], LessEq(Add(a, c), b), domain=Real, conditions=[LessEq(a, b), LessEq(c, zero)])"
   ]
  },
  {
   "cell_type": "code",
   "execution_count": null,
   "metadata": {},
   "outputs": [],
   "source": [
    "less_is_not_eq = Forall([a, b], NotEquals(a, b), domain=Real, conditions=[Less(a, b)])"
   ]
  },
  {
   "cell_type": "code",
   "execution_count": null,
   "metadata": {},
   "outputs": [],
   "source": [
    "%end theorems"
   ]
  },
  {
   "cell_type": "code",
   "execution_count": null,
   "metadata": {},
   "outputs": [],
   "source": []
  }
 ],
 "metadata": {
  "kernelspec": {
   "display_name": "Python 3",
   "language": "python",
   "name": "python3"
  }
 },
 "nbformat": 4,
 "nbformat_minor": 0
}
