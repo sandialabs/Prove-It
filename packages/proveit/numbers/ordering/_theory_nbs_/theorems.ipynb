{
 "cells": [
  {
   "cell_type": "markdown",
   "metadata": {},
   "source": [
    "Theorems (or conjectures) for the theory of <a class=\"ProveItLink\" href=\"theory.ipynb\">proveit.numbers.ordering</a>\n",
    "========"
   ]
  },
  {
   "cell_type": "code",
   "execution_count": null,
   "metadata": {},
   "outputs": [],
   "source": [
    "import proveit\n",
    "# Prepare this notebook for defining the theorems of a theory:\n",
    "%theorems_notebook # Keep this at the top following 'import proveit'.\n",
    "from proveit.logic import (Forall, Not, Or, Equals, NotEquals, Iff, Implies,\n",
    "                           InSet, Boolean, SubsetEq)\n",
    "from proveit.numbers import (\n",
    "        Integer, IntegerNeg, IntegerNonZero, Natural, NaturalPos,\n",
    "        Rational,\n",
    "        Real, RealPos, RealNonNeg, RealNeg, RealNonPos, RealNonZero,\n",
    "        Add, zero, one)\n",
    "from proveit.numbers import Neg, Less, LessEq, greater, greater_eq, Min, Max\n",
    "from proveit import a, b, c, d, n, x, y, z, S\n",
    "from proveit.core_expr_types import a_1_to_n\n",
    "\n",
    "%begin theorems"
   ]
  },
  {
   "cell_type": "code",
   "execution_count": null,
   "metadata": {},
   "outputs": [],
   "source": [
    "less_than_is_bool = Forall((x, y), InSet(Less(x, y), Boolean), domain=Real)"
   ]
  },
  {
   "cell_type": "code",
   "execution_count": null,
   "metadata": {},
   "outputs": [],
   "source": [
    "less_than_equals_is_bool = Forall((x, y), InSet(LessEq(x, y), Boolean), domain=Real)"
   ]
  },
  {
   "cell_type": "code",
   "execution_count": null,
   "metadata": {},
   "outputs": [],
   "source": [
    "relax_less = Forall((x, y), LessEq(x, y), conditions=[Less(x, y)])"
   ]
  },
  {
   "cell_type": "code",
   "execution_count": null,
   "metadata": {},
   "outputs": [],
   "source": [
    "relax_equal_to_less_eq = Forall(\n",
    "    (x, y),\n",
    "    LessEq(x, y),\n",
    "    domain=Real,\n",
    "    conditions=[Equals(x, y)])"
   ]
  },
  {
   "cell_type": "markdown",
   "metadata": {},
   "source": [
    "### Transitivity Theorems\n",
    "#### Notice that transitivity_less_less is an axiom, not a theorem. The other transitivity theorems can be derived from that axiom."
   ]
  },
  {
   "cell_type": "code",
   "execution_count": null,
   "metadata": {},
   "outputs": [],
   "source": [
    "# proven\n",
    "transitivity_less_eq_less = Forall((x,y,z), Less(x, z), conditions=[LessEq(x,y), Less(y, z)])"
   ]
  },
  {
   "cell_type": "code",
   "execution_count": null,
   "metadata": {},
   "outputs": [],
   "source": [
    "# proven\n",
    "transitivity_less_less_eq = Forall((x,y,z), Less(x, z), conditions=[Less(x,y), LessEq(y, z)])"
   ]
  },
  {
   "cell_type": "code",
   "execution_count": null,
   "metadata": {},
   "outputs": [],
   "source": [
    "transitivity_less_eq_less_eq = Forall((x,y,z), LessEq(x, z), conditions=[LessEq(x,y), LessEq(y, z)])"
   ]
  },
  {
   "cell_type": "code",
   "execution_count": null,
   "metadata": {},
   "outputs": [],
   "source": [
    "symmetric_less_eq = Forall((x,y), Equals(x, y), conditions=[LessEq(x,y), LessEq(y, x)])"
   ]
  },
  {
   "cell_type": "code",
   "execution_count": null,
   "metadata": {},
   "outputs": [],
   "source": [
    "positive_if_real_pos = Forall(a, greater(a, zero), domain=RealPos)"
   ]
  },
  {
   "cell_type": "code",
   "execution_count": null,
   "metadata": {},
   "outputs": [],
   "source": [
    "negative_if_real_neg = Forall(a, Less(a, zero), domain=RealNeg)"
   ]
  },
  {
   "cell_type": "code",
   "execution_count": null,
   "metadata": {},
   "outputs": [],
   "source": [
    "non_neg_if_real_non_neg = Forall(a, greater_eq(a, zero), domain=RealNonNeg)"
   ]
  },
  {
   "cell_type": "code",
   "execution_count": null,
   "metadata": {},
   "outputs": [],
   "source": [
    "non_pos_if_real_non_pos = Forall(a, LessEq(a, zero), domain=RealNonPos)"
   ]
  },
  {
   "cell_type": "code",
   "execution_count": null,
   "metadata": {},
   "outputs": [],
   "source": [
    "less_than_successor = Forall(a, Less(a, Add(a, one)), domain=Real)"
   ]
  },
  {
   "cell_type": "code",
   "execution_count": null,
   "metadata": {},
   "outputs": [],
   "source": [
    "less_than_left_successor = Forall(a, Less(a, Add(one, a)), domain=Real)"
   ]
  },
  {
   "cell_type": "code",
   "execution_count": null,
   "metadata": {},
   "outputs": [],
   "source": [
    "less_than_an_increase = Forall((a, b), Less(a, Add(a, b)), \n",
    "                            domains=(Real, RealPos))"
   ]
  },
  {
   "cell_type": "code",
   "execution_count": null,
   "metadata": {},
   "outputs": [],
   "source": [
    "less_than_an_left_increase = Forall((a, b), Less(a, Add(b, a)), \n",
    "                                    domains=(Real, RealPos))"
   ]
  },
  {
   "cell_type": "code",
   "execution_count": null,
   "metadata": {},
   "outputs": [],
   "source": [
    "less_eq_shift_add_right = Forall([a, b, c], LessEq(Add(a, c), Add(b, c)), domain=Real, conditions=[LessEq(a, b)])"
   ]
  },
  {
   "cell_type": "code",
   "execution_count": null,
   "metadata": {},
   "outputs": [],
   "source": [
    "less_eq_shift_add_left = Forall([a, b, c], LessEq(Add(c, a), Add(c, b)), domain=Real, conditions=[LessEq(a, b)])"
   ]
  },
  {
   "cell_type": "code",
   "execution_count": null,
   "metadata": {},
   "outputs": [],
   "source": [
    "less_shift_add_right = Forall([a, b, c], Less(Add(a, c), Add(b, c)), domain=Real, conditions=[Less(a, b)])"
   ]
  },
  {
   "cell_type": "code",
   "execution_count": null,
   "metadata": {},
   "outputs": [],
   "source": [
    "less_shift_add_left = Forall([a, b, c], Less(Add(c, a), Add(c, b)), domain=Real, conditions=[Less(a, b)])"
   ]
  },
  {
   "cell_type": "code",
   "execution_count": null,
   "metadata": {},
   "outputs": [],
   "source": [
    "less_add_both = Forall([a, b, c, d], Less(Add(a, c), Add(b, d)), domain=Real, conditions=[Less(a, b), LessEq(c, d)])"
   ]
  },
  {
   "cell_type": "code",
   "execution_count": null,
   "metadata": {},
   "outputs": [],
   "source": [
    "less_add_right = Forall([a, b, c], Less(a, Add(b, c)), domain=Real, conditions=[Less(a, b), LessEq(zero, c)])"
   ]
  },
  {
   "cell_type": "code",
   "execution_count": null,
   "metadata": {},
   "outputs": [],
   "source": [
    "less_add_left = Forall([a, b, c], Less(Add(a, c), b), domain=Real, conditions=[Less(a, b), LessEq(c, zero)])"
   ]
  },
  {
   "cell_type": "code",
   "execution_count": null,
   "metadata": {},
   "outputs": [],
   "source": [
    "less_add_right_weak = Forall([a, b, c], LessEq(a, Add(b, c)), domain=Real, conditions=[Less(a, b), LessEq(zero, c)])"
   ]
  },
  {
   "cell_type": "code",
   "execution_count": null,
   "metadata": {},
   "outputs": [],
   "source": [
    "less_add_left_weak = Forall([a, b, c], LessEq(Add(a, c), b), domain=Real, conditions=[Less(a, b), LessEq(c, zero)])"
   ]
  },
  {
   "cell_type": "code",
   "execution_count": null,
   "metadata": {},
   "outputs": [],
   "source": [
    "less_add_right_weak_int = Forall([a, b, c], LessEq(a, Add(b, c)), domain=Integer, \n",
    "                                 conditions=[Less(a, b), LessEq(Neg(one), c)])"
   ]
  },
  {
   "cell_type": "code",
   "execution_count": null,
   "metadata": {},
   "outputs": [],
   "source": [
    "less_add_left_weak_int = Forall([a, b, c], LessEq(Add(a, c), b), domain=Integer, \n",
    "                                conditions=[Less(a, b), LessEq(c, one)])"
   ]
  },
  {
   "cell_type": "code",
   "execution_count": null,
   "metadata": {},
   "outputs": [],
   "source": [
    "less_eq_add_both = Forall([a, b, c, d], LessEq(Add(a, c), Add(b, d)), domain=Real, conditions=[LessEq(a, b), LessEq(c, d)])"
   ]
  },
  {
   "cell_type": "code",
   "execution_count": null,
   "metadata": {},
   "outputs": [],
   "source": [
    "less_eq_add_right = Forall([a, b, c], LessEq(a, Add(b, c)), domain=Real, conditions=[LessEq(a, b), LessEq(zero, c)])"
   ]
  },
  {
   "cell_type": "code",
   "execution_count": null,
   "metadata": {},
   "outputs": [],
   "source": [
    "less_eq_add_left = Forall([a, b, c], LessEq(Add(a, b), c), domain=Real, conditions=[LessEq(a, b), LessEq(c, zero)])"
   ]
  },
  {
   "cell_type": "code",
   "execution_count": null,
   "metadata": {},
   "outputs": [],
   "source": [
    "less_eq_add_right_strong = Forall([a, b, c], Less(a, Add(b, c)), domain=Real, \n",
    "                                 conditions=[LessEq(a, b), Less(zero, c)])"
   ]
  },
  {
   "cell_type": "code",
   "execution_count": null,
   "metadata": {},
   "outputs": [],
   "source": [
    "less_eq_add_left_strong = Forall([a, b, c], Less(Add(a, c), b), domain=Real, \n",
    "                                 conditions=[LessEq(a, b), Less(c, zero)])"
   ]
  },
  {
   "cell_type": "code",
   "execution_count": null,
   "metadata": {},
   "outputs": [],
   "source": [
    "less_is_not_eq_nat = Forall([a, b], NotEquals(a, b), domain=Natural, conditions=[Less(a, b)])"
   ]
  },
  {
   "cell_type": "code",
   "execution_count": null,
   "metadata": {},
   "outputs": [],
   "source": [
    "less_is_not_eq_int = Forall([a, b], NotEquals(a, b), domain=Integer, conditions=[Less(a, b)])"
   ]
  },
  {
   "cell_type": "code",
   "execution_count": null,
   "metadata": {},
   "outputs": [],
   "source": [
    "less_is_not_eq_rational = Forall([a, b], NotEquals(a, b), domain=Rational, conditions=[Less(a, b)])"
   ]
  },
  {
   "cell_type": "code",
   "execution_count": null,
   "metadata": {},
   "outputs": [],
   "source": [
    "less_is_not_eq = Forall([a, b], NotEquals(a, b), domain=Real, conditions=[Less(a, b)])"
   ]
  },
  {
   "cell_type": "code",
   "execution_count": null,
   "metadata": {},
   "outputs": [],
   "source": [
    "min_real_closure = Forall(n, Forall(a_1_to_n, InSet(Min(a_1_to_n), Real), \n",
    "                                    domain=Real),\n",
    "                          domain=Natural)"
   ]
  },
  {
   "cell_type": "code",
   "execution_count": null,
   "metadata": {},
   "outputs": [],
   "source": [
    "max_real_closure = Forall(n, Forall(a_1_to_n, InSet(Max(a_1_to_n), Real), \n",
    "                                    domain=Real),\n",
    "                          domain=Natural)"
   ]
  },
  {
   "cell_type": "code",
   "execution_count": null,
   "metadata": {},
   "outputs": [],
   "source": [
    "min_set_closure = (\n",
    "    Forall(S,\n",
    "    Forall(n,\n",
    "    Forall(a_1_to_n,\n",
    "           InSet(Min(a_1_to_n), S), \n",
    "           domain=S),\n",
    "    domain=Natural),\n",
    "    condition=SubsetEq(S, Real)))"
   ]
  },
  {
   "cell_type": "code",
   "execution_count": null,
   "metadata": {},
   "outputs": [],
   "source": [
    "max_set_closure = (\n",
    "    Forall(S,\n",
    "    Forall(n,\n",
    "    Forall(a_1_to_n,\n",
    "           InSet(Max(a_1_to_n), S), \n",
    "           domain=S),\n",
    "    domain=NaturalPos),\n",
    "    condition=SubsetEq(S, Real)))"
   ]
  },
  {
   "cell_type": "code",
   "execution_count": null,
   "metadata": {},
   "outputs": [],
   "source": [
    "not_equals_is_less_than_or_greater_than = (\n",
    "    Forall((a, x),\n",
    "           Or(Less(x, a), greater(x, a)),\n",
    "           domain=Real,\n",
    "           conditions=[NotEquals(x, a)]))"
   ]
  },
  {
   "cell_type": "code",
   "execution_count": null,
   "metadata": {},
   "outputs": [],
   "source": [
    "less_complement_is_greater_eq = (\n",
    "    Forall((x, y), Equals(Not(Less(x, y)), LessEq(y, x)),\n",
    "           domain=Real))"
   ]
  },
  {
   "cell_type": "code",
   "execution_count": null,
   "metadata": {},
   "outputs": [],
   "source": [
    "less_eq_complement_is_greater = (\n",
    "    Forall((x, y), Equals(Not(LessEq(x, y)), Less(y, x)),\n",
    "           domain=Real))"
   ]
  },
  {
   "cell_type": "code",
   "execution_count": null,
   "metadata": {},
   "outputs": [],
   "source": [
    "less_from_not_less_eq = (\n",
    "    Forall((x, y),\n",
    "       Less(y, x),\n",
    "       domain=Real,\n",
    "       condition=Not(LessEq(x, y))))"
   ]
  },
  {
   "cell_type": "code",
   "execution_count": null,
   "metadata": {},
   "outputs": [],
   "source": [
    "less_eq_from_not_less = (\n",
    "    Forall((x, y),\n",
    "       LessEq(y, x),\n",
    "       domain=Real,\n",
    "       condition=Not(Less(x, y))))"
   ]
  },
  {
   "cell_type": "code",
   "execution_count": null,
   "metadata": {},
   "outputs": [],
   "source": [
    "not_less_from_less_eq = (\n",
    "    Forall((x, y),\n",
    "       Not(Less(y, x)),\n",
    "       domain=Real,\n",
    "       condition=LessEq(x, y)))"
   ]
  },
  {
   "cell_type": "code",
   "execution_count": null,
   "metadata": {},
   "outputs": [],
   "source": [
    "not_less_eq_from_less = (\n",
    "    Forall((x, y),\n",
    "       Not(LessEq(y, x)),\n",
    "       domain=Real,\n",
    "       condition=Less(x, y)))"
   ]
  },
  {
   "cell_type": "code",
   "execution_count": null,
   "metadata": {},
   "outputs": [],
   "source": [
    "less_or_greater_eq = Forall((x, y), Or(Less(x, y), greater_eq(x, y)),\n",
    "                            domain=Real)"
   ]
  },
  {
   "cell_type": "code",
   "execution_count": null,
   "metadata": {},
   "outputs": [],
   "source": [
    "less_eq_or_greater = Forall((x, y), Or(LessEq(x, y), greater(x, y)),\n",
    "                            domain=Real)"
   ]
  },
  {
   "cell_type": "markdown",
   "metadata": {},
   "source": [
    "### Misc Additional Min/Max Theorems"
   ]
  },
  {
   "cell_type": "code",
   "execution_count": null,
   "metadata": {},
   "outputs": [],
   "source": [
    "max_x_x_is_x = (\n",
    "    Forall(x,\n",
    "           Equals(Max(x, x), x),\n",
    "           domain=Real))"
   ]
  },
  {
   "cell_type": "code",
   "execution_count": null,
   "metadata": {},
   "outputs": [],
   "source": [
    "min_x_x_is_x = (\n",
    "    Forall(x,\n",
    "           Equals(Min(x, x), x),\n",
    "           domain=Real))"
   ]
  },
  {
   "cell_type": "code",
   "execution_count": null,
   "metadata": {},
   "outputs": [],
   "source": [
    "max_nat_n_zero_is_n = (\n",
    "    Forall(n,\n",
    "           Equals(Max(n, zero), n),\n",
    "           domain=Natural))"
   ]
  },
  {
   "cell_type": "code",
   "execution_count": null,
   "metadata": {},
   "outputs": [],
   "source": [
    "min_nat_n_zero_is_zero = (\n",
    "    Forall(n,\n",
    "           Equals(Min(n, zero), zero),\n",
    "           domain=Natural))"
   ]
  },
  {
   "cell_type": "code",
   "execution_count": null,
   "metadata": {},
   "outputs": [],
   "source": [
    "max_bin_args_commute = (\n",
    "    Forall((x, y),\n",
    "           Equals(Max(x, y), Max(y, x)),\n",
    "           domain=Real))"
   ]
  },
  {
   "cell_type": "code",
   "execution_count": null,
   "metadata": {},
   "outputs": [],
   "source": [
    "min_bin_args_commute = (\n",
    "    Forall((x, y),\n",
    "           Equals(Min(x, y), Min(y, x)),\n",
    "           domain=Real))"
   ]
  },
  {
   "cell_type": "code",
   "execution_count": null,
   "metadata": {},
   "outputs": [],
   "source": [
    "max_y_ge_x = (\n",
    "    Forall((x, y),\n",
    "           Equals(Max(x, y), y),\n",
    "           domain=Real,\n",
    "           condition=greater_eq(y, x)))"
   ]
  },
  {
   "cell_type": "code",
   "execution_count": null,
   "metadata": {},
   "outputs": [],
   "source": [
    "min_y_le_x = (\n",
    "    Forall((x, y),\n",
    "           Equals(Min(x, y), y),\n",
    "           domain=Real,\n",
    "           condition=LessEq(y, x)))"
   ]
  },
  {
   "cell_type": "code",
   "execution_count": null,
   "metadata": {},
   "outputs": [],
   "source": [
    "%end theorems"
   ]
  },
  {
   "cell_type": "code",
   "execution_count": null,
   "metadata": {},
   "outputs": [],
   "source": []
  }
 ],
 "metadata": {
  "kernelspec": {
   "display_name": "Python 3 (ipykernel)",
   "language": "python",
   "name": "python3"
  }
 },
 "nbformat": 4,
 "nbformat_minor": 0
}
