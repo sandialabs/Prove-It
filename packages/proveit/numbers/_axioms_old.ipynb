{
 "cells": [
  {
   "cell_type": "code",
   "execution_count": null,
   "metadata": {},
   "outputs": [],
   "source": [
    "from proveit.basiclogic.booleans.bool_ops import Implies, Not, Or\n",
    "from proveit.basiclogic import Equals\n",
    "from proveit.basiclogic.booleans.quantifiers import Forall\n",
    "from proveit.common import a, b, c, x, y, z, f, fx, fy, fa, fb, x_etc, y_etc, z_etc\n",
    "from proveit.numbers.arithmetic_ops import Add, subtract, Multiply, greaterThan, LessThan, \\\n",
    "    greaterThanEquals, LessThanEquals, Summation, DiscreteContiguousSet\n",
    "from proveit.numbers import Integer\n",
    "from proveit.numbers.common import one\n",
    "import proveit.special_statement_magic # for %begin_axioms and %end_axioms"
   ]
  },
  {
   "cell_type": "code",
   "execution_count": null,
   "metadata": {},
   "outputs": [],
   "source": [
    "%begin_axioms"
   ]
  },
  {
   "cell_type": "markdown",
   "metadata": {},
   "source": [
    "Here we define the addition operation to be associative.  Don't use this ADD for any non-associative operation."
   ]
  },
  {
   "cell_type": "code",
   "execution_count": null,
   "metadata": {},
   "outputs": [],
   "source": [
    "add_assoc = Forall([x_etc,y_etc,z_etc],\n",
    "                  Equals(\n",
    "                        Add(\n",
    "                                x_etc,y_etc,z_etc),\n",
    "                        Add(\n",
    "                                x_etc,Add(y_etc),z_etc)\n",
    "                        ),\n",
    "                  )\n",
    "add_assoc"
   ]
  },
  {
   "cell_type": "markdown",
   "metadata": {},
   "source": [
    "Here we define the addition operation to be associative.  Don't use this ADD for any non-associative operation."
   ]
  },
  {
   "cell_type": "code",
   "execution_count": null,
   "metadata": {},
   "outputs": [],
   "source": [
    "mult_assoc = Forall([x_etc,y_etc,z_etc],\n",
    "                  Equals(\n",
    "                        Multiply(\n",
    "                                x_etc,y_etc,z_etc),\n",
    "                        Multiply(\n",
    "                                x_etc,Multiply(y_etc),z_etc)\n",
    "                        )\n",
    "                  )\n",
    "mult_assoc"
   ]
  },
  {
   "cell_type": "code",
   "execution_count": null,
   "metadata": {},
   "outputs": [],
   "source": [
    "reverse_greater_than_equals = Forall((x, y), Implies(greaterThanEquals(x, y), LessThanEquals(y, x)))\n",
    "reverse_greater_than_equals"
   ]
  },
  {
   "cell_type": "code",
   "execution_count": null,
   "metadata": {},
   "outputs": [],
   "source": [
    "reverse_less_than_equals = Forall((x, y), Implies(LessThanEquals(x, y), greaterThanEquals(y, x)))\n",
    "reverse_less_than_equals"
   ]
  },
  {
   "cell_type": "code",
   "execution_count": null,
   "metadata": {},
   "outputs": [],
   "source": [
    "reverse_greater_than = Forall((x, y), Implies(greaterThan(x, y), LessThan(y, x)))\n",
    "reverse_greater_than"
   ]
  },
  {
   "cell_type": "code",
   "execution_count": null,
   "metadata": {},
   "outputs": [],
   "source": [
    "reverse_less_than = Forall((x, y), Implies(LessThan(x, y), greaterThan(y, x)))\n",
    "reverse_less_than"
   ]
  },
  {
   "cell_type": "code",
   "execution_count": null,
   "metadata": {},
   "outputs": [],
   "source": [
    "greater_than_equals_def = Forall((x,y), Implies(greaterThanEquals(x,y), Or(greaterThan(x,y),Equals(x,y))))\n",
    "greater_than_equals_def"
   ]
  },
  {
   "cell_type": "code",
   "execution_count": null,
   "metadata": {},
   "outputs": [],
   "source": [
    "less_than_equals_def = Forall((x,y), Implies(LessThanEquals(x,y), Or(LessThan(x,y),Equals(x,y))))\n",
    "less_than_equals_def"
   ]
  },
  {
   "cell_type": "code",
   "execution_count": null,
   "metadata": {},
   "outputs": [],
   "source": [
    "less_than_trans_less_than_right = Forall((x,y,z),\n",
    "                               Implies(LessThan(x,y),\n",
    "                                      Implies(LessThan(y,z),\n",
    "                                             LessThan(x,z))))\n",
    "less_than_trans_less_than_right"
   ]
  },
  {
   "cell_type": "code",
   "execution_count": null,
   "metadata": {},
   "outputs": [],
   "source": [
    "less_than_trans_less_than_equals_right = Forall((x,y,z),\n",
    "                               Implies(LessThan(x,y),\n",
    "                                      Implies(LessThanEquals(y,z),\n",
    "                                             LessThan(x,z))))\n",
    "less_than_trans_less_than_equals_right"
   ]
  },
  {
   "cell_type": "code",
   "execution_count": null,
   "metadata": {},
   "outputs": [],
   "source": [
    "less_than_trans_less_than_left = Forall((x,y,z),\n",
    "                               Implies(LessThan(x,y),\n",
    "                                      Implies(LessThan(z,x),\n",
    "                                             LessThan(z,y))))\n",
    "less_than_trans_less_than_left"
   ]
  },
  {
   "cell_type": "code",
   "execution_count": null,
   "metadata": {},
   "outputs": [],
   "source": [
    "less_than_trans_less_than_equals_left = Forall((x,y,z),\n",
    "                               Implies(LessThan(x,y),\n",
    "                                      Implies(LessThanEquals(z,x),\n",
    "                                             LessThan(z,y))))\n",
    "less_than_trans_less_than_equals_left"
   ]
  },
  {
   "cell_type": "code",
   "execution_count": null,
   "metadata": {},
   "outputs": [],
   "source": [
    "less_than_equals_trans_less_than_right = Forall((x,y,z),\n",
    "                               Implies(LessThanEquals(x,y),\n",
    "                                      Implies(LessThan(y,z),\n",
    "                                             LessThan(x,z))))\n",
    "less_than_equals_trans_less_than_right"
   ]
  },
  {
   "cell_type": "code",
   "execution_count": null,
   "metadata": {},
   "outputs": [],
   "source": [
    "less_than_equals_trans_less_than_equals_right = Forall((x,y,z),\n",
    "                               Implies(LessThanEquals(x,y),\n",
    "                                      Implies(LessThanEquals(y,z),\n",
    "                                             LessThanEquals(x,z))))\n",
    "less_than_equals_trans_less_than_equals_right"
   ]
  },
  {
   "cell_type": "code",
   "execution_count": null,
   "metadata": {},
   "outputs": [],
   "source": [
    "less_than_equals_trans_less_than_left = Forall((x,y,z),\n",
    "                               Implies(LessThanEquals(x,y),\n",
    "                                      Implies(LessThan(z,x),\n",
    "                                             LessThan(z,y))))\n",
    "less_than_equals_trans_less_than_left"
   ]
  },
  {
   "cell_type": "code",
   "execution_count": null,
   "metadata": {},
   "outputs": [],
   "source": [
    "less_than_equals_trans_less_than_equals_left = Forall((x,y,z),\n",
    "                               Implies(LessThanEquals(x,y),\n",
    "                                      Implies(LessThanEquals(z,x),\n",
    "                                             LessThanEquals(z,y))))\n",
    "less_than_equals_trans_less_than_equals_left"
   ]
  },
  {
   "cell_type": "code",
   "execution_count": null,
   "metadata": {},
   "outputs": [],
   "source": [
    "greater_than_trans_greater_than_right = Forall((x,y,z),\n",
    "                                    Implies(greaterThan(x,y),\n",
    "                                           Implies(greaterThan(y,z),\n",
    "                                                  greaterThan(x,z))))\n",
    "greater_than_trans_greater_than_right"
   ]
  },
  {
   "cell_type": "code",
   "execution_count": null,
   "metadata": {},
   "outputs": [],
   "source": [
    "greater_than_trans_greater_than_equals_right = Forall((x,y,z),\n",
    "                                    Implies(greaterThan(x,y),\n",
    "                                           Implies(greaterThanEquals(y,z),\n",
    "                                                  greaterThan(x,z))))\n",
    "greater_than_trans_greater_than_equals_right"
   ]
  },
  {
   "cell_type": "code",
   "execution_count": null,
   "metadata": {},
   "outputs": [],
   "source": [
    "greater_than_trans_greater_than_left = Forall((x,y,z),\n",
    "                                    Implies(greaterThan(x,y),\n",
    "                                           Implies(greaterThan(z,x),\n",
    "                                                  greaterThan(z,y))))\n",
    "greater_than_trans_greater_than_left"
   ]
  },
  {
   "cell_type": "code",
   "execution_count": null,
   "metadata": {},
   "outputs": [],
   "source": [
    "greater_than_trans_greater_than_equals_left = Forall((x,y,z),\n",
    "                                    Implies(greaterThan(x,y),\n",
    "                                           Implies(greaterThanEquals(z,x),\n",
    "                                                  greaterThan(z,y))))\n",
    "greater_than_trans_greater_than_equals_left"
   ]
  },
  {
   "cell_type": "code",
   "execution_count": null,
   "metadata": {},
   "outputs": [],
   "source": [
    "greater_than_equals_trans_greater_than_right = Forall((x,y,z),\n",
    "                                               Implies(greaterThanEquals(x,y),\n",
    "                                                      Implies(greaterThan(y,z),\n",
    "                                                             greaterThan(x,z))))\n",
    "greater_than_equals_trans_greater_than_right"
   ]
  },
  {
   "cell_type": "code",
   "execution_count": null,
   "metadata": {},
   "outputs": [],
   "source": [
    "greater_than_equals_trans_greater_than_equals_right = Forall((x,y,z),\n",
    "                                               Implies(greaterThanEquals(x,y),\n",
    "                                                      Implies(greaterThanEquals(y,z),\n",
    "                                                             greaterThanEquals(x,z))))\n",
    "greater_than_equals_trans_greater_than_equals_right"
   ]
  },
  {
   "cell_type": "code",
   "execution_count": null,
   "metadata": {},
   "outputs": [],
   "source": [
    "greater_than_equals_trans_greater_than_left = Forall((x,y,z),\n",
    "                                               Implies(greaterThanEquals(x,y),\n",
    "                                                      Implies(greaterThan(z,x),\n",
    "                                                             greaterThan(z,y))))\n",
    "greater_than_equals_trans_greater_than_left"
   ]
  },
  {
   "cell_type": "code",
   "execution_count": null,
   "metadata": {},
   "outputs": [],
   "source": [
    "greater_than_equals_trans_greater_than_equals_left = Forall((x,y,z),\n",
    "                                               Implies(greaterThanEquals(x,y),\n",
    "                                                      Implies(greaterThanEquals(z,x),\n",
    "                                                             greaterThanEquals(z,y))))\n",
    "greater_than_equals_trans_greater_than_equals_left"
   ]
  },
  {
   "cell_type": "markdown",
   "metadata": {},
   "source": [
    "These define summation over a discrete continguous set.  Does not assume that addition is commutative or associative."
   ]
  },
  {
   "cell_type": "code",
   "execution_count": null,
   "metadata": {},
   "outputs": [],
   "source": [
    "sum_single = Forall(f, Forall(a,\n",
    "                              Equals(Summation(x,fx,DiscreteContiguousSet(a,a)),\n",
    "                                     fa),\n",
    "                              domain=Integer))\n",
    "sum_single"
   ]
  },
  {
   "cell_type": "code",
   "execution_count": null,
   "metadata": {},
   "outputs": [],
   "source": [
    "sum_split_last = Forall(f, \n",
    "                      Forall([a,b],\n",
    "                             Equals(Summation(x,fx,DiscreteContiguousSet(a,b)),\n",
    "                                    Add(Summation(x,fx,DiscreteContiguousSet(a,subtract(b, one))),\n",
    "                                       fb)),\n",
    "                             domain=Integer, conditions=[LessThan(a, b)]))\n",
    "sum_split_last"
   ]
  },
  {
   "cell_type": "code",
   "execution_count": null,
   "metadata": {},
   "outputs": [],
   "source": [
    "%end_axioms"
   ]
  },
  {
   "cell_type": "code",
   "execution_count": null,
   "metadata": {},
   "outputs": [],
   "source": []
  }
 ],
 "metadata": {
  "kernelspec": {
   "display_name": "Python 3",
   "language": "python",
   "name": "python3"
  }
 },
 "nbformat": 4,
 "nbformat_minor": 0
}
