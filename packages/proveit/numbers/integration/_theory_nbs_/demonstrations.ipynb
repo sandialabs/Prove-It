{
 "cells": [
  {
   "cell_type": "markdown",
   "metadata": {},
   "source": [
    "Demonstrations for the theory of <a class=\"ProveItLink\" href=\"theory.ipynb\">proveit.numbers.integration</a>\n",
    "========"
   ]
  },
  {
   "cell_type": "code",
   "execution_count": 1,
   "metadata": {},
   "outputs": [],
   "source": [
    "import proveit\n",
    "from proveit import f, x, y, S, fx, fy, Px, Py, defaults\n",
    "from proveit.logic import And, Forall, InSet\n",
    "from proveit.numbers import Integrate\n",
    "from proveit.numbers import (\n",
    "        zero, one, Real, RealNeg, RealNonNeg, RealNonPos, RealPos,\n",
    "        IntervalCC, IntervalOC)\n",
    "%begin demonstrations"
   ]
  },
  {
   "cell_type": "markdown",
   "metadata": {},
   "source": [
    "#### Basic Testing: Creating Definite Integrals, Accessing Properties"
   ]
  },
  {
   "cell_type": "code",
   "execution_count": 2,
   "metadata": {},
   "outputs": [
    {
     "data": {
      "text/html": [
       "<strong id=\"integral_Px_over_S\">integral_Px_over_S:</strong> <a class=\"ProveItLink\" href=\"../__pv_it/demonstrations/21ec7e2c5ce35bcd84d80bf3e4821bc11e1a85f40/expr.ipynb\"><img src=\"data:image/png;base64,iVBORw0KGgoAAAANSUhEUgAAAGMAAAAwBAMAAAD3D9n/AAAAMFBMVEX///8AAAAAAAAAAAAAAAAA\n",
       "AAAAAAAAAAAAAAAAAAAAAAAAAAAAAAAAAAAAAAAAAAAv3aB7AAAAD3RSTlMAq4l2RGYyEO+7md3N\n",
       "VCITGW5nAAAACXBIWXMAAA7EAAAOxAGVKw4bAAACR0lEQVRIx5WWTWgTURDHZ5tks7vpblJExJPF\n",
       "4kmtGyIIgqYonhvwVtSWnqSXLF6kpcWAB6+FtuKCUFFE/MD0JB4Ec/PYPXtpoJeCF9tqa4t2nbez\n",
       "b6GQx8ssJO/tkN+beTPz/i8A9BgjwH1OjDeYhLl/f4yJGIvsuMo+GxmfYiNtNgFf2ETxkI24v9mI\n",
       "s8dGSj/ZyKM13S+8dOxKw0ZFh1xLx5vScKl38XOrB0PP3yT5GZYm2b3rip4sdwCeBTiZz0zf0jEO\n",
       "eiNN9L4hInidmSbS1v+j2EEdW68uYmplJotWLxwokFXxQcztZKZB2oyxo0BwKXNXlBo9FWunpi8C\n",
       "DFByS/8UZ3UXvPNRurQDVf89RkQOy0e9kdz22XNJLkvI3YPJ4CTGSNtqKvrFlnYLwSn4kHgmW72j\n",
       "LkuGADwWX3nycuaFoiyy5iIwyB/BQwyM2vGrQsPqsilsH4rLRgtwiQJpUawQi3U5wcy6e3OtfET5\n",
       "xh3FvYm38ZLM9hoUX/nf74oYE8/uX+2B+pTNfpDbHS0ykc2oQe1fWsSWp9Gj3Vv7etVaPM7qTz7A\n",
       "ZjpeTwW5wtaXyQYbaXfZyGe+7G8fe7tRu629bEyp4WY1HAPXh6bWSU6eyXdidQulQH+1YllqH692\n",
       "SQjLjUx/1Y81DLnu6cFolnzGK31crQEUYMmEW/S60NZV9gIMiQH3cycMwwgCyOsum9B8IpLV8mA6\n",
       "UYNINqv6mati7bcGOg7YQm2dChh9NYNzeeQKeE/FbOblKKMLHoRhP/99/gMU9Xwxur81BQAAAABJ\n",
       "RU5ErkJggg==\n",
       "\" style=\"display:inline;vertical-align:middle;\" /></a><br>"
      ],
      "text/plain": [
       "<IPython.core.display.HTML object>"
      ]
     },
     "metadata": {},
     "output_type": "display_data"
    }
   ],
   "source": [
    "integral_Px_over_S = Integrate(x, Px, domain=S)"
   ]
  },
  {
   "cell_type": "code",
   "execution_count": 3,
   "metadata": {},
   "outputs": [
    {
     "data": {
      "text/html": [
       "<a class=\"ProveItLink\" href=\"../../../__pv_it/common/38f47c5670ea8c5b56253448e95d8afb56bc09b40/expr.ipynb\"><img src=\"data:image/png;base64,iVBORw0KGgoAAAANSUhEUgAAAA0AAAAOBAMAAAAGUYvhAAAAMFBMVEX///8AAAAAAAAAAAAAAAAA\n",
       "AAAAAAAAAAAAAAAAAAAAAAAAAAAAAAAAAAAAAAAAAAAv3aB7AAAAD3RSTlMAVJmJZkS7dhDNMqsi\n",
       "791pxlESAAAACXBIWXMAAA7EAAAOxAGVKw4bAAAAX0lEQVQI12NgYGBUMmYJYGBgSGfgyAdSTAoM\n",
       "DJ5Amn8BA0M4kI53YGBYBaT7PwMFgIDl//89YEZ7/l8GCNAHamcBKRFgYOgG0ucbGBjkgLQyEOsZ\n",
       "MDBvANIK0dobgRQAj4AQu33LPq4AAAAASUVORK5CYII=\n",
       "\" style=\"display:inline;vertical-align:middle;\" /></a>"
      ],
      "text/plain": [
       "S"
      ]
     },
     "metadata": {},
     "output_type": "display_data"
    }
   ],
   "source": [
    "integral_Px_over_S.domain"
   ]
  },
  {
   "cell_type": "code",
   "execution_count": 4,
   "metadata": {},
   "outputs": [
    {
     "data": {
      "text/html": [
       "<a class=\"ProveItLink\" href=\"../../../__pv_it/common/a0d9d672aa5e272d907247690c152cc2c6daafb70/expr.ipynb\"><img src=\"data:image/png;base64,iVBORw0KGgoAAAANSUhEUgAAAAsAAAAJBAMAAAAWSsseAAAAMFBMVEX///8AAAAAAAAAAAAAAAAA\n",
       "AAAAAAAAAAAAAAAAAAAAAAAAAAAAAAAAAAAAAAAAAAAv3aB7AAAAD3RSTlMAEHarMolUmd1mIs3v\n",
       "RLtmgJDEAAAACXBIWXMAAA7EAAAOxAGVKw4bAAAAQklEQVQI12NgEFIWCU1gYChgMmJvYOBcwPmR\n",
       "eQIDCwP7BgYQ4FEAU/cXMAowyF2wYWBlYMh3rGG4xsAgrsRWmcAAAFEjCyBvD0T9AAAAAElFTkSu\n",
       "QmCC\n",
       "\" style=\"display:inline;vertical-align:middle;\" /></a>"
      ],
      "text/plain": [
       "x"
      ]
     },
     "metadata": {},
     "output_type": "display_data"
    }
   ],
   "source": [
    "integral_Px_over_S.index"
   ]
  },
  {
   "cell_type": "code",
   "execution_count": 5,
   "metadata": {},
   "outputs": [
    {
     "data": {
      "text/html": [
       "<a class=\"ProveItLink\" href=\"../../../__pv_it/common/32fc7f13c9e7e89074583aa5bfc208d125f839970/expr.ipynb\"><img src=\"data:image/png;base64,iVBORw0KGgoAAAANSUhEUgAAAC4AAAAVBAMAAADLKsFqAAAAMFBMVEX///8AAAAAAAAAAAAAAAAA\n",
       "AAAAAAAAAAAAAAAAAAAAAAAAAAAAAAAAAAAAAAAAAAAv3aB7AAAAD3RSTlMAdrurzZkQ7zJUiSLd\n",
       "ZkQEbk8lAAAACXBIWXMAAA7EAAAOxAGVKw4bAAABBUlEQVQY02NgQAYbIBQ3AypgnACh+QRApNB/\n",
       "ZSPXBBBrFkyBLJj8wsDAVAak2Rxg4iwgZRwfGRg4gZiB9QJMnDcAZOoPIP4FZLAjbAJpZ/oAxEA5\n",
       "hikIcV8g5ldgYOgHuSAKiBOFM1YBXbWYASy26yRMUQCjIesBBoYrQKa81ap7YM1ASd4NvN+YgdZP\n",
       "B3L1YYbWAd3GwAp2bD/E+XBxoKPAfn0OVPILJg625P0GNqCn5gCd/g8mrsjAkPTAnIELyLwE9PMH\n",
       "mDjQcfPbwhlegp3Mqv9JACrew8CQKsgZCwrUc8jBzNMAY3EfQBYHhxYYIEIQDLRhjE2o8ZWEoQBq\n",
       "LNQFjBsYAPX/NdAdv2WaAAAAAElFTkSuQmCC\n",
       "\" style=\"display:inline;vertical-align:middle;\" /></a>"
      ],
      "text/plain": [
       "P(x)"
      ]
     },
     "metadata": {},
     "output_type": "display_data"
    }
   ],
   "source": [
    "integral_Px_over_S.integrand"
   ]
  },
  {
   "cell_type": "code",
   "execution_count": 6,
   "metadata": {},
   "outputs": [
    {
     "data": {
      "text/html": [
       "<a class=\"ProveItLink\" href=\"../__pv_it/demonstrations/d3e83071040c77d3749bc82b7fb41ce995b5c24c0/expr.ipynb\"><img src=\"data:image/png;base64,iVBORw0KGgoAAAANSUhEUgAAAGMAAAAwBAMAAAD3D9n/AAAAMFBMVEX///8AAAAAAAAAAAAAAAAA\n",
       "AAAAAAAAAAAAAAAAAAAAAAAAAAAAAAAAAAAAAAAAAAAv3aB7AAAAD3RSTlMAq4l2RGYyEO+7md3N\n",
       "VCITGW5nAAAACXBIWXMAAA7EAAAOxAGVKw4bAAACS0lEQVRIx5WWTUgbQRSA3+4km+zGbBQppSeD\n",
       "UnrQaoKCILaRFm+VeBPEqnjqzaWX0iAY8NCrNFK6IBiRUtpK9VR6KDTQQ4/mrAcDXgq9+FO1Smv6\n",
       "ZmZnqZBhMgvZeTz2m/c7bwLAH6MLdJ/2/LgmYZ0/GdFEjGVtv1IZbSQ/q41saRPwRZuIXWojyVNt\n",
       "xDnTRhKH2sjituoLN1hrQrHfqkLuBetDoehrXHyydtG2+pblJy1Uont3JD2ZqgC89lBYCFXfg7Xu\n",
       "NUbm0fo+9eBNqJoMWv+3JIIctl6O+lQMVXG+e/RCgqzRH2LJSqhq4cEYxxIEt7JOaKnRUqz/5txd\n",
       "AJMnN/FXclZPwO2uBls7kM18QI+4wdRVY4Qcdd5muUwgNw0z3g30kYc1L+kXW+jjCM7CJrPMdbmK\n",
       "vCwhArBEXxFupaMsKYuoOXUMIlfwDB3j7fhVMsNyoinsDMRWjCLgFlE+i+qSYbEjBMxs8qxQjFR5\n",
       "vjGiemPiXb0ksr0NsY3M7mPqI7Oc/KM8UJ9C6Sc3e6xEJkOJN6j9S4nY4jS6PPr4uXpqLV9n1Scf\n",
       "4CBY7wcDuVV7vsyMayNbNW3ks/7YP/pP3utZ/9bEPSlmuJX1R4gJvWklQsSZfI/dSQhMqC9BA8vS\n",
       "/3GoxgYhIoNlJRJPA6ndaqk+ZyZNt6TOed6DKJQsGGWI81J5n/dAG10wninf96uEmGMqxLde0GQV\n",
       "XZhjVkjkgadAClms/Q+z4oDtsVjgTrmZYjoDXYPgvkLp0XC6sNl8Fzz1/Wb++/wDVyd796AVsx4A\n",
       "AAAASUVORK5CYII=\n",
       "\" style=\"display:inline;vertical-align:middle;\" /></a>"
      ],
      "text/plain": [
       "Integrate_{x in Real} P(x)"
      ]
     },
     "metadata": {},
     "output_type": "display_data"
    },
    {
     "data": {
      "text/html": [
       "<a class=\"ProveItLink\" href=\"../__pv_it/demonstrations/603db56d8a6d71efbcb01754ac19d005c12e95ea0/expr.ipynb\"><img src=\"data:image/png;base64,iVBORw0KGgoAAAANSUhEUgAAAG8AAAAwBAMAAADtMzlxAAAAMFBMVEX///8AAAAAAAAAAAAAAAAA\n",
       "AAAAAAAAAAAAAAAAAAAAAAAAAAAAAAAAAAAAAAAAAAAv3aB7AAAAD3RSTlMAq4l2RGYyEO+7md3N\n",
       "VCITGW5nAAAACXBIWXMAAA7EAAAOxAGVKw4bAAACVUlEQVRIx2NggABGZQbygLB/AFn62L5nOJCl\n",
       "kXECmS7lNyBTo38CmRrXk6mPYQ+Z+th/kamR9yuZGrm+kamR+wOZGus3EKeOD0o/gAncFyBOoy2U\n",
       "doYJ6ONLOMzzfwrOWQ4OQwWYECxHnMebwvkPMDDMKAAyauBCx6H0/wJ8GvOB7rkPctNSuFAUNFP9\n",
       "wOsze2BCtge5sgEuxAGxifUnXo3zQRiomfcAXIgH4knGT3g1Ao1l+wxKJkBb2Y3Fk3QZGJgg0cD9\n",
       "F2/p8JmBT/sC1BouBkOD1UA3Qizn/4dPI/NHJVVwqHMDdccxxBeIAl0N8W4+3hTHCZPlAGpPYFgD\n",
       "dgVEzP4AoWiEa2RgaAYRLBAb5RfgjUZYegE5lYHlH0M50KmQxL0fb5lqD0tWnAYM7FMYGxiABrFC\n",
       "SsX/eIuq8zAGMA54v1U1sFyAxAzQp//x6Vv5fzIsXjYwsC82uBULcjXYFbx/iMy22+Cs1xAnfCJS\n",
       "YxScBUnunF+I1MgJy/l8kLDh+E5sKToB1QRiSxwGhsdQ2g5acQiQWcbFB5Cpcf0DMjXuILeq+ojE\n",
       "vq2z8DDR9T+sxmEznOnAzMSgp0CkRmZY/l8FTOvMzAzhxFbrjMBoNF5n9QBcPAM1mi/gW7Vq1RLC\n",
       "GjkUGJgfSPJcqARbz8Q3mdjY8S9gYGWYzMbgCtbINYnIlosOgyCIAvozZubMmReYmZl8idM4k60d\n",
       "FKANfAxJYBuZWZwKiNJYZQhMNy+YDnAxcBaA/cigvoCENoCJsjkD3zQgy8dGoWoNqSmoaOZM4luC\n",
       "AEQwfqeaU/raAAAAAElFTkSuQmCC\n",
       "\" style=\"display:inline;vertical-align:middle;\" /></a>"
      ],
      "text/plain": [
       "Integrate_{x in RealNeg} P(x)"
      ]
     },
     "metadata": {},
     "output_type": "display_data"
    },
    {
     "data": {
      "text/html": [
       "<a class=\"ProveItLink\" href=\"../__pv_it/demonstrations/7c1ea76df81acf95afad9d1226a2f07df0be18b50/expr.ipynb\"><img src=\"data:image/png;base64,iVBORw0KGgoAAAANSUhEUgAAAHYAAAAwBAMAAAA2iJNTAAAAMFBMVEX///8AAAAAAAAAAAAAAAAA\n",
       "AAAAAAAAAAAAAAAAAAAAAAAAAAAAAAAAAAAAAAAAAAAv3aB7AAAAD3RSTlMAq4l2RGYyEO+7md3N\n",
       "VCITGW5nAAAACXBIWXMAAA7EAAAOxAGVKw4bAAAChUlEQVRIx2NggABGZQaygbB/ALla2b5nOJCr\n",
       "l3EC+U7mNyBfr38C+XrXk6+VYQ/5Wtl/ka+X9yv5erm+ka+X+wP5eus3EK/2AYTig/HvCxCtlfkC\n",
       "hGaBpSZ9QsmKef5PwTnLQaxLMCFTKH2eYEbgP8DAMKMAGJsHYCI8BRD6fwEhvflAl90HYi54VmVd\n",
       "AMmBPwh60x6Y4O0VGBg4EELtECN+EtQ7H4SB+u8ghI5Ccu8ngnqBprN9BtKLgLjYsEwJGNqKkKTx\n",
       "l2C58pmBT/sC1LIFzMJcwAQRAwnEfwRj9aOSKjgu9gJ9+ID1OyMwyG5AApFgkuSEqWgBuoGBCxxR\n",
       "+ZBAPEBM9ML0AgMbnJQ8wALyCwhGrwKUsRdcQj1gByaI22CB/QTLZntYwpvMwFDpIMHABGRGQpIV\n",
       "wZLuPIwBjJj76SsYfKHRxcD2n5DWlf8nQ1nZDAxVxrxLQdG1BVzi/CGhlIA7kQ+c55k+Ea+XFR6s\n",
       "kFzB+YWEImYejPESTHJ8J0FvJaohpJRWDHzQIoYZUm75C5BfSsYHkK93/QPy9e7AEKlSB/nM1o6w\n",
       "3o/INdOmUzLA0Hi0DlQQ8hBua8ArsmTJKQwGCkyPQOXKEoYKBg6CxSczrNTgWgYkDAxYi0Gc1w6v\n",
       "kRIgznYKMHqZrR6vg5T0BgbMVUAqSx1kL8FA5ADmazvGCWfZwW0dA4WXQDMcgdHGw0DYv/5AXwVw\n",
       "GiSwgKPZYKUmA0PhBXA4xxHQqcMgCC6QHjCwnpw5cy7QzSoXiI3cmWzguiGD4QGbAsS/LuoMr1at\n",
       "WkVEO6/KEBggfA06DAsYpkP8y1RFWtJa7GRcwPASGCUshw+xrzpAetpk15w5hRT1AK5SkaMWLwV9\n",
       "AAAAAElFTkSuQmCC\n",
       "\" style=\"display:inline;vertical-align:middle;\" /></a>"
      ],
      "text/plain": [
       "Integrate_{x in RealNonNeg} P(x)"
      ]
     },
     "metadata": {},
     "output_type": "display_data"
    },
    {
     "data": {
      "text/html": [
       "<a class=\"ProveItLink\" href=\"../__pv_it/demonstrations/7e982644c3bafb1496b9c31f3cd7e33ed81eb9c40/expr.ipynb\"><img src=\"data:image/png;base64,iVBORw0KGgoAAAANSUhEUgAAAHYAAAAwBAMAAAA2iJNTAAAAMFBMVEX///8AAAAAAAAAAAAAAAAA\n",
       "AAAAAAAAAAAAAAAAAAAAAAAAAAAAAAAAAAAAAAAAAAAv3aB7AAAAD3RSTlMAq4l2RGYyEO+7md3N\n",
       "VCITGW5nAAAACXBIWXMAAA7EAAAOxAGVKw4bAAACiUlEQVRIx2NggABGZQaygbB/ALla2b5nOJCr\n",
       "l3EC+U7mNyBfr38C+XrXk6+VYQ/5Wtl/ka+X9yv5erm+ka+X+wP5eus3EK/2AYTig/HvCxCtlfkC\n",
       "hGaBpSZ9QsmKef5PwTnLQaxLMCFTKH2eYEbgP8DAMKMAGJsHYCI8BRD6fwEhvflAl90HYi54VmVd\n",
       "AMmBPwh60x6Y4O0VGBg4EELtECN+EtQ7H4SB+u8ghI5Ccu8ngnqBprN9BtKLgLjYsEwJGNqKkKTx\n",
       "l2C58pmBT/sC1LIFzMJcwAQRAwnEfwRj9aOSKjgu9gJ9+ID1OyMwyG5AApFgkuSEqWgBuoGBCxxR\n",
       "+ZBAPEBM9ML0AgMbnJQ8wALyCwhGrwKUsRdcQj1gByaI22CB/QTLZntYwpvMwFDpIMHABGRGQpIV\n",
       "wZLuPIwBjJj76SsYfKHRxcD2n5DWlf8nQ1nZDAxVxrxLQdG1BVzi/CGhlIA7kQ+c55k+Ea+XFR6s\n",
       "kFzB+YWEImYejPESTHJ8J0FvJaohpJRWDHzQIoYZUm75C5BfSsYHkK93/QNsogVE6d2BTTAwgc/W\n",
       "jrDej8g106ZTMsDQYNdKABaEPITbGvCKLFlyCoOBAtMjBr5FQG9UMHAQdDczrNTgWgYkDAxYixle\n",
       "g7LNa6QEiLOdAoxeZqvH6yAlvYEBcxXQtw5gex8Q0ssBzNd2jBPOsoPbOgYKL0FmXAxg4GEg7F9/\n",
       "oK8COA0SWMDRbLBSEyya5cBnG0dApw6DILhAesDAenLmzLlAN6tcIDZhzGQD1w0ZDA/YFCD+dVFn\n",
       "eLVq1Soi2nlVhsAA4WvQYVjAMB3iX6Yq0pLlYifjAoaXwChhOXyIfdUB0tM1u+bMKaSoBwDRxZGW\n",
       "4xlIrAAAAABJRU5ErkJggg==\n",
       "\" style=\"display:inline;vertical-align:middle;\" /></a>"
      ],
      "text/plain": [
       "Integrate_{x in RealNonPos} P(x)"
      ]
     },
     "metadata": {},
     "output_type": "display_data"
    },
    {
     "data": {
      "text/html": [
       "<a class=\"ProveItLink\" href=\"../__pv_it/demonstrations/e76036f6aa5fd9cdd43323eda3c8babbfe9c641a0/expr.ipynb\"><img src=\"data:image/png;base64,iVBORw0KGgoAAAANSUhEUgAAAG4AAAAwBAMAAAAC8VJPAAAAMFBMVEX///8AAAAAAAAAAAAAAAAA\n",
       "AAAAAAAAAAAAAAAAAAAAAAAAAAAAAAAAAAAAAAAAAAAv3aB7AAAAD3RSTlMAq4l2RGYyEO+7md3N\n",
       "VCITGW5nAAAACXBIWXMAAA7EAAAOxAGVKw4bAAACVklEQVRIx2NggABGZQaygLB/ADna2L5nOJCj\n",
       "j3ECec7kNyBPn38CefrWk6eNYQ952th/kaeP9yt5+ri+kaeP+wN5+uo3EKfuAYTig/HvCxCljfkC\n",
       "hGaBpRJ9fMmFef5PwTnLQaxLMCFTKH0eb6LmP8DAMKMAGFsHYCI8BRD6fwE+fflA19wHYi54VmNd\n",
       "AMlFP/B6yx6YeO0VGBg4EELtEO0/8eqbD8JAvXcQQkchue8TXn1AU9k+A+lFQFxsWKYEDFVFSLT/\n",
       "xVsWfGbg074AtWQBszAXMLJjIAH2D2+sfVRSBYf3XqCPHrB+ZwQGzw1IgOFNZpww2Rag3Qxc4MjI\n",
       "hwTYAULRB9MHDFRwEvEAC8gvwBt9ClDGXnCJ8oAdGNm3wQL78Zad9rDENJmBodJBgoEJyIyEJBe8\n",
       "pdJ5GAMY+PfTVzD4QqOEge0/Pm0r/0+GsrIZGKqMeZeComQLuJT4Q2TuhjuLD5xfmT4Rp48VHnyQ\n",
       "FM75hchiYR6M8RJMcnwnUl8lqgHEli4MfNBigRlSzvgLkFeaxQeQp2/9A/L07cAipkCEvo/INcWm\n",
       "UzIg3y8gom6HVyrJklMYDBSYHhGnjxmW27mWAQkDA9Zi4vQxAqOP2erxOkgpbGDAXMWgtWrXKoLt\n",
       "Cw5gGNgxTjjLDm5TGCi8NCXOPn9g/g3gNEhgAUejwUpNBmL06TAIgguRBwysJ2fOnAt0p8oFYvTN\n",
       "ZAOX2RkMD9gUIP5zUScm/qoMgamFr0EHaMN0iP+YqohPMoudjAsYXgLzM8vhQ+yrDpDYGtGcOYVY\n",
       "tQAE5oilPagqrQAAAABJRU5ErkJggg==\n",
       "\" style=\"display:inline;vertical-align:middle;\" /></a>"
      ],
      "text/plain": [
       "Integrate_{x in RealPos} P(x)"
      ]
     },
     "metadata": {},
     "output_type": "display_data"
    }
   ],
   "source": [
    "# Utilizing pre-defined set for domain\n",
    "for the_domain in [Real, RealNeg, RealNonNeg, RealNonPos, RealPos]:\n",
    "    display(Integrate(x, Px, domain=the_domain))"
   ]
  },
  {
   "cell_type": "code",
   "execution_count": 7,
   "metadata": {},
   "outputs": [
    {
     "data": {
      "text/html": [
       "<a class=\"ProveItLink\" href=\"../__pv_it/demonstrations/c42af35d635c3b35388e8783efadbbbf4350e2080/expr.ipynb\"><img src=\"data:image/png;base64,iVBORw0KGgoAAAANSUhEUgAAAG0AAAA0BAMAAAByV6taAAAAMFBMVEX///8AAAAAAAAAAAAAAAAA\n",
       "AAAAAAAAAAAAAAAAAAAAAAAAAAAAAAAAAAAAAAAAAAAv3aB7AAAAD3RSTlMAq4l2RGYyEO+7md3N\n",
       "VCITGW5nAAAACXBIWXMAAA7EAAAOxAGVKw4bAAACgUlEQVRIx9WWTYjTQBiG3/QnSdtNu0sRvVm2\n",
       "eHLF1J61FU8epAFvgm7xogexEfGvCBYERQ9SWA8KQguyrKJg8SAeBHvzuDkr2IpHL7vddeOKu3Um\n",
       "yWQnSwNmbhZKJpM8870z7zffBNj5XetD5CeXe0IctP+Ak4piXL5miHCyfbEqwkltsfnldCA7N9Kj\n",
       "crW6mAVvxDB8EMOU34KZ8lOMS2+IcZkVMe5OiONZ7zoM4QbTk/uPetcTIdxhPlHinc2ZZ0vOchVY\n",
       "l8EeXnrIc8vVQNKROvPEJI3bftcnv7XFvzk2+bsGiT6gChb9rjOskbD5XfQroLpCkrVCJbb8LpUN\n",
       "HONXMLkZ4Dr0T1htpy5OsQlOdfndNwpwZBR5jWYDiamU954/RMK4C/6t2LBwtXR91nJtD0yWMNmD\n",
       "lhckjZL+iihyQiceoWOiG8+nXbW5bZ6Lr84ecNY3Q+BzmDf3EMnOVG8aeI3kMGlLruxGIM1S7E4l\n",
       "dJ28STWseLv0LWSk2bwr/d32+Rxw11HoxHsAZZ32syzZ3w3Yx7KE6kRiGze8kqWsIUnj1oaKa8tH\n",
       "I2AfS56UDuWx1AIZJ0nrnbIFqf/1VnUfYl66BKrSMmuQxdc2mq2E5VoCLOBLtzu48AKn3IUf89jL\n",
       "8QIzpAfluf75LJXsaLhy5HK+3ixri6592p+QbfLOb/2Y9Dg2CuH8bOYynDdsPYRLsX2ebU96rNph\n",
       "5bG9e4B/qi7Ad+96bPLhMC1WzeYNwUNlKMa9FzyMVomFxUL0s50cKqdxMjIXJ7v9HnKRJyn1kLWh\n",
       "WlE5tUA+Q5CJbEbNpJwa8VtiDjOgOnMRdT6V70NkXZolCpRxXMj6WHEpGvAXz/aXD7A0LCEAAAAA\n",
       "SUVORK5CYII=\n",
       "\" style=\"display:inline;vertical-align:middle;\" /></a>"
      ],
      "text/plain": [
       "Integrate_{0}^{1} P(x)\\,dx"
      ]
     },
     "metadata": {},
     "output_type": "display_data"
    }
   ],
   "source": [
    "# This is wrong! Should be expressed a limit.\n",
    "Integrate(x, Px, domain=IntervalOC(zero, one))"
   ]
  },
  {
   "cell_type": "markdown",
   "metadata": {},
   "source": [
    "#### Testing closure: `deduce_in_number_set()`"
   ]
  },
  {
   "cell_type": "code",
   "execution_count": 8,
   "metadata": {},
   "outputs": [
    {
     "data": {
      "text/html": [
       "<strong id=\"defaults.assumptions\">defaults.assumptions:</strong> <a class=\"ProveItLink\" href=\"../__pv_it/demonstrations/dfc29b836ff8cdc2fcfaf30477a1c15093a2e8b50/expr.ipynb\"><img src=\"data:image/png;base64,iVBORw0KGgoAAAANSUhEUgAAALcAAAAVBAMAAAD2lGJJAAAAMFBMVEX///8AAAAAAAAAAAAAAAAA\n",
       "AAAAAAAAAAAAAAAAAAAAAAAAAAAAAAAAAAAAAAAAAAAv3aB7AAAAD3RSTlMAInZUiRDNmWbv3US7\n",
       "qzJazP2FAAAACXBIWXMAAA7EAAAOxAGVKw4bAAACh0lEQVQ4y7VVTWgTQRT+8jPZTXYTc/LgxTUg\n",
       "VbDQg/h3MWARDwpLQIpQNVUKeotSNA2IEVF7M/TgQS+hguAiGPy7iatSkVZp1BYqeIigiILaoi0W\n",
       "xDqzM9ts0tkVDx3YnTfzve/bnTdv3gBIY0WaIxvu+l+aevzF/M3n//K6w16b5VjkdLda8+Hpobo2\n",
       "Peqv63DDZYDk5Q5PQCbgK56F/dVfnHP7AaUsxZUCcDFI/ETMV1twLwHxlvnwmHXDMVY1RNS8bZNl\n",
       "5ZfE9Xa0nRs3scWLa0dMYT2iC/rWxn6w3vPnUwfb0GXcWBkDdJTrPNTt5MxqF8fhnw1hkczUh13M\n",
       "CPV7wpJ62sftXBGkLuVG6zhGu0L4tVJl475mui0uvhIRRKdRYkYs3RS/cntEaGW3Q52RctU8rtN3\n",
       "Wp1LOvvqyZzcxAI3zuGyOe2IezZ0zwXhmuoqIWlLuZEKrlEHKBxJXbUs65brcpaneQOn+PgzBS1b\n",
       "hGV0SAQNw4gbUm5qhomDw9TTXloZC517dId51+tNxU+6CIs2h+8NKVersLDQ/U0Tx7fqOrBUWOvS\n",
       "Z7Gf9QmvuPJeiNFFb4SUG6nS04Te2ltEnfmM67CDPjSPqAsZT1aQdfLY8IgTe4MDQ6/jpZQL1cY+\n",
       "YOfHQdx15mNuJEpZlklknn7/T09F49NHm+IFDOk1BkOpa79kXIpk8QXoyUSKHCHv7nOHwsMzb2hn\n",
       "mSAnja3nxXrHTbcq/k7rz34wGGSyY1bKRaKGRKPlmO0VR1iUN7PlEN4bs1rKHIejeSkXa+hvFAJq\n",
       "cjS4ZDN4Nw74XAhF+jwOYOeCxRk8gkk5GLJb0nd5M4LFGbytw+dK0Vm1CBkrc4euA/4CDJazdOar\n",
       "W08AAAAASUVORK5CYII=\n",
       "\" style=\"display:inline;vertical-align:middle;\" /></a><br>"
      ],
      "text/plain": [
       "<IPython.core.display.HTML object>"
      ]
     },
     "metadata": {},
     "output_type": "display_data"
    }
   ],
   "source": [
    "# some default assumptions to help with testing\n",
    "defaults.assumptions = [InSet(x, S), InSet(x, Real), InSet(y, S)]"
   ]
  },
  {
   "cell_type": "code",
   "execution_count": 9,
   "metadata": {},
   "outputs": [
    {
     "data": {
      "text/html": [
       "<strong id=\"integral_fx_over_S\">integral_fx_over_S:</strong> <a class=\"ProveItLink\" href=\"../__pv_it/demonstrations/c6051dd83ac7f2ccba07e85c6afea0ce1fa02d9f0/expr.ipynb\"><img src=\"data:image/png;base64,iVBORw0KGgoAAAANSUhEUgAAAF8AAAAwBAMAAACFwLtJAAAAMFBMVEX///8AAAAAAAAAAAAAAAAA\n",
       "AAAAAAAAAAAAAAAAAAAAAAAAAAAAAAAAAAAAAAAAAAAv3aB7AAAAD3RSTlMAq4l2RGYyEO+7md3N\n",
       "VCITGW5nAAAACXBIWXMAAA7EAAAOxAGVKw4bAAACO0lEQVRIx2NggABGZQbSgLB/AEnq2b5nOJCk\n",
       "gXECiS7iNyBRg38CiRrWk6ieYQ+J6tl/kaiB9yuJGri+kaiB+wOJGuo34Jfng9IPYAL3BfBrsIXS\n",
       "zjABfVwRzaVUAAoTBSiXGZZCz+NKeYoZF4BkDZx/HEr/L8ChodcTJLMUzo+CJu4fONSzfAdTDXAB\n",
       "DojJrD9xaGAChx7vAbgAD8QTjJ+wq2eV2LgA5HOgn9mNxZN0gSZAgpP7L95sAjKWi8HQYDXQCIhl\n",
       "/P9waHgPzibcwJCKY4gvEAW6DuKdfFwp4z7Ep8BAT2BYAw4eiEr7Azg0aMM1MDA0g4MNYoP8Ahwa\n",
       "JjLAnMTA8o+hHOgkSKLbj6tMApvKwGnAwD6FsYEBGFiskNLlP44igO8LJDYEGHi/VTWwXICEMNAn\n",
       "/3FlRIgX2TYwsC82uBULch3YO7x/cKVVaKrfBhd5DbESR0Rf5LmAkuTgyZDzC3YNO2HJmhOW0/gg\n",
       "fub4jl1D8DpYKTQBVSehHM3A8BhK20ELVgESy4z4ABI1rH9AooYdpBbdH1F4TsbBBCoLNlhJzGY4\n",
       "04GB14Ahn4AFzLD8tgpkMgcwixOqEIHRYLzO6gGkWOMPgJekuACHAgPzA0meC5UQ+/5PJVghFjCw\n",
       "MkxmY3CFcGvX449HHQZBEAX0R8zMmTMvMBQwsOCvLGaytYMCqIGPIQmcyy/AkiQuUGUIjOcXTAe4\n",
       "GDgLIHmGkYiI5zJRNmfgmwZiZS3SIzrGi2bOJNxCAQBwOXfQy1eHmQAAAABJRU5ErkJggg==\n",
       "\" style=\"display:inline;vertical-align:middle;\" /></a><br>"
      ],
      "text/plain": [
       "<IPython.core.display.HTML object>"
      ]
     },
     "metadata": {},
     "output_type": "display_data"
    },
    {
     "data": {
      "text/html": [
       "<strong id=\"integral_fy_over_S\">integral_fy_over_S:</strong> <a class=\"ProveItLink\" href=\"../__pv_it/demonstrations/0e3e458f0fc32e12710c56575717d215bc1b10ee0/expr.ipynb\"><img src=\"data:image/png;base64,iVBORw0KGgoAAAANSUhEUgAAAF4AAAAyBAMAAAAnynF8AAAAMFBMVEX///8AAAAAAAAAAAAAAAAA\n",
       "AAAAAAAAAAAAAAAAAAAAAAAAAAAAAAAAAAAAAAAAAAAv3aB7AAAAD3RSTlMAq4l2RGYyEO+7md3N\n",
       "VCITGW5nAAAACXBIWXMAAA7EAAAOxAGVKw4bAAACVElEQVRIx2NggABGZQaSgLB/ACnK2b5nOJCi\n",
       "nnECac7hNyBNvX8CaerXk6acYQ9pytl/kaae9ytp6rm+kaae+wNp6us34JfnQ6EYGO4L4FdvC6FY\n",
       "YLGqjyt6uZQKQMGhAOWaQunzuBKbYsYFIFkD4/IUQOj/BTjU93qCZJbCuKwLIKn5Bw7lLN/BVANc\n",
       "oB2i7ScO9UzgcOM9ABc4Ckn9n7ArZ5XYCHIAF9C7xUsZ2IGBqAiJrr94swUPMKsq3GBgBUZqDET4\n",
       "Hw7178HZgvsCA9uF1eA8eAMsnI8rOdwHkxwODOwMzQwcQMvywQL2B3Co14apB4VUPtAyD7CA/AIc\n",
       "6icyQN3DwHWAwQLIvA0W2I+r7GkGk5xAh3AKgDVHQqIXR27n+wKJBWBAcgmwgPLUInD0/seV7SDh\n",
       "wAaMNXYhK1AgbgEL/8GVOqHJfBvYFmCg8IHjmwlH9F7kuQBhRDEw6DBUgHwN9ijnF+zqd8LSMecD\n",
       "hs0MQkDGS0j4fseuPngdrLiZwHDVCpRF5hGVexkYHkMo5geQwlOAtNIhPoDEwvYBaep3kFg4f0TN\n",
       "s8qmZvjrLnhhmyw5hYHhMgMb/tKRGZa7uJZBCwP84cUIDH5nAaAiSOkFtA2//zkUGNgNvrM1sEPq\n",
       "SPufBILXv4CBr3YD8wQWiDr2Wx/xqdZhEAS5SYHRgPXkzJlzgTmbwR+f+plsoDKO24EjgQ1cCvvC\n",
       "UiEOUGUI8h13AtDQ6SD+QgYGOSIqvKVzgOaCsvGyVUpEJI86hqlAn2rOnEJsc4blAElJyNWISIUA\n",
       "Stp+Ae0Ajt8AAAAASUVORK5CYII=\n",
       "\" style=\"display:inline;vertical-align:middle;\" /></a><br>"
      ],
      "text/plain": [
       "<IPython.core.display.HTML object>"
      ]
     },
     "metadata": {},
     "output_type": "display_data"
    },
    {
     "data": {
      "text/html": [
       "<strong id=\"integral_fx_over_real\">integral_fx_over_real:</strong> <a class=\"ProveItLink\" href=\"../__pv_it/demonstrations/8c0baead30b17624fc3a5bfddb87306ee31f95a20/expr.ipynb\"><img src=\"data:image/png;base64,iVBORw0KGgoAAAANSUhEUgAAAF8AAAAwBAMAAACFwLtJAAAAMFBMVEX///8AAAAAAAAAAAAAAAAA\n",
       "AAAAAAAAAAAAAAAAAAAAAAAAAAAAAAAAAAAAAAAAAAAv3aB7AAAAD3RSTlMAq4l2RGYyEO+7md3N\n",
       "VCITGW5nAAAACXBIWXMAAA7EAAAOxAGVKw4bAAACQ0lEQVRIx2NggABGZQbSgLB/AEnq2b5nOJCk\n",
       "gXECiS7iNyBRg38CiRrWk6ieYQ+J6tl/kaiB9yuJGri+kaiB+wOJGuo34Jfng9IPYAL3BfBrsIXS\n",
       "zjABfVwRzaVUAAoTBSiXGZZCz+NKeYoZF4BkDZx/HEr/L8ChodcTJLMUzo+CJu4fONSzfAdTDXAB\n",
       "DojJrD9xaGAChx7vAbgAD8QTjJ+wq2eV2LgA5HOgn9mNxZN0gSZAgpP7L95sAjKWi8HQYDXQCIhl\n",
       "/P9waHgPzibcwJCKY4gvEAW6DuKdfFwp4z7Ep8BAT2BYAw4eiEr7Azg0aMM1MDA0g4MNYoP8Ahwa\n",
       "JjLAnMTA8o+hHOgkSKLbj6tMApvKwGnAwD6FsYEBGFiskNLlP44igO8LJDYEGHi/VTWwXICEMNAn\n",
       "/3FlRIgX2TYwsC82uBULch3YO7x/cKVVaKrfBhd5DbESR0Rf5LmAkuTgyZDzC3YNO2HJmhOW0/gg\n",
       "fub4jl1D8DpYKTQBVSehHM3A8BhK20ELVgESy4z4ABI1rH9AooYdpBbdH5HYt3UWHiZYv8FKYjbD\n",
       "mQ7MTAx6CgQ0MMPy2ypgGmRmZggnVH0xAqPBeJ3VA3CxBtRgvoCABg4FBuYHkjwXKsHWMfFNJhTK\n",
       "/gUMrAyT2RhcwRq4JhGogXUYBEEU0B8xM2fOvMDMzOSLX8NMtnZQADXwMSSBbWBmcSrAq6HKEBjP\n",
       "L5gOcDFwFoD9wKC+gHDUcZkomzPwTQOyfGwUqtYQG+NFM2cSbqEAAKX3d5aajjHwAAAAAElFTkSu\n",
       "QmCC\n",
       "\" style=\"display:inline;vertical-align:middle;\" /></a><br>"
      ],
      "text/plain": [
       "<IPython.core.display.HTML object>"
      ]
     },
     "metadata": {},
     "output_type": "display_data"
    },
    {
     "data": {
      "text/html": [
       "<strong id=\"integral_fx_over_interval\">integral_fx_over_interval:</strong> <a class=\"ProveItLink\" href=\"../__pv_it/demonstrations/dfcbbdd86662766b6f6784a20fb878946983664d0/expr.ipynb\"><img src=\"data:image/png;base64,iVBORw0KGgoAAAANSUhEUgAAAGgAAAA0BAMAAACUfmAeAAAAMFBMVEX///8AAAAAAAAAAAAAAAAA\n",
       "AAAAAAAAAAAAAAAAAAAAAAAAAAAAAAAAAAAAAAAAAAAv3aB7AAAAD3RSTlMAq4l2RGYyEO+7md3N\n",
       "VCITGW5nAAAACXBIWXMAAA7EAAAOxAGVKw4bAAACa0lEQVRIx2NggIOcCQykA0YFMjRxJJChKd9Y\n",
       "nHRN1gVWpHpImWEqQwyJmoT9A9oYFpKmh+17hsMHhl4SXQeMo+2sJEYUvwEDQ5YxiV7yJyeO1pOh\n",
       "h2EPGXrYf5GhifcrGZq4vpGhifsDGZrqN2AR5IPSD3Boui+ARdAWSjvj0KRvgOJDpQJQ4MAyMnMA\n",
       "PIWeWICk7LwDsibFjAtAsgbOP45IbReQlP0vQNbU6wniLoXzoxCpDUkd2w9kPSzfwVQDovCAK9VG\n",
       "Usb6E1kTEzgoeQ/ABXjgnjqFnJs+IZsgsRHkXS5gOLAbiyfpAk2BhC2fkNlfmBAobv+i5y2I8VwM\n",
       "hgargcZALPV4wPkdJgRS9g9Z03tw3uIGBlQcQ3yBKNClYO+xtzJwHYAJgUo8lFR0H+J7YCwkMKwB\n",
       "hxNYmusDA7cCTAgI7A8ga9KGa2JgaAYHJ9gmjgkM9Q4wISCQR45ohokMMOcxsPxjKAc6Dxyc9QYM\n",
       "8XAhINgfgKwJYhSnAQP7FMYGBmAgQkqp+gsMMrzPoUKgBIFcrPB9gcSWAAPvt6oGlguQ0AeZwruL\n",
       "CyYE9Oh/lFwMCRW2DQzsiw1uxYJcCvYeu7DaQzOYEFDZH5Q0Ds0m2+Air7FlDCbkBHGR5wJ6Ml2K\n",
       "TRPnFyTOTliW4ITlWD6spTXHdyRO8DpYsTYBXTfhEoKB4TGUtsNekAuQURbFB5BT+j8gQ9MOcqqM\n",
       "j2ToYSOn9Gf+R06bCBhNRcF6JLaJFBjY97GRaB2w2ORawNZAihYdBkFQgcBMUqqYydYOTH0POMML\n",
       "SNBUZQhMDxwP8l0LSA1AlqWXVUlQDgBX7YwBmoZgiAAAAABJRU5ErkJggg==\n",
       "\" style=\"display:inline;vertical-align:middle;\" /></a><br>"
      ],
      "text/plain": [
       "<IPython.core.display.HTML object>"
      ]
     },
     "metadata": {},
     "output_type": "display_data"
    }
   ],
   "source": [
    "# define a few integrals\n",
    "from proveit import a, b\n",
    "from proveit.numbers import IntervalCC\n",
    "integral_fx_over_S, integral_fy_over_S, integral_fx_over_real, integral_fx_over_interval = (\n",
    "    Integrate(x, fx, domain=S),\n",
    "    Integrate(y, fy, domain=S),\n",
    "    Integrate(x, fx, domain=Real),\n",
    "    Integrate(x, fx, domain=IntervalCC(a, b)))"
   ]
  },
  {
   "cell_type": "code",
   "execution_count": 10,
   "metadata": {},
   "outputs": [
    {
     "data": {
      "text/html": [
       "<strong id=\"integral_fx_over_fail_interval\">integral_fx_over_fail_interval:</strong> <a class=\"ProveItLink\" href=\"../__pv_it/demonstrations/65c273a960a09980da6bd4def40cb41d0509f6cf0/expr.ipynb\"><img src=\"data:image/png;base64,iVBORw0KGgoAAAANSUhEUgAAAJgAAAA3BAMAAAACpp4pAAAAMFBMVEX///8AAAAAAAAAAAAAAAAA\n",
       "AAAAAAAAAAAAAAAAAAAAAAAAAAAAAAAAAAAAAAAAAAAv3aB7AAAAD3RSTlMAq4l2RGYyEO+7md3N\n",
       "VCITGW5nAAAACXBIWXMAAA7EAAAOxAGVKw4bAAACvElEQVRYw62WT2jTUBjAv2xd0qbLW+sQPQjO\n",
       "ybxsYsbYPKkFL3pawJswWxRkIrJcRKhCiyKCIFQQZQehoEWo4urFP0OwN8WL8eplFQ+CgtYxWxXX\n",
       "+l6Sl8Y1g9f2+w55zZcvv758fx/A//LFXckd6F2Oueu5Z72z+pct91ePMGU0bkIJ2mDny13AVFBL\n",
       "ShlIsVi874PJU6UuYEMJUtPyRtvOtG5gAyapkULFuTl12eoJBtAX+FrnMGk3vZw1cWDDs0Zbop5Z\n",
       "pFLpHCbX5xM0+7+h7EzK0Qq6ffoBCmxIBwg3m9WAR2RiVe8MNpsCPFlCZMFLRJbyBxGm/USEqTVE\n",
       "WLSKCMt0kpfEXSubPF+JdQA74K6HN3m+TyjH1VHWVbQRPi8Mr7Lf5H1m7xIisF3zrGFe8u5ft6rR\n",
       "8pk1TRHYjaPMrODdH29Vo+99+ZcIK1S3l6ynCHuIcX/3/y3e1LXW4Bv0nPbW381WRebN9ifMzSr1\n",
       "vzK17eReSndygGyZWecqlrProj3P2Y4Kk/pDinc2eaQSqXMVM2uIwL7bPS9KA3cCkuZW+sW2+5Sr\n",
       "oJa5isqCUDWtOF6nWZSCR3bc7NfUKkRHuIrKIaHTxLgHA7hih9feWTgHmQRXUdmZF4HdBP6ZEGrA\n",
       "BT5pMjokPRWVV4YIzPnriA7KLSkLNKgDORtmwQ7ts6tiBSAyTsiak20x0GrpbMhysoTRtWWVq6gj\n",
       "m0Ld2ImSXALlnv5hjn2x7T5leM/HGa6iZn+Feobbpp56mq+BdSJSAO8HrY3lXQiyi6wJwF7w1hPh\n",
       "HZbkguzCdZFj+GM+FnMbqd1PAIBP7now+KARAzxJGoiwpQoi7DnmEegHIkvGPLX0NxBhEk0zZWwa\n",
       "BxamneRiSsKBsXEcJ2MYqAmI0+v1ORMDtihfo1ekGKQnWf7fhT68iKan9yNQ/gEa66ewSbraWwAA\n",
       "AABJRU5ErkJggg==\n",
       "\" style=\"display:inline;vertical-align:middle;\" /></a><br>"
      ],
      "text/plain": [
       "<IPython.core.display.HTML object>"
      ]
     },
     "metadata": {},
     "output_type": "display_data"
    },
    {
     "data": {
      "text/html": [
       "<strong id=\"integral_fofell_over_fail_interval\">integral_fofell_over_fail_interval:</strong> <a class=\"ProveItLink\" href=\"../__pv_it/demonstrations/868e823d3e02cedb2932c499f17506256392f80d0/expr.ipynb\"><img src=\"data:image/png;base64,iVBORw0KGgoAAAANSUhEUgAAAHgAAAA3BAMAAAA1RJNYAAAAMFBMVEX///8AAAAAAAAAAAAAAAAA\n",
       "AAAAAAAAAAAAAAAAAAAAAAAAAAAAAAAAAAAAAAAAAAAv3aB7AAAAD3RSTlMAq4l2RGYyEO+7md3N\n",
       "VCITGW5nAAAACXBIWXMAAA7EAAAOxAGVKw4bAAACRklEQVRIx6WWz2sTQRTHv9ua3SQ1uwk96cVg\n",
       "jxaMevHW3HrMQm5eEhBE8UdWRSheFD1IPWiLYOnJRS1CKDQoqIjQ+Bc0Nw+Crh49aKxpUsW4znYW\n",
       "UfNM3uy+QyYzu5+87Ns33+8Af8fHcDSXoB7lcDz7TJ0df9EKvynCxv6cgwYG4EtNBpxGumE0Ydbr\n",
       "9Yd/wPqRBgO2imY349oDmTMcOOGYXXPFk5Pj11pKMDBG3jYa1qbEx2lnOExfByZL9kBjnFoW4f2G\n",
       "jb0bNKz3ThZFd30annmGhrUF0ZF3TzyKBFsFIOn7beKSOb1ZGA6Xqpy38R94DTHglzFg43sMOLMV\n",
       "A053Y8AT7RjwFd7GOehRq++yHDZ3+5VN/WRBVezO3MSBsFAbRWWp7CMRFsp3VNldPaSlMOrbyomF\n",
       "6EzIZ018U4Z3u/gsN5O2qYi+n6q1UAl7pK/4wLdwz8GeUAp+qsFzNlaB63JSY3Sn5ctoy93/GHqY\n",
       "caaplnkeRgfjV+Vkn6vmiF+DBkllZXOs22pwH1rzrWXnZYNVmVRgwiLu4I3rWrM7TaL7zJSBCQfj\n",
       "+cPnJquJ+1KEfrAacr0amPDAMq/BKjsm/O9qqsOCV0kTTvZY8BPSZHkKFvxj4nRWYilYIByECVdY\n",
       "PSJcmDLhNY8DJwukCT9n1atGp/jCgo/S5xGeyy0a5GGVpyNbY2QZxWu+UB5Z8c5Fsox5GE8x8l0f\n",
       "y5OHGQda9oOaHoQxjZxIvvI6Cotl/YaQRi8Si8uHBJhqIY+oYTwoOxGwX2crpLNFpnOwAAAAAElF\n",
       "TkSuQmCC\n",
       "\" style=\"display:inline;vertical-align:middle;\" /></a><br>"
      ],
      "text/plain": [
       "<IPython.core.display.HTML object>"
      ]
     },
     "metadata": {},
     "output_type": "display_data"
    }
   ],
   "source": [
    "from proveit import e, l, t\n",
    "from proveit.numbers import one, two, Exp, frac, subtract\n",
    "integral_fx_over_fail_interval, integral_fofell_over_fail_interval = (\n",
    "    Integrate(x, fx, domain=IntervalCC(e, subtract(Exp(two, subtract(t, one)), one))),\n",
    "    Integrate(l, frac(one, Exp(l, two)), domain=IntervalCC(e, subtract(Exp(two, subtract(t, one)), one))))"
   ]
  },
  {
   "cell_type": "code",
   "execution_count": 11,
   "metadata": {},
   "outputs": [
    {
     "data": {
      "text/html": [
       "<a class=\"ProveItLink\" href=\"../../../__pv_it/common/38f47c5670ea8c5b56253448e95d8afb56bc09b40/expr.ipynb\"><img src=\"data:image/png;base64,iVBORw0KGgoAAAANSUhEUgAAAA0AAAAOBAMAAAAGUYvhAAAAMFBMVEX///8AAAAAAAAAAAAAAAAA\n",
       "AAAAAAAAAAAAAAAAAAAAAAAAAAAAAAAAAAAAAAAAAAAv3aB7AAAAD3RSTlMAVJmJZkS7dhDNMqsi\n",
       "791pxlESAAAACXBIWXMAAA7EAAAOxAGVKw4bAAAAX0lEQVQI12NgYGBUMmYJYGBgSGfgyAdSTAoM\n",
       "DJ5Amn8BA0M4kI53YGBYBaT7PwMFgIDl//89YEZ7/l8GCNAHamcBKRFgYOgG0ucbGBjkgLQyEOsZ\n",
       "MDBvANIK0dobgRQAj4AQu33LPq4AAAAASUVORK5CYII=\n",
       "\" style=\"display:inline;vertical-align:middle;\" /></a>"
      ],
      "text/plain": [
       "S"
      ]
     },
     "metadata": {},
     "output_type": "display_data"
    }
   ],
   "source": [
    "integral_fx_over_S.domain"
   ]
  },
  {
   "cell_type": "code",
   "execution_count": 12,
   "metadata": {},
   "outputs": [
    {
     "data": {
      "text/html": [
       "<a class=\"ProveItLink\" href=\"../../../__pv_it/common/eacfeccc0521684fcb20fe8f5180ac50fca471f20/expr.ipynb\"><img src=\"data:image/png;base64,iVBORw0KGgoAAAANSUhEUgAAABgAAAAVBAMAAACuxzMVAAAAMFBMVEX///8AAAAAAAAAAAAAAAAA\n",
       "AAAAAAAAAAAAAAAAAAAAAAAAAAAAAAAAAAAAAAAAAAAv3aB7AAAAD3RSTlMAInZUiRDNmWbv3US7\n",
       "qzJazP2FAAAACXBIWXMAAA7EAAAOxAGVKw4bAAAAt0lEQVQY02NgYBBgAANGEMFkAOFwKwAJEwYo\n",
       "0GBgYE2AcdgCGNgbYByOAgZOBjiYymCG4GQwlADJIN04F6CZvkAuA0MB0yX2BQwMbQyLgToFOL7y\n",
       "As2xZJjNwMDHwA42/z2Iw8DACbKdYSdIGQPDfgHWAAYGK4ZDDAwxG24ysACFeoDmMdg/rWTYDOSU\n",
       "MLxiYAhXYq4AOX01A9cDmAMYF4CcBwUgJx+EcWSAOAbGAYkyKkDYTAIMAEI7Hl9jb5QLAAAAAElF\n",
       "TkSuQmCC\n",
       "\" style=\"display:inline;vertical-align:middle;\" /></a>"
      ],
      "text/plain": [
       "(x)"
      ]
     },
     "metadata": {},
     "output_type": "display_data"
    }
   ],
   "source": [
    "integral_fx_over_S.instance_params"
   ]
  },
  {
   "cell_type": "markdown",
   "metadata": {},
   "source": [
    "### Working here on details of instantiation of the real_closure theorem"
   ]
  },
  {
   "cell_type": "code",
   "execution_count": 13,
   "metadata": {},
   "outputs": [
    {
     "data": {
      "text/html": [
       "<a class=\"ProveItLink\" href=\"../__pv_it/demonstrations/8c0baead30b17624fc3a5bfddb87306ee31f95a20/expr.ipynb\"><img src=\"data:image/png;base64,iVBORw0KGgoAAAANSUhEUgAAAF8AAAAwBAMAAACFwLtJAAAAMFBMVEX///8AAAAAAAAAAAAAAAAA\n",
       "AAAAAAAAAAAAAAAAAAAAAAAAAAAAAAAAAAAAAAAAAAAv3aB7AAAAD3RSTlMAq4l2RGYyEO+7md3N\n",
       "VCITGW5nAAAACXBIWXMAAA7EAAAOxAGVKw4bAAACQ0lEQVRIx2NggABGZQbSgLB/AEnq2b5nOJCk\n",
       "gXECiS7iNyBRg38CiRrWk6ieYQ+J6tl/kaiB9yuJGri+kaiB+wOJGuo34Jfng9IPYAL3BfBrsIXS\n",
       "zjABfVwRzaVUAAoTBSiXGZZCz+NKeYoZF4BkDZx/HEr/L8ChodcTJLMUzo+CJu4fONSzfAdTDXAB\n",
       "DojJrD9xaGAChx7vAbgAD8QTjJ+wq2eV2LgA5HOgn9mNxZN0gSZAgpP7L95sAjKWi8HQYDXQCIhl\n",
       "/P9waHgPzibcwJCKY4gvEAW6DuKdfFwp4z7Ep8BAT2BYAw4eiEr7Azg0aMM1MDA0g4MNYoP8Ahwa\n",
       "JjLAnMTA8o+hHOgkSKLbj6tMApvKwGnAwD6FsYEBGFiskNLlP44igO8LJDYEGHi/VTWwXICEMNAn\n",
       "/3FlRIgX2TYwsC82uBULch3YO7x/cKVVaKrfBhd5DbESR0Rf5LmAkuTgyZDzC3YNO2HJmhOW0/gg\n",
       "fub4jl1D8DpYKTQBVSehHM3A8BhK20ELVgESy4z4ABI1rH9AooYdpBbdH5HYt3UWHiZYv8FKYjbD\n",
       "mQ7MTAx6CgQ0MMPy2ypgGmRmZggnVH0xAqPBeJ3VA3CxBtRgvoCABg4FBuYHkjwXKsHWMfFNJhTK\n",
       "/gUMrAyT2RhcwRq4JhGogXUYBEEU0B8xM2fOvMDMzOSLX8NMtnZQADXwMSSBbWBmcSrAq6HKEBjP\n",
       "L5gOcDFwFoD9wKC+gHDUcZkomzPwTQOyfGwUqtYQG+NFM2cSbqEAAKX3d5aajjHwAAAAAElFTkSu\n",
       "QmCC\n",
       "\" style=\"display:inline;vertical-align:middle;\" /></a>"
      ],
      "text/plain": [
       "Integrate_{x in Real} f(x)"
      ]
     },
     "metadata": {},
     "output_type": "display_data"
    }
   ],
   "source": [
    "integral_fx_over_real"
   ]
  },
  {
   "cell_type": "code",
   "execution_count": 14,
   "metadata": {},
   "outputs": [
    {
     "data": {
      "text/html": [
       "<span style=\"font-size:20px;\"><a class=\"ProveItLink\" href=\"../__pv_it/demonstrations/3c4fd37ed9699e3c409f90cd8425f436fcd7344f0/expr.ipynb\"><img src=\"data:image/png;base64,iVBORw0KGgoAAAANSUhEUgAAAJgAAAAVBAMAAABIwjoUAAAAMFBMVEX///8AAAAAAAAAAAAAAAAA\n",
       "AAAAAAAAAAAAAAAAAAAAAAAAAAAAAAAAAAAAAAAAAAAv3aB7AAAAD3RSTlMAq1RmmUTNIjK7EInv\n",
       "3XZ/CtNrAAAACXBIWXMAAA7EAAAOxAGVKw4bAAACmElEQVQ4y4VUTWgTURCeZjfZbLZZAnpQEQmI\n",
       "XrS0pSLYg6RUrVAPoYKXCi56EERkPQqltiAI/mBQtG7EkEIRgyBRQaGiFEEPSiEIggdXU1sFcyji\n",
       "wb+DODP7XnazZu07fO/ly+w3P2/eAPx32f5RC+3hpcEKy8z6549ij9dbbZTjzvd3Vzw+Q8TGCLEt\n",
       "jMOzCLGqJBdDRrqWia8qMr+bfh9tr5WyCI01zxBvNdlEOSxWhcIk85OUbqG9mNpD2LkJ3cKgn1fu\n",
       "X7GhBPPkx8i2F+tkPMSRzPn0S2/74rpWU0xnXkHviYiSbWZ8QhCzfPoI44FGILJ10x4/77qvIsSG\n",
       "CXrnV1PGVP+7C7cfYxL3uBOOBdJMXqaqI78XoBgh5oXwh6tO5cuZG9QawHYmbF/sxYf3VArkT4KW\n",
       "CQh0PRw4Ic+vOYSfhGmMSLGV3x0oupXFAhfwoJ+LgLxeNvKCTi44edOAR7KlnnO1vvJdoE0SVP7o\n",
       "EsEFF1dBpFnsE3ys3nSyawKb3oT+elDMqEkxRP7nIEEl2Bpn9LLgrZ0Iy0NLtkl1QbFGLpimnpFp\n",
       "YpfYKfyqi4mgmHqWYiT+Pt6Laa9NZNmZaWilHmFW8qPRESv59WDgeQfb1QNiqcKi4MfQtQKlJOxn\n",
       "I/VG8z1wD5zmBA006j63D0Zkx8BhXywHfXre4zsmiPqBV+s4TtY0jRFpdpGg27sbrNzMcmyQsn3D\n",
       "zPTVspwav2z92jfJk/GcBuc5MjM+Kl9ymtwMeOe3/uCqefvoTddqGWiChzHDUoGvBFtjNuc/6VhG\n",
       "pLMt9PyjxgIdPj1tgHadntzn6swe+f8UpIvCu97s+FMR7yXE33GcfAtRAWVJiKQKvof2a2qFsa0F\n",
       "RvS4HOV2xIi34S9sgJ0AXt5rDAAAAABJRU5ErkJggg==\n",
       "\" style=\"display:inline;vertical-align:middle;\" /></a> <a class=\"ProveItLink\" href=\"../__pv_it/demonstrations/c904cd2afe6f1fed70f73cc8c56aa931e710a57d0/proof.ipynb\" style=\"text-decoration: none\">&nbsp;&#x22A2;&nbsp;&nbsp;</a><a class=\"ProveItLink\" href=\"../__pv_it/demonstrations/5a4ea49ea216fa7a7939012063d4062d279108a80/expr.ipynb\"><img src=\"data:image/png;base64,iVBORw0KGgoAAAANSUhEUgAAAJsAAAAzBAMAAAByAGc8AAAAMFBMVEX///8AAAAAAAAAAAAAAAAA\n",
       "AAAAAAAAAAAAAAAAAAAAAAAAAAAAAAAAAAAAAAAAAAAv3aB7AAAAD3RSTlMAEN2ZRGariXYy77vN\n",
       "VCL6f69SAAAACXBIWXMAAA7EAAAOxAGVKw4bAAADDElEQVRIx62XX2jTQBzHL02TtEtrE4bQsYGl\n",
       "KCIKLch0U9AKoiCIBdGXCRZ98E9FOxF9qGBkTvqi1jeZD61D8GGIqfStuJWJKMi0iE8iNCC4YQXd\n",
       "dENBrJekyR2S67rl+nBJeu0nvz/f+/3ugCzLYIUfRpYl0lys+WOlOLHZVElz68EqPlwnuFMKTRx/\n",
       "Y5EmrtDzkCYuTTd2v6jivL+p4tjvVHGeKlXcujhVXD1JFbc7TxUXo7pmmYX2hDX4dXlccKk97pYl\n",
       "T8UJd2xianoiieEE4qLYPqy/LWM9jjpap34G+4YkhAv8JNCEM4/h2Gc/ByRH3CwQ/SmEC80TcF3v\n",
       "S3DsR2mIE3CsVkW4QpGAO2T0BWz2AYbzPY1uQTgV4Y6TknXRSBS2Al8gnPeVhKzjZczZCxln2tHx\n",
       "k3p90GfDN3uu1AC4jHBfJczZ+x81hIvVCNYZGQ/oIoj7TrMRKAqEe4Ni92V64TomlKZGkK9RBj3w\n",
       "ZZzGzfMQ+wHhqlgqjvRhMvY3CcYFjTLYlYA/Aazx94KN849Ho9HNLZy4FpOx7w9JdhELB0ejcx6w\n",
       "cYyKWeePlxCOJ+0FxJTlLNSMxsDYv0PORnDdDTYQzkPqsaZFIhx7E2eBAO+HEC6H43p9SRsXIjWe\n",
       "b4abArSxfncHOKivYYQL2HJQPwEuWbZxBVLjqZtBh25154L9NdMfC8ek99gVZRJU3tYsXJ3UeLaZ\n",
       "l01IORFskXmzrUX2X7275rwogqkZ8+aw/RWb7KB8TiUcZz2lltWirfJGJ9X4ifN+khtpYZDEJjvA\n",
       "LdcpAJizSpLWAc67RHX3yS1SxbF/qeI8Raq4UArT2sbn5xR3uIK137mXLgMlI8y6w91pyYsdhIOi\n",
       "cGF3uBNQUCNzu4wWD3G+bne4RwDc5tUZU/tKpjHqCueFW4CkqOS9RgiVnVk3mRWqvJ7YkAa415XK\n",
       "M+jspZoLnKiO6QVgDGj+jBm7vcMucMzAeVgVi1dBHJTM2AmrTsUG63g8sD8ngUZe33i8ZLZW2x6P\n",
       "w2pnx2MmWym7OR7/AxBp6g33R2zoAAAAAElFTkSuQmCC\n",
       "\" style=\"display:inline;vertical-align:middle;\" /></a></span>"
      ],
      "text/plain": [
       "{forall_{x in Real} (f(x) in Real)} |- [Integrate_{x in Real} f(x)] in Real"
      ]
     },
     "metadata": {},
     "output_type": "display_data"
    }
   ],
   "source": [
    "from proveit.logic import Equals\n",
    "from proveit.numbers import infinity, Neg, IntervalOO\n",
    "integral_fx_over_real.deduce_in_number_set(\n",
    "    Real,\n",
    "    assumptions=defaults.assumptions+(Equals(IntervalOO(Neg(infinity), infinity), Real), InSet(fx, Real), Forall(x, InSet(fx, Real), domain=Real),))"
   ]
  },
  {
   "cell_type": "code",
   "execution_count": 15,
   "metadata": {},
   "outputs": [
    {
     "data": {
      "text/html": [
       "<span style=\"font-size:20px;\"><a class=\"ProveItLink\" href=\"../__pv_it/demonstrations/b2498521aa6ad1d5c360edd5718f388a62e9ed9c0/expr.ipynb\"><img src=\"data:image/png;base64,iVBORw0KGgoAAAANSUhEUgAAAJkAAAAVBAMAAACnAFEqAAAAMFBMVEX///8AAAAAAAAAAAAAAAAA\n",
       "AAAAAAAAAAAAAAAAAAAAAAAAAAAAAAAAAAAAAAAAAAAv3aB7AAAAD3RSTlMAq1RmmUTNIjK7EInv\n",
       "3XZ/CtNrAAAACXBIWXMAAA7EAAAOxAGVKw4bAAACbklEQVQ4y4VUS2gTURS9M5lPZlLbAVcVFyOK\n",
       "W4MWxU0s+GlB1IgrFWR2glCdgghi1QhupIIjUnQK6qBSaN1oNyKiBHdFlLoRuwhMRRG6CNlIRRB9\n",
       "777PTMY8excvJ+fdnNzfuwD/NbsHDhW+IaxlX3rgUwWfnQsPxxaqjPcosVkhpj+jp/EqkZhYf7Xg\n",
       "FY3D0d0J8vvp99MKtRk8n9/0JaZ2pqh2CZyyh/w1WpFIobYXz7fHE4mpDf2rZoQB8hbxrPgKtSY9\n",
       "zF8ZRutLWMb3W58ytQj5EsnWUpUtoGdlMcNoFhbOPJtksWlzHuPft1rvFGoGLXxp48dhjt32hsl5\n",
       "Io+du5DkMr2xNWT8KMC0Qo0FMZAKbMByeojoB92diybGfq8A48fB9ro0TrZrDYbWYT2vNgTeBXuS\n",
       "9SRpLGGQ68IObDjlnaRS53R5Oa6DnsItUW682CZxAw6gW4cepEKtJa7mPK5yXk9lE/bRKPoAtC61\n",
       "1zn8AetPY3OjXGzl4WnBBzVytEe+hmzIB6ryRbJMb2fYXIU58v/Y5MX8vI1eBM7PkxnuDwctf5aN\n",
       "0Z87ws1JZTwUu1NaE0hrSxhWO682SyNBfoI0oQQPynCMXT46IrqCo2D/EFj/+aRp+nxwwJIjH50n\n",
       "UzvFeQ17tkqWQRzHPiRgdkRXaOh6R2D3cLplO00aS+gOnpA75C7E53zOo3PThkkssZ97tp/p2HoZ\n",
       "ZnaZfZgv+csq8CTbSmCQWWE/1sLc+94kMhoq7ALVjqAa396sgH2PousHX8h7J4SlmQzzHazYOEX+\n",
       "aRzXuwgyVLWRDBdkC+asucqv9MDfFb6E/wtTp6IkK0a2CgAAAABJRU5ErkJggg==\n",
       "\" style=\"display:inline;vertical-align:middle;\" /></a> <a class=\"ProveItLink\" href=\"../__pv_it/demonstrations/18ae6eba0686d521638530a8e99d8b5079662b550/proof.ipynb\" style=\"text-decoration: none\">&nbsp;&#x22A2;&nbsp;&nbsp;</a><a class=\"ProveItLink\" href=\"../__pv_it/demonstrations/2c8f8b23a19a0b2af3030bb45f66a3e83388c96f0/expr.ipynb\"><img src=\"data:image/png;base64,iVBORw0KGgoAAAANSUhEUgAAAJwAAAAzBAMAAACQ3HxFAAAAMFBMVEX///8AAAAAAAAAAAAAAAAA\n",
       "AAAAAAAAAAAAAAAAAAAAAAAAAAAAAAAAAAAAAAAAAAAv3aB7AAAAD3RSTlMAEN2ZRGariXYy77vN\n",
       "VCL6f69SAAAACXBIWXMAAA7EAAAOxAGVKw4bAAADB0lEQVRIx63XTWjTUBwA8H+a9Gtp0xZhKiqW\n",
       "ouLHoUMZ7iBdLzJBDxUZ7KCuGwzBgRbBj4ua4RwFUQsDBz3YHAR3UMxkEyWK2VVQAoLXBk/ixfqx\n",
       "4XCuviRNXoQ+mrbvQZsmL/31vb73/v8XSCQS0G5hEok4oSpd/9k2x9frMqFqF3RS/B64cyJNLjC9\n",
       "QpOrbH1Ek5uk+9/9pspxa1Q5tkaV86lUuZ19VLlqjio3WKLKpamuWeZHC0FoHHVPXHS1BXe3cTzW\n",
       "jPO/U9b3L7m4IHFRsFeNWBktNE5DuWat44U8N7GAucgvEnelrKH37c75cnOuAPIDzMW+k7inx43W\n",
       "9Tvnp0hcJoK5ikTQOOt3cHVP3MXdSaVUh+MxN0oaq2DSHCm8BCM5zJ2YcrVurBdzFwuEGXZ+j7H6\n",
       "WFTNFMfmriM/73DCsquz4TcfMJfWCK2LiXaTWJgRDyJKdbiIjrkn6b1xzNV1AvfNXHw+9GtnYTQ+\n",
       "gfotYc41FJdPqnjeheukga1a/38WoARHzFtrDldOoSI3OrswjLnQOom75HAA8+ZQ49Ztc0+UWR53\n",
       "NkDcC7wAu7PAbQDagUSTDudzc+xD2eF8xBw7b90uArMYkKBgUQ0uJLo4Rr7tcDFS4hGsxYdmR3Rt\n",
       "k8Rp1pyx5917zPXBMJ+1uQop8UStinASmAHx4xmjI1nM9S7G7YjyR+df/7W5KinxsHnruM+58tm9\n",
       "Zoeep9Qm8e4mYVF8imh44Vul30P4fJttXn3ADky8Pc0F2QP3jLCdHMnYwV92uy24lpkC4EvjeM9D\n",
       "ruBWoa3SgvOvUOXYDaqcT6LKxfL/XRwqjpS64Sr2fic8o2QhKkKlq9bdtyfpIaNVPShgdcWNo1cx\n",
       "c0s3UzzEcs6OpDPuMYpd+mREs8JrqL7U1VAYqdkPL8Nw1Lq4YzDfORdUA+a30dw7rSiKBnHgap1z\n",
       "vFw2AkBYEmDObKtmhY0OOWbgAvrwNaiyYCQjI2IG9A653fbjMTt9bQqEV8an2cM3Wjweb5G9PR5v\n",
       "VpRsF4/H/wDKn9T2cOlN/QAAAABJRU5ErkJggg==\n",
       "\" style=\"display:inline;vertical-align:middle;\" /></a></span>"
      ],
      "text/plain": [
       "{forall_{x in S} (f(x) in Real)} |- [Integrate_{x in S} f(x)] in Real"
      ]
     },
     "metadata": {},
     "output_type": "display_data"
    }
   ],
   "source": [
    "integral_fx_over_S.deduce_in_number_set(\n",
    "    Real,\n",
    "    assumptions=defaults.assumptions+(Forall(x, InSet(fx, Real), conditions=[InSet(x, S)]),))"
   ]
  },
  {
   "cell_type": "code",
   "execution_count": 16,
   "metadata": {},
   "outputs": [
    {
     "data": {
      "text/html": [
       "<span style=\"font-size:20px;\"> <a class=\"ProveItLink\" href=\"proofs/integration_real_closure/thm_proof.ipynb\" style=\"text-decoration: none\">&nbsp;&#x22A2;&nbsp;&nbsp;</a><a class=\"ProveItLink\" href=\"../__pv_it/theorems/736d1d46700bb1ae131485985fc70657378b28e60/expr.ipynb\"><img src=\"data:image/png;base64,iVBORw0KGgoAAAANSUhEUgAAA5UAAAA2BAMAAACl5qA9AAAAMFBMVEX///8AAAAAAAAAAAAAAAAA\n",
       "AAAAAAAAAAAAAAAAAAAAAAAAAAAAAAAAAAAAAAAAAAAv3aB7AAAAD3RSTlMAq1RmmUTNIjK7EInv\n",
       "3XZ/CtNrAAAACXBIWXMAAA7EAAAOxAGVKw4bAAAMMklEQVR42u2cDYwUVx3A//t1Mzv7cdtgIiDC\n",
       "NbYNKS23lg+VNNw2gBCp5aRJo0K8FU0aqZFtYjAowtoQrfYKKwTpkdIMLSHCJdxRBNMS4IppayWt\n",
       "14qkJWy7CFqp4Ti+4VDW9zVv3nzd3DFzl70p/8Ds/7178/b95/c+/u9jFsBVlJ07VfiUSK3ZOuDy\n",
       "DDBhqlrN9Z/iuUBwjBcHYuswl6laLdn/ZQdFp2x2S2hk2eySIJQNBMtRA7F12CXigEg+Tj+fVV0S\n",
       "Do7l5wKBMtRptDV0sKZZwv30I9ztJ8tIPhAsp5tsHd+SrWmWiQz93O0ny5WFIKCU3jTaKve1Ntc0\n",
       "S/gbw5P1keWHgWiWqYrR1lCpNsrljOg+OlKG/+Ify0hXIFg+aLK1vlLrLOuYx/19/1gmOwPB8ojJ\n",
       "1pZirbOMXWUlLfjG8lwgFhLSfSZbF0Cts4TvsvaZ8Y3lu8EYLjMmW4/VPstGNmD2+cVSvhYIluuK\n",
       "RluVS7XPsoMO6cpNv1iGguH6jDPZGr5Y+yzjbJlgi18sk5lAsHzNZGv0Wu2zjDDnp6ngE8t1gViM\n",
       "lS+abE311j5LhRW6I+sTy3OBWPVJXzXZ2tFd+yy1zoR2jT6wfJ5cz77vQ7ElB91bTuZ426LGu0y2\n",
       "NvoydBS8390foi3iuOkDy7fIda8flv/DQR+8xCqmyv3DtisnNrB4u7ImSyZbD1X8aO0Nnm7/jh0i\n",
       "zRRSSPqR6GUJSf37ggvLEHHt7EZG5rvvHUA+bhImC0jR/SrXb11OmdudlImN2kzj7Vh25Ewsl3lb\n",
       "WJ//Kr5O8lgVsnbNTTMFOz20kJHLjOUc/Pm4C8sovqnOrseQbzKW7vm4yXZy3d3awPVblzrV/AA6\n",
       "ofQLGm/Hcl3FxLKqevn6xOjDuJ7nPVqx1J4lNUUvNWWAEuJYqeTCUsatboVtY7rAWLrn4yazyPXw\n",
       "t1Sue/AYctYHMLeOxtuxbGwwspT/6+nrk3fjhhP16uJPdWKJTdF7E9o3ooS4piYa3MZLXENetn1o\n",
       "1xhL93zchLgfsT5d9yJsIyi9pXyMP4A4jRdYbtaUpqKRZeS6p29vIa066dWIpCqwPFMu5w2mANQz\n",
       "B+08YxlBlafO1feZgj7z/TjzeweQj9twSfJPdOu6F/ke9YF+pOqVeexWGi+w/LV5ZqWxDN3w9O0H\n",
       "yPUer0bUZXWWj30CJlMQS/a365qT9Ha5fMSVZbJcPmHrjiT6ND/WNR8XieL8I+PezTFd6Rn7jNAV\n",
       "mIJ2bpiYgp6cWK7qD0Be/ziNF1hGNJsOqUaWqQteTPni258hDhD6v+vk7/cLvZUpaCNiCnwMhLGU\n",
       "loLZFESFVfk3NJbzhK5GkE4Dy2gR4rbeQJSzdMhnUJVQ2wLGehROVr4ufJExaFcUMQU5vaP7YnHp\n",
       "jY8+VGk8YRktE9FW0BeYWNZf9dSgbvK+IZceHxWWHUxBGxFTRPKcpe54clNQaVnCssbySZDs5sU5\n",
       "A0uU5EmsbyNOyaKemWx8gVCvxtIhHxfRs0qR2ri6qOlfgiZ1FCjTWUIabN891jErmoLJfeSa1x/A\n",
       "nhl5Fi/6PuEl9HOCaS69ztMSnkSdiPfQAy5E+kJZeIkVhAaV/Xc4esnsBla6Lp0lWExBpWVuxQmN\n",
       "ZVxNiHMp6eheeDBjZomaHHkEG76Jv6IC68DC0pSPq8gn25rFrJLk7kauF+GrSFt7lv2ZBnPg3DZp\n",
       "Cm2SQb4C9fvlD1jHtHkKizf4sdtft2V5ztOAHaYPBWUtQxTlJPewBkSDUXBumzSFFujlLFtxL1Iy\n",
       "mGLDMlzRma8dsxHuTKhR1cJyMq3jfcw/C1n7WDGfgcjsojEryvKAoL+DL/fzG3DwMmu49vKOri4m\n",
       "I2hJGGTWkEFisZGl9ETBto+dkPM0vezWWCJT8KDBD7GSYH2z1M8uTFJfcYrp7XIHWEyx6WMhP5OD\n",
       "mYfXbiq5BPxh9tHZzSLLugj+ijuP4I6wPqsveCau8jU8kk/P3NNazy6ouvDINB0e9axoH/tbXY9d\n",
       "hZ0CSxKc0R9LkmLql3tyvAp0Cw8g+qsSjRfHy2OshIdMfuxHnqaG8YzWx+LTOIoqsMTBiNofS5Ji\n",
       "1trTrAowlimwmGLj+8DLyEWiN5OVr4l3r0pYxktI3KPyiWu6ukGfk1zjLHE+6cKYOuaFCaowheGR\n",
       "tKIJWcUretNCurIx1IUdMAwFfbUWxA1XsbqwoKVQpv0J8EnXr9CaIzwApXSKxgvtMqY13HOm+WW1\n",
       "6GleSJvWC8jK5nGQoFBwGVkQN1yrEdhMluKlxdlkgT5uxjJdsZii7x2/xlmuRDHkZtolTUy8uMjK\n",
       "UiLpozT2xQUZy1oBzScCL8ggEX+WqAtPG8dQEknkUTBlRc5hS5c1PXxtW1esgbBUrgAP4tcoOvI0\n",
       "zqjQFNKuPBkI5lOPoYE/gBxMiTeTeIHlcoe1ArnqyY1d3azNixp/8zAspCxxGVkQvwSCgzaW0BQ/\n",
       "/RfUq3Rqps0vl4DZFNSrMUiXOMsQsoPcHCMdy0TInbGyhNEknyytPzHu5oUvc5Yh8jxQn/sUe20F\n",
       "qV2K2SHUnP3pbW1tDWJWcrfuNSBdeaRy1wOssyyrPLgCmZjC+R/FJctpCophKUIVPMrA32l7HfNt\n",
       "bXPheiH+uwskXmDJX1BrbDawDF/xxJI6cPAs8vt7wrMaKEtcRhbElZ0YoRuQo2ZqKcaTAR+XRmO5\n",
       "daNqMgXVADpxVG4YN1TwzZEftLWtRyzb6yzzS63zwLhQ89AXXtmGPH8+chca/45ztSCbVuNw5NRH\n",
       "JwE8A+as8L5iNKPrVDDLMHfhpZyE+p57LU/vXqGI0VwRJDZAxV4pGw7U4XiBJR/PtdMRzNaEt2Wf\n",
       "h1hmvKMm46Vexh/DT+yM0M2EP8Ns1H/9XES0aEs5b78jwNfWhZvlTtouY5Mt6z5MOlRox887pDs1\n",
       "lwwsVybyUcKynamoM2gHpVO7kMjJpRTQpQdDVlORb6V1ilMNLBM8tOLpNapYz6wrG6sh9VTRcVkb\n",
       "x9utrWu9FbM1ftnLjCSzxLzAT1jyMkrPPf01OyN0M6VeeH8i3WHob4uZ7QjQ/Q2ekN5MxrlpACed\n",
       "WLaifw3RNfP/qP/1mIFl9J8HPyEsUTKizsOq/Ca0FvCFRoaKy7FBOLmYVbwAH2zXdSo/W3YQYBdP\n",
       "89cqGsmUisX30WO+Aek9Dns6bK/HjmUqb7A12eeBZWqz1n42aU93342KUMZktdprY4RgZiwD/8nS\n",
       "Lqs/lmwVma6J84T05hWoU5CRmx5yYombi8k3HWfsY4kc58kSakW8o4H516fQMNbe1mb0i5DrNXOu\n",
       "rgtiMjttXeE3R2xysH6TA0vtZCiz1dNpnwifiu3op4xWI8xm0grdH8sJ4nqNKaHySttG+7V1KuuR\n",
       "AxQzLT81kfAB8RDNWjQLZcmWVbuFO5i2FSbZdoGrHPTBS7rgHH/2dbvn32ewtcWfg6JSxdPtH4ML\n",
       "y7dYOy+5JbRhebCCZxWm8dd+2T9ip0agVkW+YLC1qXYOivaDSLrJXITKLbC0nRcH8azzgsJIYOn7\n",
       "WedoVyBYPmyw9QSMBJYhNqp/HnxiGbscCJYtzaKt50cES+11X9/eDSLLFiNfUjnBVvkWXgyKHTz1\n",
       "72Fm2aSKfpsfLJvUILCMiO/Spgd3qgDvFMJksts4rCzZm68p/96lDeA77qFBTS/JTiE+OZgZXpZD\n",
       "8I57pC8QLGn3Qm3F1VPYfU2fXjXXOlXlkXT/6aLXt0cGzZLtkrItX39+E+aJQLCs69RtbVENu68f\n",
       "h0pLrBN5LZItUZ27PjRzUmdE9BCudqLYH5atgXhrT+a/1bQP7jBsxEI2XinGJs8xpseR9FlShspd\n",
       "54eZ5XsMT4OPLNOlQDTMM5qtbTI59C5sxNYXIAkd5hkBq8J0p1BB7WR4WQ7Jb6gF7bcNt53ElISN\n",
       "WGiFgoT3iIzdERQicx7oBLpTuNB5b2aIWD7GPKD8oFjOcPmZWeuxnhEpS0Rb+Uas0il17cOnLDYK\n",
       "27AsMnwGnw4jHfFDAJ8dgjIpO3c5/eYoO8j+S9UloZHlp/G3gPlGrHwYHlnUo0K0iFW6DVvQIkdL\n",
       "qFXgnUKYN3v/ULgNzj/xu50xXOqW8LZQwX1smKqvprmqR3anp6kOO4W3pbYEb8QCPf1VV/2fpmKh\n",
       "mpIJ77n9lEaQZO3UmvwhnP8DyO/hLernwWEAAAAASUVORK5CYII=\n",
       "\" style=\"display:inline;vertical-align:middle;\" /></a></span>"
      ],
      "text/plain": [
       "|- forall_{n in NaturalPos} [forall_{f, S} ([forall_{x_{1}, x_{2}, ..., x_{n} in S} (f(x_{1}, x_{2}, ..., x_{n}) in Real)] => ([Integrate_{x_{1}, x_{2}, ..., x_{n} in S} f(x_{1}, x_{2}, ..., x_{n})] in Real))]"
      ]
     },
     "metadata": {},
     "output_type": "display_data"
    }
   ],
   "source": [
    "from proveit.numbers.integration import integration_real_closure\n",
    "integration_real_closure"
   ]
  },
  {
   "cell_type": "code",
   "execution_count": 17,
   "metadata": {},
   "outputs": [
    {
     "data": {
      "text/html": [
       "<span style=\"font-size:20px;\"> <a class=\"ProveItLink\" href=\"../__pv_it/demonstrations/31a9b1d8dec0da777cab0ec083f25baa30b7c1d10/proof.ipynb\" style=\"text-decoration: none\">&nbsp;&#x22A2;&nbsp;&nbsp;</a><a class=\"ProveItLink\" href=\"../__pv_it/demonstrations/baba015568a8a081019077278cb3a933aa613fa40/expr.ipynb\"><img src=\"data:image/png;base64,iVBORw0KGgoAAAANSUhEUgAAAasAAAA/BAMAAACsv/q/AAAAMFBMVEX///8AAAAAAAAAAAAAAAAA\n",
       "AAAAAAAAAAAAAAAAAAAAAAAAAAAAAAAAAAAAAAAAAAAv3aB7AAAAD3RSTlMAq90izVRmmUQyuxCJ\n",
       "73a5psreAAAACXBIWXMAAA7EAAAOxAGVKw4bAAAH4UlEQVRo3sVaa2xURRQ+3WfvbndbjPEHCKwr\n",
       "RsGYXgyJEa1dUTGRKKsh+kekiTwSMLCCKZIorIliAkJXY2KiNF0hIVgjrIZILMSWZ6Ih0KgQBCNb\n",
       "jSIPy9LyaCkUZ+7cx5y7e7d7ByaeHz2z8909Z755nDn3bAH+D1lp0+4kPEMMky3RBNZu5YwgJlla\n",
       "VKzdSqhLDJMr4aNYM/k4W7mBI2KYXAkmsGZS5WKaZ+fEMKnSlsGaSSRTuQVPSgyTKo/btE6yd0zF\n",
       "Fvz9YphMMfza/P+RO1W5jWcEMYniyWKtHaxDsBnmVm5jTkYMk3m0klhTGdfS9Cu8XrmNSEoMkyjj\n",
       "bZqIMtSaLoCL0BwsiGESb60rWGt7kOzH+wOVX1xQfVkMkyeBQayp1OYBPul1Y+UXQUyahApYa1mU\n",
       "61O+ShXDpEltFmttIK6tzGkSw+TluV1YU5ng2kpjnRgmTValsbZFj0ojfLcYJk1m5rCm+Yb72BUa\n",
       "Ko/dFpd0wKLxe0r299k0vWkG3Vu/VB5LyFuX+aU6vVex1tIo9xeo/0p5rHJaanHbW/bZ+eXGw4+r\n",
       "M1aKfwm3XF5y1XmgFKuYVjRZ3K7O2x6ae3zbtOMkvq53pBUdxlqLyKVC11+6Xl86V+lz8KxjCdBs\n",
       "vjgirZfZMTiYM9tE/rY/lZ0M7yzMQbTJiVbwEtZUDqPZYS78RvyPmreQ8iyXxN5w8KxjCXiTtp4Y\n",
       "MZVjy7q7NWm2ifjsb9jZRyGkkIma4UQrNIi1FhTT/BOaC9hufrZKZLXchql38sywBHxIN/KIaWaQ\n",
       "TdqRNTmzTRO7VLHxoEpYL3Ci5evHWptdNETNBTSbnxdYNzn33EzVwTPDEtqM1yRHvP/YYRqy2pqc\n",
       "0HfKxvgEyziZo0gO0QqZA4oMYU0313WUgDPAulIj5nf3cI9tM1b4TDye4D0zLAEBMve+EY/WLO1v\n",
       "TcxqazKdDeW5nDVnVTvJVvA1IVqKuRtqC1jTJUdRjbnwW6HMZ+6Np/m3Nn0h3j1r88ww8vWf4vHf\n",
       "RqT1ljaAsXel9Pb3Pd8dJJZ3a+CUHLcVPp1F9kdNHd6Er5WhVXWNf29hLoIkYoR7x2zYz0zRc3Ln\n",
       "6UtGl0XLO8Pu2aS1AuDLEWlNN1+MWDsVHRck88rqD1bAyTZM66PzF0gYtJbGqdSnnGl5UMbAXNAl\n",
       "CkJPfikzRWSdSpIivYumlGwNfardM8PIdyaDF10cx7nTuNBAWCbUmNHbATUwVEUsz9a6E9zBna/F\n",
       "MH+3LWTM0jdNZwFrSgSVoJgLD3n8VViSu4OZ0krAwYTRxdEq8mzSCuVqUIQ1OdL6sfHhGLs4jbai\n",
       "12TbtJNDtnF8km489C11qBRstMLPMh+deizotGJCG8qdmIsIeToDb4BuSqtQeLqMLuuua6VbIct7\n",
       "ZhgZnD9vclZ62tMWLVo/xrT2WO2IZnedNuQsN2dKiu7oavtqTdkLTrTOo0xnj0kL4HfQTZGOLHSm\n",
       "jS6LVkeRZ5MWJBYb2PIMv1q0fow34edWu0UNk0DxgtYR42+PFVPpJozhsxU3jl8JWuPR5cdc0E0I\n",
       "1f2wk5kiz+dhidll0fIUebZo7afhpHfZKZUlKnUQPnCOni9aPzZobQVz+mi7Iz0WaujZ0zp6eeMd\n",
       "1AotI/GrtaZMJKxHL+nMRSgP4S1V3dDFTBFaSbjd/4jeZZ2taN7u2Txb0EDGHlVH+5Id+tn6Rm2j\n",
       "tGj92KClRXLvgNGe89nb8J4R98Fn3ubZh8g9uIUFaI6WN1GG1g2+QKO7IFHdP7ijuzrJTFGe/nuD\n",
       "RpdFC56ye7ZoVRG7AdiqwGqd1nJopQ1aPzZofaTFt4LR3tHrb6b272PxYPRaM4/eBO0zk+BJ4ywj\n",
       "40xLQVmr7kKJQXhl/qV5dJ9pxyw87ofJp40u7jr+eksOezbvLV1ImJ3b3t6eJEyOQQ/tofVjg5aH\n",
       "DixYZ7XZ3OqnqvrHOC6zPIhzQuvFLFLAmhC5iHJP3eFEZKpEbdjYIB9sjCeKMbNL6fbCBrZa4X7Y\n",
       "TA8mrR/XcUnt8/pmsxLcoFPtqtkp1fUMYU32G59kGC64BLe5pINtZUqLBDNoNdQkgnpGWgc/KwOL\n",
       "wl1a/dgMi5sAJm232kymOhjW3ggqfDEJDXCw6SKk8qaKpb5MCaZeNWkF/zl0FrxfMFrvzzvXpBzR\n",
       "6scmLRJOFi+z2jZ+9sGrjq+RA1ijXJ5zYd6FodLjP1km0Ttpf+nf1W5dx36ccni5V1ijHXWasj+d\n",
       "X/ovY+1QyQB4jDdVLNfL0LpespahM1mLad2iylPgGtbkXhdx4e0rj00rrhPqbppujlY0frRUd/UF\n",
       "rAGWiJTMra9XjLXzGXz+FhcPwxexFvyBIzAshkmTepuGB0SslCsECxSJb8FPC6ptkS6IWPEVxDBp\n",
       "YhwlQytCv4nWxsQwadKYwjoq9O8hbV1imDSJxLCuInrX4r0urZzPiGHSpGYI60gXhO9W3C7ZV4KY\n",
       "NPEOY92Sg2BKcfkDYviCGCZRnuT1PhhFCxdRl7d+YFAMkxkKVU63KydIVqiGFrn7L0BfTAyTKJ1d\n",
       "nN7RQ8hF1LbV7mg1NolhEiXYjTVJ4ppfOeDOxmFBTKKEh7G+CRNuManyr00LLHhMDJMqnjzWAplK\n",
       "WgyTKtX9WLuXUYKYXNln065ftk6IYZIllMfarTRkxDDZsXAi1m5luiAmWx62aZezkh4R+w//uWrS\n",
       "+06fjgAAAABJRU5ErkJggg==\n",
       "\" style=\"display:inline;vertical-align:middle;\" /></a></span>"
      ],
      "text/plain": [
       "|- [forall_{x in [a,b]} (f(x) in Real)] => ((Integrate_{a}^{b} f(x)\\,dx) in Real)"
      ]
     },
     "metadata": {},
     "output_type": "display_data"
    }
   ],
   "source": [
    "# experimenting with the instantiation --\n",
    "from proveit import n, f, S, x\n",
    "self = integral_fx_over_interval\n",
    "_x_sub = self.instance_params\n",
    "_f_sub = Lambda(_x_sub, self.instance_expr)\n",
    "_S_sub = self.domain\n",
    "_n_sub = _x_sub.num_elements()\n",
    "integration_real_closure.instantiate(\n",
    "        {n: _n_sub, f: _f_sub, S: _S_sub, x: _x_sub})"
   ]
  },
  {
   "cell_type": "code",
   "execution_count": 18,
   "metadata": {},
   "outputs": [
    {
     "data": {
      "text/html": [
       "<span style=\"font-size:20px;\"> <a class=\"ProveItLink\" href=\"../__pv_it/demonstrations/981cb90b77d42a006971018f7e25524bf0f442960/proof.ipynb\" style=\"text-decoration: none\">&nbsp;&#x22A2;&nbsp;&nbsp;</a><a class=\"ProveItLink\" href=\"../__pv_it/demonstrations/fc8b651cbf6141317dcfc64f730554f6dabc988d0/expr.ipynb\"><img src=\"data:image/png;base64,iVBORw0KGgoAAAANSUhEUgAAAeAAAAA/BAMAAADK5QboAAAAMFBMVEX///8AAAAAAAAAAAAAAAAA\n",
       "AAAAAAAAAAAAAAAAAAAAAAAAAAAAAAAAAAAAAAAAAAAv3aB7AAAAD3RSTlMAEN2ZRGarVM0iMruJ\n",
       "73YrAqk0AAAACXBIWXMAAA7EAAAOxAGVKw4bAAAIjElEQVRo3s2af2wTVRzAX3/3el3boZJF0ZUh\n",
       "SiSyCRqRICv/+Y9ZiSFqFljRQDQDmRgT/zErmkCI4pqQEAyYNZKYiNEVoiLMuGYJYsTIBPyBAquE\n",
       "JQYC62BlrEzqe3ev7b3ru+9d75rGb8K+R77X976fu/fe9/ve9xD6f4gjw+qSCG30Ym/IQDNNIXO2\n",
       "+ss/Kl0SF30Cvi1G/A2kzNnqLs5pVpfl4pP0wm7oBX1r0lZvuT/KalnmfL8O2VEFsO0FoKEec7Z6\n",
       "y1KVlqUNLUZNCO1asmRJRAH8xUXthjy/6NkaGxvrRaXdlS/PaiqTqD/5hqtySG8BOpmnZ2st3LAK\n",
       "IiZh+33U1aHCbY07vDFWU1mFgXe9SJ/F1eOGgHsTOrYHrb+59Tp239ziVaeOlxXeDnNvh4C9KR2b\n",
       "dWB3WlIfa6+iW/SAF6o0kY0Z5aPit8exe/LAJM7XBFhaM20v92kD+2MwsG+K1dJjvJSrSDZ8g1iO\n",
       "lIFnL52obOw04OrpWgALZ2U9DsTJ+TCwO8tqIgP3nsFZlpAA33CAA9wO+NpeC2B7Rh/47RAI3NzG\n",
       "aiLdJJs8sD9UNXBHVNsPYrMMvAbpA3vbQOCuJKuJ3MH/RgsF3u37+n4GgBvi2n4Qm2XgcwaAixmj\n",
       "BvCQSpNf5I30zQN2TANblGnrwKU+IWC0DQS+rdLEtaxZYE8OWKZz1oHtMSPAvSEA2DnDaqnZuFlg\n",
       "4SawwN60DjyQNALcnAGAHZOsVq9f1QGj88APzlsH3oSMAIthANg7wWppSERNAw8BjmCbVeDfDAG7\n",
       "pgHgYJjVUsRMmgYeB3aB2GYR2JczBGzLAcD9KVZLexpkGrgXmA3YZhE4UAoCJxP6A6FTywu1p7br\n",
       "hnr380LQALB9wDaLwOIIvdgwuk097Vw7B289+pV8fQgAHs+wmsSPm4a2LZtucXZqzWFtN7ANA0uB\n",
       "5U1zwA3QyZgoxJzrD8rvHwBu72E1eXV3qp5bO9v8rdLED2a13cA2DPw4udxhDhgMH6KQRqlP5Kwx\n",
       "og08lGQ1WbAnq/Yk2IO65BA+oe0GtmFgci2YPMMcyOgAP+VV3McH7kuwmng/UbUnHSF6Iuad1nYD\n",
       "2zCwF6+vfpMner283wUOtSwo9SQqRoIS+GDpajTEavJ8Rqr2ZBihRTLfpLYb2IaBXXi18ZpctLo4\n",
       "8dL5Qaj8aNfNll9ZTA38WemqoNKk2eoH3LtIkDcc7iltN7CNrNKnWlrOmQQe5wSjPaHyWPIdlheH\n",
       "YEoN7EoDwJvTVZ5CbLw8hVxZBpjnBgVephxg1clJTrqxozx5/mhdFFLsUmVgR4skNwDg1ipn2LMJ\n",
       "cQK55WHhyGm7gW0EeDcSYuVAc0T55PilrM7S7e0c4Hi5p2Or6H/s4YpFy7OdJhkFVkvsiap4bb8i\n",
       "Rxw1ZBhgnhsUWAz5I8i2mUbz4n2k0MErZd0Tp6FbGnvUQSrSvXiGtCykY+ngago8UrlKN52Rvf0X\n",
       "MZo0UTBAqegT757taTSQUMZwrhvYRoA9GbJmvYXQF91floFJoYNTyvJdC1cCM487pYgH+8WQFrDw\n",
       "fkILOHCr6vSnOYKuMkkL1w0KjOJr8Z/lyLFM+YZJoYNTykIeJTBvSIcVPTk+TVUMaTqHFySQFrC7\n",
       "ymoI3m7jpONrG5Ol8dwoAh/fKp1fjtEhPWctSYtJoYNTymKBeVuGa4qebKmxikWLRo2U9qJlz1UJ\n",
       "3INe8SRyfmYO89ygcxh9hAFsWXkQuJHtEQo0jHilLAZ4vBSHbT9toPd4e0o9taHVopRUNlTE4T1A\n",
       "HA7mDZKSdYZ0lPHMc6DJBxhgnhtFYDd22xN3RmVgd2yfdOWbi3ilLAa4nHg4kIMOIlv3yuI25XZC\n",
       "/EYKi8GKTOsoADyQNQhM1hnS42s/7r6MnkszcZjnBo3DssNp13uDg4cxcMMTr3NCEc6NSKUjwQL3\n",
       "Rmhilw9GhOJ7cZ6QczrloEurgctzYVSlcauGjvCG89I6U7FpnNJ2QwlsX+lLy284mKAxmF/oYIAH\n",
       "6CbYlXWFhLzeJoO/eWgNsRqvDIYSLZxZreIAi4Ab2FYCDgbkdMuNxB6UtqU1Cx0McJBmJjjuI39Y\n",
       "b5NhdHs4FDECTPrkFFTtwEm8fVoxpC+hvUl50VqxNuT7XavQIfwwkykDF8+PSYUJKJjSnFvjACDC\n",
       "ambfBAjpk1MwbQAWgIYsc8RjOzFYSjw8YF8lYDfdx+GRJUD5+GboiCfKaqMnWmQ0c77eCgJbS2yr\n",
       "ONOiwCuNAbvoTh3H/V3oQ+0f/AUAd6VZjZyGTrRIn7x1ph+YWf1hTeCoMeBiDbsbCUcPPKa9fbsD\n",
       "AHfEWI1cxvKObn5BtSMGHIvEKoHFI/pddWZU56/oAmooFLQnD3gQ3xxnNVgAVMgFfkG1Czh1wjar\n",
       "lYen5Ret46I7DADbs6ymOw3dc0qNPqGiBbZZBe6QltaAjovBDABcfKGlFxuMGelZq88+4Dd9NSiX\n",
       "SoFYjMGBpAsqlxanbGnqDhiqpGn1CS3x160Dy8t0MArnRg8hAFi4wWruQRln1PD79M0As2CmVp88\n",
       "BFdC59N6nzycUumXcCg+NqYLzO8zAGSWxGYZWBqtruU6ow8ELp4EFjV+hrOSbt2xxe9TBJYTYrMM\n",
       "7DWQ6HfAny31ZxjtxLNkg3DMpD/NMdhmGdh3Vv+ehxEI7I0rtD/uxm6dft7sB/tdSdhm/dPDK7p3\n",
       "6H16SNMSWYupzzHrtGl33tGx1ezjUkCeQTCwbUahbStexX8PI785b4Scjm2+9Q/Et+sN+q2ybmy8\n",
       "AqZrZY3QXWN/m3PGn9Wx1eED8SbdD8TpV00lbUGgJmrQfI2kmCUGRiw3tdikrc6ySKVNizBpzlZv\n",
       "6Uiw2vwKGjNnq7f446w2LWtC5mx1l+9U2uyI/tOcrf4yK8lqs3lu1Jyt/iIkWW1S7ta1/QclzK0+\n",
       "Lbe9+wAAAABJRU5ErkJggg==\n",
       "\" style=\"display:inline;vertical-align:middle;\" /></a></span>"
      ],
      "text/plain": [
       "|- [forall_{l in [e,2^{t - 1} - 1]} ((1 / l^{2}) in Real)] => ((Integrate_{e}^{2^{t - 1} - 1} (1 / l^{2})\\,dl) in Real)"
      ]
     },
     "metadata": {},
     "output_type": "display_data"
    }
   ],
   "source": [
    "# experimenting with the instantiation --\n",
    "from proveit import n, f, S, x\n",
    "self = integral_fofell_over_fail_interval\n",
    "_x_sub = self.instance_params\n",
    "_f_sub = Lambda(_x_sub, self.instance_expr)\n",
    "_S_sub = self.domain\n",
    "_n_sub = _x_sub.num_elements()\n",
    "integration_real_closure.instantiate(\n",
    "        {n: _n_sub, f: _f_sub, S: _S_sub, x: _x_sub})"
   ]
  },
  {
   "cell_type": "code",
   "execution_count": 19,
   "metadata": {},
   "outputs": [],
   "source": [
    "%end demonstrations"
   ]
  }
 ],
 "metadata": {
  "kernelspec": {
   "display_name": "Python 3",
   "language": "python",
   "name": "python3"
  }
 },
 "nbformat": 4,
 "nbformat_minor": 0
}