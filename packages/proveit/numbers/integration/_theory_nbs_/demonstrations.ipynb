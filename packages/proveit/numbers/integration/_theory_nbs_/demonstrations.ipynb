{
 "cells": [
  {
   "cell_type": "markdown",
   "metadata": {},
   "source": [
    "Demonstrations for the theory of <a class=\"ProveItLink\" href=\"theory.ipynb\">proveit.numbers.integration</a>\n",
    "========"
   ]
  },
  {
   "cell_type": "code",
   "execution_count": null,
   "metadata": {},
   "outputs": [],
   "source": [
    "import proveit\n",
    "from proveit import f, x, y, S, fx, fy, Px, Py, defaults\n",
    "from proveit.logic import And, Forall, InSet\n",
    "from proveit.numbers import Integrate\n",
    "from proveit.numbers import (\n",
    "        zero, one, Real, RealNeg, RealNonNeg, RealNonPos, RealPos,\n",
    "        IntervalCC, IntervalOC)\n",
    "%begin demonstrations"
   ]
  },
  {
   "cell_type": "markdown",
   "metadata": {},
   "source": [
    "#### Basic Testing: Creating Definite Integrals, Accessing Properties"
   ]
  },
  {
   "cell_type": "code",
   "execution_count": null,
   "metadata": {},
   "outputs": [],
   "source": [
    "integral_Px_over_S = Integrate(x, Px, domain=S)"
   ]
  },
  {
   "cell_type": "code",
   "execution_count": null,
   "metadata": {},
   "outputs": [],
   "source": [
    "integral_Px_over_S.domain"
   ]
  },
  {
   "cell_type": "code",
   "execution_count": null,
   "metadata": {},
   "outputs": [],
   "source": [
    "integral_Px_over_S.index"
   ]
  },
  {
   "cell_type": "code",
   "execution_count": null,
   "metadata": {},
   "outputs": [],
   "source": [
    "integral_Px_over_S.integrand"
   ]
  },
  {
   "cell_type": "code",
   "execution_count": null,
   "metadata": {},
   "outputs": [],
   "source": [
    "# Utilizing pre-defined set for domain\n",
    "for the_domain in [Real, RealNeg, RealNonNeg, RealNonPos, RealPos]:\n",
    "    display(Integrate(x, Px, domain=the_domain))"
   ]
  },
  {
   "cell_type": "code",
   "execution_count": null,
   "metadata": {},
   "outputs": [],
   "source": [
    "# This is wrong! Should be expressed a limit.\n",
    "Integrate(x, Px, domain=IntervalOC(zero, one))"
   ]
  },
  {
   "cell_type": "markdown",
   "metadata": {},
   "source": [
    "#### Testing closure: `deduce_in_number_set()`"
   ]
  },
  {
   "cell_type": "code",
   "execution_count": null,
   "metadata": {},
   "outputs": [],
   "source": [
    "# some default assumptions to help with testing\n",
    "defaults.assumptions = [InSet(x, S), InSet(x, Real), InSet(y, S)]"
   ]
  },
  {
   "cell_type": "code",
   "execution_count": null,
   "metadata": {},
   "outputs": [],
   "source": [
    "# define a few integrals\n",
    "from proveit import a, b\n",
    "from proveit.numbers import IntervalCC\n",
    "integral_fx_over_S, integral_fy_over_S, integral_fx_over_real, integral_fx_over_interval = (\n",
    "    Integrate(x, fx, domain=S),\n",
    "    Integrate(y, fy, domain=S),\n",
    "    Integrate(x, fx, domain=Real),\n",
    "    Integrate(x, fx, domain=IntervalCC(a, b)))"
   ]
  },
  {
   "cell_type": "code",
   "execution_count": null,
   "metadata": {},
   "outputs": [],
   "source": [
    "from proveit import e, l, t\n",
    "from proveit.numbers import one, two, Exp, frac, subtract\n",
    "integral_fx_over_fail_interval, integral_fofell_over_fail_interval = (\n",
    "    Integrate(x, fx, domain=IntervalCC(e, subtract(Exp(two, subtract(t, one)), one))),\n",
    "    Integrate(l, frac(one, Exp(l, two)), domain=IntervalCC(e, subtract(Exp(two, subtract(t, one)), one))))"
   ]
  },
  {
   "cell_type": "code",
   "execution_count": null,
   "metadata": {},
   "outputs": [],
   "source": [
    "integral_fx_over_S.domain"
   ]
  },
  {
   "cell_type": "code",
   "execution_count": null,
   "metadata": {},
   "outputs": [],
   "source": [
    "integral_fx_over_S.instance_params"
   ]
  },
  {
   "cell_type": "markdown",
   "metadata": {},
   "source": [
    "### Working here on details of instantiation of the real_closure theorem"
   ]
  },
  {
   "cell_type": "code",
   "execution_count": null,
   "metadata": {},
   "outputs": [],
   "source": [
    "integral_fx_over_real"
   ]
  },
  {
   "cell_type": "code",
   "execution_count": null,
   "metadata": {},
   "outputs": [],
   "source": [
    "from proveit.logic import Equals\n",
    "from proveit.numbers import infinity, Neg, IntervalOO\n",
    "integral_fx_over_real.deduce_in_number_set(\n",
    "    Real,\n",
    "    assumptions=defaults.assumptions+(Equals(IntervalOO(Neg(infinity), infinity), Real), InSet(fx, Real), Forall(x, InSet(fx, Real), domain=Real),))"
   ]
  },
  {
   "cell_type": "code",
   "execution_count": null,
   "metadata": {},
   "outputs": [],
   "source": [
    "integral_fx_over_S.deduce_in_number_set(\n",
    "    Real,\n",
    "    assumptions=defaults.assumptions+(Forall(x, InSet(fx, Real), conditions=[InSet(x, S)]),))"
   ]
  },
  {
   "cell_type": "code",
   "execution_count": null,
   "metadata": {},
   "outputs": [],
   "source": [
    "from proveit.numbers.integration import integration_real_closure\n",
    "integration_real_closure"
   ]
  },
  {
   "cell_type": "code",
   "execution_count": null,
   "metadata": {},
   "outputs": [],
   "source": [
    "# experimenting with the instantiation --\n",
    "from proveit import n, f, S, x\n",
    "self = integral_fx_over_interval\n",
    "_x_sub = self.instance_params\n",
    "_f_sub = Lambda(_x_sub, self.instance_expr)\n",
    "_S_sub = self.domain\n",
    "_n_sub = _x_sub.num_elements()\n",
    "integration_real_closure.instantiate(\n",
    "        {n: _n_sub, f: _f_sub, S: _S_sub, x: _x_sub})"
   ]
  },
  {
   "cell_type": "code",
   "execution_count": null,
   "metadata": {},
   "outputs": [],
   "source": [
    "# experimenting with the instantiation --\n",
    "from proveit import n, f, S, x\n",
    "self = integral_fofell_over_fail_interval\n",
    "_x_sub = self.instance_params\n",
    "_f_sub = Lambda(_x_sub, self.instance_expr)\n",
    "_S_sub = self.domain\n",
    "_n_sub = _x_sub.num_elements()\n",
    "integration_real_closure.instantiate(\n",
    "        {n: _n_sub, f: _f_sub, S: _S_sub, x: _x_sub})"
   ]
  },
  {
   "cell_type": "code",
   "execution_count": null,
   "metadata": {},
   "outputs": [],
   "source": [
    "%end demonstrations"
   ]
  }
 ],
 "metadata": {
  "kernelspec": {
   "display_name": "Python 3",
   "language": "python",
   "name": "python3"
  }
 },
 "nbformat": 4,
 "nbformat_minor": 0
}
