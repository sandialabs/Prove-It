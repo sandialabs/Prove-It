{
 "cells": [
  {
   "cell_type": "markdown",
   "metadata": {},
   "source": [
    "Theorems (or conjectures) for the theory of <a class=\"ProveItLink\" href=\"theory.ipynb\">proveit.numbers.integration</a>\n",
    "========"
   ]
  },
  {
   "cell_type": "code",
   "execution_count": null,
   "metadata": {},
   "outputs": [],
   "source": [
    "import proveit\n",
    "# Prepare this notebook for defining the theorems of a theory:\n",
    "%theorems_notebook # Keep this at the top following 'import proveit'.\n",
    "from proveit import a, b, f, l, n, x, P, S, fx\n",
    "from proveit.core_expr_types import (\n",
    "        x_1_to_n, f__x_1_to_n, P__x_1_to_n)\n",
    "from proveit.logic import Forall, Implies, InSet\n",
    "from proveit.numbers import (\n",
    "        one, two, NaturalPos, Real, RealNeg, RealNonPos, RealNonNeg, RealPos)\n",
    "from proveit.numbers import (Exp, frac, Integrate, IntervalCC, LessEq)"
   ]
  },
  {
   "cell_type": "code",
   "execution_count": null,
   "metadata": {},
   "outputs": [],
   "source": [
    "%begin theorems"
   ]
  },
  {
   "cell_type": "code",
   "execution_count": null,
   "metadata": {},
   "outputs": [],
   "source": [
    "# Old version of the theorem (maintained temporarily for comparison)\n",
    "# integration_closure = (\n",
    "#     Forall((P, S),\n",
    "#            Implies(Forall(x_etc, InSet(Px_etc, Real), domain=S),\n",
    "#                    InSet(Integrate(x_etc, Px_etc, domain=S), Real))))"
   ]
  },
  {
   "cell_type": "code",
   "execution_count": null,
   "metadata": {},
   "outputs": [],
   "source": [
    "integration_closure = (\n",
    "    Forall(n, \n",
    "    Forall((P, S),\n",
    "           Implies(Forall(x_1_to_n, InSet(P__x_1_to_n, Real), domain=S),\n",
    "                   InSet(Integrate(x_1_to_n, P__x_1_to_n, domain=S), Real))),\n",
    "    domain=NaturalPos))"
   ]
  },
  {
   "cell_type": "code",
   "execution_count": null,
   "metadata": {},
   "outputs": [],
   "source": [
    "integration_real_neg_closure = (\n",
    "    Forall(n, \n",
    "    Forall((f, S),\n",
    "           Implies(Forall(x_1_to_n, InSet(f__x_1_to_n, RealNeg), domain=S),\n",
    "                   InSet(Integrate(x_1_to_n, f__x_1_to_n, domain=S), RealNeg))),\n",
    "    domain=NaturalPos))"
   ]
  },
  {
   "cell_type": "code",
   "execution_count": null,
   "metadata": {},
   "outputs": [],
   "source": [
    "integration_real_non_pos_closure = (\n",
    "    Forall(n, \n",
    "    Forall((f, S),\n",
    "           Implies(Forall(x_1_to_n, InSet(f__x_1_to_n, RealNonPos), domain=S),\n",
    "                   InSet(Integrate(x_1_to_n, f__x_1_to_n, domain=S), RealNonPos))),\n",
    "    domain=NaturalPos))"
   ]
  },
  {
   "cell_type": "code",
   "execution_count": null,
   "metadata": {},
   "outputs": [],
   "source": [
    "integration_real_non_neg_closure = (\n",
    "    Forall(n, \n",
    "    Forall((f, S),\n",
    "           Implies(Forall(x_1_to_n, InSet(f__x_1_to_n, RealNonNeg), domain=S),\n",
    "                   InSet(Integrate(x_1_to_n, f__x_1_to_n, domain=S), RealNonNeg))),\n",
    "    domain=NaturalPos))"
   ]
  },
  {
   "cell_type": "code",
   "execution_count": null,
   "metadata": {},
   "outputs": [],
   "source": [
    "integration_real_pos_closure = (\n",
    "    Forall(n, \n",
    "    Forall((f, S),\n",
    "           Implies(Forall(x_1_to_n, InSet(f__x_1_to_n, RealPos), domain=S),\n",
    "                   InSet(Integrate(x_1_to_n, f__x_1_to_n, domain=S), RealPos))),\n",
    "    domain=NaturalPos))"
   ]
  },
  {
   "cell_type": "code",
   "execution_count": null,
   "metadata": {},
   "outputs": [],
   "source": [
    "integration_real_closure = (\n",
    "    Forall(n, \n",
    "    Forall((f, S),\n",
    "           Implies(Forall(x_1_to_n, InSet(f__x_1_to_n, Real), domain=S),\n",
    "                   InSet(Integrate(x_1_to_n, f__x_1_to_n, domain=S), Real))),\n",
    "    domain=NaturalPos))"
   ]
  },
  {
   "cell_type": "code",
   "execution_count": null,
   "metadata": {},
   "outputs": [],
   "source": [
    "integration_real_closure_simple = (\n",
    "    Forall((f, S),\n",
    "           Implies(Forall(x, InSet(fx, Real), domain=S),\n",
    "                   InSet(Integrate(x, fx, domain=S), Real))))"
   ]
  },
  {
   "cell_type": "code",
   "execution_count": null,
   "metadata": {},
   "outputs": [],
   "source": [
    "boundedInvSqrdIntegral = (\n",
    "    Forall((a, b),\n",
    "           LessEq(\n",
    "               Integrate(l, frac(one, Exp(l,two)), domain=IntervalCC(a, b)),\n",
    "               frac(one, a)),\n",
    "    domain=RealPos, conditions=[LessEq(a, b)]))"
   ]
  },
  {
   "cell_type": "code",
   "execution_count": null,
   "metadata": {},
   "outputs": [],
   "source": [
    "%end theorems"
   ]
  }
 ],
 "metadata": {
  "kernelspec": {
   "display_name": "Python 3",
   "language": "python",
   "name": "python3"
  }
 },
 "nbformat": 4,
 "nbformat_minor": 0
}
