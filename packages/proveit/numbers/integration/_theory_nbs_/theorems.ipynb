{
 "cells": [
  {
   "cell_type": "markdown",
   "metadata": {},
   "source": [
    "Theorems (or conjectures) for the theory of <a class=\"ProveItLink\" href=\"theory.ipynb\">proveit.numbers.integration</a>\n",
    "========"
   ]
  },
  {
   "cell_type": "code",
   "execution_count": null,
   "metadata": {},
   "outputs": [],
   "source": [
    "import proveit\n",
    "# Prepare this notebook for defining the theorems of a theory:\n",
    "%theorems_notebook # Keep this at the top following 'import proveit'.\n",
    "from proveit import n, P, S\n",
    "from proveit.core_expr_types import x_1_to_n, P__x_1_to_n\n",
    "from proveit.logic import Forall, Implies, InSet\n",
    "from proveit.numbers import Integrate, NaturalPos, Real "
   ]
  },
  {
   "cell_type": "code",
   "execution_count": null,
   "metadata": {},
   "outputs": [],
   "source": [
    "%begin theorems"
   ]
  },
  {
   "cell_type": "code",
   "execution_count": null,
   "metadata": {},
   "outputs": [],
   "source": [
    "# Old version of the theorem (maintained temporarily for comparison)\n",
    "# integration_closure = (\n",
    "#     Forall((P, S),\n",
    "#            Implies(Forall(x_etc, InSet(Px_etc, Real), domain=S),\n",
    "#                    InSet(Integrate(x_etc, Px_etc, domain=S), Real))))"
   ]
  },
  {
   "cell_type": "code",
   "execution_count": null,
   "metadata": {},
   "outputs": [],
   "source": [
    "integration_closure = (\n",
    "    Forall(n, \n",
    "    Forall((P, S),\n",
    "           Implies(Forall(x_1_to_n, InSet(P__x_1_to_n, Real), domain=S),\n",
    "                   InSet(Integrate(x_1_to_n, P__x_1_to_n, domain=S), Real))),\n",
    "    domain=NaturalPos))"
   ]
  },
  {
   "cell_type": "code",
   "execution_count": null,
   "metadata": {},
   "outputs": [],
   "source": [
    "%end theorems"
   ]
  }
 ],
 "metadata": {
  "kernelspec": {
   "display_name": "Python 3",
   "language": "python",
   "name": "python3"
  }
 },
 "nbformat": 4,
 "nbformat_minor": 0
}
