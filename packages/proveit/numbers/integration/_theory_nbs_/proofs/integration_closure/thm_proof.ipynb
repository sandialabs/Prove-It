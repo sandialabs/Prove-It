{
 "cells": [
  {
   "cell_type": "markdown",
   "metadata": {},
   "source": [
    "Proof of <a class=\"ProveItLink\" href=\"../../../../../_theory_nbs_/theory.ipynb\">proveit</a>.<a class=\"ProveItLink\" href=\"../../../../_theory_nbs_/theory.ipynb\">numbers</a>.<a class=\"ProveItLink\" href=\"../../theory.ipynb\">integration</a>.<a class=\"ProveItLink\" href=\"../../theorems.ipynb#integration_closure\">integration_closure</a> theorem\n",
    "========"
   ]
  },
  {
   "cell_type": "code",
   "execution_count": 1,
   "metadata": {},
   "outputs": [],
   "source": [
    "import proveit\n",
    "theory = proveit.Theory() # the theorem's theory"
   ]
  },
  {
   "cell_type": "code",
   "execution_count": 2,
   "metadata": {},
   "outputs": [
    {
     "data": {
      "text/html": [
       "With these <a href=\"allowed_presumptions.txt\">allowed</a>/<a href=\"disallowed_presumptions.txt\">disallowed</a> theorem/theory presumptions (e.g., to avoid circular dependencies), we begin our proof of<br><strong id=\"integration_closure\">integration_closure:</strong> <a class=\"ProveItLink\" href=\"../../../__pv_it/theorems/f10e16c608f1975549db64920a8b2e6dcb0ac2000/expr.ipynb\"><img src=\"data:image/png;base64,iVBORw0KGgoAAAANSUhEUgAAA54AAAA2BAMAAABdBlvKAAAAMFBMVEX///8AAAAAAAAAAAAAAAAA\n",
       "AAAAAAAAAAAAAAAAAAAAAAAAAAAAAAAAAAAAAAAAAAAv3aB7AAAAD3RSTlMAq1RmmUTNIjK7EInv\n",
       "3XZ/CtNrAAAACXBIWXMAAA7EAAAOxAGVKw4bAAAMC0lEQVR42u2cC2wUxxnHv3t59/bs8yEqNRAK\n",
       "VyWNrJLgU4C0IBRfBTQ0SYNLpUgtSL7SSFGTqlykKhUNgmuE2rR18CURaUAFlgShYiTshECVIsBp\n",
       "lNAUNXVTilLEJUegD6fCNg8DNi3Xee7Ozu49yG6s85KRuJsZ1rPzn9/MfN/M7B5A1aB1d+tw44T6\n",
       "k1tzjbq7u2u4qqlUSle55AWfsIzmapI73rUqlfLO/7OLctY20+S20mgtPNurXRFI+YTn5Jrkjn8I\n",
       "leGpnqDfT/PxO88Tnjf7BGeg1yo3cKjOecId9CvY7yXPUMYnPO+S5E7vSNU5z1iCfr/sJc81WX/g\n",
       "VI5Y5apjne11zhP+yhilPOT5vk+GZ1PRKjeQr3f7CXA7tZzBP3rHM9TnE54LJLnNxfrn2cB88Ye8\n",
       "49nY6xOeRyW5Hbn65xm5zOqa9YznkE92G+JjktylUP884TtsnCY84/kXv5jPhCT3+ETg2coM6JhX\n",
       "PNUrPuHZlbPK1S5OBJ491Mhr17ziGfCLOzRNkhu8MBF4RtlWwhaveDYmfMLzdUlu+MpE4BliDlFb\n",
       "1iOeXT7ZvFUvSHKbhicCT41VuyflEc8hn+wOxS9Lcnv6JwJPPq3QadIDnr8mn2ff86DaSoWUu7Ks\n",
       "+Y6VjfZJcls9MiRZ9zIq8dwi2lEPeL5NPvd5ofzDCqnrDZGi1MW/v+nSyedYvlNtG/OS3MNFb8Z9\n",
       "0r0MmScXQ6pJv2LDlCfphLdU4Rkg/p6joWRe/b4aCqoWgr1I/bbRSc/fy1Nuwml5/CmJyOTNNN+J\n",
       "Z09a4rnKzWb8QOmZKQ+RpeFMD2TYxicXgx0hWs3QCOW5GH89XIVnGP9Ng+PEoV5jPKsXVC3sxB/N\n",
       "GTSF6zzlIjTochP0Qv4nNN+JZ1dR4lnS3dz+Eroj3iTXMh7IcOBJxZj1phzmAc5U8lV4qnjwrXYe\n",
       "VOcZz+oFVQsLefVaizzlxodI25vgngaa78SzNWnlqf7XlbeMmjeImzic8kCGI08sxpxX6Dw5j/CP\n",
       "JavZz0fQ9yvO97vCeFYvqFogDslQDv3r5Sk3gR0hxbcUjhtNEKX5As/NPNKWs/IMjbq5eRw1S/wq\n",
       "NsteyDB4DhQKGYsYNKExt+0c5RlC/aehqj80G31nKrn5+2ooqJr5JDfYhv/leMpN+C51KH6gm116\n",
       "6naaL/D8ubzu4jwDV93cPIrckyju6rd5IYPzfPAjkMQgnuz/Rpl/+6dC4WhVno2Fwkln/yQ2xv3b\n",
       "qgVVCeFeVi1iCnBKG5z6S2FWkJJOzpl4BX0G43HdbAL12YdpvsAzxGUd1q08m867EYNbmVi2+9C/\n",
       "Pad+c0CYuaRkDTIYT+URkMUgNKzjv8V4LhHmHCH0WniGcxB1dg/CBs8yBdVu+VPU7igHkywVhlPF\n",
       "rwu3siadKiNeQZ4GMj20qPLWB+/rNJ/wDBdI4LvuSyWezZfdiEEsn3iXD690fHpY2JyQkjXIYDxN\n",
       "j9QQg+rLiiowno+B4rRwTlt4okseQ9FvXXx1Ei5z+eDdzNpAYJjzLFNQtQXWodP/ZvfBGOPnDuxt\n",
       "56kvQZs+GbS72KU0ufvlqWULo1ewcDv5zJhNsHd+huWL/lBwJf2eIS23u1xt9w3dfGAuiSCooWxo\n",
       "LJCCl1hVaFI7MEmvWQbnCTYxqL7M0TjJeEb1mLjQUo7tgwUJmScaebgNQv0QQ90hWIQusPGUCqoe\n",
       "NkzZCDALVNZwje3M7hipHHwVX3aWZdFkGsqPUXoFHyLEz0RWoPB3NkVtns3yLf7tzjcdeQ65MuDb\n",
       "eAQVrkIYlaUOsoFEk2EoP0ZtMhjPTjyf5C1i7DyDxQZLC38+pod1G89ZpKMH0hAfJj5bwD7figXV\n",
       "ZC+XMKc2IfBszgg8Ad7BH3cYf4KTI7AuV77Qd8zoCmKK8oLJWU9sxgorT+XRrON8OyPtcvlp8ERi\n",
       "sCU1HpIlyeZ25UrNMhjPXWATY59vIXO3pYVvKaZj8OqiY4vaRZ4NIVylxiQ5xW9OmdujscvGfh8p\n",
       "aPCeM3yWF6JmMDPpBs4FY4OTzLdd3G6TVOQydAs8SXJ+JZ7kijlfHkwb3aBfaILwz/I0X7Sfx9nt\n",
       "D0v+7QduFo6q4RwTI9qR1XSBJ06G9Ao8ZRmMZxPYxNj9IXgFeU2hhRvOsBZu+cLamM1+Quw23BvW\n",
       "6cpnsJErPWdZaDGeuKB4dkoD892EqLC8MTLZyBka5e0WxT1mqN1MaRsDfdgvw4rQ3XkSDqK43ScE\n",
       "foU29w04YuxNDwpNoOVP03xhfEb4AB6S1p+lnJvl5wiPbUXDqn0axOj4xLVkSWy57DJMoaIMxjNe\n",
       "tIkxz59f5zzXoIyXVqQas7SFW2IvLrfzVMjlCwY/JIP8xaUJ234CLSgEW1VQiJ9LosvOWG0qyaQN\n",
       "STlqt57jIx2XuQrMVPDKjr5IkvDU0PzFk/iljZ4MzbNG6BXKngyMsZUCmliSRhOkYXa0neQLPB8v\n",
       "s5+gllz56sPCcqP1F/fDMsoT15Il8UsnRu0tWuwy+PpzJchi0GTJSF3kPANIyI//Cc06beEWSA/Y\n",
       "ecJN+GMS70MRo77BEYNngLQImn+fZK/JoGifJruJfBkQ+t6mTc/iHtrB5yik92ulrWZKe6B4651s\n",
       "xinoRnI16lJN+A7HcOXSPIJy2BWBYgT7CH+j/WXKt/mRxGg2+vx5ki/wNF6Na2238AxecrOU3jbK\n",
       "h9LTADsGgwuTlCeuJUviTm/IMLWYQgUZnOf2jbokBvUCaqG0qwDCedl0ZHdpC7fA7gbb+pOFN+jI\n",
       "SgobtexY32ghtQ+Z1hNGNKtK+3Y4c843Z6IIucMyYV/YeipppjDPoOHcK2kFWbov2trQzGnMhdM5\n",
       "UJi5irxWsDyoh/MFnoaF589ZMLkxV9tDwm6MMW0T+2nW8ofwIycZplBBhrHft3xLIeN8jsD341n4\n",
       "AyxSaQu3QGSWbX+INQUeW7shnICA6ehctPBcE8uECc/dLIomhd2g9fIPkjkr38R3Tr8C8Fle0hzL\n",
       "bedYeMaM1Oqn1utid7NvgKyDpidzZTfCcb7Tfjyft5jc6Ig3PM1jAcLTqKXywlP3OsmIOcmodJ7N\n",
       "zhHouQjnqQzDey20hdEy+FQZngNXUUt2JsPr7/ut+d/HLTzD/zj0EeGJLiPRJTiqHoHOLP6gmYEc\n",
       "tlqrcc9dsuiAuelh8YaN1BOrDgHsMfL/XEKWTSva/CEz5xsQ31vuOIjmO/FsyljkNo55wxN+xZt4\n",
       "/9WiUMvGUmnYQYYgVJBRiSfbd6b76JxnJAH/SZEWVpH/HijDkwbJZ51mnW9JOGFcFtOL4l8kmd99\n",
       "Ghk17bVNG61I8uVTkvC43aMs145O+U48+XOnTK5nTw/tqlBLuwxZKJVRiecMcV/H+ryJrYWdeEak\n",
       "bao2kj4oGr8NR5P8slWlfuEvWGw7zHScDNdWSF33iiFbPv/sm04T45hFbodXj6EqRfcyKvF8m433\n",
       "vJ1n+fMVy4pDssfORwUhp2gI6jeo5y1y2+rpMdQKPJVrzNoWPyZPOfj0eeql2YnB0/PnqcN9PuF5\n",
       "v0XuSZgYPAPMzn8OPOIZGfEJz452Ue65CcKTv3Ts2ftIdH/DB6EpLchVP8bLSOZR7jjybNNFb84L\n",
       "nm26P3iGxPd549f3dIJ0lDuOPNnbt03evc/ry/ftA9e1/JSPcseP5yfwvn1ozCc86URD5eJOKpzf\n",
       "xs+svce+NjQy5aPc8eMZZT3oGfCMJzzqE54NvabcDt1yfvuvQH6l7Xoj03aUO348O6ixi4x5yLPT\n",
       "J28MqsbvSe3HJ4PCUS6kosVcZNZi6/U4k7amfJQ7fjzfZYySHvKM530yQAe43E0qebheOMptzkIj\n",
       "9MhrBdaRbUe548bzE/m9N//9HuOOU5iUcJQLnZBV0Ic0MUE2tPjOXoej3PHi+SDzijLXw3N+tZ/T\n",
       "tT8mNEHDSlGucZSr9Sp9+/EDGxuFg1yWGRzAT5zZjnI9DVr3nnK/l8oemP8prXF390AtPG/Q3zM2\n",
       "jnLV38MDywd1COdwlB7kZnnmTUrG4SjX21qV/T3jnZSjxrDW9nvGN3bA822QRn8XN6JmZn98rl7m\n",
       "oPHTUH8BH+UCfaKsofQ/HsWBxrREcO+nrTTBQsopWp8/0/N/ITbr/3T4rLwAAAAASUVORK5CYII=\n",
       "\" style=\"display:inline;vertical-align:middle;\" /></a><br>(see <a class=\"ProveItLink\" href=\"../../../__pv_it/theorems/1134e0a8a5768c7c207865d6d369dc63937658000/dependencies.ipynb\">dependencies</a>)<br>"
      ],
      "text/plain": [
       "<IPython.core.display.HTML object>"
      ]
     },
     "metadata": {},
     "output_type": "display_data"
    }
   ],
   "source": [
    "%proving integration_closure"
   ]
  },
  {
   "cell_type": "code",
   "execution_count": null,
   "metadata": {},
   "outputs": [],
   "source": []
  }
 ],
 "metadata": {
  "kernelspec": {
   "display_name": "Python 3",
   "language": "python",
   "name": "python3"
  }
 },
 "nbformat": 4,
 "nbformat_minor": 0
}