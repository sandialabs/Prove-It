{
 "cells": [
  {
   "cell_type": "markdown",
   "metadata": {},
   "source": [
    "Proof of <a class=\"ProveItLink\" href=\"../../../../../_theory_nbs_/theory.ipynb\">proveit</a>.<a class=\"ProveItLink\" href=\"../../../../_theory_nbs_/theory.ipynb\">numbers</a>.<a class=\"ProveItLink\" href=\"../../theory.ipynb\">integration</a>.<a class=\"ProveItLink\" href=\"../../theorems.ipynb#integration_real_pos_closure\">integration_real_pos_closure</a> theorem\n",
    "========"
   ]
  },
  {
   "cell_type": "code",
   "execution_count": 1,
   "metadata": {},
   "outputs": [],
   "source": [
    "import proveit\n",
    "theory = proveit.Theory() # the theorem's theory"
   ]
  },
  {
   "cell_type": "code",
   "execution_count": 2,
   "metadata": {},
   "outputs": [
    {
     "data": {
      "text/html": [
       "With these <a href=\"allowed_presumptions.txt\">allowed</a>/<a href=\"disallowed_presumptions.txt\">disallowed</a> theorem/theory presumptions (e.g., to avoid circular dependencies), we begin our proof of<br><strong id=\"integration_real_pos_closure\">integration_real_pos_closure:</strong> <a class=\"ProveItLink\" href=\"../../../__pv_it/theorems/32deb728b3f4cc48ad335f63b5b4d9a6ff9361ee0/expr.ipynb\"><img src=\"data:image/png;base64,iVBORw0KGgoAAAANSUhEUgAAA7kAAAA2BAMAAADwh0NjAAAAMFBMVEX///8AAAAAAAAAAAAAAAAA\n",
       "AAAAAAAAAAAAAAAAAAAAAAAAAAAAAAAAAAAAAAAAAAAv3aB7AAAAD3RSTlMAq1RmmUTNIjK7EInv\n",
       "3XZ/CtNrAAAACXBIWXMAAA7EAAAOxAGVKw4bAAAMLUlEQVR42u2cfYwU5R3Hf/t2M7t7u7fGJkWk\n",
       "eEQklyqwlZdWYmANULG2ctqkaYvpXfUPUpGyJMaGQuFsSKr1lC2EwhLUqRAikHAHKI0S8Upj7dVo\n",
       "D0uJEg6XSmpt5UDheDkr2+d9nmd2Z3eOGbbsyJPc/J6bfWb2+T6f5+X3PM/sAFQNsW3bDPjihStN\n",
       "9nDz4zB9oljMVE6x3ndo1zuRXdsQLRZzFRNsNRRbNT2j21olQSDtN7hYUVXZNQ+hyrT0w6qtlt4h\n",
       "3et913SvV2UH9tUDXRhvsZ7QDbX7DS5RJMke3ZauB7rxlGo9obss6ze6RJEpWx/qbK0HuvA31XpC\n",
       "96jvOuajquxA7srIVlVatxiK9YJuqMd3HXOPKrupUCd0GzKK9YJuY7ff6FJFpuy2jjqhGzmnWC/o\n",
       "nvTdUgdVZMqeC3VCF36sWC/oHvDdsHvAIvtQ3dCdaMjWA7r6eb/BZYqE7NiZuqHbVZCtB3QDvnOq\n",
       "mCIhO3i6buhG+2TrAd3GlO+cqpQqO3y+buiGzsnWA7qr6DLOV/q9WNMI1WLVIMz+4ER/cwVFQnbi\n",
       "1JVPl02FYqdl6wHdk5Rquyf5H1uLQoqiP40ID6UrKBKyu/qufLr8kz/I1gO6G8E7ujH5LpqrW2mV\n",
       "6cJ0e7obLbInejL2ZN1f7YDuM7L1gG6vh3Sjcmn/w9WtIgXLiam9zy3sTQu6CcOWbq9F9msFD6Ql\n",
       "m11d/qNytEIP588eWaPQfU22KD2pmDdWoRsgvmO5suDThfYKaRyHZXRc3ItLPuhyCeyDkuq9GO69\n",
       "zeB0kyk7ulyRoLvInTNw9yv4eLPLypEu1xajWipy7QaZ7oxWyaL0s/E/86vQDePEDeU6F/0ip2uf\n",
       "xnlBkOPOTlzPt7hsLA2Gle5SiOopuCu/MZ9PQ2zIji5XJOgWDTf5iI/Ybx1zLiU8VJ5uN+Qeg3A+\n",
       "35unbXgV62eIRekfEz5GBbo6rulLyn0Y/JTTtU/jOAyS4/4f4OKc6dYFyZTSDWfbeduFB+3ockWc\n",
       "rv5fd/Orm3DjCrvdIJ5sR/fOBrntdmUki9LjOh5vrjbu4qqzq2whnhfjrm0ax4tEQ2TEJEdwvUjy\n",
       "F9anPdN/yKSbE3TvstDdYFXE6YYuuMpGG2n5ja4n4YZEl2sidKMy3aaUZFF6rLChqlc1yc5xSp4T\n",
       "dCe5da6SZOoRJ8egazftQepd/dQw225gW0rQ/dhC9wmrIk438JmrbLxKjuPcqmlIm3SFJkx35O8U\n",
       "ujnJ4vRv9fe/WZVuY3//kbJuTnxI0LVN4zQEMNHQqAO4VwmjO8UGRj4pdwY7jr2wt2Ivo1ywkxwf\n",
       "NaSe+YlxWUEXtymZbqjboojTTXzqRtPX3voS9ygs2beqKw3yBfhpGk5XaEJ09dXzZbqN7ZLF6edI\n",
       "vZIUuhW64Q6IlnUuwiZd2zSOJ0Qkj3SvHNfVMBwrfEdekEmODvdVXoWSLpgKqr+YW7bw83/ztSrk\n",
       "d3RwuuF+Es5YFHG6TedcNbqLoiOxZN+qrswClHRBqN2kO98cd//0/lFDWquCRJ9kcfrFoKXs17aY\n",
       "TJRkMY5vJs7OvIHpHby9nRJ0eZphTkz3ffAv3vuQfKwgt06gSvt1mGFcC7GpXGA2NBRIx/ZeY1uF\n",
       "6AUs3GKZh+eWTpL98BWtFq8q+ICqiNNd5WohUqOj+Ds8+7CpXcns9p0jbf1CegHLXY9Jt92ku3ua\n",
       "OoIleiSL00eNuDyh0w6+BLenrHRR834Jx9d8H39TAVZBKV2exnF4+rq1ABNA58WXIN85kXYt6Es7\n",
       "4Js41QnudEEY9xBg337pBSyQLOpo3Ol/j9GNbpJodlnpwpbXy9I96coDCNK7vc6zrw/0KZnNgG37\n",
       "pRfwf04JuqYm1DNvmFSZbrDQoJT3mLgRNkroTqA1Zog5gIEyPTNP4zSE5zDfOKW03VcFXYC38WG8\n",
       "6TiiTrupVauwZ/O2Gb2fDG45qe3qGWkIWtFhoastyJbtmW/IuJru9nG6NPsQ7FMyO8j6qvKOsrlK\n",
       "FjHbrqkJ0V2pDoYlPTO0T1fK+8ZCJg4vzjo4q1Wm2xDC3zTmTTzKN6XNZdy46TPTNMnjy+/k3qcZ\n",
       "lRxjcZKuJp02l2Ap3d8A75nx80HbZLpt2ZgRMirQJRdM/sZARlSKPnm+O0eajq/KWsbdQ1lVEaf7\n",
       "vqupajTFe2aafYkuyey0SnSJ3plPH2eVgvfMfRLd8K+USXCJVwW70ESV3oOUd8tNy+Ml4y7Exxli\n",
       "Pp0srjFhmfNdmubDQI4NYHLUDOIkq4InL4jSo0+W0uYXLUBsbaAHO3cYE/7yra2jIE6bQ6y0JFAK\n",
       "ekFsyh/hDXTiNnJ6QKa7NZlW5qFy243kLIo43WKHq3kqbX7PiuxjTDj7XB3uq0odiZjQu+n+dGOW\n",
       "ljynOyDRjeWUJVe+296Y4rSWoRi5By3vlvjz80rpamRPKUzPPj83VWY1g6ZJRwsdsITkF0cjE2ar\n",
       "+Safk+KkRRsb+4moKXiw0Ab5DCB4fnNPpJnQjZ3FA/Kvvw33IfuUAV3t7ByOiP/oBdqOdjKA0GXN\n",
       "BjEHyT2CaK4V+bjdMt991GY1Qy+6cplXtPLpGcs+poszzNXph00lqiR6wc//CU0GnSFyukJTVMvA\n",
       "pKjsNTVlJEvSB1Bpk3vQ8m6BzEeldGEEuV2aNpOI8CODg5IfR9I0ZUEfT2sjijZCl0VvE+sBQz/J\n",
       "51fjStomms+Q6YboqIHeUxh7K+ti+9ENNw8EZyJdGho8E/iHUAe5I0YOKAW7IFDAgxT8nVae637I\n",
       "Jki9z62D/CIB+w4L3fVWRYxu8KwrutRHhKdE9jFdnH2uDjcErI6IMCUdFheMJh4Ezg2nyzWFHs5f\n",
       "yEZ/K8/Hu7ola65c4nvQ8m6B7Q0l813e8HGzQzXOXJjWT1u8dOhE42jC4FENHdSAToZm39oNOvmG\n",
       "++S1aex7hFm38K44i+kGzc7rEfgZwFdLnVPDzGQ40wEaG50iL/cfslvKkulmrYqY7Li7pao72M1E\n",
       "907GXTP7WkbLyup4MFP8GWbpAL+QadlpKt1FkO5By7sFIhNK1qp41TBgOy7/gLkVdEalq/XsQc0e\n",
       "0Y110yisRVF0FTuQk8GPsGewgan/srgX6kzH8G5nskI3bhbH+se/Jdc94d6ZnSEkftlRbd3efo8I\n",
       "1B3A6KCb+VDqAeueBqFrZn/J4ysNKe+li0naKXi3hW6qONiNn9gsWZGe3oOU9xSAY3Z0UTvsbA6v\n",
       "vPv35qeHLG33nnkDBqar76fRcAeOdmb1N/CBnRyhofRLcH2eM2tvVr79e3zFIcpPL120D2CH2X0U\n",
       "i6cgVihdthOxeyG5u+puVch2f5crYrIbh1zQTWzg5bKOF/Sezwpy9v9aLMp5F5VPpIik4D9p2lk6\n",
       "oMueGqLWbOvkHri8dTQzCNjRxQ3KstI7ytozk0tQVxOk0VeSIgoi1pecglr3y/m1loXmZpjO51Ax\n",
       "RYqFZrJUl5X3uirlnrWlO0qR7eqpqtBxXke3Vsp+aV21pohmndG9QbaW9KXlrdJdjdymiGWMmGGU\n",
       "0tU/3gVAR/6G4uc8igONxVLB3WW7S/kuy12Nd8kqjxFUeK6KKWKy27x5olcruLr8Q3BGt1e2w3yu\n",
       "ah/KYsg6jjeXabtk6lMuWmVl4GaoUaj0TCRTxGTPuHJeG1GdlnZRtt49rb6wfp5nJhN33D5PHElX\n",
       "UMRkz83WEV3Pn1YP94DPAlPEZB+BOqIb6JOtB3Qjg36jyxQx2Z/UE13+O3JqvfiF50G/0WWKqGz9\n",
       "Un4iJu1/15YucwiZ9YLuDMNvdKkiKjs5vCcz9GP5VmX/u7Z0Dyj26psV7BVR2YHhTXdn4TYr73/X\n",
       "lO5leLNCaMhvdKkiKhuTdr5lTXcY5f3vmtJlm8ncevJGowW+G3gXmLLxNrDjLWu2IiXvf9eUbpuh\n",
       "WE/odvrubWSd/G1ke+AaGMaWNXyXGmn/u6Z031GtJ3STOb/RJYqw7LxOftHgdMsapubz+WZl/7uW\n",
       "dC/LmwR9/BbQzccIN6db1vAk8Wmaq/ww63LR/Z7FOqM7rcprnM2nW/wSsCIhexhb1uQBRXX/27MQ\n",
       "27ajyht8H1Js1fSM7hf97dvOt6w1XBLq/rdnoerbtLcYinX49u2rgdRxw8GWNWzP51uvllXdhUvd\n",
       "sr4a6iZcypb1/zX8Dzxx7ZKkdK1HAAAAAElFTkSuQmCC\n",
       "\" style=\"display:inline;vertical-align:middle;\" /></a><br>(see <a class=\"ProveItLink\" href=\"../../../__pv_it/theorems/893eef4af1e85c62b9d64c7ad962f66265ec85880/dependencies.ipynb\">dependencies</a>)<br>"
      ],
      "text/plain": [
       "<IPython.core.display.HTML object>"
      ]
     },
     "metadata": {},
     "output_type": "display_data"
    }
   ],
   "source": [
    "%proving integration_real_pos_closure"
   ]
  },
  {
   "cell_type": "code",
   "execution_count": null,
   "metadata": {},
   "outputs": [],
   "source": []
  }
 ],
 "metadata": {
  "kernelspec": {
   "display_name": "Python 3",
   "language": "python",
   "name": "python3"
  }
 },
 "nbformat": 4,
 "nbformat_minor": 0
}