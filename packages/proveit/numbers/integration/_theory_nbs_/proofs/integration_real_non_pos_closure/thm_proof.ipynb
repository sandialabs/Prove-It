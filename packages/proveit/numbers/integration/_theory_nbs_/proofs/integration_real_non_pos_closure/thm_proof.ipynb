{
 "cells": [
  {
   "cell_type": "markdown",
   "metadata": {},
   "source": [
    "Proof of <a class=\"ProveItLink\" href=\"../../../../../_theory_nbs_/theory.ipynb\">proveit</a>.<a class=\"ProveItLink\" href=\"../../../../_theory_nbs_/theory.ipynb\">numbers</a>.<a class=\"ProveItLink\" href=\"../../theory.ipynb\">integration</a>.<a class=\"ProveItLink\" href=\"../../theorems.ipynb#integration_real_non_pos_closure\">integration_real_non_pos_closure</a> theorem\n",
    "========"
   ]
  },
  {
   "cell_type": "code",
   "execution_count": 1,
   "metadata": {},
   "outputs": [],
   "source": [
    "import proveit\n",
    "theory = proveit.Theory() # the theorem's theory"
   ]
  },
  {
   "cell_type": "code",
   "execution_count": 2,
   "metadata": {},
   "outputs": [
    {
     "data": {
      "text/html": [
       "With these <a href=\"allowed_presumptions.txt\">allowed</a>/<a href=\"disallowed_presumptions.txt\">disallowed</a> theorem/theory presumptions (e.g., to avoid circular dependencies), we begin our proof of<br><strong id=\"integration_real_non_pos_closure\">integration_real_non_pos_closure:</strong> <a class=\"ProveItLink\" href=\"../../../__pv_it/theorems/c89db2536f0f3afe0fdd2a4e3a45558a1f2f0ce30/expr.ipynb\"><img src=\"data:image/png;base64,iVBORw0KGgoAAAANSUhEUgAAA8oAAAA2BAMAAADt+X34AAAAMFBMVEX///8AAAAAAAAAAAAAAAAA\n",
       "AAAAAAAAAAAAAAAAAAAAAAAAAAAAAAAAAAAAAAAAAAAv3aB7AAAAD3RSTlMAq1RmmUTNIjK7EInv\n",
       "3XZ/CtNrAAAACXBIWXMAAA7EAAAOxAGVKw4bAAAMBUlEQVR42u2cfYwUZx3Hf/t2Ozd7u7eNJpaW\n",
       "1muK5BQLa3nRrQbWAJZYS6/0H1uacFGTxlZkSRoMQmA1jWnt2du2IfRaK2NLTDkS3mpt6kVcMRWR\n",
       "SGkK2BJWFqEqrRy0gBxnYH3e53lmdmYHZ3q5HXn+2N8zs88zO9/n87z8nueZHYCmQR8cNOD/NAwO\n",
       "Drb8/XjLk67XC+4pngklYazqaP3cuLqnDfWLzVvls6r1kgdR7mmSIJILI2Si6uC4u6188yQ/MVTr\n",
       "JU9zyteHsikTVRLl62utQjm6X7WBUI71hhEyVWVSjrx7tlUow3aLDYLy6mIYKVNVJuX+l15vGcrp\n",
       "nGqDoPzXUHbYVJVJeULrjMsQ/ZNqA6Acq4Syw65YKF9uIcrwLdUGQLljWxgpM1WCcmKklSgvKSo2\n",
       "AMqnjTBSZqoE5fiZVqLcllVsAJTfDOWwzFQJyuneVqIcHVWsf8raSBghc1WC8tZCK1HWLyvWP+VI\n",
       "KJ0vrkpQnpZrJcrwvGL9U+7Ith7DTxdh6H3wokpQvqvUApRNXXOY+0Wtf8r9tJLfUA1ibSTWMyaQ\n",
       "axCrJcqAO+FT1S4XVSblozD+KXNdeIBh90+tf8qnKd1gnJNJY1JOSHlHCS7ASlKxci6qBGX90vin\n",
       "LHRJfRG1/in/FIKjrMtXSfq6lHPuk7jxrjVgF6r4jpSZKkE5+kEQ+oKQlG+uC4V2tlFBrX/KewKk\n",
       "3C6X+N98XSpRs5yYtWfD0j3o+n2kh+434C2Aw46U91gopwJZ+gpCUt6DLnS/bHpPbR5Ik765CeUI\n",
       "qc+NykM/xyk7p/EcVtMFiCG8IhH1uaR23HqivBzuzhsQfc6gpbEP4JgTZa5KUG477+tmApSU96AL\n",
       "qWL3S20e5mPzQBPKcdyc2xr5V9plTtk5jedwB/ncTqrlL3y2mzbDWhqroF1DdTqBiwP1bB8i38Rw\n",
       "oMxVCcqdo75uJkBJdsp2XaYAavPwA9zjl5tQxlehzoptleVDTtk5jedAK+Cue7GauX7d9YK9NOJF\n",
       "PLBoHy8yL6Ut50CZqxKU+/2tCgQoqRFlqy6zM6I2TypIqqvZuPwgsjsa/vKIGJcd03hecCINJkGb\n",
       "je/FFrbrlnm+esgsDVKdk9cYmVoCVcp4WaXcblhUCcpzyr5G1AAlccpuulDg3uIHlDJW2dbU+5ru\n",
       "5GBlLgjK0/06YRniEKbIZ9S3O/dNWsDfNcw6HxnMcm916AQ6n6molLWyRZWg/ElfQ2qQkhhlV10o\n",
       "8Af6LrKx/M/V6t6mlDuq1SMNhaZGBWXHNF5DBBdDbOKbuGOKoyvpw9c9LncOW469NOTa6ygZ6OMw\n",
       "KwypZ3tsctHWxpQe+4sWVYLy0S4/Pa2jJKtCe1A0bzcpu+pC4Q+yRXkWADzb4PLbFMrxktmdqd6j\n",
       "SdkxjeeJFGlKnWTCgIfMOByr3Sl9X8jcGN/v6srKGWaB6leWVy+99J5liBgRlO+s4nC0oKoSlOu+\n",
       "vEpHSVaF9qBonmVSdtWFQlW2KM9ySDZaii4olFGS5Ti+kXgQi4dnl3j7OyMo8zRXOGbtPP5P7kOS\n",
       "+1hLLp1GFfjzMMf4GOizeJMoxkYjOX3oGseqRDOw8FnLPL68ajp2ch8bQIExS563el+TuxRVnLJW\n",
       "99XTOkqih5u3X+fYDRDNsqQ8NNeFwhHZ5rHLkZKXPZIHXoEvZa2UUXN/Bcef/joeYGrQD3bKPI3n\n",
       "8MSEdQBTQeNFmia/OY0uzaEfLcFXcKpTvOVBHPcY4NyeaQbuFpM8aDyqvsNKo/1Fiz+t2yjr3+lp\n",
       "RDnzb1+UHSXRwwI4tmeqWZZEKbvrakA5WmtTyv2mlBE3bJSn0tpDerIOoEsglh6bp/G8VLCAOZ5Z\n",
       "pS3/RhQJ0Bn+LSJHB+r5OnuSLjva+8zo/YRaWarzWsEyNCVHrJRXvNqwx474+4eFi6R9ZAK5tuSY\n",
       "t6OmSqKU3XU16LGhd7ZS7jfXCin45bwD83pkym1k0femvbhH68yZK7Ip08emaTIn1tzOPVUzKjnS\n",
       "4iRdnToLUFQoPwm8e4PEBRiUi2RJUTdihgtlkmHGF4YLoiT3y/PKBZbpvHbBMi5XH1BVccppf89i\n",
       "O0sih7e5USaa5z5xglcO1mO76mrgfcEONNGl1yHl3v2pNSnbuAypyXg0jJEqlKk/bUIz58s0zT8i\n",
       "5W+w76SoGcRJVh1PXxSNKVI2m2N7DfR1kQp2ArE2/OObeiZCis5LdHtpoBQ0gz7z97BbFMewXBqb\n",
       "Mjl3H/teiypOudPfAzFOkvghbux2Z0MXml+8P9dRZJIYZVddKPxOtjjPatSEyHVouXenXlhsp5wk\n",
       "yeP07At3ZRusitA0ufZaCVaSe8bRxNT56s+T70kR0zvTJ4ntHjx9JR4RRpmF6MjGSqKLFImOx8Vp\n",
       "P/4aLALy95+tvewcjogjmiG5pZcMLHS5tE1MQ8oPI6LrVN/GMl9O9jqsivT7erbPURI/1A5TNUKS\n",
       "iFDN3/87dBpMEqPsqguFc7LFeSKo1Ml1aLl3Q+GknTJcS6pjjjabhFAdPS/5fCRNZxG0W2jNRNEO\n",
       "2GqdVrAOOvbtgYGncIVdoiwRRemlNdRgF9Ym3cr6qSq64Mbh6FykLYkGoTTeTTrAHTbygVKwDJFa\n",
       "oiIA6RPuY7OQPRvWw8AyZd4bz1rWvkoWVZzyNF8LGo6S+CFuFFihKYlEDgvNN1Iv46BJ2VUX+vo/\n",
       "shWrovg6tNy7YXObbb7MXQFcDKj2mQvf2lmrZ9+Hxtm0waNJ9KEGdDI2/9ZtoJFfWCSvfb/OSh6H\n",
       "t8VZXCRRs0N7GL4H8Bl7URrmTcYLJUiykSvxGlsJbLT8b1nHTlpVccq/9bXa00xSspAsygp5MEX+\n",
       "EeZpQCVxYm667LsV0nVouXdDYqpt7YuFrQZsxjcdKVq7Bk45WfkV6gYQZX0bjcI6FEW52Ac5GT2J\n",
       "vQfiGH4Z4BPiWqhHuol3RTOUIkmZJJ559KtyHRRuoDk7hfQPSxD3sAfquCcFlp3HDX6eVGoqaeWj\n",
       "jxjSoX1hKnkG3u4GKsnb0318u4XavHIdUu4z6b5rQ8p9eLc6/sgdr5rfHrK05YWLhw1MWdtFo/ES\n",
       "jvYVtd34g528Fo+AK3HHsGDeUFG+/Dt8e66dn161bCfAFrM7qdfPgF6zLwWK2N2Qednb7tjnwIny\n",
       "IZXyG37W9JpKeqNelw9FrytEJrLwfo5J8kaZL8RTm1eug8tdO1Q0Z8NWyrg2WkaAidYem2RBpRKl\n",
       "0V9nRBREbH9mJmrtrw1YnIZIF8zmcy9d2QWyUM3YdVm5r/dQFn9xpDxRoezvqS9vkuz11iZyvXfK\n",
       "fFkncsaex17uKuWnkHuVsFTrOYadsvavHQDUO2irX+JRHGhMz0ZfbrjbIF9lja/JS8bDwrPLc19M\n",
       "FaOcCOSpr2AkeaPcUZbtlT33tRMVS8zybX9Xg7ZMpkyNok0GyykwlsHlGU6milGOjY8/qIN3ymtr\n",
       "sg3sqfulLfQ8Ng/Ii4NTR3Iuqhjl+IVWoxz0U/fxCoQwcFWUcrrSapRvUKx/yonzYaTMVVHKndlW\n",
       "o3xZsQH8s/VAGClzVZRy///w/LG0Bz/2lGOjig2A8hwjjJSZKkr59BX5HNqxgR5lD37sKaezir36\n",
       "xgl3VQeVUc5bmIfbsLwHP/aUg3/jRGw0jJSZKkp5r7pXPnz7CXvjFifpLqC8Bz/2lJ9UbRBvgnoo\n",
       "lAPzQyZlvFcm7ZVnihPMfT+wndxEj6U9+DGnzJ7/FjYIyn2hfKtbH3+rW6o3klW2zWPwMw0WnVBL\n",
       "hZwk4R5qpD34Maec7lJtEJQz5TBSpqoO4ueH+zBcadsc/0mlolsfLOArJ7MGBga6lD34Maf8Ubyh\n",
       "MeRvW9UXkq1RadtcqyShqFlWSvDJGfdMAXic9JVdTf589lFSTvSq1hvl25q8Bd0+SoUhEFVvsTeI\n",
       "i21z2AyrU71x1MR7zE1zfnJqOc3+bKXuwQcXBgdPNk/0I0OxnvJcfQs6DnzbHO+vv7vzPfKXlL4u\n",
       "umm+m5+MlFbgxxwwZWUPPrjg6S3oD6rW21vQrwZR33HjoB1XyqjJW+00lobj96HWPjDQc7WsWjaQ\n",
       "bfME7QaX1ffzKIiTP4cpuavFFIrlkkbR2Di/6f8CRUQUeUaRf6MAAAAASUVORK5CYII=\n",
       "\" style=\"display:inline;vertical-align:middle;\" /></a><br>(see <a class=\"ProveItLink\" href=\"../../../__pv_it/theorems/117731788184d00e73f04437d1ee9fc64b2f59660/dependencies.ipynb\">dependencies</a>)<br>"
      ],
      "text/plain": [
       "<IPython.core.display.HTML object>"
      ]
     },
     "metadata": {},
     "output_type": "display_data"
    }
   ],
   "source": [
    "%proving integration_real_non_pos_closure"
   ]
  },
  {
   "cell_type": "code",
   "execution_count": null,
   "metadata": {},
   "outputs": [],
   "source": []
  }
 ],
 "metadata": {
  "kernelspec": {
   "display_name": "Python 3",
   "language": "python",
   "name": "python3"
  }
 },
 "nbformat": 4,
 "nbformat_minor": 0
}