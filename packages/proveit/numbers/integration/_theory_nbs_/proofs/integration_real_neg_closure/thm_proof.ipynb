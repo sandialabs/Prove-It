{
 "cells": [
  {
   "cell_type": "markdown",
   "metadata": {},
   "source": [
    "Proof of <a class=\"ProveItLink\" href=\"../../../../../_theory_nbs_/theory.ipynb\">proveit</a>.<a class=\"ProveItLink\" href=\"../../../../_theory_nbs_/theory.ipynb\">numbers</a>.<a class=\"ProveItLink\" href=\"../../theory.ipynb\">integration</a>.<a class=\"ProveItLink\" href=\"../../theorems.ipynb#integration_real_neg_closure\">integration_real_neg_closure</a> theorem\n",
    "========"
   ]
  },
  {
   "cell_type": "code",
   "execution_count": 1,
   "metadata": {},
   "outputs": [],
   "source": [
    "import proveit\n",
    "theory = proveit.Theory() # the theorem's theory"
   ]
  },
  {
   "cell_type": "code",
   "execution_count": 2,
   "metadata": {},
   "outputs": [
    {
     "data": {
      "text/html": [
       "With these <a href=\"allowed_presumptions.txt\">allowed</a>/<a href=\"disallowed_presumptions.txt\">disallowed</a> theorem/theory presumptions (e.g., to avoid circular dependencies), we begin our proof of<br><strong id=\"integration_real_neg_closure\">integration_real_neg_closure:</strong> <a class=\"ProveItLink\" href=\"../../../__pv_it/theorems/f0e06ff7e628541879c72a17567c46c605c5e76c0/expr.ipynb\"><img src=\"data:image/png;base64,iVBORw0KGgoAAAANSUhEUgAAA7kAAAA2BAMAAADwh0NjAAAAMFBMVEX///8AAAAAAAAAAAAAAAAA\n",
       "AAAAAAAAAAAAAAAAAAAAAAAAAAAAAAAAAAAAAAAAAAAv3aB7AAAAD3RSTlMAq1RmmUTNIjK7EInv\n",
       "3XZ/CtNrAAAACXBIWXMAAA7EAAAOxAGVKw4bAAAL/ElEQVR42u2cf4wU5RnHn/09u3u7t6Z/1B+I\n",
       "S6TkUgW28qPVNLAN0BJp5bRJ0xbTu9YmTSWUJTE2FIrXxjRST1k1RNZonQghBRLuwEpjiXi1ofRq\n",
       "ag9Lr0pYu1RTa1sOEE/Os7J93/d535l3fu3OOeOGHXn/2Hl37p255/t+3h/P+z6zA9A0pXbvVuHj\n",
       "ly422VO1x2X5TL1ebFxiW+DQbnMju7UpWa+XG+N8DI+7VHflOd3uJgVChaDBpYqaym55ijSh9QBi\n",
       "VY67LO+O7lWB67pXGWWHDrUF3fAIHmf7STfSGzS4TJEke3pPoR3owj48pHM+0t1YChpdpkiXrUz2\n",
       "d7cF3QxvhH/xke5rgRuYXzPKDpUvDrOa0gr/EY/Xq77RjQwFbmAeMsrurLUJXfguHuJF3+h2DAaN\n",
       "LirSZff0tQvdHpwkY+d9o3s6cFsdqEiXvRLahW6c+1Pf9o3u0cBNu0dNskfbhm54Eo9zVZ/oKhNB\n",
       "g8sVabJT77QN3dQFPA7UfKIbCpxTxRVpssPn2oYuPIGH5IhPdDtygXOqckbZ0Yn2obsY3arIeZ/o\n",
       "bsEV9NVVP/Y0Ii3bNaBrhlPVfANFmuzMmfahO4C2p875RPc0Uu31xf6ZLaup9Ux+oYEiTfbASPvQ\n",
       "FSPpb32i+zj4Rzcl3yXh6VbNro7UHOk+bpI915e5p+T9ahe0kiPS/OsD3WEf6Sbl2v6Hp1vFaqYT\n",
       "C4efXDMs3f+4I91hk+znaz5Iy+Y9Xf4tW1pmTQBpPos8z8uzhnltE7oh5jva1YVYLvQ2KOM6bUQv\n",
       "5iBdrYU9boG9bj5RXge33qjvvJx0oisUaXTXenMGUM51HhtHwbYvmjSRIuPcu+rG8svol+81oRul\n",
       "heN2g4tyQdB1LuM6rWCf+/ppO9/psbPEVXNNbICkkoPNFZKIlQOqA12hSKNbVz0ZwuSkvI5td9rT\n",
       "NWrSjd9Sw/I/oZNUuQldJSccEcvuyNuCrnMZ1wkb3gvfoNW5xKsLUrTWRLSkV3K84EBXKBJ0lf95\n",
       "M4TJiXoNEM93oitr0geegSKWp208nW8279Kms9+2Eie0edexjOtNIraPFsPdNM+bJDwaln2iOqrX\n",
       "hF4/0bKR7mNmRYJu5D1vDgCT0+F5Ea5KdJ00kXQWD505pEsVxpt6VfOcHKfseY3uPK/OVZY5fGn2\n",
       "Gfbspt2BlfsDVW/nod26+5sdMtLdbFYk6Ibe92QGypnlVQ0bajhHR00k8abYWeZ9/U/V6otN6XZU\n",
       "qyds3Zz0pEbXsYzbFKJEI9OO0lElSu6UGrvyfnkw2HvylwcbjjKGC/AxlLtVaRTbPKtk6FMy3cig\n",
       "SZGgm3nb0wSBclZYzTersyb5Avo0jaDrqImk3/Ou3svpLpdGJSkNGuhG+yBp61xEdbqOZVwviJj1\n",
       "GCunbTUKJ2tfkfeXstOjDXcWDBcsBKO/WN645oN/S9PAhKAbrbL0jkmRoNt53lOnQzl3WM03q7PZ\n",
       "T5MuiPTqdB01kVTlxo9wuusgkXPYqtNlkiLraH4Hc3ZWjS3qE/3tjEZXlJnivHTo9X+J0YfZcQ+7\n",
       "dYY02s/CYvUTkFooBJYik6FC6uBljk0IL+DpetM6vLxhnuyHJ8ZNXlX4O0ZFgu4WbxuRKOdlYT5s\n",
       "7zUYu2fflY7dHi/g1g3pdB01kXSCGz/E6SbVtLygSxx7Bj6fM9Ml3fsZmn/k6/Q/1WALWOmKMq7T\n",
       "g1dsBZgDiqi+DPufc3FoIf+0D75IS50SvQ2idIQA5/6LF/DETFTIvFN9lddEcrtEM2WmCzsP29I9\n",
       "7c0DQDmHhfnK2IjB2CI49l+8QHw5o9F11mRDN1yLG+p7RlqNqha6c7DFCAcwZDMyizKul/nLuW+c\n",
       "M/Td5zS6AC/Rj9m640hGuc7uRIOYzUt69nbGsCy1c6UoTUGJCRPdxOqS7ch8TdET3ecEXTRfe+iY\n",
       "GzvOO7e9o6zvksX0vuusyWZkht5Fhvq+tlZMw6+WHlvaLdONs43ZGS/SWb6zoG/jpnWfGctk39j0\n",
       "JeF96lnJMdZO4m7SOX0LFuk+BGJkps8H7Zbp9pRSakRtQJddMP9zY0WtUYzIa8Pl0nJcOW+ad0dL\n",
       "RkWC7t+9LVVRzsvCfIkuM/amRnSZ3iUPvsEbhRiZHTXZeFWwnyxU8R6svrs+tSltmXchPUvV1tPZ\n",
       "+iM6LH29i2XeDJX5BCZn9aSd5E3w9Hta7eGTpdj9kjVIbQ0NUeeOYqL/fFf3NEjjGiNlrQlSAi9I\n",
       "LfgdHCEnbmSnx+Sa2JUtOPrMsbJJkaBb7/NEF+X8QjOf0dWMxc5tdSRSmt7ttxc6Sljzgq6jJuDB\n",
       "IR4rYuU3khy7B9Z3V/qpVVa6CXZZFM8+tTJns5uBZQrJWh+sZ/bSbGzOMqPd7O+sOnkocuZZeQnK\n",
       "vB1cAYQndgzF8oxu6l06g/38y3AbsJ/LDPTyczSjfcMLEnt72QSC25pxbQ1SvovQ3Kr7LKb17t0O\n",
       "uxlK3RNcLmefZj6lqxvLfvWjKWEZ7Rte8KN/QqeKK0RB11ETSdzz7ywKuiFS2+weWN9dUHzLShcu\n",
       "Zz2qgN0kpvmR4XHJj2NlOkugzMbWSLIdMGBeIvARMPL9SuVh2kh7DNs6Yby1QjroLbWZN/Ahtkpu\n",
       "uGMsvIToSpCJJkMjPMeEI8Y+SAl+QahGJyn4KzaeK77JF0jDTz4KlbVaxURzRrrbzIo43fC7nuhy\n",
       "OQ9o5rO+qxvLOgJVx0RQSajruHbBdOZBUGsEXUdN5E9862Vg0LBzSe+B9d0Fe+KW9a6Y5mm3Iy1O\n",
       "35hWzpm99H4yj2ZUkU2QD2MiJyPLbhgEhf2H2+S96cO81ml6RTtL6Yb1wesu+CHAp63VqOpGRot9\n",
       "kOCzU+zZ6qjj5o9Et2RWxGWnvW1VcTkZbXhndHVjE8VESVYnki7wD7BUAfixTMtJkzWKIN0D67sL\n",
       "YnMse1U8DaiwhxocKpmHAkE3MXSAdHtCNzWIWdhKsuQq/sFOht+ingFz9r4A8EntXmQwnSGGnfkG\n",
       "uml9qNt2381y29PcO32FCZmf9jXdt3eMEYExApgc9wJXyNFjGoyubuz6++5Vpa/WzaTEGXilC4Mq\n",
       "LqLxIgQyNy+Xx3uw+l6AsU9buqQf9uej9674tf7XUVPfvWXVmErpKi9gNtpHs/0l5Qj94CcvT5Dy\n",
       "62l7Xr70YEm+/atidZ4UpzesPQSwVx8+6vUzkKpZt+203K2Qfbp5tOoz4ER31CC7Y9ILXU3Oo6Ki\n",
       "D7xfk439c70uf9VGWE1gLAf/KeBg6YKu2CRnTw/pfZ3dg9a3QlYGISe6tEOZdnqnmUdmdgnpGGHM\n",
       "/iarZUHLjWQXkN79bGWraaM5D4vEGiplkGKimbXqMvN+tEk9/M2R7jSDbG9PVWlydjUy1tpWzQKT\n",
       "JXd0xVbMNWAtb61vI92HidsUM80Ri1UrXeW/+wFw5o/XPxBZmjCXyoWfto0CyHfZ5Gm+yzZ5jKDB\n",
       "c1VcEZfd488TvYmap8vfBHd0O3iRYZflZbqHiIkR01+35G36Llv62GWbTIbXQatSg2ciuSIue/HF\n",
       "89oIF7TuwUaUuPAh6Nq2Fmzba9rseWbimcGpE4UGirjslaV2ouv30+rRIQhY4oq47BPQTnSv5tOv\n",
       "X780iY0HjS5XxGWfbSu6fLmLQWU/fuF5LGh0uSKUrXyYn4hJ8e/W0o1Myo6hH3QXq0Gji4pQdnZq\n",
       "T2YoJyvdhvh3a+lmuIN/FPyiG+w3K4SmttxdSvusHP9uLV3/36wQmQwaXVSEsilp9yFrjMbJ8e/W\n",
       "0n2I733kfKMLqwM38a7WZfeoUwhZ8x0pOf7dUrr8UXBmtF90+wP3NrJ+8TayA3AZTCFkDV/FgxT/\n",
       "bindDO7D4JMgPtHNloNGlymisisK+0WD25A1LKxUKnlD/LuldD+KNwkG+C2gO04ybm5D1nA/Gx/z\n",
       "TX6Y9VHRjfXi8WswFbo3NXmNs/4kSFASVaTJtgtZ6wFrQ8iaPa1vjH/7llK79zah9TO0V7nTZXmk\n",
       "+3F/+7ZNyBr68xiwPmIIWSdoTRjj376l5m/fRqqwU3VX/lKS2rhqCFnrYW45ZA17KpXuS3XVdskc\n",
       "so5pk1XjkPWl1DZJ/smg3cmLLv0fGKb01rBDC9sAAAAASUVORK5CYII=\n",
       "\" style=\"display:inline;vertical-align:middle;\" /></a><br>(see <a class=\"ProveItLink\" href=\"../../../__pv_it/theorems/c4e03002c96abf7c6d0da57777af423b5f620a860/dependencies.ipynb\">dependencies</a>)<br>"
      ],
      "text/plain": [
       "<IPython.core.display.HTML object>"
      ]
     },
     "metadata": {},
     "output_type": "display_data"
    }
   ],
   "source": [
    "%proving integration_real_neg_closure"
   ]
  },
  {
   "cell_type": "code",
   "execution_count": null,
   "metadata": {},
   "outputs": [],
   "source": []
  }
 ],
 "metadata": {
  "kernelspec": {
   "display_name": "Python 3",
   "language": "python",
   "name": "python3"
  }
 },
 "nbformat": 4,
 "nbformat_minor": 0
}