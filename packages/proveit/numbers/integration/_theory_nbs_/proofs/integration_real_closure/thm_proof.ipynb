{
 "cells": [
  {
   "cell_type": "markdown",
   "metadata": {},
   "source": [
    "Proof of <a class=\"ProveItLink\" href=\"../../../../../_theory_nbs_/theory.ipynb\">proveit</a>.<a class=\"ProveItLink\" href=\"../../../../_theory_nbs_/theory.ipynb\">numbers</a>.<a class=\"ProveItLink\" href=\"../../theory.ipynb\">integration</a>.<a class=\"ProveItLink\" href=\"../../theorems.ipynb#integration_real_closure\">integration_real_closure</a> theorem\n",
    "========"
   ]
  },
  {
   "cell_type": "code",
   "execution_count": 1,
   "metadata": {},
   "outputs": [],
   "source": [
    "import proveit\n",
    "theory = proveit.Theory() # the theorem's theory"
   ]
  },
  {
   "cell_type": "code",
   "execution_count": 2,
   "metadata": {},
   "outputs": [
    {
     "data": {
      "text/html": [
       "With these <a href=\"allowed_presumptions.txt\">allowed</a>/<a href=\"disallowed_presumptions.txt\">disallowed</a> theorem/theory presumptions (e.g., to avoid circular dependencies), we begin our proof of<br><strong id=\"integration_real_closure\">integration_real_closure:</strong> <a class=\"ProveItLink\" href=\"../../../__pv_it/theorems/736d1d46700bb1ae131485985fc70657378b28e60/expr.ipynb\"><img src=\"data:image/png;base64,iVBORw0KGgoAAAANSUhEUgAAA5UAAAA2BAMAAACl5qA9AAAAMFBMVEX///8AAAAAAAAAAAAAAAAA\n",
       "AAAAAAAAAAAAAAAAAAAAAAAAAAAAAAAAAAAAAAAAAAAv3aB7AAAAD3RSTlMAq1RmmUTNIjK7EInv\n",
       "3XZ/CtNrAAAACXBIWXMAAA7EAAAOxAGVKw4bAAAMMklEQVR42u2cDYwUVx3A//t1Mzv7cdtgIiDC\n",
       "NbYNKS23lg+VNNw2gBCp5aRJo0K8FU0aqZFtYjAowtoQrfYKKwTpkdIMLSHCJdxRBNMS4IppayWt\n",
       "14qkJWy7CFqp4Ti+4VDW9zVv3nzd3DFzl70p/8Ds/7178/b95/c+/u9jFsBVlJ07VfiUSK3ZOuDy\n",
       "DDBhqlrN9Z/iuUBwjBcHYuswl6laLdn/ZQdFp2x2S2hk2eySIJQNBMtRA7F12CXigEg+Tj+fVV0S\n",
       "Do7l5wKBMtRptDV0sKZZwv30I9ztJ8tIPhAsp5tsHd+SrWmWiQz93O0ny5WFIKCU3jTaKve1Ntc0\n",
       "S/gbw5P1keWHgWiWqYrR1lCpNsrljOg+OlKG/+Ify0hXIFg+aLK1vlLrLOuYx/19/1gmOwPB8ojJ\n",
       "1pZirbOMXWUlLfjG8lwgFhLSfSZbF0Cts4TvsvaZ8Y3lu8EYLjMmW4/VPstGNmD2+cVSvhYIluuK\n",
       "RluVS7XPsoMO6cpNv1iGguH6jDPZGr5Y+yzjbJlgi18sk5lAsHzNZGv0Wu2zjDDnp6ngE8t1gViM\n",
       "lS+abE311j5LhRW6I+sTy3OBWPVJXzXZ2tFd+yy1zoR2jT6wfJ5cz77vQ7ElB91bTuZ426LGu0y2\n",
       "NvoydBS8390foi3iuOkDy7fIda8flv/DQR+8xCqmyv3DtisnNrB4u7ImSyZbD1X8aO0Nnm7/jh0i\n",
       "zRRSSPqR6GUJSf37ggvLEHHt7EZG5rvvHUA+bhImC0jR/SrXb11OmdudlImN2kzj7Vh25Ewsl3lb\n",
       "WJ//Kr5O8lgVsnbNTTMFOz20kJHLjOUc/Pm4C8sovqnOrseQbzKW7vm4yXZy3d3awPVblzrV/AA6\n",
       "ofQLGm/Hcl3FxLKqevn6xOjDuJ7nPVqx1J4lNUUvNWWAEuJYqeTCUsatboVtY7rAWLrn4yazyPXw\n",
       "t1Sue/AYctYHMLeOxtuxbGwwspT/6+nrk3fjhhP16uJPdWKJTdF7E9o3ooS4piYa3MZLXENetn1o\n",
       "1xhL93zchLgfsT5d9yJsIyi9pXyMP4A4jRdYbtaUpqKRZeS6p29vIa066dWIpCqwPFMu5w2mANQz\n",
       "B+08YxlBlafO1feZgj7z/TjzeweQj9twSfJPdOu6F/ke9YF+pOqVeexWGi+w/LV5ZqWxDN3w9O0H\n",
       "yPUer0bUZXWWj30CJlMQS/a365qT9Ha5fMSVZbJcPmHrjiT6ND/WNR8XieL8I+PezTFd6Rn7jNAV\n",
       "mIJ2bpiYgp6cWK7qD0Be/ziNF1hGNJsOqUaWqQteTPni258hDhD6v+vk7/cLvZUpaCNiCnwMhLGU\n",
       "loLZFESFVfk3NJbzhK5GkE4Dy2gR4rbeQJSzdMhnUJVQ2wLGehROVr4ufJExaFcUMQU5vaP7YnHp\n",
       "jY8+VGk8YRktE9FW0BeYWNZf9dSgbvK+IZceHxWWHUxBGxFTRPKcpe54clNQaVnCssbySZDs5sU5\n",
       "A0uU5EmsbyNOyaKemWx8gVCvxtIhHxfRs0qR2ri6qOlfgiZ1FCjTWUIabN891jErmoLJfeSa1x/A\n",
       "nhl5Fi/6PuEl9HOCaS69ztMSnkSdiPfQAy5E+kJZeIkVhAaV/Xc4esnsBla6Lp0lWExBpWVuxQmN\n",
       "ZVxNiHMp6eheeDBjZomaHHkEG76Jv6IC68DC0pSPq8gn25rFrJLk7kauF+GrSFt7lv2ZBnPg3DZp\n",
       "Cm2SQb4C9fvlD1jHtHkKizf4sdtft2V5ztOAHaYPBWUtQxTlJPewBkSDUXBumzSFFujlLFtxL1Iy\n",
       "mGLDMlzRma8dsxHuTKhR1cJyMq3jfcw/C1n7WDGfgcjsojEryvKAoL+DL/fzG3DwMmu49vKOri4m\n",
       "I2hJGGTWkEFisZGl9ETBto+dkPM0vezWWCJT8KDBD7GSYH2z1M8uTFJfcYrp7XIHWEyx6WMhP5OD\n",
       "mYfXbiq5BPxh9tHZzSLLugj+ijuP4I6wPqsveCau8jU8kk/P3NNazy6ouvDINB0e9axoH/tbXY9d\n",
       "hZ0CSxKc0R9LkmLql3tyvAp0Cw8g+qsSjRfHy2OshIdMfuxHnqaG8YzWx+LTOIoqsMTBiNofS5Ji\n",
       "1trTrAowlimwmGLj+8DLyEWiN5OVr4l3r0pYxktI3KPyiWu6ukGfk1zjLHE+6cKYOuaFCaowheGR\n",
       "tKIJWcUretNCurIx1IUdMAwFfbUWxA1XsbqwoKVQpv0J8EnXr9CaIzwApXSKxgvtMqY13HOm+WW1\n",
       "6GleSJvWC8jK5nGQoFBwGVkQN1yrEdhMluKlxdlkgT5uxjJdsZii7x2/xlmuRDHkZtolTUy8uMjK\n",
       "UiLpozT2xQUZy1oBzScCL8ggEX+WqAtPG8dQEknkUTBlRc5hS5c1PXxtW1esgbBUrgAP4tcoOvI0\n",
       "zqjQFNKuPBkI5lOPoYE/gBxMiTeTeIHlcoe1ArnqyY1d3azNixp/8zAspCxxGVkQvwSCgzaW0BQ/\n",
       "/RfUq3Rqps0vl4DZFNSrMUiXOMsQsoPcHCMdy0TInbGyhNEknyytPzHu5oUvc5Yh8jxQn/sUe20F\n",
       "qV2K2SHUnP3pbW1tDWJWcrfuNSBdeaRy1wOssyyrPLgCmZjC+R/FJctpCophKUIVPMrA32l7HfNt\n",
       "bXPheiH+uwskXmDJX1BrbDawDF/xxJI6cPAs8vt7wrMaKEtcRhbElZ0YoRuQo2ZqKcaTAR+XRmO5\n",
       "daNqMgXVADpxVG4YN1TwzZEftLWtRyzb6yzzS63zwLhQ89AXXtmGPH8+chca/45ztSCbVuNw5NRH\n",
       "JwE8A+as8L5iNKPrVDDLMHfhpZyE+p57LU/vXqGI0VwRJDZAxV4pGw7U4XiBJR/PtdMRzNaEt2Wf\n",
       "h1hmvKMm46Vexh/DT+yM0M2EP8Ns1H/9XES0aEs5b78jwNfWhZvlTtouY5Mt6z5MOlRox887pDs1\n",
       "lwwsVybyUcKynamoM2gHpVO7kMjJpRTQpQdDVlORb6V1ilMNLBM8tOLpNapYz6wrG6sh9VTRcVkb\n",
       "x9utrWu9FbM1ftnLjCSzxLzAT1jyMkrPPf01OyN0M6VeeH8i3WHob4uZ7QjQ/Q2ekN5MxrlpACed\n",
       "WLaifw3RNfP/qP/1mIFl9J8HPyEsUTKizsOq/Ca0FvCFRoaKy7FBOLmYVbwAH2zXdSo/W3YQYBdP\n",
       "89cqGsmUisX30WO+Aek9Dns6bK/HjmUqb7A12eeBZWqz1n42aU93342KUMZktdprY4RgZiwD/8nS\n",
       "Lqs/lmwVma6J84T05hWoU5CRmx5yYombi8k3HWfsY4kc58kSakW8o4H516fQMNbe1mb0i5DrNXOu\n",
       "rgtiMjttXeE3R2xysH6TA0vtZCiz1dNpnwifiu3op4xWI8xm0grdH8sJ4nqNKaHySttG+7V1KuuR\n",
       "AxQzLT81kfAB8RDNWjQLZcmWVbuFO5i2FSbZdoGrHPTBS7rgHH/2dbvn32ewtcWfg6JSxdPtH4ML\n",
       "y7dYOy+5JbRhebCCZxWm8dd+2T9ip0agVkW+YLC1qXYOivaDSLrJXITKLbC0nRcH8azzgsJIYOn7\n",
       "WedoVyBYPmyw9QSMBJYhNqp/HnxiGbscCJYtzaKt50cES+11X9/eDSLLFiNfUjnBVvkWXgyKHTz1\n",
       "72Fm2aSKfpsfLJvUILCMiO/Spgd3qgDvFMJksts4rCzZm68p/96lDeA77qFBTS/JTiE+OZgZXpZD\n",
       "8I57pC8QLGn3Qm3F1VPYfU2fXjXXOlXlkXT/6aLXt0cGzZLtkrItX39+E+aJQLCs69RtbVENu68f\n",
       "h0pLrBN5LZItUZ27PjRzUmdE9BCudqLYH5atgXhrT+a/1bQP7jBsxEI2XinGJs8xpseR9FlShspd\n",
       "54eZ5XsMT4OPLNOlQDTMM5qtbTI59C5sxNYXIAkd5hkBq8J0p1BB7WR4WQ7Jb6gF7bcNt53ElISN\n",
       "WGiFgoT3iIzdERQicx7oBLpTuNB5b2aIWD7GPKD8oFjOcPmZWeuxnhEpS0Rb+Uas0il17cOnLDYK\n",
       "27AsMnwGnw4jHfFDAJ8dgjIpO3c5/eYoO8j+S9UloZHlp/G3gPlGrHwYHlnUo0K0iFW6DVvQIkdL\n",
       "qFXgnUKYN3v/ULgNzj/xu50xXOqW8LZQwX1smKqvprmqR3anp6kOO4W3pbYEb8QCPf1VV/2fpmKh\n",
       "mpIJ77n9lEaQZO3UmvwhnP8DyO/hLernwWEAAAAASUVORK5CYII=\n",
       "\" style=\"display:inline;vertical-align:middle;\" /></a><br>(see <a class=\"ProveItLink\" href=\"../../../__pv_it/theorems/916b54792cf3bbac270bcaf1a5dd65c77e86fffa0/dependencies.ipynb\">dependencies</a>)<br>"
      ],
      "text/plain": [
       "<IPython.core.display.HTML object>"
      ]
     },
     "metadata": {},
     "output_type": "display_data"
    }
   ],
   "source": [
    "%proving integration_real_closure"
   ]
  },
  {
   "cell_type": "code",
   "execution_count": null,
   "metadata": {},
   "outputs": [],
   "source": []
  }
 ],
 "metadata": {
  "kernelspec": {
   "display_name": "Python 3",
   "language": "python",
   "name": "python3"
  }
 },
 "nbformat": 4,
 "nbformat_minor": 0
}