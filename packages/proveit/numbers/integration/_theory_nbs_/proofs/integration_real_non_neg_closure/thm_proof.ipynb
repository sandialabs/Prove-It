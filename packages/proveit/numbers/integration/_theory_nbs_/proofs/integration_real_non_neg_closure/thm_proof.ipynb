{
 "cells": [
  {
   "cell_type": "markdown",
   "metadata": {},
   "source": [
    "Proof of <a class=\"ProveItLink\" href=\"../../../../../_theory_nbs_/theory.ipynb\">proveit</a>.<a class=\"ProveItLink\" href=\"../../../../_theory_nbs_/theory.ipynb\">numbers</a>.<a class=\"ProveItLink\" href=\"../../theory.ipynb\">integration</a>.<a class=\"ProveItLink\" href=\"../../theorems.ipynb#integration_real_non_neg_closure\">integration_real_non_neg_closure</a> theorem\n",
    "========"
   ]
  },
  {
   "cell_type": "code",
   "execution_count": 1,
   "metadata": {},
   "outputs": [],
   "source": [
    "import proveit\n",
    "theory = proveit.Theory() # the theorem's theory"
   ]
  },
  {
   "cell_type": "code",
   "execution_count": 2,
   "metadata": {},
   "outputs": [
    {
     "data": {
      "text/html": [
       "With these <a href=\"allowed_presumptions.txt\">allowed</a>/<a href=\"disallowed_presumptions.txt\">disallowed</a> theorem/theory presumptions (e.g., to avoid circular dependencies), we begin our proof of<br><strong id=\"integration_real_non_neg_closure\">integration_real_non_neg_closure:</strong> <a class=\"ProveItLink\" href=\"../../../__pv_it/theorems/e7356c65bd72d3e5fcb25f6eaa16453dfa7720730/expr.ipynb\"><img src=\"data:image/png;base64,iVBORw0KGgoAAAANSUhEUgAAA8oAAAA2BAMAAADt+X34AAAAMFBMVEX///8AAAAAAAAAAAAAAAAA\n",
       "AAAAAAAAAAAAAAAAAAAAAAAAAAAAAAAAAAAAAAAAAAAv3aB7AAAAD3RSTlMAq1RmmUTNIjK7EInv\n",
       "3XZ/CtNrAAAACXBIWXMAAA7EAAAOxAGVKw4bAAAMCklEQVR42u2cfYwUZx3Hf/t2uzd7u7fGP4SW\n",
       "1iVFchELa4HTrQ2sAYRYS6/0H1uacFGTxlZkSQgGIbCaxhR79rZtCL3GlmlLTDkS3mpt8CKemIpI\n",
       "pDQFbAkri1CVVg5aQI4zsD7v8zwzO7ODM1xuR54/9vfM7PPMzvf5PC+/53lmB6Bh0Pr7dfg/Df39\n",
       "/U1/P+7ypGq1gnOK5wNJGKs6Ubs4pu5pU+1K41b5gmrd5EGUuxokCOWCCJmoOjLmbivfOMnPdNW6\n",
       "ydOY8q2BbMpElUT51mqzUA4fUq0vlCPdQYRMVRmUQx9caBbKsNNk/aC8phhEylSVQbn3tbeahnIq\n",
       "p1o/KP81kB02VWVQHt884zKE/6RaHyhHBgPZYQ+aKF9rIsrwHdX6QLltRxApM1WCcmy4mSgvKSrW\n",
       "B8rn9CBSZqoE5ej5ZqLcklGsD5TfCeSwzFQJyqnuZqIcHlGsd8qJ4SBC5qoE5e2FZqKsXVOsd8qh\n",
       "QDpfXJWgPC3XTJThRcV6p9yWaS5+66magY/AjSpB+f7SGKes6prN3C9qvVPupZX8toofayORrhte\n",
       "StruLP6haqwMuBM+W8k6qDIon4AxTlnShQcYdv/Ueqd8jtL1xzmZNBrldAYpbyvBZVhFKlbOQZWg\n",
       "rF0d65QlXVJfRK13yj8H/yhr8lXini7llDtfhXU67EUV35YyUyUohz/2Q58fkvKNdaHQyjYqqPVO\n",
       "eb+PlFvlEv+bp0vFqqYTnfs3Ld3Prn9PsVeHdwGO2VLeb6Kc9GXpyw9JeRe60P2y6T21eSBN+o4G\n",
       "lEOkPtcrD+0ip2yfxnVYQxcgBvCKRNjjktop84nycnggT9Y6tm4AVBoHAU7aUeaqBOWWS55uxkdJ\n",
       "eRe6kCp2v9TmYR42jzagHMXNuaWef5W4xinbp3Ed7iWfO3uwH/ELj+2mRTeXxmpoTeA6vWIc4J7t\n",
       "E+Sb6DaUuSpBuX3E0834KMlK2arLEEBtHn6Ee/xyA8rkKqvqrrJ8winbp3EdaAXc+xBWM8eru16w\n",
       "lka0iAaW5eOAeyktORvKXJWg3OttVcBHSfUom3UZnRG1eVJBktlG4/JjyO6q+8vDYly2TeN6wYk0\n",
       "mBhtNp4XW9iuW/rFylGjNMrw8nxythpDlTJaVim36iZVgvLssqcR1UdJnLKTLhS4t/gxpYxVtjT0\n",
       "vqbbOVjpy4LydK9OWJo4hEnyGfbszn2bFvD3daPOh/ozwJ5nHDiNzqcHVcqJskmVoPxZT0Oqn5IY\n",
       "ZUddKPAH+q6wsfzPlcqBhpTbKpXjdYUmRwRl2zRuQwgXQ2TCO7hjiqIraUO3PCV3DttOvjbg2Oso\n",
       "GejjMCt1qWdbP7loaWNKj/0VkypB+UTWS09rK8ms0BoUzTsNyo66UPiDbFGeBQAv1Ln8DoVytGR0\n",
       "Z6r3aFC2TeN6IkWaUjuZMOAhMwonq/dJ3xfSt0cPObqycoZOUP3K8pqlVz80DRHDgvJ9FRxOFFRV\n",
       "gnLNk1dpK8ms0BoUzZ0GZUddKFRki/Ish3i9peiCQhklWY7jm4kHsXhoVom3v/OCMk9znWPWnlP/\n",
       "5D4kuY915NIpVIG/BLP1T4PWyZtEMTISymkDn7KtSjQDC18wzePLq6djJ3d9HwqMWfyS2fuanFVU\n",
       "ccqJmqee1lYSPdy68xbbboBoliXlobEuFI7LNo9djqS87BE//AbckzFTRs39DRx/7pt4gKlCL1gp\n",
       "8zSuw9PjNwBMhQQv0hT5zWl0aQ79aAm+hlOd5S0PorjHAPv2TDNwt5jkQeNR5X1WGq2vmvxpzUJZ\n",
       "+15XPcrpf3uibCuJHhbAtj1TzbIkStlZVx3K4WqLUu4Tk3pUt1CeSmsP6cnagC6BmHpsnsb1UsEC\n",
       "5nhmlLb8G1EkQGf4d4ocbajna++KO+xoHzSijxBqZanOJwqmoSk+bKa88s26PXbI2z8sHCQdJBPI\n",
       "dSXbvG1VVRKl7KyrTo8N3bOUcr+jWkjCL+centslU24hi74TD+AerT1nrMgmDR+bpkmfXjufe6pG\n",
       "VHKkxUm6OnUBoKhQfgZ49waxy9h1NIpkSVHTI7oDZZJhxpeHCqIkD8nzygWm6XzismlcrjyqquKU\n",
       "U96exbaXRA7vdqJMNM95+jSvHKzHdtRVx/uCXWiiS69Dyr3jc2uTlnEZkpPxaBghVShde86AZsyX\n",
       "aZp/hMrfYt9JUSOIk6w6nrsiGlOobDTH1ipoG0KD2AnE2vCPb+maAEk6L9GspYFS0AzazN/DPlEc\n",
       "Q3JpbEnnnH3sh0yqOOV2bw/E2Enih7ixW50NTWh+9ZFcW5FJYpQddaHwO9niPGtQEyLXoeXekXxl\n",
       "sZVynCSP0rOv3J+psypC0+RaqyVYRe4ZR2NT56k/T74nRUzvTJsktnvw9JV4RBhlBsLDmwdjWVIk\n",
       "Gh4Xp/30G7AIyN9/tnezczgijmiG+LZuMrDQ5dIWMQ0pr0BEN6i+jWm+HO+2WRXp9fRsn60kfpg4\n",
       "RtUISSJCNf/w79CuM0mMsqMuFC7KFucJoVIn16Hl3gGFM1bKMI5UxxxtNjGhOnxJ8vlImvYiJO6k\n",
       "NRNF22C7eVrBOujId/v6nsUVdomyRBSml06gBruwOuku1k9V0AU3D4XnIG1xNAil8G7SYe6wkQ+U\n",
       "gmUIVWODApA2/mE2C9m/aSP0LVPmvdGMae2rZFLFKU/ztKBhK4kf4kaBFRqSSOSY0Hw79TKOGJQd\n",
       "daGv/yNbsSqKr0PLvQO2tljmy9wVwMWAap+x8J24YPbse9A4m9J5NI4+1IBORubdtQMS5BcWyWvf\n",
       "b7GSx+E9cRYXSdjo0FbADwA+by1K3bjJaKEEcTZyxXazlcB6y/+mdey4WRWn/FtPqz2NJMUL8aKs\n",
       "kAdD5B9hbgKoJE7MSZd1t0K6Di33DohNtax9sbBdh634pkNFc9fAKccHf4W6AURZ20GjsAFFUS72\n",
       "QU6Gz2DvgTiGXwX4jLgW6pEm8q5ohlIkSYPE809+Xa6Dwg00ZqeQ+nEJoi72QG33pMC087jJy5NK\n",
       "DSWtevIJXTq0LkzFz8N7HUAluXu6j2+3UJtXrkPKfSbdd61LGbXLnmz0iXvfNL49amrLCxcP6Zhy\n",
       "Yi+NRks42lNM7MMf7OQ4PAKuwh3DgrkDRfny7/PtuVZ+evWyPQDbjO6kVjsPWtW6FChiD0D6dXe7\n",
       "Y18EO8pHVcpve1nTayjp7VpNPhS9rhAZy8BHOSbJHWW+EE9tXrkOLvfE0aIxGzZTxrXRNAJMMPfY\n",
       "JAsqlTCN/jotoiBih9IzUWvf3WdyGkJZmMXnXpqyC2SimrbqMnPf6KIs/mJLeYJC2dtTX+4kWeut\n",
       "ReRG95T5sk7ovDWPtdxVys8i9ypmqtazdSvlxL92AVDvoKV2lUdxoDEtE3697m6DfJW1niYvaRcL\n",
       "zw7PfTFVjHLMl6e+/JHkjnJbWbbX99zXHlQsEdO3vdk6bZlMmepFGwyWU2A0g8MznEwVoxwZG39Q\n",
       "B/eU11Vl69tT90ub5XlsKSAvDs4ezzmoYpSjl5uNst9P3UcHIYCBq6KUU4PNRvk2xXqnHLsURMpc\n",
       "FaXcnmk2ytcU68M/Ww8HkTJXRSn3/g/PH0t78KNPOTKiWB8oz9aDSJmpopTPXZfPkTjZ16XswY8+\n",
       "5VRGsTffOOGs6ogyyrkLc3EblvfgR5+y/2+ciIwEkTJTRSkfUPfKh+aftjZucZLuAsp78KNP+RnV\n",
       "+vEmqMcDOTA/blDGe2XSXnm6ON7Y9wPLyS30WNqDH3XK7PlvYf2g3BPIt7r18Le6JbtDGWXbPAIv\n",
       "JWDRabVUyEkSHqRG2oMfdcqprGr9oJwuB5EyVXUEPz/cg+FK2+b4TyqDmvnBAr5y0tnX15dV9uBH\n",
       "nfKNeENjwN+2qi0kW6PStnliMA7FhGmlBJ+c8eAUgKdIX5lt8OezG0k51q1ad5TvbvAWdOsoFYRA\n",
       "VL3L3iAuts1hK6xJdkdRE+8yNs35yanlFPuzlboH71/o7z/TONFPdMW6ynPzLeg48G1zvL/+wZ4P\n",
       "yV9SerJ003wfPxkqrcSPOWDKyh68f8HVW9AfU627t6DfDKK+48ZBO66kXpW32mksBaceRq29r6/r\n",
       "Zlk1bSDb5jHaDS6rHeJRECdfhim5m8UUiOWSetHIGL/p/wJd6hZri8w7MgAAAABJRU5ErkJggg==\n",
       "\" style=\"display:inline;vertical-align:middle;\" /></a><br>(see <a class=\"ProveItLink\" href=\"../../../__pv_it/theorems/aeb7677d159e09aa427b97037fe6757553f565380/dependencies.ipynb\">dependencies</a>)<br>"
      ],
      "text/plain": [
       "<IPython.core.display.HTML object>"
      ]
     },
     "metadata": {},
     "output_type": "display_data"
    }
   ],
   "source": [
    "%proving integration_real_non_neg_closure"
   ]
  },
  {
   "cell_type": "code",
   "execution_count": null,
   "metadata": {},
   "outputs": [],
   "source": []
  }
 ],
 "metadata": {
  "kernelspec": {
   "display_name": "Python 3",
   "language": "python",
   "name": "python3"
  }
 },
 "nbformat": 4,
 "nbformat_minor": 0
}