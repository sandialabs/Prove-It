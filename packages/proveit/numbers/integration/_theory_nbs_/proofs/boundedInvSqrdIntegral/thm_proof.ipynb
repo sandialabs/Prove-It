{
 "cells": [
  {
   "cell_type": "markdown",
   "metadata": {},
   "source": [
    "Proof of <a class=\"ProveItLink\" href=\"../../../../../_theory_nbs_/theory.ipynb\">proveit</a>.<a class=\"ProveItLink\" href=\"../../../../_theory_nbs_/theory.ipynb\">numbers</a>.<a class=\"ProveItLink\" href=\"../../theory.ipynb\">integration</a>.<a class=\"ProveItLink\" href=\"../../theorems.ipynb#boundedInvSqrdIntegral\">boundedInvSqrdIntegral</a> theorem\n",
    "========"
   ]
  },
  {
   "cell_type": "code",
   "execution_count": 1,
   "metadata": {},
   "outputs": [],
   "source": [
    "import proveit\n",
    "theory = proveit.Theory() # the theorem's theory"
   ]
  },
  {
   "cell_type": "code",
   "execution_count": 2,
   "metadata": {},
   "outputs": [
    {
     "data": {
      "text/html": [
       "With these <a href=\"allowed_presumptions.txt\">allowed</a>/<a href=\"disallowed_presumptions.txt\">disallowed</a> theorem/theory presumptions (e.g., to avoid circular dependencies), we begin our proof of<br><strong id=\"boundedInvSqrdIntegral\">boundedInvSqrdIntegral:</strong> <a class=\"ProveItLink\" href=\"../../../__pv_it/theorems/ee730de5cf003ff24e502158228c94877e00ce120/expr.ipynb\"><img src=\"data:image/png;base64,iVBORw0KGgoAAAANSUhEUgAAATEAAAA/BAMAAAB6NuKfAAAAMFBMVEX///8AAAAAAAAAAAAAAAAA\n",
       "AAAAAAAAAAAAAAAAAAAAAAAAAAAAAAAAAAAAAAAAAAAv3aB7AAAAD3RSTlMAq1RmmUTNIjK7EInv\n",
       "3XZ/CtNrAAAACXBIWXMAAA7EAAAOxAGVKw4bAAAGI0lEQVRo3q1YXWgcVRQ+2dnN/s8m4EsrNAEf\n",
       "RLBm8aFgHuoG0yqWNosVwfqQVEGtD3YLBX0oJgWpgpEs5qGuSrKFvGgsWSykEGkb4k9rxXZB0dIa\n",
       "swERNNps/prttkm8c2dnM2fm3ju5s/tB8iX73bn7zf075x6AuuCAhcUIveFelYTag9kJf9egyqE7\n",
       "hdkJwZx7VQqhbzDrOJXmPzAl7G6qbs68PZh1NAhe/dGsqD+xKoOBPsw6In38J6IJUX9iVQaHLVzx\n",
       "eXs79wnPqqg/sSoBoyNLh/9l/+Q/c0TY45E6OYumMdNFdhEGYVflnw/t66aNPdWVlm19dVpmrZg1\n",
       "7OiOX4EOfas9cNTuLMJaStWWkTottBYLEwTK/ckiGLt/3u7MW2R2VWnJUaVPs2XMdDLJxN5U0nxn\n",
       "viWRM44qC6WEWUOsAPDubeA7g+9FzjiqLIJFzDRM9bG+z4yulMhZV6oezmJpzLRncHLWFhc5Y6vS\n",
       "4TyHWcOvjs56m0TO2KosupKYLZuB4ywyKXLGVmVhnFamU8uz5OgsWBY5Y6uyWLOwdh6VHJ2piyJn\n",
       "bFUS/ruYaZwqOjrzLIucsVXZeL5s72wsj5pcYpwBgbuszoyWbFX2DrCOmW56tLWarx+2HwKhNUZf\n",
       "1ZaaSvt4qJaEdhEzffUCr/Wpb+GCvgg3hL0SdY/Gr9USAkqY6TZNcpsvgqIvwhnT4vPYDBD1pLZ4\n",
       "0zU4a1zFTN+Ym8j7ysZt4ejm4lN+sbUnaiP5MNxag7NIGbO2fu9zW4fzENWnerg6ruot+4sQVSFL\n",
       "rrGmsFnErI0Bf2c1JqBXj/YtxnCM/sHK+Yj60/T0j3V21nCP0/bYRZL3PgnI2cjPwHH2DMAndXYW\n",
       "5ZzgvsswnIVtlTCrnw9nXmYHY6IeAz83sIeNk0HgbKyIWTPJuZV9GYe9ANeQswa+s2A2XF2LAeM6\n",
       "tXO8402ToyA+9U+bKwNjk5i1q4o5OG1UoGdttyCwis+849XZjBntKqqnYNoAD2r2ZjNJNQzncxxn\n",
       "niFUGWA4m+eUhH6A0Aqok5bTmLkDqNqze/ODK+Snk+wdVYX2AtuZMogrAwxnLexLWWhdO2WDTVlL\n",
       "nGCdGlT9Squkje4+rw3X+mxW1eafOPsnEe7c37nH5Cx0bi4F6keWygBjB8ywc+XQIjT0PByL58zr\n",
       "jHPSUvUE2QCh3+j0qzfVxOf0NcL+obh1zM6mBlKBKWtlgOFsw3LFDn3dTL96CHYmErFDBasz8LzO\n",
       "dNZA+vEmAtpkBONKz0HqzPtp2rYDOqEf4JEJ7c/NygDDWcAarL3gpWnRmbn3dvQp+/B5xrldG2ok\n",
       "qTbR5eNt2pXJZFpVNfyczdl3MEt+vzhB12NHNToVMZMRuIO+5EIplvSX+N8tdjaWCraTAY9BpPUD\n",
       "Omaq76Xs5nlGnYVWYfALwiefBtisDEC0jJk8hUOAUlSyDGfDwqpKVY2kBg5mRyGafYKcb3SdwYRp\n",
       "g+ljdjmw0k5jzHZTZYCRBQVXbBXJcN723TN6rnF2WsMNjkrixlOPnYP+1sCBAvg/Jv+/8FduZK/V\n",
       "2fOPz+mrNmWqDIB3BTPKOuhgFph1quvCmGdR9bkdzWSsiV9QlG0vYbbdAkhu4WdE5vtCZ1j1cfM9\n",
       "kTPlHmZyWcdxmOQWx+Et25VrjZmLvMNUFXB2FiA7N3Mavc8CZmIFH7TbyAJ5/1lb3rHAy0V4KvtO\n",
       "KSqf3cFsK+Rcg8jGhq1Up6wzc5H9fFUeMxaG3/HFkp0SeUuM1EfLRbiqi4pLyjJUeCZUdvGkscjJ\n",
       "RbiqPIxlZXAAl1uM3MKaCuc5uQhPdYHeBGYVT5+RW1gwkOPkIjzVzbUuj7khbyRVurNDzAv7PCM4\n",
       "0VyEq8ojXMYcyRlJlb7N9jGf+ozxGc1FuKqLMtU65u6skVSJzpoF9+rW8aqZx6G5mlSJIkfJvSqx\n",
       "OVMmzgSuVpMqUTUk717dOsZyJh6ZTVWSKvGGjrtXJSpok5grSZUQl2pQt47QOmaJR9yoMvjXwlsY\n",
       "5rx7VQaViliVtxA3ku5VGfhWMTujuQZVCuMWdoJy1b0qh2ABsxNO9LlXJXfnDcxOeKUGVRJvW9jh\n",
       "RZJbUP8HcvkK+6Yg7/8AAAAASUVORK5CYII=\n",
       "\" style=\"display:inline;vertical-align:middle;\" /></a><br>(see <a class=\"ProveItLink\" href=\"../../../__pv_it/theorems/11ff32b4b25fff616917af340016a5596faabf350/dependencies.ipynb\">dependencies</a>)<br>"
      ],
      "text/plain": [
       "<IPython.core.display.HTML object>"
      ]
     },
     "metadata": {},
     "output_type": "display_data"
    }
   ],
   "source": [
    "%proving boundedInvSqrdIntegral"
   ]
  },
  {
   "cell_type": "code",
   "execution_count": null,
   "metadata": {},
   "outputs": [],
   "source": []
  }
 ],
 "metadata": {
  "kernelspec": {
   "display_name": "Python 3",
   "language": "python",
   "name": "python3"
  }
 },
 "nbformat": 4,
 "nbformat_minor": 0
}