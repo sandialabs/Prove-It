{
 "cells": [
  {
   "cell_type": "markdown",
   "metadata": {},
   "source": [
    "Proof of <a class=\"ProveItLink\" href=\"../../../../../_theory_nbs_/theory.ipynb\">proveit</a>.<a class=\"ProveItLink\" href=\"../../../../_theory_nbs_/theory.ipynb\">numbers</a>.<a class=\"ProveItLink\" href=\"../../theory.ipynb\">integration</a>.<a class=\"ProveItLink\" href=\"../../theorems.ipynb#integration_real_closure_simple\">integration_real_closure_simple</a> theorem\n",
    "========"
   ]
  },
  {
   "cell_type": "code",
   "execution_count": 1,
   "metadata": {},
   "outputs": [],
   "source": [
    "import proveit\n",
    "theory = proveit.Theory() # the theorem's theory"
   ]
  },
  {
   "cell_type": "code",
   "execution_count": 2,
   "metadata": {},
   "outputs": [
    {
     "data": {
      "text/html": [
       "With these <a href=\"allowed_presumptions.txt\">allowed</a>/<a href=\"disallowed_presumptions.txt\">disallowed</a> theorem/theory presumptions (e.g., to avoid circular dependencies), we begin our proof of<br><strong id=\"integration_real_closure_simple\">integration_real_closure_simple:</strong> <a class=\"ProveItLink\" href=\"../../../__pv_it/theorems/e1699e9d3c789c8c6423eb5bcf796ec3b213d8d40/expr.ipynb\"><img src=\"data:image/png;base64,iVBORw0KGgoAAAANSUhEUgAAAdAAAAAzBAMAAADV1ESrAAAAMFBMVEX///8AAAAAAAAAAAAAAAAA\n",
       "AAAAAAAAAAAAAAAAAAAAAAAAAAAAAAAAAAAAAAAAAAAv3aB7AAAAD3RSTlMAq1RmmUTNIjK7EInv\n",
       "3XZ/CtNrAAAACXBIWXMAAA7EAAAOxAGVKw4bAAAH5klEQVRo3s2afYhUVRTA73zPvHFmBwrK3Gok\n",
       "858+dvoyJHA33HLB1K0gMCMHC6Q16QkRLK26QQTl2o7FYiN+TCWiE6T5R1KibYLRKtZaKQVOO6ZS\n",
       "+seq7W6uG+52vz/e3Dvj5PD0gHOud+975/3uPe/cc88MADeS5PN5V64plY/cg0SmBiaGq75uy8Rl\n",
       "/R+sDaouJ56Ua5zY1LH/delMQ//anKrLyBT3FhSbkkCnFK8Z1NuvarP40q5xElMC1HNm6JpBwRcO\n",
       "bZQO2zVQYkqAdm8/eO2gsZSqjfK7e55LTAnQyTV4R4H3kKqN7tTrnuf2OkDHawEKXnZog0za5Roo\n",
       "NcVBA6M1AV1sq9og53OugVJTHNR/oSagwYSqDXLUvVeUmuKgsXRNQL1jqtZLeNQ1TmaKg+5sqgmo\n",
       "Na5qQ67iXixipjhoQ6omoGCTQ+sDRMK9WJRwgC7orA1oo61qrXS7l+gyUxx0ANQGdGdK1fpIiGch\n",
       "Xig/uSFN2zR9tul2520V1LpSgc2WDc6s7CplvXMj/oy2ljf5h6b9omPMjL4ty/tSpF97v41ABfVe\n",
       "LG80nqTbbVEHysxBidB8HmqMepfubn0U1DwCPRLe6f17c7yNnsPpKJkV4OmZOdyvBe1zgEaNUXLu\n",
       "1+jzHvbfU9oVpebQjeh+DPUTSC/VheZhCmocgWQbOR50JXkbSZvT8psgEk7gfh2oNewADY4YzEVv\n",
       "PYDG8102mNOCUnMwtaQ3gvot5OoZ3d42TkGNI5DMxp8HFuZ4G8nDpZb9dhr360DD4w7QOtMGP+lu\n",
       "VC7wc4/xNRlAsTlxZ6jRnESTOqf8m4IaRyDBG2BgTLTJ89Dk8WyhkOaWM7hfAo3kVFMCtNu0hS/G\n",
       "l0wSHYdkUKc54StQ++DsBLUHilEKahyBHhHfONov2sSjyJQ/d05MsSefwP0SaDijmhKgjSYH2oc/\n",
       "p4uOlyTQEnNQWFSD+kihcFgb2S6xqGsagZwIxR9f/dEm2rYGb1uzG16ErYTaJF96d7qN+2XXfUw1\n",
       "JUDvNJybHjhyM45I8N/nJ7fvTZLiAQUtNQeFFc6gbgFAWyaLjjFQ0wi+dHVF1vaDk8V5rDAS5Ptp\n",
       "pmP5lXOkYEJA5xWQDDQppgTogOlNGefL2BS/ww8daYYALTUH5TvA9QoQQvNvNaNnDuw/9RdbLA5K\n",
       "RwhZNDiLbvsx/ESrO1n7UdCYuwl6MX7HglJ0eAiHZNivBKPpSdmUAJ0wpBwh4uM/wSmzfWOocHiv\n",
       "BFpiDkpB6EgO2448gp72fhBmJ0HPBQZKR+DX6mS2FXiLoJtFHfyHBt7uBE/iYfjaLrRqGWI58mmK\n",
       "9Cug1qutkikOGp4whQQy8CAcAvzYa7oFaKk5KCcA194inoq6HA2ciRJQOgJJcycJeh4FdJ/U/gGH\n",
       "YbyiO6QpDjdtIP0K6Bt7gA40/o9pG+1noNAcfl9eEKCl5lRQkJ6F5qp+N/r/kEhUheuSEYNzTtsk\n",
       "5alL8ayWuO460Q5cAnlWSY3JG1tLO6mwyu9oYSnQuq7HVK+PJJjrovKIBdfmPgFaak51XbC7TeRR\n",
       "5y/zvTjKoy4eEbcnB5Nk0uITH3LLRb6KqG31wJMljJg+7EHxomR5B5ok2C+v6ELVFAeNmWq6ZBXB\n",
       "Zrh8rfUgSh+bgpaaU4MR6MDT1Exemmk8nY6PclA0wgc2h8Gz5E+fLGD+jfeR0Ahre0e39gaSdNcB\n",
       "YAm3/Drcr3twvwQaSqumOGidqbaxupUVpBveewo8Q3cato+WmIPyLe1C2oNjJl4kC3pEScLARsBp\n",
       "n5HNZpMgBwLspQr3ixAB29b84rQH0ZKQB/q4J8eOE+tB9rUk6pczo05DwtBtKo2RqAfWArB10Ds7\n",
       "Sa9goCXmoLCXQLwM36MPOEftPMKNqMe0cG8IrMGRJimlvr+iVywh2kRWsn1oU0Gpcq1Uct2QwxQH\n",
       "bTCVxh6nrs3PtKF+OQV0moMr96+qYWsMWLvQjW7hCdqQAtoRTftJdgq5PLaUvk8NJp2p/GzzEUCb\n",
       "1A+poN/oEyNvYomUypMwlip/8JaSer5eIHwAtDTvFVv1sALqP7P/HAihLzH9b8/dI9zPBr9tE206\n",
       "z4ZUFfVrz6OOY9oW/WE/toGt13rW1V6hwsCOC/zYgCfJqw46rqkwfJbNqg9hZcCsOaLtIHbuDrYB\n",
       "9LgK+qO+cu47ze7Lt8z1FUBZFs2z6chU6PbPq4PqCWiFmtEqTftPw1jYHz+hA61XQCtWjECI7iRx\n",
       "uwIoS0V4ShIdhB+OAkije99IMFMENHCxuqvLFccyqtbXIJPulTuTMqhvqGagq4uqvrEK2P5LNQO9\n",
       "qgK2372vJPzKVxKx3pqB3u7QWgmMuAbKTBHQOsWVpCNy9aDjDq2XX1wDZaaOKV9QgPcn9yhH5KpB\n",
       "fWOqrhAL3Qu7x5QvKPwtjiNy1aCxhKpNIeI6fbUPX6j46VVzSBlePiJXDXqVX+1XWPBaCjVFQA/D\n",
       "1MKTWUITLemIXDXoOoc2yTL3XtJlAhSVw1ORYmcg5TwiVwtKC+tcG6XLvR9UdbEfVEXTHvRC1dnA\n",
       "90o2+4FyRK4WNJZUtTklzrgGSkxB0EimCwWmLmCHdzmPyNWCXvVP5K7Hjx6t+fBEHOr9EjSRqrl8\n",
       "RK4SNJBWdRkJupfuYlM/sx8Zz180mAPt6NykHJF1ks+fNfzlnZyqy8l1/WGy9VW2p/J15h8mt8n6\n",
       "PyAHdYQWqUXGAAAAAElFTkSuQmCC\n",
       "\" style=\"display:inline;vertical-align:middle;\" /></a><br>(see <a class=\"ProveItLink\" href=\"../../../__pv_it/theorems/ee85f74ad602f2bb5566652e21e12c6c2006fd4e0/dependencies.ipynb\">dependencies</a>)<br>"
      ],
      "text/plain": [
       "<IPython.core.display.HTML object>"
      ]
     },
     "metadata": {},
     "output_type": "display_data"
    }
   ],
   "source": [
    "%proving integration_real_closure_simple"
   ]
  },
  {
   "cell_type": "code",
   "execution_count": null,
   "metadata": {},
   "outputs": [],
   "source": []
  }
 ],
 "metadata": {
  "kernelspec": {
   "display_name": "Python 3",
   "language": "python",
   "name": "python3"
  }
 },
 "nbformat": 4,
 "nbformat_minor": 0
}