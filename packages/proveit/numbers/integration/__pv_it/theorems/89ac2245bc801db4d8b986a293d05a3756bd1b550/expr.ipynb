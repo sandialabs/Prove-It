{
 "cells": [
  {
   "cell_type": "markdown",
   "metadata": {},
   "source": [
    "Expression of type <a class=\"ProveItLink\" href=\"../../../../../../../doc/html/api/proveit.logic.Implies.html\">Implies</a>\n",
    "=======================\n",
    "# from the theory of <a class=\"ProveItLink\" href=\"../../../_theory_nbs_/theory.ipynb\">proveit.numbers.integration</a>"
   ]
  },
  {
   "cell_type": "code",
   "execution_count": 1,
   "metadata": {},
   "outputs": [],
   "source": [
    "import proveit\n",
    "# Automation is not needed when building an expression:\n",
    "proveit.defaults.automation = False # This will speed things up.\n",
    "proveit.defaults.inline_pngs = False # Makes files smaller.\n",
    "%load_expr # Load the stored expression as 'stored_expr'\n",
    "# import Expression classes needed to build the expression\n",
    "from proveit import S\n",
    "from proveit.core_expr_types import f__x_1_to_n, x_1_to_n\n",
    "from proveit.logic import Forall, Implies, InSet\n",
    "from proveit.numbers import Integrate, RealNeg"
   ]
  },
  {
   "cell_type": "code",
   "execution_count": 2,
   "metadata": {},
   "outputs": [
    {
     "data": {
      "text/html": [
       "<strong id=\"expr\">expr:</strong> <a class=\"ProveItLink\" href=\"expr.ipynb\"><img src=\"expr.png\" style=\"display:inline;vertical-align:middle;\" /></a><br>"
      ],
      "text/plain": [
       "<IPython.core.display.HTML object>"
      ]
     },
     "metadata": {},
     "output_type": "display_data"
    }
   ],
   "source": [
    "# build up the expression from sub-expressions\n",
    "sub_expr1 = [x_1_to_n]\n",
    "expr = Implies(Forall(instance_param_or_params = sub_expr1, instance_expr = InSet(f__x_1_to_n, RealNeg), domain = S), InSet(Integrate(index_or_indices = sub_expr1, integrand = f__x_1_to_n, domain = S), RealNeg))"
   ]
  },
  {
   "cell_type": "code",
   "execution_count": 3,
   "metadata": {},
   "outputs": [
    {
     "name": "stdout",
     "output_type": "stream",
     "text": [
      "Passed sanity check: expr matches stored_expr\n"
     ]
    }
   ],
   "source": [
    "# check that the built expression is the same as the stored expression\n",
    "assert expr == stored_expr\n",
    "assert expr._style_id == stored_expr._style_id\n",
    "print(\"Passed sanity check: expr matches stored_expr\")"
   ]
  },
  {
   "cell_type": "code",
   "execution_count": 4,
   "metadata": {},
   "outputs": [
    {
     "name": "stdout",
     "output_type": "stream",
     "text": [
      "\\left[\\forall_{x_{1}, x_{2}, \\ldots, x_{n} \\in S}~\\left(f\\left(x_{1}, x_{2}, \\ldots, x_{n}\\right) \\in \\mathbb{R}^-\\right)\\right] \\Rightarrow \\left(\\left[\\int_{x_{1}, x_{2}, \\ldots, x_{n} \\in S}~f\\left(x_{1}, x_{2}, \\ldots, x_{n}\\right)\\right] \\in \\mathbb{R}^-\\right)\n"
     ]
    }
   ],
   "source": [
    "# Show the LaTeX representation of the expression for convenience if you need it.\n",
    "print(stored_expr.latex())"
   ]
  },
  {
   "cell_type": "code",
   "execution_count": 5,
   "metadata": {},
   "outputs": [
    {
     "data": {
      "text/html": [
       "<table>\n",
       "<tr><th>name</th><th>description</th><th>default</th><th>current value</th><th>related methods</th></tr><tr><td>operation</td><td>'infix' or 'function' style formatting</td><td>infix</td><td>infix</td><td></td></tr>\n",
       "<tr><td>wrap_positions</td><td>position(s) at which wrapping is to occur; '2 n - 1' is after the nth operand, '2 n' is after the nth operation.</td><td>()</td><td>()</td><td>('with_wrapping_at', 'with_wrap_before_operator', 'with_wrap_after_operator', 'without_wrapping', 'wrap_positions')</td></tr>\n",
       "<tr><td>justification</td><td>if any wrap positions are set, justify to the 'left', 'center', or 'right'</td><td>center</td><td>center</td><td>('with_justification',)</td></tr>\n",
       "<tr><td>direction</td><td>Direction of the relation (normal or reversed)</td><td>normal</td><td>normal</td><td>('with_direction_reversed', 'is_reversed')</td></tr>\n",
       "</table>\n"
      ],
      "text/plain": [
       "style name: operation\n",
       "description: 'infix' or 'function' style formatting\n",
       "default: infix\n",
       "current value: infix\n",
       "related methods: ()\n",
       "style name: wrap_positions\n",
       "description: position(s) at which wrapping is to occur; '2 n - 1' is after the nth operand, '2 n' is after the nth operation.\n",
       "default: ()\n",
       "current value: ()\n",
       "related methods: ('with_wrapping_at', 'with_wrap_before_operator', 'with_wrap_after_operator', 'without_wrapping', 'wrap_positions')\n",
       "style name: justification\n",
       "description: if any wrap positions are set, justify to the 'left', 'center', or 'right'\n",
       "default: center\n",
       "current value: center\n",
       "related methods: ('with_justification',)\n",
       "style name: direction\n",
       "description: Direction of the relation (normal or reversed)\n",
       "default: normal\n",
       "current value: normal\n",
       "related methods: ('with_direction_reversed', 'is_reversed')"
      ]
     },
     "metadata": {},
     "output_type": "display_data"
    }
   ],
   "source": [
    "stored_expr.style_options()"
   ]
  },
  {
   "cell_type": "code",
   "execution_count": 6,
   "metadata": {},
   "outputs": [
    {
     "data": {
      "text/html": [
       "<table><tr><th>&nbsp;</th><th>core type</th><th>sub-expressions</th><th>expression</th></tr>\n",
       "<tr><td>0</td><td>Operation</td><td>operator:&nbsp;1<br>operands:&nbsp;2<br></td><td><a class=\"ProveItLink\" href=\"expr.ipynb\"><img src=\"expr.png\" style=\"display:inline;vertical-align:middle;\" /></a></td></tr>\n",
       "<tr><td>1</td><td>Literal</td><td></td><td><a class=\"ProveItLink\" href=\"../../../../../logic/booleans/implication/__pv_it/common/02bdb382575728da8cdbaed545b9096ea7a1bd5b0/expr.ipynb\"><img src=\"../../../../../logic/booleans/implication/__pv_it/common/02bdb382575728da8cdbaed545b9096ea7a1bd5b0/expr.png\" style=\"display:inline;vertical-align:middle;\" /></a></td></tr>\n",
       "<tr><td>2</td><td>ExprTuple</td><td>3, 4</td><td><a class=\"ProveItLink\" href=\"../794e40e1a97c286333be3358dad8543a918e126c0/expr.ipynb\"><img src=\"../794e40e1a97c286333be3358dad8543a918e126c0/expr.png\" style=\"display:inline;vertical-align:middle;\" /></a></td></tr>\n",
       "<tr><td>3</td><td>Operation</td><td>operator:&nbsp;5<br>operand:&nbsp;8<br></td><td><a class=\"ProveItLink\" href=\"../addbfebc813cf66c156fb4a9cd4e27d11ee7aa860/expr.ipynb\"><img src=\"../addbfebc813cf66c156fb4a9cd4e27d11ee7aa860/expr.png\" style=\"display:inline;vertical-align:middle;\" /></a></td></tr>\n",
       "<tr><td>4</td><td>Operation</td><td>operator:&nbsp;31<br>operands:&nbsp;7<br></td><td><a class=\"ProveItLink\" href=\"../51dfd3fb909883bc6ff043da25da9e2db26bc2070/expr.ipynb\"><img src=\"../51dfd3fb909883bc6ff043da25da9e2db26bc2070/expr.png\" style=\"display:inline;vertical-align:middle;\" /></a></td></tr>\n",
       "<tr><td>5</td><td>Literal</td><td></td><td><a class=\"ProveItLink\" href=\"../../../../../logic/booleans/quantification/universality/__pv_it/common/083d2baa0b8ecab1d230f9ec29a15aa1355809fb0/expr.ipynb\"><img src=\"../../../../../logic/booleans/quantification/universality/__pv_it/common/083d2baa0b8ecab1d230f9ec29a15aa1355809fb0/expr.png\" style=\"display:inline;vertical-align:middle;\" /></a></td></tr>\n",
       "<tr><td>6</td><td>ExprTuple</td><td>8</td><td><a class=\"ProveItLink\" href=\"../a03544fc31d11f2a8615b0b4fc9751d14f11df230/expr.ipynb\"><img src=\"../a03544fc31d11f2a8615b0b4fc9751d14f11df230/expr.png\" style=\"display:inline;vertical-align:middle;\" /></a></td></tr>\n",
       "<tr><td>7</td><td>ExprTuple</td><td>9, 17</td><td><a class=\"ProveItLink\" href=\"../d3b94bf3d074cac2dcb4e24cf909bafab0a735780/expr.ipynb\"><img src=\"../d3b94bf3d074cac2dcb4e24cf909bafab0a735780/expr.png\" style=\"display:inline;vertical-align:middle;\" /></a></td></tr>\n",
       "<tr><td>8</td><td>Lambda</td><td>parameters:&nbsp;21<br>body:&nbsp;10<br></td><td><a class=\"ProveItLink\" href=\"../bae4b2adda8b531669702662f26342e5ee0c2bbe0/expr.ipynb\"><img src=\"../bae4b2adda8b531669702662f26342e5ee0c2bbe0/expr.png\" style=\"display:inline;vertical-align:middle;\" /></a></td></tr>\n",
       "<tr><td>9</td><td>Operation</td><td>operator:&nbsp;11<br>operand:&nbsp;14<br></td><td><a class=\"ProveItLink\" href=\"../6e64fa5092531539ea792622d01b789a1531a4f70/expr.ipynb\"><img src=\"../6e64fa5092531539ea792622d01b789a1531a4f70/expr.png\" style=\"display:inline;vertical-align:middle;\" /></a></td></tr>\n",
       "<tr><td>10</td><td>Conditional</td><td>value:&nbsp;13<br>condition:&nbsp;19<br></td><td><a class=\"ProveItLink\" href=\"../73d629d72e394a2368f941bae4db98a24c822dc30/expr.ipynb\"><img src=\"../73d629d72e394a2368f941bae4db98a24c822dc30/expr.png\" style=\"display:inline;vertical-align:middle;\" /></a></td></tr>\n",
       "<tr><td>11</td><td>Literal</td><td></td><td><a class=\"ProveItLink\" href=\"../../common/77e8fa44a3a75678f8bf531e44b9c2ce104c514c0/expr.ipynb\"><img src=\"../../common/77e8fa44a3a75678f8bf531e44b9c2ce104c514c0/expr.png\" style=\"display:inline;vertical-align:middle;\" /></a></td></tr>\n",
       "<tr><td>12</td><td>ExprTuple</td><td>14</td><td><a class=\"ProveItLink\" href=\"../32fc7bd24f13fdb0e39485210da85379363e56a30/expr.ipynb\"><img src=\"../32fc7bd24f13fdb0e39485210da85379363e56a30/expr.png\" style=\"display:inline;vertical-align:middle;\" /></a></td></tr>\n",
       "<tr><td>13</td><td>Operation</td><td>operator:&nbsp;31<br>operands:&nbsp;15<br></td><td><a class=\"ProveItLink\" href=\"../7b96c206f0e5f86d62a2fae746b98c8efaa58b7b0/expr.ipynb\"><img src=\"../7b96c206f0e5f86d62a2fae746b98c8efaa58b7b0/expr.png\" style=\"display:inline;vertical-align:middle;\" /></a></td></tr>\n",
       "<tr><td>14</td><td>Lambda</td><td>parameters:&nbsp;21<br>body:&nbsp;16<br></td><td><a class=\"ProveItLink\" href=\"../72b7609f48944e462b7982de186048930643d7d40/expr.ipynb\"><img src=\"../72b7609f48944e462b7982de186048930643d7d40/expr.png\" style=\"display:inline;vertical-align:middle;\" /></a></td></tr>\n",
       "<tr><td>15</td><td>ExprTuple</td><td>18, 17</td><td><a class=\"ProveItLink\" href=\"../e60a071b4fe3daaeffdbe87733fa633ede1e9fac0/expr.ipynb\"><img src=\"../e60a071b4fe3daaeffdbe87733fa633ede1e9fac0/expr.png\" style=\"display:inline;vertical-align:middle;\" /></a></td></tr>\n",
       "<tr><td>16</td><td>Conditional</td><td>value:&nbsp;18<br>condition:&nbsp;19<br></td><td><a class=\"ProveItLink\" href=\"../508b2f9d5ac94b10904947d5946ee201d535ddcc0/expr.ipynb\"><img src=\"../508b2f9d5ac94b10904947d5946ee201d535ddcc0/expr.png\" style=\"display:inline;vertical-align:middle;\" /></a></td></tr>\n",
       "<tr><td>17</td><td>Literal</td><td></td><td><a class=\"ProveItLink\" href=\"../../../../number_sets/real_numbers/__pv_it/common/22049b0ceade1b5eb1b88ec78deb486d547c9b580/expr.ipynb\"><img src=\"../../../../number_sets/real_numbers/__pv_it/common/22049b0ceade1b5eb1b88ec78deb486d547c9b580/expr.png\" style=\"display:inline;vertical-align:middle;\" /></a></td></tr>\n",
       "<tr><td>18</td><td>Operation</td><td>operator:&nbsp;20<br>operands:&nbsp;21<br></td><td><a class=\"ProveItLink\" href=\"../../../../../core_expr_types/__pv_it/common/9c8f9c0c3ca5a7df840ea1afd668e83e9c2a06130/expr.ipynb\"><img src=\"../../../../../core_expr_types/__pv_it/common/9c8f9c0c3ca5a7df840ea1afd668e83e9c2a06130/expr.png\" style=\"display:inline;vertical-align:middle;\" /></a></td></tr>\n",
       "<tr><td>19</td><td>Operation</td><td>operator:&nbsp;22<br>operands:&nbsp;23<br></td><td><a class=\"ProveItLink\" href=\"../ec2ae8baecb5873efb62df0b20bc71a69a05c2600/expr.ipynb\"><img src=\"../ec2ae8baecb5873efb62df0b20bc71a69a05c2600/expr.png\" style=\"display:inline;vertical-align:middle;\" /></a></td></tr>\n",
       "<tr><td>20</td><td>Variable</td><td></td><td><a class=\"ProveItLink\" href=\"../../../../../__pv_it/common/01b6dbb444a31fc38af4c2379badef6c75b363710/expr.ipynb\"><img src=\"../../../../../__pv_it/common/01b6dbb444a31fc38af4c2379badef6c75b363710/expr.png\" style=\"display:inline;vertical-align:middle;\" /></a></td></tr>\n",
       "<tr><td>21</td><td>ExprTuple</td><td>24</td><td><a class=\"ProveItLink\" href=\"../../../../../core_expr_types/__pv_it/common/444da5a1d6d4966e75dd84efc2704e338e811fe40/expr.ipynb\"><img src=\"../../../../../core_expr_types/__pv_it/common/444da5a1d6d4966e75dd84efc2704e338e811fe40/expr.png\" style=\"display:inline;vertical-align:middle;\" /></a></td></tr>\n",
       "<tr><td>22</td><td>Literal</td><td></td><td><a class=\"ProveItLink\" href=\"../../../../../logic/booleans/conjunction/__pv_it/common/42118ff318bd65d98b1393f64ce7c2269feef76e0/expr.ipynb\"><img src=\"../../../../../logic/booleans/conjunction/__pv_it/common/42118ff318bd65d98b1393f64ce7c2269feef76e0/expr.png\" style=\"display:inline;vertical-align:middle;\" /></a></td></tr>\n",
       "<tr><td>23</td><td>ExprTuple</td><td>25</td><td><a class=\"ProveItLink\" href=\"../fb77db0d8c11c16542ef674c95b0b3b3b67ee91e0/expr.ipynb\"><img src=\"../fb77db0d8c11c16542ef674c95b0b3b3b67ee91e0/expr.png\" style=\"display:inline;vertical-align:middle;\" /></a></td></tr>\n",
       "<tr><td>24</td><td>ExprRange</td><td>lambda_map:&nbsp;26<br>start_index:&nbsp;28<br>end_index:&nbsp;29<br></td><td><a class=\"ProveItLink\" href=\"../../../../../core_expr_types/__pv_it/common/d50f819f834d55ea1b9fad150926a94bf07ad8fc0/expr.ipynb\"><img src=\"../../../../../core_expr_types/__pv_it/common/d50f819f834d55ea1b9fad150926a94bf07ad8fc0/expr.png\" style=\"display:inline;vertical-align:middle;\" /></a></td></tr>\n",
       "<tr><td>25</td><td>ExprRange</td><td>lambda_map:&nbsp;27<br>start_index:&nbsp;28<br>end_index:&nbsp;29<br></td><td><a class=\"ProveItLink\" href=\"../1a36955407da083fb803b5d633575e8cb30a99120/expr.ipynb\"><img src=\"../1a36955407da083fb803b5d633575e8cb30a99120/expr.png\" style=\"display:inline;vertical-align:middle;\" /></a></td></tr>\n",
       "<tr><td>26</td><td>Lambda</td><td>parameter:&nbsp;37<br>body:&nbsp;33<br></td><td><a class=\"ProveItLink\" href=\"../../../../../core_expr_types/__pv_it/common/f8f30fee5e5b4e37951ff8886b574795bf35d80c0/expr.ipynb\"><img src=\"../../../../../core_expr_types/__pv_it/common/f8f30fee5e5b4e37951ff8886b574795bf35d80c0/expr.png\" style=\"display:inline;vertical-align:middle;\" /></a></td></tr>\n",
       "<tr><td>27</td><td>Lambda</td><td>parameter:&nbsp;37<br>body:&nbsp;30<br></td><td><a class=\"ProveItLink\" href=\"../84ce293f08cb6dd495067baf26b3ba9a208125c00/expr.ipynb\"><img src=\"../84ce293f08cb6dd495067baf26b3ba9a208125c00/expr.png\" style=\"display:inline;vertical-align:middle;\" /></a></td></tr>\n",
       "<tr><td>28</td><td>Literal</td><td></td><td><a class=\"ProveItLink\" href=\"../../../../numerals/__pv_it/common/682157d4892d216d9e5626ed533aff9b56b9506e0/expr.ipynb\"><img src=\"../../../../numerals/__pv_it/common/682157d4892d216d9e5626ed533aff9b56b9506e0/expr.png\" style=\"display:inline;vertical-align:middle;\" /></a></td></tr>\n",
       "<tr><td>29</td><td>Variable</td><td></td><td><a class=\"ProveItLink\" href=\"../../../../../__pv_it/common/8968bb04eb3f7dfa02353397ce929b025bbd79c20/expr.ipynb\"><img src=\"../../../../../__pv_it/common/8968bb04eb3f7dfa02353397ce929b025bbd79c20/expr.png\" style=\"display:inline;vertical-align:middle;\" /></a></td></tr>\n",
       "<tr><td>30</td><td>Operation</td><td>operator:&nbsp;31<br>operands:&nbsp;32<br></td><td><a class=\"ProveItLink\" href=\"../8da5d1e514f6df4f11d3c4d4a87e5f8de78263000/expr.ipynb\"><img src=\"../8da5d1e514f6df4f11d3c4d4a87e5f8de78263000/expr.png\" style=\"display:inline;vertical-align:middle;\" /></a></td></tr>\n",
       "<tr><td>31</td><td>Literal</td><td></td><td><a class=\"ProveItLink\" href=\"../../../../../logic/sets/membership/__pv_it/common/477487d8796864d23d5810f83761435f25167f690/expr.ipynb\"><img src=\"../../../../../logic/sets/membership/__pv_it/common/477487d8796864d23d5810f83761435f25167f690/expr.png\" style=\"display:inline;vertical-align:middle;\" /></a></td></tr>\n",
       "<tr><td>32</td><td>ExprTuple</td><td>33, 34</td><td><a class=\"ProveItLink\" href=\"../afbcfdb997ef689412361c4b8f3f22be7e985f6c0/expr.ipynb\"><img src=\"../afbcfdb997ef689412361c4b8f3f22be7e985f6c0/expr.png\" style=\"display:inline;vertical-align:middle;\" /></a></td></tr>\n",
       "<tr><td>33</td><td>IndexedVar</td><td>variable:&nbsp;35<br>index:&nbsp;37<br></td><td><a class=\"ProveItLink\" href=\"../../../../../core_expr_types/__pv_it/common/b7a46615d4e67a28ab963909b818c72af8e8e7c60/expr.ipynb\"><img src=\"../../../../../core_expr_types/__pv_it/common/b7a46615d4e67a28ab963909b818c72af8e8e7c60/expr.png\" style=\"display:inline;vertical-align:middle;\" /></a></td></tr>\n",
       "<tr><td>34</td><td>Variable</td><td></td><td><a class=\"ProveItLink\" href=\"../../../../../__pv_it/common/38f47c5670ea8c5b56253448e95d8afb56bc09b40/expr.ipynb\"><img src=\"../../../../../__pv_it/common/38f47c5670ea8c5b56253448e95d8afb56bc09b40/expr.png\" style=\"display:inline;vertical-align:middle;\" /></a></td></tr>\n",
       "<tr><td>35</td><td>Variable</td><td></td><td><a class=\"ProveItLink\" href=\"../../../../../__pv_it/common/a0d9d672aa5e272d907247690c152cc2c6daafb70/expr.ipynb\"><img src=\"../../../../../__pv_it/common/a0d9d672aa5e272d907247690c152cc2c6daafb70/expr.png\" style=\"display:inline;vertical-align:middle;\" /></a></td></tr>\n",
       "<tr><td>36</td><td>ExprTuple</td><td>37</td><td><a class=\"ProveItLink\" href=\"../../../../../core_expr_types/__pv_it/common/4b0dd6be36d76552eda6a95d5b4a27f5a5b62f900/expr.ipynb\"><img src=\"../../../../../core_expr_types/__pv_it/common/4b0dd6be36d76552eda6a95d5b4a27f5a5b62f900/expr.png\" style=\"display:inline;vertical-align:middle;\" /></a></td></tr>\n",
       "<tr><td>37</td><td>Variable</td><td></td><td><a class=\"ProveItLink\" href=\"../../../../../core_expr_types/__pv_it/common/006c465e50948aa2b52285e2de47974f741255cc0/expr.ipynb\"><img src=\"../../../../../core_expr_types/__pv_it/common/006c465e50948aa2b52285e2de47974f741255cc0/expr.png\" style=\"display:inline;vertical-align:middle;\" /></a></td></tr>\n",
       "</table>\n"
      ],
      "text/plain": [
       "0. [forall_{x_{1}, x_{2}, ..., x_{n} in S} (f(x_{1}, x_{2}, ..., x_{n}) in RealNeg)] => ([Integrate_{x_{1}, x_{2}, ..., x_{n} in S} f(x_{1}, x_{2}, ..., x_{n})] in RealNeg)\n",
       "   core type: Operation\n",
       "   operator: 1\n",
       "   operands: 2\n",
       "1. =>\n",
       "   core type: Literal\n",
       "   sub-expressions: \n",
       "2. (forall_{x_{1}, x_{2}, ..., x_{n} in S} (f(x_{1}, x_{2}, ..., x_{n}) in RealNeg), [Integrate_{x_{1}, x_{2}, ..., x_{n} in S} f(x_{1}, x_{2}, ..., x_{n})] in RealNeg)\n",
       "   core type: ExprTuple\n",
       "   sub-expressions: 3, 4\n",
       "3. forall_{x_{1}, x_{2}, ..., x_{n} in S} (f(x_{1}, x_{2}, ..., x_{n}) in RealNeg)\n",
       "   core type: Operation\n",
       "   operator: 5\n",
       "   operand: 8\n",
       "4. [Integrate_{x_{1}, x_{2}, ..., x_{n} in S} f(x_{1}, x_{2}, ..., x_{n})] in RealNeg\n",
       "   core type: Operation\n",
       "   operator: 31\n",
       "   operands: 7\n",
       "5. forall\n",
       "   core type: Literal\n",
       "   sub-expressions: \n",
       "6. ((x_{1}, x_{2}, ..., x_{n}) -> {f(x_{1}, x_{2}, ..., x_{n}) in RealNeg if (x_{1} in S) and  (x_{2} in S) and  ... and  (x_{n} in S).)\n",
       "   core type: ExprTuple\n",
       "   sub-expressions: 8\n",
       "7. (Integrate_{x_{1}, x_{2}, ..., x_{n} in S} f(x_{1}, x_{2}, ..., x_{n}), RealNeg)\n",
       "   core type: ExprTuple\n",
       "   sub-expressions: 9, 17\n",
       "8. (x_{1}, x_{2}, ..., x_{n}) -> {f(x_{1}, x_{2}, ..., x_{n}) in RealNeg if (x_{1} in S) and  (x_{2} in S) and  ... and  (x_{n} in S).\n",
       "   core type: Lambda\n",
       "   parameters: 21\\n   body: 10\n",
       "9. Integrate_{x_{1}, x_{2}, ..., x_{n} in S} f(x_{1}, x_{2}, ..., x_{n})\n",
       "   core type: Operation\n",
       "   operator: 11\n",
       "   operand: 14\n",
       "10. {f(x_{1}, x_{2}, ..., x_{n}) in RealNeg if (x_{1} in S) and  (x_{2} in S) and  ... and  (x_{n} in S).\n",
       "    core type: Conditional\n",
       "    value: 13\n",
       "    condition: 19\n",
       "11. Integrate\n",
       "    core type: Literal\n",
       "    sub-expressions: \n",
       "12. ((x_{1}, x_{2}, ..., x_{n}) -> {f(x_{1}, x_{2}, ..., x_{n}) if (x_{1} in S) and  (x_{2} in S) and  ... and  (x_{n} in S).)\n",
       "    core type: ExprTuple\n",
       "    sub-expressions: 14\n",
       "13. f(x_{1}, x_{2}, ..., x_{n}) in RealNeg\n",
       "    core type: Operation\n",
       "    operator: 31\n",
       "    operands: 15\n",
       "14. (x_{1}, x_{2}, ..., x_{n}) -> {f(x_{1}, x_{2}, ..., x_{n}) if (x_{1} in S) and  (x_{2} in S) and  ... and  (x_{n} in S).\n",
       "    core type: Lambda\n",
       "    parameters: 21\\n    body: 16\n",
       "15. (f(x_{1}, x_{2}, ..., x_{n}), RealNeg)\n",
       "    core type: ExprTuple\n",
       "    sub-expressions: 18, 17\n",
       "16. {f(x_{1}, x_{2}, ..., x_{n}) if (x_{1} in S) and  (x_{2} in S) and  ... and  (x_{n} in S).\n",
       "    core type: Conditional\n",
       "    value: 18\n",
       "    condition: 19\n",
       "17. RealNeg\n",
       "    core type: Literal\n",
       "    sub-expressions: \n",
       "18. f(x_{1}, x_{2}, ..., x_{n})\n",
       "    core type: Operation\n",
       "    operator: 20\n",
       "    operands: 21\n",
       "19. (x_{1} in S) and  (x_{2} in S) and  ... and  (x_{n} in S)\n",
       "    core type: Operation\n",
       "    operator: 22\n",
       "    operands: 23\n",
       "20. f\n",
       "    core type: Variable\n",
       "    sub-expressions: \n",
       "21. (x_{1}, x_{2}, ..., x_{n})\n",
       "    core type: ExprTuple\n",
       "    sub-expressions: 24\n",
       "22. and\n",
       "    core type: Literal\n",
       "    sub-expressions: \n",
       "23. ((x_{1} in S), (x_{2} in S), ..., (x_{n} in S))\n",
       "    core type: ExprTuple\n",
       "    sub-expressions: 25\n",
       "24. x_{1}, x_{2}, ..., x_{n}\n",
       "    core type: ExprRange\n",
       "    lambda_map: 26\n",
       "    start_index: 28\n",
       "    end_index: 29\n",
       "25. (x_{1} in S), (x_{2} in S), ..., (x_{n} in S)\n",
       "    core type: ExprRange\n",
       "    lambda_map: 27\n",
       "    start_index: 28\n",
       "    end_index: 29\n",
       "26. _a -> x_{_a}\n",
       "    core type: Lambda\n",
       "    parameter: 37\n",
       "    body: 33\n",
       "27. _a -> (x_{_a} in S)\n",
       "    core type: Lambda\n",
       "    parameter: 37\n",
       "    body: 30\n",
       "28. 1\n",
       "    core type: Literal\n",
       "    sub-expressions: \n",
       "29. n\n",
       "    core type: Variable\n",
       "    sub-expressions: \n",
       "30. x_{_a} in S\n",
       "    core type: Operation\n",
       "    operator: 31\n",
       "    operands: 32\n",
       "31. in\n",
       "    core type: Literal\n",
       "    sub-expressions: \n",
       "32. (x_{_a}, S)\n",
       "    core type: ExprTuple\n",
       "    sub-expressions: 33, 34\n",
       "33. x_{_a}\n",
       "    core type: IndexedVar\n",
       "variable: 35\n",
       "index: 37\n",
       "34. S\n",
       "    core type: Variable\n",
       "    sub-expressions: \n",
       "35. x\n",
       "    core type: Variable\n",
       "    sub-expressions: \n",
       "36. (_a)\n",
       "    core type: ExprTuple\n",
       "    sub-expressions: 37\n",
       "37. _a\n",
       "    core type: Variable\n",
       "    sub-expressions: "
      ]
     },
     "metadata": {},
     "output_type": "display_data"
    }
   ],
   "source": [
    "# display the expression information\n",
    "stored_expr.expr_info()"
   ]
  },
  {
   "cell_type": "code",
   "execution_count": null,
   "metadata": {},
   "outputs": [],
   "source": []
  }
 ],
 "metadata": {
  "kernelspec": {
   "display_name": "Python 3",
   "language": "python",
   "name": "python3"
  }
 },
 "nbformat": 4,
 "nbformat_minor": 0
}