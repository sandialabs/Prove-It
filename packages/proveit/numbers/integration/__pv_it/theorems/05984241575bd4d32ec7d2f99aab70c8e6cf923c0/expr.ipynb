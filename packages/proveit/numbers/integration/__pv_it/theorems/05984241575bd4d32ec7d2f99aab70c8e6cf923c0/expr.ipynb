{
 "cells": [
  {
   "cell_type": "markdown",
   "metadata": {},
   "source": [
    "Expression of type <a class=\"ProveItLink\" href=\"../../../../../../../doc/html/api/proveit.ExprTuple.html\">ExprTuple</a>\n",
    "=======================\n",
    "# from the theory of <a class=\"ProveItLink\" href=\"../../../_theory_nbs_/theory.ipynb\">proveit.numbers.integration</a>"
   ]
  },
  {
   "cell_type": "code",
   "execution_count": 1,
   "metadata": {},
   "outputs": [],
   "source": [
    "import proveit\n",
    "# Automation is not needed when building an expression:\n",
    "proveit.defaults.automation = False # This will speed things up.\n",
    "proveit.defaults.inline_pngs = False # Makes files smaller.\n",
    "%load_expr # Load the stored expression as 'stored_expr'\n",
    "# import Expression classes needed to build the expression\n",
    "from proveit import ExprTuple, S\n",
    "from proveit.core_expr_types import f__x_1_to_n, x_1_to_n\n",
    "from proveit.logic import Forall, InSet\n",
    "from proveit.numbers import Integrate, RealPos"
   ]
  },
  {
   "cell_type": "code",
   "execution_count": 2,
   "metadata": {},
   "outputs": [
    {
     "data": {
      "text/html": [
       "<strong id=\"expr\">expr:</strong> <a class=\"ProveItLink\" href=\"expr.ipynb\"><img src=\"expr.png\" style=\"display:inline;vertical-align:middle;\" /></a><br>"
      ],
      "text/plain": [
       "<IPython.core.display.HTML object>"
      ]
     },
     "metadata": {},
     "output_type": "display_data"
    }
   ],
   "source": [
    "# build up the expression from sub-expressions\n",
    "sub_expr1 = [x_1_to_n]\n",
    "expr = ExprTuple(Forall(instance_param_or_params = sub_expr1, instance_expr = InSet(f__x_1_to_n, RealPos), domain = S), InSet(Integrate(index_or_indices = sub_expr1, integrand = f__x_1_to_n, domain = S), RealPos))"
   ]
  },
  {
   "cell_type": "code",
   "execution_count": 3,
   "metadata": {},
   "outputs": [
    {
     "name": "stdout",
     "output_type": "stream",
     "text": [
      "Passed sanity check: expr matches stored_expr\n"
     ]
    }
   ],
   "source": [
    "# check that the built expression is the same as the stored expression\n",
    "assert expr == stored_expr\n",
    "assert expr._style_id == stored_expr._style_id\n",
    "print(\"Passed sanity check: expr matches stored_expr\")"
   ]
  },
  {
   "cell_type": "code",
   "execution_count": 4,
   "metadata": {},
   "outputs": [
    {
     "name": "stdout",
     "output_type": "stream",
     "text": [
      "\\left(\\forall_{x_{1}, x_{2}, \\ldots, x_{n} \\in S}~\\left(f\\left(x_{1}, x_{2}, \\ldots, x_{n}\\right) \\in \\mathbb{R}^+\\right), \\left[\\int_{x_{1}, x_{2}, \\ldots, x_{n} \\in S}~f\\left(x_{1}, x_{2}, \\ldots, x_{n}\\right)\\right] \\in \\mathbb{R}^+\\right)\n"
     ]
    }
   ],
   "source": [
    "# Show the LaTeX representation of the expression for convenience if you need it.\n",
    "print(stored_expr.latex())"
   ]
  },
  {
   "cell_type": "code",
   "execution_count": 5,
   "metadata": {},
   "outputs": [
    {
     "data": {
      "text/html": [
       "<table>\n",
       "<tr><th>name</th><th>description</th><th>default</th><th>current value</th><th>related methods</th></tr><tr><td>wrap_positions</td><td>position(s) at which wrapping is to occur; 'n' is after the nth comma.</td><td>()</td><td>()</td><td>('with_wrapping_at',)</td></tr>\n",
       "<tr><td>justification</td><td>if any wrap positions are set, justify to the 'left', 'center', or 'right'</td><td>left</td><td>left</td><td>('with_justification',)</td></tr>\n",
       "</table>\n"
      ],
      "text/plain": [
       "style name: wrap_positions\n",
       "description: position(s) at which wrapping is to occur; 'n' is after the nth comma.\n",
       "default: ()\n",
       "current value: ()\n",
       "related methods: ('with_wrapping_at',)\n",
       "style name: justification\n",
       "description: if any wrap positions are set, justify to the 'left', 'center', or 'right'\n",
       "default: left\n",
       "current value: left\n",
       "related methods: ('with_justification',)"
      ]
     },
     "metadata": {},
     "output_type": "display_data"
    }
   ],
   "source": [
    "stored_expr.style_options()"
   ]
  },
  {
   "cell_type": "code",
   "execution_count": 6,
   "metadata": {},
   "outputs": [
    {
     "data": {
      "text/html": [
       "<table><tr><th>&nbsp;</th><th>core type</th><th>sub-expressions</th><th>expression</th></tr>\n",
       "<tr><td>0</td><td>ExprTuple</td><td>1, 2</td><td><a class=\"ProveItLink\" href=\"expr.ipynb\"><img src=\"expr.png\" style=\"display:inline;vertical-align:middle;\" /></a></td></tr>\n",
       "<tr><td>1</td><td>Operation</td><td>operator:&nbsp;3<br>operand:&nbsp;6<br></td><td><a class=\"ProveItLink\" href=\"../f2dcd0dc595d4033251be9f359da87aae5cc7eae0/expr.ipynb\"><img src=\"../f2dcd0dc595d4033251be9f359da87aae5cc7eae0/expr.png\" style=\"display:inline;vertical-align:middle;\" /></a></td></tr>\n",
       "<tr><td>2</td><td>Operation</td><td>operator:&nbsp;29<br>operands:&nbsp;5<br></td><td><a class=\"ProveItLink\" href=\"../ad3bb779aaa6ee4fa1574455e754aa891e97189c0/expr.ipynb\"><img src=\"../ad3bb779aaa6ee4fa1574455e754aa891e97189c0/expr.png\" style=\"display:inline;vertical-align:middle;\" /></a></td></tr>\n",
       "<tr><td>3</td><td>Literal</td><td></td><td><a class=\"ProveItLink\" href=\"../../../../../logic/booleans/quantification/universality/__pv_it/common/083d2baa0b8ecab1d230f9ec29a15aa1355809fb0/expr.ipynb\"><img src=\"../../../../../logic/booleans/quantification/universality/__pv_it/common/083d2baa0b8ecab1d230f9ec29a15aa1355809fb0/expr.png\" style=\"display:inline;vertical-align:middle;\" /></a></td></tr>\n",
       "<tr><td>4</td><td>ExprTuple</td><td>6</td><td><a class=\"ProveItLink\" href=\"../4160edaf83ee117fb4808a2f07a1c879933e16400/expr.ipynb\"><img src=\"../4160edaf83ee117fb4808a2f07a1c879933e16400/expr.png\" style=\"display:inline;vertical-align:middle;\" /></a></td></tr>\n",
       "<tr><td>5</td><td>ExprTuple</td><td>7, 15</td><td><a class=\"ProveItLink\" href=\"../486e54230b8fcab29a766987058cf0d6645f81bc0/expr.ipynb\"><img src=\"../486e54230b8fcab29a766987058cf0d6645f81bc0/expr.png\" style=\"display:inline;vertical-align:middle;\" /></a></td></tr>\n",
       "<tr><td>6</td><td>Lambda</td><td>parameters:&nbsp;19<br>body:&nbsp;8<br></td><td><a class=\"ProveItLink\" href=\"../5a784452812114251737ad9ff9bf2f53271c77c20/expr.ipynb\"><img src=\"../5a784452812114251737ad9ff9bf2f53271c77c20/expr.png\" style=\"display:inline;vertical-align:middle;\" /></a></td></tr>\n",
       "<tr><td>7</td><td>Operation</td><td>operator:&nbsp;9<br>operand:&nbsp;12<br></td><td><a class=\"ProveItLink\" href=\"../6e64fa5092531539ea792622d01b789a1531a4f70/expr.ipynb\"><img src=\"../6e64fa5092531539ea792622d01b789a1531a4f70/expr.png\" style=\"display:inline;vertical-align:middle;\" /></a></td></tr>\n",
       "<tr><td>8</td><td>Conditional</td><td>value:&nbsp;11<br>condition:&nbsp;17<br></td><td><a class=\"ProveItLink\" href=\"../52d07e7a27e9277382dc904a791550a3058507330/expr.ipynb\"><img src=\"../52d07e7a27e9277382dc904a791550a3058507330/expr.png\" style=\"display:inline;vertical-align:middle;\" /></a></td></tr>\n",
       "<tr><td>9</td><td>Literal</td><td></td><td><a class=\"ProveItLink\" href=\"../../common/77e8fa44a3a75678f8bf531e44b9c2ce104c514c0/expr.ipynb\"><img src=\"../../common/77e8fa44a3a75678f8bf531e44b9c2ce104c514c0/expr.png\" style=\"display:inline;vertical-align:middle;\" /></a></td></tr>\n",
       "<tr><td>10</td><td>ExprTuple</td><td>12</td><td><a class=\"ProveItLink\" href=\"../32fc7bd24f13fdb0e39485210da85379363e56a30/expr.ipynb\"><img src=\"../32fc7bd24f13fdb0e39485210da85379363e56a30/expr.png\" style=\"display:inline;vertical-align:middle;\" /></a></td></tr>\n",
       "<tr><td>11</td><td>Operation</td><td>operator:&nbsp;29<br>operands:&nbsp;13<br></td><td><a class=\"ProveItLink\" href=\"../9e37b2c6084ea6904f60af0249647804c500862b0/expr.ipynb\"><img src=\"../9e37b2c6084ea6904f60af0249647804c500862b0/expr.png\" style=\"display:inline;vertical-align:middle;\" /></a></td></tr>\n",
       "<tr><td>12</td><td>Lambda</td><td>parameters:&nbsp;19<br>body:&nbsp;14<br></td><td><a class=\"ProveItLink\" href=\"../72b7609f48944e462b7982de186048930643d7d40/expr.ipynb\"><img src=\"../72b7609f48944e462b7982de186048930643d7d40/expr.png\" style=\"display:inline;vertical-align:middle;\" /></a></td></tr>\n",
       "<tr><td>13</td><td>ExprTuple</td><td>16, 15</td><td><a class=\"ProveItLink\" href=\"../b160ad77f6cc39ee35881e9e0fd45b211189c9540/expr.ipynb\"><img src=\"../b160ad77f6cc39ee35881e9e0fd45b211189c9540/expr.png\" style=\"display:inline;vertical-align:middle;\" /></a></td></tr>\n",
       "<tr><td>14</td><td>Conditional</td><td>value:&nbsp;16<br>condition:&nbsp;17<br></td><td><a class=\"ProveItLink\" href=\"../508b2f9d5ac94b10904947d5946ee201d535ddcc0/expr.ipynb\"><img src=\"../508b2f9d5ac94b10904947d5946ee201d535ddcc0/expr.png\" style=\"display:inline;vertical-align:middle;\" /></a></td></tr>\n",
       "<tr><td>15</td><td>Literal</td><td></td><td><a class=\"ProveItLink\" href=\"../../../../number_sets/real_numbers/__pv_it/common/174917e13d50b91c585b7f765a2896383a3ae8010/expr.ipynb\"><img src=\"../../../../number_sets/real_numbers/__pv_it/common/174917e13d50b91c585b7f765a2896383a3ae8010/expr.png\" style=\"display:inline;vertical-align:middle;\" /></a></td></tr>\n",
       "<tr><td>16</td><td>Operation</td><td>operator:&nbsp;18<br>operands:&nbsp;19<br></td><td><a class=\"ProveItLink\" href=\"../../../../../core_expr_types/__pv_it/common/9c8f9c0c3ca5a7df840ea1afd668e83e9c2a06130/expr.ipynb\"><img src=\"../../../../../core_expr_types/__pv_it/common/9c8f9c0c3ca5a7df840ea1afd668e83e9c2a06130/expr.png\" style=\"display:inline;vertical-align:middle;\" /></a></td></tr>\n",
       "<tr><td>17</td><td>Operation</td><td>operator:&nbsp;20<br>operands:&nbsp;21<br></td><td><a class=\"ProveItLink\" href=\"../ec2ae8baecb5873efb62df0b20bc71a69a05c2600/expr.ipynb\"><img src=\"../ec2ae8baecb5873efb62df0b20bc71a69a05c2600/expr.png\" style=\"display:inline;vertical-align:middle;\" /></a></td></tr>\n",
       "<tr><td>18</td><td>Variable</td><td></td><td><a class=\"ProveItLink\" href=\"../../../../../__pv_it/common/01b6dbb444a31fc38af4c2379badef6c75b363710/expr.ipynb\"><img src=\"../../../../../__pv_it/common/01b6dbb444a31fc38af4c2379badef6c75b363710/expr.png\" style=\"display:inline;vertical-align:middle;\" /></a></td></tr>\n",
       "<tr><td>19</td><td>ExprTuple</td><td>22</td><td><a class=\"ProveItLink\" href=\"../../../../../core_expr_types/__pv_it/common/444da5a1d6d4966e75dd84efc2704e338e811fe40/expr.ipynb\"><img src=\"../../../../../core_expr_types/__pv_it/common/444da5a1d6d4966e75dd84efc2704e338e811fe40/expr.png\" style=\"display:inline;vertical-align:middle;\" /></a></td></tr>\n",
       "<tr><td>20</td><td>Literal</td><td></td><td><a class=\"ProveItLink\" href=\"../../../../../logic/booleans/conjunction/__pv_it/common/42118ff318bd65d98b1393f64ce7c2269feef76e0/expr.ipynb\"><img src=\"../../../../../logic/booleans/conjunction/__pv_it/common/42118ff318bd65d98b1393f64ce7c2269feef76e0/expr.png\" style=\"display:inline;vertical-align:middle;\" /></a></td></tr>\n",
       "<tr><td>21</td><td>ExprTuple</td><td>23</td><td><a class=\"ProveItLink\" href=\"../fb77db0d8c11c16542ef674c95b0b3b3b67ee91e0/expr.ipynb\"><img src=\"../fb77db0d8c11c16542ef674c95b0b3b3b67ee91e0/expr.png\" style=\"display:inline;vertical-align:middle;\" /></a></td></tr>\n",
       "<tr><td>22</td><td>ExprRange</td><td>lambda_map:&nbsp;24<br>start_index:&nbsp;26<br>end_index:&nbsp;27<br></td><td><a class=\"ProveItLink\" href=\"../../../../../core_expr_types/__pv_it/common/d50f819f834d55ea1b9fad150926a94bf07ad8fc0/expr.ipynb\"><img src=\"../../../../../core_expr_types/__pv_it/common/d50f819f834d55ea1b9fad150926a94bf07ad8fc0/expr.png\" style=\"display:inline;vertical-align:middle;\" /></a></td></tr>\n",
       "<tr><td>23</td><td>ExprRange</td><td>lambda_map:&nbsp;25<br>start_index:&nbsp;26<br>end_index:&nbsp;27<br></td><td><a class=\"ProveItLink\" href=\"../1a36955407da083fb803b5d633575e8cb30a99120/expr.ipynb\"><img src=\"../1a36955407da083fb803b5d633575e8cb30a99120/expr.png\" style=\"display:inline;vertical-align:middle;\" /></a></td></tr>\n",
       "<tr><td>24</td><td>Lambda</td><td>parameter:&nbsp;35<br>body:&nbsp;31<br></td><td><a class=\"ProveItLink\" href=\"../../../../../core_expr_types/__pv_it/common/f8f30fee5e5b4e37951ff8886b574795bf35d80c0/expr.ipynb\"><img src=\"../../../../../core_expr_types/__pv_it/common/f8f30fee5e5b4e37951ff8886b574795bf35d80c0/expr.png\" style=\"display:inline;vertical-align:middle;\" /></a></td></tr>\n",
       "<tr><td>25</td><td>Lambda</td><td>parameter:&nbsp;35<br>body:&nbsp;28<br></td><td><a class=\"ProveItLink\" href=\"../84ce293f08cb6dd495067baf26b3ba9a208125c00/expr.ipynb\"><img src=\"../84ce293f08cb6dd495067baf26b3ba9a208125c00/expr.png\" style=\"display:inline;vertical-align:middle;\" /></a></td></tr>\n",
       "<tr><td>26</td><td>Literal</td><td></td><td><a class=\"ProveItLink\" href=\"../../../../numerals/__pv_it/common/682157d4892d216d9e5626ed533aff9b56b9506e0/expr.ipynb\"><img src=\"../../../../numerals/__pv_it/common/682157d4892d216d9e5626ed533aff9b56b9506e0/expr.png\" style=\"display:inline;vertical-align:middle;\" /></a></td></tr>\n",
       "<tr><td>27</td><td>Variable</td><td></td><td><a class=\"ProveItLink\" href=\"../../../../../__pv_it/common/8968bb04eb3f7dfa02353397ce929b025bbd79c20/expr.ipynb\"><img src=\"../../../../../__pv_it/common/8968bb04eb3f7dfa02353397ce929b025bbd79c20/expr.png\" style=\"display:inline;vertical-align:middle;\" /></a></td></tr>\n",
       "<tr><td>28</td><td>Operation</td><td>operator:&nbsp;29<br>operands:&nbsp;30<br></td><td><a class=\"ProveItLink\" href=\"../8da5d1e514f6df4f11d3c4d4a87e5f8de78263000/expr.ipynb\"><img src=\"../8da5d1e514f6df4f11d3c4d4a87e5f8de78263000/expr.png\" style=\"display:inline;vertical-align:middle;\" /></a></td></tr>\n",
       "<tr><td>29</td><td>Literal</td><td></td><td><a class=\"ProveItLink\" href=\"../../../../../logic/sets/membership/__pv_it/common/477487d8796864d23d5810f83761435f25167f690/expr.ipynb\"><img src=\"../../../../../logic/sets/membership/__pv_it/common/477487d8796864d23d5810f83761435f25167f690/expr.png\" style=\"display:inline;vertical-align:middle;\" /></a></td></tr>\n",
       "<tr><td>30</td><td>ExprTuple</td><td>31, 32</td><td><a class=\"ProveItLink\" href=\"../afbcfdb997ef689412361c4b8f3f22be7e985f6c0/expr.ipynb\"><img src=\"../afbcfdb997ef689412361c4b8f3f22be7e985f6c0/expr.png\" style=\"display:inline;vertical-align:middle;\" /></a></td></tr>\n",
       "<tr><td>31</td><td>IndexedVar</td><td>variable:&nbsp;33<br>index:&nbsp;35<br></td><td><a class=\"ProveItLink\" href=\"../../../../../core_expr_types/__pv_it/common/b7a46615d4e67a28ab963909b818c72af8e8e7c60/expr.ipynb\"><img src=\"../../../../../core_expr_types/__pv_it/common/b7a46615d4e67a28ab963909b818c72af8e8e7c60/expr.png\" style=\"display:inline;vertical-align:middle;\" /></a></td></tr>\n",
       "<tr><td>32</td><td>Variable</td><td></td><td><a class=\"ProveItLink\" href=\"../../../../../__pv_it/common/38f47c5670ea8c5b56253448e95d8afb56bc09b40/expr.ipynb\"><img src=\"../../../../../__pv_it/common/38f47c5670ea8c5b56253448e95d8afb56bc09b40/expr.png\" style=\"display:inline;vertical-align:middle;\" /></a></td></tr>\n",
       "<tr><td>33</td><td>Variable</td><td></td><td><a class=\"ProveItLink\" href=\"../../../../../__pv_it/common/a0d9d672aa5e272d907247690c152cc2c6daafb70/expr.ipynb\"><img src=\"../../../../../__pv_it/common/a0d9d672aa5e272d907247690c152cc2c6daafb70/expr.png\" style=\"display:inline;vertical-align:middle;\" /></a></td></tr>\n",
       "<tr><td>34</td><td>ExprTuple</td><td>35</td><td><a class=\"ProveItLink\" href=\"../../../../../core_expr_types/__pv_it/common/4b0dd6be36d76552eda6a95d5b4a27f5a5b62f900/expr.ipynb\"><img src=\"../../../../../core_expr_types/__pv_it/common/4b0dd6be36d76552eda6a95d5b4a27f5a5b62f900/expr.png\" style=\"display:inline;vertical-align:middle;\" /></a></td></tr>\n",
       "<tr><td>35</td><td>Variable</td><td></td><td><a class=\"ProveItLink\" href=\"../../../../../core_expr_types/__pv_it/common/006c465e50948aa2b52285e2de47974f741255cc0/expr.ipynb\"><img src=\"../../../../../core_expr_types/__pv_it/common/006c465e50948aa2b52285e2de47974f741255cc0/expr.png\" style=\"display:inline;vertical-align:middle;\" /></a></td></tr>\n",
       "</table>\n"
      ],
      "text/plain": [
       "0. (forall_{x_{1}, x_{2}, ..., x_{n} in S} (f(x_{1}, x_{2}, ..., x_{n}) in RealPos), [Integrate_{x_{1}, x_{2}, ..., x_{n} in S} f(x_{1}, x_{2}, ..., x_{n})] in RealPos)\n",
       "   core type: ExprTuple\n",
       "   sub-expressions: 1, 2\n",
       "1. forall_{x_{1}, x_{2}, ..., x_{n} in S} (f(x_{1}, x_{2}, ..., x_{n}) in RealPos)\n",
       "   core type: Operation\n",
       "   operator: 3\n",
       "   operand: 6\n",
       "2. [Integrate_{x_{1}, x_{2}, ..., x_{n} in S} f(x_{1}, x_{2}, ..., x_{n})] in RealPos\n",
       "   core type: Operation\n",
       "   operator: 29\n",
       "   operands: 5\n",
       "3. forall\n",
       "   core type: Literal\n",
       "   sub-expressions: \n",
       "4. ((x_{1}, x_{2}, ..., x_{n}) -> {f(x_{1}, x_{2}, ..., x_{n}) in RealPos if (x_{1} in S) and  (x_{2} in S) and  ... and  (x_{n} in S).)\n",
       "   core type: ExprTuple\n",
       "   sub-expressions: 6\n",
       "5. (Integrate_{x_{1}, x_{2}, ..., x_{n} in S} f(x_{1}, x_{2}, ..., x_{n}), RealPos)\n",
       "   core type: ExprTuple\n",
       "   sub-expressions: 7, 15\n",
       "6. (x_{1}, x_{2}, ..., x_{n}) -> {f(x_{1}, x_{2}, ..., x_{n}) in RealPos if (x_{1} in S) and  (x_{2} in S) and  ... and  (x_{n} in S).\n",
       "   core type: Lambda\n",
       "   parameters: 19\\n   body: 8\n",
       "7. Integrate_{x_{1}, x_{2}, ..., x_{n} in S} f(x_{1}, x_{2}, ..., x_{n})\n",
       "   core type: Operation\n",
       "   operator: 9\n",
       "   operand: 12\n",
       "8. {f(x_{1}, x_{2}, ..., x_{n}) in RealPos if (x_{1} in S) and  (x_{2} in S) and  ... and  (x_{n} in S).\n",
       "   core type: Conditional\n",
       "   value: 11\n",
       "   condition: 17\n",
       "9. Integrate\n",
       "   core type: Literal\n",
       "   sub-expressions: \n",
       "10. ((x_{1}, x_{2}, ..., x_{n}) -> {f(x_{1}, x_{2}, ..., x_{n}) if (x_{1} in S) and  (x_{2} in S) and  ... and  (x_{n} in S).)\n",
       "    core type: ExprTuple\n",
       "    sub-expressions: 12\n",
       "11. f(x_{1}, x_{2}, ..., x_{n}) in RealPos\n",
       "    core type: Operation\n",
       "    operator: 29\n",
       "    operands: 13\n",
       "12. (x_{1}, x_{2}, ..., x_{n}) -> {f(x_{1}, x_{2}, ..., x_{n}) if (x_{1} in S) and  (x_{2} in S) and  ... and  (x_{n} in S).\n",
       "    core type: Lambda\n",
       "    parameters: 19\\n    body: 14\n",
       "13. (f(x_{1}, x_{2}, ..., x_{n}), RealPos)\n",
       "    core type: ExprTuple\n",
       "    sub-expressions: 16, 15\n",
       "14. {f(x_{1}, x_{2}, ..., x_{n}) if (x_{1} in S) and  (x_{2} in S) and  ... and  (x_{n} in S).\n",
       "    core type: Conditional\n",
       "    value: 16\n",
       "    condition: 17\n",
       "15. RealPos\n",
       "    core type: Literal\n",
       "    sub-expressions: \n",
       "16. f(x_{1}, x_{2}, ..., x_{n})\n",
       "    core type: Operation\n",
       "    operator: 18\n",
       "    operands: 19\n",
       "17. (x_{1} in S) and  (x_{2} in S) and  ... and  (x_{n} in S)\n",
       "    core type: Operation\n",
       "    operator: 20\n",
       "    operands: 21\n",
       "18. f\n",
       "    core type: Variable\n",
       "    sub-expressions: \n",
       "19. (x_{1}, x_{2}, ..., x_{n})\n",
       "    core type: ExprTuple\n",
       "    sub-expressions: 22\n",
       "20. and\n",
       "    core type: Literal\n",
       "    sub-expressions: \n",
       "21. ((x_{1} in S), (x_{2} in S), ..., (x_{n} in S))\n",
       "    core type: ExprTuple\n",
       "    sub-expressions: 23\n",
       "22. x_{1}, x_{2}, ..., x_{n}\n",
       "    core type: ExprRange\n",
       "    lambda_map: 24\n",
       "    start_index: 26\n",
       "    end_index: 27\n",
       "23. (x_{1} in S), (x_{2} in S), ..., (x_{n} in S)\n",
       "    core type: ExprRange\n",
       "    lambda_map: 25\n",
       "    start_index: 26\n",
       "    end_index: 27\n",
       "24. _a -> x_{_a}\n",
       "    core type: Lambda\n",
       "    parameter: 35\n",
       "    body: 31\n",
       "25. _a -> (x_{_a} in S)\n",
       "    core type: Lambda\n",
       "    parameter: 35\n",
       "    body: 28\n",
       "26. 1\n",
       "    core type: Literal\n",
       "    sub-expressions: \n",
       "27. n\n",
       "    core type: Variable\n",
       "    sub-expressions: \n",
       "28. x_{_a} in S\n",
       "    core type: Operation\n",
       "    operator: 29\n",
       "    operands: 30\n",
       "29. in\n",
       "    core type: Literal\n",
       "    sub-expressions: \n",
       "30. (x_{_a}, S)\n",
       "    core type: ExprTuple\n",
       "    sub-expressions: 31, 32\n",
       "31. x_{_a}\n",
       "    core type: IndexedVar\n",
       "variable: 33\n",
       "index: 35\n",
       "32. S\n",
       "    core type: Variable\n",
       "    sub-expressions: \n",
       "33. x\n",
       "    core type: Variable\n",
       "    sub-expressions: \n",
       "34. (_a)\n",
       "    core type: ExprTuple\n",
       "    sub-expressions: 35\n",
       "35. _a\n",
       "    core type: Variable\n",
       "    sub-expressions: "
      ]
     },
     "metadata": {},
     "output_type": "display_data"
    }
   ],
   "source": [
    "# display the expression information\n",
    "stored_expr.expr_info()"
   ]
  },
  {
   "cell_type": "code",
   "execution_count": null,
   "metadata": {},
   "outputs": [],
   "source": []
  }
 ],
 "metadata": {
  "kernelspec": {
   "display_name": "Python 3",
   "language": "python",
   "name": "python3"
  }
 },
 "nbformat": 4,
 "nbformat_minor": 0
}