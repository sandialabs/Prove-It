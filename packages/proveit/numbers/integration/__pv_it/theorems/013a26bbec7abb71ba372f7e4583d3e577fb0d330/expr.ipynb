{
 "cells": [
  {
   "cell_type": "markdown",
   "metadata": {},
   "source": [
    "Expression of type <a class=\"ProveItLink\" href=\"../../../../../../../doc/html/api/proveit.Lambda.html\">Lambda</a>\n",
    "=======================\n",
    "# from the theory of <a class=\"ProveItLink\" href=\"../../../_theory_nbs_/theory.ipynb\">proveit.numbers.integration</a>"
   ]
  },
  {
   "cell_type": "code",
   "execution_count": 1,
   "metadata": {},
   "outputs": [],
   "source": [
    "import proveit\n",
    "# Automation is not needed when building an expression:\n",
    "proveit.defaults.automation = False # This will speed things up.\n",
    "proveit.defaults.inline_pngs = False # Makes files smaller.\n",
    "%load_expr # Load the stored expression as 'stored_expr'\n",
    "# import Expression classes needed to build the expression\n",
    "from proveit import Lambda, S, f, fx, x\n",
    "from proveit.logic import Forall, Implies, InSet\n",
    "from proveit.numbers import Integrate, Real"
   ]
  },
  {
   "cell_type": "code",
   "execution_count": 2,
   "metadata": {},
   "outputs": [
    {
     "data": {
      "text/html": [
       "<strong id=\"expr\">expr:</strong> <a class=\"ProveItLink\" href=\"expr.ipynb\"><img src=\"expr.png\" style=\"display:inline;vertical-align:middle;\" /></a><br>"
      ],
      "text/plain": [
       "<IPython.core.display.HTML object>"
      ]
     },
     "metadata": {},
     "output_type": "display_data"
    }
   ],
   "source": [
    "# build up the expression from sub-expressions\n",
    "sub_expr1 = [x]\n",
    "expr = Lambda([f, S], Implies(Forall(instance_param_or_params = sub_expr1, instance_expr = InSet(fx, Real), domain = S), InSet(Integrate(index_or_indices = sub_expr1, integrand = fx, domain = S), Real)))"
   ]
  },
  {
   "cell_type": "code",
   "execution_count": 3,
   "metadata": {},
   "outputs": [
    {
     "name": "stdout",
     "output_type": "stream",
     "text": [
      "Passed sanity check: expr matches stored_expr\n"
     ]
    }
   ],
   "source": [
    "# check that the built expression is the same as the stored expression\n",
    "assert expr == stored_expr\n",
    "assert expr._style_id == stored_expr._style_id\n",
    "print(\"Passed sanity check: expr matches stored_expr\")"
   ]
  },
  {
   "cell_type": "code",
   "execution_count": 4,
   "metadata": {},
   "outputs": [
    {
     "name": "stdout",
     "output_type": "stream",
     "text": [
      "\\left(f, S\\right) \\mapsto \\left(\\left[\\forall_{x \\in S}~\\left(f\\left(x\\right) \\in \\mathbb{R}\\right)\\right] \\Rightarrow \\left(\\left[\\int_{x \\in S}~f\\left(x\\right)\\right] \\in \\mathbb{R}\\right)\\right)\n"
     ]
    }
   ],
   "source": [
    "# Show the LaTeX representation of the expression for convenience if you need it.\n",
    "print(stored_expr.latex())"
   ]
  },
  {
   "cell_type": "code",
   "execution_count": 5,
   "metadata": {},
   "outputs": [
    {
     "data": {
      "text/html": [
       "no style options"
      ],
      "text/plain": [
       "no style options"
      ]
     },
     "metadata": {},
     "output_type": "display_data"
    }
   ],
   "source": [
    "stored_expr.style_options()"
   ]
  },
  {
   "cell_type": "code",
   "execution_count": 6,
   "metadata": {},
   "outputs": [
    {
     "data": {
      "text/html": [
       "<table><tr><th>&nbsp;</th><th>core type</th><th>sub-expressions</th><th>expression</th></tr>\n",
       "<tr><td>0</td><td>Lambda</td><td>parameters:&nbsp;1<br>body:&nbsp;2<br></td><td><a class=\"ProveItLink\" href=\"expr.ipynb\"><img src=\"expr.png\" style=\"display:inline;vertical-align:middle;\" /></a></td></tr>\n",
       "<tr><td>1</td><td>ExprTuple</td><td>22, 27</td><td><a class=\"ProveItLink\" href=\"../609e0536436fa559c5c2262452b64484087b461b0/expr.ipynb\"><img src=\"../609e0536436fa559c5c2262452b64484087b461b0/expr.png\" style=\"display:inline;vertical-align:middle;\" /></a></td></tr>\n",
       "<tr><td>2</td><td>Operation</td><td>operator:&nbsp;3<br>operands:&nbsp;4<br></td><td><a class=\"ProveItLink\" href=\"../8372fdb0a2e52b8761c1ca62fe34fb2964e182c60/expr.ipynb\"><img src=\"../8372fdb0a2e52b8761c1ca62fe34fb2964e182c60/expr.png\" style=\"display:inline;vertical-align:middle;\" /></a></td></tr>\n",
       "<tr><td>3</td><td>Literal</td><td></td><td><a class=\"ProveItLink\" href=\"../../../../../logic/booleans/implication/__pv_it/common/02bdb382575728da8cdbaed545b9096ea7a1bd5b0/expr.ipynb\"><img src=\"../../../../../logic/booleans/implication/__pv_it/common/02bdb382575728da8cdbaed545b9096ea7a1bd5b0/expr.png\" style=\"display:inline;vertical-align:middle;\" /></a></td></tr>\n",
       "<tr><td>4</td><td>ExprTuple</td><td>5, 6</td><td><a class=\"ProveItLink\" href=\"../691168801404751a51a2218e05aaadc4b7995da10/expr.ipynb\"><img src=\"../691168801404751a51a2218e05aaadc4b7995da10/expr.png\" style=\"display:inline;vertical-align:middle;\" /></a></td></tr>\n",
       "<tr><td>5</td><td>Operation</td><td>operator:&nbsp;7<br>operand:&nbsp;10<br></td><td><a class=\"ProveItLink\" href=\"../b2498521aa6ad1d5c360edd5718f388a62e9ed9c0/expr.ipynb\"><img src=\"../b2498521aa6ad1d5c360edd5718f388a62e9ed9c0/expr.png\" style=\"display:inline;vertical-align:middle;\" /></a></td></tr>\n",
       "<tr><td>6</td><td>Operation</td><td>operator:&nbsp;24<br>operands:&nbsp;9<br></td><td><a class=\"ProveItLink\" href=\"../2c8f8b23a19a0b2af3030bb45f66a3e83388c96f0/expr.ipynb\"><img src=\"../2c8f8b23a19a0b2af3030bb45f66a3e83388c96f0/expr.png\" style=\"display:inline;vertical-align:middle;\" /></a></td></tr>\n",
       "<tr><td>7</td><td>Literal</td><td></td><td><a class=\"ProveItLink\" href=\"../../../../../logic/booleans/quantification/universality/__pv_it/common/083d2baa0b8ecab1d230f9ec29a15aa1355809fb0/expr.ipynb\"><img src=\"../../../../../logic/booleans/quantification/universality/__pv_it/common/083d2baa0b8ecab1d230f9ec29a15aa1355809fb0/expr.png\" style=\"display:inline;vertical-align:middle;\" /></a></td></tr>\n",
       "<tr><td>8</td><td>ExprTuple</td><td>10</td><td><a class=\"ProveItLink\" href=\"../c11099a799ea0b8cea6bd67459eb56f796616e100/expr.ipynb\"><img src=\"../c11099a799ea0b8cea6bd67459eb56f796616e100/expr.png\" style=\"display:inline;vertical-align:middle;\" /></a></td></tr>\n",
       "<tr><td>9</td><td>ExprTuple</td><td>11, 19</td><td><a class=\"ProveItLink\" href=\"../75f71d07403a1dd50a20dafb91335b8b186994f00/expr.ipynb\"><img src=\"../75f71d07403a1dd50a20dafb91335b8b186994f00/expr.png\" style=\"display:inline;vertical-align:middle;\" /></a></td></tr>\n",
       "<tr><td>10</td><td>Lambda</td><td>parameter:&nbsp;26<br>body:&nbsp;12<br></td><td><a class=\"ProveItLink\" href=\"../baada3ac98ced0d05f621a228675846582354b590/expr.ipynb\"><img src=\"../baada3ac98ced0d05f621a228675846582354b590/expr.png\" style=\"display:inline;vertical-align:middle;\" /></a></td></tr>\n",
       "<tr><td>11</td><td>Operation</td><td>operator:&nbsp;13<br>operand:&nbsp;16<br></td><td><a class=\"ProveItLink\" href=\"../c6051dd83ac7f2ccba07e85c6afea0ce1fa02d9f0/expr.ipynb\"><img src=\"../c6051dd83ac7f2ccba07e85c6afea0ce1fa02d9f0/expr.png\" style=\"display:inline;vertical-align:middle;\" /></a></td></tr>\n",
       "<tr><td>12</td><td>Conditional</td><td>value:&nbsp;15<br>condition:&nbsp;21<br></td><td><a class=\"ProveItLink\" href=\"../fc3e76b666dd6b9af2dda97b1f9d23b40b6980ec0/expr.ipynb\"><img src=\"../fc3e76b666dd6b9af2dda97b1f9d23b40b6980ec0/expr.png\" style=\"display:inline;vertical-align:middle;\" /></a></td></tr>\n",
       "<tr><td>13</td><td>Literal</td><td></td><td><a class=\"ProveItLink\" href=\"../../common/77e8fa44a3a75678f8bf531e44b9c2ce104c514c0/expr.ipynb\"><img src=\"../../common/77e8fa44a3a75678f8bf531e44b9c2ce104c514c0/expr.png\" style=\"display:inline;vertical-align:middle;\" /></a></td></tr>\n",
       "<tr><td>14</td><td>ExprTuple</td><td>16</td><td><a class=\"ProveItLink\" href=\"../3f08b7b0b265417529a65a1a2f8119fbd7a139b80/expr.ipynb\"><img src=\"../3f08b7b0b265417529a65a1a2f8119fbd7a139b80/expr.png\" style=\"display:inline;vertical-align:middle;\" /></a></td></tr>\n",
       "<tr><td>15</td><td>Operation</td><td>operator:&nbsp;24<br>operands:&nbsp;17<br></td><td><a class=\"ProveItLink\" href=\"../5aeb3399b4ba5c28130c5eaecf0bdb41ff45af140/expr.ipynb\"><img src=\"../5aeb3399b4ba5c28130c5eaecf0bdb41ff45af140/expr.png\" style=\"display:inline;vertical-align:middle;\" /></a></td></tr>\n",
       "<tr><td>16</td><td>Lambda</td><td>parameter:&nbsp;26<br>body:&nbsp;18<br></td><td><a class=\"ProveItLink\" href=\"../efd209593040c0875f7ed5fd6cf18261d247017d0/expr.ipynb\"><img src=\"../efd209593040c0875f7ed5fd6cf18261d247017d0/expr.png\" style=\"display:inline;vertical-align:middle;\" /></a></td></tr>\n",
       "<tr><td>17</td><td>ExprTuple</td><td>20, 19</td><td><a class=\"ProveItLink\" href=\"../93bd09c396047050600718a9bc4e0a13bb3deeb50/expr.ipynb\"><img src=\"../93bd09c396047050600718a9bc4e0a13bb3deeb50/expr.png\" style=\"display:inline;vertical-align:middle;\" /></a></td></tr>\n",
       "<tr><td>18</td><td>Conditional</td><td>value:&nbsp;20<br>condition:&nbsp;21<br></td><td><a class=\"ProveItLink\" href=\"../b84e5be2c67e65ba80bd8691f27c02c2940fb4c40/expr.ipynb\"><img src=\"../b84e5be2c67e65ba80bd8691f27c02c2940fb4c40/expr.png\" style=\"display:inline;vertical-align:middle;\" /></a></td></tr>\n",
       "<tr><td>19</td><td>Literal</td><td></td><td><a class=\"ProveItLink\" href=\"../../../../number_sets/real_numbers/__pv_it/common/93cac87a1a47e613f7a83b23ef7891599a1a4cca0/expr.ipynb\"><img src=\"../../../../number_sets/real_numbers/__pv_it/common/93cac87a1a47e613f7a83b23ef7891599a1a4cca0/expr.png\" style=\"display:inline;vertical-align:middle;\" /></a></td></tr>\n",
       "<tr><td>20</td><td>Operation</td><td>operator:&nbsp;22<br>operand:&nbsp;26<br></td><td><a class=\"ProveItLink\" href=\"../../../../../__pv_it/common/6774f61458aed4cc9eb250f92b3634f1d09b19a40/expr.ipynb\"><img src=\"../../../../../__pv_it/common/6774f61458aed4cc9eb250f92b3634f1d09b19a40/expr.png\" style=\"display:inline;vertical-align:middle;\" /></a></td></tr>\n",
       "<tr><td>21</td><td>Operation</td><td>operator:&nbsp;24<br>operands:&nbsp;25<br></td><td><a class=\"ProveItLink\" href=\"../e15daefd530e6af1913a3a751ea70ed093591b3d0/expr.ipynb\"><img src=\"../e15daefd530e6af1913a3a751ea70ed093591b3d0/expr.png\" style=\"display:inline;vertical-align:middle;\" /></a></td></tr>\n",
       "<tr><td>22</td><td>Variable</td><td></td><td><a class=\"ProveItLink\" href=\"../../../../../__pv_it/common/01b6dbb444a31fc38af4c2379badef6c75b363710/expr.ipynb\"><img src=\"../../../../../__pv_it/common/01b6dbb444a31fc38af4c2379badef6c75b363710/expr.png\" style=\"display:inline;vertical-align:middle;\" /></a></td></tr>\n",
       "<tr><td>23</td><td>ExprTuple</td><td>26</td><td><a class=\"ProveItLink\" href=\"../../../../../__pv_it/common/eacfeccc0521684fcb20fe8f5180ac50fca471f20/expr.ipynb\"><img src=\"../../../../../__pv_it/common/eacfeccc0521684fcb20fe8f5180ac50fca471f20/expr.png\" style=\"display:inline;vertical-align:middle;\" /></a></td></tr>\n",
       "<tr><td>24</td><td>Literal</td><td></td><td><a class=\"ProveItLink\" href=\"../../../../../logic/sets/membership/__pv_it/common/477487d8796864d23d5810f83761435f25167f690/expr.ipynb\"><img src=\"../../../../../logic/sets/membership/__pv_it/common/477487d8796864d23d5810f83761435f25167f690/expr.png\" style=\"display:inline;vertical-align:middle;\" /></a></td></tr>\n",
       "<tr><td>25</td><td>ExprTuple</td><td>26, 27</td><td><a class=\"ProveItLink\" href=\"../c7c06b26a27420fe15bf7758f31a7b4d4d978d0b0/expr.ipynb\"><img src=\"../c7c06b26a27420fe15bf7758f31a7b4d4d978d0b0/expr.png\" style=\"display:inline;vertical-align:middle;\" /></a></td></tr>\n",
       "<tr><td>26</td><td>Variable</td><td></td><td><a class=\"ProveItLink\" href=\"../../../../../__pv_it/common/a0d9d672aa5e272d907247690c152cc2c6daafb70/expr.ipynb\"><img src=\"../../../../../__pv_it/common/a0d9d672aa5e272d907247690c152cc2c6daafb70/expr.png\" style=\"display:inline;vertical-align:middle;\" /></a></td></tr>\n",
       "<tr><td>27</td><td>Variable</td><td></td><td><a class=\"ProveItLink\" href=\"../../../../../__pv_it/common/38f47c5670ea8c5b56253448e95d8afb56bc09b40/expr.ipynb\"><img src=\"../../../../../__pv_it/common/38f47c5670ea8c5b56253448e95d8afb56bc09b40/expr.png\" style=\"display:inline;vertical-align:middle;\" /></a></td></tr>\n",
       "</table>\n"
      ],
      "text/plain": [
       "0. (f, S) -> ([forall_{x in S} (f(x) in Real)] => ([Integrate_{x in S} f(x)] in Real))\n",
       "   core type: Lambda\n",
       "   parameters: 1\\n   body: 2\n",
       "1. (f, S)\n",
       "   core type: ExprTuple\n",
       "   sub-expressions: 22, 27\n",
       "2. [forall_{x in S} (f(x) in Real)] => ([Integrate_{x in S} f(x)] in Real)\n",
       "   core type: Operation\n",
       "   operator: 3\n",
       "   operands: 4\n",
       "3. =>\n",
       "   core type: Literal\n",
       "   sub-expressions: \n",
       "4. (forall_{x in S} (f(x) in Real), [Integrate_{x in S} f(x)] in Real)\n",
       "   core type: ExprTuple\n",
       "   sub-expressions: 5, 6\n",
       "5. forall_{x in S} (f(x) in Real)\n",
       "   core type: Operation\n",
       "   operator: 7\n",
       "   operand: 10\n",
       "6. [Integrate_{x in S} f(x)] in Real\n",
       "   core type: Operation\n",
       "   operator: 24\n",
       "   operands: 9\n",
       "7. forall\n",
       "   core type: Literal\n",
       "   sub-expressions: \n",
       "8. (x -> {f(x) in Real if x in S.)\n",
       "   core type: ExprTuple\n",
       "   sub-expressions: 10\n",
       "9. (Integrate_{x in S} f(x), Real)\n",
       "   core type: ExprTuple\n",
       "   sub-expressions: 11, 19\n",
       "10. x -> {f(x) in Real if x in S.\n",
       "    core type: Lambda\n",
       "    parameter: 26\n",
       "    body: 12\n",
       "11. Integrate_{x in S} f(x)\n",
       "    core type: Operation\n",
       "    operator: 13\n",
       "    operand: 16\n",
       "12. {f(x) in Real if x in S.\n",
       "    core type: Conditional\n",
       "    value: 15\n",
       "    condition: 21\n",
       "13. Integrate\n",
       "    core type: Literal\n",
       "    sub-expressions: \n",
       "14. (x -> {f(x) if x in S.)\n",
       "    core type: ExprTuple\n",
       "    sub-expressions: 16\n",
       "15. f(x) in Real\n",
       "    core type: Operation\n",
       "    operator: 24\n",
       "    operands: 17\n",
       "16. x -> {f(x) if x in S.\n",
       "    core type: Lambda\n",
       "    parameter: 26\n",
       "    body: 18\n",
       "17. (f(x), Real)\n",
       "    core type: ExprTuple\n",
       "    sub-expressions: 20, 19\n",
       "18. {f(x) if x in S.\n",
       "    core type: Conditional\n",
       "    value: 20\n",
       "    condition: 21\n",
       "19. Real\n",
       "    core type: Literal\n",
       "    sub-expressions: \n",
       "20. f(x)\n",
       "    core type: Operation\n",
       "    operator: 22\n",
       "    operand: 26\n",
       "21. x in S\n",
       "    core type: Operation\n",
       "    operator: 24\n",
       "    operands: 25\n",
       "22. f\n",
       "    core type: Variable\n",
       "    sub-expressions: \n",
       "23. (x)\n",
       "    core type: ExprTuple\n",
       "    sub-expressions: 26\n",
       "24. in\n",
       "    core type: Literal\n",
       "    sub-expressions: \n",
       "25. (x, S)\n",
       "    core type: ExprTuple\n",
       "    sub-expressions: 26, 27\n",
       "26. x\n",
       "    core type: Variable\n",
       "    sub-expressions: \n",
       "27. S\n",
       "    core type: Variable\n",
       "    sub-expressions: "
      ]
     },
     "metadata": {},
     "output_type": "display_data"
    }
   ],
   "source": [
    "# display the expression information\n",
    "stored_expr.expr_info()"
   ]
  },
  {
   "cell_type": "code",
   "execution_count": null,
   "metadata": {},
   "outputs": [],
   "source": []
  }
 ],
 "metadata": {
  "kernelspec": {
   "display_name": "Python 3",
   "language": "python",
   "name": "python3"
  }
 },
 "nbformat": 4,
 "nbformat_minor": 0
}