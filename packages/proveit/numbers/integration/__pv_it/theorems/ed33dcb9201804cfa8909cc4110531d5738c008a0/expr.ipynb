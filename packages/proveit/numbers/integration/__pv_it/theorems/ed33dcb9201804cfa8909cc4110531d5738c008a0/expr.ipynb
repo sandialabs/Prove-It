{
 "cells": [
  {
   "cell_type": "markdown",
   "metadata": {},
   "source": [
    "Expression of type <a class=\"ProveItLink\" href=\"../../../../../../../doc/html/api/proveit.ExprTuple.html\">ExprTuple</a>\n",
    "=======================\n",
    "# from the theory of <a class=\"ProveItLink\" href=\"../../../_theory_nbs_/theory.ipynb\">proveit.numbers.integration</a>"
   ]
  },
  {
   "cell_type": "code",
   "execution_count": 1,
   "metadata": {},
   "outputs": [],
   "source": [
    "import proveit\n",
    "# Automation is not needed when building an expression:\n",
    "proveit.defaults.automation = False # This will speed things up.\n",
    "proveit.defaults.inline_pngs = False # Makes files smaller.\n",
    "%load_expr # Load the stored expression as 'stored_expr'\n",
    "# import Expression classes needed to build the expression\n",
    "from proveit import Conditional, ExprTuple, Lambda, S, f, n\n",
    "from proveit.core_expr_types import f__x_1_to_n, x_1_to_n\n",
    "from proveit.logic import Forall, Implies, InSet\n",
    "from proveit.numbers import Integrate, NaturalPos, Real"
   ]
  },
  {
   "cell_type": "code",
   "execution_count": 2,
   "metadata": {},
   "outputs": [
    {
     "data": {
      "text/html": [
       "<strong id=\"expr\">expr:</strong> <a class=\"ProveItLink\" href=\"expr.ipynb\"><img src=\"expr.png\" style=\"display:inline;vertical-align:middle;\" /></a><br>"
      ],
      "text/plain": [
       "<IPython.core.display.HTML object>"
      ]
     },
     "metadata": {},
     "output_type": "display_data"
    }
   ],
   "source": [
    "# build up the expression from sub-expressions\n",
    "sub_expr1 = [x_1_to_n]\n",
    "expr = ExprTuple(Lambda(n, Conditional(Forall(instance_param_or_params = [f, S], instance_expr = Implies(Forall(instance_param_or_params = sub_expr1, instance_expr = InSet(f__x_1_to_n, Real), domain = S), InSet(Integrate(index_or_indices = sub_expr1, integrand = f__x_1_to_n, domain = S), Real))), InSet(n, NaturalPos))))"
   ]
  },
  {
   "cell_type": "code",
   "execution_count": 3,
   "metadata": {},
   "outputs": [
    {
     "name": "stdout",
     "output_type": "stream",
     "text": [
      "Passed sanity check: expr matches stored_expr\n"
     ]
    }
   ],
   "source": [
    "# check that the built expression is the same as the stored expression\n",
    "assert expr == stored_expr\n",
    "assert expr._style_id == stored_expr._style_id\n",
    "print(\"Passed sanity check: expr matches stored_expr\")"
   ]
  },
  {
   "cell_type": "code",
   "execution_count": 4,
   "metadata": {},
   "outputs": [
    {
     "name": "stdout",
     "output_type": "stream",
     "text": [
      "\\left(n \\mapsto \\left\\{\\forall_{f, S}~\\left(\\left[\\forall_{x_{1}, x_{2}, \\ldots, x_{n} \\in S}~\\left(f\\left(x_{1}, x_{2}, \\ldots, x_{n}\\right) \\in \\mathbb{R}\\right)\\right] \\Rightarrow \\left(\\left[\\int_{x_{1}, x_{2}, \\ldots, x_{n} \\in S}~f\\left(x_{1}, x_{2}, \\ldots, x_{n}\\right)\\right] \\in \\mathbb{R}\\right)\\right) \\textrm{ if } n \\in \\mathbb{N}^+\\right..\\right)\n"
     ]
    }
   ],
   "source": [
    "# Show the LaTeX representation of the expression for convenience if you need it.\n",
    "print(stored_expr.latex())"
   ]
  },
  {
   "cell_type": "code",
   "execution_count": 5,
   "metadata": {},
   "outputs": [
    {
     "data": {
      "text/html": [
       "no style options"
      ],
      "text/plain": [
       "no style options"
      ]
     },
     "metadata": {},
     "output_type": "display_data"
    }
   ],
   "source": [
    "stored_expr.style_options()"
   ]
  },
  {
   "cell_type": "code",
   "execution_count": 6,
   "metadata": {},
   "outputs": [
    {
     "data": {
      "text/html": [
       "<table><tr><th>&nbsp;</th><th>core type</th><th>sub-expressions</th><th>expression</th></tr>\n",
       "<tr><td>0</td><td>ExprTuple</td><td>1</td><td><a class=\"ProveItLink\" href=\"expr.ipynb\"><img src=\"expr.png\" style=\"display:inline;vertical-align:middle;\" /></a></td></tr>\n",
       "<tr><td>1</td><td>Lambda</td><td>parameter:&nbsp;40<br>body:&nbsp;3<br></td><td><a class=\"ProveItLink\" href=\"../5a767f54d8d4a53a7c5599dbab878d764f288ba80/expr.ipynb\"><img src=\"../5a767f54d8d4a53a7c5599dbab878d764f288ba80/expr.png\" style=\"display:inline;vertical-align:middle;\" /></a></td></tr>\n",
       "<tr><td>2</td><td>ExprTuple</td><td>40</td><td><a class=\"ProveItLink\" href=\"../ca565dff2751ea9a3b48fe855133b9e0c2eca83f0/expr.ipynb\"><img src=\"../ca565dff2751ea9a3b48fe855133b9e0c2eca83f0/expr.png\" style=\"display:inline;vertical-align:middle;\" /></a></td></tr>\n",
       "<tr><td>3</td><td>Conditional</td><td>value:&nbsp;4<br>condition:&nbsp;5<br></td><td><a class=\"ProveItLink\" href=\"../482a6fd326629947e4b687254f15b8d2286083500/expr.ipynb\"><img src=\"../482a6fd326629947e4b687254f15b8d2286083500/expr.png\" style=\"display:inline;vertical-align:middle;\" /></a></td></tr>\n",
       "<tr><td>4</td><td>Operation</td><td>operator:&nbsp;16<br>operand:&nbsp;8<br></td><td><a class=\"ProveItLink\" href=\"../377bcec14a7c4bf15ad4103d452921e571c9bf090/expr.ipynb\"><img src=\"../377bcec14a7c4bf15ad4103d452921e571c9bf090/expr.png\" style=\"display:inline;vertical-align:middle;\" /></a></td></tr>\n",
       "<tr><td>5</td><td>Operation</td><td>operator:&nbsp;42<br>operands:&nbsp;7<br></td><td><a class=\"ProveItLink\" href=\"../c3c0a0522590e024022c8052cabac138164190560/expr.ipynb\"><img src=\"../c3c0a0522590e024022c8052cabac138164190560/expr.png\" style=\"display:inline;vertical-align:middle;\" /></a></td></tr>\n",
       "<tr><td>6</td><td>ExprTuple</td><td>8</td><td><a class=\"ProveItLink\" href=\"../b4f7bae0b568f2797e329efd26cf95e4ae4676560/expr.ipynb\"><img src=\"../b4f7bae0b568f2797e329efd26cf95e4ae4676560/expr.png\" style=\"display:inline;vertical-align:middle;\" /></a></td></tr>\n",
       "<tr><td>7</td><td>ExprTuple</td><td>40, 9</td><td><a class=\"ProveItLink\" href=\"../4459dda147b56e10026c83203ced1bc32b9704ab0/expr.ipynb\"><img src=\"../4459dda147b56e10026c83203ced1bc32b9704ab0/expr.png\" style=\"display:inline;vertical-align:middle;\" /></a></td></tr>\n",
       "<tr><td>8</td><td>Lambda</td><td>parameters:&nbsp;10<br>body:&nbsp;11<br></td><td><a class=\"ProveItLink\" href=\"../ea897a657e02c37e47ecc5754a9902ea961c01700/expr.ipynb\"><img src=\"../ea897a657e02c37e47ecc5754a9902ea961c01700/expr.png\" style=\"display:inline;vertical-align:middle;\" /></a></td></tr>\n",
       "<tr><td>9</td><td>Literal</td><td></td><td><a class=\"ProveItLink\" href=\"../../../../number_sets/natural_numbers/__pv_it/common/6111329435c43892c831c4793de96afbf80bdb3e0/expr.ipynb\"><img src=\"../../../../number_sets/natural_numbers/__pv_it/common/6111329435c43892c831c4793de96afbf80bdb3e0/expr.png\" style=\"display:inline;vertical-align:middle;\" /></a></td></tr>\n",
       "<tr><td>10</td><td>ExprTuple</td><td>31, 45</td><td><a class=\"ProveItLink\" href=\"../609e0536436fa559c5c2262452b64484087b461b0/expr.ipynb\"><img src=\"../609e0536436fa559c5c2262452b64484087b461b0/expr.png\" style=\"display:inline;vertical-align:middle;\" /></a></td></tr>\n",
       "<tr><td>11</td><td>Operation</td><td>operator:&nbsp;12<br>operands:&nbsp;13<br></td><td><a class=\"ProveItLink\" href=\"../fcf98cf8bca923050d48f5884bf756574ca6aa2a0/expr.ipynb\"><img src=\"../fcf98cf8bca923050d48f5884bf756574ca6aa2a0/expr.png\" style=\"display:inline;vertical-align:middle;\" /></a></td></tr>\n",
       "<tr><td>12</td><td>Literal</td><td></td><td><a class=\"ProveItLink\" href=\"../../../../../logic/booleans/implication/__pv_it/common/02bdb382575728da8cdbaed545b9096ea7a1bd5b0/expr.ipynb\"><img src=\"../../../../../logic/booleans/implication/__pv_it/common/02bdb382575728da8cdbaed545b9096ea7a1bd5b0/expr.png\" style=\"display:inline;vertical-align:middle;\" /></a></td></tr>\n",
       "<tr><td>13</td><td>ExprTuple</td><td>14, 15</td><td><a class=\"ProveItLink\" href=\"../2832ae6d6a049e9080eda661e04b5503b275ae280/expr.ipynb\"><img src=\"../2832ae6d6a049e9080eda661e04b5503b275ae280/expr.png\" style=\"display:inline;vertical-align:middle;\" /></a></td></tr>\n",
       "<tr><td>14</td><td>Operation</td><td>operator:&nbsp;16<br>operand:&nbsp;19<br></td><td><a class=\"ProveItLink\" href=\"../a837a7f9700e922c1c207220af5891845575401b0/expr.ipynb\"><img src=\"../a837a7f9700e922c1c207220af5891845575401b0/expr.png\" style=\"display:inline;vertical-align:middle;\" /></a></td></tr>\n",
       "<tr><td>15</td><td>Operation</td><td>operator:&nbsp;42<br>operands:&nbsp;18<br></td><td><a class=\"ProveItLink\" href=\"../30d05c9308600b34943fc8d79effde6cf09728f90/expr.ipynb\"><img src=\"../30d05c9308600b34943fc8d79effde6cf09728f90/expr.png\" style=\"display:inline;vertical-align:middle;\" /></a></td></tr>\n",
       "<tr><td>16</td><td>Literal</td><td></td><td><a class=\"ProveItLink\" href=\"../../../../../logic/booleans/quantification/universality/__pv_it/common/083d2baa0b8ecab1d230f9ec29a15aa1355809fb0/expr.ipynb\"><img src=\"../../../../../logic/booleans/quantification/universality/__pv_it/common/083d2baa0b8ecab1d230f9ec29a15aa1355809fb0/expr.png\" style=\"display:inline;vertical-align:middle;\" /></a></td></tr>\n",
       "<tr><td>17</td><td>ExprTuple</td><td>19</td><td><a class=\"ProveItLink\" href=\"../9166c6e6c18e9a21261596f2e60d87f1727015610/expr.ipynb\"><img src=\"../9166c6e6c18e9a21261596f2e60d87f1727015610/expr.png\" style=\"display:inline;vertical-align:middle;\" /></a></td></tr>\n",
       "<tr><td>18</td><td>ExprTuple</td><td>20, 28</td><td><a class=\"ProveItLink\" href=\"../b3a5b976a0a8756681c7e2519dddf2a57e494d790/expr.ipynb\"><img src=\"../b3a5b976a0a8756681c7e2519dddf2a57e494d790/expr.png\" style=\"display:inline;vertical-align:middle;\" /></a></td></tr>\n",
       "<tr><td>19</td><td>Lambda</td><td>parameters:&nbsp;32<br>body:&nbsp;21<br></td><td><a class=\"ProveItLink\" href=\"../61c5ed2deb32fd291e6cc0441d4d37053376d1090/expr.ipynb\"><img src=\"../61c5ed2deb32fd291e6cc0441d4d37053376d1090/expr.png\" style=\"display:inline;vertical-align:middle;\" /></a></td></tr>\n",
       "<tr><td>20</td><td>Operation</td><td>operator:&nbsp;22<br>operand:&nbsp;25<br></td><td><a class=\"ProveItLink\" href=\"../6e64fa5092531539ea792622d01b789a1531a4f70/expr.ipynb\"><img src=\"../6e64fa5092531539ea792622d01b789a1531a4f70/expr.png\" style=\"display:inline;vertical-align:middle;\" /></a></td></tr>\n",
       "<tr><td>21</td><td>Conditional</td><td>value:&nbsp;24<br>condition:&nbsp;30<br></td><td><a class=\"ProveItLink\" href=\"../1a3de45a520c57847a3e6c6713e2ca75941d55920/expr.ipynb\"><img src=\"../1a3de45a520c57847a3e6c6713e2ca75941d55920/expr.png\" style=\"display:inline;vertical-align:middle;\" /></a></td></tr>\n",
       "<tr><td>22</td><td>Literal</td><td></td><td><a class=\"ProveItLink\" href=\"../../common/77e8fa44a3a75678f8bf531e44b9c2ce104c514c0/expr.ipynb\"><img src=\"../../common/77e8fa44a3a75678f8bf531e44b9c2ce104c514c0/expr.png\" style=\"display:inline;vertical-align:middle;\" /></a></td></tr>\n",
       "<tr><td>23</td><td>ExprTuple</td><td>25</td><td><a class=\"ProveItLink\" href=\"../32fc7bd24f13fdb0e39485210da85379363e56a30/expr.ipynb\"><img src=\"../32fc7bd24f13fdb0e39485210da85379363e56a30/expr.png\" style=\"display:inline;vertical-align:middle;\" /></a></td></tr>\n",
       "<tr><td>24</td><td>Operation</td><td>operator:&nbsp;42<br>operands:&nbsp;26<br></td><td><a class=\"ProveItLink\" href=\"../09cdc6f97bd14af7c71d7c23ccac3735c3f3830d0/expr.ipynb\"><img src=\"../09cdc6f97bd14af7c71d7c23ccac3735c3f3830d0/expr.png\" style=\"display:inline;vertical-align:middle;\" /></a></td></tr>\n",
       "<tr><td>25</td><td>Lambda</td><td>parameters:&nbsp;32<br>body:&nbsp;27<br></td><td><a class=\"ProveItLink\" href=\"../72b7609f48944e462b7982de186048930643d7d40/expr.ipynb\"><img src=\"../72b7609f48944e462b7982de186048930643d7d40/expr.png\" style=\"display:inline;vertical-align:middle;\" /></a></td></tr>\n",
       "<tr><td>26</td><td>ExprTuple</td><td>29, 28</td><td><a class=\"ProveItLink\" href=\"../73a332d5957eee1c21fcbbd22eec0bcfc25a8de00/expr.ipynb\"><img src=\"../73a332d5957eee1c21fcbbd22eec0bcfc25a8de00/expr.png\" style=\"display:inline;vertical-align:middle;\" /></a></td></tr>\n",
       "<tr><td>27</td><td>Conditional</td><td>value:&nbsp;29<br>condition:&nbsp;30<br></td><td><a class=\"ProveItLink\" href=\"../508b2f9d5ac94b10904947d5946ee201d535ddcc0/expr.ipynb\"><img src=\"../508b2f9d5ac94b10904947d5946ee201d535ddcc0/expr.png\" style=\"display:inline;vertical-align:middle;\" /></a></td></tr>\n",
       "<tr><td>28</td><td>Literal</td><td></td><td><a class=\"ProveItLink\" href=\"../../../../number_sets/real_numbers/__pv_it/common/93cac87a1a47e613f7a83b23ef7891599a1a4cca0/expr.ipynb\"><img src=\"../../../../number_sets/real_numbers/__pv_it/common/93cac87a1a47e613f7a83b23ef7891599a1a4cca0/expr.png\" style=\"display:inline;vertical-align:middle;\" /></a></td></tr>\n",
       "<tr><td>29</td><td>Operation</td><td>operator:&nbsp;31<br>operands:&nbsp;32<br></td><td><a class=\"ProveItLink\" href=\"../../../../../core_expr_types/__pv_it/common/9c8f9c0c3ca5a7df840ea1afd668e83e9c2a06130/expr.ipynb\"><img src=\"../../../../../core_expr_types/__pv_it/common/9c8f9c0c3ca5a7df840ea1afd668e83e9c2a06130/expr.png\" style=\"display:inline;vertical-align:middle;\" /></a></td></tr>\n",
       "<tr><td>30</td><td>Operation</td><td>operator:&nbsp;33<br>operands:&nbsp;34<br></td><td><a class=\"ProveItLink\" href=\"../ec2ae8baecb5873efb62df0b20bc71a69a05c2600/expr.ipynb\"><img src=\"../ec2ae8baecb5873efb62df0b20bc71a69a05c2600/expr.png\" style=\"display:inline;vertical-align:middle;\" /></a></td></tr>\n",
       "<tr><td>31</td><td>Variable</td><td></td><td><a class=\"ProveItLink\" href=\"../../../../../__pv_it/common/01b6dbb444a31fc38af4c2379badef6c75b363710/expr.ipynb\"><img src=\"../../../../../__pv_it/common/01b6dbb444a31fc38af4c2379badef6c75b363710/expr.png\" style=\"display:inline;vertical-align:middle;\" /></a></td></tr>\n",
       "<tr><td>32</td><td>ExprTuple</td><td>35</td><td><a class=\"ProveItLink\" href=\"../../../../../core_expr_types/__pv_it/common/444da5a1d6d4966e75dd84efc2704e338e811fe40/expr.ipynb\"><img src=\"../../../../../core_expr_types/__pv_it/common/444da5a1d6d4966e75dd84efc2704e338e811fe40/expr.png\" style=\"display:inline;vertical-align:middle;\" /></a></td></tr>\n",
       "<tr><td>33</td><td>Literal</td><td></td><td><a class=\"ProveItLink\" href=\"../../../../../logic/booleans/conjunction/__pv_it/common/42118ff318bd65d98b1393f64ce7c2269feef76e0/expr.ipynb\"><img src=\"../../../../../logic/booleans/conjunction/__pv_it/common/42118ff318bd65d98b1393f64ce7c2269feef76e0/expr.png\" style=\"display:inline;vertical-align:middle;\" /></a></td></tr>\n",
       "<tr><td>34</td><td>ExprTuple</td><td>36</td><td><a class=\"ProveItLink\" href=\"../fb77db0d8c11c16542ef674c95b0b3b3b67ee91e0/expr.ipynb\"><img src=\"../fb77db0d8c11c16542ef674c95b0b3b3b67ee91e0/expr.png\" style=\"display:inline;vertical-align:middle;\" /></a></td></tr>\n",
       "<tr><td>35</td><td>ExprRange</td><td>lambda_map:&nbsp;37<br>start_index:&nbsp;39<br>end_index:&nbsp;40<br></td><td><a class=\"ProveItLink\" href=\"../../../../../core_expr_types/__pv_it/common/d50f819f834d55ea1b9fad150926a94bf07ad8fc0/expr.ipynb\"><img src=\"../../../../../core_expr_types/__pv_it/common/d50f819f834d55ea1b9fad150926a94bf07ad8fc0/expr.png\" style=\"display:inline;vertical-align:middle;\" /></a></td></tr>\n",
       "<tr><td>36</td><td>ExprRange</td><td>lambda_map:&nbsp;38<br>start_index:&nbsp;39<br>end_index:&nbsp;40<br></td><td><a class=\"ProveItLink\" href=\"../1a36955407da083fb803b5d633575e8cb30a99120/expr.ipynb\"><img src=\"../1a36955407da083fb803b5d633575e8cb30a99120/expr.png\" style=\"display:inline;vertical-align:middle;\" /></a></td></tr>\n",
       "<tr><td>37</td><td>Lambda</td><td>parameter:&nbsp;48<br>body:&nbsp;44<br></td><td><a class=\"ProveItLink\" href=\"../../../../../core_expr_types/__pv_it/common/f8f30fee5e5b4e37951ff8886b574795bf35d80c0/expr.ipynb\"><img src=\"../../../../../core_expr_types/__pv_it/common/f8f30fee5e5b4e37951ff8886b574795bf35d80c0/expr.png\" style=\"display:inline;vertical-align:middle;\" /></a></td></tr>\n",
       "<tr><td>38</td><td>Lambda</td><td>parameter:&nbsp;48<br>body:&nbsp;41<br></td><td><a class=\"ProveItLink\" href=\"../84ce293f08cb6dd495067baf26b3ba9a208125c00/expr.ipynb\"><img src=\"../84ce293f08cb6dd495067baf26b3ba9a208125c00/expr.png\" style=\"display:inline;vertical-align:middle;\" /></a></td></tr>\n",
       "<tr><td>39</td><td>Literal</td><td></td><td><a class=\"ProveItLink\" href=\"../../../../numerals/__pv_it/common/682157d4892d216d9e5626ed533aff9b56b9506e0/expr.ipynb\"><img src=\"../../../../numerals/__pv_it/common/682157d4892d216d9e5626ed533aff9b56b9506e0/expr.png\" style=\"display:inline;vertical-align:middle;\" /></a></td></tr>\n",
       "<tr><td>40</td><td>Variable</td><td></td><td><a class=\"ProveItLink\" href=\"../../../../../__pv_it/common/8968bb04eb3f7dfa02353397ce929b025bbd79c20/expr.ipynb\"><img src=\"../../../../../__pv_it/common/8968bb04eb3f7dfa02353397ce929b025bbd79c20/expr.png\" style=\"display:inline;vertical-align:middle;\" /></a></td></tr>\n",
       "<tr><td>41</td><td>Operation</td><td>operator:&nbsp;42<br>operands:&nbsp;43<br></td><td><a class=\"ProveItLink\" href=\"../8da5d1e514f6df4f11d3c4d4a87e5f8de78263000/expr.ipynb\"><img src=\"../8da5d1e514f6df4f11d3c4d4a87e5f8de78263000/expr.png\" style=\"display:inline;vertical-align:middle;\" /></a></td></tr>\n",
       "<tr><td>42</td><td>Literal</td><td></td><td><a class=\"ProveItLink\" href=\"../../../../../logic/sets/membership/__pv_it/common/477487d8796864d23d5810f83761435f25167f690/expr.ipynb\"><img src=\"../../../../../logic/sets/membership/__pv_it/common/477487d8796864d23d5810f83761435f25167f690/expr.png\" style=\"display:inline;vertical-align:middle;\" /></a></td></tr>\n",
       "<tr><td>43</td><td>ExprTuple</td><td>44, 45</td><td><a class=\"ProveItLink\" href=\"../afbcfdb997ef689412361c4b8f3f22be7e985f6c0/expr.ipynb\"><img src=\"../afbcfdb997ef689412361c4b8f3f22be7e985f6c0/expr.png\" style=\"display:inline;vertical-align:middle;\" /></a></td></tr>\n",
       "<tr><td>44</td><td>IndexedVar</td><td>variable:&nbsp;46<br>index:&nbsp;48<br></td><td><a class=\"ProveItLink\" href=\"../../../../../core_expr_types/__pv_it/common/b7a46615d4e67a28ab963909b818c72af8e8e7c60/expr.ipynb\"><img src=\"../../../../../core_expr_types/__pv_it/common/b7a46615d4e67a28ab963909b818c72af8e8e7c60/expr.png\" style=\"display:inline;vertical-align:middle;\" /></a></td></tr>\n",
       "<tr><td>45</td><td>Variable</td><td></td><td><a class=\"ProveItLink\" href=\"../../../../../__pv_it/common/38f47c5670ea8c5b56253448e95d8afb56bc09b40/expr.ipynb\"><img src=\"../../../../../__pv_it/common/38f47c5670ea8c5b56253448e95d8afb56bc09b40/expr.png\" style=\"display:inline;vertical-align:middle;\" /></a></td></tr>\n",
       "<tr><td>46</td><td>Variable</td><td></td><td><a class=\"ProveItLink\" href=\"../../../../../__pv_it/common/a0d9d672aa5e272d907247690c152cc2c6daafb70/expr.ipynb\"><img src=\"../../../../../__pv_it/common/a0d9d672aa5e272d907247690c152cc2c6daafb70/expr.png\" style=\"display:inline;vertical-align:middle;\" /></a></td></tr>\n",
       "<tr><td>47</td><td>ExprTuple</td><td>48</td><td><a class=\"ProveItLink\" href=\"../../../../../core_expr_types/__pv_it/common/4b0dd6be36d76552eda6a95d5b4a27f5a5b62f900/expr.ipynb\"><img src=\"../../../../../core_expr_types/__pv_it/common/4b0dd6be36d76552eda6a95d5b4a27f5a5b62f900/expr.png\" style=\"display:inline;vertical-align:middle;\" /></a></td></tr>\n",
       "<tr><td>48</td><td>Variable</td><td></td><td><a class=\"ProveItLink\" href=\"../../../../../core_expr_types/__pv_it/common/006c465e50948aa2b52285e2de47974f741255cc0/expr.ipynb\"><img src=\"../../../../../core_expr_types/__pv_it/common/006c465e50948aa2b52285e2de47974f741255cc0/expr.png\" style=\"display:inline;vertical-align:middle;\" /></a></td></tr>\n",
       "</table>\n"
      ],
      "text/plain": [
       "0. (n -> {forall_{f, S} ([forall_{x_{1}, x_{2}, ..., x_{n} in S} (f(x_{1}, x_{2}, ..., x_{n}) in Real)] => ([Integrate_{x_{1}, x_{2}, ..., x_{n} in S} f(x_{1}, x_{2}, ..., x_{n})] in Real)) if n in NaturalPos.)\n",
       "   core type: ExprTuple\n",
       "   sub-expressions: 1\n",
       "1. n -> {forall_{f, S} ([forall_{x_{1}, x_{2}, ..., x_{n} in S} (f(x_{1}, x_{2}, ..., x_{n}) in Real)] => ([Integrate_{x_{1}, x_{2}, ..., x_{n} in S} f(x_{1}, x_{2}, ..., x_{n})] in Real)) if n in NaturalPos.\n",
       "   core type: Lambda\n",
       "   parameter: 40\n",
       "   body: 3\n",
       "2. (n)\n",
       "   core type: ExprTuple\n",
       "   sub-expressions: 40\n",
       "3. {forall_{f, S} ([forall_{x_{1}, x_{2}, ..., x_{n} in S} (f(x_{1}, x_{2}, ..., x_{n}) in Real)] => ([Integrate_{x_{1}, x_{2}, ..., x_{n} in S} f(x_{1}, x_{2}, ..., x_{n})] in Real)) if n in NaturalPos.\n",
       "   core type: Conditional\n",
       "   value: 4\n",
       "   condition: 5\n",
       "4. forall_{f, S} ([forall_{x_{1}, x_{2}, ..., x_{n} in S} (f(x_{1}, x_{2}, ..., x_{n}) in Real)] => ([Integrate_{x_{1}, x_{2}, ..., x_{n} in S} f(x_{1}, x_{2}, ..., x_{n})] in Real))\n",
       "   core type: Operation\n",
       "   operator: 16\n",
       "   operand: 8\n",
       "5. n in NaturalPos\n",
       "   core type: Operation\n",
       "   operator: 42\n",
       "   operands: 7\n",
       "6. ((f, S) -> ([forall_{x_{1}, x_{2}, ..., x_{n} in S} (f(x_{1}, x_{2}, ..., x_{n}) in Real)] => ([Integrate_{x_{1}, x_{2}, ..., x_{n} in S} f(x_{1}, x_{2}, ..., x_{n})] in Real)))\n",
       "   core type: ExprTuple\n",
       "   sub-expressions: 8\n",
       "7. (n, NaturalPos)\n",
       "   core type: ExprTuple\n",
       "   sub-expressions: 40, 9\n",
       "8. (f, S) -> ([forall_{x_{1}, x_{2}, ..., x_{n} in S} (f(x_{1}, x_{2}, ..., x_{n}) in Real)] => ([Integrate_{x_{1}, x_{2}, ..., x_{n} in S} f(x_{1}, x_{2}, ..., x_{n})] in Real))\n",
       "   core type: Lambda\n",
       "   parameters: 10\\n   body: 11\n",
       "9. NaturalPos\n",
       "   core type: Literal\n",
       "   sub-expressions: \n",
       "10. (f, S)\n",
       "    core type: ExprTuple\n",
       "    sub-expressions: 31, 45\n",
       "11. [forall_{x_{1}, x_{2}, ..., x_{n} in S} (f(x_{1}, x_{2}, ..., x_{n}) in Real)] => ([Integrate_{x_{1}, x_{2}, ..., x_{n} in S} f(x_{1}, x_{2}, ..., x_{n})] in Real)\n",
       "    core type: Operation\n",
       "    operator: 12\n",
       "    operands: 13\n",
       "12. =>\n",
       "    core type: Literal\n",
       "    sub-expressions: \n",
       "13. (forall_{x_{1}, x_{2}, ..., x_{n} in S} (f(x_{1}, x_{2}, ..., x_{n}) in Real), [Integrate_{x_{1}, x_{2}, ..., x_{n} in S} f(x_{1}, x_{2}, ..., x_{n})] in Real)\n",
       "    core type: ExprTuple\n",
       "    sub-expressions: 14, 15\n",
       "14. forall_{x_{1}, x_{2}, ..., x_{n} in S} (f(x_{1}, x_{2}, ..., x_{n}) in Real)\n",
       "    core type: Operation\n",
       "    operator: 16\n",
       "    operand: 19\n",
       "15. [Integrate_{x_{1}, x_{2}, ..., x_{n} in S} f(x_{1}, x_{2}, ..., x_{n})] in Real\n",
       "    core type: Operation\n",
       "    operator: 42\n",
       "    operands: 18\n",
       "16. forall\n",
       "    core type: Literal\n",
       "    sub-expressions: \n",
       "17. ((x_{1}, x_{2}, ..., x_{n}) -> {f(x_{1}, x_{2}, ..., x_{n}) in Real if (x_{1} in S) and  (x_{2} in S) and  ... and  (x_{n} in S).)\n",
       "    core type: ExprTuple\n",
       "    sub-expressions: 19\n",
       "18. (Integrate_{x_{1}, x_{2}, ..., x_{n} in S} f(x_{1}, x_{2}, ..., x_{n}), Real)\n",
       "    core type: ExprTuple\n",
       "    sub-expressions: 20, 28\n",
       "19. (x_{1}, x_{2}, ..., x_{n}) -> {f(x_{1}, x_{2}, ..., x_{n}) in Real if (x_{1} in S) and  (x_{2} in S) and  ... and  (x_{n} in S).\n",
       "    core type: Lambda\n",
       "    parameters: 32\\n    body: 21\n",
       "20. Integrate_{x_{1}, x_{2}, ..., x_{n} in S} f(x_{1}, x_{2}, ..., x_{n})\n",
       "    core type: Operation\n",
       "    operator: 22\n",
       "    operand: 25\n",
       "21. {f(x_{1}, x_{2}, ..., x_{n}) in Real if (x_{1} in S) and  (x_{2} in S) and  ... and  (x_{n} in S).\n",
       "    core type: Conditional\n",
       "    value: 24\n",
       "    condition: 30\n",
       "22. Integrate\n",
       "    core type: Literal\n",
       "    sub-expressions: \n",
       "23. ((x_{1}, x_{2}, ..., x_{n}) -> {f(x_{1}, x_{2}, ..., x_{n}) if (x_{1} in S) and  (x_{2} in S) and  ... and  (x_{n} in S).)\n",
       "    core type: ExprTuple\n",
       "    sub-expressions: 25\n",
       "24. f(x_{1}, x_{2}, ..., x_{n}) in Real\n",
       "    core type: Operation\n",
       "    operator: 42\n",
       "    operands: 26\n",
       "25. (x_{1}, x_{2}, ..., x_{n}) -> {f(x_{1}, x_{2}, ..., x_{n}) if (x_{1} in S) and  (x_{2} in S) and  ... and  (x_{n} in S).\n",
       "    core type: Lambda\n",
       "    parameters: 32\\n    body: 27\n",
       "26. (f(x_{1}, x_{2}, ..., x_{n}), Real)\n",
       "    core type: ExprTuple\n",
       "    sub-expressions: 29, 28\n",
       "27. {f(x_{1}, x_{2}, ..., x_{n}) if (x_{1} in S) and  (x_{2} in S) and  ... and  (x_{n} in S).\n",
       "    core type: Conditional\n",
       "    value: 29\n",
       "    condition: 30\n",
       "28. Real\n",
       "    core type: Literal\n",
       "    sub-expressions: \n",
       "29. f(x_{1}, x_{2}, ..., x_{n})\n",
       "    core type: Operation\n",
       "    operator: 31\n",
       "    operands: 32\n",
       "30. (x_{1} in S) and  (x_{2} in S) and  ... and  (x_{n} in S)\n",
       "    core type: Operation\n",
       "    operator: 33\n",
       "    operands: 34\n",
       "31. f\n",
       "    core type: Variable\n",
       "    sub-expressions: \n",
       "32. (x_{1}, x_{2}, ..., x_{n})\n",
       "    core type: ExprTuple\n",
       "    sub-expressions: 35\n",
       "33. and\n",
       "    core type: Literal\n",
       "    sub-expressions: \n",
       "34. ((x_{1} in S), (x_{2} in S), ..., (x_{n} in S))\n",
       "    core type: ExprTuple\n",
       "    sub-expressions: 36\n",
       "35. x_{1}, x_{2}, ..., x_{n}\n",
       "    core type: ExprRange\n",
       "    lambda_map: 37\n",
       "    start_index: 39\n",
       "    end_index: 40\n",
       "36. (x_{1} in S), (x_{2} in S), ..., (x_{n} in S)\n",
       "    core type: ExprRange\n",
       "    lambda_map: 38\n",
       "    start_index: 39\n",
       "    end_index: 40\n",
       "37. _a -> x_{_a}\n",
       "    core type: Lambda\n",
       "    parameter: 48\n",
       "    body: 44\n",
       "38. _a -> (x_{_a} in S)\n",
       "    core type: Lambda\n",
       "    parameter: 48\n",
       "    body: 41\n",
       "39. 1\n",
       "    core type: Literal\n",
       "    sub-expressions: \n",
       "40. n\n",
       "    core type: Variable\n",
       "    sub-expressions: \n",
       "41. x_{_a} in S\n",
       "    core type: Operation\n",
       "    operator: 42\n",
       "    operands: 43\n",
       "42. in\n",
       "    core type: Literal\n",
       "    sub-expressions: \n",
       "43. (x_{_a}, S)\n",
       "    core type: ExprTuple\n",
       "    sub-expressions: 44, 45\n",
       "44. x_{_a}\n",
       "    core type: IndexedVar\n",
       "variable: 46\n",
       "index: 48\n",
       "45. S\n",
       "    core type: Variable\n",
       "    sub-expressions: \n",
       "46. x\n",
       "    core type: Variable\n",
       "    sub-expressions: \n",
       "47. (_a)\n",
       "    core type: ExprTuple\n",
       "    sub-expressions: 48\n",
       "48. _a\n",
       "    core type: Variable\n",
       "    sub-expressions: "
      ]
     },
     "metadata": {},
     "output_type": "display_data"
    }
   ],
   "source": [
    "# display the expression information\n",
    "stored_expr.expr_info()"
   ]
  },
  {
   "cell_type": "code",
   "execution_count": null,
   "metadata": {},
   "outputs": [],
   "source": []
  }
 ],
 "metadata": {
  "kernelspec": {
   "display_name": "Python 3",
   "language": "python",
   "name": "python3"
  }
 },
 "nbformat": 4,
 "nbformat_minor": 0
}