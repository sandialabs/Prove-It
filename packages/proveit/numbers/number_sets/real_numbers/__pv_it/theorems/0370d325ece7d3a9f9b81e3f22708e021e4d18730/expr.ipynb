{
 "cells": [
  {
   "cell_type": "markdown",
   "metadata": {},
   "source": [
    "Expression of type <a class=\"ProveItLink\" href=\"../../../../../../../../doc/html/api/proveit.Lambda.html\">Lambda</a>\n",
    "=======================\n",
    "# from the theory of <a class=\"ProveItLink\" href=\"../../../_theory_nbs_/theory.ipynb\">proveit.numbers.number_sets.real_numbers</a>"
   ]
  },
  {
   "cell_type": "code",
   "execution_count": 1,
   "metadata": {},
   "outputs": [],
   "source": [
    "import proveit\n",
    "# Automation is not needed when building an expression:\n",
    "proveit.defaults.automation = False # This will speed things up.\n",
    "proveit.defaults.inline_pngs = False # Makes files smaller.\n",
    "%load_expr # Load the stored expression as 'stored_expr'\n",
    "# import Expression classes needed to build the expression\n",
    "from proveit import Conditional, Lambda, a, b, x\n",
    "from proveit.logic import And, Equals, Forall, InSet, Intersect, Set\n",
    "from proveit.numbers import Add, Integer, IntervalOO, LessEq, RealPos, one, subtract"
   ]
  },
  {
   "cell_type": "code",
   "execution_count": 2,
   "metadata": {},
   "outputs": [
    {
     "data": {
      "text/html": [
       "<strong id=\"expr\">expr:</strong> <a class=\"ProveItLink\" href=\"expr.ipynb\"><img src=\"expr.png\" style=\"display:inline;vertical-align:middle;\" /></a><br>"
      ],
      "text/plain": [
       "<IPython.core.display.HTML object>"
      ]
     },
     "metadata": {},
     "output_type": "display_data"
    }
   ],
   "source": [
    "# build up the expression from sub-expressions\n",
    "expr = Lambda([a, b], Conditional(Forall(instance_param_or_params = [x], instance_expr = Equals(Intersect(IntervalOO(subtract(x, a), Add(x, b)), Integer), Set(x)), domain = Integer), And(InSet(a, RealPos), InSet(b, RealPos), LessEq(a, one), LessEq(b, one))))"
   ]
  },
  {
   "cell_type": "code",
   "execution_count": 3,
   "metadata": {},
   "outputs": [
    {
     "name": "stdout",
     "output_type": "stream",
     "text": [
      "Passed sanity check: expr matches stored_expr\n"
     ]
    }
   ],
   "source": [
    "# check that the built expression is the same as the stored expression\n",
    "assert expr == stored_expr\n",
    "assert expr._style_id == stored_expr._style_id\n",
    "print(\"Passed sanity check: expr matches stored_expr\")"
   ]
  },
  {
   "cell_type": "code",
   "execution_count": 4,
   "metadata": {},
   "outputs": [
    {
     "name": "stdout",
     "output_type": "stream",
     "text": [
      "\\left(a, b\\right) \\mapsto \\left\\{\\forall_{x \\in \\mathbb{Z}}~\\left(\\left(\\left(x - a,x + b\\right) \\cap \\mathbb{Z}\\right) = \\left\\{x\\right\\}\\right) \\textrm{ if } a \\in \\mathbb{R}^+ ,  b \\in \\mathbb{R}^+ ,  a \\leq 1 ,  b \\leq 1\\right..\n"
     ]
    }
   ],
   "source": [
    "# Show the LaTeX representation of the expression for convenience if you need it.\n",
    "print(stored_expr.latex())"
   ]
  },
  {
   "cell_type": "code",
   "execution_count": 5,
   "metadata": {},
   "outputs": [
    {
     "data": {
      "text/html": [
       "no style options"
      ],
      "text/plain": [
       "no style options"
      ]
     },
     "metadata": {},
     "output_type": "display_data"
    }
   ],
   "source": [
    "stored_expr.style_options()"
   ]
  },
  {
   "cell_type": "code",
   "execution_count": 6,
   "metadata": {},
   "outputs": [
    {
     "data": {
      "text/html": [
       "<table><tr><th>&nbsp;</th><th>core type</th><th>sub-expressions</th><th>expression</th></tr>\n",
       "<tr><td>0</td><td>Lambda</td><td>parameters:&nbsp;1<br>body:&nbsp;2<br></td><td><a class=\"ProveItLink\" href=\"expr.ipynb\"><img src=\"expr.png\" style=\"display:inline;vertical-align:middle;\" /></a></td></tr>\n",
       "<tr><td>1</td><td>ExprTuple</td><td>48, 45</td><td><a class=\"ProveItLink\" href=\"../3dcd5ceea6334d8cb48fe14fdae236293aa9a6050/expr.ipynb\"><img src=\"../3dcd5ceea6334d8cb48fe14fdae236293aa9a6050/expr.png\" style=\"display:inline;vertical-align:middle;\" /></a></td></tr>\n",
       "<tr><td>2</td><td>Conditional</td><td>value:&nbsp;3<br>condition:&nbsp;4<br></td><td><a class=\"ProveItLink\" href=\"../345f684a33daabd4d37472683196e2ca0d7674250/expr.ipynb\"><img src=\"../345f684a33daabd4d37472683196e2ca0d7674250/expr.png\" style=\"display:inline;vertical-align:middle;\" /></a></td></tr>\n",
       "<tr><td>3</td><td>Operation</td><td>operator:&nbsp;5<br>operand:&nbsp;9<br></td><td><a class=\"ProveItLink\" href=\"../66ea9817f00e7a3e34f99617b8efa02a24bdbc8f0/expr.ipynb\"><img src=\"../66ea9817f00e7a3e34f99617b8efa02a24bdbc8f0/expr.png\" style=\"display:inline;vertical-align:middle;\" /></a></td></tr>\n",
       "<tr><td>4</td><td>Operation</td><td>operator:&nbsp;7<br>operands:&nbsp;8<br></td><td><a class=\"ProveItLink\" href=\"../764e17ea90faeb99aed469cbd744e86d3cfe45e80/expr.ipynb\"><img src=\"../764e17ea90faeb99aed469cbd744e86d3cfe45e80/expr.png\" style=\"display:inline;vertical-align:middle;\" /></a></td></tr>\n",
       "<tr><td>5</td><td>Literal</td><td></td><td><a class=\"ProveItLink\" href=\"../../../../../../logic/booleans/quantification/universality/__pv_it/common/083d2baa0b8ecab1d230f9ec29a15aa1355809fb0/expr.ipynb\"><img src=\"../../../../../../logic/booleans/quantification/universality/__pv_it/common/083d2baa0b8ecab1d230f9ec29a15aa1355809fb0/expr.png\" style=\"display:inline;vertical-align:middle;\" /></a></td></tr>\n",
       "<tr><td>6</td><td>ExprTuple</td><td>9</td><td><a class=\"ProveItLink\" href=\"../9d2d079b29708fe3f669fa8b38e488d6eff5b4470/expr.ipynb\"><img src=\"../9d2d079b29708fe3f669fa8b38e488d6eff5b4470/expr.png\" style=\"display:inline;vertical-align:middle;\" /></a></td></tr>\n",
       "<tr><td>7</td><td>Literal</td><td></td><td><a class=\"ProveItLink\" href=\"../../../../../../logic/booleans/conjunction/__pv_it/common/42118ff318bd65d98b1393f64ce7c2269feef76e0/expr.ipynb\"><img src=\"../../../../../../logic/booleans/conjunction/__pv_it/common/42118ff318bd65d98b1393f64ce7c2269feef76e0/expr.png\" style=\"display:inline;vertical-align:middle;\" /></a></td></tr>\n",
       "<tr><td>8</td><td>ExprTuple</td><td>10, 11, 12, 13</td><td><a class=\"ProveItLink\" href=\"../46d7797a22e85bf25b9a3c9b721a30324ae10de50/expr.ipynb\"><img src=\"../46d7797a22e85bf25b9a3c9b721a30324ae10de50/expr.png\" style=\"display:inline;vertical-align:middle;\" /></a></td></tr>\n",
       "<tr><td>9</td><td>Lambda</td><td>parameter:&nbsp;44<br>body:&nbsp;14<br></td><td><a class=\"ProveItLink\" href=\"../e35e1edb220e7628037ec536f3042a026b5e5ec90/expr.ipynb\"><img src=\"../e35e1edb220e7628037ec536f3042a026b5e5ec90/expr.png\" style=\"display:inline;vertical-align:middle;\" /></a></td></tr>\n",
       "<tr><td>10</td><td>Operation</td><td>operator:&nbsp;26<br>operands:&nbsp;15<br></td><td><a class=\"ProveItLink\" href=\"../dd2b896e91f2ac33d7fb1ba61c4378fe7b9a97050/expr.ipynb\"><img src=\"../dd2b896e91f2ac33d7fb1ba61c4378fe7b9a97050/expr.png\" style=\"display:inline;vertical-align:middle;\" /></a></td></tr>\n",
       "<tr><td>11</td><td>Operation</td><td>operator:&nbsp;26<br>operands:&nbsp;16<br></td><td><a class=\"ProveItLink\" href=\"../9f1cd296784349b92e4c6f68b420f1787cffb5e60/expr.ipynb\"><img src=\"../9f1cd296784349b92e4c6f68b420f1787cffb5e60/expr.png\" style=\"display:inline;vertical-align:middle;\" /></a></td></tr>\n",
       "<tr><td>12</td><td>Operation</td><td>operator:&nbsp;18<br>operands:&nbsp;17<br></td><td><a class=\"ProveItLink\" href=\"../440229f1ca93f22982a959d9ee8b69b22199ac2a0/expr.ipynb\"><img src=\"../440229f1ca93f22982a959d9ee8b69b22199ac2a0/expr.png\" style=\"display:inline;vertical-align:middle;\" /></a></td></tr>\n",
       "<tr><td>13</td><td>Operation</td><td>operator:&nbsp;18<br>operands:&nbsp;19<br></td><td><a class=\"ProveItLink\" href=\"../bbf7e217f1dc173f7ad6e9f2ee8766e0ccad15840/expr.ipynb\"><img src=\"../bbf7e217f1dc173f7ad6e9f2ee8766e0ccad15840/expr.png\" style=\"display:inline;vertical-align:middle;\" /></a></td></tr>\n",
       "<tr><td>14</td><td>Conditional</td><td>value:&nbsp;20<br>condition:&nbsp;21<br></td><td><a class=\"ProveItLink\" href=\"../deb8e7c844bbe067c2f655f3b58efc3cb90a60170/expr.ipynb\"><img src=\"../deb8e7c844bbe067c2f655f3b58efc3cb90a60170/expr.png\" style=\"display:inline;vertical-align:middle;\" /></a></td></tr>\n",
       "<tr><td>15</td><td>ExprTuple</td><td>48, 22</td><td><a class=\"ProveItLink\" href=\"../dac8c38084f84a608ddfdf7a45591cb04c5fca5c0/expr.ipynb\"><img src=\"../dac8c38084f84a608ddfdf7a45591cb04c5fca5c0/expr.png\" style=\"display:inline;vertical-align:middle;\" /></a></td></tr>\n",
       "<tr><td>16</td><td>ExprTuple</td><td>45, 22</td><td><a class=\"ProveItLink\" href=\"../60290832362913caad7710ae5a10b53cf9f04a940/expr.ipynb\"><img src=\"../60290832362913caad7710ae5a10b53cf9f04a940/expr.png\" style=\"display:inline;vertical-align:middle;\" /></a></td></tr>\n",
       "<tr><td>17</td><td>ExprTuple</td><td>48, 23</td><td><a class=\"ProveItLink\" href=\"../017eacf4fbcd5ccb1afa72357dfba07ebe7b0eca0/expr.ipynb\"><img src=\"../017eacf4fbcd5ccb1afa72357dfba07ebe7b0eca0/expr.png\" style=\"display:inline;vertical-align:middle;\" /></a></td></tr>\n",
       "<tr><td>18</td><td>Literal</td><td></td><td><a class=\"ProveItLink\" href=\"../../../../../ordering/__pv_it/common/68379698d72b4689bbda4b5c5cca29ee599d70280/expr.ipynb\"><img src=\"../../../../../ordering/__pv_it/common/68379698d72b4689bbda4b5c5cca29ee599d70280/expr.png\" style=\"display:inline;vertical-align:middle;\" /></a></td></tr>\n",
       "<tr><td>19</td><td>ExprTuple</td><td>45, 23</td><td><a class=\"ProveItLink\" href=\"../785f25e3398d9efe89e724aefea92dc0142fbb340/expr.ipynb\"><img src=\"../785f25e3398d9efe89e724aefea92dc0142fbb340/expr.png\" style=\"display:inline;vertical-align:middle;\" /></a></td></tr>\n",
       "<tr><td>20</td><td>Operation</td><td>operator:&nbsp;24<br>operands:&nbsp;25<br></td><td><a class=\"ProveItLink\" href=\"../4367133bb3f9f7d85c31f33c3edff3e8894c946d0/expr.ipynb\"><img src=\"../4367133bb3f9f7d85c31f33c3edff3e8894c946d0/expr.png\" style=\"display:inline;vertical-align:middle;\" /></a></td></tr>\n",
       "<tr><td>21</td><td>Operation</td><td>operator:&nbsp;26<br>operands:&nbsp;27<br></td><td><a class=\"ProveItLink\" href=\"../e7ea3ade6561bbbb858c02aa3be91f7305b5ebb50/expr.ipynb\"><img src=\"../e7ea3ade6561bbbb858c02aa3be91f7305b5ebb50/expr.png\" style=\"display:inline;vertical-align:middle;\" /></a></td></tr>\n",
       "<tr><td>22</td><td>Literal</td><td></td><td><a class=\"ProveItLink\" href=\"../../common/174917e13d50b91c585b7f765a2896383a3ae8010/expr.ipynb\"><img src=\"../../common/174917e13d50b91c585b7f765a2896383a3ae8010/expr.png\" style=\"display:inline;vertical-align:middle;\" /></a></td></tr>\n",
       "<tr><td>23</td><td>Literal</td><td></td><td><a class=\"ProveItLink\" href=\"../../../../../numerals/__pv_it/common/682157d4892d216d9e5626ed533aff9b56b9506e0/expr.ipynb\"><img src=\"../../../../../numerals/__pv_it/common/682157d4892d216d9e5626ed533aff9b56b9506e0/expr.png\" style=\"display:inline;vertical-align:middle;\" /></a></td></tr>\n",
       "<tr><td>24</td><td>Literal</td><td></td><td><a class=\"ProveItLink\" href=\"../../../../../../logic/equality/__pv_it/common/fb96dc12b2aa8801dda64d0132b396c63d1502bb0/expr.ipynb\"><img src=\"../../../../../../logic/equality/__pv_it/common/fb96dc12b2aa8801dda64d0132b396c63d1502bb0/expr.png\" style=\"display:inline;vertical-align:middle;\" /></a></td></tr>\n",
       "<tr><td>25</td><td>ExprTuple</td><td>28, 29</td><td><a class=\"ProveItLink\" href=\"../feadbe8a4d0b76038d17e58870059aebde97cd650/expr.ipynb\"><img src=\"../feadbe8a4d0b76038d17e58870059aebde97cd650/expr.png\" style=\"display:inline;vertical-align:middle;\" /></a></td></tr>\n",
       "<tr><td>26</td><td>Literal</td><td></td><td><a class=\"ProveItLink\" href=\"../../../../../../logic/sets/membership/__pv_it/common/477487d8796864d23d5810f83761435f25167f690/expr.ipynb\"><img src=\"../../../../../../logic/sets/membership/__pv_it/common/477487d8796864d23d5810f83761435f25167f690/expr.png\" style=\"display:inline;vertical-align:middle;\" /></a></td></tr>\n",
       "<tr><td>27</td><td>ExprTuple</td><td>44, 35</td><td><a class=\"ProveItLink\" href=\"../eb8c3c42749a77ae00eee6ba0458218039c687290/expr.ipynb\"><img src=\"../eb8c3c42749a77ae00eee6ba0458218039c687290/expr.png\" style=\"display:inline;vertical-align:middle;\" /></a></td></tr>\n",
       "<tr><td>28</td><td>Operation</td><td>operator:&nbsp;30<br>operands:&nbsp;31<br></td><td><a class=\"ProveItLink\" href=\"../b4859faa6aa97e03a9c5eaf69004da564dbcc6610/expr.ipynb\"><img src=\"../b4859faa6aa97e03a9c5eaf69004da564dbcc6610/expr.png\" style=\"display:inline;vertical-align:middle;\" /></a></td></tr>\n",
       "<tr><td>29</td><td>Operation</td><td>operator:&nbsp;32<br>operand:&nbsp;44<br></td><td><a class=\"ProveItLink\" href=\"../963818604bccfe67017be028a60ebaab058198d30/expr.ipynb\"><img src=\"../963818604bccfe67017be028a60ebaab058198d30/expr.png\" style=\"display:inline;vertical-align:middle;\" /></a></td></tr>\n",
       "<tr><td>30</td><td>Literal</td><td></td><td><a class=\"ProveItLink\" href=\"../../../../../../logic/sets/intersection/__pv_it/common/718e30c398d699c56b1af99739a377f200f9d3cd0/expr.ipynb\"><img src=\"../../../../../../logic/sets/intersection/__pv_it/common/718e30c398d699c56b1af99739a377f200f9d3cd0/expr.png\" style=\"display:inline;vertical-align:middle;\" /></a></td></tr>\n",
       "<tr><td>31</td><td>ExprTuple</td><td>34, 35</td><td><a class=\"ProveItLink\" href=\"../f73f1aa843dcebee9719019e2d07f207548761240/expr.ipynb\"><img src=\"../f73f1aa843dcebee9719019e2d07f207548761240/expr.png\" style=\"display:inline;vertical-align:middle;\" /></a></td></tr>\n",
       "<tr><td>32</td><td>Literal</td><td></td><td><a class=\"ProveItLink\" href=\"../../../../../../logic/sets/enumeration/__pv_it/common/0ead90ccbf4f17bc585a51f8aa904bb77916ae6e0/expr.ipynb\"><img src=\"../../../../../../logic/sets/enumeration/__pv_it/common/0ead90ccbf4f17bc585a51f8aa904bb77916ae6e0/expr.png\" style=\"display:inline;vertical-align:middle;\" /></a></td></tr>\n",
       "<tr><td>33</td><td>ExprTuple</td><td>44</td><td><a class=\"ProveItLink\" href=\"../../../../../../__pv_it/common/eacfeccc0521684fcb20fe8f5180ac50fca471f20/expr.ipynb\"><img src=\"../../../../../../__pv_it/common/eacfeccc0521684fcb20fe8f5180ac50fca471f20/expr.png\" style=\"display:inline;vertical-align:middle;\" /></a></td></tr>\n",
       "<tr><td>34</td><td>Operation</td><td>operator:&nbsp;36<br>operands:&nbsp;37<br></td><td><a class=\"ProveItLink\" href=\"../9f07f0cc21be3187f2150d4ed82a52a2697255560/expr.ipynb\"><img src=\"../9f07f0cc21be3187f2150d4ed82a52a2697255560/expr.png\" style=\"display:inline;vertical-align:middle;\" /></a></td></tr>\n",
       "<tr><td>35</td><td>Literal</td><td></td><td><a class=\"ProveItLink\" href=\"../../../../integers/__pv_it/common/e6b4e90f9467053e055a4fd2f735c0bb79cb79300/expr.ipynb\"><img src=\"../../../../integers/__pv_it/common/e6b4e90f9467053e055a4fd2f735c0bb79cb79300/expr.png\" style=\"display:inline;vertical-align:middle;\" /></a></td></tr>\n",
       "<tr><td>36</td><td>Literal</td><td></td><td><a class=\"ProveItLink\" href=\"../../common/a78a330f502f8f1e0c0b4ff52d73afa0a442f9d90/expr.ipynb\"><img src=\"../../common/a78a330f502f8f1e0c0b4ff52d73afa0a442f9d90/expr.png\" style=\"display:inline;vertical-align:middle;\" /></a></td></tr>\n",
       "<tr><td>37</td><td>ExprTuple</td><td>38, 39</td><td><a class=\"ProveItLink\" href=\"../38a4bf62a6eb7662c66112fe2030511c2810706a0/expr.ipynb\"><img src=\"../38a4bf62a6eb7662c66112fe2030511c2810706a0/expr.png\" style=\"display:inline;vertical-align:middle;\" /></a></td></tr>\n",
       "<tr><td>38</td><td>Operation</td><td>operator:&nbsp;41<br>operands:&nbsp;40<br></td><td><a class=\"ProveItLink\" href=\"../c3ecefbdd9fa59b271ecd34fe64156dc4608c2b70/expr.ipynb\"><img src=\"../c3ecefbdd9fa59b271ecd34fe64156dc4608c2b70/expr.png\" style=\"display:inline;vertical-align:middle;\" /></a></td></tr>\n",
       "<tr><td>39</td><td>Operation</td><td>operator:&nbsp;41<br>operands:&nbsp;42<br></td><td><a class=\"ProveItLink\" href=\"../5f67f7645df6c11a65400201b252123b95f0e3490/expr.ipynb\"><img src=\"../5f67f7645df6c11a65400201b252123b95f0e3490/expr.png\" style=\"display:inline;vertical-align:middle;\" /></a></td></tr>\n",
       "<tr><td>40</td><td>ExprTuple</td><td>44, 43</td><td><a class=\"ProveItLink\" href=\"../f890249152dc154f153f967019bc4d0ed31f74920/expr.ipynb\"><img src=\"../f890249152dc154f153f967019bc4d0ed31f74920/expr.png\" style=\"display:inline;vertical-align:middle;\" /></a></td></tr>\n",
       "<tr><td>41</td><td>Literal</td><td></td><td><a class=\"ProveItLink\" href=\"../../../../../addition/__pv_it/common/4b7effaab3619a1c2c38fe2dee8601df8ec714590/expr.ipynb\"><img src=\"../../../../../addition/__pv_it/common/4b7effaab3619a1c2c38fe2dee8601df8ec714590/expr.png\" style=\"display:inline;vertical-align:middle;\" /></a></td></tr>\n",
       "<tr><td>42</td><td>ExprTuple</td><td>44, 45</td><td><a class=\"ProveItLink\" href=\"../21088e7c2b25b389463b70d075ced69a7c66a23c0/expr.ipynb\"><img src=\"../21088e7c2b25b389463b70d075ced69a7c66a23c0/expr.png\" style=\"display:inline;vertical-align:middle;\" /></a></td></tr>\n",
       "<tr><td>43</td><td>Operation</td><td>operator:&nbsp;46<br>operand:&nbsp;48<br></td><td><a class=\"ProveItLink\" href=\"../acf31e2b985e1fe7ad12e3cd1aec200a58e2459c0/expr.ipynb\"><img src=\"../acf31e2b985e1fe7ad12e3cd1aec200a58e2459c0/expr.png\" style=\"display:inline;vertical-align:middle;\" /></a></td></tr>\n",
       "<tr><td>44</td><td>Variable</td><td></td><td><a class=\"ProveItLink\" href=\"../../../../../../__pv_it/common/a0d9d672aa5e272d907247690c152cc2c6daafb70/expr.ipynb\"><img src=\"../../../../../../__pv_it/common/a0d9d672aa5e272d907247690c152cc2c6daafb70/expr.png\" style=\"display:inline;vertical-align:middle;\" /></a></td></tr>\n",
       "<tr><td>45</td><td>Variable</td><td></td><td><a class=\"ProveItLink\" href=\"../../../../../../__pv_it/common/195236b98c6c564a75b5dbada74b173bc52d5c3e0/expr.ipynb\"><img src=\"../../../../../../__pv_it/common/195236b98c6c564a75b5dbada74b173bc52d5c3e0/expr.png\" style=\"display:inline;vertical-align:middle;\" /></a></td></tr>\n",
       "<tr><td>46</td><td>Literal</td><td></td><td><a class=\"ProveItLink\" href=\"../../../../../negation/__pv_it/common/221b3c4d1770ee9051b7c044c3f9ec61196fc34b0/expr.ipynb\"><img src=\"../../../../../negation/__pv_it/common/221b3c4d1770ee9051b7c044c3f9ec61196fc34b0/expr.png\" style=\"display:inline;vertical-align:middle;\" /></a></td></tr>\n",
       "<tr><td>47</td><td>ExprTuple</td><td>48</td><td><a class=\"ProveItLink\" href=\"../034703c6972b772d60786b3024fb4de33deb9fd00/expr.ipynb\"><img src=\"../034703c6972b772d60786b3024fb4de33deb9fd00/expr.png\" style=\"display:inline;vertical-align:middle;\" /></a></td></tr>\n",
       "<tr><td>48</td><td>Variable</td><td></td><td><a class=\"ProveItLink\" href=\"../../../../../../__pv_it/common/c06c606ec12678c58933ac85412ecadc2ae28be60/expr.ipynb\"><img src=\"../../../../../../__pv_it/common/c06c606ec12678c58933ac85412ecadc2ae28be60/expr.png\" style=\"display:inline;vertical-align:middle;\" /></a></td></tr>\n",
       "</table>\n"
      ],
      "text/plain": [
       "0. (a, b) -> {forall_{x in Integer} (((x - a,x + b) intersect Integer) = {x}) if a in RealPos ,  b in RealPos ,  a <= 1 ,  b <= 1.\n",
       "   core type: Lambda\n",
       "   parameters: 1\\n   body: 2\n",
       "1. (a, b)\n",
       "   core type: ExprTuple\n",
       "   sub-expressions: 48, 45\n",
       "2. {forall_{x in Integer} (((x - a,x + b) intersect Integer) = {x}) if a in RealPos ,  b in RealPos ,  a <= 1 ,  b <= 1.\n",
       "   core type: Conditional\n",
       "   value: 3\n",
       "   condition: 4\n",
       "3. forall_{x in Integer} (((x - a,x + b) intersect Integer) = {x})\n",
       "   core type: Operation\n",
       "   operator: 5\n",
       "   operand: 9\n",
       "4. (a in RealPos) and (b in RealPos) and (a <= 1) and (b <= 1)\n",
       "   core type: Operation\n",
       "   operator: 7\n",
       "   operands: 8\n",
       "5. forall\n",
       "   core type: Literal\n",
       "   sub-expressions: \n",
       "6. (x -> {((x - a,x + b) intersect Integer) = {x} if x in Integer.)\n",
       "   core type: ExprTuple\n",
       "   sub-expressions: 9\n",
       "7. and\n",
       "   core type: Literal\n",
       "   sub-expressions: \n",
       "8. (a in RealPos, b in RealPos, a <= 1, b <= 1)\n",
       "   core type: ExprTuple\n",
       "   sub-expressions: 10, 11, 12, 13\n",
       "9. x -> {((x - a,x + b) intersect Integer) = {x} if x in Integer.\n",
       "   core type: Lambda\n",
       "   parameter: 44\n",
       "   body: 14\n",
       "10. a in RealPos\n",
       "    core type: Operation\n",
       "    operator: 26\n",
       "    operands: 15\n",
       "11. b in RealPos\n",
       "    core type: Operation\n",
       "    operator: 26\n",
       "    operands: 16\n",
       "12. a <= 1\n",
       "    core type: Operation\n",
       "    operator: 18\n",
       "    operands: 17\n",
       "13. b <= 1\n",
       "    core type: Operation\n",
       "    operator: 18\n",
       "    operands: 19\n",
       "14. {((x - a,x + b) intersect Integer) = {x} if x in Integer.\n",
       "    core type: Conditional\n",
       "    value: 20\n",
       "    condition: 21\n",
       "15. (a, RealPos)\n",
       "    core type: ExprTuple\n",
       "    sub-expressions: 48, 22\n",
       "16. (b, RealPos)\n",
       "    core type: ExprTuple\n",
       "    sub-expressions: 45, 22\n",
       "17. (a, 1)\n",
       "    core type: ExprTuple\n",
       "    sub-expressions: 48, 23\n",
       "18. <=\n",
       "    core type: Literal\n",
       "    sub-expressions: \n",
       "19. (b, 1)\n",
       "    core type: ExprTuple\n",
       "    sub-expressions: 45, 23\n",
       "20. ((x - a,x + b) intersect Integer) = {x}\n",
       "    core type: Operation\n",
       "    operator: 24\n",
       "    operands: 25\n",
       "21. x in Integer\n",
       "    core type: Operation\n",
       "    operator: 26\n",
       "    operands: 27\n",
       "22. RealPos\n",
       "    core type: Literal\n",
       "    sub-expressions: \n",
       "23. 1\n",
       "    core type: Literal\n",
       "    sub-expressions: \n",
       "24. =\n",
       "    core type: Literal\n",
       "    sub-expressions: \n",
       "25. ((x - a,x + b) intersect Integer, {x})\n",
       "    core type: ExprTuple\n",
       "    sub-expressions: 28, 29\n",
       "26. in\n",
       "    core type: Literal\n",
       "    sub-expressions: \n",
       "27. (x, Integer)\n",
       "    core type: ExprTuple\n",
       "    sub-expressions: 44, 35\n",
       "28. (x - a,x + b) intersect Integer\n",
       "    core type: Operation\n",
       "    operator: 30\n",
       "    operands: 31\n",
       "29. {x}\n",
       "    core type: Operation\n",
       "    operator: 32\n",
       "    operand: 44\n",
       "30. intersect\n",
       "    core type: Literal\n",
       "    sub-expressions: \n",
       "31. ((x - a,x + b), Integer)\n",
       "    core type: ExprTuple\n",
       "    sub-expressions: 34, 35\n",
       "32. Set\n",
       "    core type: Literal\n",
       "    sub-expressions: \n",
       "33. (x)\n",
       "    core type: ExprTuple\n",
       "    sub-expressions: 44\n",
       "34. (x - a,x + b)\n",
       "    core type: Operation\n",
       "    operator: 36\n",
       "    operands: 37\n",
       "35. Integer\n",
       "    core type: Literal\n",
       "    sub-expressions: \n",
       "36. IntervalOO\n",
       "    core type: Literal\n",
       "    sub-expressions: \n",
       "37. (x - a, x + b)\n",
       "    core type: ExprTuple\n",
       "    sub-expressions: 38, 39\n",
       "38. x - a\n",
       "    core type: Operation\n",
       "    operator: 41\n",
       "    operands: 40\n",
       "39. x + b\n",
       "    core type: Operation\n",
       "    operator: 41\n",
       "    operands: 42\n",
       "40. (x, -a)\n",
       "    core type: ExprTuple\n",
       "    sub-expressions: 44, 43\n",
       "41. +\n",
       "    core type: Literal\n",
       "    sub-expressions: \n",
       "42. (x, b)\n",
       "    core type: ExprTuple\n",
       "    sub-expressions: 44, 45\n",
       "43. -a\n",
       "    core type: Operation\n",
       "    operator: 46\n",
       "    operand: 48\n",
       "44. x\n",
       "    core type: Variable\n",
       "    sub-expressions: \n",
       "45. b\n",
       "    core type: Variable\n",
       "    sub-expressions: \n",
       "46. -\n",
       "    core type: Literal\n",
       "    sub-expressions: \n",
       "47. (a)\n",
       "    core type: ExprTuple\n",
       "    sub-expressions: 48\n",
       "48. a\n",
       "    core type: Variable\n",
       "    sub-expressions: "
      ]
     },
     "metadata": {},
     "output_type": "display_data"
    }
   ],
   "source": [
    "# display the expression information\n",
    "stored_expr.expr_info()"
   ]
  },
  {
   "cell_type": "code",
   "execution_count": null,
   "metadata": {},
   "outputs": [],
   "source": []
  }
 ],
 "metadata": {
  "kernelspec": {
   "display_name": "Python 3",
   "language": "python",
   "name": "python3"
  }
 },
 "nbformat": 4,
 "nbformat_minor": 0
}