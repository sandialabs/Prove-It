{
 "cells": [
  {
   "cell_type": "markdown",
   "metadata": {},
   "source": [
    "Expression of type <a class=\"ProveItLink\" href=\"../../../../../../../../doc/html/api/proveit.ExprTuple.html\">ExprTuple</a>\n",
    "=======================\n",
    "# from the theory of <a class=\"ProveItLink\" href=\"../../../_theory_nbs_/theory.ipynb\">proveit.numbers.number_sets.real_numbers</a>"
   ]
  },
  {
   "cell_type": "code",
   "execution_count": 1,
   "metadata": {},
   "outputs": [],
   "source": [
    "import proveit\n",
    "# Automation is not needed when building an expression:\n",
    "proveit.defaults.automation = False # This will speed things up.\n",
    "proveit.defaults.inline_pngs = False # Makes files smaller.\n",
    "%load_expr # Load the stored expression as 'stored_expr'\n",
    "# import Expression classes needed to build the expression\n",
    "from proveit import Conditional, ExprTuple, Lambda, a, b, x\n",
    "from proveit.logic import And, Forall, InSet, NotInSet\n",
    "from proveit.numbers import Complex, IntervalCO, Real"
   ]
  },
  {
   "cell_type": "code",
   "execution_count": 2,
   "metadata": {},
   "outputs": [
    {
     "data": {
      "text/html": [
       "<strong id=\"expr\">expr:</strong> <a class=\"ProveItLink\" href=\"expr.ipynb\"><img src=\"expr.png\" style=\"display:inline;vertical-align:middle;\" /></a><br>"
      ],
      "text/plain": [
       "<IPython.core.display.HTML object>"
      ]
     },
     "metadata": {},
     "output_type": "display_data"
    }
   ],
   "source": [
    "# build up the expression from sub-expressions\n",
    "expr = ExprTuple(Lambda([a, b], Conditional(Forall(instance_param_or_params = [x], instance_expr = NotInSet(x, IntervalCO(a, b)), domain = Complex, condition = NotInSet(x, Real)), And(InSet(a, Real), InSet(b, Real)))))"
   ]
  },
  {
   "cell_type": "code",
   "execution_count": 3,
   "metadata": {},
   "outputs": [
    {
     "name": "stdout",
     "output_type": "stream",
     "text": [
      "Passed sanity check: expr matches stored_expr\n"
     ]
    }
   ],
   "source": [
    "# check that the built expression is the same as the stored expression\n",
    "assert expr == stored_expr\n",
    "assert expr._style_id == stored_expr._style_id\n",
    "print(\"Passed sanity check: expr matches stored_expr\")"
   ]
  },
  {
   "cell_type": "code",
   "execution_count": 4,
   "metadata": {},
   "outputs": [
    {
     "name": "stdout",
     "output_type": "stream",
     "text": [
      "\\left(\\left(a, b\\right) \\mapsto \\left\\{\\forall_{x \\in \\mathbb{C}~|~x \\notin \\mathbb{R}}~\\left(x \\notin \\left[a,b\\right)\\right) \\textrm{ if } a \\in \\mathbb{R} ,  b \\in \\mathbb{R}\\right..\\right)\n"
     ]
    }
   ],
   "source": [
    "# Show the LaTeX representation of the expression for convenience if you need it.\n",
    "print(stored_expr.latex())"
   ]
  },
  {
   "cell_type": "code",
   "execution_count": 5,
   "metadata": {},
   "outputs": [
    {
     "data": {
      "text/html": [
       "no style options"
      ],
      "text/plain": [
       "no style options"
      ]
     },
     "metadata": {},
     "output_type": "display_data"
    }
   ],
   "source": [
    "stored_expr.style_options()"
   ]
  },
  {
   "cell_type": "code",
   "execution_count": 6,
   "metadata": {},
   "outputs": [
    {
     "data": {
      "text/html": [
       "<table><tr><th>&nbsp;</th><th>core type</th><th>sub-expressions</th><th>expression</th></tr>\n",
       "<tr><td>0</td><td>ExprTuple</td><td>1</td><td><a class=\"ProveItLink\" href=\"expr.ipynb\"><img src=\"expr.png\" style=\"display:inline;vertical-align:middle;\" /></a></td></tr>\n",
       "<tr><td>1</td><td>Lambda</td><td>parameters:&nbsp;24<br>body:&nbsp;2<br></td><td><a class=\"ProveItLink\" href=\"../764afb60fed1844ef17dce3c5e3acdbeefedcdce0/expr.ipynb\"><img src=\"../764afb60fed1844ef17dce3c5e3acdbeefedcdce0/expr.png\" style=\"display:inline;vertical-align:middle;\" /></a></td></tr>\n",
       "<tr><td>2</td><td>Conditional</td><td>value:&nbsp;3<br>condition:&nbsp;4<br></td><td><a class=\"ProveItLink\" href=\"../06f057e848d522d2d8386eca08f1a10bc0245f810/expr.ipynb\"><img src=\"../06f057e848d522d2d8386eca08f1a10bc0245f810/expr.png\" style=\"display:inline;vertical-align:middle;\" /></a></td></tr>\n",
       "<tr><td>3</td><td>Operation</td><td>operator:&nbsp;5<br>operand:&nbsp;8<br></td><td><a class=\"ProveItLink\" href=\"../3bd06726b3693923636ce19be8f9858ee879494a0/expr.ipynb\"><img src=\"../3bd06726b3693923636ce19be8f9858ee879494a0/expr.png\" style=\"display:inline;vertical-align:middle;\" /></a></td></tr>\n",
       "<tr><td>4</td><td>Operation</td><td>operator:&nbsp;18<br>operands:&nbsp;7<br></td><td><a class=\"ProveItLink\" href=\"../600ff1dba788f1274fc19c2b26751acad0ed24cd0/expr.ipynb\"><img src=\"../600ff1dba788f1274fc19c2b26751acad0ed24cd0/expr.png\" style=\"display:inline;vertical-align:middle;\" /></a></td></tr>\n",
       "<tr><td>5</td><td>Literal</td><td></td><td><a class=\"ProveItLink\" href=\"../../../../../../logic/booleans/quantification/universality/__pv_it/common/083d2baa0b8ecab1d230f9ec29a15aa1355809fb0/expr.ipynb\"><img src=\"../../../../../../logic/booleans/quantification/universality/__pv_it/common/083d2baa0b8ecab1d230f9ec29a15aa1355809fb0/expr.png\" style=\"display:inline;vertical-align:middle;\" /></a></td></tr>\n",
       "<tr><td>6</td><td>ExprTuple</td><td>8</td><td><a class=\"ProveItLink\" href=\"../e66a793fe6f188740ab1866f49534055e73fa7830/expr.ipynb\"><img src=\"../e66a793fe6f188740ab1866f49534055e73fa7830/expr.png\" style=\"display:inline;vertical-align:middle;\" /></a></td></tr>\n",
       "<tr><td>7</td><td>ExprTuple</td><td>9, 10</td><td><a class=\"ProveItLink\" href=\"../92eedf9eb3b1879d66735111b342e0ed26a718700/expr.ipynb\"><img src=\"../92eedf9eb3b1879d66735111b342e0ed26a718700/expr.png\" style=\"display:inline;vertical-align:middle;\" /></a></td></tr>\n",
       "<tr><td>8</td><td>Lambda</td><td>parameter:&nbsp;32<br>body:&nbsp;12<br></td><td><a class=\"ProveItLink\" href=\"../9f28cfaeb6740d85eacceb8a2482648ffc9f622d0/expr.ipynb\"><img src=\"../9f28cfaeb6740d85eacceb8a2482648ffc9f622d0/expr.png\" style=\"display:inline;vertical-align:middle;\" /></a></td></tr>\n",
       "<tr><td>9</td><td>Operation</td><td>operator:&nbsp;25<br>operands:&nbsp;13<br></td><td><a class=\"ProveItLink\" href=\"../41dcb922cd39435c00c43e34eb21e663af7b31350/expr.ipynb\"><img src=\"../41dcb922cd39435c00c43e34eb21e663af7b31350/expr.png\" style=\"display:inline;vertical-align:middle;\" /></a></td></tr>\n",
       "<tr><td>10</td><td>Operation</td><td>operator:&nbsp;25<br>operands:&nbsp;14<br></td><td><a class=\"ProveItLink\" href=\"../eedf8ec1c52e3a6d050ddb2f3a3c714a9d26830c0/expr.ipynb\"><img src=\"../eedf8ec1c52e3a6d050ddb2f3a3c714a9d26830c0/expr.png\" style=\"display:inline;vertical-align:middle;\" /></a></td></tr>\n",
       "<tr><td>11</td><td>ExprTuple</td><td>32</td><td><a class=\"ProveItLink\" href=\"../../../../../../__pv_it/common/eacfeccc0521684fcb20fe8f5180ac50fca471f20/expr.ipynb\"><img src=\"../../../../../../__pv_it/common/eacfeccc0521684fcb20fe8f5180ac50fca471f20/expr.png\" style=\"display:inline;vertical-align:middle;\" /></a></td></tr>\n",
       "<tr><td>12</td><td>Conditional</td><td>value:&nbsp;15<br>condition:&nbsp;16<br></td><td><a class=\"ProveItLink\" href=\"../6c019a8e1543ba0a6f7a9bd28215e80d52f07f3e0/expr.ipynb\"><img src=\"../6c019a8e1543ba0a6f7a9bd28215e80d52f07f3e0/expr.png\" style=\"display:inline;vertical-align:middle;\" /></a></td></tr>\n",
       "<tr><td>13</td><td>ExprTuple</td><td>29, 33</td><td><a class=\"ProveItLink\" href=\"../697e5a7597763a75c5b74d2440924097a61bf2140/expr.ipynb\"><img src=\"../697e5a7597763a75c5b74d2440924097a61bf2140/expr.png\" style=\"display:inline;vertical-align:middle;\" /></a></td></tr>\n",
       "<tr><td>14</td><td>ExprTuple</td><td>30, 33</td><td><a class=\"ProveItLink\" href=\"../d5d3fb6ea74fb9ce7444652274f7c7c6291d26590/expr.ipynb\"><img src=\"../d5d3fb6ea74fb9ce7444652274f7c7c6291d26590/expr.png\" style=\"display:inline;vertical-align:middle;\" /></a></td></tr>\n",
       "<tr><td>15</td><td>Operation</td><td>operator:&nbsp;27<br>operands:&nbsp;17<br></td><td><a class=\"ProveItLink\" href=\"../8a404f74baa242d67d9cf0e16a09defce1dac9710/expr.ipynb\"><img src=\"../8a404f74baa242d67d9cf0e16a09defce1dac9710/expr.png\" style=\"display:inline;vertical-align:middle;\" /></a></td></tr>\n",
       "<tr><td>16</td><td>Operation</td><td>operator:&nbsp;18<br>operands:&nbsp;19<br></td><td><a class=\"ProveItLink\" href=\"../9f9698c97cc96b119e63f6f61fd5215645a5d9430/expr.ipynb\"><img src=\"../9f9698c97cc96b119e63f6f61fd5215645a5d9430/expr.png\" style=\"display:inline;vertical-align:middle;\" /></a></td></tr>\n",
       "<tr><td>17</td><td>ExprTuple</td><td>32, 20</td><td><a class=\"ProveItLink\" href=\"../18b186e0cfbe6ba0ed8afae62a8cb242831fa3f40/expr.ipynb\"><img src=\"../18b186e0cfbe6ba0ed8afae62a8cb242831fa3f40/expr.png\" style=\"display:inline;vertical-align:middle;\" /></a></td></tr>\n",
       "<tr><td>18</td><td>Literal</td><td></td><td><a class=\"ProveItLink\" href=\"../../../../../../logic/booleans/conjunction/__pv_it/common/42118ff318bd65d98b1393f64ce7c2269feef76e0/expr.ipynb\"><img src=\"../../../../../../logic/booleans/conjunction/__pv_it/common/42118ff318bd65d98b1393f64ce7c2269feef76e0/expr.png\" style=\"display:inline;vertical-align:middle;\" /></a></td></tr>\n",
       "<tr><td>19</td><td>ExprTuple</td><td>21, 22</td><td><a class=\"ProveItLink\" href=\"../5df769d9d5155846ef3b1a8b468c7ab6c9f6de2e0/expr.ipynb\"><img src=\"../5df769d9d5155846ef3b1a8b468c7ab6c9f6de2e0/expr.png\" style=\"display:inline;vertical-align:middle;\" /></a></td></tr>\n",
       "<tr><td>20</td><td>Operation</td><td>operator:&nbsp;23<br>operands:&nbsp;24<br></td><td><a class=\"ProveItLink\" href=\"../30f89b4ade181303d99df7f32c21b389a0ba30a50/expr.ipynb\"><img src=\"../30f89b4ade181303d99df7f32c21b389a0ba30a50/expr.png\" style=\"display:inline;vertical-align:middle;\" /></a></td></tr>\n",
       "<tr><td>21</td><td>Operation</td><td>operator:&nbsp;25<br>operands:&nbsp;26<br></td><td><a class=\"ProveItLink\" href=\"../6bf1a18c2e3498be826f1c5ef7caab578b7ee8c80/expr.ipynb\"><img src=\"../6bf1a18c2e3498be826f1c5ef7caab578b7ee8c80/expr.png\" style=\"display:inline;vertical-align:middle;\" /></a></td></tr>\n",
       "<tr><td>22</td><td>Operation</td><td>operator:&nbsp;27<br>operands:&nbsp;28<br></td><td><a class=\"ProveItLink\" href=\"../a14ce630542be5c06da47a0a11936f35f408035e0/expr.ipynb\"><img src=\"../a14ce630542be5c06da47a0a11936f35f408035e0/expr.png\" style=\"display:inline;vertical-align:middle;\" /></a></td></tr>\n",
       "<tr><td>23</td><td>Literal</td><td></td><td><a class=\"ProveItLink\" href=\"../../common/da5a5fc1f3f3ada8da2b36f3e6963bacf1c8e9fc0/expr.ipynb\"><img src=\"../../common/da5a5fc1f3f3ada8da2b36f3e6963bacf1c8e9fc0/expr.png\" style=\"display:inline;vertical-align:middle;\" /></a></td></tr>\n",
       "<tr><td>24</td><td>ExprTuple</td><td>29, 30</td><td><a class=\"ProveItLink\" href=\"../3dcd5ceea6334d8cb48fe14fdae236293aa9a6050/expr.ipynb\"><img src=\"../3dcd5ceea6334d8cb48fe14fdae236293aa9a6050/expr.png\" style=\"display:inline;vertical-align:middle;\" /></a></td></tr>\n",
       "<tr><td>25</td><td>Literal</td><td></td><td><a class=\"ProveItLink\" href=\"../../../../../../logic/sets/membership/__pv_it/common/477487d8796864d23d5810f83761435f25167f690/expr.ipynb\"><img src=\"../../../../../../logic/sets/membership/__pv_it/common/477487d8796864d23d5810f83761435f25167f690/expr.png\" style=\"display:inline;vertical-align:middle;\" /></a></td></tr>\n",
       "<tr><td>26</td><td>ExprTuple</td><td>32, 31</td><td><a class=\"ProveItLink\" href=\"../505878fa9838807620aac15f1fd613f2c081d7060/expr.ipynb\"><img src=\"../505878fa9838807620aac15f1fd613f2c081d7060/expr.png\" style=\"display:inline;vertical-align:middle;\" /></a></td></tr>\n",
       "<tr><td>27</td><td>Literal</td><td></td><td><a class=\"ProveItLink\" href=\"../../../../../../logic/sets/membership/__pv_it/common/f4affea88ec78899b0259567586c16d1e6a484950/expr.ipynb\"><img src=\"../../../../../../logic/sets/membership/__pv_it/common/f4affea88ec78899b0259567586c16d1e6a484950/expr.png\" style=\"display:inline;vertical-align:middle;\" /></a></td></tr>\n",
       "<tr><td>28</td><td>ExprTuple</td><td>32, 33</td><td><a class=\"ProveItLink\" href=\"../ab22af81458b20a0563e35c2b4cc661b650b1d0d0/expr.ipynb\"><img src=\"../ab22af81458b20a0563e35c2b4cc661b650b1d0d0/expr.png\" style=\"display:inline;vertical-align:middle;\" /></a></td></tr>\n",
       "<tr><td>29</td><td>Variable</td><td></td><td><a class=\"ProveItLink\" href=\"../../../../../../__pv_it/common/c06c606ec12678c58933ac85412ecadc2ae28be60/expr.ipynb\"><img src=\"../../../../../../__pv_it/common/c06c606ec12678c58933ac85412ecadc2ae28be60/expr.png\" style=\"display:inline;vertical-align:middle;\" /></a></td></tr>\n",
       "<tr><td>30</td><td>Variable</td><td></td><td><a class=\"ProveItLink\" href=\"../../../../../../__pv_it/common/195236b98c6c564a75b5dbada74b173bc52d5c3e0/expr.ipynb\"><img src=\"../../../../../../__pv_it/common/195236b98c6c564a75b5dbada74b173bc52d5c3e0/expr.png\" style=\"display:inline;vertical-align:middle;\" /></a></td></tr>\n",
       "<tr><td>31</td><td>Literal</td><td></td><td><a class=\"ProveItLink\" href=\"../../../../complex_numbers/__pv_it/common/d18a028138f659eda00de597c28a3447fe87eb100/expr.ipynb\"><img src=\"../../../../complex_numbers/__pv_it/common/d18a028138f659eda00de597c28a3447fe87eb100/expr.png\" style=\"display:inline;vertical-align:middle;\" /></a></td></tr>\n",
       "<tr><td>32</td><td>Variable</td><td></td><td><a class=\"ProveItLink\" href=\"../../../../../../__pv_it/common/a0d9d672aa5e272d907247690c152cc2c6daafb70/expr.ipynb\"><img src=\"../../../../../../__pv_it/common/a0d9d672aa5e272d907247690c152cc2c6daafb70/expr.png\" style=\"display:inline;vertical-align:middle;\" /></a></td></tr>\n",
       "<tr><td>33</td><td>Literal</td><td></td><td><a class=\"ProveItLink\" href=\"../../common/93cac87a1a47e613f7a83b23ef7891599a1a4cca0/expr.ipynb\"><img src=\"../../common/93cac87a1a47e613f7a83b23ef7891599a1a4cca0/expr.png\" style=\"display:inline;vertical-align:middle;\" /></a></td></tr>\n",
       "</table>\n"
      ],
      "text/plain": [
       "0. ((a, b) -> {forall_{x in Complex | x not-in Real} (x not-in [a,b)) if a in Real ,  b in Real.)\n",
       "   core type: ExprTuple\n",
       "   sub-expressions: 1\n",
       "1. (a, b) -> {forall_{x in Complex | x not-in Real} (x not-in [a,b)) if a in Real ,  b in Real.\n",
       "   core type: Lambda\n",
       "   parameters: 24\\n   body: 2\n",
       "2. {forall_{x in Complex | x not-in Real} (x not-in [a,b)) if a in Real ,  b in Real.\n",
       "   core type: Conditional\n",
       "   value: 3\n",
       "   condition: 4\n",
       "3. forall_{x in Complex | x not-in Real} (x not-in [a,b))\n",
       "   core type: Operation\n",
       "   operator: 5\n",
       "   operand: 8\n",
       "4. (a in Real) and (b in Real)\n",
       "   core type: Operation\n",
       "   operator: 18\n",
       "   operands: 7\n",
       "5. forall\n",
       "   core type: Literal\n",
       "   sub-expressions: \n",
       "6. (x -> {x not-in [a,b) if x in Complex ,  x not-in Real.)\n",
       "   core type: ExprTuple\n",
       "   sub-expressions: 8\n",
       "7. (a in Real, b in Real)\n",
       "   core type: ExprTuple\n",
       "   sub-expressions: 9, 10\n",
       "8. x -> {x not-in [a,b) if x in Complex ,  x not-in Real.\n",
       "   core type: Lambda\n",
       "   parameter: 32\n",
       "   body: 12\n",
       "9. a in Real\n",
       "   core type: Operation\n",
       "   operator: 25\n",
       "   operands: 13\n",
       "10. b in Real\n",
       "    core type: Operation\n",
       "    operator: 25\n",
       "    operands: 14\n",
       "11. (x)\n",
       "    core type: ExprTuple\n",
       "    sub-expressions: 32\n",
       "12. {x not-in [a,b) if x in Complex ,  x not-in Real.\n",
       "    core type: Conditional\n",
       "    value: 15\n",
       "    condition: 16\n",
       "13. (a, Real)\n",
       "    core type: ExprTuple\n",
       "    sub-expressions: 29, 33\n",
       "14. (b, Real)\n",
       "    core type: ExprTuple\n",
       "    sub-expressions: 30, 33\n",
       "15. x not-in [a,b)\n",
       "    core type: Operation\n",
       "    operator: 27\n",
       "    operands: 17\n",
       "16. (x in Complex) and (x not-in Real)\n",
       "    core type: Operation\n",
       "    operator: 18\n",
       "    operands: 19\n",
       "17. (x, [a,b))\n",
       "    core type: ExprTuple\n",
       "    sub-expressions: 32, 20\n",
       "18. and\n",
       "    core type: Literal\n",
       "    sub-expressions: \n",
       "19. (x in Complex, x not-in Real)\n",
       "    core type: ExprTuple\n",
       "    sub-expressions: 21, 22\n",
       "20. [a,b)\n",
       "    core type: Operation\n",
       "    operator: 23\n",
       "    operands: 24\n",
       "21. x in Complex\n",
       "    core type: Operation\n",
       "    operator: 25\n",
       "    operands: 26\n",
       "22. x not-in Real\n",
       "    core type: Operation\n",
       "    operator: 27\n",
       "    operands: 28\n",
       "23. IntervalCO\n",
       "    core type: Literal\n",
       "    sub-expressions: \n",
       "24. (a, b)\n",
       "    core type: ExprTuple\n",
       "    sub-expressions: 29, 30\n",
       "25. in\n",
       "    core type: Literal\n",
       "    sub-expressions: \n",
       "26. (x, Complex)\n",
       "    core type: ExprTuple\n",
       "    sub-expressions: 32, 31\n",
       "27. not-in\n",
       "    core type: Literal\n",
       "    sub-expressions: \n",
       "28. (x, Real)\n",
       "    core type: ExprTuple\n",
       "    sub-expressions: 32, 33\n",
       "29. a\n",
       "    core type: Variable\n",
       "    sub-expressions: \n",
       "30. b\n",
       "    core type: Variable\n",
       "    sub-expressions: \n",
       "31. Complex\n",
       "    core type: Literal\n",
       "    sub-expressions: \n",
       "32. x\n",
       "    core type: Variable\n",
       "    sub-expressions: \n",
       "33. Real\n",
       "    core type: Literal\n",
       "    sub-expressions: "
      ]
     },
     "metadata": {},
     "output_type": "display_data"
    }
   ],
   "source": [
    "# display the expression information\n",
    "stored_expr.expr_info()"
   ]
  },
  {
   "cell_type": "code",
   "execution_count": null,
   "metadata": {},
   "outputs": [],
   "source": []
  }
 ],
 "metadata": {
  "kernelspec": {
   "display_name": "Python 3",
   "language": "python",
   "name": "python3"
  }
 },
 "nbformat": 4,
 "nbformat_minor": 0
}