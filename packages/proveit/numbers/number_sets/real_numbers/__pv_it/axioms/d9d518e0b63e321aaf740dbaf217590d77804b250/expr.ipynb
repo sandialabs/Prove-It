{
 "cells": [
  {
   "cell_type": "markdown",
   "metadata": {},
   "source": [
    "Expression of type <a class=\"ProveItLink\" href=\"../../../../../../../../doc/html/api/proveit.ExprTuple.html\">ExprTuple</a>\n",
    "=======================\n",
    "# from the theory of <a class=\"ProveItLink\" href=\"../../../_theory_nbs_/theory.ipynb\">proveit.numbers.number_sets.real_numbers</a>"
   ]
  },
  {
   "cell_type": "code",
   "execution_count": 1,
   "metadata": {},
   "outputs": [],
   "source": [
    "import proveit\n",
    "# Automation is not needed when building an expression:\n",
    "proveit.defaults.automation = False # This will speed things up.\n",
    "proveit.defaults.inline_pngs = False # Makes files smaller.\n",
    "%load_expr # Load the stored expression as 'stored_expr'\n",
    "# import Expression classes needed to build the expression\n",
    "from proveit import ExprTuple, Lambda, a, b, x\n",
    "from proveit.logic import And, Equals, InSet\n",
    "from proveit.numbers import IntervalCC, LessEq, Real"
   ]
  },
  {
   "cell_type": "code",
   "execution_count": 2,
   "metadata": {},
   "outputs": [
    {
     "data": {
      "text/html": [
       "<strong id=\"expr\">expr:</strong> <a class=\"ProveItLink\" href=\"expr.ipynb\"><img src=\"expr.png\" style=\"display:inline;vertical-align:middle;\" /></a><br>"
      ],
      "text/plain": [
       "<IPython.core.display.HTML object>"
      ]
     },
     "metadata": {},
     "output_type": "display_data"
    }
   ],
   "source": [
    "# build up the expression from sub-expressions\n",
    "expr = ExprTuple(Lambda(x, Equals(InSet(x, IntervalCC(a, b)), And(InSet(x, Real), And(LessEq(a, x), LessEq(x, b)).with_total_ordering_style()))))"
   ]
  },
  {
   "cell_type": "code",
   "execution_count": 3,
   "metadata": {},
   "outputs": [
    {
     "name": "stdout",
     "output_type": "stream",
     "text": [
      "Passed sanity check: expr matches stored_expr\n"
     ]
    }
   ],
   "source": [
    "# check that the built expression is the same as the stored expression\n",
    "assert expr == stored_expr\n",
    "assert expr._style_id == stored_expr._style_id\n",
    "print(\"Passed sanity check: expr matches stored_expr\")"
   ]
  },
  {
   "cell_type": "code",
   "execution_count": 4,
   "metadata": {},
   "outputs": [
    {
     "name": "stdout",
     "output_type": "stream",
     "text": [
      "\\left(x \\mapsto \\left(\\left(x \\in \\left[a,b\\right]\\right) = \\left(\\left(x \\in \\mathbb{R}\\right) \\land \\left(a \\leq x \\leq b\\right)\\right)\\right)\\right)\n"
     ]
    }
   ],
   "source": [
    "# Show the LaTeX representation of the expression for convenience if you need it.\n",
    "print(stored_expr.latex())"
   ]
  },
  {
   "cell_type": "code",
   "execution_count": 5,
   "metadata": {},
   "outputs": [
    {
     "data": {
      "text/html": [
       "no style options"
      ],
      "text/plain": [
       "no style options"
      ]
     },
     "metadata": {},
     "output_type": "display_data"
    }
   ],
   "source": [
    "stored_expr.style_options()"
   ]
  },
  {
   "cell_type": "code",
   "execution_count": 6,
   "metadata": {},
   "outputs": [
    {
     "data": {
      "text/html": [
       "<table><tr><th>&nbsp;</th><th>core type</th><th>sub-expressions</th><th>expression</th></tr>\n",
       "<tr><td>0</td><td>ExprTuple</td><td>1</td><td><a class=\"ProveItLink\" href=\"expr.ipynb\"><img src=\"expr.png\" style=\"display:inline;vertical-align:middle;\" /></a></td></tr>\n",
       "<tr><td>1</td><td>Lambda</td><td>parameter:&nbsp;26<br>body:&nbsp;3<br></td><td><a class=\"ProveItLink\" href=\"../8571b06082ed1734c4fea131e3597ce4ac1a306d0/expr.ipynb\"><img src=\"../8571b06082ed1734c4fea131e3597ce4ac1a306d0/expr.png\" style=\"display:inline;vertical-align:middle;\" /></a></td></tr>\n",
       "<tr><td>2</td><td>ExprTuple</td><td>26</td><td><a class=\"ProveItLink\" href=\"../../../../../../__pv_it/common/eacfeccc0521684fcb20fe8f5180ac50fca471f20/expr.ipynb\"><img src=\"../../../../../../__pv_it/common/eacfeccc0521684fcb20fe8f5180ac50fca471f20/expr.png\" style=\"display:inline;vertical-align:middle;\" /></a></td></tr>\n",
       "<tr><td>3</td><td>Operation</td><td>operator:&nbsp;4<br>operands:&nbsp;5<br></td><td><a class=\"ProveItLink\" href=\"../d51958ec0d7356878a9ce733953b7059b57f60fb0/expr.ipynb\"><img src=\"../d51958ec0d7356878a9ce733953b7059b57f60fb0/expr.png\" style=\"display:inline;vertical-align:middle;\" /></a></td></tr>\n",
       "<tr><td>4</td><td>Literal</td><td></td><td><a class=\"ProveItLink\" href=\"../../../../../../logic/equality/__pv_it/common/fb96dc12b2aa8801dda64d0132b396c63d1502bb0/expr.ipynb\"><img src=\"../../../../../../logic/equality/__pv_it/common/fb96dc12b2aa8801dda64d0132b396c63d1502bb0/expr.png\" style=\"display:inline;vertical-align:middle;\" /></a></td></tr>\n",
       "<tr><td>5</td><td>ExprTuple</td><td>6, 7</td><td><a class=\"ProveItLink\" href=\"../70510ffe285bdcef6cd0d2416b389f1db49ee3a20/expr.ipynb\"><img src=\"../70510ffe285bdcef6cd0d2416b389f1db49ee3a20/expr.png\" style=\"display:inline;vertical-align:middle;\" /></a></td></tr>\n",
       "<tr><td>6</td><td>Operation</td><td>operator:&nbsp;15<br>operands:&nbsp;8<br></td><td><a class=\"ProveItLink\" href=\"../2624246814ca76e7f5e459d5afd54a978b7746270/expr.ipynb\"><img src=\"../2624246814ca76e7f5e459d5afd54a978b7746270/expr.png\" style=\"display:inline;vertical-align:middle;\" /></a></td></tr>\n",
       "<tr><td>7</td><td>Operation</td><td>operator:&nbsp;17<br>operands:&nbsp;9<br></td><td><a class=\"ProveItLink\" href=\"../8fb76a742c371ef614e03f339f73d67de8b4f12d0/expr.ipynb\"><img src=\"../8fb76a742c371ef614e03f339f73d67de8b4f12d0/expr.png\" style=\"display:inline;vertical-align:middle;\" /></a></td></tr>\n",
       "<tr><td>8</td><td>ExprTuple</td><td>26, 10</td><td><a class=\"ProveItLink\" href=\"../9fab41299a49da3cc6f978fd0d38f35b2eef197b0/expr.ipynb\"><img src=\"../9fab41299a49da3cc6f978fd0d38f35b2eef197b0/expr.png\" style=\"display:inline;vertical-align:middle;\" /></a></td></tr>\n",
       "<tr><td>9</td><td>ExprTuple</td><td>11, 12</td><td><a class=\"ProveItLink\" href=\"../3e668a146c4e303c3cb222a9056916d6b238fff90/expr.ipynb\"><img src=\"../3e668a146c4e303c3cb222a9056916d6b238fff90/expr.png\" style=\"display:inline;vertical-align:middle;\" /></a></td></tr>\n",
       "<tr><td>10</td><td>Operation</td><td>operator:&nbsp;13<br>operands:&nbsp;14<br></td><td><a class=\"ProveItLink\" href=\"../760e89d9b38ce7fdc49aaff0c04342ed0133b6c10/expr.ipynb\"><img src=\"../760e89d9b38ce7fdc49aaff0c04342ed0133b6c10/expr.png\" style=\"display:inline;vertical-align:middle;\" /></a></td></tr>\n",
       "<tr><td>11</td><td>Operation</td><td>operator:&nbsp;15<br>operands:&nbsp;16<br></td><td><a class=\"ProveItLink\" href=\"../ed7a25a0d1b00bbde4561ee9b4dbbc47b5e47d090/expr.ipynb\"><img src=\"../ed7a25a0d1b00bbde4561ee9b4dbbc47b5e47d090/expr.png\" style=\"display:inline;vertical-align:middle;\" /></a></td></tr>\n",
       "<tr><td>12</td><td>Operation</td><td>operator:&nbsp;17<br>operands:&nbsp;18<br></td><td><a class=\"ProveItLink\" href=\"../f7396de6ee1a14dba2d99627cef7ba3b084f16750/expr.ipynb\"><img src=\"../f7396de6ee1a14dba2d99627cef7ba3b084f16750/expr.png\" style=\"display:inline;vertical-align:middle;\" /></a></td></tr>\n",
       "<tr><td>13</td><td>Literal</td><td></td><td><a class=\"ProveItLink\" href=\"../../common/7a0e2d2a71a9c11a68afbf981a5ed39949fa14d10/expr.ipynb\"><img src=\"../../common/7a0e2d2a71a9c11a68afbf981a5ed39949fa14d10/expr.png\" style=\"display:inline;vertical-align:middle;\" /></a></td></tr>\n",
       "<tr><td>14</td><td>ExprTuple</td><td>25, 27</td><td><a class=\"ProveItLink\" href=\"../3dcd5ceea6334d8cb48fe14fdae236293aa9a6050/expr.ipynb\"><img src=\"../3dcd5ceea6334d8cb48fe14fdae236293aa9a6050/expr.png\" style=\"display:inline;vertical-align:middle;\" /></a></td></tr>\n",
       "<tr><td>15</td><td>Literal</td><td></td><td><a class=\"ProveItLink\" href=\"../../../../../../logic/sets/membership/__pv_it/common/477487d8796864d23d5810f83761435f25167f690/expr.ipynb\"><img src=\"../../../../../../logic/sets/membership/__pv_it/common/477487d8796864d23d5810f83761435f25167f690/expr.png\" style=\"display:inline;vertical-align:middle;\" /></a></td></tr>\n",
       "<tr><td>16</td><td>ExprTuple</td><td>26, 19</td><td><a class=\"ProveItLink\" href=\"../ab22af81458b20a0563e35c2b4cc661b650b1d0d0/expr.ipynb\"><img src=\"../ab22af81458b20a0563e35c2b4cc661b650b1d0d0/expr.png\" style=\"display:inline;vertical-align:middle;\" /></a></td></tr>\n",
       "<tr><td>17</td><td>Literal</td><td></td><td><a class=\"ProveItLink\" href=\"../../../../../../logic/booleans/conjunction/__pv_it/common/42118ff318bd65d98b1393f64ce7c2269feef76e0/expr.ipynb\"><img src=\"../../../../../../logic/booleans/conjunction/__pv_it/common/42118ff318bd65d98b1393f64ce7c2269feef76e0/expr.png\" style=\"display:inline;vertical-align:middle;\" /></a></td></tr>\n",
       "<tr><td>18</td><td>ExprTuple</td><td>20, 21</td><td><a class=\"ProveItLink\" href=\"../b9f52fd6d9d9c13ac76c0880c663c3ae64d75af80/expr.ipynb\"><img src=\"../b9f52fd6d9d9c13ac76c0880c663c3ae64d75af80/expr.png\" style=\"display:inline;vertical-align:middle;\" /></a></td></tr>\n",
       "<tr><td>19</td><td>Literal</td><td></td><td><a class=\"ProveItLink\" href=\"../../common/93cac87a1a47e613f7a83b23ef7891599a1a4cca0/expr.ipynb\"><img src=\"../../common/93cac87a1a47e613f7a83b23ef7891599a1a4cca0/expr.png\" style=\"display:inline;vertical-align:middle;\" /></a></td></tr>\n",
       "<tr><td>20</td><td>Operation</td><td>operator:&nbsp;23<br>operands:&nbsp;22<br></td><td><a class=\"ProveItLink\" href=\"../713f019380b376da21c226f9cd8ad430246e91fb0/expr.ipynb\"><img src=\"../713f019380b376da21c226f9cd8ad430246e91fb0/expr.png\" style=\"display:inline;vertical-align:middle;\" /></a></td></tr>\n",
       "<tr><td>21</td><td>Operation</td><td>operator:&nbsp;23<br>operands:&nbsp;24<br></td><td><a class=\"ProveItLink\" href=\"../d28334855d7ebc71c1eaaef058d75ab4efbff0230/expr.ipynb\"><img src=\"../d28334855d7ebc71c1eaaef058d75ab4efbff0230/expr.png\" style=\"display:inline;vertical-align:middle;\" /></a></td></tr>\n",
       "<tr><td>22</td><td>ExprTuple</td><td>25, 26</td><td><a class=\"ProveItLink\" href=\"../16542dff4296b36f053bf5d488afb46dffba9b230/expr.ipynb\"><img src=\"../16542dff4296b36f053bf5d488afb46dffba9b230/expr.png\" style=\"display:inline;vertical-align:middle;\" /></a></td></tr>\n",
       "<tr><td>23</td><td>Literal</td><td></td><td><a class=\"ProveItLink\" href=\"../../../../../ordering/__pv_it/common/68379698d72b4689bbda4b5c5cca29ee599d70280/expr.ipynb\"><img src=\"../../../../../ordering/__pv_it/common/68379698d72b4689bbda4b5c5cca29ee599d70280/expr.png\" style=\"display:inline;vertical-align:middle;\" /></a></td></tr>\n",
       "<tr><td>24</td><td>ExprTuple</td><td>26, 27</td><td><a class=\"ProveItLink\" href=\"../21088e7c2b25b389463b70d075ced69a7c66a23c0/expr.ipynb\"><img src=\"../21088e7c2b25b389463b70d075ced69a7c66a23c0/expr.png\" style=\"display:inline;vertical-align:middle;\" /></a></td></tr>\n",
       "<tr><td>25</td><td>Variable</td><td></td><td><a class=\"ProveItLink\" href=\"../../../../../../__pv_it/common/c06c606ec12678c58933ac85412ecadc2ae28be60/expr.ipynb\"><img src=\"../../../../../../__pv_it/common/c06c606ec12678c58933ac85412ecadc2ae28be60/expr.png\" style=\"display:inline;vertical-align:middle;\" /></a></td></tr>\n",
       "<tr><td>26</td><td>Variable</td><td></td><td><a class=\"ProveItLink\" href=\"../../../../../../__pv_it/common/a0d9d672aa5e272d907247690c152cc2c6daafb70/expr.ipynb\"><img src=\"../../../../../../__pv_it/common/a0d9d672aa5e272d907247690c152cc2c6daafb70/expr.png\" style=\"display:inline;vertical-align:middle;\" /></a></td></tr>\n",
       "<tr><td>27</td><td>Variable</td><td></td><td><a class=\"ProveItLink\" href=\"../../../../../../__pv_it/common/195236b98c6c564a75b5dbada74b173bc52d5c3e0/expr.ipynb\"><img src=\"../../../../../../__pv_it/common/195236b98c6c564a75b5dbada74b173bc52d5c3e0/expr.png\" style=\"display:inline;vertical-align:middle;\" /></a></td></tr>\n",
       "</table>\n"
      ],
      "text/plain": [
       "0. (x -> ((x in [a,b]) = ((x in Real) and (a <= x <= b))))\n",
       "   core type: ExprTuple\n",
       "   sub-expressions: 1\n",
       "1. x -> ((x in [a,b]) = ((x in Real) and (a <= x <= b)))\n",
       "   core type: Lambda\n",
       "   parameter: 26\n",
       "   body: 3\n",
       "2. (x)\n",
       "   core type: ExprTuple\n",
       "   sub-expressions: 26\n",
       "3. (x in [a,b]) = ((x in Real) and (a <= x <= b))\n",
       "   core type: Operation\n",
       "   operator: 4\n",
       "   operands: 5\n",
       "4. =\n",
       "   core type: Literal\n",
       "   sub-expressions: \n",
       "5. (x in [a,b], (x in Real) and (a <= x <= b))\n",
       "   core type: ExprTuple\n",
       "   sub-expressions: 6, 7\n",
       "6. x in [a,b]\n",
       "   core type: Operation\n",
       "   operator: 15\n",
       "   operands: 8\n",
       "7. (x in Real) and (a <= x <= b)\n",
       "   core type: Operation\n",
       "   operator: 17\n",
       "   operands: 9\n",
       "8. (x, [a,b])\n",
       "   core type: ExprTuple\n",
       "   sub-expressions: 26, 10\n",
       "9. (x in Real, a <= x <= b)\n",
       "   core type: ExprTuple\n",
       "   sub-expressions: 11, 12\n",
       "10. [a,b]\n",
       "    core type: Operation\n",
       "    operator: 13\n",
       "    operands: 14\n",
       "11. x in Real\n",
       "    core type: Operation\n",
       "    operator: 15\n",
       "    operands: 16\n",
       "12. a <= x <= b\n",
       "    core type: Operation\n",
       "    operator: 17\n",
       "    operands: 18\n",
       "13. IntervalCC\n",
       "    core type: Literal\n",
       "    sub-expressions: \n",
       "14. (a, b)\n",
       "    core type: ExprTuple\n",
       "    sub-expressions: 25, 27\n",
       "15. in\n",
       "    core type: Literal\n",
       "    sub-expressions: \n",
       "16. (x, Real)\n",
       "    core type: ExprTuple\n",
       "    sub-expressions: 26, 19\n",
       "17. and\n",
       "    core type: Literal\n",
       "    sub-expressions: \n",
       "18. (a <= x, x <= b)\n",
       "    core type: ExprTuple\n",
       "    sub-expressions: 20, 21\n",
       "19. Real\n",
       "    core type: Literal\n",
       "    sub-expressions: \n",
       "20. a <= x\n",
       "    core type: Operation\n",
       "    operator: 23\n",
       "    operands: 22\n",
       "21. x <= b\n",
       "    core type: Operation\n",
       "    operator: 23\n",
       "    operands: 24\n",
       "22. (a, x)\n",
       "    core type: ExprTuple\n",
       "    sub-expressions: 25, 26\n",
       "23. <=\n",
       "    core type: Literal\n",
       "    sub-expressions: \n",
       "24. (x, b)\n",
       "    core type: ExprTuple\n",
       "    sub-expressions: 26, 27\n",
       "25. a\n",
       "    core type: Variable\n",
       "    sub-expressions: \n",
       "26. x\n",
       "    core type: Variable\n",
       "    sub-expressions: \n",
       "27. b\n",
       "    core type: Variable\n",
       "    sub-expressions: "
      ]
     },
     "metadata": {},
     "output_type": "display_data"
    }
   ],
   "source": [
    "# display the expression information\n",
    "stored_expr.expr_info()"
   ]
  },
  {
   "cell_type": "code",
   "execution_count": null,
   "metadata": {},
   "outputs": [],
   "source": []
  }
 ],
 "metadata": {
  "kernelspec": {
   "display_name": "Python 3",
   "language": "python",
   "name": "python3"
  }
 },
 "nbformat": 4,
 "nbformat_minor": 0
}