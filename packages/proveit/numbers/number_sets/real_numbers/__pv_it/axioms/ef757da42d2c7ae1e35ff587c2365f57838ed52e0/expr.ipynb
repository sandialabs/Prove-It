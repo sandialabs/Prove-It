{
 "cells": [
  {
   "cell_type": "markdown",
   "metadata": {},
   "source": [
    "Expression of type <a class=\"ProveItLink\" href=\"../../../../../../../../doc/html/api/proveit.logic.Forall.html\">Forall</a>\n",
    "=======================\n",
    "# from the theory of <a class=\"ProveItLink\" href=\"../../../_theory_nbs_/theory.ipynb\">proveit.numbers.number_sets.real_numbers</a>"
   ]
  },
  {
   "cell_type": "code",
   "execution_count": 1,
   "metadata": {},
   "outputs": [],
   "source": [
    "import proveit\n",
    "# Automation is not needed when building an expression:\n",
    "proveit.defaults.automation = False # This will speed things up.\n",
    "proveit.defaults.inline_pngs = False # Makes files smaller.\n",
    "%load_expr # Load the stored expression as 'stored_expr'\n",
    "# import Expression classes needed to build the expression\n",
    "from proveit import a, b, x\n",
    "from proveit.logic import And, Equals, Forall, InSet\n",
    "from proveit.numbers import IntervalOC, Less, LessEq, Real"
   ]
  },
  {
   "cell_type": "code",
   "execution_count": 2,
   "metadata": {},
   "outputs": [
    {
     "data": {
      "text/html": [
       "<strong id=\"expr\">expr:</strong> <a class=\"ProveItLink\" href=\"expr.ipynb\"><img src=\"expr.png\" style=\"display:inline;vertical-align:middle;\" /></a><br>"
      ],
      "text/plain": [
       "<IPython.core.display.HTML object>"
      ]
     },
     "metadata": {},
     "output_type": "display_data"
    }
   ],
   "source": [
    "# build up the expression from sub-expressions\n",
    "expr = Forall(instance_param_or_params = [x], instance_expr = Equals(InSet(x, IntervalOC(a, b)), And(InSet(x, Real), And(Less(a, x), LessEq(x, b)).with_total_ordering_style())))"
   ]
  },
  {
   "cell_type": "code",
   "execution_count": 3,
   "metadata": {},
   "outputs": [
    {
     "name": "stdout",
     "output_type": "stream",
     "text": [
      "Passed sanity check: expr matches stored_expr\n"
     ]
    }
   ],
   "source": [
    "# check that the built expression is the same as the stored expression\n",
    "assert expr == stored_expr\n",
    "assert expr._style_id == stored_expr._style_id\n",
    "print(\"Passed sanity check: expr matches stored_expr\")"
   ]
  },
  {
   "cell_type": "code",
   "execution_count": 4,
   "metadata": {},
   "outputs": [
    {
     "name": "stdout",
     "output_type": "stream",
     "text": [
      "\\forall_{x}~\\left(\\left(x \\in \\left(a,b\\right]\\right) = \\left(\\left(x \\in \\mathbb{R}\\right) \\land \\left(a < x \\leq b\\right)\\right)\\right)\n"
     ]
    }
   ],
   "source": [
    "# Show the LaTeX representation of the expression for convenience if you need it.\n",
    "print(stored_expr.latex())"
   ]
  },
  {
   "cell_type": "code",
   "execution_count": 5,
   "metadata": {},
   "outputs": [
    {
     "data": {
      "text/html": [
       "<table>\n",
       "<tr><th>name</th><th>description</th><th>default</th><th>current value</th><th>related methods</th></tr><tr><td>with_wrapping</td><td>If 'True', wrap the Expression after the parameters</td><td>None</td><td>None/False</td><td>('with_wrapping',)</td></tr>\n",
       "<tr><td>condition_wrapping</td><td>Wrap 'before' or 'after' the condition (or None).</td><td>None</td><td>None/False</td><td>('with_wrap_after_condition', 'with_wrap_before_condition')</td></tr>\n",
       "<tr><td>wrap_params</td><td>If 'True', wraps every two parameters AND wraps the Expression after the parameters</td><td>None</td><td>None/False</td><td>('with_params',)</td></tr>\n",
       "<tr><td>justification</td><td>justify to the 'left', 'center', or 'right' in the array cells</td><td>center</td><td>center</td><td>('with_justification',)</td></tr>\n",
       "</table>\n"
      ],
      "text/plain": [
       "style name: with_wrapping\n",
       "description: If 'True', wrap the Expression after the parameters\n",
       "default: None\n",
       "current value: None/False\n",
       "related methods: ('with_wrapping',)\n",
       "style name: condition_wrapping\n",
       "description: Wrap 'before' or 'after' the condition (or None).\n",
       "default: None\n",
       "current value: None/False\n",
       "related methods: ('with_wrap_after_condition', 'with_wrap_before_condition')\n",
       "style name: wrap_params\n",
       "description: If 'True', wraps every two parameters AND wraps the Expression after the parameters\n",
       "default: None\n",
       "current value: None/False\n",
       "related methods: ('with_params',)\n",
       "style name: justification\n",
       "description: justify to the 'left', 'center', or 'right' in the array cells\n",
       "default: center\n",
       "current value: center\n",
       "related methods: ('with_justification',)"
      ]
     },
     "metadata": {},
     "output_type": "display_data"
    }
   ],
   "source": [
    "stored_expr.style_options()"
   ]
  },
  {
   "cell_type": "code",
   "execution_count": 6,
   "metadata": {},
   "outputs": [
    {
     "data": {
      "text/html": [
       "<table><tr><th>&nbsp;</th><th>core type</th><th>sub-expressions</th><th>expression</th></tr>\n",
       "<tr><td>0</td><td>Operation</td><td>operator:&nbsp;1<br>operand:&nbsp;3<br></td><td><a class=\"ProveItLink\" href=\"expr.ipynb\"><img src=\"expr.png\" style=\"display:inline;vertical-align:middle;\" /></a></td></tr>\n",
       "<tr><td>1</td><td>Literal</td><td></td><td><a class=\"ProveItLink\" href=\"../../../../../../logic/booleans/quantification/universality/__pv_it/common/083d2baa0b8ecab1d230f9ec29a15aa1355809fb0/expr.ipynb\"><img src=\"../../../../../../logic/booleans/quantification/universality/__pv_it/common/083d2baa0b8ecab1d230f9ec29a15aa1355809fb0/expr.png\" style=\"display:inline;vertical-align:middle;\" /></a></td></tr>\n",
       "<tr><td>2</td><td>ExprTuple</td><td>3</td><td><a class=\"ProveItLink\" href=\"../e263fbeccfdeda85850beb7e478d1a87b6bd48160/expr.ipynb\"><img src=\"../e263fbeccfdeda85850beb7e478d1a87b6bd48160/expr.png\" style=\"display:inline;vertical-align:middle;\" /></a></td></tr>\n",
       "<tr><td>3</td><td>Lambda</td><td>parameter:&nbsp;29<br>body:&nbsp;5<br></td><td><a class=\"ProveItLink\" href=\"../35b1059a5f42c03c6426fb43764bf3ebeabd4eb50/expr.ipynb\"><img src=\"../35b1059a5f42c03c6426fb43764bf3ebeabd4eb50/expr.png\" style=\"display:inline;vertical-align:middle;\" /></a></td></tr>\n",
       "<tr><td>4</td><td>ExprTuple</td><td>29</td><td><a class=\"ProveItLink\" href=\"../../../../../../__pv_it/common/eacfeccc0521684fcb20fe8f5180ac50fca471f20/expr.ipynb\"><img src=\"../../../../../../__pv_it/common/eacfeccc0521684fcb20fe8f5180ac50fca471f20/expr.png\" style=\"display:inline;vertical-align:middle;\" /></a></td></tr>\n",
       "<tr><td>5</td><td>Operation</td><td>operator:&nbsp;6<br>operands:&nbsp;7<br></td><td><a class=\"ProveItLink\" href=\"../de5e2ed08d81cbc1c5d6101d361a683d6a177e6d0/expr.ipynb\"><img src=\"../de5e2ed08d81cbc1c5d6101d361a683d6a177e6d0/expr.png\" style=\"display:inline;vertical-align:middle;\" /></a></td></tr>\n",
       "<tr><td>6</td><td>Literal</td><td></td><td><a class=\"ProveItLink\" href=\"../../../../../../logic/equality/__pv_it/common/fb96dc12b2aa8801dda64d0132b396c63d1502bb0/expr.ipynb\"><img src=\"../../../../../../logic/equality/__pv_it/common/fb96dc12b2aa8801dda64d0132b396c63d1502bb0/expr.png\" style=\"display:inline;vertical-align:middle;\" /></a></td></tr>\n",
       "<tr><td>7</td><td>ExprTuple</td><td>8, 9</td><td><a class=\"ProveItLink\" href=\"../5ec5ea45012d721bf1244b37c3728dddacb294fd0/expr.ipynb\"><img src=\"../5ec5ea45012d721bf1244b37c3728dddacb294fd0/expr.png\" style=\"display:inline;vertical-align:middle;\" /></a></td></tr>\n",
       "<tr><td>8</td><td>Operation</td><td>operator:&nbsp;17<br>operands:&nbsp;10<br></td><td><a class=\"ProveItLink\" href=\"../1ad8a30e8e6646fafa2532d4b38612d6c887f9f00/expr.ipynb\"><img src=\"../1ad8a30e8e6646fafa2532d4b38612d6c887f9f00/expr.png\" style=\"display:inline;vertical-align:middle;\" /></a></td></tr>\n",
       "<tr><td>9</td><td>Operation</td><td>operator:&nbsp;19<br>operands:&nbsp;11<br></td><td><a class=\"ProveItLink\" href=\"../3a076db1758b478d4c6495049858733213b3864c0/expr.ipynb\"><img src=\"../3a076db1758b478d4c6495049858733213b3864c0/expr.png\" style=\"display:inline;vertical-align:middle;\" /></a></td></tr>\n",
       "<tr><td>10</td><td>ExprTuple</td><td>29, 12</td><td><a class=\"ProveItLink\" href=\"../caa0f23a73952b42d8d6146582e4cb6dc24ebc3e0/expr.ipynb\"><img src=\"../caa0f23a73952b42d8d6146582e4cb6dc24ebc3e0/expr.png\" style=\"display:inline;vertical-align:middle;\" /></a></td></tr>\n",
       "<tr><td>11</td><td>ExprTuple</td><td>13, 14</td><td><a class=\"ProveItLink\" href=\"../85708aef7865a3136b842beb2a4aa4c57a208a6c0/expr.ipynb\"><img src=\"../85708aef7865a3136b842beb2a4aa4c57a208a6c0/expr.png\" style=\"display:inline;vertical-align:middle;\" /></a></td></tr>\n",
       "<tr><td>12</td><td>Operation</td><td>operator:&nbsp;15<br>operands:&nbsp;16<br></td><td><a class=\"ProveItLink\" href=\"../542eaea999029192e0ea77ca72b41b4c36b461880/expr.ipynb\"><img src=\"../542eaea999029192e0ea77ca72b41b4c36b461880/expr.png\" style=\"display:inline;vertical-align:middle;\" /></a></td></tr>\n",
       "<tr><td>13</td><td>Operation</td><td>operator:&nbsp;17<br>operands:&nbsp;18<br></td><td><a class=\"ProveItLink\" href=\"../ed7a25a0d1b00bbde4561ee9b4dbbc47b5e47d090/expr.ipynb\"><img src=\"../ed7a25a0d1b00bbde4561ee9b4dbbc47b5e47d090/expr.png\" style=\"display:inline;vertical-align:middle;\" /></a></td></tr>\n",
       "<tr><td>14</td><td>Operation</td><td>operator:&nbsp;19<br>operands:&nbsp;20<br></td><td><a class=\"ProveItLink\" href=\"../3dc55aa90da87572c8ef3ff797543f2a09aacf060/expr.ipynb\"><img src=\"../3dc55aa90da87572c8ef3ff797543f2a09aacf060/expr.png\" style=\"display:inline;vertical-align:middle;\" /></a></td></tr>\n",
       "<tr><td>15</td><td>Literal</td><td></td><td><a class=\"ProveItLink\" href=\"../../common/79c402d5e4fce01af951e7b380ee0bdb7fc710120/expr.ipynb\"><img src=\"../../common/79c402d5e4fce01af951e7b380ee0bdb7fc710120/expr.png\" style=\"display:inline;vertical-align:middle;\" /></a></td></tr>\n",
       "<tr><td>16</td><td>ExprTuple</td><td>28, 30</td><td><a class=\"ProveItLink\" href=\"../3dcd5ceea6334d8cb48fe14fdae236293aa9a6050/expr.ipynb\"><img src=\"../3dcd5ceea6334d8cb48fe14fdae236293aa9a6050/expr.png\" style=\"display:inline;vertical-align:middle;\" /></a></td></tr>\n",
       "<tr><td>17</td><td>Literal</td><td></td><td><a class=\"ProveItLink\" href=\"../../../../../../logic/sets/membership/__pv_it/common/477487d8796864d23d5810f83761435f25167f690/expr.ipynb\"><img src=\"../../../../../../logic/sets/membership/__pv_it/common/477487d8796864d23d5810f83761435f25167f690/expr.png\" style=\"display:inline;vertical-align:middle;\" /></a></td></tr>\n",
       "<tr><td>18</td><td>ExprTuple</td><td>29, 21</td><td><a class=\"ProveItLink\" href=\"../ab22af81458b20a0563e35c2b4cc661b650b1d0d0/expr.ipynb\"><img src=\"../ab22af81458b20a0563e35c2b4cc661b650b1d0d0/expr.png\" style=\"display:inline;vertical-align:middle;\" /></a></td></tr>\n",
       "<tr><td>19</td><td>Literal</td><td></td><td><a class=\"ProveItLink\" href=\"../../../../../../logic/booleans/conjunction/__pv_it/common/42118ff318bd65d98b1393f64ce7c2269feef76e0/expr.ipynb\"><img src=\"../../../../../../logic/booleans/conjunction/__pv_it/common/42118ff318bd65d98b1393f64ce7c2269feef76e0/expr.png\" style=\"display:inline;vertical-align:middle;\" /></a></td></tr>\n",
       "<tr><td>20</td><td>ExprTuple</td><td>22, 23</td><td><a class=\"ProveItLink\" href=\"../107151abe34eb7688f967a91ae7f3b8723e65fbc0/expr.ipynb\"><img src=\"../107151abe34eb7688f967a91ae7f3b8723e65fbc0/expr.png\" style=\"display:inline;vertical-align:middle;\" /></a></td></tr>\n",
       "<tr><td>21</td><td>Literal</td><td></td><td><a class=\"ProveItLink\" href=\"../../common/93cac87a1a47e613f7a83b23ef7891599a1a4cca0/expr.ipynb\"><img src=\"../../common/93cac87a1a47e613f7a83b23ef7891599a1a4cca0/expr.png\" style=\"display:inline;vertical-align:middle;\" /></a></td></tr>\n",
       "<tr><td>22</td><td>Operation</td><td>operator:&nbsp;24<br>operands:&nbsp;25<br></td><td><a class=\"ProveItLink\" href=\"../dca454e375a4fdb804cbe6e3b3b093b1e1eb58430/expr.ipynb\"><img src=\"../dca454e375a4fdb804cbe6e3b3b093b1e1eb58430/expr.png\" style=\"display:inline;vertical-align:middle;\" /></a></td></tr>\n",
       "<tr><td>23</td><td>Operation</td><td>operator:&nbsp;26<br>operands:&nbsp;27<br></td><td><a class=\"ProveItLink\" href=\"../d28334855d7ebc71c1eaaef058d75ab4efbff0230/expr.ipynb\"><img src=\"../d28334855d7ebc71c1eaaef058d75ab4efbff0230/expr.png\" style=\"display:inline;vertical-align:middle;\" /></a></td></tr>\n",
       "<tr><td>24</td><td>Literal</td><td></td><td><a class=\"ProveItLink\" href=\"../../../../../ordering/__pv_it/common/fa503ed52033522c609eef1cf3e1b45796489da50/expr.ipynb\"><img src=\"../../../../../ordering/__pv_it/common/fa503ed52033522c609eef1cf3e1b45796489da50/expr.png\" style=\"display:inline;vertical-align:middle;\" /></a></td></tr>\n",
       "<tr><td>25</td><td>ExprTuple</td><td>28, 29</td><td><a class=\"ProveItLink\" href=\"../16542dff4296b36f053bf5d488afb46dffba9b230/expr.ipynb\"><img src=\"../16542dff4296b36f053bf5d488afb46dffba9b230/expr.png\" style=\"display:inline;vertical-align:middle;\" /></a></td></tr>\n",
       "<tr><td>26</td><td>Literal</td><td></td><td><a class=\"ProveItLink\" href=\"../../../../../ordering/__pv_it/common/68379698d72b4689bbda4b5c5cca29ee599d70280/expr.ipynb\"><img src=\"../../../../../ordering/__pv_it/common/68379698d72b4689bbda4b5c5cca29ee599d70280/expr.png\" style=\"display:inline;vertical-align:middle;\" /></a></td></tr>\n",
       "<tr><td>27</td><td>ExprTuple</td><td>29, 30</td><td><a class=\"ProveItLink\" href=\"../21088e7c2b25b389463b70d075ced69a7c66a23c0/expr.ipynb\"><img src=\"../21088e7c2b25b389463b70d075ced69a7c66a23c0/expr.png\" style=\"display:inline;vertical-align:middle;\" /></a></td></tr>\n",
       "<tr><td>28</td><td>Variable</td><td></td><td><a class=\"ProveItLink\" href=\"../../../../../../__pv_it/common/c06c606ec12678c58933ac85412ecadc2ae28be60/expr.ipynb\"><img src=\"../../../../../../__pv_it/common/c06c606ec12678c58933ac85412ecadc2ae28be60/expr.png\" style=\"display:inline;vertical-align:middle;\" /></a></td></tr>\n",
       "<tr><td>29</td><td>Variable</td><td></td><td><a class=\"ProveItLink\" href=\"../../../../../../__pv_it/common/a0d9d672aa5e272d907247690c152cc2c6daafb70/expr.ipynb\"><img src=\"../../../../../../__pv_it/common/a0d9d672aa5e272d907247690c152cc2c6daafb70/expr.png\" style=\"display:inline;vertical-align:middle;\" /></a></td></tr>\n",
       "<tr><td>30</td><td>Variable</td><td></td><td><a class=\"ProveItLink\" href=\"../../../../../../__pv_it/common/195236b98c6c564a75b5dbada74b173bc52d5c3e0/expr.ipynb\"><img src=\"../../../../../../__pv_it/common/195236b98c6c564a75b5dbada74b173bc52d5c3e0/expr.png\" style=\"display:inline;vertical-align:middle;\" /></a></td></tr>\n",
       "</table>\n"
      ],
      "text/plain": [
       "0. forall_{x} ((x in (a,b]) = ((x in Real) and (a < x <= b)))\n",
       "   core type: Operation\n",
       "   operator: 1\n",
       "   operand: 3\n",
       "1. forall\n",
       "   core type: Literal\n",
       "   sub-expressions: \n",
       "2. (x -> ((x in (a,b]) = ((x in Real) and (a < x <= b))))\n",
       "   core type: ExprTuple\n",
       "   sub-expressions: 3\n",
       "3. x -> ((x in (a,b]) = ((x in Real) and (a < x <= b)))\n",
       "   core type: Lambda\n",
       "   parameter: 29\n",
       "   body: 5\n",
       "4. (x)\n",
       "   core type: ExprTuple\n",
       "   sub-expressions: 29\n",
       "5. (x in (a,b]) = ((x in Real) and (a < x <= b))\n",
       "   core type: Operation\n",
       "   operator: 6\n",
       "   operands: 7\n",
       "6. =\n",
       "   core type: Literal\n",
       "   sub-expressions: \n",
       "7. (x in (a,b], (x in Real) and (a < x <= b))\n",
       "   core type: ExprTuple\n",
       "   sub-expressions: 8, 9\n",
       "8. x in (a,b]\n",
       "   core type: Operation\n",
       "   operator: 17\n",
       "   operands: 10\n",
       "9. (x in Real) and (a < x <= b)\n",
       "   core type: Operation\n",
       "   operator: 19\n",
       "   operands: 11\n",
       "10. (x, (a,b])\n",
       "    core type: ExprTuple\n",
       "    sub-expressions: 29, 12\n",
       "11. (x in Real, a < x <= b)\n",
       "    core type: ExprTuple\n",
       "    sub-expressions: 13, 14\n",
       "12. (a,b]\n",
       "    core type: Operation\n",
       "    operator: 15\n",
       "    operands: 16\n",
       "13. x in Real\n",
       "    core type: Operation\n",
       "    operator: 17\n",
       "    operands: 18\n",
       "14. a < x <= b\n",
       "    core type: Operation\n",
       "    operator: 19\n",
       "    operands: 20\n",
       "15. IntervalOC\n",
       "    core type: Literal\n",
       "    sub-expressions: \n",
       "16. (a, b)\n",
       "    core type: ExprTuple\n",
       "    sub-expressions: 28, 30\n",
       "17. in\n",
       "    core type: Literal\n",
       "    sub-expressions: \n",
       "18. (x, Real)\n",
       "    core type: ExprTuple\n",
       "    sub-expressions: 29, 21\n",
       "19. and\n",
       "    core type: Literal\n",
       "    sub-expressions: \n",
       "20. (a < x, x <= b)\n",
       "    core type: ExprTuple\n",
       "    sub-expressions: 22, 23\n",
       "21. Real\n",
       "    core type: Literal\n",
       "    sub-expressions: \n",
       "22. a < x\n",
       "    core type: Operation\n",
       "    operator: 24\n",
       "    operands: 25\n",
       "23. x <= b\n",
       "    core type: Operation\n",
       "    operator: 26\n",
       "    operands: 27\n",
       "24. <\n",
       "    core type: Literal\n",
       "    sub-expressions: \n",
       "25. (a, x)\n",
       "    core type: ExprTuple\n",
       "    sub-expressions: 28, 29\n",
       "26. <=\n",
       "    core type: Literal\n",
       "    sub-expressions: \n",
       "27. (x, b)\n",
       "    core type: ExprTuple\n",
       "    sub-expressions: 29, 30\n",
       "28. a\n",
       "    core type: Variable\n",
       "    sub-expressions: \n",
       "29. x\n",
       "    core type: Variable\n",
       "    sub-expressions: \n",
       "30. b\n",
       "    core type: Variable\n",
       "    sub-expressions: "
      ]
     },
     "metadata": {},
     "output_type": "display_data"
    }
   ],
   "source": [
    "# display the expression information\n",
    "stored_expr.expr_info()"
   ]
  },
  {
   "cell_type": "code",
   "execution_count": null,
   "metadata": {},
   "outputs": [],
   "source": []
  }
 ],
 "metadata": {
  "kernelspec": {
   "display_name": "Python 3",
   "language": "python",
   "name": "python3"
  }
 },
 "nbformat": 4,
 "nbformat_minor": 0
}