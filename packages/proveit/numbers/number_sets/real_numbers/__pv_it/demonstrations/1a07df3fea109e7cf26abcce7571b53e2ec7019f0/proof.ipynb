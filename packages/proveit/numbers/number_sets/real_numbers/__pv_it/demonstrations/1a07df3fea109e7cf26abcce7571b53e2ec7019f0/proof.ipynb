{
 "cells": [
  {
   "cell_type": "markdown",
   "metadata": {},
   "source": [
    "Show the Proof\n",
    "========"
   ]
  },
  {
   "cell_type": "code",
   "execution_count": 1,
   "metadata": {},
   "outputs": [
    {
     "data": {
      "text/html": [
       "<table><tr><th>&nbsp;</th><th>step type</th><th>requirements</th><th>statement</th></tr>\n",
       "<tr><td><a name=\"proveit.numbers.number_sets.real_numbers.demonstrations.1a07df3fea109e7cf26abcce7571b53e2ec7019f0_step0\">0</a></td><td>instantiation</td><td><a href=\"#proveit.numbers.number_sets.real_numbers.demonstrations.1a07df3fea109e7cf26abcce7571b53e2ec7019f0_step1\">1</a>, <a href=\"#proveit.numbers.number_sets.real_numbers.demonstrations.1a07df3fea109e7cf26abcce7571b53e2ec7019f0_step2\">2</a>, <a href=\"#proveit.numbers.number_sets.real_numbers.demonstrations.1a07df3fea109e7cf26abcce7571b53e2ec7019f0_step3\">3</a></td><td><span style=\"font-size:20px;\"> <a class=\"ProveItLink\" href=\"proof.ipynb\" style=\"text-decoration: none\">&nbsp;&#x22A2;&nbsp;&nbsp;</a><a class=\"ProveItLink\" href=\"../2ceb73e38b0f9212fd2a03891b38b3c2c939b6d80/expr.ipynb\"><img src=\"../2ceb73e38b0f9212fd2a03891b38b3c2c939b6d80/expr.png\" style=\"display:inline;vertical-align:middle;\" /></a></span></td></tr>\n",
       "<tr><td>&nbsp;</td><td colspan=4 style=\"text-align:left\"><span style=\"font-size:20px;\"><a class=\"ProveItLink\" href=\"../../../../../../__pv_it/common/a0d9d672aa5e272d907247690c152cc2c6daafb70/expr.ipynb\"><img src=\"../../../../../../__pv_it/common/a0d9d672aa5e272d907247690c152cc2c6daafb70/expr.png\" style=\"display:inline;vertical-align:middle;\" /></a> : <a class=\"ProveItLink\" href=\"../1d8fa87f7d756c0c6e4141171755da945ed301320/expr.ipynb\"><img src=\"../1d8fa87f7d756c0c6e4141171755da945ed301320/expr.png\" style=\"display:inline;vertical-align:middle;\" /></a>, <a class=\"ProveItLink\" href=\"../../../../../../__pv_it/common/ff7dba4ef0bbe791ab573bf2d9c220a304399ac80/expr.ipynb\"><img src=\"../../../../../../__pv_it/common/ff7dba4ef0bbe791ab573bf2d9c220a304399ac80/expr.png\" style=\"display:inline;vertical-align:middle;\" /></a> : <a class=\"ProveItLink\" href=\"../../../../../numerals/decimals/__pv_it/theorems/771ec82cd6a9541ce67bed0db60365f82806cd1d0/expr.ipynb\"><img src=\"../../../../../numerals/decimals/__pv_it/theorems/771ec82cd6a9541ce67bed0db60365f82806cd1d0/expr.png\" style=\"display:inline;vertical-align:middle;\" /></a>, <a class=\"ProveItLink\" href=\"../../../../../../__pv_it/common/95a8f6b9b9f29b83f192ad7fd05708d6be097a3f0/expr.ipynb\"><img src=\"../../../../../../__pv_it/common/95a8f6b9b9f29b83f192ad7fd05708d6be097a3f0/expr.png\" style=\"display:inline;vertical-align:middle;\" /></a> : <a class=\"ProveItLink\" href=\"../../../../../numerals/__pv_it/common/16e9923976ab933f6783588485130530d25dafab0/expr.ipynb\"><img src=\"../../../../../numerals/__pv_it/common/16e9923976ab933f6783588485130530d25dafab0/expr.png\" style=\"display:inline;vertical-align:middle;\" /></a></span></td></tr><tr><td><a name=\"proveit.numbers.number_sets.real_numbers.demonstrations.1a07df3fea109e7cf26abcce7571b53e2ec7019f0_step1\">1</a></td><td>axiom</td><td></td><td><span style=\"font-size:20px;\"> <a class=\"ProveItLink\" href=\"../../../../../../logic/equality/_theory_nbs_/axioms.ipynb#equals_transitivity\" style=\"text-decoration: none\">&nbsp;&#x22A2;&nbsp;&nbsp;</a><a class=\"ProveItLink\" href=\"../../../../../../logic/equality/__pv_it/axioms/b5b3cf1e74e7e4fc2d5f197f08b661e6992950090/expr.ipynb\"><img src=\"../../../../../../logic/equality/__pv_it/axioms/b5b3cf1e74e7e4fc2d5f197f08b661e6992950090/expr.png\" style=\"display:inline;vertical-align:middle;\" /></a></span></td></tr>\n",
       "<tr><td>&nbsp;</td><td colspan=4 style-\"text-align:left\"><a class=\"ProveItLink\" href=\"../../../../../../logic/equality/_theory_nbs_/axioms.ipynb#equals_transitivity\">proveit.logic.equality.equals_transitivity</a></td></tr><tr><td><a name=\"proveit.numbers.number_sets.real_numbers.demonstrations.1a07df3fea109e7cf26abcce7571b53e2ec7019f0_step2\">2</a></td><td>instantiation</td><td><a href=\"#proveit.numbers.number_sets.real_numbers.demonstrations.1a07df3fea109e7cf26abcce7571b53e2ec7019f0_step4\">4</a>, <a href=\"#proveit.numbers.number_sets.real_numbers.demonstrations.1a07df3fea109e7cf26abcce7571b53e2ec7019f0_step5\">5</a></td><td><span style=\"font-size:20px;\"> <a class=\"ProveItLink\" href=\"../41a0c65e6613e85cf38d9a604432c6541b1bd1cf0/proof.ipynb\" style=\"text-decoration: none\">&nbsp;&#x22A2;&nbsp;&nbsp;</a><a class=\"ProveItLink\" href=\"../d8fc9ee5d88cf9a84fc6074441872c353cd81eca0/expr.ipynb\"><img src=\"../d8fc9ee5d88cf9a84fc6074441872c353cd81eca0/expr.png\" style=\"display:inline;vertical-align:middle;\" /></a></span></td></tr>\n",
       "<tr><td>&nbsp;</td><td colspan=4 style=\"text-align:left\"><span style=\"font-size:20px;\"><a class=\"ProveItLink\" href=\"../240163a5cdd87b01485b8a5a6a0c76635a8fddb60/expr.ipynb\"><img src=\"../240163a5cdd87b01485b8a5a6a0c76635a8fddb60/expr.png\" style=\"display:inline;vertical-align:middle;\" /></a> : <a class=\"ProveItLink\" href=\"../0ebfb96005cb4958b4dea8c0b073148f39aa9f930/expr.ipynb\"><img src=\"../0ebfb96005cb4958b4dea8c0b073148f39aa9f930/expr.png\" style=\"display:inline;vertical-align:middle;\" /></a>, <a class=\"ProveItLink\" href=\"../../../../../../__pv_it/common/a0d9d672aa5e272d907247690c152cc2c6daafb70/expr.ipynb\"><img src=\"../../../../../../__pv_it/common/a0d9d672aa5e272d907247690c152cc2c6daafb70/expr.png\" style=\"display:inline;vertical-align:middle;\" /></a> : <a class=\"ProveItLink\" href=\"../../../../../numerals/decimals/__pv_it/theorems/5f4f5d451173c6cdbd262ef82eaf6f3ba6af0eef0/expr.ipynb\"><img src=\"../../../../../numerals/decimals/__pv_it/theorems/5f4f5d451173c6cdbd262ef82eaf6f3ba6af0eef0/expr.png\" style=\"display:inline;vertical-align:middle;\" /></a>, <a class=\"ProveItLink\" href=\"../../../../../../__pv_it/common/ff7dba4ef0bbe791ab573bf2d9c220a304399ac80/expr.ipynb\"><img src=\"../../../../../../__pv_it/common/ff7dba4ef0bbe791ab573bf2d9c220a304399ac80/expr.png\" style=\"display:inline;vertical-align:middle;\" /></a> : <a class=\"ProveItLink\" href=\"../../../../../numerals/__pv_it/common/1943b60945420e340d305780feff5c1aff2740ff0/expr.ipynb\"><img src=\"../../../../../numerals/__pv_it/common/1943b60945420e340d305780feff5c1aff2740ff0/expr.png\" style=\"display:inline;vertical-align:middle;\" /></a></span></td></tr><tr><td><a name=\"proveit.numbers.number_sets.real_numbers.demonstrations.1a07df3fea109e7cf26abcce7571b53e2ec7019f0_step3\">3</a></td><td>theorem</td><td></td><td><span style=\"font-size:20px;\"> <a class=\"ProveItLink\" href=\"../../../../../numerals/decimals/_theory_nbs_/proofs/add_3_2/thm_proof.ipynb\" style=\"text-decoration: none\">&nbsp;&#x22A2;&nbsp;&nbsp;</a><a class=\"ProveItLink\" href=\"../../../../../numerals/decimals/__pv_it/theorems/4ef46f107b53b33a481d0d5164d103479cf34ecc0/expr.ipynb\"><img src=\"../../../../../numerals/decimals/__pv_it/theorems/4ef46f107b53b33a481d0d5164d103479cf34ecc0/expr.png\" style=\"display:inline;vertical-align:middle;\" /></a></span></td></tr>\n",
       "<tr><td>&nbsp;</td><td colspan=4 style-\"text-align:left\"><a class=\"ProveItLink\" href=\"../../../../../numerals/decimals/_theory_nbs_/proofs/add_3_2/thm_proof.ipynb\">proveit.numbers.numerals.decimals.add_3_2</a></td></tr><tr><td><a name=\"proveit.numbers.number_sets.real_numbers.demonstrations.1a07df3fea109e7cf26abcce7571b53e2ec7019f0_step4\">4</a></td><td>axiom</td><td></td><td><span style=\"font-size:20px;\"> <a class=\"ProveItLink\" href=\"../../../../../../logic/equality/_theory_nbs_/axioms.ipynb#substitution\" style=\"text-decoration: none\">&nbsp;&#x22A2;&nbsp;&nbsp;</a><a class=\"ProveItLink\" href=\"../../../../../../logic/equality/__pv_it/axioms/b3647e5bced6c805148d96be1aa0946871a946d20/expr.ipynb\"><img src=\"../../../../../../logic/equality/__pv_it/axioms/b3647e5bced6c805148d96be1aa0946871a946d20/expr.png\" style=\"display:inline;vertical-align:middle;\" /></a></span></td></tr>\n",
       "<tr><td>&nbsp;</td><td colspan=4 style-\"text-align:left\"><a class=\"ProveItLink\" href=\"../../../../../../logic/equality/_theory_nbs_/axioms.ipynb#substitution\">proveit.logic.equality.substitution</a></td></tr><tr><td><a name=\"proveit.numbers.number_sets.real_numbers.demonstrations.1a07df3fea109e7cf26abcce7571b53e2ec7019f0_step5\">5</a></td><td>theorem</td><td></td><td><span style=\"font-size:20px;\"> <a class=\"ProveItLink\" href=\"../../../../../numerals/decimals/_theory_nbs_/proofs/add_1_2/thm_proof.ipynb\" style=\"text-decoration: none\">&nbsp;&#x22A2;&nbsp;&nbsp;</a><a class=\"ProveItLink\" href=\"../../../../../numerals/decimals/__pv_it/theorems/2fdc1e4800223b4036ace68f68551b19b2b04ff70/expr.ipynb\"><img src=\"../../../../../numerals/decimals/__pv_it/theorems/2fdc1e4800223b4036ace68f68551b19b2b04ff70/expr.png\" style=\"display:inline;vertical-align:middle;\" /></a></span></td></tr>\n",
       "<tr><td>&nbsp;</td><td colspan=4 style-\"text-align:left\"><a class=\"ProveItLink\" href=\"../../../../../numerals/decimals/_theory_nbs_/proofs/add_1_2/thm_proof.ipynb\">proveit.numbers.numerals.decimals.add_1_2</a></td></tr></table>"
      ],
      "text/plain": [
       "<proveit._core_.proof._ShowProof at 0x7f3e60f46d30>"
      ]
     },
     "execution_count": 1,
     "metadata": {},
     "output_type": "execute_result"
    }
   ],
   "source": [
    "import proveit\n",
    "# Automation is not needed when only showing a stored proof:\n",
    "proveit.defaults.automation = False # This will speed things up.\n",
    "proveit.defaults.inline_pngs = False # Makes files smaller.\n",
    "%show_proof"
   ]
  },
  {
   "cell_type": "code",
   "execution_count": null,
   "metadata": {},
   "outputs": [],
   "source": []
  }
 ],
 "metadata": {
  "kernelspec": {
   "display_name": "Python 3",
   "language": "python",
   "name": "python3"
  }
 },
 "nbformat": 4,
 "nbformat_minor": 0
}