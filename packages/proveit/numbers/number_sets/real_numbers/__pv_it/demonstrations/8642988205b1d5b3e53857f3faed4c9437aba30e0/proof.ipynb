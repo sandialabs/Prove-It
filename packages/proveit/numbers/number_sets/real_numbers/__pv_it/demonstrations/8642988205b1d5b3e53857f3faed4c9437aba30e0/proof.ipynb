{
 "cells": [
  {
   "cell_type": "markdown",
   "metadata": {},
   "source": [
    "Show the Proof\n",
    "========"
   ]
  },
  {
   "cell_type": "code",
   "execution_count": 1,
   "metadata": {},
   "outputs": [
    {
     "data": {
      "text/html": [
       "<table><tr><th>&nbsp;</th><th>step type</th><th>requirements</th><th>statement</th></tr>\n",
       "<tr><td><a name=\"proveit.numbers.number_sets.real_numbers.demonstrations.8642988205b1d5b3e53857f3faed4c9437aba30e0_step0\">0</a></td><td>instantiation</td><td><a href=\"#proveit.numbers.number_sets.real_numbers.demonstrations.8642988205b1d5b3e53857f3faed4c9437aba30e0_step1\">1</a>, <a href=\"#proveit.numbers.number_sets.real_numbers.demonstrations.8642988205b1d5b3e53857f3faed4c9437aba30e0_step2\">2</a>, <a href=\"#proveit.numbers.number_sets.real_numbers.demonstrations.8642988205b1d5b3e53857f3faed4c9437aba30e0_step3\">3</a></td><td><span style=\"font-size:20px;\"><a class=\"ProveItLink\" href=\"../619064660bea43de10a0abd6495f8cdd14c3dac70/expr.ipynb\"><img src=\"../619064660bea43de10a0abd6495f8cdd14c3dac70/expr.png\" style=\"display:inline;vertical-align:middle;\" /></a>, <a class=\"ProveItLink\" href=\"../4fbcb7a28aa1a7b57995427d328be52fe3a024f90/expr.ipynb\"><img src=\"../4fbcb7a28aa1a7b57995427d328be52fe3a024f90/expr.png\" style=\"display:inline;vertical-align:middle;\" /></a> <a class=\"ProveItLink\" href=\"proof.ipynb\" style=\"text-decoration: none\">&nbsp;&#x22A2;&nbsp;&nbsp;</a><a class=\"ProveItLink\" href=\"../12975aba11f8b68a8a57452eda3863c164b3b1e90/expr.ipynb\"><img src=\"../12975aba11f8b68a8a57452eda3863c164b3b1e90/expr.png\" style=\"display:inline;vertical-align:middle;\" /></a></span></td></tr>\n",
       "<tr><td>&nbsp;</td><td colspan=4 style=\"text-align:left\"><span style=\"font-size:20px;\"><a class=\"ProveItLink\" href=\"../../../../../../__pv_it/common/c06c606ec12678c58933ac85412ecadc2ae28be60/expr.ipynb\"><img src=\"../../../../../../__pv_it/common/c06c606ec12678c58933ac85412ecadc2ae28be60/expr.png\" style=\"display:inline;vertical-align:middle;\" /></a> : <a class=\"ProveItLink\" href=\"../../../../../../__pv_it/common/c3df45f28d41d286d2eebe2be9be7af76c74d56b0/expr.ipynb\"><img src=\"../../../../../../__pv_it/common/c3df45f28d41d286d2eebe2be9be7af76c74d56b0/expr.png\" style=\"display:inline;vertical-align:middle;\" /></a></span></td></tr><tr><td><a name=\"proveit.numbers.number_sets.real_numbers.demonstrations.8642988205b1d5b3e53857f3faed4c9437aba30e0_step1\">1</a></td><td>theorem</td><td></td><td><span style=\"font-size:20px;\"> <a class=\"ProveItLink\" href=\"../../../_theory_nbs_/proofs/pos_real_is_real_pos/thm_proof.ipynb\" style=\"text-decoration: none\">&nbsp;&#x22A2;&nbsp;&nbsp;</a><a class=\"ProveItLink\" href=\"../../theorems/5342eeb9c659859a6b9a5682d3cbd234e0ed89430/expr.ipynb\"><img src=\"../../theorems/5342eeb9c659859a6b9a5682d3cbd234e0ed89430/expr.png\" style=\"display:inline;vertical-align:middle;\" /></a></span></td></tr>\n",
       "<tr><td>&nbsp;</td><td colspan=4 style-\"text-align:left\"><a class=\"ProveItLink\" href=\"../../../_theory_nbs_/proofs/pos_real_is_real_pos/thm_proof.ipynb\">proveit.numbers.number_sets.real_numbers.pos_real_is_real_pos</a></td></tr><tr><td><a name=\"proveit.numbers.number_sets.real_numbers.demonstrations.8642988205b1d5b3e53857f3faed4c9437aba30e0_step2\">2</a></td><td>assumption</td><td></td><td><span style=\"font-size:20px;\"><a class=\"ProveItLink\" href=\"../619064660bea43de10a0abd6495f8cdd14c3dac70/expr.ipynb\"><img src=\"../619064660bea43de10a0abd6495f8cdd14c3dac70/expr.png\" style=\"display:inline;vertical-align:middle;\" /></a> <a class=\"ProveItLink\" href=\"../535c6e1319a299e754344bdbcd98d77b8420b7130/proof.ipynb\" style=\"text-decoration: none\">&nbsp;&#x22A2;&nbsp;&nbsp;</a><a class=\"ProveItLink\" href=\"../619064660bea43de10a0abd6495f8cdd14c3dac70/expr.ipynb\"><img src=\"../619064660bea43de10a0abd6495f8cdd14c3dac70/expr.png\" style=\"display:inline;vertical-align:middle;\" /></a></span></td></tr>\n",
       "<tr><td><a name=\"proveit.numbers.number_sets.real_numbers.demonstrations.8642988205b1d5b3e53857f3faed4c9437aba30e0_step3\">3</a></td><td>assumption</td><td></td><td><span style=\"font-size:20px;\"><a class=\"ProveItLink\" href=\"../4fbcb7a28aa1a7b57995427d328be52fe3a024f90/expr.ipynb\"><img src=\"../4fbcb7a28aa1a7b57995427d328be52fe3a024f90/expr.png\" style=\"display:inline;vertical-align:middle;\" /></a> <a class=\"ProveItLink\" href=\"../af1da10c67bf368acecb3c9ee820eb07ed92802e0/proof.ipynb\" style=\"text-decoration: none\">&nbsp;&#x22A2;&nbsp;&nbsp;</a><a class=\"ProveItLink\" href=\"../4fbcb7a28aa1a7b57995427d328be52fe3a024f90/expr.ipynb\"><img src=\"../4fbcb7a28aa1a7b57995427d328be52fe3a024f90/expr.png\" style=\"display:inline;vertical-align:middle;\" /></a></span></td></tr>\n",
       "</table>"
      ],
      "text/plain": [
       "<proveit._core_.proof._ShowProof at 0x7f0c9030b8d0>"
      ]
     },
     "execution_count": 1,
     "metadata": {},
     "output_type": "execute_result"
    }
   ],
   "source": [
    "import proveit\n",
    "# Automation is not needed when only showing a stored proof:\n",
    "proveit.defaults.automation = False # This will speed things up.\n",
    "proveit.defaults.inline_pngs = False # Makes files smaller.\n",
    "%show_proof"
   ]
  },
  {
   "cell_type": "code",
   "execution_count": null,
   "metadata": {},
   "outputs": [],
   "source": []
  }
 ],
 "metadata": {
  "kernelspec": {
   "display_name": "Python 3",
   "language": "python",
   "name": "python3"
  }
 },
 "nbformat": 4,
 "nbformat_minor": 0
}