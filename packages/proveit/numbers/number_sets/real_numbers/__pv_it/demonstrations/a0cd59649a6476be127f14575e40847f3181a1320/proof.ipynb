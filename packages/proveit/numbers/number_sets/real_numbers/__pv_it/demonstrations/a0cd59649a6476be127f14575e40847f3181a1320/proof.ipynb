{
 "cells": [
  {
   "cell_type": "markdown",
   "metadata": {},
   "source": [
    "Show the Proof\n",
    "========"
   ]
  },
  {
   "cell_type": "code",
   "execution_count": 1,
   "metadata": {},
   "outputs": [
    {
     "data": {
      "text/html": [
       "<table><tr><th>&nbsp;</th><th>step type</th><th>requirements</th><th>statement</th></tr>\n",
       "<tr><td><a name=\"proveit.numbers.number_sets.real_numbers.demonstrations.a0cd59649a6476be127f14575e40847f3181a1320_step0\">0</a></td><td>instantiation</td><td><a href=\"#proveit.numbers.number_sets.real_numbers.demonstrations.a0cd59649a6476be127f14575e40847f3181a1320_step1\">1</a>, <a href=\"#proveit.numbers.number_sets.real_numbers.demonstrations.a0cd59649a6476be127f14575e40847f3181a1320_step2\">2</a>, <a href=\"#proveit.numbers.number_sets.real_numbers.demonstrations.a0cd59649a6476be127f14575e40847f3181a1320_step3\">3</a></td><td><span style=\"font-size:20px;\"> <a class=\"ProveItLink\" href=\"proof.ipynb\" style=\"text-decoration: none\">&nbsp;&#x22A2;&nbsp;&nbsp;</a><a class=\"ProveItLink\" href=\"../8d12b640da0ca64b097b7bbb2d50ea7c6eba68650/expr.ipynb\"><img src=\"../8d12b640da0ca64b097b7bbb2d50ea7c6eba68650/expr.png\" style=\"display:inline;vertical-align:middle;\" /></a></span></td></tr>\n",
       "<tr><td>&nbsp;</td><td colspan=4 style=\"text-align:left\"><span style=\"font-size:20px;\"><a class=\"ProveItLink\" href=\"../../../../../../__pv_it/common/09585084922504426caf1db2ff588a23a0932a960/expr.ipynb\"><img src=\"../../../../../../__pv_it/common/09585084922504426caf1db2ff588a23a0932a960/expr.png\" style=\"display:inline;vertical-align:middle;\" /></a> : <a class=\"ProveItLink\" href=\"../../../../../numerals/decimals/__pv_it/theorems/87469a9c68ae71903426a57864d5192167a8a75c0/expr.ipynb\"><img src=\"../../../../../numerals/decimals/__pv_it/theorems/87469a9c68ae71903426a57864d5192167a8a75c0/expr.png\" style=\"display:inline;vertical-align:middle;\" /></a>, <a class=\"ProveItLink\" href=\"../../../../../../__pv_it/common/a9162d1c3cc0470c02e5daf414500903a7a419230/expr.ipynb\"><img src=\"../../../../../../__pv_it/common/a9162d1c3cc0470c02e5daf414500903a7a419230/expr.png\" style=\"display:inline;vertical-align:middle;\" /></a> : <a class=\"ProveItLink\" href=\"../../../../../numerals/decimals/__pv_it/theorems/4eb25ee0d01c5a59bf2f328bbfe21b879d55e9ff0/expr.ipynb\"><img src=\"../../../../../numerals/decimals/__pv_it/theorems/4eb25ee0d01c5a59bf2f328bbfe21b879d55e9ff0/expr.png\" style=\"display:inline;vertical-align:middle;\" /></a></span></td></tr><tr><td><a name=\"proveit.numbers.number_sets.real_numbers.demonstrations.a0cd59649a6476be127f14575e40847f3181a1320_step1\">1</a></td><td>theorem</td><td></td><td><span style=\"font-size:20px;\"> <a class=\"ProveItLink\" href=\"../../../../../../logic/booleans/conjunction/_theory_nbs_/proofs/and_if_both/thm_proof.ipynb\" style=\"text-decoration: none\">&nbsp;&#x22A2;&nbsp;&nbsp;</a><a class=\"ProveItLink\" href=\"../../../../../../logic/booleans/conjunction/__pv_it/theorems/014a7d12c0ce73da40017125d0ac8b3d52f7b2000/expr.ipynb\"><img src=\"../../../../../../logic/booleans/conjunction/__pv_it/theorems/014a7d12c0ce73da40017125d0ac8b3d52f7b2000/expr.png\" style=\"display:inline;vertical-align:middle;\" /></a></span></td></tr>\n",
       "<tr><td>&nbsp;</td><td colspan=4 style-\"text-align:left\"><a class=\"ProveItLink\" href=\"../../../../../../logic/booleans/conjunction/_theory_nbs_/proofs/and_if_both/thm_proof.ipynb\">proveit.logic.booleans.conjunction.and_if_both</a></td></tr><tr><td><a name=\"proveit.numbers.number_sets.real_numbers.demonstrations.a0cd59649a6476be127f14575e40847f3181a1320_step2\">2</a></td><td>theorem</td><td></td><td><span style=\"font-size:20px;\"> <a class=\"ProveItLink\" href=\"../../../../../numerals/decimals/_theory_nbs_/proofs/less_1_2/thm_proof.ipynb\" style=\"text-decoration: none\">&nbsp;&#x22A2;&nbsp;&nbsp;</a><a class=\"ProveItLink\" href=\"../../../../../numerals/decimals/__pv_it/theorems/87469a9c68ae71903426a57864d5192167a8a75c0/expr.ipynb\"><img src=\"../../../../../numerals/decimals/__pv_it/theorems/87469a9c68ae71903426a57864d5192167a8a75c0/expr.png\" style=\"display:inline;vertical-align:middle;\" /></a></span></td></tr>\n",
       "<tr><td>&nbsp;</td><td colspan=4 style-\"text-align:left\"><a class=\"ProveItLink\" href=\"../../../../../numerals/decimals/_theory_nbs_/proofs/less_1_2/thm_proof.ipynb\">proveit.numbers.numerals.decimals.less_1_2</a></td></tr><tr><td><a name=\"proveit.numbers.number_sets.real_numbers.demonstrations.a0cd59649a6476be127f14575e40847f3181a1320_step3\">3</a></td><td>theorem</td><td></td><td><span style=\"font-size:20px;\"> <a class=\"ProveItLink\" href=\"../../../../../numerals/decimals/_theory_nbs_/proofs/less_2_3/thm_proof.ipynb\" style=\"text-decoration: none\">&nbsp;&#x22A2;&nbsp;&nbsp;</a><a class=\"ProveItLink\" href=\"../../../../../numerals/decimals/__pv_it/theorems/4eb25ee0d01c5a59bf2f328bbfe21b879d55e9ff0/expr.ipynb\"><img src=\"../../../../../numerals/decimals/__pv_it/theorems/4eb25ee0d01c5a59bf2f328bbfe21b879d55e9ff0/expr.png\" style=\"display:inline;vertical-align:middle;\" /></a></span></td></tr>\n",
       "<tr><td>&nbsp;</td><td colspan=4 style-\"text-align:left\"><a class=\"ProveItLink\" href=\"../../../../../numerals/decimals/_theory_nbs_/proofs/less_2_3/thm_proof.ipynb\">proveit.numbers.numerals.decimals.less_2_3</a></td></tr></table>"
      ],
      "text/plain": [
       "<proveit._core_.proof._ShowProof at 0x7f0c7df13a58>"
      ]
     },
     "execution_count": 1,
     "metadata": {},
     "output_type": "execute_result"
    }
   ],
   "source": [
    "import proveit\n",
    "# Automation is not needed when only showing a stored proof:\n",
    "proveit.defaults.automation = False # This will speed things up.\n",
    "proveit.defaults.inline_pngs = False # Makes files smaller.\n",
    "%show_proof"
   ]
  },
  {
   "cell_type": "code",
   "execution_count": null,
   "metadata": {},
   "outputs": [],
   "source": []
  }
 ],
 "metadata": {
  "kernelspec": {
   "display_name": "Python 3",
   "language": "python",
   "name": "python3"
  }
 },
 "nbformat": 4,
 "nbformat_minor": 0
}