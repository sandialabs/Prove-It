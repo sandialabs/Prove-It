{
 "cells": [
  {
   "cell_type": "markdown",
   "metadata": {},
   "source": [
    "Proof of <a class=\"ProveItLink\" href=\"../../../../../../_theory_nbs_/theory.ipynb\">proveit</a>.<a class=\"ProveItLink\" href=\"../../../../../_theory_nbs_/theory.ipynb\">numbers</a>.<a class=\"ProveItLink\" href=\"../../../../_theory_nbs_/theory.ipynb\">number_sets</a>.<a class=\"ProveItLink\" href=\"../../theory.ipynb\">real_numbers</a>.<a class=\"ProveItLink\" href=\"../../theorems.ipynb#real_not_in_interval_oc\">real_not_in_interval_oc</a> theorem\n",
    "========"
   ]
  },
  {
   "cell_type": "code",
   "execution_count": 1,
   "metadata": {},
   "outputs": [],
   "source": [
    "import proveit\n",
    "theory = proveit.Theory() # the theorem's theory"
   ]
  },
  {
   "cell_type": "code",
   "execution_count": 2,
   "metadata": {},
   "outputs": [
    {
     "data": {
      "text/html": [
       "With these <a href=\"allowed_presumptions.txt\">allowed</a>/<a href=\"disallowed_presumptions.txt\">disallowed</a> theorem/theory presumptions (e.g., to avoid circular dependencies), we begin our proof of<br><strong id=\"real_not_in_interval_oc\">real_not_in_interval_oc:</strong> <a class=\"ProveItLink\" href=\"../../../__pv_it/theorems/bcde29330af9ac628b2637fef64b8bd6e49833b10/expr.ipynb\"><img src=\"data:image/png;base64,iVBORw0KGgoAAAANSUhEUgAAASMAAAAXCAMAAAB3YtkQAAAAP1BMVEX///8AAAAAAAAAAAAAAAAA\n",
       "AAAAAAAAAAAAAAAAAAAAAAAAAAAAAAAAAAAAAAAAAAAAAAAAAAAAAAAAAAAAAADFBd4eAAAAFHRS\n",
       "TlMAq1RmmUTNIjK7EInv3Xbp8+P3nXbhrUQAAAAJcEhZcwAADsQAAA7EAZUrDhsAAAQqSURBVFjD\n",
       "3VjXEuMgDKQXYXTN//+tRzUixnYycy85JpNxYjUWaREw9v8M+8lb+2AMY3TPUt82UNy+NvCBcB5B\n",
       "M6YxP/HjPyG/GiIRbl87/p4w+C0OjBhmUJQ+gP7qxAJz/37M80nYKIJRSb8DX+u/Oo3UQxXEt4V3\n",
       "QTGSitRpEF+N0XbHVD7++BnNe8J6B4oR29JP2TA1381G1+Frg8C4e084QRPZhJHJ+Gwxjy18d6m1\n",
       "8AGRgwukKGwulJmA1DFXywNanOmIJxNiYBQyGakCsYd/Euq8uI+7AC5zwn6uZeQRAHJkatBP2Yok\n",
       "roSZ3tJLv9Opw54whd0eGElTsOxfr9uluaVxEYNR3EzeJwWpV1reXoM61O59n7ViTRyZjMs0Zz5I\n",
       "2ZyboybMYCs7+0TnoiC24YGR2HoKhdV8+Lr+HHLvdV7O9D7YcIER8BVCLzmgA50zH2ovvmGhNVF2\n",
       "jT+XhJrqymUq+fU7fflXYab2gthkrGrv4YDEFSGBF4y9ueUiKtdTPilKwAuM1Al26eW6/W3ta5l6\n",
       "U5t8W8Xhpmkm0245QHvC857dhTdfimuKsyCm8/7fMNJbS8derxAkhl4Mbs8E2DkAlU2f1nkOjBDU\n",
       "BUZx1ks78Ih0+KnhV73CifHk23FuX2ydGpUoxt6dBACmMOJSGPY8a7mfuyO1j9ISsbVGbV0g2hSd\n",
       "PY51wLAhgJZxz4yo69IxCqnzRLnGyJpJz21kWsSPUMc5qKRRVSO+tVf2JYauRR1jTRrNeF53Uj6I\n",
       "TKuVcMIom+KmbBId1N11nuqcXedkN97LKBfwYUo2Vs+SxXLS15JgpHyYqZX80n7SS1QUYJTr4Uf7\n",
       "Q7GkUf/dfGuiNWx1KdLV8Eq4DlSyq2maGcHdSrhiJaLKdJi2s0aJ2Ysi/VFvFLqRXKjIKR2pQbx1\n",
       "3aXxZYhaa2EKh2Ik+KTH6HyJH1dVUidbibipNd9T9hFb7hUjVyoCVMoaoeSkBPy3hoVwfoPBWY55\n",
       "9jG2UuKhnVQaRnGm1dIWeNmLORfqiDGve3rtAqN8pHWANUZ9Gk2vMUupG+qnV41pHVpT674hEBYb\n",
       "tk61xqK77BTkn+DTvmbuhQUs7kaSu/i6O2Sa0DI1URmJhGwuxvxsNxZM3aNHs1n3/lvOJnq9sc1M\n",
       "fPgpdFEn0jf7GlPzXU9bsjHCsIWnNlKqN2+OroQDW2J0Ov7qlKYYJKs57lQJpTwr1AERyv2AO85B\n",
       "JqT0pv0Ixag0i0OPXgAefpoUnUn9o/meegZiy59bcX/Vna8uNM7CgEuMbm9DxMVzSX9fesjF8LeN\n",
       "3vJK63QEDc/dOfh3LLHrC42zMC7vIa+Rz5HC+vlhTK7VG5d2C5k31JYiFtfCnH0gTO6zy8ZyF4u8\n",
       "eP4EI0bp3Pk+7NORLjytidTffEXxAvtjAsIH/35g9t+Ov5h1ItYav/FdAAAAAElFTkSuQmCC\n",
       "\" style=\"display:inline;vertical-align:middle;\" /></a><br>(see <a class=\"ProveItLink\" href=\"../../../__pv_it/theorems/03d104892ac56087c05f3b5b00a9db0a88c943530/dependencies.ipynb\">dependencies</a>)<br>"
      ],
      "text/plain": [
       "<IPython.core.display.HTML object>"
      ]
     },
     "metadata": {},
     "output_type": "display_data"
    }
   ],
   "source": [
    "%proving real_not_in_interval_oc"
   ]
  },
  {
   "cell_type": "code",
   "execution_count": null,
   "metadata": {},
   "outputs": [],
   "source": []
  }
 ],
 "metadata": {
  "kernelspec": {
   "display_name": "Python 3",
   "language": "python",
   "name": "python3"
  }
 },
 "nbformat": 4,
 "nbformat_minor": 0
}