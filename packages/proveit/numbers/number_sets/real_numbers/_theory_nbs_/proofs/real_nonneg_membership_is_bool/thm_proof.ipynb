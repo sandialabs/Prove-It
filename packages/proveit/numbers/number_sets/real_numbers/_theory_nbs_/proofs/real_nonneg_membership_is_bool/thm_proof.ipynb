{
 "cells": [
  {
   "cell_type": "markdown",
   "metadata": {},
   "source": [
    "Proof of <a class=\"ProveItLink\" href=\"../../../../../../_theory_nbs_/theory.ipynb\">proveit</a>.<a class=\"ProveItLink\" href=\"../../../../../_theory_nbs_/theory.ipynb\">numbers</a>.<a class=\"ProveItLink\" href=\"../../../../_theory_nbs_/theory.ipynb\">number_sets</a>.<a class=\"ProveItLink\" href=\"../../theory.ipynb\">real_numbers</a>.<a class=\"ProveItLink\" href=\"../../theorems.ipynb#real_nonneg_membership_is_bool\">real_nonneg_membership_is_bool</a> theorem\n",
    "========"
   ]
  },
  {
   "cell_type": "code",
   "execution_count": 1,
   "metadata": {},
   "outputs": [],
   "source": [
    "import proveit\n",
    "theory = proveit.Theory() # the theorem's theory"
   ]
  },
  {
   "cell_type": "code",
   "execution_count": 2,
   "metadata": {},
   "outputs": [
    {
     "data": {
      "text/html": [
       "With these <a href=\"allowed_presumptions.txt\">allowed</a>/<a href=\"disallowed_presumptions.txt\">disallowed</a> theorem/theory presumptions (e.g., to avoid circular dependencies), we begin our proof of<br><strong id=\"real_nonneg_membership_is_bool\">real_nonneg_membership_is_bool:</strong> <a class=\"ProveItLink\" href=\"../../../__pv_it/theorems/243e305f7c51ccda07f74d86da118423354fc67b0/expr.ipynb\"><img src=\"data:image/png;base64,iVBORw0KGgoAAAANSUhEUgAAALUAAAAaBAMAAAADNwChAAAAMFBMVEX///8AAAAAAAAAAAAAAAAA\n",
       "AAAAAAAAAAAAAAAAAAAAAAAAAAAAAAAAAAAAAAAAAAAv3aB7AAAAD3RSTlMAq1RmmUTNIjK7EInv\n",
       "3XZ/CtNrAAAACXBIWXMAAA7EAAAOxAGVKw4bAAACtklEQVRIx51WTWgTQRR+22Q32cSEgIg/p4DF\n",
       "i5dQQSkWrQdtVZRIoJdiXexBKC3dQC9iIPFYLHQvQVrQblGEVtBQBJFCCYKHIIrF88KKVbBqD4JE\n",
       "AgVndn46O8maxHf4svvNt19m37x5swD/EbNZ72f9e/ePhrIMAiL2Ko0VrmpBOEASxPdyCIxvGYB9\n",
       "JahDxGotCOBjBoN/RL8LRRteA5wJELTm9QwDOU7WlqZqdGDAnLfhI0DC9mt+1qYnN7OET2HiqDha\n",
       "4NAUVh6u9XtmT8uAvN8DJFOyZiwycYDw5/H9LXHwModm7zugR7HZzCHAOfmFkteQNTl4qRP+blPi\n",
       "f3No5R020UrkkTVZS4DxZu8+hfAaesV4WhiLNhgIZeE4Bve2YHkI3yRdFb/CRVmDvDXCh9DaaKJP\n",
       "8gMDHiPbe/NWVlOwSu7Wt3Dqf8iaHBw8Tfl3jvNWNFIMCrGdI/fWvFqdEHIye8z05+CGLWnGnm1W\n",
       "KD8MsOgrQYtCGD65VzCjcTerMLW7LeV3viRprk/uXqJ8HiK+MtJSFE7BWXu/xwhreeIJ7icLKJhZ\n",
       "MStpcvB5xCa8bsd9rSMxSKEEFwgz56CwiLf+SN5Uz7OSJge6WiF8j+tbyr15A94aOFaEeUcHFyXv\n",
       "YknSIG+wKG/grb8ztGXK3mqdVERCrO/h23K+TUmDvQ3Kr6ElTpqHNVrkikUgVlaqUCGFLHivJDOt\n",
       "6kTQIO8el/IFNMcQPIyy+q4S6PnzuKqS/7vJn5tB+6Hs9x4ASTMKGy8Yr3gJq7MxtUEgdtXt7SPU\n",
       "ctlmffA+LEynfd7n/JqvtSWvDzIeb/JqhF2+4cBj9IET2M/HAzS8zxTiRriDPtjqJGm048NfNvh+\n",
       "m+PQ0eGa6oZX0gw6iYTZDd/RednmXAzkj3NoH12e8+2/T8TvEDuY/wtHRtU9g4/WsQAAAABJRU5E\n",
       "rkJggg==\n",
       "\" style=\"display:inline;vertical-align:middle;\" /></a><br>(see <a class=\"ProveItLink\" href=\"../../../__pv_it/theorems/f4a3f577da887fe2e44bdd4631e8829d131957f60/dependencies.ipynb\">dependencies</a>)<br>"
      ],
      "text/plain": [
       "<IPython.core.display.HTML object>"
      ]
     },
     "metadata": {},
     "output_type": "display_data"
    },
    {
     "name": "stdout",
     "output_type": "stream",
     "text": [
      "real_nonneg_membership_is_bool may now be readily provable (assuming required theorems are usable).  Simply execute \"%qed\".\n"
     ]
    }
   ],
   "source": [
    "%proving real_nonneg_membership_is_bool"
   ]
  },
  {
   "cell_type": "code",
   "execution_count": null,
   "metadata": {},
   "outputs": [],
   "source": []
  }
 ],
 "metadata": {
  "kernelspec": {
   "display_name": "Python 3",
   "language": "python",
   "name": "python3"
  }
 },
 "nbformat": 4,
 "nbformat_minor": 0
}