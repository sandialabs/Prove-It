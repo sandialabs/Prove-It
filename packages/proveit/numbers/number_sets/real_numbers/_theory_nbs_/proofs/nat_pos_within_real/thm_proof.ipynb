{
 "cells": [
  {
   "cell_type": "markdown",
   "metadata": {},
   "source": [
    "Proof of <a class=\"ProveItLink\" href=\"../../../../../../_theory_nbs_/theory.ipynb\">proveit</a>.<a class=\"ProveItLink\" href=\"../../../../../_theory_nbs_/theory.ipynb\">numbers</a>.<a class=\"ProveItLink\" href=\"../../../../_theory_nbs_/theory.ipynb\">number_sets</a>.<a class=\"ProveItLink\" href=\"../../theory.ipynb\">real_numbers</a>.<a class=\"ProveItLink\" href=\"../../theorems.ipynb#nat_pos_within_real\">nat_pos_within_real</a> theorem\n",
    "========"
   ]
  },
  {
   "cell_type": "code",
   "execution_count": 1,
   "metadata": {},
   "outputs": [],
   "source": [
    "import proveit\n",
    "theory = proveit.Theory() # the theorem's theory"
   ]
  },
  {
   "cell_type": "code",
   "execution_count": 2,
   "metadata": {},
   "outputs": [
    {
     "data": {
      "text/html": [
       "With these <a href=\"allowed_presumptions.txt\">allowed</a>/<a href=\"disallowed_presumptions.txt\">disallowed</a> theorem/theory presumptions (e.g., to avoid circular dependencies), we begin our proof of<br><strong id=\"nat_pos_within_real\">nat_pos_within_real:</strong> <a class=\"ProveItLink\" href=\"../../../__pv_it/theorems/cadda3c3d26446c0177fea32c74c6999415960080/expr.ipynb\"><img src=\"data:image/png;base64,iVBORw0KGgoAAAANSUhEUgAAAEcAAAATBAMAAAAwgQ3NAAAAMFBMVEX///8AAAAAAAAAAAAAAAAA\n",
       "AAAAAAAAAAAAAAAAAAAAAAAAAAAAAAAAAAAAAAAAAAAv3aB7AAAAD3RSTlMAEN27zYnvRFSrImZ2\n",
       "MpmnAiL6AAAACXBIWXMAAA7EAAAOxAGVKw4bAAABDElEQVQoz2NggAM+BiIAM4WKhD6bCDCEfSvA\n",
       "pmhLsr1T8gYQy4J9AgPjB+wmGaxkqNwsAGRMWhDNwJDA8NjYzNh4A7qipQzMvBOAjBkGLAsYFHCY\n",
       "tJSBb4EDkDFrD5cDmqLDSkpKunBFBiBFnBeOoiq6EoVkEqcgyLpZDAbMBciKGLWQrbvcsgCs6B6j\n",
       "ogJSiHMWIBQtc/p0kAGsiLuhOQHJtSzIDt8twgBRxDCRE1nRTWRFzNIboIokGRWQFK1EVsT7wBCq\n",
       "iPeAAZIiJpRwersYxLAF4rPIivg2ICsS5gFxPUDiDsjh7I5QtI6Be4M5MOS+AU1hRFEkPF0Angqs\n",
       "GIz9G7Amn1IjaLRAAQAVTUIDROUmwQAAAABJRU5ErkJggg==\n",
       "\" style=\"display:inline;vertical-align:middle;\" /></a><br>(see <a class=\"ProveItLink\" href=\"../../../__pv_it/theorems/734e37849a704aa92355a8d4c14a74e10e66aec20/dependencies.ipynb\">dependencies</a>)<br>"
      ],
      "text/plain": [
       "<IPython.core.display.HTML object>"
      ]
     },
     "metadata": {},
     "output_type": "display_data"
    },
    {
     "name": "stdout",
     "output_type": "stream",
     "text": [
      "nat_pos_within_real may now be readily provable (assuming required theorems are usable).  Simply execute \"%qed\".\n"
     ]
    }
   ],
   "source": [
    "%proving nat_pos_within_real"
   ]
  },
  {
   "cell_type": "code",
   "execution_count": null,
   "metadata": {},
   "outputs": [],
   "source": []
  }
 ],
 "metadata": {
  "kernelspec": {
   "display_name": "Python 3",
   "language": "python",
   "name": "python3"
  }
 },
 "nbformat": 4,
 "nbformat_minor": 0
}