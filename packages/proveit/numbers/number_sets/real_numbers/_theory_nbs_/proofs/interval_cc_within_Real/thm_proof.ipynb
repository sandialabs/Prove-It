{
 "cells": [
  {
   "cell_type": "markdown",
   "metadata": {},
   "source": [
    "Proof of <a class=\"ProveItLink\" href=\"../../../../../../_theory_nbs_/theory.ipynb\">proveit</a>.<a class=\"ProveItLink\" href=\"../../../../../_theory_nbs_/theory.ipynb\">numbers</a>.<a class=\"ProveItLink\" href=\"../../../../_theory_nbs_/theory.ipynb\">number_sets</a>.<a class=\"ProveItLink\" href=\"../../theory.ipynb\">real_numbers</a>.<a class=\"ProveItLink\" href=\"../../theorems.ipynb#interval_cc_within_Real\">interval_cc_within_Real</a> theorem\n",
    "========"
   ]
  },
  {
   "cell_type": "code",
   "execution_count": 1,
   "metadata": {},
   "outputs": [],
   "source": [
    "import proveit\n",
    "theory = proveit.Theory() # the theorem's theory"
   ]
  },
  {
   "cell_type": "code",
   "execution_count": 2,
   "metadata": {},
   "outputs": [
    {
     "data": {
      "text/html": [
       "With these <a href=\"allowed_presumptions.txt\">allowed</a>/<a href=\"disallowed_presumptions.txt\">disallowed</a> theorem/theory presumptions (e.g., to avoid circular dependencies), we begin our proof of<br><strong id=\"interval_cc_within_Real\">interval_cc_within_Real:</strong> <a class=\"ProveItLink\" href=\"../../../__pv_it/theorems/782b2ff69833f56f9d14cf54b9e3d0ec921b93cb0/expr.ipynb\"><img src=\"data:image/png;base64,iVBORw0KGgoAAAANSUhEUgAAAKMAAAAWBAMAAABeRTF1AAAAMFBMVEX///8AAAAAAAAAAAAAAAAA\n",
       "AAAAAAAAAAAAAAAAAAAAAAAAAAAAAAAAAAAAAAAAAAAv3aB7AAAAD3RSTlMAq1RmmUTNIjK7EInv\n",
       "3XZ/CtNrAAAACXBIWXMAAA7EAAAOxAGVKw4bAAACuklEQVQ4y62VT2jTUBjAv7Zpm6TpaxH0UpCA\n",
       "sIOiBJTBdpiRqgwErQ48qLiKB1GZpuBFnFCPomI9yIx/ZkARapFWRafCYCCCQ4QigjIsZBcnA2Un\n",
       "hYHi9/KSNK+u2Q4+aJvve6+/7/8LwAqWAd8/8xrSKnc7uqJFVHjWqUsVeLl3+u7ItAZwGJ+zVLEu\n",
       "FLkBOKR8u/kvEiol2NtnAUHsDiofCyPKRR4JCX0p5DmQRPTvBMAFFJOVMKSgdSAz6tJIwUDjW9Ck\n",
       "hftqGFKBDuSw5SPJnVaLVcpBomuKBTH0IRGayp5O5KRfHvGkEfAy8hADTyDvfav1LhS5iyGTuTmb\n",
       "KY78WOUiHxnBwC/2oJhC7CDAzVDkUYY8ZEiLrFw/rbrBkKsDuRwd+T2PvzHMZwmSWU8vHncfNj7f\n",
       "dspTfnCQ8msQmo4cXQTFZshisDybHzi7UwCSFahejnJnzQJJwUTD1b1xkMICpJlGKEKm4fxHzAaR\n",
       "0j2N6hYQaweq8xY/27GChEC/zSGVCtSZaSQPqw4yySFFnSYwPkW9H8Cv2sAENfFn1qL9T5HzOhd4\n",
       "3YatflvucSNrcn05eJYGTnVPsOHlT+IvSpohetXpt1RyXHMPjzOkCmuihkyRZcwrQ+Y5ZJV6E6Nj\n",
       "M4ruC7pIHZa0WHHIQQq3/Il67CAlO/pRgDoWJKJJuotMtKtQOYMtfh1JNOERzJ1SIDQvSlnI9pqm\n",
       "qRKS2ucdvsIqvvZF6RukZzCiXN5rdfnagfZNNAbmaRXSnpW6IfXjmGVAUS85XpL4QcvdS5cD07Oe\n",
       "v9ziL72B9NZ5f46Nq0NWDdJWHzaVk0t45ZUnpgeQjS73pb/89Mbzm57CZVXcbUPyBsr7vzbu7/Q2\n",
       "x9pI2V4G2XmpsQupZpr8+WobSWAZpMS/KeJWF8s2THa+e750Qc7xYgz+y/oLpgy3i0VKmb8AAAAA\n",
       "SUVORK5CYII=\n",
       "\" style=\"display:inline;vertical-align:middle;\" /></a><br>(see <a class=\"ProveItLink\" href=\"../../../__pv_it/theorems/f2790eb9f980e50941613669ba83d33ba998b8a40/dependencies.ipynb\">dependencies</a>)<br>"
      ],
      "text/plain": [
       "<IPython.core.display.HTML object>"
      ]
     },
     "metadata": {},
     "output_type": "display_data"
    }
   ],
   "source": [
    "%proving interval_cc_within_Real"
   ]
  },
  {
   "cell_type": "code",
   "execution_count": null,
   "metadata": {},
   "outputs": [],
   "source": []
  }
 ],
 "metadata": {
  "kernelspec": {
   "display_name": "Python 3",
   "language": "python",
   "name": "python3"
  }
 },
 "nbformat": 4,
 "nbformat_minor": 0
}