{
 "cells": [
  {
   "cell_type": "markdown",
   "metadata": {},
   "source": [
    "Proof of <a class=\"ProveItLink\" href=\"../../../../../../_theory_nbs_/theory.ipynb\">proveit</a>.<a class=\"ProveItLink\" href=\"../../../../../_theory_nbs_/theory.ipynb\">numbers</a>.<a class=\"ProveItLink\" href=\"../../../../_theory_nbs_/theory.ipynb\">number_sets</a>.<a class=\"ProveItLink\" href=\"../../theory.ipynb\">real_numbers</a>.<a class=\"ProveItLink\" href=\"../../theorems.ipynb#not_int_if_not_int_in_interval\">not_int_if_not_int_in_interval</a> theorem\n",
    "========"
   ]
  },
  {
   "cell_type": "code",
   "execution_count": 1,
   "metadata": {},
   "outputs": [],
   "source": [
    "import proveit\n",
    "theory = proveit.Theory() # the theorem's theory"
   ]
  },
  {
   "cell_type": "code",
   "execution_count": 2,
   "metadata": {},
   "outputs": [
    {
     "data": {
      "text/html": [
       "With these <a href=\"allowed_presumptions.txt\">allowed</a>/<a href=\"disallowed_presumptions.txt\">disallowed</a> theorem/theory presumptions (e.g., to avoid circular dependencies), we begin our proof of<br><strong id=\"not_int_if_not_int_in_interval\">not_int_if_not_int_in_interval:</strong> <a class=\"ProveItLink\" href=\"../../../__pv_it/theorems/a449ea9c32c8f3abd674e31a1bac11ba7856f2350/expr.ipynb\"><img src=\"data:image/png;base64,iVBORw0KGgoAAAANSUhEUgAAATYAAAAZCAMAAACM7/LMAAAASFBMVEX///8AAAAAAAAAAAAAAAAA\n",
       "AAAAAAAAAAAAAAAAAAAAAAAAAAAAAAAAAAAAAAAAAAAAAAAAAAAAAAAAAAAAAAAAAAAAAAAAAACC\n",
       "gUnDAAAAF3RSTlMAq1RmmUTNIjK7EInv3Xbt5cnp8+P3nRjLMsUAAAAJcEhZcwAADsQAAA7EAZUr\n",
       "DhsAAAPvSURBVFjD5VmJbuQgDOUMt/fs5v//dIEkxJBA0nTV0aooHVUZG9sPX3gIebxoCEGRL7cg\n",
       "ms0+wD+Rr7o4/5KwqUffqi8OG4xjbLLbf2zys59MCMZHoCQg2GghZ/z9sD3nft1ibvi13m0CQ/Vi\n",
       "aHYR4DtsQhYY1Pthe879smUvomQ3iQixouVY5YcRtgKuMg+C9Dn3y5a4CIuAeoXkCtakZ4FL7Llt\n",
       "g9CxB7A9537Z8qOsZ8LPX6G4Y7ZNaJJDNfPaAttWFt6d4SdcVP6b+sD6msoJ7A7Rnuq0KCbzvZL6\n",
       "kJZ3zyrpU+6XxeiqqQWgVjsUJSpFziHzGZuedTm6wyb0+vUj2K652b8pFtCYP0z7A6154QcKROyp\n",
       "LBc1Doeyi17xaYdN0e2jc4nyxon4nMN2xU24HNnHr6N7o6kVGJUgNxC5Xox4xIjPMSb5ea5GL5GG\n",
       "zKN2N7nKiSQN1Jj4Ol08nQXbaXfPuTdmYumoRwII3WhqaaS7CdvoEIlfVE0xIqoj0ynd/H6LH6bq\n",
       "jBfbFuv1jGBjcJbShViTY6TRTPHeLeGUuzDjNug0gruwmQNN5QkD2Ki6hi3/WwVk7jKahiC+Wzur\n",
       "ZU+JvS1avcYvFzwerqha4uXkRf9yVbhJZFXxqZhDu3EXtobmCFtlE4atyMVe2RG5Ty/kHDmsrTRt\n",
       "DjGW1QUvO2NNVtgcWw7ScpkuX16R0uGtiYDpPmwbNwFFqCETw8xqajbuwtbSHGFj4hy2IleYtL7F\n",
       "P94VaWBxIxlzdlIeg09kjXLsPNY3dMXLYNiUX7KBspCsjJmSSORsFogbXOU37hTNUSldMUvTbNyF\n",
       "raU5wibNOWxFLkFh0hO59BBs1lZE2CR24Ik1TVtM29kjlGEGdy9bs1rIY0leAphP+eQMyyfibOXO\n",
       "TYeLhM2K1MyMNhtrsy3V5rZCk73Gm+w1iEabbm6bVZWi6u1qD8qbWRF9iwlepTJL3yQ2UnozJS38\n",
       "HHuJJY7l+eDI63yB1UTv/iWZTmTOXg+OtM9jKcS8mVo2HpSEmuZ+kBa5Ce7vPza4OyKD7vdKf5yJ\n",
       "lbTbE6lwPm9Tc943ZTLUGud6IMPVvE154qalcTC2KQlo4zPYrDvSHGEDOIUNycVjn55ILm5M2sZT\n",
       "gBY2mYSCy02w2foPSik4M9HLMaUA6QAsZo7mqWbjCmk3zQ6St7ADjWlotq2O3rbLxQfWEdlsU2lz\n",
       "McUp34+mu9Ylb5fPprs7s7x3W2WDvu2Qtfp9G4MbA7ceOldTnIL3ZwzFxZ0rqbTdW0JnI/NcJ9XB\n",
       "ll5ciov8T/ktwd0YEtzQo7nbnsLG5KdMUT4G293fSe0/0bXZ5WUzeAjB878ZxSDLQlSh6AAAAABJ\n",
       "RU5ErkJggg==\n",
       "\" style=\"display:inline;vertical-align:middle;\" /></a><br>(see <a class=\"ProveItLink\" href=\"../../../__pv_it/theorems/ce77492cb7efbcfe613e8088f6ba35f6e7dcd92a0/dependencies.ipynb\">dependencies</a>)<br>"
      ],
      "text/plain": [
       "<IPython.core.display.HTML object>"
      ]
     },
     "metadata": {},
     "output_type": "display_data"
    }
   ],
   "source": [
    "%proving not_int_if_not_int_in_interval"
   ]
  },
  {
   "cell_type": "code",
   "execution_count": null,
   "metadata": {},
   "outputs": [],
   "source": []
  }
 ],
 "metadata": {
  "kernelspec": {
   "display_name": "Python 3",
   "language": "python",
   "name": "python3"
  }
 },
 "nbformat": 4,
 "nbformat_minor": 0
}