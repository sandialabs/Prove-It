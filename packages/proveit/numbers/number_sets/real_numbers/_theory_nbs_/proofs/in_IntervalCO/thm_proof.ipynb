{
 "cells": [
  {
   "cell_type": "markdown",
   "metadata": {},
   "source": [
    "Proof of <a class=\"ProveItLink\" href=\"../../../../../../_theory_nbs_/theory.ipynb\">proveit</a>.<a class=\"ProveItLink\" href=\"../../../../../_theory_nbs_/theory.ipynb\">numbers</a>.<a class=\"ProveItLink\" href=\"../../../../_theory_nbs_/theory.ipynb\">number_sets</a>.<a class=\"ProveItLink\" href=\"../../theory.ipynb\">real_numbers</a>.<a class=\"ProveItLink\" href=\"../../theorems.ipynb#in_IntervalCO\">in_IntervalCO</a> theorem\n",
    "========"
   ]
  },
  {
   "cell_type": "code",
   "execution_count": 1,
   "metadata": {},
   "outputs": [],
   "source": [
    "import proveit\n",
    "theory = proveit.Theory() # the theorem's theory"
   ]
  },
  {
   "cell_type": "code",
   "execution_count": 2,
   "metadata": {},
   "outputs": [
    {
     "data": {
      "text/html": [
       "With these <a href=\"allowed_presumptions.txt\">allowed</a>/<a href=\"disallowed_presumptions.txt\">disallowed</a> theorem/theory presumptions (e.g., to avoid circular dependencies), we begin our proof of<br><strong id=\"in_IntervalCO\">in_IntervalCO:</strong> <a class=\"ProveItLink\" href=\"../../../__pv_it/theorems/ea3c4b3431458c468f948a97f5a7c052c9106b080/expr.ipynb\"><img src=\"data:image/png;base64,iVBORw0KGgoAAAANSUhEUgAAAPUAAAAXBAMAAAAhExTfAAAAMFBMVEX///8AAAAAAAAAAAAAAAAA\n",
       "AAAAAAAAAAAAAAAAAAAAAAAAAAAAAAAAAAAAAAAAAAAv3aB7AAAAD3RSTlMAq1RmmUTNIjK7EInv\n",
       "3XZ/CtNrAAAACXBIWXMAAA7EAAAOxAGVKw4bAAADUUlEQVRIx7VWQWgTURCdbnaT3U2ybVUELUhA\n",
       "LxWUIEVpD21KtXqxFgteKjZ6EXuQ7b1KPEoL5mDBWC0rFEFzSKhoVagEvAii9CAohcBW1NqApScr\n",
       "PYgz/2+yP9s06WEdmM//nzf/7cyfmb8Avkqo1uavL54N01F/5WutzefejUuOttDioE/UUr4Rt/5g\n",
       "EcCIcz1FO1d94n4MDf0OJnAY5XqLbintE3dfY+7mGA4dXIMWQDjmE3eharVaLCa3cI8gH0QspgGM\n",
       "e9Cv606KqwulWn4vsMDHuX4oFt/7xC1jqulr+yfmWLmNCjEPta3YfHF5bRcGuoXrGYD7jY9N7ISb\n",
       "XJFh2T7LFqbAfdHUNnme/7ZyJgQwQKRjEGopo9Rr1YcdedF7nc+qs7Fd7AyuURTz5gT0WLsZt5Br\n",
       "+luQF/m1bELEBgkTg1SzwoMVWJtw5HJm0AjDfH4rd7stFKxgFMGDUtDPF5NFlDTnltchys+Rk9Cc\n",
       "B3UdmEq2kGrv3OnJFDYAA7rsLdydcaGJ9lquUYQ58ZEvngh+R9KQ4w7iJ4zEQEGfSSHZjUO2e558\n",
       "/btMJbB2+ptJfYe4SwmBm6FWWUUSBg1azbKRE3NQNuApWwjcORt6KuV9zgIJL4AU5jAh9c/qBnEt\n",
       "GUhlmPuCMfbZRjg0E3e5GWqSUTMMKHfNshGJZoM+1VQAFl7DFrhjsFcydeJO4d1DIM0VxjHV5IRK\n",
       "IdDiLANhRoUhZi9Pp4VcYyhpmrxkGIVNuREJlo30Z7ag8FZ1xeXWbOmTDDmENcW1BC9GUmhK0U0Z\n",
       "lOyRlMxyHmNwPJPJxAwjfF7g5ijOSBgegrIR3sAi6AP2oWN89WjKquT5gZdjPyG6hKFro74bHeTK\n",
       "JGdqXYhshggdpxZCMMH8NpRhy+V2UOoek2P0V4R2jEiqH+rhh56eerg8ueEoz1DzzpCVhajVCVkY\n",
       "DydlLD123/BayDWGouRutRgG8w6zgYwc6aj/luTFN6fy7ih9R59hCNUBG0f5+5sShO5RS/6Rn+13\n",
       "uRmK/54wDK83MnJEM+tx62UcvZvetzMmjJDNZNyeA9u+slUtTk/X4zbET/R8pmK5o1d2+MLfrLW5\n",
       "4P1fW3FUkIAwbs99Gwsg4/+fXh35H2T/AEr27DoqVt9AAAAAAElFTkSuQmCC\n",
       "\" style=\"display:inline;vertical-align:middle;\" /></a><br>(see <a class=\"ProveItLink\" href=\"../../../__pv_it/theorems/af229576c0b308afe4b60d4cc92f114056c5a3bf0/dependencies.ipynb\">dependencies</a>)<br>"
      ],
      "text/plain": [
       "<IPython.core.display.HTML object>"
      ]
     },
     "metadata": {},
     "output_type": "display_data"
    }
   ],
   "source": [
    "%proving in_IntervalCO"
   ]
  },
  {
   "cell_type": "code",
   "execution_count": null,
   "metadata": {},
   "outputs": [],
   "source": []
  }
 ],
 "metadata": {
  "kernelspec": {
   "display_name": "Python 3",
   "language": "python",
   "name": "python3"
  }
 },
 "nbformat": 4,
 "nbformat_minor": 0
}