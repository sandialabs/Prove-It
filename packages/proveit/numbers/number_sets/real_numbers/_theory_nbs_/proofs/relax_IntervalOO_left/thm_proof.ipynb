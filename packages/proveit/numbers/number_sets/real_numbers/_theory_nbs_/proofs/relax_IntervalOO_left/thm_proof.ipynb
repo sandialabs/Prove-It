{
 "cells": [
  {
   "cell_type": "markdown",
   "metadata": {},
   "source": [
    "Proof of <a class=\"ProveItLink\" href=\"../../../../../../_theory_nbs_/theory.ipynb\">proveit</a>.<a class=\"ProveItLink\" href=\"../../../../../_theory_nbs_/theory.ipynb\">numbers</a>.<a class=\"ProveItLink\" href=\"../../../../_theory_nbs_/theory.ipynb\">number_sets</a>.<a class=\"ProveItLink\" href=\"../../theory.ipynb\">real_numbers</a>.<a class=\"ProveItLink\" href=\"../../theorems.ipynb#relax_IntervalOO_left\">relax_IntervalOO_left</a> theorem\n",
    "========"
   ]
  },
  {
   "cell_type": "code",
   "execution_count": 1,
   "metadata": {},
   "outputs": [],
   "source": [
    "import proveit\n",
    "theory = proveit.Theory() # the theorem's theory"
   ]
  },
  {
   "cell_type": "code",
   "execution_count": 2,
   "metadata": {},
   "outputs": [
    {
     "data": {
      "text/html": [
       "With these <a href=\"allowed_presumptions.txt\">allowed</a>/<a href=\"disallowed_presumptions.txt\">disallowed</a> theorem/theory presumptions (e.g., to avoid circular dependencies), we begin our proof of<br><strong id=\"relax_IntervalOO_left\">relax_IntervalOO_left:</strong> <a class=\"ProveItLink\" href=\"../../../__pv_it/theorems/53ee1aa63d80931beecbefc14fb6e5ecae0499970/expr.ipynb\"><img src=\"data:image/png;base64,iVBORw0KGgoAAAANSUhEUgAAAP4AAAAZBAMAAADj+Y5YAAAAMFBMVEX///8AAAAAAAAAAAAAAAAA\n",
       "AAAAAAAAAAAAAAAAAAAAAAAAAAAAAAAAAAAAAAAAAAAv3aB7AAAAD3RSTlMAq1RmmUTNIjK7EInv\n",
       "3XZ/CtNrAAAACXBIWXMAAA7EAAAOxAGVKw4bAAAEAUlEQVRIx7WWX2gcRRzHv7d/7vZ2L5vDJ2u1\n",
       "nAj1QVoXTwvmoWyJ2oLaHq0INmCu+iAVLJuXQkHLCaKo0RyWohs1jtAHY7Q9W9JSpRJbpBYRgg/+\n",
       "qS5csFgw9AhCW+hD8Tczu3u7yZGNYhZ+szOzs/P5/Zs/QPZzR+BhVR47+HElw+pYtaf6f/N7eurK\n",
       "Lz1GeavBtyu9eqcXdzwdCvHL/HVXBj/HX4qTzb8HWXzzg1lS05FC/Id553MZfK1Gr3x2Fpr1TD7y\n",
       "LhXPh1LFy1QWmhl8g3vpQLb5mpPN7+chuj+UKvIMsCpZ8ee6Hs/ml9LJ8GHw01L+MOMDmZQqVFI5\n",
       "n5l/1ZWl4fpkQ9/Hetl/RgTBkULz/hAE32fyS0Hweyub/yjJ0blPvhL+3M8S/h/5+mDY2NO5hTxe\n",
       "lkL8bcB4Jl9roMiSfUoiGe249iyJa6/TZtNJPQ39PD6S/5vX2DEPKs2pSr+OoFCOBhp7w8qGk1v2\n",
       "Jfk0ZCSl0wNR5VXKXTdq0HaqeuqNnJPeNqbxmYPHQ8VvoNSGMgMhxC8yqxaPXMuVmPNrtoVTreT+\n",
       "M94N4ttrDsOMVc7RsKGo8S39DU2CDQps8GvI3wH8Fi6ROvpbMBYghPhKO5F+35E81CCX2hhoJ/kb\n",
       "Y3O0bbyIVS7R6Dzr8sHNE45uJuy/APOqrPe1MFyBTrbrM2Feb6ZiavMprvPNOSb2JeL/5Sb5eZVm\n",
       "tS8d3Io/xCw0/4l5ngNjndu661ccZ8OeKfSZ7fLNm1AX4uW/g0Ghj1w4/zgtbvNn4zrHXrTdSZFS\n",
       "VmHCSfKt9TTn5VzzGWnWfuBzb4zzr7BLUCJVJ4DJ2u2wRKOT4P+NXP1ucLX6G+Y5ypKmFM5/kWKp\n",
       "uQZ5A0VHre8SfO39Zur8KXxDhVNsN3Sh1lMUJozy2iFsgh6N/QK4943HsFNutJWu/yewwXXNazxf\n",
       "nCJpq7WkcH6OIliq2WURTK28yff9im1bO9Pn363CebRy9vr+O7iTx3pOZswWGBH/LeBIRxmUYHPN\n",
       "7pj/8fxr6xoIyAHm2kEev5qU6Pw95hUH6GM/SpU3hf22PsSWnr+j8AyxLF6HeR2HPqXaAs52/d/X\n",
       "SG2Apxftv0o85UuhRPySN7aLTaGPPSj3GVp/X7qL+YWZk7TUx8P8O29cHTBbuEhhtKOlorrLnj9W\n",
       "3DMYSsTXBzeewGjF2N5G4T1qP/ln68gjS+zfPtRhOMBtLHp44r55xziLVzqiFT7vLss/GnXwA1cc\n",
       "uun7j4zblO/Xlrn/mKf9w9DDzUkR5WT8cXJZfryjcIWF0im+zlZ+/9oqX7uTDW5Yu9cEZxbf/y6H\n",
       "kuar/+L+Z0ldxWJUa6t7/32h1/0/4Svzv9//z/0DryQEsngkZo8AAAAASUVORK5CYII=\n",
       "\" style=\"display:inline;vertical-align:middle;\" /></a><br>(see <a class=\"ProveItLink\" href=\"../../../__pv_it/theorems/d907c7fca085db9afa4a554e4593e04b7e7c7a9a0/dependencies.ipynb\">dependencies</a>)<br>"
      ],
      "text/plain": [
       "<IPython.core.display.HTML object>"
      ]
     },
     "metadata": {},
     "output_type": "display_data"
    }
   ],
   "source": [
    "%proving relax_IntervalOO_left"
   ]
  },
  {
   "cell_type": "code",
   "execution_count": null,
   "metadata": {},
   "outputs": [],
   "source": []
  }
 ],
 "metadata": {
  "kernelspec": {
   "display_name": "Python 3",
   "language": "python",
   "name": "python3"
  }
 },
 "nbformat": 4,
 "nbformat_minor": 0
}