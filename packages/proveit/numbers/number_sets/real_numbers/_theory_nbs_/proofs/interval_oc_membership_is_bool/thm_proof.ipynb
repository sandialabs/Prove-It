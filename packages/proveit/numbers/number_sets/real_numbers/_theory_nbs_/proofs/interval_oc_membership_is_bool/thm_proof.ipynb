{
 "cells": [
  {
   "cell_type": "markdown",
   "metadata": {},
   "source": [
    "Proof of <a class=\"ProveItLink\" href=\"../../../../../../_theory_nbs_/theory.ipynb\">proveit</a>.<a class=\"ProveItLink\" href=\"../../../../../_theory_nbs_/theory.ipynb\">numbers</a>.<a class=\"ProveItLink\" href=\"../../../../_theory_nbs_/theory.ipynb\">number_sets</a>.<a class=\"ProveItLink\" href=\"../../theory.ipynb\">real_numbers</a>.<a class=\"ProveItLink\" href=\"../../theorems.ipynb#interval_oc_membership_is_bool\">interval_oc_membership_is_bool</a> theorem\n",
    "========"
   ]
  },
  {
   "cell_type": "code",
   "execution_count": 1,
   "metadata": {},
   "outputs": [],
   "source": [
    "import proveit\n",
    "theory = proveit.Theory() # the theorem's theory"
   ]
  },
  {
   "cell_type": "code",
   "execution_count": 2,
   "metadata": {},
   "outputs": [
    {
     "data": {
      "text/html": [
       "With these <a href=\"allowed_presumptions.txt\">allowed</a>/<a href=\"disallowed_presumptions.txt\">disallowed</a> theorem/theory presumptions (e.g., to avoid circular dependencies), we begin our proof of<br><strong id=\"interval_oc_membership_is_bool\">interval_oc_membership_is_bool:</strong> <a class=\"ProveItLink\" href=\"../../../__pv_it/theorems/8ff4af9e9b4f6aa8a4551a815396319c44f4db420/expr.ipynb\"><img src=\"data:image/png;base64,iVBORw0KGgoAAAANSUhEUgAAAQQAAAAWBAMAAADUT/8dAAAAMFBMVEX///8AAAAAAAAAAAAAAAAA\n",
       "AAAAAAAAAAAAAAAAAAAAAAAAAAAAAAAAAAAAAAAAAAAv3aB7AAAAD3RSTlMAq1RmmUTNIjK7EInv\n",
       "3XZ/CtNrAAAACXBIWXMAAA7EAAAOxAGVKw4bAAAD0ElEQVRIx8VWW2gTQRS9STbZZJNuiyAiigQE\n",
       "/dBqEBFUkJX6wmew4IevRvwQRTT+CIJI/BJ8YP5qfNQVRCyVmqqxqFgEEa0iRMG3ga1VP5QWEVQQ\n",
       "FOfemU12djfNpxdu2Tk9e/fkPmYGoKGNvPYBs8K9prrWeiWn1oms1ovutpIPpie5+9gHNxBPhy33\n",
       "rxrcu/tZGggvQQtCU8eW4OXMEO61YNGx0M6WUQIMu1n5requ8UB4CZYismNsCR6OluHuY5ekVcQg\n",
       "CRHTLaEd+mNAeAkOY03yY0vwcJQUdx9rk1bNSZIQMrwS5gSA8BIJiSfHluDhJIQ7muNc5SU93JPg\n",
       "DpMkwGMXCyVEgPAShNiPiTRoRw9nmvCqhfeIVAfl8twFLmG7zEIJExYC4azbn1YqTxpNhJuzSnjv\n",
       "0OU7lJ39dmwFu3HfwCGx3DY6jiT0gcRi7dj7DJl9FH4FwOlGEtyc7cINfYpSlno1whIWfgjn+ce0\n",
       "n+bVLEqYB3JH57fs/rMSCGfh94HaYv8nulM8tN5cvMchwclBe849lA39DlBXVtPfxJJyJQVrRFl+\n",
       "Q8JCCTNBYmEhhjeYhLPwMRM5wiahjqFCWo9Df7EmQeIwe8A9CgqPGmWVqryhRmW8dQDvRFky0FzE\n",
       "V0/KLJQQCxcJZ+GDlqPTHjFfkmOtq8MCqyZB4tQksC9ykladWJQwCNoPkZMidCRRwmaZRRIgTzhu\n",
       "vplF7E/Pon7U+XfI1DGzTMIXw7FBE2d0+cesVAg2dFmNql52FEL7C6Fv1W1hHSWwFSQWl5AhHMNf\n",
       "28UEvor+wi+/1Y1uGuC42pVySECOnp0YEZtDF/fu9GSIEzBqx45ZoH2HQGY6oLTmnHafJmK+zCIJ\n",
       "QYtwDH+QdZpiRHFPiaVCmXaSoJzJO48p5ISgKyqgPu6zj66G9XwQ7I0r3oLiWg1D+8lWgVTMIAmr\n",
       "ZBbkN8HADT7ZGD6QwxLq2PKJnNIyr1AoJHU9vt4pATkAv2zoBPeLo8E2HlWbuFHMFEv2ha9HpuSg\n",
       "wtKgTWrjW9MLmfV58DyelITbB/HVbGwBe6UZEsljlAU9vMl0H9bRe/bB35Tj7tgeb4mtt3r8B83q\n",
       "YQ1q2cWyLwzlWvhE9mS72QNN5nw2gNQLcNtwSTgYzyjiEY8Xz9HDbW71mlC7L9Q70gi3w4fbZl2H\n",
       "48noWgvUU2y94XPx4jKXBOXTwBf73U7hXovZd6leh4QDdTbeA54bEa9rT6GQbnRr6hbuterwWw4J\n",
       "nXUkdLrDh01f3l2f251qcfexQ+473vu07n/LBMRHHjiREPwX+wdURxpWAv/3vgAAAABJRU5ErkJg\n",
       "gg==\n",
       "\" style=\"display:inline;vertical-align:middle;\" /></a><br>(see <a class=\"ProveItLink\" href=\"../../../__pv_it/theorems/e9e225a825e2648cac4ec8aad974af5731ecda680/dependencies.ipynb\">dependencies</a>)<br>"
      ],
      "text/plain": [
       "<IPython.core.display.HTML object>"
      ]
     },
     "metadata": {},
     "output_type": "display_data"
    },
    {
     "name": "stdout",
     "output_type": "stream",
     "text": [
      "interval_oc_membership_is_bool may now be readily provable (assuming required theorems are usable).  Simply execute \"%qed\".\n"
     ]
    }
   ],
   "source": [
    "%proving interval_oc_membership_is_bool"
   ]
  },
  {
   "cell_type": "code",
   "execution_count": null,
   "metadata": {},
   "outputs": [],
   "source": []
  }
 ],
 "metadata": {
  "kernelspec": {
   "display_name": "Python 3",
   "language": "python",
   "name": "python3"
  }
 },
 "nbformat": 4,
 "nbformat_minor": 0
}