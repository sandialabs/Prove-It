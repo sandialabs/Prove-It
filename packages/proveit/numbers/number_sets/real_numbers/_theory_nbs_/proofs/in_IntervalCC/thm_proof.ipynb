{
 "cells": [
  {
   "cell_type": "markdown",
   "metadata": {},
   "source": [
    "Proof of <a class=\"ProveItLink\" href=\"../../../../../../_theory_nbs_/theory.ipynb\">proveit</a>.<a class=\"ProveItLink\" href=\"../../../../../_theory_nbs_/theory.ipynb\">numbers</a>.<a class=\"ProveItLink\" href=\"../../../../_theory_nbs_/theory.ipynb\">number_sets</a>.<a class=\"ProveItLink\" href=\"../../theory.ipynb\">real_numbers</a>.<a class=\"ProveItLink\" href=\"../../theorems.ipynb#in_IntervalCC\">in_IntervalCC</a> theorem\n",
    "========"
   ]
  },
  {
   "cell_type": "code",
   "execution_count": 1,
   "metadata": {},
   "outputs": [],
   "source": [
    "import proveit\n",
    "theory = proveit.Theory() # the theorem's theory"
   ]
  },
  {
   "cell_type": "code",
   "execution_count": 2,
   "metadata": {},
   "outputs": [
    {
     "data": {
      "text/html": [
       "With these <a href=\"allowed_presumptions.txt\">allowed</a>/<a href=\"disallowed_presumptions.txt\">disallowed</a> theorem/theory presumptions (e.g., to avoid circular dependencies), we begin our proof of<br><strong id=\"in_IntervalCC\">in_IntervalCC:</strong> <a class=\"ProveItLink\" href=\"../../../__pv_it/theorems/6c6e6f7368dbf560172e3a6a241ed9b5f72380390/expr.ipynb\"><img src=\"data:image/png;base64,iVBORw0KGgoAAAANSUhEUgAAAPMAAAAXBAMAAAAsDWSYAAAAMFBMVEX///8AAAAAAAAAAAAAAAAA\n",
       "AAAAAAAAAAAAAAAAAAAAAAAAAAAAAAAAAAAAAAAAAAAv3aB7AAAAD3RSTlMAq1RmmUTNIjK7EInv\n",
       "3XZ/CtNrAAAACXBIWXMAAA7EAAAOxAGVKw4bAAADRUlEQVRIx7WWTWgTQRTHX5NNsrtJtvUDQQsS\n",
       "0EsFJUhR2kMbqVYv1mLBS8VGL2IPsr1XiUdpwVwKxmpZoQiaQ0JFK0Il4KUgSg+CUgxsRa0tWHqy\n",
       "0oP43pttdjaNTQ/bd5i8Gd6b386b/8wEwFeL1Br89dnbN8oZMMFv+1pr8EX1QLQXruBPE/mHfCIH\n",
       "ivXQ+sM5RhtJgDM0cN0n9BOou+pwitEwCHCHdijrE7qrProxIdCt+BUWugmf0CVPb6lcTm9CD1gC\n",
       "HbMgiEUP+7XVabl3abnWqmeEzCCM3Pfl8juf0AqqTF85MDLF52xQKnikedEWnasruxkdRX2fA3hQ\n",
       "f9bUdtC0EgUW7PPcMSX0ZVNbFwr/bRVMQgexQkMQadoIUm945zr68tRN4XmF2GJKrpsUR82chE5r\n",
       "D6MlmelvQZkTe7IOMZvQAdSFZpHnWLM7vbqQ6zWiMF3cjG6xPW4lKYYTZaBbdEbLaFmBVlYhLuZR\n",
       "0tBYJKC6inhbUtms657O4JVnQLu9Cd2W9LqzMhrgg+g8lVYdy0JBrA+/YCBB6BCdhnQHNvmOaVrp\n",
       "3wXUPqyc/WbSdUPo5ZSE5qglPooUI1wnySk4hNbgGXckdMGGzsqxvsBlDtAGTKEU9U/qGqHmDSQZ\n",
       "5v5wgj/aiEYmki6ao0aZzDGOy0lkmg36WEMJuLaGLaETsC9g6oTO4L6zzGjGYVSZklKpAFqShBeE\n",
       "CRX6OF0Zz0oy46jAOK2RY4QrkvhZaILAn8lSSNxQ11y0Zgc+KlDAsIaklmI0HURoyNAuGSTzWEZh\n",
       "tWMFTuRyuYRhRC9KaBEVYiDFCHcjCUs/B3qPffi46D0esyoKP/hq6CfE57FwzV3iSolvaLtgau0Y\n",
       "2Agx3r1SBEZ41Uao33LRTpS61xQxwnWSyLwPc/+jqov0iPtowq2KNs17fVYe4lYb5GE4mlbwzPFe\n",
       "w2tJZhxFF9Uui2OES0mOtW79fBQldOWlCXUde44CUntsbJXvb5Yhcp+u4R/FyW4XzVHizwjHCJeS\n",
       "HNPMrdC67aKrH8uE1EI+l3OvGtjes6pnt0Ib0r+Uqo8MWW5bbdt80W/XGpyp/m/2pRcWvUNBqf0/\n",
       "+i5KP2dWuztoOwD4BxAp7mE6VriYAAAAAElFTkSuQmCC\n",
       "\" style=\"display:inline;vertical-align:middle;\" /></a><br>(see <a class=\"ProveItLink\" href=\"../../../__pv_it/theorems/e5a5bbb669ae70d135b833069ecc41b146ad331c0/dependencies.ipynb\">dependencies</a>)<br>"
      ],
      "text/plain": [
       "<IPython.core.display.HTML object>"
      ]
     },
     "metadata": {},
     "output_type": "display_data"
    }
   ],
   "source": [
    "%proving in_IntervalCC"
   ]
  },
  {
   "cell_type": "code",
   "execution_count": null,
   "metadata": {},
   "outputs": [],
   "source": []
  }
 ],
 "metadata": {
  "kernelspec": {
   "display_name": "Python 3",
   "language": "python",
   "name": "python3"
  }
 },
 "nbformat": 4,
 "nbformat_minor": 0
}