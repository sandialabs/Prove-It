{
 "cells": [
  {
   "cell_type": "markdown",
   "metadata": {},
   "source": [
    "Proof of <a class=\"ProveItLink\" href=\"../../../../../../_theory_nbs_/theory.ipynb\">proveit</a>.<a class=\"ProveItLink\" href=\"../../../../../_theory_nbs_/theory.ipynb\">numbers</a>.<a class=\"ProveItLink\" href=\"../../../../_theory_nbs_/theory.ipynb\">number_sets</a>.<a class=\"ProveItLink\" href=\"../../theory.ipynb\">real_numbers</a>.<a class=\"ProveItLink\" href=\"../../theorems.ipynb#interval_oc_within_Real\">interval_oc_within_Real</a> theorem\n",
    "========"
   ]
  },
  {
   "cell_type": "code",
   "execution_count": 1,
   "metadata": {},
   "outputs": [],
   "source": [
    "import proveit\n",
    "theory = proveit.Theory() # the theorem's theory"
   ]
  },
  {
   "cell_type": "code",
   "execution_count": 2,
   "metadata": {},
   "outputs": [
    {
     "data": {
      "text/html": [
       "With these <a href=\"allowed_presumptions.txt\">allowed</a>/<a href=\"disallowed_presumptions.txt\">disallowed</a> theorem/theory presumptions (e.g., to avoid circular dependencies), we begin our proof of<br><strong id=\"interval_oc_within_Real\">interval_oc_within_Real:</strong> <a class=\"ProveItLink\" href=\"../../../__pv_it/theorems/97429306314930b2beb8a8b6758c31d2c78ae6570/expr.ipynb\"><img src=\"data:image/png;base64,iVBORw0KGgoAAAANSUhEUgAAAKUAAAAWBAMAAABTW0EyAAAAMFBMVEX///8AAAAAAAAAAAAAAAAA\n",
       "AAAAAAAAAAAAAAAAAAAAAAAAAAAAAAAAAAAAAAAAAAAv3aB7AAAAD3RSTlMAq1RmmUTNIjK7EInv\n",
       "3XZ/CtNrAAAACXBIWXMAAA7EAAAOxAGVKw4bAAACuklEQVQ4y62VT2jTUBzHf13SNkmTtAh6KUhA\n",
       "2EFRCspgO8xIVQaCVgdeJq4iIg6mKXgRJ3QXQVTsRWb8MwOKUHtIVXAiCIIIDhGGCMowkF3c3EF2\n",
       "Uhgo/l7ey7+5Zjv4g2/7/vXz3vv9eQVYhxlMEVOdeue16zBVo4pZrhLv90zfH50uARzHdoEMbElk\n",
       "bmPyTbo78y8TGjU43GuBitx9pH86CSlVqULL6KsxL4Io4AlHAMaxm20kMfkSVWh5bXUmb+DWu3BP\n",
       "C+e1JKbMFNqwFTK/O47zJWDi4WQLODxBJtGd3UyhvQpjdHkqcs7UY7x7BoEfHOd9IvMAU7Y479KR\n",
       "Ez82MKb0OXr3K92YSTnkDgDcTmSeZDpmiMs0aD8t26DMVOjVxtjo70X85tCnNcgW/HHhDGtsf77n\n",
       "rD/4kUp6A/yMN9C1DLJLmZlojHY+8mZfA4hWJIRFAp4zK2oOptps7C0VvwQKHeKrkG/TH41HmeID\n",
       "kh3CEnLdyGbvUHux6lQV+tw4U26ATTdH9LBGmbUoU9CJE9N4Tqj240ernwRQ+DNnkUIgzEU9fnfb\n",
       "hd1Beh5il1Ni+TlwgdydOOjpCImf8IugZlW96ZV4Ljvpp/kkla3Bpi5DIsw6+pYyI7WAzCY5D0cK\n",
       "aAxDxOsCObJY4qqDHpO/E9TWEyrR7frEg41RTZVE3c/PUyHzPOb6TUQRp6fQf3JFJcGX63yhxzRN\n",
       "TVVzR/zF16mkzS9qC6DMYqtYDnK+udEK3qUJMM9poPgRtw2xDyfzIGtXvXOq6SG2GJQ6FbWtK966\n",
       "oXusNn27FNS0cWPQaoFi9WJuef6El36MOJ2KWrvD+xlY2W+kyzuewTVNOOhC9hb2j35rP9zvT04w\n",
       "eTXkrsFc+cbR56llmvH1TSbPKbAGU4z/eaStDlu7VLH/k68dmPPxLgf/x/4ChP6xvkSWXK0AAAAA\n",
       "SUVORK5CYII=\n",
       "\" style=\"display:inline;vertical-align:middle;\" /></a><br>(see <a class=\"ProveItLink\" href=\"../../../__pv_it/theorems/c1d01f8def18b6f32baefdc4a734a7c4b5ed6dfa0/dependencies.ipynb\">dependencies</a>)<br>"
      ],
      "text/plain": [
       "<IPython.core.display.HTML object>"
      ]
     },
     "metadata": {},
     "output_type": "display_data"
    }
   ],
   "source": [
    "%proving interval_oc_within_Real"
   ]
  },
  {
   "cell_type": "code",
   "execution_count": null,
   "metadata": {},
   "outputs": [],
   "source": []
  }
 ],
 "metadata": {
  "kernelspec": {
   "display_name": "Python 3",
   "language": "python",
   "name": "python3"
  }
 },
 "nbformat": 4,
 "nbformat_minor": 0
}