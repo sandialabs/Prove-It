{
 "cells": [
  {
   "cell_type": "markdown",
   "metadata": {},
   "source": [
    "Proof of <a class=\"ProveItLink\" href=\"../../../../../../_theory_nbs_/theory.ipynb\">proveit</a>.<a class=\"ProveItLink\" href=\"../../../../../_theory_nbs_/theory.ipynb\">numbers</a>.<a class=\"ProveItLink\" href=\"../../../../_theory_nbs_/theory.ipynb\">number_sets</a>.<a class=\"ProveItLink\" href=\"../../theory.ipynb\">real_numbers</a>.<a class=\"ProveItLink\" href=\"../../theorems.ipynb#interval_co_upper_bound\">interval_co_upper_bound</a> theorem\n",
    "========"
   ]
  },
  {
   "cell_type": "code",
   "execution_count": 1,
   "metadata": {},
   "outputs": [],
   "source": [
    "import proveit\n",
    "theory = proveit.Theory() # the theorem's theory"
   ]
  },
  {
   "cell_type": "code",
   "execution_count": 2,
   "metadata": {},
   "outputs": [
    {
     "data": {
      "text/html": [
       "With these <a href=\"allowed_presumptions.txt\">allowed</a>/<a href=\"disallowed_presumptions.txt\">disallowed</a> theorem/theory presumptions (e.g., to avoid circular dependencies), we begin our proof of<br><strong id=\"interval_co_upper_bound\">interval_co_upper_bound:</strong> <a class=\"ProveItLink\" href=\"../../../__pv_it/theorems/f1186e2590ba8238c5d52579e22456e26a54d8150/expr.ipynb\"><img src=\"data:image/png;base64,iVBORw0KGgoAAAANSUhEUgAAANwAAAAZBAMAAACoUV21AAAAMFBMVEX///8AAAAAAAAAAAAAAAAA\n",
       "AAAAAAAAAAAAAAAAAAAAAAAAAAAAAAAAAAAAAAAAAAAv3aB7AAAAD3RSTlMAq1RmmUTNIjK7EInv\n",
       "3XZ/CtNrAAAACXBIWXMAAA7EAAAOxAGVKw4bAAADTUlEQVRIx62WT2jTUBjAvzVpmyZdWjwIOpWA\n",
       "4EXUojJwsJHR6cS/YRMPDlzFgygo8T5hgnhwkw120KiMHHawDl114GAyGRtDRYThRRAKLUyFjZVd\n",
       "dLCD+L0vTZO26xKhH+Ql730f+b33/XnvAXjL7qwO9RA5+9WPWQrqJUfqjNO31tQZJys1VZctXJy9\n",
       "9nrgfBiR7N90VHy2iDNJEO44G7jmgfNhRP+t4YeQis0Nwt3FNjzsgfNhxIRPbD4eYz4+SriQCSAp\n",
       "HjgfRkyiVSP7KEN6TaY0GY7DGYW8UsWHEf28cqD1FL1myKMJyswv2exnz8z0NmJyGp9X+efvbD+s\n",
       "TlvvK4Vt6J044U4CPPHEVRp9chWYXPq6io8q7+EXrcSZyRUz6I85oQOXItxtCMdte+F68ePA2/Zb\n",
       "bpzbiEmpcx8TSLU7uEdxOrfRQBkTPmsnTmADojkIzBIuYkpa6TdNjJk3NFmCqYwL5zJiagfXgFY9\n",
       "dmcBtcAXq2F7KbVwJJYBYY1wgZwrCT7i09GPDpKhJefCuYyY2sFFscfy1sYBW0gFrjEDvQoErdVB\n",
       "qg2b8bYpNvO/eZPKH3HLqnsTI6NC55JOasSJkyssfkOFnU6J0Ibfq4tmuTOx7M6bEFi0cG+w3sVv\n",
       "wjqjfJfVNIVfCo8m3DhmJOs7Qkq6GLuX+hDDrZpLELAnNgqQ1naBBOWpEusX5zGqwxauDz3DqwKu\n",
       "FSIJLtVNOP7pcNkWzYw4GBWgu4jrgEH2MQLNELRNXwMcenAGuuw9bXXZim8ighPiMxauAd0f1eQ4\n",
       "RYKPNxuGociy1FWGY0YA6AFSI24B8law20GwcQ8BxgqBpLP9tFLhiU1JFkHNOYAm9EgLejwGUWWA\n",
       "VicHe8yqA0iYDcOAtTpxHUZe4McazDnObOyvLNlmpz7vuM67qD7UbY5Do3kMc55iB9NqJa5PSvGW\n",
       "Glf3QfjdImbgO4ZEtnOYU7fYLJIuXDB5cBIGFeFcDsKPsX/xZ2bsRCWO//F+2VIj7sLhlYQwB/cK\n",
       "GPHSEh7VptGBUn6aW04fNwxti9Oc1MW6C1CbLunStXE0pzJc0PR9eSjiLlHb6SwhVxP3q+quwsH/\n",
       "4qg0Oa2+N7Gb1fdMwzUi+r9nzv8DC6TMxQj6yzMAAAAASUVORK5CYII=\n",
       "\" style=\"display:inline;vertical-align:middle;\" /></a><br>(see <a class=\"ProveItLink\" href=\"../../../__pv_it/theorems/c7d9fc38e94b05a13eecca9f4484c4aa351b3f6b0/dependencies.ipynb\">dependencies</a>)<br>"
      ],
      "text/plain": [
       "<IPython.core.display.HTML object>"
      ]
     },
     "metadata": {},
     "output_type": "display_data"
    }
   ],
   "source": [
    "%proving interval_co_upper_bound"
   ]
  },
  {
   "cell_type": "code",
   "execution_count": null,
   "metadata": {},
   "outputs": [],
   "source": []
  }
 ],
 "metadata": {
  "kernelspec": {
   "display_name": "Python 3",
   "language": "python",
   "name": "python3"
  }
 },
 "nbformat": 4,
 "nbformat_minor": 0
}