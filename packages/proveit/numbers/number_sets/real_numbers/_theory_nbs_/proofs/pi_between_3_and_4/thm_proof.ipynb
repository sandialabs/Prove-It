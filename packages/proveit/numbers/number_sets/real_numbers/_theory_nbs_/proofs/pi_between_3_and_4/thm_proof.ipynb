{
 "cells": [
  {
   "cell_type": "markdown",
   "metadata": {},
   "source": [
    "Proof of <a class=\"ProveItLink\" href=\"../../../../../../_theory_nbs_/theory.ipynb\">proveit</a>.<a class=\"ProveItLink\" href=\"../../../../../_theory_nbs_/theory.ipynb\">numbers</a>.<a class=\"ProveItLink\" href=\"../../../../_theory_nbs_/theory.ipynb\">number_sets</a>.<a class=\"ProveItLink\" href=\"../../theory.ipynb\">real_numbers</a>.<a class=\"ProveItLink\" href=\"../../theorems.ipynb#pi_between_3_and_4\">pi_between_3_and_4</a> theorem\n",
    "========"
   ]
  },
  {
   "cell_type": "code",
   "execution_count": 1,
   "metadata": {},
   "outputs": [],
   "source": [
    "import proveit\n",
    "theory = proveit.Theory() # the theorem's theory"
   ]
  },
  {
   "cell_type": "code",
   "execution_count": 2,
   "metadata": {},
   "outputs": [
    {
     "data": {
      "text/html": [
       "With these <a href=\"allowed_presumptions.txt\">allowed</a>/<a href=\"disallowed_presumptions.txt\">disallowed</a> theorem/theory presumptions (e.g., to avoid circular dependencies), we begin our proof of<br><strong id=\"pi_between_3_and_4\">pi_between_3_and_4:</strong> <a class=\"ProveItLink\" href=\"../../../__pv_it/theorems/38e38a376042a4f2e1c192d531f5c1dd63254a510/expr.ipynb\"><img src=\"data:image/png;base64,iVBORw0KGgoAAAANSUhEUgAAAFkAAAAQBAMAAACPcs44AAAAMFBMVEX///8AAAAAAAAAAAAAAAAA\n",
       "AAAAAAAAAAAAAAAAAAAAAAAAAAAAAAAAAAAAAAAAAAAv3aB7AAAAD3RSTlMAIomZu0QQVHbN72bd\n",
       "Mqv0UZE7AAAACXBIWXMAAA7EAAAOxAGVKw4bAAABAUlEQVQoz2NgEFJ2ZSAK8BowMLAZMNQXEKWa\n",
       "5wEDA8d3hvwJRKnuAapmXcrAj1DNPhFTFVSMd+cDMF2/ASbBfTgBQzFMjIkTrJr1NEyC4xBEQuv/\n",
       "//+f0cQYGsGqefveQiWSTkBoJtWi270XUMUYGDdwQl0CCRNhmB3XGRo5oIrhYgxMDFDVXN9AJN90\n",
       "hFsd+CDWI4ltBKvmvcDA8h1NhvcBDwOaasYGsGr+b1DVSLYyb+BnQHMJ67t379cpMHA9gLoEyUf5\n",
       "CfwBaD4HORhoNvcGRHhnnIA4t4eBX4EBTQzoCgcgEWyMSFXckMB1Z+BTQBdjYPb/14AecVhiHpsY\n",
       "UQAAqmBKvCLlKIkAAAAASUVORK5CYII=\n",
       "\" style=\"display:inline;vertical-align:middle;\" /></a><br>(see <a class=\"ProveItLink\" href=\"../../../__pv_it/theorems/6768be00a71557f63229ade107769e23422f09e80/dependencies.ipynb\">dependencies</a>)<br>"
      ],
      "text/plain": [
       "<IPython.core.display.HTML object>"
      ]
     },
     "metadata": {},
     "output_type": "display_data"
    }
   ],
   "source": [
    "%proving pi_between_3_and_4"
   ]
  },
  {
   "cell_type": "code",
   "execution_count": null,
   "metadata": {},
   "outputs": [],
   "source": []
  }
 ],
 "metadata": {
  "kernelspec": {
   "display_name": "Python 3",
   "language": "python",
   "name": "python3"
  }
 },
 "nbformat": 4,
 "nbformat_minor": 0
}