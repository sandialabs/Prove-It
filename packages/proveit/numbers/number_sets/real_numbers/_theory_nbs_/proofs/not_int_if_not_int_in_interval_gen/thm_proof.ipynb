{
 "cells": [
  {
   "cell_type": "markdown",
   "metadata": {},
   "source": [
    "Proof of <a class=\"ProveItLink\" href=\"../../../../../../_theory_nbs_/theory.ipynb\">proveit</a>.<a class=\"ProveItLink\" href=\"../../../../../_theory_nbs_/theory.ipynb\">numbers</a>.<a class=\"ProveItLink\" href=\"../../../../_theory_nbs_/theory.ipynb\">number_sets</a>.<a class=\"ProveItLink\" href=\"../../theory.ipynb\">real_numbers</a>.<a class=\"ProveItLink\" href=\"../../theorems.ipynb#not_int_if_not_int_in_interval_gen\">not_int_if_not_int_in_interval_gen</a> theorem\n",
    "========"
   ]
  },
  {
   "cell_type": "code",
   "execution_count": 1,
   "metadata": {},
   "outputs": [],
   "source": [
    "import proveit\n",
    "theory = proveit.Theory() # the theorem's theory"
   ]
  },
  {
   "cell_type": "code",
   "execution_count": 2,
   "metadata": {},
   "outputs": [
    {
     "data": {
      "text/html": [
       "With these <a href=\"allowed_presumptions.txt\">allowed</a>/<a href=\"disallowed_presumptions.txt\">disallowed</a> theorem/theory presumptions (e.g., to avoid circular dependencies), we begin our proof of<br><strong id=\"not_int_if_not_int_in_interval_gen\">not_int_if_not_int_in_interval_gen:</strong> <a class=\"ProveItLink\" href=\"../../../__pv_it/theorems/88273aa63d0f483637e9edf916b9a869e9f2d3930/expr.ipynb\"><img src=\"data:image/png;base64,iVBORw0KGgoAAAANSUhEUgAAAWoAAAAZCAMAAAAvx5QKAAAAS1BMVEX///8AAAAAAAAAAAAAAAAA\n",
       "AAAAAAAAAAAAAAAAAAAAAAAAAAAAAAAAAAAAAAAAAAAAAAAAAAAAAAAAAAAAAAAAAAAAAAAAAAAA\n",
       "AADXrLZzAAAAGHRSTlMAq1RmmUTNIjK7EInv3XbP4duh6fPj951y2Qx9AAAACXBIWXMAAA7EAAAO\n",
       "xAGVKw4bAAAEiklEQVRo3u1aia6jOBD0fdMzs8cs//+la+MbbOBtiBStnhVFEcbVdtGubjdB6ImG\n",
       "l2WR6LvNGnh+yDNQ4pvNq0bpN9U3m/xPvfKb6q9LwPn+Fyb/IsKtTuhl0c6Ty6GhGpfbCX2J6keA\n",
       "PrURe9qt6uJBYxUZ2fwPaKWa8cKXfInqR4A+tJmLbVvXjhhLDFvS+bunujwQqV8TkEeAPrSxi326\n",
       "NMlY8DOjwydSzKpWZ9oteY3qR4A+tLkzFdfLn38txe03EphCm4xsY02hOofGV0KbaGPs/y9GkvmS\n",
       "uABTaa3SrVjhhtYMxC2hOftyBvIA0IfqR1qSAcBG2WbbyrCVD0quTfikZnGlmqnU/SrV10BkFjBh\n",
       "t7aTo0D0IGrfkuYoywbTT44ZpgUYEKvSvGUAFA7pSnOJikq1xPlrb1fsAxx22jL/GVM9BSpW+dRG\n",
       "D3kSWGOXcqcJAz0TseOy2iF2MP90qKaeV7p6vaDjINVcbOwT1xxhgh9aPiptZC1QgLX2d4RChzVg\n",
       "JkeYMVAejAye2+D2BtUe6cdPPlVPVm6D5bRiYwfIecgI2cU1hf3Eum4VNPPv3/5Ld6edSEKkSa0N\n",
       "1QQmscypnCumH/52RSSdnRaHQGVwm30ebXSuMaY6IGEzD1R1FDml2qmRtl1Tvf3sxGLL6HYZl7+W\n",
       "0t0t70O89WpPT9YWYynYLKhqDWGgOfFE12Hzg3kFAmDSf7rBy4mNfsIt1R1S3hiZkA7rJtXF5G2q\n",
       "a1WOr96YMd2SdrZ8OhI5NmsLnKi2JPmU8Qqh1jx1WAwCVpLxpFdEzakuQCAR1kiQdrAUcxt+RmxM\n",
       "dY8EvIs1PdZNqovJIdV8MFRDdFfug1VYZesHiPdQPstLV3DiWLdUS4frqbJGHE23NfHGqQ0ge1Ju\n",
       "KkB0m59/KM1gruc2Su+B6h5J58imRlj3qC4mh1QjcQxFMVSSVRnmjfF2/wmyS6p9vNrcTWqi20wx\n",
       "nzry7UGUALeaxrCflt4a2R6oNd0O2p1aGrvR2ZrBBM9teMb0VKsr0o9fG5LCSQAKFgs2XPiil1Qn\n",
       "k0rnJrshRMBBcrY+w7wPE0Y7aTb4N2/Z4E6LMA+3+mQtagwfFVFNWJSmmcmgNY74XLMCERVGWHNd\n",
       "RA3OJlE7OJI5tjEXkA6pSGx8Vjusm15dTA69Wo7SyEXNE9h/rPYZyDS7lAsaUY1ckD5OjQ83wYCJ\n",
       "QtOcfLaYeJSzvSE/Xyti9qXNLiyObQTVG1HdIdVsMQWvgnVG9WbH1EdeTN4Oi6VmdFqpPq9U7anm\n",
       "fntAOIep8NgVi+uXOud6GGOwWuArqhEDbgFMO9hTIec2UufRq1ukP9SO6oLVjZJWrBaaXSHTVw5c\n",
       "cJCIOmRc79DT1ywXZczSf/IWhnR+ESSNXx3MJ0e3MpjbuY0uzZnk1eZnmcZFXv14acnMsK/KmOUZ\n",
       "zanmXyqJ3CzmMTm10XeNF9a83RmlZGeVk5ereBImJ89zNCjLmlP9tWLO3bppH0/ptDoypro9dwh4\n",
       "TxFPiTdV2x97jXv3fyDm3nV5fZN6CyVSvYVnWBZH/wU5EialXn4IxQAAAABJRU5ErkJggg==\n",
       "\" style=\"display:inline;vertical-align:middle;\" /></a><br>(see <a class=\"ProveItLink\" href=\"../../../__pv_it/theorems/a78f835dc8278ea7d80d02960de9d06b89efc4860/dependencies.ipynb\">dependencies</a>)<br>"
      ],
      "text/plain": [
       "<IPython.core.display.HTML object>"
      ]
     },
     "metadata": {},
     "output_type": "display_data"
    }
   ],
   "source": [
    "%proving not_int_if_not_int_in_interval_gen"
   ]
  },
  {
   "cell_type": "code",
   "execution_count": null,
   "metadata": {},
   "outputs": [],
   "source": []
  }
 ],
 "metadata": {
  "kernelspec": {
   "display_name": "Python 3",
   "language": "python",
   "name": "python3"
  }
 },
 "nbformat": 4,
 "nbformat_minor": 0
}