{
 "cells": [
  {
   "cell_type": "markdown",
   "metadata": {},
   "source": [
    "Proof of <a class=\"ProveItLink\" href=\"../../../../../../_theory_nbs_/theory.ipynb\">proveit</a>.<a class=\"ProveItLink\" href=\"../../../../../_theory_nbs_/theory.ipynb\">numbers</a>.<a class=\"ProveItLink\" href=\"../../../../_theory_nbs_/theory.ipynb\">number_sets</a>.<a class=\"ProveItLink\" href=\"../../theory.ipynb\">real_numbers</a>.<a class=\"ProveItLink\" href=\"../../theorems.ipynb#interval_oo_lower_bound\">interval_oo_lower_bound</a> theorem\n",
    "========"
   ]
  },
  {
   "cell_type": "code",
   "execution_count": 1,
   "metadata": {},
   "outputs": [],
   "source": [
    "import proveit\n",
    "theory = proveit.Theory() # the theorem's theory"
   ]
  },
  {
   "cell_type": "code",
   "execution_count": 2,
   "metadata": {},
   "outputs": [
    {
     "data": {
      "text/html": [
       "With these <a href=\"allowed_presumptions.txt\">allowed</a>/<a href=\"disallowed_presumptions.txt\">disallowed</a> theorem/theory presumptions (e.g., to avoid circular dependencies), we begin our proof of<br><strong id=\"interval_oo_lower_bound\">interval_oo_lower_bound:</strong> <a class=\"ProveItLink\" href=\"../../../__pv_it/theorems/13d9e58ac5a27653c5ea29311c594267ee929a550/expr.ipynb\"><img src=\"data:image/png;base64,iVBORw0KGgoAAAANSUhEUgAAAOAAAAAZBAMAAADanj8DAAAAMFBMVEX///8AAAAAAAAAAAAAAAAA\n",
       "AAAAAAAAAAAAAAAAAAAAAAAAAAAAAAAAAAAAAAAAAAAv3aB7AAAAD3RSTlMAq1RmmUTNIjK7EInv\n",
       "3XZ/CtNrAAAACXBIWXMAAA7EAAAOxAGVKw4bAAADUUlEQVRIx62WX0hTYRTAz+7utru77TYIgpRi\n",
       "UNRDFBcLIx90omkQycjoISOGPURBcYUeDQyiFw0HErYCuYEvJuVSyPAhhhIFUUgJgTG5A8tQGr6E\n",
       "0UN0vvN5t28zdxfswO79zj3n2+/7zjnfHwBn2ZMxoDqiZT5W4haH6snRagMNB1O1gVpke9slDgyz\n",
       "1z4HYAVOXA6VG4xOwJOsfcUBWIETiVo2GNcIeBufvoQDsAInElkvZz1GQK8JEIg4ACtwIgmWfpDE\n",
       "sARNBnTjoLxORVOBE8mBEt29YAqaV6cqfZ/JvHOsUmcnktMs9LUrll0mXzhPzdX0T2KMwgQ8BfDQ\n",
       "EbjF6aBYfvnWZfxdNPy/uTa+ZKcWstYZnG+cgD3gC9sdlKubjcMvmm+IQNGJYhWzW3exlqK2ghuX\n",
       "OgfyPCk3P9mfj0OTuRMTmiag3wzke0Mto2aTMS0A0ykBKDgxMzzO93ChW5etvMbZrEOIerq68z59\n",
       "0EY91wkoWUI5vMVfax9GSYMGSwAKTszMFyYvPVS9ZgEYTMBErAQI8IE9PHyGEG9k8W6cZmP4kzVp\n",
       "Q0DgalTc2sgp175skBkwaOrUGtsdB3M1hRWDIZ2woAlKQgqeDXiCo57nwEncAdTPygbjLGrRMaqD\n",
       "gG9EF4HMSTN2eyNk9uGnp8YgA/4wl0GyxzaCwAjskoyiolHvu9KAYXYnOLAXy0GOKjhf8OvueCcB\n",
       "5UeJos2bOblhRAEye9DYCgOsOQT1pJI8x7+wpAV5U322RLGWfo2mPRgEOcWBLsxCMKaFKSFyuD6Z\n",
       "TEY0LXC2CMicADAKZJbCLF9ZnvVmUGzgPZzO3pc93/PFTAtR7bD21+E7FCscTxOGvwFtOyAY6acZ\n",
       "ap4uc8vxpKR9QGYkqBswhHmBdZgthDTUV7rViFvbLeE8DBqDneY4hMwTuAIohzATLQX2BuIyN7Oi\n",
       "eaP8bFBTsIiZ0eyCdkfLbSAtAtDTcmQKBiJKhwW+B6if/5YabSsFyl9frXIzDAOcq1vTlVm4k8O8\n",
       "5c/54TI8Om6KT3xe3ePJZKzMiU9me6lL9BzLG8fKAGlYRUCPWfEVQ96c0wV6thdmYW0PXNlyp3H/\n",
       "x51mhr/04o21Sre26/+4l6rbtJ3upXN/ASvE1XE9k5qBAAAAAElFTkSuQmCC\n",
       "\" style=\"display:inline;vertical-align:middle;\" /></a><br>(see <a class=\"ProveItLink\" href=\"../../../__pv_it/theorems/db627688e89997b259763741136c8303b479e1a40/dependencies.ipynb\">dependencies</a>)<br>"
      ],
      "text/plain": [
       "<IPython.core.display.HTML object>"
      ]
     },
     "metadata": {},
     "output_type": "display_data"
    }
   ],
   "source": [
    "%proving interval_oo_lower_bound"
   ]
  },
  {
   "cell_type": "code",
   "execution_count": null,
   "metadata": {},
   "outputs": [],
   "source": []
  }
 ],
 "metadata": {
  "kernelspec": {
   "display_name": "Python 3",
   "language": "python",
   "name": "python3"
  }
 },
 "nbformat": 4,
 "nbformat_minor": 0
}