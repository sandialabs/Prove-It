{
 "cells": [
  {
   "cell_type": "markdown",
   "metadata": {},
   "source": [
    "Proof of <a class=\"ProveItLink\" href=\"../../../../../../_theory_nbs_/theory.ipynb\">proveit</a>.<a class=\"ProveItLink\" href=\"../../../../../_theory_nbs_/theory.ipynb\">numbers</a>.<a class=\"ProveItLink\" href=\"../../../../_theory_nbs_/theory.ipynb\">number_sets</a>.<a class=\"ProveItLink\" href=\"../../theory.ipynb\">real_numbers</a>.<a class=\"ProveItLink\" href=\"../../theorems.ipynb#nonpos_real_is_real_nonpos\">nonpos_real_is_real_nonpos</a> theorem\n",
    "========"
   ]
  },
  {
   "cell_type": "code",
   "execution_count": 1,
   "metadata": {},
   "outputs": [],
   "source": [
    "import proveit\n",
    "theory = proveit.Theory() # the theorem's theory"
   ]
  },
  {
   "cell_type": "code",
   "execution_count": 2,
   "metadata": {},
   "outputs": [
    {
     "data": {
      "text/html": [
       "With these <a href=\"allowed_presumptions.txt\">allowed</a>/<a href=\"disallowed_presumptions.txt\">disallowed</a> theorem/theory presumptions (e.g., to avoid circular dependencies), we begin our proof of<br><strong id=\"nonpos_real_is_real_nonpos\">nonpos_real_is_real_nonpos:</strong> <a class=\"ProveItLink\" href=\"../../../__pv_it/theorems/1ea54c41435196452784918ab4ee4b4636b2e30b0/expr.ipynb\"><img src=\"data:image/png;base64,iVBORw0KGgoAAAANSUhEUgAAAMEAAAAaBAMAAAD8lSVDAAAAMFBMVEX///8AAAAAAAAAAAAAAAAA\n",
       "AAAAAAAAAAAAAAAAAAAAAAAAAAAAAAAAAAAAAAAAAAAv3aB7AAAAD3RSTlMAq1RmmUTNIjK7EInv\n",
       "3XZ/CtNrAAAACXBIWXMAAA7EAAAOxAGVKw4bAAAC2klEQVRIx7WWS2gTURSGf9Ok80gyCQoFK0jA\n",
       "lQslWHQRpKZYrbqKVoRSwWoXQhGZ7oVaEFxYSGjQmohlCiJokQYDVrKQoPgAEVwU3BidIvhoVUTQ\n",
       "YlaeuZPM3EnjkAcemMl9zNzvnsf9J8B/Mc8M/I9ybS2x2x0wC/RiCN429hh3m+1I0+0FQqqQaplw\n",
       "221SmaabUEYgQo60aul6Oz+X+f2WJsTHRk8sIxhFUAPCRndbkwChWG9UEsK+TVlge8EkBHQotPwB\n",
       "Y+5skwRvrj4hh9QkNYYKLEqhCOQyYIw0nZBQ4l+EgU6jNTlgZhoYBTopUv5Ik4Skxve+lEojFkFi\n",
       "Q+Pd+I6j1DhM+YkSpdlEf+M7J1Y4H7rnzLZKJ+4I/X6l61Wp9LJZQpcR2i2fdJb1MS5K4nRNSk+R\n",
       "t4eAbN1suhAydJ1UpbLR7lRtwrP377SaeF6kkEEIc0M7HvSdN593EZrTgPwE3teMwGU6H6OEiBmy\n",
       "mcrYBNWEpPmrlSEuZxKKH4u5dYSq0FRsiVz8gSB7bqpElqpEKdtT4+0Cre3RrV30k0uKgpheS7CE\n",
       "xvYhkGJvA3f4ar0k1URpgpbEiCEe872LUKJghJW4TZDzqyovNBZhQcc+1g7yBO/lmqOVNDZ1n4pB\n",
       "fiOumbtR/MJs1CbcU5MqLzSmbSZCBF0e43VF5why6sP6WsIFSrQ3LhYxyAjeGyku0/2YcgiNaVTl\n",
       "ku5ZMsvtjE2Io0dyHve9xm0DhSqQII3aQzUQURT/MY7wFMsOobF2Jm99OP6ZdeaualVt/aNK1346\n",
       "CH1WylUppl1hPii+Yc0iyGtI33UIDbOAY6PDN03VqGej1UZATQ5qrA6oWgtcpp+Lv2IOoXHR1jom\n",
       "l6st3/6deQjXDZX5mLt10CYc37UadQiNeXCKDRI6ws7+fCZjuy+5vbmxQUJQdZmUWv5Oc+b6nbYJ\n",
       "DqGpqEhjiXD/tAlt/F+yKoJq5y8WdsB6M2K2DwAAAABJRU5ErkJggg==\n",
       "\" style=\"display:inline;vertical-align:middle;\" /></a><br>(see <a class=\"ProveItLink\" href=\"../../../__pv_it/theorems/13062fd38ade299c062e9413c58c333452d6151d0/dependencies.ipynb\">dependencies</a>)<br>"
      ],
      "text/plain": [
       "<IPython.core.display.HTML object>"
      ]
     },
     "metadata": {},
     "output_type": "display_data"
    },
    {
     "name": "stdout",
     "output_type": "stream",
     "text": [
      "nonpos_real_is_real_nonpos may now be readily provable (assuming required theorems are usable).  Simply execute \"%qed\".\n"
     ]
    }
   ],
   "source": [
    "%proving nonpos_real_is_real_nonpos"
   ]
  },
  {
   "cell_type": "code",
   "execution_count": null,
   "metadata": {},
   "outputs": [],
   "source": []
  }
 ],
 "metadata": {
  "kernelspec": {
   "display_name": "Python 3",
   "language": "python",
   "name": "python3"
  }
 },
 "nbformat": 4,
 "nbformat_minor": 0
}