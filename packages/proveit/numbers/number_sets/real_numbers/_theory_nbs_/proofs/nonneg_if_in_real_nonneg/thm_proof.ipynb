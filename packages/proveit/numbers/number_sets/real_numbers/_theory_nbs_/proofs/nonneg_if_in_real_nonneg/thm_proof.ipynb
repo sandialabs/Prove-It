{
 "cells": [
  {
   "cell_type": "markdown",
   "metadata": {},
   "source": [
    "Proof of <a class=\"ProveItLink\" href=\"../../../../../../_theory_nbs_/theory.ipynb\">proveit</a>.<a class=\"ProveItLink\" href=\"../../../../../_theory_nbs_/theory.ipynb\">numbers</a>.<a class=\"ProveItLink\" href=\"../../../../_theory_nbs_/theory.ipynb\">number_sets</a>.<a class=\"ProveItLink\" href=\"../../theory.ipynb\">real_numbers</a>.<a class=\"ProveItLink\" href=\"../../theorems.ipynb#nonneg_if_in_real_nonneg\">nonneg_if_in_real_nonneg</a> theorem\n",
    "========"
   ]
  },
  {
   "cell_type": "code",
   "execution_count": 1,
   "metadata": {},
   "outputs": [],
   "source": [
    "import proveit\n",
    "theory = proveit.Theory() # the theorem's theory"
   ]
  },
  {
   "cell_type": "code",
   "execution_count": 2,
   "metadata": {},
   "outputs": [
    {
     "data": {
      "text/html": [
       "With these <a href=\"allowed_presumptions.txt\">allowed</a>/<a href=\"disallowed_presumptions.txt\">disallowed</a> theorem/theory presumptions (e.g., to avoid circular dependencies), we begin our proof of<br><strong id=\"nonneg_if_in_real_nonneg\">nonneg_if_in_real_nonneg:</strong> <a class=\"ProveItLink\" href=\"../../../__pv_it/theorems/8a8ee12215b64bb91067eb674a5aa946111060970/expr.ipynb\"><img src=\"data:image/png;base64,iVBORw0KGgoAAAANSUhEUgAAAIkAAAAVBAMAAACArtDCAAAAMFBMVEX///8AAAAAAAAAAAAAAAAA\n",
       "AAAAAAAAAAAAAAAAAAAAAAAAAAAAAAAAAAAAAAAAAAAv3aB7AAAAD3RSTlMAq1RmmUTNIjK7EInv\n",
       "3XZ/CtNrAAAACXBIWXMAAA7EAAAOxAGVKw4bAAACNUlEQVQ4y41UTWjUUBD+uptssi/dR9GD2FOg\n",
       "0pt2kaIg1lbctmJRFgUvgt2b4EHivV3quQfrQTAtlByKoCIsRRQrSm6KouxF7GUhK6tCocWDUMGL\n",
       "M3Hz06zb7IPA995Mvsx88+UBvS2te8hCz+tr99B1egYYDKWRZGr/P3/VsiCLwCRvbqSxPIzjYghz\n",
       "pvgC3ATucNNLaSznYli89gI4BrwERonOAQwzjcXds9veaIN7wIiDfgdZqi+XKktl736sTfMLuGsi\n",
       "RxQfG40PaSwKiSt2BhfXg4Phab83ZinCoAmdB5bTWPhrCprexfDk6iDr+YdYPGSp0tvQBpJviRlS\n",
       "C9VjgaEKJNxJjDsHI5blgKWGDKmWd4xyjODo87O3KP7M4gkGcvRTxgKmoqzhQ/7HiGXWg/6TlPNC\n",
       "cfWmXZYGXrAKrbJw8T7GAnyK1L0QqjtiQuUJVs4EwdICICVOsR+0z1odm7GOoO7icWLSNqhNZOoE\n",
       "18l72JluWWxlZtmaoLJmHKrlbTs770Hc73NRS7juNLjNLJt2jsSV1uGc+YgD0tBWi1BZx0qoC80y\n",
       "83vNVc3EH1Awxbt/PkAf9ZHFqo4rPouysgRxgGF1KJiRXoe45B053jnLJr1ciKazC5ywbduU0rjc\n",
       "aZjN/dw0HyLd1bDo1yLVa45WKpUm44mjPf2qc0ZFIef4umBjoiMxH7vQnjZ4RdVFN4Ly7c0WtAds\n",
       "yu+1takOFrHP3ZFPXJlPbLvcJbXaneUH8BfesYbeWO3hTwAAAABJRU5ErkJggg==\n",
       "\" style=\"display:inline;vertical-align:middle;\" /></a><br>(see <a class=\"ProveItLink\" href=\"../../../__pv_it/theorems/3c05fc32a29bc75809d277ab6bce1e192758ea560/dependencies.ipynb\">dependencies</a>)<br>"
      ],
      "text/plain": [
       "<IPython.core.display.HTML object>"
      ]
     },
     "metadata": {},
     "output_type": "display_data"
    },
    {
     "name": "stdout",
     "output_type": "stream",
     "text": [
      "nonneg_if_in_real_nonneg may now be readily provable (assuming required theorems are usable).  Simply execute \"%qed\".\n"
     ]
    }
   ],
   "source": [
    "%proving nonneg_if_in_real_nonneg"
   ]
  },
  {
   "cell_type": "code",
   "execution_count": null,
   "metadata": {},
   "outputs": [],
   "source": []
  }
 ],
 "metadata": {
  "kernelspec": {
   "display_name": "Python 3",
   "language": "python",
   "name": "python3"
  }
 },
 "nbformat": 4,
 "nbformat_minor": 0
}