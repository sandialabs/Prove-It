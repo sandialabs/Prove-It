{
 "cells": [
  {
   "cell_type": "markdown",
   "metadata": {},
   "source": [
    "Proof of <a class=\"ProveItLink\" href=\"../../../../../../_theory_nbs_/theory.ipynb\">proveit</a>.<a class=\"ProveItLink\" href=\"../../../../../_theory_nbs_/theory.ipynb\">numbers</a>.<a class=\"ProveItLink\" href=\"../../../../_theory_nbs_/theory.ipynb\">number_sets</a>.<a class=\"ProveItLink\" href=\"../../theory.ipynb\">real_numbers</a>.<a class=\"ProveItLink\" href=\"../../theorems.ipynb#relax_IntervalOO_right\">relax_IntervalOO_right</a> theorem\n",
    "========"
   ]
  },
  {
   "cell_type": "code",
   "execution_count": 1,
   "metadata": {},
   "outputs": [],
   "source": [
    "import proveit\n",
    "theory = proveit.Theory() # the theorem's theory"
   ]
  },
  {
   "cell_type": "code",
   "execution_count": 2,
   "metadata": {},
   "outputs": [
    {
     "data": {
      "text/html": [
       "With these <a href=\"allowed_presumptions.txt\">allowed</a>/<a href=\"disallowed_presumptions.txt\">disallowed</a> theorem/theory presumptions (e.g., to avoid circular dependencies), we begin our proof of<br><strong id=\"relax_IntervalOO_right\">relax_IntervalOO_right:</strong> <a class=\"ProveItLink\" href=\"../../../__pv_it/theorems/2510a90fd43f210819e16567a483a2cb376e83d80/expr.ipynb\"><img src=\"data:image/png;base64,iVBORw0KGgoAAAANSUhEUgAAAP4AAAAZBAMAAADj+Y5YAAAAMFBMVEX///8AAAAAAAAAAAAAAAAA\n",
       "AAAAAAAAAAAAAAAAAAAAAAAAAAAAAAAAAAAAAAAAAAAv3aB7AAAAD3RSTlMAq1RmmUTNIjK7EInv\n",
       "3XZ/CtNrAAAACXBIWXMAAA7EAAAOxAGVKw4bAAAD/ElEQVRIx7WWX2gURxzHf7d/7nb39jaHD6JG\n",
       "5UohDy2mi1qheYgrURNosYsphZpi0vahWDBsXgKCyhWKoEZzKKKbtrIPPvQM9q6GatNSSA2lghRC\n",
       "KS0NLmxoaKTSIy8ayEPpb2Zu/yWHe5VkYXdnvjs7n9/M7ze/GYDka5trwbpcmvtLM80GYN2uXWvN\n",
       "t5qSNbfIpLXma4Xm5KwJRxk/T14vJvBT5MXpyfyXk2XlsxnK13TKP0C0DxP4gomvdHIUKgNNyGmD\n",
       "8uEjyv8Yn5lSAl8is3QiefiC3oTcUmD83ZSfdrBWSPI/sfV2Ml+Ne/1z97cGcr/D+KpD+Dzalk6M\n",
       "v13NhWFbtCIOOo1k+J7FH6R12u/Prvsgka+67sNqMv91vL+c++I7Op/DTlTOtC54rPZebQPlZ/OU\n",
       "3wMwlsgXiiA7UY2LBKMWlD7A29C2CzPxoCbyu5a8zILxqVOxCJ9n8zoEmbzfUDpWL+y4s28wyscm\n",
       "QzGbXvULZzB2Db+C6ZS3+OWUHk8bKCvTwKwCbhlUj/C5KcqXHVKpX63EiDnb1LJwtxrNP2PwtV+9\n",
       "uPkKKIHJKWzW51d+xL9BYGAJHev+4cvCIuRYh/i5pUqQ0iLlc14k/O7jvb+IU6pBhxfltwfDEXrI\n",
       "IzBZxdZpJ+Sjwn5UwkWNslqCCvsHzegvEL44VY/rTnyMd94lNv8759C8hPy/jSg/zWOv2vzpbviT\n",
       "doL9TzwmMTBa2xKuX7qd9VsKtWcmOv8VD/YGy/9NOuXcDOPfxsWt/C4tEeysZpRpSGUz1/UoP9uG\n",
       "fS6kSu+zYQ0D3LJGCf8fZx4439TrAGVzK2RppRbwUa4UYCNnKYRfxFig8Vdi/JPoS8GQcDZA1vmB\n",
       "XsoXPi3F9p/MD/jQZa8oUrPeQTfBCCldhj0g+m2/Anjl3BtwmOXZIKuhLHvcrwJUsKuULhuUL1QZ\n",
       "P4UeVE0tT50p5PfYtl3QtOzh+P63ic6dBfwx274ELxCnzrGI2QeSz78AcKPGdTGwsvlIKCvbvxl6\n",
       "BLlZLLV2sfyTM8P9t2LJHTjBLaAWztPxa2Kfs3r/HQFLolF8FpQluHwTS4twL5z/XDGWACfr+TeU\n",
       "Xwr3XzgV2f9Va7TXGYec8xrLM7j+vjVW8jNTd3Cpj9Xj7yfpSYdShVl0o+YvFd5omMBCuRrhd0X4\n",
       "Ylf7BIwUpEMeZK5h/e2/qjcOrhr/ob6aAyfIYGQL3tr5WJfuwSc1WqtfVxtnUF9WvJBPN934+Yf5\n",
       "bdy2zWecf5RJ+wqI9YFw9FkOPpYb88srMzXyqdExvug0f/7qZq8j0Qpxkdewh5Wy9tCEhVXnP/5/\n",
       "nP+yzFa6GHlzfc+/xxud/yNzpTz/+X/6P6O0+8RlqJkuAAAAAElFTkSuQmCC\n",
       "\" style=\"display:inline;vertical-align:middle;\" /></a><br>(see <a class=\"ProveItLink\" href=\"../../../__pv_it/theorems/928f80c8a8469546f42f4baadf4f7762fd3d40fe0/dependencies.ipynb\">dependencies</a>)<br>"
      ],
      "text/plain": [
       "<IPython.core.display.HTML object>"
      ]
     },
     "metadata": {},
     "output_type": "display_data"
    }
   ],
   "source": [
    "%proving relax_IntervalOO_right"
   ]
  },
  {
   "cell_type": "code",
   "execution_count": null,
   "metadata": {},
   "outputs": [],
   "source": []
  }
 ],
 "metadata": {
  "kernelspec": {
   "display_name": "Python 3",
   "language": "python",
   "name": "python3"
  }
 },
 "nbformat": 4,
 "nbformat_minor": 0
}