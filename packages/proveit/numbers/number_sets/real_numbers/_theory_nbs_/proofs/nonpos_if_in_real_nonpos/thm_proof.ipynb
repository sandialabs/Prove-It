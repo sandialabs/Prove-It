{
 "cells": [
  {
   "cell_type": "markdown",
   "metadata": {},
   "source": [
    "Proof of <a class=\"ProveItLink\" href=\"../../../../../../_theory_nbs_/theory.ipynb\">proveit</a>.<a class=\"ProveItLink\" href=\"../../../../../_theory_nbs_/theory.ipynb\">numbers</a>.<a class=\"ProveItLink\" href=\"../../../../_theory_nbs_/theory.ipynb\">number_sets</a>.<a class=\"ProveItLink\" href=\"../../theory.ipynb\">real_numbers</a>.<a class=\"ProveItLink\" href=\"../../theorems.ipynb#nonpos_if_in_real_nonpos\">nonpos_if_in_real_nonpos</a> theorem\n",
    "========"
   ]
  },
  {
   "cell_type": "code",
   "execution_count": 1,
   "metadata": {},
   "outputs": [],
   "source": [
    "import proveit\n",
    "theory = proveit.Theory() # the theorem's theory"
   ]
  },
  {
   "cell_type": "code",
   "execution_count": 2,
   "metadata": {},
   "outputs": [
    {
     "data": {
      "text/html": [
       "With these <a href=\"allowed_presumptions.txt\">allowed</a>/<a href=\"disallowed_presumptions.txt\">disallowed</a> theorem/theory presumptions (e.g., to avoid circular dependencies), we begin our proof of<br><strong id=\"nonpos_if_in_real_nonpos\">nonpos_if_in_real_nonpos:</strong> <a class=\"ProveItLink\" href=\"../../../__pv_it/theorems/5b490c6a08967fbda85fda6422b8a9741980e3aa0/expr.ipynb\"><img src=\"data:image/png;base64,iVBORw0KGgoAAAANSUhEUgAAAIkAAAAVBAMAAACArtDCAAAAMFBMVEX///8AAAAAAAAAAAAAAAAA\n",
       "AAAAAAAAAAAAAAAAAAAAAAAAAAAAAAAAAAAAAAAAAAAv3aB7AAAAD3RSTlMAq1RmmUTNIjK7EInv\n",
       "3XZ/CtNrAAAACXBIWXMAAA7EAAAOxAGVKw4bAAACNklEQVQ4y41UQWjTYBT+mqRNmmxhIIJ6Csyr\n",
       "bsjYQHRObOdAHEXBi6DFi+JBOuhxK/O8g9thYBRGhCLoEMIODhUkN4eiFFQcSCWVqbDD8CBM8OJ7\n",
       "/9o0bdqlP4S8l/+9L+997/t/oLeldt8qoOf1vfvWNXoG2BiMA5Hczt9fbRVgDgNZdm7GoTyOwIqU\n",
       "lKV/AW4Dd7npxTiUc22+/Mnh12ngBTBCcOQaVhyK1+qaXwUIloAhB30OZOoqFUtLvsVd/VY3/gD3\n",
       "LKQI4n21+i4ORSFy9Z0jC2vCK3+sf9YZZRgGTWgKeNApUw/Z/DcFNf8iO49uBCL6Ryg+ZKp0BupA\n",
       "BxD5EErHG4LqJ+LGcMY5wE6iFcWFRKylHSMXyj72/Owdbn2KJ9igo48i5jFZ94pBR4Ry3Yf2m5jz\n",
       "A3K1mp0zDay7KK5TjIe3IRTgQyd2hywkeYL58cZuZp6GaOKkr37meivYDHWE5C6etk3aBrUJqULm\n",
       "GmkPO+e3CixlRtmegHxQ1PKmnpX2oS8nPLhtqjsFblNm0c4SuWbhcMp6In5jqCuEJhGR+YAXmqX0\n",
       "t+wlm+qUbu3VqG/s6QAJ6kPGiobLAkV5KM6DlkVpsDEjrQJ92j96IqKGCzVK7m9OZxcYtW3bMk3j\n",
       "UnTum/tpci6wNE/FgqjFTF511Ewmkw0HjvR0VGeNvELKEbzg5UQkMB260J5VeTWra94Iyo/X21Dv\n",
       "k3Xlp1uejB6Hfe6OdNuVuWrbuS6hpe4ov4D/5MmHT5nyooIAAAAASUVORK5CYII=\n",
       "\" style=\"display:inline;vertical-align:middle;\" /></a><br>(see <a class=\"ProveItLink\" href=\"../../../__pv_it/theorems/be9cf283354bd22198ca4448eb848e4a3e384c990/dependencies.ipynb\">dependencies</a>)<br>"
      ],
      "text/plain": [
       "<IPython.core.display.HTML object>"
      ]
     },
     "metadata": {},
     "output_type": "display_data"
    },
    {
     "name": "stdout",
     "output_type": "stream",
     "text": [
      "nonpos_if_in_real_nonpos may now be readily provable (assuming required theorems are usable).  Simply execute \"%qed\".\n"
     ]
    }
   ],
   "source": [
    "%proving nonpos_if_in_real_nonpos"
   ]
  },
  {
   "cell_type": "code",
   "execution_count": null,
   "metadata": {},
   "outputs": [],
   "source": []
  }
 ],
 "metadata": {
  "kernelspec": {
   "display_name": "Python 3",
   "language": "python",
   "name": "python3"
  }
 },
 "nbformat": 4,
 "nbformat_minor": 0
}