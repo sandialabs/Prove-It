{
 "cells": [
  {
   "cell_type": "markdown",
   "metadata": {},
   "source": [
    "Proof of <a class=\"ProveItLink\" href=\"../../../../../../_theory_nbs_/theory.ipynb\">proveit</a>.<a class=\"ProveItLink\" href=\"../../../../../_theory_nbs_/theory.ipynb\">numbers</a>.<a class=\"ProveItLink\" href=\"../../../../_theory_nbs_/theory.ipynb\">number_sets</a>.<a class=\"ProveItLink\" href=\"../../theory.ipynb\">real_numbers</a>.<a class=\"ProveItLink\" href=\"../../theorems.ipynb#not_real_not_in_interval_co\">not_real_not_in_interval_co</a> theorem\n",
    "========"
   ]
  },
  {
   "cell_type": "code",
   "execution_count": 1,
   "metadata": {},
   "outputs": [],
   "source": [
    "import proveit\n",
    "theory = proveit.Theory() # the theorem's theory"
   ]
  },
  {
   "cell_type": "code",
   "execution_count": 2,
   "metadata": {},
   "outputs": [
    {
     "data": {
      "text/html": [
       "With these <a href=\"allowed_presumptions.txt\">allowed</a>/<a href=\"disallowed_presumptions.txt\">disallowed</a> theorem/theory presumptions (e.g., to avoid circular dependencies), we begin our proof of<br><strong id=\"not_real_not_in_interval_co\">not_real_not_in_interval_co:</strong> <a class=\"ProveItLink\" href=\"../../../__pv_it/theorems/606fb06331a44d1d949b9d565404c9ff30ce67ff0/expr.ipynb\"><img src=\"data:image/png;base64,iVBORw0KGgoAAAANSUhEUgAAARgAAAAZCAMAAADde8GvAAAAS1BMVEX///8AAAAAAAAAAAAAAAAA\n",
       "AAAAAAAAAAAAAAAAAAAAAAAAAAAAAAAAAAAAAAAAAAAAAAAAAAAAAAAAAAAAAAAAAAAAAAAAAAAA\n",
       "AADXrLZzAAAAGHRSTlMAq1RmmUTNIjK7EInv3XbP4duh6fPj951y2Qx9AAAACXBIWXMAAA7EAAAO\n",
       "xAGVKw4bAAAEFElEQVRYw92Zi3LdKAxAeT+EUbuPdv3/X1rAYIMvYCfXnZ2GZELmOpLgWBISIeSR\n",
       "Qb33mnyRgWEz7CFdinytwfkfC0bffhocwNzTpb8AGJz7uoLjdyevlEls5wSG7o8ZfxPMM6puDeam\n",
       "jw0lN8CAXXzGzNs5ghG7mNJvgnlG1Z0BFx4qJLnlMUqcPKzMAcwOV9t3Q+kZVXeGuPBIT+6BWUtA\n",
       "cnGa+QHJsbdzzCOq7oxlln2s/+dfr+6AkeueihZo5gimJOC38qdqcvnvTsVsbEAqBELNPY9xh2cp\n",
       "3sxpJ4uPY3EPnEpPqLoTSdkAIFIwrnJQHZ32lIE2MJo61HhaNQ0KNmGX00CeExiR+Fp4AMyHVYlJ\n",
       "jTUuPsrrDdJIkYjqxcesz/EVjFzCE7s2K4M1YIQ1HRQ874BXvq9p+XE+9NQpiTLvlKAKh2CGqo4E\n",
       "IGj94iZZ2o4N5oKdhy3xsFfK23UoeAEDS3IB324ncVqSdpbTVp63pBDfcDcQaYkJg9Ta8BdIwidO\n",
       "u2GB11dVxMHSsBdm3RWYIPDte1TTN7hsFqJLiSZsTIzlHz/DD9uCEWsC2urZZNf0oVmzhrUCw3CQ\n",
       "L5fszULkXzB8EQ44BNNVtYu7TZJfgYkCFMYGlwP9gm3J1jkTI5jFptBpX1niJLcjW2aPkbXHhK2U\n",
       "sATH0ZXqzKwxuVX14LZOBDFuCQ5ViEKH70ocuJGnnqQG0wgAnRg8el8ZMwRAU8B48gIG1rgovnaq\n",
       "GLHlHeZLtqjBOJbDErwOOPTefQFBsb2GAsaF6g35GMyuCjWhlihWiTPNdCeRFN2NAMqJQYube0hC\n",
       "4wt2NVwiRQ9MZEAViQvYMa6mJJ9AIq8kzxmMXmjx4Rinu32esrTkFRhhnZ01kbsqntYfTB/iHDiM\n",
       "wbQCdmZwO1PZakCExco6dBSj5hVMQsm8iOdYOItKCo0mRVsB5LlUZEVZDF6kdYoRNLCxabDNs51k\n",
       "s+66Wlc5CIu4MdKMwTQC3/5K9gYGTfJ3EME/mODNU6A/JbyCAYrOaIrRvvdQ/tbtvYWXzXy6dkhn\n",
       "uuUlZmNILmE/jtQ5RkoHt64dousFfZV4Tr6HM7dgKgEKU4OTCxb+n7PhVJq1BOx1/dq38/k+Zokp\n",
       "RgaHh7ibQDaF3FGwbafnLPkeIUWc2gq4Q1y7mFuJ69UxjQDQuUEubt3EDMC4cVda5jMYGRwTHY8v\n",
       "Lzioib6ammWzNyLKBRcW6tpjBEqHCLV4PPRCmAjTDaVa4O8rg3Z0r9Fp7M9gOtVGkdqlJzd4deSC\n",
       "i0lCfvYGbyLer2Pg+5U9GJXMncb+DKZTuBfOO+8xGPmx1umz/XR/fzcuADX2P6e9Hvrqzhd1O8/A\n",
       "fPBu8lkw9K2G9onx3GX4J/+v1Jf5n7mg9wv/BSvmI6a9yUS6AAAAAElFTkSuQmCC\n",
       "\" style=\"display:inline;vertical-align:middle;\" /></a><br>(see <a class=\"ProveItLink\" href=\"../../../__pv_it/theorems/3bc9b9a26db1fe0282061889c1478de27cf201000/dependencies.ipynb\">dependencies</a>)<br>"
      ],
      "text/plain": [
       "<IPython.core.display.HTML object>"
      ]
     },
     "metadata": {},
     "output_type": "display_data"
    },
    {
     "name": "stdout",
     "output_type": "stream",
     "text": [
      "not_real_not_in_interval_co may now be readily provable (assuming required theorems are usable).  Simply execute \"%qed\".\n"
     ]
    }
   ],
   "source": [
    "%proving not_real_not_in_interval_co"
   ]
  },
  {
   "cell_type": "code",
   "execution_count": null,
   "metadata": {},
   "outputs": [],
   "source": []
  }
 ],
 "metadata": {
  "kernelspec": {
   "display_name": "Python 3",
   "language": "python",
   "name": "python3"
  }
 },
 "nbformat": 4,
 "nbformat_minor": 0
}