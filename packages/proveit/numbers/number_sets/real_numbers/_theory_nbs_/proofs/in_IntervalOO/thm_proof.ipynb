{
 "cells": [
  {
   "cell_type": "markdown",
   "metadata": {},
   "source": [
    "Proof of <a class=\"ProveItLink\" href=\"../../../../../../_theory_nbs_/theory.ipynb\">proveit</a>.<a class=\"ProveItLink\" href=\"../../../../../_theory_nbs_/theory.ipynb\">numbers</a>.<a class=\"ProveItLink\" href=\"../../../../_theory_nbs_/theory.ipynb\">number_sets</a>.<a class=\"ProveItLink\" href=\"../../theory.ipynb\">real_numbers</a>.<a class=\"ProveItLink\" href=\"../../theorems.ipynb#in_IntervalOO\">in_IntervalOO</a> theorem\n",
    "========"
   ]
  },
  {
   "cell_type": "code",
   "execution_count": 1,
   "metadata": {},
   "outputs": [],
   "source": [
    "import proveit\n",
    "theory = proveit.Theory() # the theorem's theory"
   ]
  },
  {
   "cell_type": "code",
   "execution_count": 2,
   "metadata": {},
   "outputs": [
    {
     "data": {
      "text/html": [
       "With these <a href=\"allowed_presumptions.txt\">allowed</a>/<a href=\"disallowed_presumptions.txt\">disallowed</a> theorem/theory presumptions (e.g., to avoid circular dependencies), we begin our proof of<br><strong id=\"in_IntervalOO\">in_IntervalOO:</strong> <a class=\"ProveItLink\" href=\"../../../__pv_it/theorems/1efb7df28568e2c28487045b91d1ffaa1bbc081e0/expr.ipynb\"><img src=\"data:image/png;base64,iVBORw0KGgoAAAANSUhEUgAAAPcAAAAXBAMAAAAl5sTiAAAAMFBMVEX///8AAAAAAAAAAAAAAAAA\n",
       "AAAAAAAAAAAAAAAAAAAAAAAAAAAAAAAAAAAAAAAAAAAv3aB7AAAAD3RSTlMAq1RmmUTNIjK7EInv\n",
       "3XZ/CtNrAAAACXBIWXMAAA7EAAAOxAGVKw4bAAADYUlEQVRIx7VWTWgTQRR+TXbzs0k2VUGoBQko\n",
       "gooSpCjtoU2pVkGsxYIHFRvxIHoo24unKvGsYg6KxmrZQxFqDokVrBWUgAgFUYKIP4XAVtRqD6En\n",
       "Kz2I783MZidx0SLbB2958/K9+WbmvXkTAE8l6O42XMYGeC2fXL16osFxUmgzDTZ5xO0rurq3S7Z2\n",
       "p4yrSXLdR54zHpHfc/VqaXkUSOHnHNdLlKmsR+Q9rl4lKY/ilIM2rgETIJLwiLxUl+m7lXfMiNZh\n",
       "Bk1ymUz9uKyAVymXz1cdMoW1pQ70lJ19kuurSuWlR+QK1ptW3XB5kgbnbW44SJltnbf46FR1LZ51\n",
       "M9cDALf/PW9qJeS0FwXmrEP1RXwa9YQRXubV98MsGODHMyIdhmCzDQudrZ9tx6PuIW79pSSdoBjW\n",
       "zh7oMtfRwEnBG6R8DkqZp2YZohb4sDpIw2akv4Zrleacy/XrEZgqupBrdWYtKIoTZaCXh2M6Kx+Z\n",
       "+QLPYxFifCIlDfEihBaBqc+S6m3GMfdmsGB16LD+JA92m7I5I5MDvOaLciKQPJqFAt8irmEwASru\n",
       "mhTSnfjJd07Rcn/N0bTV/Z8NakBEvpCSyAVqjcEx3BRB4thBXYL7NCjLx16woKt2zQ+b4MNfSWES\n",
       "W432PrREZLM6culGSyAxwa5qJDiWdMg5Sr1uCIwwWRBJ2ALtRlMJ2AFXa+RjSJ6A9T6DshXPYP7B\n",
       "n+UKI1hvSipEhxBOsjKEsRAMMHJlNCsVHEOpo7RPhuEmDyLBy+P7OV5SWc8K1DrXA1qW760CBcQ1\n",
       "JcMpfilJoSlD2dKp5KMZhVU+7m93LpdL6HrkiETOUFfEpIjhph2ESSiD1mdt3sWT3nJMkF/FwcbH\n",
       "w98gNotWK/XgWD9XJgUj3IG7iEOU5guVgnCZ7VxXj5sOOUNp04ySMNwUQSQf5LJUp0V7jWVs1zbb\n",
       "uCCU16lxbcDMQ8xshzyMRNIK3kCWc3giFRxDAXzHMmAYblKQkDbXRuCvdaii/ALVXiG1Z+dDPMVQ\n",
       "n4Vf5cuzBQjeQvfRr8XxXoecoVDak8Aw3KQgIWH3vyc37Z5gA+kZbXxKE9IX8rmc03wamsxWw82s\n",
       "u9yyTNjvnLzIhoWqpvNtlBW++Bfd/9lZDY55oXJupO9/kq+OGKsx6W9EOOFwQ1aRZAAAAABJRU5E\n",
       "rkJggg==\n",
       "\" style=\"display:inline;vertical-align:middle;\" /></a><br>(see <a class=\"ProveItLink\" href=\"../../../__pv_it/theorems/c0786abb5247ce9fb580f1831bafbc7db7d444d00/dependencies.ipynb\">dependencies</a>)<br>"
      ],
      "text/plain": [
       "<IPython.core.display.HTML object>"
      ]
     },
     "metadata": {},
     "output_type": "display_data"
    }
   ],
   "source": [
    "%proving in_IntervalOO"
   ]
  },
  {
   "cell_type": "code",
   "execution_count": null,
   "metadata": {},
   "outputs": [],
   "source": []
  }
 ],
 "metadata": {
  "kernelspec": {
   "display_name": "Python 3",
   "language": "python",
   "name": "python3"
  }
 },
 "nbformat": 4,
 "nbformat_minor": 0
}