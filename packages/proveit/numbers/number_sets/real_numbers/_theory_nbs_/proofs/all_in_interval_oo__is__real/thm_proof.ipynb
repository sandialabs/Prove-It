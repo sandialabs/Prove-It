{
 "cells": [
  {
   "cell_type": "markdown",
   "metadata": {},
   "source": [
    "Proof of <a class=\"ProveItLink\" href=\"../../../../../../_theory_nbs_/theory.ipynb\">proveit</a>.<a class=\"ProveItLink\" href=\"../../../../../_theory_nbs_/theory.ipynb\">numbers</a>.<a class=\"ProveItLink\" href=\"../../../../_theory_nbs_/theory.ipynb\">number_sets</a>.<a class=\"ProveItLink\" href=\"../../theory.ipynb\">real_numbers</a>.<a class=\"ProveItLink\" href=\"../../theorems.ipynb#all_in_interval_oo__is__real\">all_in_interval_oo__is__real</a> theorem\n",
    "========"
   ]
  },
  {
   "cell_type": "code",
   "execution_count": 1,
   "metadata": {},
   "outputs": [],
   "source": [
    "import proveit\n",
    "theory = proveit.Theory() # the theorem's theory"
   ]
  },
  {
   "cell_type": "code",
   "execution_count": 2,
   "metadata": {},
   "outputs": [
    {
     "data": {
      "text/html": [
       "With these <a href=\"allowed_presumptions.txt\">allowed</a>/<a href=\"disallowed_presumptions.txt\">disallowed</a> theorem/theory presumptions (e.g., to avoid circular dependencies), we begin our proof of<br><strong id=\"all_in_interval_oo__is__real\">all_in_interval_oo__is__real:</strong> <a class=\"ProveItLink\" href=\"../../../__pv_it/theorems/f295534bd0687270f7b3e4f32a2fdf8095ca77d20/expr.ipynb\"><img src=\"data:image/png;base64,iVBORw0KGgoAAAANSUhEUgAAAOIAAAAZBAMAAADea+8+AAAAMFBMVEX///8AAAAAAAAAAAAAAAAA\n",
       "AAAAAAAAAAAAAAAAAAAAAAAAAAAAAAAAAAAAAAAAAAAv3aB7AAAAD3RSTlMAq1RmmUTNIjK7EInv\n",
       "3XZ/CtNrAAAACXBIWXMAAA7EAAAOxAGVKw4bAAADlklEQVRIx62WXWjTQBzA/23SNk26rI9+UxH2\n",
       "ImpwOtgeRmV+DJRRNxHcQIc+yITNDEQYU6kggjpdcAzNxBlQxDrUqrgxfZkT0SHC8EFxGGhxKCgW\n",
       "X0QQFP93adKLq80GPch95ZLf//PuALzLclOFMhXZfDOfZe1QxlJdbqLq9a7cRDlWZLJm6lrnlAKw\n",
       "1yJGSbPKg+gjjV/xJq4uOqt1w85aA2SFEreQqYMeRD6BTdA7fsTi5tB6ISygaoco8STWIc2DSJZD\n",
       "j7eKvPI/Iq+iMBsoMWgASDEvPxLpHngTI26nXjXfFoioVcQgRA7FCnpGTvX8AqiKHQS6jIKOvtto\n",
       "pqBC//TaNF95EiOm+SHtTdyOz93srSfUZkcNxqpnqjAKpCglNgIMeRL5JIQNds7PhJHs9A7gE5dX\n",
       "8NPucNSOdf7+gi1nWasbQlH7ldCR76wZ3dTFEnFJt0uKjXbnNPonbg9wC+NU7pdPcaex1lt9k4o5\n",
       "QYlhQ0o475YSbFZPyBKMpdkdYAge2cMLiwdBdIT04bI2e/AcvwbeQgnoLvN9nhi+ToQQvlOiP8ME\n",
       "zkt8NifRUDLUZVjiWkdkvpFUjpARXB00CkScsT4UNUZHIU48F5jIx2A9ViP1Y0SIP1mD7gxI/BJn\n",
       "iUEO/yPPntgGH8lUBf7x4Vfiy/7ckkJ20YNhnypSCabZfGwk2eyftogPMNnEd8JPApqR4ykaDFJo\n",
       "WGGJUhX+5bNP22+JfhTgjtpPiN+MWfDbwg0DpBLLQKKDHEtMEUU4zSIeQ5/wcQE1hrDCtbdQIn9F\n",
       "c+3koadYKeFMMkAF2YPGhz7SG4AaCNhr7wOsO7sDmukg6Owr2hFM+0GkpC2iDz0RSchR6hQ+WqPr\n",
       "ekyWpWb32bGIVJUqcB26fhFWEp9lLc9vAsEmnge4kfM3WChxcatzdlwC/XAMKhKF0+qeGq5Ds1VC\n",
       "JHaO6igH2oy5p1UfqAIN4TMg/oSB29j7DpMFq1YkXZvOeH6Xs8tx5nyMqP0txghUGLVWpmN2PI7/\n",
       "SwxNjGLqDeUj54Xwo05Mwww6R7bDmouX3EoaGGKgYe1D6IsJTRkIXcbx7k/pG1vn6NjUljOgh+gR\n",
       "VmHX+q+KMAmncnSUL5dKAekR5b4DWPYf0fVEiTuAOK4PQiC/PfhpnXJepkoRqWAuYsCY/61jm9W0\n",
       "sgOiRqYE8fOcew63gHuOZElHU4VLlPsu11nsvsrYQ1zIffXZX8Og5UzBEGclAAAAAElFTkSuQmCC\n",
       "\" style=\"display:inline;vertical-align:middle;\" /></a><br>(see <a class=\"ProveItLink\" href=\"../../../__pv_it/theorems/d922227414cb9b6aa7408b7c87099419bc102f930/dependencies.ipynb\">dependencies</a>)<br>"
      ],
      "text/plain": [
       "<IPython.core.display.HTML object>"
      ]
     },
     "metadata": {},
     "output_type": "display_data"
    },
    {
     "name": "stdout",
     "output_type": "stream",
     "text": [
      "all_in_interval_oo__is__real may now be readily provable (assuming required theorems are usable).  Simply execute \"%qed\".\n"
     ]
    }
   ],
   "source": [
    "%proving all_in_interval_oo__is__real"
   ]
  },
  {
   "cell_type": "code",
   "execution_count": null,
   "metadata": {},
   "outputs": [],
   "source": []
  }
 ],
 "metadata": {
  "kernelspec": {
   "display_name": "Python 3",
   "language": "python",
   "name": "python3"
  }
 },
 "nbformat": 4,
 "nbformat_minor": 0
}