{
 "cells": [
  {
   "cell_type": "markdown",
   "metadata": {},
   "source": [
    "Proof of <a class=\"ProveItLink\" href=\"../../../../../../_theory_nbs_/theory.ipynb\">proveit</a>.<a class=\"ProveItLink\" href=\"../../../../../_theory_nbs_/theory.ipynb\">numbers</a>.<a class=\"ProveItLink\" href=\"../../../../_theory_nbs_/theory.ipynb\">number_sets</a>.<a class=\"ProveItLink\" href=\"../../theory.ipynb\">real_numbers</a>.<a class=\"ProveItLink\" href=\"../../theorems.ipynb#all_in_interval_oc__is__real\">all_in_interval_oc__is__real</a> theorem\n",
    "========"
   ]
  },
  {
   "cell_type": "code",
   "execution_count": 1,
   "metadata": {},
   "outputs": [],
   "source": [
    "import proveit\n",
    "theory = proveit.Theory() # the theorem's theory"
   ]
  },
  {
   "cell_type": "code",
   "execution_count": 2,
   "metadata": {},
   "outputs": [
    {
     "data": {
      "text/html": [
       "With these <a href=\"allowed_presumptions.txt\">allowed</a>/<a href=\"disallowed_presumptions.txt\">disallowed</a> theorem/theory presumptions (e.g., to avoid circular dependencies), we begin our proof of<br><strong id=\"all_in_interval_oc__is__real\">all_in_interval_oc__is__real:</strong> <a class=\"ProveItLink\" href=\"../../../__pv_it/theorems/bf08d3b6ab929156f8775b96e47baa732453bb0b0/expr.ipynb\"><img src=\"data:image/png;base64,iVBORw0KGgoAAAANSUhEUgAAAOAAAAAZBAMAAADanj8DAAAAMFBMVEX///8AAAAAAAAAAAAAAAAA\n",
       "AAAAAAAAAAAAAAAAAAAAAAAAAAAAAAAAAAAAAAAAAAAv3aB7AAAAD3RSTlMAq1RmmUTNIjK7EInv\n",
       "3XZ/CtNrAAAACXBIWXMAAA7EAAAOxAGVKw4bAAADZUlEQVRIx62WXUgUURSAz+7O7s7+OC30pBEs\n",
       "FPYQxaBh6IOtaCZEsmX0oBALPUSBNkIEocEGEYSGAyK2RTaRBCrRppDkQyxGlEQRPRQJC7tgBUqL\n",
       "L2EvRefc2Z29o+vOBHtgZu7cc2a+e+/5uRfAWnanFaiMSOlPdsxiUDmprzBQsdJVGCiFS3Q2LD3o\n",
       "XZIBzurAED32WABtGDHZX7JX7YeTjRpIMgMepa7zFkAbRiT+0muhDoBPxDFfZMDrePeqFkAbRiSC\n",
       "vB1QUHAshxjQowEEwhZAG0YkQbND76c/F4E43KBGQBeOymMVNDaMSGr5F3efVpyhYxqX1COzKH2f\n",
       "Tr+zjFJrI5Lj5MdczdAsvVzRuCW9VYtJEQgxYAfAXUvgFqN9XLsxlG+cIz9CNnPCHGPqYO+fVXy6\n",
       "YgzYD97CByBeyDcOPG/p44G8EYkrWmjdROcUVFS3DsMRbac5e9WB+sf0dKYY0KcFjK9hF1GziagU\n",
       "gPkkB+SMSA0PjS8cySLwNV5xaNfN0Avpr3mg7xHFr7jOgM4MFw5v8WqLY4RJ0JThgJwRqfXE1CMz\n",
       "bgYCfNBzUuVmKEbIIW59hhBrxttM8zyN4W9WYwUBgasRvrQxo9yxFYWp4SP+cW6NquNIrsa0pODe\n",
       "gOm8STFoOq7Skn7UgbNYAfxfxA3iLEuRKZZDAe+EzAPJSFKqPWGm9mLXE2WEgD+1FQM4gT8ac6SA\n",
       "OSPHA6donC5VBw6ivRARcb7gk12xLgYU7qmm4k1GLpgQgandqGyDYWqOQoMBfIaz+D2ZcrMS4TEK\n",
       "hXoZE3kMIUkd6EAvBKNSiDlECDUkEomwJAVOmYBkBICrwNTOEDksq3u9xQDexhl2ZvbW6U6s7jZ2\n",
       "i3FIXApDVbS4PT1VfE2YqDsgGB5iM5TcPdqW7UlMeYGpRRX8GzBKvlqHRQNYFTeVmhf50laQa9x+\n",
       "GFRGurQZqNIaMQOYD2Ehshk4GIgJupoi4o34q8mfhGX0TAHoipQtIK0c0N16cA6Gw2JnBrx38P3M\n",
       "9+Rk+2ag8O3lqq6GcYDTdWuyuAg3csW0oO7thW035h1fd/NMIhEts+MzdU/+xcnuBnCqHNCnbAa6\n",
       "NdtHDCF/eOk2A72ZMsAfW840rv840yzoD9kMrNCprbfEudTP7xYZ++fSV/8A4X7jUnEOadYAAAAA\n",
       "SUVORK5CYII=\n",
       "\" style=\"display:inline;vertical-align:middle;\" /></a><br>(see <a class=\"ProveItLink\" href=\"../../../__pv_it/theorems/6b8657954afd118387ee1146f1d1bf2eec3fc75c0/dependencies.ipynb\">dependencies</a>)<br>"
      ],
      "text/plain": [
       "<IPython.core.display.HTML object>"
      ]
     },
     "metadata": {},
     "output_type": "display_data"
    },
    {
     "name": "stdout",
     "output_type": "stream",
     "text": [
      "all_in_interval_oc__is__real may now be readily provable (assuming required theorems are usable).  Simply execute \"%qed\".\n"
     ]
    }
   ],
   "source": [
    "%proving all_in_interval_oc__is__real"
   ]
  },
  {
   "cell_type": "code",
   "execution_count": null,
   "metadata": {},
   "outputs": [],
   "source": []
  }
 ],
 "metadata": {
  "kernelspec": {
   "display_name": "Python 3",
   "language": "python",
   "name": "python3"
  }
 },
 "nbformat": 4,
 "nbformat_minor": 0
}