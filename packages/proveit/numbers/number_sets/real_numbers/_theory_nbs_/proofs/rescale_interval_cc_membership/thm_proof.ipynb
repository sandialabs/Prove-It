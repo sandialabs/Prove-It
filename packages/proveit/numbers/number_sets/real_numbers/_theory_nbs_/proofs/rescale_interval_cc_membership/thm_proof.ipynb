{
 "cells": [
  {
   "cell_type": "markdown",
   "metadata": {},
   "source": [
    "Proof of <a class=\"ProveItLink\" href=\"../../../../../../_theory_nbs_/theory.ipynb\">proveit</a>.<a class=\"ProveItLink\" href=\"../../../../../_theory_nbs_/theory.ipynb\">numbers</a>.<a class=\"ProveItLink\" href=\"../../../../_theory_nbs_/theory.ipynb\">number_sets</a>.<a class=\"ProveItLink\" href=\"../../theory.ipynb\">real_numbers</a>.<a class=\"ProveItLink\" href=\"../../theorems.ipynb#rescale_interval_cc_membership\">rescale_interval_cc_membership</a> theorem\n",
    "========"
   ]
  },
  {
   "cell_type": "code",
   "execution_count": 1,
   "metadata": {},
   "outputs": [],
   "source": [
    "import proveit\n",
    "theory = proveit.Theory() # the theorem's theory"
   ]
  },
  {
   "cell_type": "code",
   "execution_count": 2,
   "metadata": {},
   "outputs": [
    {
     "data": {
      "text/html": [
       "With these <a href=\"allowed_presumptions.txt\">allowed</a>/<a href=\"disallowed_presumptions.txt\">disallowed</a> theorem/theory presumptions (e.g., to avoid circular dependencies), we begin our proof of<br><strong id=\"rescale_interval_cc_membership\">rescale_interval_cc_membership:</strong> <a class=\"ProveItLink\" href=\"../../../__pv_it/theorems/d9ebf66b7f90eb153a4e84bc7daa1cefe573884b0/expr.ipynb\"><img src=\"data:image/png;base64,iVBORw0KGgoAAAANSUhEUgAAAVwAAAAZBAMAAACP2ot0AAAAMFBMVEX///8AAAAAAAAAAAAAAAAA\n",
       "AAAAAAAAAAAAAAAAAAAAAAAAAAAAAAAAAAAAAAAAAAAv3aB7AAAAD3RSTlMAq1RmmUTNIjK7EInv\n",
       "3XZ/CtNrAAAACXBIWXMAAA7EAAAOxAGVKw4bAAAEhElEQVRYw82YTYgcRRTHX8/0TH/N9iwKoi5K\n",
       "g+JBMAzO4kcOm5HRGA9uBgNeVsyaiySg9B4DJrTnLNoKi3bU0EIQdA/TJJhERRnJRRFlCRFDzECv\n",
       "K9m44BIQjOwhWK+qP15Pz2Y6CzEWvO7qmvo3v3r1XlX1ABQt9/VtuL3F7J8r3nkWbn9p3gpcJbLB\n",
       "kpudPy8UdasjxLcE97fIBsvLgw2fF32j0RHiJozj7YFCuBLeSo1RHUuBsLyTGlvA1T9c4rhc3IRn\n",
       "sO3VQrhyh92qIxPuk8jy5cBWvFttcVwubsKbGGhuIVwVZ+LgyI7tyPJlciu4dUvgTnLcqs+erGKx\n",
       "iwM8MbJjL7J8qfni/ke/P1sYd68vcFHchDKLiWrBVGsWybjSrLBh8yqC98W1m/Hu1yLVuJgB/Njv\n",
       "/1AQt9bvXwpG9ZMDYWCsP5Hky/q9R9i0GDyvlQM0GL5ZcZIFcGI1jKqk9ZX1OzguihnuLoCjBXFl\n",
       "BzSfTu57ab38DnEhmnIOnkuGAMvh86wPd3qarAz3kCUnifOSrW2IGmnV//a7NuKWxfTOgTIeC9T9\n",
       "GcJHTj31OsVlHefo7xLVxQ9jVmQB/BT//jjs8O9kMcJDukpT7VeoxR7Vz4K8JKqktbTB6oiLYoar\n",
       "+fgQlYmkpi57HdOA0wHdJo6m4fbWPQspLurih1pH2G4xD13UObCTv/MqXuf7rLgCV96IXIhTcBWH\n",
       "yCeDts5CPUBCFDPcUkgy7buk9jQLHtOE7SHF3ZZkmryLehd1g7jfR85u8Rt3dIV791Pi3Vo05+dR\n",
       "6EJXOI62shHstRC30otyfYpdFqdO4/CvL6NPjJWQbyIMd61FcatlRm/+fvhZWImCIdUNBIN+nYZN\n",
       "5Rp8xjzD53qM4HbDtA+r70hqdNndzecfxYh7gmWq/ot6Dfkumoj3s9rjLjAN5ViD4hoPsdGsSu4+\n",
       "3RW4RBfjaqGwvxhkHJULUg/YPJe5ygxT3Dp7fRyKXQvuKtk6IpLWusNimqeaK3DfYJkmt1ScKK2B\n",
       "+Se7urOHv1j+wM0ccZRv2aWhhU6lIXCJLsbFBQeNLQtn4nT553ivYkXrG8C+FJctAIaTjLN0Xuax\n",
       "TlulhtbiuChGXMnBYDNxeag58riIvMc8z7NM03gheyK7mw/YhvJ+z3uX4RJdjKsuCTNOTsWLnj4d\n",
       "PvgohoFw2ccLfrIyfNVcSxbn+8/MXYGxi5BtnWiLbQLF8QGya2vb2TvqULM4Dhzh3jUrM37+ADkP\n",
       "thoI7xJdkncXIsuXQ9F95qMbbMIPDz9AcnGMW7Pf3uMvwpj/JCxCtQMB3w7YQvZlaxBX6Z2ClthZ\n",
       "JKqT6EFmctPDz8gjTrAJbpvgVtrbTsK8pU6H7Kq0p3zlfdzcLwfHd+a8Oz2z7sNBh+MSXYKr2cLy\n",
       "XxluAVw9HI7LxdmvCYtcFz2vc4OvCf0LL90mrMwWh6uGPuxImhvDMFxzk68JLs7gVvz0WujjR6K6\n",
       "dM84HNlgWc0dtop+q13qCHEGt0yuN4Nbzh4g/h9fwq/l/2fQ6Ins2H/wP8PZfwHzRTrduArZtgAA\n",
       "AABJRU5ErkJggg==\n",
       "\" style=\"display:inline;vertical-align:middle;\" /></a><br>(see <a class=\"ProveItLink\" href=\"../../../__pv_it/theorems/08347f6251ba8eb275da5990a6d122a1e27e34a00/dependencies.ipynb\">dependencies</a>)<br>"
      ],
      "text/plain": [
       "<IPython.core.display.HTML object>"
      ]
     },
     "metadata": {},
     "output_type": "display_data"
    }
   ],
   "source": [
    "%proving rescale_interval_cc_membership"
   ]
  },
  {
   "cell_type": "code",
   "execution_count": null,
   "metadata": {},
   "outputs": [],
   "source": []
  }
 ],
 "metadata": {
  "kernelspec": {
   "display_name": "Python 3",
   "language": "python",
   "name": "python3"
  }
 },
 "nbformat": 4,
 "nbformat_minor": 0
}