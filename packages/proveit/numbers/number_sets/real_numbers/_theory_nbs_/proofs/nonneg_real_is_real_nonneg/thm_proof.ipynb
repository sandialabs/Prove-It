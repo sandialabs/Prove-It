{
 "cells": [
  {
   "cell_type": "markdown",
   "metadata": {},
   "source": [
    "Proof of <a class=\"ProveItLink\" href=\"../../../../../../_theory_nbs_/theory.ipynb\">proveit</a>.<a class=\"ProveItLink\" href=\"../../../../../_theory_nbs_/theory.ipynb\">numbers</a>.<a class=\"ProveItLink\" href=\"../../../../_theory_nbs_/theory.ipynb\">number_sets</a>.<a class=\"ProveItLink\" href=\"../../theory.ipynb\">real_numbers</a>.<a class=\"ProveItLink\" href=\"../../theorems.ipynb#nonneg_real_is_real_nonneg\">nonneg_real_is_real_nonneg</a> theorem\n",
    "========"
   ]
  },
  {
   "cell_type": "code",
   "execution_count": 1,
   "metadata": {},
   "outputs": [],
   "source": [
    "import proveit\n",
    "theory = proveit.Theory() # the theorem's theory"
   ]
  },
  {
   "cell_type": "code",
   "execution_count": 2,
   "metadata": {},
   "outputs": [
    {
     "data": {
      "text/html": [
       "With these <a href=\"allowed_presumptions.txt\">allowed</a>/<a href=\"disallowed_presumptions.txt\">disallowed</a> theorem/theory presumptions (e.g., to avoid circular dependencies), we begin our proof of<br><strong id=\"nonneg_real_is_real_nonneg\">nonneg_real_is_real_nonneg:</strong> <a class=\"ProveItLink\" href=\"../../../__pv_it/theorems/7be434bfc78100962a6c4f3f600a9aad8877d3410/expr.ipynb\"><img src=\"data:image/png;base64,iVBORw0KGgoAAAANSUhEUgAAAMEAAAAaBAMAAAD8lSVDAAAAMFBMVEX///8AAAAAAAAAAAAAAAAA\n",
       "AAAAAAAAAAAAAAAAAAAAAAAAAAAAAAAAAAAAAAAAAAAv3aB7AAAAD3RSTlMAq1RmmUTNIjK7EInv\n",
       "3XZ/CtNrAAAACXBIWXMAAA7EAAAOxAGVKw4bAAAC3ElEQVRIx62WTWgTQRTHn/nofmYTPyioIAHP\n",
       "SrDoIUhNsH6eohVBKljtQRCR7V1oBcGDhYSGqhuxbEEELdJgwKoHCYhWEMFDwYvRLYIfrYoIWszJ\n",
       "N7Ob3dl1XbKpD3YyH7vzmzfvzX8C8N+Nn6A/0uPqiqbZHjA2PU7KXjgGsc4BkVzQqFLG4jkkVa7U\n",
       "MeFW8HB0ErgmyGl0pFMr+017Vvv1xhqIzvFNSGQgoQOkSMfmkACu7tcrcKn42gqpiQ8LSJANUHD6\n",
       "PaTndEhCrOpPqELpAllAfpTsUjINYhOA9oQNSLLwL8K+Lpxu9agVaYAhgC7cKSkdklDU2dbnRmPQ\n",
       "JgggrlNJ6xscwvIAxiSDlLCB/so2ji4yPmyYAlG3TtxBLL/g87LReBGW0E22duNHg0b9DLNL/Lgn\n",
       "pCcQtx+g4hvNAIKGz3FVaJJ6l+oQnr17q3v2E0MyDFyK6dpyP3/OfD9AaE5iQj6B2CtKYCJdy2JA\n",
       "eA3tqtU3gjkh6FIrM/gFraBIMFt1ExihsWweXfwOCfreWAOtZO1Spcfj7QzOHTHsVfShS4oCWcND\n",
       "cITG8UEu0a8BbrPZelHw7NIISdxBIh7TvbOgZIASFnMOQawtqazQ2IQZA3bReoIlxC55jlaRfH0P\n",
       "k0F8zS+bq1EkbjLjEO6q9B1baExbj4Q0dEfIkGIwBLH0/u9cgvMY6FiOr0M/JcSul5hI98GYS2hM\n",
       "wywXjMi8mW6nHEIOegT3cd9JilW4VXIBNWoH5kBaUaTDDOEpLLiExl6ZuOnB8CfamJrQW9r6WxWu\n",
       "/HAR8nbIVSGrX6Y+KPEB3SaIy1C+4xIaarJroQM3TNXws6FWRVaL/TrNA8zWR0yk5/ifWZfQBGir\n",
       "j4nNVi2+e2sNuGtEZT5Ub+51CEe2LWVcQmMenHqbhGjKc4VrmuO+EPTlmjYJCTVgUFjBPW1b4D3N\n",
       "6BIrNNZ/jfYCEXy1cR3/X2L0GSP4B8NHwbgVGEbGAAAAAElFTkSuQmCC\n",
       "\" style=\"display:inline;vertical-align:middle;\" /></a><br>(see <a class=\"ProveItLink\" href=\"../../../__pv_it/theorems/a124fa2b9cbbaa88f1aa74fe47e10b336097e77d0/dependencies.ipynb\">dependencies</a>)<br>"
      ],
      "text/plain": [
       "<IPython.core.display.HTML object>"
      ]
     },
     "metadata": {},
     "output_type": "display_data"
    },
    {
     "name": "stdout",
     "output_type": "stream",
     "text": [
      "nonneg_real_is_real_nonneg may now be readily provable (assuming required theorems are usable).  Simply execute \"%qed\".\n"
     ]
    }
   ],
   "source": [
    "%proving nonneg_real_is_real_nonneg"
   ]
  },
  {
   "cell_type": "code",
   "execution_count": null,
   "metadata": {},
   "outputs": [],
   "source": []
  }
 ],
 "metadata": {
  "kernelspec": {
   "display_name": "Python 3",
   "language": "python",
   "name": "python3"
  }
 },
 "nbformat": 4,
 "nbformat_minor": 0
}