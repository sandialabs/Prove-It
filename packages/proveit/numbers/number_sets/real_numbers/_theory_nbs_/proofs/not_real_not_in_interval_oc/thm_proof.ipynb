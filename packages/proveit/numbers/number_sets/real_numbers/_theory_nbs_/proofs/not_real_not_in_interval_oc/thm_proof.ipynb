{
 "cells": [
  {
   "cell_type": "markdown",
   "metadata": {},
   "source": [
    "Proof of <a class=\"ProveItLink\" href=\"../../../../../../_theory_nbs_/theory.ipynb\">proveit</a>.<a class=\"ProveItLink\" href=\"../../../../../_theory_nbs_/theory.ipynb\">numbers</a>.<a class=\"ProveItLink\" href=\"../../../../_theory_nbs_/theory.ipynb\">number_sets</a>.<a class=\"ProveItLink\" href=\"../../theory.ipynb\">real_numbers</a>.<a class=\"ProveItLink\" href=\"../../theorems.ipynb#not_real_not_in_interval_oc\">not_real_not_in_interval_oc</a> theorem\n",
    "========"
   ]
  },
  {
   "cell_type": "code",
   "execution_count": 1,
   "metadata": {},
   "outputs": [],
   "source": [
    "import proveit\n",
    "theory = proveit.Theory() # the theorem's theory"
   ]
  },
  {
   "cell_type": "code",
   "execution_count": 2,
   "metadata": {},
   "outputs": [
    {
     "data": {
      "text/html": [
       "With these <a href=\"allowed_presumptions.txt\">allowed</a>/<a href=\"disallowed_presumptions.txt\">disallowed</a> theorem/theory presumptions (e.g., to avoid circular dependencies), we begin our proof of<br><strong id=\"not_real_not_in_interval_oc\">not_real_not_in_interval_oc:</strong> <a class=\"ProveItLink\" href=\"../../../__pv_it/theorems/9bace2b8f6df3cb55ae90491039ad201d35782b40/expr.ipynb\"><img src=\"data:image/png;base64,iVBORw0KGgoAAAANSUhEUgAAARgAAAAZCAMAAADde8GvAAAAS1BMVEX///8AAAAAAAAAAAAAAAAA\n",
       "AAAAAAAAAAAAAAAAAAAAAAAAAAAAAAAAAAAAAAAAAAAAAAAAAAAAAAAAAAAAAAAAAAAAAAAAAAAA\n",
       "AADXrLZzAAAAGHRSTlMAq1RmmUTNIjK7EInv3XbP4duh6fPj951y2Qx9AAAACXBIWXMAAA7EAAAO\n",
       "xAGVKw4bAAAEBklEQVRYw91ZiZLbIAzlPgSod+v//9ICNgYSsJ2NO52W3cnsxDrgWXpIWkJuWTSE\n",
       "oMl/sjAeht1kS5H/a3H+zwKjX3qqT2PEdFL/LjB4HOsKXpGOy8n4IbEBhu7PGH8TmHtMXVrMHT42\n",
       "9Jo0WB8aYAjyCoyQ++H0m8DcY+rKgpMIrTs5k1aiBWaPtAjMDq6276bSPaauLHESkeGy9MI6YLio\n",
       "HFNAcuxtjrnF1JXlj9jHhm/fg7omLRfogCEedmAKAb/Fn6rj8j9NxWzuQCoEQs1FaeIC6YFRvJ7E\n",
       "h7S8u+FWusPUlUzaHAAiBeOaANUpaB84pUgTTR1q7PdNownWAONoBUZkfC3cAMzLpsRBjWXm3viu\n",
       "jRSJqJSSWZ/jUFr6+NAu7eZgiUDCoiswvIl9TcvH46WnHkiUBacEVTgFZmqqEoCg7Vs7YGk7d7gV\n",
       "7DweiMeDUt7v46GI2aTB5yjoeJllmDxWYJhvSCG9YSdHHVAJQoPU2iiBJH7jtJsWeGNTRR0sjWdh\n",
       "1p0BExU+fU5mxg796iGFlOjSxqRc/vEzftgnabFklDpTq/bi6qbN0gDDcMKXfotmIbY/MP4QDjgF\n",
       "ZmhqV3erJj8DJilQmDv0FXqPfcE2uBM3aW9z7nRvLcMk05VdgJFtxMSjlLQEx9GV6swsidyaenDd\n",
       "J4KYtwTVFKLQ8bdRB27kQ+fSAtMpAD1wWHtfmfgBoCtgwjDxYEn74stzFSOWJsxZaIFxbEtLCDrC\n",
       "offWCgiK9TUUYFys3pDPgdlNoSbUEsUadaaZHhBJsd0poDxwaHEND0loesGuBZfIx9e2SWcQqCJp\n",
       "DwXJxRTu2cnXtsBoT0sMpzzdLfLM0pI3wAjr7FETuZvieUfRcVXnwGEOTK9gjxyudypbDIi4Wdmm\n",
       "jmLUDKUzPiyIdJXFy2gj0eRUtHXMdreXiqwYS+mItKUYQSM2Ni+2RraT7Ki7bva1hl5VN0aaOTCd\n",
       "wqcv2d/EocnxDiLGBxO8ewr0p4SRdHyCzmiKaQshbBlC3dYvFGCCHI0d8o1uecnZlI8+nseRlmOk\n",
       "dHBp7JBCL9pr1DfyJTAGplGgcOgwzGsc/svZeCupY2kGo7FDdB/G8xifKEbGgId0mghrTrlasK23\n",
       "5xH51pQiTq0FXFXXLnErcaM6plMAeuyQi6uTmIm0I2NgSr/5CIyMgYmOp5cXA9SkWM3NstkbEeVi\n",
       "CAt1HjECpUOEVj1dejFNhBmmUqvw9cyhnc01ho39k/RzwbECs2sfTPDazAWXSEJ+dIJ3oD6uY+Dz\n",
       "mT+YlczDxv5JGscTvIrgHBj5Wuv00X56fL4LA0CN4+/pS9J15purQNTnM98XZ5P3AkPfamjvWPcN\n",
       "wz/4f6Wxzl/GBUPw/DeYgiOXL/VHHwAAAABJRU5ErkJggg==\n",
       "\" style=\"display:inline;vertical-align:middle;\" /></a><br>(see <a class=\"ProveItLink\" href=\"../../../__pv_it/theorems/5bc4e2f4ec51111a49965a52fd37b49bfa5990960/dependencies.ipynb\">dependencies</a>)<br>"
      ],
      "text/plain": [
       "<IPython.core.display.HTML object>"
      ]
     },
     "metadata": {},
     "output_type": "display_data"
    },
    {
     "name": "stdout",
     "output_type": "stream",
     "text": [
      "not_real_not_in_interval_oc may now be readily provable (assuming required theorems are usable).  Simply execute \"%qed\".\n"
     ]
    }
   ],
   "source": [
    "%proving not_real_not_in_interval_oc"
   ]
  },
  {
   "cell_type": "code",
   "execution_count": null,
   "metadata": {},
   "outputs": [],
   "source": []
  }
 ],
 "metadata": {
  "kernelspec": {
   "display_name": "Python 3",
   "language": "python",
   "name": "python3"
  }
 },
 "nbformat": 4,
 "nbformat_minor": 0
}