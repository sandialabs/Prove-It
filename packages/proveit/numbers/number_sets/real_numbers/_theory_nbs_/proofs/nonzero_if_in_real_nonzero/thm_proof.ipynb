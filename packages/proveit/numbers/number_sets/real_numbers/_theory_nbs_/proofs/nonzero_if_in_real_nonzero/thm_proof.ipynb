{
 "cells": [
  {
   "cell_type": "markdown",
   "metadata": {},
   "source": [
    "Proof of <a class=\"ProveItLink\" href=\"../../../../../../_theory_nbs_/theory.ipynb\">proveit</a>.<a class=\"ProveItLink\" href=\"../../../../../_theory_nbs_/theory.ipynb\">numbers</a>.<a class=\"ProveItLink\" href=\"../../../../_theory_nbs_/theory.ipynb\">number_sets</a>.<a class=\"ProveItLink\" href=\"../../theory.ipynb\">real_numbers</a>.<a class=\"ProveItLink\" href=\"../../theorems.ipynb#nonzero_if_in_real_nonzero\">nonzero_if_in_real_nonzero</a> theorem\n",
    "========"
   ]
  },
  {
   "cell_type": "code",
   "execution_count": 1,
   "metadata": {},
   "outputs": [],
   "source": [
    "import proveit\n",
    "theory = proveit.Theory() # the theorem's theory"
   ]
  },
  {
   "cell_type": "code",
   "execution_count": 2,
   "metadata": {},
   "outputs": [
    {
     "data": {
      "text/html": [
       "With these <a href=\"allowed_presumptions.txt\">allowed</a>/<a href=\"disallowed_presumptions.txt\">disallowed</a> theorem/theory presumptions (e.g., to avoid circular dependencies), we begin our proof of<br><strong id=\"nonzero_if_in_real_nonzero\">nonzero_if_in_real_nonzero:</strong> <a class=\"ProveItLink\" href=\"../../../__pv_it/theorems/1a2b5e2421184ca044796d0e3c9d6495246f69ea0/expr.ipynb\"><img src=\"data:image/png;base64,iVBORw0KGgoAAAANSUhEUgAAAIkAAAAVCAMAAABFXj3DAAAASFBMVEX///8AAAAAAAAAAAAAAAAA\n",
       "AAAAAAAAAAAAAAAAAAAAAAAAAAAAAAAAAAAAAAAAAAAAAAAAAAAAAAAAAAAAAAAAAAAAAAAAAACC\n",
       "gUnDAAAAF3RSTlMAq1RmmUTNIjK7EInv3Xah18O15/Xp87zmPDoAAAAJcEhZcwAADsQAAA7EAZUr\n",
       "DhsAAAI/SURBVEjHvVaLtpwgDBQIrwDp497W///TkgCurrrurT1lz8FFkQyTycg0/dvm/9tLF430\n",
       "xQTAg5uWuFfLWJvbQHS6mBDiepQSgfBBHBrsuO9uk4TuakYMq4GrBGKRqK5SFQYpPt6mBK5YDWo1\n",
       "MEV4kbAGOhy5pW8jyZeUrGmPAkvPEj/X3vSNuPsquVrCrimZZhCaZmHAMYpcuOV0Pzl9CSRSGNKe\n",
       "5I0ScSARJhKDBFFRxNtIXGe3RiBFE5QFouy1fHxyv+hyTg2JlLBhPr0a3XsFwgt40rQrtdJIMPWB\n",
       "qdlX5hUlDyRy0XnQkexZ8ktyoBw9cjCqbqeK3NZgiuFAMha2O2oQbOMkzBKMjvQaSMVY16apvpH8\n",
       "kJHhcJi73I+QyF86SN4TiU0nuinW5l42ZvcmQDchqr/JYO0SAHz7DtULPUughOPsyEZrVMSNTn79\n",
       "bmpZZBCbk7Qq1qVbyTAVqvYrDkxLkgUJIaxy0zl5FkqU7WAlUvHzp2J0zxQaoaHn0TRf9bkDrSpU\n",
       "kV0YH4bL2fGRkVVOfvwE5kSSuUto6lYVEGoQuy1iDdORwjGHjQOoTrSRjdWBNSskEFMHNpjh2jG7\n",
       "2gmlzSGqcY2+oIRnJhqRy75iZt/KO0rTLTupbxBem85OOW9/pX3ZV0yWg0tI01on1iYcdfOiGTh3\n",
       "PfzSt9PnKbmmyofltipGeMf14tnBwlxQsjsHANlEhPKsM20duVRTCu98IfHsZFHw73bQTJ11Yr96\n",
       "IqWTg8nrMycD+QPysRFEYgZstAAAAABJRU5ErkJggg==\n",
       "\" style=\"display:inline;vertical-align:middle;\" /></a><br>(see <a class=\"ProveItLink\" href=\"../../../__pv_it/theorems/10467ce2336fc28cd1d78a329e95a0672272d1f00/dependencies.ipynb\">dependencies</a>)<br>"
      ],
      "text/plain": [
       "<IPython.core.display.HTML object>"
      ]
     },
     "metadata": {},
     "output_type": "display_data"
    }
   ],
   "source": [
    "%proving nonzero_if_in_real_nonzero"
   ]
  },
  {
   "cell_type": "code",
   "execution_count": null,
   "metadata": {},
   "outputs": [],
   "source": []
  }
 ],
 "metadata": {
  "kernelspec": {
   "display_name": "Python 3",
   "language": "python",
   "name": "python3"
  }
 },
 "nbformat": 4,
 "nbformat_minor": 0
}