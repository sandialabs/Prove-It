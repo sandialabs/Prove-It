{
 "cells": [
  {
   "cell_type": "markdown",
   "metadata": {},
   "source": [
    "Proof of <a class=\"ProveItLink\" href=\"../../../../../../_theory_nbs_/theory.ipynb\">proveit</a>.<a class=\"ProveItLink\" href=\"../../../../../_theory_nbs_/theory.ipynb\">numbers</a>.<a class=\"ProveItLink\" href=\"../../../../_theory_nbs_/theory.ipynb\">number_sets</a>.<a class=\"ProveItLink\" href=\"../../theory.ipynb\">real_numbers</a>.<a class=\"ProveItLink\" href=\"../../theorems.ipynb#e_is_real_pos\">e_is_real_pos</a> theorem\n",
    "========"
   ]
  },
  {
   "cell_type": "code",
   "execution_count": 1,
   "metadata": {},
   "outputs": [],
   "source": [
    "import proveit\n",
    "theory = proveit.Theory() # the theorem's theory"
   ]
  },
  {
   "cell_type": "code",
   "execution_count": 2,
   "metadata": {},
   "outputs": [
    {
     "data": {
      "text/html": [
       "With these <a href=\"allowed_presumptions.txt\">allowed</a>/<a href=\"disallowed_presumptions.txt\">disallowed</a> theorem/theory presumptions (e.g., to avoid circular dependencies), we begin our proof of<br><strong id=\"e_is_real_pos\">e_is_real_pos:</strong> <a class=\"ProveItLink\" href=\"../../../__pv_it/theorems/7afcc24359c2398da237adc3ba003c7be4e9ae440/expr.ipynb\"><img src=\"data:image/png;base64,iVBORw0KGgoAAAANSUhEUgAAAD4AAAATBAMAAAA63aOfAAAAMFBMVEX///8AAAAAAAAAAAAAAAAA\n",
       "AAAAAAAAAAAAAAAAAAAAAAAAAAAAAAAAAAAAAAAAAAAv3aB7AAAAD3RSTlMAEKvv3ZlUZiK7Mol2\n",
       "RM0NpfRjAAAACXBIWXMAAA7EAAAOxAGVKw4bAAAA20lEQVQoz2NgwAMCGPCDCeTIsz+e+c95Oh79\n",
       "nBwKvOoT8clvYJiwiIF15kzLmdNxyEfwYeo/6eLyAC7PCZcXMoF4895BJP2KQjB5RpN0IxCb4yGS\n",
       "+VzTXsDkmRwY+gWANF8DQt7O30cAFn78BQycBSB5JPdtL3wA563/////BiC92AUIJkDNn1iOkM/o\n",
       "6AAZJonsv6WcAjAe/wEIzYIsz7oC7nVWQwYGkNN4DiDJM044DuMxOtceAUs9Q8gHMJRzXoAb4P8G\n",
       "TAvNFYDF388GznnfMML99hSXBxiCAAmRP9puw21eAAAAAElFTkSuQmCC\n",
       "\" style=\"display:inline;vertical-align:middle;\" /></a><br>(see <a class=\"ProveItLink\" href=\"../../../__pv_it/theorems/6818ab25f1ee24756174470ed42f7632064562340/dependencies.ipynb\">dependencies</a>)<br>"
      ],
      "text/plain": [
       "<IPython.core.display.HTML object>"
      ]
     },
     "metadata": {},
     "output_type": "display_data"
    }
   ],
   "source": [
    "%proving e_is_real_pos"
   ]
  },
  {
   "cell_type": "code",
   "execution_count": null,
   "metadata": {},
   "outputs": [],
   "source": []
  }
 ],
 "metadata": {
  "kernelspec": {
   "display_name": "Python 3",
   "language": "python",
   "name": "python3"
  }
 },
 "nbformat": 4,
 "nbformat_minor": 0
}