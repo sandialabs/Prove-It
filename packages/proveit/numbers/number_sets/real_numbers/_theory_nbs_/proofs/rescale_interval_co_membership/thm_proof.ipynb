{
 "cells": [
  {
   "cell_type": "markdown",
   "metadata": {},
   "source": [
    "Proof of <a class=\"ProveItLink\" href=\"../../../../../../_theory_nbs_/theory.ipynb\">proveit</a>.<a class=\"ProveItLink\" href=\"../../../../../_theory_nbs_/theory.ipynb\">numbers</a>.<a class=\"ProveItLink\" href=\"../../../../_theory_nbs_/theory.ipynb\">number_sets</a>.<a class=\"ProveItLink\" href=\"../../theory.ipynb\">real_numbers</a>.<a class=\"ProveItLink\" href=\"../../theorems.ipynb#rescale_interval_co_membership\">rescale_interval_co_membership</a> theorem\n",
    "========"
   ]
  },
  {
   "cell_type": "code",
   "execution_count": 1,
   "metadata": {},
   "outputs": [],
   "source": [
    "import proveit\n",
    "theory = proveit.Theory() # the theorem's theory"
   ]
  },
  {
   "cell_type": "code",
   "execution_count": 2,
   "metadata": {},
   "outputs": [
    {
     "data": {
      "text/html": [
       "With these <a href=\"allowed_presumptions.txt\">allowed</a>/<a href=\"disallowed_presumptions.txt\">disallowed</a> theorem/theory presumptions (e.g., to avoid circular dependencies), we begin our proof of<br><strong id=\"rescale_interval_co_membership\">rescale_interval_co_membership:</strong> <a class=\"ProveItLink\" href=\"../../../__pv_it/theorems/4433f1f33ae0594d6531362e979b1fdd107d88ce0/expr.ipynb\"><img src=\"data:image/png;base64,iVBORw0KGgoAAAANSUhEUgAAAWAAAAAZBAMAAAD9FenCAAAAMFBMVEX///8AAAAAAAAAAAAAAAAA\n",
       "AAAAAAAAAAAAAAAAAAAAAAAAAAAAAAAAAAAAAAAAAAAv3aB7AAAAD3RSTlMAq1RmmUTNIjK7EInv\n",
       "3XZ/CtNrAAAACXBIWXMAAA7EAAAOxAGVKw4bAAAEx0lEQVRYw81YXWgcVRQ+uzuzOz+b2aAgtkEZ\n",
       "UHwQLEs3VM1DuiW1rQ/GxYoPRtroi7Rg2bwIBVNWEF8azGIpuvGHeShCDbJLg/1RlLVFVEQJpWqN\n",
       "LkxMMdLSJSAayUPxnHvvzNzZSbLTQLUXzt27d+93891zv3PmTADitntaZfi/m9W6GH/xKNwOrXBL\n",
       "CGeEdbbIFV2/HHPHsoe+NYR/E9bZ9nVOfBx3x30eugC99HFfLMIJ+kjmu65MNrhFJZjfAGHj3VmO\n",
       "ZOgCPEaTL8YirJTwI9099D4QFm0HN+LhdFEgDzLCr5LeqrEIa3Qbh7uvHBIWbf0bIZyzBbKfEU47\n",
       "AKYdT8N0xFPdVzaFRVvW4dJ4r/VjfML7HYEkK0AKlZGOGXSFWLGXHOW22u0yEauHnJvx8Gcekgwp\n",
       "fNdqfRuTcLbV+rXRdaHS4AZm+xE/ctqbj+LdmCzEX3ZkSXy+UPHTYd+iK4bS7PPtOziSDAnvAZiK\n",
       "SVipgO7IN/yWlAFCbiTLXITH/UPAvPsEQGo0HOJIeNxW/Ah6rqyv8JE0a/zt1MsMmeKXPAaZXg+h\n",
       "HQhxfOj0jkMyYVw4Jv+e8Aav4+5F70uPLawB33tzD8N2505USjOc0ZHwL5D1vGpcAGWWD6XZ5AqN\n",
       "CUmGhHXHLPk79Pkjbb5Wskw405AfHFOB6t7YdDwgnMBVI77fS9yedLiDqK/ALrbpEnUowtbPgrDC\n",
       "XVqn3ZUlOiS7kBXwscoo5BoMSYaEk64Uc1/7o52oIcuCAVcmvMX3jrJH9nAWF6edDsLf8K+X+Adz\n",
       "tkoeNqqSh7P8Sw/dD47r3HdilmHxDPtthlSbIu4HsZsePEOHvzFPf9ZccNljBQlfLcqE0ynkb105\n",
       "shsWuCSMmWv0IJlsbw5yo5CEcUNWj7oMH6Jz2I3PSoTrbrAGx9v9kZyG8a4ISUaET2F6NX7Slonh\n",
       "nEUEf9CaJ1kgmZn38zJh8wE8z2Ki+gL3UgI+Kk8S4evOFUh6R9Ndbn8iTU+dxxNNwNtOMVhbIpzD\n",
       "/T1F1m24K1k2iKQ0m6ugthmSjAi/gjGnFDW6LT1PkahUjcpeRlh5pxoqfjJfYJfX3Yqa54R3wgQN\n",
       "jsE2UL2lXgbCFHHWC5x/TjRVW2Q7SNsBYUwGZsU/afKSwuQszybyejHIlUQ4USHNWb1Mi0ovF+C2\n",
       "Wq1mW5b5VLhau5udGbPMgVrtTST8Jcxz6e8AzSOszXIzZwY9WRvD7v1bSS3MbcamZ4Ms8Wnhqp+s\n",
       "7z079gf0zEF4tm9IIMm88rJe1gdw9xxkbUYIjjIPW+qIEy0vJ6CsMVcljGU4htKEJTgfSAIuC4u2\n",
       "cSHoc+s9mh9cCzku1cPZ8uReZxp6nEdhGtIlaLAHBKa1T4qdhDPN05hzp7gkvtL+GjAaMIfysly5\n",
       "xOlfsyzqWvw01iuoPMLq0JYZmLC1YRf7zNCgk3kbZ5/5vXFiV8TDwyNtBw5XGOGnt17La+fhNYwj\n",
       "3a87aaSvVoVGqsLVCBvuGkiGDr9x2FI/XauV1nnjMM7V/AdHkvUng9+qoWQbtMgpViNswRpIhg4R\n",
       "Vp2gj/WKJAjzENodzB8R1tkWI4VY3He6RQ8dIpyS+pshzFJcqnS7vTW/FP2/hC5Va8Z/83+JC/8C\n",
       "lktGW6nmTwoAAAAASUVORK5CYII=\n",
       "\" style=\"display:inline;vertical-align:middle;\" /></a><br>(see <a class=\"ProveItLink\" href=\"../../../__pv_it/theorems/fae2f829791746574b4878055ecff8cb1a6294180/dependencies.ipynb\">dependencies</a>)<br>"
      ],
      "text/plain": [
       "<IPython.core.display.HTML object>"
      ]
     },
     "metadata": {},
     "output_type": "display_data"
    }
   ],
   "source": [
    "%proving rescale_interval_co_membership"
   ]
  },
  {
   "cell_type": "code",
   "execution_count": null,
   "metadata": {},
   "outputs": [],
   "source": []
  }
 ],
 "metadata": {
  "kernelspec": {
   "display_name": "Python 3",
   "language": "python",
   "name": "python3"
  }
 },
 "nbformat": 4,
 "nbformat_minor": 0
}