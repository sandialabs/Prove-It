{
 "cells": [
  {
   "cell_type": "markdown",
   "metadata": {},
   "source": [
    "Proof of <a class=\"ProveItLink\" href=\"../../../../../../_theory_nbs_/theory.ipynb\">proveit</a>.<a class=\"ProveItLink\" href=\"../../../../../_theory_nbs_/theory.ipynb\">numbers</a>.<a class=\"ProveItLink\" href=\"../../../../_theory_nbs_/theory.ipynb\">number_sets</a>.<a class=\"ProveItLink\" href=\"../../theory.ipynb\">real_numbers</a>.<a class=\"ProveItLink\" href=\"../../theorems.ipynb#real_neg_within_real_nonpos\">real_neg_within_real_nonpos</a> theorem\n",
    "========"
   ]
  },
  {
   "cell_type": "code",
   "execution_count": 1,
   "metadata": {},
   "outputs": [],
   "source": [
    "import proveit\n",
    "theory = proveit.Theory() # the theorem's theory"
   ]
  },
  {
   "cell_type": "code",
   "execution_count": 2,
   "metadata": {},
   "outputs": [
    {
     "data": {
      "text/html": [
       "With these <a href=\"allowed_presumptions.txt\">allowed</a>/<a href=\"disallowed_presumptions.txt\">disallowed</a> theorem/theory presumptions (e.g., to avoid circular dependencies), we begin our proof of<br><strong id=\"real_neg_within_real_nonpos\">real_neg_within_real_nonpos:</strong> <a class=\"ProveItLink\" href=\"../../../__pv_it/theorems/9f1cd6bd53f6cbdfc09ac215e09b30a6d7c986340/expr.ipynb\"><img src=\"data:image/png;base64,iVBORw0KGgoAAAANSUhEUgAAAFwAAAAUBAMAAADyykdqAAAAMFBMVEX///8AAAAAAAAAAAAAAAAA\n",
       "AAAAAAAAAAAAAAAAAAAAAAAAAAAAAAAAAAAAAAAAAAAv3aB7AAAAD3RSTlMAZs3vu90iq0QQiTKZ\n",
       "VHZ+Ip2vAAAACXBIWXMAAA7EAAAOxAGVKw4bAAABGElEQVQoz2NgIBJcSWBY9YqBaNUPGBgfcDgQ\n",
       "qVpEgIGBeQPDN+JUP7kAJPInMNgyCJn4q5oIYFcFk9sMUs2wfwJDIAODQzpDu8gE7OqhcrxeEyDK\n",
       "7YBCWQws3AUMW1yAIAFdOUSOgQOkHuiYv2AhngQFHKbD5LhrEqBeBQuhhBCfa2ho6Aa4crAcW/kE\n",
       "vgccBWAh9pkFSKq5tRKQTIfJsTEwrHozASy05RKyo6cmIDsGVQ4olKz69SWyQAUeOZAJgpNQBBQw\n",
       "5JBDzSGLZSJyNHEXICtHlQMLcR/wROKzFeCWg3jndAqyQAAeObDQFD5kGw/ikQMK5TAwCnggCTA1\n",
       "4JYDpTo3Bhf9CwgRTvdOnHLYAMcSWCLAAAAz/lh5Nax3ngAAAABJRU5ErkJggg==\n",
       "\" style=\"display:inline;vertical-align:middle;\" /></a><br>(see <a class=\"ProveItLink\" href=\"../../../__pv_it/theorems/75b4e9416b097a2458f0f3e83b0c93eba25fa88d0/dependencies.ipynb\">dependencies</a>)<br>"
      ],
      "text/plain": [
       "<IPython.core.display.HTML object>"
      ]
     },
     "metadata": {},
     "output_type": "display_data"
    }
   ],
   "source": [
    "%proving real_neg_within_real_nonpos"
   ]
  },
  {
   "cell_type": "code",
   "execution_count": null,
   "metadata": {},
   "outputs": [],
   "source": []
  }
 ],
 "metadata": {
  "kernelspec": {
   "display_name": "Python 3",
   "language": "python",
   "name": "python3"
  }
 },
 "nbformat": 4,
 "nbformat_minor": 0
}