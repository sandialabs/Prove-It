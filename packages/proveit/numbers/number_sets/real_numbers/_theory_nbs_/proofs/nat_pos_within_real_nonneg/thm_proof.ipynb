{
 "cells": [
  {
   "cell_type": "markdown",
   "metadata": {},
   "source": [
    "Proof of <a class=\"ProveItLink\" href=\"../../../../../../_theory_nbs_/theory.ipynb\">proveit</a>.<a class=\"ProveItLink\" href=\"../../../../../_theory_nbs_/theory.ipynb\">numbers</a>.<a class=\"ProveItLink\" href=\"../../../../_theory_nbs_/theory.ipynb\">number_sets</a>.<a class=\"ProveItLink\" href=\"../../theory.ipynb\">real_numbers</a>.<a class=\"ProveItLink\" href=\"../../theorems.ipynb#nat_pos_within_real_nonneg\">nat_pos_within_real_nonneg</a> theorem\n",
    "========"
   ]
  },
  {
   "cell_type": "code",
   "execution_count": 1,
   "metadata": {},
   "outputs": [],
   "source": [
    "import proveit\n",
    "theory = proveit.Theory() # the theorem's theory"
   ]
  },
  {
   "cell_type": "code",
   "execution_count": 2,
   "metadata": {},
   "outputs": [
    {
     "data": {
      "text/html": [
       "With these <a href=\"allowed_presumptions.txt\">allowed</a>/<a href=\"disallowed_presumptions.txt\">disallowed</a> theorem/theory presumptions (e.g., to avoid circular dependencies), we begin our proof of<br><strong id=\"nat_pos_within_real_nonneg\">nat_pos_within_real_nonneg:</strong> <a class=\"ProveItLink\" href=\"../../../__pv_it/theorems/b394edea865740693de84b691227147ba9506e8b0/expr.ipynb\"><img src=\"data:image/png;base64,iVBORw0KGgoAAAANSUhEUgAAAFwAAAAUBAMAAADyykdqAAAAMFBMVEX///8AAAAAAAAAAAAAAAAA\n",
       "AAAAAAAAAAAAAAAAAAAAAAAAAAAAAAAAAAAAAAAAAAAv3aB7AAAAD3RSTlMAEN27zYnvRFSrImZ2\n",
       "MpmnAiL6AAAACXBIWXMAAA7EAAAOxAGVKw4bAAABbklEQVQoz2NgIAJcLgBToUeRBflwKmcMbgCS\n",
       "3AfYDZAEmfGYf3gDAwPbBYZfRCpn2HyAYb0AQwaD0GcTAYawbwXYlG9JtndK3gBhb1twX4BBm4HB\n",
       "gn0CA+MH7KYbrGSo3CwAYomaMwCV5zAwTFoQzcCQwPDY2MzYeAO68qUMzLwTgIx1cxlAjvnBwDDD\n",
       "gGUBgwIO05cy8C1wYGBYCVQN9eqsPVwOqMp5jJSUlC7AlRswSL4CCx8AOpthFueFoyjKeV0XIJnO\n",
       "KTiBQRDCCz0H9MYsBgPmAmTlQguQHXO5ZQGK+2Yx3GNUVECK1elIbl/m9OkgA5py7obmBCQBB2Sv\n",
       "7hYBpRljIFgAU84wkRNJOTjg4MqZpTegm84gyaiA4HOhKOd9YIihnPcAclJTQAn3t4tRldsC8Vlk\n",
       "5a9RlAvzoLrGAxQoSN5jYClAKF/HwL3BHFn1lW9AkxmRlTNaFiJSpBWDsX8D/rzGHgxLBBgAALtX\n",
       "XYRkPiZyAAAAAElFTkSuQmCC\n",
       "\" style=\"display:inline;vertical-align:middle;\" /></a><br>(see <a class=\"ProveItLink\" href=\"../../../__pv_it/theorems/55e6a946ccf74f1f2ff22b9fb557846e646df5900/dependencies.ipynb\">dependencies</a>)<br>"
      ],
      "text/plain": [
       "<IPython.core.display.HTML object>"
      ]
     },
     "metadata": {},
     "output_type": "display_data"
    },
    {
     "name": "stdout",
     "output_type": "stream",
     "text": [
      "nat_pos_within_real_nonneg may now be readily provable (assuming required theorems are usable).  Simply execute \"%qed\".\n"
     ]
    }
   ],
   "source": [
    "%proving nat_pos_within_real_nonneg"
   ]
  },
  {
   "cell_type": "code",
   "execution_count": null,
   "metadata": {},
   "outputs": [],
   "source": []
  }
 ],
 "metadata": {
  "kernelspec": {
   "display_name": "Python 3",
   "language": "python",
   "name": "python3"
  }
 },
 "nbformat": 4,
 "nbformat_minor": 0
}