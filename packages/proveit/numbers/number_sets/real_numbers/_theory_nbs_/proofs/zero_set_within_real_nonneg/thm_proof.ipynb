{
 "cells": [
  {
   "cell_type": "markdown",
   "metadata": {},
   "source": [
    "Proof of <a class=\"ProveItLink\" href=\"../../../../../../_theory_nbs_/theory.ipynb\">proveit</a>.<a class=\"ProveItLink\" href=\"../../../../../_theory_nbs_/theory.ipynb\">numbers</a>.<a class=\"ProveItLink\" href=\"../../../../_theory_nbs_/theory.ipynb\">number_sets</a>.<a class=\"ProveItLink\" href=\"../../theory.ipynb\">real_numbers</a>.<a class=\"ProveItLink\" href=\"../../theorems.ipynb#zero_set_within_real_nonneg\">zero_set_within_real_nonneg</a> theorem\n",
    "========"
   ]
  },
  {
   "cell_type": "code",
   "execution_count": 1,
   "metadata": {},
   "outputs": [],
   "source": [
    "import proveit\n",
    "theory = proveit.Theory() # the theorem's theory"
   ]
  },
  {
   "cell_type": "code",
   "execution_count": 2,
   "metadata": {},
   "outputs": [
    {
     "data": {
      "text/html": [
       "With these <a href=\"allowed_presumptions.txt\">allowed</a>/<a href=\"disallowed_presumptions.txt\">disallowed</a> theorem/theory presumptions (e.g., to avoid circular dependencies), we begin our proof of<br><strong id=\"zero_set_within_real_nonneg\">zero_set_within_real_nonneg:</strong> <a class=\"ProveItLink\" href=\"../../../__pv_it/theorems/c3f4bb6f1f6d240bfe454734adca1feb024029f60/expr.ipynb\"><img src=\"data:image/png;base64,iVBORw0KGgoAAAANSUhEUgAAAF0AAAAYBAMAAABqyuwvAAAAMFBMVEX///8AAAAAAAAAAAAAAAAA\n",
       "AAAAAAAAAAAAAAAAAAAAAAAAAAAAAAAAAAAAAAAAAAAv3aB7AAAAD3RSTlMAEER2zVSJ3Zki72ar\n",
       "MruaaVGaAAAACXBIWXMAAA7EAAAOxAGVKw4bAAABp0lEQVQ4y2NgIALwPgJTbMkJDMQBsacgcjOD\n",
       "HpHqGZhfA4m1DPwTgBSjEkRs6gQ8GrgfM3B+ZOAKADJNFKGuPCeArsjr3Zeq11D2St6PDOwbGBhY\n",
       "PwJ5aRZAw/kOoJvKx3mA6fRDEIsxTwGonssA6OsCBgaWAMZKCAtdfQLDgztABmfPBZB7+AMgqrYz\n",
       "MOThUt/JAlR+5gLcvyBVbxgY4gUQ6pmfl5eXX4Cp52NgPAEOCmMGHQaI+h8MDPcD4Op53SYgmX9Q\n",
       "hoFRABpfjRD1jCD1G+DqxScguYf3qSeqGzkcGDi/AdUbMDAvgIgcQnL/kvpitFCetQGiPoGB8ytE\n",
       "xAFJffZGII/3HRC8hAjNcQIGLlC9PjBoZVzBzj+AHD4Pd6OlvT4BsH/jgUGbogAS4URRf4MPzT2g\n",
       "WH3HwLBfABLTQFCArJ7j5gNU9aBQ2cXA0AJkQf3bjaye8YE1pnr2AMa1iPhlUUCob2DYzaeAoZ6x\n",
       "zeYCQj3jG0V4+vw3ge/JVwz1aCymPGh6wAawqMef1RYgxTQRgBPuPKkNROXlGUch9LSjRCgGAOpe\n",
       "dA4TMJ/5AAAAAElFTkSuQmCC\n",
       "\" style=\"display:inline;vertical-align:middle;\" /></a><br>(see <a class=\"ProveItLink\" href=\"../../../__pv_it/theorems/789a0b333359710afc8b17bc6c8a1136864de2ce0/dependencies.ipynb\">dependencies</a>)<br>"
      ],
      "text/plain": [
       "<IPython.core.display.HTML object>"
      ]
     },
     "metadata": {},
     "output_type": "display_data"
    },
    {
     "name": "stdout",
     "output_type": "stream",
     "text": [
      "zero_set_within_real_nonneg may now be readily provable (assuming required theorems are usable).  Simply execute \"%qed\".\n"
     ]
    }
   ],
   "source": [
    "%proving zero_set_within_real_nonneg"
   ]
  },
  {
   "cell_type": "code",
   "execution_count": null,
   "metadata": {},
   "outputs": [],
   "source": []
  }
 ],
 "metadata": {
  "kernelspec": {
   "display_name": "Python 3",
   "language": "python",
   "name": "python3"
  }
 },
 "nbformat": 4,
 "nbformat_minor": 0
}