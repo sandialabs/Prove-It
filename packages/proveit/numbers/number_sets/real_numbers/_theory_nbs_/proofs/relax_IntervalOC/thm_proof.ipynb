{
 "cells": [
  {
   "cell_type": "markdown",
   "metadata": {},
   "source": [
    "Proof of <a class=\"ProveItLink\" href=\"../../../../../../_theory_nbs_/theory.ipynb\">proveit</a>.<a class=\"ProveItLink\" href=\"../../../../../_theory_nbs_/theory.ipynb\">numbers</a>.<a class=\"ProveItLink\" href=\"../../../../_theory_nbs_/theory.ipynb\">number_sets</a>.<a class=\"ProveItLink\" href=\"../../theory.ipynb\">real_numbers</a>.<a class=\"ProveItLink\" href=\"../../theorems.ipynb#relax_IntervalOC\">relax_IntervalOC</a> theorem\n",
    "========"
   ]
  },
  {
   "cell_type": "code",
   "execution_count": 1,
   "metadata": {},
   "outputs": [],
   "source": [
    "import proveit\n",
    "theory = proveit.Theory() # the theorem's theory"
   ]
  },
  {
   "cell_type": "code",
   "execution_count": 2,
   "metadata": {},
   "outputs": [
    {
     "data": {
      "text/html": [
       "With these <a href=\"allowed_presumptions.txt\">allowed</a>/<a href=\"disallowed_presumptions.txt\">disallowed</a> theorem/theory presumptions (e.g., to avoid circular dependencies), we begin our proof of<br><strong id=\"relax_IntervalOC\">relax_IntervalOC:</strong> <a class=\"ProveItLink\" href=\"../../../__pv_it/theorems/b79210494d2cb843c2fd1cda9e8d064b4e1aad780/expr.ipynb\"><img src=\"data:image/png;base64,iVBORw0KGgoAAAANSUhEUgAAAPoAAAAZBAMAAADqEi4iAAAAMFBMVEX///8AAAAAAAAAAAAAAAAA\n",
       "AAAAAAAAAAAAAAAAAAAAAAAAAAAAAAAAAAAAAAAAAAAv3aB7AAAAD3RSTlMAq1RmmUTNIjK7EInv\n",
       "3XZ/CtNrAAAACXBIWXMAAA7EAAAOxAGVKw4bAAAD4ElEQVRIx7WWW2gTWRjH/5nMJDOTZBpWELUo\n",
       "ERcfBGWoN9oHjdTbizWsIqzKWn0RhZXpiyCsMoIIYrFBKTjemAcRtEiC4m1BiMqywrISZPFSDEy1\n",
       "2GXF0Bet+CB7LunkTBo6VezAXM5hzvl9l/855wPCr7kVC9NwGZWnU/mtG9N0Lf3O9HizzvcvGp22\n",
       "YU0H/XWzzluNHYkcfuH0NH0tCKFH6EsyQ+FSMYyuXygzumEy+jratzeELufIKxauvSsI9T2WZXTs\n",
       "Z/SjNFv5ELpKI3QoPPCd4fSWDKcvY/SYS1qZsLxTS2+E00sBcV2sPJtI3+VyetKl9ChJQCxUdUun\n",
       "JD5J/EU54Dbz/T5XHWImm/XvSuWvUHqyUnlVDKXL5Be9Oucki9JBV4h8vHXE443d1R8YPZFm9I3A\n",
       "uVC6bENzA24KEmxPjyuK+CNjyNsUVDKh77S0z1zzH92CRelRHtEexMdHQ91X+1h8e80BkU5+6QlY\n",
       "tHz84zhR7Pj4FNHPSqx2ZwR3iVvQH0Euc6s/I+lRulRidM2ljdrVSk0YcnJGAneK4m5zrp69U7P7\n",
       "ofsGR4p1epJMZGM9d4RktPKyRpdHkeLTyd1oKVKgOsrokieI7jG519pErwY6PJG+xPdF3kgfvsFJ\n",
       "O0gHnvAQ5wXfk3kU+AhixK4MpSulmpZXkcfAqjvU4C9DLtuFCP2/rEiPRYkxxvCRDXjDJiHT33xH\n",
       "c99XnROIPJQxXKONskAveFjtL/fNLNhSmdNvkMWsP1fHKHTQyF5lazURv2SK9MRCIrqRSH4P9+kg\n",
       "cN3qo/T37rBP1zzo/ZESWJCrIj2DmZKlU7pNNMBUl+f038hgOavSnUIzo91bGF0+nw+cMvEH5GFq\n",
       "nq0wo34mCUIv/TqDFT6drCLp0+WSwjavWKZO1zzpHxkFMlHE1LKMTlcnpUdsmjEjzZIop1c4jpMx\n",
       "jMRPwTNuFoubheg+xzmN+cAfGOJKWePT1TL0Lu/HNp742dvrmp93t+dfpAZJb2sn321SufoJW7C0\n",
       "DhLaFiQzJ5nvhrLDnXjC9sJSWVhPQB/DGZrfUTz06Qgc5Mq9xp12Uf2ExWHhfE9afVvcAaTcdr6r\n",
       "kBX3e7aRHi/dRpZvTUR1f6ofOvQiBkkCffqyyU+ZokDvFOhK55Kb6M2oXR7iZ0l729vi5fUTfO/a\n",
       "UXVxyKYCsbC17Z2pPsSxan3F0e5J6LpXp7NjNVjbcJ0MOE5uktpGv+f0Q6m5IbGnT9fzk9ENobZh\n",
       "dgboijv1ymoDf20P0nGk2fj7jXXdqxxGJtR10a+o6xLcUrOBPg017a/N6nkhTu3eN9bzj/4HmiMA\n",
       "LZvJV7EAAAAASUVORK5CYII=\n",
       "\" style=\"display:inline;vertical-align:middle;\" /></a><br>(see <a class=\"ProveItLink\" href=\"../../../__pv_it/theorems/68d07c6499ba618c96839bc1d08a252aa68743aa0/dependencies.ipynb\">dependencies</a>)<br>"
      ],
      "text/plain": [
       "<IPython.core.display.HTML object>"
      ]
     },
     "metadata": {},
     "output_type": "display_data"
    }
   ],
   "source": [
    "%proving relax_IntervalOC"
   ]
  },
  {
   "cell_type": "code",
   "execution_count": null,
   "metadata": {},
   "outputs": [],
   "source": []
  }
 ],
 "metadata": {
  "kernelspec": {
   "display_name": "Python 3",
   "language": "python",
   "name": "python3"
  }
 },
 "nbformat": 4,
 "nbformat_minor": 0
}