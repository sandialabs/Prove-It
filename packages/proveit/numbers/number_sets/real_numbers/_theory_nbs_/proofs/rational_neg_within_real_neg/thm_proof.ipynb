{
 "cells": [
  {
   "cell_type": "markdown",
   "metadata": {},
   "source": [
    "Proof of <a class=\"ProveItLink\" href=\"../../../../../../_theory_nbs_/theory.ipynb\">proveit</a>.<a class=\"ProveItLink\" href=\"../../../../../_theory_nbs_/theory.ipynb\">numbers</a>.<a class=\"ProveItLink\" href=\"../../../../_theory_nbs_/theory.ipynb\">number_sets</a>.<a class=\"ProveItLink\" href=\"../../theory.ipynb\">real_numbers</a>.<a class=\"ProveItLink\" href=\"../../theorems.ipynb#rational_neg_within_real_neg\">rational_neg_within_real_neg</a> theorem\n",
    "========"
   ]
  },
  {
   "cell_type": "code",
   "execution_count": 1,
   "metadata": {},
   "outputs": [],
   "source": [
    "import proveit\n",
    "theory = proveit.Theory() # the theorem's theory"
   ]
  },
  {
   "cell_type": "code",
   "execution_count": 2,
   "metadata": {},
   "outputs": [
    {
     "data": {
      "text/html": [
       "With these <a href=\"allowed_presumptions.txt\">allowed</a>/<a href=\"disallowed_presumptions.txt\">disallowed</a> theorem/theory presumptions (e.g., to avoid circular dependencies), we begin our proof of<br><strong id=\"rational_neg_within_real_neg\">rational_neg_within_real_neg:</strong> <a class=\"ProveItLink\" href=\"../../../__pv_it/theorems/166d7560fcdc666cc771ac2f94f98641d0caf3420/expr.ipynb\"><img src=\"data:image/png;base64,iVBORw0KGgoAAAANSUhEUgAAAFUAAAASBAMAAADYho+9AAAAMFBMVEX///8AAAAAAAAAAAAAAAAA\n",
       "AAAAAAAAAAAAAAAAAAAAAAAAAAAAAAAAAAAAAAAAAAAv3aB7AAAAD3RSTlMAEIm7mSJ2q+8y3WZE\n",
       "zVRISQrpAAAACXBIWXMAAA7EAAAOxAGVKw4bAAABJklEQVQoz2NgYBAyNnZlwA72Ntvfat6A4LNV\n",
       "TGBdroBDsUE4w/HNAnCutjYDw5HDDJzGQGCKoTaIgZmzgGEySDKAgVPhAgMDM3cCDnODGFgCLsB4\n",
       "zIIFDAxMEy4gq2CzWrVq1QS4WgOYuDAn0Ei+B55ISjkvBSCZyw4yDAIm8QD9ybNhH5JaqQBkN0x+\n",
       "C+ce434ANCnhNZLaGiT3Rtz6lQjnBfGBzc1BUnsB2W+7ZRE8Zoh7HZGcW4CsllkaERfMoujhwIqi\n",
       "ltPBEM7jgYTvAyQ3LEAJX89gBNcbGG/HDyMHrzeKWmE2hCOYQOnBAVkt7wGE2hAG7g02CKmQv/c9\n",
       "USKW0fwgIp2ZMhjfR3JgJXpq4FGGxTEGYE9If3mAgUjw3BY5QeMEADBMTF5Zx/ZHAAAAAElFTkSu\n",
       "QmCC\n",
       "\" style=\"display:inline;vertical-align:middle;\" /></a><br>(see <a class=\"ProveItLink\" href=\"../../../__pv_it/theorems/510f259f9fab6de13086be01c0db803a3785d6540/dependencies.ipynb\">dependencies</a>)<br>"
      ],
      "text/plain": [
       "<IPython.core.display.HTML object>"
      ]
     },
     "metadata": {},
     "output_type": "display_data"
    }
   ],
   "source": [
    "%proving rational_neg_within_real_neg"
   ]
  },
  {
   "cell_type": "code",
   "execution_count": null,
   "metadata": {},
   "outputs": [],
   "source": []
  }
 ],
 "metadata": {
  "kernelspec": {
   "display_name": "Python 3",
   "language": "python",
   "name": "python3"
  }
 },
 "nbformat": 4,
 "nbformat_minor": 0
}