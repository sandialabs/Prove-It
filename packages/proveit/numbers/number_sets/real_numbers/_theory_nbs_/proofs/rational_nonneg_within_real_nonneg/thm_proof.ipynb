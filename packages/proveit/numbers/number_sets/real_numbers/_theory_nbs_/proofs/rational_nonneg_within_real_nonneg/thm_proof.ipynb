{
 "cells": [
  {
   "cell_type": "markdown",
   "metadata": {},
   "source": [
    "Proof of <a class=\"ProveItLink\" href=\"../../../../../../_theory_nbs_/theory.ipynb\">proveit</a>.<a class=\"ProveItLink\" href=\"../../../../../_theory_nbs_/theory.ipynb\">numbers</a>.<a class=\"ProveItLink\" href=\"../../../../_theory_nbs_/theory.ipynb\">number_sets</a>.<a class=\"ProveItLink\" href=\"../../theory.ipynb\">real_numbers</a>.<a class=\"ProveItLink\" href=\"../../theorems.ipynb#rational_nonneg_within_real_nonneg\">rational_nonneg_within_real_nonneg</a> theorem\n",
    "========"
   ]
  },
  {
   "cell_type": "code",
   "execution_count": 1,
   "metadata": {},
   "outputs": [],
   "source": [
    "import proveit\n",
    "theory = proveit.Theory() # the theorem's theory"
   ]
  },
  {
   "cell_type": "code",
   "execution_count": 2,
   "metadata": {},
   "outputs": [
    {
     "data": {
      "text/html": [
       "With these <a href=\"allowed_presumptions.txt\">allowed</a>/<a href=\"disallowed_presumptions.txt\">disallowed</a> theorem/theory presumptions (e.g., to avoid circular dependencies), we begin our proof of<br><strong id=\"rational_nonneg_within_real_nonneg\">rational_nonneg_within_real_nonneg:</strong> <a class=\"ProveItLink\" href=\"../../../__pv_it/theorems/417637f9e31922975ac5f07fecb3d03548ded7ce0/expr.ipynb\"><img src=\"data:image/png;base64,iVBORw0KGgoAAAANSUhEUgAAAGYAAAAWBAMAAADA0/SQAAAAMFBMVEX///8AAAAAAAAAAAAAAAAA\n",
       "AAAAAAAAAAAAAAAAAAAAAAAAAAAAAAAAAAAAAAAAAAAv3aB7AAAAD3RSTlMAEIm7mSJ2q+8y3WZE\n",
       "zVRISQrpAAAACXBIWXMAAA7EAAAOxAGVKw4bAAABxklEQVQ4y2NggAJOGzDFpKbAgB1MPgCmlJKQ\n",
       "xITsQOQ2hsM49DAqPwCS3Ak8BkiCbNZAopOBPwCHJobkDQwMHBMYviKLcZsxsH5k4HiASw/D5gSG\n",
       "eAGGPpCjjI1doZpaOT8ycG1AVbi32f5WM1RsR8B8AYbVQCdVTGBdrgBx8QGgHo4ENNMNwhmObxYA\n",
       "e9mGAainjYFBW5uB4QjI46zuE0Bu40d3m0EQAzNnAZARUskActs/Bk6FCwwMzNwJDKzlE7CHAVAP\n",
       "SwBQUThQCyQMmAWBRjBNuMBYAlabxnAcGopWq1atmgDXY8AgDvY0WwJPAYMwJ9D9fA88GQWgceoI\n",
       "ieJLAUj2sAMNFoTwlFIEGCbxAMOEZ8M+NAdJBSC7bfJbFAcf4wb6mTPhNZqeGiT/RNz6lYgiGcQH\n",
       "tieH0xgITOHCF5DDYLcsKL2BFECsY4b4xxHVGnDYwvUwS6PGM7MoJNxQ9bCi6OF0MESR5YHED3pE\n",
       "LkCJH89gVFlvYDo4jpEBvFH0CLOhOo4JlN4c0PXwHkDoCWHg3mCDKh3y974nZg4zP4hI16YMxvfR\n",
       "HF/JnYCZV3iUYWkHK2BPSH95gIFE8Ny2eQMJygHtRnA6YVH1+QAAAABJRU5ErkJggg==\n",
       "\" style=\"display:inline;vertical-align:middle;\" /></a><br>(see <a class=\"ProveItLink\" href=\"../../../__pv_it/theorems/ec92e2d826c1efa93488bfcfa69c5111585d84df0/dependencies.ipynb\">dependencies</a>)<br>"
      ],
      "text/plain": [
       "<IPython.core.display.HTML object>"
      ]
     },
     "metadata": {},
     "output_type": "display_data"
    }
   ],
   "source": [
    "%proving rational_nonneg_within_real_nonneg"
   ]
  },
  {
   "cell_type": "code",
   "execution_count": null,
   "metadata": {},
   "outputs": [],
   "source": []
  }
 ],
 "metadata": {
  "kernelspec": {
   "display_name": "Python 3",
   "language": "python",
   "name": "python3"
  }
 },
 "nbformat": 4,
 "nbformat_minor": 0
}