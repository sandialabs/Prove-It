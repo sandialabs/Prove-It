{
 "cells": [
  {
   "cell_type": "markdown",
   "metadata": {},
   "source": [
    "Proof of <a class=\"ProveItLink\" href=\"../../../../../../_theory_nbs_/theory.ipynb\">proveit</a>.<a class=\"ProveItLink\" href=\"../../../../../_theory_nbs_/theory.ipynb\">numbers</a>.<a class=\"ProveItLink\" href=\"../../../../_theory_nbs_/theory.ipynb\">number_sets</a>.<a class=\"ProveItLink\" href=\"../../theory.ipynb\">real_numbers</a>.<a class=\"ProveItLink\" href=\"../../theorems.ipynb#interval_oc_lower_bound\">interval_oc_lower_bound</a> theorem\n",
    "========"
   ]
  },
  {
   "cell_type": "code",
   "execution_count": 1,
   "metadata": {},
   "outputs": [],
   "source": [
    "import proveit\n",
    "theory = proveit.Theory() # the theorem's theory"
   ]
  },
  {
   "cell_type": "code",
   "execution_count": 2,
   "metadata": {},
   "outputs": [
    {
     "data": {
      "text/html": [
       "With these <a href=\"allowed_presumptions.txt\">allowed</a>/<a href=\"disallowed_presumptions.txt\">disallowed</a> theorem/theory presumptions (e.g., to avoid circular dependencies), we begin our proof of<br><strong id=\"interval_oc_lower_bound\">interval_oc_lower_bound:</strong> <a class=\"ProveItLink\" href=\"../../../__pv_it/theorems/87e5955f885af0e388d9dec4d8ee1da626f383800/expr.ipynb\"><img src=\"data:image/png;base64,iVBORw0KGgoAAAANSUhEUgAAAN4AAAAZBAMAAACspI2IAAAAMFBMVEX///8AAAAAAAAAAAAAAAAA\n",
       "AAAAAAAAAAAAAAAAAAAAAAAAAAAAAAAAAAAAAAAAAAAv3aB7AAAAD3RSTlMAq1RmmUTNIjK7EInv\n",
       "3XZ/CtNrAAAACXBIWXMAAA7EAAAOxAGVKw4bAAADRElEQVRIx62WT2jTcBTHX9u0TdM2FgTBDaWg\n",
       "6EGUMGWyHbaOzSmIozjx4ESKHkRBycDjhAriZZMVhmgVRoRd5tDVDZzsIGVDFEQZOhAmHSlMJxuW\n",
       "XWTiQXy/lyb7NXNNhD5o8vvlfdNPfu+93x8AZ9tVUKEmJhc+upGloGZ2uMY81cFVY54c39p3weDF\n",
       "2G2PA8+FiOxAtW9RiHeMtS878FyImElVI3GVeLfwGsw48FyImAlKNe8R4gU0gHDcgedCxCxif+Dl\n",
       "YxLRGM+H3xRwqhcXImb7bH3fvMb1AgrV5/tC4Z1jfTqLmJ1kYa9f1s0K+WLgpFJd/wQGKEa8EwAP\n",
       "HXmbRPu5dlOs3LiEv/Nq6LfRG1s00wpF/RSONkW8XgiaehCvlBsHX7Rd53m8iCKVNFt3sIxMF65W\n",
       "0iwIc9S58cmUHIVWbTsmM0+8kBa2XoZ6Bi1mk3IYpnIcjxMxNzy23vDkNnivcSxrEKUXPRctSRo6\n",
       "6cU14nl1rhLe4q8jjaGXoVnneJyIuY0JaVRduoIXycB40sYD+MAufmN8kGphwW6ZYp/wp6jROoC8\n",
       "lQS/npGodHxJJTdgyKTJVbYkDpbq+HiO69AKtniCfx2e4DfPGbwJnPjSZ3GdYRbkxCiVVjg4rPA8\n",
       "JpLVnYE4uYP46Kk6yHg/tCWLN4y8OOzwqhX1It3z5AFj7MsYvD6UCwkRRwshxZfqJp7wKFOxXjOR\n",
       "D4ZFILcfnR0wwJpD0GjxnuM/6N55odx9tkjzwftrJO/HxULIGTwPZiCSlGOUDCHWmM1m47IcPl3B\n",
       "YyIAjAG5vTGWrKKR8TaLdxcHs/tl73erimkCSl363ga8R5Mb+9G4GmpG3zaIxPtpfLK/R9u0H4n5\n",
       "IJBbzIC0DkOYFFiDGYsXTdsXGH49u8ntfxF1sFsbg6jWhKVP+YPphJ3XF04JhpvVyxvxZ7OUgwVM\n",
       "i8nzJaotG+0cz99+aBIG4mKXDsEH2D/7LTfSaecJX1+tGG64D3CmYVURZ+B2aWM+sMdbGu0vlfu7\n",
       "sQOMZbPJKvs7uXvMDYCuFm+0Ci+k2nl+zfV5QigfVM5V8oL61rzlTecX33+cX6aNm1LJq8357No/\n",
       "zp8Svz/ors+fs38BJ+nRxEZMG9IAAAAASUVORK5CYII=\n",
       "\" style=\"display:inline;vertical-align:middle;\" /></a><br>(see <a class=\"ProveItLink\" href=\"../../../__pv_it/theorems/c9848305b2ce2575b85a84858bcf26dc2565544c0/dependencies.ipynb\">dependencies</a>)<br>"
      ],
      "text/plain": [
       "<IPython.core.display.HTML object>"
      ]
     },
     "metadata": {},
     "output_type": "display_data"
    }
   ],
   "source": [
    "%proving interval_oc_lower_bound"
   ]
  },
  {
   "cell_type": "code",
   "execution_count": null,
   "metadata": {},
   "outputs": [],
   "source": []
  }
 ],
 "metadata": {
  "kernelspec": {
   "display_name": "Python 3",
   "language": "python",
   "name": "python3"
  }
 },
 "nbformat": 4,
 "nbformat_minor": 0
}