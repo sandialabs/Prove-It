{
 "cells": [
  {
   "cell_type": "markdown",
   "metadata": {},
   "source": [
    "Proof of <a class=\"ProveItLink\" href=\"../../../../../../_theory_nbs_/theory.ipynb\">proveit</a>.<a class=\"ProveItLink\" href=\"../../../../../_theory_nbs_/theory.ipynb\">numbers</a>.<a class=\"ProveItLink\" href=\"../../../../_theory_nbs_/theory.ipynb\">number_sets</a>.<a class=\"ProveItLink\" href=\"../../theory.ipynb\">real_numbers</a>.<a class=\"ProveItLink\" href=\"../../theorems.ipynb#zero_is_nonneg_real\">zero_is_nonneg_real</a> theorem\n",
    "========"
   ]
  },
  {
   "cell_type": "code",
   "execution_count": 1,
   "metadata": {},
   "outputs": [],
   "source": [
    "import proveit\n",
    "theory = proveit.Theory() # the theorem's theory"
   ]
  },
  {
   "cell_type": "code",
   "execution_count": 2,
   "metadata": {},
   "outputs": [
    {
     "data": {
      "text/html": [
       "With these <a href=\"allowed_presumptions.txt\">allowed</a>/<a href=\"disallowed_presumptions.txt\">disallowed</a> theorem/theory presumptions (e.g., to avoid circular dependencies), we begin our proof of<br><strong id=\"zero_is_nonneg_real\">zero_is_nonneg_real:</strong> <a class=\"ProveItLink\" href=\"../../../__pv_it/theorems/ccaf55975764e172da9441d072f2daec6d8b45f20/expr.ipynb\"><img src=\"data:image/png;base64,iVBORw0KGgoAAAANSUhEUgAAAEgAAAAUBAMAAADcj2b4AAAAMFBMVEX///8AAAAAAAAAAAAAAAAA\n",
       "AAAAAAAAAAAAAAAAAAAAAAAAAAAAAAAAAAAAAAAAAAAv3aB7AAAAD3RSTlMAiXaZIs1UEN1mu6sy\n",
       "RO+L2jdBAAAACXBIWXMAAA7EAAAOxAGVKw4bAAABR0lEQVQoz2NgwAlOXQBTgooMeAC7VAKQ5FTg\n",
       "XYBPFYPWBAYGvgMMX/AqYpilwOBfwPAMi8zUV+sjXk2AsOc5nC9g6GRgYBQyQVO1wJvh9qwCEKtw\n",
       "LQNQ0SMGhjCGCgc0RY4MXDwbgAznPQwg674xcDYwMC7AUMTsEMDA4A1UA3E41wYGtu9gOaYVHa0I\n",
       "RQsYqsHOYFLg3cDAb8DA8w3E4w0qQJjEXb6BoRzCE1QuYKgHKvoJ4rgWIFl3KhXFnf4CDDyfQIwQ\n",
       "hJv8In6oM6Ar+ghiBCA5fGYpKO5WAQHEwHoBBl6QSTwvOjo6uqCKuConoJgEdDgbyOHsC5BM4jFY\n",
       "jqKIawEDJzgIGpDDycYLRRHnAwZmsHOUkBVVMaHa18ZQdwBEsybAFTkzcE5Yi6KoWGgPJI3tug5P\n",
       "BUsYVsUnYE08vFLQaMEAAIGcWZm8yehgAAAAAElFTkSuQmCC\n",
       "\" style=\"display:inline;vertical-align:middle;\" /></a><br>(see <a class=\"ProveItLink\" href=\"../../../__pv_it/theorems/d22d572736e93c9a40dbd3a37ca207f9e003e7ee0/dependencies.ipynb\">dependencies</a>)<br>"
      ],
      "text/plain": [
       "<IPython.core.display.HTML object>"
      ]
     },
     "metadata": {},
     "output_type": "display_data"
    },
    {
     "name": "stdout",
     "output_type": "stream",
     "text": [
      "zero_is_nonneg_real may now be readily provable (assuming required theorems are usable).  Simply execute \"%qed\".\n"
     ]
    }
   ],
   "source": [
    "%proving zero_is_nonneg_real"
   ]
  },
  {
   "cell_type": "code",
   "execution_count": null,
   "metadata": {},
   "outputs": [],
   "source": []
  }
 ],
 "metadata": {
  "kernelspec": {
   "display_name": "Python 3",
   "language": "python",
   "name": "python3"
  }
 },
 "nbformat": 4,
 "nbformat_minor": 0
}