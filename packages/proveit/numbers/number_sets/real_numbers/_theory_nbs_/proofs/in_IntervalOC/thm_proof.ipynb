{
 "cells": [
  {
   "cell_type": "markdown",
   "metadata": {},
   "source": [
    "Proof of <a class=\"ProveItLink\" href=\"../../../../../../_theory_nbs_/theory.ipynb\">proveit</a>.<a class=\"ProveItLink\" href=\"../../../../../_theory_nbs_/theory.ipynb\">numbers</a>.<a class=\"ProveItLink\" href=\"../../../../_theory_nbs_/theory.ipynb\">number_sets</a>.<a class=\"ProveItLink\" href=\"../../theory.ipynb\">real_numbers</a>.<a class=\"ProveItLink\" href=\"../../theorems.ipynb#in_IntervalOC\">in_IntervalOC</a> theorem\n",
    "========"
   ]
  },
  {
   "cell_type": "code",
   "execution_count": 1,
   "metadata": {},
   "outputs": [],
   "source": [
    "import proveit\n",
    "theory = proveit.Theory() # the theorem's theory"
   ]
  },
  {
   "cell_type": "code",
   "execution_count": 2,
   "metadata": {},
   "outputs": [
    {
     "data": {
      "text/html": [
       "With these <a href=\"allowed_presumptions.txt\">allowed</a>/<a href=\"disallowed_presumptions.txt\">disallowed</a> theorem/theory presumptions (e.g., to avoid circular dependencies), we begin our proof of<br><strong id=\"in_IntervalOC\">in_IntervalOC:</strong> <a class=\"ProveItLink\" href=\"../../../__pv_it/theorems/b72e9bedd237cdc384af365d7e3943e19337e7110/expr.ipynb\"><img src=\"data:image/png;base64,iVBORw0KGgoAAAANSUhEUgAAAPUAAAAXBAMAAAAhExTfAAAAMFBMVEX///8AAAAAAAAAAAAAAAAA\n",
       "AAAAAAAAAAAAAAAAAAAAAAAAAAAAAAAAAAAAAAAAAAAv3aB7AAAAD3RSTlMAq1RmmUTNIjK7EInv\n",
       "3XZ/CtNrAAAACXBIWXMAAA7EAAAOxAGVKw4bAAADeklEQVRIx61WT0gUYRR/7s7+m52d1YqghBgo\n",
       "AotiCSn0oCuWBZFJQhcjtzpEHmK8W2zH0MhDUpslE0hQe9jNICsoFiIIopAICmlhjMr0IJ4yPETv\n",
       "vW9mZ3ab0MM82G/fe7z3/b7v/ZsPwFeKeKv1alEtZ2tVPtBXT62q1SjiPXAa/+qJ3+4TdKDoqd7t\n",
       "4uU7M4ytpgAOkeK8T9j3PbVyxi2F04wNAwBXKEujPmF3emqllFtKagK7GY9hIKv5hF2qkhbKZb6x\n",
       "UqXtNwS2YkAQDxX2K91VwT25aDE7q4xeiFqDMAK/K5ff+oQtYanJS1uHp7jdBmz1UZIa500hnVna\n",
       "wNhxrPIjALfX3ja9Hmy6igRz5jEWKh18Dn+n9NiqKLxfRkEn7CAGaRAi9bZV9EL1ZnuedFwU3H+r\n",
       "sUl3nBJYNweg3djI2BWTD4j4CqQZkZdVUEzCDmBxxAziLGp0No3O5XrUOEwXPbBlB9p0OSm4URa6\n",
       "hDBSRmK31xiNZUiIjaQMJIuEGF1GfNNVam8c9mAWB5IKrea/2JEOw+JaUm4nhS/xXggPKuaIrYxC\n",
       "QdwQj9CvEXaImiLThku+bZru+meOdl06/E2nuUPYi2kXtmXVoAsbWNAcJyvmEFqBhyy4Y14wob3S\n",
       "3sc50gHKwRQWpPwpukJYsypCqfqWsMbHVuORiZSDLaxCN3TLZoTngnAiipkgj9WVgKOrmjb2BGJr\n",
       "sDmgU6qSWcw91xptOYSlJqWjFIJYiqovCBNR6GV/aXzUVWtsFRqnW7JNgFnhxJ+Iegj8niyFxKg6\n",
       "a2M/olMFPkpQQLu6VCzN2NSQUJelTKlU7EpW4prH2+3P5XKaqsZPuLDZasQaghQnPofthNGfAbnb\n",
       "3LFPSPfGrFRcw4htezr4ExKzyDV2itmSsCu8oMda0TIJCmewFIFhvrca6jMcbLaSnzE42eC6Sbed\n",
       "iD5XdUPfXTFTE1lbs8v5hsKlSoXq13uNPCSMFsjDUDwjYetxvuG5q9bYCuc0lgDbUMk3GORkUbPn\n",
       "CAhWBlPRhV357oQ69z7GaEa7TVyl7y8XIXKLRvKP4mSXg81WorPYRrxUyMmimPdr5KY9FkwHu/bb\n",
       "qblWyOdyzsypmS1N/3nxyN7jz2511fVuqTlmyHDWWlrnF/6y9yvOrHlDfemB+Zq8uNZ1YV/FXsj5\n",
       "/+hb46XpC/0F/HfkaXVmsF8AAAAASUVORK5CYII=\n",
       "\" style=\"display:inline;vertical-align:middle;\" /></a><br>(see <a class=\"ProveItLink\" href=\"../../../__pv_it/theorems/e0261db91872251b9cb393eff01c8bdeab1024420/dependencies.ipynb\">dependencies</a>)<br>"
      ],
      "text/plain": [
       "<IPython.core.display.HTML object>"
      ]
     },
     "metadata": {},
     "output_type": "display_data"
    }
   ],
   "source": [
    "%proving in_IntervalOC"
   ]
  },
  {
   "cell_type": "code",
   "execution_count": null,
   "metadata": {},
   "outputs": [],
   "source": []
  }
 ],
 "metadata": {
  "kernelspec": {
   "display_name": "Python 3",
   "language": "python",
   "name": "python3"
  }
 },
 "nbformat": 4,
 "nbformat_minor": 0
}