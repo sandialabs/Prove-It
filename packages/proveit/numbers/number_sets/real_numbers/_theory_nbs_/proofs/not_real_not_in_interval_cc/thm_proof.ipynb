{
 "cells": [
  {
   "cell_type": "markdown",
   "metadata": {},
   "source": [
    "Proof of <a class=\"ProveItLink\" href=\"../../../../../../_theory_nbs_/theory.ipynb\">proveit</a>.<a class=\"ProveItLink\" href=\"../../../../../_theory_nbs_/theory.ipynb\">numbers</a>.<a class=\"ProveItLink\" href=\"../../../../_theory_nbs_/theory.ipynb\">number_sets</a>.<a class=\"ProveItLink\" href=\"../../theory.ipynb\">real_numbers</a>.<a class=\"ProveItLink\" href=\"../../theorems.ipynb#not_real_not_in_interval_cc\">not_real_not_in_interval_cc</a> theorem\n",
    "========"
   ]
  },
  {
   "cell_type": "code",
   "execution_count": 1,
   "metadata": {},
   "outputs": [],
   "source": [
    "import proveit\n",
    "theory = proveit.Theory() # the theorem's theory"
   ]
  },
  {
   "cell_type": "code",
   "execution_count": 2,
   "metadata": {},
   "outputs": [
    {
     "data": {
      "text/html": [
       "With these <a href=\"allowed_presumptions.txt\">allowed</a>/<a href=\"disallowed_presumptions.txt\">disallowed</a> theorem/theory presumptions (e.g., to avoid circular dependencies), we begin our proof of<br><strong id=\"not_real_not_in_interval_cc\">not_real_not_in_interval_cc:</strong> <a class=\"ProveItLink\" href=\"../../../__pv_it/theorems/f6918d36db6a60080d258fd9a98aaa97edda6de90/expr.ipynb\"><img src=\"data:image/png;base64,iVBORw0KGgoAAAANSUhEUgAAARYAAAAZCAMAAADDsvEcAAAAUVBMVEX///8AAAAAAAAAAAAAAAAA\n",
       "AAAAAAAAAAAAAAAAAAAAAAAAAAAAAAAAAAAAAAAAAAAAAAAAAAAAAAAAAAAAAAAAAAAAAAAAAAAA\n",
       "AAAAAAAAAAAsiKZwAAAAGnRSTlMAq1RmmUTNIjK7EInv3XbP4duh6fPj9+eRwQ+hj00AAAAJcEhZ\n",
       "cwAADsQAAA7EAZUrDhsAAAQISURBVFjD3ZmJctwgDEA5DQij3pf//0MrsDGwi7GTdafTspnMTowk\n",
       "eJaERBi7ZfAQgmH/xUDairhJ18T+pyHlv4vFXH1Kr9+e+YdtRP5hLDh29An2r16fKktTNFZY+P5M\n",
       "yBex3KPq2hB++Nhydo4F3BzqKSgLFrULTeZFLPeoujTgxD2VZle8ZVLNlOxihGXnatyrQXSPqktD\n",
       "nbhjYJewLKKZIlXJLRmRFy/nlltUXRrzIOm4EL58na5g0Qu0U2bYseS0+1LWnJoM/scTsDi0oCek\n",
       "rXF7yVt8eJgyybKPOcQx+xtOojtUXYqhzQIgcrC+eKdJDttmnm3Phns02K6ak7yosHhesKiE1sEN\n",
       "WN6sSg1qqkGxsb3VKI4cmQptrpf4jEXP9Mgt9dJgIYiwmIJFVl5veP71eMpND6lTBD8pPuEhlkNV\n",
       "JfAVr9/ZIDe7gcGtOpe0I0k75bKf4yosMCcPCM12EqQZCxYxV8kgvt1uAPIcDRa5czQDGf3FG39Y\n",
       "zvVVZXFwnDYinD/DQgIfPkY1Bwbn1UT0J1UHjE1R/O17CO4Bi1oSzkbRKrr4smS7VFgEHmTJefNj\n",
       "pbYvSB8mAQ+xdFXt4n6VlGdYogCHgcG5kJ+xKdA6B2Ha8+xS1DRvLEHS8ZDOWHTtLbSRHI3gJfpc\n",
       "i9klZrSq+ltXiaCOi/+iClEZ+qnEQVr90LDUWBoB4CODpcXVMTUANPVKeK7sYYmrkstz1aKWysFF\n",
       "qLF4sUUjBEMwzN5CAUO1vYJtlZ5qNZTHWHZVaBh3bBKVuDDCdBJI1t0IoB4ZdLj6hmY8vl9foSVS\n",
       "qoclIuATiyvIEBebc86ecl2Nxcw8e2+Mz924TLlZywqLct6NWsVdlUyLJ8NFXIKEYyytgBsaXA9S\n",
       "sVhQtFpdBQ1h5bbTB0aQIqh4dtEBtKXOaFLVdct28Of6K2uKMYu8Ti2KExmXhlh92msx6qCrRa1u\n",
       "V8St1fYYSyPw4VOyd2TQJmcHRc4hlKwfA3c/oIMFOHprOMYFhLDFBvdbE5GxBN27WEhnuJM5VGMk\n",
       "zrSbykfpo7WHSxcL0e1IXyW+pVwGfSyVAIexwcENys9fVP2HYfEvoHexQMZD/75ljqlFk6tD3AtB\n",
       "TcFWyrP1vByl3BJMzE9ruVbEjY8Zlfle3dIIAD8xKNWVm5YjLJ71p+QG9BGLJo9EL+OLI8+00UlT\n",
       "Q2z3hmPy5LtqOvcWhdpj7E+KeDzoKECU7QZRLfD51KA7urp47t6fsDwXGOuUXXRwO9cErI/JQb/3\n",
       "dm4g3q9b4OOZvfp4fNihOMWC/du5gvoYi35bi/Tenrm/uSuXewb7f+edPvn0LjeVh2jO73LfeOt4\n",
       "Lxb+Utv6+rjvivud/yfqy/xVKhjCLH8DylIkOrFBdmwAAAAASUVORK5CYII=\n",
       "\" style=\"display:inline;vertical-align:middle;\" /></a><br>(see <a class=\"ProveItLink\" href=\"../../../__pv_it/theorems/30678cacce9e58d3a40e201f0e00b59e750bd9a20/dependencies.ipynb\">dependencies</a>)<br>"
      ],
      "text/plain": [
       "<IPython.core.display.HTML object>"
      ]
     },
     "metadata": {},
     "output_type": "display_data"
    },
    {
     "name": "stdout",
     "output_type": "stream",
     "text": [
      "not_real_not_in_interval_cc may now be readily provable (assuming required theorems are usable).  Simply execute \"%qed\".\n"
     ]
    }
   ],
   "source": [
    "%proving not_real_not_in_interval_cc"
   ]
  },
  {
   "cell_type": "code",
   "execution_count": null,
   "metadata": {},
   "outputs": [],
   "source": []
  }
 ],
 "metadata": {
  "kernelspec": {
   "display_name": "Python 3",
   "language": "python",
   "name": "python3"
  }
 },
 "nbformat": 4,
 "nbformat_minor": 0
}