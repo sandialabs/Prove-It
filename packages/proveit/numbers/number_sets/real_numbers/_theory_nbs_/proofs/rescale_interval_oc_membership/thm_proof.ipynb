{
 "cells": [
  {
   "cell_type": "markdown",
   "metadata": {},
   "source": [
    "Proof of <a class=\"ProveItLink\" href=\"../../../../../../_theory_nbs_/theory.ipynb\">proveit</a>.<a class=\"ProveItLink\" href=\"../../../../../_theory_nbs_/theory.ipynb\">numbers</a>.<a class=\"ProveItLink\" href=\"../../../../_theory_nbs_/theory.ipynb\">number_sets</a>.<a class=\"ProveItLink\" href=\"../../theory.ipynb\">real_numbers</a>.<a class=\"ProveItLink\" href=\"../../theorems.ipynb#rescale_interval_oc_membership\">rescale_interval_oc_membership</a> theorem\n",
    "========"
   ]
  },
  {
   "cell_type": "code",
   "execution_count": 1,
   "metadata": {},
   "outputs": [],
   "source": [
    "import proveit\n",
    "theory = proveit.Theory() # the theorem's theory"
   ]
  },
  {
   "cell_type": "code",
   "execution_count": 2,
   "metadata": {},
   "outputs": [
    {
     "data": {
      "text/html": [
       "With these <a href=\"allowed_presumptions.txt\">allowed</a>/<a href=\"disallowed_presumptions.txt\">disallowed</a> theorem/theory presumptions (e.g., to avoid circular dependencies), we begin our proof of<br><strong id=\"rescale_interval_oc_membership\">rescale_interval_oc_membership:</strong> <a class=\"ProveItLink\" href=\"../../../__pv_it/theorems/029d9c403e94a5e2ed9d6421fbf9e8f21cb1ed220/expr.ipynb\"><img src=\"data:image/png;base64,iVBORw0KGgoAAAANSUhEUgAAAWAAAAAZBAMAAAD9FenCAAAAMFBMVEX///8AAAAAAAAAAAAAAAAA\n",
       "AAAAAAAAAAAAAAAAAAAAAAAAAAAAAAAAAAAAAAAAAAAv3aB7AAAAD3RSTlMAq1RmmUTNIjK7EInv\n",
       "3XZ/CtNrAAAACXBIWXMAAA7EAAAOxAGVKw4bAAAE5ElEQVRYw82YXYgbVRSAT5JJMpnJzgYFsV2U\n",
       "EaUPiiU0a3X3YZsSbSviNlgR2oqN+iAVLLMvhYItI4ggXd1gWTRVyzwUoS6SsYv9sSixpaiIspT6\n",
       "tzYw6xZXWgwLoiv7UDzn3pnJnUzWzMtiL5w7997cM/Odc8/9C0DUdEfTgP87ac1L0TtX4GZIhVUB\n",
       "TrvSmYxITd1da/KuqwP8qyud6ZkwiB7xlWqZaxcgR4+7IwHH6BHP9+wZt7mE8UK690X4sPLeDANm\n",
       "2gV4hNpeiAQslfGR6j2IH7gSTi92skQatlSRATPtArxC8VaNBCzTaBzo3bPkSjgNdtSlfBTgfp0D\n",
       "DzLglIU1PVoMk4kne/dsuBJOWYuHxvvNH3g9UvzusTgwaRcggUamIk66QqS5F69w6Ta4zKPJfZZb\n",
       "XxcJ+DM+6Zg2InzbbH4TETjbbF6xe3aUbC6gth7yg7W19jCOjcqm+H6PFx6j7PN5018PBxYctyi0\n",
       "Ptu6hQGTNgJvAzgaEVgyIWMFnCnMwKGc4EaS9CV41DcC5pzHARKV4BR/HuWgLvlT6Gkjs8xLQqvy\n",
       "t1U3CDjBB3kM0t6nQN4bYLz/1OZ9IjB2HAt0eMArvIZv997Sp7tiw3fe7w/CJutWNLARXNFpo/0F\n",
       "sp5XlQsgzfCi0BpfxjIBkzYCZyyquGnAL8lztbKmwmlb3DiOwide9c01k6D4lsbsNnC2zGW7xf1D\n",
       "uQlb2EsXKcMgbP7Mul5E3y+D301aJCvZiIitFei3iZG0ETjuCHPuK7/0MIaQpsGwIwKv970jbaPM\n",
       "tzRrhoG/5tXL/MGcnSQPK+1FFIGz1XY3LNf5K8VWtGGPTsDJhjvvRzCbGjlNxt+YI7eo8w7bVhD4\n",
       "WlEETiWQX7t6aCvMs8HHr09fpzieaK3tDAnlhhg8ySX4EJ3DBnxGDIm60+6E5U1+SVyGt7MoIG0C\n",
       "PonLq/KjvESEsxoBfi83TrD1Uk0fy4vA6jq0ZyFWfY57aT/AR8YEAf9hXfWBMw6XPxHTC87JWANw\n",
       "sBNMreWzHEMc/IA3UHUdbosbCgRb+02MbTbpqhz4ZfySVJRptDJ5molSVTF3MGDp3Wrg8JP+ArN8\n",
       "xjGTzI6dGDkwTqUjsNEHptWHBJeIM968+ed4I6m7qx2k/H3qY/oYqKZvavyyBPVKsDWWzxQZMGkT\n",
       "cMykmNNyLBSlHA/AjbVaTdc09Yngae12ZrIBib212ltwF0XhHI/9zT6wPMNFnR7x1kBl1LlnA0UL\n",
       "85qyZpfb/gbKucI1f7W+88zY79A329E6UOIbB2l7x8u6kRnGt/dDVmdAcJh5WEvutsLHy3EwZOaq\n",
       "10FZgiMYm7AI531g+MmVcDroBvRZd2vuM7v1urf78ZJpe8BZY2KHNQV91hBMQaoMNtsgcFn7tNgJ\n",
       "nG6cgiLfa3DSfSn/NazYMIvxlROPOIMrHovElCh262WvAFwSgJOl9dMwrsujDubp0oiVfgdbn/rN\n",
       "Pr4l5OHR3S0LDpBvMgY8ueF6Xj4Pr7bayxo1MwnfREKnwre7nX+d7sBMO3jj0IV8qlYr/8eNQzlb\n",
       "m4Sk64s4y31gWkKUbifWsBUnuh3zV7hxMO0AcNJq59GuSFv5Y1cQGA650pkWwj53It7prpS5dgA4\n",
       "IeTRgFVuXL4D+Oa4Nb/U7X8JYTSGnNXH1ZoX/gXfgz9tnxAkOAAAAABJRU5ErkJggg==\n",
       "\" style=\"display:inline;vertical-align:middle;\" /></a><br>(see <a class=\"ProveItLink\" href=\"../../../__pv_it/theorems/705e56265e11a1e329bbe2149f558a9a618f0aef0/dependencies.ipynb\">dependencies</a>)<br>"
      ],
      "text/plain": [
       "<IPython.core.display.HTML object>"
      ]
     },
     "metadata": {},
     "output_type": "display_data"
    }
   ],
   "source": [
    "%proving rescale_interval_oc_membership"
   ]
  },
  {
   "cell_type": "code",
   "execution_count": null,
   "metadata": {},
   "outputs": [],
   "source": []
  }
 ],
 "metadata": {
  "kernelspec": {
   "display_name": "Python 3",
   "language": "python",
   "name": "python3"
  }
 },
 "nbformat": 4,
 "nbformat_minor": 0
}