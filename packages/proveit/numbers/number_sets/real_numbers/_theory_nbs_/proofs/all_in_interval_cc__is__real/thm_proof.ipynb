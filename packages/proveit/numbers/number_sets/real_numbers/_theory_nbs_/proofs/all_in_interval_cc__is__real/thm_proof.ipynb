{
 "cells": [
  {
   "cell_type": "markdown",
   "metadata": {},
   "source": [
    "Proof of <a class=\"ProveItLink\" href=\"../../../../../../_theory_nbs_/theory.ipynb\">proveit</a>.<a class=\"ProveItLink\" href=\"../../../../../_theory_nbs_/theory.ipynb\">numbers</a>.<a class=\"ProveItLink\" href=\"../../../../_theory_nbs_/theory.ipynb\">number_sets</a>.<a class=\"ProveItLink\" href=\"../../theory.ipynb\">real_numbers</a>.<a class=\"ProveItLink\" href=\"../../theorems.ipynb#all_in_interval_cc__is__real\">all_in_interval_cc__is__real</a> theorem\n",
    "========"
   ]
  },
  {
   "cell_type": "code",
   "execution_count": 1,
   "metadata": {},
   "outputs": [],
   "source": [
    "import proveit\n",
    "theory = proveit.Theory() # the theorem's theory"
   ]
  },
  {
   "cell_type": "code",
   "execution_count": 2,
   "metadata": {},
   "outputs": [
    {
     "data": {
      "text/html": [
       "With these <a href=\"allowed_presumptions.txt\">allowed</a>/<a href=\"disallowed_presumptions.txt\">disallowed</a> theorem/theory presumptions (e.g., to avoid circular dependencies), we begin our proof of<br><strong id=\"all_in_interval_cc__is__real\">all_in_interval_cc__is__real:</strong> <a class=\"ProveItLink\" href=\"../../../__pv_it/theorems/d88a193344a7c10b29a3e8277112493448a3a9e10/expr.ipynb\"><img src=\"data:image/png;base64,iVBORw0KGgoAAAANSUhEUgAAAN4AAAAZBAMAAACspI2IAAAAMFBMVEX///8AAAAAAAAAAAAAAAAA\n",
       "AAAAAAAAAAAAAAAAAAAAAAAAAAAAAAAAAAAAAAAAAAAv3aB7AAAAD3RSTlMAq1RmmUTNIjK7EInv\n",
       "3XZ/CtNrAAAACXBIWXMAAA7EAAAOxAGVKw4bAAADUElEQVRIx7WWT0gUURzHf7s7szszu04LnTSC\n",
       "haJbMagYerAVzbwkW0YHg9hbFGgjRBBabBBBKDggUlNkA0mgEi0KSR1iMaIkCunQH2FhN6xAafES\n",
       "dil6vzfjzJvVdibYfrC78+b3XT7vvd+f9wC8bXdehaqYnH/nR5aGqllDdXmRCj71P/A+b/OuafFe\n",
       "36ICcNrkxfFnjwfPhwgtmN3urTYAx5oNkBXKO4yvznjwfIjQHmz7VhsEUSAzPkd5V3HbNQ+eDxFa\n",
       "+994nEpi0kh5YQMgmvDg+RCh5VzJfzf/3uGRycYM5IXItoa98sWHCMPHJhbfbzjrC0yT/QwrND/f\n",
       "5POvPfPTW0SMI+kileqGZ3Fw0WD288Y+Ug3ROOV1Adz25JWLFpmO0xy3HnABHBQLR93ZpQ31/Vol\n",
       "v6E05Q1AZPMPIJy1HvY/butneawIzR5c15xBDYnwQThk7HQXrTbYQBM3mKM80YimbN8uhBb1lByF\n",
       "+SzDY0TodniBrMOLEUkGOk0ViUD+k8UT72PtCeuUFywwmfCKfDoyJLlkaCkwPEaEbocXy7h5AG/p\n",
       "s6Qx6xOSGAzeXB+kW8nXTOs8TuF30aB9gPBWk2w/o6LSkRWVuglCmlvDGI6W6lz7CfwGTONgia2/\n",
       "rku4n0smb5YUvvRB2EDMspycosUTjUwoLA9FslobTkxZ8XuojiLvu7Fi88QCSOOBHNBAlFjeFM4y\n",
       "pJm8IaLnkgIWq6iE0j2Ux93RXP0aRSGYEKDH4nXACD6MQZPNIwkf/DmZ42ljCNvtQbtA6nfcLBfk\n",
       "BTK49XKcRoOLN+m6npDl6HEXD0UAZA+omyBeQNEMeJvNE5ZA6i7srTcDWNtrnw83QT+fgJqUcx49\n",
       "UsUWUqA7IJYYpuuT+VPGlvNIyEVg2FyftAFjGKd1WHCS5yNbMvwTq59t2mXm/Iupoz3GDNQYzST1\n",
       "afzgabKcNxRNc6abIF4KP1qkLCyTqNi8Rs9uvsnj2w/MwUhC6C5A5BYZn/yanews53Ffnq2aboI4\n",
       "Ub+mCAtwrcQUh1jpnkPPF/f5boZ4RtdTFc536rYQQXezkSodWXQyLh5v+L5PWIheNw+uVOB923J/\n",
       "CcG/8pQyXnXuZ31b7586ez4U/N8/n/8BpknfZ/gY4DQAAAAASUVORK5CYII=\n",
       "\" style=\"display:inline;vertical-align:middle;\" /></a><br>(see <a class=\"ProveItLink\" href=\"../../../__pv_it/theorems/f2ec41c748ae6844f9c5acdc27ab949c705ba06f0/dependencies.ipynb\">dependencies</a>)<br>"
      ],
      "text/plain": [
       "<IPython.core.display.HTML object>"
      ]
     },
     "metadata": {},
     "output_type": "display_data"
    },
    {
     "name": "stdout",
     "output_type": "stream",
     "text": [
      "all_in_interval_cc__is__real may now be readily provable (assuming required theorems are usable).  Simply execute \"%qed\".\n"
     ]
    }
   ],
   "source": [
    "%proving all_in_interval_cc__is__real"
   ]
  },
  {
   "cell_type": "code",
   "execution_count": null,
   "metadata": {},
   "outputs": [],
   "source": []
  }
 ],
 "metadata": {
  "kernelspec": {
   "display_name": "Python 3",
   "language": "python",
   "name": "python3"
  }
 },
 "nbformat": 4,
 "nbformat_minor": 0
}