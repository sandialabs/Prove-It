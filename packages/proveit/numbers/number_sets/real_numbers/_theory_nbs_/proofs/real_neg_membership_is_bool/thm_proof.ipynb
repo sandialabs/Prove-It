{
 "cells": [
  {
   "cell_type": "markdown",
   "metadata": {},
   "source": [
    "Proof of <a class=\"ProveItLink\" href=\"../../../../../../_theory_nbs_/theory.ipynb\">proveit</a>.<a class=\"ProveItLink\" href=\"../../../../../_theory_nbs_/theory.ipynb\">numbers</a>.<a class=\"ProveItLink\" href=\"../../../../_theory_nbs_/theory.ipynb\">number_sets</a>.<a class=\"ProveItLink\" href=\"../../theory.ipynb\">real_numbers</a>.<a class=\"ProveItLink\" href=\"../../theorems.ipynb#real_neg_membership_is_bool\">real_neg_membership_is_bool</a> theorem\n",
    "========"
   ]
  },
  {
   "cell_type": "code",
   "execution_count": 1,
   "metadata": {},
   "outputs": [],
   "source": [
    "import proveit\n",
    "theory = proveit.Theory() # the theorem's theory"
   ]
  },
  {
   "cell_type": "code",
   "execution_count": 2,
   "metadata": {},
   "outputs": [
    {
     "data": {
      "text/html": [
       "With these <a href=\"allowed_presumptions.txt\">allowed</a>/<a href=\"disallowed_presumptions.txt\">disallowed</a> theorem/theory presumptions (e.g., to avoid circular dependencies), we begin our proof of<br><strong id=\"real_neg_membership_is_bool\">real_neg_membership_is_bool:</strong> <a class=\"ProveItLink\" href=\"../../../__pv_it/theorems/9b5fc36d715e3dfd0a461a70142fb80a17d7f8750/expr.ipynb\"><img src=\"data:image/png;base64,iVBORw0KGgoAAAANSUhEUgAAAK0AAAAZBAMAAACx2rMTAAAAMFBMVEX///8AAAAAAAAAAAAAAAAA\n",
       "AAAAAAAAAAAAAAAAAAAAAAAAAAAAAAAAAAAAAAAAAAAv3aB7AAAAD3RSTlMAq1RmmUTNIjK7EInv\n",
       "3XZ/CtNrAAAACXBIWXMAAA7EAAAOxAGVKw4bAAAClklEQVRIx71WTWgTURCeTTb7FxIWRERPBYsX\n",
       "L7GCIorGg1orihLopViDPQilpVvwIgZaj8VC9xKkgnZFEdqDLUXwVnLxEESxJ0FY2OIPWLS3klAo\n",
       "OPv3dvJ2t+lBHMj3svNtvjeZmTe7AHHL3gxhbyun+MUUfy+Dve1Bil82E91aNYQulnVSiPOJXrUU\n",
       "Am+nmgvjTUJ85fg/zYmxdcxfwQLQXcdRytYYxMychFtnLHa5EeOH5dGDAEUUveRe36PkNQZx3Yeg\n",
       "KjrMzKMZAMsWz1fgnYpJ3AF4FEv0NoMkXdGIMi+V4rp9Aq4jyOGe+R7CKTshRPbLtqtMNwpCNHke\n",
       "dSVcr2JRcU+JahQ/h8BscDOKV1jSo1sbPF+BQ2dx/Y2fj7b9gYoI1QC0rSOPV71+HCV5mDlmsFtz\n",
       "/r8i/PCb9RVc72AS+gGedrSZGYAIG851L41MyayN726SlLWB42+P7Q7gOjcNMAmyTnUlPYDTcME6\n",
       "4HlI3U6+pgfLr65E6/ZtEGOdwiZWrXzHKCiUA5iGy75n1kYzfV31JekBbZvnK6DmMBHLqJhxOsoW\n",
       "xQvwyfcskniVMkma3OZ51AXcYQrzAFX3OG9d+W7wurkWLHn/gPZvP5k2Sgs43tXFks+5WqtYzqJx\n",
       "WAqaWDB90OpCA1a8dnKI7mKxxPcD4VE34/j9ADWMLQvPFdqUCJn2q0bO3+su+9197Pd6NNCC/o34\n",
       "IVh7i+s5L0A3GdDqCAJBu+H09vmuF3UrnGdPYH6CnU5R7+R/Nhe8eQYXo1Q15PDrewbMhp7ZSfOY\n",
       "zQeeH2GzMV8V9zHPOIvNs7D/2HQRf6yxczTLoJudSHuQ6EleoSeEbvYlxV8w/ufzDY4z+KfP432/\n",
       "PwykvT9gOf8CWSu+nhRRCkAAAAAASUVORK5CYII=\n",
       "\" style=\"display:inline;vertical-align:middle;\" /></a><br>(see <a class=\"ProveItLink\" href=\"../../../__pv_it/theorems/1448897eb78781725fc6ac2182cc3a907eaae8da0/dependencies.ipynb\">dependencies</a>)<br>"
      ],
      "text/plain": [
       "<IPython.core.display.HTML object>"
      ]
     },
     "metadata": {},
     "output_type": "display_data"
    },
    {
     "name": "stdout",
     "output_type": "stream",
     "text": [
      "real_neg_membership_is_bool may now be readily provable (assuming required theorems are usable).  Simply execute \"%qed\".\n"
     ]
    }
   ],
   "source": [
    "%proving real_neg_membership_is_bool"
   ]
  },
  {
   "cell_type": "code",
   "execution_count": null,
   "metadata": {},
   "outputs": [],
   "source": []
  }
 ],
 "metadata": {
  "kernelspec": {
   "display_name": "Python 3",
   "language": "python",
   "name": "python3"
  }
 },
 "nbformat": 4,
 "nbformat_minor": 0
}