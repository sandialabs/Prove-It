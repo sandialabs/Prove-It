{
 "cells": [
  {
   "cell_type": "markdown",
   "metadata": {},
   "source": [
    "Proof of <a class=\"ProveItLink\" href=\"../../../../../../_theory_nbs_/theory.ipynb\">proveit</a>.<a class=\"ProveItLink\" href=\"../../../../../_theory_nbs_/theory.ipynb\">numbers</a>.<a class=\"ProveItLink\" href=\"../../../../_theory_nbs_/theory.ipynb\">number_sets</a>.<a class=\"ProveItLink\" href=\"../../theory.ipynb\">real_numbers</a>.<a class=\"ProveItLink\" href=\"../../theorems.ipynb#nonzero_int_within_real_nonzero\">nonzero_int_within_real_nonzero</a> theorem\n",
    "========"
   ]
  },
  {
   "cell_type": "code",
   "execution_count": 1,
   "metadata": {},
   "outputs": [],
   "source": [
    "import proveit\n",
    "theory = proveit.Theory() # the theorem's theory"
   ]
  },
  {
   "cell_type": "code",
   "execution_count": 2,
   "metadata": {},
   "outputs": [
    {
     "data": {
      "text/html": [
       "With these <a href=\"allowed_presumptions.txt\">allowed</a>/<a href=\"disallowed_presumptions.txt\">disallowed</a> theorem/theory presumptions (e.g., to avoid circular dependencies), we begin our proof of<br><strong id=\"nonzero_int_within_real_nonzero\">nonzero_int_within_real_nonzero:</strong> <a class=\"ProveItLink\" href=\"../../../__pv_it/theorems/a0f2eac752a76d3233ad18390def3253b0ff458c0/expr.ipynb\"><img src=\"data:image/png;base64,iVBORw0KGgoAAAANSUhEUgAAAGQAAAAVCAMAAACHQrsCAAAAOVBMVEX///8AAAAAAAAAAAAAAAAA\n",
       "AAAAAAAAAAAAAAAAAAAAAAAAAAAAAAAAAAAAAAAAAAAAAAAAAAAAAAACXHtMAAAAEnRSTlMAVM3v\n",
       "u91mdqsymYkiEETt5cn1eqECAAAACXBIWXMAAA7EAAAOxAGVKw4bAAABcElEQVRIx6VVCW7EIAwE\n",
       "Y84Abfn/Y2tMmm5XGKLUSogEZIbxhVKCFfVPuwFwVB4PfzzkuAGQQx+dV6riI447ACH30UQaWn5C\n",
       "cgOgssbcul+NfsDxDqDBNANoLRqnVMJuH/Q6FXmPdUs4BwaxgTU49s0BPIYuCvgZ5sf+scf4zamR\n",
       "A1CDwyICpHROHz9+KWeohtqm9yQHf2IQAThEND1WutrPL2S1NwN/kqTMrpgDsMYUFTuNRYZLdc/A\n",
       "8AfRU/DY4oQElwA0HdP102+tUi2l18qNcGRJSSglLAFo+lrRcqCLzaK7ImrIKwB9cG0Og0WFVSEm\n",
       "BmyzviwBXtNXV5kExMA7V2AN4PXZzjaNMwY5u7C4ZdFS7mZ8aTibpjcnobzB1Rkpdwd6aZuKsIs6\n",
       "STEv+jWdoY70DXZDkpxMQv7wssNIJXShGfX26oA6J+mHpJiglDTVYO+jSK0Yt7dgwVDLrAsj+RsR\n",
       "2pNrYXZR4Htb2ds3asoNqZpSCwkAAAAASUVORK5CYII=\n",
       "\" style=\"display:inline;vertical-align:middle;\" /></a><br>(see <a class=\"ProveItLink\" href=\"../../../__pv_it/theorems/d9de5d1c376945c870359b25a953e7af76fc2fce0/dependencies.ipynb\">dependencies</a>)<br>"
      ],
      "text/plain": [
       "<IPython.core.display.HTML object>"
      ]
     },
     "metadata": {},
     "output_type": "display_data"
    },
    {
     "name": "stdout",
     "output_type": "stream",
     "text": [
      "nonzero_int_within_real_nonzero may now be readily provable (assuming required theorems are usable).  Simply execute \"%qed\".\n"
     ]
    }
   ],
   "source": [
    "%proving nonzero_int_within_real_nonzero"
   ]
  },
  {
   "cell_type": "code",
   "execution_count": null,
   "metadata": {},
   "outputs": [],
   "source": []
  }
 ],
 "metadata": {
  "kernelspec": {
   "display_name": "Python 3",
   "language": "python",
   "name": "python3"
  }
 },
 "nbformat": 4,
 "nbformat_minor": 0
}