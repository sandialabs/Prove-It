{
 "cells": [
  {
   "cell_type": "markdown",
   "metadata": {},
   "source": [
    "Proof of <a class=\"ProveItLink\" href=\"../../../../../../_theory_nbs_/theory.ipynb\">proveit</a>.<a class=\"ProveItLink\" href=\"../../../../../_theory_nbs_/theory.ipynb\">numbers</a>.<a class=\"ProveItLink\" href=\"../../../../_theory_nbs_/theory.ipynb\">number_sets</a>.<a class=\"ProveItLink\" href=\"../../theory.ipynb\">real_numbers</a>.<a class=\"ProveItLink\" href=\"../../theorems.ipynb#zero_is_nonpos_real\">zero_is_nonpos_real</a> theorem\n",
    "========"
   ]
  },
  {
   "cell_type": "code",
   "execution_count": 1,
   "metadata": {},
   "outputs": [],
   "source": [
    "import proveit\n",
    "theory = proveit.Theory() # the theorem's theory"
   ]
  },
  {
   "cell_type": "code",
   "execution_count": 2,
   "metadata": {},
   "outputs": [
    {
     "data": {
      "text/html": [
       "With these <a href=\"allowed_presumptions.txt\">allowed</a>/<a href=\"disallowed_presumptions.txt\">disallowed</a> theorem/theory presumptions (e.g., to avoid circular dependencies), we begin our proof of<br><strong id=\"zero_is_nonpos_real\">zero_is_nonpos_real:</strong> <a class=\"ProveItLink\" href=\"../../../__pv_it/theorems/8546ba422401690bc9ef21ba3f6790521c962c1e0/expr.ipynb\"><img src=\"data:image/png;base64,iVBORw0KGgoAAAANSUhEUgAAAEgAAAAUBAMAAADcj2b4AAAAMFBMVEX///8AAAAAAAAAAAAAAAAA\n",
       "AAAAAAAAAAAAAAAAAAAAAAAAAAAAAAAAAAAAAAAAAAAv3aB7AAAAD3RSTlMAiXaZIs1UEN1mu6sy\n",
       "RO+L2jdBAAAACXBIWXMAAA7EAAAOxAGVKw4bAAABRUlEQVQoz2NgwAuyHBgEFRkIqFFg4FTgXYBX\n",
       "zawJDAx8Bxi+4FOjlQAk/AsYnmGRm/pqfcQroBnnQGoYzhcwdDIwMAqZoKla4M1we1YBA9vCAoii\n",
       "RwwMYQwVDmiKHBm4eDYwMPCCVAGt+8bA2cDAuABDEbNDAJDBs9kB4nCuDQxs38FyTCs6WhGKwBpZ\n",
       "dhcwKfBuYOA3YOD5BhLgDSpAmMRdvgHMZGFgEFQuYKgHKvoJ4rsWIFl3KhXFnf4CDDyfQIwQhJv8\n",
       "In6oM6Ar+ghiBCA5fGYpkDq1CgggBtYLMPCCTOJ50dHR0QVVxFU5AcUkoMPZQA5nX4BkEo/BchRF\n",
       "XAsYOMFB0IAcTjZeKIo4HzAwg52jhKyoignVvjaGugMgmjUBrsiZgXPCWhRFxUJ7wDT7ruvwVLCE\n",
       "YVV8AtbkwysFjRYMAACV0VlfTKrb4AAAAABJRU5ErkJggg==\n",
       "\" style=\"display:inline;vertical-align:middle;\" /></a><br>(see <a class=\"ProveItLink\" href=\"../../../__pv_it/theorems/0582614e90b3cda5ebab8949d44ed579f8c0198a0/dependencies.ipynb\">dependencies</a>)<br>"
      ],
      "text/plain": [
       "<IPython.core.display.HTML object>"
      ]
     },
     "metadata": {},
     "output_type": "display_data"
    },
    {
     "name": "stdout",
     "output_type": "stream",
     "text": [
      "zero_is_nonpos_real may now be readily provable (assuming required theorems are usable).  Simply execute \"%qed\".\n"
     ]
    }
   ],
   "source": [
    "%proving zero_is_nonpos_real"
   ]
  },
  {
   "cell_type": "code",
   "execution_count": null,
   "metadata": {},
   "outputs": [],
   "source": []
  }
 ],
 "metadata": {
  "kernelspec": {
   "display_name": "Python 3",
   "language": "python",
   "name": "python3"
  }
 },
 "nbformat": 4,
 "nbformat_minor": 0
}