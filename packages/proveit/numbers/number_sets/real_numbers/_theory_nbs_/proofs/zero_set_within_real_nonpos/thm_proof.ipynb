{
 "cells": [
  {
   "cell_type": "markdown",
   "metadata": {},
   "source": [
    "Proof of <a class=\"ProveItLink\" href=\"../../../../../../_theory_nbs_/theory.ipynb\">proveit</a>.<a class=\"ProveItLink\" href=\"../../../../../_theory_nbs_/theory.ipynb\">numbers</a>.<a class=\"ProveItLink\" href=\"../../../../_theory_nbs_/theory.ipynb\">number_sets</a>.<a class=\"ProveItLink\" href=\"../../theory.ipynb\">real_numbers</a>.<a class=\"ProveItLink\" href=\"../../theorems.ipynb#zero_set_within_real_nonpos\">zero_set_within_real_nonpos</a> theorem\n",
    "========"
   ]
  },
  {
   "cell_type": "code",
   "execution_count": 1,
   "metadata": {},
   "outputs": [],
   "source": [
    "import proveit\n",
    "theory = proveit.Theory() # the theorem's theory"
   ]
  },
  {
   "cell_type": "code",
   "execution_count": 2,
   "metadata": {},
   "outputs": [
    {
     "data": {
      "text/html": [
       "With these <a href=\"allowed_presumptions.txt\">allowed</a>/<a href=\"disallowed_presumptions.txt\">disallowed</a> theorem/theory presumptions (e.g., to avoid circular dependencies), we begin our proof of<br><strong id=\"zero_set_within_real_nonpos\">zero_set_within_real_nonpos:</strong> <a class=\"ProveItLink\" href=\"../../../__pv_it/theorems/de12b4b394cedae59a9863b75cef316e3c74eb9b0/expr.ipynb\"><img src=\"data:image/png;base64,iVBORw0KGgoAAAANSUhEUgAAAF0AAAAYBAMAAABqyuwvAAAAMFBMVEX///8AAAAAAAAAAAAAAAAA\n",
       "AAAAAAAAAAAAAAAAAAAAAAAAAAAAAAAAAAAAAAAAAAAv3aB7AAAAD3RSTlMAEER2zVSJ3Zki72ar\n",
       "MruaaVGaAAAACXBIWXMAAA7EAAAOxAGVKw4bAAABpUlEQVQ4y2NgIBKwvmRgS05gIFr5YwaGzQx6\n",
       "xCrnfg0k1jLwTwBSjEoQsakTcCpnfgokOD8ycAUAaRNFiCDvOQF0U73efakCmsy7FCz/kYF9A9Bl\n",
       "H4HsNAug4XwH0M3l4zzAdPohA0NcIkQ9lwEDA1sBAwNLAGMlhIWuPoHhwR0gQy8R7B7+AIiq7QwM\n",
       "ebjUd7KAWHc6Yf4FqXrDwBAvgFDP/Ly8vPwCTD0fWGzOQQZjBh0GiPofDAz3A+Dqed0mIJl/UAbC\n",
       "ngCMr0aIekaQ+g1w9eITkNzD+9QT1Y0cDgyc34DqDRiYF0BEDiG5f0l9MVooz9oAUZ/AwPkVIuKA\n",
       "pD57I5DH+w4IXkKE5jgBYxioXh8YtDKuYOcfQA6fh7tRjeftEwD7Nx4YtCkKIBFOFPU3+NDcA4rV\n",
       "dwwM+wUgMQ0EBcjqOW4+QFUPCpVdDAwtQBbUv93I6hkfWGOqZw9gXIuIXxYFhPoGht18ChjqGdts\n",
       "LiDUM75RhKfPfxP4nnzFUI/GYsqDpgdsAIt6vAAWq+CYJgJwwp0ntYGovDzjKISedpQIxQAhCnOX\n",
       "TfJnFQAAAABJRU5ErkJggg==\n",
       "\" style=\"display:inline;vertical-align:middle;\" /></a><br>(see <a class=\"ProveItLink\" href=\"../../../__pv_it/theorems/9a6686429c996c6be3f34a9287216751bf3742aa0/dependencies.ipynb\">dependencies</a>)<br>"
      ],
      "text/plain": [
       "<IPython.core.display.HTML object>"
      ]
     },
     "metadata": {},
     "output_type": "display_data"
    },
    {
     "name": "stdout",
     "output_type": "stream",
     "text": [
      "zero_set_within_real_nonpos may now be readily provable (assuming required theorems are usable).  Simply execute \"%qed\".\n"
     ]
    }
   ],
   "source": [
    "%proving zero_set_within_real_nonpos"
   ]
  },
  {
   "cell_type": "code",
   "execution_count": null,
   "metadata": {},
   "outputs": [],
   "source": []
  }
 ],
 "metadata": {
  "kernelspec": {
   "display_name": "Python 3",
   "language": "python",
   "name": "python3"
  }
 },
 "nbformat": 4,
 "nbformat_minor": 0
}