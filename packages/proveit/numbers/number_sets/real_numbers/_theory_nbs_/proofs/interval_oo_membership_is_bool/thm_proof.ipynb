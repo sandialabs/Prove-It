{
 "cells": [
  {
   "cell_type": "markdown",
   "metadata": {},
   "source": [
    "Proof of <a class=\"ProveItLink\" href=\"../../../../../../_theory_nbs_/theory.ipynb\">proveit</a>.<a class=\"ProveItLink\" href=\"../../../../../_theory_nbs_/theory.ipynb\">numbers</a>.<a class=\"ProveItLink\" href=\"../../../../_theory_nbs_/theory.ipynb\">number_sets</a>.<a class=\"ProveItLink\" href=\"../../theory.ipynb\">real_numbers</a>.<a class=\"ProveItLink\" href=\"../../theorems.ipynb#interval_oo_membership_is_bool\">interval_oo_membership_is_bool</a> theorem\n",
    "========"
   ]
  },
  {
   "cell_type": "code",
   "execution_count": 1,
   "metadata": {},
   "outputs": [],
   "source": [
    "import proveit\n",
    "theory = proveit.Theory() # the theorem's theory"
   ]
  },
  {
   "cell_type": "code",
   "execution_count": 2,
   "metadata": {},
   "outputs": [
    {
     "data": {
      "text/html": [
       "With these <a href=\"allowed_presumptions.txt\">allowed</a>/<a href=\"disallowed_presumptions.txt\">disallowed</a> theorem/theory presumptions (e.g., to avoid circular dependencies), we begin our proof of<br><strong id=\"interval_oo_membership_is_bool\">interval_oo_membership_is_bool:</strong> <a class=\"ProveItLink\" href=\"../../../__pv_it/theorems/42512f5a93da9a6985d62492328bb3ce8847ddcd0/expr.ipynb\"><img src=\"data:image/png;base64,iVBORw0KGgoAAAANSUhEUgAAAQYAAAAWBAMAAADQui8gAAAAMFBMVEX///8AAAAAAAAAAAAAAAAA\n",
       "AAAAAAAAAAAAAAAAAAAAAAAAAAAAAAAAAAAAAAAAAAAv3aB7AAAAD3RSTlMAq1RmmUTNIjK7EInv\n",
       "3XZ/CtNrAAAACXBIWXMAAA7EAAAOxAGVKw4bAAAD40lEQVRIx8VWW2gTQRS9STbZ7G66FkRUlBIQ\n",
       "9EOrQUVQQSL1hc9gwQ/rI6ggFtH0RyhIiV+CD8yHoFHUFUQslRofsago+iFaRamCbwNbFQXFIoIP\n",
       "FMU7c2c3s8na+OeFM8mcvTtz9s6dOwNQ0z4+9SEzAtWm+vTVvwyt/m34Siv6cGac4GOvKvphm+D9\n",
       "rt6tmx+kiC9CPaPGDKohwNpgQubGC1RbsCB1Ou9h81rAY7k1ausw4oswlzEbB9WgpLCNyJHX0wQf\n",
       "O+npbWBvWgSvhmbo0Ygvwg62LLlBNURZrNplSkkQfKzJ0/uMCCUJlRomB4gvciVGfPB8aMX2nEzF\n",
       "BKQEOVJ6zP9c9+TCD9beEZDdmIYI8UUI4edEauTkFGw9kR8rUJ5siwh20ONn9LF2vYDkxjQMn0k8\n",
       "5vy9UuluDQ2xUumlnGqwSKC7/9QVHsNtztgK82u71kG9SEM/Pj4LBMkNc7L7QYF41LAA4FANDUoW\n",
       "NE9SOV+WNBuUPk9SRzCs4VtwjNzPtOrfAKYBQc793OrNvxYSjxraQK13nkQ3iT+NF2dvKWtAhzaP\n",
       "rIeEUCb0I8BT012BOvzu0wlYQr1JFtwHmAAEeUFxLV6vsDiPGjTLSLmPRjEh/fmUaUBPoVyjDlUU\n",
       "qpuEKCg0ahQXtPSMZyuOtQzgBfnNA/gJsA8IkhvToIULnMehg7aUkrcRc7KYvybMsMsaJnpT0tGA\n",
       "U5KT7m5upqEX9C/UewFh3J2rgCC5cQ2Q4zz7vPQsbLpm9TChv/stkwUXNbxPljVEQjiX+aZjvnct\n",
       "ANZmdL7yfdJa6L8h9MkpDwruzkYgSG6kIc15puEcbn/9SfQbm/q5mezk+9hQjybKGoyxONO7QG6d\n",
       "oI4SOlOjweDEgDO2ZoP+GQLpccC0fWe5AdOBILlxDUGb80zDdkxJJRllxUVLhNLNXINyOCedWeoN\n",
       "/E1odlZQYrdN2rUYltN2cKqcUc/UNSaT+lfsDYX90k6W3CDXAtcuEM80BLJsGU22OWJZpX5aPp+P\n",
       "m6axXD43R7A/Q9wjYy/hxECwiUbVR64UOwvDffzDzoYslDAQxy+wYD4SkNze9h5j5ybnnXQ/k9Fm\n",
       "4DtDIBbfzeNghlusyrN7j3tjqMsSpEJ5SRRh9zYQdN5X+wgeN+mZM34ss6/Z6oI6azpVI9ybl5Ne\n",
       "Der1i+BQvscQ2VS3Tv/DAcd5R0O4aeJ52BOPLrVBPYj9FW8LJ+ZVxGFpy4BbLA8IVJvmxKrbYdor\n",
       "T13J2qvuSLS2Xfl8qtY9qlOg2twaYNfWS7xn/LDl63fV58Kn2gQf66i89mUIfsb4jzdlJgT/x/4A\n",
       "HG4fwDiADB4AAAAASUVORK5CYII=\n",
       "\" style=\"display:inline;vertical-align:middle;\" /></a><br>(see <a class=\"ProveItLink\" href=\"../../../__pv_it/theorems/0a7c5c0cf1a3fd207561aa01dc717949aeef4cac0/dependencies.ipynb\">dependencies</a>)<br>"
      ],
      "text/plain": [
       "<IPython.core.display.HTML object>"
      ]
     },
     "metadata": {},
     "output_type": "display_data"
    },
    {
     "name": "stdout",
     "output_type": "stream",
     "text": [
      "interval_oo_membership_is_bool may now be readily provable (assuming required theorems are usable).  Simply execute \"%qed\".\n"
     ]
    }
   ],
   "source": [
    "%proving interval_oo_membership_is_bool"
   ]
  },
  {
   "cell_type": "code",
   "execution_count": null,
   "metadata": {},
   "outputs": [],
   "source": []
  }
 ],
 "metadata": {
  "kernelspec": {
   "display_name": "Python 3",
   "language": "python",
   "name": "python3"
  }
 },
 "nbformat": 4,
 "nbformat_minor": 0
}