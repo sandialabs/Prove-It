{
 "cells": [
  {
   "cell_type": "markdown",
   "metadata": {},
   "source": [
    "Proof of <a class=\"ProveItLink\" href=\"../../../../../../_theory_nbs_/theory.ipynb\">proveit</a>.<a class=\"ProveItLink\" href=\"../../../../../_theory_nbs_/theory.ipynb\">numbers</a>.<a class=\"ProveItLink\" href=\"../../../../_theory_nbs_/theory.ipynb\">number_sets</a>.<a class=\"ProveItLink\" href=\"../../theory.ipynb\">real_numbers</a>.<a class=\"ProveItLink\" href=\"../../theorems.ipynb#interval_cc_membership_is_bool\">interval_cc_membership_is_bool</a> theorem\n",
    "========"
   ]
  },
  {
   "cell_type": "code",
   "execution_count": 1,
   "metadata": {},
   "outputs": [],
   "source": [
    "import proveit\n",
    "theory = proveit.Theory() # the theorem's theory"
   ]
  },
  {
   "cell_type": "code",
   "execution_count": 2,
   "metadata": {},
   "outputs": [
    {
     "data": {
      "text/html": [
       "With these <a href=\"allowed_presumptions.txt\">allowed</a>/<a href=\"disallowed_presumptions.txt\">disallowed</a> theorem/theory presumptions (e.g., to avoid circular dependencies), we begin our proof of<br><strong id=\"interval_cc_membership_is_bool\">interval_cc_membership_is_bool:</strong> <a class=\"ProveItLink\" href=\"../../../__pv_it/theorems/6b7bad0713b2839c324b6b3a91f6bc2211d7dcef0/expr.ipynb\"><img src=\"data:image/png;base64,iVBORw0KGgoAAAANSUhEUgAAAQEAAAAWBAMAAAAyZjRZAAAAMFBMVEX///8AAAAAAAAAAAAAAAAA\n",
       "AAAAAAAAAAAAAAAAAAAAAAAAAAAAAAAAAAAAAAAAAAAv3aB7AAAAD3RSTlMAq1RmmUTNIjK7EInv\n",
       "3XZ/CtNrAAAACXBIWXMAAA7EAAAOxAGVKw4bAAADm0lEQVRIx8WWXUgUURTHzzqzu7Mz6yREhBSy\n",
       "ENRDmUsPggYyYVlkH4uCD1m2YBCJ2PoSCBLbU9AHzkNgW7SO4EOLoWtpUpH4ImVRrEGftrCL5YOh\n",
       "hFCGkXQ/Zt07M7s7vTVwljv//d87v7n33HMHwPZa/JBDDOlh60b37jwDI11Ohu0BYCyHJvto/IN7\n",
       "DJwpM+X0+faZANGlAJRgaVthAqtnpx6FCWKvqDBnNqkt7rZNREcEB7BytjCBxSMGadjNwRkquDQz\n",
       "QSOMe4iOCC7hBVELE1g8vJ+GHcEyFTjFSrDHQXREgPkkX2ECi8erB5MYd5LvLATOVV14YTJhAhfR\n",
       "EQGHXsVlk4kWz3Y9ss/q0HLMgZTQhVaTCRFs3kt0RACvksmXdnvB7KnXYyh99wmZmwsa4+6cuEjb\n",
       "rrK0jxCMgNGktgzNxImOCQ4B3LIjMHta9VDkMj5hTFO0+Z5BH33WcJu4QggqwWhST7X/OUx0TNAJ\n",
       "7pLMP8I5vVH+cF8H+1aMB19vaHAhbtVBEjLIENzzw1HartDgNSHYBUYTWoW5Jg3rmMCj4V/92oIx\n",
       "0pGALMF4PEtg8KBrioYAPB1VQMuU/Ki7jwPMUlsdwG9C0GMyIQKPM451PG5Rikmy5yj2o0Ipy1Cd\n",
       "yhIYPFkCtCGoSVSZOZgG8Qdtz4JzmRCcNJkwAahYJ28WrEE/gzXjGHMtrcl4WhHBgsJkN/EsHfwS\n",
       "MqwCwOmQSJY8kSUQ14D7nikH/CrpXg5GEyEIYp0Q3G9DfO+FFfzgT7ISIztXckf9DAH2yKFSl14U\n",
       "ojRiga0gEWGJIVgGR3AHYLBfOCdw9yqTCRMUpbBOCLpRkvGKMImaHj8XbCQE/G2VrXLYw0FU0KUR\n",
       "GhVXjkAD3Xe+rDsK5Yoi/kTtjXCDdq83mdRmmBglOiFwoHX3BmSc7N4wX1IZiUR8siw1sAQOcoiu\n",
       "ZKTrNAaWimrpqGLpiXV3/7fLZWFIoknoH/XT7m+NpvnpPnw2Yn09w4dDnmrUZQN4fVfJHMjOZkuV\n",
       "EyYzJ31xmAZTFB+ZqnIR092dMJkyHwiJLIE31NOoDUKxVoV2HskDeKyYCLqlIK838VFjOW6MbokR\n",
       "8hxiWF8ncNbufgDXfMKxFLhvovum+fhAnWlM/uvEQqZvrx75CYYYoStPte0CMNYZoGs6GIkE7L6R\n",
       "YnrkJ0gxQm8egl4zgVPL6Xua4zvRnaJh716cQts4NwDS5c8GAg7+x/UX/L4kH3EOTzAAAAAASUVO\n",
       "RK5CYII=\n",
       "\" style=\"display:inline;vertical-align:middle;\" /></a><br>(see <a class=\"ProveItLink\" href=\"../../../__pv_it/theorems/b7e80a3ad2055d29a9d3a6f1b9055aaa1157caf60/dependencies.ipynb\">dependencies</a>)<br>"
      ],
      "text/plain": [
       "<IPython.core.display.HTML object>"
      ]
     },
     "metadata": {},
     "output_type": "display_data"
    },
    {
     "name": "stdout",
     "output_type": "stream",
     "text": [
      "interval_cc_membership_is_bool may now be readily provable (assuming required theorems are usable).  Simply execute \"%qed\".\n"
     ]
    }
   ],
   "source": [
    "%proving interval_cc_membership_is_bool"
   ]
  },
  {
   "cell_type": "code",
   "execution_count": null,
   "metadata": {},
   "outputs": [],
   "source": []
  }
 ],
 "metadata": {
  "kernelspec": {
   "display_name": "Python 3",
   "language": "python",
   "name": "python3"
  }
 },
 "nbformat": 4,
 "nbformat_minor": 0
}