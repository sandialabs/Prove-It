{
 "cells": [
  {
   "cell_type": "markdown",
   "metadata": {},
   "source": [
    "Proof of <a class=\"ProveItLink\" href=\"../../../../../../_theory_nbs_/theory.ipynb\">proveit</a>.<a class=\"ProveItLink\" href=\"../../../../../_theory_nbs_/theory.ipynb\">numbers</a>.<a class=\"ProveItLink\" href=\"../../../../_theory_nbs_/theory.ipynb\">number_sets</a>.<a class=\"ProveItLink\" href=\"../../theory.ipynb\">real_numbers</a>.<a class=\"ProveItLink\" href=\"../../theorems.ipynb#zero_set_within_real\">zero_set_within_real</a> theorem\n",
    "========"
   ]
  },
  {
   "cell_type": "code",
   "execution_count": 1,
   "metadata": {},
   "outputs": [],
   "source": [
    "import proveit\n",
    "theory = proveit.Theory() # the theorem's theory"
   ]
  },
  {
   "cell_type": "code",
   "execution_count": 2,
   "metadata": {},
   "outputs": [
    {
     "data": {
      "text/html": [
       "With these <a href=\"allowed_presumptions.txt\">allowed</a>/<a href=\"disallowed_presumptions.txt\">disallowed</a> theorem/theory presumptions (e.g., to avoid circular dependencies), we begin our proof of<br><strong id=\"zero_set_within_real\">zero_set_within_real:</strong> <a class=\"ProveItLink\" href=\"../../../__pv_it/theorems/d2164e83a070b940cfacad560e8c777fa74fe9350/expr.ipynb\"><img src=\"data:image/png;base64,iVBORw0KGgoAAAANSUhEUgAAAEkAAAAVBAMAAAD4Ed5jAAAAMFBMVEX///8AAAAAAAAAAAAAAAAA\n",
       "AAAAAAAAAAAAAAAAAAAAAAAAAAAAAAAAAAAAAAAAAAAv3aB7AAAAD3RSTlMAEER2zVSJ3Zki72ar\n",
       "MruaaVGaAAAACXBIWXMAAA7EAAAOxAGVKw4bAAABTElEQVQoz2NgYGBUYgCDqRMY8AATRQjNe04A\n",
       "XWrLuvfu6zaAWKwfgUSaBdAgvgMYJjyYw6CzD6SZrYCBgSWAsRLCQlc1jYGP9wBU1XYGhjxcqjgm\n",
       "OEBVvWFgiBdAqGJ+Xl5efgGu6gFU1Q8GhvsBcFW8bhOQzOIRhNrICFK1Aa5KfAKyjfdCQFwOBwbO\n",
       "b0BVBgzMCyBSh5DcNcv9uyGIMWsDRFUCA+dXiJQDsut3i4DoOU7A0Aeq0jdgYJBxBTvrALIqPmlQ\n",
       "qPL2CYBdHx/AwJCiAJLhRFHF2/AQxACF+DsGhv0CkFgAggKU8OqdxwANiV0MDC1AFtT13Siq5Jg3\n",
       "QFWxBzCuRYQ9iwJC1QwG7g2PoKoY22wuIFQxvlFEpImXDO/8A5BjD85iyoPFEAOGHLbYhgNYiINj\n",
       "ASeAhTgDg9QGPCl6xlEIPe0oTiUAI/NnSLgqFgcAAAAASUVORK5CYII=\n",
       "\" style=\"display:inline;vertical-align:middle;\" /></a><br>(see <a class=\"ProveItLink\" href=\"../../../__pv_it/theorems/87990d0e278f8946923a5e7642f39edd5971346b0/dependencies.ipynb\">dependencies</a>)<br>"
      ],
      "text/plain": [
       "<IPython.core.display.HTML object>"
      ]
     },
     "metadata": {},
     "output_type": "display_data"
    },
    {
     "name": "stdout",
     "output_type": "stream",
     "text": [
      "zero_set_within_real may now be readily provable (assuming required theorems are usable).  Simply execute \"%qed\".\n"
     ]
    }
   ],
   "source": [
    "%proving zero_set_within_real"
   ]
  },
  {
   "cell_type": "code",
   "execution_count": null,
   "metadata": {},
   "outputs": [],
   "source": []
  }
 ],
 "metadata": {
  "kernelspec": {
   "display_name": "Python 3",
   "language": "python",
   "name": "python3"
  }
 },
 "nbformat": 4,
 "nbformat_minor": 0
}