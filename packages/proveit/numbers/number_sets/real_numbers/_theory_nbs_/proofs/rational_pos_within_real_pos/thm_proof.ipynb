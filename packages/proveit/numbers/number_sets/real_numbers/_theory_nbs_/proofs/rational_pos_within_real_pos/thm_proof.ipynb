{
 "cells": [
  {
   "cell_type": "markdown",
   "metadata": {},
   "source": [
    "Proof of <a class=\"ProveItLink\" href=\"../../../../../../_theory_nbs_/theory.ipynb\">proveit</a>.<a class=\"ProveItLink\" href=\"../../../../../_theory_nbs_/theory.ipynb\">numbers</a>.<a class=\"ProveItLink\" href=\"../../../../_theory_nbs_/theory.ipynb\">number_sets</a>.<a class=\"ProveItLink\" href=\"../../theory.ipynb\">real_numbers</a>.<a class=\"ProveItLink\" href=\"../../theorems.ipynb#rational_pos_within_real_pos\">rational_pos_within_real_pos</a> theorem\n",
    "========"
   ]
  },
  {
   "cell_type": "code",
   "execution_count": 1,
   "metadata": {},
   "outputs": [],
   "source": [
    "import proveit\n",
    "theory = proveit.Theory() # the theorem's theory"
   ]
  },
  {
   "cell_type": "code",
   "execution_count": 2,
   "metadata": {},
   "outputs": [
    {
     "data": {
      "text/html": [
       "With these <a href=\"allowed_presumptions.txt\">allowed</a>/<a href=\"disallowed_presumptions.txt\">disallowed</a> theorem/theory presumptions (e.g., to avoid circular dependencies), we begin our proof of<br><strong id=\"rational_pos_within_real_pos\">rational_pos_within_real_pos:</strong> <a class=\"ProveItLink\" href=\"../../../__pv_it/theorems/c5efea99790203f286dfb04b2f4d0726afb5dda10/expr.ipynb\"><img src=\"data:image/png;base64,iVBORw0KGgoAAAANSUhEUgAAAFQAAAAVBAMAAAAqQdQ7AAAAMFBMVEX///8AAAAAAAAAAAAAAAAA\n",
       "AAAAAAAAAAAAAAAAAAAAAAAAAAAAAAAAAAAAAAAAAAAv3aB7AAAAD3RSTlMAEIm7mSJ2q+8y3WZE\n",
       "zVRISQrpAAAACXBIWXMAAA7EAAAOxAGVKw4bAAABMUlEQVQoz2NgQAAHBtwATc4Aj1IDUpUKGRu7\n",
       "YlfKfcP47wprhBxbxQTW5QrYTWVmLeCpNoTLaWszMBw5zMBibNxsbI2hVIHBYDpMjlPhAlCIOwGH\n",
       "qQoMrrwwU5kFCxgYmCZcQFaavGrVqpVwpcwwpcKcQAP5HngiKZ2rimxqoThM6SSeDQwMPBv2IZQy\n",
       "LkV2AKfdVZjSY9wPGBg4E14jYoT9AJLS3vXLBGCxFcQHNjUH4RdeZG9pb7yA4EHc6oiQn44SAoa7\n",
       "ETxReAhAQTiK0inMAjAeDyRcHyDkuVCUskxFBLc3MLaOH0YKd5YNyEoZDbLhXCZQGkBJjneQlDow\n",
       "7GZGhEjI3/ueKNEpXCMAT1mfA5ht/yGkKsEpAAkcsoJGLAZgT0h/eYCBOPDctnkDYVUA7HlJvPq8\n",
       "mWMAAAAASUVORK5CYII=\n",
       "\" style=\"display:inline;vertical-align:middle;\" /></a><br>(see <a class=\"ProveItLink\" href=\"../../../__pv_it/theorems/d097f05075cc16a5aec0fe108e259d95d85de6750/dependencies.ipynb\">dependencies</a>)<br>"
      ],
      "text/plain": [
       "<IPython.core.display.HTML object>"
      ]
     },
     "metadata": {},
     "output_type": "display_data"
    }
   ],
   "source": [
    "%proving rational_pos_within_real_pos"
   ]
  },
  {
   "cell_type": "code",
   "execution_count": null,
   "metadata": {},
   "outputs": [],
   "source": []
  }
 ],
 "metadata": {
  "kernelspec": {
   "display_name": "Python 3",
   "language": "python",
   "name": "python3"
  }
 },
 "nbformat": 4,
 "nbformat_minor": 0
}