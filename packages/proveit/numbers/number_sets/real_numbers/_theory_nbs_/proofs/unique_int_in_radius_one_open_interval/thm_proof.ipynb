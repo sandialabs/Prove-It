{
 "cells": [
  {
   "cell_type": "markdown",
   "metadata": {},
   "source": [
    "Proof of <a class=\"ProveItLink\" href=\"../../../../../../_theory_nbs_/theory.ipynb\">proveit</a>.<a class=\"ProveItLink\" href=\"../../../../../_theory_nbs_/theory.ipynb\">numbers</a>.<a class=\"ProveItLink\" href=\"../../../../_theory_nbs_/theory.ipynb\">number_sets</a>.<a class=\"ProveItLink\" href=\"../../theory.ipynb\">real_numbers</a>.<a class=\"ProveItLink\" href=\"../../theorems.ipynb#unique_int_in_radius_one_open_interval\">unique_int_in_radius_one_open_interval</a> theorem\n",
    "========"
   ]
  },
  {
   "cell_type": "code",
   "execution_count": 1,
   "metadata": {},
   "outputs": [],
   "source": [
    "import proveit\n",
    "theory = proveit.Theory() # the theorem's theory"
   ]
  },
  {
   "cell_type": "code",
   "execution_count": 2,
   "metadata": {},
   "outputs": [
    {
     "data": {
      "text/html": [
       "With these <a href=\"allowed_presumptions.txt\">allowed</a>/<a href=\"disallowed_presumptions.txt\">disallowed</a> theorem/theory presumptions (e.g., to avoid circular dependencies), we begin our proof of<br><strong id=\"unique_int_in_radius_one_open_interval\">unique_int_in_radius_one_open_interval:</strong> <a class=\"ProveItLink\" href=\"../../../__pv_it/theorems/771233644058c681dc17d90294ab1941967e96c80/expr.ipynb\"><img src=\"data:image/png;base64,iVBORw0KGgoAAAANSUhEUgAAAdgAAAAYBAMAAACraPGqAAAAMFBMVEX///8AAAAAAAAAAAAAAAAA\n",
       "AAAAAAAAAAAAAAAAAAAAAAAAAAAAAAAAAAAAAAAAAAAv3aB7AAAAD3RSTlMAq1RmmUTNIjK7EInv\n",
       "3XZ/CtNrAAAACXBIWXMAAA7EAAAOxAGVKw4bAAAFp0lEQVRYw92YfWgcVRDAJ7d7ub29yyatEmsj\n",
       "ZUHB7/YsJZL8kZ4kTSs19WiroBZzUkRaRDfqP2LURETQBpO22nhJCQsGaRrMXVOvlWhKUIrGzwgW\n",
       "SyGy8aPVxoQgaKSK+Oa93du3e7t3Sbl/7MDsvtudm53f+5h5uwCllrmzBW+HOF2+aL4+3SLfZ928\n",
       "0bQoEthlSbbw7R84Xb487PwZePyfPdOHY0Ej3/L8g1arsw+AWmShCn9fX1LYQi4DGVuXJ/LhKQAl\n",
       "5rim7O+AZDnAj/nPuWS39wOzyMIm/PlYSWELuXyH02VKeZwc9tKmUP1GAs9inOCPklu62zgyZbfH\n",
       "gVlkoRNndE9JYQu5bOR0ibLDPFeq5LABW9L32pFm5CvTYEgmTxLixWDRIkuRI2pJYQu5nOB0ibLW\n",
       "PLciXhQPr5BDCMdYBthS1kEanxWDRYssCGQVlJc2QRVwGUjaulxYGnM5LtpV2GqgF6Wql/G0uyjs\n",
       "bpo6v5ye/rzE2djfpZixVZ5fvW/UVUNqLpiJdWTmyAeqE/aR+ZUEArMfBaGQENb78HTME9Z0Mm5a\n",
       "kMi2APT5BR65PFh/lzgwloowY7Q4b+/SwmYWjStrxCkHrPynntZASFqwbfTqrQLtnVo8tEyjfMN6\n",
       "NWk7+c20yOKfQlV+gYuu8xJhXS7LJt/rNzNIhWrrnbBRv8pZXT4Gk1DQhEtlMQcsKSZRAwITTtgk\n",
       "Wy+3uaNoj9lOXlSZRRYnQiRhmUh7zMbtJ+56goMMOxdeL8i1vPnNGryd5GA5l9JMKlGhRUbM2hBN\n",
       "2NoBzawa0QHB7Y24ABWs/kpsaOhofcFGi1yozIC04IBVVPI44rvbxdr2KOdErlapBTENGFwyqTHj\n",
       "UyJwMuMDGxgAeH0uZ05YDZDmpzhYzmUTyZUCvPQ05MMCfOUKMdoDaauXooYrQZFuaFUh6BzZISxx\n",
       "15D57/Ik3a3bTiJIvovt7ZINttGnZnyKAvVGpKmlaVMerHCQDn3OHOpwugV4WOZyfvNPmrnjiVt1\n",
       "kJ/GEFyEo44Q0wZstNqtmqw7YEmZvVdnz7FhV5FKKy+Y4fBrNlxlO1mns4AxslGsWMMNJ7FD/p3R\n",
       "aXwE9mLcPbLy8VkNlAOQg0Vz+JUmTScsulS0a8vVIdY/T3VYjoycym+WTYBz05hWoTqgyThiiety\n",
       "2dGC7SBLGoQeHlaK7yQpgfys88rGlpMP6ZCwyNpJJ8jfSYvIeE6J0/iUSGgg5oZ9V+vWpI/AhkXz\n",
       "LlYgnLDoUoABydz9jOSyOlYOUwN/DU4EnVuPsBH4VoQ0WWjrXrsHtjthy2LhOKtZNmxY3wuhA4R/\n",
       "qxes5YSWnq0sMtyCiHEJF0M4JiRpfIrY35OXoJqgiyzQMRsWzQP9ej4s3dUA6b7aVCqlQmbMmq/S\n",
       "VE7lbcYN6117/TXvt/0CFecABucDjaoTVq7BLWYFrmm6FR3EhXhoMvX1JOE/4wVrOaGwZ+z3sWhC\n",
       "wUke7RCraHyKEtnO1VkGexpmyPGBsRwsmkOQ0jphGdhECPZhI3hTDMbMi2c59ZNbvHdQVJ73fqGd\n",
       "KraDQgsrsrQWricxV0JUpfEpSvAh7k2CwsqLcBAHqHOzBYvmBOpqzQu2PZIUyTzDB4sQtG5v4NRP\n",
       "Mt4vArkXCY/9QKwYLFrkRlbr3qEPQ4Vex+IjpWcs7oKFT6Q/6ulqWU1hmTn22grdA1b8+dRFCL1F\n",
       "WnesmD1kbTLCmq1+L65Gge8c3i9Tz+ZdUbg3jWbTwoos2Lj2OHSp0jaDxXf/+cxgsxt25/rZmPlx\n",
       "5LknT5nm7LNI6MTfhueXiuFUKuEg6bHVR5QCg+7TR735vfI7vy9jFs7IVM/48nZQTnO3jBf+1PMC\n",
       "p8uXC97d49EFz6y0sI+pzGLuNH8/qPt2qNdFf/P/gwhQHFYiuTrVy5m/ihc0uIIkdGVg/AcuWa8r\n",
       "U5tKWQAAAABJRU5ErkJggg==\n",
       "\" style=\"display:inline;vertical-align:middle;\" /></a><br>(see <a class=\"ProveItLink\" href=\"../../../__pv_it/theorems/8d1d7d03112ebbe238ddaeb1f079f2a5bb8e00ff0/dependencies.ipynb\">dependencies</a>)<br>"
      ],
      "text/plain": [
       "<IPython.core.display.HTML object>"
      ]
     },
     "metadata": {},
     "output_type": "display_data"
    }
   ],
   "source": [
    "%proving unique_int_in_radius_one_open_interval"
   ]
  },
  {
   "cell_type": "code",
   "execution_count": null,
   "metadata": {},
   "outputs": [],
   "source": []
  }
 ],
 "metadata": {
  "kernelspec": {
   "display_name": "Python 3",
   "language": "python",
   "name": "python3"
  }
 },
 "nbformat": 4,
 "nbformat_minor": 0
}