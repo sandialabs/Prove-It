{
 "cells": [
  {
   "cell_type": "markdown",
   "metadata": {},
   "source": [
    "Proof of <a class=\"ProveItLink\" href=\"../../../../../../_theory_nbs_/theory.ipynb\">proveit</a>.<a class=\"ProveItLink\" href=\"../../../../../_theory_nbs_/theory.ipynb\">numbers</a>.<a class=\"ProveItLink\" href=\"../../../../_theory_nbs_/theory.ipynb\">number_sets</a>.<a class=\"ProveItLink\" href=\"../../theory.ipynb\">real_numbers</a>.<a class=\"ProveItLink\" href=\"../../theorems.ipynb#interval_oo_upper_bound\">interval_oo_upper_bound</a> theorem\n",
    "========"
   ]
  },
  {
   "cell_type": "code",
   "execution_count": 1,
   "metadata": {},
   "outputs": [],
   "source": [
    "import proveit\n",
    "theory = proveit.Theory() # the theorem's theory"
   ]
  },
  {
   "cell_type": "code",
   "execution_count": 2,
   "metadata": {},
   "outputs": [
    {
     "data": {
      "text/html": [
       "With these <a href=\"allowed_presumptions.txt\">allowed</a>/<a href=\"disallowed_presumptions.txt\">disallowed</a> theorem/theory presumptions (e.g., to avoid circular dependencies), we begin our proof of<br><strong id=\"interval_oo_upper_bound\">interval_oo_upper_bound:</strong> <a class=\"ProveItLink\" href=\"../../../__pv_it/theorems/9d97e0343b690f31bfec58e1a21f3139a25f4db70/expr.ipynb\"><img src=\"data:image/png;base64,iVBORw0KGgoAAAANSUhEUgAAAN4AAAAZBAMAAACspI2IAAAAMFBMVEX///8AAAAAAAAAAAAAAAAA\n",
       "AAAAAAAAAAAAAAAAAAAAAAAAAAAAAAAAAAAAAAAAAAAv3aB7AAAAD3RSTlMAq1RmmUTNIjK7EInv\n",
       "3XZ/CtNrAAAACXBIWXMAAA7EAAAOxAGVKw4bAAADWklEQVRIx62WTWgTQRTHX3c3yWY33QQPglYl\n",
       "IOhB1EWlYKFlS6oVP0MrHizYiAdRUNZ7hQriQSst9FCjUlbowVi00YKFSqW0iIIIxYsgBBKoCi0N\n",
       "vWihB/HNm2yymzTdCBnY3Zl5L/nNvPefDwDvsjNjQl2Klvlai1sC6lYO15tnbm6pN0+LVjVd4rwI\n",
       "++z24NXgxMu+DXuVpws4FJ14x1jHVQ9eDU78j6uEwm/g6zrx7uA7MOTBq8GJiqRv3B9mYT5CPL8F\n",
       "oEY9eDU4UQlV9OwhmfRazGgxnohD8nvppQYn/u/lHa0n6TNDQdVJn18ymc+e+vR2onIKn1e55+/s\n",
       "UKxM8+/l/BYMUIR4JwAee/IqnPY6F0GxdgUfQ9slLXD1zGQLMvpjTZggJoh3CwIR21++Vqjsf9t+\n",
       "08lzOrEixu3aPZSRYTdwuxJNcb2BZBM4Y6tHWIdQFoRZ4gUttfhjaGLQXDKuqTCVdvAcTswMz4q/\n",
       "aEC3HrvxAc0gFRbF1qLAsCecBnmVeELWoYRP+HT0Y4g0aMk6eA4nZuYLkksSm0y+Ng/YVMp4jWno\n",
       "jYKPzw8Sbfgab5tiY/+bs2gfQN6S4dzPyCnfuWiSGTBByuQy0/pgfntpqdD232sqljueuPzOWSAs\n",
       "cN4bXPjKN3mNYb5rRookoAZGdSePOWnmNn+UzAHsemkOMt6KtQiCPbRRgFR8B6jg1ku4X5nHzA5x\n",
       "Xh8qQTJknC0EdTHRTTzpyZBrv2ZOIozKQGYfGjtggFWHoZmaVF4DHLx/Grrs7W1liedYD+KIpDTn\n",
       "NWAGQnEtQsmQIs3JZDKqaWqXi8ecADAGZBYiLFc5nvF2kG3eQ4CxvBAr7USttACVphjLYrx0Hk2Y\n",
       "wRYMehhC0Qc0P83XY1WcR/JsAMiMAGUNhl9gdRXmSvFs7C9fu82lA/G24/wLmYPd1jg0WkdR+pQ/\n",
       "mDbKeX1qQuJmppeP8u8WJQ3fMS2aLWXR2GTbiDl4vtiBSRiIymezEHiE7Qs/02PHy3nSj/dL3Awj\n",
       "AOcPLevyHNzNY9qLkxipjqPzxX2+87iPJ5PxTc53MtsrXKB3qmhMVefRoFw8n1XzfUIqzOgivTtL\n",
       "k8hW5f2quL+I/3F/KWz8unszrc/97MYG90+lSt3j/jn/D3CC0IM1BVn9AAAAAElFTkSuQmCC\n",
       "\" style=\"display:inline;vertical-align:middle;\" /></a><br>(see <a class=\"ProveItLink\" href=\"../../../__pv_it/theorems/f0f15fee79412e5fe58eb836cf2f503b69328f4c0/dependencies.ipynb\">dependencies</a>)<br>"
      ],
      "text/plain": [
       "<IPython.core.display.HTML object>"
      ]
     },
     "metadata": {},
     "output_type": "display_data"
    }
   ],
   "source": [
    "%proving interval_oo_upper_bound"
   ]
  },
  {
   "cell_type": "code",
   "execution_count": null,
   "metadata": {},
   "outputs": [],
   "source": []
  }
 ],
 "metadata": {
  "kernelspec": {
   "display_name": "Python 3",
   "language": "python",
   "name": "python3"
  }
 },
 "nbformat": 4,
 "nbformat_minor": 0
}