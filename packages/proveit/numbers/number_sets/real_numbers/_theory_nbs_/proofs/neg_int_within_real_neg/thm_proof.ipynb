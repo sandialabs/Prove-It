{
 "cells": [
  {
   "cell_type": "markdown",
   "metadata": {},
   "source": [
    "Proof of <a class=\"ProveItLink\" href=\"../../../../../../_theory_nbs_/theory.ipynb\">proveit</a>.<a class=\"ProveItLink\" href=\"../../../../../_theory_nbs_/theory.ipynb\">numbers</a>.<a class=\"ProveItLink\" href=\"../../../../_theory_nbs_/theory.ipynb\">number_sets</a>.<a class=\"ProveItLink\" href=\"../../theory.ipynb\">real_numbers</a>.<a class=\"ProveItLink\" href=\"../../theorems.ipynb#neg_int_within_real_neg\">neg_int_within_real_neg</a> theorem\n",
    "========"
   ]
  },
  {
   "cell_type": "code",
   "execution_count": 1,
   "metadata": {},
   "outputs": [],
   "source": [
    "import proveit\n",
    "theory = proveit.Theory() # the theorem's theory"
   ]
  },
  {
   "cell_type": "code",
   "execution_count": 2,
   "metadata": {},
   "outputs": [
    {
     "data": {
      "text/html": [
       "With these <a href=\"allowed_presumptions.txt\">allowed</a>/<a href=\"disallowed_presumptions.txt\">disallowed</a> theorem/theory presumptions (e.g., to avoid circular dependencies), we begin our proof of<br><strong id=\"neg_int_within_real_neg\">neg_int_within_real_neg:</strong> <a class=\"ProveItLink\" href=\"../../../__pv_it/theorems/4644c9c68ea34e49382ea3aa1b68e02b9f06ce320/expr.ipynb\"><img src=\"data:image/png;base64,iVBORw0KGgoAAAANSUhEUgAAAFMAAAAQBAMAAACYUF7xAAAAMFBMVEX///8AAAAAAAAAAAAAAAAA\n",
       "AAAAAAAAAAAAAAAAAAAAAAAAAAAAAAAAAAAAAAAAAAAv3aB7AAAAD3RSTlMAVM3vu91mdqsymYki\n",
       "EESqKsraAAAACXBIWXMAAA7EAAAOxAGVKw4bAAABCklEQVQoz2NgVP6sEuqcwIANJJn4q5ogpNg9\n",
       "JjAoMDFgBw4nGF6kXIDxuBYwsCdsZOB0AQIfDKWnGVg4GximgCQPMHAcYLjC64DL1NMMXAcUYDxe\n",
       "BoaVHBNQFLC7hoaGToArRTKHs2EWikpO7QNIpnLcbUBIsVzwRVF69QCyA6YIIbgM0mwFKEr7kNx6\n",
       "WPVrLZIUelApIHsr7RKyJwT2MTBcQHY6slKWa0ixc4UH6MUeBJ8HRSnnAiSPdAJDlvcDkjUBKOG6\n",
       "8gjCvgWvGBg4kKQZlqEovcKegAgqXQYeR+ToYnqAUHqKgS3BD8Z77GTiYm+yAUkpr8dbRMryYXDR\n",
       "F2DACfi2wCIWBQAAIB9G8FP6iuUAAAAASUVORK5CYII=\n",
       "\" style=\"display:inline;vertical-align:middle;\" /></a><br>(see <a class=\"ProveItLink\" href=\"../../../__pv_it/theorems/4a589d037040628b115553220abe8e164e4b2d2a0/dependencies.ipynb\">dependencies</a>)<br>"
      ],
      "text/plain": [
       "<IPython.core.display.HTML object>"
      ]
     },
     "metadata": {},
     "output_type": "display_data"
    },
    {
     "name": "stdout",
     "output_type": "stream",
     "text": [
      "neg_int_within_real_neg may now be readily provable (assuming required theorems are usable).  Simply execute \"%qed\".\n"
     ]
    }
   ],
   "source": [
    "%proving neg_int_within_real_neg"
   ]
  },
  {
   "cell_type": "code",
   "execution_count": null,
   "metadata": {},
   "outputs": [],
   "source": []
  }
 ],
 "metadata": {
  "kernelspec": {
   "display_name": "Python 3",
   "language": "python",
   "name": "python3"
  }
 },
 "nbformat": 4,
 "nbformat_minor": 0
}