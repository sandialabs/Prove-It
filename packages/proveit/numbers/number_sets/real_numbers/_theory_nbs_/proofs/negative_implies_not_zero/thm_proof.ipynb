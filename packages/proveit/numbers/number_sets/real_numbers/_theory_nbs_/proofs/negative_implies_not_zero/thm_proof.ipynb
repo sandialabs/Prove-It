{
 "cells": [
  {
   "cell_type": "markdown",
   "metadata": {},
   "source": [
    "Proof of <a class=\"ProveItLink\" href=\"../../../../../../_theory_nbs_/theory.ipynb\">proveit</a>.<a class=\"ProveItLink\" href=\"../../../../../_theory_nbs_/theory.ipynb\">numbers</a>.<a class=\"ProveItLink\" href=\"../../../../_theory_nbs_/theory.ipynb\">number_sets</a>.<a class=\"ProveItLink\" href=\"../../theory.ipynb\">real_numbers</a>.<a class=\"ProveItLink\" href=\"../../theorems.ipynb#negative_implies_not_zero\">negative_implies_not_zero</a> theorem\n",
    "========"
   ]
  },
  {
   "cell_type": "code",
   "execution_count": 1,
   "metadata": {},
   "outputs": [],
   "source": [
    "import proveit\n",
    "theory = proveit.Theory() # the theorem's theory"
   ]
  },
  {
   "cell_type": "code",
   "execution_count": 2,
   "metadata": {},
   "outputs": [
    {
     "data": {
      "text/html": [
       "With these <a href=\"allowed_presumptions.txt\">allowed</a>/<a href=\"disallowed_presumptions.txt\">disallowed</a> theorem/theory presumptions (e.g., to avoid circular dependencies), we begin our proof of<br><strong id=\"negative_implies_not_zero\">negative_implies_not_zero:</strong> <a class=\"ProveItLink\" href=\"../../../__pv_it/theorems/35fd5e7f3d4888f36c256ce747269dfae12ced970/expr.ipynb\"><img src=\"data:image/png;base64,iVBORw0KGgoAAAANSUhEUgAAAKUAAAAXCAMAAABd93+WAAAAPFBMVEX///8AAAAAAAAAAAAAAAAA\n",
       "AAAAAAAAAAAAAAAAAAAAAAAAAAAAAAAAAAAAAAAAAAAAAAAAAAAAAAAAAAAo1xBWAAAAE3RSTlMA\n",
       "q1RmmUTNIjK7EInv3Xbn9enzK1aD6QAAAAlwSFlzAAAOxAAADsQBlSsOGwAAAoBJREFUSMfFV4uy\n",
       "qyAMlDckkPvw///1QgBFS21Pz3gunbEjEll2k226LD843A/FfGuQvH6uYTJpqFzFdi/VvSAlXj/3\n",
       "YbxDJM08UoGlTZ+395IL9sWC4Icbm3mHxIhspth3Ml24l0r9QiovhhuVmE+GpHSDylPyXpTxFZWj\n",
       "lIEhy5WxxXxV7Yz25qx88X4zUrmsmuldmTlbEMZURsSbBd/e7wSSo/PzQ1VAR8kMYjmA5qwN8P6G\n",
       "n6C0PS1NzHjC2rfTzFH69btctxpZsaLkwyjLZ+uXqVIJrRZ2PPvrMss2cpYmtbSHyM6SrqjcUfKX\n",
       "jJ1GNA81RyKEPEtLXooO30RZOFL5TOa0KrYN9MqYT4cwR32gwjOVS88hkia1o3WzL8qfRQG9hdJp\n",
       "kWHGErq6KcoYGIW5orJXj6zVY2Irb9VAACpC1x1/R0mg5yi3gGp5wrFehdAoZ4oD06PWnY2Sj3/+\n",
       "1uzc0i5Up6zZK1Ozymaaxe19IQF2JEVxF0hNUW4B5cih/qTlifK2dHTxQA1lQSvsIkf27Ll0FdOn\n",
       "q8Kqbuii6DLnPcoCowaUOuBB5DDmRQvIGLFvVVHGo9mg2NHKpA9GIR9do1AP0R9MTPg9eUhw8Qce\n",
       "siqORs5RbgF+ELgqvh4V962qQRB6J8hfUZmXaaSOKplTaRUrUwCLx2XMS2MQZij3gJygYYM1q54l\n",
       "+Q+bJXd2rViyzCgYTb460ZPq2QPKytDyhOj8i9ebhrnhw9faFKOVJFTcIbWjG0sWswDazlDuAS3P\n",
       "1dYcwmU7McJ/QeWVPWcFA7v6pHu5airC0y4VnsQleL9X+sL4tBF9bDFqXV3/Dfm0N7+5Xf6PfwW/\n",
       "N/4BdQsUMsGgP7gAAAAASUVORK5CYII=\n",
       "\" style=\"display:inline;vertical-align:middle;\" /></a><br>(see <a class=\"ProveItLink\" href=\"../../../__pv_it/theorems/cb2c670504882641f13aaf5a4c57dc680b75aa750/dependencies.ipynb\">dependencies</a>)<br>"
      ],
      "text/plain": [
       "<IPython.core.display.HTML object>"
      ]
     },
     "metadata": {},
     "output_type": "display_data"
    }
   ],
   "source": [
    "%proving negative_implies_not_zero"
   ]
  },
  {
   "cell_type": "code",
   "execution_count": null,
   "metadata": {},
   "outputs": [],
   "source": []
  }
 ],
 "metadata": {
  "kernelspec": {
   "display_name": "Python 3",
   "language": "python",
   "name": "python3"
  }
 },
 "nbformat": 4,
 "nbformat_minor": 0
}