{
 "cells": [
  {
   "cell_type": "markdown",
   "metadata": {},
   "source": [
    "Proof of <a class=\"ProveItLink\" href=\"../../../../../../_theory_nbs_/theory.ipynb\">proveit</a>.<a class=\"ProveItLink\" href=\"../../../../../_theory_nbs_/theory.ipynb\">numbers</a>.<a class=\"ProveItLink\" href=\"../../../../_theory_nbs_/theory.ipynb\">number_sets</a>.<a class=\"ProveItLink\" href=\"../../theory.ipynb\">real_numbers</a>.<a class=\"ProveItLink\" href=\"../../theorems.ipynb#real_not_in_interval_oo\">real_not_in_interval_oo</a> theorem\n",
    "========"
   ]
  },
  {
   "cell_type": "code",
   "execution_count": 1,
   "metadata": {},
   "outputs": [],
   "source": [
    "import proveit\n",
    "theory = proveit.Theory() # the theorem's theory"
   ]
  },
  {
   "cell_type": "code",
   "execution_count": 2,
   "metadata": {},
   "outputs": [
    {
     "data": {
      "text/html": [
       "With these <a href=\"allowed_presumptions.txt\">allowed</a>/<a href=\"disallowed_presumptions.txt\">disallowed</a> theorem/theory presumptions (e.g., to avoid circular dependencies), we begin our proof of<br><strong id=\"real_not_in_interval_oo\">real_not_in_interval_oo:</strong> <a class=\"ProveItLink\" href=\"../../../__pv_it/theorems/70444ddb24d0f12805316c9d05f1e260ef06fc8b0/expr.ipynb\"><img src=\"data:image/png;base64,iVBORw0KGgoAAAANSUhEUgAAASYAAAAXCAMAAACRSxJUAAAAP1BMVEX///8AAAAAAAAAAAAAAAAA\n",
       "AAAAAAAAAAAAAAAAAAAAAAAAAAAAAAAAAAAAAAAAAAAAAAAAAAAAAAAAAAAAAADFBd4eAAAAFHRS\n",
       "TlMAq1RmmUTNIjK7EInv3Xbp8+P3nXbhrUQAAAAJcEhZcwAADsQAAA7EAZUrDhsAAAQTSURBVFjD\n",
       "3VjZkuMgDOQ+jWZ31v//rcuNiLFjV81LxjU1JLFagrbUCBPyey795K6+602T33UBu7yt3APjeEnA\n",
       "I+2/M/7RLDF/edvQe8bObqEyydEoZKf7o9PLqev7Y53vjJV4yb80dpa1/ehkEm9qIdw23ls9coHG\n",
       "xplnH03TdqVaNnz9Ceqesdy7iG1ujLwyqz5bmc6nLxU4Qs0945guI+8UR+MW0rX5z665On0HQJ3x\n",
       "qDR0KpdZjJox0dSDhhdpotFFgfsqSHkUmWjrfmS20xN+vyfAMjP0c1B78HECQIEIlBLJG4eVsdzi\n",
       "PbtPK3d7pNXteQq8kptHTdu/1z1UXao6C14JqqYJYACXS5TVp7wO3Evo96BQnj+Pdjyumw6NVsem\n",
       "qRq7LW/1YZ5fZm3Lq2JVw8qYEsmv1kTXhWiAWivTU433vfZrmhxdkvSSCtLjddOOw6FPQLOCl/mn\n",
       "whBTgZmkKX+/4z/7aiz2zNnsrKD3/KPZq488MjgR8M0sC0uYlvwRyB2saRJH4rnl6+a4drZ5+QU3\n",
       "Qp+CVjSRngmjXTzu4tV4s7nI5nlm1mRpCuTWirPmZatd5zn4luBmT3rYBAGEjn+jOa00gRNrmsIL\n",
       "Lm7LY7IjTllBwWV9DFNoDBqujs1LYGNDjxbOTfMIK2O3p0XzfdE1iaJXLDR5qS1TfTwu6DjDRhME\n",
       "R6CSAJpQSxQrT6fR5GNTCnxJk1YzzmxoaSgOE/2glJOp4GroCdRdNdAkilBSRxKaHj0qJAAixdI4\n",
       "M0JV3jI6rbtpopUSmeBRb7TVUyrm7o0jsc/OowvJEU3C+lnlxzdpZ1xUGO9G3fY41c62ZCrfW2gM\n",
       "Gq4aCHc7tOivcSL6lTjbFKNmZZzZYkEkZYz7W5PHFEbMjUMbm59UtECxNIkhxG2TtPlipej8NCNE\n",
       "E6MzLi+urRnFMZVOXoW54EZoiYjqrsyBJpPrwomYO0zwaU6Ofku3MI43wBtNIS0+BNesfT/KBDmP\n",
       "vWdIfQRvhZ2qdmR9evrxtvEEa5OU3i1p6iupuHpMz9KC47T6UbVzKzgcuoKwq2PRkWBOOxf+z9u4\n",
       "06lLY3bsG3WYx7EFJMmQPPZXiYxIcKrK9FlvxKuycY8+tDQElxKOcK3vTcrc42TpKGtpLUDG1dAY\n",
       "hF3BscPk4uabphNjf36aPhyUZcxX8JwU7TQiTyd/FiA9gMtvEkw/Kykf8xz3KYim0hEOHH4r2OM0\n",
       "M7SY/EMNPYGQK7vo0+1Z77569XEwdnCKu3x1wk4+p+xK2rRssTFN8tYh0R3mcAPn7N0fz159HIzh\n",
       "nEp7cXbCoifvH/dwdHHnNd/C6D1ubaFhbU2fGE/9xzSuZe/k8wOayCTuxrZLvzv3DdwD0EddM/Pv\n",
       "s9A9+PWB2x+//gN8/SLjbh5x+QAAAABJRU5ErkJggg==\n",
       "\" style=\"display:inline;vertical-align:middle;\" /></a><br>(see <a class=\"ProveItLink\" href=\"../../../__pv_it/theorems/420e3150f47f62f8ac10861d6b4277a308f0bf470/dependencies.ipynb\">dependencies</a>)<br>"
      ],
      "text/plain": [
       "<IPython.core.display.HTML object>"
      ]
     },
     "metadata": {},
     "output_type": "display_data"
    }
   ],
   "source": [
    "%proving real_not_in_interval_oo"
   ]
  },
  {
   "cell_type": "code",
   "execution_count": null,
   "metadata": {},
   "outputs": [],
   "source": []
  }
 ],
 "metadata": {
  "kernelspec": {
   "display_name": "Python 3",
   "language": "python",
   "name": "python3"
  }
 },
 "nbformat": 4,
 "nbformat_minor": 0
}