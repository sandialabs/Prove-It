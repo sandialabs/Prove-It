{
 "cells": [
  {
   "cell_type": "markdown",
   "metadata": {},
   "source": [
    "Proof of <a class=\"ProveItLink\" href=\"../../../../../../_theory_nbs_/theory.ipynb\">proveit</a>.<a class=\"ProveItLink\" href=\"../../../../../_theory_nbs_/theory.ipynb\">numbers</a>.<a class=\"ProveItLink\" href=\"../../../../_theory_nbs_/theory.ipynb\">number_sets</a>.<a class=\"ProveItLink\" href=\"../../theory.ipynb\">real_numbers</a>.<a class=\"ProveItLink\" href=\"../../theorems.ipynb#rescale_interval_oo_membership\">rescale_interval_oo_membership</a> theorem\n",
    "========"
   ]
  },
  {
   "cell_type": "code",
   "execution_count": 1,
   "metadata": {},
   "outputs": [],
   "source": [
    "import proveit\n",
    "theory = proveit.Theory() # the theorem's theory"
   ]
  },
  {
   "cell_type": "code",
   "execution_count": 2,
   "metadata": {},
   "outputs": [
    {
     "data": {
      "text/html": [
       "With these <a href=\"allowed_presumptions.txt\">allowed</a>/<a href=\"disallowed_presumptions.txt\">disallowed</a> theorem/theory presumptions (e.g., to avoid circular dependencies), we begin our proof of<br><strong id=\"rescale_interval_oo_membership\">rescale_interval_oo_membership:</strong> <a class=\"ProveItLink\" href=\"../../../__pv_it/theorems/cb6b1b4f4ef743243d1d6b07a6ce979bacc2c5490/expr.ipynb\"><img src=\"data:image/png;base64,iVBORw0KGgoAAAANSUhEUgAAAWQAAAAZBAMAAAD0/km4AAAAMFBMVEX///8AAAAAAAAAAAAAAAAA\n",
       "AAAAAAAAAAAAAAAAAAAAAAAAAAAAAAAAAAAAAAAAAAAv3aB7AAAAD3RSTlMAq1RmmUTNIjK7EInv\n",
       "3XZ/CtNrAAAACXBIWXMAAA7EAAAOxAGVKw4bAAAEv0lEQVRYw81YX4gbRRj/sn+SzW6yCT6I9bRE\n",
       "hD6orcGo0Hs4U6K2oNTQimCveFUfpIJl76VQsBJBBPX0gqVoTi370AfPQ5O22FqPytkiLZZCKa3i\n",
       "aWCPK560GO5FC/cgfvNnN7PZsbs+VPvBb3Zm8pvZ38x838xsAJLanV0H/n+zuxeSk3fAzWGVGyPZ\n",
       "4RiwzD9Q/1WXN0ayXWIYNN2TUhPZcxwouUgedyeSnCIPpRxPvZcjYotSapyZH5/HsZUZUPJjpPKl\n",
       "RJK1Oj7S8Stp7mCIWtqVUOMtXcXkZY4KvE58rJlIskFWZE88UyszRE2tSqjxViDe8yBHhQ7cKiXz\n",
       "ZTLIw/HMHIfEvuce/En3h4Aab2NkcXIuQwVUHGc6YfhVkkXhGg6JvcjCcJcrUOPtBPWOMgOKONft\n",
       "nk0oOdft/tKJZz7BAd8sNvy6LxY+ncW1PEQLu12RKtIyQ0v+riLUPt+7BV2hyICSNwFMJZSsNSAb\n",
       "CiBFiEU7NJUEe0taECRVe7WGcf8whKN9kLbdya6wnFBr/um2HVBRgMqWehwyRb+FsTOkcu3RDbtE\n",
       "yUgcDxEe8jNvYvdBaF3g+Bly/pSpjrqSwlW9b2CLH6CZp4AMDMK1ygrJK3NAgZKzrlUPuhgKcsZC\n",
       "q25bcKwjHiVT8KVffG/VfjCDsaaQNuoXvmPQVvgckd5Aozonadfoi92ffCqntcnv2jLk2QvFxti0\n",
       "0AFjGShQsuIJ0XcmyD2KnmTbMOyJktcFE6RtIkkw1lxD2HS55Bxf2IuMQTvaTnX099Q+LU8WCfNt\n",
       "1qfYGEcxVgIdZ1if43vACCYzI8fI+P9aIO+1Fj160KDkK1VRclrFF9uXX9vIzrE8vv7IVeLPk73b\n",
       "+1sld4x26Hgec0zsei3NnxcdQ6Rh/pEgJ27LT7mgYCsCIvkwbrfmj8Y1onHeJhIvGXPTNKKszIGy\n",
       "KNlag69dSjVfYBO1G+BzZ5JI/t29DIo/ugMMBWzqL8N0/Q6w8LmelnqBmgFauwS3Ko4J4dpCA30c\n",
       "1CYDkfwqeqRWNXDOIVsmMak1zcZWKln7qBm6FmW+xaSc9Ro6Hcmz6D8wQXL7cC/Qfe4hBox4y9+n\n",
       "7n/7Sdjib2qQDo6uAVrWUy5q1K3F2lQ5i7OhdRiI5BT+lKvbReqSWpEUcDdqtVol27a2hG9yt9FR\n",
       "446zs9V6H+4izrjAYmADGL7kdzlmK1f8xgd7So3ovMSCatU2gSrQzNVfjf8G+fmB2qEa8cI6g3/5\n",
       "bDvZYVzzAuRKVBK8Q2fZ1kfd6OVzAhyDxvVbYF6DfZ9hbhlO9h0j32CQXJi5F+vH+YEtp90jq9zL\n",
       "4UvOOZNb3RnIu+thBtJ16NAjAze5r6uDkjNzR3ELnuLhd9r4Y9jswDx6me0Jl5/IBUh+C5LTpCds\n",
       "jcOXrNfWHYGJkrHZwzRTG3EzH2LtM792Dj4emeXNoz0X9pDpyTrw9ANXy8ZJeKNHS9w+4IhY9Boo\n",
       "o5mebIGa/MYZ/iopCelMq1W/zleJeby1H3Q+HQrbFYIfp0Ol6wqU0WxZUzIhdFJCknW3nyb7kNrI\n",
       "HtvEApkRjyGiJfp5IKNJbYkjLFkV0mSSLTY86qFq/ab7wn5F9j+GsCLmf/Q/xqm/AWXNQ3rPrCgY\n",
       "AAAAAElFTkSuQmCC\n",
       "\" style=\"display:inline;vertical-align:middle;\" /></a><br>(see <a class=\"ProveItLink\" href=\"../../../__pv_it/theorems/cc0f011d94501af100ef06eb37d51c7d25a072e60/dependencies.ipynb\">dependencies</a>)<br>"
      ],
      "text/plain": [
       "<IPython.core.display.HTML object>"
      ]
     },
     "metadata": {},
     "output_type": "display_data"
    }
   ],
   "source": [
    "%proving rescale_interval_oo_membership"
   ]
  },
  {
   "cell_type": "code",
   "execution_count": null,
   "metadata": {},
   "outputs": [],
   "source": []
  }
 ],
 "metadata": {
  "kernelspec": {
   "display_name": "Python 3",
   "language": "python",
   "name": "python3"
  }
 },
 "nbformat": 4,
 "nbformat_minor": 0
}