{
 "cells": [
  {
   "cell_type": "markdown",
   "metadata": {},
   "source": [
    "Proof of <a class=\"ProveItLink\" href=\"../../../../../../_theory_nbs_/theory.ipynb\">proveit</a>.<a class=\"ProveItLink\" href=\"../../../../../_theory_nbs_/theory.ipynb\">numbers</a>.<a class=\"ProveItLink\" href=\"../../../../_theory_nbs_/theory.ipynb\">number_sets</a>.<a class=\"ProveItLink\" href=\"../../theory.ipynb\">real_numbers</a>.<a class=\"ProveItLink\" href=\"../../theorems.ipynb#pos_real_is_real_pos\">pos_real_is_real_pos</a> theorem\n",
    "========"
   ]
  },
  {
   "cell_type": "code",
   "execution_count": 1,
   "metadata": {},
   "outputs": [],
   "source": [
    "import proveit\n",
    "theory = proveit.Theory() # the theorem's theory"
   ]
  },
  {
   "cell_type": "code",
   "execution_count": 2,
   "metadata": {},
   "outputs": [
    {
     "data": {
      "text/html": [
       "With these <a href=\"allowed_presumptions.txt\">allowed</a>/<a href=\"disallowed_presumptions.txt\">disallowed</a> theorem/theory presumptions (e.g., to avoid circular dependencies), we begin our proof of<br><strong id=\"pos_real_is_real_pos\">pos_real_is_real_pos:</strong> <a class=\"ProveItLink\" href=\"../../../__pv_it/theorems/5342eeb9c659859a6b9a5682d3cbd234e0ed89430/expr.ipynb\"><img src=\"data:image/png;base64,iVBORw0KGgoAAAANSUhEUgAAALkAAAAZBAMAAACfn5KBAAAAMFBMVEX///8AAAAAAAAAAAAAAAAA\n",
       "AAAAAAAAAAAAAAAAAAAAAAAAAAAAAAAAAAAAAAAAAAAv3aB7AAAAD3RSTlMAq1RmmUTNIjK7EInv\n",
       "3XZ/CtNrAAAACXBIWXMAAA7EAAAOxAGVKw4bAAACy0lEQVRIx6WWTWgTQRTHn+km+5HNJioUVJCA\n",
       "ZyVY9BAkJlg/6ilaEaSC0R4KIrK9C21B8GAhS6LiRixbEEGLNBiw4kEColVE8FDwYnSL4EerIoIW\n",
       "c/LNbHdnUuOmSQcmzOzO/Pa993/zJgCdtV2+b9PYBei4BdK+rw3sotEx/Ta0pEOqY3qxybOuc+bv\n",
       "t0VGj1gAMTLY1iZcrDZ7Koux4MaSR9cQvZ8MhtqkC+Xm9DIYYyCY5gsTfVDqAGOdCBDN/o9+MOTZ\n",
       "DoMAIYxOON4mPW/xsy+1Ws6jy4zeh1ok8AvtivqNnxxf4GzfPMnoX7G/qtVetkvvJuHc8smmCp/l\n",
       "IiMVhhj9FHp4CKDUVDkfuon9pC7XyTikM/qz9+8s96xi/EYBhkGMcRu3P8icd9auRIYfe5lyGjPi\n",
       "CQivKZ1TtZLMcRtGUHvZCrsZIM2bWS0MM+VGuuJomIIT7pM5dO0HROi68Ro2YzkypR6OPo3cgO19\n",
       "vRdd0TRI2o108Qp1/jlEdWa7atDdAHf4jLwoc9k0gjjIkYIwlZoBLQGUvpBmdKWyqIO0HrFiHdQ4\n",
       "o0/bsJeOIzxduMQdnTwx5j6KrryRlhwrtLA4kWD0ezpZI2ZGQapDJLG8bxPS49AdINs1m6MrxgdG\n",
       "JzkDF1BUIS1VoZ/ShRsGp2ovjFMX+rJIV10QZrJsB+actDrD6Gnokdkx3kN+1mF41CzWnN2macY1\n",
       "LXyUoz+FeacAzmJkonFmlbL14fBnOpm8ark18o8uX/vp0TOevLqctC5T27XggOXRlSUo3iW3xUSD\n",
       "qmpDnRm4Wcs1OxWD7kDV8/0W1Rsz8hGn6qz0K4lmkYXf4Yh/jVzRlLo7Cu7bUQHxOqkaH8u3DjD6\n",
       "sZ2LCdAKzmk67C6Xqqugd8Ua51OmyVxm+S4V/tm5YRX0iO7zUl7DvQot71VfeqB14P2vJHEN/2eo\n",
       "8pgjfwFQ2a70AdbC/QAAAABJRU5ErkJggg==\n",
       "\" style=\"display:inline;vertical-align:middle;\" /></a><br>(see <a class=\"ProveItLink\" href=\"../../../__pv_it/theorems/a6d3dce662a8f6bc38e7714d45a752455ebd77ec0/dependencies.ipynb\">dependencies</a>)<br>"
      ],
      "text/plain": [
       "<IPython.core.display.HTML object>"
      ]
     },
     "metadata": {},
     "output_type": "display_data"
    },
    {
     "name": "stdout",
     "output_type": "stream",
     "text": [
      "pos_real_is_real_pos may now be readily provable (assuming required theorems are usable).  Simply execute \"%qed\".\n"
     ]
    }
   ],
   "source": [
    "%proving pos_real_is_real_pos"
   ]
  },
  {
   "cell_type": "code",
   "execution_count": null,
   "metadata": {},
   "outputs": [],
   "source": []
  }
 ],
 "metadata": {
  "kernelspec": {
   "display_name": "Python 3",
   "language": "python",
   "name": "python3"
  }
 },
 "nbformat": 4,
 "nbformat_minor": 0
}