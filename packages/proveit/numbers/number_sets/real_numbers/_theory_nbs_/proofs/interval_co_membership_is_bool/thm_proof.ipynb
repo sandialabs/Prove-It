{
 "cells": [
  {
   "cell_type": "markdown",
   "metadata": {},
   "source": [
    "Proof of <a class=\"ProveItLink\" href=\"../../../../../../_theory_nbs_/theory.ipynb\">proveit</a>.<a class=\"ProveItLink\" href=\"../../../../../_theory_nbs_/theory.ipynb\">numbers</a>.<a class=\"ProveItLink\" href=\"../../../../_theory_nbs_/theory.ipynb\">number_sets</a>.<a class=\"ProveItLink\" href=\"../../theory.ipynb\">real_numbers</a>.<a class=\"ProveItLink\" href=\"../../theorems.ipynb#interval_co_membership_is_bool\">interval_co_membership_is_bool</a> theorem\n",
    "========"
   ]
  },
  {
   "cell_type": "code",
   "execution_count": 1,
   "metadata": {},
   "outputs": [],
   "source": [
    "import proveit\n",
    "theory = proveit.Theory() # the theorem's theory"
   ]
  },
  {
   "cell_type": "code",
   "execution_count": 2,
   "metadata": {},
   "outputs": [
    {
     "data": {
      "text/html": [
       "With these <a href=\"allowed_presumptions.txt\">allowed</a>/<a href=\"disallowed_presumptions.txt\">disallowed</a> theorem/theory presumptions (e.g., to avoid circular dependencies), we begin our proof of<br><strong id=\"interval_co_membership_is_bool\">interval_co_membership_is_bool:</strong> <a class=\"ProveItLink\" href=\"../../../__pv_it/theorems/c869652f3508b8d388cdaacc6d52342daa54d8980/expr.ipynb\"><img src=\"data:image/png;base64,iVBORw0KGgoAAAANSUhEUgAAAQQAAAAWBAMAAADUT/8dAAAAMFBMVEX///8AAAAAAAAAAAAAAAAA\n",
       "AAAAAAAAAAAAAAAAAAAAAAAAAAAAAAAAAAAAAAAAAAAv3aB7AAAAD3RSTlMAq1RmmUTNIjK7EInv\n",
       "3XZ/CtNrAAAACXBIWXMAAA7EAAAOxAGVKw4bAAADnElEQVRIx8VWW0gUURj+d3f2OuskRIQUshDU\n",
       "Q5lLD4IGMmFZdF0UfMguCwWRiK0vgSBhT0EX3IegtmgdwYfEUCs3qUh8kbIoNOgqCyuWD4YSQhlG\n",
       "0jnnP9Oeubjz2A/fMPPNN/98c/7/nDMAjjH/0YZMcJhDyXYYCT+HXfhXy26OjN2bIghLyDET4c0h\n",
       "jF81fq55MoZ8BooptamwBatmK0dhC72vyWGGwxDJE/6mdchnYA9lzhS2YNGE4ginUThN4NMQRgv1\n",
       "MBxEPgMXaU2ShS1YNFIU4WRhkcCjIswWdriQzzAjcqSwBYsmzCE0x53se4sF7zI9vuQQVMyCD/kM\n",
       "eMjH+Bza0aLZzJF/WYtmMwryBD2e4hBU1ML6nciTbn+dzb5ymhFmzQGO/um7T9nonNeEQrSOXMAL\n",
       "X+k0uXsfEIKKtGP/5CDyJP0+gFtOFswa/cNUpVSaMPQqseB9Dl34roGm0BJABSDEjk4eb/6zH3mS\n",
       "vhX8xfqdwFl+UvZoV4tgQdTQeIvwJDzLLtaVccHCvSgcwotyDd4AbAOEoKKFmGnQGE/SBzWhfhuo\n",
       "j+lUTJFheDBvwaAhMYYIgIRZA6RS2U/cwhGAKZTVAvwG6ASEoKIWgt5BxpP07pzQaS8IdpMlVlGg\n",
       "Kpe3YNDkLZBpgaJQUhiFcQj9wIsp8JJpeQwQgopZgCTj6eIbryaHvuph6nNlWlPoyBILc6qwQDPN\n",
       "wt4vCUMhAE4mQqzsE3kLoRXwfNeXBYlMyzJACCq0EGc8Tf+giRj8EFiib/6sqL1sAsv+dFSwQDVK\n",
       "osTHF4c0oje2EWRGLAgWFsEV3wLU2S/aF1AJCEHFLLhzjKfp20mnSWpglJwGo554PbMg3U6K2xTV\n",
       "eCAd4BSfZ+WXD0IdTr9IvhBpKFPV0E9ysRauCzNYUEGyEUaGkKfpXaT24ZhCWz7cIRVXpFKpiKLI\n",
       "daIFF9uCl3TqGqJnwV2DWUMlR/9Z6P52qbQDsmQYuofoSL7jEFSz4110p2S8vhEPJIJV5Jk1EI5c\n",
       "YaOgeBs182YdGNU3/qIOhLA8PjYt0G79cf8EQlSBcE9PH0501mt9UKRVkgnIegGeqCYL7XJc4qe2\n",
       "W49xgZadtzTk9fTemu0P4WokcDgH/pvkumF2sKfWZEH6OjKnP3uDY3UL/TrTxmEXbZY/IqxrXyoV\n",
       "c/pr6uVY3ULO0S3nDem9mq3umc3fnT+HsFow/zsqCYRdUH5+TGQ88F/iL3YhHYbcZdxsAAAAAElF\n",
       "TkSuQmCC\n",
       "\" style=\"display:inline;vertical-align:middle;\" /></a><br>(see <a class=\"ProveItLink\" href=\"../../../__pv_it/theorems/af5aaac2148d464b2d80cdc49d0a01a9e09172ef0/dependencies.ipynb\">dependencies</a>)<br>"
      ],
      "text/plain": [
       "<IPython.core.display.HTML object>"
      ]
     },
     "metadata": {},
     "output_type": "display_data"
    },
    {
     "name": "stdout",
     "output_type": "stream",
     "text": [
      "interval_co_membership_is_bool may now be readily provable (assuming required theorems are usable).  Simply execute \"%qed\".\n"
     ]
    }
   ],
   "source": [
    "%proving interval_co_membership_is_bool"
   ]
  },
  {
   "cell_type": "code",
   "execution_count": null,
   "metadata": {},
   "outputs": [],
   "source": []
  }
 ],
 "metadata": {
  "kernelspec": {
   "display_name": "Python 3",
   "language": "python",
   "name": "python3"
  }
 },
 "nbformat": 4,
 "nbformat_minor": 0
}