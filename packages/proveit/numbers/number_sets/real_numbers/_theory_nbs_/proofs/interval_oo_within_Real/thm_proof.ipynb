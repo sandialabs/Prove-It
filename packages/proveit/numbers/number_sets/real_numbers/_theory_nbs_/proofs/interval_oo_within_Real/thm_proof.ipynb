{
 "cells": [
  {
   "cell_type": "markdown",
   "metadata": {},
   "source": [
    "Proof of <a class=\"ProveItLink\" href=\"../../../../../../_theory_nbs_/theory.ipynb\">proveit</a>.<a class=\"ProveItLink\" href=\"../../../../../_theory_nbs_/theory.ipynb\">numbers</a>.<a class=\"ProveItLink\" href=\"../../../../_theory_nbs_/theory.ipynb\">number_sets</a>.<a class=\"ProveItLink\" href=\"../../theory.ipynb\">real_numbers</a>.<a class=\"ProveItLink\" href=\"../../theorems.ipynb#interval_oo_within_Real\">interval_oo_within_Real</a> theorem\n",
    "========"
   ]
  },
  {
   "cell_type": "code",
   "execution_count": 1,
   "metadata": {},
   "outputs": [],
   "source": [
    "import proveit\n",
    "theory = proveit.Theory() # the theorem's theory"
   ]
  },
  {
   "cell_type": "code",
   "execution_count": 2,
   "metadata": {},
   "outputs": [
    {
     "data": {
      "text/html": [
       "With these <a href=\"allowed_presumptions.txt\">allowed</a>/<a href=\"disallowed_presumptions.txt\">disallowed</a> theorem/theory presumptions (e.g., to avoid circular dependencies), we begin our proof of<br><strong id=\"interval_oo_within_Real\">interval_oo_within_Real:</strong> <a class=\"ProveItLink\" href=\"../../../__pv_it/theorems/80c75a888618107fa9124c4e8eac59d6739a4e1f0/expr.ipynb\"><img src=\"data:image/png;base64,iVBORw0KGgoAAAANSUhEUgAAAKgAAAAWBAMAAACmpcqCAAAAMFBMVEX///8AAAAAAAAAAAAAAAAA\n",
       "AAAAAAAAAAAAAAAAAAAAAAAAAAAAAAAAAAAAAAAAAAAv3aB7AAAAD3RSTlMAq1RmmUTNIjK7EInv\n",
       "3XZ/CtNrAAAACXBIWXMAAA7EAAAOxAGVKw4bAAAC1UlEQVQ4y61VS2gTURQ9SSbNzCSZBkUXFmRA\n",
       "cKFWApVCu6iR+gNBgwU3LTZSRCwi06WgkILoQqVBwTpRywhuShdJLVgRBEEUUYQiilKMThGsupDi\n",
       "omIX4n2fSTK1Gbrwwpncd+fl3Hd/b4BViCWx3LaixLAqMUwBnxxdvityyl78cA2IukCKGTYFkm6V\n",
       "8ES/NUNe0su3abFUdG0R+AzsYesTQZx6TqAmTRl6DP5LWkZhmN46GGZpKASRKmmBmjSzXOxYiXRf\n",
       "E+Uhw3gRN4NIExI16XeYyRGLb5VK5X2VVCPlBSJ0hqbAlG6WqMkjngNx+AvT9SfdcIeUAeBVpfIy\n",
       "kPSARKxl3hWWYz/WUHi8xPq7+vDVq6w6k8B+oBhIOiDRZ2lLonKLTslChNculK0jffbpI8tJOzCE\n",
       "WMqzqyel0np/12nP+FpAfwJlhhvCS0i4CD/mSagv1FQnd7SNdCde89bCmOfsrBHHdFnangooC0gK\n",
       "k5JDcxnqAtOHfdUvtjFlhPy6dd6eE3bnqbUNdLp+0kQBJeGduPtNRPlJh3yk5zUWfh8h10WPiS5W\n",
       "RfXPnMNHhUi/Z/zhl1zsrLbpIQdhnoukj1S5yDq+lXBvkBVR/cW4Zo3MOB/3eGzM6/cxgZKJ9WFL\n",
       "Z6R5yi8iBW8yaqR6gWYUHYSzVCclo7JotHQk18NJlZvVKZsU0NzwGwUlKkUorVEUikjw8TrSDNq0\n",
       "rOi/EOUwkTVYCyTySqrdtm3TMOKHvc1XBPSND4a+IjlLWks3C1wkeHydU72lflva9Z/AW/nHkqV1\n",
       "0stmJMxL/KRGtFduRjIvIGSLp5yTv7235ZhWL9QZb76tkR5nAkmnA7yA1FIPvULRBcEhxGs0dAdd\n",
       "QFyi3duncNlUD7qI3aD1kS/lu3u9XaMSfJq8Rmt8s53xL8VlNWHbWZ95XILnpVqWht+TUd8q6jT4\n",
       "6rgCPplv+PHxe4vgP8lf5A6ui26pLqkAAAAASUVORK5CYII=\n",
       "\" style=\"display:inline;vertical-align:middle;\" /></a><br>(see <a class=\"ProveItLink\" href=\"../../../__pv_it/theorems/87672b2049a33ea238d70947e03e768f0886ef540/dependencies.ipynb\">dependencies</a>)<br>"
      ],
      "text/plain": [
       "<IPython.core.display.HTML object>"
      ]
     },
     "metadata": {},
     "output_type": "display_data"
    }
   ],
   "source": [
    "%proving interval_oo_within_Real"
   ]
  },
  {
   "cell_type": "code",
   "execution_count": null,
   "metadata": {},
   "outputs": [],
   "source": []
  }
 ],
 "metadata": {
  "kernelspec": {
   "display_name": "Python 3",
   "language": "python",
   "name": "python3"
  }
 },
 "nbformat": 4,
 "nbformat_minor": 0
}