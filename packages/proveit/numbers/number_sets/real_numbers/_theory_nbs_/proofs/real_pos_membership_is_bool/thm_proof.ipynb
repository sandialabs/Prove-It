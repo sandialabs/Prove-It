{
 "cells": [
  {
   "cell_type": "markdown",
   "metadata": {},
   "source": [
    "Proof of <a class=\"ProveItLink\" href=\"../../../../../../_theory_nbs_/theory.ipynb\">proveit</a>.<a class=\"ProveItLink\" href=\"../../../../../_theory_nbs_/theory.ipynb\">numbers</a>.<a class=\"ProveItLink\" href=\"../../../../_theory_nbs_/theory.ipynb\">number_sets</a>.<a class=\"ProveItLink\" href=\"../../theory.ipynb\">real_numbers</a>.<a class=\"ProveItLink\" href=\"../../theorems.ipynb#real_pos_membership_is_bool\">real_pos_membership_is_bool</a> theorem\n",
    "========"
   ]
  },
  {
   "cell_type": "code",
   "execution_count": 1,
   "metadata": {},
   "outputs": [],
   "source": [
    "import proveit\n",
    "theory = proveit.Theory() # the theorem's theory"
   ]
  },
  {
   "cell_type": "code",
   "execution_count": 2,
   "metadata": {},
   "outputs": [
    {
     "data": {
      "text/html": [
       "With these <a href=\"allowed_presumptions.txt\">allowed</a>/<a href=\"disallowed_presumptions.txt\">disallowed</a> theorem/theory presumptions (e.g., to avoid circular dependencies), we begin our proof of<br><strong id=\"real_pos_membership_is_bool\">real_pos_membership_is_bool:</strong> <a class=\"ProveItLink\" href=\"../../../__pv_it/theorems/07c8975a86effefa737feb72a95279d707d4cef80/expr.ipynb\"><img src=\"data:image/png;base64,iVBORw0KGgoAAAANSUhEUgAAAK0AAAAZBAMAAACx2rMTAAAAMFBMVEX///8AAAAAAAAAAAAAAAAA\n",
       "AAAAAAAAAAAAAAAAAAAAAAAAAAAAAAAAAAAAAAAAAAAv3aB7AAAAD3RSTlMAq1RmmUTNIjK7EInv\n",
       "3XZ/CtNrAAAACXBIWXMAAA7EAAAOxAGVKw4bAAACqklEQVRIx51WTWgTURCeJJvdbELCQhGxp4K9\n",
       "eantQVCx8aDViiIIvRRrsIdCCRiPQqEtCB5a6EOpkIC6BS96sKEK3kouCkEUexLE1S1VQdEehJpY\n",
       "EDr782bf/pnWgf1eOx987+0382YDEI7URQ7xUXSfqJBi8r0E8cHwuRHDKSwynS1x6KCbMmPIE5FZ\n",
       "tY9DyKBy9feHO6QL7wP8z+a18hr6l9cBNCtxUGSnCMJbKlq6q0a666G3GFMm9wEUUPSU9f+ESJ4j\n",
       "iNCtA5sFqVptVvHcy3pQ9xI8V9HEbYDZkNFbBJG6QzKdV+4L6/YncB1HDvfM9QhcZpuDF98Mo0S6\n",
       "KulKLMBbuta2Z7EWuKcsahTecqAY+S6ct3uJdAuNAI+6+4/h+gOf14bxShRJlFzIbnbPrdj9OCn4\n",
       "kLk9Qbpp5608no09WavjegVNOANQ83nIXJBg3Txv21jxdF9++qjz+waZNvh5drn8dxjXhRmA66Bo\n",
       "oq6suXAEBvUuOyPU7elR4cIoTnVlsW4bI7jvNDaxqud8oyBfdGEGTjuZeQODuT7UBoSbuRXgUVdN\n",
       "oxHLqJg0fWXzzgvwxsk8Evvspuo1rdIO8JauZf00+gAl6zpvDn2uBHXTLXhsv4GoK93ymj3TAj9v\n",
       "66JRC5bWCpazUDkgu02cYA5kFxMNqNvtZAq6WbZBMm4/eLylmzSdfoApPFsK7md4/zYcSLYfNtLO\n",
       "Xlc93SIMqFSOlNu/xLNRWH2G63H7gJYZ0PIdAiF7weztd1JLizqfZ38q6t1fNMA1P/+1+cCeZ3DS\n",
       "s6qh8D9fEFCM3jOi5jHNhyA/TrMxV5J2Mc8CEZpnvP9oukhfVvkdh3mCTnE4Jp/SorKJHg6d4l1M\n",
       "Pl/57+8b7P37BocI/h17/B7v6veDFcNxvx+wnDtQqb+dnnHPZgAAAABJRU5ErkJggg==\n",
       "\" style=\"display:inline;vertical-align:middle;\" /></a><br>(see <a class=\"ProveItLink\" href=\"../../../__pv_it/theorems/dd5365477a3f15a62a4f85915bbd304de94eb7000/dependencies.ipynb\">dependencies</a>)<br>"
      ],
      "text/plain": [
       "<IPython.core.display.HTML object>"
      ]
     },
     "metadata": {},
     "output_type": "display_data"
    },
    {
     "name": "stdout",
     "output_type": "stream",
     "text": [
      "real_pos_membership_is_bool may now be readily provable (assuming required theorems are usable).  Simply execute \"%qed\".\n"
     ]
    }
   ],
   "source": [
    "%proving real_pos_membership_is_bool"
   ]
  },
  {
   "cell_type": "code",
   "execution_count": null,
   "metadata": {},
   "outputs": [],
   "source": []
  }
 ],
 "metadata": {
  "kernelspec": {
   "display_name": "Python 3",
   "language": "python",
   "name": "python3"
  }
 },
 "nbformat": 4,
 "nbformat_minor": 0
}