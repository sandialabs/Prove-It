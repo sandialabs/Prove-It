{
 "cells": [
  {
   "cell_type": "markdown",
   "metadata": {},
   "source": [
    "Proof of <a class=\"ProveItLink\" href=\"../../../../../../_theory_nbs_/theory.ipynb\">proveit</a>.<a class=\"ProveItLink\" href=\"../../../../../_theory_nbs_/theory.ipynb\">numbers</a>.<a class=\"ProveItLink\" href=\"../../../../_theory_nbs_/theory.ipynb\">number_sets</a>.<a class=\"ProveItLink\" href=\"../../theory.ipynb\">real_numbers</a>.<a class=\"ProveItLink\" href=\"../../theorems.ipynb#real_pos_within_real_nonneg\">real_pos_within_real_nonneg</a> theorem\n",
    "========"
   ]
  },
  {
   "cell_type": "code",
   "execution_count": 1,
   "metadata": {},
   "outputs": [],
   "source": [
    "import proveit\n",
    "theory = proveit.Theory() # the theorem's theory"
   ]
  },
  {
   "cell_type": "code",
   "execution_count": 2,
   "metadata": {},
   "outputs": [
    {
     "data": {
      "text/html": [
       "With these <a href=\"allowed_presumptions.txt\">allowed</a>/<a href=\"disallowed_presumptions.txt\">disallowed</a> theorem/theory presumptions (e.g., to avoid circular dependencies), we begin our proof of<br><strong id=\"real_pos_within_real_nonneg\">real_pos_within_real_nonneg:</strong> <a class=\"ProveItLink\" href=\"../../../__pv_it/theorems/0692ca38afebcac3ae98f4963ae75378fb42705f0/expr.ipynb\"><img src=\"data:image/png;base64,iVBORw0KGgoAAAANSUhEUgAAAFwAAAAUBAMAAADyykdqAAAAMFBMVEX///8AAAAAAAAAAAAAAAAA\n",
       "AAAAAAAAAAAAAAAAAAAAAAAAAAAAAAAAAAAAAAAAAAAv3aB7AAAAD3RSTlMAZs3vu90iq0QQiTKZ\n",
       "VHZ+Ip2vAAAACXBIWXMAAA7EAAAOxAGVKw4bAAABKElEQVQoz2NgIAJsaQBTq14hC/LgVM655AKQ\n",
       "ZHzA4YAkyILH/CcCDAzMGxi+EamcQeQBQ/4EBlsGIRN/VRMB7MoRcgwMwgn7JzAEMjA4pDO0i0zA\n",
       "bjpcjmGWBwNQuR1QKIuBhbuA4YiLs4uLALpyiBwDQ041A8gxf8FCPAkKOEyHyqUDVUO9ChZyQFbO\n",
       "5xoaGroBrtyBYfoxsPADjgKwEPvMAiTl3FoJSKaD5GZCeKveTAALbbmUgKR8agKyYyBySO5LVv36\n",
       "EjlWK7DIIXtHcBKKgAKG3BYXIEiACbFMRA5AcMAxYJcDC3Ef8ETisxXgloN453QKskAAHjmw0BQ+\n",
       "ZBsP4pEDCuUwMAp4IAkwNeCWA6U6NwYX/QtImcG9E6ccNsCxBJYIMAAAeQhYF/THIuIAAAAASUVO\n",
       "RK5CYII=\n",
       "\" style=\"display:inline;vertical-align:middle;\" /></a><br>(see <a class=\"ProveItLink\" href=\"../../../__pv_it/theorems/46144c6a75b4d9d28f82aa6d39dd91e8eb37770c0/dependencies.ipynb\">dependencies</a>)<br>"
      ],
      "text/plain": [
       "<IPython.core.display.HTML object>"
      ]
     },
     "metadata": {},
     "output_type": "display_data"
    }
   ],
   "source": [
    "%proving real_pos_within_real_nonneg"
   ]
  },
  {
   "cell_type": "code",
   "execution_count": null,
   "metadata": {},
   "outputs": [],
   "source": []
  }
 ],
 "metadata": {
  "kernelspec": {
   "display_name": "Python 3",
   "language": "python",
   "name": "python3"
  }
 },
 "nbformat": 4,
 "nbformat_minor": 0
}