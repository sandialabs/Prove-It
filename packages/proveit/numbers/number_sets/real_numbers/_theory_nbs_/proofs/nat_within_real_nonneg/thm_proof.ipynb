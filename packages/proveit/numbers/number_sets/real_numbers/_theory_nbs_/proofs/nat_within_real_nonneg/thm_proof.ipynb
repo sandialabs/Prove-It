{
 "cells": [
  {
   "cell_type": "markdown",
   "metadata": {},
   "source": [
    "Proof of <a class=\"ProveItLink\" href=\"../../../../../../_theory_nbs_/theory.ipynb\">proveit</a>.<a class=\"ProveItLink\" href=\"../../../../../_theory_nbs_/theory.ipynb\">numbers</a>.<a class=\"ProveItLink\" href=\"../../../../_theory_nbs_/theory.ipynb\">number_sets</a>.<a class=\"ProveItLink\" href=\"../../theory.ipynb\">real_numbers</a>.<a class=\"ProveItLink\" href=\"../../theorems.ipynb#nat_within_real_nonneg\">nat_within_real_nonneg</a> theorem\n",
    "========"
   ]
  },
  {
   "cell_type": "code",
   "execution_count": 1,
   "metadata": {},
   "outputs": [],
   "source": [
    "import proveit\n",
    "theory = proveit.Theory() # the theorem's theory"
   ]
  },
  {
   "cell_type": "code",
   "execution_count": 2,
   "metadata": {},
   "outputs": [
    {
     "data": {
      "text/html": [
       "With these <a href=\"allowed_presumptions.txt\">allowed</a>/<a href=\"disallowed_presumptions.txt\">disallowed</a> theorem/theory presumptions (e.g., to avoid circular dependencies), we begin our proof of<br><strong id=\"nat_within_real_nonneg\">nat_within_real_nonneg:</strong> <a class=\"ProveItLink\" href=\"../../../__pv_it/theorems/b025f089f32ea9a8476f295465bc4b63f7409fac0/expr.ipynb\"><img src=\"data:image/png;base64,iVBORw0KGgoAAAANSUhEUgAAAE4AAAAUBAMAAADRkRa/AAAAMFBMVEX///8AAAAAAAAAAAAAAAAA\n",
       "AAAAAAAAAAAAAAAAAAAAAAAAAAAAAAAAAAAAAAAAAAAv3aB7AAAAD3RSTlMAEN27zYnvRFSrImZ2\n",
       "MpmnAiL6AAAACXBIWXMAAA7EAAAOxAGVKw4bAAABWklEQVQoz2NgwAcuF4Cp0KMM+AFjcAOQ5D7A\n",
       "bkBAIcPhDQwMbBcYfhFSx7D5AMN6AYYMBqHPJgIMYd8KUCS3JNs7JW+AsLctuC/AoM3AYME+gYHx\n",
       "A5opBisZKjcLgFii5gxAdTkMDJMWRDMwJKCrW8rAzDsByFg3lwFk7w8GhhkGLAsYFDDV8S1wYGBY\n",
       "CVQG9cesPVwOUHU8RkpKShfg6gwYJF+BhQ8AncYwi/PCUYg6XtcFSOZxCk5gEITwQs8BnTqLwYC5\n",
       "AKxOaAGyvZdbFqA4ZRbDPUZFsLrpSO5b5vTpIAOaOu6GZrB/HZD9sVsEFL/GQLAApo5hIidIHTgc\n",
       "4OqYpTegm8cgyQiylwtFHe8DQwx1vAfA6UEBJfzeLkZVZwvEZ8HqXqOoE+ZBtdgDiPnAXmBBJAaD\n",
       "dQzcG8yRlV35BjSLEayO0bIQkV6sGIz9G3CkNfZgWLxhAABn4lrufhPK/QAAAABJRU5ErkJggg==\n",
       "\" style=\"display:inline;vertical-align:middle;\" /></a><br>(see <a class=\"ProveItLink\" href=\"../../../__pv_it/theorems/84d1af30049899efc84e70c946c3e14b0b43c3c50/dependencies.ipynb\">dependencies</a>)<br>"
      ],
      "text/plain": [
       "<IPython.core.display.HTML object>"
      ]
     },
     "metadata": {},
     "output_type": "display_data"
    },
    {
     "name": "stdout",
     "output_type": "stream",
     "text": [
      "nat_within_real_nonneg may now be readily provable (assuming required theorems are usable).  Simply execute \"%qed\".\n"
     ]
    }
   ],
   "source": [
    "%proving nat_within_real_nonneg"
   ]
  },
  {
   "cell_type": "code",
   "execution_count": null,
   "metadata": {},
   "outputs": [],
   "source": []
  }
 ],
 "metadata": {
  "kernelspec": {
   "display_name": "Python 3",
   "language": "python",
   "name": "python3"
  }
 },
 "nbformat": 4,
 "nbformat_minor": 0
}