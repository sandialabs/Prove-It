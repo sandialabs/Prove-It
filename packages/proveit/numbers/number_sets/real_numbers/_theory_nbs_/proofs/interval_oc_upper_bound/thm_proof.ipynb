{
 "cells": [
  {
   "cell_type": "markdown",
   "metadata": {},
   "source": [
    "Proof of <a class=\"ProveItLink\" href=\"../../../../../../_theory_nbs_/theory.ipynb\">proveit</a>.<a class=\"ProveItLink\" href=\"../../../../../_theory_nbs_/theory.ipynb\">numbers</a>.<a class=\"ProveItLink\" href=\"../../../../_theory_nbs_/theory.ipynb\">number_sets</a>.<a class=\"ProveItLink\" href=\"../../theory.ipynb\">real_numbers</a>.<a class=\"ProveItLink\" href=\"../../theorems.ipynb#interval_oc_upper_bound\">interval_oc_upper_bound</a> theorem\n",
    "========"
   ]
  },
  {
   "cell_type": "code",
   "execution_count": 1,
   "metadata": {},
   "outputs": [],
   "source": [
    "import proveit\n",
    "theory = proveit.Theory() # the theorem's theory"
   ]
  },
  {
   "cell_type": "code",
   "execution_count": 2,
   "metadata": {},
   "outputs": [
    {
     "data": {
      "text/html": [
       "With these <a href=\"allowed_presumptions.txt\">allowed</a>/<a href=\"disallowed_presumptions.txt\">disallowed</a> theorem/theory presumptions (e.g., to avoid circular dependencies), we begin our proof of<br><strong id=\"interval_oc_upper_bound\">interval_oc_upper_bound:</strong> <a class=\"ProveItLink\" href=\"../../../__pv_it/theorems/2b846b045b05992bb4caa740ae9f9e585baf60880/expr.ipynb\"><img src=\"data:image/png;base64,iVBORw0KGgoAAAANSUhEUgAAANwAAAAZBAMAAACoUV21AAAAMFBMVEX///8AAAAAAAAAAAAAAAAA\n",
       "AAAAAAAAAAAAAAAAAAAAAAAAAAAAAAAAAAAAAAAAAAAv3aB7AAAAD3RSTlMAq1RmmUTNIjK7EInv\n",
       "3XZ/CtNrAAAACXBIWXMAAA7EAAAOxAGVKw4bAAADTElEQVRIx62WTWgTQRTHX7Kb7GaTboIHQasS\n",
       "EPQg6qJSaMGSkvqBn6EVDxZsxIMoKOu9QgTxoJUGetColBV6sBZttGChUiktoiBC8SIIgQSqQktD\n",
       "L1roQXzzNtnMbtvsCnmwu5N5b/Pb+c97MwPgbtsLOjTC1MJXL2FpaJQdbDBOr+9pME6Nb+i6aOJi\n",
       "7LHTBechiGzPur3K0zn8Eo1wR1jHFRechyD63zU67CINgwm8XSPcbbxLWRechyBmouboOHyCHlGm\n",
       "8SHCBQ2AcNwF5yGIWcTxe2nSfPYazGkwnIBfFHRLFQ9BJJ1d2qlipTVFimqUmV8Khc+umekexOwk\n",
       "Xq9Kz9+RDsppS9pL5U2oToxwxwEeu+LWBO3m2q2xSuMyXgl1hzjHaJst8ZU/xpgOQppwN0GqhoN8\n",
       "tdLY+7bjBo/jg5gJqWrrLmZQ1YVrlKALqz4aVg3nX4VIEfzThAsZYetdaGbMUi6lhmEiz+G4IOaG\n",
       "Z9YbvnwN9wG9IFaqQbLExJ5oHuRlwvmLXBJ8wqszg0WpQluRw3FBzG0WopmNGRsO2EAcqdKUh944\n",
       "BMzRQbodb6PtE+zL/5YMKn/ELST4RYyCysfmdXIDzo4yvshqeKC8lRcTs15XDHshYNmdNcA/Z+Le\n",
       "YL0r3+QVRvmuJkZo8QtLQxqPY0GqviUYJ7eEXS/1AYZbMuYt3BDASGobhB1lHs0oszirWRPXh9Fi\n",
       "QsaxQkgT0t2EE59kbUs0CxJgSAZyB9DZCf2sOQgtFu41wP57p6CLq0SmvE8LoVJi3sT5sCuSUmM0\n",
       "EWKsJZfLxVU13GXDsSAAVIDc/hibqJI52x0W7gHAcNmfdC4/SnOSzWCqtgGN6aE2VDwKkfh9Gp0a\n",
       "6DHWbEDytATklrOgrMDgC2wuw4yFa8rUqd5b3H4X0Qe6jVFoMlox52nuYDLhxPWF06LpZqnyUf7d\n",
       "puThO85JFSck6uCSHC6Q3DcO/XH5TBGkR/j7/M/88FEnTvzxfsF0w0OAcwcWNXkG7pRrhcC6LQUL\n",
       "ZNZ4aUOx7+am6KO5XKrObk7unuqCQXcLN7Lx4EK6ExcwPB8exMqh5IIdJxU3xP1ac1YR/uOsUtnJ\n",
       "NDuuISex6+ucMxV+Ryh6PWfO/gMR/NHxDavSIgAAAABJRU5ErkJggg==\n",
       "\" style=\"display:inline;vertical-align:middle;\" /></a><br>(see <a class=\"ProveItLink\" href=\"../../../__pv_it/theorems/4dd791997df393fd8ec5c0cd0a0040d7c217d91e0/dependencies.ipynb\">dependencies</a>)<br>"
      ],
      "text/plain": [
       "<IPython.core.display.HTML object>"
      ]
     },
     "metadata": {},
     "output_type": "display_data"
    }
   ],
   "source": [
    "%proving interval_oc_upper_bound"
   ]
  },
  {
   "cell_type": "code",
   "execution_count": null,
   "metadata": {},
   "outputs": [],
   "source": []
  }
 ],
 "metadata": {
  "kernelspec": {
   "display_name": "Python 3",
   "language": "python",
   "name": "python3"
  }
 },
 "nbformat": 4,
 "nbformat_minor": 0
}