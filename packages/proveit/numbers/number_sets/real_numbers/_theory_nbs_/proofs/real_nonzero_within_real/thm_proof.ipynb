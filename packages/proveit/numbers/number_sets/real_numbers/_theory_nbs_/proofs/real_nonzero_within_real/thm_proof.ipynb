{
 "cells": [
  {
   "cell_type": "markdown",
   "metadata": {},
   "source": [
    "Proof of <a class=\"ProveItLink\" href=\"../../../../../../_theory_nbs_/theory.ipynb\">proveit</a>.<a class=\"ProveItLink\" href=\"../../../../../_theory_nbs_/theory.ipynb\">numbers</a>.<a class=\"ProveItLink\" href=\"../../../../_theory_nbs_/theory.ipynb\">number_sets</a>.<a class=\"ProveItLink\" href=\"../../theory.ipynb\">real_numbers</a>.<a class=\"ProveItLink\" href=\"../../theorems.ipynb#real_nonzero_within_real\">real_nonzero_within_real</a> theorem\n",
    "========"
   ]
  },
  {
   "cell_type": "code",
   "execution_count": 1,
   "metadata": {},
   "outputs": [],
   "source": [
    "import proveit\n",
    "theory = proveit.Theory() # the theorem's theory"
   ]
  },
  {
   "cell_type": "code",
   "execution_count": 2,
   "metadata": {},
   "outputs": [
    {
     "data": {
      "text/html": [
       "With these <a href=\"allowed_presumptions.txt\">allowed</a>/<a href=\"disallowed_presumptions.txt\">disallowed</a> theorem/theory presumptions (e.g., to avoid circular dependencies), we begin our proof of<br><strong id=\"real_nonzero_within_real\">real_nonzero_within_real:</strong> <a class=\"ProveItLink\" href=\"../../../__pv_it/theorems/6d0d19e7647369b637f0296920977c7a2669c6250/expr.ipynb\"><img src=\"data:image/png;base64,iVBORw0KGgoAAAANSUhEUgAAAFAAAAAVCAMAAADmWplAAAAAOVBMVEX///8AAAAAAAAAAAAAAAAA\n",
       "AAAAAAAAAAAAAAAAAAAAAAAAAAAAAAAAAAAAAAAAAAAAAAAAAAAAAAACXHtMAAAAEnRSTlMAZs3v\n",
       "u90iq0QQiTKZVHbt5clcYUjMAAAACXBIWXMAAA7EAAAOxAGVKw4bAAABKUlEQVQ4y62UCY7DIAxF\n",
       "bTD7MjPc/7DD1oRUEFoplkr0lfDqHWBlBp41q+tpo32GJ1U5MQJoegSoZDm5y0eSD/B0DVSmkkge\n",
       "vrqKjBMlJjhh1Z6K/eQfgqtAgV8BAKgmTCuko7CxvWtAHjc+vQOytvXh1Ktjeh1ayCnsgRdA114C\n",
       "6yH//lEN+cOiXAGj7o4dnkIsbaMutyOJZm4CpFErY/rVM5elsf04Mo5ZufLwADTtKLD2bVgXwQi5\n",
       "DPkEZM2ZSCJ2V9hNu+tFDi+A8geI5sUJeg1ky6IMgOYxGcTtEDi1rvIAqNr5sRa3G2MOHAAtp97J\n",
       "/VoRN314AprO0xG3QXtcA09A1r4MOQLpHZHpOXAAtGVBuYOI2HZsDSltZtvmU8BsU9L76F3sH7zW\n",
       "CeNhpJrxAAAAAElFTkSuQmCC\n",
       "\" style=\"display:inline;vertical-align:middle;\" /></a><br>(see <a class=\"ProveItLink\" href=\"../../../__pv_it/theorems/bf04918f42d428143d2ba7ea4b674736b498e8740/dependencies.ipynb\">dependencies</a>)<br>"
      ],
      "text/plain": [
       "<IPython.core.display.HTML object>"
      ]
     },
     "metadata": {},
     "output_type": "display_data"
    }
   ],
   "source": [
    "%proving real_nonzero_within_real"
   ]
  },
  {
   "cell_type": "code",
   "execution_count": null,
   "metadata": {},
   "outputs": [],
   "source": []
  }
 ],
 "metadata": {
  "kernelspec": {
   "display_name": "Python 3",
   "language": "python",
   "name": "python3"
  }
 },
 "nbformat": 4,
 "nbformat_minor": 0
}