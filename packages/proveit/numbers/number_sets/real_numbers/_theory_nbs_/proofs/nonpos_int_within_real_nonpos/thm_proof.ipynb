{
 "cells": [
  {
   "cell_type": "markdown",
   "metadata": {},
   "source": [
    "Proof of <a class=\"ProveItLink\" href=\"../../../../../../_theory_nbs_/theory.ipynb\">proveit</a>.<a class=\"ProveItLink\" href=\"../../../../../_theory_nbs_/theory.ipynb\">numbers</a>.<a class=\"ProveItLink\" href=\"../../../../_theory_nbs_/theory.ipynb\">number_sets</a>.<a class=\"ProveItLink\" href=\"../../theory.ipynb\">real_numbers</a>.<a class=\"ProveItLink\" href=\"../../theorems.ipynb#nonpos_int_within_real_nonpos\">nonpos_int_within_real_nonpos</a> theorem\n",
    "========"
   ]
  },
  {
   "cell_type": "code",
   "execution_count": 1,
   "metadata": {},
   "outputs": [],
   "source": [
    "import proveit\n",
    "theory = proveit.Theory() # the theorem's theory"
   ]
  },
  {
   "cell_type": "code",
   "execution_count": 2,
   "metadata": {},
   "outputs": [
    {
     "data": {
      "text/html": [
       "With these <a href=\"allowed_presumptions.txt\">allowed</a>/<a href=\"disallowed_presumptions.txt\">disallowed</a> theorem/theory presumptions (e.g., to avoid circular dependencies), we begin our proof of<br><strong id=\"nonpos_int_within_real_nonpos\">nonpos_int_within_real_nonpos:</strong> <a class=\"ProveItLink\" href=\"../../../__pv_it/theorems/3f2620320544708cfd4bdcc71e56c738522f6a550/expr.ipynb\"><img src=\"data:image/png;base64,iVBORw0KGgoAAAANSUhEUgAAAGQAAAAUBAMAAACJ7oWmAAAAMFBMVEX///8AAAAAAAAAAAAAAAAA\n",
       "AAAAAAAAAAAAAAAAAAAAAAAAAAAAAAAAAAAAAAAAAAAv3aB7AAAAD3RSTlMAVM3vu91mdqsymYki\n",
       "EESqKsraAAAACXBIWXMAAA7EAAAOxAGVKw4bAAABr0lEQVQoz2NgQABGHwbu7RsYcAORAwy7q5EF\n",
       "GN0ZGNIZnuDRUcDAVsDngBBgcwMSlgz8B3DpSElgYGCewPAHLsDuCCR4/jIwC+DQUQKSOH+BwZCB\n",
       "UfmzSqhzAqchSJjzLwNrAqrKJBN/VROg2GSwUfMvMIQxsHtMYFBgAjp0L0QLcwGa6Q4nGF6kXGBg\n",
       "9L4A0WLOwLWAgT1hI5D3ZC/YYfzoDnM4zcDC2cDAwAfSA3TYRwaOAwxXeMGhMGMNVu8DtXAdUAA5\n",
       "oesAxPu8DAwrOSaAJU/0MpQzvICGhmtoaOgEuBawmTwdF9gL+BpAuhtmQQ08AIzKtWAWp/YBJFs4\n",
       "7jaAmTwMDLurQF5iueCLEaJXDyA7bIoQmmul2QowtPQh+eWw6tdaNGlQEDNwugCBD0IM2ftpl4DU\n",
       "FJACqGXsAvsYGC6gmsLZgKyF5Rpa9F7hAQZHD6oYD4oWzgVonu0ExgzvBzTHBqDEy8ojqG5Y8IqB\n",
       "gSMATcsyFC1X2FFcxnJBl4HH0QFNC9MDhJZTDGwJfsiSj51MXOxN0PMir8dbREr2YXDRF2AgCPi2\n",
       "wBIMBgAAW5VzGdX/RA0AAAAASUVORK5CYII=\n",
       "\" style=\"display:inline;vertical-align:middle;\" /></a><br>(see <a class=\"ProveItLink\" href=\"../../../__pv_it/theorems/6a65aceff16fbf0d59874e78055ca59aa3944f2b0/dependencies.ipynb\">dependencies</a>)<br>"
      ],
      "text/plain": [
       "<IPython.core.display.HTML object>"
      ]
     },
     "metadata": {},
     "output_type": "display_data"
    },
    {
     "name": "stdout",
     "output_type": "stream",
     "text": [
      "nonpos_int_within_real_nonpos may now be readily provable (assuming required theorems are usable).  Simply execute \"%qed\".\n"
     ]
    }
   ],
   "source": [
    "%proving nonpos_int_within_real_nonpos"
   ]
  },
  {
   "cell_type": "code",
   "execution_count": null,
   "metadata": {},
   "outputs": [],
   "source": []
  }
 ],
 "metadata": {
  "kernelspec": {
   "display_name": "Python 3",
   "language": "python",
   "name": "python3"
  }
 },
 "nbformat": 4,
 "nbformat_minor": 0
}