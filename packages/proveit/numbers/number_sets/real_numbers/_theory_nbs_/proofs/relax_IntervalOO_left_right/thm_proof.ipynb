{
 "cells": [
  {
   "cell_type": "markdown",
   "metadata": {},
   "source": [
    "Proof of <a class=\"ProveItLink\" href=\"../../../../../../_theory_nbs_/theory.ipynb\">proveit</a>.<a class=\"ProveItLink\" href=\"../../../../../_theory_nbs_/theory.ipynb\">numbers</a>.<a class=\"ProveItLink\" href=\"../../../../_theory_nbs_/theory.ipynb\">number_sets</a>.<a class=\"ProveItLink\" href=\"../../theory.ipynb\">real_numbers</a>.<a class=\"ProveItLink\" href=\"../../theorems.ipynb#relax_IntervalOO_left_right\">relax_IntervalOO_left_right</a> theorem\n",
    "========"
   ]
  },
  {
   "cell_type": "code",
   "execution_count": 1,
   "metadata": {},
   "outputs": [],
   "source": [
    "import proveit\n",
    "theory = proveit.Theory() # the theorem's theory"
   ]
  },
  {
   "cell_type": "code",
   "execution_count": 2,
   "metadata": {},
   "outputs": [
    {
     "data": {
      "text/html": [
       "With these <a href=\"allowed_presumptions.txt\">allowed</a>/<a href=\"disallowed_presumptions.txt\">disallowed</a> theorem/theory presumptions (e.g., to avoid circular dependencies), we begin our proof of<br><strong id=\"relax_IntervalOO_left_right\">relax_IntervalOO_left_right:</strong> <a class=\"ProveItLink\" href=\"../../../__pv_it/theorems/51e718e180e734bdc1f71f1d05676ebfd31992510/expr.ipynb\"><img src=\"data:image/png;base64,iVBORw0KGgoAAAANSUhEUgAAAPwAAAAZBAMAAADnDF5lAAAAMFBMVEX///8AAAAAAAAAAAAAAAAA\n",
       "AAAAAAAAAAAAAAAAAAAAAAAAAAAAAAAAAAAAAAAAAAAv3aB7AAAAD3RSTlMAq1RmmUTNIjK7EInv\n",
       "3XZ/CtNrAAAACXBIWXMAAA7EAAAOxAGVKw4bAAAD5UlEQVRIx7WWWWgTQRjHv2x2s0eSbVAQtSgR\n",
       "xQdRCfXCPmikXiDWoCLYClZ9EAVl+yIURCKIIBYblKJbD/ZBBC2SqHiCUBVRFCWIZzGwVbGiNPRF\n",
       "Kz6I38xsspODbhQ70J2dzXR+3/GfmQ/Au03JGTAWTc+9qGVaG4xVm/e/8XK1j0Nvy91OymOD/1Dt\n",
       "4/XyD8GEZDN8hHTTPfA+0gkxb7qQ8cJrZ7IEDx8ZfgXpdnrgxQR2gRoEeAE8vQ/EKT5gUfxBkrCU\n",
       "B14hMeqoIfZN3vi6KMX74xRPrAhGvXK/G7urNeD7ShR2Nve6Er/Vonh4QvF+zGjAU3rzalOgwM+R\n",
       "9lrVvL8LDL+DKf9ZLvfUEx/K5d5nvPEiztHyk4/SQO2zuODL9YM2G2zLj6P4Kwy/GqDHEy8mQbVK\n",
       "/OR0qLuywlCKMGCvLdUz4rcY6i+m/B9W2iD4hQzfDnKkME/Z5bzMubFsL4/HKe0lJi0ovBxG2cYL\n",
       "gzCKaBEstcaXHhfXQXsAYpbZ/QtCNsHPZnjVIgOn1RMbBsyEHoSbGf7Y6XETeGxSN2hFi304rbUw\n",
       "COFKSVjJXMGs5t45eHEYwmw9sQ3qMoTYxfCCzSnvMf4tT2I8dWi0efzcojPiavIoWhzC2QGLwwM8\n",
       "Z1FOcd6HUpBm/4JWbI0S/Bbn0G1bgo/eJTeJxb8HLJ0cboj/GufxAT9ao386sIodV2Fc/to3kv+u\n",
       "/GR345LggzQCl8ggy+HTNiwtbvt1NN5zHPxV3NTaG2WEUPv1+EWqpqB8LsbjgzPRw0Ffajtzah/A\n",
       "ZaOL4IesTyAULFVt0Lp9fUDjnOfxUZggGBrBJ1EHBL/Ywe/HPIpxhZwYaszftoHixdOpkitHvoeP\n",
       "mGonJWrVZswRdJK3EyhhqTA3GAHh5/k+iUYjEHXxqi28FCGNK/liapzi1zh4X5IkTY/QRIqRhaZp\n",
       "RnU9uL70xptII2eAf5dpHodpAA9hgKllGSgFvJIFrdme0cCSP6nFVf7UW+1fINyPX+ub2LHzirtw\n",
       "04baiNGtg1D0KPVel1qtygu3EwyFBvYIaCNwgqR4GO67wYeSi126XX7ozipeuCBnOXzI6Npg9ULY\n",
       "WsyOF9x4d+LleLnvBm7xHkd6j5TvjVoG+v0p0IubZP7oV07GxYsxDi81zb0GnVGl2Qb5FI43fc6c\n",
       "X1nhfXNr3oKOJBGJARsbvsWU+3AoT0cF7Rmj4TXbxXdUVjtMK72mmRil2tFum90gOX4I9HnR/TE1\n",
       "Gl53qx04WYGXrNqLrVWsa+EHpB2otsDd8lrvfUI3KvD+v6j1gsxUugv9iTGtdPdUq/O5SGn/XOc/\n",
       "+AOZYAMmsWmsvwAAAABJRU5ErkJggg==\n",
       "\" style=\"display:inline;vertical-align:middle;\" /></a><br>(see <a class=\"ProveItLink\" href=\"../../../__pv_it/theorems/ce716d001a5f55c5e6537f4c798a561e194db9190/dependencies.ipynb\">dependencies</a>)<br>"
      ],
      "text/plain": [
       "<IPython.core.display.HTML object>"
      ]
     },
     "metadata": {},
     "output_type": "display_data"
    }
   ],
   "source": [
    "%proving relax_IntervalOO_left_right"
   ]
  },
  {
   "cell_type": "code",
   "execution_count": null,
   "metadata": {},
   "outputs": [],
   "source": []
  }
 ],
 "metadata": {
  "kernelspec": {
   "display_name": "Python 3",
   "language": "python",
   "name": "python3"
  }
 },
 "nbformat": 4,
 "nbformat_minor": 0
}