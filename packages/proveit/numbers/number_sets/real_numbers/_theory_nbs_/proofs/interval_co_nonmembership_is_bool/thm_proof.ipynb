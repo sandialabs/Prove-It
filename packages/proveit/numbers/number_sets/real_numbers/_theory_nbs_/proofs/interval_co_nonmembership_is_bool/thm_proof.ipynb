{
 "cells": [
  {
   "cell_type": "markdown",
   "metadata": {},
   "source": [
    "Proof of <a class=\"ProveItLink\" href=\"../../../../../../_theory_nbs_/theory.ipynb\">proveit</a>.<a class=\"ProveItLink\" href=\"../../../../../_theory_nbs_/theory.ipynb\">numbers</a>.<a class=\"ProveItLink\" href=\"../../../../_theory_nbs_/theory.ipynb\">number_sets</a>.<a class=\"ProveItLink\" href=\"../../theory.ipynb\">real_numbers</a>.<a class=\"ProveItLink\" href=\"../../theorems.ipynb#interval_co_nonmembership_is_bool\">interval_co_nonmembership_is_bool</a> theorem\n",
    "========"
   ]
  },
  {
   "cell_type": "code",
   "execution_count": 1,
   "metadata": {},
   "outputs": [],
   "source": [
    "import proveit\n",
    "theory = proveit.Theory() # the theorem's theory"
   ]
  },
  {
   "cell_type": "code",
   "execution_count": 2,
   "metadata": {},
   "outputs": [
    {
     "data": {
      "text/html": [
       "With these <a href=\"allowed_presumptions.txt\">allowed</a>/<a href=\"disallowed_presumptions.txt\">disallowed</a> theorem/theory presumptions (e.g., to avoid circular dependencies), we begin our proof of<br><strong id=\"interval_co_nonmembership_is_bool\">interval_co_nonmembership_is_bool:</strong> <a class=\"ProveItLink\" href=\"../../../__pv_it/theorems/4e40daa821913b8a0817e149ef075d8b6615ac780/expr.ipynb\"><img src=\"data:image/png;base64,iVBORw0KGgoAAAANSUhEUgAAAQQAAAAWCAMAAAARvxIcAAAAP1BMVEX///8AAAAAAAAAAAAAAAAA\n",
       "AAAAAAAAAAAAAAAAAAAAAAAAAAAAAAAAAAAAAAAAAAAAAAAAAAAAAAAAAAAAAADFBd4eAAAAFHRS\n",
       "TlMAq1RmmUTNIjK7EInv3Xbp8+P3nXbhrUQAAAAJcEhZcwAADsQAAA7EAZUrDhsAAAPySURBVFjD\n",
       "1Vjrlp4gDJS7EEhvvv+zFhCQKHy6a/+U9mz2tGECQzIEl+UfDAxhfeZpTvaz1yPoZ5DTec/XfjNA\n",
       "PWWLUzsZ2n0BWiG1H47KW71pH5gi/jEEa05cvCHhCQ4HaidjZQ/4ddaHsjlB7XzYtHOj3c5C9Y8h\n",
       "ZIuizRsSHuA4Te1sSPUoybQ8JU6XQFMS4sbBxF86/xii0W7sq3J4gCMFtbMRnlXaVmtKSGpvSBC8\n",
       "pG3xTyEqf8DfacI9jj/ZYeHa8ONn0A9IUFs7eO+oPbDi0AMSdO+fQohyLvqlMN7icE3taGMa3cLW\n",
       "R5kAR8JoQe2BNcoEZgT0/jmET3wFD29vhzscCdQ6ROZW6DLHpGyiilFIMAzQUPnXLM7f50IpRegU\n",
       "1QwUIgmjw8DqEnf/HEJm5q17S8Idzvm8YkUiw0V2J5okVeAVWvn4P3brod0Wd+m2LMKi8CY6/kby\n",
       "HEkI2m9But4/hzCs/jhfVfqkcTyAlkzjmIQpTtU7TqyIqxRxX+zIYX3V+AztfPKRgawlU+LzWnhR\n",
       "Gd6pjZ4KIwpVYuz+++rT4Q1rr+XNisza6IELpCsGxs3SFKfIkCI25Y0kS11TQf36HX9YCi23TB4J\n",
       "u0/d8r+tWwHYKFYe9kxCMtD570vmOJEzXyRKyvILxj+LcDgmYYozJGFpB3n0P9fLZVctm/Of8Jsp\n",
       "Ufs1qUoGKE+xxpmQugTb+ZfV61aIDgRCraZ1S9LVt2KZBHRy0jYfOIjSxL+fyiHvIXo4RxqEcIV2\n",
       "W0IV27VLkLtM8FDLddxsXEnQnX9ZPfBSJC6YuHXTmm23oOxJTeVg7KU/rSQ0HDQLs4umh2qxty6W\n",
       "F0sn0SU54qLkiIQExPTCE2eVhLVqReSnrFBYgjUngWPnXy8gz2rep2pqc0QWUCU6EqQFO31ANRyR\n",
       "t3p6ndGLjG+rkzGU6pnSnK0D6EQbDzLdJ/FSKHqVYsjx5VuwRiQkTUMg8+rqa+hUrsh6SZAs8mDz\n",
       "4Hs5gOLTV2S3he1yRa2ht07Gs+JSEDDHfit3hXYMYTUME3oIJWkZtPY7KGqLg6VYqL21xyuy+Z+0\n",
       "PF+7VtQqTUXo+bLC0muCUuDun9Ipn8401If7hwe8+AOWtLpXaH5pREygtknOCWsy7xzCJ0lQInYh\n",
       "aeOR81w1R/+zX5FTYWzofgGduyG6w/uHjr7nF779MJvMO4dQMT0RRDrImKar3NXF2LW14xpiIkt9\n",
       "s1KJCvDSui/WUHs9G3v7veZyP7dJX30GV/8PrU1fqw6SJqjXX5bqPeNmywV+C30V/VtqZw9rc/tQ\n",
       "/cpTAp5+p6tvIDP5FMa+AY2G2scfRk396DYl4duf2v7H8RfMayNvKyLGKAAAAABJRU5ErkJggg==\n",
       "\" style=\"display:inline;vertical-align:middle;\" /></a><br>(see <a class=\"ProveItLink\" href=\"../../../__pv_it/theorems/e6447834d555b8440968d848af4cd186328d45db0/dependencies.ipynb\">dependencies</a>)<br>"
      ],
      "text/plain": [
       "<IPython.core.display.HTML object>"
      ]
     },
     "metadata": {},
     "output_type": "display_data"
    }
   ],
   "source": [
    "%proving interval_co_nonmembership_is_bool"
   ]
  },
  {
   "cell_type": "code",
   "execution_count": null,
   "metadata": {},
   "outputs": [],
   "source": []
  }
 ],
 "metadata": {
  "kernelspec": {
   "display_name": "Python 3",
   "language": "python",
   "name": "python3"
  }
 },
 "nbformat": 4,
 "nbformat_minor": 0
}