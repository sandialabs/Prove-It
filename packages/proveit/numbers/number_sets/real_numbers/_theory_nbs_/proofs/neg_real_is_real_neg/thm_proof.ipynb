{
 "cells": [
  {
   "cell_type": "markdown",
   "metadata": {},
   "source": [
    "Proof of <a class=\"ProveItLink\" href=\"../../../../../../_theory_nbs_/theory.ipynb\">proveit</a>.<a class=\"ProveItLink\" href=\"../../../../../_theory_nbs_/theory.ipynb\">numbers</a>.<a class=\"ProveItLink\" href=\"../../../../_theory_nbs_/theory.ipynb\">number_sets</a>.<a class=\"ProveItLink\" href=\"../../theory.ipynb\">real_numbers</a>.<a class=\"ProveItLink\" href=\"../../theorems.ipynb#neg_real_is_real_neg\">neg_real_is_real_neg</a> theorem\n",
    "========"
   ]
  },
  {
   "cell_type": "code",
   "execution_count": 1,
   "metadata": {},
   "outputs": [],
   "source": [
    "import proveit\n",
    "theory = proveit.Theory() # the theorem's theory"
   ]
  },
  {
   "cell_type": "code",
   "execution_count": 2,
   "metadata": {},
   "outputs": [
    {
     "data": {
      "text/html": [
       "With these <a href=\"allowed_presumptions.txt\">allowed</a>/<a href=\"disallowed_presumptions.txt\">disallowed</a> theorem/theory presumptions (e.g., to avoid circular dependencies), we begin our proof of<br><strong id=\"neg_real_is_real_neg\">neg_real_is_real_neg:</strong> <a class=\"ProveItLink\" href=\"../../../__pv_it/theorems/3176ba9cfa11fed9498c8bb6de0b427df3ecf2fc0/expr.ipynb\"><img src=\"data:image/png;base64,iVBORw0KGgoAAAANSUhEUgAAALkAAAAZBAMAAACfn5KBAAAAMFBMVEX///8AAAAAAAAAAAAAAAAA\n",
       "AAAAAAAAAAAAAAAAAAAAAAAAAAAAAAAAAAAAAAAAAAAv3aB7AAAAD3RSTlMAq1RmmUTNIjK7EInv\n",
       "3XZ/CtNrAAAACXBIWXMAAA7EAAAOxAGVKw4bAAACuElEQVRIx7WWTWgTQRTHn5uP/chmExQqVpCA\n",
       "ZyVY9BCkpliteopWhFLBaA9CEdmCR6EGBA8WsjRo3YiyBRE0SIMBKz1IUPwAETwUvLi6RfCjVRFB\n",
       "i3vyzaa7M6kxyUYc2DBv5s1vZ97/zdsAdNa2t/QIQseNS7d04bWO6Tfb8OntmF5oMBY4pf98zUxE\n",
       "DYA46Wz2CeerjUZFPh5aV/RMBdF7SOekT3qw3JheBi0Hgo5tCkCyAXKdCBDL/I0+EKb2CEAYoxNJ\n",
       "+KTnDdb6ZJpZjy7S8f2oRRLf4FfUL6xxZJHZe/c0nfiMzwvTfO6X3kXCufGD5Sg8ykRGmGQkPIYn\n",
       "3AdQ9HvXdHyOqqJN+mGV0p+8fcPELH8OYAz4OLNwy72+0zXf1cjIAy9TjmNGPILgS4fOqFpJZZkF\n",
       "46i9aETcDBAW9IwSgdlyA7qBd2/INebxaN8g6vhNmNi0lcgUe5glM8jlLO/t/XgURYGU9Sf9TDc8\n",
       "g5hK9y5rzmqAW2xGnheZyIwjDrKkIJR6Z0FJgkNfTFO6VFkiyNx64G2QE5Q+Y8Gu2oVn6cELzNXJ\n",
       "k5V3UXTplbBc24US4a8nKf2OSnyGBjBsNkSTK+s2ID0BXRxZrlgMXdLe1ecMnEVRg2mhCoMOPXhV\n",
       "Y1TthwmEz4FDly2ayaLFzdfS6gSlp6FHpNd4J/lZg+GRM1hzdmB9SChK5BBDfwwLIDx08tqGWILu\n",
       "Stp0f+yjY0xfMtwa+UsVL3/36H2evKqYMi46e1dCw4ZHl5ahcBtKk6TPqCrX1Znha2a20a0YcTuy\n",
       "mh80HL0xI+cYVZ8KP1I4SMr2VzjYvEauapLt9kK7t1aAv0Kqxvvyjb2UfnjbEpEyUCC36YDrLlTb\n",
       "oAfi9XZJ1+mR6/Odm6oz17ZBj6pNJsX/+l1tSudaB775J4n/1/8zmCO/AduXqmkGlo53AAAAAElF\n",
       "TkSuQmCC\n",
       "\" style=\"display:inline;vertical-align:middle;\" /></a><br>(see <a class=\"ProveItLink\" href=\"../../../__pv_it/theorems/d4f2381cbee1b7f26708bd7b220be8b4f4b8741f0/dependencies.ipynb\">dependencies</a>)<br>"
      ],
      "text/plain": [
       "<IPython.core.display.HTML object>"
      ]
     },
     "metadata": {},
     "output_type": "display_data"
    },
    {
     "name": "stdout",
     "output_type": "stream",
     "text": [
      "neg_real_is_real_neg may now be readily provable (assuming required theorems are usable).  Simply execute \"%qed\".\n"
     ]
    }
   ],
   "source": [
    "%proving neg_real_is_real_neg"
   ]
  },
  {
   "cell_type": "code",
   "execution_count": null,
   "metadata": {},
   "outputs": [],
   "source": []
  }
 ],
 "metadata": {
  "kernelspec": {
   "display_name": "Python 3",
   "language": "python",
   "name": "python3"
  }
 },
 "nbformat": 4,
 "nbformat_minor": 0
}