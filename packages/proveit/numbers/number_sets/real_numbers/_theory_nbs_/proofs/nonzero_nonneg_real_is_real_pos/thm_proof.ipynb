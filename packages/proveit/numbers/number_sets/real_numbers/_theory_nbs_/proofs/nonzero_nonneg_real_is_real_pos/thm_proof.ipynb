{
 "cells": [
  {
   "cell_type": "markdown",
   "metadata": {},
   "source": [
    "Proof of <a class=\"ProveItLink\" href=\"../../../../../../_theory_nbs_/theory.ipynb\">proveit</a>.<a class=\"ProveItLink\" href=\"../../../../../_theory_nbs_/theory.ipynb\">numbers</a>.<a class=\"ProveItLink\" href=\"../../../../_theory_nbs_/theory.ipynb\">number_sets</a>.<a class=\"ProveItLink\" href=\"../../theory.ipynb\">real_numbers</a>.<a class=\"ProveItLink\" href=\"../../theorems.ipynb#nonzero_nonneg_real_is_real_pos\">nonzero_nonneg_real_is_real_pos</a> theorem\n",
    "========"
   ]
  },
  {
   "cell_type": "code",
   "execution_count": 1,
   "metadata": {},
   "outputs": [],
   "source": [
    "import proveit\n",
    "theory = proveit.Theory() # the theorem's theory"
   ]
  },
  {
   "cell_type": "code",
   "execution_count": 2,
   "metadata": {},
   "outputs": [
    {
     "data": {
      "text/html": [
       "With these <a href=\"allowed_presumptions.txt\">allowed</a>/<a href=\"disallowed_presumptions.txt\">disallowed</a> theorem/theory presumptions (e.g., to avoid circular dependencies), we begin our proof of<br><strong id=\"nonzero_nonneg_real_is_real_pos\">nonzero_nonneg_real_is_real_pos:</strong> <a class=\"ProveItLink\" href=\"../../../__pv_it/theorems/ad42cdc5eb8a3ca8f0b21a79464969697e5693710/expr.ipynb\"><img src=\"data:image/png;base64,iVBORw0KGgoAAAANSUhEUgAAAMsAAAAaCAMAAAAuR1iLAAAAOVBMVEX///8AAAAAAAAAAAAAAAAA\n",
       "AAAAAAAAAAAAAAAAAAAAAAAAAAAAAAAAAAAAAAAAAAAAAAAAAAAAAAACXHtMAAAAEnRSTlMAq1Rm\n",
       "mUTNIjK7EInv3Xbt5cmRiLwgAAAACXBIWXMAAA7EAAAOxAGVKw4bAAAC+klEQVRYw81YiXbjIAw0\n",
       "NxJHd/3/H7sI+SAxNM7WLy7v1U1CLDOMRhoyTXcPZf77Vn14ce+QP1gHrC8c/AYoaKcLsEwq/wIs\n",
       "oE5moo0As02xvaFhI2G5iJ1t9XkoLr5BgitrNUIBdrBkwqE36Vn3eSw6vIMl1H++LhvKiHRhBnAu\n",
       "CL24Uz+zeReLdpPt8DJZwmQXyoL8PBQ/43AuQyrDdrBAD4umN2qRib2BlpxGM8Zm7PIiEEUPS67K\n",
       "i4Q/xXADFrFuoBMhu6auOov9HPMgd123WEylWPv6Od5RkZfVmFjWB03CdepQwRJtmlPDl35IV1/3\n",
       "ZL286ms6rHFcltn13ET3vuGM5adipDzXTcLZvvaVGvZWx2WEKAmjgiJTsFpY5t8FzQgoBWy3Ax8H\n",
       "hw4hH7M48R7oub7Z5z3nfRnwmGOAatAFkbHI3NsInwVAmc9TeUZwy4MwU0NCElrEU1iYcTIZBga8\n",
       "RNgXw0+BQU32eiQGV3OMgBz9jGYZEZYyp3D7gkum/NE++lNYRGUy0pdn18WCMwVXc0vYqL9oP+iD\n",
       "fgke5Fo2MKgc6MO8UVmxZFwU4atmmBfXx7LFYFkH3jV6QHxuYQIYi+SaJre7ch5gKYzlbpaZpXK4\n",
       "uCgfk2OADcmUYw44QHFDuzYHetliVJsBX9VmcFNMz6vgpjBBJl3qtoJY2cGiuR1CT9tqdXbCr4lF\n",
       "uqNFqwaLhsD7J7YHlDqmXB/LFoPvVk2Dj7m/mShy8E7kJmlRgMGDTwYq3WDnjkXRz4U4msVxKls3\n",
       "FSTnWDDy7Elij9GKmHPsuIY49mMmwIOHeTGseq5rhFshTj5MrV6MIZU4zcN8h2WPQTn25+9iZfva\n",
       "f8cnv+h9B2cXKdWNwtYGcE1GfZqXLUZjwquYzbEf+3gRFnWIbbSSOah6AvCbybOhtHxtT2LZYzwY\n",
       "o9IrdacziIvcefru8IWBsuPs8aJf8+XrUzheY8+vPO/3sZxZp7xCMZeeI7ux5ClWf/D72F5CrjT5\n",
       "N/xUcBz/AIX+GI37Og5KAAAAAElFTkSuQmCC\n",
       "\" style=\"display:inline;vertical-align:middle;\" /></a><br>(see <a class=\"ProveItLink\" href=\"../../../__pv_it/theorems/903caae19193f89a16cece6b6877c354700fed150/dependencies.ipynb\">dependencies</a>)<br>"
      ],
      "text/plain": [
       "<IPython.core.display.HTML object>"
      ]
     },
     "metadata": {},
     "output_type": "display_data"
    },
    {
     "name": "stdout",
     "output_type": "stream",
     "text": [
      "nonzero_nonneg_real_is_real_pos may now be readily provable (assuming required theorems are usable).  Simply execute \"%qed\".\n"
     ]
    }
   ],
   "source": [
    "%proving nonzero_nonneg_real_is_real_pos"
   ]
  },
  {
   "cell_type": "code",
   "execution_count": null,
   "metadata": {},
   "outputs": [],
   "source": []
  }
 ],
 "metadata": {
  "kernelspec": {
   "display_name": "Python 3",
   "language": "python",
   "name": "python3"
  }
 },
 "nbformat": 4,
 "nbformat_minor": 0
}