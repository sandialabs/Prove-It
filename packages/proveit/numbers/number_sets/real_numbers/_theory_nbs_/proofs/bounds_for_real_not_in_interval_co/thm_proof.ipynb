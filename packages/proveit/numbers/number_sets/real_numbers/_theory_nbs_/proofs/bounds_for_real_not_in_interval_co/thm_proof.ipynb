{
 "cells": [
  {
   "cell_type": "markdown",
   "metadata": {},
   "source": [
    "Proof of <a class=\"ProveItLink\" href=\"../../../../../../_theory_nbs_/theory.ipynb\">proveit</a>.<a class=\"ProveItLink\" href=\"../../../../../_theory_nbs_/theory.ipynb\">numbers</a>.<a class=\"ProveItLink\" href=\"../../../../_theory_nbs_/theory.ipynb\">number_sets</a>.<a class=\"ProveItLink\" href=\"../../theory.ipynb\">real_numbers</a>.<a class=\"ProveItLink\" href=\"../../theorems.ipynb#bounds_for_real_not_in_interval_co\">bounds_for_real_not_in_interval_co</a> theorem\n",
    "========"
   ]
  },
  {
   "cell_type": "code",
   "execution_count": 1,
   "metadata": {},
   "outputs": [],
   "source": [
    "import proveit\n",
    "theory = proveit.Theory() # the theorem's theory"
   ]
  },
  {
   "cell_type": "code",
   "execution_count": 2,
   "metadata": {},
   "outputs": [
    {
     "data": {
      "text/html": [
       "With these <a href=\"allowed_presumptions.txt\">allowed</a>/<a href=\"disallowed_presumptions.txt\">disallowed</a> theorem/theory presumptions (e.g., to avoid circular dependencies), we begin our proof of<br><strong id=\"bounds_for_real_not_in_interval_co\">bounds_for_real_not_in_interval_co:</strong> <a class=\"ProveItLink\" href=\"../../../__pv_it/theorems/d4ddeb3fa0af1d607c3827d2199689aaef6dba010/expr.ipynb\"><img src=\"data:image/png;base64,iVBORw0KGgoAAAANSUhEUgAAAUEAAAAXCAMAAACicA1dAAAAPFBMVEX///8AAAAAAAAAAAAAAAAA\n",
       "AAAAAAAAAAAAAAAAAAAAAAAAAAAAAAAAAAAAAAAAAAAAAAAAAAAAAAAAAAAo1xBWAAAAE3RSTlMA\n",
       "q1RmmUTNIjK7EInv3XbP4duhPeprPQAAAAlwSFlzAAAOxAAADsQBlSsOGwAABA5JREFUWMPtWNuy\n",
       "nCAQlDsMwjmJ//+vAXSQq2ZNHkxVqFSY2j3TLW0zzLIsrx6qCx5l/+HfzHLU8vrhaRt8NIT/fYYn\n",
       "uPtM8ueUvU1Aatvg0zfAfocBzOqe4aaZC/xYvs2UINvg4yEhhySH2rcMkk8EnmmCuHHWaEJl3mZB\n",
       "ztrg48FOaVjWzeiWYRvuZeY43OCmGeW09G0Krl0w340zs6ynBrhTlWwZxDZQyjsLF88G58yO9yDf\n",
       "JiCVbTB12tws8rQvWoTTlsF2ZRCsuz6FEDfNq4tjta/bxLYJwHsC2rabpTOLItarQwB7npToPdcx\n",
       "SBKQC1Tgrq8bNTvippmnsmDgr6z6wiiJZjXj7eYv7INBAPfEL9xdm0WsgcIcG5MV/iXpCbxvGWAL\n",
       "lQw2fDAgko6XVrAjbpoVwf+aoeXl4UKdlZzIagEXCftXZEbSa+9oHbCwRBaEIac/1MAssKYW45CZ\n",
       "FjV0PzQdtAw0qb3mhQwVbNgRd5+j/awYLJqMd7b2xBgRfRO+t8reKxgyvr7FUEEkER3XKuogOohX\n",
       "JXG4VL4lcQ44vZWuDipQ3jHsoJu9fDENO+LuM/WTc2TVw53KNe68kMjA3yoYM452jExJJNwouFRG\n",
       "mSq4mrQxBW7ppn8uD+0DOKktqo5mfJIU7Ih7zDI3S2CZtyrrHIsnFirPVfhX9vlJQQ98omCVAYd0\n",
       "ZErSdVPtLk7LDGkAV2aBLS6FbbnUVJCLNj1D0o63HU3fzZTsiHvMlh4GAKfCklTGgMUf+ni1ELOE\n",
       "dw6mqP429OHVL6fi+eoML7KCExLaVkLjqwBC4SDxjdvLtgOSHkQuNDEwU/8aI6Jn2DRWz3mT1LIj\n",
       "7jGrleB2C6bIvjesOHMSX6ASrFCQG2uWyUlSZ+AXZEoi2gqQG5E9oJsGHtIEbbsM56GRhTp+HE28\n",
       "1tvJAUM8HAwft6RYx1p2xMWZ6LMweFJWKH4Wrt02TJo06L6Lbb2gWoUz4+tHykgKTkh0q6B2VQA8\n",
       "9CGUs9E5WW44IN5qRfy+JFefkJwOGIDY29+NLTviNvipJzIMC02sJWumjLYJX2u7lHVQiKpaVCoU\n",
       "GbmckilJt4sXp9tg3mxOftWp60uXe+DZDaGb4K+xQgkW+ku7d05xm8dYrYuVe9N2tt57NzM5SaoM\n",
       "yJYjE5Kq022vBRj/48uJ24uHZ7gdvgg29ZZF+wRbaJ5WlWLuhfWp3ii82hDSSxvsXfZohQfLjJ+6\n",
       "UHBIElJ7F+WPzMOLt9v7phEwuGLoS9xLfDqJoydjHRQXPzy6Z/rOGWRGAoPU/Bk8vHm7Vf4hMOJe\n",
       "4QsYx3fQ47dxep3MSPjoYfB+4Aw+u0q+t+4jYMS9xGeT+JGCBMYKFsBMLP9HeqXjvVJIbG7/5B8b\n",
       "vwDHMCQ+C9hyvgAAAABJRU5ErkJggg==\n",
       "\" style=\"display:inline;vertical-align:middle;\" /></a><br>(see <a class=\"ProveItLink\" href=\"../../../__pv_it/theorems/abd3c61215ab3f862da26de611b2f7b3baaaa58e0/dependencies.ipynb\">dependencies</a>)<br>"
      ],
      "text/plain": [
       "<IPython.core.display.HTML object>"
      ]
     },
     "metadata": {},
     "output_type": "display_data"
    }
   ],
   "source": [
    "%proving bounds_for_real_not_in_interval_co"
   ]
  },
  {
   "cell_type": "code",
   "execution_count": null,
   "metadata": {},
   "outputs": [],
   "source": []
  }
 ],
 "metadata": {
  "kernelspec": {
   "display_name": "Python 3",
   "language": "python",
   "name": "python3"
  }
 },
 "nbformat": 4,
 "nbformat_minor": 0
}