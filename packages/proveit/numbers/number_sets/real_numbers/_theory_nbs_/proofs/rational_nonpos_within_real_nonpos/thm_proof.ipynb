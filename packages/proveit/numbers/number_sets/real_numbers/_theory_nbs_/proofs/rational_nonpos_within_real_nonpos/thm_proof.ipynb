{
 "cells": [
  {
   "cell_type": "markdown",
   "metadata": {},
   "source": [
    "Proof of <a class=\"ProveItLink\" href=\"../../../../../../_theory_nbs_/theory.ipynb\">proveit</a>.<a class=\"ProveItLink\" href=\"../../../../../_theory_nbs_/theory.ipynb\">numbers</a>.<a class=\"ProveItLink\" href=\"../../../../_theory_nbs_/theory.ipynb\">number_sets</a>.<a class=\"ProveItLink\" href=\"../../theory.ipynb\">real_numbers</a>.<a class=\"ProveItLink\" href=\"../../theorems.ipynb#rational_nonpos_within_real_nonpos\">rational_nonpos_within_real_nonpos</a> theorem\n",
    "========"
   ]
  },
  {
   "cell_type": "code",
   "execution_count": 1,
   "metadata": {},
   "outputs": [],
   "source": [
    "import proveit\n",
    "theory = proveit.Theory() # the theorem's theory"
   ]
  },
  {
   "cell_type": "code",
   "execution_count": 2,
   "metadata": {},
   "outputs": [
    {
     "data": {
      "text/html": [
       "With these <a href=\"allowed_presumptions.txt\">allowed</a>/<a href=\"disallowed_presumptions.txt\">disallowed</a> theorem/theory presumptions (e.g., to avoid circular dependencies), we begin our proof of<br><strong id=\"rational_nonpos_within_real_nonpos\">rational_nonpos_within_real_nonpos:</strong> <a class=\"ProveItLink\" href=\"../../../__pv_it/theorems/d48b45404f95dc33debade6c4199e7ead92c58080/expr.ipynb\"><img src=\"data:image/png;base64,iVBORw0KGgoAAAANSUhEUgAAAGYAAAAWBAMAAADA0/SQAAAAMFBMVEX///8AAAAAAAAAAAAAAAAA\n",
       "AAAAAAAAAAAAAAAAAAAAAAAAAAAAAAAAAAAAAAAAAAAv3aB7AAAAD3RSTlMAEIm7mSJ2q+8y3WZE\n",
       "zVRISQrpAAAACXBIWXMAAA7EAAAOxAGVKw4bAAAByElEQVQ4y2NgQAJ8pgxMagoMuMHjAAalJBQR\n",
       "PjMGhm0Mh/FoSWDgTuAxQBLhtgYSnQz8Abi0bN7AwMAxgeErQoTNDkiwfmTgeIBDSzJIIl6AoQ9I\n",
       "CRkbuzIwcIKYDJwfGbg2oCrd22x/qxkoNgNs1nwBhtVA8ysmsC4HevyxIkQPRwKa+QbhDMc3CzDw\n",
       "GQlA9LQxMGhrMzAcAXn8sCLYbfzobjMIYmDmLGBg4AFpArrtHwOnwgUGBmZukOHTXbGGAVAPS8AF\n",
       "kCNKAiBhwCwINIJpAkiMIbyQIY3hODRIrFatWjUBrgccwKzlAmwJPAUMwpxAK/geeIIVBgDj1BHM\n",
       "4rwUgGQPO8hgkCYGBqUUAYZJPMAw4dmwD81BUgHIbpv8FsXBx7iBfuZMeI2mpwbJPxG3fiWiSAbx\n",
       "ge3J4TQGAlO48AXkMNgtC6QmgxRArGOG+McR1RrOAmQ9zNKo8cwsigg3BGBF0cPpYIgiywOJH/SI\n",
       "XIASP57BqLLewHRwHCMDeKPoEWZDdRwTKL05oOvhPYDQE8LAvcEGVTrk731PjITPaH4Qka5NGYzv\n",
       "ozm+kjsBM7fwKMPSDlbAnpD+8gADieC5bfMGEpQDAE3VcShwN5VPAAAAAElFTkSuQmCC\n",
       "\" style=\"display:inline;vertical-align:middle;\" /></a><br>(see <a class=\"ProveItLink\" href=\"../../../__pv_it/theorems/c3cb6f3dbd5ad952886834c063d15dbf335085a70/dependencies.ipynb\">dependencies</a>)<br>"
      ],
      "text/plain": [
       "<IPython.core.display.HTML object>"
      ]
     },
     "metadata": {},
     "output_type": "display_data"
    }
   ],
   "source": [
    "%proving rational_nonpos_within_real_nonpos"
   ]
  },
  {
   "cell_type": "code",
   "execution_count": null,
   "metadata": {},
   "outputs": [],
   "source": []
  }
 ],
 "metadata": {
  "kernelspec": {
   "display_name": "Python 3",
   "language": "python",
   "name": "python3"
  }
 },
 "nbformat": 4,
 "nbformat_minor": 0
}