{
 "cells": [
  {
   "cell_type": "markdown",
   "metadata": {},
   "source": [
    "Proof of <a class=\"ProveItLink\" href=\"../../../../../../_theory_nbs_/theory.ipynb\">proveit</a>.<a class=\"ProveItLink\" href=\"../../../../../_theory_nbs_/theory.ipynb\">numbers</a>.<a class=\"ProveItLink\" href=\"../../../../_theory_nbs_/theory.ipynb\">number_sets</a>.<a class=\"ProveItLink\" href=\"../../theory.ipynb\">real_numbers</a>.<a class=\"ProveItLink\" href=\"../../theorems.ipynb#real_nonneg_within_real\">real_nonneg_within_real</a> theorem\n",
    "========"
   ]
  },
  {
   "cell_type": "code",
   "execution_count": 1,
   "metadata": {},
   "outputs": [],
   "source": [
    "import proveit\n",
    "theory = proveit.Theory() # the theorem's theory"
   ]
  },
  {
   "cell_type": "code",
   "execution_count": 2,
   "metadata": {},
   "outputs": [
    {
     "data": {
      "text/html": [
       "With these <a href=\"allowed_presumptions.txt\">allowed</a>/<a href=\"disallowed_presumptions.txt\">disallowed</a> theorem/theory presumptions (e.g., to avoid circular dependencies), we begin our proof of<br><strong id=\"real_nonneg_within_real\">real_nonneg_within_real:</strong> <a class=\"ProveItLink\" href=\"../../../__pv_it/theorems/2c5554d3cc74fc3c7588490932727e5cf6a37cf20/expr.ipynb\"><img src=\"data:image/png;base64,iVBORw0KGgoAAAANSUhEUgAAAFAAAAAUBAMAAADo9qfkAAAAMFBMVEX///8AAAAAAAAAAAAAAAAA\n",
       "AAAAAAAAAAAAAAAAAAAAAAAAAAAAAAAAAAAAAAAAAAAv3aB7AAAAD3RSTlMAZs3vu90iq0QQiTKZ\n",
       "VHZ+Ip2vAAAACXBIWXMAAA7EAAAOxAGVKw4bAAABSklEQVQoz2NggIItDWBq1SsGAoBzyQUgyfiA\n",
       "w4GQSoYnAgwMzBsYvhFUyCDygCF/AoMtDlkhE39VEwEIWzhh/wSGQFR5RmWXT8GOIJZDOkO7yAQQ\n",
       "a5YHA1ChHZpJLGwFHIWeIIVZDCzcBUBGTjUDyOq/GAoXMDhshyjkSVBgYEgHqsPmGZDCY0wwhQ4M\n",
       "04+BRPkecBRAwyA0NDQarpAFopB9ZgHDTIj8qjdg5zJsWoZsYuV0iMItlxLQgz8M2WpuXzWQwmTV\n",
       "ry/RA429AUmhUXzcBLCJgpNAce0CBHCDmZA9s1BSARyOWSwTBdBN3I7ia09BiELuA57oCtNRFO5h\n",
       "gVjNcDoFXSErikKebQ4QhVP40O3mEUBWyOnwEKQwh4FRwAPdSA0khQcYBFkaQKnHjcFF/wKawikV\n",
       "E+Cp50sCi9NfnImzyxUahVAAANVrVSo/4jjXAAAAAElFTkSuQmCC\n",
       "\" style=\"display:inline;vertical-align:middle;\" /></a><br>(see <a class=\"ProveItLink\" href=\"../../../__pv_it/theorems/2ef1e0f12496727d8e1f06480ad694d34a1802400/dependencies.ipynb\">dependencies</a>)<br>"
      ],
      "text/plain": [
       "<IPython.core.display.HTML object>"
      ]
     },
     "metadata": {},
     "output_type": "display_data"
    }
   ],
   "source": [
    "%proving real_nonneg_within_real"
   ]
  },
  {
   "cell_type": "code",
   "execution_count": null,
   "metadata": {},
   "outputs": [],
   "source": []
  }
 ],
 "metadata": {
  "kernelspec": {
   "display_name": "Python 3",
   "language": "python",
   "name": "python3"
  }
 },
 "nbformat": 4,
 "nbformat_minor": 0
}