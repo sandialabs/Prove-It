{
 "cells": [
  {
   "cell_type": "markdown",
   "metadata": {},
   "source": [
    "Proof of <a class=\"ProveItLink\" href=\"../../../../../../_theory_nbs_/theory.ipynb\">proveit</a>.<a class=\"ProveItLink\" href=\"../../../../../_theory_nbs_/theory.ipynb\">numbers</a>.<a class=\"ProveItLink\" href=\"../../../../_theory_nbs_/theory.ipynb\">number_sets</a>.<a class=\"ProveItLink\" href=\"../../theory.ipynb\">real_numbers</a>.<a class=\"ProveItLink\" href=\"../../theorems.ipynb#real_membership_is_bool\">real_membership_is_bool</a> theorem\n",
    "========"
   ]
  },
  {
   "cell_type": "code",
   "execution_count": 1,
   "metadata": {},
   "outputs": [],
   "source": [
    "import proveit\n",
    "theory = proveit.Theory() # the theorem's theory"
   ]
  },
  {
   "cell_type": "code",
   "execution_count": 2,
   "metadata": {},
   "outputs": [
    {
     "data": {
      "text/html": [
       "With these <a href=\"allowed_presumptions.txt\">allowed</a>/<a href=\"disallowed_presumptions.txt\">disallowed</a> theorem/theory presumptions (e.g., to avoid circular dependencies), we begin our proof of<br><strong id=\"real_membership_is_bool\">real_membership_is_bool:</strong> <a class=\"ProveItLink\" href=\"../../../__pv_it/theorems/bd86eca6d2bdc3b4be7bb16303ac378c0af58de60/expr.ipynb\"><img src=\"data:image/png;base64,iVBORw0KGgoAAAANSUhEUgAAAJoAAAAVBAMAAABMN+opAAAAMFBMVEX///8AAAAAAAAAAAAAAAAA\n",
       "AAAAAAAAAAAAAAAAAAAAAAAAAAAAAAAAAAAAAAAAAAAv3aB7AAAAD3RSTlMAq1RmmUTNIjK7EInv\n",
       "3XZ/CtNrAAAACXBIWXMAAA7EAAAOxAGVKw4bAAACQUlEQVQ4y2NgwAQFUIwDsJMkzqcAweiAOWfm\n",
       "tzuTGRhYH6BJvD2Zn3MxACwuAOIrI0tqQzEG4GQXYBWexcDwGF1iQhx7lihY3BXETUeS4kqAYGym\n",
       "bWCY0MjAwLYA3bRghu2cYPFGkI8nIEmxGEAwdtPc2YBedsA0zYgRLA6yiBs5lHigGCkg5969BjcN\n",
       "6AaGU6jiYNPYwOLMQGewIetVg2I4YM1bgHCb1EIgIxlVHGSauDVE/Ozdu6eRNXtD8bqHK3aD3Vy2\n",
       "AOFTjkmgIN7IgCIOjIV1FzdAxD0YGGYhm5YMxQ58ciwXUKKIk/3Y/XsgI8wYUKNuQmzOXy+IeCED\n",
       "uwCyaZcgmLmA+RcjODISEKZttgJzdBhQxEE+fRy2ACzOuYA7ANm0oxDMwcACUc4BDIq7N6E+nWUM\n",
       "YvSjioNM42TdABZneoASCTDTgBELSfNcE5BSSAsnyKcxqOJg0xgmQMQT7IDEO/cnBSg+ZWCIL+AC\n",
       "h/MFJNNY2kFm6DKgiENMS4CIb8oCJp0CSTZoopsHwSsDZBi4wQLvkEzjmgDKVpao4mDTmB5AxGuA\n",
       "kcDMMI8DKrURgvW7fBiCwAIwa4CmOTAYcwZAEhCSOMOEaIZ9W6AJi7EBJPIdJtULwUveMTlDlHNJ\n",
       "RsHKkJ8FnNM+MTBcRRFneHZyPqgMgYmDYugArHjibYBgpMywE5qDYAXZBfziDDXcCSywYswBS75G\n",
       "AdjLBCRxlqf7XsEEp0MxTlBJivhKKMYJppMizv4AgnEBvgKc4gCBr6TmXvFFvAAAAABJRU5ErkJg\n",
       "gg==\n",
       "\" style=\"display:inline;vertical-align:middle;\" /></a><br>(see <a class=\"ProveItLink\" href=\"../../../__pv_it/theorems/a5e357bcb4c1c6bb541bc00c88c5f70a502fd3470/dependencies.ipynb\">dependencies</a>)<br>"
      ],
      "text/plain": [
       "<IPython.core.display.HTML object>"
      ]
     },
     "metadata": {},
     "output_type": "display_data"
    },
    {
     "name": "stdout",
     "output_type": "stream",
     "text": [
      "real_membership_is_bool may now be readily provable (assuming required theorems are usable).  Simply execute \"%qed\".\n"
     ]
    }
   ],
   "source": [
    "%proving real_membership_is_bool"
   ]
  },
  {
   "cell_type": "code",
   "execution_count": null,
   "metadata": {},
   "outputs": [],
   "source": []
  }
 ],
 "metadata": {
  "kernelspec": {
   "display_name": "Python 3",
   "language": "python",
   "name": "python3"
  }
 },
 "nbformat": 4,
 "nbformat_minor": 0
}