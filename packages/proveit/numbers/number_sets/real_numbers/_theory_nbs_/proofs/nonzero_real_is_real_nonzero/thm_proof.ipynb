{
 "cells": [
  {
   "cell_type": "markdown",
   "metadata": {},
   "source": [
    "Proof of <a class=\"ProveItLink\" href=\"../../../../../../_theory_nbs_/theory.ipynb\">proveit</a>.<a class=\"ProveItLink\" href=\"../../../../../_theory_nbs_/theory.ipynb\">numbers</a>.<a class=\"ProveItLink\" href=\"../../../../_theory_nbs_/theory.ipynb\">number_sets</a>.<a class=\"ProveItLink\" href=\"../../theory.ipynb\">real_numbers</a>.<a class=\"ProveItLink\" href=\"../../theorems.ipynb#nonzero_real_is_real_nonzero\">nonzero_real_is_real_nonzero</a> theorem\n",
    "========"
   ]
  },
  {
   "cell_type": "code",
   "execution_count": 1,
   "metadata": {},
   "outputs": [],
   "source": [
    "import proveit\n",
    "theory = proveit.Theory() # the theorem's theory"
   ]
  },
  {
   "cell_type": "code",
   "execution_count": 2,
   "metadata": {},
   "outputs": [
    {
     "data": {
      "text/html": [
       "With these <a href=\"allowed_presumptions.txt\">allowed</a>/<a href=\"disallowed_presumptions.txt\">disallowed</a> theorem/theory presumptions (e.g., to avoid circular dependencies), we begin our proof of<br><strong id=\"nonzero_real_is_real_nonzero\">nonzero_real_is_real_nonzero:</strong> <a class=\"ProveItLink\" href=\"../../../__pv_it/theorems/468acc29f2d5bbac6cf6683ad517b7cde141f78c0/expr.ipynb\"><img src=\"data:image/png;base64,iVBORw0KGgoAAAANSUhEUgAAAMEAAAAbCAMAAADyORvnAAAAOVBMVEX///8AAAAAAAAAAAAAAAAA\n",
       "AAAAAAAAAAAAAAAAAAAAAAAAAAAAAAAAAAAAAAAAAAAAAAAAAAAAAAACXHtMAAAAEnRSTlMAq1Rm\n",
       "mUTNIjK7EInv3Xbt5cmRiLwgAAAACXBIWXMAAA7EAAAOxAGVKw4bAAAC0klEQVRYw9VYiXbjIAzk\n",
       "BnHtLv//sYsA28SGxHXi9pX36viSYaSRNJSQXzUs+eXDyXJ00f3YErh8x1rT8o1IiIR8In4AAHtv\n",
       "Uqrx6E0+pHyq4ftZrN4yl4U7OmEyeNai8b0D+FmyKQ+QVPDNQgCOP/mPE1MQhPIg4CndQsxvBqD9\n",
       "F8AW0kvKYS0/sa6vIvDF/RFXL9bcUvpmBMJ9CYErP2ZxsW2sryxKrNzD8/WN+/MiyS8jEJqoxqK/\n",
       "/6CwaMtk9DrGRbUwOXYzgBr+8YgQ8lAjBM2xq6dJxGrargQ+5Y3+6u4QxDAtMiracQyotW2tWz5g\n",
       "RxPtKpbU8gg/+NvbHFVrY3JRd4VQKzthkQHWspONC6cscRVmh/FlRl5TLtD4IH1eFHSUGpWQjMCr\n",
       "kMISHDVjpll6taazNhqcElTFh69fUi6qTmE90lZ0lFKTTOZ8bYFsUgR0rQ7ofnd4xUQKkO9Gkhfj\n",
       "tDuFYKdcHkaosROpXGzfM5XGecCORWD5ix5lKwLk2MEPopILEeTH3MZTCHbKZRQDD9vMD4X+mAdG\n",
       "vCK3TqaFcVEY1vHo9NYAFwTRijGC1WCsXI4IbMKpeOqDM+0HwrzoUqb5ybFWDWzQ9WbnF2SRhsiH\n",
       "CFaDmXLp4wMVAat1iem+wI8R5GXEpzySrSBovzQIgbTEJ7xDIMABGWfyajBTLn0/qO9BxPIg+oqm\n",
       "2AiBqM0KnnVyvsxNG+e9bGqJq+JTYJVFTrIxgtVgplyO/rI0OqNpNF0kKUh71KaAVRdUeiIWBN1n\n",
       "Ntpwa4lxpM8DKZ0dIdgMpsqFPMKdSn94VBUnh9pzzCOrJbd9g6vVdJLJm8FMuVzUpie3TAepJQVn\n",
       "0fGiVM2qWZQjVgg1QrAZzJRLXzj8pxFw+gyeQ0rIsfIdNu/XWz76afkbLm5pxghOkNh+WP9e3icP\n",
       "EbAz2xf20Uy4vid7Yzf63v+L9pWhpNp/emMZTl40BdsAAAAASUVORK5CYII=\n",
       "\" style=\"display:inline;vertical-align:middle;\" /></a><br>(see <a class=\"ProveItLink\" href=\"../../../__pv_it/theorems/4b8168a707faf49f20fe19216fcacc19b19117fe0/dependencies.ipynb\">dependencies</a>)<br>"
      ],
      "text/plain": [
       "<IPython.core.display.HTML object>"
      ]
     },
     "metadata": {},
     "output_type": "display_data"
    },
    {
     "name": "stdout",
     "output_type": "stream",
     "text": [
      "nonzero_real_is_real_nonzero may now be readily provable (assuming required theorems are usable).  Simply execute \"%qed\".\n"
     ]
    }
   ],
   "source": [
    "%proving nonzero_real_is_real_nonzero"
   ]
  },
  {
   "cell_type": "code",
   "execution_count": null,
   "metadata": {},
   "outputs": [],
   "source": []
  }
 ],
 "metadata": {
  "kernelspec": {
   "display_name": "Python 3",
   "language": "python",
   "name": "python3"
  }
 },
 "nbformat": 4,
 "nbformat_minor": 0
}