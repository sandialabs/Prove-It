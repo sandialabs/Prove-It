{
 "cells": [
  {
   "cell_type": "markdown",
   "metadata": {},
   "source": [
    "Proof of <a class=\"ProveItLink\" href=\"../../../../../../_theory_nbs_/theory.ipynb\">proveit</a>.<a class=\"ProveItLink\" href=\"../../../../../_theory_nbs_/theory.ipynb\">numbers</a>.<a class=\"ProveItLink\" href=\"../../../../_theory_nbs_/theory.ipynb\">number_sets</a>.<a class=\"ProveItLink\" href=\"../../theory.ipynb\">real_numbers</a>.<a class=\"ProveItLink\" href=\"../../theorems.ipynb#interval_co_within_Real\">interval_co_within_Real</a> theorem\n",
    "========"
   ]
  },
  {
   "cell_type": "code",
   "execution_count": 1,
   "metadata": {},
   "outputs": [],
   "source": [
    "import proveit\n",
    "theory = proveit.Theory() # the theorem's theory"
   ]
  },
  {
   "cell_type": "code",
   "execution_count": 2,
   "metadata": {},
   "outputs": [
    {
     "data": {
      "text/html": [
       "With these <a href=\"allowed_presumptions.txt\">allowed</a>/<a href=\"disallowed_presumptions.txt\">disallowed</a> theorem/theory presumptions (e.g., to avoid circular dependencies), we begin our proof of<br><strong id=\"interval_co_within_Real\">interval_co_within_Real:</strong> <a class=\"ProveItLink\" href=\"../../../__pv_it/theorems/329a013117363911f95cc2e7e2acdc1508c9fd2d0/expr.ipynb\"><img src=\"data:image/png;base64,iVBORw0KGgoAAAANSUhEUgAAAKUAAAAWBAMAAABTW0EyAAAAMFBMVEX///8AAAAAAAAAAAAAAAAA\n",
       "AAAAAAAAAAAAAAAAAAAAAAAAAAAAAAAAAAAAAAAAAAAv3aB7AAAAD3RSTlMAq1RmmUTNIjK7EInv\n",
       "3XZ/CtNrAAAACXBIWXMAAA7EAAAOxAGVKw4bAAACwElEQVQ4y62VT2jTUBzHf03SNknTtAh6KUhA\n",
       "2EFRCspgO8xIVQaCVgdeJq4iIg6mKXgRJ3QXQVTsRWb8Mx8oQu2hVdGJMBBEcIgwRHAMCtnF6UDZ\n",
       "SWGg+P7kNX9mwg4Gkrz3+z4+7/3+JQDruCz4Pr/GFLl2XZduwPOw7XjY0Dt7f2y2yIQ8MWyJZW6D\n",
       "AFO9O4f3KYZX1atwuA9RYR+Zn45DqpUgE1ImfoyuYV4ERc5TYQJP0/U4plQMMXMGfuz6B1OyKlRI\n",
       "IYCMEcfUIMQcQcSK2ORbp9OZ7zLrVBDxKVKx4ewJM2doAFhAL0/7zpl4nGfCh07nfSzzAGOmC0sO\n",
       "M5z4sQH7RpOrfvb7fqXHYsIgwO1Y5knGPGYpqyxnP1HLArFCxomyxxwf+72M30SoQjrP7fIZd7D9\n",
       "xZ6z3PiRMtU3IM3RubAKmgPCaxoBf452PqIyFhSU8TYrEPCiXdYzMN12bW8pU1qBLLNIFci1QV4h\n",
       "4wk/U3lAYkwEwfFt9g7fe2u4pHXodwJMrQ4ttjdGjxiQpOes+pmySYJIhcoAfjQHSALlP4uIdghm\n",
       "LpsB31sO7O6W5yEEAg1ENlCfgxeI70R4OkryJ/8iqAXdbNAWz6SnePdNMaYBmwRLJcwaji2Idd4P\n",
       "HrNBzkOFcZwiyZTJkZWiWBmiTOlOt7eeUKbiCJ8kaOGkJooKdkFiwT3lMc/jWr/pCgkcP62sk+Rr\n",
       "NSnfa9u2oeuZI3zxdZb3zS+rXyG7gH0qlIjXLLiNjaj7XZoE+5zBBYCWpfRjMQeacZWeU08Ou4sh\n",
       "W/P10VY+uOS+h++5vRkWQLNuDKEmZFEfri0aT3jFcySaPiYvMChFtUhXSJZ2PINrhnzQgfQtPD/6\n",
       "pf1wPxcnPabKCyzyUxYW2OepadvlgLnhMXVuU6L+ESEhiSK2dmAm/D9ainI9JIjwf66/1Py5j13/\n",
       "dM4AAAAASUVORK5CYII=\n",
       "\" style=\"display:inline;vertical-align:middle;\" /></a><br>(see <a class=\"ProveItLink\" href=\"../../../__pv_it/theorems/bd4dbd370951054345824ed4fc0f273bb31254110/dependencies.ipynb\">dependencies</a>)<br>"
      ],
      "text/plain": [
       "<IPython.core.display.HTML object>"
      ]
     },
     "metadata": {},
     "output_type": "display_data"
    }
   ],
   "source": [
    "%proving interval_co_within_Real"
   ]
  },
  {
   "cell_type": "code",
   "execution_count": null,
   "metadata": {},
   "outputs": [],
   "source": []
  }
 ],
 "metadata": {
  "kernelspec": {
   "display_name": "Python 3",
   "language": "python",
   "name": "python3"
  }
 },
 "nbformat": 4,
 "nbformat_minor": 0
}