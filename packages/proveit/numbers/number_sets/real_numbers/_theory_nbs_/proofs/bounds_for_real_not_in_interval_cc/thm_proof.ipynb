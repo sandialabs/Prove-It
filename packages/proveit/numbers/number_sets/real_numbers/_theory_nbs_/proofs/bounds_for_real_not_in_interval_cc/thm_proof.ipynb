{
 "cells": [
  {
   "cell_type": "markdown",
   "metadata": {},
   "source": [
    "Proof of <a class=\"ProveItLink\" href=\"../../../../../../_theory_nbs_/theory.ipynb\">proveit</a>.<a class=\"ProveItLink\" href=\"../../../../../_theory_nbs_/theory.ipynb\">numbers</a>.<a class=\"ProveItLink\" href=\"../../../../_theory_nbs_/theory.ipynb\">number_sets</a>.<a class=\"ProveItLink\" href=\"../../theory.ipynb\">real_numbers</a>.<a class=\"ProveItLink\" href=\"../../theorems.ipynb#bounds_for_real_not_in_interval_cc\">bounds_for_real_not_in_interval_cc</a> theorem\n",
    "========"
   ]
  },
  {
   "cell_type": "code",
   "execution_count": 1,
   "metadata": {},
   "outputs": [],
   "source": [
    "import proveit\n",
    "theory = proveit.Theory() # the theorem's theory"
   ]
  },
  {
   "cell_type": "code",
   "execution_count": 2,
   "metadata": {},
   "outputs": [
    {
     "data": {
      "text/html": [
       "With these <a href=\"allowed_presumptions.txt\">allowed</a>/<a href=\"disallowed_presumptions.txt\">disallowed</a> theorem/theory presumptions (e.g., to avoid circular dependencies), we begin our proof of<br><strong id=\"bounds_for_real_not_in_interval_cc\">bounds_for_real_not_in_interval_cc:</strong> <a class=\"ProveItLink\" href=\"../../../__pv_it/theorems/3135d9d131711fbc3ac448e4770f60f520347a590/expr.ipynb\"><img src=\"data:image/png;base64,iVBORw0KGgoAAAANSUhEUgAAAT8AAAAXCAMAAABK8Lh2AAAAPFBMVEX///8AAAAAAAAAAAAAAAAA\n",
       "AAAAAAAAAAAAAAAAAAAAAAAAAAAAAAAAAAAAAAAAAAAAAAAAAAAAAAAAAAAo1xBWAAAAE3RSTlMA\n",
       "q1RmmUTNIjK7EInv3XbP4duhPeprPQAAAAlwSFlzAAAOxAAADsQBlSsOGwAAA+9JREFUWMPtWYty\n",
       "pCAQdHgzyCR3/v+/HqAoIGjWpK72qo6kMta6dEs7L8g0vfPQjX00+bvf+dGH+quDWG1fG5K+TPAI\n",
       "d7Wwf874m8nHXG1flp9/hQDt7J/hJitk/li9mUOiqu3rQ+F+CfuloZZAiYe40ZrsgNq+mfsJXtvX\n",
       "Bz+E4btq1rQEC3uIm2wW07E3029u7EUcjkJnPhwwx6hWLYFc8EXYHTdavr0F9WbyMVXbsTd4gaNA\n",
       "O1w3u4dgLYHzr8LuuMnOPo7ZvVv4utoiEaBxbZiQd/UyNTjSW7S6ozpmv/MnAgUBuQ2+FrZmz7jJ\n",
       "ipQQLP7Ioi/cJNHMthsT3MLlO16hCWgSpbeg822TIudAYLeQ5IXvQuInaglwCRkMF30NW7Nn3GQ1\n",
       "5D/NMOqypDDvlABVMV1MWG/BiOR0w7PK8rBAHmSBIyS18KfSgnNqKjaRWZE710LpsSVgSeuZLmEb\n",
       "9oy72uh6TnaWDP2YNgTWhu/TFO477e71CzM+PmVXpkxyujHLykbvEVUqBNWpeGJJ0mzPZJbSoYMG\n",
       "TJwIVtDFXcI27Bl3tYwG1WM23RgV28cUfiaOdKtfnLE1YDAiudNvqp1ktNDZppCUOZibbrmsqBtw\n",
       "0loePUwXtmHPuJtVe3uEjpPTu8oxaeaESkKH37KrT/oRioF+1Qzc9IERyV38pkWGSYhXgYZLXAhf\n",
       "9hRTIU7GngmScmK5hG3ZM+5mHduaQPQ6LEjvNQgn2tQhPYGdwqvB4xFi/Gpb7ZKK56tnkNz165Oc\n",
       "9LNUWgwJA+LbrlLKKdFjUgPUxPRalup9F8gzwWJy1ryAbdgz7mb1DDnQgkPsPm95UWkSX6CSvNBP\n",
       "WGenQf2oZ+QbMCI56Vf1CCHLGxRhkmyCC8kTNqIwL7ZGQNRqe9UhiCXBtn1DA9uyt70VmCMlEJSZ\n",
       "SRzrWl2GK5sGW+PX1Quq1TxmfPxKM5JMfZJzYfalRRE6DyY46zW6RauGQM5ooHVBvq6KgnUIEFx3\n",
       "h1jCtuwZt8FPXZDlOcXELDLvlNFlwm3jpjL/SVn1mZV+xYw9jcKI5FxYvKntRWs52Gjp64OVO+AR\n",
       "7I57wp9jZpI89JNu7ZVigMdrPU9Ore3x0Wiv/cugflQzcFcHBiQd/apd+rdOIO6PF37oZEMGFyXH\n",
       "o+sElzAidevpWpB0lFKCzgcYUpFywbXLrqzwv3LGb1Po1yXp6DflrYp9eLB2e6L0EDjjXuKzwXX0\n",
       "x5j/5MUm47Qp+NxnwIiko18u9fjwZO1WnofAX3mvEvvXd9D9d8H7MpXA0HvRVNsXj4nvvesRcMa9\n",
       "xOeD60f6AfZlKoFh+j9G/5Mq3MyOzl/o31zwHwjQIwWHOqctAAAAAElFTkSuQmCC\n",
       "\" style=\"display:inline;vertical-align:middle;\" /></a><br>(see <a class=\"ProveItLink\" href=\"../../../__pv_it/theorems/3c73f0d17704f1bbba8111b68d086062a17974e80/dependencies.ipynb\">dependencies</a>)<br>"
      ],
      "text/plain": [
       "<IPython.core.display.HTML object>"
      ]
     },
     "metadata": {},
     "output_type": "display_data"
    }
   ],
   "source": [
    "%proving bounds_for_real_not_in_interval_cc"
   ]
  },
  {
   "cell_type": "code",
   "execution_count": null,
   "metadata": {},
   "outputs": [],
   "source": []
  }
 ],
 "metadata": {
  "kernelspec": {
   "display_name": "Python 3",
   "language": "python",
   "name": "python3"
  }
 },
 "nbformat": 4,
 "nbformat_minor": 0
}