{
 "cells": [
  {
   "cell_type": "markdown",
   "metadata": {},
   "source": [
    "Proof of <a class=\"ProveItLink\" href=\"../../../../../../_theory_nbs_/theory.ipynb\">proveit</a>.<a class=\"ProveItLink\" href=\"../../../../../_theory_nbs_/theory.ipynb\">numbers</a>.<a class=\"ProveItLink\" href=\"../../../../_theory_nbs_/theory.ipynb\">number_sets</a>.<a class=\"ProveItLink\" href=\"../../theory.ipynb\">real_numbers</a>.<a class=\"ProveItLink\" href=\"../../theorems.ipynb#real_nonzero_membership_is_bool\">real_nonzero_membership_is_bool</a> theorem\n",
    "========"
   ]
  },
  {
   "cell_type": "code",
   "execution_count": 1,
   "metadata": {},
   "outputs": [],
   "source": [
    "import proveit\n",
    "theory = proveit.Theory() # the theorem's theory"
   ]
  },
  {
   "cell_type": "code",
   "execution_count": 2,
   "metadata": {},
   "outputs": [
    {
     "data": {
      "text/html": [
       "With these <a href=\"allowed_presumptions.txt\">allowed</a>/<a href=\"disallowed_presumptions.txt\">disallowed</a> theorem/theory presumptions (e.g., to avoid circular dependencies), we begin our proof of<br><strong id=\"real_nonzero_membership_is_bool\">real_nonzero_membership_is_bool:</strong> <a class=\"ProveItLink\" href=\"../../../__pv_it/theorems/cda9f0ca19955b575dc9a7556ae36428b2bd37fb0/expr.ipynb\"><img src=\"data:image/png;base64,iVBORw0KGgoAAAANSUhEUgAAALUAAAAbCAMAAAANmz4FAAAAOVBMVEX///8AAAAAAAAAAAAAAAAA\n",
       "AAAAAAAAAAAAAAAAAAAAAAAAAAAAAAAAAAAAAAAAAAAAAAAAAAAAAAACXHtMAAAAEnRSTlMAq1Rm\n",
       "mUTNIjK7EInv3Xbt5cmRiLwgAAAACXBIWXMAAA7EAAAOxAGVKw4bAAACzklEQVRYw9VYCZLjIAzk\n",
       "FLdml/8/dgET2xy+MpmpWlXiyEm13IiWgBDy22bJf2hOlqtD9wsP43L03jFFSwwkRJrkiKf4RwAm\n",
       "Ru8toypfvU6XmFxlno76AcDC6L1lsuhCxSxuz2rWn036fYDho3cVHbwxEYKvCGGyfaU3J7qwDuWH\n",
       "cFGdmCJABB9oVWYB0E0Fh4SUH70bQy0ilpSblRguj1hY+5I1pNdxJBIFttIuALEWF6jDEnCjd4u1\n",
       "Kx/6RcxWUS4Kiax8F+016zRYp8iCLoA15InOoxy926yFIlAV8uevKQrZqjEni99izdlLFgUAdayO\n",
       "HcH0mg59lhg0IRlMWNd8rAkimDtfvRPmMk5lDTsAr2OFk4IYvbE7ANpprqm1ld+m77zKiHqH/jJO\n",
       "Zk0Vd3uAz0ML/lixFHrPIlKr3W56FNi5QrRhtWDYvGfJZv6mcSRaDNQ1AKG7RAww03silzISsaV+\n",
       "UsqJtYcQwyt3cKQ/vbubxpEBfAyvyVkAZZFVJw0IaOfxFJqnEdOtkGBejZyvyxI7KGTVVDgcVSNy\n",
       "WaehAnKa3UlzCKLz8lhFE18vMktmWoUYyy96hN2znsfJrPOH2wOy4M4W6iHXZF0jSNeJB11rcaa9\n",
       "JXX6Kk5lXXvRCwDr6o4oVHpds5a529qNTzjq10JfbHh03D8unLGGBuBYlQwqQg2BrnNT03rWSEJz\n",
       "+9m1HcQD1il7eKqRtodM41TWtQm9AMrXHKZfDRLd92vfeixqK5In96MDNmEtlvXAnK2ovO3XszhZ\n",
       "0OkYIToA3YhGdZKNxbMiZYQJ3sS31Eg77PmMyu0SIjvZ57fdq4+Dy95x2/P1gKWIU+r7L70cvdne\n",
       "2TQr8U0b9iFXcXpA2oc6mJxy3tvz3TxwRPtdgEDpEO1sAnrvYwdS+mMAykbvQxbUjwE+dm78zjHw\n",
       "OYC50fuE/egZ/XP/h/SFZN8C/AP+Phk3Rume4QAAAABJRU5ErkJggg==\n",
       "\" style=\"display:inline;vertical-align:middle;\" /></a><br>(see <a class=\"ProveItLink\" href=\"../../../__pv_it/theorems/5739c04d5d5f3b06f91058645d61efe1e75345480/dependencies.ipynb\">dependencies</a>)<br>"
      ],
      "text/plain": [
       "<IPython.core.display.HTML object>"
      ]
     },
     "metadata": {},
     "output_type": "display_data"
    },
    {
     "name": "stdout",
     "output_type": "stream",
     "text": [
      "real_nonzero_membership_is_bool may now be readily provable (assuming required theorems are usable).  Simply execute \"%qed\".\n"
     ]
    }
   ],
   "source": [
    "%proving real_nonzero_membership_is_bool"
   ]
  },
  {
   "cell_type": "code",
   "execution_count": null,
   "metadata": {},
   "outputs": [],
   "source": []
  }
 ],
 "metadata": {
  "kernelspec": {
   "display_name": "Python 3",
   "language": "python",
   "name": "python3"
  }
 },
 "nbformat": 4,
 "nbformat_minor": 0
}