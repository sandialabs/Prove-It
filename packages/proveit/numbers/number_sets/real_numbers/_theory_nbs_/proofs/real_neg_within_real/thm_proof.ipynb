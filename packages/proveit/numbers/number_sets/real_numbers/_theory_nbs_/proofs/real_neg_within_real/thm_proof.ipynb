{
 "cells": [
  {
   "cell_type": "markdown",
   "metadata": {},
   "source": [
    "Proof of <a class=\"ProveItLink\" href=\"../../../../../../_theory_nbs_/theory.ipynb\">proveit</a>.<a class=\"ProveItLink\" href=\"../../../../../_theory_nbs_/theory.ipynb\">numbers</a>.<a class=\"ProveItLink\" href=\"../../../../_theory_nbs_/theory.ipynb\">number_sets</a>.<a class=\"ProveItLink\" href=\"../../theory.ipynb\">real_numbers</a>.<a class=\"ProveItLink\" href=\"../../theorems.ipynb#real_neg_within_real\">real_neg_within_real</a> theorem\n",
    "========"
   ]
  },
  {
   "cell_type": "code",
   "execution_count": 1,
   "metadata": {},
   "outputs": [],
   "source": [
    "import proveit\n",
    "theory = proveit.Theory() # the theorem's theory"
   ]
  },
  {
   "cell_type": "code",
   "execution_count": 2,
   "metadata": {},
   "outputs": [
    {
     "data": {
      "text/html": [
       "With these <a href=\"allowed_presumptions.txt\">allowed</a>/<a href=\"disallowed_presumptions.txt\">disallowed</a> theorem/theory presumptions (e.g., to avoid circular dependencies), we begin our proof of<br><strong id=\"real_neg_within_real\">real_neg_within_real:</strong> <a class=\"ProveItLink\" href=\"../../../__pv_it/theorems/60b0a65eec5d1057a84ba2045c9a2537540b1c380/expr.ipynb\"><img src=\"data:image/png;base64,iVBORw0KGgoAAAANSUhEUgAAAEgAAAAQBAMAAABHHiTuAAAAMFBMVEX///8AAAAAAAAAAAAAAAAA\n",
       "AAAAAAAAAAAAAAAAAAAAAAAAAAAAAAAAAAAAAAAAAAAv3aB7AAAAD3RSTlMAZs3vu90iq0QQiTKZ\n",
       "VHZ+Ip2vAAAACXBIWXMAAA7EAAAOxAGVKw4bAAAA8klEQVQoz2MQMvFXNRFgwAoYlV0+BTuCWA7p\n",
       "DO0iE7CrYmEr4Cj0BCnKYmDhLmDY4gIECRiKFjA4bIco4klQwGXSAoZjTDBFDihyT0JDQ6Philgg\n",
       "ithnFiCr2bQM2aTK6RBFWy4hO4YzDNk6bl81kKJk1a8vkQ1ib0BSZBQfNwFskuAkFBcxITt8oSTY\n",
       "Tw5ZLBNRAnM7iu88BSGKuA94IitKR1G0hwViHcPpFGRFrCiKeLY5QBRN4UO2j0cAWRGnw0OQohwG\n",
       "RgEPZKM0kBQdYBBkaWAApgI3Bhf9C0iKplRMgKeCLwksTn+xRlmXKzRaoAAAVpk7fc4KS20AAAAA\n",
       "SUVORK5CYII=\n",
       "\" style=\"display:inline;vertical-align:middle;\" /></a><br>(see <a class=\"ProveItLink\" href=\"../../../__pv_it/theorems/b13ba5e21a58d7102c7d1a855bae69878a7d58310/dependencies.ipynb\">dependencies</a>)<br>"
      ],
      "text/plain": [
       "<IPython.core.display.HTML object>"
      ]
     },
     "metadata": {},
     "output_type": "display_data"
    },
    {
     "name": "stdout",
     "output_type": "stream",
     "text": [
      "real_neg_within_real may now be readily provable (assuming required theorems are usable).  Simply execute \"%qed\".\n"
     ]
    }
   ],
   "source": [
    "%proving real_neg_within_real"
   ]
  },
  {
   "cell_type": "code",
   "execution_count": null,
   "metadata": {},
   "outputs": [],
   "source": []
  }
 ],
 "metadata": {
  "kernelspec": {
   "display_name": "Python 3",
   "language": "python",
   "name": "python3"
  }
 },
 "nbformat": 4,
 "nbformat_minor": 0
}