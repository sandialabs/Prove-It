{
 "cells": [
  {
   "cell_type": "markdown",
   "metadata": {},
   "source": [
    "Proof of <a class=\"ProveItLink\" href=\"../../../../../../_theory_nbs_/theory.ipynb\">proveit</a>.<a class=\"ProveItLink\" href=\"../../../../../_theory_nbs_/theory.ipynb\">numbers</a>.<a class=\"ProveItLink\" href=\"../../../../_theory_nbs_/theory.ipynb\">number_sets</a>.<a class=\"ProveItLink\" href=\"../../theory.ipynb\">real_numbers</a>.<a class=\"ProveItLink\" href=\"../../theorems.ipynb#bounds_for_real_not_in_interval_oc\">bounds_for_real_not_in_interval_oc</a> theorem\n",
    "========"
   ]
  },
  {
   "cell_type": "code",
   "execution_count": 1,
   "metadata": {},
   "outputs": [],
   "source": [
    "import proveit\n",
    "theory = proveit.Theory() # the theorem's theory"
   ]
  },
  {
   "cell_type": "code",
   "execution_count": 2,
   "metadata": {},
   "outputs": [
    {
     "data": {
      "text/html": [
       "With these <a href=\"allowed_presumptions.txt\">allowed</a>/<a href=\"disallowed_presumptions.txt\">disallowed</a> theorem/theory presumptions (e.g., to avoid circular dependencies), we begin our proof of<br><strong id=\"bounds_for_real_not_in_interval_oc\">bounds_for_real_not_in_interval_oc:</strong> <a class=\"ProveItLink\" href=\"../../../__pv_it/theorems/180d35a48cbe231e8a332ddb17a4ec0a346194e30/expr.ipynb\"><img src=\"data:image/png;base64,iVBORw0KGgoAAAANSUhEUgAAAUEAAAAXCAMAAACicA1dAAAAPFBMVEX///8AAAAAAAAAAAAAAAAA\n",
       "AAAAAAAAAAAAAAAAAAAAAAAAAAAAAAAAAAAAAAAAAAAAAAAAAAAAAAAAAAAo1xBWAAAAE3RSTlMA\n",
       "q1RmmUTNIjK7EInv3XbP4duhPeprPQAAAAlwSFlzAAAOxAAADsQBlSsOGwAABA9JREFUWMPtWduW\n",
       "nCAQlDs0wm7i//9rAGm5CBpNHibnhM1ZOuNQJWXfZJflo4c6Ga9W/+F3ZmvU8vHD0954NIT/fYY3\n",
       "uPtMjs8p+zQBqe2Np0+A/Q4DmNW9w00zF/ix/DSnBNkbcyUmNy/hMMlhat8zSP7w1hA3zhqdUJlP\n",
       "c0HOemMymOMwuVKkYYduRvcM29NYRtw0o5yWfpqC68kYh5SzMMcolzBSlewZxAbPXLvgxpnl5yA/\n",
       "TUAqe2MU6dZdlgtZ3BddhNOewbqHrl1w07y6OFb7cUFsOwO8J6BtFSzA3SDAFbFeZV1tqZToe+7E\n",
       "IElApjeu3bIjbpp5SgsG/squL1JHzj50HBjMkJn7oBHAPfELRwmAyFHmEWtgMDkwWeW/JN2B9z0D\n",
       "bCGTwaauXbtlR9w0K4K/uqHlZXGhzkpOZMN0sSBfYmJG09+Bo63BwhZZEIYcbjdUENbUYmSZaZVD\n",
       "96LpoGegSe21bEQNXLtjR9x9ju5nxWDTZBzZ2hNjwvf9Eq5bZe8VDCu+vsXuN1Oa/soqWiN6EG9T\n",
       "4mirfEvi5LvSW+3VQQXKTww76GYvH0zHjrj7TP2kjqx6GKk8f+zDz8LA3yoYV+R2jIspzZ2CS+so\n",
       "s3BbTQpMgSHd9c91dc3ASW1ROppxcmjZETfP8miWwDJv1aFzTJ6YWD1X4V/d5ycFPfCJgs0K9D03\n",
       "p7mL4rTNsAjgKuXDFrfCtiPVNJCLNmeGpB2vOho1LFANO+Lm2dLcFIJTYUPquDVYfNbHq4WYJTwc\n",
       "KLcQo1iZ5s2pur92hRdVPRzT9Aoa3xgQEgeJT9xeth2Q9CAyVyxm2rcxIs4Mm8bsOXftnh1x86xW\n",
       "guEWXOLwe8OqmpP4ApVglYLcWLNMKkm7Il8QZk7TK3g0IrtBNw08LBJ02DvqWhbqeG4LeKM3ODlg\n",
       "iMXB9F0EeOcr1+7ZERdnokti8KTOT7zsa3caJk0adI9i226o1bOs+PqRViyUzGl6BbVrDOChD6Gc\n",
       "3b06AfFWK+L3Lbk273I6YABih++NrEoPPTvidvipJzIME03MJetBGZ0mXNZ2qfOgEE3f2ShYrcB0\n",
       "qs2c5lSlne6N5yd514cud8Bs9laHuCf8NeYnwUJ/affOKYZ5tNW6WLk3zKX13ruZSSVpVpQexk1p\n",
       "zgoexwKMv1Xw5kziNTDinvBFcFNvWXSf4BSap/492dwL61NiUHi0IaSXNrh33aNVPliv+FmylJrR\n",
       "nBXcv9wYbci4agy96fa8ybw70UPcS3w6saNPxjworl48+q1+HyuEndKcFTzqPrw8ebsV6CUw4l7h\n",
       "Cxjbd9Djp1H5OlczmsHbCp4PFOPZUfK9h70CRtxLfDaxXylI6kfQVJ4amiz/x+yvV3Dxv3I24//N\n",
       "Lf8C8+QkIlTZIjsAAAAASUVORK5CYII=\n",
       "\" style=\"display:inline;vertical-align:middle;\" /></a><br>(see <a class=\"ProveItLink\" href=\"../../../__pv_it/theorems/286855aa5f3ed98da356465c5bc37bbd856c0eca0/dependencies.ipynb\">dependencies</a>)<br>"
      ],
      "text/plain": [
       "<IPython.core.display.HTML object>"
      ]
     },
     "metadata": {},
     "output_type": "display_data"
    }
   ],
   "source": [
    "%proving bounds_for_real_not_in_interval_oc"
   ]
  },
  {
   "cell_type": "code",
   "execution_count": null,
   "metadata": {},
   "outputs": [],
   "source": []
  }
 ],
 "metadata": {
  "kernelspec": {
   "display_name": "Python 3",
   "language": "python",
   "name": "python3"
  }
 },
 "nbformat": 4,
 "nbformat_minor": 0
}