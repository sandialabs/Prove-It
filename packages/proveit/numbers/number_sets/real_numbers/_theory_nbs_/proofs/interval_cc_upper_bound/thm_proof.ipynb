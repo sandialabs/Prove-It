{
 "cells": [
  {
   "cell_type": "markdown",
   "metadata": {},
   "source": [
    "Proof of <a class=\"ProveItLink\" href=\"../../../../../../_theory_nbs_/theory.ipynb\">proveit</a>.<a class=\"ProveItLink\" href=\"../../../../../_theory_nbs_/theory.ipynb\">numbers</a>.<a class=\"ProveItLink\" href=\"../../../../_theory_nbs_/theory.ipynb\">number_sets</a>.<a class=\"ProveItLink\" href=\"../../theory.ipynb\">real_numbers</a>.<a class=\"ProveItLink\" href=\"../../theorems.ipynb#interval_cc_upper_bound\">interval_cc_upper_bound</a> theorem\n",
    "========"
   ]
  },
  {
   "cell_type": "code",
   "execution_count": 1,
   "metadata": {},
   "outputs": [],
   "source": [
    "import proveit\n",
    "theory = proveit.Theory() # the theorem's theory"
   ]
  },
  {
   "cell_type": "code",
   "execution_count": 2,
   "metadata": {},
   "outputs": [
    {
     "data": {
      "text/html": [
       "With these <a href=\"allowed_presumptions.txt\">allowed</a>/<a href=\"disallowed_presumptions.txt\">disallowed</a> theorem/theory presumptions (e.g., to avoid circular dependencies), we begin our proof of<br><strong id=\"interval_cc_upper_bound\">interval_cc_upper_bound:</strong> <a class=\"ProveItLink\" href=\"../../../__pv_it/theorems/f5f59684277f819ab5b76a67b3e2869a547b46f50/expr.ipynb\"><img src=\"data:image/png;base64,iVBORw0KGgoAAAANSUhEUgAAANoAAAAZBAMAAAClTy3yAAAAMFBMVEX///8AAAAAAAAAAAAAAAAA\n",
       "AAAAAAAAAAAAAAAAAAAAAAAAAAAAAAAAAAAAAAAAAAAv3aB7AAAAD3RSTlMAq1RmmUTNIjK7EInv\n",
       "3XZ/CtNrAAAACXBIWXMAAA7EAAAOxAGVKw4bAAADOUlEQVRIx62WT2jTUBzHf23SNk27tHgQdCoF\n",
       "wYuoQWWwgiOj8w/+LZt4UHAVD6KgxPuECuLBTVbYQasyctjBOnTRgYPJZGwMFRGGF2FQSGEqbKzs\n",
       "ooMdxN97ydKX1DUR+oMkL+/3I5/8vu/93nsA3razrEITTCp/9ROWgybZoebS1Mae5tKk1KauyyYt\n",
       "SR67PWg+gojt/Wev+Gwef0SmtKOk45oHzUcQ+WydCHuogGEFbzco7S7eIwUPmo8gNF52dRw5SR8J\n",
       "IvBhSgtrALGUB81HEFrc9b4yaT57NeLUCI3DHwp7zRIfQUQ3p65ThtWaonLKdE5+KZc/e85J7yC0\n",
       "U3i9qjx/R0UQz9i6XqluQWmSlHYC4IknzR30iams9qTVuIqXIu3i5wlsqy28+FsbU4HLUdptiGyE\n",
       "g3Ddaux723mLpbFBxOyX+4XaCy5MnMqtB2hSNVpwHeIGBKcpLarFsvZXWgmyUsxKMZjQGRoTRNw1\n",
       "WkCv0ebQCbxVBhFbSexJ6CCsUlrQYMb/I15deSxGCdIGQ2OCiLtGi+cdNCBpuGZJiw69KQiZuUGu\n",
       "A2+jHRPkv/9UNFr1SFtS2JWLBlWPL6rUjQBxfJmM3WB1O6skTndV1JwVgOV2ToPgvEl7g2UufhPW\n",
       "CGRBUkp0xYtFhmWWRoIkdVs4VbLG7aU6SGgr2qJNGwYoZXdAzFXdibw4iyNaMGl9GM0rAmYKUZnL\n",
       "9VAa/7TgWJVJEAfDAvRYtC4YII0haLNprwEOPDgN3UwFEtUDchRl4nWTFsCueFZK0lHgk23FYjEl\n",
       "SbFuB40EAWD+1I2AOaiYA91p0x4CjFSDGfeaI7ZmyOhlazvOmBpNo9wJiKf6aW5S6JJWt+MI0xHo\n",
       "N3MT12DoBTZWYcamteQbFO0dZn+Lq4M92ii0aO042em4waTipvXFcrzpRsAH4Vda1GEBx2ODxikN\n",
       "aBmGFsrsH4eBlHDWgMhjfL/wQx855qbx398vmW4EnD+4LAszcK/KlMMjRr4yNTtbuoM4925T8dFi\n",
       "Mdtg76ZuCxB0LiylzVOLqm5aSPN9UrAAF520iLEp7WfduYSD/6XJTlpTzlw368+TRXYPMPyeJ2f/\n",
       "Ar6AzjNGlZ4uAAAAAElFTkSuQmCC\n",
       "\" style=\"display:inline;vertical-align:middle;\" /></a><br>(see <a class=\"ProveItLink\" href=\"../../../__pv_it/theorems/750096fad9d5149f143e260f54284dc64ce564430/dependencies.ipynb\">dependencies</a>)<br>"
      ],
      "text/plain": [
       "<IPython.core.display.HTML object>"
      ]
     },
     "metadata": {},
     "output_type": "display_data"
    }
   ],
   "source": [
    "%proving interval_cc_upper_bound"
   ]
  },
  {
   "cell_type": "code",
   "execution_count": null,
   "metadata": {},
   "outputs": [],
   "source": []
  }
 ],
 "metadata": {
  "kernelspec": {
   "display_name": "Python 3",
   "language": "python",
   "name": "python3"
  }
 },
 "nbformat": 4,
 "nbformat_minor": 0
}