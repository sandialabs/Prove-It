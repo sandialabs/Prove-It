{
 "cells": [
  {
   "cell_type": "markdown",
   "metadata": {},
   "source": [
    "Proof of <a class=\"ProveItLink\" href=\"../../../../../../_theory_nbs_/theory.ipynb\">proveit</a>.<a class=\"ProveItLink\" href=\"../../../../../_theory_nbs_/theory.ipynb\">numbers</a>.<a class=\"ProveItLink\" href=\"../../../../_theory_nbs_/theory.ipynb\">number_sets</a>.<a class=\"ProveItLink\" href=\"../../theory.ipynb\">real_numbers</a>.<a class=\"ProveItLink\" href=\"../../theorems.ipynb#all_in_interval_co__is__real\">all_in_interval_co__is__real</a> theorem\n",
    "========"
   ]
  },
  {
   "cell_type": "code",
   "execution_count": 1,
   "metadata": {},
   "outputs": [],
   "source": [
    "import proveit\n",
    "theory = proveit.Theory() # the theorem's theory"
   ]
  },
  {
   "cell_type": "code",
   "execution_count": 2,
   "metadata": {},
   "outputs": [
    {
     "data": {
      "text/html": [
       "With these <a href=\"allowed_presumptions.txt\">allowed</a>/<a href=\"disallowed_presumptions.txt\">disallowed</a> theorem/theory presumptions (e.g., to avoid circular dependencies), we begin our proof of<br><strong id=\"all_in_interval_co__is__real\">all_in_interval_co__is__real:</strong> <a class=\"ProveItLink\" href=\"../../../__pv_it/theorems/fc1148ea51eaca7fd374f001138032aa36663c7d0/expr.ipynb\"><img src=\"data:image/png;base64,iVBORw0KGgoAAAANSUhEUgAAAOAAAAAZBAMAAADanj8DAAAAMFBMVEX///8AAAAAAAAAAAAAAAAA\n",
       "AAAAAAAAAAAAAAAAAAAAAAAAAAAAAAAAAAAAAAAAAAAv3aB7AAAAD3RSTlMAq1RmmUTNIjK7EInv\n",
       "3XZ/CtNrAAAACXBIWXMAAA7EAAAOxAGVKw4bAAADZElEQVRIx62WXUgUURSAz+7s7M7+OC30pBEs\n",
       "FL5EsWQY+mArmgqRbBk9JMRCD1GgjRBBaGAQQWg4IGJTZANJsEq0KST1EIshJVFID0XCwi5YgdLi\n",
       "S9hL0Tl3dnbuqO2ssAd27tw5h/3uuefnXgBn2ZtRoDIiZz6VY5aAykldhYGKk67CQDmyzcf6xUc9\n",
       "i1GA8wYwTMM+B2AZRkwObPtV7YNTDTrIUQY8Tp8uOgDLMCIJbL8Xaj/4JVzzZQa8iU+f6gAsw4jE\n",
       "E/0f0KPgWo4woFcHCEYcgGUYkYTsAX2Y+WwBcbkhnYACrsrrlDRlGJHU8hOxV7c8dE3hlnqjLEs/\n",
       "ZDLvHbPU2YjkBMUxXzM0Q5NrOreld2qxKIJhBuwAuO8I3Gy0yBWcXHy7QHGEXPakPcfUgZ4/qzgK\n",
       "CQbsA1/YVEmXCi8HXzT38kDeiKQ4uY2xiZkT6ltH4Zi+2169an/dExrdaQb068F4UbeHqDktLgdh\n",
       "LsUBOSNSW0AXWnWbkwX8DUKbYYZRyHwtAP2PKX+ldQZ0Z7l0eIe/1kHcJhkasxyQMyK1BQzhzKtz\n",
       "QICPRk2qnIdSjAIiGh5Cogkf001ztIa/OZ01BASuxvjWxozy7SsKUyMwMLtGcRzJ11gFw44CcQOm\n",
       "aFzi67DjOm3pkgGcwQ4Q+CJtEGdZjiVZIgR9E1EeSEayUu2NJAsxfKqMEPCnvgJuc2kT+EdjrjSw\n",
       "YOR5YJLWKagGcAD3xxOT0F/wR4VEFwN6Hqi25k1GAkxI0FUAtsIwvYxCPYim6XP04vdkWmQee4uN\n",
       "Qr2KhTyGkJQBdGEYQnE5zCLiCddrmhaR5eBpG5CMAHAXmBqBC5Azgt4Mkgm8ix52ZvcfNoJYfa54\n",
       "WoyDdiUCVXHreHqm+Bsx9LsgFBliHspit77leJLSPhgyPAxswCiFah3mrS2tGrS1mpeF1mbKDe48\n",
       "DCkjXfo0VOkNWAEshvAqthk4EEx4DDV6+Fb61RhIwTIGRjbzWYiVbCAtHFBsOTQLwxGpMwu+ezg/\n",
       "+z012bYZ6Pn2etVQI/DM4bWoNA+3MDf8xbYzXorHjhv7iW+EeVrT4iVOfKYu1KGbPZNFXbIUkK3L\n",
       "BhT1sq8YBaCRFu2WE9kSwB9b7jQC7BTISlWIV/rW1rP1XqpxXwI7uZe++QdeWeNB0Ic19wAAAABJ\n",
       "RU5ErkJggg==\n",
       "\" style=\"display:inline;vertical-align:middle;\" /></a><br>(see <a class=\"ProveItLink\" href=\"../../../__pv_it/theorems/bf7734636bb314df23cc0b3101ad9b71f113d53d0/dependencies.ipynb\">dependencies</a>)<br>"
      ],
      "text/plain": [
       "<IPython.core.display.HTML object>"
      ]
     },
     "metadata": {},
     "output_type": "display_data"
    },
    {
     "name": "stdout",
     "output_type": "stream",
     "text": [
      "all_in_interval_co__is__real may now be readily provable (assuming required theorems are usable).  Simply execute \"%qed\".\n"
     ]
    }
   ],
   "source": [
    "%proving all_in_interval_co__is__real"
   ]
  },
  {
   "cell_type": "code",
   "execution_count": null,
   "metadata": {},
   "outputs": [],
   "source": []
  }
 ],
 "metadata": {
  "kernelspec": {
   "display_name": "Python 3",
   "language": "python",
   "name": "python3"
  }
 },
 "nbformat": 4,
 "nbformat_minor": 0
}