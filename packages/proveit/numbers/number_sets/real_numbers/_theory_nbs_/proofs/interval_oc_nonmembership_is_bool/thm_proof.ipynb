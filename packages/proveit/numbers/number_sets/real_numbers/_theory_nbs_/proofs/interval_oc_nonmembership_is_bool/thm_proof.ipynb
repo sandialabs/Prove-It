{
 "cells": [
  {
   "cell_type": "markdown",
   "metadata": {},
   "source": [
    "Proof of <a class=\"ProveItLink\" href=\"../../../../../../_theory_nbs_/theory.ipynb\">proveit</a>.<a class=\"ProveItLink\" href=\"../../../../../_theory_nbs_/theory.ipynb\">numbers</a>.<a class=\"ProveItLink\" href=\"../../../../_theory_nbs_/theory.ipynb\">number_sets</a>.<a class=\"ProveItLink\" href=\"../../theory.ipynb\">real_numbers</a>.<a class=\"ProveItLink\" href=\"../../theorems.ipynb#interval_oc_nonmembership_is_bool\">interval_oc_nonmembership_is_bool</a> theorem\n",
    "========"
   ]
  },
  {
   "cell_type": "code",
   "execution_count": 1,
   "metadata": {},
   "outputs": [],
   "source": [
    "import proveit\n",
    "theory = proveit.Theory() # the theorem's theory"
   ]
  },
  {
   "cell_type": "code",
   "execution_count": 2,
   "metadata": {},
   "outputs": [
    {
     "data": {
      "text/html": [
       "With these <a href=\"allowed_presumptions.txt\">allowed</a>/<a href=\"disallowed_presumptions.txt\">disallowed</a> theorem/theory presumptions (e.g., to avoid circular dependencies), we begin our proof of<br><strong id=\"interval_oc_nonmembership_is_bool\">interval_oc_nonmembership_is_bool:</strong> <a class=\"ProveItLink\" href=\"../../../__pv_it/theorems/da9655af48a6f9f407d3eaefcd7c45d7e76770640/expr.ipynb\"><img src=\"data:image/png;base64,iVBORw0KGgoAAAANSUhEUgAAAQQAAAAWCAMAAAARvxIcAAAAP1BMVEX///8AAAAAAAAAAAAAAAAA\n",
       "AAAAAAAAAAAAAAAAAAAAAAAAAAAAAAAAAAAAAAAAAAAAAAAAAAAAAAAAAAAAAADFBd4eAAAAFHRS\n",
       "TlMAq1RmmUTNIjK7EInv3Xbp8+P3nXbhrUQAAAAJcEhZcwAADsQAAA7EAZUrDhsAAAP5SURBVFjD\n",
       "5VjbttwgCPVuRKW3/P+3Vo06muAks6ZvtV2Hs1oguIUNytg/WBjj9kzTnuR7rUfK7fP2w6Dtp7Hf\n",
       "LK+foiVmuVgGKKObADTeYhWc2U2IvITb9ZMx70pCfgPCEz/Cz3KxNk4ZXRe4EIdTwNv4Xd65NXCg\n",
       "0PSTseqnaOw3IDzwA2aWq6U0YUSnjBpTcU4gGoS0cW/TL4N+Mu6wW/dVOTzwo+QsVytSRuTaxQiC\n",
       "VI9AkKKmbdXPxg0/L77jhHs/4STJwnXxx89orkbU0jtMpBTg7CstQ4BQ/+3Qz8ayQm2+JMZbP8LM\n",
       "ktqVQWB8I4zo78aZmY08+6IygVtZaebQL8Yh4xWD/7Y73PlRfpaAyGHzQ+bYnE0zCTRlZrlHe2oA\n",
       "hicX4gWCHxjVEgyRiREw8ubz0C/GqiDv4FsQ7vy0c2oyVSRyZOpFAYVSJVJGOqT/c/vkHPa0Udht\n",
       "B0EO+FH0nECIJuxRVTeHfjG2vP04typz4jgRvVHcIA3C0k/jOzFJmaKUaVf8lcPmyvFVGULWUnEO\n",
       "p2ASsIMgBgIxS2JEqes3Dv3DOB8eOe/0vNmQO5c0kPncYjw9LC39VBrSk8x5o6ZQt1xQv36nH+5s\n",
       "pPaCyPzhw3r3/avbPvsqy51ByMIP+oexwAWdhUpRStVfMP1hEpAGYemHBIHVUxyHn2tzqcrBlfSf\n",
       "ES6Y6NwmawA6zL7oTMhTghv0G6v2QgQv0bdq2vZMXeMoVkBAUIux+eUHUdn09105lA0kDYBpQIhU\n",
       "DcGe/cqdmBLU/so/ERfDxgUEM+g3VhW1SCDatHXbh21gqEZQczlYd5lPGwjdD1rGHTPzoTocJaTy\n",
       "4vkkhhRHZPoEcFUu++WGiYxaB2FrZNGI0U2+1iAIHPSrsQ285X2upm4jC4FqOYCgnHfLC1T3I0v0\n",
       "p9tZa2CHFPsGKn1Kj0gZwWmjjIWIKneU1BMaZeXPqCEA5SdfFAiZQNCrsf+26NuncwUiHylB8YSD\n",
       "K0sc5eC1WN4ihy3slxa1xVGCSmcllJycAf+tgTICjn6zHLP/GKFp+zpU1wDidOngbvaFJjj3ukV2\n",
       "/ROXl57rZKvSXIJBsM2zkRO09nB/lc75dIahXdzfXODlH+/mUZdQFrDo0Sce0Gdf5xeFSEYfMiVo\n",
       "mUaQvPGEeKma1/xztMglMXbvgXlTpqF5h2qWty8JC2W/mtY+fAuY0+iFXUpP9DIfZErTTR3sYt3W\n",
       "x3HjUyIrc5MJCrXHy+jOnJ3l9WyIxnZRBqRB+PQa3PTfjDZjrYLPnKC/fllqfQZW4VI30IsyLgJw\n",
       "H76HNP119PqTq4R/+k7XbkB28RTG3xm9ezfTpS1/9jBqB+MFQ7H/aP0FjZgjZDrtruEAAAAASUVO\n",
       "RK5CYII=\n",
       "\" style=\"display:inline;vertical-align:middle;\" /></a><br>(see <a class=\"ProveItLink\" href=\"../../../__pv_it/theorems/5840ef80c7603883967c757e12f1a618bb6519550/dependencies.ipynb\">dependencies</a>)<br>"
      ],
      "text/plain": [
       "<IPython.core.display.HTML object>"
      ]
     },
     "metadata": {},
     "output_type": "display_data"
    }
   ],
   "source": [
    "%proving interval_oc_nonmembership_is_bool"
   ]
  },
  {
   "cell_type": "code",
   "execution_count": null,
   "metadata": {},
   "outputs": [],
   "source": []
  }
 ],
 "metadata": {
  "kernelspec": {
   "display_name": "Python 3",
   "language": "python",
   "name": "python3"
  }
 },
 "nbformat": 4,
 "nbformat_minor": 0
}