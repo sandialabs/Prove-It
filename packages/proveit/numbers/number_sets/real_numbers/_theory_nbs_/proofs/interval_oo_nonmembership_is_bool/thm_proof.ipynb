{
 "cells": [
  {
   "cell_type": "markdown",
   "metadata": {},
   "source": [
    "Proof of <a class=\"ProveItLink\" href=\"../../../../../../_theory_nbs_/theory.ipynb\">proveit</a>.<a class=\"ProveItLink\" href=\"../../../../../_theory_nbs_/theory.ipynb\">numbers</a>.<a class=\"ProveItLink\" href=\"../../../../_theory_nbs_/theory.ipynb\">number_sets</a>.<a class=\"ProveItLink\" href=\"../../theory.ipynb\">real_numbers</a>.<a class=\"ProveItLink\" href=\"../../theorems.ipynb#interval_oo_nonmembership_is_bool\">interval_oo_nonmembership_is_bool</a> theorem\n",
    "========"
   ]
  },
  {
   "cell_type": "code",
   "execution_count": 1,
   "metadata": {},
   "outputs": [],
   "source": [
    "import proveit\n",
    "theory = proveit.Theory() # the theorem's theory"
   ]
  },
  {
   "cell_type": "code",
   "execution_count": 2,
   "metadata": {},
   "outputs": [
    {
     "data": {
      "text/html": [
       "With these <a href=\"allowed_presumptions.txt\">allowed</a>/<a href=\"disallowed_presumptions.txt\">disallowed</a> theorem/theory presumptions (e.g., to avoid circular dependencies), we begin our proof of<br><strong id=\"interval_oo_nonmembership_is_bool\">interval_oo_nonmembership_is_bool:</strong> <a class=\"ProveItLink\" href=\"../../../__pv_it/theorems/9a31b62d59905ad03a212b2a3eb91d6c8d9ec3520/expr.ipynb\"><img src=\"data:image/png;base64,iVBORw0KGgoAAAANSUhEUgAAAQYAAAAWCAMAAAAVSsIhAAAAP1BMVEX///8AAAAAAAAAAAAAAAAA\n",
       "AAAAAAAAAAAAAAAAAAAAAAAAAAAAAAAAAAAAAAAAAAAAAAAAAAAAAAAAAAAAAADFBd4eAAAAFHRS\n",
       "TlMAq1RmmUTNIjK7EInv3Xbp8+P3nXbhrUQAAAAJcEhZcwAADsQAAA7EAZUrDhsAAAQBSURBVFjD\n",
       "1VjtluQoCI3fUZTZnc37P+uqUUsSrEpP7Z+1+xR1uoHgFS6YbfsPFqa0P9N0F/le65HyU6dLu+fR\n",
       "f1hgnuIlqVwsGzij5TJI5Zvjit4eNiZhiH6OXwwlqb6A4ZEbCVQu1i44o9sKPqa2PUXlevmyd2fD\n",
       "iUPXz/HrcZLWfQHDEzfBUrla2jBGbNboS/rQNOJhyFsHl79M+jn+Ab3z3xTFEzdaUblaiTPi1tHL\n",
       "RWkqP8CgZMvepl+KuiMI8itueOAmXiRbvj79+ivZuxHHCcc4/BiofHnLyzIw2Fm/xK8a3PY7ivzs\n",
       "RloquY1ZDJvYGSP2sa+0sYrKlzcuG4RTMOtXio8FsRThy07x0Y0GKgOiCDtM6eNKSlEy6MqbE4CO\n",
       "tgIrsofTGlpNwsSujmGKQpEBk+heT/0av67o+/AlDB/dXE8s1yUK3PR0poVdFXJGJub/+WP2Ho68\n",
       "z3BURlYNOzVhyHF1hiHZeCQdZv0avxP949q47IXuZAKrhUUWhqWbwXySSJWjVHlf4pXH9s72TTnE\n",
       "oqUJecoKSqzRyEYhcqISu6RIVKY95dQ/555yguwENHJnR+F91sANSrsBdnxauuk0ZogsyaNJqHup\n",
       "q79/5w9/NdJHxYQ8+DQ+6t/2o7k4qLe6/BWGImDSP6OWuGC22MhK6/YF88+mArIwLN3wMGzjKF/z\n",
       "0L3TNOXoaxUQkCso5myaJvbaod74bChTg5/02+HZUZABFEKvqf0oJDYPZxUGDJofpl9uELXLv2+L\n",
       "ou4hq4RABobEGYWjOFbHfWrQJ13I1Mt2MX7cYLCTfosfZCuVkFzevBsjeNhQz7CWonD+NrNe3aDb\n",
       "hN/sZYLwOMuQi0yUs5gSHXEzmjMKdcvCbrLg1mHYO2dkhFqMyhNvaxgkTvotfhdFz/5SU8NGVSo1\n",
       "aoJBe/Crq9Vwo2r412sbbWry2IPOjzIzWFaKnTUqaMikS3fJDaIxV3mM5ptx88bBUNgNgdh1RusP\n",
       "L5WIYqYGLTISvi55FgUYubphTns47t1qT7MMOp+W1Io4C+K3CZxREAi7E1gekFJLXQFj0k6Gyqbg\n",
       "qTe00fvXDXPoX4i9NmGverWWUoxy22GbucEYCB8v2iWlbkD0a/2b6736BzwdfxlleZtNXKJykM/V\n",
       "G293jT8WajAqTyVl6xn1WjuvkehsmCuKHM7jBraOR5c9fr4A3Qc/Rhn++NK2sLvCYHKSIqhymjlZ\n",
       "d32yjPP7GNIt5HTW9n02aDSAyIyyjsr76TBN7qZ869fD7KeX5K7/ZtqZazZA4Qbz9dun3nPCKlzu\n",
       "enpTxp/Du7p2u0/xm59cMeDp27x+N3KL12XindH6cu6ofPwK1fVXc0sY/viF3P9z/QtJAyMVKw3s\n",
       "2gAAAABJRU5ErkJggg==\n",
       "\" style=\"display:inline;vertical-align:middle;\" /></a><br>(see <a class=\"ProveItLink\" href=\"../../../__pv_it/theorems/eb730e0977716857aa61410b3e44d38aad7793fa0/dependencies.ipynb\">dependencies</a>)<br>"
      ],
      "text/plain": [
       "<IPython.core.display.HTML object>"
      ]
     },
     "metadata": {},
     "output_type": "display_data"
    }
   ],
   "source": [
    "%proving interval_oo_nonmembership_is_bool"
   ]
  },
  {
   "cell_type": "code",
   "execution_count": null,
   "metadata": {},
   "outputs": [],
   "source": []
  }
 ],
 "metadata": {
  "kernelspec": {
   "display_name": "Python 3",
   "language": "python",
   "name": "python3"
  }
 },
 "nbformat": 4,
 "nbformat_minor": 0
}