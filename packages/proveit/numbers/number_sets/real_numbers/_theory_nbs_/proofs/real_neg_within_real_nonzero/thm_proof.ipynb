{
 "cells": [
  {
   "cell_type": "markdown",
   "metadata": {},
   "source": [
    "Proof of <a class=\"ProveItLink\" href=\"../../../../../../_theory_nbs_/theory.ipynb\">proveit</a>.<a class=\"ProveItLink\" href=\"../../../../../_theory_nbs_/theory.ipynb\">numbers</a>.<a class=\"ProveItLink\" href=\"../../../../_theory_nbs_/theory.ipynb\">number_sets</a>.<a class=\"ProveItLink\" href=\"../../theory.ipynb\">real_numbers</a>.<a class=\"ProveItLink\" href=\"../../theorems.ipynb#real_neg_within_real_nonzero\">real_neg_within_real_nonzero</a> theorem\n",
    "========"
   ]
  },
  {
   "cell_type": "code",
   "execution_count": 1,
   "metadata": {},
   "outputs": [],
   "source": [
    "import proveit\n",
    "theory = proveit.Theory() # the theorem's theory"
   ]
  },
  {
   "cell_type": "code",
   "execution_count": 2,
   "metadata": {},
   "outputs": [
    {
     "data": {
      "text/html": [
       "With these <a href=\"allowed_presumptions.txt\">allowed</a>/<a href=\"disallowed_presumptions.txt\">disallowed</a> theorem/theory presumptions (e.g., to avoid circular dependencies), we begin our proof of<br><strong id=\"real_neg_within_real_nonzero\">real_neg_within_real_nonzero:</strong> <a class=\"ProveItLink\" href=\"../../../__pv_it/theorems/694f0a18db16292152626e952d7ac05961c090d10/expr.ipynb\"><img src=\"data:image/png;base64,iVBORw0KGgoAAAANSUhEUgAAAF0AAAAVCAMAAAATpBLwAAAAOVBMVEX///8AAAAAAAAAAAAAAAAA\n",
       "AAAAAAAAAAAAAAAAAAAAAAAAAAAAAAAAAAAAAAAAAAAAAAAAAAAAAAACXHtMAAAAEnRSTlMAZs3v\n",
       "u90iq0QQiTKZVHbt5clcYUjMAAAACXBIWXMAAA7EAAAOxAGVKw4bAAABIElEQVQ4y7VU7ZLDIAhE\n",
       "RfG7d77/w17Upjqd0EuclJmQH9ndKAsA3B4Ovhjetuyz/4K4oZpFBrB4vzqZmlXYUjF3i9tWD1Nq\n",
       "8VUCIRVikVqhuKbzToxY47E9AkJT1/UDtlpZEnjR7QNi7n/q6ip3kG+vUA0JuIc5oT4RWzM+jeyV\n",
       "KWmAogF5+ewTsVbm5xdbZSZXB+hTC2XUPcKB+pP4ugPk2pE0gcg5YrWD9IY7+yBOxm3TFN0ABUyS\n",
       "rbTThq3MIKZ8DFJSF535liELJ4iSM0cI98lSCSeIybLWoxP8NAWCNeIOChH4YTK0SHyZE4PhG1Kv\n",
       "EnfQNmaZvWIUi8QGinUrCUDL2mrXiH3V1aWCKNtmOGx4JOtWiKcXN75vgv/jD2hRChhSHxj0AAAA\n",
       "AElFTkSuQmCC\n",
       "\" style=\"display:inline;vertical-align:middle;\" /></a><br>(see <a class=\"ProveItLink\" href=\"../../../__pv_it/theorems/ccf2fae23310bea2ddd3f2c7a986613da882f04d0/dependencies.ipynb\">dependencies</a>)<br>"
      ],
      "text/plain": [
       "<IPython.core.display.HTML object>"
      ]
     },
     "metadata": {},
     "output_type": "display_data"
    }
   ],
   "source": [
    "%proving real_neg_within_real_nonzero"
   ]
  },
  {
   "cell_type": "code",
   "execution_count": null,
   "metadata": {},
   "outputs": [],
   "source": []
  }
 ],
 "metadata": {
  "kernelspec": {
   "display_name": "Python 3",
   "language": "python",
   "name": "python3"
  }
 },
 "nbformat": 4,
 "nbformat_minor": 0
}