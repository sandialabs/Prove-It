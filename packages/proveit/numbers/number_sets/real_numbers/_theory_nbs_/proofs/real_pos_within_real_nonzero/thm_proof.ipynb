{
 "cells": [
  {
   "cell_type": "markdown",
   "metadata": {},
   "source": [
    "Proof of <a class=\"ProveItLink\" href=\"../../../../../../_theory_nbs_/theory.ipynb\">proveit</a>.<a class=\"ProveItLink\" href=\"../../../../../_theory_nbs_/theory.ipynb\">numbers</a>.<a class=\"ProveItLink\" href=\"../../../../_theory_nbs_/theory.ipynb\">number_sets</a>.<a class=\"ProveItLink\" href=\"../../theory.ipynb\">real_numbers</a>.<a class=\"ProveItLink\" href=\"../../theorems.ipynb#real_pos_within_real_nonzero\">real_pos_within_real_nonzero</a> theorem\n",
    "========"
   ]
  },
  {
   "cell_type": "code",
   "execution_count": 1,
   "metadata": {},
   "outputs": [],
   "source": [
    "import proveit\n",
    "theory = proveit.Theory() # the theorem's theory"
   ]
  },
  {
   "cell_type": "code",
   "execution_count": 2,
   "metadata": {},
   "outputs": [
    {
     "data": {
      "text/html": [
       "With these <a href=\"allowed_presumptions.txt\">allowed</a>/<a href=\"disallowed_presumptions.txt\">disallowed</a> theorem/theory presumptions (e.g., to avoid circular dependencies), we begin our proof of<br><strong id=\"real_pos_within_real_nonzero\">real_pos_within_real_nonzero:</strong> <a class=\"ProveItLink\" href=\"../../../__pv_it/theorems/f89b9f632c0f84dd23d279eec72be9d881ac30700/expr.ipynb\"><img src=\"data:image/png;base64,iVBORw0KGgoAAAANSUhEUgAAAFwAAAAVCAMAAAD8ZnnOAAAAOVBMVEX///8AAAAAAAAAAAAAAAAA\n",
       "AAAAAAAAAAAAAAAAAAAAAAAAAAAAAAAAAAAAAAAAAAAAAAAAAAAAAAACXHtMAAAAEnRSTlMAZs3v\n",
       "u90iq0QQiTKZVHbt5clcYUjMAAAACXBIWXMAAA7EAAAOxAGVKw4bAAABJ0lEQVQ4y7VV2W7EIAw0\n",
       "xtxHW/7/Y8uRhmgVawPaWgp5mZkYj+0AfDoc/F9420+fPYeI29ratFNkAEsMhLbFjW6nDPUo+sPi\n",
       "thdDl1Z4mUCgJCqoJIkl8VdepBZf9REQurgSXakVyhpBbinzG14eHxriMg+Q769g/jKQ1DN4K37h\n",
       "9S48khplKWmCogZczfzCa0l9/xxJTUMniHjxTGpEuBE/4OcNILdWNBeQcc5w4gG95jKfvFn7NkTR\n",
       "TVCghJoRd0qzZZm8lO9BElVR2XETaiw84CFnjBAOeesQHvCSZV0nJ9jWm0at8U5QiFc/7pbROm8a\n",
       "E4Nmu1tt8k5Qna7MXTCKPd4Ate6otSPLOWr3eGO7UW1VIuzr4O7XRca6Dd7jRU2v4/8+fgEF2gpL\n",
       "czQgHwAAAABJRU5ErkJggg==\n",
       "\" style=\"display:inline;vertical-align:middle;\" /></a><br>(see <a class=\"ProveItLink\" href=\"../../../__pv_it/theorems/6dfc187ef62413178b73823fde6c9090cb96f0a90/dependencies.ipynb\">dependencies</a>)<br>"
      ],
      "text/plain": [
       "<IPython.core.display.HTML object>"
      ]
     },
     "metadata": {},
     "output_type": "display_data"
    }
   ],
   "source": [
    "%proving real_pos_within_real_nonzero"
   ]
  },
  {
   "cell_type": "code",
   "execution_count": null,
   "metadata": {},
   "outputs": [],
   "source": []
  }
 ],
 "metadata": {
  "kernelspec": {
   "display_name": "Python 3",
   "language": "python",
   "name": "python3"
  }
 },
 "nbformat": 4,
 "nbformat_minor": 0
}