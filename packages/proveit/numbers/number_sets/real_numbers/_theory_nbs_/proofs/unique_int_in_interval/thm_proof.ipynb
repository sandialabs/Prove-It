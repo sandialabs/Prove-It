{
 "cells": [
  {
   "cell_type": "markdown",
   "metadata": {},
   "source": [
    "Proof of <a class=\"ProveItLink\" href=\"../../../../../../_theory_nbs_/theory.ipynb\">proveit</a>.<a class=\"ProveItLink\" href=\"../../../../../_theory_nbs_/theory.ipynb\">numbers</a>.<a class=\"ProveItLink\" href=\"../../../../_theory_nbs_/theory.ipynb\">number_sets</a>.<a class=\"ProveItLink\" href=\"../../theory.ipynb\">real_numbers</a>.<a class=\"ProveItLink\" href=\"../../theorems.ipynb#unique_int_in_interval\">unique_int_in_interval</a> theorem\n",
    "========"
   ]
  },
  {
   "cell_type": "code",
   "execution_count": 1,
   "metadata": {},
   "outputs": [],
   "source": [
    "import proveit\n",
    "theory = proveit.Theory() # the theorem's theory"
   ]
  },
  {
   "cell_type": "code",
   "execution_count": 2,
   "metadata": {},
   "outputs": [
    {
     "data": {
      "text/html": [
       "With these <a href=\"allowed_presumptions.txt\">allowed</a>/<a href=\"disallowed_presumptions.txt\">disallowed</a> theorem/theory presumptions (e.g., to avoid circular dependencies), we begin our proof of<br><strong id=\"unique_int_in_interval\">unique_int_in_interval:</strong> <a class=\"ProveItLink\" href=\"../../../__pv_it/theorems/5280a60446db0a8aa0548941db147e127308445f0/expr.ipynb\"><img src=\"data:image/png;base64,iVBORw0KGgoAAAANSUhEUgAAAiUAAAAYBAMAAADXOJCCAAAAMFBMVEX///8AAAAAAAAAAAAAAAAA\n",
       "AAAAAAAAAAAAAAAAAAAAAAAAAAAAAAAAAAAAAAAAAAAv3aB7AAAAD3RSTlMAq1RmmUTNIjK7EInv\n",
       "3XZ/CtNrAAAACXBIWXMAAA7EAAAOxAGVKw4bAAAGS0lEQVRYw+VYf4gUVRz/7s7O7ezM7XhiCP7g\n",
       "OEjKfpibhKJ/nCuumpR2nCWUlpsJoYKNBYFZcVoE5dVt2nWtRzJHh2RXd5teZ24gy4VkhXGFpWgH\n",
       "syiZischhXJC9N77vpl5Mzu33ApySV/4zO5+v++975vP+77v++4D+G+IwRFsqViiHJWNZ9ysu1si\n",
       "eh0i2FK5yBaisvGe4aihP+4cb07u4wi2VCYHTpDHOY6KxtMTiCX0x/PjTImaRgRbKpUNBFUmorLx\n",
       "NiF20J2XGWdOIglEsGWs+8VuepVASiIqG+8hBCVTqxtnTqo5XLk4OJiGEm1ZCfP8IY/Q5w8cXPYK\n",
       "nsrMw2SQCHFV451O7uJwZPUlwVIhJ9oAfT7HweXtMY1XlUCcGBz8cbw5eQShnk9ABztKN4mW7uKn\n",
       "3/giOTrtAmfANdqcVNUWieJLQHCRcs54jhcxzQxN3XWQ0FmDeNgNLEG04Mnnbg0nfFG1cAEWstcy\n",
       "REtSr40MeDusNWIj+M012pz0bFKvAcwFBEQGmfzljOd4WcEMP7NGULRWEObSiK0QrQnIRcGTT1aQ\n",
       "Nyvg5BfETvJ2UxgnokUypJGQNzWq3wInQjDanMw24SeA+wHh7Kz19niOF0HmwUJzEmlUQMRMrUGw\n",
       "zupbtMV9o7f4iRQ+u2GyFcTJ9PblvR5F6PvedtYq5t3sbaCyZVM2ouIeAz5xzsVjCLPaoq8D0EwX\n",
       "MMMtCkSw4X62rqfp7IYhjiFrG0k0/E6yAF3dpQA3AFoA4cj+Y+DzIkgT7UVGG0aELWdVlGK2Qdfg\n",
       "cM7hJEQ9vzelFayctt3PCdWfgvwlEPvHDa3bLOEkvI80v8K+TkNKLFCGBnycwDpTuc7KLhAtUO2v\n",
       "SKsz0GMvpGO04+QsyOQ0XgsIJwNtNsDnxSOMJbmAgHS9rU81kTpOhwWWllqRYsVcNdFESMYBy5K6\n",
       "oTd1MuXGFNMnlLvdsKb9Jdj5Evg5kfawEGTfj9PHfNopPODbO2SxdDojiHt2FawzVG/51WNhRvAY\n",
       "bU6uQmQEnc0S8slvhjOe7UXIJyBfg89wRmxWB2mS76o/zMpaysmlpBMnLUNTsUS2LL3TjRP9/OvL\n",
       "eOkcYS3lIoSwP2mTFDhRD102QN8NDifKP0UTLrKTwuVkH8f7EGO5TbcEy4GG6f6U31MHk8OGCh6j\n",
       "zcl1+JxMZD4g7IIu43qyvQj5qTVUoOeHlEHAq6SBekq5hhGra9F9CYeTK+Z5lY1m5badczm5EMqs\n",
       "Rz3Mm8lOxAlmM4946cUmgZMvjBZD6QeXE/2Mnmzmh6fDiX1wLoJ1yOt6wTL7nUeh0fsOMSt8MgI9\n",
       "aY/R5mQSfOAe77a8LHhyvLhb+3pnQSaTiuQQEKL7I6kUYBWbc6Q94+bYPTAXS2Zr+RHh3EnErCbU\n",
       "qxbLda/MgovYH7r5siEnKWgmySPvchJLSOlwu+nl5F2OjqOPYYh3tJqOpXMovNhXnqi1X2/9E+Jn\n",
       "PEabk45eOrNfObh8JHhyvLjjrbRmzKF7tgGBiapBr4G52Wy2Tte1Rrc+OQ6LpI3Z7G6yd76qE+qT\n",
       "CQagXtNMtp2nQS32h1ye7kybk2NQJM8n8w4n1U2RGpAZKS4n8SYEQB/XrPkYa3vUjiL3BtaxmFIH\n",
       "EP5bE68Xv7zGgRvUiC0wd7E40eU1bkIbhn4lh/nkibzQuRkM1De+AZrJluQ4sP7yzATkHU5I9bSH\n",
       "MrRjmc3JBKgm5Cp3GCIn/B+bllb7fbOUylVEueD/gOX+VQZ7sWUxB8aJ0bLKjJksn0Cez0PNwRmS\n",
       "cfZiPtE67UDLRQt9ZBcxfS4JT0MXwGl5GFh/LQLygBsn3yl/L6CfW6cyTrogbrLMF51oCpxAG0Pc\n",
       "CpUUym1lbhis0W3bOKB0vCAvPLgy4h2BvPiBQxClm271H7nOpbzc6Ic3h8jQJNzkLZvVVNpRr1wz\n",
       "ZDK9NLH2yLNAcuaM+Wns/+DEyx/WuJw8Pudyggfv9heOkpbKSovfDkb7bjgvdYAhXL+k9IaozBVQ\n",
       "mRBqG43OYC88BRoIUbqy2QbPDsXlOJJthVK1qK9TjVjC1z8W6HaUW4mohQi23MRdpoGobLwLHOXk\n",
       "qTGqZTNkrS4hPfDex4TbXBJjVEsg1+dG50Qh51G2jbdklxlUYcD/T6K37cz/Ba4Y73LeRD0SAAAA\n",
       "AElFTkSuQmCC\n",
       "\" style=\"display:inline;vertical-align:middle;\" /></a><br>(see <a class=\"ProveItLink\" href=\"../../../__pv_it/theorems/1309f70cae99354e03d37c4226e671819411863a0/dependencies.ipynb\">dependencies</a>)<br>"
      ],
      "text/plain": [
       "<IPython.core.display.HTML object>"
      ]
     },
     "metadata": {},
     "output_type": "display_data"
    }
   ],
   "source": [
    "%proving unique_int_in_interval"
   ]
  },
  {
   "cell_type": "code",
   "execution_count": null,
   "metadata": {},
   "outputs": [],
   "source": []
  }
 ],
 "metadata": {
  "kernelspec": {
   "display_name": "Python 3",
   "language": "python",
   "name": "python3"
  }
 },
 "nbformat": 4,
 "nbformat_minor": 0
}