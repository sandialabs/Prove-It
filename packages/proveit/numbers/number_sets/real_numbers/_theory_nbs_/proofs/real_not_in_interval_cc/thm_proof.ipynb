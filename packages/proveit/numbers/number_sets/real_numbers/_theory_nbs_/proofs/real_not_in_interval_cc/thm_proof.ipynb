{
 "cells": [
  {
   "cell_type": "markdown",
   "metadata": {},
   "source": [
    "Proof of <a class=\"ProveItLink\" href=\"../../../../../../_theory_nbs_/theory.ipynb\">proveit</a>.<a class=\"ProveItLink\" href=\"../../../../../_theory_nbs_/theory.ipynb\">numbers</a>.<a class=\"ProveItLink\" href=\"../../../../_theory_nbs_/theory.ipynb\">number_sets</a>.<a class=\"ProveItLink\" href=\"../../theory.ipynb\">real_numbers</a>.<a class=\"ProveItLink\" href=\"../../theorems.ipynb#real_not_in_interval_cc\">real_not_in_interval_cc</a> theorem\n",
    "========"
   ]
  },
  {
   "cell_type": "code",
   "execution_count": 1,
   "metadata": {},
   "outputs": [],
   "source": [
    "import proveit\n",
    "theory = proveit.Theory() # the theorem's theory"
   ]
  },
  {
   "cell_type": "code",
   "execution_count": 2,
   "metadata": {},
   "outputs": [
    {
     "data": {
      "text/html": [
       "With these <a href=\"allowed_presumptions.txt\">allowed</a>/<a href=\"disallowed_presumptions.txt\">disallowed</a> theorem/theory presumptions (e.g., to avoid circular dependencies), we begin our proof of<br><strong id=\"real_not_in_interval_cc\">real_not_in_interval_cc:</strong> <a class=\"ProveItLink\" href=\"../../../__pv_it/theorems/80a26187e269e15f8217654349f9a66011615b550/expr.ipynb\"><img src=\"data:image/png;base64,iVBORw0KGgoAAAANSUhEUgAAASEAAAAXCAMAAABzlwktAAAAP1BMVEX///8AAAAAAAAAAAAAAAAA\n",
       "AAAAAAAAAAAAAAAAAAAAAAAAAAAAAAAAAAAAAAAAAAAAAAAAAAAAAAAAAAAAAADFBd4eAAAAFHRS\n",
       "TlMAq1RmmUTNIjK7EInv3Xbp8+P3nXbhrUQAAAAJcEhZcwAADsQAAA7EAZUrDhsAAAQVSURBVFjD\n",
       "3VgHjtwwDFQvlMU0//+tUS+2XA4IgmyMw8Fec0RqTI4oEfL/XPr1W/Te3BpnA03+rwvZ7WsF/d7J\n",
       "x9GiicR4R9tvjH80QczdvjaUvGAI7OYHE4yUiGasPjqpQN2/F5K8yiElRpOYeI1bbT86hcRDBXjy\n",
       "jqGdjSZcDPXp2EcztN0plPXfvnv1hiG5w2SyhUdeyFefrULX4UuFQKh5l0POzyYqsrP5eG3us4us\n",
       "hA+IFIwbCkLHIjmoVJ6+pg41HmSIhgFYZ8hFERKJXgt/JND5wz5qPy7zQX8dpXgLACkS0WUnLUAc\n",
       "zwzJLbyx+zRv2AOfsOvGEFeJyvrvuECqW/Fm3ilB1eR7AnD5VUo77N73GeVz0vAwNx4mTbtuq2Mz\n",
       "VBiCLS3lfp5TImzDxhDbavosK5OuK88gtVbGTxneO+0uGAK6XpZnkXDjjGmHHXyvUJNQ5/hjOYip\n",
       "okwUkR8/wz87MyT2xOw8UsburhFikhXDC53elq25EKYmewBywAuGxIp0LSicW93SrKaJF9jke41a\n",
       "MERKBow94GKdjtPfbKqqOchEmIwrfmFIbiURa52C4+iqDJg9yl6tfRQ6/JU+szOEIC4Y8jMuN7ZU\n",
       "H/zk4DMuaaE/+W6oPtapNfGsr9fBAGAKw5+3FLDHKfN90Q2JvRcV86UVKt8EvA6x6bZ9A4Jl/qgJ\n",
       "tUSx/E0qQy70mcjXDGk14WLstjI1+GGi7XhSCmXY4LujhrHYUYks5oSRhMavPtQOIpFixVAch6q0\n",
       "LjQ+d1MFqip1npHeaC2gWLjNKy9aHi1TEAEv+cCQsG4W1OFJ2gkXnh30Qm1+pG3AlEL1ufgeUX2s\n",
       "ajXMmWahNSDCuHJMMcWoWWxLI6fMi6iBYQWrQhh9iKEfql1EHSJWM9JRhkSX2/zNubLpYrnK3BTM\n",
       "yBCjE85sbFaN4sdkSOhbs/wWWPE9odpYDTUIcqoGECFjmOATCOhPCWeGgKIzmmKcuvdQbV3ZvhSG\n",
       "/KxTqRGwvBZxrNEeYfzm4bVxZNQhKR2sGaqTKLggPZYt/NR6UaUjK7Dqe0ANY52rjNwc+PBfzoa1\n",
       "7G7XwWB1+hGcHRVsi/IgeWiaIg+B2FiG8V5vxKm8KvfWMq/2t0o94NL+iB/8JJnI06jLe46p+B5R\n",
       "41h4ahq5eHUydMGQI2uT035YhgRFx0tNGJECSfcCpUOEdAZg2n5HuZDYY/8xMmTj1+64Inx88lOs\n",
       "xnnkH4rvCTWMZc9tt73qxBeHFkeGANcmt+cd7OI+Jb5NHePisrdtXRprngmcYljCHlHr364OLY4M\n",
       "4fqM8Zr1GCes7x+uKUrx4khuYfMCtjTRuDamqx384zl1WkzuIuEX919hiLhHapdbt0fYmw3fv3rp\n",
       "uz3Y4ybtLQz+5pR+A2MrItTDz0CxAAAAAElFTkSuQmCC\n",
       "\" style=\"display:inline;vertical-align:middle;\" /></a><br>(see <a class=\"ProveItLink\" href=\"../../../__pv_it/theorems/8c2f36d19adc4fa7961cfb7f2995ba178823d5db0/dependencies.ipynb\">dependencies</a>)<br>"
      ],
      "text/plain": [
       "<IPython.core.display.HTML object>"
      ]
     },
     "metadata": {},
     "output_type": "display_data"
    }
   ],
   "source": [
    "%proving real_not_in_interval_cc"
   ]
  },
  {
   "cell_type": "code",
   "execution_count": null,
   "metadata": {},
   "outputs": [],
   "source": []
  }
 ],
 "metadata": {
  "kernelspec": {
   "display_name": "Python 3",
   "language": "python",
   "name": "python3"
  }
 },
 "nbformat": 4,
 "nbformat_minor": 0
}