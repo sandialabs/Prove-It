{
 "cells": [
  {
   "cell_type": "markdown",
   "metadata": {},
   "source": [
    "Proof of <a class=\"ProveItLink\" href=\"../../../../../../_theory_nbs_/theory.ipynb\">proveit</a>.<a class=\"ProveItLink\" href=\"../../../../../_theory_nbs_/theory.ipynb\">numbers</a>.<a class=\"ProveItLink\" href=\"../../../../_theory_nbs_/theory.ipynb\">number_sets</a>.<a class=\"ProveItLink\" href=\"../../theory.ipynb\">real_numbers</a>.<a class=\"ProveItLink\" href=\"../../theorems.ipynb#interval_cc_nonmembership_is_bool\">interval_cc_nonmembership_is_bool</a> theorem\n",
    "========"
   ]
  },
  {
   "cell_type": "code",
   "execution_count": 1,
   "metadata": {},
   "outputs": [],
   "source": [
    "import proveit\n",
    "theory = proveit.Theory() # the theorem's theory"
   ]
  },
  {
   "cell_type": "code",
   "execution_count": 2,
   "metadata": {},
   "outputs": [
    {
     "data": {
      "text/html": [
       "With these <a href=\"allowed_presumptions.txt\">allowed</a>/<a href=\"disallowed_presumptions.txt\">disallowed</a> theorem/theory presumptions (e.g., to avoid circular dependencies), we begin our proof of<br><strong id=\"interval_cc_nonmembership_is_bool\">interval_cc_nonmembership_is_bool:</strong> <a class=\"ProveItLink\" href=\"../../../__pv_it/theorems/fabbe485ad07f3ec25892ea55681a4cd444fea3b0/expr.ipynb\"><img src=\"data:image/png;base64,iVBORw0KGgoAAAANSUhEUgAAAQEAAAAWCAMAAAD3ltlYAAAAP1BMVEX///8AAAAAAAAAAAAAAAAA\n",
       "AAAAAAAAAAAAAAAAAAAAAAAAAAAAAAAAAAAAAAAAAAAAAAAAAAAAAAAAAAAAAADFBd4eAAAAFHRS\n",
       "TlMAq1RmmUTNIjK7EInv3Xbp8+P3nXbhrUQAAAAJcEhZcwAADsQAAA7EAZUrDhsAAAPmSURBVFjD\n",
       "5VjbkqUgDOSOEMje/P9vXYKigHDUOvu27NZkqqbTQJOEIGP/YGCMyzOk7exn1BPu/e/25ZLty4Xf\n",
       "DNBPpRKtnQzj33BnhMbbUwrOrCZEngkLPjnzAyPkNwo84RHQ2slY+AN1vQuxRuDt6h1t2xrPa3xy\n",
       "VscMxn6jwAMeb1o7G0o/ii+jGkQdODMF0q7Bpl9OfHI+BLfuqyx4wKNka2cjPsuwVTQIqR4pIMUe\n",
       "rhuenIt2IL6rA/c8obPDdHXxx89oHiigV98igu+Z0jADBUyFJ2e5n4j5shLe8gjT2tGuDHrGl0cx\n",
       "ALFDGNkzjWKAWwkVPjsH0ioG+PYuuONR0FqPyP0CVcxYiqOuSmzclgPattwbnvxFpQBUBdQOqgJV\n",
       "Qo+RlwVmfHZWWXPnv1XgjqecUbEpD5EjU2fa5xoqcXDXhfQXt9bUfk2b9Ks9FZCVdKNqnBSIJqxR\n",
       "+QqfnS0vP/pbyXRFTUQwihscKzDlKQVONFamRcq0KX4GrxnUdOL2gTCqqZAi6xHwVEBU9cVMKyFK\n",
       "vc+Q8ZszHdsw3Y6AWZA7lxDIgO4TGHdEU5698ujGUsSoZqUL5dGv3+mH627aNSvXTLu5rnBOuawt\n",
       "Ux6uV4AMnPjNWeCkfoW9Jim1/4LpH5MexwpMeYYKsP0I6yZncJUQd3A57Btxsx6absSigA4t0zgG\n",
       "qBtwJ740E0fyeZAIJYeWlWpV3W5lBdCrSVd88iAqm/5/yoK8gYTwvmkE4pXbr8Qq12s3oNYq7ESc\n",
       "tBQXBcyJ351B7Knho037tkcr7RmqWlDKAusuDehRjQsPWsYdM+1xOqytT1nF8ylUVzgyrUYKEBE3\n",
       "TJBgRYGl1IejErqGaa6AwBO/O9vAS7hTDh0uMhdMLSsFlAM3fRkdPDLvs3t2ldtqs2JdvEpT6Vom\n",
       "I/gy4CbNRFR0e6QrYK9RNIeqZ1fQMI0UoKqBoCp8cS7zUooir8uA4kkEl4fYsgC0mL4Nq/Wvl/to\n",
       "ibX1Kp2TULIh8/y39lduzxEWy5HYY9zDlYOSzexRN0yuZUITnDvfhgXfVe58vTpZMpMSLwi2AKvr\n",
       "gNbg71/HFEm9BuUt/uFNLv+Aa3vZC7eYzG673Nc9U/+FII7oA5UBLVOrQbtOaudcOZuc7TacVsKD\n",
       "PDAwueVpt6fY3Rvm2spdFIAJQr183G/4nl6nqESQdIQpOhe1FRTrlqPZNpDiV5mbVSrUgJfGnDnb\n",
       "2uu5uNuvL37Wj7182u74D/1LnZ8eqA7or78RlVvFz1Y7eFf23DhBuJdfN3b8fOn6zTMBnn5uK48b\n",
       "O/mmxd9zY8wdFr4UYMPvzuOSxP6X8Rd1VyO+tQE2rgAAAABJRU5ErkJggg==\n",
       "\" style=\"display:inline;vertical-align:middle;\" /></a><br>(see <a class=\"ProveItLink\" href=\"../../../__pv_it/theorems/50b1d5e90d7a56855ccc83fa8c272b3baf3ffca00/dependencies.ipynb\">dependencies</a>)<br>"
      ],
      "text/plain": [
       "<IPython.core.display.HTML object>"
      ]
     },
     "metadata": {},
     "output_type": "display_data"
    }
   ],
   "source": [
    "%proving interval_cc_nonmembership_is_bool"
   ]
  },
  {
   "cell_type": "code",
   "execution_count": null,
   "metadata": {},
   "outputs": [],
   "source": []
  }
 ],
 "metadata": {
  "kernelspec": {
   "display_name": "Python 3",
   "language": "python",
   "name": "python3"
  }
 },
 "nbformat": 4,
 "nbformat_minor": 0
}