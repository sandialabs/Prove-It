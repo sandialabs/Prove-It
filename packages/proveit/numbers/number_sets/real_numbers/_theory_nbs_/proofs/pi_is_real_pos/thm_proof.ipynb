{
 "cells": [
  {
   "cell_type": "markdown",
   "metadata": {},
   "source": [
    "Proof of <a class=\"ProveItLink\" href=\"../../../../../../_theory_nbs_/theory.ipynb\">proveit</a>.<a class=\"ProveItLink\" href=\"../../../../../_theory_nbs_/theory.ipynb\">numbers</a>.<a class=\"ProveItLink\" href=\"../../../../_theory_nbs_/theory.ipynb\">number_sets</a>.<a class=\"ProveItLink\" href=\"../../theory.ipynb\">real_numbers</a>.<a class=\"ProveItLink\" href=\"../../theorems.ipynb#pi_is_real_pos\">pi_is_real_pos</a> theorem\n",
    "========"
   ]
  },
  {
   "cell_type": "code",
   "execution_count": 1,
   "metadata": {},
   "outputs": [],
   "source": [
    "import proveit\n",
    "theory = proveit.Theory() # the theorem's theory"
   ]
  },
  {
   "cell_type": "code",
   "execution_count": 2,
   "metadata": {},
   "outputs": [
    {
     "data": {
      "text/html": [
       "With these <a href=\"allowed_presumptions.txt\">allowed</a>/<a href=\"disallowed_presumptions.txt\">disallowed</a> theorem/theory presumptions (e.g., to avoid circular dependencies), we begin our proof of<br><strong id=\"pi_is_real_pos\">pi_is_real_pos:</strong> <a class=\"ProveItLink\" href=\"../../../__pv_it/theorems/adbf0748b19a64bccd8ce23fcb48fca46d762db70/expr.ipynb\"><img src=\"data:image/png;base64,iVBORw0KGgoAAAANSUhEUgAAAEEAAAATBAMAAAA9n32KAAAAMFBMVEX///8AAAAAAAAAAAAAAAAA\n",
       "AAAAAAAAAAAAAAAAAAAAAAAAAAAAAAAAAAAAAAAAAAAv3aB7AAAAD3RSTlMAie+ZRFQyZnYiu6sQ\n",
       "3c1H9AzSAAAACXBIWXMAAA7EAAAOxAGVKw4bAAAA3klEQVQoz2NgwAeYGQgBLrJV1Gmtf6tVgNeM\n",
       "BbMZvKsO4FUxkYGLbQOD1apFq1YV4FLBPOEBNjO67t59AFexAIsKvx6EGdxnNsBVCP3///8ziMH5\n",
       "BsmWrLgJMBWMIoHpbQkgFt8EuIpJb//2wMM0laGTA6yAgQ/JpeXnUFzOfQBMJ90FggUQFVzHkXzJ\n",
       "toEXwjiFZAabwRqk+CvghzB4kcPDbBZCxfkD/A5gBkcDkopTHAhrehn4BSCsp3AVkxnYC5bAVSxl\n",
       "4IaqOL3kACxuVzKseh+AJT4c10JCHQUAAEX0SP+KhzjKAAAAAElFTkSuQmCC\n",
       "\" style=\"display:inline;vertical-align:middle;\" /></a><br>(see <a class=\"ProveItLink\" href=\"../../../__pv_it/theorems/35affc1d52f971ec0094fa49c0d08d9fac061c030/dependencies.ipynb\">dependencies</a>)<br>"
      ],
      "text/plain": [
       "<IPython.core.display.HTML object>"
      ]
     },
     "metadata": {},
     "output_type": "display_data"
    }
   ],
   "source": [
    "%proving pi_is_real_pos"
   ]
  },
  {
   "cell_type": "code",
   "execution_count": null,
   "metadata": {},
   "outputs": [],
   "source": []
  }
 ],
 "metadata": {
  "kernelspec": {
   "display_name": "Python 3",
   "language": "python",
   "name": "python3"
  }
 },
 "nbformat": 4,
 "nbformat_minor": 0
}