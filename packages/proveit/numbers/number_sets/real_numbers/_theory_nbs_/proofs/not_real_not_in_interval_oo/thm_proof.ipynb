{
 "cells": [
  {
   "cell_type": "markdown",
   "metadata": {},
   "source": [
    "Proof of <a class=\"ProveItLink\" href=\"../../../../../../_theory_nbs_/theory.ipynb\">proveit</a>.<a class=\"ProveItLink\" href=\"../../../../../_theory_nbs_/theory.ipynb\">numbers</a>.<a class=\"ProveItLink\" href=\"../../../../_theory_nbs_/theory.ipynb\">number_sets</a>.<a class=\"ProveItLink\" href=\"../../theory.ipynb\">real_numbers</a>.<a class=\"ProveItLink\" href=\"../../theorems.ipynb#not_real_not_in_interval_oo\">not_real_not_in_interval_oo</a> theorem\n",
    "========"
   ]
  },
  {
   "cell_type": "code",
   "execution_count": 1,
   "metadata": {},
   "outputs": [],
   "source": [
    "import proveit\n",
    "theory = proveit.Theory() # the theorem's theory"
   ]
  },
  {
   "cell_type": "code",
   "execution_count": 2,
   "metadata": {},
   "outputs": [
    {
     "data": {
      "text/html": [
       "With these <a href=\"allowed_presumptions.txt\">allowed</a>/<a href=\"disallowed_presumptions.txt\">disallowed</a> theorem/theory presumptions (e.g., to avoid circular dependencies), we begin our proof of<br><strong id=\"not_real_not_in_interval_oo\">not_real_not_in_interval_oo:</strong> <a class=\"ProveItLink\" href=\"../../../__pv_it/theorems/226d789f2fbe919639f9bbda94893f356a96dd050/expr.ipynb\"><img src=\"data:image/png;base64,iVBORw0KGgoAAAANSUhEUgAAARoAAAAZCAMAAADZjhGSAAAAS1BMVEX///8AAAAAAAAAAAAAAAAA\n",
       "AAAAAAAAAAAAAAAAAAAAAAAAAAAAAAAAAAAAAAAAAAAAAAAAAAAAAAAAAAAAAAAAAAAAAAAAAAAA\n",
       "AADXrLZzAAAAGHRSTlMAq1RmmUTNIjK7EInv3XbP4duh6fPj951y2Qx9AAAACXBIWXMAAA7EAAAO\n",
       "xAGVKw4bAAAEBUlEQVRYw91ZiZLjKAzlPgRoZq9Z//+XLmCwIQHidLy1tU13ha5YBzxLD4km5JZB\n",
       "QwiafJuBcTvsJluKfLfB+f8WGv3WU33Rmv4G0OA63hW8I02IxH7O0NDjMeOfQXOPpWuDueVjQ69J\n",
       "g/WhgMf7OUEj5LE9/Rk091i6NOBFlJ5LeSWtxEOc1TlCcwCs7YcJdY+lS0O8CMtwWXqrqcbFw8xP\n",
       "mBz7lGtusXRp+BUL2fDHn0Fdk5bbQUoeujlBU6n4IyZVLan/65zM5h6kQiDUXJQm7owvxbs5b8aH\n",
       "NLz7/IS6w9KlfCoeAJGCcU2U6hS5D9xSpYmmDjX266bRxK7uCh+UOUMjMsYWPofmfUtiUXOZuTd+\n",
       "aCNFIppXnw4AjkNp6eNDu7Wrgy1CCVs+NXgBtMwZGk3rx+MRqB74lAWnBFU4g2Zq6eQBQbsXtyBs\n",
       "O/dXinget8TjVikfc14vDT7HQcfQLAPlswNWKKnMOzuk1+zkqDOqoWiQWhslkMRvnHazkm9sqWqD\n",
       "pXEzzLqX0ESNHz/n/vzuIoWV6JLHpJT+61f8sE/SYss4dbZ27S1/Z7ZiY2ugYTihTl9iWojyB8Yf\n",
       "wgFn0AwtHdpuV+QvoUkaFOb+/Im+x76EGxyQRdrbnEHdi8tAyf0Al77mXdsoqCM9wXF0tWAzW6K5\n",
       "pkLcl4ogpo3CaQlR6PjbaAM38rGhaaHpNIAu/J1dsUw8AdAVNGEoDVtaGN+eqxqx0w8LlTVaaBwr\n",
       "6QlBR0D00ZoDQbG/igqNiwUd8ik0hyXUhFqiWKPNNNMDQjlsdxooF/4s7iEiCU2v2LXwEinG0hkG\n",
       "qkhaRMVyM5WDIhZlLWUu0GhPaySnfD1s8szXkjfQCOvsor08LPG8pOj51ObAYQFNr2FX/vbzlW0G\n",
       "RFysbBNIMWqG0hkhFkQ61uLBVMg0ORX9GV/mWqRVcyktkbZUI2hEx+bB9gB3ki0672Zh9Uys2sZI\n",
       "s4Cm0/jx28qfyTEPIsYIE7x7DPSXhJF0fILOaIppDSGULKHu6CKC7OaHS4l8wlteczflpY9bcqTl\n",
       "GikdXLmUSNEXzTXahYYJTKBpNCgs/YV5zcP/djaeUGotzZ5M6tDPj/c1PlGNjHEPaUMR2px4Zw23\n",
       "H6YLGj4ceeLUXtGd2tolkiVuWNd0GkDX/ri4elMzkXbTjrXOj9DIGJ7oeHqBMUxNitjcSZujQVEu\n",
       "BrJQL6NGoHSI0Gqn8y/mijDjhGo1fjcv/NnZtcew63+Sfi4/qt6hv7jlazMYXGIL+cVbvpX2uK6B\n",
       "n6/8wayMHnb9T9I4Re9AcQ6NfK+l+mqzPd7hhVtCjePv6VvSbeXQzSto3rzCvBca+lGre8+479r8\n",
       "i/+HGuv858hgCJ7/A/YTI0xQzDTJAAAAAElFTkSuQmCC\n",
       "\" style=\"display:inline;vertical-align:middle;\" /></a><br>(see <a class=\"ProveItLink\" href=\"../../../__pv_it/theorems/c69fab638baa6efdfae760726622c19c51c91c9e0/dependencies.ipynb\">dependencies</a>)<br>"
      ],
      "text/plain": [
       "<IPython.core.display.HTML object>"
      ]
     },
     "metadata": {},
     "output_type": "display_data"
    },
    {
     "name": "stdout",
     "output_type": "stream",
     "text": [
      "not_real_not_in_interval_oo may now be readily provable (assuming required theorems are usable).  Simply execute \"%qed\".\n"
     ]
    }
   ],
   "source": [
    "%proving not_real_not_in_interval_oo"
   ]
  },
  {
   "cell_type": "code",
   "execution_count": null,
   "metadata": {},
   "outputs": [],
   "source": []
  }
 ],
 "metadata": {
  "kernelspec": {
   "display_name": "Python 3",
   "language": "python",
   "name": "python3"
  }
 },
 "nbformat": 4,
 "nbformat_minor": 0
}