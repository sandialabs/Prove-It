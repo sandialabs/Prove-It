{
 "cells": [
  {
   "cell_type": "markdown",
   "metadata": {},
   "source": [
    "Proof of <a class=\"ProveItLink\" href=\"../../../../../../_theory_nbs_/theory.ipynb\">proveit</a>.<a class=\"ProveItLink\" href=\"../../../../../_theory_nbs_/theory.ipynb\">numbers</a>.<a class=\"ProveItLink\" href=\"../../../../_theory_nbs_/theory.ipynb\">number_sets</a>.<a class=\"ProveItLink\" href=\"../../theory.ipynb\">real_numbers</a>.<a class=\"ProveItLink\" href=\"../../theorems.ipynb#real_nonpos_membership_is_bool\">real_nonpos_membership_is_bool</a> theorem\n",
    "========"
   ]
  },
  {
   "cell_type": "code",
   "execution_count": 1,
   "metadata": {},
   "outputs": [],
   "source": [
    "import proveit\n",
    "theory = proveit.Theory() # the theorem's theory"
   ]
  },
  {
   "cell_type": "code",
   "execution_count": 2,
   "metadata": {},
   "outputs": [
    {
     "data": {
      "text/html": [
       "With these <a href=\"allowed_presumptions.txt\">allowed</a>/<a href=\"disallowed_presumptions.txt\">disallowed</a> theorem/theory presumptions (e.g., to avoid circular dependencies), we begin our proof of<br><strong id=\"real_nonpos_membership_is_bool\">real_nonpos_membership_is_bool:</strong> <a class=\"ProveItLink\" href=\"../../../__pv_it/theorems/9c6579601cf795f3e5ff0115239714e899605fd30/expr.ipynb\"><img src=\"data:image/png;base64,iVBORw0KGgoAAAANSUhEUgAAALUAAAAaBAMAAAADNwChAAAAMFBMVEX///8AAAAAAAAAAAAAAAAA\n",
       "AAAAAAAAAAAAAAAAAAAAAAAAAAAAAAAAAAAAAAAAAAAv3aB7AAAAD3RSTlMAq1RmmUTNIjK7EInv\n",
       "3XZ/CtNrAAAACXBIWXMAAA7EAAAOxAGVKw4bAAACtElEQVRIx51WTWgTQRj9Nsnu5seEiIroKWAR\n",
       "xEuooBRF60GtihIJ9FKsiz0IpaVb8CIGEo/FQPcSpBXtiCK0Bw1F8FAoQfAQRLF4XlixClbtQSiR\n",
       "QMGZnZ3p7CRrEr/DS/Lm7cvk+5kJwH/GERNWfvT+WDjH4B/WDoQd1YJIwHoQ38chMAayALtK0ADd\n",
       "ai8I4OMGg8D4nsFQRPAG4HSApD0fyzKQ43h9YbKOF8rEGmYRfAJIIr/mV31qYi1H+TQhDomrBQ4t\n",
       "YU3DtQEEoYeIen8ASKVlzag+vo/y58jnW+LiZQ6t3nchFsUPqcQc5+Q3Tl5T1uThdYzy91oSv8Wh\n",
       "nXfEJJWI7jVpLQHGWr37FcpreAeJjLAWbTIQamfbBvd2N6LvRilHJfm4KGuwt0b5MK6NJvqkPjLg\n",
       "Mbyxs29liSZYB1hZJ2n/KWvysP+kx7+37XeikWJ4EN88eH/ZtRkXcjJz2PTn4AaSNKMv1qoePwQw\n",
       "72tBy4MIfHauEEbjblZhcntDyu9sSdJcn9i+5PHToPvaSEt7cALOoD0uI9Ty2HP8MjOHg5kVc5Im\n",
       "D1+GEeVjKOE7OpKDHpTgPGXKNg6LeseeykP1Midp8hBTq5QPOb5S7uwbyGiQWBT2HR2cl7yLJUmD\n",
       "vcHyeIOM/uaFdVP2Vhuw5P4Ssb+H7sj5NiUN8TY8fhmXOGUe0LwmVywK8YpSg6rblY7gvZjKtusT\n",
       "QYO9Q47HF/Aew/A4yvq7RiH051lNpd93kz93G89Dxe99CiTNCKy+YrziJqzB1tQmhfhVp6+fUk8q\n",
       "iJ2DD2BuKuPzPuvXfKsvuOcg48mQ13T29i0HHiOP7MDzfCxAw8+ZQsKIdHEOtrtJmp34yNdVPm9l\n",
       "Dl1druleeCXDoJtImr3wXdyXHe/FQP4oh87R4z3f1f8TXigUzP8F9nnURF07z0oAAAAASUVORK5C\n",
       "YII=\n",
       "\" style=\"display:inline;vertical-align:middle;\" /></a><br>(see <a class=\"ProveItLink\" href=\"../../../__pv_it/theorems/1ad1302733ac5ae63ba4b6d63ff60056187c27210/dependencies.ipynb\">dependencies</a>)<br>"
      ],
      "text/plain": [
       "<IPython.core.display.HTML object>"
      ]
     },
     "metadata": {},
     "output_type": "display_data"
    },
    {
     "name": "stdout",
     "output_type": "stream",
     "text": [
      "real_nonpos_membership_is_bool may now be readily provable (assuming required theorems are usable).  Simply execute \"%qed\".\n"
     ]
    }
   ],
   "source": [
    "%proving real_nonpos_membership_is_bool"
   ]
  },
  {
   "cell_type": "code",
   "execution_count": null,
   "metadata": {},
   "outputs": [],
   "source": []
  }
 ],
 "metadata": {
  "kernelspec": {
   "display_name": "Python 3",
   "language": "python",
   "name": "python3"
  }
 },
 "nbformat": 4,
 "nbformat_minor": 0
}