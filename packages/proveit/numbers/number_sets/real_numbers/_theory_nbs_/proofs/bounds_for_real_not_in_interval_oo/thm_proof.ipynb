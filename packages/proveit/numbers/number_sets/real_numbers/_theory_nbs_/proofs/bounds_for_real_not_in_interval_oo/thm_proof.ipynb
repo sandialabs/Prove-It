{
 "cells": [
  {
   "cell_type": "markdown",
   "metadata": {},
   "source": [
    "Proof of <a class=\"ProveItLink\" href=\"../../../../../../_theory_nbs_/theory.ipynb\">proveit</a>.<a class=\"ProveItLink\" href=\"../../../../../_theory_nbs_/theory.ipynb\">numbers</a>.<a class=\"ProveItLink\" href=\"../../../../_theory_nbs_/theory.ipynb\">number_sets</a>.<a class=\"ProveItLink\" href=\"../../theory.ipynb\">real_numbers</a>.<a class=\"ProveItLink\" href=\"../../theorems.ipynb#bounds_for_real_not_in_interval_oo\">bounds_for_real_not_in_interval_oo</a> theorem\n",
    "========"
   ]
  },
  {
   "cell_type": "code",
   "execution_count": 1,
   "metadata": {},
   "outputs": [],
   "source": [
    "import proveit\n",
    "theory = proveit.Theory() # the theorem's theory"
   ]
  },
  {
   "cell_type": "code",
   "execution_count": 2,
   "metadata": {},
   "outputs": [
    {
     "data": {
      "text/html": [
       "With these <a href=\"allowed_presumptions.txt\">allowed</a>/<a href=\"disallowed_presumptions.txt\">disallowed</a> theorem/theory presumptions (e.g., to avoid circular dependencies), we begin our proof of<br><strong id=\"bounds_for_real_not_in_interval_oo\">bounds_for_real_not_in_interval_oo:</strong> <a class=\"ProveItLink\" href=\"../../../__pv_it/theorems/c3165fc37fd8756159e3f6be43919fa739fed53f0/expr.ipynb\"><img src=\"data:image/png;base64,iVBORw0KGgoAAAANSUhEUgAAAUIAAAAXCAMAAABJR7ZeAAAAPFBMVEX///8AAAAAAAAAAAAAAAAA\n",
       "AAAAAAAAAAAAAAAAAAAAAAAAAAAAAAAAAAAAAAAAAAAAAAAAAAAAAAAAAAAo1xBWAAAAE3RSTlMA\n",
       "q1RmmUTNIjK7EInv3XbP4duhPeprPQAAAAlwSFlzAAAOxAAADsQBlSsOGwAABAZJREFUWMPtWYty\n",
       "3CAM5P0QhqT1//9rAQMGDDjnZDrXmTKZyDmfds0iCZkg9N5DdvaZ93e/87NP9XeHI619cXD3ZYZH\n",
       "uIfF5XNC305BYlr7+hLQrzCA3uwz3GgZzx+LtwtLEK1dSTF5egHlEpdL5XoGwV6DLbjBqhyGUr9d\n",
       "EDLa2umglsHkzqkNLcJp1TPs5DXYghtt1tOQt5Nw6+wsq6yBOcZ5KyerFD0D3+FF2IIbLE0LId5O\n",
       "QSJaO052Y5d7hjgjOAcJIz2Dsa/CFtxoNxvGZt4vj01rETiHQZkqX4DZQZJLbJxMCphzv8zRZy8M\n",
       "AnvkKguHsC17xo2Wxcqg4ScmvShXqf6QSX12Nwud4B12iGUNAItR9eGb59ApN2kVwjg+g3M9A+y+\n",
       "msEu17Ate8aNVuL8qxtKLHcYYo1gWNRzX3w/3aJ8xnKV35LWUj9H6pXBJUKGc4UtdhpJZ1IV0mPr\n",
       "tNAzkCj35pawHXvGPWwIQMMH08bj5FYOa81D4Pj7RppbCb3Dxyc/FnjKwi9kG29tiCHW1kU5yDi2\n",
       "R3USnNrruPYyEHZhOEB3s4Tt2DPuYYmbbCabGmYrUzn3vCMFdydhcEhNGeNzFgE3EqImVKZ1f9Mx\n",
       "N3nO6q6Rrju9hBzl5k1jM95OKvaMm6woPRMY6owsQocCmmuVY9L/1A1/lNABG0vYOOToswuWS1fV\n",
       "J3Kcp3cDWHUfsIe50L2UmwYSKX1liOKxHe6ampo94yZrSIoAsNJPSRYMQC4J5CTCGvkaAbraAYxv\n",
       "yOt3qOrxWgfHqz1xwkL6aqhdY8EXDxzW3Cx7YIiCYJE2LqrbFzPMrwy7yhV0AduxZ9xk5YZzyvmo\n",
       "KJGvabXxRD5PxWklIdNGo/F20jqkG1wvWHhfBpq+IRR9Bcy7cTLsIVWtC7Es7U+sERysGDCEHUIz\n",
       "tITt2fuOC6uzNjhcFyl21v8jbqjQcZAjkU0zoVaE0+HjV3RABC9YVC+hso0F5tsRwujdWxRgZ5TE\n",
       "7piTbasvIwMGwOb2HbJnz7gdfmyNNM21JpSTrVCGuPG3lUF1LeS8LhiNCJVDrqhKL1guiYysau2T\n",
       "k731Ecxj5Ix7wd9CkeLU95nmaKBCpodruSEjjt7t7MGPpma8nTQOZytjpyxNyzt6l//eSQW6PYX4\n",
       "oRMQ7gPVGRoiyMeFYnFW8Zo5bpyDeKKTVo4LJ4wP8KpZqqKwdvh91ik5Y0n3ug1Fotmto7JVYxhP\n",
       "t8dPI+R72IK7xCeT6xCVoRbyxStI/0ifxaHvn+v30oFz/gyeHsTpuzPQh8g3a3uEGIyvb5DHq1EF\n",
       "O5MzFjZ6mnxYIN2jmbr7U+RHyBl3iU8n108kxPUSNO1qhUw5+j/Q7D9asPjr7uN/YPwBYpIlW5w3\n",
       "4x4AAAAASUVORK5CYII=\n",
       "\" style=\"display:inline;vertical-align:middle;\" /></a><br>(see <a class=\"ProveItLink\" href=\"../../../__pv_it/theorems/96fdcdc29a4d80504babcee99513c6af1bd6c46f0/dependencies.ipynb\">dependencies</a>)<br>"
      ],
      "text/plain": [
       "<IPython.core.display.HTML object>"
      ]
     },
     "metadata": {},
     "output_type": "display_data"
    }
   ],
   "source": [
    "%proving bounds_for_real_not_in_interval_oo"
   ]
  },
  {
   "cell_type": "code",
   "execution_count": null,
   "metadata": {},
   "outputs": [],
   "source": []
  }
 ],
 "metadata": {
  "kernelspec": {
   "display_name": "Python 3",
   "language": "python",
   "name": "python3"
  }
 },
 "nbformat": 4,
 "nbformat_minor": 0
}