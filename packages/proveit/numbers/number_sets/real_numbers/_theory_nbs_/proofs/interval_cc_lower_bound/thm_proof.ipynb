{
 "cells": [
  {
   "cell_type": "markdown",
   "metadata": {},
   "source": [
    "Proof of <a class=\"ProveItLink\" href=\"../../../../../../_theory_nbs_/theory.ipynb\">proveit</a>.<a class=\"ProveItLink\" href=\"../../../../../_theory_nbs_/theory.ipynb\">numbers</a>.<a class=\"ProveItLink\" href=\"../../../../_theory_nbs_/theory.ipynb\">number_sets</a>.<a class=\"ProveItLink\" href=\"../../theory.ipynb\">real_numbers</a>.<a class=\"ProveItLink\" href=\"../../theorems.ipynb#interval_cc_lower_bound\">interval_cc_lower_bound</a> theorem\n",
    "========"
   ]
  },
  {
   "cell_type": "code",
   "execution_count": 1,
   "metadata": {},
   "outputs": [],
   "source": [
    "import proveit\n",
    "theory = proveit.Theory() # the theorem's theory"
   ]
  },
  {
   "cell_type": "code",
   "execution_count": 2,
   "metadata": {},
   "outputs": [
    {
     "data": {
      "text/html": [
       "With these <a href=\"allowed_presumptions.txt\">allowed</a>/<a href=\"disallowed_presumptions.txt\">disallowed</a> theorem/theory presumptions (e.g., to avoid circular dependencies), we begin our proof of<br><strong id=\"interval_cc_lower_bound\">interval_cc_lower_bound:</strong> <a class=\"ProveItLink\" href=\"../../../__pv_it/theorems/088bb39806b5057c1d34d4f7260da90c752fd9610/expr.ipynb\"><img src=\"data:image/png;base64,iVBORw0KGgoAAAANSUhEUgAAANwAAAAZBAMAAACoUV21AAAAMFBMVEX///8AAAAAAAAAAAAAAAAA\n",
       "AAAAAAAAAAAAAAAAAAAAAAAAAAAAAAAAAAAAAAAAAAAv3aB7AAAAD3RSTlMAq1RmmUTNIjK7EInv\n",
       "3XZ/CtNrAAAACXBIWXMAAA7EAAAOxAGVKw4bAAADMElEQVRIx62WXWjTUBTHT5u0TdM2FgTBDSWg\n",
       "+CJKmDLZHraOzSmIozjxQUWKPvgBSgY+TqggvmyywhCNwoiwlznG6gZOfJCyMVREGTpQlEoK08mG\n",
       "ZS8y8UE896ZLblLWROiBJPfm/JPfvefcLwBv21FUoR4mFd/7kWWgXnagvjjVw1VfnCRv7jtn4pLk\n",
       "scsD50NEbG+tpigUd5iUL3rgfIjQRHcYguwnVyjuJt4jOQ+cDxEarzjr3KLO1A5SXBhfxWQPnA8R\n",
       "WtwVvi+6w6sTHIdNCnsNFR8itD2O2vhXpzes0JH5tlh84zkyvUVox0jIG5cNWhn9YKW03DAwhdFJ\n",
       "UtxRgAeeOLfoNTPDWpKVwgW8zqrRP6T86LydUigZxzGTGYrrg8iGHoTLlcK+px3XWBwrImZVbufs\n",
       "Ci5R4hzwC6QcsHGHoF3fisO0QHFRPZa2XI2EWdLSUgxm8gyOERG3jQvkbdw89mQNEuZ3161gZqGb\n",
       "frdGcUGDGQSv8OrK4qiSoNVgcIyIuG1cPOvAxXMwma4aKu/ILWT2DjJtxNk2Q1rwt6TT6Y+4lRS7\n",
       "iFFR+ciSSt1IEKdXSf6Gyg1sMCcNaK+aCKF1eIwtXjBxUzjfxY/COlF8llJjVBqLjCgsjogkdXtY\n",
       "HqvkbkIdIrif+pKFG0GcDNuCqmOai3cDBcAAczkT149yPiVgXyGqcJleiuMf5hxLNBFxMCJAbwXX\n",
       "BYOkMAzNFu4J/sAILvL2InaJ3H6PFkK4RPB5ExfA8MfTUpJmgk82a5omS1LshANHRAAYAepGwjyU\n",
       "zGR3WLg72JWdz/p+uFbSHmN3Ez4TaXsDmlSjrdjzLRCXB2jvpNAZvWoDEgoRGDB7J67DMCYE1mDW\n",
       "wiWytWbvDWa/i6tDvfo4JPQWHPM0d/A85cb1xzK86UbCS+FXq5iHz5iSDRyXqoXrZHChzv3TMCgL\n",
       "PQZE7mP91Pf8aLcbx397sWK6kXCyaVURZuFWmZkV9+yfTxSJfbJf0A3FuZuba/64pqVr7ObUXSEE\n",
       "nUvMWI3ORVU3LqT7PjxUCKeduIixOW656qzCwf/iFCeuPiexq9XnTI3dEQzf58y5f55C1AIHzO4Y\n",
       "AAAAAElFTkSuQmCC\n",
       "\" style=\"display:inline;vertical-align:middle;\" /></a><br>(see <a class=\"ProveItLink\" href=\"../../../__pv_it/theorems/92e60849c9a7e00cec96b162221e6cd130535dbe0/dependencies.ipynb\">dependencies</a>)<br>"
      ],
      "text/plain": [
       "<IPython.core.display.HTML object>"
      ]
     },
     "metadata": {},
     "output_type": "display_data"
    }
   ],
   "source": [
    "%proving interval_cc_lower_bound"
   ]
  },
  {
   "cell_type": "code",
   "execution_count": null,
   "metadata": {},
   "outputs": [],
   "source": []
  }
 ],
 "metadata": {
  "kernelspec": {
   "display_name": "Python 3",
   "language": "python",
   "name": "python3"
  }
 },
 "nbformat": 4,
 "nbformat_minor": 0
}