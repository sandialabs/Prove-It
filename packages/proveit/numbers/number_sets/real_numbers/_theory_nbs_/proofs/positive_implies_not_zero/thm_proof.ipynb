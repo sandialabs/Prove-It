{
 "cells": [
  {
   "cell_type": "markdown",
   "metadata": {},
   "source": [
    "Proof of <a class=\"ProveItLink\" href=\"../../../../../../_theory_nbs_/theory.ipynb\">proveit</a>.<a class=\"ProveItLink\" href=\"../../../../../_theory_nbs_/theory.ipynb\">numbers</a>.<a class=\"ProveItLink\" href=\"../../../../_theory_nbs_/theory.ipynb\">number_sets</a>.<a class=\"ProveItLink\" href=\"../../theory.ipynb\">real_numbers</a>.<a class=\"ProveItLink\" href=\"../../theorems.ipynb#positive_implies_not_zero\">positive_implies_not_zero</a> theorem\n",
    "========"
   ]
  },
  {
   "cell_type": "code",
   "execution_count": 1,
   "metadata": {},
   "outputs": [],
   "source": [
    "import proveit\n",
    "theory = proveit.Theory() # the theorem's theory"
   ]
  },
  {
   "cell_type": "code",
   "execution_count": 2,
   "metadata": {},
   "outputs": [
    {
     "data": {
      "text/html": [
       "With these <a href=\"allowed_presumptions.txt\">allowed</a>/<a href=\"disallowed_presumptions.txt\">disallowed</a> theorem/theory presumptions (e.g., to avoid circular dependencies), we begin our proof of<br><strong id=\"positive_implies_not_zero\">positive_implies_not_zero:</strong> <a class=\"ProveItLink\" href=\"../../../__pv_it/theorems/c3b8b37055c35b06485ed04b9ea0aa9c7292ce3b0/expr.ipynb\"><img src=\"data:image/png;base64,iVBORw0KGgoAAAANSUhEUgAAAKUAAAAXCAMAAABd93+WAAAAPFBMVEX///8AAAAAAAAAAAAAAAAA\n",
       "AAAAAAAAAAAAAAAAAAAAAAAAAAAAAAAAAAAAAAAAAAAAAAAAAAAAAAAAAAAo1xBWAAAAE3RSTlMA\n",
       "q1RmmUTNIjK7EInv3Xbn9enzK1aD6QAAAAlwSFlzAAAOxAAADsQBlSsOGwAAAnxJREFUSMfFV4uS\n",
       "pCAMlDckkHv4//96EEDRYXV3ttxjqpzyEel0Jz2ZZfnB5X4o5luL5PV9DZOLhspRbOdSPQtS4vV9\n",
       "H8YzRNLMIxVY2vTr9llywd48EPxwYjPvkBiRzRT7TqYLz1Kpb6TyYjhRiflkSEo3qHxJPosy3lE5\n",
       "ShkYslwZW8xH1XK0D1flzfvNSOWyaqZ3ZeZsQRhTWREfFnx7vxNIjs73D10BHSUziCUBzVUb4PMb\n",
       "voPS9rI0MeMJa99OM0fp1+9y3HpkxYqSk1GWc+uHqVIJrRZ2zP2+zbKNnKVJrewhsrOkKyp3lPwl\n",
       "Y6cRzUvPkQghX6UlP4oOr1HCKIXKOZnTU7FtoFfGfErCHPWBCs9ULj2HSJr0jtbNvih/FgV0jdIF\n",
       "vbMRS+jqpihjYBTmisrePbJ2j4mtvVUDAagIXXf8HSWBnqPcArLfCdf1KsRGOVMcmB617myUevzz\n",
       "t1bnVnahOmWtXpmaVTbTLG7vCwmwIymKu0BqinILYHRa+KpQeVs6unighrKgFXaRI3v23LqK6dNV\n",
       "YVU3dFF0mfMe5QGjBpQ64EHkMNZFC2igdankijIezQbFjlYmfTAK+eoahXqI/mBiwu/FQ4KbP/CS\n",
       "VXE0co5yC9hJcE3x9ai4b10NgtA7Qf6KypIvUkeVzKm1ipWp3K8el7EujUGYodwDGilV11n3LMm/\n",
       "OSy5s2vFUmVGwWjy1Yk+6J49gAVodUJ0/sXrQ8Pc8OFrY4rRShIqdpaWurFkMQug7QzlHrBQkIfh\n",
       "EC7HiRH+DZVXPyKApS7NdHqZjrC3IxV8sF2Cz89KX1jvDqKvI0ZN8PpvyLuz+cPj8n/8K/i99Q92\n",
       "NRQrgnuMpwAAAABJRU5ErkJggg==\n",
       "\" style=\"display:inline;vertical-align:middle;\" /></a><br>(see <a class=\"ProveItLink\" href=\"../../../__pv_it/theorems/d6c113dbe9cc768ca29e139492cd41d6ad67b2d70/dependencies.ipynb\">dependencies</a>)<br>"
      ],
      "text/plain": [
       "<IPython.core.display.HTML object>"
      ]
     },
     "metadata": {},
     "output_type": "display_data"
    }
   ],
   "source": [
    "%proving positive_implies_not_zero"
   ]
  },
  {
   "cell_type": "code",
   "execution_count": null,
   "metadata": {},
   "outputs": [],
   "source": []
  }
 ],
 "metadata": {
  "kernelspec": {
   "display_name": "Python 3",
   "language": "python",
   "name": "python3"
  }
 },
 "nbformat": 4,
 "nbformat_minor": 0
}