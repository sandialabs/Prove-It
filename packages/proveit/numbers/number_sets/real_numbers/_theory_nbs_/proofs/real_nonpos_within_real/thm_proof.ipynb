{
 "cells": [
  {
   "cell_type": "markdown",
   "metadata": {},
   "source": [
    "Proof of <a class=\"ProveItLink\" href=\"../../../../../../_theory_nbs_/theory.ipynb\">proveit</a>.<a class=\"ProveItLink\" href=\"../../../../../_theory_nbs_/theory.ipynb\">numbers</a>.<a class=\"ProveItLink\" href=\"../../../../_theory_nbs_/theory.ipynb\">number_sets</a>.<a class=\"ProveItLink\" href=\"../../theory.ipynb\">real_numbers</a>.<a class=\"ProveItLink\" href=\"../../theorems.ipynb#real_nonpos_within_real\">real_nonpos_within_real</a> theorem\n",
    "========"
   ]
  },
  {
   "cell_type": "code",
   "execution_count": 1,
   "metadata": {},
   "outputs": [],
   "source": [
    "import proveit\n",
    "theory = proveit.Theory() # the theorem's theory"
   ]
  },
  {
   "cell_type": "code",
   "execution_count": 2,
   "metadata": {},
   "outputs": [
    {
     "data": {
      "text/html": [
       "With these <a href=\"allowed_presumptions.txt\">allowed</a>/<a href=\"disallowed_presumptions.txt\">disallowed</a> theorem/theory presumptions (e.g., to avoid circular dependencies), we begin our proof of<br><strong id=\"real_nonpos_within_real\">real_nonpos_within_real:</strong> <a class=\"ProveItLink\" href=\"../../../__pv_it/theorems/29fe85b2e92519716ea5a6725a35908b7801bc710/expr.ipynb\"><img src=\"data:image/png;base64,iVBORw0KGgoAAAANSUhEUgAAAFAAAAAUBAMAAADo9qfkAAAAMFBMVEX///8AAAAAAAAAAAAAAAAA\n",
       "AAAAAAAAAAAAAAAAAAAAAAAAAAAAAAAAAAAAAAAAAAAv3aB7AAAAD3RSTlMAZs3vu90iq0QQiTKZ\n",
       "VHZ+Ip2vAAAACXBIWXMAAA7EAAAOxAGVKw4bAAABR0lEQVQoz2NgQAJXEhhWvWIgDK48YGB8wOFA\n",
       "UJ2IAAMD8waGb4TUPbkAJPInMNjikBcy8Vc1AZq1GaSOYf8EhkBUeUZll0/BjiCWQzpDu8gEBl6v\n",
       "CRCFdmgmsbAVcBR6ghRmMbBwFzAwcIBUAq3+i6FwAYPDdohCngQFIIO7JgGbZ0AKjzHBFILDhK18\n",
       "At8DjgKo30JDQ6PhClkgCtlnQmTZGBhWvZkAZm5ahmxi5XSIwi2XEtDs4wxDtprbVw2kMFn160v0\n",
       "QGNvQFJoFB83AWyi4CQgtcUFCOAGMyF7ZqGkAjgcs1gmCqCbuB3F156CEIXcBzzRFaajKNzDArGa\n",
       "4XQKukJWFIU82xwgCqfwodvNI4CskNPhIUhhDgOjgAe6kRpICg8wCLI0gFKPG4OL/gU0hVMqJsBT\n",
       "z5cEFqe/OJNnlys0CqEAAEvyVYPFtqUDAAAAAElFTkSuQmCC\n",
       "\" style=\"display:inline;vertical-align:middle;\" /></a><br>(see <a class=\"ProveItLink\" href=\"../../../__pv_it/theorems/cc0243b2c5d9ccee9195b40724696e6beb7dad3f0/dependencies.ipynb\">dependencies</a>)<br>"
      ],
      "text/plain": [
       "<IPython.core.display.HTML object>"
      ]
     },
     "metadata": {},
     "output_type": "display_data"
    }
   ],
   "source": [
    "%proving real_nonpos_within_real"
   ]
  },
  {
   "cell_type": "code",
   "execution_count": null,
   "metadata": {},
   "outputs": [],
   "source": []
  }
 ],
 "metadata": {
  "kernelspec": {
   "display_name": "Python 3",
   "language": "python",
   "name": "python3"
  }
 },
 "nbformat": 4,
 "nbformat_minor": 0
}