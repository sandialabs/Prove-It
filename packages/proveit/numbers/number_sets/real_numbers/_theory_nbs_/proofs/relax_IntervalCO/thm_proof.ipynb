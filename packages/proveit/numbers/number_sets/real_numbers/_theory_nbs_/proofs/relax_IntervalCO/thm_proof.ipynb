{
 "cells": [
  {
   "cell_type": "markdown",
   "metadata": {},
   "source": [
    "Proof of <a class=\"ProveItLink\" href=\"../../../../../../_theory_nbs_/theory.ipynb\">proveit</a>.<a class=\"ProveItLink\" href=\"../../../../../_theory_nbs_/theory.ipynb\">numbers</a>.<a class=\"ProveItLink\" href=\"../../../../_theory_nbs_/theory.ipynb\">number_sets</a>.<a class=\"ProveItLink\" href=\"../../theory.ipynb\">real_numbers</a>.<a class=\"ProveItLink\" href=\"../../theorems.ipynb#relax_IntervalCO\">relax_IntervalCO</a> theorem\n",
    "========"
   ]
  },
  {
   "cell_type": "code",
   "execution_count": 1,
   "metadata": {},
   "outputs": [],
   "source": [
    "import proveit\n",
    "theory = proveit.Theory() # the theorem's theory"
   ]
  },
  {
   "cell_type": "code",
   "execution_count": 2,
   "metadata": {},
   "outputs": [
    {
     "data": {
      "text/html": [
       "With these <a href=\"allowed_presumptions.txt\">allowed</a>/<a href=\"disallowed_presumptions.txt\">disallowed</a> theorem/theory presumptions (e.g., to avoid circular dependencies), we begin our proof of<br><strong id=\"relax_IntervalCO\">relax_IntervalCO:</strong> <a class=\"ProveItLink\" href=\"../../../__pv_it/theorems/d786628b7ab890b74dea0a4de1bf505b88418ae90/expr.ipynb\"><img src=\"data:image/png;base64,iVBORw0KGgoAAAANSUhEUgAAAPoAAAAZBAMAAADqEi4iAAAAMFBMVEX///8AAAAAAAAAAAAAAAAA\n",
       "AAAAAAAAAAAAAAAAAAAAAAAAAAAAAAAAAAAAAAAAAAAv3aB7AAAAD3RSTlMAq1RmmUTNIjK7EInv\n",
       "3XZ/CtNrAAAACXBIWXMAAA7EAAAOxAGVKw4bAAAD3ElEQVRIx7WWTWgTQRTH3252k91Nsg0KohYl\n",
       "oHgQlKVKxR40Ur8u1qDiwYqtXkTBsr0IBS0RxIvFBkV06wdzEEGLJCh+ghAVURAliPhRDGxVrCiG\n",
       "XrTSg/hmJslOktKtYhe6uzOZ7m/e//1n3gD4X/MKNkzDZRZeTmVYJ0zTtew/00MTdX5/Wxt0Cuzp\n",
       "oH+YqPNmbUc4Cbs4PUYfC3zoEn3Ili9czvrRjfN5RjctRl9H+/b60JUkPoL+3rsMvrEHE4wO+xn9\n",
       "CM1W2oeuUYV6/IVv9ac3xDl9OaMHCbbifnmnM73uT89VmetC4XU9vYNweoRQegATEPR13bIpmU8W\n",
       "h6hdZKLY73PXQdBiX31eKDzzpUcKhfdZX7qCQ4zi3ONMpYNEUD7UOOLyxu7iDEYPxxh9I8CAL11J\n",
       "gU6ErsgZQWHPURiPAsPupmonI32nrY9zz/8kGZvSA1zRbgjFyuO0faWXJbfWdIl0HNItTkgqvxxD\n",
       "wybKjSj6ZwWsJjOrd4mbYDwCJc+TMw4Rl9LlHKPrhDZKVyOdwrCTNMNwOyvuNgNe9k7MOe3RJRzV\n",
       "XlEEP5SC9TwQzGjhXYmujEKUf07phIYsBWqjjC67gume4t/aFKppQosr0pdWYlE2irFHcHCQCHSA\n",
       "F1zitBB7JA0ZHiJOoiNO6Wqu5OVVeBtcdZtO+PcwYbsQ0r8mRHowgJMxP/VugI9ceePGN7r79Bfn\n",
       "eguWKg/qGFyljbxAz7iwurLcNzOx5TynX8fFbLzRxih0yExcYU4Khy5aIj28CAMckdJ7eEwSXLP7\n",
       "Kf07+QRyeZ66C8ZpKQdM5KJIj8Ms2TYoPYUeYK5Lc/ohNJ2S0OhOoVuBzq2MrpxLV1WZ0AO8Wbqb\n",
       "Ui1OXwt99OUUNINaHoqrSP51KacyLYJxj6678isFMvghydITjE5XJ6VLKZoxM8ayqMSaHceJm2Z4\n",
       "S3WNm810syGwz3FOIv0xDHOjrAGtTNfyYLS5C5t44ufs8Dw//073F4gOYW9jK99tokmvwmZsvQWl\n",
       "bYBI/DiL3VTbSX2F7QNbY7JKxhicoukdhYee8lBVyNW7tTvtYq/CwmGhvkfs/q1kEKJkJd9VcMXd\n",
       "S9TSQ7lbuLYHuPJPtB8tRhaGMH9mZXUsn7zKZAV6q0BXW5fegL641uZC6Cy2t3/OXlpfF3tbe5FA\n",
       "T4rRtzV9s7SHcBTNpVdKr25PRjdcj87KavXZhvtk0HGSk5xtjLtOZbeR2f2K91t6MropnG3YPKvo\n",
       "KpnyyapE577a4PX3TvT/92vPde+TMFJ3rgvA39LZ6gskp/VMe6D+PK8LNc745/P8oz9WtP+zw/6Y\n",
       "/QAAAABJRU5ErkJggg==\n",
       "\" style=\"display:inline;vertical-align:middle;\" /></a><br>(see <a class=\"ProveItLink\" href=\"../../../__pv_it/theorems/5c7ccb435b65405272192e72320491a68a3eddf30/dependencies.ipynb\">dependencies</a>)<br>"
      ],
      "text/plain": [
       "<IPython.core.display.HTML object>"
      ]
     },
     "metadata": {},
     "output_type": "display_data"
    }
   ],
   "source": [
    "%proving relax_IntervalCO"
   ]
  },
  {
   "cell_type": "code",
   "execution_count": null,
   "metadata": {},
   "outputs": [],
   "source": []
  }
 ],
 "metadata": {
  "kernelspec": {
   "display_name": "Python 3",
   "language": "python",
   "name": "python3"
  }
 },
 "nbformat": 4,
 "nbformat_minor": 0
}