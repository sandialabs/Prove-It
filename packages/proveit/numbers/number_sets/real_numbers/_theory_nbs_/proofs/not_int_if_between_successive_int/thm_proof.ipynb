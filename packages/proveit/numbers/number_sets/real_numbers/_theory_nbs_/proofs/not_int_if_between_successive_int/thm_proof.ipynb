{
 "cells": [
  {
   "cell_type": "markdown",
   "metadata": {},
   "source": [
    "Proof of <a class=\"ProveItLink\" href=\"../../../../../../_theory_nbs_/theory.ipynb\">proveit</a>.<a class=\"ProveItLink\" href=\"../../../../../_theory_nbs_/theory.ipynb\">numbers</a>.<a class=\"ProveItLink\" href=\"../../../../_theory_nbs_/theory.ipynb\">number_sets</a>.<a class=\"ProveItLink\" href=\"../../theory.ipynb\">real_numbers</a>.<a class=\"ProveItLink\" href=\"../../theorems.ipynb#not_int_if_between_successive_int\">not_int_if_between_successive_int</a> theorem\n",
    "========"
   ]
  },
  {
   "cell_type": "code",
   "execution_count": 1,
   "metadata": {},
   "outputs": [],
   "source": [
    "import proveit\n",
    "theory = proveit.Theory() # the theorem's theory"
   ]
  },
  {
   "cell_type": "code",
   "execution_count": 2,
   "metadata": {},
   "outputs": [
    {
     "data": {
      "text/html": [
       "With these <a href=\"allowed_presumptions.txt\">allowed</a>/<a href=\"disallowed_presumptions.txt\">disallowed</a> theorem/theory presumptions (e.g., to avoid circular dependencies), we begin our proof of<br><strong id=\"not_int_if_between_successive_int\">not_int_if_between_successive_int:</strong> <a class=\"ProveItLink\" href=\"../../../__pv_it/theorems/a33745e5fbf513df4067c987420667b91c789d4b0/expr.ipynb\"><img src=\"data:image/png;base64,iVBORw0KGgoAAAANSUhEUgAAAO4AAAAZCAMAAAABp+KxAAAARVBMVEX///8AAAAAAAAAAAAAAAAA\n",
       "AAAAAAAAAAAAAAAAAAAAAAAAAAAAAAAAAAAAAAAAAAAAAAAAAAAAAAAAAAAAAAAAAAAAAAAeYafp\n",
       "AAAAFnRSTlMAq1RmmUTNIjK7EInv3Xbp8+P355HBoPSVsQAAAAlwSFlzAAAOxAAADsQBlSsOGwAA\n",
       "A2dJREFUWMPVWAeu3CAQpZo+6b7/UTMUY3A3Ub60yFqty4N5TIeQ4UFDCIp8zAAUl/0DfiKfNjj/\n",
       "KLpq6K36ULpwbYuTXf6xyc9+MiEYjwQlNHRp/ZzxAbrj8NeDucvXehUFDNVZwCQj8JWukFV8NUB3\n",
       "HP522BtrWiUhQhSWjnV6R7p1U5QZMeZx+NshbqwnNDkj7rw18co0xeq7C3XHhnx3GP52+AunRjf9\n",
       "9n3VfhJJaJJMOmFtpbuEq2ksVA3D33ru6QJyAmRTqa2urEUVla+y+hCHd4OReRT+1pbLAhaAWu1W\n",
       "Y1LJvnaebWy8ynB0pSt0eT1G9x7O3gYxOFqtWBFqDCgQEfoQyWEXxptHvLFERZefk2LRGyfwOqF7\n",
       "BydcPo++RS5xEImyOjmS47MllB+HkOZpo2/mG8eLmnF7mTRQY/BxLIydBXtWZhzDFzSx9N5QKway\n",
       "0uTeNXxeIZqSaA1XJ2f68RNrir4iySJlqfXc0GVwFGmEKM6P32im+GlVdQiv6DYfno1VUBbIobIq\n",
       "3fS3NdycbDZ5AR+WxJhyEpGtdlHYYudccNxh0ZUiefvFRRFZ4QSxCq8OHTYTH9zu6e7T2trNyBkX\n",
       "sLabP2z8Txeedm6nLXQdy7tpuYxFplekZujiMExf0F3gBBShhkysRaupn5jsbw/ost32GshqkxhL\n",
       "4pqr3eIL2X+OGag8oYWnaekqn/1LWYjCYSQgslGuBeKuWoQFHs0epdIdWpp+YrK/PaArdzVaziVs\n",
       "1lYgXdloH7d3k3QxmiQFKMNMm8WWGqF+TqEYOp9MGiztpLOt+ew6oma1OaeFFc1oP/FmHRE/8/GH\n",
       "t3T1jq5Ob6xAZTLBW1u31PzqZJPeTHFKbItM5hnkcQPodSqwNdGrPiXT8TNnHzSA2qf+skEXwevE\n",
       "5OD2iTGToE9D3e8/WEWG87pOheN+V81p3uipTUmS4pQMt/2u8sRNOa00VUfoJ7auX+eYLuwrDS4e\n",
       "dLrX3cWWroyWBy4VH2bJQ5RScGai9+29AOkAbItGLqqbWHvWrdPSVW6aHVTQNlidHlfcNGP1/dVp\n",
       "hnXRo+TgacaK3pUM7CLvdsn0ycMnzVjdpy85vBG9VqQ9rarOIIuW4KTKvanA1deeVfVB7sGSL6rs\n",
       "LzyJfHzO/LbZsv+DK2CXyv8CArobBe+D5RcAAAAASUVORK5CYII=\n",
       "\" style=\"display:inline;vertical-align:middle;\" /></a><br>(see <a class=\"ProveItLink\" href=\"../../../__pv_it/theorems/7cc72631303586694e0b8fa19d097d8c3f3e59900/dependencies.ipynb\">dependencies</a>)<br>"
      ],
      "text/plain": [
       "<IPython.core.display.HTML object>"
      ]
     },
     "metadata": {},
     "output_type": "display_data"
    }
   ],
   "source": [
    "%proving not_int_if_between_successive_int"
   ]
  },
  {
   "cell_type": "code",
   "execution_count": null,
   "metadata": {},
   "outputs": [],
   "source": []
  }
 ],
 "metadata": {
  "kernelspec": {
   "display_name": "Python 3",
   "language": "python",
   "name": "python3"
  }
 },
 "nbformat": 4,
 "nbformat_minor": 0
}