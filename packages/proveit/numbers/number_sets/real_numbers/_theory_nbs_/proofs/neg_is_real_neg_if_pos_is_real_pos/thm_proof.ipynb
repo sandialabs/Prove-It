{
 "cells": [
  {
   "cell_type": "markdown",
   "metadata": {},
   "source": [
    "Proof of <a class=\"ProveItLink\" href=\"../../../../../../_theory_nbs_/theory.ipynb\">proveit</a>.<a class=\"ProveItLink\" href=\"../../../../../_theory_nbs_/theory.ipynb\">numbers</a>.<a class=\"ProveItLink\" href=\"../../../../_theory_nbs_/theory.ipynb\">number_sets</a>.<a class=\"ProveItLink\" href=\"../../theory.ipynb\">real_numbers</a>.<a class=\"ProveItLink\" href=\"../../theorems.ipynb#neg_is_real_neg_if_pos_is_real_pos\">neg_is_real_neg_if_pos_is_real_pos</a> theorem\n",
    "========"
   ]
  },
  {
   "cell_type": "code",
   "execution_count": 1,
   "metadata": {},
   "outputs": [],
   "source": [
    "import proveit\n",
    "theory = proveit.Theory() # the theorem's theory"
   ]
  },
  {
   "cell_type": "code",
   "execution_count": 2,
   "metadata": {},
   "outputs": [
    {
     "data": {
      "text/html": [
       "With these <a href=\"allowed_presumptions.txt\">allowed</a>/<a href=\"disallowed_presumptions.txt\">disallowed</a> theorem/theory presumptions (e.g., to avoid circular dependencies), we begin our proof of<br><strong id=\"neg_is_real_neg_if_pos_is_real_pos\">neg_is_real_neg_if_pos_is_real_pos:</strong> <a class=\"ProveItLink\" href=\"../../../__pv_it/theorems/7c579d87a222215c3b908986bc3506abb05903600/expr.ipynb\"><img src=\"data:image/png;base64,iVBORw0KGgoAAAANSUhEUgAAALMAAAAZBAMAAACIvQJIAAAAMFBMVEX///8AAAAAAAAAAAAAAAAA\n",
       "AAAAAAAAAAAAAAAAAAAAAAAAAAAAAAAAAAAAAAAAAAAv3aB7AAAAD3RSTlMAq1RmmUTNIjK7EInv\n",
       "3XZ/CtNrAAAACXBIWXMAAA7EAAAOxAGVKw4bAAACwklEQVRIx2NgIAKYMpAKWIhUx+RAstHsE4hT\n",
       "twysGE0vAT12xBk9GUQ8QhVjfYDKZ86Z+e3OZASfdwEDgwCIoYzXcwdAgbIBTfQxGp+TXYBVeBac\n",
       "ywc01xXESMcbJRtggYIM2BagG72BYUIjA8dMIJjOwMD1i4GhkWCg8wcACWd0UWYHTKPd2RD8ZIjt\n",
       "3Ar4jO4Hue8AhvApqM/n3r0GN5oTIe0JtN0AaDzeWHwLCuoEDOFkSHTmLUC4WmohQvoNEJ+9e/c0\n",
       "XqPFYOENA4X76oDkRjC7bAEiQDgmIcVZPFDCg4FhFqZ53AjmTFCkGSClu+MM84H6zBhQEgAn+7H7\n",
       "95Citr8B6AYGdgG8OTURlEyRYmONAYMvkNIBcxIQRm+2Qg61emDkcy7gDkAS0t3mmIdq9BUg5gEq\n",
       "WXYXBG4w+DMw3AY5CyTHAQzOuzehATLLGMmc9UAdTA/gscjxcGYAHzfD9g0YruZBsv0kA9dXIBUD\n",
       "YnNNQEp8LZxIAVLfAPITPL+7ALl8fAxWD7hdfF1ccQQI1z8G5g8g74F5F5CMZmlHyh/9BUBiUxaQ\n",
       "WG23nYEPFFdAo185oLhaEqQRUWRwfWJgTFBnYLAE894hGc014TFqCmGoAcYi13WO7wwrwVmAm32e\n",
       "AYrRoBTKjRTT8xh0HYCWe0PyuwLcaAcGY05EuNmACEZgMLA4cBxgCAYbzTJ7Amo0guznuIDgL3zd\n",
       "LgfUchXiB8koWMn3s4Bz2ie4KkcYgycAWFSZAUsWBT4+7iDUdA2OwhsY5SHUMtadkIyOPbOCkkoB\n",
       "p9WCbrCr+VijF2CWfCYYCd8AbxYGlXxQlxX0By8Apx1g4tuFWqhxgIomzgI0vZX4qw9meOSwOutt\n",
       "ZmCfAWSFPduwxA1VmRBKAoaC6fiN5kVzyuqZMwNw1Y11qGJ8BVSpGzEqL+rV6OS0Q4DRBgBHbaON\n",
       "pTnEKwAAAABJRU5ErkJggg==\n",
       "\" style=\"display:inline;vertical-align:middle;\" /></a><br>(see <a class=\"ProveItLink\" href=\"../../../__pv_it/theorems/31a672817c63c53788ad55359bdaf7702b29a2c90/dependencies.ipynb\">dependencies</a>)<br>"
      ],
      "text/plain": [
       "<IPython.core.display.HTML object>"
      ]
     },
     "metadata": {},
     "output_type": "display_data"
    },
    {
     "name": "stdout",
     "output_type": "stream",
     "text": [
      "neg_is_real_neg_if_pos_is_real_pos may now be readily provable (assuming required theorems are usable).  Simply execute \"%qed\".\n"
     ]
    }
   ],
   "source": [
    "%proving neg_is_real_neg_if_pos_is_real_pos"
   ]
  },
  {
   "cell_type": "code",
   "execution_count": null,
   "metadata": {},
   "outputs": [],
   "source": []
  }
 ],
 "metadata": {
  "kernelspec": {
   "display_name": "Python 3",
   "language": "python",
   "name": "python3"
  }
 },
 "nbformat": 4,
 "nbformat_minor": 0
}