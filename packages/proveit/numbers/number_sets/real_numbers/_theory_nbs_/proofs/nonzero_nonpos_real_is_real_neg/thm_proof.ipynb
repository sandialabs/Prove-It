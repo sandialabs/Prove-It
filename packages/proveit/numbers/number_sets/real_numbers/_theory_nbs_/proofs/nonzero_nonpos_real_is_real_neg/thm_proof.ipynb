{
 "cells": [
  {
   "cell_type": "markdown",
   "metadata": {},
   "source": [
    "Proof of <a class=\"ProveItLink\" href=\"../../../../../../_theory_nbs_/theory.ipynb\">proveit</a>.<a class=\"ProveItLink\" href=\"../../../../../_theory_nbs_/theory.ipynb\">numbers</a>.<a class=\"ProveItLink\" href=\"../../../../_theory_nbs_/theory.ipynb\">number_sets</a>.<a class=\"ProveItLink\" href=\"../../theory.ipynb\">real_numbers</a>.<a class=\"ProveItLink\" href=\"../../theorems.ipynb#nonzero_nonpos_real_is_real_neg\">nonzero_nonpos_real_is_real_neg</a> theorem\n",
    "========"
   ]
  },
  {
   "cell_type": "code",
   "execution_count": 1,
   "metadata": {},
   "outputs": [],
   "source": [
    "import proveit\n",
    "theory = proveit.Theory() # the theorem's theory"
   ]
  },
  {
   "cell_type": "code",
   "execution_count": 2,
   "metadata": {},
   "outputs": [
    {
     "data": {
      "text/html": [
       "With these <a href=\"allowed_presumptions.txt\">allowed</a>/<a href=\"disallowed_presumptions.txt\">disallowed</a> theorem/theory presumptions (e.g., to avoid circular dependencies), we begin our proof of<br><strong id=\"nonzero_nonpos_real_is_real_neg\">nonzero_nonpos_real_is_real_neg:</strong> <a class=\"ProveItLink\" href=\"../../../__pv_it/theorems/7f85ac895686a44aa2f2cf2acfd0fdc15604343f0/expr.ipynb\"><img src=\"data:image/png;base64,iVBORw0KGgoAAAANSUhEUgAAAMsAAAAaCAMAAAAuR1iLAAAAOVBMVEX///8AAAAAAAAAAAAAAAAA\n",
       "AAAAAAAAAAAAAAAAAAAAAAAAAAAAAAAAAAAAAAAAAAAAAAAAAAAAAAACXHtMAAAAEnRSTlMAq1Rm\n",
       "mUTNIjK7EInv3Xbt5cmRiLwgAAAACXBIWXMAAA7EAAAOxAGVKw4bAAAC4UlEQVRYw81Yi3LjIAw0\n",
       "iJcE6O78/x97CGyH1NA4M560zNSdlliwaFdasiw/PMDeEMQsv2HoW7bh8RdAIXdTdvnnsSBc3axL\n",
       "iKvLafJGpvJQj3TDx6H49AbsxZe9WgVIg1kWHObQnvMfx2LiW1hi/RVk2wH30XZNa0EY1A/qZ7Vv\n",
       "YzF+GWrMCavclrKoPw4lrDSfZMxluAGW4aEb+S9sMnGfTwvn6ZR1TMO8KCI1jFWllwR/TvHzWNRx\n",
       "fl5F9l1d9Y7GHAuox7q2Nccm1I/S9aZwW0Xe2WJT2R92jBvst2BJLq+ZacLXUM9kf1yr9Kq85Fmz\n",
       "v2oiptjdtigl4bnpGOfG2geYNlff6oikJM4qis7RGeW2/FNsWRQKuKeF5qOFjpFPLM7bEZi1/vWY\n",
       "D433ZeAzx5Bg0gWpYdE8OojACrHM81LWiFV33sStmovQEl3C0jIuJsPiJC8JH5tp8XFSk4OZicFX\n",
       "jgmQs58xLQGCpcwBlYfP+2pe6JDDJSyqwk/y4dUPsdAqq8PaZ2zWX0yY9MGwBY96LxsUgevZ85HK\n",
       "ioXJNK3YLi9+jOWI0WQd26nJAulLC1O4YdGtqOnjLeYJlpIxhnkdE1u0izD7BrBLsnDM4x5AK9i1\n",
       "OdHLEcNUi/Gn/MDWFTOMekJ5m0WXpq8gTg+wmNYOcaRt2K2dCjuxRHeCEjosBmO31yAOrtQx8GMs\n",
       "R4z2NnQdPvH4LElxDF5xR1pSaOnkk8V8Ibp1YFHM10Kc7OY4wTXjphvHotWvzNI5Ri/ixrHTHtI3\n",
       "fsxGfPIwL4aDr3VNcAPREuLS68XaSFLG2rDfYXnEEI79/YeVY2Ptv+WTX/Tvk7VLQnUL1NuAVpPJ\n",
       "XM7LEaMz4VXM9tSPQ7oLC5xiWwOaI9QbQDhMnosLGeMuYnnEeDJGpVeac2dQd5nz/N3li6Kw4+r9\n",
       "Ylzz9ctb+G+874+xXNiovkUxt94jh7H0laze8/0Y3Yjl818VDMZ/gE0YHlJYCH0AAAAASUVORK5C\n",
       "YII=\n",
       "\" style=\"display:inline;vertical-align:middle;\" /></a><br>(see <a class=\"ProveItLink\" href=\"../../../__pv_it/theorems/d84d7d3a35ae537e57a687475d49e13e5d4fac450/dependencies.ipynb\">dependencies</a>)<br>"
      ],
      "text/plain": [
       "<IPython.core.display.HTML object>"
      ]
     },
     "metadata": {},
     "output_type": "display_data"
    },
    {
     "name": "stdout",
     "output_type": "stream",
     "text": [
      "nonzero_nonpos_real_is_real_neg may now be readily provable (assuming required theorems are usable).  Simply execute \"%qed\".\n"
     ]
    }
   ],
   "source": [
    "%proving nonzero_nonpos_real_is_real_neg"
   ]
  },
  {
   "cell_type": "code",
   "execution_count": null,
   "metadata": {},
   "outputs": [],
   "source": []
  }
 ],
 "metadata": {
  "kernelspec": {
   "display_name": "Python 3",
   "language": "python",
   "name": "python3"
  }
 },
 "nbformat": 4,
 "nbformat_minor": 0
}