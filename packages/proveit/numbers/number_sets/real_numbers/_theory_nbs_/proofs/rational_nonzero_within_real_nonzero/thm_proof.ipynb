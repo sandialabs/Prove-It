{
 "cells": [
  {
   "cell_type": "markdown",
   "metadata": {},
   "source": [
    "Proof of <a class=\"ProveItLink\" href=\"../../../../../../_theory_nbs_/theory.ipynb\">proveit</a>.<a class=\"ProveItLink\" href=\"../../../../../_theory_nbs_/theory.ipynb\">numbers</a>.<a class=\"ProveItLink\" href=\"../../../../_theory_nbs_/theory.ipynb\">number_sets</a>.<a class=\"ProveItLink\" href=\"../../theory.ipynb\">real_numbers</a>.<a class=\"ProveItLink\" href=\"../../theorems.ipynb#rational_nonzero_within_real_nonzero\">rational_nonzero_within_real_nonzero</a> theorem\n",
    "========"
   ]
  },
  {
   "cell_type": "code",
   "execution_count": 1,
   "metadata": {},
   "outputs": [],
   "source": [
    "import proveit\n",
    "theory = proveit.Theory() # the theorem's theory"
   ]
  },
  {
   "cell_type": "code",
   "execution_count": 2,
   "metadata": {},
   "outputs": [
    {
     "data": {
      "text/html": [
       "With these <a href=\"allowed_presumptions.txt\">allowed</a>/<a href=\"disallowed_presumptions.txt\">disallowed</a> theorem/theory presumptions (e.g., to avoid circular dependencies), we begin our proof of<br><strong id=\"rational_nonzero_within_real_nonzero\">rational_nonzero_within_real_nonzero:</strong> <a class=\"ProveItLink\" href=\"../../../__pv_it/theorems/bb284ca01b44c7663f418b54954256ec3636dfce0/expr.ipynb\"><img src=\"data:image/png;base64,iVBORw0KGgoAAAANSUhEUgAAAGYAAAAXCAMAAADOf8o0AAAAOVBMVEX///8AAAAAAAAAAAAAAAAA\n",
       "AAAAAAAAAAAAAAAAAAAAAAAAAAAAAAAAAAAAAAAAAAAAAAAAAAAAAAACXHtMAAAAEnRSTlMAEIm7\n",
       "mSJ2q+8y3WZEzVTt5cnMFh2FAAAACXBIWXMAAA7EAAAOxAGVKw4bAAABjklEQVRIx7VVB3LEIAwE\n",
       "RLEAkYT/PzY021cAEyfRzGHPGXZVF8aGxtkvbQlA+LIKLW6yLAEok1enGfNwi2UNwKi8bpiWqO7Q\n",
       "LAH4EqmKOb9buMHSAeACksnKKfM7fKSfY1h2WTcFdLQBRLIbuCmANjk0Zc1ZK11P1F2bvvAcSiG8\n",
       "ccDHAMKJ8p+XR614e6kxx3BNI8oDzRAABaN9d+6LHPPnF5SYF1ug0aSsExsBAOfNB4GN8HCK6dyP\n",
       "5glTg62GHZoWxDtACg9b7kNgspw9U5ynSz5OM5JQo2jM4fA7QMqZb52Uni6XIYxLzq0aJg0hUP3a\n",
       "AfC6YmdPNQuZkSYz5we12chGq1sQHYDkRzij0Qkm+DENDVvAOb5/7AI812auqmjGnQbczcYYuHrt\n",
       "tAs57NOgfKx8T3zOubkaRDuZG4lqpuVyVwFzLfnSjWnSaOhZ2sSuafJaeKlfXpWPptqAn6VcRqIo\n",
       "ceXiBeN5T6EhCwrQXP8MFj1bu0jgVWx+cNfpdB8E9OyfLRig/WL6e/sGyfwNJP1udLkAAAAASUVO\n",
       "RK5CYII=\n",
       "\" style=\"display:inline;vertical-align:middle;\" /></a><br>(see <a class=\"ProveItLink\" href=\"../../../__pv_it/theorems/251e31d499cf09369a327520083767933da61bc00/dependencies.ipynb\">dependencies</a>)<br>"
      ],
      "text/plain": [
       "<IPython.core.display.HTML object>"
      ]
     },
     "metadata": {},
     "output_type": "display_data"
    }
   ],
   "source": [
    "%proving rational_nonzero_within_real_nonzero"
   ]
  },
  {
   "cell_type": "code",
   "execution_count": null,
   "metadata": {},
   "outputs": [],
   "source": []
  }
 ],
 "metadata": {
  "kernelspec": {
   "display_name": "Python 3",
   "language": "python",
   "name": "python3"
  }
 },
 "nbformat": 4,
 "nbformat_minor": 0
}