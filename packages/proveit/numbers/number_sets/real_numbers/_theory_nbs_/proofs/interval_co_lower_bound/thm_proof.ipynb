{
 "cells": [
  {
   "cell_type": "markdown",
   "metadata": {},
   "source": [
    "Proof of <a class=\"ProveItLink\" href=\"../../../../../../_theory_nbs_/theory.ipynb\">proveit</a>.<a class=\"ProveItLink\" href=\"../../../../../_theory_nbs_/theory.ipynb\">numbers</a>.<a class=\"ProveItLink\" href=\"../../../../_theory_nbs_/theory.ipynb\">number_sets</a>.<a class=\"ProveItLink\" href=\"../../theory.ipynb\">real_numbers</a>.<a class=\"ProveItLink\" href=\"../../theorems.ipynb#interval_co_lower_bound\">interval_co_lower_bound</a> theorem\n",
    "========"
   ]
  },
  {
   "cell_type": "code",
   "execution_count": 1,
   "metadata": {},
   "outputs": [],
   "source": [
    "import proveit\n",
    "theory = proveit.Theory() # the theorem's theory"
   ]
  },
  {
   "cell_type": "code",
   "execution_count": 2,
   "metadata": {},
   "outputs": [
    {
     "data": {
      "text/html": [
       "With these <a href=\"allowed_presumptions.txt\">allowed</a>/<a href=\"disallowed_presumptions.txt\">disallowed</a> theorem/theory presumptions (e.g., to avoid circular dependencies), we begin our proof of<br><strong id=\"interval_co_lower_bound\">interval_co_lower_bound:</strong> <a class=\"ProveItLink\" href=\"../../../__pv_it/theorems/091fe70d53e55195cb7cfc2939f5a43cbcc519340/expr.ipynb\"><img src=\"data:image/png;base64,iVBORw0KGgoAAAANSUhEUgAAAN4AAAAZBAMAAACspI2IAAAAMFBMVEX///8AAAAAAAAAAAAAAAAA\n",
       "AAAAAAAAAAAAAAAAAAAAAAAAAAAAAAAAAAAAAAAAAAAv3aB7AAAAD3RSTlMAq1RmmUTNIjK7EInv\n",
       "3XZ/CtNrAAAACXBIWXMAAA7EAAAOxAGVKw4bAAADR0lEQVRIx62WXWjTUBSAT5u0TdM2FgTBDSWg\n",
       "+CJKmTJxD1vH5iaIIzjxwYkUffAHlAx8nDBBfNlkhSEahRFhL3WM1Q2c+CBlY6iIMnSgKJUUppMN\n",
       "y15k4oN47k3T3LSsyaAHenNvzkm/e37uD4C77MqrUBeR8h+8mKWgbnKozjzVRVVnniRvrjtv8uLk\n",
       "sceF58GIyv5ac0lQ3jHSv+TC82BERKyMhJ/95irl3cI2lHbheTAiwiecY25JZ0aHKS+IryKyC8+D\n",
       "EZFoRQS/6g6tTngczinoVi8ejIjsc4wmvjm1wQStz3f5/FvX+nQ3InKChL1xxaCD8Y/ltBYbhqYx\n",
       "QHHKOw7w0JVXafSGWWhSuXcRf+fU8F/Sf3zBTisUjJOYzRTl9UMobmmEK6XOgWft11kea0SkPLiD\n",
       "VZS0BrhbifPAL5K+z+YdgTZ9OxZrjvLCekQpqxoJtKApUgRmswyPMSJqm+dDqz5rsIC+rEPM/PBG\n",
       "OZ6D0EU/XKc8v8FUwmv8dQ5ijCRoMRgeY0TUNi+Ko6Bu86JpmFKq6uU9aQKmf5BqJcrWWTKFfwWd\n",
       "7gPIW02y+xk1KnYvq1SNPHFmjeRwpNhgrxSM55QBbVXrIbABT3DOiyZvGhe++EnYIBZfpGSGmkZC\n",
       "YwmWR4wkdWdQzpTyN6mOEN4vfRn81szGkCfDDr/qWO/iPV8OMMZc2uQNYHD4pIDeQjjBpXopj3+U\n",
       "duzXxIiDMQF6S7xOGCadUWiGgGX6FP/B8C/x9n52mTR/xnMBDAGfNXk+TEFUkeI0G3y8WdM0WZIi\n",
       "pxw8YgSAMaBq5C1AwUx4OwgW7y46s/t5/8+KXbXH2NuEz5hin0dTargFfd8GUXmI+icF+vSq80jI\n",
       "hWDI9E/cgFHMCazDnB3P2GCtZXyTOf+i6kivPgEx/SiWPs0fvEhW8gYiKd5Uo3+vhN8tYha+YFYk\n",
       "q5K5ZC1eB8MLdBycgWFZ6DEg9ADHZ35kx7sqefz3l6umGnmnm9YSwhzcLmLOypvNffvfJ/NEPtsv\n",
       "6PniPN/Nup7QNKXG+U7VpfXnp22mrMvUcI/OysEL6J7vEyXeWdp22z4Ym/NWqu4vHGyVR5cop9T5\n",
       "fnat+v6pMW/ELdw/5/8DoVDXr7x5n90AAAAASUVORK5CYII=\n",
       "\" style=\"display:inline;vertical-align:middle;\" /></a><br>(see <a class=\"ProveItLink\" href=\"../../../__pv_it/theorems/a990fe4e5fda8cff616ca8555b4e5caff9fc79c50/dependencies.ipynb\">dependencies</a>)<br>"
      ],
      "text/plain": [
       "<IPython.core.display.HTML object>"
      ]
     },
     "metadata": {},
     "output_type": "display_data"
    }
   ],
   "source": [
    "%proving interval_co_lower_bound"
   ]
  },
  {
   "cell_type": "code",
   "execution_count": null,
   "metadata": {},
   "outputs": [],
   "source": []
  }
 ],
 "metadata": {
  "kernelspec": {
   "display_name": "Python 3",
   "language": "python",
   "name": "python3"
  }
 },
 "nbformat": 4,
 "nbformat_minor": 0
}