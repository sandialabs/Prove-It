{
 "cells": [
  {
   "cell_type": "markdown",
   "metadata": {},
   "source": [
    "Proof of <a class=\"ProveItLink\" href=\"../../../../../../_theory_nbs_/theory.ipynb\">proveit</a>.<a class=\"ProveItLink\" href=\"../../../../../_theory_nbs_/theory.ipynb\">numbers</a>.<a class=\"ProveItLink\" href=\"../../../../_theory_nbs_/theory.ipynb\">number_sets</a>.<a class=\"ProveItLink\" href=\"../../theory.ipynb\">real_numbers</a>.<a class=\"ProveItLink\" href=\"../../theorems.ipynb#negative_if_in_real_neg\">negative_if_in_real_neg</a> theorem\n",
    "========"
   ]
  },
  {
   "cell_type": "code",
   "execution_count": 1,
   "metadata": {},
   "outputs": [],
   "source": [
    "import proveit\n",
    "theory = proveit.Theory() # the theorem's theory"
   ]
  },
  {
   "cell_type": "code",
   "execution_count": 2,
   "metadata": {},
   "outputs": [
    {
     "data": {
      "text/html": [
       "With these <a href=\"allowed_presumptions.txt\">allowed</a>/<a href=\"disallowed_presumptions.txt\">disallowed</a> theorem/theory presumptions (e.g., to avoid circular dependencies), we begin our proof of<br><strong id=\"negative_if_in_real_neg\">negative_if_in_real_neg:</strong> <a class=\"ProveItLink\" href=\"../../../__pv_it/theorems/4b2b972cb5c66ca401c95682a8539936cf7aa1470/expr.ipynb\"><img src=\"data:image/png;base64,iVBORw0KGgoAAAANSUhEUgAAAIEAAAAVBAMAAACTeZA2AAAAMFBMVEX///8AAAAAAAAAAAAAAAAA\n",
       "AAAAAAAAAAAAAAAAAAAAAAAAAAAAAAAAAAAAAAAAAAAv3aB7AAAAD3RSTlMAq1RmmUTNIjK7EInv\n",
       "3XZ/CtNrAAAACXBIWXMAAA7EAAAOxAGVKw4bAAACDklEQVQ4y52UQUjcQBSGfzdxExN38FQQigQK\n",
       "XqS4B/Egbt3irhatsCh4KdSFHgoeSrwr6FWR2lObCksOe+hSKNseKiqKF0EoBfHiSciCbWFB8VAo\n",
       "6KVvRuM6cXcQA5NM3sx88+Z/fwLc4XLvMSJdzGk49JJaG+88UhK66oc3j12wJJDlL69VACtfNxx3\n",
       "rENgGligF2NFRdCTdcMpYB3oIZQP2I6K0Hor0skFfAd0+2j1odEOcaUMnbd2H+H3v8BbB3Fa/vPo\n",
       "6IeSMErtS+XTZpjoyYZQhxOSsKkSz4CPSsIramnWoe9f6roViKdxQYQAGsk8A6NNSTgANFc7bxKC\n",
       "GmNXugpCGbEdoMW3czfmP/7+9I1M2AVM6FclfRCexSLCVADzDIgF10KaFS/HbKyVowQqSBAhcCW7\n",
       "HTRTDsg/CYOZebIwQ19gZDKZ7I1T0Hau5UungAcM+Ihxdb6Rr3A6fOxyi3JCNS3lUABKuYewISmJ\n",
       "fmCIFOJmnCUhmdsed0riM7KNgmzCr5Tu4nOMhwKcVMUz4Vh7ZFh+4ibKXUPBxIQg6KsRjy8DxdPY\n",
       "YM23qUtDjFZoYaJWhX9Ar+d5DmP2uExIzEfr21v7Lcxd98wdA0siB9b8wpfma2mFWQbDzqyd18kZ\n",
       "QgdsRJa8bwyofdX6r+0qjA/Um/xdLg7J00qNCS2R39xnz8vV2yhoSPgD/Adn1XDKDx3fcAAAAABJ\n",
       "RU5ErkJggg==\n",
       "\" style=\"display:inline;vertical-align:middle;\" /></a><br>(see <a class=\"ProveItLink\" href=\"../../../__pv_it/theorems/6a5627955b797c8e28112b0494a0b00685a902080/dependencies.ipynb\">dependencies</a>)<br>"
      ],
      "text/plain": [
       "<IPython.core.display.HTML object>"
      ]
     },
     "metadata": {},
     "output_type": "display_data"
    },
    {
     "name": "stdout",
     "output_type": "stream",
     "text": [
      "negative_if_in_real_neg may now be readily provable (assuming required theorems are usable).  Simply execute \"%qed\".\n"
     ]
    }
   ],
   "source": [
    "%proving negative_if_in_real_neg"
   ]
  },
  {
   "cell_type": "code",
   "execution_count": null,
   "metadata": {},
   "outputs": [],
   "source": []
  }
 ],
 "metadata": {
  "kernelspec": {
   "display_name": "Python 3",
   "language": "python",
   "name": "python3"
  }
 },
 "nbformat": 4,
 "nbformat_minor": 0
}