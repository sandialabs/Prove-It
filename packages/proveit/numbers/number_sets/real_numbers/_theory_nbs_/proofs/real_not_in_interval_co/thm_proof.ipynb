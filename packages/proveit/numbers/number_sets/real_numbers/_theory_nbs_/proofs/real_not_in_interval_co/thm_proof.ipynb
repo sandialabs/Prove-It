{
 "cells": [
  {
   "cell_type": "markdown",
   "metadata": {},
   "source": [
    "Proof of <a class=\"ProveItLink\" href=\"../../../../../../_theory_nbs_/theory.ipynb\">proveit</a>.<a class=\"ProveItLink\" href=\"../../../../../_theory_nbs_/theory.ipynb\">numbers</a>.<a class=\"ProveItLink\" href=\"../../../../_theory_nbs_/theory.ipynb\">number_sets</a>.<a class=\"ProveItLink\" href=\"../../theory.ipynb\">real_numbers</a>.<a class=\"ProveItLink\" href=\"../../theorems.ipynb#real_not_in_interval_co\">real_not_in_interval_co</a> theorem\n",
    "========"
   ]
  },
  {
   "cell_type": "code",
   "execution_count": 1,
   "metadata": {},
   "outputs": [],
   "source": [
    "import proveit\n",
    "theory = proveit.Theory() # the theorem's theory"
   ]
  },
  {
   "cell_type": "code",
   "execution_count": 2,
   "metadata": {},
   "outputs": [
    {
     "data": {
      "text/html": [
       "With these <a href=\"allowed_presumptions.txt\">allowed</a>/<a href=\"disallowed_presumptions.txt\">disallowed</a> theorem/theory presumptions (e.g., to avoid circular dependencies), we begin our proof of<br><strong id=\"real_not_in_interval_co\">real_not_in_interval_co:</strong> <a class=\"ProveItLink\" href=\"../../../__pv_it/theorems/c09bf6938d6fb2a75acb42e37e450958f0ca85980/expr.ipynb\"><img src=\"data:image/png;base64,iVBORw0KGgoAAAANSUhEUgAAASMAAAAXCAMAAAB3YtkQAAAAP1BMVEX///8AAAAAAAAAAAAAAAAA\n",
       "AAAAAAAAAAAAAAAAAAAAAAAAAAAAAAAAAAAAAAAAAAAAAAAAAAAAAAAAAAAAAADFBd4eAAAAFHRS\n",
       "TlMAq1RmmUTNIjK7EInv3Xbp8+P3nXbhrUQAAAAJcEhZcwAADsQAAA7EAZUrDhsAAAQqSURBVFjD\n",
       "3ViJruwmDGVfg9u+5v+/teyYQDK5UlV1XnR1nQkYm4N9MBDy+zz6bSuEYN4Npcnv9QB7bFauv3r5\n",
       "aSwJWNL+nfGvhoj5x2YzJnqPkbNHqIBzJEXvr746sJx6bheSvIkjJS5hl2THV9uvDiPxIQsCeYXR\n",
       "2RKWCyQbYJ59NUbHE1PZ8MefQb3ASJ6dtQ43JK8LoL6bje7dlwocoeZVHPkRboojeYT0HP67U626\n",
       "7wCoMx4lhU6JMrNVxUhTDxpmOqJRv+j6SkJZigyxdf+Kq/PiftwFYBsT+udabdWjA0CBCBQPaTQO\n",
       "K0byiC32xPN2ZwTUndk+r7BmqWn7d90u1SONs+CVoGqyPilw+VNQh9rFNrP6WSuUxeexG4/TpoPB\n",
       "1aU4ahi5I2/rYTKTETvylFhluCJTCG1TlO7zzwC1VqbljO1e+xuMHN1v0jNZeDxnOtSwbWYvkSMX\n",
       "x47if0oJMeWVSVTy16/4z84YiTNjO41UVM/8zZx1gCwZ3DD2sa3YhTAt5KMid3CDkdjBrgV1a/lb\n",
       "y9c89ao2bHPLn4rmCSPSw2CUheuenTE6bE6uycmMmCz7v6xxVKXq+eo8B9/C2pyJABsHgNDxb1Sg\n",
       "FSNw4gajMOuVYpfqi53iftHLnBhm22DH/MZYS6ES2Ni+YwfnJjcCWTByZ5oyP9fqSBSKYqFRSi2N\n",
       "6rq4oKN3uh/9HIGKAGhCLVGsrEvDyMfKE/geI60mveS9bVghO0z0c1AOo6LWbJsDgYHGYldGKtno\n",
       "IgXQtO4ogwCIFDuM0jhU5R2iIXqaxlMpfAmW+qAtjVICd7scsXt2Iw4hOcJIWD/TOvol7aQXf3s3\n",
       "0rXbkbYr5jBqv6tthrTGWK0XmjYtnGuciONKHGaKUbNilFFlQSQujNtZ5cNkQszVRJNtkJTVQDEd\n",
       "iUG8bUu0+WEl1/zkDsaI0UlvighkxxSVWMkWIq5qwzbGlrQYN1eMTM4IJ2LUMMEnnxz9Jd2KkaPg\n",
       "jaaQph5CzSPq+5kmyFn28iBVDLwlc8rVMbO07rHZeIL5SErv9hi1aVS9SEGdWbCdljWqVmhVDds2\n",
       "tPNZHWvNNfJwI8T/9jbua09nEbZUhzrMcqxvognJYx2VkIjgpmRM7/ogXpU9ehSbZe9/5Gykl/mX\n",
       "X+xkuigTaZt98anabg7TyN94LFjKSC7e3BzdYeRvz8jLWVnGMAXPa2YYkV3J7wKkB3D5fsD0c5Dy\n",
       "MbxxPYIxymXf0MP7eLdTe+GZlA/V9nQxiMayaylu76rz9UJjwcjBndLjbQi7ec9JY3MNuXnsY6G3\n",
       "qZjd4oN8cXB09t23mwuNBSO4Rdw+nIswy8n3R7nJT/Hi0m7T54XatouGfWe6Od1/us8GPcs9z928\n",
       "/wQj4j+Cuz3SITVj26N/eBD8/z766Wz28fD2Vs39t5P6B/LgIuG9fupvAAAAAElFTkSuQmCC\n",
       "\" style=\"display:inline;vertical-align:middle;\" /></a><br>(see <a class=\"ProveItLink\" href=\"../../../__pv_it/theorems/bf3736789df6b378103ecba076b3204da0de05e30/dependencies.ipynb\">dependencies</a>)<br>"
      ],
      "text/plain": [
       "<IPython.core.display.HTML object>"
      ]
     },
     "metadata": {},
     "output_type": "display_data"
    }
   ],
   "source": [
    "%proving real_not_in_interval_co"
   ]
  },
  {
   "cell_type": "code",
   "execution_count": null,
   "metadata": {},
   "outputs": [],
   "source": []
  }
 ],
 "metadata": {
  "kernelspec": {
   "display_name": "Python 3",
   "language": "python",
   "name": "python3"
  }
 },
 "nbformat": 4,
 "nbformat_minor": 0
}