{
 "cells": [
  {
   "cell_type": "markdown",
   "metadata": {},
   "source": [
    "Theorems (or conjectures) for the theory of <a class=\"ProveItLink\" href=\"theory.ipynb\">proveit.numbers.number_sets.real_numbers</a>\n",
    "========"
   ]
  },
  {
   "cell_type": "code",
   "execution_count": null,
   "metadata": {},
   "outputs": [],
   "source": [
    "import proveit\n",
    "# Prepare this notebook for defining the theorems of a theory:\n",
    "%theorems_notebook # Keep this at the top following 'import proveit'.\n",
    "from proveit import a, b, c, n, x, y\n",
    "from proveit.logic import (\n",
    "        Equals, Forall, Iff, Implies, in_bool, InSet,\n",
    "        NotEquals, NotInSet, Or, ProperSubset)\n",
    "from proveit.numbers import (\n",
    "        Add, greater, greater_eq, Interval, IntervalCC,\n",
    "        IntervalCO, IntervalOC, IntervalOO, Less, LessEq,\n",
    "        Mult, Neg, number_ordering, subtract, sqrt)\n",
    "from proveit.numbers import (\n",
    "        zero, one, two, e, pi, Complex, Integer, Natural,\n",
    "        NaturalPos, Rational, RationalNonZero, RationalPos,\n",
    "        RationalNeg, RationalNonNeg, RationalNonPos, Real,\n",
    "        RealNonNeg, RealPos, RealNeg, RealNonPos, RealNonZero)"
   ]
  },
  {
   "cell_type": "code",
   "execution_count": null,
   "metadata": {},
   "outputs": [],
   "source": [
    "%begin theorems"
   ]
  },
  {
   "cell_type": "code",
   "execution_count": null,
   "metadata": {},
   "outputs": [],
   "source": [
    "int_within_real = ProperSubset(Integer, Real)"
   ]
  },
  {
   "cell_type": "code",
   "execution_count": null,
   "metadata": {},
   "outputs": [],
   "source": [
    "nat_within_real = ProperSubset(Natural, Real)"
   ]
  },
  {
   "cell_type": "code",
   "execution_count": null,
   "metadata": {},
   "outputs": [],
   "source": [
    "nat_pos_within_real = ProperSubset(NaturalPos, Real)"
   ]
  },
  {
   "cell_type": "code",
   "execution_count": null,
   "metadata": {},
   "outputs": [],
   "source": [
    "nat_pos_within_real_pos = ProperSubset(NaturalPos, RealPos)"
   ]
  },
  {
   "cell_type": "code",
   "execution_count": null,
   "metadata": {},
   "outputs": [],
   "source": [
    "nat_within_real_nonneg = ProperSubset(Natural, RealNonNeg)"
   ]
  },
  {
   "cell_type": "code",
   "execution_count": null,
   "metadata": {},
   "outputs": [],
   "source": [
    "nat_pos_within_real_nonneg = ProperSubset(NaturalPos, RealNonNeg)"
   ]
  },
  {
   "cell_type": "code",
   "execution_count": null,
   "metadata": {},
   "outputs": [],
   "source": [
    "rational_within_real = ProperSubset(Rational, Real)"
   ]
  },
  {
   "cell_type": "code",
   "execution_count": null,
   "metadata": {},
   "outputs": [],
   "source": [
    "rational_nonzero_within_real_nonzero = ProperSubset(RationalNonZero, RealNonZero)"
   ]
  },
  {
   "cell_type": "code",
   "execution_count": null,
   "metadata": {},
   "outputs": [],
   "source": [
    "rational_pos_within_real_pos = ProperSubset(RationalPos, RealPos)"
   ]
  },
  {
   "cell_type": "code",
   "execution_count": null,
   "metadata": {},
   "outputs": [],
   "source": [
    "rational_neg_within_real_neg = ProperSubset(RationalNeg, RealNeg)"
   ]
  },
  {
   "cell_type": "code",
   "execution_count": null,
   "metadata": {},
   "outputs": [],
   "source": [
    "rational_nonneg_within_real_nonneg = ProperSubset(RationalNonNeg, RealNonNeg)"
   ]
  },
  {
   "cell_type": "code",
   "execution_count": null,
   "metadata": {},
   "outputs": [],
   "source": [
    "rational_nonpos_within_real_nonpos = ProperSubset(RationalNonPos, RealNonPos)"
   ]
  },
  {
   "cell_type": "code",
   "execution_count": null,
   "metadata": {},
   "outputs": [],
   "source": [
    "real_nonzero_within_real = ProperSubset(RealNonZero, Real)"
   ]
  },
  {
   "cell_type": "code",
   "execution_count": null,
   "metadata": {},
   "outputs": [],
   "source": [
    "real_pos_within_real = ProperSubset(RealPos, Real)"
   ]
  },
  {
   "cell_type": "code",
   "execution_count": null,
   "metadata": {},
   "outputs": [],
   "source": [
    "real_pos_within_real_nonzero = ProperSubset(RealPos, RealNonZero)"
   ]
  },
  {
   "cell_type": "code",
   "execution_count": null,
   "metadata": {},
   "outputs": [],
   "source": [
    "real_pos_within_real_nonneg = ProperSubset(RealPos, RealNonNeg)"
   ]
  },
  {
   "cell_type": "code",
   "execution_count": null,
   "metadata": {},
   "outputs": [],
   "source": [
    "real_neg_within_real = ProperSubset(RealNeg, Real)"
   ]
  },
  {
   "cell_type": "code",
   "execution_count": null,
   "metadata": {},
   "outputs": [],
   "source": [
    "real_neg_within_real_nonzero = ProperSubset(RealNeg, RealNonZero)"
   ]
  },
  {
   "cell_type": "code",
   "execution_count": null,
   "metadata": {},
   "outputs": [],
   "source": [
    "real_neg_within_real_nonpos = ProperSubset(RealNeg, RealNonPos)"
   ]
  },
  {
   "cell_type": "code",
   "execution_count": null,
   "metadata": {},
   "outputs": [],
   "source": [
    "real_nonneg_within_real = ProperSubset(RealNonNeg, Real)"
   ]
  },
  {
   "cell_type": "code",
   "execution_count": null,
   "metadata": {},
   "outputs": [],
   "source": [
    "real_nonpos_within_real = ProperSubset(RealNonPos, Real)"
   ]
  },
  {
   "cell_type": "code",
   "execution_count": null,
   "metadata": {},
   "outputs": [],
   "source": [
    "nonzero_if_in_real_nonzero = Forall(x, NotEquals(x, zero), domain=RealNonZero)"
   ]
  },
  {
   "cell_type": "code",
   "execution_count": null,
   "metadata": {},
   "outputs": [],
   "source": [
    "positive_if_in_real_pos = Forall(x, greater(x, zero), domain=RealPos)"
   ]
  },
  {
   "cell_type": "code",
   "execution_count": null,
   "metadata": {},
   "outputs": [],
   "source": [
    "negative_if_in_real_neg = Forall(x, Less(x, zero), domain=RealNeg)"
   ]
  },
  {
   "cell_type": "code",
   "execution_count": null,
   "metadata": {},
   "outputs": [],
   "source": [
    "nonneg_if_in_real_nonneg = Forall(x, greater_eq(x, zero), domain=RealNonNeg)"
   ]
  },
  {
   "cell_type": "code",
   "execution_count": null,
   "metadata": {},
   "outputs": [],
   "source": [
    "nonpos_if_in_real_nonpos = Forall(x, LessEq(x, zero), domain=RealNonPos)"
   ]
  },
  {
   "cell_type": "code",
   "execution_count": null,
   "metadata": {},
   "outputs": [],
   "source": [
    "nonpos_real_is_real_nonpos = Forall(\n",
    "    a, InSet(a, RealNonPos), condition=LessEq(a, zero),\n",
    "    domain=Real)"
   ]
  },
  {
   "cell_type": "code",
   "execution_count": null,
   "metadata": {},
   "outputs": [],
   "source": [
    "pos_real_is_real_pos = Forall(a, InSet(a, RealPos), condition=greater(a, zero), domain=Real)"
   ]
  },
  {
   "cell_type": "code",
   "execution_count": null,
   "metadata": {},
   "outputs": [],
   "source": [
    "neg_real_is_real_neg = Forall(a, InSet(a, RealNeg), condition=Less(a, zero), domain=Real)"
   ]
  },
  {
   "cell_type": "code",
   "execution_count": null,
   "metadata": {},
   "outputs": [],
   "source": [
    "neg_is_real_neg_if_pos_is_real_pos = Forall(\n",
    "    a,\n",
    "    InSet(Neg(a), RealNeg),\n",
    "    domain=RealPos)"
   ]
  },
  {
   "cell_type": "code",
   "execution_count": null,
   "metadata": {},
   "outputs": [],
   "source": [
    "nonneg_real_is_real_nonneg = Forall(\n",
    "    a, InSet(a, RealNonNeg), condition=greater_eq(a, zero),\n",
    "    domain=Real)"
   ]
  },
  {
   "cell_type": "code",
   "execution_count": null,
   "metadata": {},
   "outputs": [],
   "source": [
    "nonzero_real_is_real_nonzero = Forall(\n",
    "    a, InSet(a, RealNonZero), condition=NotEquals(a, zero), \n",
    "    domain=Real)"
   ]
  },
  {
   "cell_type": "markdown",
   "metadata": {},
   "source": [
    "***Non-Zero Theorems***"
   ]
  },
  {
   "cell_type": "code",
   "execution_count": null,
   "metadata": {},
   "outputs": [],
   "source": [
    "positive_implies_not_zero = Forall(\n",
    "    a,\n",
    "    NotEquals(a, zero),\n",
    "    domain=Real,\n",
    "    conditions=[greater(a, zero)])"
   ]
  },
  {
   "cell_type": "code",
   "execution_count": null,
   "metadata": {},
   "outputs": [],
   "source": [
    "negative_implies_not_zero = Forall(\n",
    "    a, NotEquals(a, zero),\n",
    "    domain=Real,\n",
    "    conditions=[Less(a, zero)])"
   ]
  },
  {
   "cell_type": "markdown",
   "metadata": {},
   "source": [
    "***Elements of Real Intervals are Real Numbers***"
   ]
  },
  {
   "cell_type": "code",
   "execution_count": null,
   "metadata": {},
   "outputs": [],
   "source": [
    "all_in_interval_oo__is__real = Forall(\n",
    "    (a, b),\n",
    "    Forall(x,\n",
    "           InSet(x, Real),\n",
    "           domain=IntervalOO(a, b)),\n",
    "    domain=Real)"
   ]
  },
  {
   "cell_type": "code",
   "execution_count": null,
   "metadata": {},
   "outputs": [],
   "source": [
    "all_in_interval_co__is__real = Forall(\n",
    "    (a, b),\n",
    "    Forall(x,\n",
    "           InSet(x, Real),\n",
    "           domain=IntervalCO(a, b)),\n",
    "    domain=Real)"
   ]
  },
  {
   "cell_type": "code",
   "execution_count": null,
   "metadata": {},
   "outputs": [],
   "source": [
    "all_in_interval_oc__is__real = Forall(\n",
    "    (a, b),\n",
    "    Forall(x,\n",
    "           InSet(x, Real),\n",
    "           domain=IntervalOC(a, b)),\n",
    "    domain=Real)"
   ]
  },
  {
   "cell_type": "code",
   "execution_count": null,
   "metadata": {},
   "outputs": [],
   "source": [
    "all_in_interval_cc__is__real = Forall(\n",
    "    (a, b),\n",
    "    Forall(x,\n",
    "           InSet(x, Real),\n",
    "           domain=IntervalCC(a, b)),\n",
    "    domain=Real)"
   ]
  },
  {
   "cell_type": "markdown",
   "metadata": {},
   "source": [
    "***Real Intervals are Subsets of the Real number set***"
   ]
  },
  {
   "cell_type": "code",
   "execution_count": null,
   "metadata": {},
   "outputs": [],
   "source": [
    "interval_oo_within_Real = Forall(\n",
    "    (a, b),\n",
    "    ProperSubset(IntervalOO(a, b), Real),\n",
    "    domain=Real)"
   ]
  },
  {
   "cell_type": "code",
   "execution_count": null,
   "metadata": {},
   "outputs": [],
   "source": [
    "interval_oc_within_Real = Forall(\n",
    "    (a, b),\n",
    "    ProperSubset(IntervalOC(a, b), Real),\n",
    "    domain=Real)"
   ]
  },
  {
   "cell_type": "code",
   "execution_count": null,
   "metadata": {},
   "outputs": [],
   "source": [
    "interval_co_within_Real = Forall(\n",
    "    (a, b),\n",
    "    ProperSubset(IntervalCO(a, b), Real),\n",
    "    domain=Real)"
   ]
  },
  {
   "cell_type": "code",
   "execution_count": null,
   "metadata": {},
   "outputs": [],
   "source": [
    "interval_cc_within_Real = Forall(\n",
    "    (a, b),\n",
    "    ProperSubset(IntervalCC(a, b), Real),\n",
    "    domain=Real)"
   ]
  },
  {
   "cell_type": "markdown",
   "metadata": {},
   "source": [
    "***Upper and Lower Bounds on Real Intervals***"
   ]
  },
  {
   "cell_type": "code",
   "execution_count": null,
   "metadata": {},
   "outputs": [],
   "source": [
    "interval_oo_lower_bound = Forall(\n",
    "    (a, b),\n",
    "    Forall(x,\n",
    "           Less(a, x),\n",
    "           domain=IntervalOO(a, b)),\n",
    "    domain=Real)"
   ]
  },
  {
   "cell_type": "code",
   "execution_count": null,
   "metadata": {},
   "outputs": [],
   "source": [
    "interval_oo_upper_bound = Forall(\n",
    "    (a, b),\n",
    "    Forall(x,\n",
    "           Less(x, b),\n",
    "           domain=IntervalOO(a, b)),\n",
    "    domain=Real)"
   ]
  },
  {
   "cell_type": "code",
   "execution_count": null,
   "metadata": {},
   "outputs": [],
   "source": [
    "interval_co_lower_bound = Forall(\n",
    "    (a, b),\n",
    "    Forall(x,\n",
    "           LessEq(a, x),\n",
    "           domain=IntervalCO(a, b)),\n",
    "    domain=Real)"
   ]
  },
  {
   "cell_type": "code",
   "execution_count": null,
   "metadata": {},
   "outputs": [],
   "source": [
    "interval_co_upper_bound = Forall(\n",
    "    (a, b),\n",
    "    Forall(x,\n",
    "           Less(x, b),\n",
    "           domain=IntervalCO(a, b)),\n",
    "    domain=Real)"
   ]
  },
  {
   "cell_type": "code",
   "execution_count": null,
   "metadata": {},
   "outputs": [],
   "source": [
    "interval_oc_lower_bound = Forall(\n",
    "    (a, b),\n",
    "    Forall(x,\n",
    "           Less(a, x),\n",
    "           domain=IntervalOC(a, b)),\n",
    "    domain=Real)"
   ]
  },
  {
   "cell_type": "code",
   "execution_count": null,
   "metadata": {},
   "outputs": [],
   "source": [
    "interval_oc_upper_bound = Forall(\n",
    "    (a, b),\n",
    "    Forall(x,\n",
    "           LessEq(x, b),\n",
    "           domain=IntervalOC(a, b)),\n",
    "    domain=Real)"
   ]
  },
  {
   "cell_type": "code",
   "execution_count": null,
   "metadata": {},
   "outputs": [],
   "source": [
    "interval_cc_lower_bound = Forall(\n",
    "    (a, b),\n",
    "    Forall(x,\n",
    "           LessEq(a, x),\n",
    "           domain=IntervalCC(a, b)),\n",
    "    domain=Real)"
   ]
  },
  {
   "cell_type": "code",
   "execution_count": null,
   "metadata": {},
   "outputs": [],
   "source": [
    "interval_cc_upper_bound = Forall(\n",
    "    (a, b),\n",
    "    Forall(x,\n",
    "           LessEq(x, b),\n",
    "           domain=IntervalCC(a, b)),\n",
    "    domain=Real)"
   ]
  },
  {
   "cell_type": "markdown",
   "metadata": {},
   "source": [
    "***Translating Boundedness to Interval Membership***"
   ]
  },
  {
   "cell_type": "code",
   "execution_count": null,
   "metadata": {},
   "outputs": [],
   "source": [
    "in_IntervalOO = Forall(\n",
    "    (a, b, x),\n",
    "    InSet(x, IntervalOO(a, b)),\n",
    "    domain=Real,\n",
    "    conditions=[number_ordering(Less(a, x), Less(x, b))])"
   ]
  },
  {
   "cell_type": "code",
   "execution_count": null,
   "metadata": {},
   "outputs": [],
   "source": [
    "in_IntervalCO = Forall(\n",
    "    (a, b, x),\n",
    "    InSet(x, IntervalCO(a, b)),\n",
    "    domain=Real,\n",
    "    conditions=[number_ordering(LessEq(a, x), Less(x, b))])"
   ]
  },
  {
   "cell_type": "code",
   "execution_count": null,
   "metadata": {},
   "outputs": [],
   "source": [
    "in_IntervalOC = Forall(\n",
    "    (a, b, x),\n",
    "    InSet(x, IntervalOC(a, b)),\n",
    "    domain=Real,\n",
    "    conditions=[number_ordering(Less(a, x), LessEq(x, b))])"
   ]
  },
  {
   "cell_type": "code",
   "execution_count": null,
   "metadata": {},
   "outputs": [],
   "source": [
    "in_IntervalCC = Forall(\n",
    "    (a, b, x),\n",
    "    InSet(x, IntervalCC(a, b)),\n",
    "    domain=Real,\n",
    "    conditions=[number_ordering(LessEq(a, x), LessEq(x, b))])"
   ]
  },
  {
   "cell_type": "markdown",
   "metadata": {},
   "source": [
    "***Scaling Elements of Intervals To Scaled Intervals***"
   ]
  },
  {
   "cell_type": "code",
   "execution_count": null,
   "metadata": {},
   "outputs": [],
   "source": [
    "rescale_interval_oo_membership = Forall(\n",
    "    (a, b, c),\n",
    "    Forall(x,\n",
    "           InSet(Mult(c, x), IntervalOO(Mult(c, a), Mult(c, b))),\n",
    "           domain=IntervalOO(a, b)),\n",
    "    domain=Real)"
   ]
  },
  {
   "cell_type": "code",
   "execution_count": null,
   "metadata": {},
   "outputs": [],
   "source": [
    "rescale_interval_oc_membership = Forall(\n",
    "    (a, b, c),\n",
    "    Forall(x,\n",
    "           InSet(Mult(c, x),\n",
    "                 IntervalOC(Mult(c, a), Mult(c, b))),\n",
    "           domain=IntervalOC(a, b)),\n",
    "    domain=Real)"
   ]
  },
  {
   "cell_type": "code",
   "execution_count": null,
   "metadata": {},
   "outputs": [],
   "source": [
    "rescale_interval_co_membership = Forall(\n",
    "    (a, b, c),\n",
    "    Forall(x,\n",
    "           InSet(Mult(c, x), IntervalCO(Mult(c, a), Mult(c, b))),\n",
    "           domain=IntervalCO(a, b)),\n",
    "    domain=Real)"
   ]
  },
  {
   "cell_type": "code",
   "execution_count": null,
   "metadata": {},
   "outputs": [],
   "source": [
    "rescale_interval_cc_membership = Forall(\n",
    "    (a, b, c),\n",
    "    Forall(x,\n",
    "           InSet(Mult(c, x), IntervalCC(Mult(c, a), Mult(c, b))),\n",
    "           domain=IntervalCC(a, b)),\n",
    "    domain=Real)"
   ]
  },
  {
   "cell_type": "markdown",
   "metadata": {},
   "source": [
    "***Interval Relaxation Theorems***"
   ]
  },
  {
   "cell_type": "code",
   "execution_count": null,
   "metadata": {},
   "outputs": [],
   "source": [
    "relax_IntervalCO = Forall(\n",
    "    (a, b),\n",
    "    Forall(x,\n",
    "           InSet(x, IntervalCC(a, b)),\n",
    "           domain=IntervalCO(a, b)),\n",
    "    domain=Real)"
   ]
  },
  {
   "cell_type": "code",
   "execution_count": null,
   "metadata": {},
   "outputs": [],
   "source": [
    "relax_IntervalOC = Forall(\n",
    "    (a, b),\n",
    "    Forall(x,\n",
    "           InSet(x, IntervalCC(a, b)),\n",
    "           domain=IntervalOC(a, b)),\n",
    "    domain=Real)"
   ]
  },
  {
   "cell_type": "code",
   "execution_count": null,
   "metadata": {},
   "outputs": [],
   "source": [
    "relax_IntervalOO_left = Forall(\n",
    "    (a, b),\n",
    "    Forall(x,\n",
    "           InSet(x, IntervalCO(a, b)),\n",
    "           domain=IntervalOO(a, b)),\n",
    "    domain=Real)"
   ]
  },
  {
   "cell_type": "code",
   "execution_count": null,
   "metadata": {},
   "outputs": [],
   "source": [
    "relax_IntervalOO_right = Forall(\n",
    "    (a, b),\n",
    "    Forall(x,\n",
    "           InSet(x, IntervalOC(a, b)),\n",
    "           domain=IntervalOO(a, b)),\n",
    "    domain=Real)"
   ]
  },
  {
   "cell_type": "code",
   "execution_count": null,
   "metadata": {},
   "outputs": [],
   "source": [
    "relax_IntervalOO_left_right = Forall(\n",
    "    (a, b),\n",
    "    Forall(x,\n",
    "           InSet(x, IntervalCC(a, b)),\n",
    "           domain=IntervalOO(a, b)),\n",
    "    domain=Real)"
   ]
  },
  {
   "cell_type": "code",
   "execution_count": null,
   "metadata": {},
   "outputs": [],
   "source": []
  },
  {
   "cell_type": "markdown",
   "metadata": {},
   "source": [
    "***Some Analogous Non-IntervalMembership Theorems***"
   ]
  },
  {
   "cell_type": "code",
   "execution_count": null,
   "metadata": {},
   "outputs": [],
   "source": [
    "not_real_not_in_interval_oo = (\n",
    "    Forall((a, b),\n",
    "           Forall(x, NotInSet(x, IntervalOO(a, b)), domain=Complex, condition=NotInSet(x, Real)),\n",
    "           domain=Real))"
   ]
  },
  {
   "cell_type": "code",
   "execution_count": null,
   "metadata": {},
   "outputs": [],
   "source": [
    "not_real_not_in_interval_co = (\n",
    "    Forall((a, b),\n",
    "           Forall(x, NotInSet(x, IntervalCO(a, b)), domain=Complex, condition=NotInSet(x, Real)),\n",
    "           domain=Real))"
   ]
  },
  {
   "cell_type": "code",
   "execution_count": null,
   "metadata": {},
   "outputs": [],
   "source": [
    "not_real_not_in_interval_oc = (\n",
    "    Forall((a, b),\n",
    "           Forall(x, NotInSet(x, IntervalOC(a, b)), domain=Complex, condition=NotInSet(x, Real)),\n",
    "           domain=Real))"
   ]
  },
  {
   "cell_type": "code",
   "execution_count": null,
   "metadata": {},
   "outputs": [],
   "source": [
    "not_real_not_in_interval_cc = (\n",
    "    Forall((a, b),\n",
    "           Forall(x, NotInSet(x, IntervalCC(a, b)), domain=Complex, condition=NotInSet(x, Real)),\n",
    "           domain=Real))"
   ]
  },
  {
   "cell_type": "code",
   "execution_count": null,
   "metadata": {},
   "outputs": [],
   "source": [
    "real_not_in_interval_oo = (\n",
    "    Forall((a, b, x),\n",
    "           NotInSet(x, IntervalOO(a, b)),\n",
    "           domain=Real,\n",
    "           conditions=[Or(LessEq(x, a), LessEq(b, x))]))"
   ]
  },
  {
   "cell_type": "code",
   "execution_count": null,
   "metadata": {},
   "outputs": [],
   "source": [
    "real_not_in_interval_co = (\n",
    "    Forall((a, b, x),\n",
    "           NotInSet(x, IntervalCO(a, b)),\n",
    "           domain=Real,\n",
    "           conditions=[Or(Less(x, a), LessEq(b, x))]))"
   ]
  },
  {
   "cell_type": "code",
   "execution_count": null,
   "metadata": {},
   "outputs": [],
   "source": [
    "real_not_in_interval_oc = (\n",
    "    Forall((a, b, x),\n",
    "           NotInSet(x, IntervalOC(a, b)),\n",
    "           domain=Real,\n",
    "           conditions=[Or(LessEq(x, a), Less(b, x))]))"
   ]
  },
  {
   "cell_type": "code",
   "execution_count": null,
   "metadata": {},
   "outputs": [],
   "source": [
    "real_not_in_interval_cc = (\n",
    "    Forall((a, b, x),\n",
    "           NotInSet(x, IntervalCC(a, b)),\n",
    "           domain=Real,\n",
    "           conditions=[Or(Less(x, a), Less(b, x))]))"
   ]
  },
  {
   "cell_type": "code",
   "execution_count": null,
   "metadata": {},
   "outputs": [],
   "source": [
    "bounds_for_real_not_in_interval_oo = (\n",
    "    Forall((a, b, x),\n",
    "           Or(LessEq(x, a), LessEq(b, x)),\n",
    "           domain=Real,\n",
    "           conditions=[NotInSet(x, IntervalOO(a, b))]))"
   ]
  },
  {
   "cell_type": "code",
   "execution_count": null,
   "metadata": {},
   "outputs": [],
   "source": [
    "bounds_for_real_not_in_interval_co = (\n",
    "    Forall((a, b, x),\n",
    "           Or(Less(x, a), LessEq(b, x)),\n",
    "           domain=Real,\n",
    "           conditions=[NotInSet(x, IntervalCO(a, b))]))"
   ]
  },
  {
   "cell_type": "code",
   "execution_count": null,
   "metadata": {},
   "outputs": [],
   "source": [
    "bounds_for_real_not_in_interval_oc = (\n",
    "    Forall((a, b, x),\n",
    "           Or(LessEq(x, a), Less(b, x)),\n",
    "           domain=Real,\n",
    "           conditions=[NotInSet(x, IntervalOC(a, b))]))"
   ]
  },
  {
   "cell_type": "code",
   "execution_count": null,
   "metadata": {},
   "outputs": [],
   "source": [
    "bounds_for_real_not_in_interval_cc = (\n",
    "    Forall((a, b, x),\n",
    "           Or(Less(x, a), Less(b, x)),\n",
    "           domain=Real,\n",
    "           conditions=[NotInSet(x, IntervalCC(a, b))]))"
   ]
  },
  {
   "cell_type": "markdown",
   "metadata": {},
   "source": [
    "***Misc Theorems About the Real number set***"
   ]
  },
  {
   "cell_type": "code",
   "execution_count": null,
   "metadata": {},
   "outputs": [],
   "source": [
    "not_int_if_between_successive_int = Forall(\n",
    "    n,\n",
    "    Forall(x,\n",
    "           NotInSet(x, Integer),\n",
    "           domain=IntervalOO(n, Add(n, one))),\n",
    "    domain=Integer)"
   ]
  },
  {
   "cell_type": "code",
   "execution_count": null,
   "metadata": {},
   "outputs": [],
   "source": [
    "unique_int_in_interval = Forall((a, b, x, y),\n",
    "       Implies(InSet(y, IntervalOO(subtract(x, a), Add(x, b) )),\n",
    "               Equals(y, x)),\n",
    "       domains=[RealPos, RealPos, Integer, Integer],\n",
    "       conditions=[LessEq(a, one), LessEq(b, one)])"
   ]
  },
  {
   "cell_type": "code",
   "execution_count": null,
   "metadata": {},
   "outputs": [],
   "source": [
    "not_int_if_not_int_in_interval = Forall(\n",
    "    n,\n",
    "    Forall(x,\n",
    "           NotInSet(x, Integer),\n",
    "           domain=IntervalOO(subtract(n, one), Add(n, one)),\n",
    "           condition=NotEquals(x, n)),\n",
    "    domain=Integer)"
   ]
  },
  {
   "cell_type": "code",
   "execution_count": null,
   "metadata": {},
   "outputs": [],
   "source": [
    "not_int_if_not_int_in_interval_gen = Forall(\n",
    "    (a, b),\n",
    "    Forall(x,\n",
    "           NotInSet(x, Integer),\n",
    "           domain=IntervalOO(a, b),\n",
    "           condition=NotInSet(x, Interval(Add(a, one), subtract(b, one)))),\n",
    "    domain=Integer)"
   ]
  },
  {
   "cell_type": "code",
   "execution_count": null,
   "metadata": {},
   "outputs": [],
   "source": [
    "from proveit.logic import Intersect, Set\n",
    "from proveit.numbers import IntervalOO\n",
    "unique_int_in_radius_one_open_interval = (\n",
    "    Forall((a,b),\n",
    "       Forall(x,\n",
    "              Equals(Intersect(IntervalOO(subtract(x, a), Add(x, b)), Integer), Set(x)),\n",
    "              domain=Integer),\n",
    "       domain=RealPos,\n",
    "       conditions=[LessEq(a, one), LessEq(b, one)])\n",
    ")"
   ]
  },
  {
   "cell_type": "code",
   "execution_count": null,
   "metadata": {},
   "outputs": [],
   "source": [
    "e_is_real_pos = InSet(e, RealPos)"
   ]
  },
  {
   "cell_type": "code",
   "execution_count": null,
   "metadata": {},
   "outputs": [],
   "source": [
    "pi_is_real_pos = InSet(pi, RealPos)"
   ]
  },
  {
   "cell_type": "markdown",
   "metadata": {},
   "source": [
    "**A set of membership_is_bool (and nonmembership_is_bool) theorems, which are accessed by the respective NumberSets to implement their ``deduce_membership_in_bool()`` methods, covering the ``Real``, ``RealPos``, ``RealNeg``, ``RealNonNeg``, ``RealNonPos``, and ``RealNonZero`` NumberSet classes (defined in proveit.numbers.number_sets.real_numbers/reals.py), as well as the various ``IntervalXX`` intervals:**"
   ]
  },
  {
   "cell_type": "code",
   "execution_count": null,
   "metadata": {},
   "outputs": [],
   "source": [
    "real_membership_is_bool = Forall(x, in_bool(InSet(x, Real)))"
   ]
  },
  {
   "cell_type": "code",
   "execution_count": null,
   "metadata": {},
   "outputs": [],
   "source": [
    "real_pos_membership_is_bool = Forall(x, in_bool(InSet(x, RealPos)))"
   ]
  },
  {
   "cell_type": "code",
   "execution_count": null,
   "metadata": {},
   "outputs": [],
   "source": [
    "real_neg_membership_is_bool = Forall(x, in_bool(InSet(x, RealNeg)))"
   ]
  },
  {
   "cell_type": "code",
   "execution_count": null,
   "metadata": {},
   "outputs": [],
   "source": [
    "real_nonneg_membership_is_bool = Forall(x, in_bool(InSet(x, RealNonNeg)))"
   ]
  },
  {
   "cell_type": "code",
   "execution_count": null,
   "metadata": {},
   "outputs": [],
   "source": [
    "real_nonpos_membership_is_bool = Forall(x, in_bool(InSet(x, RealNonPos)))"
   ]
  },
  {
   "cell_type": "code",
   "execution_count": null,
   "metadata": {},
   "outputs": [],
   "source": [
    "real_nonzero_membership_is_bool = Forall(x, in_bool(InSet(x, RealNonZero)))"
   ]
  },
  {
   "cell_type": "code",
   "execution_count": null,
   "metadata": {},
   "outputs": [],
   "source": [
    "interval_oo_membership_is_bool = Forall((a, b),\n",
    "       Forall(x,\n",
    "              in_bool(InSet(x, IntervalOO(a, b)))),\n",
    "       domain = Real)"
   ]
  },
  {
   "cell_type": "code",
   "execution_count": null,
   "metadata": {},
   "outputs": [],
   "source": [
    "interval_co_membership_is_bool = Forall((a, b),\n",
    "       Forall(x,\n",
    "              in_bool(InSet(x, IntervalCO(a, b)))),\n",
    "       domain = Real)"
   ]
  },
  {
   "cell_type": "code",
   "execution_count": null,
   "metadata": {},
   "outputs": [],
   "source": [
    "interval_oc_membership_is_bool = Forall((a, b),\n",
    "       Forall(x,\n",
    "              in_bool(InSet(x, IntervalOC(a, b)))),\n",
    "       domain = Real)"
   ]
  },
  {
   "cell_type": "code",
   "execution_count": null,
   "metadata": {},
   "outputs": [],
   "source": [
    "interval_cc_membership_is_bool = Forall((a, b),\n",
    "       Forall(x,\n",
    "              in_bool(InSet(x, IntervalCC(a, b)))),\n",
    "       domain = Real)"
   ]
  },
  {
   "cell_type": "code",
   "execution_count": null,
   "metadata": {},
   "outputs": [],
   "source": [
    "interval_oo_nonmembership_is_bool = Forall((a, b),\n",
    "       Forall(x,\n",
    "              in_bool(NotInSet(x, IntervalOO(a, b)))),\n",
    "       domain = Real)"
   ]
  },
  {
   "cell_type": "code",
   "execution_count": null,
   "metadata": {},
   "outputs": [],
   "source": [
    "interval_co_nonmembership_is_bool = Forall((a, b),\n",
    "       Forall(x,\n",
    "              in_bool(NotInSet(x, IntervalCO(a, b)))),\n",
    "       domain = Real)"
   ]
  },
  {
   "cell_type": "code",
   "execution_count": null,
   "metadata": {},
   "outputs": [],
   "source": [
    "interval_oc_nonmembership_is_bool = Forall((a, b),\n",
    "       Forall(x,\n",
    "              in_bool(NotInSet(x, IntervalOC(a, b)))),\n",
    "       domain = Real)"
   ]
  },
  {
   "cell_type": "code",
   "execution_count": null,
   "metadata": {},
   "outputs": [],
   "source": [
    "interval_cc_nonmembership_is_bool = Forall((a, b),\n",
    "       Forall(x,\n",
    "              in_bool(NotInSet(x, IntervalCC(a, b)))),\n",
    "       domain = Real)"
   ]
  },
  {
   "cell_type": "code",
   "execution_count": null,
   "metadata": {},
   "outputs": [],
   "source": [
    "%end theorems"
   ]
  },
  {
   "cell_type": "code",
   "execution_count": null,
   "metadata": {},
   "outputs": [],
   "source": []
  }
 ],
 "metadata": {
  "kernelspec": {
   "display_name": "Python 3",
   "language": "python",
   "name": "python3"
  }
 },
 "nbformat": 4,
 "nbformat_minor": 0
}
