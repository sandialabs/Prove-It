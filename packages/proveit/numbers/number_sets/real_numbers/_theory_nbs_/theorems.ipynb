{
 "cells": [
  {
   "cell_type": "markdown",
   "metadata": {},
   "source": [
    "Theorems (or conjectures) for the theory of <a class=\"ProveItLink\" href=\"theory.ipynb\">proveit.numbers.number_sets.real_numbers</a>\n",
    "========"
   ]
  },
  {
   "cell_type": "code",
   "execution_count": 1,
   "metadata": {},
   "outputs": [],
   "source": [
    "import proveit\n",
    "# Prepare this notebook for defining the theorems of a theory:\n",
    "%theorems_notebook # Keep this at the top following 'import proveit'.\n",
    "from proveit import a, b, c, n, x, y\n",
    "from proveit.logic import (Implies, Forall, Iff, in_bool, InSet, \n",
    "                           Equals, NotEquals, NotInSet, Or, Set, ProperSubset)\n",
    "from proveit.numbers import (num, Add, subtract, greater, greater_eq, Interval,\n",
    "                             IntervalCC, IntervalCO, IntervalOC, IntervalOO,\n",
    "                             Less, LessEq, Mult, Neg, number_ordering, sqrt)\n",
    "from proveit.numbers import (\n",
    "    zero, one, two, e, pi, ZeroSet, Complex, \n",
    "    Integer, Natural, NaturalPos, IntegerNeg, IntegerNonPos, IntegerNonZero,\n",
    "    Rational, RationalNonZero, RationalPos, RationalNeg, RationalNonNeg, RationalNonPos, \n",
    "    Real, RealNonNeg, RealPos, RealNeg, RealNonPos, RealNonZero)\n"
   ]
  },
  {
   "cell_type": "code",
   "execution_count": 2,
   "metadata": {},
   "outputs": [
    {
     "name": "stdout",
     "output_type": "stream",
     "text": [
      "Defining theorems for theory 'proveit.numbers.number_sets.real_numbers'\n",
      "Subsequent end-of-cell assignments will define theorems\n",
      "'%end theorems' will finalize the definitions\n"
     ]
    }
   ],
   "source": [
    "%begin theorems"
   ]
  },
  {
   "cell_type": "code",
   "execution_count": 3,
   "metadata": {},
   "outputs": [
    {
     "data": {
      "text/html": [
       "<strong id=\"zero_is_real\"><a class=\"ProveItLink\" href=\"proofs/zero_is_real/thm_proof.ipynb\">zero_is_real</a> (conjecture without proof):<br></strong> <a class=\"ProveItLink\" href=\"../__pv_it/theorems/4ede7332e1a35dc94f8b72c11e2b13f6b0a2dc240/theorem_expr.ipynb\"><img src=\"data:image/png;base64,iVBORw0KGgoAAAANSUhEUgAAADMAAAAQBAMAAABJt1qBAAAAMFBMVEX///8AAAAAAAAAAAAAAAAA\n",
       "AAAAAAAAAAAAAAAAAAAAAAAAAAAAAAAAAAAAAAAAAAAv3aB7AAAAD3RSTlMAiXaZIs1UEN1mu6sy\n",
       "RO+L2jdBAAAACXBIWXMAAA7EAAAOxAGVKw4bAAAA6ElEQVQY02NgwABTX62PeDUBxGIUMkGTW+DN\n",
       "cHtWAZARxlDhgCblyMDFs4GBgbOBgXEBhhSzQwADA9cGBrbvYBGmFR2tCCmgcn4DBp5vIAHeoAKE\n",
       "Lu5yoIH1QKmfIAHXAiQDT6UC7fcXYOD5BBIIQdjlF/FDnQEi9REkEIDkjJmlILpegIEXpIvnRUdH\n",
       "RxdUiqsS5GWgM9hAzmBfgKSLx2A5kOZawMAJdnwDsr9svIA05wMGZrA1SshSVUwgE9sY6g6ABFgT\n",
       "4FLODJwT1gIZxUJ7wALsu67DQ34Jw6r4BKSg45WCBhQUAAA+Fj/eKd5rbgAAAABJRU5ErkJggg==\n",
       "\" style=\"display:inline;vertical-align:middle;\" /></a><br>"
      ],
      "text/plain": [
       "<IPython.core.display.HTML object>"
      ]
     },
     "metadata": {},
     "output_type": "display_data"
    }
   ],
   "source": [
    "zero_is_real = InSet(zero, Real)"
   ]
  },
  {
   "cell_type": "code",
   "execution_count": 4,
   "metadata": {},
   "outputs": [
    {
     "data": {
      "text/html": [
       "<strong id=\"zero_is_nonneg_real\"><a class=\"ProveItLink\" href=\"proofs/zero_is_nonneg_real/thm_proof.ipynb\">zero_is_nonneg_real</a> (conjecture without proof):<br></strong> <a class=\"ProveItLink\" href=\"../__pv_it/theorems/d22d572736e93c9a40dbd3a37ca207f9e003e7ee0/theorem_expr.ipynb\"><img src=\"data:image/png;base64,iVBORw0KGgoAAAANSUhEUgAAAEgAAAAUBAMAAADcj2b4AAAAMFBMVEX///8AAAAAAAAAAAAAAAAA\n",
       "AAAAAAAAAAAAAAAAAAAAAAAAAAAAAAAAAAAAAAAAAAAv3aB7AAAAD3RSTlMAiXaZIs1UEN1mu6sy\n",
       "RO+L2jdBAAAACXBIWXMAAA7EAAAOxAGVKw4bAAABR0lEQVQoz2NgwAlOXQBTgooMeAC7VAKQ5FTg\n",
       "XYBPFYPWBAYGvgMMX/AqYpilwOBfwPAMi8zUV+sjXk2AsOc5nC9g6GRgYBQyQVO1wJvh9qwCEKtw\n",
       "LQNQ0SMGhjCGCgc0RY4MXDwbgAznPQwg674xcDYwMC7AUMTsEMDA4A1UA3E41wYGtu9gOaYVHa0I\n",
       "RQsYqsHOYFLg3cDAb8DA8w3E4w0qQJjEXb6BoRzCE1QuYKgHKvoJ4rgWIFl3KhXFnf4CDDyfQIwQ\n",
       "hJv8In6oM6Ar+ghiBCA5fGYpKO5WAQHEwHoBBl6QSTwvOjo6uqCKuConoJgEdDgbyOHsC5BM4jFY\n",
       "jqKIawEDJzgIGpDDycYLRRHnAwZmsHOUkBVVMaHa18ZQdwBEsybAFTkzcE5Yi6KoWGgPJI3tug5P\n",
       "BUsYVsUnYE08vFLQaMEAAIGcWZm8yehgAAAAAElFTkSuQmCC\n",
       "\" style=\"display:inline;vertical-align:middle;\" /></a><br>"
      ],
      "text/plain": [
       "<IPython.core.display.HTML object>"
      ]
     },
     "metadata": {},
     "output_type": "display_data"
    }
   ],
   "source": [
    "zero_is_nonneg_real = InSet(zero, RealNonNeg)"
   ]
  },
  {
   "cell_type": "code",
   "execution_count": 5,
   "metadata": {},
   "outputs": [
    {
     "data": {
      "text/html": [
       "<strong id=\"zero_is_nonpos_real\"><a class=\"ProveItLink\" href=\"proofs/zero_is_nonpos_real/thm_proof.ipynb\">zero_is_nonpos_real</a> (conjecture without proof):<br></strong> <a class=\"ProveItLink\" href=\"../__pv_it/theorems/0582614e90b3cda5ebab8949d44ed579f8c0198a0/theorem_expr.ipynb\"><img src=\"data:image/png;base64,iVBORw0KGgoAAAANSUhEUgAAAEgAAAAUBAMAAADcj2b4AAAAMFBMVEX///8AAAAAAAAAAAAAAAAA\n",
       "AAAAAAAAAAAAAAAAAAAAAAAAAAAAAAAAAAAAAAAAAAAv3aB7AAAAD3RSTlMAiXaZIs1UEN1mu6sy\n",
       "RO+L2jdBAAAACXBIWXMAAA7EAAAOxAGVKw4bAAABRUlEQVQoz2NgwAuyHBgEFRkIqFFg4FTgXYBX\n",
       "zawJDAx8Bxi+4FOjlQAk/AsYnmGRm/pqfcQroBnnQGoYzhcwdDIwMAqZoKla4M1we1YBA9vCAoii\n",
       "RwwMYQwVDmiKHBm4eDYwMPCCVAGt+8bA2cDAuABDEbNDAJDBs9kB4nCuDQxs38FyTCs6WhGKwBpZ\n",
       "dhcwKfBuYOA3YOD5BhLgDSpAmMRdvgHMZGFgEFQuYKgHKvoJ4rsWIFl3KhXFnf4CDDyfQIwQhJv8\n",
       "In6oM6Ar+ghiBCA5fGYpkDq1CgggBtYLMPCCTOJ50dHR0QVVxFU5AcUkoMPZQA5nX4BkEo/BchRF\n",
       "XAsYOMFB0IAcTjZeKIo4HzAwg52jhKyoignVvjaGugMgmjUBrsiZgXPCWhRFxUJ7wDT7ruvwVLCE\n",
       "YVV8AtbkwysFjRYMAACV0VlfTKrb4AAAAABJRU5ErkJggg==\n",
       "\" style=\"display:inline;vertical-align:middle;\" /></a><br>"
      ],
      "text/plain": [
       "<IPython.core.display.HTML object>"
      ]
     },
     "metadata": {},
     "output_type": "display_data"
    }
   ],
   "source": [
    "zero_is_nonpos_real = InSet(zero, RealNonPos)"
   ]
  },
  {
   "cell_type": "code",
   "execution_count": 6,
   "metadata": {},
   "outputs": [
    {
     "data": {
      "text/html": [
       "<strong id=\"zero_set_within_real\"><a class=\"ProveItLink\" href=\"proofs/zero_set_within_real/thm_proof.ipynb\">zero_set_within_real</a> (conjecture without proof):<br></strong> <a class=\"ProveItLink\" href=\"../__pv_it/theorems/87990d0e278f8946923a5e7642f39edd5971346b0/theorem_expr.ipynb\"><img src=\"data:image/png;base64,iVBORw0KGgoAAAANSUhEUgAAAEkAAAAVBAMAAAD4Ed5jAAAAMFBMVEX///8AAAAAAAAAAAAAAAAA\n",
       "AAAAAAAAAAAAAAAAAAAAAAAAAAAAAAAAAAAAAAAAAAAv3aB7AAAAD3RSTlMAEER2zVSJ3Zki72ar\n",
       "MruaaVGaAAAACXBIWXMAAA7EAAAOxAGVKw4bAAABTElEQVQoz2NgYGBUYgCDqRMY8AATRQjNe04A\n",
       "XWrLuvfu6zaAWKwfgUSaBdAgvgMYJjyYw6CzD6SZrYCBgSWAsRLCQlc1jYGP9wBU1XYGhjxcqjgm\n",
       "OEBVvWFgiBdAqGJ+Xl5efgGu6gFU1Q8GhvsBcFW8bhOQzOIRhNrICFK1Aa5KfAKyjfdCQFwOBwbO\n",
       "b0BVBgzMCyBSh5DcNcv9uyGIMWsDRFUCA+dXiJQDsut3i4DoOU7A0Aeq0jdgYJBxBTvrALIqPmlQ\n",
       "qPL2CYBdHx/AwJCiAJLhRFHF2/AQxACF+DsGhv0CkFgAggKU8OqdxwANiV0MDC1AFtT13Siq5Jg3\n",
       "QFWxBzCuRYQ9iwJC1QwG7g2PoKoY22wuIFQxvlFEpImXDO/8A5BjD85iyoPFEAOGHLbYhgNYiINj\n",
       "ASeAhTgDg9QGPCl6xlEIPe0oTiUAI/NnSLgqFgcAAAAASUVORK5CYII=\n",
       "\" style=\"display:inline;vertical-align:middle;\" /></a><br>"
      ],
      "text/plain": [
       "<IPython.core.display.HTML object>"
      ]
     },
     "metadata": {},
     "output_type": "display_data"
    }
   ],
   "source": [
    "zero_set_within_real = ProperSubset(ZeroSet, Real)"
   ]
  },
  {
   "cell_type": "code",
   "execution_count": 7,
   "metadata": {},
   "outputs": [
    {
     "data": {
      "text/html": [
       "<strong id=\"zero_set_within_real_nonneg\"><a class=\"ProveItLink\" href=\"proofs/zero_set_within_real_nonneg/thm_proof.ipynb\">zero_set_within_real_nonneg</a> (conjecture without proof):<br></strong> <a class=\"ProveItLink\" href=\"../__pv_it/theorems/789a0b333359710afc8b17bc6c8a1136864de2ce0/theorem_expr.ipynb\"><img src=\"data:image/png;base64,iVBORw0KGgoAAAANSUhEUgAAAF0AAAAYBAMAAABqyuwvAAAAMFBMVEX///8AAAAAAAAAAAAAAAAA\n",
       "AAAAAAAAAAAAAAAAAAAAAAAAAAAAAAAAAAAAAAAAAAAv3aB7AAAAD3RSTlMAEER2zVSJ3Zki72ar\n",
       "MruaaVGaAAAACXBIWXMAAA7EAAAOxAGVKw4bAAABp0lEQVQ4y2NgIALwPgJTbMkJDMQBsacgcjOD\n",
       "HpHqGZhfA4m1DPwTgBSjEkRs6gQ8GrgfM3B+ZOAKADJNFKGuPCeArsjr3Zeq11D2St6PDOwbGBhY\n",
       "PwJ5aRZAw/kOoJvKx3mA6fRDEIsxTwGonssA6OsCBgaWAMZKCAtdfQLDgztABmfPBZB7+AMgqrYz\n",
       "MOThUt/JAlR+5gLcvyBVbxgY4gUQ6pmfl5eXX4Cp52NgPAEOCmMGHQaI+h8MDPcD4Op53SYgmX9Q\n",
       "hoFRABpfjRD1jCD1G+DqxScguYf3qSeqGzkcGDi/AdUbMDAvgIgcQnL/kvpitFCetQGiPoGB8ytE\n",
       "xAFJffZGII/3HRC8hAjNcQIGLlC9PjBoZVzBzj+AHD4Pd6OlvT4BsH/jgUGbogAS4URRf4MPzT2g\n",
       "WH3HwLBfABLTQFCArJ7j5gNU9aBQ2cXA0AJkQf3bjaye8YE1pnr2AMa1iPhlUUCob2DYzaeAoZ6x\n",
       "zeYCQj3jG0V4+vw3ge/JVwz1aCymPGh6wAawqMef1RYgxTQRgBPuPKkNROXlGUch9LSjRCgGAOpe\n",
       "dA4TMJ/5AAAAAElFTkSuQmCC\n",
       "\" style=\"display:inline;vertical-align:middle;\" /></a><br>"
      ],
      "text/plain": [
       "<IPython.core.display.HTML object>"
      ]
     },
     "metadata": {},
     "output_type": "display_data"
    }
   ],
   "source": [
    "zero_set_within_real_nonneg = ProperSubset(ZeroSet, RealNonNeg)"
   ]
  },
  {
   "cell_type": "code",
   "execution_count": 8,
   "metadata": {},
   "outputs": [
    {
     "data": {
      "text/html": [
       "<strong id=\"zero_set_within_real_nonpos\"><a class=\"ProveItLink\" href=\"proofs/zero_set_within_real_nonpos/thm_proof.ipynb\">zero_set_within_real_nonpos</a> (conjecture without proof):<br></strong> <a class=\"ProveItLink\" href=\"../__pv_it/theorems/9a6686429c996c6be3f34a9287216751bf3742aa0/theorem_expr.ipynb\"><img src=\"data:image/png;base64,iVBORw0KGgoAAAANSUhEUgAAAF0AAAAYBAMAAABqyuwvAAAAMFBMVEX///8AAAAAAAAAAAAAAAAA\n",
       "AAAAAAAAAAAAAAAAAAAAAAAAAAAAAAAAAAAAAAAAAAAv3aB7AAAAD3RSTlMAEER2zVSJ3Zki72ar\n",
       "MruaaVGaAAAACXBIWXMAAA7EAAAOxAGVKw4bAAABpUlEQVQ4y2NgIBKwvmRgS05gIFr5YwaGzQx6\n",
       "xCrnfg0k1jLwTwBSjEoQsakTcCpnfgokOD8ycAUAaRNFiCDvOQF0U73efakCmsy7FCz/kYF9A9Bl\n",
       "H4HsNAug4XwH0M3l4zzAdPohA0NcIkQ9lwEDA1sBAwNLAGMlhIWuPoHhwR0gQy8R7B7+AIiq7QwM\n",
       "ebjUd7KAWHc6Yf4FqXrDwBAvgFDP/Ly8vPwCTD0fWGzOQQZjBh0GiPofDAz3A+Dqed0mIJl/UAbC\n",
       "ngCMr0aIekaQ+g1w9eITkNzD+9QT1Y0cDgyc34DqDRiYF0BEDiG5f0l9MVooz9oAUZ/AwPkVIuKA\n",
       "pD57I5DH+w4IXkKE5jgBYxioXh8YtDKuYOcfQA6fh7tRjeftEwD7Nx4YtCkKIBFOFPU3+NDcA4rV\n",
       "dwwM+wUgMQ0EBcjqOW4+QFUPCpVdDAwtQBbUv93I6hkfWGOqZw9gXIuIXxYFhPoGht18ChjqGdts\n",
       "LiDUM75RhKfPfxP4nnzFUI/GYsqDpgdsAIt6vAAWq+CYJgJwwp0ntYGovDzjKISedpQIxQAhCnOX\n",
       "TfJnFQAAAABJRU5ErkJggg==\n",
       "\" style=\"display:inline;vertical-align:middle;\" /></a><br>"
      ],
      "text/plain": [
       "<IPython.core.display.HTML object>"
      ]
     },
     "metadata": {},
     "output_type": "display_data"
    }
   ],
   "source": [
    "zero_set_within_real_nonpos = ProperSubset(ZeroSet, RealNonPos)"
   ]
  },
  {
   "cell_type": "code",
   "execution_count": 9,
   "metadata": {},
   "outputs": [
    {
     "data": {
      "text/html": [
       "<strong id=\"int_within_real\"><a class=\"ProveItLink\" href=\"proofs/int_within_real/thm_proof.ipynb\">int_within_real</a> (conjecture without proof):<br></strong> <a class=\"ProveItLink\" href=\"../__pv_it/theorems/75842bda69ce9526a35ee51d5a1c73b8e755d9180/theorem_expr.ipynb\"><img src=\"data:image/png;base64,iVBORw0KGgoAAAANSUhEUgAAADkAAAAQBAMAAABelcpIAAAAMFBMVEX///8AAAAAAAAAAAAAAAAA\n",
       "AAAAAAAAAAAAAAAAAAAAAAAAAAAAAAAAAAAAAAAAAAAv3aB7AAAAD3RSTlMAVM3vu91mdqsymYki\n",
       "EESqKsraAAAACXBIWXMAAA7EAAAOxAGVKw4bAAAA9klEQVQY02NgVP6sEuqcwIACkkz8VU1AYuwe\n",
       "ExgUmBjQgMMJhhcpFxgYuBYwsCdsxJA9zcDC2cDAwHGA4QqvAxZZrgMKDAy8DAwrOSZAxNhdQ0ND\n",
       "J8BlwXo4G2ZBJDm1DyDp5bjbAGKxXPCFCF09gGzyFCEwV5qtACLUh2TvYdWvtWAW3D8KyK5KuwRx\n",
       "isA+BoYLYPuRZVmugUPoCg/QbT1ABg+KLOcCsGs6gT7m/QBiBaD4d+URkHkLXgGDBCyxDEX2CnsC\n",
       "yD+6DDyOYI8zPUDInmJgS/BjYHjsZOJib7IBJMTr8RYRRz4MLvoCKKHLtwUWklAAAB2eQyenZVoc\n",
       "AAAAAElFTkSuQmCC\n",
       "\" style=\"display:inline;vertical-align:middle;\" /></a><br>"
      ],
      "text/plain": [
       "<IPython.core.display.HTML object>"
      ]
     },
     "metadata": {},
     "output_type": "display_data"
    }
   ],
   "source": [
    "int_within_real = ProperSubset(Integer, Real)"
   ]
  },
  {
   "cell_type": "code",
   "execution_count": 10,
   "metadata": {},
   "outputs": [
    {
     "data": {
      "text/html": [
       "<strong id=\"nat_within_real\"><a class=\"ProveItLink\" href=\"proofs/nat_within_real/thm_proof.ipynb\">nat_within_real</a> (conjecture without proof):<br></strong> <a class=\"ProveItLink\" href=\"../__pv_it/theorems/3dc293c38b018909b28a359667e116d8e48de5d70/theorem_expr.ipynb\"><img src=\"data:image/png;base64,iVBORw0KGgoAAAANSUhEUgAAADoAAAAQBAMAAAC1onFLAAAAMFBMVEX///8AAAAAAAAAAAAAAAAA\n",
       "AAAAAAAAAAAAAAAAAAAAAAAAAAAAAAAAAAAAAAAAAAAv3aB7AAAAD3RSTlMAEN27zYnvRFSrImZ2\n",
       "MpmnAiL6AAAACXBIWXMAAA7EAAAOxAGVKw4bAAAA7klEQVQY02MQ+mwiwBD2rYABGXC7GX9Rswax\n",
       "LNgnMDB+YEAFzFwT2GcbAhmTFkQzMCRgyAYwGNwEMmYYsCxgUMAi+4oFyJi1h8sBJntYSUlJFy7L\n",
       "DJLlvHAUKnslClnvREmQLIMBcwFYllEL2WReCy+w7D1GRbAsZwGSbIq+jgBYlruhGexmFmRXRW90\n",
       "YADLMkzkBMveRHGz4W6orCQj2OSVKLL3mCEmM/AeMAAJMaHI8t0CCdoC8VmwLN8GZFlGg9NAhgdI\n",
       "HOwCBnck2QcMu5kLGK58A+pjhMgKTxeAx9HnBcwmP1CDt9QIGpJQAAC6vzc5IOUWfAAAAABJRU5E\n",
       "rkJggg==\n",
       "\" style=\"display:inline;vertical-align:middle;\" /></a><br>"
      ],
      "text/plain": [
       "<IPython.core.display.HTML object>"
      ]
     },
     "metadata": {},
     "output_type": "display_data"
    }
   ],
   "source": [
    "nat_within_real = ProperSubset(Natural, Real)"
   ]
  },
  {
   "cell_type": "code",
   "execution_count": 11,
   "metadata": {},
   "outputs": [
    {
     "data": {
      "text/html": [
       "<strong id=\"nat_pos_within_real\"><a class=\"ProveItLink\" href=\"proofs/nat_pos_within_real/thm_proof.ipynb\">nat_pos_within_real</a> (conjecture without proof):<br></strong> <a class=\"ProveItLink\" href=\"../__pv_it/theorems/734e37849a704aa92355a8d4c14a74e10e66aec20/theorem_expr.ipynb\"><img src=\"data:image/png;base64,iVBORw0KGgoAAAANSUhEUgAAAEcAAAATBAMAAAAwgQ3NAAAAMFBMVEX///8AAAAAAAAAAAAAAAAA\n",
       "AAAAAAAAAAAAAAAAAAAAAAAAAAAAAAAAAAAAAAAAAAAv3aB7AAAAD3RSTlMAEN27zYnvRFSrImZ2\n",
       "MpmnAiL6AAAACXBIWXMAAA7EAAAOxAGVKw4bAAABDElEQVQoz2NggAM+BiIAM4WKhD6bCDCEfSvA\n",
       "pmhLsr1T8gYQy4J9AgPjB+wmGaxkqNwsAGRMWhDNwJDA8NjYzNh4A7qipQzMvBOAjBkGLAsYFHCY\n",
       "tJSBb4EDkDFrD5cDmqLDSkpKunBFBiBFnBeOoiq6EoVkEqcgyLpZDAbMBciKGLWQrbvcsgCs6B6j\n",
       "ogJSiHMWIBQtc/p0kAGsiLuhOQHJtSzIDt8twgBRxDCRE1nRTWRFzNIboIokGRWQFK1EVsT7wBCq\n",
       "iPeAAZIiJpRwersYxLAF4rPIivg2ICsS5gFxPUDiDsjh7I5QtI6Be4M5MOS+AU1hRFEkPF0Angqs\n",
       "GIz9G7Amn1IjaLRAAQAVTUIDROUmwQAAAABJRU5ErkJggg==\n",
       "\" style=\"display:inline;vertical-align:middle;\" /></a><br>"
      ],
      "text/plain": [
       "<IPython.core.display.HTML object>"
      ]
     },
     "metadata": {},
     "output_type": "display_data"
    }
   ],
   "source": [
    "nat_pos_within_real = ProperSubset(NaturalPos, Real)"
   ]
  },
  {
   "cell_type": "code",
   "execution_count": 12,
   "metadata": {},
   "outputs": [
    {
     "data": {
      "text/html": [
       "<strong id=\"nat_pos_within_real_pos\"><a class=\"ProveItLink\" href=\"proofs/nat_pos_within_real_pos/thm_proof.ipynb\">nat_pos_within_real_pos</a> (conjecture without proof):<br></strong> <a class=\"ProveItLink\" href=\"../__pv_it/theorems/7305f538d7e920cf7e8444f1b409ff11feebf2b90/theorem_expr.ipynb\"><img src=\"data:image/png;base64,iVBORw0KGgoAAAANSUhEUgAAAFQAAAATBAMAAAD8GDcmAAAAMFBMVEX///8AAAAAAAAAAAAAAAAA\n",
       "AAAAAAAAAAAAAAAAAAAAAAAAAAAAAAAAAAAAAAAAAAAv3aB7AAAAD3RSTlMAEN27zYnvRFSrImZ2\n",
       "MpmnAiL6AAAACXBIWXMAAA7EAAAOxAGVKw4bAAABGklEQVQoz2NggAM+BjzgAQqPGZ9SA9KUCn02\n",
       "EWAI+1aATSm3m/EXNWuEqRbsExgYP2A3lZlrAvtsQ7jSSQuiGRgSGB4bmxkbb8BQGsBgcJOBz9g4\n",
       "2Rho+gwDlgUMCrhMDWB4xQI3ddYeLgc0pYeVlJR04UqZEUo5LxxFVXolCtnUiZIIpQwGzAXIShm1\n",
       "kB3Aa+GFpPQeo6ICUmxxFiApTdHXEYDH1iwG7obmBCS/sCB7K3qjA4I7i4FhIiey0psoIWC4G0Wp\n",
       "JKMCktKVKErvMQsgK+U9gJwamFCU8t1CyNkC8VlkpXwbkJUyGpyGcz1Asg7IceSOpPQBw25mWIhc\n",
       "+QY0kRFFqfB0AXjK+ryA2eQHnsRZagSNWBQAAG6CPlRlfTg6AAAAAElFTkSuQmCC\n",
       "\" style=\"display:inline;vertical-align:middle;\" /></a><br>"
      ],
      "text/plain": [
       "<IPython.core.display.HTML object>"
      ]
     },
     "metadata": {},
     "output_type": "display_data"
    }
   ],
   "source": [
    "nat_pos_within_real_pos = ProperSubset(NaturalPos, RealPos)"
   ]
  },
  {
   "cell_type": "code",
   "execution_count": 13,
   "metadata": {},
   "outputs": [
    {
     "data": {
      "text/html": [
       "<strong id=\"nat_within_real_nonneg\"><a class=\"ProveItLink\" href=\"proofs/nat_within_real_nonneg/thm_proof.ipynb\">nat_within_real_nonneg</a> (conjecture without proof):<br></strong> <a class=\"ProveItLink\" href=\"../__pv_it/theorems/84d1af30049899efc84e70c946c3e14b0b43c3c50/theorem_expr.ipynb\"><img src=\"data:image/png;base64,iVBORw0KGgoAAAANSUhEUgAAAE4AAAAUBAMAAADRkRa/AAAAMFBMVEX///8AAAAAAAAAAAAAAAAA\n",
       "AAAAAAAAAAAAAAAAAAAAAAAAAAAAAAAAAAAAAAAAAAAv3aB7AAAAD3RSTlMAEN27zYnvRFSrImZ2\n",
       "MpmnAiL6AAAACXBIWXMAAA7EAAAOxAGVKw4bAAABWklEQVQoz2NgwAcuF4Cp0KMM+AFjcAOQ5D7A\n",
       "bkBAIcPhDQwMbBcYfhFSx7D5AMN6AYYMBqHPJgIMYd8KUCS3JNs7JW+AsLctuC/AoM3AYME+gYHx\n",
       "A5opBisZKjcLgFii5gxAdTkMDJMWRDMwJKCrW8rAzDsByFg3lwFk7w8GhhkGLAsYFDDV8S1wYGBY\n",
       "CVQG9cesPVwOUHU8RkpKShfg6gwYJF+BhQ8AncYwi/PCUYg6XtcFSOZxCk5gEITwQs8BnTqLwYC5\n",
       "AKxOaAGyvZdbFqA4ZRbDPUZFsLrpSO5b5vTpIAOaOu6GZrB/HZD9sVsEFL/GQLAApo5hIidIHTgc\n",
       "4OqYpTegm8cgyQiylwtFHe8DQwx1vAfA6UEBJfzeLkZVZwvEZ8HqXqOoE+ZBtdgDiPnAXmBBJAaD\n",
       "dQzcG8yRlV35BjSLEayO0bIQkV6sGIz9G3CkNfZgWLxhAABn4lrufhPK/QAAAABJRU5ErkJggg==\n",
       "\" style=\"display:inline;vertical-align:middle;\" /></a><br>"
      ],
      "text/plain": [
       "<IPython.core.display.HTML object>"
      ]
     },
     "metadata": {},
     "output_type": "display_data"
    }
   ],
   "source": [
    "nat_within_real_nonneg = ProperSubset(Natural, RealNonNeg)"
   ]
  },
  {
   "cell_type": "code",
   "execution_count": 14,
   "metadata": {},
   "outputs": [
    {
     "data": {
      "text/html": [
       "<strong id=\"nat_pos_within_real_nonneg\"><a class=\"ProveItLink\" href=\"proofs/nat_pos_within_real_nonneg/thm_proof.ipynb\">nat_pos_within_real_nonneg</a> (conjecture without proof):<br></strong> <a class=\"ProveItLink\" href=\"../__pv_it/theorems/55e6a946ccf74f1f2ff22b9fb557846e646df5900/theorem_expr.ipynb\"><img src=\"data:image/png;base64,iVBORw0KGgoAAAANSUhEUgAAAFwAAAAUBAMAAADyykdqAAAAMFBMVEX///8AAAAAAAAAAAAAAAAA\n",
       "AAAAAAAAAAAAAAAAAAAAAAAAAAAAAAAAAAAAAAAAAAAv3aB7AAAAD3RSTlMAEN27zYnvRFSrImZ2\n",
       "MpmnAiL6AAAACXBIWXMAAA7EAAAOxAGVKw4bAAABbklEQVQoz2NgIAJcLgBToUeRBflwKmcMbgCS\n",
       "3AfYDZAEmfGYf3gDAwPbBYZfRCpn2HyAYb0AQwaD0GcTAYawbwXYlG9JtndK3gBhb1twX4BBm4HB\n",
       "gn0CA+MH7KYbrGSo3CwAYomaMwCV5zAwTFoQzcCQwPDY2MzYeAO68qUMzLwTgIx1cxlAjvnBwDDD\n",
       "gGUBgwIO05cy8C1wYGBYCVQN9eqsPVwOqMp5jJSUlC7AlRswSL4CCx8AOpthFueFoyjKeV0XIJnO\n",
       "KTiBQRDCCz0H9MYsBgPmAmTlQguQHXO5ZQGK+2Yx3GNUVECK1elIbl/m9OkgA5py7obmBCQBB2Sv\n",
       "7hYBpRljIFgAU84wkRNJOTjg4MqZpTegm84gyaiA4HOhKOd9YIihnPcAclJTQAn3t4tRldsC8Vlk\n",
       "5a9RlAvzoLrGAxQoSN5jYClAKF/HwL3BHFn1lW9AkxmRlTNaFiJSpBWDsX8D/rzGHgxLBBgAALtX\n",
       "XYRkPiZyAAAAAElFTkSuQmCC\n",
       "\" style=\"display:inline;vertical-align:middle;\" /></a><br>"
      ],
      "text/plain": [
       "<IPython.core.display.HTML object>"
      ]
     },
     "metadata": {},
     "output_type": "display_data"
    }
   ],
   "source": [
    "nat_pos_within_real_nonneg = ProperSubset(NaturalPos, RealNonNeg)"
   ]
  },
  {
   "cell_type": "code",
   "execution_count": 15,
   "metadata": {},
   "outputs": [
    {
     "data": {
      "text/html": [
       "<strong id=\"nonzero_int_within_real_nonzero\"><a class=\"ProveItLink\" href=\"proofs/nonzero_int_within_real_nonzero/thm_proof.ipynb\">nonzero_int_within_real_nonzero</a> (conjecture without proof):<br></strong> <a class=\"ProveItLink\" href=\"../__pv_it/theorems/d9de5d1c376945c870359b25a953e7af76fc2fce0/theorem_expr.ipynb\"><img src=\"data:image/png;base64,iVBORw0KGgoAAAANSUhEUgAAAGQAAAAVCAMAAACHQrsCAAAAOVBMVEX///8AAAAAAAAAAAAAAAAA\n",
       "AAAAAAAAAAAAAAAAAAAAAAAAAAAAAAAAAAAAAAAAAAAAAAAAAAAAAAACXHtMAAAAEnRSTlMAVM3v\n",
       "u91mdqsymYkiEETt5cn1eqECAAAACXBIWXMAAA7EAAAOxAGVKw4bAAABcElEQVRIx6VVCW7EIAwE\n",
       "Y84Abfn/Y2tMmm5XGKLUSogEZIbxhVKCFfVPuwFwVB4PfzzkuAGQQx+dV6riI447ACH30UQaWn5C\n",
       "cgOgssbcul+NfsDxDqDBNANoLRqnVMJuH/Q6FXmPdUs4BwaxgTU49s0BPIYuCvgZ5sf+scf4zamR\n",
       "A1CDwyICpHROHz9+KWeohtqm9yQHf2IQAThEND1WutrPL2S1NwN/kqTMrpgDsMYUFTuNRYZLdc/A\n",
       "8AfRU/DY4oQElwA0HdP102+tUi2l18qNcGRJSSglLAFo+lrRcqCLzaK7ImrIKwB9cG0Og0WFVSEm\n",
       "BmyzviwBXtNXV5kExMA7V2AN4PXZzjaNMwY5u7C4ZdFS7mZ8aTibpjcnobzB1Rkpdwd6aZuKsIs6\n",
       "STEv+jWdoY70DXZDkpxMQv7wssNIJXShGfX26oA6J+mHpJiglDTVYO+jSK0Yt7dgwVDLrAsj+RsR\n",
       "2pNrYXZR4Htb2ds3asoNqZpSCwkAAAAASUVORK5CYII=\n",
       "\" style=\"display:inline;vertical-align:middle;\" /></a><br>"
      ],
      "text/plain": [
       "<IPython.core.display.HTML object>"
      ]
     },
     "metadata": {},
     "output_type": "display_data"
    }
   ],
   "source": [
    "nonzero_int_within_real_nonzero = ProperSubset(IntegerNonZero, RealNonZero)"
   ]
  },
  {
   "cell_type": "code",
   "execution_count": 16,
   "metadata": {},
   "outputs": [
    {
     "data": {
      "text/html": [
       "<strong id=\"neg_int_within_real_neg\"><a class=\"ProveItLink\" href=\"proofs/neg_int_within_real_neg/thm_proof.ipynb\">neg_int_within_real_neg</a> (conjecture without proof):<br></strong> <a class=\"ProveItLink\" href=\"../__pv_it/theorems/4a589d037040628b115553220abe8e164e4b2d2a0/theorem_expr.ipynb\"><img src=\"data:image/png;base64,iVBORw0KGgoAAAANSUhEUgAAAFMAAAAQBAMAAACYUF7xAAAAMFBMVEX///8AAAAAAAAAAAAAAAAA\n",
       "AAAAAAAAAAAAAAAAAAAAAAAAAAAAAAAAAAAAAAAAAAAv3aB7AAAAD3RSTlMAVM3vu91mdqsymYki\n",
       "EESqKsraAAAACXBIWXMAAA7EAAAOxAGVKw4bAAABCklEQVQoz2NgVP6sEuqcwIANJJn4q5ogpNg9\n",
       "JjAoMDFgBw4nGF6kXIDxuBYwsCdsZOB0AQIfDKWnGVg4GximgCQPMHAcYLjC64DL1NMMXAcUYDxe\n",
       "BoaVHBNQFLC7hoaGToArRTKHs2EWikpO7QNIpnLcbUBIsVzwRVF69QCyA6YIIbgM0mwFKEr7kNx6\n",
       "WPVrLZIUelApIHsr7RKyJwT2MTBcQHY6slKWa0ixc4UH6MUeBJ8HRSnnAiSPdAJDlvcDkjUBKOG6\n",
       "8gjCvgWvGBg4kKQZlqEovcKegAgqXQYeR+ToYnqAUHqKgS3BD8Z77GTiYm+yAUkpr8dbRMryYXDR\n",
       "F2DACfi2wCIWBQAAIB9G8FP6iuUAAAAASUVORK5CYII=\n",
       "\" style=\"display:inline;vertical-align:middle;\" /></a><br>"
      ],
      "text/plain": [
       "<IPython.core.display.HTML object>"
      ]
     },
     "metadata": {},
     "output_type": "display_data"
    }
   ],
   "source": [
    "neg_int_within_real_neg = ProperSubset(IntegerNeg, RealNeg)"
   ]
  },
  {
   "cell_type": "code",
   "execution_count": 17,
   "metadata": {},
   "outputs": [
    {
     "data": {
      "text/html": [
       "<strong id=\"nonpos_int_within_real_nonpos\"><a class=\"ProveItLink\" href=\"proofs/nonpos_int_within_real_nonpos/thm_proof.ipynb\">nonpos_int_within_real_nonpos</a> (conjecture without proof):<br></strong> <a class=\"ProveItLink\" href=\"../__pv_it/theorems/6a65aceff16fbf0d59874e78055ca59aa3944f2b0/theorem_expr.ipynb\"><img src=\"data:image/png;base64,iVBORw0KGgoAAAANSUhEUgAAAGQAAAAUBAMAAACJ7oWmAAAAMFBMVEX///8AAAAAAAAAAAAAAAAA\n",
       "AAAAAAAAAAAAAAAAAAAAAAAAAAAAAAAAAAAAAAAAAAAv3aB7AAAAD3RSTlMAVM3vu91mdqsymYki\n",
       "EESqKsraAAAACXBIWXMAAA7EAAAOxAGVKw4bAAABr0lEQVQoz2NgQABGHwbu7RsYcAORAwy7q5EF\n",
       "GN0ZGNIZnuDRUcDAVsDngBBgcwMSlgz8B3DpSElgYGCewPAHLsDuCCR4/jIwC+DQUQKSOH+BwZCB\n",
       "UfmzSqhzAqchSJjzLwNrAqrKJBN/VROg2GSwUfMvMIQxsHtMYFBgAjp0L0QLcwGa6Q4nGF6kXGBg\n",
       "9L4A0WLOwLWAgT1hI5D3ZC/YYfzoDnM4zcDC2cDAwAfSA3TYRwaOAwxXeMGhMGMNVu8DtXAdUAA5\n",
       "oesAxPu8DAwrOSaAJU/0MpQzvICGhmtoaOgEuBawmTwdF9gL+BpAuhtmQQ08AIzKtWAWp/YBJFs4\n",
       "7jaAmTwMDLurQF5iueCLEaJXDyA7bIoQmmul2QowtPQh+eWw6tdaNGlQEDNwugCBD0IM2ftpl4DU\n",
       "FJACqGXsAvsYGC6gmsLZgKyF5Rpa9F7hAQZHD6oYD4oWzgVonu0ExgzvBzTHBqDEy8ojqG5Y8IqB\n",
       "gSMATcsyFC1X2FFcxnJBl4HH0QFNC9MDhJZTDGwJfsiSj51MXOxN0PMir8dbREr2YXDRF2AgCPi2\n",
       "wBIMBgAAW5VzGdX/RA0AAAAASUVORK5CYII=\n",
       "\" style=\"display:inline;vertical-align:middle;\" /></a><br>"
      ],
      "text/plain": [
       "<IPython.core.display.HTML object>"
      ]
     },
     "metadata": {},
     "output_type": "display_data"
    }
   ],
   "source": [
    "nonpos_int_within_real_nonpos = ProperSubset(IntegerNonPos, RealNonPos)"
   ]
  },
  {
   "cell_type": "code",
   "execution_count": 18,
   "metadata": {},
   "outputs": [
    {
     "data": {
      "text/html": [
       "<strong id=\"rational_within_real\"><a class=\"ProveItLink\" href=\"proofs/rational_within_real/thm_proof.ipynb\">rational_within_real</a> (conjecture without proof):<br></strong> <a class=\"ProveItLink\" href=\"../__pv_it/theorems/8df1d07ce62bd3dfae8607771ec77e778a1d3c670/theorem_expr.ipynb\"><img src=\"data:image/png;base64,iVBORw0KGgoAAAANSUhEUgAAADsAAAASBAMAAAAXqLt+AAAAMFBMVEX///8AAAAAAAAAAAAAAAAA\n",
       "AAAAAAAAAAAAAAAAAAAAAAAAAAAAAAAAAAAAAAAAAAAv3aB7AAAAD3RSTlMAEIm7mSJ2q+8y3WZE\n",
       "zVRISQrpAAAACXBIWXMAAA7EAAAOxAGVKw4bAAABDUlEQVQoz2NgYBAyNnZlQAN7m+1vNW8Asdgq\n",
       "JrAuV0CXNwhnOL5ZAMjQ1mZgOHIYQzqIgZmzgIGBU+ECAwMzdwKmNEsASEYQqIZpwgWwIJvVqlWr\n",
       "JsClDRgYhDmBGvkeeILEOC8FIOlmB2mcxAN0IM+GfSAxqQBkwye/BXKPcT8Aakt4DRKrQbI74tav\n",
       "RCAdxAfWnQMSu4DstN2yIJoZYrcjyOoCZGlmaVCwMIvCXc6KIs3pYAikeSD+fgASW4Dib89gEMMb\n",
       "GGrHIaHmjSItzAYynQkU5g5gMd4DCOkQBu4NNiBWyN/7nhAxRvODiBgzZTC+D7ayEh7iPMqwQEUC\n",
       "7AnpLw8w4AbPbSFRjwkApNtJpbpIiBIAAAAASUVORK5CYII=\n",
       "\" style=\"display:inline;vertical-align:middle;\" /></a><br>"
      ],
      "text/plain": [
       "<IPython.core.display.HTML object>"
      ]
     },
     "metadata": {},
     "output_type": "display_data"
    }
   ],
   "source": [
    "rational_within_real = ProperSubset(Rational, Real)"
   ]
  },
  {
   "cell_type": "code",
   "execution_count": 19,
   "metadata": {},
   "outputs": [
    {
     "data": {
      "text/html": [
       "<strong id=\"rational_nonzero_within_real_nonzero\"><a class=\"ProveItLink\" href=\"proofs/rational_nonzero_within_real_nonzero/thm_proof.ipynb\">rational_nonzero_within_real_nonzero</a> (conjecture without proof):<br></strong> <a class=\"ProveItLink\" href=\"../__pv_it/theorems/251e31d499cf09369a327520083767933da61bc00/theorem_expr.ipynb\"><img src=\"data:image/png;base64,iVBORw0KGgoAAAANSUhEUgAAAGYAAAAXCAMAAADOf8o0AAAAOVBMVEX///8AAAAAAAAAAAAAAAAA\n",
       "AAAAAAAAAAAAAAAAAAAAAAAAAAAAAAAAAAAAAAAAAAAAAAAAAAAAAAACXHtMAAAAEnRSTlMAEIm7\n",
       "mSJ2q+8y3WZEzVTt5cnMFh2FAAAACXBIWXMAAA7EAAAOxAGVKw4bAAABjklEQVRIx7VVB3LEIAwE\n",
       "RLEAkYT/PzY021cAEyfRzGHPGXZVF8aGxtkvbQlA+LIKLW6yLAEok1enGfNwi2UNwKi8bpiWqO7Q\n",
       "LAH4EqmKOb9buMHSAeACksnKKfM7fKSfY1h2WTcFdLQBRLIbuCmANjk0Zc1ZK11P1F2bvvAcSiG8\n",
       "ccDHAMKJ8p+XR614e6kxx3BNI8oDzRAABaN9d+6LHPPnF5SYF1ug0aSsExsBAOfNB4GN8HCK6dyP\n",
       "5glTg62GHZoWxDtACg9b7kNgspw9U5ynSz5OM5JQo2jM4fA7QMqZb52Uni6XIYxLzq0aJg0hUP3a\n",
       "AfC6YmdPNQuZkSYz5we12chGq1sQHYDkRzij0Qkm+DENDVvAOb5/7AI812auqmjGnQbczcYYuHrt\n",
       "tAs57NOgfKx8T3zOubkaRDuZG4lqpuVyVwFzLfnSjWnSaOhZ2sSuafJaeKlfXpWPptqAn6VcRqIo\n",
       "ceXiBeN5T6EhCwrQXP8MFj1bu0jgVWx+cNfpdB8E9OyfLRig/WL6e/sGyfwNJP1udLkAAAAASUVO\n",
       "RK5CYII=\n",
       "\" style=\"display:inline;vertical-align:middle;\" /></a><br>"
      ],
      "text/plain": [
       "<IPython.core.display.HTML object>"
      ]
     },
     "metadata": {},
     "output_type": "display_data"
    }
   ],
   "source": [
    "rational_nonzero_within_real_nonzero = ProperSubset(RationalNonZero, RealNonZero)"
   ]
  },
  {
   "cell_type": "code",
   "execution_count": 20,
   "metadata": {},
   "outputs": [
    {
     "data": {
      "text/html": [
       "<strong id=\"rational_pos_within_real_pos\"><a class=\"ProveItLink\" href=\"proofs/rational_pos_within_real_pos/thm_proof.ipynb\">rational_pos_within_real_pos</a> (conjecture without proof):<br></strong> <a class=\"ProveItLink\" href=\"../__pv_it/theorems/d097f05075cc16a5aec0fe108e259d95d85de6750/theorem_expr.ipynb\"><img src=\"data:image/png;base64,iVBORw0KGgoAAAANSUhEUgAAAFQAAAAVBAMAAAAqQdQ7AAAAMFBMVEX///8AAAAAAAAAAAAAAAAA\n",
       "AAAAAAAAAAAAAAAAAAAAAAAAAAAAAAAAAAAAAAAAAAAv3aB7AAAAD3RSTlMAEIm7mSJ2q+8y3WZE\n",
       "zVRISQrpAAAACXBIWXMAAA7EAAAOxAGVKw4bAAABMUlEQVQoz2NgQAAHBtwATc4Aj1IDUpUKGRu7\n",
       "YlfKfcP47wprhBxbxQTW5QrYTWVmLeCpNoTLaWszMBw5zMBibNxsbI2hVIHBYDpMjlPhAlCIOwGH\n",
       "qQoMrrwwU5kFCxgYmCZcQFaavGrVqpVwpcwwpcKcQAP5HngiKZ2rimxqoThM6SSeDQwMPBv2IZQy\n",
       "LkV2AKfdVZjSY9wPGBg4E14jYoT9AJLS3vXLBGCxFcQHNjUH4RdeZG9pb7yA4EHc6oiQn44SAoa7\n",
       "ETxReAhAQTiK0inMAjAeDyRcHyDkuVCUskxFBLc3MLaOH0YKd5YNyEoZDbLhXCZQGkBJjneQlDow\n",
       "7GZGhEjI3/ueKNEpXCMAT1mfA5ht/yGkKsEpAAkcsoJGLAZgT0h/eYCBOPDctnkDYVUA7HlJvPq8\n",
       "mWMAAAAASUVORK5CYII=\n",
       "\" style=\"display:inline;vertical-align:middle;\" /></a><br>"
      ],
      "text/plain": [
       "<IPython.core.display.HTML object>"
      ]
     },
     "metadata": {},
     "output_type": "display_data"
    }
   ],
   "source": [
    "rational_pos_within_real_pos = ProperSubset(RationalPos, RealPos)"
   ]
  },
  {
   "cell_type": "code",
   "execution_count": 21,
   "metadata": {},
   "outputs": [
    {
     "data": {
      "text/html": [
       "<strong id=\"rational_neg_within_real_neg\"><a class=\"ProveItLink\" href=\"proofs/rational_neg_within_real_neg/thm_proof.ipynb\">rational_neg_within_real_neg</a> (conjecture without proof):<br></strong> <a class=\"ProveItLink\" href=\"../__pv_it/theorems/510f259f9fab6de13086be01c0db803a3785d6540/theorem_expr.ipynb\"><img src=\"data:image/png;base64,iVBORw0KGgoAAAANSUhEUgAAAFUAAAASBAMAAADYho+9AAAAMFBMVEX///8AAAAAAAAAAAAAAAAA\n",
       "AAAAAAAAAAAAAAAAAAAAAAAAAAAAAAAAAAAAAAAAAAAv3aB7AAAAD3RSTlMAEIm7mSJ2q+8y3WZE\n",
       "zVRISQrpAAAACXBIWXMAAA7EAAAOxAGVKw4bAAABJklEQVQoz2NgYBAyNnZlwA72Ntvfat6A4LNV\n",
       "TGBdroBDsUE4w/HNAnCutjYDw5HDDJzGQGCKoTaIgZmzgGEySDKAgVPhAgMDM3cCDnODGFgCLsB4\n",
       "zIIFDAxMEy4gq2CzWrVq1QS4WgOYuDAn0Ei+B55ISjkvBSCZyw4yDAIm8QD9ybNhH5JaqQBkN0x+\n",
       "C+ce434ANCnhNZLaGiT3Rtz6lQjnBfGBzc1BUnsB2W+7ZRE8Zoh7HZGcW4CsllkaERfMoujhwIqi\n",
       "ltPBEM7jgYTvAyQ3LEAJX89gBNcbGG/HDyMHrzeKWmE2hCOYQOnBAVkt7wGE2hAG7g02CKmQv/c9\n",
       "USKW0fwgIp2ZMhjfR3JgJXpq4FGGxTEGYE9If3mAgUjw3BY5QeMEADBMTF5Zx/ZHAAAAAElFTkSu\n",
       "QmCC\n",
       "\" style=\"display:inline;vertical-align:middle;\" /></a><br>"
      ],
      "text/plain": [
       "<IPython.core.display.HTML object>"
      ]
     },
     "metadata": {},
     "output_type": "display_data"
    }
   ],
   "source": [
    "rational_neg_within_real_neg = ProperSubset(RationalNeg, RealNeg)"
   ]
  },
  {
   "cell_type": "code",
   "execution_count": 22,
   "metadata": {},
   "outputs": [
    {
     "data": {
      "text/html": [
       "<strong id=\"rational_nonneg_within_real_nonneg\"><a class=\"ProveItLink\" href=\"proofs/rational_nonneg_within_real_nonneg/thm_proof.ipynb\">rational_nonneg_within_real_nonneg</a> (conjecture without proof):<br></strong> <a class=\"ProveItLink\" href=\"../__pv_it/theorems/ec92e2d826c1efa93488bfcfa69c5111585d84df0/theorem_expr.ipynb\"><img src=\"data:image/png;base64,iVBORw0KGgoAAAANSUhEUgAAAGYAAAAWBAMAAADA0/SQAAAAMFBMVEX///8AAAAAAAAAAAAAAAAA\n",
       "AAAAAAAAAAAAAAAAAAAAAAAAAAAAAAAAAAAAAAAAAAAv3aB7AAAAD3RSTlMAEIm7mSJ2q+8y3WZE\n",
       "zVRISQrpAAAACXBIWXMAAA7EAAAOxAGVKw4bAAABxklEQVQ4y2NggAJOGzDFpKbAgB1MPgCmlJKQ\n",
       "xITsQOQ2hsM49DAqPwCS3Ak8BkiCbNZAopOBPwCHJobkDQwMHBMYviKLcZsxsH5k4HiASw/D5gSG\n",
       "eAGGPpCjjI1doZpaOT8ycG1AVbi32f5WM1RsR8B8AYbVQCdVTGBdrgBx8QGgHo4ENNMNwhmObxYA\n",
       "e9mGAainjYFBW5uB4QjI46zuE0Bu40d3m0EQAzNnAZARUskActs/Bk6FCwwMzNwJDKzlE7CHAVAP\n",
       "SwBQUThQCyQMmAWBRjBNuMBYAlabxnAcGopWq1atmgDXY8AgDvY0WwJPAYMwJ9D9fA88GQWgceoI\n",
       "ieJLAUj2sAMNFoTwlFIEGCbxAMOEZ8M+NAdJBSC7bfJbFAcf4wb6mTPhNZqeGiT/RNz6lYgiGcQH\n",
       "tieH0xgITOHCF5DDYLcsKL2BFECsY4b4xxHVGnDYwvUwS6PGM7MoJNxQ9bCi6OF0MESR5YHED3pE\n",
       "LkCJH89gVFlvYDo4jpEBvFH0CLOhOo4JlN4c0PXwHkDoCWHg3mCDKh3y974nZg4zP4hI16YMxvfR\n",
       "HF/JnYCZV3iUYWkHK2BPSH95gIFE8Ny2eQMJygHtRnA6YVH1+QAAAABJRU5ErkJggg==\n",
       "\" style=\"display:inline;vertical-align:middle;\" /></a><br>"
      ],
      "text/plain": [
       "<IPython.core.display.HTML object>"
      ]
     },
     "metadata": {},
     "output_type": "display_data"
    }
   ],
   "source": [
    "rational_nonneg_within_real_nonneg = ProperSubset(RationalNonNeg, RealNonNeg)"
   ]
  },
  {
   "cell_type": "code",
   "execution_count": 23,
   "metadata": {},
   "outputs": [
    {
     "data": {
      "text/html": [
       "<strong id=\"rational_nonpos_within_real_nonpos\"><a class=\"ProveItLink\" href=\"proofs/rational_nonpos_within_real_nonpos/thm_proof.ipynb\">rational_nonpos_within_real_nonpos</a> (conjecture without proof):<br></strong> <a class=\"ProveItLink\" href=\"../__pv_it/theorems/c3cb6f3dbd5ad952886834c063d15dbf335085a70/theorem_expr.ipynb\"><img src=\"data:image/png;base64,iVBORw0KGgoAAAANSUhEUgAAAGYAAAAWBAMAAADA0/SQAAAAMFBMVEX///8AAAAAAAAAAAAAAAAA\n",
       "AAAAAAAAAAAAAAAAAAAAAAAAAAAAAAAAAAAAAAAAAAAv3aB7AAAAD3RSTlMAEIm7mSJ2q+8y3WZE\n",
       "zVRISQrpAAAACXBIWXMAAA7EAAAOxAGVKw4bAAAByElEQVQ4y2NgQAJ8pgxMagoMuMHjAAalJBQR\n",
       "PjMGhm0Mh/FoSWDgTuAxQBLhtgYSnQz8Abi0bN7AwMAxgeErQoTNDkiwfmTgeIBDSzJIIl6AoQ9I\n",
       "CRkbuzIwcIKYDJwfGbg2oCrd22x/qxkoNgNs1nwBhtVA8ysmsC4HevyxIkQPRwKa+QbhDMc3CzDw\n",
       "GQlA9LQxMGhrMzAcAXn8sCLYbfzobjMIYmDmLGBg4AFpArrtHwOnwgUGBmZukOHTXbGGAVAPS8AF\n",
       "kCNKAiBhwCwINIJpAkiMIbyQIY3hODRIrFatWjUBrgccwKzlAmwJPAUMwpxAK/geeIIVBgDj1BHM\n",
       "4rwUgGQPO8hgkCYGBqUUAYZJPMAw4dmwD81BUgHIbpv8FsXBx7iBfuZMeI2mpwbJPxG3fiWiSAbx\n",
       "ge3J4TQGAlO48AXkMNgtC6QmgxRArGOG+McR1RrOAmQ9zNKo8cwsigg3BGBF0cPpYIgiywOJH/SI\n",
       "XIASP57BqLLewHRwHCMDeKPoEWZDdRwTKL05oOvhPYDQE8LAvcEGVTrk731PjITPaH4Qka5NGYzv\n",
       "ozm+kjsBM7fwKMPSDlbAnpD+8gADieC5bfMGEpQDAE3VcShwN5VPAAAAAElFTkSuQmCC\n",
       "\" style=\"display:inline;vertical-align:middle;\" /></a><br>"
      ],
      "text/plain": [
       "<IPython.core.display.HTML object>"
      ]
     },
     "metadata": {},
     "output_type": "display_data"
    }
   ],
   "source": [
    "rational_nonpos_within_real_nonpos = ProperSubset(RationalNonPos, RealNonPos)"
   ]
  },
  {
   "cell_type": "code",
   "execution_count": 24,
   "metadata": {},
   "outputs": [
    {
     "data": {
      "text/html": [
       "<strong id=\"real_nonzero_within_real\"><a class=\"ProveItLink\" href=\"proofs/real_nonzero_within_real/thm_proof.ipynb\">real_nonzero_within_real</a> (conjecture without proof):<br></strong> <a class=\"ProveItLink\" href=\"../__pv_it/theorems/bf04918f42d428143d2ba7ea4b674736b498e8740/theorem_expr.ipynb\"><img src=\"data:image/png;base64,iVBORw0KGgoAAAANSUhEUgAAAFAAAAAVCAMAAADmWplAAAAAOVBMVEX///8AAAAAAAAAAAAAAAAA\n",
       "AAAAAAAAAAAAAAAAAAAAAAAAAAAAAAAAAAAAAAAAAAAAAAAAAAAAAAACXHtMAAAAEnRSTlMAZs3v\n",
       "u90iq0QQiTKZVHbt5clcYUjMAAAACXBIWXMAAA7EAAAOxAGVKw4bAAABKUlEQVQ4y62UCY7DIAxF\n",
       "bTD7MjPc/7DD1oRUEFoplkr0lfDqHWBlBp41q+tpo32GJ1U5MQJoegSoZDm5y0eSD/B0DVSmkkge\n",
       "vrqKjBMlJjhh1Z6K/eQfgqtAgV8BAKgmTCuko7CxvWtAHjc+vQOytvXh1Ktjeh1ayCnsgRdA114C\n",
       "6yH//lEN+cOiXAGj7o4dnkIsbaMutyOJZm4CpFErY/rVM5elsf04Mo5ZufLwADTtKLD2bVgXwQi5\n",
       "DPkEZM2ZSCJ2V9hNu+tFDi+A8geI5sUJeg1ky6IMgOYxGcTtEDi1rvIAqNr5sRa3G2MOHAAtp97J\n",
       "/VoRN314AprO0xG3QXtcA09A1r4MOQLpHZHpOXAAtGVBuYOI2HZsDSltZtvmU8BsU9L76F3sH7zW\n",
       "CeNhpJrxAAAAAElFTkSuQmCC\n",
       "\" style=\"display:inline;vertical-align:middle;\" /></a><br>"
      ],
      "text/plain": [
       "<IPython.core.display.HTML object>"
      ]
     },
     "metadata": {},
     "output_type": "display_data"
    }
   ],
   "source": [
    "real_nonzero_within_real = ProperSubset(RealNonZero, Real)"
   ]
  },
  {
   "cell_type": "code",
   "execution_count": 25,
   "metadata": {},
   "outputs": [
    {
     "data": {
      "text/html": [
       "<strong id=\"real_pos_within_real\"><a class=\"ProveItLink\" href=\"proofs/real_pos_within_real/thm_proof.ipynb\">real_pos_within_real</a> (conjecture without proof):<br></strong> <a class=\"ProveItLink\" href=\"../__pv_it/theorems/bd73ce70a0a8e7d28033acc41a9cec16477020810/theorem_expr.ipynb\"><img src=\"data:image/png;base64,iVBORw0KGgoAAAANSUhEUgAAAEcAAAATBAMAAAAwgQ3NAAAAMFBMVEX///8AAAAAAAAAAAAAAAAA\n",
       "AAAAAAAAAAAAAAAAAAAAAAAAAAAAAAAAAAAAAAAAAAAv3aB7AAAAD3RSTlMAZs3vu90iq0QQiTKZ\n",
       "VHZ+Ip2vAAAACXBIWXMAAA7EAAAOxAGVKw4bAAAA2ElEQVQoz2NggAMeBiIAC4WKhEz8VU0EsCtC\n",
       "yDmkM7SLTMBuElzOIYuBhbuA4YiLs4uLALoiiByYwZOggMMkmByY4YCi6EloaGg0A7IckME+swBZ\n",
       "0aZlSCZB5ICMLZcSkBRxhiFbB5FzSFb9+hI5xNkbEIpgcg5ZgpNQXMuE7HConEMWy0QUr29HVgSV\n",
       "c8jiPuCJrCgdWRFUDui40ynIilhRwgkiB2RM4UO2j0cAWRFEziGHgVHAA9koDYQiqBwwpt0YXPQv\n",
       "ICmaUjEBngrQ5RCgyxUaLVAAAE/QO78Jjuh2AAAAAElFTkSuQmCC\n",
       "\" style=\"display:inline;vertical-align:middle;\" /></a><br>"
      ],
      "text/plain": [
       "<IPython.core.display.HTML object>"
      ]
     },
     "metadata": {},
     "output_type": "display_data"
    }
   ],
   "source": [
    "real_pos_within_real = ProperSubset(RealPos, Real)"
   ]
  },
  {
   "cell_type": "code",
   "execution_count": 26,
   "metadata": {},
   "outputs": [
    {
     "data": {
      "text/html": [
       "<strong id=\"real_pos_within_real_nonzero\"><a class=\"ProveItLink\" href=\"proofs/real_pos_within_real_nonzero/thm_proof.ipynb\">real_pos_within_real_nonzero</a> (conjecture without proof):<br></strong> <a class=\"ProveItLink\" href=\"../__pv_it/theorems/6dfc187ef62413178b73823fde6c9090cb96f0a90/theorem_expr.ipynb\"><img src=\"data:image/png;base64,iVBORw0KGgoAAAANSUhEUgAAAFwAAAAVCAMAAAD8ZnnOAAAAOVBMVEX///8AAAAAAAAAAAAAAAAA\n",
       "AAAAAAAAAAAAAAAAAAAAAAAAAAAAAAAAAAAAAAAAAAAAAAAAAAAAAAACXHtMAAAAEnRSTlMAZs3v\n",
       "u90iq0QQiTKZVHbt5clcYUjMAAAACXBIWXMAAA7EAAAOxAGVKw4bAAABJ0lEQVQ4y7VV2W7EIAw0\n",
       "xtxHW/7/Y8uRhmgVawPaWgp5mZkYj+0AfDoc/F9420+fPYeI29ratFNkAEsMhLbFjW6nDPUo+sPi\n",
       "thdDl1Z4mUCgJCqoJIkl8VdepBZf9REQurgSXakVyhpBbinzG14eHxriMg+Q769g/jKQ1DN4K37h\n",
       "9S48khplKWmCogZczfzCa0l9/xxJTUMniHjxTGpEuBE/4OcNILdWNBeQcc5w4gG95jKfvFn7NkTR\n",
       "TVCghJoRd0qzZZm8lO9BElVR2XETaiw84CFnjBAOeesQHvCSZV0nJ9jWm0at8U5QiFc/7pbROm8a\n",
       "E4Nmu1tt8k5Qna7MXTCKPd4Ate6otSPLOWr3eGO7UW1VIuzr4O7XRca6Dd7jRU2v4/8+fgEF2gpL\n",
       "czQgHwAAAABJRU5ErkJggg==\n",
       "\" style=\"display:inline;vertical-align:middle;\" /></a><br>"
      ],
      "text/plain": [
       "<IPython.core.display.HTML object>"
      ]
     },
     "metadata": {},
     "output_type": "display_data"
    }
   ],
   "source": [
    "real_pos_within_real_nonzero = ProperSubset(RealPos, RealNonZero)"
   ]
  },
  {
   "cell_type": "code",
   "execution_count": 27,
   "metadata": {},
   "outputs": [
    {
     "data": {
      "text/html": [
       "<strong id=\"real_pos_within_real_nonneg\"><a class=\"ProveItLink\" href=\"proofs/real_pos_within_real_nonneg/thm_proof.ipynb\">real_pos_within_real_nonneg</a> (conjecture without proof):<br></strong> <a class=\"ProveItLink\" href=\"../__pv_it/theorems/46144c6a75b4d9d28f82aa6d39dd91e8eb37770c0/theorem_expr.ipynb\"><img src=\"data:image/png;base64,iVBORw0KGgoAAAANSUhEUgAAAFwAAAAUBAMAAADyykdqAAAAMFBMVEX///8AAAAAAAAAAAAAAAAA\n",
       "AAAAAAAAAAAAAAAAAAAAAAAAAAAAAAAAAAAAAAAAAAAv3aB7AAAAD3RSTlMAZs3vu90iq0QQiTKZ\n",
       "VHZ+Ip2vAAAACXBIWXMAAA7EAAAOxAGVKw4bAAABKElEQVQoz2NgIAJsaQBTq14hC/LgVM655AKQ\n",
       "ZHzA4YAkyILH/CcCDAzMGxi+EamcQeQBQ/4EBlsGIRN/VRMB7MoRcgwMwgn7JzAEMjA4pDO0i0zA\n",
       "bjpcjmGWBwNQuR1QKIuBhbuA4YiLs4uLALpyiBwDQ041A8gxf8FCPAkKOEyHyqUDVUO9ChZyQFbO\n",
       "5xoaGroBrtyBYfoxsPADjgKwEPvMAiTl3FoJSKaD5GZCeKveTAALbbmUgKR8agKyYyBySO5LVv36\n",
       "EjlWK7DIIXtHcBKKgAKG3BYXIEiACbFMRA5AcMAxYJcDC3Ef8ETisxXgloN453QKskAAHjmw0BQ+\n",
       "ZBsP4pEDCuUwMAp4IAkwNeCWA6U6NwYX/QtImcG9E6ccNsCxBJYIMAAAeQhYF/THIuIAAAAASUVO\n",
       "RK5CYII=\n",
       "\" style=\"display:inline;vertical-align:middle;\" /></a><br>"
      ],
      "text/plain": [
       "<IPython.core.display.HTML object>"
      ]
     },
     "metadata": {},
     "output_type": "display_data"
    }
   ],
   "source": [
    "real_pos_within_real_nonneg = ProperSubset(RealPos, RealNonNeg)"
   ]
  },
  {
   "cell_type": "code",
   "execution_count": 28,
   "metadata": {},
   "outputs": [
    {
     "data": {
      "text/html": [
       "<strong id=\"real_neg_within_real\"><a class=\"ProveItLink\" href=\"proofs/real_neg_within_real/thm_proof.ipynb\">real_neg_within_real</a> (conjecture without proof):<br></strong> <a class=\"ProveItLink\" href=\"../__pv_it/theorems/b13ba5e21a58d7102c7d1a855bae69878a7d58310/theorem_expr.ipynb\"><img src=\"data:image/png;base64,iVBORw0KGgoAAAANSUhEUgAAAEgAAAAQBAMAAABHHiTuAAAAMFBMVEX///8AAAAAAAAAAAAAAAAA\n",
       "AAAAAAAAAAAAAAAAAAAAAAAAAAAAAAAAAAAAAAAAAAAv3aB7AAAAD3RSTlMAZs3vu90iq0QQiTKZ\n",
       "VHZ+Ip2vAAAACXBIWXMAAA7EAAAOxAGVKw4bAAAA8klEQVQoz2MQMvFXNRFgwAoYlV0+BTuCWA7p\n",
       "DO0iE7CrYmEr4Cj0BCnKYmDhLmDY4gIECRiKFjA4bIco4klQwGXSAoZjTDBFDihyT0JDQ6Philgg\n",
       "ithnFiCr2bQM2aTK6RBFWy4hO4YzDNk6bl81kKJk1a8vkQ1ib0BSZBQfNwFskuAkFBcxITt8oSTY\n",
       "Tw5ZLBNRAnM7iu88BSGKuA94IitKR1G0hwViHcPpFGRFrCiKeLY5QBRN4UO2j0cAWRGnw0OQohwG\n",
       "RgEPZKM0kBQdYBBkaWAApgI3Bhf9C0iKplRMgKeCLwksTn+xRlmXKzRaoAAAVpk7fc4KS20AAAAA\n",
       "SUVORK5CYII=\n",
       "\" style=\"display:inline;vertical-align:middle;\" /></a><br>"
      ],
      "text/plain": [
       "<IPython.core.display.HTML object>"
      ]
     },
     "metadata": {},
     "output_type": "display_data"
    }
   ],
   "source": [
    "real_neg_within_real = ProperSubset(RealNeg, Real)"
   ]
  },
  {
   "cell_type": "code",
   "execution_count": 29,
   "metadata": {},
   "outputs": [
    {
     "data": {
      "text/html": [
       "<strong id=\"real_neg_within_real_nonzero\"><a class=\"ProveItLink\" href=\"proofs/real_neg_within_real_nonzero/thm_proof.ipynb\">real_neg_within_real_nonzero</a> (conjecture without proof):<br></strong> <a class=\"ProveItLink\" href=\"../__pv_it/theorems/ccf2fae23310bea2ddd3f2c7a986613da882f04d0/theorem_expr.ipynb\"><img src=\"data:image/png;base64,iVBORw0KGgoAAAANSUhEUgAAAF0AAAAVCAMAAAATpBLwAAAAOVBMVEX///8AAAAAAAAAAAAAAAAA\n",
       "AAAAAAAAAAAAAAAAAAAAAAAAAAAAAAAAAAAAAAAAAAAAAAAAAAAAAAACXHtMAAAAEnRSTlMAZs3v\n",
       "u90iq0QQiTKZVHbt5clcYUjMAAAACXBIWXMAAA7EAAAOxAGVKw4bAAABIElEQVQ4y7VU7ZLDIAhE\n",
       "RfG7d77/w17Upjqd0EuclJmQH9ndKAsA3B4Ovhjetuyz/4K4oZpFBrB4vzqZmlXYUjF3i9tWD1Nq\n",
       "8VUCIRVikVqhuKbzToxY47E9AkJT1/UDtlpZEnjR7QNi7n/q6ip3kG+vUA0JuIc5oT4RWzM+jeyV\n",
       "KWmAogF5+ewTsVbm5xdbZSZXB+hTC2XUPcKB+pP4ugPk2pE0gcg5YrWD9IY7+yBOxm3TFN0ABUyS\n",
       "rbTThq3MIKZ8DFJSF535liELJ4iSM0cI98lSCSeIybLWoxP8NAWCNeIOChH4YTK0SHyZE4PhG1Kv\n",
       "EnfQNmaZvWIUi8QGinUrCUDL2mrXiH3V1aWCKNtmOGx4JOtWiKcXN75vgv/jD2hRChhSHxj0AAAA\n",
       "AElFTkSuQmCC\n",
       "\" style=\"display:inline;vertical-align:middle;\" /></a><br>"
      ],
      "text/plain": [
       "<IPython.core.display.HTML object>"
      ]
     },
     "metadata": {},
     "output_type": "display_data"
    }
   ],
   "source": [
    "real_neg_within_real_nonzero = ProperSubset(RealNeg, RealNonZero)"
   ]
  },
  {
   "cell_type": "code",
   "execution_count": 30,
   "metadata": {},
   "outputs": [
    {
     "data": {
      "text/html": [
       "<strong id=\"real_neg_within_real_nonpos\"><a class=\"ProveItLink\" href=\"proofs/real_neg_within_real_nonpos/thm_proof.ipynb\">real_neg_within_real_nonpos</a> (conjecture without proof):<br></strong> <a class=\"ProveItLink\" href=\"../__pv_it/theorems/75b4e9416b097a2458f0f3e83b0c93eba25fa88d0/theorem_expr.ipynb\"><img src=\"data:image/png;base64,iVBORw0KGgoAAAANSUhEUgAAAFwAAAAUBAMAAADyykdqAAAAMFBMVEX///8AAAAAAAAAAAAAAAAA\n",
       "AAAAAAAAAAAAAAAAAAAAAAAAAAAAAAAAAAAAAAAAAAAv3aB7AAAAD3RSTlMAZs3vu90iq0QQiTKZ\n",
       "VHZ+Ip2vAAAACXBIWXMAAA7EAAAOxAGVKw4bAAABGElEQVQoz2NgIBJcSWBY9YqBaNUPGBgfcDgQ\n",
       "qVpEgIGBeQPDN+JUP7kAJPInMNgyCJn4q5oIYFcFk9sMUs2wfwJDIAODQzpDu8gE7OqhcrxeEyDK\n",
       "7YBCWQws3AUMW1yAIAFdOUSOgQOkHuiYv2AhngQFHKbD5LhrEqBeBQuhhBCfa2ho6Aa4crAcW/kE\n",
       "vgccBWAh9pkFSKq5tRKQTIfJsTEwrHozASy05RKyo6cmIDsGVQ4olKz69SWyQAUeOZAJgpNQBBQw\n",
       "5JBDzSGLZSJyNHEXICtHlQMLcR/wROKzFeCWg3jndAqyQAAeObDQFD5kGw/ikQMK5TAwCnggCTA1\n",
       "4JYDpTo3Bhf9CwgRTvdOnHLYAMcSWCLAAAAz/lh5Nax3ngAAAABJRU5ErkJggg==\n",
       "\" style=\"display:inline;vertical-align:middle;\" /></a><br>"
      ],
      "text/plain": [
       "<IPython.core.display.HTML object>"
      ]
     },
     "metadata": {},
     "output_type": "display_data"
    }
   ],
   "source": [
    "real_neg_within_real_nonpos = ProperSubset(RealNeg, RealNonPos)"
   ]
  },
  {
   "cell_type": "code",
   "execution_count": 31,
   "metadata": {},
   "outputs": [
    {
     "data": {
      "text/html": [
       "<strong id=\"real_nonneg_within_real\"><a class=\"ProveItLink\" href=\"proofs/real_nonneg_within_real/thm_proof.ipynb\">real_nonneg_within_real</a> (conjecture without proof):<br></strong> <a class=\"ProveItLink\" href=\"../__pv_it/theorems/2ef1e0f12496727d8e1f06480ad694d34a1802400/theorem_expr.ipynb\"><img src=\"data:image/png;base64,iVBORw0KGgoAAAANSUhEUgAAAFAAAAAUBAMAAADo9qfkAAAAMFBMVEX///8AAAAAAAAAAAAAAAAA\n",
       "AAAAAAAAAAAAAAAAAAAAAAAAAAAAAAAAAAAAAAAAAAAv3aB7AAAAD3RSTlMAZs3vu90iq0QQiTKZ\n",
       "VHZ+Ip2vAAAACXBIWXMAAA7EAAAOxAGVKw4bAAABSklEQVQoz2NggIItDWBq1SsGAoBzyQUgyfiA\n",
       "w4GQSoYnAgwMzBsYvhFUyCDygCF/AoMtDlkhE39VEwEIWzhh/wSGQFR5RmWXT8GOIJZDOkO7yAQQ\n",
       "a5YHA1ChHZpJLGwFHIWeIIVZDCzcBUBGTjUDyOq/GAoXMDhshyjkSVBgYEgHqsPmGZDCY0wwhQ4M\n",
       "04+BRPkecBRAwyA0NDQarpAFopB9ZgHDTIj8qjdg5zJsWoZsYuV0iMItlxLQgz8M2WpuXzWQwmTV\n",
       "ry/RA429AUmhUXzcBLCJgpNAce0CBHCDmZA9s1BSARyOWSwTBdBN3I7ia09BiELuA57oCtNRFO5h\n",
       "gVjNcDoFXSErikKebQ4QhVP40O3mEUBWyOnwEKQwh4FRwAPdSA0khQcYBFkaQKnHjcFF/wKawikV\n",
       "E+Cp50sCi9NfnImzyxUahVAAANVrVSo/4jjXAAAAAElFTkSuQmCC\n",
       "\" style=\"display:inline;vertical-align:middle;\" /></a><br>"
      ],
      "text/plain": [
       "<IPython.core.display.HTML object>"
      ]
     },
     "metadata": {},
     "output_type": "display_data"
    }
   ],
   "source": [
    "real_nonneg_within_real = ProperSubset(RealNonNeg, Real)"
   ]
  },
  {
   "cell_type": "code",
   "execution_count": 32,
   "metadata": {},
   "outputs": [
    {
     "data": {
      "text/html": [
       "<strong id=\"real_nonpos_within_real\"><a class=\"ProveItLink\" href=\"proofs/real_nonpos_within_real/thm_proof.ipynb\">real_nonpos_within_real</a> (conjecture without proof):<br></strong> <a class=\"ProveItLink\" href=\"../__pv_it/theorems/cc0243b2c5d9ccee9195b40724696e6beb7dad3f0/theorem_expr.ipynb\"><img src=\"data:image/png;base64,iVBORw0KGgoAAAANSUhEUgAAAFAAAAAUBAMAAADo9qfkAAAAMFBMVEX///8AAAAAAAAAAAAAAAAA\n",
       "AAAAAAAAAAAAAAAAAAAAAAAAAAAAAAAAAAAAAAAAAAAv3aB7AAAAD3RSTlMAZs3vu90iq0QQiTKZ\n",
       "VHZ+Ip2vAAAACXBIWXMAAA7EAAAOxAGVKw4bAAABR0lEQVQoz2NgQAJXEhhWvWIgDK48YGB8wOFA\n",
       "UJ2IAAMD8waGb4TUPbkAJPInMNjikBcy8Vc1AZq1GaSOYf8EhkBUeUZll0/BjiCWQzpDu8gEBl6v\n",
       "CRCFdmgmsbAVcBR6ghRmMbBwFzAwcIBUAq3+i6FwAYPDdohCngQFIIO7JgGbZ0AKjzHBFILDhK18\n",
       "At8DjgKo30JDQ6PhClkgCtlnQmTZGBhWvZkAZm5ahmxi5XSIwi2XEtDs4wxDtprbVw2kMFn160v0\n",
       "QGNvQFJoFB83AWyi4CQgtcUFCOAGMyF7ZqGkAjgcs1gmCqCbuB3F156CEIXcBzzRFaajKNzDArGa\n",
       "4XQKukJWFIU82xwgCqfwodvNI4CskNPhIUhhDgOjgAe6kRpICg8wCLI0gFKPG4OL/gU0hVMqJsBT\n",
       "z5cEFqe/OJNnlys0CqEAAEvyVYPFtqUDAAAAAElFTkSuQmCC\n",
       "\" style=\"display:inline;vertical-align:middle;\" /></a><br>"
      ],
      "text/plain": [
       "<IPython.core.display.HTML object>"
      ]
     },
     "metadata": {},
     "output_type": "display_data"
    }
   ],
   "source": [
    "real_nonpos_within_real = ProperSubset(RealNonPos, Real)"
   ]
  },
  {
   "cell_type": "code",
   "execution_count": 33,
   "metadata": {},
   "outputs": [
    {
     "data": {
      "text/html": [
       "<strong id=\"real_nonzero_within_real\"><a class=\"ProveItLink\" href=\"proofs/real_nonzero_within_real/thm_proof.ipynb\">real_nonzero_within_real</a> (conjecture without proof):<br></strong> <a class=\"ProveItLink\" href=\"../__pv_it/theorems/bf04918f42d428143d2ba7ea4b674736b498e8740/theorem_expr.ipynb\"><img src=\"data:image/png;base64,iVBORw0KGgoAAAANSUhEUgAAAFAAAAAVCAMAAADmWplAAAAAOVBMVEX///8AAAAAAAAAAAAAAAAA\n",
       "AAAAAAAAAAAAAAAAAAAAAAAAAAAAAAAAAAAAAAAAAAAAAAAAAAAAAAACXHtMAAAAEnRSTlMAZs3v\n",
       "u90iq0QQiTKZVHbt5clcYUjMAAAACXBIWXMAAA7EAAAOxAGVKw4bAAABKUlEQVQ4y62UCY7DIAxF\n",
       "bTD7MjPc/7DD1oRUEFoplkr0lfDqHWBlBp41q+tpo32GJ1U5MQJoegSoZDm5y0eSD/B0DVSmkkge\n",
       "vrqKjBMlJjhh1Z6K/eQfgqtAgV8BAKgmTCuko7CxvWtAHjc+vQOytvXh1Ktjeh1ayCnsgRdA114C\n",
       "6yH//lEN+cOiXAGj7o4dnkIsbaMutyOJZm4CpFErY/rVM5elsf04Mo5ZufLwADTtKLD2bVgXwQi5\n",
       "DPkEZM2ZSCJ2V9hNu+tFDi+A8geI5sUJeg1ky6IMgOYxGcTtEDi1rvIAqNr5sRa3G2MOHAAtp97J\n",
       "/VoRN314AprO0xG3QXtcA09A1r4MOQLpHZHpOXAAtGVBuYOI2HZsDSltZtvmU8BsU9L76F3sH7zW\n",
       "CeNhpJrxAAAAAElFTkSuQmCC\n",
       "\" style=\"display:inline;vertical-align:middle;\" /></a><br>(alternate proof for <a class=\"ProveItLink\" href=\"#real_nonzero_within_real\">real_nonzero_within_real</a>)<br>"
      ],
      "text/plain": [
       "<IPython.core.display.HTML object>"
      ]
     },
     "metadata": {},
     "output_type": "display_data"
    }
   ],
   "source": [
    "real_nonzero_within_real = ProperSubset(RealNonZero, Real)"
   ]
  },
  {
   "cell_type": "code",
   "execution_count": 34,
   "metadata": {},
   "outputs": [
    {
     "data": {
      "text/html": [
       "<strong id=\"nonzero_if_in_real_nonzero\"><a class=\"ProveItLink\" href=\"proofs/nonzero_if_in_real_nonzero/thm_proof.ipynb\">nonzero_if_in_real_nonzero</a> (conjecture without proof):<br></strong> <a class=\"ProveItLink\" href=\"../__pv_it/theorems/10467ce2336fc28cd1d78a329e95a0672272d1f00/theorem_expr.ipynb\"><img src=\"data:image/png;base64,iVBORw0KGgoAAAANSUhEUgAAAIkAAAAVCAMAAABFXj3DAAAASFBMVEX///8AAAAAAAAAAAAAAAAA\n",
       "AAAAAAAAAAAAAAAAAAAAAAAAAAAAAAAAAAAAAAAAAAAAAAAAAAAAAAAAAAAAAAAAAAAAAAAAAACC\n",
       "gUnDAAAAF3RSTlMAq1RmmUTNIjK7EInv3Xah18O15/Xp87zmPDoAAAAJcEhZcwAADsQAAA7EAZUr\n",
       "DhsAAAI/SURBVEjHvVaLtpwgDBQIrwDp497W///TkgCurrrurT1lz8FFkQyTycg0/dvm/9tLF430\n",
       "xQTAg5uWuFfLWJvbQHS6mBDiepQSgfBBHBrsuO9uk4TuakYMq4GrBGKRqK5SFQYpPt6mBK5YDWo1\n",
       "MEV4kbAGOhy5pW8jyZeUrGmPAkvPEj/X3vSNuPsquVrCrimZZhCaZmHAMYpcuOV0Pzl9CSRSGNKe\n",
       "5I0ScSARJhKDBFFRxNtIXGe3RiBFE5QFouy1fHxyv+hyTg2JlLBhPr0a3XsFwgt40rQrtdJIMPWB\n",
       "qdlX5hUlDyRy0XnQkexZ8ktyoBw9cjCqbqeK3NZgiuFAMha2O2oQbOMkzBKMjvQaSMVY16apvpH8\n",
       "kJHhcJi73I+QyF86SN4TiU0nuinW5l42ZvcmQDchqr/JYO0SAHz7DtULPUughOPsyEZrVMSNTn79\n",
       "bmpZZBCbk7Qq1qVbyTAVqvYrDkxLkgUJIaxy0zl5FkqU7WAlUvHzp2J0zxQaoaHn0TRf9bkDrSpU\n",
       "kV0YH4bL2fGRkVVOfvwE5kSSuUto6lYVEGoQuy1iDdORwjGHjQOoTrSRjdWBNSskEFMHNpjh2jG7\n",
       "2gmlzSGqcY2+oIRnJhqRy75iZt/KO0rTLTupbxBem85OOW9/pX3ZV0yWg0tI01on1iYcdfOiGTh3\n",
       "PfzSt9PnKbmmyofltipGeMf14tnBwlxQsjsHANlEhPKsM20duVRTCu98IfHsZFHw73bQTJ11Yr96\n",
       "IqWTg8nrMycD+QPysRFEYgZstAAAAABJRU5ErkJggg==\n",
       "\" style=\"display:inline;vertical-align:middle;\" /></a><br>"
      ],
      "text/plain": [
       "<IPython.core.display.HTML object>"
      ]
     },
     "metadata": {},
     "output_type": "display_data"
    }
   ],
   "source": [
    "nonzero_if_in_real_nonzero = Forall(x, NotEquals(x, zero), domain=RealNonZero)"
   ]
  },
  {
   "cell_type": "code",
   "execution_count": 35,
   "metadata": {},
   "outputs": [
    {
     "data": {
      "text/html": [
       "<strong id=\"positive_if_in_real_pos\"><a class=\"ProveItLink\" href=\"proofs/positive_if_in_real_pos/thm_proof.ipynb\">positive_if_in_real_pos</a> (conjecture without proof):<br></strong> <a class=\"ProveItLink\" href=\"../__pv_it/theorems/0aae74ecc43d5c7c4bb3e9d36d3dfebc860a94c90/theorem_expr.ipynb\"><img src=\"data:image/png;base64,iVBORw0KGgoAAAANSUhEUgAAAIEAAAAVBAMAAACTeZA2AAAAMFBMVEX///8AAAAAAAAAAAAAAAAA\n",
       "AAAAAAAAAAAAAAAAAAAAAAAAAAAAAAAAAAAAAAAAAAAv3aB7AAAAD3RSTlMAq1RmmUTNIjK7EInv\n",
       "3XZ/CtNrAAAACXBIWXMAAA7EAAAOxAGVKw4bAAACFklEQVQ4y52UT0gUURzHv+6MO+M89+FNComB\n",
       "wIuIe4gOkbXi6oYWLAZeglrwIHSQ6W5g10Syk47BMgeJljA2D0qK4kUQIggvnoRZ0ARB6RAIdfH3\n",
       "xp0/b5sdooHH+8177/eZ3+/7+70B/uGx/mNHerjZdOspjQ5h3Ewk9MQvbx5Z4FlgSLxMJgGMUuxy\n",
       "2jQOgOfAK3rR5pMIajZ2uR/4AtwilAMwM4nQHrHfh7S3QJ+DdgcKraUTZeiOZrTl+uYv4I2JNLl/\n",
       "Ozz8mkgYpfGp9mHzKtCzjTpLELJgVIkHwNLfbiw0J2jk+A31ez3/EW/S/hDBhUIyv4DWESNfaO4D\n",
       "iqX8bvEl6C4EhCpSO0Cbw4oR1961gSmZsAvoUCMlHb8usiDCMxf6TyDlBkLqNbvIGdarjQQqiBsh\n",
       "LNWV7DPRSjGgdM/fys9QC3PccVn+UX4okgV9zjIcP4tOb7KB+w5SQp1V6iucF44s0aKCcJqTYigD\n",
       "lWJXoG1/4Wq+CwyTQqIZp0lIbl1LmxXvGjGtnJUInync1w8xBqmayJjGHp2jjNFCsSso63jsEdR3\n",
       "87KSc8DyeWrQawfjLNDDGK2RYyaswgVw27Ztk3M2JvdDZia0VxrvyMvA0nc0zHox8NYnjnRIySU0\n",
       "7KBvTLOSSp3h6YCNBpeF5oDwVqvH26fQFkWxf1SXh+VjleaEtobf3EfbLsZ9yG1KOAEuAflLcZUP\n",
       "5D9IAAAAAElFTkSuQmCC\n",
       "\" style=\"display:inline;vertical-align:middle;\" /></a><br>"
      ],
      "text/plain": [
       "<IPython.core.display.HTML object>"
      ]
     },
     "metadata": {},
     "output_type": "display_data"
    }
   ],
   "source": [
    "positive_if_in_real_pos = Forall(x, greater(x, zero), domain=RealPos)"
   ]
  },
  {
   "cell_type": "code",
   "execution_count": 36,
   "metadata": {},
   "outputs": [
    {
     "data": {
      "text/html": [
       "<strong id=\"negative_if_in_real_neg\"><a class=\"ProveItLink\" href=\"proofs/negative_if_in_real_neg/thm_proof.ipynb\">negative_if_in_real_neg</a> (conjecture without proof):<br></strong> <a class=\"ProveItLink\" href=\"../__pv_it/theorems/6a5627955b797c8e28112b0494a0b00685a902080/theorem_expr.ipynb\"><img src=\"data:image/png;base64,iVBORw0KGgoAAAANSUhEUgAAAIEAAAAVBAMAAACTeZA2AAAAMFBMVEX///8AAAAAAAAAAAAAAAAA\n",
       "AAAAAAAAAAAAAAAAAAAAAAAAAAAAAAAAAAAAAAAAAAAv3aB7AAAAD3RSTlMAq1RmmUTNIjK7EInv\n",
       "3XZ/CtNrAAAACXBIWXMAAA7EAAAOxAGVKw4bAAACDklEQVQ4y52UQUjcQBSGfzdxExN38FQQigQK\n",
       "XqS4B/Egbt3irhatsCh4KdSFHgoeSrwr6FWR2lObCksOe+hSKNseKiqKF0EoBfHiSciCbWFB8VAo\n",
       "6KVvRuM6cXcQA5NM3sx88+Z/fwLc4XLvMSJdzGk49JJaG+88UhK66oc3j12wJJDlL69VACtfNxx3\n",
       "rENgGligF2NFRdCTdcMpYB3oIZQP2I6K0Hor0skFfAd0+2j1odEOcaUMnbd2H+H3v8BbB3Fa/vPo\n",
       "6IeSMErtS+XTZpjoyYZQhxOSsKkSz4CPSsIramnWoe9f6roViKdxQYQAGsk8A6NNSTgANFc7bxKC\n",
       "GmNXugpCGbEdoMW3czfmP/7+9I1M2AVM6FclfRCexSLCVADzDIgF10KaFS/HbKyVowQqSBAhcCW7\n",
       "HTRTDsg/CYOZebIwQ19gZDKZ7I1T0Hau5UungAcM+Ihxdb6Rr3A6fOxyi3JCNS3lUABKuYewISmJ\n",
       "fmCIFOJmnCUhmdsed0riM7KNgmzCr5Tu4nOMhwKcVMUz4Vh7ZFh+4ibKXUPBxIQg6KsRjy8DxdPY\n",
       "YM23qUtDjFZoYaJWhX9Ar+d5DmP2uExIzEfr21v7Lcxd98wdA0siB9b8wpfma2mFWQbDzqyd18kZ\n",
       "QgdsRJa8bwyofdX6r+0qjA/Um/xdLg7J00qNCS2R39xnz8vV2yhoSPgD/Adn1XDKDx3fcAAAAABJ\n",
       "RU5ErkJggg==\n",
       "\" style=\"display:inline;vertical-align:middle;\" /></a><br>"
      ],
      "text/plain": [
       "<IPython.core.display.HTML object>"
      ]
     },
     "metadata": {},
     "output_type": "display_data"
    }
   ],
   "source": [
    "negative_if_in_real_neg = Forall(x, Less(x, zero), domain=RealNeg)"
   ]
  },
  {
   "cell_type": "code",
   "execution_count": 37,
   "metadata": {},
   "outputs": [
    {
     "data": {
      "text/html": [
       "<strong id=\"nonneg_if_in_real_nonneg\"><a class=\"ProveItLink\" href=\"proofs/nonneg_if_in_real_nonneg/thm_proof.ipynb\">nonneg_if_in_real_nonneg</a> (conjecture without proof):<br></strong> <a class=\"ProveItLink\" href=\"../__pv_it/theorems/3c05fc32a29bc75809d277ab6bce1e192758ea560/theorem_expr.ipynb\"><img src=\"data:image/png;base64,iVBORw0KGgoAAAANSUhEUgAAAIkAAAAVBAMAAACArtDCAAAAMFBMVEX///8AAAAAAAAAAAAAAAAA\n",
       "AAAAAAAAAAAAAAAAAAAAAAAAAAAAAAAAAAAAAAAAAAAv3aB7AAAAD3RSTlMAq1RmmUTNIjK7EInv\n",
       "3XZ/CtNrAAAACXBIWXMAAA7EAAAOxAGVKw4bAAACNUlEQVQ4y41UTWjUUBD+uptssi/dR9GD2FOg\n",
       "0pt2kaIg1lbctmJRFgUvgt2b4EHivV3quQfrQTAtlByKoCIsRRQrSm6KouxF7GUhK6tCocWDUMGL\n",
       "M3Hz06zb7IPA995Mvsx88+UBvS2te8hCz+tr99B1egYYDKWRZGr/P3/VsiCLwCRvbqSxPIzjYghz\n",
       "pvgC3ATucNNLaSznYli89gI4BrwERonOAQwzjcXds9veaIN7wIiDfgdZqi+XKktl736sTfMLuGsi\n",
       "RxQfG40PaSwKiSt2BhfXg4Phab83ZinCoAmdB5bTWPhrCprexfDk6iDr+YdYPGSp0tvQBpJviRlS\n",
       "C9VjgaEKJNxJjDsHI5blgKWGDKmWd4xyjODo87O3KP7M4gkGcvRTxgKmoqzhQ/7HiGXWg/6TlPNC\n",
       "cfWmXZYGXrAKrbJw8T7GAnyK1L0QqjtiQuUJVs4EwdICICVOsR+0z1odm7GOoO7icWLSNqhNZOoE\n",
       "18l72JluWWxlZtmaoLJmHKrlbTs770Hc73NRS7juNLjNLJt2jsSV1uGc+YgD0tBWi1BZx0qoC80y\n",
       "83vNVc3EH1Awxbt/PkAf9ZHFqo4rPouysgRxgGF1KJiRXoe45B053jnLJr1ciKazC5ywbduU0rjc\n",
       "aZjN/dw0HyLd1bDo1yLVa45WKpUm44mjPf2qc0ZFIef4umBjoiMxH7vQnjZ4RdVFN4Ly7c0WtAds\n",
       "yu+1takOFrHP3ZFPXJlPbLvcJbXaneUH8BfesYbeWO3hTwAAAABJRU5ErkJggg==\n",
       "\" style=\"display:inline;vertical-align:middle;\" /></a><br>"
      ],
      "text/plain": [
       "<IPython.core.display.HTML object>"
      ]
     },
     "metadata": {},
     "output_type": "display_data"
    }
   ],
   "source": [
    "nonneg_if_in_real_nonneg = Forall(x, greater_eq(x, zero), domain=RealNonNeg)"
   ]
  },
  {
   "cell_type": "code",
   "execution_count": 38,
   "metadata": {},
   "outputs": [
    {
     "data": {
      "text/html": [
       "<strong id=\"nonpos_if_in_real_nonpos\"><a class=\"ProveItLink\" href=\"proofs/nonpos_if_in_real_nonpos/thm_proof.ipynb\">nonpos_if_in_real_nonpos</a> (conjecture without proof):<br></strong> <a class=\"ProveItLink\" href=\"../__pv_it/theorems/be9cf283354bd22198ca4448eb848e4a3e384c990/theorem_expr.ipynb\"><img src=\"data:image/png;base64,iVBORw0KGgoAAAANSUhEUgAAAIkAAAAVBAMAAACArtDCAAAAMFBMVEX///8AAAAAAAAAAAAAAAAA\n",
       "AAAAAAAAAAAAAAAAAAAAAAAAAAAAAAAAAAAAAAAAAAAv3aB7AAAAD3RSTlMAq1RmmUTNIjK7EInv\n",
       "3XZ/CtNrAAAACXBIWXMAAA7EAAAOxAGVKw4bAAACNklEQVQ4y41UQWjTYBT+mqRNmmxhIIJ6Csyr\n",
       "bsjYQHRObOdAHEXBi6DFi+JBOuhxK/O8g9thYBRGhCLoEMIODhUkN4eiFFQcSCWVqbDD8CBM8OJ7\n",
       "/9o0bdqlP4S8l/+9L+997/t/oLeldt8qoOf1vfvWNXoG2BiMA5Hczt9fbRVgDgNZdm7GoTyOwIqU\n",
       "lKV/AW4Dd7npxTiUc22+/Mnh12ngBTBCcOQaVhyK1+qaXwUIloAhB30OZOoqFUtLvsVd/VY3/gD3\n",
       "LKQI4n21+i4ORSFy9Z0jC2vCK3+sf9YZZRgGTWgKeNApUw/Z/DcFNf8iO49uBCL6Ryg+ZKp0BupA\n",
       "BxD5EErHG4LqJ+LGcMY5wE6iFcWFRKylHSMXyj72/Owdbn2KJ9igo48i5jFZ94pBR4Ry3Yf2m5jz\n",
       "A3K1mp0zDay7KK5TjIe3IRTgQyd2hywkeYL58cZuZp6GaOKkr37meivYDHWE5C6etk3aBrUJqULm\n",
       "GmkPO+e3CixlRtmegHxQ1PKmnpX2oS8nPLhtqjsFblNm0c4SuWbhcMp6In5jqCuEJhGR+YAXmqX0\n",
       "t+wlm+qUbu3VqG/s6QAJ6kPGiobLAkV5KM6DlkVpsDEjrQJ92j96IqKGCzVK7m9OZxcYtW3bMk3j\n",
       "UnTum/tpci6wNE/FgqjFTF511Ewmkw0HjvR0VGeNvELKEbzg5UQkMB260J5VeTWra94Iyo/X21Dv\n",
       "k3Xlp1uejB6Hfe6OdNuVuWrbuS6hpe4ov4D/5MmHT5nyooIAAAAASUVORK5CYII=\n",
       "\" style=\"display:inline;vertical-align:middle;\" /></a><br>"
      ],
      "text/plain": [
       "<IPython.core.display.HTML object>"
      ]
     },
     "metadata": {},
     "output_type": "display_data"
    }
   ],
   "source": [
    "nonpos_if_in_real_nonpos = Forall(x, LessEq(x, zero), domain=RealNonPos)"
   ]
  },
  {
   "cell_type": "code",
   "execution_count": 39,
   "metadata": {},
   "outputs": [
    {
     "data": {
      "text/html": [
       "<strong id=\"nonpos_real_is_real_nonpos\"><a class=\"ProveItLink\" href=\"proofs/nonpos_real_is_real_nonpos/thm_proof.ipynb\">nonpos_real_is_real_nonpos</a> (conjecture without proof):<br></strong> <a class=\"ProveItLink\" href=\"../__pv_it/theorems/13062fd38ade299c062e9413c58c333452d6151d0/theorem_expr.ipynb\"><img src=\"data:image/png;base64,iVBORw0KGgoAAAANSUhEUgAAAMEAAAAaBAMAAAD8lSVDAAAAMFBMVEX///8AAAAAAAAAAAAAAAAA\n",
       "AAAAAAAAAAAAAAAAAAAAAAAAAAAAAAAAAAAAAAAAAAAv3aB7AAAAD3RSTlMAq1RmmUTNIjK7EInv\n",
       "3XZ/CtNrAAAACXBIWXMAAA7EAAAOxAGVKw4bAAAC2klEQVRIx7WWS2gTURSGf9Ok80gyCQoFK0jA\n",
       "lQslWHQRpKZYrbqKVoRSwWoXQhGZ7oVaEFxYSGjQmohlCiJokQYDVrKQoPgAEVwU3BidIvhoVUTQ\n",
       "YlaeuZPM3EnjkAcemMl9zNzvnsf9J8B/Mc8M/I9ybS2x2x0wC/RiCN429hh3m+1I0+0FQqqQaplw\n",
       "221SmaabUEYgQo60aul6Oz+X+f2WJsTHRk8sIxhFUAPCRndbkwChWG9UEsK+TVlge8EkBHQotPwB\n",
       "Y+5skwRvrj4hh9QkNYYKLEqhCOQyYIw0nZBQ4l+EgU6jNTlgZhoYBTopUv5Ik4Skxve+lEojFkFi\n",
       "Q+Pd+I6j1DhM+YkSpdlEf+M7J1Y4H7rnzLZKJ+4I/X6l61Wp9LJZQpcR2i2fdJb1MS5K4nRNSk+R\n",
       "t4eAbN1suhAydJ1UpbLR7lRtwrP377SaeF6kkEEIc0M7HvSdN593EZrTgPwE3teMwGU6H6OEiBmy\n",
       "mcrYBNWEpPmrlSEuZxKKH4u5dYSq0FRsiVz8gSB7bqpElqpEKdtT4+0Cre3RrV30k0uKgpheS7CE\n",
       "xvYhkGJvA3f4ar0k1URpgpbEiCEe872LUKJghJW4TZDzqyovNBZhQcc+1g7yBO/lmqOVNDZ1n4pB\n",
       "fiOumbtR/MJs1CbcU5MqLzSmbSZCBF0e43VF5why6sP6WsIFSrQ3LhYxyAjeGyku0/2YcgiNaVTl\n",
       "ku5ZMsvtjE2Io0dyHve9xm0DhSqQII3aQzUQURT/MY7wFMsOobF2Jm99OP6ZdeaualVt/aNK1346\n",
       "CH1WylUppl1hPii+Yc0iyGtI33UIDbOAY6PDN03VqGej1UZATQ5qrA6oWgtcpp+Lv2IOoXHR1jom\n",
       "l6st3/6deQjXDZX5mLt10CYc37UadQiNeXCKDRI6ws7+fCZjuy+5vbmxQUJQdZmUWv5Oc+b6nbYJ\n",
       "DqGpqEhjiXD/tAlt/F+yKoJq5y8WdsB6M2K2DwAAAABJRU5ErkJggg==\n",
       "\" style=\"display:inline;vertical-align:middle;\" /></a><br>"
      ],
      "text/plain": [
       "<IPython.core.display.HTML object>"
      ]
     },
     "metadata": {},
     "output_type": "display_data"
    }
   ],
   "source": [
    "nonpos_real_is_real_nonpos = Forall(\n",
    "    a, InSet(a, RealNonPos), condition=LessEq(a, zero),\n",
    "    domain=Real)"
   ]
  },
  {
   "cell_type": "code",
   "execution_count": 40,
   "metadata": {},
   "outputs": [
    {
     "data": {
      "text/html": [
       "<strong id=\"pos_real_is_real_pos\"><a class=\"ProveItLink\" href=\"proofs/pos_real_is_real_pos/thm_proof.ipynb\">pos_real_is_real_pos</a> (conjecture without proof):<br></strong> <a class=\"ProveItLink\" href=\"../__pv_it/theorems/a6d3dce662a8f6bc38e7714d45a752455ebd77ec0/theorem_expr.ipynb\"><img src=\"data:image/png;base64,iVBORw0KGgoAAAANSUhEUgAAALkAAAAZBAMAAACfn5KBAAAAMFBMVEX///8AAAAAAAAAAAAAAAAA\n",
       "AAAAAAAAAAAAAAAAAAAAAAAAAAAAAAAAAAAAAAAAAAAv3aB7AAAAD3RSTlMAq1RmmUTNIjK7EInv\n",
       "3XZ/CtNrAAAACXBIWXMAAA7EAAAOxAGVKw4bAAACy0lEQVRIx6WWTWgTQRTHn+km+5HNJioUVJCA\n",
       "ZyVY9BAkJlg/6ilaEaSC0R4KIrK9C21B8GAhS6LiRixbEEGLNBiw4kEColVE8FDwYnSL4EerIoIW\n",
       "c/LNbHdnUuOmSQcmzOzO/Pa993/zJgCdtV2+b9PYBei4BdK+rw3sotEx/Ta0pEOqY3qxybOuc+bv\n",
       "t0VGj1gAMTLY1iZcrDZ7Koux4MaSR9cQvZ8MhtqkC+Xm9DIYYyCY5gsTfVDqAGOdCBDN/o9+MOTZ\n",
       "DoMAIYxOON4mPW/xsy+1Ws6jy4zeh1ok8AvtivqNnxxf4GzfPMnoX7G/qtVetkvvJuHc8smmCp/l\n",
       "IiMVhhj9FHp4CKDUVDkfuon9pC7XyTikM/qz9+8s96xi/EYBhkGMcRu3P8icd9auRIYfe5lyGjPi\n",
       "CQivKZ1TtZLMcRtGUHvZCrsZIM2bWS0MM+VGuuJomIIT7pM5dO0HROi68Ro2YzkypR6OPo3cgO19\n",
       "vRdd0TRI2o108Qp1/jlEdWa7atDdAHf4jLwoc9k0gjjIkYIwlZoBLQGUvpBmdKWyqIO0HrFiHdQ4\n",
       "o0/bsJeOIzxduMQdnTwx5j6KrryRlhwrtLA4kWD0ezpZI2ZGQapDJLG8bxPS49AdINs1m6MrxgdG\n",
       "JzkDF1BUIS1VoZ/ShRsGp2ovjFMX+rJIV10QZrJsB+actDrD6Gnokdkx3kN+1mF41CzWnN2macY1\n",
       "LXyUoz+FeacAzmJkonFmlbL14fBnOpm8ark18o8uX/vp0TOevLqctC5T27XggOXRlSUo3iW3xUSD\n",
       "qmpDnRm4Wcs1OxWD7kDV8/0W1Rsz8hGn6qz0K4lmkYXf4Yh/jVzRlLo7Cu7bUQHxOqkaH8u3DjD6\n",
       "sZ2LCdAKzmk67C6Xqqugd8Ua51OmyVxm+S4V/tm5YRX0iO7zUl7DvQot71VfeqB14P2vJHEN/2eo\n",
       "8pgjfwFQ2a70AdbC/QAAAABJRU5ErkJggg==\n",
       "\" style=\"display:inline;vertical-align:middle;\" /></a><br>"
      ],
      "text/plain": [
       "<IPython.core.display.HTML object>"
      ]
     },
     "metadata": {},
     "output_type": "display_data"
    }
   ],
   "source": [
    "pos_real_is_real_pos = Forall(a, InSet(a, RealPos), condition=greater(a, zero), domain=Real)"
   ]
  },
  {
   "cell_type": "code",
   "execution_count": 41,
   "metadata": {},
   "outputs": [
    {
     "data": {
      "text/html": [
       "<strong id=\"nonzero_nonneg_real_is_real_pos\"><a class=\"ProveItLink\" href=\"proofs/nonzero_nonneg_real_is_real_pos/thm_proof.ipynb\">nonzero_nonneg_real_is_real_pos</a> (conjecture without proof):<br></strong> <a class=\"ProveItLink\" href=\"../__pv_it/theorems/903caae19193f89a16cece6b6877c354700fed150/theorem_expr.ipynb\"><img src=\"data:image/png;base64,iVBORw0KGgoAAAANSUhEUgAAAMsAAAAaCAMAAAAuR1iLAAAAOVBMVEX///8AAAAAAAAAAAAAAAAA\n",
       "AAAAAAAAAAAAAAAAAAAAAAAAAAAAAAAAAAAAAAAAAAAAAAAAAAAAAAACXHtMAAAAEnRSTlMAq1Rm\n",
       "mUTNIjK7EInv3Xbt5cmRiLwgAAAACXBIWXMAAA7EAAAOxAGVKw4bAAAC+klEQVRYw81YiXbjIAw0\n",
       "NxJHd/3/H7sI+SAxNM7WLy7v1U1CLDOMRhoyTXcPZf77Vn14ce+QP1gHrC8c/AYoaKcLsEwq/wIs\n",
       "oE5moo0As02xvaFhI2G5iJ1t9XkoLr5BgitrNUIBdrBkwqE36Vn3eSw6vIMl1H++LhvKiHRhBnAu\n",
       "CL24Uz+zeReLdpPt8DJZwmQXyoL8PBQ/43AuQyrDdrBAD4umN2qRib2BlpxGM8Zm7PIiEEUPS67K\n",
       "i4Q/xXADFrFuoBMhu6auOov9HPMgd123WEylWPv6Od5RkZfVmFjWB03CdepQwRJtmlPDl35IV1/3\n",
       "ZL286ms6rHFcltn13ET3vuGM5adipDzXTcLZvvaVGvZWx2WEKAmjgiJTsFpY5t8FzQgoBWy3Ax8H\n",
       "hw4hH7M48R7oub7Z5z3nfRnwmGOAatAFkbHI3NsInwVAmc9TeUZwy4MwU0NCElrEU1iYcTIZBga8\n",
       "RNgXw0+BQU32eiQGV3OMgBz9jGYZEZYyp3D7gkum/NE++lNYRGUy0pdn18WCMwVXc0vYqL9oP+iD\n",
       "fgke5Fo2MKgc6MO8UVmxZFwU4atmmBfXx7LFYFkH3jV6QHxuYQIYi+SaJre7ch5gKYzlbpaZpXK4\n",
       "uCgfk2OADcmUYw44QHFDuzYHetliVJsBX9VmcFNMz6vgpjBBJl3qtoJY2cGiuR1CT9tqdXbCr4lF\n",
       "uqNFqwaLhsD7J7YHlDqmXB/LFoPvVk2Dj7m/mShy8E7kJmlRgMGDTwYq3WDnjkXRz4U4msVxKls3\n",
       "FSTnWDDy7Elij9GKmHPsuIY49mMmwIOHeTGseq5rhFshTj5MrV6MIZU4zcN8h2WPQTn25+9iZfva\n",
       "f8cnv+h9B2cXKdWNwtYGcE1GfZqXLUZjwquYzbEf+3gRFnWIbbSSOah6AvCbybOhtHxtT2LZYzwY\n",
       "o9IrdacziIvcefru8IWBsuPs8aJf8+XrUzheY8+vPO/3sZxZp7xCMZeeI7ux5ClWf/D72F5CrjT5\n",
       "N/xUcBz/AIX+GI37Og5KAAAAAElFTkSuQmCC\n",
       "\" style=\"display:inline;vertical-align:middle;\" /></a><br>"
      ],
      "text/plain": [
       "<IPython.core.display.HTML object>"
      ]
     },
     "metadata": {},
     "output_type": "display_data"
    }
   ],
   "source": [
    "nonzero_nonneg_real_is_real_pos = Forall(\n",
    "    a, InSet(a, RealPos), condition=NotEquals(a, zero), domain=RealNonNeg)"
   ]
  },
  {
   "cell_type": "code",
   "execution_count": 42,
   "metadata": {},
   "outputs": [
    {
     "data": {
      "text/html": [
       "<strong id=\"neg_real_is_real_neg\"><a class=\"ProveItLink\" href=\"proofs/neg_real_is_real_neg/thm_proof.ipynb\">neg_real_is_real_neg</a> (conjecture without proof):<br></strong> <a class=\"ProveItLink\" href=\"../__pv_it/theorems/d4f2381cbee1b7f26708bd7b220be8b4f4b8741f0/theorem_expr.ipynb\"><img src=\"data:image/png;base64,iVBORw0KGgoAAAANSUhEUgAAALkAAAAZBAMAAACfn5KBAAAAMFBMVEX///8AAAAAAAAAAAAAAAAA\n",
       "AAAAAAAAAAAAAAAAAAAAAAAAAAAAAAAAAAAAAAAAAAAv3aB7AAAAD3RSTlMAq1RmmUTNIjK7EInv\n",
       "3XZ/CtNrAAAACXBIWXMAAA7EAAAOxAGVKw4bAAACuElEQVRIx7WWTWgTQRTHn5uP/chmExQqVpCA\n",
       "ZyVY9BCkpliteopWhFLBaA9CEdmCR6EGBA8WsjRo3YiyBRE0SIMBKz1IUPwAETwUvLi6RfCjVRFB\n",
       "i3vyzaa7M6kxyUYc2DBv5s1vZ97/zdsAdNa2t/QIQseNS7d04bWO6Tfb8OntmF5oMBY4pf98zUxE\n",
       "DYA46Wz2CeerjUZFPh5aV/RMBdF7SOekT3qw3JheBi0Hgo5tCkCyAXKdCBDL/I0+EKb2CEAYoxNJ\n",
       "+KTnDdb6ZJpZjy7S8f2oRRLf4FfUL6xxZJHZe/c0nfiMzwvTfO6X3kXCufGD5Sg8ykRGmGQkPIYn\n",
       "3AdQ9HvXdHyOqqJN+mGV0p+8fcPELH8OYAz4OLNwy72+0zXf1cjIAy9TjmNGPILgS4fOqFpJZZkF\n",
       "46i9aETcDBAW9IwSgdlyA7qBd2/INebxaN8g6vhNmNi0lcgUe5glM8jlLO/t/XgURYGU9Sf9TDc8\n",
       "g5hK9y5rzmqAW2xGnheZyIwjDrKkIJR6Z0FJgkNfTFO6VFkiyNx64G2QE5Q+Y8Gu2oVn6cELzNXJ\n",
       "k5V3UXTplbBc24US4a8nKf2OSnyGBjBsNkSTK+s2ID0BXRxZrlgMXdLe1ecMnEVRg2mhCoMOPXhV\n",
       "Y1TthwmEz4FDly2ayaLFzdfS6gSlp6FHpNd4J/lZg+GRM1hzdmB9SChK5BBDfwwLIDx08tqGWILu\n",
       "Stp0f+yjY0xfMtwa+UsVL3/36H2evKqYMi46e1dCw4ZHl5ahcBtKk6TPqCrX1Znha2a20a0YcTuy\n",
       "mh80HL0xI+cYVZ8KP1I4SMr2VzjYvEauapLt9kK7t1aAv0Kqxvvyjb2UfnjbEpEyUCC36YDrLlTb\n",
       "oAfi9XZJ1+mR6/Odm6oz17ZBj6pNJsX/+l1tSudaB775J4n/1/8zmCO/AduXqmkGlo53AAAAAElF\n",
       "TkSuQmCC\n",
       "\" style=\"display:inline;vertical-align:middle;\" /></a><br>"
      ],
      "text/plain": [
       "<IPython.core.display.HTML object>"
      ]
     },
     "metadata": {},
     "output_type": "display_data"
    }
   ],
   "source": [
    "neg_real_is_real_neg = Forall(a, InSet(a, RealNeg), condition=Less(a, zero), domain=Real)"
   ]
  },
  {
   "cell_type": "code",
   "execution_count": 43,
   "metadata": {},
   "outputs": [
    {
     "data": {
      "text/html": [
       "<strong id=\"nonzero_nonpos_real_is_real_neg\"><a class=\"ProveItLink\" href=\"proofs/nonzero_nonpos_real_is_real_neg/thm_proof.ipynb\">nonzero_nonpos_real_is_real_neg</a> (conjecture without proof):<br></strong> <a class=\"ProveItLink\" href=\"../__pv_it/theorems/d84d7d3a35ae537e57a687475d49e13e5d4fac450/theorem_expr.ipynb\"><img src=\"data:image/png;base64,iVBORw0KGgoAAAANSUhEUgAAAMsAAAAaCAMAAAAuR1iLAAAAOVBMVEX///8AAAAAAAAAAAAAAAAA\n",
       "AAAAAAAAAAAAAAAAAAAAAAAAAAAAAAAAAAAAAAAAAAAAAAAAAAAAAAACXHtMAAAAEnRSTlMAq1Rm\n",
       "mUTNIjK7EInv3Xbt5cmRiLwgAAAACXBIWXMAAA7EAAAOxAGVKw4bAAAC4UlEQVRYw81Yi3LjIAw0\n",
       "iJcE6O78/x97CGyH1NA4M560zNSdlliwaFdasiw/PMDeEMQsv2HoW7bh8RdAIXdTdvnnsSBc3axL\n",
       "iKvLafJGpvJQj3TDx6H49AbsxZe9WgVIg1kWHObQnvMfx2LiW1hi/RVk2wH30XZNa0EY1A/qZ7Vv\n",
       "YzF+GWrMCavclrKoPw4lrDSfZMxluAGW4aEb+S9sMnGfTwvn6ZR1TMO8KCI1jFWllwR/TvHzWNRx\n",
       "fl5F9l1d9Y7GHAuox7q2Nccm1I/S9aZwW0Xe2WJT2R92jBvst2BJLq+ZacLXUM9kf1yr9Kq85Fmz\n",
       "v2oiptjdtigl4bnpGOfG2geYNlff6oikJM4qis7RGeW2/FNsWRQKuKeF5qOFjpFPLM7bEZi1/vWY\n",
       "D433ZeAzx5Bg0gWpYdE8OojACrHM81LWiFV33sStmovQEl3C0jIuJsPiJC8JH5tp8XFSk4OZicFX\n",
       "jgmQs58xLQGCpcwBlYfP+2pe6JDDJSyqwk/y4dUPsdAqq8PaZ2zWX0yY9MGwBY96LxsUgevZ85HK\n",
       "ioXJNK3YLi9+jOWI0WQd26nJAulLC1O4YdGtqOnjLeYJlpIxhnkdE1u0izD7BrBLsnDM4x5AK9i1\n",
       "OdHLEcNUi/Gn/MDWFTOMekJ5m0WXpq8gTg+wmNYOcaRt2K2dCjuxRHeCEjosBmO31yAOrtQx8GMs\n",
       "R4z2NnQdPvH4LElxDF5xR1pSaOnkk8V8Ibp1YFHM10Kc7OY4wTXjphvHotWvzNI5Ri/ixrHTHtI3\n",
       "fsxGfPIwL4aDr3VNcAPREuLS68XaSFLG2rDfYXnEEI79/YeVY2Ptv+WTX/Tvk7VLQnUL1NuAVpPJ\n",
       "XM7LEaMz4VXM9tSPQ7oLC5xiWwOaI9QbQDhMnosLGeMuYnnEeDJGpVeac2dQd5nz/N3li6Kw4+r9\n",
       "Ylzz9ctb+G+874+xXNiovkUxt94jh7H0laze8/0Y3Yjl818VDMZ/gE0YHlJYCH0AAAAASUVORK5C\n",
       "YII=\n",
       "\" style=\"display:inline;vertical-align:middle;\" /></a><br>"
      ],
      "text/plain": [
       "<IPython.core.display.HTML object>"
      ]
     },
     "metadata": {},
     "output_type": "display_data"
    }
   ],
   "source": [
    "nonzero_nonpos_real_is_real_neg = Forall(\n",
    "    a, InSet(a, RealNeg), condition=NotEquals(a, zero), domain=RealNonPos)"
   ]
  },
  {
   "cell_type": "code",
   "execution_count": 44,
   "metadata": {},
   "outputs": [
    {
     "data": {
      "text/html": [
       "<strong id=\"neg_is_real_neg_if_pos_is_real_pos\"><a class=\"ProveItLink\" href=\"proofs/neg_is_real_neg_if_pos_is_real_pos/thm_proof.ipynb\">neg_is_real_neg_if_pos_is_real_pos</a> (conjecture without proof):<br></strong> <a class=\"ProveItLink\" href=\"../__pv_it/theorems/31a672817c63c53788ad55359bdaf7702b29a2c90/theorem_expr.ipynb\"><img src=\"data:image/png;base64,iVBORw0KGgoAAAANSUhEUgAAALMAAAAZBAMAAACIvQJIAAAAMFBMVEX///8AAAAAAAAAAAAAAAAA\n",
       "AAAAAAAAAAAAAAAAAAAAAAAAAAAAAAAAAAAAAAAAAAAv3aB7AAAAD3RSTlMAq1RmmUTNIjK7EInv\n",
       "3XZ/CtNrAAAACXBIWXMAAA7EAAAOxAGVKw4bAAACwklEQVRIx2NgIAKYMpAKWIhUx+RAstHsE4hT\n",
       "twysGE0vAT12xBk9GUQ8QhVjfYDKZ86Z+e3OZASfdwEDgwCIoYzXcwdAgbIBTfQxGp+TXYBVeBac\n",
       "ywc01xXESMcbJRtggYIM2BagG72BYUIjA8dMIJjOwMD1i4GhkWCg8wcACWd0UWYHTKPd2RD8ZIjt\n",
       "3Ar4jO4Hue8AhvApqM/n3r0GN5oTIe0JtN0AaDzeWHwLCuoEDOFkSHTmLUC4WmohQvoNEJ+9e/c0\n",
       "XqPFYOENA4X76oDkRjC7bAEiQDgmIcVZPFDCg4FhFqZ53AjmTFCkGSClu+MM84H6zBhQEgAn+7H7\n",
       "95Citr8B6AYGdgG8OTURlEyRYmONAYMvkNIBcxIQRm+2Qg61emDkcy7gDkAS0t3mmIdq9BUg5gEq\n",
       "WXYXBG4w+DMw3AY5CyTHAQzOuzehATLLGMmc9UAdTA/gscjxcGYAHzfD9g0YruZBsv0kA9dXIBUD\n",
       "YnNNQEp8LZxIAVLfAPITPL+7ALl8fAxWD7hdfF1ccQQI1z8G5g8g74F5F5CMZmlHyh/9BUBiUxaQ\n",
       "WG23nYEPFFdAo185oLhaEqQRUWRwfWJgTFBnYLAE894hGc014TFqCmGoAcYi13WO7wwrwVmAm32e\n",
       "AYrRoBTKjRTT8xh0HYCWe0PyuwLcaAcGY05EuNmACEZgMLA4cBxgCAYbzTJ7Amo0guznuIDgL3zd\n",
       "LgfUchXiB8koWMn3s4Bz2ie4KkcYgycAWFSZAUsWBT4+7iDUdA2OwhsY5SHUMtadkIyOPbOCkkoB\n",
       "p9WCbrCr+VijF2CWfCYYCd8AbxYGlXxQlxX0By8Apx1g4tuFWqhxgIomzgI0vZX4qw9meOSwOutt\n",
       "ZmCfAWSFPduwxA1VmRBKAoaC6fiN5kVzyuqZMwNw1Y11qGJ8BVSpGzEqL+rV6OS0Q4DRBgBHbaON\n",
       "pTnEKwAAAABJRU5ErkJggg==\n",
       "\" style=\"display:inline;vertical-align:middle;\" /></a><br>"
      ],
      "text/plain": [
       "<IPython.core.display.HTML object>"
      ]
     },
     "metadata": {},
     "output_type": "display_data"
    }
   ],
   "source": [
    "neg_is_real_neg_if_pos_is_real_pos = Forall(\n",
    "    a,\n",
    "    InSet(Neg(a), RealNeg),\n",
    "    domain=RealPos)"
   ]
  },
  {
   "cell_type": "code",
   "execution_count": 45,
   "metadata": {},
   "outputs": [
    {
     "data": {
      "text/html": [
       "<strong id=\"nonneg_real_is_real_nonneg\"><a class=\"ProveItLink\" href=\"proofs/nonneg_real_is_real_nonneg/thm_proof.ipynb\">nonneg_real_is_real_nonneg</a> (conjecture without proof):<br></strong> <a class=\"ProveItLink\" href=\"../__pv_it/theorems/a124fa2b9cbbaa88f1aa74fe47e10b336097e77d0/theorem_expr.ipynb\"><img src=\"data:image/png;base64,iVBORw0KGgoAAAANSUhEUgAAAMEAAAAaBAMAAAD8lSVDAAAAMFBMVEX///8AAAAAAAAAAAAAAAAA\n",
       "AAAAAAAAAAAAAAAAAAAAAAAAAAAAAAAAAAAAAAAAAAAv3aB7AAAAD3RSTlMAq1RmmUTNIjK7EInv\n",
       "3XZ/CtNrAAAACXBIWXMAAA7EAAAOxAGVKw4bAAAC3ElEQVRIx62WTWgTQRTHn/nofmYTPyioIAHP\n",
       "SrDoIUhNsH6eohVBKljtQRCR7V1oBcGDhYSGqhuxbEEELdJgwKoHCYhWEMFDwYvRLYIfrYoIWszJ\n",
       "N7Ob3dl1XbKpD3YyH7vzmzfvzX8C8N+Nn6A/0uPqiqbZHjA2PU7KXjgGsc4BkVzQqFLG4jkkVa7U\n",
       "MeFW8HB0ErgmyGl0pFMr+017Vvv1xhqIzvFNSGQgoQOkSMfmkACu7tcrcKn42gqpiQ8LSJANUHD6\n",
       "PaTndEhCrOpPqELpAllAfpTsUjINYhOA9oQNSLLwL8K+Lpxu9agVaYAhgC7cKSkdklDU2dbnRmPQ\n",
       "JgggrlNJ6xscwvIAxiSDlLCB/so2ji4yPmyYAlG3TtxBLL/g87LReBGW0E22duNHg0b9DLNL/Lgn\n",
       "pCcQtx+g4hvNAIKGz3FVaJJ6l+oQnr17q3v2E0MyDFyK6dpyP3/OfD9AaE5iQj6B2CtKYCJdy2JA\n",
       "eA3tqtU3gjkh6FIrM/gFraBIMFt1ExihsWweXfwOCfreWAOtZO1Spcfj7QzOHTHsVfShS4oCWcND\n",
       "cITG8UEu0a8BbrPZelHw7NIISdxBIh7TvbOgZIASFnMOQawtqazQ2IQZA3bReoIlxC55jlaRfH0P\n",
       "k0F8zS+bq1EkbjLjEO6q9B1baExbj4Q0dEfIkGIwBLH0/u9cgvMY6FiOr0M/JcSul5hI98GYS2hM\n",
       "wywXjMi8mW6nHEIOegT3cd9JilW4VXIBNWoH5kBaUaTDDOEpLLiExl6ZuOnB8CfamJrQW9r6WxWu\n",
       "/HAR8nbIVSGrX6Y+KPEB3SaIy1C+4xIaarJroQM3TNXws6FWRVaL/TrNA8zWR0yk5/ifWZfQBGir\n",
       "j4nNVi2+e2sNuGtEZT5Ub+51CEe2LWVcQmMenHqbhGjKc4VrmuO+EPTlmjYJCTVgUFjBPW1b4D3N\n",
       "6BIrNNZ/jfYCEXy1cR3/X2L0GSP4B8NHwbgVGEbGAAAAAElFTkSuQmCC\n",
       "\" style=\"display:inline;vertical-align:middle;\" /></a><br>"
      ],
      "text/plain": [
       "<IPython.core.display.HTML object>"
      ]
     },
     "metadata": {},
     "output_type": "display_data"
    }
   ],
   "source": [
    "nonneg_real_is_real_nonneg = Forall(\n",
    "    a, InSet(a, RealNonNeg), condition=greater_eq(a, zero),\n",
    "    domain=Real)"
   ]
  },
  {
   "cell_type": "code",
   "execution_count": 46,
   "metadata": {},
   "outputs": [
    {
     "data": {
      "text/html": [
       "<strong id=\"nonzero_real_is_real_nonzero\"><a class=\"ProveItLink\" href=\"proofs/nonzero_real_is_real_nonzero/thm_proof.ipynb\">nonzero_real_is_real_nonzero</a> (conjecture without proof):<br></strong> <a class=\"ProveItLink\" href=\"../__pv_it/theorems/4b8168a707faf49f20fe19216fcacc19b19117fe0/theorem_expr.ipynb\"><img src=\"data:image/png;base64,iVBORw0KGgoAAAANSUhEUgAAAMEAAAAbCAMAAADyORvnAAAAOVBMVEX///8AAAAAAAAAAAAAAAAA\n",
       "AAAAAAAAAAAAAAAAAAAAAAAAAAAAAAAAAAAAAAAAAAAAAAAAAAAAAAACXHtMAAAAEnRSTlMAq1Rm\n",
       "mUTNIjK7EInv3Xbt5cmRiLwgAAAACXBIWXMAAA7EAAAOxAGVKw4bAAAC0klEQVRYw9VYiXbjIAzk\n",
       "BnHtLv//sYsA28SGxHXi9pX36viSYaSRNJSQXzUs+eXDyXJ00f3YErh8x1rT8o1IiIR8In4AAHtv\n",
       "Uqrx6E0+pHyq4ftZrN4yl4U7OmEyeNai8b0D+FmyKQ+QVPDNQgCOP/mPE1MQhPIg4CndQsxvBqD9\n",
       "F8AW0kvKYS0/sa6vIvDF/RFXL9bcUvpmBMJ9CYErP2ZxsW2sryxKrNzD8/WN+/MiyS8jEJqoxqK/\n",
       "/6CwaMtk9DrGRbUwOXYzgBr+8YgQ8lAjBM2xq6dJxGrargQ+5Y3+6u4QxDAtMiracQyotW2tWz5g\n",
       "RxPtKpbU8gg/+NvbHFVrY3JRd4VQKzthkQHWspONC6cscRVmh/FlRl5TLtD4IH1eFHSUGpWQjMCr\n",
       "kMISHDVjpll6taazNhqcElTFh69fUi6qTmE90lZ0lFKTTOZ8bYFsUgR0rQ7ofnd4xUQKkO9Gkhfj\n",
       "tDuFYKdcHkaosROpXGzfM5XGecCORWD5ix5lKwLk2MEPopILEeTH3MZTCHbKZRQDD9vMD4X+mAdG\n",
       "vCK3TqaFcVEY1vHo9NYAFwTRijGC1WCsXI4IbMKpeOqDM+0HwrzoUqb5ybFWDWzQ9WbnF2SRhsiH\n",
       "CFaDmXLp4wMVAat1iem+wI8R5GXEpzySrSBovzQIgbTEJ7xDIMABGWfyajBTLn0/qO9BxPIg+oqm\n",
       "2AiBqM0KnnVyvsxNG+e9bGqJq+JTYJVFTrIxgtVgplyO/rI0OqNpNF0kKUh71KaAVRdUeiIWBN1n\n",
       "Ntpwa4lxpM8DKZ0dIdgMpsqFPMKdSn94VBUnh9pzzCOrJbd9g6vVdJLJm8FMuVzUpie3TAepJQVn\n",
       "0fGiVM2qWZQjVgg1QrAZzJRLXzj8pxFw+gyeQ0rIsfIdNu/XWz76afkbLm5pxghOkNh+WP9e3icP\n",
       "EbAz2xf20Uy4vid7Yzf63v+L9pWhpNp/emMZTl40BdsAAAAASUVORK5CYII=\n",
       "\" style=\"display:inline;vertical-align:middle;\" /></a><br>"
      ],
      "text/plain": [
       "<IPython.core.display.HTML object>"
      ]
     },
     "metadata": {},
     "output_type": "display_data"
    }
   ],
   "source": [
    "nonzero_real_is_real_nonzero = Forall(\n",
    "    a, InSet(a, RealNonZero), condition=NotEquals(a, zero), \n",
    "    domain=Real)"
   ]
  },
  {
   "cell_type": "markdown",
   "metadata": {},
   "source": [
    "***Non-Zero Theorems***"
   ]
  },
  {
   "cell_type": "code",
   "execution_count": 47,
   "metadata": {},
   "outputs": [
    {
     "data": {
      "text/html": [
       "<strong id=\"positive_implies_not_zero\"><a class=\"ProveItLink\" href=\"proofs/positive_implies_not_zero/thm_proof.ipynb\">positive_implies_not_zero</a> (conjecture without proof):<br></strong> <a class=\"ProveItLink\" href=\"../__pv_it/theorems/d6c113dbe9cc768ca29e139492cd41d6ad67b2d70/theorem_expr.ipynb\"><img src=\"data:image/png;base64,iVBORw0KGgoAAAANSUhEUgAAAKUAAAAXCAMAAABd93+WAAAAPFBMVEX///8AAAAAAAAAAAAAAAAA\n",
       "AAAAAAAAAAAAAAAAAAAAAAAAAAAAAAAAAAAAAAAAAAAAAAAAAAAAAAAAAAAo1xBWAAAAE3RSTlMA\n",
       "q1RmmUTNIjK7EInv3Xbn9enzK1aD6QAAAAlwSFlzAAAOxAAADsQBlSsOGwAAAnxJREFUSMfFV4uS\n",
       "pCAMlDckkHv4//96EEDRYXV3ttxjqpzyEel0Jz2ZZfnB5X4o5luL5PV9DZOLhspRbOdSPQtS4vV9\n",
       "H8YzRNLMIxVY2vTr9llywd48EPxwYjPvkBiRzRT7TqYLz1Kpb6TyYjhRiflkSEo3qHxJPosy3lE5\n",
       "ShkYslwZW8xH1XK0D1flzfvNSOWyaqZ3ZeZsQRhTWREfFnx7vxNIjs73D10BHSUziCUBzVUb4PMb\n",
       "voPS9rI0MeMJa99OM0fp1+9y3HpkxYqSk1GWc+uHqVIJrRZ2zP2+zbKNnKVJrewhsrOkKyp3lPwl\n",
       "Y6cRzUvPkQghX6UlP4oOr1HCKIXKOZnTU7FtoFfGfErCHPWBCs9ULj2HSJr0jtbNvih/FgV0jdIF\n",
       "vbMRS+jqpihjYBTmisrePbJ2j4mtvVUDAagIXXf8HSWBnqPcArLfCdf1KsRGOVMcmB617myUevzz\n",
       "t1bnVnahOmWtXpmaVTbTLG7vCwmwIymKu0BqinILYHRa+KpQeVs6unighrKgFXaRI3v23LqK6dNV\n",
       "YVU3dFF0mfMe5QGjBpQ64EHkMNZFC2igdankijIezQbFjlYmfTAK+eoahXqI/mBiwu/FQ4KbP/CS\n",
       "VXE0co5yC9hJcE3x9ai4b10NgtA7Qf6KypIvUkeVzKm1ipWp3K8el7EujUGYodwDGilV11n3LMm/\n",
       "OSy5s2vFUmVGwWjy1Yk+6J49gAVodUJ0/sXrQ8Pc8OFrY4rRShIqdpaWurFkMQug7QzlHrBQkIfh\n",
       "EC7HiRH+DZVXPyKApS7NdHqZjrC3IxV8sF2Cz89KX1jvDqKvI0ZN8PpvyLuz+cPj8n/8K/i99Q92\n",
       "NRQrgnuMpwAAAABJRU5ErkJggg==\n",
       "\" style=\"display:inline;vertical-align:middle;\" /></a><br>"
      ],
      "text/plain": [
       "<IPython.core.display.HTML object>"
      ]
     },
     "metadata": {},
     "output_type": "display_data"
    }
   ],
   "source": [
    "positive_implies_not_zero = Forall(\n",
    "    a,\n",
    "    NotEquals(a, zero),\n",
    "    domain=Real,\n",
    "    conditions=[greater(a, zero)])"
   ]
  },
  {
   "cell_type": "code",
   "execution_count": 48,
   "metadata": {},
   "outputs": [
    {
     "data": {
      "text/html": [
       "<strong id=\"negative_implies_not_zero\"><a class=\"ProveItLink\" href=\"proofs/negative_implies_not_zero/thm_proof.ipynb\">negative_implies_not_zero</a> (conjecture without proof):<br></strong> <a class=\"ProveItLink\" href=\"../__pv_it/theorems/cb2c670504882641f13aaf5a4c57dc680b75aa750/theorem_expr.ipynb\"><img src=\"data:image/png;base64,iVBORw0KGgoAAAANSUhEUgAAAKUAAAAXCAMAAABd93+WAAAAPFBMVEX///8AAAAAAAAAAAAAAAAA\n",
       "AAAAAAAAAAAAAAAAAAAAAAAAAAAAAAAAAAAAAAAAAAAAAAAAAAAAAAAAAAAo1xBWAAAAE3RSTlMA\n",
       "q1RmmUTNIjK7EInv3Xbn9enzK1aD6QAAAAlwSFlzAAAOxAAADsQBlSsOGwAAAoBJREFUSMfFV4uy\n",
       "qyAMlDckkPvw///1QgBFS21Pz3gunbEjEll2k226LD843A/FfGuQvH6uYTJpqFzFdi/VvSAlXj/3\n",
       "YbxDJM08UoGlTZ+395IL9sWC4Icbm3mHxIhspth3Ml24l0r9QiovhhuVmE+GpHSDylPyXpTxFZWj\n",
       "lIEhy5WxxXxV7Yz25qx88X4zUrmsmuldmTlbEMZURsSbBd/e7wSSo/PzQ1VAR8kMYjmA5qwN8P6G\n",
       "n6C0PS1NzHjC2rfTzFH69btctxpZsaLkwyjLZ+uXqVIJrRZ2PPvrMss2cpYmtbSHyM6SrqjcUfKX\n",
       "jJ1GNA81RyKEPEtLXooO30RZOFL5TOa0KrYN9MqYT4cwR32gwjOVS88hkia1o3WzL8qfRQG9hdJp\n",
       "kWHGErq6KcoYGIW5orJXj6zVY2Irb9VAACpC1x1/R0mg5yi3gGp5wrFehdAoZ4oD06PWnY2Sj3/+\n",
       "1uzc0i5Up6zZK1Ozymaaxe19IQF2JEVxF0hNUW4B5cih/qTlifK2dHTxQA1lQSvsIkf27Ll0FdOn\n",
       "q8Kqbuii6DLnPcoCowaUOuBB5DDmRQvIGLFvVVHGo9mg2NHKpA9GIR9do1AP0R9MTPg9eUhw8Qce\n",
       "siqORs5RbgF+ELgqvh4V962qQRB6J8hfUZmXaaSOKplTaRUrUwCLx2XMS2MQZij3gJygYYM1q54l\n",
       "+Q+bJXd2rViyzCgYTb460ZPq2QPKytDyhOj8i9ebhrnhw9faFKOVJFTcIbWjG0sWswDazlDuAS3P\n",
       "1dYcwmU7McJ/QeWVPWcFA7v6pHu5airC0y4VnsQleL9X+sL4tBF9bDFqXV3/Dfm0N7+5Xf6PfwW/\n",
       "N/4BdQsUMsGgP7gAAAAASUVORK5CYII=\n",
       "\" style=\"display:inline;vertical-align:middle;\" /></a><br>"
      ],
      "text/plain": [
       "<IPython.core.display.HTML object>"
      ]
     },
     "metadata": {},
     "output_type": "display_data"
    }
   ],
   "source": [
    "negative_implies_not_zero = Forall(\n",
    "    a, NotEquals(a, zero),\n",
    "    domain=Real,\n",
    "    conditions=[Less(a, zero)])"
   ]
  },
  {
   "cell_type": "markdown",
   "metadata": {},
   "source": [
    "***Elements of Real Intervals are Real Numbers***"
   ]
  },
  {
   "cell_type": "code",
   "execution_count": 49,
   "metadata": {},
   "outputs": [
    {
     "data": {
      "text/html": [
       "<strong id=\"all_in_interval_oo__is__real\"><a class=\"ProveItLink\" href=\"proofs/all_in_interval_oo__is__real/thm_proof.ipynb\">all_in_interval_oo__is__real</a> (conjecture without proof):<br></strong> <a class=\"ProveItLink\" href=\"../__pv_it/theorems/d922227414cb9b6aa7408b7c87099419bc102f930/theorem_expr.ipynb\"><img src=\"data:image/png;base64,iVBORw0KGgoAAAANSUhEUgAAAOIAAAAZBAMAAADea+8+AAAAMFBMVEX///8AAAAAAAAAAAAAAAAA\n",
       "AAAAAAAAAAAAAAAAAAAAAAAAAAAAAAAAAAAAAAAAAAAv3aB7AAAAD3RSTlMAq1RmmUTNIjK7EInv\n",
       "3XZ/CtNrAAAACXBIWXMAAA7EAAAOxAGVKw4bAAADlklEQVRIx62WXWjTQBzA/23SNk26rI9+UxH2\n",
       "ImpwOtgeRmV+DJRRNxHcQIc+yITNDEQYU6kggjpdcAzNxBlQxDrUqrgxfZkT0SHC8EFxGGhxKCgW\n",
       "X0QQFP93adKLq80GPch95ZLf//PuALzLclOFMhXZfDOfZe1QxlJdbqLq9a7cRDlWZLJm6lrnlAKw\n",
       "1yJGSbPKg+gjjV/xJq4uOqt1w85aA2SFEreQqYMeRD6BTdA7fsTi5tB6ISygaoco8STWIc2DSJZD\n",
       "j7eKvPI/Iq+iMBsoMWgASDEvPxLpHngTI26nXjXfFoioVcQgRA7FCnpGTvX8AqiKHQS6jIKOvtto\n",
       "pqBC//TaNF95EiOm+SHtTdyOz93srSfUZkcNxqpnqjAKpCglNgIMeRL5JIQNds7PhJHs9A7gE5dX\n",
       "8NPucNSOdf7+gi1nWasbQlH7ldCR76wZ3dTFEnFJt0uKjXbnNPonbg9wC+NU7pdPcaex1lt9k4o5\n",
       "QYlhQ0o475YSbFZPyBKMpdkdYAge2cMLiwdBdIT04bI2e/AcvwbeQgnoLvN9nhi+ToQQvlOiP8ME\n",
       "zkt8NifRUDLUZVjiWkdkvpFUjpARXB00CkScsT4UNUZHIU48F5jIx2A9ViP1Y0SIP1mD7gxI/BJn\n",
       "iUEO/yPPntgGH8lUBf7x4Vfiy/7ckkJ20YNhnypSCabZfGwk2eyftogPMNnEd8JPApqR4ykaDFJo\n",
       "WGGJUhX+5bNP22+JfhTgjtpPiN+MWfDbwg0DpBLLQKKDHEtMEUU4zSIeQ5/wcQE1hrDCtbdQIn9F\n",
       "c+3koadYKeFMMkAF2YPGhz7SG4AaCNhr7wOsO7sDmukg6Owr2hFM+0GkpC2iDz0RSchR6hQ+WqPr\n",
       "ekyWpWb32bGIVJUqcB26fhFWEp9lLc9vAsEmnge4kfM3WChxcatzdlwC/XAMKhKF0+qeGq5Ds1VC\n",
       "JHaO6igH2oy5p1UfqAIN4TMg/oSB29j7DpMFq1YkXZvOeH6Xs8tx5nyMqP0txghUGLVWpmN2PI7/\n",
       "SwxNjGLqDeUj54Xwo05Mwww6R7bDmouX3EoaGGKgYe1D6IsJTRkIXcbx7k/pG1vn6NjUljOgh+gR\n",
       "VmHX+q+KMAmncnSUL5dKAekR5b4DWPYf0fVEiTuAOK4PQiC/PfhpnXJepkoRqWAuYsCY/61jm9W0\n",
       "sgOiRqYE8fOcew63gHuOZElHU4VLlPsu11nsvsrYQ1zIffXZX8Og5UzBEGclAAAAAElFTkSuQmCC\n",
       "\" style=\"display:inline;vertical-align:middle;\" /></a><br>"
      ],
      "text/plain": [
       "<IPython.core.display.HTML object>"
      ]
     },
     "metadata": {},
     "output_type": "display_data"
    }
   ],
   "source": [
    "all_in_interval_oo__is__real = Forall(\n",
    "    (a, b),\n",
    "    Forall(x,\n",
    "           InSet(x, Real),\n",
    "           domain=IntervalOO(a, b)),\n",
    "    domain=Real)"
   ]
  },
  {
   "cell_type": "code",
   "execution_count": 50,
   "metadata": {},
   "outputs": [
    {
     "data": {
      "text/html": [
       "<strong id=\"all_in_interval_co__is__real\"><a class=\"ProveItLink\" href=\"proofs/all_in_interval_co__is__real/thm_proof.ipynb\">all_in_interval_co__is__real</a> (conjecture without proof):<br></strong> <a class=\"ProveItLink\" href=\"../__pv_it/theorems/bf7734636bb314df23cc0b3101ad9b71f113d53d0/theorem_expr.ipynb\"><img src=\"data:image/png;base64,iVBORw0KGgoAAAANSUhEUgAAAOAAAAAZBAMAAADanj8DAAAAMFBMVEX///8AAAAAAAAAAAAAAAAA\n",
       "AAAAAAAAAAAAAAAAAAAAAAAAAAAAAAAAAAAAAAAAAAAv3aB7AAAAD3RSTlMAq1RmmUTNIjK7EInv\n",
       "3XZ/CtNrAAAACXBIWXMAAA7EAAAOxAGVKw4bAAADZElEQVRIx62WXUgUURSAz+7s7M7+OC30pBEs\n",
       "FL5EsWQY+mArmgqRbBk9JMRCD1GgjRBBaGAQQWg4IGJTZANJsEq0KST1EIshJVFID0XCwi5YgdLi\n",
       "S9hL0Tl3dnbuqO2ssAd27tw5h/3uuefnXgBn2ZtRoDIiZz6VY5aAykldhYGKk67CQDmyzcf6xUc9\n",
       "i1GA8wYwTMM+B2AZRkwObPtV7YNTDTrIUQY8Tp8uOgDLMCIJbL8Xaj/4JVzzZQa8iU+f6gAsw4jE\n",
       "E/0f0KPgWo4woFcHCEYcgGUYkYTsAX2Y+WwBcbkhnYACrsrrlDRlGJHU8hOxV7c8dE3hlnqjLEs/\n",
       "ZDLvHbPU2YjkBMUxXzM0Q5NrOreld2qxKIJhBuwAuO8I3Gy0yBWcXHy7QHGEXPakPcfUgZ4/qzgK\n",
       "CQbsA1/YVEmXCi8HXzT38kDeiKQ4uY2xiZkT6ltH4Zi+2169an/dExrdaQb068F4UbeHqDktLgdh\n",
       "LsUBOSNSW0AXWnWbkwX8DUKbYYZRyHwtAP2PKX+ldQZ0Z7l0eIe/1kHcJhkasxyQMyK1BQzhzKtz\n",
       "QICPRk2qnIdSjAIiGh5Cogkf001ztIa/OZ01BASuxvjWxozy7SsKUyMwMLtGcRzJ11gFw44CcQOm\n",
       "aFzi67DjOm3pkgGcwQ4Q+CJtEGdZjiVZIgR9E1EeSEayUu2NJAsxfKqMEPCnvgJuc2kT+EdjrjSw\n",
       "YOR5YJLWKagGcAD3xxOT0F/wR4VEFwN6Hqi25k1GAkxI0FUAtsIwvYxCPYim6XP04vdkWmQee4uN\n",
       "Qr2KhTyGkJQBdGEYQnE5zCLiCddrmhaR5eBpG5CMAHAXmBqBC5Azgt4Mkgm8ix52ZvcfNoJYfa54\n",
       "WoyDdiUCVXHreHqm+Bsx9LsgFBliHspit77leJLSPhgyPAxswCiFah3mrS2tGrS1mpeF1mbKDe48\n",
       "DCkjXfo0VOkNWAEshvAqthk4EEx4DDV6+Fb61RhIwTIGRjbzWYiVbCAtHFBsOTQLwxGpMwu+ezg/\n",
       "+z012bYZ6Pn2etVQI/DM4bWoNA+3MDf8xbYzXorHjhv7iW+EeVrT4iVOfKYu1KGbPZNFXbIUkK3L\n",
       "BhT1sq8YBaCRFu2WE9kSwB9b7jQC7BTISlWIV/rW1rP1XqpxXwI7uZe++QdeWeNB0Ic19wAAAABJ\n",
       "RU5ErkJggg==\n",
       "\" style=\"display:inline;vertical-align:middle;\" /></a><br>"
      ],
      "text/plain": [
       "<IPython.core.display.HTML object>"
      ]
     },
     "metadata": {},
     "output_type": "display_data"
    }
   ],
   "source": [
    "all_in_interval_co__is__real = Forall(\n",
    "    (a, b),\n",
    "    Forall(x,\n",
    "           InSet(x, Real),\n",
    "           domain=IntervalCO(a, b)),\n",
    "    domain=Real)"
   ]
  },
  {
   "cell_type": "code",
   "execution_count": 51,
   "metadata": {},
   "outputs": [
    {
     "data": {
      "text/html": [
       "<strong id=\"all_in_interval_oc__is__real\"><a class=\"ProveItLink\" href=\"proofs/all_in_interval_oc__is__real/thm_proof.ipynb\">all_in_interval_oc__is__real</a> (conjecture without proof):<br></strong> <a class=\"ProveItLink\" href=\"../__pv_it/theorems/6b8657954afd118387ee1146f1d1bf2eec3fc75c0/theorem_expr.ipynb\"><img src=\"data:image/png;base64,iVBORw0KGgoAAAANSUhEUgAAAOAAAAAZBAMAAADanj8DAAAAMFBMVEX///8AAAAAAAAAAAAAAAAA\n",
       "AAAAAAAAAAAAAAAAAAAAAAAAAAAAAAAAAAAAAAAAAAAv3aB7AAAAD3RSTlMAq1RmmUTNIjK7EInv\n",
       "3XZ/CtNrAAAACXBIWXMAAA7EAAAOxAGVKw4bAAADZUlEQVRIx62WXUgUURSAz+7O7s7+OC30pBEs\n",
       "FPYQxaBh6IOtaCZEsmX0oBALPUSBNkIEocEGEYSGAyK2RTaRBCrRppDkQyxGlEQRPRQJC7tgBUqL\n",
       "L2EvRefc2Z29o+vOBHtgZu7cc2a+e+/5uRfAWnanFaiMSOlPdsxiUDmprzBQsdJVGCiFS3Q2LD3o\n",
       "XZIBzurAED32WABtGDHZX7JX7YeTjRpIMgMepa7zFkAbRiT+0muhDoBPxDFfZMDrePeqFkAbRiSC\n",
       "vB1QUHAshxjQowEEwhZAG0YkQbND76c/F4E43KBGQBeOymMVNDaMSGr5F3efVpyhYxqX1COzKH2f\n",
       "Tr+zjFJrI5Lj5MdczdAsvVzRuCW9VYtJEQgxYAfAXUvgFqN9XLsxlG+cIz9CNnPCHGPqYO+fVXy6\n",
       "YgzYD97CByBeyDcOPG/p44G8EYkrWmjdROcUVFS3DsMRbac5e9WB+sf0dKYY0KcFjK9hF1GziagU\n",
       "gPkkB+SMSA0PjS8cySLwNV5xaNfN0Avpr3mg7xHFr7jOgM4MFw5v8WqLY4RJ0JThgJwRqfXE1CMz\n",
       "bgYCfNBzUuVmKEbIIW59hhBrxttM8zyN4W9WYwUBgasRvrQxo9yxFYWp4SP+cW6NquNIrsa0pODe\n",
       "gOm8STFoOq7Skn7UgbNYAfxfxA3iLEuRKZZDAe+EzAPJSFKqPWGm9mLXE2WEgD+1FQM4gT8ac6SA\n",
       "OSPHA6donC5VBw6ivRARcb7gk12xLgYU7qmm4k1GLpgQgandqGyDYWqOQoMBfIaz+D2ZcrMS4TEK\n",
       "hXoZE3kMIUkd6EAvBKNSiDlECDUkEomwJAVOmYBkBICrwNTOEDksq3u9xQDexhl2ZvbW6U6s7jZ2\n",
       "i3FIXApDVbS4PT1VfE2YqDsgGB5iM5TcPdqW7UlMeYGpRRX8GzBKvlqHRQNYFTeVmhf50laQa9x+\n",
       "GFRGurQZqNIaMQOYD2Ehshk4GIgJupoi4o34q8mfhGX0TAHoipQtIK0c0N16cA6Gw2JnBrx38P3M\n",
       "9+Rk+2ag8O3lqq6GcYDTdWuyuAg3csW0oO7thW035h1fd/NMIhEts+MzdU/+xcnuBnCqHNCnbAa6\n",
       "NdtHDCF/eOk2A72ZMsAfW840rv840yzoD9kMrNCprbfEudTP7xYZ++fSV/8A4X7jUnEOadYAAAAA\n",
       "SUVORK5CYII=\n",
       "\" style=\"display:inline;vertical-align:middle;\" /></a><br>"
      ],
      "text/plain": [
       "<IPython.core.display.HTML object>"
      ]
     },
     "metadata": {},
     "output_type": "display_data"
    }
   ],
   "source": [
    "all_in_interval_oc__is__real = Forall(\n",
    "    (a, b),\n",
    "    Forall(x,\n",
    "           InSet(x, Real),\n",
    "           domain=IntervalOC(a, b)),\n",
    "    domain=Real)"
   ]
  },
  {
   "cell_type": "code",
   "execution_count": 52,
   "metadata": {},
   "outputs": [
    {
     "data": {
      "text/html": [
       "<strong id=\"all_in_interval_cc__is__real\"><a class=\"ProveItLink\" href=\"proofs/all_in_interval_cc__is__real/thm_proof.ipynb\">all_in_interval_cc__is__real</a> (conjecture without proof):<br></strong> <a class=\"ProveItLink\" href=\"../__pv_it/theorems/f2ec41c748ae6844f9c5acdc27ab949c705ba06f0/theorem_expr.ipynb\"><img src=\"data:image/png;base64,iVBORw0KGgoAAAANSUhEUgAAAN4AAAAZBAMAAACspI2IAAAAMFBMVEX///8AAAAAAAAAAAAAAAAA\n",
       "AAAAAAAAAAAAAAAAAAAAAAAAAAAAAAAAAAAAAAAAAAAv3aB7AAAAD3RSTlMAq1RmmUTNIjK7EInv\n",
       "3XZ/CtNrAAAACXBIWXMAAA7EAAAOxAGVKw4bAAADUElEQVRIx7WWT0gUURzHf7s7szszu04LnTSC\n",
       "haJbMagYerAVzbwkW0YHg9hbFGgjRBBabBBBKDggUlNkA0mgEi0KSR1iMaIkCunQH2FhN6xAafES\n",
       "dil6vzfjzJvVdibYfrC78+b3XT7vvd+f9wC8bXdehaqYnH/nR5aGqllDdXmRCj71P/A+b/OuafFe\n",
       "36ICcNrkxfFnjwfPhwgtmN3urTYAx5oNkBXKO4yvznjwfIjQHmz7VhsEUSAzPkd5V3HbNQ+eDxFa\n",
       "+994nEpi0kh5YQMgmvDg+RCh5VzJfzf/3uGRycYM5IXItoa98sWHCMPHJhbfbzjrC0yT/QwrND/f\n",
       "5POvPfPTW0SMI+kileqGZ3Fw0WD288Y+Ug3ROOV1Adz25JWLFpmO0xy3HnABHBQLR93ZpQ31/Vol\n",
       "v6E05Q1AZPMPIJy1HvY/butneawIzR5c15xBDYnwQThk7HQXrTbYQBM3mKM80YimbN8uhBb1lByF\n",
       "+SzDY0TodniBrMOLEUkGOk0ViUD+k8UT72PtCeuUFywwmfCKfDoyJLlkaCkwPEaEbocXy7h5AG/p\n",
       "s6Qx6xOSGAzeXB+kW8nXTOs8TuF30aB9gPBWk2w/o6LSkRWVuglCmlvDGI6W6lz7CfwGTONgia2/\n",
       "rku4n0smb5YUvvRB2EDMspycosUTjUwoLA9FslobTkxZ8XuojiLvu7Fi88QCSOOBHNBAlFjeFM4y\n",
       "pJm8IaLnkgIWq6iE0j2Ux93RXP0aRSGYEKDH4nXACD6MQZPNIwkf/DmZ42ljCNvtQbtA6nfcLBfk\n",
       "BTK49XKcRoOLN+m6npDl6HEXD0UAZA+omyBeQNEMeJvNE5ZA6i7srTcDWNtrnw83QT+fgJqUcx49\n",
       "UsUWUqA7IJYYpuuT+VPGlvNIyEVg2FyftAFjGKd1WHCS5yNbMvwTq59t2mXm/Iupoz3GDNQYzST1\n",
       "afzgabKcNxRNc6abIF4KP1qkLCyTqNi8Rs9uvsnj2w/MwUhC6C5A5BYZn/yanews53Ffnq2aboI4\n",
       "Ub+mCAtwrcQUh1jpnkPPF/f5boZ4RtdTFc536rYQQXezkSodWXQyLh5v+L5PWIheNw+uVOB923J/\n",
       "CcG/8pQyXnXuZ31b7586ez4U/N8/n/8BpknfZ/gY4DQAAAAASUVORK5CYII=\n",
       "\" style=\"display:inline;vertical-align:middle;\" /></a><br>"
      ],
      "text/plain": [
       "<IPython.core.display.HTML object>"
      ]
     },
     "metadata": {},
     "output_type": "display_data"
    }
   ],
   "source": [
    "all_in_interval_cc__is__real = Forall(\n",
    "    (a, b),\n",
    "    Forall(x,\n",
    "           InSet(x, Real),\n",
    "           domain=IntervalCC(a, b)),\n",
    "    domain=Real)"
   ]
  },
  {
   "cell_type": "markdown",
   "metadata": {},
   "source": [
    "***Real Intervals are Subsets of the Real number set***"
   ]
  },
  {
   "cell_type": "code",
   "execution_count": 53,
   "metadata": {},
   "outputs": [
    {
     "data": {
      "text/html": [
       "<strong id=\"interval_oo_within_Real\"><a class=\"ProveItLink\" href=\"proofs/interval_oo_within_Real/thm_proof.ipynb\">interval_oo_within_Real</a> (conjecture without proof):<br></strong> <a class=\"ProveItLink\" href=\"../__pv_it/theorems/87672b2049a33ea238d70947e03e768f0886ef540/theorem_expr.ipynb\"><img src=\"data:image/png;base64,iVBORw0KGgoAAAANSUhEUgAAAKgAAAAWBAMAAACmpcqCAAAAMFBMVEX///8AAAAAAAAAAAAAAAAA\n",
       "AAAAAAAAAAAAAAAAAAAAAAAAAAAAAAAAAAAAAAAAAAAv3aB7AAAAD3RSTlMAq1RmmUTNIjK7EInv\n",
       "3XZ/CtNrAAAACXBIWXMAAA7EAAAOxAGVKw4bAAAC1UlEQVQ4y61VS2gTURQ9SSbNzCSZBkUXFmRA\n",
       "cKFWApVCu6iR+gNBgwU3LTZSRCwi06WgkILoQqVBwTpRywhuShdJLVgRBEEUUYQiilKMThGsupDi\n",
       "omIX4n2fSTK1Gbrwwpncd+fl3Hd/b4BViCWx3LaixLAqMUwBnxxdvityyl78cA2IukCKGTYFkm6V\n",
       "8ES/NUNe0su3abFUdG0R+AzsYesTQZx6TqAmTRl6DP5LWkZhmN46GGZpKASRKmmBmjSzXOxYiXRf\n",
       "E+Uhw3gRN4NIExI16XeYyRGLb5VK5X2VVCPlBSJ0hqbAlG6WqMkjngNx+AvT9SfdcIeUAeBVpfIy\n",
       "kPSARKxl3hWWYz/WUHi8xPq7+vDVq6w6k8B+oBhIOiDRZ2lLonKLTslChNculK0jffbpI8tJOzCE\n",
       "WMqzqyel0np/12nP+FpAfwJlhhvCS0i4CD/mSagv1FQnd7SNdCde89bCmOfsrBHHdFnangooC0gK\n",
       "k5JDcxnqAtOHfdUvtjFlhPy6dd6eE3bnqbUNdLp+0kQBJeGduPtNRPlJh3yk5zUWfh8h10WPiS5W\n",
       "RfXPnMNHhUi/Z/zhl1zsrLbpIQdhnoukj1S5yDq+lXBvkBVR/cW4Zo3MOB/3eGzM6/cxgZKJ9WFL\n",
       "Z6R5yi8iBW8yaqR6gWYUHYSzVCclo7JotHQk18NJlZvVKZsU0NzwGwUlKkUorVEUikjw8TrSDNq0\n",
       "rOi/EOUwkTVYCyTySqrdtm3TMOKHvc1XBPSND4a+IjlLWks3C1wkeHydU72lflva9Z/AW/nHkqV1\n",
       "0stmJMxL/KRGtFduRjIvIGSLp5yTv7235ZhWL9QZb76tkR5nAkmnA7yA1FIPvULRBcEhxGs0dAdd\n",
       "QFyi3duncNlUD7qI3aD1kS/lu3u9XaMSfJq8Rmt8s53xL8VlNWHbWZ95XILnpVqWht+TUd8q6jT4\n",
       "6rgCPplv+PHxe4vgP8lf5A6ui26pLqkAAAAASUVORK5CYII=\n",
       "\" style=\"display:inline;vertical-align:middle;\" /></a><br>"
      ],
      "text/plain": [
       "<IPython.core.display.HTML object>"
      ]
     },
     "metadata": {},
     "output_type": "display_data"
    }
   ],
   "source": [
    "interval_oo_within_Real = Forall(\n",
    "    (a, b),\n",
    "    ProperSubset(IntervalOO(a, b), Real),\n",
    "    domain=Real)"
   ]
  },
  {
   "cell_type": "code",
   "execution_count": 54,
   "metadata": {},
   "outputs": [
    {
     "data": {
      "text/html": [
       "<strong id=\"interval_oc_within_Real\"><a class=\"ProveItLink\" href=\"proofs/interval_oc_within_Real/thm_proof.ipynb\">interval_oc_within_Real</a> (conjecture without proof):<br></strong> <a class=\"ProveItLink\" href=\"../__pv_it/theorems/c1d01f8def18b6f32baefdc4a734a7c4b5ed6dfa0/theorem_expr.ipynb\"><img src=\"data:image/png;base64,iVBORw0KGgoAAAANSUhEUgAAAKUAAAAWBAMAAABTW0EyAAAAMFBMVEX///8AAAAAAAAAAAAAAAAA\n",
       "AAAAAAAAAAAAAAAAAAAAAAAAAAAAAAAAAAAAAAAAAAAv3aB7AAAAD3RSTlMAq1RmmUTNIjK7EInv\n",
       "3XZ/CtNrAAAACXBIWXMAAA7EAAAOxAGVKw4bAAACuklEQVQ4y62VT2jTUBzHf13SNkmTtAh6KUhA\n",
       "2EFRCspgO8xIVQaCVgdeJq4iIg6mKXgRJ3QXQVTsRWb8MwOKUHtIVXAiCIIIDhGGCMowkF3c3EF2\n",
       "Uhgo/l7ey7+5Zjv4g2/7/vXz3vv9eQVYhxlMEVOdeue16zBVo4pZrhLv90zfH50uARzHdoEMbElk\n",
       "bmPyTbo78y8TGjU43GuBitx9pH86CSlVqULL6KsxL4Io4AlHAMaxm20kMfkSVWh5bXUmb+DWu3BP\n",
       "C+e1JKbMFNqwFTK/O47zJWDi4WQLODxBJtGd3UyhvQpjdHkqcs7UY7x7BoEfHOd9IvMAU7Y479KR\n",
       "Ez82MKb0OXr3K92YSTnkDgDcTmSeZDpmiMs0aD8t26DMVOjVxtjo70X85tCnNcgW/HHhDGtsf77n\n",
       "rD/4kUp6A/yMN9C1DLJLmZlojHY+8mZfA4hWJIRFAp4zK2oOptps7C0VvwQKHeKrkG/TH41HmeID\n",
       "kh3CEnLdyGbvUHux6lQV+tw4U26ATTdH9LBGmbUoU9CJE9N4Tqj240ernwRQ+DNnkUIgzEU9fnfb\n",
       "hd1Beh5il1Ni+TlwgdydOOjpCImf8IugZlW96ZV4Ljvpp/kkla3Bpi5DIsw6+pYyI7WAzCY5D0cK\n",
       "aAxDxOsCObJY4qqDHpO/E9TWEyrR7frEg41RTZVE3c/PUyHzPOb6TUQRp6fQf3JFJcGX63yhxzRN\n",
       "TVVzR/zF16mkzS9qC6DMYqtYDnK+udEK3qUJMM9poPgRtw2xDyfzIGtXvXOq6SG2GJQ6FbWtK966\n",
       "oXusNn27FNS0cWPQaoFi9WJuef6El36MOJ2KWrvD+xlY2W+kyzuewTVNOOhC9hb2j35rP9zvT04w\n",
       "eTXkrsFc+cbR56llmvH1TSbPKbAGU4z/eaStDlu7VLH/k68dmPPxLgf/x/4ChP6xvkSWXK0AAAAA\n",
       "SUVORK5CYII=\n",
       "\" style=\"display:inline;vertical-align:middle;\" /></a><br>"
      ],
      "text/plain": [
       "<IPython.core.display.HTML object>"
      ]
     },
     "metadata": {},
     "output_type": "display_data"
    }
   ],
   "source": [
    "interval_oc_within_Real = Forall(\n",
    "    (a, b),\n",
    "    ProperSubset(IntervalOC(a, b), Real),\n",
    "    domain=Real)"
   ]
  },
  {
   "cell_type": "code",
   "execution_count": 55,
   "metadata": {},
   "outputs": [
    {
     "data": {
      "text/html": [
       "<strong id=\"interval_co_within_Real\"><a class=\"ProveItLink\" href=\"proofs/interval_co_within_Real/thm_proof.ipynb\">interval_co_within_Real</a> (conjecture without proof):<br></strong> <a class=\"ProveItLink\" href=\"../__pv_it/theorems/bd4dbd370951054345824ed4fc0f273bb31254110/theorem_expr.ipynb\"><img src=\"data:image/png;base64,iVBORw0KGgoAAAANSUhEUgAAAKUAAAAWBAMAAABTW0EyAAAAMFBMVEX///8AAAAAAAAAAAAAAAAA\n",
       "AAAAAAAAAAAAAAAAAAAAAAAAAAAAAAAAAAAAAAAAAAAv3aB7AAAAD3RSTlMAq1RmmUTNIjK7EInv\n",
       "3XZ/CtNrAAAACXBIWXMAAA7EAAAOxAGVKw4bAAACwElEQVQ4y62VT2jTUBzHf03SNknTtAh6KUhA\n",
       "2EFRCspgO8xIVQaCVgdeJq4iIg6mKXgRJ3QXQVTsRWb8Mx8oQu2hVdGJMBBEcIgwRHAMCtnF6UDZ\n",
       "SWGg+P7kNX9mwg4Gkrz3+z4+7/3+JQDruCz4Pr/GFLl2XZduwPOw7XjY0Dt7f2y2yIQ8MWyJZW6D\n",
       "AFO9O4f3KYZX1atwuA9RYR+Zn45DqpUgE1ImfoyuYV4ERc5TYQJP0/U4plQMMXMGfuz6B1OyKlRI\n",
       "IYCMEcfUIMQcQcSK2ORbp9OZ7zLrVBDxKVKx4ewJM2doAFhAL0/7zpl4nGfCh07nfSzzAGOmC0sO\n",
       "M5z4sQH7RpOrfvb7fqXHYsIgwO1Y5knGPGYpqyxnP1HLArFCxomyxxwf+72M30SoQjrP7fIZd7D9\n",
       "xZ6z3PiRMtU3IM3RubAKmgPCaxoBf452PqIyFhSU8TYrEPCiXdYzMN12bW8pU1qBLLNIFci1QV4h\n",
       "4wk/U3lAYkwEwfFt9g7fe2u4pHXodwJMrQ4ttjdGjxiQpOes+pmySYJIhcoAfjQHSALlP4uIdghm\n",
       "LpsB31sO7O6W5yEEAg1ENlCfgxeI70R4OkryJ/8iqAXdbNAWz6SnePdNMaYBmwRLJcwaji2Idd4P\n",
       "HrNBzkOFcZwiyZTJkZWiWBmiTOlOt7eeUKbiCJ8kaOGkJooKdkFiwT3lMc/jWr/pCgkcP62sk+Rr\n",
       "NSnfa9u2oeuZI3zxdZb3zS+rXyG7gH0qlIjXLLiNjaj7XZoE+5zBBYCWpfRjMQeacZWeU08Ou4sh\n",
       "W/P10VY+uOS+h++5vRkWQLNuDKEmZFEfri0aT3jFcySaPiYvMChFtUhXSJZ2PINrhnzQgfQtPD/6\n",
       "pf1wPxcnPabKCyzyUxYW2OepadvlgLnhMXVuU6L+ESEhiSK2dmAm/D9ainI9JIjwf66/1Py5j13/\n",
       "dM4AAAAASUVORK5CYII=\n",
       "\" style=\"display:inline;vertical-align:middle;\" /></a><br>"
      ],
      "text/plain": [
       "<IPython.core.display.HTML object>"
      ]
     },
     "metadata": {},
     "output_type": "display_data"
    }
   ],
   "source": [
    "interval_co_within_Real = Forall(\n",
    "    (a, b),\n",
    "    ProperSubset(IntervalCO(a, b), Real),\n",
    "    domain=Real)"
   ]
  },
  {
   "cell_type": "code",
   "execution_count": 56,
   "metadata": {},
   "outputs": [
    {
     "data": {
      "text/html": [
       "<strong id=\"interval_cc_within_Real\"><a class=\"ProveItLink\" href=\"proofs/interval_cc_within_Real/thm_proof.ipynb\">interval_cc_within_Real</a> (conjecture without proof):<br></strong> <a class=\"ProveItLink\" href=\"../__pv_it/theorems/f2790eb9f980e50941613669ba83d33ba998b8a40/theorem_expr.ipynb\"><img src=\"data:image/png;base64,iVBORw0KGgoAAAANSUhEUgAAAKMAAAAWBAMAAABeRTF1AAAAMFBMVEX///8AAAAAAAAAAAAAAAAA\n",
       "AAAAAAAAAAAAAAAAAAAAAAAAAAAAAAAAAAAAAAAAAAAv3aB7AAAAD3RSTlMAq1RmmUTNIjK7EInv\n",
       "3XZ/CtNrAAAACXBIWXMAAA7EAAAOxAGVKw4bAAACuklEQVQ4y62VT2jTUBjAv7Zpm6TpaxH0UpCA\n",
       "sIOiBJTBdpiRqgwErQ48qLiKB1GZpuBFnFCPomI9yIx/ZkARapFWRafCYCCCQ4QigjIsZBcnA2Un\n",
       "hYHi9/KSNK+u2Q4+aJvve6+/7/8LwAqWAd8/8xrSKnc7uqJFVHjWqUsVeLl3+u7ItAZwGJ+zVLEu\n",
       "FLkBOKR8u/kvEiol2NtnAUHsDiofCyPKRR4JCX0p5DmQRPTvBMAFFJOVMKSgdSAz6tJIwUDjW9Ck\n",
       "hftqGFKBDuSw5SPJnVaLVcpBomuKBTH0IRGayp5O5KRfHvGkEfAy8hADTyDvfav1LhS5iyGTuTmb\n",
       "KY78WOUiHxnBwC/2oJhC7CDAzVDkUYY8ZEiLrFw/rbrBkKsDuRwd+T2PvzHMZwmSWU8vHncfNj7f\n",
       "dspTfnCQ8msQmo4cXQTFZshisDybHzi7UwCSFahejnJnzQJJwUTD1b1xkMICpJlGKEKm4fxHzAaR\n",
       "0j2N6hYQaweq8xY/27GChEC/zSGVCtSZaSQPqw4yySFFnSYwPkW9H8Cv2sAENfFn1qL9T5HzOhd4\n",
       "3YatflvucSNrcn05eJYGTnVPsOHlT+IvSpohetXpt1RyXHMPjzOkCmuihkyRZcwrQ+Y5ZJV6E6Nj\n",
       "M4ruC7pIHZa0WHHIQQq3/Il67CAlO/pRgDoWJKJJuotMtKtQOYMtfh1JNOERzJ1SIDQvSlnI9pqm\n",
       "qRKS2ucdvsIqvvZF6RukZzCiXN5rdfnagfZNNAbmaRXSnpW6IfXjmGVAUS85XpL4QcvdS5cD07Oe\n",
       "v9ziL72B9NZ5f46Nq0NWDdJWHzaVk0t45ZUnpgeQjS73pb/89Mbzm57CZVXcbUPyBsr7vzbu7/Q2\n",
       "x9pI2V4G2XmpsQupZpr8+WobSWAZpMS/KeJWF8s2THa+e750Qc7xYgz+y/oLpgy3i0VKmb8AAAAA\n",
       "SUVORK5CYII=\n",
       "\" style=\"display:inline;vertical-align:middle;\" /></a><br>"
      ],
      "text/plain": [
       "<IPython.core.display.HTML object>"
      ]
     },
     "metadata": {},
     "output_type": "display_data"
    }
   ],
   "source": [
    "interval_cc_within_Real = Forall(\n",
    "    (a, b),\n",
    "    ProperSubset(IntervalCC(a, b), Real),\n",
    "    domain=Real)"
   ]
  },
  {
   "cell_type": "markdown",
   "metadata": {},
   "source": [
    "***Upper and Lower Bounds on Real Intervals***"
   ]
  },
  {
   "cell_type": "code",
   "execution_count": 57,
   "metadata": {},
   "outputs": [
    {
     "data": {
      "text/html": [
       "<strong id=\"interval_oo_lower_bound\"><a class=\"ProveItLink\" href=\"proofs/interval_oo_lower_bound/thm_proof.ipynb\">interval_oo_lower_bound</a> (conjecture without proof):<br></strong> <a class=\"ProveItLink\" href=\"../__pv_it/theorems/db627688e89997b259763741136c8303b479e1a40/theorem_expr.ipynb\"><img src=\"data:image/png;base64,iVBORw0KGgoAAAANSUhEUgAAAOAAAAAZBAMAAADanj8DAAAAMFBMVEX///8AAAAAAAAAAAAAAAAA\n",
       "AAAAAAAAAAAAAAAAAAAAAAAAAAAAAAAAAAAAAAAAAAAv3aB7AAAAD3RSTlMAq1RmmUTNIjK7EInv\n",
       "3XZ/CtNrAAAACXBIWXMAAA7EAAAOxAGVKw4bAAADUUlEQVRIx62WX0hTYRTAz+7utru77TYIgpRi\n",
       "UNRDFBcLIx90omkQycjoISOGPURBcYUeDQyiFw0HErYCuYEvJuVSyPAhhhIFUUgJgTG5A8tQGr6E\n",
       "0UN0vvN5t28zdxfswO79zj3n2+/7zjnfHwBn2ZMxoDqiZT5W4haH6snRagMNB1O1gVpke9slDgyz\n",
       "1z4HYAVOXA6VG4xOwJOsfcUBWIETiVo2GNcIeBufvoQDsAInElkvZz1GQK8JEIg4ACtwIgmWfpDE\n",
       "sARNBnTjoLxORVOBE8mBEt29YAqaV6cqfZ/JvHOsUmcnktMs9LUrll0mXzhPzdX0T2KMwgQ8BfDQ\n",
       "EbjF6aBYfvnWZfxdNPy/uTa+ZKcWstYZnG+cgD3gC9sdlKubjcMvmm+IQNGJYhWzW3exlqK2ghuX\n",
       "OgfyPCk3P9mfj0OTuRMTmiag3wzke0Mto2aTMS0A0ykBKDgxMzzO93ChW5etvMbZrEOIerq68z59\n",
       "0EY91wkoWUI5vMVfax9GSYMGSwAKTszMFyYvPVS9ZgEYTMBErAQI8IE9PHyGEG9k8W6cZmP4kzVp\n",
       "Q0DgalTc2sgp175skBkwaOrUGtsdB3M1hRWDIZ2woAlKQgqeDXiCo57nwEncAdTPygbjLGrRMaqD\n",
       "gG9EF4HMSTN2eyNk9uGnp8YgA/4wl0GyxzaCwAjskoyiolHvu9KAYXYnOLAXy0GOKjhf8OvueCcB\n",
       "5UeJos2bOblhRAEye9DYCgOsOQT1pJI8x7+wpAV5U322RLGWfo2mPRgEOcWBLsxCMKaFKSFyuD6Z\n",
       "TEY0LXC2CMicADAKZJbCLF9ZnvVmUGzgPZzO3pc93/PFTAtR7bD21+E7FCscTxOGvwFtOyAY6acZ\n",
       "ap4uc8vxpKR9QGYkqBswhHmBdZgthDTUV7rViFvbLeE8DBqDneY4hMwTuAIohzATLQX2BuIyN7Oi\n",
       "eaP8bFBTsIiZ0eyCdkfLbSAtAtDTcmQKBiJKhwW+B6if/5YabSsFyl9frXIzDAOcq1vTlVm4k8O8\n",
       "5c/54TI8Om6KT3xe3ePJZKzMiU9me6lL9BzLG8fKAGlYRUCPWfEVQ96c0wV6thdmYW0PXNlyp3H/\n",
       "x51mhr/04o21Sre26/+4l6rbtJ3upXN/ASvE1XE9k5qBAAAAAElFTkSuQmCC\n",
       "\" style=\"display:inline;vertical-align:middle;\" /></a><br>"
      ],
      "text/plain": [
       "<IPython.core.display.HTML object>"
      ]
     },
     "metadata": {},
     "output_type": "display_data"
    }
   ],
   "source": [
    "interval_oo_lower_bound = Forall(\n",
    "    (a, b),\n",
    "    Forall(x,\n",
    "           Less(a, x),\n",
    "           domain=IntervalOO(a, b)),\n",
    "    domain=Real)"
   ]
  },
  {
   "cell_type": "code",
   "execution_count": 58,
   "metadata": {},
   "outputs": [
    {
     "data": {
      "text/html": [
       "<strong id=\"interval_oo_upper_bound\"><a class=\"ProveItLink\" href=\"proofs/interval_oo_upper_bound/thm_proof.ipynb\">interval_oo_upper_bound</a> (conjecture without proof):<br></strong> <a class=\"ProveItLink\" href=\"../__pv_it/theorems/f0f15fee79412e5fe58eb836cf2f503b69328f4c0/theorem_expr.ipynb\"><img src=\"data:image/png;base64,iVBORw0KGgoAAAANSUhEUgAAAN4AAAAZBAMAAACspI2IAAAAMFBMVEX///8AAAAAAAAAAAAAAAAA\n",
       "AAAAAAAAAAAAAAAAAAAAAAAAAAAAAAAAAAAAAAAAAAAv3aB7AAAAD3RSTlMAq1RmmUTNIjK7EInv\n",
       "3XZ/CtNrAAAACXBIWXMAAA7EAAAOxAGVKw4bAAADWklEQVRIx62WTWgTQRTHX3c3yWY33QQPglYl\n",
       "IOhB1EWlYKFlS6oVP0MrHizYiAdRUNZ7hQriQSst9FCjUlbowVi00YKFSqW0iIIIxYsgBBKoCi0N\n",
       "vWihB/HNm2yymzTdCBnY3Zl5L/nNvPefDwDvsjNjQl2Klvlai1sC6lYO15tnbm6pN0+LVjVd4rwI\n",
       "++z24NXgxMu+DXuVpws4FJ14x1jHVQ9eDU78j6uEwm/g6zrx7uA7MOTBq8GJiqRv3B9mYT5CPL8F\n",
       "oEY9eDU4UQlV9OwhmfRazGgxnohD8nvppQYn/u/lHa0n6TNDQdVJn18ymc+e+vR2onIKn1e55+/s\n",
       "UKxM8+/l/BYMUIR4JwAee/IqnPY6F0GxdgUfQ9slLXD1zGQLMvpjTZggJoh3CwIR21++Vqjsf9t+\n",
       "08lzOrEixu3aPZSRYTdwuxJNcb2BZBM4Y6tHWIdQFoRZ4gUttfhjaGLQXDKuqTCVdvAcTswMz4q/\n",
       "aEC3HrvxAc0gFRbF1qLAsCecBnmVeELWoYRP+HT0Y4g0aMk6eA4nZuYLkksSm0y+Ng/YVMp4jWno\n",
       "jYKPzw8Sbfgab5tiY/+bs2gfQN6S4dzPyCnfuWiSGTBByuQy0/pgfntpqdD232sqljueuPzOWSAs\n",
       "cN4bXPjKN3mNYb5rRookoAZGdSePOWnmNn+UzAHsemkOMt6KtQiCPbRRgFR8B6jg1ku4X5nHzA5x\n",
       "Xh8qQTJknC0EdTHRTTzpyZBrv2ZOIozKQGYfGjtggFWHoZmaVF4DHLx/Grrs7W1liedYD+KIpDTn\n",
       "NWAGQnEtQsmQIs3JZDKqaWqXi8ecADAGZBYiLFc5nvF2kG3eQ4CxvBAr7USttACVphjLYrx0Hk2Y\n",
       "wRYMehhC0Qc0P83XY1WcR/JsAMiMAGUNhl9gdRXmSvFs7C9fu82lA/G24/wLmYPd1jg0WkdR+pQ/\n",
       "mDbKeX1qQuJmppeP8u8WJQ3fMS2aLWXR2GTbiDl4vtiBSRiIymezEHiE7Qs/02PHy3nSj/dL3Awj\n",
       "AOcPLevyHNzNY9qLkxipjqPzxX2+87iPJ5PxTc53MtsrXKB3qmhMVefRoFw8n1XzfUIqzOgivTtL\n",
       "k8hW5f2quL+I/3F/KWz8unszrc/97MYG90+lSt3j/jn/D3CC0IM1BVn9AAAAAElFTkSuQmCC\n",
       "\" style=\"display:inline;vertical-align:middle;\" /></a><br>"
      ],
      "text/plain": [
       "<IPython.core.display.HTML object>"
      ]
     },
     "metadata": {},
     "output_type": "display_data"
    }
   ],
   "source": [
    "interval_oo_upper_bound = Forall(\n",
    "    (a, b),\n",
    "    Forall(x,\n",
    "           Less(x, b),\n",
    "           domain=IntervalOO(a, b)),\n",
    "    domain=Real)"
   ]
  },
  {
   "cell_type": "code",
   "execution_count": 59,
   "metadata": {},
   "outputs": [
    {
     "data": {
      "text/html": [
       "<strong id=\"interval_co_lower_bound\"><a class=\"ProveItLink\" href=\"proofs/interval_co_lower_bound/thm_proof.ipynb\">interval_co_lower_bound</a> (conjecture without proof):<br></strong> <a class=\"ProveItLink\" href=\"../__pv_it/theorems/a990fe4e5fda8cff616ca8555b4e5caff9fc79c50/theorem_expr.ipynb\"><img src=\"data:image/png;base64,iVBORw0KGgoAAAANSUhEUgAAAN4AAAAZBAMAAACspI2IAAAAMFBMVEX///8AAAAAAAAAAAAAAAAA\n",
       "AAAAAAAAAAAAAAAAAAAAAAAAAAAAAAAAAAAAAAAAAAAv3aB7AAAAD3RSTlMAq1RmmUTNIjK7EInv\n",
       "3XZ/CtNrAAAACXBIWXMAAA7EAAAOxAGVKw4bAAADR0lEQVRIx62WXWjTUBSAT5u0TdM2FgTBDSWg\n",
       "+CJKmTJxD1vH5iaIIzjxwYkUffAHlAx8nDBBfNlkhSEahRFhL3WM1Q2c+CBlY6iIMnSgKJUUppMN\n",
       "y15k4oN47k3T3LSsyaAHenNvzkm/e37uD4C77MqrUBeR8h+8mKWgbnKozjzVRVVnniRvrjtv8uLk\n",
       "sceF58GIyv5ac0lQ3jHSv+TC82BERKyMhJ/95irl3cI2lHbheTAiwiecY25JZ0aHKS+IryKyC8+D\n",
       "EZFoRQS/6g6tTngczinoVi8ejIjsc4wmvjm1wQStz3f5/FvX+nQ3InKChL1xxaCD8Y/ltBYbhqYx\n",
       "QHHKOw7w0JVXafSGWWhSuXcRf+fU8F/Sf3zBTisUjJOYzRTl9UMobmmEK6XOgWft11kea0SkPLiD\n",
       "VZS0BrhbifPAL5K+z+YdgTZ9OxZrjvLCekQpqxoJtKApUgRmswyPMSJqm+dDqz5rsIC+rEPM/PBG\n",
       "OZ6D0EU/XKc8v8FUwmv8dQ5ijCRoMRgeY0TUNi+Ko6Bu86JpmFKq6uU9aQKmf5BqJcrWWTKFfwWd\n",
       "7gPIW02y+xk1KnYvq1SNPHFmjeRwpNhgrxSM55QBbVXrIbABT3DOiyZvGhe++EnYIBZfpGSGmkZC\n",
       "YwmWR4wkdWdQzpTyN6mOEN4vfRn81szGkCfDDr/qWO/iPV8OMMZc2uQNYHD4pIDeQjjBpXopj3+U\n",
       "duzXxIiDMQF6S7xOGCadUWiGgGX6FP/B8C/x9n52mTR/xnMBDAGfNXk+TEFUkeI0G3y8WdM0WZIi\n",
       "pxw8YgSAMaBq5C1AwUx4OwgW7y46s/t5/8+KXbXH2NuEz5hin0dTargFfd8GUXmI+icF+vSq80jI\n",
       "hWDI9E/cgFHMCazDnB3P2GCtZXyTOf+i6kivPgEx/SiWPs0fvEhW8gYiKd5Uo3+vhN8tYha+YFYk\n",
       "q5K5ZC1eB8MLdBycgWFZ6DEg9ADHZ35kx7sqefz3l6umGnmnm9YSwhzcLmLOypvNffvfJ/NEPtsv\n",
       "6PniPN/Nup7QNKXG+U7VpfXnp22mrMvUcI/OysEL6J7vEyXeWdp22z4Ym/NWqu4vHGyVR5cop9T5\n",
       "fnat+v6pMW/ELdw/5/8DoVDXr7x5n90AAAAASUVORK5CYII=\n",
       "\" style=\"display:inline;vertical-align:middle;\" /></a><br>"
      ],
      "text/plain": [
       "<IPython.core.display.HTML object>"
      ]
     },
     "metadata": {},
     "output_type": "display_data"
    }
   ],
   "source": [
    "interval_co_lower_bound = Forall(\n",
    "    (a, b),\n",
    "    Forall(x,\n",
    "           LessEq(a, x),\n",
    "           domain=IntervalCO(a, b)),\n",
    "    domain=Real)"
   ]
  },
  {
   "cell_type": "code",
   "execution_count": 60,
   "metadata": {},
   "outputs": [
    {
     "data": {
      "text/html": [
       "<strong id=\"interval_co_upper_bound\"><a class=\"ProveItLink\" href=\"proofs/interval_co_upper_bound/thm_proof.ipynb\">interval_co_upper_bound</a> (conjecture without proof):<br></strong> <a class=\"ProveItLink\" href=\"../__pv_it/theorems/c7d9fc38e94b05a13eecca9f4484c4aa351b3f6b0/theorem_expr.ipynb\"><img src=\"data:image/png;base64,iVBORw0KGgoAAAANSUhEUgAAANwAAAAZBAMAAACoUV21AAAAMFBMVEX///8AAAAAAAAAAAAAAAAA\n",
       "AAAAAAAAAAAAAAAAAAAAAAAAAAAAAAAAAAAAAAAAAAAv3aB7AAAAD3RSTlMAq1RmmUTNIjK7EInv\n",
       "3XZ/CtNrAAAACXBIWXMAAA7EAAAOxAGVKw4bAAADTUlEQVRIx62WT2jTUBjAvzVpmyZdWjwIOpWA\n",
       "4EXUojJwsJHR6cS/YRMPDlzFgygo8T5hgnhwkw120KiMHHawDl114GAyGRtDRYThRRAKLUyFjZVd\n",
       "dLCD+L0vTZO26xKhH+Ql730f+b33/XnvAXjL7qwO9RA5+9WPWQrqJUfqjNO31tQZJys1VZctXJy9\n",
       "9nrgfBiR7N90VHy2iDNJEO44G7jmgfNhRP+t4YeQis0Nwt3FNjzsgfNhxIRPbD4eYz4+SriQCSAp\n",
       "HjgfRkyiVSP7KEN6TaY0GY7DGYW8UsWHEf28cqD1FL1myKMJyswv2exnz8z0NmJyGp9X+efvbD+s\n",
       "TlvvK4Vt6J044U4CPPHEVRp9chWYXPq6io8q7+EXrcSZyRUz6I85oQOXItxtCMdte+F68ePA2/Zb\n",
       "bpzbiEmpcx8TSLU7uEdxOrfRQBkTPmsnTmADojkIzBIuYkpa6TdNjJk3NFmCqYwL5zJiagfXgFY9\n",
       "dmcBtcAXq2F7KbVwJJYBYY1wgZwrCT7i09GPDpKhJefCuYyY2sFFscfy1sYBW0gFrjEDvQoErdVB\n",
       "qg2b8bYpNvO/eZPKH3HLqnsTI6NC55JOasSJkyssfkOFnU6J0Ibfq4tmuTOx7M6bEFi0cG+w3sVv\n",
       "wjqjfJfVNIVfCo8m3DhmJOs7Qkq6GLuX+hDDrZpLELAnNgqQ1naBBOWpEusX5zGqwxauDz3DqwKu\n",
       "FSIJLtVNOP7pcNkWzYw4GBWgu4jrgEH2MQLNELRNXwMcenAGuuw9bXXZim8ighPiMxauAd0f1eQ4\n",
       "RYKPNxuGociy1FWGY0YA6AFSI24B8law20GwcQ8BxgqBpLP9tFLhiU1JFkHNOYAm9EgLejwGUWWA\n",
       "VicHe8yqA0iYDcOAtTpxHUZe4McazDnObOyvLNlmpz7vuM67qD7UbY5Do3kMc55iB9NqJa5PSvGW\n",
       "Glf3QfjdImbgO4ZEtnOYU7fYLJIuXDB5cBIGFeFcDsKPsX/xZ2bsRCWO//F+2VIj7sLhlYQwB/cK\n",
       "GPHSEh7VptGBUn6aW04fNwxti9Oc1MW6C1CbLunStXE0pzJc0PR9eSjiLlHb6SwhVxP3q+quwsH/\n",
       "4qg0Oa2+N7Gb1fdMwzUi+r9nzv8DC6TMxQj6yzMAAAAASUVORK5CYII=\n",
       "\" style=\"display:inline;vertical-align:middle;\" /></a><br>"
      ],
      "text/plain": [
       "<IPython.core.display.HTML object>"
      ]
     },
     "metadata": {},
     "output_type": "display_data"
    }
   ],
   "source": [
    "interval_co_upper_bound = Forall(\n",
    "    (a, b),\n",
    "    Forall(x,\n",
    "           Less(x, b),\n",
    "           domain=IntervalCO(a, b)),\n",
    "    domain=Real)"
   ]
  },
  {
   "cell_type": "code",
   "execution_count": 61,
   "metadata": {},
   "outputs": [
    {
     "data": {
      "text/html": [
       "<strong id=\"interval_oc_lower_bound\"><a class=\"ProveItLink\" href=\"proofs/interval_oc_lower_bound/thm_proof.ipynb\">interval_oc_lower_bound</a> (conjecture without proof):<br></strong> <a class=\"ProveItLink\" href=\"../__pv_it/theorems/c9848305b2ce2575b85a84858bcf26dc2565544c0/theorem_expr.ipynb\"><img src=\"data:image/png;base64,iVBORw0KGgoAAAANSUhEUgAAAN4AAAAZBAMAAACspI2IAAAAMFBMVEX///8AAAAAAAAAAAAAAAAA\n",
       "AAAAAAAAAAAAAAAAAAAAAAAAAAAAAAAAAAAAAAAAAAAv3aB7AAAAD3RSTlMAq1RmmUTNIjK7EInv\n",
       "3XZ/CtNrAAAACXBIWXMAAA7EAAAOxAGVKw4bAAADRElEQVRIx62WT2jTcBTHX9u0TdM2FgTBDaWg\n",
       "6EGUMGWyHbaOzSmIozjx4ESKHkRBycDjhAriZZMVhmgVRoRd5tDVDZzsIGVDFEQZOhAmHSlMJxuW\n",
       "XWTiQXy/lyb7NXNNhD5o8vvlfdNPfu+93x8AZ9tVUKEmJhc+upGloGZ2uMY81cFVY54c39p3weDF\n",
       "2G2PA8+FiOxAtW9RiHeMtS878FyImElVI3GVeLfwGsw48FyImAlKNe8R4gU0gHDcgedCxCxif+Dl\n",
       "YxLRGM+H3xRwqhcXImb7bH3fvMb1AgrV5/tC4Z1jfTqLmJ1kYa9f1s0K+WLgpFJd/wQGKEa8EwAP\n",
       "HXmbRPu5dlOs3LiEv/Nq6LfRG1s00wpF/RSONkW8XgiaehCvlBsHX7Rd53m8iCKVNFt3sIxMF65W\n",
       "0iwIc9S58cmUHIVWbTsmM0+8kBa2XoZ6Bi1mk3IYpnIcjxMxNzy23vDkNnivcSxrEKUXPRctSRo6\n",
       "6cU14nl1rhLe4q8jjaGXoVnneJyIuY0JaVRduoIXycB40sYD+MAufmN8kGphwW6ZYp/wp6jROoC8\n",
       "lQS/npGodHxJJTdgyKTJVbYkDpbq+HiO69AKtniCfx2e4DfPGbwJnPjSZ3GdYRbkxCiVVjg4rPA8\n",
       "JpLVnYE4uYP46Kk6yHg/tCWLN4y8OOzwqhX1It3z5AFj7MsYvD6UCwkRRwshxZfqJp7wKFOxXjOR\n",
       "D4ZFILcfnR0wwJpD0GjxnuM/6N55odx9tkjzwftrJO/HxULIGTwPZiCSlGOUDCHWmM1m47IcPl3B\n",
       "YyIAjAG5vTGWrKKR8TaLdxcHs/tl73erimkCSl363ga8R5Mb+9G4GmpG3zaIxPtpfLK/R9u0H4n5\n",
       "IJBbzIC0DkOYFFiDGYsXTdsXGH49u8ntfxF1sFsbg6jWhKVP+YPphJ3XF04JhpvVyxvxZ7OUgwVM\n",
       "i8nzJaotG+0cz99+aBIG4mKXDsEH2D/7LTfSaecJX1+tGG64D3CmYVURZ+B2aWM+sMdbGu0vlfu7\n",
       "sQOMZbPJKvs7uXvMDYCuFm+0Ci+k2nl+zfV5QigfVM5V8oL61rzlTecX33+cX6aNm1LJq8357No/\n",
       "zp8Svz/ors+fs38BJ+nRxEZMG9IAAAAASUVORK5CYII=\n",
       "\" style=\"display:inline;vertical-align:middle;\" /></a><br>"
      ],
      "text/plain": [
       "<IPython.core.display.HTML object>"
      ]
     },
     "metadata": {},
     "output_type": "display_data"
    }
   ],
   "source": [
    "interval_oc_lower_bound = Forall(\n",
    "    (a, b),\n",
    "    Forall(x,\n",
    "           Less(a, x),\n",
    "           domain=IntervalOC(a, b)),\n",
    "    domain=Real)"
   ]
  },
  {
   "cell_type": "code",
   "execution_count": 62,
   "metadata": {},
   "outputs": [
    {
     "data": {
      "text/html": [
       "<strong id=\"interval_oc_upper_bound\"><a class=\"ProveItLink\" href=\"proofs/interval_oc_upper_bound/thm_proof.ipynb\">interval_oc_upper_bound</a> (conjecture without proof):<br></strong> <a class=\"ProveItLink\" href=\"../__pv_it/theorems/4dd791997df393fd8ec5c0cd0a0040d7c217d91e0/theorem_expr.ipynb\"><img src=\"data:image/png;base64,iVBORw0KGgoAAAANSUhEUgAAANwAAAAZBAMAAACoUV21AAAAMFBMVEX///8AAAAAAAAAAAAAAAAA\n",
       "AAAAAAAAAAAAAAAAAAAAAAAAAAAAAAAAAAAAAAAAAAAv3aB7AAAAD3RSTlMAq1RmmUTNIjK7EInv\n",
       "3XZ/CtNrAAAACXBIWXMAAA7EAAAOxAGVKw4bAAADTElEQVRIx62WTWgTQRTHX7Kb7GaTboIHQasS\n",
       "EPQg6qJSaMGSkvqBn6EVDxZsxIMoKOu9QgTxoJUGetColBV6sBZttGChUiktoiBC8SIIgQSqQktD\n",
       "L1roQXzzNtnMbtvsCnmwu5N5b/Pb+c97MwPgbtsLOjTC1MJXL2FpaJQdbDBOr+9pME6Nb+i6aOJi\n",
       "7LHTBechiGzPur3K0zn8Eo1wR1jHFRechyD63zU67CINgwm8XSPcbbxLWRechyBmouboOHyCHlGm\n",
       "8SHCBQ2AcNwF5yGIWcTxe2nSfPYazGkwnIBfFHRLFQ9BJJ1d2qlipTVFimqUmV8Khc+umekexOwk\n",
       "Xq9Kz9+RDsppS9pL5U2oToxwxwEeu+LWBO3m2q2xSuMyXgl1hzjHaJst8ZU/xpgOQppwN0GqhoN8\n",
       "tdLY+7bjBo/jg5gJqWrrLmZQ1YVrlKALqz4aVg3nX4VIEfzThAsZYetdaGbMUi6lhmEiz+G4IOaG\n",
       "Z9YbvnwN9wG9IFaqQbLExJ5oHuRlwvmLXBJ8wqszg0WpQluRw3FBzG0WopmNGRsO2EAcqdKUh944\n",
       "BMzRQbodb6PtE+zL/5YMKn/ELST4RYyCysfmdXIDzo4yvshqeKC8lRcTs15XDHshYNmdNcA/Z+Le\n",
       "YL0r3+QVRvmuJkZo8QtLQxqPY0GqviUYJ7eEXS/1AYZbMuYt3BDASGobhB1lHs0oszirWRPXh9Fi\n",
       "QsaxQkgT0t2EE59kbUs0CxJgSAZyB9DZCf2sOQgtFu41wP57p6CLq0SmvE8LoVJi3sT5sCuSUmM0\n",
       "EWKsJZfLxVU13GXDsSAAVIDc/hibqJI52x0W7gHAcNmfdC4/SnOSzWCqtgGN6aE2VDwKkfh9Gp0a\n",
       "6DHWbEDytATklrOgrMDgC2wuw4yFa8rUqd5b3H4X0Qe6jVFoMlox52nuYDLhxPWF06LpZqnyUf7d\n",
       "puThO85JFSck6uCSHC6Q3DcO/XH5TBGkR/j7/M/88FEnTvzxfsF0w0OAcwcWNXkG7pRrhcC6LQUL\n",
       "ZNZ4aUOx7+am6KO5XKrObk7unuqCQXcLN7Lx4EK6ExcwPB8exMqh5IIdJxU3xP1ac1YR/uOsUtnJ\n",
       "NDuuISex6+ucMxV+Ryh6PWfO/gMR/NHxDavSIgAAAABJRU5ErkJggg==\n",
       "\" style=\"display:inline;vertical-align:middle;\" /></a><br>"
      ],
      "text/plain": [
       "<IPython.core.display.HTML object>"
      ]
     },
     "metadata": {},
     "output_type": "display_data"
    }
   ],
   "source": [
    "interval_oc_upper_bound = Forall(\n",
    "    (a, b),\n",
    "    Forall(x,\n",
    "           LessEq(x, b),\n",
    "           domain=IntervalOC(a, b)),\n",
    "    domain=Real)"
   ]
  },
  {
   "cell_type": "code",
   "execution_count": 63,
   "metadata": {},
   "outputs": [
    {
     "data": {
      "text/html": [
       "<strong id=\"interval_cc_lower_bound\"><a class=\"ProveItLink\" href=\"proofs/interval_cc_lower_bound/thm_proof.ipynb\">interval_cc_lower_bound</a> (conjecture without proof):<br></strong> <a class=\"ProveItLink\" href=\"../__pv_it/theorems/92e60849c9a7e00cec96b162221e6cd130535dbe0/theorem_expr.ipynb\"><img src=\"data:image/png;base64,iVBORw0KGgoAAAANSUhEUgAAANwAAAAZBAMAAACoUV21AAAAMFBMVEX///8AAAAAAAAAAAAAAAAA\n",
       "AAAAAAAAAAAAAAAAAAAAAAAAAAAAAAAAAAAAAAAAAAAv3aB7AAAAD3RSTlMAq1RmmUTNIjK7EInv\n",
       "3XZ/CtNrAAAACXBIWXMAAA7EAAAOxAGVKw4bAAADMElEQVRIx62WXWjTUBTHT5u0TdM2FgTBDSWg\n",
       "+CJKmDLZHraOzSmIozjxQUWKPvgBSgY+TqggvmyywhCNwoiwlznG6gZOfJCyMVREGTpQlEoK08mG\n",
       "ZS8y8UE896ZLblLWROiBJPfm/JPfvefcLwBv21FUoR4mFd/7kWWgXnagvjjVw1VfnCRv7jtn4pLk\n",
       "scsD50NEbG+tpigUd5iUL3rgfIjQRHcYguwnVyjuJt4jOQ+cDxEarzjr3KLO1A5SXBhfxWQPnA8R\n",
       "WtwVvi+6w6sTHIdNCnsNFR8itD2O2vhXpzes0JH5tlh84zkyvUVox0jIG5cNWhn9YKW03DAwhdFJ\n",
       "UtxRgAeeOLfoNTPDWpKVwgW8zqrRP6T86LydUigZxzGTGYrrg8iGHoTLlcK+px3XWBwrImZVbufs\n",
       "Ci5R4hzwC6QcsHGHoF3fisO0QHFRPZa2XI2EWdLSUgxm8gyOERG3jQvkbdw89mQNEuZ3161gZqGb\n",
       "frdGcUGDGQSv8OrK4qiSoNVgcIyIuG1cPOvAxXMwma4aKu/ILWT2DjJtxNk2Q1rwt6TT6Y+4lRS7\n",
       "iFFR+ciSSt1IEKdXSf6Gyg1sMCcNaK+aCKF1eIwtXjBxUzjfxY/COlF8llJjVBqLjCgsjogkdXtY\n",
       "HqvkbkIdIrif+pKFG0GcDNuCqmOai3cDBcAAczkT149yPiVgXyGqcJleiuMf5hxLNBFxMCJAbwXX\n",
       "BYOkMAzNFu4J/sAILvL2InaJ3H6PFkK4RPB5ExfA8MfTUpJmgk82a5omS1LshANHRAAYAepGwjyU\n",
       "zGR3WLg72JWdz/p+uFbSHmN3Ez4TaXsDmlSjrdjzLRCXB2jvpNAZvWoDEgoRGDB7J67DMCYE1mDW\n",
       "wiWytWbvDWa/i6tDvfo4JPQWHPM0d/A85cb1xzK86UbCS+FXq5iHz5iSDRyXqoXrZHChzv3TMCgL\n",
       "PQZE7mP91Pf8aLcbx397sWK6kXCyaVURZuFWmZkV9+yfTxSJfbJf0A3FuZuba/64pqVr7ObUXSEE\n",
       "nUvMWI3ORVU3LqT7PjxUCKeduIixOW656qzCwf/iFCeuPiexq9XnTI3dEQzf58y5f55C1AIHzO4Y\n",
       "AAAAAElFTkSuQmCC\n",
       "\" style=\"display:inline;vertical-align:middle;\" /></a><br>"
      ],
      "text/plain": [
       "<IPython.core.display.HTML object>"
      ]
     },
     "metadata": {},
     "output_type": "display_data"
    }
   ],
   "source": [
    "interval_cc_lower_bound = Forall(\n",
    "    (a, b),\n",
    "    Forall(x,\n",
    "           LessEq(a, x),\n",
    "           domain=IntervalCC(a, b)),\n",
    "    domain=Real)"
   ]
  },
  {
   "cell_type": "code",
   "execution_count": 64,
   "metadata": {},
   "outputs": [
    {
     "data": {
      "text/html": [
       "<strong id=\"interval_cc_upper_bound\"><a class=\"ProveItLink\" href=\"proofs/interval_cc_upper_bound/thm_proof.ipynb\">interval_cc_upper_bound</a> (conjecture without proof):<br></strong> <a class=\"ProveItLink\" href=\"../__pv_it/theorems/750096fad9d5149f143e260f54284dc64ce564430/theorem_expr.ipynb\"><img src=\"data:image/png;base64,iVBORw0KGgoAAAANSUhEUgAAANoAAAAZBAMAAAClTy3yAAAAMFBMVEX///8AAAAAAAAAAAAAAAAA\n",
       "AAAAAAAAAAAAAAAAAAAAAAAAAAAAAAAAAAAAAAAAAAAv3aB7AAAAD3RSTlMAq1RmmUTNIjK7EInv\n",
       "3XZ/CtNrAAAACXBIWXMAAA7EAAAOxAGVKw4bAAADOUlEQVRIx62WT2jTUBzHf23SNk27tHgQdCoF\n",
       "wYuoQWWwgiOj8w/+LZt4UHAVD6KgxPuECuLBTVbYQasyctjBOnTRgYPJZGwMFRGGF2FQSGEqbKzs\n",
       "ooMdxN97ydKX1DUR+oMkL+/3I5/8vu/93nsA3razrEITTCp/9ROWgybZoebS1Mae5tKk1KauyyYt\n",
       "SR67PWg+gojt/Wev+Gwef0SmtKOk45oHzUcQ+WydCHuogGEFbzco7S7eIwUPmo8gNF52dRw5SR8J\n",
       "IvBhSgtrALGUB81HEFrc9b4yaT57NeLUCI3DHwp7zRIfQUQ3p65ThtWaonLKdE5+KZc/e85J7yC0\n",
       "U3i9qjx/R0UQz9i6XqluQWmSlHYC4IknzR30iams9qTVuIqXIu3i5wlsqy28+FsbU4HLUdptiGyE\n",
       "g3Ddaux723mLpbFBxOyX+4XaCy5MnMqtB2hSNVpwHeIGBKcpLarFsvZXWgmyUsxKMZjQGRoTRNw1\n",
       "WkCv0ebQCbxVBhFbSexJ6CCsUlrQYMb/I15deSxGCdIGQ2OCiLtGi+cdNCBpuGZJiw69KQiZuUGu\n",
       "A2+jHRPkv/9UNFr1SFtS2JWLBlWPL6rUjQBxfJmM3WB1O6skTndV1JwVgOV2ToPgvEl7g2UufhPW\n",
       "CGRBUkp0xYtFhmWWRoIkdVs4VbLG7aU6SGgr2qJNGwYoZXdAzFXdibw4iyNaMGl9GM0rAmYKUZnL\n",
       "9VAa/7TgWJVJEAfDAvRYtC4YII0haLNprwEOPDgN3UwFEtUDchRl4nWTFsCueFZK0lHgk23FYjEl\n",
       "SbFuB40EAWD+1I2AOaiYA91p0x4CjFSDGfeaI7ZmyOhlazvOmBpNo9wJiKf6aW5S6JJWt+MI0xHo\n",
       "N3MT12DoBTZWYcamteQbFO0dZn+Lq4M92ii0aO042em4waTipvXFcrzpRsAH4Vda1GEBx2ODxikN\n",
       "aBmGFsrsH4eBlHDWgMhjfL/wQx855qbx398vmW4EnD+4LAszcK/KlMMjRr4yNTtbuoM4925T8dFi\n",
       "Mdtg76ZuCxB0LiylzVOLqm5aSPN9UrAAF520iLEp7WfduYSD/6XJTlpTzlw368+TRXYPMPyeJ2f/\n",
       "Ar6AzjNGlZ4uAAAAAElFTkSuQmCC\n",
       "\" style=\"display:inline;vertical-align:middle;\" /></a><br>"
      ],
      "text/plain": [
       "<IPython.core.display.HTML object>"
      ]
     },
     "metadata": {},
     "output_type": "display_data"
    }
   ],
   "source": [
    "interval_cc_upper_bound = Forall(\n",
    "    (a, b),\n",
    "    Forall(x,\n",
    "           LessEq(x, b),\n",
    "           domain=IntervalCC(a, b)),\n",
    "    domain=Real)"
   ]
  },
  {
   "cell_type": "markdown",
   "metadata": {},
   "source": [
    "***Translating Boundedness to Interval Membership***"
   ]
  },
  {
   "cell_type": "code",
   "execution_count": 65,
   "metadata": {},
   "outputs": [
    {
     "data": {
      "text/html": [
       "<strong id=\"in_IntervalOO\"><a class=\"ProveItLink\" href=\"proofs/in_IntervalOO/thm_proof.ipynb\">in_IntervalOO</a> (conjecture without proof):<br></strong> <a class=\"ProveItLink\" href=\"../__pv_it/theorems/c0786abb5247ce9fb580f1831bafbc7db7d444d00/theorem_expr.ipynb\"><img src=\"data:image/png;base64,iVBORw0KGgoAAAANSUhEUgAAAPcAAAAXBAMAAAAl5sTiAAAAMFBMVEX///8AAAAAAAAAAAAAAAAA\n",
       "AAAAAAAAAAAAAAAAAAAAAAAAAAAAAAAAAAAAAAAAAAAv3aB7AAAAD3RSTlMAq1RmmUTNIjK7EInv\n",
       "3XZ/CtNrAAAACXBIWXMAAA7EAAAOxAGVKw4bAAADYUlEQVRIx7VWTWgTQRR+TXbzs0k2VUGoBQko\n",
       "gooSpCjtoU2pVkGsxYIHFRvxIHoo24unKvGsYg6KxmrZQxFqDokVrBWUgAgFUYKIP4XAVtRqD6En\n",
       "Kz2I783MZidx0SLbB2958/K9+WbmvXkTAE8l6O42XMYGeC2fXL16osFxUmgzDTZ5xO0rurq3S7Z2\n",
       "p4yrSXLdR54zHpHfc/VqaXkUSOHnHNdLlKmsR+Q9rl4lKY/ilIM2rgETIJLwiLxUl+m7lXfMiNZh\n",
       "Bk1ymUz9uKyAVymXz1cdMoW1pQ70lJ19kuurSuWlR+QK1ptW3XB5kgbnbW44SJltnbf46FR1LZ51\n",
       "M9cDALf/PW9qJeS0FwXmrEP1RXwa9YQRXubV98MsGODHMyIdhmCzDQudrZ9tx6PuIW79pSSdoBjW\n",
       "zh7oMtfRwEnBG6R8DkqZp2YZohb4sDpIw2akv4Zrleacy/XrEZgqupBrdWYtKIoTZaCXh2M6Kx+Z\n",
       "+QLPYxFifCIlDfEihBaBqc+S6m3GMfdmsGB16LD+JA92m7I5I5MDvOaLciKQPJqFAt8irmEwASru\n",
       "mhTSnfjJd07Rcn/N0bTV/Z8NakBEvpCSyAVqjcEx3BRB4thBXYL7NCjLx16woKt2zQ+b4MNfSWES\n",
       "W432PrREZLM6culGSyAxwa5qJDiWdMg5Sr1uCIwwWRBJ2ALtRlMJ2AFXa+RjSJ6A9T6DshXPYP7B\n",
       "n+UKI1hvSipEhxBOsjKEsRAMMHJlNCsVHEOpo7RPhuEmDyLBy+P7OV5SWc8K1DrXA1qW760CBcQ1\n",
       "JcMpfilJoSlD2dKp5KMZhVU+7m93LpdL6HrkiETOUFfEpIjhph2ESSiD1mdt3sWT3nJMkF/FwcbH\n",
       "w98gNotWK/XgWD9XJgUj3IG7iEOU5guVgnCZ7VxXj5sOOUNp04ySMNwUQSQf5LJUp0V7jWVs1zbb\n",
       "uCCU16lxbcDMQ8xshzyMRNIK3kCWc3giFRxDAXzHMmAYblKQkDbXRuCvdaii/ALVXiG1Z+dDPMVQ\n",
       "n4Vf5cuzBQjeQvfRr8XxXoecoVDak8Aw3KQgIWH3vyc37Z5gA+kZbXxKE9IX8rmc03wamsxWw82s\n",
       "u9yyTNjvnLzIhoWqpvNtlBW++Bfd/9lZDY55oXJupO9/kq+OGKsx6W9EOOFwQ1aRZAAAAABJRU5E\n",
       "rkJggg==\n",
       "\" style=\"display:inline;vertical-align:middle;\" /></a><br>"
      ],
      "text/plain": [
       "<IPython.core.display.HTML object>"
      ]
     },
     "metadata": {},
     "output_type": "display_data"
    }
   ],
   "source": [
    "in_IntervalOO = Forall(\n",
    "    (a, b, x),\n",
    "    InSet(x, IntervalOO(a, b)),\n",
    "    domain=Real,\n",
    "    conditions=[number_ordering(Less(a, x), Less(x, b))])"
   ]
  },
  {
   "cell_type": "code",
   "execution_count": 66,
   "metadata": {},
   "outputs": [
    {
     "data": {
      "text/html": [
       "<strong id=\"in_IntervalCO\"><a class=\"ProveItLink\" href=\"proofs/in_IntervalCO/thm_proof.ipynb\">in_IntervalCO</a> (conjecture without proof):<br></strong> <a class=\"ProveItLink\" href=\"../__pv_it/theorems/af229576c0b308afe4b60d4cc92f114056c5a3bf0/theorem_expr.ipynb\"><img src=\"data:image/png;base64,iVBORw0KGgoAAAANSUhEUgAAAPUAAAAXBAMAAAAhExTfAAAAMFBMVEX///8AAAAAAAAAAAAAAAAA\n",
       "AAAAAAAAAAAAAAAAAAAAAAAAAAAAAAAAAAAAAAAAAAAv3aB7AAAAD3RSTlMAq1RmmUTNIjK7EInv\n",
       "3XZ/CtNrAAAACXBIWXMAAA7EAAAOxAGVKw4bAAADUUlEQVRIx7VWQWgTURCdbnaT3U2ybVUELUhA\n",
       "LxWUIEVpD21KtXqxFgteKjZ6EXuQ7b1KPEoL5mDBWC0rFEFzSKhoVagEvAii9CAohcBW1NqApScr\n",
       "PYgz/2+yP9s06WEdmM//nzf/7cyfmb8Avkqo1uavL54N01F/5WutzefejUuOttDioE/UUr4Rt/5g\n",
       "EcCIcz1FO1d94n4MDf0OJnAY5XqLbintE3dfY+7mGA4dXIMWQDjmE3eharVaLCa3cI8gH0QspgGM\n",
       "e9Cv606KqwulWn4vsMDHuX4oFt/7xC1jqulr+yfmWLmNCjEPta3YfHF5bRcGuoXrGYD7jY9N7ISb\n",
       "XJFh2T7LFqbAfdHUNnme/7ZyJgQwQKRjEGopo9Rr1YcdedF7nc+qs7Fd7AyuURTz5gT0WLsZt5Br\n",
       "+luQF/m1bELEBgkTg1SzwoMVWJtw5HJm0AjDfH4rd7stFKxgFMGDUtDPF5NFlDTnltchys+Rk9Cc\n",
       "B3UdmEq2kGrv3OnJFDYAA7rsLdydcaGJ9lquUYQ58ZEvngh+R9KQ4w7iJ4zEQEGfSSHZjUO2e558\n",
       "/btMJbB2+ptJfYe4SwmBm6FWWUUSBg1azbKRE3NQNuApWwjcORt6KuV9zgIJL4AU5jAh9c/qBnEt\n",
       "GUhlmPuCMfbZRjg0E3e5GWqSUTMMKHfNshGJZoM+1VQAFl7DFrhjsFcydeJO4d1DIM0VxjHV5IRK\n",
       "IdDiLANhRoUhZi9Pp4VcYyhpmrxkGIVNuREJlo30Z7ag8FZ1xeXWbOmTDDmENcW1BC9GUmhK0U0Z\n",
       "lOyRlMxyHmNwPJPJxAwjfF7g5ijOSBgegrIR3sAi6AP2oWN89WjKquT5gZdjPyG6hKFro74bHeTK\n",
       "JGdqXYhshggdpxZCMMH8NpRhy+V2UOoek2P0V4R2jEiqH+rhh56eerg8ueEoz1DzzpCVhajVCVkY\n",
       "DydlLD123/BayDWGouRutRgG8w6zgYwc6aj/luTFN6fy7ih9R59hCNUBG0f5+5sShO5RS/6Rn+13\n",
       "uRmK/54wDK83MnJEM+tx62UcvZvetzMmjJDNZNyeA9u+slUtTk/X4zbET/R8pmK5o1d2+MLfrLW5\n",
       "4P1fW3FUkIAwbs99Gwsg4/+fXh35H2T/AEr27DoqVt9AAAAAAElFTkSuQmCC\n",
       "\" style=\"display:inline;vertical-align:middle;\" /></a><br>"
      ],
      "text/plain": [
       "<IPython.core.display.HTML object>"
      ]
     },
     "metadata": {},
     "output_type": "display_data"
    }
   ],
   "source": [
    "in_IntervalCO = Forall(\n",
    "    (a, b, x),\n",
    "    InSet(x, IntervalCO(a, b)),\n",
    "    domain=Real,\n",
    "    conditions=[number_ordering(LessEq(a, x), Less(x, b))])"
   ]
  },
  {
   "cell_type": "code",
   "execution_count": 67,
   "metadata": {},
   "outputs": [
    {
     "data": {
      "text/html": [
       "<strong id=\"in_IntervalOC\"><a class=\"ProveItLink\" href=\"proofs/in_IntervalOC/thm_proof.ipynb\">in_IntervalOC</a> (conjecture without proof):<br></strong> <a class=\"ProveItLink\" href=\"../__pv_it/theorems/e0261db91872251b9cb393eff01c8bdeab1024420/theorem_expr.ipynb\"><img src=\"data:image/png;base64,iVBORw0KGgoAAAANSUhEUgAAAPUAAAAXBAMAAAAhExTfAAAAMFBMVEX///8AAAAAAAAAAAAAAAAA\n",
       "AAAAAAAAAAAAAAAAAAAAAAAAAAAAAAAAAAAAAAAAAAAv3aB7AAAAD3RSTlMAq1RmmUTNIjK7EInv\n",
       "3XZ/CtNrAAAACXBIWXMAAA7EAAAOxAGVKw4bAAADeklEQVRIx61WT0gUYRR/7s7+m52d1YqghBgo\n",
       "AotiCSn0oCuWBZFJQhcjtzpEHmK8W2zH0MhDUpslE0hQe9jNICsoFiIIopAICmlhjMr0IJ4yPETv\n",
       "vW9mZ3ab0MM82G/fe7z3/b7v/ZsPwFeKeKv1alEtZ2tVPtBXT62q1SjiPXAa/+qJ3+4TdKDoqd7t\n",
       "4uU7M4ytpgAOkeK8T9j3PbVyxi2F04wNAwBXKEujPmF3emqllFtKagK7GY9hIKv5hF2qkhbKZb6x\n",
       "UqXtNwS2YkAQDxX2K91VwT25aDE7q4xeiFqDMAK/K5ff+oQtYanJS1uHp7jdBmz1UZIa500hnVna\n",
       "wNhxrPIjALfX3ja9Hmy6igRz5jEWKh18Dn+n9NiqKLxfRkEn7CAGaRAi9bZV9EL1ZnuedFwU3H+r\n",
       "sUl3nBJYNweg3djI2BWTD4j4CqQZkZdVUEzCDmBxxAziLGp0No3O5XrUOEwXPbBlB9p0OSm4URa6\n",
       "hDBSRmK31xiNZUiIjaQMJIuEGF1GfNNVam8c9mAWB5IKrea/2JEOw+JaUm4nhS/xXggPKuaIrYxC\n",
       "QdwQj9CvEXaImiLThku+bZru+meOdl06/E2nuUPYi2kXtmXVoAsbWNAcJyvmEFqBhyy4Y14wob3S\n",
       "3sc50gHKwRQWpPwpukJYsypCqfqWsMbHVuORiZSDLaxCN3TLZoTngnAiipkgj9WVgKOrmjb2BGJr\n",
       "sDmgU6qSWcw91xptOYSlJqWjFIJYiqovCBNR6GV/aXzUVWtsFRqnW7JNgFnhxJ+Iegj8niyFxKg6\n",
       "a2M/olMFPkpQQLu6VCzN2NSQUJelTKlU7EpW4prH2+3P5XKaqsZPuLDZasQaghQnPofthNGfAbnb\n",
       "3LFPSPfGrFRcw4htezr4ExKzyDV2itmSsCu8oMda0TIJCmewFIFhvrca6jMcbLaSnzE42eC6Sbed\n",
       "iD5XdUPfXTFTE1lbs8v5hsKlSoXq13uNPCSMFsjDUDwjYetxvuG5q9bYCuc0lgDbUMk3GORkUbPn\n",
       "CAhWBlPRhV357oQ69z7GaEa7TVyl7y8XIXKLRvKP4mSXg81WorPYRrxUyMmimPdr5KY9FkwHu/bb\n",
       "qblWyOdyzsypmS1N/3nxyN7jz2511fVuqTlmyHDWWlrnF/6y9yvOrHlDfemB+Zq8uNZ1YV/FXsj5\n",
       "/+hb46XpC/0F/HfkaXVmsF8AAAAASUVORK5CYII=\n",
       "\" style=\"display:inline;vertical-align:middle;\" /></a><br>"
      ],
      "text/plain": [
       "<IPython.core.display.HTML object>"
      ]
     },
     "metadata": {},
     "output_type": "display_data"
    }
   ],
   "source": [
    "in_IntervalOC = Forall(\n",
    "    (a, b, x),\n",
    "    InSet(x, IntervalOC(a, b)),\n",
    "    domain=Real,\n",
    "    conditions=[number_ordering(Less(a, x), LessEq(x, b))])"
   ]
  },
  {
   "cell_type": "code",
   "execution_count": 68,
   "metadata": {},
   "outputs": [
    {
     "data": {
      "text/html": [
       "<strong id=\"in_IntervalCC\"><a class=\"ProveItLink\" href=\"proofs/in_IntervalCC/thm_proof.ipynb\">in_IntervalCC</a> (conjecture without proof):<br></strong> <a class=\"ProveItLink\" href=\"../__pv_it/theorems/e5a5bbb669ae70d135b833069ecc41b146ad331c0/theorem_expr.ipynb\"><img src=\"data:image/png;base64,iVBORw0KGgoAAAANSUhEUgAAAPMAAAAXBAMAAAAsDWSYAAAAMFBMVEX///8AAAAAAAAAAAAAAAAA\n",
       "AAAAAAAAAAAAAAAAAAAAAAAAAAAAAAAAAAAAAAAAAAAv3aB7AAAAD3RSTlMAq1RmmUTNIjK7EInv\n",
       "3XZ/CtNrAAAACXBIWXMAAA7EAAAOxAGVKw4bAAADRUlEQVRIx7WWTWgTQRTHX5NNsrtJtvUDQQsS\n",
       "0EsFJUhR2kMbqVYv1mLBS8VGL2IPsr1XiUdpwVwKxmpZoQiaQ0JFK0Il4KUgSg+CUgxsRa0tWHqy\n",
       "0oP43pttdjaNTQ/bd5i8Gd6b386b/8wEwFeL1Br89dnbN8oZMMFv+1pr8EX1QLQXruBPE/mHfCIH\n",
       "ivXQ+sM5RhtJgDM0cN0n9BOou+pwitEwCHCHdijrE7qrProxIdCt+BUWugmf0CVPb6lcTm9CD1gC\n",
       "HbMgiEUP+7XVabl3abnWqmeEzCCM3Pfl8juf0AqqTF85MDLF52xQKnikedEWnasruxkdRX2fA3hQ\n",
       "f9bUdtC0EgUW7PPcMSX0ZVNbFwr/bRVMQgexQkMQadoIUm945zr68tRN4XmF2GJKrpsUR82chE5r\n",
       "D6MlmelvQZkTe7IOMZvQAdSFZpHnWLM7vbqQ6zWiMF3cjG6xPW4lKYYTZaBbdEbLaFmBVlYhLuZR\n",
       "0tBYJKC6inhbUtms657O4JVnQLu9Cd2W9LqzMhrgg+g8lVYdy0JBrA+/YCBB6BCdhnQHNvmOaVrp\n",
       "3wXUPqyc/WbSdUPo5ZSE5qglPooUI1wnySk4hNbgGXckdMGGzsqxvsBlDtAGTKEU9U/qGqHmDSQZ\n",
       "5v5wgj/aiEYmki6ao0aZzDGOy0lkmg36WEMJuLaGLaETsC9g6oTO4L6zzGjGYVSZklKpAFqShBeE\n",
       "CRX6OF0Zz0oy46jAOK2RY4QrkvhZaILAn8lSSNxQ11y0Zgc+KlDAsIaklmI0HURoyNAuGSTzWEZh\n",
       "tWMFTuRyuYRhRC9KaBEVYiDFCHcjCUs/B3qPffi46D0esyoKP/hq6CfE57FwzV3iSolvaLtgau0Y\n",
       "2Agx3r1SBEZ41Uao33LRTpS61xQxwnWSyLwPc/+jqov0iPtowq2KNs17fVYe4lYb5GE4mlbwzPFe\n",
       "w2tJZhxFF9Uui2OES0mOtW79fBQldOWlCXUde44CUntsbJXvb5Yhcp+u4R/FyW4XzVHizwjHCJeS\n",
       "HNPMrdC67aKrH8uE1EI+l3OvGtjes6pnt0Ib0r+Uqo8MWW5bbdt80W/XGpyp/m/2pRcWvUNBqf0/\n",
       "+i5KP2dWuztoOwD4BxAp7mE6VriYAAAAAElFTkSuQmCC\n",
       "\" style=\"display:inline;vertical-align:middle;\" /></a><br>"
      ],
      "text/plain": [
       "<IPython.core.display.HTML object>"
      ]
     },
     "metadata": {},
     "output_type": "display_data"
    }
   ],
   "source": [
    "in_IntervalCC = Forall(\n",
    "    (a, b, x),\n",
    "    InSet(x, IntervalCC(a, b)),\n",
    "    domain=Real,\n",
    "    conditions=[number_ordering(LessEq(a, x), LessEq(x, b))])"
   ]
  },
  {
   "cell_type": "markdown",
   "metadata": {},
   "source": [
    "***Scaling Elements of Intervals To Scaled Intervals***"
   ]
  },
  {
   "cell_type": "code",
   "execution_count": 69,
   "metadata": {},
   "outputs": [
    {
     "data": {
      "text/html": [
       "<strong id=\"rescale_interval_oo_membership\"><a class=\"ProveItLink\" href=\"proofs/rescale_interval_oo_membership/thm_proof.ipynb\">rescale_interval_oo_membership</a> (conjecture without proof):<br></strong> <a class=\"ProveItLink\" href=\"../__pv_it/theorems/cc0f011d94501af100ef06eb37d51c7d25a072e60/theorem_expr.ipynb\"><img src=\"data:image/png;base64,iVBORw0KGgoAAAANSUhEUgAAAWQAAAAZBAMAAAD0/km4AAAAMFBMVEX///8AAAAAAAAAAAAAAAAA\n",
       "AAAAAAAAAAAAAAAAAAAAAAAAAAAAAAAAAAAAAAAAAAAv3aB7AAAAD3RSTlMAq1RmmUTNIjK7EInv\n",
       "3XZ/CtNrAAAACXBIWXMAAA7EAAAOxAGVKw4bAAAEv0lEQVRYw81YX4gbRRj/sn+SzW6yCT6I9bRE\n",
       "hD6orcGo0Hs4U6K2oNTQimCveFUfpIJl76VQsBJBBPX0gqVoTi370AfPQ5O22FqPytkiLZZCKa3i\n",
       "aWCPK560GO5FC/cgfvNnN7PZsbs+VPvBb3Zm8pvZ38x838xsAJLanV0H/n+zuxeSk3fAzWGVGyPZ\n",
       "4RiwzD9Q/1WXN0ayXWIYNN2TUhPZcxwouUgedyeSnCIPpRxPvZcjYotSapyZH5/HsZUZUPJjpPKl\n",
       "RJK1Oj7S8Stp7mCIWtqVUOMtXcXkZY4KvE58rJlIskFWZE88UyszRE2tSqjxViDe8yBHhQ7cKiXz\n",
       "ZTLIw/HMHIfEvuce/En3h4Aab2NkcXIuQwVUHGc6YfhVkkXhGg6JvcjCcJcrUOPtBPWOMgOKONft\n",
       "nk0oOdft/tKJZz7BAd8sNvy6LxY+ncW1PEQLu12RKtIyQ0v+riLUPt+7BV2hyICSNwFMJZSsNSAb\n",
       "CiBFiEU7NJUEe0taECRVe7WGcf8whKN9kLbdya6wnFBr/um2HVBRgMqWehwyRb+FsTOkcu3RDbtE\n",
       "yUgcDxEe8jNvYvdBaF3g+Bly/pSpjrqSwlW9b2CLH6CZp4AMDMK1ygrJK3NAgZKzrlUPuhgKcsZC\n",
       "q25bcKwjHiVT8KVffG/VfjCDsaaQNuoXvmPQVvgckd5Aozonadfoi92ffCqntcnv2jLk2QvFxti0\n",
       "0AFjGShQsuIJ0XcmyD2KnmTbMOyJktcFE6RtIkkw1lxD2HS55Bxf2IuMQTvaTnX099Q+LU8WCfNt\n",
       "1qfYGEcxVgIdZ1if43vACCYzI8fI+P9aIO+1Fj160KDkK1VRclrFF9uXX9vIzrE8vv7IVeLPk73b\n",
       "+1sld4x26Hgec0zsei3NnxcdQ6Rh/pEgJ27LT7mgYCsCIvkwbrfmj8Y1onHeJhIvGXPTNKKszIGy\n",
       "KNlag69dSjVfYBO1G+BzZ5JI/t29DIo/ugMMBWzqL8N0/Q6w8LmelnqBmgFauwS3Ko4J4dpCA30c\n",
       "1CYDkfwqeqRWNXDOIVsmMak1zcZWKln7qBm6FmW+xaSc9Ro6Hcmz6D8wQXL7cC/Qfe4hBox4y9+n\n",
       "7n/7Sdjib2qQDo6uAVrWUy5q1K3F2lQ5i7OhdRiI5BT+lKvbReqSWpEUcDdqtVol27a2hG9yt9FR\n",
       "446zs9V6H+4izrjAYmADGL7kdzlmK1f8xgd7So3ovMSCatU2gSrQzNVfjf8G+fmB2qEa8cI6g3/5\n",
       "bDvZYVzzAuRKVBK8Q2fZ1kfd6OVzAhyDxvVbYF6DfZ9hbhlO9h0j32CQXJi5F+vH+YEtp90jq9zL\n",
       "4UvOOZNb3RnIu+thBtJ16NAjAze5r6uDkjNzR3ELnuLhd9r4Y9jswDx6me0Jl5/IBUh+C5LTpCds\n",
       "jcOXrNfWHYGJkrHZwzRTG3EzH2LtM792Dj4emeXNoz0X9pDpyTrw9ANXy8ZJeKNHS9w+4IhY9Boo\n",
       "o5mebIGa/MYZ/iopCelMq1W/zleJeby1H3Q+HQrbFYIfp0Ol6wqU0WxZUzIhdFJCknW3nyb7kNrI\n",
       "HtvEApkRjyGiJfp5IKNJbYkjLFkV0mSSLTY86qFq/ab7wn5F9j+GsCLmf/Q/xqm/AWXNQ3rPrCgY\n",
       "AAAAAElFTkSuQmCC\n",
       "\" style=\"display:inline;vertical-align:middle;\" /></a><br>"
      ],
      "text/plain": [
       "<IPython.core.display.HTML object>"
      ]
     },
     "metadata": {},
     "output_type": "display_data"
    }
   ],
   "source": [
    "rescale_interval_oo_membership = Forall(\n",
    "    (a, b, c),\n",
    "    Forall(x,\n",
    "           InSet(Mult(c, x), IntervalOO(Mult(c, a), Mult(c, b))),\n",
    "           domain=IntervalOO(a, b)),\n",
    "    domain=Real)"
   ]
  },
  {
   "cell_type": "code",
   "execution_count": 70,
   "metadata": {},
   "outputs": [
    {
     "data": {
      "text/html": [
       "<strong id=\"rescale_interval_oc_membership\"><a class=\"ProveItLink\" href=\"proofs/rescale_interval_oc_membership/thm_proof.ipynb\">rescale_interval_oc_membership</a> (conjecture without proof):<br></strong> <a class=\"ProveItLink\" href=\"../__pv_it/theorems/705e56265e11a1e329bbe2149f558a9a618f0aef0/theorem_expr.ipynb\"><img src=\"data:image/png;base64,iVBORw0KGgoAAAANSUhEUgAAAWAAAAAZBAMAAAD9FenCAAAAMFBMVEX///8AAAAAAAAAAAAAAAAA\n",
       "AAAAAAAAAAAAAAAAAAAAAAAAAAAAAAAAAAAAAAAAAAAv3aB7AAAAD3RSTlMAq1RmmUTNIjK7EInv\n",
       "3XZ/CtNrAAAACXBIWXMAAA7EAAAOxAGVKw4bAAAE5ElEQVRYw82YXYgbVRSAT5JJMpnJzgYFsV2U\n",
       "EaUPiiU0a3X3YZsSbSviNlgR2oqN+iAVLLMvhYItI4ggXd1gWTRVyzwUoS6SsYv9sSixpaiIspT6\n",
       "tzYw6xZXWgwLoiv7UDzn3pnJnUzWzMtiL5w7997cM/Odc8/9C0DUdEfTgP87ac1L0TtX4GZIhVUB\n",
       "TrvSmYxITd1da/KuqwP8qyud6ZkwiB7xlWqZaxcgR4+7IwHH6BHP9+wZt7mE8UK690X4sPLeDANm\n",
       "2gV4hNpeiAQslfGR6j2IH7gSTi92skQatlSRATPtArxC8VaNBCzTaBzo3bPkSjgNdtSlfBTgfp0D\n",
       "DzLglIU1PVoMk4kne/dsuBJOWYuHxvvNH3g9UvzusTgwaRcggUamIk66QqS5F69w6Ta4zKPJfZZb\n",
       "XxcJ+DM+6Zg2InzbbH4TETjbbF6xe3aUbC6gth7yg7W19jCOjcqm+H6PFx6j7PN5018PBxYctyi0\n",
       "Ptu6hQGTNgJvAzgaEVgyIWMFnCnMwKGc4EaS9CV41DcC5pzHARKV4BR/HuWgLvlT6Gkjs8xLQqvy\n",
       "t1U3CDjBB3kM0t6nQN4bYLz/1OZ9IjB2HAt0eMArvIZv997Sp7tiw3fe7w/CJutWNLARXNFpo/0F\n",
       "sp5XlQsgzfCi0BpfxjIBkzYCZyyquGnAL8lztbKmwmlb3DiOwide9c01k6D4lsbsNnC2zGW7xf1D\n",
       "uQlb2EsXKcMgbP7Mul5E3y+D301aJCvZiIitFei3iZG0ETjuCHPuK7/0MIaQpsGwIwKv970jbaPM\n",
       "tzRrhoG/5tXL/MGcnSQPK+1FFIGz1XY3LNf5K8VWtGGPTsDJhjvvRzCbGjlNxt+YI7eo8w7bVhD4\n",
       "WlEETiWQX7t6aCvMs8HHr09fpzieaK3tDAnlhhg8ySX4EJ3DBnxGDIm60+6E5U1+SVyGt7MoIG0C\n",
       "PonLq/KjvESEsxoBfi83TrD1Uk0fy4vA6jq0ZyFWfY57aT/AR8YEAf9hXfWBMw6XPxHTC87JWANw\n",
       "sBNMreWzHEMc/IA3UHUdbosbCgRb+02MbTbpqhz4ZfySVJRptDJ5molSVTF3MGDp3Wrg8JP+ArN8\n",
       "xjGTzI6dGDkwTqUjsNEHptWHBJeIM968+ed4I6m7qx2k/H3qY/oYqKZvavyyBPVKsDWWzxQZMGkT\n",
       "cMykmNNyLBSlHA/AjbVaTdc09Yngae12ZrIBib212ltwF0XhHI/9zT6wPMNFnR7x1kBl1LlnA0UL\n",
       "85qyZpfb/gbKucI1f7W+88zY79A329E6UOIbB2l7x8u6kRnGt/dDVmdAcJh5WEvutsLHy3EwZOaq\n",
       "10FZgiMYm7AI531g+MmVcDroBvRZd2vuM7v1urf78ZJpe8BZY2KHNQV91hBMQaoMNtsgcFn7tNgJ\n",
       "nG6cgiLfa3DSfSn/NazYMIvxlROPOIMrHovElCh262WvAFwSgJOl9dMwrsujDubp0oiVfgdbn/rN\n",
       "Pr4l5OHR3S0LDpBvMgY8ueF6Xj4Pr7bayxo1MwnfREKnwre7nX+d7sBMO3jj0IV8qlYr/8eNQzlb\n",
       "m4Sk64s4y31gWkKUbifWsBUnuh3zV7hxMO0AcNJq59GuSFv5Y1cQGA650pkWwj53It7prpS5dgA4\n",
       "IeTRgFVuXL4D+Oa4Nb/U7X8JYTSGnNXH1ZoX/gXfgz9tnxAkOAAAAABJRU5ErkJggg==\n",
       "\" style=\"display:inline;vertical-align:middle;\" /></a><br>"
      ],
      "text/plain": [
       "<IPython.core.display.HTML object>"
      ]
     },
     "metadata": {},
     "output_type": "display_data"
    }
   ],
   "source": [
    "rescale_interval_oc_membership = Forall(\n",
    "    (a, b, c),\n",
    "    Forall(x,\n",
    "           InSet(Mult(c, x),\n",
    "                 IntervalOC(Mult(c, a), Mult(c, b))),\n",
    "           domain=IntervalOC(a, b)),\n",
    "    domain=Real)"
   ]
  },
  {
   "cell_type": "code",
   "execution_count": 71,
   "metadata": {},
   "outputs": [
    {
     "data": {
      "text/html": [
       "<strong id=\"rescale_interval_co_membership\"><a class=\"ProveItLink\" href=\"proofs/rescale_interval_co_membership/thm_proof.ipynb\">rescale_interval_co_membership</a> (conjecture without proof):<br></strong> <a class=\"ProveItLink\" href=\"../__pv_it/theorems/fae2f829791746574b4878055ecff8cb1a6294180/theorem_expr.ipynb\"><img src=\"data:image/png;base64,iVBORw0KGgoAAAANSUhEUgAAAWAAAAAZBAMAAAD9FenCAAAAMFBMVEX///8AAAAAAAAAAAAAAAAA\n",
       "AAAAAAAAAAAAAAAAAAAAAAAAAAAAAAAAAAAAAAAAAAAv3aB7AAAAD3RSTlMAq1RmmUTNIjK7EInv\n",
       "3XZ/CtNrAAAACXBIWXMAAA7EAAAOxAGVKw4bAAAEx0lEQVRYw81YXWgcVRQ+uzuzOz+b2aAgtkEZ\n",
       "UHwQLEs3VM1DuiW1rQ/GxYoPRtroi7Rg2bwIBVNWEF8azGIpuvGHeShCDbJLg/1RlLVFVEQJpWqN\n",
       "LkxMMdLSJSAayUPxnHvvzNzZSbLTQLUXzt27d+93891zv3PmTADitntaZfi/m9W6GH/xKNwOrXBL\n",
       "CGeEdbbIFV2/HHPHsoe+NYR/E9bZ9nVOfBx3x30eugC99HFfLMIJ+kjmu65MNrhFJZjfAGHj3VmO\n",
       "ZOgCPEaTL8YirJTwI9099D4QFm0HN+LhdFEgDzLCr5LeqrEIa3Qbh7uvHBIWbf0bIZyzBbKfEU47\n",
       "AKYdT8N0xFPdVzaFRVvW4dJ4r/VjfML7HYEkK0AKlZGOGXSFWLGXHOW22u0yEauHnJvx8Gcekgwp\n",
       "fNdqfRuTcLbV+rXRdaHS4AZm+xE/ctqbj+LdmCzEX3ZkSXy+UPHTYd+iK4bS7PPtOziSDAnvAZiK\n",
       "SVipgO7IN/yWlAFCbiTLXITH/UPAvPsEQGo0HOJIeNxW/Ah6rqyv8JE0a/zt1MsMmeKXPAaZXg+h\n",
       "HQhxfOj0jkMyYVw4Jv+e8Aav4+5F70uPLawB33tzD8N2505USjOc0ZHwL5D1vGpcAGWWD6XZ5AqN\n",
       "CUmGhHXHLPk79Pkjbb5Wskw405AfHFOB6t7YdDwgnMBVI77fS9yedLiDqK/ALrbpEnUowtbPgrDC\n",
       "XVqn3ZUlOiS7kBXwscoo5BoMSYaEk64Uc1/7o52oIcuCAVcmvMX3jrJH9nAWF6edDsLf8K+X+Adz\n",
       "tkoeNqqSh7P8Sw/dD47r3HdilmHxDPtthlSbIu4HsZsePEOHvzFPf9ZccNljBQlfLcqE0ynkb105\n",
       "shsWuCSMmWv0IJlsbw5yo5CEcUNWj7oMH6Jz2I3PSoTrbrAGx9v9kZyG8a4ISUaET2F6NX7Slonh\n",
       "nEUEf9CaJ1kgmZn38zJh8wE8z2Ki+gL3UgI+Kk8S4evOFUh6R9Ndbn8iTU+dxxNNwNtOMVhbIpzD\n",
       "/T1F1m24K1k2iKQ0m6ugthmSjAi/gjGnFDW6LT1PkahUjcpeRlh5pxoqfjJfYJfX3Yqa54R3wgQN\n",
       "jsE2UL2lXgbCFHHWC5x/TjRVW2Q7SNsBYUwGZsU/afKSwuQszybyejHIlUQ4USHNWb1Mi0ovF+C2\n",
       "Wq1mW5b5VLhau5udGbPMgVrtTST8Jcxz6e8AzSOszXIzZwY9WRvD7v1bSS3MbcamZ4Ms8Wnhqp+s\n",
       "7z079gf0zEF4tm9IIMm88rJe1gdw9xxkbUYIjjIPW+qIEy0vJ6CsMVcljGU4htKEJTgfSAIuC4u2\n",
       "cSHoc+s9mh9cCzku1cPZ8uReZxp6nEdhGtIlaLAHBKa1T4qdhDPN05hzp7gkvtL+GjAaMIfysly5\n",
       "xOlfsyzqWvw01iuoPMLq0JYZmLC1YRf7zNCgk3kbZ5/5vXFiV8TDwyNtBw5XGOGnt17La+fhNYwj\n",
       "3a87aaSvVoVGqsLVCBvuGkiGDr9x2FI/XauV1nnjMM7V/AdHkvUng9+qoWQbtMgpViNswRpIhg4R\n",
       "Vp2gj/WKJAjzENodzB8R1tkWI4VY3He6RQ8dIpyS+pshzFJcqnS7vTW/FP2/hC5Va8Z/83+JC/8C\n",
       "lktGW6nmTwoAAAAASUVORK5CYII=\n",
       "\" style=\"display:inline;vertical-align:middle;\" /></a><br>"
      ],
      "text/plain": [
       "<IPython.core.display.HTML object>"
      ]
     },
     "metadata": {},
     "output_type": "display_data"
    }
   ],
   "source": [
    "rescale_interval_co_membership = Forall(\n",
    "    (a, b, c),\n",
    "    Forall(x,\n",
    "           InSet(Mult(c, x), IntervalCO(Mult(c, a), Mult(c, b))),\n",
    "           domain=IntervalCO(a, b)),\n",
    "    domain=Real)"
   ]
  },
  {
   "cell_type": "code",
   "execution_count": 72,
   "metadata": {},
   "outputs": [
    {
     "data": {
      "text/html": [
       "<strong id=\"rescale_interval_cc_membership\"><a class=\"ProveItLink\" href=\"proofs/rescale_interval_cc_membership/thm_proof.ipynb\">rescale_interval_cc_membership</a> (conjecture without proof):<br></strong> <a class=\"ProveItLink\" href=\"../__pv_it/theorems/08347f6251ba8eb275da5990a6d122a1e27e34a00/theorem_expr.ipynb\"><img src=\"data:image/png;base64,iVBORw0KGgoAAAANSUhEUgAAAVwAAAAZBAMAAACP2ot0AAAAMFBMVEX///8AAAAAAAAAAAAAAAAA\n",
       "AAAAAAAAAAAAAAAAAAAAAAAAAAAAAAAAAAAAAAAAAAAv3aB7AAAAD3RSTlMAq1RmmUTNIjK7EInv\n",
       "3XZ/CtNrAAAACXBIWXMAAA7EAAAOxAGVKw4bAAAEhElEQVRYw82YTYgcRRTHX8/0TH/N9iwKoi5K\n",
       "g+JBMAzO4kcOm5HRGA9uBgNeVsyaiySg9B4DJrTnLNoKi3bU0EIQdA/TJJhERRnJRRFlCRFDzECv\n",
       "K9m44BIQjOwhWK+qP15Pz2Y6CzEWvO7qmvo3v3r1XlX1ABQt9/VtuL3F7J8r3nkWbn9p3gpcJbLB\n",
       "kpudPy8UdasjxLcE97fIBsvLgw2fF32j0RHiJozj7YFCuBLeSo1RHUuBsLyTGlvA1T9c4rhc3IRn\n",
       "sO3VQrhyh92qIxPuk8jy5cBWvFttcVwubsKbGGhuIVwVZ+LgyI7tyPJlciu4dUvgTnLcqs+erGKx\n",
       "iwM8MbJjL7J8qfni/ke/P1sYd68vcFHchDKLiWrBVGsWybjSrLBh8yqC98W1m/Hu1yLVuJgB/Njv\n",
       "/1AQt9bvXwpG9ZMDYWCsP5Hky/q9R9i0GDyvlQM0GL5ZcZIFcGI1jKqk9ZX1OzguihnuLoCjBXFl\n",
       "BzSfTu57ab38DnEhmnIOnkuGAMvh86wPd3qarAz3kCUnifOSrW2IGmnV//a7NuKWxfTOgTIeC9T9\n",
       "GcJHTj31OsVlHefo7xLVxQ9jVmQB/BT//jjs8O9kMcJDukpT7VeoxR7Vz4K8JKqktbTB6oiLYoar\n",
       "+fgQlYmkpi57HdOA0wHdJo6m4fbWPQspLurih1pH2G4xD13UObCTv/MqXuf7rLgCV96IXIhTcBWH\n",
       "yCeDts5CPUBCFDPcUkgy7buk9jQLHtOE7SHF3ZZkmryLehd1g7jfR85u8Rt3dIV791Pi3Vo05+dR\n",
       "6EJXOI62shHstRC30otyfYpdFqdO4/CvL6NPjJWQbyIMd61FcatlRm/+fvhZWImCIdUNBIN+nYZN\n",
       "5Rp8xjzD53qM4HbDtA+r70hqdNndzecfxYh7gmWq/ot6Dfkumoj3s9rjLjAN5ViD4hoPsdGsSu4+\n",
       "3RW4RBfjaqGwvxhkHJULUg/YPJe5ygxT3Dp7fRyKXQvuKtk6IpLWusNimqeaK3DfYJkmt1ScKK2B\n",
       "+Se7urOHv1j+wM0ccZRv2aWhhU6lIXCJLsbFBQeNLQtn4nT553ivYkXrG8C+FJctAIaTjLN0Xuax\n",
       "TlulhtbiuChGXMnBYDNxeag58riIvMc8z7NM03gheyK7mw/YhvJ+z3uX4RJdjKsuCTNOTsWLnj4d\n",
       "PvgohoFw2ccLfrIyfNVcSxbn+8/MXYGxi5BtnWiLbQLF8QGya2vb2TvqULM4Dhzh3jUrM37+ADkP\n",
       "thoI7xJdkncXIsuXQ9F95qMbbMIPDz9AcnGMW7Pf3uMvwpj/JCxCtQMB3w7YQvZlaxBX6Z2ClthZ\n",
       "JKqT6EFmctPDz8gjTrAJbpvgVtrbTsK8pU6H7Kq0p3zlfdzcLwfHd+a8Oz2z7sNBh+MSXYKr2cLy\n",
       "XxluAVw9HI7LxdmvCYtcFz2vc4OvCf0LL90mrMwWh6uGPuxImhvDMFxzk68JLs7gVvz0WujjR6K6\n",
       "dM84HNlgWc0dtop+q13qCHEGt0yuN4Nbzh4g/h9fwq/l/2fQ6Ins2H/wP8PZfwHzRTrduArZtgAA\n",
       "AABJRU5ErkJggg==\n",
       "\" style=\"display:inline;vertical-align:middle;\" /></a><br>"
      ],
      "text/plain": [
       "<IPython.core.display.HTML object>"
      ]
     },
     "metadata": {},
     "output_type": "display_data"
    }
   ],
   "source": [
    "rescale_interval_cc_membership = Forall(\n",
    "    (a, b, c),\n",
    "    Forall(x,\n",
    "           InSet(Mult(c, x), IntervalCC(Mult(c, a), Mult(c, b))),\n",
    "           domain=IntervalCC(a, b)),\n",
    "    domain=Real)"
   ]
  },
  {
   "cell_type": "markdown",
   "metadata": {},
   "source": [
    "***Interval Relaxation Theorems***"
   ]
  },
  {
   "cell_type": "code",
   "execution_count": 73,
   "metadata": {},
   "outputs": [
    {
     "data": {
      "text/html": [
       "<strong id=\"relax_IntervalCO\"><a class=\"ProveItLink\" href=\"proofs/relax_IntervalCO/thm_proof.ipynb\">relax_IntervalCO</a> (conjecture without proof):<br></strong> <a class=\"ProveItLink\" href=\"../__pv_it/theorems/5c7ccb435b65405272192e72320491a68a3eddf30/theorem_expr.ipynb\"><img src=\"data:image/png;base64,iVBORw0KGgoAAAANSUhEUgAAAPoAAAAZBAMAAADqEi4iAAAAMFBMVEX///8AAAAAAAAAAAAAAAAA\n",
       "AAAAAAAAAAAAAAAAAAAAAAAAAAAAAAAAAAAAAAAAAAAv3aB7AAAAD3RSTlMAq1RmmUTNIjK7EInv\n",
       "3XZ/CtNrAAAACXBIWXMAAA7EAAAOxAGVKw4bAAAD3ElEQVRIx7WWTWgTQRTH3252k91Nsg0KohYl\n",
       "oHgQlKVKxR40Ur8u1qDiwYqtXkTBsr0IBS0RxIvFBkV06wdzEEGLJCh+ghAVURAliPhRDGxVrCiG\n",
       "XrTSg/hmJslOktKtYhe6uzOZ7m/e//1n3gD4X/MKNkzDZRZeTmVYJ0zTtew/00MTdX5/Wxt0Cuzp\n",
       "oH+YqPNmbUc4Cbs4PUYfC3zoEn3Ili9czvrRjfN5RjctRl9H+/b60JUkPoL+3rsMvrEHE4wO+xn9\n",
       "CM1W2oeuUYV6/IVv9ac3xDl9OaMHCbbifnmnM73uT89VmetC4XU9vYNweoRQegATEPR13bIpmU8W\n",
       "h6hdZKLY73PXQdBiX31eKDzzpUcKhfdZX7qCQ4zi3ONMpYNEUD7UOOLyxu7iDEYPxxh9I8CAL11J\n",
       "gU6ErsgZQWHPURiPAsPupmonI32nrY9zz/8kGZvSA1zRbgjFyuO0faWXJbfWdIl0HNItTkgqvxxD\n",
       "wybKjSj6ZwWsJjOrd4mbYDwCJc+TMw4Rl9LlHKPrhDZKVyOdwrCTNMNwOyvuNgNe9k7MOe3RJRzV\n",
       "XlEEP5SC9TwQzGjhXYmujEKUf07phIYsBWqjjC67gume4t/aFKppQosr0pdWYlE2irFHcHCQCHSA\n",
       "F1zitBB7JA0ZHiJOoiNO6Wqu5OVVeBtcdZtO+PcwYbsQ0r8mRHowgJMxP/VugI9ceePGN7r79Bfn\n",
       "eguWKg/qGFyljbxAz7iwurLcNzOx5TynX8fFbLzRxih0yExcYU4Khy5aIj28CAMckdJ7eEwSXLP7\n",
       "Kf07+QRyeZ66C8ZpKQdM5KJIj8Ms2TYoPYUeYK5Lc/ohNJ2S0OhOoVuBzq2MrpxLV1WZ0AO8Wbqb\n",
       "Ui1OXwt99OUUNINaHoqrSP51KacyLYJxj6678isFMvghydITjE5XJ6VLKZoxM8ayqMSaHceJm2Z4\n",
       "S3WNm810syGwz3FOIv0xDHOjrAGtTNfyYLS5C5t44ufs8Dw//073F4gOYW9jK99tokmvwmZsvQWl\n",
       "bYBI/DiL3VTbSX2F7QNbY7JKxhicoukdhYee8lBVyNW7tTvtYq/CwmGhvkfs/q1kEKJkJd9VcMXd\n",
       "S9TSQ7lbuLYHuPJPtB8tRhaGMH9mZXUsn7zKZAV6q0BXW5fegL641uZC6Cy2t3/OXlpfF3tbe5FA\n",
       "T4rRtzV9s7SHcBTNpVdKr25PRjdcj87KavXZhvtk0HGSk5xtjLtOZbeR2f2K91t6MropnG3YPKvo\n",
       "KpnyyapE577a4PX3TvT/92vPde+TMFJ3rgvA39LZ6gskp/VMe6D+PK8LNc745/P8oz9WtP+zw/6Y\n",
       "/QAAAABJRU5ErkJggg==\n",
       "\" style=\"display:inline;vertical-align:middle;\" /></a><br>"
      ],
      "text/plain": [
       "<IPython.core.display.HTML object>"
      ]
     },
     "metadata": {},
     "output_type": "display_data"
    }
   ],
   "source": [
    "relax_IntervalCO = Forall(\n",
    "    (a, b),\n",
    "    Forall(x,\n",
    "           InSet(x, IntervalCC(a, b)),\n",
    "           domain=IntervalCO(a, b)),\n",
    "    domain=Real)"
   ]
  },
  {
   "cell_type": "code",
   "execution_count": 74,
   "metadata": {},
   "outputs": [
    {
     "data": {
      "text/html": [
       "<strong id=\"relax_IntervalOC\"><a class=\"ProveItLink\" href=\"proofs/relax_IntervalOC/thm_proof.ipynb\">relax_IntervalOC</a> (conjecture without proof):<br></strong> <a class=\"ProveItLink\" href=\"../__pv_it/theorems/68d07c6499ba618c96839bc1d08a252aa68743aa0/theorem_expr.ipynb\"><img src=\"data:image/png;base64,iVBORw0KGgoAAAANSUhEUgAAAPoAAAAZBAMAAADqEi4iAAAAMFBMVEX///8AAAAAAAAAAAAAAAAA\n",
       "AAAAAAAAAAAAAAAAAAAAAAAAAAAAAAAAAAAAAAAAAAAv3aB7AAAAD3RSTlMAq1RmmUTNIjK7EInv\n",
       "3XZ/CtNrAAAACXBIWXMAAA7EAAAOxAGVKw4bAAAD4ElEQVRIx7WWW2gTWRjH/5nMJDOTZBpWELUo\n",
       "ERcfBGWoN9oHjdTbizWsIqzKWn0RhZXpiyCsMoIIYrFBKTjemAcRtEiC4m1BiMqywrISZPFSDEy1\n",
       "2GXF0Bet+CB7LunkTBo6VezAXM5hzvl9l/855wPCr7kVC9NwGZWnU/mtG9N0Lf3O9HizzvcvGp22\n",
       "YU0H/XWzzluNHYkcfuH0NH0tCKFH6EsyQ+FSMYyuXygzumEy+jratzeELufIKxauvSsI9T2WZXTs\n",
       "Z/SjNFv5ELpKI3QoPPCd4fSWDKcvY/SYS1qZsLxTS2+E00sBcV2sPJtI3+VyetKl9ChJQCxUdUun\n",
       "JD5J/EU54Dbz/T5XHWImm/XvSuWvUHqyUnlVDKXL5Be9Oucki9JBV4h8vHXE443d1R8YPZFm9I3A\n",
       "uVC6bENzA24KEmxPjyuK+CNjyNsUVDKh77S0z1zzH92CRelRHtEexMdHQ91X+1h8e80BkU5+6QlY\n",
       "tHz84zhR7Pj4FNHPSqx2ZwR3iVvQH0Euc6s/I+lRulRidM2ljdrVSk0YcnJGAneK4m5zrp69U7P7\n",
       "ofsGR4p1epJMZGM9d4RktPKyRpdHkeLTyd1oKVKgOsrokieI7jG519pErwY6PJG+xPdF3kgfvsFJ\n",
       "O0gHnvAQ5wXfk3kU+AhixK4MpSulmpZXkcfAqjvU4C9DLtuFCP2/rEiPRYkxxvCRDXjDJiHT33xH\n",
       "c99XnROIPJQxXKONskAveFjtL/fNLNhSmdNvkMWsP1fHKHTQyF5lazURv2SK9MRCIrqRSH4P9+kg\n",
       "cN3qo/T37rBP1zzo/ZESWJCrIj2DmZKlU7pNNMBUl+f038hgOavSnUIzo91bGF0+nw+cMvEH5GFq\n",
       "nq0wo34mCUIv/TqDFT6drCLp0+WSwjavWKZO1zzpHxkFMlHE1LKMTlcnpUdsmjEjzZIop1c4jpMx\n",
       "jMRPwTNuFoubheg+xzmN+cAfGOJKWePT1TL0Lu/HNp742dvrmp93t+dfpAZJb2sn321SufoJW7C0\n",
       "DhLaFiQzJ5nvhrLDnXjC9sJSWVhPQB/DGZrfUTz06Qgc5Mq9xp12Uf2ExWHhfE9afVvcAaTcdr6r\n",
       "kBX3e7aRHi/dRpZvTUR1f6ofOvQiBkkCffqyyU+ZokDvFOhK55Kb6M2oXR7iZ0l729vi5fUTfO/a\n",
       "UXVxyKYCsbC17Z2pPsSxan3F0e5J6LpXp7NjNVjbcJ0MOE5uktpGv+f0Q6m5IbGnT9fzk9ENobZh\n",
       "dgboijv1ymoDf20P0nGk2fj7jXXdqxxGJtR10a+o6xLcUrOBPg017a/N6nkhTu3eN9bzj/4HmiMA\n",
       "LZvJV7EAAAAASUVORK5CYII=\n",
       "\" style=\"display:inline;vertical-align:middle;\" /></a><br>"
      ],
      "text/plain": [
       "<IPython.core.display.HTML object>"
      ]
     },
     "metadata": {},
     "output_type": "display_data"
    }
   ],
   "source": [
    "relax_IntervalOC = Forall(\n",
    "    (a, b),\n",
    "    Forall(x,\n",
    "           InSet(x, IntervalCC(a, b)),\n",
    "           domain=IntervalOC(a, b)),\n",
    "    domain=Real)"
   ]
  },
  {
   "cell_type": "code",
   "execution_count": 75,
   "metadata": {},
   "outputs": [
    {
     "data": {
      "text/html": [
       "<strong id=\"relax_IntervalOO_left\"><a class=\"ProveItLink\" href=\"proofs/relax_IntervalOO_left/thm_proof.ipynb\">relax_IntervalOO_left</a> (conjecture without proof):<br></strong> <a class=\"ProveItLink\" href=\"../__pv_it/theorems/d907c7fca085db9afa4a554e4593e04b7e7c7a9a0/theorem_expr.ipynb\"><img src=\"data:image/png;base64,iVBORw0KGgoAAAANSUhEUgAAAP4AAAAZBAMAAADj+Y5YAAAAMFBMVEX///8AAAAAAAAAAAAAAAAA\n",
       "AAAAAAAAAAAAAAAAAAAAAAAAAAAAAAAAAAAAAAAAAAAv3aB7AAAAD3RSTlMAq1RmmUTNIjK7EInv\n",
       "3XZ/CtNrAAAACXBIWXMAAA7EAAAOxAGVKw4bAAAEAUlEQVRIx7WWX2gcRRzHv7d/7vZ2L5vDJ2u1\n",
       "nAj1QVoXTwvmoWyJ2oLaHq0INmCu+iAVLJuXQkHLCaKo0RyWohs1jtAHY7Q9W9JSpRJbpBYRgg/+\n",
       "qS5csFgw9AhCW+hD8Tczu3u7yZGNYhZ+szOzs/P5/Zs/QPZzR+BhVR47+HElw+pYtaf6f/N7eurK\n",
       "Lz1GeavBtyu9eqcXdzwdCvHL/HVXBj/HX4qTzb8HWXzzg1lS05FC/Id553MZfK1Gr3x2Fpr1TD7y\n",
       "LhXPh1LFy1QWmhl8g3vpQLb5mpPN7+chuj+UKvIMsCpZ8ee6Hs/ml9LJ8GHw01L+MOMDmZQqVFI5\n",
       "n5l/1ZWl4fpkQ9/Hetl/RgTBkULz/hAE32fyS0Hweyub/yjJ0blPvhL+3M8S/h/5+mDY2NO5hTxe\n",
       "lkL8bcB4Jl9roMiSfUoiGe249iyJa6/TZtNJPQ39PD6S/5vX2DEPKs2pSr+OoFCOBhp7w8qGk1v2\n",
       "Jfk0ZCSl0wNR5VXKXTdq0HaqeuqNnJPeNqbxmYPHQ8VvoNSGMgMhxC8yqxaPXMuVmPNrtoVTreT+\n",
       "M94N4ttrDsOMVc7RsKGo8S39DU2CDQps8GvI3wH8Fi6ROvpbMBYghPhKO5F+35E81CCX2hhoJ/kb\n",
       "Y3O0bbyIVS7R6Dzr8sHNE45uJuy/APOqrPe1MFyBTrbrM2Feb6ZiavMprvPNOSb2JeL/5Sb5eZVm\n",
       "tS8d3Io/xCw0/4l5ngNjndu661ccZ8OeKfSZ7fLNm1AX4uW/g0Ghj1w4/zgtbvNn4zrHXrTdSZFS\n",
       "VmHCSfKt9TTn5VzzGWnWfuBzb4zzr7BLUCJVJ4DJ2u2wRKOT4P+NXP1ucLX6G+Y5ypKmFM5/kWKp\n",
       "uQZ5A0VHre8SfO39Zur8KXxDhVNsN3Sh1lMUJozy2iFsgh6N/QK4943HsFNutJWu/yewwXXNazxf\n",
       "nCJpq7WkcH6OIliq2WURTK28yff9im1bO9Pn363CebRy9vr+O7iTx3pOZswWGBH/LeBIRxmUYHPN\n",
       "7pj/8fxr6xoIyAHm2kEev5qU6Pw95hUH6GM/SpU3hf22PsSWnr+j8AyxLF6HeR2HPqXaAs52/d/X\n",
       "SG2Apxftv0o85UuhRPySN7aLTaGPPSj3GVp/X7qL+YWZk7TUx8P8O29cHTBbuEhhtKOlorrLnj9W\n",
       "3DMYSsTXBzeewGjF2N5G4T1qP/ln68gjS+zfPtRhOMBtLHp44r55xziLVzqiFT7vLss/GnXwA1cc\n",
       "uun7j4zblO/Xlrn/mKf9w9DDzUkR5WT8cXJZfryjcIWF0im+zlZ+/9oqX7uTDW5Yu9cEZxbf/y6H\n",
       "kuar/+L+Z0ldxWJUa6t7/32h1/0/4Svzv9//z/0DryQEsngkZo8AAAAASUVORK5CYII=\n",
       "\" style=\"display:inline;vertical-align:middle;\" /></a><br>"
      ],
      "text/plain": [
       "<IPython.core.display.HTML object>"
      ]
     },
     "metadata": {},
     "output_type": "display_data"
    }
   ],
   "source": [
    "relax_IntervalOO_left = Forall(\n",
    "    (a, b),\n",
    "    Forall(x,\n",
    "           InSet(x, IntervalCO(a, b)),\n",
    "           domain=IntervalOO(a, b)),\n",
    "    domain=Real)"
   ]
  },
  {
   "cell_type": "code",
   "execution_count": 76,
   "metadata": {},
   "outputs": [
    {
     "data": {
      "text/html": [
       "<strong id=\"relax_IntervalOO_right\"><a class=\"ProveItLink\" href=\"proofs/relax_IntervalOO_right/thm_proof.ipynb\">relax_IntervalOO_right</a> (conjecture without proof):<br></strong> <a class=\"ProveItLink\" href=\"../__pv_it/theorems/928f80c8a8469546f42f4baadf4f7762fd3d40fe0/theorem_expr.ipynb\"><img src=\"data:image/png;base64,iVBORw0KGgoAAAANSUhEUgAAAP4AAAAZBAMAAADj+Y5YAAAAMFBMVEX///8AAAAAAAAAAAAAAAAA\n",
       "AAAAAAAAAAAAAAAAAAAAAAAAAAAAAAAAAAAAAAAAAAAv3aB7AAAAD3RSTlMAq1RmmUTNIjK7EInv\n",
       "3XZ/CtNrAAAACXBIWXMAAA7EAAAOxAGVKw4bAAAD/ElEQVRIx7WWX2gURxzHf7d/7nb39jaHD6JG\n",
       "5UohDy2mi1qheYgrURNosYsphZpi0vahWDBsXgKCyhWKoEZzKKKbtrIPPvQM9q6GatNSSA2lghRC\n",
       "KS0NLmxoaKTSIy8ayEPpb2Zu/yWHe5VkYXdnvjs7n9/M7ze/GYDka5trwbpcmvtLM80GYN2uXWvN\n",
       "t5qSNbfIpLXma4Xm5KwJRxk/T14vJvBT5MXpyfyXk2XlsxnK13TKP0C0DxP4gomvdHIUKgNNyGmD\n",
       "8uEjyv8Yn5lSAl8is3QiefiC3oTcUmD83ZSfdrBWSPI/sfV2Ml+Ne/1z97cGcr/D+KpD+Dzalk6M\n",
       "v13NhWFbtCIOOo1k+J7FH6R12u/Prvsgka+67sNqMv91vL+c++I7Op/DTlTOtC54rPZebQPlZ/OU\n",
       "3wMwlsgXiiA7UY2LBKMWlD7A29C2CzPxoCbyu5a8zILxqVOxCJ9n8zoEmbzfUDpWL+y4s28wyscm\n",
       "QzGbXvULZzB2Db+C6ZS3+OWUHk8bKCvTwKwCbhlUj/C5KcqXHVKpX63EiDnb1LJwtxrNP2PwtV+9\n",
       "uPkKKIHJKWzW51d+xL9BYGAJHev+4cvCIuRYh/i5pUqQ0iLlc14k/O7jvb+IU6pBhxfltwfDEXrI\n",
       "IzBZxdZpJ+Sjwn5UwkWNslqCCvsHzegvEL44VY/rTnyMd94lNv8759C8hPy/jSg/zWOv2vzpbviT\n",
       "doL9TzwmMTBa2xKuX7qd9VsKtWcmOv8VD/YGy/9NOuXcDOPfxsWt/C4tEeysZpRpSGUz1/UoP9uG\n",
       "fS6kSu+zYQ0D3LJGCf8fZx4439TrAGVzK2RppRbwUa4UYCNnKYRfxFig8Vdi/JPoS8GQcDZA1vmB\n",
       "XsoXPi3F9p/MD/jQZa8oUrPeQTfBCCldhj0g+m2/Anjl3BtwmOXZIKuhLHvcrwJUsKuULhuUL1QZ\n",
       "P4UeVE0tT50p5PfYtl3QtOzh+P63ic6dBfwx274ELxCnzrGI2QeSz78AcKPGdTGwsvlIKCvbvxl6\n",
       "BLlZLLV2sfyTM8P9t2LJHTjBLaAWztPxa2Kfs3r/HQFLolF8FpQluHwTS4twL5z/XDGWACfr+TeU\n",
       "Xwr3XzgV2f9Va7TXGYec8xrLM7j+vjVW8jNTd3Cpj9Xj7yfpSYdShVl0o+YvFd5omMBCuRrhd0X4\n",
       "Ylf7BIwUpEMeZK5h/e2/qjcOrhr/ob6aAyfIYGQL3tr5WJfuwSc1WqtfVxtnUF9WvJBPN934+Yf5\n",
       "bdy2zWecf5RJ+wqI9YFw9FkOPpYb88srMzXyqdExvug0f/7qZq8j0Qpxkdewh5Wy9tCEhVXnP/5/\n",
       "nP+yzFa6GHlzfc+/xxud/yNzpTz/+X/6P6O0+8RlqJkuAAAAAElFTkSuQmCC\n",
       "\" style=\"display:inline;vertical-align:middle;\" /></a><br>"
      ],
      "text/plain": [
       "<IPython.core.display.HTML object>"
      ]
     },
     "metadata": {},
     "output_type": "display_data"
    }
   ],
   "source": [
    "relax_IntervalOO_right = Forall(\n",
    "    (a, b),\n",
    "    Forall(x,\n",
    "           InSet(x, IntervalOC(a, b)),\n",
    "           domain=IntervalOO(a, b)),\n",
    "    domain=Real)"
   ]
  },
  {
   "cell_type": "code",
   "execution_count": 77,
   "metadata": {},
   "outputs": [
    {
     "data": {
      "text/html": [
       "<strong id=\"relax_IntervalOO_left_right\"><a class=\"ProveItLink\" href=\"proofs/relax_IntervalOO_left_right/thm_proof.ipynb\">relax_IntervalOO_left_right</a> (conjecture without proof):<br></strong> <a class=\"ProveItLink\" href=\"../__pv_it/theorems/ce716d001a5f55c5e6537f4c798a561e194db9190/theorem_expr.ipynb\"><img src=\"data:image/png;base64,iVBORw0KGgoAAAANSUhEUgAAAPwAAAAZBAMAAADnDF5lAAAAMFBMVEX///8AAAAAAAAAAAAAAAAA\n",
       "AAAAAAAAAAAAAAAAAAAAAAAAAAAAAAAAAAAAAAAAAAAv3aB7AAAAD3RSTlMAq1RmmUTNIjK7EInv\n",
       "3XZ/CtNrAAAACXBIWXMAAA7EAAAOxAGVKw4bAAAD5UlEQVRIx7WWWWgTQRjHv2x2s0eSbVAQtSgR\n",
       "xQdRCfXCPmikXiDWoCLYClZ9EAVl+yIURCKIIBYblKJbD/ZBBC2SqHiCUBVRFCWIZzGwVbGiNPRF\n",
       "Kz6I38xsspODbhQ70J2dzXR+3/GfmQ/Au03JGTAWTc+9qGVaG4xVm/e/8XK1j0Nvy91OymOD/1Dt\n",
       "4/XyD8GEZDN8hHTTPfA+0gkxb7qQ8cJrZ7IEDx8ZfgXpdnrgxQR2gRoEeAE8vQ/EKT5gUfxBkrCU\n",
       "B14hMeqoIfZN3vi6KMX74xRPrAhGvXK/G7urNeD7ShR2Nve6Er/Vonh4QvF+zGjAU3rzalOgwM+R\n",
       "9lrVvL8LDL+DKf9ZLvfUEx/K5d5nvPEiztHyk4/SQO2zuODL9YM2G2zLj6P4Kwy/GqDHEy8mQbVK\n",
       "/OR0qLuywlCKMGCvLdUz4rcY6i+m/B9W2iD4hQzfDnKkME/Z5bzMubFsL4/HKe0lJi0ovBxG2cYL\n",
       "gzCKaBEstcaXHhfXQXsAYpbZ/QtCNsHPZnjVIgOn1RMbBsyEHoSbGf7Y6XETeGxSN2hFi304rbUw\n",
       "COFKSVjJXMGs5t45eHEYwmw9sQ3qMoTYxfCCzSnvMf4tT2I8dWi0efzcojPiavIoWhzC2QGLwwM8\n",
       "Z1FOcd6HUpBm/4JWbI0S/Bbn0G1bgo/eJTeJxb8HLJ0cboj/GufxAT9ao386sIodV2Fc/to3kv+u\n",
       "/GR345LggzQCl8ggy+HTNiwtbvt1NN5zHPxV3NTaG2WEUPv1+EWqpqB8LsbjgzPRw0Ffajtzah/A\n",
       "ZaOL4IesTyAULFVt0Lp9fUDjnOfxUZggGBrBJ1EHBL/Ywe/HPIpxhZwYaszftoHixdOpkitHvoeP\n",
       "mGonJWrVZswRdJK3EyhhqTA3GAHh5/k+iUYjEHXxqi28FCGNK/liapzi1zh4X5IkTY/QRIqRhaZp\n",
       "RnU9uL70xptII2eAf5dpHodpAA9hgKllGSgFvJIFrdme0cCSP6nFVf7UW+1fINyPX+ub2LHzirtw\n",
       "04baiNGtg1D0KPVel1qtygu3EwyFBvYIaCNwgqR4GO67wYeSi126XX7ozipeuCBnOXzI6Npg9ULY\n",
       "WsyOF9x4d+LleLnvBm7xHkd6j5TvjVoG+v0p0IubZP7oV07GxYsxDi81zb0GnVGl2Qb5FI43fc6c\n",
       "X1nhfXNr3oKOJBGJARsbvsWU+3AoT0cF7Rmj4TXbxXdUVjtMK72mmRil2tFum90gOX4I9HnR/TE1\n",
       "Gl53qx04WYGXrNqLrVWsa+EHpB2otsDd8lrvfUI3KvD+v6j1gsxUugv9iTGtdPdUq/O5SGn/XOc/\n",
       "+AOZYAMmsWmsvwAAAABJRU5ErkJggg==\n",
       "\" style=\"display:inline;vertical-align:middle;\" /></a><br>"
      ],
      "text/plain": [
       "<IPython.core.display.HTML object>"
      ]
     },
     "metadata": {},
     "output_type": "display_data"
    }
   ],
   "source": [
    "relax_IntervalOO_left_right = Forall(\n",
    "    (a, b),\n",
    "    Forall(x,\n",
    "           InSet(x, IntervalCC(a, b)),\n",
    "           domain=IntervalOO(a, b)),\n",
    "    domain=Real)"
   ]
  },
  {
   "cell_type": "code",
   "execution_count": null,
   "metadata": {},
   "outputs": [],
   "source": []
  },
  {
   "cell_type": "markdown",
   "metadata": {},
   "source": [
    "***Some Analogous Non-IntervalMembership Theorems***"
   ]
  },
  {
   "cell_type": "code",
   "execution_count": 78,
   "metadata": {},
   "outputs": [
    {
     "data": {
      "text/html": [
       "<strong id=\"not_real_not_in_interval_oo\"><a class=\"ProveItLink\" href=\"proofs/not_real_not_in_interval_oo/thm_proof.ipynb\">not_real_not_in_interval_oo</a> (conjecture without proof):<br></strong> <a class=\"ProveItLink\" href=\"../__pv_it/theorems/c69fab638baa6efdfae760726622c19c51c91c9e0/theorem_expr.ipynb\"><img src=\"data:image/png;base64,iVBORw0KGgoAAAANSUhEUgAAARoAAAAZCAMAAADZjhGSAAAAS1BMVEX///8AAAAAAAAAAAAAAAAA\n",
       "AAAAAAAAAAAAAAAAAAAAAAAAAAAAAAAAAAAAAAAAAAAAAAAAAAAAAAAAAAAAAAAAAAAAAAAAAAAA\n",
       "AADXrLZzAAAAGHRSTlMAq1RmmUTNIjK7EInv3XbP4duh6fPj951y2Qx9AAAACXBIWXMAAA7EAAAO\n",
       "xAGVKw4bAAAEBUlEQVRYw91ZiZLjKAzlPgRoZq9Z//+XLmCwIQHidLy1tU13ha5YBzxLD4km5JZB\n",
       "QwiafJuBcTvsJluKfLfB+f8WGv3WU33Rmv4G0OA63hW8I02IxH7O0NDjMeOfQXOPpWuDueVjQ69J\n",
       "g/WhgMf7OUEj5LE9/Rk091i6NOBFlJ5LeSWtxEOc1TlCcwCs7YcJdY+lS0O8CMtwWXqrqcbFw8xP\n",
       "mBz7lGtusXRp+BUL2fDHn0Fdk5bbQUoeujlBU6n4IyZVLan/65zM5h6kQiDUXJQm7owvxbs5b8aH\n",
       "NLz7/IS6w9KlfCoeAJGCcU2U6hS5D9xSpYmmDjX266bRxK7uCh+UOUMjMsYWPofmfUtiUXOZuTd+\n",
       "aCNFIppXnw4AjkNp6eNDu7Wrgy1CCVs+NXgBtMwZGk3rx+MRqB74lAWnBFU4g2Zq6eQBQbsXtyBs\n",
       "O/dXinget8TjVikfc14vDT7HQcfQLAPlswNWKKnMOzuk1+zkqDOqoWiQWhslkMRvnHazkm9sqWqD\n",
       "pXEzzLqX0ESNHz/n/vzuIoWV6JLHpJT+61f8sE/SYss4dbZ27S1/Z7ZiY2ugYTihTl9iWojyB8Yf\n",
       "wgFn0AwtHdpuV+QvoUkaFOb+/Im+x76EGxyQRdrbnEHdi8tAyf0Al77mXdsoqCM9wXF0tWAzW6K5\n",
       "pkLcl4ogpo3CaQlR6PjbaAM38rGhaaHpNIAu/J1dsUw8AdAVNGEoDVtaGN+eqxqx0w8LlTVaaBwr\n",
       "6QlBR0D00ZoDQbG/igqNiwUd8ik0hyXUhFqiWKPNNNMDQjlsdxooF/4s7iEiCU2v2LXwEinG0hkG\n",
       "qkhaRMVyM5WDIhZlLWUu0GhPaySnfD1s8szXkjfQCOvsor08LPG8pOj51ObAYQFNr2FX/vbzlW0G\n",
       "RFysbBNIMWqG0hkhFkQ61uLBVMg0ORX9GV/mWqRVcyktkbZUI2hEx+bB9gB3ki0672Zh9Uys2sZI\n",
       "s4Cm0/jx28qfyTEPIsYIE7x7DPSXhJF0fILOaIppDSGULKHu6CKC7OaHS4l8wlteczflpY9bcqTl\n",
       "GikdXLmUSNEXzTXahYYJTKBpNCgs/YV5zcP/djaeUGotzZ5M6tDPj/c1PlGNjHEPaUMR2px4Zw23\n",
       "H6YLGj4ceeLUXtGd2tolkiVuWNd0GkDX/ri4elMzkXbTjrXOj9DIGJ7oeHqBMUxNitjcSZujQVEu\n",
       "BrJQL6NGoHSI0Gqn8y/mijDjhGo1fjcv/NnZtcew63+Sfi4/qt6hv7jlazMYXGIL+cVbvpX2uK6B\n",
       "n6/8wayMHnb9T9I4Re9AcQ6NfK+l+mqzPd7hhVtCjePv6VvSbeXQzSto3rzCvBca+lGre8+479r8\n",
       "i/+HGuv858hgCJ7/A/YTI0xQzDTJAAAAAElFTkSuQmCC\n",
       "\" style=\"display:inline;vertical-align:middle;\" /></a><br>"
      ],
      "text/plain": [
       "<IPython.core.display.HTML object>"
      ]
     },
     "metadata": {},
     "output_type": "display_data"
    }
   ],
   "source": [
    "not_real_not_in_interval_oo = (\n",
    "    Forall((a, b),\n",
    "           Forall(x, NotInSet(x, IntervalOO(a, b)), domain=Complex, condition=NotInSet(x, Real)),\n",
    "           domain=Real))"
   ]
  },
  {
   "cell_type": "code",
   "execution_count": 79,
   "metadata": {},
   "outputs": [
    {
     "data": {
      "text/html": [
       "<strong id=\"not_real_not_in_interval_co\"><a class=\"ProveItLink\" href=\"proofs/not_real_not_in_interval_co/thm_proof.ipynb\">not_real_not_in_interval_co</a> (conjecture without proof):<br></strong> <a class=\"ProveItLink\" href=\"../__pv_it/theorems/3bc9b9a26db1fe0282061889c1478de27cf201000/theorem_expr.ipynb\"><img src=\"data:image/png;base64,iVBORw0KGgoAAAANSUhEUgAAARgAAAAZCAMAAADde8GvAAAAS1BMVEX///8AAAAAAAAAAAAAAAAA\n",
       "AAAAAAAAAAAAAAAAAAAAAAAAAAAAAAAAAAAAAAAAAAAAAAAAAAAAAAAAAAAAAAAAAAAAAAAAAAAA\n",
       "AADXrLZzAAAAGHRSTlMAq1RmmUTNIjK7EInv3XbP4duh6fPj951y2Qx9AAAACXBIWXMAAA7EAAAO\n",
       "xAGVKw4bAAAEFElEQVRYw92Zi3LdKAxAeT+EUbuPdv3/X1rAYIMvYCfXnZ2GZELmOpLgWBISIeSR\n",
       "Qb33mnyRgWEz7CFdinytwfkfC0bffhocwNzTpb8AGJz7uoLjdyevlEls5wSG7o8ZfxPMM6puDeam\n",
       "jw0lN8CAXXzGzNs5ghG7mNJvgnlG1Z0BFx4qJLnlMUqcPKzMAcwOV9t3Q+kZVXeGuPBIT+6BWUtA\n",
       "cnGa+QHJsbdzzCOq7oxlln2s/+dfr+6AkeueihZo5gimJOC38qdqcvnvTsVsbEAqBELNPY9xh2cp\n",
       "3sxpJ4uPY3EPnEpPqLoTSdkAIFIwrnJQHZ32lIE2MJo61HhaNQ0KNmGX00CeExiR+Fp4AMyHVYlJ\n",
       "jTUuPsrrDdJIkYjqxcesz/EVjFzCE7s2K4M1YIQ1HRQ874BXvq9p+XE+9NQpiTLvlKAKh2CGqo4E\n",
       "IGj94iZZ2o4N5oKdhy3xsFfK23UoeAEDS3IB324ncVqSdpbTVp63pBDfcDcQaYkJg9Ta8BdIwidO\n",
       "u2GB11dVxMHSsBdm3RWYIPDte1TTN7hsFqJLiSZsTIzlHz/DD9uCEWsC2urZZNf0oVmzhrUCw3CQ\n",
       "L5fszULkXzB8EQ44BNNVtYu7TZJfgYkCFMYGlwP9gm3J1jkTI5jFptBpX1niJLcjW2aPkbXHhK2U\n",
       "sATH0ZXqzKwxuVX14LZOBDFuCQ5ViEKH70ocuJGnnqQG0wgAnRg8el8ZMwRAU8B48gIG1rgovnaq\n",
       "GLHlHeZLtqjBOJbDErwOOPTefQFBsb2GAsaF6g35GMyuCjWhlihWiTPNdCeRFN2NAMqJQYube0hC\n",
       "4wt2NVwiRQ9MZEAViQvYMa6mJJ9AIq8kzxmMXmjx4Rinu32esrTkFRhhnZ01kbsqntYfTB/iHDiM\n",
       "wbQCdmZwO1PZakCExco6dBSj5hVMQsm8iOdYOItKCo0mRVsB5LlUZEVZDF6kdYoRNLCxabDNs51k\n",
       "s+66Wlc5CIu4MdKMwTQC3/5K9gYGTfJ3EME/mODNU6A/JbyCAYrOaIrRvvdQ/tbtvYWXzXy6dkhn\n",
       "uuUlZmNILmE/jtQ5RkoHt64dousFfZV4Tr6HM7dgKgEKU4OTCxb+n7PhVJq1BOx1/dq38/k+Zokp\n",
       "RgaHh7ibQDaF3FGwbafnLPkeIUWc2gq4Q1y7mFuJ69UxjQDQuUEubt3EDMC4cVda5jMYGRwTHY8v\n",
       "Lzioib6ammWzNyLKBRcW6tpjBEqHCLV4PPRCmAjTDaVa4O8rg3Z0r9Fp7M9gOtVGkdqlJzd4deSC\n",
       "i0lCfvYGbyLer2Pg+5U9GJXMncb+DKZTuBfOO+8xGPmx1umz/XR/fzcuADX2P6e9Hvrqzhd1O8/A\n",
       "fPBu8lkw9K2G9onx3GX4J/+v1Jf5n7mg9wv/BSvmI6a9yUS6AAAAAElFTkSuQmCC\n",
       "\" style=\"display:inline;vertical-align:middle;\" /></a><br>"
      ],
      "text/plain": [
       "<IPython.core.display.HTML object>"
      ]
     },
     "metadata": {},
     "output_type": "display_data"
    }
   ],
   "source": [
    "not_real_not_in_interval_co = (\n",
    "    Forall((a, b),\n",
    "           Forall(x, NotInSet(x, IntervalCO(a, b)), domain=Complex, condition=NotInSet(x, Real)),\n",
    "           domain=Real))"
   ]
  },
  {
   "cell_type": "code",
   "execution_count": 80,
   "metadata": {},
   "outputs": [
    {
     "data": {
      "text/html": [
       "<strong id=\"not_real_not_in_interval_oc\"><a class=\"ProveItLink\" href=\"proofs/not_real_not_in_interval_oc/thm_proof.ipynb\">not_real_not_in_interval_oc</a> (conjecture without proof):<br></strong> <a class=\"ProveItLink\" href=\"../__pv_it/theorems/5bc4e2f4ec51111a49965a52fd37b49bfa5990960/theorem_expr.ipynb\"><img src=\"data:image/png;base64,iVBORw0KGgoAAAANSUhEUgAAARgAAAAZCAMAAADde8GvAAAAS1BMVEX///8AAAAAAAAAAAAAAAAA\n",
       "AAAAAAAAAAAAAAAAAAAAAAAAAAAAAAAAAAAAAAAAAAAAAAAAAAAAAAAAAAAAAAAAAAAAAAAAAAAA\n",
       "AADXrLZzAAAAGHRSTlMAq1RmmUTNIjK7EInv3XbP4duh6fPj951y2Qx9AAAACXBIWXMAAA7EAAAO\n",
       "xAGVKw4bAAAEBklEQVRYw91ZiZLbIAzlPgSod+v//9ICNgYSsJ2NO52W3cnsxDrgWXpIWkJuWTSE\n",
       "oMl/sjAeht1kS5H/a3H+zwKjX3qqT2PEdFL/LjB4HOsKXpGOy8n4IbEBhu7PGH8TmHtMXVrMHT42\n",
       "9Jo0WB8aYAjyCoyQ++H0m8DcY+rKgpMIrTs5k1aiBWaPtAjMDq6276bSPaauLHESkeGy9MI6YLio\n",
       "HFNAcuxtjrnF1JXlj9jHhm/fg7omLRfogCEedmAKAb/Fn6rj8j9NxWzuQCoEQs1FaeIC6YFRvJ7E\n",
       "h7S8u+FWusPUlUzaHAAiBeOaANUpaB84pUgTTR1q7PdNownWAONoBUZkfC3cAMzLpsRBjWXm3viu\n",
       "jRSJqJSSWZ/jUFr6+NAu7eZgiUDCoiswvIl9TcvH46WnHkiUBacEVTgFZmqqEoCg7Vs7YGk7d7gV\n",
       "7DweiMeDUt7v46GI2aTB5yjoeJllmDxWYJhvSCG9YSdHHVAJQoPU2iiBJH7jtJsWeGNTRR0sjWdh\n",
       "1p0BExU+fU5mxg796iGFlOjSxqRc/vEzftgnabFklDpTq/bi6qbN0gDDcMKXfotmIbY/MP4QDjgF\n",
       "ZmhqV3erJj8DJilQmDv0FXqPfcE2uBM3aW9z7nRvLcMk05VdgJFtxMSjlLQEx9GV6swsidyaenDd\n",
       "J4KYtwTVFKLQ8bdRB27kQ+fSAtMpAD1wWHtfmfgBoCtgwjDxYEn74stzFSOWJsxZaIFxbEtLCDrC\n",
       "offWCgiK9TUUYFys3pDPgdlNoSbUEsUadaaZHhBJsd0poDxwaHEND0loesGuBZfIx9e2SWcQqCJp\n",
       "DwXJxRTu2cnXtsBoT0sMpzzdLfLM0pI3wAjr7FETuZvieUfRcVXnwGEOTK9gjxyudypbDIi4Wdmm\n",
       "jmLUDKUzPiyIdJXFy2gj0eRUtHXMdreXiqwYS+mItKUYQSM2Ni+2RraT7Ki7bva1hl5VN0aaOTCd\n",
       "wqcv2d/EocnxDiLGBxO8ewr0p4SRdHyCzmiKaQshbBlC3dYvFGCCHI0d8o1uecnZlI8+nseRlmOk\n",
       "dHBp7JBCL9pr1DfyJTAGplGgcOgwzGsc/svZeCupY2kGo7FDdB/G8xifKEbGgId0mghrTrlasK23\n",
       "5xH51pQiTq0FXFXXLnErcaM6plMAeuyQi6uTmIm0I2NgSr/5CIyMgYmOp5cXA9SkWM3NstkbEeVi\n",
       "CAt1HjECpUOEVj1dejFNhBmmUqvw9cyhnc01ho39k/RzwbECs2sfTPDazAWXSEJ+dIJ3oD6uY+Dz\n",
       "mT+YlczDxv5JGscTvIrgHBj5Wuv00X56fL4LA0CN4+/pS9J15purQNTnM98XZ5P3AkPfamjvWPcN\n",
       "wz/4f6Wxzl/GBUPw/DeYgiOXL/VHHwAAAABJRU5ErkJggg==\n",
       "\" style=\"display:inline;vertical-align:middle;\" /></a><br>"
      ],
      "text/plain": [
       "<IPython.core.display.HTML object>"
      ]
     },
     "metadata": {},
     "output_type": "display_data"
    }
   ],
   "source": [
    "not_real_not_in_interval_oc = (\n",
    "    Forall((a, b),\n",
    "           Forall(x, NotInSet(x, IntervalOC(a, b)), domain=Complex, condition=NotInSet(x, Real)),\n",
    "           domain=Real))"
   ]
  },
  {
   "cell_type": "code",
   "execution_count": 81,
   "metadata": {},
   "outputs": [
    {
     "data": {
      "text/html": [
       "<strong id=\"not_real_not_in_interval_cc\"><a class=\"ProveItLink\" href=\"proofs/not_real_not_in_interval_cc/thm_proof.ipynb\">not_real_not_in_interval_cc</a> (conjecture without proof):<br></strong> <a class=\"ProveItLink\" href=\"../__pv_it/theorems/30678cacce9e58d3a40e201f0e00b59e750bd9a20/theorem_expr.ipynb\"><img src=\"data:image/png;base64,iVBORw0KGgoAAAANSUhEUgAAARYAAAAZCAMAAADDsvEcAAAAUVBMVEX///8AAAAAAAAAAAAAAAAA\n",
       "AAAAAAAAAAAAAAAAAAAAAAAAAAAAAAAAAAAAAAAAAAAAAAAAAAAAAAAAAAAAAAAAAAAAAAAAAAAA\n",
       "AAAAAAAAAAAsiKZwAAAAGnRSTlMAq1RmmUTNIjK7EInv3XbP4duh6fPj9+eRwQ+hj00AAAAJcEhZ\n",
       "cwAADsQAAA7EAZUrDhsAAAQISURBVFjD3ZmJctwgDEA5DQij3pf//0MrsDGwi7GTdafTspnMTowk\n",
       "eJaERBi7ZfAQgmH/xUDairhJ18T+pyHlv4vFXH1Kr9+e+YdtRP5hLDh29An2r16fKktTNFZY+P5M\n",
       "yBex3KPq2hB++Nhydo4F3BzqKSgLFrULTeZFLPeoujTgxD2VZle8ZVLNlOxihGXnatyrQXSPqktD\n",
       "nbhjYJewLKKZIlXJLRmRFy/nlltUXRrzIOm4EL58na5g0Qu0U2bYseS0+1LWnJoM/scTsDi0oCek\n",
       "rXF7yVt8eJgyybKPOcQx+xtOojtUXYqhzQIgcrC+eKdJDttmnm3Phns02K6ak7yosHhesKiE1sEN\n",
       "WN6sSg1qqkGxsb3VKI4cmQptrpf4jEXP9Mgt9dJgIYiwmIJFVl5veP71eMpND6lTBD8pPuEhlkNV\n",
       "JfAVr9/ZIDe7gcGtOpe0I0k75bKf4yosMCcPCM12EqQZCxYxV8kgvt1uAPIcDRa5czQDGf3FG39Y\n",
       "zvVVZXFwnDYinD/DQgIfPkY1Bwbn1UT0J1UHjE1R/O17CO4Bi1oSzkbRKrr4smS7VFgEHmTJefNj\n",
       "pbYvSB8mAQ+xdFXt4n6VlGdYogCHgcG5kJ+xKdA6B2Ha8+xS1DRvLEHS8ZDOWHTtLbSRHI3gJfpc\n",
       "i9klZrSq+ltXiaCOi/+iClEZ+qnEQVr90LDUWBoB4CODpcXVMTUANPVKeK7sYYmrkstz1aKWysFF\n",
       "qLF4sUUjBEMwzN5CAUO1vYJtlZ5qNZTHWHZVaBh3bBKVuDDCdBJI1t0IoB4ZdLj6hmY8vl9foSVS\n",
       "qoclIuATiyvIEBebc86ecl2Nxcw8e2+Mz924TLlZywqLct6NWsVdlUyLJ8NFXIKEYyytgBsaXA9S\n",
       "sVhQtFpdBQ1h5bbTB0aQIqh4dtEBtKXOaFLVdct28Of6K2uKMYu8Ti2KExmXhlh92msx6qCrRa1u\n",
       "V8St1fYYSyPw4VOyd2TQJmcHRc4hlKwfA3c/oIMFOHprOMYFhLDFBvdbE5GxBN27WEhnuJM5VGMk\n",
       "zrSbykfpo7WHSxcL0e1IXyW+pVwGfSyVAIexwcENys9fVP2HYfEvoHexQMZD/75ljqlFk6tD3AtB\n",
       "TcFWyrP1vByl3BJMzE9ruVbEjY8Zlfle3dIIAD8xKNWVm5YjLJ71p+QG9BGLJo9EL+OLI8+00UlT\n",
       "Q2z3hmPy5LtqOvcWhdpj7E+KeDzoKECU7QZRLfD51KA7urp47t6fsDwXGOuUXXRwO9cErI/JQb/3\n",
       "dm4g3q9b4OOZvfp4fNihOMWC/du5gvoYi35bi/Tenrm/uSuXewb7f+edPvn0LjeVh2jO73LfeOt4\n",
       "Lxb+Utv6+rjvivud/yfqy/xVKhjCLH8DylIkOrFBdmwAAAAASUVORK5CYII=\n",
       "\" style=\"display:inline;vertical-align:middle;\" /></a><br>"
      ],
      "text/plain": [
       "<IPython.core.display.HTML object>"
      ]
     },
     "metadata": {},
     "output_type": "display_data"
    }
   ],
   "source": [
    "not_real_not_in_interval_cc = (\n",
    "    Forall((a, b),\n",
    "           Forall(x, NotInSet(x, IntervalCC(a, b)), domain=Complex, condition=NotInSet(x, Real)),\n",
    "           domain=Real))"
   ]
  },
  {
   "cell_type": "code",
   "execution_count": 82,
   "metadata": {},
   "outputs": [
    {
     "data": {
      "text/html": [
       "<strong id=\"real_not_in_interval_oo\"><a class=\"ProveItLink\" href=\"proofs/real_not_in_interval_oo/thm_proof.ipynb\">real_not_in_interval_oo</a> (conjecture without proof):<br></strong> <a class=\"ProveItLink\" href=\"../__pv_it/theorems/420e3150f47f62f8ac10861d6b4277a308f0bf470/theorem_expr.ipynb\"><img src=\"data:image/png;base64,iVBORw0KGgoAAAANSUhEUgAAASYAAAAXCAMAAACRSxJUAAAAP1BMVEX///8AAAAAAAAAAAAAAAAA\n",
       "AAAAAAAAAAAAAAAAAAAAAAAAAAAAAAAAAAAAAAAAAAAAAAAAAAAAAAAAAAAAAADFBd4eAAAAFHRS\n",
       "TlMAq1RmmUTNIjK7EInv3Xbp8+P3nXbhrUQAAAAJcEhZcwAADsQAAA7EAZUrDhsAAAQTSURBVFjD\n",
       "3VjZkuMgDOQ+jWZ31v//rcuNiLFjV81LxjU1JLFagrbUCBPyey795K6+602T33UBu7yt3APjeEnA\n",
       "I+2/M/7RLDF/edvQe8bObqEyydEoZKf7o9PLqev7Y53vjJV4yb80dpa1/ehkEm9qIdw23ls9coHG\n",
       "xplnH03TdqVaNnz9Ceqesdy7iG1ujLwyqz5bmc6nLxU4Qs0945guI+8UR+MW0rX5z665On0HQJ3x\n",
       "qDR0KpdZjJox0dSDhhdpotFFgfsqSHkUmWjrfmS20xN+vyfAMjP0c1B78HECQIEIlBLJG4eVsdzi\n",
       "PbtPK3d7pNXteQq8kptHTdu/1z1UXao6C14JqqYJYACXS5TVp7wO3Evo96BQnj+Pdjyumw6NVsem\n",
       "qRq7LW/1YZ5fZm3Lq2JVw8qYEsmv1kTXhWiAWivTU433vfZrmhxdkvSSCtLjddOOw6FPQLOCl/mn\n",
       "whBTgZmkKX+/4z/7aiz2zNnsrKD3/KPZq488MjgR8M0sC0uYlvwRyB2saRJH4rnl6+a4drZ5+QU3\n",
       "Qp+CVjSRngmjXTzu4tV4s7nI5nlm1mRpCuTWirPmZatd5zn4luBmT3rYBAGEjn+jOa00gRNrmsIL\n",
       "Lm7LY7IjTllBwWV9DFNoDBqujs1LYGNDjxbOTfMIK2O3p0XzfdE1iaJXLDR5qS1TfTwu6DjDRhME\n",
       "R6CSAJpQSxQrT6fR5GNTCnxJk1YzzmxoaSgOE/2glJOp4GroCdRdNdAkilBSRxKaHj0qJAAixdI4\n",
       "M0JV3jI6rbtpopUSmeBRb7TVUyrm7o0jsc/OowvJEU3C+lnlxzdpZ1xUGO9G3fY41c62ZCrfW2gM\n",
       "Gq4aCHc7tOivcSL6lTjbFKNmZZzZYkEkZYz7W5PHFEbMjUMbm59UtECxNIkhxG2TtPlipej8NCNE\n",
       "E6MzLi+urRnFMZVOXoW54EZoiYjqrsyBJpPrwomYO0zwaU6Ofku3MI43wBtNIS0+BNesfT/KBDmP\n",
       "vWdIfQRvhZ2qdmR9evrxtvEEa5OU3i1p6iupuHpMz9KC47T6UbVzKzgcuoKwq2PRkWBOOxf+z9u4\n",
       "06lLY3bsG3WYx7EFJMmQPPZXiYxIcKrK9FlvxKuycY8+tDQElxKOcK3vTcrc42TpKGtpLUDG1dAY\n",
       "hF3BscPk4uabphNjf36aPhyUZcxX8JwU7TQiTyd/FiA9gMtvEkw/Kykf8xz3KYim0hEOHH4r2OM0\n",
       "M7SY/EMNPYGQK7vo0+1Z77569XEwdnCKu3x1wk4+p+xK2rRssTFN8tYh0R3mcAPn7N0fz159HIzh\n",
       "nEp7cXbCoifvH/dwdHHnNd/C6D1ubaFhbU2fGE/9xzSuZe/k8wOayCTuxrZLvzv3DdwD0EddM/Pv\n",
       "s9A9+PWB2x+//gN8/SLjbh5x+QAAAABJRU5ErkJggg==\n",
       "\" style=\"display:inline;vertical-align:middle;\" /></a><br>"
      ],
      "text/plain": [
       "<IPython.core.display.HTML object>"
      ]
     },
     "metadata": {},
     "output_type": "display_data"
    }
   ],
   "source": [
    "real_not_in_interval_oo = (\n",
    "    Forall((a, b, x),\n",
    "           NotInSet(x, IntervalOO(a, b)),\n",
    "           domain=Real,\n",
    "           conditions=[Or(LessEq(x, a), LessEq(b, x))]))"
   ]
  },
  {
   "cell_type": "code",
   "execution_count": 83,
   "metadata": {},
   "outputs": [
    {
     "data": {
      "text/html": [
       "<strong id=\"real_not_in_interval_co\"><a class=\"ProveItLink\" href=\"proofs/real_not_in_interval_co/thm_proof.ipynb\">real_not_in_interval_co</a> (conjecture without proof):<br></strong> <a class=\"ProveItLink\" href=\"../__pv_it/theorems/bf3736789df6b378103ecba076b3204da0de05e30/theorem_expr.ipynb\"><img src=\"data:image/png;base64,iVBORw0KGgoAAAANSUhEUgAAASMAAAAXCAMAAAB3YtkQAAAAP1BMVEX///8AAAAAAAAAAAAAAAAA\n",
       "AAAAAAAAAAAAAAAAAAAAAAAAAAAAAAAAAAAAAAAAAAAAAAAAAAAAAAAAAAAAAADFBd4eAAAAFHRS\n",
       "TlMAq1RmmUTNIjK7EInv3Xbp8+P3nXbhrUQAAAAJcEhZcwAADsQAAA7EAZUrDhsAAAQqSURBVFjD\n",
       "3ViJruwmDGVfg9u+5v+/teyYQDK5UlV1XnR1nQkYm4N9MBDy+zz6bSuEYN4Npcnv9QB7bFauv3r5\n",
       "aSwJWNL+nfGvhoj5x2YzJnqPkbNHqIBzJEXvr746sJx6bheSvIkjJS5hl2THV9uvDiPxIQsCeYXR\n",
       "2RKWCyQbYJ59NUbHE1PZ8MefQb3ASJ6dtQ43JK8LoL6bje7dlwocoeZVHPkRboojeYT0HP67U626\n",
       "7wCoMx4lhU6JMrNVxUhTDxpmOqJRv+j6SkJZigyxdf+Kq/PiftwFYBsT+udabdWjA0CBCBQPaTQO\n",
       "K0byiC32xPN2ZwTUndk+r7BmqWn7d90u1SONs+CVoGqyPilw+VNQh9rFNrP6WSuUxeexG4/TpoPB\n",
       "1aU4ahi5I2/rYTKTETvylFhluCJTCG1TlO7zzwC1VqbljO1e+xuMHN1v0jNZeDxnOtSwbWYvkSMX\n",
       "x47if0oJMeWVSVTy16/4z84YiTNjO41UVM/8zZx1gCwZ3DD2sa3YhTAt5KMid3CDkdjBrgV1a/lb\n",
       "y9c89ao2bHPLn4rmCSPSw2CUheuenTE6bE6uycmMmCz7v6xxVKXq+eo8B9/C2pyJABsHgNDxb1Sg\n",
       "FSNw4gajMOuVYpfqi53iftHLnBhm22DH/MZYS6ES2Ni+YwfnJjcCWTByZ5oyP9fqSBSKYqFRSi2N\n",
       "6rq4oKN3uh/9HIGKAGhCLVGsrEvDyMfKE/geI60mveS9bVghO0z0c1AOo6LWbJsDgYHGYldGKtno\n",
       "IgXQtO4ogwCIFDuM0jhU5R2iIXqaxlMpfAmW+qAtjVICd7scsXt2Iw4hOcJIWD/TOvol7aQXf3s3\n",
       "0rXbkbYr5jBqv6tthrTGWK0XmjYtnGuciONKHGaKUbNilFFlQSQujNtZ5cNkQszVRJNtkJTVQDEd\n",
       "iUG8bUu0+WEl1/zkDsaI0UlvighkxxSVWMkWIq5qwzbGlrQYN1eMTM4IJ2LUMMEnnxz9Jd2KkaPg\n",
       "jaaQph5CzSPq+5kmyFn28iBVDLwlc8rVMbO07rHZeIL5SErv9hi1aVS9SEGdWbCdljWqVmhVDds2\n",
       "tPNZHWvNNfJwI8T/9jbua09nEbZUhzrMcqxvognJYx2VkIjgpmRM7/ogXpU9ehSbZe9/5Gykl/mX\n",
       "X+xkuigTaZt98anabg7TyN94LFjKSC7e3BzdYeRvz8jLWVnGMAXPa2YYkV3J7wKkB3D5fsD0c5Dy\n",
       "MbxxPYIxymXf0MP7eLdTe+GZlA/V9nQxiMayaylu76rz9UJjwcjBndLjbQi7ec9JY3MNuXnsY6G3\n",
       "qZjd4oN8cXB09t23mwuNBSO4Rdw+nIswy8n3R7nJT/Hi0m7T54XatouGfWe6Od1/us8GPcs9z928\n",
       "/wQj4j+Cuz3SITVj26N/eBD8/z766Wz28fD2Vs39t5P6B/LgIuG9fupvAAAAAElFTkSuQmCC\n",
       "\" style=\"display:inline;vertical-align:middle;\" /></a><br>"
      ],
      "text/plain": [
       "<IPython.core.display.HTML object>"
      ]
     },
     "metadata": {},
     "output_type": "display_data"
    }
   ],
   "source": [
    "real_not_in_interval_co = (\n",
    "    Forall((a, b, x),\n",
    "           NotInSet(x, IntervalCO(a, b)),\n",
    "           domain=Real,\n",
    "           conditions=[Or(Less(x, a), LessEq(b, x))]))"
   ]
  },
  {
   "cell_type": "code",
   "execution_count": 84,
   "metadata": {},
   "outputs": [
    {
     "data": {
      "text/html": [
       "<strong id=\"real_not_in_interval_oc\"><a class=\"ProveItLink\" href=\"proofs/real_not_in_interval_oc/thm_proof.ipynb\">real_not_in_interval_oc</a> (conjecture without proof):<br></strong> <a class=\"ProveItLink\" href=\"../__pv_it/theorems/03d104892ac56087c05f3b5b00a9db0a88c943530/theorem_expr.ipynb\"><img src=\"data:image/png;base64,iVBORw0KGgoAAAANSUhEUgAAASMAAAAXCAMAAAB3YtkQAAAAP1BMVEX///8AAAAAAAAAAAAAAAAA\n",
       "AAAAAAAAAAAAAAAAAAAAAAAAAAAAAAAAAAAAAAAAAAAAAAAAAAAAAAAAAAAAAADFBd4eAAAAFHRS\n",
       "TlMAq1RmmUTNIjK7EInv3Xbp8+P3nXbhrUQAAAAJcEhZcwAADsQAAA7EAZUrDhsAAAQqSURBVFjD\n",
       "3VjXEuMgDKQXYXTN//+tRzUixnYycy85JpNxYjUWaREw9v8M+8lb+2AMY3TPUt82UNy+NvCBcB5B\n",
       "M6YxP/HjPyG/GiIRbl87/p4w+C0OjBhmUJQ+gP7qxAJz/37M80nYKIJRSb8DX+u/Oo3UQxXEt4V3\n",
       "QTGSitRpEF+N0XbHVD7++BnNe8J6B4oR29JP2TA1381G1+Frg8C4e084QRPZhJHJ+Gwxjy18d6m1\n",
       "8AGRgwukKGwulJmA1DFXywNanOmIJxNiYBQyGakCsYd/Euq8uI+7AC5zwn6uZeQRAHJkatBP2Yok\n",
       "roSZ3tJLv9Opw54whd0eGElTsOxfr9uluaVxEYNR3EzeJwWpV1reXoM61O59n7ViTRyZjMs0Zz5I\n",
       "2ZyboybMYCs7+0TnoiC24YGR2HoKhdV8+Lr+HHLvdV7O9D7YcIER8BVCLzmgA50zH2ovvmGhNVF2\n",
       "jT+XhJrqymUq+fU7fflXYab2gthkrGrv4YDEFSGBF4y9ueUiKtdTPilKwAuM1Al26eW6/W3ta5l6\n",
       "U5t8W8Xhpmkm0245QHvC857dhTdfimuKsyCm8/7fMNJbS8derxAkhl4Mbs8E2DkAlU2f1nkOjBDU\n",
       "BUZx1ks78Ih0+KnhV73CifHk23FuX2ydGpUoxt6dBACmMOJSGPY8a7mfuyO1j9ISsbVGbV0g2hSd\n",
       "PY51wLAhgJZxz4yo69IxCqnzRLnGyJpJz21kWsSPUMc5qKRRVSO+tVf2JYauRR1jTRrNeF53Uj6I\n",
       "TKuVcMIom+KmbBId1N11nuqcXedkN97LKBfwYUo2Vs+SxXLS15JgpHyYqZX80n7SS1QUYJTr4Uf7\n",
       "Q7GkUf/dfGuiNWx1KdLV8Eq4DlSyq2maGcHdSrhiJaLKdJi2s0aJ2Ysi/VFvFLqRXKjIKR2pQbx1\n",
       "3aXxZYhaa2EKh2Ik+KTH6HyJH1dVUidbibipNd9T9hFb7hUjVyoCVMoaoeSkBPy3hoVwfoPBWY55\n",
       "9jG2UuKhnVQaRnGm1dIWeNmLORfqiDGve3rtAqN8pHWANUZ9Gk2vMUupG+qnV41pHVpT674hEBYb\n",
       "tk61xqK77BTkn+DTvmbuhQUs7kaSu/i6O2Sa0DI1URmJhGwuxvxsNxZM3aNHs1n3/lvOJnq9sc1M\n",
       "fPgpdFEn0jf7GlPzXU9bsjHCsIWnNlKqN2+OroQDW2J0Ov7qlKYYJKs57lQJpTwr1AERyv2AO85B\n",
       "JqT0pv0Ixag0i0OPXgAefpoUnUn9o/meegZiy59bcX/Vna8uNM7CgEuMbm9DxMVzSX9fesjF8LeN\n",
       "3vJK63QEDc/dOfh3LLHrC42zMC7vIa+Rz5HC+vlhTK7VG5d2C5k31JYiFtfCnH0gTO6zy8ZyF4u8\n",
       "eP4EI0bp3Pk+7NORLjytidTffEXxAvtjAsIH/35g9t+Ov5h1ItYav/FdAAAAAElFTkSuQmCC\n",
       "\" style=\"display:inline;vertical-align:middle;\" /></a><br>"
      ],
      "text/plain": [
       "<IPython.core.display.HTML object>"
      ]
     },
     "metadata": {},
     "output_type": "display_data"
    }
   ],
   "source": [
    "real_not_in_interval_oc = (\n",
    "    Forall((a, b, x),\n",
    "           NotInSet(x, IntervalOC(a, b)),\n",
    "           domain=Real,\n",
    "           conditions=[Or(LessEq(x, a), Less(b, x))]))"
   ]
  },
  {
   "cell_type": "code",
   "execution_count": 85,
   "metadata": {},
   "outputs": [
    {
     "data": {
      "text/html": [
       "<strong id=\"real_not_in_interval_cc\"><a class=\"ProveItLink\" href=\"proofs/real_not_in_interval_cc/thm_proof.ipynb\">real_not_in_interval_cc</a> (conjecture without proof):<br></strong> <a class=\"ProveItLink\" href=\"../__pv_it/theorems/8c2f36d19adc4fa7961cfb7f2995ba178823d5db0/theorem_expr.ipynb\"><img src=\"data:image/png;base64,iVBORw0KGgoAAAANSUhEUgAAASEAAAAXCAMAAABzlwktAAAAP1BMVEX///8AAAAAAAAAAAAAAAAA\n",
       "AAAAAAAAAAAAAAAAAAAAAAAAAAAAAAAAAAAAAAAAAAAAAAAAAAAAAAAAAAAAAADFBd4eAAAAFHRS\n",
       "TlMAq1RmmUTNIjK7EInv3Xbp8+P3nXbhrUQAAAAJcEhZcwAADsQAAA7EAZUrDhsAAAQVSURBVFjD\n",
       "3VgHjtwwDFQvlMU0//+tUS+2XA4IgmyMw8Fec0RqTI4oEfL/XPr1W/Te3BpnA03+rwvZ7WsF/d7J\n",
       "x9GiicR4R9tvjH80QczdvjaUvGAI7OYHE4yUiGasPjqpQN2/F5K8yiElRpOYeI1bbT86hcRDBXjy\n",
       "jqGdjSZcDPXp2EcztN0plPXfvnv1hiG5w2SyhUdeyFefrULX4UuFQKh5l0POzyYqsrP5eG3us4us\n",
       "hA+IFIwbCkLHIjmoVJ6+pg41HmSIhgFYZ8hFERKJXgt/JND5wz5qPy7zQX8dpXgLACkS0WUnLUAc\n",
       "zwzJLbyx+zRv2AOfsOvGEFeJyvrvuECqW/Fm3ilB1eR7AnD5VUo77N73GeVz0vAwNx4mTbtuq2Mz\n",
       "VBiCLS3lfp5TImzDxhDbavosK5OuK88gtVbGTxneO+0uGAK6XpZnkXDjjGmHHXyvUJNQ5/hjOYip\n",
       "okwUkR8/wz87MyT2xOw8UsburhFikhXDC53elq25EKYmewBywAuGxIp0LSicW93SrKaJF9jke41a\n",
       "MERKBow94GKdjtPfbKqqOchEmIwrfmFIbiURa52C4+iqDJg9yl6tfRQ6/JU+szOEIC4Y8jMuN7ZU\n",
       "H/zk4DMuaaE/+W6oPtapNfGsr9fBAGAKw5+3FLDHKfN90Q2JvRcV86UVKt8EvA6x6bZ9A4Jl/qgJ\n",
       "tUSx/E0qQy70mcjXDGk14WLstjI1+GGi7XhSCmXY4LujhrHYUYks5oSRhMavPtQOIpFixVAch6q0\n",
       "LjQ+d1MFqip1npHeaC2gWLjNKy9aHi1TEAEv+cCQsG4W1OFJ2gkXnh30Qm1+pG3AlEL1ufgeUX2s\n",
       "ajXMmWahNSDCuHJMMcWoWWxLI6fMi6iBYQWrQhh9iKEfql1EHSJWM9JRhkSX2/zNubLpYrnK3BTM\n",
       "yBCjE85sbFaN4sdkSOhbs/wWWPE9odpYDTUIcqoGECFjmOATCOhPCWeGgKIzmmKcuvdQbV3ZvhSG\n",
       "/KxTqRGwvBZxrNEeYfzm4bVxZNQhKR2sGaqTKLggPZYt/NR6UaUjK7Dqe0ANY52rjNwc+PBfzoa1\n",
       "7G7XwWB1+hGcHRVsi/IgeWiaIg+B2FiG8V5vxKm8KvfWMq/2t0o94NL+iB/8JJnI06jLe46p+B5R\n",
       "41h4ahq5eHUydMGQI2uT035YhgRFx0tNGJECSfcCpUOEdAZg2n5HuZDYY/8xMmTj1+64Inx88lOs\n",
       "xnnkH4rvCTWMZc9tt73qxBeHFkeGANcmt+cd7OI+Jb5NHePisrdtXRprngmcYljCHlHr364OLY4M\n",
       "4fqM8Zr1GCes7x+uKUrx4khuYfMCtjTRuDamqx384zl1WkzuIuEX919hiLhHapdbt0fYmw3fv3rp\n",
       "uz3Y4ybtLQz+5pR+A2MrItTDz0CxAAAAAElFTkSuQmCC\n",
       "\" style=\"display:inline;vertical-align:middle;\" /></a><br>"
      ],
      "text/plain": [
       "<IPython.core.display.HTML object>"
      ]
     },
     "metadata": {},
     "output_type": "display_data"
    }
   ],
   "source": [
    "real_not_in_interval_cc = (\n",
    "    Forall((a, b, x),\n",
    "           NotInSet(x, IntervalCC(a, b)),\n",
    "           domain=Real,\n",
    "           conditions=[Or(Less(x, a), Less(b, x))]))"
   ]
  },
  {
   "cell_type": "code",
   "execution_count": 86,
   "metadata": {},
   "outputs": [
    {
     "data": {
      "text/html": [
       "<strong id=\"bounds_for_real_not_in_interval_oo\"><a class=\"ProveItLink\" href=\"proofs/bounds_for_real_not_in_interval_oo/thm_proof.ipynb\">bounds_for_real_not_in_interval_oo</a> (conjecture without proof):<br></strong> <a class=\"ProveItLink\" href=\"../__pv_it/theorems/96fdcdc29a4d80504babcee99513c6af1bd6c46f0/theorem_expr.ipynb\"><img src=\"data:image/png;base64,iVBORw0KGgoAAAANSUhEUgAAAUIAAAAXCAMAAABJR7ZeAAAAPFBMVEX///8AAAAAAAAAAAAAAAAA\n",
       "AAAAAAAAAAAAAAAAAAAAAAAAAAAAAAAAAAAAAAAAAAAAAAAAAAAAAAAAAAAo1xBWAAAAE3RSTlMA\n",
       "q1RmmUTNIjK7EInv3XbP4duhPeprPQAAAAlwSFlzAAAOxAAADsQBlSsOGwAABAZJREFUWMPtWYty\n",
       "3CAM5P0QhqT1//9rAQMGDDjnZDrXmTKZyDmfds0iCZkg9N5DdvaZ93e/87NP9XeHI619cXD3ZYZH\n",
       "uIfF5XNC305BYlr7+hLQrzCA3uwz3GgZzx+LtwtLEK1dSTF5egHlEpdL5XoGwV6DLbjBqhyGUr9d\n",
       "EDLa2umglsHkzqkNLcJp1TPs5DXYghtt1tOQt5Nw6+wsq6yBOcZ5KyerFD0D3+FF2IIbLE0LId5O\n",
       "QSJaO052Y5d7hjgjOAcJIz2Dsa/CFtxoNxvGZt4vj01rETiHQZkqX4DZQZJLbJxMCphzv8zRZy8M\n",
       "AnvkKguHsC17xo2Wxcqg4ScmvShXqf6QSX12Nwud4B12iGUNAItR9eGb59ApN2kVwjg+g3M9A+y+\n",
       "msEu17Ate8aNVuL8qxtKLHcYYo1gWNRzX3w/3aJ8xnKV35LWUj9H6pXBJUKGc4UtdhpJZ1IV0mPr\n",
       "tNAzkCj35pawHXvGPWwIQMMH08bj5FYOa81D4Pj7RppbCb3Dxyc/FnjKwi9kG29tiCHW1kU5yDi2\n",
       "R3USnNrruPYyEHZhOEB3s4Tt2DPuYYmbbCabGmYrUzn3vCMFdydhcEhNGeNzFgE3EqImVKZ1f9Mx\n",
       "N3nO6q6Rrju9hBzl5k1jM95OKvaMm6woPRMY6owsQocCmmuVY9L/1A1/lNABG0vYOOToswuWS1fV\n",
       "J3Kcp3cDWHUfsIe50L2UmwYSKX1liOKxHe6ampo94yZrSIoAsNJPSRYMQC4J5CTCGvkaAbraAYxv\n",
       "yOt3qOrxWgfHqz1xwkL6aqhdY8EXDxzW3Cx7YIiCYJE2LqrbFzPMrwy7yhV0AduxZ9xk5YZzyvmo\n",
       "KJGvabXxRD5PxWklIdNGo/F20jqkG1wvWHhfBpq+IRR9Bcy7cTLsIVWtC7Es7U+sERysGDCEHUIz\n",
       "tITt2fuOC6uzNjhcFyl21v8jbqjQcZAjkU0zoVaE0+HjV3RABC9YVC+hso0F5tsRwujdWxRgZ5TE\n",
       "7piTbasvIwMGwOb2HbJnz7gdfmyNNM21JpSTrVCGuPG3lUF1LeS8LhiNCJVDrqhKL1guiYysau2T\n",
       "k731Ecxj5Ix7wd9CkeLU95nmaKBCpodruSEjjt7t7MGPpma8nTQOZytjpyxNyzt6l//eSQW6PYX4\n",
       "oRMQ7gPVGRoiyMeFYnFW8Zo5bpyDeKKTVo4LJ4wP8KpZqqKwdvh91ik5Y0n3ug1Fotmto7JVYxhP\n",
       "t8dPI+R72IK7xCeT6xCVoRbyxStI/0ifxaHvn+v30oFz/gyeHsTpuzPQh8g3a3uEGIyvb5DHq1EF\n",
       "O5MzFjZ6mnxYIN2jmbr7U+RHyBl3iU8n108kxPUSNO1qhUw5+j/Q7D9asPjr7uN/YPwBYpIlW5w3\n",
       "4x4AAAAASUVORK5CYII=\n",
       "\" style=\"display:inline;vertical-align:middle;\" /></a><br>"
      ],
      "text/plain": [
       "<IPython.core.display.HTML object>"
      ]
     },
     "metadata": {},
     "output_type": "display_data"
    }
   ],
   "source": [
    "bounds_for_real_not_in_interval_oo = (\n",
    "    Forall((a, b, x),\n",
    "           Or(LessEq(x, a), LessEq(b, x)),\n",
    "           domain=Real,\n",
    "           conditions=[NotInSet(x, IntervalOO(a, b))]))"
   ]
  },
  {
   "cell_type": "code",
   "execution_count": 87,
   "metadata": {},
   "outputs": [
    {
     "data": {
      "text/html": [
       "<strong id=\"bounds_for_real_not_in_interval_co\"><a class=\"ProveItLink\" href=\"proofs/bounds_for_real_not_in_interval_co/thm_proof.ipynb\">bounds_for_real_not_in_interval_co</a> (conjecture without proof):<br></strong> <a class=\"ProveItLink\" href=\"../__pv_it/theorems/abd3c61215ab3f862da26de611b2f7b3baaaa58e0/theorem_expr.ipynb\"><img src=\"data:image/png;base64,iVBORw0KGgoAAAANSUhEUgAAAUEAAAAXCAMAAACicA1dAAAAPFBMVEX///8AAAAAAAAAAAAAAAAA\n",
       "AAAAAAAAAAAAAAAAAAAAAAAAAAAAAAAAAAAAAAAAAAAAAAAAAAAAAAAAAAAo1xBWAAAAE3RSTlMA\n",
       "q1RmmUTNIjK7EInv3XbP4duhPeprPQAAAAlwSFlzAAAOxAAADsQBlSsOGwAABA5JREFUWMPtWNuy\n",
       "nCAQlDsMwjmJ//+vAXSQq2ZNHkxVqFSY2j3TLW0zzLIsrx6qCx5l/+HfzHLU8vrhaRt8NIT/fYYn\n",
       "uPtM8ueUvU1Aatvg0zfAfocBzOqe4aaZC/xYvs2UINvg4yEhhySH2rcMkk8EnmmCuHHWaEJl3mZB\n",
       "ztrg48FOaVjWzeiWYRvuZeY43OCmGeW09G0Krl0w340zs6ynBrhTlWwZxDZQyjsLF88G58yO9yDf\n",
       "JiCVbTB12tws8rQvWoTTlsF2ZRCsuz6FEDfNq4tjta/bxLYJwHsC2rabpTOLItarQwB7npToPdcx\n",
       "SBKQC1Tgrq8bNTvippmnsmDgr6z6wiiJZjXj7eYv7INBAPfEL9xdm0WsgcIcG5MV/iXpCbxvGWAL\n",
       "lQw2fDAgko6XVrAjbpoVwf+aoeXl4UKdlZzIagEXCftXZEbSa+9oHbCwRBaEIac/1MAssKYW45CZ\n",
       "FjV0PzQdtAw0qb3mhQwVbNgRd5+j/awYLJqMd7b2xBgRfRO+t8reKxgyvr7FUEEkER3XKuogOohX\n",
       "JXG4VL4lcQ44vZWuDipQ3jHsoJu9fDENO+LuM/WTc2TVw53KNe68kMjA3yoYM452jExJJNwouFRG\n",
       "mSq4mrQxBW7ppn8uD+0DOKktqo5mfJIU7Ih7zDI3S2CZtyrrHIsnFirPVfhX9vlJQQ98omCVAYd0\n",
       "ZErSdVPtLk7LDGkAV2aBLS6FbbnUVJCLNj1D0o63HU3fzZTsiHvMlh4GAKfCklTGgMUf+ni1ELOE\n",
       "dw6mqP429OHVL6fi+eoML7KCExLaVkLjqwBC4SDxjdvLtgOSHkQuNDEwU/8aI6Jn2DRWz3mT1LIj\n",
       "7jGrleB2C6bIvjesOHMSX6ASrFCQG2uWyUlSZ+AXZEoi2gqQG5E9oJsGHtIEbbsM56GRhTp+HE28\n",
       "1tvJAUM8HAwft6RYx1p2xMWZ6LMweFJWKH4Wrt02TJo06L6Lbb2gWoUz4+tHykgKTkh0q6B2VQA8\n",
       "9CGUs9E5WW44IN5qRfy+JFefkJwOGIDY29+NLTviNvipJzIMC02sJWumjLYJX2u7lHVQiKpaVCoU\n",
       "GbmckilJt4sXp9tg3mxOftWp60uXe+DZDaGb4K+xQgkW+ku7d05xm8dYrYuVe9N2tt57NzM5SaoM\n",
       "yJYjE5Kq022vBRj/48uJ24uHZ7gdvgg29ZZF+wRbaJ5WlWLuhfWp3ii82hDSSxvsXfZohQfLjJ+6\n",
       "UHBIElJ7F+WPzMOLt9v7phEwuGLoS9xLfDqJoydjHRQXPzy6Z/rOGWRGAoPU/Bk8vHm7Vf4hMOJe\n",
       "4QsYx3fQ47dxep3MSPjoYfB+4Aw+u0q+t+4jYMS9xGeT+JGCBMYKFsBMLP9HeqXjvVJIbG7/5B8b\n",
       "vwDHMCQ+C9hyvgAAAABJRU5ErkJggg==\n",
       "\" style=\"display:inline;vertical-align:middle;\" /></a><br>"
      ],
      "text/plain": [
       "<IPython.core.display.HTML object>"
      ]
     },
     "metadata": {},
     "output_type": "display_data"
    }
   ],
   "source": [
    "bounds_for_real_not_in_interval_co = (\n",
    "    Forall((a, b, x),\n",
    "           Or(Less(x, a), LessEq(b, x)),\n",
    "           domain=Real,\n",
    "           conditions=[NotInSet(x, IntervalCO(a, b))]))"
   ]
  },
  {
   "cell_type": "code",
   "execution_count": 88,
   "metadata": {},
   "outputs": [
    {
     "data": {
      "text/html": [
       "<strong id=\"bounds_for_real_not_in_interval_oc\"><a class=\"ProveItLink\" href=\"proofs/bounds_for_real_not_in_interval_oc/thm_proof.ipynb\">bounds_for_real_not_in_interval_oc</a> (conjecture without proof):<br></strong> <a class=\"ProveItLink\" href=\"../__pv_it/theorems/286855aa5f3ed98da356465c5bc37bbd856c0eca0/theorem_expr.ipynb\"><img src=\"data:image/png;base64,iVBORw0KGgoAAAANSUhEUgAAAUEAAAAXCAMAAACicA1dAAAAPFBMVEX///8AAAAAAAAAAAAAAAAA\n",
       "AAAAAAAAAAAAAAAAAAAAAAAAAAAAAAAAAAAAAAAAAAAAAAAAAAAAAAAAAAAo1xBWAAAAE3RSTlMA\n",
       "q1RmmUTNIjK7EInv3XbP4duhPeprPQAAAAlwSFlzAAAOxAAADsQBlSsOGwAABA9JREFUWMPtWduW\n",
       "nCAQlDs0wm7i//9rAGm5CBpNHibnhM1ZOuNQJWXfZJflo4c6Ga9W/+F3ZmvU8vHD0954NIT/fYY3\n",
       "uPtMjs8p+zQBqe2Np0+A/Q4DmNW9w00zF/ix/DSnBNkbcyUmNy/hMMlhat8zSP7w1hA3zhqdUJlP\n",
       "c0HOemMymOMwuVKkYYduRvcM29NYRtw0o5yWfpqC68kYh5SzMMcolzBSlewZxAbPXLvgxpnl5yA/\n",
       "TUAqe2MU6dZdlgtZ3BddhNOewbqHrl1w07y6OFb7cUFsOwO8J6BtFSzA3SDAFbFeZV1tqZToe+7E\n",
       "IElApjeu3bIjbpp5SgsG/squL1JHzj50HBjMkJn7oBHAPfELRwmAyFHmEWtgMDkwWeW/JN2B9z0D\n",
       "bCGTwaauXbtlR9w0K4K/uqHlZXGhzkpOZMN0sSBfYmJG09+Bo63BwhZZEIYcbjdUENbUYmSZaZVD\n",
       "96LpoGegSe21bEQNXLtjR9x9ju5nxWDTZBzZ2hNjwvf9Eq5bZe8VDCu+vsXuN1Oa/soqWiN6EG9T\n",
       "4mirfEvi5LvSW+3VQQXKTww76GYvH0zHjrj7TP2kjqx6GKk8f+zDz8LA3yoYV+R2jIspzZ2CS+so\n",
       "s3BbTQpMgSHd9c91dc3ASW1ROppxcmjZETfP8miWwDJv1aFzTJ6YWD1X4V/d5ycFPfCJgs0K9D03\n",
       "p7mL4rTNsAjgKuXDFrfCtiPVNJCLNmeGpB2vOho1LFANO+Lm2dLcFIJTYUPquDVYfNbHq4WYJTwc\n",
       "KLcQo1iZ5s2pur92hRdVPRzT9Aoa3xgQEgeJT9xeth2Q9CAyVyxm2rcxIs4Mm8bsOXftnh1x86xW\n",
       "guEWXOLwe8OqmpP4ApVglYLcWLNMKkm7Il8QZk7TK3g0IrtBNw08LBJ02DvqWhbqeG4LeKM3ODlg\n",
       "iMXB9F0EeOcr1+7ZERdnokti8KTOT7zsa3caJk0adI9i226o1bOs+PqRViyUzGl6BbVrDOChD6Gc\n",
       "3b06AfFWK+L3Lbk273I6YABih++NrEoPPTvidvipJzIME03MJetBGZ0mXNZ2qfOgEE3f2ShYrcB0\n",
       "qs2c5lSlne6N5yd514cud8Bs9laHuCf8NeYnwUJ/affOKYZ5tNW6WLk3zKX13ruZSSVpVpQexk1p\n",
       "zgoexwKMv1Xw5kziNTDinvBFcFNvWXSf4BSap/492dwL61NiUHi0IaSXNrh33aNVPliv+FmylJrR\n",
       "nBXcv9wYbci4agy96fa8ybw70UPcS3w6saNPxjworl48+q1+HyuEndKcFTzqPrw8ebsV6CUw4l7h\n",
       "Cxjbd9Djp1H5OlczmsHbCp4PFOPZUfK9h70CRtxLfDaxXylI6kfQVJ4amiz/x+yvV3Dxv3I24//N\n",
       "Lf8C8+QkIlTZIjsAAAAASUVORK5CYII=\n",
       "\" style=\"display:inline;vertical-align:middle;\" /></a><br>"
      ],
      "text/plain": [
       "<IPython.core.display.HTML object>"
      ]
     },
     "metadata": {},
     "output_type": "display_data"
    }
   ],
   "source": [
    "bounds_for_real_not_in_interval_oc = (\n",
    "    Forall((a, b, x),\n",
    "           Or(LessEq(x, a), Less(b, x)),\n",
    "           domain=Real,\n",
    "           conditions=[NotInSet(x, IntervalOC(a, b))]))"
   ]
  },
  {
   "cell_type": "code",
   "execution_count": 89,
   "metadata": {},
   "outputs": [
    {
     "data": {
      "text/html": [
       "<strong id=\"bounds_for_real_not_in_interval_cc\"><a class=\"ProveItLink\" href=\"proofs/bounds_for_real_not_in_interval_cc/thm_proof.ipynb\">bounds_for_real_not_in_interval_cc</a> (conjecture without proof):<br></strong> <a class=\"ProveItLink\" href=\"../__pv_it/theorems/3c73f0d17704f1bbba8111b68d086062a17974e80/theorem_expr.ipynb\"><img src=\"data:image/png;base64,iVBORw0KGgoAAAANSUhEUgAAAT8AAAAXCAMAAABK8Lh2AAAAPFBMVEX///8AAAAAAAAAAAAAAAAA\n",
       "AAAAAAAAAAAAAAAAAAAAAAAAAAAAAAAAAAAAAAAAAAAAAAAAAAAAAAAAAAAo1xBWAAAAE3RSTlMA\n",
       "q1RmmUTNIjK7EInv3XbP4duhPeprPQAAAAlwSFlzAAAOxAAADsQBlSsOGwAAA+9JREFUWMPtWYty\n",
       "pCAQdHgzyCR3/v+/HqAoIGjWpK72qo6kMta6dEs7L8g0vfPQjX00+bvf+dGH+quDWG1fG5K+TPAI\n",
       "d7Wwf874m8nHXG1flp9/hQDt7J/hJitk/li9mUOiqu3rQ+F+CfuloZZAiYe40ZrsgNq+mfsJXtvX\n",
       "Bz+E4btq1rQEC3uIm2wW07E3029u7EUcjkJnPhwwx6hWLYFc8EXYHTdavr0F9WbyMVXbsTd4gaNA\n",
       "O1w3u4dgLYHzr8LuuMnOPo7ZvVv4utoiEaBxbZiQd/UyNTjSW7S6ozpmv/MnAgUBuQ2+FrZmz7jJ\n",
       "ipQQLP7Ioi/cJNHMthsT3MLlO16hCWgSpbeg822TIudAYLeQ5IXvQuInaglwCRkMF30NW7Nn3GQ1\n",
       "5D/NMOqypDDvlABVMV1MWG/BiOR0w7PK8rBAHmSBIyS18KfSgnNqKjaRWZE710LpsSVgSeuZLmEb\n",
       "9oy72uh6TnaWDP2YNgTWhu/TFO477e71CzM+PmVXpkxyujHLykbvEVUqBNWpeGJJ0mzPZJbSoYMG\n",
       "TJwIVtDFXcI27Bl3tYwG1WM23RgV28cUfiaOdKtfnLE1YDAiudNvqp1ktNDZppCUOZibbrmsqBtw\n",
       "0loePUwXtmHPuJtVe3uEjpPTu8oxaeaESkKH37KrT/oRioF+1Qzc9IERyV38pkWGSYhXgYZLXAhf\n",
       "9hRTIU7GngmScmK5hG3ZM+5mHduaQPQ6LEjvNQgn2tQhPYGdwqvB4xFi/Gpb7ZKK56tnkNz165Oc\n",
       "9LNUWgwJA+LbrlLKKdFjUgPUxPRalup9F8gzwWJy1ryAbdgz7mb1DDnQgkPsPm95UWkSX6CSvNBP\n",
       "WGenQf2oZ+QbMCI56Vf1CCHLGxRhkmyCC8kTNqIwL7ZGQNRqe9UhiCXBtn1DA9uyt70VmCMlEJSZ\n",
       "SRzrWl2GK5sGW+PX1Quq1TxmfPxKM5JMfZJzYfalRRE6DyY46zW6RauGQM5ooHVBvq6KgnUIEFx3\n",
       "h1jCtuwZt8FPXZDlOcXELDLvlNFlwm3jpjL/SVn1mZV+xYw9jcKI5FxYvKntRWs52Gjp64OVO+AR\n",
       "7I57wp9jZpI89JNu7ZVigMdrPU9Ore3x0Wiv/cugflQzcFcHBiQd/apd+rdOIO6PF37oZEMGFyXH\n",
       "o+sElzAidevpWpB0lFKCzgcYUpFywbXLrqzwv3LGb1Po1yXp6DflrYp9eLB2e6L0EDjjXuKzwXX0\n",
       "x5j/5MUm47Qp+NxnwIiko18u9fjwZO1WnofAX3mvEvvXd9D9d8H7MpXA0HvRVNsXj4nvvesRcMa9\n",
       "xOeD60f6AfZlKoFh+j9G/5Mq3MyOzl/o31zwHwjQIwWHOqctAAAAAElFTkSuQmCC\n",
       "\" style=\"display:inline;vertical-align:middle;\" /></a><br>"
      ],
      "text/plain": [
       "<IPython.core.display.HTML object>"
      ]
     },
     "metadata": {},
     "output_type": "display_data"
    }
   ],
   "source": [
    "bounds_for_real_not_in_interval_cc = (\n",
    "    Forall((a, b, x),\n",
    "           Or(Less(x, a), Less(b, x)),\n",
    "           domain=Real,\n",
    "           conditions=[NotInSet(x, IntervalCC(a, b))]))"
   ]
  },
  {
   "cell_type": "markdown",
   "metadata": {},
   "source": [
    "***Misc Theorems About the Real number set***"
   ]
  },
  {
   "cell_type": "code",
   "execution_count": 90,
   "metadata": {},
   "outputs": [
    {
     "data": {
      "text/html": [
       "<strong id=\"not_int_if_between_successive_int\"><a class=\"ProveItLink\" href=\"proofs/not_int_if_between_successive_int/thm_proof.ipynb\">not_int_if_between_successive_int</a> (conjecture without proof):<br></strong> <a class=\"ProveItLink\" href=\"../__pv_it/theorems/7cc72631303586694e0b8fa19d097d8c3f3e59900/theorem_expr.ipynb\"><img src=\"data:image/png;base64,iVBORw0KGgoAAAANSUhEUgAAAO4AAAAZCAMAAAABp+KxAAAARVBMVEX///8AAAAAAAAAAAAAAAAA\n",
       "AAAAAAAAAAAAAAAAAAAAAAAAAAAAAAAAAAAAAAAAAAAAAAAAAAAAAAAAAAAAAAAAAAAAAAAeYafp\n",
       "AAAAFnRSTlMAq1RmmUTNIjK7EInv3Xbp8+P355HBoPSVsQAAAAlwSFlzAAAOxAAADsQBlSsOGwAA\n",
       "A2dJREFUWMPVWAeu3CAQpZo+6b7/UTMUY3A3Ub60yFqty4N5TIeQ4UFDCIp8zAAUl/0DfiKfNjj/\n",
       "KLpq6K36ULpwbYuTXf6xyc9+MiEYjwQlNHRp/ZzxAbrj8NeDucvXehUFDNVZwCQj8JWukFV8NUB3\n",
       "HP522BtrWiUhQhSWjnV6R7p1U5QZMeZx+NshbqwnNDkj7rw18co0xeq7C3XHhnx3GP52+AunRjf9\n",
       "9n3VfhJJaJJMOmFtpbuEq2ksVA3D33ru6QJyAmRTqa2urEUVla+y+hCHd4OReRT+1pbLAhaAWu1W\n",
       "Y1LJvnaebWy8ynB0pSt0eT1G9x7O3gYxOFqtWBFqDCgQEfoQyWEXxptHvLFERZefk2LRGyfwOqF7\n",
       "BydcPo++RS5xEImyOjmS47MllB+HkOZpo2/mG8eLmnF7mTRQY/BxLIydBXtWZhzDFzSx9N5QKway\n",
       "0uTeNXxeIZqSaA1XJ2f68RNrir4iySJlqfXc0GVwFGmEKM6P32im+GlVdQiv6DYfno1VUBbIobIq\n",
       "3fS3NdycbDZ5AR+WxJhyEpGtdlHYYudccNxh0ZUiefvFRRFZ4QSxCq8OHTYTH9zu6e7T2trNyBkX\n",
       "sLabP2z8Txeedm6nLXQdy7tpuYxFplekZujiMExf0F3gBBShhkysRaupn5jsbw/ost32GshqkxhL\n",
       "4pqr3eIL2X+OGag8oYWnaekqn/1LWYjCYSQgslGuBeKuWoQFHs0epdIdWpp+YrK/PaArdzVaziVs\n",
       "1lYgXdloH7d3k3QxmiQFKMNMm8WWGqF+TqEYOp9MGiztpLOt+ew6oma1OaeFFc1oP/FmHRE/8/GH\n",
       "t3T1jq5Ob6xAZTLBW1u31PzqZJPeTHFKbItM5hnkcQPodSqwNdGrPiXT8TNnHzSA2qf+skEXwevE\n",
       "5OD2iTGToE9D3e8/WEWG87pOheN+V81p3uipTUmS4pQMt/2u8sRNOa00VUfoJ7auX+eYLuwrDS4e\n",
       "dLrX3cWWroyWBy4VH2bJQ5RScGai9+29AOkAbItGLqqbWHvWrdPSVW6aHVTQNlidHlfcNGP1/dVp\n",
       "hnXRo+TgacaK3pUM7CLvdsn0ycMnzVjdpy85vBG9VqQ9rarOIIuW4KTKvanA1deeVfVB7sGSL6rs\n",
       "LzyJfHzO/LbZsv+DK2CXyv8CArobBe+D5RcAAAAASUVORK5CYII=\n",
       "\" style=\"display:inline;vertical-align:middle;\" /></a><br>"
      ],
      "text/plain": [
       "<IPython.core.display.HTML object>"
      ]
     },
     "metadata": {},
     "output_type": "display_data"
    }
   ],
   "source": [
    "not_int_if_between_successive_int = Forall(\n",
    "    n,\n",
    "    Forall(x,\n",
    "           NotInSet(x, Integer),\n",
    "           domain=IntervalOO(n, Add(n, one))),\n",
    "    domain=Integer)"
   ]
  },
  {
   "cell_type": "code",
   "execution_count": 91,
   "metadata": {},
   "outputs": [
    {
     "data": {
      "text/html": [
       "<strong id=\"unique_int_in_interval\"><a class=\"ProveItLink\" href=\"proofs/unique_int_in_interval/thm_proof.ipynb\">unique_int_in_interval</a> (conjecture without proof):<br></strong> <a class=\"ProveItLink\" href=\"../__pv_it/theorems/1309f70cae99354e03d37c4226e671819411863a0/theorem_expr.ipynb\"><img src=\"data:image/png;base64,iVBORw0KGgoAAAANSUhEUgAAAiUAAAAYBAMAAADXOJCCAAAAMFBMVEX///8AAAAAAAAAAAAAAAAA\n",
       "AAAAAAAAAAAAAAAAAAAAAAAAAAAAAAAAAAAAAAAAAAAv3aB7AAAAD3RSTlMAq1RmmUTNIjK7EInv\n",
       "3XZ/CtNrAAAACXBIWXMAAA7EAAAOxAGVKw4bAAAGS0lEQVRYw+VYf4gUVRz/7s7O7ezM7XhiCP7g\n",
       "OEjKfpibhKJ/nCuumpR2nCWUlpsJoYKNBYFZcVoE5dVt2nWtRzJHh2RXd5teZ24gy4VkhXGFpWgH\n",
       "syiZischhXJC9N77vpl5Mzu33ApySV/4zO5+v++975vP+77v++4D+G+IwRFsqViiHJWNZ9ysu1si\n",
       "eh0i2FK5yBaisvGe4aihP+4cb07u4wi2VCYHTpDHOY6KxtMTiCX0x/PjTImaRgRbKpUNBFUmorLx\n",
       "NiF20J2XGWdOIglEsGWs+8VuepVASiIqG+8hBCVTqxtnTqo5XLk4OJiGEm1ZCfP8IY/Q5w8cXPYK\n",
       "nsrMw2SQCHFV451O7uJwZPUlwVIhJ9oAfT7HweXtMY1XlUCcGBz8cbw5eQShnk9ABztKN4mW7uKn\n",
       "3/giOTrtAmfANdqcVNUWieJLQHCRcs54jhcxzQxN3XWQ0FmDeNgNLEG04Mnnbg0nfFG1cAEWstcy\n",
       "REtSr40MeDusNWIj+M012pz0bFKvAcwFBEQGmfzljOd4WcEMP7NGULRWEObSiK0QrQnIRcGTT1aQ\n",
       "Nyvg5BfETvJ2UxgnokUypJGQNzWq3wInQjDanMw24SeA+wHh7Kz19niOF0HmwUJzEmlUQMRMrUGw\n",
       "zupbtMV9o7f4iRQ+u2GyFcTJ9PblvR5F6PvedtYq5t3sbaCyZVM2ouIeAz5xzsVjCLPaoq8D0EwX\n",
       "MMMtCkSw4X62rqfp7IYhjiFrG0k0/E6yAF3dpQA3AFoA4cj+Y+DzIkgT7UVGG0aELWdVlGK2Qdfg\n",
       "cM7hJEQ9vzelFayctt3PCdWfgvwlEPvHDa3bLOEkvI80v8K+TkNKLFCGBnycwDpTuc7KLhAtUO2v\n",
       "SKsz0GMvpGO04+QsyOQ0XgsIJwNtNsDnxSOMJbmAgHS9rU81kTpOhwWWllqRYsVcNdFESMYBy5K6\n",
       "oTd1MuXGFNMnlLvdsKb9Jdj5Evg5kfawEGTfj9PHfNopPODbO2SxdDojiHt2FawzVG/51WNhRvAY\n",
       "bU6uQmQEnc0S8slvhjOe7UXIJyBfg89wRmxWB2mS76o/zMpaysmlpBMnLUNTsUS2LL3TjRP9/OvL\n",
       "eOkcYS3lIoSwP2mTFDhRD102QN8NDifKP0UTLrKTwuVkH8f7EGO5TbcEy4GG6f6U31MHk8OGCh6j\n",
       "zcl1+JxMZD4g7IIu43qyvQj5qTVUoOeHlEHAq6SBekq5hhGra9F9CYeTK+Z5lY1m5badczm5EMqs\n",
       "Rz3Mm8lOxAlmM4946cUmgZMvjBZD6QeXE/2Mnmzmh6fDiX1wLoJ1yOt6wTL7nUeh0fsOMSt8MgI9\n",
       "aY/R5mQSfOAe77a8LHhyvLhb+3pnQSaTiuQQEKL7I6kUYBWbc6Q94+bYPTAXS2Zr+RHh3EnErCbU\n",
       "qxbLda/MgovYH7r5siEnKWgmySPvchJLSOlwu+nl5F2OjqOPYYh3tJqOpXMovNhXnqi1X2/9E+Jn\n",
       "PEabk45eOrNfObh8JHhyvLjjrbRmzKF7tgGBiapBr4G52Wy2Tte1Rrc+OQ6LpI3Z7G6yd76qE+qT\n",
       "CQagXtNMtp2nQS32h1ye7kybk2NQJM8n8w4n1U2RGpAZKS4n8SYEQB/XrPkYa3vUjiL3BtaxmFIH\n",
       "EP5bE68Xv7zGgRvUiC0wd7E40eU1bkIbhn4lh/nkibzQuRkM1De+AZrJluQ4sP7yzATkHU5I9bSH\n",
       "MrRjmc3JBKgm5Cp3GCIn/B+bllb7fbOUylVEueD/gOX+VQZ7sWUxB8aJ0bLKjJksn0Cez0PNwRmS\n",
       "cfZiPtE67UDLRQt9ZBcxfS4JT0MXwGl5GFh/LQLygBsn3yl/L6CfW6cyTrogbrLMF51oCpxAG0Pc\n",
       "CpUUym1lbhis0W3bOKB0vCAvPLgy4h2BvPiBQxClm271H7nOpbzc6Ic3h8jQJNzkLZvVVNpRr1wz\n",
       "ZDK9NLH2yLNAcuaM+Wns/+DEyx/WuJw8Pudyggfv9heOkpbKSovfDkb7bjgvdYAhXL+k9IaozBVQ\n",
       "mRBqG43OYC88BRoIUbqy2QbPDsXlOJJthVK1qK9TjVjC1z8W6HaUW4mohQi23MRdpoGobLwLHOXk\n",
       "qTGqZTNkrS4hPfDex4TbXBJjVEsg1+dG50Qh51G2jbdklxlUYcD/T6K37cz/Ba4Y73LeRD0SAAAA\n",
       "AElFTkSuQmCC\n",
       "\" style=\"display:inline;vertical-align:middle;\" /></a><br>"
      ],
      "text/plain": [
       "<IPython.core.display.HTML object>"
      ]
     },
     "metadata": {},
     "output_type": "display_data"
    }
   ],
   "source": [
    "unique_int_in_interval = Forall((a, b, x, y),\n",
    "       Implies(InSet(y, IntervalOO(subtract(x, a), Add(x, b) )),\n",
    "               Equals(y, x)),\n",
    "       domains=[RealPos, RealPos, Integer, Integer],\n",
    "       conditions=[LessEq(a, one), LessEq(b, one)])"
   ]
  },
  {
   "cell_type": "code",
   "execution_count": 92,
   "metadata": {},
   "outputs": [
    {
     "data": {
      "text/html": [
       "<strong id=\"not_int_if_not_int_in_interval\"><a class=\"ProveItLink\" href=\"proofs/not_int_if_not_int_in_interval/thm_proof.ipynb\">not_int_if_not_int_in_interval</a> (conjecture without proof):<br></strong> <a class=\"ProveItLink\" href=\"../__pv_it/theorems/ce77492cb7efbcfe613e8088f6ba35f6e7dcd92a0/theorem_expr.ipynb\"><img src=\"data:image/png;base64,iVBORw0KGgoAAAANSUhEUgAAATYAAAAZCAMAAACM7/LMAAAASFBMVEX///8AAAAAAAAAAAAAAAAA\n",
       "AAAAAAAAAAAAAAAAAAAAAAAAAAAAAAAAAAAAAAAAAAAAAAAAAAAAAAAAAAAAAAAAAAAAAAAAAACC\n",
       "gUnDAAAAF3RSTlMAq1RmmUTNIjK7EInv3Xbt5cnp8+P3nRjLMsUAAAAJcEhZcwAADsQAAA7EAZUr\n",
       "DhsAAAPvSURBVFjD5VmJbuQgDOUMt/fs5v//dIEkxJBA0nTV0aooHVUZG9sPX3gIebxoCEGRL7cg\n",
       "ms0+wD+Rr7o4/5KwqUffqi8OG4xjbLLbf2zys59MCMZHoCQg2GghZ/z9sD3nft1ibvi13m0CQ/Vi\n",
       "aHYR4DtsQhYY1Pthe879smUvomQ3iQixouVY5YcRtgKuMg+C9Dn3y5a4CIuAeoXkCtakZ4FL7Llt\n",
       "g9CxB7A9537Z8qOsZ8LPX6G4Y7ZNaJJDNfPaAttWFt6d4SdcVP6b+sD6msoJ7A7Rnuq0KCbzvZL6\n",
       "kJZ3zyrpU+6XxeiqqQWgVjsUJSpFziHzGZuedTm6wyb0+vUj2K652b8pFtCYP0z7A6154QcKROyp\n",
       "LBc1Doeyi17xaYdN0e2jc4nyxon4nMN2xU24HNnHr6N7o6kVGJUgNxC5Xox4xIjPMSb5ea5GL5GG\n",
       "zKN2N7nKiSQN1Jj4Ol08nQXbaXfPuTdmYumoRwII3WhqaaS7CdvoEIlfVE0xIqoj0ynd/H6LH6bq\n",
       "jBfbFuv1jGBjcJbShViTY6TRTPHeLeGUuzDjNug0gruwmQNN5QkD2Ki6hi3/WwVk7jKahiC+Wzur\n",
       "ZU+JvS1avcYvFzwerqha4uXkRf9yVbhJZFXxqZhDu3EXtobmCFtlE4atyMVe2RG5Ty/kHDmsrTRt\n",
       "DjGW1QUvO2NNVtgcWw7ScpkuX16R0uGtiYDpPmwbNwFFqCETw8xqajbuwtbSHGFj4hy2IleYtL7F\n",
       "P94VaWBxIxlzdlIeg09kjXLsPNY3dMXLYNiUX7KBspCsjJmSSORsFogbXOU37hTNUSldMUvTbNyF\n",
       "raU5wibNOWxFLkFh0hO59BBs1lZE2CR24Ik1TVtM29kjlGEGdy9bs1rIY0leAphP+eQMyyfibOXO\n",
       "TYeLhM2K1MyMNhtrsy3V5rZCk73Gm+w1iEabbm6bVZWi6u1qD8qbWRF9iwlepTJL3yQ2UnozJS38\n",
       "HHuJJY7l+eDI63yB1UTv/iWZTmTOXg+OtM9jKcS8mVo2HpSEmuZ+kBa5Ce7vPza4OyKD7vdKf5yJ\n",
       "lbTbE6lwPm9Tc943ZTLUGud6IMPVvE154qalcTC2KQlo4zPYrDvSHGEDOIUNycVjn55ILm5M2sZT\n",
       "gBY2mYSCy02w2foPSik4M9HLMaUA6QAsZo7mqWbjCmk3zQ6St7ADjWlotq2O3rbLxQfWEdlsU2lz\n",
       "McUp34+mu9Ylb5fPprs7s7x3W2WDvu2Qtfp9G4MbA7ceOldTnIL3ZwzFxZ0rqbTdW0JnI/NcJ9XB\n",
       "ll5ciov8T/ktwd0YEtzQo7nbnsLG5KdMUT4G293fSe0/0bXZ5WUzeAjB878ZxSDLQlSh6AAAAABJ\n",
       "RU5ErkJggg==\n",
       "\" style=\"display:inline;vertical-align:middle;\" /></a><br>"
      ],
      "text/plain": [
       "<IPython.core.display.HTML object>"
      ]
     },
     "metadata": {},
     "output_type": "display_data"
    }
   ],
   "source": [
    "not_int_if_not_int_in_interval = Forall(\n",
    "    n,\n",
    "    Forall(x,\n",
    "           NotInSet(x, Integer),\n",
    "           domain=IntervalOO(subtract(n, one), Add(n, one)),\n",
    "           condition=NotEquals(x, n)),\n",
    "    domain=Integer)"
   ]
  },
  {
   "cell_type": "code",
   "execution_count": 93,
   "metadata": {},
   "outputs": [
    {
     "data": {
      "text/html": [
       "<strong id=\"not_int_if_not_int_in_interval_gen\"><a class=\"ProveItLink\" href=\"proofs/not_int_if_not_int_in_interval_gen/thm_proof.ipynb\">not_int_if_not_int_in_interval_gen</a> (conjecture without proof):<br></strong> <a class=\"ProveItLink\" href=\"../__pv_it/theorems/a78f835dc8278ea7d80d02960de9d06b89efc4860/theorem_expr.ipynb\"><img src=\"data:image/png;base64,iVBORw0KGgoAAAANSUhEUgAAAWoAAAAZCAMAAAAvx5QKAAAAS1BMVEX///8AAAAAAAAAAAAAAAAA\n",
       "AAAAAAAAAAAAAAAAAAAAAAAAAAAAAAAAAAAAAAAAAAAAAAAAAAAAAAAAAAAAAAAAAAAAAAAAAAAA\n",
       "AADXrLZzAAAAGHRSTlMAq1RmmUTNIjK7EInv3XbP4duh6fPj951y2Qx9AAAACXBIWXMAAA7EAAAO\n",
       "xAGVKw4bAAAEiklEQVRo3u1aia6jOBD0fdMzs8cs//+la+MbbOBtiBStnhVFEcbVdtGubjdB6ImG\n",
       "l2WR6LvNGnh+yDNQ4pvNq0bpN9U3m/xPvfKb6q9LwPn+Fyb/IsKtTuhl0c6Ty6GhGpfbCX2J6keA\n",
       "PrURe9qt6uJBYxUZ2fwPaKWa8cKXfInqR4A+tJmLbVvXjhhLDFvS+bunujwQqV8TkEeAPrSxi326\n",
       "NMlY8DOjwydSzKpWZ9oteY3qR4A+tLkzFdfLn38txe03EphCm4xsY02hOofGV0KbaGPs/y9GkvmS\n",
       "uABTaa3SrVjhhtYMxC2hOftyBvIA0IfqR1qSAcBG2WbbyrCVD0quTfikZnGlmqnU/SrV10BkFjBh\n",
       "t7aTo0D0IGrfkuYoywbTT44ZpgUYEKvSvGUAFA7pSnOJikq1xPlrb1fsAxx22jL/GVM9BSpW+dRG\n",
       "D3kSWGOXcqcJAz0TseOy2iF2MP90qKaeV7p6vaDjINVcbOwT1xxhgh9aPiptZC1QgLX2d4RChzVg\n",
       "JkeYMVAejAye2+D2BtUe6cdPPlVPVm6D5bRiYwfIecgI2cU1hf3Eum4VNPPv3/5Ld6edSEKkSa0N\n",
       "1QQmscypnCumH/52RSSdnRaHQGVwm30ebXSuMaY6IGEzD1R1FDml2qmRtl1Tvf3sxGLL6HYZl7+W\n",
       "0t0t70O89WpPT9YWYynYLKhqDWGgOfFE12Hzg3kFAmDSf7rBy4mNfsIt1R1S3hiZkA7rJtXF5G2q\n",
       "a1WOr96YMd2SdrZ8OhI5NmsLnKi2JPmU8Qqh1jx1WAwCVpLxpFdEzakuQCAR1kiQdrAUcxt+RmxM\n",
       "dY8EvIs1PdZNqovJIdV8MFRDdFfug1VYZesHiPdQPstLV3DiWLdUS4frqbJGHE23NfHGqQ0ge1Ju\n",
       "KkB0m59/KM1gruc2Su+B6h5J58imRlj3qC4mh1QjcQxFMVSSVRnmjfF2/wmyS6p9vNrcTWqi20wx\n",
       "nzry7UGUALeaxrCflt4a2R6oNd0O2p1aGrvR2ZrBBM9teMb0VKsr0o9fG5LCSQAKFgs2XPiil1Qn\n",
       "k0rnJrshRMBBcrY+w7wPE0Y7aTb4N2/Z4E6LMA+3+mQtagwfFVFNWJSmmcmgNY74XLMCERVGWHNd\n",
       "RA3OJlE7OJI5tjEXkA6pSGx8Vjusm15dTA69Wo7SyEXNE9h/rPYZyDS7lAsaUY1ckD5OjQ83wYCJ\n",
       "QtOcfLaYeJSzvSE/Xyti9qXNLiyObQTVG1HdIdVsMQWvgnVG9WbH1EdeTN4Oi6VmdFqpPq9U7anm\n",
       "fntAOIep8NgVi+uXOud6GGOwWuArqhEDbgFMO9hTIec2UufRq1ukP9SO6oLVjZJWrBaaXSHTVw5c\n",
       "cJCIOmRc79DT1ywXZczSf/IWhnR+ESSNXx3MJ0e3MpjbuY0uzZnk1eZnmcZFXv14acnMsK/KmOUZ\n",
       "zanmXyqJ3CzmMTm10XeNF9a83RmlZGeVk5ereBImJ89zNCjLmlP9tWLO3bppH0/ptDoypro9dwh4\n",
       "TxFPiTdV2x97jXv3fyDm3nV5fZN6CyVSvYVnWBZH/wU5EialXn4IxQAAAABJRU5ErkJggg==\n",
       "\" style=\"display:inline;vertical-align:middle;\" /></a><br>"
      ],
      "text/plain": [
       "<IPython.core.display.HTML object>"
      ]
     },
     "metadata": {},
     "output_type": "display_data"
    }
   ],
   "source": [
    "not_int_if_not_int_in_interval_gen = Forall(\n",
    "    (a, b),\n",
    "    Forall(x,\n",
    "           NotInSet(x, Integer),\n",
    "           domain=IntervalOO(a, b),\n",
    "           condition=NotInSet(x, Interval(Add(a, one), subtract(b, one)))),\n",
    "    domain=Integer)"
   ]
  },
  {
   "cell_type": "code",
   "execution_count": 94,
   "metadata": {},
   "outputs": [
    {
     "data": {
      "text/html": [
       "<strong id=\"unique_int_in_radius_one_open_interval\"><a class=\"ProveItLink\" href=\"proofs/unique_int_in_radius_one_open_interval/thm_proof.ipynb\">unique_int_in_radius_one_open_interval</a> (conjecture without proof):<br></strong> <a class=\"ProveItLink\" href=\"../__pv_it/theorems/8d1d7d03112ebbe238ddaeb1f079f2a5bb8e00ff0/theorem_expr.ipynb\"><img src=\"data:image/png;base64,iVBORw0KGgoAAAANSUhEUgAAAdgAAAAYBAMAAACraPGqAAAAMFBMVEX///8AAAAAAAAAAAAAAAAA\n",
       "AAAAAAAAAAAAAAAAAAAAAAAAAAAAAAAAAAAAAAAAAAAv3aB7AAAAD3RSTlMAq1RmmUTNIjK7EInv\n",
       "3XZ/CtNrAAAACXBIWXMAAA7EAAAOxAGVKw4bAAAFp0lEQVRYw92YfWgcVRDAJ7d7ub29yyatEmsj\n",
       "ZUHB7/YsJZL8kZ4kTSs19WiroBZzUkRaRDfqP2LURETQBpO22nhJCQsGaRrMXVOvlWhKUIrGzwgW\n",
       "SyGy8aPVxoQgaKSK+Oa93du3e7t3Sbl/7MDsvtudm53f+5h5uwCllrmzBW+HOF2+aL4+3SLfZ928\n",
       "0bQoEthlSbbw7R84Xb487PwZePyfPdOHY0Ej3/L8g1arsw+AWmShCn9fX1LYQi4DGVuXJ/LhKQAl\n",
       "5rim7O+AZDnAj/nPuWS39wOzyMIm/PlYSWELuXyH02VKeZwc9tKmUP1GAs9inOCPklu62zgyZbfH\n",
       "gVlkoRNndE9JYQu5bOR0ibLDPFeq5LABW9L32pFm5CvTYEgmTxLixWDRIkuRI2pJYQu5nOB0ibLW\n",
       "PLciXhQPr5BDCMdYBthS1kEanxWDRYssCGQVlJc2QRVwGUjaulxYGnM5LtpV2GqgF6Wql/G0uyjs\n",
       "bpo6v5ye/rzE2djfpZixVZ5fvW/UVUNqLpiJdWTmyAeqE/aR+ZUEArMfBaGQENb78HTME9Z0Mm5a\n",
       "kMi2APT5BR65PFh/lzgwloowY7Q4b+/SwmYWjStrxCkHrPynntZASFqwbfTqrQLtnVo8tEyjfMN6\n",
       "NWk7+c20yOKfQlV+gYuu8xJhXS7LJt/rNzNIhWrrnbBRv8pZXT4Gk1DQhEtlMQcsKSZRAwITTtgk\n",
       "Wy+3uaNoj9lOXlSZRRYnQiRhmUh7zMbtJ+56goMMOxdeL8i1vPnNGryd5GA5l9JMKlGhRUbM2hBN\n",
       "2NoBzawa0QHB7Y24ABWs/kpsaOhofcFGi1yozIC04IBVVPI44rvbxdr2KOdErlapBTENGFwyqTHj\n",
       "UyJwMuMDGxgAeH0uZ05YDZDmpzhYzmUTyZUCvPQ05MMCfOUKMdoDaauXooYrQZFuaFUh6BzZISxx\n",
       "15D57/Ik3a3bTiJIvovt7ZINttGnZnyKAvVGpKmlaVMerHCQDn3OHOpwugV4WOZyfvNPmrnjiVt1\n",
       "kJ/GEFyEo44Q0wZstNqtmqw7YEmZvVdnz7FhV5FKKy+Y4fBrNlxlO1mns4AxslGsWMMNJ7FD/p3R\n",
       "aXwE9mLcPbLy8VkNlAOQg0Vz+JUmTScsulS0a8vVIdY/T3VYjoycym+WTYBz05hWoTqgyThiiety\n",
       "2dGC7SBLGoQeHlaK7yQpgfys88rGlpMP6ZCwyNpJJ8jfSYvIeE6J0/iUSGgg5oZ9V+vWpI/AhkXz\n",
       "LlYgnLDoUoABydz9jOSyOlYOUwN/DU4EnVuPsBH4VoQ0WWjrXrsHtjthy2LhOKtZNmxY3wuhA4R/\n",
       "qxes5YSWnq0sMtyCiHEJF0M4JiRpfIrY35OXoJqgiyzQMRsWzQP9ej4s3dUA6b7aVCqlQmbMmq/S\n",
       "VE7lbcYN6117/TXvt/0CFecABucDjaoTVq7BLWYFrmm6FR3EhXhoMvX1JOE/4wVrOaGwZ+z3sWhC\n",
       "wUke7RCraHyKEtnO1VkGexpmyPGBsRwsmkOQ0jphGdhECPZhI3hTDMbMi2c59ZNbvHdQVJ73fqGd\n",
       "KraDQgsrsrQWricxV0JUpfEpSvAh7k2CwsqLcBAHqHOzBYvmBOpqzQu2PZIUyTzDB4sQtG5v4NRP\n",
       "Mt4vArkXCY/9QKwYLFrkRlbr3qEPQ4Vex+IjpWcs7oKFT6Q/6ulqWU1hmTn22grdA1b8+dRFCL1F\n",
       "WnesmD1kbTLCmq1+L65Gge8c3i9Tz+ZdUbg3jWbTwoos2Lj2OHSp0jaDxXf/+cxgsxt25/rZmPlx\n",
       "5LknT5nm7LNI6MTfhueXiuFUKuEg6bHVR5QCg+7TR735vfI7vy9jFs7IVM/48nZQTnO3jBf+1PMC\n",
       "p8uXC97d49EFz6y0sI+pzGLuNH8/qPt2qNdFf/P/gwhQHFYiuTrVy5m/ihc0uIIkdGVg/AcuWa8r\n",
       "U5tKWQAAAABJRU5ErkJggg==\n",
       "\" style=\"display:inline;vertical-align:middle;\" /></a><br>"
      ],
      "text/plain": [
       "<IPython.core.display.HTML object>"
      ]
     },
     "metadata": {},
     "output_type": "display_data"
    }
   ],
   "source": [
    "from proveit.logic import Intersect, Set\n",
    "from proveit.numbers import IntervalOO\n",
    "unique_int_in_radius_one_open_interval = (\n",
    "    Forall((a,b),\n",
    "       Forall(x,\n",
    "              Equals(Intersect(IntervalOO(subtract(x, a), Add(x, b)), Integer), Set(x)),\n",
    "              domain=Integer),\n",
    "       domain=RealPos,\n",
    "       conditions=[LessEq(a, one), LessEq(b, one)])\n",
    ")"
   ]
  },
  {
   "cell_type": "code",
   "execution_count": 95,
   "metadata": {},
   "outputs": [
    {
     "data": {
      "text/html": [
       "<strong id=\"e_is_real_pos\"><a class=\"ProveItLink\" href=\"proofs/e_is_real_pos/thm_proof.ipynb\">e_is_real_pos</a> (conjecture without proof):<br></strong> <a class=\"ProveItLink\" href=\"../__pv_it/theorems/6818ab25f1ee24756174470ed42f7632064562340/theorem_expr.ipynb\"><img src=\"data:image/png;base64,iVBORw0KGgoAAAANSUhEUgAAAD4AAAATBAMAAAA63aOfAAAAMFBMVEX///8AAAAAAAAAAAAAAAAA\n",
       "AAAAAAAAAAAAAAAAAAAAAAAAAAAAAAAAAAAAAAAAAAAv3aB7AAAAD3RSTlMAEKvv3ZlUZiK7Mol2\n",
       "RM0NpfRjAAAACXBIWXMAAA7EAAAOxAGVKw4bAAAA20lEQVQoz2NgwAMCGPCDCeTIsz+e+c95Oh79\n",
       "nBwKvOoT8clvYJiwiIF15kzLmdNxyEfwYeo/6eLyAC7PCZcXMoF4895BJP2KQjB5RpN0IxCb4yGS\n",
       "+VzTXsDkmRwY+gWANF8DQt7O30cAFn78BQycBSB5JPdtL3wA563/////BiC92AUIJkDNn1iOkM/o\n",
       "6AAZJonsv6WcAjAe/wEIzYIsz7oC7nVWQwYGkNN4DiDJM044DuMxOtceAUs9Q8gHMJRzXoAb4P8G\n",
       "TAvNFYDF388GznnfMML99hSXBxiCAAmRP9puw21eAAAAAElFTkSuQmCC\n",
       "\" style=\"display:inline;vertical-align:middle;\" /></a><br>"
      ],
      "text/plain": [
       "<IPython.core.display.HTML object>"
      ]
     },
     "metadata": {},
     "output_type": "display_data"
    }
   ],
   "source": [
    "e_is_real_pos = InSet(e, RealPos)"
   ]
  },
  {
   "cell_type": "code",
   "execution_count": 96,
   "metadata": {},
   "outputs": [
    {
     "data": {
      "text/html": [
       "<strong id=\"pi_is_real_pos\"><a class=\"ProveItLink\" href=\"proofs/pi_is_real_pos/thm_proof.ipynb\">pi_is_real_pos</a> (conjecture without proof):<br></strong> <a class=\"ProveItLink\" href=\"../__pv_it/theorems/35affc1d52f971ec0094fa49c0d08d9fac061c030/theorem_expr.ipynb\"><img src=\"data:image/png;base64,iVBORw0KGgoAAAANSUhEUgAAAEEAAAATBAMAAAA9n32KAAAAMFBMVEX///8AAAAAAAAAAAAAAAAA\n",
       "AAAAAAAAAAAAAAAAAAAAAAAAAAAAAAAAAAAAAAAAAAAv3aB7AAAAD3RSTlMAie+ZRFQyZnYiu6sQ\n",
       "3c1H9AzSAAAACXBIWXMAAA7EAAAOxAGVKw4bAAAA3klEQVQoz2NgwAeYGQgBLrJV1Gmtf6tVgNeM\n",
       "BbMZvKsO4FUxkYGLbQOD1apFq1YV4FLBPOEBNjO67t59AFexAIsKvx6EGdxnNsBVCP3///8ziMH5\n",
       "BsmWrLgJMBWMIoHpbQkgFt8EuIpJb//2wMM0laGTA6yAgQ/JpeXnUFzOfQBMJ90FggUQFVzHkXzJ\n",
       "toEXwjiFZAabwRqk+CvghzB4kcPDbBZCxfkD/A5gBkcDkopTHAhrehn4BSCsp3AVkxnYC5bAVSxl\n",
       "4IaqOL3kACxuVzKseh+AJT4c10JCHQUAAEX0SP+KhzjKAAAAAElFTkSuQmCC\n",
       "\" style=\"display:inline;vertical-align:middle;\" /></a><br>"
      ],
      "text/plain": [
       "<IPython.core.display.HTML object>"
      ]
     },
     "metadata": {},
     "output_type": "display_data"
    }
   ],
   "source": [
    "pi_is_real_pos = InSet(pi, RealPos)"
   ]
  },
  {
   "cell_type": "markdown",
   "metadata": {},
   "source": [
    "**A set of membership_is_bool (and nonmembership_is_bool) theorems, which are accessed by the respective NumberSets to implement their ``deduce_membership_in_bool()`` methods, covering the ``Real``, ``RealPos``, ``RealNeg``, ``RealNonNeg``, ``RealNonPos``, and ``RealNonZero`` NumberSet classes (defined in proveit.numbers.number_sets.real_numbers/reals.py), as well as the various ``IntervalXX`` intervals:**"
   ]
  },
  {
   "cell_type": "code",
   "execution_count": 97,
   "metadata": {},
   "outputs": [
    {
     "data": {
      "text/html": [
       "<strong id=\"real_membership_is_bool\"><a class=\"ProveItLink\" href=\"proofs/real_membership_is_bool/thm_proof.ipynb\">real_membership_is_bool</a> (conjecture without proof):<br></strong> <a class=\"ProveItLink\" href=\"../__pv_it/theorems/a5e357bcb4c1c6bb541bc00c88c5f70a502fd3470/theorem_expr.ipynb\"><img src=\"data:image/png;base64,iVBORw0KGgoAAAANSUhEUgAAAJoAAAAVBAMAAABMN+opAAAAMFBMVEX///8AAAAAAAAAAAAAAAAA\n",
       "AAAAAAAAAAAAAAAAAAAAAAAAAAAAAAAAAAAAAAAAAAAv3aB7AAAAD3RSTlMAq1RmmUTNIjK7EInv\n",
       "3XZ/CtNrAAAACXBIWXMAAA7EAAAOxAGVKw4bAAACQUlEQVQ4y2NgwAQFUIwDsJMkzqcAweiAOWfm\n",
       "tzuTGRhYH6BJvD2Zn3MxACwuAOIrI0tqQzEG4GQXYBWexcDwGF1iQhx7lihY3BXETUeS4kqAYGym\n",
       "bWCY0MjAwLYA3bRghu2cYPFGkI8nIEmxGEAwdtPc2YBedsA0zYgRLA6yiBs5lHigGCkg5969BjcN\n",
       "6AaGU6jiYNPYwOLMQGewIetVg2I4YM1bgHCb1EIgIxlVHGSauDVE/Ozdu6eRNXtD8bqHK3aD3Vy2\n",
       "AOFTjkmgIN7IgCIOjIV1FzdAxD0YGGYhm5YMxQ58ciwXUKKIk/3Y/XsgI8wYUKNuQmzOXy+IeCED\n",
       "uwCyaZcgmLmA+RcjODISEKZttgJzdBhQxEE+fRy2ACzOuYA7ANm0oxDMwcACUc4BDIq7N6E+nWUM\n",
       "YvSjioNM42TdABZneoASCTDTgBELSfNcE5BSSAsnyKcxqOJg0xgmQMQT7IDEO/cnBSg+ZWCIL+AC\n",
       "h/MFJNNY2kFm6DKgiENMS4CIb8oCJp0CSTZoopsHwSsDZBi4wQLvkEzjmgDKVpao4mDTmB5AxGuA\n",
       "kcDMMI8DKrURgvW7fBiCwAIwa4CmOTAYcwZAEhCSOMOEaIZ9W6AJi7EBJPIdJtULwUveMTlDlHNJ\n",
       "RsHKkJ8FnNM+MTBcRRFneHZyPqgMgYmDYugArHjibYBgpMywE5qDYAXZBfziDDXcCSywYswBS75G\n",
       "AdjLBCRxlqf7XsEEp0MxTlBJivhKKMYJppMizv4AgnEBvgKc4gCBr6TmXvFFvAAAAABJRU5ErkJg\n",
       "gg==\n",
       "\" style=\"display:inline;vertical-align:middle;\" /></a><br>"
      ],
      "text/plain": [
       "<IPython.core.display.HTML object>"
      ]
     },
     "metadata": {},
     "output_type": "display_data"
    }
   ],
   "source": [
    "real_membership_is_bool = Forall(x, in_bool(InSet(x, Real)))"
   ]
  },
  {
   "cell_type": "code",
   "execution_count": 98,
   "metadata": {},
   "outputs": [
    {
     "data": {
      "text/html": [
       "<strong id=\"real_pos_membership_is_bool\"><a class=\"ProveItLink\" href=\"proofs/real_pos_membership_is_bool/thm_proof.ipynb\">real_pos_membership_is_bool</a> (conjecture without proof):<br></strong> <a class=\"ProveItLink\" href=\"../__pv_it/theorems/dd5365477a3f15a62a4f85915bbd304de94eb7000/theorem_expr.ipynb\"><img src=\"data:image/png;base64,iVBORw0KGgoAAAANSUhEUgAAAK0AAAAZBAMAAACx2rMTAAAAMFBMVEX///8AAAAAAAAAAAAAAAAA\n",
       "AAAAAAAAAAAAAAAAAAAAAAAAAAAAAAAAAAAAAAAAAAAv3aB7AAAAD3RSTlMAq1RmmUTNIjK7EInv\n",
       "3XZ/CtNrAAAACXBIWXMAAA7EAAAOxAGVKw4bAAACqklEQVRIx51WTWgTURCeJJvdbELCQhGxp4K9\n",
       "eantQVCx8aDViiIIvRRrsIdCCRiPQqEtCB5a6EOpkIC6BS96sKEK3kouCkEUexLE1S1VQdEehJpY\n",
       "EDr782bf/pnWgf1eOx987+0382YDEI7URQ7xUXSfqJBi8r0E8cHwuRHDKSwynS1x6KCbMmPIE5FZ\n",
       "tY9DyKBy9feHO6QL7wP8z+a18hr6l9cBNCtxUGSnCMJbKlq6q0a666G3GFMm9wEUUPSU9f+ESJ4j\n",
       "iNCtA5sFqVptVvHcy3pQ9xI8V9HEbYDZkNFbBJG6QzKdV+4L6/YncB1HDvfM9QhcZpuDF98Mo0S6\n",
       "KulKLMBbuta2Z7EWuKcsahTecqAY+S6ct3uJdAuNAI+6+4/h+gOf14bxShRJlFzIbnbPrdj9OCn4\n",
       "kLk9Qbpp5608no09WavjegVNOANQ83nIXJBg3Txv21jxdF9++qjz+waZNvh5drn8dxjXhRmA66Bo\n",
       "oq6suXAEBvUuOyPU7elR4cIoTnVlsW4bI7jvNDaxqud8oyBfdGEGTjuZeQODuT7UBoSbuRXgUVdN\n",
       "oxHLqJg0fWXzzgvwxsk8Evvspuo1rdIO8JauZf00+gAl6zpvDn2uBHXTLXhsv4GoK93ymj3TAj9v\n",
       "66JRC5bWCpazUDkgu02cYA5kFxMNqNvtZAq6WbZBMm4/eLylmzSdfoApPFsK7md4/zYcSLYfNtLO\n",
       "Xlc93SIMqFSOlNu/xLNRWH2G63H7gJYZ0PIdAiF7weztd1JLizqfZ38q6t1fNMA1P/+1+cCeZ3DS\n",
       "s6qh8D9fEFCM3jOi5jHNhyA/TrMxV5J2Mc8CEZpnvP9oukhfVvkdh3mCTnE4Jp/SorKJHg6d4l1M\n",
       "Pl/57+8b7P37BocI/h17/B7v6veDFcNxvx+wnDtQqb+dnnHPZgAAAABJRU5ErkJggg==\n",
       "\" style=\"display:inline;vertical-align:middle;\" /></a><br>"
      ],
      "text/plain": [
       "<IPython.core.display.HTML object>"
      ]
     },
     "metadata": {},
     "output_type": "display_data"
    }
   ],
   "source": [
    "real_pos_membership_is_bool = Forall(x, in_bool(InSet(x, RealPos)))"
   ]
  },
  {
   "cell_type": "code",
   "execution_count": 99,
   "metadata": {},
   "outputs": [
    {
     "data": {
      "text/html": [
       "<strong id=\"real_neg_membership_is_bool\"><a class=\"ProveItLink\" href=\"proofs/real_neg_membership_is_bool/thm_proof.ipynb\">real_neg_membership_is_bool</a> (conjecture without proof):<br></strong> <a class=\"ProveItLink\" href=\"../__pv_it/theorems/1448897eb78781725fc6ac2182cc3a907eaae8da0/theorem_expr.ipynb\"><img src=\"data:image/png;base64,iVBORw0KGgoAAAANSUhEUgAAAK0AAAAZBAMAAACx2rMTAAAAMFBMVEX///8AAAAAAAAAAAAAAAAA\n",
       "AAAAAAAAAAAAAAAAAAAAAAAAAAAAAAAAAAAAAAAAAAAv3aB7AAAAD3RSTlMAq1RmmUTNIjK7EInv\n",
       "3XZ/CtNrAAAACXBIWXMAAA7EAAAOxAGVKw4bAAAClklEQVRIx71WTWgTURCeTTb7FxIWRERPBYsX\n",
       "L7GCIorGg1orihLopViDPQilpVvwIgZaj8VC9xKkgnZFEdqDLUXwVnLxEESxJ0FY2OIPWLS3klAo\n",
       "OPv3dvJ2t+lBHMj3svNtvjeZmTe7AHHL3gxhbyun+MUUfy+Dve1Bil82E91aNYQulnVSiPOJXrUU\n",
       "Am+nmgvjTUJ85fg/zYmxdcxfwQLQXcdRytYYxMychFtnLHa5EeOH5dGDAEUUveRe36PkNQZx3Yeg\n",
       "KjrMzKMZAMsWz1fgnYpJ3AF4FEv0NoMkXdGIMi+V4rp9Aq4jyOGe+R7CKTshRPbLtqtMNwpCNHke\n",
       "dSVcr2JRcU+JahQ/h8BscDOKV1jSo1sbPF+BQ2dx/Y2fj7b9gYoI1QC0rSOPV71+HCV5mDlmsFtz\n",
       "/r8i/PCb9RVc72AS+gGedrSZGYAIG851L41MyayN726SlLWB42+P7Q7gOjcNMAmyTnUlPYDTcME6\n",
       "4HlI3U6+pgfLr65E6/ZtEGOdwiZWrXzHKCiUA5iGy75n1kYzfV31JekBbZvnK6DmMBHLqJhxOsoW\n",
       "xQvwyfcskniVMkma3OZ51AXcYQrzAFX3OG9d+W7wurkWLHn/gPZvP5k2Sgs43tXFks+5WqtYzqJx\n",
       "WAqaWDB90OpCA1a8dnKI7mKxxPcD4VE34/j9ADWMLQvPFdqUCJn2q0bO3+su+9197Pd6NNCC/o34\n",
       "IVh7i+s5L0A3GdDqCAJBu+H09vmuF3UrnGdPYH6CnU5R7+R/Nhe8eQYXo1Q15PDrewbMhp7ZSfOY\n",
       "zQeeH2GzMV8V9zHPOIvNs7D/2HQRf6yxczTLoJudSHuQ6EleoSeEbvYlxV8w/ufzDY4z+KfP432/\n",
       "PwykvT9gOf8CWSu+nhRRCkAAAAAASUVORK5CYII=\n",
       "\" style=\"display:inline;vertical-align:middle;\" /></a><br>"
      ],
      "text/plain": [
       "<IPython.core.display.HTML object>"
      ]
     },
     "metadata": {},
     "output_type": "display_data"
    }
   ],
   "source": [
    "real_neg_membership_is_bool = Forall(x, in_bool(InSet(x, RealNeg)))"
   ]
  },
  {
   "cell_type": "code",
   "execution_count": 100,
   "metadata": {},
   "outputs": [
    {
     "data": {
      "text/html": [
       "<strong id=\"real_nonneg_membership_is_bool\"><a class=\"ProveItLink\" href=\"proofs/real_nonneg_membership_is_bool/thm_proof.ipynb\">real_nonneg_membership_is_bool</a> (conjecture without proof):<br></strong> <a class=\"ProveItLink\" href=\"../__pv_it/theorems/f4a3f577da887fe2e44bdd4631e8829d131957f60/theorem_expr.ipynb\"><img src=\"data:image/png;base64,iVBORw0KGgoAAAANSUhEUgAAALUAAAAaBAMAAAADNwChAAAAMFBMVEX///8AAAAAAAAAAAAAAAAA\n",
       "AAAAAAAAAAAAAAAAAAAAAAAAAAAAAAAAAAAAAAAAAAAv3aB7AAAAD3RSTlMAq1RmmUTNIjK7EInv\n",
       "3XZ/CtNrAAAACXBIWXMAAA7EAAAOxAGVKw4bAAACtklEQVRIx51WTWgTQRR+22Q32cSEgIg/p4DF\n",
       "i5dQQSkWrQdtVZRIoJdiXexBKC3dQC9iIPFYLHQvQVrQblGEVtBQBJFCCYKHIIrF88KKVbBqD4JE\n",
       "AgVndn46O8maxHf4svvNt19m37x5swD/EbNZ72f9e/ePhrIMAiL2Ko0VrmpBOEASxPdyCIxvGYB9\n",
       "JahDxGotCOBjBoN/RL8LRRteA5wJELTm9QwDOU7WlqZqdGDAnLfhI0DC9mt+1qYnN7OET2HiqDha\n",
       "4NAUVh6u9XtmT8uAvN8DJFOyZiwycYDw5/H9LXHwModm7zugR7HZzCHAOfmFkteQNTl4qRP+blPi\n",
       "f3No5R020UrkkTVZS4DxZu8+hfAaesV4WhiLNhgIZeE4Bve2YHkI3yRdFb/CRVmDvDXCh9DaaKJP\n",
       "8gMDHiPbe/NWVlOwSu7Wt3Dqf8iaHBw8Tfl3jvNWNFIMCrGdI/fWvFqdEHIye8z05+CGLWnGnm1W\n",
       "KD8MsOgrQYtCGD65VzCjcTerMLW7LeV3viRprk/uXqJ8HiK+MtJSFE7BWXu/xwhreeIJ7icLKJhZ\n",
       "MStpcvB5xCa8bsd9rSMxSKEEFwgz56CwiLf+SN5Uz7OSJge6WiF8j+tbyr15A94aOFaEeUcHFyXv\n",
       "YknSIG+wKG/grb8ztGXK3mqdVERCrO/h23K+TUmDvQ3Kr6ElTpqHNVrkikUgVlaqUCGFLHivJDOt\n",
       "6kTQIO8el/IFNMcQPIyy+q4S6PnzuKqS/7vJn5tB+6Hs9x4ASTMKGy8Yr3gJq7MxtUEgdtXt7SPU\n",
       "ctlmffA+LEynfd7n/JqvtSWvDzIeb/JqhF2+4cBj9IET2M/HAzS8zxTiRriDPtjqJGm048NfNvh+\n",
       "m+PQ0eGa6oZX0gw6iYTZDd/RednmXAzkj3NoH12e8+2/T8TvEDuY/wtHRtU9g4/WsQAAAABJRU5E\n",
       "rkJggg==\n",
       "\" style=\"display:inline;vertical-align:middle;\" /></a><br>"
      ],
      "text/plain": [
       "<IPython.core.display.HTML object>"
      ]
     },
     "metadata": {},
     "output_type": "display_data"
    }
   ],
   "source": [
    "real_nonneg_membership_is_bool = Forall(x, in_bool(InSet(x, RealNonNeg)))"
   ]
  },
  {
   "cell_type": "code",
   "execution_count": 101,
   "metadata": {},
   "outputs": [
    {
     "data": {
      "text/html": [
       "<strong id=\"real_nonpos_membership_is_bool\"><a class=\"ProveItLink\" href=\"proofs/real_nonpos_membership_is_bool/thm_proof.ipynb\">real_nonpos_membership_is_bool</a> (conjecture without proof):<br></strong> <a class=\"ProveItLink\" href=\"../__pv_it/theorems/1ad1302733ac5ae63ba4b6d63ff60056187c27210/theorem_expr.ipynb\"><img src=\"data:image/png;base64,iVBORw0KGgoAAAANSUhEUgAAALUAAAAaBAMAAAADNwChAAAAMFBMVEX///8AAAAAAAAAAAAAAAAA\n",
       "AAAAAAAAAAAAAAAAAAAAAAAAAAAAAAAAAAAAAAAAAAAv3aB7AAAAD3RSTlMAq1RmmUTNIjK7EInv\n",
       "3XZ/CtNrAAAACXBIWXMAAA7EAAAOxAGVKw4bAAACtElEQVRIx51WTWgTQRj9Nsnu5seEiIroKWAR\n",
       "xEuooBRF60GtihIJ9FKsiz0IpaVb8CIGEo/FQPcSpBXtiCK0Bw1F8FAoQfAQRLF4XlixClbtQSiR\n",
       "QMGZnZ3p7CRrEr/DS/Lm7cvk+5kJwH/GERNWfvT+WDjH4B/WDoQd1YJIwHoQ38chMAayALtK0ADd\n",
       "ai8I4OMGg8D4nsFQRPAG4HSApD0fyzKQ43h9YbKOF8rEGmYRfAJIIr/mV31qYi1H+TQhDomrBQ4t\n",
       "YU3DtQEEoYeIen8ASKVlzag+vo/y58jnW+LiZQ6t3nchFsUPqcQc5+Q3Tl5T1uThdYzy91oSv8Wh\n",
       "nXfEJJWI7jVpLQHGWr37FcpreAeJjLAWbTIQamfbBvd2N6LvRilHJfm4KGuwt0b5MK6NJvqkPjLg\n",
       "Mbyxs29liSZYB1hZJ2n/KWvysP+kx7+37XeikWJ4EN88eH/ZtRkXcjJz2PTn4AaSNKMv1qoePwQw\n",
       "72tBy4MIfHauEEbjblZhcntDyu9sSdJcn9i+5PHToPvaSEt7cALOoD0uI9Ty2HP8MjOHg5kVc5Im\n",
       "D1+GEeVjKOE7OpKDHpTgPGXKNg6LeseeykP1Midp8hBTq5QPOb5S7uwbyGiQWBT2HR2cl7yLJUmD\n",
       "vcHyeIOM/uaFdVP2Vhuw5P4Ssb+H7sj5NiUN8TY8fhmXOGUe0LwmVywK8YpSg6rblY7gvZjKtusT\n",
       "QYO9Q47HF/Aew/A4yvq7RiH051lNpd93kz93G89Dxe99CiTNCKy+YrziJqzB1tQmhfhVp6+fUk8q\n",
       "iJ2DD2BuKuPzPuvXfKsvuOcg48mQ13T29i0HHiOP7MDzfCxAw8+ZQsKIdHEOtrtJmp34yNdVPm9l\n",
       "Dl1druleeCXDoJtImr3wXdyXHe/FQP4oh87R4z3f1f8TXigUzP8F9nnURF07z0oAAAAASUVORK5C\n",
       "YII=\n",
       "\" style=\"display:inline;vertical-align:middle;\" /></a><br>"
      ],
      "text/plain": [
       "<IPython.core.display.HTML object>"
      ]
     },
     "metadata": {},
     "output_type": "display_data"
    }
   ],
   "source": [
    "real_nonpos_membership_is_bool = Forall(x, in_bool(InSet(x, RealNonPos)))"
   ]
  },
  {
   "cell_type": "code",
   "execution_count": 102,
   "metadata": {},
   "outputs": [
    {
     "data": {
      "text/html": [
       "<strong id=\"real_nonzero_membership_is_bool\"><a class=\"ProveItLink\" href=\"proofs/real_nonzero_membership_is_bool/thm_proof.ipynb\">real_nonzero_membership_is_bool</a> (conjecture without proof):<br></strong> <a class=\"ProveItLink\" href=\"../__pv_it/theorems/5739c04d5d5f3b06f91058645d61efe1e75345480/theorem_expr.ipynb\"><img src=\"data:image/png;base64,iVBORw0KGgoAAAANSUhEUgAAALUAAAAbCAMAAAANmz4FAAAAOVBMVEX///8AAAAAAAAAAAAAAAAA\n",
       "AAAAAAAAAAAAAAAAAAAAAAAAAAAAAAAAAAAAAAAAAAAAAAAAAAAAAAACXHtMAAAAEnRSTlMAq1Rm\n",
       "mUTNIjK7EInv3Xbt5cmRiLwgAAAACXBIWXMAAA7EAAAOxAGVKw4bAAACzklEQVRYw9VYCZLjIAzk\n",
       "FLdml/8/dgET2xy+MpmpWlXiyEm13IiWgBDy22bJf2hOlqtD9wsP43L03jFFSwwkRJrkiKf4RwAm\n",
       "Ru8toypfvU6XmFxlno76AcDC6L1lsuhCxSxuz2rWn036fYDho3cVHbwxEYKvCGGyfaU3J7qwDuWH\n",
       "cFGdmCJABB9oVWYB0E0Fh4SUH70bQy0ilpSblRguj1hY+5I1pNdxJBIFttIuALEWF6jDEnCjd4u1\n",
       "Kx/6RcxWUS4Kiax8F+016zRYp8iCLoA15InOoxy926yFIlAV8uevKQrZqjEni99izdlLFgUAdayO\n",
       "HcH0mg59lhg0IRlMWNd8rAkimDtfvRPmMk5lDTsAr2OFk4IYvbE7ANpprqm1ld+m77zKiHqH/jJO\n",
       "Zk0Vd3uAz0ML/lixFHrPIlKr3W56FNi5QrRhtWDYvGfJZv6mcSRaDNQ1AKG7RAww03silzISsaV+\n",
       "UsqJtYcQwyt3cKQ/vbubxpEBfAyvyVkAZZFVJw0IaOfxFJqnEdOtkGBejZyvyxI7KGTVVDgcVSNy\n",
       "WaehAnKa3UlzCKLz8lhFE18vMktmWoUYyy96hN2znsfJrPOH2wOy4M4W6iHXZF0jSNeJB11rcaa9\n",
       "JXX6Kk5lXXvRCwDr6o4oVHpds5a529qNTzjq10JfbHh03D8unLGGBuBYlQwqQg2BrnNT03rWSEJz\n",
       "+9m1HcQD1il7eKqRtodM41TWtQm9AMrXHKZfDRLd92vfeixqK5In96MDNmEtlvXAnK2ovO3XszhZ\n",
       "0OkYIToA3YhGdZKNxbMiZYQJ3sS31Eg77PmMyu0SIjvZ57fdq4+Dy95x2/P1gKWIU+r7L70cvdne\n",
       "2TQr8U0b9iFXcXpA2oc6mJxy3tvz3TxwRPtdgEDpEO1sAnrvYwdS+mMAykbvQxbUjwE+dm78zjHw\n",
       "OYC50fuE/egZ/XP/h/SFZN8C/AP+Phk3Rume4QAAAABJRU5ErkJggg==\n",
       "\" style=\"display:inline;vertical-align:middle;\" /></a><br>"
      ],
      "text/plain": [
       "<IPython.core.display.HTML object>"
      ]
     },
     "metadata": {},
     "output_type": "display_data"
    }
   ],
   "source": [
    "real_nonzero_membership_is_bool = Forall(x, in_bool(InSet(x, RealNonZero)))"
   ]
  },
  {
   "cell_type": "code",
   "execution_count": 103,
   "metadata": {},
   "outputs": [
    {
     "data": {
      "text/html": [
       "<strong id=\"interval_oo_membership_is_bool\"><a class=\"ProveItLink\" href=\"proofs/interval_oo_membership_is_bool/thm_proof.ipynb\">interval_oo_membership_is_bool</a> (conjecture without proof):<br></strong> <a class=\"ProveItLink\" href=\"../__pv_it/theorems/0a7c5c0cf1a3fd207561aa01dc717949aeef4cac0/theorem_expr.ipynb\"><img src=\"data:image/png;base64,iVBORw0KGgoAAAANSUhEUgAAAQYAAAAWBAMAAADQui8gAAAAMFBMVEX///8AAAAAAAAAAAAAAAAA\n",
       "AAAAAAAAAAAAAAAAAAAAAAAAAAAAAAAAAAAAAAAAAAAv3aB7AAAAD3RSTlMAq1RmmUTNIjK7EInv\n",
       "3XZ/CtNrAAAACXBIWXMAAA7EAAAOxAGVKw4bAAAD40lEQVRIx8VWW2gTQRS9STbZ7G66FkRUlBIQ\n",
       "9EOrQUVQQSL1hc9gwQ/rI6ggFtH0RyhIiV+CD8yHoFHUFUQslRofsago+iFaRamCbwNbFQXFIoIP\n",
       "FMU7c2c3s8na+OeFM8mcvTtz9s6dOwNQ0z4+9SEzAtWm+vTVvwyt/m34Siv6cGac4GOvKvphm+D9\n",
       "rt6tmx+kiC9CPaPGDKohwNpgQubGC1RbsCB1Ou9h81rAY7k1ausw4oswlzEbB9WgpLCNyJHX0wQf\n",
       "O+npbWBvWgSvhmbo0Ygvwg62LLlBNURZrNplSkkQfKzJ0/uMCCUJlRomB4gvciVGfPB8aMX2nEzF\n",
       "BKQEOVJ6zP9c9+TCD9beEZDdmIYI8UUI4edEauTkFGw9kR8rUJ5siwh20ONn9LF2vYDkxjQMn0k8\n",
       "5vy9UuluDQ2xUumlnGqwSKC7/9QVHsNtztgK82u71kG9SEM/Pj4LBMkNc7L7QYF41LAA4FANDUoW\n",
       "NE9SOV+WNBuUPk9SRzCs4VtwjNzPtOrfAKYBQc793OrNvxYSjxraQK13nkQ3iT+NF2dvKWtAhzaP\n",
       "rIeEUCb0I8BT012BOvzu0wlYQr1JFtwHmAAEeUFxLV6vsDiPGjTLSLmPRjEh/fmUaUBPoVyjDlUU\n",
       "qpuEKCg0ahQXtPSMZyuOtQzgBfnNA/gJsA8IkhvToIULnMehg7aUkrcRc7KYvybMsMsaJnpT0tGA\n",
       "U5KT7m5upqEX9C/UewFh3J2rgCC5cQ2Q4zz7vPQsbLpm9TChv/stkwUXNbxPljVEQjiX+aZjvnct\n",
       "ANZmdL7yfdJa6L8h9MkpDwruzkYgSG6kIc15puEcbn/9SfQbm/q5mezk+9hQjybKGoyxONO7QG6d\n",
       "oI4SOlOjweDEgDO2ZoP+GQLpccC0fWe5AdOBILlxDUGb80zDdkxJJRllxUVLhNLNXINyOCedWeoN\n",
       "/E1odlZQYrdN2rUYltN2cKqcUc/UNSaT+lfsDYX90k6W3CDXAtcuEM80BLJsGU22OWJZpX5aPp+P\n",
       "m6axXD43R7A/Q9wjYy/hxECwiUbVR64UOwvDffzDzoYslDAQxy+wYD4SkNze9h5j5ybnnXQ/k9Fm\n",
       "4DtDIBbfzeNghlusyrN7j3tjqMsSpEJ5SRRh9zYQdN5X+wgeN+mZM34ss6/Z6oI6azpVI9ybl5Ne\n",
       "Der1i+BQvscQ2VS3Tv/DAcd5R0O4aeJ52BOPLrVBPYj9FW8LJ+ZVxGFpy4BbLA8IVJvmxKrbYdor\n",
       "T13J2qvuSLS2Xfl8qtY9qlOg2twaYNfWS7xn/LDl63fV58Kn2gQf66i89mUIfsb4jzdlJgT/x/4A\n",
       "HG4fwDiADB4AAAAASUVORK5CYII=\n",
       "\" style=\"display:inline;vertical-align:middle;\" /></a><br>"
      ],
      "text/plain": [
       "<IPython.core.display.HTML object>"
      ]
     },
     "metadata": {},
     "output_type": "display_data"
    }
   ],
   "source": [
    "interval_oo_membership_is_bool = Forall((a, b),\n",
    "       Forall(x,\n",
    "              in_bool(InSet(x, IntervalOO(a, b)))),\n",
    "       domain = Real)"
   ]
  },
  {
   "cell_type": "code",
   "execution_count": 104,
   "metadata": {},
   "outputs": [
    {
     "data": {
      "text/html": [
       "<strong id=\"interval_co_membership_is_bool\"><a class=\"ProveItLink\" href=\"proofs/interval_co_membership_is_bool/thm_proof.ipynb\">interval_co_membership_is_bool</a> (conjecture without proof):<br></strong> <a class=\"ProveItLink\" href=\"../__pv_it/theorems/af5aaac2148d464b2d80cdc49d0a01a9e09172ef0/theorem_expr.ipynb\"><img src=\"data:image/png;base64,iVBORw0KGgoAAAANSUhEUgAAAQQAAAAWBAMAAADUT/8dAAAAMFBMVEX///8AAAAAAAAAAAAAAAAA\n",
       "AAAAAAAAAAAAAAAAAAAAAAAAAAAAAAAAAAAAAAAAAAAv3aB7AAAAD3RSTlMAq1RmmUTNIjK7EInv\n",
       "3XZ/CtNrAAAACXBIWXMAAA7EAAAOxAGVKw4bAAADnElEQVRIx8VWW0gUURj+d3f2OuskRIQUshDU\n",
       "Q5lLD4IGMmFZdF0UfMguCwWRiK0vgSBhT0EX3IegtmgdwYfEUCs3qUh8kbIoNOgqCyuWD4YSQhlG\n",
       "0jnnP9Oeubjz2A/fMPPNN/98c/7/nDMAjjH/0YZMcJhDyXYYCT+HXfhXy26OjN2bIghLyDET4c0h\n",
       "jF81fq55MoZ8BooptamwBatmK0dhC72vyWGGwxDJE/6mdchnYA9lzhS2YNGE4ginUThN4NMQRgv1\n",
       "MBxEPgMXaU2ShS1YNFIU4WRhkcCjIswWdriQzzAjcqSwBYsmzCE0x53se4sF7zI9vuQQVMyCD/kM\n",
       "eMjH+Bza0aLZzJF/WYtmMwryBD2e4hBU1ML6nciTbn+dzb5ymhFmzQGO/um7T9nonNeEQrSOXMAL\n",
       "X+k0uXsfEIKKtGP/5CDyJP0+gFtOFswa/cNUpVSaMPQqseB9Dl34roGm0BJABSDEjk4eb/6zH3mS\n",
       "vhX8xfqdwFl+UvZoV4tgQdTQeIvwJDzLLtaVccHCvSgcwotyDd4AbAOEoKKFmGnQGE/SBzWhfhuo\n",
       "j+lUTJFheDBvwaAhMYYIgIRZA6RS2U/cwhGAKZTVAvwG6ASEoKIWgt5BxpP07pzQaS8IdpMlVlGg\n",
       "Kpe3YNDkLZBpgaJQUhiFcQj9wIsp8JJpeQwQgopZgCTj6eIbryaHvuph6nNlWlPoyBILc6qwQDPN\n",
       "wt4vCUMhAE4mQqzsE3kLoRXwfNeXBYlMyzJACCq0EGc8Tf+giRj8EFiib/6sqL1sAsv+dFSwQDVK\n",
       "osTHF4c0oje2EWRGLAgWFsEV3wLU2S/aF1AJCEHFLLhzjKfp20mnSWpglJwGo554PbMg3U6K2xTV\n",
       "eCAd4BSfZ+WXD0IdTr9IvhBpKFPV0E9ysRauCzNYUEGyEUaGkKfpXaT24ZhCWz7cIRVXpFKpiKLI\n",
       "daIFF9uCl3TqGqJnwV2DWUMlR/9Z6P52qbQDsmQYuofoSL7jEFSz4110p2S8vhEPJIJV5Jk1EI5c\n",
       "YaOgeBs182YdGNU3/qIOhLA8PjYt0G79cf8EQlSBcE9PH0501mt9UKRVkgnIegGeqCYL7XJc4qe2\n",
       "W49xgZadtzTk9fTemu0P4WokcDgH/pvkumF2sKfWZEH6OjKnP3uDY3UL/TrTxmEXbZY/IqxrXyoV\n",
       "c/pr6uVY3ULO0S3nDem9mq3umc3fnT+HsFow/zsqCYRdUH5+TGQ88F/iL3YhHYbcZdxsAAAAAElF\n",
       "TkSuQmCC\n",
       "\" style=\"display:inline;vertical-align:middle;\" /></a><br>"
      ],
      "text/plain": [
       "<IPython.core.display.HTML object>"
      ]
     },
     "metadata": {},
     "output_type": "display_data"
    }
   ],
   "source": [
    "interval_co_membership_is_bool = Forall((a, b),\n",
    "       Forall(x,\n",
    "              in_bool(InSet(x, IntervalCO(a, b)))),\n",
    "       domain = Real)"
   ]
  },
  {
   "cell_type": "code",
   "execution_count": 105,
   "metadata": {},
   "outputs": [
    {
     "data": {
      "text/html": [
       "<strong id=\"interval_oc_membership_is_bool\"><a class=\"ProveItLink\" href=\"proofs/interval_oc_membership_is_bool/thm_proof.ipynb\">interval_oc_membership_is_bool</a> (conjecture without proof):<br></strong> <a class=\"ProveItLink\" href=\"../__pv_it/theorems/e9e225a825e2648cac4ec8aad974af5731ecda680/theorem_expr.ipynb\"><img src=\"data:image/png;base64,iVBORw0KGgoAAAANSUhEUgAAAQQAAAAWBAMAAADUT/8dAAAAMFBMVEX///8AAAAAAAAAAAAAAAAA\n",
       "AAAAAAAAAAAAAAAAAAAAAAAAAAAAAAAAAAAAAAAAAAAv3aB7AAAAD3RSTlMAq1RmmUTNIjK7EInv\n",
       "3XZ/CtNrAAAACXBIWXMAAA7EAAAOxAGVKw4bAAAD0ElEQVRIx8VWW2gTQRS9STbZZJNuiyAiigQE\n",
       "/dBqEBFUkJX6wmew4IevRvwQRTT+CIJI/BJ8YP5qfNQVRCyVmqqxqFgEEa0iRMG3ga1VP5QWEVQQ\n",
       "FOfemU12djfNpxdu2Tk9e/fkPmYGoKGNvPYBs8K9prrWeiWn1oms1ovutpIPpie5+9gHNxBPhy33\n",
       "rxrcu/tZGggvQQtCU8eW4OXMEO61YNGx0M6WUQIMu1n5requ8UB4CZYismNsCR6OluHuY5ekVcQg\n",
       "CRHTLaEd+mNAeAkOY03yY0vwcJQUdx9rk1bNSZIQMrwS5gSA8BIJiSfHluDhJIQ7muNc5SU93JPg\n",
       "DpMkwGMXCyVEgPAShNiPiTRoRw9nmvCqhfeIVAfl8twFLmG7zEIJExYC4azbn1YqTxpNhJuzSnjv\n",
       "0OU7lJ39dmwFu3HfwCGx3DY6jiT0gcRi7dj7DJl9FH4FwOlGEtyc7cINfYpSlno1whIWfgjn+ce0\n",
       "n+bVLEqYB3JH57fs/rMSCGfh94HaYv8nulM8tN5cvMchwclBe849lA39DlBXVtPfxJJyJQVrRFl+\n",
       "Q8JCCTNBYmEhhjeYhLPwMRM5wiahjqFCWo9Df7EmQeIwe8A9CgqPGmWVqryhRmW8dQDvRFky0FzE\n",
       "V0/KLJQQCxcJZ+GDlqPTHjFfkmOtq8MCqyZB4tQksC9ykladWJQwCNoPkZMidCRRwmaZRRIgTzhu\n",
       "vplF7E/Pon7U+XfI1DGzTMIXw7FBE2d0+cesVAg2dFmNql52FEL7C6Fv1W1hHSWwFSQWl5AhHMNf\n",
       "28UEvor+wi+/1Y1uGuC42pVySECOnp0YEZtDF/fu9GSIEzBqx45ZoH2HQGY6oLTmnHafJmK+zCIJ\n",
       "QYtwDH+QdZpiRHFPiaVCmXaSoJzJO48p5ISgKyqgPu6zj66G9XwQ7I0r3oLiWg1D+8lWgVTMIAmr\n",
       "ZBbkN8HADT7ZGD6QwxLq2PKJnNIyr1AoJHU9vt4pATkAv2zoBPeLo8E2HlWbuFHMFEv2ha9HpuSg\n",
       "wtKgTWrjW9MLmfV58DyelITbB/HVbGwBe6UZEsljlAU9vMl0H9bRe/bB35Tj7tgeb4mtt3r8B83q\n",
       "YQ1q2cWyLwzlWvhE9mS72QNN5nw2gNQLcNtwSTgYzyjiEY8Xz9HDbW71mlC7L9Q70gi3w4fbZl2H\n",
       "48noWgvUU2y94XPx4jKXBOXTwBf73U7hXovZd6leh4QDdTbeA54bEa9rT6GQbnRr6hbuterwWw4J\n",
       "nXUkdLrDh01f3l2f251qcfexQ+473vu07n/LBMRHHjiREPwX+wdURxpWAv/3vgAAAABJRU5ErkJg\n",
       "gg==\n",
       "\" style=\"display:inline;vertical-align:middle;\" /></a><br>"
      ],
      "text/plain": [
       "<IPython.core.display.HTML object>"
      ]
     },
     "metadata": {},
     "output_type": "display_data"
    }
   ],
   "source": [
    "interval_oc_membership_is_bool = Forall((a, b),\n",
    "       Forall(x,\n",
    "              in_bool(InSet(x, IntervalOC(a, b)))),\n",
    "       domain = Real)"
   ]
  },
  {
   "cell_type": "code",
   "execution_count": 106,
   "metadata": {},
   "outputs": [
    {
     "data": {
      "text/html": [
       "<strong id=\"interval_cc_membership_is_bool\"><a class=\"ProveItLink\" href=\"proofs/interval_cc_membership_is_bool/thm_proof.ipynb\">interval_cc_membership_is_bool</a> (conjecture without proof):<br></strong> <a class=\"ProveItLink\" href=\"../__pv_it/theorems/b7e80a3ad2055d29a9d3a6f1b9055aaa1157caf60/theorem_expr.ipynb\"><img src=\"data:image/png;base64,iVBORw0KGgoAAAANSUhEUgAAAQEAAAAWBAMAAAAyZjRZAAAAMFBMVEX///8AAAAAAAAAAAAAAAAA\n",
       "AAAAAAAAAAAAAAAAAAAAAAAAAAAAAAAAAAAAAAAAAAAv3aB7AAAAD3RSTlMAq1RmmUTNIjK7EInv\n",
       "3XZ/CtNrAAAACXBIWXMAAA7EAAAOxAGVKw4bAAADm0lEQVRIx8WWXUgUURTHzzqzu7Mz6yREhBSy\n",
       "ENRDmUsPggYyYVlkH4uCD1m2YBCJ2PoSCBLbU9AHzkNgW7SO4EOLoWtpUpH4ImVRrEGftrCL5YOh\n",
       "hFCGkXQ/Zt07M7s7vTVwljv//d87v7n33HMHwPZa/JBDDOlh60b37jwDI11Ohu0BYCyHJvto/IN7\n",
       "DJwpM+X0+faZANGlAJRgaVthAqtnpx6FCWKvqDBnNqkt7rZNREcEB7BytjCBxSMGadjNwRkquDQz\n",
       "QSOMe4iOCC7hBVELE1g8vJ+GHcEyFTjFSrDHQXREgPkkX2ECi8erB5MYd5LvLATOVV14YTJhAhfR\n",
       "EQGHXsVlk4kWz3Y9ss/q0HLMgZTQhVaTCRFs3kt0RACvksmXdnvB7KnXYyh99wmZmwsa4+6cuEjb\n",
       "rrK0jxCMgNGktgzNxImOCQ4B3LIjMHta9VDkMj5hTFO0+Z5BH33WcJu4QggqwWhST7X/OUx0TNAJ\n",
       "7pLMP8I5vVH+cF8H+1aMB19vaHAhbtVBEjLIENzzw1HartDgNSHYBUYTWoW5Jg3rmMCj4V/92oIx\n",
       "0pGALMF4PEtg8KBrioYAPB1VQMuU/Ki7jwPMUlsdwG9C0GMyIQKPM451PG5Rikmy5yj2o0Ipy1Cd\n",
       "yhIYPFkCtCGoSVSZOZgG8Qdtz4JzmRCcNJkwAahYJ28WrEE/gzXjGHMtrcl4WhHBgsJkN/EsHfwS\n",
       "MqwCwOmQSJY8kSUQ14D7nikH/CrpXg5GEyEIYp0Q3G9DfO+FFfzgT7ISIztXckf9DAH2yKFSl14U\n",
       "ojRiga0gEWGJIVgGR3AHYLBfOCdw9yqTCRMUpbBOCLpRkvGKMImaHj8XbCQE/G2VrXLYw0FU0KUR\n",
       "GhVXjkAD3Xe+rDsK5Yoi/kTtjXCDdq83mdRmmBglOiFwoHX3BmSc7N4wX1IZiUR8siw1sAQOcoiu\n",
       "ZKTrNAaWimrpqGLpiXV3/7fLZWFIoknoH/XT7m+NpvnpPnw2Yn09w4dDnmrUZQN4fVfJHMjOZkuV\n",
       "EyYzJ31xmAZTFB+ZqnIR092dMJkyHwiJLIE31NOoDUKxVoV2HskDeKyYCLqlIK838VFjOW6MbokR\n",
       "8hxiWF8ncNbufgDXfMKxFLhvovum+fhAnWlM/uvEQqZvrx75CYYYoStPte0CMNYZoGs6GIkE7L6R\n",
       "YnrkJ0gxQm8egl4zgVPL6Xua4zvRnaJh716cQts4NwDS5c8GAg7+x/UX/L4kH3EOTzAAAAAASUVO\n",
       "RK5CYII=\n",
       "\" style=\"display:inline;vertical-align:middle;\" /></a><br>"
      ],
      "text/plain": [
       "<IPython.core.display.HTML object>"
      ]
     },
     "metadata": {},
     "output_type": "display_data"
    }
   ],
   "source": [
    "interval_cc_membership_is_bool = Forall((a, b),\n",
    "       Forall(x,\n",
    "              in_bool(InSet(x, IntervalCC(a, b)))),\n",
    "       domain = Real)"
   ]
  },
  {
   "cell_type": "code",
   "execution_count": 107,
   "metadata": {},
   "outputs": [
    {
     "data": {
      "text/html": [
       "<strong id=\"interval_oo_nonmembership_is_bool\"><a class=\"ProveItLink\" href=\"proofs/interval_oo_nonmembership_is_bool/thm_proof.ipynb\">interval_oo_nonmembership_is_bool</a> (conjecture without proof):<br></strong> <a class=\"ProveItLink\" href=\"../__pv_it/theorems/eb730e0977716857aa61410b3e44d38aad7793fa0/theorem_expr.ipynb\"><img src=\"data:image/png;base64,iVBORw0KGgoAAAANSUhEUgAAAQYAAAAWCAMAAAAVSsIhAAAAP1BMVEX///8AAAAAAAAAAAAAAAAA\n",
       "AAAAAAAAAAAAAAAAAAAAAAAAAAAAAAAAAAAAAAAAAAAAAAAAAAAAAAAAAAAAAADFBd4eAAAAFHRS\n",
       "TlMAq1RmmUTNIjK7EInv3Xbp8+P3nXbhrUQAAAAJcEhZcwAADsQAAA7EAZUrDhsAAAQBSURBVFjD\n",
       "1VjtluQoCI3fUZTZnc37P+uqUUsSrEpP7Z+1+xR1uoHgFS6YbfsPFqa0P9N0F/le65HyU6dLu+fR\n",
       "f1hgnuIlqVwsGzij5TJI5Zvjit4eNiZhiH6OXwwlqb6A4ZEbCVQu1i44o9sKPqa2PUXlevmyd2fD\n",
       "iUPXz/HrcZLWfQHDEzfBUrla2jBGbNboS/rQNOJhyFsHl79M+jn+Ab3z3xTFEzdaUblaiTPi1tHL\n",
       "RWkqP8CgZMvepl+KuiMI8itueOAmXiRbvj79+ivZuxHHCcc4/BiofHnLyzIw2Fm/xK8a3PY7ivzs\n",
       "RloquY1ZDJvYGSP2sa+0sYrKlzcuG4RTMOtXio8FsRThy07x0Y0GKgOiCDtM6eNKSlEy6MqbE4CO\n",
       "tgIrsofTGlpNwsSujmGKQpEBk+heT/0av67o+/AlDB/dXE8s1yUK3PR0poVdFXJGJub/+WP2Ho68\n",
       "z3BURlYNOzVhyHF1hiHZeCQdZv0avxP949q47IXuZAKrhUUWhqWbwXySSJWjVHlf4pXH9s72TTnE\n",
       "oqUJecoKSqzRyEYhcqISu6RIVKY95dQ/555yguwENHJnR+F91sANSrsBdnxauuk0ZogsyaNJqHup\n",
       "q79/5w9/NdJHxYQ8+DQ+6t/2o7k4qLe6/BWGImDSP6OWuGC22MhK6/YF88+mArIwLN3wMGzjKF/z\n",
       "0L3TNOXoaxUQkCso5myaJvbaod74bChTg5/02+HZUZABFEKvqf0oJDYPZxUGDJofpl9uELXLv2+L\n",
       "ou4hq4RABobEGYWjOFbHfWrQJ13I1Mt2MX7cYLCTfosfZCuVkFzevBsjeNhQz7CWonD+NrNe3aDb\n",
       "hN/sZYLwOMuQi0yUs5gSHXEzmjMKdcvCbrLg1mHYO2dkhFqMyhNvaxgkTvotfhdFz/5SU8NGVSo1\n",
       "aoJBe/Crq9Vwo2r412sbbWry2IPOjzIzWFaKnTUqaMikS3fJDaIxV3mM5ptx88bBUNgNgdh1RusP\n",
       "L5WIYqYGLTISvi55FgUYubphTns47t1qT7MMOp+W1Io4C+K3CZxREAi7E1gekFJLXQFj0k6Gyqbg\n",
       "qTe00fvXDXPoX4i9NmGverWWUoxy22GbucEYCB8v2iWlbkD0a/2b6736BzwdfxlleZtNXKJykM/V\n",
       "G293jT8WajAqTyVl6xn1WjuvkehsmCuKHM7jBraOR5c9fr4A3Qc/Rhn++NK2sLvCYHKSIqhymjlZ\n",
       "d32yjPP7GNIt5HTW9n02aDSAyIyyjsr76TBN7qZ869fD7KeX5K7/ZtqZazZA4Qbz9dun3nPCKlzu\n",
       "enpTxp/Du7p2u0/xm59cMeDp27x+N3KL12XindH6cu6ofPwK1fVXc0sY/viF3P9z/QtJAyMVKw3s\n",
       "2gAAAABJRU5ErkJggg==\n",
       "\" style=\"display:inline;vertical-align:middle;\" /></a><br>"
      ],
      "text/plain": [
       "<IPython.core.display.HTML object>"
      ]
     },
     "metadata": {},
     "output_type": "display_data"
    }
   ],
   "source": [
    "interval_oo_nonmembership_is_bool = Forall((a, b),\n",
    "       Forall(x,\n",
    "              in_bool(NotInSet(x, IntervalOO(a, b)))),\n",
    "       domain = Real)"
   ]
  },
  {
   "cell_type": "code",
   "execution_count": 108,
   "metadata": {},
   "outputs": [
    {
     "data": {
      "text/html": [
       "<strong id=\"interval_co_nonmembership_is_bool\"><a class=\"ProveItLink\" href=\"proofs/interval_co_nonmembership_is_bool/thm_proof.ipynb\">interval_co_nonmembership_is_bool</a> (conjecture without proof):<br></strong> <a class=\"ProveItLink\" href=\"../__pv_it/theorems/e6447834d555b8440968d848af4cd186328d45db0/theorem_expr.ipynb\"><img src=\"data:image/png;base64,iVBORw0KGgoAAAANSUhEUgAAAQQAAAAWCAMAAAARvxIcAAAAP1BMVEX///8AAAAAAAAAAAAAAAAA\n",
       "AAAAAAAAAAAAAAAAAAAAAAAAAAAAAAAAAAAAAAAAAAAAAAAAAAAAAAAAAAAAAADFBd4eAAAAFHRS\n",
       "TlMAq1RmmUTNIjK7EInv3Xbp8+P3nXbhrUQAAAAJcEhZcwAADsQAAA7EAZUrDhsAAAPySURBVFjD\n",
       "1Vjrlp4gDJS7EEhvvv+zFhCQKHy6a/+U9mz2tGECQzIEl+UfDAxhfeZpTvaz1yPoZ5DTec/XfjNA\n",
       "PWWLUzsZ2n0BWiG1H47KW71pH5gi/jEEa05cvCHhCQ4HaidjZQ/4ddaHsjlB7XzYtHOj3c5C9Y8h\n",
       "ZIuizRsSHuA4Te1sSPUoybQ8JU6XQFMS4sbBxF86/xii0W7sq3J4gCMFtbMRnlXaVmtKSGpvSBC8\n",
       "pG3xTyEqf8DfacI9jj/ZYeHa8ONn0A9IUFs7eO+oPbDi0AMSdO+fQohyLvqlMN7icE3taGMa3cLW\n",
       "R5kAR8JoQe2BNcoEZgT0/jmET3wFD29vhzscCdQ6ROZW6DLHpGyiilFIMAzQUPnXLM7f50IpRegU\n",
       "1QwUIgmjw8DqEnf/HEJm5q17S8Idzvm8YkUiw0V2J5okVeAVWvn4P3brod0Wd+m2LMKi8CY6/kby\n",
       "HEkI2m9But4/hzCs/jhfVfqkcTyAlkzjmIQpTtU7TqyIqxRxX+zIYX3V+AztfPKRgawlU+LzWnhR\n",
       "Gd6pjZ4KIwpVYuz+++rT4Q1rr+XNisza6IELpCsGxs3SFKfIkCI25Y0kS11TQf36HX9YCi23TB4J\n",
       "u0/d8r+tWwHYKFYe9kxCMtD570vmOJEzXyRKyvILxj+LcDgmYYozJGFpB3n0P9fLZVctm/Of8Jsp\n",
       "Ufs1qUoGKE+xxpmQugTb+ZfV61aIDgRCraZ1S9LVt2KZBHRy0jYfOIjSxL+fyiHvIXo4RxqEcIV2\n",
       "W0IV27VLkLtM8FDLddxsXEnQnX9ZPfBSJC6YuHXTmm23oOxJTeVg7KU/rSQ0HDQLs4umh2qxty6W\n",
       "F0sn0SU54qLkiIQExPTCE2eVhLVqReSnrFBYgjUngWPnXy8gz2rep2pqc0QWUCU6EqQFO31ANRyR\n",
       "t3p6ndGLjG+rkzGU6pnSnK0D6EQbDzLdJ/FSKHqVYsjx5VuwRiQkTUMg8+rqa+hUrsh6SZAs8mDz\n",
       "4Hs5gOLTV2S3he1yRa2ht07Gs+JSEDDHfit3hXYMYTUME3oIJWkZtPY7KGqLg6VYqL21xyuy+Z+0\n",
       "PF+7VtQqTUXo+bLC0muCUuDun9Ipn8401If7hwe8+AOWtLpXaH5pREygtknOCWsy7xzCJ0lQInYh\n",
       "aeOR81w1R/+zX5FTYWzofgGduyG6w/uHjr7nF779MJvMO4dQMT0RRDrImKar3NXF2LW14xpiIkt9\n",
       "s1KJCvDSui/WUHs9G3v7veZyP7dJX30GV/8PrU1fqw6SJqjXX5bqPeNmywV+C30V/VtqZw9rc/tQ\n",
       "/cpTAp5+p6tvIDP5FMa+AY2G2scfRk396DYl4duf2v7H8RfMayNvKyLGKAAAAABJRU5ErkJggg==\n",
       "\" style=\"display:inline;vertical-align:middle;\" /></a><br>"
      ],
      "text/plain": [
       "<IPython.core.display.HTML object>"
      ]
     },
     "metadata": {},
     "output_type": "display_data"
    }
   ],
   "source": [
    "interval_co_nonmembership_is_bool = Forall((a, b),\n",
    "       Forall(x,\n",
    "              in_bool(NotInSet(x, IntervalCO(a, b)))),\n",
    "       domain = Real)"
   ]
  },
  {
   "cell_type": "code",
   "execution_count": 109,
   "metadata": {},
   "outputs": [
    {
     "data": {
      "text/html": [
       "<strong id=\"interval_oc_nonmembership_is_bool\"><a class=\"ProveItLink\" href=\"proofs/interval_oc_nonmembership_is_bool/thm_proof.ipynb\">interval_oc_nonmembership_is_bool</a> (conjecture without proof):<br></strong> <a class=\"ProveItLink\" href=\"../__pv_it/theorems/5840ef80c7603883967c757e12f1a618bb6519550/theorem_expr.ipynb\"><img src=\"data:image/png;base64,iVBORw0KGgoAAAANSUhEUgAAAQQAAAAWCAMAAAARvxIcAAAAP1BMVEX///8AAAAAAAAAAAAAAAAA\n",
       "AAAAAAAAAAAAAAAAAAAAAAAAAAAAAAAAAAAAAAAAAAAAAAAAAAAAAAAAAAAAAADFBd4eAAAAFHRS\n",
       "TlMAq1RmmUTNIjK7EInv3Xbp8+P3nXbhrUQAAAAJcEhZcwAADsQAAA7EAZUrDhsAAAP5SURBVFjD\n",
       "5VjbttwgCPVuRKW3/P+3Vo06muAks6ZvtV2Hs1oguIUNytg/WBjj9kzTnuR7rUfK7fP2w6Dtp7Hf\n",
       "LK+foiVmuVgGKKObADTeYhWc2U2IvITb9ZMx70pCfgPCEz/Cz3KxNk4ZXRe4EIdTwNv4Xd65NXCg\n",
       "0PSTseqnaOw3IDzwA2aWq6U0YUSnjBpTcU4gGoS0cW/TL4N+Mu6wW/dVOTzwo+QsVytSRuTaxQiC\n",
       "VI9AkKKmbdXPxg0/L77jhHs/4STJwnXxx89orkbU0jtMpBTg7CstQ4BQ/+3Qz8ayQm2+JMZbP8LM\n",
       "ktqVQWB8I4zo78aZmY08+6IygVtZaebQL8Yh4xWD/7Y73PlRfpaAyGHzQ+bYnE0zCTRlZrlHe2oA\n",
       "hicX4gWCHxjVEgyRiREw8ubz0C/GqiDv4FsQ7vy0c2oyVSRyZOpFAYVSJVJGOqT/c/vkHPa0Udht\n",
       "B0EO+FH0nECIJuxRVTeHfjG2vP04typz4jgRvVHcIA3C0k/jOzFJmaKUaVf8lcPmyvFVGULWUnEO\n",
       "p2ASsIMgBgIxS2JEqes3Dv3DOB8eOe/0vNmQO5c0kPncYjw9LC39VBrSk8x5o6ZQt1xQv36nH+5s\n",
       "pPaCyPzhw3r3/avbPvsqy51ByMIP+oexwAWdhUpRStVfMP1hEpAGYemHBIHVUxyHn2tzqcrBlfSf\n",
       "ES6Y6NwmawA6zL7oTMhTghv0G6v2QgQv0bdq2vZMXeMoVkBAUIux+eUHUdn09105lA0kDYBpQIhU\n",
       "DcGe/cqdmBLU/so/ERfDxgUEM+g3VhW1SCDatHXbh21gqEZQczlYd5lPGwjdD1rGHTPzoTocJaTy\n",
       "4vkkhhRHZPoEcFUu++WGiYxaB2FrZNGI0U2+1iAIHPSrsQ285X2upm4jC4FqOYCgnHfLC1T3I0v0\n",
       "p9tZa2CHFPsGKn1Kj0gZwWmjjIWIKneU1BMaZeXPqCEA5SdfFAiZQNCrsf+26NuncwUiHylB8YSD\n",
       "K0sc5eC1WN4ihy3slxa1xVGCSmcllJycAf+tgTICjn6zHLP/GKFp+zpU1wDidOngbvaFJjj3ukV2\n",
       "/ROXl57rZKvSXIJBsM2zkRO09nB/lc75dIahXdzfXODlH+/mUZdQFrDo0Sce0Gdf5xeFSEYfMiVo\n",
       "mUaQvPGEeKma1/xztMglMXbvgXlTpqF5h2qWty8JC2W/mtY+fAuY0+iFXUpP9DIfZErTTR3sYt3W\n",
       "x3HjUyIrc5MJCrXHy+jOnJ3l9WyIxnZRBqRB+PQa3PTfjDZjrYLPnKC/fllqfQZW4VI30IsyLgJw\n",
       "H76HNP119PqTq4R/+k7XbkB28RTG3xm9ezfTpS1/9jBqB+MFQ7H/aP0FjZgjZDrtruEAAAAASUVO\n",
       "RK5CYII=\n",
       "\" style=\"display:inline;vertical-align:middle;\" /></a><br>"
      ],
      "text/plain": [
       "<IPython.core.display.HTML object>"
      ]
     },
     "metadata": {},
     "output_type": "display_data"
    }
   ],
   "source": [
    "interval_oc_nonmembership_is_bool = Forall((a, b),\n",
    "       Forall(x,\n",
    "              in_bool(NotInSet(x, IntervalOC(a, b)))),\n",
    "       domain = Real)"
   ]
  },
  {
   "cell_type": "code",
   "execution_count": 110,
   "metadata": {},
   "outputs": [
    {
     "data": {
      "text/html": [
       "<strong id=\"interval_cc_nonmembership_is_bool\"><a class=\"ProveItLink\" href=\"proofs/interval_cc_nonmembership_is_bool/thm_proof.ipynb\">interval_cc_nonmembership_is_bool</a> (conjecture without proof):<br></strong> <a class=\"ProveItLink\" href=\"../__pv_it/theorems/50b1d5e90d7a56855ccc83fa8c272b3baf3ffca00/theorem_expr.ipynb\"><img src=\"data:image/png;base64,iVBORw0KGgoAAAANSUhEUgAAAQEAAAAWCAMAAAD3ltlYAAAAP1BMVEX///8AAAAAAAAAAAAAAAAA\n",
       "AAAAAAAAAAAAAAAAAAAAAAAAAAAAAAAAAAAAAAAAAAAAAAAAAAAAAAAAAAAAAADFBd4eAAAAFHRS\n",
       "TlMAq1RmmUTNIjK7EInv3Xbp8+P3nXbhrUQAAAAJcEhZcwAADsQAAA7EAZUrDhsAAAPmSURBVFjD\n",
       "5VjbkqUgDOSOEMje/P9vXYKigHDUOvu27NZkqqbTQJOEIGP/YGCMyzOk7exn1BPu/e/25ZLty4Xf\n",
       "DNBPpRKtnQzj33BnhMbbUwrOrCZEngkLPjnzAyPkNwo84RHQ2slY+AN1vQuxRuDt6h1t2xrPa3xy\n",
       "VscMxn6jwAMeb1o7G0o/ii+jGkQdODMF0q7Bpl9OfHI+BLfuqyx4wKNka2cjPsuwVTQIqR4pIMUe\n",
       "rhuenIt2IL6rA/c8obPDdHXxx89oHiigV98igu+Z0jADBUyFJ2e5n4j5shLe8gjT2tGuDHrGl0cx\n",
       "ALFDGNkzjWKAWwkVPjsH0ioG+PYuuONR0FqPyP0CVcxYiqOuSmzclgPattwbnvxFpQBUBdQOqgJV\n",
       "Qo+RlwVmfHZWWXPnv1XgjqecUbEpD5EjU2fa5xoqcXDXhfQXt9bUfk2b9Ks9FZCVdKNqnBSIJqxR\n",
       "+QqfnS0vP/pbyXRFTUQwihscKzDlKQVONFamRcq0KX4GrxnUdOL2gTCqqZAi6xHwVEBU9cVMKyFK\n",
       "vc+Q8ZszHdsw3Y6AWZA7lxDIgO4TGHdEU5698ujGUsSoZqUL5dGv3+mH627aNSvXTLu5rnBOuawt\n",
       "Ux6uV4AMnPjNWeCkfoW9Jim1/4LpH5MexwpMeYYKsP0I6yZncJUQd3A57Btxsx6absSigA4t0zgG\n",
       "qBtwJ740E0fyeZAIJYeWlWpV3W5lBdCrSVd88iAqm/5/yoK8gYTwvmkE4pXbr8Qq12s3oNYq7ESc\n",
       "tBQXBcyJ351B7Knho037tkcr7RmqWlDKAusuDehRjQsPWsYdM+1xOqytT1nF8ylUVzgyrUYKEBE3\n",
       "TJBgRYGl1IejErqGaa6AwBO/O9vAS7hTDh0uMhdMLSsFlAM3fRkdPDLvs3t2ldtqs2JdvEpT6Vom\n",
       "I/gy4CbNRFR0e6QrYK9RNIeqZ1fQMI0UoKqBoCp8cS7zUooir8uA4kkEl4fYsgC0mL4Nq/Wvl/to\n",
       "ibX1Kp2TULIh8/y39lduzxEWy5HYY9zDlYOSzexRN0yuZUITnDvfhgXfVe58vTpZMpMSLwi2AKvr\n",
       "gNbg71/HFEm9BuUt/uFNLv+Aa3vZC7eYzG673Nc9U/+FII7oA5UBLVOrQbtOaudcOZuc7TacVsKD\n",
       "PDAwueVpt6fY3Rvm2spdFIAJQr183G/4nl6nqESQdIQpOhe1FRTrlqPZNpDiV5mbVSrUgJfGnDnb\n",
       "2uu5uNuvL37Wj7182u74D/1LnZ8eqA7or78RlVvFz1Y7eFf23DhBuJdfN3b8fOn6zTMBnn5uK48b\n",
       "O/mmxd9zY8wdFr4UYMPvzuOSxP6X8Rd1VyO+tQE2rgAAAABJRU5ErkJggg==\n",
       "\" style=\"display:inline;vertical-align:middle;\" /></a><br>"
      ],
      "text/plain": [
       "<IPython.core.display.HTML object>"
      ]
     },
     "metadata": {},
     "output_type": "display_data"
    }
   ],
   "source": [
    "interval_cc_nonmembership_is_bool = Forall((a, b),\n",
    "       Forall(x,\n",
    "              in_bool(NotInSet(x, IntervalCC(a, b)))),\n",
    "       domain = Real)"
   ]
  },
  {
   "cell_type": "code",
   "execution_count": null,
   "metadata": {},
   "outputs": [],
   "source": []
  },
  {
   "cell_type": "code",
   "execution_count": 111,
   "metadata": {},
   "outputs": [
    {
     "data": {
      "text/html": [
       "<strong id=\"pi_between_3_and_4\"><a class=\"ProveItLink\" href=\"proofs/pi_between_3_and_4/thm_proof.ipynb\">pi_between_3_and_4</a> (conjecture without proof):<br></strong> <a class=\"ProveItLink\" href=\"../__pv_it/theorems/6768be00a71557f63229ade107769e23422f09e80/theorem_expr.ipynb\"><img src=\"data:image/png;base64,iVBORw0KGgoAAAANSUhEUgAAAFkAAAAQBAMAAACPcs44AAAAMFBMVEX///8AAAAAAAAAAAAAAAAA\n",
       "AAAAAAAAAAAAAAAAAAAAAAAAAAAAAAAAAAAAAAAAAAAv3aB7AAAAD3RSTlMAIomZu0QQVHbN72bd\n",
       "Mqv0UZE7AAAACXBIWXMAAA7EAAAOxAGVKw4bAAABAUlEQVQoz2NgEFJ2ZSAK8BowMLAZMNQXEKWa\n",
       "5wEDA8d3hvwJRKnuAapmXcrAj1DNPhFTFVSMd+cDMF2/ASbBfTgBQzFMjIkTrJr1NEyC4xBEQuv/\n",
       "//+f0cQYGsGqefveQiWSTkBoJtWi270XUMUYGDdwQl0CCRNhmB3XGRo5oIrhYgxMDFDVXN9AJN90\n",
       "hFsd+CDWI4ltBKvmvcDA8h1NhvcBDwOaasYGsGr+b1DVSLYyb+BnQHMJ67t379cpMHA9gLoEyUf5\n",
       "CfwBaD4HORhoNvcGRHhnnIA4t4eBX4EBTQzoCgcgEWyMSFXckMB1Z+BTQBdjYPb/14AecVhiHpsY\n",
       "UQAAqmBKvCLlKIkAAAAASUVORK5CYII=\n",
       "\" style=\"display:inline;vertical-align:middle;\" /></a><br>"
      ],
      "text/plain": [
       "<IPython.core.display.HTML object>"
      ]
     },
     "metadata": {},
     "output_type": "display_data"
    }
   ],
   "source": [
    "pi_between_3_and_4 = number_ordering(Less(num(3), pi), Less(pi, num(4)))"
   ]
  },
  {
   "cell_type": "code",
   "execution_count": 112,
   "metadata": {},
   "outputs": [
    {
     "name": "stdout",
     "output_type": "stream",
     "text": [
      "These theorems may now be imported from the theory package: proveit.numbers.number_sets.real_numbers\n"
     ]
    }
   ],
   "source": [
    "%end theorems"
   ]
  },
  {
   "cell_type": "code",
   "execution_count": null,
   "metadata": {},
   "outputs": [],
   "source": []
  }
 ],
 "metadata": {
  "kernelspec": {
   "display_name": "Python 3",
   "language": "python",
   "name": "python3"
  }
 },
 "nbformat": 4,
 "nbformat_minor": 0
}