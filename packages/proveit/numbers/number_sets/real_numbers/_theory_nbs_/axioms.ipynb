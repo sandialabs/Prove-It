{
 "cells": [
  {
   "cell_type": "markdown",
   "metadata": {},
   "source": [
    "Axioms for the theory of <a class=\"ProveItLink\" href=\"theory.ipynb\">proveit.numbers.number_sets.real_numbers</a>\n",
    "========"
   ]
  },
  {
   "cell_type": "code",
   "execution_count": null,
   "metadata": {},
   "outputs": [],
   "source": [
    "import proveit\n",
    "# Prepare this notebook for defining the axioms of a theory:\n",
    "%axioms_notebook # Keep this at the top following 'import proveit'.\n",
    "from proveit import a, b, r, x\n",
    "from proveit.logic import And, Equals, Forall, InSet, SetOfAll\n",
    "from proveit.numbers import greater, Less, LessEq, number_ordering\n",
    "from proveit.numbers import (zero, IntervalOO, IntervalCO, IntervalOC,\n",
    "                            IntervalCC, Real, RealPos)"
   ]
  },
  {
   "cell_type": "code",
   "execution_count": null,
   "metadata": {},
   "outputs": [],
   "source": [
    "%begin axioms"
   ]
  },
  {
   "cell_type": "markdown",
   "metadata": {},
   "source": [
    "**Being in a real interval means being real and being bound appropriately between the lower and upper bounds of the interval, and we define this for each of the 4 possible types of (finite) real intervals:**"
   ]
  },
  {
   "cell_type": "code",
   "execution_count": null,
   "metadata": {},
   "outputs": [],
   "source": [
    "in_IntervalOO_def = Forall((a, b),\n",
    "       Forall(x,\n",
    "              Equals(InSet(x, IntervalOO(a, b)),\n",
    "                     And(InSet(x, Real),\n",
    "                         number_ordering(Less(a, x), Less(x, b))))),\n",
    "       domain=Real)"
   ]
  },
  {
   "cell_type": "code",
   "execution_count": null,
   "metadata": {},
   "outputs": [],
   "source": [
    "in_IntervalOC_def = \\\n",
    "    Forall((a, b),\n",
    "           Forall(x,\n",
    "                  Equals(InSet(x, IntervalOC(a, b)),\n",
    "                         And(InSet(x, Real),\n",
    "                             number_ordering(Less(a, x), LessEq(x, b))))),\n",
    "           domain=Real)"
   ]
  },
  {
   "cell_type": "code",
   "execution_count": null,
   "metadata": {},
   "outputs": [],
   "source": [
    "in_IntervalCO_def = \\\n",
    "    Forall((a, b),\n",
    "           Forall(x,\n",
    "                  Equals(InSet(x, IntervalCO(a, b)),\n",
    "                         And(InSet(x, Real),\n",
    "                             number_ordering(LessEq(a, x), Less(x, b))))),\n",
    "           domain=Real)"
   ]
  },
  {
   "cell_type": "code",
   "execution_count": null,
   "metadata": {},
   "outputs": [],
   "source": [
    "in_IntervalCC_def = \\\n",
    "    Forall((a, b),\n",
    "           Forall(x,\n",
    "                  Equals(InSet(x, IntervalCC(a, b)),\n",
    "                         And(InSet(x, Real),\n",
    "                             number_ordering(LessEq(a, x), LessEq(x, b))))),\n",
    "           domain=Real)"
   ]
  },
  {
   "cell_type": "code",
   "execution_count": null,
   "metadata": {},
   "outputs": [],
   "source": [
    "%end axioms"
   ]
  }
 ],
 "metadata": {
  "kernelspec": {
   "display_name": "Python 3 (ipykernel)",
   "language": "python",
   "name": "python3"
  }
 },
 "nbformat": 4,
 "nbformat_minor": 0
}
