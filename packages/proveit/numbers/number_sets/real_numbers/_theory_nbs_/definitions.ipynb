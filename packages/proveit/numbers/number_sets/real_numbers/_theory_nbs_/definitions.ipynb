{
 "cells": [
  {
   "cell_type": "raw",
   "metadata": {},
   "source": [
    "Conservative definitions for the theory of <a class=\"ProveItLink\" href=\"theory.ipynb\">proveit.numbers.number_sets.real_numbers</a>\n",
    "========"
   ]
  },
  {
   "cell_type": "code",
   "execution_count": null,
   "metadata": {},
   "outputs": [],
   "source": [
    "import proveit\n",
    "# Prepare this notebook for defining the conservative definitions of a theory:\n",
    "%definitions_notebook # Keep this at the top following 'import proveit'.\n",
    "\n",
    "from proveit import a, b, c, f, m, n, q, r, x, D\n",
    "from proveit import Function\n",
    "from proveit.core_expr_types import FunctionalPower\n",
    "from proveit.logic import (Implies, And, Or, Forall, Exists, NotExists, Equals, InSet, NotInSet, Set,\n",
    "                           EmptySet, Difference, SetOfAll, PowerSet, Bijections)\n",
    "from proveit.numbers import Natural, NaturalPos, Integer, Rational, Real, RealPos, RealNeg, Less, LessEq\n",
    "from proveit.numbers import zero, one\n",
    "from proveit.numbers.number_sets.integers.successor import IntSuccessor\n",
    "from proveit.numbers.number_sets.rational_numbers import Times, RationalAdd, RationalMult\n",
    "from proveit.numbers.number_sets.real_numbers import DedekindCuts, fD, RealAdd, RealMult"
   ]
  },
  {
   "cell_type": "code",
   "execution_count": null,
   "metadata": {},
   "outputs": [],
   "source": [
    "%begin defining_properties"
   ]
  },
  {
   "cell_type": "markdown",
   "metadata": {},
   "source": [
    "#### Dedekind cuts are used to define the real numbers.  A Dedekind cut is a partition of the rational numbers into one nonempty set of lesser numbers that is closed downwards with no greatest element and the remaining nonempty set of greater numbers that is closed upwards.  We use the set of lesser numbers to define the cut with the remaining set implied.  Dedekind cuts are in 1-to-1 correspondence with the real numbers where the real number of a cut corresponds with the smallest of the set of greater numbers."
   ]
  },
  {
   "cell_type": "code",
   "execution_count": null,
   "metadata": {},
   "outputs": [],
   "source": [
    "rational_less_def = Forall(\n",
    "    (q, r), \n",
    "    Equals(Less(q, r),\n",
    "           Exists((m, n), \n",
    "                  Equals(Function(FunctionalPower(IntSuccessor._operator_, n), \n",
    "                                  Times(q, m)),\n",
    "                         Times(r, m)),\n",
    "                  domain=NaturalPos,\n",
    "                  condition=InSet(Times(q, m), Integer))),\n",
    "    domain=Rational)\n",
    "less_eq_def = Forall((a, b), Equals(LessEq(a, b),\n",
    "                                    Or(Less(a, b), Equals(a, b))))\n",
    "dedekind_cuts_def = Equals(\n",
    "    DedekindCuts, \n",
    "    SetOfAll(D, D, \n",
    "             conditions = [Forall((a, x), InSet(x, D),\n",
    "                                  domains=(D, Rational),\n",
    "                                  condition=LessEq(x, a)),   \n",
    "                           NotExists(a, Forall(x, LessEq(x, a),\n",
    "                                               domain=D),\n",
    "                                     domain=D)],\n",
    "             domain=Difference(PowerSet(Rational), Set(EmptySet, Rational))))\n",
    "dedekind_cuts_to_reals = Exists(\n",
    "    f, Forall(\n",
    "        D, Forall((a, b), And(Less(a, fD), LessEq(fD, b),\n",
    "                              Implies(Forall(x, LessEq(b, x),\n",
    "                                             domain=Difference(Rational, D)),\n",
    "                                      Equals(fD, b))).with_wrapping_at(3),\n",
    "                  domains=(Rational, Difference(Rational, D))).with_wrapping(),\n",
    "        domain=DedekindCuts).with_wrapping(),\n",
    "    domain=Bijections(DedekindCuts, Real))"
   ]
  },
  {
   "cell_type": "code",
   "execution_count": null,
   "metadata": {},
   "outputs": [],
   "source": [
    "real_pos_def = Equals(RealPos, \n",
    "                      SetOfAll(r, r, condition=Less(zero, r),\n",
    "                               domain=Real))"
   ]
  },
  {
   "cell_type": "code",
   "execution_count": null,
   "metadata": {},
   "outputs": [],
   "source": [
    "real_neg_def = Equals(RealNeg, \n",
    "                      SetOfAll(r, r, condition=Less(r, zero),\n",
    "                               domain=Real))"
   ]
  },
  {
   "cell_type": "code",
   "execution_count": null,
   "metadata": {},
   "outputs": [],
   "source": [
    "rational_add = Forall(\n",
    "    (a, b), Equals(RealAdd(a, b), RationalAdd(a, b)), \n",
    "    domain=Rational)\n",
    "add_commutivity = Forall(\n",
    "    (a, b), Equals(RealAdd(a, b), RealAdd(b, a)),\n",
    "    domain=Real)\n",
    "add_monotonicity = Forall(\n",
    "    (a, b, c), Less(RealAdd(a, b), RealAdd(a, c)),\n",
    "    domain=Real, condition=Less(b, c))"
   ]
  },
  {
   "cell_type": "code",
   "execution_count": null,
   "metadata": {},
   "outputs": [],
   "source": [
    "rational_mult = Forall(\n",
    "    (a, b), Equals(RealMult(a, b), RationalMult(a, b)),\n",
    "    domains=(Rational, Rational))\n",
    "mult_commutivity = Forall(\n",
    "    (a, b), Equals(RealMult(a, b), RealMult(b, a)),\n",
    "    domain=Real)\n",
    "zero_mult = Forall(\n",
    "    a, Equals(RealMult(a, zero), zero), domain=Real)\n",
    "pos_mult_monotonicity = Forall(\n",
    "    (a, b, c), Less(RealMult(a, b), RealMult(a, c)),\n",
    "    domain=RealPos, condition=Less(b, c))\n",
    "neg_mult_monotonicity = Forall(\n",
    "    (a, b, c), Less(RealMult(a, c), RealMult(a, b)),\n",
    "    domain=RealNeg, condition=Less(b, c))"
   ]
  },
  {
   "cell_type": "code",
   "execution_count": null,
   "metadata": {},
   "outputs": [],
   "source": [
    "%end defining_properties"
   ]
  }
 ],
 "metadata": {
  "kernelspec": {
   "display_name": "Python 3 (ipykernel)",
   "language": "python",
   "name": "python3"
  }
 },
 "nbformat": 4,
 "nbformat_minor": 0
}
