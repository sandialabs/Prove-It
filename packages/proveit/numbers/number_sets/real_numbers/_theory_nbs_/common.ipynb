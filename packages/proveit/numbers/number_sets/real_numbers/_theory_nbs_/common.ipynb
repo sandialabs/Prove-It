{
 "cells": [
  {
   "cell_type": "markdown",
   "metadata": {},
   "source": [
    "Common expressions for the theory of <a class=\"ProveItLink\" href=\"theory.ipynb\">proveit.numbers.number_sets.real_numbers</a>\n",
    "========"
   ]
  },
  {
   "cell_type": "code",
   "execution_count": 1,
   "metadata": {},
   "outputs": [
    {
     "name": "stdout",
     "output_type": "stream",
     "text": [
      "Defining common sub-expressions for theory 'proveit.numbers.number_sets.real_numbers'\n",
      "Subsequent end-of-cell assignments will define common sub-expressions\n",
      "%end_common will finalize the definitions\n"
     ]
    }
   ],
   "source": [
    "import proveit\n",
    "# Prepare this notebook for defining the common expressions of a theory:\n",
    "%common_expressions_notebook # Keep this at the top following 'import proveit'.\n",
    "from proveit.numbers.number_sets.real_numbers.real import (\n",
    "    RealSet, RealPosSet, RealNegSet, RealNonNegSet, RealNonPosSet, RealNonZeroSet)\n",
    "from proveit.numbers.number_sets.real_numbers.irrational import IrrationalLiteral\n",
    "%begin common"
   ]
  },
  {
   "cell_type": "code",
   "execution_count": 2,
   "metadata": {},
   "outputs": [
    {
     "data": {
      "text/html": [
       "<strong id=\"Real\">Real:</strong> <a class=\"ProveItLink\" href=\"../__pv_it/common/93cac87a1a47e613f7a83b23ef7891599a1a4cca0/common_expr.ipynb\"><img src=\"data:image/png;base64,iVBORw0KGgoAAAANSUhEUgAAAA8AAAAPBAMAAADJ+Ih5AAAAMFBMVEX///8AAAAAAAAAAAAAAAAA\n",
       "AAAAAAAAAAAAAAAAAAAAAAAAAAAAAAAAAAAAAAAAAAAv3aB7AAAAD3RSTlMAZs3vu90iq0QQiTKZ\n",
       "VHZ+Ip2vAAAACXBIWXMAAA7EAAAOxAGVKw4bAAAAX0lEQVQI12MQMvFXNRFgAAKHdIZ2kQkgRhYD\n",
       "C3cBhMGToABjOEAY7DOhUlsuJYAYyapfX4K1ZwlOYoAwWCZCDMziPuAJYTCcToEypvCB5BxyGBgF\n",
       "PBgYgLa7MbjoXwAAK2IYKL6KYFkAAAAASUVORK5CYII=\n",
       "\" style=\"display:inline;vertical-align:middle;\" /></a><br>"
      ],
      "text/plain": [
       "<IPython.core.display.HTML object>"
      ]
     },
     "metadata": {},
     "output_type": "display_data"
    }
   ],
   "source": [
    "Real = RealSet()"
   ]
  },
  {
   "cell_type": "code",
   "execution_count": 3,
   "metadata": {},
   "outputs": [
    {
     "data": {
      "text/html": [
       "<strong id=\"RealPos\">RealPos:</strong> <a class=\"ProveItLink\" href=\"../__pv_it/common/174917e13d50b91c585b7f765a2896383a3ae8010/common_expr.ipynb\"><img src=\"data:image/png;base64,iVBORw0KGgoAAAANSUhEUgAAABsAAAASBAMAAABY9biuAAAAMFBMVEX///8AAAAAAAAAAAAAAAAA\n",
       "AAAAAAAAAAAAAAAAAAAAAAAAAAAAAAAAAAAAAAAAAAAv3aB7AAAAD3RSTlMAZs3vu90iq0QQiTKZ\n",
       "VHZ+Ip2vAAAACXBIWXMAAA7EAAAOxAGVKw4bAAAAdklEQVQY02NggAMeBhTAgoUrZOKvaiKAkHVI\n",
       "Z2gXmYDgZjGwcBcwHHFxdnERAHN5EhSQZXkSHJC57DMLkLlbLiUguMmqX18iXOWQJTgJyTEOWSwT\n",
       "BZC53Ac8kbkMp1NQuFP4EKodchgYBTxgPKCP3Bhc9C9AeAAVYxpD6z3f8gAAAABJRU5ErkJggg==\n",
       "\" style=\"display:inline;vertical-align:middle;\" /></a><br>"
      ],
      "text/plain": [
       "<IPython.core.display.HTML object>"
      ]
     },
     "metadata": {},
     "output_type": "display_data"
    }
   ],
   "source": [
    "RealPos = RealPosSet()"
   ]
  },
  {
   "cell_type": "code",
   "execution_count": 4,
   "metadata": {},
   "outputs": [
    {
     "data": {
      "text/html": [
       "<strong id=\"RealNeg\">RealNeg:</strong> <a class=\"ProveItLink\" href=\"../__pv_it/common/22049b0ceade1b5eb1b88ec78deb486d547c9b580/common_expr.ipynb\"><img src=\"data:image/png;base64,iVBORw0KGgoAAAANSUhEUgAAABsAAAAPBAMAAADnvanrAAAAMFBMVEX///8AAAAAAAAAAAAAAAAA\n",
       "AAAAAAAAAAAAAAAAAAAAAAAAAAAAAAAAAAAAAAAAAAAv3aB7AAAAD3RSTlMAZs3vu90iq0QQiTKZ\n",
       "VHZ+Ip2vAAAACXBIWXMAAA7EAAAOxAGVKw4bAAAAaklEQVQI12MQMvFXNRFggAOHdIZ2kQkIbhYD\n",
       "C3cBwxYXIEgAc3kSFJBleRIckLnsMwuQuVsuJSC4yapfXyJZlCU4iQGZyzIR2RlZ3Ac8kbkMp1NQ\n",
       "uFP4EKodchgYBTxgPKCP3Bhc9C9AeAAanhpMGIeInwAAAABJRU5ErkJggg==\n",
       "\" style=\"display:inline;vertical-align:middle;\" /></a><br>"
      ],
      "text/plain": [
       "<IPython.core.display.HTML object>"
      ]
     },
     "metadata": {},
     "output_type": "display_data"
    }
   ],
   "source": [
    "RealNeg = RealNegSet()"
   ]
  },
  {
   "cell_type": "code",
   "execution_count": 5,
   "metadata": {},
   "outputs": [
    {
     "data": {
      "text/html": [
       "<strong id=\"RealNonNeg\">RealNonNeg:</strong> <a class=\"ProveItLink\" href=\"../__pv_it/common/e6ce8d0e09d7926fae58282b7d1defa502e2c9ba0/common_expr.ipynb\"><img src=\"data:image/png;base64,iVBORw0KGgoAAAANSUhEUgAAACQAAAATBAMAAAAKUbK+AAAAMFBMVEX///8AAAAAAAAAAAAAAAAA\n",
       "AAAAAAAAAAAAAAAAAAAAAAAAAAAAAAAAAAAAAAAAAAAv3aB7AAAAD3RSTlMAZs3vu90iq0QQiTKZ\n",
       "VHZ+Ip2vAAAACXBIWXMAAA7EAAAOxAGVKw4bAAAAxklEQVQY02NggIItDWBq1SsGOOBccgFIMj7g\n",
       "cECIMTwRYGBg3sDwDUmIQeQBQ/4EBlsGIRN/VRMBiJhwwv4JDIEMDA7pDO0iE0AiszwYgEJ2QKEs\n",
       "BhbuAqBITjUDSONfsBBPggIDQzpQBGo8WMiBYfoxkF6+BxwFYCH2mQUMMyE2rHozASy05VICsmMY\n",
       "HJJVv75kQBXKEpwE8qMLECTAhFgmCqCr4j7giS7EcDoFQ2gKH6pOhxwGRgEPZBFgSLgxuOhfQIgA\n",
       "AJy2M/nBMnwOAAAAAElFTkSuQmCC\n",
       "\" style=\"display:inline;vertical-align:middle;\" /></a><br>"
      ],
      "text/plain": [
       "<IPython.core.display.HTML object>"
      ]
     },
     "metadata": {},
     "output_type": "display_data"
    }
   ],
   "source": [
    "RealNonNeg = RealNonNegSet()"
   ]
  },
  {
   "cell_type": "code",
   "execution_count": 6,
   "metadata": {},
   "outputs": [
    {
     "data": {
      "text/html": [
       "<strong id=\"RealNonPos\">RealNonPos:</strong> <a class=\"ProveItLink\" href=\"../__pv_it/common/ea878150e32a61a5997afc5b4b4b12437d726a470/common_expr.ipynb\"><img src=\"data:image/png;base64,iVBORw0KGgoAAAANSUhEUgAAACQAAAATBAMAAAAKUbK+AAAAMFBMVEX///8AAAAAAAAAAAAAAAAA\n",
       "AAAAAAAAAAAAAAAAAAAAAAAAAAAAAAAAAAAAAAAAAAAv3aB7AAAAD3RSTlMAZs3vu90iq0QQiTKZ\n",
       "VHZ+Ip2vAAAACXBIWXMAAA7EAAAOxAGVKw4bAAAAwUlEQVQY02NgQAJXEhhWvWJAEXnAwPiAwwFJ\n",
       "RESAgYF5A8M3hMiTC0AifwKDLYOQib+qCVB+M0iEYf8EhkAGBod0hnaRCQy8XhMgQnZAoSwGFu4C\n",
       "BgYOkBhQ41+wEE+CAlAFd00C1HiwENhmtvIJfA84CsBC7DMLwJayMTCsejMBLLTlUgKKmx2SVb++\n",
       "ZEAVyhKcBKS2uABBAkyIZaIAuiruA57oQgynUzCEpvCh6nTIYWAU8EAWAYaEG4OL/gWECAA9dzRS\n",
       "fBS6gAAAAABJRU5ErkJggg==\n",
       "\" style=\"display:inline;vertical-align:middle;\" /></a><br>"
      ],
      "text/plain": [
       "<IPython.core.display.HTML object>"
      ]
     },
     "metadata": {},
     "output_type": "display_data"
    }
   ],
   "source": [
    "RealNonPos = RealNonPosSet()"
   ]
  },
  {
   "cell_type": "code",
   "execution_count": 7,
   "metadata": {},
   "outputs": [
    {
     "data": {
      "text/html": [
       "<strong id=\"RealNonZero\">RealNonZero:</strong> <a class=\"ProveItLink\" href=\"../__pv_it/common/20bbf1edf92c40729160816f93bf2c7151ba1b200/common_expr.ipynb\"><img src=\"data:image/png;base64,iVBORw0KGgoAAAANSUhEUgAAACQAAAAUCAMAAADSpG8HAAAAOVBMVEX///8AAAAAAAAAAAAAAAAA\n",
       "AAAAAAAAAAAAAAAAAAAAAAAAAAAAAAAAAAAAAAAAAAAAAAAAAAAAAAACXHtMAAAAEnRSTlMAZs3v\n",
       "u90iq0QQiTKZVHbt5clcYUjMAAAACXBIWXMAAA7EAAAOxAGVKw4bAAAAyUlEQVQoz4WSiw7DIAhF\n",
       "QfGtbPP/P3aKtjbZbEmkMZzC9SrALgI8R/SSI8c9Y13PyACetpCzPevUUrUbxssQW7swXQCVJqrK\n",
       "aEIpZ+rxagshCWR6gUSAd0jngXj8MCDNA4rySe44/dQ6xtWyoGxBzXHvD8m4i/AFzQZnR+Bugewm\n",
       "5EKYxaWtm5nDghIVNQwp/MeTBmllquHZQMF/KCKGo1b8Dmo6EO/uW6CUr3o3EORk6RFqLjPeQrm/\n",
       "HQTyG2S8AmoWESm5pt/4AsgzBeMYRavtAAAAAElFTkSuQmCC\n",
       "\" style=\"display:inline;vertical-align:middle;\" /></a><br>"
      ],
      "text/plain": [
       "<IPython.core.display.HTML object>"
      ]
     },
     "metadata": {},
     "output_type": "display_data"
    }
   ],
   "source": [
    "RealNonZero = RealNonZeroSet()"
   ]
  },
  {
   "cell_type": "code",
   "execution_count": 8,
   "metadata": {},
   "outputs": [
    {
     "data": {
      "text/html": [
       "<strong id=\"e\">e:</strong> <a class=\"ProveItLink\" href=\"../__pv_it/common/e531ffa54fd897084533764a4a14f19f590674f80/common_expr.ipynb\"><img src=\"data:image/png;base64,iVBORw0KGgoAAAANSUhEUgAAAAkAAAAKBAMAAACUK2mNAAAAMFBMVEX///8AAAAAAAAAAAAAAAAA\n",
       "AAAAAAAAAAAAAAAAAAAAAAAAAAAAAAAAAAAAAAAAAAAv3aB7AAAAD3RSTlMAEKvv3ZlUZiK7Mol2\n",
       "RM0NpfRjAAAACXBIWXMAAA7EAAAOxAGVKw4bAAAAQUlEQVQI12NgEDIJYGBgNEk3YmBgcmDoF2Dg\n",
       "L2DgLGBY/////w0M6zM6OoAiBxiAgNWQgaGBgdG59giQy+r/hgEAlNoO2zfEs3gAAAAASUVORK5C\n",
       "YII=\n",
       "\" style=\"display:inline;vertical-align:middle;\" /></a><br>"
      ],
      "text/plain": [
       "<IPython.core.display.HTML object>"
      ]
     },
     "metadata": {},
     "output_type": "display_data"
    }
   ],
   "source": [
    "e = IrrationalLiteral('e', r'\\mathsf{e}')"
   ]
  },
  {
   "cell_type": "code",
   "execution_count": 9,
   "metadata": {},
   "outputs": [
    {
     "data": {
      "text/html": [
       "<strong id=\"pi\">pi:</strong> <a class=\"ProveItLink\" href=\"../__pv_it/common/246c206266ac5b48800e508d580f91767b24c2df0/common_expr.ipynb\"><img src=\"data:image/png;base64,iVBORw0KGgoAAAANSUhEUgAAAAwAAAAJBAMAAAD0ltBnAAAALVBMVEX///8AAAAAAAAAAAAAAAAA\n",
       "AAAAAAAAAAAAAAAAAAAAAAAAAAAAAAAAAAAAAADAOrOgAAAADnRSTlMAie+ZRFQyZnYiu6sQ3Ump\n",
       "3QUAAAAJcEhZcwAADsQAAA7EAZUrDhsAAAA+SURBVAjXY2AQevfu3WMGRpHA9LYEhlSGTo4EBiBY\n",
       "wH0ASLJt4AVxmAv4QNS5A3wOQKqXgU8ASC1l4BZgAAD4TAy/WtcQ8AAAAABJRU5ErkJggg==\n",
       "\" style=\"display:inline;vertical-align:middle;\" /></a><br>"
      ],
      "text/plain": [
       "<IPython.core.display.HTML object>"
      ]
     },
     "metadata": {},
     "output_type": "display_data"
    }
   ],
   "source": [
    "pi = IrrationalLiteral('pi', r'\\pi')"
   ]
  },
  {
   "cell_type": "code",
   "execution_count": 10,
   "metadata": {},
   "outputs": [
    {
     "name": "stdout",
     "output_type": "stream",
     "text": [
      "These common expressions may now be imported from the theory package: proveit.numbers.number_sets.real_numbers\n"
     ]
    }
   ],
   "source": [
    "%end common"
   ]
  },
  {
   "cell_type": "code",
   "execution_count": null,
   "metadata": {},
   "outputs": [],
   "source": []
  }
 ],
 "metadata": {
  "kernelspec": {
   "display_name": "Python 3",
   "language": "python",
   "name": "python3"
  }
 },
 "nbformat": 4,
 "nbformat_minor": 0
}