{
 "cells": [
  {
   "cell_type": "markdown",
   "metadata": {},
   "source": [
    "Demonstrations for the theory of <a class=\"ProveItLink\" href=\"theory.ipynb\">proveit.numbers.number_sets.real_numbers</a>\n",
    "========"
   ]
  },
  {
   "cell_type": "code",
   "execution_count": 1,
   "metadata": {},
   "outputs": [],
   "source": [
    "import proveit\n",
    "from proveit import ProofFailure\n",
    "from proveit import a, b, c, n, r, x, y\n",
    "from proveit.logic import Boolean, InSet, NotEquals, NotInSet, Or, ProperSubset\n",
    "from proveit.numbers import Less, LessEq, greater, greater_eq, Neg, number_ordering\n",
    "from proveit.numbers import (\n",
    "    Complex, Rational, RationalNonZero, RationalPos, RationalNeg,\n",
    "    RationalNonNeg, RationalNonPos, IntervalCC, IntervalCO, IntervalOC,\n",
    "    IntervalOO, Real, RealNonZero, RealPos, RealNeg, RealNonNeg, RealNonPos)\n",
    "from proveit.numbers import zero, one, two, three, four, five, six, seven, eight, nine\n",
    "%begin demonstrations"
   ]
  },
  {
   "cell_type": "markdown",
   "metadata": {},
   "source": [
    "# Real Numbers and Real Intervals<br>$\\mathbf{R}$, $\\mathbf{R}^+$, $\\mathbf{R}^-$, $\\mathbf{R}^{\\ge 0}$, $[a, b]$, $[a, b)$, $(a, b]$, $(a, b)$"
   ]
  },
  {
   "cell_type": "markdown",
   "metadata": {},
   "source": [
    "<div style=\"line-height:1.4; font-size:14pt\">\n",
    "\n",
    "<a href='#introduction'>Introduction</a><br>\n",
    "<a href='#simple_expressions'>Simple Expressions involving the Real number sets and real number intervals $\\mathbf{R}$, $[a, b]$, etc</a><br>\n",
    "<a href='#common_attributes'>Common Attributes of the Real number NumberSets and real number intervals</a><br>\n",
    "<a href='#axioms'>Axioms</a><br>\n",
    "<a href='#theorems'>Theorems</a><br>\n",
    "<a href='#further_demonstrations'>Further Demonstrations</a><br>\n",
    "    <ol>\n",
    "        <li><a href='#demo01'>$2\\in(1, 3]$ and $2\\in[1, 3]$</a></li>\n",
    "        <li><a href='#demo02'>Proving $[1,2]\\subseteq \\mathbb{R}^{+}$</a></li>\n",
    "        <li><a href='#demo03'>Proving $[1,4]\\subset \\mathbb{R}^{+}$</a></li>\n",
    "    </ol>\n",
    "<a href='#misc_testing'>Misc Testing (temporary)</a><br>\n",
    "</div>\n"
   ]
  },
  {
   "cell_type": "markdown",
   "metadata": {},
   "source": [
    "## Introduction <a id='introduction'></a>"
   ]
  },
  {
   "cell_type": "markdown",
   "metadata": {},
   "source": [
    "<font size=3><br>The real numbers (or more simply, the “reals”), symbolized by $\\mathbb{R}$, consist of the set of all rational numbers, $\\mathbb{Q}$, such as $-10$ or $\\frac{4}{3}$, and the set of all irrational numbers, such as $\\pi$ and $\\sqrt{2}$.<br>\n",
    "The reals, various common subsets of the reals, and various open, closed, and half-open real intervals are ubiquitous in proofs and are easily represented and accessed in Prove-It.</font>"
   ]
  },
  {
   "cell_type": "markdown",
   "metadata": {},
   "source": [
    "## Simple Expressions Involving Real NumberSets and Real Intervals<a id='simple_expressions'></a>"
   ]
  },
  {
   "cell_type": "markdown",
   "metadata": {},
   "source": [
    "<font size=3>The real numbers $\\mathbb{R}$ and some standard real-valued subsets of the reals have standard names in Prove-It and can be imported and called upon as desired.</font>"
   ]
  },
  {
   "cell_type": "code",
   "execution_count": 2,
   "metadata": {},
   "outputs": [
    {
     "data": {
      "text/html": [
       "<a class=\"ProveItLink\" href=\"../__pv_it/common/93cac87a1a47e613f7a83b23ef7891599a1a4cca0/expr.ipynb\"><img src=\"data:image/png;base64,iVBORw0KGgoAAAANSUhEUgAAAA8AAAAPBAMAAADJ+Ih5AAAAMFBMVEX///8AAAAAAAAAAAAAAAAA\n",
       "AAAAAAAAAAAAAAAAAAAAAAAAAAAAAAAAAAAAAAAAAAAv3aB7AAAAD3RSTlMAZs3vu90iq0QQiTKZ\n",
       "VHZ+Ip2vAAAACXBIWXMAAA7EAAAOxAGVKw4bAAAAX0lEQVQI12MQMvFXNRFgAAKHdIZ2kQkgRhYD\n",
       "C3cBhMGToABjOEAY7DOhUlsuJYAYyapfX4K1ZwlOYoAwWCZCDMziPuAJYTCcToEypvCB5BxyGBgF\n",
       "PBgYgLa7MbjoXwAAK2IYKL6KYFkAAAAASUVORK5CYII=\n",
       "\" style=\"display:inline;vertical-align:middle;\" /></a>"
      ],
      "text/plain": [
       "Real"
      ]
     },
     "metadata": {},
     "output_type": "display_data"
    }
   ],
   "source": [
    "# The real numbers\n",
    "Real"
   ]
  },
  {
   "cell_type": "code",
   "execution_count": 3,
   "metadata": {},
   "outputs": [
    {
     "data": {
      "text/html": [
       "<a class=\"ProveItLink\" href=\"../__pv_it/common/174917e13d50b91c585b7f765a2896383a3ae8010/expr.ipynb\"><img src=\"data:image/png;base64,iVBORw0KGgoAAAANSUhEUgAAABsAAAASBAMAAABY9biuAAAAMFBMVEX///8AAAAAAAAAAAAAAAAA\n",
       "AAAAAAAAAAAAAAAAAAAAAAAAAAAAAAAAAAAAAAAAAAAv3aB7AAAAD3RSTlMAZs3vu90iq0QQiTKZ\n",
       "VHZ+Ip2vAAAACXBIWXMAAA7EAAAOxAGVKw4bAAAAdklEQVQY02NggAMeBhTAgoUrZOKvaiKAkHVI\n",
       "Z2gXmYDgZjGwcBcwHHFxdnERAHN5EhSQZXkSHJC57DMLkLlbLiUguMmqX18iXOWQJTgJyTEOWSwT\n",
       "BZC53Ac8kbkMp1NQuFP4EKodchgYBTxgPKCP3Bhc9C9AeAAVYxpD6z3f8gAAAABJRU5ErkJggg==\n",
       "\" style=\"display:inline;vertical-align:middle;\" /></a>"
      ],
      "text/plain": [
       "RealPos"
      ]
     },
     "metadata": {},
     "output_type": "display_data"
    }
   ],
   "source": [
    "# The positive real numbers\n",
    "RealPos"
   ]
  },
  {
   "cell_type": "code",
   "execution_count": 4,
   "metadata": {},
   "outputs": [
    {
     "data": {
      "text/html": [
       "<a class=\"ProveItLink\" href=\"../__pv_it/common/22049b0ceade1b5eb1b88ec78deb486d547c9b580/expr.ipynb\"><img src=\"data:image/png;base64,iVBORw0KGgoAAAANSUhEUgAAABsAAAAPBAMAAADnvanrAAAAMFBMVEX///8AAAAAAAAAAAAAAAAA\n",
       "AAAAAAAAAAAAAAAAAAAAAAAAAAAAAAAAAAAAAAAAAAAv3aB7AAAAD3RSTlMAZs3vu90iq0QQiTKZ\n",
       "VHZ+Ip2vAAAACXBIWXMAAA7EAAAOxAGVKw4bAAAAaklEQVQI12MQMvFXNRFggAOHdIZ2kQkIbhYD\n",
       "C3cBwxYXIEgAc3kSFJBleRIckLnsMwuQuVsuJSC4yapfXyJZlCU4iQGZyzIR2RlZ3Ac8kbkMp1NQ\n",
       "uFP4EKodchgYBTxgPKCP3Bhc9C9AeAAanhpMGIeInwAAAABJRU5ErkJggg==\n",
       "\" style=\"display:inline;vertical-align:middle;\" /></a>"
      ],
      "text/plain": [
       "RealNeg"
      ]
     },
     "metadata": {},
     "output_type": "display_data"
    }
   ],
   "source": [
    "# The negative real numbers\n",
    "RealNeg"
   ]
  },
  {
   "cell_type": "code",
   "execution_count": 5,
   "metadata": {},
   "outputs": [
    {
     "data": {
      "text/html": [
       "<a class=\"ProveItLink\" href=\"../__pv_it/common/e6ce8d0e09d7926fae58282b7d1defa502e2c9ba0/expr.ipynb\"><img src=\"data:image/png;base64,iVBORw0KGgoAAAANSUhEUgAAACQAAAATBAMAAAAKUbK+AAAAMFBMVEX///8AAAAAAAAAAAAAAAAA\n",
       "AAAAAAAAAAAAAAAAAAAAAAAAAAAAAAAAAAAAAAAAAAAv3aB7AAAAD3RSTlMAZs3vu90iq0QQiTKZ\n",
       "VHZ+Ip2vAAAACXBIWXMAAA7EAAAOxAGVKw4bAAAAxklEQVQY02NggIItDWBq1SsGOOBccgFIMj7g\n",
       "cECIMTwRYGBg3sDwDUmIQeQBQ/4EBlsGIRN/VRMBiJhwwv4JDIEMDA7pDO0iE0AiszwYgEJ2QKEs\n",
       "BhbuAqBITjUDSONfsBBPggIDQzpQBGo8WMiBYfoxkF6+BxwFYCH2mQUMMyE2rHozASy05VICsmMY\n",
       "HJJVv75kQBXKEpwE8qMLECTAhFgmCqCr4j7giS7EcDoFQ2gKH6pOhxwGRgEPZBFgSLgxuOhfQIgA\n",
       "AJy2M/nBMnwOAAAAAElFTkSuQmCC\n",
       "\" style=\"display:inline;vertical-align:middle;\" /></a>"
      ],
      "text/plain": [
       "RealNonNeg"
      ]
     },
     "metadata": {},
     "output_type": "display_data"
    }
   ],
   "source": [
    "# The non-negative real numbers [0, Inf]\n",
    "RealNonNeg"
   ]
  },
  {
   "cell_type": "code",
   "execution_count": 6,
   "metadata": {},
   "outputs": [
    {
     "data": {
      "text/html": [
       "<a class=\"ProveItLink\" href=\"../__pv_it/theorems/c34caf191836023a2e00a70eca44f5973ba282830/expr.ipynb\"><img src=\"data:image/png;base64,iVBORw0KGgoAAAANSUhEUgAAAEoAAAAUBAMAAADYerbFAAAAMFBMVEX///8AAAAAAAAAAAAAAAAA\n",
       "AAAAAAAAAAAAAAAAAAAAAAAAAAAAAAAAAAAAAAAAAAAv3aB7AAAAD3RSTlMAEHarMolUmd1mIs3v\n",
       "RLtmgJDEAAAACXBIWXMAAA7EAAAOxAGVKw4bAAABL0lEQVQoz2NgwA38LoCpUFUGfIAxLgFIcirw\n",
       "PsCrjEFvAgMDjwPDL/yqGOYpMKwXYDiGTWr2ufc7zk2AsOcs8Bdg6MRqwoPFDJfnCYBYom8ZgKoO\n",
       "YVe1lIGPxQDIWG7CALLxGy5V7As2MDAsBirCcD3Ti45uhKoHDMJVYFEFXgMkRbybBBBmMQsaMAhC\n",
       "eKHqQHEhZZFQUOgxrBZAstEvewGKIwqYjNgbQIxdCHet2fFDEUUR5wLOj8zgwNmA5PqZ0qB4fAcE\n",
       "ECNZGNgh0iwnOjo6+qCq+CQnoPmbRwEStw+QzGIpeIim6v4CRrC7G5DDq2Qdihq5CzYMrGCWErIq\n",
       "OSYUK/MdaxiugVncCXBVyxk4J7xFViWuxFYJkWa0uwhPE68Y3u1PwJ6YeOOgMYQBAHwnWgIrvHIs\n",
       "AAAAAElFTkSuQmCC\n",
       "\" style=\"display:inline;vertical-align:middle;\" /></a>"
      ],
      "text/plain": [
       "x in RealNonNeg"
      ]
     },
     "metadata": {},
     "output_type": "display_data"
    }
   ],
   "source": [
    "# An example claim that x is a non-negative real number\n",
    "InSet(x, RealNonNeg)"
   ]
  },
  {
   "cell_type": "markdown",
   "metadata": {},
   "source": [
    "<font size=3>Open, closed, and half-open real intervals are also easy to express and easy to utilize in larger expressions, with the following constructions:\n",
    "<table>\n",
    "    <thead><td>real interval</td><td>Prove-It construction</td></thead>\n",
    "    <tr><td style=\"font-family:courier;text-align:center\">(a, b)</td>\n",
    "        <td style=\"font-family:courier;text-align:left\">IntervalOO(a, b)</td></tr>\n",
    "    <tr><td style=\"font-family:courier;text-align:center\">(a, b]</td>\n",
    "        <td style=\"font-family:courier;text-align:left\">IntervalOC(a, b)</td></tr>\n",
    "    <tr><td style=\"font-family:courier;text-align:center\">[a, b)</td>\n",
    "        <td style=\"font-family:courier;text-align:left\">IntervalCO(a, b)</td></tr>\n",
    "    <tr><td style=\"font-family:courier;text-align:center\">[a, b]</td>\n",
    "        <td style=\"font-family:courier;text-align:left\">IntervalCC(a, b)</td></tr>\n",
    "</table>\n",
    "</font>\n",
    "For example:"
   ]
  },
  {
   "cell_type": "code",
   "execution_count": 7,
   "metadata": {},
   "outputs": [
    {
     "data": {
      "text/html": [
       "<a class=\"ProveItLink\" href=\"../__pv_it/demonstrations/16fda408e47437f3fe6698724aea468e942b0b860/expr.ipynb\"><img src=\"data:image/png;base64,iVBORw0KGgoAAAANSUhEUgAAAFEAAAAVBAMAAADMaB9/AAAAMFBMVEX///8AAAAAAAAAAAAAAAAA\n",
       "AAAAAAAAAAAAAAAAAAAAAAAAAAAAAAAAAAAAAAAAAAAv3aB7AAAAD3RSTlMAEHarMolUmd1mIs3v\n",
       "RLtmgJDEAAAACXBIWXMAAA7EAAAOxAGVKw4bAAABgUlEQVQoz2NgwAoWEODDAVMCmsAlXCpTkdiM\n",
       "bxqAWidgV8i4AZnHXQAkNmJXyY5iAj/IKdNRXfeioxvM4EERvi8AEhJAEuHdBONlo6iMADsBaI2Q\n",
       "skgo2Kur4dpKgZjLVEsBwtusZMbAwGrAwFDAZMTeABLZBTdlJxDfWcD3EeK93wLyCxg4NzBwLuD8\n",
       "yAz2AcLDbUD5kwwQ/QxsHxl4FBjYDjCwMLBDlLCc6Ojo6AMzzwK9/4GBIwASEBsY+AMYWD6AvAVx\n",
       "D+MDuJlAlTwPGOQvgDlADfcTGHgPgEJhASPYLw3ItssrMMyHB2e9AANbA4PcBRsGVrCQElzlI6DK\n",
       "BAZrtgWMIJUOQDczcD5gyHesYbgGiTV4sghmYOBTYGtnZ5AHeoF5Ah8wOtkDGMSV2CohShjtLkJV\n",
       "egA5RiGLVRg4GoEs00qQay8gRwZvHDQ2ORxgQokwxgrsKYSzAMYKgDEqcaTPV7DkB41QBq4HOFTK\n",
       "wVIXTIAPV/bgUkAT0GJgAAD3JEr38QHt3wAAAABJRU5ErkJggg==\n",
       "\" style=\"display:inline;vertical-align:middle;\" /></a>"
      ],
      "text/plain": [
       "x in (a,b)"
      ]
     },
     "metadata": {},
     "output_type": "display_data"
    }
   ],
   "source": [
    "# Claim that x is a real number in the open interval (a, b)\n",
    "# Notice the IntervalOO uses two 'ohs', not zeros, standing\n",
    "# for 'open' at each end\n",
    "InSet(x, IntervalOO(a, b))"
   ]
  },
  {
   "cell_type": "code",
   "execution_count": 8,
   "metadata": {},
   "outputs": [
    {
     "data": {
      "text/html": [
       "<a class=\"ProveItLink\" href=\"../__pv_it/demonstrations/94653d4d9ff51ae949f362ccb12e282fb84062d90/expr.ipynb\"><img src=\"data:image/png;base64,iVBORw0KGgoAAAANSUhEUgAAAE4AAAAVBAMAAAAazcUaAAAAMFBMVEX///8AAAAAAAAAAAAAAAAA\n",
       "AAAAAAAAAAAAAAAAAAAAAAAAAAAAAAAAAAAAAAAAAAAv3aB7AAAAD3RSTlMAEHaZZquJVO8y3btE\n",
       "zSKD2s2pAAAACXBIWXMAAA7EAAAOxAGVKw4bAAABZUlEQVQoz2NgwAYeoPG1VmJVxlSALpKDVV0Z\n",
       "Mke6C5c6xgso3Mu41DE7oHC/o6vTXrUKbBIHijKej2jqzipCGbUo6tgWgNUxKjswiIL4fBdhMmYg\n",
       "XpieAoTHG6RaAFTHxt7A4A/mwwPtChCfeMD9EcKTv8j4D6huOvMChmiwOrhNy4FebmFgXgDh1Qsw\n",
       "NAHVCXAoAGkgmLEKCDaAWD1AL39g4EqAqLNlYPgG8sd5Ac6f4PCEmwdUx7GBQf4AhLeMgec7SJ0t\n",
       "A1MDiM+FbK+8AsTR4OBj/ghSt5WBOwAcqQowdZuA6goYYtkfMIJ4PxkkHEDqTBnOQ8L/OkxdKgMD\n",
       "twL7YmYGeVCwhzBsBoezaJI9JERE9whA1M0C+jco86kmA9dCkHCyAzQ+cqHmHNsFiTeuCTCTCxHp\n",
       "iu0CYztaOmAxgLESEOq4FFgT0BPMPlgCU0CoY3eywUhYsKBkIpCe+RTQ80cPANBCTdLyU6dgAAAA\n",
       "AElFTkSuQmCC\n",
       "\" style=\"display:inline;vertical-align:middle;\" /></a>"
      ],
      "text/plain": [
       "y in (a,b]"
      ]
     },
     "metadata": {},
     "output_type": "display_data"
    }
   ],
   "source": [
    "# Claim that y is a real number in the half-open interval (a, b]\n",
    "# Notice the IntervalOC uses an 'ohs', not a zero, standing for\n",
    "# 'open' on the left side\n",
    "InSet(y, IntervalOC(a, b))"
   ]
  },
  {
   "cell_type": "code",
   "execution_count": 9,
   "metadata": {},
   "outputs": [
    {
     "data": {
      "text/html": [
       "<strong id=\"interval_C1bO\">interval_C1bO:</strong> <a class=\"ProveItLink\" href=\"../__pv_it/demonstrations/dd100b46a1503d63de90ef334d37776fb38dbd0c0/expr.ipynb\"><img src=\"data:image/png;base64,iVBORw0KGgoAAAANSUhEUgAAACYAAAAVBAMAAADY/YGeAAAAMFBMVEX///8AAAAAAAAAAAAAAAAA\n",
       "AAAAAAAAAAAAAAAAAAAAAAAAAAAAAAAAAAAAAAAAAAAv3aB7AAAAD3RSTlMAdt0yiUQQq5nNIu9m\n",
       "VLvPy6LmAAAACXBIWXMAAA7EAAAOxAGVKw4bAAAAx0lEQVQY02MQUmZAAVxA7IoqxMAqABZjVoPy\n",
       "8zYBCRmQWHrnN5iiGUDMmQBSxwgX+wvEPA0oYqxgxjYUMRYFEDkHRYyzUPwCA4M7ilj+NLZfDAwn\n",
       "UcTuJzBsZGC4jSLWycDwhYHBHkVMhYEV6JpoFLG/DBxA5iWYGBtI7DND9gEGhnMgMRagZfkTgGI1\n",
       "DC+AZAtQjL36Zw0DEygc0j2AyhhU4WF1DR6ACnAxB5gYxwGYGJsATGwdPJwZ4QH9ioHBCS0+GBcw\n",
       "AAATdzPyhSBQCQAAAABJRU5ErkJggg==\n",
       "\" style=\"display:inline;vertical-align:middle;\" /></a><br>"
      ],
      "text/plain": [
       "<IPython.core.display.HTML object>"
      ]
     },
     "metadata": {},
     "output_type": "display_data"
    },
    {
     "data": {
      "text/html": [
       "<strong id=\"interval_C23C\">interval_C23C:</strong> <a class=\"ProveItLink\" href=\"../__pv_it/demonstrations/dd69d6d0b6f02dd69fc8601d09b2bc2324d77f4c0/expr.ipynb\"><img src=\"data:image/png;base64,iVBORw0KGgoAAAANSUhEUgAAACUAAAAVBAMAAAAzyjqdAAAAMFBMVEX///8AAAAAAAAAAAAAAAAA\n",
       "AAAAAAAAAAAAAAAAAAAAAAAAAAAAAAAAAAAAAAAAAAAv3aB7AAAAD3RSTlMAdt0yiUQimc27q+8Q\n",
       "ZlQzSlBTAAAACXBIWXMAAA7EAAAOxAGVKw4bAAAAyElEQVQY02MQUmZAAYxKBgyuDGiAJQAkll4x\n",
       "GcJlc6kMgIixTWDwDwCLHWfg+wcR40pg4N4AFpN/wPMDIsb9h4HrG1gsOoABKsalwMD1GWoB31+o\n",
       "HQwMTB+gYkEX4GL2AhAhw1UGcDEtmONg9jIwsE+Au3j/AajYLaiAMQPD/AcQMT4HhjSw2P8DcDET\n",
       "BgYZhgNAsV1wvWzq5eUKQA8wMNyFu4/p////DQxKQIWs5bAwgLriAEpYQZgMmGIHsYgJIIk5oceH\n",
       "dgAAfNw3R9gYiI4AAAAASUVORK5CYII=\n",
       "\" style=\"display:inline;vertical-align:middle;\" /></a><br>"
      ],
      "text/plain": [
       "<IPython.core.display.HTML object>"
      ]
     },
     "metadata": {},
     "output_type": "display_data"
    }
   ],
   "source": [
    "# Or simply define some intervals of interest\n",
    "interval_C1bO, interval_C23C = (\n",
    "    IntervalCO(one, b), IntervalCC(two, three))"
   ]
  },
  {
   "cell_type": "markdown",
   "metadata": {},
   "source": [
    "## Common Attributes of NumberSet and Interval expressions <a id='common_attributes'></a>"
   ]
  },
  {
   "cell_type": "markdown",
   "metadata": {},
   "source": [
    "<font size=3>Let's look at some simple examples of real NumberSets and real Intervals, along with some of their attributesibutes.</font>"
   ]
  },
  {
   "cell_type": "code",
   "execution_count": 10,
   "metadata": {},
   "outputs": [
    {
     "data": {
      "text/html": [
       "<strong id=\"example_set\">example_set:</strong> <a class=\"ProveItLink\" href=\"../__pv_it/common/174917e13d50b91c585b7f765a2896383a3ae8010/expr.ipynb\"><img src=\"data:image/png;base64,iVBORw0KGgoAAAANSUhEUgAAABsAAAASBAMAAABY9biuAAAAMFBMVEX///8AAAAAAAAAAAAAAAAA\n",
       "AAAAAAAAAAAAAAAAAAAAAAAAAAAAAAAAAAAAAAAAAAAv3aB7AAAAD3RSTlMAZs3vu90iq0QQiTKZ\n",
       "VHZ+Ip2vAAAACXBIWXMAAA7EAAAOxAGVKw4bAAAAdklEQVQY02NggAMeBhTAgoUrZOKvaiKAkHVI\n",
       "Z2gXmYDgZjGwcBcwHHFxdnERAHN5EhSQZXkSHJC57DMLkLlbLiUguMmqX18iXOWQJTgJyTEOWSwT\n",
       "BZC53Ac8kbkMp1NQuFP4EKodchgYBTxgPKCP3Bhc9C9AeAAVYxpD6z3f8gAAAABJRU5ErkJggg==\n",
       "\" style=\"display:inline;vertical-align:middle;\" /></a><br>"
      ],
      "text/plain": [
       "<IPython.core.display.HTML object>"
      ]
     },
     "metadata": {},
     "output_type": "display_data"
    },
    {
     "data": {
      "text/html": [
       "<strong id=\"interval_C1bO\">interval_C1bO:</strong> <a class=\"ProveItLink\" href=\"../__pv_it/demonstrations/dd100b46a1503d63de90ef334d37776fb38dbd0c0/expr.ipynb\"><img src=\"data:image/png;base64,iVBORw0KGgoAAAANSUhEUgAAACYAAAAVBAMAAADY/YGeAAAAMFBMVEX///8AAAAAAAAAAAAAAAAA\n",
       "AAAAAAAAAAAAAAAAAAAAAAAAAAAAAAAAAAAAAAAAAAAv3aB7AAAAD3RSTlMAdt0yiUQQq5nNIu9m\n",
       "VLvPy6LmAAAACXBIWXMAAA7EAAAOxAGVKw4bAAAAx0lEQVQY02MQUmZAAVxA7IoqxMAqABZjVoPy\n",
       "8zYBCRmQWHrnN5iiGUDMmQBSxwgX+wvEPA0oYqxgxjYUMRYFEDkHRYyzUPwCA4M7ilj+NLZfDAwn\n",
       "UcTuJzBsZGC4jSLWycDwhYHBHkVMhYEV6JpoFLG/DBxA5iWYGBtI7DND9gEGhnMgMRagZfkTgGI1\n",
       "DC+AZAtQjL36Zw0DEygc0j2AyhhU4WF1DR6ACnAxB5gYxwGYGJsATGwdPJwZ4QH9ioHBCS0+GBcw\n",
       "AAATdzPyhSBQCQAAAABJRU5ErkJggg==\n",
       "\" style=\"display:inline;vertical-align:middle;\" /></a><br>"
      ],
      "text/plain": [
       "<IPython.core.display.HTML object>"
      ]
     },
     "metadata": {},
     "output_type": "display_data"
    }
   ],
   "source": [
    "example_set, interval_C1bO = RealPos, IntervalCO(one, b)"
   ]
  },
  {
   "cell_type": "code",
   "execution_count": 11,
   "metadata": {},
   "outputs": [
    {
     "data": {
      "text/html": [
       "<table><tr><th>&nbsp;</th><th>core type</th><th>sub-expressions</th><th>expression</th></tr>\n",
       "<tr><td>0</td><td>Literal</td><td></td><td><a class=\"ProveItLink\" href=\"../__pv_it/common/174917e13d50b91c585b7f765a2896383a3ae8010/expr.ipynb\"><img src=\"data:image/png;base64,iVBORw0KGgoAAAANSUhEUgAAABsAAAASBAMAAABY9biuAAAAMFBMVEX///8AAAAAAAAAAAAAAAAA\n",
       "AAAAAAAAAAAAAAAAAAAAAAAAAAAAAAAAAAAAAAAAAAAv3aB7AAAAD3RSTlMAZs3vu90iq0QQiTKZ\n",
       "VHZ+Ip2vAAAACXBIWXMAAA7EAAAOxAGVKw4bAAAAdklEQVQY02NggAMeBhTAgoUrZOKvaiKAkHVI\n",
       "Z2gXmYDgZjGwcBcwHHFxdnERAHN5EhSQZXkSHJC57DMLkLlbLiUguMmqX18iXOWQJTgJyTEOWSwT\n",
       "BZC53Ac8kbkMp1NQuFP4EKodchgYBTxgPKCP3Bhc9C9AeAAVYxpD6z3f8gAAAABJRU5ErkJggg==\n",
       "\" style=\"display:inline;vertical-align:middle;\" /></a></td></tr>\n",
       "</table>\n"
      ],
      "text/plain": [
       "0. RealPos\n",
       "   core type: Literal\n",
       "   sub-expressions: "
      ]
     },
     "metadata": {},
     "output_type": "display_data"
    }
   ],
   "source": [
    "# The expression for our set of real positive numbers is simply a Literal\n",
    "example_set.expr_info()"
   ]
  },
  {
   "cell_type": "code",
   "execution_count": 12,
   "metadata": {},
   "outputs": [
    {
     "data": {
      "text/html": [
       "<table><tr><th>&nbsp;</th><th>core type</th><th>sub-expressions</th><th>expression</th></tr>\n",
       "<tr><td>0</td><td>Operation</td><td>operator:&nbsp;1<br>operands:&nbsp;2<br></td><td><a class=\"ProveItLink\" href=\"../__pv_it/demonstrations/dd100b46a1503d63de90ef334d37776fb38dbd0c0/expr.ipynb\"><img src=\"data:image/png;base64,iVBORw0KGgoAAAANSUhEUgAAACYAAAAVBAMAAADY/YGeAAAAMFBMVEX///8AAAAAAAAAAAAAAAAA\n",
       "AAAAAAAAAAAAAAAAAAAAAAAAAAAAAAAAAAAAAAAAAAAv3aB7AAAAD3RSTlMAdt0yiUQQq5nNIu9m\n",
       "VLvPy6LmAAAACXBIWXMAAA7EAAAOxAGVKw4bAAAAx0lEQVQY02MQUmZAAVxA7IoqxMAqABZjVoPy\n",
       "8zYBCRmQWHrnN5iiGUDMmQBSxwgX+wvEPA0oYqxgxjYUMRYFEDkHRYyzUPwCA4M7ilj+NLZfDAwn\n",
       "UcTuJzBsZGC4jSLWycDwhYHBHkVMhYEV6JpoFLG/DBxA5iWYGBtI7DND9gEGhnMgMRagZfkTgGI1\n",
       "DC+AZAtQjL36Zw0DEygc0j2AyhhU4WF1DR6ACnAxB5gYxwGYGJsATGwdPJwZ4QH9ioHBCS0+GBcw\n",
       "AAATdzPyhSBQCQAAAABJRU5ErkJggg==\n",
       "\" style=\"display:inline;vertical-align:middle;\" /></a></td></tr>\n",
       "<tr><td>1</td><td>Literal</td><td></td><td><a class=\"ProveItLink\" href=\"../__pv_it/common/da5a5fc1f3f3ada8da2b36f3e6963bacf1c8e9fc0/expr.ipynb\"><img src=\"data:image/png;base64,iVBORw0KGgoAAAANSUhEUgAAAG8AAAAOBAMAAADTQ1+sAAAAMFBMVEX///8AAAAAAAAAAAAAAAAA\n",
       "AAAAAAAAAAAAAAAAAAAAAAAAAAAAAAAAAAAAAAAAAAAv3aB7AAAAD3RSTlMAiburEN0ydkTNIlRm\n",
       "75nT7s8qAAAACXBIWXMAAA7EAAAOxAGVKw4bAAAB9UlEQVQoz31SMWgUURB9e/67W3cvt9+gxFQK\n",
       "V4hVQiKkOcxiULBIjBY2Fi5oZUD/hYBYGE4wWEnSWIqrFjbCaaGFTbY34KmgYGOuSGHjnVFzIYnE\n",
       "N/t1K8+FnZk/O2/ezH8LoH+3EuL/z4ENGjU7WvU0/fy+qk3/zApOxv8Gljo0N+fgryXAYIQ9S5It\n",
       "fMsKlntQl1l44jyDdozTh+nfSra4mRWs9Rg1b4D70vQucE8S42JynazgbA9gI4KzLcFVOCnNoYgm\n",
       "4Bx3jj2cNe7I+hjUwHxY6PdaiaoluAA8HngCvCF2WgCn0EjXa9dpFjmHrhi1BZ/cC1FBO7mW03T8\n",
       "Jt7D/YShECPkMJbc+ouxpXXr5+BtyB14OyjWn+6dLusZnp5jMpHFP/4p/QtRvyR8wEBtwv+BvEau\n",
       "e/0gLge89bDPYAZtWbywBXxOYSF20/tMhVjnyyGpzZk6gmFJLYZWG4N3YM9ik0yS9yPrJ5mA26Uh\n",
       "KkjCZajAZLLQaNUV8XPDoSgIOBRCeo7LpTryO/VpEugveMlp8czKUoEfq232fBUkGg3puB+4xi2s\n",
       "JPmOFepGKRpVprSEqdhLPwyCQhzBi9XV4LaBvwPcIlvxA9RRYZ8Y+k6SBQav8WgFqK0YuKlm5Sqb\n",
       "T9SujEWlFo9TleMiHi61vor/DYdPi3ulfGPmAAAAAElFTkSuQmCC\n",
       "\" style=\"display:inline;vertical-align:middle;\" /></a></td></tr>\n",
       "<tr><td>2</td><td>ExprTuple</td><td>3, 4</td><td><a class=\"ProveItLink\" href=\"../__pv_it/demonstrations/1dca9086266bab5c3c7aab5e31f247dde10e01420/expr.ipynb\"><img src=\"data:image/png;base64,iVBORw0KGgoAAAANSUhEUgAAACkAAAAVBAMAAAAp9toTAAAAMFBMVEX///8AAAAAAAAAAAAAAAAA\n",
       "AAAAAAAAAAAAAAAAAAAAAAAAAAAAAAAAAAAAAAAAAAAv3aB7AAAAD3RSTlMAInZUiRDNmWbv3US7\n",
       "qzJazP2FAAAACXBIWXMAAA7EAAAOxAGVKw4bAAAA9klEQVQY02NgYBBgQAVgPpMBmugmEGECxK8C\n",
       "IAKsJxcAlTUAGQkMrNfzoaIMbAVAIpWBgR0ow6APE+UHGdfOwMDJgCy6H8TgDGAwQxH1AhvTwFCC\n",
       "IpqrdJmBgeUCQwayKOu3gHgBBo4EhsXIosxfGTgVGJgnMMxGFmVPYOB3YOD7gCrK5cCw34CBewKq\n",
       "CUDn1gcwMC9gOAQTBUnwP2CdwcDAcYDBFyTqLwC0HkjzNvAAvczuwPAKyLk7P7eBYRVQMeuVCpDp\n",
       "Gxi4HkA9wAzzCYMU0JACKJsFHsAg9Qeh7CCYIOMBIBED5SjARHlAUcSogBZDigwMAHWoMEMf1KVE\n",
       "AAAAAElFTkSuQmCC\n",
       "\" style=\"display:inline;vertical-align:middle;\" /></a></td></tr>\n",
       "<tr><td>3</td><td>Literal</td><td></td><td><a class=\"ProveItLink\" href=\"../../../numerals/__pv_it/common/682157d4892d216d9e5626ed533aff9b56b9506e0/expr.ipynb\"><img src=\"data:image/png;base64,iVBORw0KGgoAAAANSUhEUgAAAAgAAAAOBAMAAADgeEClAAAAJ1BMVEX///8AAAAAAAAAAAAAAAAA\n",
       "AAAAAAAAAAAAAAAAAAAAAAAAAAAAAAAilU6eAAAADHRSTlMAMt0Qq5nNdoki72YJhDyyAAAACXBI\n",
       "WXMAAA7EAAAOxAGVKw4bAAAAH0lEQVQI12NgYFRmYDAJO8zAwMBOMsFxkoGBxeuYNwB0KguGAVQB\n",
       "OAAAAABJRU5ErkJggg==\n",
       "\" style=\"display:inline;vertical-align:middle;\" /></a></td></tr>\n",
       "<tr><td>4</td><td>Variable</td><td></td><td><a class=\"ProveItLink\" href=\"../../../../__pv_it/common/195236b98c6c564a75b5dbada74b173bc52d5c3e0/expr.ipynb\"><img src=\"data:image/png;base64,iVBORw0KGgoAAAANSUhEUgAAAAkAAAAOBAMAAAAPuiubAAAAMFBMVEX///8AAAAAAAAAAAAAAAAA\n",
       "AAAAAAAAAAAAAAAAAAAAAAAAAAAAAAAAAAAAAAAAAAAv3aB7AAAAD3RSTlMAELvv3c2ZVESJq3Yi\n",
       "MmZ3LnoBAAAACXBIWXMAAA7EAAAOxAGVKw4bAAAAT0lEQVQI12NgVHZgAALWBBDJXwAi+wVA5BQQ\n",
       "wRC1ezkDA+NXAfkDDOwfGZg3MLAFMPBPYGCZwNBfAFKeL8DAf4HRjoGB6wET0AjGlXkMDAAVqA7Q\n",
       "GyenWgAAAABJRU5ErkJggg==\n",
       "\" style=\"display:inline;vertical-align:middle;\" /></a></td></tr>\n",
       "</table>\n"
      ],
      "text/plain": [
       "0. [1,b)\n",
       "   core type: Operation\n",
       "   operator: 1\n",
       "   operands: 2\n",
       "1. IntervalCO\n",
       "   core type: Literal\n",
       "   sub-expressions: \n",
       "2. (1, b)\n",
       "   core type: ExprTuple\n",
       "   sub-expressions: 3, 4\n",
       "3. 1\n",
       "   core type: Literal\n",
       "   sub-expressions: \n",
       "4. b\n",
       "   core type: Variable\n",
       "   sub-expressions: "
      ]
     },
     "metadata": {},
     "output_type": "display_data"
    }
   ],
   "source": [
    "# The interval expression has more structure and each\n",
    "# of the boundaries can be either a Literal or a Variable\n",
    "interval_C1bO.expr_info()"
   ]
  },
  {
   "cell_type": "markdown",
   "metadata": {},
   "source": [
    "<font size=4>We can access the left-hand and right-hand bounds of the interval combined as a simple tuple, or access each bound separately:</font>"
   ]
  },
  {
   "cell_type": "code",
   "execution_count": 13,
   "metadata": {},
   "outputs": [
    {
     "data": {
      "text/html": [
       "<a class=\"ProveItLink\" href=\"../__pv_it/demonstrations/1dca9086266bab5c3c7aab5e31f247dde10e01420/expr.ipynb\"><img src=\"data:image/png;base64,iVBORw0KGgoAAAANSUhEUgAAACkAAAAVBAMAAAAp9toTAAAAMFBMVEX///8AAAAAAAAAAAAAAAAA\n",
       "AAAAAAAAAAAAAAAAAAAAAAAAAAAAAAAAAAAAAAAAAAAv3aB7AAAAD3RSTlMAInZUiRDNmWbv3US7\n",
       "qzJazP2FAAAACXBIWXMAAA7EAAAOxAGVKw4bAAAA9klEQVQY02NgYBBgQAVgPpMBmugmEGECxK8C\n",
       "IAKsJxcAlTUAGQkMrNfzoaIMbAVAIpWBgR0ow6APE+UHGdfOwMDJgCy6H8TgDGAwQxH1AhvTwFCC\n",
       "IpqrdJmBgeUCQwayKOu3gHgBBo4EhsXIosxfGTgVGJgnMMxGFmVPYOB3YOD7gCrK5cCw34CBewKq\n",
       "CUDn1gcwMC9gOAQTBUnwP2CdwcDAcYDBFyTqLwC0HkjzNvAAvczuwPAKyLk7P7eBYRVQMeuVCpDp\n",
       "Gxi4HkA9wAzzCYMU0JACKJsFHsAg9Qeh7CCYIOMBIBED5SjARHlAUcSogBZDigwMAHWoMEMf1KVE\n",
       "AAAAAElFTkSuQmCC\n",
       "\" style=\"display:inline;vertical-align:middle;\" /></a>"
      ],
      "text/plain": [
       "(1, b)"
      ]
     },
     "metadata": {},
     "output_type": "display_data"
    }
   ],
   "source": [
    "# the bounds extracted as a tuple\n",
    "interval_C1bO.operands"
   ]
  },
  {
   "cell_type": "code",
   "execution_count": 14,
   "metadata": {},
   "outputs": [
    {
     "data": {
      "text/html": [
       "<a class=\"ProveItLink\" href=\"../../../numerals/__pv_it/common/682157d4892d216d9e5626ed533aff9b56b9506e0/expr.ipynb\"><img src=\"data:image/png;base64,iVBORw0KGgoAAAANSUhEUgAAAAgAAAAOBAMAAADgeEClAAAAJ1BMVEX///8AAAAAAAAAAAAAAAAA\n",
       "AAAAAAAAAAAAAAAAAAAAAAAAAAAAAAAilU6eAAAADHRSTlMAMt0Qq5nNdoki72YJhDyyAAAACXBI\n",
       "WXMAAA7EAAAOxAGVKw4bAAAAH0lEQVQI12NgYFRmYDAJO8zAwMBOMsFxkoGBxeuYNwB0KguGAVQB\n",
       "OAAAAABJRU5ErkJggg==\n",
       "\" style=\"display:inline;vertical-align:middle;\" /></a>"
      ],
      "text/plain": [
       "1"
      ]
     },
     "metadata": {},
     "output_type": "display_data"
    }
   ],
   "source": [
    "# lower bound\n",
    "interval_C1bO.lower_bound"
   ]
  },
  {
   "cell_type": "code",
   "execution_count": 15,
   "metadata": {},
   "outputs": [
    {
     "data": {
      "text/html": [
       "<a class=\"ProveItLink\" href=\"../../../../__pv_it/common/195236b98c6c564a75b5dbada74b173bc52d5c3e0/expr.ipynb\"><img src=\"data:image/png;base64,iVBORw0KGgoAAAANSUhEUgAAAAkAAAAOBAMAAAAPuiubAAAAMFBMVEX///8AAAAAAAAAAAAAAAAA\n",
       "AAAAAAAAAAAAAAAAAAAAAAAAAAAAAAAAAAAAAAAAAAAv3aB7AAAAD3RSTlMAELvv3c2ZVESJq3Yi\n",
       "MmZ3LnoBAAAACXBIWXMAAA7EAAAOxAGVKw4bAAAAT0lEQVQI12NgVHZgAALWBBDJXwAi+wVA5BQQ\n",
       "wRC1ezkDA+NXAfkDDOwfGZg3MLAFMPBPYGCZwNBfAFKeL8DAf4HRjoGB6wET0AjGlXkMDAAVqA7Q\n",
       "GyenWgAAAABJRU5ErkJggg==\n",
       "\" style=\"display:inline;vertical-align:middle;\" /></a>"
      ],
      "text/plain": [
       "b"
      ]
     },
     "metadata": {},
     "output_type": "display_data"
    }
   ],
   "source": [
    "# upper bound\n",
    "interval_C1bO.upper_bound"
   ]
  },
  {
   "cell_type": "markdown",
   "metadata": {},
   "source": [
    "<font size=3>Many simple interval membership claims can be deduced relatively easily via `IntervalXX` methods relying on related theorems:</font>"
   ]
  },
  {
   "cell_type": "code",
   "execution_count": 16,
   "metadata": {},
   "outputs": [
    {
     "data": {
      "text/html": [
       "<strong id=\"two_in_O13C\">two_in_O13C:</strong> <a class=\"ProveItLink\" href=\"../__pv_it/demonstrations/8ab0d813787a6eb402293dc6c0666aec86e7dd7c0/expr.ipynb\"><img src=\"data:image/png;base64,iVBORw0KGgoAAAANSUhEUgAAAEwAAAAVBAMAAAAeOBUnAAAAMFBMVEX///8AAAAAAAAAAAAAAAAA\n",
       "AAAAAAAAAAAAAAAAAAAAAAAAAAAAAAAAAAAAAAAAAAAv3aB7AAAAD3RSTlMAIpnNuzKJRKvvEN12\n",
       "ZlQ4bmvwAAAACXBIWXMAAA7EAAAOxAGVKw4bAAABT0lEQVQoz2NgwAIY0fint2JTxXAOXSCdgVHJ\n",
       "JABNkC+BgYF1F5QjluQOUibCwPYdTdliBoYVyr8gbC4FhvcPgMoaGRhmoinTBWIeqDKefwzrDYDK\n",
       "5i9g6BcAixzZvdsAzJiApIx9OgM/SFk3A0M/2HHFp2BOM0BSBgTvLwCVAcF+cCBYwYSZElCUse9l\n",
       "ACtj/QPiMQvAxJkvICtjPdEKUcbdAJaEW8L9AM3SB2BlKmBO5G4gcACxOAtQlXH+AinjBRvGsAQh\n",
       "jKyMNYCB5R9I2TMGRpCzuLFbyv8Loow1gYFnAUj8AEwZywGoMi6Q0Q0QS6WVlLTBsnYwZWwgV7B9\n",
       "ZAAFPwPvBUi47f///zNYdoX7AqhzNjAwcHR+7mXgBkV/kZI7JEBgoMwbGlnw1PUKkZCwgEswRgJe\n",
       "ZSzQCOE6gFcZlwM0ETHgVcYgg54XpgMAeQhZSWgJmd4AAAAASUVORK5CYII=\n",
       "\" style=\"display:inline;vertical-align:middle;\" /></a><br>"
      ],
      "text/plain": [
       "<IPython.core.display.HTML object>"
      ]
     },
     "metadata": {},
     "output_type": "display_data"
    }
   ],
   "source": [
    "# here is an unproven claim\n",
    "two_in_O13C = InSet(two, IntervalOC(one, three))"
   ]
  },
  {
   "cell_type": "code",
   "execution_count": 17,
   "metadata": {},
   "outputs": [
    {
     "data": {
      "text/html": [
       "<span style=\"font-size:20px;\"> <a class=\"ProveItLink\" href=\"../__pv_it/demonstrations/b2e8d5b70155342ce9a08bf5d2571506848a01070/proof.ipynb\" style=\"text-decoration: none\">&nbsp;&#x22A2;&nbsp;&nbsp;</a><a class=\"ProveItLink\" href=\"../__pv_it/demonstrations/8ab0d813787a6eb402293dc6c0666aec86e7dd7c0/expr.ipynb\"><img src=\"data:image/png;base64,iVBORw0KGgoAAAANSUhEUgAAAEwAAAAVBAMAAAAeOBUnAAAAMFBMVEX///8AAAAAAAAAAAAAAAAA\n",
       "AAAAAAAAAAAAAAAAAAAAAAAAAAAAAAAAAAAAAAAAAAAv3aB7AAAAD3RSTlMAIpnNuzKJRKvvEN12\n",
       "ZlQ4bmvwAAAACXBIWXMAAA7EAAAOxAGVKw4bAAABT0lEQVQoz2NgwAIY0fint2JTxXAOXSCdgVHJ\n",
       "JABNkC+BgYF1F5QjluQOUibCwPYdTdliBoYVyr8gbC4FhvcPgMoaGRhmoinTBWIeqDKefwzrDYDK\n",
       "5i9g6BcAixzZvdsAzJiApIx9OgM/SFk3A0M/2HHFp2BOM0BSBgTvLwCVAcF+cCBYwYSZElCUse9l\n",
       "ACtj/QPiMQvAxJkvICtjPdEKUcbdAJaEW8L9AM3SB2BlKmBO5G4gcACxOAtQlXH+AinjBRvGsAQh\n",
       "jKyMNYCB5R9I2TMGRpCzuLFbyv8Loow1gYFnAUj8AEwZywGoMi6Q0Q0QS6WVlLTBsnYwZWwgV7B9\n",
       "ZAAFPwPvBUi47f///zNYdoX7AqhzNjAwcHR+7mXgBkV/kZI7JEBgoMwbGlnw1PUKkZCwgEswRgJe\n",
       "ZSzQCOE6gFcZlwM0ETHgVcYgg54XpgMAeQhZSWgJmd4AAAAASUVORK5CYII=\n",
       "\" style=\"display:inline;vertical-align:middle;\" /></a></span>"
      ],
      "text/plain": [
       "|- 2 in (1,3]"
      ]
     },
     "metadata": {},
     "output_type": "display_data"
    }
   ],
   "source": [
    "two_in_O13C.prove()"
   ]
  },
  {
   "cell_type": "markdown",
   "metadata": {},
   "source": [
    "<font size=3>Prove-It will not automatically prove our assertion that $2\\in (1, 3]$:</font>"
   ]
  },
  {
   "cell_type": "code",
   "execution_count": 18,
   "metadata": {},
   "outputs": [],
   "source": [
    "# try:\n",
    "#     two_in_O13C.prove()\n",
    "# except ProofFailure as e:\n",
    "#     print(\"ProofFailure. {}\".format(e))"
   ]
  },
  {
   "cell_type": "markdown",
   "metadata": {},
   "source": [
    "<font size=3>But we can manually prompt Prove-It to prove that $2\\in (1, 3]$ utilizing an explicit `Interval` method:</font>"
   ]
  },
  {
   "cell_type": "code",
   "execution_count": 19,
   "metadata": {},
   "outputs": [],
   "source": [
    "# # deduce the claim as a judgment\n",
    "# IntervalOC(one, three).deduce_elem_in_set(two)"
   ]
  },
  {
   "cell_type": "markdown",
   "metadata": {},
   "source": [
    "## Axioms <a id='axioms'></a>"
   ]
  },
  {
   "cell_type": "markdown",
   "metadata": {},
   "source": [
    "<font size=3>The current axioms for the `number/sets/real` theory consist of definitions of what it means for something to be an element of a real interval. For example, when we write $x\\in (a, b)$ for $a \\le b$ and $a,b\\in \\mathbb{R}$, that is equivalent to saying $x\\in\\mathbb{R}$ and $a < x < b$.<br/>\n",
    "The axiom for open intervals is shown below (and the related axioms can be found in the [axioms notebook](./\\_axioms\\_.ipynb)):</font>"
   ]
  },
  {
   "cell_type": "code",
   "execution_count": 20,
   "metadata": {},
   "outputs": [
    {
     "data": {
      "text/html": [
       "<span style=\"font-size:20px;\"> <a class=\"ProveItLink\" href=\"axioms.ipynb#in_IntervalOO_def\" style=\"text-decoration: none\">&nbsp;&#x22A2;&nbsp;&nbsp;</a><a class=\"ProveItLink\" href=\"../__pv_it/axioms/91fd9d4243b18056ed6f0bd2871364db106dd3dd0/expr.ipynb\"><img src=\"data:image/png;base64,iVBORw0KGgoAAAANSUhEUgAAAc0AAAAWBAMAAABQ5dp2AAAAMFBMVEX///8AAAAAAAAAAAAAAAAA\n",
       "AAAAAAAAAAAAAAAAAAAAAAAAAAAAAAAAAAAAAAAAAAAv3aB7AAAAD3RSTlMAq1RmmUTNIjK7EInv\n",
       "3XZ/CtNrAAAACXBIWXMAAA7EAAAOxAGVKw4bAAAFYElEQVRYw91YXYgbVRQ+yUw2k0kyuygU6koJ\n",
       "WPrgokYtKy3YRldrUbfGFnxQaaM+iIXWWSgF2a3ER63ivJQ1/qwDLmK60KQrWq2sBESwiBK11FpN\n",
       "mRV1ZaFLn1xZUDz3Z2bunblJtq8e+DbZe+/5zv3unHvunQD0tSsXFY02R5eu9QxNc3Qzex0tfdw5\n",
       "rE51HQ4fKdqsAkOXLsn2c0TtV46ojZ5799C5osKnS8Autl9AtgxDpO2m3jrjY0Y4FCY2m2+3cXpF\n",
       "hoglmwxxcybg0W1u3GdkvRKlsASo837S8WxvnbExZoVBFUNqHijhn4Mcsr3PodA5CRljKPSZVzH3\n",
       "NCnsQarzJbJLnN46Y2P0IoPC5OZBkmpbOWQb41Dq1O1K4GNeUDH3NCnsVqpzwMWPQm+dsTE5DmHv\n",
       "vNO5EHSFdsAlTS6DbC2OOAXV6QQ+1u1lBTPJfEUabrFjYRGoU8NVGuhTh2JjtnAEljrsCl2hLdAs\n",
       "KjLIk6wwKChQZ+LkUOCTNxwFM4B2PrZ2cPeD8bAI1AnfdDpf96u30TEPcZxa/OAz+pyPumJXenjJ\n",
       "Y/89tXIdpsIQg5zfTQZz5Ybj8zIF6nyZPBfuM8JLg8wM1s/MISAgR+BZRVgE0bkb4M1+OqNjnuEo\n",
       "WZv0tlykSPOTdmaNzeEvt2GDho9No49uvEPsO3G1dVj0xmUKZ+rQP8vg+2DH5jgzzF32F8wnAHOB\n",
       "r4EcFkF0TkA6WGvjOf7llo/vOSzoFMcQ+55Bs7W1BE2uithlfgFMPSTXIOdBErdhshVZvXyB4S7Y\n",
       "6V4vUziTd9JCzHyw8ubdGPORH/zRAUF63N8bclgE0Zlxs+UgxDAhXqyVrSycaYY6pTFoXzIYoLPZ\n",
       "GZjYnZ/8Lv0q5Jkzdg82wbgKFJLlygxV2BWlcCYz75EpM59EFSwvypx4OiDyCWBDUCnlsAgy+6Qn\n",
       "lJivEPfhJcmyYLsX6pTGhDqBLBtNFEfsyjnQYMuCkzpQgBQuaqrVRSfAt1EKZ9IokW3CfPDRmu0o\n",
       "s6DTJxB0ymFT7HlCZQdJ9x1nyAr+u+jSawjqXC4J9z46ZuWB32wpb7GA2ybNqbaYtw0Pdgbn2CMu\n",
       "JLE32Y7sTz9vIbUKJ2UKrEO7XwDfh9SYe2PMYd4GBGHeymERVOc8XhjMH41VIu+SVarTYpZNzxQF\n",
       "nWSMZW8c4Es2w1Av3whZ2rASRMXmRgE2JG2TBKzijgLNYZAs41GYJxItaMoUqLNOVpv5ELFHJWap\n",
       "DoUEYR2SwyKoziksMXrJIEmSKWqVfVSn/pYj3uPJGA1mDN50muG2Vx6GveyiFeTMaTL95HkdGrh1\n",
       "E8VMKTxCJOMVP/n3bCtVkCmcI3hin+A+Gpl7pioyMzt1mWZSSIBCryzTTzksgurEjY47xSIFNVfV\n",
       "h0ZrtVrBsrJ7RZ0J+mKz6je9xjC7khxjIcyNj4dd5qZPJv6E/CX8Nkxudvkyg2RGm8Lc422+Q6bA\n",
       "95VpqD1fYD4JosbwRGb/nkAP0JCA3hPoASqHRQRVtGFntqPXIOQKx+nztFJPuNH3MqPlvy7mqwzC\n",
       "beZTfmkLm2/2vxzjkO0iR5xC9BNPouhLpKa4943aEA17DEKdOfv1fe4cHlTb8Ayh+xPOliI6p7IV\n",
       "P2e0EoPCwuZm7xu7+nYfvekrmddnYyECnamxWz+EVwvGHg/Sb+D/j/3RnN0V0an//vmyzzHNoTC/\n",
       "2fTPJfKmo3gjytgMXS3mM31NMv2wBPLpD2yvzdVq5X6/J9Q5unTR1O8jiByYZq8XwphP/Zp0+mEJ\n",
       "ZJ0pV+mwoPh9KO0xgLpLsiWOqL3I0c2W+jL3tKUQ1i+STg3+v/Yfv77B8wwkG10AAAAASUVORK5C\n",
       "YII=\n",
       "\" style=\"display:inline;vertical-align:middle;\" /></a></span>"
      ],
      "text/plain": [
       "|- forall_{a, b in Real} [forall_{x} ((x in (a,b)) = ((x in Real) and (a < x < b)))]"
      ]
     },
     "metadata": {},
     "output_type": "display_data"
    }
   ],
   "source": [
    "from proveit.numbers.number_sets.real_numbers  import in_IntervalOO_def\n",
    "in_IntervalOO_def"
   ]
  },
  {
   "cell_type": "markdown",
   "metadata": {},
   "source": [
    "## Theorems<a id='theorems'></a>"
   ]
  },
  {
   "cell_type": "markdown",
   "metadata": {},
   "source": [
    "<font size=3>There are already a good number of basic theorems established in the `number/sets/real` theory. Some examples are shown explicitly below, and the remainder can be found in the [theorems Jupyter Python notebook](./\\_theorems\\_.ipynb). Most such theorems are typically not acccessed directly but are instead used behind-the-scenes when calling various related class methods.</font>"
   ]
  },
  {
   "cell_type": "code",
   "execution_count": 21,
   "metadata": {},
   "outputs": [],
   "source": [
    "from proveit.numbers.number_sets.real_numbers import (\n",
    "        all_in_interval_oc__is__real, in_IntervalOO,\n",
    "        interval_cc_lower_bound,\n",
    "        nat_within_real_nonneg, not_int_if_between_successive_int)"
   ]
  },
  {
   "cell_type": "code",
   "execution_count": 22,
   "metadata": {},
   "outputs": [
    {
     "data": {
      "text/html": [
       "<span style=\"font-size:20px;\"> <a class=\"ProveItLink\" href=\"proofs/nat_within_real_nonneg/thm_proof.ipynb\" style=\"text-decoration: none\">&nbsp;&#x22A2;&nbsp;&nbsp;</a><a class=\"ProveItLink\" href=\"../__pv_it/theorems/b025f089f32ea9a8476f295465bc4b63f7409fac0/expr.ipynb\"><img src=\"data:image/png;base64,iVBORw0KGgoAAAANSUhEUgAAAE4AAAAUBAMAAADRkRa/AAAAMFBMVEX///8AAAAAAAAAAAAAAAAA\n",
       "AAAAAAAAAAAAAAAAAAAAAAAAAAAAAAAAAAAAAAAAAAAv3aB7AAAAD3RSTlMAEN27zYnvRFSrImZ2\n",
       "MpmnAiL6AAAACXBIWXMAAA7EAAAOxAGVKw4bAAABWklEQVQoz2NgwAcuF4Cp0KMM+AFjcAOQ5D7A\n",
       "bkBAIcPhDQwMbBcYfhFSx7D5AMN6AYYMBqHPJgIMYd8KUCS3JNs7JW+AsLctuC/AoM3AYME+gYHx\n",
       "A5opBisZKjcLgFii5gxAdTkMDJMWRDMwJKCrW8rAzDsByFg3lwFk7w8GhhkGLAsYFDDV8S1wYGBY\n",
       "CVQG9cesPVwOUHU8RkpKShfg6gwYJF+BhQ8AncYwi/PCUYg6XtcFSOZxCk5gEITwQs8BnTqLwYC5\n",
       "AKxOaAGyvZdbFqA4ZRbDPUZFsLrpSO5b5vTpIAOaOu6GZrB/HZD9sVsEFL/GQLAApo5hIidIHTgc\n",
       "4OqYpTegm8cgyQiylwtFHe8DQwx1vAfA6UEBJfzeLkZVZwvEZ8HqXqOoE+ZBtdgDiPnAXmBBJAaD\n",
       "dQzcG8yRlV35BjSLEayO0bIQkV6sGIz9G3CkNfZgWLxhAABn4lrufhPK/QAAAABJRU5ErkJggg==\n",
       "\" style=\"display:inline;vertical-align:middle;\" /></a></span>"
      ],
      "text/plain": [
       "|- Natural proper_subset RealNonNeg"
      ]
     },
     "metadata": {},
     "output_type": "display_data"
    }
   ],
   "source": [
    "# The natural numbers are a proper subset of the non-negative reals\n",
    "nat_within_real_nonneg"
   ]
  },
  {
   "cell_type": "code",
   "execution_count": 23,
   "metadata": {},
   "outputs": [
    {
     "data": {
      "text/html": [
       "<span style=\"font-size:20px;\"> <a class=\"ProveItLink\" href=\"proofs/all_in_interval_oc__is__real/thm_proof.ipynb\" style=\"text-decoration: none\">&nbsp;&#x22A2;&nbsp;&nbsp;</a><a class=\"ProveItLink\" href=\"../__pv_it/theorems/bf08d3b6ab929156f8775b96e47baa732453bb0b0/expr.ipynb\"><img src=\"data:image/png;base64,iVBORw0KGgoAAAANSUhEUgAAAOAAAAAZBAMAAADanj8DAAAAMFBMVEX///8AAAAAAAAAAAAAAAAA\n",
       "AAAAAAAAAAAAAAAAAAAAAAAAAAAAAAAAAAAAAAAAAAAv3aB7AAAAD3RSTlMAq1RmmUTNIjK7EInv\n",
       "3XZ/CtNrAAAACXBIWXMAAA7EAAAOxAGVKw4bAAADZUlEQVRIx62WXUgUURSAz+7O7s7+OC30pBEs\n",
       "FPYQxaBh6IOtaCZEsmX0oBALPUSBNkIEocEGEYSGAyK2RTaRBCrRppDkQyxGlEQRPRQJC7tgBUqL\n",
       "L2EvRefc2Z29o+vOBHtgZu7cc2a+e+/5uRfAWnanFaiMSOlPdsxiUDmprzBQsdJVGCiFS3Q2LD3o\n",
       "XZIBzurAED32WABtGDHZX7JX7YeTjRpIMgMepa7zFkAbRiT+0muhDoBPxDFfZMDrePeqFkAbRiSC\n",
       "vB1QUHAshxjQowEEwhZAG0YkQbND76c/F4E43KBGQBeOymMVNDaMSGr5F3efVpyhYxqX1COzKH2f\n",
       "Tr+zjFJrI5Lj5MdczdAsvVzRuCW9VYtJEQgxYAfAXUvgFqN9XLsxlG+cIz9CNnPCHGPqYO+fVXy6\n",
       "YgzYD97CByBeyDcOPG/p44G8EYkrWmjdROcUVFS3DsMRbac5e9WB+sf0dKYY0KcFjK9hF1GziagU\n",
       "gPkkB+SMSA0PjS8cySLwNV5xaNfN0Avpr3mg7xHFr7jOgM4MFw5v8WqLY4RJ0JThgJwRqfXE1CMz\n",
       "bgYCfNBzUuVmKEbIIW59hhBrxttM8zyN4W9WYwUBgasRvrQxo9yxFYWp4SP+cW6NquNIrsa0pODe\n",
       "gOm8STFoOq7Skn7UgbNYAfxfxA3iLEuRKZZDAe+EzAPJSFKqPWGm9mLXE2WEgD+1FQM4gT8ac6SA\n",
       "OSPHA6donC5VBw6ivRARcb7gk12xLgYU7qmm4k1GLpgQgandqGyDYWqOQoMBfIaz+D2ZcrMS4TEK\n",
       "hXoZE3kMIUkd6EAvBKNSiDlECDUkEomwJAVOmYBkBICrwNTOEDksq3u9xQDexhl2ZvbW6U6s7jZ2\n",
       "i3FIXApDVbS4PT1VfE2YqDsgGB5iM5TcPdqW7UlMeYGpRRX8GzBKvlqHRQNYFTeVmhf50laQa9x+\n",
       "GFRGurQZqNIaMQOYD2Ehshk4GIgJupoi4o34q8mfhGX0TAHoipQtIK0c0N16cA6Gw2JnBrx38P3M\n",
       "9+Rk+2ag8O3lqq6GcYDTdWuyuAg3csW0oO7thW035h1fd/NMIhEts+MzdU/+xcnuBnCqHNCnbAa6\n",
       "NdtHDCF/eOk2A72ZMsAfW840rv840yzoD9kMrNCprbfEudTP7xYZ++fSV/8A4X7jUnEOadYAAAAA\n",
       "SUVORK5CYII=\n",
       "\" style=\"display:inline;vertical-align:middle;\" /></a></span>"
      ],
      "text/plain": [
       "|- forall_{a, b in Real} [forall_{x in (a,b]} (x in Real)]"
      ]
     },
     "metadata": {},
     "output_type": "display_data"
    }
   ],
   "source": [
    "# all elems of a real interval are real numbers\n",
    "all_in_interval_oc__is__real"
   ]
  },
  {
   "cell_type": "code",
   "execution_count": 24,
   "metadata": {},
   "outputs": [
    {
     "data": {
      "text/html": [
       "<span style=\"font-size:20px;\"> <a class=\"ProveItLink\" href=\"proofs/interval_cc_lower_bound/thm_proof.ipynb\" style=\"text-decoration: none\">&nbsp;&#x22A2;&nbsp;&nbsp;</a><a class=\"ProveItLink\" href=\"../__pv_it/theorems/088bb39806b5057c1d34d4f7260da90c752fd9610/expr.ipynb\"><img src=\"data:image/png;base64,iVBORw0KGgoAAAANSUhEUgAAANwAAAAZBAMAAACoUV21AAAAMFBMVEX///8AAAAAAAAAAAAAAAAA\n",
       "AAAAAAAAAAAAAAAAAAAAAAAAAAAAAAAAAAAAAAAAAAAv3aB7AAAAD3RSTlMAq1RmmUTNIjK7EInv\n",
       "3XZ/CtNrAAAACXBIWXMAAA7EAAAOxAGVKw4bAAADMElEQVRIx62WXWjTUBTHT5u0TdM2FgTBDSWg\n",
       "+CJKmDLZHraOzSmIozjxQUWKPvgBSgY+TqggvmyywhCNwoiwlznG6gZOfJCyMVREGTpQlEoK08mG\n",
       "ZS8y8UE896ZLblLWROiBJPfm/JPfvefcLwBv21FUoR4mFd/7kWWgXnagvjjVw1VfnCRv7jtn4pLk\n",
       "scsD50NEbG+tpigUd5iUL3rgfIjQRHcYguwnVyjuJt4jOQ+cDxEarzjr3KLO1A5SXBhfxWQPnA8R\n",
       "WtwVvi+6w6sTHIdNCnsNFR8itD2O2vhXpzes0JH5tlh84zkyvUVox0jIG5cNWhn9YKW03DAwhdFJ\n",
       "UtxRgAeeOLfoNTPDWpKVwgW8zqrRP6T86LydUigZxzGTGYrrg8iGHoTLlcK+px3XWBwrImZVbufs\n",
       "Ci5R4hzwC6QcsHGHoF3fisO0QHFRPZa2XI2EWdLSUgxm8gyOERG3jQvkbdw89mQNEuZ3161gZqGb\n",
       "frdGcUGDGQSv8OrK4qiSoNVgcIyIuG1cPOvAxXMwma4aKu/ILWT2DjJtxNk2Q1rwt6TT6Y+4lRS7\n",
       "iFFR+ciSSt1IEKdXSf6Gyg1sMCcNaK+aCKF1eIwtXjBxUzjfxY/COlF8llJjVBqLjCgsjogkdXtY\n",
       "HqvkbkIdIrif+pKFG0GcDNuCqmOai3cDBcAAczkT149yPiVgXyGqcJleiuMf5hxLNBFxMCJAbwXX\n",
       "BYOkMAzNFu4J/sAILvL2InaJ3H6PFkK4RPB5ExfA8MfTUpJmgk82a5omS1LshANHRAAYAepGwjyU\n",
       "zGR3WLg72JWdz/p+uFbSHmN3Ez4TaXsDmlSjrdjzLRCXB2jvpNAZvWoDEgoRGDB7J67DMCYE1mDW\n",
       "wiWytWbvDWa/i6tDvfo4JPQWHPM0d/A85cb1xzK86UbCS+FXq5iHz5iSDRyXqoXrZHChzv3TMCgL\n",
       "PQZE7mP91Pf8aLcbx397sWK6kXCyaVURZuFWmZkV9+yfTxSJfbJf0A3FuZuba/64pqVr7ObUXSEE\n",
       "nUvMWI3ORVU3LqT7PjxUCKeduIixOW656qzCwf/iFCeuPiexq9XnTI3dEQzf58y5f55C1AIHzO4Y\n",
       "AAAAAElFTkSuQmCC\n",
       "\" style=\"display:inline;vertical-align:middle;\" /></a></span>"
      ],
      "text/plain": [
       "|- forall_{a, b in Real} [forall_{x in [a,b]} (a <= x)]"
      ]
     },
     "metadata": {},
     "output_type": "display_data"
    }
   ],
   "source": [
    "# all elements in [a, b] are ≥ a\n",
    "interval_cc_lower_bound"
   ]
  },
  {
   "cell_type": "code",
   "execution_count": 25,
   "metadata": {},
   "outputs": [
    {
     "data": {
      "text/html": [
       "<span style=\"font-size:20px;\"> <a class=\"ProveItLink\" href=\"proofs/in_IntervalOO/thm_proof.ipynb\" style=\"text-decoration: none\">&nbsp;&#x22A2;&nbsp;&nbsp;</a><a class=\"ProveItLink\" href=\"../__pv_it/theorems/1efb7df28568e2c28487045b91d1ffaa1bbc081e0/expr.ipynb\"><img src=\"data:image/png;base64,iVBORw0KGgoAAAANSUhEUgAAAPcAAAAXBAMAAAAl5sTiAAAAMFBMVEX///8AAAAAAAAAAAAAAAAA\n",
       "AAAAAAAAAAAAAAAAAAAAAAAAAAAAAAAAAAAAAAAAAAAv3aB7AAAAD3RSTlMAq1RmmUTNIjK7EInv\n",
       "3XZ/CtNrAAAACXBIWXMAAA7EAAAOxAGVKw4bAAADYUlEQVRIx7VWTWgTQRR+TXbzs0k2VUGoBQko\n",
       "gooSpCjtoU2pVkGsxYIHFRvxIHoo24unKvGsYg6KxmrZQxFqDokVrBWUgAgFUYKIP4XAVtRqD6En\n",
       "Kz2I783MZidx0SLbB2958/K9+WbmvXkTAE8l6O42XMYGeC2fXL16osFxUmgzDTZ5xO0rurq3S7Z2\n",
       "p4yrSXLdR54zHpHfc/VqaXkUSOHnHNdLlKmsR+Q9rl4lKY/ilIM2rgETIJLwiLxUl+m7lXfMiNZh\n",
       "Bk1ymUz9uKyAVymXz1cdMoW1pQ70lJ19kuurSuWlR+QK1ptW3XB5kgbnbW44SJltnbf46FR1LZ51\n",
       "M9cDALf/PW9qJeS0FwXmrEP1RXwa9YQRXubV98MsGODHMyIdhmCzDQudrZ9tx6PuIW79pSSdoBjW\n",
       "zh7oMtfRwEnBG6R8DkqZp2YZohb4sDpIw2akv4Zrleacy/XrEZgqupBrdWYtKIoTZaCXh2M6Kx+Z\n",
       "+QLPYxFifCIlDfEihBaBqc+S6m3GMfdmsGB16LD+JA92m7I5I5MDvOaLciKQPJqFAt8irmEwASru\n",
       "mhTSnfjJd07Rcn/N0bTV/Z8NakBEvpCSyAVqjcEx3BRB4thBXYL7NCjLx16woKt2zQ+b4MNfSWES\n",
       "W432PrREZLM6culGSyAxwa5qJDiWdMg5Sr1uCIwwWRBJ2ALtRlMJ2AFXa+RjSJ6A9T6DshXPYP7B\n",
       "n+UKI1hvSipEhxBOsjKEsRAMMHJlNCsVHEOpo7RPhuEmDyLBy+P7OV5SWc8K1DrXA1qW760CBcQ1\n",
       "JcMpfilJoSlD2dKp5KMZhVU+7m93LpdL6HrkiETOUFfEpIjhph2ESSiD1mdt3sWT3nJMkF/FwcbH\n",
       "w98gNotWK/XgWD9XJgUj3IG7iEOU5guVgnCZ7VxXj5sOOUNp04ySMNwUQSQf5LJUp0V7jWVs1zbb\n",
       "uCCU16lxbcDMQ8xshzyMRNIK3kCWc3giFRxDAXzHMmAYblKQkDbXRuCvdaii/ALVXiG1Z+dDPMVQ\n",
       "n4Vf5cuzBQjeQvfRr8XxXoecoVDak8Aw3KQgIWH3vyc37Z5gA+kZbXxKE9IX8rmc03wamsxWw82s\n",
       "u9yyTNjvnLzIhoWqpvNtlBW++Bfd/9lZDY55oXJupO9/kq+OGKsx6W9EOOFwQ1aRZAAAAABJRU5E\n",
       "rkJggg==\n",
       "\" style=\"display:inline;vertical-align:middle;\" /></a></span>"
      ],
      "text/plain": [
       "|- forall_{a, b, x in Real | a < x < b} (x in (a,b))"
      ]
     },
     "metadata": {},
     "output_type": "display_data"
    }
   ],
   "source": [
    "# reals greater than a but less than b are in the interval (a, b)\n",
    "in_IntervalOO"
   ]
  },
  {
   "cell_type": "code",
   "execution_count": 26,
   "metadata": {},
   "outputs": [
    {
     "data": {
      "text/html": [
       "<span style=\"font-size:20px;\"> <a class=\"ProveItLink\" href=\"proofs/not_int_if_between_successive_int/thm_proof.ipynb\" style=\"text-decoration: none\">&nbsp;&#x22A2;&nbsp;&nbsp;</a><a class=\"ProveItLink\" href=\"../__pv_it/theorems/a33745e5fbf513df4067c987420667b91c789d4b0/expr.ipynb\"><img src=\"data:image/png;base64,iVBORw0KGgoAAAANSUhEUgAAAO4AAAAZCAMAAAABp+KxAAAARVBMVEX///8AAAAAAAAAAAAAAAAA\n",
       "AAAAAAAAAAAAAAAAAAAAAAAAAAAAAAAAAAAAAAAAAAAAAAAAAAAAAAAAAAAAAAAAAAAAAAAeYafp\n",
       "AAAAFnRSTlMAq1RmmUTNIjK7EInv3Xbp8+P355HBoPSVsQAAAAlwSFlzAAAOxAAADsQBlSsOGwAA\n",
       "A2dJREFUWMPVWAeu3CAQpZo+6b7/UTMUY3A3Ub60yFqty4N5TIeQ4UFDCIp8zAAUl/0DfiKfNjj/\n",
       "KLpq6K36ULpwbYuTXf6xyc9+MiEYjwQlNHRp/ZzxAbrj8NeDucvXehUFDNVZwCQj8JWukFV8NUB3\n",
       "HP522BtrWiUhQhSWjnV6R7p1U5QZMeZx+NshbqwnNDkj7rw18co0xeq7C3XHhnx3GP52+AunRjf9\n",
       "9n3VfhJJaJJMOmFtpbuEq2ksVA3D33ru6QJyAmRTqa2urEUVla+y+hCHd4OReRT+1pbLAhaAWu1W\n",
       "Y1LJvnaebWy8ynB0pSt0eT1G9x7O3gYxOFqtWBFqDCgQEfoQyWEXxptHvLFERZefk2LRGyfwOqF7\n",
       "BydcPo++RS5xEImyOjmS47MllB+HkOZpo2/mG8eLmnF7mTRQY/BxLIydBXtWZhzDFzSx9N5QKway\n",
       "0uTeNXxeIZqSaA1XJ2f68RNrir4iySJlqfXc0GVwFGmEKM6P32im+GlVdQiv6DYfno1VUBbIobIq\n",
       "3fS3NdycbDZ5AR+WxJhyEpGtdlHYYudccNxh0ZUiefvFRRFZ4QSxCq8OHTYTH9zu6e7T2trNyBkX\n",
       "sLabP2z8Txeedm6nLXQdy7tpuYxFplekZujiMExf0F3gBBShhkysRaupn5jsbw/ost32GshqkxhL\n",
       "4pqr3eIL2X+OGag8oYWnaekqn/1LWYjCYSQgslGuBeKuWoQFHs0epdIdWpp+YrK/PaArdzVaziVs\n",
       "1lYgXdloH7d3k3QxmiQFKMNMm8WWGqF+TqEYOp9MGiztpLOt+ew6oma1OaeFFc1oP/FmHRE/8/GH\n",
       "t3T1jq5Ob6xAZTLBW1u31PzqZJPeTHFKbItM5hnkcQPodSqwNdGrPiXT8TNnHzSA2qf+skEXwevE\n",
       "5OD2iTGToE9D3e8/WEWG87pOheN+V81p3uipTUmS4pQMt/2u8sRNOa00VUfoJ7auX+eYLuwrDS4e\n",
       "dLrX3cWWroyWBy4VH2bJQ5RScGai9+29AOkAbItGLqqbWHvWrdPSVW6aHVTQNlidHlfcNGP1/dVp\n",
       "hnXRo+TgacaK3pUM7CLvdsn0ycMnzVjdpy85vBG9VqQ9rarOIIuW4KTKvanA1deeVfVB7sGSL6rs\n",
       "LzyJfHzO/LbZsv+DK2CXyv8CArobBe+D5RcAAAAASUVORK5CYII=\n",
       "\" style=\"display:inline;vertical-align:middle;\" /></a></span>"
      ],
      "text/plain": [
       "|- forall_{n in Integer} [forall_{x in (n,n + 1)} (x not-in Integer)]"
      ]
     },
     "metadata": {},
     "output_type": "display_data"
    }
   ],
   "source": [
    "# a real value between successive integers is not itself an integer\n",
    "not_int_if_between_successive_int"
   ]
  },
  {
   "cell_type": "markdown",
   "metadata": {},
   "source": [
    "## Demonstrations <a id='further_demonstrations'></a>"
   ]
  },
  {
   "cell_type": "markdown",
   "metadata": {},
   "source": [
    "<a id='demo01'></a><font size=4><b>1.</b> $2\\in(1,3]$ and $2\\in[1,3]$</font><br><br>\n",
    "<font size=3>We begin with a simple demonstration deriving the judgment $\\vdash 2\\in(1, 3]$, and then also deriving as a judgment the fact that $2\\in[1, 3]$ using an `IntervalOC` method based on a relaxation theorem.</font>"
   ]
  },
  {
   "cell_type": "markdown",
   "metadata": {},
   "source": [
    "<font size=3>First we define a real number interval of interest:</font>"
   ]
  },
  {
   "cell_type": "code",
   "execution_count": 27,
   "metadata": {},
   "outputs": [
    {
     "data": {
      "text/html": [
       "<strong id=\"interval_O1_3C\">interval_O1_3C:</strong> <a class=\"ProveItLink\" href=\"../__pv_it/demonstrations/cb97b0aa4173f8ba02bb8a09af58c0f3606fb10e0/expr.ipynb\"><img src=\"data:image/png;base64,iVBORw0KGgoAAAANSUhEUgAAACcAAAAVBAMAAAA3P+qgAAAAMFBMVEX///8AAAAAAAAAAAAAAAAA\n",
       "AAAAAAAAAAAAAAAAAAAAAAAAAAAAAAAAAAAAAAAAAAAv3aB7AAAAD3RSTlMAInZUiRDNmWbv3US7\n",
       "qzJazP2FAAAACXBIWXMAAA7EAAAOxAGVKw4bAAAAwklEQVQY02NgYBBgQAFMqx4ACQNUQQaWDQwM\n",
       "JkD6VQCEz+hSswEkyJrAwHo9HyoYzsD8GSTI3gDk6EMF9Q1Yv4EEORmQBHduYAALmiELMjAw/wAJ\n",
       "lqAK7moACWagCD66+wAkuBhNO9j22aiCDPMD0AXfMTCcN0DX/j8AIngIJggSnwvV7gsS9BdgAHqF\n",
       "gaED6s5XQPbd+bkNDKuASrnLIQHC9QDmmABE0HEUwNjI4XkQyg5CFoyBshWQBRkV0OJo5QYAuvw9\n",
       "n5ZIsTkAAAAASUVORK5CYII=\n",
       "\" style=\"display:inline;vertical-align:middle;\" /></a><br>"
      ],
      "text/plain": [
       "<IPython.core.display.HTML object>"
      ]
     },
     "metadata": {},
     "output_type": "display_data"
    }
   ],
   "source": [
    "interval_O1_3C = IntervalOC(one, three)"
   ]
  },
  {
   "cell_type": "markdown",
   "metadata": {},
   "source": [
    "<font size=3>We can automatically deduce that $2\\in(1,3]$.</font>"
   ]
  },
  {
   "cell_type": "code",
   "execution_count": 28,
   "metadata": {},
   "outputs": [
    {
     "data": {
      "text/html": [
       "<span style=\"font-size:20px;\"> <a class=\"ProveItLink\" href=\"../__pv_it/demonstrations/b2e8d5b70155342ce9a08bf5d2571506848a01070/proof.ipynb\" style=\"text-decoration: none\">&nbsp;&#x22A2;&nbsp;&nbsp;</a><a class=\"ProveItLink\" href=\"../__pv_it/demonstrations/8ab0d813787a6eb402293dc6c0666aec86e7dd7c0/expr.ipynb\"><img src=\"data:image/png;base64,iVBORw0KGgoAAAANSUhEUgAAAEwAAAAVBAMAAAAeOBUnAAAAMFBMVEX///8AAAAAAAAAAAAAAAAA\n",
       "AAAAAAAAAAAAAAAAAAAAAAAAAAAAAAAAAAAAAAAAAAAv3aB7AAAAD3RSTlMAIpnNuzKJRKvvEN12\n",
       "ZlQ4bmvwAAAACXBIWXMAAA7EAAAOxAGVKw4bAAABT0lEQVQoz2NgwAIY0fint2JTxXAOXSCdgVHJ\n",
       "JABNkC+BgYF1F5QjluQOUibCwPYdTdliBoYVyr8gbC4FhvcPgMoaGRhmoinTBWIeqDKefwzrDYDK\n",
       "5i9g6BcAixzZvdsAzJiApIx9OgM/SFk3A0M/2HHFp2BOM0BSBgTvLwCVAcF+cCBYwYSZElCUse9l\n",
       "ACtj/QPiMQvAxJkvICtjPdEKUcbdAJaEW8L9AM3SB2BlKmBO5G4gcACxOAtQlXH+AinjBRvGsAQh\n",
       "jKyMNYCB5R9I2TMGRpCzuLFbyv8Loow1gYFnAUj8AEwZywGoMi6Q0Q0QS6WVlLTBsnYwZWwgV7B9\n",
       "ZAAFPwPvBUi47f///zNYdoX7AqhzNjAwcHR+7mXgBkV/kZI7JEBgoMwbGlnw1PUKkZCwgEswRgJe\n",
       "ZSzQCOE6gFcZlwM0ETHgVcYgg54XpgMAeQhZSWgJmd4AAAAASUVORK5CYII=\n",
       "\" style=\"display:inline;vertical-align:middle;\" /></a></span>"
      ],
      "text/plain": [
       "|- 2 in (1,3]"
      ]
     },
     "metadata": {},
     "output_type": "display_data"
    }
   ],
   "source": [
    "interval_O1_3C.deduce_elem_in_set(two)"
   ]
  },
  {
   "cell_type": "markdown",
   "metadata": {},
   "source": [
    "<font size=3>Then we consider the closed real interval $[1,3]$:</font>"
   ]
  },
  {
   "cell_type": "code",
   "execution_count": 29,
   "metadata": {},
   "outputs": [
    {
     "data": {
      "text/html": [
       "<strong id=\"interval_C1_3C\">interval_C1_3C:</strong> <a class=\"ProveItLink\" href=\"../__pv_it/demonstrations/58b307ad4c4add3816a967499efcc6fa9d891d5d0/expr.ipynb\"><img src=\"data:image/png;base64,iVBORw0KGgoAAAANSUhEUgAAACUAAAAVBAMAAAAzyjqdAAAAMFBMVEX///8AAAAAAAAAAAAAAAAA\n",
       "AAAAAAAAAAAAAAAAAAAAAAAAAAAAAAAAAAAAAAAAAAAv3aB7AAAAD3RSTlMAdt0yiUQQq5nNIu9m\n",
       "VLvPy6LmAAAACXBIWXMAAA7EAAAOxAGVKw4bAAAAkklEQVQY02MQUmZAAYxKBgyuDGiAJQAsZpQA\n",
       "4XK59AVAxNgq5kPFMhh4/8LUyUPF5C+w/UQXiw5gwBBjYOD9gykWdABDzLDcAIvev5hiDPsT0MSM\n",
       "GRjeX0AT+5+AKgYS3o6k138BA9ADDAxnEO4r3z/9AIMSUCFrBywMoK5IQA0rMJMBUywRi5gAkpgT\n",
       "enxoBwAAbbcve4z7ChoAAAAASUVORK5CYII=\n",
       "\" style=\"display:inline;vertical-align:middle;\" /></a><br>"
      ],
      "text/plain": [
       "<IPython.core.display.HTML object>"
      ]
     },
     "metadata": {},
     "output_type": "display_data"
    }
   ],
   "source": [
    "interval_C1_3C = IntervalCC(one, three)"
   ]
  },
  {
   "cell_type": "markdown",
   "metadata": {},
   "source": [
    "<font size=3>The underlying machinery will not automatically prove that $2$ is also in this closed interval $[1, 3]$, despite the fact that we have the judgment $2\\in(1,3]$: YES IT WILL NOW, SO CHANGE THIS</font>"
   ]
  },
  {
   "cell_type": "code",
   "execution_count": 30,
   "metadata": {},
   "outputs": [
    {
     "data": {
      "text/html": [
       "<span style=\"font-size:20px;\"> <a class=\"ProveItLink\" href=\"../__pv_it/demonstrations/fba80c7ee5c042bd4bd4529cb73d55fb72ba8f1b0/proof.ipynb\" style=\"text-decoration: none\">&nbsp;&#x22A2;&nbsp;&nbsp;</a><a class=\"ProveItLink\" href=\"../__pv_it/demonstrations/e2df0b0fef9eae78092c877f17ffa481da1bde060/expr.ipynb\"><img src=\"data:image/png;base64,iVBORw0KGgoAAAANSUhEUgAAAEoAAAAVBAMAAAATJmVgAAAAMFBMVEX///8AAAAAAAAAAAAAAAAA\n",
       "AAAAAAAAAAAAAAAAAAAAAAAAAAAAAAAAAAAAAAAAAAAv3aB7AAAAD3RSTlMAIpnNuzKJRKvvEN12\n",
       "ZlQ4bmvwAAAACXBIWXMAAA7EAAAOxAGVKw4bAAABH0lEQVQoz2NgwAA8uwNQBU5vxVTEwFaALpLO\n",
       "wKhkEoCpinUXlCOW5A5SJcLA9h1D1QrlXxA2lwLD+wdAVY0MDDMxzeKBquL5x7DeAKhq/gKGfgGw\n",
       "yJHduw3QVbFPZ+AHqepmYOgHO6z4FBazgOD9BaAqINgPIhitGLCqYt/LAFbF+gfEYxbAqor1RCtE\n",
       "FXcDWBUDAw4bH4BVqYA5kbuBwAGLKs5fIFW8YKMYlmA1izWAgeUfSNUzBkaQk7ixquL/BVHFmsDA\n",
       "swAUfgfQVXGBrGuA2CitpKQNlrRDVsX2kQEU6Ay8FyDhtf///89gyRXuC+CqODo/9zJwg2K8SMkd\n",
       "EhIwUOaNiCEweIVIOXjSVwIxqrgOEKOKhwGvKox0Px0A+2VZW5CEOKwAAAAASUVORK5CYII=\n",
       "\" style=\"display:inline;vertical-align:middle;\" /></a></span>"
      ],
      "text/plain": [
       "|- 2 in [1,3]"
      ]
     },
     "metadata": {},
     "output_type": "display_data"
    }
   ],
   "source": [
    "InSet(two, IntervalCC(one, three)).prove()"
   ]
  },
  {
   "cell_type": "code",
   "execution_count": 31,
   "metadata": {},
   "outputs": [],
   "source": [
    "# from proveit import ProofFailure\n",
    "# try:\n",
    "#     InSet(two, IntervalCC(one, three)).prove()\n",
    "#     assert False, \"Expecting a ProofFailure error; should not make it to this point\"\n",
    "# except ProofFailure as e:\n",
    "#     print(\"EXPECTED ERROR:\", e)"
   ]
  },
  {
   "cell_type": "markdown",
   "metadata": {},
   "source": [
    "<font size=3>We could instead use the `deduce_elem_in_set()` Interval class method, or we can use the `deduce_relaxed_membership()` method variation, and because we have previously shown that $2\\in(1,3]$ we don't need to provide that fact as an assumption for the deduction:</font>"
   ]
  },
  {
   "cell_type": "code",
   "execution_count": 32,
   "metadata": {},
   "outputs": [
    {
     "data": {
      "text/html": [
       "<strong id=\"two_in_O1_3C\">two_in_O1_3C:</strong> <span style=\"font-size:20px;\"> <a class=\"ProveItLink\" href=\"../__pv_it/demonstrations/fba80c7ee5c042bd4bd4529cb73d55fb72ba8f1b0/proof.ipynb\" style=\"text-decoration: none\">&nbsp;&#x22A2;&nbsp;&nbsp;</a><a class=\"ProveItLink\" href=\"../__pv_it/demonstrations/e2df0b0fef9eae78092c877f17ffa481da1bde060/expr.ipynb\"><img src=\"data:image/png;base64,iVBORw0KGgoAAAANSUhEUgAAAEoAAAAVBAMAAAATJmVgAAAAMFBMVEX///8AAAAAAAAAAAAAAAAA\n",
       "AAAAAAAAAAAAAAAAAAAAAAAAAAAAAAAAAAAAAAAAAAAv3aB7AAAAD3RSTlMAIpnNuzKJRKvvEN12\n",
       "ZlQ4bmvwAAAACXBIWXMAAA7EAAAOxAGVKw4bAAABH0lEQVQoz2NgwAA8uwNQBU5vxVTEwFaALpLO\n",
       "wKhkEoCpinUXlCOW5A5SJcLA9h1D1QrlXxA2lwLD+wdAVY0MDDMxzeKBquL5x7DeAKhq/gKGfgGw\n",
       "yJHduw3QVbFPZ+AHqepmYOgHO6z4FBazgOD9BaAqINgPIhitGLCqYt/LAFbF+gfEYxbAqor1RCtE\n",
       "FXcDWBUDAw4bH4BVqYA5kbuBwAGLKs5fIFW8YKMYlmA1izWAgeUfSNUzBkaQk7ixquL/BVHFmsDA\n",
       "swAUfgfQVXGBrGuA2CitpKQNlrRDVsX2kQEU6Ay8FyDhtf///89gyRXuC+CqODo/9zJwg2K8SMkd\n",
       "EhIwUOaNiCEweIVIOXjSVwIxqrgOEKOKhwGvKox0Px0A+2VZW5CEOKwAAAAASUVORK5CYII=\n",
       "\" style=\"display:inline;vertical-align:middle;\" /></a></span><br>"
      ],
      "text/plain": [
       "<IPython.core.display.HTML object>"
      ]
     },
     "metadata": {},
     "output_type": "display_data"
    }
   ],
   "source": [
    "two_in_O1_3C = interval_O1_3C.deduce_relaxed_membership(two)"
   ]
  },
  {
   "cell_type": "markdown",
   "metadata": {},
   "source": [
    "<font size=3>The proof that Prove-It produces involves a number of steps dealing with the elements 1, 2, and 3 being positive naturals (important in this case as a subset of the reals), and the definition of $2\\in(1,3]$, all of which eventually lead to the instantiation of a relaxation theorem (see rows 0–4):</font>"
   ]
  },
  {
   "cell_type": "code",
   "execution_count": 33,
   "metadata": {},
   "outputs": [
    {
     "data": {
      "text/html": [
       "<table><tr><th>&nbsp;</th><th>step type</th><th>requirements</th><th>statement</th></tr>\n",
       "<tr><td><a name=\"-0xd787e7cd458a673_step0\">0</a></td><td>instantiation</td><td><a href=\"#-0xd787e7cd458a673_step1\">1</a>, <a href=\"#-0xd787e7cd458a673_step2\">2</a>, <a href=\"#-0xd787e7cd458a673_step3\">3</a>, <a href=\"#-0xd787e7cd458a673_step4\">4</a></td><td><span style=\"font-size:20px;\"> <a class=\"ProveItLink\" href=\"../__pv_it/demonstrations/fba80c7ee5c042bd4bd4529cb73d55fb72ba8f1b0/proof.ipynb\" style=\"text-decoration: none\">&nbsp;&#x22A2;&nbsp;&nbsp;</a><a class=\"ProveItLink\" href=\"../__pv_it/demonstrations/e2df0b0fef9eae78092c877f17ffa481da1bde060/expr.ipynb\"><img src=\"data:image/png;base64,iVBORw0KGgoAAAANSUhEUgAAAEoAAAAVBAMAAAATJmVgAAAAMFBMVEX///8AAAAAAAAAAAAAAAAA\n",
       "AAAAAAAAAAAAAAAAAAAAAAAAAAAAAAAAAAAAAAAAAAAv3aB7AAAAD3RSTlMAIpnNuzKJRKvvEN12\n",
       "ZlQ4bmvwAAAACXBIWXMAAA7EAAAOxAGVKw4bAAABH0lEQVQoz2NgwAA8uwNQBU5vxVTEwFaALpLO\n",
       "wKhkEoCpinUXlCOW5A5SJcLA9h1D1QrlXxA2lwLD+wdAVY0MDDMxzeKBquL5x7DeAKhq/gKGfgGw\n",
       "yJHduw3QVbFPZ+AHqepmYOgHO6z4FBazgOD9BaAqINgPIhitGLCqYt/LAFbF+gfEYxbAqor1RCtE\n",
       "FXcDWBUDAw4bH4BVqYA5kbuBwAGLKs5fIFW8YKMYlmA1izWAgeUfSNUzBkaQk7ixquL/BVHFmsDA\n",
       "swAUfgfQVXGBrGuA2CitpKQNlrRDVsX2kQEU6Ay8FyDhtf///89gyRXuC+CqODo/9zJwg2K8SMkd\n",
       "EhIwUOaNiCEweIVIOXjSVwIxqrgOEKOKhwGvKox0Px0A+2VZW5CEOKwAAAAASUVORK5CYII=\n",
       "\" style=\"display:inline;vertical-align:middle;\" /></a></span></td></tr>\n",
       "<tr><td>&nbsp;</td><td colspan=4 style=\"text-align:left\"><span style=\"font-size:20px;\"><a class=\"ProveItLink\" href=\"../../../../__pv_it/common/c06c606ec12678c58933ac85412ecadc2ae28be60/expr.ipynb\"><img src=\"data:image/png;base64,iVBORw0KGgoAAAANSUhEUgAAAAsAAAAJBAMAAAAWSsseAAAAMFBMVEX///8AAAAAAAAAAAAAAAAA\n",
       "AAAAAAAAAAAAAAAAAAAAAAAAAAAAAAAAAAAAAAAAAAAv3aB7AAAAD3RSTlMAIquJdkTvuxBmmd1U\n",
       "zTKBpmoTAAAACXBIWXMAAA7EAAAOxAGVKw4bAAAARUlEQVQI12NgYFR2dGBgYAgTYP/BwMCRycC1\n",
       "gYGB6wMDtwEDA1sBQ38AA0O/A8N8oIr+Awy6PAIM7A48u7iAKlXshPwYAE2lCqdX0eXEAAAAAElF\n",
       "TkSuQmCC\n",
       "\" style=\"display:inline;vertical-align:middle;\" /></a> : <a class=\"ProveItLink\" href=\"../../../numerals/__pv_it/common/682157d4892d216d9e5626ed533aff9b56b9506e0/expr.ipynb\"><img src=\"data:image/png;base64,iVBORw0KGgoAAAANSUhEUgAAAAgAAAAOBAMAAADgeEClAAAAJ1BMVEX///8AAAAAAAAAAAAAAAAA\n",
       "AAAAAAAAAAAAAAAAAAAAAAAAAAAAAAAilU6eAAAADHRSTlMAMt0Qq5nNdoki72YJhDyyAAAACXBI\n",
       "WXMAAA7EAAAOxAGVKw4bAAAAH0lEQVQI12NgYFRmYDAJO8zAwMBOMsFxkoGBxeuYNwB0KguGAVQB\n",
       "OAAAAABJRU5ErkJggg==\n",
       "\" style=\"display:inline;vertical-align:middle;\" /></a>, <a class=\"ProveItLink\" href=\"../../../../__pv_it/common/195236b98c6c564a75b5dbada74b173bc52d5c3e0/expr.ipynb\"><img src=\"data:image/png;base64,iVBORw0KGgoAAAANSUhEUgAAAAkAAAAOBAMAAAAPuiubAAAAMFBMVEX///8AAAAAAAAAAAAAAAAA\n",
       "AAAAAAAAAAAAAAAAAAAAAAAAAAAAAAAAAAAAAAAAAAAv3aB7AAAAD3RSTlMAELvv3c2ZVESJq3Yi\n",
       "MmZ3LnoBAAAACXBIWXMAAA7EAAAOxAGVKw4bAAAAT0lEQVQI12NgVHZgAALWBBDJXwAi+wVA5BQQ\n",
       "wRC1ezkDA+NXAfkDDOwfGZg3MLAFMPBPYGCZwNBfAFKeL8DAf4HRjoGB6wET0AjGlXkMDAAVqA7Q\n",
       "GyenWgAAAABJRU5ErkJggg==\n",
       "\" style=\"display:inline;vertical-align:middle;\" /></a> : <a class=\"ProveItLink\" href=\"../../../numerals/__pv_it/common/1943b60945420e340d305780feff5c1aff2740ff0/expr.ipynb\"><img src=\"data:image/png;base64,iVBORw0KGgoAAAANSUhEUgAAAAoAAAAOBAMAAADkjZCYAAAAMFBMVEX///8AAAAAAAAAAAAAAAAA\n",
       "AAAAAAAAAAAAAAAAAAAAAAAAAAAAAAAAAAAAAAAAAAAv3aB7AAAAD3RSTlMAIomZu0QQVHbN72bd\n",
       "Mqv0UZE7AAAACXBIWXMAAA7EAAAOxAGVKw4bAAAATElEQVQI12NgEFJ2ZWBgM2CoL2Dg+M6QP4GB\n",
       "dSkD/wQGIKjfACRYTwMJ3r63DGCRAhDJ9Y2B9wIDy3cG/m8gkusBSIR7A1h9sLErAwDNcRLUUVUn\n",
       "vwAAAABJRU5ErkJggg==\n",
       "\" style=\"display:inline;vertical-align:middle;\" /></a>, <a class=\"ProveItLink\" href=\"../../../../__pv_it/common/a0d9d672aa5e272d907247690c152cc2c6daafb70/expr.ipynb\"><img src=\"data:image/png;base64,iVBORw0KGgoAAAANSUhEUgAAAAsAAAAJBAMAAAAWSsseAAAAMFBMVEX///8AAAAAAAAAAAAAAAAA\n",
       "AAAAAAAAAAAAAAAAAAAAAAAAAAAAAAAAAAAAAAAAAAAv3aB7AAAAD3RSTlMAEHarMolUmd1mIs3v\n",
       "RLtmgJDEAAAACXBIWXMAAA7EAAAOxAGVKw4bAAAAQklEQVQI12NgEFIWCU1gYChgMmJvYOBcwPmR\n",
       "eQIDCwP7BgYQ4FEAU/cXMAowyF2wYWBlYMh3rGG4xsAgrsRWmcAAAFEjCyBvD0T9AAAAAElFTkSu\n",
       "QmCC\n",
       "\" style=\"display:inline;vertical-align:middle;\" /></a> : <a class=\"ProveItLink\" href=\"../../../numerals/__pv_it/common/af4aab8a07465db063742696e006d04670f30cf10/expr.ipynb\"><img src=\"data:image/png;base64,iVBORw0KGgoAAAANSUhEUgAAAAkAAAAOBAMAAAAPuiubAAAAMFBMVEX///8AAAAAAAAAAAAAAAAA\n",
       "AAAAAAAAAAAAAAAAAAAAAAAAAAAAAAAAAAAAAAAAAAAv3aB7AAAAD3RSTlMAIpnNuzKJRKvvEN12\n",
       "ZlQ4bmvwAAAACXBIWXMAAA7EAAAOxAGVKw4bAAAATklEQVQI12NgVDIJYGAQYWD7zsDQyMAwk4Fh\n",
       "/gKGfgGGbgaGfqAEA8N+EMH6B0RyN4BIFRDBC2Y+Y2AUYGBNYOBZwCCtpKQNVPz//2cGAEeID1mi\n",
       "/zO7AAAAAElFTkSuQmCC\n",
       "\" style=\"display:inline;vertical-align:middle;\" /></a></span></td></tr><tr><td><a name=\"-0xd787e7cd458a673_step1\">1</a></td><td>conjecture</td><td></td><td><span style=\"font-size:20px;\"> <a class=\"ProveItLink\" href=\"proofs/relax_IntervalOC/thm_proof.ipynb\" style=\"text-decoration: none\">&nbsp;&#x22A2;&nbsp;&nbsp;</a><a class=\"ProveItLink\" href=\"../__pv_it/theorems/b79210494d2cb843c2fd1cda9e8d064b4e1aad780/expr.ipynb\"><img src=\"data:image/png;base64,iVBORw0KGgoAAAANSUhEUgAAAPoAAAAZBAMAAADqEi4iAAAAMFBMVEX///8AAAAAAAAAAAAAAAAA\n",
       "AAAAAAAAAAAAAAAAAAAAAAAAAAAAAAAAAAAAAAAAAAAv3aB7AAAAD3RSTlMAq1RmmUTNIjK7EInv\n",
       "3XZ/CtNrAAAACXBIWXMAAA7EAAAOxAGVKw4bAAAD4ElEQVRIx7WWW2gTWRjH/5nMJDOTZBpWELUo\n",
       "ERcfBGWoN9oHjdTbizWsIqzKWn0RhZXpiyCsMoIIYrFBKTjemAcRtEiC4m1BiMqywrISZPFSDEy1\n",
       "2GXF0Bet+CB7LunkTBo6VezAXM5hzvl9l/855wPCr7kVC9NwGZWnU/mtG9N0Lf3O9HizzvcvGp22\n",
       "YU0H/XWzzluNHYkcfuH0NH0tCKFH6EsyQ+FSMYyuXygzumEy+jratzeELufIKxauvSsI9T2WZXTs\n",
       "Z/SjNFv5ELpKI3QoPPCd4fSWDKcvY/SYS1qZsLxTS2+E00sBcV2sPJtI3+VyetKl9ChJQCxUdUun\n",
       "JD5J/EU54Dbz/T5XHWImm/XvSuWvUHqyUnlVDKXL5Be9Oucki9JBV4h8vHXE443d1R8YPZFm9I3A\n",
       "uVC6bENzA24KEmxPjyuK+CNjyNsUVDKh77S0z1zzH92CRelRHtEexMdHQ91X+1h8e80BkU5+6QlY\n",
       "tHz84zhR7Pj4FNHPSqx2ZwR3iVvQH0Euc6s/I+lRulRidM2ljdrVSk0YcnJGAneK4m5zrp69U7P7\n",
       "ofsGR4p1epJMZGM9d4RktPKyRpdHkeLTyd1oKVKgOsrokieI7jG519pErwY6PJG+xPdF3kgfvsFJ\n",
       "O0gHnvAQ5wXfk3kU+AhixK4MpSulmpZXkcfAqjvU4C9DLtuFCP2/rEiPRYkxxvCRDXjDJiHT33xH\n",
       "c99XnROIPJQxXKONskAveFjtL/fNLNhSmdNvkMWsP1fHKHTQyF5lazURv2SK9MRCIrqRSH4P9+kg\n",
       "cN3qo/T37rBP1zzo/ZESWJCrIj2DmZKlU7pNNMBUl+f038hgOavSnUIzo91bGF0+nw+cMvEH5GFq\n",
       "nq0wo34mCUIv/TqDFT6drCLp0+WSwjavWKZO1zzpHxkFMlHE1LKMTlcnpUdsmjEjzZIop1c4jpMx\n",
       "jMRPwTNuFoubheg+xzmN+cAfGOJKWePT1TL0Lu/HNp742dvrmp93t+dfpAZJb2sn321SufoJW7C0\n",
       "DhLaFiQzJ5nvhrLDnXjC9sJSWVhPQB/DGZrfUTz06Qgc5Mq9xp12Uf2ExWHhfE9afVvcAaTcdr6r\n",
       "kBX3e7aRHi/dRpZvTUR1f6ofOvQiBkkCffqyyU+ZokDvFOhK55Kb6M2oXR7iZ0l729vi5fUTfO/a\n",
       "UXVxyKYCsbC17Z2pPsSxan3F0e5J6LpXp7NjNVjbcJ0MOE5uktpGv+f0Q6m5IbGnT9fzk9ENobZh\n",
       "dgboijv1ymoDf20P0nGk2fj7jXXdqxxGJtR10a+o6xLcUrOBPg017a/N6nkhTu3eN9bzj/4HmiMA\n",
       "LZvJV7EAAAAASUVORK5CYII=\n",
       "\" style=\"display:inline;vertical-align:middle;\" /></a></span></td></tr>\n",
       "<tr><td>&nbsp;</td><td colspan=4 style-\"text-align:left\"><a class=\"ProveItLink\" href=\"proofs/relax_IntervalOC/thm_proof.ipynb\">proveit.numbers.number_sets.real_numbers.relax_IntervalOC</a></td></tr><tr><td><a name=\"-0xd787e7cd458a673_step2\">2</a></td><td><i>reference</i></td><td><a href=\"#-0xd787e7cd458a673_step6\">6</a></td><td><span style=\"font-size:20px;\"> <a class=\"ProveItLink\" href=\"../__pv_it/demonstrations/dd65dadbf944daca6b3ed680f020bdcdafc360f50/proof.ipynb\" style=\"text-decoration: none\">&nbsp;&#x22A2;&nbsp;&nbsp;</a><a class=\"ProveItLink\" href=\"../__pv_it/demonstrations/e85b82706e67941bf6fbd12d76d066206df49cb50/expr.ipynb\"><img src=\"data:image/png;base64,iVBORw0KGgoAAAANSUhEUgAAADIAAAAQBAMAAACmdTG/AAAAMFBMVEX///8AAAAAAAAAAAAAAAAA\n",
       "AAAAAAAAAAAAAAAAAAAAAAAAAAAAAAAAAAAAAAAAAAAv3aB7AAAAD3RSTlMAMt0Qq5nNdoki72a7\n",
       "RFSRpcO+AAAACXBIWXMAAA7EAAAOxAGVKw4bAAAAqUlEQVQY02NgQAfcWWe+aZ0GsRiV0aR4OB14\n",
       "vQ8zMJiEfcaQaWA4IAJksGOTiWRDlqlRUkqAy/AgyVwrRtLjbIKQ4UxGMo3xXCZChm0CQmaZvroB\n",
       "kgySC7o3gy2EykgpAcEBqGmHdyPJ2CC7WpQHyTQmZBlWyQMIGfYCJBnmA9VABsdPiEAeQiaAYTfP\n",
       "BQYWr2/eYAGTswawsP4zgefYP6TwunEIEjpQAACX8zHRfAI5BwAAAABJRU5ErkJggg==\n",
       "\" style=\"display:inline;vertical-align:middle;\" /></a></span></td></tr>\n",
       "<tr><td><a name=\"-0xd787e7cd458a673_step3\">3</a></td><td><i>reference</i></td><td><a href=\"#-0xd787e7cd458a673_step7\">7</a></td><td><span style=\"font-size:20px;\"> <a class=\"ProveItLink\" href=\"../__pv_it/demonstrations/ba501ba16b5e9e3deab9cdcd178eaff774c54b5b0/proof.ipynb\" style=\"text-decoration: none\">&nbsp;&#x22A2;&nbsp;&nbsp;</a><a class=\"ProveItLink\" href=\"../__pv_it/demonstrations/fadaeb029e616f6bbcf826d0a45473e470fa61e80/expr.ipynb\"><img src=\"data:image/png;base64,iVBORw0KGgoAAAANSUhEUgAAADMAAAAQBAMAAABJt1qBAAAAMFBMVEX///8AAAAAAAAAAAAAAAAA\n",
       "AAAAAAAAAAAAAAAAAAAAAAAAAAAAAAAAAAAAAAAAAAAv3aB7AAAAD3RSTlMAIomZu0QQVHbN72bd\n",
       "Mqv0UZE7AAAACXBIWXMAAA7EAAAOxAGVKw4bAAAA1klEQVQY02NgwAA7l/jPWbIBxBJSdkWTc5Bj\n",
       "iNuSwMDAZsBQX4AmJcTAwvuAgYHjO0P+BAwpZgGgGOtSBn6IFIfPmZMIKQcwsx5sJ+uMBIQuvrQH\n",
       "YLHTYAHJBCQDr1QKABm8fW/BAhMRdknN+dMGYUJcOAHJGbszoUyubyDNa86cOXMEKsWSDbKe9wID\n",
       "y3cgzeaApIvXwA1I83+DSDEcQPaXrQjItAcQAxk6kKVSOIAmcm+A+osTHlwOwkBRUMAGG0OCl+1J\n",
       "GDzkHRlc5iMHLKsKNKCgAAD1NDiww7nWBQAAAABJRU5ErkJggg==\n",
       "\" style=\"display:inline;vertical-align:middle;\" /></a></span></td></tr>\n",
       "<tr><td><a name=\"-0xd787e7cd458a673_step4\">4</a></td><td>instantiation</td><td><a href=\"#-0xd787e7cd458a673_step5\">5</a>, <a href=\"#-0xd787e7cd458a673_step6\">6</a>, <a href=\"#-0xd787e7cd458a673_step7\">7</a>, <a href=\"#-0xd787e7cd458a673_step8\">8</a>, <a href=\"#-0xd787e7cd458a673_step9\">9</a></td><td><span style=\"font-size:20px;\"> <a class=\"ProveItLink\" href=\"../__pv_it/demonstrations/b2e8d5b70155342ce9a08bf5d2571506848a01070/proof.ipynb\" style=\"text-decoration: none\">&nbsp;&#x22A2;&nbsp;&nbsp;</a><a class=\"ProveItLink\" href=\"../__pv_it/demonstrations/8ab0d813787a6eb402293dc6c0666aec86e7dd7c0/expr.ipynb\"><img src=\"data:image/png;base64,iVBORw0KGgoAAAANSUhEUgAAAEwAAAAVBAMAAAAeOBUnAAAAMFBMVEX///8AAAAAAAAAAAAAAAAA\n",
       "AAAAAAAAAAAAAAAAAAAAAAAAAAAAAAAAAAAAAAAAAAAv3aB7AAAAD3RSTlMAIpnNuzKJRKvvEN12\n",
       "ZlQ4bmvwAAAACXBIWXMAAA7EAAAOxAGVKw4bAAABT0lEQVQoz2NgwAIY0fint2JTxXAOXSCdgVHJ\n",
       "JABNkC+BgYF1F5QjluQOUibCwPYdTdliBoYVyr8gbC4FhvcPgMoaGRhmoinTBWIeqDKefwzrDYDK\n",
       "5i9g6BcAixzZvdsAzJiApIx9OgM/SFk3A0M/2HHFp2BOM0BSBgTvLwCVAcF+cCBYwYSZElCUse9l\n",
       "ACtj/QPiMQvAxJkvICtjPdEKUcbdAJaEW8L9AM3SB2BlKmBO5G4gcACxOAtQlXH+AinjBRvGsAQh\n",
       "jKyMNYCB5R9I2TMGRpCzuLFbyv8Loow1gYFnAUj8AEwZywGoMi6Q0Q0QS6WVlLTBsnYwZWwgV7B9\n",
       "ZAAFPwPvBUi47f///zNYdoX7AqhzNjAwcHR+7mXgBkV/kZI7JEBgoMwbGlnw1PUKkZCwgEswRgJe\n",
       "ZSzQCOE6gFcZlwM0ETHgVcYgg54XpgMAeQhZSWgJmd4AAAAASUVORK5CYII=\n",
       "\" style=\"display:inline;vertical-align:middle;\" /></a></span></td></tr>\n",
       "<tr><td>&nbsp;</td><td colspan=4 style=\"text-align:left\"><span style=\"font-size:20px;\"><a class=\"ProveItLink\" href=\"../../../../__pv_it/common/c06c606ec12678c58933ac85412ecadc2ae28be60/expr.ipynb\"><img src=\"data:image/png;base64,iVBORw0KGgoAAAANSUhEUgAAAAsAAAAJBAMAAAAWSsseAAAAMFBMVEX///8AAAAAAAAAAAAAAAAA\n",
       "AAAAAAAAAAAAAAAAAAAAAAAAAAAAAAAAAAAAAAAAAAAv3aB7AAAAD3RSTlMAIquJdkTvuxBmmd1U\n",
       "zTKBpmoTAAAACXBIWXMAAA7EAAAOxAGVKw4bAAAARUlEQVQI12NgYFR2dGBgYAgTYP/BwMCRycC1\n",
       "gYGB6wMDtwEDA1sBQ38AA0O/A8N8oIr+Awy6PAIM7A48u7iAKlXshPwYAE2lCqdX0eXEAAAAAElF\n",
       "TkSuQmCC\n",
       "\" style=\"display:inline;vertical-align:middle;\" /></a> : <a class=\"ProveItLink\" href=\"../../../numerals/__pv_it/common/682157d4892d216d9e5626ed533aff9b56b9506e0/expr.ipynb\"><img src=\"data:image/png;base64,iVBORw0KGgoAAAANSUhEUgAAAAgAAAAOBAMAAADgeEClAAAAJ1BMVEX///8AAAAAAAAAAAAAAAAA\n",
       "AAAAAAAAAAAAAAAAAAAAAAAAAAAAAAAilU6eAAAADHRSTlMAMt0Qq5nNdoki72YJhDyyAAAACXBI\n",
       "WXMAAA7EAAAOxAGVKw4bAAAAH0lEQVQI12NgYFRmYDAJO8zAwMBOMsFxkoGBxeuYNwB0KguGAVQB\n",
       "OAAAAABJRU5ErkJggg==\n",
       "\" style=\"display:inline;vertical-align:middle;\" /></a>, <a class=\"ProveItLink\" href=\"../../../../__pv_it/common/195236b98c6c564a75b5dbada74b173bc52d5c3e0/expr.ipynb\"><img src=\"data:image/png;base64,iVBORw0KGgoAAAANSUhEUgAAAAkAAAAOBAMAAAAPuiubAAAAMFBMVEX///8AAAAAAAAAAAAAAAAA\n",
       "AAAAAAAAAAAAAAAAAAAAAAAAAAAAAAAAAAAAAAAAAAAv3aB7AAAAD3RSTlMAELvv3c2ZVESJq3Yi\n",
       "MmZ3LnoBAAAACXBIWXMAAA7EAAAOxAGVKw4bAAAAT0lEQVQI12NgVHZgAALWBBDJXwAi+wVA5BQQ\n",
       "wRC1ezkDA+NXAfkDDOwfGZg3MLAFMPBPYGCZwNBfAFKeL8DAf4HRjoGB6wET0AjGlXkMDAAVqA7Q\n",
       "GyenWgAAAABJRU5ErkJggg==\n",
       "\" style=\"display:inline;vertical-align:middle;\" /></a> : <a class=\"ProveItLink\" href=\"../../../numerals/__pv_it/common/1943b60945420e340d305780feff5c1aff2740ff0/expr.ipynb\"><img src=\"data:image/png;base64,iVBORw0KGgoAAAANSUhEUgAAAAoAAAAOBAMAAADkjZCYAAAAMFBMVEX///8AAAAAAAAAAAAAAAAA\n",
       "AAAAAAAAAAAAAAAAAAAAAAAAAAAAAAAAAAAAAAAAAAAv3aB7AAAAD3RSTlMAIomZu0QQVHbN72bd\n",
       "Mqv0UZE7AAAACXBIWXMAAA7EAAAOxAGVKw4bAAAATElEQVQI12NgEFJ2ZWBgM2CoL2Dg+M6QP4GB\n",
       "dSkD/wQGIKjfACRYTwMJ3r63DGCRAhDJ9Y2B9wIDy3cG/m8gkusBSIR7A1h9sLErAwDNcRLUUVUn\n",
       "vwAAAABJRU5ErkJggg==\n",
       "\" style=\"display:inline;vertical-align:middle;\" /></a>, <a class=\"ProveItLink\" href=\"../../../../__pv_it/common/a0d9d672aa5e272d907247690c152cc2c6daafb70/expr.ipynb\"><img src=\"data:image/png;base64,iVBORw0KGgoAAAANSUhEUgAAAAsAAAAJBAMAAAAWSsseAAAAMFBMVEX///8AAAAAAAAAAAAAAAAA\n",
       "AAAAAAAAAAAAAAAAAAAAAAAAAAAAAAAAAAAAAAAAAAAv3aB7AAAAD3RSTlMAEHarMolUmd1mIs3v\n",
       "RLtmgJDEAAAACXBIWXMAAA7EAAAOxAGVKw4bAAAAQklEQVQI12NgEFIWCU1gYChgMmJvYOBcwPmR\n",
       "eQIDCwP7BgYQ4FEAU/cXMAowyF2wYWBlYMh3rGG4xsAgrsRWmcAAAFEjCyBvD0T9AAAAAElFTkSu\n",
       "QmCC\n",
       "\" style=\"display:inline;vertical-align:middle;\" /></a> : <a class=\"ProveItLink\" href=\"../../../numerals/__pv_it/common/af4aab8a07465db063742696e006d04670f30cf10/expr.ipynb\"><img src=\"data:image/png;base64,iVBORw0KGgoAAAANSUhEUgAAAAkAAAAOBAMAAAAPuiubAAAAMFBMVEX///8AAAAAAAAAAAAAAAAA\n",
       "AAAAAAAAAAAAAAAAAAAAAAAAAAAAAAAAAAAAAAAAAAAv3aB7AAAAD3RSTlMAIpnNuzKJRKvvEN12\n",
       "ZlQ4bmvwAAAACXBIWXMAAA7EAAAOxAGVKw4bAAAATklEQVQI12NgVDIJYGAQYWD7zsDQyMAwk4Fh\n",
       "/gKGfgGGbgaGfqAEA8N+EMH6B0RyN4BIFRDBC2Y+Y2AUYGBNYOBZwCCtpKQNVPz//2cGAEeID1mi\n",
       "/zO7AAAAAElFTkSuQmCC\n",
       "\" style=\"display:inline;vertical-align:middle;\" /></a></span></td></tr><tr><td><a name=\"-0xd787e7cd458a673_step5\">5</a></td><td>conjecture</td><td></td><td><span style=\"font-size:20px;\"> <a class=\"ProveItLink\" href=\"proofs/in_IntervalOC/thm_proof.ipynb\" style=\"text-decoration: none\">&nbsp;&#x22A2;&nbsp;&nbsp;</a><a class=\"ProveItLink\" href=\"../__pv_it/theorems/b72e9bedd237cdc384af365d7e3943e19337e7110/expr.ipynb\"><img src=\"data:image/png;base64,iVBORw0KGgoAAAANSUhEUgAAAPUAAAAXBAMAAAAhExTfAAAAMFBMVEX///8AAAAAAAAAAAAAAAAA\n",
       "AAAAAAAAAAAAAAAAAAAAAAAAAAAAAAAAAAAAAAAAAAAv3aB7AAAAD3RSTlMAq1RmmUTNIjK7EInv\n",
       "3XZ/CtNrAAAACXBIWXMAAA7EAAAOxAGVKw4bAAADeklEQVRIx61WT0gUYRR/7s7+m52d1YqghBgo\n",
       "AotiCSn0oCuWBZFJQhcjtzpEHmK8W2zH0MhDUpslE0hQe9jNICsoFiIIopAICmlhjMr0IJ4yPETv\n",
       "vW9mZ3ab0MM82G/fe7z3/b7v/ZsPwFeKeKv1alEtZ2tVPtBXT62q1SjiPXAa/+qJ3+4TdKDoqd7t\n",
       "4uU7M4ytpgAOkeK8T9j3PbVyxi2F04wNAwBXKEujPmF3emqllFtKagK7GY9hIKv5hF2qkhbKZb6x\n",
       "UqXtNwS2YkAQDxX2K91VwT25aDE7q4xeiFqDMAK/K5ff+oQtYanJS1uHp7jdBmz1UZIa500hnVna\n",
       "wNhxrPIjALfX3ja9Hmy6igRz5jEWKh18Dn+n9NiqKLxfRkEn7CAGaRAi9bZV9EL1ZnuedFwU3H+r\n",
       "sUl3nBJYNweg3djI2BWTD4j4CqQZkZdVUEzCDmBxxAziLGp0No3O5XrUOEwXPbBlB9p0OSm4URa6\n",
       "hDBSRmK31xiNZUiIjaQMJIuEGF1GfNNVam8c9mAWB5IKrea/2JEOw+JaUm4nhS/xXggPKuaIrYxC\n",
       "QdwQj9CvEXaImiLThku+bZru+meOdl06/E2nuUPYi2kXtmXVoAsbWNAcJyvmEFqBhyy4Y14wob3S\n",
       "3sc50gHKwRQWpPwpukJYsypCqfqWsMbHVuORiZSDLaxCN3TLZoTngnAiipkgj9WVgKOrmjb2BGJr\n",
       "sDmgU6qSWcw91xptOYSlJqWjFIJYiqovCBNR6GV/aXzUVWtsFRqnW7JNgFnhxJ+Iegj8niyFxKg6\n",
       "a2M/olMFPkpQQLu6VCzN2NSQUJelTKlU7EpW4prH2+3P5XKaqsZPuLDZasQaghQnPofthNGfAbnb\n",
       "3LFPSPfGrFRcw4htezr4ExKzyDV2itmSsCu8oMda0TIJCmewFIFhvrca6jMcbLaSnzE42eC6Sbed\n",
       "iD5XdUPfXTFTE1lbs8v5hsKlSoXq13uNPCSMFsjDUDwjYetxvuG5q9bYCuc0lgDbUMk3GORkUbPn\n",
       "CAhWBlPRhV357oQ69z7GaEa7TVyl7y8XIXKLRvKP4mSXg81WorPYRrxUyMmimPdr5KY9FkwHu/bb\n",
       "qblWyOdyzsypmS1N/3nxyN7jz2511fVuqTlmyHDWWlrnF/6y9yvOrHlDfemB+Zq8uNZ1YV/FXsj5\n",
       "/+hb46XpC/0F/HfkaXVmsF8AAAAASUVORK5CYII=\n",
       "\" style=\"display:inline;vertical-align:middle;\" /></a></span></td></tr>\n",
       "<tr><td>&nbsp;</td><td colspan=4 style-\"text-align:left\"><a class=\"ProveItLink\" href=\"proofs/in_IntervalOC/thm_proof.ipynb\">proveit.numbers.number_sets.real_numbers.in_IntervalOC</a></td></tr><tr><td><a name=\"-0xd787e7cd458a673_step6\">6</a></td><td>instantiation</td><td><a href=\"#-0xd787e7cd458a673_step25\">25</a>, <a href=\"#-0xd787e7cd458a673_step12\">12</a>, <a href=\"#-0xd787e7cd458a673_step10\">10</a></td><td><span style=\"font-size:20px;\"> <a class=\"ProveItLink\" href=\"../__pv_it/demonstrations/dd65dadbf944daca6b3ed680f020bdcdafc360f50/proof.ipynb\" style=\"text-decoration: none\">&nbsp;&#x22A2;&nbsp;&nbsp;</a><a class=\"ProveItLink\" href=\"../__pv_it/demonstrations/e85b82706e67941bf6fbd12d76d066206df49cb50/expr.ipynb\"><img src=\"data:image/png;base64,iVBORw0KGgoAAAANSUhEUgAAADIAAAAQBAMAAACmdTG/AAAAMFBMVEX///8AAAAAAAAAAAAAAAAA\n",
       "AAAAAAAAAAAAAAAAAAAAAAAAAAAAAAAAAAAAAAAAAAAv3aB7AAAAD3RSTlMAMt0Qq5nNdoki72a7\n",
       "RFSRpcO+AAAACXBIWXMAAA7EAAAOxAGVKw4bAAAAqUlEQVQY02NgQAfcWWe+aZ0GsRiV0aR4OB14\n",
       "vQ8zMJiEfcaQaWA4IAJksGOTiWRDlqlRUkqAy/AgyVwrRtLjbIKQ4UxGMo3xXCZChm0CQmaZvroB\n",
       "kgySC7o3gy2EykgpAcEBqGmHdyPJ2CC7WpQHyTQmZBlWyQMIGfYCJBnmA9VABsdPiEAeQiaAYTfP\n",
       "BQYWr2/eYAGTswawsP4zgefYP6TwunEIEjpQAACX8zHRfAI5BwAAAABJRU5ErkJggg==\n",
       "\" style=\"display:inline;vertical-align:middle;\" /></a></span></td></tr>\n",
       "<tr><td>&nbsp;</td><td colspan=4 style=\"text-align:left\"><span style=\"font-size:20px;\"><a class=\"ProveItLink\" href=\"../../../../__pv_it/common/09585084922504426caf1db2ff588a23a0932a960/expr.ipynb\"><img src=\"data:image/png;base64,iVBORw0KGgoAAAANSUhEUgAAAA8AAAAPBAMAAADJ+Ih5AAAAMFBMVEX///8AAAAAAAAAAAAAAAAA\n",
       "AAAAAAAAAAAAAAAAAAAAAAAAAAAAAAAAAAAAAAAAAAAv3aB7AAAAD3RSTlMAIs1UmauJMnZmRLsQ\n",
       "3e++988cAAAACXBIWXMAAA7EAAAOxAGVKw4bAAAAXklEQVQI12NgAAEhBijQh9LM/6EMlngBCCMx\n",
       "vwBMMzb0G0BkGOwngBmLGeoTwAwHBvkAEM2xxSV+A4hxgoGB/wJEhoH3AZDmAupg+gBkyAEx90cG\n",
       "htP/dRiY939KAABt3hLO6mcEjQAAAABJRU5ErkJggg==\n",
       "\" style=\"display:inline;vertical-align:middle;\" /></a> : <a class=\"ProveItLink\" href=\"../../rational_numbers/__pv_it/common/3de3e316334b6ece430a3f1aee01ae68b192ecb30/expr.ipynb\"><img src=\"data:image/png;base64,iVBORw0KGgoAAAANSUhEUgAAABAAAAASBAMAAACgFUNZAAAAMFBMVEX///8AAAAAAAAAAAAAAAAA\n",
       "AAAAAAAAAAAAAAAAAAAAAAAAAAAAAAAAAAAAAAAAAAAv3aB7AAAAD3RSTlMAEIm7mSJ2q+8y3WZE\n",
       "zVRISQrpAAAACXBIWXMAAA7EAAAOxAGVKw4bAAAAh0lEQVQI12NgYBAyNnZlAAK2igmsyxWADG1t\n",
       "BoYjhxkYOBUuMDAwcycwMAsWMDAwTbjAIMyZwMDA98CTYRLPBgYGng37GI5xPwAqTHjNEMQHFslh\n",
       "YIaocWRgFoXq4oGYA1ToDTT5ONBkBiaQXQ4gW0P+3vdkAINKoE1gwJ6Q/vIAmPXctnkDAHEUIwom\n",
       "ORJuAAAAAElFTkSuQmCC\n",
       "\" style=\"display:inline;vertical-align:middle;\" /></a>, <a class=\"ProveItLink\" href=\"../../../../__pv_it/common/a9162d1c3cc0470c02e5daf414500903a7a419230/expr.ipynb\"><img src=\"data:image/png;base64,iVBORw0KGgoAAAANSUhEUgAAABAAAAAOBAMAAADUAYG5AAAAMFBMVEX///8AAAAAAAAAAAAAAAAA\n",
       "AAAAAAAAAAAAAAAAAAAAAAAAAAAAAAAAAAAAAAAAAAAv3aB7AAAAD3RSTlMAZrurzTLvInZEmRDd\n",
       "VIkafcLnAAAACXBIWXMAAA7EAAAOxAGVKw4bAAAAb0lEQVQI12NgYBD6b2zsFMAABEkMDMxfgTT7\n",
       "DwYGzl9ABiOQxwjkMDB/YGBgSQcy2BQYuG1AiuM1OkwEQJr6Cxh4E0EMNSB+D5L6DMTyDQwMrB+B\n",
       "DPsJDAwc34GcL0AOSwIDwzRvoHH6n41NdBkYAF/iFeJ4bEa2AAAAAElFTkSuQmCC\n",
       "\" style=\"display:inline;vertical-align:middle;\" /></a> : <a class=\"ProveItLink\" href=\"../__pv_it/common/93cac87a1a47e613f7a83b23ef7891599a1a4cca0/expr.ipynb\"><img src=\"data:image/png;base64,iVBORw0KGgoAAAANSUhEUgAAAA8AAAAPBAMAAADJ+Ih5AAAAMFBMVEX///8AAAAAAAAAAAAAAAAA\n",
       "AAAAAAAAAAAAAAAAAAAAAAAAAAAAAAAAAAAAAAAAAAAv3aB7AAAAD3RSTlMAZs3vu90iq0QQiTKZ\n",
       "VHZ+Ip2vAAAACXBIWXMAAA7EAAAOxAGVKw4bAAAAX0lEQVQI12MQMvFXNRFgAAKHdIZ2kQkgRhYD\n",
       "C3cBhMGToABjOEAY7DOhUlsuJYAYyapfX4K1ZwlOYoAwWCZCDMziPuAJYTCcToEypvCB5BxyGBgF\n",
       "PBgYgLa7MbjoXwAAK2IYKL6KYFkAAAAASUVORK5CYII=\n",
       "\" style=\"display:inline;vertical-align:middle;\" /></a>, <a class=\"ProveItLink\" href=\"../../../../__pv_it/common/a0d9d672aa5e272d907247690c152cc2c6daafb70/expr.ipynb\"><img src=\"data:image/png;base64,iVBORw0KGgoAAAANSUhEUgAAAAsAAAAJBAMAAAAWSsseAAAAMFBMVEX///8AAAAAAAAAAAAAAAAA\n",
       "AAAAAAAAAAAAAAAAAAAAAAAAAAAAAAAAAAAAAAAAAAAv3aB7AAAAD3RSTlMAEHarMolUmd1mIs3v\n",
       "RLtmgJDEAAAACXBIWXMAAA7EAAAOxAGVKw4bAAAAQklEQVQI12NgEFIWCU1gYChgMmJvYOBcwPmR\n",
       "eQIDCwP7BgYQ4FEAU/cXMAowyF2wYWBlYMh3rGG4xsAgrsRWmcAAAFEjCyBvD0T9AAAAAElFTkSu\n",
       "QmCC\n",
       "\" style=\"display:inline;vertical-align:middle;\" /></a> : <a class=\"ProveItLink\" href=\"../../../numerals/__pv_it/common/682157d4892d216d9e5626ed533aff9b56b9506e0/expr.ipynb\"><img src=\"data:image/png;base64,iVBORw0KGgoAAAANSUhEUgAAAAgAAAAOBAMAAADgeEClAAAAJ1BMVEX///8AAAAAAAAAAAAAAAAA\n",
       "AAAAAAAAAAAAAAAAAAAAAAAAAAAAAAAilU6eAAAADHRSTlMAMt0Qq5nNdoki72YJhDyyAAAACXBI\n",
       "WXMAAA7EAAAOxAGVKw4bAAAAH0lEQVQI12NgYFRmYDAJO8zAwMBOMsFxkoGBxeuYNwB0KguGAVQB\n",
       "OAAAAABJRU5ErkJggg==\n",
       "\" style=\"display:inline;vertical-align:middle;\" /></a></span></td></tr><tr><td><a name=\"-0xd787e7cd458a673_step7\">7</a></td><td>instantiation</td><td><a href=\"#-0xd787e7cd458a673_step25\">25</a>, <a href=\"#-0xd787e7cd458a673_step12\">12</a>, <a href=\"#-0xd787e7cd458a673_step11\">11</a></td><td><span style=\"font-size:20px;\"> <a class=\"ProveItLink\" href=\"../__pv_it/demonstrations/ba501ba16b5e9e3deab9cdcd178eaff774c54b5b0/proof.ipynb\" style=\"text-decoration: none\">&nbsp;&#x22A2;&nbsp;&nbsp;</a><a class=\"ProveItLink\" href=\"../__pv_it/demonstrations/fadaeb029e616f6bbcf826d0a45473e470fa61e80/expr.ipynb\"><img src=\"data:image/png;base64,iVBORw0KGgoAAAANSUhEUgAAADMAAAAQBAMAAABJt1qBAAAAMFBMVEX///8AAAAAAAAAAAAAAAAA\n",
       "AAAAAAAAAAAAAAAAAAAAAAAAAAAAAAAAAAAAAAAAAAAv3aB7AAAAD3RSTlMAIomZu0QQVHbN72bd\n",
       "Mqv0UZE7AAAACXBIWXMAAA7EAAAOxAGVKw4bAAAA1klEQVQY02NgwAA7l/jPWbIBxBJSdkWTc5Bj\n",
       "iNuSwMDAZsBQX4AmJcTAwvuAgYHjO0P+BAwpZgGgGOtSBn6IFIfPmZMIKQcwsx5sJ+uMBIQuvrQH\n",
       "YLHTYAHJBCQDr1QKABm8fW/BAhMRdknN+dMGYUJcOAHJGbszoUyubyDNa86cOXMEKsWSDbKe9wID\n",
       "y3cgzeaApIvXwA1I83+DSDEcQPaXrQjItAcQAxk6kKVSOIAmcm+A+osTHlwOwkBRUMAGG0OCl+1J\n",
       "GDzkHRlc5iMHLKsKNKCgAAD1NDiww7nWBQAAAABJRU5ErkJggg==\n",
       "\" style=\"display:inline;vertical-align:middle;\" /></a></span></td></tr>\n",
       "<tr><td>&nbsp;</td><td colspan=4 style=\"text-align:left\"><span style=\"font-size:20px;\"><a class=\"ProveItLink\" href=\"../../../../__pv_it/common/09585084922504426caf1db2ff588a23a0932a960/expr.ipynb\"><img src=\"data:image/png;base64,iVBORw0KGgoAAAANSUhEUgAAAA8AAAAPBAMAAADJ+Ih5AAAAMFBMVEX///8AAAAAAAAAAAAAAAAA\n",
       "AAAAAAAAAAAAAAAAAAAAAAAAAAAAAAAAAAAAAAAAAAAv3aB7AAAAD3RSTlMAIs1UmauJMnZmRLsQ\n",
       "3e++988cAAAACXBIWXMAAA7EAAAOxAGVKw4bAAAAXklEQVQI12NgAAEhBijQh9LM/6EMlngBCCMx\n",
       "vwBMMzb0G0BkGOwngBmLGeoTwAwHBvkAEM2xxSV+A4hxgoGB/wJEhoH3AZDmAupg+gBkyAEx90cG\n",
       "htP/dRiY939KAABt3hLO6mcEjQAAAABJRU5ErkJggg==\n",
       "\" style=\"display:inline;vertical-align:middle;\" /></a> : <a class=\"ProveItLink\" href=\"../../rational_numbers/__pv_it/common/3de3e316334b6ece430a3f1aee01ae68b192ecb30/expr.ipynb\"><img src=\"data:image/png;base64,iVBORw0KGgoAAAANSUhEUgAAABAAAAASBAMAAACgFUNZAAAAMFBMVEX///8AAAAAAAAAAAAAAAAA\n",
       "AAAAAAAAAAAAAAAAAAAAAAAAAAAAAAAAAAAAAAAAAAAv3aB7AAAAD3RSTlMAEIm7mSJ2q+8y3WZE\n",
       "zVRISQrpAAAACXBIWXMAAA7EAAAOxAGVKw4bAAAAh0lEQVQI12NgYBAyNnZlAAK2igmsyxWADG1t\n",
       "BoYjhxkYOBUuMDAwcycwMAsWMDAwTbjAIMyZwMDA98CTYRLPBgYGng37GI5xPwAqTHjNEMQHFslh\n",
       "YIaocWRgFoXq4oGYA1ToDTT5ONBkBiaQXQ4gW0P+3vdkAINKoE1gwJ6Q/vIAmPXctnkDAHEUIwom\n",
       "ORJuAAAAAElFTkSuQmCC\n",
       "\" style=\"display:inline;vertical-align:middle;\" /></a>, <a class=\"ProveItLink\" href=\"../../../../__pv_it/common/a9162d1c3cc0470c02e5daf414500903a7a419230/expr.ipynb\"><img src=\"data:image/png;base64,iVBORw0KGgoAAAANSUhEUgAAABAAAAAOBAMAAADUAYG5AAAAMFBMVEX///8AAAAAAAAAAAAAAAAA\n",
       "AAAAAAAAAAAAAAAAAAAAAAAAAAAAAAAAAAAAAAAAAAAv3aB7AAAAD3RSTlMAZrurzTLvInZEmRDd\n",
       "VIkafcLnAAAACXBIWXMAAA7EAAAOxAGVKw4bAAAAb0lEQVQI12NgYBD6b2zsFMAABEkMDMxfgTT7\n",
       "DwYGzl9ABiOQxwjkMDB/YGBgSQcy2BQYuG1AiuM1OkwEQJr6Cxh4E0EMNSB+D5L6DMTyDQwMrB+B\n",
       "DPsJDAwc34GcL0AOSwIDwzRvoHH6n41NdBkYAF/iFeJ4bEa2AAAAAElFTkSuQmCC\n",
       "\" style=\"display:inline;vertical-align:middle;\" /></a> : <a class=\"ProveItLink\" href=\"../__pv_it/common/93cac87a1a47e613f7a83b23ef7891599a1a4cca0/expr.ipynb\"><img src=\"data:image/png;base64,iVBORw0KGgoAAAANSUhEUgAAAA8AAAAPBAMAAADJ+Ih5AAAAMFBMVEX///8AAAAAAAAAAAAAAAAA\n",
       "AAAAAAAAAAAAAAAAAAAAAAAAAAAAAAAAAAAAAAAAAAAv3aB7AAAAD3RSTlMAZs3vu90iq0QQiTKZ\n",
       "VHZ+Ip2vAAAACXBIWXMAAA7EAAAOxAGVKw4bAAAAX0lEQVQI12MQMvFXNRFgAAKHdIZ2kQkgRhYD\n",
       "C3cBhMGToABjOEAY7DOhUlsuJYAYyapfX4K1ZwlOYoAwWCZCDMziPuAJYTCcToEypvCB5BxyGBgF\n",
       "PBgYgLa7MbjoXwAAK2IYKL6KYFkAAAAASUVORK5CYII=\n",
       "\" style=\"display:inline;vertical-align:middle;\" /></a>, <a class=\"ProveItLink\" href=\"../../../../__pv_it/common/a0d9d672aa5e272d907247690c152cc2c6daafb70/expr.ipynb\"><img src=\"data:image/png;base64,iVBORw0KGgoAAAANSUhEUgAAAAsAAAAJBAMAAAAWSsseAAAAMFBMVEX///8AAAAAAAAAAAAAAAAA\n",
       "AAAAAAAAAAAAAAAAAAAAAAAAAAAAAAAAAAAAAAAAAAAv3aB7AAAAD3RSTlMAEHarMolUmd1mIs3v\n",
       "RLtmgJDEAAAACXBIWXMAAA7EAAAOxAGVKw4bAAAAQklEQVQI12NgEFIWCU1gYChgMmJvYOBcwPmR\n",
       "eQIDCwP7BgYQ4FEAU/cXMAowyF2wYWBlYMh3rGG4xsAgrsRWmcAAAFEjCyBvD0T9AAAAAElFTkSu\n",
       "QmCC\n",
       "\" style=\"display:inline;vertical-align:middle;\" /></a> : <a class=\"ProveItLink\" href=\"../../../numerals/__pv_it/common/1943b60945420e340d305780feff5c1aff2740ff0/expr.ipynb\"><img src=\"data:image/png;base64,iVBORw0KGgoAAAANSUhEUgAAAAoAAAAOBAMAAADkjZCYAAAAMFBMVEX///8AAAAAAAAAAAAAAAAA\n",
       "AAAAAAAAAAAAAAAAAAAAAAAAAAAAAAAAAAAAAAAAAAAv3aB7AAAAD3RSTlMAIomZu0QQVHbN72bd\n",
       "Mqv0UZE7AAAACXBIWXMAAA7EAAAOxAGVKw4bAAAATElEQVQI12NgEFJ2ZWBgM2CoL2Dg+M6QP4GB\n",
       "dSkD/wQGIKjfACRYTwMJ3r63DGCRAhDJ9Y2B9wIDy3cG/m8gkusBSIR7A1h9sLErAwDNcRLUUVUn\n",
       "vwAAAABJRU5ErkJggg==\n",
       "\" style=\"display:inline;vertical-align:middle;\" /></a></span></td></tr><tr><td><a name=\"-0xd787e7cd458a673_step8\">8</a></td><td>instantiation</td><td><a href=\"#-0xd787e7cd458a673_step25\">25</a>, <a href=\"#-0xd787e7cd458a673_step12\">12</a>, <a href=\"#-0xd787e7cd458a673_step13\">13</a></td><td><span style=\"font-size:20px;\"> <a class=\"ProveItLink\" href=\"../__pv_it/demonstrations/73eae1ee444637396be9992c40a7f86d2655e04f0/proof.ipynb\" style=\"text-decoration: none\">&nbsp;&#x22A2;&nbsp;&nbsp;</a><a class=\"ProveItLink\" href=\"../__pv_it/demonstrations/10675168af95ab4183d974a4da377566e33aab420/expr.ipynb\"><img src=\"data:image/png;base64,iVBORw0KGgoAAAANSUhEUgAAADIAAAAQBAMAAACmdTG/AAAAMFBMVEX///8AAAAAAAAAAAAAAAAA\n",
       "AAAAAAAAAAAAAAAAAAAAAAAAAAAAAAAAAAAAAAAAAAAv3aB7AAAAD3RSTlMAIpnNuzKJRKvvEN12\n",
       "ZlQ4bmvwAAAACXBIWXMAAA7EAAAOxAGVKw4bAAAA2ElEQVQY02NgQAe8li6fd/oCGYxKJgGoUiyM\n",
       "Dey9XgwMIgxs39FlEhgcIhgYGhkYZmLKKDIzMMxfwNAvABY5snu3AVyGhYGhm4GhH2xR8SkkPV0r\n",
       "wMz9IILRCsk0Vj9DEIv1D4hkFkDITN6/ZwGIxd0AlkFyQe4tsIUMKmAycjcQOEBN87oL9jNYC8MS\n",
       "ZFcHsYBMe8bACLKCG1mGKRComzWBgQekgOcAkgyXw1kGBmklJW2wgB1CRoHhLksBw/7//z+DBVa4\n",
       "L4CF9RcBFud/SOFV5g0JHSgAAFzjMhP8qnJ+AAAAAElFTkSuQmCC\n",
       "\" style=\"display:inline;vertical-align:middle;\" /></a></span></td></tr>\n",
       "<tr><td>&nbsp;</td><td colspan=4 style=\"text-align:left\"><span style=\"font-size:20px;\"><a class=\"ProveItLink\" href=\"../../../../__pv_it/common/09585084922504426caf1db2ff588a23a0932a960/expr.ipynb\"><img src=\"data:image/png;base64,iVBORw0KGgoAAAANSUhEUgAAAA8AAAAPBAMAAADJ+Ih5AAAAMFBMVEX///8AAAAAAAAAAAAAAAAA\n",
       "AAAAAAAAAAAAAAAAAAAAAAAAAAAAAAAAAAAAAAAAAAAv3aB7AAAAD3RSTlMAIs1UmauJMnZmRLsQ\n",
       "3e++988cAAAACXBIWXMAAA7EAAAOxAGVKw4bAAAAXklEQVQI12NgAAEhBijQh9LM/6EMlngBCCMx\n",
       "vwBMMzb0G0BkGOwngBmLGeoTwAwHBvkAEM2xxSV+A4hxgoGB/wJEhoH3AZDmAupg+gBkyAEx90cG\n",
       "htP/dRiY939KAABt3hLO6mcEjQAAAABJRU5ErkJggg==\n",
       "\" style=\"display:inline;vertical-align:middle;\" /></a> : <a class=\"ProveItLink\" href=\"../../rational_numbers/__pv_it/common/3de3e316334b6ece430a3f1aee01ae68b192ecb30/expr.ipynb\"><img src=\"data:image/png;base64,iVBORw0KGgoAAAANSUhEUgAAABAAAAASBAMAAACgFUNZAAAAMFBMVEX///8AAAAAAAAAAAAAAAAA\n",
       "AAAAAAAAAAAAAAAAAAAAAAAAAAAAAAAAAAAAAAAAAAAv3aB7AAAAD3RSTlMAEIm7mSJ2q+8y3WZE\n",
       "zVRISQrpAAAACXBIWXMAAA7EAAAOxAGVKw4bAAAAh0lEQVQI12NgYBAyNnZlAAK2igmsyxWADG1t\n",
       "BoYjhxkYOBUuMDAwcycwMAsWMDAwTbjAIMyZwMDA98CTYRLPBgYGng37GI5xPwAqTHjNEMQHFslh\n",
       "YIaocWRgFoXq4oGYA1ToDTT5ONBkBiaQXQ4gW0P+3vdkAINKoE1gwJ6Q/vIAmPXctnkDAHEUIwom\n",
       "ORJuAAAAAElFTkSuQmCC\n",
       "\" style=\"display:inline;vertical-align:middle;\" /></a>, <a class=\"ProveItLink\" href=\"../../../../__pv_it/common/a9162d1c3cc0470c02e5daf414500903a7a419230/expr.ipynb\"><img src=\"data:image/png;base64,iVBORw0KGgoAAAANSUhEUgAAABAAAAAOBAMAAADUAYG5AAAAMFBMVEX///8AAAAAAAAAAAAAAAAA\n",
       "AAAAAAAAAAAAAAAAAAAAAAAAAAAAAAAAAAAAAAAAAAAv3aB7AAAAD3RSTlMAZrurzTLvInZEmRDd\n",
       "VIkafcLnAAAACXBIWXMAAA7EAAAOxAGVKw4bAAAAb0lEQVQI12NgYBD6b2zsFMAABEkMDMxfgTT7\n",
       "DwYGzl9ABiOQxwjkMDB/YGBgSQcy2BQYuG1AiuM1OkwEQJr6Cxh4E0EMNSB+D5L6DMTyDQwMrB+B\n",
       "DPsJDAwc34GcL0AOSwIDwzRvoHH6n41NdBkYAF/iFeJ4bEa2AAAAAElFTkSuQmCC\n",
       "\" style=\"display:inline;vertical-align:middle;\" /></a> : <a class=\"ProveItLink\" href=\"../__pv_it/common/93cac87a1a47e613f7a83b23ef7891599a1a4cca0/expr.ipynb\"><img src=\"data:image/png;base64,iVBORw0KGgoAAAANSUhEUgAAAA8AAAAPBAMAAADJ+Ih5AAAAMFBMVEX///8AAAAAAAAAAAAAAAAA\n",
       "AAAAAAAAAAAAAAAAAAAAAAAAAAAAAAAAAAAAAAAAAAAv3aB7AAAAD3RSTlMAZs3vu90iq0QQiTKZ\n",
       "VHZ+Ip2vAAAACXBIWXMAAA7EAAAOxAGVKw4bAAAAX0lEQVQI12MQMvFXNRFgAAKHdIZ2kQkgRhYD\n",
       "C3cBhMGToABjOEAY7DOhUlsuJYAYyapfX4K1ZwlOYoAwWCZCDMziPuAJYTCcToEypvCB5BxyGBgF\n",
       "PBgYgLa7MbjoXwAAK2IYKL6KYFkAAAAASUVORK5CYII=\n",
       "\" style=\"display:inline;vertical-align:middle;\" /></a>, <a class=\"ProveItLink\" href=\"../../../../__pv_it/common/a0d9d672aa5e272d907247690c152cc2c6daafb70/expr.ipynb\"><img src=\"data:image/png;base64,iVBORw0KGgoAAAANSUhEUgAAAAsAAAAJBAMAAAAWSsseAAAAMFBMVEX///8AAAAAAAAAAAAAAAAA\n",
       "AAAAAAAAAAAAAAAAAAAAAAAAAAAAAAAAAAAAAAAAAAAv3aB7AAAAD3RSTlMAEHarMolUmd1mIs3v\n",
       "RLtmgJDEAAAACXBIWXMAAA7EAAAOxAGVKw4bAAAAQklEQVQI12NgEFIWCU1gYChgMmJvYOBcwPmR\n",
       "eQIDCwP7BgYQ4FEAU/cXMAowyF2wYWBlYMh3rGG4xsAgrsRWmcAAAFEjCyBvD0T9AAAAAElFTkSu\n",
       "QmCC\n",
       "\" style=\"display:inline;vertical-align:middle;\" /></a> : <a class=\"ProveItLink\" href=\"../../../numerals/__pv_it/common/af4aab8a07465db063742696e006d04670f30cf10/expr.ipynb\"><img src=\"data:image/png;base64,iVBORw0KGgoAAAANSUhEUgAAAAkAAAAOBAMAAAAPuiubAAAAMFBMVEX///8AAAAAAAAAAAAAAAAA\n",
       "AAAAAAAAAAAAAAAAAAAAAAAAAAAAAAAAAAAAAAAAAAAv3aB7AAAAD3RSTlMAIpnNuzKJRKvvEN12\n",
       "ZlQ4bmvwAAAACXBIWXMAAA7EAAAOxAGVKw4bAAAATklEQVQI12NgVDIJYGAQYWD7zsDQyMAwk4Fh\n",
       "/gKGfgGGbgaGfqAEA8N+EMH6B0RyN4BIFRDBC2Y+Y2AUYGBNYOBZwCCtpKQNVPz//2cGAEeID1mi\n",
       "/zO7AAAAAElFTkSuQmCC\n",
       "\" style=\"display:inline;vertical-align:middle;\" /></a></span></td></tr><tr><td><a name=\"-0xd787e7cd458a673_step9\">9</a></td><td>instantiation</td><td><a href=\"#-0xd787e7cd458a673_step14\">14</a>, <a href=\"#-0xd787e7cd458a673_step15\">15</a>, <a href=\"#-0xd787e7cd458a673_step16\">16</a></td><td><span style=\"font-size:20px;\"> <a class=\"ProveItLink\" href=\"../__pv_it/demonstrations/73f0b294ff7ad599958229f8d76ebb3e0f632e220/proof.ipynb\" style=\"text-decoration: none\">&nbsp;&#x22A2;&nbsp;&nbsp;</a><a class=\"ProveItLink\" href=\"../__pv_it/demonstrations/7f1d39259a57f5052f0f7c2f9545075b9109043c0/expr.ipynb\"><img src=\"data:image/png;base64,iVBORw0KGgoAAAANSUhEUgAAAJMAAAAVBAMAAACwIsHjAAAAMFBMVEX///8AAAAAAAAAAAAAAAAA\n",
       "AAAAAAAAAAAAAAAAAAAAAAAAAAAAAAAAAAAAAAAAAAAv3aB7AAAAD3RSTlMAInZUiRDNmWbv3US7\n",
       "qzJazP2FAAAACXBIWXMAAA7EAAAOxAGVKw4bAAACYUlEQVQ4y41UvWsUQRT/7e7tZ3LHaSOEFFEJ\n",
       "hDS5IgS0ukIbQbKFGDgUToJg4VehroQUh0UiQeEaCxHJ4gcRxWSx0+r0D4hnoYISI2IV/IiKQRDc\n",
       "zLzZvd0bM+LAvnnz3uxv3sdvBkAZiqH9hyUdBKJXVO6eAdmyWwn1iItR9q35smvHhWVgSDIaVWjB\n",
       "yfdyqPumI+gNwKzDfH1GhtJaGI9gJeZCEvhhoB+F3xn0MS4nYPwAjgM2g8OIDFUsw23COStWtbqY\n",
       "LwIvgOvpJmeBfhupmBvALOBCghrjFXR/ovgNuCZMQ2/F3ATmfawmfdLviL8eR2BQro8xCWruPEUV\n",
       "ovgHOCFs4SeRDwvuDbAqinXoVpboL8Bq4Fw31PD+VPPWgYNJtS0KxK7SconkxL0skSesSIW2ODiF\n",
       "Mg9k/f/K1BnSrLJBRbN4WVH6zuXRyQzpwwqL06njdg5Km2pkGx6ybw9pn4G7FCc10mtTBSbzJGEd\n",
       "NJq4kYN6lWOr3eKRkfoO2MVnN+JyOiFeLkHejNK6EuoqNYeyZtWudaCcdrKhU/YvwPMKepqqBBmx\n",
       "twF7U4LalTTBUWgSGWKfQxkhnm1d9o/AIHCFisMP4STtZc5SFbrfTdGblKDTEv0eT18Hc3hQxLcQ\n",
       "BCEEUy5xsQzqN/qCYCor92kuLxOvGFPW2GJl/lQnszkilhfHMQvkAddfUsM5DRj4UhxvyA9IwK4z\n",
       "vAiefNFnsvdLC7tdi1CPPnSu7FbDbnSvZ/8Bxa46nqrd/dK6Nwu4dp+PxfyrBBxRQ8mnmC3lVjpF\n",
       "G1C59b9e/e1KqJ3AJgR7jT6IHZLkAAAAAElFTkSuQmCC\n",
       "\" style=\"display:inline;vertical-align:middle;\" /></a></span></td></tr>\n",
       "<tr><td>&nbsp;</td><td colspan=4 style=\"text-align:left\"><span style=\"font-size:20px;\"><a class=\"ProveItLink\" href=\"../../../../__pv_it/common/09585084922504426caf1db2ff588a23a0932a960/expr.ipynb\"><img src=\"data:image/png;base64,iVBORw0KGgoAAAANSUhEUgAAAA8AAAAPBAMAAADJ+Ih5AAAAMFBMVEX///8AAAAAAAAAAAAAAAAA\n",
       "AAAAAAAAAAAAAAAAAAAAAAAAAAAAAAAAAAAAAAAAAAAv3aB7AAAAD3RSTlMAIs1UmauJMnZmRLsQ\n",
       "3e++988cAAAACXBIWXMAAA7EAAAOxAGVKw4bAAAAXklEQVQI12NgAAEhBijQh9LM/6EMlngBCCMx\n",
       "vwBMMzb0G0BkGOwngBmLGeoTwAwHBvkAEM2xxSV+A4hxgoGB/wJEhoH3AZDmAupg+gBkyAEx90cG\n",
       "htP/dRiY939KAABt3hLO6mcEjQAAAABJRU5ErkJggg==\n",
       "\" style=\"display:inline;vertical-align:middle;\" /></a> : <a class=\"ProveItLink\" href=\"../../../numerals/decimals/__pv_it/theorems/87469a9c68ae71903426a57864d5192167a8a75c0/expr.ipynb\"><img src=\"data:image/png;base64,iVBORw0KGgoAAAANSUhEUgAAADAAAAAQBAMAAACigOGCAAAAMFBMVEX///8AAAAAAAAAAAAAAAAA\n",
       "AAAAAAAAAAAAAAAAAAAAAAAAAAAAAAAAAAAAAAAAAAAv3aB7AAAAD3RSTlMAMt0Qq5nNdoki72ZU\n",
       "u0S9iLk1AAAACXBIWXMAAA7EAAAOxAGVKw4bAAAAl0lEQVQY02NgYFRmQAdTwy4yMJiEfUYX57zA\n",
       "0P+AgYEdQ4JlAgPXAjSJYxOABNdnBpafqBKbgsE6FBhYPqJIFDXDWEwfkCSYmwrgSuQLEBKcQRsQ\n",
       "ZqowICTcDiDEWS/gkNjCwIDVKJ4GhplYLZdgYChmYOD4CVPIXFQM0asaGgr0itc3b4QHwR5h+v//\n",
       "fwJaMG2bwEAIAADr/yw/1dxlXwAAAABJRU5ErkJggg==\n",
       "\" style=\"display:inline;vertical-align:middle;\" /></a>, <a class=\"ProveItLink\" href=\"../../../../__pv_it/common/a9162d1c3cc0470c02e5daf414500903a7a419230/expr.ipynb\"><img src=\"data:image/png;base64,iVBORw0KGgoAAAANSUhEUgAAABAAAAAOBAMAAADUAYG5AAAAMFBMVEX///8AAAAAAAAAAAAAAAAA\n",
       "AAAAAAAAAAAAAAAAAAAAAAAAAAAAAAAAAAAAAAAAAAAv3aB7AAAAD3RSTlMAZrurzTLvInZEmRDd\n",
       "VIkafcLnAAAACXBIWXMAAA7EAAAOxAGVKw4bAAAAb0lEQVQI12NgYBD6b2zsFMAABEkMDMxfgTT7\n",
       "DwYGzl9ABiOQxwjkMDB/YGBgSQcy2BQYuG1AiuM1OkwEQJr6Cxh4E0EMNSB+D5L6DMTyDQwMrB+B\n",
       "DPsJDAwc34GcL0AOSwIDwzRvoHH6n41NdBkYAF/iFeJ4bEa2AAAAAElFTkSuQmCC\n",
       "\" style=\"display:inline;vertical-align:middle;\" /></a> : <a class=\"ProveItLink\" href=\"../__pv_it/demonstrations/e33f190811d95ad6bc48127485be48468026ccab0/expr.ipynb\"><img src=\"data:image/png;base64,iVBORw0KGgoAAAANSUhEUgAAADAAAAARBAMAAABp3DInAAAAMFBMVEX///8AAAAAAAAAAAAAAAAA\n",
       "AAAAAAAAAAAAAAAAAAAAAAAAAAAAAAAAAAAAAAAAAAAv3aB7AAAAD3RSTlMAIpnNuzKJRKvvEN12\n",
       "ZlQ4bmvwAAAACXBIWXMAAA7EAAAOxAGVKw4bAAAAxElEQVQY02NgVDIJYEADYknuDAwiDGzfEUKP\n",
       "BYAElwLD+wcMjQwMM+Hit7VAJM8/hvUGDPMXMPQLQMVPZ4Ep9ukM/AYM3QwM/RBLuLIPwLW+vwAi\n",
       "90PEtS/Axdn3gkjWP2Dx5gdwcdYTrSCKuwHMQ5JgALmKgUEFwmZEMoqB8xcDA28DlAO3nDWAgeUf\n",
       "A8MzBkY05/L/AkmwJjDwLED1IGcDyChpJSVtpCABeYn3Asgf+////4weiEVK7gwUAK7dYACPGwDH\n",
       "UzZ0lzl3XwAAAABJRU5ErkJggg==\n",
       "\" style=\"display:inline;vertical-align:middle;\" /></a></span></td></tr><tr><td><a name=\"-0xd787e7cd458a673_step10\">10</a></td><td>instantiation</td><td><a href=\"#-0xd787e7cd458a673_step25\">25</a>, <a href=\"#-0xd787e7cd458a673_step19\">19</a>, <a href=\"#-0xd787e7cd458a673_step17\">17</a></td><td><span style=\"font-size:20px;\"> <a class=\"ProveItLink\" href=\"../__pv_it/demonstrations/7e30cd757d6e2e1017431058967c7c1d0bf0020b0/proof.ipynb\" style=\"text-decoration: none\">&nbsp;&#x22A2;&nbsp;&nbsp;</a><a class=\"ProveItLink\" href=\"../__pv_it/demonstrations/40990e006b64102ede007d95d331ea850c17ba800/expr.ipynb\"><img src=\"data:image/png;base64,iVBORw0KGgoAAAANSUhEUgAAADMAAAASBAMAAAAEf/uKAAAAMFBMVEX///8AAAAAAAAAAAAAAAAA\n",
       "AAAAAAAAAAAAAAAAAAAAAAAAAAAAAAAAAAAAAAAAAAAv3aB7AAAAD3RSTlMAMt0Qq5nNdoki72a7\n",
       "RFSRpcO+AAAACXBIWXMAAA7EAAAOxAGVKw4bAAAA1UlEQVQY02NgwATMPWeOTgAxGJXRpUoWMkzy\n",
       "ANImYZ/RZDh2bGDgjT0AZLGjS0mwAYkD25GlapSUEkD0YRMg0ciGJHWtGOqIA+JA8h2rAFyKMxmq\n",
       "mbHhNpC8zf0ALsU2ASrFW7APSIrzbUBIwVzB2fAapIv9AlxKSgkIQC5mgNplAJeygTv+8BQ0FzLB\n",
       "pW6A/bUPIcVeAJNiBYWGL8hsjp8QkTy4thZgGLoCaRavb95gAZOzBjA3xqd9FUAJuxuHIAEFVC6w\n",
       "nQEXcGf3k8UhxeeTdZoBAALzO1fE+BU9AAAAAElFTkSuQmCC\n",
       "\" style=\"display:inline;vertical-align:middle;\" /></a></span></td></tr>\n",
       "<tr><td>&nbsp;</td><td colspan=4 style=\"text-align:left\"><span style=\"font-size:20px;\"><a class=\"ProveItLink\" href=\"../../../../__pv_it/common/09585084922504426caf1db2ff588a23a0932a960/expr.ipynb\"><img src=\"data:image/png;base64,iVBORw0KGgoAAAANSUhEUgAAAA8AAAAPBAMAAADJ+Ih5AAAAMFBMVEX///8AAAAAAAAAAAAAAAAA\n",
       "AAAAAAAAAAAAAAAAAAAAAAAAAAAAAAAAAAAAAAAAAAAv3aB7AAAAD3RSTlMAIs1UmauJMnZmRLsQ\n",
       "3e++988cAAAACXBIWXMAAA7EAAAOxAGVKw4bAAAAXklEQVQI12NgAAEhBijQh9LM/6EMlngBCCMx\n",
       "vwBMMzb0G0BkGOwngBmLGeoTwAwHBvkAEM2xxSV+A4hxgoGB/wJEhoH3AZDmAupg+gBkyAEx90cG\n",
       "htP/dRiY939KAABt3hLO6mcEjQAAAABJRU5ErkJggg==\n",
       "\" style=\"display:inline;vertical-align:middle;\" /></a> : <a class=\"ProveItLink\" href=\"../../integers/__pv_it/common/e6b4e90f9467053e055a4fd2f735c0bb79cb79300/expr.ipynb\"><img src=\"data:image/png;base64,iVBORw0KGgoAAAANSUhEUgAAAA4AAAAPBAMAAAAmOuNHAAAAMFBMVEX///8AAAAAAAAAAAAAAAAA\n",
       "AAAAAAAAAAAAAAAAAAAAAAAAAAAAAAAAAAAAAAAAAAAv3aB7AAAAD3RSTlMAVM3vu91mdqsymYki\n",
       "EESqKsraAAAACXBIWXMAAA7EAAAOxAGVKw4bAAAAcElEQVQI12NgVP6sEuqcwMDuMYFBgYmBgWsB\n",
       "A3vCRgYGjgMMV3gdGBh4GRhWckxgAALOhlkgioHlgi+YlmYrANMgXUDALrCPgeECA8MVHqCuHgaG\n",
       "TqAJvB8YOBe8AhoWANSly8Dj6MDw2MnExd5kAwAL3Bb91imKgQAAAABJRU5ErkJggg==\n",
       "\" style=\"display:inline;vertical-align:middle;\" /></a>, <a class=\"ProveItLink\" href=\"../../../../__pv_it/common/a9162d1c3cc0470c02e5daf414500903a7a419230/expr.ipynb\"><img src=\"data:image/png;base64,iVBORw0KGgoAAAANSUhEUgAAABAAAAAOBAMAAADUAYG5AAAAMFBMVEX///8AAAAAAAAAAAAAAAAA\n",
       "AAAAAAAAAAAAAAAAAAAAAAAAAAAAAAAAAAAAAAAAAAAv3aB7AAAAD3RSTlMAZrurzTLvInZEmRDd\n",
       "VIkafcLnAAAACXBIWXMAAA7EAAAOxAGVKw4bAAAAb0lEQVQI12NgYBD6b2zsFMAABEkMDMxfgTT7\n",
       "DwYGzl9ABiOQxwjkMDB/YGBgSQcy2BQYuG1AiuM1OkwEQJr6Cxh4E0EMNSB+D5L6DMTyDQwMrB+B\n",
       "DPsJDAwc34GcL0AOSwIDwzRvoHH6n41NdBkYAF/iFeJ4bEa2AAAAAElFTkSuQmCC\n",
       "\" style=\"display:inline;vertical-align:middle;\" /></a> : <a class=\"ProveItLink\" href=\"../../rational_numbers/__pv_it/common/3de3e316334b6ece430a3f1aee01ae68b192ecb30/expr.ipynb\"><img src=\"data:image/png;base64,iVBORw0KGgoAAAANSUhEUgAAABAAAAASBAMAAACgFUNZAAAAMFBMVEX///8AAAAAAAAAAAAAAAAA\n",
       "AAAAAAAAAAAAAAAAAAAAAAAAAAAAAAAAAAAAAAAAAAAv3aB7AAAAD3RSTlMAEIm7mSJ2q+8y3WZE\n",
       "zVRISQrpAAAACXBIWXMAAA7EAAAOxAGVKw4bAAAAh0lEQVQI12NgYBAyNnZlAAK2igmsyxWADG1t\n",
       "BoYjhxkYOBUuMDAwcycwMAsWMDAwTbjAIMyZwMDA98CTYRLPBgYGng37GI5xPwAqTHjNEMQHFslh\n",
       "YIaocWRgFoXq4oGYA1ToDTT5ONBkBiaQXQ4gW0P+3vdkAINKoE1gwJ6Q/vIAmPXctnkDAHEUIwom\n",
       "ORJuAAAAAElFTkSuQmCC\n",
       "\" style=\"display:inline;vertical-align:middle;\" /></a>, <a class=\"ProveItLink\" href=\"../../../../__pv_it/common/a0d9d672aa5e272d907247690c152cc2c6daafb70/expr.ipynb\"><img src=\"data:image/png;base64,iVBORw0KGgoAAAANSUhEUgAAAAsAAAAJBAMAAAAWSsseAAAAMFBMVEX///8AAAAAAAAAAAAAAAAA\n",
       "AAAAAAAAAAAAAAAAAAAAAAAAAAAAAAAAAAAAAAAAAAAv3aB7AAAAD3RSTlMAEHarMolUmd1mIs3v\n",
       "RLtmgJDEAAAACXBIWXMAAA7EAAAOxAGVKw4bAAAAQklEQVQI12NgEFIWCU1gYChgMmJvYOBcwPmR\n",
       "eQIDCwP7BgYQ4FEAU/cXMAowyF2wYWBlYMh3rGG4xsAgrsRWmcAAAFEjCyBvD0T9AAAAAElFTkSu\n",
       "QmCC\n",
       "\" style=\"display:inline;vertical-align:middle;\" /></a> : <a class=\"ProveItLink\" href=\"../../../numerals/__pv_it/common/682157d4892d216d9e5626ed533aff9b56b9506e0/expr.ipynb\"><img src=\"data:image/png;base64,iVBORw0KGgoAAAANSUhEUgAAAAgAAAAOBAMAAADgeEClAAAAJ1BMVEX///8AAAAAAAAAAAAAAAAA\n",
       "AAAAAAAAAAAAAAAAAAAAAAAAAAAAAAAilU6eAAAADHRSTlMAMt0Qq5nNdoki72YJhDyyAAAACXBI\n",
       "WXMAAA7EAAAOxAGVKw4bAAAAH0lEQVQI12NgYFRmYDAJO8zAwMBOMsFxkoGBxeuYNwB0KguGAVQB\n",
       "OAAAAABJRU5ErkJggg==\n",
       "\" style=\"display:inline;vertical-align:middle;\" /></a></span></td></tr><tr><td><a name=\"-0xd787e7cd458a673_step11\">11</a></td><td>instantiation</td><td><a href=\"#-0xd787e7cd458a673_step25\">25</a>, <a href=\"#-0xd787e7cd458a673_step19\">19</a>, <a href=\"#-0xd787e7cd458a673_step18\">18</a></td><td><span style=\"font-size:20px;\"> <a class=\"ProveItLink\" href=\"../__pv_it/demonstrations/077950f31f0ff7317de7b41217c9627280193e3e0/proof.ipynb\" style=\"text-decoration: none\">&nbsp;&#x22A2;&nbsp;&nbsp;</a><a class=\"ProveItLink\" href=\"../__pv_it/demonstrations/ed2f86edfb234bf186ff915d4457a63e8d1b9b820/expr.ipynb\"><img src=\"data:image/png;base64,iVBORw0KGgoAAAANSUhEUgAAADQAAAASBAMAAADmo+DzAAAAMFBMVEX///8AAAAAAAAAAAAAAAAA\n",
       "AAAAAAAAAAAAAAAAAAAAAAAAAAAAAAAAAAAAAAAAAAAv3aB7AAAAD3RSTlMAIomZu0QQVHbN72bd\n",
       "Mqv0UZE7AAAACXBIWXMAAA7EAAAOxAGVKw4bAAABAElEQVQY02NgwAKSXFwMQbSQsiuaDMerC4zn\n",
       "FBgY2AwY6gtQpbS1GRiCQ4BKvjPkT0CR4VUA8lm4GxhYlzLwQ6Q4fM6cBNEsaQ8YGJgugAXrN4BI\n",
       "1hkJEF0pvA0MDOwFtiCx02ARSagMwyVWoFLWDduBRve9BYtMhNkVwQ10Fm9DNdhAsAvhbhFiB+tq\n",
       "BbG5voHctebMmTNHwM6A2GXGwHuBgeU7UIDNAaaLJRHqQv5vECmGAzApVoi/Chi4HkAMZOiA+9ka\n",
       "GBpxwNDg3gD1Fyc8uJhAYWgAZAQbQ4KX7UkYTE7453xblLBjVYEEFBC8BYYgDsDX0FcbgEOuznPJ\n",
       "BgA9YEHBOeDJFQAAAABJRU5ErkJggg==\n",
       "\" style=\"display:inline;vertical-align:middle;\" /></a></span></td></tr>\n",
       "<tr><td>&nbsp;</td><td colspan=4 style=\"text-align:left\"><span style=\"font-size:20px;\"><a class=\"ProveItLink\" href=\"../../../../__pv_it/common/09585084922504426caf1db2ff588a23a0932a960/expr.ipynb\"><img src=\"data:image/png;base64,iVBORw0KGgoAAAANSUhEUgAAAA8AAAAPBAMAAADJ+Ih5AAAAMFBMVEX///8AAAAAAAAAAAAAAAAA\n",
       "AAAAAAAAAAAAAAAAAAAAAAAAAAAAAAAAAAAAAAAAAAAv3aB7AAAAD3RSTlMAIs1UmauJMnZmRLsQ\n",
       "3e++988cAAAACXBIWXMAAA7EAAAOxAGVKw4bAAAAXklEQVQI12NgAAEhBijQh9LM/6EMlngBCCMx\n",
       "vwBMMzb0G0BkGOwngBmLGeoTwAwHBvkAEM2xxSV+A4hxgoGB/wJEhoH3AZDmAupg+gBkyAEx90cG\n",
       "htP/dRiY939KAABt3hLO6mcEjQAAAABJRU5ErkJggg==\n",
       "\" style=\"display:inline;vertical-align:middle;\" /></a> : <a class=\"ProveItLink\" href=\"../../integers/__pv_it/common/e6b4e90f9467053e055a4fd2f735c0bb79cb79300/expr.ipynb\"><img src=\"data:image/png;base64,iVBORw0KGgoAAAANSUhEUgAAAA4AAAAPBAMAAAAmOuNHAAAAMFBMVEX///8AAAAAAAAAAAAAAAAA\n",
       "AAAAAAAAAAAAAAAAAAAAAAAAAAAAAAAAAAAAAAAAAAAv3aB7AAAAD3RSTlMAVM3vu91mdqsymYki\n",
       "EESqKsraAAAACXBIWXMAAA7EAAAOxAGVKw4bAAAAcElEQVQI12NgVP6sEuqcwMDuMYFBgYmBgWsB\n",
       "A3vCRgYGjgMMV3gdGBh4GRhWckxgAALOhlkgioHlgi+YlmYrANMgXUDALrCPgeECA8MVHqCuHgaG\n",
       "TqAJvB8YOBe8AhoWANSly8Dj6MDw2MnExd5kAwAL3Bb91imKgQAAAABJRU5ErkJggg==\n",
       "\" style=\"display:inline;vertical-align:middle;\" /></a>, <a class=\"ProveItLink\" href=\"../../../../__pv_it/common/a9162d1c3cc0470c02e5daf414500903a7a419230/expr.ipynb\"><img src=\"data:image/png;base64,iVBORw0KGgoAAAANSUhEUgAAABAAAAAOBAMAAADUAYG5AAAAMFBMVEX///8AAAAAAAAAAAAAAAAA\n",
       "AAAAAAAAAAAAAAAAAAAAAAAAAAAAAAAAAAAAAAAAAAAv3aB7AAAAD3RSTlMAZrurzTLvInZEmRDd\n",
       "VIkafcLnAAAACXBIWXMAAA7EAAAOxAGVKw4bAAAAb0lEQVQI12NgYBD6b2zsFMAABEkMDMxfgTT7\n",
       "DwYGzl9ABiOQxwjkMDB/YGBgSQcy2BQYuG1AiuM1OkwEQJr6Cxh4E0EMNSB+D5L6DMTyDQwMrB+B\n",
       "DPsJDAwc34GcL0AOSwIDwzRvoHH6n41NdBkYAF/iFeJ4bEa2AAAAAElFTkSuQmCC\n",
       "\" style=\"display:inline;vertical-align:middle;\" /></a> : <a class=\"ProveItLink\" href=\"../../rational_numbers/__pv_it/common/3de3e316334b6ece430a3f1aee01ae68b192ecb30/expr.ipynb\"><img src=\"data:image/png;base64,iVBORw0KGgoAAAANSUhEUgAAABAAAAASBAMAAACgFUNZAAAAMFBMVEX///8AAAAAAAAAAAAAAAAA\n",
       "AAAAAAAAAAAAAAAAAAAAAAAAAAAAAAAAAAAAAAAAAAAv3aB7AAAAD3RSTlMAEIm7mSJ2q+8y3WZE\n",
       "zVRISQrpAAAACXBIWXMAAA7EAAAOxAGVKw4bAAAAh0lEQVQI12NgYBAyNnZlAAK2igmsyxWADG1t\n",
       "BoYjhxkYOBUuMDAwcycwMAsWMDAwTbjAIMyZwMDA98CTYRLPBgYGng37GI5xPwAqTHjNEMQHFslh\n",
       "YIaocWRgFoXq4oGYA1ToDTT5ONBkBiaQXQ4gW0P+3vdkAINKoE1gwJ6Q/vIAmPXctnkDAHEUIwom\n",
       "ORJuAAAAAElFTkSuQmCC\n",
       "\" style=\"display:inline;vertical-align:middle;\" /></a>, <a class=\"ProveItLink\" href=\"../../../../__pv_it/common/a0d9d672aa5e272d907247690c152cc2c6daafb70/expr.ipynb\"><img src=\"data:image/png;base64,iVBORw0KGgoAAAANSUhEUgAAAAsAAAAJBAMAAAAWSsseAAAAMFBMVEX///8AAAAAAAAAAAAAAAAA\n",
       "AAAAAAAAAAAAAAAAAAAAAAAAAAAAAAAAAAAAAAAAAAAv3aB7AAAAD3RSTlMAEHarMolUmd1mIs3v\n",
       "RLtmgJDEAAAACXBIWXMAAA7EAAAOxAGVKw4bAAAAQklEQVQI12NgEFIWCU1gYChgMmJvYOBcwPmR\n",
       "eQIDCwP7BgYQ4FEAU/cXMAowyF2wYWBlYMh3rGG4xsAgrsRWmcAAAFEjCyBvD0T9AAAAAElFTkSu\n",
       "QmCC\n",
       "\" style=\"display:inline;vertical-align:middle;\" /></a> : <a class=\"ProveItLink\" href=\"../../../numerals/__pv_it/common/1943b60945420e340d305780feff5c1aff2740ff0/expr.ipynb\"><img src=\"data:image/png;base64,iVBORw0KGgoAAAANSUhEUgAAAAoAAAAOBAMAAADkjZCYAAAAMFBMVEX///8AAAAAAAAAAAAAAAAA\n",
       "AAAAAAAAAAAAAAAAAAAAAAAAAAAAAAAAAAAAAAAAAAAv3aB7AAAAD3RSTlMAIomZu0QQVHbN72bd\n",
       "Mqv0UZE7AAAACXBIWXMAAA7EAAAOxAGVKw4bAAAATElEQVQI12NgEFJ2ZWBgM2CoL2Dg+M6QP4GB\n",
       "dSkD/wQGIKjfACRYTwMJ3r63DGCRAhDJ9Y2B9wIDy3cG/m8gkusBSIR7A1h9sLErAwDNcRLUUVUn\n",
       "vwAAAABJRU5ErkJggg==\n",
       "\" style=\"display:inline;vertical-align:middle;\" /></a></span></td></tr><tr><td><a name=\"-0xd787e7cd458a673_step12\">12</a></td><td>conjecture</td><td></td><td><span style=\"font-size:20px;\"> <a class=\"ProveItLink\" href=\"proofs/rational_within_real/thm_proof.ipynb\" style=\"text-decoration: none\">&nbsp;&#x22A2;&nbsp;&nbsp;</a><a class=\"ProveItLink\" href=\"../__pv_it/theorems/e682cd49905f8b52fcd025dd4d0c53b5fa6a75840/expr.ipynb\"><img src=\"data:image/png;base64,iVBORw0KGgoAAAANSUhEUgAAADsAAAASBAMAAAAXqLt+AAAAMFBMVEX///8AAAAAAAAAAAAAAAAA\n",
       "AAAAAAAAAAAAAAAAAAAAAAAAAAAAAAAAAAAAAAAAAAAv3aB7AAAAD3RSTlMAEIm7mSJ2q+8y3WZE\n",
       "zVRISQrpAAAACXBIWXMAAA7EAAAOxAGVKw4bAAABDUlEQVQoz2NgYBAyNnZlQAN7m+1vNW8Asdgq\n",
       "JrAuV0CXNwhnOL5ZAMjQ1mZgOHIYQzqIgZmzgIGBU+ECAwMzdwKmNEsASEYQqIZpwgWwIJvVqlWr\n",
       "JsClDRgYhDmBGvkeeILEOC8FIOlmB2mcxAN0IM+GfSAxqQBkwye/BXKPcT8Aakt4DRKrQbI74tav\n",
       "RCAdxAfWnQMSu4DstN2yIJoZYrcjyOoCZGlmaVCwMIvCXc6KIs3pYAikeSD+fgASW4Dib89gEMMb\n",
       "GGrHIaHmjSItzAYynQkU5g5gMd4DCOkQBu4NNiBWyN/7nhAxRvODiBgzZTC+D7ayEh7iPMqwQEUC\n",
       "7AnpLw8w4AbPbSFRjwkApNtJpbpIiBIAAAAASUVORK5CYII=\n",
       "\" style=\"display:inline;vertical-align:middle;\" /></a></span></td></tr>\n",
       "<tr><td>&nbsp;</td><td colspan=4 style-\"text-align:left\"><a class=\"ProveItLink\" href=\"proofs/rational_within_real/thm_proof.ipynb\">proveit.numbers.number_sets.real_numbers.rational_within_real</a></td></tr><tr><td><a name=\"-0xd787e7cd458a673_step13\">13</a></td><td>instantiation</td><td><a href=\"#-0xd787e7cd458a673_step25\">25</a>, <a href=\"#-0xd787e7cd458a673_step19\">19</a>, <a href=\"#-0xd787e7cd458a673_step20\">20</a></td><td><span style=\"font-size:20px;\"> <a class=\"ProveItLink\" href=\"../__pv_it/demonstrations/65b3940948d41d20a3439fa181e29998369e49ad0/proof.ipynb\" style=\"text-decoration: none\">&nbsp;&#x22A2;&nbsp;&nbsp;</a><a class=\"ProveItLink\" href=\"../__pv_it/demonstrations/9fcd7e1f9f79a43396482feffbef8cf6ef083bbd0/expr.ipynb\"><img src=\"data:image/png;base64,iVBORw0KGgoAAAANSUhEUgAAADMAAAASBAMAAAAEf/uKAAAAMFBMVEX///8AAAAAAAAAAAAAAAAA\n",
       "AAAAAAAAAAAAAAAAAAAAAAAAAAAAAAAAAAAAAAAAAAAv3aB7AAAAD3RSTlMAIpnNuzKJRKvvEN12\n",
       "ZlQ4bmvwAAAACXBIWXMAAA7EAAAOxAGVKw4bAAABAklEQVQY02NgwARcKS5OAkCaUckkAE3qxFQG\n",
       "6TYgLcLA9h1Vhu3aBQZ2dQcGhkYGhpmoUmHMQMLhDgPD/AUM/QJgoSO7dxuAaK8VQCIVKN/NwNAP\n",
       "tqz4FNQRDjFA8h0TWHA/iGC0gprHmlALJGt5H4DYf0AizAJQKfYD94BkDN8FIMndAJaCuYIx4S1I\n",
       "F08BkFQBi0TuBgIHEAtq1wIGBl6wJoYlcMd7SUBdyPCMgRFkDTdcqgzsr3sgBzHwAPUy8ByASTGB\n",
       "QqMdaLa0kpI2WMQOri0DGIZNIE/9//8ZLLDCfQHMjfrGn1CDvMwbElAMDBwBdxhwgR6evnAcUnwt\n",
       "lr4MAECIOxjlwmF1AAAAAElFTkSuQmCC\n",
       "\" style=\"display:inline;vertical-align:middle;\" /></a></span></td></tr>\n",
       "<tr><td>&nbsp;</td><td colspan=4 style=\"text-align:left\"><span style=\"font-size:20px;\"><a class=\"ProveItLink\" href=\"../../../../__pv_it/common/09585084922504426caf1db2ff588a23a0932a960/expr.ipynb\"><img src=\"data:image/png;base64,iVBORw0KGgoAAAANSUhEUgAAAA8AAAAPBAMAAADJ+Ih5AAAAMFBMVEX///8AAAAAAAAAAAAAAAAA\n",
       "AAAAAAAAAAAAAAAAAAAAAAAAAAAAAAAAAAAAAAAAAAAv3aB7AAAAD3RSTlMAIs1UmauJMnZmRLsQ\n",
       "3e++988cAAAACXBIWXMAAA7EAAAOxAGVKw4bAAAAXklEQVQI12NgAAEhBijQh9LM/6EMlngBCCMx\n",
       "vwBMMzb0G0BkGOwngBmLGeoTwAwHBvkAEM2xxSV+A4hxgoGB/wJEhoH3AZDmAupg+gBkyAEx90cG\n",
       "htP/dRiY939KAABt3hLO6mcEjQAAAABJRU5ErkJggg==\n",
       "\" style=\"display:inline;vertical-align:middle;\" /></a> : <a class=\"ProveItLink\" href=\"../../integers/__pv_it/common/e6b4e90f9467053e055a4fd2f735c0bb79cb79300/expr.ipynb\"><img src=\"data:image/png;base64,iVBORw0KGgoAAAANSUhEUgAAAA4AAAAPBAMAAAAmOuNHAAAAMFBMVEX///8AAAAAAAAAAAAAAAAA\n",
       "AAAAAAAAAAAAAAAAAAAAAAAAAAAAAAAAAAAAAAAAAAAv3aB7AAAAD3RSTlMAVM3vu91mdqsymYki\n",
       "EESqKsraAAAACXBIWXMAAA7EAAAOxAGVKw4bAAAAcElEQVQI12NgVP6sEuqcwMDuMYFBgYmBgWsB\n",
       "A3vCRgYGjgMMV3gdGBh4GRhWckxgAALOhlkgioHlgi+YlmYrANMgXUDALrCPgeECA8MVHqCuHgaG\n",
       "TqAJvB8YOBe8AhoWANSly8Dj6MDw2MnExd5kAwAL3Bb91imKgQAAAABJRU5ErkJggg==\n",
       "\" style=\"display:inline;vertical-align:middle;\" /></a>, <a class=\"ProveItLink\" href=\"../../../../__pv_it/common/a9162d1c3cc0470c02e5daf414500903a7a419230/expr.ipynb\"><img src=\"data:image/png;base64,iVBORw0KGgoAAAANSUhEUgAAABAAAAAOBAMAAADUAYG5AAAAMFBMVEX///8AAAAAAAAAAAAAAAAA\n",
       "AAAAAAAAAAAAAAAAAAAAAAAAAAAAAAAAAAAAAAAAAAAv3aB7AAAAD3RSTlMAZrurzTLvInZEmRDd\n",
       "VIkafcLnAAAACXBIWXMAAA7EAAAOxAGVKw4bAAAAb0lEQVQI12NgYBD6b2zsFMAABEkMDMxfgTT7\n",
       "DwYGzl9ABiOQxwjkMDB/YGBgSQcy2BQYuG1AiuM1OkwEQJr6Cxh4E0EMNSB+D5L6DMTyDQwMrB+B\n",
       "DPsJDAwc34GcL0AOSwIDwzRvoHH6n41NdBkYAF/iFeJ4bEa2AAAAAElFTkSuQmCC\n",
       "\" style=\"display:inline;vertical-align:middle;\" /></a> : <a class=\"ProveItLink\" href=\"../../rational_numbers/__pv_it/common/3de3e316334b6ece430a3f1aee01ae68b192ecb30/expr.ipynb\"><img src=\"data:image/png;base64,iVBORw0KGgoAAAANSUhEUgAAABAAAAASBAMAAACgFUNZAAAAMFBMVEX///8AAAAAAAAAAAAAAAAA\n",
       "AAAAAAAAAAAAAAAAAAAAAAAAAAAAAAAAAAAAAAAAAAAv3aB7AAAAD3RSTlMAEIm7mSJ2q+8y3WZE\n",
       "zVRISQrpAAAACXBIWXMAAA7EAAAOxAGVKw4bAAAAh0lEQVQI12NgYBAyNnZlAAK2igmsyxWADG1t\n",
       "BoYjhxkYOBUuMDAwcycwMAsWMDAwTbjAIMyZwMDA98CTYRLPBgYGng37GI5xPwAqTHjNEMQHFslh\n",
       "YIaocWRgFoXq4oGYA1ToDTT5ONBkBiaQXQ4gW0P+3vdkAINKoE1gwJ6Q/vIAmPXctnkDAHEUIwom\n",
       "ORJuAAAAAElFTkSuQmCC\n",
       "\" style=\"display:inline;vertical-align:middle;\" /></a>, <a class=\"ProveItLink\" href=\"../../../../__pv_it/common/a0d9d672aa5e272d907247690c152cc2c6daafb70/expr.ipynb\"><img src=\"data:image/png;base64,iVBORw0KGgoAAAANSUhEUgAAAAsAAAAJBAMAAAAWSsseAAAAMFBMVEX///8AAAAAAAAAAAAAAAAA\n",
       "AAAAAAAAAAAAAAAAAAAAAAAAAAAAAAAAAAAAAAAAAAAv3aB7AAAAD3RSTlMAEHarMolUmd1mIs3v\n",
       "RLtmgJDEAAAACXBIWXMAAA7EAAAOxAGVKw4bAAAAQklEQVQI12NgEFIWCU1gYChgMmJvYOBcwPmR\n",
       "eQIDCwP7BgYQ4FEAU/cXMAowyF2wYWBlYMh3rGG4xsAgrsRWmcAAAFEjCyBvD0T9AAAAAElFTkSu\n",
       "QmCC\n",
       "\" style=\"display:inline;vertical-align:middle;\" /></a> : <a class=\"ProveItLink\" href=\"../../../numerals/__pv_it/common/af4aab8a07465db063742696e006d04670f30cf10/expr.ipynb\"><img src=\"data:image/png;base64,iVBORw0KGgoAAAANSUhEUgAAAAkAAAAOBAMAAAAPuiubAAAAMFBMVEX///8AAAAAAAAAAAAAAAAA\n",
       "AAAAAAAAAAAAAAAAAAAAAAAAAAAAAAAAAAAAAAAAAAAv3aB7AAAAD3RSTlMAIpnNuzKJRKvvEN12\n",
       "ZlQ4bmvwAAAACXBIWXMAAA7EAAAOxAGVKw4bAAAATklEQVQI12NgVDIJYGAQYWD7zsDQyMAwk4Fh\n",
       "/gKGfgGGbgaGfqAEA8N+EMH6B0RyN4BIFRDBC2Y+Y2AUYGBNYOBZwCCtpKQNVPz//2cGAEeID1mi\n",
       "/zO7AAAAAElFTkSuQmCC\n",
       "\" style=\"display:inline;vertical-align:middle;\" /></a></span></td></tr><tr><td><a name=\"-0xd787e7cd458a673_step14\">14</a></td><td>theorem</td><td></td><td><span style=\"font-size:20px;\"> <a class=\"ProveItLink\" href=\"../../../../logic/booleans/conjunction/_theory_nbs_/proofs/and_if_both/thm_proof.ipynb\" style=\"text-decoration: none\">&nbsp;&#x22A2;&nbsp;&nbsp;</a><a class=\"ProveItLink\" href=\"../../../../logic/booleans/conjunction/__pv_it/theorems/014a7d12c0ce73da40017125d0ac8b3d52f7b2000/expr.ipynb\"><img src=\"data:image/png;base64,iVBORw0KGgoAAAANSUhEUgAAAK0AAAAXBAMAAACL0NJjAAAAMFBMVEX///8AAAAAAAAAAAAAAAAA\n",
       "AAAAAAAAAAAAAAAAAAAAAAAAAAAAAAAAAAAAAAAAAAAv3aB7AAAAD3RSTlMAq1RmmUTNIjK7EInv\n",
       "3XZ/CtNrAAAACXBIWXMAAA7EAAAOxAGVKw4bAAACuElEQVQ4y62VS2gTURSG/8xkkskkGRMoxY1k\n",
       "QHcujFgEF7X1iaWCQTdFRONCitk0blxVE5dCoaW4EBETQQTRSi0FF1k01oWKKAFF3BQGXbgR+7BN\n",
       "QwXjuY8pk8RGpzowuY9zz3fO/e+ZG2BTT7CtNYvNPp9Ec/n31rP0xlhnu0esMinaoab5ffV4/GIe\n",
       "ZhI4wsaDHrn3Jb4ux1OO4RXgqwEZ4BpTa8wj95Bo/AmhpPHBkf0noC0DXUCgCIQtj9yyaJ7O5Hlr\n",
       "7k6JCZVyVYkdKUIlLQJe5U2L7Ox5kVBUlxv2LRDsBb0EfTM399oj1y+OzY9dSd7Z6RxQZAzGNtpD\n",
       "mKrhGHCLTxabvHtla7RwAwJ3EqMiwCB2CMPonW+dzKbShi4hyGvNeMlN15dLfUI15zAf8aFe6J++\n",
       "KWeilgyc4556DFGR1HwWynMmFB1AqBjmqoeXhPQVmOUG7oygdANf5UyEO5g3Dif4Gh9VrM0Nt9ly\n",
       "SkMnnRVbHNvAWyF9L9QFN1cbET4dQE8D9zGwpSKr2eAdLNLbQ8s1lll6P5+zzwsfCxNJN9cM8M1i\n",
       "Fsa7Bh1I/2jZ+SoOckG+00+CgioszFSGu+Mo98l97toKN9f2p0XJ7zmQl9wQ24HGCpTvrOLcFOYq\n",
       "satMTOY7zPMZkOp1w+hwc7W8kJt0v+tUCCsjDLMAq8zCooRYzACtPJNxCtHH0+gvJYpSxlzKxfWX\n",
       "nqxJ3YMrkqtThg/qGSiFKgF8zE8nuK+wGO8c50KlnJI0CZcXMuKcu85sBGtSd63mrP74hw/nynrv\n",
       "FB2uZUwiuAbjvUsHpuISHlLUIiYcHdi98jf3Eu32GYwTF/RZ7P1R6rNc3OMx3KumRix1qDQ9vu4X\n",
       "av+P0HI/Ku6B29h04RntL9aWsKc34GrNd8fVttwvzRPJDbgq/uOT/RfnX4TjoghUGfK6AAAAAElF\n",
       "TkSuQmCC\n",
       "\" style=\"display:inline;vertical-align:middle;\" /></a></span></td></tr>\n",
       "<tr><td>&nbsp;</td><td colspan=4 style-\"text-align:left\"><a class=\"ProveItLink\" href=\"../../../../logic/booleans/conjunction/_theory_nbs_/proofs/and_if_both/thm_proof.ipynb\">proveit.logic.booleans.conjunction.and_if_both</a></td></tr><tr><td><a name=\"-0xd787e7cd458a673_step15\">15</a></td><td>conjecture</td><td></td><td><span style=\"font-size:20px;\"> <a class=\"ProveItLink\" href=\"../../../numerals/decimals/_theory_nbs_/proofs/less_1_2/thm_proof.ipynb\" style=\"text-decoration: none\">&nbsp;&#x22A2;&nbsp;&nbsp;</a><a class=\"ProveItLink\" href=\"../../../numerals/decimals/__pv_it/theorems/87469a9c68ae71903426a57864d5192167a8a75c0/expr.ipynb\"><img src=\"data:image/png;base64,iVBORw0KGgoAAAANSUhEUgAAADAAAAAQBAMAAACigOGCAAAAMFBMVEX///8AAAAAAAAAAAAAAAAA\n",
       "AAAAAAAAAAAAAAAAAAAAAAAAAAAAAAAAAAAAAAAAAAAv3aB7AAAAD3RSTlMAMt0Qq5nNdoki72ZU\n",
       "u0S9iLk1AAAACXBIWXMAAA7EAAAOxAGVKw4bAAAAl0lEQVQY02NgYFRmQAdTwy4yMJiEfUYX57zA\n",
       "0P+AgYEdQ4JlAgPXAjSJYxOABNdnBpafqBKbgsE6FBhYPqJIFDXDWEwfkCSYmwrgSuQLEBKcQRsQ\n",
       "ZqowICTcDiDEWS/gkNjCwIDVKJ4GhplYLZdgYChmYOD4CVPIXFQM0asaGgr0itc3b4QHwR5h+v//\n",
       "fwJaMG2bwEAIAADr/yw/1dxlXwAAAABJRU5ErkJggg==\n",
       "\" style=\"display:inline;vertical-align:middle;\" /></a></span></td></tr>\n",
       "<tr><td>&nbsp;</td><td colspan=4 style-\"text-align:left\"><a class=\"ProveItLink\" href=\"../../../numerals/decimals/_theory_nbs_/proofs/less_1_2/thm_proof.ipynb\">proveit.numbers.numerals.decimals.less_1_2</a></td></tr><tr><td><a name=\"-0xd787e7cd458a673_step16\">16</a></td><td>instantiation</td><td><a href=\"#-0xd787e7cd458a673_step21\">21</a>, <a href=\"#-0xd787e7cd458a673_step22\">22</a></td><td><span style=\"font-size:20px;\"> <a class=\"ProveItLink\" href=\"../__pv_it/demonstrations/69eb006ea84773a84dccce1bc4f643e7ed68cd5b0/proof.ipynb\" style=\"text-decoration: none\">&nbsp;&#x22A2;&nbsp;&nbsp;</a><a class=\"ProveItLink\" href=\"../__pv_it/demonstrations/e33f190811d95ad6bc48127485be48468026ccab0/expr.ipynb\"><img src=\"data:image/png;base64,iVBORw0KGgoAAAANSUhEUgAAADAAAAARBAMAAABp3DInAAAAMFBMVEX///8AAAAAAAAAAAAAAAAA\n",
       "AAAAAAAAAAAAAAAAAAAAAAAAAAAAAAAAAAAAAAAAAAAv3aB7AAAAD3RSTlMAIpnNuzKJRKvvEN12\n",
       "ZlQ4bmvwAAAACXBIWXMAAA7EAAAOxAGVKw4bAAAAxElEQVQY02NgVDIJYEADYknuDAwiDGzfEUKP\n",
       "BYAElwLD+wcMjQwMM+Hit7VAJM8/hvUGDPMXMPQLQMVPZ4Ep9ukM/AYM3QwM/RBLuLIPwLW+vwAi\n",
       "90PEtS/Axdn3gkjWP2Dx5gdwcdYTrSCKuwHMQ5JgALmKgUEFwmZEMoqB8xcDA28DlAO3nDWAgeUf\n",
       "A8MzBkY05/L/AkmwJjDwLED1IGcDyChpJSVtpCABeYn3Asgf+////4weiEVK7gwUAK7dYACPGwDH\n",
       "UzZ0lzl3XwAAAABJRU5ErkJggg==\n",
       "\" style=\"display:inline;vertical-align:middle;\" /></a></span></td></tr>\n",
       "<tr><td>&nbsp;</td><td colspan=4 style=\"text-align:left\"><span style=\"font-size:20px;\"><a class=\"ProveItLink\" href=\"../../../../__pv_it/common/a0d9d672aa5e272d907247690c152cc2c6daafb70/expr.ipynb\"><img src=\"data:image/png;base64,iVBORw0KGgoAAAANSUhEUgAAAAsAAAAJBAMAAAAWSsseAAAAMFBMVEX///8AAAAAAAAAAAAAAAAA\n",
       "AAAAAAAAAAAAAAAAAAAAAAAAAAAAAAAAAAAAAAAAAAAv3aB7AAAAD3RSTlMAEHarMolUmd1mIs3v\n",
       "RLtmgJDEAAAACXBIWXMAAA7EAAAOxAGVKw4bAAAAQklEQVQI12NgEFIWCU1gYChgMmJvYOBcwPmR\n",
       "eQIDCwP7BgYQ4FEAU/cXMAowyF2wYWBlYMh3rGG4xsAgrsRWmcAAAFEjCyBvD0T9AAAAAElFTkSu\n",
       "QmCC\n",
       "\" style=\"display:inline;vertical-align:middle;\" /></a> : <a class=\"ProveItLink\" href=\"../../../numerals/__pv_it/common/af4aab8a07465db063742696e006d04670f30cf10/expr.ipynb\"><img src=\"data:image/png;base64,iVBORw0KGgoAAAANSUhEUgAAAAkAAAAOBAMAAAAPuiubAAAAMFBMVEX///8AAAAAAAAAAAAAAAAA\n",
       "AAAAAAAAAAAAAAAAAAAAAAAAAAAAAAAAAAAAAAAAAAAv3aB7AAAAD3RSTlMAIpnNuzKJRKvvEN12\n",
       "ZlQ4bmvwAAAACXBIWXMAAA7EAAAOxAGVKw4bAAAATklEQVQI12NgVDIJYGAQYWD7zsDQyMAwk4Fh\n",
       "/gKGfgGGbgaGfqAEA8N+EMH6B0RyN4BIFRDBC2Y+Y2AUYGBNYOBZwCCtpKQNVPz//2cGAEeID1mi\n",
       "/zO7AAAAAElFTkSuQmCC\n",
       "\" style=\"display:inline;vertical-align:middle;\" /></a>, <a class=\"ProveItLink\" href=\"../../../../__pv_it/common/ff7dba4ef0bbe791ab573bf2d9c220a304399ac80/expr.ipynb\"><img src=\"data:image/png;base64,iVBORw0KGgoAAAANSUhEUgAAAAsAAAANBAMAAACN24kIAAAAMFBMVEX///8AAAAAAAAAAAAAAAAA\n",
       "AAAAAAAAAAAAAAAAAAAAAAAAAAAAAAAAAAAAAAAAAAAv3aB7AAAAD3RSTlMAEHaZZquJVO8y3btE\n",
       "zSKD2s2pAAAACXBIWXMAAA7EAAAOxAGVKw4bAAAAVklEQVQI12NgVHZgEGVgYGNvYPBnYJjOvIAh\n",
       "moFBgEOBoYmBgeG8AOdPIGXLwNQApLYycAcAKVOG8w5ASjTJ/gEDCOQCMdsFxnYgxaXAmgCk2J1s\n",
       "gCQAaFoNDtFIIdEAAAAASUVORK5CYII=\n",
       "\" style=\"display:inline;vertical-align:middle;\" /></a> : <a class=\"ProveItLink\" href=\"../../../numerals/__pv_it/common/1943b60945420e340d305780feff5c1aff2740ff0/expr.ipynb\"><img src=\"data:image/png;base64,iVBORw0KGgoAAAANSUhEUgAAAAoAAAAOBAMAAADkjZCYAAAAMFBMVEX///8AAAAAAAAAAAAAAAAA\n",
       "AAAAAAAAAAAAAAAAAAAAAAAAAAAAAAAAAAAAAAAAAAAv3aB7AAAAD3RSTlMAIomZu0QQVHbN72bd\n",
       "Mqv0UZE7AAAACXBIWXMAAA7EAAAOxAGVKw4bAAAATElEQVQI12NgEFJ2ZWBgM2CoL2Dg+M6QP4GB\n",
       "dSkD/wQGIKjfACRYTwMJ3r63DGCRAhDJ9Y2B9wIDy3cG/m8gkusBSIR7A1h9sLErAwDNcRLUUVUn\n",
       "vwAAAABJRU5ErkJggg==\n",
       "\" style=\"display:inline;vertical-align:middle;\" /></a></span></td></tr><tr><td><a name=\"-0xd787e7cd458a673_step17\">17</a></td><td>instantiation</td><td><a href=\"#-0xd787e7cd458a673_step25\">25</a>, <a href=\"#-0xd787e7cd458a673_step26\">26</a>, <a href=\"#-0xd787e7cd458a673_step23\">23</a></td><td><span style=\"font-size:20px;\"> <a class=\"ProveItLink\" href=\"../__pv_it/demonstrations/38fd48082b6f6219ba8c8d320b4072e0e04a3c630/proof.ipynb\" style=\"text-decoration: none\">&nbsp;&#x22A2;&nbsp;&nbsp;</a><a class=\"ProveItLink\" href=\"../__pv_it/demonstrations/226944debb42acc8f970107213512ebcf205a59f0/expr.ipynb\"><img src=\"data:image/png;base64,iVBORw0KGgoAAAANSUhEUgAAADEAAAAQBAMAAABNQoq8AAAAMFBMVEX///8AAAAAAAAAAAAAAAAA\n",
       "AAAAAAAAAAAAAAAAAAAAAAAAAAAAAAAAAAAAAAAAAAAv3aB7AAAAD3RSTlMAMt0Qq5nNdoki72a7\n",
       "RFSRpcO+AAAACXBIWXMAAA7EAAAOxAGVKw4bAAAAwElEQVQY02NgwADP1i87pLMayGBURpOpcWRg\n",
       "Y0hgYDAJ+4wmE8rAUM3xAMhgR5fxZGA+YMOALFOjpJQAog0YWAUckWWuFcN1iTAGIMlwJiPMO8xj\n",
       "gCTDNgEuwdewnQFZBqEF7GaEjJQSEBwAM+s4LjAwI2Rs4FqYD8xhYGCZAJdhgsuwCHgyMNgj9LAX\n",
       "wGREeYFudgIyOH5CBPLgbmYzYJjzBqjX65s3WMDkLNgTDLxrss6c+nUCObxuHIKEDhQAAKWPLl36\n",
       "U6F8AAAAAElFTkSuQmCC\n",
       "\" style=\"display:inline;vertical-align:middle;\" /></a></span></td></tr>\n",
       "<tr><td>&nbsp;</td><td colspan=4 style=\"text-align:left\"><span style=\"font-size:20px;\"><a class=\"ProveItLink\" href=\"../../../../__pv_it/common/09585084922504426caf1db2ff588a23a0932a960/expr.ipynb\"><img src=\"data:image/png;base64,iVBORw0KGgoAAAANSUhEUgAAAA8AAAAPBAMAAADJ+Ih5AAAAMFBMVEX///8AAAAAAAAAAAAAAAAA\n",
       "AAAAAAAAAAAAAAAAAAAAAAAAAAAAAAAAAAAAAAAAAAAv3aB7AAAAD3RSTlMAIs1UmauJMnZmRLsQ\n",
       "3e++988cAAAACXBIWXMAAA7EAAAOxAGVKw4bAAAAXklEQVQI12NgAAEhBijQh9LM/6EMlngBCCMx\n",
       "vwBMMzb0G0BkGOwngBmLGeoTwAwHBvkAEM2xxSV+A4hxgoGB/wJEhoH3AZDmAupg+gBkyAEx90cG\n",
       "htP/dRiY939KAABt3hLO6mcEjQAAAABJRU5ErkJggg==\n",
       "\" style=\"display:inline;vertical-align:middle;\" /></a> : <a class=\"ProveItLink\" href=\"../../natural_numbers/__pv_it/common/8b7c321957f52ed3b05b36af612eeae4fa4783bc0/expr.ipynb\"><img src=\"data:image/png;base64,iVBORw0KGgoAAAANSUhEUgAAAA8AAAAPBAMAAADJ+Ih5AAAAMFBMVEX///8AAAAAAAAAAAAAAAAA\n",
       "AAAAAAAAAAAAAAAAAAAAAAAAAAAAAAAAAAAAAAAAAAAv3aB7AAAAD3RSTlMAEN27zYnvRFSrImZ2\n",
       "MpmnAiL6AAAACXBIWXMAAA7EAAAOxAGVKw4bAAAAaUlEQVQI12MQ+mwiwBD2rYCBwYJ9AgPjBwYG\n",
       "hkkLohkYEoCMGQYsCxgUgIxZe7gcIAzOC0chDAYD5gII4x6jIoTB3dCcAGYwTOSEMiQZIVIMvAcM\n",
       "gAxbID4LYngAMZ8DA8OVb0AeowMDAHMQGYAvWUcMAAAAAElFTkSuQmCC\n",
       "\" style=\"display:inline;vertical-align:middle;\" /></a>, <a class=\"ProveItLink\" href=\"../../../../__pv_it/common/a9162d1c3cc0470c02e5daf414500903a7a419230/expr.ipynb\"><img src=\"data:image/png;base64,iVBORw0KGgoAAAANSUhEUgAAABAAAAAOBAMAAADUAYG5AAAAMFBMVEX///8AAAAAAAAAAAAAAAAA\n",
       "AAAAAAAAAAAAAAAAAAAAAAAAAAAAAAAAAAAAAAAAAAAv3aB7AAAAD3RSTlMAZrurzTLvInZEmRDd\n",
       "VIkafcLnAAAACXBIWXMAAA7EAAAOxAGVKw4bAAAAb0lEQVQI12NgYBD6b2zsFMAABEkMDMxfgTT7\n",
       "DwYGzl9ABiOQxwjkMDB/YGBgSQcy2BQYuG1AiuM1OkwEQJr6Cxh4E0EMNSB+D5L6DMTyDQwMrB+B\n",
       "DPsJDAwc34GcL0AOSwIDwzRvoHH6n41NdBkYAF/iFeJ4bEa2AAAAAElFTkSuQmCC\n",
       "\" style=\"display:inline;vertical-align:middle;\" /></a> : <a class=\"ProveItLink\" href=\"../../integers/__pv_it/common/e6b4e90f9467053e055a4fd2f735c0bb79cb79300/expr.ipynb\"><img src=\"data:image/png;base64,iVBORw0KGgoAAAANSUhEUgAAAA4AAAAPBAMAAAAmOuNHAAAAMFBMVEX///8AAAAAAAAAAAAAAAAA\n",
       "AAAAAAAAAAAAAAAAAAAAAAAAAAAAAAAAAAAAAAAAAAAv3aB7AAAAD3RSTlMAVM3vu91mdqsymYki\n",
       "EESqKsraAAAACXBIWXMAAA7EAAAOxAGVKw4bAAAAcElEQVQI12NgVP6sEuqcwMDuMYFBgYmBgWsB\n",
       "A3vCRgYGjgMMV3gdGBh4GRhWckxgAALOhlkgioHlgi+YlmYrANMgXUDALrCPgeECA8MVHqCuHgaG\n",
       "TqAJvB8YOBe8AhoWANSly8Dj6MDw2MnExd5kAwAL3Bb91imKgQAAAABJRU5ErkJggg==\n",
       "\" style=\"display:inline;vertical-align:middle;\" /></a>, <a class=\"ProveItLink\" href=\"../../../../__pv_it/common/a0d9d672aa5e272d907247690c152cc2c6daafb70/expr.ipynb\"><img src=\"data:image/png;base64,iVBORw0KGgoAAAANSUhEUgAAAAsAAAAJBAMAAAAWSsseAAAAMFBMVEX///8AAAAAAAAAAAAAAAAA\n",
       "AAAAAAAAAAAAAAAAAAAAAAAAAAAAAAAAAAAAAAAAAAAv3aB7AAAAD3RSTlMAEHarMolUmd1mIs3v\n",
       "RLtmgJDEAAAACXBIWXMAAA7EAAAOxAGVKw4bAAAAQklEQVQI12NgEFIWCU1gYChgMmJvYOBcwPmR\n",
       "eQIDCwP7BgYQ4FEAU/cXMAowyF2wYWBlYMh3rGG4xsAgrsRWmcAAAFEjCyBvD0T9AAAAAElFTkSu\n",
       "QmCC\n",
       "\" style=\"display:inline;vertical-align:middle;\" /></a> : <a class=\"ProveItLink\" href=\"../../../numerals/__pv_it/common/682157d4892d216d9e5626ed533aff9b56b9506e0/expr.ipynb\"><img src=\"data:image/png;base64,iVBORw0KGgoAAAANSUhEUgAAAAgAAAAOBAMAAADgeEClAAAAJ1BMVEX///8AAAAAAAAAAAAAAAAA\n",
       "AAAAAAAAAAAAAAAAAAAAAAAAAAAAAAAilU6eAAAADHRSTlMAMt0Qq5nNdoki72YJhDyyAAAACXBI\n",
       "WXMAAA7EAAAOxAGVKw4bAAAAH0lEQVQI12NgYFRmYDAJO8zAwMBOMsFxkoGBxeuYNwB0KguGAVQB\n",
       "OAAAAABJRU5ErkJggg==\n",
       "\" style=\"display:inline;vertical-align:middle;\" /></a></span></td></tr><tr><td><a name=\"-0xd787e7cd458a673_step18\">18</a></td><td>instantiation</td><td><a href=\"#-0xd787e7cd458a673_step25\">25</a>, <a href=\"#-0xd787e7cd458a673_step26\">26</a>, <a href=\"#-0xd787e7cd458a673_step24\">24</a></td><td><span style=\"font-size:20px;\"> <a class=\"ProveItLink\" href=\"../__pv_it/demonstrations/336698de6242ba2d36d141cc01881c804067f6eb0/proof.ipynb\" style=\"text-decoration: none\">&nbsp;&#x22A2;&nbsp;&nbsp;</a><a class=\"ProveItLink\" href=\"../__pv_it/demonstrations/0f3013e202906f9e4df2f20e44ea5ef8f7131b290/expr.ipynb\"><img src=\"data:image/png;base64,iVBORw0KGgoAAAANSUhEUgAAADIAAAAQBAMAAACmdTG/AAAAMFBMVEX///8AAAAAAAAAAAAAAAAA\n",
       "AAAAAAAAAAAAAAAAAAAAAAAAAAAAAAAAAAAAAAAAAAAv3aB7AAAAD3RSTlMAIomZu0QQVHbN72bd\n",
       "Mqv0UZE7AAAACXBIWXMAAA7EAAAOxAGVKw4bAAAA6klEQVQY02NgwADss35NOeO1gYFBSNkVVYbD\n",
       "7wLDBE4GBjYDhvoCFBlmAwaODepAFd8Z8iegyPAJMKSwOTAwsC5l4IfIcPicOQmi2RgYbPkugIXq\n",
       "N4BI1hkJMF28Dy6DadbTYEoSLsHAkuAGVtD3FsydiLCpiLsBwoC4DckZIDeDAdc3kNY1Z86cOQJx\n",
       "SoEqA0MCA+8FBpbvIBc5wLWkMALZDxn4v0FkGA7AZd4CfcT2gYHrAcQ0hg64mw2Cgd49wMC9Aeof\n",
       "zgK4m6cxMLoDDQw2hoQo25MwiEyU5xKX9UsUkMKLVQUSOlAAAKJNN0u9eQ+gAAAAAElFTkSuQmCC\n",
       "\" style=\"display:inline;vertical-align:middle;\" /></a></span></td></tr>\n",
       "<tr><td>&nbsp;</td><td colspan=4 style=\"text-align:left\"><span style=\"font-size:20px;\"><a class=\"ProveItLink\" href=\"../../../../__pv_it/common/09585084922504426caf1db2ff588a23a0932a960/expr.ipynb\"><img src=\"data:image/png;base64,iVBORw0KGgoAAAANSUhEUgAAAA8AAAAPBAMAAADJ+Ih5AAAAMFBMVEX///8AAAAAAAAAAAAAAAAA\n",
       "AAAAAAAAAAAAAAAAAAAAAAAAAAAAAAAAAAAAAAAAAAAv3aB7AAAAD3RSTlMAIs1UmauJMnZmRLsQ\n",
       "3e++988cAAAACXBIWXMAAA7EAAAOxAGVKw4bAAAAXklEQVQI12NgAAEhBijQh9LM/6EMlngBCCMx\n",
       "vwBMMzb0G0BkGOwngBmLGeoTwAwHBvkAEM2xxSV+A4hxgoGB/wJEhoH3AZDmAupg+gBkyAEx90cG\n",
       "htP/dRiY939KAABt3hLO6mcEjQAAAABJRU5ErkJggg==\n",
       "\" style=\"display:inline;vertical-align:middle;\" /></a> : <a class=\"ProveItLink\" href=\"../../natural_numbers/__pv_it/common/8b7c321957f52ed3b05b36af612eeae4fa4783bc0/expr.ipynb\"><img src=\"data:image/png;base64,iVBORw0KGgoAAAANSUhEUgAAAA8AAAAPBAMAAADJ+Ih5AAAAMFBMVEX///8AAAAAAAAAAAAAAAAA\n",
       "AAAAAAAAAAAAAAAAAAAAAAAAAAAAAAAAAAAAAAAAAAAv3aB7AAAAD3RSTlMAEN27zYnvRFSrImZ2\n",
       "MpmnAiL6AAAACXBIWXMAAA7EAAAOxAGVKw4bAAAAaUlEQVQI12MQ+mwiwBD2rYCBwYJ9AgPjBwYG\n",
       "hkkLohkYEoCMGQYsCxgUgIxZe7gcIAzOC0chDAYD5gII4x6jIoTB3dCcAGYwTOSEMiQZIVIMvAcM\n",
       "gAxbID4LYngAMZ8DA8OVb0AeowMDAHMQGYAvWUcMAAAAAElFTkSuQmCC\n",
       "\" style=\"display:inline;vertical-align:middle;\" /></a>, <a class=\"ProveItLink\" href=\"../../../../__pv_it/common/a9162d1c3cc0470c02e5daf414500903a7a419230/expr.ipynb\"><img src=\"data:image/png;base64,iVBORw0KGgoAAAANSUhEUgAAABAAAAAOBAMAAADUAYG5AAAAMFBMVEX///8AAAAAAAAAAAAAAAAA\n",
       "AAAAAAAAAAAAAAAAAAAAAAAAAAAAAAAAAAAAAAAAAAAv3aB7AAAAD3RSTlMAZrurzTLvInZEmRDd\n",
       "VIkafcLnAAAACXBIWXMAAA7EAAAOxAGVKw4bAAAAb0lEQVQI12NgYBD6b2zsFMAABEkMDMxfgTT7\n",
       "DwYGzl9ABiOQxwjkMDB/YGBgSQcy2BQYuG1AiuM1OkwEQJr6Cxh4E0EMNSB+D5L6DMTyDQwMrB+B\n",
       "DPsJDAwc34GcL0AOSwIDwzRvoHH6n41NdBkYAF/iFeJ4bEa2AAAAAElFTkSuQmCC\n",
       "\" style=\"display:inline;vertical-align:middle;\" /></a> : <a class=\"ProveItLink\" href=\"../../integers/__pv_it/common/e6b4e90f9467053e055a4fd2f735c0bb79cb79300/expr.ipynb\"><img src=\"data:image/png;base64,iVBORw0KGgoAAAANSUhEUgAAAA4AAAAPBAMAAAAmOuNHAAAAMFBMVEX///8AAAAAAAAAAAAAAAAA\n",
       "AAAAAAAAAAAAAAAAAAAAAAAAAAAAAAAAAAAAAAAAAAAv3aB7AAAAD3RSTlMAVM3vu91mdqsymYki\n",
       "EESqKsraAAAACXBIWXMAAA7EAAAOxAGVKw4bAAAAcElEQVQI12NgVP6sEuqcwMDuMYFBgYmBgWsB\n",
       "A3vCRgYGjgMMV3gdGBh4GRhWckxgAALOhlkgioHlgi+YlmYrANMgXUDALrCPgeECA8MVHqCuHgaG\n",
       "TqAJvB8YOBe8AhoWANSly8Dj6MDw2MnExd5kAwAL3Bb91imKgQAAAABJRU5ErkJggg==\n",
       "\" style=\"display:inline;vertical-align:middle;\" /></a>, <a class=\"ProveItLink\" href=\"../../../../__pv_it/common/a0d9d672aa5e272d907247690c152cc2c6daafb70/expr.ipynb\"><img src=\"data:image/png;base64,iVBORw0KGgoAAAANSUhEUgAAAAsAAAAJBAMAAAAWSsseAAAAMFBMVEX///8AAAAAAAAAAAAAAAAA\n",
       "AAAAAAAAAAAAAAAAAAAAAAAAAAAAAAAAAAAAAAAAAAAv3aB7AAAAD3RSTlMAEHarMolUmd1mIs3v\n",
       "RLtmgJDEAAAACXBIWXMAAA7EAAAOxAGVKw4bAAAAQklEQVQI12NgEFIWCU1gYChgMmJvYOBcwPmR\n",
       "eQIDCwP7BgYQ4FEAU/cXMAowyF2wYWBlYMh3rGG4xsAgrsRWmcAAAFEjCyBvD0T9AAAAAElFTkSu\n",
       "QmCC\n",
       "\" style=\"display:inline;vertical-align:middle;\" /></a> : <a class=\"ProveItLink\" href=\"../../../numerals/__pv_it/common/1943b60945420e340d305780feff5c1aff2740ff0/expr.ipynb\"><img src=\"data:image/png;base64,iVBORw0KGgoAAAANSUhEUgAAAAoAAAAOBAMAAADkjZCYAAAAMFBMVEX///8AAAAAAAAAAAAAAAAA\n",
       "AAAAAAAAAAAAAAAAAAAAAAAAAAAAAAAAAAAAAAAAAAAv3aB7AAAAD3RSTlMAIomZu0QQVHbN72bd\n",
       "Mqv0UZE7AAAACXBIWXMAAA7EAAAOxAGVKw4bAAAATElEQVQI12NgEFJ2ZWBgM2CoL2Dg+M6QP4GB\n",
       "dSkD/wQGIKjfACRYTwMJ3r63DGCRAhDJ9Y2B9wIDy3cG/m8gkusBSIR7A1h9sLErAwDNcRLUUVUn\n",
       "vwAAAABJRU5ErkJggg==\n",
       "\" style=\"display:inline;vertical-align:middle;\" /></a></span></td></tr><tr><td><a name=\"-0xd787e7cd458a673_step19\">19</a></td><td>conjecture</td><td></td><td><span style=\"font-size:20px;\"> <a class=\"ProveItLink\" href=\"../../rational_numbers/_theory_nbs_/proofs/int_within_rational/thm_proof.ipynb\" style=\"text-decoration: none\">&nbsp;&#x22A2;&nbsp;&nbsp;</a><a class=\"ProveItLink\" href=\"../../rational_numbers/__pv_it/theorems/f82654afbc103bcf8089d3e3a9860276c55562410/expr.ipynb\"><img src=\"data:image/png;base64,iVBORw0KGgoAAAANSUhEUgAAADkAAAASBAMAAAATXWtDAAAAMFBMVEX///8AAAAAAAAAAAAAAAAA\n",
       "AAAAAAAAAAAAAAAAAAAAAAAAAAAAAAAAAAAAAAAAAAAv3aB7AAAAD3RSTlMAVM3vu91mdqsymYki\n",
       "EESqKsraAAAACXBIWXMAAA7EAAAOxAGVKw4bAAABHUlEQVQoz2NgVP6sEuqcwIAKeLe4eB0A0uwe\n",
       "ExgUmNAkGSosGY52A2muBQzsCRvRJLmzExj41jkwMHAcYLjC64AmOxtkmEM60AYGhpUcEyCCJaGh\n",
       "oZEghu8NILETbB9nwyyI5KQ9MDc5TAeSglwgTSwXfCFiMTCDOTc8A5LP2ASApDRbAViM4wFMlq8g\n",
       "EUhOZwT5E+YfhLd4NoiB9LIDlbML7GNguADkzUC4GWovUPQKD9A/PUDeCYSs7wmYmzuBPub9AGSw\n",
       "ImRfg/0LtJxzwSuggwJAoYYIbC5QWPU5gPyjy8DjCA4sPYTmHcBw7gLSj51MXOxNNoCErvRdgLt6\n",
       "vdKvCWjB+9oVGpJAuyakM+AB7eyN83DLMrYouzEAAFryQoQ5NsiXAAAAAElFTkSuQmCC\n",
       "\" style=\"display:inline;vertical-align:middle;\" /></a></span></td></tr>\n",
       "<tr><td>&nbsp;</td><td colspan=4 style-\"text-align:left\"><a class=\"ProveItLink\" href=\"../../rational_numbers/_theory_nbs_/proofs/int_within_rational/thm_proof.ipynb\">proveit.numbers.number_sets.rational_numbers.int_within_rational</a></td></tr><tr><td><a name=\"-0xd787e7cd458a673_step20\">20</a></td><td>instantiation</td><td><a href=\"#-0xd787e7cd458a673_step25\">25</a>, <a href=\"#-0xd787e7cd458a673_step26\">26</a>, <a href=\"#-0xd787e7cd458a673_step27\">27</a></td><td><span style=\"font-size:20px;\"> <a class=\"ProveItLink\" href=\"../__pv_it/demonstrations/288cb3dc7727810780b63ee223c41777e904a1d30/proof.ipynb\" style=\"text-decoration: none\">&nbsp;&#x22A2;&nbsp;&nbsp;</a><a class=\"ProveItLink\" href=\"../__pv_it/demonstrations/bac10758646a1685ada3fe39e190d9fb360007460/expr.ipynb\"><img src=\"data:image/png;base64,iVBORw0KGgoAAAANSUhEUgAAADEAAAAQBAMAAABNQoq8AAAAMFBMVEX///8AAAAAAAAAAAAAAAAA\n",
       "AAAAAAAAAAAAAAAAAAAAAAAAAAAAAAAAAAAAAAAAAAAv3aB7AAAAD3RSTlMAIpnNuzKJRKvvEN12\n",
       "ZlQ4bmvwAAAACXBIWXMAAA7EAAAOxAGVKw4bAAAA6ElEQVQY02NgwACP50/23jKXgYFRySQAVeZI\n",
       "KwMzgwEDgwgD23dUGSUGhrNsDxgYGhkYZqLKNDJwOSwB0vMXMPQLQEzZvdsARC9gYApoBdLdDAz9\n",
       "YIuKT8F1RbAqQBj7QQSjFcI8L5YFYJr1D4hkFoBL8CXcgTC4G8AyCC1gN4OACpiM3A0EDmDmObYC\n",
       "Bi4gzQvWwrAEroXLQYSBgQNo+DMGRpAV3HAZjgCgH9cD7U9g4AG5hOcATCaIXQHsGWklJW2wgB3c\n",
       "zcwLGESeAD3z//9nsMAKd4gn2KdYunj+dEMOrzLv3QZIXAD9XDFvtfFLvQAAAABJRU5ErkJggg==\n",
       "\" style=\"display:inline;vertical-align:middle;\" /></a></span></td></tr>\n",
       "<tr><td>&nbsp;</td><td colspan=4 style=\"text-align:left\"><span style=\"font-size:20px;\"><a class=\"ProveItLink\" href=\"../../../../__pv_it/common/09585084922504426caf1db2ff588a23a0932a960/expr.ipynb\"><img src=\"data:image/png;base64,iVBORw0KGgoAAAANSUhEUgAAAA8AAAAPBAMAAADJ+Ih5AAAAMFBMVEX///8AAAAAAAAAAAAAAAAA\n",
       "AAAAAAAAAAAAAAAAAAAAAAAAAAAAAAAAAAAAAAAAAAAv3aB7AAAAD3RSTlMAIs1UmauJMnZmRLsQ\n",
       "3e++988cAAAACXBIWXMAAA7EAAAOxAGVKw4bAAAAXklEQVQI12NgAAEhBijQh9LM/6EMlngBCCMx\n",
       "vwBMMzb0G0BkGOwngBmLGeoTwAwHBvkAEM2xxSV+A4hxgoGB/wJEhoH3AZDmAupg+gBkyAEx90cG\n",
       "htP/dRiY939KAABt3hLO6mcEjQAAAABJRU5ErkJggg==\n",
       "\" style=\"display:inline;vertical-align:middle;\" /></a> : <a class=\"ProveItLink\" href=\"../../natural_numbers/__pv_it/common/8b7c321957f52ed3b05b36af612eeae4fa4783bc0/expr.ipynb\"><img src=\"data:image/png;base64,iVBORw0KGgoAAAANSUhEUgAAAA8AAAAPBAMAAADJ+Ih5AAAAMFBMVEX///8AAAAAAAAAAAAAAAAA\n",
       "AAAAAAAAAAAAAAAAAAAAAAAAAAAAAAAAAAAAAAAAAAAv3aB7AAAAD3RSTlMAEN27zYnvRFSrImZ2\n",
       "MpmnAiL6AAAACXBIWXMAAA7EAAAOxAGVKw4bAAAAaUlEQVQI12MQ+mwiwBD2rYCBwYJ9AgPjBwYG\n",
       "hkkLohkYEoCMGQYsCxgUgIxZe7gcIAzOC0chDAYD5gII4x6jIoTB3dCcAGYwTOSEMiQZIVIMvAcM\n",
       "gAxbID4LYngAMZ8DA8OVb0AeowMDAHMQGYAvWUcMAAAAAElFTkSuQmCC\n",
       "\" style=\"display:inline;vertical-align:middle;\" /></a>, <a class=\"ProveItLink\" href=\"../../../../__pv_it/common/a9162d1c3cc0470c02e5daf414500903a7a419230/expr.ipynb\"><img src=\"data:image/png;base64,iVBORw0KGgoAAAANSUhEUgAAABAAAAAOBAMAAADUAYG5AAAAMFBMVEX///8AAAAAAAAAAAAAAAAA\n",
       "AAAAAAAAAAAAAAAAAAAAAAAAAAAAAAAAAAAAAAAAAAAv3aB7AAAAD3RSTlMAZrurzTLvInZEmRDd\n",
       "VIkafcLnAAAACXBIWXMAAA7EAAAOxAGVKw4bAAAAb0lEQVQI12NgYBD6b2zsFMAABEkMDMxfgTT7\n",
       "DwYGzl9ABiOQxwjkMDB/YGBgSQcy2BQYuG1AiuM1OkwEQJr6Cxh4E0EMNSB+D5L6DMTyDQwMrB+B\n",
       "DPsJDAwc34GcL0AOSwIDwzRvoHH6n41NdBkYAF/iFeJ4bEa2AAAAAElFTkSuQmCC\n",
       "\" style=\"display:inline;vertical-align:middle;\" /></a> : <a class=\"ProveItLink\" href=\"../../integers/__pv_it/common/e6b4e90f9467053e055a4fd2f735c0bb79cb79300/expr.ipynb\"><img src=\"data:image/png;base64,iVBORw0KGgoAAAANSUhEUgAAAA4AAAAPBAMAAAAmOuNHAAAAMFBMVEX///8AAAAAAAAAAAAAAAAA\n",
       "AAAAAAAAAAAAAAAAAAAAAAAAAAAAAAAAAAAAAAAAAAAv3aB7AAAAD3RSTlMAVM3vu91mdqsymYki\n",
       "EESqKsraAAAACXBIWXMAAA7EAAAOxAGVKw4bAAAAcElEQVQI12NgVP6sEuqcwMDuMYFBgYmBgWsB\n",
       "A3vCRgYGjgMMV3gdGBh4GRhWckxgAALOhlkgioHlgi+YlmYrANMgXUDALrCPgeECA8MVHqCuHgaG\n",
       "TqAJvB8YOBe8AhoWANSly8Dj6MDw2MnExd5kAwAL3Bb91imKgQAAAABJRU5ErkJggg==\n",
       "\" style=\"display:inline;vertical-align:middle;\" /></a>, <a class=\"ProveItLink\" href=\"../../../../__pv_it/common/a0d9d672aa5e272d907247690c152cc2c6daafb70/expr.ipynb\"><img src=\"data:image/png;base64,iVBORw0KGgoAAAANSUhEUgAAAAsAAAAJBAMAAAAWSsseAAAAMFBMVEX///8AAAAAAAAAAAAAAAAA\n",
       "AAAAAAAAAAAAAAAAAAAAAAAAAAAAAAAAAAAAAAAAAAAv3aB7AAAAD3RSTlMAEHarMolUmd1mIs3v\n",
       "RLtmgJDEAAAACXBIWXMAAA7EAAAOxAGVKw4bAAAAQklEQVQI12NgEFIWCU1gYChgMmJvYOBcwPmR\n",
       "eQIDCwP7BgYQ4FEAU/cXMAowyF2wYWBlYMh3rGG4xsAgrsRWmcAAAFEjCyBvD0T9AAAAAElFTkSu\n",
       "QmCC\n",
       "\" style=\"display:inline;vertical-align:middle;\" /></a> : <a class=\"ProveItLink\" href=\"../../../numerals/__pv_it/common/af4aab8a07465db063742696e006d04670f30cf10/expr.ipynb\"><img src=\"data:image/png;base64,iVBORw0KGgoAAAANSUhEUgAAAAkAAAAOBAMAAAAPuiubAAAAMFBMVEX///8AAAAAAAAAAAAAAAAA\n",
       "AAAAAAAAAAAAAAAAAAAAAAAAAAAAAAAAAAAAAAAAAAAv3aB7AAAAD3RSTlMAIpnNuzKJRKvvEN12\n",
       "ZlQ4bmvwAAAACXBIWXMAAA7EAAAOxAGVKw4bAAAATklEQVQI12NgVDIJYGAQYWD7zsDQyMAwk4Fh\n",
       "/gKGfgGGbgaGfqAEA8N+EMH6B0RyN4BIFRDBC2Y+Y2AUYGBNYOBZwCCtpKQNVPz//2cGAEeID1mi\n",
       "/zO7AAAAAElFTkSuQmCC\n",
       "\" style=\"display:inline;vertical-align:middle;\" /></a></span></td></tr><tr><td><a name=\"-0xd787e7cd458a673_step21\">21</a></td><td>conjecture</td><td></td><td><span style=\"font-size:20px;\"> <a class=\"ProveItLink\" href=\"../../../ordering/_theory_nbs_/proofs/relax_less/thm_proof.ipynb\" style=\"text-decoration: none\">&nbsp;&#x22A2;&nbsp;&nbsp;</a><a class=\"ProveItLink\" href=\"../../../ordering/__pv_it/theorems/e31e463cf2805f510e0c2c78f9eb78535b1640d20/expr.ipynb\"><img src=\"data:image/png;base64,iVBORw0KGgoAAAANSUhEUgAAAKEAAAAXBAMAAACR7DLtAAAAMFBMVEX///8AAAAAAAAAAAAAAAAA\n",
       "AAAAAAAAAAAAAAAAAAAAAAAAAAAAAAAAAAAAAAAAAAAv3aB7AAAAD3RSTlMAq1RmmUTNIjK7EInv\n",
       "3XZ/CtNrAAAACXBIWXMAAA7EAAAOxAGVKw4bAAACOElEQVQ4y52UT2jUQBTGv2ST3eyku1YKQhVk\n",
       "wVLwIAQRpAe3LdIqQtWTR5ub4ClepUrr1R4U9KIgU5AeKsjSg6BgCZ4EUfYieFlIpSIVLL21R99L\n",
       "3GSSTZTsg4R578v8dt+fGaC81YolD0PZ92LpJj2jvDhVBqh3irWmA8zx4lYZ4no2MKnkehtY4cI8\n",
       "KkO8mPEvXFGcc0BVAnarDNFPu7/fqd6IRIUyr5Yqo6t64n2QUquE+9zrfSpDNKgxYu/4w80QuOD0\n",
       "0TsO1ihd6vRl4NnAtpliIv8LA9vBAmOOxfWydR/TQIUyuIPa6MC2f7SqQZDzmJZj7CTEB0YX41QT\n",
       "qnJd2tf/QxSp2tPXy5j/e3zirOVIgC+AtU/UIKcxKWJtVmaI4M2ZzixK6xAweRLcNr32Lu3QnJrb\n",
       "0BRiFLSOeokQZQ3zABuZ6ZlHk2h6l5abNOdNb7xKX74+IlcTYhQ0n3iKQFUKIJ5qPjqZCX+MOvWj\n",
       "wjuXeIEXFi3vnsFuQgyD5nOpCuF86IcvfTM5FZPL/J7FohPNFrQwcBCKJ3BSrSMFV1spgYrQhbga\n",
       "TJzNln5t6xol04i7bPnhrfcVHxUiB8XbliqQfSuaqzf03Os7S7Zr4BV9be4nxDAI7PKA9IXoMsgx\n",
       "2xUf1GvE+LH1ixOcmHITYhgkmyJkX+DWJJeX6IXGZWsEWmfwFmsJr+7kTPhpLxYYk3ug9PZc+tfY\n",
       "TKkFN/JPYSyw3S8+oj/TbgVmu5NPjIWhzRt+6x9nW4y+fv6K2gAAAABJRU5ErkJggg==\n",
       "\" style=\"display:inline;vertical-align:middle;\" /></a></span></td></tr>\n",
       "<tr><td>&nbsp;</td><td colspan=4 style-\"text-align:left\"><a class=\"ProveItLink\" href=\"../../../ordering/_theory_nbs_/proofs/relax_less/thm_proof.ipynb\">proveit.numbers.ordering.relax_less</a></td></tr><tr><td><a name=\"-0xd787e7cd458a673_step22\">22</a></td><td>conjecture</td><td></td><td><span style=\"font-size:20px;\"> <a class=\"ProveItLink\" href=\"../../../numerals/decimals/_theory_nbs_/proofs/less_2_3/thm_proof.ipynb\" style=\"text-decoration: none\">&nbsp;&#x22A2;&nbsp;&nbsp;</a><a class=\"ProveItLink\" href=\"../../../numerals/decimals/__pv_it/theorems/4eb25ee0d01c5a59bf2f328bbfe21b879d55e9ff0/expr.ipynb\"><img src=\"data:image/png;base64,iVBORw0KGgoAAAANSUhEUgAAADAAAAAQBAMAAACigOGCAAAAMFBMVEX///8AAAAAAAAAAAAAAAAA\n",
       "AAAAAAAAAAAAAAAAAAAAAAAAAAAAAAAAAAAAAAAAAAAv3aB7AAAAD3RSTlMAIpnNuzKJRKvvEN12\n",
       "ZlQ4bmvwAAAACXBIWXMAAA7EAAAOxAGVKw4bAAAAv0lEQVQY02NgVDIJYEADYknuDAwiDGzf0cS5\n",
       "FBjeP2BoZGCYiSbB849hvQHD/AUM/QJwsccgJvt0Bn4Dhm4Ghn64Jbe1oIz3F0Dkfpj46Swog30v\n",
       "iGT9A7Uz+wBUnPVEK4jibgDzGLUvIOwHuoqBQQXCbn6A5DDOXwwMvA3oEqwBDCz/GBieMTAKoBrF\n",
       "/wskwZrAwLMA1XLOBpBR0kpK2rCgOH0KTPNeAPlj////n+F23oZ4pEjJHT1cLwswEAIAFxox/6ER\n",
       "LUgAAAAASUVORK5CYII=\n",
       "\" style=\"display:inline;vertical-align:middle;\" /></a></span></td></tr>\n",
       "<tr><td>&nbsp;</td><td colspan=4 style-\"text-align:left\"><a class=\"ProveItLink\" href=\"../../../numerals/decimals/_theory_nbs_/proofs/less_2_3/thm_proof.ipynb\">proveit.numbers.numerals.decimals.less_2_3</a></td></tr><tr><td><a name=\"-0xd787e7cd458a673_step23\">23</a></td><td>theorem</td><td></td><td><span style=\"font-size:20px;\"> <a class=\"ProveItLink\" href=\"../../../numerals/decimals/_theory_nbs_/proofs/nat1/thm_proof.ipynb\" style=\"text-decoration: none\">&nbsp;&#x22A2;&nbsp;&nbsp;</a><a class=\"ProveItLink\" href=\"../../../numerals/decimals/__pv_it/theorems/646322292558586ba7863a63fdc6c166bd7a1aad0/expr.ipynb\"><img src=\"data:image/png;base64,iVBORw0KGgoAAAANSUhEUgAAADIAAAAQBAMAAACmdTG/AAAAMFBMVEX///8AAAAAAAAAAAAAAAAA\n",
       "AAAAAAAAAAAAAAAAAAAAAAAAAAAAAAAAAAAAAAAAAAAv3aB7AAAAD3RSTlMAMt0Qq5nNdoki72a7\n",
       "RFSRpcO+AAAACXBIWXMAAA7EAAAOxAGVKw4bAAAAt0lEQVQY02NgQAfM+meSGTjWr2VgYFRGk+J5\n",
       "cIWBwZ6BwSTsM5oMiybHBgYuIIMdQ+YNQyYDE7JMjZJSAlhmdsE0FJlrxTA9ExzZG5BkOJPhpk3g\n",
       "YTiLJMM2ASHDGGBkhCSDcMEEhn18pxAyUkpAcAAqw2LghZCxQdbD7IBkGhOyDIM4D0KGvQAeOgJA\n",
       "ngyQwfETIpAHk2F7ACTCgHq9vnmDBUzOGoBpxvw1QNIMObxuHIKEDhQAAORrK82gq3UjAAAAAElF\n",
       "TkSuQmCC\n",
       "\" style=\"display:inline;vertical-align:middle;\" /></a></span></td></tr>\n",
       "<tr><td>&nbsp;</td><td colspan=4 style-\"text-align:left\"><a class=\"ProveItLink\" href=\"../../../numerals/decimals/_theory_nbs_/proofs/nat1/thm_proof.ipynb\">proveit.numbers.numerals.decimals.nat1</a></td></tr><tr><td><a name=\"-0xd787e7cd458a673_step24\">24</a></td><td>conjecture</td><td></td><td><span style=\"font-size:20px;\"> <a class=\"ProveItLink\" href=\"../../../numerals/decimals/_theory_nbs_/proofs/nat3/thm_proof.ipynb\" style=\"text-decoration: none\">&nbsp;&#x22A2;&nbsp;&nbsp;</a><a class=\"ProveItLink\" href=\"../../../numerals/decimals/__pv_it/theorems/460c23cdbd64b08ccacdbdc6b3661919426e237f0/expr.ipynb\"><img src=\"data:image/png;base64,iVBORw0KGgoAAAANSUhEUgAAADMAAAAQBAMAAABJt1qBAAAAMFBMVEX///8AAAAAAAAAAAAAAAAA\n",
       "AAAAAAAAAAAAAAAAAAAAAAAAAAAAAAAAAAAAAAAAAAAv3aB7AAAAD3RSTlMAIomZu0QQVHbN72bd\n",
       "Mqv0UZE7AAAACXBIWXMAAA7EAAAOxAGVKw4bAAAA7ElEQVQY02NgwAA5XzwTGLR+BTAwCCm7osm5\n",
       "sz5gYPvAwMBmwFBfgCr1RkCbgWEBAwPHd4b8CahSzx04BRgOMDCwLmXgh0hx+Jw5CWY83ME4ASQF\n",
       "BPUbQCTrjASorod8F5ogUqynwQKSMBmGhwwOLAEgKd6+t2CBiQwIqctsx6AGgl04AUmKu6BkAZjJ\n",
       "9Q2kec2ZM2eOQKUYnvEBpXgvMLB8B/LZHJB0MeSxAQ3k/waRgroWKsXbAFTJ9QBiIEMHXMoXiHuB\n",
       "UtwboP7ihAfXdCBmBrkq2BgSvGxPwiAyN38BdbChBB6rCjSgoAAA9idClfoHlG4AAAAASUVORK5C\n",
       "YII=\n",
       "\" style=\"display:inline;vertical-align:middle;\" /></a></span></td></tr>\n",
       "<tr><td>&nbsp;</td><td colspan=4 style-\"text-align:left\"><a class=\"ProveItLink\" href=\"../../../numerals/decimals/_theory_nbs_/proofs/nat3/thm_proof.ipynb\">proveit.numbers.numerals.decimals.nat3</a></td></tr><tr><td><a name=\"-0xd787e7cd458a673_step25\">25</a></td><td>theorem</td><td></td><td><span style=\"font-size:20px;\"> <a class=\"ProveItLink\" href=\"../../../../logic/sets/inclusion/_theory_nbs_/proofs/superset_membership_from_proper_subset/thm_proof.ipynb\" style=\"text-decoration: none\">&nbsp;&#x22A2;&nbsp;&nbsp;</a><a class=\"ProveItLink\" href=\"../../../../logic/sets/inclusion/__pv_it/theorems/8c2c4c3c91efdbf0b7e86e4a2d99545aea54db000/expr.ipynb\"><img src=\"data:image/png;base64,iVBORw0KGgoAAAANSUhEUgAAAPcAAAAXBAMAAAAl5sTiAAAAMFBMVEX///8AAAAAAAAAAAAAAAAA\n",
       "AAAAAAAAAAAAAAAAAAAAAAAAAAAAAAAAAAAAAAAAAAAv3aB7AAAAD3RSTlMAq1RmmUTNIjK7EInv\n",
       "3XZ/CtNrAAAACXBIWXMAAA7EAAAOxAGVKw4bAAADd0lEQVRIx7WWX0gUQRzHv/d37/bsPEmkgvCo\n",
       "6DGOlKIH80IqxTIhCMmoS4jQl85HqXR7jKQO4aCTyhMkKBJOsSDuodMeKqIQ6qEHF7YMpAhTMz0M\n",
       "qtmZ2925013lwIG7nZ3fb+cz8/s3AxTZ/LJkrSBYCaMbmMCi+ZrXUfhiJTzPZgio/d3FwG3qwx4y\n",
       "kdtTaw4f+ldW1i7BH6Lwo+rQ5WLgTnXv7qiJ/KHJ+BvAlgU6KPyG6p5YMXCParQuM3mdSST8BVyL\n",
       "QDWFu5PkESzK52T1GDWTZ/LevslyhHYcZNcOsoCSpDqDg1jfXVzAVZFHxMzleYIz37WebY7gXpFf\n",
       "iIbsO1l+Wxy8RJanUiZiJxGIsztuUcsIHfp4SQziTpJjvgCF1wP9dDxZ8LnWEc3gTgnego90XbIz\n",
       "MsNn5STyo/LOg9kKNUEcEQrvhEDTTXxNpTcX0w00+72a/hO9GHgGGsfuGnDyXWfBknTdLSSMDqI2\n",
       "uZXCDYWfUdhfqm7JULg3yeqFb4FFxCT8mTz4CzKPZySRIMuvAX5wRaYfTzWl29vjmi4zLxFLOMZe\n",
       "emXSWEbdU5XICj1zdAa7whbW8p5FRBiOOR7u6lWARrajcqCWg+/T481Zb+jqcIBNiUfGzufJr5Yo\n",
       "udjOETlMh5WL7KsghkM83O8O6Lk4AfEDB3c7yDT+r93HMW3oGmaHaxmP6YvO9vwif5XqlicZfJTG\n",
       "oj9no57p6m3g4YozgkGtQlQdkTi4by+JtxlbrE2MGbqseRWIcVsGNBv8in4cLZMFLKnejTH4Nbra\n",
       "lpw3ayCW83CXRELgNLR4GAxzcGGcdEJeRXKFDN2cOAB7dijjYiZr05OAyM91sFSkcBvdTGO6Mplz\n",
       "a08zB3emR1awC1o8CL/5U43aqDQKR3si0ZfTzdl3EmKTsmc/exuMs5S0DcyXVfRRTzRz56KfMCXm\n",
       "VlzgU02BkMVVaPHgyq46UnsR9aQM3Vz7lJeCrffl/Fp4nZ+BGLY0KKYgrED8yJldNegCvKxK9CQx\n",
       "HC6AC5lnCLMyxXRzrdq6QNZxcOc4xFOXPBM48CfdEOTgJwIYWmoWaWlxXEmP9a26TDS1zibRJem6\n",
       "WsRFLa85sdXXETvX9+YV0wQtMqY3GfF5Il5QaC2PaXVphfCzZvA1avt6V7BuK+EMibKpAnho4/DN\n",
       "bcLmI/4DAvPgMMgumckAAAAASUVORK5CYII=\n",
       "\" style=\"display:inline;vertical-align:middle;\" /></a></span></td></tr>\n",
       "<tr><td>&nbsp;</td><td colspan=4 style-\"text-align:left\"><a class=\"ProveItLink\" href=\"../../../../logic/sets/inclusion/_theory_nbs_/proofs/superset_membership_from_proper_subset/thm_proof.ipynb\">proveit.logic.sets.inclusion.superset_membership_from_proper_subset</a></td></tr><tr><td><a name=\"-0xd787e7cd458a673_step26\">26</a></td><td>conjecture</td><td></td><td><span style=\"font-size:20px;\"> <a class=\"ProveItLink\" href=\"../../integers/_theory_nbs_/proofs/nat_within_int/thm_proof.ipynb\" style=\"text-decoration: none\">&nbsp;&#x22A2;&nbsp;&nbsp;</a><a class=\"ProveItLink\" href=\"../../integers/__pv_it/theorems/1cd0ce5701331e1608ae0251ff814274d551a8fa0/expr.ipynb\"><img src=\"data:image/png;base64,iVBORw0KGgoAAAANSUhEUgAAADkAAAAQBAMAAABelcpIAAAAMFBMVEX///8AAAAAAAAAAAAAAAAA\n",
       "AAAAAAAAAAAAAAAAAAAAAAAAAAAAAAAAAAAAAAAAAAAv3aB7AAAAD3RSTlMAEN27zYnvRFSrImZ2\n",
       "MpmnAiL6AAAACXBIWXMAAA7EAAAOxAGVKw4bAAAA/klEQVQY02MQ+mwiwBD2rYABBbTkpxgpZwMZ\n",
       "FuwTGBg/oEoyHJ7LwMLgAGRMWhDNwJCAJvuOgeE0awOQMcOAZQGDAprsLAZGA2EwYw+XA0z2sJKS\n",
       "ki6IIcDAd2EuWJbzwlGo7JUohO6bvA8ghhgwF4BlGbWQzDZkFoDI3mNUBMtyInmLI2AP1AHcDc1g\n",
       "N7MgaYX4ByTLMJETLHsTSfYEawEDI0RWkhFs8kqEJKPBYqBNC8CyvAcMQEJMCFnOC0BheSDDFojP\n",
       "gmX5NsBl77ED/TMJyPAAiUOc4I7wD4sAw+JmYAh8A+pjhMgKTxeASLInuxmbfTNFC95SI2hIQgEA\n",
       "ReU3Hj/DorcAAAAASUVORK5CYII=\n",
       "\" style=\"display:inline;vertical-align:middle;\" /></a></span></td></tr>\n",
       "<tr><td>&nbsp;</td><td colspan=4 style-\"text-align:left\"><a class=\"ProveItLink\" href=\"../../integers/_theory_nbs_/proofs/nat_within_int/thm_proof.ipynb\">proveit.numbers.number_sets.integers.nat_within_int</a></td></tr><tr><td><a name=\"-0xd787e7cd458a673_step27\">27</a></td><td>conjecture</td><td></td><td><span style=\"font-size:20px;\"> <a class=\"ProveItLink\" href=\"../../../numerals/decimals/_theory_nbs_/proofs/nat2/thm_proof.ipynb\" style=\"text-decoration: none\">&nbsp;&#x22A2;&nbsp;&nbsp;</a><a class=\"ProveItLink\" href=\"../../../numerals/decimals/__pv_it/theorems/c5da86d5508e181a625c8aa785bd1ba0345b9e710/expr.ipynb\"><img src=\"data:image/png;base64,iVBORw0KGgoAAAANSUhEUgAAADIAAAAQBAMAAACmdTG/AAAAMFBMVEX///8AAAAAAAAAAAAAAAAA\n",
       "AAAAAAAAAAAAAAAAAAAAAAAAAAAAAAAAAAAAAAAAAAAv3aB7AAAAD3RSTlMAIpnNuzKJRKvvEN12\n",
       "ZlQ4bmvwAAAACXBIWXMAAA7EAAAOxAGVKw4bAAAA6UlEQVQY02NgQAdc+12sGNjmT2dgVDIJQJVi\n",
       "eVDBwLCegUGEge07qgzHRrYLDJwMDI0MDDPRZJ4wGDJwMzDMX8DQLwAWObJ7twFYRvaAMEimm4Gh\n",
       "H2xR8SmYHoFWngRuMHM/iGC0gpsmwMLgDpZh/QMimQUQMqwKq1eDWNwNYBmECwQY7vF5glgqYH7k\n",
       "biBwgMpwLOgEMnjBWhiWIOvhagCZ9oyBEWQFN7IMQwwL0P4EBp4FQD7PAXjoAD3BE8LAIK2kpA0W\n",
       "sIPJMD8AEspAz/z//xkssMJ9AZhmtZ8CJBcjh1eZNyR0oAAAgjkuwI39QLgAAAAASUVORK5CYII=\n",
       "\" style=\"display:inline;vertical-align:middle;\" /></a></span></td></tr>\n",
       "<tr><td>&nbsp;</td><td colspan=4 style-\"text-align:left\"><a class=\"ProveItLink\" href=\"../../../numerals/decimals/_theory_nbs_/proofs/nat2/thm_proof.ipynb\">proveit.numbers.numerals.decimals.nat2</a></td></tr></table>"
      ],
      "text/plain": [
       "\tstep type\trequirements\tstatement\n",
       "0\tinstantiation\t1, 4, 5, 2\t|- 2 in [1,3]\n",
       "\ta : 1, b : 3, x : 2\n",
       "1\tconjecture\t\t|- forall_{a, b in Real} [forall_{x in (a,b]} (x in [a,b])]\n",
       "\tproveit.numbers.number_sets.real_numbers.relax_IntervalOC\n",
       "2\tinstantiation\t3, 4, 5, 6, 7\t|- 2 in (1,3]\n",
       "\ta : 1, b : 3, x : 2\n",
       "3\tconjecture\t\t|- forall_{a, b, x in Real | a < x <= b} (x in (a,b])\n",
       "\tproveit.numbers.number_sets.real_numbers.in_IntervalOC\n",
       "4\tinstantiation\t23, 10, 8\t|- 1 in Real\n",
       "\tA : Rational, B : Real, x : 1\n",
       "5\tinstantiation\t23, 10, 9\t|- 3 in Real\n",
       "\tA : Rational, B : Real, x : 3\n",
       "6\tinstantiation\t23, 10, 11\t|- 2 in Real\n",
       "\tA : Rational, B : Real, x : 2\n",
       "7\tinstantiation\t12, 13, 14\t|- (1 < 2) and (2 <= 3)\n",
       "\tA : 1 < 2, B : 2 <= 3\n",
       "8\tinstantiation\t23, 17, 15\t|- 1 in Rational\n",
       "\tA : Integer, B : Rational, x : 1\n",
       "9\tinstantiation\t23, 17, 16\t|- 3 in Rational\n",
       "\tA : Integer, B : Rational, x : 3\n",
       "10\tconjecture\t\t|- Rational proper_subset Real\n",
       "\tproveit.numbers.number_sets.real_numbers.rational_within_real\n",
       "11\tinstantiation\t23, 17, 18\t|- 2 in Rational\n",
       "\tA : Integer, B : Rational, x : 2\n",
       "12\ttheorem\t\t|- forall_{A, B | A, B} (A and B)\n",
       "\tproveit.logic.booleans.conjunction.and_if_both\n",
       "13\tconjecture\t\t|- 1 < 2\n",
       "\tproveit.numbers.numerals.decimals.less_1_2\n",
       "14\tinstantiation\t19, 20\t|- 2 <= 3\n",
       "\tx : 2, y : 3\n",
       "15\tinstantiation\t23, 24, 21\t|- 1 in Integer\n",
       "\tA : Natural, B : Integer, x : 1\n",
       "16\tinstantiation\t23, 24, 22\t|- 3 in Integer\n",
       "\tA : Natural, B : Integer, x : 3\n",
       "17\tconjecture\t\t|- Integer proper_subset Rational\n",
       "\tproveit.numbers.number_sets.rational_numbers.int_within_rational\n",
       "18\tinstantiation\t23, 24, 25\t|- 2 in Integer\n",
       "\tA : Natural, B : Integer, x : 2\n",
       "19\tconjecture\t\t|- forall_{x, y | x < y} (x <= y)\n",
       "\tproveit.numbers.ordering.relax_less\n",
       "20\tconjecture\t\t|- 2 < 3\n",
       "\tproveit.numbers.numerals.decimals.less_2_3\n",
       "21\ttheorem\t\t|- 1 in Natural\n",
       "\tproveit.numbers.numerals.decimals.nat1\n",
       "22\tconjecture\t\t|- 3 in Natural\n",
       "\tproveit.numbers.numerals.decimals.nat3\n",
       "23\ttheorem\t\t|- forall_{A, B | A proper_subset B} [forall_{x in A} (x in B)]\n",
       "\tproveit.logic.sets.inclusion.superset_membership_from_proper_subset\n",
       "24\tconjecture\t\t|- Natural proper_subset Integer\n",
       "\tproveit.numbers.number_sets.integers.nat_within_int\n",
       "25\tconjecture\t\t|- 2 in Natural\n",
       "\tproveit.numbers.numerals.decimals.nat2"
      ]
     },
     "metadata": {},
     "output_type": "display_data"
    }
   ],
   "source": [
    "two_in_O1_3C.proof()"
   ]
  },
  {
   "cell_type": "markdown",
   "metadata": {},
   "source": [
    "<a id='demo02'></a><font size=4><b>2.</b> Proving $[1,2]\\subseteq \\mathbb{R}^{+}$</font><br><br>\n",
    "<font size=3>The set of real numbers in the closed interval $[1, 2]$ is clearly a subset (and thus also an improper subset) of the positive real numbers $\\mathbb{R}^{+}$. Prove-It will not automatically prove this, however:</font>"
   ]
  },
  {
   "cell_type": "code",
   "execution_count": 34,
   "metadata": {},
   "outputs": [],
   "source": [
    "from proveit.logic import SubsetEq\n",
    "try:\n",
    "    SubsetEq(IntervalCC(one, two), RealPos).prove()\n",
    "except ProofFailure as e:\n",
    "    print(\"Proof failure. {}\".format(e))"
   ]
  },
  {
   "cell_type": "markdown",
   "metadata": {},
   "source": [
    "<font size=3>So we do a little work first to lead Prove-It to a proof. (See Demonstration \\#3 below for an alternative approach.)\n",
    "\n",
    "First we define our interval of interest and use some basic `IntervalCC` methods to derive that an element of $[1,2]$ is real, greater than or equal to 1, and greater than 0:</font>"
   ]
  },
  {
   "cell_type": "code",
   "execution_count": 35,
   "metadata": {},
   "outputs": [
    {
     "data": {
      "text/html": [
       "<strong id=\"interval_12\">interval_12:</strong> <a class=\"ProveItLink\" href=\"../__pv_it/demonstrations/8c899a76534d739760c6d6daec9fea579a7256e70/expr.ipynb\"><img src=\"data:image/png;base64,iVBORw0KGgoAAAANSUhEUgAAACUAAAAVBAMAAAAzyjqdAAAAMFBMVEX///8AAAAAAAAAAAAAAAAA\n",
       "AAAAAAAAAAAAAAAAAAAAAAAAAAAAAAAAAAAAAAAAAAAv3aB7AAAAD3RSTlMAdt0yiUQQq5nNIu9m\n",
       "VLvPy6LmAAAACXBIWXMAAA7EAAAOxAGVKw4bAAAAm0lEQVQY02MQUmZAAYxKBgyuDGiAJQAsZpQA\n",
       "4XJ1zDOAiLFVzIeKrWNg+QpTJw8Vq2Jg2I0utj+BoX4BmlgRA0O9AZoYEOgzYIgxf8QUYyrAFOtj\n",
       "wBDjKcAUu8LAhewWkDCzAwNjAlTMfwED208gvaijowmqt3z/9AMMSkCF+v///4SZBwK8CahhBWYy\n",
       "YIolYhETQBJzQo8P7QAAPxorv3vM/yAAAAAASUVORK5CYII=\n",
       "\" style=\"display:inline;vertical-align:middle;\" /></a><br>"
      ],
      "text/plain": [
       "<IPython.core.display.HTML object>"
      ]
     },
     "metadata": {},
     "output_type": "display_data"
    }
   ],
   "source": [
    "# define our interval of interest\n",
    "interval_12 = IntervalCC(one, two)"
   ]
  },
  {
   "cell_type": "code",
   "execution_count": 36,
   "metadata": {},
   "outputs": [
    {
     "data": {
      "text/html": [
       "<span style=\"font-size:20px;\"><a class=\"ProveItLink\" href=\"../__pv_it/demonstrations/f9b2ca9b2c8779c7347c2d1f94d75c2166ca58d90/expr.ipynb\"><img src=\"data:image/png;base64,iVBORw0KGgoAAAANSUhEUgAAAE0AAAAVBAMAAADx+n4ZAAAAMFBMVEX///8AAAAAAAAAAAAAAAAA\n",
       "AAAAAAAAAAAAAAAAAAAAAAAAAAAAAAAAAAAAAAAAAAAv3aB7AAAAD3RSTlMAEHarMolUmd1mIs3v\n",
       "RLtmgJDEAAAACXBIWXMAAA7EAAAOxAGVKw4bAAABE0lEQVQoz2NgwAI0WlD5TB0O2JQxxKILsF7A\n",
       "pY6lEcrmKt/ngFudcPVHKHsdA+tfPOYxwdRZMTCcQVPH9KKjG0PdeQEG+wUo6ng3CWAxz4KBwd4B\n",
       "pE5IWSQ0ASSyWgCbvUDQD7a3gMmIvQHE3cWAXR3LJ5A6zgWcH5kngPgbcKjjMACpY2FghyhgOdHR\n",
       "0dGHRV0dNJx5FMBcxgfYzeM0gKq7v4AR7IMG7OpSGbhA4SJ3wYaBFSyghK6OEeycAAYmAaC6fMca\n",
       "hmtgWe4EJHWsvxgY5EEOX1FeXgGyV1yJrRKigNHuIlwds81vSwYOUFro////N1q88cYh4g0MEgmn\n",
       "KzAIIE4dowJx6pgIpecI9PzRcwEAa99SL3yHpzQAAAAASUVORK5CYII=\n",
       "\" style=\"display:inline;vertical-align:middle;\" /></a> <a class=\"ProveItLink\" href=\"../__pv_it/demonstrations/f6f62655c6a45de1689f36f075e8537c8c3e68ab0/proof.ipynb\" style=\"text-decoration: none\">&nbsp;&#x22A2;&nbsp;&nbsp;</a><a class=\"ProveItLink\" href=\"../../../ordering/__pv_it/theorems/d1323f34847310a404e8089c2c268d3c2eb89dbf0/expr.ipynb\"><img src=\"data:image/png;base64,iVBORw0KGgoAAAANSUhEUgAAADQAAAAQBAMAAACra0H4AAAAMFBMVEX///8AAAAAAAAAAAAAAAAA\n",
       "AAAAAAAAAAAAAAAAAAAAAAAAAAAAAAAAAAAAAAAAAAAv3aB7AAAAD3RSTlMAEHarMolUmd1mIs3v\n",
       "RLtmgJDEAAAACXBIWXMAAA7EAAAOxAGVKw4bAAAAyklEQVQY02NgwACce9797nnJgBXwcRnwWj7E\n",
       "IRXA8MAZp1QVN4qQXkfHBrgUH7LMbUUkXYbCQIaQskhoApDm2ohkIMuzXUBGAZMRewOQ5l6AkDrd\n",
       "3yQA9MUCzo/ME0BSSM6InAiylIWBHWw3g08HEDyAGvhwJliMRwFMySE73p1PAMS6v4ARRHMgS7F7\n",
       "AfXLXbBhYAUJMCkgSTE+0GRgyHesYbgGFtmGkCpgmMl3gUFcia0yASwi/FYAFvL/FvC9/oYcHFdf\n",
       "QAIKCgBACzQrtGfvLgAAAABJRU5ErkJggg==\n",
       "\" style=\"display:inline;vertical-align:middle;\" /></a></span>"
      ],
      "text/plain": [
       "{x in [1,2]} |- x in Real"
      ]
     },
     "metadata": {},
     "output_type": "display_data"
    }
   ],
   "source": [
    "# if x is in [1, 2] x must be real\n",
    "interval_12.deduce_member_in_real(x, assumptions=[InSet(x, interval_12)])"
   ]
  },
  {
   "cell_type": "code",
   "execution_count": 37,
   "metadata": {},
   "outputs": [
    {
     "data": {
      "text/html": [
       "<span style=\"font-size:20px;\"><a class=\"ProveItLink\" href=\"../__pv_it/demonstrations/f9b2ca9b2c8779c7347c2d1f94d75c2166ca58d90/expr.ipynb\"><img src=\"data:image/png;base64,iVBORw0KGgoAAAANSUhEUgAAAE0AAAAVBAMAAADx+n4ZAAAAMFBMVEX///8AAAAAAAAAAAAAAAAA\n",
       "AAAAAAAAAAAAAAAAAAAAAAAAAAAAAAAAAAAAAAAAAAAv3aB7AAAAD3RSTlMAEHarMolUmd1mIs3v\n",
       "RLtmgJDEAAAACXBIWXMAAA7EAAAOxAGVKw4bAAABE0lEQVQoz2NgwAI0WlD5TB0O2JQxxKILsF7A\n",
       "pY6lEcrmKt/ngFudcPVHKHsdA+tfPOYxwdRZMTCcQVPH9KKjG0PdeQEG+wUo6ng3CWAxz4KBwd4B\n",
       "pE5IWSQ0ASSyWgCbvUDQD7a3gMmIvQHE3cWAXR3LJ5A6zgWcH5kngPgbcKjjMACpY2FghyhgOdHR\n",
       "0dGHRV0dNJx5FMBcxgfYzeM0gKq7v4AR7IMG7OpSGbhA4SJ3wYaBFSyghK6OEeycAAYmAaC6fMca\n",
       "hmtgWe4EJHWsvxgY5EEOX1FeXgGyV1yJrRKigNHuIlwds81vSwYOUFro////N1q88cYh4g0MEgmn\n",
       "KzAIIE4dowJx6pgIpecI9PzRcwEAa99SL3yHpzQAAAAASUVORK5CYII=\n",
       "\" style=\"display:inline;vertical-align:middle;\" /></a> <a class=\"ProveItLink\" href=\"../__pv_it/demonstrations/e298196f22d59635f3585b5de60b87e662e1e1c00/proof.ipynb\" style=\"text-decoration: none\">&nbsp;&#x22A2;&nbsp;&nbsp;</a><a class=\"ProveItLink\" href=\"../__pv_it/demonstrations/79e750b2b54ccae1f038119f807a121fd8d480cf0/expr.ipynb\"><img src=\"data:image/png;base64,iVBORw0KGgoAAAANSUhEUgAAADAAAAARBAMAAABp3DInAAAAMFBMVEX///8AAAAAAAAAAAAAAAAA\n",
       "AAAAAAAAAAAAAAAAAAAAAAAAAAAAAAAAAAAAAAAAAAAv3aB7AAAAD3RSTlMAMt0Qq5nNdoki72ZU\n",
       "RLsDrqvKAAAACXBIWXMAAA7EAAAOxAGVKw4bAAAAiUlEQVQY02NgYFRmwApMwj4jODyZSDLsCAlu\n",
       "VQOsEuwayOIICQt1VEtgEqbaMBHmcmeJHriESQ5cKStDSUEQXIIFIbGTYb+BN8KoqXCjBBjCcFm+\n",
       "HIdzeX8yGGPxIPNblgUMDQwMHD+RgiQRRHw0XcB7gIHF65s3qseYwwuO7mGgABgpgYAinA8AesIi\n",
       "FDKElNoAAAAASUVORK5CYII=\n",
       "\" style=\"display:inline;vertical-align:middle;\" /></a></span>"
      ],
      "text/plain": [
       "{x in [1,2]} |- 1 <= x"
      ]
     },
     "metadata": {},
     "output_type": "display_data"
    }
   ],
   "source": [
    "# and of course if x is in [1, 2] then 1 ≤ x\n",
    "interval_12.deduce_member_lower_bound(x, assumptions=[InSet(x, interval_12)])"
   ]
  },
  {
   "cell_type": "code",
   "execution_count": 38,
   "metadata": {},
   "outputs": [
    {
     "data": {
      "text/html": [
       "<span style=\"font-size:20px;\"><a class=\"ProveItLink\" href=\"../__pv_it/demonstrations/f9b2ca9b2c8779c7347c2d1f94d75c2166ca58d90/expr.ipynb\"><img src=\"data:image/png;base64,iVBORw0KGgoAAAANSUhEUgAAAE0AAAAVBAMAAADx+n4ZAAAAMFBMVEX///8AAAAAAAAAAAAAAAAA\n",
       "AAAAAAAAAAAAAAAAAAAAAAAAAAAAAAAAAAAAAAAAAAAv3aB7AAAAD3RSTlMAEHarMolUmd1mIs3v\n",
       "RLtmgJDEAAAACXBIWXMAAA7EAAAOxAGVKw4bAAABE0lEQVQoz2NgwAI0WlD5TB0O2JQxxKILsF7A\n",
       "pY6lEcrmKt/ngFudcPVHKHsdA+tfPOYxwdRZMTCcQVPH9KKjG0PdeQEG+wUo6ng3CWAxz4KBwd4B\n",
       "pE5IWSQ0ASSyWgCbvUDQD7a3gMmIvQHE3cWAXR3LJ5A6zgWcH5kngPgbcKjjMACpY2FghyhgOdHR\n",
       "0dGHRV0dNJx5FMBcxgfYzeM0gKq7v4AR7IMG7OpSGbhA4SJ3wYaBFSyghK6OEeycAAYmAaC6fMca\n",
       "hmtgWe4EJHWsvxgY5EEOX1FeXgGyV1yJrRKigNHuIlwds81vSwYOUFro////N1q88cYh4g0MEgmn\n",
       "KzAIIE4dowJx6pgIpecI9PzRcwEAa99SL3yHpzQAAAAASUVORK5CYII=\n",
       "\" style=\"display:inline;vertical-align:middle;\" /></a> <a class=\"ProveItLink\" href=\"../__pv_it/demonstrations/c7f38b68bf5f68033c65c8307b87cd3bb978fc8c0/proof.ipynb\" style=\"text-decoration: none\">&nbsp;&#x22A2;&nbsp;&nbsp;</a><a class=\"ProveItLink\" href=\"../__pv_it/theorems/0c04c146b0f7b92967ed28917fb83981f8ee0b1b0/expr.ipynb\"><img src=\"data:image/png;base64,iVBORw0KGgoAAAANSUhEUgAAADEAAAAQBAMAAABNQoq8AAAAMFBMVEX///8AAAAAAAAAAAAAAAAA\n",
       "AAAAAAAAAAAAAAAAAAAAAAAAAAAAAAAAAAAAAAAAAAAv3aB7AAAAD3RSTlMAEHarMolUmd1mIs3v\n",
       "RLtmgJDEAAAACXBIWXMAAA7EAAAOxAGVKw4bAAAAv0lEQVQY02NgwAZC1RdgFWfgTmDswi4zg4Eh\n",
       "DokrPQHOfMzAkC+AkGGMUIAxvzMw+CcwMAgpi4QmgAU0AqFqQDJAEwqYjNgboOYXgimur0AZBQbO\n",
       "BZwfmWFWZFfBZQIYWBjYNyAsu20IMg0ocx9kKY8CksxDqAvyQVbfX8AIc2K2FZh6x8AwX4BB7oIN\n",
       "AyvMh1UQeg4DQzVQm2MNwzUGFFczcCQwHmFgEFdiqwR7h1EDbh9jqbIDUuhITGAgEgAAPjAn/CdE\n",
       "pSIAAAAASUVORK5CYII=\n",
       "\" style=\"display:inline;vertical-align:middle;\" /></a></span>"
      ],
      "text/plain": [
       "{x in [1,2]} |- x > 0"
      ]
     },
     "metadata": {},
     "output_type": "display_data"
    }
   ],
   "source": [
    "# x being real and x ≥ 1 also means x > 0\n",
    "from proveit.numbers import greater\n",
    "greater(x, zero).conclude_via_transitivity(assumptions=[InSet(x, interval_12)])"
   ]
  },
  {
   "cell_type": "markdown",
   "metadata": {},
   "source": [
    "<font size=3>Trivially, $x \\in \\mathbb{R}^+$ if $x \\in [1, 2]$ since we know $x > 0$:</font>"
   ]
  },
  {
   "cell_type": "code",
   "execution_count": 39,
   "metadata": {},
   "outputs": [
    {
     "data": {
      "text/html": [
       "<strong id=\"x_in_interval_then_xPos\">x_in_interval_then_xPos:</strong> <span style=\"font-size:20px;\"><a class=\"ProveItLink\" href=\"../__pv_it/demonstrations/f9b2ca9b2c8779c7347c2d1f94d75c2166ca58d90/expr.ipynb\"><img src=\"data:image/png;base64,iVBORw0KGgoAAAANSUhEUgAAAE0AAAAVBAMAAADx+n4ZAAAAMFBMVEX///8AAAAAAAAAAAAAAAAA\n",
       "AAAAAAAAAAAAAAAAAAAAAAAAAAAAAAAAAAAAAAAAAAAv3aB7AAAAD3RSTlMAEHarMolUmd1mIs3v\n",
       "RLtmgJDEAAAACXBIWXMAAA7EAAAOxAGVKw4bAAABE0lEQVQoz2NgwAI0WlD5TB0O2JQxxKILsF7A\n",
       "pY6lEcrmKt/ngFudcPVHKHsdA+tfPOYxwdRZMTCcQVPH9KKjG0PdeQEG+wUo6ng3CWAxz4KBwd4B\n",
       "pE5IWSQ0ASSyWgCbvUDQD7a3gMmIvQHE3cWAXR3LJ5A6zgWcH5kngPgbcKjjMACpY2FghyhgOdHR\n",
       "0dGHRV0dNJx5FMBcxgfYzeM0gKq7v4AR7IMG7OpSGbhA4SJ3wYaBFSyghK6OEeycAAYmAaC6fMca\n",
       "hmtgWe4EJHWsvxgY5EEOX1FeXgGyV1yJrRKigNHuIlwds81vSwYOUFro////N1q88cYh4g0MEgmn\n",
       "KzAIIE4dowJx6pgIpecI9PzRcwEAa99SL3yHpzQAAAAASUVORK5CYII=\n",
       "\" style=\"display:inline;vertical-align:middle;\" /></a> <a class=\"ProveItLink\" href=\"../__pv_it/demonstrations/3121c478b7dc6fbab6b0335460dd82776fd96fb90/proof.ipynb\" style=\"text-decoration: none\">&nbsp;&#x22A2;&nbsp;&nbsp;</a><a class=\"ProveItLink\" href=\"../__pv_it/theorems/7697fc34c81296f04a039eeb9dd22e91165d63b70/expr.ipynb\"><img src=\"data:image/png;base64,iVBORw0KGgoAAAANSUhEUgAAAEAAAAATBAMAAADSXRa0AAAAMFBMVEX///8AAAAAAAAAAAAAAAAA\n",
       "AAAAAAAAAAAAAAAAAAAAAAAAAAAAAAAAAAAAAAAAAAAv3aB7AAAAD3RSTlMAEHarMolUmd1mIs3v\n",
       "RLtmgJDEAAAACXBIWXMAAA7EAAAOxAGVKw4bAAAA3UlEQVQoz2NgwAcKGAiAB+Qp4Nzz7nfPS3wm\n",
       "8HEZ8Fo+xKsggOGBMwP7u3fn3r3EpaCKG4sJeh0dG+AK+DAV3FZEMsFQGK5ASFkkNAFIc21EsoLl\n",
       "2S64ggImI/YGIM29AKHgdH+TACwkORdwfmSeAFKA5MjIiRvgPBYGdgjHpwMIHkCteDgTyXE8CmBK\n",
       "Dtmb7nwCCAX3FzCCeBzICti94D6Uu2DDwApiMCkgKWB8oAnj5TvWMFwDs7YhFBQwzOS7AOWJK7FV\n",
       "JoBZwm8FYLH5bwHf62+YcXD1RccGDEEANpdAkzJdUSAAAAAASUVORK5CYII=\n",
       "\" style=\"display:inline;vertical-align:middle;\" /></a></span><br>"
      ],
      "text/plain": [
       "<IPython.core.display.HTML object>"
      ]
     },
     "metadata": {},
     "output_type": "display_data"
    }
   ],
   "source": [
    "x_in_interval_then_xPos = InSet(x, RealPos).prove(assumptions=[InSet(x, interval_12)])"
   ]
  },
  {
   "cell_type": "markdown",
   "metadata": {},
   "source": [
    "<font size=3>If we jump the gun a bit here and ask Prove-It to now complete the proof, we still get an error message:</font>"
   ]
  },
  {
   "cell_type": "code",
   "execution_count": 40,
   "metadata": {},
   "outputs": [],
   "source": [
    "from proveit.logic import SubsetEq\n",
    "try:\n",
    "    SubsetEq(IntervalCC(one, two), RealPos).prove()\n",
    "except ProofFailure as e:\n",
    "    print(\"Proof failure. {}\".format(e))"
   ]
  },
  {
   "cell_type": "markdown",
   "metadata": {},
   "source": [
    "<font size=3>But the error message is instructive:  apparently Prove-It is trying to apply modus ponens to a known implication, and we just need to modify our earlier result to make it more obviously applicable. So we generalize the previous judgment that $\\{x\\in [1, 2]\\}\\vdash x \\in \\mathbb{R}^{+}$ as follows:</font>"
   ]
  },
  {
   "cell_type": "code",
   "execution_count": 41,
   "metadata": {},
   "outputs": [
    {
     "data": {
      "text/html": [
       "<span style=\"font-size:20px;\"> <a class=\"ProveItLink\" href=\"../__pv_it/demonstrations/65f608f04ddba917e70f71a51ecf05adf8a671e30/proof.ipynb\" style=\"text-decoration: none\">&nbsp;&#x22A2;&nbsp;&nbsp;</a><a class=\"ProveItLink\" href=\"../__pv_it/demonstrations/b2f5ea66c619614b98edfd6ac053950d0ee247b30/expr.ipynb\"><img src=\"data:image/png;base64,iVBORw0KGgoAAAANSUhEUgAAAJ0AAAAZBAMAAADZKTErAAAAMFBMVEX///8AAAAAAAAAAAAAAAAA\n",
       "AAAAAAAAAAAAAAAAAAAAAAAAAAAAAAAAAAAAAAAAAAAv3aB7AAAAD3RSTlMAq1RmmUTNIjK7EInv\n",
       "3XZ/CtNrAAAACXBIWXMAAA7EAAAOxAGVKw4bAAACeklEQVQ4y5WVTWjUQBTH/9tNNh/bjRFPFZGA\n",
       "3kQsFAoWkRWVqvWw6M1LF3ooiGgEsQcLtlBQtNpFQcyCEsGDpaCiJymUXhSKCHsSBFe3qBfRRQS/\n",
       "9lLfTJrMpO42cWBgJpP3m/c9QMqRLa17XKSp4D/G9vWPKzS1SnqcWU7mYW96ntHbzgenvJ9vbwpe\n",
       "wQdsttiWyBtvf4tmq5uqEc8i2EG2GE3kDXXgPUZlEornLXmkp9kCJtM58kdH3mAu0g8jQI5szjtJ\n",
       "OL0V21p36q8jniF4h8mn5OhconpWTd6pp32h3+Z7gveF5qt6/WUiL8PS5eHyg3luyXlf2KvfGBW8\n",
       "YTo4BFRl0SVXrHfboSD7v2htVWqx8Bnai/fv/LA+gJkJ4Cw0W+bZMPt5Bs9v9BGe5GiRdbOtDE/D\n",
       "suA9HZAT/SIVpeHnw9LUl70SIa5/Ba9GUibkFeh+HUogq5OL6m9W7a32SbxHROpqROE4MMH1w062\n",
       "2VDSfsf0A7obQe1VpHyZMnxJPwYos7JrDn50rV5IvKz/D2/YNblwTeIpl6TknWG+f3KS8sHtyTmz\n",
       "kHmUlsLeDAnNlrYgz3dNiWdWPggeiy/Gma9xV8fxNbxrIh7WIrDrylEcC7R1Il4RfYbojHv43cxo\n",
       "/AL6Pc9zBE+rIuKpVB/3m137A5DZcyLsL39c49b3iLdPFNSihqtx/c5hLOLheSy91WdBva0dI1E7\n",
       "ypcVBJEKeHPQbl8+InhDqZpuVOXKp4XPRAh4F84sYNrpXln5JnjTqd4YO76f83g+8+GExq8G2EnB\n",
       "K7htPgYI1Y/zkt4PdHw/AkQWcR52JOPat2VP7i+NtO8vDwLZ9BfLmZPuasR3XgAAAABJRU5ErkJg\n",
       "gg==\n",
       "\" style=\"display:inline;vertical-align:middle;\" /></a></span>"
      ],
      "text/plain": [
       "|- forall_{x in [1,2]} (x in RealPos)"
      ]
     },
     "metadata": {},
     "output_type": "display_data"
    }
   ],
   "source": [
    "# generalize\n",
    "x_in_interval_then_xPos.generalize(x, conditions=[InSet(x, interval_12)])"
   ]
  },
  {
   "cell_type": "markdown",
   "metadata": {},
   "source": [
    "<font size=3>And now Prove-It has the pieces it needs to establish the desired judgment:</font>"
   ]
  },
  {
   "cell_type": "code",
   "execution_count": 42,
   "metadata": {},
   "outputs": [
    {
     "data": {
      "text/html": [
       "<span style=\"font-size:20px;\"> <a class=\"ProveItLink\" href=\"../__pv_it/demonstrations/00fe4c0ed764ba0bef620b5c5adb5c87c039b3240/proof.ipynb\" style=\"text-decoration: none\">&nbsp;&#x22A2;&nbsp;&nbsp;</a><a class=\"ProveItLink\" href=\"../__pv_it/demonstrations/0bde084a201214a510cb781e20e6ac389ee036160/expr.ipynb\"><img src=\"data:image/png;base64,iVBORw0KGgoAAAANSUhEUgAAAF4AAAAXBAMAAABwq+X5AAAAMFBMVEX///8AAAAAAAAAAAAAAAAA\n",
       "AAAAAAAAAAAAAAAAAAAAAAAAAAAAAAAAAAAAAAAAAAAv3aB7AAAAD3RSTlMAdt0yiUQQq5nNIu9m\n",
       "VLvPy6LmAAAACXBIWXMAAA7EAAAOxAGVKw4bAAABUElEQVQ4y2NgIAE0MJAGHgCxkDKqGKOSAV71\n",
       "ruiCLAGofJ7Z735qv0FWz6wGleLqmGeAoZ6Bj6uAteYZQn165zeozDoGlq9w9XJKSkrKEPUODA/M\n",
       "GTjevdv37g3IfEaY+ioGht0w9ZZSCPMdGLo4kdwDV78/gaF+AUQ9mxYDino+bOqLGBjqDSDq2QNQ\n",
       "1JelY1MPBPpQ93Ai+9eB+e0s7OqZP0LVmyOr36mvmACLX1T1TAVQ9cuR1fscmwDnoarvg8UXE4p7\n",
       "np3Brp6nAKae4wCyegu+BKzqrzBwQcOTYSqyeg6rB2jq2cC+dWBgTICqTy9NQKhneyCDpJ7lFwND\n",
       "PshHizo6muDpIeQRPD00MJzhC4CrZ6/+WcPABEpz+v///8SWPv8t4Hv5F2E+GFzDlZ7RAEy9A2nq\n",
       "2QRQ1XMoKcHSM1b1jAxEmu+Enn+18aoHAOYaX2Udu6OSAAAAAElFTkSuQmCC\n",
       "\" style=\"display:inline;vertical-align:middle;\" /></a></span>"
      ],
      "text/plain": [
       "|- [1,2] subset_eq RealPos"
      ]
     },
     "metadata": {},
     "output_type": "display_data"
    }
   ],
   "source": [
    "# The previous generalization result allows the instantiation of\n",
    "# a conditional theorem definition of improper subset\n",
    "SubsetEq(interval_12, RealPos).prove()"
   ]
  },
  {
   "cell_type": "markdown",
   "metadata": {},
   "source": [
    "<font size=3>It turns out it takes quite a bit more work to take the further step and conclude that $[1, 2] \\subset \\mathbb{R}^{+}$ (<i>i.e.</i>, using a strict subset instead of an improper subset). Such proper subset relationships have been formulated as theorems, as demonstrated below in the next example.</font>"
   ]
  },
  {
   "cell_type": "markdown",
   "metadata": {},
   "source": [
    "<a id='demo03'></a><font size=4><b>3.</b> Proving $[1,4]\\subset \\mathbb{R}^{+}$</font><br><br>\n",
    "<font size=3>The set of real numbers in the closed interval $[1, 4]$ is clearly a subset of the positive real numbers $\\mathbb{R}^{+}$. We prove this subset relationship by instantiation of a general theorem:</font>"
   ]
  },
  {
   "cell_type": "code",
   "execution_count": 43,
   "metadata": {},
   "outputs": [
    {
     "data": {
      "text/html": [
       "<strong id=\"c_in_pos_interval\">c_in_pos_interval:</strong> <span style=\"font-size:20px;\"><a class=\"ProveItLink\" href=\"../__pv_it/demonstrations/cc53d918fd90dc2a2ee538fad694f7a6d70d71900/expr.ipynb\"><img src=\"data:image/png;base64,iVBORw0KGgoAAAANSUhEUgAAAEkAAAAVBAMAAAD4Ed5jAAAAMFBMVEX///8AAAAAAAAAAAAAAAAA\n",
       "AAAAAAAAAAAAAAAAAAAAAAAAAAAAAAAAAAAAAAAAAAAv3aB7AAAAD3RSTlMAiXZmMiLdVJm77xBE\n",
       "zatgdeJyAAAACXBIWXMAAA7EAAAOxAGVKw4bAAAA70lEQVQoz2NgwABqKah8pjQHTEUMMugCjAdw\n",
       "qHLbAOOxNOBSxf3iPlwV2wPcZunDVamhqdJMS7uAoYrFFlXVWW1sZjHyQlUJKYN8ynobq42qUFVh\n",
       "BRwTgFzeAGyqWA2gqhIZuBRAqrC6npEBoorjN4TvlQYEE9BVmUJVcU2A8HdiM4tVAapqvwI09LCp\n",
       "4nn37v06AaAqfgMGBpBPmRTQVUEUckHcNYGBERzn15FVyQcwcP8F8/gngP0oaAwJzn1zNsBVvVt/\n",
       "z4AhDcTnmP9PASWGDk5DxBAIsG8glHIgYUWMqk1EqVLAq0oMPd1nHQAA919LgYdIDwwAAAAASUVO\n",
       "RK5CYII=\n",
       "\" style=\"display:inline;vertical-align:middle;\" /></a> <a class=\"ProveItLink\" href=\"../__pv_it/demonstrations/ff163d487be763c4b47179b9fc4615cc27268e8b0/proof.ipynb\" style=\"text-decoration: none\">&nbsp;&#x22A2;&nbsp;&nbsp;</a><a class=\"ProveItLink\" href=\"../__pv_it/demonstrations/cc53d918fd90dc2a2ee538fad694f7a6d70d71900/expr.ipynb\"><img src=\"data:image/png;base64,iVBORw0KGgoAAAANSUhEUgAAAEkAAAAVBAMAAAD4Ed5jAAAAMFBMVEX///8AAAAAAAAAAAAAAAAA\n",
       "AAAAAAAAAAAAAAAAAAAAAAAAAAAAAAAAAAAAAAAAAAAv3aB7AAAAD3RSTlMAiXZmMiLdVJm77xBE\n",
       "zatgdeJyAAAACXBIWXMAAA7EAAAOxAGVKw4bAAAA70lEQVQoz2NgwABqKah8pjQHTEUMMugCjAdw\n",
       "qHLbAOOxNOBSxf3iPlwV2wPcZunDVamhqdJMS7uAoYrFFlXVWW1sZjHyQlUJKYN8ynobq42qUFVh\n",
       "BRwTgFzeAGyqWA2gqhIZuBRAqrC6npEBoorjN4TvlQYEE9BVmUJVcU2A8HdiM4tVAapqvwI09LCp\n",
       "4nn37v06AaAqfgMGBpBPmRTQVUEUckHcNYGBERzn15FVyQcwcP8F8/gngP0oaAwJzn1zNsBVvVt/\n",
       "z4AhDcTnmP9PASWGDk5DxBAIsG8glHIgYUWMqk1EqVLAq0oMPd1nHQAA919LgYdIDwwAAAAASUVO\n",
       "RK5CYII=\n",
       "\" style=\"display:inline;vertical-align:middle;\" /></a></span><br>"
      ],
      "text/plain": [
       "<IPython.core.display.HTML object>"
      ]
     },
     "metadata": {},
     "output_type": "display_data"
    }
   ],
   "source": [
    "c_in_pos_interval = InSet(c, IntervalCC(one, four))\n",
    "c_in_pos_interval = c_in_pos_interval.prove(assumptions=[c_in_pos_interval])"
   ]
  },
  {
   "cell_type": "code",
   "execution_count": 44,
   "metadata": {},
   "outputs": [
    {
     "data": {
      "text/html": [
       "<span style=\"font-size:20px;\"><a class=\"ProveItLink\" href=\"../__pv_it/demonstrations/cc53d918fd90dc2a2ee538fad694f7a6d70d71900/expr.ipynb\"><img src=\"data:image/png;base64,iVBORw0KGgoAAAANSUhEUgAAAEkAAAAVBAMAAAD4Ed5jAAAAMFBMVEX///8AAAAAAAAAAAAAAAAA\n",
       "AAAAAAAAAAAAAAAAAAAAAAAAAAAAAAAAAAAAAAAAAAAv3aB7AAAAD3RSTlMAiXZmMiLdVJm77xBE\n",
       "zatgdeJyAAAACXBIWXMAAA7EAAAOxAGVKw4bAAAA70lEQVQoz2NgwABqKah8pjQHTEUMMugCjAdw\n",
       "qHLbAOOxNOBSxf3iPlwV2wPcZunDVamhqdJMS7uAoYrFFlXVWW1sZjHyQlUJKYN8ynobq42qUFVh\n",
       "BRwTgFzeAGyqWA2gqhIZuBRAqrC6npEBoorjN4TvlQYEE9BVmUJVcU2A8HdiM4tVAapqvwI09LCp\n",
       "4nn37v06AaAqfgMGBpBPmRTQVUEUckHcNYGBERzn15FVyQcwcP8F8/gngP0oaAwJzn1zNsBVvVt/\n",
       "z4AhDcTnmP9PASWGDk5DxBAIsG8glHIgYUWMqk1EqVLAq0oMPd1nHQAA919LgYdIDwwAAAAASUVO\n",
       "RK5CYII=\n",
       "\" style=\"display:inline;vertical-align:middle;\" /></a> <a class=\"ProveItLink\" href=\"../__pv_it/demonstrations/9aad14d43b496b14ece2c7d95d52a51b96bc60610/proof.ipynb\" style=\"text-decoration: none\">&nbsp;&#x22A2;&nbsp;&nbsp;</a><a class=\"ProveItLink\" href=\"../__pv_it/demonstrations/f5ac3c6ab90d9fa1dcfc09c01f78122044c007160/expr.ipynb\"><img src=\"data:image/png;base64,iVBORw0KGgoAAAANSUhEUgAAAD0AAAATBAMAAADR6hicAAAAMFBMVEX///8AAAAAAAAAAAAAAAAA\n",
       "AAAAAAAAAAAAAAAAAAAAAAAAAAAAAAAAAAAAAAAAAAAv3aB7AAAAD3RSTlMAiXZmMiLdVJm77xBE\n",
       "zatgdeJyAAAACXBIWXMAAA7EAAAOxAGVKw4bAAAA0ElEQVQoz2NgwA04GPADTrLkbVfOv7bSAI/+\n",
       "CXEM5yw34JEPZOBkecDQOXPWzJkG2OU5Ai5g6tdMS7sAl5+AIX9WG6Gfb/cDhLyQsgOQZL2NZL5n\n",
       "bQBcPqyAA2QYbwBcPuraN21E+CUycCmA5JHcZ7wXKZB/Q2ivNCCYAJHn3IzwF9cECL0TST9Lw2w4\n",
       "b78ChGZD9n9LJJzHDzTqAJBmUkCS38kEtwDoeEaQ/xiuw+UjGJgN5sANEDSGBMy+ORtg8TeVYeb9\n",
       "AoxwPzgNEr4oAABdmzkc2vbi6QAAAABJRU5ErkJggg==\n",
       "\" style=\"display:inline;vertical-align:middle;\" /></a></span>"
      ],
      "text/plain": [
       "{c in [1,4]} |- c in RealPos"
      ]
     },
     "metadata": {},
     "output_type": "display_data"
    }
   ],
   "source": [
    "c_in_pos_interval.derive_element_in_restricted_number_set()"
   ]
  },
  {
   "cell_type": "code",
   "execution_count": 45,
   "metadata": {},
   "outputs": [
    {
     "data": {
      "text/html": [
       "<strong id=\"c_in_nonneg_interval\">c_in_nonneg_interval:</strong> <span style=\"font-size:20px;\"><a class=\"ProveItLink\" href=\"../__pv_it/demonstrations/0768b8597580b3f5c74dd98523a6962a03ee102e0/expr.ipynb\"><img src=\"data:image/png;base64,iVBORw0KGgoAAAANSUhEUgAAAEkAAAAVBAMAAAD4Ed5jAAAAMFBMVEX///8AAAAAAAAAAAAAAAAA\n",
       "AAAAAAAAAAAAAAAAAAAAAAAAAAAAAAAAAAAAAAAAAAAv3aB7AAAAD3RSTlMAiXZmMiLdVJm77xBE\n",
       "zatgdeJyAAAACXBIWXMAAA7EAAAOxAGVKw4bAAABJklEQVQoz2NgwABqKah8pjQHTEUMMugCjAew\n",
       "q2IUaoXxWBpwqrrOsC0AymN7gEsVcwID4wSYK9FUaaalXYCo4nzAwP4baqEtqqqz2nCz+BsYWL5D\n",
       "Xc4LVSWkDPIp622EjfuBqj5DOKpQVWEFHCA38AYgVMULMLB8ArNZDaCqEhm4FECqGFBVfYRYyABR\n",
       "xQF1plcaEEyA2ijAwAMxyxSqigvq5Z1IZgFdzw52PasCVNV+BWjoIaninMDADLaC59279+sEgKr4\n",
       "DRgYQD5lUkAK1QUMHBcYNoB5XBB3TWBgBMf5daQYSmfY5cD9F8zjnwD2o6AxJDj3zdkAV7VD6AkD\n",
       "QxqIzzH/nwJKDB2cBoshCGDfQCDlQMOKGFWbiFKlgFeVGHq6zzoAAN27UZEiBRREAAAAAElFTkSu\n",
       "QmCC\n",
       "\" style=\"display:inline;vertical-align:middle;\" /></a> <a class=\"ProveItLink\" href=\"../__pv_it/demonstrations/a54e88bb7ab997264ea1723b81db01e312b16bf90/proof.ipynb\" style=\"text-decoration: none\">&nbsp;&#x22A2;&nbsp;&nbsp;</a><a class=\"ProveItLink\" href=\"../__pv_it/demonstrations/0768b8597580b3f5c74dd98523a6962a03ee102e0/expr.ipynb\"><img src=\"data:image/png;base64,iVBORw0KGgoAAAANSUhEUgAAAEkAAAAVBAMAAAD4Ed5jAAAAMFBMVEX///8AAAAAAAAAAAAAAAAA\n",
       "AAAAAAAAAAAAAAAAAAAAAAAAAAAAAAAAAAAAAAAAAAAv3aB7AAAAD3RSTlMAiXZmMiLdVJm77xBE\n",
       "zatgdeJyAAAACXBIWXMAAA7EAAAOxAGVKw4bAAABJklEQVQoz2NgwABqKah8pjQHTEUMMugCjAew\n",
       "q2IUaoXxWBpwqrrOsC0AymN7gEsVcwID4wSYK9FUaaalXYCo4nzAwP4baqEtqqqz2nCz+BsYWL5D\n",
       "Xc4LVSWkDPIp622EjfuBqj5DOKpQVWEFHCA38AYgVMULMLB8ArNZDaCqEhm4FECqGFBVfYRYyABR\n",
       "xQF1plcaEEyA2ijAwAMxyxSqigvq5Z1IZgFdzw52PasCVNV+BWjoIaninMDADLaC59279+sEgKr4\n",
       "DRgYQD5lUkAK1QUMHBcYNoB5XBB3TWBgBMf5daQYSmfY5cD9F8zjnwD2o6AxJDj3zdkAV7VD6AkD\n",
       "QxqIzzH/nwJKDB2cBoshCGDfQCDlQMOKGFWbiFKlgFeVGHq6zzoAAN27UZEiBRREAAAAAElFTkSu\n",
       "QmCC\n",
       "\" style=\"display:inline;vertical-align:middle;\" /></a></span><br>"
      ],
      "text/plain": [
       "<IPython.core.display.HTML object>"
      ]
     },
     "metadata": {},
     "output_type": "display_data"
    }
   ],
   "source": [
    "c_in_nonneg_interval = InSet(c, IntervalCC(zero, four))\n",
    "c_in_nonneg_interval = c_in_nonneg_interval.prove(assumptions=[c_in_nonneg_interval])"
   ]
  },
  {
   "cell_type": "code",
   "execution_count": 46,
   "metadata": {},
   "outputs": [
    {
     "data": {
      "text/html": [
       "<span style=\"font-size:20px;\"><a class=\"ProveItLink\" href=\"../__pv_it/demonstrations/0768b8597580b3f5c74dd98523a6962a03ee102e0/expr.ipynb\"><img src=\"data:image/png;base64,iVBORw0KGgoAAAANSUhEUgAAAEkAAAAVBAMAAAD4Ed5jAAAAMFBMVEX///8AAAAAAAAAAAAAAAAA\n",
       "AAAAAAAAAAAAAAAAAAAAAAAAAAAAAAAAAAAAAAAAAAAv3aB7AAAAD3RSTlMAiXZmMiLdVJm77xBE\n",
       "zatgdeJyAAAACXBIWXMAAA7EAAAOxAGVKw4bAAABJklEQVQoz2NgwABqKah8pjQHTEUMMugCjAew\n",
       "q2IUaoXxWBpwqrrOsC0AymN7gEsVcwID4wSYK9FUaaalXYCo4nzAwP4baqEtqqqz2nCz+BsYWL5D\n",
       "Xc4LVSWkDPIp622EjfuBqj5DOKpQVWEFHCA38AYgVMULMLB8ArNZDaCqEhm4FECqGFBVfYRYyABR\n",
       "xQF1plcaEEyA2ijAwAMxyxSqigvq5Z1IZgFdzw52PasCVNV+BWjoIaninMDADLaC59279+sEgKr4\n",
       "DRgYQD5lUkAK1QUMHBcYNoB5XBB3TWBgBMf5daQYSmfY5cD9F8zjnwD2o6AxJDj3zdkAV7VD6AkD\n",
       "QxqIzzH/nwJKDB2cBoshCGDfQCDlQMOKGFWbiFKlgFeVGHq6zzoAAN27UZEiBRREAAAAAElFTkSu\n",
       "QmCC\n",
       "\" style=\"display:inline;vertical-align:middle;\" /></a> <a class=\"ProveItLink\" href=\"../__pv_it/demonstrations/dfa9206f3963efbf6c6d8fda0bcd7e7bdceadc220/proof.ipynb\" style=\"text-decoration: none\">&nbsp;&#x22A2;&nbsp;&nbsp;</a><a class=\"ProveItLink\" href=\"../__pv_it/demonstrations/a37cf08c867e9f59b8f44e788f02f691a14fe25a0/expr.ipynb\"><img src=\"data:image/png;base64,iVBORw0KGgoAAAANSUhEUgAAAEYAAAAUBAMAAADCRlZLAAAAMFBMVEX///8AAAAAAAAAAAAAAAAA\n",
       "AAAAAAAAAAAAAAAAAAAAAAAAAAAAAAAAAAAAAAAAAAAv3aB7AAAAD3RSTlMAiXZmMiLdVJm77xBE\n",
       "zatgdeJyAAAACXBIWXMAAA7EAAAOxAGVKw4bAAABH0lEQVQoz2NgwAU8D4ApQUUG3IBbsgBIMivw\n",
       "TMCjiEHTgIGBy4HhKz41DJYKDPEbGJZjStiunH9tpQGEbRXgv4EhGYvuCXEM5yw3gFgb5zAA1SzC\n",
       "piaQgZPlAZAR8YQBZNd37Go4Ai4wMMQBlaC7WTMt7QJczQSGfa0gDpMCzwOEkrPaCHP4dj9g2A3h\n",
       "CWqAnCak7AAkWW8j2eVZG4BifVgBBygkeeGiE6KufdNGdWIiA5cCSA2Sm433guJrJhBANHL8hsh4\n",
       "pQHBBIgazs0GKMZwQaNsJ5I5LA2zUdTsV4DQbMjh0xKJooYfaOwBcEAgqdnJhGIZ0FOMIL8zXIer\n",
       "iWBgNpiDYpCgMcSj++ZsgMX7VIaZ9wuwppaD0yBxgQEAtkNNaj8uTC4AAAAASUVORK5CYII=\n",
       "\" style=\"display:inline;vertical-align:middle;\" /></a></span>"
      ],
      "text/plain": [
       "{c in [0,4]} |- c in RealNonNeg"
      ]
     },
     "metadata": {},
     "output_type": "display_data"
    }
   ],
   "source": [
    "c_in_nonneg_interval.derive_element_in_restricted_number_set()"
   ]
  },
  {
   "cell_type": "code",
   "execution_count": 47,
   "metadata": {},
   "outputs": [
    {
     "data": {
      "text/html": [
       "<strong id=\"c_in_neg_interval\">c_in_neg_interval:</strong> <span style=\"font-size:20px;\"><a class=\"ProveItLink\" href=\"../__pv_it/demonstrations/86e2c00d244602f28a88797a129a26a2e0d3bc510/expr.ipynb\"><img src=\"data:image/png;base64,iVBORw0KGgoAAAANSUhEUgAAAGkAAAAVBAMAAAC3TN2zAAAAMFBMVEX///8AAAAAAAAAAAAAAAAA\n",
       "AAAAAAAAAAAAAAAAAAAAAAAAAAAAAAAAAAAAAAAAAAAv3aB7AAAAD3RSTlMAiXZmMiLdVJm77xBE\n",
       "zatgdeJyAAAACXBIWXMAAA7EAAAOxAGVKw4bAAABRUlEQVQ4y2NgwABqKQx4AVOaAxZRGQTTgYE7\n",
       "AFMB4wH8utbfTduAIsfacdOBoK6sb9KocpEMjH8I6nqALveUgWEVii6maWm5BHWt38DwPgBJF8+l\n",
       "DUTY9YyB4b0DWJeQMigkYzdgceFjxScYHsgHuzCsgGMCkHMVm79mM8Sj+5zlE1hXIgOXApB3AZsu\n",
       "BgbOBDRdbA9Aujh+Q4xYlpaWlgnVxX0tDQRADuf4ChbbCxYAJZpOcCxzTQALc0/AYhfnBQaOL6hW\n",
       "MT8A69qvAOEmYNHFlcDA9wFVVyEDKyjk+Q0YGEA+VsKii5EB5BTkNMUiwMC0AeSvCQyMIA/wFmDq\n",
       "Ym1g0NrA/RdJV1hHRxs4DAWNtcEee3kaMwwj+roZGJATcP7//39RUhSPJGaKAgP2DSTmFJjvyNC1\n",
       "iSxdCkTpEiNUbmQdAABHsFgXxySZTgAAAABJRU5ErkJggg==\n",
       "\" style=\"display:inline;vertical-align:middle;\" /></a> <a class=\"ProveItLink\" href=\"../__pv_it/demonstrations/58deb8abf949b1c63b05b4046e89818bc1034bff0/proof.ipynb\" style=\"text-decoration: none\">&nbsp;&#x22A2;&nbsp;&nbsp;</a><a class=\"ProveItLink\" href=\"../__pv_it/demonstrations/86e2c00d244602f28a88797a129a26a2e0d3bc510/expr.ipynb\"><img src=\"data:image/png;base64,iVBORw0KGgoAAAANSUhEUgAAAGkAAAAVBAMAAAC3TN2zAAAAMFBMVEX///8AAAAAAAAAAAAAAAAA\n",
       "AAAAAAAAAAAAAAAAAAAAAAAAAAAAAAAAAAAAAAAAAAAv3aB7AAAAD3RSTlMAiXZmMiLdVJm77xBE\n",
       "zatgdeJyAAAACXBIWXMAAA7EAAAOxAGVKw4bAAABRUlEQVQ4y2NgwABqKQx4AVOaAxZRGQTTgYE7\n",
       "AFMB4wH8utbfTduAIsfacdOBoK6sb9KocpEMjH8I6nqALveUgWEVii6maWm5BHWt38DwPgBJF8+l\n",
       "DUTY9YyB4b0DWJeQMigkYzdgceFjxScYHsgHuzCsgGMCkHMVm79mM8Sj+5zlE1hXIgOXApB3AZsu\n",
       "BgbOBDRdbA9Aujh+Q4xYlpaWlgnVxX0tDQRADuf4ChbbCxYAJZpOcCxzTQALc0/AYhfnBQaOL6hW\n",
       "MT8A69qvAOEmYNHFlcDA9wFVVyEDKyjk+Q0YGEA+VsKii5EB5BTkNMUiwMC0AeSvCQyMIA/wFmDq\n",
       "Ym1g0NrA/RdJV1hHRxs4DAWNtcEee3kaMwwj+roZGJATcP7//39RUhSPJGaKAgP2DSTmFJjvyNC1\n",
       "iSxdCkTpEiNUbmQdAABHsFgXxySZTgAAAABJRU5ErkJggg==\n",
       "\" style=\"display:inline;vertical-align:middle;\" /></a></span><br>"
      ],
      "text/plain": [
       "<IPython.core.display.HTML object>"
      ]
     },
     "metadata": {},
     "output_type": "display_data"
    }
   ],
   "source": [
    "c_in_neg_interval = InSet(c, IntervalCC(Neg(five), Neg(two)))\n",
    "c_in_neg_interval = c_in_neg_interval.prove(assumptions=[c_in_neg_interval])"
   ]
  },
  {
   "cell_type": "code",
   "execution_count": 48,
   "metadata": {},
   "outputs": [
    {
     "data": {
      "text/html": [
       "<span style=\"font-size:20px;\"> <a class=\"ProveItLink\" href=\"../__pv_it/demonstrations/3607ed7de907b479e91cbb4ccd3698b70e03a1540/proof.ipynb\" style=\"text-decoration: none\">&nbsp;&#x22A2;&nbsp;&nbsp;</a><a class=\"ProveItLink\" href=\"../__pv_it/demonstrations/d6715447858b3daab5e0ea2365f837bf1e15b3dc0/expr.ipynb\"><img src=\"data:image/png;base64,iVBORw0KGgoAAAANSUhEUgAAADAAAAARBAMAAABp3DInAAAAMFBMVEX///8AAAAAAAAAAAAAAAAA\n",
       "AAAAAAAAAAAAAAAAAAAAAAAAAAAAAAAAAAAAAAAAAAAv3aB7AAAAD3RSTlMAIpnNuzKJRKvvEN12\n",
       "ZlQ4bmvwAAAACXBIWXMAAA7EAAAOxAGVKw4bAAAAwUlEQVQY02NgwAICGLgEGBiVTALQJeYb717A\n",
       "IMLA9h1dYufvLAaGRgaGmegSDWBtCxj6BeBCjwXgEt0MDP1wS25rIXQAwX6Y+OksCN17rBVEsf6B\n",
       "cLmyD0AVeDHIFwApbohORu0LCOtZNgAJFQi7+QGSu5g+MjDwNqBLsBgwMH1lYHjGwCiAahTnBgaO\n",
       "DwysCQw8C1AtZwPKOTBIKylpQ1VynT4FcYYCw8kFDPv///8Mt/M2xCNCGlrooXRZgIEQAAAEiC0b\n",
       "inz6bwAAAABJRU5ErkJggg==\n",
       "\" style=\"display:inline;vertical-align:middle;\" /></a></span>"
      ],
      "text/plain": [
       "|- 2 < 5"
      ]
     },
     "metadata": {},
     "output_type": "display_data"
    }
   ],
   "source": [
    "Less(two, five).conclude_from_similar_bound(Less(zero, one))"
   ]
  },
  {
   "cell_type": "code",
   "execution_count": 49,
   "metadata": {},
   "outputs": [
    {
     "data": {
      "text/html": [
       "<span style=\"font-size:20px;\"> <a class=\"ProveItLink\" href=\"../__pv_it/demonstrations/fe59c42e5589f69c9d77d4b53b728514f1f7a8550/proof.ipynb\" style=\"text-decoration: none\">&nbsp;&#x22A2;&nbsp;&nbsp;</a><a class=\"ProveItLink\" href=\"../__pv_it/demonstrations/165de56625924b045f17d4e88122f8b99d6c8ff20/expr.ipynb\"><img src=\"data:image/png;base64,iVBORw0KGgoAAAANSUhEUgAAAG0AAAAVBAMAAAC+p33JAAAAMFBMVEX///8AAAAAAAAAAAAAAAAA\n",
       "AAAAAAAAAAAAAAAAAAAAAAAAAAAAAAAAAAAAAAAAAAAv3aB7AAAAD3RSTlMAInZUiRDNmWbv3US7\n",
       "qzJazP2FAAAACXBIWXMAAA7EAAAOxAGVKw4bAAABuUlEQVQ4y31UPUjDQBT+mqRN0j+CS6EUVHTQ\n",
       "rUMRdOriKASRTg4VUUQcOigVUchkF4cuDuJgqIJaoRY3t1Zwr5s42MwuVgcHBeslaXOXH7zh5b2X\n",
       "99197+cOgAJ2hRCwPE4LwWUd20BYiY0F4Cbc5p0pctQ+W6+rmPLD+Dw9ubxlgNOAcJH+v/6eByKq\n",
       "D1egagbCD7AGiBp1dkwhlXy4Xao+ASdABZDhweGYIbhifapMKiq6CmQVMz7chmNLlxZnnknlBega\n",
       "iGjYZnDPk69ELgxN7sJOVcy7WN8CQofZHXjEaBM4HFhLtYES0VhY8pMQKeLctVdcB2ZtNXU1dEaz\n",
       "bEiUZMNXcUpasVk3l2FS+gDerd+JVSdSJiQKVkiDWPvmmT0T5xxWhPgL3AfhaK3M4sWqLE9ZR6IH\n",
       "zP3LM4eQAl7HA3UJBNoCjrx1iTMjm8yDUyG1aNXJ7JUwTSrvdGaxZvdB6NCYdLm8Z3XmjeGQOtgh\n",
       "8obmYjcwqTPN6/e/CPMmoob3rjFRkj1nDe/ApgPGWNR8c10JGvS2x5fx37+44qFEqodlT1Dbjwu3\n",
       "AvYJuR8GTgl4J0bc5jjwB7rWXKVqxkC4AAAAAElFTkSuQmCC\n",
       "\" style=\"display:inline;vertical-align:middle;\" /></a></span>"
      ],
      "text/plain": [
       "|- (-5) < (-2)"
      ]
     },
     "metadata": {},
     "output_type": "display_data"
    }
   ],
   "source": [
    "Less(Neg(five), Neg(two)).conclude_from_similar_bound(Less(zero, one))"
   ]
  },
  {
   "cell_type": "code",
   "execution_count": 50,
   "metadata": {},
   "outputs": [
    {
     "data": {
      "text/plain": [
       "True"
      ]
     },
     "metadata": {},
     "output_type": "display_data"
    }
   ],
   "source": [
    "Less(Neg(five), Neg(two)).readily_provable()"
   ]
  },
  {
   "cell_type": "code",
   "execution_count": 51,
   "metadata": {},
   "outputs": [
    {
     "data": {
      "text/html": [
       "<span style=\"font-size:20px;\"> <a class=\"ProveItLink\" href=\"../__pv_it/demonstrations/42f7da955286454eaecc4f29540daea56dab991b0/proof.ipynb\" style=\"text-decoration: none\">&nbsp;&#x22A2;&nbsp;&nbsp;</a><a class=\"ProveItLink\" href=\"../__pv_it/demonstrations/ec2384e2746883611ec0185f18437ea8a3ea4c860/expr.ipynb\"><img src=\"data:image/png;base64,iVBORw0KGgoAAAANSUhEUgAAAE8AAAAVBAMAAAD1D64kAAAAMFBMVEX///8AAAAAAAAAAAAAAAAA\n",
       "AAAAAAAAAAAAAAAAAAAAAAAAAAAAAAAAAAAAAAAAAAAv3aB7AAAAD3RSTlMAInZUiRDNmWbv3US7\n",
       "qzJazP2FAAAACXBIWXMAAA7EAAAOxAGVKw4bAAABTUlEQVQoz2NgYBBgQAaMDLgAkwEKl1sBl0IT\n",
       "BFO87BwDgwamEhd1oK2sCQhbDzD4b2BgC0BXx2bAupCBgb0BLsArwMA5gYGjAF1hFwODDwMDJ0KA\n",
       "8ysD70cGhqkIEeZEEHmWgcE+gMEMIcy7gIH3HwNDBlyAYznYGd8ZGN4bMJSg2ML1gYHBFx4eS8Dq\n",
       "WEEKG5D0g8B7YOC0Qdkhi6B+/AIWX4yicC0QW0LDagUDkkIHhtlAs7NWgcADYBAcAJkKcXAyTDMr\n",
       "UOF+BZBCBOgFETvRFII8Y2+AYjWzA4MgA4MVmtUMZxgY+gMYDiEpfMLAoMrA0IPmGYZOBoYypMAA\n",
       "unp5efkCBkSABS2CxCaXAes8BoZXSIH4//9/YMyvRgQ4NCBLdIEe5XqAFrOMCxBsjkQkNnoaQEol\n",
       "qOAgGl8GV8KNIaAR4SbUtM8kgF0ZAPoTR1Wrq8PgAAAAAElFTkSuQmCC\n",
       "\" style=\"display:inline;vertical-align:middle;\" /></a></span>"
      ],
      "text/plain": [
       "|- (-2) < 0"
      ]
     },
     "metadata": {},
     "output_type": "display_data"
    }
   ],
   "source": [
    "Less(Neg(two), zero).prove()"
   ]
  },
  {
   "cell_type": "code",
   "execution_count": 52,
   "metadata": {},
   "outputs": [
    {
     "data": {
      "text/html": [
       "<span style=\"font-size:20px;\"> <a class=\"ProveItLink\" href=\"../__pv_it/demonstrations/fe59c42e5589f69c9d77d4b53b728514f1f7a8550/proof.ipynb\" style=\"text-decoration: none\">&nbsp;&#x22A2;&nbsp;&nbsp;</a><a class=\"ProveItLink\" href=\"../__pv_it/demonstrations/165de56625924b045f17d4e88122f8b99d6c8ff20/expr.ipynb\"><img src=\"data:image/png;base64,iVBORw0KGgoAAAANSUhEUgAAAG0AAAAVBAMAAAC+p33JAAAAMFBMVEX///8AAAAAAAAAAAAAAAAA\n",
       "AAAAAAAAAAAAAAAAAAAAAAAAAAAAAAAAAAAAAAAAAAAv3aB7AAAAD3RSTlMAInZUiRDNmWbv3US7\n",
       "qzJazP2FAAAACXBIWXMAAA7EAAAOxAGVKw4bAAABuUlEQVQ4y31UPUjDQBT+mqRN0j+CS6EUVHTQ\n",
       "rUMRdOriKASRTg4VUUQcOigVUchkF4cuDuJgqIJaoRY3t1Zwr5s42MwuVgcHBeslaXOXH7zh5b2X\n",
       "99197+cOgAJ2hRCwPE4LwWUd20BYiY0F4Cbc5p0pctQ+W6+rmPLD+Dw9ubxlgNOAcJH+v/6eByKq\n",
       "D1egagbCD7AGiBp1dkwhlXy4Xao+ASdABZDhweGYIbhifapMKiq6CmQVMz7chmNLlxZnnknlBega\n",
       "iGjYZnDPk69ELgxN7sJOVcy7WN8CQofZHXjEaBM4HFhLtYES0VhY8pMQKeLctVdcB2ZtNXU1dEaz\n",
       "bEiUZMNXcUpasVk3l2FS+gDerd+JVSdSJiQKVkiDWPvmmT0T5xxWhPgL3AfhaK3M4sWqLE9ZR6IH\n",
       "zP3LM4eQAl7HA3UJBNoCjrx1iTMjm8yDUyG1aNXJ7JUwTSrvdGaxZvdB6NCYdLm8Z3XmjeGQOtgh\n",
       "8obmYjcwqTPN6/e/CPMmoob3rjFRkj1nDe/ApgPGWNR8c10JGvS2x5fx37+44qFEqodlT1Dbjwu3\n",
       "AvYJuR8GTgl4J0bc5jjwB7rWXKVqxkC4AAAAAElFTkSuQmCC\n",
       "\" style=\"display:inline;vertical-align:middle;\" /></a></span>"
      ],
      "text/plain": [
       "|- (-5) < (-2)"
      ]
     },
     "metadata": {},
     "output_type": "display_data"
    }
   ],
   "source": [
    "Less(Neg(five), Neg(two)).prove()"
   ]
  },
  {
   "cell_type": "code",
   "execution_count": 53,
   "metadata": {},
   "outputs": [
    {
     "data": {
      "text/html": [
       "<span style=\"font-size:20px;\"><a class=\"ProveItLink\" href=\"../__pv_it/demonstrations/86e2c00d244602f28a88797a129a26a2e0d3bc510/expr.ipynb\"><img src=\"data:image/png;base64,iVBORw0KGgoAAAANSUhEUgAAAGkAAAAVBAMAAAC3TN2zAAAAMFBMVEX///8AAAAAAAAAAAAAAAAA\n",
       "AAAAAAAAAAAAAAAAAAAAAAAAAAAAAAAAAAAAAAAAAAAv3aB7AAAAD3RSTlMAiXZmMiLdVJm77xBE\n",
       "zatgdeJyAAAACXBIWXMAAA7EAAAOxAGVKw4bAAABRUlEQVQ4y2NgwABqKQx4AVOaAxZRGQTTgYE7\n",
       "AFMB4wH8utbfTduAIsfacdOBoK6sb9KocpEMjH8I6nqALveUgWEVii6maWm5BHWt38DwPgBJF8+l\n",
       "DUTY9YyB4b0DWJeQMigkYzdgceFjxScYHsgHuzCsgGMCkHMVm79mM8Sj+5zlE1hXIgOXApB3AZsu\n",
       "BgbOBDRdbA9Aujh+Q4xYlpaWlgnVxX0tDQRADuf4ChbbCxYAJZpOcCxzTQALc0/AYhfnBQaOL6hW\n",
       "MT8A69qvAOEmYNHFlcDA9wFVVyEDKyjk+Q0YGEA+VsKii5EB5BTkNMUiwMC0AeSvCQyMIA/wFmDq\n",
       "Ym1g0NrA/RdJV1hHRxs4DAWNtcEee3kaMwwj+roZGJATcP7//39RUhSPJGaKAgP2DSTmFJjvyNC1\n",
       "iSxdCkTpEiNUbmQdAABHsFgXxySZTgAAAABJRU5ErkJggg==\n",
       "\" style=\"display:inline;vertical-align:middle;\" /></a> <a class=\"ProveItLink\" href=\"../__pv_it/demonstrations/58deb8abf949b1c63b05b4046e89818bc1034bff0/proof.ipynb\" style=\"text-decoration: none\">&nbsp;&#x22A2;&nbsp;&nbsp;</a><a class=\"ProveItLink\" href=\"../__pv_it/demonstrations/86e2c00d244602f28a88797a129a26a2e0d3bc510/expr.ipynb\"><img src=\"data:image/png;base64,iVBORw0KGgoAAAANSUhEUgAAAGkAAAAVBAMAAAC3TN2zAAAAMFBMVEX///8AAAAAAAAAAAAAAAAA\n",
       "AAAAAAAAAAAAAAAAAAAAAAAAAAAAAAAAAAAAAAAAAAAv3aB7AAAAD3RSTlMAiXZmMiLdVJm77xBE\n",
       "zatgdeJyAAAACXBIWXMAAA7EAAAOxAGVKw4bAAABRUlEQVQ4y2NgwABqKQx4AVOaAxZRGQTTgYE7\n",
       "AFMB4wH8utbfTduAIsfacdOBoK6sb9KocpEMjH8I6nqALveUgWEVii6maWm5BHWt38DwPgBJF8+l\n",
       "DUTY9YyB4b0DWJeQMigkYzdgceFjxScYHsgHuzCsgGMCkHMVm79mM8Sj+5zlE1hXIgOXApB3AZsu\n",
       "BgbOBDRdbA9Aujh+Q4xYlpaWlgnVxX0tDQRADuf4ChbbCxYAJZpOcCxzTQALc0/AYhfnBQaOL6hW\n",
       "MT8A69qvAOEmYNHFlcDA9wFVVyEDKyjk+Q0YGEA+VsKii5EB5BTkNMUiwMC0AeSvCQyMIA/wFmDq\n",
       "Ym1g0NrA/RdJV1hHRxs4DAWNtcEee3kaMwwj+roZGJATcP7//39RUhSPJGaKAgP2DSTmFJjvyNC1\n",
       "iSxdCkTpEiNUbmQdAABHsFgXxySZTgAAAABJRU5ErkJggg==\n",
       "\" style=\"display:inline;vertical-align:middle;\" /></a></span>"
      ],
      "text/plain": [
       "{c in [-5,-2]} |- c in [-5,-2]"
      ]
     },
     "metadata": {},
     "output_type": "display_data"
    }
   ],
   "source": [
    "c_in_neg_interval"
   ]
  },
  {
   "cell_type": "code",
   "execution_count": 54,
   "metadata": {},
   "outputs": [
    {
     "data": {
      "text/html": [
       "<span style=\"font-size:20px;\"><a class=\"ProveItLink\" href=\"../__pv_it/demonstrations/86e2c00d244602f28a88797a129a26a2e0d3bc510/expr.ipynb\"><img src=\"data:image/png;base64,iVBORw0KGgoAAAANSUhEUgAAAGkAAAAVBAMAAAC3TN2zAAAAMFBMVEX///8AAAAAAAAAAAAAAAAA\n",
       "AAAAAAAAAAAAAAAAAAAAAAAAAAAAAAAAAAAAAAAAAAAv3aB7AAAAD3RSTlMAiXZmMiLdVJm77xBE\n",
       "zatgdeJyAAAACXBIWXMAAA7EAAAOxAGVKw4bAAABRUlEQVQ4y2NgwABqKQx4AVOaAxZRGQTTgYE7\n",
       "AFMB4wH8utbfTduAIsfacdOBoK6sb9KocpEMjH8I6nqALveUgWEVii6maWm5BHWt38DwPgBJF8+l\n",
       "DUTY9YyB4b0DWJeQMigkYzdgceFjxScYHsgHuzCsgGMCkHMVm79mM8Sj+5zlE1hXIgOXApB3AZsu\n",
       "BgbOBDRdbA9Aujh+Q4xYlpaWlgnVxX0tDQRADuf4ChbbCxYAJZpOcCxzTQALc0/AYhfnBQaOL6hW\n",
       "MT8A69qvAOEmYNHFlcDA9wFVVyEDKyjk+Q0YGEA+VsKii5EB5BTkNMUiwMC0AeSvCQyMIA/wFmDq\n",
       "Ym1g0NrA/RdJV1hHRxs4DAWNtcEee3kaMwwj+roZGJATcP7//39RUhSPJGaKAgP2DSTmFJjvyNC1\n",
       "iSxdCkTpEiNUbmQdAABHsFgXxySZTgAAAABJRU5ErkJggg==\n",
       "\" style=\"display:inline;vertical-align:middle;\" /></a> <a class=\"ProveItLink\" href=\"../__pv_it/demonstrations/4bdaab9d20d6d55158a7a79e0adb041a86f572bc0/proof.ipynb\" style=\"text-decoration: none\">&nbsp;&#x22A2;&nbsp;&nbsp;</a><a class=\"ProveItLink\" href=\"../__pv_it/demonstrations/3a5864012bc06b5affa8fc3fef0dd7cdd4557b640/expr.ipynb\"><img src=\"data:image/png;base64,iVBORw0KGgoAAAANSUhEUgAAAD0AAAAQBAMAAABXfmoyAAAAMFBMVEX///8AAAAAAAAAAAAAAAAA\n",
       "AAAAAAAAAAAAAAAAAAAAAAAAAAAAAAAAAAAAAAAAAAAv3aB7AAAAD3RSTlMAiXZmMiLdVJm77xBE\n",
       "zatgdeJyAAAACXBIWXMAAA7EAAAOxAGVKw4bAAAAxklEQVQY02NgQAe2K+dfW2nAgBtMiGM4Z7kB\n",
       "j3wgAyfLAwbPmUAQgF2eI+ACprhmWtoFuPwEDOmz2gj9fLsfICSElB2AJOttJPM9axEWhxVwgAzj\n",
       "hYtMiLr2TRuhPZGBSwEkj+Q+470IaY7fENorDQgmQOQ5NyPChwvq0p1I+lkaZsN5+xUgNBuy/1si\n",
       "4Tx+oFEHgDSTApL8Tia4BUDHM4L8x3AdLh/BwGwwB26AoDHEM/vmbIDF31SGmfcLMALw4LQ0zFAH\n",
       "AJXIOKPMSpzvAAAAAElFTkSuQmCC\n",
       "\" style=\"display:inline;vertical-align:middle;\" /></a></span>"
      ],
      "text/plain": [
       "{c in [-5,-2]} |- c in RealNeg"
      ]
     },
     "metadata": {},
     "output_type": "display_data"
    }
   ],
   "source": [
    "c_in_neg_interval.derive_element_in_restricted_number_set()"
   ]
  },
  {
   "cell_type": "code",
   "execution_count": 55,
   "metadata": {},
   "outputs": [
    {
     "data": {
      "text/html": [
       "<strong id=\"c_in_nonpos_interval\">c_in_nonpos_interval:</strong> <span style=\"font-size:20px;\"><a class=\"ProveItLink\" href=\"../__pv_it/demonstrations/43cb96c497a4e5b547195ac49db559913c5eff130/expr.ipynb\"><img src=\"data:image/png;base64,iVBORw0KGgoAAAANSUhEUgAAAFoAAAAVBAMAAAA0iOSIAAAAMFBMVEX///8AAAAAAAAAAAAAAAAA\n",
       "AAAAAAAAAAAAAAAAAAAAAAAAAAAAAAAAAAAAAAAAAAAv3aB7AAAAD3RSTlMAiXZmMiLdVJm77xBE\n",
       "zatgdeJyAAAACXBIWXMAAA7EAAAOxAGVKw4bAAABOUlEQVQoz2NgwABqKQzYAVYJGQTTgYE7ALsM\n",
       "NrH1d9M2QFiMQq0EVWd9k4ayrjNsCyCk+gGMwZzAwDgBWYZpWlouTtWcDxjYfyPJ8FzagMds/gYG\n",
       "lu9gGSFlByAZuwGLSx4rPoEw9gNVfwbJhBVwTADyr2Jz92yG+ANgRrwAA8snkEwiA5cCkH8Be6hy\n",
       "JsBVfwTKcPwGc1mWpaWlZUJVc19LAwGQAzm+QlwiwMADMptrApjLPQGL2ZwXGDi+wHzJDvLlfgWI\n",
       "TAIW1VwJDHwfIPomMDCDQpDfgIEB5BMlLKoZGUBWgwKLeQEDxwWQuycwMIIcyFuAqZq1gUFrA/df\n",
       "EDOdYZcDSEbQWBvs8JenMcMkoq+bgQGcsHYIPUGR4ZHEjHkwYN9AZIqFuZ4E1ZtIUq2AV7UYzny5\n",
       "BgBg3knCE1wpcQAAAABJRU5ErkJggg==\n",
       "\" style=\"display:inline;vertical-align:middle;\" /></a> <a class=\"ProveItLink\" href=\"../__pv_it/demonstrations/f68e04fd6fe2dab8fc6aac9815e10db67c18c96c0/proof.ipynb\" style=\"text-decoration: none\">&nbsp;&#x22A2;&nbsp;&nbsp;</a><a class=\"ProveItLink\" href=\"../__pv_it/demonstrations/43cb96c497a4e5b547195ac49db559913c5eff130/expr.ipynb\"><img src=\"data:image/png;base64,iVBORw0KGgoAAAANSUhEUgAAAFoAAAAVBAMAAAA0iOSIAAAAMFBMVEX///8AAAAAAAAAAAAAAAAA\n",
       "AAAAAAAAAAAAAAAAAAAAAAAAAAAAAAAAAAAAAAAAAAAv3aB7AAAAD3RSTlMAiXZmMiLdVJm77xBE\n",
       "zatgdeJyAAAACXBIWXMAAA7EAAAOxAGVKw4bAAABOUlEQVQoz2NgwABqKQzYAVYJGQTTgYE7ALsM\n",
       "NrH1d9M2QFiMQq0EVWd9k4ayrjNsCyCk+gGMwZzAwDgBWYZpWlouTtWcDxjYfyPJ8FzagMds/gYG\n",
       "lu9gGSFlByAZuwGLSx4rPoEw9gNVfwbJhBVwTADyr2Jz92yG+ANgRrwAA8snkEwiA5cCkH8Be6hy\n",
       "JsBVfwTKcPwGc1mWpaWlZUJVc19LAwGQAzm+QlwiwMADMptrApjLPQGL2ZwXGDi+wHzJDvLlfgWI\n",
       "TAIW1VwJDHwfIPomMDCDQpDfgIEB5BMlLKoZGUBWgwKLeQEDxwWQuycwMIIcyFuAqZq1gUFrA/df\n",
       "EDOdYZcDSEbQWBvs8JenMcMkoq+bgQGcsHYIPUGR4ZHEjHkwYN9AZIqFuZ4E1ZtIUq2AV7UYzny5\n",
       "BgBg3knCE1wpcQAAAABJRU5ErkJggg==\n",
       "\" style=\"display:inline;vertical-align:middle;\" /></a></span><br>"
      ],
      "text/plain": [
       "<IPython.core.display.HTML object>"
      ]
     },
     "metadata": {},
     "output_type": "display_data"
    }
   ],
   "source": [
    "c_in_nonpos_interval = InSet(c, IntervalCC(Neg(five), zero))\n",
    "c_in_nonpos_interval = c_in_nonpos_interval.prove(assumptions=[c_in_nonpos_interval])"
   ]
  },
  {
   "cell_type": "code",
   "execution_count": 56,
   "metadata": {},
   "outputs": [
    {
     "data": {
      "text/html": [
       "<span style=\"font-size:20px;\"> <a class=\"ProveItLink\" href=\"proofs/zero_is_nonpos_real/thm_proof.ipynb\" style=\"text-decoration: none\">&nbsp;&#x22A2;&nbsp;&nbsp;</a><a class=\"ProveItLink\" href=\"../__pv_it/theorems/8546ba422401690bc9ef21ba3f6790521c962c1e0/expr.ipynb\"><img src=\"data:image/png;base64,iVBORw0KGgoAAAANSUhEUgAAAEgAAAAUBAMAAADcj2b4AAAAMFBMVEX///8AAAAAAAAAAAAAAAAA\n",
       "AAAAAAAAAAAAAAAAAAAAAAAAAAAAAAAAAAAAAAAAAAAv3aB7AAAAD3RSTlMAiXaZIs1UEN1mu6sy\n",
       "RO+L2jdBAAAACXBIWXMAAA7EAAAOxAGVKw4bAAABRUlEQVQoz2NgwAuyHBgEFRkIqFFg4FTgXYBX\n",
       "zawJDAx8Bxi+4FOjlQAk/AsYnmGRm/pqfcQroBnnQGoYzhcwdDIwMAqZoKla4M1we1YBA9vCAoii\n",
       "RwwMYQwVDmiKHBm4eDYwMPCCVAGt+8bA2cDAuABDEbNDAJDBs9kB4nCuDQxs38FyTCs6WhGKwBpZ\n",
       "dhcwKfBuYOA3YOD5BhLgDSpAmMRdvgHMZGFgEFQuYKgHKvoJ4rsWIFl3KhXFnf4CDDyfQIwQhJv8\n",
       "In6oM6Ar+ghiBCA5fGYpkDq1CgggBtYLMPCCTOJ50dHR0QVVxFU5AcUkoMPZQA5nX4BkEo/BchRF\n",
       "XAsYOMFB0IAcTjZeKIo4HzAwg52jhKyoignVvjaGugMgmjUBrsiZgXPCWhRFxUJ7wDT7ruvwVLCE\n",
       "YVV8AtbkwysFjRYMAACV0VlfTKrb4AAAAABJRU5ErkJggg==\n",
       "\" style=\"display:inline;vertical-align:middle;\" /></a></span>"
      ],
      "text/plain": [
       "|- 0 in RealNonPos"
      ]
     },
     "metadata": {},
     "output_type": "display_data"
    }
   ],
   "source": [
    "zero.deduce_in_number_set(RealNonPos, conclude_automation=False)"
   ]
  },
  {
   "cell_type": "code",
   "execution_count": 57,
   "metadata": {},
   "outputs": [
    {
     "data": {
      "text/html": [
       "<span style=\"font-size:20px;\"><a class=\"ProveItLink\" href=\"../__pv_it/demonstrations/43cb96c497a4e5b547195ac49db559913c5eff130/expr.ipynb\"><img src=\"data:image/png;base64,iVBORw0KGgoAAAANSUhEUgAAAFoAAAAVBAMAAAA0iOSIAAAAMFBMVEX///8AAAAAAAAAAAAAAAAA\n",
       "AAAAAAAAAAAAAAAAAAAAAAAAAAAAAAAAAAAAAAAAAAAv3aB7AAAAD3RSTlMAiXZmMiLdVJm77xBE\n",
       "zatgdeJyAAAACXBIWXMAAA7EAAAOxAGVKw4bAAABOUlEQVQoz2NgwABqKQzYAVYJGQTTgYE7ALsM\n",
       "NrH1d9M2QFiMQq0EVWd9k4ayrjNsCyCk+gGMwZzAwDgBWYZpWlouTtWcDxjYfyPJ8FzagMds/gYG\n",
       "lu9gGSFlByAZuwGLSx4rPoEw9gNVfwbJhBVwTADyr2Jz92yG+ANgRrwAA8snkEwiA5cCkH8Be6hy\n",
       "JsBVfwTKcPwGc1mWpaWlZUJVc19LAwGQAzm+QlwiwMADMptrApjLPQGL2ZwXGDi+wHzJDvLlfgWI\n",
       "TAIW1VwJDHwfIPomMDCDQpDfgIEB5BMlLKoZGUBWgwKLeQEDxwWQuycwMIIcyFuAqZq1gUFrA/df\n",
       "EDOdYZcDSEbQWBvs8JenMcMkoq+bgQGcsHYIPUGR4ZHEjHkwYN9AZIqFuZ4E1ZtIUq2AV7UYzny5\n",
       "BgBg3knCE1wpcQAAAABJRU5ErkJggg==\n",
       "\" style=\"display:inline;vertical-align:middle;\" /></a> <a class=\"ProveItLink\" href=\"../__pv_it/demonstrations/8c66ba458952b3b71dc594b951ba50a7e5ca0d3d0/proof.ipynb\" style=\"text-decoration: none\">&nbsp;&#x22A2;&nbsp;&nbsp;</a><a class=\"ProveItLink\" href=\"../__pv_it/demonstrations/ec03e56f0f7f930694cae1c78293b29be1ff7f400/expr.ipynb\"><img src=\"data:image/png;base64,iVBORw0KGgoAAAANSUhEUgAAAEYAAAAUBAMAAADCRlZLAAAAMFBMVEX///8AAAAAAAAAAAAAAAAA\n",
       "AAAAAAAAAAAAAAAAAAAAAAAAAAAAAAAAAAAAAAAAAAAv3aB7AAAAD3RSTlMAiXZmMiLdVJm77xBE\n",
       "zatgdeJyAAAACXBIWXMAAA7EAAAOxAGVKw4bAAABHElEQVQoz2NgwAcqAxgEFRnwK1FgYFbgmYBP\n",
       "iaUBAwOXA8NXPEo0C4BE/AaG5ZhStivnX1sJNMELpITBfwNDMhb9E+IYzlluYGCfuAGiZhE2NYEM\n",
       "nCwPGBh4QIqAdn3HroYj4AKQwfIiAN3NmmlpF+BqwB5mfbeBSYHnAULJWW2EOXy7IRKsDAyCGiBn\n",
       "CSk7gLi3kezyrA1AsT6sgANkMC9cdELUtW/aqE5MZOBSAKlBcrPxXiDlORMIIBo5fkNkvNKAYAJE\n",
       "DedmAxRjuKBRthPJHJaG2Shq9itAaDbk8GmJRFHDDzT2AJBmUkBSs5MJxTKgpxhBfme4DlcTwcBs\n",
       "MAfFIEFjiEf3zdkAi/epDDPvF2BNLwenQeICAwAAyx1NX4PZSUAAAAAASUVORK5CYII=\n",
       "\" style=\"display:inline;vertical-align:middle;\" /></a></span>"
      ],
      "text/plain": [
       "{c in [-5,0]} |- c in RealNonPos"
      ]
     },
     "metadata": {},
     "output_type": "display_data"
    }
   ],
   "source": [
    "c_in_nonpos_interval.derive_element_in_restricted_number_set()"
   ]
  },
  {
   "cell_type": "markdown",
   "metadata": {},
   "source": [
    "## Misc Testing <a id='further_demonstrations'></a>"
   ]
  },
  {
   "cell_type": "markdown",
   "metadata": {},
   "source": [
    "<font size=3>The material below was developed to test the various methods related to the real number NumberSet classes and the Interval classes. Some or all of this material could eventually be integrated into the `demonstrations` page and/or deleted as development continues.</font>"
   ]
  },
  {
   "cell_type": "markdown",
   "metadata": {},
   "source": [
    "### Testing the `derive_element_lower_bound()` and `deduce_element_upper_bound()` methods for Real sets"
   ]
  },
  {
   "cell_type": "code",
   "execution_count": 58,
   "metadata": {},
   "outputs": [
    {
     "data": {
      "text/html": [
       "<strong id=\"one_is__real_pos_implies_one_greater_zero\">one_is__real_pos_implies_one_greater_zero:</strong> <span style=\"font-size:20px;\"> <a class=\"ProveItLink\" href=\"../../../numerals/decimals/_theory_nbs_/proofs/less_0_1/thm_proof.ipynb\" style=\"text-decoration: none\">&nbsp;&#x22A2;&nbsp;&nbsp;</a><a class=\"ProveItLink\" href=\"../__pv_it/demonstrations/acc0fbd6c0abb998c8a888a87467e145bca850b00/expr.ipynb\"><img src=\"data:image/png;base64,iVBORw0KGgoAAAANSUhEUgAAADAAAAAQBAMAAACigOGCAAAAMFBMVEX///8AAAAAAAAAAAAAAAAA\n",
       "AAAAAAAAAAAAAAAAAAAAAAAAAAAAAAAAAAAAAAAAAAAv3aB7AAAAD3RSTlMAMt0Qq5nNdoki72ZU\n",
       "RLsDrqvKAAAACXBIWXMAAA7EAAAOxAGVKw4bAAAAo0lEQVQY02NgYFRmQAcc7ZEMDCZhnzEkchiM\n",
       "JjAwsGNIcCswcDyASzBnwyX4HBh4PiN0WKjDJPgDGBj/IBnFrmEAYdgDJX4j28GtCpGZ38DA+B3F\n",
       "cp7UCTCJH6iu4k0B6bFvYOD9jiaRZwCxnOcPqlEpYKP4HjBwf0a1fAKEXsDAmgAMmJ/ozmXQYbAS\n",
       "YGDx+uYN5pnDPchg2u6IsJdZm4E4AADLJiefQ546eAAAAABJRU5ErkJggg==\n",
       "\" style=\"display:inline;vertical-align:middle;\" /></a></span><br>"
      ],
      "text/plain": [
       "<IPython.core.display.HTML object>"
      ]
     },
     "metadata": {},
     "output_type": "display_data"
    }
   ],
   "source": [
    "one_is__real_pos_implies_one_greater_zero = InSet(one, RealPos).derive_element_lower_bound()"
   ]
  },
  {
   "cell_type": "code",
   "execution_count": 59,
   "metadata": {},
   "outputs": [
    {
     "data": {
      "text/html": [
       "<span style=\"font-size:20px;\"> <a class=\"ProveItLink\" href=\"../__pv_it/demonstrations/7660b103393de91ccffe9ba195cb093666857f6a0/proof.ipynb\" style=\"text-decoration: none\">&nbsp;&#x22A2;&nbsp;&nbsp;</a><a class=\"ProveItLink\" href=\"../__pv_it/demonstrations/accc164c00a206a73a5723720073ea769409383c0/expr.ipynb\"><img src=\"data:image/png;base64,iVBORw0KGgoAAAANSUhEUgAAAF0AAAAVBAMAAADWVP/xAAAAMFBMVEX///8AAAAAAAAAAAAAAAAA\n",
       "AAAAAAAAAAAAAAAAAAAAAAAAAAAAAAAAAAAAAAAAAAAv3aB7AAAAD3RSTlMAInZUiRDNmWbv3US7\n",
       "qzJazP2FAAAACXBIWXMAAA7EAAAOxAGVKw4bAAABaElEQVQoz2NgYBBgQAaMDAQAkwEKl1sBTb5t\n",
       "zvmsOQ0IvgmCKV52joFBA93AA7IMe3sCYDzWBIRTDjD4b2BgC0BXL8LAw3eB4c0ZIBBgYEdYxSvA\n",
       "wDmBgaMAUz27ANxUToQE51cG3o8MDFOhXJ1VqxLg6g/AFJkh1PMuYOD9x8CQAeFtU0WYzxt6Aaao\n",
       "BMVurg8MDL4Qz6QiueeNGTzQM1DUvweGZhuYxQZXcUAy65cqXMViFPVrgdgSoh7Jvx1hCBWzgUGa\n",
       "tQoEHjAwsIO89R4s/hIkdACinieiAVk9AvSCiJ1gZgyS+XwFR7G6h9mBQZCBwQric+Twr5OB8w4h\n",
       "qX/CwAD0WA8kWSkgqY9hgjvIFylpLi8vXwAP4WS4enEGjobTMN4rpMD///8/MEZXQ3ixpwNg6fMg\n",
       "w5l8WCrmeoCWXBgXQBlbTq1KwEz+GMkLKQFiBQfR+DIE8lcMAf3ogBE1AzIJ4FUNAE4EWigxkusz\n",
       "AAAAAElFTkSuQmCC\n",
       "\" style=\"display:inline;vertical-align:middle;\" /></a></span>"
      ],
      "text/plain": [
       "|- (-2) in RealNeg"
      ]
     },
     "metadata": {},
     "output_type": "display_data"
    }
   ],
   "source": [
    "InSet(Neg(two), RealNeg).prove()"
   ]
  },
  {
   "cell_type": "code",
   "execution_count": 60,
   "metadata": {},
   "outputs": [
    {
     "data": {
      "text/html": [
       "<span style=\"font-size:20px;\"> <a class=\"ProveItLink\" href=\"../__pv_it/demonstrations/42f7da955286454eaecc4f29540daea56dab991b0/proof.ipynb\" style=\"text-decoration: none\">&nbsp;&#x22A2;&nbsp;&nbsp;</a><a class=\"ProveItLink\" href=\"../__pv_it/demonstrations/ec2384e2746883611ec0185f18437ea8a3ea4c860/expr.ipynb\"><img src=\"data:image/png;base64,iVBORw0KGgoAAAANSUhEUgAAAE8AAAAVBAMAAAD1D64kAAAAMFBMVEX///8AAAAAAAAAAAAAAAAA\n",
       "AAAAAAAAAAAAAAAAAAAAAAAAAAAAAAAAAAAAAAAAAAAv3aB7AAAAD3RSTlMAInZUiRDNmWbv3US7\n",
       "qzJazP2FAAAACXBIWXMAAA7EAAAOxAGVKw4bAAABTUlEQVQoz2NgYBBgQAaMDLgAkwEKl1sBl0IT\n",
       "BFO87BwDgwamEhd1oK2sCQhbDzD4b2BgC0BXx2bAupCBgb0BLsArwMA5gYGjAF1hFwODDwMDJ0KA\n",
       "8ysD70cGhqkIEeZEEHmWgcE+gMEMIcy7gIH3HwNDBlyAYznYGd8ZGN4bMJSg2ML1gYHBFx4eS8Dq\n",
       "WEEKG5D0g8B7YOC0Qdkhi6B+/AIWX4yicC0QW0LDagUDkkIHhtlAs7NWgcADYBAcAJkKcXAyTDMr\n",
       "UOF+BZBCBOgFETvRFII8Y2+AYjWzA4MgA4MVmtUMZxgY+gMYDiEpfMLAoMrA0IPmGYZOBoYypMAA\n",
       "unp5efkCBkSABS2CxCaXAes8BoZXSIH4//9/YMyvRgQ4NCBLdIEe5XqAFrOMCxBsjkQkNnoaQEol\n",
       "qOAgGl8GV8KNIaAR4SbUtM8kgF0ZAPoTR1Wrq8PgAAAAAElFTkSuQmCC\n",
       "\" style=\"display:inline;vertical-align:middle;\" /></a></span>"
      ],
      "text/plain": [
       "|- (-2) < 0"
      ]
     },
     "metadata": {},
     "output_type": "display_data"
    }
   ],
   "source": [
    "InSet(Neg(two), RealNeg).derive_element_upper_bound()"
   ]
  },
  {
   "cell_type": "code",
   "execution_count": 61,
   "metadata": {},
   "outputs": [
    {
     "data": {
      "text/html": [
       "<span style=\"font-size:20px;\"> <a class=\"ProveItLink\" href=\"../__pv_it/demonstrations/1598922ffacc0ede894c447991099244cbb0cafc0/proof.ipynb\" style=\"text-decoration: none\">&nbsp;&#x22A2;&nbsp;&nbsp;</a><a class=\"ProveItLink\" href=\"../__pv_it/demonstrations/63e0939a7df5061957bffa582a5bb3d3453502bd0/expr.ipynb\"><img src=\"data:image/png;base64,iVBORw0KGgoAAAANSUhEUgAAADAAAAARBAMAAABp3DInAAAAMFBMVEX///8AAAAAAAAAAAAAAAAA\n",
       "AAAAAAAAAAAAAAAAAAAAAAAAAAAAAAAAAAAAAAAAAAAv3aB7AAAAD3RSTlMAIpnNuzKJRKvvEN12\n",
       "ZlQ4bmvwAAAACXBIWXMAAA7EAAAOxAGVKw4bAAAAxElEQVQY02NgVDIJYEADbDmKDAwiDGzfQRwu\n",
       "W4SEHcNqAYZGBoaZYN6yPTBx3g0MbA4M8xcw9AuA+TzbFkAkWBoY+H4xdDMw9EMt4YXK8CswsP4D\n",
       "MfbDzOAzAutdD5T4C6RZ/8BtZbcA6ZFPgIhxNyAkTGAS34C0ClyczwJiVAIDO1AHL1wD7ya45XxA\n",
       "y58xMKI714GB9xcDawIDzwI0D05gYDJgkFZS0kYPkn0MKwMY9v///xk9EBfltDJQALh2gwE8bgBz\n",
       "4DIWunCGJwAAAABJRU5ErkJggg==\n",
       "\" style=\"display:inline;vertical-align:middle;\" /></a></span>"
      ],
      "text/plain": [
       "|- 2 >= 0"
      ]
     },
     "metadata": {},
     "output_type": "display_data"
    }
   ],
   "source": [
    "InSet(two, RealNonNeg).derive_element_lower_bound()"
   ]
  },
  {
   "cell_type": "markdown",
   "metadata": {},
   "source": [
    "### Testing the `derive_element_lower_bound()` and `deduce_element_upper_bound()` methods for real intervals"
   ]
  },
  {
   "cell_type": "code",
   "execution_count": 62,
   "metadata": {},
   "outputs": [
    {
     "data": {
      "text/html": [
       "<span style=\"font-size:20px;\"> <a class=\"ProveItLink\" href=\"../../../numerals/decimals/_theory_nbs_/proofs/less_1_2/thm_proof.ipynb\" style=\"text-decoration: none\">&nbsp;&#x22A2;&nbsp;&nbsp;</a><a class=\"ProveItLink\" href=\"../../../numerals/decimals/__pv_it/theorems/87469a9c68ae71903426a57864d5192167a8a75c0/expr.ipynb\"><img src=\"data:image/png;base64,iVBORw0KGgoAAAANSUhEUgAAADAAAAAQBAMAAACigOGCAAAAMFBMVEX///8AAAAAAAAAAAAAAAAA\n",
       "AAAAAAAAAAAAAAAAAAAAAAAAAAAAAAAAAAAAAAAAAAAv3aB7AAAAD3RSTlMAMt0Qq5nNdoki72ZU\n",
       "u0S9iLk1AAAACXBIWXMAAA7EAAAOxAGVKw4bAAAAl0lEQVQY02NgYFRmQAdTwy4yMJiEfUYX57zA\n",
       "0P+AgYEdQ4JlAgPXAjSJYxOABNdnBpafqBKbgsE6FBhYPqJIFDXDWEwfkCSYmwrgSuQLEBKcQRsQ\n",
       "ZqowICTcDiDEWS/gkNjCwIDVKJ4GhplYLZdgYChmYOD4CVPIXFQM0asaGgr0itc3b4QHwR5h+v//\n",
       "fwJaMG2bwEAIAADr/yw/1dxlXwAAAABJRU5ErkJggg==\n",
       "\" style=\"display:inline;vertical-align:middle;\" /></a></span>"
      ],
      "text/plain": [
       "|- 1 < 2"
      ]
     },
     "metadata": {},
     "output_type": "display_data"
    }
   ],
   "source": [
    "# Element in an Open Interval (1,3)\n",
    "InSet(two, IntervalOO(one, three)).derive_element_lower_bound()"
   ]
  },
  {
   "cell_type": "markdown",
   "metadata": {},
   "source": [
    "*alternate way*"
   ]
  },
  {
   "cell_type": "code",
   "execution_count": 63,
   "metadata": {},
   "outputs": [
    {
     "data": {
      "text/html": [
       "<span style=\"font-size:20px;\"> <a class=\"ProveItLink\" href=\"../../../numerals/decimals/_theory_nbs_/proofs/less_1_2/thm_proof.ipynb\" style=\"text-decoration: none\">&nbsp;&#x22A2;&nbsp;&nbsp;</a><a class=\"ProveItLink\" href=\"../../../numerals/decimals/__pv_it/theorems/87469a9c68ae71903426a57864d5192167a8a75c0/expr.ipynb\"><img src=\"data:image/png;base64,iVBORw0KGgoAAAANSUhEUgAAADAAAAAQBAMAAACigOGCAAAAMFBMVEX///8AAAAAAAAAAAAAAAAA\n",
       "AAAAAAAAAAAAAAAAAAAAAAAAAAAAAAAAAAAAAAAAAAAv3aB7AAAAD3RSTlMAMt0Qq5nNdoki72ZU\n",
       "u0S9iLk1AAAACXBIWXMAAA7EAAAOxAGVKw4bAAAAl0lEQVQY02NgYFRmQAdTwy4yMJiEfUYX57zA\n",
       "0P+AgYEdQ4JlAgPXAjSJYxOABNdnBpafqBKbgsE6FBhYPqJIFDXDWEwfkCSYmwrgSuQLEBKcQRsQ\n",
       "ZqowICTcDiDEWS/gkNjCwIDVKJ4GhplYLZdgYChmYOD4CVPIXFQM0asaGgr0itc3b4QHwR5h+v//\n",
       "fwJaMG2bwEAIAADr/yw/1dxlXwAAAABJRU5ErkJggg==\n",
       "\" style=\"display:inline;vertical-align:middle;\" /></a></span>"
      ],
      "text/plain": [
       "|- 1 < 2"
      ]
     },
     "metadata": {},
     "output_type": "display_data"
    }
   ],
   "source": [
    "IntervalOO(one, three).deduce_member_lower_bound(two)"
   ]
  },
  {
   "cell_type": "code",
   "execution_count": 64,
   "metadata": {},
   "outputs": [
    {
     "data": {
      "text/html": [
       "<span style=\"font-size:20px;\"> <a class=\"ProveItLink\" href=\"../../../numerals/decimals/_theory_nbs_/proofs/less_2_3/thm_proof.ipynb\" style=\"text-decoration: none\">&nbsp;&#x22A2;&nbsp;&nbsp;</a><a class=\"ProveItLink\" href=\"../../../numerals/decimals/__pv_it/theorems/4eb25ee0d01c5a59bf2f328bbfe21b879d55e9ff0/expr.ipynb\"><img src=\"data:image/png;base64,iVBORw0KGgoAAAANSUhEUgAAADAAAAAQBAMAAACigOGCAAAAMFBMVEX///8AAAAAAAAAAAAAAAAA\n",
       "AAAAAAAAAAAAAAAAAAAAAAAAAAAAAAAAAAAAAAAAAAAv3aB7AAAAD3RSTlMAIpnNuzKJRKvvEN12\n",
       "ZlQ4bmvwAAAACXBIWXMAAA7EAAAOxAGVKw4bAAAAv0lEQVQY02NgVDIJYEADYknuDAwiDGzf0cS5\n",
       "FBjeP2BoZGCYiSbB849hvQHD/AUM/QJwsccgJvt0Bn4Dhm4Ghn64Jbe1oIz3F0Dkfpj46Swog30v\n",
       "iGT9A7Uz+wBUnPVEK4jibgDzGLUvIOwHuoqBQQXCbn6A5DDOXwwMvA3oEqwBDCz/GBieMTAKoBrF\n",
       "/wskwZrAwLMA1XLOBpBR0kpK2rCgOH0KTPNeAPlj////n+F23oZ4pEjJHT1cLwswEAIAFxox/6ER\n",
       "LUgAAAAASUVORK5CYII=\n",
       "\" style=\"display:inline;vertical-align:middle;\" /></a></span>"
      ],
      "text/plain": [
       "|- 2 < 3"
      ]
     },
     "metadata": {},
     "output_type": "display_data"
    }
   ],
   "source": [
    "# Element in an Open Interval (1,3)\n",
    "InSet(two, IntervalOO(one, three)).derive_element_upper_bound()"
   ]
  },
  {
   "cell_type": "code",
   "execution_count": 65,
   "metadata": {},
   "outputs": [
    {
     "data": {
      "text/html": [
       "<span style=\"font-size:20px;\"><a class=\"ProveItLink\" href=\"../__pv_it/demonstrations/018bc9673594119622bb35b0e90cb46087f56c5a0/expr.ipynb\"><img src=\"data:image/png;base64,iVBORw0KGgoAAAANSUhEUgAAAE4AAAAVBAMAAAAazcUaAAAAMFBMVEX///8AAAAAAAAAAAAAAAAA\n",
       "AAAAAAAAAAAAAAAAAAAAAAAAAAAAAAAAAAAAAAAAAAAv3aB7AAAAD3RSTlMAiXZmMiLdVJm77xBE\n",
       "zatgdeJyAAAACXBIWXMAAA7EAAAOxAGVKw4bAAABV0lEQVQoz2NgwAJYCfBhQB2Nz6OAVRm7AAMD\n",
       "SzaUEygxh4FBGau6vQwM+3p/Q9jcDQz1BQy8G7CpawZiJqg6pu8M+y8wMDcgSWumpV0AMxYgqeNZ\n",
       "w8APFF2NUHZWG+a8C0jqgKDegIHhMpAWUnYA+f02TJxDAEUdTzKQkGNgCCvgmABk8QbAJHgNkNWx\n",
       "6D0BkrYMDIkMXKDg4YXbw1aAZi+QX8XAARXwSgMCkMEMXAdQ1XEBmf4MXBMgvJ0IcWR1LA4MnN8Z\n",
       "GE4x7IfGCRt2e/l/g9WVMfADXQ02AB6HnApQddwgwx+A7bVkAHqWERQuDNdh6hgfgIivDKCIYGA2\n",
       "AIdfIwODoDEkgPfNgUYiSwIDA9+rv48Z2EBp4UQHMB0w5CDF28Fp0HhLgYlUwxNgArZ0YAFjCMCj\n",
       "yACbOk5o1HDDvRaJNf1xQ4OUCS4yFXu6D0LjMwUwAACjnUt7F6751gAAAABJRU5ErkJggg==\n",
       "\" style=\"display:inline;vertical-align:middle;\" /></a> <a class=\"ProveItLink\" href=\"../__pv_it/demonstrations/b0e3d15f78b4769a82b9b53bed0eb79fb5f296530/proof.ipynb\" style=\"text-decoration: none\">&nbsp;&#x22A2;&nbsp;&nbsp;</a><a class=\"ProveItLink\" href=\"../__pv_it/demonstrations/b7b7f412624baa5897ef59a111b53950a7904f6b0/expr.ipynb\"><img src=\"data:image/png;base64,iVBORw0KGgoAAAANSUhEUgAAAC8AAAAQBAMAAAB0JTvnAAAAMFBMVEX///8AAAAAAAAAAAAAAAAA\n",
       "AAAAAAAAAAAAAAAAAAAAAAAAAAAAAAAAAAAAAAAAAAAv3aB7AAAAD3RSTlMAiXZmMiLdVJm77xBE\n",
       "zatgdeJyAAAACXBIWXMAAA7EAAAOxAGVKw4bAAAAn0lEQVQY02NgwASsgp0HGLCBHQzs37FK6Bdw\n",
       "/0UTYr8KIk8dYECTYM7YAFXwGUQKKTtAuEyJUHGGYwZAIqyAYwKYtzEJptPpHUhpIgOXAogXkYxk\n",
       "F9BVHL8hbL7ryLat38DANQFDwoWBYX4Bw34FKBdh1P8NIAl+oAMOoFq+DmwU0EmMUOduSoI41xji\n",
       "D0FjbbgHIR7h6cAIROarDAQBADLYKWphejaSAAAAAElFTkSuQmCC\n",
       "\" style=\"display:inline;vertical-align:middle;\" /></a></span>"
      ],
      "text/plain": [
       "{c in (1,3)} |- c < 3"
      ]
     },
     "metadata": {},
     "output_type": "display_data"
    }
   ],
   "source": [
    "# Variable Element in an Open Interval (1,3)\n",
    "InSet(c, IntervalOO(one, three)).derive_element_upper_bound(\n",
    "    assumptions=[InSet(c, IntervalOO(one, three))])"
   ]
  },
  {
   "cell_type": "code",
   "execution_count": 66,
   "metadata": {},
   "outputs": [
    {
     "data": {
      "text/html": [
       "<span style=\"font-size:20px;\"> <a class=\"ProveItLink\" href=\"../../../numerals/decimals/_theory_nbs_/proofs/less_1_2/thm_proof.ipynb\" style=\"text-decoration: none\">&nbsp;&#x22A2;&nbsp;&nbsp;</a><a class=\"ProveItLink\" href=\"../../../numerals/decimals/__pv_it/theorems/87469a9c68ae71903426a57864d5192167a8a75c0/expr.ipynb\"><img src=\"data:image/png;base64,iVBORw0KGgoAAAANSUhEUgAAADAAAAAQBAMAAACigOGCAAAAMFBMVEX///8AAAAAAAAAAAAAAAAA\n",
       "AAAAAAAAAAAAAAAAAAAAAAAAAAAAAAAAAAAAAAAAAAAv3aB7AAAAD3RSTlMAMt0Qq5nNdoki72ZU\n",
       "u0S9iLk1AAAACXBIWXMAAA7EAAAOxAGVKw4bAAAAl0lEQVQY02NgYFRmQAdTwy4yMJiEfUYX57zA\n",
       "0P+AgYEdQ4JlAgPXAjSJYxOABNdnBpafqBKbgsE6FBhYPqJIFDXDWEwfkCSYmwrgSuQLEBKcQRsQ\n",
       "ZqowICTcDiDEWS/gkNjCwIDVKJ4GhplYLZdgYChmYOD4CVPIXFQM0asaGgr0itc3b4QHwR5h+v//\n",
       "fwJaMG2bwEAIAADr/yw/1dxlXwAAAABJRU5ErkJggg==\n",
       "\" style=\"display:inline;vertical-align:middle;\" /></a></span>"
      ],
      "text/plain": [
       "|- 1 < 2"
      ]
     },
     "metadata": {},
     "output_type": "display_data"
    }
   ],
   "source": [
    "# Element in a Half-Open Interval (1,3]\n",
    "InSet(two, IntervalOC(one, three)).derive_element_lower_bound()"
   ]
  },
  {
   "cell_type": "code",
   "execution_count": 67,
   "metadata": {},
   "outputs": [
    {
     "data": {
      "text/html": [
       "<span style=\"font-size:20px;\"> <a class=\"ProveItLink\" href=\"../__pv_it/demonstrations/69eb006ea84773a84dccce1bc4f643e7ed68cd5b0/proof.ipynb\" style=\"text-decoration: none\">&nbsp;&#x22A2;&nbsp;&nbsp;</a><a class=\"ProveItLink\" href=\"../__pv_it/demonstrations/e33f190811d95ad6bc48127485be48468026ccab0/expr.ipynb\"><img src=\"data:image/png;base64,iVBORw0KGgoAAAANSUhEUgAAADAAAAARBAMAAABp3DInAAAAMFBMVEX///8AAAAAAAAAAAAAAAAA\n",
       "AAAAAAAAAAAAAAAAAAAAAAAAAAAAAAAAAAAAAAAAAAAv3aB7AAAAD3RSTlMAIpnNuzKJRKvvEN12\n",
       "ZlQ4bmvwAAAACXBIWXMAAA7EAAAOxAGVKw4bAAAAxElEQVQY02NgVDIJYEADYknuDAwiDGzfEUKP\n",
       "BYAElwLD+wcMjQwMM+Hit7VAJM8/hvUGDPMXMPQLQMVPZ4Ep9ukM/AYM3QwM/RBLuLIPwLW+vwAi\n",
       "90PEtS/Axdn3gkjWP2Dx5gdwcdYTrSCKuwHMQ5JgALmKgUEFwmZEMoqB8xcDA28DlAO3nDWAgeUf\n",
       "A8MzBkY05/L/AkmwJjDwLED1IGcDyChpJSVtpCABeYn3Asgf+////4weiEVK7gwUAK7dYACPGwDH\n",
       "UzZ0lzl3XwAAAABJRU5ErkJggg==\n",
       "\" style=\"display:inline;vertical-align:middle;\" /></a></span>"
      ],
      "text/plain": [
       "|- 2 <= 3"
      ]
     },
     "metadata": {},
     "output_type": "display_data"
    }
   ],
   "source": [
    "# Element in a Half-Open Interval (1,3]\n",
    "InSet(two, IntervalOC(one, three)).derive_element_upper_bound()"
   ]
  },
  {
   "cell_type": "code",
   "execution_count": 68,
   "metadata": {},
   "outputs": [
    {
     "data": {
      "text/html": [
       "<span style=\"font-size:20px;\"> <a class=\"ProveItLink\" href=\"../__pv_it/demonstrations/b091906caf40f358b19bb757b3fd670e02fd05030/proof.ipynb\" style=\"text-decoration: none\">&nbsp;&#x22A2;&nbsp;&nbsp;</a><a class=\"ProveItLink\" href=\"../__pv_it/demonstrations/baa7634a324cf37e0e97d7bbd13c23b557b260220/expr.ipynb\"><img src=\"data:image/png;base64,iVBORw0KGgoAAAANSUhEUgAAADAAAAARBAMAAABp3DInAAAAMFBMVEX///8AAAAAAAAAAAAAAAAA\n",
       "AAAAAAAAAAAAAAAAAAAAAAAAAAAAAAAAAAAAAAAAAAAv3aB7AAAAD3RSTlMAMt0Qq5nNdoki72ZU\n",
       "u0S9iLk1AAAACXBIWXMAAA7EAAAOxAGVKw4bAAAAoUlEQVQY02NgYFRmQAdTwy4yMJiEfUYSOjYB\n",
       "SHBeYOh/wMDAjiSxKRhEskxg4FqAIlHUDKa4PjOw/ESSYG4qgDBYFBhYPiIkmIM2IMxk+gCXYHY7\n",
       "gOQI+QKEDhQJFQaEBCeSUawXGLBZzsCwhYEBm3MZeBoYZmLzIIMEA0MxAwPHT+QgEQDZphoaCvSK\n",
       "1zdvtDBk+v//fwID+YBZCQwEYHwAghwsiPRr7jcAAAAASUVORK5CYII=\n",
       "\" style=\"display:inline;vertical-align:middle;\" /></a></span>"
      ],
      "text/plain": [
       "|- 1 <= 2"
      ]
     },
     "metadata": {},
     "output_type": "display_data"
    }
   ],
   "source": [
    "# Element in a Half-Open Interval [1,3)\n",
    "InSet(two, IntervalCO(one, three)).derive_element_lower_bound()"
   ]
  },
  {
   "cell_type": "code",
   "execution_count": 69,
   "metadata": {},
   "outputs": [
    {
     "data": {
      "text/html": [
       "<span style=\"font-size:20px;\"> <a class=\"ProveItLink\" href=\"../../../numerals/decimals/_theory_nbs_/proofs/less_2_3/thm_proof.ipynb\" style=\"text-decoration: none\">&nbsp;&#x22A2;&nbsp;&nbsp;</a><a class=\"ProveItLink\" href=\"../../../numerals/decimals/__pv_it/theorems/4eb25ee0d01c5a59bf2f328bbfe21b879d55e9ff0/expr.ipynb\"><img src=\"data:image/png;base64,iVBORw0KGgoAAAANSUhEUgAAADAAAAAQBAMAAACigOGCAAAAMFBMVEX///8AAAAAAAAAAAAAAAAA\n",
       "AAAAAAAAAAAAAAAAAAAAAAAAAAAAAAAAAAAAAAAAAAAv3aB7AAAAD3RSTlMAIpnNuzKJRKvvEN12\n",
       "ZlQ4bmvwAAAACXBIWXMAAA7EAAAOxAGVKw4bAAAAv0lEQVQY02NgVDIJYEADYknuDAwiDGzf0cS5\n",
       "FBjeP2BoZGCYiSbB849hvQHD/AUM/QJwsccgJvt0Bn4Dhm4Ghn64Jbe1oIz3F0Dkfpj46Swog30v\n",
       "iGT9A7Uz+wBUnPVEK4jibgDzGLUvIOwHuoqBQQXCbn6A5DDOXwwMvA3oEqwBDCz/GBieMTAKoBrF\n",
       "/wskwZrAwLMA1XLOBpBR0kpK2rCgOH0KTPNeAPlj////n+F23oZ4pEjJHT1cLwswEAIAFxox/6ER\n",
       "LUgAAAAASUVORK5CYII=\n",
       "\" style=\"display:inline;vertical-align:middle;\" /></a></span>"
      ],
      "text/plain": [
       "|- 2 < 3"
      ]
     },
     "metadata": {},
     "output_type": "display_data"
    }
   ],
   "source": [
    "# Element in a Half-Open Interval [1,3)\n",
    "InSet(two, IntervalCO(one, three)).derive_element_upper_bound()"
   ]
  },
  {
   "cell_type": "code",
   "execution_count": 70,
   "metadata": {},
   "outputs": [
    {
     "data": {
      "text/html": [
       "<span style=\"font-size:20px;\"> <a class=\"ProveItLink\" href=\"../__pv_it/demonstrations/b091906caf40f358b19bb757b3fd670e02fd05030/proof.ipynb\" style=\"text-decoration: none\">&nbsp;&#x22A2;&nbsp;&nbsp;</a><a class=\"ProveItLink\" href=\"../__pv_it/demonstrations/baa7634a324cf37e0e97d7bbd13c23b557b260220/expr.ipynb\"><img src=\"data:image/png;base64,iVBORw0KGgoAAAANSUhEUgAAADAAAAARBAMAAABp3DInAAAAMFBMVEX///8AAAAAAAAAAAAAAAAA\n",
       "AAAAAAAAAAAAAAAAAAAAAAAAAAAAAAAAAAAAAAAAAAAv3aB7AAAAD3RSTlMAMt0Qq5nNdoki72ZU\n",
       "u0S9iLk1AAAACXBIWXMAAA7EAAAOxAGVKw4bAAAAoUlEQVQY02NgYFRmQAdTwy4yMJiEfUYSOjYB\n",
       "SHBeYOh/wMDAjiSxKRhEskxg4FqAIlHUDKa4PjOw/ESSYG4qgDBYFBhYPiIkmIM2IMxk+gCXYHY7\n",
       "gOQI+QKEDhQJFQaEBCeSUawXGLBZzsCwhYEBm3MZeBoYZmLzIIMEA0MxAwPHT+QgEQDZphoaCvSK\n",
       "1zdvtDBk+v//fwID+YBZCQwEYHwAghwsiPRr7jcAAAAASUVORK5CYII=\n",
       "\" style=\"display:inline;vertical-align:middle;\" /></a></span>"
      ],
      "text/plain": [
       "|- 1 <= 2"
      ]
     },
     "metadata": {},
     "output_type": "display_data"
    }
   ],
   "source": [
    "# Element in a Closed Interval [1,3]\n",
    "InSet(two, IntervalCC(one, three)).derive_element_lower_bound()"
   ]
  },
  {
   "cell_type": "code",
   "execution_count": 71,
   "metadata": {},
   "outputs": [
    {
     "data": {
      "text/html": [
       "<span style=\"font-size:20px;\"> <a class=\"ProveItLink\" href=\"../__pv_it/demonstrations/69eb006ea84773a84dccce1bc4f643e7ed68cd5b0/proof.ipynb\" style=\"text-decoration: none\">&nbsp;&#x22A2;&nbsp;&nbsp;</a><a class=\"ProveItLink\" href=\"../__pv_it/demonstrations/e33f190811d95ad6bc48127485be48468026ccab0/expr.ipynb\"><img src=\"data:image/png;base64,iVBORw0KGgoAAAANSUhEUgAAADAAAAARBAMAAABp3DInAAAAMFBMVEX///8AAAAAAAAAAAAAAAAA\n",
       "AAAAAAAAAAAAAAAAAAAAAAAAAAAAAAAAAAAAAAAAAAAv3aB7AAAAD3RSTlMAIpnNuzKJRKvvEN12\n",
       "ZlQ4bmvwAAAACXBIWXMAAA7EAAAOxAGVKw4bAAAAxElEQVQY02NgVDIJYEADYknuDAwiDGzfEUKP\n",
       "BYAElwLD+wcMjQwMM+Hit7VAJM8/hvUGDPMXMPQLQMVPZ4Ep9ukM/AYM3QwM/RBLuLIPwLW+vwAi\n",
       "90PEtS/Axdn3gkjWP2Dx5gdwcdYTrSCKuwHMQ5JgALmKgUEFwmZEMoqB8xcDA28DlAO3nDWAgeUf\n",
       "A8MzBkY05/L/AkmwJjDwLED1IGcDyChpJSVtpCABeYn3Asgf+////4weiEVK7gwUAK7dYACPGwDH\n",
       "UzZ0lzl3XwAAAABJRU5ErkJggg==\n",
       "\" style=\"display:inline;vertical-align:middle;\" /></a></span>"
      ],
      "text/plain": [
       "|- 2 <= 3"
      ]
     },
     "metadata": {},
     "output_type": "display_data"
    }
   ],
   "source": [
    "# Element in a Closed Interval [1,3]\n",
    "InSet(two, IntervalCC(one, three)).derive_element_upper_bound()"
   ]
  },
  {
   "cell_type": "markdown",
   "metadata": {},
   "source": [
    "### Testing the `Interval.deduce_member_in_real()` methods"
   ]
  },
  {
   "cell_type": "code",
   "execution_count": 72,
   "metadata": {},
   "outputs": [
    {
     "data": {
      "text/html": [
       "<span style=\"font-size:20px;\"> <a class=\"ProveItLink\" href=\"../__pv_it/demonstrations/73eae1ee444637396be9992c40a7f86d2655e04f0/proof.ipynb\" style=\"text-decoration: none\">&nbsp;&#x22A2;&nbsp;&nbsp;</a><a class=\"ProveItLink\" href=\"../__pv_it/demonstrations/10675168af95ab4183d974a4da377566e33aab420/expr.ipynb\"><img src=\"data:image/png;base64,iVBORw0KGgoAAAANSUhEUgAAADIAAAAQBAMAAACmdTG/AAAAMFBMVEX///8AAAAAAAAAAAAAAAAA\n",
       "AAAAAAAAAAAAAAAAAAAAAAAAAAAAAAAAAAAAAAAAAAAv3aB7AAAAD3RSTlMAIpnNuzKJRKvvEN12\n",
       "ZlQ4bmvwAAAACXBIWXMAAA7EAAAOxAGVKw4bAAAA2ElEQVQY02NgQAe8li6fd/oCGYxKJgGoUiyM\n",
       "Dey9XgwMIgxs39FlEhgcIhgYGhkYZmLKKDIzMMxfwNAvABY5snu3AVyGhYGhm4GhH2xR8SkkPV0r\n",
       "wMz9IILRCsk0Vj9DEIv1D4hkFkDITN6/ZwGIxd0AlkFyQe4tsIUMKmAycjcQOEBN87oL9jNYC8MS\n",
       "ZFcHsYBMe8bACLKCG1mGKRComzWBgQekgOcAkgyXw1kGBmklJW2wgB1CRoHhLksBw/7//z+DBVa4\n",
       "L4CF9RcBFud/SOFV5g0JHSgAAFzjMhP8qnJ+AAAAAElFTkSuQmCC\n",
       "\" style=\"display:inline;vertical-align:middle;\" /></a></span>"
      ],
      "text/plain": [
       "|- 2 in Real"
      ]
     },
     "metadata": {},
     "output_type": "display_data"
    }
   ],
   "source": [
    "# Element in an Open Interval (1,3)\n",
    "InSet(two, IntervalOO(one, three)).derive_element_in_real()"
   ]
  },
  {
   "cell_type": "markdown",
   "metadata": {},
   "source": [
    "*alternate way*"
   ]
  },
  {
   "cell_type": "code",
   "execution_count": 73,
   "metadata": {},
   "outputs": [
    {
     "data": {
      "text/html": [
       "<span style=\"font-size:20px;\"> <a class=\"ProveItLink\" href=\"../__pv_it/demonstrations/73eae1ee444637396be9992c40a7f86d2655e04f0/proof.ipynb\" style=\"text-decoration: none\">&nbsp;&#x22A2;&nbsp;&nbsp;</a><a class=\"ProveItLink\" href=\"../__pv_it/demonstrations/10675168af95ab4183d974a4da377566e33aab420/expr.ipynb\"><img src=\"data:image/png;base64,iVBORw0KGgoAAAANSUhEUgAAADIAAAAQBAMAAACmdTG/AAAAMFBMVEX///8AAAAAAAAAAAAAAAAA\n",
       "AAAAAAAAAAAAAAAAAAAAAAAAAAAAAAAAAAAAAAAAAAAv3aB7AAAAD3RSTlMAIpnNuzKJRKvvEN12\n",
       "ZlQ4bmvwAAAACXBIWXMAAA7EAAAOxAGVKw4bAAAA2ElEQVQY02NgQAe8li6fd/oCGYxKJgGoUiyM\n",
       "Dey9XgwMIgxs39FlEhgcIhgYGhkYZmLKKDIzMMxfwNAvABY5snu3AVyGhYGhm4GhH2xR8SkkPV0r\n",
       "wMz9IILRCsk0Vj9DEIv1D4hkFkDITN6/ZwGIxd0AlkFyQe4tsIUMKmAycjcQOEBN87oL9jNYC8MS\n",
       "ZFcHsYBMe8bACLKCG1mGKRComzWBgQekgOcAkgyXw1kGBmklJW2wgB1CRoHhLksBw/7//z+DBVa4\n",
       "L4CF9RcBFud/SOFV5g0JHSgAAFzjMhP8qnJ+AAAAAElFTkSuQmCC\n",
       "\" style=\"display:inline;vertical-align:middle;\" /></a></span>"
      ],
      "text/plain": [
       "|- 2 in Real"
      ]
     },
     "metadata": {},
     "output_type": "display_data"
    }
   ],
   "source": [
    "IntervalOO(one, three).deduce_member_in_real(two)"
   ]
  },
  {
   "cell_type": "code",
   "execution_count": 74,
   "metadata": {},
   "outputs": [
    {
     "data": {
      "text/html": [
       "<span style=\"font-size:20px;\"><a class=\"ProveItLink\" href=\"../__pv_it/demonstrations/018bc9673594119622bb35b0e90cb46087f56c5a0/expr.ipynb\"><img src=\"data:image/png;base64,iVBORw0KGgoAAAANSUhEUgAAAE4AAAAVBAMAAAAazcUaAAAAMFBMVEX///8AAAAAAAAAAAAAAAAA\n",
       "AAAAAAAAAAAAAAAAAAAAAAAAAAAAAAAAAAAAAAAAAAAv3aB7AAAAD3RSTlMAiXZmMiLdVJm77xBE\n",
       "zatgdeJyAAAACXBIWXMAAA7EAAAOxAGVKw4bAAABV0lEQVQoz2NgwAJYCfBhQB2Nz6OAVRm7AAMD\n",
       "SzaUEygxh4FBGau6vQwM+3p/Q9jcDQz1BQy8G7CpawZiJqg6pu8M+y8wMDcgSWumpV0AMxYgqeNZ\n",
       "w8APFF2NUHZWG+a8C0jqgKDegIHhMpAWUnYA+f02TJxDAEUdTzKQkGNgCCvgmABk8QbAJHgNkNWx\n",
       "6D0BkrYMDIkMXKDg4YXbw1aAZi+QX8XAARXwSgMCkMEMXAdQ1XEBmf4MXBMgvJ0IcWR1LA4MnN8Z\n",
       "GE4x7IfGCRt2e/l/g9WVMfADXQ02AB6HnApQddwgwx+A7bVkAHqWERQuDNdh6hgfgIivDKCIYGA2\n",
       "AIdfIwODoDEkgPfNgUYiSwIDA9+rv48Z2EBp4UQHMB0w5CDF28Fp0HhLgYlUwxNgArZ0YAFjCMCj\n",
       "yACbOk5o1HDDvRaJNf1xQ4OUCS4yFXu6D0LjMwUwAACjnUt7F6751gAAAABJRU5ErkJggg==\n",
       "\" style=\"display:inline;vertical-align:middle;\" /></a> <a class=\"ProveItLink\" href=\"../__pv_it/demonstrations/1ce5e9b20dbf6c24cb1174458456fbc305e6932e0/proof.ipynb\" style=\"text-decoration: none\">&nbsp;&#x22A2;&nbsp;&nbsp;</a><a class=\"ProveItLink\" href=\"../__pv_it/demonstrations/6b14f8ae7bcb54d6d751f20bdcdccc0bf73b6c0a0/expr.ipynb\"><img src=\"data:image/png;base64,iVBORw0KGgoAAAANSUhEUgAAADEAAAAQBAMAAABNQoq8AAAAMFBMVEX///8AAAAAAAAAAAAAAAAA\n",
       "AAAAAAAAAAAAAAAAAAAAAAAAAAAAAAAAAAAAAAAAAAAv3aB7AAAAD3RSTlMAiXZmMiLdVJm77xBE\n",
       "zatgdeJyAAAACXBIWXMAAA7EAAAOxAGVKw4bAAAAvUlEQVQY02NgQAe2K+dfW2nAgA1MiGM4Z7kB\n",
       "q0wgAyfLAxwyHAEXkEU009IuwGUmIEmc1Ubo4dsNNk1I2QFIst5GMs2zNgDICCvgAGnlDYDLRF37\n",
       "BtafyMClAJJBcoHxXhDN8RvC90oDggkQGc7NIJ9yQV2xE0kPS8NsIL1fAcJnQ/ZPSySQ5gdqPACk\n",
       "mRSQZHYyAUWBDmMEuZrhOlwmgoHZYA6QIWgM8eK+ORtgYT2VYeb9AqRAODgtDTm0ALktNaaWdOV1\n",
       "AAAAAElFTkSuQmCC\n",
       "\" style=\"display:inline;vertical-align:middle;\" /></a></span>"
      ],
      "text/plain": [
       "{c in (1,3)} |- c in Real"
      ]
     },
     "metadata": {},
     "output_type": "display_data"
    }
   ],
   "source": [
    "# Variable Element in an Open Interval (1,3)\n",
    "InSet(c, IntervalOO(one, three)).derive_element_in_real(\n",
    "    assumptions=[InSet(c, IntervalOO(one, three))])"
   ]
  },
  {
   "cell_type": "code",
   "execution_count": 75,
   "metadata": {},
   "outputs": [
    {
     "data": {
      "text/html": [
       "<span style=\"font-size:20px;\"><a class=\"ProveItLink\" href=\"../__pv_it/demonstrations/8ab0d813787a6eb402293dc6c0666aec86e7dd7c0/expr.ipynb\"><img src=\"data:image/png;base64,iVBORw0KGgoAAAANSUhEUgAAAEwAAAAVBAMAAAAeOBUnAAAAMFBMVEX///8AAAAAAAAAAAAAAAAA\n",
       "AAAAAAAAAAAAAAAAAAAAAAAAAAAAAAAAAAAAAAAAAAAv3aB7AAAAD3RSTlMAIpnNuzKJRKvvEN12\n",
       "ZlQ4bmvwAAAACXBIWXMAAA7EAAAOxAGVKw4bAAABT0lEQVQoz2NgwAIY0fint2JTxXAOXSCdgVHJ\n",
       "JABNkC+BgYF1F5QjluQOUibCwPYdTdliBoYVyr8gbC4FhvcPgMoaGRhmoinTBWIeqDKefwzrDYDK\n",
       "5i9g6BcAixzZvdsAzJiApIx9OgM/SFk3A0M/2HHFp2BOM0BSBgTvLwCVAcF+cCBYwYSZElCUse9l\n",
       "ACtj/QPiMQvAxJkvICtjPdEKUcbdAJaEW8L9AM3SB2BlKmBO5G4gcACxOAtQlXH+AinjBRvGsAQh\n",
       "jKyMNYCB5R9I2TMGRpCzuLFbyv8Loow1gYFnAUj8AEwZywGoMi6Q0Q0QS6WVlLTBsnYwZWwgV7B9\n",
       "ZAAFPwPvBUi47f///zNYdoX7AqhzNjAwcHR+7mXgBkV/kZI7JEBgoMwbGlnw1PUKkZCwgEswRgJe\n",
       "ZSzQCOE6gFcZlwM0ETHgVcYgg54XpgMAeQhZSWgJmd4AAAAASUVORK5CYII=\n",
       "\" style=\"display:inline;vertical-align:middle;\" /></a> <a class=\"ProveItLink\" href=\"../__pv_it/demonstrations/50fdd919abff6465d223b1ea83cfbf099a392ad30/proof.ipynb\" style=\"text-decoration: none\">&nbsp;&#x22A2;&nbsp;&nbsp;</a><a class=\"ProveItLink\" href=\"../__pv_it/demonstrations/10675168af95ab4183d974a4da377566e33aab420/expr.ipynb\"><img src=\"data:image/png;base64,iVBORw0KGgoAAAANSUhEUgAAADIAAAAQBAMAAACmdTG/AAAAMFBMVEX///8AAAAAAAAAAAAAAAAA\n",
       "AAAAAAAAAAAAAAAAAAAAAAAAAAAAAAAAAAAAAAAAAAAv3aB7AAAAD3RSTlMAIpnNuzKJRKvvEN12\n",
       "ZlQ4bmvwAAAACXBIWXMAAA7EAAAOxAGVKw4bAAAA2ElEQVQY02NgQAe8li6fd/oCGYxKJgGoUiyM\n",
       "Dey9XgwMIgxs39FlEhgcIhgYGhkYZmLKKDIzMMxfwNAvABY5snu3AVyGhYGhm4GhH2xR8SkkPV0r\n",
       "wMz9IILRCsk0Vj9DEIv1D4hkFkDITN6/ZwGIxd0AlkFyQe4tsIUMKmAycjcQOEBN87oL9jNYC8MS\n",
       "ZFcHsYBMe8bACLKCG1mGKRComzWBgQekgOcAkgyXw1kGBmklJW2wgB1CRoHhLksBw/7//z+DBVa4\n",
       "L4CF9RcBFud/SOFV5g0JHSgAAFzjMhP8qnJ+AAAAAElFTkSuQmCC\n",
       "\" style=\"display:inline;vertical-align:middle;\" /></a></span>"
      ],
      "text/plain": [
       "{2 in (1,3]} |- 2 in Real"
      ]
     },
     "metadata": {},
     "output_type": "display_data"
    }
   ],
   "source": [
    "# Element in an Half-Open Interval (1,3]\n",
    "InSet(two, IntervalOC(one, three)).derive_element_in_real(\n",
    "    assumptions=[InSet(two, IntervalOC(one, three))])"
   ]
  },
  {
   "cell_type": "code",
   "execution_count": 76,
   "metadata": {},
   "outputs": [
    {
     "data": {
      "text/html": [
       "<span style=\"font-size:20px;\"><a class=\"ProveItLink\" href=\"../__pv_it/demonstrations/5fed4f2b281f21a5945e303df20be759931274f50/expr.ipynb\"><img src=\"data:image/png;base64,iVBORw0KGgoAAAANSUhEUgAAAEwAAAAVBAMAAAAeOBUnAAAAMFBMVEX///8AAAAAAAAAAAAAAAAA\n",
       "AAAAAAAAAAAAAAAAAAAAAAAAAAAAAAAAAAAAAAAAAAAv3aB7AAAAD3RSTlMAiXZmMiLdVJm77xBE\n",
       "zatgdeJyAAAACXBIWXMAAA7EAAAOxAGVKw4bAAABJ0lEQVQoz2NgwAIC0PhqKdhUMRWgi8hgU1YI\n",
       "xG4boJxAiTnYlXFfYOB+cR+qjLuBob4AqzIOAyChD1XG9J1h/wVkZUzT0nLBDC4GJGU8axj4kZXx\n",
       "XIK5phZZGRDUG4CVCSk7AMlYuHgjqjKeZLAXwgo4JgB5V+G6L6MoY9F7AlaWyMClAORegCtLR7cU\n",
       "5FOO3xBNy9LS0jLBzDVoyrh+A5VxTYCEzwS4MIoyFgcGzu9AZfsVIPwE7Jby/4Yo4wcG5gEgXwmu\n",
       "bBJMGUgl1wOIpUBvMoIChBce33IgQj6AgfsvkGY2gIaboLE22HEvT0OVuQHxu/X3DBjSQMad6ECN\n",
       "eh5JaGSxOUBF2DfgS0jMDVAGI/70NhVKb8KvbCeUVsCvjFUBPS+sAQDxu0a97KYXwAAAAABJRU5E\n",
       "rkJggg==\n",
       "\" style=\"display:inline;vertical-align:middle;\" /></a> <a class=\"ProveItLink\" href=\"../__pv_it/demonstrations/4002c91110d1bb57b759acc645d54cc718bcbcf60/proof.ipynb\" style=\"text-decoration: none\">&nbsp;&#x22A2;&nbsp;&nbsp;</a><a class=\"ProveItLink\" href=\"../__pv_it/demonstrations/6b14f8ae7bcb54d6d751f20bdcdccc0bf73b6c0a0/expr.ipynb\"><img src=\"data:image/png;base64,iVBORw0KGgoAAAANSUhEUgAAADEAAAAQBAMAAABNQoq8AAAAMFBMVEX///8AAAAAAAAAAAAAAAAA\n",
       "AAAAAAAAAAAAAAAAAAAAAAAAAAAAAAAAAAAAAAAAAAAv3aB7AAAAD3RSTlMAiXZmMiLdVJm77xBE\n",
       "zatgdeJyAAAACXBIWXMAAA7EAAAOxAGVKw4bAAAAvUlEQVQY02NgQAe2K+dfW2nAgA1MiGM4Z7kB\n",
       "q0wgAyfLAxwyHAEXkEU009IuwGUmIEmc1Ubo4dsNNk1I2QFIst5GMs2zNgDICCvgAGnlDYDLRF37\n",
       "BtafyMClAJJBcoHxXhDN8RvC90oDggkQGc7NIJ9yQV2xE0kPS8NsIL1fAcJnQ/ZPSySQ5gdqPACk\n",
       "mRSQZHYyAUWBDmMEuZrhOlwmgoHZYA6QIWgM8eK+ORtgYT2VYeb9AqRAODgtDTm0ALktNaaWdOV1\n",
       "AAAAAElFTkSuQmCC\n",
       "\" style=\"display:inline;vertical-align:middle;\" /></a></span>"
      ],
      "text/plain": [
       "{c in (1,3]} |- c in Real"
      ]
     },
     "metadata": {},
     "output_type": "display_data"
    }
   ],
   "source": [
    "# Variable Element in an Half-Open Interval (1,3]\n",
    "InSet(c, IntervalOC(one, three)).derive_element_in_real(\n",
    "        assumptions=[InSet(c, IntervalOC(one, three))])"
   ]
  },
  {
   "cell_type": "code",
   "execution_count": 77,
   "metadata": {},
   "outputs": [
    {
     "data": {
      "text/html": [
       "<span style=\"font-size:20px;\"> <a class=\"ProveItLink\" href=\"../__pv_it/demonstrations/73eae1ee444637396be9992c40a7f86d2655e04f0/proof.ipynb\" style=\"text-decoration: none\">&nbsp;&#x22A2;&nbsp;&nbsp;</a><a class=\"ProveItLink\" href=\"../__pv_it/demonstrations/10675168af95ab4183d974a4da377566e33aab420/expr.ipynb\"><img src=\"data:image/png;base64,iVBORw0KGgoAAAANSUhEUgAAADIAAAAQBAMAAACmdTG/AAAAMFBMVEX///8AAAAAAAAAAAAAAAAA\n",
       "AAAAAAAAAAAAAAAAAAAAAAAAAAAAAAAAAAAAAAAAAAAv3aB7AAAAD3RSTlMAIpnNuzKJRKvvEN12\n",
       "ZlQ4bmvwAAAACXBIWXMAAA7EAAAOxAGVKw4bAAAA2ElEQVQY02NgQAe8li6fd/oCGYxKJgGoUiyM\n",
       "Dey9XgwMIgxs39FlEhgcIhgYGhkYZmLKKDIzMMxfwNAvABY5snu3AVyGhYGhm4GhH2xR8SkkPV0r\n",
       "wMz9IILRCsk0Vj9DEIv1D4hkFkDITN6/ZwGIxd0AlkFyQe4tsIUMKmAycjcQOEBN87oL9jNYC8MS\n",
       "ZFcHsYBMe8bACLKCG1mGKRComzWBgQekgOcAkgyXw1kGBmklJW2wgB1CRoHhLksBw/7//z+DBVa4\n",
       "L4CF9RcBFud/SOFV5g0JHSgAAFzjMhP8qnJ+AAAAAElFTkSuQmCC\n",
       "\" style=\"display:inline;vertical-align:middle;\" /></a></span>"
      ],
      "text/plain": [
       "|- 2 in Real"
      ]
     },
     "metadata": {},
     "output_type": "display_data"
    }
   ],
   "source": [
    "# Element in an Half-Open Interval [1,3)\n",
    "InSet(two, IntervalCO(one, three)).derive_element_in_real()"
   ]
  },
  {
   "cell_type": "code",
   "execution_count": 78,
   "metadata": {},
   "outputs": [
    {
     "data": {
      "text/html": [
       "<span style=\"font-size:20px;\"><a class=\"ProveItLink\" href=\"../__pv_it/demonstrations/288898911f9afd132121ac6b2ec34f82aafbdac00/expr.ipynb\"><img src=\"data:image/png;base64,iVBORw0KGgoAAAANSUhEUgAAAEsAAAAVBAMAAAD85A5eAAAAMFBMVEX///8AAAAAAAAAAAAAAAAA\n",
       "AAAAAAAAAAAAAAAAAAAAAAAAAAAAAAAAAAAAAAAAAAAv3aB7AAAAD3RSTlMAiXZmMiLdVJm77xBE\n",
       "zatgdeJyAAAACXBIWXMAAA7EAAAOxAGVKw4bAAABNElEQVQoz2NgwABqKWgCAQzYgAy6wCGcytw2\n",
       "QNisgp0HGJgMsCvjfnEfqmwHA/t3BobbuEzThyrTL+D+y8BggSTLNC0tF0PZqQMMQGVcG+CqeC5t\n",
       "wGIaAwP7ZwYGXpDjhJQdgGTsBgasyo4BlTA+YGAIK+CYAORexeo2Bqd3QDOYLzAwJDJwKQD5F7Ar\n",
       "A/uUfQEDx28wj2VZWlpaJhZlDOs3MLB8YOCaAOZwT8BqmgsDw/wCBp4FDPsVIAIJWJX93wBSxp7A\n",
       "wA/0yQGggBKGMpDKdWBLmScwAL3JCAoQ3gJkZfIBDKDgZzAGhxuHAAODoLE22HEvTyOUvVt/z4Ah\n",
       "DWgcTwcw6hnYDiAii0cSKbLAQQH3bRi+9MYIF2nGp2wTTIB1Aj5lCjABTqypXAw9L6gyMAAAyJBL\n",
       "UEzcgF4AAAAASUVORK5CYII=\n",
       "\" style=\"display:inline;vertical-align:middle;\" /></a> <a class=\"ProveItLink\" href=\"../__pv_it/demonstrations/63266ecff8581dfd7b4f1dcb3be17c48b84c607d0/proof.ipynb\" style=\"text-decoration: none\">&nbsp;&#x22A2;&nbsp;&nbsp;</a><a class=\"ProveItLink\" href=\"../__pv_it/demonstrations/6b14f8ae7bcb54d6d751f20bdcdccc0bf73b6c0a0/expr.ipynb\"><img src=\"data:image/png;base64,iVBORw0KGgoAAAANSUhEUgAAADEAAAAQBAMAAABNQoq8AAAAMFBMVEX///8AAAAAAAAAAAAAAAAA\n",
       "AAAAAAAAAAAAAAAAAAAAAAAAAAAAAAAAAAAAAAAAAAAv3aB7AAAAD3RSTlMAiXZmMiLdVJm77xBE\n",
       "zatgdeJyAAAACXBIWXMAAA7EAAAOxAGVKw4bAAAAvUlEQVQY02NgQAe2K+dfW2nAgA1MiGM4Z7kB\n",
       "q0wgAyfLAxwyHAEXkEU009IuwGUmIEmc1Ubo4dsNNk1I2QFIst5GMs2zNgDICCvgAGnlDYDLRF37\n",
       "BtafyMClAJJBcoHxXhDN8RvC90oDggkQGc7NIJ9yQV2xE0kPS8NsIL1fAcJnQ/ZPSySQ5gdqPACk\n",
       "mRSQZHYyAUWBDmMEuZrhOlwmgoHZYA6QIWgM8eK+ORtgYT2VYeb9AqRAODgtDTm0ALktNaaWdOV1\n",
       "AAAAAElFTkSuQmCC\n",
       "\" style=\"display:inline;vertical-align:middle;\" /></a></span>"
      ],
      "text/plain": [
       "{c in [1,3)} |- c in Real"
      ]
     },
     "metadata": {},
     "output_type": "display_data"
    }
   ],
   "source": [
    "# Variable Element in an Half-Open Interval [1,3)\n",
    "InSet(c, IntervalCO(one, three)).derive_element_in_real(\n",
    "    assumptions=[InSet(c, IntervalCO(one, three))])"
   ]
  },
  {
   "cell_type": "code",
   "execution_count": 79,
   "metadata": {},
   "outputs": [
    {
     "data": {
      "text/html": [
       "<span style=\"font-size:20px;\"> <a class=\"ProveItLink\" href=\"../__pv_it/demonstrations/73eae1ee444637396be9992c40a7f86d2655e04f0/proof.ipynb\" style=\"text-decoration: none\">&nbsp;&#x22A2;&nbsp;&nbsp;</a><a class=\"ProveItLink\" href=\"../__pv_it/demonstrations/10675168af95ab4183d974a4da377566e33aab420/expr.ipynb\"><img src=\"data:image/png;base64,iVBORw0KGgoAAAANSUhEUgAAADIAAAAQBAMAAACmdTG/AAAAMFBMVEX///8AAAAAAAAAAAAAAAAA\n",
       "AAAAAAAAAAAAAAAAAAAAAAAAAAAAAAAAAAAAAAAAAAAv3aB7AAAAD3RSTlMAIpnNuzKJRKvvEN12\n",
       "ZlQ4bmvwAAAACXBIWXMAAA7EAAAOxAGVKw4bAAAA2ElEQVQY02NgQAe8li6fd/oCGYxKJgGoUiyM\n",
       "Dey9XgwMIgxs39FlEhgcIhgYGhkYZmLKKDIzMMxfwNAvABY5snu3AVyGhYGhm4GhH2xR8SkkPV0r\n",
       "wMz9IILRCsk0Vj9DEIv1D4hkFkDITN6/ZwGIxd0AlkFyQe4tsIUMKmAycjcQOEBN87oL9jNYC8MS\n",
       "ZFcHsYBMe8bACLKCG1mGKRComzWBgQekgOcAkgyXw1kGBmklJW2wgB1CRoHhLksBw/7//z+DBVa4\n",
       "L4CF9RcBFud/SOFV5g0JHSgAAFzjMhP8qnJ+AAAAAElFTkSuQmCC\n",
       "\" style=\"display:inline;vertical-align:middle;\" /></a></span>"
      ],
      "text/plain": [
       "|- 2 in Real"
      ]
     },
     "metadata": {},
     "output_type": "display_data"
    }
   ],
   "source": [
    "# Element in an Closed Interval [1,3)\n",
    "InSet(two, IntervalCC(one, three)).derive_element_in_real()"
   ]
  },
  {
   "cell_type": "code",
   "execution_count": 80,
   "metadata": {},
   "outputs": [
    {
     "data": {
      "text/html": [
       "<span style=\"font-size:20px;\"><a class=\"ProveItLink\" href=\"../__pv_it/demonstrations/dfaf87526893acdbaca446dbeb17f05529845aea0/expr.ipynb\"><img src=\"data:image/png;base64,iVBORw0KGgoAAAANSUhEUgAAAEkAAAAVBAMAAAD4Ed5jAAAAMFBMVEX///8AAAAAAAAAAAAAAAAA\n",
       "AAAAAAAAAAAAAAAAAAAAAAAAAAAAAAAAAAAAAAAAAAAv3aB7AAAAD3RSTlMAiXZmMiLdVJm77xBE\n",
       "zatgdeJyAAAACXBIWXMAAA7EAAAOxAGVKw4bAAAA+0lEQVQoz2NgwABqKah8pjQHTEUMMugCjAdw\n",
       "qHLbAGGzCnYewKWK+8V9qKodDOzfcZulD1WlX8D9F1WVZlraBXRVpw4woKo6q43FLAYG9s8QVULK\n",
       "IJ+y3mbAquqYAVhVWAHHBCCPNwCrKqd3DmBViQxcCiBVDNjNgviR4zeE55UGBBMwVTGs3wBUxTUB\n",
       "wtmJ1SwXBob5BUBV+xUgfDasqv5vgKjiN2BgAPmUSQFdFUjhOqiNQA8yguP8OrIq+QAGYKAzMBjD\n",
       "wkvQGBKc++ZsgKt6t/6eAUMakM/TgR7bB6chYggcBhsIpRywJAMxqjYRpUoBryox9HSfdQAAAOdQ\n",
       "8YL5hsUAAAAASUVORK5CYII=\n",
       "\" style=\"display:inline;vertical-align:middle;\" /></a> <a class=\"ProveItLink\" href=\"../__pv_it/demonstrations/36b53191761294e319c644e9de1056eda92cd57a0/proof.ipynb\" style=\"text-decoration: none\">&nbsp;&#x22A2;&nbsp;&nbsp;</a><a class=\"ProveItLink\" href=\"../__pv_it/demonstrations/6b14f8ae7bcb54d6d751f20bdcdccc0bf73b6c0a0/expr.ipynb\"><img src=\"data:image/png;base64,iVBORw0KGgoAAAANSUhEUgAAADEAAAAQBAMAAABNQoq8AAAAMFBMVEX///8AAAAAAAAAAAAAAAAA\n",
       "AAAAAAAAAAAAAAAAAAAAAAAAAAAAAAAAAAAAAAAAAAAv3aB7AAAAD3RSTlMAiXZmMiLdVJm77xBE\n",
       "zatgdeJyAAAACXBIWXMAAA7EAAAOxAGVKw4bAAAAvUlEQVQY02NgQAe2K+dfW2nAgA1MiGM4Z7kB\n",
       "q0wgAyfLAxwyHAEXkEU009IuwGUmIEmc1Ubo4dsNNk1I2QFIst5GMs2zNgDICCvgAGnlDYDLRF37\n",
       "BtafyMClAJJBcoHxXhDN8RvC90oDggkQGc7NIJ9yQV2xE0kPS8NsIL1fAcJnQ/ZPSySQ5gdqPACk\n",
       "mRSQZHYyAUWBDmMEuZrhOlwmgoHZYA6QIWgM8eK+ORtgYT2VYeb9AqRAODgtDTm0ALktNaaWdOV1\n",
       "AAAAAElFTkSuQmCC\n",
       "\" style=\"display:inline;vertical-align:middle;\" /></a></span>"
      ],
      "text/plain": [
       "{c in [1,3]} |- c in Real"
      ]
     },
     "metadata": {},
     "output_type": "display_data"
    }
   ],
   "source": [
    "# Variable Element in an Closed Interval [1,3)\n",
    "# (do this slightly differently this time just to show we can)\n",
    "InSet(c, IntervalCC(one, three)).prove(\n",
    "    assumptions=[InSet(c, IntervalCC(one, three))]).derive_element_in_real()"
   ]
  },
  {
   "cell_type": "markdown",
   "metadata": {},
   "source": [
    "### Testing the `Interval.deduce_elem_in_set()` methods"
   ]
  },
  {
   "cell_type": "code",
   "execution_count": 81,
   "metadata": {},
   "outputs": [
    {
     "data": {
      "text/html": [
       "<span style=\"font-size:20px;\"> <a class=\"ProveItLink\" href=\"../__pv_it/demonstrations/2a6ed75c95f509b77e9c9e76f4e28af2e19f3d610/proof.ipynb\" style=\"text-decoration: none\">&nbsp;&#x22A2;&nbsp;&nbsp;</a><a class=\"ProveItLink\" href=\"../__pv_it/demonstrations/4289088d859d5dc3e553df029760d190d17e55800/expr.ipynb\"><img src=\"data:image/png;base64,iVBORw0KGgoAAAANSUhEUgAAAE4AAAAVBAMAAAAazcUaAAAAMFBMVEX///8AAAAAAAAAAAAAAAAA\n",
       "AAAAAAAAAAAAAAAAAAAAAAAAAAAAAAAAAAAAAAAAAAAv3aB7AAAAD3RSTlMAIpnNuzKJRKvvEN12\n",
       "ZlQ4bmvwAAAACXBIWXMAAA7EAAAOxAGVKw4bAAABc0lEQVQoz2NgwAIYCfBh4Bwan/0AUK2SSQCa\n",
       "MF8CAwPrLihHLMmdgeEsA4MIA9t3NHWLGRhWKP+CsLkUGN4/YGBewNDIwDATTZ0uEPNA1fH8Y1hv\n",
       "wMCrwDB/AUO/AFjoyO7dBmDGBCR17NMZ+IGisxi6GRj6wQ4sPgVzngGSOiB4f4GBwRbE2A/2uxVM\n",
       "nCkBRR37XiCRAcSsf0BcZgGYBPMFZHWsJ1qB5GUg5m4Ay8Lt4X6AZi+Q/xJIq4B5kbuBwAHE4ixA\n",
       "VccJZMYzMPCCjWNYghBHVscawMDyj4GhkoHhGQMjyGnc2O3l/wVW95qBNYGBZwFI4gBMHcsBqDou\n",
       "kOENYHuvMEgrKWmDpe1g6thADmH7yACKCAbeC+DwU2PY////Z7D0CvcFUCdtYGDg6Pzcy8ANSgtF\n",
       "SsB0wLAdKVrLvKHxthUm8gqeADdgS36XYIwEeBRdwKaOBRo1XHCviWBNzlwO0DQFF3HEnu5l0Pg8\n",
       "AgwANMtZije07O8AAAAASUVORK5CYII=\n",
       "\" style=\"display:inline;vertical-align:middle;\" /></a></span>"
      ],
      "text/plain": [
       "|- 2 in (1,3)"
      ]
     },
     "metadata": {},
     "output_type": "display_data"
    }
   ],
   "source": [
    "# Element in an Open Interval (1,3)\n",
    "IntervalOO(one, three).deduce_elem_in_set(two)"
   ]
  },
  {
   "cell_type": "code",
   "execution_count": 82,
   "metadata": {},
   "outputs": [
    {
     "name": "stdout",
     "output_type": "stream",
     "text": [
      "Proof failure: Proof step failed:\n",
      "Attempting to instantiate |- forall_{a, b, x in Real | a < x < b} (x in (a,b)) with {a: 1, b: 3, x: 1}:\n",
      "Unsatisfied condition: 1 < 1 < 3. For debugging purposes, this is accessible via Instantiation.unsatisfied_condition with applicable assumptions in Instantiation.condition_assumptions.\n"
     ]
    }
   ],
   "source": [
    "# but this should NOT work for a discluded endpoint\n",
    "try:\n",
    "    IntervalOO(one, three).deduce_elem_in_set(one)\n",
    "except ProofFailure as e:\n",
    "    print(\"Proof failure: {}\".format(e))"
   ]
  },
  {
   "cell_type": "code",
   "execution_count": 83,
   "metadata": {},
   "outputs": [
    {
     "data": {
      "text/html": [
       "<span style=\"font-size:20px;\"> <a class=\"ProveItLink\" href=\"../__pv_it/demonstrations/c6694cce1e0eb815c19b8e043f4d3bbde920e8e20/proof.ipynb\" style=\"text-decoration: none\">&nbsp;&#x22A2;&nbsp;&nbsp;</a><a class=\"ProveItLink\" href=\"../__pv_it/demonstrations/ca7a7341a1fe2312227216eb58eaa36058e3efc30/expr.ipynb\"><img src=\"data:image/png;base64,iVBORw0KGgoAAAANSUhEUgAAAE0AAAAVBAMAAADx+n4ZAAAAMFBMVEX///8AAAAAAAAAAAAAAAAA\n",
       "AAAAAAAAAAAAAAAAAAAAAAAAAAAAAAAAAAAAAAAAAAAv3aB7AAAAD3RSTlMAIomZu0QQVHbN72bd\n",
       "Mqv0UZE7AAAACXBIWXMAAA7EAAAOxAGVKw4bAAABPklEQVQoz2NgwAYEULkcZy5gVcZRgCbAFMDA\n",
       "IKTsiq6uCIjvJMB4vAYgdWwGDPVo2tkmMLA9ng9Xx/MApI7jO0P+BFR1zBuARD9cXQ9YHetSBn6I\n",
       "Og6fMyfBDC4GZHW8O8HqgKAepJ+BdQZMphJFHRMnVB3raTBfEm6REYq6Rqg63r63YP5EuPtmI6tj\n",
       "3MAJtxfsX4RnjiOrY2KAq+P6BnLumjNnzhwBSy1FVrcRqo73AgPLd1CgOcDNQ1bH2ABVx/8Noo7h\n",
       "AFZ7Wd+9e79OAaiO6wHEXoYOuDoPmDqIUi6wedwboOHHCY89PRChL8DA9hPM5XcA+yPYGJIO2J6E\n",
       "QdXdAeJ36+dtYDgDMpDZ/18DxL9QwKoCjTceWGpjT0BKV5iA2wAmzYBXHYMjlM4goC4FSjcQUMfY\n",
       "gJYPTgUAAJmLWVCoGLVVAAAAAElFTkSuQmCC\n",
       "\" style=\"display:inline;vertical-align:middle;\" /></a></span>"
      ],
      "text/plain": [
       "|- 3 in (1,4]"
      ]
     },
     "metadata": {},
     "output_type": "display_data"
    }
   ],
   "source": [
    "# Element in Half-Open Interval (1,4]\n",
    "IntervalOC(one, four).deduce_elem_in_set(three)"
   ]
  },
  {
   "cell_type": "code",
   "execution_count": 84,
   "metadata": {},
   "outputs": [
    {
     "data": {
      "text/html": [
       "<span style=\"font-size:20px;\"> <a class=\"ProveItLink\" href=\"../__pv_it/demonstrations/c92d41dc9dfe9b87f2019a41cedf5877d2d6854c0/proof.ipynb\" style=\"text-decoration: none\">&nbsp;&#x22A2;&nbsp;&nbsp;</a><a class=\"ProveItLink\" href=\"../__pv_it/demonstrations/460fa96849509f64660b76816d156ee845f23cce0/expr.ipynb\"><img src=\"data:image/png;base64,iVBORw0KGgoAAAANSUhEUgAAAE0AAAAVBAMAAADx+n4ZAAAAMFBMVEX///8AAAAAAAAAAAAAAAAA\n",
       "AAAAAAAAAAAAAAAAAAAAAAAAAAAAAAAAAAAAAAAAAAAv3aB7AAAAD3RSTlMAMpndq3ZmzYkiRO+7\n",
       "EFRAb64nAAAACXBIWXMAAA7EAAAOxAGVKw4bAAABKklEQVQoz2NgwAYmoHJZjQWwKmN9gCbAsQBE\n",
       "CqGrewHEwhdgPEYFqDoTNGW8BQy8TvVwdcwOEHWs6OqYEoBEPFxdMFSdWAnUVYeNzcEMbgZkdYzp\n",
       "UHUNEHVcpTCZ5yjqONgh6lgnQNRNh1ukgaIuEqpuGgNEXSXcfWXI6jgToOoaoOoK4OrskNVxMEDU\n",
       "sU2AqGPcbGxsbAOW2oWsLhOqbioDRB3vAbh5yOo4A6Dqlri4/PYAiRhgtZfLxcV/SwMkPraARULh\n",
       "6o7C1EGUckPDj+EPmMsOj/wWENE/gYH3O5jLfwCiTue/K9iBPmuh6oSB2GV/SQKDMchApvNfAiDm\n",
       "QQFXDzTemGGpje8CSrpCB2wKMGkGvOoYTkLpqwTU3YHSAQTUcQag5QPrBQC9AU9/6tYltAAAAABJ\n",
       "RU5ErkJggg==\n",
       "\" style=\"display:inline;vertical-align:middle;\" /></a></span>"
      ],
      "text/plain": [
       "|- 4 in (1,4]"
      ]
     },
     "metadata": {},
     "output_type": "display_data"
    }
   ],
   "source": [
    "# this should also work for the included (right) endpoint as well\n",
    "IntervalOC(one, four).deduce_elem_in_set(four)"
   ]
  },
  {
   "cell_type": "code",
   "execution_count": 85,
   "metadata": {},
   "outputs": [
    {
     "name": "stdout",
     "output_type": "stream",
     "text": [
      "Proof failure: Proof step failed:\n",
      "Attempting to instantiate |- forall_{a, b, x in Real | a < x <= b} (x in (a,b]) with {a: 1, b: 4, x: 1}:\n",
      "Unsatisfied condition: 1 < 1 <= 4. For debugging purposes, this is accessible via Instantiation.unsatisfied_condition with applicable assumptions in Instantiation.condition_assumptions.\n"
     ]
    }
   ],
   "source": [
    "# but this should NOT work for the discluded (left) endpoint\n",
    "try:\n",
    "    IntervalOC(one, four).deduce_elem_in_set(one)\n",
    "except ProofFailure as e:\n",
    "    print(\"Proof failure: {}\".format(e))"
   ]
  },
  {
   "cell_type": "code",
   "execution_count": 86,
   "metadata": {},
   "outputs": [
    {
     "data": {
      "text/html": [
       "<span style=\"font-size:20px;\"> <a class=\"ProveItLink\" href=\"../__pv_it/demonstrations/5aa6d81fe720d55f129665df7127338d29e157500/proof.ipynb\" style=\"text-decoration: none\">&nbsp;&#x22A2;&nbsp;&nbsp;</a><a class=\"ProveItLink\" href=\"../__pv_it/demonstrations/c45518a411da1a9be2fdf6db291ebf8dca8ec2220/expr.ipynb\"><img src=\"data:image/png;base64,iVBORw0KGgoAAAANSUhEUgAAAE0AAAAVBAMAAADx+n4ZAAAAMFBMVEX///8AAAAAAAAAAAAAAAAA\n",
       "AAAAAAAAAAAAAAAAAAAAAAAAAAAAAAAAAAAAAAAAAAAv3aB7AAAAD3RSTlMAIomZu0QQVHbN72bd\n",
       "Mqv0UZE7AAAACXBIWXMAAA7EAAAOxAGVKw4bAAABbElEQVQoz2NgwAQ9Z9EEBBiwAlV0gQgQIaTs\n",
       "iqGO0XjKBRiP14CBYwMDA5sBQ30BujoRBqavMB7PAwaGaQwMHN8Z8iegq3vIwLAK7lqgus0MDKxL\n",
       "Gfgh6jh8zpyEqlufwPAe6njenUB1XAkgZv0GEMk6IwFu3hsGhvdQBzJxAtVxglSwngYLSCag+Pc8\n",
       "lNMIUscExLx9b8ECE1HChfcHhM24AaSOG+wyiH8noKgD+RJsLQNIHfsCEJvrG8iANWfOnDkCV2cC\n",
       "1bMRrI73AwPvBQaW70ABNgdk87ihxjE2gNWxLmDg/wZRx3AAWV0RAyM4XFjfvXu/ToGB/QAD1wOI\n",
       "vQwdSOp4FRg4EtggPC6QPxwYuDdAw4+zAKFOxtjYBhZN/EAHMSswMAQbQ9IB25MwuLrz////ZOA5\n",
       "BuIw+/9rYOAJQIpWVhV4vEFAGVxKBm/6U4CLWONTx9YAE2B0wKeOAy7Agj3h66Dnj0YGBgAFoVd4\n",
       "XYcBAgAAAABJRU5ErkJggg==\n",
       "\" style=\"display:inline;vertical-align:middle;\" /></a></span>"
      ],
      "text/plain": [
       "|- 3 in [2,4)"
      ]
     },
     "metadata": {},
     "output_type": "display_data"
    }
   ],
   "source": [
    "# Element in Half-Open Interval [2,4)\n",
    "IntervalCO(two, four).deduce_elem_in_set(three)"
   ]
  },
  {
   "cell_type": "code",
   "execution_count": 87,
   "metadata": {},
   "outputs": [
    {
     "data": {
      "text/html": [
       "<span style=\"font-size:20px;\"> <a class=\"ProveItLink\" href=\"../__pv_it/demonstrations/19a0851bdd886f658898d61ad126dcdc436176fe0/proof.ipynb\" style=\"text-decoration: none\">&nbsp;&#x22A2;&nbsp;&nbsp;</a><a class=\"ProveItLink\" href=\"../__pv_it/demonstrations/8e1020076bafd28fc787ecad870b9f2a844fa1300/expr.ipynb\"><img src=\"data:image/png;base64,iVBORw0KGgoAAAANSUhEUgAAAEwAAAAVBAMAAAAeOBUnAAAAMFBMVEX///8AAAAAAAAAAAAAAAAA\n",
       "AAAAAAAAAAAAAAAAAAAAAAAAAAAAAAAAAAAAAAAAAAAv3aB7AAAAD3RSTlMAIpnNuzKJRKvvEN12\n",
       "ZlQ4bmvwAAAACXBIWXMAAA7EAAAOxAGVKw4bAAABYklEQVQoz2NgwAA8uwNQBRgZsAG2AjQB9gNA\n",
       "pUomARjKhJRd4dwgBoazDAwiDGzf0ZUxOjDkw43cwcDAvIChkYFhJroyDgEGzgkwlwKV8SowzF/A\n",
       "0C8AFjiye7cBRBnnLwaOj1BlsRZAYhZDNwNDP9hxxacQpm1g4PgK5SWAlNmCWPvBvrZC8Sn3B6id\n",
       "AiBlGUDM+gfEZxZAURZ/AMKRZQApuwzS2ABWhhpuO2B2gpW9BGIVMD9yNxA4wJQxOUBU8QqAlcUD\n",
       "WWDDGJagmHYDypZhACurZGB4xsAIchY3sjK+BAZBMLuio+NnGwPDawbWBAaeBSAvHUBSFsbAcIph\n",
       "AYQ7A4ivMEgrKWmDuXZIkbVJSWkD12cI9wsQqzHs//8fwl/hvgCmjPv///8GDLvBfJX/PQwM25Hi\n",
       "sswbFlkQPt8CeILbgCe9scFFmC7gUbYGLiKCL/XCvc7giFUZel7gEWAAAATTUiFEawBBAAAAAElF\n",
       "TkSuQmCC\n",
       "\" style=\"display:inline;vertical-align:middle;\" /></a></span>"
      ],
      "text/plain": [
       "|- 2 in [2,4)"
      ]
     },
     "metadata": {},
     "output_type": "display_data"
    }
   ],
   "source": [
    "# this should also work for the included (left) endpoint as well\n",
    "IntervalCO(two, four).deduce_elem_in_set(two)"
   ]
  },
  {
   "cell_type": "code",
   "execution_count": 88,
   "metadata": {},
   "outputs": [
    {
     "name": "stdout",
     "output_type": "stream",
     "text": [
      "Proof failure: Proof step failed:\n",
      "Attempting to instantiate |- forall_{a, b, x in Real | a <= x < b} (x in [a,b)) with {a: 2, b: 4, x: 4}:\n",
      "Unsatisfied condition: 2 <= 4 < 4. For debugging purposes, this is accessible via Instantiation.unsatisfied_condition with applicable assumptions in Instantiation.condition_assumptions.\n"
     ]
    }
   ],
   "source": [
    "# but this should NOT work for the discluded (right) endpoint\n",
    "try:\n",
    "    IntervalCO(two, four).deduce_elem_in_set(four)\n",
    "except ProofFailure as e:\n",
    "    print(\"Proof failure: {}\".format(e))"
   ]
  },
  {
   "cell_type": "code",
   "execution_count": 89,
   "metadata": {},
   "outputs": [
    {
     "data": {
      "text/html": [
       "<span style=\"font-size:20px;\"> <a class=\"ProveItLink\" href=\"../__pv_it/demonstrations/013fda587a0b2c3890951b901a9607c79ee4c70a0/proof.ipynb\" style=\"text-decoration: none\">&nbsp;&#x22A2;&nbsp;&nbsp;</a><a class=\"ProveItLink\" href=\"../__pv_it/demonstrations/e2df0b0fef9eae78092c877f17ffa481da1bde060/expr.ipynb\"><img src=\"data:image/png;base64,iVBORw0KGgoAAAANSUhEUgAAAEoAAAAVBAMAAAATJmVgAAAAMFBMVEX///8AAAAAAAAAAAAAAAAA\n",
       "AAAAAAAAAAAAAAAAAAAAAAAAAAAAAAAAAAAAAAAAAAAv3aB7AAAAD3RSTlMAIpnNuzKJRKvvEN12\n",
       "ZlQ4bmvwAAAACXBIWXMAAA7EAAAOxAGVKw4bAAABH0lEQVQoz2NgwAA8uwNQBU5vxVTEwFaALpLO\n",
       "wKhkEoCpinUXlCOW5A5SJcLA9h1D1QrlXxA2lwLD+wdAVY0MDDMxzeKBquL5x7DeAKhq/gKGfgGw\n",
       "yJHduw3QVbFPZ+AHqepmYOgHO6z4FBazgOD9BaAqINgPIhitGLCqYt/LAFbF+gfEYxbAqor1RCtE\n",
       "FXcDWBUDAw4bH4BVqYA5kbuBwAGLKs5fIFW8YKMYlmA1izWAgeUfSNUzBkaQk7ixquL/BVHFmsDA\n",
       "swAUfgfQVXGBrGuA2CitpKQNlrRDVsX2kQEU6Ay8FyDhtf///89gyRXuC+CqODo/9zJwg2K8SMkd\n",
       "EhIwUOaNiCEweIVIOXjSVwIxqrgOEKOKhwGvKox0Px0A+2VZW5CEOKwAAAAASUVORK5CYII=\n",
       "\" style=\"display:inline;vertical-align:middle;\" /></a></span>"
      ],
      "text/plain": [
       "|- 2 in [1,3]"
      ]
     },
     "metadata": {},
     "output_type": "display_data"
    }
   ],
   "source": [
    "# Element in a Closed Interval [1,3]\n",
    "IntervalCC(one, three).deduce_elem_in_set(two)"
   ]
  },
  {
   "cell_type": "code",
   "execution_count": 90,
   "metadata": {},
   "outputs": [
    {
     "data": {
      "text/html": [
       "<span style=\"font-size:20px;\"> <a class=\"ProveItLink\" href=\"../__pv_it/demonstrations/cb8a6fa3171ef0bf5d1adf101446bd8ee1a9a77b0/proof.ipynb\" style=\"text-decoration: none\">&nbsp;&#x22A2;&nbsp;&nbsp;</a><a class=\"ProveItLink\" href=\"../__pv_it/demonstrations/4d61de670e236af211a9ddf29001150b06048f860/expr.ipynb\"><img src=\"data:image/png;base64,iVBORw0KGgoAAAANSUhEUgAAAEoAAAAVBAMAAAATJmVgAAAAMFBMVEX///8AAAAAAAAAAAAAAAAA\n",
       "AAAAAAAAAAAAAAAAAAAAAAAAAAAAAAAAAAAAAAAAAAAv3aB7AAAAD3RSTlMAMt0Qq5nNdoki72a7\n",
       "RFSRpcO+AAAACXBIWXMAAA7EAAAOxAGVKw4bAAAA30lEQVQoz2NgwADsSgKoAkWKmIoYOC6gi/Qy\n",
       "MDAqY1EFF5zRehakyiTsM6YquCBzAMP7ByCz2LGogguy/2OwT0BRVaOklICuinctAz+KqmvFWMwC\n",
       "gvcbkFRxJjNgVcWrzYCkim0CVlWMJY4oqhgYcNiI7EcpJSA4gEUV12ckVTZYzWIUYOD5h6SKCasq\n",
       "/s+oqtgL0FUxg6xzgNrI8RMimYesCiQIDHQG7g2Q8GLx+uYNljQ5awBXBRZkAsX41VBwbCPAjUOI\n",
       "GAKDx0gpB3f6aiBGFXMBMarYGfCqwkj3awEA7llngAnF+wAAAABJRU5ErkJggg==\n",
       "\" style=\"display:inline;vertical-align:middle;\" /></a></span>"
      ],
      "text/plain": [
       "|- 1 in [1,3]"
      ]
     },
     "metadata": {},
     "output_type": "display_data"
    }
   ],
   "source": [
    "# this should also work for the included left endpoint\n",
    "IntervalCC(one, three).deduce_elem_in_set(one)"
   ]
  },
  {
   "cell_type": "code",
   "execution_count": 91,
   "metadata": {},
   "outputs": [
    {
     "data": {
      "text/html": [
       "<span style=\"font-size:20px;\"> <a class=\"ProveItLink\" href=\"../__pv_it/demonstrations/976e2616cf0a9c012a345b6d9e5f15950a58c33b0/proof.ipynb\" style=\"text-decoration: none\">&nbsp;&#x22A2;&nbsp;&nbsp;</a><a class=\"ProveItLink\" href=\"../__pv_it/demonstrations/b276bbbb9ccc5769d16271aba682a8b10a496e9a0/expr.ipynb\"><img src=\"data:image/png;base64,iVBORw0KGgoAAAANSUhEUgAAAEsAAAAVBAMAAAD85A5eAAAAMFBMVEX///8AAAAAAAAAAAAAAAAA\n",
       "AAAAAAAAAAAAAAAAAAAAAAAAAAAAAAAAAAAAAAAAAAAv3aB7AAAAD3RSTlMAIomZu0QQVHbN72bd\n",
       "Mqv0UZE7AAAACXBIWXMAAA7EAAAOxAGVKw4bAAABH0lEQVQoz2NgwAQ9Z1H5HGcuYFHFoIouwBTA\n",
       "wCCk7IpF2Z0ECJtRySQApIzNgKG+AF0Z2+P5UGXJDOzfQco4vjPkT8A0rR+qrL+A7SdIGetSBn6I\n",
       "Mg6fMycxlEUFMICVAUH9BhDJOiMBi2kMDOy/IcpYT4O5kgkMWJXFbAAr4+17C+ZOxOo2hhvvLsAs\n",
       "Bft0AnZlUJ8CAdc3IMG75syZM0ewKGNYnwBUxnuBgeU7kMPmgNW0uwwM/gVAZfzfIMoYDmBV9j8B\n",
       "oozrAcRShg4MZSCV66CWcm+AhhtnAbIyfQEGYPAzMOyGhVuwMSTq2Z6EIZS9Wz9vA8MZoHGsxpCo\n",
       "RwBWFaTIAgdFAlJCwp3emBiIUpZBnLIG/Mp00PPCqQAAR5dV8YFJGXEAAAAASUVORK5CYII=\n",
       "\" style=\"display:inline;vertical-align:middle;\" /></a></span>"
      ],
      "text/plain": [
       "|- 3 in [1,3]"
      ]
     },
     "metadata": {},
     "output_type": "display_data"
    }
   ],
   "source": [
    "# this should also work for the included right endpoint\n",
    "IntervalCC(one, three).deduce_elem_in_set(three)"
   ]
  },
  {
   "cell_type": "code",
   "execution_count": 92,
   "metadata": {},
   "outputs": [
    {
     "name": "stdout",
     "output_type": "stream",
     "text": [
      "Proof failure: Proof step failed:\n",
      "Attempting to instantiate |- forall_{a, b, x in Real | a <= x <= b} (x in [a,b]) with {a: 1, b: 3, x: 4}:\n",
      "Unsatisfied condition: 1 <= 4 <= 3. For debugging purposes, this is accessible via Instantiation.unsatisfied_condition with applicable assumptions in Instantiation.condition_assumptions.\n"
     ]
    }
   ],
   "source": [
    "# but this should NOT work for a value outside the interval\n",
    "try:\n",
    "    IntervalCC(one, three).deduce_elem_in_set(four)\n",
    "except ProofFailure as e:\n",
    "    print(\"Proof failure: {}\".format(e))"
   ]
  },
  {
   "cell_type": "markdown",
   "metadata": {},
   "source": [
    "### Testing the `derive_rescaled_membership()` methods for real intervals"
   ]
  },
  {
   "cell_type": "code",
   "execution_count": 93,
   "metadata": {},
   "outputs": [
    {
     "data": {
      "text/html": [
       "<span style=\"font-size:20px;\"> <a class=\"ProveItLink\" href=\"../__pv_it/demonstrations/7341ff4926b024658aea61157cb0b40e7cd2aa460/proof.ipynb\" style=\"text-decoration: none\">&nbsp;&#x22A2;&nbsp;&nbsp;</a><a class=\"ProveItLink\" href=\"../__pv_it/demonstrations/2226294427fdb58e20eb9729ef98e4e4f7e720300/expr.ipynb\"><img src=\"data:image/png;base64,iVBORw0KGgoAAAANSUhEUgAAAE8AAAAVBAMAAAD1D64kAAAAMFBMVEX///8AAAAAAAAAAAAAAAAA\n",
       "AAAAAAAAAAAAAAAAAAAAAAAAAAAAAAAAAAAAAAAAAAAv3aB7AAAAD3RSTlMAMpndq3ZmzYkiRO+7\n",
       "EFRAb64nAAAACXBIWXMAAA7EAAAOxAGVKw4bAAABm0lEQVQoz4WTPUjDQBTH/7XpR9omiIK4KR2q\n",
       "g2AxgouISAUHkSI4OAilqHMGFRyEIg4KgkFRcbKD4iQUdFEQIuLgIGYRF4duullxEKkar+8uoYaI\n",
       "R3Lv65d7d+9dAL9h/GM7I1T2OA65aPKCz8BmxyXXldXlIkI50ns9nKJDNrFRJKMBGAOWKJEXbMhB\n",
       "MhAvkTELPAD5mtoyJ3Z2pfWREmfPF6QPMlYIjFtMLXAwNm+JFZ8AKQ3plYyXW6SACNtkyODgrsOh\n",
       "k+ZghYRkj7MaRAeBHXBw0d3jAs1tWW51v7EqhnWWWYC6Cw7U10Jdu/tmcwlhg4OBE03T+il2Tkc3\n",
       "OZiHWrUQqGAbHFRMd0UCp4VxAeyXESvhIJOpjtQ86V+p1QL26Ht2JCkHlaKnFJ5wwWv2tgJTqNXh\n",
       "DEgYCFO+TwpH3JvAaiz3JJNp5Z0ZRxZm2I4LTO2yhynJ6LEAm1kRbdvWobElA0NJ1vRgsa7FsXXR\n",
       "wmCj8KhuD7Z8r2O4XShR15Xyv7g3Qt47Dtn0Bx+FzDqOxB//gpz1OCaBHyBQWTMxUtsYAAAAAElF\n",
       "TkSuQmCC\n",
       "\" style=\"display:inline;vertical-align:middle;\" /></a></span>"
      ],
      "text/plain": [
       "|- 4 in (2,8)"
      ]
     },
     "metadata": {},
     "output_type": "display_data"
    }
   ],
   "source": [
    "# Element in an Open Interval (1,3)\n",
    "InSet(two, IntervalOO(one, four)).derive_rescaled_membership(two)"
   ]
  },
  {
   "cell_type": "markdown",
   "metadata": {},
   "source": [
    "*alternate way*"
   ]
  },
  {
   "cell_type": "code",
   "execution_count": 94,
   "metadata": {},
   "outputs": [
    {
     "data": {
      "text/html": [
       "<span style=\"font-size:20px;\"> <a class=\"ProveItLink\" href=\"../__pv_it/demonstrations/7341ff4926b024658aea61157cb0b40e7cd2aa460/proof.ipynb\" style=\"text-decoration: none\">&nbsp;&#x22A2;&nbsp;&nbsp;</a><a class=\"ProveItLink\" href=\"../__pv_it/demonstrations/2226294427fdb58e20eb9729ef98e4e4f7e720300/expr.ipynb\"><img src=\"data:image/png;base64,iVBORw0KGgoAAAANSUhEUgAAAE8AAAAVBAMAAAD1D64kAAAAMFBMVEX///8AAAAAAAAAAAAAAAAA\n",
       "AAAAAAAAAAAAAAAAAAAAAAAAAAAAAAAAAAAAAAAAAAAv3aB7AAAAD3RSTlMAMpndq3ZmzYkiRO+7\n",
       "EFRAb64nAAAACXBIWXMAAA7EAAAOxAGVKw4bAAABm0lEQVQoz4WTPUjDQBTH/7XpR9omiIK4KR2q\n",
       "g2AxgouISAUHkSI4OAilqHMGFRyEIg4KgkFRcbKD4iQUdFEQIuLgIGYRF4duullxEKkar+8uoYaI\n",
       "R3Lv65d7d+9dAL9h/GM7I1T2OA65aPKCz8BmxyXXldXlIkI50ns9nKJDNrFRJKMBGAOWKJEXbMhB\n",
       "MhAvkTELPAD5mtoyJ3Z2pfWREmfPF6QPMlYIjFtMLXAwNm+JFZ8AKQ3plYyXW6SACNtkyODgrsOh\n",
       "k+ZghYRkj7MaRAeBHXBw0d3jAs1tWW51v7EqhnWWWYC6Cw7U10Jdu/tmcwlhg4OBE03T+il2Tkc3\n",
       "OZiHWrUQqGAbHFRMd0UCp4VxAeyXESvhIJOpjtQ86V+p1QL26Ht2JCkHlaKnFJ5wwWv2tgJTqNXh\n",
       "DEgYCFO+TwpH3JvAaiz3JJNp5Z0ZRxZm2I4LTO2yhynJ6LEAm1kRbdvWobElA0NJ1vRgsa7FsXXR\n",
       "wmCj8KhuD7Z8r2O4XShR15Xyv7g3Qt47Dtn0Bx+FzDqOxB//gpz1OCaBHyBQWTMxUtsYAAAAAElF\n",
       "TkSuQmCC\n",
       "\" style=\"display:inline;vertical-align:middle;\" /></a></span>"
      ],
      "text/plain": [
       "|- 4 in (2,8)"
      ]
     },
     "metadata": {},
     "output_type": "display_data"
    }
   ],
   "source": [
    "# Element in an Open Interval (1,3)\n",
    "IntervalOO(one, four).deduce_rescaled_membership(two, two)"
   ]
  },
  {
   "cell_type": "code",
   "execution_count": 95,
   "metadata": {},
   "outputs": [
    {
     "data": {
      "text/html": [
       "<span style=\"font-size:20px;\"> <a class=\"ProveItLink\" href=\"../__pv_it/demonstrations/729f2bc381ff1798043b34382720c4e8fc8d62a20/proof.ipynb\" style=\"text-decoration: none\">&nbsp;&#x22A2;&nbsp;&nbsp;</a><a class=\"ProveItLink\" href=\"../__pv_it/demonstrations/87c2cdb5b632636be803a5b55fea69330b45a3760/expr.ipynb\"><img src=\"data:image/png;base64,iVBORw0KGgoAAAANSUhEUgAAAE0AAAAVBAMAAADx+n4ZAAAAMFBMVEX///8AAAAAAAAAAAAAAAAA\n",
       "AAAAAAAAAAAAAAAAAAAAAAAAAAAAAAAAAAAAAAAAAAAv3aB7AAAAD3RSTlMAiTIizUSr3Xa7VBDv\n",
       "mWZb+y3UAAAACXBIWXMAAA7EAAAOxAGVKw4bAAABfElEQVQoz2NgwAYMULkc5QpYlXEsQBNgDAAS\n",
       "goLoqhcyMBjKToVy7l7bAFZnEsBWgKqM24GB+wLDeoih2xuYDoPVeTBwTkBVx/uAgeMXw34HMCeH\n",
       "gWEmSB3Xb7irppeXgBk8DAysRxn4Ieq+MDDIbwCq4zwAVcbqsQHKWgIm1z8Au+EnA0N/AFAdj5PE\n",
       "VbC4CUwZw0WwtjoGuHkPgOr4/Rh4wC52hrvPD4iZ2pIYYO6b3wBUt/8DA+9pkIADXF0VxF6If/cE\n",
       "MOUvAKkrYOD7CjLgeHl5eSVY6ijENxAPct+Q6lcA2evAwPcPxEcEDlAdkwID5y8YH+JfqHkMBcj2\n",
       "8v9GUgcJP6D7wEHTAVc3A2hpAsheUAis2cD9CRwfExn2gF3MAo98MQYGvgfA8OMGhglD+wbOB2B1\n",
       "jHchIcCdGQ1Vpw7EsXeB6aAcaCCj7FVoeoEBVklovLHD0g/XBuR0hQH4LsCkGfCqY5gMpXcQULcT\n",
       "SjcQUMfcgJYPagIA8/5fzT+RmbkAAAAASUVORK5CYII=\n",
       "\" style=\"display:inline;vertical-align:middle;\" /></a></span>"
      ],
      "text/plain": [
       "|- 6 in (3,9]"
      ]
     },
     "metadata": {},
     "output_type": "display_data"
    }
   ],
   "source": [
    "# Element in an Half-Open Interval (1,3]\n",
    "InSet(two, IntervalOC(one, three)).derive_rescaled_membership(three)"
   ]
  },
  {
   "cell_type": "code",
   "execution_count": 96,
   "metadata": {},
   "outputs": [
    {
     "data": {
      "text/html": [
       "<span style=\"font-size:20px;\"> <a class=\"ProveItLink\" href=\"../__pv_it/demonstrations/99678f9aafa9bc558365488d4641c748e5b590750/proof.ipynb\" style=\"text-decoration: none\">&nbsp;&#x22A2;&nbsp;&nbsp;</a><a class=\"ProveItLink\" href=\"../__pv_it/demonstrations/9ac605a3cc80c9f12cb33eb118d3b19de4c350e90/expr.ipynb\"><img src=\"data:image/png;base64,iVBORw0KGgoAAAANSUhEUgAAAFcAAAAVBAMAAADBdm84AAAAMFBMVEX///8AAAAAAAAAAAAAAAAA\n",
       "AAAAAAAAAAAAAAAAAAAAAAAAAAAAAAAAAAAAAAAAAAAv3aB7AAAAD3RSTlMAEImZRKtUZs27dt0i\n",
       "7zLMHA9cAAAACXBIWXMAAA7EAAAOxAGVKw4bAAABhElEQVQoz32TvU/CUBTFT0uhWEptTJwhbm4k\n",
       "NX7ERVcnFkKMmiL/gCQuDg4wahy6a2JnZcBNUxMYJSw4OBkji7smapCY1PsK2NfScIe29/TX13vv\n",
       "Ow+YCMXpISJaUSLEjUh5i13mFpYiYC03yrQbQDVOelAqlOUQL03CqfwwmV/9ANoQP4EaIFcgVCfh\n",
       "6/y4A4J3gRfgkF7lx7By7tyOYe2Ih191mC2kdSR+9BirBtKp7q8sJnl4BzB7SBJmDpY99UHnyqgH\n",
       "YIqmVwNi7r2XnnE1q5UQrA2oO6q23Ha9aVQ5WEQIZsNJdCHncPDIvn12HOduBB+H4TVGvLMe1W96\n",
       "FCx/ZdUOwTLLpC4ydCsyteHDUqFgPmU5uAy1hUQDaTLIBVOvApuSpvH/w1oWig7ZglSDbDM1WeLh\n",
       "WQsZr2XxF+gYxjqNjf71ZgyNJGxv+nDs8stOkYUQ3+sX0XTdPk2Ed6O06G+3F/tBN3am+jkb1Fem\n",
       "wYIdkFVrGqwE5ZnIcyVGn8E68AeRuGAk8FAwMQAAAABJRU5ErkJggg==\n",
       "\" style=\"display:inline;vertical-align:middle;\" /></a></span>"
      ],
      "text/plain": [
       "|- 8 in [4,12)"
      ]
     },
     "metadata": {},
     "output_type": "display_data"
    }
   ],
   "source": [
    "# Element in an Half-Open Interval [1,3)\n",
    "InSet(two, IntervalCO(one, three)).derive_rescaled_membership(four)"
   ]
  },
  {
   "cell_type": "code",
   "execution_count": 97,
   "metadata": {},
   "outputs": [
    {
     "data": {
      "text/html": [
       "<span style=\"font-size:20px;\"> <a class=\"ProveItLink\" href=\"../__pv_it/demonstrations/a919e74eda04ebd837ab8b6231443b333892b0900/proof.ipynb\" style=\"text-decoration: none\">&nbsp;&#x22A2;&nbsp;&nbsp;</a><a class=\"ProveItLink\" href=\"../__pv_it/demonstrations/91327f953cc4e4541b92e780101dec1458c5d6930/expr.ipynb\"><img src=\"data:image/png;base64,iVBORw0KGgoAAAANSUhEUgAAAEsAAAAVBAMAAAD85A5eAAAAMFBMVEX///8AAAAAAAAAAAAAAAAA\n",
       "AAAAAAAAAAAAAAAAAAAAAAAAAAAAAAAAAAAAAAAAAAAv3aB7AAAAD3RSTlMAiTIizUSr3Xa7VBDv\n",
       "mWZb+y3UAAAACXBIWXMAAA7EAAAOxAGVKw4bAAABYklEQVQoz2NgwATtRah8jnIFLKoYRNEFGAOA\n",
       "hKCgAoYyRonLEDa3oGwAWJlJAFsBhjIvhu0GYDYvA0MWWJkHA+cEdGV8BQyMEMF3DAxbQMq4fsNd\n",
       "Or28BKqMMwEmLgZVxnkAqorVYwPcNP4LDEy/wOz1sxnugZTxOElcBQuYbEBYuh+o7B+Yzfa/dwFI\n",
       "Gb8fA88CkIAzktvsBRiYfkA4978bgJTt/8DAexrEd0BT9hHM5hKe/wusrICB7yuQz3S8vLy8Emap\n",
       "AAMrxLS3DFx/NoAsdWDgAzmDewKSaUAvcEG8ALTIfgHIp1DTGAqQlAFDkg8cINwfgL54AAo3oNvA\n",
       "YdKBHLwHGHgdGEBeP8zAwGkAioWJDHvAPmVZgBRZVQx7FLi/ANkhGxhegCOL8W4SJJIzoxHK9koA\n",
       "BcuBxjHl3oVEPRywSsIjCwK4NiAnJJzpjZGBKGU7iFPWgF+ZOHpeqAkAAFYXV2TH5E3oAAAAAElF\n",
       "TkSuQmCC\n",
       "\" style=\"display:inline;vertical-align:middle;\" /></a></span>"
      ],
      "text/plain": [
       "|- 6 in [0,8]"
      ]
     },
     "metadata": {},
     "output_type": "display_data"
    }
   ],
   "source": [
    "# Element in an Closed Interval [1,3]\n",
    "InSet(three, IntervalCC(zero, four)).derive_rescaled_membership(two)"
   ]
  },
  {
   "cell_type": "markdown",
   "metadata": {},
   "source": [
    "### Testing the `deduce_left/right_relaxed_membership()` methods for real intervals"
   ]
  },
  {
   "cell_type": "code",
   "execution_count": 98,
   "metadata": {},
   "outputs": [
    {
     "data": {
      "text/html": [
       "<span style=\"font-size:20px;\"><a class=\"ProveItLink\" href=\"../__pv_it/demonstrations/19e0f1785ad56bd46dc685778d38f9dca802e4cc0/expr.ipynb\"><img src=\"data:image/png;base64,iVBORw0KGgoAAAANSUhEUgAAAE4AAAAVBAMAAAAazcUaAAAAMFBMVEX///8AAAAAAAAAAAAAAAAA\n",
       "AAAAAAAAAAAAAAAAAAAAAAAAAAAAAAAAAAAAAAAAAAAv3aB7AAAAD3RSTlMAiXZmMiLdVJm77xBE\n",
       "zatgdeJyAAAACXBIWXMAAA7EAAAOxAGVKw4bAAABSklEQVQoz2NgwAJYCfBhQB2Nz6OAVRm7AAMD\n",
       "Szac68HAoIxV3V4Ghn29v+HcPAYG3g3Y1DUDMRNcHRNQHXMDkrRmWtoFMGMBijrne0BiNULZWW2Y\n",
       "8y6gqBMAqbsMxELKDiC/34ZJcAggq2MKAKmTY2AIK+CYAGTxBsDU8RogqwtmAKmzZWBIZOACBQ8v\n",
       "3AFsBcjqBMDqqhg4oAJeaUAAMpiB6wCSOuYAsDp/Bq4JEIGdcPNQ1AUxgNWdYtgPjRM27Paee/fu\n",
       "10MGhjIGfqCrwQbA45BTAaqOG8JfB8SWDEDPMoLCheE6TB3jAxDxlYFhPyTYfwJxIwODoDEkgPfN\n",
       "gUYiSwIDA9+rv48Z2MBpofP/IwaGHKR4OzgNGm8pMJFqeAJMwJYOLOBRBo8iA2zqOKFRww33WiTW\n",
       "9McNDVImuMhU7Ok+CI3PFMAAAA/OSiUQ2jQ5AAAAAElFTkSuQmCC\n",
       "\" style=\"display:inline;vertical-align:middle;\" /></a> <a class=\"ProveItLink\" href=\"../__pv_it/demonstrations/f5f91a5772a06c262744321485aa7b59ab520efa0/proof.ipynb\" style=\"text-decoration: none\">&nbsp;&#x22A2;&nbsp;&nbsp;</a><a class=\"ProveItLink\" href=\"../__pv_it/demonstrations/d701564a95e6650c8f18aac5d886b77ff95db0570/expr.ipynb\"><img src=\"data:image/png;base64,iVBORw0KGgoAAAANSUhEUgAAAEsAAAAVBAMAAAD85A5eAAAAMFBMVEX///8AAAAAAAAAAAAAAAAA\n",
       "AAAAAAAAAAAAAAAAAAAAAAAAAAAAAAAAAAAAAAAAAAAv3aB7AAAAD3RSTlMAiXZmMiLdVJm77xBE\n",
       "zatgdeJyAAAACXBIWXMAAA7EAAAOxAGVKw4bAAABJUlEQVQoz2NgwABqKWgCAQzYgAy6wCGcytw2\n",
       "wHgsDQxMBtiVcb+4D1fG9oCB4TYu0/ThytSAyiyQZJmmpeViKmOxBSrjgmti4Lm0AZtpjLxAZbwg\n",
       "xwkpOwDJ2A1YLVUFKWME4rACjglA/lWsbmM1ACljvsDAkMjApQAUuIBVGSMDSBn7AgaO3xCnLktL\n",
       "S8vEUGYKVsbygYFrApjPPQGbaawKYGU8Cxj2K0AkE7Ap43n37v06AQb2BAZ+oGcPAEWUMJRBVHKB\n",
       "vDCBAehNRlCA8BYgK5MPYOD+C+bxA13DIcDAIGisDXbcy9MIZe/W3zNgSAMZxzH/nwID2wFEZPFI\n",
       "IkUWCLDDAzwMX3pjhIs041O2CSbAOgGfMgWYACfWVC6GnhdUGRgAcB9F4JrzlH8AAAAASUVORK5C\n",
       "YII=\n",
       "\" style=\"display:inline;vertical-align:middle;\" /></a></span>"
      ],
      "text/plain": [
       "{c in (1,4)} |- c in [1,4)"
      ]
     },
     "metadata": {},
     "output_type": "display_data"
    }
   ],
   "source": [
    "# Element in open interval (1,4) means element in half-open interval [1,4)\n",
    "InSet(c, IntervalOO(one, four)).derive_left_relaxed_membership(\n",
    "    assumptions=[InSet(c, IntervalOO(one, four))])"
   ]
  },
  {
   "cell_type": "code",
   "execution_count": 99,
   "metadata": {},
   "outputs": [
    {
     "data": {
      "text/html": [
       "<span style=\"font-size:20px;\"><a class=\"ProveItLink\" href=\"../__pv_it/demonstrations/19e0f1785ad56bd46dc685778d38f9dca802e4cc0/expr.ipynb\"><img src=\"data:image/png;base64,iVBORw0KGgoAAAANSUhEUgAAAE4AAAAVBAMAAAAazcUaAAAAMFBMVEX///8AAAAAAAAAAAAAAAAA\n",
       "AAAAAAAAAAAAAAAAAAAAAAAAAAAAAAAAAAAAAAAAAAAv3aB7AAAAD3RSTlMAiXZmMiLdVJm77xBE\n",
       "zatgdeJyAAAACXBIWXMAAA7EAAAOxAGVKw4bAAABSklEQVQoz2NgwAJYCfBhQB2Nz6OAVRm7AAMD\n",
       "Szac68HAoIxV3V4Ghn29v+HcPAYG3g3Y1DUDMRNcHRNQHXMDkrRmWtoFMGMBijrne0BiNULZWW2Y\n",
       "8y6gqBMAqbsMxELKDiC/34ZJcAggq2MKAKmTY2AIK+CYAGTxBsDU8RogqwtmAKmzZWBIZOACBQ8v\n",
       "3AFsBcjqBMDqqhg4oAJeaUAAMpiB6wCSOuYAsDp/Bq4JEIGdcPNQ1AUxgNWdYtgPjRM27Paee/fu\n",
       "10MGhjIGfqCrwQbA45BTAaqOG8JfB8SWDEDPMoLCheE6TB3jAxDxlYFhPyTYfwJxIwODoDEkgPfN\n",
       "gUYiSwIDA9+rv48Z2MBpofP/IwaGHKR4OzgNGm8pMJFqeAJMwJYOLOBRBo8iA2zqOKFRww33WiTW\n",
       "9McNDVImuMhU7Ok+CI3PFMAAAA/OSiUQ2jQ5AAAAAElFTkSuQmCC\n",
       "\" style=\"display:inline;vertical-align:middle;\" /></a> <a class=\"ProveItLink\" href=\"../__pv_it/demonstrations/e1db043714f52fad03780f1abca12f2e207038f80/proof.ipynb\" style=\"text-decoration: none\">&nbsp;&#x22A2;&nbsp;&nbsp;</a><a class=\"ProveItLink\" href=\"../__pv_it/demonstrations/46873b211722627e75e3ad907df09e12d314e9600/expr.ipynb\"><img src=\"data:image/png;base64,iVBORw0KGgoAAAANSUhEUgAAAEwAAAAVBAMAAAAeOBUnAAAAMFBMVEX///8AAAAAAAAAAAAAAAAA\n",
       "AAAAAAAAAAAAAAAAAAAAAAAAAAAAAAAAAAAAAAAAAAAv3aB7AAAAD3RSTlMAiXZmMiLdVJm77xBE\n",
       "zatgdeJyAAAACXBIWXMAAA7EAAAOxAGVKw4bAAABF0lEQVQoz2NgwAIC0PhqKdhUMRWgi8hgU1YI\n",
       "xG4b4FwP7Mq4LzBwv7iPUJaHXRmHAZDQhytjQlXGNC0tF8zgYkBR5nwPWRnPJZhELaoyAagyIWUH\n",
       "IBkLF29EUcYUAFEWVsAxAci9Cjf3MoqyYAaIskQGLgUg9wJcWTqKMgGIMo7fYB7LsrS0tEwwcw2y\n",
       "MuYAiDKuCZDAmgA3DUVZEANE2X4FCD8Bu6Xn3r379RCojB8YmAeAfCW4skkwZVCV68Bum8DACAoQ\n",
       "Xnh8y4EI+QAG7r8Q/k+wTwWNtcGOe3kaqswNiN+tv2fAkAY2rvP/I+TI4pGERhabA1SEfQO+hMTc\n",
       "AGUw4k9vU6H0JvzKdkJpBfzKWBXQ88IaAIk1RWfbP9QrAAAAAElFTkSuQmCC\n",
       "\" style=\"display:inline;vertical-align:middle;\" /></a></span>"
      ],
      "text/plain": [
       "{c in (1,4)} |- c in (1,4]"
      ]
     },
     "metadata": {},
     "output_type": "display_data"
    }
   ],
   "source": [
    "# Element in open interval (1,4) means element in half-open interval (1,4]\n",
    "InSet(c, IntervalOO(one, four)).derive_right_relaxed_membership(\n",
    "    assumptions=[InSet(c, IntervalOO(one, four))])"
   ]
  },
  {
   "cell_type": "code",
   "execution_count": 100,
   "metadata": {},
   "outputs": [
    {
     "data": {
      "text/html": [
       "<span style=\"font-size:20px;\"><a class=\"ProveItLink\" href=\"../__pv_it/demonstrations/19e0f1785ad56bd46dc685778d38f9dca802e4cc0/expr.ipynb\"><img src=\"data:image/png;base64,iVBORw0KGgoAAAANSUhEUgAAAE4AAAAVBAMAAAAazcUaAAAAMFBMVEX///8AAAAAAAAAAAAAAAAA\n",
       "AAAAAAAAAAAAAAAAAAAAAAAAAAAAAAAAAAAAAAAAAAAv3aB7AAAAD3RSTlMAiXZmMiLdVJm77xBE\n",
       "zatgdeJyAAAACXBIWXMAAA7EAAAOxAGVKw4bAAABSklEQVQoz2NgwAJYCfBhQB2Nz6OAVRm7AAMD\n",
       "Szac68HAoIxV3V4Ghn29v+HcPAYG3g3Y1DUDMRNcHRNQHXMDkrRmWtoFMGMBijrne0BiNULZWW2Y\n",
       "8y6gqBMAqbsMxELKDiC/34ZJcAggq2MKAKmTY2AIK+CYAGTxBsDU8RogqwtmAKmzZWBIZOACBQ8v\n",
       "3AFsBcjqBMDqqhg4oAJeaUAAMpiB6wCSOuYAsDp/Bq4JEIGdcPNQ1AUxgNWdYtgPjRM27Paee/fu\n",
       "10MGhjIGfqCrwQbA45BTAaqOG8JfB8SWDEDPMoLCheE6TB3jAxDxlYFhPyTYfwJxIwODoDEkgPfN\n",
       "gUYiSwIDA9+rv48Z2MBpofP/IwaGHKR4OzgNGm8pMJFqeAJMwJYOLOBRBo8iA2zqOKFRww33WiTW\n",
       "9McNDVImuMhU7Ok+CI3PFMAAAA/OSiUQ2jQ5AAAAAElFTkSuQmCC\n",
       "\" style=\"display:inline;vertical-align:middle;\" /></a> <a class=\"ProveItLink\" href=\"../__pv_it/demonstrations/e01e73affcd290c5432ee2ca3dc0d4392fac24820/proof.ipynb\" style=\"text-decoration: none\">&nbsp;&#x22A2;&nbsp;&nbsp;</a><a class=\"ProveItLink\" href=\"../__pv_it/demonstrations/cc53d918fd90dc2a2ee538fad694f7a6d70d71900/expr.ipynb\"><img src=\"data:image/png;base64,iVBORw0KGgoAAAANSUhEUgAAAEkAAAAVBAMAAAD4Ed5jAAAAMFBMVEX///8AAAAAAAAAAAAAAAAA\n",
       "AAAAAAAAAAAAAAAAAAAAAAAAAAAAAAAAAAAAAAAAAAAv3aB7AAAAD3RSTlMAiXZmMiLdVJm77xBE\n",
       "zatgdeJyAAAACXBIWXMAAA7EAAAOxAGVKw4bAAAA70lEQVQoz2NgwABqKah8pjQHTEUMMugCjAdw\n",
       "qHLbAOOxNOBSxf3iPlwV2wPcZunDVamhqdJMS7uAoYrFFlXVWW1sZjHyQlUJKYN8ynobq42qUFVh\n",
       "BRwTgFzeAGyqWA2gqhIZuBRAqrC6npEBoorjN4TvlQYEE9BVmUJVcU2A8HdiM4tVAapqvwI09LCp\n",
       "4nn37v06AaAqfgMGBpBPmRTQVUEUckHcNYGBERzn15FVyQcwcP8F8/gngP0oaAwJzn1zNsBVvVt/\n",
       "z4AhDcTnmP9PASWGDk5DxBAIsG8glHIgYUWMqk1EqVLAq0oMPd1nHQAA919LgYdIDwwAAAAASUVO\n",
       "RK5CYII=\n",
       "\" style=\"display:inline;vertical-align:middle;\" /></a></span>"
      ],
      "text/plain": [
       "{c in (1,4)} |- c in [1,4]"
      ]
     },
     "metadata": {},
     "output_type": "display_data"
    }
   ],
   "source": [
    "# Element in open interval (1,4) means element in half-open interval (1,4]\n",
    "InSet(c, IntervalOO(one, four)).derive_fully_relaxed_membership(\n",
    "    assumptions=[InSet(c, IntervalOO(one, four))])"
   ]
  },
  {
   "cell_type": "code",
   "execution_count": 101,
   "metadata": {},
   "outputs": [
    {
     "data": {
      "text/html": [
       "<span style=\"font-size:20px;\"><a class=\"ProveItLink\" href=\"../__pv_it/demonstrations/d0815a6616c5794427bb71988e577dc9ff3773ff0/expr.ipynb\"><img src=\"data:image/png;base64,iVBORw0KGgoAAAANSUhEUgAAAEwAAAAVBAMAAAAeOBUnAAAAMFBMVEX///8AAAAAAAAAAAAAAAAA\n",
       "AAAAAAAAAAAAAAAAAAAAAAAAAAAAAAAAAAAAAAAAAAAv3aB7AAAAD3RSTlMAiXZmMiLdVJm77xBE\n",
       "zatgdeJyAAAACXBIWXMAAA7EAAAOxAGVKw4bAAABXklEQVQoz2NgwAIC0PhqKdhUMRWgi8hgU1bI\n",
       "wMAo1ArlBErMwa6M+wIDw3WGbRCbuRsY6guwKuMwYGBOYGCcAHHAd4b9F5CVMU1LywUzuBgYOB8w\n",
       "sP8Gc3jWMPAjK+O5tAHKqmVg4G9gYPkOk6k3ACsTUnYAkrEwVQyNDAz7gco+w/Qng70QVsABcsZV\n",
       "uLmXGRjiBRhYPkF4LHpPwMoSGbgUgNwLcGXpEGUf4ZaCfMoBcSrLsrS0tEwwcw3QUgEGnk8wZVy/\n",
       "gcq4IB7nngA3bQ3YC+wQL7A4MHB+ByrbrwCRTEC2lHMCAzPEFv7fEGX8BgwMB4B8JbiySQwMzAsY\n",
       "OC4wgPzO9QBiKdCbjKAA4YXHtxzYxF0O3H+BDGYDaLgJGmuDHffyNFSZGxDvEAIGQxrIuBMdqFHP\n",
       "IwmNLDYHqAj7BnwJibkBymDEn96mQulN+JXthNIK+JWxKqDnhTUAGIZMzXgSLHcAAAAASUVORK5C\n",
       "YII=\n",
       "\" style=\"display:inline;vertical-align:middle;\" /></a> <a class=\"ProveItLink\" href=\"../__pv_it/demonstrations/01dbf217609173df4938fb62fcb4474dfde0bcbe0/proof.ipynb\" style=\"text-decoration: none\">&nbsp;&#x22A2;&nbsp;&nbsp;</a><a class=\"ProveItLink\" href=\"../__pv_it/demonstrations/633691462aa6e68c95ddaa8348081e8b86d8709d0/expr.ipynb\"><img src=\"data:image/png;base64,iVBORw0KGgoAAAANSUhEUgAAAEkAAAAVBAMAAAD4Ed5jAAAAMFBMVEX///8AAAAAAAAAAAAAAAAA\n",
       "AAAAAAAAAAAAAAAAAAAAAAAAAAAAAAAAAAAAAAAAAAAv3aB7AAAAD3RSTlMAiXZmMiLdVJm77xBE\n",
       "zatgdeJyAAAACXBIWXMAAA7EAAAOxAGVKw4bAAABM0lEQVQoz2NgwABqKah8pjQHTEUMMugCjAew\n",
       "q2IUaoWwWQU7D+BUdZ1hWwCYvYOB/TsuVcwJDIwTwGz9Au6/qKo009IuQFRxPmBg/w0WO3WAAVXV\n",
       "WW24WfwNDCzfoTz2zxBVQsogn7LeRti4H6jqM5R3zACsKqyAA+QG3gCEqngBBpZPEI7TOwewqkQG\n",
       "LgWQKgZUVR9hNoL9yAFxJoNXGhBMgNoowMDzCaZp/QagKi6Ilxl2IpkFdD07xPUuDAzzC4Cq9itA\n",
       "5NiQVHFOYGCGWPF/A0QVvwEDA8inTApIobqAgeMCwwYgex3URqAHGcFxfh0phtIZdjkAA52BwRgW\n",
       "XoLGkODcN2cDXNUOoScMDGlAPk8HemwfnAaLIWgYbCCQciCSDMSo2kSUKgW8qsTQ033WAQDnNFcB\n",
       "Th2ZMgAAAABJRU5ErkJggg==\n",
       "\" style=\"display:inline;vertical-align:middle;\" /></a></span>"
      ],
      "text/plain": [
       "{c in (0,3]} |- c in [0,3]"
      ]
     },
     "metadata": {},
     "output_type": "display_data"
    }
   ],
   "source": [
    "# Element in half-open interval (0,3] means element in closed interval [0,3]\n",
    "InSet(c, IntervalOC(zero, three)).derive_relaxed_membership(\n",
    "        assumptions=[InSet(c, IntervalOC(zero, three))])"
   ]
  },
  {
   "cell_type": "code",
   "execution_count": 102,
   "metadata": {},
   "outputs": [
    {
     "data": {
      "text/html": [
       "<span style=\"font-size:20px;\"><a class=\"ProveItLink\" href=\"../__pv_it/demonstrations/385dea1a3a8a92a846cd6bef73134983a51801bb0/expr.ipynb\"><img src=\"data:image/png;base64,iVBORw0KGgoAAAANSUhEUgAAAEsAAAAVBAMAAAD85A5eAAAAMFBMVEX///8AAAAAAAAAAAAAAAAA\n",
       "AAAAAAAAAAAAAAAAAAAAAAAAAAAAAAAAAAAAAAAAAAAv3aB7AAAAD3RSTlMAiXZmMiLdVJm77xBE\n",
       "zatgdeJyAAAACXBIWXMAAA7EAAAOxAGVKw4bAAABZklEQVQoz2NgwABqKWgCAQzYgAy6wCFcyhiF\n",
       "WiFsVsHOAwxMBjiUXWfYBrFpBwP7dwaG29iVMScwME4As/ULuP8yMFggyTJNS8uFKuN8wMD+G8w+\n",
       "dYABqIxrA1wVz6UNcNP4GxhYvkN57J8ZGHhBjhNSdgCSsRsQlu4HKvsM5R0DKmF8wMAQVsABcsdV\n",
       "JLfFCzCwfIJwnN4BzWC+wMCQyMClAORfQFP2EWYp0Hb2BQwcELeyLEtLS8uEWSrAwPMJpmv9BgaW\n",
       "DwxcEJ9zT0AyDegFdogXXBgY5hcw8Cxg2K8AkUxAUsY5gYEZYsn/DSBl7AkM/ECfHAAKKCEHL9At\n",
       "FxhAXl8HtpR5AgPQm4ygAOEtQIqsdIZdDqDgZzAGhxuHAAODoLE22HEvTyOU7RB6wsCQBjSOpwMY\n",
       "9QxsBxCRxSMJjyxoUMADPAxfemOEizTjU7YJJsA6AZ8yBZgAJ9ZULoaeF1QZGAD1XFFgTZjCoAAA\n",
       "AABJRU5ErkJggg==\n",
       "\" style=\"display:inline;vertical-align:middle;\" /></a> <a class=\"ProveItLink\" href=\"../__pv_it/demonstrations/89a707a02d5bed4350d4a1ecdff85aadcb1c44c20/proof.ipynb\" style=\"text-decoration: none\">&nbsp;&#x22A2;&nbsp;&nbsp;</a><a class=\"ProveItLink\" href=\"../__pv_it/demonstrations/633691462aa6e68c95ddaa8348081e8b86d8709d0/expr.ipynb\"><img src=\"data:image/png;base64,iVBORw0KGgoAAAANSUhEUgAAAEkAAAAVBAMAAAD4Ed5jAAAAMFBMVEX///8AAAAAAAAAAAAAAAAA\n",
       "AAAAAAAAAAAAAAAAAAAAAAAAAAAAAAAAAAAAAAAAAAAv3aB7AAAAD3RSTlMAiXZmMiLdVJm77xBE\n",
       "zatgdeJyAAAACXBIWXMAAA7EAAAOxAGVKw4bAAABM0lEQVQoz2NgwABqKah8pjQHTEUMMugCjAew\n",
       "q2IUaoWwWQU7D+BUdZ1hWwCYvYOB/TsuVcwJDIwTwGz9Au6/qKo009IuQFRxPmBg/w0WO3WAAVXV\n",
       "WW24WfwNDCzfoTz2zxBVQsogn7LeRti4H6jqM5R3zACsKqyAA+QG3gCEqngBBpZPEI7TOwewqkQG\n",
       "LgWQKgZUVR9hNoL9yAFxJoNXGhBMgNoowMDzCaZp/QagKi6Ilxl2IpkFdD07xPUuDAzzC4Cq9itA\n",
       "5NiQVHFOYGCGWPF/A0QVvwEDA8inTApIobqAgeMCwwYgex3URqAHGcFxfh0phtIZdjkAA52BwRgW\n",
       "XoLGkODcN2cDXNUOoScMDGlAPk8HemwfnAaLIWgYbCCQciCSDMSo2kSUKgW8qsTQ033WAQDnNFcB\n",
       "Th2ZMgAAAABJRU5ErkJggg==\n",
       "\" style=\"display:inline;vertical-align:middle;\" /></a></span>"
      ],
      "text/plain": [
       "{c in [0,3)} |- c in [0,3]"
      ]
     },
     "metadata": {},
     "output_type": "display_data"
    }
   ],
   "source": [
    "# Element in half-open interval [0,3) means element in closed interval [0,3]\n",
    "InSet(c, IntervalCO(zero, three)).derive_relaxed_membership(\n",
    "        assumptions=[InSet(c, IntervalCO(zero, three))])"
   ]
  },
  {
   "cell_type": "markdown",
   "metadata": {},
   "source": [
    "### Testing the `InSet.deduce_in_bool()` methods<br>(indirectly testing the NumberSet.deduce_membership_in_bool() methods)"
   ]
  },
  {
   "cell_type": "code",
   "execution_count": 103,
   "metadata": {},
   "outputs": [
    {
     "data": {
      "text/html": [
       "<span style=\"font-size:20px;\"> <a class=\"ProveItLink\" href=\"../__pv_it/demonstrations/cccc57dccc630536d285b5d3ec69a26738fbd35d0/proof.ipynb\" style=\"text-decoration: none\">&nbsp;&#x22A2;&nbsp;&nbsp;</a><a class=\"ProveItLink\" href=\"../__pv_it/theorems/fd3e116ab274e83157eb57d4458fb8fde2eecc340/expr.ipynb\"><img src=\"data:image/png;base64,iVBORw0KGgoAAAANSUhEUgAAAGkAAAAVBAMAAAC3TN2zAAAAMFBMVEX///8AAAAAAAAAAAAAAAAA\n",
       "AAAAAAAAAAAAAAAAAAAAAAAAAAAAAAAAAAAAAAAAAAAv3aB7AAAAD3RSTlMAInZUiRDNmWbv3US7\n",
       "qzJazP2FAAAACXBIWXMAAA7EAAAOxAGVKw4bAAABsklEQVQ4y2NgYBBgwAkYccowGWCKcWSe+bby\n",
       "BAMDtwKahNac/My1G4AME2xG8TBe4L5xlIFBA13iwCbG1NsMDKwJ2HU5MBx4y8DAFoCuaweDIw8D\n",
       "A3sDLl2FbECnFmDqauZlYOBE9eSpVcvguoBmMkxFFQfrAppmhqyJOykAYdfVWCAjA1UcpOtiCwND\n",
       "CZAZpBvnAg5JsQCEC/kOJwIZvgwo4sDQCFrrADGsgOkS+wKQWCLCX9PWLwIpbWNAEWc4sCvzVykD\n",
       "w2KglwU4vvKCAyUBocujFcyxZEARB7lQY1sAw2wGBj4Gdogw36xVq1atgbrwaAeI8R5VHKSLh9sB\n",
       "pAsYkJA0wHoAKeSf84BcuBNVHKyL4QDIhQwM+wVYwf5dgKSL/SFIrRUDijhEVwLDIQaGmA03GVjA\n",
       "YkpIulgPgJJTD6o4WBezAiho7Z9WMmwGi7EZwHUVMHTwbIBEDJI4w4EtDE7uDAyvGBjClZgrIMKs\n",
       "d7bC0vwfAZ5jnxkYVqOIM6jNOQ9O81wPUBKHDzTlwDLYAuziGOkTBWBP20BwEJ8uGVwSMfh04TSS\n",
       "UQG3JiYcZQoA9CR3MIP0ZNkAAAAASUVORK5CYII=\n",
       "\" style=\"display:inline;vertical-align:middle;\" /></a></span>"
      ],
      "text/plain": [
       "|- (x in Real) in BOOLEAN"
      ]
     },
     "metadata": {},
     "output_type": "display_data"
    }
   ],
   "source": [
    "InSet(x, Real).deduce_in_bool()"
   ]
  },
  {
   "cell_type": "code",
   "execution_count": 104,
   "metadata": {},
   "outputs": [
    {
     "data": {
      "text/html": [
       "<span style=\"font-size:20px;\"> <a class=\"ProveItLink\" href=\"../__pv_it/demonstrations/0c3ac6e5c44efbbb60101fa3db89c6c14569b4bf0/proof.ipynb\" style=\"text-decoration: none\">&nbsp;&#x22A2;&nbsp;&nbsp;</a><a class=\"ProveItLink\" href=\"../__pv_it/demonstrations/624237ba29aa0ce7b2b7158cb11f771d1e8bae2e0/expr.ipynb\"><img src=\"data:image/png;base64,iVBORw0KGgoAAAANSUhEUgAAAHgAAAAZBAMAAAAI4vceAAAAMFBMVEX///8AAAAAAAAAAAAAAAAA\n",
       "AAAAAAAAAAAAAAAAAAAAAAAAAAAAAAAAAAAAAAAAAAAv3aB7AAAAD3RSTlMAZkRUmRDNuyLviTJ2\n",
       "3asqG0tJAAAACXBIWXMAAA7EAAAOxAGVKw4bAAAB9ElEQVQ4y52UPUgjQRTH/xk3u/nURLA4uCKV\n",
       "hY2xFCxipY3HVsqB5FYOQZtjVXQrZW1stdJGcW2sr7DQxkQwHHeQLgiC4fbuUCHVifhROjP52Mlm\n",
       "dwMOLDu8P795b9689wD0I2jl6Cf5qj25QFinX0T3U6fRFcZHP3XJwxZaNJ6vlxw4qbbrieu154O/\n",
       "NKQdrxOViE3+rLbghO3WSXErn4FkecMW9HNIhrFn0AjCTx1wKmbq6Mv4wZNyyzPmOuFQ1kah7To/\n",
       "qlWtBSsOPOHWGayhLLKDJcHzbd6Bf7p1kurdtHBHt7PjCLOUROaFsOMrCw48zOMTdFIq1wCDbq1R\n",
       "hP7Tv2w68O7vG7VZYUDhO9p1cnVYUfENiGen0Ms8yELCjgY04T7bPK2ymLBE/zwq9CGwj2iRms6q\n",
       "dOmNsFfTAvyFw4JOUtCHmGeQp3pcM+JTnSjCO2zzsGdEz9AVDktaPZ1JEZZOhXYomC6dwTLu2dbG\n",
       "Bq/CogCH9QsHrmdb0Bk8xl1KNnngtq8OnENacYrvA1w6sWK/cvzMcO3yldvyy2qzq15MZe2xBX9C\n",
       "m56gXce6KsqPjzXeZWi9qnnVerO2XTrrqmN8zgZOhI6uaqw47ecb1ILHScj2Ef4BI5eZYDhpvm+G\n",
       "IXCG9VhdWf/p2WVu86Sq3vY32bmEzBhXHW8AAAAASUVORK5CYII=\n",
       "\" style=\"display:inline;vertical-align:middle;\" /></a></span>"
      ],
      "text/plain": [
       "|- (y in RealPos) in BOOLEAN"
      ]
     },
     "metadata": {},
     "output_type": "display_data"
    }
   ],
   "source": [
    "InSet(y, RealPos).deduce_in_bool()"
   ]
  },
  {
   "cell_type": "code",
   "execution_count": 105,
   "metadata": {},
   "outputs": [
    {
     "data": {
      "text/html": [
       "<span style=\"font-size:20px;\"> <a class=\"ProveItLink\" href=\"../__pv_it/demonstrations/0fd5a70073468d89c63a76f67559063123188df00/proof.ipynb\" style=\"text-decoration: none\">&nbsp;&#x22A2;&nbsp;&nbsp;</a><a class=\"ProveItLink\" href=\"../__pv_it/demonstrations/92aadb2ea8e6a836ce4a9472b538b078fda205100/expr.ipynb\"><img src=\"data:image/png;base64,iVBORw0KGgoAAAANSUhEUgAAAHgAAAAZBAMAAAAI4vceAAAAMFBMVEX///8AAAAAAAAAAAAAAAAA\n",
       "AAAAAAAAAAAAAAAAAAAAAAAAAAAAAAAAAAAAAAAAAAAv3aB7AAAAD3RSTlMAZkRUmRDNuyLviTJ2\n",
       "3asqG0tJAAAACXBIWXMAAA7EAAAOxAGVKw4bAAABw0lEQVQ4y2NgYBBiIARYcMowOxDUzFGASyaM\n",
       "gTCQwSVRiEWMMbP8200kCd4AVHmem2Xf5j4COmkCNhPZOR4wPSxFKH6ALs90oC1OgYFlAXbNCxgK\n",
       "9jFwlwNBBQMD61cMzQJcDQUM/Aq4NHuwIfiJmJoZDR4w7EfxzvG7dxPgmtkR4u7o8iDNCQxnkfWq\n",
       "HUWy+WkcQuIkujyTAF/jAoZnoHh8deIAOD5TkZzNXZyB0KwfgCbPdPTsKwaGciBTs4EdHCJsDQjN\n",
       "0+7fQfLQ/g1o8kzX5l8JYMgDhuVEBpYLYEmkAFsomoDkn34FNHkmAR6hVIYrwKT7gYEXHGE77wJB\n",
       "AdTZpYJImuMV0OSZBBgKtEA2cxZAJcORo2oLO5Kz+zegyYM0s4M0xx9gkIekQmTNLDuQssP+BjR5\n",
       "kGY2hudAzQYMz5hBsjwHkDSzFhxED20keZBmG1AMsh9gvgLJsskIzQ4MguyIxCfJgCbPtIDrlAPI\n",
       "TNY3q/tOg8XiigJguep7A3vZZ7hmPwYUeR5grgPlKk6UtK1VezcBW1pPxC6PPVehAYxcBQXcE4jQ\n",
       "zPgAh8RjIjTzNtCiDGNeQEHpSUy5HYBdHABJ+3z/4oW1aAAAAABJRU5ErkJggg==\n",
       "\" style=\"display:inline;vertical-align:middle;\" /></a></span>"
      ],
      "text/plain": [
       "|- (a in RealNeg) in BOOLEAN"
      ]
     },
     "metadata": {},
     "output_type": "display_data"
    }
   ],
   "source": [
    "InSet(a, RealNeg).deduce_in_bool()"
   ]
  },
  {
   "cell_type": "code",
   "execution_count": 106,
   "metadata": {},
   "outputs": [
    {
     "data": {
      "text/html": [
       "<span style=\"font-size:20px;\"> <a class=\"ProveItLink\" href=\"../__pv_it/demonstrations/c0035e080243fd5b27385542706d249890d95bab0/proof.ipynb\" style=\"text-decoration: none\">&nbsp;&#x22A2;&nbsp;&nbsp;</a><a class=\"ProveItLink\" href=\"../__pv_it/demonstrations/0cf348f4cbc3eb659604362762850f73315e55c10/expr.ipynb\"><img src=\"data:image/png;base64,iVBORw0KGgoAAAANSUhEUgAAAH4AAAAaBAMAAACDaPX3AAAAMFBMVEX///8AAAAAAAAAAAAAAAAA\n",
       "AAAAAAAAAAAAAAAAAAAAAAAAAAAAAAAAAAAAAAAAAAAv3aB7AAAAD3RSTlMAZkRUmRDNuyLviTJ2\n",
       "3asqG0tJAAAACXBIWXMAAA7EAAAOxAGVKw4bAAACMUlEQVQ4y2NgwAO4i8AU15oF+FQJ4ZaKKgaR\n",
       "MgzqDCw41TA74DGbpxBIzGbgb+AowKUkDJ/bGBhrGDi+MnAaAB2BAxRi0ZRZ/u0mVJxxBvdXBl4B\n",
       "Bt4ANJfdLPs29xEDA8cEBtbKC2gGsHM8YHpYCmKxLlcA6uc8wMDzAF0N04G2OAUGFmDYsjlg6F/A\n",
       "ULAPyODw2wByP78BA+tXDP0CXA0FDPwKDCBpTP0ebEDt7zZAw4+BIRFTP6PBA4b9QH/pw/x2/O7d\n",
       "BLh+dgbWJw0g3hkGPSDpjq4GpD+B4SyQuRYqpXYUyf6ncQysAdD04wokT6KrYRLga1zA8AzIzDvz\n",
       "GCTCkYrkfu7iDFT3QhyJpIbp6NlXDAzlwDD+FhAPcihbA0L/tPt30CJsPygokNUwXZt/JYAhD5gC\n",
       "wREElEMKv4WiQE9ylwNBBVSsX4EBVQ2TAI9QKsMVBgaWBAZ+UA7ZeRcICqDuLxVEC+94sH4kNUwC\n",
       "DAVaIPt5FzDog2IwHDn+trCjub8f7P5wZPsZCthB+oHR7w9SzIusn2UHWo7ZD/Y5L6p+NobnQP0b\n",
       "WCeCk/QBJP2sBQexhT+SGpB+G1C08gmwQxJwMkK/A4MguwKKfkkGNDVMC7hOOYCMZX3lCBGKKwqA\n",
       "5b/vDexln1H0+6Gq4QHmUVD+40S2RasWkjaxgUTsaljwlm0IgJH/YGXkBOL0Mz7AIfGYOP28DWSV\n",
       "f3CAs/xjJioAcJe/+Mp/pGAOwC4OAMeEj0vNg8CdAAAAAElFTkSuQmCC\n",
       "\" style=\"display:inline;vertical-align:middle;\" /></a></span>"
      ],
      "text/plain": [
       "|- (b in RealNonNeg) in BOOLEAN"
      ]
     },
     "metadata": {},
     "output_type": "display_data"
    }
   ],
   "source": [
    "InSet(b, RealNonNeg).deduce_in_bool()"
   ]
  },
  {
   "cell_type": "code",
   "execution_count": 107,
   "metadata": {},
   "outputs": [
    {
     "data": {
      "text/html": [
       "<span style=\"font-size:20px;\"> <a class=\"ProveItLink\" href=\"../__pv_it/demonstrations/c0035e080243fd5b27385542706d249890d95bab0/proof.ipynb\" style=\"text-decoration: none\">&nbsp;&#x22A2;&nbsp;&nbsp;</a><a class=\"ProveItLink\" href=\"../__pv_it/demonstrations/0cf348f4cbc3eb659604362762850f73315e55c10/expr.ipynb\"><img src=\"data:image/png;base64,iVBORw0KGgoAAAANSUhEUgAAAH4AAAAaBAMAAACDaPX3AAAAMFBMVEX///8AAAAAAAAAAAAAAAAA\n",
       "AAAAAAAAAAAAAAAAAAAAAAAAAAAAAAAAAAAAAAAAAAAv3aB7AAAAD3RSTlMAZkRUmRDNuyLviTJ2\n",
       "3asqG0tJAAAACXBIWXMAAA7EAAAOxAGVKw4bAAACMUlEQVQ4y2NgwAO4i8AU15oF+FQJ4ZaKKgaR\n",
       "MgzqDCw41TA74DGbpxBIzGbgb+AowKUkDJ/bGBhrGDi+MnAaAB2BAxRi0ZRZ/u0mVJxxBvdXBl4B\n",
       "Bt4ANJfdLPs29xEDA8cEBtbKC2gGsHM8YHpYCmKxLlcA6uc8wMDzAF0N04G2OAUGFmDYsjlg6F/A\n",
       "ULAPyODw2wByP78BA+tXDP0CXA0FDPwKDCBpTP0ebEDt7zZAw4+BIRFTP6PBA4b9QH/pw/x2/O7d\n",
       "BLh+dgbWJw0g3hkGPSDpjq4GpD+B4SyQuRYqpXYUyf6ncQysAdD04wokT6KrYRLga1zA8AzIzDvz\n",
       "GCTCkYrkfu7iDFT3QhyJpIbp6NlXDAzlwDD+FhAPcihbA0L/tPt30CJsPygokNUwXZt/JYAhD5gC\n",
       "wREElEMKv4WiQE9ylwNBBVSsX4EBVQ2TAI9QKsMVBgaWBAZ+UA7ZeRcICqDuLxVEC+94sH4kNUwC\n",
       "DAVaIPt5FzDog2IwHDn+trCjub8f7P5wZPsZCthB+oHR7w9SzIusn2UHWo7ZD/Y5L6p+NobnQP0b\n",
       "WCeCk/QBJP2sBQexhT+SGpB+G1C08gmwQxJwMkK/A4MguwKKfkkGNDVMC7hOOYCMZX3lCBGKKwqA\n",
       "5b/vDexln1H0+6Gq4QHmUVD+40S2RasWkjaxgUTsaljwlm0IgJH/YGXkBOL0Mz7AIfGYOP28DWSV\n",
       "f3CAs/xjJioAcJe/+Mp/pGAOwC4OAMeEj0vNg8CdAAAAAElFTkSuQmCC\n",
       "\" style=\"display:inline;vertical-align:middle;\" /></a></span>"
      ],
      "text/plain": [
       "|- (b in RealNonNeg) in BOOLEAN"
      ]
     },
     "metadata": {},
     "output_type": "display_data"
    }
   ],
   "source": [
    "InSet(b, RealNonNeg).deduce_in_bool()"
   ]
  },
  {
   "cell_type": "markdown",
   "metadata": {},
   "source": [
    "## Misc Testing <a id='misc_testing'></a>"
   ]
  },
  {
   "cell_type": "markdown",
   "metadata": {},
   "source": [
    "### Testing automation methods<br>(indirectly testing the `RealIntervalMembership.conclude()` and `RealIntervalMembership.side_effects()` methods)"
   ]
  },
  {
   "cell_type": "markdown",
   "metadata": {},
   "source": [
    "First, define a few real intervals:"
   ]
  },
  {
   "cell_type": "code",
   "execution_count": 108,
   "metadata": {},
   "outputs": [
    {
     "data": {
      "text/html": [
       "<strong id=\"o_one_five_o\">o_one_five_o:</strong> <a class=\"ProveItLink\" href=\"../__pv_it/demonstrations/5bbadffa8ce6356d76bdc14733411cbc778bc4790/expr.ipynb\"><img src=\"data:image/png;base64,iVBORw0KGgoAAAANSUhEUgAAACkAAAAVBAMAAAAp9toTAAAAMFBMVEX///8AAAAAAAAAAAAAAAAA\n",
       "AAAAAAAAAAAAAAAAAAAAAAAAAAAAAAAAAAAAAAAAAAAv3aB7AAAAD3RSTlMAInZUiRDNmWbv3US7\n",
       "qzJazP2FAAAACXBIWXMAAA7EAAAOxAGVKw4bAAAA8klEQVQY02NgYBBgQAVgPpMBQoCPgSGQYROI\n",
       "ZQLErwIgopzfspYyMDUwMLAmMLBez4eKcs1fAmSlMjCwA2UY9KGivGCyHaiJAUOUM4DBDFOUrYGh\n",
       "BEW0yfcBAwPLBYYMZFGeAMbfDAwcCQyLkUWB4BQDA/MEhtloovUCDHwfUEWPAUUfMHBPQDVhFgPD\n",
       "faAJCxgOwURBEg4MDHOAth1g8AWJ+gswsH4D0uIMTFOB3nVgeAXk3J2f28CwCqiYsfw6kOTawMD1\n",
       "AGo5M9wdUkBDCqBsFrjjKoD4IJQdBBNkPAAkYqAcBZgoDyiKGBXQ4k2RgQEA8U8xDKZFOVUAAAAA\n",
       "SUVORK5CYII=\n",
       "\" style=\"display:inline;vertical-align:middle;\" /></a><br>"
      ],
      "text/plain": [
       "<IPython.core.display.HTML object>"
      ]
     },
     "metadata": {},
     "output_type": "display_data"
    },
    {
     "data": {
      "text/html": [
       "<strong id=\"o_two_four_o\">o_two_four_o:</strong> <a class=\"ProveItLink\" href=\"../__pv_it/demonstrations/cfabe6da0a6a0967bc1b6ad7f6c4ba2c82aaad830/expr.ipynb\"><img src=\"data:image/png;base64,iVBORw0KGgoAAAANSUhEUgAAACkAAAAVBAMAAAAp9toTAAAAMFBMVEX///8AAAAAAAAAAAAAAAAA\n",
       "AAAAAAAAAAAAAAAAAAAAAAAAAAAAAAAAAAAAAAAAAAAv3aB7AAAAD3RSTlMAInZUiRDNmWbv3US7\n",
       "qzJazP2FAAAACXBIWXMAAA7EAAAOxAGVKw4bAAABEElEQVQY013QvUrDUBjG8X+atjGpqXESnNLB\n",
       "xclBnHMDYujskEXo2EGsY1x0ErKLEHAQBKF4BdEL0N5A0aGTS9tBN43nc6gv+Xp+nLzn5QARq6Vy\n",
       "Y++fPsnHPmydvVrqDmnk0MpwKo7GRoMJnICXE0b4hdFdoVfgi+uLcGkaXAr1Uw4gLAl/tTbbQts5\n",
       "p7rdQmtPanPCQKV5rF5OLnUt407FR9MAqW7BjUxepfVCaXeh9VqjEyvtFKqDm7AptTOdvt8muCUv\n",
       "Is1gh1Qt9+VuFYfix/vRqGx9K90QO3gJn2LYuq4zHuRi7+0nJhgTfJgTcFN7btuiyRA7q61zcT+b\n",
       "775FRw5/bEJsdT3So69WD/4AELg6vzi6XGgAAAAASUVORK5CYII=\n",
       "\" style=\"display:inline;vertical-align:middle;\" /></a><br>"
      ],
      "text/plain": [
       "<IPython.core.display.HTML object>"
      ]
     },
     "metadata": {},
     "output_type": "display_data"
    }
   ],
   "source": [
    "o_one_five_o, o_two_four_o  = IntervalOO(one, five), IntervalOO(two, four)"
   ]
  },
  {
   "cell_type": "markdown",
   "metadata": {},
   "source": [
    "And some membership claims:"
   ]
  },
  {
   "cell_type": "code",
   "execution_count": 109,
   "metadata": {},
   "outputs": [
    {
     "data": {
      "text/html": [
       "<strong id=\"two_in_o_one_five_o\">two_in_o_one_five_o:</strong> <a class=\"ProveItLink\" href=\"../__pv_it/demonstrations/70a6d3e849d87021cab1556e05f1e4727f34a1040/expr.ipynb\"><img src=\"data:image/png;base64,iVBORw0KGgoAAAANSUhEUgAAAE4AAAAVBAMAAAAazcUaAAAAMFBMVEX///8AAAAAAAAAAAAAAAAA\n",
       "AAAAAAAAAAAAAAAAAAAAAAAAAAAAAAAAAAAAAAAAAAAv3aB7AAAAD3RSTlMAIpnNuzKJRKvvEN12\n",
       "ZlQ4bmvwAAAACXBIWXMAAA7EAAAOxAGVKw4bAAABdUlEQVQoz2NgwAIYCfBh4BwSO4CBS4D9AFCt\n",
       "kkkAmjK+BAYG1l1Qznzj3QsYzjIwiDCwfUdTt5iBYYXyLyhn5+8sBgbmBQyNDAwz0dTpAjEPTF0D\n",
       "iOBVYJi/gKFfACxyZPduAzBjAoY6hlkM3QwM/WAHFp+COc8AU50tiNgP9rsVzFqmBGR1vcdagWQG\n",
       "ELP+AfGZBWDqmC8gq/NikC9gYLgMZHGDjWaGe4P7AbI6BgaWDQwML4G0CpgXuRsIHEAszgJUdUwf\n",
       "GRjigX6GuHQJXBxFHYsBA9NXBoZKBoZnDIwgp3Fjt5dzAwPHBwaG1wysCQw8C0ASB+DuOQBVxwWk\n",
       "2YBKga65wiCtpKQNlraDqWMDOYQN6Kj1wIBkVGA4CTRGjWH///+fwdIr3BdA1LEC/cfR+bmXgRuU\n",
       "FoQ0tIDkdqRoLfOGxttWmMgreALcgC35XYIxEuBBcwGbOhZo1HDBvSaCNTlzOUBoHriII/Z0L4PG\n",
       "5xFgAACOOVSmZNE/3QAAAABJRU5ErkJggg==\n",
       "\" style=\"display:inline;vertical-align:middle;\" /></a><br>"
      ],
      "text/plain": [
       "<IPython.core.display.HTML object>"
      ]
     },
     "metadata": {},
     "output_type": "display_data"
    },
    {
     "data": {
      "text/html": [
       "<strong id=\"x_in_o_two_four_o\">x_in_o_two_four_o:</strong> <a class=\"ProveItLink\" href=\"../__pv_it/demonstrations/cebd24bf75a49e365063129ec090d80caba7d6950/expr.ipynb\"><img src=\"data:image/png;base64,iVBORw0KGgoAAAANSUhEUgAAAFEAAAAVBAMAAADMaB9/AAAAMFBMVEX///8AAAAAAAAAAAAAAAAA\n",
       "AAAAAAAAAAAAAAAAAAAAAAAAAAAAAAAAAAAAAAAAAAAv3aB7AAAAD3RSTlMAEHarMolUmd1mIs3v\n",
       "RLtmgJDEAAAACXBIWXMAAA7EAAAOxAGVKw4bAAABg0lEQVQoz2NgwAa40AUWMOAAaugCl3AoZAtg\n",
       "4Crf5wDjshQwME3ArlKagWEdA+tfGJfDgIFhI3aVlQwMVgwMZ2BcDaDK6SgKmF50dIMZBxgYzgsw\n",
       "2EO9wTIbqJJHAEkh7yYoj20DA4MFA4M91KGs3ECV3ECHCimLhCaARFbDtLEHgKl+KFcLpJIViAuY\n",
       "jNgbQCK7YIZzgz3K8gkathNAKjk3MHAu4PzIDJbaAPdrAszHYMsZQCrZDjCwMLBDlLCc6Ojo6AOx\n",
       "eC6AyDqovllglSwfQBIKYBHGBzAzwSo5oUZyKYBV8gLDg+H+AkawXxpQbE9l4AKHEq+xsf3hAAa2\n",
       "Bga5CzZAp4CAEkwlH9ASlgAGJgFGqB0gHz1gyHesYbgG8XICVCUoRFaUl1cwyEN8wP8AHHLiSmyV\n",
       "ECWMdhehkQJ0R////78ZOBrBwfv+swIDxwXk2OSNg8ZmC0wkES63AnsKgSeHAOREgw3wQdMGowI8\n",
       "EzzArhIWtEwYejHAInQBLQYGAIl9SssVba9MAAAAAElFTkSuQmCC\n",
       "\" style=\"display:inline;vertical-align:middle;\" /></a><br>"
      ],
      "text/plain": [
       "<IPython.core.display.HTML object>"
      ]
     },
     "metadata": {},
     "output_type": "display_data"
    }
   ],
   "source": [
    "two_in_o_one_five_o, x_in_o_two_four_o = InSet(two, o_one_five_o), InSet(x, o_two_four_o)"
   ]
  },
  {
   "cell_type": "markdown",
   "metadata": {},
   "source": [
    "Testing (indirectly) the RealIntervalMembership.conclude() method:"
   ]
  },
  {
   "cell_type": "code",
   "execution_count": 110,
   "metadata": {},
   "outputs": [
    {
     "data": {
      "text/html": [
       "<span style=\"font-size:20px;\"> <a class=\"ProveItLink\" href=\"../__pv_it/demonstrations/b127495577a3d1b132c26cb585b27927d89a996a0/proof.ipynb\" style=\"text-decoration: none\">&nbsp;&#x22A2;&nbsp;&nbsp;</a><a class=\"ProveItLink\" href=\"../__pv_it/demonstrations/70a6d3e849d87021cab1556e05f1e4727f34a1040/expr.ipynb\"><img src=\"data:image/png;base64,iVBORw0KGgoAAAANSUhEUgAAAE4AAAAVBAMAAAAazcUaAAAAMFBMVEX///8AAAAAAAAAAAAAAAAA\n",
       "AAAAAAAAAAAAAAAAAAAAAAAAAAAAAAAAAAAAAAAAAAAv3aB7AAAAD3RSTlMAIpnNuzKJRKvvEN12\n",
       "ZlQ4bmvwAAAACXBIWXMAAA7EAAAOxAGVKw4bAAABdUlEQVQoz2NgwAIYCfBh4BwSO4CBS4D9AFCt\n",
       "kkkAmjK+BAYG1l1Qznzj3QsYzjIwiDCwfUdTt5iBYYXyLyhn5+8sBgbmBQyNDAwz0dTpAjEPTF0D\n",
       "iOBVYJi/gKFfACxyZPduAzBjAoY6hlkM3QwM/WAHFp+COc8AU50tiNgP9rsVzFqmBGR1vcdagWQG\n",
       "ELP+AfGZBWDqmC8gq/NikC9gYLgMZHGDjWaGe4P7AbI6BgaWDQwML4G0CpgXuRsIHEAszgJUdUwf\n",
       "GRjigX6GuHQJXBxFHYsBA9NXBoZKBoZnDIwgp3Fjt5dzAwPHBwaG1wysCQw8C0ASB+DuOQBVxwWk\n",
       "2YBKga65wiCtpKQNlraDqWMDOYQN6Kj1wIBkVGA4CTRGjWH///+fwdIr3BdA1LEC/cfR+bmXgRuU\n",
       "FoQ0tIDkdqRoLfOGxttWmMgreALcgC35XYIxEuBBcwGbOhZo1HDBvSaCNTlzOUBoHriII/Z0L4PG\n",
       "5xFgAACOOVSmZNE/3QAAAABJRU5ErkJggg==\n",
       "\" style=\"display:inline;vertical-align:middle;\" /></a></span>"
      ],
      "text/plain": [
       "|- 2 in (1,5)"
      ]
     },
     "metadata": {},
     "output_type": "display_data"
    }
   ],
   "source": [
    "two_in_o_one_five_o.prove()"
   ]
  },
  {
   "cell_type": "code",
   "execution_count": 111,
   "metadata": {},
   "outputs": [
    {
     "data": {
      "text/html": [
       "<span style=\"font-size:20px;\"><a class=\"ProveItLink\" href=\"../../../ordering/__pv_it/theorems/d1323f34847310a404e8089c2c268d3c2eb89dbf0/expr.ipynb\"><img src=\"data:image/png;base64,iVBORw0KGgoAAAANSUhEUgAAADQAAAAQBAMAAACra0H4AAAAMFBMVEX///8AAAAAAAAAAAAAAAAA\n",
       "AAAAAAAAAAAAAAAAAAAAAAAAAAAAAAAAAAAAAAAAAAAv3aB7AAAAD3RSTlMAEHarMolUmd1mIs3v\n",
       "RLtmgJDEAAAACXBIWXMAAA7EAAAOxAGVKw4bAAAAyklEQVQY02NgwACce9797nnJgBXwcRnwWj7E\n",
       "IRXA8MAZp1QVN4qQXkfHBrgUH7LMbUUkXYbCQIaQskhoApDm2ohkIMuzXUBGAZMRewOQ5l6AkDrd\n",
       "3yQA9MUCzo/ME0BSSM6InAiylIWBHWw3g08HEDyAGvhwJliMRwFMySE73p1PAMS6v4ARRHMgS7F7\n",
       "AfXLXbBhYAUJMCkgSTE+0GRgyHesYbgGFtmGkCpgmMl3gUFcia0yASwi/FYAFvL/FvC9/oYcHFdf\n",
       "QAIKCgBACzQrtGfvLgAAAABJRU5ErkJggg==\n",
       "\" style=\"display:inline;vertical-align:middle;\" /></a>, <a class=\"ProveItLink\" href=\"../__pv_it/demonstrations/b8a9dd85b926c4fe43daf96b2bdb0cfe1f5b569e0/expr.ipynb\"><img src=\"data:image/png;base64,iVBORw0KGgoAAAANSUhEUgAAAFYAAAAQBAMAAAB+eZW1AAAAMFBMVEX///8AAAAAAAAAAAAAAAAA\n",
       "AAAAAAAAAAAAAAAAAAAAAAAAAAAAAAAAAAAAAAAAAAAv3aB7AAAAD3RSTlMAIpnNuzKJRKvvEN12\n",
       "ZlQ4bmvwAAAACXBIWXMAAA7EAAAOxAGVKw4bAAABE0lEQVQoz2NgVDIJYCAGBDEwiDCwfSdK7Q4G\n",
       "hkYGhpnEKOUBqp2/gKFfACbAZ4ip6DFENtaCgaGbgaEf5mDeTQswlN7WgtAJFmBqP8yabRClXGe6\n",
       "wvKgYqezoHICYLWsfyDcZXug8kwMJw5oQ3RlH4CKyTKA1XI3gHlCe2HWXmS4v6AXxGDUvgATS4Co\n",
       "VQFzOOzgTgxgUIYwmh/AhHgFwGp5G9DVMjDMQVcrwwBW+4yBUQDVDQzsHxlWobqhoqPjZxsDawID\n",
       "zwIUv3G5c0wAug/VbwwMMxgYpJWUtKG8NXvAmvi+LprADrWd6/QpmNovwMD9//8z3AfgAObSOfDo\n",
       "HiIuoAGs8r8HNZJ4scTxZQEGMgAAO6hEteLEhzcAAAAASUVORK5CYII=\n",
       "\" style=\"display:inline;vertical-align:middle;\" /></a> <a class=\"ProveItLink\" href=\"../__pv_it/demonstrations/3eeea49435d5d1c146a414400244f220ec94bedf0/proof.ipynb\" style=\"text-decoration: none\">&nbsp;&#x22A2;&nbsp;&nbsp;</a><a class=\"ProveItLink\" href=\"../__pv_it/demonstrations/cebd24bf75a49e365063129ec090d80caba7d6950/expr.ipynb\"><img src=\"data:image/png;base64,iVBORw0KGgoAAAANSUhEUgAAAFEAAAAVBAMAAADMaB9/AAAAMFBMVEX///8AAAAAAAAAAAAAAAAA\n",
       "AAAAAAAAAAAAAAAAAAAAAAAAAAAAAAAAAAAAAAAAAAAv3aB7AAAAD3RSTlMAEHarMolUmd1mIs3v\n",
       "RLtmgJDEAAAACXBIWXMAAA7EAAAOxAGVKw4bAAABg0lEQVQoz2NgwAa40AUWMOAAaugCl3AoZAtg\n",
       "4Crf5wDjshQwME3ArlKagWEdA+tfGJfDgIFhI3aVlQwMVgwMZ2BcDaDK6SgKmF50dIMZBxgYzgsw\n",
       "2EO9wTIbqJJHAEkh7yYoj20DA4MFA4M91KGs3ECV3ECHCimLhCaARFbDtLEHgKl+KFcLpJIViAuY\n",
       "jNgbQCK7YIZzgz3K8gkathNAKjk3MHAu4PzIDJbaAPdrAszHYMsZQCrZDjCwMLBDlLCc6Ojo6AOx\n",
       "eC6AyDqovllglSwfQBIKYBHGBzAzwSo5oUZyKYBV8gLDg+H+AkawXxpQbE9l4AKHEq+xsf3hAAa2\n",
       "Bga5CzZAp4CAEkwlH9ASlgAGJgFGqB0gHz1gyHesYbgG8XICVCUoRFaUl1cwyEN8wP8AHHLiSmyV\n",
       "ECWMdhehkQJ0R////78ZOBrBwfv+swIDxwXk2OSNg8ZmC0wkES63AnsKgSeHAOREgw3wQdMGowI8\n",
       "EzzArhIWtEwYejHAInQBLQYGAIl9SssVba9MAAAAAElFTkSuQmCC\n",
       "\" style=\"display:inline;vertical-align:middle;\" /></a></span>"
      ],
      "text/plain": [
       "{x in Real, 2 < x < 4} |- x in (2,4)"
      ]
     },
     "metadata": {},
     "output_type": "display_data"
    }
   ],
   "source": [
    "x_in_o_two_four_o.prove(assumptions=[InSet(x, Real), number_ordering(Less(two, x), Less(x, four))])"
   ]
  },
  {
   "cell_type": "markdown",
   "metadata": {},
   "source": [
    "Testing (indirectly) the RealIntervalMembership.side_effects() method:"
   ]
  },
  {
   "cell_type": "markdown",
   "metadata": {},
   "source": [
    "… some set membership deductions and lower bounds"
   ]
  },
  {
   "cell_type": "code",
   "execution_count": 112,
   "metadata": {},
   "outputs": [
    {
     "data": {
      "text/html": [
       "<span style=\"font-size:20px;\"><a class=\"ProveItLink\" href=\"../__pv_it/demonstrations/a995c7e26d51f616537f7ff7b042aad0a47df1640/expr.ipynb\"><img src=\"data:image/png;base64,iVBORw0KGgoAAAANSUhEUgAAAFEAAAAVBAMAAADMaB9/AAAAMFBMVEX///8AAAAAAAAAAAAAAAAA\n",
       "AAAAAAAAAAAAAAAAAAAAAAAAAAAAAAAAAAAAAAAAAAAv3aB7AAAAD3RSTlMAEHarMolUmd1mIs3v\n",
       "RLtmgJDEAAAACXBIWXMAAA7EAAAOxAGVKw4bAAABjklEQVQoz3WTu0vDUBTGv8Q0TfoiiNBB0FLB\n",
       "wcWii4jYKv4BWbpKHJx1iwUpFRwCgnUTt+JUEKQ6OkjBxUEwOoiDYEY3H4MgReJ95MY+0jsk95zz\n",
       "yzn3O/cEiFqJfkcDQ9Z0v+NxCKiaSNjXpSB/uepCPoomx4FzxH65kYX6DVxEkxVgEbjjxqwldYDj\n",
       "HkB+cw7Ypg3cGyhyGS8uCJkyusD0ZWCpLWABKJbEsX+AJDno6NRY2aKOM/FZ3GSvukjxTKhYAdiW\n",
       "5+I16rgSkSQTqnwF5uo8Sa63oDf0zxEWaglSYyW0Qtg0ol1tQ0GcI8qt4ziHdJdy6bP6r4DIUz5o\n",
       "IMdMyRMBRuoi5RrwbiFN+oHXhsS01HqqbyLBu+QblFRrmHCXEGOuvCAzpIhiQjYkat2w6rqHrZVd\n",
       "PHHJVkDSjjRteweTVMEJ6yfpXDavVjgiLT9wUiHnqPt+B9oevRCbTAg0t/s20+vBbe4Lz0YYa0ZP\n",
       "SDgOZvfQRK1MMOJSLvwJvGhStFYe+HZgnfY7ZoA/Gk1V8W/fTW4AAAAASUVORK5CYII=\n",
       "\" style=\"display:inline;vertical-align:middle;\" /></a> <a class=\"ProveItLink\" href=\"../__pv_it/demonstrations/169eeb1ed94b60ba0ecd550830a02dacff708f760/proof.ipynb\" style=\"text-decoration: none\">&nbsp;&#x22A2;&nbsp;&nbsp;</a><a class=\"ProveItLink\" href=\"../../../ordering/__pv_it/theorems/d1323f34847310a404e8089c2c268d3c2eb89dbf0/expr.ipynb\"><img src=\"data:image/png;base64,iVBORw0KGgoAAAANSUhEUgAAADQAAAAQBAMAAACra0H4AAAAMFBMVEX///8AAAAAAAAAAAAAAAAA\n",
       "AAAAAAAAAAAAAAAAAAAAAAAAAAAAAAAAAAAAAAAAAAAv3aB7AAAAD3RSTlMAEHarMolUmd1mIs3v\n",
       "RLtmgJDEAAAACXBIWXMAAA7EAAAOxAGVKw4bAAAAyklEQVQY02NgwACce9797nnJgBXwcRnwWj7E\n",
       "IRXA8MAZp1QVN4qQXkfHBrgUH7LMbUUkXYbCQIaQskhoApDm2ohkIMuzXUBGAZMRewOQ5l6AkDrd\n",
       "3yQA9MUCzo/ME0BSSM6InAiylIWBHWw3g08HEDyAGvhwJliMRwFMySE73p1PAMS6v4ARRHMgS7F7\n",
       "AfXLXbBhYAUJMCkgSTE+0GRgyHesYbgGFtmGkCpgmMl3gUFcia0yASwi/FYAFvL/FvC9/oYcHFdf\n",
       "QAIKCgBACzQrtGfvLgAAAABJRU5ErkJggg==\n",
       "\" style=\"display:inline;vertical-align:middle;\" /></a></span>"
      ],
      "text/plain": [
       "{x in (2,3)} |- x in Real"
      ]
     },
     "metadata": {},
     "output_type": "display_data"
    }
   ],
   "source": [
    "InSet(x, Real).prove(assumptions=[InSet(x, IntervalOO(two, three))])"
   ]
  },
  {
   "cell_type": "code",
   "execution_count": 113,
   "metadata": {},
   "outputs": [
    {
     "data": {
      "text/html": [
       "<span style=\"font-size:20px;\"><a class=\"ProveItLink\" href=\"../__pv_it/demonstrations/644bc1ddec512b2df72e4e98af44823109ca91070/expr.ipynb\"><img src=\"data:image/png;base64,iVBORw0KGgoAAAANSUhEUgAAAE8AAAAVBAMAAAD1D64kAAAAMFBMVEX///8AAAAAAAAAAAAAAAAA\n",
       "AAAAAAAAAAAAAAAAAAAAAAAAAAAAAAAAAAAAAAAAAAAv3aB7AAAAD3RSTlMAEHarMolUmd1mIs3v\n",
       "RLtmgJDEAAAACXBIWXMAAA7EAAAOxAGVKw4bAAABUklEQVQoz2NgwAa40PhMHQ5Y1TGooQuwXsCq\n",
       "ji2AgSu0Di7HUoBLoTQDgzgD2zcYl8MAl8JKBgb9BMbfMK4GukKmFx3dYMYBBoY7FxhgCllmoynk\n",
       "3SQAdeIGMPkT5hFuiEIhZZHQBJDAaqg6BvYAEHljApSrBVVYwGTE3gAS2AUzmhukxMkYGnRcEyAK\n",
       "ORdwfmQGa94A9yXYApivWRkgClkY2CEqWE50dHT0gVg8EJefhzhlFlQhUFwBLMD4AGYiSKELA8N7\n",
       "sMFcCnCF9xcwgvU2IFv9XwCqkNfY2P5wAFCh3AUboDNAQAmmkA9oxWGQ1YxQG8Am5jvWMFyDeDYB\n",
       "FnAGDAwzQeEoD3E9/wOQQnEltkqICka7i9CoADqCtxyYKDgawcH6/rMCahTyxkGjsAUmkkggmU2H\n",
       "MQIIKORbAKEZFQgohAUpE6EUzrAIPc/0XAAAP+lUhtNjLmwAAAAASUVORK5CYII=\n",
       "\" style=\"display:inline;vertical-align:middle;\" /></a> <a class=\"ProveItLink\" href=\"../__pv_it/demonstrations/c0566b026f76f466c9d39fddf536aae8ee7b924d0/proof.ipynb\" style=\"text-decoration: none\">&nbsp;&#x22A2;&nbsp;&nbsp;</a><a class=\"ProveItLink\" href=\"../../../ordering/__pv_it/theorems/d1323f34847310a404e8089c2c268d3c2eb89dbf0/expr.ipynb\"><img src=\"data:image/png;base64,iVBORw0KGgoAAAANSUhEUgAAADQAAAAQBAMAAACra0H4AAAAMFBMVEX///8AAAAAAAAAAAAAAAAA\n",
       "AAAAAAAAAAAAAAAAAAAAAAAAAAAAAAAAAAAAAAAAAAAv3aB7AAAAD3RSTlMAEHarMolUmd1mIs3v\n",
       "RLtmgJDEAAAACXBIWXMAAA7EAAAOxAGVKw4bAAAAyklEQVQY02NgwACce9797nnJgBXwcRnwWj7E\n",
       "IRXA8MAZp1QVN4qQXkfHBrgUH7LMbUUkXYbCQIaQskhoApDm2ohkIMuzXUBGAZMRewOQ5l6AkDrd\n",
       "3yQA9MUCzo/ME0BSSM6InAiylIWBHWw3g08HEDyAGvhwJliMRwFMySE73p1PAMS6v4ARRHMgS7F7\n",
       "AfXLXbBhYAUJMCkgSTE+0GRgyHesYbgGFtmGkCpgmMl3gUFcia0yASwi/FYAFvL/FvC9/oYcHFdf\n",
       "QAIKCgBACzQrtGfvLgAAAABJRU5ErkJggg==\n",
       "\" style=\"display:inline;vertical-align:middle;\" /></a></span>"
      ],
      "text/plain": [
       "{x in (3,4]} |- x in Real"
      ]
     },
     "metadata": {},
     "output_type": "display_data"
    }
   ],
   "source": [
    "InSet(x, Real).prove(assumptions=[InSet(x, IntervalOC(three, four))])"
   ]
  },
  {
   "cell_type": "code",
   "execution_count": 114,
   "metadata": {},
   "outputs": [
    {
     "data": {
      "text/html": [
       "<span style=\"font-size:20px;\"><a class=\"ProveItLink\" href=\"../__pv_it/demonstrations/0ae95dc44b29a27c3fa7f908aae356c8f5c75c140/expr.ipynb\"><img src=\"data:image/png;base64,iVBORw0KGgoAAAANSUhEUgAAAE8AAAAVBAMAAAD1D64kAAAAMFBMVEX///8AAAAAAAAAAAAAAAAA\n",
       "AAAAAAAAAAAAAAAAAAAAAAAAAAAAAAAAAAAAAAAAAAAv3aB7AAAAD3RSTlMAEHarMolUmd1mIs3v\n",
       "RLtmgJDEAAAACXBIWXMAAA7EAAAOxAGVKw4bAAABfUlEQVQoz32TO0sDQRDH/3vJXXJ5cYhgIWhI\n",
       "ioCVWGgjEj+BBxIEi3B+grMRCQrG7lAQsYmC4JWChdHSKoKFWEULG4tEbKx8FD4KQed24+bynOLY\n",
       "+c9vZ2duZ4FOU5xsm+Kiq6nVduWuN5jLNLKw3EIVym4vMGqxLeGEgEngrBe4D+SFcwAMA6XWJp6d\n",
       "7Qb4BNgGF+c5GDN8XPzckBm/gDmLO/YjCkCUihxID+a4dmLIo5kHigYCvxmKquPAsjIRKnrSRbPG\n",
       "yAeBSeFtfFP/ehm6q78H+OZyG2hyR1t8/aRvBUGEBBG8dhxnp3E0gTWRsQTtx0DwjZYxobC67/dQ\n",
       "jbZo5hI4tRCv0LLmMt5G0Qe+AEdcZJSKKtOKGKlOQ+XxlA88BNbAPOcGSLjQ67Bn13HP41GrCYYt\n",
       "doVRr/gHA3t0kSaGUlpBEGzmVoJsJZ1FeNPrcWqVZiTcMlDxvLxCYUsydNx/Hk0pFfqCLPmvROp9\n",
       "QUUqie5vQe14M2PAHwgOX3GGi7qHAAAAAElFTkSuQmCC\n",
       "\" style=\"display:inline;vertical-align:middle;\" /></a> <a class=\"ProveItLink\" href=\"../__pv_it/demonstrations/f78d059c8a05232e30b3d0fa7f110adcfd57352a0/proof.ipynb\" style=\"text-decoration: none\">&nbsp;&#x22A2;&nbsp;&nbsp;</a><a class=\"ProveItLink\" href=\"../../../ordering/__pv_it/theorems/d1323f34847310a404e8089c2c268d3c2eb89dbf0/expr.ipynb\"><img src=\"data:image/png;base64,iVBORw0KGgoAAAANSUhEUgAAADQAAAAQBAMAAACra0H4AAAAMFBMVEX///8AAAAAAAAAAAAAAAAA\n",
       "AAAAAAAAAAAAAAAAAAAAAAAAAAAAAAAAAAAAAAAAAAAv3aB7AAAAD3RSTlMAEHarMolUmd1mIs3v\n",
       "RLtmgJDEAAAACXBIWXMAAA7EAAAOxAGVKw4bAAAAyklEQVQY02NgwACce9797nnJgBXwcRnwWj7E\n",
       "IRXA8MAZp1QVN4qQXkfHBrgUH7LMbUUkXYbCQIaQskhoApDm2ohkIMuzXUBGAZMRewOQ5l6AkDrd\n",
       "3yQA9MUCzo/ME0BSSM6InAiylIWBHWw3g08HEDyAGvhwJliMRwFMySE73p1PAMS6v4ARRHMgS7F7\n",
       "AfXLXbBhYAUJMCkgSTE+0GRgyHesYbgGFtmGkCpgmMl3gUFcia0yASwi/FYAFvL/FvC9/oYcHFdf\n",
       "QAIKCgBACzQrtGfvLgAAAABJRU5ErkJggg==\n",
       "\" style=\"display:inline;vertical-align:middle;\" /></a></span>"
      ],
      "text/plain": [
       "{x in [0,8)} |- x in Real"
      ]
     },
     "metadata": {},
     "output_type": "display_data"
    }
   ],
   "source": [
    "InSet(x, Real).prove(assumptions=[InSet(x, IntervalCO(zero, eight))])"
   ]
  },
  {
   "cell_type": "code",
   "execution_count": 115,
   "metadata": {},
   "outputs": [
    {
     "data": {
      "text/html": [
       "<span style=\"font-size:20px;\"><a class=\"ProveItLink\" href=\"../__pv_it/demonstrations/084d11966526f2377c09a43663c044a26a5dfc800/expr.ipynb\"><img src=\"data:image/png;base64,iVBORw0KGgoAAAANSUhEUgAAAE0AAAAVBAMAAADx+n4ZAAAAMFBMVEX///8AAAAAAAAAAAAAAAAA\n",
       "AAAAAAAAAAAAAAAAAAAAAAAAAAAAAAAAAAAAAAAAAAAv3aB7AAAAD3RSTlMAEHarMolUmd1mIs3v\n",
       "RLtmgJDEAAAACXBIWXMAAA7EAAAOxAGVKw4bAAABL0lEQVQoz2NgwAI0WlD5TB0O2JQxxCKxWRgY\n",
       "pBhYL+BUx1IAYfP83tGITx2HAYTNcb5VAJ86Dag6ZhCBqo7pRUc3TB3LbJzqeDcJIMxj5UZXJ6Qs\n",
       "EpoA4qwWQLJXC65uUrADWF0BkxF7A0hkF5L7uCbA1PEJcP0FqeNcwPmReQJIZAOSOlYGmDogeAFS\n",
       "x8LADlHAcqKjo6MPqm4Wsrr6BWB/8CiAeYwPEOZxKcDVvQaqcwCru7+AEeyDBoQ6XmNj+8MBYPYJ\n",
       "BgZ7kL1yF2yArgEBJZRw5jFgYASxgarPgdTlO9YwXAPLcicgq+N/wCAPcvhyBqaDIHXiSmyVEAWM\n",
       "dhcR6tjff1bgaASyucrN0eOXNw4Rb2CQCJPBkw6gbiNGHaMCceqYGAioi0DPHz0XALCPS/qhYwfw\n",
       "AAAAAElFTkSuQmCC\n",
       "\" style=\"display:inline;vertical-align:middle;\" /></a> <a class=\"ProveItLink\" href=\"../__pv_it/demonstrations/cd1be4c521e86e21acad30bbdfa926bfe331b6770/proof.ipynb\" style=\"text-decoration: none\">&nbsp;&#x22A2;&nbsp;&nbsp;</a><a class=\"ProveItLink\" href=\"../../../ordering/__pv_it/theorems/d1323f34847310a404e8089c2c268d3c2eb89dbf0/expr.ipynb\"><img src=\"data:image/png;base64,iVBORw0KGgoAAAANSUhEUgAAADQAAAAQBAMAAACra0H4AAAAMFBMVEX///8AAAAAAAAAAAAAAAAA\n",
       "AAAAAAAAAAAAAAAAAAAAAAAAAAAAAAAAAAAAAAAAAAAv3aB7AAAAD3RSTlMAEHarMolUmd1mIs3v\n",
       "RLtmgJDEAAAACXBIWXMAAA7EAAAOxAGVKw4bAAAAyklEQVQY02NgwACce9797nnJgBXwcRnwWj7E\n",
       "IRXA8MAZp1QVN4qQXkfHBrgUH7LMbUUkXYbCQIaQskhoApDm2ohkIMuzXUBGAZMRewOQ5l6AkDrd\n",
       "3yQA9MUCzo/ME0BSSM6InAiylIWBHWw3g08HEDyAGvhwJliMRwFMySE73p1PAMS6v4ARRHMgS7F7\n",
       "AfXLXbBhYAUJMCkgSTE+0GRgyHesYbgGFtmGkCpgmMl3gUFcia0yASwi/FYAFvL/FvC9/oYcHFdf\n",
       "QAIKCgBACzQrtGfvLgAAAABJRU5ErkJggg==\n",
       "\" style=\"display:inline;vertical-align:middle;\" /></a></span>"
      ],
      "text/plain": [
       "{x in [4,5]} |- x in Real"
      ]
     },
     "metadata": {},
     "output_type": "display_data"
    }
   ],
   "source": [
    "InSet(x, Real).prove(assumptions=[InSet(x, IntervalCC(four, five))])"
   ]
  },
  {
   "cell_type": "code",
   "execution_count": 116,
   "metadata": {},
   "outputs": [
    {
     "name": "stdout",
     "output_type": "stream",
     "text": [
      "Exception: Unable to prove x in Real assuming {x in [a,b]}:\n",
      "x has no 'readily_provable_number_set' method\n"
     ]
    }
   ],
   "source": [
    "# if we don't have enough information about the nature of the endpts\n",
    "# then x \\in IntervalXX(a, b) still leaves us adrift\n",
    "try:\n",
    "    InSet(x, Real).prove(assumptions=[InSet(x, IntervalCC(a, b))])\n",
    "except Exception as e:\n",
    "    print(\"Exception: {}\".format(e))"
   ]
  },
  {
   "cell_type": "code",
   "execution_count": 117,
   "metadata": {},
   "outputs": [
    {
     "data": {
      "text/html": [
       "<span style=\"font-size:20px;\"><a class=\"ProveItLink\" href=\"../../../ordering/__pv_it/theorems/4aa8d696b1f407d6126de9f51a052e8d90e0848c0/expr.ipynb\"><img src=\"data:image/png;base64,iVBORw0KGgoAAAANSUhEUgAAADMAAAAQBAMAAABJt1qBAAAAMFBMVEX///8AAAAAAAAAAAAAAAAA\n",
       "AAAAAAAAAAAAAAAAAAAAAAAAAAAAAAAAAAAAAAAAAAAv3aB7AAAAD3RSTlMAIquJdkTvuxBmmd1U\n",
       "zTKBpmoTAAAACXBIWXMAAA7EAAAOxAGVKw4bAAAAzElEQVQY02NgwABz0+tvp09gwAoKhBiCpjdg\n",
       "lxJmYOdTwCXFJXABRch99+4LcKkCZJlYD4Qupg6QgYzKjg4gAcYbSAY+PysAZIQJsP8ACfAKwKXE\n",
       "bv8GmcCRycC1ASyF5IyZvSCa6wMDtwGI8Ww3EBRApNg7QV5mK2DoDwAJtCPp4ltQAaT7HRjmgwW4\n",
       "kf21ThwkdYBBlwfkAhYHJKl2FqCJ7A48u7jAInfgUlIMnBNKgS5UsRPyA4s0lTbAQr6Qofz+AeTg\n",
       "CK7ejRxyAISENKeL/c93AAAAAElFTkSuQmCC\n",
       "\" style=\"display:inline;vertical-align:middle;\" /></a>, <a class=\"ProveItLink\" href=\"../../../ordering/__pv_it/theorems/6e5cad5b2984ed0d75bd47bd0c542ec447a4f3570/expr.ipynb\"><img src=\"data:image/png;base64,iVBORw0KGgoAAAANSUhEUgAAADEAAAAQBAMAAABNQoq8AAAAMFBMVEX///8AAAAAAAAAAAAAAAAA\n",
       "AAAAAAAAAAAAAAAAAAAAAAAAAAAAAAAAAAAAAAAAAAAv3aB7AAAAD3RSTlMAELvv3c2ZVESJq3Yi\n",
       "MmZ3LnoBAAAACXBIWXMAAA7EAAAOxAGVKw4bAAAA1ElEQVQY02NgQAdPjfRDjB4AGYzKDmhSCqcY\n",
       "uh4JABmsCegyJxmYeBcAGfwFmDJsBwKAjH4BqMgmF5cAuIwCkDEFKtG6EaGHSxBkWtTu5SA+TyCS\n",
       "aZdKDwDd9lVA/gDIIQfgModDvoD0s39kYN4AkkFywTtREM0WwMA/AUhfdgECBYgMkxzIpywTGPpB\n",
       "7hZC0sOboAjxTj7I3SzI/sk9BJK5wGgH4nNvQJIR4gYax/WACRI84XCZYwx8DzSArl6ZBxGQ0hCA\n",
       "hbUOg1I8cph1qkBCBwoAxe43BugJR6MAAAAASUVORK5CYII=\n",
       "\" style=\"display:inline;vertical-align:middle;\" /></a>, <a class=\"ProveItLink\" href=\"../__pv_it/theorems/2624246814ca76e7f5e459d5afd54a978b7746270/expr.ipynb\"><img src=\"data:image/png;base64,iVBORw0KGgoAAAANSUhEUgAAAEwAAAAVBAMAAAAeOBUnAAAAMFBMVEX///8AAAAAAAAAAAAAAAAA\n",
       "AAAAAAAAAAAAAAAAAAAAAAAAAAAAAAAAAAAAAAAAAAAv3aB7AAAAD3RSTlMAEHarMolUmd1mIs3v\n",
       "RLtmgJDEAAAACXBIWXMAAA7EAAAOxAGVKw4bAAABJElEQVQoz2NgwARMHQ6oAhotWFQxsF5AF4kl\n",
       "qEzuBFHKGLYTp+wbujK9jo4NGMp4P6Ipu62IzTTWBogyIWWR0AQgk2sjsqWLgxZBONxGygkgZQVM\n",
       "RuwgHdwLkJTxnmJ4LwDmyG9k/AVUxrmA8yPzBJAyZC/ITGCogHDyBRgOAZWxMLCD3c3g0wEED6DK\n",
       "6hkYWiHKqhkYvoK9wKMACUdk084xMP6FcFoZeL+Bld1fwAhyBgeSMsZPDJwfYMHG/hGoTO6CDQMr\n",
       "OMIVkJR9Y2DekMUA0v0F5M5YhnzHGoZrYNltSJY+YsgoKGD8DeRYMjwHhZu4EltlAlhW+K0AXJmw\n",
       "qpeRA0MHUEA4fAJaZF19gRZZbAJEJSRW4tKbEHHKFPArw8gLZwF5UVKqhm//BAAAAABJRU5ErkJg\n",
       "gg==\n",
       "\" style=\"display:inline;vertical-align:middle;\" /></a> <a class=\"ProveItLink\" href=\"../__pv_it/demonstrations/0e4ca94fa7fb96c7919066360d8cfc0d4ef546ef0/proof.ipynb\" style=\"text-decoration: none\">&nbsp;&#x22A2;&nbsp;&nbsp;</a><a class=\"ProveItLink\" href=\"../../../ordering/__pv_it/theorems/d1323f34847310a404e8089c2c268d3c2eb89dbf0/expr.ipynb\"><img src=\"data:image/png;base64,iVBORw0KGgoAAAANSUhEUgAAADQAAAAQBAMAAACra0H4AAAAMFBMVEX///8AAAAAAAAAAAAAAAAA\n",
       "AAAAAAAAAAAAAAAAAAAAAAAAAAAAAAAAAAAAAAAAAAAv3aB7AAAAD3RSTlMAEHarMolUmd1mIs3v\n",
       "RLtmgJDEAAAACXBIWXMAAA7EAAAOxAGVKw4bAAAAyklEQVQY02NgwACce9797nnJgBXwcRnwWj7E\n",
       "IRXA8MAZp1QVN4qQXkfHBrgUH7LMbUUkXYbCQIaQskhoApDm2ohkIMuzXUBGAZMRewOQ5l6AkDrd\n",
       "3yQA9MUCzo/ME0BSSM6InAiylIWBHWw3g08HEDyAGvhwJliMRwFMySE73p1PAMS6v4ARRHMgS7F7\n",
       "AfXLXbBhYAUJMCkgSTE+0GRgyHesYbgGFtmGkCpgmMl3gUFcia0yASwi/FYAFvL/FvC9/oYcHFdf\n",
       "QAIKCgBACzQrtGfvLgAAAABJRU5ErkJggg==\n",
       "\" style=\"display:inline;vertical-align:middle;\" /></a></span>"
      ],
      "text/plain": [
       "{a in Real, b in Real, x in [a,b]} |- x in Real"
      ]
     },
     "metadata": {},
     "output_type": "display_data"
    }
   ],
   "source": [
    "# but if know the endpts are Real, then the IntervalXX is know to be legitimate:\n",
    "InSet(x, Real).prove(assumptions=[InSet(a, Real), InSet(b, Real), InSet(x, IntervalCC(a, b))])"
   ]
  },
  {
   "cell_type": "markdown",
   "metadata": {},
   "source": [
    "… some deductions of lower bounds"
   ]
  },
  {
   "cell_type": "code",
   "execution_count": 118,
   "metadata": {},
   "outputs": [
    {
     "data": {
      "text/html": [
       "<span style=\"font-size:20px;\"><a class=\"ProveItLink\" href=\"../__pv_it/demonstrations/6a6060ed9eca88784f398b88450cdaf2332619360/expr.ipynb\"><img src=\"data:image/png;base64,iVBORw0KGgoAAAANSUhEUgAAAFEAAAAVBAMAAADMaB9/AAAAMFBMVEX///8AAAAAAAAAAAAAAAAA\n",
       "AAAAAAAAAAAAAAAAAAAAAAAAAAAAAAAAAAAAAAAAAAAv3aB7AAAAD3RSTlMAEHarMolUmd1mIs3v\n",
       "RLtmgJDEAAAACXBIWXMAAA7EAAAOxAGVKw4bAAABiklEQVQoz2NgwAa40AUWMOAAakhsFgYGKYZL\n",
       "OBSyBTBwhdZdgHB4fu9oZGCagF2lNAODOAPbNwiH43yrAAPDRuwqKxkY9BMYf0M4zGByOooCphcd\n",
       "3WDGAQaGOxcYUFTyCCAp5N0E5bFtAJM/kVVyAx0qpCwSmgDirIZpYw8AkTegnmCeFOzAwMBqwMBQ\n",
       "wGTE3gAS2gUzHKSfwcnYAcLjE+D6y8DAuYGBcwHnR2aw9g0wlRxgK2B+B4IXQN4BYMCyQ5SwnOjo\n",
       "6OgDux4SkufhnqhfwMDyASShAOYyPoBJgFS6MDC8BxvN8Bqo0oGBFxgeDPcXMIJ1NyDb/l8ApvIE\n",
       "A4M90PYGBrkLNgysYCElmEo+oCWHQbYzgnjAgDgH9NEDhnzHGoZrEC8nQFWCQmQmKDzlQT5YzsB0\n",
       "EBxy4kpslRAljHYXoakH6A7ecmAK4WgEpcByc6DjOC4gxyZvHDQ2W2AiiXC5FdhTCDw5BCAnGmyA\n",
       "D5rEGRXgmeABdpWwoGXC0IsBFqELaDEwAACAGVPwccK1GwAAAABJRU5ErkJggg==\n",
       "\" style=\"display:inline;vertical-align:middle;\" /></a> <a class=\"ProveItLink\" href=\"../__pv_it/demonstrations/0a8073b71e6057b2f3accfae77f66785e83d61ce0/proof.ipynb\" style=\"text-decoration: none\">&nbsp;&#x22A2;&nbsp;&nbsp;</a><a class=\"ProveItLink\" href=\"../__pv_it/demonstrations/1f054b3a9c4125390eb08a9a6943e3a154a450d90/expr.ipynb\"><img src=\"data:image/png;base64,iVBORw0KGgoAAAANSUhEUgAAADEAAAAQBAMAAABNQoq8AAAAMFBMVEX///8AAAAAAAAAAAAAAAAA\n",
       "AAAAAAAAAAAAAAAAAAAAAAAAAAAAAAAAAAAAAAAAAAAv3aB7AAAAD3RSTlMAIomZu0QQVHbN72bd\n",
       "Mqv0UZE7AAAACXBIWXMAAA7EAAAOxAGVKw4bAAAAr0lEQVQY02NgEFJ2ZcAK2AwY6guwynB8Z8if\n",
       "gFWGdSkDP0KmUgBFsn4DjLXHDFXXaRirRw1CZ/TlKgHt5u17C3WLTgNUhQHHC+YDYNPAbmO0gRnK\n",
       "LcD9jQ/M4foGIl/C3c7LwAxyE+8FBpbvqDJAtSBz+b9BZRCmMTDEC7AlMHA9gJqGcEFKwCsGJqB1\n",
       "G+D+Yetpg/jvmhVDOJAONkaE6B6wh5I72K0xgnKnAANhAACG3yqIC/hQ1QAAAABJRU5ErkJggg==\n",
       "\" style=\"display:inline;vertical-align:middle;\" /></a></span>"
      ],
      "text/plain": [
       "{x in (3,5)} |- 3 < x"
      ]
     },
     "metadata": {},
     "output_type": "display_data"
    }
   ],
   "source": [
    "Less(three, x).prove(assumptions=[InSet(x, IntervalOO(three, five))])"
   ]
  },
  {
   "cell_type": "code",
   "execution_count": 119,
   "metadata": {},
   "outputs": [
    {
     "data": {
      "text/html": [
       "<span style=\"font-size:20px;\"><a class=\"ProveItLink\" href=\"../__pv_it/demonstrations/6a6060ed9eca88784f398b88450cdaf2332619360/expr.ipynb\"><img src=\"data:image/png;base64,iVBORw0KGgoAAAANSUhEUgAAAFEAAAAVBAMAAADMaB9/AAAAMFBMVEX///8AAAAAAAAAAAAAAAAA\n",
       "AAAAAAAAAAAAAAAAAAAAAAAAAAAAAAAAAAAAAAAAAAAv3aB7AAAAD3RSTlMAEHarMolUmd1mIs3v\n",
       "RLtmgJDEAAAACXBIWXMAAA7EAAAOxAGVKw4bAAABiklEQVQoz2NgwAa40AUWMOAAakhsFgYGKYZL\n",
       "OBSyBTBwhdZdgHB4fu9oZGCagF2lNAODOAPbNwiH43yrAAPDRuwqKxkY9BMYf0M4zGByOooCphcd\n",
       "3WDGAQaGOxcYUFTyCCAp5N0E5bFtAJM/kVVyAx0qpCwSmgDirIZpYw8AkTegnmCeFOzAwMBqwMBQ\n",
       "wGTE3gAS2gUzHKSfwcnYAcLjE+D6y8DAuYGBcwHnR2aw9g0wlRxgK2B+B4IXQN4BYMCyQ5SwnOjo\n",
       "6OgDux4SkufhnqhfwMDyASShAOYyPoBJgFS6MDC8BxvN8Bqo0oGBFxgeDPcXMIJ1NyDb/l8ApvIE\n",
       "A4M90PYGBrkLNgysYCElmEo+oCWHQbYzgnjAgDgH9NEDhnzHGoZrEC8nQFWCQmQmKDzlQT5YzsB0\n",
       "EBxy4kpslRAljHYXoakH6A7ecmAK4WgEpcByc6DjOC4gxyZvHDQ2W2AiiXC5FdhTCDw5BCAnGmyA\n",
       "D5rEGRXgmeABdpWwoGXC0IsBFqELaDEwAACAGVPwccK1GwAAAABJRU5ErkJggg==\n",
       "\" style=\"display:inline;vertical-align:middle;\" /></a> <a class=\"ProveItLink\" href=\"../__pv_it/demonstrations/1b43679d917368cee87e0973fe5eebc0cd25d5a00/proof.ipynb\" style=\"text-decoration: none\">&nbsp;&#x22A2;&nbsp;&nbsp;</a><a class=\"ProveItLink\" href=\"../__pv_it/demonstrations/3d37d056a868a5169c19226240f039e8e57e0cf10/expr.ipynb\"><img src=\"data:image/png;base64,iVBORw0KGgoAAAANSUhEUgAAADAAAAAQBAMAAACigOGCAAAAMFBMVEX///8AAAAAAAAAAAAAAAAA\n",
       "AAAAAAAAAAAAAAAAAAAAAAAAAAAAAAAAAAAAAAAAAAAv3aB7AAAAD3RSTlMAIpnNuzKJRKvvEN12\n",
       "ZlQ4bmvwAAAACXBIWXMAAA7EAAAOxAGVKw4bAAAAtUlEQVQY02NgVDIJYMAGRBjYvmOVaGRgmIlV\n",
       "Yv4Chn4BGIfPECHRzcDQD7OEd9MCFE37oTTPNog415musDwgzfoHIr5sD1QBE8OJA9pAmrsBzBXa\n",
       "CzPhIsP9Bb1AWgXM47CDGx3AoAy2sQFdgoFhDoh4xsAogGoUA/tHhlUMrAkMPAtQLOdy55jAkMAg\n",
       "raSkDVW4Zg9YBd/XRRPYHzDs////M8wIXrBHuHQOPLqHFj68hgwEAQAuLCtyFdouBgAAAABJRU5E\n",
       "rkJggg==\n",
       "\" style=\"display:inline;vertical-align:middle;\" /></a></span>"
      ],
      "text/plain": [
       "{x in (3,5)} |- 2 < x"
      ]
     },
     "metadata": {},
     "output_type": "display_data"
    }
   ],
   "source": [
    "Less(two, x).prove(assumptions=[InSet(x, IntervalOO(three, five))])"
   ]
  },
  {
   "cell_type": "code",
   "execution_count": 120,
   "metadata": {},
   "outputs": [
    {
     "data": {
      "text/html": [
       "<span style=\"font-size:20px;\"><a class=\"ProveItLink\" href=\"../__pv_it/demonstrations/e833a3b14cf6f27fcd9e68f7a0982cb80393437f0/expr.ipynb\"><img src=\"data:image/png;base64,iVBORw0KGgoAAAANSUhEUgAAAE8AAAAVBAMAAAD1D64kAAAAMFBMVEX///8AAAAAAAAAAAAAAAAA\n",
       "AAAAAAAAAAAAAAAAAAAAAAAAAAAAAAAAAAAAAAAAAAAv3aB7AAAAD3RSTlMAEHarMolUmd1mIs3v\n",
       "RLtmgJDEAAAACXBIWXMAAA7EAAAOxAGVKw4bAAABcUlEQVQoz2NgwAa40PhMHQ5Y1TGoMbAwMEgh\n",
       "CbBewKqOLYCB5/eORgiHMTT8Ai6F0gwMHOdbBSAcdgYGM1wKKxkYmOGcmSCNqAqZXnR0gxkHkBUG\n",
       "Yyjk3QS1jG0DssL8h0AbQAqFlEVCE0Aiq6HqGNgDgAonBUNDhPm/egJYYQGTEXsDSGQXzAzuCQwM\n",
       "fAJcf6Hc+h8LQAo5F3B+ZJ4AEtgAU8gBtoDhBdQhUe+/gRSyMLBDVLCc6Ojo6AOxeCAur18ApqYz\n",
       "sP0RAHuGRwESsA9gJoIUvgYqhDjyIAPD+gSwwvsLGMHeaEC2+gQDgz1E/wegfyYAFcpdsGFgBQsp\n",
       "wRTyAa0AevwcAyOIdwoosACoMN+xhuEaxLMJsBRgwMCwnIHpIIM8yPW3BRgmgTwjrsRWCVHBaHcR\n",
       "opAF6AiucnMBBg5QumAxL0dPFLxx0ChsgYkkEkhm02GMAAIK+RZAk6ICAYWwIGUilMIZFqHnmZ4L\n",
       "AGCHWAbGTKxtAAAAAElFTkSuQmCC\n",
       "\" style=\"display:inline;vertical-align:middle;\" /></a> <a class=\"ProveItLink\" href=\"../__pv_it/demonstrations/2ffbe25d27ace51e14576dcac3281964daaa69bb0/proof.ipynb\" style=\"text-decoration: none\">&nbsp;&#x22A2;&nbsp;&nbsp;</a><a class=\"ProveItLink\" href=\"../__pv_it/demonstrations/aece2a17c8bb6069ad1e2d71b075489bf344b1190/expr.ipynb\"><img src=\"data:image/png;base64,iVBORw0KGgoAAAANSUhEUgAAADAAAAASBAMAAADvSECJAAAAMFBMVEX///8AAAAAAAAAAAAAAAAA\n",
       "AAAAAAAAAAAAAAAAAAAAAAAAAAAAAAAAAAAAAAAAAAAv3aB7AAAAD3RSTlMAMhAi783diatmdrtE\n",
       "mVQhVHx6AAAACXBIWXMAAA7EAAAOxAGVKw4bAAAAr0lEQVQY02NgZGBQZsAGWL6GJWGVYPNPV4Bz\n",
       "+IIREhxIijhzFbBKcCHpRZZQz0Kxg2NWhQCYoZsJE2Ja1SRex8CtwPwHxNOIg6vlZVix4BqIsQ2s\n",
       "EyExmWG+QieIcd8ARNrCjRJguAoktwIlBNAt9wJiNwaGfnTn8nxmUGIoYGDwRvUg0x4OB6CwLQOX\n",
       "EyJIAkHER10HngcMzHd7FVBDj+nWgrfzGCgAamkgkAjnAwAAACP4RK+w3QAAAABJRU5ErkJggg==\n",
       "\" style=\"display:inline;vertical-align:middle;\" /></a></span>"
      ],
      "text/plain": [
       "{x in (5,8]} |- 5 <= x"
      ]
     },
     "metadata": {},
     "output_type": "display_data"
    }
   ],
   "source": [
    "LessEq(five, x).prove(assumptions=[InSet(x, IntervalOC(five, eight))])"
   ]
  },
  {
   "cell_type": "code",
   "execution_count": 121,
   "metadata": {},
   "outputs": [
    {
     "data": {
      "text/html": [
       "<span style=\"font-size:20px;\"><a class=\"ProveItLink\" href=\"../__pv_it/demonstrations/54f0c5b129eacc5b07e5c1f059746832c40afa130/expr.ipynb\"><img src=\"data:image/png;base64,iVBORw0KGgoAAAANSUhEUgAAAE8AAAAVBAMAAAD1D64kAAAAMFBMVEX///8AAAAAAAAAAAAAAAAA\n",
       "AAAAAAAAAAAAAAAAAAAAAAAAAAAAAAAAAAAAAAAAAAAv3aB7AAAAD3RSTlMAEHarMolUmd1mIs3v\n",
       "RLtmgJDEAAAACXBIWXMAAA7EAAAOxAGVKw4bAAABX0lEQVQoz2NgwARMHQ5oIgsYsALWC0iclQJA\n",
       "4hJOhVyhdVDV+f///z/ANAGXQnEGtm8QTlx5eUUCw0ZcCvUTGH9DOAEMDMsZGKajeuJFRzdU4Z0L\n",
       "DFCFCQwMBgwMPAJI6ng3CSB5hu0n3AJgGHADHSmkLBKaABJYLYDs6xtw968DCQFNLWAyYm8ACexC\n",
       "Dh4nY3hY2gIx5wYGzgWcH5nBujeghCPM1wxcB0C8AwwsDOwQFSwnOjo6+hABfh7mYpA0ywcgwaMA\n",
       "FmB8gGSiCwPD+wQIjwMkzgsy9v4CRrDmBiSF/wXgCuUNQFY3MMhdsGFgBYsoISk8DLKaEcy7XwDy\n",
       "zAOGfMcahmtgEe4EhMKZoHCUBzs+Hxg3DOwBDOJKbJUQFYx2F+EKecuBiYKjEcRbA5LlQE5QDLxx\n",
       "8CiEgES41Ar86TEALlSJVyGjAkyE6wFehUxwET7seYEVI89oMTAAAG3QXIFiAPSkAAAAAElFTkSu\n",
       "QmCC\n",
       "\" style=\"display:inline;vertical-align:middle;\" /></a> <a class=\"ProveItLink\" href=\"../__pv_it/demonstrations/1ea4517c4df7e7043cda01e9cfc9101b7439d9750/proof.ipynb\" style=\"text-decoration: none\">&nbsp;&#x22A2;&nbsp;&nbsp;</a><a class=\"ProveItLink\" href=\"../__pv_it/demonstrations/adb0088d52d666906a584ed4acc6a5aa06a1d5ef0/expr.ipynb\"><img src=\"data:image/png;base64,iVBORw0KGgoAAAANSUhEUgAAADEAAAARBAMAAACGHlkZAAAAMFBMVEX///8AAAAAAAAAAAAAAAAA\n",
       "AAAAAAAAAAAAAAAAAAAAAAAAAAAAAAAAAAAAAAAAAAAv3aB7AAAAD3RSTlMAIomZu0QQVHbN72bd\n",
       "Mqv0UZE7AAAACXBIWXMAAA7EAAAOxAGVKw4bAAAAsklEQVQY02NgEFJ2ZcAK2AwY6gvgvEoBhAzH\n",
       "d4b8CTDOHjMkPaxLGfhhMj1qaAbWb4CYq9OAJsF6GiJhswEmktGXqwS0m7fvLVjiJcIdBhwvmA+A\n",
       "TQOLIWS4Bbi/8YEN4PoGIhnhpvEyMIPcxHuBgeU7ugu4QCz+bzAZJFfHC7AlMHA9gJqG8GlKwCsG\n",
       "JqB1G2D+AYfOBZCLrlkxhAPpYGP0EE3uYLcuYKAIsJ0BgwtwAQBiojBbdPk/egAAAABJRU5ErkJg\n",
       "gg==\n",
       "\" style=\"display:inline;vertical-align:middle;\" /></a></span>"
      ],
      "text/plain": [
       "{x in [3,7)} |- 3 <= x"
      ]
     },
     "metadata": {},
     "output_type": "display_data"
    }
   ],
   "source": [
    "LessEq(three, x).prove(assumptions=[InSet(x, IntervalCO(three, seven))])"
   ]
  },
  {
   "cell_type": "code",
   "execution_count": 122,
   "metadata": {},
   "outputs": [
    {
     "data": {
      "text/html": [
       "<span style=\"font-size:20px;\"><a class=\"ProveItLink\" href=\"../__pv_it/demonstrations/41f3a03d7041b87e828fd509345e850819684c470/expr.ipynb\"><img src=\"data:image/png;base64,iVBORw0KGgoAAAANSUhEUgAAAE0AAAAVBAMAAADx+n4ZAAAAMFBMVEX///8AAAAAAAAAAAAAAAAA\n",
       "AAAAAAAAAAAAAAAAAAAAAAAAAAAAAAAAAAAAAAAAAAAv3aB7AAAAD3RSTlMAEHarMolUmd1mIs3v\n",
       "RLtmgJDEAAAACXBIWXMAAA7EAAAOxAGVKw4bAAABR0lEQVQoz2NgwAI0WlD5TB0O2JQxxKILsF7A\n",
       "pS5UfQGEzVW+zwG3Ou4Exi4Iex0D61/c6mYwMMRB2FYMDGfQ1DG96OiGqnvMwJAvAGafF2CwX4Ci\n",
       "jneTANy87wwM/glgtgUDg70DSJ2QskgoWGi1ANxeRpC6CTBuP9jeAiYj9gYQdxfCfVxfgeoUoDyW\n",
       "TyB1nAs4PzKDtW5AUxcA5XEYgNSxMLBDFLCc6Ojo6IPaC1R3H2ZeHTSceSACjA+QwgXovnyIPxg4\n",
       "DaDq7i9gBPugAUndOwaG+VBvpTJwgcJF7oINAytYQAlJ3RwGhmoGRrBzAhiYBIDq8h1rGK6BZbkT\n",
       "EOo4EhiPMMiDHL6ivLwCZK+4ElslRAGj3UW4OsZSZQcGjkZQ4P3//xst3njj4PEGAYmE0xUYBBCn\n",
       "jlGBOHVMhNJzBHr+6LkAANyRV6MkAe9RAAAAAElFTkSuQmCC\n",
       "\" style=\"display:inline;vertical-align:middle;\" /></a> <a class=\"ProveItLink\" href=\"../__pv_it/demonstrations/ec3e3ca220d04fb102c79e0a07549a76e95ae7300/proof.ipynb\" style=\"text-decoration: none\">&nbsp;&#x22A2;&nbsp;&nbsp;</a><a class=\"ProveItLink\" href=\"../__pv_it/demonstrations/f87620aa817999d39aff601e558782a341f654850/expr.ipynb\"><img src=\"data:image/png;base64,iVBORw0KGgoAAAANSUhEUgAAADEAAAARBAMAAACGHlkZAAAAMFBMVEX///8AAAAAAAAAAAAAAAAA\n",
       "AAAAAAAAAAAAAAAAAAAAAAAAAAAAAAAAAAAAAAAAAAAv3aB7AAAAD3RSTlMAiXaZIs1UEN1mu6sy\n",
       "RO+L2jdBAAAACXBIWXMAAA7EAAAOxAGVKw4bAAAAu0lEQVQY02NgYBQyYcAOwhgqHOCcVASTgbOB\n",
       "gXEBjDPDHEkL1wYGtu9QtoY4smH8Bgw838AsdgkFFGvqgTI/wRIWE2BiRdo1ggkM/gIMPJ9AElsT\n",
       "4KoNmDYxN4BlPoK4CBlOB87v3BMY6gUYeEF6GFjgpvEwMAdAXMCG4QI+EItrAQMnhqvvO7AXMHA+\n",
       "gOhF8mnVhX0MjEC6jaHuACJ0QMz843YM14B0sdAetJAsVmKzTGCgCLB3gAHCSgCPyCs/5sDZDQAA\n",
       "AABJRU5ErkJggg==\n",
       "\" style=\"display:inline;vertical-align:middle;\" /></a></span>"
      ],
      "text/plain": [
       "{x in [0,2]} |- 0 <= x"
      ]
     },
     "metadata": {},
     "output_type": "display_data"
    }
   ],
   "source": [
    "LessEq(zero, x).prove(assumptions=[InSet(x, IntervalCC(zero, two))])"
   ]
  },
  {
   "cell_type": "markdown",
   "metadata": {},
   "source": [
    "… some upper bounds"
   ]
  },
  {
   "cell_type": "code",
   "execution_count": 123,
   "metadata": {},
   "outputs": [
    {
     "data": {
      "text/html": [
       "<span style=\"font-size:20px;\"><a class=\"ProveItLink\" href=\"../__pv_it/demonstrations/6a6060ed9eca88784f398b88450cdaf2332619360/expr.ipynb\"><img src=\"data:image/png;base64,iVBORw0KGgoAAAANSUhEUgAAAFEAAAAVBAMAAADMaB9/AAAAMFBMVEX///8AAAAAAAAAAAAAAAAA\n",
       "AAAAAAAAAAAAAAAAAAAAAAAAAAAAAAAAAAAAAAAAAAAv3aB7AAAAD3RSTlMAEHarMolUmd1mIs3v\n",
       "RLtmgJDEAAAACXBIWXMAAA7EAAAOxAGVKw4bAAABiklEQVQoz2NgwAa40AUWMOAAakhsFgYGKYZL\n",
       "OBSyBTBwhdZdgHB4fu9oZGCagF2lNAODOAPbNwiH43yrAAPDRuwqKxkY9BMYf0M4zGByOooCphcd\n",
       "3WDGAQaGOxcYUFTyCCAp5N0E5bFtAJM/kVVyAx0qpCwSmgDirIZpYw8AkTegnmCeFOzAwMBqwMBQ\n",
       "wGTE3gAS2gUzHKSfwcnYAcLjE+D6y8DAuYGBcwHnR2aw9g0wlRxgK2B+B4IXQN4BYMCyQ5SwnOjo\n",
       "6OgDux4SkufhnqhfwMDyASShAOYyPoBJgFS6MDC8BxvN8Bqo0oGBFxgeDPcXMIJ1NyDb/l8ApvIE\n",
       "A4M90PYGBrkLNgysYCElmEo+oCWHQbYzgnjAgDgH9NEDhnzHGoZrEC8nQFWCQmQmKDzlQT5YzsB0\n",
       "EBxy4kpslRAljHYXoakH6A7ecmAK4WgEpcByc6DjOC4gxyZvHDQ2W2AiiXC5FdhTCDw5BCAnGmyA\n",
       "D5rEGRXgmeABdpWwoGXC0IsBFqELaDEwAACAGVPwccK1GwAAAABJRU5ErkJggg==\n",
       "\" style=\"display:inline;vertical-align:middle;\" /></a> <a class=\"ProveItLink\" href=\"../__pv_it/demonstrations/cdd7d6ad63e2875c6dee2f2940f48d9751c413d00/proof.ipynb\" style=\"text-decoration: none\">&nbsp;&#x22A2;&nbsp;&nbsp;</a><a class=\"ProveItLink\" href=\"../__pv_it/demonstrations/e0aea69931c009be215b1b5be1a8a4a6f5a856100/expr.ipynb\"><img src=\"data:image/png;base64,iVBORw0KGgoAAAANSUhEUgAAADEAAAARBAMAAACGHlkZAAAAMFBMVEX///8AAAAAAAAAAAAAAAAA\n",
       "AAAAAAAAAAAAAAAAAAAAAAAAAAAAAAAAAAAAAAAAAAAv3aB7AAAAD3RSTlMAEHarMolUmd1mIs3v\n",
       "RLtmgJDEAAAACXBIWXMAAA7EAAAOxAGVKw4bAAAAsElEQVQY02NgwAJYGBikGLACnt87GrHLcJxv\n",
       "FcAuw4xFjG0XDhnOdgEkGSFlkdAECJMJajzzpGAHIFXAZMTeABYQbYJq5RPg+gs0YAHnR+YJIP7y\n",
       "TiRzX4B8xb4BYsQ2ZBvrF4D8pYAu8xooA7Lo/gJGAVTTTjAw2DMwyF2wYWBlQHVBAAPDOQaGfMca\n",
       "hmtQEaEmiKuXMzAdZGAQV2KrTID7FOIhrnJzjHDj3MVAGAAAIoQiRCQltJkAAAAASUVORK5CYII=\n",
       "\" style=\"display:inline;vertical-align:middle;\" /></a></span>"
      ],
      "text/plain": [
       "{x in (3,5)} |- x < 5"
      ]
     },
     "metadata": {},
     "output_type": "display_data"
    }
   ],
   "source": [
    "Less(x, five).prove(assumptions=[InSet(x, IntervalOO(three, five))])"
   ]
  },
  {
   "cell_type": "code",
   "execution_count": 124,
   "metadata": {},
   "outputs": [
    {
     "data": {
      "text/html": [
       "<span style=\"font-size:20px;\"><a class=\"ProveItLink\" href=\"../__pv_it/demonstrations/6d4e2ba54c974492f89a587a129aa159e70192ad0/expr.ipynb\"><img src=\"data:image/png;base64,iVBORw0KGgoAAAANSUhEUgAAAE8AAAAVBAMAAAD1D64kAAAAMFBMVEX///8AAAAAAAAAAAAAAAAA\n",
       "AAAAAAAAAAAAAAAAAAAAAAAAAAAAAAAAAAAAAAAAAAAv3aB7AAAAD3RSTlMAEHarMolUmd1mIs3v\n",
       "RLtmgJDEAAAACXBIWXMAAA7EAAAOxAGVKw4bAAABXklEQVQoz2NgwAa40PhMHQ5Y1TGooQuwXsCq\n",
       "ji0ASLAUwBSFhuBSKA0iOAygztjLYIFLYSWI0IAq5FZgeIemkOlFRzeYcQBk82yownwBdDfybhKA\n",
       "OnEDSIobqvANzDNCyiKhCSDOaqg6BnaQX7RgCk+7ql8AKyxgMmJvAInsghnNPQHohQkwhb8nMBwD\n",
       "KeRcwPmReQJIZANMIQfQAlYGqELG/wwMNQJAhSwM7BAVLCc6Ojr6QCweoD2z4Ap/MDDMvwD2DI8C\n",
       "ROQBzESgQi4FBrjVQIUTwArvL2AEe6MByWpeY2P7wwFg3guoiXIXbIAOAgElmEI+sBU8BgyM4HAE\n",
       "uhHkmXzHGoZrEM8mwCIXbCn/AwZ5kOv5AhjBvhZXYquEqGC0uwhRyAJyBPv7zwocjSBueLEDWhTy\n",
       "xkGjsAUmkkggmU2HMQIIKORbAKEZFQgohAUpE6EUzrAIPc/0XAAADkxTuGeJY5MAAAAASUVORK5C\n",
       "YII=\n",
       "\" style=\"display:inline;vertical-align:middle;\" /></a> <a class=\"ProveItLink\" href=\"../__pv_it/demonstrations/93f2aa36bf198eb79b26df6583925ffb015a066b0/proof.ipynb\" style=\"text-decoration: none\">&nbsp;&#x22A2;&nbsp;&nbsp;</a><a class=\"ProveItLink\" href=\"../__pv_it/demonstrations/1c7a2407419e910d068e0f1213cae281cea637490/expr.ipynb\"><img src=\"data:image/png;base64,iVBORw0KGgoAAAANSUhEUgAAADEAAAARBAMAAACGHlkZAAAAMFBMVEX///8AAAAAAAAAAAAAAAAA\n",
       "AAAAAAAAAAAAAAAAAAAAAAAAAAAAAAAAAAAAAAAAAAAv3aB7AAAAD3RSTlMAEHarMolUmd1mIs3v\n",
       "RLtmgJDEAAAACXBIWXMAAA7EAAAOxAGVKw4bAAAAuklEQVQY02NgwAZYQ0PQhdh2gUiuvQwWaBKc\n",
       "7QIgiluB4R2qBFMrWIIhXwBNh2gTlPEGQgkpi4QmgBjinTAlp13VLwCpAiYj9gYgLbwNrvn3BIZj\n",
       "QEsXcH5kngDkMsNlGP8zMNQIMLAwsG+ACCyHmcb4g4FhPsg4HgV0F/wGyoCMub+AUQDV1S/AeuQu\n",
       "2DCwovk0H2gPkHSsYbiGCJ0tIJIvgBHoNnEltsoE9OALL3ZgoAxIdIBAC5wPAMIsKuT6kQYCAAAA\n",
       "AElFTkSuQmCC\n",
       "\" style=\"display:inline;vertical-align:middle;\" /></a></span>"
      ],
      "text/plain": [
       "{x in (4,6]} |- x <= 6"
      ]
     },
     "metadata": {},
     "output_type": "display_data"
    }
   ],
   "source": [
    "LessEq(x, six).prove(assumptions=[InSet(x, IntervalOC(four, six))])"
   ]
  },
  {
   "cell_type": "code",
   "execution_count": 125,
   "metadata": {},
   "outputs": [
    {
     "data": {
      "text/html": [
       "<span style=\"font-size:20px;\"><a class=\"ProveItLink\" href=\"../__pv_it/demonstrations/bf39b73cbc7bda1dc23a383096e910d083bf1b5b0/expr.ipynb\"><img src=\"data:image/png;base64,iVBORw0KGgoAAAANSUhEUgAAAE8AAAAVBAMAAAD1D64kAAAAMFBMVEX///8AAAAAAAAAAAAAAAAA\n",
       "AAAAAAAAAAAAAAAAAAAAAAAAAAAAAAAAAAAAAAAAAAAv3aB7AAAAD3RSTlMAEHarMolUmd1mIs3v\n",
       "RLtmgJDEAAAACXBIWXMAAA7EAAAOxAGVKw4bAAABbElEQVQoz32TvUvDQBjGn8SkafrFIYIOYkNd\n",
       "xKXFuWr9D7KoW427kKJDLCjULSBIN9duKopUR6eO4hQdXJvRyQ9wE4yXXJNcbdN3OPI+97v33ucu\n",
       "B4yGaNf+KR2MDdnBFRlSXhJB0/O8HsusAwKxnQTWLevQCJI5TXoC7pJAHbhgSRV4B86HTbzZpwOQ\n",
       "Vqsw8QfYIcjxPefvSVSRDsy58AuUHWRpk9OLM5tBO9cEHHiLuGIbMq3fEFeUli89gAdXEfX4oUHt\n",
       "Qu2oX1OB+y4PZgaHg3lHWjeQ6kGCwgjp0bbtsxCUw2XC/la5BumTfuY0prh8xbQbu6Su8/4G/Y4Q\n",
       "2GjxYLESg/QcUy0sOFXIQV7iwX6D7uEne0T4BlQX5sYRXoP5rMGBJr2bot/nEilQq4qO2VKqyQhh\n",
       "7TkGb6iWPvGT7WM6ph3+CvP16ApZ7EZTl0k/BQs9kpoTQUELlYw7ERQjpTD+Lcgjb2YZ+APRa1im\n",
       "E89ujwAAAABJRU5ErkJggg==\n",
       "\" style=\"display:inline;vertical-align:middle;\" /></a> <a class=\"ProveItLink\" href=\"../__pv_it/demonstrations/6650d1281f5cee1057eb5bf2a68dd897bb1389340/proof.ipynb\" style=\"text-decoration: none\">&nbsp;&#x22A2;&nbsp;&nbsp;</a><a class=\"ProveItLink\" href=\"../__pv_it/demonstrations/78c0c82c70062a130ab3bfca9ea9d75f8bd481620/expr.ipynb\"><img src=\"data:image/png;base64,iVBORw0KGgoAAAANSUhEUgAAADEAAAAQBAMAAABNQoq8AAAAMFBMVEX///8AAAAAAAAAAAAAAAAA\n",
       "AAAAAAAAAAAAAAAAAAAAAAAAAAAAAAAAAAAAAAAAAAAv3aB7AAAAD3RSTlMAEHarMolUmd1mIs3v\n",
       "RLtmgJDEAAAACXBIWXMAAA7EAAAOxAGVKw4bAAAAuklEQVQY02NgwAbKiwWwijNIKLCcwi5jw8Dw\n",
       "Dl2MbReI/M3AEI9mHGc7SIDxHwOD/gUGBiFlkdAEiARTK0QlSM8EBoYCJiP2BrCAaBPCnvcKDJwL\n",
       "OD8yTwDxl3fCDJW5wGKfwMDCwL4BzGXeBreOsShM3wFI8yigyzBA3XZ/AaMAqmkMYP/IXbBhYGVA\n",
       "dUGOAOMXBoZ8xxqGa1ARoSaIqzUE+IBuEldiq0yA+xTiIdbwWowQ49zFQBgAAJUNJSeVBeBMAAAA\n",
       "AElFTkSuQmCC\n",
       "\" style=\"display:inline;vertical-align:middle;\" /></a></span>"
      ],
      "text/plain": [
       "{x in [7,9)} |- x < 9"
      ]
     },
     "metadata": {},
     "output_type": "display_data"
    }
   ],
   "source": [
    "Less(x, nine).prove(assumptions=[InSet(x, IntervalCO(seven, nine))])"
   ]
  },
  {
   "cell_type": "code",
   "execution_count": 126,
   "metadata": {},
   "outputs": [
    {
     "data": {
      "text/html": [
       "<span style=\"font-size:20px;\"><a class=\"ProveItLink\" href=\"../__pv_it/demonstrations/116dc4689c43d57667cc818d4642f1f958b29cfe0/expr.ipynb\"><img src=\"data:image/png;base64,iVBORw0KGgoAAAANSUhEUgAAAE0AAAAVBAMAAADx+n4ZAAAAMFBMVEX///8AAAAAAAAAAAAAAAAA\n",
       "AAAAAAAAAAAAAAAAAAAAAAAAAAAAAAAAAAAAAAAAAAAv3aB7AAAAD3RSTlMAEHarMolUmd1mIs3v\n",
       "RLtmgJDEAAAACXBIWXMAAA7EAAAOxAGVKw4bAAABEElEQVQoz2NgwAI0WlD5TB0O2JQxxKILsF7A\n",
       "pY6lEa4mNAS3OuHqj1A2114GCzzmMcHUcSswvENTx/SioxtDXb4Auvt4NwlgMe8NzB9CyiKhCSDO\n",
       "agFs9p52Vb8AVlfAZMTeABLZhdV9vycwHAOp41zA+ZF5AkhkAzZ1jP8ZGGoEgOpYGNghClhOdHR0\n",
       "9GGo+8HAMP8C2B88ChCRB9jtBaqbAFZ3fwEj2AcNWNW9gJond8GGgRUsooSujhEcfkD3gfyR71jD\n",
       "cA0S8glI6lh/MTDIgxzOF8AI9q+4ElslRAGj3UW4Omab35YMHOC0EF7sgBZvvHGIeAODRMLpCgwC\n",
       "iFPHqECcOiZC6TkCPX/0XAAAAXpWHnU/DpUAAAAASUVORK5CYII=\n",
       "\" style=\"display:inline;vertical-align:middle;\" /></a> <a class=\"ProveItLink\" href=\"../__pv_it/demonstrations/69822a9d2d9c5dc0eb115b1776370f4ac58805270/proof.ipynb\" style=\"text-decoration: none\">&nbsp;&#x22A2;&nbsp;&nbsp;</a><a class=\"ProveItLink\" href=\"../__pv_it/demonstrations/1c7a2407419e910d068e0f1213cae281cea637490/expr.ipynb\"><img src=\"data:image/png;base64,iVBORw0KGgoAAAANSUhEUgAAADEAAAARBAMAAACGHlkZAAAAMFBMVEX///8AAAAAAAAAAAAAAAAA\n",
       "AAAAAAAAAAAAAAAAAAAAAAAAAAAAAAAAAAAAAAAAAAAv3aB7AAAAD3RSTlMAEHarMolUmd1mIs3v\n",
       "RLtmgJDEAAAACXBIWXMAAA7EAAAOxAGVKw4bAAAAuklEQVQY02NgwAZYQ0PQhdh2gUiuvQwWaBKc\n",
       "7QIgiluB4R2qBFMrWIIhXwBNh2gTlPEGQgkpi4QmgBjinTAlp13VLwCpAiYj9gYgLbwNrvn3BIZj\n",
       "QEsXcH5kngDkMsNlGP8zMNQIMLAwsG+ACCyHmcb4g4FhPsg4HgV0F/wGyoCMub+AUQDV1S/AeuQu\n",
       "2DCwovk0H2gPkHSsYbiGCJ0tIJIvgBHoNnEltsoE9OALL3ZgoAxIdIBAC5wPAMIsKuT6kQYCAAAA\n",
       "AElFTkSuQmCC\n",
       "\" style=\"display:inline;vertical-align:middle;\" /></a></span>"
      ],
      "text/plain": [
       "{x in [1,6]} |- x <= 6"
      ]
     },
     "metadata": {},
     "output_type": "display_data"
    }
   ],
   "source": [
    "LessEq(x, six).prove(assumptions=[InSet(x, IntervalCC(one, six))])"
   ]
  },
  {
   "cell_type": "markdown",
   "metadata": {},
   "source": [
    "### Testing the `RealIntervalMembership.deduce_in_bool()` method"
   ]
  },
  {
   "cell_type": "code",
   "execution_count": 127,
   "metadata": {},
   "outputs": [
    {
     "data": {
      "text/html": [
       "<span style=\"font-size:20px;\"> <a class=\"ProveItLink\" href=\"../__pv_it/demonstrations/435946d17ead7912c1ee2310ce9028ffe6d883140/proof.ipynb\" style=\"text-decoration: none\">&nbsp;&#x22A2;&nbsp;&nbsp;</a><a class=\"ProveItLink\" href=\"../__pv_it/demonstrations/8bfd381d9f793a191b8990baf7f631e5d3ee76010/expr.ipynb\"><img src=\"data:image/png;base64,iVBORw0KGgoAAAANSUhEUgAAAIgAAAAVBAMAAABvbLv8AAAAMFBMVEX///8AAAAAAAAAAAAAAAAA\n",
       "AAAAAAAAAAAAAAAAAAAAAAAAAAAAAAAAAAAAAAAAAAAv3aB7AAAAD3RSTlMAInZUiRDNmWbv3US7\n",
       "qzJazP2FAAAACXBIWXMAAA7EAAAOxAGVKw4bAAACQklEQVQ4y41UPWgUQRT+dm/37vZ277JFSEQs\n",
       "zqAgQiCICKa5KwQbA2cam6hRCKjVFYHEKouFFlrY2NwJOYhGs1oc/iBWnhYposUhgoii19jYKIS7\n",
       "xsY3824nN+tedGB33vvm45v33rwZAD4Sh5/gGxgyzKl/wgXgNJ6Q4RZjpI3NXu0zGUeTtQkePfmW\n",
       "bad35T7MgKxDMZbnFsfONmHPJ2oQbFdR4nByq/cqwAJZ6UpcJLD8FjJBogjB5jbO8w55+b9BX7b6\n",
       "l0h2qg1HT3IrXOcMqAB1jAyKOCKKOzpPiszj2KCGezEKl+FSMCCSFs4lnUci+T1lLJI5O3nuhMx+\n",
       "TKW8KLkP2clfm+kAVpvMGWg8zz14+ANLV833mYbALqiYBFyY/NqnVozfVA+R23VoPM9dX31QwRqt\n",
       "+tluXga+c1JrnI5qli0gdZvm49B4lI55cwF10UsZRgu1MAwfS7POtexG7BUfhV80/9R5JILWM2Y7\n",
       "3Il2S0UitDvwtqWzSSIduCKSlzpPingc9yvflqVqDKYz0o1EasA3SkesTkPjSZE03gBzzU+wJDah\n",
       "RAh22iIdIV4G7lLpxP63dJ4UOSLOrPT9Kp5yK6hCEpwNqE/sHjnjMKnJMuXo6Hd4nlu2DlTxAzgz\n",
       "kVpm1P7yvL9KMF4s0QUMKRRj6SP9c03CHmk88/I7eYtzHa1lT/XbXsEp1X97xYPSiPF4xK9UHLYU\n",
       "tMz3MnG83h2ejQBD1HXfkJdtbndYvWWeP3xHGMX/g/eLQia/x38AwxyJpzolEwUAAAAASUVORK5C\n",
       "YII=\n",
       "\" style=\"display:inline;vertical-align:middle;\" /></a></span>"
      ],
      "text/plain": [
       "|- (x in (3,5)) in BOOLEAN"
      ]
     },
     "metadata": {},
     "output_type": "display_data"
    }
   ],
   "source": [
    "InSet(x, IntervalOO(three, five)).deduce_in_bool()"
   ]
  },
  {
   "cell_type": "code",
   "execution_count": 128,
   "metadata": {},
   "outputs": [
    {
     "data": {
      "text/html": [
       "<span style=\"font-size:20px;\"> <a class=\"ProveItLink\" href=\"../__pv_it/demonstrations/5ae8d6ac008245c9285d82f2a97a2a8035c1de330/proof.ipynb\" style=\"text-decoration: none\">&nbsp;&#x22A2;&nbsp;&nbsp;</a><a class=\"ProveItLink\" href=\"../__pv_it/demonstrations/ec93ed351ccff158d3d67a8420d3721c8bcdaf610/expr.ipynb\"><img src=\"data:image/png;base64,iVBORw0KGgoAAAANSUhEUgAAAIUAAAAVBAMAAACakjBMAAAAMFBMVEX///8AAAAAAAAAAAAAAAAA\n",
       "AAAAAAAAAAAAAAAAAAAAAAAAAAAAAAAAAAAAAAAAAAAv3aB7AAAAD3RSTlMAInZUiRDNmWbv3US7\n",
       "qzJazP2FAAAACXBIWXMAAA7EAAAOxAGVKw4bAAACUklEQVQ4y3WUPWgUQRTH/3t7+733gUUKq01E\n",
       "EVFIobae4cBChSOFIkRzRgJJo1conticKNpeY6MRDkSLw4QjxiA2rmIVi0Q70WgaC63SBEQRnDcz\n",
       "O7e3zk2xzLyZ/c17//feAChDN4zM+sDSsJNs5Ma15j1Zw0lgOctduDK/2GOTw1qEWWGfYkOuqtUt\n",
       "YuRamVPxsjH7GbDqWsYZ+vgbYjHSK3SIgdks4yWOh4DT0jKa3FfJmEEYc8a9/xm3C4A3YDzY7Qq/\n",
       "2hTKXcEwd6Qe8GpCwrXuU8WwgaNpxOreRA4i5W3BCNsJw+ZOBzO1vh8f7gBX2XTy0IUqZcdQ8Tok\n",
       "6ahkeJcnbgpGnhtGan1NJxfZyTk2beQ+Oh26RhUAXWi0JKM0B2+cM1we6MW+Hq/mf18DHrOdsrtT\n",
       "IC9ttekzt/KQjOltOPc5w+RR1dOa7l+t4SHTDo4w/+iyEXP3WeXcUowO3D+cUdymzwN26lnCCIMK\n",
       "MdgvETdNqQsYw4gSRqkO9xdnBOSHFaf9CBFTLMDrskU6+elYgs3Nb48qPC/KD5NUQ2eQUcdbdn3v\n",
       "Ewue8h4lmyGfeRuw6E+mR1toyl0YG2CYEU4Dx77fwHNuu5RsiiSWYkyTUu9wTuSFpxy26tJ4BRMn\n",
       "gJ/A2TGzKczn38vUF8lfZ/1v5D8h4vWvoj58alJYX16IU/sW1nnf+lvpQl1Zk7W+lFiOpHofu8U0\n",
       "OCVrXQ63oe051V2VNKM55A16o7WGsmStKMUw4iGMKa01KYJc+h0Lhz2GRqQ178q+e6wYR/WEf3AW\n",
       "knh1yuDrAAAAAElFTkSuQmCC\n",
       "\" style=\"display:inline;vertical-align:middle;\" /></a></span>"
      ],
      "text/plain": [
       "|- (x in (4,6]) in BOOLEAN"
      ]
     },
     "metadata": {},
     "output_type": "display_data"
    }
   ],
   "source": [
    "InSet(x, IntervalOC(four, six)).deduce_in_bool()"
   ]
  },
  {
   "cell_type": "code",
   "execution_count": 129,
   "metadata": {},
   "outputs": [
    {
     "data": {
      "text/html": [
       "<span style=\"font-size:20px;\"> <a class=\"ProveItLink\" href=\"../__pv_it/demonstrations/5517ea7c99c2b9dd1aba529784c3e2c21fc604500/proof.ipynb\" style=\"text-decoration: none\">&nbsp;&#x22A2;&nbsp;&nbsp;</a><a class=\"ProveItLink\" href=\"../__pv_it/demonstrations/9dc2e8579e4a7a51d4c102d62dc8683b199dbd790/expr.ipynb\"><img src=\"data:image/png;base64,iVBORw0KGgoAAAANSUhEUgAAAIUAAAAVBAMAAACakjBMAAAAMFBMVEX///8AAAAAAAAAAAAAAAAA\n",
       "AAAAAAAAAAAAAAAAAAAAAAAAAAAAAAAAAAAAAAAAAAAv3aB7AAAAD3RSTlMAInZUiRDNmWbv3US7\n",
       "qzJazP2FAAAACXBIWXMAAA7EAAAOxAGVKw4bAAACWUlEQVQ4y31UPWgUQRT+du9273K3F7fyD4s1\n",
       "qARREFFBm1slYBNhSWMTvVU5MJUplItWAUUbizRpTIqgxGI1cMQY1CajlcTCKFhILGwsIoiiBETB\n",
       "872Zu/257GaK4c23b7/55nszD4CNjUMPPicBjae0TJV+KAXMN7HdiwNlh6b5rqz901dG5poUHEE6\n",
       "R7XVak3IRaHxAejn7ca70sS8Vl8FDD+DY7DRuCElGvexZsNkWfVujmc4adEm4xkcLrBNxpUJWALF\n",
       "UQrvbOS4WQF6EuCBIPDbHKRhRWJbfOTXgUkKe5RH+nLwMOQwgWNxisW9kQ6aVG1qAvpf4DKFphRd\n",
       "vuhFOt7dAq5SOHTw/AAfXasjzrELoY7fwBmGpbKtXuTp0Jyr6Ef194UZ3sZOcKwi9OMncJvCojzo\n",
       "hciPFyN/rgEP6ItdXK+wSjPuKTRVWRhT+PYLOE5hTkJ+3NP+RQ9TQC8KCl4LaIgOR76Te3bP4X/A\n",
       "d4p6f/B0j7Iedzissssc5LcjoeGEjpKIllSX5+wm6zBEXIcFwWcBlmyDfSolOGor4ZLuB07wWdg1\n",
       "zCQ5fLyi7ZsfkZd1d+IcS3SrDP5xEjWq8l32VEroS3DkHC5Z9ct1PJHYpThHlapWI0/0WbyGugQF\n",
       "lz+a4SsVCzh1GvhKnvXlxhR87o0XcewgrDRLi4EGV/oRH7YpC/XpqcraN/1WvttSolEsLId3XY2j\n",
       "YQNhF3a2G8Fg+663h3xLaW9ODbeDyLc5ltGDXm7GYYQu88XXRAbH8GYcemIrK6sZak4aR3c/1fn3\n",
       "3ekM/wEMMJu2bHBUSwAAAABJRU5ErkJggg==\n",
       "\" style=\"display:inline;vertical-align:middle;\" /></a></span>"
      ],
      "text/plain": [
       "|- (x in [7,9)) in BOOLEAN"
      ]
     },
     "metadata": {},
     "output_type": "display_data"
    }
   ],
   "source": [
    "InSet(x, IntervalCO(seven, nine)).deduce_in_bool()"
   ]
  },
  {
   "cell_type": "code",
   "execution_count": 130,
   "metadata": {},
   "outputs": [
    {
     "data": {
      "text/html": [
       "<span style=\"font-size:20px;\"> <a class=\"ProveItLink\" href=\"../__pv_it/demonstrations/3ccd4b2cdf7f9c3b0c4988854034b572214ef9f90/proof.ipynb\" style=\"text-decoration: none\">&nbsp;&#x22A2;&nbsp;&nbsp;</a><a class=\"ProveItLink\" href=\"../__pv_it/demonstrations/47f2dd8a444d80a08357758edf5456acb492df6c0/expr.ipynb\"><img src=\"data:image/png;base64,iVBORw0KGgoAAAANSUhEUgAAAIMAAAAVBAMAAACXjEALAAAAMFBMVEX///8AAAAAAAAAAAAAAAAA\n",
       "AAAAAAAAAAAAAAAAAAAAAAAAAAAAAAAAAAAAAAAAAAAv3aB7AAAAD3RSTlMAInZUiRDNmWbv3US7\n",
       "qzJazP2FAAAACXBIWXMAAA7EAAAOxAGVKw4bAAACGklEQVQ4y32UPUwUURDH/7t3u/e1d2xlZbEh\n",
       "0VyIJhRKgo0HucRCSDY0xgR0wVwCjV5xosSGBENFQUMDFJcYLVYgF0CiNq7G6iwMVFw0hsZCGrQ4\n",
       "Y7Txfezdfr29aXZn3svvzfu/mQGgI2qyfRIMDOxAQpzJg4JgshGO3ETOCIUGNh/MbdONVxCDKDzv\n",
       "eOXyCUGgGN7l7EqVL4BixSCm5tuuc66Rr1OEaoYRrzGiAanFuCzkDmIGmkMR6WoUsZQHMoHgJdu2\n",
       "wohEm2sBrLnqNe0XXYQKDPkJBxcEWWirHcQs83MzppfF4VOgRn4nLt8p03eRKqKLZO6PPuGIcS6N\n",
       "6ck5sV3i5Kp8lKqTr6qLEH2zyAwyxDLzpz0t3s79fQg8IzLp6XaeqqoK5bz7E6k1hhhmvuWXs3hg\n",
       "YoMUAFI8/MMm5kQQdaT/McQZdQvrZNNWB6HlShRBrssLb1KYRZ+F9B+GeENdxfFnocGhFwHe6QrV\n",
       "KCtEaN0srjG/HkRY+EAOb7SQZA9uhBEKrQuixSpDrLC1/gAiYdCHuv59AXssds+PSP4iOlCRPuI2\n",
       "f5EaW1O7fensY/QGcArc6k885uGpT2YXkW/9PkaWtlry0TdeFy/ZmvL1Fd90cfMz69RsYDDsN70C\n",
       "Z3bVa3ZIrgq5MbfAXYv0TnBelHwIcUcSe98LoRg+xPm4qTXZCyH7ppb4MGqSIUJEZucGZF0M+A/B\n",
       "t5dBQDPmMQAAAABJRU5ErkJggg==\n",
       "\" style=\"display:inline;vertical-align:middle;\" /></a></span>"
      ],
      "text/plain": [
       "|- (x in [1,6]) in BOOLEAN"
      ]
     },
     "metadata": {},
     "output_type": "display_data"
    }
   ],
   "source": [
    "InSet(x, IntervalCC(one, six)).deduce_in_bool()"
   ]
  },
  {
   "cell_type": "markdown",
   "metadata": {},
   "source": [
    "### Testing the `RealIntervalNonmembership.deduce_in_bool()` method"
   ]
  },
  {
   "cell_type": "code",
   "execution_count": 131,
   "metadata": {},
   "outputs": [
    {
     "data": {
      "text/html": [
       "<span style=\"font-size:20px;\"> <a class=\"ProveItLink\" href=\"../__pv_it/demonstrations/a000ed19f865a330009dbc31b26641687cfc50f40/proof.ipynb\" style=\"text-decoration: none\">&nbsp;&#x22A2;&nbsp;&nbsp;</a><a class=\"ProveItLink\" href=\"../__pv_it/demonstrations/29699e0f98f6f62cfb92e612e737fca426c135e40/expr.ipynb\"><img src=\"data:image/png;base64,iVBORw0KGgoAAAANSUhEUgAAAIgAAAAVCAMAAACqnFb9AAAAP1BMVEX///8AAAAAAAAAAAAAAAAA\n",
       "AAAAAAAAAAAAAAAAAAAAAAAAAAAAAAAAAAAAAAAAAAAAAAAAAAAAAAAAAAAAAADFBd4eAAAAFHRS\n",
       "TlMAInZUiRDNmWbv3US7qzLp8+P3ndw5NuIAAAAJcEhZcwAADsQAAA7EAZUrDhsAAAJgSURBVEjH\n",
       "lVZZgqwgDISwr/PeDPc/67CIEgTt4cOOdhEqSREgJA9KngZ9ed/i34C3Aezxbyk+QsfyEHlxB8eX\n",
       "09ita42XSRobXH1n/BEeA3ptaMq58g79YZKU1hbSoPtK+iUFvpClUlQmQj6DFVqvoYUqlBLKjTXJ\n",
       "coFzOCVzRSRz5TQbeaEX2hbTqmgoHERCIQyJ02o2HoloViebpyp6+/XPjus1tDMlTVsixIjZOP3l\n",
       "Ie9E8ie2r4yTIEiISCEDmiW9IyL1bJz+FhkJVGfhqUOqAiCIyPlVd1oqPClIXcJ2Ftc0aOCdNe+s\n",
       "+ECP3hVTxCrABj5wztWEAERdkpClD2i8Bc8IIwScK+LzMjQ1ZetOXw9xSLrSiJVZ5CrPtS0FOqN0\n",
       "ypW4wpQL3Vs2lubeUXyLg3XhsUGBcidW0C4vY9zZjhSCRpN19f87P/ygQoc6xy3XKtWwY+pOEvZX\n",
       "h5+IlB8+ujaoDKLg+RR0p12r4seUeNmIxLarupAM9rfMSOkifki2K9EIgRqInZtKQ6eaC0TEVGho\n",
       "GWB9HrO7hjQRkcRDo+tIKOyHdg9A3NyQGpqYcJamE28TTQtb9+i1R/62RBgcG4ylKFQm4sZSSDZt\n",
       "jHM7at37yNleaeEMRwM7d7niyN+CSAZw4HlytO3wyHyZ0ggqwreb5BiP/DqljkOvnXOViQrqsG0X\n",
       "nnXIn0f+QBrvr9PXxm1r1T/co5a8QrP7wUbtbHQZ3vyRxQn1ehNZoxeXiPMcfTtQp0LtblLUf4AW\n",
       "sJ+3dLAfYgfn7AM0PHD1f7ws0s2VLvwJfVGjs/HJ+AV85xLEucJP9gAAAABJRU5ErkJggg==\n",
       "\" style=\"display:inline;vertical-align:middle;\" /></a></span>"
      ],
      "text/plain": [
       "|- (x not-in (3,5)) in BOOLEAN"
      ]
     },
     "metadata": {},
     "output_type": "display_data"
    }
   ],
   "source": [
    "NotInSet(x, IntervalOO(three, five)).deduce_in_bool()"
   ]
  },
  {
   "cell_type": "code",
   "execution_count": 132,
   "metadata": {},
   "outputs": [
    {
     "data": {
      "text/html": [
       "<span style=\"font-size:20px;\"> <a class=\"ProveItLink\" href=\"../__pv_it/demonstrations/1fee885ec95fe7635c70f4b1660c8d2f5e76e1eb0/proof.ipynb\" style=\"text-decoration: none\">&nbsp;&#x22A2;&nbsp;&nbsp;</a><a class=\"ProveItLink\" href=\"../__pv_it/demonstrations/6f528e8d5398ecd9d9f0309fd34b7b21c417293c0/expr.ipynb\"><img src=\"data:image/png;base64,iVBORw0KGgoAAAANSUhEUgAAAIUAAAAVCAMAAABfYt1NAAAARVBMVEX///8AAAAAAAAAAAAAAAAA\n",
       "AAAAAAAAAAAAAAAAAAAAAAAAAAAAAAAAAAAAAAAAAAAAAAAAAAAAAAAAAAAAAAAAAAAAAAAeYafp\n",
       "AAAAFnRSTlMAInZUiRDNmWbv3US7qzLp8+P355HBP3RuygAAAAlwSFlzAAAOxAAADsQBlSsOGwAA\n",
       "AkxJREFUSMeVltuCoyAMhhEIZ9jDzPL+j7oBFQmCdnLR1voTPpIQYAxtY0+2PT6Oxp1LH8gmA8Xj\n",
       "awU/EKNJXz49f6O1QWVlXaxyJuSjPMX+6RInPc6OlhoF4+aFNhTSTUHFAPUs1r576MQu0kQp1EV3\n",
       "UQwxnFIgqNzwB87ywuwIkrkiSilUyUAIHYXRn1AYwYoj+5C74Nyv332smjgZRTOVgdZFEcPozDk1\n",
       "ocD/xDIhXnF0E1M/VxNLRimCZTcKZUZnk1jEzWCp6aPcgPMISUpxJRpuVXOKGd8GCquS5HsJNQoZ\n",
       "GXV2r07AxMoOGJPII2e6lYGqO96QDXeKN/ymFLm+sqKnMNcK1DatC6dsdhoB3b54gzKDuY0timpS\n",
       "6IeYVfyeAnKuSyml0CjElSW1rE5uPM5h9zEl+7rXJluK6c9f50IXd9+QR4oaQ5N9R5EydVYsjBTl\n",
       "S56O6xx99KHqJe2Uu3irujEjO4XpKLylzqaxKN0itCDjoIxLBCB9wg29o4p9LJZt7JpumMRCuHnT\n",
       "uVEoFvgO61m0R8aPbYAv/NB4QhctW2MBrV/sdUGqMxBnSwrBj+0kcoLiwncZUII2C7r3WA61Hs5a\n",
       "CsgPdI9oSZxNKFAgucSlphos0EgrtOm1EMPXsMtTi6wOOePGZs6dEqn1Dt0onCfOPG2lyoZwnaku\n",
       "LTv4979Am+5ELGB+smMR02LwcnTW28Ohc294d7FkK4q3Y3LIz+patIV3MfAVxWz0g8FKLsW7mK/u\n",
       "WuvFrda8uJzFn4i7m5w/zrvP7T/8FhL0XZ8I/gAAAABJRU5ErkJggg==\n",
       "\" style=\"display:inline;vertical-align:middle;\" /></a></span>"
      ],
      "text/plain": [
       "|- (x not-in (4,6]) in BOOLEAN"
      ]
     },
     "metadata": {},
     "output_type": "display_data"
    }
   ],
   "source": [
    "NotInSet(x, IntervalOC(four, six)).deduce_in_bool()"
   ]
  },
  {
   "cell_type": "code",
   "execution_count": 133,
   "metadata": {},
   "outputs": [
    {
     "data": {
      "text/html": [
       "<span style=\"font-size:20px;\"> <a class=\"ProveItLink\" href=\"../__pv_it/demonstrations/cf771f8ec44c9ca3689a63bd4d9d01c992904d9d0/proof.ipynb\" style=\"text-decoration: none\">&nbsp;&#x22A2;&nbsp;&nbsp;</a><a class=\"ProveItLink\" href=\"../__pv_it/demonstrations/7ec3729e2856e72e28f2a7472c56845aff7cef880/expr.ipynb\"><img src=\"data:image/png;base64,iVBORw0KGgoAAAANSUhEUgAAAIUAAAAVCAMAAABfYt1NAAAARVBMVEX///8AAAAAAAAAAAAAAAAA\n",
       "AAAAAAAAAAAAAAAAAAAAAAAAAAAAAAAAAAAAAAAAAAAAAAAAAAAAAAAAAAAAAAAAAAAAAAAeYafp\n",
       "AAAAFnRSTlMAInZUiRDNmWbv3US7qzLp8+P355HBP3RuygAAAAlwSFlzAAAOxAAADsQBlSsOGwAA\n",
       "AlxJREFUSMeVVtui7RAMJBKXoOfu/z/1oLSl2rW3l2UxjTEZQYjcpHhrl1lg3sTXwO8xFw3U67Sm\n",
       "o4u+xLf0DPYwd54WZRd00o6jr/8VvsK3KEYWKu3NXVHGmFjJge3L2A+bD4Wp1FRpkH4HGz+xwGBK\n",
       "44uCxHnnm5ODdJo+sshEUeZOXuUDZxYziz3v5jIeqy6hhBO2T1jzFRZWiSK2e8ldYP7xU88Z2Re+\n",
       "AlPFYKq7d10DR3MwZr1gkcfUY0K8hhwmbrMWe+86TKmqAKlO6y6utnOwhRZR2iyuad4kgEgb4pFt\n",
       "WfM6uuZgIYNYaVGXxS4TnnrJhUmKOwk44oVwTiJEEOawga5es7BkEf0QsPkiVbDtxO25Ay2XvmDt\n",
       "EptMsFndZpjNeY2Hinph9M5CTmYi58uRTjWW6pPqROlHd4L1eQ23By5pNlfs5oqZfv1mDncWOEcl\n",
       "A6ggVbNsqYdIY7DSwsyi/GBnUT19VZ8qHsey2llwWNm5nRHfJTg6LdhSi1ItgjiLj085K0RDnWCx\n",
       "YkEpLgvAvpbqHyleFp07Cy0C7GT9brGzmkOe8GbJwqc2TocDqHDbT6/tG7dhCPbIQkE7TiptZDIL\n",
       "f8mAVmOxOFmohE0T3a+mzCL009Z3YnAItmCRAQiYt7RxcxcIZewVSzH8oSUL6RqOuQEQzXHf8K2z\n",
       "B/NjKdUuhPNOfXkx/P0XxqKLfkKoezGSPHea7XAKNrSXS+dW8G4sFo+C43b8dE1O+Xl6Fsnb+ZpZ\n",
       "EDx/JMO3nlr0BEf1iQW87Cl8880nHx5n96KAH9+dIOfOV9p/oC4TKKF4kvMAAAAASUVORK5CYII=\n",
       "\" style=\"display:inline;vertical-align:middle;\" /></a></span>"
      ],
      "text/plain": [
       "|- (x not-in [7,9)) in BOOLEAN"
      ]
     },
     "metadata": {},
     "output_type": "display_data"
    }
   ],
   "source": [
    "NotInSet(x, IntervalCO(seven, nine)).deduce_in_bool()"
   ]
  },
  {
   "cell_type": "code",
   "execution_count": 134,
   "metadata": {},
   "outputs": [
    {
     "data": {
      "text/html": [
       "<span style=\"font-size:20px;\"> <a class=\"ProveItLink\" href=\"../__pv_it/demonstrations/f1e2e79d43c1b17d7507dea1eda757ddc95326210/proof.ipynb\" style=\"text-decoration: none\">&nbsp;&#x22A2;&nbsp;&nbsp;</a><a class=\"ProveItLink\" href=\"../__pv_it/demonstrations/1d0bce494bcb132a6488bf2bee7b0053749f73c20/expr.ipynb\"><img src=\"data:image/png;base64,iVBORw0KGgoAAAANSUhEUgAAAIMAAAAVCAMAAABSfK0KAAAARVBMVEX///8AAAAAAAAAAAAAAAAA\n",
       "AAAAAAAAAAAAAAAAAAAAAAAAAAAAAAAAAAAAAAAAAAAAAAAAAAAAAAAAAAAAAAAAAAAAAAAeYafp\n",
       "AAAAFnRSTlMAInZUiRDNmWbv3US7qzLp8+P355HBP3RuygAAAAlwSFlzAAAOxAAADsQBlSsOGwAA\n",
       "AiFJREFUSMeVltmCpSAMRDGQAAGcpXv4/08dwKuiLNq83MUyHJIiIEQai5iN6ikwr1PtRzAP2H1R\n",
       "Th8THl+VewxWJA6epmTrKZLlsEWUaipfg2gYVsZm7jTWQwLmidVn0IWwQCDNxdrdGDBoijeGhdKT\n",
       "wCcm4TND4lRL+pLmeEBm0eYB7gyUk+/9KTH6FYORIqfZTqrmmX/9pmcGef7eJRabUMzUYUj/yWEp\n",
       "HEGKE9YXefC2kZBpQnXyEBaT3Kg/jkSAgKtS8iwxNm4ZMVhaFWzG2SUq1G7BricROKiKN9UPAgh9\n",
       "lJ/KJjfwhiGWKFZWElPB09L1A5ONrFMk3hZuksykyOFIIXX8PWDAGMsysgd2iax8RkNPgnFpBru9\n",
       "k6uua+1qs4n+/GX2LxhK9kx0VQuJt1B5+DtD/lA7Q6lqnXcseiXFu1psDOaUOHsL1c1D7g5+r0V+\n",
       "K6Z6IF76AotXDL7Ng+R+i2kZSHjYUJ0Imfzs25AeOD1nwKM/bH6oPVktHmDCIOGzh2RcMYdwVe5J\n",
       "XptDvfHisvlgd5BP7HjZF7o+hUj2GJJCgdL5+CnRdGKV2tRaDP4Lewwh2EhlA/FxdimtN+Cdgd01\n",
       "lLuEArLen+fm5Ebw/c9fG2xzdkvsnt2pLd084NQt1GVMTpemvTUMSgwY9OPhfa3M6NazePHAgDBg\n",
       "WPzPrlE40iv5xACDe9R4XcML4+DmFdoJnu+TpefBjxD+A2YpEy6GNr3zAAAAAElFTkSuQmCC\n",
       "\" style=\"display:inline;vertical-align:middle;\" /></a></span>"
      ],
      "text/plain": [
       "|- (x not-in [1,6]) in BOOLEAN"
      ]
     },
     "metadata": {},
     "output_type": "display_data"
    }
   ],
   "source": [
    "NotInSet(x, IntervalCC(one, six)).deduce_in_bool()"
   ]
  },
  {
   "cell_type": "markdown",
   "metadata": {},
   "source": [
    "### Testing the `RealIntervalNonmembership.deduce_real_element_bounds()` method"
   ]
  },
  {
   "cell_type": "code",
   "execution_count": 135,
   "metadata": {},
   "outputs": [
    {
     "data": {
      "text/html": [
       "<span style=\"font-size:20px;\"><a class=\"ProveItLink\" href=\"../../../ordering/__pv_it/theorems/d1323f34847310a404e8089c2c268d3c2eb89dbf0/expr.ipynb\"><img src=\"data:image/png;base64,iVBORw0KGgoAAAANSUhEUgAAADQAAAAQBAMAAACra0H4AAAAMFBMVEX///8AAAAAAAAAAAAAAAAA\n",
       "AAAAAAAAAAAAAAAAAAAAAAAAAAAAAAAAAAAAAAAAAAAv3aB7AAAAD3RSTlMAEHarMolUmd1mIs3v\n",
       "RLtmgJDEAAAACXBIWXMAAA7EAAAOxAGVKw4bAAAAyklEQVQY02NgwACce9797nnJgBXwcRnwWj7E\n",
       "IRXA8MAZp1QVN4qQXkfHBrgUH7LMbUUkXYbCQIaQskhoApDm2ohkIMuzXUBGAZMRewOQ5l6AkDrd\n",
       "3yQA9MUCzo/ME0BSSM6InAiylIWBHWw3g08HEDyAGvhwJliMRwFMySE73p1PAMS6v4ARRHMgS7F7\n",
       "AfXLXbBhYAUJMCkgSTE+0GRgyHesYbgGFtmGkCpgmMl3gUFcia0yASwi/FYAFvL/FvC9/oYcHFdf\n",
       "QAIKCgBACzQrtGfvLgAAAABJRU5ErkJggg==\n",
       "\" style=\"display:inline;vertical-align:middle;\" /></a>, <a class=\"ProveItLink\" href=\"../__pv_it/demonstrations/d21993a704dfa0c6219e5ae991904c1dfbd4faa50/expr.ipynb\"><img src=\"data:image/png;base64,iVBORw0KGgoAAAANSUhEUgAAAFEAAAAVCAMAAAAJmPJ+AAAAP1BMVEX///8AAAAAAAAAAAAAAAAA\n",
       "AAAAAAAAAAAAAAAAAAAAAAAAAAAAAAAAAAAAAAAAAAAAAAAAAAAAAAAAAAAAAADFBd4eAAAAFHRS\n",
       "TlMAEHarMolUmd1mIs3vRLvp8+P3nXqVZZ4AAAAJcEhZcwAADsQAAA7EAZUrDhsAAAGaSURBVDjL\n",
       "jVXZksQgCBQ8wHjs5f9/63pkNpLRmfXBKivQNG1LlHqxjpfHt/GLFWA+oduEmbZBhUv4BtDo+eRs\n",
       "p2Et5STjYgmBuVVH/xqR5kwIfaeGXSRbjoUtLLp6Wizge3lsYFCCiJta8bRFw8wfnzxlxr6n2Hjv\n",
       "EVXckEwBQWkzqziBuOK3iKF9AkQNxtpLnKPJAYII2asc3/TXHu2jvG3wtXXUqOiSLTRjeWGF8EAx\n",
       "qAX5unKtf5Rxjb7y8DXdl9rkVTk8Xxu7ueuFM/Mg5OLwJ4kOTWTmr++65UvxJAz4rD+V/mJMOUNE\n",
       "h9CArORxIprecBYkcxiIZphhaN3wAYQR+ebNgVE6O4kYe6ge5BxXQknpBmwnM6JKN6vm0UXUf13/\n",
       "ERiJcSjkc5XZAFXENJcN7n6fdpjO+4cfr4dztOJ4Wru6DKgycuSFbKC/kxTfnCokonNSjNkwIEnT\n",
       "eeC0eYT+x+Z615MF2Nxj3OLBHfy/ybieAXY1rnbj7MgLC98mNOD/8s7yi0cBt+jVvM7b/4JeEn83\n",
       "8xU2wF+tqAsypbMesQAAAABJRU5ErkJggg==\n",
       "\" style=\"display:inline;vertical-align:middle;\" /></a> <a class=\"ProveItLink\" href=\"../__pv_it/demonstrations/a4176cea2da23762ee2e62630868c45191e967780/proof.ipynb\" style=\"text-decoration: none\">&nbsp;&#x22A2;&nbsp;&nbsp;</a><a class=\"ProveItLink\" href=\"../__pv_it/demonstrations/d5512150adb859c26ed997da442778f471a9e6640/expr.ipynb\"><img src=\"data:image/png;base64,iVBORw0KGgoAAAANSUhEUgAAAJcAAAAVBAMAAAC5yWGZAAAAMFBMVEX///8AAAAAAAAAAAAAAAAA\n",
       "AAAAAAAAAAAAAAAAAAAAAAAAAAAAAAAAAAAAAAAAAAAv3aB7AAAAD3RSTlMAInZUiRDNmWbv3US7\n",
       "qzJazP2FAAAACXBIWXMAAA7EAAAOxAGVKw4bAAACgElEQVQ4y41VTWgTURD+dtPtZvPXIEJBPMR4\n",
       "KUIgB6noJQUVQSisohZK1YgI4kGCVFt7MVawIIJB6MUKBq1YFCToQTyZevBgQYrQqggaRC+iqJR4\n",
       "EcSZ2W129zUbfIfJvHmz3/x97wVAGmFL+w9LawmMng89j2dUy2akgH1tnR+x2NoeaP2eBaBPMUYG\n",
       "YP0+dbftB3oZMIqqtZ8TNkoo5NFts2GJxScWh4DYrVnbAz/m++4EYJYVrCtnJc4KjhYRLbE+yeIV\n",
       "i3Eg6XON3rN9uynAUrC27HbaNYMeynma9Rh3XgqoBMD0WT8WLBv9AShjr9fzAuV8kpUuGpHJY4oU\n",
       "/WAHbgfT6C5jlH72547skpkaE17R8TkSg3Cz4uxgDhDY5GBDzofmWhlklz7vpJiLErukvzarbF32\n",
       "aJLKfSB5WXTSsm5sJGztD+uHj7dcTeQyE9TBIu6QTEebSUlp2c85mia2i/YdEDrEnOOXLJIe2EVc\n",
       "s99SEyqYoSRguvzQfGXCagI/nG6kIzJWqybbC0L23laZDZyTWn4yGHll1AGkGkisAE9drnanV8Fe\n",
       "EFhDHcB1aXKFywSepQ07SI2epoDtcIzVb1gt8wbwUaVG/BcOUsgqngMjtXfoUkhrLUqZVx1b33v5\n",
       "SVDaNNCbQdIaC8kKm6N1Hn7hy3k89l0nriJaFp6NOqZhp6c0fPRCn/au02kWf4cq8bwQ5ysxJhsZ\n",
       "X/N0PBmji44H7vCd4xTxRxt7Ywc9jTOZbZe4CTXEGuFPFLRqcP+wgy82wL3LIUt9BaY6gdErgHlf\n",
       "wvdlebluVPwT3qs8LK6+VLU6iZEOweaVvVEP95VAWib0XF/z97AuHGwT8A/4PIduzpmafwAAAABJ\n",
       "RU5ErkJggg==\n",
       "\" style=\"display:inline;vertical-align:middle;\" /></a></span>"
      ],
      "text/plain": [
       "{x in Real, x not-in (3,5)} |- (x <= 3) or (5 <= x)"
      ]
     },
     "metadata": {},
     "output_type": "display_data"
    }
   ],
   "source": [
    "NotInSet(x, IntervalOO(three, five)).deduce_real_element_bounds(assumptions=[InSet(x, Real), NotInSet(x, IntervalOO(three, five))])"
   ]
  },
  {
   "cell_type": "code",
   "execution_count": 136,
   "metadata": {},
   "outputs": [
    {
     "data": {
      "text/html": [
       "<span style=\"font-size:20px;\"><a class=\"ProveItLink\" href=\"../../../ordering/__pv_it/theorems/d1323f34847310a404e8089c2c268d3c2eb89dbf0/expr.ipynb\"><img src=\"data:image/png;base64,iVBORw0KGgoAAAANSUhEUgAAADQAAAAQBAMAAACra0H4AAAAMFBMVEX///8AAAAAAAAAAAAAAAAA\n",
       "AAAAAAAAAAAAAAAAAAAAAAAAAAAAAAAAAAAAAAAAAAAv3aB7AAAAD3RSTlMAEHarMolUmd1mIs3v\n",
       "RLtmgJDEAAAACXBIWXMAAA7EAAAOxAGVKw4bAAAAyklEQVQY02NgwACce9797nnJgBXwcRnwWj7E\n",
       "IRXA8MAZp1QVN4qQXkfHBrgUH7LMbUUkXYbCQIaQskhoApDm2ohkIMuzXUBGAZMRewOQ5l6AkDrd\n",
       "3yQA9MUCzo/ME0BSSM6InAiylIWBHWw3g08HEDyAGvhwJliMRwFMySE73p1PAMS6v4ARRHMgS7F7\n",
       "AfXLXbBhYAUJMCkgSTE+0GRgyHesYbgGFtmGkCpgmMl3gUFcia0yASwi/FYAFvL/FvC9/oYcHFdf\n",
       "QAIKCgBACzQrtGfvLgAAAABJRU5ErkJggg==\n",
       "\" style=\"display:inline;vertical-align:middle;\" /></a>, <a class=\"ProveItLink\" href=\"../__pv_it/demonstrations/675c9901d83794d43454c0e819683ce662c065390/expr.ipynb\"><img src=\"data:image/png;base64,iVBORw0KGgoAAAANSUhEUgAAAE8AAAAVCAMAAAAw/0MlAAAAP1BMVEX///8AAAAAAAAAAAAAAAAA\n",
       "AAAAAAAAAAAAAAAAAAAAAAAAAAAAAAAAAAAAAAAAAAAAAAAAAAAAAAAAAAAAAADFBd4eAAAAFHRS\n",
       "TlMAEHarMolUmd1mIs3vRLvp8+P3nXqVZZ4AAAAJcEhZcwAADsQAAA7EAZUrDhsAAAF9SURBVDjL\n",
       "jZXZtsMgCEUBJ4zRO/n/33rRDE0cmvrQlSx1czhQAvBmLa9HYtbwfi3wtAKejyY+no70cEArGPC0\n",
       "a88ZWUU8+fc8F0c8Vk2aQbYUN/mMFsOARy0vlDRTKo/eTVmU+OubQ8fTPtx5Nl9ErROBMRCC0gN9\n",
       "BhpeWq9ai4NIpFAbYy+WSBwM0PNoaXlr0IYOp03Zk6RJEbiXXaG0kqeet0j8hperpnUT40WDl8te\n",
       "TFCvaoe+WBvPQMvDnGsrbM5ZSb645G656ZWZf37lJ915JXTHq2n5XOPpvJtwyw0L5mLnwVvqqS7f\n",
       "jVezi1txYpbAiLfGY+h4UZWVV2Wu9b3qsyxiIqh19+ZoPoLoet6eS9WHr/7b/NvqkeRdY3mL1/yC\n",
       "VXrGy6nadjqeRAju9XUG0Ika6/zNLlS/EYc8l3KW5gLmc984d0Tn2RTyfyZJfcN8XtnBX2vhDybf\n",
       "hGdGA2k2sJYEDzykT26dt+0TbzSL03Tiqz7C8/eDCu4fbl8LHRZHgoUAAAAASUVORK5CYII=\n",
       "\" style=\"display:inline;vertical-align:middle;\" /></a> <a class=\"ProveItLink\" href=\"../__pv_it/demonstrations/2e812a4306af9b93735672df9020a15e0eaf5b9e0/proof.ipynb\" style=\"text-decoration: none\">&nbsp;&#x22A2;&nbsp;&nbsp;</a><a class=\"ProveItLink\" href=\"../__pv_it/demonstrations/7554b79e059b39407f3fa035f510852adfc7f9110/expr.ipynb\"><img src=\"data:image/png;base64,iVBORw0KGgoAAAANSUhEUgAAAJcAAAAVBAMAAAC5yWGZAAAAMFBMVEX///8AAAAAAAAAAAAAAAAA\n",
       "AAAAAAAAAAAAAAAAAAAAAAAAAAAAAAAAAAAAAAAAAAAv3aB7AAAAD3RSTlMAInZUiRDNmWbv3US7\n",
       "qzJazP2FAAAACXBIWXMAAA7EAAAOxAGVKw4bAAACfElEQVQ4y41VTWjUUBD+kt1sst0fQi+KeIgr\n",
       "YikU9iAVveyCFUFQFlELpUpFBEGUIlXaohAVWihCg0UvIiz+oCjKoicP4urNH0SKlVapLNKiiKIe\n",
       "LChinXn5T83ig8ybvJl882a+eS8AdMQN6T9WvCFg5GKsPWNEV1bHg91lsS7O+gFoiywlykCya/s/\n",
       "3WUTUPriwG4DqQorUyzes9hNiR7CGx98X8D/AKCaMVgygWn9rJ1m8YLFIOEbeO66aNcrgQ9GgfQS\n",
       "lE6bkY+HSZxnrYUrLxKwgJL/vXw1iIV0BZ1RrLFj9lxmsIOsJYkilWlKEOITz3Hn5fCHKRMDNO3o\n",
       "2Nvlctq+2QmrM9g2OLvi3UGl+l+YW1sTDt03XBSlMDW3iWK+FLH75Um1aq9vdbthORhsROjvgIIT\n",
       "GwsmJljfs9/bkooOY5gq2IcrJHXtR07wIA17dJQF2AahfwGuieIVoSwCQ1yqnA92CuOVaSqChYtA\n",
       "HqrTH6+9BtZ0AfbVroaeELSma1B+AeMiz2Vemg0c5yn/jcHIy4iCtUKA3Xd6NaU7YFggMDNKwDlx\n",
       "XixOE3ioK5Vwmg9mZ3++Ajbab9XPcNLEU3dngdbIfMcuClnFY6C3NoMkIgQAl+g5a6ttb8WUJWOJ\n",
       "ahZuWuVZzqISQ6sz+aX5IdxzaW5f47r+pmfAVnvsmhL5yJaVCf84HWHxp9vKFEXjfKKOKSQG/atj\n",
       "zGm0E4uTwC2HfNuc5/7ZcrIRblblqLH+DBehhpZG9AiM+BecVA2b7qDJWOGe5ZgRvQVGm4HRLYBH\n",
       "TewrI+9Zf9M9N3kEtirVSfQ2AYsGUurxviKQZMTa5SW/h9Z4sFXAXxikg3+rF0UzAAAAAElFTkSu\n",
       "QmCC\n",
       "\" style=\"display:inline;vertical-align:middle;\" /></a></span>"
      ],
      "text/plain": [
       "{x in Real, x not-in [4,6)} |- (x < 4) or (6 <= x)"
      ]
     },
     "metadata": {},
     "output_type": "display_data"
    }
   ],
   "source": [
    "NotInSet(x, IntervalCO(four, six)).deduce_real_element_bounds(assumptions=[InSet(x, Real), NotInSet(x, IntervalCO(four, six))])"
   ]
  },
  {
   "cell_type": "code",
   "execution_count": 137,
   "metadata": {},
   "outputs": [
    {
     "data": {
      "text/html": [
       "<span style=\"font-size:20px;\"><a class=\"ProveItLink\" href=\"../../../ordering/__pv_it/theorems/d1323f34847310a404e8089c2c268d3c2eb89dbf0/expr.ipynb\"><img src=\"data:image/png;base64,iVBORw0KGgoAAAANSUhEUgAAADQAAAAQBAMAAACra0H4AAAAMFBMVEX///8AAAAAAAAAAAAAAAAA\n",
       "AAAAAAAAAAAAAAAAAAAAAAAAAAAAAAAAAAAAAAAAAAAv3aB7AAAAD3RSTlMAEHarMolUmd1mIs3v\n",
       "RLtmgJDEAAAACXBIWXMAAA7EAAAOxAGVKw4bAAAAyklEQVQY02NgwACce9797nnJgBXwcRnwWj7E\n",
       "IRXA8MAZp1QVN4qQXkfHBrgUH7LMbUUkXYbCQIaQskhoApDm2ohkIMuzXUBGAZMRewOQ5l6AkDrd\n",
       "3yQA9MUCzo/ME0BSSM6InAiylIWBHWw3g08HEDyAGvhwJliMRwFMySE73p1PAMS6v4ARRHMgS7F7\n",
       "AfXLXbBhYAUJMCkgSTE+0GRgyHesYbgGFtmGkCpgmMl3gUFcia0yASwi/FYAFvL/FvC9/oYcHFdf\n",
       "QAIKCgBACzQrtGfvLgAAAABJRU5ErkJggg==\n",
       "\" style=\"display:inline;vertical-align:middle;\" /></a>, <a class=\"ProveItLink\" href=\"../__pv_it/demonstrations/ca40149706044b55b3d4298cc629b98d4b2e565d0/expr.ipynb\"><img src=\"data:image/png;base64,iVBORw0KGgoAAAANSUhEUgAAAE8AAAAVCAMAAAAw/0MlAAAAP1BMVEX///8AAAAAAAAAAAAAAAAA\n",
       "AAAAAAAAAAAAAAAAAAAAAAAAAAAAAAAAAAAAAAAAAAAAAAAAAAAAAAAAAAAAAADFBd4eAAAAFHRS\n",
       "TlMAEHarMolUmd1mIs3vRLvp8+P3nXqVZZ4AAAAJcEhZcwAADsQAAA7EAZUrDhsAAAGDSURBVDjL\n",
       "lVXbdoQgDCRBQpBL2y3//60FQbno6pYHz3GTjJnJkBXi5qy3r6eDzMttgoUhnRKkgbsC5e+ii+zf\n",
       "SOVHLMcNiVprCc94uo+C3QqCzoepjzCmb7v1EY8HcLPhFSF1H5FbsyHc4mHgr2+27YfCsPQ16CBi\n",
       "6TzCezxvEYTsh0UdtBqmCDFsDURf8QBRwqJU02TNgwU70FUtGsRlf6biJTFQotBNLpu1NThYxzS9\n",
       "JlJVv4gFz6Rik8jLVmHP5msTXd0kDjifvRWp4GUx9MBtccz880qPxswdTSk7qw0aFWFc2jzcwA22\n",
       "0dNQ0/A4XF+Nbr4+Js4Ag/F48iId45SXeLv/IPiiqOrMh8LrKX1n4GONHJ8nl92Q6WY8igvohOd7\n",
       "fpbktCnU3hVFVfu0x1pJeMHU+5vEREHaDHKBfPlxkSx8jLdmMu8ZSul61d/eN/OrQppvN8rzaiP4\n",
       "fF/ZU67Rp+LP99964YkwrWfAz/Em8zVX9hvoH/v50mIrPv5/OP8Hu5wLTKZg4bkAAAAASUVORK5C\n",
       "YII=\n",
       "\" style=\"display:inline;vertical-align:middle;\" /></a> <a class=\"ProveItLink\" href=\"../__pv_it/demonstrations/f432bf11a454a2349aad42bf3dd1b42944d833fc0/proof.ipynb\" style=\"text-decoration: none\">&nbsp;&#x22A2;&nbsp;&nbsp;</a><a class=\"ProveItLink\" href=\"../__pv_it/demonstrations/104036cd5477588e9abfed14de4ce1a532c0c4c00/expr.ipynb\"><img src=\"data:image/png;base64,iVBORw0KGgoAAAANSUhEUgAAAJcAAAAVBAMAAAC5yWGZAAAAMFBMVEX///8AAAAAAAAAAAAAAAAA\n",
       "AAAAAAAAAAAAAAAAAAAAAAAAAAAAAAAAAAAAAAAAAAAv3aB7AAAAD3RSTlMAInZUiRDNmWbv3US7\n",
       "qzJazP2FAAAACXBIWXMAAA7EAAAOxAGVKw4bAAACgElEQVQ4y41UTWjUQBT+kuxsss1uCF5E8RDX\n",
       "SymU9iCVerFQf0BQQ1GLpciKCB6XUt1aEVZFCyIYFU9ellZRVGTRkye3XjwoKkLFIugiehGlCv4g\n",
       "aNd5k2Q3ySaLA/lm8ubNe9/7mQFgImlI/yFpDmFG7o+1c4aDbkXF65KN3SNYH7ulNBqN3+iOSoeA\n",
       "0gk79oRcBlghKh0gwqnHpdIc0uLcAsF7gr3AmGVcjKd2CFDLEdm5I4QpHmkRWpHWpwieEUwBi8DT\n",
       "eGMzQCYi6tniBgTk+HSF1l2UQxGAA/wEdjXjVA4ETmZsDIRMse2tnO/k32HBkpdIpTIpBbA/QF/V\n",
       "09BuBNOXLmOSTyO9+zeLmrLpVtBSjcMOeKyIHdQhl5mnJF9zbbH8wodh7vOF8F2UX6oVkr4KtEmO\n",
       "/J8Vy7dA3vNNOXvust8962mq6LWmOc8C5jia2o+c8BY0topgUCy/ANdF8vj2vqrxTmitvOlrnsQF\n",
       "+zVPgoOrgAHV6w8pEOZWgiU3G6YiyprhZNnEcF+diB9satZxlCbjKxnjWlZ7Ae4QPPB6NW36xuBV\n",
       "M2AMuESgOxQm8NBkdrg1wP4SbnR/Kp/hhwm/z1phQv+GPdxlBY+A8eoiNWmoaaH/IjzvyrrfiCnL\n",
       "aQ/abBmhArAnOQe8zlqNir/p4zHcD1ynugjtO+GkKxpzc8qLjx476+d1ZFaEoyyPOnq/aJxPwGhe\n",
       "mWp7OqTLhLe94rvbBu+f1LbjTR1NNBqbsDacpiRU0VVPflUgVcL/dyP7WvA6rYZ3lxNG9BWY6aBL\n",
       "rwDmAzfzlhgtrmsi+lmzQxR0/cY7OJuP/LNasq5wJFmJ+3IbkRXJxtYC/wCY0oMMWfFUPQAAAABJ\n",
       "RU5ErkJggg==\n",
       "\" style=\"display:inline;vertical-align:middle;\" /></a></span>"
      ],
      "text/plain": [
       "{x in Real, x not-in (7,9]} |- (x <= 7) or (9 < x)"
      ]
     },
     "metadata": {},
     "output_type": "display_data"
    }
   ],
   "source": [
    "NotInSet(x, IntervalOC(seven, nine)).deduce_real_element_bounds(assumptions=[InSet(x, Real), NotInSet(x, IntervalOC(seven, nine))])"
   ]
  },
  {
   "cell_type": "code",
   "execution_count": 138,
   "metadata": {},
   "outputs": [
    {
     "data": {
      "text/html": [
       "<span style=\"font-size:20px;\"><a class=\"ProveItLink\" href=\"../../../ordering/__pv_it/theorems/d1323f34847310a404e8089c2c268d3c2eb89dbf0/expr.ipynb\"><img src=\"data:image/png;base64,iVBORw0KGgoAAAANSUhEUgAAADQAAAAQBAMAAACra0H4AAAAMFBMVEX///8AAAAAAAAAAAAAAAAA\n",
       "AAAAAAAAAAAAAAAAAAAAAAAAAAAAAAAAAAAAAAAAAAAv3aB7AAAAD3RSTlMAEHarMolUmd1mIs3v\n",
       "RLtmgJDEAAAACXBIWXMAAA7EAAAOxAGVKw4bAAAAyklEQVQY02NgwACce9797nnJgBXwcRnwWj7E\n",
       "IRXA8MAZp1QVN4qQXkfHBrgUH7LMbUUkXYbCQIaQskhoApDm2ohkIMuzXUBGAZMRewOQ5l6AkDrd\n",
       "3yQA9MUCzo/ME0BSSM6InAiylIWBHWw3g08HEDyAGvhwJliMRwFMySE73p1PAMS6v4ARRHMgS7F7\n",
       "AfXLXbBhYAUJMCkgSTE+0GRgyHesYbgGFtmGkCpgmMl3gUFcia0yASwi/FYAFvL/FvC9/oYcHFdf\n",
       "QAIKCgBACzQrtGfvLgAAAABJRU5ErkJggg==\n",
       "\" style=\"display:inline;vertical-align:middle;\" /></a>, <a class=\"ProveItLink\" href=\"../__pv_it/demonstrations/d78761de4eb7e5ed82b95d27c7dfdd73ad4a00e40/expr.ipynb\"><img src=\"data:image/png;base64,iVBORw0KGgoAAAANSUhEUgAAAE0AAAAVCAMAAAA0CpMYAAAAP1BMVEX///8AAAAAAAAAAAAAAAAA\n",
       "AAAAAAAAAAAAAAAAAAAAAAAAAAAAAAAAAAAAAAAAAAAAAAAAAAAAAAAAAAAAAADFBd4eAAAAFHRS\n",
       "TlMAEHarMolUmd1mIs3vRLvp8+P3nXqVZZ4AAAAJcEhZcwAADsQAAA7EAZUrDhsAAAE6SURBVDjL\n",
       "lZXZdoUgDEVJwhAM0PaW///WorQXcYLywGLpYUtOQlTqYSy7NTLrJ+1YINDWJqrReJZoOks1w5lS\n",
       "hh7SXDzQgJzkI22R8oZ4SOOLMPBEEyxTSo80TPzxyTKm2fbgjhYFQZGeOVsKvQQQCbQxdmdF2QKi\n",
       "ZmhBtMHq8CZxRUOoXLNJ1kLzOEXL4lem/ZX4stUXDflGOxbbPQ1y3tIfoEpWd1wXlQ7M/PUqU5qg\n",
       "bSH5HFsWQhcVbOm2ajLSSvNvScwlWoCu0FjN0VJ3NkhR0Zplsys2VNE906DVW/WtSmzWsK7jPjKx\n",
       "pK9pJi/VrrfTqRwD/nIKrpzEOt/ZBPSKcEEjClm25HO7/ca5+u3bm+W/TSo5lft2Y2G+IwmMpGa+\n",
       "vy1pJAWcpx2L7SzFf/ReupCO/wsh/gBmRQs1usm9fQAAAABJRU5ErkJggg==\n",
       "\" style=\"display:inline;vertical-align:middle;\" /></a> <a class=\"ProveItLink\" href=\"../__pv_it/demonstrations/15174c7229921a0d8d349e8a112b29759567b1f50/proof.ipynb\" style=\"text-decoration: none\">&nbsp;&#x22A2;&nbsp;&nbsp;</a><a class=\"ProveItLink\" href=\"../__pv_it/demonstrations/558cbde28d1c7e10cec70ef7b29d3d302cf041b50/expr.ipynb\"><img src=\"data:image/png;base64,iVBORw0KGgoAAAANSUhEUgAAAJcAAAAVBAMAAAC5yWGZAAAAMFBMVEX///8AAAAAAAAAAAAAAAAA\n",
       "AAAAAAAAAAAAAAAAAAAAAAAAAAAAAAAAAAAAAAAAAAAv3aB7AAAAD3RSTlMAInZUiRDNmWbv3US7\n",
       "qzJazP2FAAAACXBIWXMAAA7EAAAOxAGVKw4bAAACY0lEQVQ4y41UTWjUQBT+stlsst0fghdBPMQV\n",
       "sRSKe5CKXrZgRRDUUNSCFKmIIIhYpEpbEKJCC0VoUPTiwaUqCoIsevLk6s0fRIT6i7JIvRSlerAH\n",
       "D+p7k8luNs0szuHNy7yX7/18bwaADdXS/uOkuQRMqqy055z4yXo12H0WmxXGRRfojp3p/UB6YE+i\n",
       "f8oDjJFEk/H2JIFlXNbnWXxhcYAKPY4PydGPAqanyGwTAVmjrJ1n8ZLFOOE7eJH8wzSQXXHYZzfB\n",
       "cIW1Lu68KMAHKm607MORj6yLvjjWzOlWZjjGWpooMpkmnRCfRlyt21HkjIcx2gZ7Dw2EnPbsiJSJ\n",
       "3ZBZcXYwqf9XFzbWwpbfDLCM0vzCdor5SsQeTb02q8H5LifaM0wJ9TNQkrGx7OFy4LBvTnqa6HUm\n",
       "Kc8R3CBpW78Kggdt0msjAFuF+h24JZpXhvEXmBAJrb4Tep7DrPuOmuDjGlCEKefjTbmdTSwF3bB1\n",
       "QWu2BuM3MMt1Fo40PRs4w1vxB4ORl6MAeyhnNWNLMCwTmNcOBlwS98XnMoFHtuEmlrkt0KvfIMvE\n",
       "M5lZpEzkfmI/haziCTBce480Egm4GOjdH8WWJ2OFetZOgPG84IN4tupMfuXrBB6E16hng9T2cmVj\n",
       "gX4w6CmRj3y/IdnE4JwoR/8z5OfKYnAWgaGSPt5q1kwwaJ+un6CS70ryA3OR52fn2UZzaMWgGaec\n",
       "LRe4CTV0NeJXYKr1wGnVdtO9mKsVvU5rwrusWPFXYLqDL78CeNzBvjb2nVe/ytDqJIY7gMUDGXW1\n",
       "rwikOUp7akUiq9Rg64B/TKR6R87t+VwAAAAASUVORK5CYII=\n",
       "\" style=\"display:inline;vertical-align:middle;\" /></a></span>"
      ],
      "text/plain": [
       "{x in Real, x not-in [1,6]} |- (x < 1) or (6 < x)"
      ]
     },
     "metadata": {},
     "output_type": "display_data"
    }
   ],
   "source": [
    "NotInSet(x, IntervalCC(one, six)).deduce_real_element_bounds(assumptions=[InSet(x, Real), NotInSet(x, IntervalCC(one, six))])"
   ]
  },
  {
   "cell_type": "code",
   "execution_count": 139,
   "metadata": {},
   "outputs": [
    {
     "data": {
      "text/html": [
       "<span style=\"font-size:20px;\"><a class=\"ProveItLink\" href=\"../../../ordering/__pv_it/theorems/4aa8d696b1f407d6126de9f51a052e8d90e0848c0/expr.ipynb\"><img src=\"data:image/png;base64,iVBORw0KGgoAAAANSUhEUgAAADMAAAAQBAMAAABJt1qBAAAAMFBMVEX///8AAAAAAAAAAAAAAAAA\n",
       "AAAAAAAAAAAAAAAAAAAAAAAAAAAAAAAAAAAAAAAAAAAv3aB7AAAAD3RSTlMAIquJdkTvuxBmmd1U\n",
       "zTKBpmoTAAAACXBIWXMAAA7EAAAOxAGVKw4bAAAAzElEQVQY02NgwABz0+tvp09gwAoKhBiCpjdg\n",
       "lxJmYOdTwCXFJXABRch99+4LcKkCZJlYD4Qupg6QgYzKjg4gAcYbSAY+PysAZIQJsP8ACfAKwKXE\n",
       "bv8GmcCRycC1ASyF5IyZvSCa6wMDtwGI8Ww3EBRApNg7QV5mK2DoDwAJtCPp4ltQAaT7HRjmgwW4\n",
       "kf21ThwkdYBBlwfkAhYHJKl2FqCJ7A48u7jAInfgUlIMnBNKgS5UsRPyA4s0lTbAQr6Qofz+AeTg\n",
       "CK7ejRxyAISENKeL/c93AAAAAElFTkSuQmCC\n",
       "\" style=\"display:inline;vertical-align:middle;\" /></a>, <a class=\"ProveItLink\" href=\"../../../ordering/__pv_it/theorems/6e5cad5b2984ed0d75bd47bd0c542ec447a4f3570/expr.ipynb\"><img src=\"data:image/png;base64,iVBORw0KGgoAAAANSUhEUgAAADEAAAAQBAMAAABNQoq8AAAAMFBMVEX///8AAAAAAAAAAAAAAAAA\n",
       "AAAAAAAAAAAAAAAAAAAAAAAAAAAAAAAAAAAAAAAAAAAv3aB7AAAAD3RSTlMAELvv3c2ZVESJq3Yi\n",
       "MmZ3LnoBAAAACXBIWXMAAA7EAAAOxAGVKw4bAAAA1ElEQVQY02NgQAdPjfRDjB4AGYzKDmhSCqcY\n",
       "uh4JABmsCegyJxmYeBcAGfwFmDJsBwKAjH4BqMgmF5cAuIwCkDEFKtG6EaGHSxBkWtTu5SA+TyCS\n",
       "aZdKDwDd9lVA/gDIIQfgModDvoD0s39kYN4AkkFywTtREM0WwMA/AUhfdgECBYgMkxzIpywTGPpB\n",
       "7hZC0sOboAjxTj7I3SzI/sk9BJK5wGgH4nNvQJIR4gYax/WACRI84XCZYwx8DzSArl6ZBxGQ0hCA\n",
       "hbUOg1I8cph1qkBCBwoAxe43BugJR6MAAAAASUVORK5CYII=\n",
       "\" style=\"display:inline;vertical-align:middle;\" /></a>, <a class=\"ProveItLink\" href=\"../../../ordering/__pv_it/theorems/d1323f34847310a404e8089c2c268d3c2eb89dbf0/expr.ipynb\"><img src=\"data:image/png;base64,iVBORw0KGgoAAAANSUhEUgAAADQAAAAQBAMAAACra0H4AAAAMFBMVEX///8AAAAAAAAAAAAAAAAA\n",
       "AAAAAAAAAAAAAAAAAAAAAAAAAAAAAAAAAAAAAAAAAAAv3aB7AAAAD3RSTlMAEHarMolUmd1mIs3v\n",
       "RLtmgJDEAAAACXBIWXMAAA7EAAAOxAGVKw4bAAAAyklEQVQY02NgwACce9797nnJgBXwcRnwWj7E\n",
       "IRXA8MAZp1QVN4qQXkfHBrgUH7LMbUUkXYbCQIaQskhoApDm2ohkIMuzXUBGAZMRewOQ5l6AkDrd\n",
       "3yQA9MUCzo/ME0BSSM6InAiylIWBHWw3g08HEDyAGvhwJliMRwFMySE73p1PAMS6v4ARRHMgS7F7\n",
       "AfXLXbBhYAUJMCkgSTE+0GRgyHesYbgGFtmGkCpgmMl3gUFcia0yASwi/FYAFvL/FvC9/oYcHFdf\n",
       "QAIKCgBACzQrtGfvLgAAAABJRU5ErkJggg==\n",
       "\" style=\"display:inline;vertical-align:middle;\" /></a>, <a class=\"ProveItLink\" href=\"../__pv_it/theorems/aec44678e8010b2169e9438c147d2320a68def4d0/expr.ipynb\"><img src=\"data:image/png;base64,iVBORw0KGgoAAAANSUhEUgAAAEwAAAAVCAMAAADbyPgmAAAARVBMVEX///8AAAAAAAAAAAAAAAAA\n",
       "AAAAAAAAAAAAAAAAAAAAAAAAAAAAAAAAAAAAAAAAAAAAAAAAAAAAAAAAAAAAAAAAAAAAAAAeYafp\n",
       "AAAAFnRSTlMAEHarMolUmd1mIs3vRLvp8+P355HBTpz+0gAAAAlwSFlzAAAOxAAADsQBlSsOGwAA\n",
       "AVRJREFUOMuNlem2hSAIhQVUMIc7+/6PetGGU6dW6Z9ay49NwNaMuVnT6xVF7B36DETYXl02T+se\n",
       "sTRAQkkyIsZ5KG3kETEZq6H6BwSLyMdnHBHLFW6RHFEBskNf5mSPACKBdc5vjuhThHgxqokcTnhs\n",
       "GWm8XxHtHxIa3loUu78CnsVy0q1SYT/NqqmhTjMS9Bl0n8Im9m6yrYbUGN4PxvgunXBGWmd4X5JN\n",
       "ouvrW6S8iXHtQ3YH//TQ6l5tTXiwYY/2Z3un0us6zKJL52aPRSy3kgEO/pLzWYHacoZ6dhm3WhWB\n",
       "kg2lhr9MpjGZr8RaIEXjW+5VzK69VMRXC6xieVdW9EeTrWUWzeKF2/x1iPNGm1vhBQHWD/Ec9i0C\n",
       "Kj9wIQaEzk6ELZEILKzjcO/r3z89T3J7nDyMXkHxmXSj99lUHknAUbE3k12ROHzT0sXd8PgPSPkf\n",
       "PvULCeLbs2sAAAAASUVORK5CYII=\n",
       "\" style=\"display:inline;vertical-align:middle;\" /></a> <a class=\"ProveItLink\" href=\"../__pv_it/demonstrations/06adcc5765328ce0c893ccec17c887d6e37c31910/proof.ipynb\" style=\"text-decoration: none\">&nbsp;&#x22A2;&nbsp;&nbsp;</a><a class=\"ProveItLink\" href=\"../__pv_it/theorems/176f4214b23b1822ae360523e3bd62c42dd892060/expr.ipynb\"><img src=\"data:image/png;base64,iVBORw0KGgoAAAANSUhEUgAAAJYAAAAVBAMAAABWCwqnAAAAMFBMVEX///8AAAAAAAAAAAAAAAAA\n",
       "AAAAAAAAAAAAAAAAAAAAAAAAAAAAAAAAAAAAAAAAAAAv3aB7AAAAD3RSTlMAInZUiRDNmWbv3US7\n",
       "qzJazP2FAAAACXBIWXMAAA7EAAAOxAGVKw4bAAACL0lEQVQ4y41TTUgbQRT+ks26MRpZvPSiEPwB\n",
       "EYQWipBclFIRBCGIKJX4U0ppjzmkRXNReoggHtpCL9VD0IiCIIKnnPy59NaWQEURRAUvpUVtzEko\n",
       "fTOzEzMju3Vg39s373v/bwDYcDu+e9woGv9DV31NRL9p9sY+hvtp02SjG4nP7lhzwsNXVZzRH4yc\n",
       "MTJE3yt3rDXj4SuYZPQdI18ZmaSv6I6t1u+M5xXCJ0ZCrLU8/ffUl1KFutNWsJ26+9V4hfSakQBN\n",
       "x2ITMshhIHurnXsDBZsiOtAx9tSZpj/nuGp8Uk+0H05OLDdY3dSWQoccfHuP4I55P4+c9BcsEW5w\n",
       "SY74A76R1wwXjoEm3l7q7fhL84pfmn1yYxzzDJapLDtYCvMRPFiTCT+bQZpYlAu/gRXeOIreFcdH\n",
       "nmxaDk2aR7EA1MESixF+US5+GsgRuxDjtg0+0OpN4C1wzf73yysuzS+YLwJFdF+LMG+I5Z0VrbKl\n",
       "rxxqiqovaZ5nNQLbthlXajT/IHhJPCbE7C/IGouwSmqN0jyGPSCxeYgAlN6bRYQnHgHzzvs44qyW\n",
       "4v9lrVR6L83n2dS7zqew5YQYWBI7sYdYknqUErcjop+B78ABvsjc21s5l+Yp/ASGm4zJcvVBsWCj\n",
       "LaeFE2BdXFpCXUeTH+29rW2OL5g0X0foRF/8ijfky6q6DQ2bsRWseL4uR3/4s//B7nroGzS51vbG\n",
       "Jjx86XHMHW+sL+Kq9t9Jo94L+w8G+Hj9D6luZgAAAABJRU5ErkJggg==\n",
       "\" style=\"display:inline;vertical-align:middle;\" /></a></span>"
      ],
      "text/plain": [
       "{a in Real, b in Real, x in Real, x not-in [a,b]} |- (x < a) or (b < x)"
      ]
     },
     "metadata": {},
     "output_type": "display_data"
    }
   ],
   "source": [
    "# more generally\n",
    "NotInSet(x, IntervalCC(a, b)).deduce_real_element_bounds(assumptions=[InSet(x, Real), InSet(a, Real), InSet(b, Real), NotInSet(x, IntervalCC(a, b))])"
   ]
  },
  {
   "cell_type": "markdown",
   "metadata": {},
   "source": [
    "### Some direct deductions of non-membership-related bounds"
   ]
  },
  {
   "cell_type": "code",
   "execution_count": 140,
   "metadata": {},
   "outputs": [
    {
     "data": {
      "text/html": [
       "<span style=\"font-size:20px;\"><a class=\"ProveItLink\" href=\"../../../ordering/__pv_it/theorems/d1323f34847310a404e8089c2c268d3c2eb89dbf0/expr.ipynb\"><img src=\"data:image/png;base64,iVBORw0KGgoAAAANSUhEUgAAADQAAAAQBAMAAACra0H4AAAAMFBMVEX///8AAAAAAAAAAAAAAAAA\n",
       "AAAAAAAAAAAAAAAAAAAAAAAAAAAAAAAAAAAAAAAAAAAv3aB7AAAAD3RSTlMAEHarMolUmd1mIs3v\n",
       "RLtmgJDEAAAACXBIWXMAAA7EAAAOxAGVKw4bAAAAyklEQVQY02NgwACce9797nnJgBXwcRnwWj7E\n",
       "IRXA8MAZp1QVN4qQXkfHBrgUH7LMbUUkXYbCQIaQskhoApDm2ohkIMuzXUBGAZMRewOQ5l6AkDrd\n",
       "3yQA9MUCzo/ME0BSSM6InAiylIWBHWw3g08HEDyAGvhwJliMRwFMySE73p1PAMS6v4ARRHMgS7F7\n",
       "AfXLXbBhYAUJMCkgSTE+0GRgyHesYbgGFtmGkCpgmMl3gUFcia0yASwi/FYAFvL/FvC9/oYcHFdf\n",
       "QAIKCgBACzQrtGfvLgAAAABJRU5ErkJggg==\n",
       "\" style=\"display:inline;vertical-align:middle;\" /></a>, <a class=\"ProveItLink\" href=\"../__pv_it/demonstrations/8da49d11b7fedae98e193551124a9fe4bba0b2bd0/expr.ipynb\"><img src=\"data:image/png;base64,iVBORw0KGgoAAAANSUhEUgAAAE0AAAAVCAMAAAA0CpMYAAAAP1BMVEX///8AAAAAAAAAAAAAAAAA\n",
       "AAAAAAAAAAAAAAAAAAAAAAAAAAAAAAAAAAAAAAAAAAAAAAAAAAAAAAAAAAAAAADFBd4eAAAAFHRS\n",
       "TlMAEHarMolUmd1mIs3vRLvp8+P3nXqVZZ4AAAAJcEhZcwAADsQAAA7EAZUrDhsAAAFdSURBVDjL\n",
       "lZXbcsMgDEQtiYswhrYp//+tRbSOucWkPHiYyfpE0i54227WXu2RWd1p1wIP116HbbXuJYp66W6t\n",
       "j10Fu9Y2hjXNho62R9mk5iWw+WGSWdK4b4PKII+jGZeAIPlbGkb++GTf0o4kg6RUuxMOYdzSgkfY\n",
       "SA21lWopDd6Z5E4aIBIorc01WDET/AvDOA1/zu4pyWNEws1eY/LSisM5TSXsrEf6bUMkLr/q8kDI\n",
       "XbQ+bDWNaZzM5algbdOVOpj565EfcaTZOBt08eeUHE3xUGJlpkF3fWWqNBmluD9JEM8BmqDx9NgY\n",
       "LSbVCUklNScN8qkgyaOuwoZbsDOaKiIUx589Ut2pSQpspoW6M29ITWg7W1l8hr+07uq8gc2VGOua\n",
       "MQE9Aow0TmUJiPn8PWT+4tS7bx2zp/71dWPg/RvJw0qq37/f9riSAr5P68M2SvEfd+/k8Oj1d+EI\n",
       "P74mDBf/QCO9AAAAAElFTkSuQmCC\n",
       "\" style=\"display:inline;vertical-align:middle;\" /></a> <a class=\"ProveItLink\" href=\"../__pv_it/demonstrations/9ea79a6977e921677c6d993d0cabae2bfb773dcf0/proof.ipynb\" style=\"text-decoration: none\">&nbsp;&#x22A2;&nbsp;&nbsp;</a><a class=\"ProveItLink\" href=\"../__pv_it/demonstrations/6ea335a5a39ece6008a7f6f2526e8f888e0584af0/expr.ipynb\"><img src=\"data:image/png;base64,iVBORw0KGgoAAAANSUhEUgAAAJcAAAAVBAMAAAC5yWGZAAAAMFBMVEX///8AAAAAAAAAAAAAAAAA\n",
       "AAAAAAAAAAAAAAAAAAAAAAAAAAAAAAAAAAAAAAAAAAAv3aB7AAAAD3RSTlMAInZUiRDNmWbv3US7\n",
       "qzJazP2FAAAACXBIWXMAAA7EAAAOxAGVKw4bAAACeElEQVQ4y41UTWjUUBD+smk2yW6zRC8F8RBX\n",
       "CqVQ3INU9GLBehHEUNSCiFRE8FikdmvxsCq0UhSD4EnEUJUKogQ91YurV6GKUFFEWaRexJ8WqXjq\n",
       "+ua9pEnfJouBTF5m5n0z876ZB8BG1qP8h2b94TC5Sqa96Mia7dlgT0jsTLd1jS8APZJSHYAyeCFI\n",
       "3ZCrAdpIeoV1HAqQd2m9SOILiaPAMNTf6eFPA3ot1WLZMD0Yo7S+RGKBxASwo6L9SQebBswWZT8d\n",
       "pbkKawW4SYoCZcoL8ID5ADGYejKxz3TRL2PNnOOZ+bDWgDO07mAU6USTyhHVv5GrMecmNuZrGGOf\n",
       "ob4TgxGnvfsjY2EZOIgwK8oO+gDJZ9HB5O4JLK28uLSPxXzDY4/m3uq+0B+Iu+EXW07x1WegHMZm\n",
       "THxqCPvh2dBRR58zyfIcwV0mbWPV4uGUyQQdj9i7m69+APd5rjz9kM2uB5HjRVx33zO9h1tACXrY\n",
       "H+8SDazXKTtxGrbKaTVFh92h6qxT654NjNOntExgzMtpBbtGYj7s1bwdgf0EXlc2ggE3+Lx4VCbw\n",
       "3NZcqUzW7JuAPeLH/46ozKYrwBJloriCI2yHj5fA8eADOiARsAR0A1fFT89H/ulkxtthmTEB2ivL\n",
       "A+PZqBP5e7+ex9MQQ+vtFuM0V60ygseE9pg4U0Y+rsR9NjTLUdW1Ya9Y4Y3zjY1bWZ2ID2uGN1qh\n",
       "2WwyhIchGcJcYvDFajzoBm807ayz6zJtCVBoyCMwFV9wir/R9FhyNZLjtAXhLGc88i0w3caXbgG8\n",
       "aGPfKv13Zt/KdGkxLtuAyYG0erYvD6Q4mfZcSyKbs8G2Af8AojuEjLH6ykkAAAAASUVORK5CYII=\n",
       "\" style=\"display:inline;vertical-align:middle;\" /></a></span>"
      ],
      "text/plain": [
       "{x in Real, x not-in [2,3]} |- (x < 2) or (3 < x)"
      ]
     },
     "metadata": {},
     "output_type": "display_data"
    }
   ],
   "source": [
    "Or(Less(x, two), Less(three, x) ).prove(assumptions=[InSet(x, Real), NotInSet(x, IntervalCC(two, three))])"
   ]
  },
  {
   "cell_type": "code",
   "execution_count": 141,
   "metadata": {},
   "outputs": [
    {
     "data": {
      "text/html": [
       "<span style=\"font-size:20px;\"><a class=\"ProveItLink\" href=\"../../../ordering/__pv_it/theorems/d1323f34847310a404e8089c2c268d3c2eb89dbf0/expr.ipynb\"><img src=\"data:image/png;base64,iVBORw0KGgoAAAANSUhEUgAAADQAAAAQBAMAAACra0H4AAAAMFBMVEX///8AAAAAAAAAAAAAAAAA\n",
       "AAAAAAAAAAAAAAAAAAAAAAAAAAAAAAAAAAAAAAAAAAAv3aB7AAAAD3RSTlMAEHarMolUmd1mIs3v\n",
       "RLtmgJDEAAAACXBIWXMAAA7EAAAOxAGVKw4bAAAAyklEQVQY02NgwACce9797nnJgBXwcRnwWj7E\n",
       "IRXA8MAZp1QVN4qQXkfHBrgUH7LMbUUkXYbCQIaQskhoApDm2ohkIMuzXUBGAZMRewOQ5l6AkDrd\n",
       "3yQA9MUCzo/ME0BSSM6InAiylIWBHWw3g08HEDyAGvhwJliMRwFMySE73p1PAMS6v4ARRHMgS7F7\n",
       "AfXLXbBhYAUJMCkgSTE+0GRgyHesYbgGFtmGkCpgmMl3gUFcia0yASwi/FYAFvL/FvC9/oYcHFdf\n",
       "QAIKCgBACzQrtGfvLgAAAABJRU5ErkJggg==\n",
       "\" style=\"display:inline;vertical-align:middle;\" /></a>, <a class=\"ProveItLink\" href=\"../__pv_it/demonstrations/45b51132b6fb38f7451890e6ec10b7ca05fc8a020/expr.ipynb\"><img src=\"data:image/png;base64,iVBORw0KGgoAAAANSUhEUgAAAFEAAAAVCAMAAAAJmPJ+AAAAP1BMVEX///8AAAAAAAAAAAAAAAAA\n",
       "AAAAAAAAAAAAAAAAAAAAAAAAAAAAAAAAAAAAAAAAAAAAAAAAAAAAAAAAAAAAAADFBd4eAAAAFHRS\n",
       "TlMAEHarMolUmd1mIs3vRLvp8+P3nXqVZZ4AAAAJcEhZcwAADsQAAA7EAZUrDhsAAAGfSURBVDjL\n",
       "jVVZloMwDMNZHbLMlvufdWwCxWYpzQevaR1FkoU7TW/W/Hb7WH+xMsidCU/11TwUOCt3wS80vI+t\n",
       "His9LceXpveIUZ6EvDwjY3fNds5UaPGs6rRQwS/XGwaDnrU5LLY1/pjiLZpp+PWN4mQZThXmrRFD\n",
       "F8TKDcmaDUzWyWNZQii7WpF8+ScwxoLzPghjYDPuJdrv16H2v2Tnzea5526SdGPNFHfbMgcrqSjk\n",
       "DcUZq8izB/xbGYQS8Uh0PJEVdr85n9uGQaqWvYbeFxHDwUAW8IVRKXQFEX9+6dF2aTJJRfYC+iIu\n",
       "9aXC9bVEKQQG8jpzK6JbBDdFcnQ+jXbVNROdlAOoIOIhmwOjL+w0YpMcAxKhOlkG9iKMZqqHqLah\n",
       "otiXathtHT6OzjTaO+BdldfmcOjnSAUdSFsexYvTiAysvaaUQSRGISZlG9jfqsPvVhdqjOukQHxV\n",
       "+Bg3BlhvXsL05xv1WkQA3bEmXLxwM342Ga9ngL8aV3fjbG7n79phQoP57Nx6/cW4hkP11bxut/8L\n",
       "9pL408yfDAP+A5rgC9JljgVaAAAAAElFTkSuQmCC\n",
       "\" style=\"display:inline;vertical-align:middle;\" /></a> <a class=\"ProveItLink\" href=\"../__pv_it/demonstrations/3d8078fafebdbd80ca592a177ec82d877dcb09c90/proof.ipynb\" style=\"text-decoration: none\">&nbsp;&#x22A2;&nbsp;&nbsp;</a><a class=\"ProveItLink\" href=\"../__pv_it/demonstrations/01a52c1322851c088931e37280c8129f7856c4a60/expr.ipynb\"><img src=\"data:image/png;base64,iVBORw0KGgoAAAANSUhEUgAAAJcAAAAVBAMAAAC5yWGZAAAAMFBMVEX///8AAAAAAAAAAAAAAAAA\n",
       "AAAAAAAAAAAAAAAAAAAAAAAAAAAAAAAAAAAAAAAAAAAv3aB7AAAAD3RSTlMAInZUiRDNmWbv3US7\n",
       "qzJazP2FAAAACXBIWXMAAA7EAAAOxAGVKw4bAAACiElEQVQ4y41VTWgTURD+8vOySZO0QQRBPKzx\n",
       "YBECOUhFLylYKQhKELVQqkZEEAQJUrUtCKuCBREaLHrpJfiDRUGCHsSTqTetSBFa/AEJUi+iqJT0\n",
       "4EGdmd1md1+7wXeYzM6b9803P+8FQAZBK/QfltYSmHA+cD9p6pYtwWCPWWxfe299/yzQrRkjvUC0\n",
       "b/+aB8IWoEq6tYcJqzIKecSKbJhn8ZnFYUr0ND644Mc9504ChqVhXTsncZZwrIR4mfXLLN6wGAFi\n",
       "Jl6vuMbvFz0Hx4GEhrVtj12uKXQR55usd3DlJYEKUHDPh+96sZAooscHpfa6NS8Q51OsRKlFBrcp\n",
       "QogvW/sHb/tpxCwM08+B3NE+6akac5NOTpPYB4cVs4NB9b+1uLUm+wPTLQbZ+cXdFHNOYpfDb40q\n",
       "WxfcMenMfSJ5VXTSsk5sLFuYZP3IiZargZw5RhUs4Q7JTLyZFkoL3pmjbmKnaN+Be1K8PNRfYJRL\n",
       "lXbBLmGi+I6KUMEUkYDhzEfIkyYSTeCHXY1MRNqaqEH9BiYkzw2tNBs4L7n8ZDDyMvUGdDaQWgKe\n",
       "ObMayzhgWCYwS2/ADSlyhdMEnmdU0T8aXU0B22Ubq9/gpIlXK8w8o5H8hUMUsooXwFDtPaLa0Cbm\n",
       "JM3rtq37o/ykiHaBauYfWjWbroD6HK9z8wtfRvHEc50a7GfJnA3bpkG7ptR8pHrVpHudzrD4M1BJ\n",
       "5mVwvtLEZCMjq56OpxfoouOh03x7u5Pnp/9iw++pzpo7rnARauhoBL8qCFX934/a+GIjnLscsPRX\n",
       "YLwdGL0CmPEQfiDL5bpJ80+5r/KguHqohuokhtoEm9G+VT3YVwKFzMD98Kq/h3XBYJuBf6P4i+LV\n",
       "B+dxAAAAAElFTkSuQmCC\n",
       "\" style=\"display:inline;vertical-align:middle;\" /></a></span>"
      ],
      "text/plain": [
       "{x in Real, x not-in (3,6)} |- (x <= 3) or (6 <= x)"
      ]
     },
     "metadata": {},
     "output_type": "display_data"
    }
   ],
   "source": [
    "Or(LessEq(x, three), LessEq(six, x) ).prove(assumptions=[InSet(x, Real), NotInSet(x, IntervalOO(three, six))])"
   ]
  },
  {
   "cell_type": "markdown",
   "metadata": {},
   "source": [
    "### Testing the automation for RealIntervalNonmembership"
   ]
  },
  {
   "cell_type": "code",
   "execution_count": 142,
   "metadata": {},
   "outputs": [
    {
     "data": {
      "text/html": [
       "<span style=\"font-size:20px;\"><a class=\"ProveItLink\" href=\"../__pv_it/demonstrations/6027698f066625f28d010f6ea3d29449937c3aae0/expr.ipynb\"><img src=\"data:image/png;base64,iVBORw0KGgoAAAANSUhEUgAAADQAAAAVCAMAAAA+Vj1KAAAARVBMVEX///8AAAAAAAAAAAAAAAAA\n",
       "AAAAAAAAAAAAAAAAAAAAAAAAAAAAAAAAAAAAAAAAAAAAAAAAAAAAAAAAAAAAAAAAAAAAAAAeYafp\n",
       "AAAAFnRSTlMAEHarMolUmd1mIs3vRLvp8+P355HBTpz+0gAAAAlwSFlzAAAOxAAADsQBlSsOGwAA\n",
       "AQZJREFUOMudk+uWhSAIhUFNMJS5+/6POpSzSk91zpr4k7b8YMNWgCcxw40Q/FskyapVOGt6xQS/\n",
       "rxVm2xWfFJ9DVAZoWj99prNgOEA0g1yed8r89i5nkF4gRZwp9+FYySM2eeicxzBNcZv0OjUcdDQo\n",
       "aJTmA5ka74C2Ftr/5B6gLFzZteElO5Iqgt8skNGkrVJKW/VFOfVSQmaLj09mfZCnmDpzcy8F17N7\n",
       "izsUCHZvSzWJiIM/DEcIKMza8hbweUm9m2R1C51BJsItAmMNSAaVTo7E0aQGLWmsJysCSJY4Uupb\n",
       "QK9fw+zaLVdrQlVqvLgT3z92j1huvqR/xKw3nuwUb0AvHtovqhAIQIJ9LIsAAAAASUVORK5CYII=\n",
       "\" style=\"display:inline;vertical-align:middle;\" /></a> <a class=\"ProveItLink\" href=\"../__pv_it/demonstrations/c2128aea2687256eb1753b374aa072a56c1c154b0/proof.ipynb\" style=\"text-decoration: none\">&nbsp;&#x22A2;&nbsp;&nbsp;</a><a class=\"ProveItLink\" href=\"../__pv_it/demonstrations/d78761de4eb7e5ed82b95d27c7dfdd73ad4a00e40/expr.ipynb\"><img src=\"data:image/png;base64,iVBORw0KGgoAAAANSUhEUgAAAE0AAAAVCAMAAAA0CpMYAAAAP1BMVEX///8AAAAAAAAAAAAAAAAA\n",
       "AAAAAAAAAAAAAAAAAAAAAAAAAAAAAAAAAAAAAAAAAAAAAAAAAAAAAAAAAAAAAADFBd4eAAAAFHRS\n",
       "TlMAEHarMolUmd1mIs3vRLvp8+P3nXqVZZ4AAAAJcEhZcwAADsQAAA7EAZUrDhsAAAE6SURBVDjL\n",
       "lZXZdoUgDEVJwhAM0PaW///WorQXcYLywGLpYUtOQlTqYSy7NTLrJ+1YINDWJqrReJZoOks1w5lS\n",
       "hh7SXDzQgJzkI22R8oZ4SOOLMPBEEyxTSo80TPzxyTKm2fbgjhYFQZGeOVsKvQQQCbQxdmdF2QKi\n",
       "ZmhBtMHq8CZxRUOoXLNJ1kLzOEXL4lem/ZX4stUXDflGOxbbPQ1y3tIfoEpWd1wXlQ7M/PUqU5qg\n",
       "bSH5HFsWQhcVbOm2ajLSSvNvScwlWoCu0FjN0VJ3NkhR0Zplsys2VNE906DVW/WtSmzWsK7jPjKx\n",
       "pK9pJi/VrrfTqRwD/nIKrpzEOt/ZBPSKcEEjClm25HO7/ca5+u3bm+W/TSo5lft2Y2G+IwmMpGa+\n",
       "vy1pJAWcpx2L7SzFf/ReupCO/wsh/gBmRQs1usm9fQAAAABJRU5ErkJggg==\n",
       "\" style=\"display:inline;vertical-align:middle;\" /></a></span>"
      ],
      "text/plain": [
       "{x not-in Real} |- x not-in [1,6]"
      ]
     },
     "metadata": {},
     "output_type": "display_data"
    }
   ],
   "source": [
    "NotInSet(x, IntervalCC(one, six)).prove(assumptions=[NotInSet(x, Real), InSet(x, Complex)])"
   ]
  },
  {
   "cell_type": "code",
   "execution_count": 143,
   "metadata": {},
   "outputs": [
    {
     "data": {
      "text/html": [
       "<span style=\"font-size:20px;\"><a class=\"ProveItLink\" href=\"../../../ordering/__pv_it/theorems/d1323f34847310a404e8089c2c268d3c2eb89dbf0/expr.ipynb\"><img src=\"data:image/png;base64,iVBORw0KGgoAAAANSUhEUgAAADQAAAAQBAMAAACra0H4AAAAMFBMVEX///8AAAAAAAAAAAAAAAAA\n",
       "AAAAAAAAAAAAAAAAAAAAAAAAAAAAAAAAAAAAAAAAAAAv3aB7AAAAD3RSTlMAEHarMolUmd1mIs3v\n",
       "RLtmgJDEAAAACXBIWXMAAA7EAAAOxAGVKw4bAAAAyklEQVQY02NgwACce9797nnJgBXwcRnwWj7E\n",
       "IRXA8MAZp1QVN4qQXkfHBrgUH7LMbUUkXYbCQIaQskhoApDm2ohkIMuzXUBGAZMRewOQ5l6AkDrd\n",
       "3yQA9MUCzo/ME0BSSM6InAiylIWBHWw3g08HEDyAGvhwJliMRwFMySE73p1PAMS6v4ARRHMgS7F7\n",
       "AfXLXbBhYAUJMCkgSTE+0GRgyHesYbgGFtmGkCpgmMl3gUFcia0yASwi/FYAFvL/FvC9/oYcHFdf\n",
       "QAIKCgBACzQrtGfvLgAAAABJRU5ErkJggg==\n",
       "\" style=\"display:inline;vertical-align:middle;\" /></a>, <a class=\"ProveItLink\" href=\"../__pv_it/demonstrations/b8c460a31bb80fd7dde7227ba24e5f1d183f46e30/expr.ipynb\"><img src=\"data:image/png;base64,iVBORw0KGgoAAAANSUhEUgAAADAAAAARBAMAAABp3DInAAAAMFBMVEX///8AAAAAAAAAAAAAAAAA\n",
       "AAAAAAAAAAAAAAAAAAAAAAAAAAAAAAAAAAAAAAAAAAAv3aB7AAAAD3RSTlMAEHarMolUmd1mIs3v\n",
       "RLtmgJDEAAAACXBIWXMAAA7EAAAOxAGVKw4bAAAAjklEQVQY02NgwAZYGtFF2HaBSOHqj2jinO0C\n",
       "YJoJTYKpVYABm4RoE1wFSEJIWSQ0AcQT72RAkShgMmJvANm4jQFFgnMB50fmCUAOM5oECwP7Bghv\n",
       "OZpRDDwK2C1nuL+AUQCLc+Uu2DCwYvNgvmMNwzVEkGwBU6y/gK5XYqtMQAsZZpvflgwUAIkOEGiB\n",
       "cQFghyTAjpTRxQAAAABJRU5ErkJggg==\n",
       "\" style=\"display:inline;vertical-align:middle;\" /></a> <a class=\"ProveItLink\" href=\"../__pv_it/demonstrations/807136d3916a10c69aa2a41e14ed07f314c58b3a0/proof.ipynb\" style=\"text-decoration: none\">&nbsp;&#x22A2;&nbsp;&nbsp;</a><a class=\"ProveItLink\" href=\"../__pv_it/demonstrations/f9323f75bef5833cea61360a7ef0dc6c0dfcbb7b0/expr.ipynb\"><img src=\"data:image/png;base64,iVBORw0KGgoAAAANSUhEUgAAAFEAAAAVCAMAAAAJmPJ+AAAAP1BMVEX///8AAAAAAAAAAAAAAAAA\n",
       "AAAAAAAAAAAAAAAAAAAAAAAAAAAAAAAAAAAAAAAAAAAAAAAAAAAAAAAAAAAAAADFBd4eAAAAFHRS\n",
       "TlMAEHarMolUmd1mIs3vRLvp8+P3nXqVZZ4AAAAJcEhZcwAADsQAAA7EAZUrDhsAAAGASURBVDjL\n",
       "jVXbdoQgDCRcgxHabvn/b20ArYCwLg8ew4YxMxmyQrxZ29vwMX+yCNpI2qf8IB8StGoja45dhFum\n",
       "4aXzR/17RBeaAKg8laM0Im7EiQrvrG4LO/jz8/KGSJlsjPnVuyWajPj1jXRt7GKFaNuNfVFkIAlC\n",
       "6fYYLRHj3tabqYCUCrQxthEGTuH+SZsl4k7ayFNzk7vJ1KWSwl2yUTaW76xAfomYym97LchzHZ6P\n",
       "e85SV+fp3ja0K0RIqZCoClqWIKvlOoZ6R8SfFz/iRS2sEQs5n0qGTkd+xxAykOlvyBqRWVfEwjHU\n",
       "NoXEzAE6I+LgTbvudVujRS4oCJWBTWNGKcJg1ShHRLj8WHWsnYkca8hRaFmS7cx4uqK+pa3K9699\n",
       "5GLg6DW7DBxXZJ3vZAP1Cj03faig1J6o2AKviWGcOyvAsLiE/tdE7nVjAdRjjp1cuA0/m4zzGWBm\n",
       "42o1zrZ434vDhAb52bnj85NxDUP2bF7H5f+Cmhb+NPOFzIB/VHoKvEBmfwoAAAAASUVORK5CYII=\n",
       "\" style=\"display:inline;vertical-align:middle;\" /></a></span>"
      ],
      "text/plain": [
       "{x in Real, x <= 1} |- x not-in (1,6)"
      ]
     },
     "metadata": {},
     "output_type": "display_data"
    }
   ],
   "source": [
    "NotInSet(x, IntervalOO(one, six)).prove(assumptions= [InSet(x, Real), LessEq(x, one)])"
   ]
  },
  {
   "cell_type": "code",
   "execution_count": 144,
   "metadata": {},
   "outputs": [
    {
     "data": {
      "text/html": [
       "<span style=\"font-size:20px;\"><a class=\"ProveItLink\" href=\"../../../ordering/__pv_it/theorems/d1323f34847310a404e8089c2c268d3c2eb89dbf0/expr.ipynb\"><img src=\"data:image/png;base64,iVBORw0KGgoAAAANSUhEUgAAADQAAAAQBAMAAACra0H4AAAAMFBMVEX///8AAAAAAAAAAAAAAAAA\n",
       "AAAAAAAAAAAAAAAAAAAAAAAAAAAAAAAAAAAAAAAAAAAv3aB7AAAAD3RSTlMAEHarMolUmd1mIs3v\n",
       "RLtmgJDEAAAACXBIWXMAAA7EAAAOxAGVKw4bAAAAyklEQVQY02NgwACce9797nnJgBXwcRnwWj7E\n",
       "IRXA8MAZp1QVN4qQXkfHBrgUH7LMbUUkXYbCQIaQskhoApDm2ohkIMuzXUBGAZMRewOQ5l6AkDrd\n",
       "3yQA9MUCzo/ME0BSSM6InAiylIWBHWw3g08HEDyAGvhwJliMRwFMySE73p1PAMS6v4ARRHMgS7F7\n",
       "AfXLXbBhYAUJMCkgSTE+0GRgyHesYbgGFtmGkCpgmMl3gUFcia0yASwi/FYAFvL/FvC9/oYcHFdf\n",
       "QAIKCgBACzQrtGfvLgAAAABJRU5ErkJggg==\n",
       "\" style=\"display:inline;vertical-align:middle;\" /></a>, <a class=\"ProveItLink\" href=\"../__pv_it/demonstrations/a37ad882b507295bf9a494bfb6bb69025f7b2eb60/expr.ipynb\"><img src=\"data:image/png;base64,iVBORw0KGgoAAAANSUhEUgAAADEAAAAQBAMAAABNQoq8AAAAMFBMVEX///8AAAAAAAAAAAAAAAAA\n",
       "AAAAAAAAAAAAAAAAAAAAAAAAAAAAAAAAAAAAAAAAAAAv3aB7AAAAD3RSTlMAiTIizUSr3Xa7VBDv\n",
       "mWZb+y3UAAAACXBIWXMAAA7EAAAOxAGVKw4bAAAAvUlEQVQY02NgYBAUVGDACkwC2Aqwy3gwcE7A\n",
       "KsH1G5m3xADB5jyAJPH8NhKHx0niKozdLg2hd7RtElzAwO/HwLMAzOcWb4CquMCRwVvAsP8DA+9p\n",
       "EJf5+gOoBJ8B32+2Bwz7Cxj4voL4KQtghjIx8DoAKX4HBr5/qDJAy0HmcsL0IExjYIg34N7AwAW0\n",
       "5wCqC3YG5DAwAumJDHug5nC3d4Pp9dp3GKKANOPdJIRPwR7a28F1bwF6WD0xYCAMAFFdLuIb3Bq/\n",
       "AAAAAElFTkSuQmCC\n",
       "\" style=\"display:inline;vertical-align:middle;\" /></a> <a class=\"ProveItLink\" href=\"../__pv_it/demonstrations/fbe82e66f28e61f7f2a257f9944f6263e2be3fac0/proof.ipynb\" style=\"text-decoration: none\">&nbsp;&#x22A2;&nbsp;&nbsp;</a><a class=\"ProveItLink\" href=\"../__pv_it/demonstrations/d78761de4eb7e5ed82b95d27c7dfdd73ad4a00e40/expr.ipynb\"><img src=\"data:image/png;base64,iVBORw0KGgoAAAANSUhEUgAAAE0AAAAVCAMAAAA0CpMYAAAAP1BMVEX///8AAAAAAAAAAAAAAAAA\n",
       "AAAAAAAAAAAAAAAAAAAAAAAAAAAAAAAAAAAAAAAAAAAAAAAAAAAAAAAAAAAAAADFBd4eAAAAFHRS\n",
       "TlMAEHarMolUmd1mIs3vRLvp8+P3nXqVZZ4AAAAJcEhZcwAADsQAAA7EAZUrDhsAAAE6SURBVDjL\n",
       "lZXZdoUgDEVJwhAM0PaW///WorQXcYLywGLpYUtOQlTqYSy7NTLrJ+1YINDWJqrReJZoOks1w5lS\n",
       "hh7SXDzQgJzkI22R8oZ4SOOLMPBEEyxTSo80TPzxyTKm2fbgjhYFQZGeOVsKvQQQCbQxdmdF2QKi\n",
       "ZmhBtMHq8CZxRUOoXLNJ1kLzOEXL4lem/ZX4stUXDflGOxbbPQ1y3tIfoEpWd1wXlQ7M/PUqU5qg\n",
       "bSH5HFsWQhcVbOm2ajLSSvNvScwlWoCu0FjN0VJ3NkhR0Zplsys2VNE906DVW/WtSmzWsK7jPjKx\n",
       "pK9pJi/VrrfTqRwD/nIKrpzEOt/ZBPSKcEEjClm25HO7/ca5+u3bm+W/TSo5lft2Y2G+IwmMpGa+\n",
       "vy1pJAWcpx2L7SzFf/ReupCO/wsh/gBmRQs1usm9fQAAAABJRU5ErkJggg==\n",
       "\" style=\"display:inline;vertical-align:middle;\" /></a></span>"
      ],
      "text/plain": [
       "{x in Real, 6 < x} |- x not-in [1,6]"
      ]
     },
     "metadata": {},
     "output_type": "display_data"
    }
   ],
   "source": [
    "NotInSet(x, IntervalCC(one, six)).prove(assumptions= [InSet(x, Real), Less(six, x)])"
   ]
  },
  {
   "cell_type": "code",
   "execution_count": 145,
   "metadata": {},
   "outputs": [
    {
     "data": {
      "text/html": [
       "<span style=\"font-size:20px;\"><a class=\"ProveItLink\" href=\"../../../ordering/__pv_it/theorems/d1323f34847310a404e8089c2c268d3c2eb89dbf0/expr.ipynb\"><img src=\"data:image/png;base64,iVBORw0KGgoAAAANSUhEUgAAADQAAAAQBAMAAACra0H4AAAAMFBMVEX///8AAAAAAAAAAAAAAAAA\n",
       "AAAAAAAAAAAAAAAAAAAAAAAAAAAAAAAAAAAAAAAAAAAv3aB7AAAAD3RSTlMAEHarMolUmd1mIs3v\n",
       "RLtmgJDEAAAACXBIWXMAAA7EAAAOxAGVKw4bAAAAyklEQVQY02NgwACce9797nnJgBXwcRnwWj7E\n",
       "IRXA8MAZp1QVN4qQXkfHBrgUH7LMbUUkXYbCQIaQskhoApDm2ohkIMuzXUBGAZMRewOQ5l6AkDrd\n",
       "3yQA9MUCzo/ME0BSSM6InAiylIWBHWw3g08HEDyAGvhwJliMRwFMySE73p1PAMS6v4ARRHMgS7F7\n",
       "AfXLXbBhYAUJMCkgSTE+0GRgyHesYbgGFtmGkCpgmMl3gUFcia0yASwi/FYAFvL/FvC9/oYcHFdf\n",
       "QAIKCgBACzQrtGfvLgAAAABJRU5ErkJggg==\n",
       "\" style=\"display:inline;vertical-align:middle;\" /></a>, <a class=\"ProveItLink\" href=\"../__pv_it/demonstrations/2369effac65979214bb74286254f5b0d9c6e426a0/expr.ipynb\"><img src=\"data:image/png;base64,iVBORw0KGgoAAAANSUhEUgAAADEAAAAQBAMAAABNQoq8AAAAMFBMVEX///8AAAAAAAAAAAAAAAAA\n",
       "AAAAAAAAAAAAAAAAAAAAAAAAAAAAAAAAAAAAAAAAAAAv3aB7AAAAD3RSTlMAEHarMolUmd1mIs3v\n",
       "RLtmgJDEAAAACXBIWXMAAA7EAAAOxAGVKw4bAAAArElEQVQY02NgwAK4QusuMGAF4gxs37DL6Ccw\n",
       "/kYXY9sFIu9cYECX4WwXgKr4CSSElEVCEyB8plaoBMONCUCigMmIvQHMFW2C6XUydgAasIDzIzNI\n",
       "BcPyTiT7gG5jYWDfAOYwb0O28TzIXB4FdBkXBob3IKvvL2AUQDXtvwBIRu6CDQMrA6oLDoNNy3es\n",
       "YbgGFRFqgrh6Jtg/4kpslQlwn0I8xFuOGaKcuxgIAwDRGikCS7NwsQAAAABJRU5ErkJggg==\n",
       "\" style=\"display:inline;vertical-align:middle;\" /></a> <a class=\"ProveItLink\" href=\"../__pv_it/demonstrations/7541fb971037781098f79f1e719770590a495d940/proof.ipynb\" style=\"text-decoration: none\">&nbsp;&#x22A2;&nbsp;&nbsp;</a><a class=\"ProveItLink\" href=\"../__pv_it/demonstrations/19c11cd4fcd596382c7211c8e347e5031fb9d6260/expr.ipynb\"><img src=\"data:image/png;base64,iVBORw0KGgoAAAANSUhEUgAAAE8AAAAVCAMAAAAw/0MlAAAAP1BMVEX///8AAAAAAAAAAAAAAAAA\n",
       "AAAAAAAAAAAAAAAAAAAAAAAAAAAAAAAAAAAAAAAAAAAAAAAAAAAAAAAAAAAAAADFBd4eAAAAFHRS\n",
       "TlMAEHarMolUmd1mIs3vRLvp8+P3nXqVZZ4AAAAJcEhZcwAADsQAAA7EAZUrDhsAAAGLSURBVDjL\n",
       "jZXZdoQgDIZJ2MLadsr7P2sDWBWUcbhATw5++bMQhXiz/PGKREq8X148rQD7q06PpxM+HFBSTDyv\n",
       "tc0TGTQbmw3de55NEw8sb6aY8VTdpJniuVskJh5WFJRwPuSaKGg2Z5cszPT1TWHkpVj3kaflwRNx\n",
       "ITAFBCHVrK8tU4Y0mZIZYrst1AcgSlBaH2nxNREwyvjnJZqyLktBa05iOWiUKOyRrlBbyeENT6GU\n",
       "cx/aUmjrPccaHL+7wuEdfsO1WOd4x/oa7XPZbCayy+piiE1FIvp58Zbv+jmWsyfXe6hXQpXtyBAb\n",
       "VIweVTSeaqHmQWAH+W5Lsee4cMwAQ+ORuPJKUzbwYFPUs2WIxSQhK1afmg9Fsje8KPd4d+exlyK3\n",
       "h8scugLLvHQOIpi5io3X7kLrv+OSpFa3rRms5jvJaox1Q7pAvhJceazabvOACPapwcatWrSaQu5X\n",
       "Z65vWM8rc3O1PH0w+RY8fTeQVgPLZ/HAA/zkq/1r88S7m8V5OfHl1cPz/wMr7g9y0gwGqbSVUQAA\n",
       "AABJRU5ErkJggg==\n",
       "\" style=\"display:inline;vertical-align:middle;\" /></a></span>"
      ],
      "text/plain": [
       "{x in Real, x < 3} |- x not-in [3,8)"
      ]
     },
     "metadata": {},
     "output_type": "display_data"
    }
   ],
   "source": [
    "NotInSet(x, IntervalCO(three, eight)).prove(assumptions= [InSet(x, Real), Less(x, three)])"
   ]
  },
  {
   "cell_type": "markdown",
   "metadata": {},
   "source": [
    "### Testing the automation for real IntervalXX subset relationships"
   ]
  },
  {
   "cell_type": "code",
   "execution_count": 146,
   "metadata": {},
   "outputs": [
    {
     "data": {
      "text/html": [
       "<span style=\"font-size:20px;\"> <a class=\"ProveItLink\" href=\"../__pv_it/demonstrations/c6eacee0d2e7b72bf2fbb2896687c6a6ae541c050/proof.ipynb\" style=\"text-decoration: none\">&nbsp;&#x22A2;&nbsp;&nbsp;</a><a class=\"ProveItLink\" href=\"../__pv_it/demonstrations/91119a2b79ae297cb55c5767582aefac1531c6e90/expr.ipynb\"><img src=\"data:image/png;base64,iVBORw0KGgoAAAANSUhEUgAAAHMAAAAVBAMAAACHwMySAAAAMFBMVEX///8AAAAAAAAAAAAAAAAA\n",
       "AAAAAAAAAAAAAAAAAAAAAAAAAAAAAAAAAAAAAAAAAAAv3aB7AAAAD3RSTlMAInZUiRDNmWbv3US7\n",
       "qzJazP2FAAAACXBIWXMAAA7EAAAOxAGVKw4bAAACB0lEQVQ4y3WUP2gTURzHv5e/vVzuEqEQcLoO\n",
       "LoLgIF2bzcVgdJRCQ6FQnDIUU1yMDnYqdOnSVgxoqRwIQRDXtkOHCDabQ4m9wcmllZIuovH3fr93\n",
       "d+nlmuG93+/l87n3e3/uAJRx9RfPEwc5T92NjX5KMMchB3gk0D1g+v7XcLyJVHtSJajy7JvE5uXT\n",
       "XYayDWSbmAueWugDS8FUPc/zfBURZOzjYVeQt+/rDOXbSF1goaHx26Su6QIWwwUSZJdhbnBic0uQ\n",
       "CVjbKGnVeU2qWef4SbQ1BJlD2L/HVIJmOZjT68vkSM1JchItlSC7A/vfmErQiuqtD5qZUWqmz3Ej\n",
       "Uldkkeeivqr5DC2rMu/8EMRoK3WKJacfqcvcnrncFevGH4beScGywxkoNc3bYYypAn0M8x5D27Lo\n",
       "IXcvWXWksE6kMpTfD/MXZQXRqOOjeMETuaxacgirMXVdJ0ek+gqiWkpDrVqDwembKtIyX657peB0\n",
       "FTc42QJOoaBDqravCpbDNNU2SWXZwedAJQg/gVsMVYEdhmrUtulcs5cMlUjLV0WwHgQXkSBjr9Xq\n",
       "MFRBapOhX5R8adH199QT88d/XRS68dtPUGE0GjUYMlrfqSWo4Ou/0/UAvDnx4iRDU00dZ0JwdUK9\n",
       "BjrQ8eNg0NDn99zzgrVeA83rxA1GiwlfmGTIcGPYTMIHJgn6D08ehc0KmAIRAAAAAElFTkSuQmCC\n",
       "\" style=\"display:inline;vertical-align:middle;\" /></a></span>"
      ],
      "text/plain": [
       "|- (3,4) subset_eq (2,5)"
      ]
     },
     "metadata": {},
     "output_type": "display_data"
    }
   ],
   "source": [
    "SubsetEq(IntervalOO(three, four), IntervalOO(two, five)).prove()"
   ]
  },
  {
   "cell_type": "markdown",
   "metadata": {},
   "source": [
    "Currently, Prove-It will not be able to automatically deduce a proper subset relationship between two real intervals:"
   ]
  },
  {
   "cell_type": "code",
   "execution_count": 147,
   "metadata": {},
   "outputs": [
    {
     "name": "stdout",
     "output_type": "stream",
     "text": [
      "Exception: Unable to prove (3,4) proper_subset (2,5):\n",
      "'conclude' method not implemented for proof automation\n"
     ]
    }
   ],
   "source": [
    "try:\n",
    "    ProperSubset(IntervalOO(three, four), IntervalOO(two, five)).prove()\n",
    "except Exception as e:\n",
    "    print(\"Exception: {}\".format(e))"
   ]
  },
  {
   "cell_type": "code",
   "execution_count": null,
   "metadata": {},
   "outputs": [],
   "source": []
  },
  {
   "cell_type": "markdown",
   "metadata": {},
   "source": [
    "### Number set membership demonstrations"
   ]
  },
  {
   "cell_type": "code",
   "execution_count": 148,
   "metadata": {},
   "outputs": [
    {
     "data": {
      "text/html": [
       "<span style=\"font-size:20px;\"> <a class=\"ProveItLink\" href=\"../__pv_it/demonstrations/09fdafa7baedc4e4be039ca1372ddf5c8c1013c60/proof.ipynb\" style=\"text-decoration: none\">&nbsp;&#x22A2;&nbsp;&nbsp;</a><a class=\"ProveItLink\" href=\"../__pv_it/demonstrations/cad939e59705925342d595d9d5b23f7fe72bf7b20/expr.ipynb\"><img src=\"data:image/png;base64,iVBORw0KGgoAAAANSUhEUgAAAGcAAAAVBAMAAACphe0AAAAAMFBMVEX///8AAAAAAAAAAAAAAAAA\n",
       "AAAAAAAAAAAAAAAAAAAAAAAAAAAAAAAAAAAAAAAAAAAv3aB7AAAAD3RSTlMAInZUiRDNmWbv3US7\n",
       "qzJazP2FAAAACXBIWXMAAA7EAAAOxAGVKw4bAAABoUlEQVQ4y2NgYBBgwAUYccowGWAIcWSe+bby\n",
       "BAMDtwKahNac/My1G4AMEywG8TBe4L5xlIFBA13iwCbG1NsMDKwJWDU5MBx4y8DAFoCuaQeDIw8D\n",
       "A3sDDk2FbEB3FmBqauZlYOBE8d+pVcvgmoAmMkxFFQdrAhpmhqSHOykAYdPVWCAjA1UcpOliCwND\n",
       "CQMDnw9jCdiRYgEI5/EdTgQyfBlQxIEBEbTWAWwWC08JywSQUCLCT9PWLwKpbGNAEWc4sCvzVykD\n",
       "w2IGBgm2BewOIKEEhCaPVjDHkgFFHOQ8jW0BDLMZGJ7yQ0KQb9aqVavWQJ13tAPEeI8qDtLEw+0A\n",
       "0sSwH+Jm1gNIQf6cByS4E1UcrInhAMh5DFVQoQVImtgfgpRaoYpDNCUwHAIyl0CFlJA0sR4ApaEe\n",
       "VHGwJmYFUKAy/oYKsRnANRUwdPBsAEcIsjjDgS0MTu4MDK+AcQeznvXOVlgq/yPAc+wzA8NqFHEG\n",
       "tTnnwamc6wFykvCBJhdYhlqAXRwjTSIDrKkZBA7i0SSDSyIGjyacBjIq4C4JcBQfAIO2c+eK8knO\n",
       "AAAAAElFTkSuQmCC\n",
       "\" style=\"display:inline;vertical-align:middle;\" /></a></span>"
      ],
      "text/plain": [
       "|- (r in Real) in BOOLEAN"
      ]
     },
     "metadata": {},
     "output_type": "display_data"
    }
   ],
   "source": [
    "InSet(InSet(r, Real), Boolean).prove()"
   ]
  },
  {
   "cell_type": "code",
   "execution_count": 149,
   "metadata": {},
   "outputs": [
    {
     "data": {
      "text/html": [
       "<span style=\"font-size:20px;\"> <a class=\"ProveItLink\" href=\"../__pv_it/demonstrations/051a8c105ff69d7a5668460f401f6afa40be41130/proof.ipynb\" style=\"text-decoration: none\">&nbsp;&#x22A2;&nbsp;&nbsp;</a><a class=\"ProveItLink\" href=\"../__pv_it/demonstrations/461c27d252d1f6be224740caf398191f83f4a7180/expr.ipynb\"><img src=\"data:image/png;base64,iVBORw0KGgoAAAANSUhEUgAAAH8AAAAbCAMAAABiBqBtAAAAOVBMVEX///8AAAAAAAAAAAAAAAAA\n",
       "AAAAAAAAAAAAAAAAAAAAAAAAAAAAAAAAAAAAAAAAAAAAAAAAAAAAAAACXHtMAAAAEnRSTlMAZkRU\n",
       "mRDNuyLviTJ23avt5cl5aQ4bAAAACXBIWXMAAA7EAAAOxAGVKw4bAAACEUlEQVRIx8VXi7ajIAzk\n",
       "mfC+d/n/j11A1KogpfbsclofbZ0hk0mghDwfkvzXYVg5Gmc+RaDsAb0KBcIRwjBdiHkELp6EH1Q+\n",
       "apsOMV0qnE4fPKFnRXUVswk0r0pMDaRvZgk0YgSv6wMC8/hJb0ps4fflCz/wo0sIEEH7UNKu9Psz\n",
       "LclmgeJG4Za5LPy6hO7CGIc5okCWCQgzw2/Kya4UsmZ70T/y8lmUY/40baNIfjqyWX6hCFT9f/9g\n",
       "0X/3XxpA3+KnnIRVuU6m0KcBDf4a9qYDcbn+6p3AIU7lh+yGrrPByWb8QcrKtPsg9x9R75we4mT+\n",
       "oGhCC3Va1iR0YXbpkj/a+lvksAjN26XGDpI2cZiTzodipiqWIZicaPapV44TvwYf/RpPp3HYaF/u\n",
       "mjjMg44+CwaLlIoS8IdigLb/KN36Fe84Vx0sDT3/OcqSNH5pvlaSeLCt1b4OPOqPkg78LV/52ziZ\n",
       "P5/MGv85a1tlX/Jvxavt2vHbEU7lT6+NX5wKwffqX9jBGmOjGuGs/EDCiuVPfdC5Dn+KyN1m4Khk\n",
       "E6fypwJai1Vd+iDwBn92S8o/3jVNqoc4edVMGxaxT5ZddJIBmbysf6hyzULkfX4RbnHcso6u659m\n",
       "N2s7Hvrmm+PS/29xxMfbtm75TW1Irf4yPw1zvw/8u/xe/cv93zX82f0f4d90wPz+9+H+/2znuX9D\n",
       "fwG6bRE/Jk8cyAAAAABJRU5ErkJggg==\n",
       "\" style=\"display:inline;vertical-align:middle;\" /></a></span>"
      ],
      "text/plain": [
       "|- (r in RealNonZero) in BOOLEAN"
      ]
     },
     "metadata": {},
     "output_type": "display_data"
    }
   ],
   "source": [
    "InSet(InSet(r, RealNonZero), Boolean).prove()"
   ]
  },
  {
   "cell_type": "code",
   "execution_count": 150,
   "metadata": {},
   "outputs": [
    {
     "data": {
      "text/html": [
       "<span style=\"font-size:20px;\"> <a class=\"ProveItLink\" href=\"../__pv_it/demonstrations/4368e1ffc4c2ff7ac4c100dad05510f13703f11d0/proof.ipynb\" style=\"text-decoration: none\">&nbsp;&#x22A2;&nbsp;&nbsp;</a><a class=\"ProveItLink\" href=\"../__pv_it/demonstrations/4473d5330181ba6f1542c4ef36cdb3d251dcb5ff0/expr.ipynb\"><img src=\"data:image/png;base64,iVBORw0KGgoAAAANSUhEUgAAAHYAAAAZBAMAAAAWK8etAAAAMFBMVEX///8AAAAAAAAAAAAAAAAA\n",
       "AAAAAAAAAAAAAAAAAAAAAAAAAAAAAAAAAAAAAAAAAAAv3aB7AAAAD3RSTlMAZkRUmRDNuyLviTJ2\n",
       "3asqG0tJAAAACXBIWXMAAA7EAAAOxAGVKw4bAAAB6ElEQVQ4y52Uu0vDUBTGv8Y2iW3qCxwEBxcd\n",
       "XOwf4NBNEZRMutWKFBREbpWaqdAuXXXSSayTq4OCLlYHEUXBoVQqBquiBUfFuprcpLm3j7TghTw4\n",
       "H797HvecC6APLVbYeLyuake4FUuMRyZu6izasRh0U+ONJs+yVinGGRtUa3WluFHZfTUC2mqynySX\n",
       "hJeEwyqlel04z0SG4M02ZbMgZ/Bq2o5m+Pf9NLA9/hRB95ALOyk6frHQyHpCJeT4XJSkXnBYibET\n",
       "tn6l61GHjeKOQ4UVlfl9jzD22jKPXDK/XeksPoDAgTzVY5oyKos5sL7E2DEqyDEW8+XdJ6ABfmnK\n",
       "T6u9xPLdfn5Sq30F5A7Nt5hibGEvr2IVSIv3VrWjjN3vj3LJbNKCinytlL4Y8sBxN40YgV1d1x/s\n",
       "mBO9HDtP2VND1onNgoyafu104CPcGR1J3AFs0pjneL8gEmWnbdM9x3pPuAnI0UyDtayIsvH7aJtu\n",
       "OdZHLhhrBaac17Dj5tHJX7ZJDDlsGL0S67gB67PI2Kz/JmxuKVRj9ZWHq3P0m5I2vh12xvpE1qwa\n",
       "KMacmXPUyfezcGD1ZP2q9vNoUuePrukc1a2GObJXYKs96ym5CG/t2WDqX/cVWt5XHW0Tdr8nW9/P\n",
       "tJxqc/sffDp51fpxbuIAAAAASUVORK5CYII=\n",
       "\" style=\"display:inline;vertical-align:middle;\" /></a></span>"
      ],
      "text/plain": [
       "|- (r in RealPos) in BOOLEAN"
      ]
     },
     "metadata": {},
     "output_type": "display_data"
    }
   ],
   "source": [
    "InSet(InSet(r, RealPos), Boolean).prove()"
   ]
  },
  {
   "cell_type": "code",
   "execution_count": 151,
   "metadata": {},
   "outputs": [
    {
     "data": {
      "text/html": [
       "<span style=\"font-size:20px;\"> <a class=\"ProveItLink\" href=\"../__pv_it/demonstrations/5c1ac365376ea174f7dc1556587bc20ea0b739880/proof.ipynb\" style=\"text-decoration: none\">&nbsp;&#x22A2;&nbsp;&nbsp;</a><a class=\"ProveItLink\" href=\"../__pv_it/demonstrations/03795182b1d993f18f3ddff962aa763ed335e3480/expr.ipynb\"><img src=\"data:image/png;base64,iVBORw0KGgoAAAANSUhEUgAAAHcAAAAZBAMAAAD56ayTAAAAMFBMVEX///8AAAAAAAAAAAAAAAAA\n",
       "AAAAAAAAAAAAAAAAAAAAAAAAAAAAAAAAAAAAAAAAAAAv3aB7AAAAD3RSTlMAZkRUmRDNuyLviTJ2\n",
       "3asqG0tJAAAACXBIWXMAAA7EAAAOxAGVKw4bAAABwElEQVQ4y2NgYBBiIAQccMowOxDU3I5TJoyg\n",
       "XgbGA7hkCrGIiU2vz50ugOBfRZM/Oz0/854CAwPHBGwmFvQx6IkHwLnnMOR1OFIfMTCwLMCquYuB\n",
       "nfsBw/ZyIGhgYIgPQJdXZFjBzsDAr4BDM0tDApzLJoCpWZiPgWE/iqHH795NgGsugAuzFKDLAzWz\n",
       "Af2OrFftKMJmvtAHcHGeCejyigwvpBgYngGZuwpaFoKEOFKRnL3drAGumekrA5q8Tsw9YGCVA5kL\n",
       "ShasBHsNrrygM/fvUYSLuH8zoMnrZv51ZWDIAxookMvgBZZECjBB5MTD8YkBTV6R4aBaAMMVoLkB\n",
       "HyFCO+8CQQFEM3sgUgizfkKXV2RgZ1oAshnmJYZwJJu5HUqRbP6NLg/UzFAA1sxyASLEixzP3kjZ\n",
       "gfsHujxIcwLDc5AgNJXxHEDSHM4jgB7aSPJAzcwHGE4Cmf2wVJYMl2xhYBQoQmSrCejyWgxrljAw\n",
       "6ANTmC5MLK4oAJarKhjK8w3gKewBqvyx6fXgXMWJkra1au8mYEnq8LSNJo89V6EBjFwFC8gJRGiW\n",
       "wyXxmAjNN2hShjEvoKD0JKLcdsUhDgANPn4G46Fk1AAAAABJRU5ErkJggg==\n",
       "\" style=\"display:inline;vertical-align:middle;\" /></a></span>"
      ],
      "text/plain": [
       "|- (r in RealNeg) in BOOLEAN"
      ]
     },
     "metadata": {},
     "output_type": "display_data"
    }
   ],
   "source": [
    "InSet(InSet(r, RealNeg), Boolean).prove()"
   ]
  },
  {
   "cell_type": "code",
   "execution_count": 152,
   "metadata": {},
   "outputs": [
    {
     "data": {
      "text/html": [
       "<span style=\"font-size:20px;\"> <a class=\"ProveItLink\" href=\"../__pv_it/demonstrations/bcabdc09c3e26d6e89a563e0fb44a74dde2d729f0/proof.ipynb\" style=\"text-decoration: none\">&nbsp;&#x22A2;&nbsp;&nbsp;</a><a class=\"ProveItLink\" href=\"../__pv_it/demonstrations/c4f2234e7de3728b09f93e261b50a10be95f0aa30/expr.ipynb\"><img src=\"data:image/png;base64,iVBORw0KGgoAAAANSUhEUgAAAH8AAAAaBAMAAABsqp7JAAAAMFBMVEX///8AAAAAAAAAAAAAAAAA\n",
       "AAAAAAAAAAAAAAAAAAAAAAAAAAAAAAAAAAAAAAAAAAAv3aB7AAAAD3RSTlMAZkRUmRDNuyLviTJ2\n",
       "3asqG0tJAAAACXBIWXMAAA7EAAAOxAGVKw4bAAACHklEQVQ4y2NgwAe2K4CpVafwqhLCLcW63ABI\n",
       "Mh5gKmBwwKmI2QGf6ccFGBg4NzD8YGjHqSQMr/MYxA8w9AcwTAY6A5eKQixiYtPrc6cLQNiSDfsD\n",
       "GC4yMFxFU3N2en7mPWAYcUzAZmpBH4OeeACIFVXEADRgDgPDOQw1OhypjxgYWBZgNaCLgZ37AZDR\n",
       "8poB5IXPDAzxAehqFBlWsDMw8CvgMIClIYGBoQ+oHxKIDGwCmAYI8zGA3Icc6HfvJsANKGCI8wBx\n",
       "eA4wAR3DUoCuBmgAGzAskPWrHUW4gC/0AUMohLfqCNAWngnoahQZXkgxMDwDMncVtCwECXGkInlh\n",
       "u1kDiouZvjKgqdGJuQcMwHIgc0HJgpUgITa4loLO3L9HUb3M/ZsBTY1u5l9XBoY8oKECuQxeYEmk\n",
       "QBQEJbDt5UAA1cHxiQFNjSLDQbUAhitAswM+QoR23gWCAogB7IFooc76CV2NIgM70wKQC2DeYwhH\n",
       "cgG3QymqARy/0dUADWAoABvAcgEixIucDrzRsg/3D3Q1IAMSGJ6DBKGpkecAkgHhPALYYgFJDdAA\n",
       "5gMMJ4HMflhqTIZLtjAwChShGMA4AV2NFsOaJQwM+sA0ogsTiysKgOXGCobyfANkA1geoKo5Nr0e\n",
       "nBs5UfKCVi0kmWIB8LyApgZ7bsQCMHIjLHAnEGmAHC6Jx0QacIPMMhEeCTjLRGbiAqGdrHoBCbji\n",
       "EAcACSmW8zPGMQ8AAAAASUVORK5CYII=\n",
       "\" style=\"display:inline;vertical-align:middle;\" /></a></span>"
      ],
      "text/plain": [
       "|- (r in RealNonNeg) in BOOLEAN"
      ]
     },
     "metadata": {},
     "output_type": "display_data"
    }
   ],
   "source": [
    "InSet(InSet(r, RealNonNeg), Boolean).prove()"
   ]
  },
  {
   "cell_type": "code",
   "execution_count": 153,
   "metadata": {},
   "outputs": [
    {
     "data": {
      "text/html": [
       "<span style=\"font-size:20px;\"> <a class=\"ProveItLink\" href=\"../__pv_it/demonstrations/70af72155e742a6310d427b0aa76baf13ced0bf20/proof.ipynb\" style=\"text-decoration: none\">&nbsp;&#x22A2;&nbsp;&nbsp;</a><a class=\"ProveItLink\" href=\"../__pv_it/demonstrations/0b03ca0a9c700fdb81d70763bfaa7a9b1e8f1cbb0/expr.ipynb\"><img src=\"data:image/png;base64,iVBORw0KGgoAAAANSUhEUgAAAH8AAAAaBAMAAABsqp7JAAAAMFBMVEX///8AAAAAAAAAAAAAAAAA\n",
       "AAAAAAAAAAAAAAAAAAAAAAAAAAAAAAAAAAAAAAAAAAAv3aB7AAAAD3RSTlMAZkRUmRDNuyLviTJ2\n",
       "3asqG0tJAAAACXBIWXMAAA7EAAAOxAGVKw4bAAACGklEQVQ4y2NgIATMGxhWncKrQgi//gMMjAeY\n",
       "ChgccKpgdsCnX1yAgYFzA8MPhnacSsLw6T9uACT6AxgmA52BS00hFjGx6fW504F27wTpZ9gfwHCR\n",
       "geEqmpqz0/Mz7ykwMHBMwGZqQR+DnngAA3NVAMSAOQwM5zDU6HCkPmJgYFmA1YAuBnbuBwwMTCAT\n",
       "gF74zMAQH4CuRpFhBTsDA78CDgNYGhKADO4nDZBAZGATwDRAmA/sPuRAu3s3AW5AAYjF8S6A5wAT\n",
       "0DEsBehqgAawAcMCWb/aUYQL+EIfgJkcDAyrjgBt4ZmArkaR4YUUA8MzIHNXQctCsNpUJC9sN2tA\n",
       "cTHTVwY0NTox94ABWA5kLihZsBIkxAbXUtCZ+/coqpe5fzOgqdHN/OvKwJAHNFQgl8ELLIkUiIKg\n",
       "BLa9HAigOjg+MaCpUWQ4qBbAcAVodsBHiNDOu0BQADGAPRAt1Fk/oatRZGBnWgByAcx7DOFILuB2\n",
       "KEU1gOM3uhqgAQwFYANYLkCEeJHTgTda9uH+ga4GZEACw3OQIDQ18hxAMiCcRwBbLCCpARrAfIDh\n",
       "JCi7wVJjMlyyhYFRoAjFAMYJ6Gq0GNYsYWDQB6YRXZhYXFEALDdWMJTnGyAbwPIAVc2x6fXg3MiJ\n",
       "khe0aiHJFAuA5wU0NdhzIxaAkRthgTuBSAPkcEk8JtKAG2SViUiRgLNMZCYuENrJrRdgwBWHOABh\n",
       "c5ZV/U4oOQAAAABJRU5ErkJggg==\n",
       "\" style=\"display:inline;vertical-align:middle;\" /></a></span>"
      ],
      "text/plain": [
       "|- (r in RealNonPos) in BOOLEAN"
      ]
     },
     "metadata": {},
     "output_type": "display_data"
    }
   ],
   "source": [
    "InSet(InSet(r, RealNonPos), Boolean).prove()"
   ]
  },
  {
   "cell_type": "code",
   "execution_count": 154,
   "metadata": {},
   "outputs": [
    {
     "data": {
      "text/html": [
       "<span style=\"font-size:20px;\"><a class=\"ProveItLink\" href=\"../__pv_it/demonstrations/b5b9699cb86b6893f6e3a183e3782057b660119c0/expr.ipynb\"><img src=\"data:image/png;base64,iVBORw0KGgoAAAANSUhEUgAAAEcAAAAVCAMAAAAjKAPRAAAAOVBMVEX///8AAAAAAAAAAAAAAAAA\n",
       "AAAAAAAAAAAAAAAAAAAAAAAAAAAAAAAAAAAAAAAAAAAAAAAAAAAAAAACXHtMAAAAEnRSTlMAMom7\n",
       "Iplm783dEER2VKvt5cknQN27AAAACXBIWXMAAA7EAAAOxAGVKw4bAAABJUlEQVQ4y61UiXLFIAhE\n",
       "8UA8Xp///7FVczSHpnlNmQkZJrJhFxDggTH8i0nfvAzyEYxK1ZsA4PEJTlLVW1FcVn+H8Y2NylUk\n",
       "G+9kGLKImZxF02KN1V7lMSAajjP3/o1NDJ8Mri0KU+qEY8NtHNleIi0tn6WdeOX4EY5WQDOvrzc2\n",
       "Xpc6B3TFqIczl7HWBaH2PXUbQYH79STmOeNHpzqHukZCllNaroor4gEvgZEmArGjqwTUEqRdYlJd\n",
       "fSy57JZCqTPdBsgV6uuO0EBnY3j5FP35iGDI2ykS1s2GB17I5nLcfN4Kwjjqu9Bbec+m3S50w/nR\n",
       "Ql0ttttfHyGMcEqpYcxM5YNqFHs4ui6sAfRDeY5EOKHn875jmQdEurtK09WC+7343b4BR7gH3FdS\n",
       "v+AAAAAASUVORK5CYII=\n",
       "\" style=\"display:inline;vertical-align:middle;\" /></a> <a class=\"ProveItLink\" href=\"../__pv_it/demonstrations/c7eb1a009f70881a5d904495d25a30c50ce7875d0/proof.ipynb\" style=\"text-decoration: none\">&nbsp;&#x22A2;&nbsp;&nbsp;</a><a class=\"ProveItLink\" href=\"../__pv_it/demonstrations/13afb291ae03c2910bf1688bfbda2fcf5a0202d50/expr.ipynb\"><img src=\"data:image/png;base64,iVBORw0KGgoAAAANSUhEUgAAAC8AAAAUCAMAAAAqRJTwAAAAPFBMVEX///8AAAAAAAAAAAAAAAAA\n",
       "AAAAAAAAAAAAAAAAAAAAAAAAAAAAAAAAAAAAAAAAAAAAAAAAAAAAAAAAAAAo1xBWAAAAE3RSTlMA\n",
       "Mom7Iplm783dEESrVOf16fN22fme/QAAAAlwSFlzAAAOxAAADsQBlSsOGwAAAMxJREFUKM+VkusO\n",
       "wyAIhRHFeqm76Pu/6xTTzWrrIj9MiMcPDgJwH+RgJYRsM8RIaqqXoklMAHB29kDsTaIt15AzfAuT\n",
       "/Dike0e+xUMiLplyVyJXUYS605sW7w59ViFIQsDtGKLleDzLedRQCas+gtJgshnCCf6nRxAOkh67\n",
       "p1Pqqt5nfjlH16abdO0/FL+549MSlL5f7+riOyPJk9dMtjji+4qax0GGvfheHmgg2LIPW9kQb//j\n",
       "s5Yw7uL6awMu7fEVfhZ6EW/X8CBmlx8wdAWRPHuFhwAAAABJRU5ErkJggg==\n",
       "\" style=\"display:inline;vertical-align:middle;\" /></a></span>"
      ],
      "text/plain": [
       "{r in RealNonZero} |- r != 0"
      ]
     },
     "metadata": {},
     "output_type": "display_data"
    }
   ],
   "source": [
    "NotEquals(r, zero).prove(assumptions=[InSet(r, RealNonZero)], \n",
    "                         conclude_automation=False) # should be side-effect"
   ]
  },
  {
   "cell_type": "code",
   "execution_count": 155,
   "metadata": {},
   "outputs": [
    {
     "data": {
      "text/html": [
       "<span style=\"font-size:20px;\"><a class=\"ProveItLink\" href=\"../__pv_it/theorems/7697fc34c81296f04a039eeb9dd22e91165d63b70/expr.ipynb\"><img src=\"data:image/png;base64,iVBORw0KGgoAAAANSUhEUgAAAEAAAAATBAMAAADSXRa0AAAAMFBMVEX///8AAAAAAAAAAAAAAAAA\n",
       "AAAAAAAAAAAAAAAAAAAAAAAAAAAAAAAAAAAAAAAAAAAv3aB7AAAAD3RSTlMAEHarMolUmd1mIs3v\n",
       "RLtmgJDEAAAACXBIWXMAAA7EAAAOxAGVKw4bAAAA3UlEQVQoz2NgwAcKGAiAB+Qp4Nzz7nfPS3wm\n",
       "8HEZ8Fo+xKsggOGBMwP7u3fn3r3EpaCKG4sJeh0dG+AK+DAV3FZEMsFQGK5ASFkkNAFIc21EsoLl\n",
       "2S64ggImI/YGIM29AKHgdH+TACwkORdwfmSeAFKA5MjIiRvgPBYGdgjHpwMIHkCteDgTyXE8CmBK\n",
       "Dtmb7nwCCAX3FzCCeBzICti94D6Uu2DDwApiMCkgKWB8oAnj5TvWMFwDs7YhFBQwzOS7AOWJK7FV\n",
       "JoBZwm8FYLH5bwHf62+YcXD1RccGDEEANpdAkzJdUSAAAAAASUVORK5CYII=\n",
       "\" style=\"display:inline;vertical-align:middle;\" /></a> <a class=\"ProveItLink\" href=\"../__pv_it/demonstrations/fb1967f9dc5528b29b7bc7d8023e4f7749e0ec410/proof.ipynb\" style=\"text-decoration: none\">&nbsp;&#x22A2;&nbsp;&nbsp;</a><a class=\"ProveItLink\" href=\"../__pv_it/theorems/0c04c146b0f7b92967ed28917fb83981f8ee0b1b0/expr.ipynb\"><img src=\"data:image/png;base64,iVBORw0KGgoAAAANSUhEUgAAADEAAAAQBAMAAABNQoq8AAAAMFBMVEX///8AAAAAAAAAAAAAAAAA\n",
       "AAAAAAAAAAAAAAAAAAAAAAAAAAAAAAAAAAAAAAAAAAAv3aB7AAAAD3RSTlMAEHarMolUmd1mIs3v\n",
       "RLtmgJDEAAAACXBIWXMAAA7EAAAOxAGVKw4bAAAAv0lEQVQY02NgwAZC1RdgFWfgTmDswi4zg4Eh\n",
       "DokrPQHOfMzAkC+AkGGMUIAxvzMw+CcwMAgpi4QmgAU0AqFqQDJAEwqYjNgboOYXgimur0AZBQbO\n",
       "BZwfmWFWZFfBZQIYWBjYNyAsu20IMg0ocx9kKY8CksxDqAvyQVbfX8AIc2K2FZh6x8AwX4BB7oIN\n",
       "AyvMh1UQeg4DQzVQm2MNwzUGFFczcCQwHmFgEFdiqwR7h1EDbh9jqbIDUuhITGAgEgAAPjAn/CdE\n",
       "pSIAAAAASUVORK5CYII=\n",
       "\" style=\"display:inline;vertical-align:middle;\" /></a></span>"
      ],
      "text/plain": [
       "{x in RealPos} |- x > 0"
      ]
     },
     "metadata": {},
     "output_type": "display_data"
    }
   ],
   "source": [
    "greater(x, zero).prove(assumptions=[InSet(x, RealPos)], \n",
    "                       conclude_automation=False) # should be side-effect"
   ]
  },
  {
   "cell_type": "code",
   "execution_count": 156,
   "metadata": {},
   "outputs": [
    {
     "data": {
      "text/html": [
       "<span style=\"font-size:20px;\"><a class=\"ProveItLink\" href=\"../__pv_it/theorems/41afbdfa99a88a03fa8266d6b83a02fc90cd2c0f0/expr.ipynb\"><img src=\"data:image/png;base64,iVBORw0KGgoAAAANSUhEUgAAAEAAAAAQBAMAAABUyWQaAAAAMFBMVEX///8AAAAAAAAAAAAAAAAA\n",
       "AAAAAAAAAAAAAAAAAAAAAAAAAAAAAAAAAAAAAAAAAAAv3aB7AAAAD3RSTlMAEHarMolUmd1mIs3v\n",
       "RLtmgJDEAAAACXBIWXMAAA7EAAAOxAGVKw4bAAAA00lEQVQoz2NgwACce9797nnJgAfwcRnwWj7E\n",
       "qyCA4YEzA8s7IHiFS0EVNxYJvY6ODXAFfJjytxWRTDAUhosLKYuEJgBpro1IVrA82wVXUMBkxN4A\n",
       "pLkXIBSc7m8SgPt6AedH5gkgBUiOjJy4Ac5jYWCHcHw6gOAB1IqHM5Ecx6MApuSQvenOJ4BQcH8B\n",
       "I4jHgayA3esBjCd3wYaBFcRgUkBSwPhAE8bLd6xhuAZmbUMoKGCYyXcByhNXYqtMALOE3wrAYvPf\n",
       "Ar7X3zCD8uqLjg0YggAeBjjR9gM6SQAAAABJRU5ErkJggg==\n",
       "\" style=\"display:inline;vertical-align:middle;\" /></a> <a class=\"ProveItLink\" href=\"../__pv_it/demonstrations/38f1be409dd3653c57b7c16d85424dc16de3196b0/proof.ipynb\" style=\"text-decoration: none\">&nbsp;&#x22A2;&nbsp;&nbsp;</a><a class=\"ProveItLink\" href=\"../__pv_it/theorems/068e2f545e08d21821de8eb3c3a29ef348d1823a0/expr.ipynb\"><img src=\"data:image/png;base64,iVBORw0KGgoAAAANSUhEUgAAADEAAAAQBAMAAABNQoq8AAAAMFBMVEX///8AAAAAAAAAAAAAAAAA\n",
       "AAAAAAAAAAAAAAAAAAAAAAAAAAAAAAAAAAAAAAAAAAAv3aB7AAAAD3RSTlMAEHarMolUmd1mIs3v\n",
       "RLtmgJDEAAAACXBIWXMAAA7EAAAOxAGVKw4bAAAAwUlEQVQY02NgwAZC1RdgFWfgTmDswi4zg4Eh\n",
       "Dl2MbReIfMzAkC+AKsHZDhb4zsDgn8DAIKQsEpoAkWBqBUswgmQmMDAUMBmxN4AlRJsgCri+AmUU\n",
       "GDgXcH5kngASWN7JgCQTwMDCwL4BzGfeBrONEShzXwHI4FFAkwG5IB9k9f0FjAIopjG8Y2CYL8Ag\n",
       "d8GGgZUBxQUMcxgYqoHaHGsYrkFFhJog/uNIYDzCwCCuxFaZAPcp1EOlyg7oocO5i4EwAADRHieE\n",
       "tyiB0wAAAABJRU5ErkJggg==\n",
       "\" style=\"display:inline;vertical-align:middle;\" /></a></span>"
      ],
      "text/plain": [
       "{x in RealNeg} |- x < 0"
      ]
     },
     "metadata": {},
     "output_type": "display_data"
    }
   ],
   "source": [
    "Less(x, zero).prove(assumptions=[InSet(x, RealNeg)], \n",
    "                    conclude_automation=False) # should be side-effect"
   ]
  },
  {
   "cell_type": "code",
   "execution_count": 157,
   "metadata": {},
   "outputs": [
    {
     "data": {
      "text/html": [
       "<span style=\"font-size:20px;\"><a class=\"ProveItLink\" href=\"../__pv_it/theorems/c34caf191836023a2e00a70eca44f5973ba282830/expr.ipynb\"><img src=\"data:image/png;base64,iVBORw0KGgoAAAANSUhEUgAAAEoAAAAUBAMAAADYerbFAAAAMFBMVEX///8AAAAAAAAAAAAAAAAA\n",
       "AAAAAAAAAAAAAAAAAAAAAAAAAAAAAAAAAAAAAAAAAAAv3aB7AAAAD3RSTlMAEHarMolUmd1mIs3v\n",
       "RLtmgJDEAAAACXBIWXMAAA7EAAAOxAGVKw4bAAABL0lEQVQoz2NgwA38LoCpUFUGfIAxLgFIcirw\n",
       "PsCrjEFvAgMDjwPDL/yqGOYpMKwXYDiGTWr2ufc7zk2AsOcs8Bdg6MRqwoPFDJfnCYBYom8ZgKoO\n",
       "YVe1lIGPxQDIWG7CALLxGy5V7As2MDAsBirCcD3Ti45uhKoHDMJVYFEFXgMkRbybBBBmMQsaMAhC\n",
       "eKHqQHEhZZFQUOgxrBZAstEvewGKIwqYjNgbQIxdCHet2fFDEUUR5wLOj8zgwNmA5PqZ0qB4fAcE\n",
       "ECNZGNgh0iwnOjo6+qCq+CQnoPmbRwEStw+QzGIpeIim6v4CRrC7G5DDq2Qdihq5CzYMrGCWErIq\n",
       "OSYUK/MdaxiugVncCXBVyxk4J7xFViWuxFYJkWa0uwhPE68Y3u1PwJ6YeOOgMYQBAHwnWgIrvHIs\n",
       "AAAAAElFTkSuQmCC\n",
       "\" style=\"display:inline;vertical-align:middle;\" /></a> <a class=\"ProveItLink\" href=\"../__pv_it/demonstrations/55781bf46d23f61d70077760e42ab26537f590150/proof.ipynb\" style=\"text-decoration: none\">&nbsp;&#x22A2;&nbsp;&nbsp;</a><a class=\"ProveItLink\" href=\"../__pv_it/theorems/ffcbd76494d8407c0ebebaa8c88703403e0e53b60/expr.ipynb\"><img src=\"data:image/png;base64,iVBORw0KGgoAAAANSUhEUgAAADEAAAARBAMAAACGHlkZAAAAMFBMVEX///8AAAAAAAAAAAAAAAAA\n",
       "AAAAAAAAAAAAAAAAAAAAAAAAAAAAAAAAAAAAAAAAAAAv3aB7AAAAD3RSTlMAEHarMolUmd1mIs3v\n",
       "RLtmgJDEAAAACXBIWXMAAA7EAAAOxAGVKw4bAAAAvUlEQVQY02NgwAZC1Rcg8aQnwJncCYxdSDKM\n",
       "EQow5gwGhjgUMzQCoYzHDAz5AihSM6BS3xkY/BMYGISURUIToFLZVWBzQTJAWwuYjNgbYLpuGwIJ\n",
       "rq9AGQUGzgWcH5nhzrr9ECYTwMDCwL4BblG2Fdg0oMx9kEN5EK4thLsgH2T1/QWMAqiufsfAMF+A\n",
       "Qe6CDQMrmk/nMDBUA7U51jBcQwsdjgTGIwwM4kpslQloAcpYquzAQBmQ6ACBFjgfAFAoK0oOcBU8\n",
       "AAAAAElFTkSuQmCC\n",
       "\" style=\"display:inline;vertical-align:middle;\" /></a></span>"
      ],
      "text/plain": [
       "{x in RealNonNeg} |- x >= 0"
      ]
     },
     "metadata": {},
     "output_type": "display_data"
    }
   ],
   "source": [
    "greater_eq(x, zero).prove(assumptions=[InSet(x, RealNonNeg)], \n",
    "                          conclude_automation=False) # should be side-effect"
   ]
  },
  {
   "cell_type": "code",
   "execution_count": 158,
   "metadata": {},
   "outputs": [
    {
     "data": {
      "text/html": [
       "<span style=\"font-size:20px;\"><a class=\"ProveItLink\" href=\"../__pv_it/theorems/2cb28dd28e519f2ed21b5bd3873ca2325fe653c60/expr.ipynb\"><img src=\"data:image/png;base64,iVBORw0KGgoAAAANSUhEUgAAAEoAAAAUBAMAAADYerbFAAAAMFBMVEX///8AAAAAAAAAAAAAAAAA\n",
       "AAAAAAAAAAAAAAAAAAAAAAAAAAAAAAAAAAAAAAAAAAAv3aB7AAAAD3RSTlMAEHarMolUmd1mIs3v\n",
       "RLtmgJDEAAAACXBIWXMAAA7EAAAOxAGVKw4bAAABLElEQVQoz2NgwA/yFjCEqjIQUqTAwKnA+wC/\n",
       "onkTGBh4HBh+4VWklwAk1gswHMMmOfvc+x3ngKb4gBQx+AswdGI148FihsvzBBjYngpAVB3Crmop\n",
       "Ax+LAQMDL0gZ0MZvuFSxL9gAZLCYL8BwPdOLjm6EKrD3uYwFmBR4DZAU8W4SQJjFLAiR4mJgCFUH\n",
       "igspi4SCPbNaAMlGv+wFKI4oYDJibwAxdiHctWbHD0UURZwLOD8yTwCxNiC5fqY0kPJ7BwQQI1kY\n",
       "2CHSLCc6Ojr6oKr4JCeg+ZtHAUwxPkAyi6XgIZqq+wsYwe5uQA6vknUoauQu2DCwgllKyKrkmFCs\n",
       "zHesYbgGZnEnwFUtZ+Cc8BZZlbgSWyVEmtHuIjxNvGJ4tz8Be3LijYPGEAYAAP62WU5lDEYsAAAA\n",
       "AElFTkSuQmCC\n",
       "\" style=\"display:inline;vertical-align:middle;\" /></a> <a class=\"ProveItLink\" href=\"../__pv_it/demonstrations/1a5bd1417626196590d2021aa4451df11d74d5a20/proof.ipynb\" style=\"text-decoration: none\">&nbsp;&#x22A2;&nbsp;&nbsp;</a><a class=\"ProveItLink\" href=\"../__pv_it/theorems/c30a0bd668f16bebb68a7791021eba7f002ea2a10/expr.ipynb\"><img src=\"data:image/png;base64,iVBORw0KGgoAAAANSUhEUgAAADEAAAARBAMAAACGHlkZAAAAMFBMVEX///8AAAAAAAAAAAAAAAAA\n",
       "AAAAAAAAAAAAAAAAAAAAAAAAAAAAAAAAAAAAAAAAAAAv3aB7AAAAD3RSTlMAEHarMolUmd1mIs3v\n",
       "RLtmgJDEAAAACXBIWXMAAA7EAAAOxAGVKw4bAAAAv0lEQVQY02NgwAZC1RegC7HtApHcCYxdaBKc\n",
       "7QIgagYDQxyqBFMrWILhMQNDvgCyhGgTlPGdgcE/gYFBSFkkNAHEF++ESjCCZCYwMBQwGbE3APnC\n",
       "22B6ub4CZRQYOBdwfmQGKmBgRpUJYGBhYN8AEVgONw0oc18ByOBRwOKCfJDV9xcwCqC6+h0Dw3wB\n",
       "BrkLNgysaD6dw8BQDdTmWMNwDRE6W0AkRwLjEaAvlNgqE9ACibFU2YGBMiDRAQItcD4ALa0qND15\n",
       "Sx0AAAAASUVORK5CYII=\n",
       "\" style=\"display:inline;vertical-align:middle;\" /></a></span>"
      ],
      "text/plain": [
       "{x in RealNonPos} |- x <= 0"
      ]
     },
     "metadata": {},
     "output_type": "display_data"
    }
   ],
   "source": [
    "LessEq(x, zero).prove(assumptions=[InSet(x, RealNonPos)], \n",
    "                      conclude_automation=False) # should be side-effect"
   ]
  },
  {
   "cell_type": "code",
   "execution_count": 159,
   "metadata": {},
   "outputs": [
    {
     "data": {
      "text/html": [
       "<span style=\"font-size:20px;\"><a class=\"ProveItLink\" href=\"../__pv_it/demonstrations/619064660bea43de10a0abd6495f8cdd14c3dac70/expr.ipynb\"><img src=\"data:image/png;base64,iVBORw0KGgoAAAANSUhEUgAAADIAAAAQBAMAAACmdTG/AAAAMFBMVEX///8AAAAAAAAAAAAAAAAA\n",
       "AAAAAAAAAAAAAAAAAAAAAAAAAAAAAAAAAAAAAAAAAAAv3aB7AAAAD3RSTlMAMom7Iplm783dEER2\n",
       "VKthCJTuAAAACXBIWXMAAA7EAAAOxAGVKw4bAAAAu0lEQVQY02NgQAds7cY/ppsxYAPMLA+4n1lh\n",
       "l1FgMJDDJRPCgSxyeObMBrgMM5LEjlNIel6tY2BgVGYJSgDyWbqQTGO0bWFgYGIOYioA8jkcEDIV\n",
       "8+csYGBw45jAqgCSQXKBWhbIQin+BDBffCYQGEBNs0oDMfYvAMssRna1KDNIMBLC50SWYRUB6Z4E\n",
       "4fMcQJLhMjgGdO1vqEAvQiaAIY15AwP3BKjAOusFsLD+7MBs8RcpEDZZQkIHCgDXgSgkZs+7ygAA\n",
       "AABJRU5ErkJggg==\n",
       "\" style=\"display:inline;vertical-align:middle;\" /></a>, <a class=\"ProveItLink\" href=\"../__pv_it/demonstrations/13afb291ae03c2910bf1688bfbda2fcf5a0202d50/expr.ipynb\"><img src=\"data:image/png;base64,iVBORw0KGgoAAAANSUhEUgAAAC8AAAAUCAMAAAAqRJTwAAAAPFBMVEX///8AAAAAAAAAAAAAAAAA\n",
       "AAAAAAAAAAAAAAAAAAAAAAAAAAAAAAAAAAAAAAAAAAAAAAAAAAAAAAAAAAAo1xBWAAAAE3RSTlMA\n",
       "Mom7Iplm783dEESrVOf16fN22fme/QAAAAlwSFlzAAAOxAAADsQBlSsOGwAAAMxJREFUKM+VkusO\n",
       "wyAIhRHFeqm76Pu/6xTTzWrrIj9MiMcPDgJwH+RgJYRsM8RIaqqXoklMAHB29kDsTaIt15AzfAuT\n",
       "/Dike0e+xUMiLplyVyJXUYS605sW7w59ViFIQsDtGKLleDzLedRQCas+gtJgshnCCf6nRxAOkh67\n",
       "p1Pqqt5nfjlH16abdO0/FL+549MSlL5f7+riOyPJk9dMtjji+4qax0GGvfheHmgg2LIPW9kQb//j\n",
       "s5Yw7uL6awMu7fEVfhZ6EW/X8CBmlx8wdAWRPHuFhwAAAABJRU5ErkJggg==\n",
       "\" style=\"display:inline;vertical-align:middle;\" /></a> <a class=\"ProveItLink\" href=\"../__pv_it/demonstrations/ef96ec918bf458c55e224aac1426350886ddeb690/proof.ipynb\" style=\"text-decoration: none\">&nbsp;&#x22A2;&nbsp;&nbsp;</a><a class=\"ProveItLink\" href=\"../__pv_it/demonstrations/b5b9699cb86b6893f6e3a183e3782057b660119c0/expr.ipynb\"><img src=\"data:image/png;base64,iVBORw0KGgoAAAANSUhEUgAAAEcAAAAVCAMAAAAjKAPRAAAAOVBMVEX///8AAAAAAAAAAAAAAAAA\n",
       "AAAAAAAAAAAAAAAAAAAAAAAAAAAAAAAAAAAAAAAAAAAAAAAAAAAAAAACXHtMAAAAEnRSTlMAMom7\n",
       "Iplm783dEER2VKvt5cknQN27AAAACXBIWXMAAA7EAAAOxAGVKw4bAAABJUlEQVQ4y61UiXLFIAhE\n",
       "8UA8Xp///7FVczSHpnlNmQkZJrJhFxDggTH8i0nfvAzyEYxK1ZsA4PEJTlLVW1FcVn+H8Y2NylUk\n",
       "G+9kGLKImZxF02KN1V7lMSAajjP3/o1NDJ8Mri0KU+qEY8NtHNleIi0tn6WdeOX4EY5WQDOvrzc2\n",
       "Xpc6B3TFqIczl7HWBaH2PXUbQYH79STmOeNHpzqHukZCllNaroor4gEvgZEmArGjqwTUEqRdYlJd\n",
       "fSy57JZCqTPdBsgV6uuO0EBnY3j5FP35iGDI2ykS1s2GB17I5nLcfN4Kwjjqu9Bbec+m3S50w/nR\n",
       "Ql0ttttfHyGMcEqpYcxM5YNqFHs4ui6sAfRDeY5EOKHn875jmQdEurtK09WC+7343b4BR7gH3FdS\n",
       "v+AAAAAASUVORK5CYII=\n",
       "\" style=\"display:inline;vertical-align:middle;\" /></a></span>"
      ],
      "text/plain": [
       "{r in Real, r != 0} |- r in RealNonZero"
      ]
     },
     "metadata": {},
     "output_type": "display_data"
    }
   ],
   "source": [
    "InSet(r, RealNonZero).prove(assumptions=[InSet(r, Real), NotEquals(r, zero)])"
   ]
  },
  {
   "cell_type": "code",
   "execution_count": 160,
   "metadata": {},
   "outputs": [
    {
     "data": {
      "text/html": [
       "<span style=\"font-size:20px;\"><a class=\"ProveItLink\" href=\"../__pv_it/demonstrations/619064660bea43de10a0abd6495f8cdd14c3dac70/expr.ipynb\"><img src=\"data:image/png;base64,iVBORw0KGgoAAAANSUhEUgAAADIAAAAQBAMAAACmdTG/AAAAMFBMVEX///8AAAAAAAAAAAAAAAAA\n",
       "AAAAAAAAAAAAAAAAAAAAAAAAAAAAAAAAAAAAAAAAAAAv3aB7AAAAD3RSTlMAMom7Iplm783dEER2\n",
       "VKthCJTuAAAACXBIWXMAAA7EAAAOxAGVKw4bAAAAu0lEQVQY02NgQAds7cY/ppsxYAPMLA+4n1lh\n",
       "l1FgMJDDJRPCgSxyeObMBrgMM5LEjlNIel6tY2BgVGYJSgDyWbqQTGO0bWFgYGIOYioA8jkcEDIV\n",
       "8+csYGBw45jAqgCSQXKBWhbIQin+BDBffCYQGEBNs0oDMfYvAMssRna1KDNIMBLC50SWYRUB6Z4E\n",
       "4fMcQJLhMjgGdO1vqEAvQiaAIY15AwP3BKjAOusFsLD+7MBs8RcpEDZZQkIHCgDXgSgkZs+7ygAA\n",
       "AABJRU5ErkJggg==\n",
       "\" style=\"display:inline;vertical-align:middle;\" /></a>, <a class=\"ProveItLink\" href=\"../__pv_it/demonstrations/4fbcb7a28aa1a7b57995427d328be52fe3a024f90/expr.ipynb\"><img src=\"data:image/png;base64,iVBORw0KGgoAAAANSUhEUgAAAC8AAAAQBAMAAAB0JTvnAAAAMFBMVEX///8AAAAAAAAAAAAAAAAA\n",
       "AAAAAAAAAAAAAAAAAAAAAAAAAAAAAAAAAAAAAAAAAAAv3aB7AAAAD3RSTlMAMom7Iplm783dEER2\n",
       "VKthCJTuAAAACXBIWXMAAA7EAAAOxAGVKw4bAAAAsUlEQVQY02NgwAKUjjpgE2bguMA1BatEJgOD\n",
       "MoK3IgHOtGNguL8AzuPSPABjfmVgkL/AwKjMEgRRfFILqgQkkcDAxBzEVAA1OwpMsXwCShxgcOOY\n",
       "wKoANeNGCFxCgUGKH2Erw45XIKOAEvuBFu5fgCRhBbX8/gUGhkiE+I0nYMqYgSEfqHoSwmMhEDqd\n",
       "gSECaNVvmDjMuQycF7gKGRi4J0BdfxLuQa6gcwII81cmMBAHAFCxKY2aXsX3AAAAAElFTkSuQmCC\n",
       "\" style=\"display:inline;vertical-align:middle;\" /></a> <a class=\"ProveItLink\" href=\"../__pv_it/demonstrations/8642988205b1d5b3e53857f3faed4c9437aba30e0/proof.ipynb\" style=\"text-decoration: none\">&nbsp;&#x22A2;&nbsp;&nbsp;</a><a class=\"ProveItLink\" href=\"../__pv_it/demonstrations/12975aba11f8b68a8a57452eda3863c164b3b1e90/expr.ipynb\"><img src=\"data:image/png;base64,iVBORw0KGgoAAAANSUhEUgAAAD4AAAATBAMAAAA63aOfAAAAMFBMVEX///8AAAAAAAAAAAAAAAAA\n",
       "AAAAAAAAAAAAAAAAAAAAAAAAAAAAAAAAAAAAAAAAAAAv3aB7AAAAD3RSTlMAMom7Iplm783dEER2\n",
       "VKthCJTuAAAACXBIWXMAAA7EAAAOxAGVKw4bAAAAzElEQVQoz2NgwAMCGPADA3Lk2dqNf0w3w6Of\n",
       "meUB9zMrfPIKDAZyDKzGxsXGZjjkQzgw9R+eObMBLs+MIb/jFJL+V+tg8ozKLEEJQJqlC8l8RtsW\n",
       "mDwTcxBTAZDmcEDIV8yfswAWfm4cE1gVQPJI7lPLaoDzpPgTwLT4TCAwgJpvlYZw136wUQyLkf0n\n",
       "yrwAzo2EUJzI8qwiCK9NglA8B5DkuQyOwXgsv6GMXoR8AEMa8wYoj3sClLHOegEs/j47MFv8xQj3\n",
       "TZYzGzAEAZ+WK4vRwOQ/AAAAAElFTkSuQmCC\n",
       "\" style=\"display:inline;vertical-align:middle;\" /></a></span>"
      ],
      "text/plain": [
       "{r in Real, r > 0} |- r in RealPos"
      ]
     },
     "metadata": {},
     "output_type": "display_data"
    }
   ],
   "source": [
    "InSet(r, RealPos).prove(assumptions=[InSet(r, Real), greater(r, zero)])"
   ]
  },
  {
   "cell_type": "code",
   "execution_count": 161,
   "metadata": {},
   "outputs": [
    {
     "data": {
      "text/html": [
       "<span style=\"font-size:20px;\"><a class=\"ProveItLink\" href=\"../__pv_it/demonstrations/619064660bea43de10a0abd6495f8cdd14c3dac70/expr.ipynb\"><img src=\"data:image/png;base64,iVBORw0KGgoAAAANSUhEUgAAADIAAAAQBAMAAACmdTG/AAAAMFBMVEX///8AAAAAAAAAAAAAAAAA\n",
       "AAAAAAAAAAAAAAAAAAAAAAAAAAAAAAAAAAAAAAAAAAAv3aB7AAAAD3RSTlMAMom7Iplm783dEER2\n",
       "VKthCJTuAAAACXBIWXMAAA7EAAAOxAGVKw4bAAAAu0lEQVQY02NgQAds7cY/ppsxYAPMLA+4n1lh\n",
       "l1FgMJDDJRPCgSxyeObMBrgMM5LEjlNIel6tY2BgVGYJSgDyWbqQTGO0bWFgYGIOYioA8jkcEDIV\n",
       "8+csYGBw45jAqgCSQXKBWhbIQin+BDBffCYQGEBNs0oDMfYvAMssRna1KDNIMBLC50SWYRUB6Z4E\n",
       "4fMcQJLhMjgGdO1vqEAvQiaAIY15AwP3BKjAOusFsLD+7MBs8RcpEDZZQkIHCgDXgSgkZs+7ygAA\n",
       "AABJRU5ErkJggg==\n",
       "\" style=\"display:inline;vertical-align:middle;\" /></a>, <a class=\"ProveItLink\" href=\"../__pv_it/demonstrations/852751f5259ab586e8e04031aa81781437c9d3ba0/expr.ipynb\"><img src=\"data:image/png;base64,iVBORw0KGgoAAAANSUhEUgAAAC8AAAAQBAMAAAB0JTvnAAAAMFBMVEX///8AAAAAAAAAAAAAAAAA\n",
       "AAAAAAAAAAAAAAAAAAAAAAAAAAAAAAAAAAAAAAAAAAAv3aB7AAAAD3RSTlMAMom7Iplm783dEERU\n",
       "dqv9c0BAAAAACXBIWXMAAA7EAAAOxAGVKw4bAAAAsUlEQVQY02NgwAKUrjpgE2bgOMA1BatEJgOD\n",
       "MpoQTwuItGNgOL8ARZxtKpj/lYFB/gADozJLUAJEnHcSWJwLJJHAwMQcxFQAFl80FyLP8gkocYHB\n",
       "jWMCqwKI7zqNAUlCgUGKH2IQXw/MJi6gxP4LQLwATQJk+fkDDAyRUC7cKAZjBoZ8oOpJMD7McoZ0\n",
       "BoYIoFW/4UasnQsxlfMAVyEDA/cEJA9CPRJ0TwAtSNhaGAgCAFoiKBJFaJBwAAAAAElFTkSuQmCC\n",
       "\" style=\"display:inline;vertical-align:middle;\" /></a> <a class=\"ProveItLink\" href=\"../__pv_it/demonstrations/39f630f31348251cc1790ea2dcbac7495eed58100/proof.ipynb\" style=\"text-decoration: none\">&nbsp;&#x22A2;&nbsp;&nbsp;</a><a class=\"ProveItLink\" href=\"../__pv_it/demonstrations/e7301d9e4d52a1fb6e5d41fe6c519db248e025230/expr.ipynb\"><img src=\"data:image/png;base64,iVBORw0KGgoAAAANSUhEUgAAAD4AAAAQBAMAAAC8SdExAAAAMFBMVEX///8AAAAAAAAAAAAAAAAA\n",
       "AAAAAAAAAAAAAAAAAAAAAAAAAAAAAAAAAAAAAAAAAAAv3aB7AAAAD3RSTlMAMom7Iplm783dEER2\n",
       "VKthCJTuAAAACXBIWXMAAA7EAAAOxAGVKw4bAAAAw0lEQVQY02NgQAds7cY/ppsx4AbMLA+4n1nh\n",
       "k1dgMJBjYDQGAhMc8iEcmOKHZ85sgMszY0jvOIWk/9U6mDCjMktQApBm6UIyn9G2BcZjYg5iKgDS\n",
       "HA4I+Yr5cxbAeG4cE1gVQPJI7lPLaoDzpPgTwLT4TCAwgJpvlYZw136IUYuR/SfKDDefIRJCcSLL\n",
       "s4oYwLmTIBTPASR5LoNjMB7LbyijFyEfwJDGvAHK454AZayzXgCLv88OzBZ/MQJwk+XMBgxBALIA\n",
       "KSUYQuVBAAAAAElFTkSuQmCC\n",
       "\" style=\"display:inline;vertical-align:middle;\" /></a></span>"
      ],
      "text/plain": [
       "{r in Real, r < 0} |- r in RealNeg"
      ]
     },
     "metadata": {},
     "output_type": "display_data"
    }
   ],
   "source": [
    "InSet(r, RealNeg).prove(assumptions=[InSet(r, Real), Less(r, zero)])"
   ]
  },
  {
   "cell_type": "code",
   "execution_count": 162,
   "metadata": {},
   "outputs": [
    {
     "data": {
      "text/html": [
       "<span style=\"font-size:20px;\"><a class=\"ProveItLink\" href=\"../__pv_it/demonstrations/619064660bea43de10a0abd6495f8cdd14c3dac70/expr.ipynb\"><img src=\"data:image/png;base64,iVBORw0KGgoAAAANSUhEUgAAADIAAAAQBAMAAACmdTG/AAAAMFBMVEX///8AAAAAAAAAAAAAAAAA\n",
       "AAAAAAAAAAAAAAAAAAAAAAAAAAAAAAAAAAAAAAAAAAAv3aB7AAAAD3RSTlMAMom7Iplm783dEER2\n",
       "VKthCJTuAAAACXBIWXMAAA7EAAAOxAGVKw4bAAAAu0lEQVQY02NgQAds7cY/ppsxYAPMLA+4n1lh\n",
       "l1FgMJDDJRPCgSxyeObMBrgMM5LEjlNIel6tY2BgVGYJSgDyWbqQTGO0bWFgYGIOYioA8jkcEDIV\n",
       "8+csYGBw45jAqgCSQXKBWhbIQin+BDBffCYQGEBNs0oDMfYvAMssRna1KDNIMBLC50SWYRUB6Z4E\n",
       "4fMcQJLhMjgGdO1vqEAvQiaAIY15AwP3BKjAOusFsLD+7MBs8RcpEDZZQkIHCgDXgSgkZs+7ygAA\n",
       "AABJRU5ErkJggg==\n",
       "\" style=\"display:inline;vertical-align:middle;\" /></a>, <a class=\"ProveItLink\" href=\"../__pv_it/demonstrations/ceb2d14f78c448fe02261edd5eb78b8090d070ec0/expr.ipynb\"><img src=\"data:image/png;base64,iVBORw0KGgoAAAANSUhEUgAAAC8AAAARBAMAAAC/eehCAAAAMFBMVEX///8AAAAAAAAAAAAAAAAA\n",
       "AAAAAAAAAAAAAAAAAAAAAAAAAAAAAAAAAAAAAAAAAAAv3aB7AAAAD3RSTlMAMom7Iplm783dEER2\n",
       "VKthCJTuAAAACXBIWXMAAA7EAAAOxAGVKw4bAAAArUlEQVQY02NgwAKUjjogOCsS4EyOC1xTEBJc\n",
       "mgdgzEwGBmVkA05qQRl2DAz3FyDLZEJlvjIwyF9gYFRmCYIZfyMEbChIIoGBiTmIqQCmZ8crIMHy\n",
       "CShxgMGNYwKrAlzCCiahwCDFj3DnjSdgo4AS+4FO3A93QGYU3PL7FxgYIjGca8zAkA9UPQnDg+kM\n",
       "DBFAq35jBAnnBa5CBgbuCRhhyBV0ToCBArByJghMhPMBqnMs+SGnUN4AAAAASUVORK5CYII=\n",
       "\" style=\"display:inline;vertical-align:middle;\" /></a> <a class=\"ProveItLink\" href=\"../__pv_it/demonstrations/0187ced8ca4e6c913789b2585c84a912451694cf0/proof.ipynb\" style=\"text-decoration: none\">&nbsp;&#x22A2;&nbsp;&nbsp;</a><a class=\"ProveItLink\" href=\"../__pv_it/demonstrations/d577b5714234a04021074bfda1665bc7eb1a25870/expr.ipynb\"><img src=\"data:image/png;base64,iVBORw0KGgoAAAANSUhEUgAAAEgAAAAUBAMAAADcj2b4AAAAMFBMVEX///8AAAAAAAAAAAAAAAAA\n",
       "AAAAAAAAAAAAAAAAAAAAAAAAAAAAAAAAAAAAAAAAAAAv3aB7AAAAD3RSTlMAMom7Iplm783dEER2\n",
       "VKthCJTuAAAACXBIWXMAAA7EAAAOxAGVKw4bAAABIElEQVQoz2NgwAmEN4AppUMMeACX8gUgyXaA\n",
       "2wCfKobDCQwM7AIMX/AqYkg+wOC/gKEWi0xGsX1ncQKEne4gv4BhGjb9Bn4M+5IXgFiLrBmAimqw\n",
       "KnJiYGZ8AGS4PmQAWfcXhyJWhwYGBj+gGnSH81jOnIFQZMCwLgQseoD7AUINd88ChEl8qx4wrILw\n",
       "lI4uYGBUZgkCe8VjAZJ1wjcckB3AxBzEVABitCDc5N758xSKK904JrAqgBgNSA5PWwGKO2MggBgo\n",
       "xQ8JN8bKmTNnToYqYl6WgOrh/RC3cBkgmcQYYIWqKBJKT0AOp0BnVEWToPQZZEWLeVDsY/kNZXBc\n",
       "gCtyZWBLsEZWxA2zhuvxLngqMGEw7r+ANfFwK0OjBQMAAP5FRMzyvmhIAAAAAElFTkSuQmCC\n",
       "\" style=\"display:inline;vertical-align:middle;\" /></a></span>"
      ],
      "text/plain": [
       "{r in Real, r >= 0} |- r in RealNonNeg"
      ]
     },
     "metadata": {},
     "output_type": "display_data"
    }
   ],
   "source": [
    "InSet(r, RealNonNeg).prove(assumptions=[InSet(r, Real), greater_eq(r, zero)])"
   ]
  },
  {
   "cell_type": "code",
   "execution_count": 163,
   "metadata": {},
   "outputs": [
    {
     "data": {
      "text/html": [
       "<span style=\"font-size:20px;\"><a class=\"ProveItLink\" href=\"../__pv_it/demonstrations/619064660bea43de10a0abd6495f8cdd14c3dac70/expr.ipynb\"><img src=\"data:image/png;base64,iVBORw0KGgoAAAANSUhEUgAAADIAAAAQBAMAAACmdTG/AAAAMFBMVEX///8AAAAAAAAAAAAAAAAA\n",
       "AAAAAAAAAAAAAAAAAAAAAAAAAAAAAAAAAAAAAAAAAAAv3aB7AAAAD3RSTlMAMom7Iplm783dEER2\n",
       "VKthCJTuAAAACXBIWXMAAA7EAAAOxAGVKw4bAAAAu0lEQVQY02NgQAds7cY/ppsxYAPMLA+4n1lh\n",
       "l1FgMJDDJRPCgSxyeObMBrgMM5LEjlNIel6tY2BgVGYJSgDyWbqQTGO0bWFgYGIOYioA8jkcEDIV\n",
       "8+csYGBw45jAqgCSQXKBWhbIQin+BDBffCYQGEBNs0oDMfYvAMssRna1KDNIMBLC50SWYRUB6Z4E\n",
       "4fMcQJLhMjgGdO1vqEAvQiaAIY15AwP3BKjAOusFsLD+7MBs8RcpEDZZQkIHCgDXgSgkZs+7ygAA\n",
       "AABJRU5ErkJggg==\n",
       "\" style=\"display:inline;vertical-align:middle;\" /></a>, <a class=\"ProveItLink\" href=\"../__pv_it/demonstrations/0354d8cf2a05630211843c3bf449e55f39c83dd40/expr.ipynb\"><img src=\"data:image/png;base64,iVBORw0KGgoAAAANSUhEUgAAAC8AAAARBAMAAAC/eehCAAAAMFBMVEX///8AAAAAAAAAAAAAAAAA\n",
       "AAAAAAAAAAAAAAAAAAAAAAAAAAAAAAAAAAAAAAAAAAAv3aB7AAAAD3RSTlMAMom7Iplm783dEERU\n",
       "dqv9c0BAAAAACXBIWXMAAA7EAAAOxAGVKw4bAAAAr0lEQVQY02NgwAKUrjqgifC0gEiOA1xTUMXZ\n",
       "pi4AUZkMDMoo4ryTwOIMdgwM5xcgiS+aC2V8ZWCQP8DAqMwSlADiLp0GFecCSSQwMDEHMRUAuet6\n",
       "YDpZPgElLjC4cUxgVQBy+VAlFBik+BMgfFe4UUCJ/ReAeAEWy88fYGCIxHCuMQNDPpA1CcOD6QwM\n",
       "EUCrfiMHSSOI5DzAVcjAwD0BIwy5gu4JMFAAVs4EgYlwPgCCTiyk65NkuQAAAABJRU5ErkJggg==\n",
       "\" style=\"display:inline;vertical-align:middle;\" /></a> <a class=\"ProveItLink\" href=\"../__pv_it/demonstrations/3a9210e91377c68c81b475de1aacd048222f459f0/proof.ipynb\" style=\"text-decoration: none\">&nbsp;&#x22A2;&nbsp;&nbsp;</a><a class=\"ProveItLink\" href=\"../__pv_it/demonstrations/879f0ab46be8c6e6ae960dd27ef7c6288d05b9cf0/expr.ipynb\"><img src=\"data:image/png;base64,iVBORw0KGgoAAAANSUhEUgAAAEgAAAAUBAMAAADcj2b4AAAAMFBMVEX///8AAAAAAAAAAAAAAAAA\n",
       "AAAAAAAAAAAAAAAAAAAAAAAAAAAAAAAAAAAAAAAAAAAv3aB7AAAAD3RSTlMAMom7Iplm783dEER2\n",
       "VKthCJTuAAAACXBIWXMAAA7EAAAOxAGVKw4bAAABHklEQVQoz2NgwAsuOzAoHWIgoOYAA9sBbgO8\n",
       "apITGBjYBRi+4FNz+AKQ8F/AUItFLqPYvrMYaIY4SA2D/AKGadhMMPBj2Je8gIHXaAFEUQ1WRU4M\n",
       "zIwPGBi4QaqA1v3FoYjVoQHIYHzqgO5wHsuZMxCKwP5mebeA5wD3A4Qa7p4FCJP4VkFkWBgYlI4u\n",
       "YGBUZglKAPE9FiBZJ3zDAdkBTMxBTAUgRgvCTe6dP0+huNKNYwKrAojRgOTwtBVAStgYCCAGSvGD\n",
       "LWNgrJw5c+ZkqCLmZQmoHt4PcQuXAZJJjAFWqIoiofQE5HAKdEZVNAlKn0FWtJgHxT6W31AGxwW4\n",
       "IlcGtgRrZEXcMGu4Hu+CpwITBuP+C1iTD7cyNFowAABhpkWcYupqmwAAAABJRU5ErkJggg==\n",
       "\" style=\"display:inline;vertical-align:middle;\" /></a></span>"
      ],
      "text/plain": [
       "{r in Real, r <= 0} |- r in RealNonPos"
      ]
     },
     "metadata": {},
     "output_type": "display_data"
    }
   ],
   "source": [
    "InSet(r, RealNonPos).prove(assumptions=[InSet(r, Real), LessEq(r, zero)])"
   ]
  },
  {
   "cell_type": "code",
   "execution_count": 164,
   "metadata": {},
   "outputs": [
    {
     "data": {
      "text/html": [
       "<span style=\"font-size:20px;\"><a class=\"ProveItLink\" href=\"../__pv_it/demonstrations/723a8901aec4502251179fbac282281021a2aad50/expr.ipynb\"><img src=\"data:image/png;base64,iVBORw0KGgoAAAANSUhEUgAAADMAAAASBAMAAAAEf/uKAAAAMFBMVEX///8AAAAAAAAAAAAAAAAA\n",
       "AAAAAAAAAAAAAAAAAAAAAAAAAAAAAAAAAAAAAAAAAAAv3aB7AAAAD3RSTlMAMom7Iplm783dEER2\n",
       "VKthCJTuAAAACXBIWXMAAA7EAAAOxAGVKw4bAAAA5ElEQVQY02NgwARcysamDgxYwblCBs9HWGWY\n",
       "khIYuKMNsEkJcQAJgxxkIR7LmTNAtNU6IKHIgSTD3bMA4ggDGSB5l1WAgVGZJSgBJOQBkWFgVNgG\n",
       "JLexXWBgYg5iKgAJtcB0H8gFkjK8CQxuHBNYFUBCDVApFoVrIF08Gxik+BMg5lTOnDlzMogFtQto\n",
       "/n6Y7TD3WPnBXBgJFZkAk9oE9hfIwklQkTMwKVZQaLwGGsLyGyrCcQEmpwcMw6cgt8IM4nq8C+bG\n",
       "+I6vAihhx60MCSgGBj6BHAZc4A3PW2kcUryP280YAMq3L+hMqCNBAAAAAElFTkSuQmCC\n",
       "\" style=\"display:inline;vertical-align:middle;\" /></a> <a class=\"ProveItLink\" href=\"../__pv_it/demonstrations/57474dbf47f11c922aaef0c15f1cd08ca458ed560/proof.ipynb\" style=\"text-decoration: none\">&nbsp;&#x22A2;&nbsp;&nbsp;</a><a class=\"ProveItLink\" href=\"../__pv_it/demonstrations/619064660bea43de10a0abd6495f8cdd14c3dac70/expr.ipynb\"><img src=\"data:image/png;base64,iVBORw0KGgoAAAANSUhEUgAAADIAAAAQBAMAAACmdTG/AAAAMFBMVEX///8AAAAAAAAAAAAAAAAA\n",
       "AAAAAAAAAAAAAAAAAAAAAAAAAAAAAAAAAAAAAAAAAAAv3aB7AAAAD3RSTlMAMom7Iplm783dEER2\n",
       "VKthCJTuAAAACXBIWXMAAA7EAAAOxAGVKw4bAAAAu0lEQVQY02NgQAds7cY/ppsxYAPMLA+4n1lh\n",
       "l1FgMJDDJRPCgSxyeObMBrgMM5LEjlNIel6tY2BgVGYJSgDyWbqQTGO0bWFgYGIOYioA8jkcEDIV\n",
       "8+csYGBw45jAqgCSQXKBWhbIQin+BDBffCYQGEBNs0oDMfYvAMssRna1KDNIMBLC50SWYRUB6Z4E\n",
       "4fMcQJLhMjgGdO1vqEAvQiaAIY15AwP3BKjAOusFsLD+7MBs8RcpEDZZQkIHCgDXgSgkZs+7ygAA\n",
       "AABJRU5ErkJggg==\n",
       "\" style=\"display:inline;vertical-align:middle;\" /></a></span>"
      ],
      "text/plain": [
       "{r in Rational} |- r in Real"
      ]
     },
     "metadata": {},
     "output_type": "display_data"
    }
   ],
   "source": [
    "InSet(r, Real).prove(assumptions=[InSet(r, Rational)])"
   ]
  },
  {
   "cell_type": "code",
   "execution_count": 165,
   "metadata": {},
   "outputs": [
    {
     "data": {
      "text/html": [
       "<span style=\"font-size:20px;\"><a class=\"ProveItLink\" href=\"../__pv_it/demonstrations/a6fbdf741202d7fb8f8d9a72f3e58361a04735230/expr.ipynb\"><img src=\"data:image/png;base64,iVBORw0KGgoAAAANSUhEUgAAAEgAAAAXCAMAAACf6/lXAAAAOVBMVEX///8AAAAAAAAAAAAAAAAA\n",
       "AAAAAAAAAAAAAAAAAAAAAAAAAAAAAAAAAAAAAAAAAAAAAAAAAAAAAAACXHtMAAAAEnRSTlMAMom7\n",
       "Iplm783dEER2VKvt5cknQN27AAAACXBIWXMAAA7EAAAOxAGVKw4bAAABRElEQVQ4y61UiXKFIAwM\n",
       "CcgVaMv/f2y51Iro2PFlRgQlC7s5AN6Yg88Y+joi4zscGcu4MICnV0BRllGLPCT5AsdXQjIVoXR4\n",
       "LCtSNtUOVmVOX/lZQFQguzzE4VgYSBt3Wbn5NiDND8OzYHXzapPV9Umjlp5REwimzagGqVD7/qFK\n",
       "7V5sJpvNrEtyLvariQ4p4ra3hD/Ow2H4kLKZhegahABKNOydN7Jy9d4EUuEuuzTuxMz33/m9FDnC\n",
       "RFwEUgiotw9m5Ou5eRdMhlAwzSTPFzA267fH9bRJYvNuN+JcYMFPIuIgHbJJaNttK6CjRpcl79Mo\n",
       "7Wjk5Bi1mSl7XNtZVe15dJ16dugmfI6IWjM73jQMmUblzPlQXGtN3XSDExUXyY+KSpWMSS0Z/9Vq\n",
       "6G+JtDYmap19wCLnbhKEf48UIhlNFy3sFzXhCOzdzM5GAAAAAElFTkSuQmCC\n",
       "\" style=\"display:inline;vertical-align:middle;\" /></a> <a class=\"ProveItLink\" href=\"../__pv_it/demonstrations/7a9981490666a8b22c423f78b3a3e75d2d9742520/proof.ipynb\" style=\"text-decoration: none\">&nbsp;&#x22A2;&nbsp;&nbsp;</a><a class=\"ProveItLink\" href=\"../__pv_it/demonstrations/b5b9699cb86b6893f6e3a183e3782057b660119c0/expr.ipynb\"><img src=\"data:image/png;base64,iVBORw0KGgoAAAANSUhEUgAAAEcAAAAVCAMAAAAjKAPRAAAAOVBMVEX///8AAAAAAAAAAAAAAAAA\n",
       "AAAAAAAAAAAAAAAAAAAAAAAAAAAAAAAAAAAAAAAAAAAAAAAAAAAAAAACXHtMAAAAEnRSTlMAMom7\n",
       "Iplm783dEER2VKvt5cknQN27AAAACXBIWXMAAA7EAAAOxAGVKw4bAAABJUlEQVQ4y61UiXLFIAhE\n",
       "8UA8Xp///7FVczSHpnlNmQkZJrJhFxDggTH8i0nfvAzyEYxK1ZsA4PEJTlLVW1FcVn+H8Y2NylUk\n",
       "G+9kGLKImZxF02KN1V7lMSAajjP3/o1NDJ8Mri0KU+qEY8NtHNleIi0tn6WdeOX4EY5WQDOvrzc2\n",
       "Xpc6B3TFqIczl7HWBaH2PXUbQYH79STmOeNHpzqHukZCllNaroor4gEvgZEmArGjqwTUEqRdYlJd\n",
       "fSy57JZCqTPdBsgV6uuO0EBnY3j5FP35iGDI2ykS1s2GB17I5nLcfN4Kwjjqu9Bbec+m3S50w/nR\n",
       "Ql0ttttfHyGMcEqpYcxM5YNqFHs4ui6sAfRDeY5EOKHn875jmQdEurtK09WC+7343b4BR7gH3FdS\n",
       "v+AAAAAASUVORK5CYII=\n",
       "\" style=\"display:inline;vertical-align:middle;\" /></a></span>"
      ],
      "text/plain": [
       "{r in RationalNonZero} |- r in RealNonZero"
      ]
     },
     "metadata": {},
     "output_type": "display_data"
    }
   ],
   "source": [
    "InSet(r, RealNonZero).prove(assumptions=[InSet(r, RationalNonZero)])"
   ]
  },
  {
   "cell_type": "code",
   "execution_count": 166,
   "metadata": {},
   "outputs": [
    {
     "data": {
      "text/html": [
       "<span style=\"font-size:20px;\"><a class=\"ProveItLink\" href=\"../__pv_it/demonstrations/de0e18dbbb7d301b149a1560a15b35c9b386abab0/expr.ipynb\"><img src=\"data:image/png;base64,iVBORw0KGgoAAAANSUhEUgAAAD8AAAAVBAMAAAADRiu8AAAAMFBMVEX///8AAAAAAAAAAAAAAAAA\n",
       "AAAAAAAAAAAAAAAAAAAAAAAAAAAAAAAAAAAAAAAAAAAv3aB7AAAAD3RSTlMAMom7Iplm783dEER2\n",
       "VKthCJTuAAAACXBIWXMAAA7EAAAOxAGVKw4bAAAA+klEQVQoz2NgwANYGQgAZnIVcCkbmzrgU3Cu\n",
       "kMHzER4FTEkJDNzRBgzBxubGxglYFAhxAAmDHEwTeCxnzgDRVuuAhCIHhgLungUQJxrIAMm7rAJQ\n",
       "BYzKLEFgizwg8gyMCtuA5Da2C1AFTMxBTAUgRgvMpAO5QFKGNwEakm4cE1gVQIwGqAIWhWsgE3g2\n",
       "QPlS/BCfMFbOnDlzMogFdcMCmOP2w9wGE7Dyg/kCAiKh9ASYwCZwOOTCFUyC0mfgkQwKyddwA1l+\n",
       "QxkcF2BCesC4eIoIH5jRXI93wfTEd3wVwBIH3MqQoGZg4BPIIZBS3vC8lcargPdxuxmUCQD6EDGN\n",
       "D0MsKwAAAABJRU5ErkJggg==\n",
       "\" style=\"display:inline;vertical-align:middle;\" /></a> <a class=\"ProveItLink\" href=\"../__pv_it/demonstrations/d0fcb51ed9556f2b7f52deb6abca0f19cb45c5330/proof.ipynb\" style=\"text-decoration: none\">&nbsp;&#x22A2;&nbsp;&nbsp;</a><a class=\"ProveItLink\" href=\"../__pv_it/demonstrations/12975aba11f8b68a8a57452eda3863c164b3b1e90/expr.ipynb\"><img src=\"data:image/png;base64,iVBORw0KGgoAAAANSUhEUgAAAD4AAAATBAMAAAA63aOfAAAAMFBMVEX///8AAAAAAAAAAAAAAAAA\n",
       "AAAAAAAAAAAAAAAAAAAAAAAAAAAAAAAAAAAAAAAAAAAv3aB7AAAAD3RSTlMAMom7Iplm783dEER2\n",
       "VKthCJTuAAAACXBIWXMAAA7EAAAOxAGVKw4bAAAAzElEQVQoz2NgwAMCGPADA3Lk2dqNf0w3w6Of\n",
       "meUB9zMrfPIKDAZyDKzGxsXGZjjkQzgw9R+eObMBLs+MIb/jFJL+V+tg8ozKLEEJQJqlC8l8RtsW\n",
       "mDwTcxBTAZDmcEDIV8yfswAWfm4cE1gVQPJI7lPLaoDzpPgTwLT4TCAwgJpvlYZw136wUQyLkf0n\n",
       "yrwAzo2EUJzI8qwiCK9NglA8B5DkuQyOwXgsv6GMXoR8AEMa8wYoj3sClLHOegEs/j47MFv8xQj3\n",
       "TZYzGzAEAZ+WK4vRwOQ/AAAAAElFTkSuQmCC\n",
       "\" style=\"display:inline;vertical-align:middle;\" /></a></span>"
      ],
      "text/plain": [
       "{r in RationalPos} |- r in RealPos"
      ]
     },
     "metadata": {},
     "output_type": "display_data"
    }
   ],
   "source": [
    "InSet(r, RealPos).prove(assumptions=[InSet(r, RationalPos)])"
   ]
  },
  {
   "cell_type": "code",
   "execution_count": 167,
   "metadata": {},
   "outputs": [
    {
     "data": {
      "text/html": [
       "<span style=\"font-size:20px;\"><a class=\"ProveItLink\" href=\"../__pv_it/demonstrations/ee545c0617098e0c3b9e54ebbfd7d333b1a1db830/expr.ipynb\"><img src=\"data:image/png;base64,iVBORw0KGgoAAAANSUhEUgAAAD8AAAASBAMAAAAeQxsEAAAAMFBMVEX///8AAAAAAAAAAAAAAAAA\n",
       "AAAAAAAAAAAAAAAAAAAAAAAAAAAAAAAAAAAAAAAAAAAv3aB7AAAAD3RSTlMAMom7Iplm783dEER2\n",
       "VKthCJTuAAAACXBIWXMAAA7EAAAOxAGVKw4bAAAA7UlEQVQoz2NgwARcysamDgx4wLlCBs9HeOSZ\n",
       "khIYuKMNGISNgQCbSUIcQMIgB1OCx3LmDBBttQ5IKHJgyHP3LIA40UAGSN5lFYCKMyqzBCWAGB4L\n",
       "oAIK24DkNrYLMCcxBzEVgBgtMJMO5AJJGd4EKN+NYwKrAojRABVgUbgGMoFnA5QvxQ9Rylg5c+bM\n",
       "ySAW1A0LYI7bD3MbTMDKD9UXkVB6AkxgEzgccuEKJkHpMzABVlBIvoYbyPIbyuCA+YtBDxgXTxHh\n",
       "AzOa6/EumJ74jq8CWOKAWxkS1AwMfAI5DPjBG5630ngV8D5uN4MyAfRMMQc4vhzsAAAAAElFTkSu\n",
       "QmCC\n",
       "\" style=\"display:inline;vertical-align:middle;\" /></a> <a class=\"ProveItLink\" href=\"../__pv_it/demonstrations/d5295ead6a8c62528b2d1be4faad53f1cfe6fd2f0/proof.ipynb\" style=\"text-decoration: none\">&nbsp;&#x22A2;&nbsp;&nbsp;</a><a class=\"ProveItLink\" href=\"../__pv_it/demonstrations/e7301d9e4d52a1fb6e5d41fe6c519db248e025230/expr.ipynb\"><img src=\"data:image/png;base64,iVBORw0KGgoAAAANSUhEUgAAAD4AAAAQBAMAAAC8SdExAAAAMFBMVEX///8AAAAAAAAAAAAAAAAA\n",
       "AAAAAAAAAAAAAAAAAAAAAAAAAAAAAAAAAAAAAAAAAAAv3aB7AAAAD3RSTlMAMom7Iplm783dEER2\n",
       "VKthCJTuAAAACXBIWXMAAA7EAAAOxAGVKw4bAAAAw0lEQVQY02NgQAds7cY/ppsx4AbMLA+4n1nh\n",
       "k1dgMJBjYDQGAhMc8iEcmOKHZ85sgMszY0jvOIWk/9U6mDCjMktQApBm6UIyn9G2BcZjYg5iKgDS\n",
       "HA4I+Yr5cxbAeG4cE1gVQPJI7lPLaoDzpPgTwLT4TCAwgJpvlYZw136IUYuR/SfKDDefIRJCcSLL\n",
       "s4oYwLmTIBTPASR5LoNjMB7LbyijFyEfwJDGvAHK454AZayzXgCLv88OzBZ/MQJwk+XMBgxBALIA\n",
       "KSUYQuVBAAAAAElFTkSuQmCC\n",
       "\" style=\"display:inline;vertical-align:middle;\" /></a></span>"
      ],
      "text/plain": [
       "{r in RationalNeg} |- r in RealNeg"
      ]
     },
     "metadata": {},
     "output_type": "display_data"
    }
   ],
   "source": [
    "InSet(r, RealNeg).prove(assumptions=[InSet(r, RationalNeg)])"
   ]
  },
  {
   "cell_type": "code",
   "execution_count": 168,
   "metadata": {},
   "outputs": [
    {
     "data": {
      "text/html": [
       "<span style=\"font-size:20px;\"><a class=\"ProveItLink\" href=\"../__pv_it/demonstrations/1c81cf361930438200fa2c153e99ce24e5d204e20/expr.ipynb\"><img src=\"data:image/png;base64,iVBORw0KGgoAAAANSUhEUgAAAEgAAAAWBAMAAACRR8fzAAAAMFBMVEX///8AAAAAAAAAAAAAAAAA\n",
       "AAAAAAAAAAAAAAAAAAAAAAAAAAAAAAAAAAAAAAAAAAAv3aB7AAAAD3RSTlMAMom7Iplm783dEER2\n",
       "VKthCJTuAAAACXBIWXMAAA7EAAAOxAGVKw4bAAABQ0lEQVQoz2NgwAmEN4AppUMMeACX8gUgyXaA\n",
       "2wCfKobDCQwM7AIMX/AqYkg+wOC/gKEWuz3Gpg4QZrqD/AKGadgUnStk8HwEZi2yZgAqqsGihikp\n",
       "gYE7GuRa14cMIOv+YlEkxAEkDHIYGPyAatAdzmM5cwaItloHJBQ5GNaFgEUPcD9AqOHuWQBxtoEM\n",
       "kLzLKrAKIq50dAEDozJLUAKI4wFRw8CosA1IbmO7gOxM5iCmAhCjBWbigVwgKcObgKTIjWMCqwKI\n",
       "0QAVYFG4BjKJZ4OwMRBAwkuKH6KFsXLmzJmTQSyomxYg+3g/zL0wASs/iO+QQSSUngAT2AQOp1wU\n",
       "RZOg9BmYACsoxF+jpA+W31AGB9zPesC4e4piEDfMGq7Hu2D64ju+CuBIPNzKkGhhYOATyGEgDN7w\n",
       "vJUmqIj3cbsZEhcAibNHs//uLUIAAAAASUVORK5CYII=\n",
       "\" style=\"display:inline;vertical-align:middle;\" /></a> <a class=\"ProveItLink\" href=\"../__pv_it/demonstrations/060bafa16fe43996e7be39566072a129e2d3f4cd0/proof.ipynb\" style=\"text-decoration: none\">&nbsp;&#x22A2;&nbsp;&nbsp;</a><a class=\"ProveItLink\" href=\"../__pv_it/demonstrations/d577b5714234a04021074bfda1665bc7eb1a25870/expr.ipynb\"><img src=\"data:image/png;base64,iVBORw0KGgoAAAANSUhEUgAAAEgAAAAUBAMAAADcj2b4AAAAMFBMVEX///8AAAAAAAAAAAAAAAAA\n",
       "AAAAAAAAAAAAAAAAAAAAAAAAAAAAAAAAAAAAAAAAAAAv3aB7AAAAD3RSTlMAMom7Iplm783dEER2\n",
       "VKthCJTuAAAACXBIWXMAAA7EAAAOxAGVKw4bAAABIElEQVQoz2NgwAmEN4AppUMMeACX8gUgyXaA\n",
       "2wCfKobDCQwM7AIMX/AqYkg+wOC/gKEWi0xGsX1ncQKEne4gv4BhGjb9Bn4M+5IXgFiLrBmAimqw\n",
       "KnJiYGZ8AGS4PmQAWfcXhyJWhwYGBj+gGnSH81jOnIFQZMCwLgQseoD7AUINd88ChEl8qx4wrILw\n",
       "lI4uYGBUZgkCe8VjAZJ1wjcckB3AxBzEVABitCDc5N758xSKK904JrAqgBgNSA5PWwGKO2MggBgo\n",
       "xQ8JN8bKmTNnToYqYl6WgOrh/RC3cBkgmcQYYIWqKBJKT0AOp0BnVEWToPQZZEWLeVDsY/kNZXBc\n",
       "gCtyZWBLsEZWxA2zhuvxLngqMGEw7r+ANfFwK0OjBQMAAP5FRMzyvmhIAAAAAElFTkSuQmCC\n",
       "\" style=\"display:inline;vertical-align:middle;\" /></a></span>"
      ],
      "text/plain": [
       "{r in RationalNonNeg} |- r in RealNonNeg"
      ]
     },
     "metadata": {},
     "output_type": "display_data"
    }
   ],
   "source": [
    "InSet(r, RealNonNeg).prove(assumptions=[InSet(r, RationalNonNeg)])"
   ]
  },
  {
   "cell_type": "code",
   "execution_count": 169,
   "metadata": {},
   "outputs": [
    {
     "data": {
      "text/html": [
       "<span style=\"font-size:20px;\"><a class=\"ProveItLink\" href=\"../__pv_it/demonstrations/8297fc0cd35a1cb7a6c149e26b0070913129560a0/expr.ipynb\"><img src=\"data:image/png;base64,iVBORw0KGgoAAAANSUhEUgAAAEgAAAAWBAMAAACRR8fzAAAAMFBMVEX///8AAAAAAAAAAAAAAAAA\n",
       "AAAAAAAAAAAAAAAAAAAAAAAAAAAAAAAAAAAAAAAAAAAv3aB7AAAAD3RSTlMAMom7Iplm783dEER2\n",
       "VKthCJTuAAAACXBIWXMAAA7EAAAOxAGVKw4bAAABRUlEQVQoz2NgwAsuOzAoHWIgoOYAA9sBbgO8\n",
       "apITGBjYBRi+4FNz+AKQ8F/AUItNkkvZ2NSBgUEcpIZBfgHDNGyKzhUyeD5iYOA1WgBRVINFDVNS\n",
       "AgN3NNC13CBVQOv+YlEkxAEkDHKABONTB3SH81jOnAGirdYBCUWQSgaWdwt4DnA/QKjh7lkAcbaB\n",
       "DJC8yyoAVsXAoHR0AQOjMktQAojvAVHDwKiwDUhuY7uA7EzmIKYCEKMFZuKBXCApw5uApMiNYwKr\n",
       "AojRABVgUbgGMolng7AxEDiAxaT4IVoYK2fOnDkZxIK6aQGyj/fD3AsTsPKD+w4OIqH0BJjAJnA4\n",
       "5aIomgSlz8AEWEEh/holfbD8hjI44H7WA8bdUxSDuGHWcD3eBdMX3/FVAEfy4VaGRAsDA59ADgNh\n",
       "8IbnrTRBRbyP282QuAApNEiD3ReVhwAAAABJRU5ErkJggg==\n",
       "\" style=\"display:inline;vertical-align:middle;\" /></a> <a class=\"ProveItLink\" href=\"../__pv_it/demonstrations/28cef7f043ed968b862773b48c0815d38992c24c0/proof.ipynb\" style=\"text-decoration: none\">&nbsp;&#x22A2;&nbsp;&nbsp;</a><a class=\"ProveItLink\" href=\"../__pv_it/demonstrations/879f0ab46be8c6e6ae960dd27ef7c6288d05b9cf0/expr.ipynb\"><img src=\"data:image/png;base64,iVBORw0KGgoAAAANSUhEUgAAAEgAAAAUBAMAAADcj2b4AAAAMFBMVEX///8AAAAAAAAAAAAAAAAA\n",
       "AAAAAAAAAAAAAAAAAAAAAAAAAAAAAAAAAAAAAAAAAAAv3aB7AAAAD3RSTlMAMom7Iplm783dEER2\n",
       "VKthCJTuAAAACXBIWXMAAA7EAAAOxAGVKw4bAAABHklEQVQoz2NgwAsuOzAoHWIgoOYAA9sBbgO8\n",
       "apITGBjYBRi+4FNz+AKQ8F/AUItFLqPYvrMYaIY4SA2D/AKGadhMMPBj2Je8gIHXaAFEUQ1WRU4M\n",
       "zIwPGBi4QaqA1v3FoYjVoQHIYHzqgO5wHsuZMxCKwP5mebeA5wD3A4Qa7p4FCJP4VkFkWBgYlI4u\n",
       "YGBUZglKAPE9FiBZJ3zDAdkBTMxBTAUgRgvCTe6dP0+huNKNYwKrAojRgOTwtBVAStgYCCAGSvGD\n",
       "LWNgrJw5c+ZkqCLmZQmoHt4PcQuXAZJJjAFWqIoiofQE5HAKdEZVNAlKn0FWtJgHxT6W31AGxwW4\n",
       "IlcGtgRrZEXcMGu4Hu+CpwITBuP+C1iTD7cyNFowAABhpkWcYupqmwAAAABJRU5ErkJggg==\n",
       "\" style=\"display:inline;vertical-align:middle;\" /></a></span>"
      ],
      "text/plain": [
       "{r in RationalNonPos} |- r in RealNonPos"
      ]
     },
     "metadata": {},
     "output_type": "display_data"
    }
   ],
   "source": [
    "InSet(r, RealNonPos).prove(assumptions=[InSet(r, RationalNonPos)])"
   ]
  },
  {
   "cell_type": "code",
   "execution_count": 170,
   "metadata": {},
   "outputs": [
    {
     "data": {
      "text/html": [
       "<span style=\"font-size:20px;\"><a class=\"ProveItLink\" href=\"../__pv_it/demonstrations/b5b9699cb86b6893f6e3a183e3782057b660119c0/expr.ipynb\"><img src=\"data:image/png;base64,iVBORw0KGgoAAAANSUhEUgAAAEcAAAAVCAMAAAAjKAPRAAAAOVBMVEX///8AAAAAAAAAAAAAAAAA\n",
       "AAAAAAAAAAAAAAAAAAAAAAAAAAAAAAAAAAAAAAAAAAAAAAAAAAAAAAACXHtMAAAAEnRSTlMAMom7\n",
       "Iplm783dEER2VKvt5cknQN27AAAACXBIWXMAAA7EAAAOxAGVKw4bAAABJUlEQVQ4y61UiXLFIAhE\n",
       "8UA8Xp///7FVczSHpnlNmQkZJrJhFxDggTH8i0nfvAzyEYxK1ZsA4PEJTlLVW1FcVn+H8Y2NylUk\n",
       "G+9kGLKImZxF02KN1V7lMSAajjP3/o1NDJ8Mri0KU+qEY8NtHNleIi0tn6WdeOX4EY5WQDOvrzc2\n",
       "Xpc6B3TFqIczl7HWBaH2PXUbQYH79STmOeNHpzqHukZCllNaroor4gEvgZEmArGjqwTUEqRdYlJd\n",
       "fSy57JZCqTPdBsgV6uuO0EBnY3j5FP35iGDI2ykS1s2GB17I5nLcfN4Kwjjqu9Bbec+m3S50w/nR\n",
       "Ql0ttttfHyGMcEqpYcxM5YNqFHs4ui6sAfRDeY5EOKHn875jmQdEurtK09WC+7343b4BR7gH3FdS\n",
       "v+AAAAAASUVORK5CYII=\n",
       "\" style=\"display:inline;vertical-align:middle;\" /></a> <a class=\"ProveItLink\" href=\"../__pv_it/demonstrations/42b708b4c6f1fc43fe353fce13da7e3c744781930/proof.ipynb\" style=\"text-decoration: none\">&nbsp;&#x22A2;&nbsp;&nbsp;</a><a class=\"ProveItLink\" href=\"../__pv_it/demonstrations/619064660bea43de10a0abd6495f8cdd14c3dac70/expr.ipynb\"><img src=\"data:image/png;base64,iVBORw0KGgoAAAANSUhEUgAAADIAAAAQBAMAAACmdTG/AAAAMFBMVEX///8AAAAAAAAAAAAAAAAA\n",
       "AAAAAAAAAAAAAAAAAAAAAAAAAAAAAAAAAAAAAAAAAAAv3aB7AAAAD3RSTlMAMom7Iplm783dEER2\n",
       "VKthCJTuAAAACXBIWXMAAA7EAAAOxAGVKw4bAAAAu0lEQVQY02NgQAds7cY/ppsxYAPMLA+4n1lh\n",
       "l1FgMJDDJRPCgSxyeObMBrgMM5LEjlNIel6tY2BgVGYJSgDyWbqQTGO0bWFgYGIOYioA8jkcEDIV\n",
       "8+csYGBw45jAqgCSQXKBWhbIQin+BDBffCYQGEBNs0oDMfYvAMssRna1KDNIMBLC50SWYRUB6Z4E\n",
       "4fMcQJLhMjgGdO1vqEAvQiaAIY15AwP3BKjAOusFsLD+7MBs8RcpEDZZQkIHCgDXgSgkZs+7ygAA\n",
       "AABJRU5ErkJggg==\n",
       "\" style=\"display:inline;vertical-align:middle;\" /></a></span>"
      ],
      "text/plain": [
       "{r in RealNonZero} |- r in Real"
      ]
     },
     "metadata": {},
     "output_type": "display_data"
    }
   ],
   "source": [
    "InSet(r, Real).prove(assumptions=[InSet(r, RealNonZero)])"
   ]
  },
  {
   "cell_type": "code",
   "execution_count": 171,
   "metadata": {},
   "outputs": [
    {
     "data": {
      "text/html": [
       "<span style=\"font-size:20px;\"><a class=\"ProveItLink\" href=\"../__pv_it/demonstrations/12975aba11f8b68a8a57452eda3863c164b3b1e90/expr.ipynb\"><img src=\"data:image/png;base64,iVBORw0KGgoAAAANSUhEUgAAAD4AAAATBAMAAAA63aOfAAAAMFBMVEX///8AAAAAAAAAAAAAAAAA\n",
       "AAAAAAAAAAAAAAAAAAAAAAAAAAAAAAAAAAAAAAAAAAAv3aB7AAAAD3RSTlMAMom7Iplm783dEER2\n",
       "VKthCJTuAAAACXBIWXMAAA7EAAAOxAGVKw4bAAAAzElEQVQoz2NgwAMCGPADA3Lk2dqNf0w3w6Of\n",
       "meUB9zMrfPIKDAZyDKzGxsXGZjjkQzgw9R+eObMBLs+MIb/jFJL+V+tg8ozKLEEJQJqlC8l8RtsW\n",
       "mDwTcxBTAZDmcEDIV8yfswAWfm4cE1gVQPJI7lPLaoDzpPgTwLT4TCAwgJpvlYZw136wUQyLkf0n\n",
       "yrwAzo2EUJzI8qwiCK9NglA8B5DkuQyOwXgsv6GMXoR8AEMa8wYoj3sClLHOegEs/j47MFv8xQj3\n",
       "TZYzGzAEAZ+WK4vRwOQ/AAAAAElFTkSuQmCC\n",
       "\" style=\"display:inline;vertical-align:middle;\" /></a> <a class=\"ProveItLink\" href=\"../__pv_it/demonstrations/d65af1126fe4739d2ab074937215605b63742fcf0/proof.ipynb\" style=\"text-decoration: none\">&nbsp;&#x22A2;&nbsp;&nbsp;</a><a class=\"ProveItLink\" href=\"../__pv_it/demonstrations/619064660bea43de10a0abd6495f8cdd14c3dac70/expr.ipynb\"><img src=\"data:image/png;base64,iVBORw0KGgoAAAANSUhEUgAAADIAAAAQBAMAAACmdTG/AAAAMFBMVEX///8AAAAAAAAAAAAAAAAA\n",
       "AAAAAAAAAAAAAAAAAAAAAAAAAAAAAAAAAAAAAAAAAAAv3aB7AAAAD3RSTlMAMom7Iplm783dEER2\n",
       "VKthCJTuAAAACXBIWXMAAA7EAAAOxAGVKw4bAAAAu0lEQVQY02NgQAds7cY/ppsxYAPMLA+4n1lh\n",
       "l1FgMJDDJRPCgSxyeObMBrgMM5LEjlNIel6tY2BgVGYJSgDyWbqQTGO0bWFgYGIOYioA8jkcEDIV\n",
       "8+csYGBw45jAqgCSQXKBWhbIQin+BDBffCYQGEBNs0oDMfYvAMssRna1KDNIMBLC50SWYRUB6Z4E\n",
       "4fMcQJLhMjgGdO1vqEAvQiaAIY15AwP3BKjAOusFsLD+7MBs8RcpEDZZQkIHCgDXgSgkZs+7ygAA\n",
       "AABJRU5ErkJggg==\n",
       "\" style=\"display:inline;vertical-align:middle;\" /></a></span>"
      ],
      "text/plain": [
       "{r in RealPos} |- r in Real"
      ]
     },
     "metadata": {},
     "output_type": "display_data"
    }
   ],
   "source": [
    "InSet(r, Real).prove(assumptions=[InSet(r, RealPos)])"
   ]
  },
  {
   "cell_type": "code",
   "execution_count": 172,
   "metadata": {},
   "outputs": [
    {
     "data": {
      "text/html": [
       "<span style=\"font-size:20px;\"><a class=\"ProveItLink\" href=\"../__pv_it/demonstrations/12975aba11f8b68a8a57452eda3863c164b3b1e90/expr.ipynb\"><img src=\"data:image/png;base64,iVBORw0KGgoAAAANSUhEUgAAAD4AAAATBAMAAAA63aOfAAAAMFBMVEX///8AAAAAAAAAAAAAAAAA\n",
       "AAAAAAAAAAAAAAAAAAAAAAAAAAAAAAAAAAAAAAAAAAAv3aB7AAAAD3RSTlMAMom7Iplm783dEER2\n",
       "VKthCJTuAAAACXBIWXMAAA7EAAAOxAGVKw4bAAAAzElEQVQoz2NgwAMCGPADA3Lk2dqNf0w3w6Of\n",
       "meUB9zMrfPIKDAZyDKzGxsXGZjjkQzgw9R+eObMBLs+MIb/jFJL+V+tg8ozKLEEJQJqlC8l8RtsW\n",
       "mDwTcxBTAZDmcEDIV8yfswAWfm4cE1gVQPJI7lPLaoDzpPgTwLT4TCAwgJpvlYZw136wUQyLkf0n\n",
       "yrwAzo2EUJzI8qwiCK9NglA8B5DkuQyOwXgsv6GMXoR8AEMa8wYoj3sClLHOegEs/j47MFv8xQj3\n",
       "TZYzGzAEAZ+WK4vRwOQ/AAAAAElFTkSuQmCC\n",
       "\" style=\"display:inline;vertical-align:middle;\" /></a> <a class=\"ProveItLink\" href=\"../__pv_it/demonstrations/98c5488f1334f876070e1e204be5abb341bb8a3d0/proof.ipynb\" style=\"text-decoration: none\">&nbsp;&#x22A2;&nbsp;&nbsp;</a><a class=\"ProveItLink\" href=\"../__pv_it/demonstrations/b5b9699cb86b6893f6e3a183e3782057b660119c0/expr.ipynb\"><img src=\"data:image/png;base64,iVBORw0KGgoAAAANSUhEUgAAAEcAAAAVCAMAAAAjKAPRAAAAOVBMVEX///8AAAAAAAAAAAAAAAAA\n",
       "AAAAAAAAAAAAAAAAAAAAAAAAAAAAAAAAAAAAAAAAAAAAAAAAAAAAAAACXHtMAAAAEnRSTlMAMom7\n",
       "Iplm783dEER2VKvt5cknQN27AAAACXBIWXMAAA7EAAAOxAGVKw4bAAABJUlEQVQ4y61UiXLFIAhE\n",
       "8UA8Xp///7FVczSHpnlNmQkZJrJhFxDggTH8i0nfvAzyEYxK1ZsA4PEJTlLVW1FcVn+H8Y2NylUk\n",
       "G+9kGLKImZxF02KN1V7lMSAajjP3/o1NDJ8Mri0KU+qEY8NtHNleIi0tn6WdeOX4EY5WQDOvrzc2\n",
       "Xpc6B3TFqIczl7HWBaH2PXUbQYH79STmOeNHpzqHukZCllNaroor4gEvgZEmArGjqwTUEqRdYlJd\n",
       "fSy57JZCqTPdBsgV6uuO0EBnY3j5FP35iGDI2ykS1s2GB17I5nLcfN4Kwjjqu9Bbec+m3S50w/nR\n",
       "Ql0ttttfHyGMcEqpYcxM5YNqFHs4ui6sAfRDeY5EOKHn875jmQdEurtK09WC+7343b4BR7gH3FdS\n",
       "v+AAAAAASUVORK5CYII=\n",
       "\" style=\"display:inline;vertical-align:middle;\" /></a></span>"
      ],
      "text/plain": [
       "{r in RealPos} |- r in RealNonZero"
      ]
     },
     "metadata": {},
     "output_type": "display_data"
    }
   ],
   "source": [
    "InSet(r, RealNonZero).prove(assumptions=[InSet(r, RealPos)])"
   ]
  },
  {
   "cell_type": "code",
   "execution_count": 173,
   "metadata": {},
   "outputs": [
    {
     "data": {
      "text/html": [
       "<span style=\"font-size:20px;\"><a class=\"ProveItLink\" href=\"../__pv_it/demonstrations/12975aba11f8b68a8a57452eda3863c164b3b1e90/expr.ipynb\"><img src=\"data:image/png;base64,iVBORw0KGgoAAAANSUhEUgAAAD4AAAATBAMAAAA63aOfAAAAMFBMVEX///8AAAAAAAAAAAAAAAAA\n",
       "AAAAAAAAAAAAAAAAAAAAAAAAAAAAAAAAAAAAAAAAAAAv3aB7AAAAD3RSTlMAMom7Iplm783dEER2\n",
       "VKthCJTuAAAACXBIWXMAAA7EAAAOxAGVKw4bAAAAzElEQVQoz2NgwAMCGPADA3Lk2dqNf0w3w6Of\n",
       "meUB9zMrfPIKDAZyDKzGxsXGZjjkQzgw9R+eObMBLs+MIb/jFJL+V+tg8ozKLEEJQJqlC8l8RtsW\n",
       "mDwTcxBTAZDmcEDIV8yfswAWfm4cE1gVQPJI7lPLaoDzpPgTwLT4TCAwgJpvlYZw136wUQyLkf0n\n",
       "yrwAzo2EUJzI8qwiCK9NglA8B5DkuQyOwXgsv6GMXoR8AEMa8wYoj3sClLHOegEs/j47MFv8xQj3\n",
       "TZYzGzAEAZ+WK4vRwOQ/AAAAAElFTkSuQmCC\n",
       "\" style=\"display:inline;vertical-align:middle;\" /></a> <a class=\"ProveItLink\" href=\"../__pv_it/demonstrations/12b1ec8933f6c2d7983867678304ba0cd58f8ca80/proof.ipynb\" style=\"text-decoration: none\">&nbsp;&#x22A2;&nbsp;&nbsp;</a><a class=\"ProveItLink\" href=\"../__pv_it/demonstrations/d577b5714234a04021074bfda1665bc7eb1a25870/expr.ipynb\"><img src=\"data:image/png;base64,iVBORw0KGgoAAAANSUhEUgAAAEgAAAAUBAMAAADcj2b4AAAAMFBMVEX///8AAAAAAAAAAAAAAAAA\n",
       "AAAAAAAAAAAAAAAAAAAAAAAAAAAAAAAAAAAAAAAAAAAv3aB7AAAAD3RSTlMAMom7Iplm783dEER2\n",
       "VKthCJTuAAAACXBIWXMAAA7EAAAOxAGVKw4bAAABIElEQVQoz2NgwAmEN4AppUMMeACX8gUgyXaA\n",
       "2wCfKobDCQwM7AIMX/AqYkg+wOC/gKEWi0xGsX1ncQKEne4gv4BhGjb9Bn4M+5IXgFiLrBmAimqw\n",
       "KnJiYGZ8AGS4PmQAWfcXhyJWhwYGBj+gGnSH81jOnIFQZMCwLgQseoD7AUINd88ChEl8qx4wrILw\n",
       "lI4uYGBUZgkCe8VjAZJ1wjcckB3AxBzEVABitCDc5N758xSKK904JrAqgBgNSA5PWwGKO2MggBgo\n",
       "xQ8JN8bKmTNnToYqYl6WgOrh/RC3cBkgmcQYYIWqKBJKT0AOp0BnVEWToPQZZEWLeVDsY/kNZXBc\n",
       "gCtyZWBLsEZWxA2zhuvxLngqMGEw7r+ANfFwK0OjBQMAAP5FRMzyvmhIAAAAAElFTkSuQmCC\n",
       "\" style=\"display:inline;vertical-align:middle;\" /></a></span>"
      ],
      "text/plain": [
       "{r in RealPos} |- r in RealNonNeg"
      ]
     },
     "metadata": {},
     "output_type": "display_data"
    }
   ],
   "source": [
    "InSet(r, RealNonNeg).prove(assumptions=[InSet(r, RealPos)])"
   ]
  },
  {
   "cell_type": "code",
   "execution_count": 174,
   "metadata": {},
   "outputs": [
    {
     "data": {
      "text/html": [
       "<span style=\"font-size:20px;\"><a class=\"ProveItLink\" href=\"../__pv_it/demonstrations/e7301d9e4d52a1fb6e5d41fe6c519db248e025230/expr.ipynb\"><img src=\"data:image/png;base64,iVBORw0KGgoAAAANSUhEUgAAAD4AAAAQBAMAAAC8SdExAAAAMFBMVEX///8AAAAAAAAAAAAAAAAA\n",
       "AAAAAAAAAAAAAAAAAAAAAAAAAAAAAAAAAAAAAAAAAAAv3aB7AAAAD3RSTlMAMom7Iplm783dEER2\n",
       "VKthCJTuAAAACXBIWXMAAA7EAAAOxAGVKw4bAAAAw0lEQVQY02NgQAds7cY/ppsx4AbMLA+4n1nh\n",
       "k1dgMJBjYDQGAhMc8iEcmOKHZ85sgMszY0jvOIWk/9U6mDCjMktQApBm6UIyn9G2BcZjYg5iKgDS\n",
       "HA4I+Yr5cxbAeG4cE1gVQPJI7lPLaoDzpPgTwLT4TCAwgJpvlYZw136IUYuR/SfKDDefIRJCcSLL\n",
       "s4oYwLmTIBTPASR5LoNjMB7LbyijFyEfwJDGvAHK454AZayzXgCLv88OzBZ/MQJwk+XMBgxBALIA\n",
       "KSUYQuVBAAAAAElFTkSuQmCC\n",
       "\" style=\"display:inline;vertical-align:middle;\" /></a> <a class=\"ProveItLink\" href=\"../__pv_it/demonstrations/8ff345c271ef0204a2b39fe0a8348b0b724948650/proof.ipynb\" style=\"text-decoration: none\">&nbsp;&#x22A2;&nbsp;&nbsp;</a><a class=\"ProveItLink\" href=\"../__pv_it/demonstrations/619064660bea43de10a0abd6495f8cdd14c3dac70/expr.ipynb\"><img src=\"data:image/png;base64,iVBORw0KGgoAAAANSUhEUgAAADIAAAAQBAMAAACmdTG/AAAAMFBMVEX///8AAAAAAAAAAAAAAAAA\n",
       "AAAAAAAAAAAAAAAAAAAAAAAAAAAAAAAAAAAAAAAAAAAv3aB7AAAAD3RSTlMAMom7Iplm783dEER2\n",
       "VKthCJTuAAAACXBIWXMAAA7EAAAOxAGVKw4bAAAAu0lEQVQY02NgQAds7cY/ppsxYAPMLA+4n1lh\n",
       "l1FgMJDDJRPCgSxyeObMBrgMM5LEjlNIel6tY2BgVGYJSgDyWbqQTGO0bWFgYGIOYioA8jkcEDIV\n",
       "8+csYGBw45jAqgCSQXKBWhbIQin+BDBffCYQGEBNs0oDMfYvAMssRna1KDNIMBLC50SWYRUB6Z4E\n",
       "4fMcQJLhMjgGdO1vqEAvQiaAIY15AwP3BKjAOusFsLD+7MBs8RcpEDZZQkIHCgDXgSgkZs+7ygAA\n",
       "AABJRU5ErkJggg==\n",
       "\" style=\"display:inline;vertical-align:middle;\" /></a></span>"
      ],
      "text/plain": [
       "{r in RealNeg} |- r in Real"
      ]
     },
     "metadata": {},
     "output_type": "display_data"
    }
   ],
   "source": [
    "InSet(r, Real).prove(assumptions=[InSet(r, RealNeg)])"
   ]
  },
  {
   "cell_type": "code",
   "execution_count": 175,
   "metadata": {},
   "outputs": [
    {
     "data": {
      "text/html": [
       "<span style=\"font-size:20px;\"><a class=\"ProveItLink\" href=\"../__pv_it/demonstrations/e7301d9e4d52a1fb6e5d41fe6c519db248e025230/expr.ipynb\"><img src=\"data:image/png;base64,iVBORw0KGgoAAAANSUhEUgAAAD4AAAAQBAMAAAC8SdExAAAAMFBMVEX///8AAAAAAAAAAAAAAAAA\n",
       "AAAAAAAAAAAAAAAAAAAAAAAAAAAAAAAAAAAAAAAAAAAv3aB7AAAAD3RSTlMAMom7Iplm783dEER2\n",
       "VKthCJTuAAAACXBIWXMAAA7EAAAOxAGVKw4bAAAAw0lEQVQY02NgQAds7cY/ppsx4AbMLA+4n1nh\n",
       "k1dgMJBjYDQGAhMc8iEcmOKHZ85sgMszY0jvOIWk/9U6mDCjMktQApBm6UIyn9G2BcZjYg5iKgDS\n",
       "HA4I+Yr5cxbAeG4cE1gVQPJI7lPLaoDzpPgTwLT4TCAwgJpvlYZw136IUYuR/SfKDDefIRJCcSLL\n",
       "s4oYwLmTIBTPASR5LoNjMB7LbyijFyEfwJDGvAHK454AZayzXgCLv88OzBZ/MQJwk+XMBgxBALIA\n",
       "KSUYQuVBAAAAAElFTkSuQmCC\n",
       "\" style=\"display:inline;vertical-align:middle;\" /></a> <a class=\"ProveItLink\" href=\"../__pv_it/demonstrations/d6c5c386d74895a847f3dd27a4c79fbdbfffec1e0/proof.ipynb\" style=\"text-decoration: none\">&nbsp;&#x22A2;&nbsp;&nbsp;</a><a class=\"ProveItLink\" href=\"../__pv_it/demonstrations/b5b9699cb86b6893f6e3a183e3782057b660119c0/expr.ipynb\"><img src=\"data:image/png;base64,iVBORw0KGgoAAAANSUhEUgAAAEcAAAAVCAMAAAAjKAPRAAAAOVBMVEX///8AAAAAAAAAAAAAAAAA\n",
       "AAAAAAAAAAAAAAAAAAAAAAAAAAAAAAAAAAAAAAAAAAAAAAAAAAAAAAACXHtMAAAAEnRSTlMAMom7\n",
       "Iplm783dEER2VKvt5cknQN27AAAACXBIWXMAAA7EAAAOxAGVKw4bAAABJUlEQVQ4y61UiXLFIAhE\n",
       "8UA8Xp///7FVczSHpnlNmQkZJrJhFxDggTH8i0nfvAzyEYxK1ZsA4PEJTlLVW1FcVn+H8Y2NylUk\n",
       "G+9kGLKImZxF02KN1V7lMSAajjP3/o1NDJ8Mri0KU+qEY8NtHNleIi0tn6WdeOX4EY5WQDOvrzc2\n",
       "Xpc6B3TFqIczl7HWBaH2PXUbQYH79STmOeNHpzqHukZCllNaroor4gEvgZEmArGjqwTUEqRdYlJd\n",
       "fSy57JZCqTPdBsgV6uuO0EBnY3j5FP35iGDI2ykS1s2GB17I5nLcfN4Kwjjqu9Bbec+m3S50w/nR\n",
       "Ql0ttttfHyGMcEqpYcxM5YNqFHs4ui6sAfRDeY5EOKHn875jmQdEurtK09WC+7343b4BR7gH3FdS\n",
       "v+AAAAAASUVORK5CYII=\n",
       "\" style=\"display:inline;vertical-align:middle;\" /></a></span>"
      ],
      "text/plain": [
       "{r in RealNeg} |- r in RealNonZero"
      ]
     },
     "metadata": {},
     "output_type": "display_data"
    }
   ],
   "source": [
    "InSet(r, RealNonZero).prove(assumptions=[InSet(r, RealNeg)])"
   ]
  },
  {
   "cell_type": "code",
   "execution_count": 176,
   "metadata": {},
   "outputs": [
    {
     "data": {
      "text/html": [
       "<span style=\"font-size:20px;\"><a class=\"ProveItLink\" href=\"../__pv_it/demonstrations/e7301d9e4d52a1fb6e5d41fe6c519db248e025230/expr.ipynb\"><img src=\"data:image/png;base64,iVBORw0KGgoAAAANSUhEUgAAAD4AAAAQBAMAAAC8SdExAAAAMFBMVEX///8AAAAAAAAAAAAAAAAA\n",
       "AAAAAAAAAAAAAAAAAAAAAAAAAAAAAAAAAAAAAAAAAAAv3aB7AAAAD3RSTlMAMom7Iplm783dEER2\n",
       "VKthCJTuAAAACXBIWXMAAA7EAAAOxAGVKw4bAAAAw0lEQVQY02NgQAds7cY/ppsx4AbMLA+4n1nh\n",
       "k1dgMJBjYDQGAhMc8iEcmOKHZ85sgMszY0jvOIWk/9U6mDCjMktQApBm6UIyn9G2BcZjYg5iKgDS\n",
       "HA4I+Yr5cxbAeG4cE1gVQPJI7lPLaoDzpPgTwLT4TCAwgJpvlYZw136IUYuR/SfKDDefIRJCcSLL\n",
       "s4oYwLmTIBTPASR5LoNjMB7LbyijFyEfwJDGvAHK454AZayzXgCLv88OzBZ/MQJwk+XMBgxBALIA\n",
       "KSUYQuVBAAAAAElFTkSuQmCC\n",
       "\" style=\"display:inline;vertical-align:middle;\" /></a> <a class=\"ProveItLink\" href=\"../__pv_it/demonstrations/45ce5a074dc5aa46dd1501dabbc6dea63ace9f1d0/proof.ipynb\" style=\"text-decoration: none\">&nbsp;&#x22A2;&nbsp;&nbsp;</a><a class=\"ProveItLink\" href=\"../__pv_it/demonstrations/879f0ab46be8c6e6ae960dd27ef7c6288d05b9cf0/expr.ipynb\"><img src=\"data:image/png;base64,iVBORw0KGgoAAAANSUhEUgAAAEgAAAAUBAMAAADcj2b4AAAAMFBMVEX///8AAAAAAAAAAAAAAAAA\n",
       "AAAAAAAAAAAAAAAAAAAAAAAAAAAAAAAAAAAAAAAAAAAv3aB7AAAAD3RSTlMAMom7Iplm783dEER2\n",
       "VKthCJTuAAAACXBIWXMAAA7EAAAOxAGVKw4bAAABHklEQVQoz2NgwAsuOzAoHWIgoOYAA9sBbgO8\n",
       "apITGBjYBRi+4FNz+AKQ8F/AUItFLqPYvrMYaIY4SA2D/AKGadhMMPBj2Je8gIHXaAFEUQ1WRU4M\n",
       "zIwPGBi4QaqA1v3FoYjVoQHIYHzqgO5wHsuZMxCKwP5mebeA5wD3A4Qa7p4FCJP4VkFkWBgYlI4u\n",
       "YGBUZglKAPE9FiBZJ3zDAdkBTMxBTAUgRgvCTe6dP0+huNKNYwKrAojRgOTwtBVAStgYCCAGSvGD\n",
       "LWNgrJw5c+ZkqCLmZQmoHt4PcQuXAZJJjAFWqIoiofQE5HAKdEZVNAlKn0FWtJgHxT6W31AGxwW4\n",
       "IlcGtgRrZEXcMGu4Hu+CpwITBuP+C1iTD7cyNFowAABhpkWcYupqmwAAAABJRU5ErkJggg==\n",
       "\" style=\"display:inline;vertical-align:middle;\" /></a></span>"
      ],
      "text/plain": [
       "{r in RealNeg} |- r in RealNonPos"
      ]
     },
     "metadata": {},
     "output_type": "display_data"
    }
   ],
   "source": [
    "InSet(r, RealNonPos).prove(assumptions=[InSet(r, RealNeg)])"
   ]
  },
  {
   "cell_type": "code",
   "execution_count": 177,
   "metadata": {},
   "outputs": [
    {
     "data": {
      "text/html": [
       "<span style=\"font-size:20px;\"><a class=\"ProveItLink\" href=\"../__pv_it/demonstrations/d577b5714234a04021074bfda1665bc7eb1a25870/expr.ipynb\"><img src=\"data:image/png;base64,iVBORw0KGgoAAAANSUhEUgAAAEgAAAAUBAMAAADcj2b4AAAAMFBMVEX///8AAAAAAAAAAAAAAAAA\n",
       "AAAAAAAAAAAAAAAAAAAAAAAAAAAAAAAAAAAAAAAAAAAv3aB7AAAAD3RSTlMAMom7Iplm783dEER2\n",
       "VKthCJTuAAAACXBIWXMAAA7EAAAOxAGVKw4bAAABIElEQVQoz2NgwAmEN4AppUMMeACX8gUgyXaA\n",
       "2wCfKobDCQwM7AIMX/AqYkg+wOC/gKEWi0xGsX1ncQKEne4gv4BhGjb9Bn4M+5IXgFiLrBmAimqw\n",
       "KnJiYGZ8AGS4PmQAWfcXhyJWhwYGBj+gGnSH81jOnIFQZMCwLgQseoD7AUINd88ChEl8qx4wrILw\n",
       "lI4uYGBUZgkCe8VjAZJ1wjcckB3AxBzEVABitCDc5N758xSKK904JrAqgBgNSA5PWwGKO2MggBgo\n",
       "xQ8JN8bKmTNnToYqYl6WgOrh/RC3cBkgmcQYYIWqKBJKT0AOp0BnVEWToPQZZEWLeVDsY/kNZXBc\n",
       "gCtyZWBLsEZWxA2zhuvxLngqMGEw7r+ANfFwK0OjBQMAAP5FRMzyvmhIAAAAAElFTkSuQmCC\n",
       "\" style=\"display:inline;vertical-align:middle;\" /></a> <a class=\"ProveItLink\" href=\"../__pv_it/demonstrations/a847fee7927ab22451246d268844ddd90fad46bd0/proof.ipynb\" style=\"text-decoration: none\">&nbsp;&#x22A2;&nbsp;&nbsp;</a><a class=\"ProveItLink\" href=\"../__pv_it/demonstrations/619064660bea43de10a0abd6495f8cdd14c3dac70/expr.ipynb\"><img src=\"data:image/png;base64,iVBORw0KGgoAAAANSUhEUgAAADIAAAAQBAMAAACmdTG/AAAAMFBMVEX///8AAAAAAAAAAAAAAAAA\n",
       "AAAAAAAAAAAAAAAAAAAAAAAAAAAAAAAAAAAAAAAAAAAv3aB7AAAAD3RSTlMAMom7Iplm783dEER2\n",
       "VKthCJTuAAAACXBIWXMAAA7EAAAOxAGVKw4bAAAAu0lEQVQY02NgQAds7cY/ppsxYAPMLA+4n1lh\n",
       "l1FgMJDDJRPCgSxyeObMBrgMM5LEjlNIel6tY2BgVGYJSgDyWbqQTGO0bWFgYGIOYioA8jkcEDIV\n",
       "8+csYGBw45jAqgCSQXKBWhbIQin+BDBffCYQGEBNs0oDMfYvAMssRna1KDNIMBLC50SWYRUB6Z4E\n",
       "4fMcQJLhMjgGdO1vqEAvQiaAIY15AwP3BKjAOusFsLD+7MBs8RcpEDZZQkIHCgDXgSgkZs+7ygAA\n",
       "AABJRU5ErkJggg==\n",
       "\" style=\"display:inline;vertical-align:middle;\" /></a></span>"
      ],
      "text/plain": [
       "{r in RealNonNeg} |- r in Real"
      ]
     },
     "metadata": {},
     "output_type": "display_data"
    }
   ],
   "source": [
    "InSet(r, Real).prove(assumptions=[InSet(r, RealNonNeg)])"
   ]
  },
  {
   "cell_type": "code",
   "execution_count": 178,
   "metadata": {},
   "outputs": [
    {
     "data": {
      "text/html": [
       "<span style=\"font-size:20px;\"><a class=\"ProveItLink\" href=\"../__pv_it/demonstrations/879f0ab46be8c6e6ae960dd27ef7c6288d05b9cf0/expr.ipynb\"><img src=\"data:image/png;base64,iVBORw0KGgoAAAANSUhEUgAAAEgAAAAUBAMAAADcj2b4AAAAMFBMVEX///8AAAAAAAAAAAAAAAAA\n",
       "AAAAAAAAAAAAAAAAAAAAAAAAAAAAAAAAAAAAAAAAAAAv3aB7AAAAD3RSTlMAMom7Iplm783dEER2\n",
       "VKthCJTuAAAACXBIWXMAAA7EAAAOxAGVKw4bAAABHklEQVQoz2NgwAsuOzAoHWIgoOYAA9sBbgO8\n",
       "apITGBjYBRi+4FNz+AKQ8F/AUItFLqPYvrMYaIY4SA2D/AKGadhMMPBj2Je8gIHXaAFEUQ1WRU4M\n",
       "zIwPGBi4QaqA1v3FoYjVoQHIYHzqgO5wHsuZMxCKwP5mebeA5wD3A4Qa7p4FCJP4VkFkWBgYlI4u\n",
       "YGBUZglKAPE9FiBZJ3zDAdkBTMxBTAUgRgvCTe6dP0+huNKNYwKrAojRgOTwtBVAStgYCCAGSvGD\n",
       "LWNgrJw5c+ZkqCLmZQmoHt4PcQuXAZJJjAFWqIoiofQE5HAKdEZVNAlKn0FWtJgHxT6W31AGxwW4\n",
       "IlcGtgRrZEXcMGu4Hu+CpwITBuP+C1iTD7cyNFowAABhpkWcYupqmwAAAABJRU5ErkJggg==\n",
       "\" style=\"display:inline;vertical-align:middle;\" /></a> <a class=\"ProveItLink\" href=\"../__pv_it/demonstrations/8181c77e39aedea5caaa664c7394986fa3bebbb80/proof.ipynb\" style=\"text-decoration: none\">&nbsp;&#x22A2;&nbsp;&nbsp;</a><a class=\"ProveItLink\" href=\"../__pv_it/demonstrations/619064660bea43de10a0abd6495f8cdd14c3dac70/expr.ipynb\"><img src=\"data:image/png;base64,iVBORw0KGgoAAAANSUhEUgAAADIAAAAQBAMAAACmdTG/AAAAMFBMVEX///8AAAAAAAAAAAAAAAAA\n",
       "AAAAAAAAAAAAAAAAAAAAAAAAAAAAAAAAAAAAAAAAAAAv3aB7AAAAD3RSTlMAMom7Iplm783dEER2\n",
       "VKthCJTuAAAACXBIWXMAAA7EAAAOxAGVKw4bAAAAu0lEQVQY02NgQAds7cY/ppsxYAPMLA+4n1lh\n",
       "l1FgMJDDJRPCgSxyeObMBrgMM5LEjlNIel6tY2BgVGYJSgDyWbqQTGO0bWFgYGIOYioA8jkcEDIV\n",
       "8+csYGBw45jAqgCSQXKBWhbIQin+BDBffCYQGEBNs0oDMfYvAMssRna1KDNIMBLC50SWYRUB6Z4E\n",
       "4fMcQJLhMjgGdO1vqEAvQiaAIY15AwP3BKjAOusFsLD+7MBs8RcpEDZZQkIHCgDXgSgkZs+7ygAA\n",
       "AABJRU5ErkJggg==\n",
       "\" style=\"display:inline;vertical-align:middle;\" /></a></span>"
      ],
      "text/plain": [
       "{r in RealNonPos} |- r in Real"
      ]
     },
     "metadata": {},
     "output_type": "display_data"
    }
   ],
   "source": [
    "InSet(r, Real).prove(assumptions=[InSet(r, RealNonPos)])"
   ]
  },
  {
   "cell_type": "code",
   "execution_count": 179,
   "metadata": {},
   "outputs": [],
   "source": [
    "%end demonstrations"
   ]
  },
  {
   "cell_type": "code",
   "execution_count": null,
   "metadata": {},
   "outputs": [],
   "source": []
  }
 ],
 "metadata": {
  "kernelspec": {
   "display_name": "Python 3",
   "language": "python",
   "name": "python3"
  }
 },
 "nbformat": 4,
 "nbformat_minor": 0
}