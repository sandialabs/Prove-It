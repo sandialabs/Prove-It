{
 "cells": [
  {
   "cell_type": "markdown",
   "metadata": {},
   "source": [
    "Demonstrations for the theory of <a class=\"ProveItLink\" href=\"theory.ipynb\">proveit.numbers.number_sets.real_numbers</a>\n",
    "========"
   ]
  },
  {
   "cell_type": "code",
   "execution_count": null,
   "metadata": {},
   "outputs": [],
   "source": [
    "import proveit\n",
    "from proveit import ProofFailure\n",
    "from proveit import a, b, c, n, r, x, y\n",
    "from proveit.logic import Boolean, InSet, NotEquals, NotInSet, Or, ProperSubset\n",
    "from proveit.numbers import Less, LessEq, greater, greater_eq, Neg, number_ordering\n",
    "from proveit.numbers import (\n",
    "    Complex, Rational, RationalNonZero, RationalPos, RationalNeg,\n",
    "    RationalNonNeg, RationalNonPos, IntervalCC, IntervalCO, IntervalOC,\n",
    "    IntervalOO, Real, RealNonZero, RealPos, RealNeg, RealNonNeg, RealNonPos)\n",
    "from proveit.numbers import zero, one, two, three, four, five, six, seven, eight, nine\n",
    "%begin demonstrations"
   ]
  },
  {
   "cell_type": "markdown",
   "metadata": {},
   "source": [
    "# Real Numbers and Real Intervals<br>$\\mathbf{R}$, $\\mathbf{R}^+$, $\\mathbf{R}^-$, $\\mathbf{R}^{\\ge 0}$, $[a, b]$, $[a, b)$, $(a, b]$, $(a, b)$"
   ]
  },
  {
   "cell_type": "markdown",
   "metadata": {},
   "source": [
    "<div style=\"line-height:1.4; font-size:14pt\">\n",
    "\n",
    "<a href='#introduction'>Introduction</a><br>\n",
    "<a href='#simple_expressions'>Simple Expressions involving the Real number sets and real number intervals $\\mathbf{R}$, $[a, b]$, etc</a><br>\n",
    "<a href='#common_attributes'>Common Attributes of the Real number NumberSets and real number intervals</a><br>\n",
    "<a href='#axioms'>Axioms</a><br>\n",
    "<a href='#theorems'>Theorems</a><br>\n",
    "<a href='#further_demonstrations'>Further Demonstrations</a><br>\n",
    "    <ol>\n",
    "        <li><a href='#demo01'>$2\\in(1, 3]$ and $2\\in[1, 3]$</a></li>\n",
    "        <li><a href='#demo02'>Proving $[1,2]\\subseteq \\mathbb{R}^{+}$</a></li>\n",
    "        <li><a href='#demo03'>Proving $[1,4]\\subset \\mathbb{R}^{+}$</a></li>\n",
    "    </ol>\n",
    "<a href='#misc_testing'>Misc Testing (temporary)</a><br>\n",
    "</div>\n"
   ]
  },
  {
   "cell_type": "markdown",
   "metadata": {},
   "source": [
    "## Introduction <a id='introduction'></a>"
   ]
  },
  {
   "cell_type": "markdown",
   "metadata": {},
   "source": [
    "<font size=3><br>The real numbers (or more simply, the “reals”), symbolized by $\\mathbb{R}$, consist of the set of all rational numbers, $\\mathbb{Q}$, such as $-10$ or $\\frac{4}{3}$, and the set of all irrational numbers, such as $\\pi$ and $\\sqrt{2}$.<br>\n",
    "The reals, various common subsets of the reals, and various open, closed, and half-open real intervals are ubiquitous in proofs and are easily represented and accessed in Prove-It.</font>"
   ]
  },
  {
   "cell_type": "markdown",
   "metadata": {},
   "source": [
    "## Simple Expressions Involving Real NumberSets and Real Intervals<a id='simple_expressions'></a>"
   ]
  },
  {
   "cell_type": "markdown",
   "metadata": {},
   "source": [
    "<font size=3>The real numbers $\\mathbb{R}$ and some standard real-valued subsets of the reals have standard names in Prove-It and can be imported and called upon as desired.</font>"
   ]
  },
  {
   "cell_type": "code",
   "execution_count": null,
   "metadata": {},
   "outputs": [],
   "source": [
    "# The real numbers\n",
    "Real"
   ]
  },
  {
   "cell_type": "code",
   "execution_count": null,
   "metadata": {},
   "outputs": [],
   "source": [
    "# The positive real numbers\n",
    "RealPos"
   ]
  },
  {
   "cell_type": "code",
   "execution_count": null,
   "metadata": {},
   "outputs": [],
   "source": [
    "# The negative real numbers\n",
    "RealNeg"
   ]
  },
  {
   "cell_type": "code",
   "execution_count": null,
   "metadata": {},
   "outputs": [],
   "source": [
    "# The non-negative real numbers [0, Inf]\n",
    "RealNonNeg"
   ]
  },
  {
   "cell_type": "code",
   "execution_count": null,
   "metadata": {},
   "outputs": [],
   "source": [
    "# An example claim that x is a non-negative real number\n",
    "InSet(x, RealNonNeg)"
   ]
  },
  {
   "cell_type": "markdown",
   "metadata": {},
   "source": [
    "<font size=3>Open, closed, and half-open real intervals are also easy to express and easy to utilize in larger expressions, with the following constructions:\n",
    "<table>\n",
    "    <thead><td>real interval</td><td>Prove-It construction</td></thead>\n",
    "    <tr><td style=\"font-family:courier;text-align:center\">(a, b)</td>\n",
    "        <td style=\"font-family:courier;text-align:left\">IntervalOO(a, b)</td></tr>\n",
    "    <tr><td style=\"font-family:courier;text-align:center\">(a, b]</td>\n",
    "        <td style=\"font-family:courier;text-align:left\">IntervalOC(a, b)</td></tr>\n",
    "    <tr><td style=\"font-family:courier;text-align:center\">[a, b)</td>\n",
    "        <td style=\"font-family:courier;text-align:left\">IntervalCO(a, b)</td></tr>\n",
    "    <tr><td style=\"font-family:courier;text-align:center\">[a, b]</td>\n",
    "        <td style=\"font-family:courier;text-align:left\">IntervalCC(a, b)</td></tr>\n",
    "</table>\n",
    "</font>\n",
    "For example:"
   ]
  },
  {
   "cell_type": "code",
   "execution_count": null,
   "metadata": {},
   "outputs": [],
   "source": [
    "# Claim that x is a real number in the open interval (a, b)\n",
    "# Notice the IntervalOO uses two 'ohs', not zeros, standing\n",
    "# for 'open' at each end\n",
    "InSet(x, IntervalOO(a, b))"
   ]
  },
  {
   "cell_type": "code",
   "execution_count": null,
   "metadata": {},
   "outputs": [],
   "source": [
    "# Claim that y is a real number in the half-open interval (a, b]\n",
    "# Notice the IntervalOC uses an 'ohs', not a zero, standing for\n",
    "# 'open' on the left side\n",
    "InSet(y, IntervalOC(a, b))"
   ]
  },
  {
   "cell_type": "code",
   "execution_count": null,
   "metadata": {},
   "outputs": [],
   "source": [
    "# Or simply define some intervals of interest\n",
    "interval_C1bO, interval_C23C = (\n",
    "    IntervalCO(one, b), IntervalCC(two, three))"
   ]
  },
  {
   "cell_type": "markdown",
   "metadata": {},
   "source": [
    "## Common Attributes of NumberSet and Interval expressions <a id='common_attributes'></a>"
   ]
  },
  {
   "cell_type": "markdown",
   "metadata": {},
   "source": [
    "<font size=3>Let's look at some simple examples of real NumberSets and real Intervals, along with some of their attributesibutes.</font>"
   ]
  },
  {
   "cell_type": "code",
   "execution_count": null,
   "metadata": {},
   "outputs": [],
   "source": [
    "example_set, interval_C1bO = RealPos, IntervalCO(one, b)"
   ]
  },
  {
   "cell_type": "code",
   "execution_count": null,
   "metadata": {},
   "outputs": [],
   "source": [
    "# The expression for our set of real positive numbers is simply a Literal\n",
    "example_set.expr_info()"
   ]
  },
  {
   "cell_type": "code",
   "execution_count": null,
   "metadata": {},
   "outputs": [],
   "source": [
    "# The interval expression has more structure and each\n",
    "# of the boundaries can be either a Literal or a Variable\n",
    "interval_C1bO.expr_info()"
   ]
  },
  {
   "cell_type": "markdown",
   "metadata": {},
   "source": [
    "<font size=4>We can access the left-hand and right-hand bounds of the interval combined as a simple tuple, or access each bound separately:</font>"
   ]
  },
  {
   "cell_type": "code",
   "execution_count": null,
   "metadata": {},
   "outputs": [],
   "source": [
    "# the bounds extracted as a tuple\n",
    "interval_C1bO.operands"
   ]
  },
  {
   "cell_type": "code",
   "execution_count": null,
   "metadata": {},
   "outputs": [],
   "source": [
    "# lower bound\n",
    "interval_C1bO.lower_bound"
   ]
  },
  {
   "cell_type": "code",
   "execution_count": null,
   "metadata": {},
   "outputs": [],
   "source": [
    "# upper bound\n",
    "interval_C1bO.upper_bound"
   ]
  },
  {
   "cell_type": "markdown",
   "metadata": {},
   "source": [
    "<font size=3>Many simple interval membership claims can be deduced relatively easily via `IntervalXX` methods relying on related theorems:</font>"
   ]
  },
  {
   "cell_type": "code",
   "execution_count": null,
   "metadata": {},
   "outputs": [],
   "source": [
    "# here is an unproven claim\n",
    "two_in_O13C = InSet(two, IntervalOC(one, three))"
   ]
  },
  {
   "cell_type": "code",
   "execution_count": null,
   "metadata": {},
   "outputs": [],
   "source": [
    "two_in_O13C.prove()"
   ]
  },
  {
   "cell_type": "markdown",
   "metadata": {},
   "source": [
    "<font size=3>Prove-It will not automatically prove our assertion that $2\\in (1, 3]$:</font>"
   ]
  },
  {
   "cell_type": "code",
   "execution_count": null,
   "metadata": {},
   "outputs": [],
   "source": [
    "# try:\n",
    "#     two_in_O13C.prove()\n",
    "# except ProofFailure as e:\n",
    "#     print(\"ProofFailure. {}\".format(e))"
   ]
  },
  {
   "cell_type": "markdown",
   "metadata": {},
   "source": [
    "<font size=3>But we can manually prompt Prove-It to prove that $2\\in (1, 3]$ utilizing an explicit `Interval` method:</font>"
   ]
  },
  {
   "cell_type": "code",
   "execution_count": null,
   "metadata": {},
   "outputs": [],
   "source": [
    "# # deduce the claim as a judgment\n",
    "# IntervalOC(one, three).deduce_elem_in_set(two)"
   ]
  },
  {
   "cell_type": "markdown",
   "metadata": {},
   "source": [
    "## Axioms <a id='axioms'></a>"
   ]
  },
  {
   "cell_type": "markdown",
   "metadata": {},
   "source": [
    "<font size=3>The current axioms for the `number/sets/real` theory consist of definitions of what it means for something to be an element of a real interval. For example, when we write $x\\in (a, b)$ for $a \\le b$ and $a,b\\in \\mathbb{R}$, that is equivalent to saying $x\\in\\mathbb{R}$ and $a < x < b$.<br/>\n",
    "The axiom for open intervals is shown below (and the related axioms can be found in the [axioms notebook](./\\_axioms\\_.ipynb)):</font>"
   ]
  },
  {
   "cell_type": "code",
   "execution_count": null,
   "metadata": {},
   "outputs": [],
   "source": [
    "from proveit.numbers.number_sets.real_numbers  import in_IntervalOO_def\n",
    "in_IntervalOO_def"
   ]
  },
  {
   "cell_type": "markdown",
   "metadata": {},
   "source": [
    "## Theorems<a id='theorems'></a>"
   ]
  },
  {
   "cell_type": "markdown",
   "metadata": {},
   "source": [
    "<font size=3>There are already a good number of basic theorems established in the `number/sets/real` theory. Some examples are shown explicitly below, and the remainder can be found in the [theorems Jupyter Python notebook](./\\_theorems\\_.ipynb). Most such theorems are typically not acccessed directly but are instead used behind-the-scenes when calling various related class methods.</font>"
   ]
  },
  {
   "cell_type": "code",
   "execution_count": null,
   "metadata": {},
   "outputs": [],
   "source": [
    "from proveit.numbers.number_sets.real_numbers import (\n",
    "        all_in_interval_oc__is__real, in_IntervalOO,\n",
    "        interval_c_c_lower_bound,\n",
    "        nat_within_real_nonneg, not_int_if_between_successive_int)"
   ]
  },
  {
   "cell_type": "code",
   "execution_count": null,
   "metadata": {},
   "outputs": [],
   "source": [
    "# The natural numbers are a proper subset of the non-negative reals\n",
    "nat_within_real_nonneg"
   ]
  },
  {
   "cell_type": "code",
   "execution_count": null,
   "metadata": {},
   "outputs": [],
   "source": [
    "# all elems of a real interval are real numbers\n",
    "all_in_interval_oc__is__real"
   ]
  },
  {
   "cell_type": "code",
   "execution_count": null,
   "metadata": {},
   "outputs": [],
   "source": [
    "# all elements in [a, b] are ≥ a\n",
    "interval_c_c_lower_bound"
   ]
  },
  {
   "cell_type": "code",
   "execution_count": null,
   "metadata": {},
   "outputs": [],
   "source": [
    "# reals greater than a but less than b are in the interval (a, b)\n",
    "in_IntervalOO"
   ]
  },
  {
   "cell_type": "code",
   "execution_count": null,
   "metadata": {},
   "outputs": [],
   "source": [
    "# a real value between successive integers is not itself an integer\n",
    "not_int_if_between_successive_int"
   ]
  },
  {
   "cell_type": "markdown",
   "metadata": {},
   "source": [
    "## Demonstrations <a id='further_demonstrations'></a>"
   ]
  },
  {
   "cell_type": "markdown",
   "metadata": {},
   "source": [
    "<a id='demo01'></a><font size=4><b>1.</b> $2\\in(1,3]$ and $2\\in[1,3]$</font><br><br>\n",
    "<font size=3>We begin with a simple demonstration deriving the judgment $\\vdash 2\\in(1, 3]$, and then also deriving as a judgment the fact that $2\\in[1, 3]$ using an `IntervalOC` method based on a relaxation theorem.</font>"
   ]
  },
  {
   "cell_type": "markdown",
   "metadata": {},
   "source": [
    "<font size=3>First we define a real number interval of interest:</font>"
   ]
  },
  {
   "cell_type": "code",
   "execution_count": null,
   "metadata": {},
   "outputs": [],
   "source": [
    "interval_O1_3C = IntervalOC(one, three)"
   ]
  },
  {
   "cell_type": "markdown",
   "metadata": {},
   "source": [
    "<font size=3>We can automatically deduce that $2\\in(1,3]$.</font>"
   ]
  },
  {
   "cell_type": "code",
   "execution_count": null,
   "metadata": {},
   "outputs": [],
   "source": [
    "interval_O1_3C.deduce_elem_in_set(two)"
   ]
  },
  {
   "cell_type": "markdown",
   "metadata": {},
   "source": [
    "<font size=3>Then we consider the closed real interval $[1,3]$:</font>"
   ]
  },
  {
   "cell_type": "code",
   "execution_count": null,
   "metadata": {},
   "outputs": [],
   "source": [
    "interval_C1_3C = IntervalCC(one, three)"
   ]
  },
  {
   "cell_type": "markdown",
   "metadata": {},
   "source": [
    "<font size=3>The underlying machinery will not automatically prove that $2$ is also in this closed interval $[1, 3]$, despite the fact that we have the judgment $2\\in(1,3]$: YES IT WILL NOW, SO CHANGE THIS</font>"
   ]
  },
  {
   "cell_type": "code",
   "execution_count": null,
   "metadata": {},
   "outputs": [],
   "source": [
    "InSet(two, IntervalCC(one, three)).prove()"
   ]
  },
  {
   "cell_type": "code",
   "execution_count": null,
   "metadata": {},
   "outputs": [],
   "source": [
    "# from proveit import ProofFailure\n",
    "# try:\n",
    "#     InSet(two, IntervalCC(one, three)).prove()\n",
    "#     assert False, \"Expecting a ProofFailure error; should not make it to this point\"\n",
    "# except ProofFailure as e:\n",
    "#     print(\"EXPECTED ERROR:\", e)"
   ]
  },
  {
   "cell_type": "markdown",
   "metadata": {},
   "source": [
    "<font size=3>We could instead use the `deduce_elem_in_set()` Interval class method, or we can use the `deduce_relaxed_membership()` method variation, and because we have previously shown that $2\\in(1,3]$ we don't need to provide that fact as an assumption for the deduction:</font>"
   ]
  },
  {
   "cell_type": "code",
   "execution_count": null,
   "metadata": {},
   "outputs": [],
   "source": [
    "two_in_O1_3C = interval_O1_3C.deduce_relaxed_membership(two)"
   ]
  },
  {
   "cell_type": "markdown",
   "metadata": {},
   "source": [
    "<font size=3>The proof that Prove-It produces involves a number of steps dealing with the elements 1, 2, and 3 being positive naturals (important in this case as a subset of the reals), and the definition of $2\\in(1,3]$, all of which eventually lead to the instantiation of a relaxation theorem (see rows 0–4):</font>"
   ]
  },
  {
   "cell_type": "code",
   "execution_count": null,
   "metadata": {},
   "outputs": [],
   "source": [
    "two_in_O1_3C.proof()"
   ]
  },
  {
   "cell_type": "markdown",
   "metadata": {},
   "source": [
    "<a id='demo02'></a><font size=4><b>2.</b> Proving $[1,2]\\subseteq \\mathbb{R}^{+}$</font><br><br>\n",
    "<font size=3>The set of real numbers in the closed interval $[1, 2]$ is clearly a subset (and thus also an improper subset) of the positive real numbers $\\mathbb{R}^{+}$. Prove-It will not automatically prove this, however:</font>"
   ]
  },
  {
   "cell_type": "code",
   "execution_count": null,
   "metadata": {},
   "outputs": [],
   "source": [
    "from proveit.logic import SubsetEq\n",
    "try:\n",
    "    SubsetEq(IntervalCC(one, two), RealPos).prove()\n",
    "except ProofFailure as e:\n",
    "    print(\"Proof failure. {}\".format(e))"
   ]
  },
  {
   "cell_type": "markdown",
   "metadata": {},
   "source": [
    "<font size=3>So we do a little work first to lead Prove-It to a proof. (See Demonstration \\#3 below for an alternative approach.)\n",
    "\n",
    "First we define our interval of interest and use some basic `IntervalCC` methods to derive that an element of $[1,2]$ is real, greater than or equal to 1, and greater than 0:</font>"
   ]
  },
  {
   "cell_type": "code",
   "execution_count": null,
   "metadata": {},
   "outputs": [],
   "source": [
    "# define our interval of interest\n",
    "interval_12 = IntervalCC(one, two)"
   ]
  },
  {
   "cell_type": "code",
   "execution_count": null,
   "metadata": {},
   "outputs": [],
   "source": [
    "# if x is in [1, 2] x must be real\n",
    "interval_12.deduce_member_in_real(x, assumptions=[InSet(x, interval_12)])"
   ]
  },
  {
   "cell_type": "code",
   "execution_count": null,
   "metadata": {},
   "outputs": [],
   "source": [
    "# and of course if x is in [1, 2] then 1 ≤ x\n",
    "interval_12.deduce_member_lower_bound(x, assumptions=[InSet(x, interval_12)])"
   ]
  },
  {
   "cell_type": "code",
   "execution_count": null,
   "metadata": {},
   "outputs": [],
   "source": [
    "# x being real and x ≥ 1 also means x > 0\n",
    "from proveit.numbers import greater\n",
    "greater(x, zero).conclude_via_transitivity(assumptions=[InSet(x, interval_12)])"
   ]
  },
  {
   "cell_type": "markdown",
   "metadata": {},
   "source": [
    "<font size=3>Trivially, $x \\in \\mathbb{R}^+$ if $x \\in [1, 2]$ since we know $x > 0$:</font>"
   ]
  },
  {
   "cell_type": "code",
   "execution_count": null,
   "metadata": {},
   "outputs": [],
   "source": [
    "x_in_interval_then_xPos = InSet(x, RealPos).prove([InSet(x, interval_12)])"
   ]
  },
  {
   "cell_type": "markdown",
   "metadata": {},
   "source": [
    "<font size=3>If we jump the gun a bit here and ask Prove-It to now complete the proof, we still get an error message:</font>"
   ]
  },
  {
   "cell_type": "code",
   "execution_count": null,
   "metadata": {},
   "outputs": [],
   "source": [
    "from proveit.logic import SubsetEq\n",
    "try:\n",
    "    SubsetEq(IntervalCC(one, two), RealPos).prove()\n",
    "except ProofFailure as e:\n",
    "    print(\"Proof failure. {}\".format(e))"
   ]
  },
  {
   "cell_type": "markdown",
   "metadata": {},
   "source": [
    "<font size=3>But the error message is instructive:  apparently Prove-It is trying to apply modus ponens to a known implication, and we just need to modify our earlier result to make it more obviously applicable. So we generalize the previous judgment that $\\{x\\in [1, 2]\\}\\vdash x \\in \\mathbb{R}^{+}$ as follows:</font>"
   ]
  },
  {
   "cell_type": "code",
   "execution_count": null,
   "metadata": {},
   "outputs": [],
   "source": [
    "# generalize\n",
    "x_in_interval_then_xPos.generalize(x, conditions=[InSet(x, interval_12)])"
   ]
  },
  {
   "cell_type": "markdown",
   "metadata": {},
   "source": [
    "<font size=3>And now Prove-It has the pieces it needs to establish the desired judgment:</font>"
   ]
  },
  {
   "cell_type": "code",
   "execution_count": null,
   "metadata": {},
   "outputs": [],
   "source": [
    "# The previous generalization result allows the instantiation of\n",
    "# a conditional theorem definition of improper subset\n",
    "SubsetEq(interval_12, RealPos).prove()"
   ]
  },
  {
   "cell_type": "markdown",
   "metadata": {},
   "source": [
    "<font size=3>It turns out it takes quite a bit more work to take the further step and conclude that $[1, 2] \\subset \\mathbb{R}^{+}$ (<i>i.e.</i>, using a strict subset instead of an improper subset). Such proper subset relationships have been formulated as theorems, as demonstrated below in the next example.</font>"
   ]
  },
  {
   "cell_type": "markdown",
   "metadata": {},
   "source": [
    "<a id='demo03'></a><font size=4><b>3.</b> Proving $[1,4]\\subset \\mathbb{R}^{+}$</font><br><br>\n",
    "<font size=3>The set of real numbers in the closed interval $[1, 4]$ is clearly a subset of the positive real numbers $\\mathbb{R}^{+}$. We prove this subset relationship by instantiation of a general theorem:</font>"
   ]
  },
  {
   "cell_type": "code",
   "execution_count": null,
   "metadata": {},
   "outputs": [],
   "source": [
    "from proveit.numbers.number_sets.real_numbers import real_pos_interval_c_c_is_subset_of_RealPos\n",
    "real_pos_interval_c_c_is_subset_of_RealPos"
   ]
  },
  {
   "cell_type": "markdown",
   "metadata": {},
   "source": [
    "<font size=3>For convenience and clarity, we explicitly define our interval of interest:</font>"
   ]
  },
  {
   "cell_type": "code",
   "execution_count": null,
   "metadata": {},
   "outputs": [],
   "source": [
    "interval_14 = IntervalCC(one, four)"
   ]
  },
  {
   "cell_type": "markdown",
   "metadata": {},
   "source": [
    "<font size=3>Then instantiate the general theorem for this case:</font>"
   ]
  },
  {
   "cell_type": "code",
   "execution_count": null,
   "metadata": {},
   "outputs": [],
   "source": [
    "real_pos_interval_c_c_is_subset_of_RealPos.instantiate(\n",
    "    {a:one, b:four})"
   ]
  },
  {
   "cell_type": "markdown",
   "metadata": {},
   "source": [
    "<font size=3>As a bit of an encore, we could then easily derive that $[1,4]\\subseteq\\mathbb{R}^{+}$ using a relaxation theorem from the set theory theory:</font>"
   ]
  },
  {
   "cell_type": "code",
   "execution_count": null,
   "metadata": {},
   "outputs": [],
   "source": [
    "from proveit import A, B\n",
    "from proveit.logic.sets.inclusion import relax_proper_subset\n",
    "relax_proper_subset"
   ]
  },
  {
   "cell_type": "code",
   "execution_count": null,
   "metadata": {},
   "outputs": [],
   "source": [
    "relax_proper_subset.instantiate({A:interval_14, B:RealPos})"
   ]
  },
  {
   "cell_type": "markdown",
   "metadata": {},
   "source": [
    "<font size=3>Of course, in so doing we've ended up with a result similar to that in the Demonstration \\#2 above, but we've let that subset theorem we loaded at the beginning of this demonstration do all of the heavy lifting. At some point, that general theorem itself requires its own proof to be established.</font>"
   ]
  },
  {
   "cell_type": "markdown",
   "metadata": {},
   "source": [
    "## Misc Testing <a id='further_demonstrations'></a>"
   ]
  },
  {
   "cell_type": "markdown",
   "metadata": {},
   "source": [
    "<font size=3>The material below was developed to test the various methods related to the real number NumberSet classes and the Interval classes. Some or all of this material could eventually be integrated into the `demonstrations` page and/or deleted as development continues.</font>"
   ]
  },
  {
   "cell_type": "markdown",
   "metadata": {},
   "source": [
    "### Testing the `NumberSet.deduce_member_lower_bound()` and `NumberSet.deduce_member_upper_bound()` methods"
   ]
  },
  {
   "cell_type": "code",
   "execution_count": null,
   "metadata": {},
   "outputs": [],
   "source": [
    "one_is__real_pos_implies_one_greater_zero = RealPos.deduce_member_lower_bound(one)"
   ]
  },
  {
   "cell_type": "code",
   "execution_count": null,
   "metadata": {},
   "outputs": [],
   "source": [
    "RealNeg.deduce_member_upper_bound(Neg(two))"
   ]
  },
  {
   "cell_type": "code",
   "execution_count": null,
   "metadata": {},
   "outputs": [],
   "source": [
    "RealNonNeg.deduce_member_lower_bound(two)"
   ]
  },
  {
   "cell_type": "markdown",
   "metadata": {},
   "source": [
    "### Testing the `Interval.deduce_member_lower_bound()` and `Interval.deduce_member_upper_bound()` methods"
   ]
  },
  {
   "cell_type": "code",
   "execution_count": null,
   "metadata": {},
   "outputs": [],
   "source": [
    "# Element in an Open Interval (1,3)\n",
    "IntervalOO(one, three).deduce_member_lower_bound(\n",
    "        two, assumptions=[InSet(two, IntervalOO(one, three))])"
   ]
  },
  {
   "cell_type": "code",
   "execution_count": null,
   "metadata": {},
   "outputs": [],
   "source": [
    "# Element in an Open Interval (1,3)\n",
    "IntervalOO(one, three).deduce_member_upper_bound(\n",
    "        two, assumptions=[InSet(two, IntervalOO(one, three))])"
   ]
  },
  {
   "cell_type": "code",
   "execution_count": null,
   "metadata": {},
   "outputs": [],
   "source": [
    "# Variable Element in an Open Interval (1,3)\n",
    "IntervalOO(one, three).deduce_member_upper_bound(\n",
    "        c, assumptions=[InSet(c, IntervalOO(one, three))])"
   ]
  },
  {
   "cell_type": "code",
   "execution_count": null,
   "metadata": {},
   "outputs": [],
   "source": [
    "# Element in a Half-Open Interval (1,3]\n",
    "IntervalOC(one, three).deduce_member_lower_bound(\n",
    "        two, assumptions=[InSet(two, IntervalOC(one, three))])"
   ]
  },
  {
   "cell_type": "code",
   "execution_count": null,
   "metadata": {},
   "outputs": [],
   "source": [
    "# Element in a Half-Open Interval (1,3]\n",
    "IntervalOC(one, three).deduce_member_upper_bound(\n",
    "        two, assumptions=[InSet(two, IntervalOC(one, three))])"
   ]
  },
  {
   "cell_type": "code",
   "execution_count": null,
   "metadata": {},
   "outputs": [],
   "source": [
    "# Element in a Half-Open Interval [1,3)\n",
    "IntervalCO(one, three).deduce_member_lower_bound(\n",
    "        two, assumptions=[InSet(two, IntervalCO(one, three))])"
   ]
  },
  {
   "cell_type": "code",
   "execution_count": null,
   "metadata": {},
   "outputs": [],
   "source": [
    "# Element in a Half-Open Interval [1,3)\n",
    "IntervalCO(one, three).deduce_member_upper_bound(\n",
    "        two, assumptions=[InSet(two, IntervalCO(one, three))])"
   ]
  },
  {
   "cell_type": "code",
   "execution_count": null,
   "metadata": {},
   "outputs": [],
   "source": [
    "# Element in a Closed Interval [1,3]\n",
    "IntervalCC(one, three).deduce_member_lower_bound(\n",
    "        two, assumptions=[InSet(two, IntervalCC(one, three))])"
   ]
  },
  {
   "cell_type": "code",
   "execution_count": null,
   "metadata": {},
   "outputs": [],
   "source": [
    "# Element in a Closed Interval [1,3]\n",
    "IntervalCC(one, three).deduce_member_upper_bound(\n",
    "        two, assumptions=[InSet(two, IntervalCC(one, three))])"
   ]
  },
  {
   "cell_type": "markdown",
   "metadata": {},
   "source": [
    "### Testing the `Interval.deduce_member_in_real()` methods"
   ]
  },
  {
   "cell_type": "code",
   "execution_count": null,
   "metadata": {},
   "outputs": [],
   "source": [
    "# Element in an Open Interval (1,3)\n",
    "IntervalOO(one, three).deduce_member_in_real(\n",
    "        two, assumptions=[InSet(two, IntervalOO(one, three))])"
   ]
  },
  {
   "cell_type": "code",
   "execution_count": null,
   "metadata": {},
   "outputs": [],
   "source": [
    "# Variable Element in an Open Interval (1,3)\n",
    "IntervalOO(one, three).deduce_member_in_real(\n",
    "        c, assumptions=[InSet(c, IntervalOO(one, three))])"
   ]
  },
  {
   "cell_type": "code",
   "execution_count": null,
   "metadata": {},
   "outputs": [],
   "source": [
    "# Element in an Half-Open Interval (1,3]\n",
    "IntervalOC(one, three).deduce_member_in_real(\n",
    "        two, assumptions=[InSet(two, IntervalOC(one, three))])"
   ]
  },
  {
   "cell_type": "code",
   "execution_count": null,
   "metadata": {},
   "outputs": [],
   "source": [
    "# Variable Element in an Half-Open Interval (1,3]\n",
    "IntervalOC(one, three).deduce_member_in_real(\n",
    "        c, assumptions=[InSet(c, IntervalOC(one, three))])"
   ]
  },
  {
   "cell_type": "code",
   "execution_count": null,
   "metadata": {},
   "outputs": [],
   "source": [
    "# Element in an Half-Open Interval [1,3)\n",
    "IntervalCO(one, three).deduce_member_in_real(\n",
    "        two, assumptions=[InSet(two, IntervalCO(one, three))])"
   ]
  },
  {
   "cell_type": "code",
   "execution_count": null,
   "metadata": {},
   "outputs": [],
   "source": [
    "# Variable Element in an Half-Open Interval [1,3)\n",
    "IntervalCO(one, three).deduce_member_in_real(\n",
    "        c, assumptions=[InSet(c, IntervalCO(one, three))])"
   ]
  },
  {
   "cell_type": "code",
   "execution_count": null,
   "metadata": {},
   "outputs": [],
   "source": [
    "# Element in an Closed Interval [1,3)\n",
    "IntervalCC(one, three).deduce_member_in_real(\n",
    "        two, assumptions=[InSet(two, IntervalCC(one, three))])"
   ]
  },
  {
   "cell_type": "code",
   "execution_count": null,
   "metadata": {},
   "outputs": [],
   "source": [
    "# Variable Element in an Closed Interval [1,3)\n",
    "IntervalCC(one, three).deduce_member_in_real(\n",
    "        c, assumptions=[InSet(c, IntervalCC(one, three))])"
   ]
  },
  {
   "cell_type": "markdown",
   "metadata": {},
   "source": [
    "### Testing the `Interval.deduce_elem_in_set()` methods"
   ]
  },
  {
   "cell_type": "code",
   "execution_count": null,
   "metadata": {},
   "outputs": [],
   "source": [
    "# Element in an Open Interval (1,3)\n",
    "IntervalOO(one, three).deduce_elem_in_set(two)"
   ]
  },
  {
   "cell_type": "code",
   "execution_count": null,
   "metadata": {},
   "outputs": [],
   "source": [
    "# but this should NOT work for a discluded endpoint\n",
    "try:\n",
    "    IntervalOO(one, three).deduce_elem_in_set(one)\n",
    "except ProofFailure as e:\n",
    "    print(\"Proof failure: {}\".format(e))"
   ]
  },
  {
   "cell_type": "code",
   "execution_count": null,
   "metadata": {},
   "outputs": [],
   "source": [
    "# Element in Half-Open Interval (1,4]\n",
    "IntervalOC(one, four).deduce_elem_in_set(three)"
   ]
  },
  {
   "cell_type": "code",
   "execution_count": null,
   "metadata": {},
   "outputs": [],
   "source": [
    "# this should also work for the included (right) endpoint as well\n",
    "IntervalOC(one, four).deduce_elem_in_set(four)"
   ]
  },
  {
   "cell_type": "code",
   "execution_count": null,
   "metadata": {},
   "outputs": [],
   "source": [
    "# but this should NOT work for the discluded (left) endpoint\n",
    "try:\n",
    "    IntervalOC(one, four).deduce_elem_in_set(one)\n",
    "except ProofFailure as e:\n",
    "    print(\"Proof failure: {}\".format(e))"
   ]
  },
  {
   "cell_type": "code",
   "execution_count": null,
   "metadata": {},
   "outputs": [],
   "source": [
    "# Element in Half-Open Interval [2,4)\n",
    "IntervalCO(two, four).deduce_elem_in_set(three)"
   ]
  },
  {
   "cell_type": "code",
   "execution_count": null,
   "metadata": {},
   "outputs": [],
   "source": [
    "# this should also work for the included (left) endpoint as well\n",
    "IntervalCO(two, four).deduce_elem_in_set(two)"
   ]
  },
  {
   "cell_type": "code",
   "execution_count": null,
   "metadata": {},
   "outputs": [],
   "source": [
    "# but this should NOT work for the discluded (right) endpoint\n",
    "try:\n",
    "    IntervalCO(two, four).deduce_elem_in_set(four)\n",
    "except ProofFailure as e:\n",
    "    print(\"Proof failure: {}\".format(e))"
   ]
  },
  {
   "cell_type": "code",
   "execution_count": null,
   "metadata": {},
   "outputs": [],
   "source": [
    "# Element in a Closed Interval [1,3]\n",
    "IntervalCC(one, three).deduce_elem_in_set(two)"
   ]
  },
  {
   "cell_type": "code",
   "execution_count": null,
   "metadata": {},
   "outputs": [],
   "source": [
    "# this should also work for the included left endpoint\n",
    "IntervalCC(one, three).deduce_elem_in_set(one)"
   ]
  },
  {
   "cell_type": "code",
   "execution_count": null,
   "metadata": {},
   "outputs": [],
   "source": [
    "# this should also work for the included right endpoint\n",
    "IntervalCC(one, three).deduce_elem_in_set(three)"
   ]
  },
  {
   "cell_type": "code",
   "execution_count": null,
   "metadata": {},
   "outputs": [],
   "source": [
    "# but this should NOT work for a value outside the interval\n",
    "try:\n",
    "    IntervalCC(one, three).deduce_elem_in_set(four)\n",
    "except ProofFailure as e:\n",
    "    print(\"Proof failure: {}\".format(e))"
   ]
  },
  {
   "cell_type": "markdown",
   "metadata": {},
   "source": [
    "### Testing the `Interval.deduce_rescaled_membership()` methods (testing the Scaling of Elements of Intervals To Scaled Intervals)"
   ]
  },
  {
   "cell_type": "code",
   "execution_count": null,
   "metadata": {},
   "outputs": [],
   "source": [
    "# Element in an Open Interval (1,3)\n",
    "IntervalOO(one, four).deduce_rescaled_membership(two, two,\n",
    "        assumptions=[InSet(two, IntervalOO(one, four))])"
   ]
  },
  {
   "cell_type": "code",
   "execution_count": null,
   "metadata": {},
   "outputs": [],
   "source": [
    "# Element in an Half-Open Interval (1,3]\n",
    "IntervalOC(one, three).deduce_rescaled_membership(two, three)"
   ]
  },
  {
   "cell_type": "code",
   "execution_count": null,
   "metadata": {},
   "outputs": [],
   "source": [
    "# Element in an Half-Open Interval [1,3)\n",
    "IntervalCO(one, three).deduce_elem_in_set(two)\n",
    "IntervalCO(one, three).deduce_rescaled_membership(two, three)"
   ]
  },
  {
   "cell_type": "code",
   "execution_count": null,
   "metadata": {},
   "outputs": [],
   "source": [
    "# Element in an Closed Interval [1,3]\n",
    "IntervalCC(zero, four).deduce_rescaled_membership(three, two,\n",
    "        assumptions=[InSet(three, IntervalCC(zero, four))])"
   ]
  },
  {
   "cell_type": "markdown",
   "metadata": {},
   "source": [
    "### Testing the `Interval.deduce_left/RightRelaxedMembership()` methods"
   ]
  },
  {
   "cell_type": "code",
   "execution_count": null,
   "metadata": {},
   "outputs": [],
   "source": [
    "# Element in open interval (1,4) means element in half-open interval [1,4)\n",
    "IntervalOO(one, four).deduce_left_relaxed_membership(two,\n",
    "        assumptions=[InSet(two, IntervalOO(one, four))])"
   ]
  },
  {
   "cell_type": "code",
   "execution_count": null,
   "metadata": {},
   "outputs": [],
   "source": [
    "# Element in open interval (1,4) means element in half-open interval (1,4]\n",
    "IntervalOO(one, four).deduce_right_relaxed_membership(two,\n",
    "        assumptions=[InSet(two, IntervalOO(one, four))])"
   ]
  },
  {
   "cell_type": "code",
   "execution_count": null,
   "metadata": {},
   "outputs": [],
   "source": [
    "# Element in open interval (1,4) means element in half-open interval (1,4]\n",
    "IntervalOO(one, four).deduce_left_right_relaxed_membership(two,\n",
    "        assumptions=[InSet(two, IntervalOO(one, four))])"
   ]
  },
  {
   "cell_type": "code",
   "execution_count": null,
   "metadata": {},
   "outputs": [],
   "source": [
    "# Element in half-open interval (0,3] means element in closed interval [0,3]\n",
    "IntervalOC(zero, three).deduce_relaxed_membership(two,\n",
    "        assumptions=[InSet(two, IntervalOC(zero, three))])"
   ]
  },
  {
   "cell_type": "code",
   "execution_count": null,
   "metadata": {},
   "outputs": [],
   "source": [
    "# Element in half-open interval [0,3) means element in closed interval [0,3]\n",
    "IntervalCO(zero, three).deduce_relaxed_membership(two,\n",
    "        assumptions=[InSet(two, IntervalCO(zero, three))])"
   ]
  },
  {
   "cell_type": "markdown",
   "metadata": {},
   "source": [
    "### Testing the `InSet.deduce_in_bool()` methods<br>(indirectly testing the NumberSet.deduce_membership_in_bool() methods)"
   ]
  },
  {
   "cell_type": "code",
   "execution_count": null,
   "metadata": {},
   "outputs": [],
   "source": [
    "InSet(x, Real).deduce_in_bool()"
   ]
  },
  {
   "cell_type": "code",
   "execution_count": null,
   "metadata": {},
   "outputs": [],
   "source": [
    "InSet(y, RealPos).deduce_in_bool()"
   ]
  },
  {
   "cell_type": "code",
   "execution_count": null,
   "metadata": {},
   "outputs": [],
   "source": [
    "InSet(a, RealNeg).deduce_in_bool()"
   ]
  },
  {
   "cell_type": "code",
   "execution_count": null,
   "metadata": {},
   "outputs": [],
   "source": [
    "InSet(b, RealNonNeg).deduce_in_bool()"
   ]
  },
  {
   "cell_type": "code",
   "execution_count": null,
   "metadata": {},
   "outputs": [],
   "source": [
    "InSet(b, RealNonNeg).deduce_in_bool()"
   ]
  },
  {
   "cell_type": "markdown",
   "metadata": {},
   "source": [
    "## Misc Testing <a id='misc_testing'></a>"
   ]
  },
  {
   "cell_type": "markdown",
   "metadata": {},
   "source": [
    "### Testing the `RealNonNeg.deduce_member_lower_bound()` method"
   ]
  },
  {
   "cell_type": "code",
   "execution_count": null,
   "metadata": {},
   "outputs": [],
   "source": [
    "RealNonNeg.deduce_member_lower_bound(two)"
   ]
  },
  {
   "cell_type": "markdown",
   "metadata": {},
   "source": [
    "### Testing automation methods<br>(indirectly testing the `RealIntervalMembership.conclude()` and `RealIntervalMembership.side_effects()` methods)"
   ]
  },
  {
   "cell_type": "markdown",
   "metadata": {},
   "source": [
    "First, define a few real intervals:"
   ]
  },
  {
   "cell_type": "code",
   "execution_count": null,
   "metadata": {},
   "outputs": [],
   "source": [
    "o_one_five_o, o_two_four_o  = IntervalOO(one, five), IntervalOO(two, four)"
   ]
  },
  {
   "cell_type": "markdown",
   "metadata": {},
   "source": [
    "And some membership claims:"
   ]
  },
  {
   "cell_type": "code",
   "execution_count": null,
   "metadata": {},
   "outputs": [],
   "source": [
    "two_in_o_one_five_o, x_in_o_two_four_o = InSet(two, o_one_five_o), InSet(x, o_two_four_o)"
   ]
  },
  {
   "cell_type": "markdown",
   "metadata": {},
   "source": [
    "Testing (indirectly) the RealIntervalMembership.conclude() method:"
   ]
  },
  {
   "cell_type": "code",
   "execution_count": null,
   "metadata": {},
   "outputs": [],
   "source": [
    "two_in_o_one_five_o.prove()"
   ]
  },
  {
   "cell_type": "code",
   "execution_count": null,
   "metadata": {},
   "outputs": [],
   "source": [
    "x_in_o_two_four_o.prove(assumptions=[InSet(x, Real), number_ordering(Less(two, x), Less(x, four))])"
   ]
  },
  {
   "cell_type": "markdown",
   "metadata": {},
   "source": [
    "Testing (indirectly) the RealIntervalMembership.side_effects() method:"
   ]
  },
  {
   "cell_type": "markdown",
   "metadata": {},
   "source": [
    "… some set membership deductions and lower bounds"
   ]
  },
  {
   "cell_type": "code",
   "execution_count": null,
   "metadata": {},
   "outputs": [],
   "source": [
    "InSet(x, Real).prove(assumptions=[InSet(x, IntervalOO(two, three))])"
   ]
  },
  {
   "cell_type": "code",
   "execution_count": null,
   "metadata": {},
   "outputs": [],
   "source": [
    "InSet(x, Real).prove(assumptions=[InSet(x, IntervalOC(three, four))])"
   ]
  },
  {
   "cell_type": "code",
   "execution_count": null,
   "metadata": {},
   "outputs": [],
   "source": [
    "InSet(x, Real).prove(assumptions=[InSet(x, IntervalCO(zero, eight))])"
   ]
  },
  {
   "cell_type": "code",
   "execution_count": null,
   "metadata": {},
   "outputs": [],
   "source": [
    "InSet(x, Real).prove(assumptions=[InSet(x, IntervalCC(four, five))])"
   ]
  },
  {
   "cell_type": "code",
   "execution_count": null,
   "metadata": {},
   "outputs": [],
   "source": [
    "# if we don't have enough information about the nature of the endpts\n",
    "# then x \\in IntervalXX(a, b) still leaves us adrift\n",
    "try:\n",
    "    InSet(x, Real).prove(assumptions=[InSet(x, IntervalCC(a, b))])\n",
    "except Exception as e:\n",
    "    print(\"Exception: {}\".format(e))"
   ]
  },
  {
   "cell_type": "code",
   "execution_count": null,
   "metadata": {},
   "outputs": [],
   "source": [
    "# but if know the endpts are Real, then the IntervalXX is know to be legitimate:\n",
    "InSet(x, Real).prove(assumptions=[InSet(a, Real), InSet(b, Real), InSet(x, IntervalCC(a, b))])"
   ]
  },
  {
   "cell_type": "markdown",
   "metadata": {},
   "source": [
    "… some deductions of lower bounds"
   ]
  },
  {
   "cell_type": "code",
   "execution_count": null,
   "metadata": {},
   "outputs": [],
   "source": [
    "Less(three, x).prove(assumptions=[InSet(x, IntervalOO(three, five))])"
   ]
  },
  {
   "cell_type": "code",
   "execution_count": null,
   "metadata": {},
   "outputs": [],
   "source": [
    "Less(two, x).prove(assumptions=[InSet(x, IntervalOO(three, five))])"
   ]
  },
  {
   "cell_type": "code",
   "execution_count": null,
   "metadata": {},
   "outputs": [],
   "source": [
    "LessEq(five, x).prove(assumptions=[InSet(x, IntervalOC(five, eight))])"
   ]
  },
  {
   "cell_type": "code",
   "execution_count": null,
   "metadata": {},
   "outputs": [],
   "source": [
    "LessEq(three, x).prove(assumptions=[InSet(x, IntervalCO(three, seven))])"
   ]
  },
  {
   "cell_type": "code",
   "execution_count": null,
   "metadata": {},
   "outputs": [],
   "source": [
    "LessEq(zero, x).prove(assumptions=[InSet(x, IntervalCC(zero, two))])"
   ]
  },
  {
   "cell_type": "markdown",
   "metadata": {},
   "source": [
    "… some upper bounds"
   ]
  },
  {
   "cell_type": "code",
   "execution_count": null,
   "metadata": {},
   "outputs": [],
   "source": [
    "Less(x, five).prove(assumptions=[InSet(x, IntervalOO(three, five))])"
   ]
  },
  {
   "cell_type": "code",
   "execution_count": null,
   "metadata": {},
   "outputs": [],
   "source": [
    "LessEq(x, six).prove(assumptions=[InSet(x, IntervalOC(four, six))])"
   ]
  },
  {
   "cell_type": "code",
   "execution_count": null,
   "metadata": {},
   "outputs": [],
   "source": [
    "Less(x, nine).prove(assumptions=[InSet(x, IntervalCO(seven, nine))])"
   ]
  },
  {
   "cell_type": "code",
   "execution_count": null,
   "metadata": {},
   "outputs": [],
   "source": [
    "LessEq(x, six).prove(assumptions=[InSet(x, IntervalCC(one, six))])"
   ]
  },
  {
   "cell_type": "markdown",
   "metadata": {},
   "source": [
    "### Testing the `RealIntervalMembership.deduce_in_bool()` method"
   ]
  },
  {
   "cell_type": "code",
   "execution_count": null,
   "metadata": {},
   "outputs": [],
   "source": [
    "InSet(x, IntervalOO(three, five)).deduce_in_bool()"
   ]
  },
  {
   "cell_type": "code",
   "execution_count": null,
   "metadata": {},
   "outputs": [],
   "source": [
    "InSet(x, IntervalOC(four, six)).deduce_in_bool()"
   ]
  },
  {
   "cell_type": "code",
   "execution_count": null,
   "metadata": {},
   "outputs": [],
   "source": [
    "InSet(x, IntervalCO(seven, nine)).deduce_in_bool()"
   ]
  },
  {
   "cell_type": "code",
   "execution_count": null,
   "metadata": {},
   "outputs": [],
   "source": [
    "InSet(x, IntervalCC(one, six)).deduce_in_bool()"
   ]
  },
  {
   "cell_type": "markdown",
   "metadata": {},
   "source": [
    "### Testing the `RealIntervalNonmembership.deduce_in_bool()` method"
   ]
  },
  {
   "cell_type": "code",
   "execution_count": null,
   "metadata": {},
   "outputs": [],
   "source": [
    "NotInSet(x, IntervalOO(three, five)).deduce_in_bool()"
   ]
  },
  {
   "cell_type": "code",
   "execution_count": null,
   "metadata": {},
   "outputs": [],
   "source": [
    "NotInSet(x, IntervalOC(four, six)).deduce_in_bool()"
   ]
  },
  {
   "cell_type": "code",
   "execution_count": null,
   "metadata": {},
   "outputs": [],
   "source": [
    "NotInSet(x, IntervalCO(seven, nine)).deduce_in_bool()"
   ]
  },
  {
   "cell_type": "code",
   "execution_count": null,
   "metadata": {},
   "outputs": [],
   "source": [
    "NotInSet(x, IntervalCC(one, six)).deduce_in_bool()"
   ]
  },
  {
   "cell_type": "markdown",
   "metadata": {},
   "source": [
    "### Testing the `RealIntervalNonmembership.deduce_real_element_bounds()` method"
   ]
  },
  {
   "cell_type": "code",
   "execution_count": null,
   "metadata": {},
   "outputs": [],
   "source": [
    "NotInSet(x, IntervalOO(three, five)).deduce_real_element_bounds(assumptions=[InSet(x, Real), NotInSet(x, IntervalOO(three, five))])"
   ]
  },
  {
   "cell_type": "code",
   "execution_count": null,
   "metadata": {},
   "outputs": [],
   "source": [
    "NotInSet(x, IntervalCO(four, six)).deduce_real_element_bounds(assumptions=[InSet(x, Real), NotInSet(x, IntervalCO(four, six))])"
   ]
  },
  {
   "cell_type": "code",
   "execution_count": null,
   "metadata": {},
   "outputs": [],
   "source": [
    "NotInSet(x, IntervalOC(seven, nine)).deduce_real_element_bounds(assumptions=[InSet(x, Real), NotInSet(x, IntervalOC(seven, nine))])"
   ]
  },
  {
   "cell_type": "code",
   "execution_count": null,
   "metadata": {},
   "outputs": [],
   "source": [
    "NotInSet(x, IntervalCC(one, six)).deduce_real_element_bounds(assumptions=[InSet(x, Real), NotInSet(x, IntervalCC(one, six))])"
   ]
  },
  {
   "cell_type": "code",
   "execution_count": null,
   "metadata": {},
   "outputs": [],
   "source": [
    "# more generally\n",
    "NotInSet(x, IntervalCC(a, b)).deduce_real_element_bounds(assumptions=[InSet(x, Real), InSet(a, Real), InSet(b, Real), NotInSet(x, IntervalCC(a, b))])"
   ]
  },
  {
   "cell_type": "markdown",
   "metadata": {},
   "source": [
    "### Some direct deductions of non-membership-related bounds"
   ]
  },
  {
   "cell_type": "code",
   "execution_count": null,
   "metadata": {},
   "outputs": [],
   "source": [
    "Or(Less(x, two), Less(three, x) ).prove(assumptions=[InSet(x, Real), NotInSet(x, IntervalCC(two, three))])"
   ]
  },
  {
   "cell_type": "code",
   "execution_count": null,
   "metadata": {},
   "outputs": [],
   "source": [
    "Or(LessEq(x, three), LessEq(six, x) ).prove(assumptions=[InSet(x, Real), NotInSet(x, IntervalOO(three, six))])"
   ]
  },
  {
   "cell_type": "markdown",
   "metadata": {},
   "source": [
    "### Testing the automation for RealIntervalNonmembership"
   ]
  },
  {
   "cell_type": "code",
   "execution_count": null,
   "metadata": {},
   "outputs": [],
   "source": [
    "NotInSet(x, IntervalCC(one, six)).prove(assumptions=[NotInSet(x, Real), InSet(x, Complex)])"
   ]
  },
  {
   "cell_type": "code",
   "execution_count": null,
   "metadata": {},
   "outputs": [],
   "source": [
    "NotInSet(x, IntervalOO(one, six)).prove(assumptions= [InSet(x, Real), LessEq(x, one)])"
   ]
  },
  {
   "cell_type": "code",
   "execution_count": null,
   "metadata": {},
   "outputs": [],
   "source": [
    "NotInSet(x, IntervalCC(one, six)).prove(assumptions= [InSet(x, Real), Less(six, x)])"
   ]
  },
  {
   "cell_type": "code",
   "execution_count": null,
   "metadata": {},
   "outputs": [],
   "source": [
    "NotInSet(x, IntervalCO(three, eight)).prove(assumptions= [InSet(x, Real), Less(x, three)])"
   ]
  },
  {
   "cell_type": "markdown",
   "metadata": {},
   "source": [
    "### Testing the automation for real IntervalXX subset relationships"
   ]
  },
  {
   "cell_type": "code",
   "execution_count": null,
   "metadata": {},
   "outputs": [],
   "source": [
    "SubsetEq(IntervalOO(three, four), IntervalOO(two, five)).prove()"
   ]
  },
  {
   "cell_type": "markdown",
   "metadata": {},
   "source": [
    "Currently, Prove-It will not be able to automatically deduce a proper subset relationship between two real intervals:"
   ]
  },
  {
   "cell_type": "code",
   "execution_count": null,
   "metadata": {},
   "outputs": [],
   "source": [
    "try:\n",
    "    ProperSubset(IntervalOO(three, four), IntervalOO(two, five)).prove()\n",
    "except Exception as e:\n",
    "    print(\"Exception: {}\".format(e))"
   ]
  },
  {
   "cell_type": "code",
   "execution_count": null,
   "metadata": {},
   "outputs": [],
   "source": []
  },
  {
   "cell_type": "markdown",
   "metadata": {},
   "source": [
    "### Number set membership demonstrations"
   ]
  },
  {
   "cell_type": "code",
   "execution_count": null,
   "metadata": {},
   "outputs": [],
   "source": [
    "InSet(InSet(r, Real), Boolean).prove()"
   ]
  },
  {
   "cell_type": "code",
   "execution_count": null,
   "metadata": {},
   "outputs": [],
   "source": [
    "InSet(InSet(r, RealNonZero), Boolean).prove()"
   ]
  },
  {
   "cell_type": "code",
   "execution_count": null,
   "metadata": {},
   "outputs": [],
   "source": [
    "InSet(InSet(r, RealPos), Boolean).prove()"
   ]
  },
  {
   "cell_type": "code",
   "execution_count": null,
   "metadata": {},
   "outputs": [],
   "source": [
    "InSet(InSet(r, RealNeg), Boolean).prove()"
   ]
  },
  {
   "cell_type": "code",
   "execution_count": null,
   "metadata": {},
   "outputs": [],
   "source": [
    "InSet(InSet(r, RealNonNeg), Boolean).prove()"
   ]
  },
  {
   "cell_type": "code",
   "execution_count": null,
   "metadata": {},
   "outputs": [],
   "source": [
    "InSet(InSet(r, RealNonPos), Boolean).prove()"
   ]
  },
  {
   "cell_type": "code",
   "execution_count": null,
   "metadata": {},
   "outputs": [],
   "source": [
    "NotEquals(r, zero).prove([InSet(r, RealNonZero)])"
   ]
  },
  {
   "cell_type": "code",
   "execution_count": null,
   "metadata": {},
   "outputs": [],
   "source": [
    "greater(x, zero).prove([InSet(x, RealPos)])"
   ]
  },
  {
   "cell_type": "code",
   "execution_count": null,
   "metadata": {},
   "outputs": [],
   "source": [
    "Less(x, zero).prove([InSet(x, RealNeg)])"
   ]
  },
  {
   "cell_type": "code",
   "execution_count": null,
   "metadata": {},
   "outputs": [],
   "source": [
    "greater_eq(x, zero).prove([InSet(x, RealNonNeg)])"
   ]
  },
  {
   "cell_type": "code",
   "execution_count": null,
   "metadata": {},
   "outputs": [],
   "source": [
    "LessEq(x, zero).prove([InSet(x, RealNonPos)])"
   ]
  },
  {
   "cell_type": "code",
   "execution_count": null,
   "metadata": {},
   "outputs": [],
   "source": [
    "InSet(r, RealNonZero).prove([InSet(r, Real), NotEquals(r, zero)])"
   ]
  },
  {
   "cell_type": "code",
   "execution_count": null,
   "metadata": {},
   "outputs": [],
   "source": [
    "InSet(r, RealPos).prove([InSet(r, Real), greater(r, zero)])"
   ]
  },
  {
   "cell_type": "code",
   "execution_count": null,
   "metadata": {},
   "outputs": [],
   "source": [
    "InSet(r, RealNeg).prove([InSet(r, Real), Less(r, zero)])"
   ]
  },
  {
   "cell_type": "code",
   "execution_count": null,
   "metadata": {},
   "outputs": [],
   "source": [
    "InSet(r, RealNonNeg).prove([InSet(r, Real), greater_eq(r, zero)])"
   ]
  },
  {
   "cell_type": "code",
   "execution_count": null,
   "metadata": {},
   "outputs": [],
   "source": [
    "InSet(r, RealNonPos).prove([InSet(r, Real), LessEq(r, zero)])"
   ]
  },
  {
   "cell_type": "code",
   "execution_count": null,
   "metadata": {},
   "outputs": [],
   "source": [
    "InSet(r, Real).prove([InSet(r, Rational)])"
   ]
  },
  {
   "cell_type": "code",
   "execution_count": null,
   "metadata": {},
   "outputs": [],
   "source": [
    "InSet(r, RealNonZero).prove([InSet(r, RationalNonZero)])"
   ]
  },
  {
   "cell_type": "code",
   "execution_count": null,
   "metadata": {},
   "outputs": [],
   "source": [
    "InSet(r, RealPos).prove([InSet(r, RationalPos)])"
   ]
  },
  {
   "cell_type": "code",
   "execution_count": null,
   "metadata": {},
   "outputs": [],
   "source": [
    "InSet(r, RealNeg).prove([InSet(r, RationalNeg)])"
   ]
  },
  {
   "cell_type": "code",
   "execution_count": null,
   "metadata": {},
   "outputs": [],
   "source": [
    "InSet(r, RealNonNeg).prove([InSet(r, RationalNonNeg)])"
   ]
  },
  {
   "cell_type": "code",
   "execution_count": null,
   "metadata": {},
   "outputs": [],
   "source": [
    "InSet(r, RealNonPos).prove([InSet(r, RationalNonPos)])"
   ]
  },
  {
   "cell_type": "code",
   "execution_count": null,
   "metadata": {},
   "outputs": [],
   "source": [
    "InSet(r, Real).prove([InSet(r, RealNonZero)])"
   ]
  },
  {
   "cell_type": "code",
   "execution_count": null,
   "metadata": {},
   "outputs": [],
   "source": [
    "InSet(r, Real).prove([InSet(r, RealPos)])"
   ]
  },
  {
   "cell_type": "code",
   "execution_count": null,
   "metadata": {},
   "outputs": [],
   "source": [
    "InSet(r, RealNonZero).prove([InSet(r, RealPos)])"
   ]
  },
  {
   "cell_type": "code",
   "execution_count": null,
   "metadata": {},
   "outputs": [],
   "source": [
    "InSet(r, RealNonNeg).prove([InSet(r, RealPos)])"
   ]
  },
  {
   "cell_type": "code",
   "execution_count": null,
   "metadata": {},
   "outputs": [],
   "source": [
    "InSet(r, Real).prove([InSet(r, RealNeg)])"
   ]
  },
  {
   "cell_type": "code",
   "execution_count": null,
   "metadata": {},
   "outputs": [],
   "source": [
    "InSet(r, RealNonZero).prove([InSet(r, RealNeg)])"
   ]
  },
  {
   "cell_type": "code",
   "execution_count": null,
   "metadata": {},
   "outputs": [],
   "source": [
    "InSet(r, RealNonPos).prove([InSet(r, RealNeg)])"
   ]
  },
  {
   "cell_type": "code",
   "execution_count": null,
   "metadata": {},
   "outputs": [],
   "source": [
    "InSet(r, Real).prove([InSet(r, RealNonNeg)])"
   ]
  },
  {
   "cell_type": "code",
   "execution_count": null,
   "metadata": {},
   "outputs": [],
   "source": [
    "InSet(r, Real).prove([InSet(r, RealNonPos)])"
   ]
  },
  {
   "cell_type": "code",
   "execution_count": null,
   "metadata": {},
   "outputs": [],
   "source": [
    "%end demonstrations"
   ]
  },
  {
   "cell_type": "code",
   "execution_count": null,
   "metadata": {},
   "outputs": [],
   "source": []
  }
 ],
 "metadata": {
  "kernelspec": {
   "display_name": "Python 3",
   "language": "python",
   "name": "python3"
  }
 },
 "nbformat": 4,
 "nbformat_minor": 0
}
