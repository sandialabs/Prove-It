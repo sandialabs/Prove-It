{
 "cells": [
  {
   "cell_type": "markdown",
   "metadata": {},
   "source": [
    "Conservative definitions for the theory of <a class=\"ProveItLink\" href=\"theory.ipynb\">proveit.numbers.number_sets.natural_numbers</a>\n",
    "========"
   ]
  },
  {
   "cell_type": "code",
   "execution_count": null,
   "metadata": {},
   "outputs": [],
   "source": [
    "import proveit\n",
    "# Prepare this notebook for defining the conservative definitions of a theory:\n",
    "%definitions_notebook # Keep this at the top following 'import proveit'.\n",
    "\n",
    "from proveit import m, n, x, X\n",
    "from proveit.logic import (Boolean, Implies, And, Forall, Equals, NotEquals, \n",
    "                           InSet, Set, SetEquiv, SetOfAll, SubsetEq, Difference)\n",
    "from proveit.numbers import zero, Natural, NaturalPos\n",
    "from proveit.numbers.number_sets.natural_numbers.successor import NatSuccessor"
   ]
  },
  {
   "cell_type": "code",
   "execution_count": null,
   "metadata": {},
   "outputs": [],
   "source": [
    "%begin defining_properties"
   ]
  },
  {
   "cell_type": "markdown",
   "metadata": {},
   "source": [
    "### These are essentially Peano's \"axioms\" but as conservative definitions derived from set theory"
   ]
  },
  {
   "cell_type": "code",
   "execution_count": null,
   "metadata": {},
   "outputs": [],
   "source": [
    "zero_in_nats = InSet(zero, Natural)\n",
    "successor_in_nats = Forall(n, InSet(NatSuccessor(n), Natural), domain=Natural)\n",
    "successor_is_injective = Forall((m, n), Equals(n, m), domain=Natural, \n",
    "                                condition=Equals(NatSuccessor(m), NatSuccessor(n)))\n",
    "zero_not_successor = Forall(n, NotEquals(NatSuccessor(n), zero), domain=Natural)\n",
    "induction = Forall(X, Implies(And(InSet(zero, X), Forall(x, InSet(NatSuccessor(x), X), domain=X)),\n",
    "                             SetEquiv(X, Natural)),\n",
    "                   condition=SubsetEq(X, Natural))\n",
    "# Not a standard Peano axioms, but we must be explicit about defining Natural as a genuine set.\n",
    "boolean_natural_membership = Forall(x, InSet(InSet(x, Natural), Boolean))"
   ]
  },
  {
   "cell_type": "markdown",
   "metadata": {},
   "source": [
    "### Define the positive naturals (excluding zero)"
   ]
  },
  {
   "cell_type": "code",
   "execution_count": null,
   "metadata": {},
   "outputs": [],
   "source": [
    "natural_pos_def = Equals(NaturalPos, Difference(Natural, Set(zero)))"
   ]
  },
  {
   "cell_type": "code",
   "execution_count": null,
   "metadata": {},
   "outputs": [],
   "source": [
    "%end defining_properties"
   ]
  }
 ],
 "metadata": {
  "kernelspec": {
   "display_name": "Python 3 (ipykernel)",
   "language": "python",
   "name": "python3"
  }
 },
 "nbformat": 4,
 "nbformat_minor": 0
}
