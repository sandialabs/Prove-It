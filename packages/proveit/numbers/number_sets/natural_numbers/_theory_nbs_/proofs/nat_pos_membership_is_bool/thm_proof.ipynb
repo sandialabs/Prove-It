{
 "cells": [
  {
   "cell_type": "markdown",
   "metadata": {},
   "source": [
    "Proof of <a class=\"ProveItLink\" href=\"../../../../../../_theory_nbs_/theory.ipynb\">proveit</a>.<a class=\"ProveItLink\" href=\"../../../../../_theory_nbs_/theory.ipynb\">numbers</a>.<a class=\"ProveItLink\" href=\"../../../../_theory_nbs_/theory.ipynb\">number_sets</a>.<a class=\"ProveItLink\" href=\"../../theory.ipynb\">natural_numbers</a>.<a class=\"ProveItLink\" href=\"../../theorems.ipynb#nat_pos_membership_is_bool\">nat_pos_membership_is_bool</a> theorem\n",
    "========"
   ]
  },
  {
   "cell_type": "code",
   "execution_count": 1,
   "metadata": {},
   "outputs": [],
   "source": [
    "import proveit\n",
    "theory = proveit.Theory() # the theorem's theory"
   ]
  },
  {
   "cell_type": "code",
   "execution_count": 2,
   "metadata": {},
   "outputs": [
    {
     "data": {
      "text/html": [
       "With these <a href=\"allowed_presumptions.txt\">allowed</a>/<a href=\"disallowed_presumptions.txt\">disallowed</a> theorem/theory presumptions (e.g., to avoid circular dependencies), we begin our proof of<br><strong id=\"nat_pos_membership_is_bool\">nat_pos_membership_is_bool:</strong> <a class=\"ProveItLink\" href=\"../../../__pv_it/theorems/dc149199e8ac1dbede23a03e7dc7526dba1752ea0/expr.ipynb\"><img src=\"data:image/png;base64,iVBORw0KGgoAAAANSUhEUgAAAK0AAAAZBAMAAACx2rMTAAAAMFBMVEX///8AAAAAAAAAAAAAAAAA\n",
       "AAAAAAAAAAAAAAAAAAAAAAAAAAAAAAAAAAAAAAAAAAAv3aB7AAAAD3RSTlMAq1RmmUTNIjK7EInv\n",
       "3XZ/CtNrAAAACXBIWXMAAA7EAAAOxAGVKw4bAAACtElEQVRIx51WTWgTURCeTTab3cQsCyL+4CFg\n",
       "L+Il5uJB0XiwakVRhF6KNdhDIRS6RRCEQutRLHZBcoj4E0EEhdhQBG9lLz0E8aengrC4xR+oaG8l\n",
       "oSA4b3ffe/trWgf2e8l88L15M/NmFyBq6csUkq3iPXEmJvgHGCSbgc/tBC5rxLpzVQp9dNN2Anky\n",
       "1quUKER2/NKoQf7jsqcLn0P8787kxArmr9AE0IjjkJ+dZhDdsngFYIHGC2uRU4xma3sAVBQ9Q/6P\n",
       "+8kLDCImrOZLsAvERqPTeIA7NMO6V+GtgufaArgTSfQmg6juYQyhwOKVSlHdsoDrGHK4Z77o4+Qt\n",
       "CtzWLcupo3DTvuXTFY0QT3QlXM9jUXFPya+hfqLAbPgnjVffp7a5rmqGeNTdexzXX/i8t6x3gbNW\n",
       "PchtHLi36PRjjXG6AnWum3FPxXlj9PVKG9frmIRzAA8DNTc8EGHNvuikUee6cqXVovcN5B4EeePa\n",
       "xJ8hXOdnAaYgq/l1Jc2DY3Cqudvx8LPoUE494hfLra7kr9vXYYx1BptYaeYDo6BQ8WAWBl3PnIVm\n",
       "eLpC8yC/J5shHnWVDCZiARVTdqBsPF6AD67npT/enNbi8fZCPNElqZ/BPECVXOeNs9/0sG6mC6+c\n",
       "E/h14b7CW7ILQd7RxZLPE61FLKeq75e8JhYMF3J1wYS2005svigYh3qXyXj9wHmim7LdfoBpjC0N\n",
       "T2Tav6YLqd5zM+PudYPliPwf5IPa61/GGyOw9AbXE06AJBnQDQSBkLtkD5Rd17O6OwjkyQ7iCz7A\n",
       "tSD/o/PUmWdwmqfKzNKfywyYjTy24uYxmw9hfozNxnxV3MY8C1lkntH+Y9NF/L5E7zjMMehnRxP8\n",
       "aS12GBYp9LPVBH9B/+/3G+z8/QZHGPzbdvg+3tb3A7GhpO8HLOdf3p+4IGDpWOoAAAAASUVORK5C\n",
       "YII=\n",
       "\" style=\"display:inline;vertical-align:middle;\" /></a><br>(see <a class=\"ProveItLink\" href=\"../../../__pv_it/theorems/c265aa639487d5291dfe6a182631ced9d17214110/dependencies.ipynb\">dependencies</a>)<br>"
      ],
      "text/plain": [
       "<IPython.core.display.HTML object>"
      ]
     },
     "metadata": {},
     "output_type": "display_data"
    },
    {
     "name": "stdout",
     "output_type": "stream",
     "text": [
      "nat_pos_membership_is_bool may now be readily provable (assuming required theorems are usable).  Simply execute \"%qed\".\n"
     ]
    }
   ],
   "source": [
    "%proving nat_pos_membership_is_bool"
   ]
  },
  {
   "cell_type": "code",
   "execution_count": null,
   "metadata": {},
   "outputs": [],
   "source": []
  }
 ],
 "metadata": {
  "kernelspec": {
   "display_name": "Python 3",
   "language": "python",
   "name": "python3"
  }
 },
 "nbformat": 4,
 "nbformat_minor": 0
}