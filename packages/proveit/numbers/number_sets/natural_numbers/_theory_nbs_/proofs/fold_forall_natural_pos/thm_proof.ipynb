{
 "cells": [
  {
   "cell_type": "markdown",
   "metadata": {},
   "source": [
    "Proof of <a class=\"ProveItLink\" href=\"../../../../../../_theory_nbs_/theory.ipynb\">proveit</a>.<a class=\"ProveItLink\" href=\"../../../../../_theory_nbs_/theory.ipynb\">numbers</a>.<a class=\"ProveItLink\" href=\"../../../../_theory_nbs_/theory.ipynb\">number_sets</a>.<a class=\"ProveItLink\" href=\"../../theory.ipynb\">natural_numbers</a>.<a class=\"ProveItLink\" href=\"../../theorems.ipynb#fold_forall_natural_pos\">fold_forall_natural_pos</a> theorem\n",
    "========"
   ]
  },
  {
   "cell_type": "code",
   "execution_count": 1,
   "metadata": {},
   "outputs": [],
   "source": [
    "import proveit\n",
    "theory = proveit.Theory() # the theorem's theory"
   ]
  },
  {
   "cell_type": "code",
   "execution_count": 2,
   "metadata": {},
   "outputs": [
    {
     "data": {
      "text/html": [
       "With these <a href=\"allowed_presumptions.txt\">allowed</a>/<a href=\"disallowed_presumptions.txt\">disallowed</a> theorem/theory presumptions (e.g., to avoid circular dependencies), we begin our proof of<br><strong id=\"fold_forall_natural_pos\">fold_forall_natural_pos:</strong> <a class=\"ProveItLink\" href=\"../../../__pv_it/theorems/e6f44021025793e42989a647168c70ce5480d4c80/expr.ipynb\"><img src=\"data:image/png;base64,iVBORw0KGgoAAAANSUhEUgAAAhEAAAAaBAMAAAD76BPLAAAAMFBMVEX///8AAAAAAAAAAAAAAAAA\n",
       "AAAAAAAAAAAAAAAAAAAAAAAAAAAAAAAAAAAAAAAAAAAv3aB7AAAAD3RSTlMAq1RmmUTNIjK7EInv\n",
       "3XZ/CtNrAAAACXBIWXMAAA7EAAAOxAGVKw4bAAAGoElEQVRYw81ZfWwURRR/vdvr9r62V0UUjOSM\n",
       "yh8K0gRoaEQsoUShITm/YkiqLKlJE6Jh+w8JovbgvwYLJSbioaGbmGiIQRbQGEvQKjEaiFqJJmq4\n",
       "eAWjqcG2BkEoCThvZmd29nZu29PS+JKbvY+Z37z3m/fevJkDUMlS0UwqdxQtmDkxiqcBtGmHrYgY\n",
       "aeHN5GLCzMpiAL1vukErIr4tGk/Yyus3mAl90t8IE7BC6S35aiayPEwcuaJCt1dF402UpY9Y6cYy\n",
       "cTbkNzY3MpG2g78mc1VFWVbCJEMRMYNf3OUnf5A3I9f3zHmWTnsfefWSd+eCTCgQqgz+/isNr62l\n",
       "YelU6iPmRiaMjIqJGorQGDKR3xwq5xgTiLgaP3f684fDG7gEED9JngkTErM2E5BadzmSWcGEAqFK\n",
       "qSeO9aYdjEgh0tzIRGJCxYSGXlEbmr8lc1xBTMIEIm4PJoz6HG/qrhGWryEvSPUYGRV18+hBUzCx\n",
       "Hf5rEttNfHQR+umqQETwJRZzIxPQoWKiDj1la9g8fnOoICYGVodLStavmM0b4zJ5XSVvUlwbOOl6\n",
       "1S2CCQVClTJGkt0Y+uBgYBcrSUzQuSkTa7wecVvkiU3kcSQ0DH3mMDnJmCCIUUJPrX/AH6KJj5MX\n",
       "GQ7zhTbucgz1CCYUCFVKP74IGxEznIkOzsR5aZ37BBOLJ0vgfnOYdDAmEPGrYvGUf8Bs0dT3MdeF\n",
       "NqHNYaahwwPSVCFUKVeY49Lc9MzcbSOlnR/lVEwc5kxskDaPBwQTqWLxjBOajyRzYsPvfLyfYSIT\n",
       "iPgIwD7/gIJoyLBtp0VgUm2aWKKxeOFlqhB47E6NCMKCfhzDq5Z4l7OnlLiQiwyqmGjiTOymtcO6\n",
       "IsrPLZwJLS9iRa2FbE4yPg8OWRQTmUDELtBJqon1t6281R2wUTRjtx9jNfdpoc0C+plkyZ8EEwwh\n",
       "pIj1FbMRkd25lcafx45SH0hnIZb7EfRrEB1XMbGAM9EtFw/zsy4TRIuu0FJaNufJdB905ykmMoGI\n",
       "cZsWJQ8CHHcHfCeafo7xudBmN/18G8CoYMJFkOSltlz0U0+HOHus/+v9Bks6zmhS+FJJke0scREi\n",
       "E6BhvGvE20nkZXxzUyYOyfMlnsu5ldU++CBEC785NsFYZFNMHIqIkRJNd7PIbAGfuBRkoh3c/fig\n",
       "YMJF4L4+XMhFMgOwNsBEdAiSQwnPfWKOV05wJiAyjjSkHJVPtAufkCvrLR/yGvN+L2EqtCgzZxHL\n",
       "he2uTyCiSYvuzwC+LWei7iof6kXHQl5XaVlRbZty2d6Km8AKDZxk67rW1TITNS1gjGvScm5yw5en\n",
       "ORIdUGNC2oENlq1gYqHIE5aXJ4qdotqujZZCtCgzh9BwIUExaZ5AxCOokD4BXfzwOYc3xkU+dL/Q\n",
       "ppmqjCNMwQQiRFftGjaa82Bg0RLZ8VTJCfhEKgvpTNrryjf/MU5OnBhCvIF46my9UcFEs2rvWO+d\n",
       "O5LzyfdLlo22KLUoM+cUicIkxeR7B7yI/hr9evRe3u88b2p5ALO98xOL76fUB14XTCDCW+2NqQwp\n",
       "3w9QA/ID9wSZ6Lb1WbDF6wp3s+83iyyfoW76EMAbybLoEHNTJpZLhyTTY0InWSGx9AR8odTCb45+\n",
       "GQxzGcXEoRSxBkOkRsr+lB/SaP1XuCK95NXwzUbC9Pf4cS42uwQTiPDCr1CfJwXB40wHzegLMLF8\n",
       "9KyNS8i7usu55vp+HtxDAE8D/ALwxG9+Jry5KRMrpWopL51FSSLX3zNhQqmF35zYECRuzlJMHOoh\n",
       "pqQzHCYu1ghJ8xSlD1U6lc+DVzDQmwqFQjaSTzimt5O7TDRgc6fXFXrKN7wfKtaYYu7yc4defiqv\n",
       "KcUGlVqozKGY7rnDlW5LeRaVDyrst8ZKTHwJI9BdBzvZasBjkg0uEyew6fG68ujwZEnFE5iYu/JZ\n",
       "lK9jXmvJq7RQmUMx3bMovyIYkPbBQd54std9bq10U6OPk6Vu1liVF8357hAYE/rfbrLlXXlJInUM\n",
       "PVNv5fcT0UwIE92Q3pFXaaEyh2KSodEK/W4SjZAD5RDlTMQy0Aldv4OOibS3070CkpkYuWozY3nX\n",
       "IFgi9HC/V9xZWSFMPArGUaUWKnMoJt5ZWVO+x9SZmxnWpLd37xYK5RdpcdnfnTC7Xw47U1th95hJ\n",
       "/z2mQguFORTTOJOreI9JL9EizrTdbctMwMNe3P+b/wdm9m67mv87np/C/x0+JpK2b5Zq/+8gaVez\n",
       "p/3/jmlHnNLdvR1487+QfwDBNQdTuGi0SgAAAABJRU5ErkJggg==\n",
       "\" style=\"display:inline;vertical-align:middle;\" /></a><br>(see <a class=\"ProveItLink\" href=\"../../../__pv_it/theorems/65509fa5b60502da38b5d1cf98acd28851521d710/dependencies.ipynb\">dependencies</a>)<br>"
      ],
      "text/plain": [
       "<IPython.core.display.HTML object>"
      ]
     },
     "metadata": {},
     "output_type": "display_data"
    }
   ],
   "source": [
    "%proving fold_forall_natural_pos"
   ]
  },
  {
   "cell_type": "code",
   "execution_count": null,
   "metadata": {},
   "outputs": [],
   "source": []
  }
 ],
 "metadata": {
  "kernelspec": {
   "display_name": "Python 3",
   "language": "python",
   "name": "python3"
  }
 },
 "nbformat": 4,
 "nbformat_minor": 0
}