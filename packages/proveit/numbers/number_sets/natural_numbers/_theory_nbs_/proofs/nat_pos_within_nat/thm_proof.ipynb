{
 "cells": [
  {
   "cell_type": "markdown",
   "metadata": {},
   "source": [
    "Proof of <a class=\"ProveItLink\" href=\"../../../../../../_theory_nbs_/theory.ipynb\">proveit</a>.<a class=\"ProveItLink\" href=\"../../../../../_theory_nbs_/theory.ipynb\">numbers</a>.<a class=\"ProveItLink\" href=\"../../../../_theory_nbs_/theory.ipynb\">number_sets</a>.<a class=\"ProveItLink\" href=\"../../theory.ipynb\">natural_numbers</a>.<a class=\"ProveItLink\" href=\"../../theorems.ipynb#nat_pos_within_nat\">nat_pos_within_nat</a> theorem\n",
    "========"
   ]
  },
  {
   "cell_type": "code",
   "execution_count": 1,
   "metadata": {},
   "outputs": [],
   "source": [
    "import proveit\n",
    "theory = proveit.Theory() # the theorem's theory"
   ]
  },
  {
   "cell_type": "code",
   "execution_count": 2,
   "metadata": {},
   "outputs": [
    {
     "data": {
      "text/html": [
       "With these <a href=\"allowed_presumptions.txt\">allowed</a>/<a href=\"disallowed_presumptions.txt\">disallowed</a> theorem/theory presumptions (e.g., to avoid circular dependencies), we begin our proof of<br><strong id=\"nat_pos_within_nat\">nat_pos_within_nat:</strong> <a class=\"ProveItLink\" href=\"../../../__pv_it/theorems/39501c3279d7a7bd5d06ac28f4efc5811af704550/expr.ipynb\"><img src=\"data:image/png;base64,iVBORw0KGgoAAAANSUhEUgAAAEcAAAATBAMAAAAwgQ3NAAAAMFBMVEX///8AAAAAAAAAAAAAAAAA\n",
       "AAAAAAAAAAAAAAAAAAAAAAAAAAAAAAAAAAAAAAAAAAAv3aB7AAAAD3RSTlMAEN27zYnvRFSrImZ2\n",
       "MpmnAiL6AAAACXBIWXMAAA7EAAAOxAGVKw4bAAAA3UlEQVQoz2NggAM+BiIAM4WKhD6bCDCEfSvA\n",
       "pgghZ8E+gYHxA3aT4HKTFkQzMCQwPDY2MzbegKYIKsfAMMOAZQGDAnaT4HKz9nA5oCk6rKSkpMuA\n",
       "LDeL88JRVEVXomAsuNwsBgPmAmRFjFpwI+FysxjuMSoqIIU4ZwGSIqjcLAbuhuYEJNeyMCApgsrN\n",
       "YmCYyIms6CayIqgckCHJqICkaCWKIogckMF7wABJEROKIoicLRCfRVbEhwh3uJwHSNwBOZzd4SyY\n",
       "3JVvQJWMKIqEpwtAQxVTDgFKjaDRAgUAT1U9HLVpTsoAAAAASUVORK5CYII=\n",
       "\" style=\"display:inline;vertical-align:middle;\" /></a><br>(see <a class=\"ProveItLink\" href=\"../../../__pv_it/theorems/d7c109b8820a75771e73c77bf57f099618f48fe10/dependencies.ipynb\">dependencies</a>)<br>"
      ],
      "text/plain": [
       "<IPython.core.display.HTML object>"
      ]
     },
     "metadata": {},
     "output_type": "display_data"
    }
   ],
   "source": [
    "%proving nat_pos_within_nat"
   ]
  },
  {
   "cell_type": "code",
   "execution_count": null,
   "metadata": {},
   "outputs": [],
   "source": []
  }
 ],
 "metadata": {
  "kernelspec": {
   "display_name": "Python 3",
   "language": "python",
   "name": "python3"
  }
 },
 "nbformat": 4,
 "nbformat_minor": 0
}