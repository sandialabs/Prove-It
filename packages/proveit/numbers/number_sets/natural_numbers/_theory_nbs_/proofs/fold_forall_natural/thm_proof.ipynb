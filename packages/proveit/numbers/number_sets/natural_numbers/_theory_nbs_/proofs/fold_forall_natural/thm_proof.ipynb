{
 "cells": [
  {
   "cell_type": "markdown",
   "metadata": {},
   "source": [
    "Proof of <a class=\"ProveItLink\" href=\"../../../../../../_theory_nbs_/theory.ipynb\">proveit</a>.<a class=\"ProveItLink\" href=\"../../../../../_theory_nbs_/theory.ipynb\">numbers</a>.<a class=\"ProveItLink\" href=\"../../../../_theory_nbs_/theory.ipynb\">number_sets</a>.<a class=\"ProveItLink\" href=\"../../theory.ipynb\">natural_numbers</a>.<a class=\"ProveItLink\" href=\"../../theorems.ipynb#fold_forall_natural\">fold_forall_natural</a> theorem\n",
    "========"
   ]
  },
  {
   "cell_type": "code",
   "execution_count": 1,
   "metadata": {},
   "outputs": [],
   "source": [
    "import proveit\n",
    "theory = proveit.Theory() # the theorem's theory"
   ]
  },
  {
   "cell_type": "code",
   "execution_count": 2,
   "metadata": {},
   "outputs": [
    {
     "data": {
      "text/html": [
       "With these <a href=\"allowed_presumptions.txt\">allowed</a>/<a href=\"disallowed_presumptions.txt\">disallowed</a> theorem/theory presumptions (e.g., to avoid circular dependencies), we begin our proof of<br><strong id=\"fold_forall_natural\">fold_forall_natural:</strong> <a class=\"ProveItLink\" href=\"../../../__pv_it/theorems/fc4a9243c5a3dcbdefadf7eb57556e8e94de8bee0/expr.ipynb\"><img src=\"data:image/png;base64,iVBORw0KGgoAAAANSUhEUgAAAfsAAAAZBAMAAADEXprcAAAAMFBMVEX///8AAAAAAAAAAAAAAAAA\n",
       "AAAAAAAAAAAAAAAAAAAAAAAAAAAAAAAAAAAAAAAAAAAv3aB7AAAAD3RSTlMAq1RmmUTNIjK7EInv\n",
       "3XZ/CtNrAAAACXBIWXMAAA7EAAAOxAGVKw4bAAAGrElEQVRYw82Yf4hUVRTHz8ybH2/e7MxuFJX9\n",
       "kInKlgwdaxf6w3Js09Sl2Ij+0nSoQDKikUAwzR3/DErHwHQl3GeBIUGOhn/oYqzFgmTFGKFWDow/\n",
       "UKTUDdRdV9DOuffdH+/HzP5glR68O2/eu/d83+fec8879wIEHUaXKEY9Hq4W4I4cF6sZgNwkGozU\n",
       "ffKYLEY98nCnDiMLsHoS7cVLdR5YeVFolflP4bbhF0Z7RvhGLcgvToyRV7NGbZ6vUy+RFYU6TvOf\n",
       "pbcLP51p8HCpwIc/A57uG6PEad0aNkrZAC10/ai73lpRpHuv3/X5IvoXLgP0nS1AOuvDD7Hn2QlB\n",
       "X7i1acrbNl1Nr1fFRGKmyvBPBeIHQfgkCIH3dJbjp7HZPLqx3N2iUxbNOLhfUNudALGMdRxghVNn\n",
       "r8SPUIiMTTAAXkM3+8k/1dSxY/4IcFWGv9sOwg+C8EnslHdWcHwLLa8PCAJXZbER59pMmm8dAM8B\n",
       "7Adoc8LDMYlvUt9PMCaZN3FUblIY9nnPa2KsCL9N4MeyQfjrG0QyKdEhb7U5M+YttIfdmXTPO3NE\n",
       "FHC5iCc5TT/AJuwJG5p496dndcm5v0JzhvHO+GE8b+BFk+/RDB2fVBl+RIPcJvEDIPwS/fIWWSP8\n",
       "hdxozNOgIgropRO7IIyUV9AZMqL7U2ZJ4j8z8QiYGMQT3w+mNcYnVYafVhDwscQPgPBJhNUrkjXC\n",
       "/wfPX6rVI+4Gobwo4Dp3HoiUwSL8LCRZmMFItVziN1WrJ8sTw28u8QlGkSZ66uvvt5t9m4PwSZXh\n",
       "R0e0RKAsI78fwieBCLD0gTUXatwa4S9DL1igvEj0V0kUiB4/mOH9Fb/BzBi8E5eLrAj/RoqQsOuI\n",
       "u9K0J6R/iQs0uOY34NMwmZgKu9vhqSB8UmX45jBL2KrsuCLx/RDglaAhL2+qWUPcGuFvRL9eCXHs\n",
       "jGhv59z7hG+0iCL9b993bI6nMhy/DGHmfRjuUrbAx/YrPQnG7/tgNnMTPkW4dS2LFr1y+cG+dnaB\n",
       "L/h6qgTdNZgThE+qDD9+VZMJvynwOUSAvpJAhGjXHxAf5tYIvxtfKGEn6bUwrh90GqdyoqB5w4NF\n",
       "F1iIv6wGJrsVKkK6JtOeba7MY8OUzfBI0o7YCp9b36HqLHZ+e8WNAQB7dxfF1vn09+Vq9edq9ajE\n",
       "J1WGb+n4sHPAwXcg/PpKghCwdXiEW6M3RkEI11jQuAf7yTf6zXnVlkLfTOxBNvr4DbUqEn+GHvki\n",
       "CygFqeWSoOEz6/NUpZgtv8kSH2YCsR8JGv2oHP1hfZDfLTj4DoRfX0kQQniQxbSoGP0iAbDc9weA\n",
       "oz78jSKioedAD8AcG8IVkfS8IPFjlIq3PXup5cxWgDN0t/XxdS58Zr2iKjlfKfOGeGmanfcC/AXR\n",
       "ISvI+Sti7g9pc/9YQSa9BGF0bDjr1VcShIDszVnOwOY+td9L3+34CKwUEzJUEsVl4VEJ5JvNBsdg\n",
       "QNQHqyR+cpoNVvuPcAhzUos9b01+uVjDZ9bjeVkJwlwrLV15O9C4o3OG8h8Ehb5SQOSPllTOTxBf\n",
       "Lck2FTz6SoIQmso4vcrMmoj8sJbG2fj10pMyLveL4n1xiz4VqYx1mH8/+MIrURT48UN4fpuHYfx+\n",
       "RVle0Aq5Cxo+s45vKyqJN4+J2AJ7mF8bg5Aol934ySH+4eX4hvbdX6UteQjiw3PQbHv0lQQhoLef\n",
       "M4rMGjWa7YQxLLTAyXqYioW3totEEIfb6jyFNVPkECHqNrMmV3z3072a2Y8+bLzT0/MZyn8T0/CZ\n",
       "9XCLrAQ8aYr0XhcL2E9RsQLpHERfKbjwQw9du5ur8qxPe8+tGj6DmApLvPpKghDewDXE09waNZqr\n",
       "8kA9lx6QhTzkkvqjegvepmK6FB8smmXe+9EZGj6zTshOJeH86kgV62V9UtWX8xe8C97D8KLp0Q9C\n",
       "YNacnN85uguBKz7XKoEdHfXwu3FojVKOpx/tYmla0qxXVKW0d9vCyNVb8kjVBis+50MwCCdaPfpB\n",
       "CMyas+JzpnvvAa3iJ7JQmWChzg6RxH8VF73xqTasxnE0MSaHFL5jfYuqlPCtj7eMui/F8Gc12O6I\n",
       "tsDfWY9+AAK3ho2MlmC1UEYUav+r5LFRd7fH2t+zWf3Te2uxutzl09zVcGVUEPjHR93tcesHIHBr\n",
       "tNtTGPte3zr+c36cm106fkTJveQf4FoDK+cb7vUdHONe3zrN2sWB+nt9fOdp+mTs9LrmygHXRvr/\n",
       "dqd3PPv87zXe53c9tHwX49nnP4n4iyZznx+j6H8wyRMPLQhQtQAAAABJRU5ErkJggg==\n",
       "\" style=\"display:inline;vertical-align:middle;\" /></a><br>(see <a class=\"ProveItLink\" href=\"../../../__pv_it/theorems/2cbdb5f962b687abe1cba460e7570d5a985942f20/dependencies.ipynb\">dependencies</a>)<br>"
      ],
      "text/plain": [
       "<IPython.core.display.HTML object>"
      ]
     },
     "metadata": {},
     "output_type": "display_data"
    }
   ],
   "source": [
    "%proving fold_forall_natural"
   ]
  },
  {
   "cell_type": "code",
   "execution_count": null,
   "metadata": {},
   "outputs": [],
   "source": []
  }
 ],
 "metadata": {
  "kernelspec": {
   "display_name": "Python 3",
   "language": "python",
   "name": "python3"
  }
 },
 "nbformat": 4,
 "nbformat_minor": 0
}