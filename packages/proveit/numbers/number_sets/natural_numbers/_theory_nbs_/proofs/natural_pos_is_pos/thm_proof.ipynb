{
 "cells": [
  {
   "cell_type": "markdown",
   "metadata": {},
   "source": [
    "Proof of <a class=\"ProveItLink\" href=\"../../../../../../_theory_nbs_/theory.ipynb\">proveit</a>.<a class=\"ProveItLink\" href=\"../../../../../_theory_nbs_/theory.ipynb\">numbers</a>.<a class=\"ProveItLink\" href=\"../../../../_theory_nbs_/theory.ipynb\">number_sets</a>.<a class=\"ProveItLink\" href=\"../../theory.ipynb\">natural_numbers</a>.<a class=\"ProveItLink\" href=\"../../theorems.ipynb#natural_pos_is_pos\">natural_pos_is_pos</a> theorem\n",
    "========"
   ]
  },
  {
   "cell_type": "code",
   "execution_count": 1,
   "metadata": {},
   "outputs": [],
   "source": [
    "import proveit\n",
    "theory = proveit.Theory() # the theorem's theory"
   ]
  },
  {
   "cell_type": "code",
   "execution_count": 2,
   "metadata": {},
   "outputs": [
    {
     "data": {
      "text/html": [
       "With these <a href=\"allowed_presumptions.txt\">allowed</a>/<a href=\"disallowed_presumptions.txt\">disallowed</a> theorem/theory presumptions (e.g., to avoid circular dependencies), we begin our proof of<br><strong id=\"natural_pos_is_pos\">natural_pos_is_pos:</strong> <a class=\"ProveItLink\" href=\"../../../__pv_it/theorems/b18717fc9d11afe0480a095623b244f8f91437c00/expr.ipynb\"><img src=\"data:image/png;base64,iVBORw0KGgoAAAANSUhEUgAAAIMAAAAVBAMAAACXjEALAAAAMFBMVEX///8AAAAAAAAAAAAAAAAA\n",
       "AAAAAAAAAAAAAAAAAAAAAAAAAAAAAAAAAAAAAAAAAAAv3aB7AAAAD3RSTlMAq1RmmUTNIjK7EInv\n",
       "3XZ/CtNrAAAACXBIWXMAAA7EAAAOxAGVKw4bAAACGElEQVQ4y41UTUsbURQ9mcnH5E2s2RVdSIoo\n",
       "WelQ7M60AWOVdpNVNvVrJ7qKS21r7R+IWnARV08FNyIMpV1oKXQZKIUupNWFMFFRRIQsWhTdeF8m\n",
       "mY8wGTIwzJ373j1z7znnDdDCFWm+lEdr10nzpQm64yLo9kWQdO/8t7M8HmnAsHiZ9oXY9k6HE+wv\n",
       "MAt8FLOu+EIMeadTwB4wQFgcUBO+ED+cHWlWuAr0c8Q4ZMqF/amYcryw70Y9/AcsJxCm+l/Hxz99\n",
       "IYLE5kTn28ta7fV+DUxAaFBJj1Fg3aPQVkF8R1812E2dg1emWe4JwoBMPc4hEveASFtRWwKh7BEi\n",
       "t/VE74gFoUMipqJczTqdePAVg3EnRCwLxv5DurMyuU4xCEFMGlAqxJZhs1noWMMTlQd5AwSkCgI2\n",
       "q7n1Gp391KDQa+q5RdyocKqRVvElc5DJ2oOI+naN1wd5XH0UgRcc0m8KP5PB5KHCGXAqVpI9i6qL\n",
       "iyhJEdPJAzWGUyPmcxB4SZXClu9o8q0xLZZnVZMm1c03Lggh24clnMtLLlGpO1YyJUeAlhbO0c5D\n",
       "Veclkb50QSjU6jiw8bTqhmvLWux1mSrbLC26MAZ5plj8RBA7YZcvcOgQbFdrEP+9FZWQURTd7CLU\n",
       "59410NIZjFRwmDRd+gwou3dFfX5N9iEPxXGlYZ5mU/7kEXBvYz7/gkZ4tldc89q32BziAngAyZt5\n",
       "l3CyLfoAAAAASUVORK5CYII=\n",
       "\" style=\"display:inline;vertical-align:middle;\" /></a><br>(see <a class=\"ProveItLink\" href=\"../../../__pv_it/theorems/471bcdd06c95b19ffa2209e46c0254cbe4edf0390/dependencies.ipynb\">dependencies</a>)<br>"
      ],
      "text/plain": [
       "<IPython.core.display.HTML object>"
      ]
     },
     "metadata": {},
     "output_type": "display_data"
    },
    {
     "name": "stdout",
     "output_type": "stream",
     "text": [
      "natural_pos_is_pos may now be readily provable (assuming required theorems are usable).  Simply execute \"%qed\".\n"
     ]
    }
   ],
   "source": [
    "%proving natural_pos_is_pos"
   ]
  },
  {
   "cell_type": "code",
   "execution_count": null,
   "metadata": {},
   "outputs": [],
   "source": []
  }
 ],
 "metadata": {
  "kernelspec": {
   "display_name": "Python 3",
   "language": "python",
   "name": "python3"
  }
 },
 "nbformat": 4,
 "nbformat_minor": 0
}