{
 "cells": [
  {
   "cell_type": "markdown",
   "metadata": {},
   "source": [
    "Proof of <a class=\"ProveItLink\" href=\"../../../../../../_theory_nbs_/theory.ipynb\">proveit</a>.<a class=\"ProveItLink\" href=\"../../../../../_theory_nbs_/theory.ipynb\">numbers</a>.<a class=\"ProveItLink\" href=\"../../../../_theory_nbs_/theory.ipynb\">number_sets</a>.<a class=\"ProveItLink\" href=\"../../theory.ipynb\">natural_numbers</a>.<a class=\"ProveItLink\" href=\"../../theorems.ipynb#nat_membership_is_bool\">nat_membership_is_bool</a> theorem\n",
    "========"
   ]
  },
  {
   "cell_type": "code",
   "execution_count": null,
   "metadata": {},
   "outputs": [],
   "source": [
    "import proveit\n",
    "from proveit import k, l, n, x\n",
    "from proveit.numbers import Natural, NaturalPos\n",
    "from proveit.numbers import zero, one\n",
    "from proveit.logic import InSet\n",
    "#from proveit.numbers.number_sets.integers  import naturals_def\n",
    "#from proveit.numbers.numerals.decimals import posnat1\n",
    "from proveit.logic.booleans.quantification.universality  import forall_in_bool\n",
    "theory = proveit.Theory() # the theorem's theory"
   ]
  },
  {
   "cell_type": "markdown",
   "metadata": {},
   "source": [
    "### Must be updated to use Peano's axioms"
   ]
  },
  {
   "cell_type": "code",
   "execution_count": null,
   "metadata": {},
   "outputs": [],
   "source": [
    "%proving nat_membership_is_bool"
   ]
  },
  {
   "cell_type": "code",
   "execution_count": null,
   "metadata": {},
   "outputs": [],
   "source": [
    "# naturals_def\n",
    "\n",
    "# naturals_def_inst = naturals_def.instantiate({n:x, x:k})\n",
    "\n",
    "# naturals_def_inst_rhs = naturals_def_inst.rhs\n",
    "\n",
    "# naturals_def_inst_rhs__inbool = naturals_def_inst_rhs.deduce_in_bool()\n",
    "\n",
    "# naturals_def_inst.sub_left_side_into(naturals_def_inst_rhs__inbool)\n",
    "\n",
    "# %qed"
   ]
  }
 ],
 "metadata": {
  "kernelspec": {
   "display_name": "Python 3",
   "language": "python",
   "name": "python3"
  }
 },
 "nbformat": 4,
 "nbformat_minor": 0
}
