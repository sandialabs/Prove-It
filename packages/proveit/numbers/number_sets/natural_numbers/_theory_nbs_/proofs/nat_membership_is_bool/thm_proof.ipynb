{
 "cells": [
  {
   "cell_type": "markdown",
   "metadata": {},
   "source": [
    "Proof of <a class=\"ProveItLink\" href=\"../../../../../../_theory_nbs_/theory.ipynb\">proveit</a>.<a class=\"ProveItLink\" href=\"../../../../../_theory_nbs_/theory.ipynb\">numbers</a>.<a class=\"ProveItLink\" href=\"../../../../_theory_nbs_/theory.ipynb\">number_sets</a>.<a class=\"ProveItLink\" href=\"../../theory.ipynb\">natural_numbers</a>.<a class=\"ProveItLink\" href=\"../../theorems.ipynb#nat_membership_is_bool\">nat_membership_is_bool</a> theorem\n",
    "========"
   ]
  },
  {
   "cell_type": "code",
   "execution_count": 1,
   "metadata": {},
   "outputs": [],
   "source": [
    "import proveit\n",
    "from proveit import k, l, n, x\n",
    "from proveit.numbers import Natural, NaturalPos\n",
    "from proveit.numbers import zero, one\n",
    "from proveit.logic import InSet\n",
    "#from proveit.numbers.number_sets.integers  import naturals_def\n",
    "#from proveit.numbers.numerals.decimals import posnat1\n",
    "from proveit.logic.booleans.quantification.universality  import forall_in_bool\n",
    "theory = proveit.Theory() # the theorem's theory"
   ]
  },
  {
   "cell_type": "markdown",
   "metadata": {},
   "source": [
    "### Must be updated to use Peano's axioms"
   ]
  },
  {
   "cell_type": "code",
   "execution_count": 2,
   "metadata": {},
   "outputs": [
    {
     "data": {
      "text/html": [
       "With these <a href=\"allowed_presumptions.txt\">allowed</a>/<a href=\"disallowed_presumptions.txt\">disallowed</a> theorem/theory presumptions (e.g., to avoid circular dependencies), we begin our proof of<br><strong id=\"nat_membership_is_bool\">nat_membership_is_bool:</strong> <a class=\"ProveItLink\" href=\"../../../__pv_it/theorems/006d7445932ac3cda43afbc2d55b6ae3298c3a050/expr.ipynb\"><img src=\"data:image/png;base64,iVBORw0KGgoAAAANSUhEUgAAAJoAAAAVBAMAAABMN+opAAAAMFBMVEX///8AAAAAAAAAAAAAAAAA\n",
       "AAAAAAAAAAAAAAAAAAAAAAAAAAAAAAAAAAAAAAAAAAAv3aB7AAAAD3RSTlMAq1RmmUTNIjK7EInv\n",
       "3XZ/CtNrAAAACXBIWXMAAA7EAAAOxAGVKw4bAAACRUlEQVQ4y5WUTWgTQRiG381ufna3DbmIFooU\n",
       "BEFULD0IRZCA+IN6iAoe/F3oQQjFjggFoYd4VFD3IkXRmoOIPbSmIogIxUsPUcRUUPEQXKl6EMxV\n",
       "EARn5pttZ7JdIR+8y+wzM+/8fDMDJIMppUS+J14cInWH9+VOFf67pWzUVfGrOTG+XIHgJfG/Ra/c\n",
       "rpQId+gY8ARY6a4Iz+WrGyTfL34v6FMISMmwPvnD6ANy9W63E3juSn5VrDjUqpxh0jpu2/iw/YBd\n",
       "TrqNWJKLgXx9l/qUtI283/4o3S5Hk8INr00u3XKS23waOb3vVqXVyF5UK7PYpmJDuI2ZXLht3EP8\n",
       "bbv9Ru98RGn+6+OXcs6TcSeLubgt3BZgcJ6F+eUG8UPAXd1tTKlc3Oy0jBRZrFCem+OF3TBTF54d\n",
       "/3uY+CXkS7rbe5LN7D+WTEaw5oaRzD1e2AGDi5WunKxL7tb9iu62RCrAoeYFvhXtz8rNqg/ywi2T\n",
       "Czc325A8ExlJiN14YunMe6E2N68kVnrG5NINIfFgL/90Dn5jxkqB88yT+9zS3HCTn1LshMHJLSD+\n",
       "tMqPDhvIqUM3Q5qtDMKXoLN6s2q84TVeGDW5dMtExKd4EmzMFFTVAmnX9aM4LkE8DBUOqAOkcYSn\n",
       "sfhMcasmyO+46gbpYSezj5p7A6coHRNN/n3E9cHg+NF8IN6QmIumr+Lnqb9G0i7DC3WD4oes9X+O\n",
       "KT9wVFHc6cS9NmL9N0HjzvfFnzGcVkqNK73wWaXUmO6F5yNSWhRZKv8H2fmdaVUcrekAAAAASUVO\n",
       "RK5CYII=\n",
       "\" style=\"display:inline;vertical-align:middle;\" /></a><br>(see <a class=\"ProveItLink\" href=\"../../../__pv_it/theorems/0f619eb4a01c6500c45f4bd8e1dedf3654da42ba0/dependencies.ipynb\">dependencies</a>)<br>"
      ],
      "text/plain": [
       "<IPython.core.display.HTML object>"
      ]
     },
     "metadata": {},
     "output_type": "display_data"
    },
    {
     "name": "stdout",
     "output_type": "stream",
     "text": [
      "nat_membership_is_bool may now be readily provable (assuming required theorems are usable).  Simply execute \"%qed\".\n"
     ]
    }
   ],
   "source": [
    "%proving nat_membership_is_bool"
   ]
  },
  {
   "cell_type": "code",
   "execution_count": 3,
   "metadata": {},
   "outputs": [],
   "source": [
    "# naturals_def\n",
    "\n",
    "# naturals_def_inst = naturals_def.instantiate({n:x, x:k})\n",
    "\n",
    "# naturals_def_inst_rhs = naturals_def_inst.rhs\n",
    "\n",
    "# naturals_def_inst_rhs__inbool = naturals_def_inst_rhs.deduce_in_bool()\n",
    "\n",
    "# naturals_def_inst.sub_left_side_into(naturals_def_inst_rhs__inbool)\n",
    "\n",
    "# %qed"
   ]
  }
 ],
 "metadata": {
  "kernelspec": {
   "display_name": "Python 3",
   "language": "python",
   "name": "python3"
  }
 },
 "nbformat": 4,
 "nbformat_minor": 0
}