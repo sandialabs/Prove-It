{
 "cells": [
  {
   "cell_type": "markdown",
   "metadata": {},
   "source": [
    "Proof of <a class=\"ProveItLink\" href=\"../../../../../../_theory_nbs_/theory.ipynb\">proveit</a>.<a class=\"ProveItLink\" href=\"../../../../../_theory_nbs_/theory.ipynb\">numbers</a>.<a class=\"ProveItLink\" href=\"../../../../_theory_nbs_/theory.ipynb\">number_sets</a>.<a class=\"ProveItLink\" href=\"../../theory.ipynb\">natural_numbers</a>.<a class=\"ProveItLink\" href=\"../../theorems.ipynb#natural_pos_lower_bound\">natural_pos_lower_bound</a> theorem\n",
    "========"
   ]
  },
  {
   "cell_type": "code",
   "execution_count": 1,
   "metadata": {},
   "outputs": [],
   "source": [
    "import proveit\n",
    "theory = proveit.Theory() # the theorem's theory"
   ]
  },
  {
   "cell_type": "code",
   "execution_count": 2,
   "metadata": {},
   "outputs": [
    {
     "data": {
      "text/html": [
       "With these <a href=\"allowed_presumptions.txt\">allowed</a>/<a href=\"disallowed_presumptions.txt\">disallowed</a> theorem/theory presumptions (e.g., to avoid circular dependencies), we begin our proof of<br><strong id=\"natural_pos_lower_bound\">natural_pos_lower_bound:</strong> <a class=\"ProveItLink\" href=\"../../../__pv_it/theorems/7a5429516a99664f3ae7e764e76fd137d10c9cd50/expr.ipynb\"><img src=\"data:image/png;base64,iVBORw0KGgoAAAANSUhEUgAAAIMAAAAVBAMAAACXjEALAAAAMFBMVEX///8AAAAAAAAAAAAAAAAA\n",
       "AAAAAAAAAAAAAAAAAAAAAAAAAAAAAAAAAAAAAAAAAAAv3aB7AAAAD3RSTlMAq1RmmUTNIjK7EInv\n",
       "3XZ/CtNrAAAACXBIWXMAAA7EAAAOxAGVKw4bAAAB9ElEQVQ4y42Uu0srQRTGv+y6yWY3VwMWF+Ui\n",
       "iiipvItopxIwPrBKZeMDO9Eqlle9Uf8BUcEiVqvCbURYRAsFwVKQCxYiKgTiA0VESOMDK8/4mJ0J\n",
       "myUDu5zZM/Pb8/hmgBJGqLgrhdLGVXHXMD1RZtT7EhTH+7t+AZRbQBebjPoi/om2xc3V7jd6jwNz\n",
       "LNcFX0SnYBv7OW6XM0QLELQBs9YXcSDNHvckRMSGSpEF/UsxIs/b90REkPb/z2aPfBFlVM3h6ql7\n",
       "nkFjj4AwqR+9wIrHRrcL7D/OYs544V/6q12ESjFOIBT1QMS59aMWWvIcoVcXseIiFKpU2DaTohJP\n",
       "dtAWFRGRJAzjCcobT+SnkIieJ0zOreZ81TLqTLvMLkBAySPwXdX2PrGcGuvXSAcvXC9Tai5uYjtx\n",
       "kki6ibD9FZbt1VTlmF5bJDC1c/4GuGaOWEPalGoRplZEHPy2HS9pqUyW05T5+qAVSRkfIo2ZawMS\n",
       "grVtZha36qwscJgvXy1HgFyTt6iwtQ93DPF7CaFTqEN0JJoLehb49VxJafJe1GAQ6lgms0SIjaCk\n",
       "C5z5Ce8vtw6R0HXnMwqtSV7VUtIZDOVxFvtUaStwKa8KC1fTZpYNNy73kGtRPFj4Q1XRT1MIyAjD\n",
       "5y4IF9x8xm5m2WtdujjiDngHiuN5MCC3lSwAAAAASUVORK5CYII=\n",
       "\" style=\"display:inline;vertical-align:middle;\" /></a><br>(see <a class=\"ProveItLink\" href=\"../../../__pv_it/theorems/b13fc1da812bdd5ee6d22095f3f7f51c70a1ff010/dependencies.ipynb\">dependencies</a>)<br>"
      ],
      "text/plain": [
       "<IPython.core.display.HTML object>"
      ]
     },
     "metadata": {},
     "output_type": "display_data"
    },
    {
     "name": "stdout",
     "output_type": "stream",
     "text": [
      "natural_pos_lower_bound may now be readily provable (assuming required theorems are usable).  Simply execute \"%qed\".\n"
     ]
    }
   ],
   "source": [
    "%proving natural_pos_lower_bound"
   ]
  },
  {
   "cell_type": "code",
   "execution_count": null,
   "metadata": {},
   "outputs": [],
   "source": []
  }
 ],
 "metadata": {
  "kernelspec": {
   "display_name": "Python 3",
   "language": "python",
   "name": "python3"
  }
 },
 "nbformat": 4,
 "nbformat_minor": 0
}