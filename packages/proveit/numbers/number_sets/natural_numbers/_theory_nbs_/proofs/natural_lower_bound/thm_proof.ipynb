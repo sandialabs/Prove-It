{
 "cells": [
  {
   "cell_type": "markdown",
   "metadata": {},
   "source": [
    "Proof of <a class=\"ProveItLink\" href=\"../../../../../../_theory_nbs_/theory.ipynb\">proveit</a>.<a class=\"ProveItLink\" href=\"../../../../../_theory_nbs_/theory.ipynb\">numbers</a>.<a class=\"ProveItLink\" href=\"../../../../_theory_nbs_/theory.ipynb\">number_sets</a>.<a class=\"ProveItLink\" href=\"../../theory.ipynb\">natural_numbers</a>.<a class=\"ProveItLink\" href=\"../../theorems.ipynb#natural_lower_bound\">natural_lower_bound</a> theorem\n",
    "========"
   ]
  },
  {
   "cell_type": "code",
   "execution_count": 1,
   "metadata": {},
   "outputs": [],
   "source": [
    "import proveit\n",
    "theory = proveit.Theory() # the theorem's theory"
   ]
  },
  {
   "cell_type": "code",
   "execution_count": 2,
   "metadata": {},
   "outputs": [
    {
     "data": {
      "text/html": [
       "With these <a href=\"allowed_presumptions.txt\">allowed</a>/<a href=\"disallowed_presumptions.txt\">disallowed</a> theorem/theory presumptions (e.g., to avoid circular dependencies), we begin our proof of<br><strong id=\"natural_lower_bound\">natural_lower_bound:</strong> <a class=\"ProveItLink\" href=\"../../../__pv_it/theorems/dea4217c9479332f21d71d3991759de7b1f2749c0/expr.ipynb\"><img src=\"data:image/png;base64,iVBORw0KGgoAAAANSUhEUgAAAHcAAAAVBAMAAACOK2zoAAAAMFBMVEX///8AAAAAAAAAAAAAAAAA\n",
       "AAAAAAAAAAAAAAAAAAAAAAAAAAAAAAAAAAAAAAAAAAAv3aB7AAAAD3RSTlMAq1RmmUTNIjK7EInv\n",
       "3XZ/CtNrAAAACXBIWXMAAA7EAAAOxAGVKw4bAAACBElEQVQ4y4VUPUscQRh+bvc+9mbv9LqghawE\n",
       "w1VxEe28RFCjmOaqNDHGTmJ1KfPhR/6A0YDFWY0KNiIsQgoTBEtBAhZiTHGwGjGICFcYDNrknbud\n",
       "8Vacc2Dh/Xp2nnnedwaouxL6VAH3rSN9aoS+jDAeagoM7+749+MCGlygXzhjGvBKre0qM+6wn8A4\n",
       "8EmcbFYD7q2x2aYvzRywAXTSXzhgOxrwVsg7/xYYc0A7R4rDJDZx3ZFHw34uQF8Anx3ECfmjVNrR\n",
       "gKOk10jzh1PF99FA5QAC7MImrQeBBQ1Y/Nub89mlirxoFhJdE9iHSbzeIpGpHYu9r+gOAmkHsfwv\n",
       "JP7dgBck2INBiiS5nZe5maZ5tNo8yqtuKg/G/sK4UrQfVGgT+LUPq0yq+Eqv6KAYGL/HhgLDKCMi\n",
       "dcsNKcHaiZToxegTwOydOQZ+i0y2bVKCibZANro83Koi8JTD2CVznUZledhNFVhlVrL20sugKEky\n",
       "pzzqqRcekm7gGW0oyj+SPO9P0MhjlQHMouc0KBLNmJrGiTkdHs+0w7arjUREpFowDPNNsfiFwKtS\n",
       "BIuIvQIWO261kD0/JExa6byNPsvyqjvHHsvoQb3rOqG6W8ZBtjosXcChDHfWA6tbE8vgzMU7ImPt\n",
       "FxCR4WTNc7FWEuuGy+2ryDaK8+HArH7j5L3v0KQ+9Qf4DxZ3emkc7mzXAAAAAElFTkSuQmCC\n",
       "\" style=\"display:inline;vertical-align:middle;\" /></a><br>(see <a class=\"ProveItLink\" href=\"../../../__pv_it/theorems/0ad659e41fdd6ea1c0043c16b32ec4608e01a6bf0/dependencies.ipynb\">dependencies</a>)<br>"
      ],
      "text/plain": [
       "<IPython.core.display.HTML object>"
      ]
     },
     "metadata": {},
     "output_type": "display_data"
    },
    {
     "name": "stdout",
     "output_type": "stream",
     "text": [
      "natural_lower_bound may now be readily provable (assuming required theorems are usable).  Simply execute \"%qed\".\n"
     ]
    }
   ],
   "source": [
    "%proving natural_lower_bound"
   ]
  },
  {
   "cell_type": "code",
   "execution_count": null,
   "metadata": {},
   "outputs": [],
   "source": []
  }
 ],
 "metadata": {
  "kernelspec": {
   "display_name": "Python 3",
   "language": "python",
   "name": "python3"
  }
 },
 "nbformat": 4,
 "nbformat_minor": 0
}