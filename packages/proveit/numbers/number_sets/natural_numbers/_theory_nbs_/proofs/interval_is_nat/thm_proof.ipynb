{
 "cells": [
  {
   "cell_type": "markdown",
   "metadata": {},
   "source": [
    "Proof of <a class=\"ProveItLink\" href=\"../../../../../../_theory_nbs_/theory.ipynb\">proveit</a>.<a class=\"ProveItLink\" href=\"../../../../../_theory_nbs_/theory.ipynb\">numbers</a>.<a class=\"ProveItLink\" href=\"../../../../_theory_nbs_/theory.ipynb\">number_sets</a>.<a class=\"ProveItLink\" href=\"../../theory.ipynb\">natural_numbers</a>.<a class=\"ProveItLink\" href=\"../../theorems.ipynb#interval_is_nat\">interval_is_nat</a> theorem\n",
    "========"
   ]
  },
  {
   "cell_type": "code",
   "execution_count": 1,
   "metadata": {},
   "outputs": [],
   "source": [
    "import proveit\n",
    "theory = proveit.Theory() # the theorem's theory"
   ]
  },
  {
   "cell_type": "code",
   "execution_count": 2,
   "metadata": {},
   "outputs": [
    {
     "data": {
      "text/html": [
       "With these <a href=\"allowed_presumptions.txt\">allowed</a>/<a href=\"disallowed_presumptions.txt\">disallowed</a> theorem/theory presumptions (e.g., to avoid circular dependencies), we begin our proof of<br><strong id=\"interval_is_nat\">interval_is_nat:</strong> <a class=\"ProveItLink\" href=\"../../../__pv_it/theorems/e28e4349d8ed41d2d226271e7ddf0db645ec478f0/expr.ipynb\"><img src=\"data:image/png;base64,iVBORw0KGgoAAAANSUhEUgAAAPoAAAAZBAMAAADqEi4iAAAAMFBMVEX///8AAAAAAAAAAAAAAAAA\n",
       "AAAAAAAAAAAAAAAAAAAAAAAAAAAAAAAAAAAAAAAAAAAv3aB7AAAAD3RSTlMAq1RmmUTNIjK7EInv\n",
       "3XZ/CtNrAAAACXBIWXMAAA7EAAAOxAGVKw4bAAADiElEQVRIx7WWW2gTQRSGT3Zz2WwuDQqGVloC\n",
       "YlEEG1CK+hAqrVAsyGIRQaoEfdAKyvoiKBa3pfTFXpaKlxWUFR+kBGm0grSIVEUsFKH44KUQSLCo\n",
       "UAwBH7xQxJnZze6ku81uH3Igyc7kn/1m5pw5cwCcrTEnQg0smnvvRpaGGtmuWtJFp/9qSY8mbDof\n",
       "/bmpwvMV4YRGj+GfLQ50FyKr7bDtHffFgC9BNEnoB3DXaQe6C5HFePstaxSnAGYBzhJ6P/oOyA50\n",
       "FyKLeZO23RtkvwgLALsJ3a8ChBIOdBcii4Urg+Bu7gN5iKcCaUwPq5jOoin6naLOhchizXTDd17V\n",
       "n+IeaRnT/UkS8+9yuXnHmHcWWawLMQsPX9wjjYtlOMRBDgqIHooReifAHUe6RcRO2Uq5pwbmFCIE\n",
       "m2BSrIzYOAzyi4jOpgn9AgRixuBe/aGvS2BfUnRaRGzYBj0ka0vSDKXRIxEZrkqVKSMObGI7inlm\n",
       "ltCDakgw/tuMp1BQBCY2AwcpOi0arb+xyqu6ebLopQbnDYA6KUAL3gwOeS73WadDgweRuRKhM3kq\n",
       "nubQpwPNlkl5IUvRKZG30xJT5SiXVtGhBWATOfsytXa4z6Od92lrh3QKfWVSz/Ac/xVUkoWYgaN5\n",
       "mk5EbPvoEsAXI6K1MaaNFRsoOr7AEPonjxsLNJ3Lo8kwCxr9CUo7/EfuFz6Vi9G2CaxhpJmtFXQs\n",
       "etCTDIv6MlqNMab9UJfAZ3BwsM8D8zeEG0VDdBt9vqN3sLJGv4ICxdvGoZ2AYJJNd2t0b1Sm6Vh0\n",
       "+SvUqT6SwrgzxhjTruM5GQf7MUqPvyGa3oMbfiNVncTOQ2/0ZjW6B7krLERjxHPeWKuiKAlG4rNp\n",
       "mo5F0AQ9wPYqyjj0Nxhj6KDZj1yS11sjgDeC30i4fP0x/VysyNoVEBHMG3ZSDO5Dk66DcOKatnY4\n",
       "nLfcsHPQwXGaQwrGGNNK8AoCxnZEpIpkN61n2rL1Ufd7WBzrVjMQUfeiw4WTiQDmwsr0QAk+bdOz\n",
       "TrM+Bq8rCxnSt4h8aUYd21Y1hbVTdF/7zikYTnCH8hDAcTGCkpOFjm7m5SRcknQ6GYNj4C0Mk4Q2\n",
       "WKRPHNyqBic3ZmVto4VGRlGEKrUNP62skW2Iy0zxRDV6UFxN96nuK6vjzvRAvgr9m6WuY9dR1/nX\n",
       "ePXQeqoAV1XlObt6fsDendJ66vnX/wE0DOY2Ck3ZcwAAAABJRU5ErkJggg==\n",
       "\" style=\"display:inline;vertical-align:middle;\" /></a><br>(see <a class=\"ProveItLink\" href=\"../../../__pv_it/theorems/e88a8e07378f6e656ab6d9f953b5740dbc3099b00/dependencies.ipynb\">dependencies</a>)<br>"
      ],
      "text/plain": [
       "<IPython.core.display.HTML object>"
      ]
     },
     "metadata": {},
     "output_type": "display_data"
    },
    {
     "name": "stdout",
     "output_type": "stream",
     "text": [
      "interval_is_nat may now be readily provable (assuming required theorems are usable).  Simply execute \"%qed\".\n"
     ]
    }
   ],
   "source": [
    "%proving interval_is_nat"
   ]
  },
  {
   "cell_type": "code",
   "execution_count": null,
   "metadata": {},
   "outputs": [],
   "source": []
  }
 ],
 "metadata": {
  "kernelspec": {
   "display_name": "Python 3",
   "language": "python",
   "name": "python3"
  }
 },
 "nbformat": 4,
 "nbformat_minor": 0
}