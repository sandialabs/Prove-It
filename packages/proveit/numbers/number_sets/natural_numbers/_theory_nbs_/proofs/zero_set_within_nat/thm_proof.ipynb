{
 "cells": [
  {
   "cell_type": "markdown",
   "metadata": {},
   "source": [
    "Proof of <a class=\"ProveItLink\" href=\"../../../../../../_theory_nbs_/theory.ipynb\">proveit</a>.<a class=\"ProveItLink\" href=\"../../../../../_theory_nbs_/theory.ipynb\">numbers</a>.<a class=\"ProveItLink\" href=\"../../../../_theory_nbs_/theory.ipynb\">number_sets</a>.<a class=\"ProveItLink\" href=\"../../theory.ipynb\">natural_numbers</a>.<a class=\"ProveItLink\" href=\"../../theorems.ipynb#zero_set_within_nat\">zero_set_within_nat</a> theorem\n",
    "========"
   ]
  },
  {
   "cell_type": "code",
   "execution_count": 1,
   "metadata": {},
   "outputs": [],
   "source": [
    "import proveit\n",
    "theory = proveit.Theory() # the theorem's theory"
   ]
  },
  {
   "cell_type": "code",
   "execution_count": 2,
   "metadata": {},
   "outputs": [
    {
     "data": {
      "text/html": [
       "With these <a href=\"allowed_presumptions.txt\">allowed</a>/<a href=\"disallowed_presumptions.txt\">disallowed</a> theorem/theory presumptions (e.g., to avoid circular dependencies), we begin our proof of<br><strong id=\"zero_set_within_nat\">zero_set_within_nat:</strong> <a class=\"ProveItLink\" href=\"../../../__pv_it/theorems/bd435af675ce47764e8480a5119327b08ac0a25a0/expr.ipynb\"><img src=\"data:image/png;base64,iVBORw0KGgoAAAANSUhEUgAAAEkAAAAVBAMAAAD4Ed5jAAAAMFBMVEX///8AAAAAAAAAAAAAAAAA\n",
       "AAAAAAAAAAAAAAAAAAAAAAAAAAAAAAAAAAAAAAAAAAAv3aB7AAAAD3RSTlMAEER2zVSJ3Zki72ar\n",
       "MruaaVGaAAAACXBIWXMAAA7EAAAOxAGVKw4bAAABWUlEQVQoz2NgYGBUYgCDqRMY8AATRQjNe04A\n",
       "XUr83xMBhqxfCgwMrB+B3DQLoEF8BzBMeMp0gIHxA5DBVsDAwBLAWAlhoYHjE7IZGBZAVW1nYMjD\n",
       "quroA5YJDAVQVW8YGOIFEKqYn5eXl18AsU5u5nSAq/rBwHA/AK6K1w3u25M8F8xgqhhBqjbAVYkj\n",
       "guQkwwM+BZAwhwMD5zegKgMG5gUQqUMMSKpuMBaCVM3aAFGVwMD5FSLlgKyKOyAOqHmOEzD0gar0\n",
       "DRgYZFzBzjqArIrhIA9QFW+fANj18QEMDCkKIBlOVFUyjCAbQSH+joFhvwAkFoCgAEUVr8EDaEjs\n",
       "YmBoAbKgru9GqHoLxLYwVewBjGsRYc+iAFflCgkEiBxjm80FhCrGN9BUwnDlF9AcRpgqCICzmPJg\n",
       "McSAIYcttuEAFuJQB+AAsBBnYJDagCdFzzgKoacdxakEAMMSXjPbO/7vAAAAAElFTkSuQmCC\n",
       "\" style=\"display:inline;vertical-align:middle;\" /></a><br>(see <a class=\"ProveItLink\" href=\"../../../__pv_it/theorems/0df02b39e5b635b2d9102f4e19f4eae2525f0a5f0/dependencies.ipynb\">dependencies</a>)<br>"
      ],
      "text/plain": [
       "<IPython.core.display.HTML object>"
      ]
     },
     "metadata": {},
     "output_type": "display_data"
    }
   ],
   "source": [
    "%proving zero_set_within_nat"
   ]
  },
  {
   "cell_type": "code",
   "execution_count": null,
   "metadata": {},
   "outputs": [],
   "source": []
  }
 ],
 "metadata": {
  "kernelspec": {
   "display_name": "Python 3",
   "language": "python",
   "name": "python3"
  }
 },
 "nbformat": 4,
 "nbformat_minor": 0
}