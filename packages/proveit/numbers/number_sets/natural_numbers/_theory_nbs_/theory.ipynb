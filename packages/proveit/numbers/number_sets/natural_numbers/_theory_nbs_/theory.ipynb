{
 "cells": [
  {
   "cell_type": "markdown",
   "metadata": {},
   "source": [
    "Theory of <a class=\"ProveItLink\" href=\"../../../../_theory_nbs_/theory.ipynb\">proveit</a>.<a class=\"ProveItLink\" href=\"../../../_theory_nbs_/theory.ipynb\">numbers</a>.<a class=\"ProveItLink\" href=\"../../_theory_nbs_/theory.ipynb\">number_sets</a>.natural_numbers\n",
    "========\n",
    "\n",
    "Provide description here."
   ]
  },
  {
   "cell_type": "code",
   "execution_count": 1,
   "metadata": {},
   "outputs": [
    {
     "data": {
      "text/html": [
       "<h3>Local content of this theory</h3>"
      ],
      "text/plain": [
       "<IPython.core.display.HTML object>"
      ]
     },
     "metadata": {},
     "output_type": "display_data"
    },
    {
     "data": {
      "text/html": [
       "<table><tr>\n",
       "<th><a class=\"ProveItLink\" href=\"common.ipynb\">common expressions</a></th>\n",
       "<th><a class=\"ProveItLink\" href=\"axioms.ipynb\">axioms</a></th>\n",
       "<th><a class=\"ProveItLink\" href=\"theorems.ipynb\">theorems</a></th>\n",
       "<th><a class=\"ProveItLink\" href=\"demonstrations.ipynb\">demonstrations</a></th>\n",
       "</tr></table>\n",
       "<h3>Sub-theories</h3>\n"
      ],
      "text/plain": [
       "<IPython.core.display.HTML object>"
      ]
     },
     "metadata": {},
     "output_type": "display_data"
    },
    {
     "data": {
      "text/html": [
       "<h3>All axioms contained within this theory</h3>"
      ],
      "text/plain": [
       "<IPython.core.display.HTML object>"
      ]
     },
     "metadata": {},
     "output_type": "display_data"
    },
    {
     "data": {
      "text/html": [
       "<dt><a class=\"ProveItLink\" href=\"axioms.ipynb#zero_in_nats\">proveit.numbers.number_sets.natural_numbers.zero_in_nats</a></dt><dd><a class=\"ProveItLink\" href=\"../__pv_it/axioms/6bc27fa16ea1c04bf3d4c776d5c721085150bfa20/expr.ipynb\"><img src=\"data:image/png;base64,iVBORw0KGgoAAAANSUhEUgAAADMAAAAQBAMAAABJt1qBAAAAMFBMVEX///8AAAAAAAAAAAAAAAAA\n",
       "AAAAAAAAAAAAAAAAAAAAAAAAAAAAAAAAAAAAAAAAAAAv3aB7AAAAD3RSTlMAiXaZIs1UEN1mu6sy\n",
       "RO+L2jdBAAAACXBIWXMAAA7EAAAOxAGVKw4bAAAA9klEQVQY02NgwAAVv5YWMMj9u8DAwChkgia3\n",
       "jHcDA/sHICOMocIBVWqHgyQDwwMGBs4GBsYFqFLbFrA6MDQwMHBtYGD7DhZhWtHRCmZsmcQSAJLi\n",
       "N2Dg+QYS4A0qgOrawn1AESRVD5T6CRJwhckwbGFYwHUBKOUvwMDzCSQQwoCQOszeDpX6CBIIQJLi\n",
       "TMgCurBegIEXpIvnRUdHRxdUimE79wOwM9hAzmBfgKSLoZod5PgFDJxgxzcgS/EoAFVyPmBgBluj\n",
       "BJdaA8Q6IEPaGOoOgARYE2BSYUAMVl4stAcswL7rOkTm6D+gDvYA5KDjlYIGFBQAAFS8PxwW/emj\n",
       "AAAAAElFTkSuQmCC\n",
       "\" style=\"display:inline;vertical-align:middle;\" /></a></dd>"
      ],
      "text/plain": [
       "<IPython.core.display.HTML object>"
      ]
     },
     "metadata": {},
     "output_type": "display_data"
    },
    {
     "data": {
      "text/html": [
       "<dt><a class=\"ProveItLink\" href=\"axioms.ipynb#successor_in_nats\">proveit.numbers.number_sets.natural_numbers.successor_in_nats</a></dt><dd><a class=\"ProveItLink\" href=\"../__pv_it/axioms/a3ae0a8e821daec9b64e4404a6b570bcd10c30650/expr.ipynb\"><img src=\"data:image/png;base64,iVBORw0KGgoAAAANSUhEUgAAAK4AAAAVBAMAAAAtL8hrAAAAMFBMVEX///8AAAAAAAAAAAAAAAAA\n",
       "AAAAAAAAAAAAAAAAAAAAAAAAAAAAAAAAAAAAAAAAAAAv3aB7AAAAD3RSTlMAq1RmmUTNIjK7EInv\n",
       "3XZ/CtNrAAAACXBIWXMAAA7EAAAOxAGVKw4bAAACnElEQVQ4y4WVS2gTURSG/0kyyWQmTQNuVIpE\n",
       "RIjgYyhVEEQC1VJwEzduWkvQhdiNI4JQHzUuBYlRCBJRmCoIIsVRcOHOjeADMQsfVRwcH1Sim2y0\n",
       "4spz596ZPDq3HviTOydzvzn57z13gBUjJRQd1gqzVo4vQtEx1Xetf2pMw3j1RPWAHEtskEyMOVwR\n",
       "oX0AsmZfMp3fD9wDvgJ72fURCfe20PKYG/tLn9N9WeWdYSIDJG2cZ37UJNxRoU6oQYlZxh3p526i\n",
       "EgeAeJGhYeQl3MdCXc543dyMzS9arlv2uSe8k4yL54hTAUmZvWUuKTfJqz/wI6jXWp11GPcw8NJ1\n",
       "X0i4CYdrau3plhfFNfxVT4U2K1Yadca9D4wD1yRcVg6Tc9nTl6K4cf/PJK0OVyvOz9NgB3AcqVz3\n",
       "nn79ELtEYiDvSy29R+pPFDfmm9+xUbEwHLtOg82052yjFOSra+pYb9gJsRyZki9d/4UYwyRc9yPZ\n",
       "lgu5WpsNL7oUNcFV7CEaXGIVhM9LjLMe8YoGeriItaGUo+pV/XrvdNer55gPk6TybjJqtPrNbxOg\n",
       "sHE24AofGHTQtKN8aPq3dXNRTdNgC+kBLeetSTNj6f5/KRg3J4K29LgyDrbZTtS6+TOyXtjHFbq6\n",
       "QIOdpDPk16lFDNq8lwootsRtbBsxnatgMV7p5RpLYiNSHAo3EGuwMdI+VjybsY4siR9tNK4Q925g\n",
       "uNbkOkjnwXCvv8rQ71XkAF/xuTo3STv2TBwob4InPcUeTXN4verWILsgFNFvfpwV3xM33J62TDWD\n",
       "QRsLBd4f24HPwe8jy84W1ew/lyIbNbhLzeGniRlyRHtLezBcB4tL9l6QnYMzfef9o0a9N1HjkoT0\n",
       "kVf/9x6aFYqO75J81sI/jnmqdXuyuT0AAAAASUVORK5CYII=\n",
       "\" style=\"display:inline;vertical-align:middle;\" /></a></dd>"
      ],
      "text/plain": [
       "<IPython.core.display.HTML object>"
      ]
     },
     "metadata": {},
     "output_type": "display_data"
    },
    {
     "data": {
      "text/html": [
       "<dt><a class=\"ProveItLink\" href=\"axioms.ipynb#successor_is_injective\">proveit.numbers.number_sets.natural_numbers.successor_is_injective</a></dt><dd><a class=\"ProveItLink\" href=\"../__pv_it/axioms/0776530ed61db0ef0dfad4b23c9ae9d1109d9aa50/expr.ipynb\"><img src=\"data:image/png;base64,iVBORw0KGgoAAAANSUhEUgAAAQ8AAAAXBAMAAADn89dPAAAAMFBMVEX///8AAAAAAAAAAAAAAAAA\n",
       "AAAAAAAAAAAAAAAAAAAAAAAAAAAAAAAAAAAAAAAAAAAv3aB7AAAAD3RSTlMAq1RmmUTNIjK7EInv\n",
       "3XZ/CtNrAAAACXBIWXMAAA7EAAAOxAGVKw4bAAADJklEQVRIx72WT0gUURzHv+7M7I6z67qnoA5h\n",
       "VOSlGiIDIWpBJT0Ec+gSmu0t6tJ4NEu3YyRihcRUhzEhCA8tQoEdomMRwQYRdhDGCsUkESKKguj3\n",
       "5u+bmXWnoPXBsr/5/X7vzee93583wJaMTH2zjq0aH+qbB+lXYMLuBnOkKvXteRXoYcK5BoM8SHK4\n",
       "AFxlEZxsMEhXksNhIG0C2bYGgzxPcsiZECg86UanSCnJI00UrxcXXzUYRKRcHdwxsmpFi4Xprs9r\n",
       "FBOqmV7gTsJCRedvX4105+SY2eL3W7lhKd/Zw8lFNt4wkem+aikKnEBnNoRMoXYTevsYR22Tk8uC\n",
       "FnGYKfmMMbNyhA7Ce2hpg6S9R+ZHeL6t+w1hg4JHMM1mVotTTGyfwq6sKZoByDR/2PST16tAv6+a\n",
       "Dh3gxBd6kdc9choU5RtSP8PvcHUi7UdmMFaNXBV7WZuzilkEID2cvdnOwapTdIiYbff9TnfwQJDa\n",
       "QFM0Z0lHFDnilVhdlY7RuXZNLOU7y7ClT8BH5te+d5QHqXJePkhQ+VV3KgcyF4SGUbSqZjhHSNdS\n",
       "wVndtJfCHIHPDKi5Qp4lBJN0xV6rPXu/PwDJlDgvHyRVRJ9BQ3XNOg+yxzs/Slva90Ez0ulJ90jD\n",
       "towKgc25TCtfWkZrmVWZLZmSaoOguBqASJOclw8ieU3ZNZs8yGnXxopzrIxloRwGId1x4G7WKXA0\n",
       "MfNOjNsnyKQBCOcN4yaBzKYDkFTB9+oz7tEZ2CCyB+KYByAaxkvjlgNyzbXJ5HiG0vlQJEdIR7E8\n",
       "tULB8+vlBVYxJjtStyxXnBORDgQg7JW+Vzw0jrlbrhUaLCS1vCt+z9ig7XSKmGXSQrvT4jqApVCy\n",
       "el4cSN4KktWZyoGsc3faX96KUoE+BYY+Y7yNpDUVwxQu+Z2OJg7ktu/lgGSe/LLQ7H9c2eY11XUf\n",
       "ufiMqbxsTfgEq3H9u9WozBtTCDcGrne5J8LGQ1/VH3GnRfzllYTvjDioZNbyc5YR9XBntceJQKVH\n",
       "riZ+wmh9kJWYRsDmIHgat/AXTMzc8d+vcXdnStyibCLbw/yXd/wB0hzgYTrKUi8AAAAASUVORK5C\n",
       "YII=\n",
       "\" style=\"display:inline;vertical-align:middle;\" /></a></dd>"
      ],
      "text/plain": [
       "<IPython.core.display.HTML object>"
      ]
     },
     "metadata": {},
     "output_type": "display_data"
    },
    {
     "data": {
      "text/html": [
       "<dt><a class=\"ProveItLink\" href=\"axioms.ipynb#zero_not_successor\">proveit.numbers.number_sets.natural_numbers.zero_not_successor</a></dt><dd><a class=\"ProveItLink\" href=\"../__pv_it/axioms/8b77cfd77a7c54e07d6a512fd86c0934d1514ab90/expr.ipynb\"><img src=\"data:image/png;base64,iVBORw0KGgoAAAANSUhEUgAAAKsAAAAVCAMAAAAO9u4uAAAAPFBMVEX///8AAAAAAAAAAAAAAAAA\n",
       "AAAAAAAAAAAAAAAAAAAAAAAAAAAAAAAAAAAAAAAAAAAAAAAAAAAAAAAAAAAo1xBWAAAAE3RSTlMA\n",
       "q1RmmUTNIjK7EInv3Xbn9enzK1aD6QAAAAlwSFlzAAAOxAAADsQBlSsOGwAAAmxJREFUSMe1V1mW\n",
       "pCAQZN8SsrvH+991WERl0ZaaN3yYTyvEIHItQv5l6c5+8Or/QM8WstauLIk3Pwh3i6bHPeOLn2PQ\n",
       "2nfLhEIG558z9noHgEIfaCHrc7UotFOtffUOFWrbhVMzAYk1lxsVHeaCrmhThdV2UVbBWzt39fAj\n",
       "Vq5czGSllxsesrb2QNfjwWrQ+c7O4wRvuRI/EdZenWszcVZeSGi+n1ytRqtq7TpXNTpEXmUlW1be\n",
       "bOxA+5CWh9UQgMZKpE4DWnzPFeiwaZMzrnLlB1rkaLZukWtVZbcQPYZpf/2aKz89IrJe4es7XY8M\n",
       "2qBwxQOtab3My3AQEGsF9x0isKuVkgSb9zevuTL/KOvJFU50khTkmJJIrY2PGSXgxhrt5dW6qKg8\n",
       "E+GQypcIozOuZuujta0MrpCURdeCTmcfE0QIU3sEEpGc/MQ1scytRb2PV+kfZa25xUpu7WhFOO4l\n",
       "jxtE0bYVZpjUOHBtY6CyjHngXsdAaOP1509onWBLZS0v7Ghgpcg6Ln2k6OPx3NkZmIkxwGTPtWZ8\n",
       "tbmQpBCA17nVdZ+hkfEspVBXtN7zRjtMz9Nml34TucYYwL6t1Yqz25JU8X1unrnCUSlEe3w29rHk\n",
       "M+dNg6Z1/1R2cmBwZfNihauDIaJNaKwMpd9z9hivlPpN0SJEkM+yxu0EYOUW+uxPZxCCGGKg0ZXI\n",
       "UaBgWvuyb12K4XRqe4dOjszfTuzO3sDzgXAowHX2mM4g97PLMPuQp7HrDr23YwSexy5TfVxKCb2d\n",
       "M+xHU3s313FYQfexAile5RPCtnZtdScMbgX9gTTY2qX/P93Hze/ov04IFRyVGik6AAAAAElFTkSu\n",
       "QmCC\n",
       "\" style=\"display:inline;vertical-align:middle;\" /></a></dd>"
      ],
      "text/plain": [
       "<IPython.core.display.HTML object>"
      ]
     },
     "metadata": {},
     "output_type": "display_data"
    },
    {
     "data": {
      "text/html": [
       "<dt><a class=\"ProveItLink\" href=\"axioms.ipynb#induction\">proveit.numbers.number_sets.natural_numbers.induction</a></dt><dd><a class=\"ProveItLink\" href=\"../__pv_it/axioms/220a014824abc1d908bda5bedda393ae441a602b0/expr.ipynb\"><img src=\"data:image/png;base64,iVBORw0KGgoAAAANSUhEUgAAAfEAAAAXBAMAAADpdmtlAAAAMFBMVEX///8AAAAAAAAAAAAAAAAA\n",
       "AAAAAAAAAAAAAAAAAAAAAAAAAAAAAAAAAAAAAAAAAAAv3aB7AAAAD3RSTlMAq1RmmUTNIjK7EInv\n",
       "3XZ/CtNrAAAACXBIWXMAAA7EAAAOxAGVKw4bAAAFvElEQVRYw+VYW4gbVRj+k5kkk0mTplpcWxCC\n",
       "rgXxwipV8WW7WLXiUg32QbBaYvuwUEHHl4LY1VGLIGVxUOo2giUrpbBqaboyaIus8WFf1GosWKol\n",
       "MvVCvdB1tUqrFtfzn+tkcmaaPveHr93z/yf5vm/mXANwceGEEN8jHKWOm/iNOY7YYlz+9PG4stOX\n",
       "hYuLUkUhJjZF2oVq8ld+x6GNTJCQ92PKMeL2//16Az48X93ERZYxeU2/zq9XKMyu6ykPjjZvLQ1F\n",
       "nSdSpJsMmphoAHwPWhKa97VlJpD1IjF1BJ8DfUKvZspgLwAKRNyNubE+jds1hc2wPzpm8gFML8BW\n",
       "3poRzhMp9nH0ci1/kjjPNkBLgnlfV2bieC8S3754Qrzfq5z3AFpABRI8j7PG69O5OSRhtKEQ/dhd\n",
       "AEYNVnMBx4TzRIq1HCo2iD9+I7aMEdCSYN7XlZlA3ou+3H1lsGi3y7ysA22gAlezp1ao9Ol8iUK+\n",
       "DOl/2LR6s8NNnqMTcAl7D6Wbq9x5IkWLQ8VNYefwCWhJMO+rMsYbIZGiF6QIrnAfpaNzYDhXQ+co\n",
       "kMAgTyjb7zRfpbB0BKw/6GLzhBhxmTMAlgtZNtGLlsedJ1GkawyxzreAlgTzvizTeDkkUvSCAj61\n",
       "xTlaGEi5v6JzFIg40ul82q/zUYUDxPkZzG2TU81e/IBaLfN1Zkys7QkUZpPBnl+5c0bn/CBoSTDv\n",
       "yzINo6lEil78M+y/AfDy1TYTiLhXjROMkSTnWxSea4L1X2TpWrP4u8PnF+YHhfMIRTjE8zfhZLBe\n",
       "5/w20JJg3hdls0PjTyVS9OqKAdhhf9NmAhFPQQ5f0sb5YXri4CsRbRbq9bozPlo1PuafPaqAzv/F\n",
       "XGio2j8vkimbptPWKkOxwZ1zChWCjMyJCsPtsKZxuc75DaAlwbwvy3zmbJYiRS/xUMrMuVG5jgtE\n",
       "5Bt41kgH8Aoo57Rp76J/lg/Dffy75xQONCGD79wiQ7nztRy8f5EM3U1SLpQC7pxR0LBO1quKjKw0\n",
       "VQYX7qHt9Z3OZ53Ol8o57dhLgnlflOUOOSdEil6Rdw4rUy0mEJEOsmxBTIWc02aejpf0sAnNXudk\n",
       "hUvjCmer7YoMWpukMi2+T9tt7pxRsD3JDZMp5wCf61e4R0BLgnlflMWR9nFHiBS9os6nUBMKpCJr\n",
       "w+SfpUP8EMw4aPMZ9vpfeCho9o72vAcG3dXachiSIZUjqXRbnGPuFKdXSjG/7geHHfAkmRrtkDkL\n",
       "b+uc3whaEsz7osyH9DFHiJS9os6twGMCqciZrXTlfw1CzmnzaubcPXytcL5HwWiBSWffvJxmbbZM\n",
       "G57Quk04R4qSsyJbmVbfLk9kCHsXGYZNnfM7QEuCeV+W2X7nSZGyV9c8303wk8cEUpHbafqtB8oh\n",
       "57S5gTs3S2KwHQzhKLxLV6msOKOYJ1iBUho4x/Mud44UBuyxxPlMkMkdJn1ubytTiTj/yOF7lIYE\n",
       "874ss51PiZS9ugIXQHxbYifFtQigAZmFkHPanOLO7aZYWidC2Dt7JRt/Kx7mojLLl6HAIk7bFL4v\n",
       "K+DOKQWcJZsQ2S0qiox0aVPY9weDt0Tm+bIvHiNz4ys9CeZ9EGUQr5SLlL3C8dJ5jx3qUWBRLLnk\n",
       "efOTtaea7MSZduFBcRksugpqlB0SB0sW4zG3VKuVg53dZCSOc2jOcHTVautJMO+rcvhWXnQvcB4b\n",
       "D4s0y5BylHPeHMXvMKpQEmMTLwgCsbFW73x7oWaS/a2LDOT1QXdjkdePmLuTry8niuu5JJk7Rt8P\n",
       "rXC8mTlETjITY/yShzEZQtzPJZ7eufnj7C+Q291FhmuBA3z71MbTCXk/pjyZbBwF6q6OyRfW6RBi\n",
       "Imqj+zeZd+r17t9ocKu240knE/J+THk62Xncs052ngsUYuJU9NeoC/wO9yyH/tcvJz5/ei6mnCBO\n",
       "CDwFic5TdTy3w6USl4zT/wEQrfUwtClbTwAAAABJRU5ErkJggg==\n",
       "\" style=\"display:inline;vertical-align:middle;\" /></a></dd>"
      ],
      "text/plain": [
       "<IPython.core.display.HTML object>"
      ]
     },
     "metadata": {},
     "output_type": "display_data"
    },
    {
     "data": {
      "text/html": [
       "<dt><a class=\"ProveItLink\" href=\"axioms.ipynb#boolean_natural_membership\">proveit.numbers.number_sets.natural_numbers.boolean_natural_membership</a></dt><dd><a class=\"ProveItLink\" href=\"../__pv_it/axioms/006d7445932ac3cda43afbc2d55b6ae3298c3a050/expr.ipynb\"><img src=\"data:image/png;base64,iVBORw0KGgoAAAANSUhEUgAAAJoAAAAVBAMAAABMN+opAAAAMFBMVEX///8AAAAAAAAAAAAAAAAA\n",
       "AAAAAAAAAAAAAAAAAAAAAAAAAAAAAAAAAAAAAAAAAAAv3aB7AAAAD3RSTlMAq1RmmUTNIjK7EInv\n",
       "3XZ/CtNrAAAACXBIWXMAAA7EAAAOxAGVKw4bAAACRUlEQVQ4y5WUTWgTQRiG381ufna3DbmIFooU\n",
       "BEFULD0IRZCA+IN6iAoe/F3oQQjFjggFoYd4VFD3IkXRmoOIPbSmIogIxUsPUcRUUPEQXKl6EMxV\n",
       "EARn5pttZ7JdIR+8y+wzM+/8fDMDJIMppUS+J14cInWH9+VOFf67pWzUVfGrOTG+XIHgJfG/Ra/c\n",
       "rpQId+gY8ARY6a4Iz+WrGyTfL34v6FMISMmwPvnD6ANy9W63E3juSn5VrDjUqpxh0jpu2/iw/YBd\n",
       "TrqNWJKLgXx9l/qUtI283/4o3S5Hk8INr00u3XKS23waOb3vVqXVyF5UK7PYpmJDuI2ZXLht3EP8\n",
       "bbv9Ru98RGn+6+OXcs6TcSeLubgt3BZgcJ6F+eUG8UPAXd1tTKlc3Oy0jBRZrFCem+OF3TBTF54d\n",
       "/3uY+CXkS7rbe5LN7D+WTEaw5oaRzD1e2AGDi5WunKxL7tb9iu62RCrAoeYFvhXtz8rNqg/ywi2T\n",
       "Czc325A8ExlJiN14YunMe6E2N68kVnrG5NINIfFgL/90Dn5jxkqB88yT+9zS3HCTn1LshMHJLSD+\n",
       "tMqPDhvIqUM3Q5qtDMKXoLN6s2q84TVeGDW5dMtExKd4EmzMFFTVAmnX9aM4LkE8DBUOqAOkcYSn\n",
       "sfhMcasmyO+46gbpYSezj5p7A6coHRNN/n3E9cHg+NF8IN6QmIumr+Lnqb9G0i7DC3WD4oes9X+O\n",
       "KT9wVFHc6cS9NmL9N0HjzvfFnzGcVkqNK73wWaXUmO6F5yNSWhRZKv8H2fmdaVUcrekAAAAASUVO\n",
       "RK5CYII=\n",
       "\" style=\"display:inline;vertical-align:middle;\" /></a></dd>"
      ],
      "text/plain": [
       "<IPython.core.display.HTML object>"
      ]
     },
     "metadata": {},
     "output_type": "display_data"
    },
    {
     "data": {
      "text/html": [
       "<dt><a class=\"ProveItLink\" href=\"axioms.ipynb#natural_pos_def\">proveit.numbers.number_sets.natural_numbers.natural_pos_def</a></dt><dd><a class=\"ProveItLink\" href=\"../__pv_it/axioms/3dac39f5064fe3a6661936f9e9338e3a96b32c0d0/expr.ipynb\"><img src=\"data:image/png;base64,iVBORw0KGgoAAAANSUhEUgAAAMAAAAAZBAMAAACVwzzTAAAAMFBMVEX///8AAAAAAAAAAAAAAAAA\n",
       "AAAAAAAAAAAAAAAAAAAAAAAAAAAAAAAAAAAAAAAAAAAv3aB7AAAAD3RSTlMAEN27zYnvRFSrImZ2\n",
       "MpmnAiL6AAAACXBIWXMAAA7EAAAOxAGVKw4bAAACa0lEQVRIx8WWz2sTQRTHv2OyTbNx06WoWLzE\n",
       "HxcFJbJi24MQ8GCPq/XHwUv+gUIUrRfBBQURDW3spRQPEakoiC4eqgfBpU0PRSw5eCxarV4qSkSs\n",
       "Iii+3U0y07CzG6rFd8jOm3nZz7z35sss0LQ01tli/wXALgiOGv6Ce+Wg2e6vB3ScXClIAJUzgqMU\n",
       "QgHamB403ZcYBatJMuj8gvYAJ+Zp+7HRoKWb5dNAHkvGQcOwWxeVTHuAuMX2tEY3bDwbLyMjyaBd\n",
       "wGNgUAaYeKbm1gbYxBPuB0Z0GSBZnV0bgB1zGsPfwBtLBkA2VggDXCxNzjgCgPuYPlpHuQBbCnjN\n",
       "tmcEJb/b4dpuX905wOx32E8BwH2q/VtfIN8I4GBjPhiQsi7nJc27ayNR2An1FwcIPtmV5SbAhPoj\n",
       "GIBSUgK4f4TSZ98bcvAAgu/auZI7R4BLVLaegWBAD8tItLlE2uysIZkTSsR9D7C/3uQRCzheCAZo\n",
       "TlaYEHvgapPe1mXrHMB9t0QT3sMAnustulf3ncIU/f8QjV9mJT1wz0WHSWfc5ADuU5OX/ecU8J7W\n",
       "eaUXxnpxTdHTtJGB+mGRAh5VUUlVOYD7zWOKDRYbElWT/kQ/151FBXi1QrtnYYCz1KSnQg+aPptu\n",
       "Co19mKv60amPC/PAC3eyePWBEnVHhCq52w6I3jZsd5SZV/KisvX8XwECo29X0KUnPHQRizNRgNXa\n",
       "jAJ4rbyFYaQOG0YfATbHowCrtRkF2OJufAifNc30M0jciLyoH46L+VRDYyfdWLWGvUV46nsCzP37\n",
       "Twe6gGdt3KGtaLvKSK7XFwobNHr90R9qbahr09xOeQAAAABJRU5ErkJggg==\n",
       "\" style=\"display:inline;vertical-align:middle;\" /></a></dd>"
      ],
      "text/plain": [
       "<IPython.core.display.HTML object>"
      ]
     },
     "metadata": {},
     "output_type": "display_data"
    }
   ],
   "source": [
    "import proveit\n",
    "%theory # toggles between interactive and static modes"
   ]
  },
  {
   "cell_type": "code",
   "execution_count": null,
   "metadata": {},
   "outputs": [],
   "source": []
  }
 ],
 "metadata": {
  "kernelspec": {
   "display_name": "Python 3",
   "language": "python",
   "name": "python3"
  }
 },
 "nbformat": 4,
 "nbformat_minor": 0
}