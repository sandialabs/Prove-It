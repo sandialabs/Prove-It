{
 "cells": [
  {
   "cell_type": "markdown",
   "metadata": {},
   "source": [
    "Demonstrations for the theory of <a class=\"ProveItLink\" href=\"theory.ipynb\">proveit.numbers.number_sets.natural_numbers</a>\n",
    "========"
   ]
  },
  {
   "cell_type": "code",
   "execution_count": 1,
   "metadata": {},
   "outputs": [],
   "source": [
    "import proveit\n",
    "from proveit import x\n",
    "from proveit.logic import Boolean, NotEquals, InSet\n",
    "from proveit.numbers import zero, greater, greater_eq, Less, LessEq\n",
    "from proveit.numbers import Natural, NaturalPos\n",
    "%begin demonstrations"
   ]
  },
  {
   "cell_type": "markdown",
   "metadata": {},
   "source": [
    "### Number set membership demonstrations"
   ]
  },
  {
   "cell_type": "code",
   "execution_count": 2,
   "metadata": {},
   "outputs": [
    {
     "data": {
      "text/html": [
       "<span style=\"font-size:20px;\"> <a class=\"ProveItLink\" href=\"../__pv_it/demonstrations/ece28e6102b168ad470570930231e27598e218d60/proof.ipynb\" style=\"text-decoration: none\">&nbsp;&#x22A2;&nbsp;&nbsp;</a><a class=\"ProveItLink\" href=\"../__pv_it/theorems/501007a9c605662e60be57b570cb0d1c0fda22480/expr.ipynb\"><img src=\"data:image/png;base64,iVBORw0KGgoAAAANSUhEUgAAAGkAAAAVBAMAAAC3TN2zAAAAMFBMVEX///8AAAAAAAAAAAAAAAAA\n",
       "AAAAAAAAAAAAAAAAAAAAAAAAAAAAAAAAAAAAAAAAAAAv3aB7AAAAD3RSTlMAInZUiRDNmWbv3US7\n",
       "qzJazP2FAAAACXBIWXMAAA7EAAAOxAGVKw4bAAABuklEQVQ4y32UTUgCQRTH/36smrqyJ+nQQTyE\n",
       "BIGHCIogi6BLgXgoECkNhDzpoaJuQtGpa5cUMoIOW5L0RQXR1q0P6OMmRUjQJYJOXTo1M6u2o7sO\n",
       "uDx+j99z5s3bBSDBcJkMM+ZgMxP275OwbuZcvoZEVz6dKpZI0KNXyh28AKaBQGNCOTAlX0jZuJ4l\n",
       "blmzaANs4UbrFENuwJ7VtQaQgBNwZJqtZRG0oPaQt/IOs9p9XmphnefMsgG9Wsk1U92RKL2ZQ9Sa\n",
       "5Tm1nlaAORJGuqdGWCe9taQouXFHrXFwnHQjUgypxTLmZ3uBskT9XJInE42SYBUch3Ke+p0HtsmR\n",
       "JcePyJoS/7ewbLkhQR84TncYOAkjB3hgV7FnQ5blvaolhssk+OY5tdyuELVII9UZEBTNfwmPdIdn\n",
       "PGcWFLpD4FIS2HkLGgvv5DbRD46rVhzXQKxUhpUxf32iKuSOvkiwxnNmWXy0tYMfSzhkzFabZBYs\n",
       "QL0YDYdyhOFR4BOY9FsWVSy8HqttSefJc4L8djmOzvwDm3lnhRuOserk1F6wgj5vmk9u6c82WVet\n",
       "rA6jRKyVZVjS5DOWzAbflD+NdG5JwCZeNQAAAABJRU5ErkJggg==\n",
       "\" style=\"display:inline;vertical-align:middle;\" /></a></span>"
      ],
      "text/plain": [
       "|- (x in Natural) in BOOLEAN"
      ]
     },
     "metadata": {},
     "output_type": "display_data"
    }
   ],
   "source": [
    "InSet(InSet(x, Natural), Boolean).prove()"
   ]
  },
  {
   "cell_type": "code",
   "execution_count": 3,
   "metadata": {},
   "outputs": [
    {
     "data": {
      "text/html": [
       "<span style=\"font-size:20px;\"> <a class=\"ProveItLink\" href=\"../__pv_it/demonstrations/2b452ddcd73e1fff2a57ff1e154c199d18d82c0d0/proof.ipynb\" style=\"text-decoration: none\">&nbsp;&#x22A2;&nbsp;&nbsp;</a><a class=\"ProveItLink\" href=\"../__pv_it/theorems/1947824f5e121bbf560cf93071b45e72a46d839a0/expr.ipynb\"><img src=\"data:image/png;base64,iVBORw0KGgoAAAANSUhEUgAAAHgAAAAZBAMAAAAI4vceAAAAMFBMVEX///8AAAAAAAAAAAAAAAAA\n",
       "AAAAAAAAAAAAAAAAAAAAAAAAAAAAAAAAAAAAAAAAAAAv3aB7AAAAD3RSTlMAZkRUmRDNuyLviTJ2\n",
       "3asqG0tJAAAACXBIWXMAAA7EAAAOxAGVKw4bAAACCElEQVQ4y2NgYBBiwAccgJgFpyyzA17NBUDM\n",
       "UYBLNoyBoGYGGVyyhVjEWO+XpzJwzZ8E08wbgCrPc7Ps29xHQCdNwGYiu4EeA0M83GaeB+jyTAfa\n",
       "4hQYWBZg08x3g0uAgZOBpbx8ejnQaaxfMTQLcDUUMPArYNVszpDBwAu3mSERUzOjwQOG/Sje4am9\n",
       "ew2sufFAG7Jmd6j88bt3E+CaExjOIutlyoEaxdfwmmcBkuaTEGG1owib+RoXMDwDMmPORa8yAIm1\n",
       "wZzB18DOUISkWR8swZGKcPbRs68YGMpBqYjnDcsFkFgG3M8N3A6xsbAUxsCwfwOIZGtAaL42/0oA\n",
       "Qx4DA2MD41c+AZBYAkIzgzBzJcI//eBgZUMOMB6hVIYrDAzcDCwQXdxz7969ex2qmS/gJUJzPFjz\n",
       "TqD03QKoZoYCLZDNDAycByAJqwDJZtYHsUg2g50djmwzQwE7RLN+Ays4RC4gaWbYw47QvB/sW15U\n",
       "zWwMz4EGKrxk4AKLnYFLAm3i2Y7QDAltngMomm1AMWi/1ZNBGSzGZgCVBDPcEJolIVQyQvMCrlMO\n",
       "IDNDzjA7QnSxPleFhFz+dNTM6geh4oogCYEnsxycqzhR0jbTckjyRAewtK1VezcBSRh7rkLP31+x\n",
       "i3NPIEIz4wMcEo+J0MzbQF4ZxoC3DGMm7GncpSeBchscqAHYxQFxIXg4J/qrMgAAAABJRU5ErkJg\n",
       "gg==\n",
       "\" style=\"display:inline;vertical-align:middle;\" /></a></span>"
      ],
      "text/plain": [
       "|- (x in NaturalPos) in BOOLEAN"
      ]
     },
     "metadata": {},
     "output_type": "display_data"
    }
   ],
   "source": [
    "InSet(InSet(x, NaturalPos), Boolean).prove()"
   ]
  },
  {
   "cell_type": "code",
   "execution_count": 4,
   "metadata": {},
   "outputs": [
    {
     "data": {
      "text/html": [
       "<span style=\"font-size:20px;\"><a class=\"ProveItLink\" href=\"../__pv_it/theorems/8c13e7bcba0a4bd4dd1c903dda9179f0c1a274990/expr.ipynb\"><img src=\"data:image/png;base64,iVBORw0KGgoAAAANSUhEUgAAADQAAAAQBAMAAACra0H4AAAAMFBMVEX///8AAAAAAAAAAAAAAAAA\n",
       "AAAAAAAAAAAAAAAAAAAAAAAAAAAAAAAAAAAAAAAAAAAv3aB7AAAAD3RSTlMAEHarMolUmd1mIs3v\n",
       "RLtmgJDEAAAACXBIWXMAAA7EAAAOxAGVKw4bAAAA3klEQVQY02NgwACM/e82MrCeP8uABfAlXGZg\n",
       "kMcmw8DcxTqBgQe7VB7DLgYOFCG9jo4NYKmVCqtRpW4rwnQtMGEKAEkJKYuEJgBpro1wAxfwMbwF\n",
       "SRUwGbE3AGnuBQgplgIJCQYGzgWcH5kngKQQzljAMI3tDQMDCwM72G4Gnw4geACVYhawAbF4FMBS\n",
       "csi6GA0kQKz7CxgFgBQHshSDEx9Q8QUbBlaQAJMCPKAcgDw/BoZ8xxqGa2CRbTApbpBfqhkYxJXY\n",
       "KhPAIsJvBcA0y/5zQFIaJaCuvoAEFBQAAFKNLSS7ExREAAAAAElFTkSuQmCC\n",
       "\" style=\"display:inline;vertical-align:middle;\" /></a> <a class=\"ProveItLink\" href=\"../__pv_it/demonstrations/d434907660fc497e91b963fe6975cc6ca5ef753f0/proof.ipynb\" style=\"text-decoration: none\">&nbsp;&#x22A2;&nbsp;&nbsp;</a><a class=\"ProveItLink\" href=\"../../real_numbers/__pv_it/theorems/ffcbd76494d8407c0ebebaa8c88703403e0e53b60/expr.ipynb\"><img src=\"data:image/png;base64,iVBORw0KGgoAAAANSUhEUgAAADEAAAARBAMAAACGHlkZAAAAMFBMVEX///8AAAAAAAAAAAAAAAAA\n",
       "AAAAAAAAAAAAAAAAAAAAAAAAAAAAAAAAAAAAAAAAAAAv3aB7AAAAD3RSTlMAEHarMolUmd1mIs3v\n",
       "RLtmgJDEAAAACXBIWXMAAA7EAAAOxAGVKw4bAAAAvUlEQVQY02NgwAZC1Rcg8aQnwJncCYxdSDKM\n",
       "EQow5gwGhjgUMzQCoYzHDAz5AihSM6BS3xkY/BMYGISURUIToFLZVWBzQTJAWwuYjNgbYLpuGwIJ\n",
       "rq9AGQUGzgWcH5nhzrr9ECYTwMDCwL4BblG2Fdg0oMx9kEN5EK4thLsgH2T1/QWMAqiufsfAMF+A\n",
       "Qe6CDQMrmk/nMDBUA7U51jBcQwsdjgTGIwwM4kpslQloAcpYquzAQBmQ6ACBFjgfAFAoK0oOcBU8\n",
       "AAAAAElFTkSuQmCC\n",
       "\" style=\"display:inline;vertical-align:middle;\" /></a></span>"
      ],
      "text/plain": [
       "{x in Natural} |- x >= 0"
      ]
     },
     "metadata": {},
     "output_type": "display_data"
    }
   ],
   "source": [
    "greater_eq(x, zero).prove(assumptions=[InSet(x, Natural)])"
   ]
  },
  {
   "cell_type": "code",
   "execution_count": 5,
   "metadata": {},
   "outputs": [
    {
     "data": {
      "text/html": [
       "<span style=\"font-size:20px;\"><a class=\"ProveItLink\" href=\"../__pv_it/theorems/eeefdffd3aa81290285f57914cfcea6647727dd80/expr.ipynb\"><img src=\"data:image/png;base64,iVBORw0KGgoAAAANSUhEUgAAAEAAAAATBAMAAADSXRa0AAAAMFBMVEX///8AAAAAAAAAAAAAAAAA\n",
       "AAAAAAAAAAAAAAAAAAAAAAAAAAAAAAAAAAAAAAAAAAAv3aB7AAAAD3RSTlMAEHarMolUmd1mIs3v\n",
       "RLtmgJDEAAAACXBIWXMAAA7EAAAOxAGVKw4bAAAA7klEQVQoz2NgwAcKGAiAB+QpYOx/t5GB9fxZ\n",
       "3CbwJVxmYJDHYwVzF+sEBh4G9nfvzr17iVVBHsMuBg4sJuh1dGwAK1ipsBqbgtuKMBMWmDAFIBQI\n",
       "KYuEJgBpro1wKxbwMbxFKChgMmJvANLcCxAKWAokJGAhybmA8yPzBJAChCMXMExjewPjsTCwg13G\n",
       "4NMBBA+gCpgFbBCO41EAU3LIJjAaSCAU3F/AKACkOJAVMDjxwXhyF2wYWEEMJgV4UDsAeX4wXr5j\n",
       "DcM1MGsbTIgb5OtqGE9cia0yAcwSfisAcfb+c0BSGkscXH0BCWoUAACz1jmMfap6cwAAAABJRU5E\n",
       "rkJggg==\n",
       "\" style=\"display:inline;vertical-align:middle;\" /></a> <a class=\"ProveItLink\" href=\"../__pv_it/demonstrations/f3326020d8b312fe6bc7beb6e95c04a02e21f1a30/proof.ipynb\" style=\"text-decoration: none\">&nbsp;&#x22A2;&nbsp;&nbsp;</a><a class=\"ProveItLink\" href=\"../../real_numbers/__pv_it/theorems/0c04c146b0f7b92967ed28917fb83981f8ee0b1b0/expr.ipynb\"><img src=\"data:image/png;base64,iVBORw0KGgoAAAANSUhEUgAAADEAAAAQBAMAAABNQoq8AAAAMFBMVEX///8AAAAAAAAAAAAAAAAA\n",
       "AAAAAAAAAAAAAAAAAAAAAAAAAAAAAAAAAAAAAAAAAAAv3aB7AAAAD3RSTlMAEHarMolUmd1mIs3v\n",
       "RLtmgJDEAAAACXBIWXMAAA7EAAAOxAGVKw4bAAAAv0lEQVQY02NgwAZC1RdgFWfgTmDswi4zg4Eh\n",
       "DokrPQHOfMzAkC+AkGGMUIAxvzMw+CcwMAgpi4QmgAU0AqFqQDJAEwqYjNgboOYXgimur0AZBQbO\n",
       "BZwfmWFWZFfBZQIYWBjYNyAsu20IMg0ocx9kKY8CksxDqAvyQVbfX8AIc2K2FZh6x8AwX4BB7oIN\n",
       "AyvMh1UQeg4DQzVQm2MNwzUGFFczcCQwHmFgEFdiqwR7h1EDbh9jqbIDUuhITGAgEgAAPjAn/CdE\n",
       "pSIAAAAASUVORK5CYII=\n",
       "\" style=\"display:inline;vertical-align:middle;\" /></a></span>"
      ],
      "text/plain": [
       "{x in NaturalPos} |- x > 0"
      ]
     },
     "metadata": {},
     "output_type": "display_data"
    }
   ],
   "source": [
    "greater(x, zero).prove(assumptions=[InSet(x, NaturalPos)])"
   ]
  },
  {
   "cell_type": "code",
   "execution_count": 6,
   "metadata": {},
   "outputs": [
    {
     "data": {
      "text/html": [
       "<span style=\"font-size:20px;\"><a class=\"ProveItLink\" href=\"../__pv_it/theorems/eeefdffd3aa81290285f57914cfcea6647727dd80/expr.ipynb\"><img src=\"data:image/png;base64,iVBORw0KGgoAAAANSUhEUgAAAEAAAAATBAMAAADSXRa0AAAAMFBMVEX///8AAAAAAAAAAAAAAAAA\n",
       "AAAAAAAAAAAAAAAAAAAAAAAAAAAAAAAAAAAAAAAAAAAv3aB7AAAAD3RSTlMAEHarMolUmd1mIs3v\n",
       "RLtmgJDEAAAACXBIWXMAAA7EAAAOxAGVKw4bAAAA7klEQVQoz2NgwAcKGAiAB+QpYOx/t5GB9fxZ\n",
       "3CbwJVxmYJDHYwVzF+sEBh4G9nfvzr17iVVBHsMuBg4sJuh1dGwAK1ipsBqbgtuKMBMWmDAFIBQI\n",
       "KYuEJgBpro1wKxbwMbxFKChgMmJvANLcCxAKWAokJGAhybmA8yPzBJAChCMXMExjewPjsTCwg13G\n",
       "4NMBBA+gCpgFbBCO41EAU3LIJjAaSCAU3F/AKACkOJAVMDjxwXhyF2wYWEEMJgV4UDsAeX4wXr5j\n",
       "DcM1MGsbTIgb5OtqGE9cia0yAcwSfisAcfb+c0BSGkscXH0BCWoUAACz1jmMfap6cwAAAABJRU5E\n",
       "rkJggg==\n",
       "\" style=\"display:inline;vertical-align:middle;\" /></a> <a class=\"ProveItLink\" href=\"../__pv_it/demonstrations/7589065f3cea5e5b79a0aee4a6222158bab6e0e50/proof.ipynb\" style=\"text-decoration: none\">&nbsp;&#x22A2;&nbsp;&nbsp;</a><a class=\"ProveItLink\" href=\"../__pv_it/theorems/8c13e7bcba0a4bd4dd1c903dda9179f0c1a274990/expr.ipynb\"><img src=\"data:image/png;base64,iVBORw0KGgoAAAANSUhEUgAAADQAAAAQBAMAAACra0H4AAAAMFBMVEX///8AAAAAAAAAAAAAAAAA\n",
       "AAAAAAAAAAAAAAAAAAAAAAAAAAAAAAAAAAAAAAAAAAAv3aB7AAAAD3RSTlMAEHarMolUmd1mIs3v\n",
       "RLtmgJDEAAAACXBIWXMAAA7EAAAOxAGVKw4bAAAA3klEQVQY02NgwACM/e82MrCeP8uABfAlXGZg\n",
       "kMcmw8DcxTqBgQe7VB7DLgYOFCG9jo4NYKmVCqtRpW4rwnQtMGEKAEkJKYuEJgBpro1wAxfwMbwF\n",
       "SRUwGbE3AGnuBQgplgIJCQYGzgWcH5kngKQQzljAMI3tDQMDCwM72G4Gnw4geACVYhawAbF4FMBS\n",
       "csi6GA0kQKz7CxgFgBQHshSDEx9Q8QUbBlaQAJMCPKAcgDw/BoZ8xxqGa2CRbTApbpBfqhkYxJXY\n",
       "KhPAIsJvBcA0y/5zQFIaJaCuvoAEFBQAAFKNLSS7ExREAAAAAElFTkSuQmCC\n",
       "\" style=\"display:inline;vertical-align:middle;\" /></a></span>"
      ],
      "text/plain": [
       "{x in NaturalPos} |- x in Natural"
      ]
     },
     "metadata": {},
     "output_type": "display_data"
    }
   ],
   "source": [
    "InSet(x, Natural).prove(assumptions=[InSet(x, NaturalPos)])"
   ]
  },
  {
   "cell_type": "code",
   "execution_count": 7,
   "metadata": {},
   "outputs": [],
   "source": [
    "%end demonstrations"
   ]
  }
 ],
 "metadata": {
  "kernelspec": {
   "display_name": "Python 3",
   "language": "python",
   "name": "python3"
  }
 },
 "nbformat": 4,
 "nbformat_minor": 0
}