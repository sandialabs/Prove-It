{
 "cells": [
  {
   "cell_type": "markdown",
   "metadata": {},
   "source": [
    "Theorems (or conjectures) for the theory of <a class=\"ProveItLink\" href=\"theory.ipynb\">proveit.numbers.number_sets.natural_numbers</a>\n",
    "========"
   ]
  },
  {
   "cell_type": "code",
   "execution_count": 1,
   "metadata": {},
   "outputs": [],
   "source": [
    "import proveit\n",
    "# Prepare this notebook for defining the theorems of a theory:\n",
    "%theorems_notebook # Keep this at the top following 'import proveit'.\n",
    "from proveit import Operation\n",
    "from proveit import a, b, m, n, x, P\n",
    "from proveit.logic import And, Equals, NotEquals, Forall, Implies, in_bool, InSet, ProperSubset, Set\n",
    "from proveit.numbers import zero, one, num, frac\n",
    "from proveit.numbers import ZeroSet, Natural, NaturalPos, Integer, Interval, Rational, Real, RealPos, Complex\n",
    "from proveit.numbers import Add, subtract, greater, greater_eq, Less, LessEq\n",
    "from proveit.numbers import Pzero, Pone, Pm, P_mAddOne, Pn"
   ]
  },
  {
   "cell_type": "code",
   "execution_count": 2,
   "metadata": {},
   "outputs": [
    {
     "name": "stdout",
     "output_type": "stream",
     "text": [
      "Defining theorems for theory 'proveit.numbers.number_sets.natural_numbers'\n",
      "Subsequent end-of-cell assignments will define theorems\n",
      "'%end theorems' will finalize the definitions\n"
     ]
    }
   ],
   "source": [
    "%begin theorems"
   ]
  },
  {
   "cell_type": "code",
   "execution_count": 3,
   "metadata": {},
   "outputs": [
    {
     "data": {
      "text/html": [
       "<strong id=\"zero_set_within_nat\"><a class=\"ProveItLink\" href=\"proofs/zero_set_within_nat/thm_proof.ipynb\">zero_set_within_nat</a> (conjecture without proof):<br></strong> <a class=\"ProveItLink\" href=\"../__pv_it/theorems/0df02b39e5b635b2d9102f4e19f4eae2525f0a5f0/theorem_expr.ipynb\"><img src=\"data:image/png;base64,iVBORw0KGgoAAAANSUhEUgAAAEkAAAAVBAMAAAD4Ed5jAAAAMFBMVEX///8AAAAAAAAAAAAAAAAA\n",
       "AAAAAAAAAAAAAAAAAAAAAAAAAAAAAAAAAAAAAAAAAAAv3aB7AAAAD3RSTlMAEER2zVSJ3Zki72ar\n",
       "MruaaVGaAAAACXBIWXMAAA7EAAAOxAGVKw4bAAABWUlEQVQoz2NgYGBUYgCDqRMY8AATRQjNe04A\n",
       "XUr83xMBhqxfCgwMrB+B3DQLoEF8BzBMeMp0gIHxA5DBVsDAwBLAWAlhoYHjE7IZGBZAVW1nYMjD\n",
       "quroA5YJDAVQVW8YGOIFEKqYn5eXl18AsU5u5nSAq/rBwHA/AK6K1w3u25M8F8xgqhhBqjbAVYkj\n",
       "guQkwwM+BZAwhwMD5zegKgMG5gUQqUMMSKpuMBaCVM3aAFGVwMD5FSLlgKyKOyAOqHmOEzD0gar0\n",
       "DRgYZFzBzjqArIrhIA9QFW+fANj18QEMDCkKIBlOVFUyjCAbQSH+joFhvwAkFoCgAEUVr8EDaEjs\n",
       "YmBoAbKgru9GqHoLxLYwVewBjGsRYc+iAFflCgkEiBxjm80FhCrGN9BUwnDlF9AcRpgqCICzmPJg\n",
       "McSAIYcttuEAFuJQB+AAsBBnYJDagCdFzzgKoacdxakEAMMSXjPbO/7vAAAAAElFTkSuQmCC\n",
       "\" style=\"display:inline;vertical-align:middle;\" /></a><br>"
      ],
      "text/plain": [
       "<IPython.core.display.HTML object>"
      ]
     },
     "metadata": {},
     "output_type": "display_data"
    }
   ],
   "source": [
    "zero_set_within_nat = ProperSubset(ZeroSet, Natural)"
   ]
  },
  {
   "cell_type": "code",
   "execution_count": 4,
   "metadata": {},
   "outputs": [
    {
     "data": {
      "text/html": [
       "<strong id=\"interval_is_nat\"><a class=\"ProveItLink\" href=\"proofs/interval_is_nat/thm_proof.ipynb\">interval_is_nat</a> (conjecture without proof):<br></strong> <a class=\"ProveItLink\" href=\"../__pv_it/theorems/e88a8e07378f6e656ab6d9f953b5740dbc3099b00/theorem_expr.ipynb\"><img src=\"data:image/png;base64,iVBORw0KGgoAAAANSUhEUgAAAPoAAAAZBAMAAADqEi4iAAAAMFBMVEX///8AAAAAAAAAAAAAAAAA\n",
       "AAAAAAAAAAAAAAAAAAAAAAAAAAAAAAAAAAAAAAAAAAAv3aB7AAAAD3RSTlMAq1RmmUTNIjK7EInv\n",
       "3XZ/CtNrAAAACXBIWXMAAA7EAAAOxAGVKw4bAAADiElEQVRIx7WWW2gTQRSGT3Zz2WwuDQqGVloC\n",
       "YlEEG1CK+hAqrVAsyGIRQaoEfdAKyvoiKBa3pfTFXpaKlxWUFR+kBGm0grSIVEUsFKH44KUQSLCo\n",
       "UAwBH7xQxJnZze6ku81uH3Igyc7kn/1m5pw5cwCcrTEnQg0smnvvRpaGGtmuWtJFp/9qSY8mbDof\n",
       "/bmpwvMV4YRGj+GfLQ50FyKr7bDtHffFgC9BNEnoB3DXaQe6C5HFePstaxSnAGYBzhJ6P/oOyA50\n",
       "FyKLeZO23RtkvwgLALsJ3a8ChBIOdBcii4Urg+Bu7gN5iKcCaUwPq5jOoin6naLOhchizXTDd17V\n",
       "n+IeaRnT/UkS8+9yuXnHmHcWWawLMQsPX9wjjYtlOMRBDgqIHooReifAHUe6RcRO2Uq5pwbmFCIE\n",
       "m2BSrIzYOAzyi4jOpgn9AgRixuBe/aGvS2BfUnRaRGzYBj0ka0vSDKXRIxEZrkqVKSMObGI7inlm\n",
       "ltCDakgw/tuMp1BQBCY2AwcpOi0arb+xyqu6ebLopQbnDYA6KUAL3gwOeS73WadDgweRuRKhM3kq\n",
       "nubQpwPNlkl5IUvRKZG30xJT5SiXVtGhBWATOfsytXa4z6Od92lrh3QKfWVSz/Ac/xVUkoWYgaN5\n",
       "mk5EbPvoEsAXI6K1MaaNFRsoOr7AEPonjxsLNJ3Lo8kwCxr9CUo7/EfuFz6Vi9G2CaxhpJmtFXQs\n",
       "etCTDIv6MlqNMab9UJfAZ3BwsM8D8zeEG0VDdBt9vqN3sLJGv4ICxdvGoZ2AYJJNd2t0b1Sm6Vh0\n",
       "+SvUqT6SwrgzxhjTruM5GQf7MUqPvyGa3oMbfiNVncTOQ2/0ZjW6B7krLERjxHPeWKuiKAlG4rNp\n",
       "mo5F0AQ9wPYqyjj0Nxhj6KDZj1yS11sjgDeC30i4fP0x/VysyNoVEBHMG3ZSDO5Dk66DcOKatnY4\n",
       "nLfcsHPQwXGaQwrGGNNK8AoCxnZEpIpkN61n2rL1Ufd7WBzrVjMQUfeiw4WTiQDmwsr0QAk+bdOz\n",
       "TrM+Bq8rCxnSt4h8aUYd21Y1hbVTdF/7zikYTnCH8hDAcTGCkpOFjm7m5SRcknQ6GYNj4C0Mk4Q2\n",
       "WKRPHNyqBic3ZmVto4VGRlGEKrUNP62skW2Iy0zxRDV6UFxN96nuK6vjzvRAvgr9m6WuY9dR1/nX\n",
       "ePXQeqoAV1XlObt6fsDendJ66vnX/wE0DOY2Ck3ZcwAAAABJRU5ErkJggg==\n",
       "\" style=\"display:inline;vertical-align:middle;\" /></a><br>"
      ],
      "text/plain": [
       "<IPython.core.display.HTML object>"
      ]
     },
     "metadata": {},
     "output_type": "display_data"
    }
   ],
   "source": [
    "interval_is_nat = Forall((a, b), Forall(n, InSet(n, Natural), \n",
    "                                       domain=Interval(a, b)), domain=Natural)"
   ]
  },
  {
   "cell_type": "code",
   "execution_count": 5,
   "metadata": {},
   "outputs": [
    {
     "data": {
      "text/html": [
       "<strong id=\"natural_lower_bound\"><a class=\"ProveItLink\" href=\"proofs/natural_lower_bound/thm_proof.ipynb\">natural_lower_bound</a> (conjecture without proof):<br></strong> <a class=\"ProveItLink\" href=\"../__pv_it/theorems/0ad659e41fdd6ea1c0043c16b32ec4608e01a6bf0/theorem_expr.ipynb\"><img src=\"data:image/png;base64,iVBORw0KGgoAAAANSUhEUgAAAHcAAAAVBAMAAACOK2zoAAAAMFBMVEX///8AAAAAAAAAAAAAAAAA\n",
       "AAAAAAAAAAAAAAAAAAAAAAAAAAAAAAAAAAAAAAAAAAAv3aB7AAAAD3RSTlMAq1RmmUTNIjK7EInv\n",
       "3XZ/CtNrAAAACXBIWXMAAA7EAAAOxAGVKw4bAAACBElEQVQ4y4VUPUscQRh+bvc+9mbv9LqghawE\n",
       "w1VxEe28RFCjmOaqNDHGTmJ1KfPhR/6A0YDFWY0KNiIsQgoTBEtBAhZiTHGwGjGICFcYDNrknbud\n",
       "8Vacc2Dh/Xp2nnnedwaouxL6VAH3rSN9aoS+jDAeagoM7+749+MCGlygXzhjGvBKre0qM+6wn8A4\n",
       "8EmcbFYD7q2x2aYvzRywAXTSXzhgOxrwVsg7/xYYc0A7R4rDJDZx3ZFHw34uQF8Anx3ECfmjVNrR\n",
       "gKOk10jzh1PF99FA5QAC7MImrQeBBQ1Y/Nub89mlirxoFhJdE9iHSbzeIpGpHYu9r+gOAmkHsfwv\n",
       "JP7dgBck2INBiiS5nZe5maZ5tNo8yqtuKg/G/sK4UrQfVGgT+LUPq0yq+Eqv6KAYGL/HhgLDKCMi\n",
       "dcsNKcHaiZToxegTwOydOQZ+i0y2bVKCibZANro83Koi8JTD2CVznUZledhNFVhlVrL20sugKEky\n",
       "pzzqqRcekm7gGW0oyj+SPO9P0MhjlQHMouc0KBLNmJrGiTkdHs+0w7arjUREpFowDPNNsfiFwKtS\n",
       "BIuIvQIWO261kD0/JExa6byNPsvyqjvHHsvoQb3rOqG6W8ZBtjosXcChDHfWA6tbE8vgzMU7ImPt\n",
       "FxCR4WTNc7FWEuuGy+2ryDaK8+HArH7j5L3v0KQ+9Qf4DxZ3emkc7mzXAAAAAElFTkSuQmCC\n",
       "\" style=\"display:inline;vertical-align:middle;\" /></a><br>"
      ],
      "text/plain": [
       "<IPython.core.display.HTML object>"
      ]
     },
     "metadata": {},
     "output_type": "display_data"
    }
   ],
   "source": [
    "natural_lower_bound = Forall(n, greater_eq(n, zero), domain=Natural)"
   ]
  },
  {
   "cell_type": "code",
   "execution_count": 6,
   "metadata": {},
   "outputs": [
    {
     "data": {
      "text/html": [
       "<strong id=\"natural_pos_lower_bound\"><a class=\"ProveItLink\" href=\"proofs/natural_pos_lower_bound/thm_proof.ipynb\">natural_pos_lower_bound</a> (conjecture without proof):<br></strong> <a class=\"ProveItLink\" href=\"../__pv_it/theorems/b13fc1da812bdd5ee6d22095f3f7f51c70a1ff010/theorem_expr.ipynb\"><img src=\"data:image/png;base64,iVBORw0KGgoAAAANSUhEUgAAAIMAAAAVBAMAAACXjEALAAAAMFBMVEX///8AAAAAAAAAAAAAAAAA\n",
       "AAAAAAAAAAAAAAAAAAAAAAAAAAAAAAAAAAAAAAAAAAAv3aB7AAAAD3RSTlMAq1RmmUTNIjK7EInv\n",
       "3XZ/CtNrAAAACXBIWXMAAA7EAAAOxAGVKw4bAAAB9ElEQVQ4y42Uu0srQRTGv+y6yWY3VwMWF+Ui\n",
       "iiipvItopxIwPrBKZeMDO9Eqlle9Uf8BUcEiVqvCbURYRAsFwVKQCxYiKgTiA0VESOMDK8/4mJ0J\n",
       "myUDu5zZM/Pb8/hmgBJGqLgrhdLGVXHXMD1RZtT7EhTH+7t+AZRbQBebjPoi/om2xc3V7jd6jwNz\n",
       "LNcFX0SnYBv7OW6XM0QLELQBs9YXcSDNHvckRMSGSpEF/UsxIs/b90REkPb/z2aPfBFlVM3h6ql7\n",
       "nkFjj4AwqR+9wIrHRrcL7D/OYs544V/6q12ESjFOIBT1QMS59aMWWvIcoVcXseIiFKpU2DaTohJP\n",
       "dtAWFRGRJAzjCcobT+SnkIieJ0zOreZ81TLqTLvMLkBAySPwXdX2PrGcGuvXSAcvXC9Tai5uYjtx\n",
       "kki6ibD9FZbt1VTlmF5bJDC1c/4GuGaOWEPalGoRplZEHPy2HS9pqUyW05T5+qAVSRkfIo2ZawMS\n",
       "grVtZha36qwscJgvXy1HgFyTt6iwtQ93DPF7CaFTqEN0JJoLehb49VxJafJe1GAQ6lgms0SIjaCk\n",
       "C5z5Ce8vtw6R0HXnMwqtSV7VUtIZDOVxFvtUaStwKa8KC1fTZpYNNy73kGtRPFj4Q1XRT1MIyAjD\n",
       "5y4IF9x8xm5m2WtdujjiDngHiuN5MCC3lSwAAAAASUVORK5CYII=\n",
       "\" style=\"display:inline;vertical-align:middle;\" /></a><br>"
      ],
      "text/plain": [
       "<IPython.core.display.HTML object>"
      ]
     },
     "metadata": {},
     "output_type": "display_data"
    }
   ],
   "source": [
    "natural_pos_lower_bound = Forall(n, greater_eq(n, one), domain=NaturalPos)"
   ]
  },
  {
   "cell_type": "code",
   "execution_count": 7,
   "metadata": {},
   "outputs": [
    {
     "data": {
      "text/html": [
       "<strong id=\"natural_pos_is_pos\"><a class=\"ProveItLink\" href=\"proofs/natural_pos_is_pos/thm_proof.ipynb\">natural_pos_is_pos</a> (conjecture without proof):<br></strong> <a class=\"ProveItLink\" href=\"../__pv_it/theorems/471bcdd06c95b19ffa2209e46c0254cbe4edf0390/theorem_expr.ipynb\"><img src=\"data:image/png;base64,iVBORw0KGgoAAAANSUhEUgAAAIMAAAAVBAMAAACXjEALAAAAMFBMVEX///8AAAAAAAAAAAAAAAAA\n",
       "AAAAAAAAAAAAAAAAAAAAAAAAAAAAAAAAAAAAAAAAAAAv3aB7AAAAD3RSTlMAq1RmmUTNIjK7EInv\n",
       "3XZ/CtNrAAAACXBIWXMAAA7EAAAOxAGVKw4bAAACGElEQVQ4y41UTUsbURQ9mcnH5E2s2RVdSIoo\n",
       "WelQ7M60AWOVdpNVNvVrJ7qKS21r7R+IWnARV08FNyIMpV1oKXQZKIUupNWFMFFRRIQsWhTdeF8m\n",
       "mY8wGTIwzJ373j1z7znnDdDCFWm+lEdr10nzpQm64yLo9kWQdO/8t7M8HmnAsHiZ9oXY9k6HE+wv\n",
       "MAt8FLOu+EIMeadTwB4wQFgcUBO+ED+cHWlWuAr0c8Q4ZMqF/amYcryw70Y9/AcsJxCm+l/Hxz99\n",
       "IYLE5kTn28ta7fV+DUxAaFBJj1Fg3aPQVkF8R1812E2dg1emWe4JwoBMPc4hEveASFtRWwKh7BEi\n",
       "t/VE74gFoUMipqJczTqdePAVg3EnRCwLxv5DurMyuU4xCEFMGlAqxJZhs1noWMMTlQd5AwSkCgI2\n",
       "q7n1Gp391KDQa+q5RdyocKqRVvElc5DJ2oOI+naN1wd5XH0UgRcc0m8KP5PB5KHCGXAqVpI9i6qL\n",
       "iyhJEdPJAzWGUyPmcxB4SZXClu9o8q0xLZZnVZMm1c03Lggh24clnMtLLlGpO1YyJUeAlhbO0c5D\n",
       "Veclkb50QSjU6jiw8bTqhmvLWux1mSrbLC26MAZ5plj8RBA7YZcvcOgQbFdrEP+9FZWQURTd7CLU\n",
       "59410NIZjFRwmDRd+gwou3dFfX5N9iEPxXGlYZ5mU/7kEXBvYz7/gkZ4tldc89q32BziAngAyZt5\n",
       "l3CyLfoAAAAASUVORK5CYII=\n",
       "\" style=\"display:inline;vertical-align:middle;\" /></a><br>"
      ],
      "text/plain": [
       "<IPython.core.display.HTML object>"
      ]
     },
     "metadata": {},
     "output_type": "display_data"
    }
   ],
   "source": [
    "natural_pos_is_pos = Forall(n, greater(n, zero), domain=NaturalPos)"
   ]
  },
  {
   "cell_type": "code",
   "execution_count": 8,
   "metadata": {},
   "outputs": [
    {
     "data": {
      "text/html": [
       "<strong id=\"nonzero_if_is_nat_pos\"><a class=\"ProveItLink\" href=\"proofs/nonzero_if_is_nat_pos/thm_proof.ipynb\">nonzero_if_is_nat_pos</a> (conjecture with conjecture-based proof):<br></strong> <a class=\"ProveItLink\" href=\"../__pv_it/theorems/6b94bcd1d8eb42e3c3cdc7e765fb8dda184545770/theorem_expr.ipynb\"><img src=\"data:image/png;base64,iVBORw0KGgoAAAANSUhEUgAAAIMAAAAVCAMAAABSfK0KAAAAPFBMVEX///8AAAAAAAAAAAAAAAAA\n",
       "AAAAAAAAAAAAAAAAAAAAAAAAAAAAAAAAAAAAAAAAAAAAAAAAAAAAAAAAAAAo1xBWAAAAE3RSTlMA\n",
       "q1RmmUTNIjK7EInv3Xbn9enzK1aD6QAAAAlwSFlzAAAOxAAADsQBlSsOGwAAAhNJREFUSMe9Vomy\n",
       "2yAMBCQwp3r4//+1SICDX3ykz50yE3u4vKvVIqLUv2rLf9t02sjcLMB4MGiJn3rrG3hAwaSbBT7M\n",
       "vZQIRQNiULRj3D0QJrq7FcFPHVdFi0XwXJXHDyGW8EAGvNPQ66kDRbQQQMBORIbMAw75VoZZ5CCE\n",
       "zCrIuT6hh+CeuOFus51lUCuKNKtE7Rg/F245PUlF6i7XcUkU6G3BzmtxcJDoE9NDcUuIn8EdUnXQ\n",
       "54ImxtgQUeIrP37yc3PemhoH4Qqs4aLH46OQjwaLqGqtKkEw/JUMLw7yMnlIkOxpKSvIk5D1OYcs\n",
       "u2NVwL7MNrlhvyk2cNt08KswoUNHetIh1G8arVLc6twFB0aXsucuZRieNM2TNvcjAe82QvSjfhIj\n",
       "V+4JEUv92eNcDPTqtTj74dfv5oot3aFVhiaXKb009CIBCJ4ItyLaOHhjFxpmPNRhnAQ5XJyKnXPd\n",
       "V7uDhI5NLmi1cem5jmBzhc5VuviqmsbXXBh7xSHpbjaWjqqssykNHno4Zj+fa6Vbd4nE3FgjCzOH\n",
       "ikzhgoNvelp5RQ3mUoa6BBN1TFW+ZpaPt5gEXJBmGoeYhmuPS1nx371Rl/JmcI4ZlVc+7XRQ1tDV\n",
       "lwBPp1z8u9tuWSUmRn3VTRCxSH9+J+3Y3cgQDq8WSiCTfuS6He9rDvHs5i/xe9zbVxP7wX78z/Ak\n",
       "V/76HyBT+AOY8A9iej75mQAAAABJRU5ErkJggg==\n",
       "\" style=\"display:inline;vertical-align:middle;\" /></a><br>"
      ],
      "text/plain": [
       "<IPython.core.display.HTML object>"
      ]
     },
     "metadata": {},
     "output_type": "display_data"
    }
   ],
   "source": [
    "# proven\n",
    "nonzero_if_is_nat_pos = Forall(\n",
    "        n,\n",
    "        NotEquals(n, zero),\n",
    "        domain=NaturalPos)"
   ]
  },
  {
   "cell_type": "code",
   "execution_count": 9,
   "metadata": {},
   "outputs": [
    {
     "data": {
      "text/html": [
       "<strong id=\"nat_pos_within_nat\"><a class=\"ProveItLink\" href=\"proofs/nat_pos_within_nat/thm_proof.ipynb\">nat_pos_within_nat</a> (conjecture without proof):<br></strong> <a class=\"ProveItLink\" href=\"../__pv_it/theorems/d7c109b8820a75771e73c77bf57f099618f48fe10/theorem_expr.ipynb\"><img src=\"data:image/png;base64,iVBORw0KGgoAAAANSUhEUgAAAEcAAAATBAMAAAAwgQ3NAAAAMFBMVEX///8AAAAAAAAAAAAAAAAA\n",
       "AAAAAAAAAAAAAAAAAAAAAAAAAAAAAAAAAAAAAAAAAAAv3aB7AAAAD3RSTlMAEN27zYnvRFSrImZ2\n",
       "MpmnAiL6AAAACXBIWXMAAA7EAAAOxAGVKw4bAAAA3UlEQVQoz2NggAM+BiIAM4WKhD6bCDCEfSvA\n",
       "pgghZ8E+gYHxA3aT4HKTFkQzMCQwPDY2MzbegKYIKsfAMMOAZQGDAnaT4HKz9nA5oCk6rKSkpMuA\n",
       "LDeL88JRVEVXomAsuNwsBgPmAmRFjFpwI+FysxjuMSoqIIU4ZwGSIqjcLAbuhuYEJNeyMCApgsrN\n",
       "YmCYyIms6CayIqgckCHJqICkaCWKIogckMF7wABJEROKIoicLRCfRVbEhwh3uJwHSNwBOZzd4SyY\n",
       "3JVvQJWMKIqEpwtAQxVTDgFKjaDRAgUAT1U9HLVpTsoAAAAASUVORK5CYII=\n",
       "\" style=\"display:inline;vertical-align:middle;\" /></a><br>"
      ],
      "text/plain": [
       "<IPython.core.display.HTML object>"
      ]
     },
     "metadata": {},
     "output_type": "display_data"
    }
   ],
   "source": [
    "nat_pos_within_nat = ProperSubset(NaturalPos, Natural)"
   ]
  },
  {
   "cell_type": "code",
   "execution_count": 10,
   "metadata": {},
   "outputs": [
    {
     "data": {
      "text/html": [
       "<strong id=\"nat_membership_is_bool\"><a class=\"ProveItLink\" href=\"proofs/nat_membership_is_bool/thm_proof.ipynb\">nat_membership_is_bool</a> (conjecture without proof):<br></strong> <a class=\"ProveItLink\" href=\"../__pv_it/theorems/0f619eb4a01c6500c45f4bd8e1dedf3654da42ba0/theorem_expr.ipynb\"><img src=\"data:image/png;base64,iVBORw0KGgoAAAANSUhEUgAAAJoAAAAVBAMAAABMN+opAAAAMFBMVEX///8AAAAAAAAAAAAAAAAA\n",
       "AAAAAAAAAAAAAAAAAAAAAAAAAAAAAAAAAAAAAAAAAAAv3aB7AAAAD3RSTlMAq1RmmUTNIjK7EInv\n",
       "3XZ/CtNrAAAACXBIWXMAAA7EAAAOxAGVKw4bAAACRUlEQVQ4y5WUTWgTQRiG381ufna3DbmIFooU\n",
       "BEFULD0IRZCA+IN6iAoe/F3oQQjFjggFoYd4VFD3IkXRmoOIPbSmIogIxUsPUcRUUPEQXKl6EMxV\n",
       "EARn5pttZ7JdIR+8y+wzM+/8fDMDJIMppUS+J14cInWH9+VOFf67pWzUVfGrOTG+XIHgJfG/Ra/c\n",
       "rpQId+gY8ARY6a4Iz+WrGyTfL34v6FMISMmwPvnD6ANy9W63E3juSn5VrDjUqpxh0jpu2/iw/YBd\n",
       "TrqNWJKLgXx9l/qUtI283/4o3S5Hk8INr00u3XKS23waOb3vVqXVyF5UK7PYpmJDuI2ZXLht3EP8\n",
       "bbv9Ru98RGn+6+OXcs6TcSeLubgt3BZgcJ6F+eUG8UPAXd1tTKlc3Oy0jBRZrFCem+OF3TBTF54d\n",
       "/3uY+CXkS7rbe5LN7D+WTEaw5oaRzD1e2AGDi5WunKxL7tb9iu62RCrAoeYFvhXtz8rNqg/ywi2T\n",
       "Czc325A8ExlJiN14YunMe6E2N68kVnrG5NINIfFgL/90Dn5jxkqB88yT+9zS3HCTn1LshMHJLSD+\n",
       "tMqPDhvIqUM3Q5qtDMKXoLN6s2q84TVeGDW5dMtExKd4EmzMFFTVAmnX9aM4LkE8DBUOqAOkcYSn\n",
       "sfhMcasmyO+46gbpYSezj5p7A6coHRNN/n3E9cHg+NF8IN6QmIumr+Lnqb9G0i7DC3WD4oes9X+O\n",
       "KT9wVFHc6cS9NmL9N0HjzvfFnzGcVkqNK73wWaXUmO6F5yNSWhRZKv8H2fmdaVUcrekAAAAASUVO\n",
       "RK5CYII=\n",
       "\" style=\"display:inline;vertical-align:middle;\" /></a><br>"
      ],
      "text/plain": [
       "<IPython.core.display.HTML object>"
      ]
     },
     "metadata": {},
     "output_type": "display_data"
    }
   ],
   "source": [
    "# In progress\n",
    "# For Natural numbers\n",
    "nat_membership_is_bool = Forall(x, in_bool(InSet(x, Natural)))"
   ]
  },
  {
   "cell_type": "code",
   "execution_count": 11,
   "metadata": {},
   "outputs": [
    {
     "data": {
      "text/html": [
       "<strong id=\"nat_pos_membership_is_bool\"><a class=\"ProveItLink\" href=\"proofs/nat_pos_membership_is_bool/thm_proof.ipynb\">nat_pos_membership_is_bool</a> (conjecture without proof):<br></strong> <a class=\"ProveItLink\" href=\"../__pv_it/theorems/c265aa639487d5291dfe6a182631ced9d17214110/theorem_expr.ipynb\"><img src=\"data:image/png;base64,iVBORw0KGgoAAAANSUhEUgAAAK0AAAAZBAMAAACx2rMTAAAAMFBMVEX///8AAAAAAAAAAAAAAAAA\n",
       "AAAAAAAAAAAAAAAAAAAAAAAAAAAAAAAAAAAAAAAAAAAv3aB7AAAAD3RSTlMAq1RmmUTNIjK7EInv\n",
       "3XZ/CtNrAAAACXBIWXMAAA7EAAAOxAGVKw4bAAACtElEQVRIx51WTWgTURCeTTab3cQsCyL+4CFg\n",
       "L+Il5uJB0XiwakVRhF6KNdhDIRS6RRCEQutRLHZBcoj4E0EEhdhQBG9lLz0E8aengrC4xR+oaG8l\n",
       "oSA4b3ffe/trWgf2e8l88L15M/NmFyBq6csUkq3iPXEmJvgHGCSbgc/tBC5rxLpzVQp9dNN2Anky\n",
       "1quUKER2/NKoQf7jsqcLn0P8787kxArmr9AE0IjjkJ+dZhDdsngFYIHGC2uRU4xma3sAVBQ9Q/6P\n",
       "+8kLDCImrOZLsAvERqPTeIA7NMO6V+GtgufaArgTSfQmg6juYQyhwOKVSlHdsoDrGHK4Z77o4+Qt\n",
       "CtzWLcupo3DTvuXTFY0QT3QlXM9jUXFPya+hfqLAbPgnjVffp7a5rmqGeNTdexzXX/i8t6x3gbNW\n",
       "PchtHLi36PRjjXG6AnWum3FPxXlj9PVKG9frmIRzAA8DNTc8EGHNvuikUee6cqXVovcN5B4EeePa\n",
       "xJ8hXOdnAaYgq/l1Jc2DY3Cqudvx8LPoUE494hfLra7kr9vXYYx1BptYaeYDo6BQ8WAWBl3PnIVm\n",
       "eLpC8yC/J5shHnWVDCZiARVTdqBsPF6AD67npT/enNbi8fZCPNElqZ/BPECVXOeNs9/0sG6mC6+c\n",
       "E/h14b7CW7ILQd7RxZLPE61FLKeq75e8JhYMF3J1wYS2005svigYh3qXyXj9wHmim7LdfoBpjC0N\n",
       "T2Tav6YLqd5zM+PudYPliPwf5IPa61/GGyOw9AbXE06AJBnQDQSBkLtkD5Rd17O6OwjkyQ7iCz7A\n",
       "tSD/o/PUmWdwmqfKzNKfywyYjTy24uYxmw9hfozNxnxV3MY8C1lkntH+Y9NF/L5E7zjMMehnRxP8\n",
       "aS12GBYp9LPVBH9B/+/3G+z8/QZHGPzbdvg+3tb3A7GhpO8HLOdf3p+4IGDpWOoAAAAASUVORK5C\n",
       "YII=\n",
       "\" style=\"display:inline;vertical-align:middle;\" /></a><br>"
      ],
      "text/plain": [
       "<IPython.core.display.HTML object>"
      ]
     },
     "metadata": {},
     "output_type": "display_data"
    }
   ],
   "source": [
    "# For Positive Natural numbers (NaturalPos)\n",
    "nat_pos_membership_is_bool = Forall(x, in_bool(InSet(x, NaturalPos)))"
   ]
  },
  {
   "cell_type": "code",
   "execution_count": 12,
   "metadata": {},
   "outputs": [
    {
     "data": {
      "text/html": [
       "<strong id=\"fold_forall_natural\"><a class=\"ProveItLink\" href=\"proofs/fold_forall_natural/thm_proof.ipynb\">fold_forall_natural</a> (conjecture without proof):<br></strong> <a class=\"ProveItLink\" href=\"../__pv_it/theorems/2cbdb5f962b687abe1cba460e7570d5a985942f20/theorem_expr.ipynb\"><img src=\"data:image/png;base64,iVBORw0KGgoAAAANSUhEUgAAAfsAAAAZBAMAAADEXprcAAAAMFBMVEX///8AAAAAAAAAAAAAAAAA\n",
       "AAAAAAAAAAAAAAAAAAAAAAAAAAAAAAAAAAAAAAAAAAAv3aB7AAAAD3RSTlMAq1RmmUTNIjK7EInv\n",
       "3XZ/CtNrAAAACXBIWXMAAA7EAAAOxAGVKw4bAAAGrElEQVRYw82Yf4hUVRTHz8ybH2/e7MxuFJX9\n",
       "kInKlgwdaxf6w3Js09Sl2Ij+0nSoQDKikUAwzR3/DErHwHQl3GeBIUGOhn/oYqzFgmTFGKFWDow/\n",
       "UKTUDdRdV9DOuffdH+/HzP5glR68O2/eu/d83+fec8879wIEHUaXKEY9Hq4W4I4cF6sZgNwkGozU\n",
       "ffKYLEY98nCnDiMLsHoS7cVLdR5YeVFolflP4bbhF0Z7RvhGLcgvToyRV7NGbZ6vUy+RFYU6TvOf\n",
       "pbcLP51p8HCpwIc/A57uG6PEad0aNkrZAC10/ai73lpRpHuv3/X5IvoXLgP0nS1AOuvDD7Hn2QlB\n",
       "X7i1acrbNl1Nr1fFRGKmyvBPBeIHQfgkCIH3dJbjp7HZPLqx3N2iUxbNOLhfUNudALGMdRxghVNn\n",
       "r8SPUIiMTTAAXkM3+8k/1dSxY/4IcFWGv9sOwg+C8EnslHdWcHwLLa8PCAJXZbER59pMmm8dAM8B\n",
       "7Adoc8LDMYlvUt9PMCaZN3FUblIY9nnPa2KsCL9N4MeyQfjrG0QyKdEhb7U5M+YttIfdmXTPO3NE\n",
       "FHC5iCc5TT/AJuwJG5p496dndcm5v0JzhvHO+GE8b+BFk+/RDB2fVBl+RIPcJvEDIPwS/fIWWSP8\n",
       "hdxozNOgIgropRO7IIyUV9AZMqL7U2ZJ4j8z8QiYGMQT3w+mNcYnVYafVhDwscQPgPBJhNUrkjXC\n",
       "/wfPX6rVI+4Gobwo4Dp3HoiUwSL8LCRZmMFItVziN1WrJ8sTw28u8QlGkSZ66uvvt5t9m4PwSZXh\n",
       "R0e0RKAsI78fwieBCLD0gTUXatwa4S9DL1igvEj0V0kUiB4/mOH9Fb/BzBi8E5eLrAj/RoqQsOuI\n",
       "u9K0J6R/iQs0uOY34NMwmZgKu9vhqSB8UmX45jBL2KrsuCLx/RDglaAhL2+qWUPcGuFvRL9eCXHs\n",
       "jGhv59z7hG+0iCL9b993bI6nMhy/DGHmfRjuUrbAx/YrPQnG7/tgNnMTPkW4dS2LFr1y+cG+dnaB\n",
       "L/h6qgTdNZgThE+qDD9+VZMJvynwOUSAvpJAhGjXHxAf5tYIvxtfKGEn6bUwrh90GqdyoqB5w4NF\n",
       "F1iIv6wGJrsVKkK6JtOeba7MY8OUzfBI0o7YCp9b36HqLHZ+e8WNAQB7dxfF1vn09+Vq9edq9ajE\n",
       "J1WGb+n4sHPAwXcg/PpKghCwdXiEW6M3RkEI11jQuAf7yTf6zXnVlkLfTOxBNvr4DbUqEn+GHvki\n",
       "CygFqeWSoOEz6/NUpZgtv8kSH2YCsR8JGv2oHP1hfZDfLTj4DoRfX0kQQniQxbSoGP0iAbDc9weA\n",
       "oz78jSKioedAD8AcG8IVkfS8IPFjlIq3PXup5cxWgDN0t/XxdS58Zr2iKjlfKfOGeGmanfcC/AXR\n",
       "ISvI+Sti7g9pc/9YQSa9BGF0bDjr1VcShIDszVnOwOY+td9L3+34CKwUEzJUEsVl4VEJ5JvNBsdg\n",
       "QNQHqyR+cpoNVvuPcAhzUos9b01+uVjDZ9bjeVkJwlwrLV15O9C4o3OG8h8Ehb5SQOSPllTOTxBf\n",
       "Lck2FTz6SoIQmso4vcrMmoj8sJbG2fj10pMyLveL4n1xiz4VqYx1mH8/+MIrURT48UN4fpuHYfx+\n",
       "RVle0Aq5Cxo+s45vKyqJN4+J2AJ7mF8bg5Aol934ySH+4eX4hvbdX6UteQjiw3PQbHv0lQQhoLef\n",
       "M4rMGjWa7YQxLLTAyXqYioW3totEEIfb6jyFNVPkECHqNrMmV3z3072a2Y8+bLzT0/MZyn8T0/CZ\n",
       "9XCLrAQ8aYr0XhcL2E9RsQLpHERfKbjwQw9du5ur8qxPe8+tGj6DmApLvPpKghDewDXE09waNZqr\n",
       "8kA9lx6QhTzkkvqjegvepmK6FB8smmXe+9EZGj6zTshOJeH86kgV62V9UtWX8xe8C97D8KLp0Q9C\n",
       "YNacnN85uguBKz7XKoEdHfXwu3FojVKOpx/tYmla0qxXVKW0d9vCyNVb8kjVBis+50MwCCdaPfpB\n",
       "CMyas+JzpnvvAa3iJ7JQmWChzg6RxH8VF73xqTasxnE0MSaHFL5jfYuqlPCtj7eMui/F8Gc12O6I\n",
       "tsDfWY9+AAK3ho2MlmC1UEYUav+r5LFRd7fH2t+zWf3Te2uxutzl09zVcGVUEPjHR93tcesHIHBr\n",
       "tNtTGPte3zr+c36cm106fkTJveQf4FoDK+cb7vUdHONe3zrN2sWB+nt9fOdp+mTs9LrmygHXRvr/\n",
       "dqd3PPv87zXe53c9tHwX49nnP4n4iyZznx+j6H8wyRMPLQhQtQAAAABJRU5ErkJggg==\n",
       "\" style=\"display:inline;vertical-align:middle;\" /></a><br>"
      ],
      "text/plain": [
       "<IPython.core.display.HTML object>"
      ]
     },
     "metadata": {},
     "output_type": "display_data"
    }
   ],
   "source": [
    "fold_forall_natural = Forall(P, Implies(And(Pzero, \n",
    "                                             Forall(m, P_mAddOne, \n",
    "                                                 domain=Natural, condition=Pm)), \n",
    "                                         Forall(n, Pn, domain=Natural)))"
   ]
  },
  {
   "cell_type": "code",
   "execution_count": 13,
   "metadata": {},
   "outputs": [
    {
     "data": {
      "text/html": [
       "<strong id=\"fold_forall_natural_pos\"><a class=\"ProveItLink\" href=\"proofs/fold_forall_natural_pos/thm_proof.ipynb\">fold_forall_natural_pos</a> (conjecture without proof):<br></strong> <a class=\"ProveItLink\" href=\"../__pv_it/theorems/65509fa5b60502da38b5d1cf98acd28851521d710/theorem_expr.ipynb\"><img src=\"data:image/png;base64,iVBORw0KGgoAAAANSUhEUgAAAhEAAAAaBAMAAAD76BPLAAAAMFBMVEX///8AAAAAAAAAAAAAAAAA\n",
       "AAAAAAAAAAAAAAAAAAAAAAAAAAAAAAAAAAAAAAAAAAAv3aB7AAAAD3RSTlMAq1RmmUTNIjK7EInv\n",
       "3XZ/CtNrAAAACXBIWXMAAA7EAAAOxAGVKw4bAAAGoElEQVRYw81ZfWwURRR/vdvr9r62V0UUjOSM\n",
       "yh8K0gRoaEQsoUShITm/YkiqLKlJE6Jh+w8JovbgvwYLJSbioaGbmGiIQRbQGEvQKjEaiFqJJmq4\n",
       "eAWjqcG2BkEoCThvZmd29nZu29PS+JKbvY+Z37z3m/fevJkDUMlS0UwqdxQtmDkxiqcBtGmHrYgY\n",
       "aeHN5GLCzMpiAL1vukErIr4tGk/Yyus3mAl90t8IE7BC6S35aiayPEwcuaJCt1dF402UpY9Y6cYy\n",
       "cTbkNzY3MpG2g78mc1VFWVbCJEMRMYNf3OUnf5A3I9f3zHmWTnsfefWSd+eCTCgQqgz+/isNr62l\n",
       "YelU6iPmRiaMjIqJGorQGDKR3xwq5xgTiLgaP3f684fDG7gEED9JngkTErM2E5BadzmSWcGEAqFK\n",
       "qSeO9aYdjEgh0tzIRGJCxYSGXlEbmr8lc1xBTMIEIm4PJoz6HG/qrhGWryEvSPUYGRV18+hBUzCx\n",
       "Hf5rEttNfHQR+umqQETwJRZzIxPQoWKiDj1la9g8fnOoICYGVodLStavmM0b4zJ5XSVvUlwbOOl6\n",
       "1S2CCQVClTJGkt0Y+uBgYBcrSUzQuSkTa7wecVvkiU3kcSQ0DH3mMDnJmCCIUUJPrX/AH6KJj5MX\n",
       "GQ7zhTbucgz1CCYUCFVKP74IGxEznIkOzsR5aZ37BBOLJ0vgfnOYdDAmEPGrYvGUf8Bs0dT3MdeF\n",
       "NqHNYaahwwPSVCFUKVeY49Lc9MzcbSOlnR/lVEwc5kxskDaPBwQTqWLxjBOajyRzYsPvfLyfYSIT\n",
       "iPgIwD7/gIJoyLBtp0VgUm2aWKKxeOFlqhB47E6NCMKCfhzDq5Z4l7OnlLiQiwyqmGjiTOymtcO6\n",
       "IsrPLZwJLS9iRa2FbE4yPg8OWRQTmUDELtBJqon1t6281R2wUTRjtx9jNfdpoc0C+plkyZ8EEwwh\n",
       "pIj1FbMRkd25lcafx45SH0hnIZb7EfRrEB1XMbGAM9EtFw/zsy4TRIuu0FJaNufJdB905ykmMoGI\n",
       "cZsWJQ8CHHcHfCeafo7xudBmN/18G8CoYMJFkOSltlz0U0+HOHus/+v9Bks6zmhS+FJJke0scREi\n",
       "E6BhvGvE20nkZXxzUyYOyfMlnsu5ldU++CBEC785NsFYZFNMHIqIkRJNd7PIbAGfuBRkoh3c/fig\n",
       "YMJF4L4+XMhFMgOwNsBEdAiSQwnPfWKOV05wJiAyjjSkHJVPtAufkCvrLR/yGvN+L2EqtCgzZxHL\n",
       "he2uTyCiSYvuzwC+LWei7iof6kXHQl5XaVlRbZty2d6Km8AKDZxk67rW1TITNS1gjGvScm5yw5en\n",
       "ORIdUGNC2oENlq1gYqHIE5aXJ4qdotqujZZCtCgzh9BwIUExaZ5AxCOokD4BXfzwOYc3xkU+dL/Q\n",
       "ppmqjCNMwQQiRFftGjaa82Bg0RLZ8VTJCfhEKgvpTNrryjf/MU5OnBhCvIF46my9UcFEs2rvWO+d\n",
       "O5LzyfdLlo22KLUoM+cUicIkxeR7B7yI/hr9evRe3u88b2p5ALO98xOL76fUB14XTCDCW+2NqQwp\n",
       "3w9QA/ID9wSZ6Lb1WbDF6wp3s+83iyyfoW76EMAbybLoEHNTJpZLhyTTY0InWSGx9AR8odTCb45+\n",
       "GQxzGcXEoRSxBkOkRsr+lB/SaP1XuCK95NXwzUbC9Pf4cS42uwQTiPDCr1CfJwXB40wHzegLMLF8\n",
       "9KyNS8i7usu55vp+HtxDAE8D/ALwxG9+Jry5KRMrpWopL51FSSLX3zNhQqmF35zYECRuzlJMHOoh\n",
       "pqQzHCYu1ghJ8xSlD1U6lc+DVzDQmwqFQjaSTzimt5O7TDRgc6fXFXrKN7wfKtaYYu7yc4defiqv\n",
       "KcUGlVqozKGY7rnDlW5LeRaVDyrst8ZKTHwJI9BdBzvZasBjkg0uEyew6fG68ujwZEnFE5iYu/JZ\n",
       "lK9jXmvJq7RQmUMx3bMovyIYkPbBQd54std9bq10U6OPk6Vu1liVF8357hAYE/rfbrLlXXlJInUM\n",
       "PVNv5fcT0UwIE92Q3pFXaaEyh2KSodEK/W4SjZAD5RDlTMQy0Aldv4OOibS3070CkpkYuWozY3nX\n",
       "IFgi9HC/V9xZWSFMPArGUaUWKnMoJt5ZWVO+x9SZmxnWpLd37xYK5RdpcdnfnTC7Xw47U1th95hJ\n",
       "/z2mQguFORTTOJOreI9JL9EizrTdbctMwMNe3P+b/wdm9m67mv87np/C/x0+JpK2b5Zq/+8gaVez\n",
       "p/3/jmlHnNLdvR1487+QfwDBNQdTuGi0SgAAAABJRU5ErkJggg==\n",
       "\" style=\"display:inline;vertical-align:middle;\" /></a><br>"
      ],
      "text/plain": [
       "<IPython.core.display.HTML object>"
      ]
     },
     "metadata": {},
     "output_type": "display_data"
    }
   ],
   "source": [
    "fold_forall_natural_pos = Forall(P, Implies(And(Pone, \n",
    "                                                 Forall(m, P_mAddOne, domain=NaturalPos, \n",
    "                                                        condition=Pm)), \n",
    "                                             Forall(n, Pn, domain=NaturalPos)))"
   ]
  },
  {
   "cell_type": "code",
   "execution_count": 14,
   "metadata": {},
   "outputs": [
    {
     "name": "stdout",
     "output_type": "stream",
     "text": [
      "These theorems may now be imported from the theory package: proveit.numbers.number_sets.natural_numbers\n"
     ]
    }
   ],
   "source": [
    "%end theorems"
   ]
  }
 ],
 "metadata": {
  "kernelspec": {
   "display_name": "Python 3",
   "language": "python",
   "name": "python3"
  }
 },
 "nbformat": 4,
 "nbformat_minor": 0
}