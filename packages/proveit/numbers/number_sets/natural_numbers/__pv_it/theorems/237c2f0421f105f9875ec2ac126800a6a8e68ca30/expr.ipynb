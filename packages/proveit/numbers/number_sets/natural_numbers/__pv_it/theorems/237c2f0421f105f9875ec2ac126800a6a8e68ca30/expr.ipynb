{
 "cells": [
  {
   "cell_type": "markdown",
   "metadata": {},
   "source": [
    "Expression of type <a class=\"ProveItLink\" href=\"../../../../../../../../doc/html/api/proveit.Lambda.html\">Lambda</a>\n",
    "=======================\n",
    "# from the theory of <a class=\"ProveItLink\" href=\"../../../_theory_nbs_/theory.ipynb\">proveit.numbers.number_sets.natural_numbers</a>"
   ]
  },
  {
   "cell_type": "code",
   "execution_count": 1,
   "metadata": {},
   "outputs": [],
   "source": [
    "import proveit\n",
    "# Automation is not needed when building an expression:\n",
    "proveit.defaults.automation = False # This will speed things up.\n",
    "proveit.defaults.inline_pngs = False # Makes files smaller.\n",
    "%load_expr # Load the stored expression as 'stored_expr'\n",
    "# import Expression classes needed to build the expression\n",
    "from proveit import Lambda, P, m, n\n",
    "from proveit.logic import And, Forall, Implies\n",
    "from proveit.numbers import Natural, P_mAddOne, Pm, Pn, Pzero"
   ]
  },
  {
   "cell_type": "code",
   "execution_count": 2,
   "metadata": {},
   "outputs": [
    {
     "data": {
      "text/html": [
       "<strong id=\"expr\">expr:</strong> <a class=\"ProveItLink\" href=\"expr.ipynb\"><img src=\"expr.png\" style=\"display:inline;vertical-align:middle;\" /></a><br>"
      ],
      "text/plain": [
       "<IPython.core.display.HTML object>"
      ]
     },
     "metadata": {},
     "output_type": "display_data"
    }
   ],
   "source": [
    "# build up the expression from sub-expressions\n",
    "expr = Lambda(P, Implies(And(Pzero, Forall(instance_param_or_params = [m], instance_expr = P_mAddOne, domain = Natural, condition = Pm)), Forall(instance_param_or_params = [n], instance_expr = Pn, domain = Natural)))"
   ]
  },
  {
   "cell_type": "code",
   "execution_count": 3,
   "metadata": {},
   "outputs": [
    {
     "name": "stdout",
     "output_type": "stream",
     "text": [
      "Passed sanity check: expr matches stored_expr\n"
     ]
    }
   ],
   "source": [
    "# check that the built expression is the same as the stored expression\n",
    "assert expr == stored_expr\n",
    "assert expr._style_id == stored_expr._style_id\n",
    "print(\"Passed sanity check: expr matches stored_expr\")"
   ]
  },
  {
   "cell_type": "code",
   "execution_count": 4,
   "metadata": {},
   "outputs": [
    {
     "name": "stdout",
     "output_type": "stream",
     "text": [
      "P \\mapsto \\left(\\left(P\\left(0\\right) \\land \\left[\\forall_{m \\in \\mathbb{N}~|~P\\left(m\\right)}~P\\left(m + 1\\right)\\right]\\right) \\Rightarrow \\left[\\forall_{n \\in \\mathbb{N}}~P\\left(n\\right)\\right]\\right)\n"
     ]
    }
   ],
   "source": [
    "# Show the LaTeX representation of the expression for convenience if you need it.\n",
    "print(stored_expr.latex())"
   ]
  },
  {
   "cell_type": "code",
   "execution_count": 5,
   "metadata": {},
   "outputs": [
    {
     "data": {
      "text/html": [
       "no style options"
      ],
      "text/plain": [
       "no style options"
      ]
     },
     "metadata": {},
     "output_type": "display_data"
    }
   ],
   "source": [
    "stored_expr.style_options()"
   ]
  },
  {
   "cell_type": "code",
   "execution_count": 6,
   "metadata": {},
   "outputs": [
    {
     "data": {
      "text/html": [
       "<table><tr><th>&nbsp;</th><th>core type</th><th>sub-expressions</th><th>expression</th></tr>\n",
       "<tr><td>0</td><td>Lambda</td><td>parameter:&nbsp;36<br>body:&nbsp;2<br></td><td><a class=\"ProveItLink\" href=\"expr.ipynb\"><img src=\"expr.png\" style=\"display:inline;vertical-align:middle;\" /></a></td></tr>\n",
       "<tr><td>1</td><td>ExprTuple</td><td>36</td><td><a class=\"ProveItLink\" href=\"../56f816491122851137106e952ad7383c0a593aaf0/expr.ipynb\"><img src=\"../56f816491122851137106e952ad7383c0a593aaf0/expr.png\" style=\"display:inline;vertical-align:middle;\" /></a></td></tr>\n",
       "<tr><td>2</td><td>Operation</td><td>operator:&nbsp;3<br>operands:&nbsp;4<br></td><td><a class=\"ProveItLink\" href=\"../4dc20fc58301079d6d63b9146eb46db59b8039430/expr.ipynb\"><img src=\"../4dc20fc58301079d6d63b9146eb46db59b8039430/expr.png\" style=\"display:inline;vertical-align:middle;\" /></a></td></tr>\n",
       "<tr><td>3</td><td>Literal</td><td></td><td><a class=\"ProveItLink\" href=\"../../../../../../logic/booleans/implication/__pv_it/common/02bdb382575728da8cdbaed545b9096ea7a1bd5b0/expr.ipynb\"><img src=\"../../../../../../logic/booleans/implication/__pv_it/common/02bdb382575728da8cdbaed545b9096ea7a1bd5b0/expr.png\" style=\"display:inline;vertical-align:middle;\" /></a></td></tr>\n",
       "<tr><td>4</td><td>ExprTuple</td><td>5, 6</td><td><a class=\"ProveItLink\" href=\"../dfb557d252829d0b72e3562a9def2c124a5b1b010/expr.ipynb\"><img src=\"../dfb557d252829d0b72e3562a9def2c124a5b1b010/expr.png\" style=\"display:inline;vertical-align:middle;\" /></a></td></tr>\n",
       "<tr><td>5</td><td>Operation</td><td>operator:&nbsp;27<br>operands:&nbsp;7<br></td><td><a class=\"ProveItLink\" href=\"../95f96052a636c8aa58376a11f76d9de985a883240/expr.ipynb\"><img src=\"../95f96052a636c8aa58376a11f76d9de985a883240/expr.png\" style=\"display:inline;vertical-align:middle;\" /></a></td></tr>\n",
       "<tr><td>6</td><td>Operation</td><td>operator:&nbsp;13<br>operand:&nbsp;11<br></td><td><a class=\"ProveItLink\" href=\"../c6b0ca1c7d3cd9d41bbbbcfc309627a269c960300/expr.ipynb\"><img src=\"../c6b0ca1c7d3cd9d41bbbbcfc309627a269c960300/expr.png\" style=\"display:inline;vertical-align:middle;\" /></a></td></tr>\n",
       "<tr><td>7</td><td>ExprTuple</td><td>9, 10</td><td><a class=\"ProveItLink\" href=\"../9dc23686061c1b6278af678d8622595a227d96f80/expr.ipynb\"><img src=\"../9dc23686061c1b6278af678d8622595a227d96f80/expr.png\" style=\"display:inline;vertical-align:middle;\" /></a></td></tr>\n",
       "<tr><td>8</td><td>ExprTuple</td><td>11</td><td><a class=\"ProveItLink\" href=\"../13bef2fbb0cdb6019e0b7d9705128444a4c6036e0/expr.ipynb\"><img src=\"../13bef2fbb0cdb6019e0b7d9705128444a4c6036e0/expr.png\" style=\"display:inline;vertical-align:middle;\" /></a></td></tr>\n",
       "<tr><td>9</td><td>Operation</td><td>operator:&nbsp;36<br>operand:&nbsp;16<br></td><td><a class=\"ProveItLink\" href=\"../../../../../__pv_it/common/85b85de9deb51cc87e5ca2792f9aa2a6bad21d920/expr.ipynb\"><img src=\"../../../../../__pv_it/common/85b85de9deb51cc87e5ca2792f9aa2a6bad21d920/expr.png\" style=\"display:inline;vertical-align:middle;\" /></a></td></tr>\n",
       "<tr><td>10</td><td>Operation</td><td>operator:&nbsp;13<br>operand:&nbsp;17<br></td><td><a class=\"ProveItLink\" href=\"../bffca387973fa24f8bd0e32ec3ef0f54e0b0220e0/expr.ipynb\"><img src=\"../bffca387973fa24f8bd0e32ec3ef0f54e0b0220e0/expr.png\" style=\"display:inline;vertical-align:middle;\" /></a></td></tr>\n",
       "<tr><td>11</td><td>Lambda</td><td>parameter:&nbsp;25<br>body:&nbsp;15<br></td><td><a class=\"ProveItLink\" href=\"../6bf4ee5c4f47370a7f0f1bfb76ea3ac0642883c50/expr.ipynb\"><img src=\"../6bf4ee5c4f47370a7f0f1bfb76ea3ac0642883c50/expr.png\" style=\"display:inline;vertical-align:middle;\" /></a></td></tr>\n",
       "<tr><td>12</td><td>ExprTuple</td><td>16</td><td><a class=\"ProveItLink\" href=\"../../common/2048ac4936a0fdafec65dc88dd04b24596ab2f8b0/expr.ipynb\"><img src=\"../../common/2048ac4936a0fdafec65dc88dd04b24596ab2f8b0/expr.png\" style=\"display:inline;vertical-align:middle;\" /></a></td></tr>\n",
       "<tr><td>13</td><td>Literal</td><td></td><td><a class=\"ProveItLink\" href=\"../../../../../../logic/booleans/quantification/universality/__pv_it/common/083d2baa0b8ecab1d230f9ec29a15aa1355809fb0/expr.ipynb\"><img src=\"../../../../../../logic/booleans/quantification/universality/__pv_it/common/083d2baa0b8ecab1d230f9ec29a15aa1355809fb0/expr.png\" style=\"display:inline;vertical-align:middle;\" /></a></td></tr>\n",
       "<tr><td>14</td><td>ExprTuple</td><td>17</td><td><a class=\"ProveItLink\" href=\"../76b44787eb75217d58cbcc443305a1abe7967a0d0/expr.ipynb\"><img src=\"../76b44787eb75217d58cbcc443305a1abe7967a0d0/expr.png\" style=\"display:inline;vertical-align:middle;\" /></a></td></tr>\n",
       "<tr><td>15</td><td>Conditional</td><td>value:&nbsp;18<br>condition:&nbsp;19<br></td><td><a class=\"ProveItLink\" href=\"../2b452545af1694a64c35e4f4cf4be3aa6b3ca8de0/expr.ipynb\"><img src=\"../2b452545af1694a64c35e4f4cf4be3aa6b3ca8de0/expr.png\" style=\"display:inline;vertical-align:middle;\" /></a></td></tr>\n",
       "<tr><td>16</td><td>Literal</td><td></td><td><a class=\"ProveItLink\" href=\"../../../../../numerals/__pv_it/common/dd4e19e8b134dfb293470ea55fe3589b0ab9f8040/expr.ipynb\"><img src=\"../../../../../numerals/__pv_it/common/dd4e19e8b134dfb293470ea55fe3589b0ab9f8040/expr.png\" style=\"display:inline;vertical-align:middle;\" /></a></td></tr>\n",
       "<tr><td>17</td><td>Lambda</td><td>parameter:&nbsp;40<br>body:&nbsp;20<br></td><td><a class=\"ProveItLink\" href=\"../4c036f4f2f1a4daca296d4ee1de5ca3b2627a0680/expr.ipynb\"><img src=\"../4c036f4f2f1a4daca296d4ee1de5ca3b2627a0680/expr.png\" style=\"display:inline;vertical-align:middle;\" /></a></td></tr>\n",
       "<tr><td>18</td><td>Operation</td><td>operator:&nbsp;36<br>operand:&nbsp;25<br></td><td><a class=\"ProveItLink\" href=\"../../../../../__pv_it/common/2626dadc6c0726953df8cccd201ec03ef9fce2210/expr.ipynb\"><img src=\"../../../../../__pv_it/common/2626dadc6c0726953df8cccd201ec03ef9fce2210/expr.png\" style=\"display:inline;vertical-align:middle;\" /></a></td></tr>\n",
       "<tr><td>19</td><td>Operation</td><td>operator:&nbsp;34<br>operands:&nbsp;22<br></td><td><a class=\"ProveItLink\" href=\"../1a8a7907b709bbd24c48a9933f16dbe96429f5cc0/expr.ipynb\"><img src=\"../1a8a7907b709bbd24c48a9933f16dbe96429f5cc0/expr.png\" style=\"display:inline;vertical-align:middle;\" /></a></td></tr>\n",
       "<tr><td>20</td><td>Conditional</td><td>value:&nbsp;23<br>condition:&nbsp;24<br></td><td><a class=\"ProveItLink\" href=\"../17da51a52bc1d223ca8e19a98cf25141364c4d340/expr.ipynb\"><img src=\"../17da51a52bc1d223ca8e19a98cf25141364c4d340/expr.png\" style=\"display:inline;vertical-align:middle;\" /></a></td></tr>\n",
       "<tr><td>21</td><td>ExprTuple</td><td>25</td><td><a class=\"ProveItLink\" href=\"../../../../../__pv_it/common/ca565dff2751ea9a3b48fe855133b9e0c2eca83f0/expr.ipynb\"><img src=\"../../../../../__pv_it/common/ca565dff2751ea9a3b48fe855133b9e0c2eca83f0/expr.png\" style=\"display:inline;vertical-align:middle;\" /></a></td></tr>\n",
       "<tr><td>22</td><td>ExprTuple</td><td>25, 39</td><td><a class=\"ProveItLink\" href=\"../c25d26c5511264271059242b39a87b493ffc58590/expr.ipynb\"><img src=\"../c25d26c5511264271059242b39a87b493ffc58590/expr.png\" style=\"display:inline;vertical-align:middle;\" /></a></td></tr>\n",
       "<tr><td>23</td><td>Operation</td><td>operator:&nbsp;36<br>operand:&nbsp;29<br></td><td><a class=\"ProveItLink\" href=\"../../../../../__pv_it/common/4a423ee17aca76103708c5b5d11c60b20109fc8f0/expr.ipynb\"><img src=\"../../../../../__pv_it/common/4a423ee17aca76103708c5b5d11c60b20109fc8f0/expr.png\" style=\"display:inline;vertical-align:middle;\" /></a></td></tr>\n",
       "<tr><td>24</td><td>Operation</td><td>operator:&nbsp;27<br>operands:&nbsp;28<br></td><td><a class=\"ProveItLink\" href=\"../a67767e97532965021caaa7b4d9214752ca389fd0/expr.ipynb\"><img src=\"../a67767e97532965021caaa7b4d9214752ca389fd0/expr.png\" style=\"display:inline;vertical-align:middle;\" /></a></td></tr>\n",
       "<tr><td>25</td><td>Variable</td><td></td><td><a class=\"ProveItLink\" href=\"../../../../../../__pv_it/common/8968bb04eb3f7dfa02353397ce929b025bbd79c20/expr.ipynb\"><img src=\"../../../../../../__pv_it/common/8968bb04eb3f7dfa02353397ce929b025bbd79c20/expr.png\" style=\"display:inline;vertical-align:middle;\" /></a></td></tr>\n",
       "<tr><td>26</td><td>ExprTuple</td><td>29</td><td><a class=\"ProveItLink\" href=\"../../../../../__pv_it/common/0258974fec9d4789cee0187765cadb637a1f9b680/expr.ipynb\"><img src=\"../../../../../__pv_it/common/0258974fec9d4789cee0187765cadb637a1f9b680/expr.png\" style=\"display:inline;vertical-align:middle;\" /></a></td></tr>\n",
       "<tr><td>27</td><td>Literal</td><td></td><td><a class=\"ProveItLink\" href=\"../../../../../../logic/booleans/conjunction/__pv_it/common/42118ff318bd65d98b1393f64ce7c2269feef76e0/expr.ipynb\"><img src=\"../../../../../../logic/booleans/conjunction/__pv_it/common/42118ff318bd65d98b1393f64ce7c2269feef76e0/expr.png\" style=\"display:inline;vertical-align:middle;\" /></a></td></tr>\n",
       "<tr><td>28</td><td>ExprTuple</td><td>30, 31</td><td><a class=\"ProveItLink\" href=\"../b02af23f23cb3e27c15a68da833493af954209b70/expr.ipynb\"><img src=\"../b02af23f23cb3e27c15a68da833493af954209b70/expr.png\" style=\"display:inline;vertical-align:middle;\" /></a></td></tr>\n",
       "<tr><td>29</td><td>Operation</td><td>operator:&nbsp;32<br>operands:&nbsp;33<br></td><td><a class=\"ProveItLink\" href=\"../../../../../__pv_it/common/f0153e6834a9ad14709e8cc9fcde46b29f1ea5f30/expr.ipynb\"><img src=\"../../../../../__pv_it/common/f0153e6834a9ad14709e8cc9fcde46b29f1ea5f30/expr.png\" style=\"display:inline;vertical-align:middle;\" /></a></td></tr>\n",
       "<tr><td>30</td><td>Operation</td><td>operator:&nbsp;34<br>operands:&nbsp;35<br></td><td><a class=\"ProveItLink\" href=\"../47de90a2f33f8b52cbee7743781f250244e7f67b0/expr.ipynb\"><img src=\"../47de90a2f33f8b52cbee7743781f250244e7f67b0/expr.png\" style=\"display:inline;vertical-align:middle;\" /></a></td></tr>\n",
       "<tr><td>31</td><td>Operation</td><td>operator:&nbsp;36<br>operand:&nbsp;40<br></td><td><a class=\"ProveItLink\" href=\"../../../../../__pv_it/common/8e9eaf198b0dc465400b5001370d1a53b151f0150/expr.ipynb\"><img src=\"../../../../../__pv_it/common/8e9eaf198b0dc465400b5001370d1a53b151f0150/expr.png\" style=\"display:inline;vertical-align:middle;\" /></a></td></tr>\n",
       "<tr><td>32</td><td>Literal</td><td></td><td><a class=\"ProveItLink\" href=\"../../../../../addition/__pv_it/common/4b7effaab3619a1c2c38fe2dee8601df8ec714590/expr.ipynb\"><img src=\"../../../../../addition/__pv_it/common/4b7effaab3619a1c2c38fe2dee8601df8ec714590/expr.png\" style=\"display:inline;vertical-align:middle;\" /></a></td></tr>\n",
       "<tr><td>33</td><td>ExprTuple</td><td>40, 38</td><td><a class=\"ProveItLink\" href=\"../../../../../__pv_it/common/170d11eb07f7b16874eb02f06c0a6709375d45350/expr.ipynb\"><img src=\"../../../../../__pv_it/common/170d11eb07f7b16874eb02f06c0a6709375d45350/expr.png\" style=\"display:inline;vertical-align:middle;\" /></a></td></tr>\n",
       "<tr><td>34</td><td>Literal</td><td></td><td><a class=\"ProveItLink\" href=\"../../../../../../logic/sets/membership/__pv_it/common/477487d8796864d23d5810f83761435f25167f690/expr.ipynb\"><img src=\"../../../../../../logic/sets/membership/__pv_it/common/477487d8796864d23d5810f83761435f25167f690/expr.png\" style=\"display:inline;vertical-align:middle;\" /></a></td></tr>\n",
       "<tr><td>35</td><td>ExprTuple</td><td>40, 39</td><td><a class=\"ProveItLink\" href=\"../3034788302b11f436bc5df8152c56a0cd038a0270/expr.ipynb\"><img src=\"../3034788302b11f436bc5df8152c56a0cd038a0270/expr.png\" style=\"display:inline;vertical-align:middle;\" /></a></td></tr>\n",
       "<tr><td>36</td><td>Variable</td><td></td><td><a class=\"ProveItLink\" href=\"../../../../../../__pv_it/common/de55da274ba0f49c86925fbf3828021c04d27faf0/expr.ipynb\"><img src=\"../../../../../../__pv_it/common/de55da274ba0f49c86925fbf3828021c04d27faf0/expr.png\" style=\"display:inline;vertical-align:middle;\" /></a></td></tr>\n",
       "<tr><td>37</td><td>ExprTuple</td><td>40</td><td><a class=\"ProveItLink\" href=\"../../../../../__pv_it/common/2ed45ad9602ac89076225577ef477d88f8c5a1790/expr.ipynb\"><img src=\"../../../../../__pv_it/common/2ed45ad9602ac89076225577ef477d88f8c5a1790/expr.png\" style=\"display:inline;vertical-align:middle;\" /></a></td></tr>\n",
       "<tr><td>38</td><td>Literal</td><td></td><td><a class=\"ProveItLink\" href=\"../../../../../numerals/__pv_it/common/682157d4892d216d9e5626ed533aff9b56b9506e0/expr.ipynb\"><img src=\"../../../../../numerals/__pv_it/common/682157d4892d216d9e5626ed533aff9b56b9506e0/expr.png\" style=\"display:inline;vertical-align:middle;\" /></a></td></tr>\n",
       "<tr><td>39</td><td>Literal</td><td></td><td><a class=\"ProveItLink\" href=\"../../common/8b7c321957f52ed3b05b36af612eeae4fa4783bc0/expr.ipynb\"><img src=\"../../common/8b7c321957f52ed3b05b36af612eeae4fa4783bc0/expr.png\" style=\"display:inline;vertical-align:middle;\" /></a></td></tr>\n",
       "<tr><td>40</td><td>Variable</td><td></td><td><a class=\"ProveItLink\" href=\"../../../../../../__pv_it/common/674a03b9c3ca221b3aabd5636837b31528ff33830/expr.ipynb\"><img src=\"../../../../../../__pv_it/common/674a03b9c3ca221b3aabd5636837b31528ff33830/expr.png\" style=\"display:inline;vertical-align:middle;\" /></a></td></tr>\n",
       "</table>\n"
      ],
      "text/plain": [
       "0. P -> ((P(0) and [forall_{m in Natural | P(m)} P(m + 1)]) => [forall_{n in Natural} P(n)])\n",
       "   core type: Lambda\n",
       "   parameter: 36\n",
       "   body: 2\n",
       "1. (P)\n",
       "   core type: ExprTuple\n",
       "   sub-expressions: 36\n",
       "2. (P(0) and [forall_{m in Natural | P(m)} P(m + 1)]) => [forall_{n in Natural} P(n)]\n",
       "   core type: Operation\n",
       "   operator: 3\n",
       "   operands: 4\n",
       "3. =>\n",
       "   core type: Literal\n",
       "   sub-expressions: \n",
       "4. (P(0) and [forall_{m in Natural | P(m)} P(m + 1)], forall_{n in Natural} P(n))\n",
       "   core type: ExprTuple\n",
       "   sub-expressions: 5, 6\n",
       "5. P(0) and [forall_{m in Natural | P(m)} P(m + 1)]\n",
       "   core type: Operation\n",
       "   operator: 27\n",
       "   operands: 7\n",
       "6. forall_{n in Natural} P(n)\n",
       "   core type: Operation\n",
       "   operator: 13\n",
       "   operand: 11\n",
       "7. (P(0), forall_{m in Natural | P(m)} P(m + 1))\n",
       "   core type: ExprTuple\n",
       "   sub-expressions: 9, 10\n",
       "8. (n -> {P(n) if n in Natural.)\n",
       "   core type: ExprTuple\n",
       "   sub-expressions: 11\n",
       "9. P(0)\n",
       "   core type: Operation\n",
       "   operator: 36\n",
       "   operand: 16\n",
       "10. forall_{m in Natural | P(m)} P(m + 1)\n",
       "    core type: Operation\n",
       "    operator: 13\n",
       "    operand: 17\n",
       "11. n -> {P(n) if n in Natural.\n",
       "    core type: Lambda\n",
       "    parameter: 25\n",
       "    body: 15\n",
       "12. (0)\n",
       "    core type: ExprTuple\n",
       "    sub-expressions: 16\n",
       "13. forall\n",
       "    core type: Literal\n",
       "    sub-expressions: \n",
       "14. (m -> {P(m + 1) if m in Natural ,  P(m).)\n",
       "    core type: ExprTuple\n",
       "    sub-expressions: 17\n",
       "15. {P(n) if n in Natural.\n",
       "    core type: Conditional\n",
       "    value: 18\n",
       "    condition: 19\n",
       "16. 0\n",
       "    core type: Literal\n",
       "    sub-expressions: \n",
       "17. m -> {P(m + 1) if m in Natural ,  P(m).\n",
       "    core type: Lambda\n",
       "    parameter: 40\n",
       "    body: 20\n",
       "18. P(n)\n",
       "    core type: Operation\n",
       "    operator: 36\n",
       "    operand: 25\n",
       "19. n in Natural\n",
       "    core type: Operation\n",
       "    operator: 34\n",
       "    operands: 22\n",
       "20. {P(m + 1) if m in Natural ,  P(m).\n",
       "    core type: Conditional\n",
       "    value: 23\n",
       "    condition: 24\n",
       "21. (n)\n",
       "    core type: ExprTuple\n",
       "    sub-expressions: 25\n",
       "22. (n, Natural)\n",
       "    core type: ExprTuple\n",
       "    sub-expressions: 25, 39\n",
       "23. P(m + 1)\n",
       "    core type: Operation\n",
       "    operator: 36\n",
       "    operand: 29\n",
       "24. (m in Natural) and P(m)\n",
       "    core type: Operation\n",
       "    operator: 27\n",
       "    operands: 28\n",
       "25. n\n",
       "    core type: Variable\n",
       "    sub-expressions: \n",
       "26. (m + 1)\n",
       "    core type: ExprTuple\n",
       "    sub-expressions: 29\n",
       "27. and\n",
       "    core type: Literal\n",
       "    sub-expressions: \n",
       "28. (m in Natural, P(m))\n",
       "    core type: ExprTuple\n",
       "    sub-expressions: 30, 31\n",
       "29. m + 1\n",
       "    core type: Operation\n",
       "    operator: 32\n",
       "    operands: 33\n",
       "30. m in Natural\n",
       "    core type: Operation\n",
       "    operator: 34\n",
       "    operands: 35\n",
       "31. P(m)\n",
       "    core type: Operation\n",
       "    operator: 36\n",
       "    operand: 40\n",
       "32. +\n",
       "    core type: Literal\n",
       "    sub-expressions: \n",
       "33. (m, 1)\n",
       "    core type: ExprTuple\n",
       "    sub-expressions: 40, 38\n",
       "34. in\n",
       "    core type: Literal\n",
       "    sub-expressions: \n",
       "35. (m, Natural)\n",
       "    core type: ExprTuple\n",
       "    sub-expressions: 40, 39\n",
       "36. P\n",
       "    core type: Variable\n",
       "    sub-expressions: \n",
       "37. (m)\n",
       "    core type: ExprTuple\n",
       "    sub-expressions: 40\n",
       "38. 1\n",
       "    core type: Literal\n",
       "    sub-expressions: \n",
       "39. Natural\n",
       "    core type: Literal\n",
       "    sub-expressions: \n",
       "40. m\n",
       "    core type: Variable\n",
       "    sub-expressions: "
      ]
     },
     "metadata": {},
     "output_type": "display_data"
    }
   ],
   "source": [
    "# display the expression information\n",
    "stored_expr.expr_info()"
   ]
  },
  {
   "cell_type": "code",
   "execution_count": null,
   "metadata": {},
   "outputs": [],
   "source": []
  }
 ],
 "metadata": {
  "kernelspec": {
   "display_name": "Python 3",
   "language": "python",
   "name": "python3"
  }
 },
 "nbformat": 4,
 "nbformat_minor": 0
}