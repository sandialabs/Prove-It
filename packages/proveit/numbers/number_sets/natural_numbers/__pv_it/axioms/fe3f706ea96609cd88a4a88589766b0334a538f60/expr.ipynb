{
 "cells": [
  {
   "cell_type": "markdown",
   "metadata": {},
   "source": [
    "Expression of type <a class=\"ProveItLink\" href=\"../../../../../../../../doc/html/api/proveit.Lambda.html\">Lambda</a>\n",
    "=======================\n",
    "# from the theory of <a class=\"ProveItLink\" href=\"../../../_theory_nbs_/theory.ipynb\">proveit.numbers.number_sets.natural_numbers</a>"
   ]
  },
  {
   "cell_type": "code",
   "execution_count": 1,
   "metadata": {},
   "outputs": [],
   "source": [
    "import proveit\n",
    "# Automation is not needed when building an expression:\n",
    "proveit.defaults.automation = False # This will speed things up.\n",
    "proveit.defaults.inline_pngs = False # Makes files smaller.\n",
    "%load_expr # Load the stored expression as 'stored_expr'\n",
    "# import Expression classes needed to build the expression\n",
    "from proveit import Conditional, Lambda, m, n\n",
    "from proveit.logic import And, Equals, InSet\n",
    "from proveit.numbers import Add, Natural, one"
   ]
  },
  {
   "cell_type": "code",
   "execution_count": 2,
   "metadata": {},
   "outputs": [
    {
     "data": {
      "text/html": [
       "<strong id=\"expr\">expr:</strong> <a class=\"ProveItLink\" href=\"expr.ipynb\"><img src=\"expr.png\" style=\"display:inline;vertical-align:middle;\" /></a><br>"
      ],
      "text/plain": [
       "<IPython.core.display.HTML object>"
      ]
     },
     "metadata": {},
     "output_type": "display_data"
    }
   ],
   "source": [
    "# build up the expression from sub-expressions\n",
    "expr = Lambda([m, n], Conditional(Equals(n, m), And(InSet(m, Natural), InSet(n, Natural), Equals(Add(m, one), Add(n, one)))))"
   ]
  },
  {
   "cell_type": "code",
   "execution_count": 3,
   "metadata": {},
   "outputs": [
    {
     "name": "stdout",
     "output_type": "stream",
     "text": [
      "Passed sanity check: expr matches stored_expr\n"
     ]
    }
   ],
   "source": [
    "# check that the built expression is the same as the stored expression\n",
    "assert expr == stored_expr\n",
    "assert expr._style_id == stored_expr._style_id\n",
    "print(\"Passed sanity check: expr matches stored_expr\")"
   ]
  },
  {
   "cell_type": "code",
   "execution_count": 4,
   "metadata": {},
   "outputs": [
    {
     "name": "stdout",
     "output_type": "stream",
     "text": [
      "\\left(m, n\\right) \\mapsto \\left\\{n = m \\textrm{ if } m \\in \\mathbb{N} ,  n \\in \\mathbb{N} ,  \\left(m + 1\\right) = \\left(n + 1\\right)\\right..\n"
     ]
    }
   ],
   "source": [
    "# Show the LaTeX representation of the expression for convenience if you need it.\n",
    "print(stored_expr.latex())"
   ]
  },
  {
   "cell_type": "code",
   "execution_count": 5,
   "metadata": {},
   "outputs": [
    {
     "data": {
      "text/html": [
       "no style options"
      ],
      "text/plain": [
       "no style options"
      ]
     },
     "metadata": {},
     "output_type": "display_data"
    }
   ],
   "source": [
    "stored_expr.style_options()"
   ]
  },
  {
   "cell_type": "code",
   "execution_count": 6,
   "metadata": {},
   "outputs": [
    {
     "data": {
      "text/html": [
       "<table><tr><th>&nbsp;</th><th>core type</th><th>sub-expressions</th><th>expression</th></tr>\n",
       "<tr><td>0</td><td>Lambda</td><td>parameters:&nbsp;1<br>body:&nbsp;2<br></td><td><a class=\"ProveItLink\" href=\"expr.ipynb\"><img src=\"expr.png\" style=\"display:inline;vertical-align:middle;\" /></a></td></tr>\n",
       "<tr><td>1</td><td>ExprTuple</td><td>22, 23</td><td><a class=\"ProveItLink\" href=\"../05a1ed7149bdab455b0537bd9baa8c6aae03294c0/expr.ipynb\"><img src=\"../05a1ed7149bdab455b0537bd9baa8c6aae03294c0/expr.png\" style=\"display:inline;vertical-align:middle;\" /></a></td></tr>\n",
       "<tr><td>2</td><td>Conditional</td><td>value:&nbsp;3<br>condition:&nbsp;4<br></td><td><a class=\"ProveItLink\" href=\"../3e22edc930e0c0f14ea24195e68d98df4182d63e0/expr.ipynb\"><img src=\"../3e22edc930e0c0f14ea24195e68d98df4182d63e0/expr.png\" style=\"display:inline;vertical-align:middle;\" /></a></td></tr>\n",
       "<tr><td>3</td><td>Operation</td><td>operator:&nbsp;14<br>operands:&nbsp;5<br></td><td><a class=\"ProveItLink\" href=\"../a0b55ca467f901c70a48de5e9e421118858134050/expr.ipynb\"><img src=\"../a0b55ca467f901c70a48de5e9e421118858134050/expr.png\" style=\"display:inline;vertical-align:middle;\" /></a></td></tr>\n",
       "<tr><td>4</td><td>Operation</td><td>operator:&nbsp;6<br>operands:&nbsp;7<br></td><td><a class=\"ProveItLink\" href=\"../4f3d613f0c76424504b9c0f063c72d3ec6ac0b460/expr.ipynb\"><img src=\"../4f3d613f0c76424504b9c0f063c72d3ec6ac0b460/expr.png\" style=\"display:inline;vertical-align:middle;\" /></a></td></tr>\n",
       "<tr><td>5</td><td>ExprTuple</td><td>23, 22</td><td><a class=\"ProveItLink\" href=\"../4dfb425557374107791dbc60e3c87f32a4d1adb30/expr.ipynb\"><img src=\"../4dfb425557374107791dbc60e3c87f32a4d1adb30/expr.png\" style=\"display:inline;vertical-align:middle;\" /></a></td></tr>\n",
       "<tr><td>6</td><td>Literal</td><td></td><td><a class=\"ProveItLink\" href=\"../../../../../../logic/booleans/conjunction/__pv_it/common/42118ff318bd65d98b1393f64ce7c2269feef76e0/expr.ipynb\"><img src=\"../../../../../../logic/booleans/conjunction/__pv_it/common/42118ff318bd65d98b1393f64ce7c2269feef76e0/expr.png\" style=\"display:inline;vertical-align:middle;\" /></a></td></tr>\n",
       "<tr><td>7</td><td>ExprTuple</td><td>8, 9, 10</td><td><a class=\"ProveItLink\" href=\"../2e526262a4d4ee7f6a26e640b7a98b2e76998d110/expr.ipynb\"><img src=\"../2e526262a4d4ee7f6a26e640b7a98b2e76998d110/expr.png\" style=\"display:inline;vertical-align:middle;\" /></a></td></tr>\n",
       "<tr><td>8</td><td>Operation</td><td>operator:&nbsp;12<br>operands:&nbsp;11<br></td><td><a class=\"ProveItLink\" href=\"../47de90a2f33f8b52cbee7743781f250244e7f67b0/expr.ipynb\"><img src=\"../47de90a2f33f8b52cbee7743781f250244e7f67b0/expr.png\" style=\"display:inline;vertical-align:middle;\" /></a></td></tr>\n",
       "<tr><td>9</td><td>Operation</td><td>operator:&nbsp;12<br>operands:&nbsp;13<br></td><td><a class=\"ProveItLink\" href=\"../1a8a7907b709bbd24c48a9933f16dbe96429f5cc0/expr.ipynb\"><img src=\"../1a8a7907b709bbd24c48a9933f16dbe96429f5cc0/expr.png\" style=\"display:inline;vertical-align:middle;\" /></a></td></tr>\n",
       "<tr><td>10</td><td>Operation</td><td>operator:&nbsp;14<br>operands:&nbsp;15<br></td><td><a class=\"ProveItLink\" href=\"../d5a5da114c51066436c11f3c01695af3f7a833d60/expr.ipynb\"><img src=\"../d5a5da114c51066436c11f3c01695af3f7a833d60/expr.png\" style=\"display:inline;vertical-align:middle;\" /></a></td></tr>\n",
       "<tr><td>11</td><td>ExprTuple</td><td>22, 16</td><td><a class=\"ProveItLink\" href=\"../3034788302b11f436bc5df8152c56a0cd038a0270/expr.ipynb\"><img src=\"../3034788302b11f436bc5df8152c56a0cd038a0270/expr.png\" style=\"display:inline;vertical-align:middle;\" /></a></td></tr>\n",
       "<tr><td>12</td><td>Literal</td><td></td><td><a class=\"ProveItLink\" href=\"../../../../../../logic/sets/membership/__pv_it/common/477487d8796864d23d5810f83761435f25167f690/expr.ipynb\"><img src=\"../../../../../../logic/sets/membership/__pv_it/common/477487d8796864d23d5810f83761435f25167f690/expr.png\" style=\"display:inline;vertical-align:middle;\" /></a></td></tr>\n",
       "<tr><td>13</td><td>ExprTuple</td><td>23, 16</td><td><a class=\"ProveItLink\" href=\"../c25d26c5511264271059242b39a87b493ffc58590/expr.ipynb\"><img src=\"../c25d26c5511264271059242b39a87b493ffc58590/expr.png\" style=\"display:inline;vertical-align:middle;\" /></a></td></tr>\n",
       "<tr><td>14</td><td>Literal</td><td></td><td><a class=\"ProveItLink\" href=\"../../../../../../logic/equality/__pv_it/common/fb96dc12b2aa8801dda64d0132b396c63d1502bb0/expr.ipynb\"><img src=\"../../../../../../logic/equality/__pv_it/common/fb96dc12b2aa8801dda64d0132b396c63d1502bb0/expr.png\" style=\"display:inline;vertical-align:middle;\" /></a></td></tr>\n",
       "<tr><td>15</td><td>ExprTuple</td><td>17, 18</td><td><a class=\"ProveItLink\" href=\"../5e8b80949154bacde3295c037747ba3110b6d9800/expr.ipynb\"><img src=\"../5e8b80949154bacde3295c037747ba3110b6d9800/expr.png\" style=\"display:inline;vertical-align:middle;\" /></a></td></tr>\n",
       "<tr><td>16</td><td>Literal</td><td></td><td><a class=\"ProveItLink\" href=\"../../common/8b7c321957f52ed3b05b36af612eeae4fa4783bc0/expr.ipynb\"><img src=\"../../common/8b7c321957f52ed3b05b36af612eeae4fa4783bc0/expr.png\" style=\"display:inline;vertical-align:middle;\" /></a></td></tr>\n",
       "<tr><td>17</td><td>Operation</td><td>operator:&nbsp;20<br>operands:&nbsp;19<br></td><td><a class=\"ProveItLink\" href=\"../f0153e6834a9ad14709e8cc9fcde46b29f1ea5f30/expr.ipynb\"><img src=\"../f0153e6834a9ad14709e8cc9fcde46b29f1ea5f30/expr.png\" style=\"display:inline;vertical-align:middle;\" /></a></td></tr>\n",
       "<tr><td>18</td><td>Operation</td><td>operator:&nbsp;20<br>operands:&nbsp;21<br></td><td><a class=\"ProveItLink\" href=\"../da9454a8f6582aff67171697f6638aec8e79b2450/expr.ipynb\"><img src=\"../da9454a8f6582aff67171697f6638aec8e79b2450/expr.png\" style=\"display:inline;vertical-align:middle;\" /></a></td></tr>\n",
       "<tr><td>19</td><td>ExprTuple</td><td>22, 24</td><td><a class=\"ProveItLink\" href=\"../170d11eb07f7b16874eb02f06c0a6709375d45350/expr.ipynb\"><img src=\"../170d11eb07f7b16874eb02f06c0a6709375d45350/expr.png\" style=\"display:inline;vertical-align:middle;\" /></a></td></tr>\n",
       "<tr><td>20</td><td>Literal</td><td></td><td><a class=\"ProveItLink\" href=\"../../../../../addition/__pv_it/common/4b7effaab3619a1c2c38fe2dee8601df8ec714590/expr.ipynb\"><img src=\"../../../../../addition/__pv_it/common/4b7effaab3619a1c2c38fe2dee8601df8ec714590/expr.png\" style=\"display:inline;vertical-align:middle;\" /></a></td></tr>\n",
       "<tr><td>21</td><td>ExprTuple</td><td>23, 24</td><td><a class=\"ProveItLink\" href=\"../a3b4d93edb08a2579aa592b54f8896fd10b24c2f0/expr.ipynb\"><img src=\"../a3b4d93edb08a2579aa592b54f8896fd10b24c2f0/expr.png\" style=\"display:inline;vertical-align:middle;\" /></a></td></tr>\n",
       "<tr><td>22</td><td>Variable</td><td></td><td><a class=\"ProveItLink\" href=\"../../../../../../__pv_it/common/674a03b9c3ca221b3aabd5636837b31528ff33830/expr.ipynb\"><img src=\"../../../../../../__pv_it/common/674a03b9c3ca221b3aabd5636837b31528ff33830/expr.png\" style=\"display:inline;vertical-align:middle;\" /></a></td></tr>\n",
       "<tr><td>23</td><td>Variable</td><td></td><td><a class=\"ProveItLink\" href=\"../../../../../../__pv_it/common/8968bb04eb3f7dfa02353397ce929b025bbd79c20/expr.ipynb\"><img src=\"../../../../../../__pv_it/common/8968bb04eb3f7dfa02353397ce929b025bbd79c20/expr.png\" style=\"display:inline;vertical-align:middle;\" /></a></td></tr>\n",
       "<tr><td>24</td><td>Literal</td><td></td><td><a class=\"ProveItLink\" href=\"../../../../../numerals/__pv_it/common/682157d4892d216d9e5626ed533aff9b56b9506e0/expr.ipynb\"><img src=\"../../../../../numerals/__pv_it/common/682157d4892d216d9e5626ed533aff9b56b9506e0/expr.png\" style=\"display:inline;vertical-align:middle;\" /></a></td></tr>\n",
       "</table>\n"
      ],
      "text/plain": [
       "0. (m, n) -> {n = m if m in Natural ,  n in Natural ,  (m + 1) = (n + 1).\n",
       "   core type: Lambda\n",
       "   parameters: 1\\n   body: 2\n",
       "1. (m, n)\n",
       "   core type: ExprTuple\n",
       "   sub-expressions: 22, 23\n",
       "2. {n = m if m in Natural ,  n in Natural ,  (m + 1) = (n + 1).\n",
       "   core type: Conditional\n",
       "   value: 3\n",
       "   condition: 4\n",
       "3. n = m\n",
       "   core type: Operation\n",
       "   operator: 14\n",
       "   operands: 5\n",
       "4. (m in Natural) and (n in Natural) and ((m + 1) = (n + 1))\n",
       "   core type: Operation\n",
       "   operator: 6\n",
       "   operands: 7\n",
       "5. (n, m)\n",
       "   core type: ExprTuple\n",
       "   sub-expressions: 23, 22\n",
       "6. and\n",
       "   core type: Literal\n",
       "   sub-expressions: \n",
       "7. (m in Natural, n in Natural, (m + 1) = (n + 1))\n",
       "   core type: ExprTuple\n",
       "   sub-expressions: 8, 9, 10\n",
       "8. m in Natural\n",
       "   core type: Operation\n",
       "   operator: 12\n",
       "   operands: 11\n",
       "9. n in Natural\n",
       "   core type: Operation\n",
       "   operator: 12\n",
       "   operands: 13\n",
       "10. (m + 1) = (n + 1)\n",
       "    core type: Operation\n",
       "    operator: 14\n",
       "    operands: 15\n",
       "11. (m, Natural)\n",
       "    core type: ExprTuple\n",
       "    sub-expressions: 22, 16\n",
       "12. in\n",
       "    core type: Literal\n",
       "    sub-expressions: \n",
       "13. (n, Natural)\n",
       "    core type: ExprTuple\n",
       "    sub-expressions: 23, 16\n",
       "14. =\n",
       "    core type: Literal\n",
       "    sub-expressions: \n",
       "15. (m + 1, n + 1)\n",
       "    core type: ExprTuple\n",
       "    sub-expressions: 17, 18\n",
       "16. Natural\n",
       "    core type: Literal\n",
       "    sub-expressions: \n",
       "17. m + 1\n",
       "    core type: Operation\n",
       "    operator: 20\n",
       "    operands: 19\n",
       "18. n + 1\n",
       "    core type: Operation\n",
       "    operator: 20\n",
       "    operands: 21\n",
       "19. (m, 1)\n",
       "    core type: ExprTuple\n",
       "    sub-expressions: 22, 24\n",
       "20. +\n",
       "    core type: Literal\n",
       "    sub-expressions: \n",
       "21. (n, 1)\n",
       "    core type: ExprTuple\n",
       "    sub-expressions: 23, 24\n",
       "22. m\n",
       "    core type: Variable\n",
       "    sub-expressions: \n",
       "23. n\n",
       "    core type: Variable\n",
       "    sub-expressions: \n",
       "24. 1\n",
       "    core type: Literal\n",
       "    sub-expressions: "
      ]
     },
     "metadata": {},
     "output_type": "display_data"
    }
   ],
   "source": [
    "# display the expression information\n",
    "stored_expr.expr_info()"
   ]
  },
  {
   "cell_type": "code",
   "execution_count": null,
   "metadata": {},
   "outputs": [],
   "source": []
  }
 ],
 "metadata": {
  "kernelspec": {
   "display_name": "Python 3",
   "language": "python",
   "name": "python3"
  }
 },
 "nbformat": 4,
 "nbformat_minor": 0
}