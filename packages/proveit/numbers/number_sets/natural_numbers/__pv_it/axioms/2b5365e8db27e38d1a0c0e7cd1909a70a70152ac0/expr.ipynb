{
 "cells": [
  {
   "cell_type": "markdown",
   "metadata": {},
   "source": [
    "Expression of type <a class=\"ProveItLink\" href=\"../../../../../../../../doc/html/api/proveit.ExprTuple.html\">ExprTuple</a>\n",
    "=======================\n",
    "# from the theory of <a class=\"ProveItLink\" href=\"../../../_theory_nbs_/theory.ipynb\">proveit.numbers.number_sets.natural_numbers</a>"
   ]
  },
  {
   "cell_type": "code",
   "execution_count": 1,
   "metadata": {},
   "outputs": [],
   "source": [
    "import proveit\n",
    "# Automation is not needed when building an expression:\n",
    "proveit.defaults.automation = False # This will speed things up.\n",
    "proveit.defaults.inline_pngs = False # Makes files smaller.\n",
    "%load_expr # Load the stored expression as 'stored_expr'\n",
    "# import Expression classes needed to build the expression\n",
    "from proveit import Conditional, ExprTuple, Lambda, S, x\n",
    "from proveit.logic import And, Forall, Implies, InSet, SetEquiv, SubsetEq\n",
    "from proveit.numbers import Add, Natural, one, zero"
   ]
  },
  {
   "cell_type": "code",
   "execution_count": 2,
   "metadata": {},
   "outputs": [
    {
     "data": {
      "text/html": [
       "<strong id=\"expr\">expr:</strong> <a class=\"ProveItLink\" href=\"expr.ipynb\"><img src=\"expr.png\" style=\"display:inline;vertical-align:middle;\" /></a><br>"
      ],
      "text/plain": [
       "<IPython.core.display.HTML object>"
      ]
     },
     "metadata": {},
     "output_type": "display_data"
    }
   ],
   "source": [
    "# build up the expression from sub-expressions\n",
    "expr = ExprTuple(Lambda(S, Conditional(Implies(And(InSet(zero, S), Forall(instance_param_or_params = [x], instance_expr = InSet(Add(x, one), S), domain = S)), SetEquiv(S, Natural)), SubsetEq(S, Natural))))"
   ]
  },
  {
   "cell_type": "code",
   "execution_count": 3,
   "metadata": {},
   "outputs": [
    {
     "name": "stdout",
     "output_type": "stream",
     "text": [
      "Passed sanity check: expr matches stored_expr\n"
     ]
    }
   ],
   "source": [
    "# check that the built expression is the same as the stored expression\n",
    "assert expr == stored_expr\n",
    "assert expr._style_id == stored_expr._style_id\n",
    "print(\"Passed sanity check: expr matches stored_expr\")"
   ]
  },
  {
   "cell_type": "code",
   "execution_count": 4,
   "metadata": {},
   "outputs": [
    {
     "name": "stdout",
     "output_type": "stream",
     "text": [
      "\\left(S \\mapsto \\left\\{\\left(\\left(0 \\in S\\right) \\land \\left[\\forall_{x \\in S}~\\left(\\left(x + 1\\right) \\in S\\right)\\right]\\right) \\Rightarrow \\left(S \\cong \\mathbb{N}\\right) \\textrm{ if } S \\subseteq \\mathbb{N}\\right..\\right)\n"
     ]
    }
   ],
   "source": [
    "# Show the LaTeX representation of the expression for convenience if you need it.\n",
    "print(stored_expr.latex())"
   ]
  },
  {
   "cell_type": "code",
   "execution_count": 5,
   "metadata": {},
   "outputs": [
    {
     "data": {
      "text/html": [
       "no style options"
      ],
      "text/plain": [
       "no style options"
      ]
     },
     "metadata": {},
     "output_type": "display_data"
    }
   ],
   "source": [
    "stored_expr.style_options()"
   ]
  },
  {
   "cell_type": "code",
   "execution_count": 6,
   "metadata": {},
   "outputs": [
    {
     "data": {
      "text/html": [
       "<table><tr><th>&nbsp;</th><th>core type</th><th>sub-expressions</th><th>expression</th></tr>\n",
       "<tr><td>0</td><td>ExprTuple</td><td>1</td><td><a class=\"ProveItLink\" href=\"expr.ipynb\"><img src=\"expr.png\" style=\"display:inline;vertical-align:middle;\" /></a></td></tr>\n",
       "<tr><td>1</td><td>Lambda</td><td>parameter:&nbsp;31<br>body:&nbsp;3<br></td><td><a class=\"ProveItLink\" href=\"../3e6c6f2c70ba0cf49a3a225d703b846c4fb1e29c0/expr.ipynb\"><img src=\"../3e6c6f2c70ba0cf49a3a225d703b846c4fb1e29c0/expr.png\" style=\"display:inline;vertical-align:middle;\" /></a></td></tr>\n",
       "<tr><td>2</td><td>ExprTuple</td><td>31</td><td><a class=\"ProveItLink\" href=\"../b56f07ff3525963a95bdc514d264b650cd8d9a4e0/expr.ipynb\"><img src=\"../b56f07ff3525963a95bdc514d264b650cd8d9a4e0/expr.png\" style=\"display:inline;vertical-align:middle;\" /></a></td></tr>\n",
       "<tr><td>3</td><td>Conditional</td><td>value:&nbsp;4<br>condition:&nbsp;5<br></td><td><a class=\"ProveItLink\" href=\"../9c043d8857bf2dbbf6e5b6d4bb0432cc828b221d0/expr.ipynb\"><img src=\"../9c043d8857bf2dbbf6e5b6d4bb0432cc828b221d0/expr.png\" style=\"display:inline;vertical-align:middle;\" /></a></td></tr>\n",
       "<tr><td>4</td><td>Operation</td><td>operator:&nbsp;6<br>operands:&nbsp;7<br></td><td><a class=\"ProveItLink\" href=\"../8c86a2beec33ada3567391ebf33a36660e609fd00/expr.ipynb\"><img src=\"../8c86a2beec33ada3567391ebf33a36660e609fd00/expr.png\" style=\"display:inline;vertical-align:middle;\" /></a></td></tr>\n",
       "<tr><td>5</td><td>Operation</td><td>operator:&nbsp;8<br>operands:&nbsp;14<br></td><td><a class=\"ProveItLink\" href=\"../db09de2e465ddc67dcc20efc7d306f5db4b5b2d20/expr.ipynb\"><img src=\"../db09de2e465ddc67dcc20efc7d306f5db4b5b2d20/expr.png\" style=\"display:inline;vertical-align:middle;\" /></a></td></tr>\n",
       "<tr><td>6</td><td>Literal</td><td></td><td><a class=\"ProveItLink\" href=\"../../../../../../logic/booleans/implication/__pv_it/common/02bdb382575728da8cdbaed545b9096ea7a1bd5b0/expr.ipynb\"><img src=\"../../../../../../logic/booleans/implication/__pv_it/common/02bdb382575728da8cdbaed545b9096ea7a1bd5b0/expr.png\" style=\"display:inline;vertical-align:middle;\" /></a></td></tr>\n",
       "<tr><td>7</td><td>ExprTuple</td><td>9, 10</td><td><a class=\"ProveItLink\" href=\"../e72b8907fca701b37bd64990282c7878d71457120/expr.ipynb\"><img src=\"../e72b8907fca701b37bd64990282c7878d71457120/expr.png\" style=\"display:inline;vertical-align:middle;\" /></a></td></tr>\n",
       "<tr><td>8</td><td>Literal</td><td></td><td><a class=\"ProveItLink\" href=\"../../../../../../logic/sets/inclusion/__pv_it/common/af21bfd7d93759eac7fe399a50aaac31ae45d8cf0/expr.ipynb\"><img src=\"../../../../../../logic/sets/inclusion/__pv_it/common/af21bfd7d93759eac7fe399a50aaac31ae45d8cf0/expr.png\" style=\"display:inline;vertical-align:middle;\" /></a></td></tr>\n",
       "<tr><td>9</td><td>Operation</td><td>operator:&nbsp;11<br>operands:&nbsp;12<br></td><td><a class=\"ProveItLink\" href=\"../27f9929793604ccb8f175ab65b6fb5c8e0fe06000/expr.ipynb\"><img src=\"../27f9929793604ccb8f175ab65b6fb5c8e0fe06000/expr.png\" style=\"display:inline;vertical-align:middle;\" /></a></td></tr>\n",
       "<tr><td>10</td><td>Operation</td><td>operator:&nbsp;13<br>operands:&nbsp;14<br></td><td><a class=\"ProveItLink\" href=\"../d15e09d5d7fa0450055b4e529a0a0822ea1d75560/expr.ipynb\"><img src=\"../d15e09d5d7fa0450055b4e529a0a0822ea1d75560/expr.png\" style=\"display:inline;vertical-align:middle;\" /></a></td></tr>\n",
       "<tr><td>11</td><td>Literal</td><td></td><td><a class=\"ProveItLink\" href=\"../../../../../../logic/booleans/conjunction/__pv_it/common/42118ff318bd65d98b1393f64ce7c2269feef76e0/expr.ipynb\"><img src=\"../../../../../../logic/booleans/conjunction/__pv_it/common/42118ff318bd65d98b1393f64ce7c2269feef76e0/expr.png\" style=\"display:inline;vertical-align:middle;\" /></a></td></tr>\n",
       "<tr><td>12</td><td>ExprTuple</td><td>15, 16</td><td><a class=\"ProveItLink\" href=\"../a7b941112df2a94c7f59101bdaa64f03ebd576730/expr.ipynb\"><img src=\"../a7b941112df2a94c7f59101bdaa64f03ebd576730/expr.png\" style=\"display:inline;vertical-align:middle;\" /></a></td></tr>\n",
       "<tr><td>13</td><td>Literal</td><td></td><td><a class=\"ProveItLink\" href=\"../../../../../../logic/sets/equivalence/__pv_it/common/5cc6dd2fea060cbc5e737001d3c9ea686013680b0/expr.ipynb\"><img src=\"../../../../../../logic/sets/equivalence/__pv_it/common/5cc6dd2fea060cbc5e737001d3c9ea686013680b0/expr.png\" style=\"display:inline;vertical-align:middle;\" /></a></td></tr>\n",
       "<tr><td>14</td><td>ExprTuple</td><td>31, 17</td><td><a class=\"ProveItLink\" href=\"../697afecc5c2a28206fca86759219ca27c59f4dda0/expr.ipynb\"><img src=\"../697afecc5c2a28206fca86759219ca27c59f4dda0/expr.png\" style=\"display:inline;vertical-align:middle;\" /></a></td></tr>\n",
       "<tr><td>15</td><td>Operation</td><td>operator:&nbsp;28<br>operands:&nbsp;18<br></td><td><a class=\"ProveItLink\" href=\"../3c18c70904e18b1f07a5b4df62a025c79d829e080/expr.ipynb\"><img src=\"../3c18c70904e18b1f07a5b4df62a025c79d829e080/expr.png\" style=\"display:inline;vertical-align:middle;\" /></a></td></tr>\n",
       "<tr><td>16</td><td>Operation</td><td>operator:&nbsp;19<br>operand:&nbsp;22<br></td><td><a class=\"ProveItLink\" href=\"../6954f574528c70f3f9177ad1b6f8f00e22882c510/expr.ipynb\"><img src=\"../6954f574528c70f3f9177ad1b6f8f00e22882c510/expr.png\" style=\"display:inline;vertical-align:middle;\" /></a></td></tr>\n",
       "<tr><td>17</td><td>Literal</td><td></td><td><a class=\"ProveItLink\" href=\"../../common/8b7c321957f52ed3b05b36af612eeae4fa4783bc0/expr.ipynb\"><img src=\"../../common/8b7c321957f52ed3b05b36af612eeae4fa4783bc0/expr.png\" style=\"display:inline;vertical-align:middle;\" /></a></td></tr>\n",
       "<tr><td>18</td><td>ExprTuple</td><td>21, 31</td><td><a class=\"ProveItLink\" href=\"../fa33996661daa36a492a9a7cf318b024ae3e78450/expr.ipynb\"><img src=\"../fa33996661daa36a492a9a7cf318b024ae3e78450/expr.png\" style=\"display:inline;vertical-align:middle;\" /></a></td></tr>\n",
       "<tr><td>19</td><td>Literal</td><td></td><td><a class=\"ProveItLink\" href=\"../../../../../../logic/booleans/quantification/universality/__pv_it/common/083d2baa0b8ecab1d230f9ec29a15aa1355809fb0/expr.ipynb\"><img src=\"../../../../../../logic/booleans/quantification/universality/__pv_it/common/083d2baa0b8ecab1d230f9ec29a15aa1355809fb0/expr.png\" style=\"display:inline;vertical-align:middle;\" /></a></td></tr>\n",
       "<tr><td>20</td><td>ExprTuple</td><td>22</td><td><a class=\"ProveItLink\" href=\"../66ee02c8b14703817d87a8f723ae2156dbc2d30a0/expr.ipynb\"><img src=\"../66ee02c8b14703817d87a8f723ae2156dbc2d30a0/expr.png\" style=\"display:inline;vertical-align:middle;\" /></a></td></tr>\n",
       "<tr><td>21</td><td>Literal</td><td></td><td><a class=\"ProveItLink\" href=\"../../../../../numerals/__pv_it/common/dd4e19e8b134dfb293470ea55fe3589b0ab9f8040/expr.ipynb\"><img src=\"../../../../../numerals/__pv_it/common/dd4e19e8b134dfb293470ea55fe3589b0ab9f8040/expr.png\" style=\"display:inline;vertical-align:middle;\" /></a></td></tr>\n",
       "<tr><td>22</td><td>Lambda</td><td>parameter:&nbsp;34<br>body:&nbsp;24<br></td><td><a class=\"ProveItLink\" href=\"../18d51c458393a4e14817d3037b4330d532f9322b0/expr.ipynb\"><img src=\"../18d51c458393a4e14817d3037b4330d532f9322b0/expr.png\" style=\"display:inline;vertical-align:middle;\" /></a></td></tr>\n",
       "<tr><td>23</td><td>ExprTuple</td><td>34</td><td><a class=\"ProveItLink\" href=\"../../../../../../__pv_it/common/eacfeccc0521684fcb20fe8f5180ac50fca471f20/expr.ipynb\"><img src=\"../../../../../../__pv_it/common/eacfeccc0521684fcb20fe8f5180ac50fca471f20/expr.png\" style=\"display:inline;vertical-align:middle;\" /></a></td></tr>\n",
       "<tr><td>24</td><td>Conditional</td><td>value:&nbsp;25<br>condition:&nbsp;26<br></td><td><a class=\"ProveItLink\" href=\"../af18e30a7832cb40ee39e4a8dd25ccec1bedf3b80/expr.ipynb\"><img src=\"../af18e30a7832cb40ee39e4a8dd25ccec1bedf3b80/expr.png\" style=\"display:inline;vertical-align:middle;\" /></a></td></tr>\n",
       "<tr><td>25</td><td>Operation</td><td>operator:&nbsp;28<br>operands:&nbsp;27<br></td><td><a class=\"ProveItLink\" href=\"../ab7318f26c542b2c28db5a6ad44f6c50863251c80/expr.ipynb\"><img src=\"../ab7318f26c542b2c28db5a6ad44f6c50863251c80/expr.png\" style=\"display:inline;vertical-align:middle;\" /></a></td></tr>\n",
       "<tr><td>26</td><td>Operation</td><td>operator:&nbsp;28<br>operands:&nbsp;29<br></td><td><a class=\"ProveItLink\" href=\"../e15daefd530e6af1913a3a751ea70ed093591b3d0/expr.ipynb\"><img src=\"../e15daefd530e6af1913a3a751ea70ed093591b3d0/expr.png\" style=\"display:inline;vertical-align:middle;\" /></a></td></tr>\n",
       "<tr><td>27</td><td>ExprTuple</td><td>30, 31</td><td><a class=\"ProveItLink\" href=\"../8682929a013973064c224037eb6e000f771eeeb20/expr.ipynb\"><img src=\"../8682929a013973064c224037eb6e000f771eeeb20/expr.png\" style=\"display:inline;vertical-align:middle;\" /></a></td></tr>\n",
       "<tr><td>28</td><td>Literal</td><td></td><td><a class=\"ProveItLink\" href=\"../../../../../../logic/sets/membership/__pv_it/common/477487d8796864d23d5810f83761435f25167f690/expr.ipynb\"><img src=\"../../../../../../logic/sets/membership/__pv_it/common/477487d8796864d23d5810f83761435f25167f690/expr.png\" style=\"display:inline;vertical-align:middle;\" /></a></td></tr>\n",
       "<tr><td>29</td><td>ExprTuple</td><td>34, 31</td><td><a class=\"ProveItLink\" href=\"../c7c06b26a27420fe15bf7758f31a7b4d4d978d0b0/expr.ipynb\"><img src=\"../c7c06b26a27420fe15bf7758f31a7b4d4d978d0b0/expr.png\" style=\"display:inline;vertical-align:middle;\" /></a></td></tr>\n",
       "<tr><td>30</td><td>Operation</td><td>operator:&nbsp;32<br>operands:&nbsp;33<br></td><td><a class=\"ProveItLink\" href=\"../a6f4d65f7be7b721859dc362af257190e584097e0/expr.ipynb\"><img src=\"../a6f4d65f7be7b721859dc362af257190e584097e0/expr.png\" style=\"display:inline;vertical-align:middle;\" /></a></td></tr>\n",
       "<tr><td>31</td><td>Variable</td><td></td><td><a class=\"ProveItLink\" href=\"../../../../../../__pv_it/common/38f47c5670ea8c5b56253448e95d8afb56bc09b40/expr.ipynb\"><img src=\"../../../../../../__pv_it/common/38f47c5670ea8c5b56253448e95d8afb56bc09b40/expr.png\" style=\"display:inline;vertical-align:middle;\" /></a></td></tr>\n",
       "<tr><td>32</td><td>Literal</td><td></td><td><a class=\"ProveItLink\" href=\"../../../../../addition/__pv_it/common/4b7effaab3619a1c2c38fe2dee8601df8ec714590/expr.ipynb\"><img src=\"../../../../../addition/__pv_it/common/4b7effaab3619a1c2c38fe2dee8601df8ec714590/expr.png\" style=\"display:inline;vertical-align:middle;\" /></a></td></tr>\n",
       "<tr><td>33</td><td>ExprTuple</td><td>34, 35</td><td><a class=\"ProveItLink\" href=\"../a218ad861eac4b376a115a68baa4f1a9a158c0fc0/expr.ipynb\"><img src=\"../a218ad861eac4b376a115a68baa4f1a9a158c0fc0/expr.png\" style=\"display:inline;vertical-align:middle;\" /></a></td></tr>\n",
       "<tr><td>34</td><td>Variable</td><td></td><td><a class=\"ProveItLink\" href=\"../../../../../../__pv_it/common/a0d9d672aa5e272d907247690c152cc2c6daafb70/expr.ipynb\"><img src=\"../../../../../../__pv_it/common/a0d9d672aa5e272d907247690c152cc2c6daafb70/expr.png\" style=\"display:inline;vertical-align:middle;\" /></a></td></tr>\n",
       "<tr><td>35</td><td>Literal</td><td></td><td><a class=\"ProveItLink\" href=\"../../../../../numerals/__pv_it/common/682157d4892d216d9e5626ed533aff9b56b9506e0/expr.ipynb\"><img src=\"../../../../../numerals/__pv_it/common/682157d4892d216d9e5626ed533aff9b56b9506e0/expr.png\" style=\"display:inline;vertical-align:middle;\" /></a></td></tr>\n",
       "</table>\n"
      ],
      "text/plain": [
       "0. (S -> {((0 in S) and [forall_{x in S} ((x + 1) in S)]) => (S equiv Natural) if S subset_eq Natural.)\n",
       "   core type: ExprTuple\n",
       "   sub-expressions: 1\n",
       "1. S -> {((0 in S) and [forall_{x in S} ((x + 1) in S)]) => (S equiv Natural) if S subset_eq Natural.\n",
       "   core type: Lambda\n",
       "   parameter: 31\n",
       "   body: 3\n",
       "2. (S)\n",
       "   core type: ExprTuple\n",
       "   sub-expressions: 31\n",
       "3. {((0 in S) and [forall_{x in S} ((x + 1) in S)]) => (S equiv Natural) if S subset_eq Natural.\n",
       "   core type: Conditional\n",
       "   value: 4\n",
       "   condition: 5\n",
       "4. ((0 in S) and [forall_{x in S} ((x + 1) in S)]) => (S equiv Natural)\n",
       "   core type: Operation\n",
       "   operator: 6\n",
       "   operands: 7\n",
       "5. S subset_eq Natural\n",
       "   core type: Operation\n",
       "   operator: 8\n",
       "   operands: 14\n",
       "6. =>\n",
       "   core type: Literal\n",
       "   sub-expressions: \n",
       "7. ((0 in S) and [forall_{x in S} ((x + 1) in S)], S equiv Natural)\n",
       "   core type: ExprTuple\n",
       "   sub-expressions: 9, 10\n",
       "8. subset_eq\n",
       "   core type: Literal\n",
       "   sub-expressions: \n",
       "9. (0 in S) and [forall_{x in S} ((x + 1) in S)]\n",
       "   core type: Operation\n",
       "   operator: 11\n",
       "   operands: 12\n",
       "10. S equiv Natural\n",
       "    core type: Operation\n",
       "    operator: 13\n",
       "    operands: 14\n",
       "11. and\n",
       "    core type: Literal\n",
       "    sub-expressions: \n",
       "12. (0 in S, forall_{x in S} ((x + 1) in S))\n",
       "    core type: ExprTuple\n",
       "    sub-expressions: 15, 16\n",
       "13. equiv\n",
       "    core type: Literal\n",
       "    sub-expressions: \n",
       "14. (S, Natural)\n",
       "    core type: ExprTuple\n",
       "    sub-expressions: 31, 17\n",
       "15. 0 in S\n",
       "    core type: Operation\n",
       "    operator: 28\n",
       "    operands: 18\n",
       "16. forall_{x in S} ((x + 1) in S)\n",
       "    core type: Operation\n",
       "    operator: 19\n",
       "    operand: 22\n",
       "17. Natural\n",
       "    core type: Literal\n",
       "    sub-expressions: \n",
       "18. (0, S)\n",
       "    core type: ExprTuple\n",
       "    sub-expressions: 21, 31\n",
       "19. forall\n",
       "    core type: Literal\n",
       "    sub-expressions: \n",
       "20. (x -> {(x + 1) in S if x in S.)\n",
       "    core type: ExprTuple\n",
       "    sub-expressions: 22\n",
       "21. 0\n",
       "    core type: Literal\n",
       "    sub-expressions: \n",
       "22. x -> {(x + 1) in S if x in S.\n",
       "    core type: Lambda\n",
       "    parameter: 34\n",
       "    body: 24\n",
       "23. (x)\n",
       "    core type: ExprTuple\n",
       "    sub-expressions: 34\n",
       "24. {(x + 1) in S if x in S.\n",
       "    core type: Conditional\n",
       "    value: 25\n",
       "    condition: 26\n",
       "25. (x + 1) in S\n",
       "    core type: Operation\n",
       "    operator: 28\n",
       "    operands: 27\n",
       "26. x in S\n",
       "    core type: Operation\n",
       "    operator: 28\n",
       "    operands: 29\n",
       "27. (x + 1, S)\n",
       "    core type: ExprTuple\n",
       "    sub-expressions: 30, 31\n",
       "28. in\n",
       "    core type: Literal\n",
       "    sub-expressions: \n",
       "29. (x, S)\n",
       "    core type: ExprTuple\n",
       "    sub-expressions: 34, 31\n",
       "30. x + 1\n",
       "    core type: Operation\n",
       "    operator: 32\n",
       "    operands: 33\n",
       "31. S\n",
       "    core type: Variable\n",
       "    sub-expressions: \n",
       "32. +\n",
       "    core type: Literal\n",
       "    sub-expressions: \n",
       "33. (x, 1)\n",
       "    core type: ExprTuple\n",
       "    sub-expressions: 34, 35\n",
       "34. x\n",
       "    core type: Variable\n",
       "    sub-expressions: \n",
       "35. 1\n",
       "    core type: Literal\n",
       "    sub-expressions: "
      ]
     },
     "metadata": {},
     "output_type": "display_data"
    }
   ],
   "source": [
    "# display the expression information\n",
    "stored_expr.expr_info()"
   ]
  },
  {
   "cell_type": "code",
   "execution_count": null,
   "metadata": {},
   "outputs": [],
   "source": []
  }
 ],
 "metadata": {
  "kernelspec": {
   "display_name": "Python 3",
   "language": "python",
   "name": "python3"
  }
 },
 "nbformat": 4,
 "nbformat_minor": 0
}