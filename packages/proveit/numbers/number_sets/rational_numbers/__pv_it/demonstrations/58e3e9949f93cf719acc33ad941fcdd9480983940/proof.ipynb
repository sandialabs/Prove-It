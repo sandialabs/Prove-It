{
 "cells": [
  {
   "cell_type": "markdown",
   "metadata": {},
   "source": [
    "Show the Proof\n",
    "========"
   ]
  },
  {
   "cell_type": "code",
   "execution_count": 1,
   "metadata": {},
   "outputs": [
    {
     "data": {
      "text/html": [
       "<table><tr><th>&nbsp;</th><th>step type</th><th>requirements</th><th>statement</th></tr>\n",
       "<tr><td><a name=\"proveit.numbers.number_sets.rational_numbers.demonstrations.58e3e9949f93cf719acc33ad941fcdd9480983940_step0\">0</a></td><td>instantiation</td><td><a href=\"#proveit.numbers.number_sets.rational_numbers.demonstrations.58e3e9949f93cf719acc33ad941fcdd9480983940_step1\">1</a>, <a href=\"#proveit.numbers.number_sets.rational_numbers.demonstrations.58e3e9949f93cf719acc33ad941fcdd9480983940_step2\">2</a>, <a href=\"#proveit.numbers.number_sets.rational_numbers.demonstrations.58e3e9949f93cf719acc33ad941fcdd9480983940_step3\">3</a></td><td><span style=\"font-size:20px;\"><a class=\"ProveItLink\" href=\"../882c49d1b9e4887c9faaa282b8dfc2bba2d449b10/expr.ipynb\"><img src=\"../882c49d1b9e4887c9faaa282b8dfc2bba2d449b10/expr.png\" style=\"display:inline;vertical-align:middle;\" /></a>, <a class=\"ProveItLink\" href=\"../0354d8cf2a05630211843c3bf449e55f39c83dd40/expr.ipynb\"><img src=\"../0354d8cf2a05630211843c3bf449e55f39c83dd40/expr.png\" style=\"display:inline;vertical-align:middle;\" /></a> <a class=\"ProveItLink\" href=\"proof.ipynb\" style=\"text-decoration: none\">&nbsp;&#x22A2;&nbsp;&nbsp;</a><a class=\"ProveItLink\" href=\"../0bebf19d39049c3c5a579b73c7f86fd7b14028c70/expr.ipynb\"><img src=\"../0bebf19d39049c3c5a579b73c7f86fd7b14028c70/expr.png\" style=\"display:inline;vertical-align:middle;\" /></a></span></td></tr>\n",
       "<tr><td>&nbsp;</td><td colspan=4 style=\"text-align:left\"><span style=\"font-size:20px;\"><a class=\"ProveItLink\" href=\"../../../../../../__pv_it/common/e94b28ab65b49707a4f3bf26580dfe7bba3eebd90/expr.ipynb\"><img src=\"../../../../../../__pv_it/common/e94b28ab65b49707a4f3bf26580dfe7bba3eebd90/expr.png\" style=\"display:inline;vertical-align:middle;\" /></a> : <a class=\"ProveItLink\" href=\"../../../../../../__pv_it/common/c3df45f28d41d286d2eebe2be9be7af76c74d56b0/expr.ipynb\"><img src=\"../../../../../../__pv_it/common/c3df45f28d41d286d2eebe2be9be7af76c74d56b0/expr.png\" style=\"display:inline;vertical-align:middle;\" /></a></span></td></tr><tr><td><a name=\"proveit.numbers.number_sets.rational_numbers.demonstrations.58e3e9949f93cf719acc33ad941fcdd9480983940_step1\">1</a></td><td>theorem</td><td></td><td><span style=\"font-size:20px;\"> <a class=\"ProveItLink\" href=\"../../../_theory_nbs_/proofs/nonpos_rational_is_rational_nonpos/thm_proof.ipynb\" style=\"text-decoration: none\">&nbsp;&#x22A2;&nbsp;&nbsp;</a><a class=\"ProveItLink\" href=\"../../theorems/8590076a3569a439e3682f6c9f2e88e030a2c4370/expr.ipynb\"><img src=\"../../theorems/8590076a3569a439e3682f6c9f2e88e030a2c4370/expr.png\" style=\"display:inline;vertical-align:middle;\" /></a></span></td></tr>\n",
       "<tr><td>&nbsp;</td><td colspan=4 style-\"text-align:left\"><a class=\"ProveItLink\" href=\"../../../_theory_nbs_/proofs/nonpos_rational_is_rational_nonpos/thm_proof.ipynb\">proveit.numbers.number_sets.rational_numbers.nonpos_rational_is_rational_nonpos</a></td></tr><tr><td><a name=\"proveit.numbers.number_sets.rational_numbers.demonstrations.58e3e9949f93cf719acc33ad941fcdd9480983940_step2\">2</a></td><td>assumption</td><td></td><td><span style=\"font-size:20px;\"><a class=\"ProveItLink\" href=\"../882c49d1b9e4887c9faaa282b8dfc2bba2d449b10/expr.ipynb\"><img src=\"../882c49d1b9e4887c9faaa282b8dfc2bba2d449b10/expr.png\" style=\"display:inline;vertical-align:middle;\" /></a> <a class=\"ProveItLink\" href=\"../4e22f297f18b302c583a52d874de98dadd03972f0/proof.ipynb\" style=\"text-decoration: none\">&nbsp;&#x22A2;&nbsp;&nbsp;</a><a class=\"ProveItLink\" href=\"../882c49d1b9e4887c9faaa282b8dfc2bba2d449b10/expr.ipynb\"><img src=\"../882c49d1b9e4887c9faaa282b8dfc2bba2d449b10/expr.png\" style=\"display:inline;vertical-align:middle;\" /></a></span></td></tr>\n",
       "<tr><td><a name=\"proveit.numbers.number_sets.rational_numbers.demonstrations.58e3e9949f93cf719acc33ad941fcdd9480983940_step3\">3</a></td><td>assumption</td><td></td><td><span style=\"font-size:20px;\"><a class=\"ProveItLink\" href=\"../0354d8cf2a05630211843c3bf449e55f39c83dd40/expr.ipynb\"><img src=\"../0354d8cf2a05630211843c3bf449e55f39c83dd40/expr.png\" style=\"display:inline;vertical-align:middle;\" /></a> <a class=\"ProveItLink\" href=\"../bebc3a0a5ea0dbed08b7d2574012ec326f7078be0/proof.ipynb\" style=\"text-decoration: none\">&nbsp;&#x22A2;&nbsp;&nbsp;</a><a class=\"ProveItLink\" href=\"../0354d8cf2a05630211843c3bf449e55f39c83dd40/expr.ipynb\"><img src=\"../0354d8cf2a05630211843c3bf449e55f39c83dd40/expr.png\" style=\"display:inline;vertical-align:middle;\" /></a></span></td></tr>\n",
       "</table>"
      ],
      "text/plain": [
       "<proveit._core_.proof._ShowProof at 0x7f930c5d5940>"
      ]
     },
     "execution_count": 1,
     "metadata": {},
     "output_type": "execute_result"
    }
   ],
   "source": [
    "import proveit\n",
    "# Automation is not needed when only showing a stored proof:\n",
    "proveit.defaults.automation = False # This will speed things up.\n",
    "proveit.defaults.inline_pngs = False # Makes files smaller.\n",
    "%show_proof"
   ]
  },
  {
   "cell_type": "code",
   "execution_count": null,
   "metadata": {},
   "outputs": [],
   "source": []
  }
 ],
 "metadata": {
  "kernelspec": {
   "display_name": "Python 3",
   "language": "python",
   "name": "python3"
  }
 },
 "nbformat": 4,
 "nbformat_minor": 0
}