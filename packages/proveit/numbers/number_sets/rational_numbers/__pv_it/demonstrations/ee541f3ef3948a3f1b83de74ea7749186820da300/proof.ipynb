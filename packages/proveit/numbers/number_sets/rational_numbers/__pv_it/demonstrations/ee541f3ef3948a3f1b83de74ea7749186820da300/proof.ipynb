{
 "cells": [
  {
   "cell_type": "markdown",
   "metadata": {},
   "source": [
    "Show the Proof\n",
    "========"
   ]
  },
  {
   "cell_type": "code",
   "execution_count": 1,
   "metadata": {},
   "outputs": [
    {
     "data": {
      "text/html": [
       "<table><tr><th>&nbsp;</th><th>step type</th><th>requirements</th><th>statement</th></tr>\n",
       "<tr><td><a name=\"proveit.numbers.number_sets.rational_numbers.demonstrations.ee541f3ef3948a3f1b83de74ea7749186820da300_step0\">0</a></td><td>instantiation</td><td><a href=\"#proveit.numbers.number_sets.rational_numbers.demonstrations.ee541f3ef3948a3f1b83de74ea7749186820da300_step1\">1</a>, <a href=\"#proveit.numbers.number_sets.rational_numbers.demonstrations.ee541f3ef3948a3f1b83de74ea7749186820da300_step2\">2</a></td><td><span style=\"font-size:20px;\"><a class=\"ProveItLink\" href=\"../../theorems/4deb9df8359e2807bc9b3d016609a8f3c60572590/expr.ipynb\"><img src=\"../../theorems/4deb9df8359e2807bc9b3d016609a8f3c60572590/expr.png\" style=\"display:inline;vertical-align:middle;\" /></a> <a class=\"ProveItLink\" href=\"proof.ipynb\" style=\"text-decoration: none\">&nbsp;&#x22A2;&nbsp;&nbsp;</a><a class=\"ProveItLink\" href=\"../../../../real_numbers/__pv_it/theorems/c30a0bd668f16bebb68a7791021eba7f002ea2a10/expr.ipynb\"><img src=\"../../../../real_numbers/__pv_it/theorems/c30a0bd668f16bebb68a7791021eba7f002ea2a10/expr.png\" style=\"display:inline;vertical-align:middle;\" /></a></span></td></tr>\n",
       "<tr><td>&nbsp;</td><td colspan=4 style=\"text-align:left\"><span style=\"font-size:20px;\"><a class=\"ProveItLink\" href=\"../../../../../../__pv_it/common/e94b28ab65b49707a4f3bf26580dfe7bba3eebd90/expr.ipynb\"><img src=\"../../../../../../__pv_it/common/e94b28ab65b49707a4f3bf26580dfe7bba3eebd90/expr.png\" style=\"display:inline;vertical-align:middle;\" /></a> : <a class=\"ProveItLink\" href=\"../../../../../../__pv_it/common/a0d9d672aa5e272d907247690c152cc2c6daafb70/expr.ipynb\"><img src=\"../../../../../../__pv_it/common/a0d9d672aa5e272d907247690c152cc2c6daafb70/expr.png\" style=\"display:inline;vertical-align:middle;\" /></a></span></td></tr><tr><td><a name=\"proveit.numbers.number_sets.rational_numbers.demonstrations.ee541f3ef3948a3f1b83de74ea7749186820da300_step1\">1</a></td><td>theorem</td><td></td><td><span style=\"font-size:20px;\"> <a class=\"ProveItLink\" href=\"../../../_theory_nbs_/proofs/nonpos_if_in_rational_nonpos/thm_proof.ipynb\" style=\"text-decoration: none\">&nbsp;&#x22A2;&nbsp;&nbsp;</a><a class=\"ProveItLink\" href=\"../../theorems/9d3c8242a971da91695856f290d4feef1a567b260/expr.ipynb\"><img src=\"../../theorems/9d3c8242a971da91695856f290d4feef1a567b260/expr.png\" style=\"display:inline;vertical-align:middle;\" /></a></span></td></tr>\n",
       "<tr><td>&nbsp;</td><td colspan=4 style-\"text-align:left\"><a class=\"ProveItLink\" href=\"../../../_theory_nbs_/proofs/nonpos_if_in_rational_nonpos/thm_proof.ipynb\">proveit.numbers.number_sets.rational_numbers.nonpos_if_in_rational_nonpos</a></td></tr><tr><td><a name=\"proveit.numbers.number_sets.rational_numbers.demonstrations.ee541f3ef3948a3f1b83de74ea7749186820da300_step2\">2</a></td><td>assumption</td><td></td><td><span style=\"font-size:20px;\"><a class=\"ProveItLink\" href=\"../../theorems/4deb9df8359e2807bc9b3d016609a8f3c60572590/expr.ipynb\"><img src=\"../../theorems/4deb9df8359e2807bc9b3d016609a8f3c60572590/expr.png\" style=\"display:inline;vertical-align:middle;\" /></a> <a class=\"ProveItLink\" href=\"../aa7dfc36d5b52eef2cd9df5a5ec9478be2afe3ce0/proof.ipynb\" style=\"text-decoration: none\">&nbsp;&#x22A2;&nbsp;&nbsp;</a><a class=\"ProveItLink\" href=\"../../theorems/4deb9df8359e2807bc9b3d016609a8f3c60572590/expr.ipynb\"><img src=\"../../theorems/4deb9df8359e2807bc9b3d016609a8f3c60572590/expr.png\" style=\"display:inline;vertical-align:middle;\" /></a></span></td></tr>\n",
       "</table>"
      ],
      "text/plain": [
       "<proveit._core_.proof._ShowProof at 0x7f3e60c28ef0>"
      ]
     },
     "execution_count": 1,
     "metadata": {},
     "output_type": "execute_result"
    }
   ],
   "source": [
    "import proveit\n",
    "# Automation is not needed when only showing a stored proof:\n",
    "proveit.defaults.automation = False # This will speed things up.\n",
    "proveit.defaults.inline_pngs = False # Makes files smaller.\n",
    "%show_proof"
   ]
  },
  {
   "cell_type": "code",
   "execution_count": null,
   "metadata": {},
   "outputs": [],
   "source": []
  }
 ],
 "metadata": {
  "kernelspec": {
   "display_name": "Python 3",
   "language": "python",
   "name": "python3"
  }
 },
 "nbformat": 4,
 "nbformat_minor": 0
}