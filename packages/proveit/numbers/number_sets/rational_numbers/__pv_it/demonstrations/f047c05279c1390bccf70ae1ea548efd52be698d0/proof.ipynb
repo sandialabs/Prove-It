{
 "cells": [
  {
   "cell_type": "markdown",
   "metadata": {},
   "source": [
    "Show the Proof\n",
    "========"
   ]
  },
  {
   "cell_type": "code",
   "execution_count": 1,
   "metadata": {},
   "outputs": [
    {
     "data": {
      "text/html": [
       "<table><tr><th>&nbsp;</th><th>step type</th><th>requirements</th><th>statement</th></tr>\n",
       "<tr><td><a name=\"proveit.numbers.number_sets.rational_numbers.demonstrations.f047c05279c1390bccf70ae1ea548efd52be698d0_step0\">0</a></td><td>instantiation</td><td><a href=\"#proveit.numbers.number_sets.rational_numbers.demonstrations.f047c05279c1390bccf70ae1ea548efd52be698d0_step1\">1</a>, <a href=\"#proveit.numbers.number_sets.rational_numbers.demonstrations.f047c05279c1390bccf70ae1ea548efd52be698d0_step2\">2</a>, <a href=\"#proveit.numbers.number_sets.rational_numbers.demonstrations.f047c05279c1390bccf70ae1ea548efd52be698d0_step3\">3</a></td><td><span style=\"font-size:20px;\"><a class=\"ProveItLink\" href=\"../882c49d1b9e4887c9faaa282b8dfc2bba2d449b10/expr.ipynb\"><img src=\"../882c49d1b9e4887c9faaa282b8dfc2bba2d449b10/expr.png\" style=\"display:inline;vertical-align:middle;\" /></a>, <a class=\"ProveItLink\" href=\"../852751f5259ab586e8e04031aa81781437c9d3ba0/expr.ipynb\"><img src=\"../852751f5259ab586e8e04031aa81781437c9d3ba0/expr.png\" style=\"display:inline;vertical-align:middle;\" /></a> <a class=\"ProveItLink\" href=\"proof.ipynb\" style=\"text-decoration: none\">&nbsp;&#x22A2;&nbsp;&nbsp;</a><a class=\"ProveItLink\" href=\"../de545d362592a6cfc62a1a1b1cb193cf15246c660/expr.ipynb\"><img src=\"../de545d362592a6cfc62a1a1b1cb193cf15246c660/expr.png\" style=\"display:inline;vertical-align:middle;\" /></a></span></td></tr>\n",
       "<tr><td>&nbsp;</td><td colspan=4 style=\"text-align:left\"><span style=\"font-size:20px;\"><a class=\"ProveItLink\" href=\"../../../../../../__pv_it/common/e94b28ab65b49707a4f3bf26580dfe7bba3eebd90/expr.ipynb\"><img src=\"../../../../../../__pv_it/common/e94b28ab65b49707a4f3bf26580dfe7bba3eebd90/expr.png\" style=\"display:inline;vertical-align:middle;\" /></a> : <a class=\"ProveItLink\" href=\"../../../../../../__pv_it/common/c3df45f28d41d286d2eebe2be9be7af76c74d56b0/expr.ipynb\"><img src=\"../../../../../../__pv_it/common/c3df45f28d41d286d2eebe2be9be7af76c74d56b0/expr.png\" style=\"display:inline;vertical-align:middle;\" /></a></span></td></tr><tr><td><a name=\"proveit.numbers.number_sets.rational_numbers.demonstrations.f047c05279c1390bccf70ae1ea548efd52be698d0_step1\">1</a></td><td>theorem</td><td></td><td><span style=\"font-size:20px;\"> <a class=\"ProveItLink\" href=\"../../../_theory_nbs_/proofs/neg_rational_is_rational_neg/thm_proof.ipynb\" style=\"text-decoration: none\">&nbsp;&#x22A2;&nbsp;&nbsp;</a><a class=\"ProveItLink\" href=\"../../theorems/67af63ce20d1b75b615ece362b78e1813eba8f680/expr.ipynb\"><img src=\"../../theorems/67af63ce20d1b75b615ece362b78e1813eba8f680/expr.png\" style=\"display:inline;vertical-align:middle;\" /></a></span></td></tr>\n",
       "<tr><td>&nbsp;</td><td colspan=4 style-\"text-align:left\"><a class=\"ProveItLink\" href=\"../../../_theory_nbs_/proofs/neg_rational_is_rational_neg/thm_proof.ipynb\">proveit.numbers.number_sets.rational_numbers.neg_rational_is_rational_neg</a></td></tr><tr><td><a name=\"proveit.numbers.number_sets.rational_numbers.demonstrations.f047c05279c1390bccf70ae1ea548efd52be698d0_step2\">2</a></td><td>assumption</td><td></td><td><span style=\"font-size:20px;\"><a class=\"ProveItLink\" href=\"../882c49d1b9e4887c9faaa282b8dfc2bba2d449b10/expr.ipynb\"><img src=\"../882c49d1b9e4887c9faaa282b8dfc2bba2d449b10/expr.png\" style=\"display:inline;vertical-align:middle;\" /></a> <a class=\"ProveItLink\" href=\"../4e22f297f18b302c583a52d874de98dadd03972f0/proof.ipynb\" style=\"text-decoration: none\">&nbsp;&#x22A2;&nbsp;&nbsp;</a><a class=\"ProveItLink\" href=\"../882c49d1b9e4887c9faaa282b8dfc2bba2d449b10/expr.ipynb\"><img src=\"../882c49d1b9e4887c9faaa282b8dfc2bba2d449b10/expr.png\" style=\"display:inline;vertical-align:middle;\" /></a></span></td></tr>\n",
       "<tr><td><a name=\"proveit.numbers.number_sets.rational_numbers.demonstrations.f047c05279c1390bccf70ae1ea548efd52be698d0_step3\">3</a></td><td>assumption</td><td></td><td><span style=\"font-size:20px;\"><a class=\"ProveItLink\" href=\"../852751f5259ab586e8e04031aa81781437c9d3ba0/expr.ipynb\"><img src=\"../852751f5259ab586e8e04031aa81781437c9d3ba0/expr.png\" style=\"display:inline;vertical-align:middle;\" /></a> <a class=\"ProveItLink\" href=\"../12f4a0582e2975a80317b8f9fad092d56c671dbf0/proof.ipynb\" style=\"text-decoration: none\">&nbsp;&#x22A2;&nbsp;&nbsp;</a><a class=\"ProveItLink\" href=\"../852751f5259ab586e8e04031aa81781437c9d3ba0/expr.ipynb\"><img src=\"../852751f5259ab586e8e04031aa81781437c9d3ba0/expr.png\" style=\"display:inline;vertical-align:middle;\" /></a></span></td></tr>\n",
       "</table>"
      ],
      "text/plain": [
       "<proveit._core_.proof._ShowProof at 0x7fa27ee3f0f0>"
      ]
     },
     "execution_count": 1,
     "metadata": {},
     "output_type": "execute_result"
    }
   ],
   "source": [
    "import proveit\n",
    "# Automation is not needed when only showing a stored proof:\n",
    "proveit.defaults.automation = False # This will speed things up.\n",
    "proveit.defaults.inline_pngs = False # Makes files smaller.\n",
    "%show_proof"
   ]
  },
  {
   "cell_type": "code",
   "execution_count": null,
   "metadata": {},
   "outputs": [],
   "source": []
  }
 ],
 "metadata": {
  "kernelspec": {
   "display_name": "Python 3",
   "language": "python",
   "name": "python3"
  }
 },
 "nbformat": 4,
 "nbformat_minor": 0
}