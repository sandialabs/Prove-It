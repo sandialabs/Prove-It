{
 "cells": [
  {
   "cell_type": "markdown",
   "metadata": {},
   "source": [
    "Expression of type <a class=\"ProveItLink\" href=\"../../../../../../../../doc/html/api/proveit.Conditional.html\">Conditional</a>\n",
    "=======================\n",
    "# from the theory of <a class=\"ProveItLink\" href=\"../../../_theory_nbs_/theory.ipynb\">proveit.numbers.number_sets.rational_numbers</a>"
   ]
  },
  {
   "cell_type": "code",
   "execution_count": 1,
   "metadata": {},
   "outputs": [],
   "source": [
    "import proveit\n",
    "# Automation is not needed when building an expression:\n",
    "proveit.defaults.automation = False # This will speed things up.\n",
    "proveit.defaults.inline_pngs = False # Makes files smaller.\n",
    "%load_expr # Load the stored expression as 'stored_expr'\n",
    "# import Expression classes needed to build the expression\n",
    "from proveit import Conditional, a, b, q\n",
    "from proveit.logic import And, Equals, InSet\n",
    "from proveit.numbers import GCD, NaturalPos, frac, one"
   ]
  },
  {
   "cell_type": "code",
   "execution_count": 2,
   "metadata": {},
   "outputs": [
    {
     "data": {
      "text/html": [
       "<strong id=\"expr\">expr:</strong> <a class=\"ProveItLink\" href=\"expr.ipynb\"><img src=\"expr.png\" style=\"display:inline;vertical-align:middle;\" /></a><br>"
      ],
      "text/plain": [
       "<IPython.core.display.HTML object>"
      ]
     },
     "metadata": {},
     "output_type": "display_data"
    }
   ],
   "source": [
    "# build up the expression from sub-expressions\n",
    "expr = Conditional(And(Equals(q, frac(a, b)), Equals(GCD(a, b), one)), And(InSet(a, NaturalPos), InSet(b, NaturalPos)))"
   ]
  },
  {
   "cell_type": "code",
   "execution_count": 3,
   "metadata": {},
   "outputs": [
    {
     "name": "stdout",
     "output_type": "stream",
     "text": [
      "Passed sanity check: expr matches stored_expr\n"
     ]
    }
   ],
   "source": [
    "# check that the built expression is the same as the stored expression\n",
    "assert expr == stored_expr\n",
    "assert expr._style_id == stored_expr._style_id\n",
    "print(\"Passed sanity check: expr matches stored_expr\")"
   ]
  },
  {
   "cell_type": "code",
   "execution_count": 4,
   "metadata": {},
   "outputs": [
    {
     "name": "stdout",
     "output_type": "stream",
     "text": [
      "\\left\\{\\left(q = \\frac{a}{b}\\right) \\land \\left(gcd\\left(a, b\\right) = 1\\right) \\textrm{ if } a \\in \\mathbb{N}^+ ,  b \\in \\mathbb{N}^+\\right..\n"
     ]
    }
   ],
   "source": [
    "# Show the LaTeX representation of the expression for convenience if you need it.\n",
    "print(stored_expr.latex())"
   ]
  },
  {
   "cell_type": "code",
   "execution_count": 5,
   "metadata": {},
   "outputs": [
    {
     "data": {
      "text/html": [
       "<table>\n",
       "<tr><th>name</th><th>description</th><th>default</th><th>current value</th><th>related methods</th></tr><tr><td>condition_delimiter</td><td>'comma' or 'and'</td><td>comma</td><td>comma</td><td>('with_comma_delimiter', 'with_conjunction_delimiter')</td></tr>\n",
       "</table>\n"
      ],
      "text/plain": [
       "style name: condition_delimiter\n",
       "description: 'comma' or 'and'\n",
       "default: comma\n",
       "current value: comma\n",
       "related methods: ('with_comma_delimiter', 'with_conjunction_delimiter')"
      ]
     },
     "metadata": {},
     "output_type": "display_data"
    }
   ],
   "source": [
    "stored_expr.style_options()"
   ]
  },
  {
   "cell_type": "code",
   "execution_count": 6,
   "metadata": {},
   "outputs": [
    {
     "data": {
      "text/html": [
       "<table><tr><th>&nbsp;</th><th>core type</th><th>sub-expressions</th><th>expression</th></tr>\n",
       "<tr><td>0</td><td>Conditional</td><td>value:&nbsp;1<br>condition:&nbsp;2<br></td><td><a class=\"ProveItLink\" href=\"expr.ipynb\"><img src=\"expr.png\" style=\"display:inline;vertical-align:middle;\" /></a></td></tr>\n",
       "<tr><td>1</td><td>Operation</td><td>operator:&nbsp;4<br>operands:&nbsp;3<br></td><td><a class=\"ProveItLink\" href=\"../c1f380276b21e10220a217a1b98162aacceae9d10/expr.ipynb\"><img src=\"../c1f380276b21e10220a217a1b98162aacceae9d10/expr.png\" style=\"display:inline;vertical-align:middle;\" /></a></td></tr>\n",
       "<tr><td>2</td><td>Operation</td><td>operator:&nbsp;4<br>operands:&nbsp;5<br></td><td><a class=\"ProveItLink\" href=\"../548a06133e647fdba542117dd4a96c1f9e7942740/expr.ipynb\"><img src=\"../548a06133e647fdba542117dd4a96c1f9e7942740/expr.png\" style=\"display:inline;vertical-align:middle;\" /></a></td></tr>\n",
       "<tr><td>3</td><td>ExprTuple</td><td>6, 7</td><td><a class=\"ProveItLink\" href=\"../44078d378fe6b8fbc2bc7a786a2ceb162dfda4740/expr.ipynb\"><img src=\"../44078d378fe6b8fbc2bc7a786a2ceb162dfda4740/expr.png\" style=\"display:inline;vertical-align:middle;\" /></a></td></tr>\n",
       "<tr><td>4</td><td>Literal</td><td></td><td><a class=\"ProveItLink\" href=\"../../../../../../logic/booleans/conjunction/__pv_it/common/42118ff318bd65d98b1393f64ce7c2269feef76e0/expr.ipynb\"><img src=\"../../../../../../logic/booleans/conjunction/__pv_it/common/42118ff318bd65d98b1393f64ce7c2269feef76e0/expr.png\" style=\"display:inline;vertical-align:middle;\" /></a></td></tr>\n",
       "<tr><td>5</td><td>ExprTuple</td><td>8, 9</td><td><a class=\"ProveItLink\" href=\"../e58730e0c7853c00c10c67361a0a9d91bb0eb7960/expr.ipynb\"><img src=\"../e58730e0c7853c00c10c67361a0a9d91bb0eb7960/expr.png\" style=\"display:inline;vertical-align:middle;\" /></a></td></tr>\n",
       "<tr><td>6</td><td>Operation</td><td>operator:&nbsp;11<br>operands:&nbsp;10<br></td><td><a class=\"ProveItLink\" href=\"../90ec5d4105148c7e50292c3aa1156e7717ae60ba0/expr.ipynb\"><img src=\"../90ec5d4105148c7e50292c3aa1156e7717ae60ba0/expr.png\" style=\"display:inline;vertical-align:middle;\" /></a></td></tr>\n",
       "<tr><td>7</td><td>Operation</td><td>operator:&nbsp;11<br>operands:&nbsp;12<br></td><td><a class=\"ProveItLink\" href=\"../67d7eb18a21504f6e7a9184cddfbc01896d795ca0/expr.ipynb\"><img src=\"../67d7eb18a21504f6e7a9184cddfbc01896d795ca0/expr.png\" style=\"display:inline;vertical-align:middle;\" /></a></td></tr>\n",
       "<tr><td>8</td><td>Operation</td><td>operator:&nbsp;14<br>operands:&nbsp;13<br></td><td><a class=\"ProveItLink\" href=\"../3491a039698971b62ff4e02bff8d5580af19c47d0/expr.ipynb\"><img src=\"../3491a039698971b62ff4e02bff8d5580af19c47d0/expr.png\" style=\"display:inline;vertical-align:middle;\" /></a></td></tr>\n",
       "<tr><td>9</td><td>Operation</td><td>operator:&nbsp;14<br>operands:&nbsp;15<br></td><td><a class=\"ProveItLink\" href=\"../338bea1169aca2a51c9e3cdb908726f9096b30730/expr.ipynb\"><img src=\"../338bea1169aca2a51c9e3cdb908726f9096b30730/expr.png\" style=\"display:inline;vertical-align:middle;\" /></a></td></tr>\n",
       "<tr><td>10</td><td>ExprTuple</td><td>16, 17</td><td><a class=\"ProveItLink\" href=\"../3cd93c0a74ebd77d5c8a3dc276314acacb1599c60/expr.ipynb\"><img src=\"../3cd93c0a74ebd77d5c8a3dc276314acacb1599c60/expr.png\" style=\"display:inline;vertical-align:middle;\" /></a></td></tr>\n",
       "<tr><td>11</td><td>Literal</td><td></td><td><a class=\"ProveItLink\" href=\"../../../../../../logic/equality/__pv_it/common/fb96dc12b2aa8801dda64d0132b396c63d1502bb0/expr.ipynb\"><img src=\"../../../../../../logic/equality/__pv_it/common/fb96dc12b2aa8801dda64d0132b396c63d1502bb0/expr.png\" style=\"display:inline;vertical-align:middle;\" /></a></td></tr>\n",
       "<tr><td>12</td><td>ExprTuple</td><td>18, 19</td><td><a class=\"ProveItLink\" href=\"../f51edd5807e06c25e24724042509b56c959a26f40/expr.ipynb\"><img src=\"../f51edd5807e06c25e24724042509b56c959a26f40/expr.png\" style=\"display:inline;vertical-align:middle;\" /></a></td></tr>\n",
       "<tr><td>13</td><td>ExprTuple</td><td>24, 20</td><td><a class=\"ProveItLink\" href=\"../c42803a503f13b318b4039a14899de0a33737b0f0/expr.ipynb\"><img src=\"../c42803a503f13b318b4039a14899de0a33737b0f0/expr.png\" style=\"display:inline;vertical-align:middle;\" /></a></td></tr>\n",
       "<tr><td>14</td><td>Literal</td><td></td><td><a class=\"ProveItLink\" href=\"../../../../../../logic/sets/membership/__pv_it/common/477487d8796864d23d5810f83761435f25167f690/expr.ipynb\"><img src=\"../../../../../../logic/sets/membership/__pv_it/common/477487d8796864d23d5810f83761435f25167f690/expr.png\" style=\"display:inline;vertical-align:middle;\" /></a></td></tr>\n",
       "<tr><td>15</td><td>ExprTuple</td><td>25, 20</td><td><a class=\"ProveItLink\" href=\"../0e79c4ccd2b6288bf380be6a73bffb7678e470420/expr.ipynb\"><img src=\"../0e79c4ccd2b6288bf380be6a73bffb7678e470420/expr.png\" style=\"display:inline;vertical-align:middle;\" /></a></td></tr>\n",
       "<tr><td>16</td><td>Variable</td><td></td><td><a class=\"ProveItLink\" href=\"../../../../../../__pv_it/common/e94b28ab65b49707a4f3bf26580dfe7bba3eebd90/expr.ipynb\"><img src=\"../../../../../../__pv_it/common/e94b28ab65b49707a4f3bf26580dfe7bba3eebd90/expr.png\" style=\"display:inline;vertical-align:middle;\" /></a></td></tr>\n",
       "<tr><td>17</td><td>Operation</td><td>operator:&nbsp;21<br>operands:&nbsp;23<br></td><td><a class=\"ProveItLink\" href=\"../c14ff25de766e807cf607aab2897e1f62c5e9fd20/expr.ipynb\"><img src=\"../c14ff25de766e807cf607aab2897e1f62c5e9fd20/expr.png\" style=\"display:inline;vertical-align:middle;\" /></a></td></tr>\n",
       "<tr><td>18</td><td>Operation</td><td>operator:&nbsp;22<br>operands:&nbsp;23<br></td><td><a class=\"ProveItLink\" href=\"../cc4d025e4deb2805e8c56fed0ff32905a1e90c060/expr.ipynb\"><img src=\"../cc4d025e4deb2805e8c56fed0ff32905a1e90c060/expr.png\" style=\"display:inline;vertical-align:middle;\" /></a></td></tr>\n",
       "<tr><td>19</td><td>Literal</td><td></td><td><a class=\"ProveItLink\" href=\"../../../../../numerals/__pv_it/common/682157d4892d216d9e5626ed533aff9b56b9506e0/expr.ipynb\"><img src=\"../../../../../numerals/__pv_it/common/682157d4892d216d9e5626ed533aff9b56b9506e0/expr.png\" style=\"display:inline;vertical-align:middle;\" /></a></td></tr>\n",
       "<tr><td>20</td><td>Literal</td><td></td><td><a class=\"ProveItLink\" href=\"../../../../natural_numbers/__pv_it/common/6111329435c43892c831c4793de96afbf80bdb3e0/expr.ipynb\"><img src=\"../../../../natural_numbers/__pv_it/common/6111329435c43892c831c4793de96afbf80bdb3e0/expr.png\" style=\"display:inline;vertical-align:middle;\" /></a></td></tr>\n",
       "<tr><td>21</td><td>Literal</td><td></td><td><a class=\"ProveItLink\" href=\"../../../../../division/__pv_it/common/a2a633e1e3c749fb1f2692466b287b6348c5de840/expr.ipynb\"><img src=\"../../../../../division/__pv_it/common/a2a633e1e3c749fb1f2692466b287b6348c5de840/expr.png\" style=\"display:inline;vertical-align:middle;\" /></a></td></tr>\n",
       "<tr><td>22</td><td>Literal</td><td></td><td><a class=\"ProveItLink\" href=\"../../../../../divisibility/__pv_it/common/4992ec160f5fadacbaffecc5cde14b74057220530/expr.ipynb\"><img src=\"../../../../../divisibility/__pv_it/common/4992ec160f5fadacbaffecc5cde14b74057220530/expr.png\" style=\"display:inline;vertical-align:middle;\" /></a></td></tr>\n",
       "<tr><td>23</td><td>ExprTuple</td><td>24, 25</td><td><a class=\"ProveItLink\" href=\"../3dcd5ceea6334d8cb48fe14fdae236293aa9a6050/expr.ipynb\"><img src=\"../3dcd5ceea6334d8cb48fe14fdae236293aa9a6050/expr.png\" style=\"display:inline;vertical-align:middle;\" /></a></td></tr>\n",
       "<tr><td>24</td><td>Variable</td><td></td><td><a class=\"ProveItLink\" href=\"../../../../../../__pv_it/common/c06c606ec12678c58933ac85412ecadc2ae28be60/expr.ipynb\"><img src=\"../../../../../../__pv_it/common/c06c606ec12678c58933ac85412ecadc2ae28be60/expr.png\" style=\"display:inline;vertical-align:middle;\" /></a></td></tr>\n",
       "<tr><td>25</td><td>Variable</td><td></td><td><a class=\"ProveItLink\" href=\"../../../../../../__pv_it/common/195236b98c6c564a75b5dbada74b173bc52d5c3e0/expr.ipynb\"><img src=\"../../../../../../__pv_it/common/195236b98c6c564a75b5dbada74b173bc52d5c3e0/expr.png\" style=\"display:inline;vertical-align:middle;\" /></a></td></tr>\n",
       "</table>\n"
      ],
      "text/plain": [
       "0. {(q = (a / b)) and (gcd(a, b) = 1) if a in NaturalPos ,  b in NaturalPos.\n",
       "   core type: Conditional\n",
       "   value: 1\n",
       "   condition: 2\n",
       "1. (q = (a / b)) and (gcd(a, b) = 1)\n",
       "   core type: Operation\n",
       "   operator: 4\n",
       "   operands: 3\n",
       "2. (a in NaturalPos) and (b in NaturalPos)\n",
       "   core type: Operation\n",
       "   operator: 4\n",
       "   operands: 5\n",
       "3. (q = (a / b), gcd(a, b) = 1)\n",
       "   core type: ExprTuple\n",
       "   sub-expressions: 6, 7\n",
       "4. and\n",
       "   core type: Literal\n",
       "   sub-expressions: \n",
       "5. (a in NaturalPos, b in NaturalPos)\n",
       "   core type: ExprTuple\n",
       "   sub-expressions: 8, 9\n",
       "6. q = (a / b)\n",
       "   core type: Operation\n",
       "   operator: 11\n",
       "   operands: 10\n",
       "7. gcd(a, b) = 1\n",
       "   core type: Operation\n",
       "   operator: 11\n",
       "   operands: 12\n",
       "8. a in NaturalPos\n",
       "   core type: Operation\n",
       "   operator: 14\n",
       "   operands: 13\n",
       "9. b in NaturalPos\n",
       "   core type: Operation\n",
       "   operator: 14\n",
       "   operands: 15\n",
       "10. (q, a / b)\n",
       "    core type: ExprTuple\n",
       "    sub-expressions: 16, 17\n",
       "11. =\n",
       "    core type: Literal\n",
       "    sub-expressions: \n",
       "12. (gcd(a, b), 1)\n",
       "    core type: ExprTuple\n",
       "    sub-expressions: 18, 19\n",
       "13. (a, NaturalPos)\n",
       "    core type: ExprTuple\n",
       "    sub-expressions: 24, 20\n",
       "14. in\n",
       "    core type: Literal\n",
       "    sub-expressions: \n",
       "15. (b, NaturalPos)\n",
       "    core type: ExprTuple\n",
       "    sub-expressions: 25, 20\n",
       "16. q\n",
       "    core type: Variable\n",
       "    sub-expressions: \n",
       "17. a / b\n",
       "    core type: Operation\n",
       "    operator: 21\n",
       "    operands: 23\n",
       "18. gcd(a, b)\n",
       "    core type: Operation\n",
       "    operator: 22\n",
       "    operands: 23\n",
       "19. 1\n",
       "    core type: Literal\n",
       "    sub-expressions: \n",
       "20. NaturalPos\n",
       "    core type: Literal\n",
       "    sub-expressions: \n",
       "21. /\n",
       "    core type: Literal\n",
       "    sub-expressions: \n",
       "22. gcd\n",
       "    core type: Literal\n",
       "    sub-expressions: \n",
       "23. (a, b)\n",
       "    core type: ExprTuple\n",
       "    sub-expressions: 24, 25\n",
       "24. a\n",
       "    core type: Variable\n",
       "    sub-expressions: \n",
       "25. b\n",
       "    core type: Variable\n",
       "    sub-expressions: "
      ]
     },
     "metadata": {},
     "output_type": "display_data"
    }
   ],
   "source": [
    "# display the expression information\n",
    "stored_expr.expr_info()"
   ]
  },
  {
   "cell_type": "code",
   "execution_count": null,
   "metadata": {},
   "outputs": [],
   "source": []
  }
 ],
 "metadata": {
  "kernelspec": {
   "display_name": "Python 3",
   "language": "python",
   "name": "python3"
  }
 },
 "nbformat": 4,
 "nbformat_minor": 0
}