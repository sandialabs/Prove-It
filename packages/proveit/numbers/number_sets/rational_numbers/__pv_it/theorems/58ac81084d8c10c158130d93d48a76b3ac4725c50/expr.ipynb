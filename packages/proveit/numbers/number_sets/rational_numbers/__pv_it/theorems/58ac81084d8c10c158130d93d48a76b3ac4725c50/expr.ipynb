{
 "cells": [
  {
   "cell_type": "markdown",
   "metadata": {},
   "source": [
    "Expression of type <a class=\"ProveItLink\" href=\"../../../../../../../../doc/html/api/proveit.ExprTuple.html\">ExprTuple</a>\n",
    "=======================\n",
    "# from the theory of <a class=\"ProveItLink\" href=\"../../../_theory_nbs_/theory.ipynb\">proveit.numbers.number_sets.rational_numbers</a>"
   ]
  },
  {
   "cell_type": "code",
   "execution_count": 1,
   "metadata": {},
   "outputs": [],
   "source": [
    "import proveit\n",
    "# Automation is not needed when building an expression:\n",
    "proveit.defaults.automation = False # This will speed things up.\n",
    "proveit.defaults.inline_pngs = False # Makes files smaller.\n",
    "%load_expr # Load the stored expression as 'stored_expr'\n",
    "# import Expression classes needed to build the expression\n",
    "from proveit import Conditional, ExprTuple, Lambda, a, b, q\n",
    "from proveit.logic import Equals, Exists, InSet\n",
    "from proveit.numbers import Natural, NaturalPos, RationalNonNeg, frac"
   ]
  },
  {
   "cell_type": "code",
   "execution_count": 2,
   "metadata": {},
   "outputs": [
    {
     "data": {
      "text/html": [
       "<strong id=\"expr\">expr:</strong> <a class=\"ProveItLink\" href=\"expr.ipynb\"><img src=\"expr.png\" style=\"display:inline;vertical-align:middle;\" /></a><br>"
      ],
      "text/plain": [
       "<IPython.core.display.HTML object>"
      ]
     },
     "metadata": {},
     "output_type": "display_data"
    }
   ],
   "source": [
    "# build up the expression from sub-expressions\n",
    "expr = ExprTuple(Lambda(q, Conditional(Exists(instance_param_or_params = [a, b], instance_expr = Equals(q, frac(a, b)), domains = [Natural, NaturalPos]), InSet(q, RationalNonNeg))))"
   ]
  },
  {
   "cell_type": "code",
   "execution_count": 3,
   "metadata": {},
   "outputs": [
    {
     "name": "stdout",
     "output_type": "stream",
     "text": [
      "Passed sanity check: expr matches stored_expr\n"
     ]
    }
   ],
   "source": [
    "# check that the built expression is the same as the stored expression\n",
    "assert expr == stored_expr\n",
    "assert expr._style_id == stored_expr._style_id\n",
    "print(\"Passed sanity check: expr matches stored_expr\")"
   ]
  },
  {
   "cell_type": "code",
   "execution_count": 4,
   "metadata": {},
   "outputs": [
    {
     "name": "stdout",
     "output_type": "stream",
     "text": [
      "\\left(q \\mapsto \\left\\{\\exists_{a \\in \\mathbb{N}, b \\in \\mathbb{N}^+}~\\left(q = \\frac{a}{b}\\right) \\textrm{ if } q \\in \\mathbb{Q}^{\\geq 0}\\right..\\right)\n"
     ]
    }
   ],
   "source": [
    "# Show the LaTeX representation of the expression for convenience if you need it.\n",
    "print(stored_expr.latex())"
   ]
  },
  {
   "cell_type": "code",
   "execution_count": 5,
   "metadata": {},
   "outputs": [
    {
     "data": {
      "text/html": [
       "no style options"
      ],
      "text/plain": [
       "no style options"
      ]
     },
     "metadata": {},
     "output_type": "display_data"
    }
   ],
   "source": [
    "stored_expr.style_options()"
   ]
  },
  {
   "cell_type": "code",
   "execution_count": 6,
   "metadata": {},
   "outputs": [
    {
     "data": {
      "text/html": [
       "<table><tr><th>&nbsp;</th><th>core type</th><th>sub-expressions</th><th>expression</th></tr>\n",
       "<tr><td>0</td><td>ExprTuple</td><td>1</td><td><a class=\"ProveItLink\" href=\"expr.ipynb\"><img src=\"expr.png\" style=\"display:inline;vertical-align:middle;\" /></a></td></tr>\n",
       "<tr><td>1</td><td>Lambda</td><td>parameter:&nbsp;18<br>body:&nbsp;3<br></td><td><a class=\"ProveItLink\" href=\"../3e88ac1bb997b3db0c5a3ea413a9ecc42da601020/expr.ipynb\"><img src=\"../3e88ac1bb997b3db0c5a3ea413a9ecc42da601020/expr.png\" style=\"display:inline;vertical-align:middle;\" /></a></td></tr>\n",
       "<tr><td>2</td><td>ExprTuple</td><td>18</td><td><a class=\"ProveItLink\" href=\"../7d25e72c653ef8c93c88115fd6aa654c6a1ace680/expr.ipynb\"><img src=\"../7d25e72c653ef8c93c88115fd6aa654c6a1ace680/expr.png\" style=\"display:inline;vertical-align:middle;\" /></a></td></tr>\n",
       "<tr><td>3</td><td>Conditional</td><td>value:&nbsp;4<br>condition:&nbsp;5<br></td><td><a class=\"ProveItLink\" href=\"../7ec516da3e3cdae05fc364f29df78eb19de828400/expr.ipynb\"><img src=\"../7ec516da3e3cdae05fc364f29df78eb19de828400/expr.png\" style=\"display:inline;vertical-align:middle;\" /></a></td></tr>\n",
       "<tr><td>4</td><td>Operation</td><td>operator:&nbsp;6<br>operand:&nbsp;9<br></td><td><a class=\"ProveItLink\" href=\"../95fa0a7b9e9ce293fc6db9568c4ac91f0ada947f0/expr.ipynb\"><img src=\"../95fa0a7b9e9ce293fc6db9568c4ac91f0ada947f0/expr.png\" style=\"display:inline;vertical-align:middle;\" /></a></td></tr>\n",
       "<tr><td>5</td><td>Operation</td><td>operator:&nbsp;25<br>operands:&nbsp;8<br></td><td><a class=\"ProveItLink\" href=\"../a5fdd75982191d07361251e34da8617d40e0a9360/expr.ipynb\"><img src=\"../a5fdd75982191d07361251e34da8617d40e0a9360/expr.png\" style=\"display:inline;vertical-align:middle;\" /></a></td></tr>\n",
       "<tr><td>6</td><td>Literal</td><td></td><td><a class=\"ProveItLink\" href=\"../../../../../../logic/booleans/quantification/existence/__pv_it/common/fedc3809ed9823aab11264c156786a59540352e70/expr.ipynb\"><img src=\"../../../../../../logic/booleans/quantification/existence/__pv_it/common/fedc3809ed9823aab11264c156786a59540352e70/expr.png\" style=\"display:inline;vertical-align:middle;\" /></a></td></tr>\n",
       "<tr><td>7</td><td>ExprTuple</td><td>9</td><td><a class=\"ProveItLink\" href=\"../4b71d495adda72d59d887b2ad3cb8f48962dcf860/expr.ipynb\"><img src=\"../4b71d495adda72d59d887b2ad3cb8f48962dcf860/expr.png\" style=\"display:inline;vertical-align:middle;\" /></a></td></tr>\n",
       "<tr><td>8</td><td>ExprTuple</td><td>18, 10</td><td><a class=\"ProveItLink\" href=\"../e64d5521c2cad5d92421650e9b5bb427848f4b360/expr.ipynb\"><img src=\"../e64d5521c2cad5d92421650e9b5bb427848f4b360/expr.png\" style=\"display:inline;vertical-align:middle;\" /></a></td></tr>\n",
       "<tr><td>9</td><td>Lambda</td><td>parameters:&nbsp;23<br>body:&nbsp;11<br></td><td><a class=\"ProveItLink\" href=\"../6130f66e72702c84a14b4eea13b6bfb28795ccce0/expr.ipynb\"><img src=\"../6130f66e72702c84a14b4eea13b6bfb28795ccce0/expr.png\" style=\"display:inline;vertical-align:middle;\" /></a></td></tr>\n",
       "<tr><td>10</td><td>Literal</td><td></td><td><a class=\"ProveItLink\" href=\"../../common/334713a1412a740e3b6042e36ac15dceb087af040/expr.ipynb\"><img src=\"../../common/334713a1412a740e3b6042e36ac15dceb087af040/expr.png\" style=\"display:inline;vertical-align:middle;\" /></a></td></tr>\n",
       "<tr><td>11</td><td>Conditional</td><td>value:&nbsp;12<br>condition:&nbsp;13<br></td><td><a class=\"ProveItLink\" href=\"../18ce6634e8cfd8830d82aaac0a3380ff250a5c350/expr.ipynb\"><img src=\"../18ce6634e8cfd8830d82aaac0a3380ff250a5c350/expr.png\" style=\"display:inline;vertical-align:middle;\" /></a></td></tr>\n",
       "<tr><td>12</td><td>Operation</td><td>operator:&nbsp;14<br>operands:&nbsp;15<br></td><td><a class=\"ProveItLink\" href=\"../90ec5d4105148c7e50292c3aa1156e7717ae60ba0/expr.ipynb\"><img src=\"../90ec5d4105148c7e50292c3aa1156e7717ae60ba0/expr.png\" style=\"display:inline;vertical-align:middle;\" /></a></td></tr>\n",
       "<tr><td>13</td><td>Operation</td><td>operator:&nbsp;16<br>operands:&nbsp;17<br></td><td><a class=\"ProveItLink\" href=\"../5247db70dd62fe9fc16c5b4a62883dd9709b5b1a0/expr.ipynb\"><img src=\"../5247db70dd62fe9fc16c5b4a62883dd9709b5b1a0/expr.png\" style=\"display:inline;vertical-align:middle;\" /></a></td></tr>\n",
       "<tr><td>14</td><td>Literal</td><td></td><td><a class=\"ProveItLink\" href=\"../../../../../../logic/equality/__pv_it/common/fb96dc12b2aa8801dda64d0132b396c63d1502bb0/expr.ipynb\"><img src=\"../../../../../../logic/equality/__pv_it/common/fb96dc12b2aa8801dda64d0132b396c63d1502bb0/expr.png\" style=\"display:inline;vertical-align:middle;\" /></a></td></tr>\n",
       "<tr><td>15</td><td>ExprTuple</td><td>18, 19</td><td><a class=\"ProveItLink\" href=\"../3cd93c0a74ebd77d5c8a3dc276314acacb1599c60/expr.ipynb\"><img src=\"../3cd93c0a74ebd77d5c8a3dc276314acacb1599c60/expr.png\" style=\"display:inline;vertical-align:middle;\" /></a></td></tr>\n",
       "<tr><td>16</td><td>Literal</td><td></td><td><a class=\"ProveItLink\" href=\"../../../../../../logic/booleans/conjunction/__pv_it/common/42118ff318bd65d98b1393f64ce7c2269feef76e0/expr.ipynb\"><img src=\"../../../../../../logic/booleans/conjunction/__pv_it/common/42118ff318bd65d98b1393f64ce7c2269feef76e0/expr.png\" style=\"display:inline;vertical-align:middle;\" /></a></td></tr>\n",
       "<tr><td>17</td><td>ExprTuple</td><td>20, 21</td><td><a class=\"ProveItLink\" href=\"../14989e9e7fa5abab621d61e7d1552c0820f9fb750/expr.ipynb\"><img src=\"../14989e9e7fa5abab621d61e7d1552c0820f9fb750/expr.png\" style=\"display:inline;vertical-align:middle;\" /></a></td></tr>\n",
       "<tr><td>18</td><td>Variable</td><td></td><td><a class=\"ProveItLink\" href=\"../../../../../../__pv_it/common/e94b28ab65b49707a4f3bf26580dfe7bba3eebd90/expr.ipynb\"><img src=\"../../../../../../__pv_it/common/e94b28ab65b49707a4f3bf26580dfe7bba3eebd90/expr.png\" style=\"display:inline;vertical-align:middle;\" /></a></td></tr>\n",
       "<tr><td>19</td><td>Operation</td><td>operator:&nbsp;22<br>operands:&nbsp;23<br></td><td><a class=\"ProveItLink\" href=\"../c14ff25de766e807cf607aab2897e1f62c5e9fd20/expr.ipynb\"><img src=\"../c14ff25de766e807cf607aab2897e1f62c5e9fd20/expr.png\" style=\"display:inline;vertical-align:middle;\" /></a></td></tr>\n",
       "<tr><td>20</td><td>Operation</td><td>operator:&nbsp;25<br>operands:&nbsp;24<br></td><td><a class=\"ProveItLink\" href=\"../27094ede24067904bb8353fa305df8461a3a4be40/expr.ipynb\"><img src=\"../27094ede24067904bb8353fa305df8461a3a4be40/expr.png\" style=\"display:inline;vertical-align:middle;\" /></a></td></tr>\n",
       "<tr><td>21</td><td>Operation</td><td>operator:&nbsp;25<br>operands:&nbsp;26<br></td><td><a class=\"ProveItLink\" href=\"../338bea1169aca2a51c9e3cdb908726f9096b30730/expr.ipynb\"><img src=\"../338bea1169aca2a51c9e3cdb908726f9096b30730/expr.png\" style=\"display:inline;vertical-align:middle;\" /></a></td></tr>\n",
       "<tr><td>22</td><td>Literal</td><td></td><td><a class=\"ProveItLink\" href=\"../../../../../division/__pv_it/common/a2a633e1e3c749fb1f2692466b287b6348c5de840/expr.ipynb\"><img src=\"../../../../../division/__pv_it/common/a2a633e1e3c749fb1f2692466b287b6348c5de840/expr.png\" style=\"display:inline;vertical-align:middle;\" /></a></td></tr>\n",
       "<tr><td>23</td><td>ExprTuple</td><td>27, 29</td><td><a class=\"ProveItLink\" href=\"../3dcd5ceea6334d8cb48fe14fdae236293aa9a6050/expr.ipynb\"><img src=\"../3dcd5ceea6334d8cb48fe14fdae236293aa9a6050/expr.png\" style=\"display:inline;vertical-align:middle;\" /></a></td></tr>\n",
       "<tr><td>24</td><td>ExprTuple</td><td>27, 28</td><td><a class=\"ProveItLink\" href=\"../d8b6a0eba6558e88710687f1f05fc014c3126b8f0/expr.ipynb\"><img src=\"../d8b6a0eba6558e88710687f1f05fc014c3126b8f0/expr.png\" style=\"display:inline;vertical-align:middle;\" /></a></td></tr>\n",
       "<tr><td>25</td><td>Literal</td><td></td><td><a class=\"ProveItLink\" href=\"../../../../../../logic/sets/membership/__pv_it/common/477487d8796864d23d5810f83761435f25167f690/expr.ipynb\"><img src=\"../../../../../../logic/sets/membership/__pv_it/common/477487d8796864d23d5810f83761435f25167f690/expr.png\" style=\"display:inline;vertical-align:middle;\" /></a></td></tr>\n",
       "<tr><td>26</td><td>ExprTuple</td><td>29, 30</td><td><a class=\"ProveItLink\" href=\"../0e79c4ccd2b6288bf380be6a73bffb7678e470420/expr.ipynb\"><img src=\"../0e79c4ccd2b6288bf380be6a73bffb7678e470420/expr.png\" style=\"display:inline;vertical-align:middle;\" /></a></td></tr>\n",
       "<tr><td>27</td><td>Variable</td><td></td><td><a class=\"ProveItLink\" href=\"../../../../../../__pv_it/common/c06c606ec12678c58933ac85412ecadc2ae28be60/expr.ipynb\"><img src=\"../../../../../../__pv_it/common/c06c606ec12678c58933ac85412ecadc2ae28be60/expr.png\" style=\"display:inline;vertical-align:middle;\" /></a></td></tr>\n",
       "<tr><td>28</td><td>Literal</td><td></td><td><a class=\"ProveItLink\" href=\"../../../../natural_numbers/__pv_it/common/8b7c321957f52ed3b05b36af612eeae4fa4783bc0/expr.ipynb\"><img src=\"../../../../natural_numbers/__pv_it/common/8b7c321957f52ed3b05b36af612eeae4fa4783bc0/expr.png\" style=\"display:inline;vertical-align:middle;\" /></a></td></tr>\n",
       "<tr><td>29</td><td>Variable</td><td></td><td><a class=\"ProveItLink\" href=\"../../../../../../__pv_it/common/195236b98c6c564a75b5dbada74b173bc52d5c3e0/expr.ipynb\"><img src=\"../../../../../../__pv_it/common/195236b98c6c564a75b5dbada74b173bc52d5c3e0/expr.png\" style=\"display:inline;vertical-align:middle;\" /></a></td></tr>\n",
       "<tr><td>30</td><td>Literal</td><td></td><td><a class=\"ProveItLink\" href=\"../../../../natural_numbers/__pv_it/common/6111329435c43892c831c4793de96afbf80bdb3e0/expr.ipynb\"><img src=\"../../../../natural_numbers/__pv_it/common/6111329435c43892c831c4793de96afbf80bdb3e0/expr.png\" style=\"display:inline;vertical-align:middle;\" /></a></td></tr>\n",
       "</table>\n"
      ],
      "text/plain": [
       "0. (q -> {exists_{a in Natural, b in NaturalPos} (q = (a / b)) if q in RationalNonNeg.)\n",
       "   core type: ExprTuple\n",
       "   sub-expressions: 1\n",
       "1. q -> {exists_{a in Natural, b in NaturalPos} (q = (a / b)) if q in RationalNonNeg.\n",
       "   core type: Lambda\n",
       "   parameter: 18\n",
       "   body: 3\n",
       "2. (q)\n",
       "   core type: ExprTuple\n",
       "   sub-expressions: 18\n",
       "3. {exists_{a in Natural, b in NaturalPos} (q = (a / b)) if q in RationalNonNeg.\n",
       "   core type: Conditional\n",
       "   value: 4\n",
       "   condition: 5\n",
       "4. exists_{a in Natural, b in NaturalPos} (q = (a / b))\n",
       "   core type: Operation\n",
       "   operator: 6\n",
       "   operand: 9\n",
       "5. q in RationalNonNeg\n",
       "   core type: Operation\n",
       "   operator: 25\n",
       "   operands: 8\n",
       "6. exists\n",
       "   core type: Literal\n",
       "   sub-expressions: \n",
       "7. ((a, b) -> {q = (a / b) if a in Natural ,  b in NaturalPos.)\n",
       "   core type: ExprTuple\n",
       "   sub-expressions: 9\n",
       "8. (q, RationalNonNeg)\n",
       "   core type: ExprTuple\n",
       "   sub-expressions: 18, 10\n",
       "9. (a, b) -> {q = (a / b) if a in Natural ,  b in NaturalPos.\n",
       "   core type: Lambda\n",
       "   parameters: 23\\n   body: 11\n",
       "10. RationalNonNeg\n",
       "    core type: Literal\n",
       "    sub-expressions: \n",
       "11. {q = (a / b) if a in Natural ,  b in NaturalPos.\n",
       "    core type: Conditional\n",
       "    value: 12\n",
       "    condition: 13\n",
       "12. q = (a / b)\n",
       "    core type: Operation\n",
       "    operator: 14\n",
       "    operands: 15\n",
       "13. (a in Natural) and (b in NaturalPos)\n",
       "    core type: Operation\n",
       "    operator: 16\n",
       "    operands: 17\n",
       "14. =\n",
       "    core type: Literal\n",
       "    sub-expressions: \n",
       "15. (q, a / b)\n",
       "    core type: ExprTuple\n",
       "    sub-expressions: 18, 19\n",
       "16. and\n",
       "    core type: Literal\n",
       "    sub-expressions: \n",
       "17. (a in Natural, b in NaturalPos)\n",
       "    core type: ExprTuple\n",
       "    sub-expressions: 20, 21\n",
       "18. q\n",
       "    core type: Variable\n",
       "    sub-expressions: \n",
       "19. a / b\n",
       "    core type: Operation\n",
       "    operator: 22\n",
       "    operands: 23\n",
       "20. a in Natural\n",
       "    core type: Operation\n",
       "    operator: 25\n",
       "    operands: 24\n",
       "21. b in NaturalPos\n",
       "    core type: Operation\n",
       "    operator: 25\n",
       "    operands: 26\n",
       "22. /\n",
       "    core type: Literal\n",
       "    sub-expressions: \n",
       "23. (a, b)\n",
       "    core type: ExprTuple\n",
       "    sub-expressions: 27, 29\n",
       "24. (a, Natural)\n",
       "    core type: ExprTuple\n",
       "    sub-expressions: 27, 28\n",
       "25. in\n",
       "    core type: Literal\n",
       "    sub-expressions: \n",
       "26. (b, NaturalPos)\n",
       "    core type: ExprTuple\n",
       "    sub-expressions: 29, 30\n",
       "27. a\n",
       "    core type: Variable\n",
       "    sub-expressions: \n",
       "28. Natural\n",
       "    core type: Literal\n",
       "    sub-expressions: \n",
       "29. b\n",
       "    core type: Variable\n",
       "    sub-expressions: \n",
       "30. NaturalPos\n",
       "    core type: Literal\n",
       "    sub-expressions: "
      ]
     },
     "metadata": {},
     "output_type": "display_data"
    }
   ],
   "source": [
    "# display the expression information\n",
    "stored_expr.expr_info()"
   ]
  },
  {
   "cell_type": "code",
   "execution_count": null,
   "metadata": {},
   "outputs": [],
   "source": []
  }
 ],
 "metadata": {
  "kernelspec": {
   "display_name": "Python 3",
   "language": "python",
   "name": "python3"
  }
 },
 "nbformat": 4,
 "nbformat_minor": 0
}