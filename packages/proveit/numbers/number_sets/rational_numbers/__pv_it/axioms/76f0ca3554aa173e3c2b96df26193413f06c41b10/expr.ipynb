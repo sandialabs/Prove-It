{
 "cells": [
  {
   "cell_type": "markdown",
   "metadata": {},
   "source": [
    "Expression of type <a class=\"ProveItLink\" href=\"../../../../../../../../doc/html/api/proveit.logic.Equals.html\">Equals</a>\n",
    "=======================\n",
    "# from the theory of <a class=\"ProveItLink\" href=\"../../../_theory_nbs_/theory.ipynb\">proveit.numbers.number_sets.rational_numbers</a>"
   ]
  },
  {
   "cell_type": "code",
   "execution_count": 1,
   "metadata": {},
   "outputs": [],
   "source": [
    "import proveit\n",
    "# Automation is not needed when building an expression:\n",
    "proveit.defaults.automation = False # This will speed things up.\n",
    "proveit.defaults.inline_pngs = False # Makes files smaller.\n",
    "%load_expr # Load the stored expression as 'stored_expr'\n",
    "# import Expression classes needed to build the expression\n",
    "from proveit import a, b\n",
    "from proveit.logic import Equals, NotEquals, SetOfAll\n",
    "from proveit.numbers import Integer, Rational, frac, zero"
   ]
  },
  {
   "cell_type": "code",
   "execution_count": 2,
   "metadata": {},
   "outputs": [
    {
     "data": {
      "text/html": [
       "<strong id=\"expr\">expr:</strong> <a class=\"ProveItLink\" href=\"expr.ipynb\"><img src=\"expr.png\" style=\"display:inline;vertical-align:middle;\" /></a><br>"
      ],
      "text/plain": [
       "<IPython.core.display.HTML object>"
      ]
     },
     "metadata": {},
     "output_type": "display_data"
    }
   ],
   "source": [
    "# build up the expression from sub-expressions\n",
    "expr = Equals(Rational, SetOfAll(instance_param_or_params = [a, b], instance_element = frac(a, b), domain = Integer, condition = NotEquals(b, zero)))"
   ]
  },
  {
   "cell_type": "code",
   "execution_count": 3,
   "metadata": {},
   "outputs": [
    {
     "name": "stdout",
     "output_type": "stream",
     "text": [
      "Passed sanity check: expr matches stored_expr\n"
     ]
    }
   ],
   "source": [
    "# check that the built expression is the same as the stored expression\n",
    "assert expr == stored_expr\n",
    "assert expr._style_id == stored_expr._style_id\n",
    "print(\"Passed sanity check: expr matches stored_expr\")"
   ]
  },
  {
   "cell_type": "code",
   "execution_count": 4,
   "metadata": {},
   "outputs": [
    {
     "name": "stdout",
     "output_type": "stream",
     "text": [
      "\\mathbb{Q} = \\left\\{\\frac{a}{b}~|~b \\neq 0\\right\\}_{a, b \\in \\mathbb{Z}}\n"
     ]
    }
   ],
   "source": [
    "# Show the LaTeX representation of the expression for convenience if you need it.\n",
    "print(stored_expr.latex())"
   ]
  },
  {
   "cell_type": "code",
   "execution_count": 5,
   "metadata": {},
   "outputs": [
    {
     "data": {
      "text/html": [
       "<table>\n",
       "<tr><th>name</th><th>description</th><th>default</th><th>current value</th><th>related methods</th></tr><tr><td>operation</td><td>'infix' or 'function' style formatting</td><td>infix</td><td>infix</td><td></td></tr>\n",
       "<tr><td>wrap_positions</td><td>position(s) at which wrapping is to occur; '2 n - 1' is after the nth operand, '2 n' is after the nth operation.</td><td>()</td><td>()</td><td>('with_wrapping_at', 'with_wrap_before_operator', 'with_wrap_after_operator', 'without_wrapping', 'wrap_positions')</td></tr>\n",
       "<tr><td>justification</td><td>if any wrap positions are set, justify to the 'left', 'center', or 'right'</td><td>center</td><td>center</td><td>('with_justification',)</td></tr>\n",
       "<tr><td>direction</td><td>Direction of the relation (normal or reversed)</td><td>normal</td><td>normal</td><td>('with_direction_reversed', 'is_reversed')</td></tr>\n",
       "</table>\n"
      ],
      "text/plain": [
       "style name: operation\n",
       "description: 'infix' or 'function' style formatting\n",
       "default: infix\n",
       "current value: infix\n",
       "related methods: ()\n",
       "style name: wrap_positions\n",
       "description: position(s) at which wrapping is to occur; '2 n - 1' is after the nth operand, '2 n' is after the nth operation.\n",
       "default: ()\n",
       "current value: ()\n",
       "related methods: ('with_wrapping_at', 'with_wrap_before_operator', 'with_wrap_after_operator', 'without_wrapping', 'wrap_positions')\n",
       "style name: justification\n",
       "description: if any wrap positions are set, justify to the 'left', 'center', or 'right'\n",
       "default: center\n",
       "current value: center\n",
       "related methods: ('with_justification',)\n",
       "style name: direction\n",
       "description: Direction of the relation (normal or reversed)\n",
       "default: normal\n",
       "current value: normal\n",
       "related methods: ('with_direction_reversed', 'is_reversed')"
      ]
     },
     "metadata": {},
     "output_type": "display_data"
    }
   ],
   "source": [
    "stored_expr.style_options()"
   ]
  },
  {
   "cell_type": "code",
   "execution_count": 6,
   "metadata": {},
   "outputs": [
    {
     "data": {
      "text/html": [
       "<table><tr><th>&nbsp;</th><th>core type</th><th>sub-expressions</th><th>expression</th></tr>\n",
       "<tr><td>0</td><td>Operation</td><td>operator:&nbsp;1<br>operands:&nbsp;2<br></td><td><a class=\"ProveItLink\" href=\"expr.ipynb\"><img src=\"expr.png\" style=\"display:inline;vertical-align:middle;\" /></a></td></tr>\n",
       "<tr><td>1</td><td>Literal</td><td></td><td><a class=\"ProveItLink\" href=\"../../../../../../logic/equality/__pv_it/common/fb96dc12b2aa8801dda64d0132b396c63d1502bb0/expr.ipynb\"><img src=\"../../../../../../logic/equality/__pv_it/common/fb96dc12b2aa8801dda64d0132b396c63d1502bb0/expr.png\" style=\"display:inline;vertical-align:middle;\" /></a></td></tr>\n",
       "<tr><td>2</td><td>ExprTuple</td><td>3, 4</td><td><a class=\"ProveItLink\" href=\"../d63f30ba5f3fd5185c8d6431e66340306c24c08a0/expr.ipynb\"><img src=\"../d63f30ba5f3fd5185c8d6431e66340306c24c08a0/expr.png\" style=\"display:inline;vertical-align:middle;\" /></a></td></tr>\n",
       "<tr><td>3</td><td>Literal</td><td></td><td><a class=\"ProveItLink\" href=\"../../common/3de3e316334b6ece430a3f1aee01ae68b192ecb30/expr.ipynb\"><img src=\"../../common/3de3e316334b6ece430a3f1aee01ae68b192ecb30/expr.png\" style=\"display:inline;vertical-align:middle;\" /></a></td></tr>\n",
       "<tr><td>4</td><td>Operation</td><td>operator:&nbsp;5<br>operand:&nbsp;7<br></td><td><a class=\"ProveItLink\" href=\"../a09032d3b803b823bd579ca84e94258e1bb517cc0/expr.ipynb\"><img src=\"../a09032d3b803b823bd579ca84e94258e1bb517cc0/expr.png\" style=\"display:inline;vertical-align:middle;\" /></a></td></tr>\n",
       "<tr><td>5</td><td>Literal</td><td></td><td><a class=\"ProveItLink\" href=\"../../../../../../logic/sets/comprehension/__pv_it/common/b4bb00fffb81c35677d73fdf9e971725e2b59ae40/expr.ipynb\"><img src=\"../../../../../../logic/sets/comprehension/__pv_it/common/b4bb00fffb81c35677d73fdf9e971725e2b59ae40/expr.png\" style=\"display:inline;vertical-align:middle;\" /></a></td></tr>\n",
       "<tr><td>6</td><td>ExprTuple</td><td>7</td><td><a class=\"ProveItLink\" href=\"../871d5581a4e0f9335b777573f7c92fd130a349130/expr.ipynb\"><img src=\"../871d5581a4e0f9335b777573f7c92fd130a349130/expr.png\" style=\"display:inline;vertical-align:middle;\" /></a></td></tr>\n",
       "<tr><td>7</td><td>Lambda</td><td>parameters:&nbsp;12<br>body:&nbsp;8<br></td><td><a class=\"ProveItLink\" href=\"../6b155ab9d8c4cdbfd1cbff27e94d89d7eea3db670/expr.ipynb\"><img src=\"../6b155ab9d8c4cdbfd1cbff27e94d89d7eea3db670/expr.png\" style=\"display:inline;vertical-align:middle;\" /></a></td></tr>\n",
       "<tr><td>8</td><td>Conditional</td><td>value:&nbsp;9<br>condition:&nbsp;10<br></td><td><a class=\"ProveItLink\" href=\"../215aa44edaa79fdc5ad487908a5ec63abebc25900/expr.ipynb\"><img src=\"../215aa44edaa79fdc5ad487908a5ec63abebc25900/expr.png\" style=\"display:inline;vertical-align:middle;\" /></a></td></tr>\n",
       "<tr><td>9</td><td>Operation</td><td>operator:&nbsp;11<br>operands:&nbsp;12<br></td><td><a class=\"ProveItLink\" href=\"../c14ff25de766e807cf607aab2897e1f62c5e9fd20/expr.ipynb\"><img src=\"../c14ff25de766e807cf607aab2897e1f62c5e9fd20/expr.png\" style=\"display:inline;vertical-align:middle;\" /></a></td></tr>\n",
       "<tr><td>10</td><td>Operation</td><td>operator:&nbsp;13<br>operands:&nbsp;14<br></td><td><a class=\"ProveItLink\" href=\"../7a164eef3f7e0adaf696c51cd2b1ad680de2b2a10/expr.ipynb\"><img src=\"../7a164eef3f7e0adaf696c51cd2b1ad680de2b2a10/expr.png\" style=\"display:inline;vertical-align:middle;\" /></a></td></tr>\n",
       "<tr><td>11</td><td>Literal</td><td></td><td><a class=\"ProveItLink\" href=\"../../../../../division/__pv_it/common/a2a633e1e3c749fb1f2692466b287b6348c5de840/expr.ipynb\"><img src=\"../../../../../division/__pv_it/common/a2a633e1e3c749fb1f2692466b287b6348c5de840/expr.png\" style=\"display:inline;vertical-align:middle;\" /></a></td></tr>\n",
       "<tr><td>12</td><td>ExprTuple</td><td>23, 25</td><td><a class=\"ProveItLink\" href=\"../3dcd5ceea6334d8cb48fe14fdae236293aa9a6050/expr.ipynb\"><img src=\"../3dcd5ceea6334d8cb48fe14fdae236293aa9a6050/expr.png\" style=\"display:inline;vertical-align:middle;\" /></a></td></tr>\n",
       "<tr><td>13</td><td>Literal</td><td></td><td><a class=\"ProveItLink\" href=\"../../../../../../logic/booleans/conjunction/__pv_it/common/42118ff318bd65d98b1393f64ce7c2269feef76e0/expr.ipynb\"><img src=\"../../../../../../logic/booleans/conjunction/__pv_it/common/42118ff318bd65d98b1393f64ce7c2269feef76e0/expr.png\" style=\"display:inline;vertical-align:middle;\" /></a></td></tr>\n",
       "<tr><td>14</td><td>ExprTuple</td><td>15, 16, 17</td><td><a class=\"ProveItLink\" href=\"../a796a00f5dbc1e3534480d3de5892891eba6d1b30/expr.ipynb\"><img src=\"../a796a00f5dbc1e3534480d3de5892891eba6d1b30/expr.png\" style=\"display:inline;vertical-align:middle;\" /></a></td></tr>\n",
       "<tr><td>15</td><td>Operation</td><td>operator:&nbsp;19<br>operands:&nbsp;18<br></td><td><a class=\"ProveItLink\" href=\"../d8d02d2a77383d238ed10b8fda7965dfafa87db90/expr.ipynb\"><img src=\"../d8d02d2a77383d238ed10b8fda7965dfafa87db90/expr.png\" style=\"display:inline;vertical-align:middle;\" /></a></td></tr>\n",
       "<tr><td>16</td><td>Operation</td><td>operator:&nbsp;19<br>operands:&nbsp;20<br></td><td><a class=\"ProveItLink\" href=\"../035e0ae7bd8c0fe127ee5d2062443d6c874adcdd0/expr.ipynb\"><img src=\"../035e0ae7bd8c0fe127ee5d2062443d6c874adcdd0/expr.png\" style=\"display:inline;vertical-align:middle;\" /></a></td></tr>\n",
       "<tr><td>17</td><td>Operation</td><td>operator:&nbsp;21<br>operands:&nbsp;22<br></td><td><a class=\"ProveItLink\" href=\"../1157e8bc07ff5d23e5b8809064b9e77def3bc8980/expr.ipynb\"><img src=\"../1157e8bc07ff5d23e5b8809064b9e77def3bc8980/expr.png\" style=\"display:inline;vertical-align:middle;\" /></a></td></tr>\n",
       "<tr><td>18</td><td>ExprTuple</td><td>23, 24</td><td><a class=\"ProveItLink\" href=\"../6381f047505cef51bfb3432d8df76f1cfff47cae0/expr.ipynb\"><img src=\"../6381f047505cef51bfb3432d8df76f1cfff47cae0/expr.png\" style=\"display:inline;vertical-align:middle;\" /></a></td></tr>\n",
       "<tr><td>19</td><td>Literal</td><td></td><td><a class=\"ProveItLink\" href=\"../../../../../../logic/sets/membership/__pv_it/common/477487d8796864d23d5810f83761435f25167f690/expr.ipynb\"><img src=\"../../../../../../logic/sets/membership/__pv_it/common/477487d8796864d23d5810f83761435f25167f690/expr.png\" style=\"display:inline;vertical-align:middle;\" /></a></td></tr>\n",
       "<tr><td>20</td><td>ExprTuple</td><td>25, 24</td><td><a class=\"ProveItLink\" href=\"../7a5273c178c04cb3ce78308074ba517705b130f80/expr.ipynb\"><img src=\"../7a5273c178c04cb3ce78308074ba517705b130f80/expr.png\" style=\"display:inline;vertical-align:middle;\" /></a></td></tr>\n",
       "<tr><td>21</td><td>Literal</td><td></td><td><a class=\"ProveItLink\" href=\"../../../../../../logic/equality/__pv_it/common/d96270bc9bb1bad54f773b1c04bfb343a739642c0/expr.ipynb\"><img src=\"../../../../../../logic/equality/__pv_it/common/d96270bc9bb1bad54f773b1c04bfb343a739642c0/expr.png\" style=\"display:inline;vertical-align:middle;\" /></a></td></tr>\n",
       "<tr><td>22</td><td>ExprTuple</td><td>25, 26</td><td><a class=\"ProveItLink\" href=\"../714d61b82b53d478c6f5e033e3a508b8ceb0cf280/expr.ipynb\"><img src=\"../714d61b82b53d478c6f5e033e3a508b8ceb0cf280/expr.png\" style=\"display:inline;vertical-align:middle;\" /></a></td></tr>\n",
       "<tr><td>23</td><td>Variable</td><td></td><td><a class=\"ProveItLink\" href=\"../../../../../../__pv_it/common/c06c606ec12678c58933ac85412ecadc2ae28be60/expr.ipynb\"><img src=\"../../../../../../__pv_it/common/c06c606ec12678c58933ac85412ecadc2ae28be60/expr.png\" style=\"display:inline;vertical-align:middle;\" /></a></td></tr>\n",
       "<tr><td>24</td><td>Literal</td><td></td><td><a class=\"ProveItLink\" href=\"../../../../integers/__pv_it/common/e6b4e90f9467053e055a4fd2f735c0bb79cb79300/expr.ipynb\"><img src=\"../../../../integers/__pv_it/common/e6b4e90f9467053e055a4fd2f735c0bb79cb79300/expr.png\" style=\"display:inline;vertical-align:middle;\" /></a></td></tr>\n",
       "<tr><td>25</td><td>Variable</td><td></td><td><a class=\"ProveItLink\" href=\"../../../../../../__pv_it/common/195236b98c6c564a75b5dbada74b173bc52d5c3e0/expr.ipynb\"><img src=\"../../../../../../__pv_it/common/195236b98c6c564a75b5dbada74b173bc52d5c3e0/expr.png\" style=\"display:inline;vertical-align:middle;\" /></a></td></tr>\n",
       "<tr><td>26</td><td>Literal</td><td></td><td><a class=\"ProveItLink\" href=\"../../../../../numerals/__pv_it/common/dd4e19e8b134dfb293470ea55fe3589b0ab9f8040/expr.ipynb\"><img src=\"../../../../../numerals/__pv_it/common/dd4e19e8b134dfb293470ea55fe3589b0ab9f8040/expr.png\" style=\"display:inline;vertical-align:middle;\" /></a></td></tr>\n",
       "</table>\n"
      ],
      "text/plain": [
       "0. Rational = {(a / b) s.t. b != 0}_{a, b in Integer}\n",
       "   core type: Operation\n",
       "   operator: 1\n",
       "   operands: 2\n",
       "1. =\n",
       "   core type: Literal\n",
       "   sub-expressions: \n",
       "2. (Rational, {(a / b) s.t. b != 0}_{a, b in Integer})\n",
       "   core type: ExprTuple\n",
       "   sub-expressions: 3, 4\n",
       "3. Rational\n",
       "   core type: Literal\n",
       "   sub-expressions: \n",
       "4. {(a / b) s.t. b != 0}_{a, b in Integer}\n",
       "   core type: Operation\n",
       "   operator: 5\n",
       "   operand: 7\n",
       "5. SetOfAll\n",
       "   core type: Literal\n",
       "   sub-expressions: \n",
       "6. ((a, b) -> {a / b if a in Integer ,  b in Integer ,  b != 0.)\n",
       "   core type: ExprTuple\n",
       "   sub-expressions: 7\n",
       "7. (a, b) -> {a / b if a in Integer ,  b in Integer ,  b != 0.\n",
       "   core type: Lambda\n",
       "   parameters: 12\\n   body: 8\n",
       "8. {a / b if a in Integer ,  b in Integer ,  b != 0.\n",
       "   core type: Conditional\n",
       "   value: 9\n",
       "   condition: 10\n",
       "9. a / b\n",
       "   core type: Operation\n",
       "   operator: 11\n",
       "   operands: 12\n",
       "10. (a in Integer) and (b in Integer) and (b != 0)\n",
       "    core type: Operation\n",
       "    operator: 13\n",
       "    operands: 14\n",
       "11. /\n",
       "    core type: Literal\n",
       "    sub-expressions: \n",
       "12. (a, b)\n",
       "    core type: ExprTuple\n",
       "    sub-expressions: 23, 25\n",
       "13. and\n",
       "    core type: Literal\n",
       "    sub-expressions: \n",
       "14. (a in Integer, b in Integer, b != 0)\n",
       "    core type: ExprTuple\n",
       "    sub-expressions: 15, 16, 17\n",
       "15. a in Integer\n",
       "    core type: Operation\n",
       "    operator: 19\n",
       "    operands: 18\n",
       "16. b in Integer\n",
       "    core type: Operation\n",
       "    operator: 19\n",
       "    operands: 20\n",
       "17. b != 0\n",
       "    core type: Operation\n",
       "    operator: 21\n",
       "    operands: 22\n",
       "18. (a, Integer)\n",
       "    core type: ExprTuple\n",
       "    sub-expressions: 23, 24\n",
       "19. in\n",
       "    core type: Literal\n",
       "    sub-expressions: \n",
       "20. (b, Integer)\n",
       "    core type: ExprTuple\n",
       "    sub-expressions: 25, 24\n",
       "21. !=\n",
       "    core type: Literal\n",
       "    sub-expressions: \n",
       "22. (b, 0)\n",
       "    core type: ExprTuple\n",
       "    sub-expressions: 25, 26\n",
       "23. a\n",
       "    core type: Variable\n",
       "    sub-expressions: \n",
       "24. Integer\n",
       "    core type: Literal\n",
       "    sub-expressions: \n",
       "25. b\n",
       "    core type: Variable\n",
       "    sub-expressions: \n",
       "26. 0\n",
       "    core type: Literal\n",
       "    sub-expressions: "
      ]
     },
     "metadata": {},
     "output_type": "display_data"
    }
   ],
   "source": [
    "# display the expression information\n",
    "stored_expr.expr_info()"
   ]
  },
  {
   "cell_type": "code",
   "execution_count": null,
   "metadata": {},
   "outputs": [],
   "source": []
  }
 ],
 "metadata": {
  "kernelspec": {
   "display_name": "Python 3",
   "language": "python",
   "name": "python3"
  }
 },
 "nbformat": 4,
 "nbformat_minor": 0
}