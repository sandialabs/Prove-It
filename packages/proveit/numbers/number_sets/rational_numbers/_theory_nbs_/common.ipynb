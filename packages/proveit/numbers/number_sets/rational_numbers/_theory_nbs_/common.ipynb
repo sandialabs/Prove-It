{
 "cells": [
  {
   "cell_type": "markdown",
   "metadata": {},
   "source": [
    "Common expressions for the theory of <a class=\"ProveItLink\" href=\"theory.ipynb\">proveit.numbers.number_sets.rational_numbers</a>\n",
    "========"
   ]
  },
  {
   "cell_type": "code",
   "execution_count": 1,
   "metadata": {},
   "outputs": [],
   "source": [
    "import proveit\n",
    "# Prepare this notebook for defining the common expressions of a theory:\n",
    "%common_expressions_notebook # Keep this at the top following 'import proveit'.\n",
    "from proveit.numbers.number_sets.rational_numbers.rational import (\n",
    "    RationalSet, RationalNonZeroSet, RationalNegSet, RationalNonNegSet, RationalPosSet, RationalNonPosSet)"
   ]
  },
  {
   "cell_type": "code",
   "execution_count": 2,
   "metadata": {},
   "outputs": [
    {
     "name": "stdout",
     "output_type": "stream",
     "text": [
      "Defining common sub-expressions for theory 'proveit.numbers.number_sets.rational_numbers'\n",
      "Subsequent end-of-cell assignments will define common sub-expressions\n",
      "%end_common will finalize the definitions\n"
     ]
    }
   ],
   "source": [
    "%begin common"
   ]
  },
  {
   "cell_type": "code",
   "execution_count": 3,
   "metadata": {},
   "outputs": [
    {
     "data": {
      "text/html": [
       "<strong id=\"Rational\">Rational:</strong> <a class=\"ProveItLink\" href=\"../__pv_it/common/3de3e316334b6ece430a3f1aee01ae68b192ecb30/common_expr.ipynb\"><img src=\"data:image/png;base64,iVBORw0KGgoAAAANSUhEUgAAABAAAAASBAMAAACgFUNZAAAAMFBMVEX///8AAAAAAAAAAAAAAAAA\n",
       "AAAAAAAAAAAAAAAAAAAAAAAAAAAAAAAAAAAAAAAAAAAv3aB7AAAAD3RSTlMAEIm7mSJ2q+8y3WZE\n",
       "zVRISQrpAAAACXBIWXMAAA7EAAAOxAGVKw4bAAAAh0lEQVQI12NgYBAyNnZlAAK2igmsyxWADG1t\n",
       "BoYjhxkYOBUuMDAwcycwMAsWMDAwTbjAIMyZwMDA98CTYRLPBgYGng37GI5xPwAqTHjNEMQHFslh\n",
       "YIaocWRgFoXq4oGYA1ToDTT5ONBkBiaQXQ4gW0P+3vdkAINKoE1gwJ6Q/vIAmPXctnkDAHEUIwom\n",
       "ORJuAAAAAElFTkSuQmCC\n",
       "\" style=\"display:inline;vertical-align:middle;\" /></a><br>"
      ],
      "text/plain": [
       "<IPython.core.display.HTML object>"
      ]
     },
     "metadata": {},
     "output_type": "display_data"
    }
   ],
   "source": [
    "Rational = RationalSet()"
   ]
  },
  {
   "cell_type": "code",
   "execution_count": 4,
   "metadata": {},
   "outputs": [
    {
     "data": {
      "text/html": [
       "<strong id=\"RationalNonZero\">RationalNonZero:</strong> <a class=\"ProveItLink\" href=\"../__pv_it/common/5962282950539bc60e4868a04e943096e908eacc0/common_expr.ipynb\"><img src=\"data:image/png;base64,iVBORw0KGgoAAAANSUhEUgAAACUAAAAXCAMAAAC78naXAAAAOVBMVEX///8AAAAAAAAAAAAAAAAA\n",
       "AAAAAAAAAAAAAAAAAAAAAAAAAAAAAAAAAAAAAAAAAAAAAAAAAAAAAAACXHtMAAAAEnRSTlMAEIm7\n",
       "mSJ2q+8y3WZEzVTt5cnMFh2FAAAACXBIWXMAAA7EAAAOxAGVKw4bAAAA6UlEQVQoz41Si27DMAjE\n",
       "Lwi1zTb//8fOgNtoW5wOKSiCMwcHAFsL8A+LzXzEeAMqpL4iQEt7FBX1B083yg7UjKcMbe4Q7zOm\n",
       "admfZP1PH/OrwIZ6VI0jaeHyoLNPtMRCHahj1Gixll99hvXjjGMycoTusWQjKePnVzLGs/sUAi2F\n",
       "eOGZXsyqBFlxRg+JQGYreso+Vc3BCFtd01eoOrTgX2HQU0qEIPqgX2wiespr4VyetAuVf/a1O4QU\n",
       "yu8Zrzd26iXb7een9nR3IxCfe8y3Z1ny6H24ondGbDt8C8N5QMLtDUwo9SPV6+Q3JocGcqyaopsA\n",
       "AAAASUVORK5CYII=\n",
       "\" style=\"display:inline;vertical-align:middle;\" /></a><br>"
      ],
      "text/plain": [
       "<IPython.core.display.HTML object>"
      ]
     },
     "metadata": {},
     "output_type": "display_data"
    }
   ],
   "source": [
    "RationalNonZero = RationalNonZeroSet()"
   ]
  },
  {
   "cell_type": "code",
   "execution_count": 5,
   "metadata": {},
   "outputs": [
    {
     "data": {
      "text/html": [
       "<strong id=\"RationalPos\">RationalPos:</strong> <a class=\"ProveItLink\" href=\"../__pv_it/common/39fff3ae65f6d9157cfa06ec86121d04eceb9fae0/common_expr.ipynb\"><img src=\"data:image/png;base64,iVBORw0KGgoAAAANSUhEUgAAABwAAAAVBAMAAACnLJNvAAAAMFBMVEX///8AAAAAAAAAAAAAAAAA\n",
       "AAAAAAAAAAAAAAAAAAAAAAAAAAAAAAAAAAAAAAAAAAAv3aB7AAAAD3RSTlMAEIm7mSJ2q+8y3WZE\n",
       "zVRISQrpAAAACXBIWXMAAA7EAAAOxAGVKw4bAAAAnUlEQVQY02NgQAAHBhRggI0rZGzsiuCyVUxg\n",
       "Xa4A52prMzAcOczAYmzcbGzNwKlwgYGBmTsBKsssWMDAwDThApQrzAmU4HvgCeVO4tnAwMCzYR+U\n",
       "e4z7AQMDZ8JrqKuC+MCyOVCnMEP0OsK4onCTQYAHYu8DmMO9ga46fhjuDyaQm5G8GvL3vieyPyvB\n",
       "LoYD9oT0lweQ+M9tmzdAWADibSZlgN/ipgAAAABJRU5ErkJggg==\n",
       "\" style=\"display:inline;vertical-align:middle;\" /></a><br>"
      ],
      "text/plain": [
       "<IPython.core.display.HTML object>"
      ]
     },
     "metadata": {},
     "output_type": "display_data"
    }
   ],
   "source": [
    "RationalPos = RationalPosSet()"
   ]
  },
  {
   "cell_type": "code",
   "execution_count": 6,
   "metadata": {},
   "outputs": [
    {
     "data": {
      "text/html": [
       "<strong id=\"RationalNeg\">RationalNeg:</strong> <a class=\"ProveItLink\" href=\"../__pv_it/common/8bb622a2affbd9b51f8297e370d9686794d654340/common_expr.ipynb\"><img src=\"data:image/png;base64,iVBORw0KGgoAAAANSUhEUgAAABwAAAASBAMAAAC6KaPXAAAAMFBMVEX///8AAAAAAAAAAAAAAAAA\n",
       "AAAAAAAAAAAAAAAAAAAAAAAAAAAAAAAAAAAAAAAAAAAv3aB7AAAAD3RSTlMAEIm7mSJ2q+8y3WZE\n",
       "zVRISQrpAAAACXBIWXMAAA7EAAAOxAGVKw4bAAAAlElEQVQY02NgYBAyNnZlgAO2igmsyxXgXG1t\n",
       "BoYjhxk4jYHAlIFT4QIDAzN3AlSSWbCAgYFpwgUoV5gTKMH3wBPKncSzgYGBZ8M+KPcY9wMGBs6E\n",
       "11BuEB9YNgdmFESvI4wrimIyD8TeBzBXeQNddfww3JFMIDc7IPwQ8ve+JwMSqIS7GAzYE9JfHkDi\n",
       "P7dt3gBhAQDSGSQUX4MUOAAAAABJRU5ErkJggg==\n",
       "\" style=\"display:inline;vertical-align:middle;\" /></a><br>"
      ],
      "text/plain": [
       "<IPython.core.display.HTML object>"
      ]
     },
     "metadata": {},
     "output_type": "display_data"
    }
   ],
   "source": [
    "RationalNeg = RationalNegSet()"
   ]
  },
  {
   "cell_type": "code",
   "execution_count": 7,
   "metadata": {},
   "outputs": [
    {
     "data": {
      "text/html": [
       "<strong id=\"RationalNonNeg\">RationalNonNeg:</strong> <a class=\"ProveItLink\" href=\"../__pv_it/common/334713a1412a740e3b6042e36ac15dceb087af040/common_expr.ipynb\"><img src=\"data:image/png;base64,iVBORw0KGgoAAAANSUhEUgAAACUAAAAWBAMAAAC1XkgzAAAAMFBMVEX///8AAAAAAAAAAAAAAAAA\n",
       "AAAAAAAAAAAAAAAAAAAAAAAAAAAAAAAAAAAAAAAAAAAv3aB7AAAAD3RSTlMAEIm7mSJ2q+8y3WZE\n",
       "zVRISQrpAAAACXBIWXMAAA7EAAAOxAGVKw4bAAAA5klEQVQY02NggAJOGzDFpKbAgABCdiByG8Nh\n",
       "JDEGNmsg0cnAH4AsyG3GwPqRgeMBSJOxsStUsJXzIwPXBqCWigmsy8EGMyofAIpxJDAwaGszMBwB\n",
       "GczqPgGkl/8BA6fCBQYGZu4EBtbyCTA7mAULgK6acIGxBGxfGsNxBgZhTqB+vgeejAJQNzsyMEzi\n",
       "AdrDs2EfsqOOcQPdw5nwGlksiA+sLofTGAhMIWLMEPMckdUxi0LsRRbjgbjvAbIYgzfQH8dRAgio\n",
       "D+RfB1QxhpC/9z0Z0EEl0LfogD0h/eUBdMHnts0bkLgAM841XVwvxaUAAAAASUVORK5CYII=\n",
       "\" style=\"display:inline;vertical-align:middle;\" /></a><br>"
      ],
      "text/plain": [
       "<IPython.core.display.HTML object>"
      ]
     },
     "metadata": {},
     "output_type": "display_data"
    }
   ],
   "source": [
    "RationalNonNeg = RationalNonNegSet()"
   ]
  },
  {
   "cell_type": "code",
   "execution_count": 8,
   "metadata": {},
   "outputs": [
    {
     "data": {
      "text/html": [
       "<strong id=\"RationalNonPos\">RationalNonPos:</strong> <a class=\"ProveItLink\" href=\"../__pv_it/common/53ec401a884d6301923442b9ce9a74696b2fb0810/common_expr.ipynb\"><img src=\"data:image/png;base64,iVBORw0KGgoAAAANSUhEUgAAACUAAAAWBAMAAAC1XkgzAAAAMFBMVEX///8AAAAAAAAAAAAAAAAA\n",
       "AAAAAAAAAAAAAAAAAAAAAAAAAAAAAAAAAAAAAAAAAAAv3aB7AAAAD3RSTlMAEIm7mSJ2q+8y3WZE\n",
       "zVRISQrpAAAACXBIWXMAAA7EAAAOxAGVKw4bAAAA6ElEQVQY02NgQAJ8pgxMagoMKEJmDAzbGA4j\n",
       "C3FbA4lOBv4AhBCbHZBg/cjA8QBICxkbuzIwcPaBJDg/MnBtAMpXTGBdDjT4sSJEjCOBgUFbm4Hh\n",
       "CMjgw4pgvfwPGDgVLjAwMHMDJRmmu0LtYBYsYGBgmnABZFp4IUMaw3EGBmFOoBK+B55guwOAbnZk\n",
       "YJjEA7SHZ8M+ZJce4wa6hzPhNbJYEB9YXQ6nMRCYQsSYIeY5IqtjFkXYCwM8EPc9QAkhb6A/jqME\n",
       "EFAfyL8OqGIMIX/vezKgg0qwb1EBe0L6ywPogs9tmzcgcQFxkzWYebZrSwAAAABJRU5ErkJggg==\n",
       "\" style=\"display:inline;vertical-align:middle;\" /></a><br>"
      ],
      "text/plain": [
       "<IPython.core.display.HTML object>"
      ]
     },
     "metadata": {},
     "output_type": "display_data"
    }
   ],
   "source": [
    "RationalNonPos = RationalNonPosSet()"
   ]
  },
  {
   "cell_type": "code",
   "execution_count": 9,
   "metadata": {},
   "outputs": [
    {
     "name": "stdout",
     "output_type": "stream",
     "text": [
      "These common expressions may now be imported from the theory package: proveit.numbers.number_sets.rational_numbers\n"
     ]
    }
   ],
   "source": [
    "%end common"
   ]
  },
  {
   "cell_type": "code",
   "execution_count": null,
   "metadata": {},
   "outputs": [],
   "source": []
  }
 ],
 "metadata": {
  "kernelspec": {
   "display_name": "Python 3",
   "language": "python",
   "name": "python3"
  }
 },
 "nbformat": 4,
 "nbformat_minor": 0
}