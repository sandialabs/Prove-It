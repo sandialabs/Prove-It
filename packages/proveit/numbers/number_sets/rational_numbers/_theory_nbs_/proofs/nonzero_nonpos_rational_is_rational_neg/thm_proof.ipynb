{
 "cells": [
  {
   "cell_type": "markdown",
   "metadata": {},
   "source": [
    "Proof of <a class=\"ProveItLink\" href=\"../../../../../../_theory_nbs_/theory.ipynb\">proveit</a>.<a class=\"ProveItLink\" href=\"../../../../../_theory_nbs_/theory.ipynb\">numbers</a>.<a class=\"ProveItLink\" href=\"../../../../_theory_nbs_/theory.ipynb\">number_sets</a>.<a class=\"ProveItLink\" href=\"../../theory.ipynb\">rational_numbers</a>.<a class=\"ProveItLink\" href=\"../../theorems.ipynb#nonzero_nonpos_rational_is_rational_neg\">nonzero_nonpos_rational_is_rational_neg</a> theorem\n",
    "========"
   ]
  },
  {
   "cell_type": "code",
   "execution_count": 1,
   "metadata": {},
   "outputs": [],
   "source": [
    "import proveit\n",
    "theory = proveit.Theory() # the theorem's theory"
   ]
  },
  {
   "cell_type": "code",
   "execution_count": 2,
   "metadata": {},
   "outputs": [
    {
     "data": {
      "text/html": [
       "With these <a href=\"allowed_presumptions.txt\">allowed</a>/<a href=\"disallowed_presumptions.txt\">disallowed</a> theorem/theory presumptions (e.g., to avoid circular dependencies), we begin our proof of<br><strong id=\"nonzero_nonpos_rational_is_rational_neg\">nonzero_nonpos_rational_is_rational_neg:</strong> <a class=\"ProveItLink\" href=\"../../../__pv_it/theorems/b679cb6d4a3d3e03abc1d8870a99b35118afc86d0/expr.ipynb\"><img src=\"data:image/png;base64,iVBORw0KGgoAAAANSUhEUgAAAMsAAAAaCAMAAAAuR1iLAAAAOVBMVEX///8AAAAAAAAAAAAAAAAA\n",
       "AAAAAAAAAAAAAAAAAAAAAAAAAAAAAAAAAAAAAAAAAAAAAAAAAAAAAAACXHtMAAAAEnRSTlMAq1Rm\n",
       "mUTNIjK7EInv3Xbt5cmRiLwgAAAACXBIWXMAAA7EAAAOxAGVKw4bAAADF0lEQVRYw81YCXLbMAzk\n",
       "DfAQ0/L/jy1PibYgm52qTjgTZxLZIBeLXYBm7JuX1DcEUewnLHHLMcD+ACjO3MRu/H4sVv4Fbm/z\n",
       "UkA+3Fx+4Qfd8uNQIKy/N/KA+RMb9/TTIptdewY+jkX55bd66WuutdJFHGjHaqd2KROD/Bv1k5ZN\n",
       "DD3r0rK0OExBalwHLj4OBZO7rCi75XU4g3WuJ90jowxDFSpkl4n5PC1xu3igTXxE6SzDzoYQTCER\n",
       "q0ovlAxswX8eCx/5Ax69i/sJwbhzieme8/xbEiWkK8cNpXXr5nibI3eJ6i0LmCd27UI67gAyP5Tj\n",
       "YsKalPGy1pZ4scYoIiwOEdfQTdvUBTmTRJU7+B1A5iUSlgHNRwolXr9oUYpzGH80FksRzDu+8MAW\n",
       "2ft4LuKtpUBVRrb9Obaqz8tOG8x6IdLjGhYRiVRg5NbqkhFf3b0wDMp3Ny9CC24FSyO82Ki2F7wE\n",
       "e+S1C/1cjg5e+xgk7JyeLFsNr/BQUDgpIffcsR0UA9pwBUtjtLRsloDE4lLZXKaJL0Lac38RpL9D\n",
       "by3DOJyXsUzhcagLUdT3RFY35HriBWgsI8Y4Q01aiR+ez8Btw1L+b6dkR6IZqtH3uSYTp3uvgtD5\n",
       "c9lQCsCDZekaqoYl1yOXQ50XehkxVJ0wvvKP7E1xk2RPYDYWWmY5GSLzfsxjtM/IMdpxHJVVlMd2\n",
       "Lz8wRDb2wjLBZR+TQGMZMdrH5NTgQ6Rz6XiM4mGccdzqk75BJWMS1Sfrts9GHHSbOKVpc5tg+qHG\n",
       "rjvFOcas4lZj6ZTtsAOY5dJq0z7MMCPllxcVI599DRrjeBA+a1+1pV9h2WOUGvv129Yau9D+NCfz\n",
       "pRGK55RygZqy5GceA/T+eUwBWHPs31xuLBFjmsGrmvW5He+1yBZHKMGtCdQFTp6CayVb4wKLhy1t\n",
       "ynBkq1j2GA9zUe6VVIfjrey8Sdu/zYMbdfmSZrqQ6l5m+O7KaakY4v0l/P/e96mrnhJSRb2OpcdY\n",
       "Oae4ZTyn75E+WIItjBLXeekxxNKl8Z7vx24b3UtifsJ3bX8Ae3QYpw0ZXhQAAAAASUVORK5CYII=\n",
       "\" style=\"display:inline;vertical-align:middle;\" /></a><br>(see <a class=\"ProveItLink\" href=\"../../../__pv_it/theorems/c03d997396122049ef0630a151ff9c3c300da2960/dependencies.ipynb\">dependencies</a>)<br>"
      ],
      "text/plain": [
       "<IPython.core.display.HTML object>"
      ]
     },
     "metadata": {},
     "output_type": "display_data"
    },
    {
     "name": "stdout",
     "output_type": "stream",
     "text": [
      "nonzero_nonpos_rational_is_rational_neg may now be readily provable (assuming required theorems are usable).  Simply execute \"%qed\".\n"
     ]
    }
   ],
   "source": [
    "%proving nonzero_nonpos_rational_is_rational_neg"
   ]
  },
  {
   "cell_type": "code",
   "execution_count": null,
   "metadata": {},
   "outputs": [],
   "source": []
  }
 ],
 "metadata": {
  "kernelspec": {
   "display_name": "Python 3",
   "language": "python",
   "name": "python3"
  }
 },
 "nbformat": 4,
 "nbformat_minor": 0
}