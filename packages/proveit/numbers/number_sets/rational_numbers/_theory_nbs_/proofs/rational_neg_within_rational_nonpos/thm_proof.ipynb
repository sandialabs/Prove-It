{
 "cells": [
  {
   "cell_type": "markdown",
   "metadata": {},
   "source": [
    "Proof of <a class=\"ProveItLink\" href=\"../../../../../../_theory_nbs_/theory.ipynb\">proveit</a>.<a class=\"ProveItLink\" href=\"../../../../../_theory_nbs_/theory.ipynb\">numbers</a>.<a class=\"ProveItLink\" href=\"../../../../_theory_nbs_/theory.ipynb\">number_sets</a>.<a class=\"ProveItLink\" href=\"../../theory.ipynb\">rational_numbers</a>.<a class=\"ProveItLink\" href=\"../../theorems.ipynb#rational_neg_within_rational_nonpos\">rational_neg_within_rational_nonpos</a> theorem\n",
    "========"
   ]
  },
  {
   "cell_type": "code",
   "execution_count": 1,
   "metadata": {},
   "outputs": [],
   "source": [
    "import proveit\n",
    "theory = proveit.Theory() # the theorem's theory"
   ]
  },
  {
   "cell_type": "code",
   "execution_count": 2,
   "metadata": {},
   "outputs": [
    {
     "data": {
      "text/html": [
       "With these <a href=\"allowed_presumptions.txt\">allowed</a>/<a href=\"disallowed_presumptions.txt\">disallowed</a> theorem/theory presumptions (e.g., to avoid circular dependencies), we begin our proof of<br><strong id=\"rational_neg_within_rational_nonpos\">rational_neg_within_rational_nonpos:</strong> <a class=\"ProveItLink\" href=\"../../../__pv_it/theorems/620057cf7b4a2b6b79258386d474a599856ced300/expr.ipynb\"><img src=\"data:image/png;base64,iVBORw0KGgoAAAANSUhEUgAAAF4AAAAWBAMAAAC79zZcAAAAMFBMVEX///8AAAAAAAAAAAAAAAAA\n",
       "AAAAAAAAAAAAAAAAAAAAAAAAAAAAAAAAAAAAAAAAAAAv3aB7AAAAD3RSTlMAEIm7mSJ2q+8y3WZE\n",
       "zVRISQrpAAAACXBIWXMAAA7EAAAOxAGVKw4bAAABn0lEQVQ4y2NgIBY8DmBQSmIgXnkCA3cCjwGx\n",
       "yjdvYGDgmMDwlUjlyQ+ARLwAQx+QEjI2dsWljlHZ2CSAgWEGSDnDfAGG1QwMbBUTWJcr4FCf3skQ\n",
       "VcTAwGckAFHfxsCgrc3AcOQwA6cxEJiiKWfatIGBxwfoSR6QBqB7/jFwKlxgYGDmTsBq/CReIGGw\n",
       "DUhwlgRA/MssWAA0Z8IFFN+tWrVqJYhhKA4kNEGaGFjLBdgSeAoYhDmBRvM98ERSPlcV5luDaUDy\n",
       "HcsEsAYGBqUUAYZJPMCQ5dmwDylMlsJYnAqngeRp7gdIhh0D8TgTXiNE2A/AWDwJIGOm8W1AUh/E\n",
       "BzY/ByHCC2exKoCMOc12YDIo8ALAYswQ9zsi1E9HMKHuF0Ayn1kUPXzCEUzDcHj4wN0ICX8kL3Eh\n",
       "mIfA4b8PJU68gfF7/DCSAAvCeyyg+K1BTcRMoPTjgCxyB8FUB6afErRID/l73xNFQLgG7kFW/7tf\n",
       "JqCnkkr01HPICpoegJExYRtGqmJPSH95AFcOKGOrm4Mu9ty2eQMu9XzFN6yRuAAGXWQSq3LQjQAA\n",
       "AABJRU5ErkJggg==\n",
       "\" style=\"display:inline;vertical-align:middle;\" /></a><br>(see <a class=\"ProveItLink\" href=\"../../../__pv_it/theorems/8ccd3af58361f1b9e1da29f7306c158b3b25b3fc0/dependencies.ipynb\">dependencies</a>)<br>"
      ],
      "text/plain": [
       "<IPython.core.display.HTML object>"
      ]
     },
     "metadata": {},
     "output_type": "display_data"
    }
   ],
   "source": [
    "%proving rational_neg_within_rational_nonpos"
   ]
  },
  {
   "cell_type": "code",
   "execution_count": null,
   "metadata": {},
   "outputs": [],
   "source": []
  }
 ],
 "metadata": {
  "kernelspec": {
   "display_name": "Python 3",
   "language": "python",
   "name": "python3"
  }
 },
 "nbformat": 4,
 "nbformat_minor": 0
}