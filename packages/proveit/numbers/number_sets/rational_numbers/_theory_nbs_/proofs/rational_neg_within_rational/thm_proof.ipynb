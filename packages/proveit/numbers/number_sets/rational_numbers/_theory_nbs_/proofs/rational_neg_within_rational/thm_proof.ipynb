{
 "cells": [
  {
   "cell_type": "markdown",
   "metadata": {},
   "source": [
    "Proof of <a class=\"ProveItLink\" href=\"../../../../../../_theory_nbs_/theory.ipynb\">proveit</a>.<a class=\"ProveItLink\" href=\"../../../../../_theory_nbs_/theory.ipynb\">numbers</a>.<a class=\"ProveItLink\" href=\"../../../../_theory_nbs_/theory.ipynb\">number_sets</a>.<a class=\"ProveItLink\" href=\"../../theory.ipynb\">rational_numbers</a>.<a class=\"ProveItLink\" href=\"../../theorems.ipynb#rational_neg_within_rational\">rational_neg_within_rational</a> theorem\n",
    "========"
   ]
  },
  {
   "cell_type": "code",
   "execution_count": 1,
   "metadata": {},
   "outputs": [],
   "source": [
    "import proveit\n",
    "theory = proveit.Theory() # the theorem's theory"
   ]
  },
  {
   "cell_type": "code",
   "execution_count": 2,
   "metadata": {},
   "outputs": [
    {
     "data": {
      "text/html": [
       "With these <a href=\"allowed_presumptions.txt\">allowed</a>/<a href=\"disallowed_presumptions.txt\">disallowed</a> theorem/theory presumptions (e.g., to avoid circular dependencies), we begin our proof of<br><strong id=\"rational_neg_within_rational\">rational_neg_within_rational:</strong> <a class=\"ProveItLink\" href=\"../../../__pv_it/theorems/dd0a5250d12b4032cf99f2ef2367bf7579bd45e70/expr.ipynb\"><img src=\"data:image/png;base64,iVBORw0KGgoAAAANSUhEUgAAAEoAAAASBAMAAAAOI1XYAAAAMFBMVEX///8AAAAAAAAAAAAAAAAA\n",
       "AAAAAAAAAAAAAAAAAAAAAAAAAAAAAAAAAAAAAAAAAAAv3aB7AAAAD3RSTlMAEIm7mSJ2q+8y3WZE\n",
       "zVRISQrpAAAACXBIWXMAAA7EAAAOxAGVKw4bAAAA6klEQVQoz2NgYBAyNnZlwAVgkmwVE1iXK+BQ\n",
       "BJfU1mZgOHKYgdMYCEzRVUElGTgVLjAwMHMnYDUKLsksWMDAwDThAoo9VqtWrZoAZMAlhTmBxvA9\n",
       "8EQ24VIAlAWXnMSzgYGBZ8M+JFVSMEUIyWPcD4C6E14jqaqBs+CSQXxg5TlIqhBuhEsyQ6x2RHJW\n",
       "AZwJl2QWRfcjK5IqmCQPJEgeINm4AM5CSHoDg/f4YeTg8kZiwiSZQFHlgKyK9wCciZAM+XvfEyVe\n",
       "GM0PwtkIyUr0WORRhsYQsiR7QvrLA7gSGELyuW3zBpzpECQJAJ3iUygb5/2mAAAAAElFTkSuQmCC\n",
       "\" style=\"display:inline;vertical-align:middle;\" /></a><br>(see <a class=\"ProveItLink\" href=\"../../../__pv_it/theorems/b8475e73957d5aa8255c8367046fef2fb9e8011c0/dependencies.ipynb\">dependencies</a>)<br>"
      ],
      "text/plain": [
       "<IPython.core.display.HTML object>"
      ]
     },
     "metadata": {},
     "output_type": "display_data"
    },
    {
     "name": "stdout",
     "output_type": "stream",
     "text": [
      "rational_neg_within_rational may now be readily provable (assuming required theorems are usable).  Simply execute \"%qed\".\n"
     ]
    }
   ],
   "source": [
    "%proving rational_neg_within_rational"
   ]
  },
  {
   "cell_type": "code",
   "execution_count": null,
   "metadata": {},
   "outputs": [],
   "source": []
  }
 ],
 "metadata": {
  "kernelspec": {
   "display_name": "Python 3",
   "language": "python",
   "name": "python3"
  }
 },
 "nbformat": 4,
 "nbformat_minor": 0
}