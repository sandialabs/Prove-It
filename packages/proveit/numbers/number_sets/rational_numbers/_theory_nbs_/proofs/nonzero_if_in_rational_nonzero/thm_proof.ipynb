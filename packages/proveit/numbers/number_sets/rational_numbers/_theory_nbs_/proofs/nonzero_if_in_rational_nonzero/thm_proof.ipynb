{
 "cells": [
  {
   "cell_type": "markdown",
   "metadata": {},
   "source": [
    "Proof of <a class=\"ProveItLink\" href=\"../../../../../../_theory_nbs_/theory.ipynb\">proveit</a>.<a class=\"ProveItLink\" href=\"../../../../../_theory_nbs_/theory.ipynb\">numbers</a>.<a class=\"ProveItLink\" href=\"../../../../_theory_nbs_/theory.ipynb\">number_sets</a>.<a class=\"ProveItLink\" href=\"../../theory.ipynb\">rational_numbers</a>.<a class=\"ProveItLink\" href=\"../../theorems.ipynb#nonzero_if_in_rational_nonzero\">nonzero_if_in_rational_nonzero</a> theorem\n",
    "========"
   ]
  },
  {
   "cell_type": "code",
   "execution_count": 1,
   "metadata": {},
   "outputs": [],
   "source": [
    "import proveit\n",
    "theory = proveit.Theory() # the theorem's theory"
   ]
  },
  {
   "cell_type": "code",
   "execution_count": 2,
   "metadata": {},
   "outputs": [
    {
     "data": {
      "text/html": [
       "With these <a href=\"allowed_presumptions.txt\">allowed</a>/<a href=\"disallowed_presumptions.txt\">disallowed</a> theorem/theory presumptions (e.g., to avoid circular dependencies), we begin our proof of<br><strong id=\"nonzero_if_in_rational_nonzero\">nonzero_if_in_rational_nonzero:</strong> <a class=\"ProveItLink\" href=\"../../../__pv_it/theorems/eba00205850ae2f5d48855a16c3b39c4b1538ae00/expr.ipynb\"><img src=\"data:image/png;base64,iVBORw0KGgoAAAANSUhEUgAAAIcAAAAXCAMAAAAWX6x7AAAASFBMVEX///8AAAAAAAAAAAAAAAAA\n",
       "AAAAAAAAAAAAAAAAAAAAAAAAAAAAAAAAAAAAAAAAAAAAAAAAAAAAAAAAAAAAAAAAAAAAAAAAAACC\n",
       "gUnDAAAAF3RSTlMAq1RmmUTNIjK7EInv3Xah18O15/Xp87zmPDoAAAAJcEhZcwAADsQAAA7EAZUr\n",
       "DhsAAAJOSURBVEjHvVZZstwgDDRI7KCX3fe/aZAw3sNMysnjgynwIJpWq2Ga/m1zn7LkZSM9/Izx\n",
       "ZtIQ92oda3gMQ6fhZx/2o5QIhQvijdH0efuYoGjH34PfDWylLhbZ01aafCfEhcd04JhRr3YDKMKJ\n",
       "bAq4gJEp/RhHfkHHnvAgoPQsu+faw3II+1wd4xBmT8c0o1A0y+ktY8iFW07P09JDOEUpkj99Pugv\n",
       "dhzCQmKIKAtCfIzDLswaVp+aV3hyzvL9B/erGufUcEjRghX0vXuvKDiAI02X8ipNYTEzHmVHdGw4\n",
       "5EfnTkUyf943oFJbEOyVdlFDbjFQmCinPBs8Rm0ATOPDyxJNN0E9qRBqYJd4QYJeTWDkyIvI73Dk\n",
       "IOc1Izq6TnXTqclLqQCdNYeLzJLjf0YANyVE/PiC1fkcF3/xt3mJckSYp4M+fv5qKlnTH5pztLrV\n",
       "ZbGObiIxAfGJqTuS97p570RbVhY+zgIJ1HAwnHAi2J7JA6EA29+geajLC0z2WT+7Ka7eCrEhYhyV\n",
       "j6/fkPmQNF5SmdQKB+ajPDROd6qO2R8qXvmejcpABWpWg+48VBSMs4er9QKXevGN3aiI9Eke9uoK\n",
       "ERP1fYu5Ko0U13OQpidzyAuOTWZTzE4eb9zDrpwg1pQIrX5bt9Npq5VBg5X9k3vY+Hf3Y2Z5+IO7\n",
       "euanKvmtx8l6kx1vCXhBx+WmNwjNhdz2VIipoFX+Pa9tEZOdDzZW4vv38IrddhcN4mOSGv/uU83R\n",
       "7cNj/JZ0w0tzP6cByUyf2VK+Y8kT+P+772/FfRJdq6yprQAAAABJRU5ErkJggg==\n",
       "\" style=\"display:inline;vertical-align:middle;\" /></a><br>(see <a class=\"ProveItLink\" href=\"../../../__pv_it/theorems/1f5635aa544e6b3c1d6757b01647f4f29b98b96b0/dependencies.ipynb\">dependencies</a>)<br>"
      ],
      "text/plain": [
       "<IPython.core.display.HTML object>"
      ]
     },
     "metadata": {},
     "output_type": "display_data"
    }
   ],
   "source": [
    "%proving nonzero_if_in_rational_nonzero"
   ]
  },
  {
   "cell_type": "code",
   "execution_count": null,
   "metadata": {},
   "outputs": [],
   "source": []
  }
 ],
 "metadata": {
  "kernelspec": {
   "display_name": "Python 3",
   "language": "python",
   "name": "python3"
  }
 },
 "nbformat": 4,
 "nbformat_minor": 0
}