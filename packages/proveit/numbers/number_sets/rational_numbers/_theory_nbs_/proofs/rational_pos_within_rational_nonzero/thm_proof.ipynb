{
 "cells": [
  {
   "cell_type": "markdown",
   "metadata": {},
   "source": [
    "Proof of <a class=\"ProveItLink\" href=\"../../../../../../_theory_nbs_/theory.ipynb\">proveit</a>.<a class=\"ProveItLink\" href=\"../../../../../_theory_nbs_/theory.ipynb\">numbers</a>.<a class=\"ProveItLink\" href=\"../../../../_theory_nbs_/theory.ipynb\">number_sets</a>.<a class=\"ProveItLink\" href=\"../../theory.ipynb\">rational_numbers</a>.<a class=\"ProveItLink\" href=\"../../theorems.ipynb#rational_pos_within_rational_nonzero\">rational_pos_within_rational_nonzero</a> theorem\n",
    "========"
   ]
  },
  {
   "cell_type": "code",
   "execution_count": 1,
   "metadata": {},
   "outputs": [],
   "source": [
    "import proveit\n",
    "theory = proveit.Theory() # the theorem's theory"
   ]
  },
  {
   "cell_type": "code",
   "execution_count": 2,
   "metadata": {},
   "outputs": [
    {
     "data": {
      "text/html": [
       "With these <a href=\"allowed_presumptions.txt\">allowed</a>/<a href=\"disallowed_presumptions.txt\">disallowed</a> theorem/theory presumptions (e.g., to avoid circular dependencies), we begin our proof of<br><strong id=\"rational_pos_within_rational_nonzero\">rational_pos_within_rational_nonzero:</strong> <a class=\"ProveItLink\" href=\"../../../__pv_it/theorems/ccd174367402776e231e9e04abd539dea95068640/expr.ipynb\"><img src=\"data:image/png;base64,iVBORw0KGgoAAAANSUhEUgAAAF4AAAAXCAMAAAC1Wwj4AAAAOVBMVEX///8AAAAAAAAAAAAAAAAA\n",
       "AAAAAAAAAAAAAAAAAAAAAAAAAAAAAAAAAAAAAAAAAAAAAAAAAAAAAAACXHtMAAAAEnRSTlMAEIm7\n",
       "mSJ2q+8y3WZEzVTt5cnMFh2FAAAACXBIWXMAAA7EAAAOxAGVKw4bAAABVUlEQVRIx7VVi5KDIAwE\n",
       "wsNIoHf+/8cWImqr8apMj5lSx8nuJNlkVer7R6v/PIb4Nt6chth+dhfqHb1SBGcx0E8fXL0HLNfk\n",
       "vk5P3BI3VQGGPGthoBzrbtO/AW19hkf5RYVMP8b63odaihuDuUkvAD0zNvrBV42j4XdkWQtOYgBO\n",
       "4sOIvAO5nPYwN2cqzUGj0pJy1fty9ntgzevnt+W1Sgtah5YNLvECvYdxPrg28AjEsIbXwQxcDrac\n",
       "c1YWZXpMZj9kEhC2hS1rZTWXSK3J5T9mkV6PTurNHpj9cU79ylmSyVHc2kDqCjAJO2xWzpKEJ1HF\n",
       "pK4AM4kL+tpC0e02xW4CWQ53nBzJpTqAs0ls45vlmLEXWGVcli+cOqiNnUCubbGOc5dP1Ank3top\n",
       "pcniH9YIgXQPsA02bn5zJhHsTOEicA7zxV4z0v2P0zVgDpCGjx58F/gETA0MFD9IQ8kAAAAASUVO\n",
       "RK5CYII=\n",
       "\" style=\"display:inline;vertical-align:middle;\" /></a><br>(see <a class=\"ProveItLink\" href=\"../../../__pv_it/theorems/6b4aa200edb335dd50d8a7ee781d982ff9241e770/dependencies.ipynb\">dependencies</a>)<br>"
      ],
      "text/plain": [
       "<IPython.core.display.HTML object>"
      ]
     },
     "metadata": {},
     "output_type": "display_data"
    }
   ],
   "source": [
    "%proving rational_pos_within_rational_nonzero"
   ]
  },
  {
   "cell_type": "code",
   "execution_count": null,
   "metadata": {},
   "outputs": [],
   "source": []
  }
 ],
 "metadata": {
  "kernelspec": {
   "display_name": "Python 3",
   "language": "python",
   "name": "python3"
  }
 },
 "nbformat": 4,
 "nbformat_minor": 0
}