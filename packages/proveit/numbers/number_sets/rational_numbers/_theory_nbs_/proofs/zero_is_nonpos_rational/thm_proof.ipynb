{
 "cells": [
  {
   "cell_type": "markdown",
   "metadata": {},
   "source": [
    "Proof of <a class=\"ProveItLink\" href=\"../../../../../../_theory_nbs_/theory.ipynb\">proveit</a>.<a class=\"ProveItLink\" href=\"../../../../../_theory_nbs_/theory.ipynb\">numbers</a>.<a class=\"ProveItLink\" href=\"../../../../_theory_nbs_/theory.ipynb\">number_sets</a>.<a class=\"ProveItLink\" href=\"../../theory.ipynb\">rational_numbers</a>.<a class=\"ProveItLink\" href=\"../../theorems.ipynb#zero_is_nonpos_rational\">zero_is_nonpos_rational</a> theorem\n",
    "========"
   ]
  },
  {
   "cell_type": "code",
   "execution_count": 1,
   "metadata": {},
   "outputs": [],
   "source": [
    "import proveit\n",
    "theory = proveit.Theory() # the theorem's theory"
   ]
  },
  {
   "cell_type": "code",
   "execution_count": 2,
   "metadata": {},
   "outputs": [
    {
     "data": {
      "text/html": [
       "With these <a href=\"allowed_presumptions.txt\">allowed</a>/<a href=\"disallowed_presumptions.txt\">disallowed</a> theorem/theory presumptions (e.g., to avoid circular dependencies), we begin our proof of<br><strong id=\"zero_is_nonpos_rational\">zero_is_nonpos_rational:</strong> <a class=\"ProveItLink\" href=\"../../../__pv_it/theorems/5bf0617bbc447f0ebcc541def4825dc06c0933ea0/expr.ipynb\"><img src=\"data:image/png;base64,iVBORw0KGgoAAAANSUhEUgAAAEgAAAAWBAMAAACRR8fzAAAAMFBMVEX///8AAAAAAAAAAAAAAAAA\n",
       "AAAAAAAAAAAAAAAAAAAAAAAAAAAAAAAAAAAAAAAAAAAv3aB7AAAAD3RSTlMAiXaZIs1UEN1mu6sy\n",
       "RO+L2jdBAAAACXBIWXMAAA7EAAAOxAGVKw4bAAABb0lEQVQoz2NgwAuyHBgEFRkIqFFg4FTgXYBX\n",
       "zawJDAx8Bxi+4FOjlQAk/AsYnmGTZJdatdiBgeEcSA3D+QKGTgYGRiETNEXabxg8NjIwsC0sgCh6\n",
       "xMAQxlDhgKKGceIEBl5boGt5QaqA1n1j4GxgYER1/kFWILFgEpDg2ewAcTjXBga272BJphUdrSB6\n",
       "eTWQkAGpZGDZXcCkwLuBgd+AgecbSIA3qADi7AWHgGQa8wGwKgYGQeUChnqgop8gvitEDQOPwE0g\n",
       "eZMzAckF/gIMPJ9AjBCoAK/CNCB5iG0CmqKPIEYAVIBFIBNkEtOFU6uAAOLxegEGXpBJPC86Ojq6\n",
       "QCJQNxUgmQR0ONs3sHthIsu94b6DAa4FDJzgIGiAiVwEh9M0ZEWcDxiYwc5Rgokwg0J8L2oAtzHU\n",
       "gYOEFe5naWDcbUaNzmKhPZBA3HUd5j/70M8HcCQfXilItDAwcB+YxEAYbGLadpagIrZdcSuRuAD9\n",
       "O1sq/s+YVQAAAABJRU5ErkJggg==\n",
       "\" style=\"display:inline;vertical-align:middle;\" /></a><br>(see <a class=\"ProveItLink\" href=\"../../../__pv_it/theorems/1949c401fc4fa473b84396826a740858a65828350/dependencies.ipynb\">dependencies</a>)<br>"
      ],
      "text/plain": [
       "<IPython.core.display.HTML object>"
      ]
     },
     "metadata": {},
     "output_type": "display_data"
    },
    {
     "name": "stdout",
     "output_type": "stream",
     "text": [
      "zero_is_nonpos_rational may now be readily provable (assuming required theorems are usable).  Simply execute \"%qed\".\n"
     ]
    }
   ],
   "source": [
    "%proving zero_is_nonpos_rational"
   ]
  },
  {
   "cell_type": "code",
   "execution_count": null,
   "metadata": {},
   "outputs": [],
   "source": []
  }
 ],
 "metadata": {
  "kernelspec": {
   "display_name": "Python 3",
   "language": "python",
   "name": "python3"
  }
 },
 "nbformat": 4,
 "nbformat_minor": 0
}