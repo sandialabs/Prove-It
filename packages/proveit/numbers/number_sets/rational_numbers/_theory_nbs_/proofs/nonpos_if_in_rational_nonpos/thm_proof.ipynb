{
 "cells": [
  {
   "cell_type": "markdown",
   "metadata": {},
   "source": [
    "Proof of <a class=\"ProveItLink\" href=\"../../../../../../_theory_nbs_/theory.ipynb\">proveit</a>.<a class=\"ProveItLink\" href=\"../../../../../_theory_nbs_/theory.ipynb\">numbers</a>.<a class=\"ProveItLink\" href=\"../../../../_theory_nbs_/theory.ipynb\">number_sets</a>.<a class=\"ProveItLink\" href=\"../../theory.ipynb\">rational_numbers</a>.<a class=\"ProveItLink\" href=\"../../theorems.ipynb#nonpos_if_in_rational_nonpos\">nonpos_if_in_rational_nonpos</a> theorem\n",
    "========"
   ]
  },
  {
   "cell_type": "code",
   "execution_count": 1,
   "metadata": {},
   "outputs": [],
   "source": [
    "import proveit\n",
    "theory = proveit.Theory() # the theorem's theory"
   ]
  },
  {
   "cell_type": "code",
   "execution_count": 2,
   "metadata": {},
   "outputs": [
    {
     "data": {
      "text/html": [
       "With these <a href=\"allowed_presumptions.txt\">allowed</a>/<a href=\"disallowed_presumptions.txt\">disallowed</a> theorem/theory presumptions (e.g., to avoid circular dependencies), we begin our proof of<br><strong id=\"nonpos_if_in_rational_nonpos\">nonpos_if_in_rational_nonpos:</strong> <a class=\"ProveItLink\" href=\"../../../__pv_it/theorems/9d3c8242a971da91695856f290d4feef1a567b260/expr.ipynb\"><img src=\"data:image/png;base64,iVBORw0KGgoAAAANSUhEUgAAAIcAAAAXBAMAAADTr0F6AAAAMFBMVEX///8AAAAAAAAAAAAAAAAA\n",
       "AAAAAAAAAAAAAAAAAAAAAAAAAAAAAAAAAAAAAAAAAAAv3aB7AAAAD3RSTlMAq1RmmUTNIjK7EInv\n",
       "3XZ/CtNrAAAACXBIWXMAAA7EAAAOxAGVKw4bAAACTklEQVQ4y51Uz2vTcBT/LFna/OhCQZzzZGB3\n",
       "m0PVi67q2jHYwf4FWryoO3Wwg6KW6h+wH8IO9SAZEy/+KhMcQ4TedIowUOlgVKJTPAgyRPEgiu8l\n",
       "TZpmKZk+SPJe8t4n733ee19gd5Ls+aWMXcuHnl9O05VmZTgOQ6hHvn7ysQzdBApsnIsDuRMGdSIS\n",
       "htoEJoFrXPBcHMhotym+sfhxDFgFsoRGpmbEgTS6LH3TwcA8kLGQsiBSSYlYSkpB6+67tvIdmDWQ\n",
       "IIRXrdbLOJB+5nXqy4MqG7dft9+qDGJCo96MAzejAtWAzj+TmjjA+uJZf3Z+EYgNkdKcQjIdgSEO\n",
       "oXLQG6QBIu2eiUHW+7pB6hCIMMXSisEEVk/s47rHuXceFSnyOAVsOsa0Xw6BnLEhbxNpts/rzP4F\n",
       "XK7jkYHpFfJp4EUAZA3JHzuJzRiQuHWlEY8++jtWDCwdSb7lbNex0SlH/QNxO9TiGpCzIKyTujzJ\n",
       "6COHsEVP+ToNsg5xr5PJs3aUYkP9BqUUGrajwBgZPKpXiFe1Kf9U2RCXwCAQ9lCKPifcxVvIdRZI\n",
       "OO8mqD5v97+Put9/XG5IJlwAXeOUCqgMe92RKePFr5lieAom3lPsQNFnTk+LF2q1G5JbTlgccnLR\n",
       "k3jVUx6WFVt2snWJzefzhaBjlm+DMcuZKs9W3cGdSWPZ3OGocGHudtxvsWx0zjz/CJBGaZYu8Wqo\n",
       "T8eGInaAPB//jjyZlMD5eJiHtbZAnbhoRrhWei7n54A+4Wsns5/wf6Kt+VnJW9V/DP4LWPaNx214\n",
       "NXcAAAAASUVORK5CYII=\n",
       "\" style=\"display:inline;vertical-align:middle;\" /></a><br>(see <a class=\"ProveItLink\" href=\"../../../__pv_it/theorems/8e9636276283bcaee4d8b1961409a6df1721ee780/dependencies.ipynb\">dependencies</a>)<br>"
      ],
      "text/plain": [
       "<IPython.core.display.HTML object>"
      ]
     },
     "metadata": {},
     "output_type": "display_data"
    },
    {
     "name": "stdout",
     "output_type": "stream",
     "text": [
      "nonpos_if_in_rational_nonpos may now be readily provable (assuming required theorems are usable).  Simply execute \"%qed\".\n"
     ]
    }
   ],
   "source": [
    "%proving nonpos_if_in_rational_nonpos"
   ]
  },
  {
   "cell_type": "code",
   "execution_count": null,
   "metadata": {},
   "outputs": [],
   "source": []
  }
 ],
 "metadata": {
  "kernelspec": {
   "display_name": "Python 3",
   "language": "python",
   "name": "python3"
  }
 },
 "nbformat": 4,
 "nbformat_minor": 0
}