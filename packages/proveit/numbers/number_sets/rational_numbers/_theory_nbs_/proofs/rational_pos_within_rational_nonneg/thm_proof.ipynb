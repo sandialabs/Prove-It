{
 "cells": [
  {
   "cell_type": "markdown",
   "metadata": {},
   "source": [
    "Proof of <a class=\"ProveItLink\" href=\"../../../../../../_theory_nbs_/theory.ipynb\">proveit</a>.<a class=\"ProveItLink\" href=\"../../../../../_theory_nbs_/theory.ipynb\">numbers</a>.<a class=\"ProveItLink\" href=\"../../../../_theory_nbs_/theory.ipynb\">number_sets</a>.<a class=\"ProveItLink\" href=\"../../theory.ipynb\">rational_numbers</a>.<a class=\"ProveItLink\" href=\"../../theorems.ipynb#rational_pos_within_rational_nonneg\">rational_pos_within_rational_nonneg</a> theorem\n",
    "========"
   ]
  },
  {
   "cell_type": "code",
   "execution_count": 1,
   "metadata": {},
   "outputs": [],
   "source": [
    "import proveit\n",
    "theory = proveit.Theory() # the theorem's theory"
   ]
  },
  {
   "cell_type": "code",
   "execution_count": 2,
   "metadata": {},
   "outputs": [
    {
     "data": {
      "text/html": [
       "With these <a href=\"allowed_presumptions.txt\">allowed</a>/<a href=\"disallowed_presumptions.txt\">disallowed</a> theorem/theory presumptions (e.g., to avoid circular dependencies), we begin our proof of<br><strong id=\"rational_pos_within_rational_nonneg\">rational_pos_within_rational_nonneg:</strong> <a class=\"ProveItLink\" href=\"../../../__pv_it/theorems/e7ce1577b19f977fcb55e9c622f1d4599adb96da0/expr.ipynb\"><img src=\"data:image/png;base64,iVBORw0KGgoAAAANSUhEUgAAAF4AAAAWBAMAAAC79zZcAAAAMFBMVEX///8AAAAAAAAAAAAAAAAA\n",
       "AAAAAAAAAAAAAAAAAAAAAAAAAAAAAAAAAAAAAAAAAAAv3aB7AAAAD3RSTlMAEIm7mSJ2q+8y3WZE\n",
       "zVRISQrpAAAACXBIWXMAAA7EAAAOxAGVKw4bAAABqklEQVQ4y2NgIAZMPgCmlJJQRB1wqmdUfgAk\n",
       "uRN4DJBFDfDYkLyBgYFjAsNXYtUzbE5giBdg6AOyhIyNXXGpZ1Q2NgmAMHcEzBdgWM3AwFYxgXW5\n",
       "Ag716Z0MUUVglpANA1B9GwODtjYDw5HDDCzGxs3G1mjKmTZtYODxAZkTUskAcs8/Bk6FCwwMzNwJ\n",
       "WM2fxAsS3sbAEA5UDvEvs2AB0JwJF5DVJ69atWoliGEoDiQ0eRnEwR5kS+ApYBDmBBrN98ATSf1c\n",
       "VZhvDaYByXcsEwQhfKUUAYZJPMCQ5dmwD6GecSnMHk6F00DyNPcDJCceA/E4E14j4pf9AEyOJwFk\n",
       "zDS+DUjqg/jA5ucgRHjhLFYFkDGn2Q5MNgYCSDwwQ9zviFA/HSnGIe4XQDKfWRQePlAQjmAahkPC\n",
       "BwnwQMIfyUtcCOYhcPjvQ4kTb2D8Hj+MJMCC8B4LKH5rUOORCZR+UJL+HQRTHZh+StAiPeTvfU8U\n",
       "AeEauAdZ/e9+mYCeSirBqQcJHLKCpgdgZEzYhpGq2BPSXx7AlU/K2OrmoIs9t23egEs9X/EN5FQO\n",
       "AFToZbC4cdXkAAAAAElFTkSuQmCC\n",
       "\" style=\"display:inline;vertical-align:middle;\" /></a><br>(see <a class=\"ProveItLink\" href=\"../../../__pv_it/theorems/0b96a18bc8b4d3fa4bedca3f195ee0cab731702f0/dependencies.ipynb\">dependencies</a>)<br>"
      ],
      "text/plain": [
       "<IPython.core.display.HTML object>"
      ]
     },
     "metadata": {},
     "output_type": "display_data"
    }
   ],
   "source": [
    "%proving rational_pos_within_rational_nonneg"
   ]
  },
  {
   "cell_type": "code",
   "execution_count": null,
   "metadata": {},
   "outputs": [],
   "source": []
  }
 ],
 "metadata": {
  "kernelspec": {
   "display_name": "Python 3",
   "language": "python",
   "name": "python3"
  }
 },
 "nbformat": 4,
 "nbformat_minor": 0
}