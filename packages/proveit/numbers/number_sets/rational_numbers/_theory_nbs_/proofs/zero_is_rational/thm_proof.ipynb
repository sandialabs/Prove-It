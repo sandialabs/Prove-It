{
 "cells": [
  {
   "cell_type": "markdown",
   "metadata": {},
   "source": [
    "Proof of <a class=\"ProveItLink\" href=\"../../../../../../_theory_nbs_/theory.ipynb\">proveit</a>.<a class=\"ProveItLink\" href=\"../../../../../_theory_nbs_/theory.ipynb\">numbers</a>.<a class=\"ProveItLink\" href=\"../../../../_theory_nbs_/theory.ipynb\">number_sets</a>.<a class=\"ProveItLink\" href=\"../../theory.ipynb\">rational_numbers</a>.<a class=\"ProveItLink\" href=\"../../theorems.ipynb#zero_is_rational\">zero_is_rational</a> theorem\n",
    "========"
   ]
  },
  {
   "cell_type": "code",
   "execution_count": 1,
   "metadata": {},
   "outputs": [],
   "source": [
    "import proveit\n",
    "theory = proveit.Theory() # the theorem's theory"
   ]
  },
  {
   "cell_type": "code",
   "execution_count": 2,
   "metadata": {},
   "outputs": [
    {
     "data": {
      "text/html": [
       "With these <a href=\"allowed_presumptions.txt\">allowed</a>/<a href=\"disallowed_presumptions.txt\">disallowed</a> theorem/theory presumptions (e.g., to avoid circular dependencies), we begin our proof of<br><strong id=\"zero_is_rational\">zero_is_rational:</strong> <a class=\"ProveItLink\" href=\"../../../__pv_it/theorems/2c49f6d4eef3b08240609dbe76934abc04037ca30/expr.ipynb\"><img src=\"data:image/png;base64,iVBORw0KGgoAAAANSUhEUgAAADQAAAASBAMAAADmo+DzAAAAMFBMVEX///8AAAAAAAAAAAAAAAAA\n",
       "AAAAAAAAAAAAAAAAAAAAAAAAAAAAAAAAAAAAAAAAAAAv3aB7AAAAD3RSTlMAiXaZIs1UEN1mu6sy\n",
       "RO+L2jdBAAAACXBIWXMAAA7EAAAOxAGVKw4bAAABDUlEQVQY02NgwAIKV60yAdGMQiZoMkz7DrB0\n",
       "CwAZYQwVDqhSkpIMDJdvMTBwNjAwLkCR4REIYGDg4lRg4NrAwPYdYs6KjlYQzVW+AWjNgQAGfgMG\n",
       "nm8gEd6gAoiuKh4FBga2BBuGeqDUT5CIK1SG4SDvBKDCCdMY/AUYeD6BREJgdl3iTABaqJAJlvoI\n",
       "EgmASTmygXXpMtQLMPCCdPG86Ojo6AI7A2KXOcgZbCBnsMN9wFUCdSHXAgZOsOMbYFK8EH8lMHA+\n",
       "YGAGW6ME97MlMDRuA0ODoY2h7gBIgDUBJsUICkMDIKNYaA9YgH3XdZic89d4G5Sw45WCBBQQ7AGG\n",
       "IA7AraCdcwGHXPbSVxMAr5g9NeS8CQ8AAAAASUVORK5CYII=\n",
       "\" style=\"display:inline;vertical-align:middle;\" /></a><br>(see <a class=\"ProveItLink\" href=\"../../../__pv_it/theorems/478b56484e99c4824c353d3d9c876815ee6cca880/dependencies.ipynb\">dependencies</a>)<br>"
      ],
      "text/plain": [
       "<IPython.core.display.HTML object>"
      ]
     },
     "metadata": {},
     "output_type": "display_data"
    },
    {
     "name": "stdout",
     "output_type": "stream",
     "text": [
      "zero_is_rational may now be readily provable (assuming required theorems are usable).  Simply execute \"%qed\".\n"
     ]
    }
   ],
   "source": [
    "%proving zero_is_rational"
   ]
  },
  {
   "cell_type": "code",
   "execution_count": null,
   "metadata": {},
   "outputs": [],
   "source": []
  }
 ],
 "metadata": {
  "kernelspec": {
   "display_name": "Python 3",
   "language": "python",
   "name": "python3"
  }
 },
 "nbformat": 4,
 "nbformat_minor": 0
}