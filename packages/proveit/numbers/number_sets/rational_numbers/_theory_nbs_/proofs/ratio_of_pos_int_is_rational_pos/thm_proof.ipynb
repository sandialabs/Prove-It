{
 "cells": [
  {
   "cell_type": "markdown",
   "metadata": {},
   "source": [
    "Proof of <a class=\"ProveItLink\" href=\"../../../../../../_theory_nbs_/theory.ipynb\">proveit</a>.<a class=\"ProveItLink\" href=\"../../../../../_theory_nbs_/theory.ipynb\">numbers</a>.<a class=\"ProveItLink\" href=\"../../../../_theory_nbs_/theory.ipynb\">number_sets</a>.<a class=\"ProveItLink\" href=\"../../theory.ipynb\">rational_numbers</a>.<a class=\"ProveItLink\" href=\"../../theorems.ipynb#ratio_of_pos_int_is_rational_pos\">ratio_of_pos_int_is_rational_pos</a> theorem\n",
    "========"
   ]
  },
  {
   "cell_type": "code",
   "execution_count": 1,
   "metadata": {},
   "outputs": [],
   "source": [
    "import proveit\n",
    "theory = proveit.Theory() # the theorem's theory"
   ]
  },
  {
   "cell_type": "code",
   "execution_count": 2,
   "metadata": {},
   "outputs": [
    {
     "data": {
      "text/html": [
       "With these <a href=\"allowed_presumptions.txt\">allowed</a>/<a href=\"disallowed_presumptions.txt\">disallowed</a> theorem/theory presumptions (e.g., to avoid circular dependencies), we begin our proof of<br><strong id=\"ratio_of_pos_int_is_rational_pos\">ratio_of_pos_int_is_rational_pos:</strong> <a class=\"ProveItLink\" href=\"../../../__pv_it/theorems/c6b893771beb06b477e6a6f8443361b1615e7cd90/expr.ipynb\"><img src=\"data:image/png;base64,iVBORw0KGgoAAAANSUhEUgAAAKoAAAAmBAMAAACmKh0SAAAAMFBMVEX///8AAAAAAAAAAAAAAAAA\n",
       "AAAAAAAAAAAAAAAAAAAAAAAAAAAAAAAAAAAAAAAAAAAv3aB7AAAAD3RSTlMAq1RmmUTNIjK7EInv\n",
       "3XZ/CtNrAAAACXBIWXMAAA7EAAAOxAGVKw4bAAADVElEQVRIx5VXXWjTUBQ+pvlb2mXFPxiDERRf\n",
       "Nexh4A+14ib+oBb7IKiwPojiFOlefHKsCj5tbsHtwUyF7nFs0vqDbnua+uBAJj6IQ6WQvqhPMurE\n",
       "MWF6702TJlmT9F7ISZp78nF+vnPOLUDji1UaUJJ6gW4dQpfQ9t0I1rqbpwKNZJC4kG1aC1GLU6EO\n",
       "ISOkN8B+CNG7R4V6FYd2GZqLIXrTNCFgsOcxDQqpsKTShIDYWDDgYAAekcIfCtQR7FhBge1M1k+l\n",
       "ybw9oEBtJd8ZzEcWQlAPUKD+Ihxvn+n7sYH4s/pY1oE6oAAJ7c5wUNE/WuUF6G9zoDYnoRvfLzdQ\n",
       "A8t+O9H9KnDdGhzTH+q6ipOWgVs4a1o46qaM384gj4SWqNkqLwOPUhttoG3ENrBQflT6hO/jE0jM\n",
       "8DVUZhUiyGa+gWS1eEuKu27WkKQNI7mDzdmoYgVgsVR61wiq6nlxo1qYYjGNZDqi2KgSostR5INv\n",
       "ImqPA94oWRnmjA4khxnVqi2AdYA+EOLBJWiWlhfVyp5QxLxMy4728BeZnY/aL8Qr1Yf+E6nIKxdq\n",
       "D1H6hxfhmIgiV/qMn6pxdXSqFZQxw5EsTGaxrKeY+BwcD7RVstk43mdxwIEKmUTt9wK6ulA2mQQL\n",
       "xWjXya5u3wjYzfs84WuHYwvFFZ7i+TWVeInNXC/nZZxs5vZZo+iydcDLgZ928HFtbdM8LeMmSpa0\n",
       "ROpc/iInJwmRc3O73KgF7xDkbeOfoD6w1bEjVHAtIo/ZpDiPi0ONZNImKitrLtRY0tupWs9ZKKcv\n",
       "reScjei39U1KxvSK5dh4p67rCpOTihkXX3nTxcnFWnHNmhWL7UpsmEXEv2zTPkSNFogpg6atcMbt\n",
       "Mjtv3i/W43W7vPmOo3asRMayI+n8FDTn9yL+4r6XAtldG5GqAZW6k7L12qhjJFhfcod3P4MhRTxl\n",
       "gHAfH0BQPbpRJROOW6NuGWZWp3S93nAec3sXsHpc45ILPB6YM45vL4c24xfu0AXqmqeLQq8UOu5f\n",
       "U8zYKGlSe/LwPkRRnqc5Z+EeAUdInwueRQoNaicWX4GrhOh9ozoT8iqhKxvCLeEtFaq0hMQqTKvB\n",
       "ao+pAmDOvy1V3vqvUcr/BQJqTBPPQ0yVMAH/A7zExlQOI1TWAAAAAElFTkSuQmCC\n",
       "\" style=\"display:inline;vertical-align:middle;\" /></a><br>(see <a class=\"ProveItLink\" href=\"../../../__pv_it/theorems/5100b2b5f207a197062da2ee0ee73ff6b409c1450/dependencies.ipynb\">dependencies</a>)<br>"
      ],
      "text/plain": [
       "<IPython.core.display.HTML object>"
      ]
     },
     "metadata": {},
     "output_type": "display_data"
    },
    {
     "name": "stdout",
     "output_type": "stream",
     "text": [
      "ratio_of_pos_int_is_rational_pos may now be readily provable (assuming required theorems are usable).  Simply execute \"%qed\".\n"
     ]
    }
   ],
   "source": [
    "%proving ratio_of_pos_int_is_rational_pos"
   ]
  },
  {
   "cell_type": "code",
   "execution_count": null,
   "metadata": {},
   "outputs": [],
   "source": []
  }
 ],
 "metadata": {
  "kernelspec": {
   "display_name": "Python 3",
   "language": "python",
   "name": "python3"
  }
 },
 "nbformat": 4,
 "nbformat_minor": 0
}