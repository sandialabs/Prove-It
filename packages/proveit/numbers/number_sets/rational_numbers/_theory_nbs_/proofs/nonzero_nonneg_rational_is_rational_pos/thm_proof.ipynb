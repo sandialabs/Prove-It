{
 "cells": [
  {
   "cell_type": "markdown",
   "metadata": {},
   "source": [
    "Proof of <a class=\"ProveItLink\" href=\"../../../../../../_theory_nbs_/theory.ipynb\">proveit</a>.<a class=\"ProveItLink\" href=\"../../../../../_theory_nbs_/theory.ipynb\">numbers</a>.<a class=\"ProveItLink\" href=\"../../../../_theory_nbs_/theory.ipynb\">number_sets</a>.<a class=\"ProveItLink\" href=\"../../theory.ipynb\">rational_numbers</a>.<a class=\"ProveItLink\" href=\"../../theorems.ipynb#nonzero_nonneg_rational_is_rational_pos\">nonzero_nonneg_rational_is_rational_pos</a> theorem\n",
    "========"
   ]
  },
  {
   "cell_type": "code",
   "execution_count": 1,
   "metadata": {},
   "outputs": [],
   "source": [
    "import proveit\n",
    "theory = proveit.Theory() # the theorem's theory"
   ]
  },
  {
   "cell_type": "code",
   "execution_count": 2,
   "metadata": {},
   "outputs": [
    {
     "data": {
      "text/html": [
       "With these <a href=\"allowed_presumptions.txt\">allowed</a>/<a href=\"disallowed_presumptions.txt\">disallowed</a> theorem/theory presumptions (e.g., to avoid circular dependencies), we begin our proof of<br><strong id=\"nonzero_nonneg_rational_is_rational_pos\">nonzero_nonneg_rational_is_rational_pos:</strong> <a class=\"ProveItLink\" href=\"../../../__pv_it/theorems/45e2e721d20cd7b6cd94219e4260ec1d2a0a8eb40/expr.ipynb\"><img src=\"data:image/png;base64,iVBORw0KGgoAAAANSUhEUgAAAMsAAAAaCAMAAAAuR1iLAAAAOVBMVEX///8AAAAAAAAAAAAAAAAA\n",
       "AAAAAAAAAAAAAAAAAAAAAAAAAAAAAAAAAAAAAAAAAAAAAAAAAAAAAAACXHtMAAAAEnRSTlMAq1Rm\n",
       "mUTNIjK7EInv3Xbt5cmRiLwgAAAACXBIWXMAAA7EAAAOxAGVKw4bAAADKUlEQVRYw81YiXacMAz0\n",
       "bflAbfn/j61PMFhkaTdl6/dCNgFkj0YaScvYh5fUf/+umj58dIl3juH6B+v+AyjesO/AwiR+HouT\n",
       "f4A7uLSUpbCwxacL3+mWj0Ox8f6zyCOkNxYeKCyYcagt94x9HIsKtx8NMhRfa6UzBJU5ivlSGfBr\n",
       "Igb4B/NnvS1iEJjpZGzJMZ7YZEzGN+DicSiw+suIcktauzI475vTA3RUBywq/yFbmpjnacHl4oY2\n",
       "eETpHYPGhhBMwYwFS+rF7IElhuex8O4/yzF4hE0SjJ9DTDefp99SzFh04biidP4DitwOo5ckO3xl\n",
       "1yqkcQOQ+OmKqw7xCsUp/fJK4FXogC0KtGQ7Qb13dcPUTX2UI0lUuNuwAUi8ICEZtupIpiToL0qU\n",
       "4tw2k61U5SAwdAme1bSYDgGnKF6qB1RhZNluQ436tNxgf8wXwju+YhFIuAKQO6fz8UNR98awx1yQ\n",
       "fE606G9hqYxnHdWO5iW63a8t0edw9HbWsSMv0Did+hnVtSLYjMJL2UPKLjr9ZEfCLSyV0lyz2Wop\n",
       "LH7Nm8t14ItQtrG+CFLfbSstXTh8kJi7cOz9DIAozyCraKHkTOXF0li6je0QxWt5g3g6BHcVS/63\n",
       "G5yNRKeoet3nmvSbbrXKxsafT4KSAe4sS19RVSyaD8XoIl+6jdpmuB+lzahVcTl1fLUmMIeZljGb\n",
       "DOH50PsxWmZkb+049MjKmcc2Ld/5QBaY59sWScekpbF0G+19OVT4iKQvPUcUh3bGc6en/LZqNWZV\n",
       "cNHanYU46tpxSlN86gTTpxh7PUp0G4c0rjG2CmK/5tb1nB/u0MN0l18OKkaedc1WxmEnfMh9q+rS\n",
       "X2HZbJQY+/mrtbJk7g99Mr/VQvHkUi5AU5J85jHaVj/3LgCKj8Or4cbNNtjQhJd01lM93mPxZgsl\n",
       "uDORGuDkZFsrWQuXdbDL0qIMh9vj6mbj2BilWkmUuJaBwazLe/3gQg1f0gwDqW5hBi9HTkfYKEX4\n",
       "X8777MW8T416SkiF+j6WbuPGQcW3tOf0HBmiI9gClHCfl25D3Jka3/l+bHfetzb5z39XMK/ffvUZ\n",
       "FuZG9XwAAAAASUVORK5CYII=\n",
       "\" style=\"display:inline;vertical-align:middle;\" /></a><br>(see <a class=\"ProveItLink\" href=\"../../../__pv_it/theorems/1bdfc2680a5fcca9319559d67ddbbcb9ee5c366d0/dependencies.ipynb\">dependencies</a>)<br>"
      ],
      "text/plain": [
       "<IPython.core.display.HTML object>"
      ]
     },
     "metadata": {},
     "output_type": "display_data"
    },
    {
     "name": "stdout",
     "output_type": "stream",
     "text": [
      "nonzero_nonneg_rational_is_rational_pos may now be readily provable (assuming required theorems are usable).  Simply execute \"%qed\".\n"
     ]
    }
   ],
   "source": [
    "%proving nonzero_nonneg_rational_is_rational_pos"
   ]
  },
  {
   "cell_type": "code",
   "execution_count": null,
   "metadata": {},
   "outputs": [],
   "source": []
  }
 ],
 "metadata": {
  "kernelspec": {
   "display_name": "Python 3",
   "language": "python",
   "name": "python3"
  }
 },
 "nbformat": 4,
 "nbformat_minor": 0
}