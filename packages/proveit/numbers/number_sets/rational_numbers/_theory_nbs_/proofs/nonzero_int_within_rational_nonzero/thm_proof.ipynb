{
 "cells": [
  {
   "cell_type": "markdown",
   "metadata": {},
   "source": [
    "Proof of <a class=\"ProveItLink\" href=\"../../../../../../_theory_nbs_/theory.ipynb\">proveit</a>.<a class=\"ProveItLink\" href=\"../../../../../_theory_nbs_/theory.ipynb\">numbers</a>.<a class=\"ProveItLink\" href=\"../../../../_theory_nbs_/theory.ipynb\">number_sets</a>.<a class=\"ProveItLink\" href=\"../../theory.ipynb\">rational_numbers</a>.<a class=\"ProveItLink\" href=\"../../theorems.ipynb#nonzero_int_within_rational_nonzero\">nonzero_int_within_rational_nonzero</a> theorem\n",
    "========"
   ]
  },
  {
   "cell_type": "code",
   "execution_count": 1,
   "metadata": {},
   "outputs": [],
   "source": [
    "import proveit\n",
    "theory = proveit.Theory() # the theorem's theory"
   ]
  },
  {
   "cell_type": "code",
   "execution_count": 2,
   "metadata": {},
   "outputs": [
    {
     "data": {
      "text/html": [
       "With these <a href=\"allowed_presumptions.txt\">allowed</a>/<a href=\"disallowed_presumptions.txt\">disallowed</a> theorem/theory presumptions (e.g., to avoid circular dependencies), we begin our proof of<br><strong id=\"nonzero_int_within_rational_nonzero\">nonzero_int_within_rational_nonzero:</strong> <a class=\"ProveItLink\" href=\"../../../__pv_it/theorems/4a33a44dc60827d8c0d211d8b91dcd71c1e457d50/expr.ipynb\"><img src=\"data:image/png;base64,iVBORw0KGgoAAAANSUhEUgAAAGQAAAAXCAMAAADKihoJAAAAOVBMVEX///8AAAAAAAAAAAAAAAAA\n",
       "AAAAAAAAAAAAAAAAAAAAAAAAAAAAAAAAAAAAAAAAAAAAAAAAAAAAAAACXHtMAAAAEnRSTlMAVM3v\n",
       "u91mdqsymYkiEETt5cn1eqECAAAACXBIWXMAAA7EAAAOxAGVKw4bAAABl0lEQVRIx7VVCXLDIAzk\n",
       "kLkEtOX/j604HCcOsj1uo0nwjAwra1cSQjCWxB/tAgDmtqLFmzEuAERXV2OFyHArxhUAF+uqPS0l\n",
       "3glyASC3HGOpvGp5I8YeQCpdtIJlAW2ECFDti/5G+LZnMacSYz0T+gfPASy4mpRqv2624/Y92p7E\n",
       "sK6yEhe3SfwGEMJw48pLGlL1bMsJXWiwQebwkPgdoElE7v6mZvv9Ay3bS8J7XBmAVkxzgNY0wYtG\n",
       "WjvmHlnXCnQv1JB2zdbNAlIaO9CPcAwAuX3Yjm1UoA1PnesV7tOi/P0QTcr6rTwAuR9vJCt0WuKM\n",
       "rTzKj55G8gASG53dFN9gedIQtiPXeFZIwwM8l6/MbJDZ6YgduWdiMwtg5Rhnx4PTu5n3VRMWgbSL\n",
       "8DRwjmfeW5AU99U1pdoP9FSO225hptTWJ2zfUu3mXr5uOQ4SzNw7Ot4d3ApUu6pSGUGeXR1qqimu\n",
       "syvwQ1mD0jQEaBTD2S2YwOWJtDEUpUrw4p8sI+zGyiqrseLT5ixNfOnzZ6NIV1ln7rdfnZAOHY0Q\n",
       "8wYAAAAASUVORK5CYII=\n",
       "\" style=\"display:inline;vertical-align:middle;\" /></a><br>(see <a class=\"ProveItLink\" href=\"../../../__pv_it/theorems/53df03c3b5df3559ed12ac509d2dcf0d900674210/dependencies.ipynb\">dependencies</a>)<br>"
      ],
      "text/plain": [
       "<IPython.core.display.HTML object>"
      ]
     },
     "metadata": {},
     "output_type": "display_data"
    }
   ],
   "source": [
    "%proving nonzero_int_within_rational_nonzero"
   ]
  },
  {
   "cell_type": "code",
   "execution_count": null,
   "metadata": {},
   "outputs": [],
   "source": []
  }
 ],
 "metadata": {
  "kernelspec": {
   "display_name": "Python 3",
   "language": "python",
   "name": "python3"
  }
 },
 "nbformat": 4,
 "nbformat_minor": 0
}