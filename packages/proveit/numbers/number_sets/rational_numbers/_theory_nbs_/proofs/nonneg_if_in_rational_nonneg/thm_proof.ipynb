{
 "cells": [
  {
   "cell_type": "markdown",
   "metadata": {},
   "source": [
    "Proof of <a class=\"ProveItLink\" href=\"../../../../../../_theory_nbs_/theory.ipynb\">proveit</a>.<a class=\"ProveItLink\" href=\"../../../../../_theory_nbs_/theory.ipynb\">numbers</a>.<a class=\"ProveItLink\" href=\"../../../../_theory_nbs_/theory.ipynb\">number_sets</a>.<a class=\"ProveItLink\" href=\"../../theory.ipynb\">rational_numbers</a>.<a class=\"ProveItLink\" href=\"../../theorems.ipynb#nonneg_if_in_rational_nonneg\">nonneg_if_in_rational_nonneg</a> theorem\n",
    "========"
   ]
  },
  {
   "cell_type": "code",
   "execution_count": 1,
   "metadata": {},
   "outputs": [],
   "source": [
    "import proveit\n",
    "theory = proveit.Theory() # the theorem's theory"
   ]
  },
  {
   "cell_type": "code",
   "execution_count": 2,
   "metadata": {},
   "outputs": [
    {
     "data": {
      "text/html": [
       "With these <a href=\"allowed_presumptions.txt\">allowed</a>/<a href=\"disallowed_presumptions.txt\">disallowed</a> theorem/theory presumptions (e.g., to avoid circular dependencies), we begin our proof of<br><strong id=\"nonneg_if_in_rational_nonneg\">nonneg_if_in_rational_nonneg:</strong> <a class=\"ProveItLink\" href=\"../../../__pv_it/theorems/bbd7c91ce56e4ba1503fc65657f1866daf8a9fa00/expr.ipynb\"><img src=\"data:image/png;base64,iVBORw0KGgoAAAANSUhEUgAAAIcAAAAXBAMAAADTr0F6AAAAMFBMVEX///8AAAAAAAAAAAAAAAAA\n",
       "AAAAAAAAAAAAAAAAAAAAAAAAAAAAAAAAAAAAAAAAAAAv3aB7AAAAD3RSTlMAq1RmmUTNIjK7EInv\n",
       "3XZ/CtNrAAAACXBIWXMAAA7EAAAOxAGVKw4bAAACUklEQVQ4y51Uz2vTcBT/2CxN8k1bisKmXgwM\n",
       "drQ5VL24VV03xR7syaP2JnrKboqzVP+ATYUduoNEBl78VaYoU4TedIqwi3QghegmHkQZongQxfey\n",
       "JI1pS6ZfSPJevu/7+b73+bzvF9jaUPrOWNjyeN935hQ9WTaG4zASjZ6/n65byJjABDtn4kBuhUwz\n",
       "MJOGaAHngMtc8NU4kPGOKZ45vjkKLAF5QrMB3YgDaYadz0884xqQs5GyIVF2yVhKKn+5ox7KN2DW\n",
       "QJIQXrfbr+JABpjXqU/3ap4/ctQtjEFM6KTNMWA+DoQ3k1vYE/w4uZup/EkgDiRKcwpKNrpIlIgp\n",
       "VPf6jZQm0u6YGOyAzPsgDSSIMM3Wy+H1S4eHaP6hxdr5VKQo4gTw1g8aGXJDCeS0A3WDSHMCXmd2\n",
       "zeFiAw9oX7FeFk28DIEsQ/nuE3s8IDZnQGbpKmM+fUQPHhtYOMC5vlFWsNopR/yGtBGRuA4UbCRW\n",
       "yFyklsPtsX1Yo696hRo5Q9+STZk896I1B+IrtEqk2Q4Ck4DErTpNvIqW+kOwIy2AQeQdnGLACat4\n",
       "A4VGpO3Thnjh6b+N1B84pDZlnuUsMrrYzjHVYV8dlTK++SVX7hLxHa1NlwPmMlnpbL1+XfbKiQyX\n",
       "nELvJrrkG/ctzVHdbF1ilWKxOBEOzPNrMOZwpqzZ2mbjzmSxaHYFalzY5um42+ax2rnzgitAHqde\n",
       "ulBzyZ/c2b0bk/7oV8+bSQvdj/u5WetzpMR5s0dote+5+hiyS4F1JP8B/zf05SArda32j4v/ABxT\n",
       "jVZEMDtcAAAAAElFTkSuQmCC\n",
       "\" style=\"display:inline;vertical-align:middle;\" /></a><br>(see <a class=\"ProveItLink\" href=\"../../../__pv_it/theorems/f5d888bafea69f5b0d2e2f849df698b58e513f410/dependencies.ipynb\">dependencies</a>)<br>"
      ],
      "text/plain": [
       "<IPython.core.display.HTML object>"
      ]
     },
     "metadata": {},
     "output_type": "display_data"
    },
    {
     "name": "stdout",
     "output_type": "stream",
     "text": [
      "nonneg_if_in_rational_nonneg may now be readily provable (assuming required theorems are usable).  Simply execute \"%qed\".\n"
     ]
    }
   ],
   "source": [
    "%proving nonneg_if_in_rational_nonneg"
   ]
  },
  {
   "cell_type": "code",
   "execution_count": null,
   "metadata": {},
   "outputs": [],
   "source": []
  }
 ],
 "metadata": {
  "kernelspec": {
   "display_name": "Python 3",
   "language": "python",
   "name": "python3"
  }
 },
 "nbformat": 4,
 "nbformat_minor": 0
}