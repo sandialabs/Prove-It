{
 "cells": [
  {
   "cell_type": "markdown",
   "metadata": {},
   "source": [
    "Proof of <a class=\"ProveItLink\" href=\"../../../../../../_theory_nbs_/theory.ipynb\">proveit</a>.<a class=\"ProveItLink\" href=\"../../../../../_theory_nbs_/theory.ipynb\">numbers</a>.<a class=\"ProveItLink\" href=\"../../../../_theory_nbs_/theory.ipynb\">number_sets</a>.<a class=\"ProveItLink\" href=\"../../theory.ipynb\">rational_numbers</a>.<a class=\"ProveItLink\" href=\"../../theorems.ipynb#zero_set_within_rational_nonpos\">zero_set_within_rational_nonpos</a> theorem\n",
    "========"
   ]
  },
  {
   "cell_type": "code",
   "execution_count": 1,
   "metadata": {},
   "outputs": [],
   "source": [
    "import proveit\n",
    "theory = proveit.Theory() # the theorem's theory"
   ]
  },
  {
   "cell_type": "code",
   "execution_count": 2,
   "metadata": {},
   "outputs": [
    {
     "data": {
      "text/html": [
       "With these <a href=\"allowed_presumptions.txt\">allowed</a>/<a href=\"disallowed_presumptions.txt\">disallowed</a> theorem/theory presumptions (e.g., to avoid circular dependencies), we begin our proof of<br><strong id=\"zero_set_within_rational_nonpos\">zero_set_within_rational_nonpos:</strong> <a class=\"ProveItLink\" href=\"../../../__pv_it/theorems/793ef0bf34ed98a1d19d78461b1613130713b5c40/expr.ipynb\"><img src=\"data:image/png;base64,iVBORw0KGgoAAAANSUhEUgAAAF8AAAAYBAMAAABuPzwSAAAAMFBMVEX///8AAAAAAAAAAAAAAAAA\n",
       "AAAAAAAAAAAAAAAAAAAAAAAAAAAAAAAAAAAAAAAAAAAv3aB7AAAAD3RSTlMAEER2zVSJ3Zki72ar\n",
       "MruaaVGaAAAACXBIWXMAAA7EAAAOxAGVKw4bAAABzElEQVQ4y2NgIBawvmRgS05gIF79YwaGzQx6\n",
       "RKvnfg0k1jLwTwBSjEoQsakTcKtnfgokOD8ycAUAaRNFiCDvOQFMlWLv3nUCpZaCFXxkYN8AdNxH\n",
       "IDvNAmg83wFMk09d4KwB+jQuEaKBy4CBga2AgYElgLESwkID2dkMDBogn+olgp3EHwBRtp2BIQ+b\n",
       "Bt4EB6DF3EBjGe50wjwNUvaGgSFeAKGB+Xl5efkFIINPEOhKtgsOIME5BxmMGXQYIBp+MDDcD4Br\n",
       "4HWDhZccL9Bw1oBeMGcCMOIaIRoYQRo2wDWIw8P3GhMwVJg2bEVxJ4cDA+c3oAYDBuYFEJFDcDll\n",
       "bqAneQ2iUTTM2gDRkMDA+RUi4gCXm8YKtsGI9x0QvISIzXECxjVQgz7QtTKuYC8gooMP4odGlJDr\n",
       "EwB7Oh5oeYoCSIQTSYMkIpQQgkCxdwwM+wUgcQ4EiOhggsRDAIoGUNjsYmBoAbKgnu5GSHYDY1oH\n",
       "LU2DNLAHMK5FxDSLAkISlJYaMDUwttlcQGhgfKMIl53xxb+XAVMDGospD5o0gOAsOCUR0IAMeAxs\n",
       "YhVQk/wCpDjHAmKerNuAIgCLXwYGqQ3E5e8ZR6Hp4CgxqgE9qnUe8JvIggAAAABJRU5ErkJggg==\n",
       "\" style=\"display:inline;vertical-align:middle;\" /></a><br>(see <a class=\"ProveItLink\" href=\"../../../__pv_it/theorems/27456e22f8a25acb2479acc7f1da42f7a061afad0/dependencies.ipynb\">dependencies</a>)<br>"
      ],
      "text/plain": [
       "<IPython.core.display.HTML object>"
      ]
     },
     "metadata": {},
     "output_type": "display_data"
    },
    {
     "name": "stdout",
     "output_type": "stream",
     "text": [
      "zero_set_within_rational_nonpos may now be readily provable (assuming required theorems are usable).  Simply execute \"%qed\".\n"
     ]
    }
   ],
   "source": [
    "%proving zero_set_within_rational_nonpos"
   ]
  },
  {
   "cell_type": "code",
   "execution_count": null,
   "metadata": {},
   "outputs": [],
   "source": []
  }
 ],
 "metadata": {
  "kernelspec": {
   "display_name": "Python 3",
   "language": "python",
   "name": "python3"
  }
 },
 "nbformat": 4,
 "nbformat_minor": 0
}