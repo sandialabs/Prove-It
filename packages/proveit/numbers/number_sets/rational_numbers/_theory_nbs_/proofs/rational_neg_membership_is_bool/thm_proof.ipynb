{
 "cells": [
  {
   "cell_type": "markdown",
   "metadata": {},
   "source": [
    "Proof of <a class=\"ProveItLink\" href=\"../../../../../../_theory_nbs_/theory.ipynb\">proveit</a>.<a class=\"ProveItLink\" href=\"../../../../../_theory_nbs_/theory.ipynb\">numbers</a>.<a class=\"ProveItLink\" href=\"../../../../_theory_nbs_/theory.ipynb\">number_sets</a>.<a class=\"ProveItLink\" href=\"../../theory.ipynb\">rational_numbers</a>.<a class=\"ProveItLink\" href=\"../../theorems.ipynb#rational_neg_membership_is_bool\">rational_neg_membership_is_bool</a> theorem\n",
    "========"
   ]
  },
  {
   "cell_type": "code",
   "execution_count": 1,
   "metadata": {},
   "outputs": [],
   "source": [
    "import proveit\n",
    "theory = proveit.Theory() # the theorem's theory"
   ]
  },
  {
   "cell_type": "code",
   "execution_count": 2,
   "metadata": {},
   "outputs": [
    {
     "data": {
      "text/html": [
       "With these <a href=\"allowed_presumptions.txt\">allowed</a>/<a href=\"disallowed_presumptions.txt\">disallowed</a> theorem/theory presumptions (e.g., to avoid circular dependencies), we begin our proof of<br><strong id=\"rational_neg_membership_is_bool\">rational_neg_membership_is_bool:</strong> <a class=\"ProveItLink\" href=\"../../../__pv_it/theorems/4f9c569d6912fe9905cc551ffba97e044095b7310/expr.ipynb\"><img src=\"data:image/png;base64,iVBORw0KGgoAAAANSUhEUgAAAK8AAAAZBAMAAAC1L2MuAAAAMFBMVEX///8AAAAAAAAAAAAAAAAA\n",
       "AAAAAAAAAAAAAAAAAAAAAAAAAAAAAAAAAAAAAAAAAAAv3aB7AAAAD3RSTlMAq1RmmUTNIjK7EInv\n",
       "3XZ/CtNrAAAACXBIWXMAAA7EAAAOxAGVKw4bAAAC+klEQVRIx71WTWgTQRR+2Wyym6RZQ7FKUEpR\n",
       "bx6MAU8VqUhRq2Ax0INBGy0olKDbiyBEGg8e/KENVA8pVFMQsZc2iqBFKLkIFhFaEEVhIcUfsNSc\n",
       "lJaA4Hv7M7uT7NJcdGBmdt7b+ea99715uwAu7QB2fz9s2no85KKHXKANezbHhWsecqngLn+MPZxp\n",
       "Adhf9VAcchdPYA8lXFXh+eI91V5+blD/XLySXcYYRksAMRLs5hyp4JBzP3PlDVzf4Vg26gvnpOEO\n",
       "AAVRe2l9iQt9GYcTrriR7gQEegtwq4gNLZ8rNQKn4EUIHasD3GgK9hbKh9+uwHeCtNmOYDDRDJz0\n",
       "4TyEOjw00uVUjqNErnPv/9A0nczJaRxeBm3nTIuUKe0DAyb1cWQWDw3yDNCbS07JwKpJXWEMx11i\n",
       "3lIoFX0KXC7ZFm/vxnkN+ztNe8sBb8PuIwNnV568Il+kYVMjl1M4pvzMwYDh2NWSTd7sMlE0iJJj\n",
       "6CEHXKRsIx97lE6RLA9aCRaoJnEcE1hk5Q3guS+czf7po3CiUyMgxTjg84SFIr/qr/sIg0VKKlNe\n",
       "phR22yWD44yTvC8DaO0ovhIqRfiy8B57FG+1DKKx466GTafJjDHzPKwDyxhN7ZMFHApgLOYQUqjy\n",
       "3DGLAdqMKzvDVJMjfFZIGwanTotDgMtR4jdDeVk7+lVtAh5Uw2RclO1L63mcZGt5XZ+WeGD0c5zA\n",
       "niHpihoPWlzHKSvw1Jn+nRDRk4rVGpFuXodtoJkVNQ5YqBpZATkiCh7IlnLNTNB9t0/CaV1ygW18\n",
       "irViq6O8GXnMbIJCGhae43yQFj4939fZ23QamfKoJhwxdkzft+iSTl38lXeUFSOfwvEzxvr74kO9\n",
       "usFhO1oVyXpsI81rjs/0lGamlC/vrLVWrQjMm1faakPWQy6SEVuobtg6lfabbNFU3aw0ZKVG/Law\n",
       "ahtPuesFLMSzE2yx3+vTEnMVt5PLXS18muCjhzyq/t9vnkBB3vsPvtIt/1f0ef1XIKd/AVVeux9Z\n",
       "fD0mAAAAAElFTkSuQmCC\n",
       "\" style=\"display:inline;vertical-align:middle;\" /></a><br>(see <a class=\"ProveItLink\" href=\"../../../__pv_it/theorems/13a7efcdaa7796c95d3f6a15ec2fe6d4a7f58b310/dependencies.ipynb\">dependencies</a>)<br>"
      ],
      "text/plain": [
       "<IPython.core.display.HTML object>"
      ]
     },
     "metadata": {},
     "output_type": "display_data"
    },
    {
     "name": "stdout",
     "output_type": "stream",
     "text": [
      "rational_neg_membership_is_bool may now be readily provable (assuming required theorems are usable).  Simply execute \"%qed\".\n"
     ]
    }
   ],
   "source": [
    "%proving rational_neg_membership_is_bool"
   ]
  },
  {
   "cell_type": "code",
   "execution_count": null,
   "metadata": {},
   "outputs": [],
   "source": []
  }
 ],
 "metadata": {
  "kernelspec": {
   "display_name": "Python 3",
   "language": "python",
   "name": "python3"
  }
 },
 "nbformat": 4,
 "nbformat_minor": 0
}