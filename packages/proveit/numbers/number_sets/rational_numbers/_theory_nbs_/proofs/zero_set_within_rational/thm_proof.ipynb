{
 "cells": [
  {
   "cell_type": "markdown",
   "metadata": {},
   "source": [
    "Proof of <a class=\"ProveItLink\" href=\"../../../../../../_theory_nbs_/theory.ipynb\">proveit</a>.<a class=\"ProveItLink\" href=\"../../../../../_theory_nbs_/theory.ipynb\">numbers</a>.<a class=\"ProveItLink\" href=\"../../../../_theory_nbs_/theory.ipynb\">number_sets</a>.<a class=\"ProveItLink\" href=\"../../theory.ipynb\">rational_numbers</a>.<a class=\"ProveItLink\" href=\"../../theorems.ipynb#zero_set_within_rational\">zero_set_within_rational</a> theorem\n",
    "========"
   ]
  },
  {
   "cell_type": "code",
   "execution_count": 1,
   "metadata": {},
   "outputs": [],
   "source": [
    "import proveit\n",
    "theory = proveit.Theory() # the theorem's theory"
   ]
  },
  {
   "cell_type": "code",
   "execution_count": 2,
   "metadata": {},
   "outputs": [
    {
     "data": {
      "text/html": [
       "With these <a href=\"allowed_presumptions.txt\">allowed</a>/<a href=\"disallowed_presumptions.txt\">disallowed</a> theorem/theory presumptions (e.g., to avoid circular dependencies), we begin our proof of<br><strong id=\"zero_set_within_rational\">zero_set_within_rational:</strong> <a class=\"ProveItLink\" href=\"../../../__pv_it/theorems/fb991abb5e3a257710dfdddf693fdfe96a1636280/expr.ipynb\"><img src=\"data:image/png;base64,iVBORw0KGgoAAAANSUhEUgAAAEoAAAAVBAMAAAATJmVgAAAAMFBMVEX///8AAAAAAAAAAAAAAAAA\n",
       "AAAAAAAAAAAAAAAAAAAAAAAAAAAAAAAAAAAAAAAAAAAv3aB7AAAAD3RSTlMAEER2zVSJ3Zki72ar\n",
       "MruaaVGaAAAACXBIWXMAAA7EAAAOxAGVKw4bAAABdUlEQVQoz2NgYGBUYgADzkgGPMBEEcq48xBT\n",
       "Uuzdu04QzfoRSLAlg9hvMBQxn7rAWZMAUlAAJFwZxCcwMKRjqMrOZmDQ0IOq4i5gYHuARRVvggMD\n",
       "Ax+3AUQV3wGwxTBVzM/Ly8svABl8ggeACi44QFTxNzDwfoWr4nWbAFUuxws0hjWgF6JKHqjqN1yV\n",
       "OEwRwzWmDQwMTBu2MjBwAM2bn8DA+5mBwQoidwjuLmXuAKDRBtEMDLM2QFR9A1IBYDkHuKpprGCz\n",
       "jBjmOAF58gkMTECzGI+AlPEegKvig7irkYG3TwDselag69mcwDGFpEoS5kdgKDDwPWDgBoZEvABY\n",
       "rgCuigkSXgHQUF0A9kQWRK4bEazdwLDXgYU9QymD1AV4SLAowFWxgeKxAaZKIvksA1wV4xtFuLIZ\n",
       "X/x7GWCqIAAWQ0x50BgCgrOgWMSqChnwGNjEAl3AvAAu0oItkcY8WQcMWs6vMD7jajwpesZRaLrP\n",
       "CcClBAAfiVlmSfRHJwAAAABJRU5ErkJggg==\n",
       "\" style=\"display:inline;vertical-align:middle;\" /></a><br>(see <a class=\"ProveItLink\" href=\"../../../__pv_it/theorems/40b009310d830dc9562876b7427587002d1cab050/dependencies.ipynb\">dependencies</a>)<br>"
      ],
      "text/plain": [
       "<IPython.core.display.HTML object>"
      ]
     },
     "metadata": {},
     "output_type": "display_data"
    },
    {
     "name": "stdout",
     "output_type": "stream",
     "text": [
      "zero_set_within_rational may now be readily provable (assuming required theorems are usable).  Simply execute \"%qed\".\n"
     ]
    }
   ],
   "source": [
    "%proving zero_set_within_rational"
   ]
  },
  {
   "cell_type": "code",
   "execution_count": null,
   "metadata": {},
   "outputs": [],
   "source": []
  }
 ],
 "metadata": {
  "kernelspec": {
   "display_name": "Python 3",
   "language": "python",
   "name": "python3"
  }
 },
 "nbformat": 4,
 "nbformat_minor": 0
}