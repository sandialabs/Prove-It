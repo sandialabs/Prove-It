{
 "cells": [
  {
   "cell_type": "markdown",
   "metadata": {},
   "source": [
    "Proof of <a class=\"ProveItLink\" href=\"../../../../../../_theory_nbs_/theory.ipynb\">proveit</a>.<a class=\"ProveItLink\" href=\"../../../../../_theory_nbs_/theory.ipynb\">numbers</a>.<a class=\"ProveItLink\" href=\"../../../../_theory_nbs_/theory.ipynb\">number_sets</a>.<a class=\"ProveItLink\" href=\"../../theory.ipynb\">rational_numbers</a>.<a class=\"ProveItLink\" href=\"../../theorems.ipynb#pos_rational_is_rational_pos\">pos_rational_is_rational_pos</a> theorem\n",
    "========"
   ]
  },
  {
   "cell_type": "code",
   "execution_count": 1,
   "metadata": {},
   "outputs": [],
   "source": [
    "import proveit\n",
    "theory = proveit.Theory() # the theorem's theory"
   ]
  },
  {
   "cell_type": "code",
   "execution_count": 2,
   "metadata": {},
   "outputs": [
    {
     "data": {
      "text/html": [
       "With these <a href=\"allowed_presumptions.txt\">allowed</a>/<a href=\"disallowed_presumptions.txt\">disallowed</a> theorem/theory presumptions (e.g., to avoid circular dependencies), we begin our proof of<br><strong id=\"pos_rational_is_rational_pos\">pos_rational_is_rational_pos:</strong> <a class=\"ProveItLink\" href=\"../../../__pv_it/theorems/60995458874cfa9125274eab0af3a9637a80883d0/expr.ipynb\"><img src=\"data:image/png;base64,iVBORw0KGgoAAAANSUhEUgAAALcAAAAZBAMAAACBVqIyAAAAMFBMVEX///8AAAAAAAAAAAAAAAAA\n",
       "AAAAAAAAAAAAAAAAAAAAAAAAAAAAAAAAAAAAAAAAAAAv3aB7AAAAD3RSTlMAq1RmmUTNIjK7EInv\n",
       "3XZ/CtNrAAAACXBIWXMAAA7EAAAOxAGVKw4bAAADCUlEQVRIx52WTWgTQRSAX7NJdzebxuihVhCM\n",
       "5KCeXKoNItJGWrEq2IhFLIKm9iB4cSu9iIIpXpQWU9CqKygpSMXWn8WAHuKhCCJBFIqFHmRhg3qo\n",
       "VZGCRgTFN7N/k3ZNTQZm83Z25ps3728CUFNrqfg1gd0PtTZfouLnEez8SK3wcVgWDq21wq94jk6q\n",
       "6m4X3pAFiBAhVh2bn/IaDa9N89OaAw8jeRcRTlQH92teo7kcQHcP+FW1oOLRgr8ABmsw/oqkx6Cg\n",
       "pQBEzrA1hz6AejSNFK0Onsmyb3O6jlgQJ9AOUjrlwPcAcDJuUKU/v7Avhz6Zv/cEVNoX7XTgn7G/\n",
       "1vVXVcIbyaN//mGamPSkNTgUQDUDcrMDP4bnw61uenrt33AVe2AW1hG5XrEGj3JoXMGIWRmKxsO9\n",
       "+4GPsMF6daU5XVyMzM/bUi/2+7J5AMekZ31U84/O/PPodjErWc4XimqSz4PUvAg+QZ+cEbCDagZ7\n",
       "F8A7Ig/r2MgH0bT5XmfZI8T6DHvzDjyHdBqCW5Ry+Bmad6E0lBjNC8B/p360Z4l3nWixNCcuSZEq\n",
       "MNnaEsZjwcUNAIbhwoO590kYXE3mZuG5Cw/+Ae4bzXKbFTDj3I3qDNHxMfo7OCuUqA7b5XL4A4XM\n",
       "GWiiwf3WWrYGFyyASJUMGzasHTP0QI/rIxItcA6P408IUwfJCAEbmgvvgGHyc2eUwN9Yy0gE34Y2\n",
       "swgct2ESqS1MLd5BHnVom1AyHImrqho9vMgsL6BozlTQLAuMTmNfN5txMDZq5+vAj1OdTHTtdDyr\n",
       "iMYQ3b7cocESqohtk8E6NESxbdbbkVu65cUmzmDgfbYQUjJpMUvDEaQYE4ovhZ/4jMvEuIFIWVVs\n",
       "XJJcdUZxo1PTSFW0XN3eBfwNmkQzvWkG3r0VY2KOhkD+g31+gdZzj6Kx/lpBtmWOSc04vUlw36cX\n",
       "gE0iLgWXlhTNVdif/NYqFqAGxZX3OTUltj/JwD0vhvH/qG7MHSoVnI0ub2M1f3bd6/bXlr8KK15A\n",
       "fO3/W+iJ0UF/AZPdw2ztlbc3AAAAAElFTkSuQmCC\n",
       "\" style=\"display:inline;vertical-align:middle;\" /></a><br>(see <a class=\"ProveItLink\" href=\"../../../__pv_it/theorems/285ca21571f5e10d410bf9e8552ee12e50bd102e0/dependencies.ipynb\">dependencies</a>)<br>"
      ],
      "text/plain": [
       "<IPython.core.display.HTML object>"
      ]
     },
     "metadata": {},
     "output_type": "display_data"
    },
    {
     "name": "stdout",
     "output_type": "stream",
     "text": [
      "pos_rational_is_rational_pos may now be readily provable (assuming required theorems are usable).  Simply execute \"%qed\".\n"
     ]
    }
   ],
   "source": [
    "%proving pos_rational_is_rational_pos"
   ]
  },
  {
   "cell_type": "code",
   "execution_count": null,
   "metadata": {},
   "outputs": [],
   "source": []
  }
 ],
 "metadata": {
  "kernelspec": {
   "display_name": "Python 3",
   "language": "python",
   "name": "python3"
  }
 },
 "nbformat": 4,
 "nbformat_minor": 0
}