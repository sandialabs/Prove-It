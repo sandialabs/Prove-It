{
 "cells": [
  {
   "cell_type": "markdown",
   "metadata": {},
   "source": [
    "Proof of <a class=\"ProveItLink\" href=\"../../../../../../_theory_nbs_/theory.ipynb\">proveit</a>.<a class=\"ProveItLink\" href=\"../../../../../_theory_nbs_/theory.ipynb\">numbers</a>.<a class=\"ProveItLink\" href=\"../../../../_theory_nbs_/theory.ipynb\">number_sets</a>.<a class=\"ProveItLink\" href=\"../../theory.ipynb\">rational_numbers</a>.<a class=\"ProveItLink\" href=\"../../theorems.ipynb#rational_nonzero_membership_is_bool\">rational_nonzero_membership_is_bool</a> theorem\n",
    "========"
   ]
  },
  {
   "cell_type": "code",
   "execution_count": 1,
   "metadata": {},
   "outputs": [],
   "source": [
    "import proveit\n",
    "theory = proveit.Theory() # the theorem's theory"
   ]
  },
  {
   "cell_type": "code",
   "execution_count": 2,
   "metadata": {},
   "outputs": [
    {
     "data": {
      "text/html": [
       "With these <a href=\"allowed_presumptions.txt\">allowed</a>/<a href=\"disallowed_presumptions.txt\">disallowed</a> theorem/theory presumptions (e.g., to avoid circular dependencies), we begin our proof of<br><strong id=\"rational_nonzero_membership_is_bool\">rational_nonzero_membership_is_bool:</strong> <a class=\"ProveItLink\" href=\"../../../__pv_it/theorems/a428524088fc1445c59157452e24fcc5a422c3bd0/expr.ipynb\"><img src=\"data:image/png;base64,iVBORw0KGgoAAAANSUhEUgAAALcAAAAbCAMAAAAJbu44AAAAOVBMVEX///8AAAAAAAAAAAAAAAAA\n",
       "AAAAAAAAAAAAAAAAAAAAAAAAAAAAAAAAAAAAAAAAAAAAAAAAAAAAAAACXHtMAAAAEnRSTlMAq1Rm\n",
       "mUTNIjK7EInv3Xbt5cmRiLwgAAAACXBIWXMAAA7EAAAOxAGVKw4bAAAC9klEQVRYw9VYi3LjIAzk\n",
       "/UZ3x/9/bAXGNsaY2Lm0M9VMk3WSFUJIC5SQnzdHfqV5WV49+J8YjcsevGmaFi9AiLQIxFP+MwIT\n",
       "PXjXqM6vweBLQqjt03k/ITjVg3dNlurQKRd5YDXzz1b+AcHyHtybrrdoQi8LnLH9g3+cmBJ3LM7i\n",
       "iz6FGKxKKkRaK7QQ6F4K1yHp0INbBjSXg45070BYBlniDrD86mXWiASilauBF4LY2kzp617wPbgl\n",
       "HNyXKKWQa026CpY6Sax8ltzruNGR12RhF4KhN+o9yR7cMOOJWsfNNZnr5O8/W+pk78ucMH4rbs7W\n",
       "4igEVWfr2XUEa0bMLDVgI9ret9a5Oo43dQZbkghkHaxPws4d7XGrhsDrbNWsM3ow0AkFxzlhSZja\n",
       "+YwRYZap7EXkQdQnCFNHa9xUc98SQp5dDJPKpaoHDoA64/c10sqdy0TWlOA7z79kYwWT7SqeHS19\n",
       "6WBv74VwSsWZZ3sgclcDEfG6qVECeJ0W5r2IlboqQ7M/jNQB444qpChcSygbr56JkaId4Oic46Tp\n",
       "1lHnkLTflBXzDdjQ7KKpddvt6rIvgcu6FpWQU+1nQhFFB/J0RTuCWYoNzTajtfU9WU7XxD1yVOPO\n",
       "b74l5LKbbt+nfJNt0+h0+ZAlp3s9ucq3mTra464CvhLUtucDCA1C34hbZvF1Wxbj8CSy6zebCX1q\n",
       "BozTuNWB4FktHNCEWqL6Qag9AmcloVmLmv17IBVi3S+pnJ7hDnoycrTFXQVpJeiw9ht+CcSc9Dsc\n",
       "AUvGCYSymaAaZNSv55P52Zcf9HvgaClsvGiIjkD3UJOeJKQCJzArTBwW31ErT72nRVIqCfPiJnDQ\n",
       "spMjUMHa9jzYEWo/42inT4PswfBkbY/bc83Iy/Nyfz4ZOpoR8JTq1egm9N55cAkccIdiRs5k8OFF\n",
       "+UwQID2AG67CETy44VGLCz058nH60OMDAmU9+JxF/X2Ez90v/+u6+JzAfA8+ZN97n//g/0/6lnJv\n",
       "Eb4ATsQZJ7SKEPMAAAAASUVORK5CYII=\n",
       "\" style=\"display:inline;vertical-align:middle;\" /></a><br>(see <a class=\"ProveItLink\" href=\"../../../__pv_it/theorems/2921091b3c874af04d5a0892db641c146600402f0/dependencies.ipynb\">dependencies</a>)<br>"
      ],
      "text/plain": [
       "<IPython.core.display.HTML object>"
      ]
     },
     "metadata": {},
     "output_type": "display_data"
    },
    {
     "name": "stdout",
     "output_type": "stream",
     "text": [
      "rational_nonzero_membership_is_bool may now be readily provable (assuming required theorems are usable).  Simply execute \"%qed\".\n"
     ]
    }
   ],
   "source": [
    "%proving rational_nonzero_membership_is_bool"
   ]
  },
  {
   "cell_type": "code",
   "execution_count": null,
   "metadata": {},
   "outputs": [],
   "source": []
  }
 ],
 "metadata": {
  "kernelspec": {
   "display_name": "Python 3",
   "language": "python",
   "name": "python3"
  }
 },
 "nbformat": 4,
 "nbformat_minor": 0
}