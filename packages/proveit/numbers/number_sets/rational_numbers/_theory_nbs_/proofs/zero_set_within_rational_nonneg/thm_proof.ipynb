{
 "cells": [
  {
   "cell_type": "markdown",
   "metadata": {},
   "source": [
    "Proof of <a class=\"ProveItLink\" href=\"../../../../../../_theory_nbs_/theory.ipynb\">proveit</a>.<a class=\"ProveItLink\" href=\"../../../../../_theory_nbs_/theory.ipynb\">numbers</a>.<a class=\"ProveItLink\" href=\"../../../../_theory_nbs_/theory.ipynb\">number_sets</a>.<a class=\"ProveItLink\" href=\"../../theory.ipynb\">rational_numbers</a>.<a class=\"ProveItLink\" href=\"../../theorems.ipynb#zero_set_within_rational_nonneg\">zero_set_within_rational_nonneg</a> theorem\n",
    "========"
   ]
  },
  {
   "cell_type": "code",
   "execution_count": 1,
   "metadata": {},
   "outputs": [],
   "source": [
    "import proveit\n",
    "theory = proveit.Theory() # the theorem's theory"
   ]
  },
  {
   "cell_type": "code",
   "execution_count": 2,
   "metadata": {},
   "outputs": [
    {
     "data": {
      "text/html": [
       "With these <a href=\"allowed_presumptions.txt\">allowed</a>/<a href=\"disallowed_presumptions.txt\">disallowed</a> theorem/theory presumptions (e.g., to avoid circular dependencies), we begin our proof of<br><strong id=\"zero_set_within_rational_nonneg\">zero_set_within_rational_nonneg:</strong> <a class=\"ProveItLink\" href=\"../../../__pv_it/theorems/f05e584576b3ac97ba09374b53b44d9090738ca20/expr.ipynb\"><img src=\"data:image/png;base64,iVBORw0KGgoAAAANSUhEUgAAAF8AAAAYBAMAAABuPzwSAAAAMFBMVEX///8AAAAAAAAAAAAAAAAA\n",
       "AAAAAAAAAAAAAAAAAAAAAAAAAAAAAAAAAAAAAAAAAAAv3aB7AAAAD3RSTlMAEER2zVSJ3Zki72ar\n",
       "MruaaVGaAAAACXBIWXMAAA7EAAAOxAGVKw4bAAAByklEQVQ4y42TTygEcRTHv7/9g7FmjQuRNLg4\n",
       "bEw4ODhMiqu5I1vkoja3TTnYktIiF5IcXB1oSlIupLYkNCdX5U8SbW0hR+83vzGzs7sx7/Cb37z3\n",
       "+8zvvfd9AwQx+cF+VE0lEdAan/l6hO6gAMJvtBygfoMerEP4Njf+ImKPkAqoNWjb3+4keqtUyCWf\n",
       "X3GIfbmAahOIFuhtZoA+Hz8vz+TKkhbsSllKJaBWo9LngIjB5sWuxGZngS5eqbRq8ZTqDXHsBEhV\n",
       "AuSkThfHNEjXlls0P/YOTCoeEH5Jp9P8RLyBsqyydHZpN6QPCQjgG7g3XEAe+e1Xm0w5R401pjjC\n",
       "ZQTAOGC6QJPb37sQdSVkHvvyrNEhfRGgIbwnPBdurDNGRcramA/YMQWQhPQpPLob24raN/TKebJX\n",
       "4dsdoh4T0EPZtg7bJXhyxEUNGV/n1hW76Em6fFrlHqkIaBZd8qXE9c0DZ4rQnMyTIyR0MHwA780p\n",
       "sEQ7p+isF8yS0omSmeZAtcEOPKUjqhfks7RYDrDlQcsD2Hu7G93+GF1DOVCyC6Wc0SC7oUn6Fyi2\n",
       "Om1wQvWP/F6R5hVs/OnQ9Dl+9QVazGD/93bOmYNckNM/EGR1ldPf9XoAAAAASUVORK5CYII=\n",
       "\" style=\"display:inline;vertical-align:middle;\" /></a><br>(see <a class=\"ProveItLink\" href=\"../../../__pv_it/theorems/5de8c51a148af05aae0e3be3669b86e6bd1309350/dependencies.ipynb\">dependencies</a>)<br>"
      ],
      "text/plain": [
       "<IPython.core.display.HTML object>"
      ]
     },
     "metadata": {},
     "output_type": "display_data"
    },
    {
     "name": "stdout",
     "output_type": "stream",
     "text": [
      "zero_set_within_rational_nonneg may now be readily provable (assuming required theorems are usable).  Simply execute \"%qed\".\n"
     ]
    }
   ],
   "source": [
    "%proving zero_set_within_rational_nonneg"
   ]
  },
  {
   "cell_type": "code",
   "execution_count": null,
   "metadata": {},
   "outputs": [],
   "source": []
  }
 ],
 "metadata": {
  "kernelspec": {
   "display_name": "Python 3",
   "language": "python",
   "name": "python3"
  }
 },
 "nbformat": 4,
 "nbformat_minor": 0
}