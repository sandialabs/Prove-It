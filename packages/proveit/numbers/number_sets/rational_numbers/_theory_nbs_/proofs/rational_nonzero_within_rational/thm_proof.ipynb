{
 "cells": [
  {
   "cell_type": "markdown",
   "metadata": {},
   "source": [
    "Proof of <a class=\"ProveItLink\" href=\"../../../../../../_theory_nbs_/theory.ipynb\">proveit</a>.<a class=\"ProveItLink\" href=\"../../../../../_theory_nbs_/theory.ipynb\">numbers</a>.<a class=\"ProveItLink\" href=\"../../../../_theory_nbs_/theory.ipynb\">number_sets</a>.<a class=\"ProveItLink\" href=\"../../theory.ipynb\">rational_numbers</a>.<a class=\"ProveItLink\" href=\"../../theorems.ipynb#rational_nonzero_within_rational\">rational_nonzero_within_rational</a> theorem\n",
    "========"
   ]
  },
  {
   "cell_type": "code",
   "execution_count": 1,
   "metadata": {},
   "outputs": [],
   "source": [
    "import proveit\n",
    "theory = proveit.Theory() # the theorem's theory"
   ]
  },
  {
   "cell_type": "code",
   "execution_count": 2,
   "metadata": {},
   "outputs": [
    {
     "data": {
      "text/html": [
       "With these <a href=\"allowed_presumptions.txt\">allowed</a>/<a href=\"disallowed_presumptions.txt\">disallowed</a> theorem/theory presumptions (e.g., to avoid circular dependencies), we begin our proof of<br><strong id=\"rational_nonzero_within_rational\">rational_nonzero_within_rational:</strong> <a class=\"ProveItLink\" href=\"../../../__pv_it/theorems/67cbac24ebe231bd30cc8103aa1b7444e2bced3c0/expr.ipynb\"><img src=\"data:image/png;base64,iVBORw0KGgoAAAANSUhEUgAAAFIAAAAXCAMAAACvZ+h2AAAAOVBMVEX///8AAAAAAAAAAAAAAAAA\n",
       "AAAAAAAAAAAAAAAAAAAAAAAAAAAAAAAAAAAAAAAAAAAAAAAAAAAAAAACXHtMAAAAEnRSTlMAEIm7\n",
       "mSJ2q+8y3WZEzVTt5cnMFh2FAAAACXBIWXMAAA7EAAAOxAGVKw4bAAABRUlEQVQ4y62ViZKDIAyG\n",
       "IQFi5Nhd3/9hl0PbylHs1MyIDsgHPzkQYmhS3G3gcgsG7iJqSq01Qji8CUk6tQvHZtO3EF2Wq7d0\n",
       "oEv4fL4EjKbKZlT6xp/4WMEZudrPCNEMJX16pacjTKEU5GJmxJoAFjLAqYcj5P5RhG8z4TWBQfgy\n",
       "gtnBSfjvH2bh19xTEwRKSftivA8xPRSlIKKzSFyL8dFTE6JG3s8qBKG4/PPUBEa9phF7qPfcEOKu\n",
       "3e7R+Lbp2MLYHXLVPd1ngjOFk8aMCGnMv0kA1wnhmqChcMoaJk4JbozsrdYSzifxvvww9XobAkpd\n",
       "e3xSSxpkTXCvUTUL6nVQDyqCOmKf5mVM2X5vTYAjQ9W8wviu71qCVpv3m+IrRQvJdVzYIRCX7LxU\n",
       "SbFKyAGBTKxQgd0X10BDCIR+QfvFRXAQ/gH1SQvFlGGZBwAAAABJRU5ErkJggg==\n",
       "\" style=\"display:inline;vertical-align:middle;\" /></a><br>(see <a class=\"ProveItLink\" href=\"../../../__pv_it/theorems/2344b5220d86e11226b35630366238e7b035d2550/dependencies.ipynb\">dependencies</a>)<br>"
      ],
      "text/plain": [
       "<IPython.core.display.HTML object>"
      ]
     },
     "metadata": {},
     "output_type": "display_data"
    }
   ],
   "source": [
    "%proving rational_nonzero_within_rational"
   ]
  },
  {
   "cell_type": "code",
   "execution_count": null,
   "metadata": {},
   "outputs": [],
   "source": []
  }
 ],
 "metadata": {
  "kernelspec": {
   "display_name": "Python 3",
   "language": "python",
   "name": "python3"
  }
 },
 "nbformat": 4,
 "nbformat_minor": 0
}