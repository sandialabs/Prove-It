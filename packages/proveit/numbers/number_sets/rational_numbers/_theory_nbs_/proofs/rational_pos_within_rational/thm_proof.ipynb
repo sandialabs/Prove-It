{
 "cells": [
  {
   "cell_type": "markdown",
   "metadata": {},
   "source": [
    "Proof of <a class=\"ProveItLink\" href=\"../../../../../../_theory_nbs_/theory.ipynb\">proveit</a>.<a class=\"ProveItLink\" href=\"../../../../../_theory_nbs_/theory.ipynb\">numbers</a>.<a class=\"ProveItLink\" href=\"../../../../_theory_nbs_/theory.ipynb\">number_sets</a>.<a class=\"ProveItLink\" href=\"../../theory.ipynb\">rational_numbers</a>.<a class=\"ProveItLink\" href=\"../../theorems.ipynb#rational_pos_within_rational\">rational_pos_within_rational</a> theorem\n",
    "========"
   ]
  },
  {
   "cell_type": "code",
   "execution_count": 1,
   "metadata": {},
   "outputs": [],
   "source": [
    "import proveit\n",
    "from proveit import Lambda\n",
    "from proveit import k, q, x, y, A, B, P, S, Py, Qy\n",
    "# SOME STUFF COMMENTED OUT TEMPORARILY TO ALLOW COMPILATION AFTER MASTER MERGED\n",
    "# INTO THE CRAFT_EDITS_CONTAINMENT_DEMOS BRANCH WHICH ALSO REMOVED THE\n",
    "# COMPREHENSION THEOREMS\n",
    "# from proveit.logic import iter_q1k\n",
    "from proveit.logic.sets.inclusion  import proper_subset_def, subset_eq_def\n",
    "from proveit.numbers import one, zero, Less, greater, Rational, RationalPos\n",
    "from proveit.numbers.number_sets.rational_numbers  import rationals_def, rationals_pos_def\n",
    "# from proveit.logic.sets.comprehension import comprehension_is_subset\n",
    "theory = proveit.Theory() # the theorem's theory"
   ]
  },
  {
   "cell_type": "code",
   "execution_count": 2,
   "metadata": {},
   "outputs": [
    {
     "data": {
      "text/html": [
       "With these <a href=\"allowed_presumptions.txt\">allowed</a>/<a href=\"disallowed_presumptions.txt\">disallowed</a> theorem/theory presumptions (e.g., to avoid circular dependencies), we begin our proof of<br><strong id=\"rational_pos_within_rational\">rational_pos_within_rational:</strong> <a class=\"ProveItLink\" href=\"../../../__pv_it/theorems/072c9013fa541c652f14072983fa20c0574a295c0/expr.ipynb\"><img src=\"data:image/png;base64,iVBORw0KGgoAAAANSUhEUgAAAEkAAAAVBAMAAAD4Ed5jAAAAMFBMVEX///8AAAAAAAAAAAAAAAAA\n",
       "AAAAAAAAAAAAAAAAAAAAAAAAAAAAAAAAAAAAAAAAAAAv3aB7AAAAD3RSTlMAEIm7mSJ2q+8y3WZE\n",
       "zVRISQrpAAAACXBIWXMAAA7EAAAOxAGVKw4bAAABTElEQVQoz2NgQAAHBmKAAeWqhIyNXXGpYlQ2\n",
       "NgkAMdgqJrAuV8ChKr2TIaoIxNDWZmA4cpiBxdi42dgaTRHTpg0MPD5A3ZwKFxgYmLkTsJo1iRck\n",
       "vA2oQLAAqGfCBWRVbFarVq2aAGQYigMJTaBSYU6gMXwPPJFUcV4KgLrdYBqQfMcygWESzwYGBp4N\n",
       "+5BUSQXAlCucBpKnuR8wHANiBs6E10hhXwOzmScBpHka3waGID6wWTlIbr4AY7AqgDSfZjvAwAxx\n",
       "lyNCEWcBIjYg7hJgYBaF+xFmAkKVYTjUjzyQ8HqAZOMCOOsQOLxAjvMGhv3xw8hh6Q1nsYDCvgbk\n",
       "dyZQPKIkLd4DcKY6MB5LwKyQv/c9UROC+UG4G/3vfpkAYVaCYxEJ8ChDY4iBgX3CNqgge0L6ywO4\n",
       "Ul8ZW90cCOu5bfMGXKr4im9YMwAAGlVSE12A9F4AAAAASUVORK5CYII=\n",
       "\" style=\"display:inline;vertical-align:middle;\" /></a><br>(see <a class=\"ProveItLink\" href=\"../../../__pv_it/theorems/4c548939eb2c49550bf1974de129f2094fcfe07d0/dependencies.ipynb\">dependencies</a>)<br>"
      ],
      "text/plain": [
       "<IPython.core.display.HTML object>"
      ]
     },
     "metadata": {},
     "output_type": "display_data"
    },
    {
     "name": "stdout",
     "output_type": "stream",
     "text": [
      "rational_pos_within_rational may now be readily provable (assuming required theorems are usable).  Simply execute \"%qed\".\n"
     ]
    }
   ],
   "source": [
    "%proving rational_pos_within_rational"
   ]
  },
  {
   "cell_type": "code",
   "execution_count": 3,
   "metadata": {},
   "outputs": [
    {
     "data": {
      "text/html": [
       "<span style=\"font-size:20px;\"> <a class=\"ProveItLink\" href=\"../../../../../../logic/sets/inclusion/_theory_nbs_/axioms.ipynb#proper_subset_def\" style=\"text-decoration: none\">&nbsp;&#x22A2;&nbsp;&nbsp;</a><a class=\"ProveItLink\" href=\"../../../../../../logic/sets/inclusion/__pv_it/axioms/62d68349fdc6e5e10115b34eb80d97b83bd304d20/expr.ipynb\"><img src=\"data:image/png;base64,iVBORw0KGgoAAAANSUhEUgAAAWsAAAAWBAMAAAD0o6DgAAAAMFBMVEX///8AAAAAAAAAAAAAAAAA\n",
       "AAAAAAAAAAAAAAAAAAAAAAAAAAAAAAAAAAAAAAAAAAAv3aB7AAAAD3RSTlMAq1RmmUTNIjK7EInv\n",
       "3XZ/CtNrAAAACXBIWXMAAA7EAAAOxAGVKw4bAAAECUlEQVRIx9VXS2hTQRS9Sdp8XkzaghV1k4Ai\n",
       "iBWzKAURteIHSxcWBREVjYqItWDdCKL240Jwoe1CUERt3AhdVFI3XXRhLFT8G/xgFYPRLqQgbf3V\n",
       "H1rvfN6beTPvJaV044WTl7w7Z96dM3fuuwEoaM0cBSwwY7wATC2YIhMDROMMaEfdxpTmZ4r3vtAi\n",
       "kwC7QKCc3FzgMngJB9phzenr+lQx5yLA8AzxvGnhkwWm5h9HIRIC68nNA85RG0kGMuek7p7VCRBr\n",
       "A39qKryRXC435MgLs22B65JP0pjZMgwbGgXaibfTOeySBAP5GtMzqhW3eXct+GqnwDv9wZXXw2Nb\n",
       "K/nQtk7kIdRmZtKa7/hRLUDWbK5Xk5MDre9Wm6baary1Gue9X5xnvJTcCm+4kl0zsg+Cz05dblho\n",
       "cEHDx3+QOVMWfKiK3yW1F3HgfuTH2NJO9wl3DNGEYu4rzvM0gCsve4alU1L2gacZSl8NLuW8luhn\n",
       "kuAJgUe53AOXsOs5cK9hWUJT7R7ANSJ8b3GeTRg7z5v20zwqScs+iBLWk72cUuv9QjQvF9gIcIm6\n",
       "tJNF5WCSbIaOtKpa8OfoO+qtoU/NUSt35rWDGw/8zV6ay0RC4bMXz9J48DepQUmBIxCgzzLu0hFn\n",
       "vvbXmSf5KQeuFlrLVdWieEqqyLOq1OXqvCPuPFzRa3KNxGUftUrrjEPgE9mYjEAoFaYShj+zqpqF\n",
       "aIaPHuSA6Pl1sU5VtRAOC5OT0qGGrfMi7ry5AKP0HDfIPqqxVeBG1q35SfZiXMCbZxJue0wvHqxM\n",
       "4+rjbwCUZVXVylBH31/8stM1bItXknDjkfreY4Vt+UjSvTWTzsDS8oesIyMAyVV0tvweVrzi0JNQ\n",
       "NxuTL5JRVevAYZ5v+GWpmts6D/a78UjxLYmbSWL5iK0QOQLwhiRJVgBuNrKTu4G9C4ar55rDr3KU\n",
       "Jtjb1a7aGBaADlK1lqtq6zy4Vply5kXMl2EoL/toZTQZW3iT4OsUgBNUoW3wkQ5ZCcZsc3gvxwky\n",
       "63dVtSaM607KqnWSOfBgxxXzNWXn0a2+yKub8JEbpkQBsmFdzaxGmgAPLRz1/TE6HGNuNavcWYbu\n",
       "yUbwdk3QStZtqTZvsqLiIH2XvFDDduAJU3jzycc5ct6ysg+T7iFPOqNrIgWLJw/hzjQI8KqE0dLw\n",
       "B7AnMAtgpI1BNqGa1e9k1bCdeA69qMIbUvyVGuOkBCt9yuJGGgK/wHhutZi14NAoOTVOSms6LV61\n",
       "/WdQ7+/WSmBT3AZj0/7gANT87q8TjdUFjoJ2TL+l8VidGSrIC9l7zJC2XaRRNWHv1JXf3RwFzWFd\n",
       "0+IZ9miCGoGsy4TNtqvryzMU/OPm8NdueryWIuv8IMFmCfhP7B+IqWtlplTDXAAAAABJRU5ErkJg\n",
       "gg==\n",
       "\" style=\"display:inline;vertical-align:middle;\" /></a></span>"
      ],
      "text/plain": [
       "|- forall_{A, B} ((A proper_subset B) = ((A subset_eq B) and (B not_equiv A)))"
      ]
     },
     "metadata": {},
     "output_type": "display_data"
    }
   ],
   "source": [
    "proper_subset_def"
   ]
  },
  {
   "cell_type": "code",
   "execution_count": 4,
   "metadata": {},
   "outputs": [
    {
     "data": {
      "text/html": [
       "<strong id=\"subset_def_spec\">subset_def_spec:</strong> <span style=\"font-size:20px;\"> <a class=\"ProveItLink\" href=\"../../../__pv_it/_proof_rational_pos_within_rational/f5d64336f203c11f9562d952af5144d56518cb690/proof.ipynb\" style=\"text-decoration: none\">&nbsp;&#x22A2;&nbsp;&nbsp;</a><a class=\"ProveItLink\" href=\"../../../__pv_it/_proof_rational_pos_within_rational/d81768c1a73aec1212995ca8e9bde2cf6954915f0/expr.ipynb\"><img src=\"data:image/png;base64,iVBORw0KGgoAAAANSUhEUgAAAVYAAAAZBAMAAACY+Bu9AAAAMFBMVEX///8AAAAAAAAAAAAAAAAA\n",
       "AAAAAAAAAAAAAAAAAAAAAAAAAAAAAAAAAAAAAAAAAAAv3aB7AAAAD3RSTlMAZkRUmRDNuyLviTJ2\n",
       "3asqG0tJAAAACXBIWXMAAA7EAAAOxAGVKw4bAAADrUlEQVRYw6WYTWgTQRTHX766sbtJQz0pUnJQ\n",
       "exGN0FNFqYgoLUouVhGkES8iounF4EHJQSx6aeileDLFg9cFT3pJ8NZDS4T6cdkaWmgRwUOhRfDi\n",
       "zOzszsy+mXbbPMiE7H9//5l9O58BgEEQMQamSGuvDobFQQwSRdgrxgKSGadk+6oRyuokxh7cYGTP\n",
       "pjI/Rs7QX5MQqyo4prk22ZNBphKvrYxMtEkxTT63a7Wrxqq4mCtjaRp6MbAKMqlDuB8jv5IENwCc\n",
       "X252tWmoKhCdLn6tDejF4BXIpB91BeF+jFwmHZdcWlgAOD4M6VptvjYdrYqLkNnGw6UJRgPnmed5\n",
       "rtbgHf8el8Tg6StynYEfI6fKMFAEu0nusFiHwGkR4l2kDRT9QmNgP6ybDDLfuLIliwAnd9pguW0F\n",
       "4X6U7CtAqwzWDZLjfrcitzVMixCvoLa2yn6hMbhTD3tl1MAZ8qcqe1sWwf7y4WlxJFNVEO5HyXQV\n",
       "lgBu2uQJUqUJOS0PgrqEuIjausQLjcFaeBMyyNn+TU5HIfN1SH6fO18EjR8lnQZsAHxKkgGZLBzW\n",
       "pkWIZ9BEsMELjYGYjpDBKNxn3/mKQjr0Pb+9pyLcj5LJbagBnEqUSCbbZ6VlR6RFiC02Uq55NFaZ\n",
       "VuMFNrC7RgPSUn8NsKoKSeNlFOF+lLT/wSOA1yn2GJ+ljIm0CHEWrYiPeIENsl2jAXkMf6bt6yJy\n",
       "LYrwoGR2C1bIA/rd47I0+EVVQpxCbV3hBTaAjtEg74LDxn1uLEomq1GEByUzWzQt1q1w2OG0CHHW\n",
       "NeUVG8BFowFZkjOdIK8Smfa8n6R3dUHjR8ks6wNJfzoradMixFY92l+DtmoM+oomA7oSXAraqpJH\n",
       "ERJMjoS0/8ImTQJZJk4PgzYtQsTzwGZQYIPMnxMGg04whvLVKNlBCA8+D9Cpq58uv8rOU6RFiEfQ\n",
       "/LoYFNgAku+DNVY1YKuR5foTpkr2F1CdPCiZaPgP+2Ln8YS6XXsepiUUr6O2MlZvIIdikKe307FD\n",
       "EyWTae+Nx/sr8qNkuguHWAZ/+0uyLi2hiPcDjDUYyGEwmAOVXMMID74fYHslyLeXzxkPFL642z7r\n",
       "YAbjoJB2FSHBW+b7LLvBfl54Ml8w5oWJCbx/ZazewJ8u3F0NPoJCWi6qMziXUXKIfNYhXuTq+No6\n",
       "9GKQL6lPvjv5I3pcgl7PW/sxiHPeAuW8lWrGul9/jm32ZDAK8ckZiB7vzZEux/p/YF8GMf4fCEmy\n",
       "OfgPPIWZSIMNX48AAAAASUVORK5CYII=\n",
       "\" style=\"display:inline;vertical-align:middle;\" /></a></span><br>"
      ],
      "text/plain": [
       "<IPython.core.display.HTML object>"
      ]
     },
     "metadata": {},
     "output_type": "display_data"
    }
   ],
   "source": [
    "subset_def_spec = proper_subset_def.instantiate({A:RationalPos, B:Rational})"
   ]
  },
  {
   "cell_type": "code",
   "execution_count": 5,
   "metadata": {},
   "outputs": [
    {
     "data": {
      "text/html": [
       "<span style=\"font-size:20px;\"> <a class=\"ProveItLink\" href=\"../../../../../../logic/sets/inclusion/_theory_nbs_/axioms.ipynb#subset_eq_def\" style=\"text-decoration: none\">&nbsp;&#x22A2;&nbsp;&nbsp;</a><a class=\"ProveItLink\" href=\"../../../../../../logic/sets/inclusion/__pv_it/axioms/0a73f44893619de306ad70c8de110c34b161d8b90/expr.ipynb\"><img src=\"data:image/png;base64,iVBORw0KGgoAAAANSUhEUgAAATUAAAAWBAMAAABTfhYbAAAAMFBMVEX///8AAAAAAAAAAAAAAAAA\n",
       "AAAAAAAAAAAAAAAAAAAAAAAAAAAAAAAAAAAAAAAAAAAv3aB7AAAAD3RSTlMAq1RmmUTNIjK7EInv\n",
       "3XZ/CtNrAAAACXBIWXMAAA7EAAAOxAGVKw4bAAAERElEQVRIx81XXWgUSRCu/d+dzU426In6sgEP\n",
       "X/xbNCg+nAno+YM/F04QUdHVI4hBMHkRAmrWF0GMZpELGuHODYiQ45REiHIEcQ0o3omyiKIPLkxO\n",
       "ISgaf1ATFYzV1d2zO9MzE3yzobZmqnu+/rqqu7oWwLO1CPFoEdX08tE3f2KdEgEmmRVAr+WCbb/b\n",
       "mJChmAYmgf3fq3M7R2AqyR5nuYybIwTbPqUzcPZNzbTTAE9Ubj7260+7oPr7HM0CT08TN6Z+Zubd\n",
       "ziBahgvDmxC2Z6VSSYSsKgeQykI4r3ALNuJv2C0s513sAq+Zex7VYRb/nPPgYJoLe0zxmY6MlLvb\n",
       "MZo7GiDQoHCLsmi0uUVtuYtd4NVxbqjYquO1LgsRgu3KtSx58mFFdz2a6hHvP3W/sbVfcuNWsLxh\n",
       "IDIWvKo8cUMVQL+EXUBmC0HPGq+Iv6+xojuFshfd+ZvKbRH+Zty2m6Vj03M7XjhN3Ji6UyrddkFZ\n",
       "KwRDCgsotpZV/AvQw7Zev8qtqlR63OeCGsQObXTmMfJrpFnBiyeJG1OrAc5Ql7KlySHcKb9CJ011\n",
       "uKI3+nF0mHoX04wlaknOLZiFmA1Pkw/MIUEYNtaD9cBIvECGuDHVChEC1G7RiKPvBtdkxeh7QgAa\n",
       "oJ0GtVYmvzGAucybc1W/IWSrzfi3RE3g7lgC9fkptkBIPH+BuDEVy8dpE8Xf8ixTBF1u1htCQP99\n",
       "RYrOcqJishgOi4/jQ6dD7j1TTsAnZnQxdU0euCqcLgsr+UsHc3bOghd9TQhM+Q3OffNdUj5MCq/t\n",
       "3C4CVBdlVpGtGj0Z+IIP2xy4zTePQnA1vz46jApuAHw26FXxQtxvTEFmGXUZO/mXtXAhbY8pZrAE\n",
       "d2ZTGasTh/ne48M8db9BOIBU9KeHVslrQw8nK2IKoTH4yxYIiecv8pgyZ1yio6ILL7c/qZsuR/8p\n",
       "JMTyDHdmzw/mFn+F27iTeWepg9/is3HciC+3SxN53QhKR8YM0Lp8BaDDpZdvY4kXyPGzwD48QAva\n",
       "DC9oxE+gTZWj+4UcYIhj3Lb1D3ln7UXSN/NmmrFyi1xHnY4Z2RAPQihr7mJMDv7xc4UQ33+7zK8k\n",
       "HssxA1yBjw7Q2sEUeQSJtcsEe5xL70Qz+M9+sOWrGRM1NXsI/4FTHULOr26BwJ7u7pM402D/J5kr\n",
       "iqBtMH5cyN96uvI2vEQjISTMNK8jJeI4hHeaedqzXCapxoquNVIHtET5kgyIjEurtbrDQFhvkIMc\n",
       "4aBp2IiLrNX6IPIJtPtm1dIADje5U0XgyC1SuIyniBI7i+xb2V3njbecI5gVQfA6aL80RYdg8efB\n",
       "NeWb/5SQMg86jNaFt7nWlhu2juahjTl+XRLOfZBBinnWtFQUDai1kd/23mvNQM7tlHfdq/3T3WW7\n",
       "vXJecMR8QF3AFvsaDC6edbvqhauT/F845NXJCsSXN2DEbk/D99S+AiaFO+dj7lWNAAAAAElFTkSu\n",
       "QmCC\n",
       "\" style=\"display:inline;vertical-align:middle;\" /></a></span>"
      ],
      "text/plain": [
       "|- forall_{A, B} ((A subset_eq B) = [forall_{x in A} (x in B)])"
      ]
     },
     "metadata": {},
     "output_type": "display_data"
    }
   ],
   "source": [
    "subset_eq_def"
   ]
  },
  {
   "cell_type": "code",
   "execution_count": 6,
   "metadata": {},
   "outputs": [
    {
     "data": {
      "text/html": [
       "<strong id=\"subset_eq_def_spec\">subset_eq_def_spec:</strong> <span style=\"font-size:20px;\"> <a class=\"ProveItLink\" href=\"../../../__pv_it/_proof_rational_pos_within_rational/0521294de9e267462fb8175a73b874e79c55d0530/proof.ipynb\" style=\"text-decoration: none\">&nbsp;&#x22A2;&nbsp;&nbsp;</a><a class=\"ProveItLink\" href=\"../../../__pv_it/_proof_rational_pos_within_rational/7444721c1da38c6e2bee8f7661c7883d8c52849d0/expr.ipynb\"><img src=\"data:image/png;base64,iVBORw0KGgoAAAANSUhEUgAAAQsAAAAZBAMAAADUEhZFAAAAMFBMVEX///8AAAAAAAAAAAAAAAAA\n",
       "AAAAAAAAAAAAAAAAAAAAAAAAAAAAAAAAAAAAAAAAAAAv3aB7AAAAD3RSTlMAZkRUmRDNuyLviTJ2\n",
       "3asqG0tJAAAACXBIWXMAAA7EAAAOxAGVKw4bAAADlklEQVRIx62XXUgUURTHz86uu+OM2pb0RUEb\n",
       "JBJFrRDRB4WFlfgR85AZQrT7EPQgplGNkMJAUdhDLkEIUbBiUETE9mofO0k9BCpSYvUwYkVJBL4V\n",
       "Qi/de2fm3ju7d4bNurDuzD3jf3/33HPOPQMAK4CNevAbEcFclfUB/sOYsJIAYf6nu32flQWmKPyf\n",
       "EYoDHIeSMGD9kjGMAJvsYvSg7w5db/TFcIyV2hIxKpLCaVtWMm0MOYMe/J6TZ7M+GK6xYk6EQSbr\n",
       "AjH2iOEc2Zc2RgRdDg8DbKqFiK4P6T3OU/2WZeXwlWOEsp8ijIP4+0wQRVlKOO3KRjWCsSwBahY9\n",
       "GQuZnDfUTndDmTEtwnjhE71cisVFs1Q2VE8w8hrE2pBrlVyKwzhJw4oZj4gw8GKUZBBGuXcv+q0Z\n",
       "r+wtgjEB0K6itYaTzRzGZ/p/zPhGhIGDPDhSd/I3UqdWKJsmIt8ARiWkJcWrOQy2n8y4XRNlyl3L\n",
       "uh2I0YTjY/zr6Ai+uaoVyT4mGDrA1hDyqmrWsSqqsqxgxjyJ2FYLj1mKgdZzQfDjWXqVJiV40mz1\n",
       "BDOTXUUwugCuhwnZGFdUGAYzDiZE3rjBPyw6Fd6hzxrYoH3yeJnJ7iYY0yhc7H06xKlM0StmPCXE\n",
       "iGmKZ77j/ILhwbiJPjk4bHsZbaH13iubd70RO0EzxR0HGAY1DuZEGGGTRqg6qSfkh6BUF2EA3LFr\n",
       "SHex7GYXQ7JzmE+7KF0hM+YNUWxAih42DYhTuQxly417DdMNCW5TQFqENo+Xmew+gjGP144q2rZa\n",
       "T+lbqKGOcY3iTIGR0+jPeOMrowLXqae7AEyT90YfUjtXlbGDdhyKZFcTDFwNFFzfva2GdN8t5tS4\n",
       "Vny0DSDvVhjz0WQ7vlsZL8RACRn+fSwjEWdHqcupbBPBIGu88utss2/iu8ajYowqBBuCPhU24juM\n",
       "YGZ5jOfIGy3mjmrby/M1hbJvCUY52cMf5ETxGY4xHXTQL6ICoOt6couzKaxuVOYKvDzjkZWn6AmL\n",
       "lmRO7k34YdhG8QnrJklGhlHiaxKintaqPlAWn3wIQ82Quf0Xh/iT0M4Hdx3EGJrzxxhQUhFUQUjS\n",
       "glLQfvT6LY/IXnO6ry8lNoyVhj9GZOzRa5AvkfI13VVQX9oDZXtFvSj8Sy+K2jq0sQ+eFLabZlCH\n",
       "aDgY4WxJFCV35pG6lsQSOnPPe0pAE6UJMITvKc/W/e17ysf4HyOjEXLP7unXAAAAAElFTkSuQmCC\n",
       "\" style=\"display:inline;vertical-align:middle;\" /></a></span><br>"
      ],
      "text/plain": [
       "<IPython.core.display.HTML object>"
      ]
     },
     "metadata": {},
     "output_type": "display_data"
    }
   ],
   "source": [
    "subset_eq_def_spec = subset_eq_def.instantiate({A:RationalPos, B:Rational})"
   ]
  },
  {
   "cell_type": "code",
   "execution_count": 7,
   "metadata": {},
   "outputs": [
    {
     "data": {
      "text/html": [
       "<span style=\"font-size:20px;\"> <a class=\"ProveItLink\" href=\"../../axioms.ipynb#rationals_pos_def\" style=\"text-decoration: none\">&nbsp;&#x22A2;&nbsp;&nbsp;</a><a class=\"ProveItLink\" href=\"../../../__pv_it/axioms/21c91a6ba1803ea3b86e2bd6ce4e8493c1471fc80/expr.ipynb\"><img src=\"data:image/png;base64,iVBORw0KGgoAAAANSUhEUgAAALoAAAAbBAMAAAA5YIiJAAAAMFBMVEX///8AAAAAAAAAAAAAAAAA\n",
       "AAAAAAAAAAAAAAAAAAAAAAAAAAAAAAAAAAAAAAAAAAAv3aB7AAAAD3RSTlMAEIm7mSJ2q+8y3WZE\n",
       "zVRISQrpAAAACXBIWXMAAA7EAAAOxAGVKw4bAAACu0lEQVRIx72WT2gTQRTGv90km6QbQ6xoxSLZ\n",
       "WrwYKpUFPdhKWilSSjXEQvWii4jFtkqkWOyhWsxJvCweerRSCIKnPahIUROpKIhiwKvYvYmIJBb1\n",
       "ILU4s5v9k2aypBCdywzz3v72zXvvm13AGUn8y9H93+ncW2cd8Hz6TIq53SrLA3Xpl144a77gRQ9P\n",
       "xRi7wjU1cF+qQ49+RyP0PedJ4L4Mw5JIAC+X4ZflrHx4o5G/1wh9i87lNvhaB5KK5LWiwo69MfoS\n",
       "0Mmm+7aSA/FqcdP03Zq9PASUYkz6tjAJO6oPbprO7VOs5Q9gQWfS70RIDBHtuQc9MN1x0UUfPbdD\n",
       "NRbjHZX3ULrGpL8SdZJ85aujVf8DYxgd4KcZe5MKlh16JIcbVr77TB2sEroCYa6Wno4asU+y63WK\n",
       "GLnbCBYd+k4Ns5b524BNlxBYZ1TVzHsfEz76kcZfRovk0E8Ai7bDuys0M4T+nlDaPtXSt9s9w2jX\n",
       "o0R/oW6cLTj0LAJrDv1Apaolkt+u2o6NmP2uOzvuvFP9xRXknZ7hfkEs25m5akwykI9V6xpc5zFq\n",
       "HCJafb1cRye0D+I6el30dfisgy6Z9xOeAMPEbFd1fqoHaQkJEjJP75mkB92niKuufj+IvISqjkSL\n",
       "zt1yacNPxbNXR/sjMo/8WRmEB52bvrzmorddKBkzN26riesfUyv01sdPMUErdjcFQaDGGVHxosNK\n",
       "tKVVswq7NFYkufBPjqpSbEeFHlTGvhS86Ga72/TZ+r7+ZHiOit8gC7yx/7k3q7GfMPUXkqroN9m+\n",
       "VNehgpARP8jykYidGY9h6I9fWXTTu35LTF8iYsRTPiVsmK2qeo6R666DqF6eaeoZSi2oMBQ2n8F+\n",
       "rckf/sgQuShOqsYFPTzT/B+LZ1Smcg/J42mt+fR+e3X84WSz4XzW/q0JT6h/AWsGvS3IsUWkAAAA\n",
       "AElFTkSuQmCC\n",
       "\" style=\"display:inline;vertical-align:middle;\" /></a></span>"
      ],
      "text/plain": [
       "|- RationalPos = {q s.t. q > 0}_{q in Rational}"
      ]
     },
     "metadata": {},
     "output_type": "display_data"
    }
   ],
   "source": [
    "rationals_pos_def"
   ]
  },
  {
   "cell_type": "code",
   "execution_count": 8,
   "metadata": {},
   "outputs": [
    {
     "data": {
      "text/html": [
       "<strong id=\"rationals_pos_def_r_h_s\">rationals_pos_def_r_h_s:</strong> <a class=\"ProveItLink\" href=\"../../../__pv_it/axioms/ade664d1a02fe90d40c511eee97ba98c6a2b57370/expr.ipynb\"><img src=\"data:image/png;base64,iVBORw0KGgoAAAANSUhEUgAAAH8AAAAZBAMAAADqPuxnAAAAMFBMVEX///8AAAAAAAAAAAAAAAAA\n",
       "AAAAAAAAAAAAAAAAAAAAAAAAAAAAAAAAAAAAAAAAAAAv3aB7AAAAD3RSTlMAEER2zVSJ3Zki72ar\n",
       "MruaaVGaAAAACXBIWXMAAA7EAAAOxAGVKw4bAAACCElEQVQ4y2NgYGBUYoCDCQx4AGckdnETRQQ7\n",
       "CZ8BDHceYhNl/chAhAFsyZ1A8g1WqQJiDHBlEAd6L51sA7gLGNgekGwAozecyXcA7FVSXSBWDGPx\n",
       "NzDwfsVnwBwz4QtIBsC4zGUCEAF5oAG/cRjA4cDAwFTJcB7JBXAuA3cFxIT5CQy8nxkYrLAZMGsD\n",
       "A4PUBoYjSAbAucBI9pgAM+AbkArA1D/HCUj0MzCUIRkA54Jc4wNyg3wCAxPQBYxHME3g7QMqWMfA\n",
       "+QnJADgXZICfACQQWYGByOaExQvAGGL8zMD9AWEAggv0gg/YC3wPGLiB0RgvgBJJL85MgMQC41cG\n",
       "PgckA+BcYCBCshf3AnBgZ8HdbfNOgTONgW0rNBofM+xPQPICnAuPRoZSBqkLSNHYAeSwTWVg3D0B\n",
       "YoCMcbwCkgEwrjA8ITFIJJ9lgBjAmG2twAyMOYa7wNxtYABLiftRUyKYy1iNHl4gA8Qn3J8gB+Js\n",
       "3IBswBFUA45gz1MgAzoYbjFogzggzQZArzIvAPGWoRqwDLsBLUC8iMGGYcu7d+8CdKFe4ATGL0PK\n",
       "d+RAhHPRAONqIP4JDONr4EwEDUSGGUcRSmzxlok5oHS4kvcvA58AOCoZ2KIZSAcaOz4wcL4FJ6QK\n",
       "nwtkGMDADUxRYu/eASM68zY5+hk44OHDEd2sQIYBWS/hzMt7GQDHe4m02vBEdQAAAABJRU5ErkJg\n",
       "gg==\n",
       "\" style=\"display:inline;vertical-align:middle;\" /></a><br>"
      ],
      "text/plain": [
       "<IPython.core.display.HTML object>"
      ]
     },
     "metadata": {},
     "output_type": "display_data"
    }
   ],
   "source": [
    "rationals_pos_def_r_h_s = rationals_pos_def.rhs"
   ]
  },
  {
   "cell_type": "code",
   "execution_count": 9,
   "metadata": {},
   "outputs": [],
   "source": [
    "# comprehension_is_subset"
   ]
  },
  {
   "cell_type": "code",
   "execution_count": 10,
   "metadata": {},
   "outputs": [],
   "source": [
    "# comprehension_is_subset_spec = comprehension_is_subset.instantiate(\n",
    "#         {k:one, S:Rational, QQ:[Lambda(q, greater(q, zero))]}, relabel_map={y:q})"
   ]
  },
  {
   "cell_type": "code",
   "execution_count": 11,
   "metadata": {},
   "outputs": [],
   "source": [
    "# rationals_pos_def.sub_left_side_into(comprehension_is_subset_spec)"
   ]
  },
  {
   "cell_type": "code",
   "execution_count": 12,
   "metadata": {},
   "outputs": [],
   "source": [
    "# %qed"
   ]
  },
  {
   "cell_type": "code",
   "execution_count": null,
   "metadata": {},
   "outputs": [],
   "source": []
  }
 ],
 "metadata": {
  "kernelspec": {
   "display_name": "Python 3",
   "language": "python",
   "name": "python3"
  }
 },
 "nbformat": 4,
 "nbformat_minor": 0
}