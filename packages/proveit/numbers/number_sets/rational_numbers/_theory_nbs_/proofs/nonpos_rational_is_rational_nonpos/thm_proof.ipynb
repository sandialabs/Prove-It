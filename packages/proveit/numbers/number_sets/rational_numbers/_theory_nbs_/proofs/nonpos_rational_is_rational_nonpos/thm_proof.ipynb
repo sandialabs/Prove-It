{
 "cells": [
  {
   "cell_type": "markdown",
   "metadata": {},
   "source": [
    "Proof of <a class=\"ProveItLink\" href=\"../../../../../../_theory_nbs_/theory.ipynb\">proveit</a>.<a class=\"ProveItLink\" href=\"../../../../../_theory_nbs_/theory.ipynb\">numbers</a>.<a class=\"ProveItLink\" href=\"../../../../_theory_nbs_/theory.ipynb\">number_sets</a>.<a class=\"ProveItLink\" href=\"../../theory.ipynb\">rational_numbers</a>.<a class=\"ProveItLink\" href=\"../../theorems.ipynb#nonpos_rational_is_rational_nonpos\">nonpos_rational_is_rational_nonpos</a> theorem\n",
    "========"
   ]
  },
  {
   "cell_type": "code",
   "execution_count": 1,
   "metadata": {},
   "outputs": [],
   "source": [
    "import proveit\n",
    "theory = proveit.Theory() # the theorem's theory"
   ]
  },
  {
   "cell_type": "code",
   "execution_count": 2,
   "metadata": {},
   "outputs": [
    {
     "data": {
      "text/html": [
       "With these <a href=\"allowed_presumptions.txt\">allowed</a>/<a href=\"disallowed_presumptions.txt\">disallowed</a> theorem/theory presumptions (e.g., to avoid circular dependencies), we begin our proof of<br><strong id=\"nonpos_rational_is_rational_nonpos\">nonpos_rational_is_rational_nonpos:</strong> <a class=\"ProveItLink\" href=\"../../../__pv_it/theorems/8590076a3569a439e3682f6c9f2e88e030a2c4370/expr.ipynb\"><img src=\"data:image/png;base64,iVBORw0KGgoAAAANSUhEUgAAAMAAAAAaBAMAAAATV059AAAAMFBMVEX///8AAAAAAAAAAAAAAAAA\n",
       "AAAAAAAAAAAAAAAAAAAAAAAAAAAAAAAAAAAAAAAAAAAv3aB7AAAAD3RSTlMAq1RmmUTNIjK7EInv\n",
       "3XZ/CtNrAAAACXBIWXMAAA7EAAAOxAGVKw4bAAADGUlEQVRIx7VWS2gTURQ9yfySSTpEqWgRSlA3\n",
       "4iaWqohQ66ciumig4kaE4kJRBKc7i5VGwYUY0kGtkooypSsRSWwXfqpQlKIiiuCioARGq+BnU0Sp\n",
       "6Mb7ZjKTmWQanYh38TLzXnLP/Zx7XoD/YqtVTH75Fwdcur5/A5whaOhsGGBV3dONKSCewTz6G/Uv\n",
       "99Y7/ZSkZVDHQ0qjQYBoyhf2bv6iCmSZfwzpeAW8BhLsbWVAgAHf3bdPcHI5EL6iWwAvaAvoYkeH\n",
       "AgLs9tuMbUpB6NIAgSFQib4CBR2n6EjSAgJ899s8J9KiddASaVatJkNMQSS0WDKY/8hPT09LJbPn\n",
       "I6O03GEokBbpiiFQ9XkNHPVLDJiA8tL1svdzucVajtYVfMZEACbfU+jKFPC8VHoWECDEIpZa731k\n",
       "H0fstIo9tPZwnmoIlOtOSs7XzcJjGGU926+G5uhDVG1fRhutubCHwZEfQB+khIfMW5ZaT9qC4iLS\n",
       "D+RHViJOeaUiI3uPkj6bJyvDSkSHqB6zhSXXMowTRUwkawBscbGsiZLj59BUpOdsicw8KPdA98we\n",
       "AYQNOwieqoXbSYxtqAZwxKWSQVzDIAvsuvOlkT6HRY5JVCL0Mure6FiHWVa00yoUpQIgT8ymXeJS\n",
       "ASgY2Gxm4zjbZ85Bm5fQLKZx4oE8E5mXmUduDB6Am+qQ6hYXi0V0VEjikklZR894NslLvDPLWIQB\n",
       "NhCdkSmB9Z85V2IVgO3IesTFmgNid9TgfpkvBxxvt0iLmqvujSkWD41GPK0kuMP5/HmhqkTTTK9c\n",
       "4uLEJbe+swRjdNhuq9R98FvGC8DbBC2oUSPCSFHVZHke1zziYtm0Gd1cufZXS+XrIZTpqJoY0Z6K\n",
       "uDqUseYtl8B4qpLBYzYqLnFxqWmo9tZpVRaf8WwU7OyEbd1AP8tPfrBjmWvQ9rRbcdriYlnWDKpY\n",
       "AxBuOXrBs7G28rjevJGGSVqPp9yTzPndjiHiVezYmz+r1ozfHbK1/YMLgC8GvpNdJKrcybGnqjMc\n",
       "sxkXwP3LcItL2db8HUD9fxVq4/+LbNsF/AbDLNrdVdH8jAAAAABJRU5ErkJggg==\n",
       "\" style=\"display:inline;vertical-align:middle;\" /></a><br>(see <a class=\"ProveItLink\" href=\"../../../__pv_it/theorems/34835944e7848971bcc936ef76e01ffe830dcf5c0/dependencies.ipynb\">dependencies</a>)<br>"
      ],
      "text/plain": [
       "<IPython.core.display.HTML object>"
      ]
     },
     "metadata": {},
     "output_type": "display_data"
    },
    {
     "name": "stdout",
     "output_type": "stream",
     "text": [
      "nonpos_rational_is_rational_nonpos may now be readily provable (assuming required theorems are usable).  Simply execute \"%qed\".\n"
     ]
    }
   ],
   "source": [
    "%proving nonpos_rational_is_rational_nonpos"
   ]
  },
  {
   "cell_type": "code",
   "execution_count": null,
   "metadata": {},
   "outputs": [],
   "source": []
  }
 ],
 "metadata": {
  "kernelspec": {
   "display_name": "Python 3",
   "language": "python",
   "name": "python3"
  }
 },
 "nbformat": 4,
 "nbformat_minor": 0
}