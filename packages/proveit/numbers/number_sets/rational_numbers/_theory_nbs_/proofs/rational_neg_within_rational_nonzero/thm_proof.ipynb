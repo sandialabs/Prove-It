{
 "cells": [
  {
   "cell_type": "markdown",
   "metadata": {},
   "source": [
    "Proof of <a class=\"ProveItLink\" href=\"../../../../../../_theory_nbs_/theory.ipynb\">proveit</a>.<a class=\"ProveItLink\" href=\"../../../../../_theory_nbs_/theory.ipynb\">numbers</a>.<a class=\"ProveItLink\" href=\"../../../../_theory_nbs_/theory.ipynb\">number_sets</a>.<a class=\"ProveItLink\" href=\"../../theory.ipynb\">rational_numbers</a>.<a class=\"ProveItLink\" href=\"../../theorems.ipynb#rational_neg_within_rational_nonzero\">rational_neg_within_rational_nonzero</a> theorem\n",
    "========"
   ]
  },
  {
   "cell_type": "code",
   "execution_count": 1,
   "metadata": {},
   "outputs": [],
   "source": [
    "import proveit\n",
    "theory = proveit.Theory() # the theorem's theory"
   ]
  },
  {
   "cell_type": "code",
   "execution_count": 2,
   "metadata": {},
   "outputs": [
    {
     "data": {
      "text/html": [
       "With these <a href=\"allowed_presumptions.txt\">allowed</a>/<a href=\"disallowed_presumptions.txt\">disallowed</a> theorem/theory presumptions (e.g., to avoid circular dependencies), we begin our proof of<br><strong id=\"rational_neg_within_rational_nonzero\">rational_neg_within_rational_nonzero:</strong> <a class=\"ProveItLink\" href=\"../../../__pv_it/theorems/8703f216dd96e0167b7694cd2fa5ea6e1f94b2c10/expr.ipynb\"><img src=\"data:image/png;base64,iVBORw0KGgoAAAANSUhEUgAAAF8AAAAXCAMAAABamWPGAAAAOVBMVEX///8AAAAAAAAAAAAAAAAA\n",
       "AAAAAAAAAAAAAAAAAAAAAAAAAAAAAAAAAAAAAAAAAAAAAAAAAAAAAAACXHtMAAAAEnRSTlMAEIm7\n",
       "mSJ2q+8y3WZEzVTt5cnMFh2FAAAACXBIWXMAAA7EAAAOxAGVKw4bAAABSklEQVRIx7VVi47EIAi0\n",
       "4qNU9O78/489wT6yXb12zZWkxhiHwgygUg/YpB41TbJqpx9xbz2vwSlF8IR/b3mdsSzZ/r97ElZs\n",
       "ZhHmVPXQUMwM/OwFaXgPX+ULCsX/EvjceU7GLv5jPRpIJy5X/7NjoYOWMzKiB8Jml/mckJLQuqn8\n",
       "5MIPahXrGYjo9+2MZH6+f0D4OfSFafJrOLjdb3IBSzXcThpI9Pt1rk8vCeEadUrKYC/WqM90tZBw\n",
       "tG7pLzNJkhTWygoqpE6dLLZFzxmZ3vkltzst0aTQ6RlSd5ANeq3enZYoHLX9t3R5R6YW+pXF9ug7\n",
       "ZPsUyZLYy/qxfhQp8+Ko4o68ahlGlrbYutD356kJo0jObpsipn8n0iiS6TU5xtztrdpMnqYhZK1v\n",
       "vJw9pOE0H+4i5ZorwzYhDTxX95DJQ5whDDxYfyJ/AeakC+5W1W9AAAAAAElFTkSuQmCC\n",
       "\" style=\"display:inline;vertical-align:middle;\" /></a><br>(see <a class=\"ProveItLink\" href=\"../../../__pv_it/theorems/51c44c4f900d01bbebd392211e77349ef9953d7e0/dependencies.ipynb\">dependencies</a>)<br>"
      ],
      "text/plain": [
       "<IPython.core.display.HTML object>"
      ]
     },
     "metadata": {},
     "output_type": "display_data"
    }
   ],
   "source": [
    "%proving rational_neg_within_rational_nonzero"
   ]
  },
  {
   "cell_type": "code",
   "execution_count": null,
   "metadata": {},
   "outputs": [],
   "source": []
  }
 ],
 "metadata": {
  "kernelspec": {
   "display_name": "Python 3",
   "language": "python",
   "name": "python3"
  }
 },
 "nbformat": 4,
 "nbformat_minor": 0
}