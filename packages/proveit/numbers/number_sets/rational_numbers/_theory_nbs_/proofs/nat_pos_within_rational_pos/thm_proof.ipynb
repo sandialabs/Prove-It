{
 "cells": [
  {
   "cell_type": "markdown",
   "metadata": {},
   "source": [
    "Proof of <a class=\"ProveItLink\" href=\"../../../../../../_theory_nbs_/theory.ipynb\">proveit</a>.<a class=\"ProveItLink\" href=\"../../../../../_theory_nbs_/theory.ipynb\">numbers</a>.<a class=\"ProveItLink\" href=\"../../../../_theory_nbs_/theory.ipynb\">number_sets</a>.<a class=\"ProveItLink\" href=\"../../theory.ipynb\">rational_numbers</a>.<a class=\"ProveItLink\" href=\"../../theorems.ipynb#nat_pos_within_rational_pos\">nat_pos_within_rational_pos</a> theorem\n",
    "========"
   ]
  },
  {
   "cell_type": "code",
   "execution_count": 1,
   "metadata": {},
   "outputs": [],
   "source": [
    "import proveit\n",
    "theory = proveit.Theory() # the theorem's theory"
   ]
  },
  {
   "cell_type": "code",
   "execution_count": 2,
   "metadata": {},
   "outputs": [
    {
     "data": {
      "text/html": [
       "With these <a href=\"allowed_presumptions.txt\">allowed</a>/<a href=\"disallowed_presumptions.txt\">disallowed</a> theorem/theory presumptions (e.g., to avoid circular dependencies), we begin our proof of<br><strong id=\"nat_pos_within_rational_pos\">nat_pos_within_rational_pos:</strong> <a class=\"ProveItLink\" href=\"../../../__pv_it/theorems/d32995d6b8eb0274cbee19bb0883e355f64b2e990/expr.ipynb\"><img src=\"data:image/png;base64,iVBORw0KGgoAAAANSUhEUgAAAFQAAAAVBAMAAAAqQdQ7AAAAMFBMVEX///8AAAAAAAAAAAAAAAAA\n",
       "AAAAAAAAAAAAAAAAAAAAAAAAAAAAAAAAAAAAAAAAAAAv3aB7AAAAD3RSTlMAEN27zYnvRFSrImZ2\n",
       "MpmnAiL6AAAACXBIWXMAAA7EAAAOxAGVKw4bAAABRUlEQVQoz2NggAM+BjzgAQqPGZ9SA9KUCn02\n",
       "EWAI+1aAXamosfErhKkW7BMYGD9gN5Vn2gUuzQC40kkLohkYEhgeG5sZG29AUxoNlKorZuAzNk42\n",
       "tmZgmGHAsoBBAaupvAEOQGHuAzBTZ+3hckBVymOkpKR0ASQiOIGBgfWCA1wp54WjKEp5XRdAWcK8\n",
       "QAM5Gt7ClTIYMBcgKxWCqWS4yg50PPuGHQil9xgVFZBiazrcrTXcDUBLDnTDYmsWA3dDcwKSZxzg\n",
       "rKUcYFOPw/izGBgmciIp5Z2AiD+IWx8iKZVkVEAo5UJSKgUPAZhS3gPIqQGhjR0Srg0wvi0Qn0VW\n",
       "+hqJCYytymI41wPkeQckpSwFcCYrKA3Ak+qVb0ATGZGVMloWwtnrvvi/xZc22YOhEQsEc8EpgCjA\n",
       "eeBkbwGRajtNkqFJEwDhsU6fKJTm7gAAAABJRU5ErkJggg==\n",
       "\" style=\"display:inline;vertical-align:middle;\" /></a><br>(see <a class=\"ProveItLink\" href=\"../../../__pv_it/theorems/e405c2bb01f471bb19d5ef15cec655192bed3a420/dependencies.ipynb\">dependencies</a>)<br>"
      ],
      "text/plain": [
       "<IPython.core.display.HTML object>"
      ]
     },
     "metadata": {},
     "output_type": "display_data"
    }
   ],
   "source": [
    "%proving nat_pos_within_rational_pos"
   ]
  },
  {
   "cell_type": "code",
   "execution_count": null,
   "metadata": {},
   "outputs": [],
   "source": []
  }
 ],
 "metadata": {
  "kernelspec": {
   "display_name": "Python 3",
   "language": "python",
   "name": "python3"
  }
 },
 "nbformat": 4,
 "nbformat_minor": 0
}