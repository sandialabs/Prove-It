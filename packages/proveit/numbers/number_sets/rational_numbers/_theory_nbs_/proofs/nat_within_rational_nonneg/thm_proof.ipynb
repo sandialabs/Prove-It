{
 "cells": [
  {
   "cell_type": "markdown",
   "metadata": {},
   "source": [
    "Proof of <a class=\"ProveItLink\" href=\"../../../../../../_theory_nbs_/theory.ipynb\">proveit</a>.<a class=\"ProveItLink\" href=\"../../../../../_theory_nbs_/theory.ipynb\">numbers</a>.<a class=\"ProveItLink\" href=\"../../../../_theory_nbs_/theory.ipynb\">number_sets</a>.<a class=\"ProveItLink\" href=\"../../theory.ipynb\">rational_numbers</a>.<a class=\"ProveItLink\" href=\"../../theorems.ipynb#nat_within_rational_nonneg\">nat_within_rational_nonneg</a> theorem\n",
    "========"
   ]
  },
  {
   "cell_type": "code",
   "execution_count": 1,
   "metadata": {},
   "outputs": [],
   "source": [
    "import proveit\n",
    "theory = proveit.Theory() # the theorem's theory"
   ]
  },
  {
   "cell_type": "code",
   "execution_count": 2,
   "metadata": {},
   "outputs": [
    {
     "data": {
      "text/html": [
       "With these <a href=\"allowed_presumptions.txt\">allowed</a>/<a href=\"disallowed_presumptions.txt\">disallowed</a> theorem/theory presumptions (e.g., to avoid circular dependencies), we begin our proof of<br><strong id=\"nat_within_rational_nonneg\">nat_within_rational_nonneg:</strong> <a class=\"ProveItLink\" href=\"../../../__pv_it/theorems/a3659ec80481500ab6a2d1882e94ddccfa3943e10/expr.ipynb\"><img src=\"data:image/png;base64,iVBORw0KGgoAAAANSUhEUgAAAFAAAAAWBAMAAAClPgbvAAAAMFBMVEX///8AAAAAAAAAAAAAAAAA\n",
       "AAAAAAAAAAAAAAAAAAAAAAAAAAAAAAAAAAAAAAAAAAAv3aB7AAAAD3RSTlMAEN27zYnvRFSrImZ2\n",
       "MpmnAiL6AAAACXBIWXMAAA7EAAAOxAGVKw4bAAABfklEQVQoz2NgwAsuF4Cp0KMMBABjcAOQ5D7A\n",
       "bkBIJcPhDQwMbBcYfhFUyLD5AMN6AYYMBqHPJgIMYd8KMOw0tlsAYW5bcF+AQZuBwYJ9AgPjB3Rz\n",
       "TuYyLJoKZomaMwAV5jAwTFoQzcCQgKaOdesGBvbnIB+sm8sAsvoHA8MMA5YFDApoCq+yAAmDPQwM\n",
       "K4HqoJ6ZtYfLAabwsJKSki6IYSgJJGJZGCRfgXg8B4DOY5jFeeEoVOGVKJhXDO4AyQ6+C4IQfug5\n",
       "AaBCBgPmArBCRi2YzbwB1UCymrsB2TmzGO4xKoIVcsLDiP3ADiB5h2MDqkLuhmawr1ngYlwB3SAT\n",
       "eQouGwPBAphChomcYIU3EbqhbhRANZFBkhFs9UqEoOFKiK/RFPIeACcOJoRgKTgcd6AotAXis2CF\n",
       "fAi384FiZjpq2vIAiTuAme4I0UhgXM9DUXflG1AfI0Sh8HS467neu/y7gDvtlRpBoxAYqBf2MBAH\n",
       "5vDMuE6UQo7JbtZIXACmxV2hc/Y0fwAAAABJRU5ErkJggg==\n",
       "\" style=\"display:inline;vertical-align:middle;\" /></a><br>(see <a class=\"ProveItLink\" href=\"../../../__pv_it/theorems/201dd435c924335f5f20357de848101ff37b50bb0/dependencies.ipynb\">dependencies</a>)<br>"
      ],
      "text/plain": [
       "<IPython.core.display.HTML object>"
      ]
     },
     "metadata": {},
     "output_type": "display_data"
    }
   ],
   "source": [
    "%proving nat_within_rational_nonneg"
   ]
  },
  {
   "cell_type": "code",
   "execution_count": null,
   "metadata": {},
   "outputs": [],
   "source": []
  }
 ],
 "metadata": {
  "kernelspec": {
   "display_name": "Python 3",
   "language": "python",
   "name": "python3"
  }
 },
 "nbformat": 4,
 "nbformat_minor": 0
}