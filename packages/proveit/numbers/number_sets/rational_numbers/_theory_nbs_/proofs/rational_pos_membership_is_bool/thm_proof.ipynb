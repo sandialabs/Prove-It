{
 "cells": [
  {
   "cell_type": "markdown",
   "metadata": {},
   "source": [
    "Proof of <a class=\"ProveItLink\" href=\"../../../../../../_theory_nbs_/theory.ipynb\">proveit</a>.<a class=\"ProveItLink\" href=\"../../../../../_theory_nbs_/theory.ipynb\">numbers</a>.<a class=\"ProveItLink\" href=\"../../../../_theory_nbs_/theory.ipynb\">number_sets</a>.<a class=\"ProveItLink\" href=\"../../theory.ipynb\">rational_numbers</a>.<a class=\"ProveItLink\" href=\"../../theorems.ipynb#rational_pos_membership_is_bool\">rational_pos_membership_is_bool</a> theorem\n",
    "========"
   ]
  },
  {
   "cell_type": "code",
   "execution_count": 1,
   "metadata": {},
   "outputs": [],
   "source": [
    "import proveit\n",
    "theory = proveit.Theory() # the theorem's theory"
   ]
  },
  {
   "cell_type": "code",
   "execution_count": 2,
   "metadata": {},
   "outputs": [
    {
     "data": {
      "text/html": [
       "With these <a href=\"allowed_presumptions.txt\">allowed</a>/<a href=\"disallowed_presumptions.txt\">disallowed</a> theorem/theory presumptions (e.g., to avoid circular dependencies), we begin our proof of<br><strong id=\"rational_pos_membership_is_bool\">rational_pos_membership_is_bool:</strong> <a class=\"ProveItLink\" href=\"../../../__pv_it/theorems/7c446d3ef58ce96e8bf1e6e528554b74908c6fbe0/expr.ipynb\"><img src=\"data:image/png;base64,iVBORw0KGgoAAAANSUhEUgAAAK8AAAAZBAMAAAC1L2MuAAAAMFBMVEX///8AAAAAAAAAAAAAAAAA\n",
       "AAAAAAAAAAAAAAAAAAAAAAAAAAAAAAAAAAAAAAAAAAAv3aB7AAAAD3RSTlMAq1RmmUTNIjK7EInv\n",
       "3XZ/CtNrAAAACXBIWXMAAA7EAAAOxAGVKw4bAAADCklEQVRIx51WQWgTQRT92d1kN0mzhmKVoJSg\n",
       "3jwYA54qpSJFWwWLgR4s2mpBoQTdXgSh0njwotIGqocUqymI2EsbRdAilF4EiwgtiKKwkFIVLDUn\n",
       "pSUg+P/uzmym2ZTYgZnJ/D/z5v///vwNgEc7gl3ugq2aQkPbVkqPJtGBA1viQpCGGzWUatZb/hR7\n",
       "qK8OYLlYQ9vqLR6jgwlPVWg2d9/gwPB1k/rXwrX0EsYwkgeIkmC/4Mg8DkPedy6/g5t7XODlzfrs\n",
       "BXWgCUBH1HZaXxFCX8DhlCduuCUB/vYsdOQe5nLo00x+M3AKXuGdoTLArapg76B8+OMJfDdAh1u5\n",
       "xYFENXDSh3M/6vDScLxSOYoSrSzs/2maFpnjkzi8DnBgxbFInzA/cWBSdyCzeGlAZIB2LlZKulcd\n",
       "6rIjOO5TMgxYn7cm/9W8a/HuFpzXsH8wzfcC8C7sPjJwevnZG/JFHXA0WiGFY0qOM2C/7dj1vEve\n",
       "9BJR1IuSk+ihAJwjT8nHNr1ZIcsDhqPxF5M4jkgJ9ri0DRC5z55P/+2kcKJTg6BGBeCLhIUi2ZDL\n",
       "PmKHR0otUF6mdP7aVZvjvkryVrrR2mHcEsyHxbLwEXsEX7UGin3inonNosmJMfc8ZAFrGE3zCwMO\n",
       "+jEWMwgpFUXuuMUADfaTneKq8UGWFY7FGzanlRYHAZfDGXKE8rJ04ptRBdxrhMi4CD/XY+Vxkq+1\n",
       "dWtaFIHRz1ECe4Gk60YswJI5RlmBt0517YWwlVS81ij08ppcA52sKAnAUtHOChgiouCRxpRrToIe\n",
       "unMazlqSS/zgc6wVO92oyXYec5sg2wNzL3E+SgsfxQPW+W66jUx5UpKO2ycmHzC61DOXf2cqyoqd\n",
       "T6HYOXv9Y+GxVd3gmButeZX9bCDNW4HPngnTSSlfprLWslrhn3WeNGv97MdQuE+po7pha9Ybb/NF\n",
       "VXVjachLjfJ9btU1nnK3FrAUS4/xxeEam+Sop7iRXI5DHe1zDXnE2PY3D7bzzZMoyAfrAP7fr3Q9\n",
       "/yus1lnrfwVy+g8mg7ryy+g+BwAAAABJRU5ErkJggg==\n",
       "\" style=\"display:inline;vertical-align:middle;\" /></a><br>(see <a class=\"ProveItLink\" href=\"../../../__pv_it/theorems/a488dbad866d078f4ea8b06f78e50f38bcd3c6a10/dependencies.ipynb\">dependencies</a>)<br>"
      ],
      "text/plain": [
       "<IPython.core.display.HTML object>"
      ]
     },
     "metadata": {},
     "output_type": "display_data"
    },
    {
     "name": "stdout",
     "output_type": "stream",
     "text": [
      "rational_pos_membership_is_bool may now be readily provable (assuming required theorems are usable).  Simply execute \"%qed\".\n"
     ]
    }
   ],
   "source": [
    "%proving rational_pos_membership_is_bool"
   ]
  },
  {
   "cell_type": "code",
   "execution_count": null,
   "metadata": {},
   "outputs": [],
   "source": []
  }
 ],
 "metadata": {
  "kernelspec": {
   "display_name": "Python 3",
   "language": "python",
   "name": "python3"
  }
 },
 "nbformat": 4,
 "nbformat_minor": 0
}