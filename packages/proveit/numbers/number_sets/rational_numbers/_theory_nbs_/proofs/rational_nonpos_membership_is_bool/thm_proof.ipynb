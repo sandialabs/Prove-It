{
 "cells": [
  {
   "cell_type": "markdown",
   "metadata": {},
   "source": [
    "Proof of <a class=\"ProveItLink\" href=\"../../../../../../_theory_nbs_/theory.ipynb\">proveit</a>.<a class=\"ProveItLink\" href=\"../../../../../_theory_nbs_/theory.ipynb\">numbers</a>.<a class=\"ProveItLink\" href=\"../../../../_theory_nbs_/theory.ipynb\">number_sets</a>.<a class=\"ProveItLink\" href=\"../../theory.ipynb\">rational_numbers</a>.<a class=\"ProveItLink\" href=\"../../theorems.ipynb#rational_nonpos_membership_is_bool\">rational_nonpos_membership_is_bool</a> theorem\n",
    "========"
   ]
  },
  {
   "cell_type": "code",
   "execution_count": 1,
   "metadata": {},
   "outputs": [],
   "source": [
    "import proveit\n",
    "theory = proveit.Theory() # the theorem's theory"
   ]
  },
  {
   "cell_type": "code",
   "execution_count": 2,
   "metadata": {},
   "outputs": [
    {
     "data": {
      "text/html": [
       "With these <a href=\"allowed_presumptions.txt\">allowed</a>/<a href=\"disallowed_presumptions.txt\">disallowed</a> theorem/theory presumptions (e.g., to avoid circular dependencies), we begin our proof of<br><strong id=\"rational_nonpos_membership_is_bool\">rational_nonpos_membership_is_bool:</strong> <a class=\"ProveItLink\" href=\"../../../__pv_it/theorems/935306f9de4f6cece15935102846ea00cfc843e30/expr.ipynb\"><img src=\"data:image/png;base64,iVBORw0KGgoAAAANSUhEUgAAALcAAAAaBAMAAAAHwtCcAAAAMFBMVEX///8AAAAAAAAAAAAAAAAA\n",
       "AAAAAAAAAAAAAAAAAAAAAAAAAAAAAAAAAAAAAAAAAAAv3aB7AAAAD3RSTlMAq1RmmUTNIjK7EInv\n",
       "3XZ/CtNrAAAACXBIWXMAAA7EAAAOxAGVKw4bAAADIklEQVRIx51WXUgUURQ+uzsz+5fDVkpYEFK+\n",
       "RC+bLxFG2YP9GJWw4ENSLQkFIjW+BIHh9tBDKDpQPmhYI/RSD7lJUCLIEgRJFEpQFAyMZEFWPkSx\n",
       "IgSd+7szszuxdmC/u3Pune/ee853zx2A/7VdBsx8W/9rkXYB/+J2IOKoJrQE9CsB/kYJwbYvDbAh\n",
       "B0W4GjAgalZ0J7ICgu1rA0K/Bc9x+QFDDlT0xtMCKkw8PXrbABgk3DBswVuAj74hP+Yu9yxgTGss\n",
       "gBRx7HT39kkot8WXcG0bQPiOxcjfoMs/xjwb7a4D0JG5lTxfdHcel1BmyeY0qK0YTZWwY1h+Akxa\n",
       "fvIMPI3jJtcArpcF/7eEMhvQyMskmrFagyUUtHQ5eVMI2y7sw4mTDa6+2JoAV/5smyZ4bALhmUbV\n",
       "sNHSHRW3rvCV6eP2O0lOhhxDPePEmptInxcgrWOZp9McQtyh5Cg7wMwSrkwv0D71klVa+ZZmbL/j\n",
       "77Vtv3IzhbIcEitbB6YoTbfYVD6DmIm4Nwoq2+QVq5TQRwt5bM+h5yju1qNEk4MCi84J4tEMweM0\n",
       "IQ6FPVGOrYJXE+aZnj9tREy4wV6IptyDtRSHvXDQ2kw98tTliWYzevvNUTQ+ZZTlPutO6KcOIiYU\n",
       "e9xKespITQuHHBxmnkEbjaaNx9wjvgQlj2F07Q+CPK5iXCaRNux48llaOZAjQuyB7BvrlWopFZFV\n",
       "lmv3yuOAj/0k71mi25UjS4afXC3CQ7oX+V4n1XmThzxWpM28lxyjNEwIp1AMulGvcQ2ETAaJkVAB\n",
       "8lScsjYp5ITWeesdV8uKhzzsMLVAH64yAndjQucFBuHV+wWVTXhevvgYa0utr/oznWtSn2YnzD7B\n",
       "dj9dKj0TRc9KEBInnUYegIkRkcLoqQu/cr5bgWktUX+aPX+Zu0erIhwqRa4QFX9fSCjFetzmUgvl\n",
       "/HVa1BZ1mh9/YV2yzCazShVVEW27vumGx1FWFYVEZXlSPs8ui/+DEipZuL7nlsexJ+gmTlXyhhoE\n",
       "VGXvA/w1xv/eoa4Fru8Ohd0SqrB13v7VfbcIawv6bsE8/wX5GtMsuQ1v5AAAAABJRU5ErkJggg==\n",
       "\" style=\"display:inline;vertical-align:middle;\" /></a><br>(see <a class=\"ProveItLink\" href=\"../../../__pv_it/theorems/5380098a9eb6d5ff67876865ce9bc0a0726096a10/dependencies.ipynb\">dependencies</a>)<br>"
      ],
      "text/plain": [
       "<IPython.core.display.HTML object>"
      ]
     },
     "metadata": {},
     "output_type": "display_data"
    },
    {
     "name": "stdout",
     "output_type": "stream",
     "text": [
      "rational_nonpos_membership_is_bool may now be readily provable (assuming required theorems are usable).  Simply execute \"%qed\".\n"
     ]
    }
   ],
   "source": [
    "%proving rational_nonpos_membership_is_bool"
   ]
  },
  {
   "cell_type": "code",
   "execution_count": null,
   "metadata": {},
   "outputs": [],
   "source": []
  }
 ],
 "metadata": {
  "kernelspec": {
   "display_name": "Python 3",
   "language": "python",
   "name": "python3"
  }
 },
 "nbformat": 4,
 "nbformat_minor": 0
}