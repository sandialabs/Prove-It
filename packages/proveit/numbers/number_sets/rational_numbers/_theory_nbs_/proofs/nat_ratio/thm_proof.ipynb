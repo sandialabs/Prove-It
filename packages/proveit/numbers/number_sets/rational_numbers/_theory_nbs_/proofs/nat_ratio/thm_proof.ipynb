{
 "cells": [
  {
   "cell_type": "markdown",
   "metadata": {},
   "source": [
    "Proof of <a class=\"ProveItLink\" href=\"../../../../../../_theory_nbs_/theory.ipynb\">proveit</a>.<a class=\"ProveItLink\" href=\"../../../../../_theory_nbs_/theory.ipynb\">numbers</a>.<a class=\"ProveItLink\" href=\"../../../../_theory_nbs_/theory.ipynb\">number_sets</a>.<a class=\"ProveItLink\" href=\"../../theory.ipynb\">rational_numbers</a>.<a class=\"ProveItLink\" href=\"../../theorems.ipynb#nat_ratio\">nat_ratio</a> theorem\n",
    "========"
   ]
  },
  {
   "cell_type": "code",
   "execution_count": 1,
   "metadata": {},
   "outputs": [],
   "source": [
    "import proveit\n",
    "theory = proveit.Theory() # the theorem's theory"
   ]
  },
  {
   "cell_type": "code",
   "execution_count": 2,
   "metadata": {},
   "outputs": [
    {
     "data": {
      "text/html": [
       "With these <a href=\"allowed_presumptions.txt\">allowed</a>/<a href=\"disallowed_presumptions.txt\">disallowed</a> theorem/theory presumptions (e.g., to avoid circular dependencies), we begin our proof of<br><strong id=\"nat_ratio\">nat_ratio:</strong> <a class=\"ProveItLink\" href=\"../../../__pv_it/theorems/305dd059702be9871bcb69b88073f60afa230ed70/expr.ipynb\"><img src=\"data:image/png;base64,iVBORw0KGgoAAAANSUhEUgAAAQoAAAAmBAMAAADO/MgDAAAAMFBMVEX///8AAAAAAAAAAAAAAAAA\n",
       "AAAAAAAAAAAAAAAAAAAAAAAAAAAAAAAAAAAAAAAAAAAv3aB7AAAAD3RSTlMAq1RmmUTNIjK7EInv\n",
       "3XZ/CtNrAAAACXBIWXMAAA7EAAAOxAGVKw4bAAAEOUlEQVRYw72Yf2gTZxjHn9xdkstdjBlCQQcl\n",
       "o8j6l6tKq4jUOKMrOuZt/WNjPyBjgth/dh3+4VhrsykiiLabOnb+dRU3KO2WsLm5ZQxctz9mR0eR\n",
       "4MAtcO0G7WB2oUU6FKzv876JXJr3Lkkx9/6Re/Pec3cfnnue7/O8B1DTEJaX22BV41mXc5+Z+Htw\n",
       "+V6N9xKiq2MAiX9h8MlZC0C+zf5NNJqig7/8uh5CB2z2hkLmP0D5CaQpcgzFPKEIZPjvqQBr8Iwy\n",
       "4QnFMyZ3OTwEaQ0nuz2h+IO/nLZgF50M6B5QyA45mI5Bk4AAoYwHFL4h/nrIEnISTsTrHlCsdZA6\n",
       "pfnb3jmqGwuMgt6+pQYKKZ/P/6nVRzGoV7PIMYq9eDhcoy8isfoodlW12Mco3ke/DDWIoqmqxX+M\n",
       "IkAyWo01iOLH6oKSohQiCaAANIjifvXIibEcmcznf20UxSLNg+bsnKNFuo1RdAFcepwUtsrB8vAN\n",
       "3VfA2pGnY0XKr7UYRS8EK8TgShbvMTNrpxAwU2ugiNukc4HVT1/SWVEyjCJkqnYVGL3wBEny954j\n",
       "0WIG3HzRf0ATMfpOFRMsmPsadkbLKPx3bfXTPpZxFChFnFEIVulh8rShBb8HdQuZf7EXxiBsOlCg\n",
       "pRDNwn5UaXzEufUX4SnVlMxKX5D6OeAsdiUKSHYWVxIka9R3QNmKitev9cOalAMFWgqdEo2BMJlL\n",
       "XSjAVlyFq4lcQiujKNVP97iAL3vwRXS2RzBcTz8NYJEzJ7PoC72SYrTzGlBL4YOXLaQYnN8Af+HJ\n",
       "1o3H1fK4CC6y+vlxlUqDFH3kCcrv8tIIru5ooxQvUhXhxAUaArUUUtmNSHHH/FuhodGqXn6tnEJ5\n",
       "QOun6CIbA0W9AB+6NC5f78ZV9IOVGY7RHNlWWc3QELoZhRTBp5+HDj8tna0Q/6ecAn6m9XPmrotq\n",
       "abbKHtYi0Q7DMGKvFN+IU2VHQ6CWQkrJYAb+ArvFI4bxEaEYDZTrBRyhv2Kh4n4jk/aWsESR1kPW\n",
       "GZyw6DyaSCQ0LgUx3GGeYb6AlxC3AONyhvnCv2nFw55nvQ5HLg4Vjz/Yu5ywPpgKmTQHQW1x6XKI\n",
       "YbdJLUUNIlElA7fFISa+7QDTKys7TfUwpxFfKB4/tFP49xyE4CdUtXJvplwo/Hs2fcUsz5KmJCqP\n",
       "w8l5gHfJJfItHXyV/SVx79uVPbD/nr3STNg3UaOGQV7DtRPVOz5mSU+wZPjOuMjtL+MOQalOFWmW\n",
       "yikOPNqxtLyg1d53vupaU1hzy9stNU9TAVSTZRTqjUcKdW57Hd2v+05eccrRdI9CvRCOebEr+sZ5\n",
       "z/YbHv/1ZG8WTjk2vVRQxz2hEJNOO0c/5mok6c33i7f4ywsgYa726d5QfM7fF/0PYySulZt1fkVZ\n",
       "7XetYA93eR1cQDlpq++71urHMe7q8FUE+LT09yGLaj2iGI1C8wAAAABJRU5ErkJggg==\n",
       "\" style=\"display:inline;vertical-align:middle;\" /></a><br>(see <a class=\"ProveItLink\" href=\"../../../__pv_it/theorems/07d0c2b9f699043f03ff80f9f266ed96347b5ee40/dependencies.ipynb\">dependencies</a>)<br>"
      ],
      "text/plain": [
       "<IPython.core.display.HTML object>"
      ]
     },
     "metadata": {},
     "output_type": "display_data"
    }
   ],
   "source": [
    "%proving nat_ratio"
   ]
  },
  {
   "cell_type": "code",
   "execution_count": null,
   "metadata": {},
   "outputs": [],
   "source": []
  }
 ],
 "metadata": {
  "kernelspec": {
   "display_name": "Python 3",
   "language": "python",
   "name": "python3"
  }
 },
 "nbformat": 4,
 "nbformat_minor": 0
}