{
 "cells": [
  {
   "cell_type": "markdown",
   "metadata": {},
   "source": [
    "Proof of <a class=\"ProveItLink\" href=\"../../../../../../_theory_nbs_/theory.ipynb\">proveit</a>.<a class=\"ProveItLink\" href=\"../../../../../_theory_nbs_/theory.ipynb\">numbers</a>.<a class=\"ProveItLink\" href=\"../../../../_theory_nbs_/theory.ipynb\">number_sets</a>.<a class=\"ProveItLink\" href=\"../../theory.ipynb\">rational_numbers</a>.<a class=\"ProveItLink\" href=\"../../theorems.ipynb#rational_nonneg_within_rational\">rational_nonneg_within_rational</a> theorem\n",
    "========"
   ]
  },
  {
   "cell_type": "code",
   "execution_count": 1,
   "metadata": {},
   "outputs": [],
   "source": [
    "import proveit\n",
    "theory = proveit.Theory() # the theorem's theory"
   ]
  },
  {
   "cell_type": "code",
   "execution_count": 2,
   "metadata": {},
   "outputs": [
    {
     "data": {
      "text/html": [
       "With these <a href=\"allowed_presumptions.txt\">allowed</a>/<a href=\"disallowed_presumptions.txt\">disallowed</a> theorem/theory presumptions (e.g., to avoid circular dependencies), we begin our proof of<br><strong id=\"rational_nonneg_within_rational\">rational_nonneg_within_rational:</strong> <a class=\"ProveItLink\" href=\"../../../__pv_it/theorems/554219247c4ac1653e0c62390d69fca5c9d672650/expr.ipynb\"><img src=\"data:image/png;base64,iVBORw0KGgoAAAANSUhEUgAAAFIAAAAWBAMAAAChy9bSAAAAMFBMVEX///8AAAAAAAAAAAAAAAAA\n",
       "AAAAAAAAAAAAAAAAAAAAAAAAAAAAAAAAAAAAAAAAAAAv3aB7AAAAD3RSTlMAEIm7mSJ2q+8y3WZE\n",
       "zVRISQrpAAAACXBIWXMAAA7EAAAOxAGVKw4bAAABO0lEQVQoz2NggAJOGzDFpKbAQAgI2YHIbQyH\n",
       "CapkYLMGEp0M/AGElXKbMbB+ZOB4gNtaY2NXqNJWzo8MXBtwKWCrmMC6HOwNRuUDQJUcCeiuginQ\n",
       "1mZgOALyBqv7BJDt/Oi2wxRwKlxgYGDmTmBgLZ+A1UdwBcyCBcBQnHCBsQSsIo3hONROq1WrVoH0\n",
       "whQwCHMC3cX3wJNRABryjhCTLsGMhilgmMQD9CvPhn1ojpOCuwGu4Bg30AecCa/RVNbAWXAFQXxg\n",
       "LTmcxkBgCpe/AGfBFDAwQ5zhiObhAjgTroBZFOo1FMCKpBKmgAcSXOjBvQDOQijwBkbBcYyk5o3E\n",
       "hClgAkWrA7pK3gNwJkJByN/7nhgJjNH8IJyNUFDJnYCZFnmUobGJrIA9If3lAXxJHKHguW3zBry5\n",
       "AaQAALpZZHHZi3s2AAAAAElFTkSuQmCC\n",
       "\" style=\"display:inline;vertical-align:middle;\" /></a><br>(see <a class=\"ProveItLink\" href=\"../../../__pv_it/theorems/f18d9dc60e9dce515bf0d36f742df16ed539d3580/dependencies.ipynb\">dependencies</a>)<br>"
      ],
      "text/plain": [
       "<IPython.core.display.HTML object>"
      ]
     },
     "metadata": {},
     "output_type": "display_data"
    }
   ],
   "source": [
    "%proving rational_nonneg_within_rational"
   ]
  },
  {
   "cell_type": "code",
   "execution_count": null,
   "metadata": {},
   "outputs": [],
   "source": []
  }
 ],
 "metadata": {
  "kernelspec": {
   "display_name": "Python 3",
   "language": "python",
   "name": "python3"
  }
 },
 "nbformat": 4,
 "nbformat_minor": 0
}