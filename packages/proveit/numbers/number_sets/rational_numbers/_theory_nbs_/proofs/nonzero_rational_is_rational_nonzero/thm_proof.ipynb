{
 "cells": [
  {
   "cell_type": "markdown",
   "metadata": {},
   "source": [
    "Proof of <a class=\"ProveItLink\" href=\"../../../../../../_theory_nbs_/theory.ipynb\">proveit</a>.<a class=\"ProveItLink\" href=\"../../../../../_theory_nbs_/theory.ipynb\">numbers</a>.<a class=\"ProveItLink\" href=\"../../../../_theory_nbs_/theory.ipynb\">number_sets</a>.<a class=\"ProveItLink\" href=\"../../theory.ipynb\">rational_numbers</a>.<a class=\"ProveItLink\" href=\"../../theorems.ipynb#nonzero_rational_is_rational_nonzero\">nonzero_rational_is_rational_nonzero</a> theorem\n",
    "========"
   ]
  },
  {
   "cell_type": "code",
   "execution_count": 1,
   "metadata": {},
   "outputs": [],
   "source": [
    "import proveit\n",
    "theory = proveit.Theory() # the theorem's theory"
   ]
  },
  {
   "cell_type": "code",
   "execution_count": 2,
   "metadata": {},
   "outputs": [
    {
     "data": {
      "text/html": [
       "With these <a href=\"allowed_presumptions.txt\">allowed</a>/<a href=\"disallowed_presumptions.txt\">disallowed</a> theorem/theory presumptions (e.g., to avoid circular dependencies), we begin our proof of<br><strong id=\"nonzero_rational_is_rational_nonzero\">nonzero_rational_is_rational_nonzero:</strong> <a class=\"ProveItLink\" href=\"../../../__pv_it/theorems/0926aa8e6edcb52ceff3f47f4b3793699b79bc980/expr.ipynb\"><img src=\"data:image/png;base64,iVBORw0KGgoAAAANSUhEUgAAAL8AAAAbCAMAAAAaua7MAAAAOVBMVEX///8AAAAAAAAAAAAAAAAA\n",
       "AAAAAAAAAAAAAAAAAAAAAAAAAAAAAAAAAAAAAAAAAAAAAAAAAAAAAAACXHtMAAAAEnRSTlMAq1Rm\n",
       "mUTNIjK7EInv3Xbt5cmRiLwgAAAACXBIWXMAAA7EAAAOxAGVKw4bAAADA0lEQVRYw9VYi5LbIAzk\n",
       "DQKstv7/jy0PEfzCcZM4nWPmcs6NwdJqtVofYz9oefajV9DlM2D4TwFI/c5uy8sZyJiGdKG+Hr54\n",
       "75Hc5s/o0secLi18m73mre26sMbOuQmioEp8c4H8h1wDpKUK4kzla/iVfiRzJf6pHDXlS97LK28N\n",
       "38br9yLPNLET752KNboaf8R6V07u0VPG3hq/uq4aQYYSrVa6kdzTReXPLMrf8rVrBbi7H+bL4uMC\n",
       "o1aBQvLMn99/oPCn929GPGdpaCoEcWv4tfDHbIEprd7d4D2BGhxl8kCZYdZP+qYy5JJob+6FH6eR\n",
       "rhhcZ5ao4khahGDK1ZQ6uQIq+oalpWLOfoo3DzVu+hzC4NG1b8bv6aMJ0/RbZlqIY6nUpaa7DJ92\n",
       "4isWBVp76SmRl89j1dBYg86pYFVFM+Kka3PZ8rESK85XD4FXLIqhB/goV9XYh2bDQ8oT/phOFIPW\n",
       "t1UTMvRhc4tDDqDzYaEImrgU/8aiLNdEVVMF+anl5yp704LF+Uv+n/DC1/gzuzYwKEX8DDZH7qW0\n",
       "V+LfWJQj/CN04Ba6vqqvt1v9GeHvqIbNS/ggMblEbKPYOVHiQIbH8dOGgUXZx+/nfJCce10OnU7X\n",
       "f3GqyZakn0TAp95Kf+ygSF8zGcVPG4YWZVEaoPhzQNBRxQNpUW3+cn06VDXNFBvbQFCZkQ/56nEj\n",
       "C4fx04ahRVnoP90FmOFfnGYOEA7N/5w7btmezIntURdXJE2BEwTTT/hDG4YWZY+V54hi6SU8B73r\n",
       "UatmY+bWhEMh59t+tgUg1+E579+2YWxR1qk23OYN32HlHxqkTw2+2TrmaOtM6MPMFXTDylvDfsPQ\n",
       "ohz6T37Fq/BUcy6cPpPPbd20kkWfLbguMJMy3A3mV9swtCgLsej+/5pXERxMPHvpkUczV5r+/qOJ\n",
       "Qm59CBxsGFmUJaDUEcHM00fM1mSvvWYoIRXqUfy04Tkl/Icd7mF7hAj7rBxKN8KfNogLbyfioxb3\n",
       "9fetl98z3/v/z5YVpcP+AhvMGdc0rapfAAAAAElFTkSuQmCC\n",
       "\" style=\"display:inline;vertical-align:middle;\" /></a><br>(see <a class=\"ProveItLink\" href=\"../../../__pv_it/theorems/7928e66d7d884461199b0097f195dcd48925c7ec0/dependencies.ipynb\">dependencies</a>)<br>"
      ],
      "text/plain": [
       "<IPython.core.display.HTML object>"
      ]
     },
     "metadata": {},
     "output_type": "display_data"
    },
    {
     "name": "stdout",
     "output_type": "stream",
     "text": [
      "nonzero_rational_is_rational_nonzero may now be readily provable (assuming required theorems are usable).  Simply execute \"%qed\".\n"
     ]
    }
   ],
   "source": [
    "%proving nonzero_rational_is_rational_nonzero"
   ]
  },
  {
   "cell_type": "code",
   "execution_count": null,
   "metadata": {},
   "outputs": [],
   "source": []
  }
 ],
 "metadata": {
  "kernelspec": {
   "display_name": "Python 3",
   "language": "python",
   "name": "python3"
  }
 },
 "nbformat": 4,
 "nbformat_minor": 0
}