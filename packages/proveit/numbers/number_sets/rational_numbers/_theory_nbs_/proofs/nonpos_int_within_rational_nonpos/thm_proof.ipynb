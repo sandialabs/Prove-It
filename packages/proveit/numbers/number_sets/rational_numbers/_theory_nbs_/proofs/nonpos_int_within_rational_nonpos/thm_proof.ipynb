{
 "cells": [
  {
   "cell_type": "markdown",
   "metadata": {},
   "source": [
    "Proof of <a class=\"ProveItLink\" href=\"../../../../../../_theory_nbs_/theory.ipynb\">proveit</a>.<a class=\"ProveItLink\" href=\"../../../../../_theory_nbs_/theory.ipynb\">numbers</a>.<a class=\"ProveItLink\" href=\"../../../../_theory_nbs_/theory.ipynb\">number_sets</a>.<a class=\"ProveItLink\" href=\"../../theory.ipynb\">rational_numbers</a>.<a class=\"ProveItLink\" href=\"../../theorems.ipynb#nonpos_int_within_rational_nonpos\">nonpos_int_within_rational_nonpos</a> theorem\n",
    "========"
   ]
  },
  {
   "cell_type": "code",
   "execution_count": 1,
   "metadata": {},
   "outputs": [],
   "source": [
    "import proveit\n",
    "theory = proveit.Theory() # the theorem's theory"
   ]
  },
  {
   "cell_type": "code",
   "execution_count": 2,
   "metadata": {},
   "outputs": [
    {
     "data": {
      "text/html": [
       "With these <a href=\"allowed_presumptions.txt\">allowed</a>/<a href=\"disallowed_presumptions.txt\">disallowed</a> theorem/theory presumptions (e.g., to avoid circular dependencies), we begin our proof of<br><strong id=\"nonpos_int_within_rational_nonpos\">nonpos_int_within_rational_nonpos:</strong> <a class=\"ProveItLink\" href=\"../../../__pv_it/theorems/e4fa40bfaa1eb041714671a6704806880c5a65f70/expr.ipynb\"><img src=\"data:image/png;base64,iVBORw0KGgoAAAANSUhEUgAAAGQAAAAWBAMAAADEJiStAAAAMFBMVEX///8AAAAAAAAAAAAAAAAA\n",
       "AAAAAAAAAAAAAAAAAAAAAAAAAAAAAAAAAAAAAAAAAAAv3aB7AAAAD3RSTlMAVM3vu91mdqsymYki\n",
       "EESqKsraAAAACXBIWXMAAA7EAAAOxAGVKw4bAAAB1UlEQVQ4y2NgQABGHwbu7RsYcAORAwy7q5EF\n",
       "GN0ZGNIZnuDRUcDAVsDngBBgcwMSlgz8B3DpSElgYGCewPAHLsDuCCR4/jIwC+DQUQKSOH+BwZCB\n",
       "UfmzSqhzAqchSJjzLwNrAppS3i0uXkCbJ4ONmn+BIYyB3WMCgwIT0KF7IVqYC9C0VFgyHO0G+tT7\n",
       "AkSLOQPXAgb2hI1A3pO9YIfxozmMOzuBgW8d0M98ID1Ah31k4DjAcIUXHAoz1mDz/mygCxgc0kFO\n",
       "6DoA8T4vA8NKjglg2RO9DOUML6CeDQ0NjQQxfG8AiZ0gfQw8HRfYC/gaQLobZkFNPACMyrVg1qQ9\n",
       "MM87TAeSglxgQ3kYGHZXgbzEcsEXPUB5Y2Aszg3PgOQzNlQfSrOhBxIDxwMYi68gEUhOZ0QNelAQ\n",
       "M3C6AIEPTIgJLsmzQQxkC/uDKSAF0KBhF9jHwHAB1ZYZCCbULygKrvAAg7gHVcsJBNP3BDzE4KAT\n",
       "GDO8H1C1sCKYr8Hxkogsy7ngFdC7AahauBC+5QLFfp8DsizLBV0GHkcHtCDTQzB3ANNYF4rkYycT\n",
       "F3sT9Lx4pQ/uX571Sr8mMBABXrtCEwzQ1RPSGUgF7eyN80jUwtii7IbEBQDbQHJ2qXtWDwAAAABJ\n",
       "RU5ErkJggg==\n",
       "\" style=\"display:inline;vertical-align:middle;\" /></a><br>(see <a class=\"ProveItLink\" href=\"../../../__pv_it/theorems/7c8117d9a352adc1d59df7fd7eeb7b07b5bc0fa30/dependencies.ipynb\">dependencies</a>)<br>"
      ],
      "text/plain": [
       "<IPython.core.display.HTML object>"
      ]
     },
     "metadata": {},
     "output_type": "display_data"
    }
   ],
   "source": [
    "%proving nonpos_int_within_rational_nonpos"
   ]
  },
  {
   "cell_type": "code",
   "execution_count": null,
   "metadata": {},
   "outputs": [],
   "source": []
  }
 ],
 "metadata": {
  "kernelspec": {
   "display_name": "Python 3",
   "language": "python",
   "name": "python3"
  }
 },
 "nbformat": 4,
 "nbformat_minor": 0
}