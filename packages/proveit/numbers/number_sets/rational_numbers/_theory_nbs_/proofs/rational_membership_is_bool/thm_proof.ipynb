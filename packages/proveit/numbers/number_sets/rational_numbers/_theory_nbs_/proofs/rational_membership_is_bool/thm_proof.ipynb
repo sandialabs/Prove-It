{
 "cells": [
  {
   "cell_type": "markdown",
   "metadata": {},
   "source": [
    "Proof of <a class=\"ProveItLink\" href=\"../../../../../../_theory_nbs_/theory.ipynb\">proveit</a>.<a class=\"ProveItLink\" href=\"../../../../../_theory_nbs_/theory.ipynb\">numbers</a>.<a class=\"ProveItLink\" href=\"../../../../_theory_nbs_/theory.ipynb\">number_sets</a>.<a class=\"ProveItLink\" href=\"../../theory.ipynb\">rational_numbers</a>.<a class=\"ProveItLink\" href=\"../../theorems.ipynb#rational_membership_is_bool\">rational_membership_is_bool</a> theorem\n",
    "========"
   ]
  },
  {
   "cell_type": "code",
   "execution_count": 1,
   "metadata": {},
   "outputs": [],
   "source": [
    "import proveit\n",
    "theory = proveit.Theory() # the theorem's theory"
   ]
  },
  {
   "cell_type": "code",
   "execution_count": 2,
   "metadata": {},
   "outputs": [
    {
     "data": {
      "text/html": [
       "With these <a href=\"allowed_presumptions.txt\">allowed</a>/<a href=\"disallowed_presumptions.txt\">disallowed</a> theorem/theory presumptions (e.g., to avoid circular dependencies), we begin our proof of<br><strong id=\"rational_membership_is_bool\">rational_membership_is_bool:</strong> <a class=\"ProveItLink\" href=\"../../../__pv_it/theorems/e65e11df44a85a01263891c05edbc040f3d06a160/expr.ipynb\"><img src=\"data:image/png;base64,iVBORw0KGgoAAAANSUhEUgAAAJsAAAAVBAMAAACj9YEXAAAAMFBMVEX///8AAAAAAAAAAAAAAAAA\n",
       "AAAAAAAAAAAAAAAAAAAAAAAAAAAAAAAAAAAAAAAAAAAv3aB7AAAAD3RSTlMAq1RmmUTNIjK7EInv\n",
       "3XZ/CtNrAAAACXBIWXMAAA7EAAAOxAGVKw4bAAACnUlEQVQ4y31UTWgTQRT+spvNZrPNUhDBqoeI\n",
       "IoI/hFIVLxoo2qIoEbz4Qwl4EER0RSmIVeK5iLnYEsESQZTWS9qevEguHlSqUbQoGNiqRagYPLUe\n",
       "fW83u8xsdh2Y2cn78r73Ow/oXjZtHfErDrMjpVaOjm+R0LNqdQjQnJDC14nVhfXACN17WbBVRHfS\n",
       "VuqRhjaX9feEfA/JDc0ZfVSElQcO8+8LApYp0fEk0rn5eeDUaSBVC9PlTbsCXATucDIqApYkGxiM\n",
       "YkvXyZKhOlALXXRqjsIc8CyZOQHr4aMhxfiwtehqzZCKWSbO1yGA6UjcU4NKzqRE5e2cupIg0C53\n",
       "YptOUw2U3DBwXgaILnGNcpoiroVW641Id4wDJizT3jg+x4JRP1PjGv1dy/cDs5AAQ1v5vYm+JnlP\n",
       "xh6IdGyZzSSx5ByX6jSiUlLSDrXBPkiAoS2++0jcKgV1FXqvSPeBdpb09uNQbR0LgsBvKq53y8Au\n",
       "SAAFa+2lsiqUcqNmFkW6l1wOkpRxxKsnZaP1xdXycncUuBcCKAuVsyT5Q7gjVSKgA956fRh0kfHU\n",
       "r+y5EMB0BnnODVE6SEd76IctBwttDTMsaAYl9vqOsN2QAJeOnFJYMkdRW3ZfqtN8U4w7yNxPNOA+\n",
       "tXbg+CC9ipP0KnAAEuDS7aFSsL9jFIKKqXQHm/Uqrvx93NBcC6mgyU1+s4VOMwmAodXNXwWvv5Ao\n",
       "s2jN17nLWW4ic8LZ1u8lr++Mj11fvTLM308SYF2quhMF2aCm6YY/xbLM/lksjvbce0u0Nqg8nPRm\n",
       "F+CuW/5lzCwlO1f3fQ/ETMiEs7Sj6E2JiBUMjuTyixX/PsnZsGP4tky8yuNGzJSuREmnpZ6KWpPR\n",
       "4mgfdE7P7f+wWTGu/wT+Ae+poynQi0hUAAAAAElFTkSuQmCC\n",
       "\" style=\"display:inline;vertical-align:middle;\" /></a><br>(see <a class=\"ProveItLink\" href=\"../../../__pv_it/theorems/427f74e2bc7ce4ca3dd7de1c95583e7a46069d400/dependencies.ipynb\">dependencies</a>)<br>"
      ],
      "text/plain": [
       "<IPython.core.display.HTML object>"
      ]
     },
     "metadata": {},
     "output_type": "display_data"
    },
    {
     "name": "stdout",
     "output_type": "stream",
     "text": [
      "rational_membership_is_bool may now be readily provable (assuming required theorems are usable).  Simply execute \"%qed\".\n"
     ]
    }
   ],
   "source": [
    "%proving rational_membership_is_bool"
   ]
  },
  {
   "cell_type": "code",
   "execution_count": null,
   "metadata": {},
   "outputs": [],
   "source": []
  }
 ],
 "metadata": {
  "kernelspec": {
   "display_name": "Python 3",
   "language": "python",
   "name": "python3"
  }
 },
 "nbformat": 4,
 "nbformat_minor": 0
}