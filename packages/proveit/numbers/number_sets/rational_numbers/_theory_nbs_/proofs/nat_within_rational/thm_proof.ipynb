{
 "cells": [
  {
   "cell_type": "markdown",
   "metadata": {},
   "source": [
    "Proof of <a class=\"ProveItLink\" href=\"../../../../../../_theory_nbs_/theory.ipynb\">proveit</a>.<a class=\"ProveItLink\" href=\"../../../../../_theory_nbs_/theory.ipynb\">numbers</a>.<a class=\"ProveItLink\" href=\"../../../../_theory_nbs_/theory.ipynb\">number_sets</a>.<a class=\"ProveItLink\" href=\"../../theory.ipynb\">rational_numbers</a>.<a class=\"ProveItLink\" href=\"../../theorems.ipynb#nat_within_rational\">nat_within_rational</a> theorem\n",
    "========"
   ]
  },
  {
   "cell_type": "code",
   "execution_count": 1,
   "metadata": {},
   "outputs": [],
   "source": [
    "import proveit\n",
    "theory = proveit.Theory() # the theorem's theory"
   ]
  },
  {
   "cell_type": "code",
   "execution_count": 2,
   "metadata": {},
   "outputs": [
    {
     "data": {
      "text/html": [
       "With these <a href=\"allowed_presumptions.txt\">allowed</a>/<a href=\"disallowed_presumptions.txt\">disallowed</a> theorem/theory presumptions (e.g., to avoid circular dependencies), we begin our proof of<br><strong id=\"nat_within_rational\">nat_within_rational:</strong> <a class=\"ProveItLink\" href=\"../../../__pv_it/theorems/d1367892caac3933a65d7ea6b4145a3d2851eb040/expr.ipynb\"><img src=\"data:image/png;base64,iVBORw0KGgoAAAANSUhEUgAAADsAAAASBAMAAAAXqLt+AAAAMFBMVEX///8AAAAAAAAAAAAAAAAA\n",
       "AAAAAAAAAAAAAAAAAAAAAAAAAAAAAAAAAAAAAAAAAAAv3aB7AAAAD3RSTlMAEN27zYnvRFSrImZ2\n",
       "MpmnAiL6AAAACXBIWXMAAA7EAAAOxAGVKw4bAAABG0lEQVQoz2MQ+mwiwBD2rYABFTAGG9stADEs\n",
       "2CcwMH5Ak2U4mcuwaCqIMWlBNANDApos69YNDOzPDYCsGQYsCxgU0KSvsgAJgz1AYtYeLgeY9GEl\n",
       "JSVdEMNQEkjEgtTM4rxwFCp9JQrmMIM7QLKD7wJQmsGAuQAszagFM5s3oBpIVnM3gKTvMSqCpTnh\n",
       "vmM/sANI3uHYAJLmbmgGu5wF7jKugG6Qbp4CkDTDRE6w9E2Ey6F2C4ClJRnBhq9ESBuuhLsc6JID\n",
       "oABgYEJIl4L9DXKALRCfBUvzbYBL84FCbTpI1APEcwALuiO0RwLDfB4oKL4B1TBCpIWnC8Dd/t7l\n",
       "3wX0eCo1ggYqMBAu7GHAB+bwzLiOR5pjsps1AwD8NUN5LIP5FAAAAABJRU5ErkJggg==\n",
       "\" style=\"display:inline;vertical-align:middle;\" /></a><br>(see <a class=\"ProveItLink\" href=\"../../../__pv_it/theorems/d99315ca1517f150aa08d54a15a07aa9afcdd4e60/dependencies.ipynb\">dependencies</a>)<br>"
      ],
      "text/plain": [
       "<IPython.core.display.HTML object>"
      ]
     },
     "metadata": {},
     "output_type": "display_data"
    },
    {
     "name": "stdout",
     "output_type": "stream",
     "text": [
      "nat_within_rational may now be readily provable (assuming required theorems are usable).  Simply execute \"%qed\".\n"
     ]
    }
   ],
   "source": [
    "%proving nat_within_rational"
   ]
  },
  {
   "cell_type": "code",
   "execution_count": null,
   "metadata": {},
   "outputs": [],
   "source": []
  }
 ],
 "metadata": {
  "kernelspec": {
   "display_name": "Python 3",
   "language": "python",
   "name": "python3"
  }
 },
 "nbformat": 4,
 "nbformat_minor": 0
}