{
 "cells": [
  {
   "cell_type": "markdown",
   "metadata": {},
   "source": [
    "Proof of <a class=\"ProveItLink\" href=\"../../../../../../_theory_nbs_/theory.ipynb\">proveit</a>.<a class=\"ProveItLink\" href=\"../../../../../_theory_nbs_/theory.ipynb\">numbers</a>.<a class=\"ProveItLink\" href=\"../../../../_theory_nbs_/theory.ipynb\">number_sets</a>.<a class=\"ProveItLink\" href=\"../../theory.ipynb\">rational_numbers</a>.<a class=\"ProveItLink\" href=\"../../theorems.ipynb#rational_nonpos_within_rational\">rational_nonpos_within_rational</a> theorem\n",
    "========"
   ]
  },
  {
   "cell_type": "code",
   "execution_count": 1,
   "metadata": {},
   "outputs": [],
   "source": [
    "import proveit\n",
    "theory = proveit.Theory() # the theorem's theory"
   ]
  },
  {
   "cell_type": "code",
   "execution_count": 2,
   "metadata": {},
   "outputs": [
    {
     "data": {
      "text/html": [
       "With these <a href=\"allowed_presumptions.txt\">allowed</a>/<a href=\"disallowed_presumptions.txt\">disallowed</a> theorem/theory presumptions (e.g., to avoid circular dependencies), we begin our proof of<br><strong id=\"rational_nonpos_within_rational\">rational_nonpos_within_rational:</strong> <a class=\"ProveItLink\" href=\"../../../__pv_it/theorems/d388b027cb08af04bc84db79f6698b3473f0431a0/expr.ipynb\"><img src=\"data:image/png;base64,iVBORw0KGgoAAAANSUhEUgAAAFIAAAAWBAMAAAChy9bSAAAAMFBMVEX///8AAAAAAAAAAAAAAAAA\n",
       "AAAAAAAAAAAAAAAAAAAAAAAAAAAAAAAAAAAAAAAAAAAv3aB7AAAAD3RSTlMAEIm7mSJ2q+8y3WZE\n",
       "zVRISQrpAAAACXBIWXMAAA7EAAAOxAGVKw4bAAABPklEQVQoz2NgQAJ8pgxMagoMhAGfGQPDNobD\n",
       "hBVyWwOJTgb+AEIK2eyABOtHBo4HOJUIGRu7MjBw9oHYnB8ZuDZgVwA0q2IC63KgNx4rQlRyJKBb\n",
       "BlXAoK3NwHAE5I3DimDb+dFthyngVLjAwMDMDTJouis2H8EVMAsWMDAwTbgAEgwvZEhjOA6102rV\n",
       "qlUTgAy4AmFOoHF8DzzB0gHAkHeEmHQJZjRcwSQeoF95NuxDc5wU3A1wBce4gT7gTHiNprIGzoIr\n",
       "COIDa8nhNAYCU7j8BTgLpoCBGeIMRzQPF8CZcAXMogi/IwArkkqYAh5IcKEH9wI4C6HAGxgFxzGS\n",
       "mjcSE6aACRStDugqeQ/AmQgFIX/ve2IkMEbzg3A2QkEldwJmWuRRhsYmsgL2hPSXB/AlcoSC57bN\n",
       "G/DmB5ACADztZKwe/dlwAAAAAElFTkSuQmCC\n",
       "\" style=\"display:inline;vertical-align:middle;\" /></a><br>(see <a class=\"ProveItLink\" href=\"../../../__pv_it/theorems/073d7d1ec2ae6c67189c7ba0ae162ba207bc6a990/dependencies.ipynb\">dependencies</a>)<br>"
      ],
      "text/plain": [
       "<IPython.core.display.HTML object>"
      ]
     },
     "metadata": {},
     "output_type": "display_data"
    }
   ],
   "source": [
    "%proving rational_nonpos_within_rational"
   ]
  },
  {
   "cell_type": "code",
   "execution_count": null,
   "metadata": {},
   "outputs": [],
   "source": []
  }
 ],
 "metadata": {
  "kernelspec": {
   "display_name": "Python 3",
   "language": "python",
   "name": "python3"
  }
 },
 "nbformat": 4,
 "nbformat_minor": 0
}