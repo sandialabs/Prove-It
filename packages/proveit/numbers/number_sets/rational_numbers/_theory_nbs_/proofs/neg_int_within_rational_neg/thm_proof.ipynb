{
 "cells": [
  {
   "cell_type": "markdown",
   "metadata": {},
   "source": [
    "Proof of <a class=\"ProveItLink\" href=\"../../../../../../_theory_nbs_/theory.ipynb\">proveit</a>.<a class=\"ProveItLink\" href=\"../../../../../_theory_nbs_/theory.ipynb\">numbers</a>.<a class=\"ProveItLink\" href=\"../../../../_theory_nbs_/theory.ipynb\">number_sets</a>.<a class=\"ProveItLink\" href=\"../../theory.ipynb\">rational_numbers</a>.<a class=\"ProveItLink\" href=\"../../theorems.ipynb#neg_int_within_rational_neg\">neg_int_within_rational_neg</a> theorem\n",
    "========"
   ]
  },
  {
   "cell_type": "code",
   "execution_count": 1,
   "metadata": {},
   "outputs": [],
   "source": [
    "import proveit\n",
    "theory = proveit.Theory() # the theorem's theory"
   ]
  },
  {
   "cell_type": "code",
   "execution_count": 2,
   "metadata": {},
   "outputs": [
    {
     "data": {
      "text/html": [
       "With these <a href=\"allowed_presumptions.txt\">allowed</a>/<a href=\"disallowed_presumptions.txt\">disallowed</a> theorem/theory presumptions (e.g., to avoid circular dependencies), we begin our proof of<br><strong id=\"neg_int_within_rational_neg\">neg_int_within_rational_neg:</strong> <a class=\"ProveItLink\" href=\"../../../__pv_it/theorems/6939d74003e4cfcc5bb3b13b0177655d29c4ce220/expr.ipynb\"><img src=\"data:image/png;base64,iVBORw0KGgoAAAANSUhEUgAAAFMAAAASBAMAAADVmP/6AAAAMFBMVEX///8AAAAAAAAAAAAAAAAA\n",
       "AAAAAAAAAAAAAAAAAAAAAAAAAAAAAAAAAAAAAAAAAAAv3aB7AAAAD3RSTlMAVM3vu91mdqsymYki\n",
       "EESqKsraAAAACXBIWXMAAA7EAAAOxAGVKw4bAAABK0lEQVQoz2NgVP6sEuqcwIAV8G5x8ToA57F7\n",
       "TGBQYMKukqHCkuFoN5zHtYCBPWEjA6cLEPigqeTOTmDgW+fAMAUkeYCB4wDDFV4H7IbOBtnmkA53\n",
       "DgPDSo4JKCpKQkNDI0EM3xtAYieS6zgbZqGonLQHZorDdCApyIUwiOWCL4qvY+BmbHgGJJ+xCcDl\n",
       "pNkKkJVyPICx+AoSgeR0RkRIogUVgsezQQxkKjtcL7vAPgaGCwilMxBMqFvhkld4gEHVg5A/gWD6\n",
       "nkANgU5gyPJ+QMizIpivweGaCPfmgldArwQg5LkQvuACxVafAyKodBl4HJGjSw/B3AFMA11w3mMn\n",
       "Exd7kw1ISq/0wf3Bs17p1wQGPOC1KzRigS6bkM5ALGhnb5xHpFLGFmU3KBMAEIxGTbFru/QAAAAA\n",
       "SUVORK5CYII=\n",
       "\" style=\"display:inline;vertical-align:middle;\" /></a><br>(see <a class=\"ProveItLink\" href=\"../../../__pv_it/theorems/316c975345fd6feeb434b0ad529df8cefa2947620/dependencies.ipynb\">dependencies</a>)<br>"
      ],
      "text/plain": [
       "<IPython.core.display.HTML object>"
      ]
     },
     "metadata": {},
     "output_type": "display_data"
    }
   ],
   "source": [
    "%proving neg_int_within_rational_neg"
   ]
  },
  {
   "cell_type": "code",
   "execution_count": null,
   "metadata": {},
   "outputs": [],
   "source": []
  }
 ],
 "metadata": {
  "kernelspec": {
   "display_name": "Python 3",
   "language": "python",
   "name": "python3"
  }
 },
 "nbformat": 4,
 "nbformat_minor": 0
}