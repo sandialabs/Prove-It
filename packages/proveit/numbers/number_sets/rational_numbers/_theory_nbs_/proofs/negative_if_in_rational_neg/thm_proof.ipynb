{
 "cells": [
  {
   "cell_type": "markdown",
   "metadata": {},
   "source": [
    "Proof of <a class=\"ProveItLink\" href=\"../../../../../../_theory_nbs_/theory.ipynb\">proveit</a>.<a class=\"ProveItLink\" href=\"../../../../../_theory_nbs_/theory.ipynb\">numbers</a>.<a class=\"ProveItLink\" href=\"../../../../_theory_nbs_/theory.ipynb\">number_sets</a>.<a class=\"ProveItLink\" href=\"../../theory.ipynb\">rational_numbers</a>.<a class=\"ProveItLink\" href=\"../../theorems.ipynb#negative_if_in_rational_neg\">negative_if_in_rational_neg</a> theorem\n",
    "========"
   ]
  },
  {
   "cell_type": "code",
   "execution_count": 1,
   "metadata": {},
   "outputs": [],
   "source": [
    "import proveit\n",
    "theory = proveit.Theory() # the theorem's theory"
   ]
  },
  {
   "cell_type": "code",
   "execution_count": 2,
   "metadata": {},
   "outputs": [
    {
     "data": {
      "text/html": [
       "With these <a href=\"allowed_presumptions.txt\">allowed</a>/<a href=\"disallowed_presumptions.txt\">disallowed</a> theorem/theory presumptions (e.g., to avoid circular dependencies), we begin our proof of<br><strong id=\"negative_if_in_rational_neg\">negative_if_in_rational_neg:</strong> <a class=\"ProveItLink\" href=\"../../../__pv_it/theorems/5fdb92a1a15c6a358d22a68f0c324bbc7ab72e960/expr.ipynb\"><img src=\"data:image/png;base64,iVBORw0KGgoAAAANSUhEUgAAAH8AAAAXBAMAAADQNI0XAAAAMFBMVEX///8AAAAAAAAAAAAAAAAA\n",
       "AAAAAAAAAAAAAAAAAAAAAAAAAAAAAAAAAAAAAAAAAAAv3aB7AAAAD3RSTlMAq1RmmUTNIjK7EInv\n",
       "3XZ/CtNrAAAACXBIWXMAAA7EAAAOxAGVKw4bAAACJ0lEQVQ4y5VUz0sbURD+kphsspuE9B+QBUEP\n",
       "HhLqD0rRGDCVgmAXvPTS1upB8NJVPLY0xYsg1hRK63ooexWhRi9FvQhSUEpBbMBDUF5E0GMOFg9e\n",
       "nLf5tbvZLObBY2dm33xv5puZBzxgqS3/sK6o3OzPa9oxLnS4AnQ7WvcuVUQTwDOuTLv5ixNO1oAs\n",
       "ngIzwCdShKwbQFvCyToI7AC9hKQDkuwGELbpXiPeL0BcR1iHj/ADrhR0WlVfXuefG2BFRoC8/56d\n",
       "/XEFGOVJtu9eV0pSMPxFDpCARDV4Dqy5AkzRfqV6SoaycV42CncEwOAjgmchxFwBTui+A3iMWsz/\n",
       "gwkgB+8+ENIlxXR84+sjW3/9pkKUEMmR6Jms1ZYA3jAEKS4vq3IYLGqKsAfpcQNAOIuPigWAkxiX\n",
       "4acIMJGs2NIZqugcxB51Pp1OK6YUNhmGYEkBGjCkw3tM4vYMjzzZx/sSi10AY5YIfhCAjG+wkIgB\n",
       "YIRqylvwPXEongZv17n9aaIBYIt4Yr67ivbz3CgjIrJ4SOQYzFDkbang/ji3c2eWswAsE377xf9a\n",
       "I1UaYbRIfpFqomElGuvXNE1+2ZhCJMPdSvVWNI3eh6qwqYbYEhfKJFp7N8XDdBxJDNcGRl3JhHSj\n",
       "lJDsr8N3fiDn5F8fY//wCwirBs35txnbMWJXeldwAgiZYu0nX00jTn4tNNzDmnX5lW3myu9Hx5iC\n",
       "1pd0VIvm85NWHO8BAwyCvt4IVwIAAAAASUVORK5CYII=\n",
       "\" style=\"display:inline;vertical-align:middle;\" /></a><br>(see <a class=\"ProveItLink\" href=\"../../../__pv_it/theorems/3f55887dbcfefb9bfa480cc540cfcd2c25d6aa2c0/dependencies.ipynb\">dependencies</a>)<br>"
      ],
      "text/plain": [
       "<IPython.core.display.HTML object>"
      ]
     },
     "metadata": {},
     "output_type": "display_data"
    },
    {
     "name": "stdout",
     "output_type": "stream",
     "text": [
      "negative_if_in_rational_neg may now be readily provable (assuming required theorems are usable).  Simply execute \"%qed\".\n"
     ]
    }
   ],
   "source": [
    "%proving negative_if_in_rational_neg"
   ]
  },
  {
   "cell_type": "code",
   "execution_count": null,
   "metadata": {},
   "outputs": [],
   "source": []
  }
 ],
 "metadata": {
  "kernelspec": {
   "display_name": "Python 3",
   "language": "python",
   "name": "python3"
  }
 },
 "nbformat": 4,
 "nbformat_minor": 0
}