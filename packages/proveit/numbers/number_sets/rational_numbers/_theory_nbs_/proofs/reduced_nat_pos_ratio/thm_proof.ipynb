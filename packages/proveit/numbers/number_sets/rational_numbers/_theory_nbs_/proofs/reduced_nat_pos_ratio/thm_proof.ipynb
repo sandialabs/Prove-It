{
 "cells": [
  {
   "cell_type": "markdown",
   "metadata": {},
   "source": [
    "Proof of <a class=\"ProveItLink\" href=\"../../../../../../_theory_nbs_/theory.ipynb\">proveit</a>.<a class=\"ProveItLink\" href=\"../../../../../_theory_nbs_/theory.ipynb\">numbers</a>.<a class=\"ProveItLink\" href=\"../../../../_theory_nbs_/theory.ipynb\">number_sets</a>.<a class=\"ProveItLink\" href=\"../../theory.ipynb\">rational_numbers</a>.<a class=\"ProveItLink\" href=\"../../theorems.ipynb#reduced_nat_pos_ratio\">reduced_nat_pos_ratio</a> theorem\n",
    "========"
   ]
  },
  {
   "cell_type": "code",
   "execution_count": 1,
   "metadata": {},
   "outputs": [],
   "source": [
    "import proveit\n",
    "theory = proveit.Theory() # the theorem's theory"
   ]
  },
  {
   "cell_type": "code",
   "execution_count": 2,
   "metadata": {},
   "outputs": [
    {
     "data": {
      "text/html": [
       "With these <a href=\"allowed_presumptions.txt\">allowed</a>/<a href=\"disallowed_presumptions.txt\">disallowed</a> theorem/theory presumptions (e.g., to avoid circular dependencies), we begin our proof of<br><strong id=\"reduced_nat_pos_ratio\">reduced_nat_pos_ratio:</strong> <a class=\"ProveItLink\" href=\"../../../__pv_it/theorems/84f5022d76c804cff0c64ae1fa46bf0398d591980/expr.ipynb\"><img src=\"data:image/png;base64,iVBORw0KGgoAAAANSUhEUgAAAaIAAAAmBAMAAAB0c4ImAAAAMFBMVEX///8AAAAAAAAAAAAAAAAA\n",
       "AAAAAAAAAAAAAAAAAAAAAAAAAAAAAAAAAAAAAAAAAAAv3aB7AAAAD3RSTlMAq1RmmUTNIjK7EInv\n",
       "3XZ/CtNrAAAACXBIWXMAAA7EAAAOxAGVKw4bAAAGk0lEQVRYw7VZbWgcRRh+7yu7t3dJToVCbWlP\n",
       "6kdQaq/VhlJKezVpqdSYE/0hKuaKQqn6Y6NQFNrmiqKCbRP7gZ6KbgULba13plorEonRkLaixBBa\n",
       "qBxsVWwlGkNimhKxcWbe3ct+zN5d4GYgt5NnZufmmfdjnpkDKFv8MzMJqLzcxz6Dce8eyjNQ/XJE\n",
       "o5+tM9MV9PXH5jJyEHuv57e2f72LfO7Vqs9IvojPc1Vn1Mg+A2luY2gAPiBsAjEBRlouiJGMI+7h\n",
       "W+HjBLTQ534BjMJxMYxq8uzxLL+1FeBnxkyA2ynnxDBaxubq94jPs6BMWoKtumW9GEbMBFCb5y/j\n",
       "dQiM0Yo0JYBRhyqCkYzG6eR7lTIOvvQdtPauiEDKi2Dk62KP+R7N78PSZJJW1riaVF5/tZJOJhzo\n",
       "FcGoHvfiCY/mwyOvLcowD3FuwHW8HdkFPskfFmFpHBmx6S4px6ilUCj0V8Coky2XXDZMapMO4C6H\n",
       "9z6XdIDKe4OEYoK7sxrwMDLaQB9bK7HRLxUwWof2HyurLMwduNuYr3NHro87wRrK0aWfDm+cLsIb\n",
       "kdFuaq+uajGah9GULtevzuCsnDcYOhe/TXOClCPc6x5pugj/jYxqyKuReLUYfcM+o2Ujz3/NmM/y\n",
       "FL7h7NDjAilHiGpcRggvyzBGAbIQNVAtRv/icubLZvlxI55kdI/bnR2edoE9zPUSXEYId8Yx1/1Q\n",
       "KHxfNUYTlozXPvJJxlOyTJgJAUN4M/tn9AXiL6OrQFpwZdwApQWXdey6ZfRG0hrjMkI4l0BGmwDe\n",
       "cX9lfg6MZvtiAsXcHLoAi+k/NE0WCj853rmOj61wK3s+RaeVls6CNAT3wxNqeNoAjSpZg6taTjU0\n",
       "vXVIxgjheh0ZtYPEcfukndFSMkKfF6Ok05mY+YnOnlfOPeUY1LIQGEJJeJ3qpx+VbzEXEpBWB8GQ\n",
       "ilEd/L1cGyHMnJ0wCmuRlKXH8YM3qG5GNhu9aqRGafhzWBOz9g1NYhCnLDrbmq5maGHVfzApZqCO\n",
       "OVU/yypkH2ulOW4MhWH/bJXlezJjeYzLCOH6JDLy62ZikC9lU9JXEFlRhpGPfse++YfglogW1Lxs\n",
       "RDxo0ttGyOgIscKgwYi8W9dL3iKZqwtyKQTNKhO/bXEI8W2EsMkI0muNxmYSyJHnQblH/ax5uDnl\n",
       "yShK+gU3UamhJyNg7WthVNTZpeKo27yXIA4WmIJwTKF4Tsedemi2yrYjYj//IDeOEDbjCLrpjnt8\n",
       "7UqmJV4n0ljXPWyknByhHtk5ejP8SpGG23ZFbPaUMIV1JJjODqfLJUU6ke0oYSl/kqwIHsrFYZ5f\n",
       "ZSBWFTrdDIkpCHRxbYRwvZHrYAeZsXJBnjpK0dWJEoxOqEy3/aX9prAhGiIfPm5jpODS53Q2yXXe\n",
       "2xImxQDtF6Yp/lPy7hQs1kiig9Nh3T8cRBCrObI0vkSYfE/QNWSEakiEO4z9iIYnBJNy78MUpWz0\n",
       "vIsRKtVm2EOBA9AYYjtOAyT/sMfcd+iWFDk8uizlvcOyEPPRPCdTWnvJ30MjLWSCJ9dqyqLT7VcQ\n",
       "xGotUaPKgiYaTc4hfQuv3mTCnSnLaSKaqos1ZrPZ+KOG1+V5p4l+uEQfZ2B9YFs2u58wOl5j37u2\n",
       "oajssshWcApo3rG9NmMKBRdIy51mZSd/gXbO3giYjHJqWH+DGZFlBv75iPjFgWPkOQZ9ch5tFLrb\n",
       "PvQDmGl7LbIVXAKafs2gHQ8kYbcmX3OBzj28ic+oaVYnFW2kdmbCzAcuQWSJ14lvQJ5creThIglE\n",
       "JjNWAhrNcppg+2UALcARV/WGJg47N/W3YKF2RHeBxlKaDR6HBAN+08oo1NQK0ttshx3ekvFi9MiK\n",
       "kYTcB6+MArxEOsnnVfDZ++bixn0CKaf+c2eGNs121p0tR0kYbQAXaOSz4lUC/1huwBP2U3kjIZPN\n",
       "ktj64uXSp3I/LtuX2UO8sdFRDnplhB6TmXNqks5beyd4mT8qwqEpO6PNxePlkgdTpRg9Vkp74+0F\n",
       "52IELAKa2k/AXVAkbWMUOVtctX2rStqo5O8UeMFoKhd3MxPQpPQJYBSNC7mBPGVZLs5QTEADFXDV\n",
       "L3+KuVONYlo543lhwiR/NC6AUZ8YRnj2Mn5zcV9qMQEN8LsAQnVpMYzYwZN3H2AR0CANCGC0QxXE\n",
       "6AQbWLnAZ8QENJwQ4HTKEFTOaE6/w0p4G7ide5ePAppIXQH3+GyOlf0OO8fyIhLjXgOhgFZSAhh9\n",
       "ZFb+B5Qi+hz73j56AAAAAElFTkSuQmCC\n",
       "\" style=\"display:inline;vertical-align:middle;\" /></a><br>(see <a class=\"ProveItLink\" href=\"../../../__pv_it/theorems/33bb42a4ad4d27516899d60f2905e930d889fc920/dependencies.ipynb\">dependencies</a>)<br>"
      ],
      "text/plain": [
       "<IPython.core.display.HTML object>"
      ]
     },
     "metadata": {},
     "output_type": "display_data"
    }
   ],
   "source": [
    "%proving reduced_nat_pos_ratio"
   ]
  },
  {
   "cell_type": "code",
   "execution_count": null,
   "metadata": {},
   "outputs": [],
   "source": []
  }
 ],
 "metadata": {
  "kernelspec": {
   "display_name": "Python 3",
   "language": "python",
   "name": "python3"
  }
 },
 "nbformat": 4,
 "nbformat_minor": 0
}