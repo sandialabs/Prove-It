{
 "cells": [
  {
   "cell_type": "markdown",
   "metadata": {},
   "source": [
    "Proof of <a class=\"ProveItLink\" href=\"../../../../../../_theory_nbs_/theory.ipynb\">proveit</a>.<a class=\"ProveItLink\" href=\"../../../../../_theory_nbs_/theory.ipynb\">numbers</a>.<a class=\"ProveItLink\" href=\"../../../../_theory_nbs_/theory.ipynb\">number_sets</a>.<a class=\"ProveItLink\" href=\"../../theory.ipynb\">rational_numbers</a>.<a class=\"ProveItLink\" href=\"../../theorems.ipynb#rational_nonneg_membership_is_bool\">rational_nonneg_membership_is_bool</a> theorem\n",
    "========"
   ]
  },
  {
   "cell_type": "code",
   "execution_count": 1,
   "metadata": {},
   "outputs": [],
   "source": [
    "import proveit\n",
    "theory = proveit.Theory() # the theorem's theory"
   ]
  },
  {
   "cell_type": "code",
   "execution_count": 2,
   "metadata": {},
   "outputs": [
    {
     "data": {
      "text/html": [
       "With these <a href=\"allowed_presumptions.txt\">allowed</a>/<a href=\"disallowed_presumptions.txt\">disallowed</a> theorem/theory presumptions (e.g., to avoid circular dependencies), we begin our proof of<br><strong id=\"rational_nonneg_membership_is_bool\">rational_nonneg_membership_is_bool:</strong> <a class=\"ProveItLink\" href=\"../../../__pv_it/theorems/2a656d049c46bceba78ba0405d71771a2f3f35310/expr.ipynb\"><img src=\"data:image/png;base64,iVBORw0KGgoAAAANSUhEUgAAALcAAAAaBAMAAAAHwtCcAAAAMFBMVEX///8AAAAAAAAAAAAAAAAA\n",
       "AAAAAAAAAAAAAAAAAAAAAAAAAAAAAAAAAAAAAAAAAAAv3aB7AAAAD3RSTlMAq1RmmUTNIjK7EInv\n",
       "3XZ/CtNrAAAACXBIWXMAAA7EAAAOxAGVKw4bAAADJUlEQVRIx51WX0gUQRj/7rzd+9ctRyVlQUj5\n",
       "1svlS4RR9mCWUQkHPiTVkVAgR50QQWC4PfQgii6UDwrWCr1UkJcEJYIcQZBEoQRFwcJKFmTlQxQn\n",
       "QtA3MztzO3u3cfrB/Wbmm5lvv/m+33xzABuR/nbazHxf/9aadg5+EpuuJ0tsxYBmnyUhH32DAH/5\n",
       "lgLYpEMRrvssCBuV3cpw+J8csKHPhBfovs+CQxW10RSHSvEYvZNj3YO5YRPeAXzyLPk5dyW7gDFN\n",
       "mABJotjjnu0VUC6Lr+DGTtp7NAJo/C2qvGuMc+HuWgANLbeQ8SX35AkBZRJvSoHSQqJ5dTuQsPwC\n",
       "mDS9xtPwLIqHXAO4WRb8PwLKZEAlmzGaPWibJRTUVLnxxgC2XTiHH47Xu+Yiaxxc3LAsmuCxCYTn\n",
       "Kky0kpFmK3j0kOOZNm69F8aJE8eRrPhh1W1Im+cgpGPZSacxhLg7pD9k45kl9Ewr0L5y2Sx5vq0J\n",
       "2x/4e2NZr92WAhkHYis7BqYoZbv5ofJpxHSN+6CgsENeM0sJfbyQx/Y8ao7haSUmGg6EYNE+STRq\n",
       "jtuxGxGHglKUI6sgc8I4m/3bhu2wjrmBcNK9WE06sB8Om1uoRty6POFsWmvvH0VxPhlmuc+4E/q5\n",
       "A73uQ7JHzbhURhLNDuhwlGkGLRSaNifmEvli1HgEo2t95MajCsZlEs0GbSmfJc+BXBEiD8TcWA9j\n",
       "i1REVlmu3Z5HAYd9OjkQqQIrrUs5r3GlCJQWCbGvk/K8UTIeKdJmXjaOURomBqeQDFquTnU4EDAY\n",
       "xEYCBcgzPos6Sm5orVzvHLasSMaDNmML9KKXNXA3wnleYBBcvV9Q2AcviI1PsLZs9VR/xnNV8NPo\n",
       "hNmnpLJRV0lsoCh5ghA7ZTc4AZgY4SkMn774W/e8CoxrsbozbPx17h6tinCkFLlCmHdfCijFetxy\n",
       "qBbQvXWa1xZl2rn+XLpEmY1nQlVURZRd2uZbkqKsKnKKivIU+jK7zPuDAipJsC57W1Ls83uJk5W0\n",
       "gXoOVckHH30it/E3VDi4vjcU9gqoQtb5+lfxv8UlbX7/WzDP/wBd0dQlU+jD2AAAAABJRU5ErkJg\n",
       "gg==\n",
       "\" style=\"display:inline;vertical-align:middle;\" /></a><br>(see <a class=\"ProveItLink\" href=\"../../../__pv_it/theorems/055d21138ce8143587ec79d91db5deda9dc600550/dependencies.ipynb\">dependencies</a>)<br>"
      ],
      "text/plain": [
       "<IPython.core.display.HTML object>"
      ]
     },
     "metadata": {},
     "output_type": "display_data"
    },
    {
     "name": "stdout",
     "output_type": "stream",
     "text": [
      "rational_nonneg_membership_is_bool may now be readily provable (assuming required theorems are usable).  Simply execute \"%qed\".\n"
     ]
    }
   ],
   "source": [
    "%proving rational_nonneg_membership_is_bool"
   ]
  },
  {
   "cell_type": "code",
   "execution_count": null,
   "metadata": {},
   "outputs": [],
   "source": []
  }
 ],
 "metadata": {
  "kernelspec": {
   "display_name": "Python 3",
   "language": "python",
   "name": "python3"
  }
 },
 "nbformat": 4,
 "nbformat_minor": 0
}