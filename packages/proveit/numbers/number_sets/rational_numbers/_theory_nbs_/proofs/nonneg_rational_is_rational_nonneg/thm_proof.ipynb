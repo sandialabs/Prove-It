{
 "cells": [
  {
   "cell_type": "markdown",
   "metadata": {},
   "source": [
    "Proof of <a class=\"ProveItLink\" href=\"../../../../../../_theory_nbs_/theory.ipynb\">proveit</a>.<a class=\"ProveItLink\" href=\"../../../../../_theory_nbs_/theory.ipynb\">numbers</a>.<a class=\"ProveItLink\" href=\"../../../../_theory_nbs_/theory.ipynb\">number_sets</a>.<a class=\"ProveItLink\" href=\"../../theory.ipynb\">rational_numbers</a>.<a class=\"ProveItLink\" href=\"../../theorems.ipynb#nonneg_rational_is_rational_nonneg\">nonneg_rational_is_rational_nonneg</a> theorem\n",
    "========"
   ]
  },
  {
   "cell_type": "code",
   "execution_count": 1,
   "metadata": {},
   "outputs": [],
   "source": [
    "import proveit\n",
    "theory = proveit.Theory() # the theorem's theory"
   ]
  },
  {
   "cell_type": "code",
   "execution_count": 2,
   "metadata": {},
   "outputs": [
    {
     "data": {
      "text/html": [
       "With these <a href=\"allowed_presumptions.txt\">allowed</a>/<a href=\"disallowed_presumptions.txt\">disallowed</a> theorem/theory presumptions (e.g., to avoid circular dependencies), we begin our proof of<br><strong id=\"nonneg_rational_is_rational_nonneg\">nonneg_rational_is_rational_nonneg:</strong> <a class=\"ProveItLink\" href=\"../../../__pv_it/theorems/4eab50ba2f688389aabbec0366f4d91cf02bf3cc0/expr.ipynb\"><img src=\"data:image/png;base64,iVBORw0KGgoAAAANSUhEUgAAAMAAAAAaBAMAAAATV059AAAAMFBMVEX///8AAAAAAAAAAAAAAAAA\n",
       "AAAAAAAAAAAAAAAAAAAAAAAAAAAAAAAAAAAAAAAAAAAv3aB7AAAAD3RSTlMAq1RmmUTNIjK7EInv\n",
       "3XZ/CtNrAAAACXBIWXMAAA7EAAAOxAGVKw4bAAADGklEQVRIx61WS2gTURS96fySSToEUWwRSlB3\n",
       "bmKpiiixfqqiiwYqbkQoLhRFcAouLFY6Ci6KJR3UKCkoKV2pSGK78FOFoBQVUQQXBWVgNAp+NkGU\n",
       "im68b15m5r10Wk30Lt68z8w993veAPx3GUo7j6kv/6JESM9/pt5NkDdsyYTOhgFWLnj6KQkQM2AW\n",
       "+hvVr/YufL7ehsE8PEQ3GgSIJINjk7uo0+lGfSQPrwBeA8TJekWdAAOBu2+fwKllzuxGFhDgBW4B\n",
       "dJGNQ3UC7A7ajG5IgtRl4ux4C5AQfQUo5OE0bihmnQDfgzbPyTiYKYA+1E+TDHIS5DxiJ+rTH/7J\n",
       "1YxlOTkfHcPhjgxjO8hKsyWMvmiCgPmS63RAe8ks9n6uptjM4LhcNK7T9dR7NF0rATy3rGd1AoSI\n",
       "xUrbvY/kccR1q9iDY4/ARUNCX3eic4Fq5m/DCMnZfj1UwYesu7rsdhwzTVwFh39gSkCJc8W8eSmd\n",
       "mfOSi4wfqI+oI154lSIp9h4tPZRDqcIqWA6RfNQllkxrFk4WYTLBAzDkQqUZnRMr0FzE+bCF4hxU\n",
       "c5Dneg8BmmzXCBGjBbcTML6OB2DIxfcgZsIgMeya99JoH60iVhQMEfSmSO+l1kCZBO2MDprmA6iT\n",
       "5TRDLj5AwYZNjjeesn1OH7TzBU1smsA6UGfCsyrRKIwDB3BTH9FZcqFVhEeFBFyi9e4qE0knL+F7\n",
       "llQRDJCG6AyXJJJ/olyL+gDbYJgjF9oHWN0RW/jlLA542m4hFy2uuTdKxB4DI5rW4sLhXO68VBOi\n",
       "acJXDLl4dqlt7yhhjGXdtCrdB78ZPIDoFmhBj9hhUhQ1SVZn4SpHLlSmHesq1dhfsarXQ8hI1XSM\n",
       "7HZFTB8xaL9l4jCR9D14jK3CkgvDpqG5t06btugst1FwvZO2dgP0E//UB9tbmEbb01EBllyoOHmJ\n",
       "FecANLUevcBtrPana50bKYvUeiLJdrIQdDuGsPOix978mbVmgu6QLR0fGACx2MCd7BWRfydHn+pe\n",
       "c5QNBuD+ZWDJpSqr/g5g4b8KvcH/IkZ2AfwGvIjcz7rbioUAAAAASUVORK5CYII=\n",
       "\" style=\"display:inline;vertical-align:middle;\" /></a><br>(see <a class=\"ProveItLink\" href=\"../../../__pv_it/theorems/f408c1ed0c38e0a9bd39d61c4b9ea072a332b6e50/dependencies.ipynb\">dependencies</a>)<br>"
      ],
      "text/plain": [
       "<IPython.core.display.HTML object>"
      ]
     },
     "metadata": {},
     "output_type": "display_data"
    },
    {
     "name": "stdout",
     "output_type": "stream",
     "text": [
      "nonneg_rational_is_rational_nonneg may now be readily provable (assuming required theorems are usable).  Simply execute \"%qed\".\n"
     ]
    }
   ],
   "source": [
    "%proving nonneg_rational_is_rational_nonneg"
   ]
  },
  {
   "cell_type": "code",
   "execution_count": null,
   "metadata": {},
   "outputs": [],
   "source": []
  }
 ],
 "metadata": {
  "kernelspec": {
   "display_name": "Python 3",
   "language": "python",
   "name": "python3"
  }
 },
 "nbformat": 4,
 "nbformat_minor": 0
}