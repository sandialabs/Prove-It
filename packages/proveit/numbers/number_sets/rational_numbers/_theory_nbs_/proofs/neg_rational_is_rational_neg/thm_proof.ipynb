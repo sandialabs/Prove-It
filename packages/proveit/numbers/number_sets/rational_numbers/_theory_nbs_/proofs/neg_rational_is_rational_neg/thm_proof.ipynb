{
 "cells": [
  {
   "cell_type": "markdown",
   "metadata": {},
   "source": [
    "Proof of <a class=\"ProveItLink\" href=\"../../../../../../_theory_nbs_/theory.ipynb\">proveit</a>.<a class=\"ProveItLink\" href=\"../../../../../_theory_nbs_/theory.ipynb\">numbers</a>.<a class=\"ProveItLink\" href=\"../../../../_theory_nbs_/theory.ipynb\">number_sets</a>.<a class=\"ProveItLink\" href=\"../../theory.ipynb\">rational_numbers</a>.<a class=\"ProveItLink\" href=\"../../theorems.ipynb#neg_rational_is_rational_neg\">neg_rational_is_rational_neg</a> theorem\n",
    "========"
   ]
  },
  {
   "cell_type": "code",
   "execution_count": 1,
   "metadata": {},
   "outputs": [],
   "source": [
    "import proveit\n",
    "theory = proveit.Theory() # the theorem's theory"
   ]
  },
  {
   "cell_type": "code",
   "execution_count": 2,
   "metadata": {},
   "outputs": [
    {
     "data": {
      "text/html": [
       "With these <a href=\"allowed_presumptions.txt\">allowed</a>/<a href=\"disallowed_presumptions.txt\">disallowed</a> theorem/theory presumptions (e.g., to avoid circular dependencies), we begin our proof of<br><strong id=\"neg_rational_is_rational_neg\">neg_rational_is_rational_neg:</strong> <a class=\"ProveItLink\" href=\"../../../__pv_it/theorems/67af63ce20d1b75b615ece362b78e1813eba8f680/expr.ipynb\"><img src=\"data:image/png;base64,iVBORw0KGgoAAAANSUhEUgAAALcAAAAZBAMAAACBVqIyAAAAMFBMVEX///8AAAAAAAAAAAAAAAAA\n",
       "AAAAAAAAAAAAAAAAAAAAAAAAAAAAAAAAAAAAAAAAAAAv3aB7AAAAD3RSTlMAq1RmmUTNIjK7EInv\n",
       "3XZ/CtNrAAAACXBIWXMAAA7EAAAOxAGVKw4bAAAC30lEQVRIx61WTWgTQRR+zWa7u9k0Rg9FQTCS\n",
       "g3oyVBpUpD9UsVqwEUUsgk31IHhxK94UEvEitBjB+hNF2V4UrehiQZFeircgCmKhB1nYgh60KlLQ\n",
       "gqD43uzu7KQN1k0dmOzMt2+/ef8TgLpG65ISUah3RDqWFFEu10t+9x9k2uolv1ITHSuXdwe7JhMg\n",
       "SYt0OG5lshaaWFtU3ljBFpl30eJEOPKoVQsdHwc42AdqGcd1gNhPgPN1OH9FrgaoWnkATXI4cByg\n",
       "EV2jp8KRl0xx99G2kRa0B+gHvZjn+B4AKYMHhIznF3Fz6JP7vK+i0pFUN3/xGecr234ZkryZfgZn\n",
       "HxXJpSc9cEhGNeVMC5fqR/vwqJshS6yMU56GdbRuNDzwqITOVZ0g8Up49iAoSTFZR1a64tpCyolZ\n",
       "fzWA82HGNYC79GyEaf6Byxcw7Jqpe8FXZ8o5ZQL0lhrkMZAc2U+qKZy9AO9oPWzjoBea6/O9/JPH\n",
       "SBtx/MN3oh36aYhtMRaRK51mvAjzguYVUL6zOPoi2r0F2VKgkOSpC4y1tSbQLLi4AcBxAnLEySZ0\n",
       "VcGEFwF57DdI31iV+1yym+dBVpdIxycY79i0Os902J6pIiccvxsxWHK/9T5bgy/mQGNKJnjVdGGF\n",
       "7u+DqmyBc2hOtEOdPEAIETsWJycc5FumWzmvhQy+A+1uEzjmk+nUW4RevIN+GtA38VwimcWekDpc\n",
       "7RbCYZiZim6ZE3Qa/brZzYPRq369nvlxqluIUyePrKE5Q+z46oASDrHnxC4ENM5o273dkdu2F8XV\n",
       "QmdhvcUTN0pFzWTpCHo6SEXCqX1kyLlysqorNi8qrgZnZiPvadQVvVB39YJyg6XH1EAxICecxjZk\n",
       "n3jv26+yfl6jaay/Vsn4a0kozSy7SfDcZxdALKKs+9hkiCSrcD79Zf21ATUJX/TwnpLelxPIe/7D\n",
       "HapX+EGXtgqaC7h4+1vLvP2VZf5vwQD9Afr+usda4bOCAAAAAElFTkSuQmCC\n",
       "\" style=\"display:inline;vertical-align:middle;\" /></a><br>(see <a class=\"ProveItLink\" href=\"../../../__pv_it/theorems/e6eda10c352c421a2ba97a488d2cea2343f3183b0/dependencies.ipynb\">dependencies</a>)<br>"
      ],
      "text/plain": [
       "<IPython.core.display.HTML object>"
      ]
     },
     "metadata": {},
     "output_type": "display_data"
    },
    {
     "name": "stdout",
     "output_type": "stream",
     "text": [
      "neg_rational_is_rational_neg may now be readily provable (assuming required theorems are usable).  Simply execute \"%qed\".\n"
     ]
    }
   ],
   "source": [
    "%proving neg_rational_is_rational_neg"
   ]
  },
  {
   "cell_type": "code",
   "execution_count": null,
   "metadata": {},
   "outputs": [],
   "source": []
  }
 ],
 "metadata": {
  "kernelspec": {
   "display_name": "Python 3",
   "language": "python",
   "name": "python3"
  }
 },
 "nbformat": 4,
 "nbformat_minor": 0
}