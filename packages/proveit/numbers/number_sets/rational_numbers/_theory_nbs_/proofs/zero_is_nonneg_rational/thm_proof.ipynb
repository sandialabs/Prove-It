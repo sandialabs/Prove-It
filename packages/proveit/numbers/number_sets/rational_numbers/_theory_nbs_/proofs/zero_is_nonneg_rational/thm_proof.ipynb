{
 "cells": [
  {
   "cell_type": "markdown",
   "metadata": {},
   "source": [
    "Proof of <a class=\"ProveItLink\" href=\"../../../../../../_theory_nbs_/theory.ipynb\">proveit</a>.<a class=\"ProveItLink\" href=\"../../../../../_theory_nbs_/theory.ipynb\">numbers</a>.<a class=\"ProveItLink\" href=\"../../../../_theory_nbs_/theory.ipynb\">number_sets</a>.<a class=\"ProveItLink\" href=\"../../theory.ipynb\">rational_numbers</a>.<a class=\"ProveItLink\" href=\"../../theorems.ipynb#zero_is_nonneg_rational\">zero_is_nonneg_rational</a> theorem\n",
    "========"
   ]
  },
  {
   "cell_type": "code",
   "execution_count": 1,
   "metadata": {},
   "outputs": [],
   "source": [
    "import proveit\n",
    "theory = proveit.Theory() # the theorem's theory"
   ]
  },
  {
   "cell_type": "code",
   "execution_count": 2,
   "metadata": {},
   "outputs": [
    {
     "data": {
      "text/html": [
       "With these <a href=\"allowed_presumptions.txt\">allowed</a>/<a href=\"disallowed_presumptions.txt\">disallowed</a> theorem/theory presumptions (e.g., to avoid circular dependencies), we begin our proof of<br><strong id=\"zero_is_nonneg_rational\">zero_is_nonneg_rational:</strong> <a class=\"ProveItLink\" href=\"../../../__pv_it/theorems/1fe6a0a2d1c54d4eaf625ebaca7c8beea0e2bbc80/expr.ipynb\"><img src=\"data:image/png;base64,iVBORw0KGgoAAAANSUhEUgAAAEgAAAAWBAMAAACRR8fzAAAAMFBMVEX///8AAAAAAAAAAAAAAAAA\n",
       "AAAAAAAAAAAAAAAAAAAAAAAAAAAAAAAAAAAAAAAAAAAv3aB7AAAAD3RSTlMAiXaZIs1UEN1mu6sy\n",
       "RO+L2jdBAAAACXBIWXMAAA7EAAAOxAGVKw4bAAABbklEQVQoz2NgwAlOXQBTgooMeAC7VAKQ5FTg\n",
       "XYBPFYPWBAYGvgMMX/AqYpilwOBfwPAMuz2rFjtAmPMczhcwdDIwMAqZoCnSfsPgsRHMKlzLAFT0\n",
       "iIEhjKHCAUUN48QJDLy2INc672EAWfeNgbOBgRHV+QdZgcSCSQwM3kA1EIdzbWBg+w6WZFrR0Qqi\n",
       "l1cDCRlWhmqwM5gUeDcw8Bsw8HwD8XiDCiDOXnAISKYxHyiHGCyoXMBQD1T0E8Rxhahh4BG4CSRv\n",
       "ciYgucBfgIHnE4gRAhXgVZgGJA+xTUBT9BHECIAKsAhkgkxiunBqFRBAPF4vwMALMonnRUdHRxdI\n",
       "BOqmAiSTgA5n+wZ2L0xkuTfEd0iAawEDJzgIGmAiF8HhNA1ZEecDBmawc5RgIsygEN+LGsBtDHUH\n",
       "QDQr3M/SwLjbjBqdxUJ7IIG46zrMf/ahnw/gSDy8UpBoYWDgPjCJgTDYxLTtLEFFbLviViJxAfnK\n",
       "W2So1BTrAAAAAElFTkSuQmCC\n",
       "\" style=\"display:inline;vertical-align:middle;\" /></a><br>(see <a class=\"ProveItLink\" href=\"../../../__pv_it/theorems/a6f0d0b47b156dc8c31c4857955d1921789a3ec60/dependencies.ipynb\">dependencies</a>)<br>"
      ],
      "text/plain": [
       "<IPython.core.display.HTML object>"
      ]
     },
     "metadata": {},
     "output_type": "display_data"
    },
    {
     "name": "stdout",
     "output_type": "stream",
     "text": [
      "zero_is_nonneg_rational may now be readily provable (assuming required theorems are usable).  Simply execute \"%qed\".\n"
     ]
    }
   ],
   "source": [
    "%proving zero_is_nonneg_rational"
   ]
  },
  {
   "cell_type": "code",
   "execution_count": null,
   "metadata": {},
   "outputs": [],
   "source": []
  }
 ],
 "metadata": {
  "kernelspec": {
   "display_name": "Python 3",
   "language": "python",
   "name": "python3"
  }
 },
 "nbformat": 4,
 "nbformat_minor": 0
}