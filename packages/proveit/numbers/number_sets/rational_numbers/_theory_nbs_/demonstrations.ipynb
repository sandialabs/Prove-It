{
 "cells": [
  {
   "cell_type": "markdown",
   "metadata": {},
   "source": [
    "Demonstrations for the theory of <a class=\"ProveItLink\" href=\"theory.ipynb\">proveit.numbers.number_sets.rational_numbers</a>\n",
    "========"
   ]
  },
  {
   "cell_type": "code",
   "execution_count": 1,
   "metadata": {},
   "outputs": [],
   "source": [
    "import proveit\n",
    "from proveit import q, p, r, s, x\n",
    "\n",
    "from proveit import defaults\n",
    "from proveit.logic.equality import equals_reversal\n",
    "\n",
    "from proveit.logic import Boolean, NotEquals, InSet, ProperSubset\n",
    "from proveit.numbers import Less, LessEq, greater, greater_eq, zero\n",
    "from proveit.numbers import (\n",
    "    Natural, NaturalPos, Integer, IntegerNonZero, IntegerNeg, IntegerNonPos,\n",
    "    Rational, RationalNonZero, RationalPos, RationalNeg, RationalNonNeg, RationalNonPos)\n",
    "from proveit.numbers.number_sets.rational_numbers  import rationals_def\n",
    "%begin demonstrations"
   ]
  },
  {
   "cell_type": "markdown",
   "metadata": {},
   "source": [
    "# The Rational Numbers, $\\mathbb{Q}$ and Various Subsets $\\mathbb{Q}^{+}$, $\\mathbb{Q}^{-}$, $\\mathbb{Q}^{\\ge 0}$ [Under Construction]"
   ]
  },
  {
   "cell_type": "markdown",
   "metadata": {},
   "source": [
    "<div style=\"line-height:1.4; font-size:14pt\">\n",
    "\n",
    "<a href='#introduction'>Introduction</a><br>\n",
    "<a href='#simple_expressions'>Simple Expressions involving the Rational Numbers $\\mathbb{Q}$</a><br>\n",
    "<a href='#common_attributes'>Common Attributes of the Rational Numbers NumberSet $\\mathbb{Q}$</a><br>\n",
    "<a href='#axioms'>Axioms</a><br>\n",
    "<a href='#theorems_and_conjectures'>Theorems & Conjectures</a><br>\n",
    "<a href='#further_demonstrations'>Further Demonstrations</a><br>\n",
    "    <ol>\n",
    "        <li><a href='#demo01'>TBA</a></li>\n",
    "        <li><a href='#demo02'>TBA</a></li>\n",
    "        <li><a href='#demo03'>TBA</a></li>\n",
    "    </ol>\n",
    "<a href='#miscellaneous_testing'>Miscellaneous Testing</a><br>\n",
    "</div>\n"
   ]
  },
  {
   "cell_type": "markdown",
   "metadata": {},
   "source": [
    "## Introduction <a id='introduction'></a>"
   ]
  },
  {
   "cell_type": "markdown",
   "metadata": {},
   "source": [
    "<font size=3>TBA</font>"
   ]
  },
  {
   "cell_type": "markdown",
   "metadata": {},
   "source": [
    "## Simple Expressions involving the Rational Numbers $\\mathbb{Q}$<a id='simple_expressions'></a>"
   ]
  },
  {
   "cell_type": "markdown",
   "metadata": {},
   "source": [
    "<font size=3>It is straightforward to construct expressions involving the Rational Numbers NumberSet $\\mathbb{Q}$:</font>"
   ]
  },
  {
   "cell_type": "code",
   "execution_count": 2,
   "metadata": {},
   "outputs": [
    {
     "data": {
      "text/html": [
       "<a class=\"ProveItLink\" href=\"../__pv_it/demonstrations/bc081971d0d2e71914cfe3504bb9da9dc5f410b90/expr.ipynb\"><img src=\"data:image/png;base64,iVBORw0KGgoAAAANSUhEUgAAADUAAAASBAMAAAAJYYvNAAAAMFBMVEX///8AAAAAAAAAAAAAAAAA\n",
       "AAAAAAAAAAAAAAAAAAAAAAAAAAAAAAAAAAAAAAAAAAAv3aB7AAAAD3RSTlMAEHarMolUmd1mIs3v\n",
       "RLtmgJDEAAAACXBIWXMAAA7EAAAOxAGVKw4bAAAA9klEQVQY02NgwAIY4949X8CAHSgfYVhhil2K\n",
       "deoEBt7aB1jlXLmBxINJKGJMLzq6QfRDYSARwo0sxbtJAOKSB05AMo3dgYFBSFkkNAEkthoixcAS\n",
       "cBNI3uQEChYwGbE3gMR2wfQrTAOSTmwTGDgXcH5kngAS2wCV4wrIBOljusDAwsAOEWQ50dHR0Qdi\n",
       "Qe0DWcGjAHUCzFEPF8PdeX8BI9gVDTC5q2D/AS2Vu2DDwAoWUoLJsYPCxRZoTL5jDcM1sBB3Akwy\n",
       "GBie5kBaXImtEiLIaHcR5tL63d8dUMORNw4SZgwMzA6TGHACIyYzX1xybHZ7XjIAAL7gOhw4RPej\n",
       "AAAAAElFTkSuQmCC\n",
       "\" style=\"display:inline;vertical-align:middle;\" /></a>"
      ],
      "text/plain": [
       "x in Rational"
      ]
     },
     "metadata": {},
     "output_type": "display_data"
    }
   ],
   "source": [
    "# a simple set membership claim\n",
    "InSet(x, Rational)"
   ]
  },
  {
   "cell_type": "code",
   "execution_count": 3,
   "metadata": {},
   "outputs": [
    {
     "data": {
      "text/html": [
       "<a class=\"ProveItLink\" href=\"../__pv_it/theorems/a3659ec80481500ab6a2d1882e94ddccfa3943e10/expr.ipynb\"><img src=\"data:image/png;base64,iVBORw0KGgoAAAANSUhEUgAAAFAAAAAWBAMAAAClPgbvAAAAMFBMVEX///8AAAAAAAAAAAAAAAAA\n",
       "AAAAAAAAAAAAAAAAAAAAAAAAAAAAAAAAAAAAAAAAAAAv3aB7AAAAD3RSTlMAEN27zYnvRFSrImZ2\n",
       "MpmnAiL6AAAACXBIWXMAAA7EAAAOxAGVKw4bAAABfklEQVQoz2NgwAsuF4Cp0KMMBABjcAOQ5D7A\n",
       "bkBIJcPhDQwMbBcYfhFUyLD5AMN6AYYMBqHPJgIMYd8KMOw0tlsAYW5bcF+AQZuBwYJ9AgPjB3Rz\n",
       "TuYyLJoKZomaMwAV5jAwTFoQzcCQgKaOdesGBvbnIB+sm8sAsvoHA8MMA5YFDApoCq+yAAmDPQwM\n",
       "K4HqoJ6ZtYfLAabwsJKSki6IYSgJJGJZGCRfgXg8B4DOY5jFeeEoVOGVKJhXDO4AyQ6+C4IQfug5\n",
       "AaBCBgPmArBCRi2YzbwB1UCymrsB2TmzGO4xKoIVcsLDiP3ADiB5h2MDqkLuhmawr1ngYlwB3SAT\n",
       "eQouGwPBAphChomcYIU3EbqhbhRANZFBkhFs9UqEoOFKiK/RFPIeACcOJoRgKTgcd6AotAXis2CF\n",
       "fAi384FiZjpq2vIAiTuAme4I0UhgXM9DUXflG1AfI0Sh8HS467neu/y7gDvtlRpBoxAYqBf2MBAH\n",
       "5vDMuE6UQo7JbtZIXACmxV2hc/Y0fwAAAABJRU5ErkJggg==\n",
       "\" style=\"display:inline;vertical-align:middle;\" /></a>"
      ],
      "text/plain": [
       "Natural proper_subset RationalNonNeg"
      ]
     },
     "metadata": {},
     "output_type": "display_data"
    }
   ],
   "source": [
    "ProperSubset(Natural, RationalNonNeg)"
   ]
  },
  {
   "cell_type": "markdown",
   "metadata": {},
   "source": [
    "## Common Attributes of the Rational Numbers NumberSet $\\mathbb{Q}$<a id='common_attributes'></a>"
   ]
  },
  {
   "cell_type": "markdown",
   "metadata": {},
   "source": [
    "<font size=3>TBA Placeholder &mdash; attributes not particularly relevant for NumberSet …</font>"
   ]
  },
  {
   "cell_type": "code",
   "execution_count": 4,
   "metadata": {},
   "outputs": [
    {
     "data": {
      "text/html": [
       "<a class=\"ProveItLink\" href=\"../__pv_it/common/3de3e316334b6ece430a3f1aee01ae68b192ecb30/expr.ipynb\"><img src=\"data:image/png;base64,iVBORw0KGgoAAAANSUhEUgAAABAAAAASBAMAAACgFUNZAAAAMFBMVEX///8AAAAAAAAAAAAAAAAA\n",
       "AAAAAAAAAAAAAAAAAAAAAAAAAAAAAAAAAAAAAAAAAAAv3aB7AAAAD3RSTlMAEIm7mSJ2q+8y3WZE\n",
       "zVRISQrpAAAACXBIWXMAAA7EAAAOxAGVKw4bAAAAh0lEQVQI12NgYBAyNnZlAAK2igmsyxWADG1t\n",
       "BoYjhxkYOBUuMDAwcycwMAsWMDAwTbjAIMyZwMDA98CTYRLPBgYGng37GI5xPwAqTHjNEMQHFslh\n",
       "YIaocWRgFoXq4oGYA1ToDTT5ONBkBiaQXQ4gW0P+3vdkAINKoE1gwJ6Q/vIAmPXctnkDAHEUIwom\n",
       "ORJuAAAAAElFTkSuQmCC\n",
       "\" style=\"display:inline;vertical-align:middle;\" /></a>"
      ],
      "text/plain": [
       "Rational"
      ]
     },
     "metadata": {},
     "output_type": "display_data"
    }
   ],
   "source": [
    "# the Rational number set\n",
    "Rational"
   ]
  },
  {
   "cell_type": "markdown",
   "metadata": {},
   "source": [
    "## Axioms <a id='axioms'></a>"
   ]
  },
  {
   "cell_type": "markdown",
   "metadata": {},
   "source": [
    "<font size=3>The ``axioms`` for the Rational Numbers $\\mathbb{Q}$ … can be accessed on the [rational axioms](./_axioms_.ipynb) page, and establish the definitions of the Rational numbers and various subsets of the Rational numbers.</font>"
   ]
  },
  {
   "cell_type": "code",
   "execution_count": 5,
   "metadata": {},
   "outputs": [
    {
     "data": {
      "text/html": [
       "<span style=\"font-size:20px;\"> <a class=\"ProveItLink\" href=\"axioms.ipynb#rationals_def\" style=\"text-decoration: none\">&nbsp;&#x22A2;&nbsp;&nbsp;</a><a class=\"ProveItLink\" href=\"../__pv_it/axioms/76f0ca3554aa173e3c2b96df26193413f06c41b10/expr.ipynb\"><img src=\"data:image/png;base64,iVBORw0KGgoAAAANSUhEUgAAAMQAAAAqCAMAAADbNgSrAAAAPFBMVEX///8AAAAAAAAAAAAAAAAA\n",
       "AAAAAAAAAAAAAAAAAAAAAAAAAAAAAAAAAAAAAAAAAAAAAAAAAAAAAAAAAAAo1xBWAAAAE3RSTlMA\n",
       "EIm7mSJ2q+8y3WZEzVTn9enzjbdKLwAAAAlwSFlzAAAOxAAADsQBlSsOGwAAA3BJREFUaN7VWYly\n",
       "ozAMtSXf1x7+/39d2wQwxAlgCNtoOtNMGyQ/63oShPSIMJp8RKyx5B7hxvPpswTBxXW6nfH0FgxK\n",
       "zjZVgoPxQrvUmDtAyPnMVGXvs0vNunhHRBk/fWSx/AEu1a/YDSCqaFKY3RHdp/TfAYLGnNI2ku8G\n",
       "EXKOeBL494IgmDwRDCPLKOb/BQQFTML4YSNUCtBcimXrgz05wui1IIRUOrcwCdfcVAWComrXX42L\n",
       "J0DMV9gFAiyUyuyYw6tBEOLbBRNr5/mQmxw/AUIDeRR+JFZcDqLk/rNRuSBM5Sk8AQIpfTwFmvir\n",
       "Qbg2JcE6/7AoDOM3O0BQJPpx/yEQtoOdxiMgoJkSbqEilojTo8+M74km9yAr6bcN2w9scpsahJdC\n",
       "yCelvnYEHUE89MJxPunEdPLkkTAekJlKFvfmNy+qrk4xMWsa+VLrr9+1Vh5hADEmpMGjIDhMJ0+e\n",
       "EG4z+rb5fgViCHQl3jhiBjFWeOrxqC+WOUG3Zpb6PHGWFyBYcVtcNiC3rLp0+LeLs2ob9dHqxPdX\n",
       "J+7Z9iVVIApLd6sy61fUYMiJMH8rmKOzoqv7xKTnZU6A0gdAlIOxKVOL1j9/V1oRh9un+008s5ix\n",
       "Y8tdHVuqIyD0OP5Vjlj70qo58orjeuYTGLnTrpGKR7EfhEznx6Xa8GzFZNoxXT/2TbucRe8j2+nE\n",
       "QwRQAlu1lUZ1owyE1ItxsWv41/t40xpEk6W+peJhkyp3gyBSJEYetDvsiQZLfQtiu82cmOyCRK/Q\n",
       "HgbRYKnvQFggHwTROT62WOo7EIb+QBAtlireVAhNfiCINkv9xKJAe3zqWAgs/Zw1smKpH13ZTCsA\n",
       "LSRiCtk80AIV9KyRNkv9DIixG7KxoaUqpAPv29zWdL/JUq9bzoEVwKdhLAVuujJRn3q98tot9VTU\n",
       "ZKnn5DHokWEBoqdQFamwCZbH6apg89D5tgeqFFix1CtkVs8SGj3RzdzDrJ9m6YJSkN4YoGYu9i2W\n",
       "ek7E7Fbl8mKvTgkmEw4skr8FKa+T/a4rTITJvmapp0Sb+W1gKXpoxzPm4VGFvNiYGm3Q+RzQGQdh\n",
       "5JwNlnoORN3sVU4JZ1MNh6HXWyyT6BR4JavdLa/HusUxG0Qe2HTyANFMlErOxw2olVIKQC/Jl0hd\n",
       "/oYdviPfJo6S75eNtPsHiScb82EfOTgAAAAASUVORK5CYII=\n",
       "\" style=\"display:inline;vertical-align:middle;\" /></a></span>"
      ],
      "text/plain": [
       "|- Rational = {(a / b) s.t. b != 0}_{a, b in Integer}"
      ]
     },
     "metadata": {},
     "output_type": "display_data"
    }
   ],
   "source": [
    "# def of the Rational number set\n",
    "rationals_def"
   ]
  },
  {
   "cell_type": "markdown",
   "metadata": {},
   "source": [
    "## Theorems & Conjectures<a id='theorems_and_conjectures'></a>"
   ]
  },
  {
   "cell_type": "markdown",
   "metadata": {},
   "source": [
    "<font size=3>The `number/sets/rational` theory already has a substantial number of related theorems and conjectures established, covering a wide range of … The remainder can be found in the [containment theorems notebook](./\\_theorems\\_.ipynb).</font>"
   ]
  },
  {
   "cell_type": "code",
   "execution_count": 6,
   "metadata": {},
   "outputs": [],
   "source": [
    "from proveit.numbers.number_sets.rational_numbers import (zero_is_rational)"
   ]
  },
  {
   "cell_type": "code",
   "execution_count": 7,
   "metadata": {},
   "outputs": [
    {
     "data": {
      "text/html": [
       "<span style=\"font-size:20px;\"> <a class=\"ProveItLink\" href=\"proofs/zero_is_rational/thm_proof.ipynb\" style=\"text-decoration: none\">&nbsp;&#x22A2;&nbsp;&nbsp;</a><a class=\"ProveItLink\" href=\"../__pv_it/theorems/2c49f6d4eef3b08240609dbe76934abc04037ca30/expr.ipynb\"><img src=\"data:image/png;base64,iVBORw0KGgoAAAANSUhEUgAAADQAAAASBAMAAADmo+DzAAAAMFBMVEX///8AAAAAAAAAAAAAAAAA\n",
       "AAAAAAAAAAAAAAAAAAAAAAAAAAAAAAAAAAAAAAAAAAAv3aB7AAAAD3RSTlMAiXaZIs1UEN1mu6sy\n",
       "RO+L2jdBAAAACXBIWXMAAA7EAAAOxAGVKw4bAAABDUlEQVQY02NgwAIKV60yAdGMQiZoMkz7DrB0\n",
       "CwAZYQwVDqhSkpIMDJdvMTBwNjAwLkCR4REIYGDg4lRg4NrAwPYdYs6KjlYQzVW+AWjNgQAGfgMG\n",
       "nm8gEd6gAoiuKh4FBga2BBuGeqDUT5CIK1SG4SDvBKDCCdMY/AUYeD6BREJgdl3iTABaqJAJlvoI\n",
       "EgmASTmygXXpMtQLMPCCdPG86Ojo6AI7A2KXOcgZbCBnsMN9wFUCdSHXAgZOsOMbYFK8EH8lMHA+\n",
       "YGAGW6ME97MlMDRuA0ODoY2h7gBIgDUBJsUICkMDIKNYaA9YgH3XdZic89d4G5Sw45WCBBQQ7AGG\n",
       "IA7AraCdcwGHXPbSVxMAr5g9NeS8CQ8AAAAASUVORK5CYII=\n",
       "\" style=\"display:inline;vertical-align:middle;\" /></a></span>"
      ],
      "text/plain": [
       "|- 0 in Rational"
      ]
     },
     "metadata": {},
     "output_type": "display_data"
    }
   ],
   "source": [
    "zero_is_rational"
   ]
  },
  {
   "cell_type": "markdown",
   "metadata": {},
   "source": [
    "## Demonstrations <a id='further_demonstrations'></a>"
   ]
  },
  {
   "cell_type": "markdown",
   "metadata": {},
   "source": [
    "<div style=\"width: 90%; border: 5px solid green; padding: 10px; margin: 0px;\"><a id='demo01'></a><font size=4><font size=4><b>1.</b> TBA</font></div><br>\n",
    "<font size=3>We begin with …</font>"
   ]
  },
  {
   "cell_type": "markdown",
   "metadata": {},
   "source": [
    "<div style=\"width: 90%; border: 5px solid green; padding: 10px; margin: 0px;\"><a id='demo02'></a><font size=4><font size=4><b>2.</b> TBA.</font></div><br>\n",
    "<font size=\"3\">TBA</font>"
   ]
  },
  {
   "cell_type": "markdown",
   "metadata": {},
   "source": [
    "<div style=\"width: 90%; border: 5px solid green; padding: 10px; margin: 0px;\"><a id='demo03'></a><font size=4><b>3.</b> TBA</font></div><br>\n",
    "<font size=3>TBA</font>"
   ]
  },
  {
   "cell_type": "markdown",
   "metadata": {},
   "source": [
    "## Miscellaneous Testing\n",
    "<font size=3>The material below was developed to test various Rational NumberSet-related methods. Some of this material could be integrated into the `_demonstrations_` page eventually and/or deleted as development continues.</font>"
   ]
  },
  {
   "cell_type": "markdown",
   "metadata": {},
   "source": [
    "### Testing the `InSet` class methods related to the Rational Numbers and its subsets\n",
    "<br/>\n",
    "<font size =3>The <span style=\"font-family=courier\">InSet</span> class has a <span style=\"font-family=courier\">deduce_in_bool()</span> method that eventually depends on the deduce_membership_in_bool() method of the underlying NumberSet class.<br/>\n",
    "</font>"
   ]
  },
  {
   "cell_type": "code",
   "execution_count": 8,
   "metadata": {},
   "outputs": [
    {
     "data": {
      "text/html": [
       "<strong id=\"q_in_Q\">q_in_Q:</strong> <a class=\"ProveItLink\" href=\"../__pv_it/demonstrations/d90fda1f1a1fe8ec81e234cd2b5dbf237061263a0/expr.ipynb\"><img src=\"data:image/png;base64,iVBORw0KGgoAAAANSUhEUgAAADMAAAATBAMAAADPIygvAAAAMFBMVEX///8AAAAAAAAAAAAAAAAA\n",
       "AAAAAAAAAAAAAAAAAAAAAAAAAAAAAAAAAAAAAAAAAAAv3aB7AAAAD3RSTlMAIqt2iRAyRN3vZs2Z\n",
       "u1SUszogAAAACXBIWXMAAA7EAAAOxAGVKw4bAAABBUlEQVQoz2NgwASsvnfvCDBgBUbTGCRUsMqw\n",
       "LFnAwH78AjapFG4gcWExshDzjY5uEH01CEi4cSPJsG8OgDjiQjKQfMeTwMDAqOxqBhKShsgwsDlU\n",
       "AckqrgcMDBUCTB9AQhthug3WAclkvgUMrLMYmDaAhDZApRgdXoF0MRcw8Hxg4HAAmTOjo6OjFyQH\n",
       "tSuAgfMCg3wB2HaYe64KQV0Yb8CwHizSAJMqAfsLaGH8A4bbYBFjmBQPKDTUgYbwGnB9AYtwP4DJ\n",
       "OQHDUAdkh7Ldd4hXdUthbjy/+08CmMX1AeohX0hAMTAwJUBDkGkDRggrM+ulg2hOBwwpPt2dt0DR\n",
       "s78Fe4wCALXBPP+cntF4AAAAAElFTkSuQmCC\n",
       "\" style=\"display:inline;vertical-align:middle;\" /></a><br>"
      ],
      "text/plain": [
       "<IPython.core.display.HTML object>"
      ]
     },
     "metadata": {},
     "output_type": "display_data"
    }
   ],
   "source": [
    "q_in_Q = InSet(q, Rational)"
   ]
  },
  {
   "cell_type": "code",
   "execution_count": 9,
   "metadata": {},
   "outputs": [
    {
     "data": {
      "text/html": [
       "<span style=\"font-size:20px;\"> <a class=\"ProveItLink\" href=\"../__pv_it/demonstrations/ad850065347e1e44c37ad2b1cfca7d28f84f73210/proof.ipynb\" style=\"text-decoration: none\">&nbsp;&#x22A2;&nbsp;&nbsp;</a><a class=\"ProveItLink\" href=\"../__pv_it/demonstrations/123206881a554f9b0c1f1cf8d3e507380d5c99b80/expr.ipynb\"><img src=\"data:image/png;base64,iVBORw0KGgoAAAANSUhEUgAAAGgAAAAVBAMAAABYjraNAAAAMFBMVEX///8AAAAAAAAAAAAAAAAA\n",
       "AAAAAAAAAAAAAAAAAAAAAAAAAAAAAAAAAAAAAAAAAAAv3aB7AAAAD3RSTlMAInZUiRDNmWbv3US7\n",
       "qzJazP2FAAAACXBIWXMAAA7EAAAOxAGVKw4bAAAB10lEQVQ4y3VUTygEYRx9O3bXrJnZ9iAclMmf\n",
       "EtEmCUVzUQ4UxY0spTjtKspp21IulJMSiiIyqE0kopbDHrQHyUWkPTi52IP24uL3fWsn3+7MV9PM\n",
       "vDfvN7/fmzcfgAAcl8uJkIJ26EgqNQcoesGzR8ns5itdtNtWekm7Tg2gsQBXFb1iPA5PyE7U3w9c\n",
       "3gDeoUJRzB1IoDRmo/EbVEqVdciRIpEcfIRP6OrBPODc6CPgTpNyvYBgohA6/mmUqb9uxvzkQEkw\n",
       "CsyIBIm0KgPzzNmnvlYGVeQn+FCoaSW2BAxCIFSloek5V+o6oGUYNJl/5ZlM38GvdwLLEAhVOdg5\n",
       "HMIe4NmAxj20jCwv4W9qBrogENSetDKNLaA0gzKDebZpmuYJ53IzLQBfEAnqO3HORL4EauKEeBJW\n",
       "weG8e1cQCSZSWXsTOtY4tGvZmPtONFi3SHCRF/ckCiLJoVrL/EVKxC0lAqsiwUVtzFNVl7855LWy\n",
       "62bZY2mYFwlVMdz1EXxSy091PxzyvF3kVZXZcJSdjwVCmk3xlJel6UbO/M0ykEsLrXeZ/Rau3SKC\n",
       "LR5JrTjqmt7SG7ePM607OnxGMd6T3I6h2uHPHaOxw/twrmi7D+jOe4Rkv3/8AjX1dQd/BFNCAAAA\n",
       "AElFTkSuQmCC\n",
       "\" style=\"display:inline;vertical-align:middle;\" /></a></span>"
      ],
      "text/plain": [
       "|- (q in Rational) in BOOLEAN"
      ]
     },
     "metadata": {},
     "output_type": "display_data"
    }
   ],
   "source": [
    "q_in_Q.deduce_in_bool()"
   ]
  },
  {
   "cell_type": "code",
   "execution_count": 10,
   "metadata": {},
   "outputs": [
    {
     "data": {
      "text/html": [
       "<strong id=\"p_in_QPos\">p_in_QPos:</strong> <a class=\"ProveItLink\" href=\"../__pv_it/demonstrations/98100723209e72ca4ad898a8b3d17f73d97b2d700/expr.ipynb\"><img src=\"data:image/png;base64,iVBORw0KGgoAAAANSUhEUgAAAEEAAAAWBAMAAABtUuw5AAAAMFBMVEX///8AAAAAAAAAAAAAAAAA\n",
       "AAAAAAAAAAAAAAAAAAAAAAAAAAAAAAAAAAAAAAAAAAAv3aB7AAAAD3RSTlMAMnarEInNVLtmRO/d\n",
       "mSJ9aoHvAAAACXBIWXMAAA7EAAAOxAGVKw4bAAABHklEQVQoz2NgwAd4GQgBDvJVsER09D7Aq0J5\n",
       "I8MbU3wqWKdOYOC61cBwo6O7o2MCNhWibECiYRIWMzTOnEkA0S3OQCKQDVPFMhWoOxuEgGQ5rwBM\n",
       "hZCJULADkOZLgapkDFgJJFdyFsBUBJgVsDYAabYHUBVcCtNBGtknQMOUsSCZgfMDSAXMNr6ASpAZ\n",
       "TAtgocPwnYHpC5AhfQYIQIYxQN3hANPC9YWBYwOQ9oA7ueUxzC/Q8DnAwH8BSPPARZaCw2M6nM92\n",
       "gWE2yEAmBXicg8LUqgGuwr+B7yCYkQ4XCgbGiy0ioOqFVCH+dO6CuY3vftpfAYSKawj7eyChzsDA\n",
       "LDAJKbCPYos8IyZzKXhq+Y5NBbtFdieMXfZtAv6UCACV8EDcHbX5ogAAAABJRU5ErkJggg==\n",
       "\" style=\"display:inline;vertical-align:middle;\" /></a><br>"
      ],
      "text/plain": [
       "<IPython.core.display.HTML object>"
      ]
     },
     "metadata": {},
     "output_type": "display_data"
    }
   ],
   "source": [
    "p_in_QPos = InSet(p, RationalPos)"
   ]
  },
  {
   "cell_type": "code",
   "execution_count": 11,
   "metadata": {},
   "outputs": [
    {
     "data": {
      "text/html": [
       "<span style=\"font-size:20px;\"> <a class=\"ProveItLink\" href=\"../__pv_it/demonstrations/fde8980509ea475e20cdce05c3f65d4e7be8ddc00/proof.ipynb\" style=\"text-decoration: none\">&nbsp;&#x22A2;&nbsp;&nbsp;</a><a class=\"ProveItLink\" href=\"../__pv_it/demonstrations/8548b931ec4faf5724512acbd9ec0319073d56ce0/expr.ipynb\"><img src=\"data:image/png;base64,iVBORw0KGgoAAAANSUhEUgAAAHgAAAAZBAMAAAAI4vceAAAAMFBMVEX///8AAAAAAAAAAAAAAAAA\n",
       "AAAAAAAAAAAAAAAAAAAAAAAAAAAAAAAAAAAAAAAAAAAv3aB7AAAAD3RSTlMAZkRUmRDNuyLviTJ2\n",
       "3asqG0tJAAAACXBIWXMAAA7EAAAOxAGVKw4bAAACM0lEQVQ4y2NgYBBiwAccgJgFpyyzA17NBUDM\n",
       "UYBLNoyBoGYGGVyyhVhFo8rLPRCaeQNQZXluln2b+wjopAnY9PK83MBxbwFcM88DNHl2pgNtcQoM\n",
       "LAuwaV64kIFBRZ2Bpbx8ejnQaaxfMTQLcDUUMPArYNHLvSABqIDxAMxmhkRMzYwGDxj2I3uHp/bu\n",
       "NbBcKNCdXBsS4JrdoQqO372bANecwHAWSS9TDtSkcG6gpcwG3nDNJyHiakcRNvM1LmB4BnTkuehT\n",
       "T0FCbTBX7GISABolIAzXrA+W4UhFOPvo2VcMDOVA9/ElMywHCWXA5HQYDYBmHjCEpjAGhv0bQCRb\n",
       "A0LztflXAhjyGBg2sz1gkAcJJcDkupjBNh+Ce6gfHKxsyAHGI5TKcIWBIYDfgOE80F3cc+/evXsd\n",
       "LAfxsytccTxY806g/N0CqGaGAi2QzSAfVQIpVngSZo+AhzbUZrCzw5FtZihgB2tey8DwBSR0AR7s\n",
       "kHg2gCveD/YtL6pmNobnQGYKA+NUkNAZuKQjMIXpqSMiERLaPAdQNNuAYpD1O0MvJDThVnGB0jZS\n",
       "XpWEUMkIzQu4TjmAzGT+fWYFWIj1uSpMtuVbvjdS8vGDUHFFkJTAk1kOzlWcwLwBDxim5ZDkCQSv\n",
       "GQ8gaYalba3auwlIwsBcxYstY/EdOGcNzzMYuQqWgSYwxBtgk7Army4AYzM+wFGSPGbOT2QgAHgb\n",
       "yCvDGPCWYcwLCOrFXXoSKLfBgRqAXRwAFiuH6HzEgo0AAAAASUVORK5CYII=\n",
       "\" style=\"display:inline;vertical-align:middle;\" /></a></span>"
      ],
      "text/plain": [
       "|- (p in RationalPos) in BOOLEAN"
      ]
     },
     "metadata": {},
     "output_type": "display_data"
    }
   ],
   "source": [
    "p_in_QPos.deduce_in_bool()"
   ]
  },
  {
   "cell_type": "code",
   "execution_count": 12,
   "metadata": {},
   "outputs": [
    {
     "data": {
      "text/html": [
       "<strong id=\"r_in_QNeg\">r_in_QNeg:</strong> <a class=\"ProveItLink\" href=\"../__pv_it/demonstrations/c934b51940956f35a647778c715fce62cf7a11500/expr.ipynb\"><img src=\"data:image/png;base64,iVBORw0KGgoAAAANSUhEUgAAAEEAAAATBAMAAAA9n32KAAAAMFBMVEX///8AAAAAAAAAAAAAAAAA\n",
       "AAAAAAAAAAAAAAAAAAAAAAAAAAAAAAAAAAAAAAAAAAAv3aB7AAAAD3RSTlMAMnarEInNVLtmRO/d\n",
       "mSJ9aoHvAAAACXBIWXMAAA7EAAAOxAGVKw4bAAABEUlEQVQoz2NgwAJYIjp6HzDgA8obGd6Y4lPA\n",
       "OnUCA9etBgaJDiDAapYoG5BomIRFRuPMmQQQ3eIMJALZMBUsU4G6s0EISJbzCsAkhEyEgh2ANF8K\n",
       "VIAxYCWQXMlZAFMRYFbA2gCk2WBu4lKYDtLIPgGmoyCZgfMDSAVMC19AJcgMpgWw0GH4zsD0BciQ\n",
       "PgMEIMMYoO5wgGnh+sLAsQFIe8Cd3PIY1S+sBxj4LwBpHrjIUnB4TIfz2S4wzAYZyKQAE+EFhalV\n",
       "A1yFfwPfQTAjHS4UDIwXW0RA1QupQvzp3AVzG9/9tL8CCBXXEPb3QEKdgYFZADlWjmKLPCMmcyl4\n",
       "avmOTQW7RXYnjF32bQLe1MQAANwoQA/Qy/2yAAAAAElFTkSuQmCC\n",
       "\" style=\"display:inline;vertical-align:middle;\" /></a><br>"
      ],
      "text/plain": [
       "<IPython.core.display.HTML object>"
      ]
     },
     "metadata": {},
     "output_type": "display_data"
    }
   ],
   "source": [
    "r_in_QNeg = InSet(p, RationalNeg)"
   ]
  },
  {
   "cell_type": "code",
   "execution_count": 13,
   "metadata": {},
   "outputs": [
    {
     "data": {
      "text/html": [
       "<span style=\"font-size:20px;\"> <a class=\"ProveItLink\" href=\"../__pv_it/demonstrations/7c9fb4f38872e7b42da3dbf2ae76240d03bd7af70/proof.ipynb\" style=\"text-decoration: none\">&nbsp;&#x22A2;&nbsp;&nbsp;</a><a class=\"ProveItLink\" href=\"../__pv_it/demonstrations/b4a996178bf18d737a87c78081fe668a8407a7170/expr.ipynb\"><img src=\"data:image/png;base64,iVBORw0KGgoAAAANSUhEUgAAAHgAAAAZBAMAAAAI4vceAAAAMFBMVEX///8AAAAAAAAAAAAAAAAA\n",
       "AAAAAAAAAAAAAAAAAAAAAAAAAAAAAAAAAAAAAAAAAAAv3aB7AAAAD3RSTlMAZkRUmRDNuyLviTJ2\n",
       "3asqG0tJAAAACXBIWXMAAA7EAAAOxAGVKw4bAAACGElEQVQ4y2NgYBBiIARYcMowOxDUzFGASyaM\n",
       "gTCQwSVRiFU0qrzcA8HjDUCV5blZ9m3uI6CTJmDTy/NyA8e9BQjuAzR5dqYDbXEKDCwLsGleuJCB\n",
       "QUWdgbscCCoYGFi/YmgW4GooYOBXwKKXe0ECUAHjAbhAIqZmRoMHDPuRvcNTe/caWC4U6E6uDQlw\n",
       "CXcoffzu3QS45gSGs0h6mXKgJoVzAy1lNvCGy5yEUGpHETbzNS5geAZ05LnoU09BQm0wV+xiEgAa\n",
       "JSAM16wPluFIRTj76NlXDAzlQPfxJTMsBwllwOR0GA2AZh4whGvevwFEsjUgNF+bfyWAIY+BYTPb\n",
       "AwZ5kBDcj13MYJsPwTX3g4OVDTnAeIRSGa4wMATwGzCcB7qLe+7du3evg+UgfnaFK44Ha94JlL9b\n",
       "ANXMUKAFshnko0ogxQpPwuwRaKHdD3Z2OLLNDAXsYM1rGRi+gIQuwIMdEs8GCD+DfcuLqpmN4TmQ\n",
       "mcLAOBUkdAYu6QhMYXrqDGihzXMARbMNKAZZvzP0QkITbhUXKG0j5VVJCJWM0LyA65QDyEzm32dW\n",
       "gIVYn6vCZFu+5XsjJR8/CBVXBEkJPJnl4FzFCcwb8IBhWg5JnkDwGillI9K2Vu3dBOQiZgEDL7aM\n",
       "xXfgnDU8z2DkKlgGmsAQb4BNwq5sugCMzfgAR0nymDk/kVAxxNtAizKMeQEFpScx5XYAdnEANZ+D\n",
       "1kQxI5UAAAAASUVORK5CYII=\n",
       "\" style=\"display:inline;vertical-align:middle;\" /></a></span>"
      ],
      "text/plain": [
       "|- (p in RationalNeg) in BOOLEAN"
      ]
     },
     "metadata": {},
     "output_type": "display_data"
    }
   ],
   "source": [
    "r_in_QNeg.deduce_in_bool()"
   ]
  },
  {
   "cell_type": "code",
   "execution_count": 14,
   "metadata": {},
   "outputs": [
    {
     "data": {
      "text/html": [
       "<strong id=\"s_in_QNonNeg\">s_in_QNonNeg:</strong> <a class=\"ProveItLink\" href=\"../__pv_it/demonstrations/bc6099364e974a136961d2fbe4248c9e239f23fe0/expr.ipynb\"><img src=\"data:image/png;base64,iVBORw0KGgoAAAANSUhEUgAAAEcAAAAWBAMAAABgTJx+AAAAMFBMVEX///8AAAAAAAAAAAAAAAAA\n",
       "AAAAAAAAAAAAAAAAAAAAAAAAAAAAAAAAAAAAAAAAAAAv3aB7AAAAD3RSTlMAiXaZELsyRCJm3c1U\n",
       "76sUjwJqAAAACXBIWXMAAA7EAAAOxAGVKw4bAAABRklEQVQoz2NgwAXYwsEUo5AAAx7gGAMiJzGU\n",
       "4lPEwBQJJK4x8DfgVcUZxMDxhYH3AFZ7QkMtoKpusH1h4JqAzZa3CRzrwK5lES0AKuJVwKJIUpKB\n",
       "oRjkWg67BJB1/FisYxPYwMDAyqnAwPEuAcPhTFGrVoNoVpcHwNBJ2MDyGCypxFCHUMO+yQHCcGUD\n",
       "uoHngBmLAzQwTUCkEohk6IaqYUhkB/qGfcIcFDeEMRSDqB0wfhEn0KFsCieR1XB8YAAFLMMGmEAj\n",
       "D9gkdbZQIIiAKvo6A+ynW6tWrVoKdjjETSYo1sn/BwUcSwCMz+oB8R1qwJR+AZEL4N6EhBNKCEox\n",
       "MHyBhAcMWAJDvA41fWxi4DEA0dxwrYyguDNAUZQ0SRNMszwtgQk1/95vhiPxsItCogUInnEqMBAE\n",
       "fAp6xwoIqjoXfRU5pQEAkG1JmfNvWcMAAAAASUVORK5CYII=\n",
       "\" style=\"display:inline;vertical-align:middle;\" /></a><br>"
      ],
      "text/plain": [
       "<IPython.core.display.HTML object>"
      ]
     },
     "metadata": {},
     "output_type": "display_data"
    }
   ],
   "source": [
    "s_in_QNonNeg = InSet(s, RationalNonNeg)"
   ]
  },
  {
   "cell_type": "code",
   "execution_count": 15,
   "metadata": {},
   "outputs": [
    {
     "data": {
      "text/html": [
       "<span style=\"font-size:20px;\"> <a class=\"ProveItLink\" href=\"../__pv_it/demonstrations/6204a3a9d7f861783a89ec93fc962fb5ae31805c0/proof.ipynb\" style=\"text-decoration: none\">&nbsp;&#x22A2;&nbsp;&nbsp;</a><a class=\"ProveItLink\" href=\"../__pv_it/demonstrations/377f8c316491146ef16287cb4f2db91d4b0d0f340/expr.ipynb\"><img src=\"data:image/png;base64,iVBORw0KGgoAAAANSUhEUgAAAIAAAAAaBAMAAACN7UndAAAAMFBMVEX///8AAAAAAAAAAAAAAAAA\n",
       "AAAAAAAAAAAAAAAAAAAAAAAAAAAAAAAAAAAAAAAAAAAv3aB7AAAAD3RSTlMAZkRUmRDNuyLviTJ2\n",
       "3asqG0tJAAAACXBIWXMAAA7EAAAOxAGVKw4bAAACXklEQVQ4y51VP2gTURj/5ZJc0uTShnaQikM6\n",
       "6JDFiI4diotOeosKDjEiFQsi12LNVHqCdGtTcNTibYUqcrgUpZATLGJppUKpOByEVgyom1bERd/7\n",
       "Xi65l9wdxW/43st73/vl9/09IEpWC7SsbERaDYZfJZdLTMccxUAi1Cg+FoX+Ng/02fiNtBFmcjmS\n",
       "Ho44qOl4CBwLs5gM5l69a4rtsFnX8QHI6bKJ9uner6U9IL0YBPD+Eea/0u7qFBjAY/ag0WWTUpy5\n",
       "cgEJK+B95mgeylnu9YNv4C78YKQOegDyGdPAQCEA4JXKlMG8XmDvRRCB670AsVKD8/P5NePu8nW6\n",
       "zNRTFeXzdOoonP45LzGuW2kDVLDle6/cFmhJY43p0wn7kjhfecPP34kfJ9Y7DPrvW/jC98/IAnMt\n",
       "NllrhOmRWEmifJJu0+MdF9a3WKCrfGsrVE23PCbOENNr8bwEULe5Vs0OwO6THR132LaGFNlWWldp\n",
       "6xRnoBVWq0y8FzUKt+oPojY4jh1+NUlG2SXXdT/yXSsGculcI4CXzMY1WgAwisQg8/ePiJ1nO70g\n",
       "siBJjVy44mcAI0UAUGbpz7a9uyLVwZAMUCeaORlARZMR2MYAAWx6dwleiXtd/SeyoDkSwCjPrurg\n",
       "DB2p7bw9Z73wuavyhsVyowNgZTbGOG729aZIWLJ53MvDxZs/7S6AC2IpT4nYahNV6sY+fy8oy6KU\n",
       "gX67p/+9XijOuBXfcWA3Mvmu7b+QR8RBsGF2MWTSNSfkURNrhEykfRxOcub/zcS2hM7EuHWo9+FT\n",
       "Oeq74A+2Hnz+D4c8lZ/mq0yLAAAAAElFTkSuQmCC\n",
       "\" style=\"display:inline;vertical-align:middle;\" /></a></span>"
      ],
      "text/plain": [
       "|- (s in RationalNonNeg) in BOOLEAN"
      ]
     },
     "metadata": {},
     "output_type": "display_data"
    }
   ],
   "source": [
    "s_in_QNonNeg.deduce_in_bool()"
   ]
  },
  {
   "cell_type": "code",
   "execution_count": null,
   "metadata": {},
   "outputs": [],
   "source": []
  },
  {
   "cell_type": "code",
   "execution_count": null,
   "metadata": {},
   "outputs": [],
   "source": []
  },
  {
   "cell_type": "markdown",
   "metadata": {},
   "source": [
    "### Number set membership demonstrations"
   ]
  },
  {
   "cell_type": "code",
   "execution_count": 16,
   "metadata": {},
   "outputs": [
    {
     "data": {
      "text/html": [
       "<span style=\"font-size:20px;\"> <a class=\"ProveItLink\" href=\"../__pv_it/demonstrations/a5245d243e558bc0d1d0cd8294936d16bd6d2dba0/proof.ipynb\" style=\"text-decoration: none\">&nbsp;&#x22A2;&nbsp;&nbsp;</a><a class=\"ProveItLink\" href=\"../__pv_it/demonstrations/eb63cfcd1f0ed03b19e2bb52898c95e8b29d6f800/expr.ipynb\"><img src=\"data:image/png;base64,iVBORw0KGgoAAAANSUhEUgAAAGgAAAAVBAMAAABYjraNAAAAMFBMVEX///8AAAAAAAAAAAAAAAAA\n",
       "AAAAAAAAAAAAAAAAAAAAAAAAAAAAAAAAAAAAAAAAAAAv3aB7AAAAD3RSTlMAInZUiRDNmWbv3US7\n",
       "qzJazP2FAAAACXBIWXMAAA7EAAAOxAGVKw4bAAABwUlEQVQ4y31UMUjDQBR9qWmNJtYOUjs4BFEQ\n",
       "RSgiooKS0UGhgm4VVBB0UqGCOEhAcNHBxaUKFpSKVaGIIoJideggHTq4iCIddHFxc3HxX9KEXpr4\n",
       "l1z+y/v/3b93ARCCZwhegC/qlp0oFJYBWXV8e5L/Sb7Sote10ktJONeADkdekdXwVBb+aTfSyAhw\n",
       "fQsEYk6SLoZyqNVdOEGNSimSCmmpiiRFi6jjVD1l0gY2WQTEEjF3HQAjTaOvgiPPltXEgzSBmug6\n",
       "MM8DRGqIaEiQmFEhYYgMWzv4kOld1jeAMXCAIrd3PhulRCUh7rDUjNXyQqJzCKr9wCY4QJHTB8cx\n",
       "HAKRQKpWYyl7kE01RqcuYAAcQPJ8W3PYAz4bzQkGk5lM5szAzD2tAN8OgHTnLhkJ96Zkf84uOG5N\n",
       "78YBMJLC5GGtnErZYzTPiTY2yAMGKYBHWh6VU6328FfJEXfkCGzzgEHqYTMVfsupgO1dkXmPuSHB\n",
       "A4qsiW1L+CIxVnf/25XFav5ZXGfPUw7wLRQMl9eXKi0xarqF4l1i10JIVQEsnJa0okHtHs6625ni\n",
       "weNyDuX3dbR4gHH8E14VBdWb43P/f/wB5PRuhgvJBn4AAAAASUVORK5CYII=\n",
       "\" style=\"display:inline;vertical-align:middle;\" /></a></span>"
      ],
      "text/plain": [
       "|- (r in Rational) in BOOLEAN"
      ]
     },
     "metadata": {},
     "output_type": "display_data"
    }
   ],
   "source": [
    "InSet(InSet(r, Rational), Boolean).prove()"
   ]
  },
  {
   "cell_type": "code",
   "execution_count": 17,
   "metadata": {},
   "outputs": [
    {
     "data": {
      "text/html": [
       "<span style=\"font-size:20px;\"> <a class=\"ProveItLink\" href=\"../__pv_it/demonstrations/896bf05def1a9cf590c906edcf2f69d1d526fc6e0/proof.ipynb\" style=\"text-decoration: none\">&nbsp;&#x22A2;&nbsp;&nbsp;</a><a class=\"ProveItLink\" href=\"../__pv_it/demonstrations/b1da12802c48e909bd2f33b3dbdad36dc2eab6400/expr.ipynb\"><img src=\"data:image/png;base64,iVBORw0KGgoAAAANSUhEUgAAAIAAAAAbCAMAAACDQXd5AAAAOVBMVEX///8AAAAAAAAAAAAAAAAA\n",
       "AAAAAAAAAAAAAAAAAAAAAAAAAAAAAAAAAAAAAAAAAAAAAAAAAAAAAAACXHtMAAAAEnRSTlMAZkRU\n",
       "mRDNuyLviTJ23avt5cl5aQ4bAAAACXBIWXMAAA7EAAAOxAGVKw4bAAACOUlEQVRIx8VXh5bjIAwU\n",
       "vbN3/P/HrigOrths8nZ5ie0UD8NoJGSADwwBfzssLUfr7U8RCH1nfh0LhgegCi/4PALjbwkQdT4a\n",
       "h4eEl1pNR1C+NT8twuuUjWBY02JqKDJB1iocvKwZeL5WX/gm4AqBUKDCjSl9MEomaUIsodfm+fw+\n",
       "ZqV1iN1uvtKvBIyv/7pdM1APWorCgD/3riW2TEc5XQIt2kUNQWLluyTuCSCQ1ZDvTo9TwFmQC0AO\n",
       "dA7Bv/+qhKCbEIckjwgQBnHR7lxwFXB0iyohmrjWNSrupbbPadg+cTUG6gRkdsSVu6XfUkO1XTM4\n",
       "Y8Bd5dTjYz1vn7wZAi0EoiYY/tiWYhVobrt2aJFjBGj7Hc8kh5udZxxdq3oEqiYUvnpZVbksKHSj\n",
       "7dSlPsD6Omvm4oFlLhcVxCUHA6BCIEiTQpZMlrhpAjJsMuKIrW2dtSrg0bvswr96bWx5aUJPKKoT\n",
       "Sh12AtLGus6ENtTqtrUHBqkmVgTOgBqBfLJNgV3cen5veAu9z4IrBdwQqBPA10KA77IhnFb9XgfY\n",
       "qGAkPQRaEZAQG8OwK4j+xOB8qYSRDre8jZpnQC8CmEYtZ/WhIMqTNdplLxhv4MTcAJXgA3Yw/MWW\n",
       "HpQSUdGD0TRPUibuxpWWxyGQl0apvhsaer3Tq20FLe2Hu9/w93vBKVCnO9nJRQxbZI6OsnCqS3Vm\n",
       "jgCwqFDDwYZH4uSS2Ie75KB/tSc8CjDbEwKzn5x/vit+97lgb+q556RvCtURjVOfocoAAAAASUVO\n",
       "RK5CYII=\n",
       "\" style=\"display:inline;vertical-align:middle;\" /></a></span>"
      ],
      "text/plain": [
       "|- (r in RationalNonZero) in BOOLEAN"
      ]
     },
     "metadata": {},
     "output_type": "display_data"
    }
   ],
   "source": [
    "InSet(InSet(r, RationalNonZero), Boolean).prove()"
   ]
  },
  {
   "cell_type": "code",
   "execution_count": 18,
   "metadata": {},
   "outputs": [
    {
     "data": {
      "text/html": [
       "<span style=\"font-size:20px;\"> <a class=\"ProveItLink\" href=\"../__pv_it/demonstrations/469a7634c67a230217a91ce510081a1172402d1f0/proof.ipynb\" style=\"text-decoration: none\">&nbsp;&#x22A2;&nbsp;&nbsp;</a><a class=\"ProveItLink\" href=\"../__pv_it/demonstrations/b570fbfa6d216f116997350ddea64d20aa5381c30/expr.ipynb\"><img src=\"data:image/png;base64,iVBORw0KGgoAAAANSUhEUgAAAHgAAAAZBAMAAAAI4vceAAAAMFBMVEX///8AAAAAAAAAAAAAAAAA\n",
       "AAAAAAAAAAAAAAAAAAAAAAAAAAAAAAAAAAAAAAAAAAAv3aB7AAAAD3RSTlMAZkRUmRDNuyLviTJ2\n",
       "3asqG0tJAAAACXBIWXMAAA7EAAAOxAGVKw4bAAACFklEQVQ4y2NgYBBiwAccgJgFpyyzA17NBUDM\n",
       "UYBLNoyBoGYGGVyyhVhFo8rLPRCaeQNQZXluln2b+wjopAnY9PK83MBxbwFcM88DNHl2pgNtcQoM\n",
       "LAuwaV64kIFBRZ2Bpbx8ejnQaaxfMTQLcDUUMPArYNHLvSABqIDxAMxmhkRMzYwGDxj2I3uHp/bu\n",
       "NbBcKNCdXBsS4JrdoQqO372bANecwHAWSS9TDtSkcG6gpcwG3nDNJyHiakcRNvM1LmB4BnTkcg4v\n",
       "AZBQG8wVu5iAfCYBYbhmfbAMRyrC2UfPvmJgKAe6j92LCxzmGTA5HUYDoJkHDKEpjIFh/wYQydaA\n",
       "0Hxt/pUAhjwGhka2C5AwT4DJdTGDbT4E91A/OFjZkAOMRyiV4QoDw1Z+AUgYz7179+51sBzEz65w\n",
       "xfFgzTuB8ncLoJoZCrRANkN9xMAKT8LsEfDQhtoMdnY4ss0MBexgzb5QoQvwYIfEswFc8X6wb3lR\n",
       "NbMxPAcyb0GFzsAlHYEpTE8dEYkQt/EcQNFsA4pBjk9QITa4VVygtI2UVyUhVDJC8wKuUw4gM5lg\n",
       "zmV9rgqTbfmW742UfPwgVFwRJHR4MsvBuYoTOW0zLYckTyB4zXgASQKWtrVq7yYgCWPPVQwMfAfO\n",
       "WcPNxchVsAw0AUchYVc2XQDGZnyAQ9FjBsKAt4G8MowBbxnGvICgXtylJ4FyGxyoAdjFARUJfhYB\n",
       "7zcTAAAAAElFTkSuQmCC\n",
       "\" style=\"display:inline;vertical-align:middle;\" /></a></span>"
      ],
      "text/plain": [
       "|- (r in RationalPos) in BOOLEAN"
      ]
     },
     "metadata": {},
     "output_type": "display_data"
    }
   ],
   "source": [
    "InSet(InSet(r, RationalPos), Boolean).prove()"
   ]
  },
  {
   "cell_type": "code",
   "execution_count": 19,
   "metadata": {},
   "outputs": [
    {
     "data": {
      "text/html": [
       "<span style=\"font-size:20px;\"> <a class=\"ProveItLink\" href=\"../__pv_it/demonstrations/7160c4d4f35da783ca081178eb659d3b6f4594880/proof.ipynb\" style=\"text-decoration: none\">&nbsp;&#x22A2;&nbsp;&nbsp;</a><a class=\"ProveItLink\" href=\"../__pv_it/demonstrations/d0d3d6ebd24d8eea1992909c74b1d63d3310e07e0/expr.ipynb\"><img src=\"data:image/png;base64,iVBORw0KGgoAAAANSUhEUgAAAHgAAAAZBAMAAAAI4vceAAAAMFBMVEX///8AAAAAAAAAAAAAAAAA\n",
       "AAAAAAAAAAAAAAAAAAAAAAAAAAAAAAAAAAAAAAAAAAAv3aB7AAAAD3RSTlMAZkRUmRDNuyLviTJ2\n",
       "3asqG0tJAAAACXBIWXMAAA7EAAAOxAGVKw4bAAAB/ElEQVQ4y2NgYBBiIARYcMowOxDUzFGASyaM\n",
       "gTCQwSVRiFU0qrzcA8HjDUCV5blZ9m3uI6CTJmDTy/NyA8e9BQjuAzR5dqYDbXEKDCwLsGleuJCB\n",
       "QUWdgbscCCoYGFi/YmgW4GooYOBXwKKXe0ECUAHjAbhAIqZmRoMHDPuRvcNTe/caWC4U6E6uDQlw\n",
       "CXcoffzu3QS45gSGs0h6mXKgJoVzAy1lNvCGy5yEUGpHETbzNS5geAZ05HIOLwGQUBvMFbuYgHwm\n",
       "AWG4Zn2wDEcqwtlHz75iYCgHuo/diwsc5hkwOR1GA6CZBwzhmvdvAJFsDQjN1+ZfCWDIY2BoZLsA\n",
       "CXO4H7uYwTYfgmvuBwcrG3KA8QilMlxhYNjKLwAJ47l37969DpaD+NkVrjgerHknUP5uAVQzQ4EW\n",
       "yGaojxhY4UmYPQIttPvBzg5HtpmhgB2s2RcqdAEe7JB4NkD4GexbXlTNbAzPgcxbUKEzcElHYArT\n",
       "U2dAC22eAyiabUAxyPEJKsQGt4oLlLaR8qokhEpGaF7AdcoBZCYTzLmsz1Vhsi3f8r2Rko8fhIor\n",
       "goQOT2Y5OFdxIqdtpuWQ5AkEr5FSNiJta9XeTUAuYhZgz+Z8B85Zw83FyFWwDDQBRyFhVzZdAMZm\n",
       "fIBD0WMiiiHeBlqUYcwLKCg9iSm3A7CLAwA0fXoE0OzLkQAAAABJRU5ErkJggg==\n",
       "\" style=\"display:inline;vertical-align:middle;\" /></a></span>"
      ],
      "text/plain": [
       "|- (r in RationalNeg) in BOOLEAN"
      ]
     },
     "metadata": {},
     "output_type": "display_data"
    }
   ],
   "source": [
    "InSet(InSet(r, RationalNeg), Boolean).prove()"
   ]
  },
  {
   "cell_type": "code",
   "execution_count": 20,
   "metadata": {},
   "outputs": [
    {
     "data": {
      "text/html": [
       "<span style=\"font-size:20px;\"> <a class=\"ProveItLink\" href=\"../__pv_it/demonstrations/fff85ee79bbf5cd785df3ea3c317fe71a2b0cddc0/proof.ipynb\" style=\"text-decoration: none\">&nbsp;&#x22A2;&nbsp;&nbsp;</a><a class=\"ProveItLink\" href=\"../__pv_it/demonstrations/a930e247b008e511d6980fb199aa2d50bee2c8a60/expr.ipynb\"><img src=\"data:image/png;base64,iVBORw0KGgoAAAANSUhEUgAAAIAAAAAaBAMAAACN7UndAAAAMFBMVEX///8AAAAAAAAAAAAAAAAA\n",
       "AAAAAAAAAAAAAAAAAAAAAAAAAAAAAAAAAAAAAAAAAAAv3aB7AAAAD3RSTlMAZkRUmRDNuyLviTJ2\n",
       "3asqG0tJAAAACXBIWXMAAA7EAAAOxAGVKw4bAAACWElEQVQ4y51VP2jUYBT/JXfJ5XK5XqiT4HCD\n",
       "elCkxtkidShKi+UWrTjUiBQURNMWGocWUpAOLu2mIMV0usXhFgddGoQiSisdSkUhcqhYVHAQrrNf\n",
       "vnzJJbkkFN/wJXnv5Zff+xsgTypz9CK/sPO8BnNsN+a98wQaKGb6FEbz0JVZcjxDzZKMLJdruUGA\n",
       "W4TURVkjNDJkNp27aV5mCE8rXVRVVJsJbp8WDte/AtJaKvOfbekLzZzQqhOAsgOlk/Ap8c7KdB3F\n",
       "1ARvbAAnG+RGmmx7IdQ0CN0+AFW2DNTqaeWzdeLAOZD+tFkSgVv9AJzWwWY0NGXJ3ae2q4Sv3NaF\n",
       "75b3uI1hcl5iTm9dVw8BdOxE3ufvMbSpikPqq00ITdZIY+R859tOb/UYDCzb+EEIt6Rx1VOtBGxe\n",
       "8+SZV4/FKJ+lVmmmF8LWzi/AJB8ojcu0FncC2xlOI7jOuRjAppcOiFYPYP/5XhP3gWVx16+FHtge\n",
       "FyiDNxWTyEOmXKXpFqNJVAZnsAe8rKl+7tdd1/1IbX4OxmIMblKAV8THNRgAjCGPAYsOQtjupet+\n",
       "FWIAqzSEqSgDGCUKcIWpdsNy+H2gxXNAo6/GAUQckNvPTLUdGi+SThxuIKUKihMDGPGqK/1lKjH8\n",
       "pOzNQmLOj/uX2z0AW34/6uHyAXXh4FRgfXT4YCLRupP+ZXrOz5hy16TTWI7OAt/yW5nIb85JAASz\n",
       "MLTkRrNbzFh3A86H87E565vGYPDWMhbNhYUnamw1dTIcv+FoUrX+byeGkrkTC/aR3s/eyrn/hUiy\n",
       "m+n6f8h9jVFvCYtwAAAAAElFTkSuQmCC\n",
       "\" style=\"display:inline;vertical-align:middle;\" /></a></span>"
      ],
      "text/plain": [
       "|- (r in RationalNonNeg) in BOOLEAN"
      ]
     },
     "metadata": {},
     "output_type": "display_data"
    }
   ],
   "source": [
    "InSet(InSet(r, RationalNonNeg), Boolean).prove()"
   ]
  },
  {
   "cell_type": "code",
   "execution_count": 21,
   "metadata": {},
   "outputs": [
    {
     "data": {
      "text/html": [
       "<span style=\"font-size:20px;\"> <a class=\"ProveItLink\" href=\"../__pv_it/demonstrations/3bac38d5e3594a79ea553f84310d4d7ee699932f0/proof.ipynb\" style=\"text-decoration: none\">&nbsp;&#x22A2;&nbsp;&nbsp;</a><a class=\"ProveItLink\" href=\"../__pv_it/demonstrations/500a48ef7737e23d3ca0a106263261daf0c357e70/expr.ipynb\"><img src=\"data:image/png;base64,iVBORw0KGgoAAAANSUhEUgAAAIAAAAAaBAMAAACN7UndAAAAMFBMVEX///8AAAAAAAAAAAAAAAAA\n",
       "AAAAAAAAAAAAAAAAAAAAAAAAAAAAAAAAAAAAAAAAAAAv3aB7AAAAD3RSTlMAZkRUmRDNuyLviTJ2\n",
       "3asqG0tJAAAACXBIWXMAAA7EAAAOxAGVKw4bAAACVUlEQVQ4y2NgIASYKxi41izAp0IIv/4aBgYZ\n",
       "BnUGFtwqHPDpZywEErMZ+Bs4CnApCcOnn6cYSHB8ZeA0ADoDByjEKhpVXu7BwMA9GcTm/srAK8DA\n",
       "G4Bm9s2yb3MfAY2fgNXmlxs47gFDznwpxADOAww8D9DUsDMdaItTYGDBGsALFzIwqKgDGepLwV7g\n",
       "N2Bg/YphgABXQwEDvwIW/dwLEoAKGA8Amfs8IIHIwJCIaQCjwQOG/che46m9ew0sFwp0L9eGBBC7\n",
       "7ynDGQY9IMMdquj43bsJcAMSGM4i6WfKgZoWzg20nNnAG8xpACYkVyB9EiKndhThAr7GBQzPgA5e\n",
       "zuElABJqg7lmFxOQzyQgjOJkfbAsRyrCC0fPvmJgKAe6ld2LCxwXGTA5HUYDoLkHDFEM2L8BRLI1\n",
       "IAy4Nv9KAEMeA0Mj2wVIXCTA5LqYwS44xF0OBBVQwX5wcLMhByKPUCrDFQaGrfwCkLCfe/fu3etg\n",
       "OUgYuKK4IB5swE6gmrsFUAMYCrRALoD6joEVntzZIxCxAAf9YC+EI7uAoYAdbIAvVOgCPDog6cAA\n",
       "NQzAvudFNYCN4TmQeQsqdAYu6QhMiXrqDFhigecAigE2oNjl+AQVYoNbyQXKC2j5XBJCJSMMWMB1\n",
       "ygFkLhPM6azPVWGyLd/yvdGSrh+EiiuChBhPZjk4N3Ii5wWm5ZCkDASvGQ+gGQDLC1q1d5FDlwVH\n",
       "ccd34Jw1Sj7DyI2wjDcBR0FjVzZdAKVwe4BD4WMG4gBvAzllIhLAWSYyLyBKP+5SmUC9AA/sAOzi\n",
       "ANuyjGjkI0aSAAAAAElFTkSuQmCC\n",
       "\" style=\"display:inline;vertical-align:middle;\" /></a></span>"
      ],
      "text/plain": [
       "|- (r in RationalNonPos) in BOOLEAN"
      ]
     },
     "metadata": {},
     "output_type": "display_data"
    }
   ],
   "source": [
    "InSet(InSet(r, RationalNonPos), Boolean).prove()"
   ]
  },
  {
   "cell_type": "code",
   "execution_count": 22,
   "metadata": {},
   "outputs": [
    {
     "data": {
      "text/html": [
       "<span style=\"font-size:20px;\"><a class=\"ProveItLink\" href=\"../__pv_it/demonstrations/4d51ef4ce3ec20828b6a85bbaa0897ea131f679d0/expr.ipynb\"><img src=\"data:image/png;base64,iVBORw0KGgoAAAANSUhEUgAAAEgAAAAXCAMAAACf6/lXAAAAOVBMVEX///8AAAAAAAAAAAAAAAAA\n",
       "AAAAAAAAAAAAAAAAAAAAAAAAAAAAAAAAAAAAAAAAAAAAAAAAAAAAAAACXHtMAAAAEnRSTlMAMom7\n",
       "Iplm783dEER2VKvt5cknQN27AAAACXBIWXMAAA7EAAAOxAGVKw4bAAABRElEQVQ4y61UiXKFIAwM\n",
       "CcgVaMv/f2y51Iro2PFlRgQlC7s5AN6Yg88Y+joi4zscGcu4MICnV0BRllGLPCT5AsdXQjIVoXR4\n",
       "LCtSNtUOVmVOX/lZQFQguzzE4VgYSBt3Wbn5NiDND8OzYHXzapPV9Umjlp5REwimzagGqVD7/qFK\n",
       "7V5sJpvNrEtyLvariQ4p4ra3hD/Ow2H4kLKZhegahABKNOydN7Jy9d4EUuEuuzTuxMz33/m9FDnC\n",
       "RFwEUgiotw9m5Ou5eRdMhlAwzSTPFzA267fH9bRJYvNuN+JcYMFPIuIgHbJJaNttK6CjRpcl79Mo\n",
       "7Wjk5Bi1mSl7XNtZVe15dJ16dugmfI6IWjM73jQMmUblzPlQXGtN3XSDExUXyY+KSpWMSS0Z/9Vq\n",
       "6G+JtDYmap19wCLnbhKEf48UIhlNFy3sFzXhCOzdzM5GAAAAAElFTkSuQmCC\n",
       "\" style=\"display:inline;vertical-align:middle;\" /></a> <a class=\"ProveItLink\" href=\"../__pv_it/demonstrations/cf4fac18715e209747040b25a41e3db27598c5ec0/proof.ipynb\" style=\"text-decoration: none\">&nbsp;&#x22A2;&nbsp;&nbsp;</a><a class=\"ProveItLink\" href=\"../__pv_it/demonstrations/13afb291ae03c2910bf1688bfbda2fcf5a0202d50/expr.ipynb\"><img src=\"data:image/png;base64,iVBORw0KGgoAAAANSUhEUgAAAC8AAAAUCAMAAAAqRJTwAAAAPFBMVEX///8AAAAAAAAAAAAAAAAA\n",
       "AAAAAAAAAAAAAAAAAAAAAAAAAAAAAAAAAAAAAAAAAAAAAAAAAAAAAAAAAAAo1xBWAAAAE3RSTlMA\n",
       "Mom7Iplm783dEESrVOf16fN22fme/QAAAAlwSFlzAAAOxAAADsQBlSsOGwAAAMxJREFUKM+VkusO\n",
       "wyAIhRHFeqm76Pu/6xTTzWrrIj9MiMcPDgJwH+RgJYRsM8RIaqqXoklMAHB29kDsTaIt15AzfAuT\n",
       "/Dike0e+xUMiLplyVyJXUYS605sW7w59ViFIQsDtGKLleDzLedRQCas+gtJgshnCCf6nRxAOkh67\n",
       "p1Pqqt5nfjlH16abdO0/FL+549MSlL5f7+riOyPJk9dMtjji+4qax0GGvfheHmgg2LIPW9kQb//j\n",
       "s5Yw7uL6awMu7fEVfhZ6EW/X8CBmlx8wdAWRPHuFhwAAAABJRU5ErkJggg==\n",
       "\" style=\"display:inline;vertical-align:middle;\" /></a></span>"
      ],
      "text/plain": [
       "{r in RationalNonZero} |- r != 0"
      ]
     },
     "metadata": {},
     "output_type": "display_data"
    }
   ],
   "source": [
    "NotEquals(r, zero).prove(assumptions=[InSet(r, RationalNonZero)], \n",
    "                         conclude_automation=False) # should be side-effect"
   ]
  },
  {
   "cell_type": "code",
   "execution_count": 23,
   "metadata": {},
   "outputs": [
    {
     "data": {
      "text/html": [
       "<span style=\"font-size:20px;\"><a class=\"ProveItLink\" href=\"../__pv_it/theorems/9d4e5fd1eb433b349bfe3e096940482a89a0be310/expr.ipynb\"><img src=\"data:image/png;base64,iVBORw0KGgoAAAANSUhEUgAAAEEAAAAVBAMAAADrxp6XAAAAMFBMVEX///8AAAAAAAAAAAAAAAAA\n",
       "AAAAAAAAAAAAAAAAAAAAAAAAAAAAAAAAAAAAAAAAAAAv3aB7AAAAD3RSTlMAEHarMolUmd1mIs3v\n",
       "RLtmgJDEAAAACXBIWXMAAA7EAAAOxAGVKw4bAAABC0lEQVQoz2NgwAfYGQgBPvJVMMa9e74Arwrl\n",
       "IwwrTPGpYJ06gYG39gFD3bs3795NwKbClRtIPJiExQymFx3dIPqhMJAI4cZUwbtJAOLOB05AMo3d\n",
       "AaZCSFkkNAHEWA1RwMAScBNI3uRMgKkoYDJibwAxdsHMUpgGJJ3YJkDDlHMB50dmsIM3QFVwBWSC\n",
       "zGC6AOWzMLBDpFhOdHR09IFYUHcIwF3IowB1IEzg4WKYX6Dg/gJGsPIGmMBVcHhMg3HlLtgwsIJZ\n",
       "SvA4B4WpLdzIfMcahmtgFncCTCwYGC/mcDvEldgqIVKMdhdhvqnf/d0BW3zwxkFCnYGB2WESoaRj\n",
       "xGTmi18Fm92el1AmABTuP14VuRdIAAAAAElFTkSuQmCC\n",
       "\" style=\"display:inline;vertical-align:middle;\" /></a> <a class=\"ProveItLink\" href=\"../__pv_it/demonstrations/3d52bbf0c2986eed7b43d1e5fc5cb67aa17599f90/proof.ipynb\" style=\"text-decoration: none\">&nbsp;&#x22A2;&nbsp;&nbsp;</a><a class=\"ProveItLink\" href=\"../../real_numbers/__pv_it/theorems/0c04c146b0f7b92967ed28917fb83981f8ee0b1b0/expr.ipynb\"><img src=\"data:image/png;base64,iVBORw0KGgoAAAANSUhEUgAAADEAAAAQBAMAAABNQoq8AAAAMFBMVEX///8AAAAAAAAAAAAAAAAA\n",
       "AAAAAAAAAAAAAAAAAAAAAAAAAAAAAAAAAAAAAAAAAAAv3aB7AAAAD3RSTlMAEHarMolUmd1mIs3v\n",
       "RLtmgJDEAAAACXBIWXMAAA7EAAAOxAGVKw4bAAAAv0lEQVQY02NgwAZC1RdgFWfgTmDswi4zg4Eh\n",
       "DokrPQHOfMzAkC+AkGGMUIAxvzMw+CcwMAgpi4QmgAU0AqFqQDJAEwqYjNgboOYXgimur0AZBQbO\n",
       "BZwfmWFWZFfBZQIYWBjYNyAsu20IMg0ocx9kKY8CksxDqAvyQVbfX8AIc2K2FZh6x8AwX4BB7oIN\n",
       "AyvMh1UQeg4DQzVQm2MNwzUGFFczcCQwHmFgEFdiqwR7h1EDbh9jqbIDUuhITGAgEgAAPjAn/CdE\n",
       "pSIAAAAASUVORK5CYII=\n",
       "\" style=\"display:inline;vertical-align:middle;\" /></a></span>"
      ],
      "text/plain": [
       "{x in RationalPos} |- x > 0"
      ]
     },
     "metadata": {},
     "output_type": "display_data"
    }
   ],
   "source": [
    "greater(x, zero).prove(assumptions=[InSet(x, RationalPos)], \n",
    "                       conclude_automation=False) # should be side-effect"
   ]
  },
  {
   "cell_type": "code",
   "execution_count": 24,
   "metadata": {},
   "outputs": [
    {
     "data": {
      "text/html": [
       "<span style=\"font-size:20px;\"><a class=\"ProveItLink\" href=\"../__pv_it/theorems/23ad91eeb31bd41ad05aa95b485da816db12c40b0/expr.ipynb\"><img src=\"data:image/png;base64,iVBORw0KGgoAAAANSUhEUgAAAEEAAAASBAMAAAD2w64vAAAAMFBMVEX///8AAAAAAAAAAAAAAAAA\n",
       "AAAAAAAAAAAAAAAAAAAAAAAAAAAAAAAAAAAAAAAAAAAv3aB7AAAAD3RSTlMAEHarMolUmd1mIs3v\n",
       "RLtmgJDEAAAACXBIWXMAAA7EAAAOxAGVKw4bAAAA/klEQVQoz2NgwAIY4949X8CADygfYVhhik8B\n",
       "69QJDLy1Dxj83gEBVrNcuYHEg0lYZJhedHSD6IfCQCKEG1MB7yYBiDsfOAHJNHYHmISQskhoAoix\n",
       "GqKAgSXgJpC8yZkAU1HAZMTeAGLsgpmlMA1IOrFNgPI5F3B+ZAZzNkBFuAIyQWYwXYDyWRjYIVIs\n",
       "Jzo6OvpALKg7BOAu5FGAOhAm8HAxml/uL2AEK2+ACVwFh8c0GFfugg0DK5ilBBNiB4WpLdzIfMca\n",
       "hmtgFjfce8HAeDGH2yGuxFYJkWK0uwjzTf3u7w7Y4oM3DhLqDAzMDpMYCAAjJjNf/CrY7Pa8hDIB\n",
       "2qI+whhU0x4AAAAASUVORK5CYII=\n",
       "\" style=\"display:inline;vertical-align:middle;\" /></a> <a class=\"ProveItLink\" href=\"../__pv_it/demonstrations/ef95dfed7650fdd0749f214c4efc544767fe5af70/proof.ipynb\" style=\"text-decoration: none\">&nbsp;&#x22A2;&nbsp;&nbsp;</a><a class=\"ProveItLink\" href=\"../../real_numbers/__pv_it/theorems/068e2f545e08d21821de8eb3c3a29ef348d1823a0/expr.ipynb\"><img src=\"data:image/png;base64,iVBORw0KGgoAAAANSUhEUgAAADEAAAAQBAMAAABNQoq8AAAAMFBMVEX///8AAAAAAAAAAAAAAAAA\n",
       "AAAAAAAAAAAAAAAAAAAAAAAAAAAAAAAAAAAAAAAAAAAv3aB7AAAAD3RSTlMAEHarMolUmd1mIs3v\n",
       "RLtmgJDEAAAACXBIWXMAAA7EAAAOxAGVKw4bAAAAwUlEQVQY02NgwAZC1RdgFWfgTmDswi4zg4Eh\n",
       "Dl2MbReIfMzAkC+AKsHZDhb4zsDgn8DAIKQsEpoAkWBqBUswgmQmMDAUMBmxN4AlRJsgCri+AmUU\n",
       "GDgXcH5kngASWN7JgCQTwMDCwL4BzGfeBrONEShzXwHI4FFAkwG5IB9k9f0FjAIopjG8Y2CYL8Ag\n",
       "d8GGgZUBxQUMcxgYqoHaHGsYrkFFhJog/uNIYDzCwCCuxFaZAPcp1EOlyg7oocO5i4EwAADRHieE\n",
       "tyiB0wAAAABJRU5ErkJggg==\n",
       "\" style=\"display:inline;vertical-align:middle;\" /></a></span>"
      ],
      "text/plain": [
       "{x in RationalNeg} |- x < 0"
      ]
     },
     "metadata": {},
     "output_type": "display_data"
    }
   ],
   "source": [
    "Less(x, zero).prove(assumptions=[InSet(x, RationalNeg)], \n",
    "                    conclude_automation=False) # should be side-effect"
   ]
  },
  {
   "cell_type": "code",
   "execution_count": 25,
   "metadata": {},
   "outputs": [
    {
     "data": {
      "text/html": [
       "<span style=\"font-size:20px;\"><a class=\"ProveItLink\" href=\"../__pv_it/theorems/a2be0400988153802940cffaf86890b07b124da50/expr.ipynb\"><img src=\"data:image/png;base64,iVBORw0KGgoAAAANSUhEUgAAAEoAAAAWBAMAAACVshfOAAAAMFBMVEX///8AAAAAAAAAAAAAAAAA\n",
       "AAAAAAAAAAAAAAAAAAAAAAAAAAAAAAAAAAAAAAAAAAAv3aB7AAAAD3RSTlMAEHarMolUmd1mIs3v\n",
       "RLtmgJDEAAAACXBIWXMAAA7EAAAOxAGVKw4bAAABU0lEQVQoz2NgwA38LoCpUFUGfIAxLgFIcirw\n",
       "PsCrjEFvAgMDjwPDL/yqGOYpMKwXYDiGw6p3zxdAmHMW+AswdGJVpXyEYYUpmCX6lgGo6hA2RaxT\n",
       "JzDw1oKcvNyEAWTjN2yqXLmBxINJDAyLgYowXM/0oqMbRD8UBhIh3AzCVWBRBV4DJEW8mwQgbn/g\n",
       "BCTT2B0EIeKh6kBxIWWRUFDoMayGKGJgCbgJJG9yJiDbU8BkxN4AYuyCmakwDUg6sU1AUsS5gPMj\n",
       "M1hgA1SEKyATZBbTBb93QAAJNxYGdog0y4mOjo4+EAvqLgEUj/MoQB0NE3i4GOJHFHB/ASNYWwNM\n",
       "4Co4vKYhq5G7YMPACmYpwYTYQWFvi5Jc8h1rGK6BWdxwrwcD49EcxT5xJbZKiDSj3UWYL+t3f3fA\n",
       "lZh44yAxxMDA7DCJgQhgxGTmS1gVm92el0hcAE33UPP5R3B9AAAAAElFTkSuQmCC\n",
       "\" style=\"display:inline;vertical-align:middle;\" /></a> <a class=\"ProveItLink\" href=\"../__pv_it/demonstrations/356eeb540a81ceef3836fc4805e0d786bd9102ed0/proof.ipynb\" style=\"text-decoration: none\">&nbsp;&#x22A2;&nbsp;&nbsp;</a><a class=\"ProveItLink\" href=\"../../real_numbers/__pv_it/theorems/ffcbd76494d8407c0ebebaa8c88703403e0e53b60/expr.ipynb\"><img src=\"data:image/png;base64,iVBORw0KGgoAAAANSUhEUgAAADEAAAARBAMAAACGHlkZAAAAMFBMVEX///8AAAAAAAAAAAAAAAAA\n",
       "AAAAAAAAAAAAAAAAAAAAAAAAAAAAAAAAAAAAAAAAAAAv3aB7AAAAD3RSTlMAEHarMolUmd1mIs3v\n",
       "RLtmgJDEAAAACXBIWXMAAA7EAAAOxAGVKw4bAAAAvUlEQVQY02NgwAZC1Rcg8aQnwJncCYxdSDKM\n",
       "EQow5gwGhjgUMzQCoYzHDAz5AihSM6BS3xkY/BMYGISURUIToFLZVWBzQTJAWwuYjNgbYLpuGwIJ\n",
       "rq9AGQUGzgWcH5nhzrr9ECYTwMDCwL4BblG2Fdg0oMx9kEN5EK4thLsgH2T1/QWMAqiufsfAMF+A\n",
       "Qe6CDQMrmk/nMDBUA7U51jBcQwsdjgTGIwwM4kpslQloAcpYquzAQBmQ6ACBFjgfAFAoK0oOcBU8\n",
       "AAAAAElFTkSuQmCC\n",
       "\" style=\"display:inline;vertical-align:middle;\" /></a></span>"
      ],
      "text/plain": [
       "{x in RationalNonNeg} |- x >= 0"
      ]
     },
     "metadata": {},
     "output_type": "display_data"
    }
   ],
   "source": [
    "greater_eq(x, zero).prove(assumptions=[InSet(x, RationalNonNeg)], \n",
    "                          conclude_automation=False) # should be side-effect"
   ]
  },
  {
   "cell_type": "code",
   "execution_count": 26,
   "metadata": {},
   "outputs": [
    {
     "data": {
      "text/html": [
       "<span style=\"font-size:20px;\"><a class=\"ProveItLink\" href=\"../__pv_it/theorems/4deb9df8359e2807bc9b3d016609a8f3c60572590/expr.ipynb\"><img src=\"data:image/png;base64,iVBORw0KGgoAAAANSUhEUgAAAEoAAAAWBAMAAACVshfOAAAAMFBMVEX///8AAAAAAAAAAAAAAAAA\n",
       "AAAAAAAAAAAAAAAAAAAAAAAAAAAAAAAAAAAAAAAAAAAv3aB7AAAAD3RSTlMAEHarMolUmd1mIs3v\n",
       "RLtmgJDEAAAACXBIWXMAAA7EAAAOxAGVKw4bAAABU0lEQVQoz2NgwA/yFjCEqjIQUqTAwKnA+wC/\n",
       "onkTGBh4HBh+4VWklwAk1gswHMMqyxj37vkCBgYfkCIGfwGGTqyqlI8wrDBlYGB7KgBRdQibItap\n",
       "Exh4a4FO5gUpA9r4DZsqV24g8WASkGAxX4DheqYXHd0g+qEwkAgBKWXgMhZgUuA1QFLEu0kA4vYH\n",
       "TkAyjd0BrIyBIVQdKC6kLBIK9sxqiCIGloCbQPImZwKyPQVMRuwNIMYumJkK04CkE9sEJEWcCzg/\n",
       "MoMFNkBFuAIyQWYxXfB7BwQLIOYzsEOkWU50dHT0gVhQdwmgeJxHAepomMDDxXA/IsD9BYxgbQ0w\n",
       "gavg8JqGrEbugg0DK5ilBBNiB4W9LUpyyXesYbgGZnHDvR4MjEdzFPvEldgqIdKMdhdhvqzf/d0B\n",
       "V3LijYPEEAMDs8MkBiKAEZOZL2FVbHZ7XiJxAZsWUD/vbjF5AAAAAElFTkSuQmCC\n",
       "\" style=\"display:inline;vertical-align:middle;\" /></a> <a class=\"ProveItLink\" href=\"../__pv_it/demonstrations/ee541f3ef3948a3f1b83de74ea7749186820da300/proof.ipynb\" style=\"text-decoration: none\">&nbsp;&#x22A2;&nbsp;&nbsp;</a><a class=\"ProveItLink\" href=\"../../real_numbers/__pv_it/theorems/c30a0bd668f16bebb68a7791021eba7f002ea2a10/expr.ipynb\"><img src=\"data:image/png;base64,iVBORw0KGgoAAAANSUhEUgAAADEAAAARBAMAAACGHlkZAAAAMFBMVEX///8AAAAAAAAAAAAAAAAA\n",
       "AAAAAAAAAAAAAAAAAAAAAAAAAAAAAAAAAAAAAAAAAAAv3aB7AAAAD3RSTlMAEHarMolUmd1mIs3v\n",
       "RLtmgJDEAAAACXBIWXMAAA7EAAAOxAGVKw4bAAAAv0lEQVQY02NgwAZC1RegC7HtApHcCYxdaBKc\n",
       "7QIgagYDQxyqBFMrWILhMQNDvgCyhGgTlPGdgcE/gYFBSFkkNAHEF++ESjCCZCYwMBQwGbE3APnC\n",
       "22B6ub4CZRQYOBdwfmQGKmBgRpUJYGBhYN8AEVgONw0oc18ByOBRwOKCfJDV9xcwCqC6+h0Dw3wB\n",
       "BrkLNgysaD6dw8BQDdTmWMNwDRE6W0AkRwLjEaAvlNgqE9ACibFU2YGBMiDRAQItcD4ALa0qND15\n",
       "Sx0AAAAASUVORK5CYII=\n",
       "\" style=\"display:inline;vertical-align:middle;\" /></a></span>"
      ],
      "text/plain": [
       "{x in RationalNonPos} |- x <= 0"
      ]
     },
     "metadata": {},
     "output_type": "display_data"
    }
   ],
   "source": [
    "LessEq(x, zero).prove(assumptions=[InSet(x, RationalNonPos)], \n",
    "                      conclude_automation=False) # should be side-effect"
   ]
  },
  {
   "cell_type": "code",
   "execution_count": 27,
   "metadata": {},
   "outputs": [
    {
     "data": {
      "text/html": [
       "<span style=\"font-size:20px;\"><a class=\"ProveItLink\" href=\"../__pv_it/demonstrations/882c49d1b9e4887c9faaa282b8dfc2bba2d449b10/expr.ipynb\"><img src=\"data:image/png;base64,iVBORw0KGgoAAAANSUhEUgAAADMAAAASBAMAAAAEf/uKAAAAMFBMVEX///8AAAAAAAAAAAAAAAAA\n",
       "AAAAAAAAAAAAAAAAAAAAAAAAAAAAAAAAAAAAAAAAAAAv3aB7AAAAD3RSTlMAMom7Iplm783dEER2\n",
       "VKthCJTuAAAACXBIWXMAAA7EAAAOxAGVKw4bAAAA5ElEQVQY02NgwARcysamDgxYwblCBs9HWGWY\n",
       "khIYuKMNsEkJcQAJgxxkIR7LmTNAtNU6IKHIgSTD3bMA4ggDGSB5l1WAgVGZJSgBJOQBkWFgVNgG\n",
       "JLexXWBgYg5iKgAJtcB0H8gFkjK8CQxuHBNYFUBCDVApFoVrIF08Gxik+BMg5lTOnDlzMogFtQto\n",
       "/n6Y7TD3WPnBXBgJFZkAk9oE9hfIwklQkTMwKVZQaLwGGsLyGyrCcQEmpwcMw6cgt8IM4nq8C+bG\n",
       "+I6vAihhx60MCSgGBj6BHAZc4A3PW2kcUryP280YAMq3L+hMqCNBAAAAAElFTkSuQmCC\n",
       "\" style=\"display:inline;vertical-align:middle;\" /></a>, <a class=\"ProveItLink\" href=\"../__pv_it/demonstrations/13afb291ae03c2910bf1688bfbda2fcf5a0202d50/expr.ipynb\"><img src=\"data:image/png;base64,iVBORw0KGgoAAAANSUhEUgAAAC8AAAAUCAMAAAAqRJTwAAAAPFBMVEX///8AAAAAAAAAAAAAAAAA\n",
       "AAAAAAAAAAAAAAAAAAAAAAAAAAAAAAAAAAAAAAAAAAAAAAAAAAAAAAAAAAAo1xBWAAAAE3RSTlMA\n",
       "Mom7Iplm783dEESrVOf16fN22fme/QAAAAlwSFlzAAAOxAAADsQBlSsOGwAAAMxJREFUKM+VkusO\n",
       "wyAIhRHFeqm76Pu/6xTTzWrrIj9MiMcPDgJwH+RgJYRsM8RIaqqXoklMAHB29kDsTaIt15AzfAuT\n",
       "/Dike0e+xUMiLplyVyJXUYS605sW7w59ViFIQsDtGKLleDzLedRQCas+gtJgshnCCf6nRxAOkh67\n",
       "p1Pqqt5nfjlH16abdO0/FL+549MSlL5f7+riOyPJk9dMtjji+4qax0GGvfheHmgg2LIPW9kQb//j\n",
       "s5Yw7uL6awMu7fEVfhZ6EW/X8CBmlx8wdAWRPHuFhwAAAABJRU5ErkJggg==\n",
       "\" style=\"display:inline;vertical-align:middle;\" /></a> <a class=\"ProveItLink\" href=\"../__pv_it/demonstrations/26f31caa5087ddd6065ced917628e1c8f9a3a0e60/proof.ipynb\" style=\"text-decoration: none\">&nbsp;&#x22A2;&nbsp;&nbsp;</a><a class=\"ProveItLink\" href=\"../__pv_it/demonstrations/4d51ef4ce3ec20828b6a85bbaa0897ea131f679d0/expr.ipynb\"><img src=\"data:image/png;base64,iVBORw0KGgoAAAANSUhEUgAAAEgAAAAXCAMAAACf6/lXAAAAOVBMVEX///8AAAAAAAAAAAAAAAAA\n",
       "AAAAAAAAAAAAAAAAAAAAAAAAAAAAAAAAAAAAAAAAAAAAAAAAAAAAAAACXHtMAAAAEnRSTlMAMom7\n",
       "Iplm783dEER2VKvt5cknQN27AAAACXBIWXMAAA7EAAAOxAGVKw4bAAABRElEQVQ4y61UiXKFIAwM\n",
       "CcgVaMv/f2y51Iro2PFlRgQlC7s5AN6Yg88Y+joi4zscGcu4MICnV0BRllGLPCT5AsdXQjIVoXR4\n",
       "LCtSNtUOVmVOX/lZQFQguzzE4VgYSBt3Wbn5NiDND8OzYHXzapPV9Umjlp5REwimzagGqVD7/qFK\n",
       "7V5sJpvNrEtyLvariQ4p4ra3hD/Ow2H4kLKZhegahABKNOydN7Jy9d4EUuEuuzTuxMz33/m9FDnC\n",
       "RFwEUgiotw9m5Ou5eRdMhlAwzSTPFzA267fH9bRJYvNuN+JcYMFPIuIgHbJJaNttK6CjRpcl79Mo\n",
       "7Wjk5Bi1mSl7XNtZVe15dJ16dugmfI6IWjM73jQMmUblzPlQXGtN3XSDExUXyY+KSpWMSS0Z/9Vq\n",
       "6G+JtDYmap19wCLnbhKEf48UIhlNFy3sFzXhCOzdzM5GAAAAAElFTkSuQmCC\n",
       "\" style=\"display:inline;vertical-align:middle;\" /></a></span>"
      ],
      "text/plain": [
       "{r in Rational, r != 0} |- r in RationalNonZero"
      ]
     },
     "metadata": {},
     "output_type": "display_data"
    }
   ],
   "source": [
    "InSet(r, RationalNonZero).prove(assumptions=[InSet(r, Rational), NotEquals(r, zero)])"
   ]
  },
  {
   "cell_type": "code",
   "execution_count": 28,
   "metadata": {},
   "outputs": [
    {
     "data": {
      "text/html": [
       "<span style=\"font-size:20px;\"><a class=\"ProveItLink\" href=\"../__pv_it/demonstrations/882c49d1b9e4887c9faaa282b8dfc2bba2d449b10/expr.ipynb\"><img src=\"data:image/png;base64,iVBORw0KGgoAAAANSUhEUgAAADMAAAASBAMAAAAEf/uKAAAAMFBMVEX///8AAAAAAAAAAAAAAAAA\n",
       "AAAAAAAAAAAAAAAAAAAAAAAAAAAAAAAAAAAAAAAAAAAv3aB7AAAAD3RSTlMAMom7Iplm783dEER2\n",
       "VKthCJTuAAAACXBIWXMAAA7EAAAOxAGVKw4bAAAA5ElEQVQY02NgwARcysamDgxYwblCBs9HWGWY\n",
       "khIYuKMNsEkJcQAJgxxkIR7LmTNAtNU6IKHIgSTD3bMA4ggDGSB5l1WAgVGZJSgBJOQBkWFgVNgG\n",
       "JLexXWBgYg5iKgAJtcB0H8gFkjK8CQxuHBNYFUBCDVApFoVrIF08Gxik+BMg5lTOnDlzMogFtQto\n",
       "/n6Y7TD3WPnBXBgJFZkAk9oE9hfIwklQkTMwKVZQaLwGGsLyGyrCcQEmpwcMw6cgt8IM4nq8C+bG\n",
       "+I6vAihhx60MCSgGBj6BHAZc4A3PW2kcUryP280YAMq3L+hMqCNBAAAAAElFTkSuQmCC\n",
       "\" style=\"display:inline;vertical-align:middle;\" /></a>, <a class=\"ProveItLink\" href=\"../__pv_it/demonstrations/4fbcb7a28aa1a7b57995427d328be52fe3a024f90/expr.ipynb\"><img src=\"data:image/png;base64,iVBORw0KGgoAAAANSUhEUgAAAC8AAAAQBAMAAAB0JTvnAAAAMFBMVEX///8AAAAAAAAAAAAAAAAA\n",
       "AAAAAAAAAAAAAAAAAAAAAAAAAAAAAAAAAAAAAAAAAAAv3aB7AAAAD3RSTlMAMom7Iplm783dEER2\n",
       "VKthCJTuAAAACXBIWXMAAA7EAAAOxAGVKw4bAAAAsUlEQVQY02NgwAKUjjpgE2bguMA1BatEJgOD\n",
       "MoK3IgHOtGNguL8AzuPSPABjfmVgkL/AwKjMEgRRfFILqgQkkcDAxBzEVAA1OwpMsXwCShxgcOOY\n",
       "wKoANeNGCFxCgUGKH2Erw45XIKOAEvuBFu5fgCRhBbX8/gUGhkiE+I0nYMqYgSEfqHoSwmMhEDqd\n",
       "gSECaNVvmDjMuQycF7gKGRi4J0BdfxLuQa6gcwII81cmMBAHAFCxKY2aXsX3AAAAAElFTkSuQmCC\n",
       "\" style=\"display:inline;vertical-align:middle;\" /></a> <a class=\"ProveItLink\" href=\"../__pv_it/demonstrations/449a4064a1b8f19022839763aff36d474ec902ff0/proof.ipynb\" style=\"text-decoration: none\">&nbsp;&#x22A2;&nbsp;&nbsp;</a><a class=\"ProveItLink\" href=\"../__pv_it/demonstrations/626f6ee733111f01942c242934299b746289a8da0/expr.ipynb\"><img src=\"data:image/png;base64,iVBORw0KGgoAAAANSUhEUgAAAD8AAAAVBAMAAAADRiu8AAAAMFBMVEX///8AAAAAAAAAAAAAAAAA\n",
       "AAAAAAAAAAAAAAAAAAAAAAAAAAAAAAAAAAAAAAAAAAAv3aB7AAAAD3RSTlMAMom7Iplm783dEER2\n",
       "VKthCJTuAAAACXBIWXMAAA7EAAAOxAGVKw4bAAAA+klEQVQoz2NgwANYGQgAZnIVcCkbmzrgU3Cu\n",
       "kMHzER4FTEkJDNzRBgzBxubGxglYFAhxAAmDHEwTeCxnzgDRVuuAhCIHhgLungUQJxrIAMm7rAJQ\n",
       "BYzKLEFgizwg8gyMCtuA5Da2C1AFTMxBTAUgRgvMpAO5QFKGNwEakm4cE1gVQIwGqAIWhWsgE3g2\n",
       "QPlS/BCfMFbOnDlzMogFdcMCmOP2w9wGE7Dyg/kCAiKh9ASYwCZwOOTCFUyC0mfgkQwKyddwA1l+\n",
       "QxkcF2BCesC4eIoIH5jRXI93wfTEd3wVwBIH3MqQoGZg4BPIIZBS3vC8lcargPdxuxmUCQD6EDGN\n",
       "D0MsKwAAAABJRU5ErkJggg==\n",
       "\" style=\"display:inline;vertical-align:middle;\" /></a></span>"
      ],
      "text/plain": [
       "{r in Rational, r > 0} |- r in RationalPos"
      ]
     },
     "metadata": {},
     "output_type": "display_data"
    }
   ],
   "source": [
    "InSet(r, RationalPos).prove(assumptions=[InSet(r, Rational), greater(r, zero)])"
   ]
  },
  {
   "cell_type": "code",
   "execution_count": 29,
   "metadata": {},
   "outputs": [
    {
     "data": {
      "text/html": [
       "<span style=\"font-size:20px;\"><a class=\"ProveItLink\" href=\"../__pv_it/demonstrations/882c49d1b9e4887c9faaa282b8dfc2bba2d449b10/expr.ipynb\"><img src=\"data:image/png;base64,iVBORw0KGgoAAAANSUhEUgAAADMAAAASBAMAAAAEf/uKAAAAMFBMVEX///8AAAAAAAAAAAAAAAAA\n",
       "AAAAAAAAAAAAAAAAAAAAAAAAAAAAAAAAAAAAAAAAAAAv3aB7AAAAD3RSTlMAMom7Iplm783dEER2\n",
       "VKthCJTuAAAACXBIWXMAAA7EAAAOxAGVKw4bAAAA5ElEQVQY02NgwARcysamDgxYwblCBs9HWGWY\n",
       "khIYuKMNsEkJcQAJgxxkIR7LmTNAtNU6IKHIgSTD3bMA4ggDGSB5l1WAgVGZJSgBJOQBkWFgVNgG\n",
       "JLexXWBgYg5iKgAJtcB0H8gFkjK8CQxuHBNYFUBCDVApFoVrIF08Gxik+BMg5lTOnDlzMogFtQto\n",
       "/n6Y7TD3WPnBXBgJFZkAk9oE9hfIwklQkTMwKVZQaLwGGsLyGyrCcQEmpwcMw6cgt8IM4nq8C+bG\n",
       "+I6vAihhx60MCSgGBj6BHAZc4A3PW2kcUryP280YAMq3L+hMqCNBAAAAAElFTkSuQmCC\n",
       "\" style=\"display:inline;vertical-align:middle;\" /></a>, <a class=\"ProveItLink\" href=\"../__pv_it/demonstrations/852751f5259ab586e8e04031aa81781437c9d3ba0/expr.ipynb\"><img src=\"data:image/png;base64,iVBORw0KGgoAAAANSUhEUgAAAC8AAAAQBAMAAAB0JTvnAAAAMFBMVEX///8AAAAAAAAAAAAAAAAA\n",
       "AAAAAAAAAAAAAAAAAAAAAAAAAAAAAAAAAAAAAAAAAAAv3aB7AAAAD3RSTlMAMom7Iplm783dEERU\n",
       "dqv9c0BAAAAACXBIWXMAAA7EAAAOxAGVKw4bAAAAsUlEQVQY02NgwAKUrjpgE2bgOMA1BatEJgOD\n",
       "MpoQTwuItGNgOL8ARZxtKpj/lYFB/gADozJLUAJEnHcSWJwLJJHAwMQcxFQAFl80FyLP8gkocYHB\n",
       "jWMCqwKI7zqNAUlCgUGKH2IQXw/MJi6gxP4LQLwATQJk+fkDDAyRUC7cKAZjBoZ8oOpJMD7McoZ0\n",
       "BoYIoFW/4UasnQsxlfMAVyEDA/cEJA9CPRJ0TwAtSNhaGAgCAFoiKBJFaJBwAAAAAElFTkSuQmCC\n",
       "\" style=\"display:inline;vertical-align:middle;\" /></a> <a class=\"ProveItLink\" href=\"../__pv_it/demonstrations/f047c05279c1390bccf70ae1ea548efd52be698d0/proof.ipynb\" style=\"text-decoration: none\">&nbsp;&#x22A2;&nbsp;&nbsp;</a><a class=\"ProveItLink\" href=\"../__pv_it/demonstrations/de545d362592a6cfc62a1a1b1cb193cf15246c660/expr.ipynb\"><img src=\"data:image/png;base64,iVBORw0KGgoAAAANSUhEUgAAAD8AAAASBAMAAAAeQxsEAAAAMFBMVEX///8AAAAAAAAAAAAAAAAA\n",
       "AAAAAAAAAAAAAAAAAAAAAAAAAAAAAAAAAAAAAAAAAAAv3aB7AAAAD3RSTlMAMom7Iplm783dEER2\n",
       "VKthCJTuAAAACXBIWXMAAA7EAAAOxAGVKw4bAAAA7UlEQVQoz2NgwARcysamDgx4wLlCBs9HeOSZ\n",
       "khIYuKMNGISNgQCbSUIcQMIgB1OCx3LmDBBttQ5IKHJgyHP3LIA40UAGSN5lFYCKMyqzBCWAGB4L\n",
       "oAIK24DkNrYLMCcxBzEVgBgtMJMO5AJJGd4EKN+NYwKrAojRABVgUbgGMoFnA5QvxQ9Rylg5c+bM\n",
       "ySAW1A0LYI7bD3MbTMDKD9UXkVB6AkxgEzgccuEKJkHpMzABVlBIvoYbyPIbyuCA+YtBDxgXTxHh\n",
       "AzOa6/EumJ74jq8CWOKAWxkS1AwMfAI5DPjBG5630ngV8D5uN4MyAfRMMQc4vhzsAAAAAElFTkSu\n",
       "QmCC\n",
       "\" style=\"display:inline;vertical-align:middle;\" /></a></span>"
      ],
      "text/plain": [
       "{r in Rational, r < 0} |- r in RationalNeg"
      ]
     },
     "metadata": {},
     "output_type": "display_data"
    }
   ],
   "source": [
    "InSet(r, RationalNeg).prove(assumptions=[InSet(r, Rational), Less(r, zero)])"
   ]
  },
  {
   "cell_type": "code",
   "execution_count": 30,
   "metadata": {},
   "outputs": [
    {
     "data": {
      "text/html": [
       "<span style=\"font-size:20px;\"><a class=\"ProveItLink\" href=\"../__pv_it/demonstrations/882c49d1b9e4887c9faaa282b8dfc2bba2d449b10/expr.ipynb\"><img src=\"data:image/png;base64,iVBORw0KGgoAAAANSUhEUgAAADMAAAASBAMAAAAEf/uKAAAAMFBMVEX///8AAAAAAAAAAAAAAAAA\n",
       "AAAAAAAAAAAAAAAAAAAAAAAAAAAAAAAAAAAAAAAAAAAv3aB7AAAAD3RSTlMAMom7Iplm783dEER2\n",
       "VKthCJTuAAAACXBIWXMAAA7EAAAOxAGVKw4bAAAA5ElEQVQY02NgwARcysamDgxYwblCBs9HWGWY\n",
       "khIYuKMNsEkJcQAJgxxkIR7LmTNAtNU6IKHIgSTD3bMA4ggDGSB5l1WAgVGZJSgBJOQBkWFgVNgG\n",
       "JLexXWBgYg5iKgAJtcB0H8gFkjK8CQxuHBNYFUBCDVApFoVrIF08Gxik+BMg5lTOnDlzMogFtQto\n",
       "/n6Y7TD3WPnBXBgJFZkAk9oE9hfIwklQkTMwKVZQaLwGGsLyGyrCcQEmpwcMw6cgt8IM4nq8C+bG\n",
       "+I6vAihhx60MCSgGBj6BHAZc4A3PW2kcUryP280YAMq3L+hMqCNBAAAAAElFTkSuQmCC\n",
       "\" style=\"display:inline;vertical-align:middle;\" /></a>, <a class=\"ProveItLink\" href=\"../__pv_it/demonstrations/ceb2d14f78c448fe02261edd5eb78b8090d070ec0/expr.ipynb\"><img src=\"data:image/png;base64,iVBORw0KGgoAAAANSUhEUgAAAC8AAAARBAMAAAC/eehCAAAAMFBMVEX///8AAAAAAAAAAAAAAAAA\n",
       "AAAAAAAAAAAAAAAAAAAAAAAAAAAAAAAAAAAAAAAAAAAv3aB7AAAAD3RSTlMAMom7Iplm783dEER2\n",
       "VKthCJTuAAAACXBIWXMAAA7EAAAOxAGVKw4bAAAArUlEQVQY02NgwAKUjjogOCsS4EyOC1xTEBJc\n",
       "mgdgzEwGBmVkA05qQRl2DAz3FyDLZEJlvjIwyF9gYFRmCYIZfyMEbChIIoGBiTmIqQCmZ8crIMHy\n",
       "CShxgMGNYwKrAlzCCiahwCDFj3DnjSdgo4AS+4FO3A93QGYU3PL7FxgYIjGca8zAkA9UPQnDg+kM\n",
       "DBFAq35jBAnnBa5CBgbuCRhhyBV0ToCBArByJghMhPMBqnMs+SGnUN4AAAAASUVORK5CYII=\n",
       "\" style=\"display:inline;vertical-align:middle;\" /></a> <a class=\"ProveItLink\" href=\"../__pv_it/demonstrations/da95d9ebf8ed6a0dab3a8a30b83b5d62106406f50/proof.ipynb\" style=\"text-decoration: none\">&nbsp;&#x22A2;&nbsp;&nbsp;</a><a class=\"ProveItLink\" href=\"../__pv_it/demonstrations/207437074e3b2124231d7752eb78c451f130001d0/expr.ipynb\"><img src=\"data:image/png;base64,iVBORw0KGgoAAAANSUhEUgAAAEgAAAAWBAMAAACRR8fzAAAAMFBMVEX///8AAAAAAAAAAAAAAAAA\n",
       "AAAAAAAAAAAAAAAAAAAAAAAAAAAAAAAAAAAAAAAAAAAv3aB7AAAAD3RSTlMAMom7Iplm783dEER2\n",
       "VKthCJTuAAAACXBIWXMAAA7EAAAOxAGVKw4bAAABQ0lEQVQoz2NgwAmEN4AppUMMeACX8gUgyXaA\n",
       "2wCfKobDCQwM7AIMX/AqYkg+wOC/gKEWuz3Gpg4QZrqD/AKGadgUnStk8HwEZi2yZgAqqsGihikp\n",
       "gYE7GuRa14cMIOv+YlEkxAEkDHIYGPyAatAdzmM5cwaItloHJBQ5GNaFgEUPcD9AqOHuWQBxtoEM\n",
       "kLzLKrAKIq50dAEDozJLUAKI4wFRw8CosA1IbmO7gOxM5iCmAhCjBWbigVwgKcObgKTIjWMCqwKI\n",
       "0QAVYFG4BjKJZ4OwMRBAwkuKH6KFsXLmzJmTQSyomxYg+3g/zL0wASs/iO+QQSSUngAT2AQOp1wU\n",
       "RZOg9BmYACsoxF+jpA+W31AGB9zPesC4e4piEDfMGq7Hu2D64ju+CuBIPNzKkGhhYOATyGEgDN7w\n",
       "vJUmqIj3cbsZEhcAibNHs//uLUIAAAAASUVORK5CYII=\n",
       "\" style=\"display:inline;vertical-align:middle;\" /></a></span>"
      ],
      "text/plain": [
       "{r in Rational, r >= 0} |- r in RationalNonNeg"
      ]
     },
     "metadata": {},
     "output_type": "display_data"
    }
   ],
   "source": [
    "InSet(r, RationalNonNeg).prove(assumptions=[InSet(r, Rational), greater_eq(r, zero)])"
   ]
  },
  {
   "cell_type": "code",
   "execution_count": 31,
   "metadata": {},
   "outputs": [
    {
     "data": {
      "text/html": [
       "<span style=\"font-size:20px;\"><a class=\"ProveItLink\" href=\"../__pv_it/demonstrations/882c49d1b9e4887c9faaa282b8dfc2bba2d449b10/expr.ipynb\"><img src=\"data:image/png;base64,iVBORw0KGgoAAAANSUhEUgAAADMAAAASBAMAAAAEf/uKAAAAMFBMVEX///8AAAAAAAAAAAAAAAAA\n",
       "AAAAAAAAAAAAAAAAAAAAAAAAAAAAAAAAAAAAAAAAAAAv3aB7AAAAD3RSTlMAMom7Iplm783dEER2\n",
       "VKthCJTuAAAACXBIWXMAAA7EAAAOxAGVKw4bAAAA5ElEQVQY02NgwARcysamDgxYwblCBs9HWGWY\n",
       "khIYuKMNsEkJcQAJgxxkIR7LmTNAtNU6IKHIgSTD3bMA4ggDGSB5l1WAgVGZJSgBJOQBkWFgVNgG\n",
       "JLexXWBgYg5iKgAJtcB0H8gFkjK8CQxuHBNYFUBCDVApFoVrIF08Gxik+BMg5lTOnDlzMogFtQto\n",
       "/n6Y7TD3WPnBXBgJFZkAk9oE9hfIwklQkTMwKVZQaLwGGsLyGyrCcQEmpwcMw6cgt8IM4nq8C+bG\n",
       "+I6vAihhx60MCSgGBj6BHAZc4A3PW2kcUryP280YAMq3L+hMqCNBAAAAAElFTkSuQmCC\n",
       "\" style=\"display:inline;vertical-align:middle;\" /></a>, <a class=\"ProveItLink\" href=\"../__pv_it/demonstrations/0354d8cf2a05630211843c3bf449e55f39c83dd40/expr.ipynb\"><img src=\"data:image/png;base64,iVBORw0KGgoAAAANSUhEUgAAAC8AAAARBAMAAAC/eehCAAAAMFBMVEX///8AAAAAAAAAAAAAAAAA\n",
       "AAAAAAAAAAAAAAAAAAAAAAAAAAAAAAAAAAAAAAAAAAAv3aB7AAAAD3RSTlMAMom7Iplm783dEERU\n",
       "dqv9c0BAAAAACXBIWXMAAA7EAAAOxAGVKw4bAAAAr0lEQVQY02NgwAKUrjqgifC0gEiOA1xTUMXZ\n",
       "pi4AUZkMDMoo4ryTwOIMdgwM5xcgiS+aC2V8ZWCQP8DAqMwSlADiLp0GFecCSSQwMDEHMRUAuet6\n",
       "YDpZPgElLjC4cUxgVQBy+VAlFBik+BMgfFe4UUCJ/ReAeAEWy88fYGCIxHCuMQNDPpA1CcOD6QwM\n",
       "EUCrfiMHSSOI5DzAVcjAwD0BIwy5gu4JMFAAVs4EgYlwPgCCTiyk65NkuQAAAABJRU5ErkJggg==\n",
       "\" style=\"display:inline;vertical-align:middle;\" /></a> <a class=\"ProveItLink\" href=\"../__pv_it/demonstrations/58e3e9949f93cf719acc33ad941fcdd9480983940/proof.ipynb\" style=\"text-decoration: none\">&nbsp;&#x22A2;&nbsp;&nbsp;</a><a class=\"ProveItLink\" href=\"../__pv_it/demonstrations/0bebf19d39049c3c5a579b73c7f86fd7b14028c70/expr.ipynb\"><img src=\"data:image/png;base64,iVBORw0KGgoAAAANSUhEUgAAAEgAAAAWBAMAAACRR8fzAAAAMFBMVEX///8AAAAAAAAAAAAAAAAA\n",
       "AAAAAAAAAAAAAAAAAAAAAAAAAAAAAAAAAAAAAAAAAAAv3aB7AAAAD3RSTlMAMom7Iplm783dEER2\n",
       "VKthCJTuAAAACXBIWXMAAA7EAAAOxAGVKw4bAAABRUlEQVQoz2NgwAsuOzAoHWIgoOYAA9sBbgO8\n",
       "apITGBjYBRi+4FNz+AKQ8F/AUItNkkvZ2NSBgUEcpIZBfgHDNGyKzhUyeD5iYOA1WgBRVINFDVNS\n",
       "AgN3NNC13CBVQOv+YlEkxAEkDHKABONTB3SH81jOnAGirdYBCUWQSgaWdwt4DnA/QKjh7lkAcbaB\n",
       "DJC8yyoAVsXAoHR0AQOjMktQAojvAVHDwKiwDUhuY7uA7EzmIKYCEKMFZuKBXCApw5uApMiNYwKr\n",
       "AojRABVgUbgGMolng7AxEDiAxaT4IVoYK2fOnDkZxIK6aQGyj/fD3AsTsPKD+w4OIqH0BJjAJnA4\n",
       "5aIomgSlz8AEWEEh/holfbD8hjI44H7WA8bdUxSDuGHWcD3eBdMX3/FVAEfy4VaGRAsDA59ADgNh\n",
       "8IbnrTRBRbyP282QuAApNEiD3ReVhwAAAABJRU5ErkJggg==\n",
       "\" style=\"display:inline;vertical-align:middle;\" /></a></span>"
      ],
      "text/plain": [
       "{r in Rational, r <= 0} |- r in RationalNonPos"
      ]
     },
     "metadata": {},
     "output_type": "display_data"
    }
   ],
   "source": [
    "InSet(r, RationalNonPos).prove(assumptions=[InSet(r, Rational), LessEq(r, zero)])"
   ]
  },
  {
   "cell_type": "code",
   "execution_count": 32,
   "metadata": {},
   "outputs": [
    {
     "data": {
      "text/html": [
       "<span style=\"font-size:20px;\"><a class=\"ProveItLink\" href=\"../__pv_it/demonstrations/277ac99c531ad0ce4c659c2e8e727fa0d316f7980/expr.ipynb\"><img src=\"data:image/png;base64,iVBORw0KGgoAAAANSUhEUgAAADIAAAAQBAMAAACmdTG/AAAAMFBMVEX///8AAAAAAAAAAAAAAAAA\n",
       "AAAAAAAAAAAAAAAAAAAAAAAAAAAAAAAAAAAAAAAAAAAv3aB7AAAAD3RSTlMAMom7Iplm783dEER2\n",
       "VKthCJTuAAAACXBIWXMAAA7EAAAOxAGVKw4bAAAAzklEQVQY02NgQAdc8427GJjqqxkwAfOFfQwM\n",
       "67FIMPBNYUpgYMcqc5mhhYETWeTwzJkNYBm3Ax4oMjtOwfQ4PORRAMowKrMEJQD5LF1w0xyYGayB\n",
       "MkzMQUwFQD6HA0KGMWDlSgYGN44JrAogGYQLHBhyec0ZGKT4E8B88ZlAYACV4VvwHMjYvwAssxhZ\n",
       "D9cDoGkMkRA+J7IMgwwzkDEJwuc5AA8dASBPGOja31CBXpgMxwUgEcHAwD0BKrDOGmIhY38xkFyB\n",
       "HDqbLCGhAwUAfCMozXzAb8QAAAAASUVORK5CYII=\n",
       "\" style=\"display:inline;vertical-align:middle;\" /></a> <a class=\"ProveItLink\" href=\"../__pv_it/demonstrations/f6b1f4968f2d64066e0feeffbf739b9ecf29d7a30/proof.ipynb\" style=\"text-decoration: none\">&nbsp;&#x22A2;&nbsp;&nbsp;</a><a class=\"ProveItLink\" href=\"../__pv_it/demonstrations/207437074e3b2124231d7752eb78c451f130001d0/expr.ipynb\"><img src=\"data:image/png;base64,iVBORw0KGgoAAAANSUhEUgAAAEgAAAAWBAMAAACRR8fzAAAAMFBMVEX///8AAAAAAAAAAAAAAAAA\n",
       "AAAAAAAAAAAAAAAAAAAAAAAAAAAAAAAAAAAAAAAAAAAv3aB7AAAAD3RSTlMAMom7Iplm783dEER2\n",
       "VKthCJTuAAAACXBIWXMAAA7EAAAOxAGVKw4bAAABQ0lEQVQoz2NgwAmEN4AppUMMeACX8gUgyXaA\n",
       "2wCfKobDCQwM7AIMX/AqYkg+wOC/gKEWuz3Gpg4QZrqD/AKGadgUnStk8HwEZi2yZgAqqsGihikp\n",
       "gYE7GuRa14cMIOv+YlEkxAEkDHIYGPyAatAdzmM5cwaItloHJBQ5GNaFgEUPcD9AqOHuWQBxtoEM\n",
       "kLzLKrAKIq50dAEDozJLUAKI4wFRw8CosA1IbmO7gOxM5iCmAhCjBWbigVwgKcObgKTIjWMCqwKI\n",
       "0QAVYFG4BjKJZ4OwMRBAwkuKH6KFsXLmzJmTQSyomxYg+3g/zL0wASs/iO+QQSSUngAT2AQOp1wU\n",
       "RZOg9BmYACsoxF+jpA+W31AGB9zPesC4e4piEDfMGq7Hu2D64ju+CuBIPNzKkGhhYOATyGEgDN7w\n",
       "vJUmqIj3cbsZEhcAibNHs//uLUIAAAAASUVORK5CYII=\n",
       "\" style=\"display:inline;vertical-align:middle;\" /></a></span>"
      ],
      "text/plain": [
       "{r in Natural} |- r in RationalNonNeg"
      ]
     },
     "metadata": {},
     "output_type": "display_data"
    }
   ],
   "source": [
    "InSet(r, RationalNonNeg).prove(assumptions=[InSet(r, Natural)])"
   ]
  },
  {
   "cell_type": "code",
   "execution_count": 33,
   "metadata": {},
   "outputs": [
    {
     "data": {
      "text/html": [
       "<span style=\"font-size:20px;\"><a class=\"ProveItLink\" href=\"../__pv_it/demonstrations/56c124db25fa4edae1427e578badd12738dccc4b0/expr.ipynb\"><img src=\"data:image/png;base64,iVBORw0KGgoAAAANSUhEUgAAAD4AAAATBAMAAAA63aOfAAAAMFBMVEX///8AAAAAAAAAAAAAAAAA\n",
       "AAAAAAAAAAAAAAAAAAAAAAAAAAAAAAAAAAAAAAAAAAAv3aB7AAAAD3RSTlMAMom7Iplm783dEER2\n",
       "VKthCJTuAAAACXBIWXMAAA7EAAAOxAGVKw4bAAAA20lEQVQoz2NgwAMCGPADA3LkueYbdzEw1Vfj\n",
       "1M98YR8Dw3rc5vNNYUpgYGdgNTYuNjbDJn+ZoYWBE1P/4ZkzG8Dybgc8sMjvOAXT7/CQRwEuz6jM\n",
       "EpQApFm64OY7MDNYw+WZmIOYCoA0hwNCnjFg5UpY+LlxTGBVAMkj3OfAkMtrDuNJ8SeAafGZQGAA\n",
       "ledb8ByufP8CMLUYWT/Xg5VwbiSE4kSWZ5BhhnMnQSieA/DwFQDyhGE8lt9QRi9MhOMCkIiA8bgn\n",
       "QBnrrCEOYewvBpIrMMN9kyUkfFEAAOBQLDT629EOAAAAAElFTkSuQmCC\n",
       "\" style=\"display:inline;vertical-align:middle;\" /></a> <a class=\"ProveItLink\" href=\"../__pv_it/demonstrations/f6c0e07e82f54a17fd93d836dd6cc38fb559eb260/proof.ipynb\" style=\"text-decoration: none\">&nbsp;&#x22A2;&nbsp;&nbsp;</a><a class=\"ProveItLink\" href=\"../__pv_it/demonstrations/626f6ee733111f01942c242934299b746289a8da0/expr.ipynb\"><img src=\"data:image/png;base64,iVBORw0KGgoAAAANSUhEUgAAAD8AAAAVBAMAAAADRiu8AAAAMFBMVEX///8AAAAAAAAAAAAAAAAA\n",
       "AAAAAAAAAAAAAAAAAAAAAAAAAAAAAAAAAAAAAAAAAAAv3aB7AAAAD3RSTlMAMom7Iplm783dEER2\n",
       "VKthCJTuAAAACXBIWXMAAA7EAAAOxAGVKw4bAAAA+klEQVQoz2NgwANYGQgAZnIVcCkbmzrgU3Cu\n",
       "kMHzER4FTEkJDNzRBgzBxubGxglYFAhxAAmDHEwTeCxnzgDRVuuAhCIHhgLungUQJxrIAMm7rAJQ\n",
       "BYzKLEFgizwg8gyMCtuA5Da2C1AFTMxBTAUgRgvMpAO5QFKGNwEakm4cE1gVQIwGqAIWhWsgE3g2\n",
       "QPlS/BCfMFbOnDlzMogFdcMCmOP2w9wGE7Dyg/kCAiKh9ASYwCZwOOTCFUyC0mfgkQwKyddwA1l+\n",
       "QxkcF2BCesC4eIoIH5jRXI93wfTEd3wVwBIH3MqQoGZg4BPIIZBS3vC8lcargPdxuxmUCQD6EDGN\n",
       "D0MsKwAAAABJRU5ErkJggg==\n",
       "\" style=\"display:inline;vertical-align:middle;\" /></a></span>"
      ],
      "text/plain": [
       "{r in NaturalPos} |- r in RationalPos"
      ]
     },
     "metadata": {},
     "output_type": "display_data"
    }
   ],
   "source": [
    "InSet(r, RationalPos).prove(assumptions=[InSet(r, NaturalPos)])"
   ]
  },
  {
   "cell_type": "code",
   "execution_count": 34,
   "metadata": {},
   "outputs": [
    {
     "data": {
      "text/html": [
       "<span style=\"font-size:20px;\"><a class=\"ProveItLink\" href=\"../__pv_it/demonstrations/225a1c66a378b201fe89da7e6d3809a8b867513f0/expr.ipynb\"><img src=\"data:image/png;base64,iVBORw0KGgoAAAANSUhEUgAAADEAAAAQBAMAAABNQoq8AAAAMFBMVEX///8AAAAAAAAAAAAAAAAA\n",
       "AAAAAAAAAAAAAAAAAAAAAAAAAAAAAAAAAAAAAAAAAAAv3aB7AAAAD3RSTlMAMom7Iplm783dEER2\n",
       "VKthCJTuAAAACXBIWXMAAA7EAAAOxAGVKw4bAAAAz0lEQVQY02NgwAA36issJ5cxYAGHHzJwMDRg\n",
       "kwllYDjGdAGbzBMGLoPFKCI8ljNngOgFDKwCD5EluHsWwJhyjAFAklGZJSgBxPWASzBYMYPYTMxB\n",
       "TAUgbgtcglchB0S5cUxgVQAxEO6EulmKH2wWA2PlzJkzJ4OZZ5k2MHAB6f0Q87kMYFq4DJwZGPgc\n",
       "GBgioQITYDJ8Ak8YGNYDGZOgAmdgMqLcQDe/ZGBg+Q2zFxYgVhwLGJwvAz0IM4Xr8S6Ij4vbjc2/\n",
       "G6EEgjIkdKAAAAqlKtXaGsMQAAAAAElFTkSuQmCC\n",
       "\" style=\"display:inline;vertical-align:middle;\" /></a> <a class=\"ProveItLink\" href=\"../__pv_it/demonstrations/3b0e819b7ed8a39430a21b21eb2b7c63f6257f8b0/proof.ipynb\" style=\"text-decoration: none\">&nbsp;&#x22A2;&nbsp;&nbsp;</a><a class=\"ProveItLink\" href=\"../__pv_it/demonstrations/882c49d1b9e4887c9faaa282b8dfc2bba2d449b10/expr.ipynb\"><img src=\"data:image/png;base64,iVBORw0KGgoAAAANSUhEUgAAADMAAAASBAMAAAAEf/uKAAAAMFBMVEX///8AAAAAAAAAAAAAAAAA\n",
       "AAAAAAAAAAAAAAAAAAAAAAAAAAAAAAAAAAAAAAAAAAAv3aB7AAAAD3RSTlMAMom7Iplm783dEER2\n",
       "VKthCJTuAAAACXBIWXMAAA7EAAAOxAGVKw4bAAAA5ElEQVQY02NgwARcysamDgxYwblCBs9HWGWY\n",
       "khIYuKMNsEkJcQAJgxxkIR7LmTNAtNU6IKHIgSTD3bMA4ggDGSB5l1WAgVGZJSgBJOQBkWFgVNgG\n",
       "JLexXWBgYg5iKgAJtcB0H8gFkjK8CQxuHBNYFUBCDVApFoVrIF08Gxik+BMg5lTOnDlzMogFtQto\n",
       "/n6Y7TD3WPnBXBgJFZkAk9oE9hfIwklQkTMwKVZQaLwGGsLyGyrCcQEmpwcMw6cgt8IM4nq8C+bG\n",
       "+I6vAihhx60MCSgGBj6BHAZc4A3PW2kcUryP280YAMq3L+hMqCNBAAAAAElFTkSuQmCC\n",
       "\" style=\"display:inline;vertical-align:middle;\" /></a></span>"
      ],
      "text/plain": [
       "{r in Integer} |- r in Rational"
      ]
     },
     "metadata": {},
     "output_type": "display_data"
    }
   ],
   "source": [
    "InSet(r, Rational).prove(assumptions=[InSet(r, Integer)])"
   ]
  },
  {
   "cell_type": "code",
   "execution_count": 35,
   "metadata": {},
   "outputs": [
    {
     "data": {
      "text/html": [
       "<span style=\"font-size:20px;\"><a class=\"ProveItLink\" href=\"../__pv_it/demonstrations/97f19a8c07eba9f45badbda14b9d2b7728bc6df00/expr.ipynb\"><img src=\"data:image/png;base64,iVBORw0KGgoAAAANSUhEUgAAAEYAAAAVCAMAAADM6mjvAAAAOVBMVEX///8AAAAAAAAAAAAAAAAA\n",
       "AAAAAAAAAAAAAAAAAAAAAAAAAAAAAAAAAAAAAAAAAAAAAAAAAAAAAAACXHtMAAAAEnRSTlMAMom7\n",
       "Iplm783dEER2VKvt5cknQN27AAAACXBIWXMAAA7EAAAOxAGVKw4bAAABMElEQVQ4y61Ui3KEIAwM\n",
       "BCTh1Zb//9gG5Hwc2Nq7ZpQZwI3sZgPA6+HhP0KHNuqo38lich2XCBDwjTTZ1NEpGYp5OUtoVEyp\n",
       "Arl0C5LIFUfIjG4BsFjjQ94FVEvDy600EXM9O7WnL63INY2Lt9JY25H6cXrfVV1JlXRfTUGu4Erq\n",
       "8wsbqZ8ljqIDM518ZhU0ao1L3r6sBc/zIlAcDSpIZR8T3PfFfrbOlEYwVu9iG5q5XJAbOE0k1YBW\n",
       "g3bbAs2YJt0M27+YeHoBYmG+NwbNiB6LncK4rzyUk3uU4x6HVompd+J1V4dy2vOTRpM1g4dOmpqL\n",
       "z3OeGEd1vC+Xp+Gn+yIOdZBKh7XYmS/vjfKsGKWx2M0EBtPl1RKGH/iM4ShXcEhOvC9tjvpvlwke\n",
       "m+H3+AbcOwfY9BethAAAAABJRU5ErkJggg==\n",
       "\" style=\"display:inline;vertical-align:middle;\" /></a> <a class=\"ProveItLink\" href=\"../__pv_it/demonstrations/b0a2e342effdea4df56b7842781481b5c415f6aa0/proof.ipynb\" style=\"text-decoration: none\">&nbsp;&#x22A2;&nbsp;&nbsp;</a><a class=\"ProveItLink\" href=\"../__pv_it/demonstrations/4d51ef4ce3ec20828b6a85bbaa0897ea131f679d0/expr.ipynb\"><img src=\"data:image/png;base64,iVBORw0KGgoAAAANSUhEUgAAAEgAAAAXCAMAAACf6/lXAAAAOVBMVEX///8AAAAAAAAAAAAAAAAA\n",
       "AAAAAAAAAAAAAAAAAAAAAAAAAAAAAAAAAAAAAAAAAAAAAAAAAAAAAAACXHtMAAAAEnRSTlMAMom7\n",
       "Iplm783dEER2VKvt5cknQN27AAAACXBIWXMAAA7EAAAOxAGVKw4bAAABRElEQVQ4y61UiXKFIAwM\n",
       "CcgVaMv/f2y51Iro2PFlRgQlC7s5AN6Yg88Y+joi4zscGcu4MICnV0BRllGLPCT5AsdXQjIVoXR4\n",
       "LCtSNtUOVmVOX/lZQFQguzzE4VgYSBt3Wbn5NiDND8OzYHXzapPV9Umjlp5REwimzagGqVD7/qFK\n",
       "7V5sJpvNrEtyLvariQ4p4ra3hD/Ow2H4kLKZhegahABKNOydN7Jy9d4EUuEuuzTuxMz33/m9FDnC\n",
       "RFwEUgiotw9m5Ou5eRdMhlAwzSTPFzA267fH9bRJYvNuN+JcYMFPIuIgHbJJaNttK6CjRpcl79Mo\n",
       "7Wjk5Bi1mSl7XNtZVe15dJ16dugmfI6IWjM73jQMmUblzPlQXGtN3XSDExUXyY+KSpWMSS0Z/9Vq\n",
       "6G+JtDYmap19wCLnbhKEf48UIhlNFy3sFzXhCOzdzM5GAAAAAElFTkSuQmCC\n",
       "\" style=\"display:inline;vertical-align:middle;\" /></a></span>"
      ],
      "text/plain": [
       "{r in IntegerNonZero} |- r in RationalNonZero"
      ]
     },
     "metadata": {},
     "output_type": "display_data"
    }
   ],
   "source": [
    "InSet(r, RationalNonZero).prove(assumptions=[InSet(r, IntegerNonZero)])"
   ]
  },
  {
   "cell_type": "code",
   "execution_count": 36,
   "metadata": {},
   "outputs": [
    {
     "data": {
      "text/html": [
       "<span style=\"font-size:20px;\"><a class=\"ProveItLink\" href=\"../__pv_it/demonstrations/a2beb2a7d14d81f385a7b88c7d9162ae8aba3a1a0/expr.ipynb\"><img src=\"data:image/png;base64,iVBORw0KGgoAAAANSUhEUgAAAD0AAAAQBAMAAABXfmoyAAAAMFBMVEX///8AAAAAAAAAAAAAAAAA\n",
       "AAAAAAAAAAAAAAAAAAAAAAAAAAAAAAAAAAAAAAAAAAAv3aB7AAAAD3RSTlMAMom7Iplm783dEER2\n",
       "VKthCJTuAAAACXBIWXMAAA7EAAAOxAGVKw4bAAAA1ElEQVQY02NgwAA36issJ5cx4ASHHzJwMDTg\n",
       "lg9lYDjGdIFB2BgIHLDIP2HgMliMRZzHcuYMEL2AgVXgIaY0d88CGFOOMQAuzKjMEpQAYnjApRms\n",
       "mBFsJuYgpgIQowUuxKuQgzDWjWMCqwKIgfARiu+k+BMg9lTOnDlzMph5lmkDAxdcwX6IXVwGMAEu\n",
       "A2cGBj64zyOh9ASYAJ/AEwaG9XD9k6D0GZiAKDfQdy9hPJbfMFddgPmOYwGD82V4sMDM5Xq8CyJQ\n",
       "3G5s/t0ISwAqQ8IXBQAA3n4r9ONhyDIAAAAASUVORK5CYII=\n",
       "\" style=\"display:inline;vertical-align:middle;\" /></a> <a class=\"ProveItLink\" href=\"../__pv_it/demonstrations/f42bf8407644bc949dddd0c7edd5c919c83a65420/proof.ipynb\" style=\"text-decoration: none\">&nbsp;&#x22A2;&nbsp;&nbsp;</a><a class=\"ProveItLink\" href=\"../__pv_it/demonstrations/de545d362592a6cfc62a1a1b1cb193cf15246c660/expr.ipynb\"><img src=\"data:image/png;base64,iVBORw0KGgoAAAANSUhEUgAAAD8AAAASBAMAAAAeQxsEAAAAMFBMVEX///8AAAAAAAAAAAAAAAAA\n",
       "AAAAAAAAAAAAAAAAAAAAAAAAAAAAAAAAAAAAAAAAAAAv3aB7AAAAD3RSTlMAMom7Iplm783dEER2\n",
       "VKthCJTuAAAACXBIWXMAAA7EAAAOxAGVKw4bAAAA7UlEQVQoz2NgwARcysamDgx4wLlCBs9HeOSZ\n",
       "khIYuKMNGISNgQCbSUIcQMIgB1OCx3LmDBBttQ5IKHJgyHP3LIA40UAGSN5lFYCKMyqzBCWAGB4L\n",
       "oAIK24DkNrYLMCcxBzEVgBgtMJMO5AJJGd4EKN+NYwKrAojRABVgUbgGMoFnA5QvxQ9Rylg5c+bM\n",
       "ySAW1A0LYI7bD3MbTMDKD9UXkVB6AkxgEzgccuEKJkHpMzABVlBIvoYbyPIbyuCA+YtBDxgXTxHh\n",
       "AzOa6/EumJ74jq8CWOKAWxkS1AwMfAI5DPjBG5630ngV8D5uN4MyAfRMMQc4vhzsAAAAAElFTkSu\n",
       "QmCC\n",
       "\" style=\"display:inline;vertical-align:middle;\" /></a></span>"
      ],
      "text/plain": [
       "{r in IntegerNeg} |- r in RationalNeg"
      ]
     },
     "metadata": {},
     "output_type": "display_data"
    }
   ],
   "source": [
    "InSet(r, RationalNeg).prove(assumptions=[InSet(r, IntegerNeg)])"
   ]
  },
  {
   "cell_type": "code",
   "execution_count": 37,
   "metadata": {},
   "outputs": [
    {
     "data": {
      "text/html": [
       "<span style=\"font-size:20px;\"><a class=\"ProveItLink\" href=\"../__pv_it/demonstrations/1a8bbf9d7827b1a864d59c6bd60aff77957549360/expr.ipynb\"><img src=\"data:image/png;base64,iVBORw0KGgoAAAANSUhEUgAAAEYAAAAUBAMAAADCRlZLAAAAMFBMVEX///8AAAAAAAAAAAAAAAAA\n",
       "AAAAAAAAAAAAAAAAAAAAAAAAAAAAAAAAAAAAAAAAAAAv3aB7AAAAD3RSTlMAMom7Iplm783dEER2\n",
       "VKthCJTuAAAACXBIWXMAAA7EAAAOxAGVKw4bAAABLUlEQVQoz2NgwAcuOzAoHWLAr+QAA9sBbgN8\n",
       "SpITGBjYBRi+4FFy+AKQ8F/AUItF7kZ9heXkMgZxkBIG+QUM07Dpf8jAwdDAwGu0AKKmBouaUAaG\n",
       "Y0xAQ7hBioB2/cWi5gkDl8FiEIPxqQO6m3ksZ84A0QsYWAUegkVY3i3gOcD9AKGEu2cBjCnHGABh\n",
       "sDAwKB1dwMCozBKUAOJ7wJUwWDEvQLGdiTmIqQDEaIEL8SrkoLrQjWMCqwKI0QAX4gCzhY2BwAEs\n",
       "IMUPtomBsXLmzJmTwcyzTBsYuFAM2g+xmwsedVwGzgwMfA7IaiKh9ASYAJ/AEwaG9SjmTILSZ2AC\n",
       "otxAn79EVsLyG+bSCzCfcyxgcL6MrIYbZgfX410QgeJ2Y/PvRtjTC7cyJC4wAACgBUNwJSPniAAA\n",
       "AABJRU5ErkJggg==\n",
       "\" style=\"display:inline;vertical-align:middle;\" /></a> <a class=\"ProveItLink\" href=\"../__pv_it/demonstrations/fb3d846908468f603e5cd6a8a7915bdd2b339c330/proof.ipynb\" style=\"text-decoration: none\">&nbsp;&#x22A2;&nbsp;&nbsp;</a><a class=\"ProveItLink\" href=\"../__pv_it/demonstrations/0bebf19d39049c3c5a579b73c7f86fd7b14028c70/expr.ipynb\"><img src=\"data:image/png;base64,iVBORw0KGgoAAAANSUhEUgAAAEgAAAAWBAMAAACRR8fzAAAAMFBMVEX///8AAAAAAAAAAAAAAAAA\n",
       "AAAAAAAAAAAAAAAAAAAAAAAAAAAAAAAAAAAAAAAAAAAv3aB7AAAAD3RSTlMAMom7Iplm783dEER2\n",
       "VKthCJTuAAAACXBIWXMAAA7EAAAOxAGVKw4bAAABRUlEQVQoz2NgwAsuOzAoHWIgoOYAA9sBbgO8\n",
       "apITGBjYBRi+4FNz+AKQ8F/AUItNkkvZ2NSBgUEcpIZBfgHDNGyKzhUyeD5iYOA1WgBRVINFDVNS\n",
       "AgN3NNC13CBVQOv+YlEkxAEkDHKABONTB3SH81jOnAGirdYBCUWQSgaWdwt4DnA/QKjh7lkAcbaB\n",
       "DJC8yyoAVsXAoHR0AQOjMktQAojvAVHDwKiwDUhuY7uA7EzmIKYCEKMFZuKBXCApw5uApMiNYwKr\n",
       "AojRABVgUbgGMolng7AxEDiAxaT4IVoYK2fOnDkZxIK6aQGyj/fD3AsTsPKD+w4OIqH0BJjAJnA4\n",
       "5aIomgSlz8AEWEEh/holfbD8hjI44H7WA8bdUxSDuGHWcD3eBdMX3/FVAEfy4VaGRAsDA59ADgNh\n",
       "8IbnrTRBRbyP282QuAApNEiD3ReVhwAAAABJRU5ErkJggg==\n",
       "\" style=\"display:inline;vertical-align:middle;\" /></a></span>"
      ],
      "text/plain": [
       "{r in IntegerNonPos} |- r in RationalNonPos"
      ]
     },
     "metadata": {},
     "output_type": "display_data"
    }
   ],
   "source": [
    "InSet(r, RationalNonPos).prove(assumptions=[InSet(r, IntegerNonPos)])"
   ]
  },
  {
   "cell_type": "code",
   "execution_count": 38,
   "metadata": {},
   "outputs": [
    {
     "data": {
      "text/html": [
       "<span style=\"font-size:20px;\"><a class=\"ProveItLink\" href=\"../__pv_it/demonstrations/4d51ef4ce3ec20828b6a85bbaa0897ea131f679d0/expr.ipynb\"><img src=\"data:image/png;base64,iVBORw0KGgoAAAANSUhEUgAAAEgAAAAXCAMAAACf6/lXAAAAOVBMVEX///8AAAAAAAAAAAAAAAAA\n",
       "AAAAAAAAAAAAAAAAAAAAAAAAAAAAAAAAAAAAAAAAAAAAAAAAAAAAAAACXHtMAAAAEnRSTlMAMom7\n",
       "Iplm783dEER2VKvt5cknQN27AAAACXBIWXMAAA7EAAAOxAGVKw4bAAABRElEQVQ4y61UiXKFIAwM\n",
       "CcgVaMv/f2y51Iro2PFlRgQlC7s5AN6Yg88Y+joi4zscGcu4MICnV0BRllGLPCT5AsdXQjIVoXR4\n",
       "LCtSNtUOVmVOX/lZQFQguzzE4VgYSBt3Wbn5NiDND8OzYHXzapPV9Umjlp5REwimzagGqVD7/qFK\n",
       "7V5sJpvNrEtyLvariQ4p4ra3hD/Ow2H4kLKZhegahABKNOydN7Jy9d4EUuEuuzTuxMz33/m9FDnC\n",
       "RFwEUgiotw9m5Ou5eRdMhlAwzSTPFzA267fH9bRJYvNuN+JcYMFPIuIgHbJJaNttK6CjRpcl79Mo\n",
       "7Wjk5Bi1mSl7XNtZVe15dJ16dugmfI6IWjM73jQMmUblzPlQXGtN3XSDExUXyY+KSpWMSS0Z/9Vq\n",
       "6G+JtDYmap19wCLnbhKEf48UIhlNFy3sFzXhCOzdzM5GAAAAAElFTkSuQmCC\n",
       "\" style=\"display:inline;vertical-align:middle;\" /></a> <a class=\"ProveItLink\" href=\"../__pv_it/demonstrations/5531104ab765fe41573ddcc1912cb54745a3e6490/proof.ipynb\" style=\"text-decoration: none\">&nbsp;&#x22A2;&nbsp;&nbsp;</a><a class=\"ProveItLink\" href=\"../__pv_it/demonstrations/882c49d1b9e4887c9faaa282b8dfc2bba2d449b10/expr.ipynb\"><img src=\"data:image/png;base64,iVBORw0KGgoAAAANSUhEUgAAADMAAAASBAMAAAAEf/uKAAAAMFBMVEX///8AAAAAAAAAAAAAAAAA\n",
       "AAAAAAAAAAAAAAAAAAAAAAAAAAAAAAAAAAAAAAAAAAAv3aB7AAAAD3RSTlMAMom7Iplm783dEER2\n",
       "VKthCJTuAAAACXBIWXMAAA7EAAAOxAGVKw4bAAAA5ElEQVQY02NgwARcysamDgxYwblCBs9HWGWY\n",
       "khIYuKMNsEkJcQAJgxxkIR7LmTNAtNU6IKHIgSTD3bMA4ggDGSB5l1WAgVGZJSgBJOQBkWFgVNgG\n",
       "JLexXWBgYg5iKgAJtcB0H8gFkjK8CQxuHBNYFUBCDVApFoVrIF08Gxik+BMg5lTOnDlzMogFtQto\n",
       "/n6Y7TD3WPnBXBgJFZkAk9oE9hfIwklQkTMwKVZQaLwGGsLyGyrCcQEmpwcMw6cgt8IM4nq8C+bG\n",
       "+I6vAihhx60MCSgGBj6BHAZc4A3PW2kcUryP280YAMq3L+hMqCNBAAAAAElFTkSuQmCC\n",
       "\" style=\"display:inline;vertical-align:middle;\" /></a></span>"
      ],
      "text/plain": [
       "{r in RationalNonZero} |- r in Rational"
      ]
     },
     "metadata": {},
     "output_type": "display_data"
    }
   ],
   "source": [
    "InSet(r, Rational).prove(assumptions=[InSet(r, RationalNonZero)])"
   ]
  },
  {
   "cell_type": "code",
   "execution_count": 39,
   "metadata": {},
   "outputs": [
    {
     "data": {
      "text/html": [
       "<span style=\"font-size:20px;\"><a class=\"ProveItLink\" href=\"../__pv_it/demonstrations/626f6ee733111f01942c242934299b746289a8da0/expr.ipynb\"><img src=\"data:image/png;base64,iVBORw0KGgoAAAANSUhEUgAAAD8AAAAVBAMAAAADRiu8AAAAMFBMVEX///8AAAAAAAAAAAAAAAAA\n",
       "AAAAAAAAAAAAAAAAAAAAAAAAAAAAAAAAAAAAAAAAAAAv3aB7AAAAD3RSTlMAMom7Iplm783dEER2\n",
       "VKthCJTuAAAACXBIWXMAAA7EAAAOxAGVKw4bAAAA+klEQVQoz2NgwANYGQgAZnIVcCkbmzrgU3Cu\n",
       "kMHzER4FTEkJDNzRBgzBxubGxglYFAhxAAmDHEwTeCxnzgDRVuuAhCIHhgLungUQJxrIAMm7rAJQ\n",
       "BYzKLEFgizwg8gyMCtuA5Da2C1AFTMxBTAUgRgvMpAO5QFKGNwEakm4cE1gVQIwGqAIWhWsgE3g2\n",
       "QPlS/BCfMFbOnDlzMogFdcMCmOP2w9wGE7Dyg/kCAiKh9ASYwCZwOOTCFUyC0mfgkQwKyddwA1l+\n",
       "QxkcF2BCesC4eIoIH5jRXI93wfTEd3wVwBIH3MqQoGZg4BPIIZBS3vC8lcargPdxuxmUCQD6EDGN\n",
       "D0MsKwAAAABJRU5ErkJggg==\n",
       "\" style=\"display:inline;vertical-align:middle;\" /></a> <a class=\"ProveItLink\" href=\"../__pv_it/demonstrations/b05b022430ee92fc9ba74aa8963f21731162bbd80/proof.ipynb\" style=\"text-decoration: none\">&nbsp;&#x22A2;&nbsp;&nbsp;</a><a class=\"ProveItLink\" href=\"../__pv_it/demonstrations/882c49d1b9e4887c9faaa282b8dfc2bba2d449b10/expr.ipynb\"><img src=\"data:image/png;base64,iVBORw0KGgoAAAANSUhEUgAAADMAAAASBAMAAAAEf/uKAAAAMFBMVEX///8AAAAAAAAAAAAAAAAA\n",
       "AAAAAAAAAAAAAAAAAAAAAAAAAAAAAAAAAAAAAAAAAAAv3aB7AAAAD3RSTlMAMom7Iplm783dEER2\n",
       "VKthCJTuAAAACXBIWXMAAA7EAAAOxAGVKw4bAAAA5ElEQVQY02NgwARcysamDgxYwblCBs9HWGWY\n",
       "khIYuKMNsEkJcQAJgxxkIR7LmTNAtNU6IKHIgSTD3bMA4ggDGSB5l1WAgVGZJSgBJOQBkWFgVNgG\n",
       "JLexXWBgYg5iKgAJtcB0H8gFkjK8CQxuHBNYFUBCDVApFoVrIF08Gxik+BMg5lTOnDlzMogFtQto\n",
       "/n6Y7TD3WPnBXBgJFZkAk9oE9hfIwklQkTMwKVZQaLwGGsLyGyrCcQEmpwcMw6cgt8IM4nq8C+bG\n",
       "+I6vAihhx60MCSgGBj6BHAZc4A3PW2kcUryP280YAMq3L+hMqCNBAAAAAElFTkSuQmCC\n",
       "\" style=\"display:inline;vertical-align:middle;\" /></a></span>"
      ],
      "text/plain": [
       "{r in RationalPos} |- r in Rational"
      ]
     },
     "metadata": {},
     "output_type": "display_data"
    }
   ],
   "source": [
    "InSet(r, Rational).prove(assumptions=[InSet(r, RationalPos)])"
   ]
  },
  {
   "cell_type": "code",
   "execution_count": 40,
   "metadata": {},
   "outputs": [
    {
     "data": {
      "text/html": [
       "<span style=\"font-size:20px;\"><a class=\"ProveItLink\" href=\"../__pv_it/demonstrations/626f6ee733111f01942c242934299b746289a8da0/expr.ipynb\"><img src=\"data:image/png;base64,iVBORw0KGgoAAAANSUhEUgAAAD8AAAAVBAMAAAADRiu8AAAAMFBMVEX///8AAAAAAAAAAAAAAAAA\n",
       "AAAAAAAAAAAAAAAAAAAAAAAAAAAAAAAAAAAAAAAAAAAv3aB7AAAAD3RSTlMAMom7Iplm783dEER2\n",
       "VKthCJTuAAAACXBIWXMAAA7EAAAOxAGVKw4bAAAA+klEQVQoz2NgwANYGQgAZnIVcCkbmzrgU3Cu\n",
       "kMHzER4FTEkJDNzRBgzBxubGxglYFAhxAAmDHEwTeCxnzgDRVuuAhCIHhgLungUQJxrIAMm7rAJQ\n",
       "BYzKLEFgizwg8gyMCtuA5Da2C1AFTMxBTAUgRgvMpAO5QFKGNwEakm4cE1gVQIwGqAIWhWsgE3g2\n",
       "QPlS/BCfMFbOnDlzMogFdcMCmOP2w9wGE7Dyg/kCAiKh9ASYwCZwOOTCFUyC0mfgkQwKyddwA1l+\n",
       "QxkcF2BCesC4eIoIH5jRXI93wfTEd3wVwBIH3MqQoGZg4BPIIZBS3vC8lcargPdxuxmUCQD6EDGN\n",
       "D0MsKwAAAABJRU5ErkJggg==\n",
       "\" style=\"display:inline;vertical-align:middle;\" /></a> <a class=\"ProveItLink\" href=\"../__pv_it/demonstrations/00ae4e4235fb5fd3695f5ca881171a68af2888930/proof.ipynb\" style=\"text-decoration: none\">&nbsp;&#x22A2;&nbsp;&nbsp;</a><a class=\"ProveItLink\" href=\"../__pv_it/demonstrations/4d51ef4ce3ec20828b6a85bbaa0897ea131f679d0/expr.ipynb\"><img src=\"data:image/png;base64,iVBORw0KGgoAAAANSUhEUgAAAEgAAAAXCAMAAACf6/lXAAAAOVBMVEX///8AAAAAAAAAAAAAAAAA\n",
       "AAAAAAAAAAAAAAAAAAAAAAAAAAAAAAAAAAAAAAAAAAAAAAAAAAAAAAACXHtMAAAAEnRSTlMAMom7\n",
       "Iplm783dEER2VKvt5cknQN27AAAACXBIWXMAAA7EAAAOxAGVKw4bAAABRElEQVQ4y61UiXKFIAwM\n",
       "CcgVaMv/f2y51Iro2PFlRgQlC7s5AN6Yg88Y+joi4zscGcu4MICnV0BRllGLPCT5AsdXQjIVoXR4\n",
       "LCtSNtUOVmVOX/lZQFQguzzE4VgYSBt3Wbn5NiDND8OzYHXzapPV9Umjlp5REwimzagGqVD7/qFK\n",
       "7V5sJpvNrEtyLvariQ4p4ra3hD/Ow2H4kLKZhegahABKNOydN7Jy9d4EUuEuuzTuxMz33/m9FDnC\n",
       "RFwEUgiotw9m5Ou5eRdMhlAwzSTPFzA267fH9bRJYvNuN+JcYMFPIuIgHbJJaNttK6CjRpcl79Mo\n",
       "7Wjk5Bi1mSl7XNtZVe15dJ16dugmfI6IWjM73jQMmUblzPlQXGtN3XSDExUXyY+KSpWMSS0Z/9Vq\n",
       "6G+JtDYmap19wCLnbhKEf48UIhlNFy3sFzXhCOzdzM5GAAAAAElFTkSuQmCC\n",
       "\" style=\"display:inline;vertical-align:middle;\" /></a></span>"
      ],
      "text/plain": [
       "{r in RationalPos} |- r in RationalNonZero"
      ]
     },
     "metadata": {},
     "output_type": "display_data"
    }
   ],
   "source": [
    "InSet(r, RationalNonZero).prove(assumptions=[InSet(r, RationalPos)])"
   ]
  },
  {
   "cell_type": "code",
   "execution_count": 41,
   "metadata": {},
   "outputs": [
    {
     "data": {
      "text/html": [
       "<span style=\"font-size:20px;\"><a class=\"ProveItLink\" href=\"../__pv_it/demonstrations/a2beb2a7d14d81f385a7b88c7d9162ae8aba3a1a0/expr.ipynb\"><img src=\"data:image/png;base64,iVBORw0KGgoAAAANSUhEUgAAAD0AAAAQBAMAAABXfmoyAAAAMFBMVEX///8AAAAAAAAAAAAAAAAA\n",
       "AAAAAAAAAAAAAAAAAAAAAAAAAAAAAAAAAAAAAAAAAAAv3aB7AAAAD3RSTlMAMom7Iplm783dEER2\n",
       "VKthCJTuAAAACXBIWXMAAA7EAAAOxAGVKw4bAAAA1ElEQVQY02NgwAA36issJ5cx4ASHHzJwMDTg\n",
       "lg9lYDjGdIFB2BgIHLDIP2HgMliMRZzHcuYMEL2AgVXgIaY0d88CGFOOMQAuzKjMEpQAYnjApRms\n",
       "mBFsJuYgpgIQowUuxKuQgzDWjWMCqwKIgfARiu+k+BMg9lTOnDlzMph5lmkDAxdcwX6IXVwGMAEu\n",
       "A2cGBj64zyOh9ASYAJ/AEwaG9XD9k6D0GZiAKDfQdy9hPJbfMFddgPmOYwGD82V4sMDM5Xq8CyJQ\n",
       "3G5s/t0ISwAqQ8IXBQAA3n4r9ONhyDIAAAAASUVORK5CYII=\n",
       "\" style=\"display:inline;vertical-align:middle;\" /></a> <a class=\"ProveItLink\" href=\"../__pv_it/demonstrations/f42bf8407644bc949dddd0c7edd5c919c83a65420/proof.ipynb\" style=\"text-decoration: none\">&nbsp;&#x22A2;&nbsp;&nbsp;</a><a class=\"ProveItLink\" href=\"../__pv_it/demonstrations/de545d362592a6cfc62a1a1b1cb193cf15246c660/expr.ipynb\"><img src=\"data:image/png;base64,iVBORw0KGgoAAAANSUhEUgAAAD8AAAASBAMAAAAeQxsEAAAAMFBMVEX///8AAAAAAAAAAAAAAAAA\n",
       "AAAAAAAAAAAAAAAAAAAAAAAAAAAAAAAAAAAAAAAAAAAv3aB7AAAAD3RSTlMAMom7Iplm783dEER2\n",
       "VKthCJTuAAAACXBIWXMAAA7EAAAOxAGVKw4bAAAA7UlEQVQoz2NgwARcysamDgx4wLlCBs9HeOSZ\n",
       "khIYuKMNGISNgQCbSUIcQMIgB1OCx3LmDBBttQ5IKHJgyHP3LIA40UAGSN5lFYCKMyqzBCWAGB4L\n",
       "oAIK24DkNrYLMCcxBzEVgBgtMJMO5AJJGd4EKN+NYwKrAojRABVgUbgGMoFnA5QvxQ9Rylg5c+bM\n",
       "ySAW1A0LYI7bD3MbTMDKD9UXkVB6AkxgEzgccuEKJkHpMzABVlBIvoYbyPIbyuCA+YtBDxgXTxHh\n",
       "AzOa6/EumJ74jq8CWOKAWxkS1AwMfAI5DPjBG5630ngV8D5uN4MyAfRMMQc4vhzsAAAAAElFTkSu\n",
       "QmCC\n",
       "\" style=\"display:inline;vertical-align:middle;\" /></a></span>"
      ],
      "text/plain": [
       "{r in IntegerNeg} |- r in RationalNeg"
      ]
     },
     "metadata": {},
     "output_type": "display_data"
    }
   ],
   "source": [
    "InSet(r, RationalNeg).prove(assumptions=[InSet(r, IntegerNeg)])"
   ]
  },
  {
   "cell_type": "code",
   "execution_count": 42,
   "metadata": {},
   "outputs": [
    {
     "data": {
      "text/html": [
       "<span style=\"font-size:20px;\"><a class=\"ProveItLink\" href=\"../__pv_it/demonstrations/626f6ee733111f01942c242934299b746289a8da0/expr.ipynb\"><img src=\"data:image/png;base64,iVBORw0KGgoAAAANSUhEUgAAAD8AAAAVBAMAAAADRiu8AAAAMFBMVEX///8AAAAAAAAAAAAAAAAA\n",
       "AAAAAAAAAAAAAAAAAAAAAAAAAAAAAAAAAAAAAAAAAAAv3aB7AAAAD3RSTlMAMom7Iplm783dEER2\n",
       "VKthCJTuAAAACXBIWXMAAA7EAAAOxAGVKw4bAAAA+klEQVQoz2NgwANYGQgAZnIVcCkbmzrgU3Cu\n",
       "kMHzER4FTEkJDNzRBgzBxubGxglYFAhxAAmDHEwTeCxnzgDRVuuAhCIHhgLungUQJxrIAMm7rAJQ\n",
       "BYzKLEFgizwg8gyMCtuA5Da2C1AFTMxBTAUgRgvMpAO5QFKGNwEakm4cE1gVQIwGqAIWhWsgE3g2\n",
       "QPlS/BCfMFbOnDlzMogFdcMCmOP2w9wGE7Dyg/kCAiKh9ASYwCZwOOTCFUyC0mfgkQwKyddwA1l+\n",
       "QxkcF2BCesC4eIoIH5jRXI93wfTEd3wVwBIH3MqQoGZg4BPIIZBS3vC8lcargPdxuxmUCQD6EDGN\n",
       "D0MsKwAAAABJRU5ErkJggg==\n",
       "\" style=\"display:inline;vertical-align:middle;\" /></a> <a class=\"ProveItLink\" href=\"../__pv_it/demonstrations/76e79ae51e3e6a14f0acd7b1a2aeffa6bf8e00750/proof.ipynb\" style=\"text-decoration: none\">&nbsp;&#x22A2;&nbsp;&nbsp;</a><a class=\"ProveItLink\" href=\"../__pv_it/demonstrations/207437074e3b2124231d7752eb78c451f130001d0/expr.ipynb\"><img src=\"data:image/png;base64,iVBORw0KGgoAAAANSUhEUgAAAEgAAAAWBAMAAACRR8fzAAAAMFBMVEX///8AAAAAAAAAAAAAAAAA\n",
       "AAAAAAAAAAAAAAAAAAAAAAAAAAAAAAAAAAAAAAAAAAAv3aB7AAAAD3RSTlMAMom7Iplm783dEER2\n",
       "VKthCJTuAAAACXBIWXMAAA7EAAAOxAGVKw4bAAABQ0lEQVQoz2NgwAmEN4AppUMMeACX8gUgyXaA\n",
       "2wCfKobDCQwM7AIMX/AqYkg+wOC/gKEWuz3Gpg4QZrqD/AKGadgUnStk8HwEZi2yZgAqqsGihikp\n",
       "gYE7GuRa14cMIOv+YlEkxAEkDHIYGPyAatAdzmM5cwaItloHJBQ5GNaFgEUPcD9AqOHuWQBxtoEM\n",
       "kLzLKrAKIq50dAEDozJLUAKI4wFRw8CosA1IbmO7gOxM5iCmAhCjBWbigVwgKcObgKTIjWMCqwKI\n",
       "0QAVYFG4BjKJZ4OwMRBAwkuKH6KFsXLmzJmTQSyomxYg+3g/zL0wASs/iO+QQSSUngAT2AQOp1wU\n",
       "RZOg9BmYACsoxF+jpA+W31AGB9zPesC4e4piEDfMGq7Hu2D64ju+CuBIPNzKkGhhYOATyGEgDN7w\n",
       "vJUmqIj3cbsZEhcAibNHs//uLUIAAAAASUVORK5CYII=\n",
       "\" style=\"display:inline;vertical-align:middle;\" /></a></span>"
      ],
      "text/plain": [
       "{r in RationalPos} |- r in RationalNonNeg"
      ]
     },
     "metadata": {},
     "output_type": "display_data"
    }
   ],
   "source": [
    "InSet(r, RationalNonNeg).prove(assumptions=[InSet(r, RationalPos)])"
   ]
  },
  {
   "cell_type": "code",
   "execution_count": 43,
   "metadata": {},
   "outputs": [
    {
     "data": {
      "text/html": [
       "<span style=\"font-size:20px;\"><a class=\"ProveItLink\" href=\"../__pv_it/demonstrations/de545d362592a6cfc62a1a1b1cb193cf15246c660/expr.ipynb\"><img src=\"data:image/png;base64,iVBORw0KGgoAAAANSUhEUgAAAD8AAAASBAMAAAAeQxsEAAAAMFBMVEX///8AAAAAAAAAAAAAAAAA\n",
       "AAAAAAAAAAAAAAAAAAAAAAAAAAAAAAAAAAAAAAAAAAAv3aB7AAAAD3RSTlMAMom7Iplm783dEER2\n",
       "VKthCJTuAAAACXBIWXMAAA7EAAAOxAGVKw4bAAAA7UlEQVQoz2NgwARcysamDgx4wLlCBs9HeOSZ\n",
       "khIYuKMNGISNgQCbSUIcQMIgB1OCx3LmDBBttQ5IKHJgyHP3LIA40UAGSN5lFYCKMyqzBCWAGB4L\n",
       "oAIK24DkNrYLMCcxBzEVgBgtMJMO5AJJGd4EKN+NYwKrAojRABVgUbgGMoFnA5QvxQ9Rylg5c+bM\n",
       "ySAW1A0LYI7bD3MbTMDKD9UXkVB6AkxgEzgccuEKJkHpMzABVlBIvoYbyPIbyuCA+YtBDxgXTxHh\n",
       "AzOa6/EumJ74jq8CWOKAWxkS1AwMfAI5DPjBG5630ngV8D5uN4MyAfRMMQc4vhzsAAAAAElFTkSu\n",
       "QmCC\n",
       "\" style=\"display:inline;vertical-align:middle;\" /></a> <a class=\"ProveItLink\" href=\"../__pv_it/demonstrations/2c3f729b515d6ef7542805c82bc90471c64730730/proof.ipynb\" style=\"text-decoration: none\">&nbsp;&#x22A2;&nbsp;&nbsp;</a><a class=\"ProveItLink\" href=\"../__pv_it/demonstrations/882c49d1b9e4887c9faaa282b8dfc2bba2d449b10/expr.ipynb\"><img src=\"data:image/png;base64,iVBORw0KGgoAAAANSUhEUgAAADMAAAASBAMAAAAEf/uKAAAAMFBMVEX///8AAAAAAAAAAAAAAAAA\n",
       "AAAAAAAAAAAAAAAAAAAAAAAAAAAAAAAAAAAAAAAAAAAv3aB7AAAAD3RSTlMAMom7Iplm783dEER2\n",
       "VKthCJTuAAAACXBIWXMAAA7EAAAOxAGVKw4bAAAA5ElEQVQY02NgwARcysamDgxYwblCBs9HWGWY\n",
       "khIYuKMNsEkJcQAJgxxkIR7LmTNAtNU6IKHIgSTD3bMA4ggDGSB5l1WAgVGZJSgBJOQBkWFgVNgG\n",
       "JLexXWBgYg5iKgAJtcB0H8gFkjK8CQxuHBNYFUBCDVApFoVrIF08Gxik+BMg5lTOnDlzMogFtQto\n",
       "/n6Y7TD3WPnBXBgJFZkAk9oE9hfIwklQkTMwKVZQaLwGGsLyGyrCcQEmpwcMw6cgt8IM4nq8C+bG\n",
       "+I6vAihhx60MCSgGBj6BHAZc4A3PW2kcUryP280YAMq3L+hMqCNBAAAAAElFTkSuQmCC\n",
       "\" style=\"display:inline;vertical-align:middle;\" /></a></span>"
      ],
      "text/plain": [
       "{r in RationalNeg} |- r in Rational"
      ]
     },
     "metadata": {},
     "output_type": "display_data"
    }
   ],
   "source": [
    "InSet(r, Rational).prove(assumptions=[InSet(r, RationalNeg)])"
   ]
  },
  {
   "cell_type": "code",
   "execution_count": 44,
   "metadata": {},
   "outputs": [
    {
     "data": {
      "text/html": [
       "<span style=\"font-size:20px;\"><a class=\"ProveItLink\" href=\"../__pv_it/demonstrations/de545d362592a6cfc62a1a1b1cb193cf15246c660/expr.ipynb\"><img src=\"data:image/png;base64,iVBORw0KGgoAAAANSUhEUgAAAD8AAAASBAMAAAAeQxsEAAAAMFBMVEX///8AAAAAAAAAAAAAAAAA\n",
       "AAAAAAAAAAAAAAAAAAAAAAAAAAAAAAAAAAAAAAAAAAAv3aB7AAAAD3RSTlMAMom7Iplm783dEER2\n",
       "VKthCJTuAAAACXBIWXMAAA7EAAAOxAGVKw4bAAAA7UlEQVQoz2NgwARcysamDgx4wLlCBs9HeOSZ\n",
       "khIYuKMNGISNgQCbSUIcQMIgB1OCx3LmDBBttQ5IKHJgyHP3LIA40UAGSN5lFYCKMyqzBCWAGB4L\n",
       "oAIK24DkNrYLMCcxBzEVgBgtMJMO5AJJGd4EKN+NYwKrAojRABVgUbgGMoFnA5QvxQ9Rylg5c+bM\n",
       "ySAW1A0LYI7bD3MbTMDKD9UXkVB6AkxgEzgccuEKJkHpMzABVlBIvoYbyPIbyuCA+YtBDxgXTxHh\n",
       "AzOa6/EumJ74jq8CWOKAWxkS1AwMfAI5DPjBG5630ngV8D5uN4MyAfRMMQc4vhzsAAAAAElFTkSu\n",
       "QmCC\n",
       "\" style=\"display:inline;vertical-align:middle;\" /></a> <a class=\"ProveItLink\" href=\"../__pv_it/demonstrations/1145cf95e04ce40460d373a24580c6ba2fcc481e0/proof.ipynb\" style=\"text-decoration: none\">&nbsp;&#x22A2;&nbsp;&nbsp;</a><a class=\"ProveItLink\" href=\"../__pv_it/demonstrations/4d51ef4ce3ec20828b6a85bbaa0897ea131f679d0/expr.ipynb\"><img src=\"data:image/png;base64,iVBORw0KGgoAAAANSUhEUgAAAEgAAAAXCAMAAACf6/lXAAAAOVBMVEX///8AAAAAAAAAAAAAAAAA\n",
       "AAAAAAAAAAAAAAAAAAAAAAAAAAAAAAAAAAAAAAAAAAAAAAAAAAAAAAACXHtMAAAAEnRSTlMAMom7\n",
       "Iplm783dEER2VKvt5cknQN27AAAACXBIWXMAAA7EAAAOxAGVKw4bAAABRElEQVQ4y61UiXKFIAwM\n",
       "CcgVaMv/f2y51Iro2PFlRgQlC7s5AN6Yg88Y+joi4zscGcu4MICnV0BRllGLPCT5AsdXQjIVoXR4\n",
       "LCtSNtUOVmVOX/lZQFQguzzE4VgYSBt3Wbn5NiDND8OzYHXzapPV9Umjlp5REwimzagGqVD7/qFK\n",
       "7V5sJpvNrEtyLvariQ4p4ra3hD/Ow2H4kLKZhegahABKNOydN7Jy9d4EUuEuuzTuxMz33/m9FDnC\n",
       "RFwEUgiotw9m5Ou5eRdMhlAwzSTPFzA267fH9bRJYvNuN+JcYMFPIuIgHbJJaNttK6CjRpcl79Mo\n",
       "7Wjk5Bi1mSl7XNtZVe15dJ16dugmfI6IWjM73jQMmUblzPlQXGtN3XSDExUXyY+KSpWMSS0Z/9Vq\n",
       "6G+JtDYmap19wCLnbhKEf48UIhlNFy3sFzXhCOzdzM5GAAAAAElFTkSuQmCC\n",
       "\" style=\"display:inline;vertical-align:middle;\" /></a></span>"
      ],
      "text/plain": [
       "{r in RationalNeg} |- r in RationalNonZero"
      ]
     },
     "metadata": {},
     "output_type": "display_data"
    }
   ],
   "source": [
    "InSet(r, RationalNonZero).prove(assumptions=[InSet(r, RationalNeg)])"
   ]
  },
  {
   "cell_type": "code",
   "execution_count": 45,
   "metadata": {},
   "outputs": [
    {
     "data": {
      "text/html": [
       "<span style=\"font-size:20px;\"><a class=\"ProveItLink\" href=\"../__pv_it/demonstrations/de545d362592a6cfc62a1a1b1cb193cf15246c660/expr.ipynb\"><img src=\"data:image/png;base64,iVBORw0KGgoAAAANSUhEUgAAAD8AAAASBAMAAAAeQxsEAAAAMFBMVEX///8AAAAAAAAAAAAAAAAA\n",
       "AAAAAAAAAAAAAAAAAAAAAAAAAAAAAAAAAAAAAAAAAAAv3aB7AAAAD3RSTlMAMom7Iplm783dEER2\n",
       "VKthCJTuAAAACXBIWXMAAA7EAAAOxAGVKw4bAAAA7UlEQVQoz2NgwARcysamDgx4wLlCBs9HeOSZ\n",
       "khIYuKMNGISNgQCbSUIcQMIgB1OCx3LmDBBttQ5IKHJgyHP3LIA40UAGSN5lFYCKMyqzBCWAGB4L\n",
       "oAIK24DkNrYLMCcxBzEVgBgtMJMO5AJJGd4EKN+NYwKrAojRABVgUbgGMoFnA5QvxQ9Rylg5c+bM\n",
       "ySAW1A0LYI7bD3MbTMDKD9UXkVB6AkxgEzgccuEKJkHpMzABVlBIvoYbyPIbyuCA+YtBDxgXTxHh\n",
       "AzOa6/EumJ74jq8CWOKAWxkS1AwMfAI5DPjBG5630ngV8D5uN4MyAfRMMQc4vhzsAAAAAElFTkSu\n",
       "QmCC\n",
       "\" style=\"display:inline;vertical-align:middle;\" /></a> <a class=\"ProveItLink\" href=\"../__pv_it/demonstrations/37bb1f207a9590e6d2892ae331ab352bdb2e1f930/proof.ipynb\" style=\"text-decoration: none\">&nbsp;&#x22A2;&nbsp;&nbsp;</a><a class=\"ProveItLink\" href=\"../__pv_it/demonstrations/0bebf19d39049c3c5a579b73c7f86fd7b14028c70/expr.ipynb\"><img src=\"data:image/png;base64,iVBORw0KGgoAAAANSUhEUgAAAEgAAAAWBAMAAACRR8fzAAAAMFBMVEX///8AAAAAAAAAAAAAAAAA\n",
       "AAAAAAAAAAAAAAAAAAAAAAAAAAAAAAAAAAAAAAAAAAAv3aB7AAAAD3RSTlMAMom7Iplm783dEER2\n",
       "VKthCJTuAAAACXBIWXMAAA7EAAAOxAGVKw4bAAABRUlEQVQoz2NgwAsuOzAoHWIgoOYAA9sBbgO8\n",
       "apITGBjYBRi+4FNz+AKQ8F/AUItNkkvZ2NSBgUEcpIZBfgHDNGyKzhUyeD5iYOA1WgBRVINFDVNS\n",
       "AgN3NNC13CBVQOv+YlEkxAEkDHKABONTB3SH81jOnAGirdYBCUWQSgaWdwt4DnA/QKjh7lkAcbaB\n",
       "DJC8yyoAVsXAoHR0AQOjMktQAojvAVHDwKiwDUhuY7uA7EzmIKYCEKMFZuKBXCApw5uApMiNYwKr\n",
       "AojRABVgUbgGMolng7AxEDiAxaT4IVoYK2fOnDkZxIK6aQGyj/fD3AsTsPKD+w4OIqH0BJjAJnA4\n",
       "5aIomgSlz8AEWEEh/holfbD8hjI44H7WA8bdUxSDuGHWcD3eBdMX3/FVAEfy4VaGRAsDA59ADgNh\n",
       "8IbnrTRBRbyP282QuAApNEiD3ReVhwAAAABJRU5ErkJggg==\n",
       "\" style=\"display:inline;vertical-align:middle;\" /></a></span>"
      ],
      "text/plain": [
       "{r in RationalNeg} |- r in RationalNonPos"
      ]
     },
     "metadata": {},
     "output_type": "display_data"
    }
   ],
   "source": [
    "InSet(r, RationalNonPos).prove(assumptions=[InSet(r, RationalNeg)])"
   ]
  },
  {
   "cell_type": "code",
   "execution_count": 46,
   "metadata": {},
   "outputs": [
    {
     "data": {
      "text/html": [
       "<span style=\"font-size:20px;\"><a class=\"ProveItLink\" href=\"../__pv_it/demonstrations/207437074e3b2124231d7752eb78c451f130001d0/expr.ipynb\"><img src=\"data:image/png;base64,iVBORw0KGgoAAAANSUhEUgAAAEgAAAAWBAMAAACRR8fzAAAAMFBMVEX///8AAAAAAAAAAAAAAAAA\n",
       "AAAAAAAAAAAAAAAAAAAAAAAAAAAAAAAAAAAAAAAAAAAv3aB7AAAAD3RSTlMAMom7Iplm783dEER2\n",
       "VKthCJTuAAAACXBIWXMAAA7EAAAOxAGVKw4bAAABQ0lEQVQoz2NgwAmEN4AppUMMeACX8gUgyXaA\n",
       "2wCfKobDCQwM7AIMX/AqYkg+wOC/gKEWuz3Gpg4QZrqD/AKGadgUnStk8HwEZi2yZgAqqsGihikp\n",
       "gYE7GuRa14cMIOv+YlEkxAEkDHIYGPyAatAdzmM5cwaItloHJBQ5GNaFgEUPcD9AqOHuWQBxtoEM\n",
       "kLzLKrAKIq50dAEDozJLUAKI4wFRw8CosA1IbmO7gOxM5iCmAhCjBWbigVwgKcObgKTIjWMCqwKI\n",
       "0QAVYFG4BjKJZ4OwMRBAwkuKH6KFsXLmzJmTQSyomxYg+3g/zL0wASs/iO+QQSSUngAT2AQOp1wU\n",
       "RZOg9BmYACsoxF+jpA+W31AGB9zPesC4e4piEDfMGq7Hu2D64ju+CuBIPNzKkGhhYOATyGEgDN7w\n",
       "vJUmqIj3cbsZEhcAibNHs//uLUIAAAAASUVORK5CYII=\n",
       "\" style=\"display:inline;vertical-align:middle;\" /></a> <a class=\"ProveItLink\" href=\"../__pv_it/demonstrations/866481d8b6fb2ee89a85671d75146a6dc63aa16a0/proof.ipynb\" style=\"text-decoration: none\">&nbsp;&#x22A2;&nbsp;&nbsp;</a><a class=\"ProveItLink\" href=\"../__pv_it/demonstrations/882c49d1b9e4887c9faaa282b8dfc2bba2d449b10/expr.ipynb\"><img src=\"data:image/png;base64,iVBORw0KGgoAAAANSUhEUgAAADMAAAASBAMAAAAEf/uKAAAAMFBMVEX///8AAAAAAAAAAAAAAAAA\n",
       "AAAAAAAAAAAAAAAAAAAAAAAAAAAAAAAAAAAAAAAAAAAv3aB7AAAAD3RSTlMAMom7Iplm783dEER2\n",
       "VKthCJTuAAAACXBIWXMAAA7EAAAOxAGVKw4bAAAA5ElEQVQY02NgwARcysamDgxYwblCBs9HWGWY\n",
       "khIYuKMNsEkJcQAJgxxkIR7LmTNAtNU6IKHIgSTD3bMA4ggDGSB5l1WAgVGZJSgBJOQBkWFgVNgG\n",
       "JLexXWBgYg5iKgAJtcB0H8gFkjK8CQxuHBNYFUBCDVApFoVrIF08Gxik+BMg5lTOnDlzMogFtQto\n",
       "/n6Y7TD3WPnBXBgJFZkAk9oE9hfIwklQkTMwKVZQaLwGGsLyGyrCcQEmpwcMw6cgt8IM4nq8C+bG\n",
       "+I6vAihhx60MCSgGBj6BHAZc4A3PW2kcUryP280YAMq3L+hMqCNBAAAAAElFTkSuQmCC\n",
       "\" style=\"display:inline;vertical-align:middle;\" /></a></span>"
      ],
      "text/plain": [
       "{r in RationalNonNeg} |- r in Rational"
      ]
     },
     "metadata": {},
     "output_type": "display_data"
    }
   ],
   "source": [
    "InSet(r, Rational).prove(assumptions=[InSet(r, RationalNonNeg)])"
   ]
  },
  {
   "cell_type": "code",
   "execution_count": 47,
   "metadata": {},
   "outputs": [
    {
     "data": {
      "text/html": [
       "<span style=\"font-size:20px;\"><a class=\"ProveItLink\" href=\"../__pv_it/demonstrations/0bebf19d39049c3c5a579b73c7f86fd7b14028c70/expr.ipynb\"><img src=\"data:image/png;base64,iVBORw0KGgoAAAANSUhEUgAAAEgAAAAWBAMAAACRR8fzAAAAMFBMVEX///8AAAAAAAAAAAAAAAAA\n",
       "AAAAAAAAAAAAAAAAAAAAAAAAAAAAAAAAAAAAAAAAAAAv3aB7AAAAD3RSTlMAMom7Iplm783dEER2\n",
       "VKthCJTuAAAACXBIWXMAAA7EAAAOxAGVKw4bAAABRUlEQVQoz2NgwAsuOzAoHWIgoOYAA9sBbgO8\n",
       "apITGBjYBRi+4FNz+AKQ8F/AUItNkkvZ2NSBgUEcpIZBfgHDNGyKzhUyeD5iYOA1WgBRVINFDVNS\n",
       "AgN3NNC13CBVQOv+YlEkxAEkDHKABONTB3SH81jOnAGirdYBCUWQSgaWdwt4DnA/QKjh7lkAcbaB\n",
       "DJC8yyoAVsXAoHR0AQOjMktQAojvAVHDwKiwDUhuY7uA7EzmIKYCEKMFZuKBXCApw5uApMiNYwKr\n",
       "AojRABVgUbgGMolng7AxEDiAxaT4IVoYK2fOnDkZxIK6aQGyj/fD3AsTsPKD+w4OIqH0BJjAJnA4\n",
       "5aIomgSlz8AEWEEh/holfbD8hjI44H7WA8bdUxSDuGHWcD3eBdMX3/FVAEfy4VaGRAsDA59ADgNh\n",
       "8IbnrTRBRbyP282QuAApNEiD3ReVhwAAAABJRU5ErkJggg==\n",
       "\" style=\"display:inline;vertical-align:middle;\" /></a> <a class=\"ProveItLink\" href=\"../__pv_it/demonstrations/99901a6c29702812527d42eb6e0f68c0daf95e020/proof.ipynb\" style=\"text-decoration: none\">&nbsp;&#x22A2;&nbsp;&nbsp;</a><a class=\"ProveItLink\" href=\"../__pv_it/demonstrations/882c49d1b9e4887c9faaa282b8dfc2bba2d449b10/expr.ipynb\"><img src=\"data:image/png;base64,iVBORw0KGgoAAAANSUhEUgAAADMAAAASBAMAAAAEf/uKAAAAMFBMVEX///8AAAAAAAAAAAAAAAAA\n",
       "AAAAAAAAAAAAAAAAAAAAAAAAAAAAAAAAAAAAAAAAAAAv3aB7AAAAD3RSTlMAMom7Iplm783dEER2\n",
       "VKthCJTuAAAACXBIWXMAAA7EAAAOxAGVKw4bAAAA5ElEQVQY02NgwARcysamDgxYwblCBs9HWGWY\n",
       "khIYuKMNsEkJcQAJgxxkIR7LmTNAtNU6IKHIgSTD3bMA4ggDGSB5l1WAgVGZJSgBJOQBkWFgVNgG\n",
       "JLexXWBgYg5iKgAJtcB0H8gFkjK8CQxuHBNYFUBCDVApFoVrIF08Gxik+BMg5lTOnDlzMogFtQto\n",
       "/n6Y7TD3WPnBXBgJFZkAk9oE9hfIwklQkTMwKVZQaLwGGsLyGyrCcQEmpwcMw6cgt8IM4nq8C+bG\n",
       "+I6vAihhx60MCSgGBj6BHAZc4A3PW2kcUryP280YAMq3L+hMqCNBAAAAAElFTkSuQmCC\n",
       "\" style=\"display:inline;vertical-align:middle;\" /></a></span>"
      ],
      "text/plain": [
       "{r in RationalNonPos} |- r in Rational"
      ]
     },
     "metadata": {},
     "output_type": "display_data"
    }
   ],
   "source": [
    "InSet(r, Rational).prove(assumptions=[InSet(r, RationalNonPos)])"
   ]
  },
  {
   "cell_type": "code",
   "execution_count": 48,
   "metadata": {},
   "outputs": [],
   "source": [
    "%end demonstrations"
   ]
  },
  {
   "cell_type": "code",
   "execution_count": null,
   "metadata": {},
   "outputs": [],
   "source": []
  }
 ],
 "metadata": {
  "kernelspec": {
   "display_name": "Python 3",
   "language": "python",
   "name": "python3"
  }
 },
 "nbformat": 4,
 "nbformat_minor": 0
}