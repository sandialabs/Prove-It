{
 "cells": [
  {
   "cell_type": "markdown",
   "metadata": {},
   "source": [
    "Axioms for the theory of <a class=\"ProveItLink\" href=\"theory.ipynb\">proveit.numbers.number_sets.rational_numbers</a>\n",
    "========"
   ]
  },
  {
   "cell_type": "code",
   "execution_count": null,
   "metadata": {},
   "outputs": [],
   "source": [
    "import proveit\n",
    "# Prepare this notebook for defining the axioms of a theory:\n",
    "%axioms_notebook # Keep this at the top following 'import proveit'.\n",
    "from proveit import a, b, q\n",
    "from proveit.logic import Equals, InSet, NotEquals, SetOfAll\n",
    "from proveit.numbers import Integer, frac, zero, Natural, NaturalPos\n",
    "from proveit.numbers import Rational, RationalPos, RationalNeg, RationalNonNeg\n",
    "from proveit.numbers import greater, greater_eq, Less\n",
    "from proveit import x, a, b\n",
    "from proveit.logic import Forall, InSet, Exists, Equals, NotEquals, Iff\n",
    "from proveit.numbers import Integer, Real, frac, zero, NaturalPos\n",
    "from proveit.numbers.number_sets.rational_numbers import Rational, RationalPos"
   ]
  },
  {
   "cell_type": "code",
   "execution_count": null,
   "metadata": {},
   "outputs": [],
   "source": [
    "%begin axioms"
   ]
  },
  {
   "cell_type": "code",
   "execution_count": null,
   "metadata": {},
   "outputs": [],
   "source": [
    "rationals_def = Equals(\n",
    "        Rational,\n",
    "        SetOfAll([a, b],\n",
    "                 frac(a, b),\n",
    "                 conditions=[NotEquals(b, zero)],\n",
    "                 domain=Integer\n",
    "        ))"
   ]
  },
  {
   "cell_type": "code",
   "execution_count": null,
   "metadata": {},
   "outputs": [],
   "source": [
    "rationals_pos_def = Equals(RationalPos,\n",
    "                         SetOfAll(q, q, conditions=[greater(q, zero)],\n",
    "                                  domain=Rational))"
   ]
  },
  {
   "cell_type": "code",
   "execution_count": null,
   "metadata": {},
   "outputs": [],
   "source": [
    "rationals_neg_def = Equals(RationalNeg,\n",
    "                         SetOfAll(q, q, conditions=[Less(q, zero)],\n",
    "                                  domain=Rational))"
   ]
  },
  {
   "cell_type": "code",
   "execution_count": null,
   "metadata": {},
   "outputs": [],
   "source": [
    "rationals_non_neg_def = Equals(RationalNonNeg,\n",
    "                            SetOfAll(q, q, conditions=[greater_eq(q, zero)],\n",
    "                                     domain=Rational))"
   ]
  },
  {
   "cell_type": "code",
   "execution_count": null,
   "metadata": {},
   "outputs": [],
   "source": [
    "%end axioms"
   ]
  }
 ],
 "metadata": {
  "kernelspec": {
   "display_name": "Python 3 (ipykernel)",
   "language": "python",
   "name": "python3"
  }
 },
 "nbformat": 4,
 "nbformat_minor": 0
}
