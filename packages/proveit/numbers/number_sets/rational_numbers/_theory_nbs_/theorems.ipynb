{
 "cells": [
  {
   "cell_type": "markdown",
   "metadata": {},
   "source": [
    "Theorems (or conjectures) for the theory of <a class=\"ProveItLink\" href=\"theory.ipynb\">proveit.numbers.number_sets.rational_numbers</a>\n",
    "========"
   ]
  },
  {
   "cell_type": "code",
   "execution_count": null,
   "metadata": {},
   "outputs": [],
   "source": [
    "import proveit\n",
    "# Prepare this notebook for defining the theorems of a theory:\n",
    "%theorems_notebook # Keep this at the top following 'import proveit'.\n",
    "from proveit import a, b, q, x\n",
    "from proveit.logic import And, Equals, NotEquals, Exists, Forall, Iff, in_bool, InSet, ProperSubset\n",
    "from proveit.numbers import frac, GCD, Less, LessEq, greater, greater_eq\n",
    "from proveit.numbers import one, zero\n",
    "from proveit.numbers import (Natural, NaturalPos, Integer, IntegerNonZero, IntegerNeg, IntegerNonPos,\n",
    "                             Rational, RationalPos, RationalNeg,\n",
    "                             RationalNonNeg, RationalNonPos, RationalNonZero, NaturalPos)"
   ]
  },
  {
   "cell_type": "code",
   "execution_count": null,
   "metadata": {},
   "outputs": [],
   "source": [
    "%begin theorems"
   ]
  },
  {
   "cell_type": "code",
   "execution_count": null,
   "metadata": {},
   "outputs": [],
   "source": [
    "zero_is_rational = InSet(zero, Rational)"
   ]
  },
  {
   "cell_type": "code",
   "execution_count": null,
   "metadata": {},
   "outputs": [],
   "source": [
    "nat_within_rational = ProperSubset(Natural, Rational)"
   ]
  },
  {
   "cell_type": "code",
   "execution_count": null,
   "metadata": {},
   "outputs": [],
   "source": [
    "nat_within_rational_nonneg = ProperSubset(Natural, RationalNonNeg)"
   ]
  },
  {
   "cell_type": "code",
   "execution_count": null,
   "metadata": {},
   "outputs": [],
   "source": [
    "nat_pos_within_rational_pos = ProperSubset(NaturalPos, RationalPos)"
   ]
  },
  {
   "cell_type": "code",
   "execution_count": null,
   "metadata": {},
   "outputs": [],
   "source": [
    "nat_within_rational_nonneg = ProperSubset(Natural, RationalNonNeg)"
   ]
  },
  {
   "cell_type": "code",
   "execution_count": null,
   "metadata": {},
   "outputs": [],
   "source": [
    "int_within_rational = ProperSubset(Integer, Rational)"
   ]
  },
  {
   "cell_type": "code",
   "execution_count": null,
   "metadata": {},
   "outputs": [],
   "source": [
    "nonzero_int_within_rational_nonzero = ProperSubset(IntegerNonZero, RationalNonZero)"
   ]
  },
  {
   "cell_type": "code",
   "execution_count": null,
   "metadata": {},
   "outputs": [],
   "source": [
    "neg_int_within_rational_neg = ProperSubset(IntegerNeg, RationalNeg)"
   ]
  },
  {
   "cell_type": "code",
   "execution_count": null,
   "metadata": {},
   "outputs": [],
   "source": [
    "nonpos_int_within_rational_nonpos = ProperSubset(IntegerNonPos, RationalNonPos)"
   ]
  },
  {
   "cell_type": "code",
   "execution_count": null,
   "metadata": {},
   "outputs": [],
   "source": [
    "rational_nonzero_within_rational = ProperSubset(RationalNonZero, Rational)"
   ]
  },
  {
   "cell_type": "code",
   "execution_count": null,
   "metadata": {},
   "outputs": [],
   "source": [
    "rational_pos_within_rational = ProperSubset(RationalPos, Rational)"
   ]
  },
  {
   "cell_type": "code",
   "execution_count": null,
   "metadata": {},
   "outputs": [],
   "source": [
    "rational_pos_within_rational_nonzero = ProperSubset(RationalPos, RationalNonZero)"
   ]
  },
  {
   "cell_type": "code",
   "execution_count": null,
   "metadata": {},
   "outputs": [],
   "source": [
    "rational_neg_within_rational_nonzero = ProperSubset(RationalNeg, RationalNonZero)"
   ]
  },
  {
   "cell_type": "code",
   "execution_count": null,
   "metadata": {},
   "outputs": [],
   "source": [
    "rational_pos_within_rational_nonneg = ProperSubset(RationalPos, RationalNonNeg)"
   ]
  },
  {
   "cell_type": "code",
   "execution_count": null,
   "metadata": {},
   "outputs": [],
   "source": [
    "rational_neg_within_rational_nonpos = ProperSubset(RationalNeg, RationalNonPos)"
   ]
  },
  {
   "cell_type": "code",
   "execution_count": null,
   "metadata": {},
   "outputs": [],
   "source": [
    "rational_neg_within_rational = ProperSubset(RationalNeg, Rational)"
   ]
  },
  {
   "cell_type": "code",
   "execution_count": null,
   "metadata": {},
   "outputs": [],
   "source": [
    "rational_nonneg_within_rational = ProperSubset(RationalNonNeg, Rational)"
   ]
  },
  {
   "cell_type": "code",
   "execution_count": null,
   "metadata": {},
   "outputs": [],
   "source": [
    "rational_nonpos_within_rational = ProperSubset(RationalNonPos, Rational)"
   ]
  },
  {
   "cell_type": "code",
   "execution_count": null,
   "metadata": {},
   "outputs": [],
   "source": [
    "nonzero_if_in_rational_nonzero = Forall(\n",
    "    q,\n",
    "    NotEquals(q, zero),\n",
    "    domain=RationalNonZero)"
   ]
  },
  {
   "cell_type": "code",
   "execution_count": null,
   "metadata": {},
   "outputs": [],
   "source": [
    "positive_if_in_rational_pos = Forall(\n",
    "    q,\n",
    "    greater(q, zero),\n",
    "    domain=RationalPos)"
   ]
  },
  {
   "cell_type": "code",
   "execution_count": null,
   "metadata": {},
   "outputs": [],
   "source": [
    "negative_if_in_rational_neg = Forall(\n",
    "    q,\n",
    "    Less(q, zero),\n",
    "    domain=RationalNeg)"
   ]
  },
  {
   "cell_type": "code",
   "execution_count": null,
   "metadata": {},
   "outputs": [],
   "source": [
    "nonneg_if_in_rational_nonneg = Forall(\n",
    "    q,\n",
    "    greater_eq(q, zero),\n",
    "    domain=RationalNonNeg)"
   ]
  },
  {
   "cell_type": "code",
   "execution_count": null,
   "metadata": {},
   "outputs": [],
   "source": [
    "nonpos_if_in_rational_nonpos = Forall(\n",
    "    q,\n",
    "    LessEq(q, zero),\n",
    "    domain=RationalNonPos)"
   ]
  },
  {
   "cell_type": "code",
   "execution_count": null,
   "metadata": {},
   "outputs": [],
   "source": [
    "nonzero_rational_is_rational_nonzero = Forall(\n",
    "    q,\n",
    "    InSet(q, RationalNonZero),\n",
    "    domain=Rational,\n",
    "    conditions=[NotEquals(q, zero)])"
   ]
  },
  {
   "cell_type": "code",
   "execution_count": null,
   "metadata": {},
   "outputs": [],
   "source": [
    "pos_rational_is_rational_pos = Forall(\n",
    "        q, InSet(q, RationalPos), condition=greater(q, zero),\n",
    "        domain=Rational)"
   ]
  },
  {
   "cell_type": "code",
   "execution_count": null,
   "metadata": {},
   "outputs": [],
   "source": [
    "neg_rational_is_rational_neg = Forall(\n",
    "        q,\n",
    "        InSet(q, RationalNeg),\n",
    "        domain=Rational,\n",
    "        conditions=[Less(q, zero)])"
   ]
  },
  {
   "cell_type": "code",
   "execution_count": null,
   "metadata": {},
   "outputs": [],
   "source": [
    "nonneg_rational_is_rational_nonneg = Forall(\n",
    "        q,\n",
    "        InSet(q, RationalNonNeg),\n",
    "        domain=Rational,\n",
    "        conditions=[greater_eq(q, zero)])"
   ]
  },
  {
   "cell_type": "code",
   "execution_count": null,
   "metadata": {},
   "outputs": [],
   "source": [
    "nonpos_rational_is_rational_nonpos = Forall(\n",
    "        q,\n",
    "        InSet(q, RationalNonPos),\n",
    "        domain=Rational,\n",
    "        conditions=[LessEq(q, zero)])"
   ]
  },
  {
   "cell_type": "code",
   "execution_count": null,
   "metadata": {},
   "outputs": [],
   "source": [
    "nat_ratio = Forall(\n",
    "        q,\n",
    "        Exists([a,b],\n",
    "               Equals(q, frac(a,b)),\n",
    "               domains=[Natural, NaturalPos]),\n",
    "        domain=RationalNonNeg)"
   ]
  },
  {
   "cell_type": "code",
   "execution_count": null,
   "metadata": {},
   "outputs": [],
   "source": [
    "reduced_nat_pos_ratio = Forall(\n",
    "        q,\n",
    "        Exists([a,b],\n",
    "               And(Equals(q, frac(a,b)), Equals(GCD(a, b), one)),\n",
    "               domains=[NaturalPos, NaturalPos]),\n",
    "        domain=RationalPos)"
   ]
  },
  {
   "cell_type": "code",
   "execution_count": null,
   "metadata": {},
   "outputs": [],
   "source": [
    "ratio_of_pos_int_is_rational_pos = Forall(\n",
    "        [a,b],\n",
    "        InSet(frac(a,b), RationalPos),\n",
    "        domain=NaturalPos)"
   ]
  },
  {
   "cell_type": "markdown",
   "metadata": {},
   "source": [
    "***A set of in_bool theorems, which are accessed by the respective NumberSets to implement their ``deduce_membership_in_bool()`` methods, covering the ``RationalSet`` and ``RationalPosSet`` NumberSet classes (defined in proveit.numbers.number_sets.rational_numbers/rationals.py):***"
   ]
  },
  {
   "cell_type": "code",
   "execution_count": null,
   "metadata": {},
   "outputs": [],
   "source": [
    "rational_membership_is_bool = Forall(x, in_bool(InSet(x, Rational)))"
   ]
  },
  {
   "cell_type": "code",
   "execution_count": null,
   "metadata": {},
   "outputs": [],
   "source": [
    "rational_nonzero_membership_is_bool = Forall(x, in_bool(InSet(x, RationalNonZero)))"
   ]
  },
  {
   "cell_type": "code",
   "execution_count": null,
   "metadata": {},
   "outputs": [],
   "source": [
    "rational_pos_membership_is_bool = Forall(x, in_bool(InSet(x, RationalPos)))"
   ]
  },
  {
   "cell_type": "code",
   "execution_count": null,
   "metadata": {},
   "outputs": [],
   "source": [
    "rational_neg_membership_is_bool = Forall(x, in_bool(InSet(x, RationalNeg)))"
   ]
  },
  {
   "cell_type": "code",
   "execution_count": null,
   "metadata": {},
   "outputs": [],
   "source": [
    "rational_nonneg_membership_is_bool = Forall(x, in_bool(InSet(x, RationalNonNeg)))"
   ]
  },
  {
   "cell_type": "code",
   "execution_count": null,
   "metadata": {},
   "outputs": [],
   "source": [
    "rational_nonpos_membership_is_bool = Forall(x, in_bool(InSet(x, RationalNonPos)))"
   ]
  },
  {
   "cell_type": "code",
   "execution_count": null,
   "metadata": {},
   "outputs": [],
   "source": [
    "%end theorems"
   ]
  },
  {
   "cell_type": "code",
   "execution_count": null,
   "metadata": {},
   "outputs": [],
   "source": []
  }
 ],
 "metadata": {
  "kernelspec": {
   "display_name": "Python 3",
   "language": "python",
   "name": "python3"
  }
 },
 "nbformat": 4,
 "nbformat_minor": 0
}
