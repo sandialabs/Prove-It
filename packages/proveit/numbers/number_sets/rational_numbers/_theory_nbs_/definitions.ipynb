{
 "cells": [
  {
   "cell_type": "markdown",
   "metadata": {},
   "source": [
    "Conservative definitions for the theory of <a class=\"ProveItLink\" href=\"theory.ipynb\">proveit.numbers.number_sets.rational_numbers</a>\n",
    "========"
   ]
  },
  {
   "cell_type": "code",
   "execution_count": null,
   "metadata": {},
   "outputs": [],
   "source": [
    "import proveit\n",
    "# Prepare this notebook for defining the conservative definitions of a theory:\n",
    "%definitions_notebook # Keep this at the top following 'import proveit'.\n",
    "\n",
    "from proveit import a, b, c, k, l, m, n, q\n",
    "from proveit import Function, Lambda\n",
    "from proveit.core_expr_types import FunctionalPower\n",
    "from proveit.logic import Forall, Exists, Equals, InSet, SubsetEq, Bijections\n",
    "from proveit.numbers import zero, Natural, NaturalPos, Integer, Rational\n",
    "from proveit.numbers.number_sets.integers.successor import IntSuccessor\n",
    "from proveit.numbers.number_sets.integers import IntAdd\n",
    "from proveit.numbers.number_sets.rational_numbers import Times\n",
    "from proveit.numbers.number_sets.rational_numbers import RationalAdd, RationalMult"
   ]
  },
  {
   "cell_type": "code",
   "execution_count": null,
   "metadata": {},
   "outputs": [],
   "source": [
    "%begin defining_properties"
   ]
  },
  {
   "cell_type": "code",
   "execution_count": null,
   "metadata": {},
   "outputs": [],
   "source": [
    "rational_times_0 = Forall(q, Equals(Times(q, zero), zero), domain=Rational)\n",
    "int_times_int_successor = Forall(\n",
    "    (m, n), Equals(Times(m, IntSuccessor(n)),\n",
    "                   IntAdd(Times(m, n), m)), \n",
    "    domain=Integer)\n",
    "rationals_extend_ints = SubsetEq(Integer, Rational)\n",
    "times_natpos_is_bijection = Forall(n, InSet(Lambda(q, Times(q, n)), Bijections(Rational, Rational)),\n",
    "                                   domain=NaturalPos)\n",
    "rational_multiplies_to_integer = Forall(q, Exists(n, InSet(Times(q, n), Integer), domain=NaturalPos),\n",
    "                                        domain=Rational)"
   ]
  },
  {
   "cell_type": "code",
   "execution_count": null,
   "metadata": {},
   "outputs": [],
   "source": [
    "int_add = Forall(\n",
    "    (a, b), Equals(RationalAdd(a, b), IntAdd(a, b)), \n",
    "    domain=Integer)\n",
    "distribute_times_over_add = Forall(\n",
    "    n, Forall(\n",
    "        (a, b), Equals(Times(RationalAdd(a, b), n),\n",
    "                       RationalAdd(Times(a, n), Times(b, n))),\n",
    "        domain=Rational),\n",
    "    domain=NaturalPos)"
   ]
  },
  {
   "cell_type": "markdown",
   "metadata": {},
   "source": [
    "To determine addition of rational numbers, relate it to addition of integers by multiplying by the least common denominator:\n",
    "$(a + b/c) \\times c = (a \\times c + b)$."
   ]
  },
  {
   "cell_type": "code",
   "execution_count": null,
   "metadata": {},
   "outputs": [],
   "source": [
    "int_mult = Forall(\n",
    "    (a, b), Equals(RationalMult(a, b), Times(a, b)),\n",
    "    domains=(Rational, Integer))\n",
    "mult_associativity = Forall(\n",
    "    (a, b, c), Equals(RationalMult(RationalMult(a, b), c),\n",
    "                      RationalMult(a, RationalMult(b, c))),\n",
    "    domain=Rational)"
   ]
  },
  {
   "cell_type": "markdown",
   "metadata": {},
   "source": [
    "To determine multiplication of rationals, relate it to multiplication by an integer by multiplying by the denominator:\n",
    "$(a * (b /c)) \\times c = (a * (b /c)) * c = a * b$. "
   ]
  },
  {
   "cell_type": "code",
   "execution_count": null,
   "metadata": {},
   "outputs": [],
   "source": [
    "%end defining_properties"
   ]
  },
  {
   "cell_type": "code",
   "execution_count": null,
   "metadata": {},
   "outputs": [],
   "source": []
  }
 ],
 "metadata": {
  "kernelspec": {
   "display_name": "Python 3 (ipykernel)",
   "language": "python",
   "name": "python3"
  }
 },
 "nbformat": 4,
 "nbformat_minor": 0
}
