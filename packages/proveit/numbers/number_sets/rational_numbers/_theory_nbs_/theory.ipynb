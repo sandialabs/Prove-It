{
 "cells": [
  {
   "cell_type": "markdown",
   "metadata": {},
   "source": [
    "Theory of <a class=\"ProveItLink\" href=\"../../../../_theory_nbs_/theory.ipynb\">proveit</a>.<a class=\"ProveItLink\" href=\"../../../_theory_nbs_/theory.ipynb\">numbers</a>.<a class=\"ProveItLink\" href=\"../../_theory_nbs_/theory.ipynb\">number_sets</a>.rational_numbers\n",
    "========\n",
    "\n",
    "Provide description here."
   ]
  },
  {
   "cell_type": "code",
   "execution_count": 1,
   "metadata": {},
   "outputs": [
    {
     "data": {
      "text/html": [
       "<h3>Local content of this theory</h3>"
      ],
      "text/plain": [
       "<IPython.core.display.HTML object>"
      ]
     },
     "metadata": {},
     "output_type": "display_data"
    },
    {
     "data": {
      "text/html": [
       "<table><tr>\n",
       "<th><a class=\"ProveItLink\" href=\"common.ipynb\">common expressions</a></th>\n",
       "<th><a class=\"ProveItLink\" href=\"axioms.ipynb\">axioms</a></th>\n",
       "<th><a class=\"ProveItLink\" href=\"theorems.ipynb\">theorems</a></th>\n",
       "<th><a class=\"ProveItLink\" href=\"demonstrations.ipynb\">demonstrations</a></th>\n",
       "</tr></table>\n",
       "<h3>Sub-theories</h3>\n"
      ],
      "text/plain": [
       "<IPython.core.display.HTML object>"
      ]
     },
     "metadata": {},
     "output_type": "display_data"
    },
    {
     "data": {
      "text/html": [
       "<h3>All axioms contained within this theory</h3>"
      ],
      "text/plain": [
       "<IPython.core.display.HTML object>"
      ]
     },
     "metadata": {},
     "output_type": "display_data"
    },
    {
     "data": {
      "text/html": [
       "<dt><a class=\"ProveItLink\" href=\"axioms.ipynb#rationals_def\">proveit.numbers.number_sets.rational_numbers.rationals_def</a></dt><dd><a class=\"ProveItLink\" href=\"../__pv_it/axioms/76f0ca3554aa173e3c2b96df26193413f06c41b10/expr.ipynb\"><img src=\"data:image/png;base64,iVBORw0KGgoAAAANSUhEUgAAAMQAAAAqCAMAAADbNgSrAAAAPFBMVEX///8AAAAAAAAAAAAAAAAA\n",
       "AAAAAAAAAAAAAAAAAAAAAAAAAAAAAAAAAAAAAAAAAAAAAAAAAAAAAAAAAAAo1xBWAAAAE3RSTlMA\n",
       "EIm7mSJ2q+8y3WZEzVTn9enzjbdKLwAAAAlwSFlzAAAOxAAADsQBlSsOGwAAA3BJREFUaN7VWYly\n",
       "ozAMtSXf1x7+/39d2wQwxAlgCNtoOtNMGyQ/63oShPSIMJp8RKyx5B7hxvPpswTBxXW6nfH0FgxK\n",
       "zjZVgoPxQrvUmDtAyPnMVGXvs0vNunhHRBk/fWSx/AEu1a/YDSCqaFKY3RHdp/TfAYLGnNI2ku8G\n",
       "EXKOeBL494IgmDwRDCPLKOb/BQQFTML4YSNUCtBcimXrgz05wui1IIRUOrcwCdfcVAWComrXX42L\n",
       "J0DMV9gFAiyUyuyYw6tBEOLbBRNr5/mQmxw/AUIDeRR+JFZcDqLk/rNRuSBM5Sk8AQIpfTwFmvir\n",
       "Qbg2JcE6/7AoDOM3O0BQJPpx/yEQtoOdxiMgoJkSbqEilojTo8+M74km9yAr6bcN2w9scpsahJdC\n",
       "yCelvnYEHUE89MJxPunEdPLkkTAekJlKFvfmNy+qrk4xMWsa+VLrr9+1Vh5hADEmpMGjIDhMJ0+e\n",
       "EG4z+rb5fgViCHQl3jhiBjFWeOrxqC+WOUG3Zpb6PHGWFyBYcVtcNiC3rLp0+LeLs2ob9dHqxPdX\n",
       "J+7Z9iVVIApLd6sy61fUYMiJMH8rmKOzoqv7xKTnZU6A0gdAlIOxKVOL1j9/V1oRh9un+008s5ix\n",
       "Y8tdHVuqIyD0OP5Vjlj70qo58orjeuYTGLnTrpGKR7EfhEznx6Xa8GzFZNoxXT/2TbucRe8j2+nE\n",
       "QwRQAlu1lUZ1owyE1ItxsWv41/t40xpEk6W+peJhkyp3gyBSJEYetDvsiQZLfQtiu82cmOyCRK/Q\n",
       "HgbRYKnvQFggHwTROT62WOo7EIb+QBAtlireVAhNfiCINkv9xKJAe3zqWAgs/Zw1smKpH13ZTCsA\n",
       "LSRiCtk80AIV9KyRNkv9DIixG7KxoaUqpAPv29zWdL/JUq9bzoEVwKdhLAVuujJRn3q98tot9VTU\n",
       "ZKnn5DHokWEBoqdQFamwCZbH6apg89D5tgeqFFix1CtkVs8SGj3RzdzDrJ9m6YJSkN4YoGYu9i2W\n",
       "ek7E7Fbl8mKvTgkmEw4skr8FKa+T/a4rTITJvmapp0Sb+W1gKXpoxzPm4VGFvNiYGm3Q+RzQGQdh\n",
       "5JwNlnoORN3sVU4JZ1MNh6HXWyyT6BR4JavdLa/HusUxG0Qe2HTyANFMlErOxw2olVIKQC/Jl0hd\n",
       "/oYdviPfJo6S75eNtPsHiScb82EfOTgAAAAASUVORK5CYII=\n",
       "\" style=\"display:inline;vertical-align:middle;\" /></a></dd>"
      ],
      "text/plain": [
       "<IPython.core.display.HTML object>"
      ]
     },
     "metadata": {},
     "output_type": "display_data"
    },
    {
     "data": {
      "text/html": [
       "<dt><a class=\"ProveItLink\" href=\"axioms.ipynb#rationals_pos_def\">proveit.numbers.number_sets.rational_numbers.rationals_pos_def</a></dt><dd><a class=\"ProveItLink\" href=\"../__pv_it/axioms/21c91a6ba1803ea3b86e2bd6ce4e8493c1471fc80/expr.ipynb\"><img src=\"data:image/png;base64,iVBORw0KGgoAAAANSUhEUgAAALoAAAAbBAMAAAA5YIiJAAAAMFBMVEX///8AAAAAAAAAAAAAAAAA\n",
       "AAAAAAAAAAAAAAAAAAAAAAAAAAAAAAAAAAAAAAAAAAAv3aB7AAAAD3RSTlMAEIm7mSJ2q+8y3WZE\n",
       "zVRISQrpAAAACXBIWXMAAA7EAAAOxAGVKw4bAAACu0lEQVRIx72WT2gTQRTGv90km6QbQ6xoxSLZ\n",
       "WrwYKpUFPdhKWilSSjXEQvWii4jFtkqkWOyhWsxJvCweerRSCIKnPahIUROpKIhiwKvYvYmIJBb1\n",
       "ILU4s5v9k2aypBCdywzz3v72zXvvm13AGUn8y9H93+ncW2cd8Hz6TIq53SrLA3Xpl144a77gRQ9P\n",
       "xRi7wjU1cF+qQ49+RyP0PedJ4L4Mw5JIAC+X4ZflrHx4o5G/1wh9i87lNvhaB5KK5LWiwo69MfoS\n",
       "0Mmm+7aSA/FqcdP03Zq9PASUYkz6tjAJO6oPbprO7VOs5Q9gQWfS70RIDBHtuQc9MN1x0UUfPbdD\n",
       "NRbjHZX3ULrGpL8SdZJ85aujVf8DYxgd4KcZe5MKlh16JIcbVr77TB2sEroCYa6Wno4asU+y63WK\n",
       "GLnbCBYd+k4Ns5b524BNlxBYZ1TVzHsfEz76kcZfRovk0E8Ai7bDuys0M4T+nlDaPtXSt9s9w2jX\n",
       "o0R/oW6cLTj0LAJrDv1Apaolkt+u2o6NmP2uOzvuvFP9xRXknZ7hfkEs25m5akwykI9V6xpc5zFq\n",
       "HCJafb1cRye0D+I6el30dfisgy6Z9xOeAMPEbFd1fqoHaQkJEjJP75mkB92niKuufj+IvISqjkSL\n",
       "zt1yacNPxbNXR/sjMo/8WRmEB52bvrzmorddKBkzN26riesfUyv01sdPMUErdjcFQaDGGVHxosNK\n",
       "tKVVswq7NFYkufBPjqpSbEeFHlTGvhS86Ga72/TZ+r7+ZHiOit8gC7yx/7k3q7GfMPUXkqroN9m+\n",
       "VNehgpARP8jykYidGY9h6I9fWXTTu35LTF8iYsRTPiVsmK2qeo6R666DqF6eaeoZSi2oMBQ2n8F+\n",
       "rckf/sgQuShOqsYFPTzT/B+LZ1Smcg/J42mt+fR+e3X84WSz4XzW/q0JT6h/AWsGvS3IsUWkAAAA\n",
       "AElFTkSuQmCC\n",
       "\" style=\"display:inline;vertical-align:middle;\" /></a></dd>"
      ],
      "text/plain": [
       "<IPython.core.display.HTML object>"
      ]
     },
     "metadata": {},
     "output_type": "display_data"
    },
    {
     "data": {
      "text/html": [
       "<dt><a class=\"ProveItLink\" href=\"axioms.ipynb#rationals_neg_def\">proveit.numbers.number_sets.rational_numbers.rationals_neg_def</a></dt><dd><a class=\"ProveItLink\" href=\"../__pv_it/axioms/3d8c09bc0c64c97929c8521791819244ed748b4f0/expr.ipynb\"><img src=\"data:image/png;base64,iVBORw0KGgoAAAANSUhEUgAAALoAAAAZBAMAAAB0qCmCAAAAMFBMVEX///8AAAAAAAAAAAAAAAAA\n",
       "AAAAAAAAAAAAAAAAAAAAAAAAAAAAAAAAAAAAAAAAAAAv3aB7AAAAD3RSTlMAEIm7mSJ2q+8y3WZE\n",
       "zVRISQrpAAAACXBIWXMAAA7EAAAOxAGVKw4bAAACl0lEQVRIx62WTWjUQBTHX7KbZNPEZV3xAyps\n",
       "tHjporQE8dJKLUgppbqsXrzYHIRWWmShWOxBKfQkvQQRj1aKraCXHFRE1C5UFLy4IL1Jm5tID90W\n",
       "van4ZjaZTN1JLGUf7GZeJvPLm/f+b3YB/mNHq2yoJD54tSS8nbft87Fr1K85NparSXR9Midaf8tV\n",
       "nlhxaza5JfH049cw8FRFMFMsArxfAd1GO9002wm7oO/zpUWcfiTYkFXD1xpOzMJd0V8DdIjpqf24\n",
       "Idmt7Y2eXSXfZ2gGRfQDOoad9Qf3RDce07L8AJj3hfR7pgdgeu8S6MrUsescPXRREAsULhG6J6R/\n",
       "MHxMvrMR3Uk/pdZQwDB+PpW0OkcPXcgvBX2wjXQH1JlmejlLY58Qh67MYWhzoNUiOnMvPwOOboHy\n",
       "R1DVRt7PieG3EZiuQ5sV0UNXWwufkpD+GSmH15rpB5M0c78bINMFI9WIHroRnVR1E/N7sllTZkPv\n",
       "fkzeUWwFB5Y5zTCXZQZsgOUcZLd4rtQxcBMvQ9irH1cgXjMFH3p5euiyqsIrWn2ZVfXBZA+ULShi\n",
       "yDI5Z/oS6CnH2ObozAU4tNQ4hdp86S7Xq2nSPCd8aH9Bdvh7fRAS6NLUjV8cnbmkmwLB94+6AT3/\n",
       "8g2MkwPmYQlUlUxOx54yQa8a9R29Grh0uMq1MtKlRf2n1EUm2iGga87o92oSvaFvRtfEAiP0dJ8+\n",
       "Q5qfklWZ3v/WO+vF0MeoCK0d9Iz41yCNL81U1YrxxbbPmiwzSTZC6r6+wNND9187ghEWSilHpy8P\n",
       "q5poykDUCaqb9GT5DtlWad6FbqrKCpzyoLVmDl0EuESikDqHp6Hl9pa0qd2DCbzitZ7ez0YXnk+0\n",
       "Gi7Psr81+rj7F++etLU1uTpGAAAAAElFTkSuQmCC\n",
       "\" style=\"display:inline;vertical-align:middle;\" /></a></dd>"
      ],
      "text/plain": [
       "<IPython.core.display.HTML object>"
      ]
     },
     "metadata": {},
     "output_type": "display_data"
    },
    {
     "data": {
      "text/html": [
       "<dt><a class=\"ProveItLink\" href=\"axioms.ipynb#rationals_non_neg_def\">proveit.numbers.number_sets.rational_numbers.rationals_non_neg_def</a></dt><dd><a class=\"ProveItLink\" href=\"../__pv_it/axioms/3ee9c4b92353fbf95bce881b634cd0e06ca372f30/expr.ipynb\"><img src=\"data:image/png;base64,iVBORw0KGgoAAAANSUhEUgAAAMIAAAAcBAMAAADB+31dAAAAMFBMVEX///8AAAAAAAAAAAAAAAAA\n",
       "AAAAAAAAAAAAAAAAAAAAAAAAAAAAAAAAAAAAAAAAAAAv3aB7AAAAD3RSTlMAEIm7mSJ2q+8y3WZE\n",
       "zVRISQrpAAAACXBIWXMAAA7EAAAOxAGVKw4bAAAC6UlEQVRIx7WWQWjTUBjHv6RN2jS1qxNRnNLO\n",
       "oocVZSOoB7exDqSUMS3Vi5ctB3HqhlSm0x2UwfAwdgkiHp0IQ/TUgw4Z6gqKA0EseBWXm4jIuqE3\n",
       "Fb/3mry+rkmqh3zQJF/f6/u97/v+32sALFN66U08mAS/rL2fXJfgtW8EkI/jZQ7a8v4h1KMgbUDY\n",
       "bBrYW2aPkucKI867a9e0ExbitrIBkVJTcJ/i7FksexGUybhTcm4Y0iNaXiFVRkJY3zpjnfuZO2H/\n",
       "OQwgUHQYSacB3pDySlmDZKmtKUtd4EbYV493myks4vADh8CSFUSrOkjXDZdKuxOELhbwMkDKmRDY\n",
       "joGJRkW4Slc+D6vw7wSAS53WwzGaTSfCDgW3ETNzQtzquMx/EWDZQvwAWDAdCXeimMto6ZWHQghB\n",
       "muq8yBFsF+07FaJACCVHwlsVK6vo3xq/DT6hVlPGMH7e5UNVjmC7xN5fIchNJOggzzQTCjEaw4Si\n",
       "oR1xCkGaxy3OQ6hSJzCXEnpsQhKkPw6VrtUh45oj6SYuGqxCJFknMJdk6RplIuEDrrTrczNhZ01L\n",
       "7mW4i3sMd8NouU5gLlY6wyq9jvk+1NyR0Vo/mB51QCEmdFjhtMTculo1gJU4xDYa2iWVJQEOYU+v\n",
       "eh7ZqKWECX08wXK5jntOFSGySt+b7IVCEtK4dZGcSwMtCAFd3eQItsudGhFTmON6OpjDywETOp7h\n",
       "/czvtRy0IAhTl39xBOZyGRkcMyxC+9ILGCcH0v08yDIZnFb1VgQ82asNPa1WHacSgrCo/BS6yZwO\n",
       "sAghfexruRXB0r9NCFVcCcEBZYYcFHR1WaTff+mbLXkQLlCBJhsINXcPVdxjToMIDpflovpR0/qj\n",
       "LEutbJToYe0hT7DdrbYbd5rIB3SFbsCudEuTsvVukQ2vmYVbJLz8ggE9VLFFOFzy4YUiOnQK4LRB\n",
       "22V42p+XlpeknTV8xRPPlvwhDLKnk08n/ACIs+yvXhk3/gItf8qEMhclOQAAAABJRU5ErkJggg==\n",
       "\" style=\"display:inline;vertical-align:middle;\" /></a></dd>"
      ],
      "text/plain": [
       "<IPython.core.display.HTML object>"
      ]
     },
     "metadata": {},
     "output_type": "display_data"
    }
   ],
   "source": [
    "import proveit\n",
    "%theory # toggles between interactive and static modes"
   ]
  }
 ],
 "metadata": {
  "kernelspec": {
   "display_name": "Python 3",
   "language": "python",
   "name": "python3"
  }
 },
 "nbformat": 4,
 "nbformat_minor": 0
}