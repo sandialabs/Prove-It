{
 "cells": [
  {
   "cell_type": "markdown",
   "metadata": {},
   "source": [
    "Theorems (or conjectures) for the theory of <a class=\"ProveItLink\" href=\"theory.ipynb\">proveit.numbers.number_sets.integers</a>\n",
    "========"
   ]
  },
  {
   "cell_type": "code",
   "execution_count": null,
   "metadata": {},
   "outputs": [],
   "source": [
    "import proveit\n",
    "# Prepare this notebook for defining the theorems of a theory:\n",
    "%theorems_notebook # Keep this at the top following 'import proveit'.\n",
    "from proveit import Operation\n",
    "from proveit import a, b, c, d, e, f, g, h, i, m, n, x, y, S, P\n",
    "from proveit.logic import And, Equals, Forall, Implies, in_bool, InSet, NotEquals, ProperSubset, SubsetEq\n",
    "from proveit.numbers import zero, one, num, frac\n",
    "from proveit.numbers import Natural, NaturalPos, Integer, Interval, Rational, Real, RealPos, Complex\n",
    "from proveit.numbers import Add, subtract, greater, greater_eq, Less, LessEq, number_ordering\n",
    "from proveit.numbers import Pzero, Pone, Pm, P_mAddOne, Pn"
   ]
  },
  {
   "cell_type": "code",
   "execution_count": null,
   "metadata": {},
   "outputs": [],
   "source": [
    "%begin theorems"
   ]
  },
  {
   "cell_type": "code",
   "execution_count": null,
   "metadata": {},
   "outputs": [],
   "source": [
    "# Proven\n",
    "#zero_in_nats = InSet(zero, Natural)"
   ]
  },
  {
   "cell_type": "code",
   "execution_count": null,
   "metadata": {},
   "outputs": [],
   "source": [
    "# In Progress\n",
    "#successive_nats = Forall(n, InSet(Add(n, one), Natural), domain=Natural)"
   ]
  },
  {
   "cell_type": "code",
   "execution_count": null,
   "metadata": {},
   "outputs": [],
   "source": [
    "#induction_lemma = Forall(n, Forall(S, Implies(And(InSet(zero, S), Forall(x, InSet(Add(x,one), S), domain=S)), InSet(n, S))), domain=Natural)"
   ]
  },
  {
   "cell_type": "code",
   "execution_count": null,
   "metadata": {},
   "outputs": [],
   "source": [
    "'''\n",
    "induction = Forall(P, Implies(And(Pzero, \n",
    "                                  Forall(m, P_mAddOne, \n",
    "                                         domain=Natural, condition=Pm)), \n",
    "                              Forall(n, Pn, domain=Natural)))\n",
    "'''"
   ]
  },
  {
   "cell_type": "code",
   "execution_count": null,
   "metadata": {},
   "outputs": [],
   "source": [
    "'''\n",
    "nat_pos_induction = Forall(P, Implies(And(Pone, \n",
    "                                        Forall(m, P_mAddOne, domain=NaturalPos, \n",
    "                                               condition=Pm)), \n",
    "                                    Forall(n, Pn, domain=NaturalPos)))\n",
    "'''"
   ]
  },
  {
   "cell_type": "code",
   "execution_count": null,
   "metadata": {},
   "outputs": [],
   "source": [
    "in_natural_if_non_neg = Forall(a, InSet(a,Natural), \n",
    "                            domain=Integer, condition=greater_eq(a, zero))"
   ]
  },
  {
   "cell_type": "code",
   "execution_count": null,
   "metadata": {},
   "outputs": [],
   "source": [
    "in_natural_pos_if_pos = Forall(a, InSet(a,NaturalPos), \n",
    "                            domain=Integer, condition=greater(a, zero))"
   ]
  },
  {
   "cell_type": "code",
   "execution_count": null,
   "metadata": {},
   "outputs": [],
   "source": [
    "# moved to sets.natural._theorems_\n",
    "# interval_is_nat = Forall((a, b), Forall(n, InSet(n, Natural), \n",
    "#                                        domain=Interval(a, b)), domain=Natural)"
   ]
  },
  {
   "cell_type": "code",
   "execution_count": null,
   "metadata": {},
   "outputs": [],
   "source": [
    "interval_in_nat_pos = Forall((a, b), Forall(n, InSet(n, NaturalPos), \n",
    "                                          domain=Interval(a, b)), \n",
    "                           domain=Integer, condition=greater(a, zero))"
   ]
  },
  {
   "cell_type": "code",
   "execution_count": null,
   "metadata": {},
   "outputs": [],
   "source": [
    "all_in_negative_interval_are_negative = Forall((a, b), Forall(n, Less(n, zero), \n",
    "                                                         domain=Interval(a, b)), \n",
    "                                          domain=Integer, condition=Less(b, zero))"
   ]
  },
  {
   "cell_type": "code",
   "execution_count": null,
   "metadata": {},
   "outputs": [],
   "source": [
    "all_in_positive_interval_are_positive = Forall((a, b), Forall(n, greater(n, zero), \n",
    "                                                         domain=Interval(a, b)), \n",
    "                                          domain=Integer, condition=greater(a, zero))"
   ]
  },
  {
   "cell_type": "code",
   "execution_count": null,
   "metadata": {},
   "outputs": [],
   "source": [
    "interval_lower_bound = Forall((a, b), Forall(n, LessEq(a, n), domain=Interval(a, b)), \n",
    "                            domain=Integer)"
   ]
  },
  {
   "cell_type": "code",
   "execution_count": null,
   "metadata": {},
   "outputs": [],
   "source": [
    "interval_upper_bound = Forall((a, b), Forall(n, LessEq(n, b), domain=Interval(a, b)), \n",
    "                            domain=Integer)"
   ]
  },
  {
   "cell_type": "code",
   "execution_count": null,
   "metadata": {},
   "outputs": [],
   "source": [
    "in_interval = Forall((a, b, n), InSet(n, Interval(a, b)), domain=Integer, \n",
    "                    conditions=[number_ordering(LessEq(a, n), LessEq(n, b))])"
   ]
  },
  {
   "cell_type": "markdown",
   "metadata": {},
   "source": [
    "$\\forall_{a, b, c, d\\in Z | c \\le a \\le b \\le d}\\{a, \\ldots, b\\}\\subseteq\\{c, \\ldots, d\\}$"
   ]
  },
  {
   "cell_type": "code",
   "execution_count": null,
   "metadata": {},
   "outputs": [],
   "source": [
    "interval_subset_eq = Forall(\n",
    "    (a, b, c, d), SubsetEq(Interval(b, c), Interval(a, d)),\n",
    "    domain=Integer,\n",
    "    conditions=[number_ordering(LessEq(a, b), LessEq(b, c), LessEq(c, d))])"
   ]
  },
  {
   "cell_type": "code",
   "execution_count": null,
   "metadata": {},
   "outputs": [],
   "source": [
    "interval_subset = Forall(\n",
    "    (a, b, c, d), ProperSubset(Interval(b, c), Interval(a, d)),\n",
    "    domain=Integer,\n",
    "    conditions=[number_ordering(Less(a, b), LessEq(b, c), Less(c, d))])"
   ]
  },
  {
   "cell_type": "code",
   "execution_count": null,
   "metadata": {},
   "outputs": [],
   "source": [
    "# nat_within_int = Forall(a,InSet(a,Integer),domain = Natural)"
   ]
  },
  {
   "cell_type": "code",
   "execution_count": null,
   "metadata": {},
   "outputs": [],
   "source": [
    "# nat_within_real = Forall(a,InSet(a,Real),domain = Natural)"
   ]
  },
  {
   "cell_type": "code",
   "execution_count": null,
   "metadata": {},
   "outputs": [],
   "source": [
    "# nat_within_complex = Forall(a,InSet(a,Complex),domain = Natural)"
   ]
  },
  {
   "cell_type": "code",
   "execution_count": null,
   "metadata": {},
   "outputs": [],
   "source": [
    "# nats_pos_in_natural = Forall(a,InSet(a,Natural),domain = NaturalPos)"
   ]
  },
  {
   "cell_type": "code",
   "execution_count": null,
   "metadata": {},
   "outputs": [],
   "source": [
    "# nats_pos_in_integer = Forall(a,InSet(a,Integer),domain = NaturalPos)"
   ]
  },
  {
   "cell_type": "code",
   "execution_count": null,
   "metadata": {},
   "outputs": [],
   "source": [
    "# nat_pos_within_real_pos = Forall(a,InSet(a,RealPos),domain = NaturalPos)"
   ]
  },
  {
   "cell_type": "code",
   "execution_count": null,
   "metadata": {},
   "outputs": [],
   "source": [
    "# nat_pos_within_real = Forall(a,InSet(a,Real),domain = NaturalPos)"
   ]
  },
  {
   "cell_type": "code",
   "execution_count": null,
   "metadata": {},
   "outputs": [],
   "source": [
    "# nat_pos_within_complex = Forall(a,InSet(a,Complex),domain = NaturalPos)"
   ]
  },
  {
   "cell_type": "code",
   "execution_count": null,
   "metadata": {},
   "outputs": [],
   "source": [
    "# moved to sets.natural._theorems_\n",
    "# natural_lower_bound = Forall(n, greater_eq(n, zero), domain=Natural)"
   ]
  },
  {
   "cell_type": "code",
   "execution_count": null,
   "metadata": {},
   "outputs": [],
   "source": [
    "# moved to sets.natural._theorems_\n",
    "# natural_pos_lower_bound = Forall(n, greater_eq(n, one), domain=NaturalPos)"
   ]
  },
  {
   "cell_type": "code",
   "execution_count": null,
   "metadata": {},
   "outputs": [],
   "source": [
    "# moved to sets.natural._theorems_\n",
    "# proven\n",
    "# non_zero_if_is_nat_pos = Forall(\n",
    "#         n,\n",
    "#         NotEquals(n, zero),\n",
    "#         domain=NaturalPos)"
   ]
  },
  {
   "cell_type": "code",
   "execution_count": null,
   "metadata": {},
   "outputs": [],
   "source": [
    "# ACTUALLY, PROBABLY WANT TO DO THE SUBSET THING\n",
    "interval_is_int = Forall((a, b), Forall(n, InSet(n, Integer), \n",
    "                                       domain=Interval(a, b)), \n",
    "                        domain=Integer)"
   ]
  },
  {
   "cell_type": "code",
   "execution_count": null,
   "metadata": {},
   "outputs": [],
   "source": [
    "# moved to sets.natural._theorems_\n",
    "# nat_pos_within_nat = ProperSubset(NaturalPos, Natural)"
   ]
  },
  {
   "cell_type": "code",
   "execution_count": null,
   "metadata": {},
   "outputs": [],
   "source": [
    "nat_within_int = ProperSubset(Natural, Integer)"
   ]
  },
  {
   "cell_type": "code",
   "execution_count": null,
   "metadata": {},
   "outputs": [],
   "source": [
    "nat_pos_within_int = ProperSubset(NaturalPos, Integer)"
   ]
  },
  {
   "cell_type": "code",
   "execution_count": null,
   "metadata": {},
   "outputs": [],
   "source": [
    "# Proven\n",
    "zero_is_int = InSet(zero, Integer)"
   ]
  },
  {
   "cell_type": "markdown",
   "metadata": {},
   "source": [
    "***A set of in_bool theorems, which are accessed by the respective NumberSets to implement their deduce_membership_in_bool() methods:***"
   ]
  },
  {
   "cell_type": "code",
   "execution_count": null,
   "metadata": {},
   "outputs": [],
   "source": [
    "# moved to sets.natural._theorems_\n",
    "# In progress\n",
    "# For Natural\n",
    "# nat_membership_is_bool = Forall(x, in_bool(InSet(x, Natural)))"
   ]
  },
  {
   "cell_type": "code",
   "execution_count": null,
   "metadata": {},
   "outputs": [],
   "source": [
    "# moved to sets.natural._theorems_\n",
    "# For Positive Natural (NaturalPos)\n",
    "# nat_pos_membership_is_bool = Forall(x, in_bool(InSet(x, NaturalPos)))"
   ]
  },
  {
   "cell_type": "code",
   "execution_count": null,
   "metadata": {},
   "outputs": [],
   "source": [
    "# For Integer numbers\n",
    "int_membership_is_bool = Forall(x, in_bool(InSet(x, Integer)))"
   ]
  },
  {
   "cell_type": "code",
   "execution_count": null,
   "metadata": {},
   "outputs": [],
   "source": [
    "difference_is_nat = Forall((a, b), InSet(subtract(a, b), Natural),\n",
    "                              domain=Integer, \n",
    "                              conditions=[LessEq(b, a)])"
   ]
  },
  {
   "cell_type": "code",
   "execution_count": null,
   "metadata": {},
   "outputs": [],
   "source": [
    "difference_is_nat_pos = \\\n",
    "    Forall((a, b), InSet(subtract(a, b), NaturalPos),\n",
    "           domain=Integer, \n",
    "           conditions=[Less(b, a)])"
   ]
  },
  {
   "cell_type": "code",
   "execution_count": null,
   "metadata": {},
   "outputs": [],
   "source": [
    "%end theorems"
   ]
  },
  {
   "cell_type": "code",
   "execution_count": null,
   "metadata": {},
   "outputs": [],
   "source": []
  }
 ],
 "metadata": {
  "kernelspec": {
   "display_name": "Python 3",
   "language": "python",
   "name": "python3"
  }
 },
 "nbformat": 4,
 "nbformat_minor": 0
}
