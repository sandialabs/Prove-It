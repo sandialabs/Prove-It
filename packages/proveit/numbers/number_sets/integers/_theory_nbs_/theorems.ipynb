{
 "cells": [
  {
   "cell_type": "markdown",
   "metadata": {},
   "source": [
    "Theorems (or conjectures) for the theory of <a class=\"ProveItLink\" href=\"theory.ipynb\">proveit.numbers.number_sets.integers</a>\n",
    "========"
   ]
  },
  {
   "cell_type": "code",
   "execution_count": null,
   "metadata": {},
   "outputs": [],
   "source": [
    "import proveit\n",
    "# Prepare this notebook for defining the theorems of a theory:\n",
    "%theorems_notebook # Keep this at the top following 'import proveit'.\n",
    "from proveit import Operation, IndexedVar\n",
    "from proveit import a, b, c, d, e, f, g, h, i, m, n, x, y, S, P\n",
    "from proveit.core_expr_types import (y_1_to_n)\n",
    "from proveit.logic import (And, Equals, Forall, Implies, in_bool, InSet, NotInSet, Set,\n",
    "                           NotEquals, Or, ProperSubset, SubsetEq, SetEquiv, EmptySet)\n",
    "from proveit.logic.sets import Card, Disjoint, Union, x_equals_any_y\n",
    "from proveit.numbers import zero, one, num, frac, Neg\n",
    "from proveit.numbers import (ZeroSet, Natural, NaturalPos, \n",
    "                             Integer, IntegerNeg, IntegerNonZero, IntegerNonPos, Interval, Complex)\n",
    "from proveit.numbers import Add, subtract, greater, greater_eq, Less, LessEq, number_ordering\n",
    "from proveit.numbers import Pzero, Pone, Pm, P_mAddOne, Pn"
   ]
  },
  {
   "cell_type": "code",
   "execution_count": null,
   "metadata": {},
   "outputs": [],
   "source": [
    "%begin theorems"
   ]
  },
  {
   "cell_type": "code",
   "execution_count": null,
   "metadata": {},
   "outputs": [],
   "source": [
    "zero_is_int = InSet(zero, Integer)"
   ]
  },
  {
   "cell_type": "code",
   "execution_count": null,
   "metadata": {},
   "outputs": [],
   "source": [
    "zero_is_nonpos_int = InSet(zero, IntegerNonPos)"
   ]
  },
  {
   "cell_type": "code",
   "execution_count": null,
   "metadata": {},
   "outputs": [],
   "source": [
    "zero_set_within_int = ProperSubset(ZeroSet, Integer)"
   ]
  },
  {
   "cell_type": "code",
   "execution_count": null,
   "metadata": {},
   "outputs": [],
   "source": [
    "zero_set_within_nonpos_int = ProperSubset(ZeroSet, IntegerNonPos)"
   ]
  },
  {
   "cell_type": "code",
   "execution_count": null,
   "metadata": {},
   "outputs": [],
   "source": [
    "# In Progress\n",
    "#successive_nats = Forall(n, InSet(Add(n, one), Natural), domain=Natural)"
   ]
  },
  {
   "cell_type": "code",
   "execution_count": null,
   "metadata": {},
   "outputs": [],
   "source": [
    "# induction_lemma = Forall(n, Forall(S, Implies(And(InSet(zero, S), Forall(x, InSet(Add(x,one), S), domain=S)), InSet(n, S))), domain=Natural)"
   ]
  },
  {
   "cell_type": "code",
   "execution_count": null,
   "metadata": {},
   "outputs": [],
   "source": [
    "# induction = Forall(P, Implies(And(Pzero, \n",
    "#                                   Forall(m, P_mAddOne, \n",
    "#                                          domain=Natural, condition=Pm)), \n",
    "#                               Forall(n, Pn, domain=Natural)))"
   ]
  },
  {
   "cell_type": "code",
   "execution_count": null,
   "metadata": {},
   "outputs": [],
   "source": [
    "'''\n",
    "nat_pos_induction = Forall(P, Implies(And(Pone, \n",
    "                                        Forall(m, P_mAddOne, domain=NaturalPos, \n",
    "                                               condition=Pm)), \n",
    "                                    Forall(n, Pn, domain=NaturalPos)))\n",
    "'''"
   ]
  },
  {
   "cell_type": "code",
   "execution_count": null,
   "metadata": {},
   "outputs": [],
   "source": [
    "nonneg_int_is_natural = Forall(a, InSet(a,Natural), \n",
    "                            domain=Integer, condition=greater_eq(a, zero))"
   ]
  },
  {
   "cell_type": "code",
   "execution_count": null,
   "metadata": {},
   "outputs": [],
   "source": [
    "pos_int_is_natural_pos = Forall(a, InSet(a,NaturalPos), \n",
    "                            domain=Integer, condition=greater(a, zero))"
   ]
  },
  {
   "cell_type": "code",
   "execution_count": null,
   "metadata": {},
   "outputs": [],
   "source": [
    "nonzero_nat_is_natural_pos = Forall(a, InSet(a, NaturalPos), \n",
    "                                    domain=Natural, condition=NotEquals(a, zero))"
   ]
  },
  {
   "cell_type": "markdown",
   "metadata": {},
   "source": [
    "#### A note about Interval-related theorems involving subsets of the Integers.\n",
    "\n",
    "Some Interval-related theorems involving subsets of the Integers might be found in the respective number_sets package instead of here in the number_sets/integers package. For example, the `interval_is_nat` theorem:\n",
    "$\\forall_{a, b\\in\\mathbb{N}}\\left[ \\forall_{n\\in\\{a...b\\}}\\left(n\\in\\mathbb{N}\\right)\\right]$ can be found in the number_sets/natural_numbers package."
   ]
  },
  {
   "cell_type": "markdown",
   "metadata": {},
   "source": [
    "#### A note/warning about a possible `unfold` theorem for the integral Interval class.\n",
    "\n",
    "Although it is tempting to establish an `unfold` theorem analogous to the `unfold` theorem for the enumerated set class EnumSet, along the lines of:\n",
    "\n",
    "$\\forall_{n\\in\\mathbb{N}}\\left[\\forall_{x, y_1, \\ldots, y_n \\rvert x\\in\\{y_1...y_n\\}}\\left((x=y_1)\\lor\\ldots\\lor(x=y_n)\\right)\\right]$\n",
    "\n",
    "the underlying structure (or lack of structural constraint) involving the integral Interval class would allow instantiations leading to false conclusions. For example, one might instantiate such a theorem with $\\{n: 3, x:x, y:(2, 6, 3)\\}$, leading to the false conclusion that $\\left((x = 2)\\lor(x = 6)\\lor(x = 3)\\right)$."
   ]
  },
  {
   "cell_type": "code",
   "execution_count": null,
   "metadata": {},
   "outputs": [],
   "source": [
    "interval_lower_bound = (\n",
    "    Forall((a, b),\n",
    "           Forall(n, LessEq(a, n), domain=Interval(a, b)), \n",
    "           domain=Integer))"
   ]
  },
  {
   "cell_type": "code",
   "execution_count": null,
   "metadata": {},
   "outputs": [],
   "source": [
    "interval_upper_bound = (\n",
    "    Forall((a, b),\n",
    "           Forall(n, LessEq(n, b), domain=Interval(a, b)), \n",
    "           domain=Integer))"
   ]
  },
  {
   "cell_type": "code",
   "execution_count": null,
   "metadata": {},
   "outputs": [],
   "source": [
    "vacuous_interval = Forall((a, b), Equals(Interval(a, b), EmptySet), condition=Less(b, a), domain=Integer)"
   ]
  },
  {
   "cell_type": "code",
   "execution_count": null,
   "metadata": {},
   "outputs": [],
   "source": [
    "in_interval = Forall((a, b, n), InSet(n, Interval(a, b)), domain=Integer, \n",
    "                    conditions=[number_ordering(LessEq(a, n), LessEq(n, b))])"
   ]
  },
  {
   "cell_type": "code",
   "execution_count": null,
   "metadata": {},
   "outputs": [],
   "source": [
    "interval_cardinality = Forall(\n",
    "    (a, b),\n",
    "    Equals(Card(Interval(a, b)), Add(b, Neg(a), one)),\n",
    "    domain=Integer,\n",
    "    conditions=[LessEq(a, b)])"
   ]
  },
  {
   "cell_type": "code",
   "execution_count": null,
   "metadata": {},
   "outputs": [],
   "source": [
    "interval_subset_eq = Forall(\n",
    "    (a, b, c, d), SubsetEq(Interval(b, c), Interval(a, d)),\n",
    "    domain=Integer,\n",
    "    conditions=[number_ordering(LessEq(a, b), LessEq(b, c), LessEq(c, d))])"
   ]
  },
  {
   "cell_type": "code",
   "execution_count": null,
   "metadata": {},
   "outputs": [],
   "source": [
    "interval_subset = Forall(\n",
    "    (a, b, c, d), ProperSubset(Interval(b, c), Interval(a, d)),\n",
    "    domain=Integer,\n",
    "    conditions=[number_ordering(Less(a, b), LessEq(b, c), Less(c, d))])"
   ]
  },
  {
   "cell_type": "code",
   "execution_count": null,
   "metadata": {},
   "outputs": [],
   "source": [
    "union_of_intervals = (\n",
    "    Forall((a, b, c, d),\n",
    "           Equals(Union(Interval(a, b), Interval(c, d)), Interval(a, d)),\n",
    "           conditions = [number_ordering(LessEq(a, c), LessEq(c, Add(b, one)), LessEq(Add(b, one), d))],\n",
    "           domain = Integer\n",
    "    )\n",
    ")"
   ]
  },
  {
   "cell_type": "code",
   "execution_count": null,
   "metadata": {},
   "outputs": [],
   "source": [
    "int_interval_within_int = (\n",
    "    Forall((a, b), ProperSubset(Interval(a, b), Integer),\n",
    "           domain=Integer))"
   ]
  },
  {
   "cell_type": "code",
   "execution_count": null,
   "metadata": {},
   "outputs": [],
   "source": [
    "nat_interval_within_nat = (\n",
    "    Forall((a, b), ProperSubset(Interval(a, b), Natural),\n",
    "           domain=Natural))"
   ]
  },
  {
   "cell_type": "code",
   "execution_count": null,
   "metadata": {},
   "outputs": [],
   "source": [
    "natpos_interval_within_natpos = (\n",
    "    Forall((a, b), ProperSubset(Interval(a, b), NaturalPos),\n",
    "           domain=NaturalPos))"
   ]
  },
  {
   "cell_type": "code",
   "execution_count": null,
   "metadata": {},
   "outputs": [],
   "source": [
    "negint_interval_within_negint = (\n",
    "    Forall((a, b), ProperSubset(Interval(a, b), IntegerNeg),\n",
    "           domain=IntegerNeg))"
   ]
  },
  {
   "cell_type": "code",
   "execution_count": null,
   "metadata": {},
   "outputs": [],
   "source": [
    "nat_within_int = ProperSubset(Natural, Integer)"
   ]
  },
  {
   "cell_type": "code",
   "execution_count": null,
   "metadata": {},
   "outputs": [],
   "source": [
    "nat_pos_within_int = ProperSubset(NaturalPos, Integer)"
   ]
  },
  {
   "cell_type": "code",
   "execution_count": null,
   "metadata": {},
   "outputs": [],
   "source": [
    "nat_pos_within_nonzero_int = ProperSubset(NaturalPos, IntegerNonZero)"
   ]
  },
  {
   "cell_type": "code",
   "execution_count": null,
   "metadata": {},
   "outputs": [],
   "source": [
    "nonzero_int_within_int = ProperSubset(IntegerNonZero, Integer)"
   ]
  },
  {
   "cell_type": "code",
   "execution_count": null,
   "metadata": {},
   "outputs": [],
   "source": [
    "neg_int_within_int = ProperSubset(IntegerNeg, Integer)"
   ]
  },
  {
   "cell_type": "code",
   "execution_count": null,
   "metadata": {},
   "outputs": [],
   "source": [
    "neg_int_within_nonzero_int = ProperSubset(IntegerNeg, IntegerNonZero)"
   ]
  },
  {
   "cell_type": "code",
   "execution_count": null,
   "metadata": {},
   "outputs": [],
   "source": [
    "neg_int_within_nonpos_int = ProperSubset(IntegerNeg, IntegerNonPos)"
   ]
  },
  {
   "cell_type": "code",
   "execution_count": null,
   "metadata": {},
   "outputs": [],
   "source": [
    "nonpos_int_within_int = ProperSubset(IntegerNonPos, Integer)"
   ]
  },
  {
   "cell_type": "code",
   "execution_count": null,
   "metadata": {},
   "outputs": [],
   "source": [
    "# Proven\n",
    "zero_is_int = InSet(zero, Integer)"
   ]
  },
  {
   "cell_type": "code",
   "execution_count": null,
   "metadata": {},
   "outputs": [],
   "source": [
    "nonzero_if_in_nonzero_int = Forall(a, NotEquals(a, zero), domain=IntegerNonZero)"
   ]
  },
  {
   "cell_type": "code",
   "execution_count": null,
   "metadata": {},
   "outputs": [],
   "source": [
    "negative_if_in_neg_int = Forall(a, Less(a, zero), domain=IntegerNeg)"
   ]
  },
  {
   "cell_type": "code",
   "execution_count": null,
   "metadata": {},
   "outputs": [],
   "source": [
    "nonpos_if_in_nonpos_int = Forall(a, LessEq(a, zero), domain=IntegerNonPos)"
   ]
  },
  {
   "cell_type": "code",
   "execution_count": null,
   "metadata": {},
   "outputs": [],
   "source": [
    "nonzero_int_is_int_nonzero = Forall(\n",
    "        a, InSet(a, IntegerNonZero), condition=NotEquals(a, zero),\n",
    "        domain=Integer)"
   ]
  },
  {
   "cell_type": "code",
   "execution_count": null,
   "metadata": {},
   "outputs": [],
   "source": [
    "neg_int_is_int_neg = Forall(\n",
    "        a, InSet(a, IntegerNeg), condition=Less(a, zero),\n",
    "        domain=Integer)"
   ]
  },
  {
   "cell_type": "code",
   "execution_count": null,
   "metadata": {},
   "outputs": [],
   "source": [
    "nonzero_nonpos_int_is_neg_int = Forall(\n",
    "        a, InSet(a, IntegerNeg), condition=NotEquals(a, zero),\n",
    "        domain=IntegerNonPos)"
   ]
  },
  {
   "cell_type": "code",
   "execution_count": null,
   "metadata": {},
   "outputs": [],
   "source": [
    "nonpos_int_is_int_nonpos = Forall(\n",
    "        a, InSet(a, IntegerNonPos), condition=LessEq(a, zero),\n",
    "        domain=Integer)"
   ]
  },
  {
   "cell_type": "markdown",
   "metadata": {},
   "source": [
    "***A set of in_bool theorems, which are accessed by the respective NumberSets to implement their deduce_membership_in_bool() methods:***"
   ]
  },
  {
   "cell_type": "code",
   "execution_count": null,
   "metadata": {},
   "outputs": [],
   "source": [
    "# For Integer numbers\n",
    "int_membership_is_bool = Forall(x, in_bool(InSet(x, Integer)))"
   ]
  },
  {
   "cell_type": "code",
   "execution_count": null,
   "metadata": {},
   "outputs": [],
   "source": [
    "neg_int_membership_is_bool = Forall(x, in_bool(InSet(x, IntegerNeg)))"
   ]
  },
  {
   "cell_type": "code",
   "execution_count": null,
   "metadata": {},
   "outputs": [],
   "source": [
    "nonzero_int_membership_is_bool = Forall(x, in_bool(InSet(x, IntegerNonZero)))"
   ]
  },
  {
   "cell_type": "code",
   "execution_count": null,
   "metadata": {},
   "outputs": [],
   "source": [
    "nonpos_int_membership_is_bool = Forall(x, in_bool(InSet(x, IntegerNonPos)))"
   ]
  },
  {
   "cell_type": "code",
   "execution_count": null,
   "metadata": {},
   "outputs": [],
   "source": [
    "# For integer Intervals -- check w/WW about this (domain(s)?)\n",
    "interval_membership_is_bool = (\n",
    "    Forall((a, b),\n",
    "           Forall(x, in_bool(InSet(x, Interval(a, b)))),\n",
    "           domain=Integer))"
   ]
  },
  {
   "cell_type": "code",
   "execution_count": null,
   "metadata": {},
   "outputs": [],
   "source": [
    "difference_is_nat = Forall((a, b), InSet(subtract(a, b), Natural),\n",
    "                              domain=Integer, \n",
    "                              conditions=[LessEq(b, a)])"
   ]
  },
  {
   "cell_type": "code",
   "execution_count": null,
   "metadata": {},
   "outputs": [],
   "source": [
    "difference_is_nat_pos = \\\n",
    "    Forall((a, b), InSet(subtract(a, b), NaturalPos),\n",
    "           domain=Integer, \n",
    "           conditions=[Less(b, a)])"
   ]
  },
  {
   "cell_type": "markdown",
   "metadata": {},
   "source": [
    "***Some Analogous Non-IntervalMembership Theorems***"
   ]
  },
  {
   "cell_type": "code",
   "execution_count": null,
   "metadata": {},
   "outputs": [],
   "source": [
    "# interval_nonmembership\n",
    "not_int_not_in_interval = (\n",
    "    Forall((a, b),\n",
    "           Forall(x, NotInSet(x, Interval(a, b)), domain=Complex, condition=NotInSet(x, Integer)),\n",
    "           domain=Integer))"
   ]
  },
  {
   "cell_type": "code",
   "execution_count": null,
   "metadata": {},
   "outputs": [],
   "source": [
    "int_not_in_interval = (\n",
    "    Forall((a, b, x),\n",
    "           NotInSet(x, Interval(a, b)),\n",
    "           domain=Integer,\n",
    "           conditions=[Or(Less(x, a), Less(b, x))]))"
   ]
  },
  {
   "cell_type": "code",
   "execution_count": null,
   "metadata": {},
   "outputs": [],
   "source": [
    "bounds_for_int_not_in_interval = (\n",
    "    Forall((a, b, x),\n",
    "           Or(Less(x, a), Less(b, x)),\n",
    "           domain=Integer,\n",
    "           conditions=[NotInSet(x, Interval(a, b))]))"
   ]
  },
  {
   "cell_type": "code",
   "execution_count": null,
   "metadata": {},
   "outputs": [],
   "source": [
    "# For non-membership in integer Intervals -- check w/WW about this (domain(s)?)\n",
    "interval_nonmembership_is_bool = (\n",
    "    Forall((a, b),\n",
    "           Forall(x, in_bool(NotInSet(x, Interval(a, b)))),\n",
    "           domain=Integer))"
   ]
  },
  {
   "cell_type": "code",
   "execution_count": null,
   "metadata": {},
   "outputs": [],
   "source": [
    "disjoint_intervals = (\n",
    "    Forall((a, b, c, d),\n",
    "           Disjoint(Interval(a, b), Interval(c, d)),\n",
    "           domain=Integer,\n",
    "           condition=number_ordering(LessEq(a, b), Less(b, c), LessEq(c, d))\n",
    "          ))"
   ]
  },
  {
   "cell_type": "code",
   "execution_count": null,
   "metadata": {},
   "outputs": [],
   "source": [
    "%end theorems"
   ]
  },
  {
   "cell_type": "code",
   "execution_count": null,
   "metadata": {},
   "outputs": [],
   "source": []
  }
 ],
 "metadata": {
  "kernelspec": {
   "display_name": "Python 3",
   "language": "python",
   "name": "python3"
  }
 },
 "nbformat": 4,
 "nbformat_minor": 0
}
