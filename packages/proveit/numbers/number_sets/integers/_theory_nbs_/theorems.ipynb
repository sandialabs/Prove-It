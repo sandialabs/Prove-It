{
 "cells": [
  {
   "cell_type": "markdown",
   "metadata": {},
   "source": [
    "Theorems (or conjectures) for the theory of <a class=\"ProveItLink\" href=\"theory.ipynb\">proveit.numbers.number_sets.integers</a>\n",
    "========"
   ]
  },
  {
   "cell_type": "code",
   "execution_count": 1,
   "metadata": {},
   "outputs": [],
   "source": [
    "import proveit\n",
    "# Prepare this notebook for defining the theorems of a theory:\n",
    "%theorems_notebook # Keep this at the top following 'import proveit'.\n",
    "from proveit import Operation, IndexedVar\n",
    "from proveit import a, b, c, d, e, f, g, h, i, m, n, x, y, S, P\n",
    "from proveit.core_expr_types import (y_1_to_n)\n",
    "from proveit.logic import (And, Equals, Forall, Implies, in_bool, InSet, NotInSet, Set,\n",
    "                           NotEquals, Or, ProperSubset, SubsetEq, SetEquiv, EmptySet)\n",
    "from proveit.logic.sets import Card, Disjoint, x_equals_any_y\n",
    "from proveit.numbers import zero, one, num, frac, Neg\n",
    "from proveit.numbers import (ZeroSet, Natural, NaturalPos, \n",
    "                             Integer, IntegerNeg, IntegerNonZero, IntegerNonPos, Interval, Complex)\n",
    "from proveit.numbers import Add, subtract, greater, greater_eq, Less, LessEq, number_ordering\n",
    "from proveit.numbers import Pzero, Pone, Pm, P_mAddOne, Pn"
   ]
  },
  {
   "cell_type": "code",
   "execution_count": 2,
   "metadata": {},
   "outputs": [
    {
     "name": "stdout",
     "output_type": "stream",
     "text": [
      "Defining theorems for theory 'proveit.numbers.number_sets.integers'\n",
      "Subsequent end-of-cell assignments will define theorems\n",
      "'%end theorems' will finalize the definitions\n"
     ]
    }
   ],
   "source": [
    "%begin theorems"
   ]
  },
  {
   "cell_type": "code",
   "execution_count": 3,
   "metadata": {},
   "outputs": [
    {
     "data": {
      "text/html": [
       "<strong id=\"zero_is_int\"><a class=\"ProveItLink\" href=\"proofs/zero_is_int/thm_proof.ipynb\">zero_is_int</a> (conjecture with conjecture-based proof):<br></strong> <a class=\"ProveItLink\" href=\"../__pv_it/theorems/5f598aa5221de43b5e98d614f0c7f6ba2eb6c5d00/theorem_expr.ipynb\"><img src=\"data:image/png;base64,iVBORw0KGgoAAAANSUhEUgAAADIAAAAQBAMAAACmdTG/AAAAMFBMVEX///8AAAAAAAAAAAAAAAAA\n",
       "AAAAAAAAAAAAAAAAAAAAAAAAAAAAAAAAAAAAAAAAAAAv3aB7AAAAD3RSTlMAiXaZIs1UEN1mu6sy\n",
       "RO+L2jdBAAAACXBIWXMAAA7EAAAOxAGVKw4bAAAA9klEQVQY02NgwABscf+iOtZNYGBgFDJBlWFa\n",
       "fYAhgBXICGOocECRYTZgYJogxsDA2cDAuABFhtuBoYodKMS1gYHtO8SUFR2tIJqdgcGG+wADA78B\n",
       "A883kABvUAFMF8+Gw0CyHijzE8R1hUswcBUsB5L+Agw8n0DcEIRNiZwKUJmPIG4AQgbsZoZ6AQZe\n",
       "kB6eFx0dHV0QpyTIMjAUgFzABnIBO8LpVSxA9hYGrgUMnGBXN8Bl9gB9xP6BgfMBAzPYCiW4mw0u\n",
       "A70LVNjGUHcAJMCaAHdzOAPLMqCBxUJ7wALsu65DZO4tfbXq/SsBpPDilYKEDhQAADDlN5QO5iEu\n",
       "AAAAAElFTkSuQmCC\n",
       "\" style=\"display:inline;vertical-align:middle;\" /></a><br>"
      ],
      "text/plain": [
       "<IPython.core.display.HTML object>"
      ]
     },
     "metadata": {},
     "output_type": "display_data"
    }
   ],
   "source": [
    "zero_is_int = InSet(zero, Integer)"
   ]
  },
  {
   "cell_type": "code",
   "execution_count": 4,
   "metadata": {},
   "outputs": [
    {
     "data": {
      "text/html": [
       "<strong id=\"zero_is_nonpos_int\"><a class=\"ProveItLink\" href=\"proofs/zero_is_nonpos_int/thm_proof.ipynb\">zero_is_nonpos_int</a> (conjecture without proof):<br></strong> <a class=\"ProveItLink\" href=\"../__pv_it/theorems/3c97d38be0f40f0a3380f6c0d1b818cd67b4160e0/theorem_expr.ipynb\"><img src=\"data:image/png;base64,iVBORw0KGgoAAAANSUhEUgAAAEcAAAAUBAMAAAAthD11AAAAMFBMVEX///8AAAAAAAAAAAAAAAAA\n",
       "AAAAAAAAAAAAAAAAAAAAAAAAAAAAAAAAAAAAAAAAAAAv3aB7AAAAD3RSTlMAiXaZIs1UEN1mu6sy\n",
       "RO+L2jdBAAAACXBIWXMAAA7EAAAOxAGVKw4bAAABUklEQVQoz2NgwAfYljAwCgkw4FeziIFhEsMt\n",
       "vGo4VwKJNwz8DnjUMC0DEizfGfgSsFkS9y+qY90EnmcgDs93Bo4JDECXmaCZsPoAQwArA0OWOEQR\n",
       "nwIDQxhDBaqlzAYMTBPEgIxb4mDr+BMYOBsYGBegKOJ2YKhiBwudNoE6nGsDA9t3iDUrOlpBNDsD\n",
       "gw33AbCQ93YGJYbbDAz8Bgw830ACvEEFMLN4NhyGshyATjZnYKgHKvoJ4rvC1TBwFSxH9Yu/AAPP\n",
       "JxAjBCGWyKmAqegjiBGAEAMFAAPPKiBYAhGoF2DgBZnE86Kjo6ML4oMEWQaGAmSTgA5nAzmcHREO\n",
       "VSxA9hZkRVwLGDjBQdAAF9oDDCn2DyhR/YCBGewcJXgAGFwGhmgDisvbGOrAIceaAA+AcAaWZaix\n",
       "UCy0B0yz77oOEbi39NWq969wpEdeKUi0YAIAEQZNKAuhQEsAAAAASUVORK5CYII=\n",
       "\" style=\"display:inline;vertical-align:middle;\" /></a><br>"
      ],
      "text/plain": [
       "<IPython.core.display.HTML object>"
      ]
     },
     "metadata": {},
     "output_type": "display_data"
    }
   ],
   "source": [
    "zero_is_nonpos_int = InSet(zero, IntegerNonPos)"
   ]
  },
  {
   "cell_type": "code",
   "execution_count": 5,
   "metadata": {},
   "outputs": [
    {
     "data": {
      "text/html": [
       "<strong id=\"zero_set_within_int\"><a class=\"ProveItLink\" href=\"proofs/zero_set_within_int/thm_proof.ipynb\">zero_set_within_int</a> (conjecture without proof):<br></strong> <a class=\"ProveItLink\" href=\"../__pv_it/theorems/afde620501923e288801c13e1b89032807ce80fa0/theorem_expr.ipynb\"><img src=\"data:image/png;base64,iVBORw0KGgoAAAANSUhEUgAAAEgAAAAVBAMAAAAX07VdAAAAMFBMVEX///8AAAAAAAAAAAAAAAAA\n",
       "AAAAAAAAAAAAAAAAAAAAAAAAAAAAAAAAAAAAAAAAAAAv3aB7AAAAD3RSTlMAEER2zVSJ3Zki72ar\n",
       "MruaaVGaAAAACXBIWXMAAA7EAAAOxAGVKw4bAAABXElEQVQoz2NgYGBUYgADzkgG3MBEEcq48xBd\n",
       "itXrl1/5qw1Axkcgjy25E0i+QVfE/OYCgwMLSL4ASLgyiE9gYEhHV8TRwMC8IRWqiLuAge0BFkU8\n",
       "ExjkGB9AFfEdANsKU8T8vLy8/AKQwcjA0MtzAaqIv4GB9ytcEa/bBLhZvAduMEAVyQMV/YYrEkeo\n",
       "YeATAHuZw4GBYX4CA+9nBgYriMQhJFeFcRuAqFkbIIq+AakAsIQDkiJwADDMcQIS8gkMTECTGI8E\n",
       "gJ2BFFABSQwMAgy8fQJgh7MCHc7mBI4eJEVynMAAOAn2PgPfAwZuYBDEC4BlChCKzgJDivEDNDAX\n",
       "gN2fBZHpRgRAgwYwRAug0VLKIHUBHgQsCogAcGTgfPoAqkgi+SwDXBHjG1i60Hqy7t36dQlQRRAA\n",
       "ixamPGi0wAEWRZiAeQGc2YJTEedXGItxNe7kO+MoVHVOAA4VAJ4iVD0ZjCpZAAAAAElFTkSuQmCC\n",
       "\" style=\"display:inline;vertical-align:middle;\" /></a><br>"
      ],
      "text/plain": [
       "<IPython.core.display.HTML object>"
      ]
     },
     "metadata": {},
     "output_type": "display_data"
    }
   ],
   "source": [
    "zero_set_within_int = ProperSubset(ZeroSet, Integer)"
   ]
  },
  {
   "cell_type": "code",
   "execution_count": 6,
   "metadata": {},
   "outputs": [
    {
     "data": {
      "text/html": [
       "<strong id=\"zero_set_within_nonpos_int\"><a class=\"ProveItLink\" href=\"proofs/zero_set_within_nonpos_int/thm_proof.ipynb\">zero_set_within_nonpos_int</a> (conjecture without proof):<br></strong> <a class=\"ProveItLink\" href=\"../__pv_it/theorems/ad7c68fe8ec74ee43be8d5c19584eaeef12ee3480/theorem_expr.ipynb\"><img src=\"data:image/png;base64,iVBORw0KGgoAAAANSUhEUgAAAF0AAAAYBAMAAABqyuwvAAAAMFBMVEX///8AAAAAAAAAAAAAAAAA\n",
       "AAAAAAAAAAAAAAAAAAAAAAAAAAAAAAAAAAAAAAAAAAAv3aB7AAAAD3RSTlMAEER2zVSJ3Zki72ar\n",
       "MruaaVGaAAAACXBIWXMAAA7EAAAOxAGVKw4bAAABuElEQVQ4y42Tv0vDUBDHv7EajTVtt4pD/TGJ\n",
       "iAg6OdWCDg6SSXDRaBFBRLpI1wouIkpGkYJdnMQa8B9Q0cGh0NHBIaIiaikWqYMuXt5L0thUzQ3v\n",
       "Xe4+udyvAD6l5RliUoVv/B44xZBfPPhKxzHCGl1CH7dJs7/igUfTX0G7Qvdor2W9vfNkMfU5nX7R\n",
       "5UPzQa6gVSdbhXQxuUVnyRO3VES8GZhb4Hz7MKEp0icQpdSW6/m2DAL6EilDCyyfsML5YAqi0YDv\n",
       "0BATDJbrll2vyYfOWFo2H3hKp9NFsxXATkeR2bLnGMEgOB/OQK46vDypOV+Qz24sTaMiNyy+m/gv\n",
       "h4/WcIQi9U1riwMHKuR3YIxbLlzemeBwHb+vc/6DLoVZ4i6v2U3IZZJnbsgm6OhW0UTxhUuFpewa\n",
       "gLIIRNzh5d0Iq7eF6hUTbC9cfEyibl7/yId6iZCBIPVznkdK1ZwFmoDw9oNn88qxsle4Zbv28Uw/\n",
       "DS3l4bGOrqLTz+aeWjfHIT0aXr4zWYDDCyV7Ywce8uWTvOrludj70LRm7UMjacD/KYGco2764aWq\n",
       "rQlHvv7lvSvrxVXlf/gbpOttFqmNgd4AAAAASUVORK5CYII=\n",
       "\" style=\"display:inline;vertical-align:middle;\" /></a><br>"
      ],
      "text/plain": [
       "<IPython.core.display.HTML object>"
      ]
     },
     "metadata": {},
     "output_type": "display_data"
    }
   ],
   "source": [
    "zero_set_within_nonpos_int = ProperSubset(ZeroSet, IntegerNonPos)"
   ]
  },
  {
   "cell_type": "code",
   "execution_count": 7,
   "metadata": {},
   "outputs": [],
   "source": [
    "# In Progress\n",
    "#successive_nats = Forall(n, InSet(Add(n, one), Natural), domain=Natural)"
   ]
  },
  {
   "cell_type": "code",
   "execution_count": 8,
   "metadata": {},
   "outputs": [],
   "source": [
    "# induction_lemma = Forall(n, Forall(S, Implies(And(InSet(zero, S), Forall(x, InSet(Add(x,one), S), domain=S)), InSet(n, S))), domain=Natural)"
   ]
  },
  {
   "cell_type": "code",
   "execution_count": 9,
   "metadata": {},
   "outputs": [],
   "source": [
    "# induction = Forall(P, Implies(And(Pzero, \n",
    "#                                   Forall(m, P_mAddOne, \n",
    "#                                          domain=Natural, condition=Pm)), \n",
    "#                               Forall(n, Pn, domain=Natural)))"
   ]
  },
  {
   "cell_type": "code",
   "execution_count": 10,
   "metadata": {},
   "outputs": [],
   "source": [
    "'''\n",
    "nat_pos_induction = Forall(P, Implies(And(Pone, \n",
    "                                        Forall(m, P_mAddOne, domain=NaturalPos, \n",
    "                                               condition=Pm)), \n",
    "                                    Forall(n, Pn, domain=NaturalPos)))\n",
    "'''"
   ]
  },
  {
   "cell_type": "code",
   "execution_count": 11,
   "metadata": {},
   "outputs": [
    {
     "data": {
      "text/html": [
       "<strong id=\"nonneg_int_is_natural\"><a class=\"ProveItLink\" href=\"proofs/nonneg_int_is_natural/thm_proof.ipynb\">nonneg_int_is_natural</a> (conjecture without proof):<br></strong> <a class=\"ProveItLink\" href=\"../__pv_it/theorems/3e95948191f454d46089de822d33ee3bc6f571c70/theorem_expr.ipynb\"><img src=\"data:image/png;base64,iVBORw0KGgoAAAANSUhEUgAAAKcAAAAXBAMAAACc8kKqAAAAMFBMVEX///8AAAAAAAAAAAAAAAAA\n",
       "AAAAAAAAAAAAAAAAAAAAAAAAAAAAAAAAAAAAAAAAAAAv3aB7AAAAD3RSTlMAq1RmmUTNIjK7EInv\n",
       "3XZ/CtNrAAAACXBIWXMAAA7EAAAOxAGVKw4bAAACm0lEQVQ4y62VQWjTYBTH/22SpmnaUj3YoSgF\n",
       "QRRBKoigSC1MUfASGHhRpOhB2ClVj4pVRBgqC8KmUZT0uA3X6QR18zAUDyJKUUEQAhGETXspXoay\n",
       "g+/72iStdsEUP0j73v/L+30v7335AvQ19L6mgkc697f24Oe4hecr2gmyM0zYHBK6vZd4U8og0UQ6\n",
       "Dxxk/ulwzESpl7pRnwUWgGHgErmyEQ4q5nupa42YjjqwC4hZgJoLB012ed9sm2eeLcglBk1aEGjV\n",
       "WMiSbul0jn5vG9lIpcGgMSK+te03IaFHWMk2LDrMloddNQtD0QiqUu8PA3d6RRZXh56i67iu/GJ2\n",
       "TPehVxKfCSpQMcqQMx0BkdeP73Ke37wRjf/NN1zhPW2AlxDrHAofKuS2UfejdCmWqrXl+BdTS+nq\n",
       "tNUNTTxjjRQcyZVe0QZoIjXD7Os2DaMFxfoIAeNNAjveYgcqFIvLZ9ENpQZT7ZMVLPvQpIEaz2Wi\n",
       "I1NUE5S9RGCUCvQzVXjC3wVWzGIHlOk09ji4aOGF//g1B/u5neqExh2KirKyPKL+JT7Fl9uLCmcq\n",
       "PpTrbOzTRy18aIffJ2gO66KsR2nHhd6ma4miBBZ5nvokFuMLGOJz0yp8KNdZwmMg6Lt2+EPqhBP9\n",
       "KHLnpAtlhkidF1mtI5RZUktnsNs0zRxm5jDpQbkOnBsAe/wf7fAb9AibnpaXuFMd433F1RWjdSqk\n",
       "3L7XdGWvdY1Z0tY85jwo11EeQFejUpXOXXvsnt11wFzw3mZ9dMhS2JKqCKnuZ8r06iF+hjqSu5+F\n",
       "YtD7Nuga0uCOWcis1DvXNMYzHpTrk6175r9a7u23Aph/HnlTpql5TtBxOBEwpwR9T4KgsrP63CL+\n",
       "CTpCu8Ls+3v2f76KwG+mdq600dLyHgAAAABJRU5ErkJggg==\n",
       "\" style=\"display:inline;vertical-align:middle;\" /></a><br>"
      ],
      "text/plain": [
       "<IPython.core.display.HTML object>"
      ]
     },
     "metadata": {},
     "output_type": "display_data"
    }
   ],
   "source": [
    "nonneg_int_is_natural = Forall(a, InSet(a,Natural), \n",
    "                            domain=Integer, condition=greater_eq(a, zero))"
   ]
  },
  {
   "cell_type": "code",
   "execution_count": 12,
   "metadata": {},
   "outputs": [
    {
     "data": {
      "text/html": [
       "<strong id=\"pos_int_is_natural_pos\"><a class=\"ProveItLink\" href=\"proofs/pos_int_is_natural_pos/thm_proof.ipynb\">pos_int_is_natural_pos</a> (conjecture without proof):<br></strong> <a class=\"ProveItLink\" href=\"../__pv_it/theorems/67c3c8d38c2813c39f948c91315cd9219a9fb7340/theorem_expr.ipynb\"><img src=\"data:image/png;base64,iVBORw0KGgoAAAANSUhEUgAAALcAAAAZBAMAAACBVqIyAAAAMFBMVEX///8AAAAAAAAAAAAAAAAA\n",
       "AAAAAAAAAAAAAAAAAAAAAAAAAAAAAAAAAAAAAAAAAAAv3aB7AAAAD3RSTlMAq1RmmUTNIjK7EInv\n",
       "3XZ/CtNrAAAACXBIWXMAAA7EAAAOxAGVKw4bAAACw0lEQVRIx52WTWgTQRTH/2mySXY3WdaTFUQC\n",
       "ClpEiR56ECkrfiNipDcvFnoQetC1lYJQNPUiRTEBqbh+riCC1rRFBbEFEaFIEDUgWESCEbxIRKQg\n",
       "hR7EN7Pd3UlNk2YHdjPv7cxv3sz7mACBWjjT6KtBTwSB24aGX/P0xPJB2UpPUzi6gsLldJ0Fv1p9\n",
       "UD/MuPCkDeiss75F+FDdFVNHgQnPco3Ie1nnRIvwQ/WUoVk1jQQillW0rtJOFoDhIIf/py68g4xM\n",
       "epajF4jS0aip1tjxBVHSbpc/cfhAZVCEH6SIJd9EWzRcKwmCdNJetNxs1yYF+E963pXLb1uEh1gk\n",
       "nn55jguDtqs1ZYwK8OP04QBwY7k0Wy4Sabb0BnftmmAImXGjUPCn5rJkAWK6aFXx2U3DX15o01W3\n",
       "F6UJj9M4zIUeH47tbbf88eepRMi26haK+DcrkzTVcbsW/sgpJxXJVSVp9SPAFz6HjrX8eREestf6\n",
       "8AnCtlU8f+6hjYRxYQC18LP72TuRxbxgeREKD0glL1iu6AXB8izbF6sCY13PoTlJbRgCnOkxvJqN\n",
       "tfHahyt/Ef7NhZIAxxXZh+dIxpM+Wn82Po+Hzvb7sz6c64Ez7TTWxkcXk4cyRzGzkQm/PDfTPG3E\n",
       "h7NowRBtMmLEX6Gb68ZVobRxPbX7owz+3o1z0t3BFmeLUTcDeWefD9/J7aAVExmqM52WZaUwOeV4\n",
       "kMO5no806Vjm3LyhDL1XvbiOb1FZc8yJhlNFej/w4bs8z5ryDvsSn7gpjSkPzvX021ERHYoZMUSl\n",
       "F076L229bidh5rptmWHUCKSSbznTA53kaq0i6Q2r4tL67hUgaffWp4hdp962VdVrugfnevzgxzr9\n",
       "3U10XF7JNavXymOWlam9q3gb+a9ohlZQRpNms4sw2B2Kpndowwtkc1N24wvIDP6/hWcIOegfNMOu\n",
       "jtbluygAAAAASUVORK5CYII=\n",
       "\" style=\"display:inline;vertical-align:middle;\" /></a><br>"
      ],
      "text/plain": [
       "<IPython.core.display.HTML object>"
      ]
     },
     "metadata": {},
     "output_type": "display_data"
    }
   ],
   "source": [
    "pos_int_is_natural_pos = Forall(a, InSet(a,NaturalPos), \n",
    "                            domain=Integer, condition=greater(a, zero))"
   ]
  },
  {
   "cell_type": "code",
   "execution_count": 13,
   "metadata": {},
   "outputs": [
    {
     "data": {
      "text/html": [
       "<strong id=\"nonzero_nat_is_natural_pos\"><a class=\"ProveItLink\" href=\"proofs/nonzero_nat_is_natural_pos/thm_proof.ipynb\">nonzero_nat_is_natural_pos</a> (conjecture without proof):<br></strong> <a class=\"ProveItLink\" href=\"../__pv_it/theorems/57676d170f101577f5f6591f18bc8fd3df9d1a550/theorem_expr.ipynb\"><img src=\"data:image/png;base64,iVBORw0KGgoAAAANSUhEUgAAALgAAAAZCAMAAAC1rRS+AAAAOVBMVEX///8AAAAAAAAAAAAAAAAA\n",
       "AAAAAAAAAAAAAAAAAAAAAAAAAAAAAAAAAAAAAAAAAAAAAAAAAAAAAAACXHtMAAAAEnRSTlMAq1Rm\n",
       "mUTNIjK7EInv3Xbt5cmRiLwgAAAACXBIWXMAAA7EAAAOxAGVKw4bAAACzElEQVRYw71Y6bqjMAiF\n",
       "7Pud8f0fdkLiEhU73m750fZTMQc4B0gBvrqkft5WHb6/ucQrm/r52/qv4w4G3gAcZPk2cC/vepgn\n",
       "702ov2Kakj4Ah0x3cMuj/DBum37howDdoIXpFHEodEetcjH2w8BVvP8sZguxRZK8Vb6uRB+yO1ND\n",
       "7vBrnJ9+UVJQ+DmU+RxxMIS/UYnYJD6M203h8l7xua5Bu2irBK25AK7ot5ypbT4d8JKv7mhTjj6h\n",
       "BXRQIg+8NLUkcjan+GnguITGYix2KGnWnFNRgRNSr1nguiVPuXY5/L6HsZXsulDMO+tEoAbecFWB\n",
       "gDtV62LIzK5uci0Aywdbw7KKVVQyIdMKzis2AcZYzgk0/Q0hETfVwBuOpAQcpADhuRpqu84p2PGk\n",
       "eFfQ10yBQIj1ARXuAO/+U2vTp4dyD5lqhTlvjrnO1br8AThgAOSAhw5cFMZr1RlEfalQliLcAd73\n",
       "S2Q6WT7iyW87dxT+8kUBIWQ24m7O1dL+Q5Qlkk1Z26hwQlcpXQBfDTp9Y38tZScJFniYaCs5jam4\n",
       "BF7TzkbJzVGJYtZ1qP2qXRyiIFylitA88NWg9Tb/03pbL9j5OEGg78BFrzBidbcwQ5Of810cB1zP\n",
       "0raL8pQiytEdOQKvVCmeBb4a9F3k0GnSEU4vvuDrdVH5PhQJc+596yXFSVcuW+LsHw1ibYKRpkWw\n",
       "jjoNeIg7EWzAV4ORrJ0qk+DDFLBEZ7G4gW/o9a6MOjMl/2AUVngUK1VYGQK4uIs4aFE44JsBUeXP\n",
       "33kM4sUJ6XpW0dHvW/7jZY40TMRYLcPYj/ppqyAf8dVgGNcaaTW+NB0+HtdPU49WUpQ2TdpFHS73\n",
       "xsYD3wx2vbc2IHVuoS69CbjER15Fyrt+fIjanSf/f6DCNw2g+dmTAwv8BkHDeybQ58+cHHBx55Qg\n",
       "3sHyF048z5/xXvlfZdV4U88/r4gVhpG4xxgAAAAASUVORK5CYII=\n",
       "\" style=\"display:inline;vertical-align:middle;\" /></a><br>"
      ],
      "text/plain": [
       "<IPython.core.display.HTML object>"
      ]
     },
     "metadata": {},
     "output_type": "display_data"
    }
   ],
   "source": [
    "nonzero_nat_is_natural_pos = Forall(a, InSet(a, NaturalPos), \n",
    "                                    domain=Natural, condition=NotEquals(a, zero))"
   ]
  },
  {
   "cell_type": "markdown",
   "metadata": {},
   "source": [
    "#### A note about Interval-related theorems involving subsets of the Integers.\n",
    "\n",
    "Some Interval-related theorems involving subsets of the Integers might be found in the respective number_sets package instead of here in the number_sets/integers package. For example, the `interval_is_nat` theorem:\n",
    "$\\forall_{a, b\\in\\mathbb{N}}\\left[ \\forall_{n\\in\\{a...b\\}}\\left(n\\in\\mathbb{N}\\right)\\right]$ can be found in the number_sets/natural_numbers package."
   ]
  },
  {
   "cell_type": "markdown",
   "metadata": {},
   "source": [
    "#### A note/warning about a possible `unfold` theorem for the integral Interval class.\n",
    "\n",
    "Although it is tempting to establish an `unfold` theorem analogous to the `unfold` theorem for the enumerated set class EnumSet, along the lines of:\n",
    "\n",
    "$\\forall_{n\\in\\mathbb{N}}\\left[\\forall_{x, y_1, \\ldots, y_n \\rvert x\\in\\{y_1...y_n\\}}\\left((x=y_1)\\lor\\ldots\\lor(x=y_n)\\right)\\right]$\n",
    "\n",
    "the underlying structure (or lack of structural constraint) involving the integral Interval class would allow instantiations leading to false conclusions. For example, one might instantiate such a theorem with $\\{n: 3, x:x, y:(2, 6, 3)\\}$, leading to the false conclusion that $\\left((x = 2)\\lor(x = 6)\\lor(x = 3)\\right)$."
   ]
  },
  {
   "cell_type": "code",
   "execution_count": 14,
   "metadata": {},
   "outputs": [
    {
     "data": {
      "text/html": [
       "<strong id=\"interval_lower_bound\"><a class=\"ProveItLink\" href=\"proofs/interval_lower_bound/thm_proof.ipynb\">interval_lower_bound</a> (conjecture without proof):<br></strong> <a class=\"ProveItLink\" href=\"../__pv_it/theorems/50b1de8ddd6f08961847066a347a764753476cd10/theorem_expr.ipynb\"><img src=\"data:image/png;base64,iVBORw0KGgoAAAANSUhEUgAAAPgAAAAZBAMAAADu5/4fAAAAMFBMVEX///8AAAAAAAAAAAAAAAAA\n",
       "AAAAAAAAAAAAAAAAAAAAAAAAAAAAAAAAAAAAAAAAAAAv3aB7AAAAD3RSTlMAq1RmmUTNIjK7EInv\n",
       "3XZ/CtNrAAAACXBIWXMAAA7EAAAOxAGVKw4bAAADSklEQVRIx7WWXUgUURTH/+7sx+zshxtBUIEs\n",
       "BOZD5kQhGSQLGkhhLUhvCks9lD3EWi8ZYqsvPSgqQR9TYBNBUYYfGURCEvSgJoEEoRQLuxU9JIEU\n",
       "UfQg3Tt3dvbuzLpXIQ/ocPb+z/zu3HvuORcQWll6EZtg4fS7dai82CTbv4lwn2hoM+Gf1h7yZBg8\n",
       "Qh+7BHCxyGmu8RKDnxn8CH2cEcDFIqc9sP9QmeTeqRvwHroFQwK4WOS0Bpt/+CjnSDEDTucQiArg\n",
       "YpHTXhW636cK3DcGXFJFKUVGxSLnlid4T3mZKRw+zbL9bTo9L8x2ochhbppvHdPdjN2s5vI8+3B6\n",
       "mDwnGLwJuC2EO0TSZFFtn7WxXoLzzOAuzSxlm7VlAX8Fxkjm1TJ4B3yR3JDcniupc8/uxDg4LzKs\n",
       "3wk2gidyXojwnqhoNpw8/GRoCFdSwB4G9+uBuPWCnfQlWS0eSgZGdQ7Oiwa2Xyfnpshn02Dr9yDR\n",
       "nwA+sopmLbs+FkcNefMgg7syXCrNkr9GMjEJvRf5ZedE7iagOHzWDp+D8suecDVkHcij1SyviXry\n",
       "b6T+Of3o1aweZpOMxQrKKxVJDQNfzOJkQFhMftlJcB5Oll1ZhbRiP2qE/FMBqk3403NkZovyb9rm\n",
       "PoRjj1hCXUgVwKnofqsaTCqs1tRaMfkeSYLRlvP8GSg/UJbYbSsy83D9DQB1JryLpJI7JtOi4Fel\n",
       "RIuhGQ0UNhYquvwV5brHWBj5rBVjGQ2G91surUnAMKrzC4hK+jm+PwgnDgLHTHhZiu5QmGZzMOWO\n",
       "1GqaFsX4FB7zcCpCBdkqqV3TrqFnhxVjGQ2G63xuExaAe8tXK1K2frYAZSvJ/fdcSx1L+g+RHCxH\n",
       "MNpnaKpUTDla6iwaZZk1q6wVYxkNRpflLpXs9QscPJgcbNFHENLryKmii+amc7TBfStYqjKLTaUZ\n",
       "Q/MOijEhGsydggMl65/KwT0NeyfRH5WPZ+C7Rfx9W5ZvROxwTwTLKjpTJtyIofUmKc8YC02CObg/\n",
       "30GVtGHcDnQ6bzKsDo1oWrzETUZ5oa1RZArPv1KqBd90wD36+q9RbUI4ukvcXJMOuLSBO5w3U1Qr\n",
       "n/rft9ei9/beotpLG7m3v/4HZeXIgLJF7yYAAAAASUVORK5CYII=\n",
       "\" style=\"display:inline;vertical-align:middle;\" /></a><br>"
      ],
      "text/plain": [
       "<IPython.core.display.HTML object>"
      ]
     },
     "metadata": {},
     "output_type": "display_data"
    }
   ],
   "source": [
    "interval_lower_bound = (\n",
    "    Forall((a, b),\n",
    "           Forall(n, LessEq(a, n), domain=Interval(a, b)), \n",
    "           domain=Integer))"
   ]
  },
  {
   "cell_type": "code",
   "execution_count": 15,
   "metadata": {},
   "outputs": [
    {
     "data": {
      "text/html": [
       "<strong id=\"interval_upper_bound\"><a class=\"ProveItLink\" href=\"proofs/interval_upper_bound/thm_proof.ipynb\">interval_upper_bound</a> (conjecture without proof):<br></strong> <a class=\"ProveItLink\" href=\"../__pv_it/theorems/e101a7115ea38518fe6e1a6ed0f0480f0e331a5f0/theorem_expr.ipynb\"><img src=\"data:image/png;base64,iVBORw0KGgoAAAANSUhEUgAAAPYAAAAZBAMAAADwLs6sAAAAMFBMVEX///8AAAAAAAAAAAAAAAAA\n",
       "AAAAAAAAAAAAAAAAAAAAAAAAAAAAAAAAAAAAAAAAAAAv3aB7AAAAD3RSTlMAq1RmmUTNIjK7EInv\n",
       "3XZ/CtNrAAAACXBIWXMAAA7EAAAOxAGVKw4bAAADWklEQVRIx7WWTWjUQBTH3yab3Ww2+6EHwRZk\n",
       "QSg9adRSULAstEIpqAu99mP1ovUgUS9+VE17balVUIx6iAiCFtpoBbFQKPRgRYTipVVY2KpUtCi9\n",
       "+IEHcd5kk83XdlqwDzbZmfm//JI3b94MANMipQX4/5YuvV2HKgabY/s2kR2vPaRuNvtD7aEei53F\n",
       "204Gmy0KGmeGdkv35slkK5R9CDtOMNhsUdAeBnoaaKhjeXI5RdkDODOjDDZbFLRWf8fBDnrL5Mil\n",
       "ibJjBkAyx2CzRUGb8bW/TVn3XvIskA1k8worm8goWxSc7qJ3mqfLlX/T9JkKzfM3pdJrZp4zRQGL\n",
       "klTrqbv0xUJKhxV74Nj3rSSIWcpuB7jDZAdE/GSodqjD8SIw83pZ+kXR25wJk34aEyrwRco+A/Gs\n",
       "PSD22XX01bO7eRfbLaI2HORS5yd2K5UDofAO4r9pq8rm/oBcBm6GshNGsuD41+MzlvRCSk2OGy62\n",
       "WzSy/SZZLyEfjc5Ov1wASfqBKFrjnJhHi5AxQVylbK7syqI58mvTSEhh8Jw75i5RtB0gnD3nYwO3\n",
       "CpGiL9dSJvSSkFjfDcUWchlreY6f/HfJSFtvmM97aiqK+NaRTwAfwWZbPtWYE+cqm8QcwRnF8K4x\n",
       "sryPGsDNW+ynpMhICyImRfp9Ov/IyqWzmoeNogddiqxKVolpdnyquyJxhm67lSDfKZuw2zC9tSWj\n",
       "SbPk8aMWu59kUTQvYi1IKHyxkwrHk969BEUXlyFjCDQs4knHxzF0htjXSgtX0VUNlnmtWlPxb0RJ\n",
       "5K0ViOyIhrOTxjyWtWi2Wdf1HJhT8NjNRhHsgC7g+3T9BgzUOT6OoTNwp+0ZIFElQbi/17+X1GOx\n",
       "TRWqe+iEmjhAJiYDcm4I20KjAlOBPXQO2kTRiuGS4+MYOkO/01xcq2Zcdu3fsnqt0xiDlLGfLCeM\n",
       "WBSEeT87vgqLjZUa01DxwZQDib4POrvyv4m10dhsoXXXJAznxCNliN8m7T1bVm5l/WwhCysKXNAq\n",
       "bOqDZUYVX9IoE2cXO6G6Al2i5kw93RO95xar+IzpemGNc4v0Qq9RW7zrXlpjz6Xv5WELxvrPTN1M\n",
       "Nlypzf4cOK/xGzivxcqhWvH4fz6nhp7PB0O15zdwPp/9B+4jzUx00qikAAAAAElFTkSuQmCC\n",
       "\" style=\"display:inline;vertical-align:middle;\" /></a><br>"
      ],
      "text/plain": [
       "<IPython.core.display.HTML object>"
      ]
     },
     "metadata": {},
     "output_type": "display_data"
    }
   ],
   "source": [
    "interval_upper_bound = (\n",
    "    Forall((a, b),\n",
    "           Forall(n, LessEq(n, b), domain=Interval(a, b)), \n",
    "           domain=Integer))"
   ]
  },
  {
   "cell_type": "code",
   "execution_count": 16,
   "metadata": {},
   "outputs": [
    {
     "data": {
      "text/html": [
       "<strong id=\"vacuous_interval\"><a class=\"ProveItLink\" href=\"proofs/vacuous_interval/thm_proof.ipynb\">vacuous_interval</a> (conjecture without proof):<br></strong> <a class=\"ProveItLink\" href=\"../__pv_it/theorems/8fdc7a78c7c8f3943d5bdc51553ebf2b3471a62a0/theorem_expr.ipynb\"><img src=\"data:image/png;base64,iVBORw0KGgoAAAANSUhEUgAAAO0AAAAYBAMAAADkPGcWAAAAMFBMVEX///8AAAAAAAAAAAAAAAAA\n",
       "AAAAAAAAAAAAAAAAAAAAAAAAAAAAAAAAAAAAAAAAAAAv3aB7AAAAD3RSTlMAq1RmmUTNIjK7EInv\n",
       "3XZ/CtNrAAAACXBIWXMAAA7EAAAOxAGVKw4bAAADO0lEQVRIx71WT0gUURj/6c7o7OwfV28hxEKH\n",
       "8lBMIJEdZMOCItQF6RKRWxCRBxmtS2S5dumQoYeoNqNGiKAUdykpMooFDykRbBQUhqAZRQghRgUe\n",
       "pO+bnZ1xd2YHWrEHb3jv933z/d58/94A/33E12ugkqZ82EWhW7Vj5bszUNfH+5nm1yMuCtImzQbd\n",
       "uBfCMVqEeLelFNryFM2VIkL5doae3lAhHtCEKQQVYD/vTpXCe5+mL1NMWhFxFNch0AB0AH0cqMFS\n",
       "eJtceavCjuJDONcL1NO5KAS+cCm8aVfeds1R/A4LSRV+DR7ydUVJ4Y258r6Ao3gSHckoKoj0zezs\n",
       "61J4hVTOcNfLi3bx8R81TrzLyFAEfJRvB4Bbxa1Hikr4zBDoo8VXuGurF/m3Rv4MpvVN8yyPtzpv\n",
       "eYp4PfRaFyrNbJdOG4uy6fEhnXIwD86rCE6KHiIfVdBsj8IK/HOoXC7EfwpR8nM5ncer+aImXMss\n",
       "84loQPWNaSavDvNHrLXgp7e6TtKiFfhkj0IMVRSI4ROF8Q2gNwppiU42tyatpmjuowbqwaUzsHin\n",
       "sn1xr1bAKx0kZBryL7s3UmgnhzyJFuCdfRjQILL/Y430GGl8yp+6Oq9xM+HARixehulZreb0TD9T\n",
       "Q5JX4VlyKt9WLdfO1sR3fAFH6Vs53x5R95A/SH9oGZwJRh7oqp7uuMXLMMRrqqnHwzuXzWd5GWWx\n",
       "rTbeuDxJ4nQhfrUDz8k6m+2htBIiEqt4FU+sTZeP+WDxMiwOsZMNPb02Q0Yd3cH2rHOSMc5jIzEV\n",
       "b8SpjoSMPGPUYFmcgxVkM/64ENqVSCTCSE3gocnLcH84G9RgLvmljME7vHh5s+6cALO/N1Kw1rmN\n",
       "ejq/0PkDubAnVe8e2lfBH77Ce3GbggmTl2H5WdjS08dH134F537l0+/eC2ZyqgNt2gjdUg1UVywW\n",
       "IGZMXoaB74qhZ7xTXwqvdaXoQ2za8Rj9YamFav0m7XdWL14PWfncwjmEBiWrl0ssOnow7d5LY84/\n",
       "KgX3X/ZaGkkkrKrL06jL+0GRSWZvSHljVHGEvfk/OqJmV3G7mfk2OFvjonC+iPBbQa7h33g3cqgb\n",
       "ZPcvSFzaOf5hzRoAAAAASUVORK5CYII=\n",
       "\" style=\"display:inline;vertical-align:middle;\" /></a><br>"
      ],
      "text/plain": [
       "<IPython.core.display.HTML object>"
      ]
     },
     "metadata": {},
     "output_type": "display_data"
    }
   ],
   "source": [
    "vacuous_interval = Forall((a, b), Equals(Interval(a, b), EmptySet), condition=Less(b, a), domain=Integer)"
   ]
  },
  {
   "cell_type": "code",
   "execution_count": 17,
   "metadata": {},
   "outputs": [
    {
     "data": {
      "text/html": [
       "<strong id=\"in_interval\"><a class=\"ProveItLink\" href=\"proofs/in_interval/thm_proof.ipynb\">in_interval</a> (conjecture without proof):<br></strong> <a class=\"ProveItLink\" href=\"../__pv_it/theorems/ebe6a7f90135b890f15d3dfa1000675033ff60f90/theorem_expr.ipynb\"><img src=\"data:image/png;base64,iVBORw0KGgoAAAANSUhEUgAAARQAAAAXBAMAAAA4va1QAAAAMFBMVEX///8AAAAAAAAAAAAAAAAA\n",
       "AAAAAAAAAAAAAAAAAAAAAAAAAAAAAAAAAAAAAAAAAAAv3aB7AAAAD3RSTlMAq1RmmUTNIjK7EInv\n",
       "3XZ/CtNrAAAACXBIWXMAAA7EAAAOxAGVKw4bAAADuUlEQVRIx72WeUgUURzHvzo77jh7aAdBB7LQ\n",
       "HxpkDdH9RyzYJVHZCZ3YRdRfE/RPB2n1RwSSXRIW2UgQmB1bCmFURBF2YPRH0cXCWCGUESJ0sEH0\n",
       "+72d2Zl119Vo8cG8fe/N+87vM+93zAJZbd70y+qqTJri/oX/0T6kX+5am0l08Cwgm0AhT8ZniSQ3\n",
       "kn451p+gqYP7E3R9BObxeHuWUC6lX/a96Fexlbu7dOUZOMiOOp4llLJ/Rum1UaQw08AXyhLK/aTZ\n",
       "52i0cgAUOWaj4CkkjQ4nW6FS6Z6t/jLwqcTvCJQtQEc0+ixLKB6K2o1j9n02RY7uTDa4696BVEVe\n",
       "UWfIQrkBLATODmxkUCh5dMKRE6b6U0x0R02nJbfjgpGiuL6TN3/l4XSihbfQvqPs6LN13LnyVv7N\n",
       "T3bEGWc8QXdEgRDkirfw/hIozp79hHhFw+JU+MkGngNVHKsTyYrhq0jcGuvadmx0HV7j9pcUlNwG\n",
       "F4npEvkroKrfrTJSE6UmUnPXNuqWAu9TUeYDv6kYjyKWWnqw6eJ/7PIJeQ6aUqz1RZFOOeNZmltE\n",
       "KMjtQY6I3qbEJqWcPPMEBJnS3kOmdPYx63q6KudQ1zznFov+dJJKKjv2SZQ/BopHSRxFbenWETzJ\n",
       "w6kzv4UpXUMJkeUg5ijQeB5wDOYXQv0DqSddWfHEhJuAUrpuUqirrxWOteC7IBm4uF7z62q87M0o\n",
       "caFc1Wt15YGAmvYQ7agR9SguErvIW/4IPZnrf9B0Z5DaS5DFKSi/OIZwRxwwBxVFrSescHnK1yQ6\n",
       "3L1dKDBk4RjVjLhQ5qKGouM2Z+q1SsSQe85IiIRJelJVNbqkap5tTkrmBpSGBfF12qz+sO6MwGm7\n",
       "riyiK6eavRzkNPJXe/iniBwn7aivPwmfz1CNBMojdFK/hllyTJnYZWaxROwqMrkBaJwiZo11hgul\n",
       "sftIkSAMMNBL605jq2ajvLLzW8+fTcIC+EMiDucqijiO5YfhS6BQCTh1mT/qC4T9MD1ZGanbIm5v\n",
       "kk5/3fkBC3+8MYrX3uPXa1cYzQgYs9AMbw/elMTrXiTMr2mfSrvyfbbIzjGoQuAQv6R3mMEiq039\n",
       "589hAsWj2Z+lskktFIXKEpN6uRDdGvaQJWlYUdsmB2XllO64QMcyBFus/20sslNFT2sqeD8zClUX\n",
       "7EleCrl6qG31dU46Du4jpKb/t+Htzax6SN2Z5C+24fR92iBRcCD98u7hmf7b3qCXDyafp+Tq+0VR\n",
       "6qlZr3CUxzqGtnmHwMZfly3zES+6lB8AAAAASUVORK5CYII=\n",
       "\" style=\"display:inline;vertical-align:middle;\" /></a><br>"
      ],
      "text/plain": [
       "<IPython.core.display.HTML object>"
      ]
     },
     "metadata": {},
     "output_type": "display_data"
    }
   ],
   "source": [
    "in_interval = Forall((a, b, n), InSet(n, Interval(a, b)), domain=Integer, \n",
    "                    conditions=[number_ordering(LessEq(a, n), LessEq(n, b))])"
   ]
  },
  {
   "cell_type": "code",
   "execution_count": 18,
   "metadata": {},
   "outputs": [
    {
     "data": {
      "text/html": [
       "<strong id=\"interval_cardinality\"><a class=\"ProveItLink\" href=\"proofs/interval_cardinality/thm_proof.ipynb\">interval_cardinality</a> (conjecture without proof):<br></strong> <a class=\"ProveItLink\" href=\"../__pv_it/theorems/4f54d0f47ad2bd131c5d2a99a8a5943eec6969c80/theorem_expr.ipynb\"><img src=\"data:image/png;base64,iVBORw0KGgoAAAANSUhEUgAAAVEAAAAXBAMAAABALmG0AAAAMFBMVEX///8AAAAAAAAAAAAAAAAA\n",
       "AAAAAAAAAAAAAAAAAAAAAAAAAAAAAAAAAAAAAAAAAAAv3aB7AAAAD3RSTlMAq1RmmUTNIjK7EInv\n",
       "3XZ/CtNrAAAACXBIWXMAAA7EAAAOxAGVKw4bAAAEFklEQVRIx82XWWgTURSGT5NJJpmsLvTBggwI\n",
       "LrhFEaE+aMQVBC3oiyCaUovoi1N9EpRGKb6oRK1YoyLjg0KtmroEpSiKRdyolqIoaiFFQaG1FsFW\n",
       "IojnzExmySyJEcRbZjLLPWe+e+45/70F+Ism4B+2C3X2XdhpckcL2zIb+0e9rVuYhyz9NIoOnfaf\n",
       "xlPWyrbM5snhaTMeUbqbUhHpTBlhrh1oew+dj1mSzgTubG/pTxxB3x9oYDGAFfRgWyWgXEJGuGvb\n",
       "Yysor7NWtt54yS9M3ImkXorEDpwdSoWjlZAysVKk32xJyTZinwCemHLxFSndNKIFMnGAr4Q0CCVI\n",
       "PXlbUrLdYp/erpyOFJ6SgQhuxPdWlKZTS5EGem1JpzrORRFpAx5exOzp739WEekaHSlb8yln6uCd\n",
       "PMDbkJJt/fD4Ij1SnRhJr9GosfJXA5x2SEb7Vw0Kwko8Ngn+vKlDZgc3BjBUIGX6pRZVbLlRMWOU\n",
       "Sc2JkXQhHm4swSZgo4W+vu3KRdWTm2ek0vQbZ6UNDqrV1ycjsN341W5gzJqD8vUcoJm3iCnauvIQ\n",
       "NMyDzomRdBY9uY8sYkBbY2oIdyBdFxICV0UTqescjqGzcPdQImWr0ZoZgVCniRSD/RMBqnkzKdoy\n",
       "CYigzUUp0G9Ac4Kxf9+jxF4iTRHUCPHrCuoxHsuTGGw4sBuKSd2tVIRJIym0YO4Ej0LGvKS+Aw/q\n",
       "VKARLEmRaotBc3ROjDHdRDqCMYXEYjx1LL5F5L8GxLCsZfG4jpS7MShA+DhdpoYnGWefFqFMDpZY\n",
       "ySmTl5cwU572SXK6zqBTOidG0tn0hPLiOuo/99o3RovW23C8XY7frqSO9IqQEnwPpMsv4kfFyzmt\n",
       "9jM8VLtMu4gfcBlHfceq9tE2ksTENJBqToyktcRD5bEXR8nEfRRef8ydWC91uRoAHelyOAwwo4su\n",
       "W6VSBEU8FFJ/zvVSUglulD6ZkDtMgBN2eoq2VTG/cTlVnehI7wmKpDGUwVUYvWBdOColIRNdmE6n\n",
       "eejsgksa6UMYwPPGLimTlxZ2DxopN/l202fp4Us8QgrB+ZsxO1K05WqWFa3yqhOVdNyLenTxinwW\n",
       "yiAj+BdhoCMQ5A9JC+H0GHSppCiLrcS9fxXACDxQbELJUus+2K5RoaSjjUsvXyyl6D617oTUerED\n",
       "QmItqhYtCQx4erWYPvJ9X0S/TZPgrbsgqLRzqJTU7byPUncohd0MqPH3LJtzAw7zvrU5YE/h/bxx\n",
       "gyejGumG+YMxZafeMqy6aJMRhpxJV1ruT9vKX7X3WOz2ZHnrSKc1bfQ7uGiXEZodd2JSgWetbMtt\n",
       "NCi/UVg8FtswJ1I2B1QB7FIHVPYavfxsZVvu/0AE+akoecCJ1IeakP6DSfvXjf1vSH4DCVg5kdoa\n",
       "L5QAAAAASUVORK5CYII=\n",
       "\" style=\"display:inline;vertical-align:middle;\" /></a><br>"
      ],
      "text/plain": [
       "<IPython.core.display.HTML object>"
      ]
     },
     "metadata": {},
     "output_type": "display_data"
    }
   ],
   "source": [
    "interval_cardinality = Forall(\n",
    "    (a, b),\n",
    "    Equals(Card(Interval(a, b)), Add(b, Neg(a), one)),\n",
    "    domain=Integer,\n",
    "    conditions=[LessEq(a, b)])"
   ]
  },
  {
   "cell_type": "code",
   "execution_count": 19,
   "metadata": {},
   "outputs": [
    {
     "data": {
      "text/html": [
       "<strong id=\"interval_subset_eq\"><a class=\"ProveItLink\" href=\"proofs/interval_subset_eq/thm_proof.ipynb\">interval_subset_eq</a> (conjecture without proof):<br></strong> <a class=\"ProveItLink\" href=\"../__pv_it/theorems/19ddc7a7c9b0e8c5a2d86d35d70aef7e7d3c2a330/theorem_expr.ipynb\"><img src=\"data:image/png;base64,iVBORw0KGgoAAAANSUhEUgAAAXEAAAAXBAMAAAAPc2JkAAAAMFBMVEX///8AAAAAAAAAAAAAAAAA\n",
       "AAAAAAAAAAAAAAAAAAAAAAAAAAAAAAAAAAAAAAAAAAAv3aB7AAAAD3RSTlMAq1RmmUTNIjK7EInv\n",
       "3XZ/CtNrAAAACXBIWXMAAA7EAAAOxAGVKw4bAAAEeklEQVRYw82XXWgcVRTH/92d3fnKbraKARso\n",
       "Cz6oL7pqKZqHdUtiNQ9qoPpgEQ3SIBYpk9o3q9lq8cVAViPWrVimD4rt2u5qitbQaGkotUglSEWp\n",
       "LGxU+pUaQkQNFYrn3rk7M5u7O5s8DPTC3D1z7p0zv3vuuefMAmE2lS7j6YDxO5tpPx4IsrnTos5C\n",
       "yO03ui5uDZiwZ7+sSw7ZQTa122n4ORJS7O6OcMAjFbquA4fOtZzyjqy6NwBcezkHnZCTGeARpngx\n",
       "HPJP6DJnqNvWcspU3dEfVavVfIOqaetMOxa3036xcCuEQ95bJ19sR67tsKTFNG3P247FDUCc9sZM\n",
       "h0N+UpDHrrcjP2JhZeRTwhcdNqIUMfGQwnxQkPN3BZLfhhWSbxPW4oR9rlr9PhxypSLI4+tnm+yq\n",
       "Of+gizm4jFztvlRrkkS7Ly8KcpOO6WPA/pWirI6c+QUKQZW3G//KGD+iH7jmhHnKN7CZrmctvUmE\n",
       "OdokC8IomR2G6j6nvdQw81vnsK85e+zDHBP0xmDYh7cKdcnTkT+WnJsEc/TuDM9zP0gYiQpTjvDN\n",
       "UH3k6jRVr2kocoQxLQGr7LxHCF+3Ta9mdTdMHaG1zBYHEpZ51JbIIwdoTZW65OnI9IJz10F2h4cc\n",
       "L/4ncTzJTRpdHN3DVLvoKWWBLUzacqE9+AJx0TsiNd8B/a5h6hWgj9wexRuvYDl5dJyx5euSp6Pt\n",
       "LHjkWj8B/oqYnBfPOsE+5OZP0fZS7HYUUJY/AeraL6mLsZAZzFJXyn7FouXGLPOE+XuNq3bwWkUt\n",
       "l/ORGxNzFpLvMnFsfp2Q8E1WSMbExZovWljFW4QiRa1xw18w4wMNZbVcw8NymAstq8qIsF36guqR\n",
       "8bPGzlDyQpIx/qSd5KolHHJ8uTPvIz9ijVnaKS7+af8hpMTAqJBo2JkNvSZyyxI+y0gcf5HjgBNi\n",
       "HWu3+nNLOY2uiPRVJbQmP6FsX3eTV5Qcg4WeYWdWKRh5rlrAFv7IURM+8j6MAndPMnEcG4XUj0+F\n",
       "1IexetpLCfJb8Z7D9w97v8iAlFiOe8k79rW/+uu1yHnFfYJ3cLU8K/KMuybPQjKZ4nGrpJz45KoC\n",
       "NhaLxTQqkzjskZ/GLPXPTPJjsUlIpwFXulLPVDOC/OAx4fLzbHdyYl0TWbtp2SGVsf748GX3Cadz\n",
       "tZw8UQ+vsqX3kJ1OdFBsdlpCddV+m/vjrgwmXXJKzeNsHXseBRZwSkhOviaJhg8cFlZ/QWD9bFEw\n",
       "p9qUCW7xNffYWmNb7BIS9kMoseNSKTHVm7bOD6yC2Izn8zPa3z3sd3gdLvBwY9IQTCGd0ZZ6hNUN\n",
       "4ZG7ySjWe88ERtPaEzXq1d6sPZrmKvUDGrxv7dz7KY/8qfvnnM23sHceQtr1wFUhucM03xIVr3Xb\n",
       "7Pw8Xq26cX6tXSUflL9u01KPUrHoJSx9lR8uRkFUvNYzpmXdSJsvV5an9MbEE7OX98vaasnxOl27\n",
       "bgn4H/p5E0p1UyD6q8zepUZdVOpbkmuUc4r7Wkk3X1NvJpj/AYtLSwDlbIafAAAAAElFTkSuQmCC\n",
       "\" style=\"display:inline;vertical-align:middle;\" /></a><br>"
      ],
      "text/plain": [
       "<IPython.core.display.HTML object>"
      ]
     },
     "metadata": {},
     "output_type": "display_data"
    }
   ],
   "source": [
    "interval_subset_eq = Forall(\n",
    "    (a, b, c, d), SubsetEq(Interval(b, c), Interval(a, d)),\n",
    "    domain=Integer,\n",
    "    conditions=[number_ordering(LessEq(a, b), LessEq(b, c), LessEq(c, d))])"
   ]
  },
  {
   "cell_type": "code",
   "execution_count": 20,
   "metadata": {},
   "outputs": [
    {
     "data": {
      "text/html": [
       "<strong id=\"interval_subset\"><a class=\"ProveItLink\" href=\"proofs/interval_subset/thm_proof.ipynb\">interval_subset</a> (conjecture without proof):<br></strong> <a class=\"ProveItLink\" href=\"../__pv_it/theorems/7b023d973fd12a5e4146745927809baf442ae8050/theorem_expr.ipynb\"><img src=\"data:image/png;base64,iVBORw0KGgoAAAANSUhEUgAAAXEAAAAXBAMAAAAPc2JkAAAAMFBMVEX///8AAAAAAAAAAAAAAAAA\n",
       "AAAAAAAAAAAAAAAAAAAAAAAAAAAAAAAAAAAAAAAAAAAv3aB7AAAAD3RSTlMAq1RmmUTNIjK7EInv\n",
       "3XZ/CtNrAAAACXBIWXMAAA7EAAAOxAGVKw4bAAAEgElEQVRYw82XX2hbVRzHv01umvsnSaNixRZG\n",
       "wAf1RaOOoX2IGa3Tvmhh+uAQLbIiTpHbuTenTXX4YqGZFWcmjrsHxTVuiXboVpwOR9mGTIpMlEkg\n",
       "VdnmOkupqGXC8Pc79+T+6U3TDAzswD29+d5zfvdzzvn9uQVa2aJ06U80eH57PfXDgUY2t5vUmWhx\n",
       "+4Wu81saDBjdG9QSQ1Yjm+qt9Phpuknyr9taAx4q03UFOHBm1SG7g9LdDcDVF7PQCDmRBh5i4bnW\n",
       "kH9ElzFL3dZVhxxrSnJbR8q2uI3Oi90t3xry3hr50v9G/oxlW1wPtNPZGKnWkB+X5JEra5InPqhU\n",
       "Krm1yY/JvYhZCJPHtLfIzQcluXhXQ3L1BbO5Pd8qrbUT9plK5dvWkCtlSd6+bq7OqRoL9zuYB03/\n",
       "YqLdF6p1kmj3xSVJblCYPgLsbRbl2sh5X6DQxpe26f8EMb5HP3DZ/nGz58Emup4ytToeZqsJdsIw\n",
       "mR1GNOkkned9I7+2Ha/t9OH3s3yjrTT1ph3aoT3+zVy2/8Z5o3emRZ77LoARL7M4Yh/GoGdFJ6h6\n",
       "nYAS9DBWaWCU4z1E+JpluDWr2zd0hNYyVxiIm8Yhqw65hbayAN/n1cj0on0fI7vDQ/Yu/hvgeEyY\n",
       "1DsZXU264J00S1nkhQWOXKr7n6UZ9I5Q1ROgp3xDfwf6aNvDeP1lBMl3dCHGhxKe8Gl0nHmXXO0n\n",
       "wJ8RCebF0/b5DAlclxy7yHdjeZSCnwA19XPqIuwygxnqipkveO1X53gnjF+rQnpJ1Cpq2ayHXJ+a\n",
       "53gavQUYX+hC4m2hfpWRmj51vurxFq54S1ACXqtf9RbMWX9ZLVXxYNDNpcpVGSGe8RnVI/1HlWMo\n",
       "cS7BjD+ox4W0jANiSnh7zkN+0Bwn8icfpts/rN/Ub2zKgTGp0WN7NLSqzC3L+CQd4PiTNg740q1Z\n",
       "ntxSSqEzFPiqkqohIpTPdSftipJlWGhpjlklr+eEtIjNYsohAx7yPjDkNN9OYAPuFHf9+FhqfRiv\n",
       "RWpSkt+Ed+x9/pvfL6OREssRJyu2D/jItWrorOLMEB0cVWRFkXHbcuySCX5NLKckbf8UUh4bCoVC\n",
       "CuVpTLrkM5iD3OlT2CgXMYOaNsPhYWeqWUm+/7Dc8rN8Olm5rqmM5ZDru7d4yfV1R4YvOjPszlEF\n",
       "eby21JKp9ZCdDsTINztMKV2y3uK7yB1pTDvklJonJlEU3r0Iph0lJ2FfExo93jcprf6EhvXTWzAj\n",
       "R5ur/jWLrzpha45vtoqIWw+gyEdXLrL0hqWJgFUQmXX3/KT6Vw+FBGeUc8LdMNyFIRhSO6ku90ir\n",
       "65snb/aLq2bRCYxI711TGEupj1apj/ZmrLGUkKLv0cN7bph/N+mSP37vfFomw10L9nQTO+67JDX5\n",
       "WIw3ZcVbvW0KSpfXquSDwa/bVKBHsVBwg8efz1dUzjqanpcVb9VGZTHQRtb4cuU8pfkTT8Ra2a9o\n",
       "2rV+c73GxenGBv+HflqHMrqxIforbO+CXwsH+ibIVco+hT24zlv0eoL5D8YpQRXICydwAAAAAElF\n",
       "TkSuQmCC\n",
       "\" style=\"display:inline;vertical-align:middle;\" /></a><br>"
      ],
      "text/plain": [
       "<IPython.core.display.HTML object>"
      ]
     },
     "metadata": {},
     "output_type": "display_data"
    }
   ],
   "source": [
    "interval_subset = Forall(\n",
    "    (a, b, c, d), ProperSubset(Interval(b, c), Interval(a, d)),\n",
    "    domain=Integer,\n",
    "    conditions=[number_ordering(Less(a, b), LessEq(b, c), Less(c, d))])"
   ]
  },
  {
   "cell_type": "code",
   "execution_count": 21,
   "metadata": {},
   "outputs": [
    {
     "data": {
      "text/html": [
       "<strong id=\"int_interval_within_int\"><a class=\"ProveItLink\" href=\"proofs/int_interval_within_int/thm_proof.ipynb\">int_interval_within_int</a> (conjecture without proof):<br></strong> <a class=\"ProveItLink\" href=\"../__pv_it/theorems/4ea09f3a5d6e4a658eb18fb655ce81f7b241e3e20/theorem_expr.ipynb\"><img src=\"data:image/png;base64,iVBORw0KGgoAAAANSUhEUgAAAMIAAAAWBAMAAABgYF47AAAAMFBMVEX///8AAAAAAAAAAAAAAAAA\n",
       "AAAAAAAAAAAAAAAAAAAAAAAAAAAAAAAAAAAAAAAAAAAv3aB7AAAAD3RSTlMAq1RmmUTNIjK7EInv\n",
       "3XZ/CtNrAAAACXBIWXMAAA7EAAAOxAGVKw4bAAAC80lEQVRIx7VVS2gTQRj+2s1zk6yr4gOEsuBB\n",
       "QasrSKEeSqBaFFED1Yv0EFCRVg+pehFEUxE8KNSKVFNf24sQq31ZEYtKwYNGqfYiiiWQKnipBylI\n",
       "pUrx//eRbLvNqAcHZnZmvn/mm/+5wJ9bkLq8TySwRnT0L9on6l/2iyTauubvVB791Zy/ofsLgMrr\n",
       "1aLjlf3UZ8qh2VEeO+ZvKx1pJAPAZ2Abrw+LGO5Qj4yVhQ/y8HT+ri8ORR8EAgba2FqXRAz1Yoap\n",
       "BRkqUsjKdK0UZxJENBHDiJDBP+NmUG7m8/k0RwawvYInryDppIrQDUkhg4XYDKEjqSIQUs/x5wAw\n",
       "ms+/FjH4+p17Wp+d9sKBqgmtyHC/RICwYQbYACkDdIkYAjrTkCL+F7hteOC+Fnka+GotlrmAdVKB\n",
       "PzX0MgTVombNjqNyQ9fj1jTGTjpFNPd07PI+YKOBN8AZy5NJF5C0bL+etYkkiturmGYik4ilIr32\n",
       "e6OEth6iyR5g3MvQAPwkxy7XTNO7EkJ7CNAV7eTJgsvRL6lvpRCQcPY4SgyhHSSbg/zdyzAOP8Vr\n",
       "5JBZI1wMWU6BFUATq1NHQ0/dI37E7ISh6KZE3DaSZaWwCnkW0reF0sE3Y9qKmyviVlJGyCRfTfPB\n",
       "FtLyfWiaVfuoxLOmgHQs7cREwYoleQoVSW+J+8H+wZNSctoeje8lbxJjLXtR5SQPcWKFdSnZaEr0\n",
       "RooBr9rRegvVlmJ9SWegthRXSvkQSJRitQXBy2SonRw3aTa2whdF0z61JpPJaOgfxl37NWM2Q/fk\n",
       "+SpTsVjcGah1D+klBrnDKcFNnbnM2xyl0jsnqlPhLWTKRYhqF8xasFbHsI19ENcluKuG/7FdNYo/\n",
       "COdgNNXeaPQgZtSSfnyjD34H2/wPDN6KoDvc9Rse4KIW2l1A8BqtNy2e7HRCL0ylQBkRMzSUA07O\n",
       "XVqJ2ZPJJNy7XISDU0IC+Xk55OrcQmwsLMX17sQS0X96oFz5V1JzlhL+R/sNyYm1E8L5PEsAAAAA\n",
       "SUVORK5CYII=\n",
       "\" style=\"display:inline;vertical-align:middle;\" /></a><br>"
      ],
      "text/plain": [
       "<IPython.core.display.HTML object>"
      ]
     },
     "metadata": {},
     "output_type": "display_data"
    }
   ],
   "source": [
    "int_interval_within_int = (\n",
    "    Forall((a, b), ProperSubset(Interval(a, b), Integer),\n",
    "           domain=Integer))"
   ]
  },
  {
   "cell_type": "code",
   "execution_count": 22,
   "metadata": {},
   "outputs": [
    {
     "data": {
      "text/html": [
       "<strong id=\"nat_interval_within_nat\"><a class=\"ProveItLink\" href=\"proofs/nat_interval_within_nat/thm_proof.ipynb\">nat_interval_within_nat</a> (conjecture without proof):<br></strong> <a class=\"ProveItLink\" href=\"../__pv_it/theorems/8deae4de96448e3dd4d72659104740df2d3be2b20/theorem_expr.ipynb\"><img src=\"data:image/png;base64,iVBORw0KGgoAAAANSUhEUgAAAMMAAAAWBAMAAACPojUFAAAAMFBMVEX///8AAAAAAAAAAAAAAAAA\n",
       "AAAAAAAAAAAAAAAAAAAAAAAAAAAAAAAAAAAAAAAAAAAv3aB7AAAAD3RSTlMAq1RmmUTNIjK7EInv\n",
       "3XZ/CtNrAAAACXBIWXMAAA7EAAAOxAGVKw4bAAAC90lEQVRIx7WVTWgTQRSAX3Y32Z/8GBQbsFgW\n",
       "REUE7UEEPcRItYgFWezBgyJBLcWc0rulqZRetBhF1BSU7cFDqZLUCkqpoBRBkEqRglIJbE5t0UPx\n",
       "YLUW8b3sT3e72aEefDDDzHuz8828ee8twCYkj+2xFmwX9zI/3YQkVGxdOmNF//BGzdNf93SYWtMu\n",
       "4jhJil1MxH5sB4MIozPU3/bp74SToCxDohXgJM27WQQli92rQPMVaGjemZ8AeA2QwzuSL4sshNDK\n",
       "RHxvjNhajORhFuAQQAQ9EFVZiBiwEOFVj3mpWq1+pkEqLWYJEdOBxzNGmE+xh4mIzrrNgy9sfSpU\n",
       "+EqICO4/U62+ZyI67D3E5gXDZ4201FQHoXxy9CkoyhoiohhPpwCGmYjL1LVju5CXV33Wck5ZAfhm\n",
       "TkKaCzGgzCOCx2DpATFp66Wr1qC3Q+PfWOOPdIFpPOI0CLM+BEbzB4A+8zVdHk8Br+7DiOKwyXp0\n",
       "nd1MnFpJ45KTcNrSvUVCEy4RliFe8SHwer8R31Rn9LsRsCOE20vLiDFc7HfYThRQmRagso6AAfRl\n",
       "rAhlfxX5AmEM22hXfdLjQYwoeOkwYiCbxm4sTbEg/anplI/AXT9nVFyOovQtG3CsUVoIq07yxz0I\n",
       "ycB848i3z3IUCtIKVaP5RGaUFnCFyd024pEVUWUVmjhfWfsJT/BMU64sNeUBtkVE8JTW1/C1hYxE\n",
       "F5Jb+WyniRASdsqPWwjZ4OaEemj+oEjKmtZtcNeVF10O4hIRcY1AJw2h72NagsIqVhCSh0ulksoV\n",
       "lIq1BwxZCKXlZc9iXTNHPsmY1pHn7voyut0ql4NrRbO6xe3nK+flo2jcAjH1hnkLOGunWbzArFHg\n",
       "Sf7zD60CYkuvU4fytzr1MYjrRzCIcc5rkLCzhc/8A8InbU4xazswATdV6YwBIj3UULf1JyG5D076\n",
       "Bkl74A9xQxE3U3SsVPKGP8VYH7MYY+IHiOwNwXDAn03EVxGPMxjieKBxwTvl4b/IX5dCu+Ao0gGy\n",
       "AAAAAElFTkSuQmCC\n",
       "\" style=\"display:inline;vertical-align:middle;\" /></a><br>"
      ],
      "text/plain": [
       "<IPython.core.display.HTML object>"
      ]
     },
     "metadata": {},
     "output_type": "display_data"
    }
   ],
   "source": [
    "nat_interval_within_nat = (\n",
    "    Forall((a, b), ProperSubset(Interval(a, b), Natural),\n",
    "           domain=Natural))"
   ]
  },
  {
   "cell_type": "code",
   "execution_count": 23,
   "metadata": {},
   "outputs": [
    {
     "data": {
      "text/html": [
       "<strong id=\"natpos_interval_within_natpos\"><a class=\"ProveItLink\" href=\"proofs/natpos_interval_within_natpos/thm_proof.ipynb\">natpos_interval_within_natpos</a> (conjecture without proof):<br></strong> <a class=\"ProveItLink\" href=\"../__pv_it/theorems/859ccad1b543d6e4ebaf2efb45d2869ef19f255b0/theorem_expr.ipynb\"><img src=\"data:image/png;base64,iVBORw0KGgoAAAANSUhEUgAAAN8AAAAZBAMAAABDZua2AAAAMFBMVEX///8AAAAAAAAAAAAAAAAA\n",
       "AAAAAAAAAAAAAAAAAAAAAAAAAAAAAAAAAAAAAAAAAAAv3aB7AAAAD3RSTlMAq1RmmUTNIjK7EInv\n",
       "3XZ/CtNrAAAACXBIWXMAAA7EAAAOxAGVKw4bAAADQ0lEQVRIx7VWXUgUURQ+7ozt/OwfC0VixEJE\n",
       "9FAMQUERMqFGFuaWRFAPTolIvjRW9JLV2kMR/ShE0ITV+BKIyg4FBUJhRJRE5ENgFEvrSxBZhFCB\n",
       "D9K5M7Pz687sIl24l3vn3LnfOeee850LUHHbCstpIna6qj8i4rIAB7FHB6v54yEZuEMBO07JIYDQ\n",
       "UA3gLTJ8PRKwg6lTPV+4L0oP8O9flQDjuCFFJuvC8aKTxK0LZaTc0DSObMr7nc0cAMhbFiZwQzOZ\n",
       "dIcD0hoO/HQ58QpxSXHNDC9ADGhFmVLQRRwq3F/hZSazgYDJzNKAG9GYuGUhdKJq6FY+Ew44oAYC\n",
       "drjE3wqFwkcd8HTxrBOwBYASELSCmPkBgYDPnOLLTy0L5dUJzQE4h/1dofC2AsBV1om9zy/4xcd+\n",
       "pi1AbsZ2qczCbQcgccQegLvlUHh7quiRIwHUvoYHqi9K/6h5GRKTBkrWAciI4+MlpsGLyaHCEE2V\n",
       "DU2HCWToQ/+PCdDqp6EFiBUhOm9ErCNoZNgSGbLXF1EXVuUtjZgT5uT8viz1wgX4gTizC4c2gM9+\n",
       "zSRIYt4MHyeLfhdgjbrGXucRKlJ0aFRPUGeVbCQ1AXt9FjIt6Msp4H77AOMadGCoP9FV73UBcqlx\n",
       "h4XoUpAcDPcGexN+jDTQoPFNrU3NLpcilXCLQP1aKg3b1BIRxV2AcJN1JBeh20c9OIw2kFBmFmfV\n",
       "hEDu5NLhouaysM6MUm4eaqQNPsAc9xLFRtDQgk1tqHziqidd+1Ikkpm/hOs+JcQRPQhyE+vdgHOl\n",
       "tLgPm0Q95PISiU7TEoEV7TzsshmPUMpu+5Sd+mbUghYZoh0rUFK7AUgnBl2AFpUMf7+yNqd7TjRj\n",
       "iaRFfaMj8UdWmnnDnJwqFTaj7SpNYllC5BDL0altiqJkIjlOk1x5GAvmUnAR0dF7JrV5W6cVrjK7\n",
       "A7VKQixzzbAQDharqRYA4WKjWpj6ywPt6igWyO2Yl7imsnrtclZX4nKTSsryhBQCSFln1jZufgzX\n",
       "M8x+pIs7uL7RbZZmu6VJHZsPPG9MCAGMex4hRpUaVZRsuTfNmXTAcefSYRXA86apVQNfbRost3kL\n",
       "PfU/36X6HaNF/wAzrMVEVnewaAAAAABJRU5ErkJggg==\n",
       "\" style=\"display:inline;vertical-align:middle;\" /></a><br>"
      ],
      "text/plain": [
       "<IPython.core.display.HTML object>"
      ]
     },
     "metadata": {},
     "output_type": "display_data"
    }
   ],
   "source": [
    "natpos_interval_within_natpos = (\n",
    "    Forall((a, b), ProperSubset(Interval(a, b), NaturalPos),\n",
    "           domain=NaturalPos))"
   ]
  },
  {
   "cell_type": "code",
   "execution_count": 24,
   "metadata": {},
   "outputs": [
    {
     "data": {
      "text/html": [
       "<strong id=\"negint_interval_within_negint\"><a class=\"ProveItLink\" href=\"proofs/negint_interval_within_negint/thm_proof.ipynb\">negint_interval_within_negint</a> (conjecture without proof):<br></strong> <a class=\"ProveItLink\" href=\"../__pv_it/theorems/f27d29066465df640650d4ea725fb791497cb97b0/theorem_expr.ipynb\"><img src=\"data:image/png;base64,iVBORw0KGgoAAAANSUhEUgAAAN8AAAAZBAMAAABDZua2AAAAMFBMVEX///8AAAAAAAAAAAAAAAAA\n",
       "AAAAAAAAAAAAAAAAAAAAAAAAAAAAAAAAAAAAAAAAAAAv3aB7AAAAD3RSTlMAq1RmmUTNIjK7EInv\n",
       "3XZ/CtNrAAAACXBIWXMAAA7EAAAOxAGVKw4bAAADKElEQVRIx7VWTWgTQRR+abLZ7ebHqPgDQllQ\n",
       "UChqvAiKlEjT0iJqoHoRwYVapNXDVj0GuxXBg4W2ItXUv+0xVptaK2JRKYhoKNXeBEsgvXipBwmU\n",
       "SpTim91sdrKbbDZUH+wwM+/t+2be7wA4JncM1kme2sR3rRcP2KFapHmRDKft9O2upqOpFsD6MA7f\n",
       "z9iJ9I+ad+ou/enOPAjry4ACECKTnQ4A4+T/fCVucp6Mw+bt4LAMotdYIloLmVxwAHgMP99CRfZ5\n",
       "Mry1hEkEguEp4BJId9EjeOB+p85csQfMlQV0SZDkKe2dAF40q0+ojsflbQGZPA0YfJjJZGQSZABt\n",
       "LtkQa8fsQo96HVwwuGALqHEKgNxFyTho6AYl9gO/+UxmzgGgS9TV9r67ZmV7G5aEIuAziQpuhQ7d\n",
       "c2jPNoBRJ1lBPOFBVOYjPFYs7FQPv6pdAGkLxWh0Z6nVIJq3F9iQA0AvEYqj/Z+G4biVvV+BzwB9\n",
       "WjCIFEMs8VdfjNzZVyySXLduwPT0/UiJxgAue7twchJg0QrYCvAbY2SroLqNcr3wEsAwSAqh6rLU\n",
       "GXYQ+aVELCD5JhTLDbl23EsDv2IFXAQGE8PXpZY4CjBJUm6bcUMSsSJV4T7hF8VNN1y/Amw0Gm0p\n",
       "MWl9CPg1cP8sl4aevGpYQlQsb8dM5A35QRJOUz04jDe9IpdbW1KCWuWLRExROqRFKZ/DgLVW6V/E\n",
       "t/BGWzQbSRE5hb8ulEQpxPHs/FdulVj8WzCS1JrfZdmUh7OFtHgEe7XDpER9QNoMd4w89MaMpOgB\n",
       "9rZRao6oZ5dJzeNm1Y7gFjtUzoSvXCkhgGPLNxtkPYy0AWlsOmwA8sN6Uzk7kk58SU8WtRzVJ/4Y\n",
       "KeTglz2hg1hnBZicgSeliB/saynQpY15XShtZuoshqtUfxjNuwH8wi31jz1hmKmpW0DZ4m1u4sX2\n",
       "5pcGO5RxbJCH0OxEswcYk/IB3ZE21FrtWVRMGKZ53wsYELgTWWDv4frAxuURU/1xYU6zOfsLvK8C\n",
       "GJBK11phGk8kYpXeNFc32b1pnldrc6Y3DaPYSjf+81eb+7+/S/FGfwF+Gb9ZFg9mWwAAAABJRU5E\n",
       "rkJggg==\n",
       "\" style=\"display:inline;vertical-align:middle;\" /></a><br>"
      ],
      "text/plain": [
       "<IPython.core.display.HTML object>"
      ]
     },
     "metadata": {},
     "output_type": "display_data"
    }
   ],
   "source": [
    "negint_interval_within_negint = (\n",
    "    Forall((a, b), ProperSubset(Interval(a, b), IntegerNeg),\n",
    "           domain=IntegerNeg))"
   ]
  },
  {
   "cell_type": "code",
   "execution_count": 25,
   "metadata": {},
   "outputs": [
    {
     "data": {
      "text/html": [
       "<strong id=\"nat_within_int\"><a class=\"ProveItLink\" href=\"proofs/nat_within_int/thm_proof.ipynb\">nat_within_int</a> (conjecture without proof):<br></strong> <a class=\"ProveItLink\" href=\"../__pv_it/theorems/2474761cf02407fcd54ac30926fa848232fdc9f10/theorem_expr.ipynb\"><img src=\"data:image/png;base64,iVBORw0KGgoAAAANSUhEUgAAADkAAAAQBAMAAABelcpIAAAAMFBMVEX///8AAAAAAAAAAAAAAAAA\n",
       "AAAAAAAAAAAAAAAAAAAAAAAAAAAAAAAAAAAAAAAAAAAv3aB7AAAAD3RSTlMAEN27zYnvRFSrImZ2\n",
       "MpmnAiL6AAAACXBIWXMAAA7EAAAOxAGVKw4bAAAA/klEQVQY02MQ+mwiwBD2rYABBbTkpxgpZwMZ\n",
       "FuwTGBg/oEoyHJ7LwMLgAGRMWhDNwJCAJvuOgeE0awOQMcOAZQGDAprsLAZGA2EwYw+XA0z2sJKS\n",
       "ki6IIcDAd2EuWJbzwlGo7JUohO6bvA8ghhgwF4BlGbWQzDZkFoDI3mNUBMtyInmLI2AP1AHcDc1g\n",
       "N7MgaYX4ByTLMJETLHsTSfYEawEDI0RWkhFs8kqEJKPBYqBNC8CyvAcMQEJMCFnOC0BheSDDFojP\n",
       "gmX5NsBl77ED/TMJyPAAiUOc4I7wD4sAw+JmYAh8A+pjhMgKTxeASLInuxmbfTNFC95SI2hIQgEA\n",
       "ReU3Hj/DorcAAAAASUVORK5CYII=\n",
       "\" style=\"display:inline;vertical-align:middle;\" /></a><br>"
      ],
      "text/plain": [
       "<IPython.core.display.HTML object>"
      ]
     },
     "metadata": {},
     "output_type": "display_data"
    }
   ],
   "source": [
    "nat_within_int = ProperSubset(Natural, Integer)"
   ]
  },
  {
   "cell_type": "code",
   "execution_count": 26,
   "metadata": {},
   "outputs": [
    {
     "data": {
      "text/html": [
       "<strong id=\"nat_pos_within_int\"><a class=\"ProveItLink\" href=\"proofs/nat_pos_within_int/thm_proof.ipynb\">nat_pos_within_int</a> (conjecture without proof):<br></strong> <a class=\"ProveItLink\" href=\"../__pv_it/theorems/90ac6a2124ab0233f6fa884959824a61353e08760/theorem_expr.ipynb\"><img src=\"data:image/png;base64,iVBORw0KGgoAAAANSUhEUgAAAEYAAAATBAMAAADfQ2bzAAAAMFBMVEX///8AAAAAAAAAAAAAAAAA\n",
       "AAAAAAAAAAAAAAAAAAAAAAAAAAAAAAAAAAAAAAAAAAAv3aB7AAAAD3RSTlMAEN27zYnvRFSrImZ2\n",
       "MpmnAiL6AAAACXBIWXMAAA7EAAAOxAGVKw4bAAABGUlEQVQoz2NggAM+BsKAmSI1Qp9NBBjCvhVg\n",
       "U8Ph9s1ZyWwDA4MF+wQGxg9YzeGxvMDgwAJkTFoQzcCQwPDY2MzYeAOqGr4HDDwbIoCMGQYsCxgU\n",
       "sJrDuYBBmNEAyJi1h8sBVQ2PkZKS0gUgg5GB4S0niDGL88JRFDW8rgvgJvFOuAeiZjEYMBcgqxFa\n",
       "gBQeAoYQNfcYFRWQwnk6kotauQ9A1HA3NCcgiTsgs1kYIGoYJnIiqeGdgBRADeEMDAJgNZKMCghx\n",
       "LiQ1wlwGYAVAxHvAAMl8JPVzgSEEigNbIPsssprXCGsf1AEDEqjHA+QlZHeyFCB87sjAZWHAcOUb\n",
       "0AxGZDWMloVQVplJsnF+cgC25MIeDI0LKAAAgmM5tAHArggAAAAASUVORK5CYII=\n",
       "\" style=\"display:inline;vertical-align:middle;\" /></a><br>"
      ],
      "text/plain": [
       "<IPython.core.display.HTML object>"
      ]
     },
     "metadata": {},
     "output_type": "display_data"
    }
   ],
   "source": [
    "nat_pos_within_int = ProperSubset(NaturalPos, Integer)"
   ]
  },
  {
   "cell_type": "code",
   "execution_count": 27,
   "metadata": {},
   "outputs": [
    {
     "data": {
      "text/html": [
       "<strong id=\"nat_pos_within_nonzero_int\"><a class=\"ProveItLink\" href=\"proofs/nat_pos_within_nonzero_int/thm_proof.ipynb\">nat_pos_within_nonzero_int</a> (conjecture without proof):<br></strong> <a class=\"ProveItLink\" href=\"../__pv_it/theorems/74faa9717bb327e25aca36f6b3599acb9ebb42b10/theorem_expr.ipynb\"><img src=\"data:image/png;base64,iVBORw0KGgoAAAANSUhEUgAAAFsAAAAVCAMAAAAeumK3AAAAOVBMVEX///8AAAAAAAAAAAAAAAAA\n",
       "AAAAAAAAAAAAAAAAAAAAAAAAAAAAAAAAAAAAAAAAAAAAAAAAAAAAAAACXHtMAAAAEnRSTlMAEN27\n",
       "zYnvRFSrImZ2Mpnt5cluJTbxAAAACXBIWXMAAA7EAAAOxAGVKw4bAAABb0lEQVQ4y7WVi3bDIAiG\n",
       "Ubxh1G2+/8MOjEm2LLRr13Eae4KeLwR+CMCLzcC/mY9j9cVrJ9qz6EyyLgUgonIEn2VTljVUXnp+\n",
       "LTuOTOQuSQ8JjO2ITm586CH+np0cn3doLYaFs4hib3wtUAfbLgJKEEeaTH8k7oIkr+7Gb7qW8bey\n",
       "Q5Ec2Qx+eAPMAAKOAG5aaxPn0ya/GdKaky5uSuxzknn7SNyjbIxbiRLS+8cM6aglZdZMdrfZhRM7\n",
       "rH5rklaBNk+l/bBokGYAvC9iV9nV+UtFMa7uvYBHS3LvNLO9HMMwqmxjNa2ag5iKkjh+urHGKn1J\n",
       "UZGhHy24mlOLsiRIGJSyOd2/b6Wo9ykZIIV9FOlU3zRHk7kzAwzBkZOrAfRzmiJk/ELQ2VCLKuvr\n",
       "Z7K4ZlhdjRunQEvV2O2qRbn8ca05WZXttp5tTj0SL/U3RlzGpMVUXQ9zz6hsgxRPBYsBnYwdHobo\n",
       "//atih5PPX/fPgFqrwmDbLyDgQAAAABJRU5ErkJggg==\n",
       "\" style=\"display:inline;vertical-align:middle;\" /></a><br>"
      ],
      "text/plain": [
       "<IPython.core.display.HTML object>"
      ]
     },
     "metadata": {},
     "output_type": "display_data"
    }
   ],
   "source": [
    "nat_pos_within_nonzero_int = ProperSubset(NaturalPos, IntegerNonZero)"
   ]
  },
  {
   "cell_type": "code",
   "execution_count": 28,
   "metadata": {},
   "outputs": [
    {
     "data": {
      "text/html": [
       "<strong id=\"nonzero_int_within_int\"><a class=\"ProveItLink\" href=\"proofs/nonzero_int_within_int/thm_proof.ipynb\">nonzero_int_within_int</a> (conjecture without proof):<br></strong> <a class=\"ProveItLink\" href=\"../__pv_it/theorems/6b87694d7c19efa4ee1977d07f61d2d814956bee0/theorem_expr.ipynb\"><img src=\"data:image/png;base64,iVBORw0KGgoAAAANSUhEUgAAAE4AAAAVCAMAAADfPSgbAAAAOVBMVEX///8AAAAAAAAAAAAAAAAA\n",
       "AAAAAAAAAAAAAAAAAAAAAAAAAAAAAAAAAAAAAAAAAAAAAAAAAAAAAAACXHtMAAAAEnRSTlMAVM3v\n",
       "u91mdqsymYkiEETt5cn1eqECAAAACXBIWXMAAA7EAAAOxAGVKw4bAAABKUlEQVQ4y61Ui27EIAzj\n",
       "Ecqb7fj/j10IvRswOFZdoxaprWzViR3GFhXZneUTnV77O9iCKeehGUtwA50J5ZQWjxw+ZkskMeTS\n",
       "QMkvQbmQWQpQCuTBmINSX3gfzBKdOq7gmQZTNAm6aunKUOmkfk834J07GfxTVTy7X8XmjdgBT11H\n",
       "hkpSxH4/gMT+bxQ9vvrVWUa/TBrNS0cxihmkqVq283uLJwbrng/wGwi0sWvjYYWf/muHJ4YXCV+3\n",
       "PqqF8BaPDJ4CUEu8aVNaeKXF9ybhaU0n1u+bT5qfid9sEWsWzuvwOOEATVI3e+FvR3s8TrjyxLzJ\n",
       "o5p3tMPjhFMdslEbOjeL74DHCYsiOgDfrjaRpiZp8EmCkJgpXAuw3bwRTBrmdQk/2YQwhKyrH4W+\n",
       "CcNHcXudAAAAAElFTkSuQmCC\n",
       "\" style=\"display:inline;vertical-align:middle;\" /></a><br>"
      ],
      "text/plain": [
       "<IPython.core.display.HTML object>"
      ]
     },
     "metadata": {},
     "output_type": "display_data"
    }
   ],
   "source": [
    "nonzero_int_within_int = ProperSubset(IntegerNonZero, Integer)"
   ]
  },
  {
   "cell_type": "code",
   "execution_count": 29,
   "metadata": {},
   "outputs": [
    {
     "data": {
      "text/html": [
       "<strong id=\"neg_int_within_int\"><a class=\"ProveItLink\" href=\"proofs/neg_int_within_int/thm_proof.ipynb\">neg_int_within_int</a> (conjecture without proof):<br></strong> <a class=\"ProveItLink\" href=\"../__pv_it/theorems/4dc7ff92722274d792add06c3fd4114a47e532490/theorem_expr.ipynb\"><img src=\"data:image/png;base64,iVBORw0KGgoAAAANSUhEUgAAAEYAAAAQBAMAAABZ1xRdAAAAMFBMVEX///8AAAAAAAAAAAAAAAAA\n",
       "AAAAAAAAAAAAAAAAAAAAAAAAAAAAAAAAAAAAAAAAAAAv3aB7AAAAD3RSTlMAVM3vu91mdqsymYki\n",
       "EESqKsraAAAACXBIWXMAAA7EAAAOxAGVKw4bAAAAzElEQVQoz2NgVP6sEuqcwIANwOTYPSYwKDBh\n",
       "VQKX41rAwJ6wkYHTBQh80NRA5Rg4DjBc4XXAbg5MjpeBYSXHBFQrXENDQ0FCCDnOhlkoSji1DyDY\n",
       "UDmWC74oaq4ilMDlpNkKUNT0IbFhcug+V0BmQ+TYBfYxMFxAck4Dkuuhcld4gL7rQYjzIKmByXUC\n",
       "Q4H3A5L5AQgmVI5zwStgYCGJMyxDWAuVY7mgy8DjiBzQTA8QPofIPXYycbE32YCkhtfjLZSFKQcH\n",
       "fFugcQEFAP1COvCI0MvmAAAAAElFTkSuQmCC\n",
       "\" style=\"display:inline;vertical-align:middle;\" /></a><br>"
      ],
      "text/plain": [
       "<IPython.core.display.HTML object>"
      ]
     },
     "metadata": {},
     "output_type": "display_data"
    }
   ],
   "source": [
    "neg_int_within_int = ProperSubset(IntegerNeg, Integer)"
   ]
  },
  {
   "cell_type": "code",
   "execution_count": 30,
   "metadata": {},
   "outputs": [
    {
     "data": {
      "text/html": [
       "<strong id=\"neg_int_within_nonzero_int\"><a class=\"ProveItLink\" href=\"proofs/neg_int_within_nonzero_int/thm_proof.ipynb\">neg_int_within_nonzero_int</a> (conjecture without proof):<br></strong> <a class=\"ProveItLink\" href=\"../__pv_it/theorems/0085258884711de3f9dc474391146a1c68cd09ec0/theorem_expr.ipynb\"><img src=\"data:image/png;base64,iVBORw0KGgoAAAANSUhEUgAAAFsAAAAVCAMAAAAeumK3AAAAOVBMVEX///8AAAAAAAAAAAAAAAAA\n",
       "AAAAAAAAAAAAAAAAAAAAAAAAAAAAAAAAAAAAAAAAAAAAAAAAAAAAAAACXHtMAAAAEnRSTlMAVM3v\n",
       "u91mdqsymYkiEETt5cn1eqECAAAACXBIWXMAAA7EAAAOxAGVKw4bAAABIUlEQVQ4y7VU7XKEIAwM\n",
       "EOSbtrz/wx4BemhHpDJeRvkR2Cib3QA8HAE+Fi6W1Sn3eGmvad0UQMSna2tPqzB5Sf7Z0rEw4ROR\n",
       "LhgA4yIJjlKi2O7UOeIsUnzldwNTasucVajpCrw8N+IEp+rP1doik25tSztGefyNGV1HXJFfa1/l\n",
       "JLFGf04HXGjbG0ecfP9g4aT3sojdGig3vGBA1jAHk+xxRr8PkwZ1Txt7Udlwd0rRAYfdktk7NvQ0\n",
       "Xpg1yAH5exxT53JyxUpjaiPMcQOVzfTHYY5j599XrI2YAS29SfdwVUced9NgMIDu42jHtM2QBifk\n",
       "Io5EFKuOtBxZcFvDkYg4EeaRDZ3J4xIuCuQiWzUPNXTjlugYFnD/ncz4x/PzeAEqygn8UkMz8wAA\n",
       "AABJRU5ErkJggg==\n",
       "\" style=\"display:inline;vertical-align:middle;\" /></a><br>"
      ],
      "text/plain": [
       "<IPython.core.display.HTML object>"
      ]
     },
     "metadata": {},
     "output_type": "display_data"
    }
   ],
   "source": [
    "neg_int_within_nonzero_int = ProperSubset(IntegerNeg, IntegerNonZero)"
   ]
  },
  {
   "cell_type": "code",
   "execution_count": 31,
   "metadata": {},
   "outputs": [
    {
     "data": {
      "text/html": [
       "<strong id=\"neg_int_within_nonpos_int\"><a class=\"ProveItLink\" href=\"proofs/neg_int_within_nonpos_int/thm_proof.ipynb\">neg_int_within_nonpos_int</a> (conjecture without proof):<br></strong> <a class=\"ProveItLink\" href=\"../__pv_it/theorems/8231f4a5f9386a3b1b61110cd2241d7603b3a6dc0/theorem_expr.ipynb\"><img src=\"data:image/png;base64,iVBORw0KGgoAAAANSUhEUgAAAFoAAAAUBAMAAAD/1DctAAAAMFBMVEX///8AAAAAAAAAAAAAAAAA\n",
       "AAAAAAAAAAAAAAAAAAAAAAAAAAAAAAAAAAAAAAAAAAAv3aB7AAAAD3RSTlMAVM3vu91mdqsymYki\n",
       "EESqKsraAAAACXBIWXMAAA7EAAAOxAGVKw4bAAABZUlEQVQoz2NgIA6IHGDYXc1ArOICBrYCPgfi\n",
       "FKckMDAwT2D4Q5TiEgEgcf4CgyEDo/JnlVDnBKyqhOyNXEPMGCaDFDPMv8AQxsDuMYFBgQmHmZ0M\n",
       "TAwKDIzeFyCqzRm4FjCwJ2xk4HQBAh801asYGMq4gQbzgZQDXfKRgeMAwxVeHJ7tYeB1uAJicHYd\n",
       "gPiSl4FhJccEVAeEhoZGghgXGLgmdIKFeDousBfwNYA0NsxCUTxpD4I9g3MBhMHDwLC7CuR8lgu+\n",
       "yIp5Y5A4viwX0FwnzVaAzOV4gGAzbkhH9wta+DGhsBWA5BRQeB2AiLAL7AP5B+FUJNWF3A9AwYAE\n",
       "rvA4gMIKDk4gecHhCAMoiJFAJ5DL+wHBZ0XywgSgKfeRFXMueAUUDkAIcCHSzCw+YPi1IqtmuaDL\n",
       "wOOIHJl6iPBjusBwRARZ9WMnExd7kw3IHumD+pnPRNnF+bM3geT82hUa8xgAAAYqU+iofexgAAAA\n",
       "AElFTkSuQmCC\n",
       "\" style=\"display:inline;vertical-align:middle;\" /></a><br>"
      ],
      "text/plain": [
       "<IPython.core.display.HTML object>"
      ]
     },
     "metadata": {},
     "output_type": "display_data"
    }
   ],
   "source": [
    "neg_int_within_nonpos_int = ProperSubset(IntegerNeg, IntegerNonPos)"
   ]
  },
  {
   "cell_type": "code",
   "execution_count": 32,
   "metadata": {},
   "outputs": [
    {
     "data": {
      "text/html": [
       "<strong id=\"nonpos_int_within_int\"><a class=\"ProveItLink\" href=\"proofs/nonpos_int_within_int/thm_proof.ipynb\">nonpos_int_within_int</a> (conjecture without proof):<br></strong> <a class=\"ProveItLink\" href=\"../__pv_it/theorems/d0b8d558cb9d2d225dd7a9e8b19d164ee607dc3f0/theorem_expr.ipynb\"><img src=\"data:image/png;base64,iVBORw0KGgoAAAANSUhEUgAAAE4AAAAUBAMAAADRkRa/AAAAMFBMVEX///8AAAAAAAAAAAAAAAAA\n",
       "AAAAAAAAAAAAAAAAAAAAAAAAAAAAAAAAAAAAAAAAAAAv3aB7AAAAD3RSTlMAVM3vu91mdqsymYki\n",
       "EESqKsraAAAACXBIWXMAAA7EAAAOxAGVKw4bAAABI0lEQVQoz2NgQABGHwbu7RsYCAFGdwaGdIYn\n",
       "hJSxuQEJSwb+A/iVsTsCCZ6/DMwCOGxT/qwS6pzAaQjicP5lYE3AKs/A7jGBQYGJgUFkL0QdcwGa\n",
       "PVB5rgUM7AkbgQJP9oLt5UezFybPcYDhCq8DSGTGGmz+gMnzMjCs5JgAFjrRy1DO8AJqnWtoaChI\n",
       "GCHP2TALqvcAMJzXglmc2ghjYfIsF3wxQuEqku0weWm2Agx1fUhsmDzI1wycLkDgA5dTQFIHlge6\n",
       "WGAfA8MFVOM4G5ACECp/hQfo6x5UdTxI6mDyncAQ4v2A5r4ABBMqz7ngFTAwA9DULUM4ASrPckGX\n",
       "gcfRAU0d0wNEqEDkHzuZuNiboKdiXo+3UBZ2eTjg2wKNNygAADo+TuGga1GGAAAAAElFTkSuQmCC\n",
       "\" style=\"display:inline;vertical-align:middle;\" /></a><br>"
      ],
      "text/plain": [
       "<IPython.core.display.HTML object>"
      ]
     },
     "metadata": {},
     "output_type": "display_data"
    }
   ],
   "source": [
    "nonpos_int_within_int = ProperSubset(IntegerNonPos, Integer)"
   ]
  },
  {
   "cell_type": "code",
   "execution_count": 33,
   "metadata": {},
   "outputs": [
    {
     "data": {
      "text/html": [
       "<strong id=\"zero_is_int\"><a class=\"ProveItLink\" href=\"proofs/zero_is_int/thm_proof.ipynb\">zero_is_int</a> (conjecture with conjecture-based proof):<br></strong> <a class=\"ProveItLink\" href=\"../__pv_it/theorems/5f598aa5221de43b5e98d614f0c7f6ba2eb6c5d00/theorem_expr.ipynb\"><img src=\"data:image/png;base64,iVBORw0KGgoAAAANSUhEUgAAADIAAAAQBAMAAACmdTG/AAAAMFBMVEX///8AAAAAAAAAAAAAAAAA\n",
       "AAAAAAAAAAAAAAAAAAAAAAAAAAAAAAAAAAAAAAAAAAAv3aB7AAAAD3RSTlMAiXaZIs1UEN1mu6sy\n",
       "RO+L2jdBAAAACXBIWXMAAA7EAAAOxAGVKw4bAAAA9klEQVQY02NgwABscf+iOtZNYGBgFDJBlWFa\n",
       "fYAhgBXICGOocECRYTZgYJogxsDA2cDAuABFhtuBoYodKMS1gYHtO8SUFR2tIJqdgcGG+wADA78B\n",
       "A883kABvUAFMF8+Gw0CyHijzE8R1hUswcBUsB5L+Agw8n0DcEIRNiZwKUJmPIG4AQgbsZoZ6AQZe\n",
       "kB6eFx0dHV0QpyTIMjAUgFzABnIBO8LpVSxA9hYGrgUMnGBXN8Bl9gB9xP6BgfMBAzPYCiW4mw0u\n",
       "A70LVNjGUHcAJMCaAHdzOAPLMqCBxUJ7wALsu65DZO4tfbXq/SsBpPDilYKEDhQAADDlN5QO5iEu\n",
       "AAAAAElFTkSuQmCC\n",
       "\" style=\"display:inline;vertical-align:middle;\" /></a><br>(alternate proof for <a class=\"ProveItLink\" href=\"#zero_is_int\">zero_is_int</a>)<br>"
      ],
      "text/plain": [
       "<IPython.core.display.HTML object>"
      ]
     },
     "metadata": {},
     "output_type": "display_data"
    }
   ],
   "source": [
    "# Proven\n",
    "zero_is_int = InSet(zero, Integer)"
   ]
  },
  {
   "cell_type": "code",
   "execution_count": 34,
   "metadata": {},
   "outputs": [
    {
     "data": {
      "text/html": [
       "<strong id=\"nonzero_if_in_nonzero_int\"><a class=\"ProveItLink\" href=\"proofs/nonzero_if_in_nonzero_int/thm_proof.ipynb\">nonzero_if_in_nonzero_int</a> (conjecture without proof):<br></strong> <a class=\"ProveItLink\" href=\"../__pv_it/theorems/ceceed85b6867326ed2a47605faa64f5c904aeae0/theorem_expr.ipynb\"><img src=\"data:image/png;base64,iVBORw0KGgoAAAANSUhEUgAAAIcAAAAVCAMAAABblw1wAAAASFBMVEX///8AAAAAAAAAAAAAAAAA\n",
       "AAAAAAAAAAAAAAAAAAAAAAAAAAAAAAAAAAAAAAAAAAAAAAAAAAAAAAAAAAAAAAAAAAAAAAAAAACC\n",
       "gUnDAAAAF3RSTlMAq1RmmUTNIjK7EInv3Xah18O15/Xp87zmPDoAAAAJcEhZcwAADsQAAA7EAZUr\n",
       "DhsAAAI3SURBVEjHvVYJcuQgDDQgLnFkb///p4sEePA9ibeWSpHCDFKr1RJM0z8d9j+duRlZXu8D\n",
       "HnzUmWaxrKV6CkOG633nx1UIGZiLTI5B9+/mKUFobn7g3bAwhTtM7NMUmlwnxPqndMANoU4MC5WY\n",
       "E3aqoIHhT/IpjnhHx0i4Z1ByZu+xzKpFYR6r48aCHumYZmCKZo7eEIaYaMTwOC3dghUh27zbX+kP\n",
       "Ow5mIRBEYPV4fIrDNGJ1LA79vNgDjjP9/EXzosY5VByMVxmG36f3qoIM2CzztrxSFRhGLsN0SccL\n",
       "B/+TsVMR9JlfEX2A8reE1yttK4dYTcDMoLZp1rCOpgLQlQ/HZ2Q+UqnLwvtimko8YO40K80xN5Ef\n",
       "4Iie3ehLOrpOZdWpjq1U1E5WAK3pFJadtMR1AICPb1A6nyXWkzvKC3KEah4skS5+/6kqWdLva+eo\n",
       "MpKptY7eRDCoHGzvta9UrLPS+NhE6HPFQXCEmeRq22zLQDEFUPOgag+1scGkPuvmYgDH5qqs5NAL\n",
       "H99/APHBadymMogFjkwDdA4Ydnkn+jC6VckL15NRkkBA9UAH5qmLDru5Ui9qWy+ukosiB2dFdpd0\n",
       "kK2Qu9+k91LLggva8yCOQ5FpOYZn9/YrQvfFi9huihwpJV4Vl+51UEvHIsVWK+dDwWmLw89dkJHk\n",
       "oRWO7TVwpnV6o8X5k5eDuqFjd9NrUDIHxXu9bIUoCffmnX6LJ0+HhF+C3yqY9KE/+dTMxw+P68ck\n",
       "wfgLizYRIDdHQkUAAAAASUVORK5CYII=\n",
       "\" style=\"display:inline;vertical-align:middle;\" /></a><br>"
      ],
      "text/plain": [
       "<IPython.core.display.HTML object>"
      ]
     },
     "metadata": {},
     "output_type": "display_data"
    }
   ],
   "source": [
    "nonzero_if_in_nonzero_int = Forall(a, NotEquals(a, zero), domain=IntegerNonZero)"
   ]
  },
  {
   "cell_type": "code",
   "execution_count": 35,
   "metadata": {},
   "outputs": [
    {
     "data": {
      "text/html": [
       "<strong id=\"negative_if_in_neg_int\"><a class=\"ProveItLink\" href=\"proofs/negative_if_in_neg_int/thm_proof.ipynb\">negative_if_in_neg_int</a> (conjecture without proof):<br></strong> <a class=\"ProveItLink\" href=\"../__pv_it/theorems/4d273e0b719c8a98df0f455aea09322d55d6340b0/theorem_expr.ipynb\"><img src=\"data:image/png;base64,iVBORw0KGgoAAAANSUhEUgAAAH8AAAAVBAMAAACd/CwcAAAAMFBMVEX///8AAAAAAAAAAAAAAAAA\n",
       "AAAAAAAAAAAAAAAAAAAAAAAAAAAAAAAAAAAAAAAAAAAv3aB7AAAAD3RSTlMAq1RmmUTNIjK7EInv\n",
       "3XZ/CtNrAAAACXBIWXMAAA7EAAAOxAGVKw4bAAACA0lEQVQ4y42Uz0sbQRTHv8lmk81sEuI/IAs9\n",
       "1EtrCuJB/BEwKYUiDXi3oRfB02p7VLFePHhQL+Iq6HgRNMUGFUQF8dZKKQgKCqJEETx4kWLpQZC+\n",
       "WXc1E7KrA8u+eTPvs+9938wCT4+I54qJZ41zz5UuepLCeOEXHyxWdW9dmEikgKyYdPsBFqp6wwY7\n",
       "BHqAr6LIcT9Ae1VvC7ABNBCJA7rhB9ipLMnOdwKo54hxKFRG2FeCvDxXDrh43QBjBsIU/fvk5Jcf\n",
       "ICQ07N0edKaJYzueCUAKOvXgHTDtBxAfUX9gzo5D4dQ5G7cEKEGh9HoRSfoB4iTQtxQ67MmXfZQB\n",
       "igiSQFGu58r2B3bXZtLlgBitfgCO7cVPrpcR4GMJ2jWJVHrQUDuzcnFTX+aVgF2wvzJAiFhvQBUt\n",
       "yre6zswQiYzhz4hkMpnsYwnsDsq1XAIsoI0juEfmSo8Qp3XdPpg00lIFiJbA/iCQfymJiGbgLX1O\n",
       "HMF+0pAdav+weN/nviEJIDo1i1cudvmUO4mxn06PAxQQSms76Lzfoctd0CjL+auRWherOAfh/Rl5\n",
       "4rkHpRJJNFqWZaC4iSWJcFTRV6Xs6g24xncz2sRHhaXWpbApBTQ856LFzLFOHhW56SGoe7KK3v+d\n",
       "x2ustr9eRWSKrDc1V5PyyWTel72SXbCsXJVtg56AS+A/OSN2lpi37wEAAAAASUVORK5CYII=\n",
       "\" style=\"display:inline;vertical-align:middle;\" /></a><br>"
      ],
      "text/plain": [
       "<IPython.core.display.HTML object>"
      ]
     },
     "metadata": {},
     "output_type": "display_data"
    }
   ],
   "source": [
    "negative_if_in_neg_int = Forall(a, Less(a, zero), domain=IntegerNeg)"
   ]
  },
  {
   "cell_type": "code",
   "execution_count": 36,
   "metadata": {},
   "outputs": [
    {
     "data": {
      "text/html": [
       "<strong id=\"nonpos_if_in_nonpos_int\"><a class=\"ProveItLink\" href=\"proofs/nonpos_if_in_nonpos_int/thm_proof.ipynb\">nonpos_if_in_nonpos_int</a> (conjecture without proof):<br></strong> <a class=\"ProveItLink\" href=\"../__pv_it/theorems/3088a17093724247b013419bae336582e910f16e0/theorem_expr.ipynb\"><img src=\"data:image/png;base64,iVBORw0KGgoAAAANSUhEUgAAAIcAAAAVBAMAAACeZ+BxAAAAMFBMVEX///8AAAAAAAAAAAAAAAAA\n",
       "AAAAAAAAAAAAAAAAAAAAAAAAAAAAAAAAAAAAAAAAAAAv3aB7AAAAD3RSTlMAq1RmmUTNIjK7EInv\n",
       "3XZ/CtNrAAAACXBIWXMAAA7EAAAOxAGVKw4bAAACQElEQVQ4y52UT2jTcBTHv03SpmmaUhFFECQw\n",
       "EEHYKsgOolthrQx2CewqOvSg7JS5Hd2oXmVsXjajIBG8zOFa/8B0Xgoi/kMoOtlAKhkIG3jZQRD0\n",
       "4nvZkrRpu4g/SPve7/d7n9/vfd9LgH8b5n+shEdG77h0np4sG11RkOPtp19+N5HJAUV2LkcwUiOh\n",
       "CcGNSOipNWAUuE6OPBsBkXLNvrhq898Z4AVwkmjkqnoEJB1S6KvLwC2gx0bahkiHJKIkOdrkLX7b\n",
       "NX4CMzoSRPhYr3+Iggxxzoc3Hdd58NlTiiE5qFSbQeBOWzEb7Ev0nDOV32zfv+jNyn8I4kAk1ccg\n",
       "Z9swxEOY6vYa6RMxX0GqsR1rhlQgVAHFVo2G4Ni7Z3fzlPcg186r7Gsq0Da0iutM+OkQ5IKD5DaV\n",
       "3PF1TW5YhmaqSzYmlmlPFe8DSHoWZaNV2B4dcboJRvo8SKFEaeDGOOQvfNsa1oN0yg76wyW2gH4b\n",
       "Amf5ZJTpfctuA9PIUzbiAfcmb3aj7hFEx0HBbG6208BZcrhVr5GuqbXkLyzsbLha4r7eT1f0NXlM\n",
       "0jnCqhS0/RX+1fTUW1KLpYpRkJRPVjHsri+pO/oUMdXlnTxNxxx5PrYV7oKhDYrVvLqkjUwWvZZl\n",
       "6ais4GG43lppj06c9IyyqZyyb7IVP5bDilwoFIqNTZPfAzLgv2HmzLCtsFqqhHitZeN8YD6q81j3\n",
       "/eATEB/ofgr5Nlkn9v2Ya+3ghc4XUULfx0XLMtrvlJ2OkE3gL/KGiVvR8vBtAAAAAElFTkSuQmCC\n",
       "\" style=\"display:inline;vertical-align:middle;\" /></a><br>"
      ],
      "text/plain": [
       "<IPython.core.display.HTML object>"
      ]
     },
     "metadata": {},
     "output_type": "display_data"
    }
   ],
   "source": [
    "nonpos_if_in_nonpos_int = Forall(a, LessEq(a, zero), domain=IntegerNonPos)"
   ]
  },
  {
   "cell_type": "code",
   "execution_count": 37,
   "metadata": {},
   "outputs": [
    {
     "data": {
      "text/html": [
       "<strong id=\"nonzero_int_is_int_nonzero\"><a class=\"ProveItLink\" href=\"proofs/nonzero_int_is_int_nonzero/thm_proof.ipynb\">nonzero_int_is_int_nonzero</a> (conjecture without proof):<br></strong> <a class=\"ProveItLink\" href=\"../__pv_it/theorems/73dd78388565d1f4ec670fad59b8bf5a57c1d3ff0/theorem_expr.ipynb\"><img src=\"data:image/png;base64,iVBORw0KGgoAAAANSUhEUgAAAL8AAAAbCAMAAAAaua7MAAAAOVBMVEX///8AAAAAAAAAAAAAAAAA\n",
       "AAAAAAAAAAAAAAAAAAAAAAAAAAAAAAAAAAAAAAAAAAAAAAAAAAAAAAACXHtMAAAAEnRSTlMAq1Rm\n",
       "mUTNIjK7EInv3Xbt5cmRiLwgAAAACXBIWXMAAA7EAAAOxAGVKw4bAAAC3UlEQVRYw9VYi5KkIAyU\n",
       "N+F1d/7/x14CKDii6znjXi01a6kVpEk6nbDT9IOGm3708CpfffL/C4FQb0w2LH8iTZMCvJHfD5+/\n",
       "tSYzdA0WLzPeGvh2+up3ZqvMGjNTEgReI/GtA8TlQOkwBw0xQsA5Emj8wj8x2Yw/5i9FumVtkngW\n",
       "vgmXTRMwoonOv/qqoCv4Q3Z9IuxyTSltnsUvr8uGlBWy5wv3KtsLf+b82tG9XQLweD7M6t9SFSEX\n",
       "1MSf338g86flL3mcYqJrVVi3+tAokT/iS8Sht4VK2imzKE9eaZ5IP+uTpO2JSnv9sPtTPFQWnQZb\n",
       "Q8h21VtoBli/ZH1KOaMC7T2Gp4sa02sd8sl02mf0MDAIeUXNx1Kpckilfdnhl9l1q0WBml8qIHmh\n",
       "I9NYN7jvBF4fUdIuddmwQ78F8BJ/HZJbLYouKzhS9El2ZBqD67WTH2S+KZJArvc7E5sYAL6N6B7v\n",
       "eobC1RZlM2LxgJzzQ9ufLfzF0U9JvEI6o4Ur+Ildei/BNffRXZabvrbB1RZl5P8AbeGNsm+RwaLn\n",
       "7KQqmdnWWC1Uc14kb1q5Wwi/oXy34Go/blH2+N1MK4m5D8zIEbYCd/OpJJsq/VUCHJIlv9w4RRhu\n",
       "x/hX+6MWpYcEBQ8vWsRNr+ivwOSkistYPGvpqgqYwFrdtiSqqlvdpWmbjbCp8zactCg9o4sd4Hse\n",
       "NxHVfKCd2aMG+FlXIEILVyGnql2R0NmhQF/2mL64CzfAv9oftSh7ZzmWvDUsdRF1DNQmTVUAHXB1\n",
       "bELhrCxJ9prPJM0Codo2TXFLfvUD/M3+sEXpRlAnvT1s+oeLQ79yNBCdlXB9OfM51CqO+NPsj1qU\n",
       "e/3nxfPQrqNSUvDkRWbeIp+MYcRBsxH+Zn/UovRJGT6MX7CzzXliwzDkw5TiX5/m2Ic73HjzwAIH\n",
       "9f7Z8+/e/XfPvyP8/MrhhH8yA+6ft+6fM9/6/8+rHOQM+wvbqBfril0LlQAAAABJRU5ErkJggg==\n",
       "\" style=\"display:inline;vertical-align:middle;\" /></a><br>"
      ],
      "text/plain": [
       "<IPython.core.display.HTML object>"
      ]
     },
     "metadata": {},
     "output_type": "display_data"
    }
   ],
   "source": [
    "nonzero_int_is_int_nonzero = Forall(\n",
    "        a, InSet(a, IntegerNonZero), condition=NotEquals(a, zero),\n",
    "        domain=Integer)"
   ]
  },
  {
   "cell_type": "code",
   "execution_count": 38,
   "metadata": {},
   "outputs": [
    {
     "data": {
      "text/html": [
       "<strong id=\"neg_int_is_int_neg\"><a class=\"ProveItLink\" href=\"proofs/neg_int_is_int_neg/thm_proof.ipynb\">neg_int_is_int_neg</a> (conjecture without proof):<br></strong> <a class=\"ProveItLink\" href=\"../__pv_it/theorems/68dd9bd3464ff2e4f8c0978e7dec0931ba25bf340/theorem_expr.ipynb\"><img src=\"data:image/png;base64,iVBORw0KGgoAAAANSUhEUgAAALcAAAAZBAMAAACBVqIyAAAAMFBMVEX///8AAAAAAAAAAAAAAAAA\n",
       "AAAAAAAAAAAAAAAAAAAAAAAAAAAAAAAAAAAAAAAAAAAv3aB7AAAAD3RSTlMAq1RmmUTNIjK7EInv\n",
       "3XZ/CtNrAAAACXBIWXMAAA7EAAAOxAGVKw4bAAACsUlEQVRIx7VWTWgTQRT+8rPZZPPD9uIPggT0\n",
       "oBSkXgRFaooKFS+BepKCgR7EIrJV6KnQKN4spIpU0yrsNRaaUBVteymKhyBqQFE8BFYQVCpSBCkE\n",
       "D76ZsDOTNCTdFAcSZr55882b9755s0BXLZDuZBFE121/Rwt9ultuI9PZpr9b8khfC9B/+e+l6gMx\n",
       "E7cBk3X2eSSfaAUmbmeRCckhMZ9mnYseyc+2TGEKib5FhPPU7lHoasD1boL/pxXos1AwFKYRIESh\n",
       "iSa9cYdrDeF4WP3IswwM+rISP0OKpQyEPDqeqCgD7YotNjVvKhM/6femWn3tkdzHlKjv+eawwbgt\n",
       "RWTPKlYXaGIQmPV4xSIsssNWpNYkht6Ao1jlKERj0E3Vq/KTuRRnaKZcWXN7IVpgvESQR0e5T5mG\n",
       "+E6m2VmibqEIf8mn41Z0wd5MbiDgaK4U4rR7cB3xEltDYa1+rqci+RSQQSoSrd8R+52igwRw4xo2\n",
       "kesDdiyLDcXz2DRfDUV8BSbpndJzppwMqwLz/c/oCnAwlVLIGU7u9ViYtPFCIS86OMEHUjm7SOnG\n",
       "uoy5RX+Lo7T/p/AGCvVqejUryTkO7S7Z5Wy8d/NCHhaT2OFny38JIabO0VSlQS2YMNnVDa9iiGML\n",
       "UUhyjmtzzIzI37o6X6Vpx/+BCyqUFEIchX5HRuk494M8jaWpzhyhopBEaRmPBDnHp/hyCstv996Q\n",
       "Bo29z8e+88PtPl9Hh2fK+XflkiAfEJm1IsfsW3zhgT4sC3KOG0uMXUkoXqnJ1pbq17+5jbidmJUb\n",
       "siPs9NEgtIr0nOHAD0p1wtHMtlWx+UERBUg7eegx9PvUO9yzNmMKco5TO0rsK1+Fhqe28syajeP5\n",
       "fF4+vI2X6KDVUFy2UEbjVrun7H++oe3I0bvN11/f5ncLJegf/lKl/Xw7qrIAAAAASUVORK5CYII=\n",
       "\" style=\"display:inline;vertical-align:middle;\" /></a><br>"
      ],
      "text/plain": [
       "<IPython.core.display.HTML object>"
      ]
     },
     "metadata": {},
     "output_type": "display_data"
    }
   ],
   "source": [
    "neg_int_is_int_neg = Forall(\n",
    "        a, InSet(a, IntegerNeg), condition=Less(a, zero),\n",
    "        domain=Integer)"
   ]
  },
  {
   "cell_type": "code",
   "execution_count": 39,
   "metadata": {},
   "outputs": [
    {
     "data": {
      "text/html": [
       "<strong id=\"nonzero_nonpos_int_is_neg_int\"><a class=\"ProveItLink\" href=\"proofs/nonzero_nonpos_int_is_neg_int/thm_proof.ipynb\">nonzero_nonpos_int_is_neg_int</a> (conjecture without proof):<br></strong> <a class=\"ProveItLink\" href=\"../__pv_it/theorems/90a089475ab47765928c4e5be640ca4be44bba2f0/theorem_expr.ipynb\"><img src=\"data:image/png;base64,iVBORw0KGgoAAAANSUhEUgAAAMkAAAAaCAMAAAAqsoi2AAAAOVBMVEX///8AAAAAAAAAAAAAAAAA\n",
       "AAAAAAAAAAAAAAAAAAAAAAAAAAAAAAAAAAAAAAAAAAAAAAAAAAAAAAACXHtMAAAAEnRSTlMAq1Rm\n",
       "mUTNIjK7EInv3Xbt5cmRiLwgAAAACXBIWXMAAA7EAAAOxAGVKw4bAAAC60lEQVRYw81YibLbIAw0\n",
       "N+Jq6///2EqAbfIsJ3TqScI4ziQmgtWuDrIsHx7K/LcJvXzDkDdsw8EXAAn2Fl7L55GAmuXOpjVZ\n",
       "yBkS85Mc8CaOyertQFyanVlAeHyz9To/JRR6jzjr3o5Ex+mZNZ6KWqLEdw/baHsOK5LixQfjZp1O\n",
       "XIK2HIAubljSkw3tQwX73uHX8EROGccupTpR+6VqjKGMAKoeHvb9lJR89cTYcgaJ8vEXSbvUgEsE\n",
       "Pqf4fiRi854TsbghlTrLkQWBLh55ZVf7Pm26CNyWg7voTcIogEFqbPKR8bpw+NVXh2y3uTJEUnVF\n",
       "FjfZL1wDt23RUEuEHqTGKt0+iQDXcgfRES+ziEgQNV5t0dgYJPYHs8/SXrMcYznLNzejeq0fjue+\n",
       "CR7HYLjIborzTGhIZOHQ+iIA8HlG38dQA9Dp2PM3BVgKM0ga2SQLAxecJDj20swz9vC7XieE4zjx\n",
       "nbezALXu+Q6Z99IR/y5vizlSQvYzSNq6ieaujkUSVlpcrSNZjB3fTYWVjRPXS8mWK0JUpfq9qIe2\n",
       "WW8xYgZOHItkN9GCOTaXkf30s2IJaFuTLY/J/Vfl5FhMv6ZtQuTL3EXtT4/3gFKq8B74VU7u7pdC\n",
       "bSHJx8luQtdu4he+VC+BWbFVYAHct8x6zBtWnjNw9bYDyQlApYO6vbvx9KUZFg1liQ/eMTV3Kcci\n",
       "2U0sy0FtQ5IK78kgSvROlKF8BwFmjGyTwCZ0CjbEwBU+/TP1JtP7SmVbg0auiRjwaPtZFQHGxBi6\n",
       "TV3rqR9K132XiTB2Ky+GVT9zGVUohZv2B3AjPU1DNE63YZ4gOUyQun7/gaqui4j/h174Ra0+NXCJ\n",
       "NG5UGEt+rPo1eZnkZDcx9Nk1hM25+Pp0DxJ1Mm20kiXWjAtbEhYCZQxWTCI5TDx0QFgZNaNPcU8D\n",
       "np8drUIkYUyeH/h6Il8fr7/uHH9x/Jk5n98QKXeeEVlTcorQO/7vCvchef8/AOfxF99DFrt+vx9V\n",
       "AAAAAElFTkSuQmCC\n",
       "\" style=\"display:inline;vertical-align:middle;\" /></a><br>"
      ],
      "text/plain": [
       "<IPython.core.display.HTML object>"
      ]
     },
     "metadata": {},
     "output_type": "display_data"
    }
   ],
   "source": [
    "nonzero_nonpos_int_is_neg_int = Forall(\n",
    "        a, InSet(a, IntegerNeg), condition=NotEquals(a, zero),\n",
    "        domain=IntegerNonPos)"
   ]
  },
  {
   "cell_type": "code",
   "execution_count": 40,
   "metadata": {},
   "outputs": [
    {
     "data": {
      "text/html": [
       "<strong id=\"nonpos_int_is_int_nonpos\"><a class=\"ProveItLink\" href=\"proofs/nonpos_int_is_int_nonpos/thm_proof.ipynb\">nonpos_int_is_int_nonpos</a> (conjecture without proof):<br></strong> <a class=\"ProveItLink\" href=\"../__pv_it/theorems/c1be1ab6fe3961ab0c1dc3b2ab6c195a322a63310/theorem_expr.ipynb\"><img src=\"data:image/png;base64,iVBORw0KGgoAAAANSUhEUgAAAL8AAAAaBAMAAAAUFZBoAAAAMFBMVEX///8AAAAAAAAAAAAAAAAA\n",
       "AAAAAAAAAAAAAAAAAAAAAAAAAAAAAAAAAAAAAAAAAAAv3aB7AAAAD3RSTlMAq1RmmUTNIjK7EInv\n",
       "3XZ/CtNrAAAACXBIWXMAAA7EAAAOxAGVKw4bAAADA0lEQVRIx7VWbUhTURh+tnm3effhFYI+fsSg\n",
       "oIYU609QhCwqsiJa2B8jSPBHJBF3Bf2SnBFEJGgG2rTs9NMMEyuiCSJC1IhKCIqIwYL+xEJECEEi\n",
       "es+53q95uWyLDmw773vufZ/343nfM+B/LO8QQjOT/2LBl3K1Pwo0ow11tQNsdUW/Q19v0KAG+mu1\n",
       "L7e7HEYH6CuwgnCMwqhx1SecEnPh9/nCvURwjgvBFUQSiDBA4eKWKgG6HD2/nUG7H4jnNIBwEVGy\n",
       "foifnasS4JiTsi6JaGKKNm05kaKGGOQVoIcnrNpi/HJSelSMycJSz2GtyEAH4Kc0hWLV2af4ram5\n",
       "X/gkKg+0eDJCld6EBZykzRHiFNXLX2UA0XmLIF1kBrByfXWnUqMdpd+f9HlXKLytEsDDWZqeuSqE\n",
       "K8wkFxsue/IsHbYAw05Wki4spUxLr/GAlRGkyVcse7KPUpZGQLF6l382ImzbCx9XMV3SBT+98DiB\n",
       "40Kw9BwnKYJZWkOrmu4UjyukD5bgt2wqooYm2BqAeBG+oqSrIuTBCeCreIdSXPiilSb2HGA2v56Q\n",
       "aW/RqPFBCsiHa5dRDrCHmBDOYNkSQR6yIKtsPjfG6b7eBtDNWdXOJ8Z48wtqEy35SQsA1+MHp3E3\n",
       "w5wJIP+Bb1EIJqM2UCfIi/YaUC9gqpP8+Bxcxpg2Cy9lTACh7xVt0sfwUa9TP+Ql4tI2LiwYJE2e\n",
       "oqP5NSxCl8LbPDiLVqGbCMEEEHrvCNMA3ut9MAuMYocWqj9mkLQTgQE7N/YJf8jjcIrm0m4qfwyT\n",
       "OTwyAIQeEkegFC3pvUWd/LB0Y7MIVd54WtOeGcxnP+Tt99h+o9pq/V52S7y8PYGcASD0FP061Vpk\n",
       "vLIakV5qo8JpdeibsNrXyup5JkJ1kObNCLiej8NGFi1Kius0dbqYjKElHdj5FIG7tNvVWBpUDACh\n",
       "5ysATH83ON5b6dWt2OXxbNa8zN1GuKfC8RtRXQ77a72TLcv1TjYBbvLpYvelqSL77heZWvv/IuMS\n",
       "paL9BX5ww+gJb4sKAAAAAElFTkSuQmCC\n",
       "\" style=\"display:inline;vertical-align:middle;\" /></a><br>"
      ],
      "text/plain": [
       "<IPython.core.display.HTML object>"
      ]
     },
     "metadata": {},
     "output_type": "display_data"
    }
   ],
   "source": [
    "nonpos_int_is_int_nonpos = Forall(\n",
    "        a, InSet(a, IntegerNonPos), condition=LessEq(a, zero),\n",
    "        domain=Integer)"
   ]
  },
  {
   "cell_type": "markdown",
   "metadata": {},
   "source": [
    "***A set of in_bool theorems, which are accessed by the respective NumberSets to implement their deduce_membership_in_bool() methods:***"
   ]
  },
  {
   "cell_type": "code",
   "execution_count": 41,
   "metadata": {},
   "outputs": [
    {
     "data": {
      "text/html": [
       "<strong id=\"int_membership_is_bool\"><a class=\"ProveItLink\" href=\"proofs/int_membership_is_bool/thm_proof.ipynb\">int_membership_is_bool</a> (conjecture without proof):<br></strong> <a class=\"ProveItLink\" href=\"../__pv_it/theorems/c10e550443e66a9741454ca097b5fa0eeedc54c70/theorem_expr.ipynb\"><img src=\"data:image/png;base64,iVBORw0KGgoAAAANSUhEUgAAAJkAAAAVBAMAAACnAFEqAAAAMFBMVEX///8AAAAAAAAAAAAAAAAA\n",
       "AAAAAAAAAAAAAAAAAAAAAAAAAAAAAAAAAAAAAAAAAAAv3aB7AAAAD3RSTlMAq1RmmUTNIjK7EInv\n",
       "3XZ/CtNrAAAACXBIWXMAAA7EAAAOxAGVKw4bAAACaklEQVQ4y31UTWgTQRh9ye4m2d12CYho9RLQ\n",
       "mz8EqYoXDYhaECUHT1pkwYNYiqwIBaFKBG8eXAUrLSoRRKinGPDgRXKtUpuDFgUX1j+EisGT9eDB\n",
       "b2Y2k53srh+8zOybzJvvbwZIWjFChmUteen05wjDlp/+eyG4XzVClXY+zv1e3gicpXmZEduUTS2B\n",
       "hDm3G3ALwJch3jTCmUd1OFXgCPs+H198EiFheo12tIFCc1itans+MAVcZ5nw44uHIyQs52HRor9q\n",
       "tYSaVqEYx8VBdiW+2IkwiPBBsMpGC5jINWjySuW5mguMNKFRtAUlba6ANOOijKxUvsGGcypParnL\n",
       "lOgCSS0HwWslOy0Bq7flZpsRM4M0mc0FNjyDwpvG2s+tNNoU7QSwEFdjJzDo+BSeGCrRDo13xz4o\n",
       "vGmsrrwlaY0iuoRiOa42WhHYj0PNDYyIRe2KnOyEwlOkzl4qaL7DvLfrcbWRukADR0WuKBXBB5H2\n",
       "ynOAnLil8qQG/wwxv0gxVIog1YA3/NsatM8ia6VNwKTKczWTysI6wT1IP71jXz01UhjreMqIrlTb\n",
       "TB1nkQO7oPBcjVzKM6ZNITveWCFqOjPksO7mOuD3qyf7o3aKWpi2HIDCc7XdVAXm7SwVQcPDUrTG\n",
       "6kzI/3ncMfgB/WMow1Mo3qEtx6HyRsv+URN9Bd7eWJcedDmsk+H2PSJxY6fFyuTc0vzKEm15p/DO\n",
       "9Dx/QzAqq1nqyGfrfYTBZXghbpB84Lrp/NX+ZNZ29f58PEKm6dV0Xj4V+reXazKpnkCmXcl4k/00\n",
       "ljWS5f9H7V46neHBtQgZ5mT4/R34Bw4onG8N1xVLAAAAAElFTkSuQmCC\n",
       "\" style=\"display:inline;vertical-align:middle;\" /></a><br>"
      ],
      "text/plain": [
       "<IPython.core.display.HTML object>"
      ]
     },
     "metadata": {},
     "output_type": "display_data"
    }
   ],
   "source": [
    "# For Integer numbers\n",
    "int_membership_is_bool = Forall(x, in_bool(InSet(x, Integer)))"
   ]
  },
  {
   "cell_type": "code",
   "execution_count": 42,
   "metadata": {},
   "outputs": [
    {
     "data": {
      "text/html": [
       "<strong id=\"neg_int_membership_is_bool\"><a class=\"ProveItLink\" href=\"proofs/neg_int_membership_is_bool/thm_proof.ipynb\">neg_int_membership_is_bool</a> (conjecture without proof):<br></strong> <a class=\"ProveItLink\" href=\"../__pv_it/theorems/b238777fb44fea049af282129bfdeb357d950a520/theorem_expr.ipynb\"><img src=\"data:image/png;base64,iVBORw0KGgoAAAANSUhEUgAAAK0AAAAZBAMAAACx2rMTAAAAMFBMVEX///8AAAAAAAAAAAAAAAAA\n",
       "AAAAAAAAAAAAAAAAAAAAAAAAAAAAAAAAAAAAAAAAAAAv3aB7AAAAD3RSTlMAq1RmmUTNIjK7EInv\n",
       "3XZ/CtNrAAAACXBIWXMAAA7EAAAOxAGVKw4bAAAC20lEQVRIx71WTWgTQRR+SfY/TQyCpgGVgiKI\n",
       "B6vgSZGKilo9FIUeLNpoD0IJul6EQqApeFGELoiHqNEVROylLSKICCUgCkHEFkSpsNBaFSw1N2kJ\n",
       "Cr63k/2ZZJfkIA7Mzs57M9+89703bxcgoO3FHuuDVq0nRC6EyKO0YVtLWBgJkctGsPwxdi3bGje2\n",
       "EKI4ECy+hV3tDtJsf/+mNP/KnX5uUP+sXM7NIX8JEyBFgq2cG2V85ANP/NEJEnieLDbqjXPy8AaA\n",
       "JIIeoflFjvZpfJwIxD0MsBTvgutFbDrAlNmIexqeq0hiDWCsieh1lAm/AnHToBkT3lTqbsbdE8Fx\n",
       "CHV4Jprga+MoUWq8/5Zle2+CUOj0eVa3J1myPrq4Eo7HMah4psSzTytn/ZL+Zfd1TPFlbbJsD+Il\n",
       "07M3vQ/HFezvLOsth7sRe4TMm1x88pI8kYc95R3Vx6nIvLpqenGbnKPoDKLkGC7mcIuUZuRhT3KL\n",
       "QHZLundlpv25qawBH3XjbO5PL1FZALgCcorDPU9QKIrpsVqEIuOjyZ9l6AiLbtYft6V+tHUUQ6+a\n",
       "cb4UfMCeQBYVENiOmxY2FqIvuFZzV2o2roJMWvMOrioiEVOIGF3gw+baC9DBLqqXWZqBNSHi0iKv\n",
       "MaHfXhVwOlogN4iy6tGvehPuoK5RSBLuvkghjcZ4/K7awyyPi06OE9ZTDHdSz0hOEmcIAA+d6NsE\n",
       "cTud3PpyTUR+NjfmQ5XDjS6wfIA8xQjuK45ypZ6Zu26chFO25IKbZXiLRnZ4BY3lr2sRGAMw8wzH\n",
       "/cw5eq66q+kwsuRRNXqI7Xh4m2WoWMkV7/2+6903lkha5gybf688sOsZHPSoKsvOawdpXnOhHChZ\n",
       "QfXYqQ/ii/o9dtqQ85KPZ4U26llDa6pnTtq41UX4NrPsmU452w7u7rAPSSpQvJ5I72oD91OIPKH/\n",
       "1+9blAje+e+/x+3+P/SG/T9gOP8C4IC168pYFr0AAAAASUVORK5CYII=\n",
       "\" style=\"display:inline;vertical-align:middle;\" /></a><br>"
      ],
      "text/plain": [
       "<IPython.core.display.HTML object>"
      ]
     },
     "metadata": {},
     "output_type": "display_data"
    }
   ],
   "source": [
    "neg_int_membership_is_bool = Forall(x, in_bool(InSet(x, IntegerNeg)))"
   ]
  },
  {
   "cell_type": "code",
   "execution_count": 43,
   "metadata": {},
   "outputs": [
    {
     "data": {
      "text/html": [
       "<strong id=\"nonzero_int_membership_is_bool\"><a class=\"ProveItLink\" href=\"proofs/nonzero_int_membership_is_bool/thm_proof.ipynb\">nonzero_int_membership_is_bool</a> (conjecture without proof):<br></strong> <a class=\"ProveItLink\" href=\"../__pv_it/theorems/d2d6c364fc705134354e6b5ce0a5aa42fb47a6e50/theorem_expr.ipynb\"><img src=\"data:image/png;base64,iVBORw0KGgoAAAANSUhEUgAAALUAAAAbCAMAAAANmz4FAAAAOVBMVEX///8AAAAAAAAAAAAAAAAA\n",
       "AAAAAAAAAAAAAAAAAAAAAAAAAAAAAAAAAAAAAAAAAAAAAAAAAAAAAAACXHtMAAAAEnRSTlMAq1Rm\n",
       "mUTNIjK7EInv3Xbt5cmRiLwgAAAACXBIWXMAAA7EAAAOxAGVKw4bAAAC3UlEQVRYw9VYi3LjIAzk\n",
       "/Ua94/8/tgJjG2NC7DTpTJnUlZ2uvAhpESXkt4cjf3B4Wa4e/G+8jcveeGloWnwAIdKiIe7i7wGY\n",
       "6I3XBtX5GgxeEpra3p31HYBTvfHakCUvdMrJHViN+r01vwGwvDcuLI8KKSgbow0IEjaPL/zhxBTW\n",
       "sbiKT6oTYrAqqRBpzcwCoPtbHhPSoTcuDLA0J4Iqn/poecXCOpSoAX0aMSKBaOUq7QIQW3Ep/bgG\n",
       "fG9cKRxRiXq2pldNyiVDUnnsknvOGifrNVnQBWDohTxPsjeuFh4SXbjmDPn335YM2asxB4tfYs3Z\n",
       "mhYFoOpct4ich1njYWaBAUzhGNVxOxGGlDwp6C0ZICtfvRN27mZnrRoAr3NVs4rojYE6KBjMCIma\n",
       "TSrt/ge4y4h6B+GJm4U11dy3gJDnFsMkY6nqDQdAnfH7+mg1XAUkunFlY82S7fqN3ORqdBCpPwCE\n",
       "6QJxxtneELmWgYg4L2XmG31Vj9LP7DcjN8g6oohG4VpA2WT1TIAU7QyOzjlOmfI5pVb12INC1m2F\n",
       "q4fVCFzWdaiAHGY/E4coOiNPVrRvMEua4WhrC1j1OxM317AeullY51++BeSEm27Up1iTbZPolPjI\n",
       "x65ySvWks2gyZOhmY10FewWoLfsAhMbPBdYyy63bgjgSF5S8ha5Lk5CY1LwuTlmrA8CzmjKgCbVE\n",
       "9cpN7dFwVhKa9WfXHTgLBEqeXDKKxllD1WrIwM3OuorQCtBhrTL8Eog56XU4GiwZJ9CUzfROU83l\n",
       "UoKhLZu1l/yg12c3NaHxGCE6AN2JJj0JRzWcwJgwwds3OGrloegk9moBN3Bs/OysexEH9Tq5geyk\n",
       "7fk6QK1iDM7paZC9Meyd7XErvjb6PuSpmx6AfahXo1POSz3fxfNGcj8FCJAeBv2ECb3xvvMo/RyA\n",
       "st5414j6c4B3nRt/dAy8D2C+N94yPntGf9v/Q/pCci8BvgFMIRh56vj30QAAAABJRU5ErkJggg==\n",
       "\" style=\"display:inline;vertical-align:middle;\" /></a><br>"
      ],
      "text/plain": [
       "<IPython.core.display.HTML object>"
      ]
     },
     "metadata": {},
     "output_type": "display_data"
    }
   ],
   "source": [
    "nonzero_int_membership_is_bool = Forall(x, in_bool(InSet(x, IntegerNonZero)))"
   ]
  },
  {
   "cell_type": "code",
   "execution_count": 44,
   "metadata": {},
   "outputs": [
    {
     "data": {
      "text/html": [
       "<strong id=\"nonpos_int_membership_is_bool\"><a class=\"ProveItLink\" href=\"proofs/nonpos_int_membership_is_bool/thm_proof.ipynb\">nonpos_int_membership_is_bool</a> (conjecture without proof):<br></strong> <a class=\"ProveItLink\" href=\"../__pv_it/theorems/1d828fa68e036eafa6d149430917f86288cba68c0/theorem_expr.ipynb\"><img src=\"data:image/png;base64,iVBORw0KGgoAAAANSUhEUgAAALUAAAAaBAMAAAADNwChAAAAMFBMVEX///8AAAAAAAAAAAAAAAAA\n",
       "AAAAAAAAAAAAAAAAAAAAAAAAAAAAAAAAAAAAAAAAAAAv3aB7AAAAD3RSTlMAq1RmmUTNIjK7EInv\n",
       "3XZ/CtNrAAAACXBIWXMAAA7EAAAOxAGVKw4bAAADJElEQVRIx51WXUgUURT+dndmZ3bX3SwqFSqE\n",
       "IpAesqCHKMKoqKwHKfAhKbd8CERqegkEwRV6KQQHogcza4KIfFGJIEIQKQokKqUoDAbWtCArH4JQ\n",
       "pKBz9u7M7t2dkdULd+7Mued+9/x899wBVtlqDIz8WMW6PdRDDctDpxFKqybqfOYVH3mQF2xbFnpv\n",
       "LVCWwgLafRQ001v+kHo0uRz092p6dFp4Tsb7qBzwFt+kHqn1mtn+7lX/1At0MzR6LLwHPheo/Bq/\n",
       "3DZJ8YxbQDkLtkrujNGjw9veSoSRRLDPEthvgelCHfOc1roBSBDwEf6+KKVhmB4nPLEPAzMxMlpl\n",
       "cIrJb2DIKsQ+jacRCuoS0FUU+DXMkD+e2BWImgP8oq83RC4Rri3G3h2gsYXmaN9Ydf4k+Qp9SY6F\n",
       "bWdya0FJVYrArbUSaZX8VrJ2Jfrtjy52mMbjxGPaNyxngzUn8iWNc+5rl55ltAaMzJIVibHMp3rJ\n",
       "ytldsY/Gn9Tf2PZrCXsj9QCbOTj9aIQ90lpzk7cjBfFVhYdXrVwuByc5Y80kOUYLJO1epiB7WpfY\n",
       "orD9YSN3rIYLeasvQmaDebbtXz2HNgVcgVYuaZ9nOBKFjNBSgDOVFzJmIHC9l1p2Q01kPZmfy5lG\n",
       "phFRImLF5NLxgXqcoqpDESu6bWoiZV9INyppRzPYOkXWnnKwIyoFZYhQg2k5la7dVDHEgR7IAZlU\n",
       "PwKGdNIWxUS+3RHQZ2eK3eEQzh+dNYqwm40opyjurgukKsggOd4LmWFCxiaHexjvMdEgYVSFHZJX\n",
       "MQhtPNCwCbEMdd16dE2lWG324sm8hB1MC56gg/OGu7ozycRk1u68cRKnMpILLgPppLXXSNghwW/X\n",
       "MphNGH1C437hKD8XXG3ekK15MB88JFbcvyXYq4639d752ydfAoJk0aoz4vvb+L1MHcTBXNjGNOe1\n",
       "jGdeSgBN/bZfPXfqifose+ad1uK8dMSSSgl10KMV1UGHUm5FUr6OzuVcYE6Xir3LRx4q9xSv4yRU\n",
       "l4j9yUceN1Z5X+aZt8L7MsgB31Ea9krv+VL+T5xW7/d/Qin+D6T4zsoAP0bbAAAAAElFTkSuQmCC\n",
       "\" style=\"display:inline;vertical-align:middle;\" /></a><br>"
      ],
      "text/plain": [
       "<IPython.core.display.HTML object>"
      ]
     },
     "metadata": {},
     "output_type": "display_data"
    }
   ],
   "source": [
    "nonpos_int_membership_is_bool = Forall(x, in_bool(InSet(x, IntegerNonPos)))"
   ]
  },
  {
   "cell_type": "code",
   "execution_count": 45,
   "metadata": {},
   "outputs": [
    {
     "data": {
      "text/html": [
       "<strong id=\"interval_membership_is_bool\"><a class=\"ProveItLink\" href=\"proofs/interval_membership_is_bool/thm_proof.ipynb\">interval_membership_is_bool</a> (conjecture without proof):<br></strong> <a class=\"ProveItLink\" href=\"../__pv_it/theorems/d93368aef3fff0800c6821813d81afc78e4499600/theorem_expr.ipynb\"><img src=\"data:image/png;base64,iVBORw0KGgoAAAANSUhEUgAAASEAAAAWBAMAAAB9OzeJAAAAMFBMVEX///8AAAAAAAAAAAAAAAAA\n",
       "AAAAAAAAAAAAAAAAAAAAAAAAAAAAAAAAAAAAAAAAAAAv3aB7AAAAD3RSTlMAq1RmmUTNIjK7EInv\n",
       "3XZ/CtNrAAAACXBIWXMAAA7EAAAOxAGVKw4bAAAEO0lEQVRIx82Wb2gcVRDA5253c3e7d9tTUSxK\n",
       "OBBawTZZUQv1QzmIrUq1Hhb9YESPVhGDyMZKQaj16hdBI71CrV6kdQN+MEaSS20t/aNEpPQf0UNi\n",
       "RduFC4rFRkMJ2EqE4sx7u5u3f24Xvzkwe3vzduf9dt68eQOQJLpdi7CajoZFfSLGWWYlXToMmp0m\n",
       "C4hWicIscY2Q356K87ZrGEBpB5xd3Hd1+maAZ/hsRbLdEUuUop+0IRrvcjQs6cVOjkan6boH9ZfA\n",
       "SE5pbx+pgG4wovVkeiGWSKYodYlrpFa5Rj3e6ujpObp8Sb6sIJGhmXWAAUa0ixa2HkuUpTi+Jtpk\n",
       "g+t/I1pwiaRyiEgq4ST3MiLi1UrxeYTscFC05R1dkt9tu5pApCy6RHDWSaD99nmPCF/PWzSbhJ/a\n",
       "lZDZ9+CPb41WOOrJk5eTY8RHGNFWjviy5cUota2JHAbbR9O2fS6BKG/bF5uibaOj47OfHKf4Zgb8\n",
       "8w5+tTPsqKt7tuQQTTLDdstbtct/3kbvFhnRQwDDCURyDXK+ZNzqaFnvllv+tJcxmMop+MgKOZoY\n",
       "UK8B/EG3a8C3n3LK+e9m8AWpyogGIVN0h7IvOjepM4c+LHtE+MCgz/n3XCVTWkxRggvLvgP/f2bA\n",
       "o+FP67XgW4A3KKarmKEqZLZ+H4Y5PcWIcpZQAyl22dlGpWBq49ZShRyGwz7nJ7lmWURQhmwUtmEH\n",
       "n8fLYwAXwkQbAP7BonELIu1mn4/5Yv/kEEG9Hy1X2GzptvCFp1EfwEIuwZvbhJrd409slwh3By+/\n",
       "o95I9mH8kDOg/hUmugAK7n+NkJ9mRa0uxAjqOVxtHiOorsPL2Loj5O/6rKXzOlMuC0RdEs6s/7rz\n",
       "Qf+qATxrqhTKglBbiqBeB+lKVDmSF9naAaxmhpaPCOOSbnGig7iC6o/Za1QgftbL/HulV2oCkbYC\n",
       "/VxK1bc4tgNcRyu3g8YKS1vca+oCpKorQ0R/U37BCbpdywzzPqIenLTOiXZgYsvl7BQNGVJ1M3to\n",
       "XBNP2szXeGPk2i7lJNfetx+Bx5lhi2/3H4DVPMQTdNpcdUZugr1uPdrIy0HJI2pqc/iC3OREKZwn\n",
       "X9Fpw+VrcnFNo9EoQfMYfCqc/bfS3TJvj7/L9eP5dB/3OvKeJRCNzL3VzeALxDXjjIwcMlyiH/jp\n",
       "uJy3CfpLDXb2Q6Gy1GlMmLn70ecyyJfeYeX0TgOOBbuRIa8jKtS4Lkn//sRThAsRZZxnlKP8FHHl\n",
       "dWG2vLl7szUGBWstr4WaDErLT5SZ+gLcbKejMnhcJp+0HlGHQxr6BCKlr+dzGCplN7Uh8wH+v/uG\n",
       "uX3FQIw29c97hfh9RyN6ual4og3BPkJoMOuh/pDnxFijUUnqIUd9RcjndiEWSP2m47dAzgzOpliR\n",
       "yxDV+mbaXCPk1Rvj+uxJaoejG3S4RA2uj0iC/4P8C7yNFBa+lTDjAAAAAElFTkSuQmCC\n",
       "\" style=\"display:inline;vertical-align:middle;\" /></a><br>"
      ],
      "text/plain": [
       "<IPython.core.display.HTML object>"
      ]
     },
     "metadata": {},
     "output_type": "display_data"
    }
   ],
   "source": [
    "# For integer Intervals -- check w/WW about this (domain(s)?)\n",
    "interval_membership_is_bool = (\n",
    "    Forall((a, b),\n",
    "           Forall(x, in_bool(InSet(x, Interval(a, b)))),\n",
    "           domain=Integer))"
   ]
  },
  {
   "cell_type": "code",
   "execution_count": 46,
   "metadata": {},
   "outputs": [
    {
     "data": {
      "text/html": [
       "<strong id=\"difference_is_nat\"><a class=\"ProveItLink\" href=\"proofs/difference_is_nat/thm_proof.ipynb\">difference_is_nat</a> (conjecture without proof):<br></strong> <a class=\"ProveItLink\" href=\"../__pv_it/theorems/652633ff7939a095fafb060a233cc002a26df37a0/theorem_expr.ipynb\"><img src=\"data:image/png;base64,iVBORw0KGgoAAAANSUhEUgAAAOUAAAAXBAMAAAAGvZU3AAAAMFBMVEX///8AAAAAAAAAAAAAAAAA\n",
       "AAAAAAAAAAAAAAAAAAAAAAAAAAAAAAAAAAAAAAAAAAAv3aB7AAAAD3RSTlMAq1RmmUTNIjK7EInv\n",
       "3XZ/CtNrAAAACXBIWXMAAA7EAAAOxAGVKw4bAAADQUlEQVRIx71WW0gUURj+9j4ze3HzZUEpFnoo\n",
       "H4otRMgH2dCol3LBCCLIyZeop7FeS9YQe0hwUdK2i40vQVq6ZBBIhRShEsG+JcbCGkGXJVkCk0Kk\n",
       "c1tnL7OLLdQP38yc78yeb/7bOQtUby4BU9P+kt+mfRQwtbNF48e/RnQ834hQ3k+J3dVIWhMcJabc\n",
       "TQK+UBE75PBDyTL+CB2fr0bzgUCpOcPkcrGI3KnNAHOM76VJiVWj2SpQajVBcmksImtjTg1Jxjt1\n",
       "wB2sRnNOoNQ6yZrw6HzwNZVS6T3Q4lKpJuFtJL7OqtKpcpjYCxZgntBT3wQZsEQzVJPy71Kpt9Vo\n",
       "2hMc6H7ZUzR1brWWBI9Vp2srrQHE5EiS88eA2xVWLjtDv5fCMY/7emHd/tSnNdhYDJyaodmnLBNN\n",
       "ynfD5c/x0gXxYFl8eocWH2Q27OdFZh3NW9kb5HgUwvGiqP+GJw0ry7WRtgBswQbCUV7W3ZGtiXoq\n",
       "vBKPeDX3lG5oWlgbWsfyV/ZEONqBD6x1UtSWaGxU1CQgZSk7QMkY10SdhehR3prOK6EFgrYoCQCu\n",
       "XYah6SEUbMMw01yEslbopzeBziAczM+HeX5iXCGxZbzaQi6TLc+oi5sruthAwuE8zcHVOviGWK5m\n",
       "MlpBbJVN2LIl7dmuw5pkb+VrSmniMeOfkNJS3kvr5NG37AvzL7NdiuZpftc/Sa/4tqkNCk05zaD8\n",
       "gEXdU6gZVV6TFVhEfekce4vgS0zwV0gJ2cMSdVkO2dQO9saUG3maw2hCwyx9asOAWIPWPMUY9omY\n",
       "5MwSksOij4CuHNvFM815S5QmxudnebP7m+LxeBCJWUwYmgs4DJymom+wkqvxJMd45vquaGGv1NMt\n",
       "0csrc/wmb6T+DeKfom7xwLQmN5O5GniCN+jYsTeEWUMzCxrZ3qNQ1jE8IX6zJFDGror7mXsp1YyH\n",
       "Rxvs0Cfh1Q+R3qGBs8ORNDSXeXK66zAvrTWL3zSabORFR0BF3tG6fwYDQelEGi6a7AM7MiN+Q7Nv\n",
       "NXfInzyYyR2MssZR5k9EbHs8P14m43Fjk5DLO6LEOMyt3NcU8Q7d5JUKu3yPgKl93h5vQwVNiZRz\n",
       "fBT/w1z/YM0/QI/XMtWY//sAAAAASUVORK5CYII=\n",
       "\" style=\"display:inline;vertical-align:middle;\" /></a><br>"
      ],
      "text/plain": [
       "<IPython.core.display.HTML object>"
      ]
     },
     "metadata": {},
     "output_type": "display_data"
    }
   ],
   "source": [
    "difference_is_nat = Forall((a, b), InSet(subtract(a, b), Natural),\n",
    "                              domain=Integer, \n",
    "                              conditions=[LessEq(b, a)])"
   ]
  },
  {
   "cell_type": "code",
   "execution_count": 47,
   "metadata": {},
   "outputs": [
    {
     "data": {
      "text/html": [
       "<strong id=\"difference_is_nat_pos\"><a class=\"ProveItLink\" href=\"proofs/difference_is_nat_pos/thm_proof.ipynb\">difference_is_nat_pos</a> (conjecture without proof):<br></strong> <a class=\"ProveItLink\" href=\"../__pv_it/theorems/34d447b38cdc6baa06d74f128c25708526e407200/theorem_expr.ipynb\"><img src=\"data:image/png;base64,iVBORw0KGgoAAAANSUhEUgAAAPUAAAAZBAMAAAAbGXWvAAAAMFBMVEX///8AAAAAAAAAAAAAAAAA\n",
       "AAAAAAAAAAAAAAAAAAAAAAAAAAAAAAAAAAAAAAAAAAAv3aB7AAAAD3RSTlMAq1RmmUTNIjK7EInv\n",
       "3XZ/CtNrAAAACXBIWXMAAA7EAAAOxAGVKw4bAAADkUlEQVRIx7VWb0gUURCfc2/v/61nQSSGHASV\n",
       "lHUFCUbISiVFZBd+i6ALg0iotgQhiLr6EpGlkGWb/Vm/BGbqWULoh+hL1BWWRCUlRyd9CitCCMNA\n",
       "mvf27ztuj9qjB7P7dmb2/Wbem5k3AEWMjc5+E5HcUNwoEZ3914nk7SwO+y55SDZCb2FsqCsO+wqS\n",
       "ELUR8ln2O/BJboHg66c6dlgBiJDJcifQ3if4WJ1P0jeOj885TH90D8CQ4beAwNvI5JATbHcKvUnk\n",
       "FR1E8igszzUZjEEI3LKclnHHAvMAZx0ffGkc8WN5RbNIXE4kuqrQxbDhNzSr5gWjTrA78M9Q/rOe\n",
       "J88X6odwK/OeYrdm26zYO9A8tNzjKNS+Ia3IKwlOaI4RO45qe++SlgopC/ZXpPFM5qUj7CVIO8nk\n",
       "+OPTrMRTOY07OUznbfqxuyQ/XLVg70fBdoAbhWuQzZA13/hncIeNq6GWwBxADTBh7JJ84sCAuWZH\n",
       "Eq0Gb0SX+w7riumRHtGw0WAz4wDSG6T7MdjFStYp8ApgDZ0nTGzYUHLTVDqDoepXgnGDUUGQpuV4\n",
       "WAoOKub+VGj1gUF4i0RKxW6AKSI8kiEDvYEGgN/oGDUbjzTzQcN2Kcssm4OoJVlLqD1H2oq/c3Cu\n",
       "1ax/lI2pWK/k+k2w0xD4yfo9BTxm2T5qbqfF70BkwOI3sTJBSmt/3SNi5cK0IqgpK4omNmHjs0zS\n",
       "9ax7HlgA7kduersxy6rpfMKCDZf9lhQlN8GDFlxg0jdHcvGjIPZRCXciaWITNvBdkqFHRznSbWTN\n",
       "giuxksH+RWIAaun8u1FTcUHhgqlE4hxOYai5RR+pzv4Yl2iiksGg5c4hbL6H6Gp6RoIOU/xqkU2H\n",
       "xdCl5x949LpFJw2m0ma6GWhQKE5qO4SS7kiNLMtRSI3BPQObsNvpGpqeYfglfPfOnK9MMti9I+Tc\n",
       "3qnxWb5XTaFjaf3aVUe9EXSSfxMuVQqh6EVajVbFYMzAJuzAaNTUA9UOvAmT9tecdtL8qFpTc0ez\n",
       "PglJHU1KP16qtZhzpCq6gZ8A864lZ/clpulZ7jHOvvbYXDPGfT5vVP8tax9Ce9TXmAXvdfxeXzZz\n",
       "LWLGeSNtBGpjqp5eiMjJd9sufrJwReYi7LcaFv2yHGf7G31UsQ3SItIm2C7eXRg7zK7FKza9VYF+\n",
       "zZu1EQpSYeycfo2Df8MuSTnv9f6mXZH+Q39OIxH3+A8B6t8URePi9wAAAABJRU5ErkJggg==\n",
       "\" style=\"display:inline;vertical-align:middle;\" /></a><br>"
      ],
      "text/plain": [
       "<IPython.core.display.HTML object>"
      ]
     },
     "metadata": {},
     "output_type": "display_data"
    }
   ],
   "source": [
    "difference_is_nat_pos = \\\n",
    "    Forall((a, b), InSet(subtract(a, b), NaturalPos),\n",
    "           domain=Integer, \n",
    "           conditions=[Less(b, a)])"
   ]
  },
  {
   "cell_type": "markdown",
   "metadata": {},
   "source": [
    "***Some Analogous Non-IntervalMembership Theorems***"
   ]
  },
  {
   "cell_type": "code",
   "execution_count": 48,
   "metadata": {},
   "outputs": [
    {
     "data": {
      "text/html": [
       "<strong id=\"not_int_not_in_interval\"><a class=\"ProveItLink\" href=\"proofs/not_int_not_in_interval/thm_proof.ipynb\">not_int_not_in_interval</a> (conjecture without proof):<br></strong> <a class=\"ProveItLink\" href=\"../__pv_it/theorems/1239a92c2a208ed62edd017d212443fadcd913790/theorem_expr.ipynb\"><img src=\"data:image/png;base64,iVBORw0KGgoAAAANSUhEUgAAATQAAAAZCAMAAACIGiLxAAAAUVBMVEX///8AAAAAAAAAAAAAAAAA\n",
       "AAAAAAAAAAAAAAAAAAAAAAAAAAAAAAAAAAAAAAAAAAAAAAAAAAAAAAAAAAAAAAAAAAAAAAAAAAAA\n",
       "AAAAAAAAAAAsiKZwAAAAGnRSTlMAq1RmmUTNIjK7EInv3XbP4duh6fPj9+eRwQ+hj00AAAAJcEhZ\n",
       "cwAADsQAAA7EAZUrDhsAAAQuSURBVFjD5VmJjuQoDA1XAHPMtWf+/0PXQDiSgiRVyUozGlTqjrpi\n",
       "Gx7289HT9MQizjk5/Q7L40npM6rm6TdajP2qoMl3vgUhPjVD5YvKXxY0fxwiM2xengV8akgRnWSF\n",
       "b0Aj5XvK7oH2iKZri5qTk25eXt6GDLR1+VmvyjyroPHiubO8B9ojmq6d6cSz+SYajfvkRPxFPLsv\n",
       "glZuReqb4fmIpkuLn3jyFqWPQFvoizjjldMygIbeBO0RTZeWPSA77dyPP+a7oIka0lXcQgEtJ4M7\n",
       "ZD5v0sr/nRbo0ICYPR6MqNue1sjUx5nVY1oXljX3s+cDmi5F52oAvCegTHVsGX19z3jl1JIYL/21\n",
       "AxHUTXegGVJB4/FiNNwH7W1N/KCEVGNrrEh74ifutgmI7XDh6+6Exa/1pVQKC8IPS1TnCxmwJqAk\n",
       "yT/2mXveMzqx2nD8DEAbaqqMw0l72QcZQ4/trX0MwzMxxICwPrVm/7Lpe4i/+aVYTVWKjRuVJSdQ\n",
       "27BQcA3Tq5lJDjTlidb4RmgwDXgYFbd9TVkaNEF5qs0ZaCjw5WtQ07dnkwXVeFH6Q6SHP/9yruqV\n",
       "ZF73w5cI+CXuSGqX9C6QOcGmlgY06gfkbdcQ4Xx9wNcVlWzYEXQ1FWk8flRyBloQIDC2Z+u1WL8p\n",
       "STu5W/GVLqyOcXepoYrQitXFTIZdtJ6G58w8AIZ5k0tTtQSmbWrhRCT8oI2qmrznEj+NNDAldm1c\n",
       "C9pGAMiBvTpmEIF2ADb12Uv8pZIelrAxtlyv0niiv9pQUNeCZujKA4DxoBZZxiAweb5eYCZDSdUB\n",
       "aEWTlxPRE/p1laa1++2AthXw4sCe9smvBHJesNngjjjyfvkAEQgyT/RCu7KozIEoXhOBbkGTluTA\n",
       "CMxQNsdixhCNo2GAmaOGvWhi8Wxou0ozYDAGbSugj+yl1E8XBRz3KppwRMyJGtRcAWrqWsfFHLl7\n",
       "KGQedsP3ddpa6uRyNFsKbOFJS2mcIG46Lhpv1UAbEC9TjmbPyWOrtFJCjUHbCHz5lsz17ankOhwd\n",
       "i3LWUhgQ/TcMQAPijZLEN3twfP9Q9JjSqlXQnOiNhmJlolneY4h/i4etdy2oYpHRL4yGgseiukZ6\n",
       "TQQT9EFrBAgc2nPjGu6ff7GPcrfbqG5t7PrzNBsoTWAUQTgqUloM41qtmujcwp3O06TFpJOK1yot\n",
       "TeD5yfTqtI1ASQMDe4xfnKQ9Clr2vT1oAr3dm5Do0cMwW/tU3ulccRCCPq5ncj6E5F4YHwusIh1y\n",
       "M4YeV93wbAW+n9nTIzLvDVi8vde0zTvVB5PbDVWYwEriw8ntgXS/ToOvJ+a2CX3jFp0BSy3pP5rd\n",
       "rUm0XtQYtPcGxJ/ONfpnvzD4HfXd3RZOcvIpbNJkUS+nU9DeG1g/CxqB6Wdej/1j5cP/e/ZlfmbM\n",
       "vHOW/QeZXiOVxODwpQAAAABJRU5ErkJggg==\n",
       "\" style=\"display:inline;vertical-align:middle;\" /></a><br>"
      ],
      "text/plain": [
       "<IPython.core.display.HTML object>"
      ]
     },
     "metadata": {},
     "output_type": "display_data"
    }
   ],
   "source": [
    "# interval_nonmembership\n",
    "not_int_not_in_interval = (\n",
    "    Forall((a, b),\n",
    "           Forall(x, NotInSet(x, Interval(a, b)), domain=Complex, condition=NotInSet(x, Integer)),\n",
    "           domain=Integer))"
   ]
  },
  {
   "cell_type": "code",
   "execution_count": 49,
   "metadata": {},
   "outputs": [
    {
     "data": {
      "text/html": [
       "<strong id=\"int_not_in_interval\"><a class=\"ProveItLink\" href=\"proofs/int_not_in_interval/thm_proof.ipynb\">int_not_in_interval</a> (conjecture without proof):<br></strong> <a class=\"ProveItLink\" href=\"../__pv_it/theorems/073eea01220414f65790b66d172cf598f7d492710/theorem_expr.ipynb\"><img src=\"data:image/png;base64,iVBORw0KGgoAAAANSUhEUgAAAUEAAAAXCAMAAACicA1dAAAARVBMVEX///8AAAAAAAAAAAAAAAAA\n",
       "AAAAAAAAAAAAAAAAAAAAAAAAAAAAAAAAAAAAAAAAAAAAAAAAAAAAAAAAAAAAAAAAAAAAAAAeYafp\n",
       "AAAAFnRSTlMAq1RmmUTNIjK7EInv3Xbp8+P355HBoPSVsQAAAAlwSFlzAAAOxAAADsQBlSsOGwAA\n",
       "BD1JREFUWMPdWNd24yAQFb2zXf//qTt0kECW7TysVycnIYI7w1ymoW37fx7xzKxm7FU1WNxS+HmP\n",
       "x5fTXA+LOdOvKpJIJSzz4TeqE5h8NIHYPDB7WLw/zZ9W1pWxysJ8oIxWZ+Yf7ZSaX8/TIWiNe0EF\n",
       "pyd4cOx6NkJ9tAvSBxE0UvYSgzs+wQnt8oPBH82gvUiQyrlv3/m7DLIW+Q1u4R3Jh8c/Owsut8+4\n",
       "ByuRfNsHO0wb8sCedeGx5rODOG9fe4+0NC2gRIyxY5asFAhkvPD30iAC2fjAoAlJkMbjUfor7Bj9\n",
       "4nFpmu39IWwG4qTuwCO/UTfWR3LA0MwoszCtbhVmvcNZ6D2K8zVnEB6Pofw6NgD8urggqwyFn/Zm\n",
       "WE/Y05xX2LVqOikUyTkIGEiAEFTrCp80g5uwaV7Hv/RWSKcGyMajELWoYFvcz8zMRfPIlh4pBesd\n",
       "bNdor+cMarQ4yzFLmY4R1GAH1RPQoZCk/cvOv9KLmKN+/HSu7U0gnq2le2T/VgJLYneTjeOJQxkl\n",
       "YL+oI1ZORdH8Gs5PYtF3EWrZgNXdU6RPV4Xcyyc22Vn1FDRlcKtuUvvgSZ8hac5ZVsXwvHW/izyz\n",
       "7HymnAGz2dNLntCGeFPykNxDWi7Jx1MBP7kPb/E0RJQ6N2AVly4GSBz0ROMSLprlTqorqIk6d14O\n",
       "t6YDVmg9bOMUpulSofdgNtnvd4M0pcx2pcEut4L5UDUEptwLg97pzWeGvNiQ2sB1dc8SEVguGBR8\n",
       "xAXbVGGy04NpuVBGFyywqrqBOlH4lAmVTx7HIDsHi1rZgQlG552JjqwgfqfmbbsseRPgrZKonFhR\n",
       "CdCQOequSK41KWJhkyCEdS6o/TamkI5BpkYcvDC6JYKqJ61TxQUzrKjuQU1UWdVTgpJvSE1BLut8\n",
       "FChHctHbBd6x6wMJKu5plJN00E+P/WDpooqKkE086tMgbfUg+QzhKj44nnSwr0VMzyBGI05aPGat\n",
       "rEdGDLT1qTxkWFY9gKqoAhpSW3IqCi6HKcFDRVO/9IJBjbyRAvmOYUfPo7zW1JtjY9CxQ8sTuiNS\n",
       "KAn5oZkQfAamZfM6hmUQaaYMViMzDlKfwhM9OSB5bkgzrKjuQJ2oSRRvTi7j7/cfuNa5t29104b8\n",
       "KMeG9MQIdI6BJ8hFIczDWFgoP6ntaK23if8zd1FJOly8oJKDnpSnghOW9iVJy6p7UC/Kn5tqQm9+\n",
       "GfxSBk/fMxgEgDckx5ykcadxTD0zPrZ+QpVmBiEIAsXRnEEVvaXhcuIlg56yrJmZ/s+qB1AnSk0y\n",
       "v1pVg9lHJ2/fu3vxG9+z8GIcI0vFjnpixXXbG2WNlurjHqawR6Dly9VHp3apeOlbZC7J61MLhuj5\n",
       "+PoZjKB3vtieF92AzZesPhCgRWf/KofCFKi/2ipZjJ9gsC8xSzUTV34II2z7bx9xdQV+fEm+CdP/\n",
       "lM1/ASUFIxHNkkjoAAAAAElFTkSuQmCC\n",
       "\" style=\"display:inline;vertical-align:middle;\" /></a><br>"
      ],
      "text/plain": [
       "<IPython.core.display.HTML object>"
      ]
     },
     "metadata": {},
     "output_type": "display_data"
    }
   ],
   "source": [
    "int_not_in_interval = (\n",
    "    Forall((a, b, x),\n",
    "           NotInSet(x, Interval(a, b)),\n",
    "           domain=Integer,\n",
    "           conditions=[Or(Less(x, a), Less(b, x))]))"
   ]
  },
  {
   "cell_type": "code",
   "execution_count": 50,
   "metadata": {},
   "outputs": [
    {
     "data": {
      "text/html": [
       "<strong id=\"bounds_for_int_not_in_interval\"><a class=\"ProveItLink\" href=\"proofs/bounds_for_int_not_in_interval/thm_proof.ipynb\">bounds_for_int_not_in_interval</a> (conjecture without proof):<br></strong> <a class=\"ProveItLink\" href=\"../__pv_it/theorems/513ffb97c325b2dfe4e6dd31b53cae5b39d01a560/theorem_expr.ipynb\"><img src=\"data:image/png;base64,iVBORw0KGgoAAAANSUhEUgAAAVgAAAAXCAMAAAB5y6d/AAAAPFBMVEX///8AAAAAAAAAAAAAAAAA\n",
       "AAAAAAAAAAAAAAAAAAAAAAAAAAAAAAAAAAAAAAAAAAAAAAAAAAAAAAAAAAAo1xBWAAAAE3RSTlMA\n",
       "q1RmmUTNIjK7EInv3XbPqdvtPAm6/gAAAAlwSFlzAAAOxAAADsQBlSsOGwAABCdJREFUWMPVWIuy\n",
       "pCgMlfdLmN3x//91AQmaiHbr3KlaqVsdq2/6HDkkITBNbxyG2Ge//lOfn32r/8NIHNubQ6WvGR7h\n",
       "rpb177l4ia48YHt/YcQ3DN7N8RlutVLB1/olIew1tg+G9v2R9UebKIOWD3GLtRCyxr0kYKXA9sEQ\n",
       "m2Kiy+ksZVj4Q9xqQeXAXyLsTOxVSp9l4byFLKS70ZRBLf4mbMctVrTl0S/RlWtsL+InSn+Ws1u0\n",
       "Q0BJThlCvAvbcaudYxlzeEslCNhOPiXmbaAZl2LA8zcsJNMSP2x7NkRqPDBolpFpHlNYzA641cpa\n",
       "W5z/gTlfhc9awUS4URltGMQGCorGmlia5D6+fIi0p1Jzzl/Xslvswp3VN0uJMvglV0m/mGtYzA64\n",
       "1RoGH3Re+no/Y7MLMv/1L67c1//Z+TtFgTkcXytybEWeuch6sW3FjIyH5fNz7YGa+nz3Huv2HT1l\n",
       "4HUR5nQJS9gBd7UlWIMaKTcuDzYx57J/zKDBJ/9J2OL/658vCyNmHvjPCtsSbxK5MT3Yh+VSNWu4\n",
       "dtnnQJ4HlweGFXQJl7CEHXBXy9PJ1jXbYcLL9nVeJMuNmD4IW/1bu/itsMD8hbATDqszBWZXs1tB\n",
       "XSDHgf0+35DrIqit5RrCEnbAbVb3bs4HkYLp8pfCDEU7SZP/yLFForq6Fxb7e4aFQjyDOADmgbC0\n",
       "FNTZZyjvr3LWL2WGAgKVow0/TtYdGaqkcrmEpeyA22zgrZn1ObttL9cp153UhEtmYm7Ka+YdqjDc\n",
       "joUl/klN++KOeQZnQ2BWx47HJWR9LkqsxAcqW4ddxleZmJ54ZRUOH0WZOjIsFirzBSxhB9xmzcwg\n",
       "a/f7ixO7ba7yZSol9q0Gns7ubYm/g03JDngGO11n1on2BaijKVuM9TJDKZKnPkX006IWj5BhEi9D\n",
       "1AOGsh852ugQWMpOe0Fmt+qS2L7QyW1bXiNMaFcHr8tUerotB3GN3fn/+rf6W9YqC+YZl9iVmWva\n",
       "39iIrJe5UeJS8FEnv2s5PUvBGpbWmUa8V0s+YPAsDE/Ne1jKDrgEvzZtToBSpSDNnbJEmCm95VZc\n",
       "uC3EYSzs3n+r1GzAcxyd2QzCOlpsr5rnk7Onub62+oR8BttxD/hzKX1K5L44rK1dqRXlOU8w6PUE\n",
       "sJ0kwkTK4CYs9veMnBY7D5Qu+ICZ+ValRl0Euun4s3ucz3c0P3Q/pHJQp3I2siVerKzHkfoskwqp\n",
       "VhcDt0CCsZxeTrNRjUX+wRJhOw8Et2kf8IVsB6Fhe+YMtrfHx4u8h8iAe4nPT55LaJUaq05PV4cz\n",
       "T/jd/fnNq56hPzQm/ulF50fdHiJ/s+LKj5+vgU/U2RJDxR8QdoKrFJMezT99jsdHyIB7iS9Onp8I\n",
       "y3YLo2+9sdVvuST+u+NkpVDA2xtSGfteLf4DPYsjuOyqJHQAAAAASUVORK5CYII=\n",
       "\" style=\"display:inline;vertical-align:middle;\" /></a><br>"
      ],
      "text/plain": [
       "<IPython.core.display.HTML object>"
      ]
     },
     "metadata": {},
     "output_type": "display_data"
    }
   ],
   "source": [
    "bounds_for_int_not_in_interval = (\n",
    "    Forall((a, b, x),\n",
    "           Or(Less(x, a), Less(b, x)),\n",
    "           domain=Integer,\n",
    "           conditions=[NotInSet(x, Interval(a, b))]))"
   ]
  },
  {
   "cell_type": "code",
   "execution_count": 51,
   "metadata": {},
   "outputs": [
    {
     "data": {
      "text/html": [
       "<strong id=\"interval_nonmembership_is_bool\"><a class=\"ProveItLink\" href=\"proofs/interval_nonmembership_is_bool/thm_proof.ipynb\">interval_nonmembership_is_bool</a> (conjecture without proof):<br></strong> <a class=\"ProveItLink\" href=\"../__pv_it/theorems/88dc3e7e4f3c151f9d174397d69b1f5b171537df0/theorem_expr.ipynb\"><img src=\"data:image/png;base64,iVBORw0KGgoAAAANSUhEUgAAASEAAAAWCAMAAAC4y9qIAAAARVBMVEX///8AAAAAAAAAAAAAAAAA\n",
       "AAAAAAAAAAAAAAAAAAAAAAAAAAAAAAAAAAAAAAAAAAAAAAAAAAAAAAAAAAAAAAAAAAAAAAAeYafp\n",
       "AAAAFnRSTlMAq1RmmUTNIjK7EInv3Xbp8+P355HBoPSVsQAAAAlwSFlzAAAOxAAADsQBlSsOGwAA\n",
       "BChJREFUWMPtWOvS2ygMNfe72t22fv9HXYEBA4bEiftzmW8qTyMEOkhHgm17PiAEfVNVDfK1Vh5W\n",
       "iC93pui9BVc7+MCzl8PddgBoLxdD2m6SFPbbrWlijrkC3p2yN3KXPhDRqaNvpCpR9gChW2ao6+XS\n",
       "rW7S/jE+1vhQvk02Bu+8MxEWJe0BUVFH33gNAKkeIHTHjJW9XA3exaQLX2xJ8st0ad8ihKg4hR+N\n",
       "OvpWD0yZJ1l2xwxnvVyNHpKvENrpZTrjdxBiNKdDVo++FWwdfcRDN8z4Qc7owITw46d8ipA4M/Oc\n",
       "7u1lqRDkFSHZqkffWD5R+Yyp35uhspcTxyTgtoh+HEPNnPNTsstS1xgiirlWPfnmI5bBu4e17K0Z\n",
       "7nppAYjV7gw6leJwZKnqoiIOFNyjIYK26YCQawqAurJSZGoLgbhOPfnG05kZ+xCht2bKGRaJiQ4E\n",
       "Nh56jmcDCDwjJjz+bG4VNrsjAHZP5qDmNGugn5QTRChIvwduW/XkmyLln7HqypF1iTeO498MoaWZ\n",
       "SsC0kww3ydBhUoNfzmqO8sfvNkl+K+WOBsEnqFUlbdrwn1wxNTCRN3CoH77Fc592fTXiNBBjUCOg\n",
       "V86OGZznLs0UphSd1E18HP+R8vSff0M4D0YRmWfxPaF7iwsOs/uha4k8MNL7sFQcZkAoCteoHw5R\n",
       "WBCsz5zJef5AE5oqNu+pl2bmCG31mGufN6mFmue89Salz632PeEocvC4grHww1KzGIrdkGnUs2+y\n",
       "Jr91DFzJUb1HLh3aUb7x1a3jNAPAFf69zLLkBKpY2/VBlzQ6mmK7R9Nsv98N8YOyzpachlXLNSAk\n",
       "G/Xsm6M59yymkd5VvavYDXgPOFNUrxCqZkBtxGxy6IwMtNJi1pJ4TGfeAP4g+Lxy2+Q1kRu90fnv\n",
       "uvAWTj+ZuvEDYI0QhUY9+6Y8KekUc7TOYYnRRRNCFja3vLlWMyzBMCJZqu0h6a4tx6VEgyNiSvSi\n",
       "t4m40tBGMFas4aPyZ9wAH/sh3u5c0glCqOCg1KFDvfhW9hUpAkhLQ5wgSCYNmg7c2TYx+rt9495+\n",
       "PWodWmk5niPlrN2pJeaXXSBkCTitCDQIBj5+VDuu3mxOhILol+peDEB6Y867fVUfSk9qIQwrAMSk\n",
       "93TTJ/aC6riys+9eP2IgXjAqby0v3lx+/zHdVeDbe9ms4RzsCHdZqusywtQ3H2lIMGy3IipIQykZ\n",
       "zy7QpSAX4fX7kPJYQLYro5e744s75OQC/rcQ4p897mT10TeBUQ8u1nSMHay0B6EpU4o9IRjrRpI3\n",
       "L2gchAO4OmtUL68HN6nC4B8hVFquD58uivqLBq/jBxd5SDx+YyxV0a52O3sYOJvib0YpaetTWbyF\n",
       "qHe+ffLw6W6/5paL5+oCOr2zKE6+xUi5MhU+AyirQ/BLhNj2/zjGf0JjI/UbFU3HAAAAAElFTkSu\n",
       "QmCC\n",
       "\" style=\"display:inline;vertical-align:middle;\" /></a><br>"
      ],
      "text/plain": [
       "<IPython.core.display.HTML object>"
      ]
     },
     "metadata": {},
     "output_type": "display_data"
    }
   ],
   "source": [
    "# For non-membership in integer Intervals -- check w/WW about this (domain(s)?)\n",
    "interval_nonmembership_is_bool = (\n",
    "    Forall((a, b),\n",
    "           Forall(x, in_bool(NotInSet(x, Interval(a, b)))),\n",
    "           domain=Integer))"
   ]
  },
  {
   "cell_type": "code",
   "execution_count": 52,
   "metadata": {},
   "outputs": [
    {
     "data": {
      "text/html": [
       "<strong id=\"disjoint_intervals\"><a class=\"ProveItLink\" href=\"proofs/disjoint_intervals/thm_proof.ipynb\">disjoint_intervals</a> (conjecture without proof):<br></strong> <a class=\"ProveItLink\" href=\"../__pv_it/theorems/676bce596d33aa443fa54f76b5cc8c94d1ed704c0/theorem_expr.ipynb\"><img src=\"data:image/png;base64,iVBORw0KGgoAAAANSUhEUgAAAaEAAAAXBAMAAABQYu0tAAAAMFBMVEX///8AAAAAAAAAAAAAAAAA\n",
       "AAAAAAAAAAAAAAAAAAAAAAAAAAAAAAAAAAAAAAAAAAAv3aB7AAAAD3RSTlMAq1RmmUTNIjK7EInv\n",
       "3XZ/CtNrAAAACXBIWXMAAA7EAAAOxAGVKw4bAAAFEElEQVRYw9VXa2gcVRQ+2czuvPaVqEUbsANC\n",
       "MSrNiiLUH3ElVgRBF/rTYrY+kIrItIo/1JqNiiBWEkGsa4uMUH9opLs+8JGSGK2BigpbqRSqhQn5\n",
       "kbTVENpG01ir55x7Z/Yx+xKM1QtzmXvmOzPfd+85594BuLjNxuvtTBPADrt83xpow8VucQuvB50m\n",
       "CO0K/2kbwHvxJkmjq1aH7y/ToB4UtxOCjDf02rV49TXiaewtYa8nvXFfY0HaI2kGxlMAm8jw0Ooo\n",
       "UpcgfFbcrhPx4A0Bisw5S2Ib+kfS2JklbzjR5FMJSwAfBhimL4+uUlAtAch5NaTFm2aVyIKSakoU\n",
       "abaraNARwBtxHvAbprV6iholECuKNic66LStaEICow504jRF4F9XNMKK1jcnyk/aU/SABEZQznfH\n",
       "j3+zKnLMyfkleOIL0GYXsuZPFuxb2ETDF756ZsYNrTvcjZA7PaJqz5wbfMPWhe6AosnZXDBfe+ZP\n",
       "S6CJ5eEOgDfa5Kj8HUHGl2DiGm2FdwBKULC0o6C7OITDlvYbxHiN7qfudry22PpK8A2/OgUb4lPe\n",
       "mIA7LSWY9MKbgZ1Ya7aD6tdHbVsV8nMxHR1ff7SHCehVT3vtGjjbfDc9S7UOXoEtDriY5LEiaMs4\n",
       "hL0AZ6Si72VBNw6CUgoQDa1A1AX1tLcSVPl/JFOtcvRGIQwMoSzdMctbcU8VdAg1zuQzMdvc7wQU\n",
       "9bo+3Ki0sRu2ggsGK4qdm6OyNYLl53dSlAe4IBVNI481+HVlEWLFYEhkIYHWt+4Tghi4Ui90pDcB\n",
       "tUVU5VYUhkNV0BMAt+F8d8Kzj0Gtoo0pH67e6lTY2I1y31NkTPyZRkV9SOhcUBE8jzEfHYVC8ISD\n",
       "NAdxGj6WTyQw2DxvAoYp9LL92I31f0JRd2GGC+asy6ZHeQ/Glk5XKGLoCcuHa122cGEbu1Wt0ZPQ\n",
       "uSzX6GyFIlNGHZkQe0vd7ehuh2JPNgEMNunNwBAF7we4zxpHMVsxuY7xPvGDNsWmZcpqSrcdubIi\n",
       "hu5i8gwPv2oLF2FjN97wR2UebQC4BNlFEbrkK4qwojdlCStYsCYUOGUmcpghYE55YY3ABM5wYDGl\n",
       "t8mVgRbxaSwMSppEgJ6iWqGMGjk2LcJmdtlvQlkRQ0N7HAkP8x25CBu7cSxOQ8cZ4n+dA7tRkXYI\n",
       "IkWSs40UmVl65/uSqO6GjiiivHkdVaSUnhZFuZCVQCx0Js8uWTyc9ObqrVBCdSAkmolTwYvmlCQN\n",
       "ODoz8VG4KZ/PW1Ach3d9RQLKQgguVoZdhI3cuO2bnP8jOfzt2nsWTmUogh4/cBngcPj85b3nk9A1\n",
       "jpCXJVHjyk+3z7PTEb9Da8+A3GFjx7z96MANJ0WOpStwwpsVxbwVLNj6zUgnAVEkmLCl6aTzEh8v\n",
       "r07BuK9IQrVLbYYbn5Ek4UI2dmtwRAvmfq7FUcA7M1wDbQJ3+uXCHtnsjEHM2QhjEMlAcYxMzzk6\n",
       "FwoFwqXyGhGUoqrLITgWCTpHZfgwjTZ2C57ihnL1SHSm2yRabFfRgDcKD2z4ENNdu8vFXh3od3ZZ\n",
       "bFJfx4fXd516LekrYjsnChBcFG1yETb/cWXTp9bXZ7Ebr59bHFQoY/g7bQBr/yKsQA9j+Xy5tugN\n",
       "3tXb6mdYnVxb/wHV0qHmJ//3MATiYsNvDdSrmYSd2r52qv/5f0KXNuhmTJ/qLoNbA+dqojrQN1T0\n",
       "ItbAfM3K1LP915v6fyD5F71TntU6ddaAAAAAAElFTkSuQmCC\n",
       "\" style=\"display:inline;vertical-align:middle;\" /></a><br>"
      ],
      "text/plain": [
       "<IPython.core.display.HTML object>"
      ]
     },
     "metadata": {},
     "output_type": "display_data"
    }
   ],
   "source": [
    "disjoint_intervals = (\n",
    "    Forall((a, b, c, d),\n",
    "           Disjoint(Interval(a, b), Interval(c, d)),\n",
    "           domain=Integer,\n",
    "           condition=number_ordering(LessEq(a, b), Less(b, c), LessEq(c, d))\n",
    "          ))"
   ]
  },
  {
   "cell_type": "code",
   "execution_count": 53,
   "metadata": {},
   "outputs": [
    {
     "name": "stdout",
     "output_type": "stream",
     "text": [
      "These theorems may now be imported from the theory package: proveit.numbers.number_sets.integers\n"
     ]
    }
   ],
   "source": [
    "%end theorems"
   ]
  },
  {
   "cell_type": "code",
   "execution_count": null,
   "metadata": {},
   "outputs": [],
   "source": []
  }
 ],
 "metadata": {
  "kernelspec": {
   "display_name": "Python 3",
   "language": "python",
   "name": "python3"
  }
 },
 "nbformat": 4,
 "nbformat_minor": 0
}