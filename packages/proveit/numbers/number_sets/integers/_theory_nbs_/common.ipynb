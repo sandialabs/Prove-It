{
 "cells": [
  {
   "cell_type": "markdown",
   "metadata": {},
   "source": [
    "Common expressions for the theory of <a class=\"ProveItLink\" href=\"theory.ipynb\">proveit.numbers.number_sets.integers</a>\n",
    "========"
   ]
  },
  {
   "cell_type": "code",
   "execution_count": 1,
   "metadata": {},
   "outputs": [
    {
     "name": "stdout",
     "output_type": "stream",
     "text": [
      "Defining common sub-expressions for theory 'proveit.numbers.number_sets.integers'\n",
      "Subsequent end-of-cell assignments will define common sub-expressions\n",
      "%end_common will finalize the definitions\n"
     ]
    }
   ],
   "source": [
    "import proveit\n",
    "# Prepare this notebook for defining the common expressions of a theory:\n",
    "%common_expressions_notebook # Keep this at the top following 'import proveit'.\n",
    "from proveit import Literal\n",
    "from proveit.numbers.number_sets.integers.integer import IntegerSet, IntegerNegSet, IntegerNonZeroSet, IntegerNonPosSet\n",
    "%begin common"
   ]
  },
  {
   "cell_type": "code",
   "execution_count": 2,
   "metadata": {},
   "outputs": [
    {
     "data": {
      "text/html": [
       "<strong id=\"Integer\">Integer:</strong> <a class=\"ProveItLink\" href=\"../__pv_it/common/e6b4e90f9467053e055a4fd2f735c0bb79cb79300/common_expr.ipynb\"><img src=\"data:image/png;base64,iVBORw0KGgoAAAANSUhEUgAAAA4AAAAPBAMAAAAmOuNHAAAAMFBMVEX///8AAAAAAAAAAAAAAAAA\n",
       "AAAAAAAAAAAAAAAAAAAAAAAAAAAAAAAAAAAAAAAAAAAv3aB7AAAAD3RSTlMAVM3vu91mdqsymYki\n",
       "EESqKsraAAAACXBIWXMAAA7EAAAOxAGVKw4bAAAAcElEQVQI12NgVP6sEuqcwMDuMYFBgYmBgWsB\n",
       "A3vCRgYGjgMMV3gdGBh4GRhWckxgAALOhlkgioHlgi+YlmYrANMgXUDALrCPgeECA8MVHqCuHgaG\n",
       "TqAJvB8YOBe8AhoWANSly8Dj6MDw2MnExd5kAwAL3Bb91imKgQAAAABJRU5ErkJggg==\n",
       "\" style=\"display:inline;vertical-align:middle;\" /></a><br>"
      ],
      "text/plain": [
       "<IPython.core.display.HTML object>"
      ]
     },
     "metadata": {},
     "output_type": "display_data"
    }
   ],
   "source": [
    "Integer = IntegerSet()"
   ]
  },
  {
   "cell_type": "code",
   "execution_count": 3,
   "metadata": {},
   "outputs": [
    {
     "data": {
      "text/html": [
       "<strong id=\"IntegerNeg\">IntegerNeg:</strong> <a class=\"ProveItLink\" href=\"../__pv_it/common/10351cb496c4f8d93f519e6e5ea45196220732110/common_expr.ipynb\"><img src=\"data:image/png;base64,iVBORw0KGgoAAAANSUhEUgAAABoAAAAPBAMAAAAIf8LVAAAAMFBMVEX///8AAAAAAAAAAAAAAAAA\n",
       "AAAAAAAAAAAAAAAAAAAAAAAAAAAAAAAAAAAAAAAAAAAv3aB7AAAAD3RSTlMAVM3vu91mdqsymYki\n",
       "EESqKsraAAAACXBIWXMAAA7EAAAOxAGVKw4bAAAAeklEQVQI12NgVP6sEuqcwAAB7B4TGBSYoBwG\n",
       "rgUM7AkbGThdgMCHgeMAwxVeB5gcLwPDSo4JDHDA2TALwWFgueCLxJNmK0DiIcwHWSiwj4HhAox3\n",
       "hQdofg+M1wm0kfcDzPwFrxgYOALg5usy8DjCHPPYycTF3mQDhAMACk0YYpxKzQAAAAAASUVORK5C\n",
       "YII=\n",
       "\" style=\"display:inline;vertical-align:middle;\" /></a><br>"
      ],
      "text/plain": [
       "<IPython.core.display.HTML object>"
      ]
     },
     "metadata": {},
     "output_type": "display_data"
    }
   ],
   "source": [
    "IntegerNeg = IntegerNegSet()"
   ]
  },
  {
   "cell_type": "code",
   "execution_count": 4,
   "metadata": {},
   "outputs": [
    {
     "data": {
      "text/html": [
       "<strong id=\"IntegerNonZero\">IntegerNonZero:</strong> <a class=\"ProveItLink\" href=\"../__pv_it/common/3089158404578cd9619b34cc8e7e3ea567d4b3d60/common_expr.ipynb\"><img src=\"data:image/png;base64,iVBORw0KGgoAAAANSUhEUgAAACMAAAAUCAMAAAAweHR+AAAAOVBMVEX///8AAAAAAAAAAAAAAAAA\n",
       "AAAAAAAAAAAAAAAAAAAAAAAAAAAAAAAAAAAAAAAAAAAAAAAAAAAAAAACXHtMAAAAEnRSTlMAVM3v\n",
       "u91mdqsymYkiEETt5cn1eqECAAAACXBIWXMAAA7EAAAOxAGVKw4bAAAAy0lEQVQoz4VS7Q7DIAgE\n",
       "xW/rNt//YYdo635IRpQmcOlxhwBKXPA3SpNcQlEhNY7sA0AjDRPryDZx6vUMacJQ+xjKIgAa260h\n",
       "58h6gEwjXnw9JME4rgaK45dGzozg5TMxlofKeZUL3rLXmJOr4xqPy7MzuN4fEq49s5iVEwijUMSH\n",
       "c2iPu5zy3aFtMXuYr11+OhiOdmARS2eYs2W/urEdIQHXCvVds+hKP1s67i+t5tU1CItuU3d0GoZF\n",
       "mzFIJdSeSrNkLFvPyyflzX0BidcFwrqmdZcAAAAASUVORK5CYII=\n",
       "\" style=\"display:inline;vertical-align:middle;\" /></a><br>"
      ],
      "text/plain": [
       "<IPython.core.display.HTML object>"
      ]
     },
     "metadata": {},
     "output_type": "display_data"
    }
   ],
   "source": [
    "IntegerNonZero = IntegerNonZeroSet()"
   ]
  },
  {
   "cell_type": "code",
   "execution_count": 5,
   "metadata": {},
   "outputs": [
    {
     "data": {
      "text/html": [
       "<strong id=\"IntegerNonPos\">IntegerNonPos:</strong> <a class=\"ProveItLink\" href=\"../__pv_it/common/911dadb7000e770357de5f618335e280f17f98600/common_expr.ipynb\"><img src=\"data:image/png;base64,iVBORw0KGgoAAAANSUhEUgAAACMAAAATBAMAAADojanHAAAAMFBMVEX///8AAAAAAAAAAAAAAAAA\n",
       "AAAAAAAAAAAAAAAAAAAAAAAAAAAAAAAAAAAAAAAAAAAv3aB7AAAAD3RSTlMAVM3vu91mdqsymYki\n",
       "EESqKsraAAAACXBIWXMAAA7EAAAOxAGVKw4bAAAAzUlEQVQY02NgQABGHwbu7RsYkEXcGRjSGZ4g\n",
       "ibC5AQlLBv4DcBF2RyDB85eBWYCBUfmzSqhzAqchSJzzLwNrAgO7xwQGBSYGBpG9ECHmAgauBQzs\n",
       "CRuB3Cd7wRr5BRg4DjBc4XUA6ZqxBmo8LwPDSo4JYBtO9DKUM7wAm9kwC2rrAaBT14IYLBd8GdCA\n",
       "NFsBuhDICQycLkDgA3O2wD4Ghgsoiq7wAJ3QgyLUCXQZ7wdkEc4FrxgYOAKQhVgu6DLwODogCz12\n",
       "MnGxN0EOSwCzWyxTz/5IsgAAAABJRU5ErkJggg==\n",
       "\" style=\"display:inline;vertical-align:middle;\" /></a><br>"
      ],
      "text/plain": [
       "<IPython.core.display.HTML object>"
      ]
     },
     "metadata": {},
     "output_type": "display_data"
    }
   ],
   "source": [
    "IntegerNonPos = IntegerNonPosSet()"
   ]
  },
  {
   "cell_type": "code",
   "execution_count": 6,
   "metadata": {},
   "outputs": [
    {
     "data": {
      "text/html": [
       "<strong id=\"infinity\">infinity:</strong> <a class=\"ProveItLink\" href=\"../__pv_it/common/7875e51279427bfc5cfbe257a7e8862d194c8f9b0/common_expr.ipynb\"><img src=\"data:image/png;base64,iVBORw0KGgoAAAANSUhEUgAAABMAAAAKBAMAAACkp3isAAAAMFBMVEX///8AAAAAAAAAAAAAAAAA\n",
       "AAAAAAAAAAAAAAAAAAAAAAAAAAAAAAAAAAAAAAAAAAAv3aB7AAAAD3RSTlMAMnaZZhC7ie9EVM0i\n",
       "q905P93KAAAACXBIWXMAAA7EAAAOxAGVKw4bAAAAbUlEQVQI12NgEDJhYGAIMQlgYGBJquhk4NoZ\n",
       "WMjAcJiBdf+CtQwM7AwMBQwMEb82MDAwTmBQAJL/JwCVO4CYDPUXgIQCmLn7CwMDzwKGhQwMvEvf\n",
       "CzCwBzAwB7AmMZz7dAZkem2uAAOD9u8FDAD5jxjGmxnrowAAAABJRU5ErkJggg==\n",
       "\" style=\"display:inline;vertical-align:middle;\" /></a><br>"
      ],
      "text/plain": [
       "<IPython.core.display.HTML object>"
      ]
     },
     "metadata": {},
     "output_type": "display_data"
    }
   ],
   "source": [
    "infinity = Literal('infinity',r'\\infty')"
   ]
  },
  {
   "cell_type": "code",
   "execution_count": 7,
   "metadata": {},
   "outputs": [
    {
     "name": "stdout",
     "output_type": "stream",
     "text": [
      "These common expressions may now be imported from the theory package: proveit.numbers.number_sets.integers\n"
     ]
    }
   ],
   "source": [
    "%end common"
   ]
  },
  {
   "cell_type": "code",
   "execution_count": null,
   "metadata": {},
   "outputs": [],
   "source": []
  }
 ],
 "metadata": {
  "kernelspec": {
   "display_name": "Python 3",
   "language": "python",
   "name": "python3"
  }
 },
 "nbformat": 4,
 "nbformat_minor": 0
}