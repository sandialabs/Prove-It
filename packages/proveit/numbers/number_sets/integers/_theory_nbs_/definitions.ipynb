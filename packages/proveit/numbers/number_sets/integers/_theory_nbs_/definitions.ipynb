{
 "cells": [
  {
   "cell_type": "markdown",
   "metadata": {},
   "source": [
    "Conservative definitions for the theory of <a class=\"ProveItLink\" href=\"theory.ipynb\">proveit.numbers.number_sets.integers</a>\n",
    "========"
   ]
  },
  {
   "cell_type": "code",
   "execution_count": null,
   "metadata": {},
   "outputs": [],
   "source": [
    "import proveit\n",
    "# Prepare this notebook for defining the conservative definitions of a theory:\n",
    "%definitions_notebook # Keep this at the top following 'import proveit'.\n",
    "\n",
    "from proveit import a, b, c, m, n, x, S\n",
    "from proveit import Function\n",
    "from proveit.core_expr_types import FunctionalPower\n",
    "from proveit.logic import Or, Forall, Exists, Equals, InSet, Set, Difference, SubsetEq, Bijections, Inverse\n",
    "from proveit.numbers import zero, Natural, Integer, IntegerNonZero\n",
    "from proveit.numbers.number_sets.natural_numbers.successor import NatSuccessor\n",
    "from proveit.numbers.number_sets.integers.successor import IntSuccessor\n",
    "from proveit.numbers.number_sets.integers.predecessor import IntPredecessor\n",
    "from proveit.numbers.number_sets.integers import IntAdd"
   ]
  },
  {
   "cell_type": "code",
   "execution_count": null,
   "metadata": {},
   "outputs": [],
   "source": [
    "%begin defining_properties"
   ]
  },
  {
   "cell_type": "code",
   "execution_count": null,
   "metadata": {},
   "outputs": [],
   "source": [
    "ints_extend_nats = SubsetEq(Natural, Integer)\n",
    "int_successor_extends_nat_successor = Forall(n, Equals(IntSuccessor(n), NatSuccessor(n)),\n",
    "                                             domain=Natural)\n",
    "int_successor_is_bijection = InSet(IntSuccessor._operator_, Bijections(Integer, Integer))\n",
    "ints_are_nats_or_precede_zero = Forall(a, Or(InSet(a, Natural), \n",
    "                                             Exists(n, Equals(Function(FunctionalPower(IntSuccessor._operator_, n), a),\n",
    "                                                              zero),\n",
    "                                                    domain=Natural)),\n",
    "                                       domain=Integer)"
   ]
  },
  {
   "cell_type": "code",
   "execution_count": null,
   "metadata": {},
   "outputs": [],
   "source": [
    "Equals(IntPredecessor._operator_, Inverse(IntSuccessor._operator_))"
   ]
  },
  {
   "cell_type": "code",
   "execution_count": null,
   "metadata": {},
   "outputs": [],
   "source": [
    "int_nonzero_def = Equals(IntegerNonZero, Difference(Integer, Set(zero)))"
   ]
  },
  {
   "cell_type": "code",
   "execution_count": null,
   "metadata": {},
   "outputs": [],
   "source": [
    "int_add_successor = Forall(\n",
    "    (a, b), Equals(IntAdd(a, IntSuccessor(b)),\n",
    "                   IntSuccessor(IntAdd(a, b))),\n",
    "    domains=(Integer, Integer))\n",
    "int_add_predecessor = Forall(\n",
    "    (a, b), Equals(IntAdd(a, IntPredecessor(b)),\n",
    "                   IntPredecessor(IntAdd(a, b))),\n",
    "    domains=(Integer, Integer))"
   ]
  },
  {
   "cell_type": "markdown",
   "metadata": {},
   "source": [
    "To determine addition by a negative number, we can use:\n",
    "$(a + (-b)) + b = a + ((-b) + b) = a$ so therefore $(a + (-b)) = S^{-b}(a)$."
   ]
  },
  {
   "cell_type": "code",
   "execution_count": null,
   "metadata": {},
   "outputs": [],
   "source": [
    "%end defining_properties"
   ]
  },
  {
   "cell_type": "code",
   "execution_count": null,
   "metadata": {},
   "outputs": [],
   "source": []
  }
 ],
 "metadata": {
  "kernelspec": {
   "display_name": "Python 3 (ipykernel)",
   "language": "python",
   "name": "python3"
  }
 },
 "nbformat": 4,
 "nbformat_minor": 0
}
