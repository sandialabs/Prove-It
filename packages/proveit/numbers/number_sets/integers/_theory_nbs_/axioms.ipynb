{
 "cells": [
  {
   "cell_type": "markdown",
   "metadata": {},
   "source": [
    "Axioms for the theory of <a class=\"ProveItLink\" href=\"theory.ipynb\">proveit.numbers.number_sets.integers</a>\n",
    "========"
   ]
  },
  {
   "cell_type": "code",
   "execution_count": 1,
   "metadata": {},
   "outputs": [
    {
     "name": "stdout",
     "output_type": "stream",
     "text": [
      "Defining axioms for theory 'proveit.numbers.number_sets.integers'\n",
      "Subsequent end-of-cell assignments will define axioms\n",
      "%end_axioms will finalize the definitions\n"
     ]
    }
   ],
   "source": [
    "import proveit\n",
    "# Prepare this notebook for defining the axioms of a theory:\n",
    "%axioms_notebook # Keep this at the top following 'import proveit'.\n",
    "from proveit.logic import And, Equals, Forall, Iff, Implies, InSet, SetEquiv, SetOfAll, SubsetProper, Union\n",
    "from proveit.numbers import Complex, Integer, Interval, Natural, NaturalPos, Neg\n",
    "from proveit.numbers import Add, greater, Less, LessEq, number_ordering\n",
    "from proveit.numbers import zero, one, num\n",
    "from proveit import a, b, n, m, x, y, S\n",
    "%begin axioms"
   ]
  },
  {
   "cell_type": "markdown",
   "metadata": {},
   "source": [
    "**Define the set of naturals, $\\mathbb{N}$, as, essentially, the minimal set that contains zero and all of its successors:**"
   ]
  },
  {
   "cell_type": "code",
   "execution_count": 2,
   "metadata": {},
   "outputs": [],
   "source": [
    "#naturals_def = Forall(n, Equals(InSet(n, Natural), Forall(S, Implies(And(InSet(zero, S), Forall(x, InSet(Add(x,one), S), domain=S)), InSet(n, S)))))"
   ]
  },
  {
   "cell_type": "markdown",
   "metadata": {},
   "source": [
    "that is, $n \\in \\mathbb{N}$ iff n is in all sets that contain zero and all successors."
   ]
  },
  {
   "cell_type": "markdown",
   "metadata": {},
   "source": [
    "**Define the integers, $\\mathbb{Z}$ as the union of the naturals and the negated positive naturals (i.e., the positive and negative forms of all natural numbers where zero is its own negative):**"
   ]
  },
  {
   "cell_type": "code",
   "execution_count": 3,
   "metadata": {},
   "outputs": [
    {
     "data": {
      "text/html": [
       "<strong id=\"integers_def\">integers_def:</strong> <a class=\"ProveItLink\" href=\"../__pv_it/axioms/c98bc095b37f7375ece545e0e0b3b3a5654177fd0/axiom_expr.ipynb\"><img src=\"data:image/png;base64,iVBORw0KGgoAAAANSUhEUgAAAL8AAAAZBAMAAACSgeLGAAAAMFBMVEX///8AAAAAAAAAAAAAAAAA\n",
       "AAAAAAAAAAAAAAAAAAAAAAAAAAAAAAAAAAAAAAAAAAAv3aB7AAAAD3RSTlMAVM3vu91mdqsymYki\n",
       "EESqKsraAAAACXBIWXMAAA7EAAAOxAGVKw4bAAAC1klEQVRIx6WWTWgTURDH/2k32c0mG3LwZMXE\n",
       "j/bU1hxCEZQ22gUrqPTSm2BUpNSDBD3Yi7BWUAoetqhY9NAgFTRBiYgfl0qwKEUPWaRFUKERRYpo\n",
       "VQTBQ8R5m8/dzYumeZCw783b+c3Mm5l9AGd48mh5yI2E61vXD3+ML1PCnPVVu5INDQij9HNt+bl1\n",
       "ZDBuFwlx5ZDaA99Av3X95Ff7zun9fIDbAMQhHeE2h2ieGMEVYNm67Co4tQzxAaJGB5GEGL/nEKUB\n",
       "6aAvjnY2MUP5hv35hp1aHjQINNkjZbGoOA/jD0nWoRtuNjG1LqwBgC6CALcl3S7wMvTzxNNWAbOm\n",
       "Mu2aM3jDzLdJMdMi4JSZMIYzD6QwAwg40AAQGH/3aM8/AN8ojdDhSRTrbsQcmgmNMYA3ubRkBcg1\n",
       "5eETLmA5W7KSM2ZY8OskKdo08/gPuwatgPmagll1x5AjBbkgH5CjhiMGnwCGvUKSJkAyzlkAC70s\n",
       "9zpNT3VjOY8QvahM8Am0BYusY1ys74GiVUM0zfJhttaSEDDBQtVbR7Ov5AF5OMkUfbedQQmAqwKb\n",
       "7Sv3FQhajRLS/ouyPGRx/1k679leaaQzWXiTn0mXPfsk8koguniZzT6yptbjSNMd1DnI0vvV6hlX\n",
       "8y5tDncqAMoiweiBf5e9lMUIecFCe8PsQJugHNPtAP9viOGx2jRN0R7XqIxMBXAU+LA7qg5EMzZA\n",
       "oADvtig9vDKnLzs3n4GjDoahnA8WAcfHTrOexoyZ+pLI+FI3U3fZnlvc4++vv8ypZOVEH3Zi0fRW\n",
       "n9tY9aCLC0g3BfC/DqOAT0WALMbKAKXABVziNPiIc40dk5QIRHBEVdWgS1cy4TLAo3EBUv3i8f9w\n",
       "9vw++mvX5aR+vegB3ifKdeDONv1NfnHWjnzMTMnBPaULRvE2Imq132Te6Gjq/rAC8SH8e+npSjeg\n",
       "/cetYk33oreqanlLJpf+AlT4uQ6ArWMWAAAAAElFTkSuQmCC\n",
       "\" style=\"display:inline;vertical-align:middle;\" /></a><br>"
      ],
      "text/plain": [
       "<IPython.core.display.HTML object>"
      ]
     },
     "metadata": {},
     "output_type": "display_data"
    }
   ],
   "source": [
    "integers_def = Equals(Integer, Union(Natural, SetOfAll(n, Neg(n), domain=NaturalPos)))"
   ]
  },
  {
   "cell_type": "markdown",
   "metadata": {},
   "source": [
    "**Defining properties of individual natural numbers:**"
   ]
  },
  {
   "cell_type": "code",
   "execution_count": 4,
   "metadata": {},
   "outputs": [],
   "source": [
    "#add_by_zero = Forall(x, Equals(Add(x, zero), x), domain=Complex)"
   ]
  },
  {
   "cell_type": "markdown",
   "metadata": {},
   "source": [
    "#### Defining properties of an Interval (a set of contiguous integers):"
   ]
  },
  {
   "cell_type": "code",
   "execution_count": 5,
   "metadata": {},
   "outputs": [
    {
     "data": {
      "text/html": [
       "<strong id=\"integer_interval_is_subset_of_integers\">integer_interval_is_subset_of_integers:</strong> <a class=\"ProveItLink\" href=\"../__pv_it/axioms/4e12849180fb2e610837d31813a37a87168124920/axiom_expr.ipynb\"><img src=\"data:image/png;base64,iVBORw0KGgoAAAANSUhEUgAAAMIAAAAWBAMAAABgYF47AAAAMFBMVEX///8AAAAAAAAAAAAAAAAA\n",
       "AAAAAAAAAAAAAAAAAAAAAAAAAAAAAAAAAAAAAAAAAAAv3aB7AAAAD3RSTlMAq1RmmUTNIjK7EInv\n",
       "3XZ/CtNrAAAACXBIWXMAAA7EAAAOxAGVKw4bAAAC80lEQVRIx7VVS2gTQRj+2s1zk6yr4gOEsuBB\n",
       "QasrSKEeSqBaFFED1Yv0EFCRVg+pehFEUxE8KNSKVFNf24sQq31ZEYtKwYNGqfYiiiWQKnipBylI\n",
       "pUrx//eRbLvNqAcHZnZmvn/mm/+5wJ9bkLq8TySwRnT0L9on6l/2iyTauubvVB791Zy/ofsLgMrr\n",
       "1aLjlf3UZ8qh2VEeO+ZvKx1pJAPAZ2Abrw+LGO5Qj4yVhQ/y8HT+ri8ORR8EAgba2FqXRAz1Yoap\n",
       "BRkqUsjKdK0UZxJENBHDiJDBP+NmUG7m8/k0RwawvYInryDppIrQDUkhg4XYDKEjqSIQUs/x5wAw\n",
       "ms+/FjH4+p17Wp+d9sKBqgmtyHC/RICwYQbYACkDdIkYAjrTkCL+F7hteOC+Fnka+GotlrmAdVKB\n",
       "PzX0MgTVombNjqNyQ9fj1jTGTjpFNPd07PI+YKOBN8AZy5NJF5C0bL+etYkkiturmGYik4ilIr32\n",
       "e6OEth6iyR5g3MvQAPwkxy7XTNO7EkJ7CNAV7eTJgsvRL6lvpRCQcPY4SgyhHSSbg/zdyzAOP8Vr\n",
       "5JBZI1wMWU6BFUATq1NHQ0/dI37E7ISh6KZE3DaSZaWwCnkW0reF0sE3Y9qKmyviVlJGyCRfTfPB\n",
       "FtLyfWiaVfuoxLOmgHQs7cREwYoleQoVSW+J+8H+wZNSctoeje8lbxJjLXtR5SQPcWKFdSnZaEr0\n",
       "RooBr9rRegvVlmJ9SWegthRXSvkQSJRitQXBy2SonRw3aTa2whdF0z61JpPJaOgfxl37NWM2Q/fk\n",
       "+SpTsVjcGah1D+klBrnDKcFNnbnM2xyl0jsnqlPhLWTKRYhqF8xasFbHsI19ENcluKuG/7FdNYo/\n",
       "COdgNNXeaPQgZtSSfnyjD34H2/wPDN6KoDvc9Rse4KIW2l1A8BqtNy2e7HRCL0ylQBkRMzSUA07O\n",
       "XVqJ2ZPJJNy7XISDU0IC+Xk55OrcQmwsLMX17sQS0X96oFz5V1JzlhL+R/sNyYm1E8L5PEsAAAAA\n",
       "SUVORK5CYII=\n",
       "\" style=\"display:inline;vertical-align:middle;\" /></a><br>"
      ],
      "text/plain": [
       "<IPython.core.display.HTML object>"
      ]
     },
     "metadata": {},
     "output_type": "display_data"
    }
   ],
   "source": [
    "integer_interval_is_subset_of_integers = Forall(\n",
    "    (a, b),\n",
    "    SubsetProper(Interval(a, b), Integer),\n",
    "    domain = Integer)"
   ]
  },
  {
   "cell_type": "markdown",
   "metadata": {},
   "source": [
    "Note: if $b < a$, $\\{a~\\ldotp \\ldotp~b\\}$ is equivalent to the empty set."
   ]
  },
  {
   "cell_type": "code",
   "execution_count": 6,
   "metadata": {},
   "outputs": [
    {
     "data": {
      "text/html": [
       "<strong id=\"integer_interval_element_bounds\">integer_interval_element_bounds:</strong> <a class=\"ProveItLink\" href=\"../__pv_it/axioms/6dee454f95424588e03f8f7129f9545275f3eabc0/axiom_expr.ipynb\"><img src=\"data:image/png;base64,iVBORw0KGgoAAAANSUhEUgAAARwAAAAZBAMAAAARYIzUAAAAMFBMVEX///8AAAAAAAAAAAAAAAAA\n",
       "AAAAAAAAAAAAAAAAAAAAAAAAAAAAAAAAAAAAAAAAAAAv3aB7AAAAD3RSTlMAq1RmmUTNIjK7EInv\n",
       "3XZ/CtNrAAAACXBIWXMAAA7EAAAOxAGVKw4bAAADo0lEQVRIx72XXUgUURTH/7uzszs7+1lBUIIs\n",
       "BOZLOZFIBcmCBhKYC9Kb5tZL2UOs9VJhtvrSg2ISFE2FTQRFGWoZRIIi+KASgfSiFAu7FQVJIUUf\n",
       "9CDde2dndj62xiX0gCP37P/M/Obec889AziaK7OAdbFw5tUqVF6sm+1eQxxfSerUWuO8LUl9RMWJ\n",
       "0n/bHHCcRXZzj65WKd6aJ4kjMZwD1HHcAcdZZLd7VkdFyi5Sfd44uZxkON10lQcccJxFdquzjPcf\n",
       "tGvyvkiMXKoZjlcBAjEHHGeR3abMw8/jdonmayO3R1ChOJzklKzkV2eRPXWSpvSYyNpTRvdNsMdI\n",
       "bGe9zGReOO4sR5HNPDSTOya71Cc3Snk3n7s/OWjx4eiXjWT2owynAbjhiGMTcWNFtb16gtCX5Wdw\n",
       "m66DuFlf6IC/HCMps0/8oRAXl2Q4HfBFtR+Edu1gmHt6M27AMYqY9dlRWPBjbRQiT3skoZENCo8+\n",
       "HBrAxbTZ5/6NYBbuKYbjVwIJ/ZZl9LY5ORFKBYYVA45R1L/lKtmhRaaGBuv+INE3AW/UAq0vjDKS\n",
       "QJVi9nmSiIxCWGY47qwhSWfJXz2B59BzxrhYBpGnASiOM2vFmYP43Zq2VWReLL7QKNpi4NXZQbKW\n",
       "XIZqn9GJWckpYRU6HjcdElTE1fW/B95Bw1FjCotFggs4ZLHEFXDL1k1NWL6JZh8pO00K3PMqzhNS\n",
       "D8UF4Sc94l+H4w/UVD2dNuFQ0d0WKZgS1WpYo8cU+gMSjFZt5M9C/ApXcrul5L0gqRIw+yJpcZo8\n",
       "cUDF6SRJ6okLtGz5JS7ZzITDAfMRSkXnPyCi8GzyhBN6jG40GN5P2hYiAYPYUZhkVNAX9P1COLnH\n",
       "7HNJ/rhaGSiOK01XOkx3TjDtidbIshzD6DgeGnGoCOVoAdcuy1fQvVWP0Y0Gw31KWzoy93eWLpWn\n",
       "zfnFz0PcZKnvYhk9UEKJQoMxkvLvI/keQTDWy6IqJYzbGoxZ1AuCelDn9BjdaDA69eFiif3IBUO/\n",
       "E0xdblaGEFL2kj1Np9pD38OC41vGYmW+HFbkY2hGQ2SINNiw46pR+pGr4fB1O8fQFxMOZeG7Tsa7\n",
       "Nixdi1px+CiWJJxL53FYDK2IKWGGLQ8JNuD4C/2EmGFmWjerjzUM5m5QXdMhWU78oxsUn8t/KYPm\n",
       "eiSW1pAwehMOr6y+OW11xEFXSTgfbb0yV0Kv7M0W1QrH1v5Louh3Vk9R7dn/+86a/gM5nei9+UCz\n",
       "TwAAAABJRU5ErkJggg==\n",
       "\" style=\"display:inline;vertical-align:middle;\" /></a><br>"
      ],
      "text/plain": [
       "<IPython.core.display.HTML object>"
      ]
     },
     "metadata": {},
     "output_type": "display_data"
    }
   ],
   "source": [
    "integer_interval_element_bounds = Forall(\n",
    "    (a, b),\n",
    "    Forall(n,\n",
    "           number_ordering(LessEq(a, n), LessEq(n, b)),\n",
    "           domain = Interval(a, b)),\n",
    "    domain = Integer)"
   ]
  },
  {
   "cell_type": "code",
   "execution_count": 7,
   "metadata": {},
   "outputs": [],
   "source": [
    "# Consider this as an alternative??\n",
    "# from proveit import ExprRange\n",
    "# from proveit.logic import Set\n",
    "#Forall((a, b), Equals(Interval(a, b), Set(ExprRange(n, n, a, b))), domain=Integer)"
   ]
  },
  {
   "cell_type": "code",
   "execution_count": 8,
   "metadata": {},
   "outputs": [
    {
     "name": "stdout",
     "output_type": "stream",
     "text": [
      "These axioms may now be imported from the theory package: proveit.numbers.number_sets.integers\n"
     ]
    }
   ],
   "source": [
    "%end axioms"
   ]
  },
  {
   "cell_type": "code",
   "execution_count": null,
   "metadata": {},
   "outputs": [],
   "source": []
  }
 ],
 "metadata": {
  "kernelspec": {
   "display_name": "Python 3",
   "language": "python",
   "name": "python3"
  }
 },
 "nbformat": 4,
 "nbformat_minor": 0
}