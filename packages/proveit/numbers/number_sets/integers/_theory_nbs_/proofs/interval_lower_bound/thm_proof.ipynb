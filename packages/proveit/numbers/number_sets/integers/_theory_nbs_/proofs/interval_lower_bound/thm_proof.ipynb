{
 "cells": [
  {
   "cell_type": "markdown",
   "metadata": {},
   "source": [
    "Proof of <a class=\"ProveItLink\" href=\"../../../../../../_theory_nbs_/theory.ipynb\">proveit</a>.<a class=\"ProveItLink\" href=\"../../../../../_theory_nbs_/theory.ipynb\">numbers</a>.<a class=\"ProveItLink\" href=\"../../../../_theory_nbs_/theory.ipynb\">number_sets</a>.<a class=\"ProveItLink\" href=\"../../theory.ipynb\">integers</a>.<a class=\"ProveItLink\" href=\"../../theorems.ipynb#interval_lower_bound\">interval_lower_bound</a> theorem\n",
    "========"
   ]
  },
  {
   "cell_type": "code",
   "execution_count": 1,
   "metadata": {},
   "outputs": [],
   "source": [
    "import proveit\n",
    "theory = proveit.Theory() # the theorem's theory"
   ]
  },
  {
   "cell_type": "code",
   "execution_count": 2,
   "metadata": {},
   "outputs": [
    {
     "data": {
      "text/html": [
       "With these <a href=\"allowed_presumptions.txt\">allowed</a>/<a href=\"disallowed_presumptions.txt\">disallowed</a> theorem/theory presumptions (e.g., to avoid circular dependencies), we begin our proof of<br><strong id=\"interval_lower_bound\">interval_lower_bound:</strong> <a class=\"ProveItLink\" href=\"../../../__pv_it/theorems/43ac003b3e56bf75634c34aa8b8fd634ed9c093e0/expr.ipynb\"><img src=\"data:image/png;base64,iVBORw0KGgoAAAANSUhEUgAAAPgAAAAZBAMAAADu5/4fAAAAMFBMVEX///8AAAAAAAAAAAAAAAAA\n",
       "AAAAAAAAAAAAAAAAAAAAAAAAAAAAAAAAAAAAAAAAAAAv3aB7AAAAD3RSTlMAq1RmmUTNIjK7EInv\n",
       "3XZ/CtNrAAAACXBIWXMAAA7EAAAOxAGVKw4bAAADSklEQVRIx7WWXUgUURTH/+7sx+zshxtBUIEs\n",
       "BOZD5kQhGSQLGkhhLUhvCks9lD3EWi8ZYqsvPSgqQR9TYBNBUYYfGURCEvSgJoEEoRQLuxU9JIEU\n",
       "UfQg3Tt3dvbuzLpXIQ/ocPb+z/zu3HvuORcQWll6EZtg4fS7dai82CTbv4lwn2hoM+Gf1h7yZBg8\n",
       "Qh+7BHCxyGmu8RKDnxn8CH2cEcDFIqc9sP9QmeTeqRvwHroFQwK4WOS0Bpt/+CjnSDEDTucQiArg\n",
       "YpHTXhW636cK3DcGXFJFKUVGxSLnlid4T3mZKRw+zbL9bTo9L8x2ochhbppvHdPdjN2s5vI8+3B6\n",
       "mDwnGLwJuC2EO0TSZFFtn7WxXoLzzOAuzSxlm7VlAX8Fxkjm1TJ4B3yR3JDcniupc8/uxDg4LzKs\n",
       "3wk2gidyXojwnqhoNpw8/GRoCFdSwB4G9+uBuPWCnfQlWS0eSgZGdQ7Oiwa2Xyfnpshn02Dr9yDR\n",
       "nwA+sopmLbs+FkcNefMgg7syXCrNkr9GMjEJvRf5ZedE7iagOHzWDp+D8suecDVkHcij1SyviXry\n",
       "b6T+Of3o1aweZpOMxQrKKxVJDQNfzOJkQFhMftlJcB5Oll1ZhbRiP2qE/FMBqk3403NkZovyb9rm\n",
       "PoRjj1hCXUgVwKnofqsaTCqs1tRaMfkeSYLRlvP8GSg/UJbYbSsy83D9DQB1JryLpJI7JtOi4Fel\n",
       "RIuhGQ0UNhYquvwV5brHWBj5rBVjGQ2G91surUnAMKrzC4hK+jm+PwgnDgLHTHhZiu5QmGZzMOWO\n",
       "1GqaFsX4FB7zcCpCBdkqqV3TrqFnhxVjGQ2G63xuExaAe8tXK1K2frYAZSvJ/fdcSx1L+g+RHCxH\n",
       "MNpnaKpUTDla6iwaZZk1q6wVYxkNRpflLpXs9QscPJgcbNFHENLryKmii+amc7TBfStYqjKLTaUZ\n",
       "Q/MOijEhGsydggMl65/KwT0NeyfRH5WPZ+C7Rfx9W5ZvROxwTwTLKjpTJtyIofUmKc8YC02CObg/\n",
       "30GVtGHcDnQ6bzKsDo1oWrzETUZ5oa1RZArPv1KqBd90wD36+q9RbUI4ukvcXJMOuLSBO5w3U1Qr\n",
       "n/rft9ei9/beotpLG7m3v/4HZeXIgLJF7yYAAAAASUVORK5CYII=\n",
       "\" style=\"display:inline;vertical-align:middle;\" /></a><br>(see <a class=\"ProveItLink\" href=\"../../../__pv_it/theorems/50b1de8ddd6f08961847066a347a764753476cd10/dependencies.ipynb\">dependencies</a>)<br>"
      ],
      "text/plain": [
       "<IPython.core.display.HTML object>"
      ]
     },
     "metadata": {},
     "output_type": "display_data"
    }
   ],
   "source": [
    "%proving interval_lower_bound"
   ]
  },
  {
   "cell_type": "code",
   "execution_count": null,
   "metadata": {},
   "outputs": [],
   "source": []
  }
 ],
 "metadata": {
  "kernelspec": {
   "display_name": "Python 3",
   "language": "python",
   "name": "python3"
  }
 },
 "nbformat": 4,
 "nbformat_minor": 0
}