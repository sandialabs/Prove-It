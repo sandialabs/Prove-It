{
 "cells": [
  {
   "cell_type": "markdown",
   "metadata": {},
   "source": [
    "Proof of <a class=\"ProveItLink\" href=\"../../../../../../_theory_nbs_/theory.ipynb\">proveit</a>.<a class=\"ProveItLink\" href=\"../../../../../_theory_nbs_/theory.ipynb\">numbers</a>.<a class=\"ProveItLink\" href=\"../../../../_theory_nbs_/theory.ipynb\">number_sets</a>.<a class=\"ProveItLink\" href=\"../../theory.ipynb\">integers</a>.<a class=\"ProveItLink\" href=\"../../theorems.ipynb#neg_int_within_nonpos_int\">neg_int_within_nonpos_int</a> theorem\n",
    "========"
   ]
  },
  {
   "cell_type": "code",
   "execution_count": 1,
   "metadata": {},
   "outputs": [],
   "source": [
    "import proveit\n",
    "theory = proveit.Theory() # the theorem's theory"
   ]
  },
  {
   "cell_type": "code",
   "execution_count": 2,
   "metadata": {},
   "outputs": [
    {
     "data": {
      "text/html": [
       "With these <a href=\"allowed_presumptions.txt\">allowed</a>/<a href=\"disallowed_presumptions.txt\">disallowed</a> theorem/theory presumptions (e.g., to avoid circular dependencies), we begin our proof of<br><strong id=\"neg_int_within_nonpos_int\">neg_int_within_nonpos_int:</strong> <a class=\"ProveItLink\" href=\"../../../__pv_it/theorems/d873c82b7589cdb6436a97bd59cae5f68f4485420/expr.ipynb\"><img src=\"data:image/png;base64,iVBORw0KGgoAAAANSUhEUgAAAFoAAAAUBAMAAAD/1DctAAAAMFBMVEX///8AAAAAAAAAAAAAAAAA\n",
       "AAAAAAAAAAAAAAAAAAAAAAAAAAAAAAAAAAAAAAAAAAAv3aB7AAAAD3RSTlMAVM3vu91mdqsymYki\n",
       "EESqKsraAAAACXBIWXMAAA7EAAAOxAGVKw4bAAABZUlEQVQoz2NgIA6IHGDYXc1ArOICBrYCPgfi\n",
       "FKckMDAwT2D4Q5TiEgEgcf4CgyEDo/JnlVDnBKyqhOyNXEPMGCaDFDPMv8AQxsDuMYFBgQmHmZ0M\n",
       "TAwKDIzeFyCqzRm4FjCwJ2xk4HQBAh801asYGMq4gQbzgZQDXfKRgeMAwxVeHJ7tYeB1uAJicHYd\n",
       "gPiSl4FhJccEVAeEhoZGghgXGLgmdIKFeDousBfwNYA0NsxCUTxpD4I9g3MBhMHDwLC7CuR8lgu+\n",
       "yIp5Y5A4viwX0FwnzVaAzOV4gGAzbkhH9wta+DGhsBWA5BRQeB2AiLAL7AP5B+FUJNWF3A9AwYAE\n",
       "rvA4gMIKDk4gecHhCAMoiJFAJ5DL+wHBZ0XywgSgKfeRFXMueAUUDkAIcCHSzCw+YPi1IqtmuaDL\n",
       "wOOIHJl6iPBjusBwRARZ9WMnExd7kw3IHumD+pnPRNnF+bM3geT82hUa8xgAAAYqU+iofexgAAAA\n",
       "AElFTkSuQmCC\n",
       "\" style=\"display:inline;vertical-align:middle;\" /></a><br>(see <a class=\"ProveItLink\" href=\"../../../__pv_it/theorems/8231f4a5f9386a3b1b61110cd2241d7603b3a6dc0/dependencies.ipynb\">dependencies</a>)<br>"
      ],
      "text/plain": [
       "<IPython.core.display.HTML object>"
      ]
     },
     "metadata": {},
     "output_type": "display_data"
    }
   ],
   "source": [
    "%proving neg_int_within_nonpos_int"
   ]
  },
  {
   "cell_type": "code",
   "execution_count": null,
   "metadata": {},
   "outputs": [],
   "source": []
  }
 ],
 "metadata": {
  "kernelspec": {
   "display_name": "Python 3",
   "language": "python",
   "name": "python3"
  }
 },
 "nbformat": 4,
 "nbformat_minor": 0
}