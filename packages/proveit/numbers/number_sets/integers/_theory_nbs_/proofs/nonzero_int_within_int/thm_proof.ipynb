{
 "cells": [
  {
   "cell_type": "markdown",
   "metadata": {},
   "source": [
    "Proof of <a class=\"ProveItLink\" href=\"../../../../../../_theory_nbs_/theory.ipynb\">proveit</a>.<a class=\"ProveItLink\" href=\"../../../../../_theory_nbs_/theory.ipynb\">numbers</a>.<a class=\"ProveItLink\" href=\"../../../../_theory_nbs_/theory.ipynb\">number_sets</a>.<a class=\"ProveItLink\" href=\"../../theory.ipynb\">integers</a>.<a class=\"ProveItLink\" href=\"../../theorems.ipynb#nonzero_int_within_int\">nonzero_int_within_int</a> theorem\n",
    "========"
   ]
  },
  {
   "cell_type": "code",
   "execution_count": 1,
   "metadata": {},
   "outputs": [],
   "source": [
    "import proveit\n",
    "theory = proveit.Theory() # the theorem's theory"
   ]
  },
  {
   "cell_type": "code",
   "execution_count": 2,
   "metadata": {},
   "outputs": [
    {
     "data": {
      "text/html": [
       "With these <a href=\"allowed_presumptions.txt\">allowed</a>/<a href=\"disallowed_presumptions.txt\">disallowed</a> theorem/theory presumptions (e.g., to avoid circular dependencies), we begin our proof of<br><strong id=\"nonzero_int_within_int\">nonzero_int_within_int:</strong> <a class=\"ProveItLink\" href=\"../../../__pv_it/theorems/2c67e6823574c14077f7c68965816592bb8b9a040/expr.ipynb\"><img src=\"data:image/png;base64,iVBORw0KGgoAAAANSUhEUgAAAE4AAAAVCAMAAADfPSgbAAAAOVBMVEX///8AAAAAAAAAAAAAAAAA\n",
       "AAAAAAAAAAAAAAAAAAAAAAAAAAAAAAAAAAAAAAAAAAAAAAAAAAAAAAACXHtMAAAAEnRSTlMAVM3v\n",
       "u91mdqsymYkiEETt5cn1eqECAAAACXBIWXMAAA7EAAAOxAGVKw4bAAABKUlEQVQ4y61Ui27EIAzj\n",
       "Ecqb7fj/j10IvRswOFZdoxaprWzViR3GFhXZneUTnV77O9iCKeehGUtwA50J5ZQWjxw+ZkskMeTS\n",
       "QMkvQbmQWQpQCuTBmINSX3gfzBKdOq7gmQZTNAm6aunKUOmkfk834J07GfxTVTy7X8XmjdgBT11H\n",
       "hkpSxH4/gMT+bxQ9vvrVWUa/TBrNS0cxihmkqVq283uLJwbrng/wGwi0sWvjYYWf/muHJ4YXCV+3\n",
       "PqqF8BaPDJ4CUEu8aVNaeKXF9ybhaU0n1u+bT5qfid9sEWsWzuvwOOEATVI3e+FvR3s8TrjyxLzJ\n",
       "o5p3tMPjhFMdslEbOjeL74DHCYsiOgDfrjaRpiZp8EmCkJgpXAuw3bwRTBrmdQk/2YQwhKyrH4W+\n",
       "CcNHcXudAAAAAElFTkSuQmCC\n",
       "\" style=\"display:inline;vertical-align:middle;\" /></a><br>(see <a class=\"ProveItLink\" href=\"../../../__pv_it/theorems/6b87694d7c19efa4ee1977d07f61d2d814956bee0/dependencies.ipynb\">dependencies</a>)<br>"
      ],
      "text/plain": [
       "<IPython.core.display.HTML object>"
      ]
     },
     "metadata": {},
     "output_type": "display_data"
    }
   ],
   "source": [
    "%proving nonzero_int_within_int"
   ]
  },
  {
   "cell_type": "code",
   "execution_count": null,
   "metadata": {},
   "outputs": [],
   "source": []
  }
 ],
 "metadata": {
  "kernelspec": {
   "display_name": "Python 3",
   "language": "python",
   "name": "python3"
  }
 },
 "nbformat": 4,
 "nbformat_minor": 0
}