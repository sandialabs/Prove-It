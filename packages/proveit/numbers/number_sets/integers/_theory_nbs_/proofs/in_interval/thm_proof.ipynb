{
 "cells": [
  {
   "cell_type": "markdown",
   "metadata": {},
   "source": [
    "Proof of <a class=\"ProveItLink\" href=\"../../../../../../_theory_nbs_/theory.ipynb\">proveit</a>.<a class=\"ProveItLink\" href=\"../../../../../_theory_nbs_/theory.ipynb\">numbers</a>.<a class=\"ProveItLink\" href=\"../../../../_theory_nbs_/theory.ipynb\">number_sets</a>.<a class=\"ProveItLink\" href=\"../../theory.ipynb\">integers</a>.<a class=\"ProveItLink\" href=\"../../theorems.ipynb#in_interval\">in_interval</a> theorem\n",
    "========"
   ]
  },
  {
   "cell_type": "code",
   "execution_count": 1,
   "metadata": {},
   "outputs": [],
   "source": [
    "import proveit\n",
    "theory = proveit.Theory() # the theorem's theory"
   ]
  },
  {
   "cell_type": "code",
   "execution_count": 2,
   "metadata": {},
   "outputs": [
    {
     "data": {
      "text/html": [
       "With these <a href=\"allowed_presumptions.txt\">allowed</a>/<a href=\"disallowed_presumptions.txt\">disallowed</a> theorem/theory presumptions (e.g., to avoid circular dependencies), we begin our proof of<br><strong id=\"in_interval\">in_interval:</strong> <a class=\"ProveItLink\" href=\"../../../__pv_it/theorems/39cb10c66a369ce3aef9e007763282c233e578f20/expr.ipynb\"><img src=\"data:image/png;base64,iVBORw0KGgoAAAANSUhEUgAAARQAAAAXBAMAAAA4va1QAAAAMFBMVEX///8AAAAAAAAAAAAAAAAA\n",
       "AAAAAAAAAAAAAAAAAAAAAAAAAAAAAAAAAAAAAAAAAAAv3aB7AAAAD3RSTlMAq1RmmUTNIjK7EInv\n",
       "3XZ/CtNrAAAACXBIWXMAAA7EAAAOxAGVKw4bAAADuUlEQVRIx72WeUgUURzHvzo77jh7aAdBB7LQ\n",
       "HxpkDdH9RyzYJVHZCZ3YRdRfE/RPB2n1RwSSXRIW2UgQmB1bCmFURBF2YPRH0cXCWCGUESJ0sEH0\n",
       "+72d2Zl119Vo8cG8fe/N+87vM+93zAJZbd70y+qqTJri/oX/0T6kX+5am0l08Cwgm0AhT8ZniSQ3\n",
       "kn451p+gqYP7E3R9BObxeHuWUC6lX/a96Fexlbu7dOUZOMiOOp4llLJ/Rum1UaQw08AXyhLK/aTZ\n",
       "52i0cgAUOWaj4CkkjQ4nW6FS6Z6t/jLwqcTvCJQtQEc0+ixLKB6K2o1j9n02RY7uTDa4696BVEVe\n",
       "UWfIQrkBLATODmxkUCh5dMKRE6b6U0x0R02nJbfjgpGiuL6TN3/l4XSihbfQvqPs6LN13LnyVv7N\n",
       "T3bEGWc8QXdEgRDkirfw/hIozp79hHhFw+JU+MkGngNVHKsTyYrhq0jcGuvadmx0HV7j9pcUlNwG\n",
       "F4npEvkroKrfrTJSE6UmUnPXNuqWAu9TUeYDv6kYjyKWWnqw6eJ/7PIJeQ6aUqz1RZFOOeNZmltE\n",
       "KMjtQY6I3qbEJqWcPPMEBJnS3kOmdPYx63q6KudQ1zznFov+dJJKKjv2SZQ/BopHSRxFbenWETzJ\n",
       "w6kzv4UpXUMJkeUg5ijQeB5wDOYXQv0DqSddWfHEhJuAUrpuUqirrxWOteC7IBm4uF7z62q87M0o\n",
       "caFc1Wt15YGAmvYQ7agR9SguErvIW/4IPZnrf9B0Z5DaS5DFKSi/OIZwRxwwBxVFrSescHnK1yQ6\n",
       "3L1dKDBk4RjVjLhQ5qKGouM2Z+q1SsSQe85IiIRJelJVNbqkap5tTkrmBpSGBfF12qz+sO6MwGm7\n",
       "riyiK6eavRzkNPJXe/iniBwn7aivPwmfz1CNBMojdFK/hllyTJnYZWaxROwqMrkBaJwiZo11hgul\n",
       "sftIkSAMMNBL605jq2ajvLLzW8+fTcIC+EMiDucqijiO5YfhS6BQCTh1mT/qC4T9MD1ZGanbIm5v\n",
       "kk5/3fkBC3+8MYrX3uPXa1cYzQgYs9AMbw/elMTrXiTMr2mfSrvyfbbIzjGoQuAQv6R3mMEiq039\n",
       "589hAsWj2Z+lskktFIXKEpN6uRDdGvaQJWlYUdsmB2XllO64QMcyBFus/20sslNFT2sqeD8zClUX\n",
       "7EleCrl6qG31dU46Du4jpKb/t+Htzax6SN2Z5C+24fR92iBRcCD98u7hmf7b3qCXDyafp+Tq+0VR\n",
       "6qlZr3CUxzqGtnmHwMZfly3zES+6lB8AAAAASUVORK5CYII=\n",
       "\" style=\"display:inline;vertical-align:middle;\" /></a><br>(see <a class=\"ProveItLink\" href=\"../../../__pv_it/theorems/ebe6a7f90135b890f15d3dfa1000675033ff60f90/dependencies.ipynb\">dependencies</a>)<br>"
      ],
      "text/plain": [
       "<IPython.core.display.HTML object>"
      ]
     },
     "metadata": {},
     "output_type": "display_data"
    }
   ],
   "source": [
    "%proving in_interval"
   ]
  },
  {
   "cell_type": "code",
   "execution_count": null,
   "metadata": {},
   "outputs": [],
   "source": []
  }
 ],
 "metadata": {
  "kernelspec": {
   "display_name": "Python 3",
   "language": "python",
   "name": "python3"
  }
 },
 "nbformat": 4,
 "nbformat_minor": 0
}