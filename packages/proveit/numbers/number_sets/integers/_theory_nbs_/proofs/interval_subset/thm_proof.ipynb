{
 "cells": [
  {
   "cell_type": "markdown",
   "metadata": {},
   "source": [
    "Proof of <a class=\"ProveItLink\" href=\"../../../../../../_theory_nbs_/theory.ipynb\">proveit</a>.<a class=\"ProveItLink\" href=\"../../../../../_theory_nbs_/theory.ipynb\">numbers</a>.<a class=\"ProveItLink\" href=\"../../../../_theory_nbs_/theory.ipynb\">number_sets</a>.<a class=\"ProveItLink\" href=\"../../theory.ipynb\">integers</a>.<a class=\"ProveItLink\" href=\"../../theorems.ipynb#interval_subset\">interval_subset</a> theorem\n",
    "========"
   ]
  },
  {
   "cell_type": "code",
   "execution_count": 1,
   "metadata": {},
   "outputs": [],
   "source": [
    "import proveit\n",
    "theory = proveit.Theory() # the theorem's theory"
   ]
  },
  {
   "cell_type": "code",
   "execution_count": 2,
   "metadata": {},
   "outputs": [
    {
     "data": {
      "text/html": [
       "With these <a href=\"allowed_presumptions.txt\">allowed</a>/<a href=\"disallowed_presumptions.txt\">disallowed</a> theorem/theory presumptions (e.g., to avoid circular dependencies), we begin our proof of<br><strong id=\"interval_subset\">interval_subset:</strong> <a class=\"ProveItLink\" href=\"../../../__pv_it/theorems/0eaaee6eabc144b2188bd19e17a9e9f67ea891a80/expr.ipynb\"><img src=\"data:image/png;base64,iVBORw0KGgoAAAANSUhEUgAAAXEAAAAXBAMAAAAPc2JkAAAAMFBMVEX///8AAAAAAAAAAAAAAAAA\n",
       "AAAAAAAAAAAAAAAAAAAAAAAAAAAAAAAAAAAAAAAAAAAv3aB7AAAAD3RSTlMAq1RmmUTNIjK7EInv\n",
       "3XZ/CtNrAAAACXBIWXMAAA7EAAAOxAGVKw4bAAAEgElEQVRYw82XX2hbVRzHv01umvsnSaNixRZG\n",
       "wAf1RaOOoX2IGa3Tvmhh+uAQLbIiTpHbuTenTXX4YqGZFWcmjrsHxTVuiXboVpwOR9mGTIpMlEkg\n",
       "VdnmOkupqGXC8Pc79+T+6U3TDAzswD29+d5zfvdzzvn9uQVa2aJ06U80eH57PfXDgUY2t5vUmWhx\n",
       "+4Wu81saDBjdG9QSQ1Yjm+qt9Phpuknyr9taAx4q03UFOHBm1SG7g9LdDcDVF7PQCDmRBh5i4bnW\n",
       "kH9ElzFL3dZVhxxrSnJbR8q2uI3Oi90t3xry3hr50v9G/oxlW1wPtNPZGKnWkB+X5JEra5InPqhU\n",
       "Krm1yY/JvYhZCJPHtLfIzQcluXhXQ3L1BbO5Pd8qrbUT9plK5dvWkCtlSd6+bq7OqRoL9zuYB03/\n",
       "YqLdF6p1kmj3xSVJblCYPgLsbRbl2sh5X6DQxpe26f8EMb5HP3DZ/nGz58Emup4ytToeZqsJdsIw\n",
       "mR1GNOkkned9I7+2Ha/t9OH3s3yjrTT1ph3aoT3+zVy2/8Z5o3emRZ77LoARL7M4Yh/GoGdFJ6h6\n",
       "nYAS9DBWaWCU4z1E+JpluDWr2zd0hNYyVxiIm8Yhqw65hbayAN/n1cj0on0fI7vDQ/Yu/hvgeEyY\n",
       "1DsZXU264J00S1nkhQWOXKr7n6UZ9I5Q1ROgp3xDfwf6aNvDeP1lBMl3dCHGhxKe8Gl0nHmXXO0n\n",
       "wJ8RCebF0/b5DAlclxy7yHdjeZSCnwA19XPqIuwygxnqipkveO1X53gnjF+rQnpJ1Cpq2ayHXJ+a\n",
       "53gavQUYX+hC4m2hfpWRmj51vurxFq54S1ACXqtf9RbMWX9ZLVXxYNDNpcpVGSGe8RnVI/1HlWMo\n",
       "cS7BjD+ox4W0jANiSnh7zkN+0Bwn8icfpts/rN/Ub2zKgTGp0WN7NLSqzC3L+CQd4PiTNg740q1Z\n",
       "ntxSSqEzFPiqkqohIpTPdSftipJlWGhpjlklr+eEtIjNYsohAx7yPjDkNN9OYAPuFHf9+FhqfRiv\n",
       "RWpSkt+Ed+x9/pvfL6OREssRJyu2D/jItWrorOLMEB0cVWRFkXHbcuySCX5NLKckbf8UUh4bCoVC\n",
       "CuVpTLrkM5iD3OlT2CgXMYOaNsPhYWeqWUm+/7Dc8rN8Olm5rqmM5ZDru7d4yfV1R4YvOjPszlEF\n",
       "eby21JKp9ZCdDsTINztMKV2y3uK7yB1pTDvklJonJlEU3r0Iph0lJ2FfExo93jcprf6EhvXTWzAj\n",
       "R5ur/jWLrzpha45vtoqIWw+gyEdXLrL0hqWJgFUQmXX3/KT6Vw+FBGeUc8LdMNyFIRhSO6ku90ir\n",
       "65snb/aLq2bRCYxI711TGEupj1apj/ZmrLGUkKLv0cN7bph/N+mSP37vfFomw10L9nQTO+67JDX5\n",
       "WIw3ZcVbvW0KSpfXquSDwa/bVKBHsVBwg8efz1dUzjqanpcVb9VGZTHQRtb4cuU8pfkTT8Ra2a9o\n",
       "2rV+c73GxenGBv+HflqHMrqxIforbO+CXwsH+ibIVco+hT24zlv0eoL5D8YpQRXICydwAAAAAElF\n",
       "TkSuQmCC\n",
       "\" style=\"display:inline;vertical-align:middle;\" /></a><br>(see <a class=\"ProveItLink\" href=\"../../../__pv_it/theorems/7b023d973fd12a5e4146745927809baf442ae8050/dependencies.ipynb\">dependencies</a>)<br>"
      ],
      "text/plain": [
       "<IPython.core.display.HTML object>"
      ]
     },
     "metadata": {},
     "output_type": "display_data"
    }
   ],
   "source": [
    "%proving interval_subset"
   ]
  },
  {
   "cell_type": "code",
   "execution_count": null,
   "metadata": {},
   "outputs": [],
   "source": []
  }
 ],
 "metadata": {
  "kernelspec": {
   "display_name": "Python 3",
   "language": "python",
   "name": "python3"
  }
 },
 "nbformat": 4,
 "nbformat_minor": 0
}