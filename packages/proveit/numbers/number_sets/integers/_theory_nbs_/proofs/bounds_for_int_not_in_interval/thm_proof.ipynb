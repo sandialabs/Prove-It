{
 "cells": [
  {
   "cell_type": "markdown",
   "metadata": {},
   "source": [
    "Proof of <a class=\"ProveItLink\" href=\"../../../../../../_theory_nbs_/theory.ipynb\">proveit</a>.<a class=\"ProveItLink\" href=\"../../../../../_theory_nbs_/theory.ipynb\">numbers</a>.<a class=\"ProveItLink\" href=\"../../../../_theory_nbs_/theory.ipynb\">number_sets</a>.<a class=\"ProveItLink\" href=\"../../theory.ipynb\">integers</a>.<a class=\"ProveItLink\" href=\"../../theorems.ipynb#bounds_for_int_not_in_interval\">bounds_for_int_not_in_interval</a> theorem\n",
    "========"
   ]
  },
  {
   "cell_type": "code",
   "execution_count": 1,
   "metadata": {},
   "outputs": [],
   "source": [
    "import proveit\n",
    "theory = proveit.Theory() # the theorem's theory"
   ]
  },
  {
   "cell_type": "code",
   "execution_count": 2,
   "metadata": {},
   "outputs": [
    {
     "data": {
      "text/html": [
       "With these <a href=\"allowed_presumptions.txt\">allowed</a>/<a href=\"disallowed_presumptions.txt\">disallowed</a> theorem/theory presumptions (e.g., to avoid circular dependencies), we begin our proof of<br><strong id=\"bounds_for_int_not_in_interval\">bounds_for_int_not_in_interval:</strong> <a class=\"ProveItLink\" href=\"../../../__pv_it/theorems/e48968c491c1cf705a19f1b7e30c7e0cb035878a0/expr.ipynb\"><img src=\"data:image/png;base64,iVBORw0KGgoAAAANSUhEUgAAAVgAAAAXCAMAAAB5y6d/AAAAPFBMVEX///8AAAAAAAAAAAAAAAAA\n",
       "AAAAAAAAAAAAAAAAAAAAAAAAAAAAAAAAAAAAAAAAAAAAAAAAAAAAAAAAAAAo1xBWAAAAE3RSTlMA\n",
       "q1RmmUTNIjK7EInv3XbPqdvtPAm6/gAAAAlwSFlzAAAOxAAADsQBlSsOGwAABCdJREFUWMPVWIuy\n",
       "pCgMlfdLmN3x//91AQmaiHbr3KlaqVsdq2/6HDkkITBNbxyG2Ge//lOfn32r/8NIHNubQ6WvGR7h\n",
       "rpb177l4ia48YHt/YcQ3DN7N8RlutVLB1/olIew1tg+G9v2R9UebKIOWD3GLtRCyxr0kYKXA9sEQ\n",
       "m2Kiy+ksZVj4Q9xqQeXAXyLsTOxVSp9l4byFLKS70ZRBLf4mbMctVrTl0S/RlWtsL+InSn+Ws1u0\n",
       "Q0BJThlCvAvbcaudYxlzeEslCNhOPiXmbaAZl2LA8zcsJNMSP2x7NkRqPDBolpFpHlNYzA641cpa\n",
       "W5z/gTlfhc9awUS4URltGMQGCorGmlia5D6+fIi0p1Jzzl/Xslvswp3VN0uJMvglV0m/mGtYzA64\n",
       "1RoGH3Re+no/Y7MLMv/1L67c1//Z+TtFgTkcXytybEWeuch6sW3FjIyH5fNz7YGa+nz3Huv2HT1l\n",
       "4HUR5nQJS9gBd7UlWIMaKTcuDzYx57J/zKDBJ/9J2OL/658vCyNmHvjPCtsSbxK5MT3Yh+VSNWu4\n",
       "dtnnQJ4HlweGFXQJl7CEHXBXy9PJ1jXbYcLL9nVeJMuNmD4IW/1bu/itsMD8hbATDqszBWZXs1tB\n",
       "XSDHgf0+35DrIqit5RrCEnbAbVb3bs4HkYLp8pfCDEU7SZP/yLFForq6Fxb7e4aFQjyDOADmgbC0\n",
       "FNTZZyjvr3LWL2WGAgKVow0/TtYdGaqkcrmEpeyA22zgrZn1ObttL9cp153UhEtmYm7Ka+YdqjDc\n",
       "joUl/klN++KOeQZnQ2BWx47HJWR9LkqsxAcqW4ddxleZmJ54ZRUOH0WZOjIsFirzBSxhB9xmzcwg\n",
       "a/f7ixO7ba7yZSol9q0Gns7ubYm/g03JDngGO11n1on2BaijKVuM9TJDKZKnPkX006IWj5BhEi9D\n",
       "1AOGsh852ugQWMpOe0Fmt+qS2L7QyW1bXiNMaFcHr8tUerotB3GN3fn/+rf6W9YqC+YZl9iVmWva\n",
       "39iIrJe5UeJS8FEnv2s5PUvBGpbWmUa8V0s+YPAsDE/Ne1jKDrgEvzZtToBSpSDNnbJEmCm95VZc\n",
       "uC3EYSzs3n+r1GzAcxyd2QzCOlpsr5rnk7Onub62+oR8BttxD/hzKX1K5L44rK1dqRXlOU8w6PUE\n",
       "sJ0kwkTK4CYs9veMnBY7D5Qu+ICZ+ValRl0Euun4s3ucz3c0P3Q/pHJQp3I2siVerKzHkfoskwqp\n",
       "VhcDt0CCsZxeTrNRjUX+wRJhOw8Et2kf8IVsB6Fhe+YMtrfHx4u8h8iAe4nPT55LaJUaq05PV4cz\n",
       "T/jd/fnNq56hPzQm/ulF50fdHiJ/s+LKj5+vgU/U2RJDxR8QdoKrFJMezT99jsdHyIB7iS9Onp8I\n",
       "y3YLo2+9sdVvuST+u+NkpVDA2xtSGfteLf4DPYsjuOyqJHQAAAAASUVORK5CYII=\n",
       "\" style=\"display:inline;vertical-align:middle;\" /></a><br>(see <a class=\"ProveItLink\" href=\"../../../__pv_it/theorems/513ffb97c325b2dfe4e6dd31b53cae5b39d01a560/dependencies.ipynb\">dependencies</a>)<br>"
      ],
      "text/plain": [
       "<IPython.core.display.HTML object>"
      ]
     },
     "metadata": {},
     "output_type": "display_data"
    }
   ],
   "source": [
    "%proving bounds_for_int_not_in_interval"
   ]
  },
  {
   "cell_type": "code",
   "execution_count": null,
   "metadata": {},
   "outputs": [],
   "source": []
  }
 ],
 "metadata": {
  "kernelspec": {
   "display_name": "Python 3",
   "language": "python",
   "name": "python3"
  }
 },
 "nbformat": 4,
 "nbformat_minor": 0
}