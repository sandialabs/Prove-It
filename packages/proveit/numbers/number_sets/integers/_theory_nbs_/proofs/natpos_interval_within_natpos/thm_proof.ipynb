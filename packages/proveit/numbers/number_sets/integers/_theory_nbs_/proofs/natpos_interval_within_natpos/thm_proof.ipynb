{
 "cells": [
  {
   "cell_type": "markdown",
   "metadata": {},
   "source": [
    "Proof of <a class=\"ProveItLink\" href=\"../../../../../../_theory_nbs_/theory.ipynb\">proveit</a>.<a class=\"ProveItLink\" href=\"../../../../../_theory_nbs_/theory.ipynb\">numbers</a>.<a class=\"ProveItLink\" href=\"../../../../_theory_nbs_/theory.ipynb\">number_sets</a>.<a class=\"ProveItLink\" href=\"../../theory.ipynb\">integers</a>.<a class=\"ProveItLink\" href=\"../../theorems.ipynb#natpos_interval_within_natpos\">natpos_interval_within_natpos</a> theorem\n",
    "========"
   ]
  },
  {
   "cell_type": "code",
   "execution_count": 1,
   "metadata": {},
   "outputs": [],
   "source": [
    "import proveit\n",
    "theory = proveit.Theory() # the theorem's theory"
   ]
  },
  {
   "cell_type": "code",
   "execution_count": 2,
   "metadata": {},
   "outputs": [
    {
     "data": {
      "text/html": [
       "With these <a href=\"allowed_presumptions.txt\">allowed</a>/<a href=\"disallowed_presumptions.txt\">disallowed</a> theorem/theory presumptions (e.g., to avoid circular dependencies), we begin our proof of<br><strong id=\"natpos_interval_within_natpos\">natpos_interval_within_natpos:</strong> <a class=\"ProveItLink\" href=\"../../../__pv_it/theorems/6192928d94e342f2159093a3ce5413bd6b21b2d10/expr.ipynb\"><img src=\"data:image/png;base64,iVBORw0KGgoAAAANSUhEUgAAAN8AAAAZBAMAAABDZua2AAAAMFBMVEX///8AAAAAAAAAAAAAAAAA\n",
       "AAAAAAAAAAAAAAAAAAAAAAAAAAAAAAAAAAAAAAAAAAAv3aB7AAAAD3RSTlMAq1RmmUTNIjK7EInv\n",
       "3XZ/CtNrAAAACXBIWXMAAA7EAAAOxAGVKw4bAAADQ0lEQVRIx7VWXUgUURQ+7ozt/OwfC0VixEJE\n",
       "9FAMQUERMqFGFuaWRFAPTolIvjRW9JLV2kMR/ShE0ITV+BKIyg4FBUJhRJRE5ENgFEvrSxBZhFCB\n",
       "D9K5M7Pz687sIl24l3vn3LnfOeee850LUHHbCstpIna6qj8i4rIAB7FHB6v54yEZuEMBO07JIYDQ\n",
       "UA3gLTJ8PRKwg6lTPV+4L0oP8O9flQDjuCFFJuvC8aKTxK0LZaTc0DSObMr7nc0cAMhbFiZwQzOZ\n",
       "dIcD0hoO/HQ58QpxSXHNDC9ADGhFmVLQRRwq3F/hZSazgYDJzNKAG9GYuGUhdKJq6FY+Ew44oAYC\n",
       "drjE3wqFwkcd8HTxrBOwBYASELSCmPkBgYDPnOLLTy0L5dUJzQE4h/1dofC2AsBV1om9zy/4xcd+\n",
       "pi1AbsZ2qczCbQcgccQegLvlUHh7quiRIwHUvoYHqi9K/6h5GRKTBkrWAciI4+MlpsGLyaHCEE2V\n",
       "DU2HCWToQ/+PCdDqp6EFiBUhOm9ErCNoZNgSGbLXF1EXVuUtjZgT5uT8viz1wgX4gTizC4c2gM9+\n",
       "zSRIYt4MHyeLfhdgjbrGXucRKlJ0aFRPUGeVbCQ1AXt9FjIt6Msp4H77AOMadGCoP9FV73UBcqlx\n",
       "h4XoUpAcDPcGexN+jDTQoPFNrU3NLpcilXCLQP1aKg3b1BIRxV2AcJN1JBeh20c9OIw2kFBmFmfV\n",
       "hEDu5NLhouaysM6MUm4eaqQNPsAc9xLFRtDQgk1tqHziqidd+1Ikkpm/hOs+JcQRPQhyE+vdgHOl\n",
       "tLgPm0Q95PISiU7TEoEV7TzsshmPUMpu+5Sd+mbUghYZoh0rUFK7AUgnBl2AFpUMf7+yNqd7TjRj\n",
       "iaRFfaMj8UdWmnnDnJwqFTaj7SpNYllC5BDL0altiqJkIjlOk1x5GAvmUnAR0dF7JrV5W6cVrjK7\n",
       "A7VKQixzzbAQDharqRYA4WKjWpj6ywPt6igWyO2Yl7imsnrtclZX4nKTSsryhBQCSFln1jZufgzX\n",
       "M8x+pIs7uL7RbZZmu6VJHZsPPG9MCAGMex4hRpUaVZRsuTfNmXTAcefSYRXA86apVQNfbRost3kL\n",
       "PfU/36X6HaNF/wAzrMVEVnewaAAAAABJRU5ErkJggg==\n",
       "\" style=\"display:inline;vertical-align:middle;\" /></a><br>(see <a class=\"ProveItLink\" href=\"../../../__pv_it/theorems/859ccad1b543d6e4ebaf2efb45d2869ef19f255b0/dependencies.ipynb\">dependencies</a>)<br>"
      ],
      "text/plain": [
       "<IPython.core.display.HTML object>"
      ]
     },
     "metadata": {},
     "output_type": "display_data"
    }
   ],
   "source": [
    "%proving natpos_interval_within_natpos"
   ]
  },
  {
   "cell_type": "code",
   "execution_count": null,
   "metadata": {},
   "outputs": [],
   "source": []
  }
 ],
 "metadata": {
  "kernelspec": {
   "display_name": "Python 3",
   "language": "python",
   "name": "python3"
  }
 },
 "nbformat": 4,
 "nbformat_minor": 0
}