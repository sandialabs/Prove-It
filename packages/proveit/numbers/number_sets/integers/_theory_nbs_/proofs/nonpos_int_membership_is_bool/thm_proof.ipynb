{
 "cells": [
  {
   "cell_type": "markdown",
   "metadata": {},
   "source": [
    "Proof of <a class=\"ProveItLink\" href=\"../../../../../../_theory_nbs_/theory.ipynb\">proveit</a>.<a class=\"ProveItLink\" href=\"../../../../../_theory_nbs_/theory.ipynb\">numbers</a>.<a class=\"ProveItLink\" href=\"../../../../_theory_nbs_/theory.ipynb\">number_sets</a>.<a class=\"ProveItLink\" href=\"../../theory.ipynb\">integers</a>.<a class=\"ProveItLink\" href=\"../../theorems.ipynb#nonpos_int_membership_is_bool\">nonpos_int_membership_is_bool</a> theorem\n",
    "========"
   ]
  },
  {
   "cell_type": "code",
   "execution_count": 1,
   "metadata": {},
   "outputs": [],
   "source": [
    "import proveit\n",
    "theory = proveit.Theory() # the theorem's theory"
   ]
  },
  {
   "cell_type": "code",
   "execution_count": 2,
   "metadata": {},
   "outputs": [
    {
     "data": {
      "text/html": [
       "With these <a href=\"allowed_presumptions.txt\">allowed</a>/<a href=\"disallowed_presumptions.txt\">disallowed</a> theorem/theory presumptions (e.g., to avoid circular dependencies), we begin our proof of<br><strong id=\"nonpos_int_membership_is_bool\">nonpos_int_membership_is_bool:</strong> <a class=\"ProveItLink\" href=\"../../../__pv_it/theorems/4f08d0d6c2022f9f92ace49c68f06528aed227f60/expr.ipynb\"><img src=\"data:image/png;base64,iVBORw0KGgoAAAANSUhEUgAAALUAAAAaBAMAAAADNwChAAAAMFBMVEX///8AAAAAAAAAAAAAAAAA\n",
       "AAAAAAAAAAAAAAAAAAAAAAAAAAAAAAAAAAAAAAAAAAAv3aB7AAAAD3RSTlMAq1RmmUTNIjK7EInv\n",
       "3XZ/CtNrAAAACXBIWXMAAA7EAAAOxAGVKw4bAAADJElEQVRIx51WXUgUURT+dndmZ3bX3SwqFSqE\n",
       "IpAesqCHKMKoqKwHKfAhKbd8CERqegkEwRV6KQQHogcza4KIfFGJIEIQKQokKqUoDAbWtCArH4JQ\n",
       "pKBz9u7M7t2dkdULd+7Mued+9/x899wBVtlqDIz8WMW6PdRDDctDpxFKqybqfOYVH3mQF2xbFnpv\n",
       "LVCWwgLafRQ001v+kHo0uRz092p6dFp4Tsb7qBzwFt+kHqn1mtn+7lX/1At0MzR6LLwHPheo/Bq/\n",
       "3DZJ8YxbQDkLtkrujNGjw9veSoSRRLDPEthvgelCHfOc1roBSBDwEf6+KKVhmB4nPLEPAzMxMlpl\n",
       "cIrJb2DIKsQ+jacRCuoS0FUU+DXMkD+e2BWImgP8oq83RC4Rri3G3h2gsYXmaN9Ydf4k+Qp9SY6F\n",
       "bWdya0FJVYrArbUSaZX8VrJ2Jfrtjy52mMbjxGPaNyxngzUn8iWNc+5rl55ltAaMzJIVibHMp3rJ\n",
       "ytldsY/Gn9Tf2PZrCXsj9QCbOTj9aIQ90lpzk7cjBfFVhYdXrVwuByc5Y80kOUYLJO1epiB7WpfY\n",
       "orD9YSN3rIYLeasvQmaDebbtXz2HNgVcgVYuaZ9nOBKFjNBSgDOVFzJmIHC9l1p2Q01kPZmfy5lG\n",
       "phFRImLF5NLxgXqcoqpDESu6bWoiZV9INyppRzPYOkXWnnKwIyoFZYhQg2k5la7dVDHEgR7IAZlU\n",
       "PwKGdNIWxUS+3RHQZ2eK3eEQzh+dNYqwm40opyjurgukKsggOd4LmWFCxiaHexjvMdEgYVSFHZJX\n",
       "MQhtPNCwCbEMdd16dE2lWG324sm8hB1MC56gg/OGu7ozycRk1u68cRKnMpILLgPppLXXSNghwW/X\n",
       "MphNGH1C437hKD8XXG3ekK15MB88JFbcvyXYq4639d752ydfAoJk0aoz4vvb+L1MHcTBXNjGNOe1\n",
       "jGdeSgBN/bZfPXfqifose+ad1uK8dMSSSgl10KMV1UGHUm5FUr6OzuVcYE6Xir3LRx4q9xSv4yRU\n",
       "l4j9yUceN1Z5X+aZt8L7MsgB31Ea9krv+VL+T5xW7/d/Qin+D6T4zsoAP0bbAAAAAElFTkSuQmCC\n",
       "\" style=\"display:inline;vertical-align:middle;\" /></a><br>(see <a class=\"ProveItLink\" href=\"../../../__pv_it/theorems/1d828fa68e036eafa6d149430917f86288cba68c0/dependencies.ipynb\">dependencies</a>)<br>"
      ],
      "text/plain": [
       "<IPython.core.display.HTML object>"
      ]
     },
     "metadata": {},
     "output_type": "display_data"
    },
    {
     "name": "stdout",
     "output_type": "stream",
     "text": [
      "nonpos_int_membership_is_bool may now be readily provable (assuming required theorems are usable).  Simply execute \"%qed\".\n"
     ]
    }
   ],
   "source": [
    "%proving nonpos_int_membership_is_bool"
   ]
  },
  {
   "cell_type": "code",
   "execution_count": null,
   "metadata": {},
   "outputs": [],
   "source": []
  }
 ],
 "metadata": {
  "kernelspec": {
   "display_name": "Python 3",
   "language": "python",
   "name": "python3"
  }
 },
 "nbformat": 4,
 "nbformat_minor": 0
}