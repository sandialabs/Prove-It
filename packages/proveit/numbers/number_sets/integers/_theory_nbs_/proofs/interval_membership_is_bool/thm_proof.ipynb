{
 "cells": [
  {
   "cell_type": "markdown",
   "metadata": {},
   "source": [
    "Proof of <a class=\"ProveItLink\" href=\"../../../../../../_theory_nbs_/theory.ipynb\">proveit</a>.<a class=\"ProveItLink\" href=\"../../../../../_theory_nbs_/theory.ipynb\">numbers</a>.<a class=\"ProveItLink\" href=\"../../../../_theory_nbs_/theory.ipynb\">number_sets</a>.<a class=\"ProveItLink\" href=\"../../theory.ipynb\">integers</a>.<a class=\"ProveItLink\" href=\"../../theorems.ipynb#interval_membership_is_bool\">interval_membership_is_bool</a> theorem\n",
    "========"
   ]
  },
  {
   "cell_type": "code",
   "execution_count": 1,
   "metadata": {},
   "outputs": [],
   "source": [
    "import proveit\n",
    "theory = proveit.Theory() # the theorem's theory"
   ]
  },
  {
   "cell_type": "code",
   "execution_count": 2,
   "metadata": {},
   "outputs": [
    {
     "data": {
      "text/html": [
       "With these <a href=\"allowed_presumptions.txt\">allowed</a>/<a href=\"disallowed_presumptions.txt\">disallowed</a> theorem/theory presumptions (e.g., to avoid circular dependencies), we begin our proof of<br><strong id=\"interval_membership_is_bool\">interval_membership_is_bool:</strong> <a class=\"ProveItLink\" href=\"../../../__pv_it/theorems/48ea40e9d8cda4c627ca432d2ee31f9e769308120/expr.ipynb\"><img src=\"data:image/png;base64,iVBORw0KGgoAAAANSUhEUgAAASEAAAAWBAMAAAB9OzeJAAAAMFBMVEX///8AAAAAAAAAAAAAAAAA\n",
       "AAAAAAAAAAAAAAAAAAAAAAAAAAAAAAAAAAAAAAAAAAAv3aB7AAAAD3RSTlMAq1RmmUTNIjK7EInv\n",
       "3XZ/CtNrAAAACXBIWXMAAA7EAAAOxAGVKw4bAAAEO0lEQVRIx82Wb2gcVRDA5253c3e7d9tTUSxK\n",
       "OBBawTZZUQv1QzmIrUq1Hhb9YESPVhGDyMZKQaj16hdBI71CrV6kdQN+MEaSS20t/aNEpPQf0UNi\n",
       "RduFC4rFRkMJ2EqE4sx7u5u3f24Xvzkwe3vzduf9dt68eQOQJLpdi7CajoZFfSLGWWYlXToMmp0m\n",
       "C4hWicIscY2Q356K87ZrGEBpB5xd3Hd1+maAZ/hsRbLdEUuUop+0IRrvcjQs6cVOjkan6boH9ZfA\n",
       "SE5pbx+pgG4wovVkeiGWSKYodYlrpFa5Rj3e6ujpObp8Sb6sIJGhmXWAAUa0ixa2HkuUpTi+Jtpk\n",
       "g+t/I1pwiaRyiEgq4ST3MiLi1UrxeYTscFC05R1dkt9tu5pApCy6RHDWSaD99nmPCF/PWzSbhJ/a\n",
       "lZDZ9+CPb41WOOrJk5eTY8RHGNFWjviy5cUota2JHAbbR9O2fS6BKG/bF5uibaOj47OfHKf4Zgb8\n",
       "8w5+tTPsqKt7tuQQTTLDdstbtct/3kbvFhnRQwDDCURyDXK+ZNzqaFnvllv+tJcxmMop+MgKOZoY\n",
       "UK8B/EG3a8C3n3LK+e9m8AWpyogGIVN0h7IvOjepM4c+LHtE+MCgz/n3XCVTWkxRggvLvgP/f2bA\n",
       "o+FP67XgW4A3KKarmKEqZLZ+H4Y5PcWIcpZQAyl22dlGpWBq49ZShRyGwz7nJ7lmWURQhmwUtmEH\n",
       "n8fLYwAXwkQbAP7BonELIu1mn4/5Yv/kEEG9Hy1X2GzptvCFp1EfwEIuwZvbhJrd409slwh3By+/\n",
       "o95I9mH8kDOg/hUmugAK7n+NkJ9mRa0uxAjqOVxtHiOorsPL2Loj5O/6rKXzOlMuC0RdEs6s/7rz\n",
       "Qf+qATxrqhTKglBbiqBeB+lKVDmSF9naAaxmhpaPCOOSbnGig7iC6o/Za1QgftbL/HulV2oCkbYC\n",
       "/VxK1bc4tgNcRyu3g8YKS1vca+oCpKorQ0R/U37BCbpdywzzPqIenLTOiXZgYsvl7BQNGVJ1M3to\n",
       "XBNP2szXeGPk2i7lJNfetx+Bx5lhi2/3H4DVPMQTdNpcdUZugr1uPdrIy0HJI2pqc/iC3OREKZwn\n",
       "X9Fpw+VrcnFNo9EoQfMYfCqc/bfS3TJvj7/L9eP5dB/3OvKeJRCNzL3VzeALxDXjjIwcMlyiH/jp\n",
       "uJy3CfpLDXb2Q6Gy1GlMmLn70ecyyJfeYeX0TgOOBbuRIa8jKtS4Lkn//sRThAsRZZxnlKP8FHHl\n",
       "dWG2vLl7szUGBWstr4WaDErLT5SZ+gLcbKejMnhcJp+0HlGHQxr6BCKlr+dzGCplN7Uh8wH+v/uG\n",
       "uX3FQIw29c97hfh9RyN6ual4og3BPkJoMOuh/pDnxFijUUnqIUd9RcjndiEWSP2m47dAzgzOpliR\n",
       "yxDV+mbaXCPk1Rvj+uxJaoejG3S4RA2uj0iC/4P8C7yNFBa+lTDjAAAAAElFTkSuQmCC\n",
       "\" style=\"display:inline;vertical-align:middle;\" /></a><br>(see <a class=\"ProveItLink\" href=\"../../../__pv_it/theorems/d93368aef3fff0800c6821813d81afc78e4499600/dependencies.ipynb\">dependencies</a>)<br>"
      ],
      "text/plain": [
       "<IPython.core.display.HTML object>"
      ]
     },
     "metadata": {},
     "output_type": "display_data"
    },
    {
     "name": "stdout",
     "output_type": "stream",
     "text": [
      "interval_membership_is_bool may now be readily provable (assuming required theorems are usable).  Simply execute \"%qed\".\n"
     ]
    }
   ],
   "source": [
    "%proving interval_membership_is_bool"
   ]
  },
  {
   "cell_type": "code",
   "execution_count": null,
   "metadata": {},
   "outputs": [],
   "source": []
  }
 ],
 "metadata": {
  "kernelspec": {
   "display_name": "Python 3",
   "language": "python",
   "name": "python3"
  }
 },
 "nbformat": 4,
 "nbformat_minor": 0
}