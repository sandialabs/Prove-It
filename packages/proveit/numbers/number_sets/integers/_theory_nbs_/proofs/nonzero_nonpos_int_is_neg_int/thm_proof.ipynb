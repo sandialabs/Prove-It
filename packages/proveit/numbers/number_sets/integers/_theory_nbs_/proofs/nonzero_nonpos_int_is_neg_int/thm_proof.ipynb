{
 "cells": [
  {
   "cell_type": "markdown",
   "metadata": {},
   "source": [
    "Proof of <a class=\"ProveItLink\" href=\"../../../../../../_theory_nbs_/theory.ipynb\">proveit</a>.<a class=\"ProveItLink\" href=\"../../../../../_theory_nbs_/theory.ipynb\">numbers</a>.<a class=\"ProveItLink\" href=\"../../../../_theory_nbs_/theory.ipynb\">number_sets</a>.<a class=\"ProveItLink\" href=\"../../theory.ipynb\">integers</a>.<a class=\"ProveItLink\" href=\"../../theorems.ipynb#nonzero_nonpos_int_is_neg_int\">nonzero_nonpos_int_is_neg_int</a> theorem\n",
    "========"
   ]
  },
  {
   "cell_type": "code",
   "execution_count": 1,
   "metadata": {},
   "outputs": [],
   "source": [
    "import proveit\n",
    "theory = proveit.Theory() # the theorem's theory"
   ]
  },
  {
   "cell_type": "code",
   "execution_count": 2,
   "metadata": {},
   "outputs": [
    {
     "data": {
      "text/html": [
       "With these <a href=\"allowed_presumptions.txt\">allowed</a>/<a href=\"disallowed_presumptions.txt\">disallowed</a> theorem/theory presumptions (e.g., to avoid circular dependencies), we begin our proof of<br><strong id=\"nonzero_nonpos_int_is_neg_int\">nonzero_nonpos_int_is_neg_int:</strong> <a class=\"ProveItLink\" href=\"../../../__pv_it/theorems/847fe566a824b9a0adfdf564514bd6c6e93372e30/expr.ipynb\"><img src=\"data:image/png;base64,iVBORw0KGgoAAAANSUhEUgAAAMkAAAAaCAMAAAAqsoi2AAAAOVBMVEX///8AAAAAAAAAAAAAAAAA\n",
       "AAAAAAAAAAAAAAAAAAAAAAAAAAAAAAAAAAAAAAAAAAAAAAAAAAAAAAACXHtMAAAAEnRSTlMAq1Rm\n",
       "mUTNIjK7EInv3Xbt5cmRiLwgAAAACXBIWXMAAA7EAAAOxAGVKw4bAAAC60lEQVRYw81YibLbIAw0\n",
       "N+Jq6///2EqAbfIsJ3TqScI4ziQmgtWuDrIsHx7K/LcJvXzDkDdsw8EXAAn2Fl7L55GAmuXOpjVZ\n",
       "yBkS85Mc8CaOyertQFyanVlAeHyz9To/JRR6jzjr3o5Ex+mZNZ6KWqLEdw/baHsOK5LixQfjZp1O\n",
       "XIK2HIAubljSkw3tQwX73uHX8EROGccupTpR+6VqjKGMAKoeHvb9lJR89cTYcgaJ8vEXSbvUgEsE\n",
       "Pqf4fiRi854TsbghlTrLkQWBLh55ZVf7Pm26CNyWg7voTcIogEFqbPKR8bpw+NVXh2y3uTJEUnVF\n",
       "FjfZL1wDt23RUEuEHqTGKt0+iQDXcgfRES+ziEgQNV5t0dgYJPYHs8/SXrMcYznLNzejeq0fjue+\n",
       "CR7HYLjIborzTGhIZOHQ+iIA8HlG38dQA9Dp2PM3BVgKM0ga2SQLAxecJDj20swz9vC7XieE4zjx\n",
       "nbezALXu+Q6Z99IR/y5vizlSQvYzSNq6ieaujkUSVlpcrSNZjB3fTYWVjRPXS8mWK0JUpfq9qIe2\n",
       "WW8xYgZOHItkN9GCOTaXkf30s2IJaFuTLY/J/Vfl5FhMv6ZtQuTL3EXtT4/3gFKq8B74VU7u7pdC\n",
       "bSHJx8luQtdu4he+VC+BWbFVYAHct8x6zBtWnjNw9bYDyQlApYO6vbvx9KUZFg1liQ/eMTV3Kcci\n",
       "2U0sy0FtQ5IK78kgSvROlKF8BwFmjGyTwCZ0CjbEwBU+/TP1JtP7SmVbg0auiRjwaPtZFQHGxBi6\n",
       "TV3rqR9K132XiTB2Ky+GVT9zGVUohZv2B3AjPU1DNE63YZ4gOUyQun7/gaqui4j/h174Ra0+NXCJ\n",
       "NG5UGEt+rPo1eZnkZDcx9Nk1hM25+Pp0DxJ1Mm20kiXWjAtbEhYCZQxWTCI5TDx0QFgZNaNPcU8D\n",
       "np8drUIkYUyeH/h6Il8fr7/uHH9x/Jk5n98QKXeeEVlTcorQO/7vCvchef8/AOfxF99DFrt+vx9V\n",
       "AAAAAElFTkSuQmCC\n",
       "\" style=\"display:inline;vertical-align:middle;\" /></a><br>(see <a class=\"ProveItLink\" href=\"../../../__pv_it/theorems/90a089475ab47765928c4e5be640ca4be44bba2f0/dependencies.ipynb\">dependencies</a>)<br>"
      ],
      "text/plain": [
       "<IPython.core.display.HTML object>"
      ]
     },
     "metadata": {},
     "output_type": "display_data"
    },
    {
     "name": "stdout",
     "output_type": "stream",
     "text": [
      "nonzero_nonpos_int_is_neg_int may now be readily provable (assuming required theorems are usable).  Simply execute \"%qed\".\n"
     ]
    }
   ],
   "source": [
    "%proving nonzero_nonpos_int_is_neg_int"
   ]
  },
  {
   "cell_type": "code",
   "execution_count": null,
   "metadata": {},
   "outputs": [],
   "source": []
  }
 ],
 "metadata": {
  "kernelspec": {
   "display_name": "Python 3",
   "language": "python",
   "name": "python3"
  }
 },
 "nbformat": 4,
 "nbformat_minor": 0
}