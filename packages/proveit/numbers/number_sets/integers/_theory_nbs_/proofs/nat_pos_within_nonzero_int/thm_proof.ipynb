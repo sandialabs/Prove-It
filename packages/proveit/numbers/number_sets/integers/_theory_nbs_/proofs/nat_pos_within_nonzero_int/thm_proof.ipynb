{
 "cells": [
  {
   "cell_type": "markdown",
   "metadata": {},
   "source": [
    "Proof of <a class=\"ProveItLink\" href=\"../../../../../../_theory_nbs_/theory.ipynb\">proveit</a>.<a class=\"ProveItLink\" href=\"../../../../../_theory_nbs_/theory.ipynb\">numbers</a>.<a class=\"ProveItLink\" href=\"../../../../_theory_nbs_/theory.ipynb\">number_sets</a>.<a class=\"ProveItLink\" href=\"../../theory.ipynb\">integers</a>.<a class=\"ProveItLink\" href=\"../../theorems.ipynb#nat_pos_within_nonzero_int\">nat_pos_within_nonzero_int</a> theorem\n",
    "========"
   ]
  },
  {
   "cell_type": "code",
   "execution_count": 1,
   "metadata": {},
   "outputs": [],
   "source": [
    "import proveit\n",
    "theory = proveit.Theory() # the theorem's theory"
   ]
  },
  {
   "cell_type": "code",
   "execution_count": 2,
   "metadata": {},
   "outputs": [
    {
     "data": {
      "text/html": [
       "With these <a href=\"allowed_presumptions.txt\">allowed</a>/<a href=\"disallowed_presumptions.txt\">disallowed</a> theorem/theory presumptions (e.g., to avoid circular dependencies), we begin our proof of<br><strong id=\"nat_pos_within_nonzero_int\">nat_pos_within_nonzero_int:</strong> <a class=\"ProveItLink\" href=\"../../../__pv_it/theorems/eab35bbe45f92eae1b4b3190b0cd4a5644de84d40/expr.ipynb\"><img src=\"data:image/png;base64,iVBORw0KGgoAAAANSUhEUgAAAFsAAAAVCAMAAAAeumK3AAAAOVBMVEX///8AAAAAAAAAAAAAAAAA\n",
       "AAAAAAAAAAAAAAAAAAAAAAAAAAAAAAAAAAAAAAAAAAAAAAAAAAAAAAACXHtMAAAAEnRSTlMAEN27\n",
       "zYnvRFSrImZ2Mpnt5cluJTbxAAAACXBIWXMAAA7EAAAOxAGVKw4bAAABb0lEQVQ4y7WVi3bDIAiG\n",
       "Ubxh1G2+/8MOjEm2LLRr13Eae4KeLwR+CMCLzcC/mY9j9cVrJ9qz6EyyLgUgonIEn2VTljVUXnp+\n",
       "LTuOTOQuSQ8JjO2ITm586CH+np0cn3doLYaFs4hib3wtUAfbLgJKEEeaTH8k7oIkr+7Gb7qW8bey\n",
       "Q5Ec2Qx+eAPMAAKOAG5aaxPn0ya/GdKaky5uSuxzknn7SNyjbIxbiRLS+8cM6aglZdZMdrfZhRM7\n",
       "rH5rklaBNk+l/bBokGYAvC9iV9nV+UtFMa7uvYBHS3LvNLO9HMMwqmxjNa2ag5iKkjh+urHGKn1J\n",
       "UZGhHy24mlOLsiRIGJSyOd2/b6Wo9ykZIIV9FOlU3zRHk7kzAwzBkZOrAfRzmiJk/ELQ2VCLKuvr\n",
       "Z7K4ZlhdjRunQEvV2O2qRbn8ca05WZXttp5tTj0SL/U3RlzGpMVUXQ9zz6hsgxRPBYsBnYwdHobo\n",
       "//atih5PPX/fPgFqrwmDbLyDgQAAAABJRU5ErkJggg==\n",
       "\" style=\"display:inline;vertical-align:middle;\" /></a><br>(see <a class=\"ProveItLink\" href=\"../../../__pv_it/theorems/74faa9717bb327e25aca36f6b3599acb9ebb42b10/dependencies.ipynb\">dependencies</a>)<br>"
      ],
      "text/plain": [
       "<IPython.core.display.HTML object>"
      ]
     },
     "metadata": {},
     "output_type": "display_data"
    }
   ],
   "source": [
    "%proving nat_pos_within_nonzero_int"
   ]
  },
  {
   "cell_type": "code",
   "execution_count": null,
   "metadata": {},
   "outputs": [],
   "source": []
  }
 ],
 "metadata": {
  "kernelspec": {
   "display_name": "Python 3",
   "language": "python",
   "name": "python3"
  }
 },
 "nbformat": 4,
 "nbformat_minor": 0
}