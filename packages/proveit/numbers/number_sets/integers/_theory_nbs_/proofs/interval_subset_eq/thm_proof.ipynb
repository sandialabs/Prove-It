{
 "cells": [
  {
   "cell_type": "markdown",
   "metadata": {},
   "source": [
    "Proof of <a class=\"ProveItLink\" href=\"../../../../../../_theory_nbs_/theory.ipynb\">proveit</a>.<a class=\"ProveItLink\" href=\"../../../../../_theory_nbs_/theory.ipynb\">numbers</a>.<a class=\"ProveItLink\" href=\"../../../../_theory_nbs_/theory.ipynb\">number_sets</a>.<a class=\"ProveItLink\" href=\"../../theory.ipynb\">integers</a>.<a class=\"ProveItLink\" href=\"../../theorems.ipynb#interval_subset_eq\">interval_subset_eq</a> theorem\n",
    "========"
   ]
  },
  {
   "cell_type": "code",
   "execution_count": 1,
   "metadata": {},
   "outputs": [],
   "source": [
    "import proveit\n",
    "theory = proveit.Theory() # the theorem's theory"
   ]
  },
  {
   "cell_type": "code",
   "execution_count": 2,
   "metadata": {},
   "outputs": [
    {
     "data": {
      "text/html": [
       "With these <a href=\"allowed_presumptions.txt\">allowed</a>/<a href=\"disallowed_presumptions.txt\">disallowed</a> theorem/theory presumptions (e.g., to avoid circular dependencies), we begin our proof of<br><strong id=\"interval_subset_eq\">interval_subset_eq:</strong> <a class=\"ProveItLink\" href=\"../../../__pv_it/theorems/5a144d3ccea86fcdf11bdffeb6a21a6ace4e15830/expr.ipynb\"><img src=\"data:image/png;base64,iVBORw0KGgoAAAANSUhEUgAAAXEAAAAXBAMAAAAPc2JkAAAAMFBMVEX///8AAAAAAAAAAAAAAAAA\n",
       "AAAAAAAAAAAAAAAAAAAAAAAAAAAAAAAAAAAAAAAAAAAv3aB7AAAAD3RSTlMAq1RmmUTNIjK7EInv\n",
       "3XZ/CtNrAAAACXBIWXMAAA7EAAAOxAGVKw4bAAAEeklEQVRYw82XXWgcVRTH/92d3fnKbraKARso\n",
       "Cz6oL7pqKZqHdUtiNQ9qoPpgEQ3SIBYpk9o3q9lq8cVAViPWrVimD4rt2u5qitbQaGkotUglSEWp\n",
       "LGxU+pUaQkQNFYrn3rk7M5u7O5s8DPTC3D1z7p0zv3vuuefMAmE2lS7j6YDxO5tpPx4IsrnTos5C\n",
       "yO03ui5uDZiwZ7+sSw7ZQTa122n4ORJS7O6OcMAjFbquA4fOtZzyjqy6NwBcezkHnZCTGeARpngx\n",
       "HPJP6DJnqNvWcspU3dEfVavVfIOqaetMOxa3036xcCuEQ95bJ19sR67tsKTFNG3P247FDUCc9sZM\n",
       "h0N+UpDHrrcjP2JhZeRTwhcdNqIUMfGQwnxQkPN3BZLfhhWSbxPW4oR9rlr9PhxypSLI4+tnm+yq\n",
       "Of+gizm4jFztvlRrkkS7Ly8KcpOO6WPA/pWirI6c+QUKQZW3G//KGD+iH7jmhHnKN7CZrmctvUmE\n",
       "OdokC8IomR2G6j6nvdQw81vnsK85e+zDHBP0xmDYh7cKdcnTkT+WnJsEc/TuDM9zP0gYiQpTjvDN\n",
       "UH3k6jRVr2kocoQxLQGr7LxHCF+3Ta9mdTdMHaG1zBYHEpZ51JbIIwdoTZW65OnI9IJz10F2h4cc\n",
       "L/4ncTzJTRpdHN3DVLvoKWWBLUzacqE9+AJx0TsiNd8B/a5h6hWgj9wexRuvYDl5dJyx5euSp6Pt\n",
       "LHjkWj8B/oqYnBfPOsE+5OZP0fZS7HYUUJY/AeraL6mLsZAZzFJXyn7FouXGLPOE+XuNq3bwWkUt\n",
       "l/ORGxNzFpLvMnFsfp2Q8E1WSMbExZovWljFW4QiRa1xw18w4wMNZbVcw8NymAstq8qIsF36guqR\n",
       "8bPGzlDyQpIx/qSd5KolHHJ8uTPvIz9ijVnaKS7+af8hpMTAqJBo2JkNvSZyyxI+y0gcf5HjgBNi\n",
       "HWu3+nNLOY2uiPRVJbQmP6FsX3eTV5Qcg4WeYWdWKRh5rlrAFv7IURM+8j6MAndPMnEcG4XUj0+F\n",
       "1IexetpLCfJb8Z7D9w97v8iAlFiOe8k79rW/+uu1yHnFfYJ3cLU8K/KMuybPQjKZ4nGrpJz45KoC\n",
       "NhaLxTQqkzjskZ/GLPXPTPJjsUlIpwFXulLPVDOC/OAx4fLzbHdyYl0TWbtp2SGVsf748GX3Cadz\n",
       "tZw8UQ+vsqX3kJ1OdFBsdlpCddV+m/vjrgwmXXJKzeNsHXseBRZwSkhOviaJhg8cFlZ/QWD9bFEw\n",
       "p9qUCW7xNffYWmNb7BIS9kMoseNSKTHVm7bOD6yC2Izn8zPa3z3sd3gdLvBwY9IQTCGd0ZZ6hNUN\n",
       "4ZG7ySjWe88ERtPaEzXq1d6sPZrmKvUDGrxv7dz7KY/8qfvnnM23sHceQtr1wFUhucM03xIVr3Xb\n",
       "7Pw8Xq26cX6tXSUflL9u01KPUrHoJSx9lR8uRkFUvNYzpmXdSJsvV5an9MbEE7OX98vaasnxOl27\n",
       "bgn4H/p5E0p1UyD6q8zepUZdVOpbkmuUc4r7Wkk3X1NvJpj/AYtLSwDlbIafAAAAAElFTkSuQmCC\n",
       "\" style=\"display:inline;vertical-align:middle;\" /></a><br>(see <a class=\"ProveItLink\" href=\"../../../__pv_it/theorems/19ddc7a7c9b0e8c5a2d86d35d70aef7e7d3c2a330/dependencies.ipynb\">dependencies</a>)<br>"
      ],
      "text/plain": [
       "<IPython.core.display.HTML object>"
      ]
     },
     "metadata": {},
     "output_type": "display_data"
    }
   ],
   "source": [
    "%proving interval_subset_eq"
   ]
  },
  {
   "cell_type": "code",
   "execution_count": null,
   "metadata": {},
   "outputs": [],
   "source": []
  }
 ],
 "metadata": {
  "kernelspec": {
   "display_name": "Python 3",
   "language": "python",
   "name": "python3"
  }
 },
 "nbformat": 4,
 "nbformat_minor": 0
}