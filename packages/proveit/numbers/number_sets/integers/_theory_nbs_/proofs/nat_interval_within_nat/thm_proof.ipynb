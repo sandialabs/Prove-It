{
 "cells": [
  {
   "cell_type": "markdown",
   "metadata": {},
   "source": [
    "Proof of <a class=\"ProveItLink\" href=\"../../../../../../_theory_nbs_/theory.ipynb\">proveit</a>.<a class=\"ProveItLink\" href=\"../../../../../_theory_nbs_/theory.ipynb\">numbers</a>.<a class=\"ProveItLink\" href=\"../../../../_theory_nbs_/theory.ipynb\">number_sets</a>.<a class=\"ProveItLink\" href=\"../../theory.ipynb\">integers</a>.<a class=\"ProveItLink\" href=\"../../theorems.ipynb#nat_interval_within_nat\">nat_interval_within_nat</a> theorem\n",
    "========"
   ]
  },
  {
   "cell_type": "code",
   "execution_count": 1,
   "metadata": {},
   "outputs": [],
   "source": [
    "import proveit\n",
    "theory = proveit.Theory() # the theorem's theory"
   ]
  },
  {
   "cell_type": "code",
   "execution_count": 2,
   "metadata": {},
   "outputs": [
    {
     "data": {
      "text/html": [
       "With these <a href=\"allowed_presumptions.txt\">allowed</a>/<a href=\"disallowed_presumptions.txt\">disallowed</a> theorem/theory presumptions (e.g., to avoid circular dependencies), we begin our proof of<br><strong id=\"nat_interval_within_nat\">nat_interval_within_nat:</strong> <a class=\"ProveItLink\" href=\"../../../__pv_it/theorems/4203ebdb652687c0911dc6988c622d740d04fcd10/expr.ipynb\"><img src=\"data:image/png;base64,iVBORw0KGgoAAAANSUhEUgAAAMMAAAAWBAMAAACPojUFAAAAMFBMVEX///8AAAAAAAAAAAAAAAAA\n",
       "AAAAAAAAAAAAAAAAAAAAAAAAAAAAAAAAAAAAAAAAAAAv3aB7AAAAD3RSTlMAq1RmmUTNIjK7EInv\n",
       "3XZ/CtNrAAAACXBIWXMAAA7EAAAOxAGVKw4bAAAC90lEQVRIx7WVTWgTQRSAX3Y32Z/8GBQbsFgW\n",
       "REUE7UEEPcRItYgFWezBgyJBLcWc0rulqZRetBhF1BSU7cFDqZLUCkqpoBRBkEqRglIJbE5t0UPx\n",
       "YLUW8b3sT3e72aEefDDDzHuz8828ee8twCYkj+2xFmwX9zI/3YQkVGxdOmNF//BGzdNf93SYWtMu\n",
       "4jhJil1MxH5sB4MIozPU3/bp74SToCxDohXgJM27WQQli92rQPMVaGjemZ8AeA2QwzuSL4sshNDK\n",
       "RHxvjNhajORhFuAQQAQ9EFVZiBiwEOFVj3mpWq1+pkEqLWYJEdOBxzNGmE+xh4mIzrrNgy9sfSpU\n",
       "+EqICO4/U62+ZyI67D3E5gXDZ4201FQHoXxy9CkoyhoiohhPpwCGmYjL1LVju5CXV33Wck5ZAfhm\n",
       "TkKaCzGgzCOCx2DpATFp66Wr1qC3Q+PfWOOPdIFpPOI0CLM+BEbzB4A+8zVdHk8Br+7DiOKwyXp0\n",
       "nd1MnFpJ45KTcNrSvUVCEy4RliFe8SHwer8R31Rn9LsRsCOE20vLiDFc7HfYThRQmRagso6AAfRl\n",
       "rAhlfxX5AmEM22hXfdLjQYwoeOkwYiCbxm4sTbEg/anplI/AXT9nVFyOovQtG3CsUVoIq07yxz0I\n",
       "ycB848i3z3IUCtIKVaP5RGaUFnCFyd024pEVUWUVmjhfWfsJT/BMU64sNeUBtkVE8JTW1/C1hYxE\n",
       "F5Jb+WyniRASdsqPWwjZ4OaEemj+oEjKmtZtcNeVF10O4hIRcY1AJw2h72NagsIqVhCSh0ulksoV\n",
       "lIq1BwxZCKXlZc9iXTNHPsmY1pHn7voyut0ql4NrRbO6xe3nK+flo2jcAjH1hnkLOGunWbzArFHg\n",
       "Sf7zD60CYkuvU4fytzr1MYjrRzCIcc5rkLCzhc/8A8InbU4xazswATdV6YwBIj3UULf1JyG5D076\n",
       "Bkl74A9xQxE3U3SsVPKGP8VYH7MYY+IHiOwNwXDAn03EVxGPMxjieKBxwTvl4b/IX5dCu+Ao0gGy\n",
       "AAAAAElFTkSuQmCC\n",
       "\" style=\"display:inline;vertical-align:middle;\" /></a><br>(see <a class=\"ProveItLink\" href=\"../../../__pv_it/theorems/8deae4de96448e3dd4d72659104740df2d3be2b20/dependencies.ipynb\">dependencies</a>)<br>"
      ],
      "text/plain": [
       "<IPython.core.display.HTML object>"
      ]
     },
     "metadata": {},
     "output_type": "display_data"
    }
   ],
   "source": [
    "%proving nat_interval_within_nat"
   ]
  },
  {
   "cell_type": "code",
   "execution_count": null,
   "metadata": {},
   "outputs": [],
   "source": []
  }
 ],
 "metadata": {
  "kernelspec": {
   "display_name": "Python 3",
   "language": "python",
   "name": "python3"
  }
 },
 "nbformat": 4,
 "nbformat_minor": 0
}