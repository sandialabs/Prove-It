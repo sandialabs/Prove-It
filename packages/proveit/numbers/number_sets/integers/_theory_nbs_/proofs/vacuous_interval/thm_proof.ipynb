{
 "cells": [
  {
   "cell_type": "markdown",
   "metadata": {},
   "source": [
    "Proof of <a class=\"ProveItLink\" href=\"../../../../../../_theory_nbs_/theory.ipynb\">proveit</a>.<a class=\"ProveItLink\" href=\"../../../../../_theory_nbs_/theory.ipynb\">numbers</a>.<a class=\"ProveItLink\" href=\"../../../../_theory_nbs_/theory.ipynb\">number_sets</a>.<a class=\"ProveItLink\" href=\"../../theory.ipynb\">integers</a>.<a class=\"ProveItLink\" href=\"../../theorems.ipynb#vacuous_interval\">vacuous_interval</a> theorem\n",
    "========"
   ]
  },
  {
   "cell_type": "code",
   "execution_count": 1,
   "metadata": {},
   "outputs": [],
   "source": [
    "import proveit\n",
    "theory = proveit.Theory() # the theorem's theory"
   ]
  },
  {
   "cell_type": "code",
   "execution_count": 2,
   "metadata": {},
   "outputs": [
    {
     "data": {
      "text/html": [
       "With these <a href=\"allowed_presumptions.txt\">allowed</a>/<a href=\"disallowed_presumptions.txt\">disallowed</a> theorem/theory presumptions (e.g., to avoid circular dependencies), we begin our proof of<br><strong id=\"vacuous_interval\">vacuous_interval:</strong> <a class=\"ProveItLink\" href=\"../../../__pv_it/theorems/28015fc4cb26c41eb2742c987bb14f03f6dc5ea40/expr.ipynb\"><img src=\"data:image/png;base64,iVBORw0KGgoAAAANSUhEUgAAAO0AAAAYBAMAAADkPGcWAAAAMFBMVEX///8AAAAAAAAAAAAAAAAA\n",
       "AAAAAAAAAAAAAAAAAAAAAAAAAAAAAAAAAAAAAAAAAAAv3aB7AAAAD3RSTlMAq1RmmUTNIjK7EInv\n",
       "3XZ/CtNrAAAACXBIWXMAAA7EAAAOxAGVKw4bAAADO0lEQVRIx71WT0gUURj/6c7o7OwfV28hxEKH\n",
       "8lBMIJEdZMOCItQF6RKRWxCRBxmtS2S5dumQoYeoNqNGiKAUdykpMooFDykRbBQUhqAZRQghRgUe\n",
       "pO+bnZ1xd2YHWrEHb3jv933z/d58/94A/33E12ugkqZ82EWhW7Vj5bszUNfH+5nm1yMuCtImzQbd\n",
       "uBfCMVqEeLelFNryFM2VIkL5doae3lAhHtCEKQQVYD/vTpXCe5+mL1NMWhFxFNch0AB0AH0cqMFS\n",
       "eJtceavCjuJDONcL1NO5KAS+cCm8aVfeds1R/A4LSRV+DR7ydUVJ4Y258r6Ao3gSHckoKoj0zezs\n",
       "61J4hVTOcNfLi3bx8R81TrzLyFAEfJRvB4Bbxa1Hikr4zBDoo8VXuGurF/m3Rv4MpvVN8yyPtzpv\n",
       "eYp4PfRaFyrNbJdOG4uy6fEhnXIwD86rCE6KHiIfVdBsj8IK/HOoXC7EfwpR8nM5ncer+aImXMss\n",
       "84loQPWNaSavDvNHrLXgp7e6TtKiFfhkj0IMVRSI4ROF8Q2gNwppiU42tyatpmjuowbqwaUzsHin\n",
       "sn1xr1bAKx0kZBryL7s3UmgnhzyJFuCdfRjQILL/Y430GGl8yp+6Oq9xM+HARixehulZreb0TD9T\n",
       "Q5JX4VlyKt9WLdfO1sR3fAFH6Vs53x5R95A/SH9oGZwJRh7oqp7uuMXLMMRrqqnHwzuXzWd5GWWx\n",
       "rTbeuDxJ4nQhfrUDz8k6m+2htBIiEqt4FU+sTZeP+WDxMiwOsZMNPb02Q0Yd3cH2rHOSMc5jIzEV\n",
       "b8SpjoSMPGPUYFmcgxVkM/64ENqVSCTCSE3gocnLcH84G9RgLvmljME7vHh5s+6cALO/N1Kw1rmN\n",
       "ejq/0PkDubAnVe8e2lfBH77Ce3GbggmTl2H5WdjS08dH134F537l0+/eC2ZyqgNt2gjdUg1UVywW\n",
       "IGZMXoaB74qhZ7xTXwqvdaXoQ2za8Rj9YamFav0m7XdWL14PWfncwjmEBiWrl0ssOnow7d5LY84/\n",
       "KgX3X/ZaGkkkrKrL06jL+0GRSWZvSHljVHGEvfk/OqJmV3G7mfk2OFvjonC+iPBbQa7h33g3cqgb\n",
       "ZPcvSFzaOf5hzRoAAAAASUVORK5CYII=\n",
       "\" style=\"display:inline;vertical-align:middle;\" /></a><br>(see <a class=\"ProveItLink\" href=\"../../../__pv_it/theorems/8fdc7a78c7c8f3943d5bdc51553ebf2b3471a62a0/dependencies.ipynb\">dependencies</a>)<br>"
      ],
      "text/plain": [
       "<IPython.core.display.HTML object>"
      ]
     },
     "metadata": {},
     "output_type": "display_data"
    }
   ],
   "source": [
    "%proving vacuous_interval"
   ]
  },
  {
   "cell_type": "code",
   "execution_count": null,
   "metadata": {},
   "outputs": [],
   "source": []
  }
 ],
 "metadata": {
  "kernelspec": {
   "display_name": "Python 3",
   "language": "python",
   "name": "python3"
  }
 },
 "nbformat": 4,
 "nbformat_minor": 0
}