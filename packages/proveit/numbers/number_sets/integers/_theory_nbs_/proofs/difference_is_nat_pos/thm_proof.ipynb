{
 "cells": [
  {
   "cell_type": "markdown",
   "metadata": {},
   "source": [
    "Proof of <a class=\"ProveItLink\" href=\"../../../../../../_theory_nbs_/theory.ipynb\">proveit</a>.<a class=\"ProveItLink\" href=\"../../../../../_theory_nbs_/theory.ipynb\">numbers</a>.<a class=\"ProveItLink\" href=\"../../../../_theory_nbs_/theory.ipynb\">number_sets</a>.<a class=\"ProveItLink\" href=\"../../theory.ipynb\">integers</a>.<a class=\"ProveItLink\" href=\"../../theorems.ipynb#difference_is_nat_pos\">difference_is_nat_pos</a> theorem\n",
    "========"
   ]
  },
  {
   "cell_type": "code",
   "execution_count": 1,
   "metadata": {},
   "outputs": [],
   "source": [
    "import proveit\n",
    "theory = proveit.Theory() # the theorem's theory"
   ]
  },
  {
   "cell_type": "code",
   "execution_count": 2,
   "metadata": {},
   "outputs": [
    {
     "data": {
      "text/html": [
       "With these <a href=\"allowed_presumptions.txt\">allowed</a>/<a href=\"disallowed_presumptions.txt\">disallowed</a> theorem/theory presumptions (e.g., to avoid circular dependencies), we begin our proof of<br><strong id=\"difference_is_nat_pos\">difference_is_nat_pos:</strong> <a class=\"ProveItLink\" href=\"../../../__pv_it/theorems/7b1988c2737068baa3f03d441c637bdc44db76d20/expr.ipynb\"><img src=\"data:image/png;base64,iVBORw0KGgoAAAANSUhEUgAAAPUAAAAZBAMAAAAbGXWvAAAAMFBMVEX///8AAAAAAAAAAAAAAAAA\n",
       "AAAAAAAAAAAAAAAAAAAAAAAAAAAAAAAAAAAAAAAAAAAv3aB7AAAAD3RSTlMAq1RmmUTNIjK7EInv\n",
       "3XZ/CtNrAAAACXBIWXMAAA7EAAAOxAGVKw4bAAADkUlEQVRIx7VWb0gUURCfc2/v/61nQSSGHASV\n",
       "lHUFCUbISiVFZBd+i6ALg0iotgQhiLr6EpGlkGWb/Vm/BGbqWULoh+hL1BWWRCUlRyd9CitCCMNA\n",
       "mvf27ztuj9qjB7P7dmb2/Wbem5k3AEWMjc5+E5HcUNwoEZ3914nk7SwO+y55SDZCb2FsqCsO+wqS\n",
       "ELUR8ln2O/BJboHg66c6dlgBiJDJcifQ3if4WJ1P0jeOj885TH90D8CQ4beAwNvI5JATbHcKvUnk\n",
       "FR1E8igszzUZjEEI3LKclnHHAvMAZx0ffGkc8WN5RbNIXE4kuqrQxbDhNzSr5gWjTrA78M9Q/rOe\n",
       "J88X6odwK/OeYrdm26zYO9A8tNzjKNS+Ia3IKwlOaI4RO45qe++SlgopC/ZXpPFM5qUj7CVIO8nk\n",
       "+OPTrMRTOY07OUznbfqxuyQ/XLVg70fBdoAbhWuQzZA13/hncIeNq6GWwBxADTBh7JJ84sCAuWZH\n",
       "Eq0Gb0SX+w7riumRHtGw0WAz4wDSG6T7MdjFStYp8ApgDZ0nTGzYUHLTVDqDoepXgnGDUUGQpuV4\n",
       "WAoOKub+VGj1gUF4i0RKxW6AKSI8kiEDvYEGgN/oGDUbjzTzQcN2Kcssm4OoJVlLqD1H2oq/c3Cu\n",
       "1ax/lI2pWK/k+k2w0xD4yfo9BTxm2T5qbqfF70BkwOI3sTJBSmt/3SNi5cK0IqgpK4omNmHjs0zS\n",
       "9ax7HlgA7kduersxy6rpfMKCDZf9lhQlN8GDFlxg0jdHcvGjIPZRCXciaWITNvBdkqFHRznSbWTN\n",
       "giuxksH+RWIAaun8u1FTcUHhgqlE4hxOYai5RR+pzv4Yl2iiksGg5c4hbL6H6Gp6RoIOU/xqkU2H\n",
       "xdCl5x949LpFJw2m0ma6GWhQKE5qO4SS7kiNLMtRSI3BPQObsNvpGpqeYfglfPfOnK9MMti9I+Tc\n",
       "3qnxWb5XTaFjaf3aVUe9EXSSfxMuVQqh6EVajVbFYMzAJuzAaNTUA9UOvAmT9tecdtL8qFpTc0ez\n",
       "PglJHU1KP16qtZhzpCq6gZ8A864lZ/clpulZ7jHOvvbYXDPGfT5vVP8tax9Ce9TXmAXvdfxeXzZz\n",
       "LWLGeSNtBGpjqp5eiMjJd9sufrJwReYi7LcaFv2yHGf7G31UsQ3SItIm2C7eXRg7zK7FKza9VYF+\n",
       "zZu1EQpSYeycfo2Df8MuSTnv9f6mXZH+Q39OIxH3+A8B6t8URePi9wAAAABJRU5ErkJggg==\n",
       "\" style=\"display:inline;vertical-align:middle;\" /></a><br>(see <a class=\"ProveItLink\" href=\"../../../__pv_it/theorems/34d447b38cdc6baa06d74f128c25708526e407200/dependencies.ipynb\">dependencies</a>)<br>"
      ],
      "text/plain": [
       "<IPython.core.display.HTML object>"
      ]
     },
     "metadata": {},
     "output_type": "display_data"
    },
    {
     "name": "stdout",
     "output_type": "stream",
     "text": [
      "difference_is_nat_pos may now be readily provable (assuming required theorems are usable).  Simply execute \"%qed\".\n"
     ]
    }
   ],
   "source": [
    "%proving difference_is_nat_pos"
   ]
  },
  {
   "cell_type": "code",
   "execution_count": null,
   "metadata": {},
   "outputs": [],
   "source": []
  }
 ],
 "metadata": {
  "kernelspec": {
   "display_name": "Python 3",
   "language": "python",
   "name": "python3"
  }
 },
 "nbformat": 4,
 "nbformat_minor": 0
}