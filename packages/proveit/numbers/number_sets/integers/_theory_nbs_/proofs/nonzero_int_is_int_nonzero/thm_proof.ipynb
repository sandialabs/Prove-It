{
 "cells": [
  {
   "cell_type": "markdown",
   "metadata": {},
   "source": [
    "Proof of <a class=\"ProveItLink\" href=\"../../../../../../_theory_nbs_/theory.ipynb\">proveit</a>.<a class=\"ProveItLink\" href=\"../../../../../_theory_nbs_/theory.ipynb\">numbers</a>.<a class=\"ProveItLink\" href=\"../../../../_theory_nbs_/theory.ipynb\">number_sets</a>.<a class=\"ProveItLink\" href=\"../../theory.ipynb\">integers</a>.<a class=\"ProveItLink\" href=\"../../theorems.ipynb#nonzero_int_is_int_nonzero\">nonzero_int_is_int_nonzero</a> theorem\n",
    "========"
   ]
  },
  {
   "cell_type": "code",
   "execution_count": 1,
   "metadata": {},
   "outputs": [],
   "source": [
    "import proveit\n",
    "theory = proveit.Theory() # the theorem's theory"
   ]
  },
  {
   "cell_type": "code",
   "execution_count": 2,
   "metadata": {},
   "outputs": [
    {
     "data": {
      "text/html": [
       "With these <a href=\"allowed_presumptions.txt\">allowed</a>/<a href=\"disallowed_presumptions.txt\">disallowed</a> theorem/theory presumptions (e.g., to avoid circular dependencies), we begin our proof of<br><strong id=\"nonzero_int_is_int_nonzero\">nonzero_int_is_int_nonzero:</strong> <a class=\"ProveItLink\" href=\"../../../__pv_it/theorems/e7203fdc3905f1ad33cc97c0751c28d53811d5ed0/expr.ipynb\"><img src=\"data:image/png;base64,iVBORw0KGgoAAAANSUhEUgAAAL8AAAAbCAMAAAAaua7MAAAAOVBMVEX///8AAAAAAAAAAAAAAAAA\n",
       "AAAAAAAAAAAAAAAAAAAAAAAAAAAAAAAAAAAAAAAAAAAAAAAAAAAAAAACXHtMAAAAEnRSTlMAq1Rm\n",
       "mUTNIjK7EInv3Xbt5cmRiLwgAAAACXBIWXMAAA7EAAAOxAGVKw4bAAAC3UlEQVRYw9VYi5KkIAyU\n",
       "N+F1d/7/x14CKDii6znjXi01a6kVpEk6nbDT9IOGm3708CpfffL/C4FQb0w2LH8iTZMCvJHfD5+/\n",
       "tSYzdA0WLzPeGvh2+up3ZqvMGjNTEgReI/GtA8TlQOkwBw0xQsA5Emj8wj8x2Yw/5i9FumVtkngW\n",
       "vgmXTRMwoonOv/qqoCv4Q3Z9IuxyTSltnsUvr8uGlBWy5wv3KtsLf+b82tG9XQLweD7M6t9SFSEX\n",
       "1MSf338g86flL3mcYqJrVVi3+tAokT/iS8Sht4VK2imzKE9eaZ5IP+uTpO2JSnv9sPtTPFQWnQZb\n",
       "Q8h21VtoBli/ZH1KOaMC7T2Gp4sa02sd8sl02mf0MDAIeUXNx1Kpckilfdnhl9l1q0WBml8qIHmh\n",
       "I9NYN7jvBF4fUdIuddmwQ78F8BJ/HZJbLYouKzhS9El2ZBqD67WTH2S+KZJArvc7E5sYAL6N6B7v\n",
       "eobC1RZlM2LxgJzzQ9ufLfzF0U9JvEI6o4Ur+Ildei/BNffRXZabvrbB1RZl5P8AbeGNsm+RwaLn\n",
       "7KQqmdnWWC1Uc14kb1q5Wwi/oXy34Go/blH2+N1MK4m5D8zIEbYCd/OpJJsq/VUCHJIlv9w4RRhu\n",
       "x/hX+6MWpYcEBQ8vWsRNr+ivwOSkistYPGvpqgqYwFrdtiSqqlvdpWmbjbCp8zactCg9o4sd4Hse\n",
       "NxHVfKCd2aMG+FlXIEILVyGnql2R0NmhQF/2mL64CzfAv9oftSh7ZzmWvDUsdRF1DNQmTVUAHXB1\n",
       "bELhrCxJ9prPJM0Codo2TXFLfvUD/M3+sEXpRlAnvT1s+oeLQ79yNBCdlXB9OfM51CqO+NPsj1qU\n",
       "e/3nxfPQrqNSUvDkRWbeIp+MYcRBsxH+Zn/UovRJGT6MX7CzzXliwzDkw5TiX5/m2Ic73HjzwAIH\n",
       "9f7Z8+/e/XfPvyP8/MrhhH8yA+6ft+6fM9/6/8+rHOQM+wvbqBfril0LlQAAAABJRU5ErkJggg==\n",
       "\" style=\"display:inline;vertical-align:middle;\" /></a><br>(see <a class=\"ProveItLink\" href=\"../../../__pv_it/theorems/73dd78388565d1f4ec670fad59b8bf5a57c1d3ff0/dependencies.ipynb\">dependencies</a>)<br>"
      ],
      "text/plain": [
       "<IPython.core.display.HTML object>"
      ]
     },
     "metadata": {},
     "output_type": "display_data"
    },
    {
     "name": "stdout",
     "output_type": "stream",
     "text": [
      "nonzero_int_is_int_nonzero may now be readily provable (assuming required theorems are usable).  Simply execute \"%qed\".\n"
     ]
    }
   ],
   "source": [
    "%proving nonzero_int_is_int_nonzero"
   ]
  },
  {
   "cell_type": "code",
   "execution_count": null,
   "metadata": {},
   "outputs": [],
   "source": []
  }
 ],
 "metadata": {
  "kernelspec": {
   "display_name": "Python 3",
   "language": "python",
   "name": "python3"
  }
 },
 "nbformat": 4,
 "nbformat_minor": 0
}