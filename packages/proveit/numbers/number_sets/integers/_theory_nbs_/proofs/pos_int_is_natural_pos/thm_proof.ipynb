{
 "cells": [
  {
   "cell_type": "markdown",
   "metadata": {},
   "source": [
    "Proof of <a class=\"ProveItLink\" href=\"../../../../../../_theory_nbs_/theory.ipynb\">proveit</a>.<a class=\"ProveItLink\" href=\"../../../../../_theory_nbs_/theory.ipynb\">numbers</a>.<a class=\"ProveItLink\" href=\"../../../../_theory_nbs_/theory.ipynb\">number_sets</a>.<a class=\"ProveItLink\" href=\"../../theory.ipynb\">integers</a>.<a class=\"ProveItLink\" href=\"../../theorems.ipynb#pos_int_is_natural_pos\">pos_int_is_natural_pos</a> theorem\n",
    "========"
   ]
  },
  {
   "cell_type": "code",
   "execution_count": 1,
   "metadata": {},
   "outputs": [],
   "source": [
    "import proveit\n",
    "theory = proveit.Theory() # the theorem's theory"
   ]
  },
  {
   "cell_type": "code",
   "execution_count": 2,
   "metadata": {},
   "outputs": [
    {
     "data": {
      "text/html": [
       "With these <a href=\"allowed_presumptions.txt\">allowed</a>/<a href=\"disallowed_presumptions.txt\">disallowed</a> theorem/theory presumptions (e.g., to avoid circular dependencies), we begin our proof of<br><strong id=\"pos_int_is_natural_pos\">pos_int_is_natural_pos:</strong> <a class=\"ProveItLink\" href=\"../../../__pv_it/theorems/669644ece014c75803395e733e607c46ec6ad5880/expr.ipynb\"><img src=\"data:image/png;base64,iVBORw0KGgoAAAANSUhEUgAAALcAAAAZBAMAAACBVqIyAAAAMFBMVEX///8AAAAAAAAAAAAAAAAA\n",
       "AAAAAAAAAAAAAAAAAAAAAAAAAAAAAAAAAAAAAAAAAAAv3aB7AAAAD3RSTlMAq1RmmUTNIjK7EInv\n",
       "3XZ/CtNrAAAACXBIWXMAAA7EAAAOxAGVKw4bAAACw0lEQVRIx52WTWgTQRTH/2mySXY3WdaTFUQC\n",
       "ClpEiR56ECkrfiNipDcvFnoQetC1lYJQNPUiRTEBqbh+riCC1rRFBbEFEaFIEDUgWESCEbxIRKQg\n",
       "hR7EN7Pd3UlNk2YHdjPv7cxv3sz7mACBWjjT6KtBTwSB24aGX/P0xPJB2UpPUzi6gsLldJ0Fv1p9\n",
       "UD/MuPCkDeiss75F+FDdFVNHgQnPco3Ie1nnRIvwQ/WUoVk1jQQillW0rtJOFoDhIIf/py68g4xM\n",
       "epajF4jS0aip1tjxBVHSbpc/cfhAZVCEH6SIJd9EWzRcKwmCdNJetNxs1yYF+E963pXLb1uEh1gk\n",
       "nn55jguDtqs1ZYwK8OP04QBwY7k0Wy4Sabb0BnftmmAImXGjUPCn5rJkAWK6aFXx2U3DX15o01W3\n",
       "F6UJj9M4zIUeH47tbbf88eepRMi26haK+DcrkzTVcbsW/sgpJxXJVSVp9SPAFz6HjrX8eREestf6\n",
       "8AnCtlU8f+6hjYRxYQC18LP72TuRxbxgeREKD0glL1iu6AXB8izbF6sCY13PoTlJbRgCnOkxvJqN\n",
       "tfHahyt/Ef7NhZIAxxXZh+dIxpM+Wn82Po+Hzvb7sz6c64Ez7TTWxkcXk4cyRzGzkQm/PDfTPG3E\n",
       "h7NowRBtMmLEX6Gb68ZVobRxPbX7owz+3o1z0t3BFmeLUTcDeWefD9/J7aAVExmqM52WZaUwOeV4\n",
       "kMO5no806Vjm3LyhDL1XvbiOb1FZc8yJhlNFej/w4bs8z5ryDvsSn7gpjSkPzvX021ERHYoZMUSl\n",
       "F076L229bidh5rptmWHUCKSSbznTA53kaq0i6Q2r4tL67hUgaffWp4hdp962VdVrugfnevzgxzr9\n",
       "3U10XF7JNavXymOWlam9q3gb+a9ohlZQRpNms4sw2B2Kpndowwtkc1N24wvIDP6/hWcIOegfNMOu\n",
       "jtbluygAAAAASUVORK5CYII=\n",
       "\" style=\"display:inline;vertical-align:middle;\" /></a><br>(see <a class=\"ProveItLink\" href=\"../../../__pv_it/theorems/67c3c8d38c2813c39f948c91315cd9219a9fb7340/dependencies.ipynb\">dependencies</a>)<br>"
      ],
      "text/plain": [
       "<IPython.core.display.HTML object>"
      ]
     },
     "metadata": {},
     "output_type": "display_data"
    },
    {
     "name": "stdout",
     "output_type": "stream",
     "text": [
      "pos_int_is_natural_pos may now be readily provable (assuming required theorems are usable).  Simply execute \"%qed\".\n"
     ]
    }
   ],
   "source": [
    "%proving pos_int_is_natural_pos"
   ]
  },
  {
   "cell_type": "code",
   "execution_count": null,
   "metadata": {},
   "outputs": [],
   "source": []
  }
 ],
 "metadata": {
  "kernelspec": {
   "display_name": "Python 3",
   "language": "python",
   "name": "python3"
  }
 },
 "nbformat": 4,
 "nbformat_minor": 0
}