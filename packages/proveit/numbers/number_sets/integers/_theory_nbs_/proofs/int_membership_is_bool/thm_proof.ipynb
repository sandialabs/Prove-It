{
 "cells": [
  {
   "cell_type": "markdown",
   "metadata": {},
   "source": [
    "Proof of <a class=\"ProveItLink\" href=\"../../../../../../_theory_nbs_/theory.ipynb\">proveit</a>.<a class=\"ProveItLink\" href=\"../../../../../_theory_nbs_/theory.ipynb\">numbers</a>.<a class=\"ProveItLink\" href=\"../../../../_theory_nbs_/theory.ipynb\">number_sets</a>.<a class=\"ProveItLink\" href=\"../../theory.ipynb\">integers</a>.<a class=\"ProveItLink\" href=\"../../theorems.ipynb#int_membership_is_bool\">int_membership_is_bool</a> theorem\n",
    "========"
   ]
  },
  {
   "cell_type": "code",
   "execution_count": 1,
   "metadata": {},
   "outputs": [],
   "source": [
    "import proveit\n",
    "theory = proveit.Theory() # the theorem's theory"
   ]
  },
  {
   "cell_type": "code",
   "execution_count": 2,
   "metadata": {},
   "outputs": [
    {
     "data": {
      "text/html": [
       "With these <a href=\"allowed_presumptions.txt\">allowed</a>/<a href=\"disallowed_presumptions.txt\">disallowed</a> theorem/theory presumptions (e.g., to avoid circular dependencies), we begin our proof of<br><strong id=\"int_membership_is_bool\">int_membership_is_bool:</strong> <a class=\"ProveItLink\" href=\"../../../__pv_it/theorems/774e1a59d5b5ceea98fb0111d92ceeb92ae23bce0/expr.ipynb\"><img src=\"data:image/png;base64,iVBORw0KGgoAAAANSUhEUgAAAJkAAAAVBAMAAACnAFEqAAAAMFBMVEX///8AAAAAAAAAAAAAAAAA\n",
       "AAAAAAAAAAAAAAAAAAAAAAAAAAAAAAAAAAAAAAAAAAAv3aB7AAAAD3RSTlMAq1RmmUTNIjK7EInv\n",
       "3XZ/CtNrAAAACXBIWXMAAA7EAAAOxAGVKw4bAAACaklEQVQ4y31UTWgTQRh9ye4m2d12CYho9RLQ\n",
       "mz8EqYoXDYhaECUHT1pkwYNYiqwIBaFKBG8eXAUrLSoRRKinGPDgRXKtUpuDFgUX1j+EisGT9eDB\n",
       "b2Y2k53srh+8zOybzJvvbwZIWjFChmUteen05wjDlp/+eyG4XzVClXY+zv1e3gicpXmZEduUTS2B\n",
       "hDm3G3ALwJch3jTCmUd1OFXgCPs+H198EiFheo12tIFCc1itans+MAVcZ5nw44uHIyQs52HRor9q\n",
       "tYSaVqEYx8VBdiW+2IkwiPBBsMpGC5jINWjySuW5mguMNKFRtAUlba6ANOOijKxUvsGGcypParnL\n",
       "lOgCSS0HwWslOy0Bq7flZpsRM4M0mc0FNjyDwpvG2s+tNNoU7QSwEFdjJzDo+BSeGCrRDo13xz4o\n",
       "vGmsrrwlaY0iuoRiOa42WhHYj0PNDYyIRe2KnOyEwlOkzl4qaL7DvLfrcbWRukADR0WuKBXBB5H2\n",
       "ynOAnLil8qQG/wwxv0gxVIog1YA3/NsatM8ia6VNwKTKczWTysI6wT1IP71jXz01UhjreMqIrlTb\n",
       "TB1nkQO7oPBcjVzKM6ZNITveWCFqOjPksO7mOuD3qyf7o3aKWpi2HIDCc7XdVAXm7SwVQcPDUrTG\n",
       "6kzI/3ncMfgB/WMow1Mo3qEtx6HyRsv+URN9Bd7eWJcedDmsk+H2PSJxY6fFyuTc0vzKEm15p/DO\n",
       "9Dx/QzAqq1nqyGfrfYTBZXghbpB84Lrp/NX+ZNZ29f58PEKm6dV0Xj4V+reXazKpnkCmXcl4k/00\n",
       "ljWS5f9H7V46neHBtQgZ5mT4/R34Bw4onG8N1xVLAAAAAElFTkSuQmCC\n",
       "\" style=\"display:inline;vertical-align:middle;\" /></a><br>(see <a class=\"ProveItLink\" href=\"../../../__pv_it/theorems/c10e550443e66a9741454ca097b5fa0eeedc54c70/dependencies.ipynb\">dependencies</a>)<br>"
      ],
      "text/plain": [
       "<IPython.core.display.HTML object>"
      ]
     },
     "metadata": {},
     "output_type": "display_data"
    },
    {
     "name": "stdout",
     "output_type": "stream",
     "text": [
      "int_membership_is_bool may now be readily provable (assuming required theorems are usable).  Simply execute \"%qed\".\n"
     ]
    }
   ],
   "source": [
    "%proving int_membership_is_bool"
   ]
  },
  {
   "cell_type": "code",
   "execution_count": null,
   "metadata": {},
   "outputs": [],
   "source": []
  }
 ],
 "metadata": {
  "kernelspec": {
   "display_name": "Python 3",
   "language": "python",
   "name": "python3"
  }
 },
 "nbformat": 4,
 "nbformat_minor": 0
}