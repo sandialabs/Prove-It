{
 "cells": [
  {
   "cell_type": "markdown",
   "metadata": {},
   "source": [
    "Proof of <a class=\"ProveItLink\" href=\"../../../../../../_theory_nbs_/theory.ipynb\">proveit</a>.<a class=\"ProveItLink\" href=\"../../../../../_theory_nbs_/theory.ipynb\">numbers</a>.<a class=\"ProveItLink\" href=\"../../../../_theory_nbs_/theory.ipynb\">number_sets</a>.<a class=\"ProveItLink\" href=\"../../theory.ipynb\">integers</a>.<a class=\"ProveItLink\" href=\"../../theorems.ipynb#interval_upper_bound\">interval_upper_bound</a> theorem\n",
    "========"
   ]
  },
  {
   "cell_type": "code",
   "execution_count": 1,
   "metadata": {},
   "outputs": [],
   "source": [
    "import proveit\n",
    "theory = proveit.Theory() # the theorem's theory"
   ]
  },
  {
   "cell_type": "code",
   "execution_count": 2,
   "metadata": {},
   "outputs": [
    {
     "data": {
      "text/html": [
       "With these <a href=\"allowed_presumptions.txt\">allowed</a>/<a href=\"disallowed_presumptions.txt\">disallowed</a> theorem/theory presumptions (e.g., to avoid circular dependencies), we begin our proof of<br><strong id=\"interval_upper_bound\">interval_upper_bound:</strong> <a class=\"ProveItLink\" href=\"../../../__pv_it/theorems/f4b311062af2673f942dc0003ba6eefe60d319580/expr.ipynb\"><img src=\"data:image/png;base64,iVBORw0KGgoAAAANSUhEUgAAAPYAAAAZBAMAAADwLs6sAAAAMFBMVEX///8AAAAAAAAAAAAAAAAA\n",
       "AAAAAAAAAAAAAAAAAAAAAAAAAAAAAAAAAAAAAAAAAAAv3aB7AAAAD3RSTlMAq1RmmUTNIjK7EInv\n",
       "3XZ/CtNrAAAACXBIWXMAAA7EAAAOxAGVKw4bAAADWklEQVRIx7WWTWjUQBTH3yab3Ww2+6EHwRZk\n",
       "QSg9adRSULAstEIpqAu99mP1ovUgUS9+VE17balVUIx6iAiCFtpoBbFQKPRgRYTipVVY2KpUtCi9\n",
       "+IEHcd5kk83XdlqwDzbZmfm//JI3b94MANMipQX4/5YuvV2HKgabY/s2kR2vPaRuNvtD7aEei53F\n",
       "204Gmy0KGmeGdkv35slkK5R9CDtOMNhsUdAeBnoaaKhjeXI5RdkDODOjDDZbFLRWf8fBDnrL5Mil\n",
       "ibJjBkAyx2CzRUGb8bW/TVn3XvIskA1k8worm8goWxSc7qJ3mqfLlX/T9JkKzfM3pdJrZp4zRQGL\n",
       "klTrqbv0xUJKhxV74Nj3rSSIWcpuB7jDZAdE/GSodqjD8SIw83pZ+kXR25wJk34aEyrwRco+A/Gs\n",
       "PSD22XX01bO7eRfbLaI2HORS5yd2K5UDofAO4r9pq8rm/oBcBm6GshNGsuD41+MzlvRCSk2OGy62\n",
       "WzSy/SZZLyEfjc5Ov1wASfqBKFrjnJhHi5AxQVylbK7syqI58mvTSEhh8Jw75i5RtB0gnD3nYwO3\n",
       "CpGiL9dSJvSSkFjfDcUWchlreY6f/HfJSFtvmM97aiqK+NaRTwAfwWZbPtWYE+cqm8QcwRnF8K4x\n",
       "sryPGsDNW+ynpMhICyImRfp9Ov/IyqWzmoeNogddiqxKVolpdnyquyJxhm67lSDfKZuw2zC9tSWj\n",
       "SbPk8aMWu59kUTQvYi1IKHyxkwrHk969BEUXlyFjCDQs4knHxzF0htjXSgtX0VUNlnmtWlPxb0RJ\n",
       "5K0ViOyIhrOTxjyWtWi2Wdf1HJhT8NjNRhHsgC7g+3T9BgzUOT6OoTNwp+0ZIFElQbi/17+X1GOx\n",
       "TRWqe+iEmjhAJiYDcm4I20KjAlOBPXQO2kTRiuGS4+MYOkO/01xcq2Zcdu3fsnqt0xiDlLGfLCeM\n",
       "WBSEeT87vgqLjZUa01DxwZQDib4POrvyv4m10dhsoXXXJAznxCNliN8m7T1bVm5l/WwhCysKXNAq\n",
       "bOqDZUYVX9IoE2cXO6G6Al2i5kw93RO95xar+IzpemGNc4v0Qq9RW7zrXlpjz6Xv5WELxvrPTN1M\n",
       "Nlypzf4cOK/xGzivxcqhWvH4fz6nhp7PB0O15zdwPp/9B+4jzUx00qikAAAAAElFTkSuQmCC\n",
       "\" style=\"display:inline;vertical-align:middle;\" /></a><br>(see <a class=\"ProveItLink\" href=\"../../../__pv_it/theorems/e101a7115ea38518fe6e1a6ed0f0480f0e331a5f0/dependencies.ipynb\">dependencies</a>)<br>"
      ],
      "text/plain": [
       "<IPython.core.display.HTML object>"
      ]
     },
     "metadata": {},
     "output_type": "display_data"
    }
   ],
   "source": [
    "%proving interval_upper_bound"
   ]
  },
  {
   "cell_type": "code",
   "execution_count": null,
   "metadata": {},
   "outputs": [],
   "source": []
  }
 ],
 "metadata": {
  "kernelspec": {
   "display_name": "Python 3",
   "language": "python",
   "name": "python3"
  }
 },
 "nbformat": 4,
 "nbformat_minor": 0
}