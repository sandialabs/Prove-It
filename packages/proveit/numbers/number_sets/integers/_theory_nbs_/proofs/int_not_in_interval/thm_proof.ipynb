{
 "cells": [
  {
   "cell_type": "markdown",
   "metadata": {},
   "source": [
    "Proof of <a class=\"ProveItLink\" href=\"../../../../../../_theory_nbs_/theory.ipynb\">proveit</a>.<a class=\"ProveItLink\" href=\"../../../../../_theory_nbs_/theory.ipynb\">numbers</a>.<a class=\"ProveItLink\" href=\"../../../../_theory_nbs_/theory.ipynb\">number_sets</a>.<a class=\"ProveItLink\" href=\"../../theory.ipynb\">integers</a>.<a class=\"ProveItLink\" href=\"../../theorems.ipynb#int_not_in_interval\">int_not_in_interval</a> theorem\n",
    "========"
   ]
  },
  {
   "cell_type": "code",
   "execution_count": 1,
   "metadata": {},
   "outputs": [],
   "source": [
    "import proveit\n",
    "theory = proveit.Theory() # the theorem's theory"
   ]
  },
  {
   "cell_type": "code",
   "execution_count": 2,
   "metadata": {},
   "outputs": [
    {
     "data": {
      "text/html": [
       "With these <a href=\"allowed_presumptions.txt\">allowed</a>/<a href=\"disallowed_presumptions.txt\">disallowed</a> theorem/theory presumptions (e.g., to avoid circular dependencies), we begin our proof of<br><strong id=\"int_not_in_interval\">int_not_in_interval:</strong> <a class=\"ProveItLink\" href=\"../../../__pv_it/theorems/871ffd1339b2ee98bef64c94b4168cfc1b5ee9c60/expr.ipynb\"><img src=\"data:image/png;base64,iVBORw0KGgoAAAANSUhEUgAAAUEAAAAXCAMAAACicA1dAAAARVBMVEX///8AAAAAAAAAAAAAAAAA\n",
       "AAAAAAAAAAAAAAAAAAAAAAAAAAAAAAAAAAAAAAAAAAAAAAAAAAAAAAAAAAAAAAAAAAAAAAAeYafp\n",
       "AAAAFnRSTlMAq1RmmUTNIjK7EInv3Xbp8+P355HBoPSVsQAAAAlwSFlzAAAOxAAADsQBlSsOGwAA\n",
       "BD1JREFUWMPdWNd24yAQFb2zXf//qTt0kECW7TysVycnIYI7w1ymoW37fx7xzKxm7FU1WNxS+HmP\n",
       "x5fTXA+LOdOvKpJIJSzz4TeqE5h8NIHYPDB7WLw/zZ9W1pWxysJ8oIxWZ+Yf7ZSaX8/TIWiNe0EF\n",
       "pyd4cOx6NkJ9tAvSBxE0UvYSgzs+wQnt8oPBH82gvUiQyrlv3/m7DLIW+Q1u4R3Jh8c/Owsut8+4\n",
       "ByuRfNsHO0wb8sCedeGx5rODOG9fe4+0NC2gRIyxY5asFAhkvPD30iAC2fjAoAlJkMbjUfor7Bj9\n",
       "4nFpmu39IWwG4qTuwCO/UTfWR3LA0MwoszCtbhVmvcNZ6D2K8zVnEB6Pofw6NgD8urggqwyFn/Zm\n",
       "WE/Y05xX2LVqOikUyTkIGEiAEFTrCp80g5uwaV7Hv/RWSKcGyMajELWoYFvcz8zMRfPIlh4pBesd\n",
       "bNdor+cMarQ4yzFLmY4R1GAH1RPQoZCk/cvOv9KLmKN+/HSu7U0gnq2le2T/VgJLYneTjeOJQxkl\n",
       "YL+oI1ZORdH8Gs5PYtF3EWrZgNXdU6RPV4Xcyyc22Vn1FDRlcKtuUvvgSZ8hac5ZVsXwvHW/izyz\n",
       "7HymnAGz2dNLntCGeFPykNxDWi7Jx1MBP7kPb/E0RJQ6N2AVly4GSBz0ROMSLprlTqorqIk6d14O\n",
       "t6YDVmg9bOMUpulSofdgNtnvd4M0pcx2pcEut4L5UDUEptwLg97pzWeGvNiQ2sB1dc8SEVguGBR8\n",
       "xAXbVGGy04NpuVBGFyywqrqBOlH4lAmVTx7HIDsHi1rZgQlG552JjqwgfqfmbbsseRPgrZKonFhR\n",
       "CdCQOequSK41KWJhkyCEdS6o/TamkI5BpkYcvDC6JYKqJ61TxQUzrKjuQU1UWdVTgpJvSE1BLut8\n",
       "FChHctHbBd6x6wMJKu5plJN00E+P/WDpooqKkE086tMgbfUg+QzhKj44nnSwr0VMzyBGI05aPGat\n",
       "rEdGDLT1qTxkWFY9gKqoAhpSW3IqCi6HKcFDRVO/9IJBjbyRAvmOYUfPo7zW1JtjY9CxQ8sTuiNS\n",
       "KAn5oZkQfAamZfM6hmUQaaYMViMzDlKfwhM9OSB5bkgzrKjuQJ2oSRRvTi7j7/cfuNa5t29104b8\n",
       "KMeG9MQIdI6BJ8hFIczDWFgoP6ntaK23if8zd1FJOly8oJKDnpSnghOW9iVJy6p7UC/Kn5tqQm9+\n",
       "GfxSBk/fMxgEgDckx5ykcadxTD0zPrZ+QpVmBiEIAsXRnEEVvaXhcuIlg56yrJmZ/s+qB1AnSk0y\n",
       "v1pVg9lHJ2/fu3vxG9+z8GIcI0vFjnpixXXbG2WNlurjHqawR6Dly9VHp3apeOlbZC7J61MLhuj5\n",
       "+PoZjKB3vtieF92AzZesPhCgRWf/KofCFKi/2ipZjJ9gsC8xSzUTV34II2z7bx9xdQV+fEm+CdP/\n",
       "lM1/ASUFIxHNkkjoAAAAAElFTkSuQmCC\n",
       "\" style=\"display:inline;vertical-align:middle;\" /></a><br>(see <a class=\"ProveItLink\" href=\"../../../__pv_it/theorems/073eea01220414f65790b66d172cf598f7d492710/dependencies.ipynb\">dependencies</a>)<br>"
      ],
      "text/plain": [
       "<IPython.core.display.HTML object>"
      ]
     },
     "metadata": {},
     "output_type": "display_data"
    }
   ],
   "source": [
    "%proving int_not_in_interval"
   ]
  },
  {
   "cell_type": "code",
   "execution_count": null,
   "metadata": {},
   "outputs": [],
   "source": []
  }
 ],
 "metadata": {
  "kernelspec": {
   "display_name": "Python 3",
   "language": "python",
   "name": "python3"
  }
 },
 "nbformat": 4,
 "nbformat_minor": 0
}