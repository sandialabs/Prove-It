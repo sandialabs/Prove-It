{
 "cells": [
  {
   "cell_type": "markdown",
   "metadata": {},
   "source": [
    "Proof of <a class=\"ProveItLink\" href=\"../../../../../../_theory_nbs_/theory.ipynb\">proveit</a>.<a class=\"ProveItLink\" href=\"../../../../../_theory_nbs_/theory.ipynb\">numbers</a>.<a class=\"ProveItLink\" href=\"../../../../_theory_nbs_/theory.ipynb\">number_sets</a>.<a class=\"ProveItLink\" href=\"../../theory.ipynb\">integers</a>.<a class=\"ProveItLink\" href=\"../../theorems.ipynb#zero_set_within_int\">zero_set_within_int</a> theorem\n",
    "========"
   ]
  },
  {
   "cell_type": "code",
   "execution_count": 1,
   "metadata": {},
   "outputs": [],
   "source": [
    "import proveit\n",
    "theory = proveit.Theory() # the theorem's theory"
   ]
  },
  {
   "cell_type": "code",
   "execution_count": 2,
   "metadata": {},
   "outputs": [
    {
     "data": {
      "text/html": [
       "With these <a href=\"allowed_presumptions.txt\">allowed</a>/<a href=\"disallowed_presumptions.txt\">disallowed</a> theorem/theory presumptions (e.g., to avoid circular dependencies), we begin our proof of<br><strong id=\"zero_set_within_int\">zero_set_within_int:</strong> <a class=\"ProveItLink\" href=\"../../../__pv_it/theorems/4e4509de4a1dc6a8621376d2f9f81639c1a3dcf10/expr.ipynb\"><img src=\"data:image/png;base64,iVBORw0KGgoAAAANSUhEUgAAAEgAAAAVBAMAAAAX07VdAAAAMFBMVEX///8AAAAAAAAAAAAAAAAA\n",
       "AAAAAAAAAAAAAAAAAAAAAAAAAAAAAAAAAAAAAAAAAAAv3aB7AAAAD3RSTlMAEER2zVSJ3Zki72ar\n",
       "MruaaVGaAAAACXBIWXMAAA7EAAAOxAGVKw4bAAABXElEQVQoz2NgYGBUYgADzkgG3MBEEcq48xBd\n",
       "itXrl1/5qw1Axkcgjy25E0i+QVfE/OYCgwMLSL4ASLgyiE9gYEhHV8TRwMC8IRWqiLuAge0BFkU8\n",
       "ExjkGB9AFfEdANsKU8T8vLy8/AKQwcjA0MtzAaqIv4GB9ytcEa/bBLhZvAduMEAVyQMV/YYrEkeo\n",
       "YeATAHuZw4GBYX4CA+9nBgYriMQhJFeFcRuAqFkbIIq+AakAsIQDkiJwADDMcQIS8gkMTECTGI8E\n",
       "gJ2BFFABSQwMAgy8fQJgh7MCHc7mBI4eJEVynMAAOAn2PgPfAwZuYBDEC4BlChCKzgJDivEDNDAX\n",
       "gN2fBZHpRgRAgwYwRAug0VLKIHUBHgQsCogAcGTgfPoAqkgi+SwDXBHjG1i60Hqy7t36dQlQRRAA\n",
       "ixamPGi0wAEWRZiAeQGc2YJTEedXGItxNe7kO+MoVHVOAA4VAJ4iVD0ZjCpZAAAAAElFTkSuQmCC\n",
       "\" style=\"display:inline;vertical-align:middle;\" /></a><br>(see <a class=\"ProveItLink\" href=\"../../../__pv_it/theorems/afde620501923e288801c13e1b89032807ce80fa0/dependencies.ipynb\">dependencies</a>)<br>"
      ],
      "text/plain": [
       "<IPython.core.display.HTML object>"
      ]
     },
     "metadata": {},
     "output_type": "display_data"
    },
    {
     "name": "stdout",
     "output_type": "stream",
     "text": [
      "zero_set_within_int may now be readily provable (assuming required theorems are usable).  Simply execute \"%qed\".\n"
     ]
    }
   ],
   "source": [
    "%proving zero_set_within_int"
   ]
  },
  {
   "cell_type": "code",
   "execution_count": null,
   "metadata": {},
   "outputs": [],
   "source": []
  }
 ],
 "metadata": {
  "kernelspec": {
   "display_name": "Python 3",
   "language": "python",
   "name": "python3"
  }
 },
 "nbformat": 4,
 "nbformat_minor": 0
}