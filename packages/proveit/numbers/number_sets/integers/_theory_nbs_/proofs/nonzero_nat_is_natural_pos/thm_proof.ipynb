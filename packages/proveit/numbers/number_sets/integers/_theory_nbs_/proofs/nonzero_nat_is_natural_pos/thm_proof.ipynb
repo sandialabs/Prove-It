{
 "cells": [
  {
   "cell_type": "markdown",
   "metadata": {},
   "source": [
    "Proof of <a class=\"ProveItLink\" href=\"../../../../../../_theory_nbs_/theory.ipynb\">proveit</a>.<a class=\"ProveItLink\" href=\"../../../../../_theory_nbs_/theory.ipynb\">numbers</a>.<a class=\"ProveItLink\" href=\"../../../../_theory_nbs_/theory.ipynb\">number_sets</a>.<a class=\"ProveItLink\" href=\"../../theory.ipynb\">integers</a>.<a class=\"ProveItLink\" href=\"../../theorems.ipynb#nonzero_nat_is_natural_pos\">nonzero_nat_is_natural_pos</a> theorem\n",
    "========"
   ]
  },
  {
   "cell_type": "code",
   "execution_count": 1,
   "metadata": {},
   "outputs": [],
   "source": [
    "import proveit\n",
    "theory = proveit.Theory() # the theorem's theory"
   ]
  },
  {
   "cell_type": "code",
   "execution_count": 2,
   "metadata": {},
   "outputs": [
    {
     "data": {
      "text/html": [
       "With these <a href=\"allowed_presumptions.txt\">allowed</a>/<a href=\"disallowed_presumptions.txt\">disallowed</a> theorem/theory presumptions (e.g., to avoid circular dependencies), we begin our proof of<br><strong id=\"nonzero_nat_is_natural_pos\">nonzero_nat_is_natural_pos:</strong> <a class=\"ProveItLink\" href=\"../../../__pv_it/theorems/f449ffd0b9a8a39a642d67474f9160b8577306360/expr.ipynb\"><img src=\"data:image/png;base64,iVBORw0KGgoAAAANSUhEUgAAALgAAAAZCAMAAAC1rRS+AAAAOVBMVEX///8AAAAAAAAAAAAAAAAA\n",
       "AAAAAAAAAAAAAAAAAAAAAAAAAAAAAAAAAAAAAAAAAAAAAAAAAAAAAAACXHtMAAAAEnRSTlMAq1Rm\n",
       "mUTNIjK7EInv3Xbt5cmRiLwgAAAACXBIWXMAAA7EAAAOxAGVKw4bAAACzElEQVRYw71Y6bqjMAiF\n",
       "7Pud8f0fdkLiEhU73m750fZTMQc4B0gBvrqkft5WHb6/ucQrm/r52/qv4w4G3gAcZPk2cC/vepgn\n",
       "702ov2Kakj4Ah0x3cMuj/DBum37howDdoIXpFHEodEetcjH2w8BVvP8sZguxRZK8Vb6uRB+yO1ND\n",
       "7vBrnJ9+UVJQ+DmU+RxxMIS/UYnYJD6M203h8l7xua5Bu2irBK25AK7ot5ypbT4d8JKv7mhTjj6h\n",
       "BXRQIg+8NLUkcjan+GnguITGYix2KGnWnFNRgRNSr1nguiVPuXY5/L6HsZXsulDMO+tEoAbecFWB\n",
       "gDtV62LIzK5uci0Aywdbw7KKVVQyIdMKzis2AcZYzgk0/Q0hETfVwBuOpAQcpADhuRpqu84p2PGk\n",
       "eFfQ10yBQIj1ARXuAO/+U2vTp4dyD5lqhTlvjrnO1br8AThgAOSAhw5cFMZr1RlEfalQliLcAd73\n",
       "S2Q6WT7iyW87dxT+8kUBIWQ24m7O1dL+Q5Qlkk1Z26hwQlcpXQBfDTp9Y38tZScJFniYaCs5jam4\n",
       "BF7TzkbJzVGJYtZ1qP2qXRyiIFylitA88NWg9Tb/03pbL9j5OEGg78BFrzBidbcwQ5Of810cB1zP\n",
       "0raL8pQiytEdOQKvVCmeBb4a9F3k0GnSEU4vvuDrdVH5PhQJc+596yXFSVcuW+LsHw1ibYKRpkWw\n",
       "jjoNeIg7EWzAV4ORrJ0qk+DDFLBEZ7G4gW/o9a6MOjMl/2AUVngUK1VYGQK4uIs4aFE44JsBUeXP\n",
       "33kM4sUJ6XpW0dHvW/7jZY40TMRYLcPYj/ppqyAf8dVgGNcaaTW+NB0+HtdPU49WUpQ2TdpFHS73\n",
       "xsYD3wx2vbc2IHVuoS69CbjER15Fyrt+fIjanSf/f6DCNw2g+dmTAwv8BkHDeybQ58+cHHBx55Qg\n",
       "3sHyF048z5/xXvlfZdV4U88/r4gVhpG4xxgAAAAASUVORK5CYII=\n",
       "\" style=\"display:inline;vertical-align:middle;\" /></a><br>(see <a class=\"ProveItLink\" href=\"../../../__pv_it/theorems/57676d170f101577f5f6591f18bc8fd3df9d1a550/dependencies.ipynb\">dependencies</a>)<br>"
      ],
      "text/plain": [
       "<IPython.core.display.HTML object>"
      ]
     },
     "metadata": {},
     "output_type": "display_data"
    },
    {
     "name": "stdout",
     "output_type": "stream",
     "text": [
      "nonzero_nat_is_natural_pos may now be readily provable (assuming required theorems are usable).  Simply execute \"%qed\".\n"
     ]
    }
   ],
   "source": [
    "%proving nonzero_nat_is_natural_pos"
   ]
  },
  {
   "cell_type": "code",
   "execution_count": null,
   "metadata": {},
   "outputs": [],
   "source": []
  }
 ],
 "metadata": {
  "kernelspec": {
   "display_name": "Python 3",
   "language": "python",
   "name": "python3"
  }
 },
 "nbformat": 4,
 "nbformat_minor": 0
}