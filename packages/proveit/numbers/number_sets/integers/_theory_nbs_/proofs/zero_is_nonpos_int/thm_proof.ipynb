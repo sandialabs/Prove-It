{
 "cells": [
  {
   "cell_type": "markdown",
   "metadata": {},
   "source": [
    "Proof of <a class=\"ProveItLink\" href=\"../../../../../../_theory_nbs_/theory.ipynb\">proveit</a>.<a class=\"ProveItLink\" href=\"../../../../../_theory_nbs_/theory.ipynb\">numbers</a>.<a class=\"ProveItLink\" href=\"../../../../_theory_nbs_/theory.ipynb\">number_sets</a>.<a class=\"ProveItLink\" href=\"../../theory.ipynb\">integers</a>.<a class=\"ProveItLink\" href=\"../../theorems.ipynb#zero_is_nonpos_int\">zero_is_nonpos_int</a> theorem\n",
    "========"
   ]
  },
  {
   "cell_type": "code",
   "execution_count": 1,
   "metadata": {},
   "outputs": [],
   "source": [
    "import proveit\n",
    "theory = proveit.Theory() # the theorem's theory"
   ]
  },
  {
   "cell_type": "code",
   "execution_count": 2,
   "metadata": {},
   "outputs": [
    {
     "data": {
      "text/html": [
       "With these <a href=\"allowed_presumptions.txt\">allowed</a>/<a href=\"disallowed_presumptions.txt\">disallowed</a> theorem/theory presumptions (e.g., to avoid circular dependencies), we begin our proof of<br><strong id=\"zero_is_nonpos_int\">zero_is_nonpos_int:</strong> <a class=\"ProveItLink\" href=\"../../../__pv_it/theorems/51c42030a2e9dd6fa47090a92c0b8f3cb81771130/expr.ipynb\"><img src=\"data:image/png;base64,iVBORw0KGgoAAAANSUhEUgAAAEcAAAAUBAMAAAAthD11AAAAMFBMVEX///8AAAAAAAAAAAAAAAAA\n",
       "AAAAAAAAAAAAAAAAAAAAAAAAAAAAAAAAAAAAAAAAAAAv3aB7AAAAD3RSTlMAiXaZIs1UEN1mu6sy\n",
       "RO+L2jdBAAAACXBIWXMAAA7EAAAOxAGVKw4bAAABUklEQVQoz2NgwAfYljAwCgkw4FeziIFhEsMt\n",
       "vGo4VwKJNwz8DnjUMC0DEizfGfgSsFkS9y+qY90EnmcgDs93Bo4JDECXmaCZsPoAQwArA0OWOEQR\n",
       "nwIDQxhDBaqlzAYMTBPEgIxb4mDr+BMYOBsYGBegKOJ2YKhiBwudNoE6nGsDA9t3iDUrOlpBNDsD\n",
       "gw33AbCQ93YGJYbbDAz8Bgw830ACvEEFMLN4NhyGshyATjZnYKgHKvoJ4rvC1TBwFSxH9Yu/AAPP\n",
       "JxAjBCGWyKmAqegjiBGAEAMFAAPPKiBYAhGoF2DgBZnE86Kjo6ML4oMEWQaGAmSTgA5nAzmcHREO\n",
       "VSxA9hZkRVwLGDjBQdAAF9oDDCn2DyhR/YCBGewcJXgAGFwGhmgDisvbGOrAIceaAA+AcAaWZaix\n",
       "UCy0B0yz77oOEbi39NWq969wpEdeKUi0YAIAEQZNKAuhQEsAAAAASUVORK5CYII=\n",
       "\" style=\"display:inline;vertical-align:middle;\" /></a><br>(see <a class=\"ProveItLink\" href=\"../../../__pv_it/theorems/3c97d38be0f40f0a3380f6c0d1b818cd67b4160e0/dependencies.ipynb\">dependencies</a>)<br>"
      ],
      "text/plain": [
       "<IPython.core.display.HTML object>"
      ]
     },
     "metadata": {},
     "output_type": "display_data"
    },
    {
     "name": "stdout",
     "output_type": "stream",
     "text": [
      "zero_is_nonpos_int may now be readily provable (assuming required theorems are usable).  Simply execute \"%qed\".\n"
     ]
    }
   ],
   "source": [
    "%proving zero_is_nonpos_int"
   ]
  },
  {
   "cell_type": "code",
   "execution_count": null,
   "metadata": {},
   "outputs": [],
   "source": []
  }
 ],
 "metadata": {
  "kernelspec": {
   "display_name": "Python 3",
   "language": "python",
   "name": "python3"
  }
 },
 "nbformat": 4,
 "nbformat_minor": 0
}