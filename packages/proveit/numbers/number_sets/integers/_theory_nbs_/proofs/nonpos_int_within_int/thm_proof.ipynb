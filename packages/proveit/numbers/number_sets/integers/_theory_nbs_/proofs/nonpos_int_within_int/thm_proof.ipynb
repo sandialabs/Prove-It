{
 "cells": [
  {
   "cell_type": "markdown",
   "metadata": {},
   "source": [
    "Proof of <a class=\"ProveItLink\" href=\"../../../../../../_theory_nbs_/theory.ipynb\">proveit</a>.<a class=\"ProveItLink\" href=\"../../../../../_theory_nbs_/theory.ipynb\">numbers</a>.<a class=\"ProveItLink\" href=\"../../../../_theory_nbs_/theory.ipynb\">number_sets</a>.<a class=\"ProveItLink\" href=\"../../theory.ipynb\">integers</a>.<a class=\"ProveItLink\" href=\"../../theorems.ipynb#nonpos_int_within_int\">nonpos_int_within_int</a> theorem\n",
    "========"
   ]
  },
  {
   "cell_type": "code",
   "execution_count": 1,
   "metadata": {},
   "outputs": [],
   "source": [
    "import proveit\n",
    "theory = proveit.Theory() # the theorem's theory"
   ]
  },
  {
   "cell_type": "code",
   "execution_count": 2,
   "metadata": {},
   "outputs": [
    {
     "data": {
      "text/html": [
       "With these <a href=\"allowed_presumptions.txt\">allowed</a>/<a href=\"disallowed_presumptions.txt\">disallowed</a> theorem/theory presumptions (e.g., to avoid circular dependencies), we begin our proof of<br><strong id=\"nonpos_int_within_int\">nonpos_int_within_int:</strong> <a class=\"ProveItLink\" href=\"../../../__pv_it/theorems/46da1b8621e23d48ba9f99c070fc80bdef6c26a40/expr.ipynb\"><img src=\"data:image/png;base64,iVBORw0KGgoAAAANSUhEUgAAAE4AAAAUBAMAAADRkRa/AAAAMFBMVEX///8AAAAAAAAAAAAAAAAA\n",
       "AAAAAAAAAAAAAAAAAAAAAAAAAAAAAAAAAAAAAAAAAAAv3aB7AAAAD3RSTlMAVM3vu91mdqsymYki\n",
       "EESqKsraAAAACXBIWXMAAA7EAAAOxAGVKw4bAAABI0lEQVQoz2NgQABGHwbu7RsYCAFGdwaGdIYn\n",
       "hJSxuQEJSwb+A/iVsTsCCZ6/DMwCOGxT/qwS6pzAaQjicP5lYE3AKs/A7jGBQYGJgUFkL0QdcwGa\n",
       "PVB5rgUM7AkbgQJP9oLt5UezFybPcYDhCq8DSGTGGmz+gMnzMjCs5JgAFjrRy1DO8AJqnWtoaChI\n",
       "GCHP2TALqvcAMJzXglmc2ghjYfIsF3wxQuEqku0weWm2Agx1fUhsmDzI1wycLkDgA5dTQFIHlge6\n",
       "WGAfA8MFVOM4G5ACECp/hQfo6x5UdTxI6mDyncAQ4v2A5r4ABBMqz7ngFTAwA9DULUM4ASrPckGX\n",
       "gcfRAU0d0wNEqEDkHzuZuNiboKdiXo+3UBZ2eTjg2wKNNygAADo+TuGga1GGAAAAAElFTkSuQmCC\n",
       "\" style=\"display:inline;vertical-align:middle;\" /></a><br>(see <a class=\"ProveItLink\" href=\"../../../__pv_it/theorems/d0b8d558cb9d2d225dd7a9e8b19d164ee607dc3f0/dependencies.ipynb\">dependencies</a>)<br>"
      ],
      "text/plain": [
       "<IPython.core.display.HTML object>"
      ]
     },
     "metadata": {},
     "output_type": "display_data"
    }
   ],
   "source": [
    "%proving nonpos_int_within_int"
   ]
  },
  {
   "cell_type": "code",
   "execution_count": null,
   "metadata": {},
   "outputs": [],
   "source": []
  }
 ],
 "metadata": {
  "kernelspec": {
   "display_name": "Python 3",
   "language": "python",
   "name": "python3"
  }
 },
 "nbformat": 4,
 "nbformat_minor": 0
}