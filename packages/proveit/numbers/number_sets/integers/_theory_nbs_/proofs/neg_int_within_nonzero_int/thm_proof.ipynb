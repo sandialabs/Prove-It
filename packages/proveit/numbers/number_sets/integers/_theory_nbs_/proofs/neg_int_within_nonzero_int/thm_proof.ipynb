{
 "cells": [
  {
   "cell_type": "markdown",
   "metadata": {},
   "source": [
    "Proof of <a class=\"ProveItLink\" href=\"../../../../../../_theory_nbs_/theory.ipynb\">proveit</a>.<a class=\"ProveItLink\" href=\"../../../../../_theory_nbs_/theory.ipynb\">numbers</a>.<a class=\"ProveItLink\" href=\"../../../../_theory_nbs_/theory.ipynb\">number_sets</a>.<a class=\"ProveItLink\" href=\"../../theory.ipynb\">integers</a>.<a class=\"ProveItLink\" href=\"../../theorems.ipynb#neg_int_within_nonzero_int\">neg_int_within_nonzero_int</a> theorem\n",
    "========"
   ]
  },
  {
   "cell_type": "code",
   "execution_count": 1,
   "metadata": {},
   "outputs": [],
   "source": [
    "import proveit\n",
    "theory = proveit.Theory() # the theorem's theory"
   ]
  },
  {
   "cell_type": "code",
   "execution_count": 2,
   "metadata": {},
   "outputs": [
    {
     "data": {
      "text/html": [
       "With these <a href=\"allowed_presumptions.txt\">allowed</a>/<a href=\"disallowed_presumptions.txt\">disallowed</a> theorem/theory presumptions (e.g., to avoid circular dependencies), we begin our proof of<br><strong id=\"neg_int_within_nonzero_int\">neg_int_within_nonzero_int:</strong> <a class=\"ProveItLink\" href=\"../../../__pv_it/theorems/36827368ee3875c7e3cd97bb011f7960dd845f990/expr.ipynb\"><img src=\"data:image/png;base64,iVBORw0KGgoAAAANSUhEUgAAAFsAAAAVCAMAAAAeumK3AAAAOVBMVEX///8AAAAAAAAAAAAAAAAA\n",
       "AAAAAAAAAAAAAAAAAAAAAAAAAAAAAAAAAAAAAAAAAAAAAAAAAAAAAAACXHtMAAAAEnRSTlMAVM3v\n",
       "u91mdqsymYkiEETt5cn1eqECAAAACXBIWXMAAA7EAAAOxAGVKw4bAAABIUlEQVQ4y7VU7XKEIAwM\n",
       "EOSbtrz/wx4BemhHpDJeRvkR2Cib3QA8HAE+Fi6W1Sn3eGmvad0UQMSna2tPqzB5Sf7Z0rEw4ROR\n",
       "LhgA4yIJjlKi2O7UOeIsUnzldwNTasucVajpCrw8N+IEp+rP1doik25tSztGefyNGV1HXJFfa1/l\n",
       "JLFGf04HXGjbG0ecfP9g4aT3sojdGig3vGBA1jAHk+xxRr8PkwZ1Txt7Udlwd0rRAYfdktk7NvQ0\n",
       "Xpg1yAH5exxT53JyxUpjaiPMcQOVzfTHYY5j599XrI2YAS29SfdwVUced9NgMIDu42jHtM2QBifk\n",
       "Io5EFKuOtBxZcFvDkYg4EeaRDZ3J4xIuCuQiWzUPNXTjlugYFnD/ncz4x/PzeAEqygn8UkMz8wAA\n",
       "AABJRU5ErkJggg==\n",
       "\" style=\"display:inline;vertical-align:middle;\" /></a><br>(see <a class=\"ProveItLink\" href=\"../../../__pv_it/theorems/0085258884711de3f9dc474391146a1c68cd09ec0/dependencies.ipynb\">dependencies</a>)<br>"
      ],
      "text/plain": [
       "<IPython.core.display.HTML object>"
      ]
     },
     "metadata": {},
     "output_type": "display_data"
    }
   ],
   "source": [
    "%proving neg_int_within_nonzero_int"
   ]
  },
  {
   "cell_type": "code",
   "execution_count": null,
   "metadata": {},
   "outputs": [],
   "source": []
  }
 ],
 "metadata": {
  "kernelspec": {
   "display_name": "Python 3",
   "language": "python",
   "name": "python3"
  }
 },
 "nbformat": 4,
 "nbformat_minor": 0
}