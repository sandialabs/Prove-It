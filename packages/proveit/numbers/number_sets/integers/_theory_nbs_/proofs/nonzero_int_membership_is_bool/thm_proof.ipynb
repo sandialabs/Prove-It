{
 "cells": [
  {
   "cell_type": "markdown",
   "metadata": {},
   "source": [
    "Proof of <a class=\"ProveItLink\" href=\"../../../../../../_theory_nbs_/theory.ipynb\">proveit</a>.<a class=\"ProveItLink\" href=\"../../../../../_theory_nbs_/theory.ipynb\">numbers</a>.<a class=\"ProveItLink\" href=\"../../../../_theory_nbs_/theory.ipynb\">number_sets</a>.<a class=\"ProveItLink\" href=\"../../theory.ipynb\">integers</a>.<a class=\"ProveItLink\" href=\"../../theorems.ipynb#nonzero_int_membership_is_bool\">nonzero_int_membership_is_bool</a> theorem\n",
    "========"
   ]
  },
  {
   "cell_type": "code",
   "execution_count": 1,
   "metadata": {},
   "outputs": [],
   "source": [
    "import proveit\n",
    "theory = proveit.Theory() # the theorem's theory"
   ]
  },
  {
   "cell_type": "code",
   "execution_count": 2,
   "metadata": {},
   "outputs": [
    {
     "data": {
      "text/html": [
       "With these <a href=\"allowed_presumptions.txt\">allowed</a>/<a href=\"disallowed_presumptions.txt\">disallowed</a> theorem/theory presumptions (e.g., to avoid circular dependencies), we begin our proof of<br><strong id=\"nonzero_int_membership_is_bool\">nonzero_int_membership_is_bool:</strong> <a class=\"ProveItLink\" href=\"../../../__pv_it/theorems/2f5f1e4b6672d127ef5952b87672255f60efa25f0/expr.ipynb\"><img src=\"data:image/png;base64,iVBORw0KGgoAAAANSUhEUgAAALUAAAAbCAMAAAANmz4FAAAAOVBMVEX///8AAAAAAAAAAAAAAAAA\n",
       "AAAAAAAAAAAAAAAAAAAAAAAAAAAAAAAAAAAAAAAAAAAAAAAAAAAAAAACXHtMAAAAEnRSTlMAq1Rm\n",
       "mUTNIjK7EInv3Xbt5cmRiLwgAAAACXBIWXMAAA7EAAAOxAGVKw4bAAAC3UlEQVRYw9VYi3LjIAzk\n",
       "/Ua94/8/tgJjG2NC7DTpTJnUlZ2uvAhpESXkt4cjf3B4Wa4e/G+8jcveeGloWnwAIdKiIe7i7wGY\n",
       "6I3XBtX5GgxeEpra3p31HYBTvfHakCUvdMrJHViN+r01vwGwvDcuLI8KKSgbow0IEjaPL/zhxBTW\n",
       "sbiKT6oTYrAqqRBpzcwCoPtbHhPSoTcuDLA0J4Iqn/poecXCOpSoAX0aMSKBaOUq7QIQW3Ep/bgG\n",
       "fG9cKRxRiXq2pldNyiVDUnnsknvOGifrNVnQBWDohTxPsjeuFh4SXbjmDPn335YM2asxB4tfYs3Z\n",
       "mhYFoOpct4ich1njYWaBAUzhGNVxOxGGlDwp6C0ZICtfvRN27mZnrRoAr3NVs4rojYE6KBjMCIma\n",
       "TSrt/ge4y4h6B+GJm4U11dy3gJDnFsMkY6nqDQdAnfH7+mg1XAUkunFlY82S7fqN3ORqdBCpPwCE\n",
       "6QJxxtneELmWgYg4L2XmG31Vj9LP7DcjN8g6oohG4VpA2WT1TIAU7QyOzjlOmfI5pVb12INC1m2F\n",
       "q4fVCFzWdaiAHGY/E4coOiNPVrRvMEua4WhrC1j1OxM317AeullY51++BeSEm27Up1iTbZPolPjI\n",
       "x65ySvWks2gyZOhmY10FewWoLfsAhMbPBdYyy63bgjgSF5S8ha5Lk5CY1LwuTlmrA8CzmjKgCbVE\n",
       "9cpN7dFwVhKa9WfXHTgLBEqeXDKKxllD1WrIwM3OuorQCtBhrTL8Eog56XU4GiwZJ9CUzfROU83l\n",
       "UoKhLZu1l/yg12c3NaHxGCE6AN2JJj0JRzWcwJgwwds3OGrloegk9moBN3Bs/OysexEH9Tq5geyk\n",
       "7fk6QK1iDM7paZC9Meyd7XErvjb6PuSpmx6AfahXo1POSz3fxfNGcj8FCJAeBv2ECb3xvvMo/RyA\n",
       "st5414j6c4B3nRt/dAy8D2C+N94yPntGf9v/Q/pCci8BvgFMIRh56vj30QAAAABJRU5ErkJggg==\n",
       "\" style=\"display:inline;vertical-align:middle;\" /></a><br>(see <a class=\"ProveItLink\" href=\"../../../__pv_it/theorems/d2d6c364fc705134354e6b5ce0a5aa42fb47a6e50/dependencies.ipynb\">dependencies</a>)<br>"
      ],
      "text/plain": [
       "<IPython.core.display.HTML object>"
      ]
     },
     "metadata": {},
     "output_type": "display_data"
    },
    {
     "name": "stdout",
     "output_type": "stream",
     "text": [
      "nonzero_int_membership_is_bool may now be readily provable (assuming required theorems are usable).  Simply execute \"%qed\".\n"
     ]
    }
   ],
   "source": [
    "%proving nonzero_int_membership_is_bool"
   ]
  },
  {
   "cell_type": "code",
   "execution_count": null,
   "metadata": {},
   "outputs": [],
   "source": []
  }
 ],
 "metadata": {
  "kernelspec": {
   "display_name": "Python 3",
   "language": "python",
   "name": "python3"
  }
 },
 "nbformat": 4,
 "nbformat_minor": 0
}