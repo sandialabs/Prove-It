{
 "cells": [
  {
   "cell_type": "markdown",
   "metadata": {},
   "source": [
    "Proof of <a class=\"ProveItLink\" href=\"../../../../../../_theory_nbs_/theory.ipynb\">proveit</a>.<a class=\"ProveItLink\" href=\"../../../../../_theory_nbs_/theory.ipynb\">numbers</a>.<a class=\"ProveItLink\" href=\"../../../../_theory_nbs_/theory.ipynb\">number_sets</a>.<a class=\"ProveItLink\" href=\"../../theory.ipynb\">integers</a>.<a class=\"ProveItLink\" href=\"../../theorems.ipynb#not_int_not_in_interval\">not_int_not_in_interval</a> theorem\n",
    "========"
   ]
  },
  {
   "cell_type": "code",
   "execution_count": 1,
   "metadata": {},
   "outputs": [],
   "source": [
    "import proveit\n",
    "theory = proveit.Theory() # the theorem's theory"
   ]
  },
  {
   "cell_type": "code",
   "execution_count": 2,
   "metadata": {},
   "outputs": [
    {
     "data": {
      "text/html": [
       "With these <a href=\"allowed_presumptions.txt\">allowed</a>/<a href=\"disallowed_presumptions.txt\">disallowed</a> theorem/theory presumptions (e.g., to avoid circular dependencies), we begin our proof of<br><strong id=\"not_int_not_in_interval\">not_int_not_in_interval:</strong> <a class=\"ProveItLink\" href=\"../../../__pv_it/theorems/5acaca5aa59570be853efb7be88e4264ca1d19260/expr.ipynb\"><img src=\"data:image/png;base64,iVBORw0KGgoAAAANSUhEUgAAATQAAAAZCAMAAACIGiLxAAAAUVBMVEX///8AAAAAAAAAAAAAAAAA\n",
       "AAAAAAAAAAAAAAAAAAAAAAAAAAAAAAAAAAAAAAAAAAAAAAAAAAAAAAAAAAAAAAAAAAAAAAAAAAAA\n",
       "AAAAAAAAAAAsiKZwAAAAGnRSTlMAq1RmmUTNIjK7EInv3XbP4duh6fPj9+eRwQ+hj00AAAAJcEhZ\n",
       "cwAADsQAAA7EAZUrDhsAAAQuSURBVFjD5VmJjuQoDA1XAHPMtWf+/0PXQDiSgiRVyUozGlTqjrpi\n",
       "Gx7289HT9MQizjk5/Q7L40npM6rm6TdajP2qoMl3vgUhPjVD5YvKXxY0fxwiM2xengV8akgRnWSF\n",
       "b0Aj5XvK7oH2iKZri5qTk25eXt6GDLR1+VmvyjyroPHiubO8B9ojmq6d6cSz+SYajfvkRPxFPLsv\n",
       "glZuReqb4fmIpkuLn3jyFqWPQFvoizjjldMygIbeBO0RTZeWPSA77dyPP+a7oIka0lXcQgEtJ4M7\n",
       "ZD5v0sr/nRbo0ICYPR6MqNue1sjUx5nVY1oXljX3s+cDmi5F52oAvCegTHVsGX19z3jl1JIYL/21\n",
       "AxHUTXegGVJB4/FiNNwH7W1N/KCEVGNrrEh74ifutgmI7XDh6+6Exa/1pVQKC8IPS1TnCxmwJqAk\n",
       "yT/2mXveMzqx2nD8DEAbaqqMw0l72QcZQ4/trX0MwzMxxICwPrVm/7Lpe4i/+aVYTVWKjRuVJSdQ\n",
       "27BQcA3Tq5lJDjTlidb4RmgwDXgYFbd9TVkaNEF5qs0ZaCjw5WtQ07dnkwXVeFH6Q6SHP/9yruqV\n",
       "ZF73w5cI+CXuSGqX9C6QOcGmlgY06gfkbdcQ4Xx9wNcVlWzYEXQ1FWk8flRyBloQIDC2Z+u1WL8p\n",
       "STu5W/GVLqyOcXepoYrQitXFTIZdtJ6G58w8AIZ5k0tTtQSmbWrhRCT8oI2qmrznEj+NNDAldm1c\n",
       "C9pGAMiBvTpmEIF2ADb12Uv8pZIelrAxtlyv0niiv9pQUNeCZujKA4DxoBZZxiAweb5eYCZDSdUB\n",
       "aEWTlxPRE/p1laa1++2AthXw4sCe9smvBHJesNngjjjyfvkAEQgyT/RCu7KozIEoXhOBbkGTluTA\n",
       "CMxQNsdixhCNo2GAmaOGvWhi8Wxou0ozYDAGbSugj+yl1E8XBRz3KppwRMyJGtRcAWrqWsfFHLl7\n",
       "KGQedsP3ddpa6uRyNFsKbOFJS2mcIG46Lhpv1UAbEC9TjmbPyWOrtFJCjUHbCHz5lsz17ankOhwd\n",
       "i3LWUhgQ/TcMQAPijZLEN3twfP9Q9JjSqlXQnOiNhmJlolneY4h/i4etdy2oYpHRL4yGgseiukZ6\n",
       "TQQT9EFrBAgc2nPjGu6ff7GPcrfbqG5t7PrzNBsoTWAUQTgqUloM41qtmujcwp3O06TFpJOK1yot\n",
       "TeD5yfTqtI1ASQMDe4xfnKQ9Clr2vT1oAr3dm5Do0cMwW/tU3ulccRCCPq5ncj6E5F4YHwusIh1y\n",
       "M4YeV93wbAW+n9nTIzLvDVi8vde0zTvVB5PbDVWYwEriw8ntgXS/ToOvJ+a2CX3jFp0BSy3pP5rd\n",
       "rUm0XtQYtPcGxJ/ONfpnvzD4HfXd3RZOcvIpbNJkUS+nU9DeG1g/CxqB6Wdej/1j5cP/e/ZlfmbM\n",
       "vHOW/QeZXiOVxODwpQAAAABJRU5ErkJggg==\n",
       "\" style=\"display:inline;vertical-align:middle;\" /></a><br>(see <a class=\"ProveItLink\" href=\"../../../__pv_it/theorems/1239a92c2a208ed62edd017d212443fadcd913790/dependencies.ipynb\">dependencies</a>)<br>"
      ],
      "text/plain": [
       "<IPython.core.display.HTML object>"
      ]
     },
     "metadata": {},
     "output_type": "display_data"
    },
    {
     "name": "stdout",
     "output_type": "stream",
     "text": [
      "not_int_not_in_interval may now be readily provable (assuming required theorems are usable).  Simply execute \"%qed\".\n"
     ]
    }
   ],
   "source": [
    "%proving not_int_not_in_interval"
   ]
  },
  {
   "cell_type": "code",
   "execution_count": null,
   "metadata": {},
   "outputs": [],
   "source": []
  }
 ],
 "metadata": {
  "kernelspec": {
   "display_name": "Python 3",
   "language": "python",
   "name": "python3"
  }
 },
 "nbformat": 4,
 "nbformat_minor": 0
}