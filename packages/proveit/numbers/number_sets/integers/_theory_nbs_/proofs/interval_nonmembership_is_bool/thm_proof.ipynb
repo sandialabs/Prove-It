{
 "cells": [
  {
   "cell_type": "markdown",
   "metadata": {},
   "source": [
    "Proof of <a class=\"ProveItLink\" href=\"../../../../../../_theory_nbs_/theory.ipynb\">proveit</a>.<a class=\"ProveItLink\" href=\"../../../../../_theory_nbs_/theory.ipynb\">numbers</a>.<a class=\"ProveItLink\" href=\"../../../../_theory_nbs_/theory.ipynb\">number_sets</a>.<a class=\"ProveItLink\" href=\"../../theory.ipynb\">integers</a>.<a class=\"ProveItLink\" href=\"../../theorems.ipynb#interval_nonmembership_is_bool\">interval_nonmembership_is_bool</a> theorem\n",
    "========"
   ]
  },
  {
   "cell_type": "code",
   "execution_count": 1,
   "metadata": {},
   "outputs": [],
   "source": [
    "import proveit\n",
    "theory = proveit.Theory() # the theorem's theory"
   ]
  },
  {
   "cell_type": "code",
   "execution_count": 2,
   "metadata": {},
   "outputs": [
    {
     "data": {
      "text/html": [
       "With these <a href=\"allowed_presumptions.txt\">allowed</a>/<a href=\"disallowed_presumptions.txt\">disallowed</a> theorem/theory presumptions (e.g., to avoid circular dependencies), we begin our proof of<br><strong id=\"interval_nonmembership_is_bool\">interval_nonmembership_is_bool:</strong> <a class=\"ProveItLink\" href=\"../../../__pv_it/theorems/ae82ef7b9eb501461d134a277c5ff478d243979a0/expr.ipynb\"><img src=\"data:image/png;base64,iVBORw0KGgoAAAANSUhEUgAAASEAAAAWCAMAAAC4y9qIAAAARVBMVEX///8AAAAAAAAAAAAAAAAA\n",
       "AAAAAAAAAAAAAAAAAAAAAAAAAAAAAAAAAAAAAAAAAAAAAAAAAAAAAAAAAAAAAAAAAAAAAAAeYafp\n",
       "AAAAFnRSTlMAq1RmmUTNIjK7EInv3Xbp8+P355HBoPSVsQAAAAlwSFlzAAAOxAAADsQBlSsOGwAA\n",
       "BChJREFUWMPtWOvS2ygMNfe72t22fv9HXYEBA4bEiftzmW8qTyMEOkhHgm17PiAEfVNVDfK1Vh5W\n",
       "iC93pui9BVc7+MCzl8PddgBoLxdD2m6SFPbbrWlijrkC3p2yN3KXPhDRqaNvpCpR9gChW2ao6+XS\n",
       "rW7S/jE+1vhQvk02Bu+8MxEWJe0BUVFH33gNAKkeIHTHjJW9XA3exaQLX2xJ8st0ad8ihKg4hR+N\n",
       "OvpWD0yZJ1l2xwxnvVyNHpKvENrpZTrjdxBiNKdDVo++FWwdfcRDN8z4Qc7owITw46d8ipA4M/Oc\n",
       "7u1lqRDkFSHZqkffWD5R+Yyp35uhspcTxyTgtoh+HEPNnPNTsstS1xgiirlWPfnmI5bBu4e17K0Z\n",
       "7nppAYjV7gw6leJwZKnqoiIOFNyjIYK26YCQawqAurJSZGoLgbhOPfnG05kZ+xCht2bKGRaJiQ4E\n",
       "Nh56jmcDCDwjJjz+bG4VNrsjAHZP5qDmNGugn5QTRChIvwduW/XkmyLln7HqypF1iTeO498MoaWZ\n",
       "SsC0kww3ydBhUoNfzmqO8sfvNkl+K+WOBsEnqFUlbdrwn1wxNTCRN3CoH77Fc592fTXiNBBjUCOg\n",
       "V86OGZznLs0UphSd1E18HP+R8vSff0M4D0YRmWfxPaF7iwsOs/uha4k8MNL7sFQcZkAoCteoHw5R\n",
       "WBCsz5zJef5AE5oqNu+pl2bmCG31mGufN6mFmue89Salz632PeEocvC4grHww1KzGIrdkGnUs2+y\n",
       "Jr91DFzJUb1HLh3aUb7x1a3jNAPAFf69zLLkBKpY2/VBlzQ6mmK7R9Nsv98N8YOyzpachlXLNSAk\n",
       "G/Xsm6M59yymkd5VvavYDXgPOFNUrxCqZkBtxGxy6IwMtNJi1pJ4TGfeAP4g+Lxy2+Q1kRu90fnv\n",
       "uvAWTj+ZuvEDYI0QhUY9+6Y8KekUc7TOYYnRRRNCFja3vLlWMyzBMCJZqu0h6a4tx6VEgyNiSvSi\n",
       "t4m40tBGMFas4aPyZ9wAH/sh3u5c0glCqOCg1KFDvfhW9hUpAkhLQ5wgSCYNmg7c2TYx+rt9495+\n",
       "PWodWmk5niPlrN2pJeaXXSBkCTitCDQIBj5+VDuu3mxOhILol+peDEB6Y867fVUfSk9qIQwrAMSk\n",
       "93TTJ/aC6riys+9eP2IgXjAqby0v3lx+/zHdVeDbe9ms4RzsCHdZqusywtQ3H2lIMGy3IipIQykZ\n",
       "zy7QpSAX4fX7kPJYQLYro5e744s75OQC/rcQ4p897mT10TeBUQ8u1nSMHay0B6EpU4o9IRjrRpI3\n",
       "L2gchAO4OmtUL68HN6nC4B8hVFquD58uivqLBq/jBxd5SDx+YyxV0a52O3sYOJvib0YpaetTWbyF\n",
       "qHe+ffLw6W6/5paL5+oCOr2zKE6+xUi5MhU+AyirQ/BLhNj2/zjGf0JjI/UbFU3HAAAAAElFTkSu\n",
       "QmCC\n",
       "\" style=\"display:inline;vertical-align:middle;\" /></a><br>(see <a class=\"ProveItLink\" href=\"../../../__pv_it/theorems/88dc3e7e4f3c151f9d174397d69b1f5b171537df0/dependencies.ipynb\">dependencies</a>)<br>"
      ],
      "text/plain": [
       "<IPython.core.display.HTML object>"
      ]
     },
     "metadata": {},
     "output_type": "display_data"
    }
   ],
   "source": [
    "%proving interval_nonmembership_is_bool"
   ]
  },
  {
   "cell_type": "code",
   "execution_count": null,
   "metadata": {},
   "outputs": [],
   "source": []
  }
 ],
 "metadata": {
  "kernelspec": {
   "display_name": "Python 3",
   "language": "python",
   "name": "python3"
  }
 },
 "nbformat": 4,
 "nbformat_minor": 0
}