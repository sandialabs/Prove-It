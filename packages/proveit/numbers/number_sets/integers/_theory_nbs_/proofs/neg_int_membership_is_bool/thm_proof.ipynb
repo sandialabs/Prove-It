{
 "cells": [
  {
   "cell_type": "markdown",
   "metadata": {},
   "source": [
    "Proof of <a class=\"ProveItLink\" href=\"../../../../../../_theory_nbs_/theory.ipynb\">proveit</a>.<a class=\"ProveItLink\" href=\"../../../../../_theory_nbs_/theory.ipynb\">numbers</a>.<a class=\"ProveItLink\" href=\"../../../../_theory_nbs_/theory.ipynb\">number_sets</a>.<a class=\"ProveItLink\" href=\"../../theory.ipynb\">integers</a>.<a class=\"ProveItLink\" href=\"../../theorems.ipynb#neg_int_membership_is_bool\">neg_int_membership_is_bool</a> theorem\n",
    "========"
   ]
  },
  {
   "cell_type": "code",
   "execution_count": 1,
   "metadata": {},
   "outputs": [],
   "source": [
    "import proveit\n",
    "theory = proveit.Theory() # the theorem's theory"
   ]
  },
  {
   "cell_type": "code",
   "execution_count": 2,
   "metadata": {},
   "outputs": [
    {
     "data": {
      "text/html": [
       "With these <a href=\"allowed_presumptions.txt\">allowed</a>/<a href=\"disallowed_presumptions.txt\">disallowed</a> theorem/theory presumptions (e.g., to avoid circular dependencies), we begin our proof of<br><strong id=\"neg_int_membership_is_bool\">neg_int_membership_is_bool:</strong> <a class=\"ProveItLink\" href=\"../../../__pv_it/theorems/ba0e09bbcbd4507967a7d5c3b6bcb83aa3fff7a40/expr.ipynb\"><img src=\"data:image/png;base64,iVBORw0KGgoAAAANSUhEUgAAAK0AAAAZBAMAAACx2rMTAAAAMFBMVEX///8AAAAAAAAAAAAAAAAA\n",
       "AAAAAAAAAAAAAAAAAAAAAAAAAAAAAAAAAAAAAAAAAAAv3aB7AAAAD3RSTlMAq1RmmUTNIjK7EInv\n",
       "3XZ/CtNrAAAACXBIWXMAAA7EAAAOxAGVKw4bAAAC20lEQVRIx71WTWgTQRR+SfY/TQyCpgGVgiKI\n",
       "B6vgSZGKilo9FIUeLNpoD0IJul6EQqApeFGELoiHqNEVROylLSKICCUgCkHEFkSpsNBaFSw1N2kJ\n",
       "Cr63k/2ZZJfkIA7Mzs57M9+89703bxcgoO3FHuuDVq0nRC6EyKO0YVtLWBgJkctGsPwxdi3bGje2\n",
       "EKI4ECy+hV3tDtJsf/+mNP/KnX5uUP+sXM7NIX8JEyBFgq2cG2V85ANP/NEJEnieLDbqjXPy8AaA\n",
       "JIIeoflFjvZpfJwIxD0MsBTvgutFbDrAlNmIexqeq0hiDWCsieh1lAm/AnHToBkT3lTqbsbdE8Fx\n",
       "CHV4Jprga+MoUWq8/5Zle2+CUOj0eVa3J1myPrq4Eo7HMah4psSzTytn/ZL+Zfd1TPFlbbJsD+Il\n",
       "07M3vQ/HFezvLOsth7sRe4TMm1x88pI8kYc95R3Vx6nIvLpqenGbnKPoDKLkGC7mcIuUZuRhT3KL\n",
       "QHZLundlpv25qawBH3XjbO5PL1FZALgCcorDPU9QKIrpsVqEIuOjyZ9l6AiLbtYft6V+tHUUQ6+a\n",
       "cb4UfMCeQBYVENiOmxY2FqIvuFZzV2o2roJMWvMOrioiEVOIGF3gw+baC9DBLqqXWZqBNSHi0iKv\n",
       "MaHfXhVwOlogN4iy6tGvehPuoK5RSBLuvkghjcZ4/K7awyyPi06OE9ZTDHdSz0hOEmcIAA+d6NsE\n",
       "cTud3PpyTUR+NjfmQ5XDjS6wfIA8xQjuK45ypZ6Zu26chFO25IKbZXiLRnZ4BY3lr2sRGAMw8wzH\n",
       "/cw5eq66q+kwsuRRNXqI7Xh4m2WoWMkV7/2+6903lkha5gybf688sOsZHPSoKsvOawdpXnOhHChZ\n",
       "QfXYqQ/ii/o9dtqQ85KPZ4U26llDa6pnTtq41UX4NrPsmU452w7u7rAPSSpQvJ5I72oD91OIPKH/\n",
       "1+9blAje+e+/x+3+P/SG/T9gOP8C4IC168pYFr0AAAAASUVORK5CYII=\n",
       "\" style=\"display:inline;vertical-align:middle;\" /></a><br>(see <a class=\"ProveItLink\" href=\"../../../__pv_it/theorems/b238777fb44fea049af282129bfdeb357d950a520/dependencies.ipynb\">dependencies</a>)<br>"
      ],
      "text/plain": [
       "<IPython.core.display.HTML object>"
      ]
     },
     "metadata": {},
     "output_type": "display_data"
    },
    {
     "name": "stdout",
     "output_type": "stream",
     "text": [
      "neg_int_membership_is_bool may now be readily provable (assuming required theorems are usable).  Simply execute \"%qed\".\n"
     ]
    }
   ],
   "source": [
    "%proving neg_int_membership_is_bool"
   ]
  },
  {
   "cell_type": "code",
   "execution_count": null,
   "metadata": {},
   "outputs": [],
   "source": []
  }
 ],
 "metadata": {
  "kernelspec": {
   "display_name": "Python 3",
   "language": "python",
   "name": "python3"
  }
 },
 "nbformat": 4,
 "nbformat_minor": 0
}