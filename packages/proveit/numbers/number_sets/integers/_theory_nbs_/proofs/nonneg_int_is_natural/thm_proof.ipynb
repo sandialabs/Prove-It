{
 "cells": [
  {
   "cell_type": "markdown",
   "metadata": {},
   "source": [
    "Proof of <a class=\"ProveItLink\" href=\"../../../../../../_theory_nbs_/theory.ipynb\">proveit</a>.<a class=\"ProveItLink\" href=\"../../../../../_theory_nbs_/theory.ipynb\">numbers</a>.<a class=\"ProveItLink\" href=\"../../../../_theory_nbs_/theory.ipynb\">number_sets</a>.<a class=\"ProveItLink\" href=\"../../theory.ipynb\">integers</a>.<a class=\"ProveItLink\" href=\"../../theorems.ipynb#nonneg_int_is_natural\">nonneg_int_is_natural</a> theorem\n",
    "========"
   ]
  },
  {
   "cell_type": "code",
   "execution_count": 1,
   "metadata": {},
   "outputs": [],
   "source": [
    "import proveit\n",
    "from proveit import defaults\n",
    "from proveit import a, m, n, x, A, B\n",
    "from proveit.core_expr_types import A_1_to_m\n",
    "from proveit.numbers import zero, num, Neg, NaturalPos, Integer, greater, Natural, greater_eq\n",
    "from proveit.logic import NotInSet, SetOfAll, InSet, Implies, And\n",
    "from proveit.logic.sets.unification import membership_unfolding\n",
    "from proveit.numbers.number_sets.natural_numbers  import natural_pos_def\n",
    "from proveit.numbers.number_sets.integers  import integers_def\n",
    "theory = proveit.Theory() # the theorem's theory"
   ]
  },
  {
   "cell_type": "code",
   "execution_count": 2,
   "metadata": {},
   "outputs": [
    {
     "data": {
      "text/html": [
       "With these <a href=\"allowed_presumptions.txt\">allowed</a>/<a href=\"disallowed_presumptions.txt\">disallowed</a> theorem/theory presumptions (e.g., to avoid circular dependencies), we begin our proof of<br><strong id=\"nonneg_int_is_natural\">nonneg_int_is_natural:</strong> <a class=\"ProveItLink\" href=\"../../../__pv_it/theorems/3454b051e9012236ad2cdcb2f83e7d2fa3b722990/expr.ipynb\"><img src=\"data:image/png;base64,iVBORw0KGgoAAAANSUhEUgAAAKcAAAAXBAMAAACc8kKqAAAAMFBMVEX///8AAAAAAAAAAAAAAAAA\n",
       "AAAAAAAAAAAAAAAAAAAAAAAAAAAAAAAAAAAAAAAAAAAv3aB7AAAAD3RSTlMAq1RmmUTNIjK7EInv\n",
       "3XZ/CtNrAAAACXBIWXMAAA7EAAAOxAGVKw4bAAACm0lEQVQ4y62VQWjTYBTH/22SpmnaUj3YoSgF\n",
       "QRRBKoigSC1MUfASGHhRpOhB2ClVj4pVRBgqC8KmUZT0uA3X6QR18zAUDyJKUUEQAhGETXspXoay\n",
       "g+/72iStdsEUP0j73v/L+30v7335AvQ19L6mgkc697f24Oe4hecr2gmyM0zYHBK6vZd4U8og0UQ6\n",
       "Dxxk/ulwzESpl7pRnwUWgGHgErmyEQ4q5nupa42YjjqwC4hZgJoLB012ed9sm2eeLcglBk1aEGjV\n",
       "WMiSbul0jn5vG9lIpcGgMSK+te03IaFHWMk2LDrMloddNQtD0QiqUu8PA3d6RRZXh56i67iu/GJ2\n",
       "TPehVxKfCSpQMcqQMx0BkdeP73Ke37wRjf/NN1zhPW2AlxDrHAofKuS2UfejdCmWqrXl+BdTS+nq\n",
       "tNUNTTxjjRQcyZVe0QZoIjXD7Os2DaMFxfoIAeNNAjveYgcqFIvLZ9ENpQZT7ZMVLPvQpIEaz2Wi\n",
       "I1NUE5S9RGCUCvQzVXjC3wVWzGIHlOk09ji4aOGF//g1B/u5neqExh2KirKyPKL+JT7Fl9uLCmcq\n",
       "PpTrbOzTRy18aIffJ2gO66KsR2nHhd6ma4miBBZ5nvokFuMLGOJz0yp8KNdZwmMg6Lt2+EPqhBP9\n",
       "KHLnpAtlhkidF1mtI5RZUktnsNs0zRxm5jDpQbkOnBsAe/wf7fAb9AibnpaXuFMd433F1RWjdSqk\n",
       "3L7XdGWvdY1Z0tY85jwo11EeQFejUpXOXXvsnt11wFzw3mZ9dMhS2JKqCKnuZ8r06iF+hjqSu5+F\n",
       "YtD7Nuga0uCOWcis1DvXNMYzHpTrk6175r9a7u23Aph/HnlTpql5TtBxOBEwpwR9T4KgsrP63CL+\n",
       "CTpCu8Ls+3v2f76KwG+mdq600dLyHgAAAABJRU5ErkJggg==\n",
       "\" style=\"display:inline;vertical-align:middle;\" /></a><br>(see <a class=\"ProveItLink\" href=\"../../../__pv_it/theorems/3e95948191f454d46089de822d33ee3bc6f571c70/dependencies.ipynb\">dependencies</a>)<br>"
      ],
      "text/plain": [
       "<IPython.core.display.HTML object>"
      ]
     },
     "metadata": {},
     "output_type": "display_data"
    },
    {
     "name": "stdout",
     "output_type": "stream",
     "text": [
      "nonneg_int_is_natural may now be readily provable (assuming required theorems are usable).  Simply execute \"%qed\".\n"
     ]
    }
   ],
   "source": [
    "%proving nonneg_int_is_natural"
   ]
  },
  {
   "cell_type": "code",
   "execution_count": 3,
   "metadata": {},
   "outputs": [],
   "source": [
    "# defaults.assumptions = nonneg_int_is_natural.conditions"
   ]
  },
  {
   "cell_type": "code",
   "execution_count": 4,
   "metadata": {},
   "outputs": [],
   "source": [
    "# integers_def"
   ]
  },
  {
   "cell_type": "code",
   "execution_count": 5,
   "metadata": {},
   "outputs": [],
   "source": [
    "# int_union = integers_def.expr.rhs"
   ]
  },
  {
   "cell_type": "code",
   "execution_count": 6,
   "metadata": {},
   "outputs": [],
   "source": [
    "# int_union.operands"
   ]
  },
  {
   "cell_type": "code",
   "execution_count": 7,
   "metadata": {},
   "outputs": [],
   "source": [
    "# membership_unfolding"
   ]
  },
  {
   "cell_type": "code",
   "execution_count": 8,
   "metadata": {},
   "outputs": [],
   "source": [
    "# spec1 = membership_unfolding.instantiate({x:a, m:num(2), A:int_union.operands}, assumptions = [InSet(m, NaturalPos), *defaults.assumptions])"
   ]
  },
  {
   "cell_type": "code",
   "execution_count": 9,
   "metadata": {},
   "outputs": [],
   "source": [
    "# a_in_int = defaults.assumptions[0]"
   ]
  },
  {
   "cell_type": "code",
   "execution_count": 10,
   "metadata": {},
   "outputs": [],
   "source": [
    "# a_elem_union = Implies(And(a_in_int, integers_def.expr),InSet(a,int_union))"
   ]
  },
  {
   "cell_type": "code",
   "execution_count": 11,
   "metadata": {},
   "outputs": [],
   "source": [
    "# new_assumpt = [defaults.assumptions]+ [integers_def.expr]"
   ]
  },
  {
   "cell_type": "code",
   "execution_count": null,
   "metadata": {},
   "outputs": [],
   "source": []
  },
  {
   "cell_type": "code",
   "execution_count": null,
   "metadata": {},
   "outputs": [],
   "source": []
  }
 ],
 "metadata": {
  "kernelspec": {
   "display_name": "Python 3",
   "language": "python",
   "name": "python3"
  }
 },
 "nbformat": 4,
 "nbformat_minor": 0
}