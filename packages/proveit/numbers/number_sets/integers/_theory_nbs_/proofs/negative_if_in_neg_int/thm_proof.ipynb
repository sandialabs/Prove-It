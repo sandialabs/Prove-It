{
 "cells": [
  {
   "cell_type": "markdown",
   "metadata": {},
   "source": [
    "Proof of <a class=\"ProveItLink\" href=\"../../../../../../_theory_nbs_/theory.ipynb\">proveit</a>.<a class=\"ProveItLink\" href=\"../../../../../_theory_nbs_/theory.ipynb\">numbers</a>.<a class=\"ProveItLink\" href=\"../../../../_theory_nbs_/theory.ipynb\">number_sets</a>.<a class=\"ProveItLink\" href=\"../../theory.ipynb\">integers</a>.<a class=\"ProveItLink\" href=\"../../theorems.ipynb#negative_if_in_neg_int\">negative_if_in_neg_int</a> theorem\n",
    "========"
   ]
  },
  {
   "cell_type": "code",
   "execution_count": 1,
   "metadata": {},
   "outputs": [],
   "source": [
    "import proveit\n",
    "theory = proveit.Theory() # the theorem's theory"
   ]
  },
  {
   "cell_type": "code",
   "execution_count": 2,
   "metadata": {},
   "outputs": [
    {
     "data": {
      "text/html": [
       "With these <a href=\"allowed_presumptions.txt\">allowed</a>/<a href=\"disallowed_presumptions.txt\">disallowed</a> theorem/theory presumptions (e.g., to avoid circular dependencies), we begin our proof of<br><strong id=\"negative_if_in_neg_int\">negative_if_in_neg_int:</strong> <a class=\"ProveItLink\" href=\"../../../__pv_it/theorems/e7839487bbdf9f34332d862a1c1ce83d8adc4e3d0/expr.ipynb\"><img src=\"data:image/png;base64,iVBORw0KGgoAAAANSUhEUgAAAH8AAAAVBAMAAACd/CwcAAAAMFBMVEX///8AAAAAAAAAAAAAAAAA\n",
       "AAAAAAAAAAAAAAAAAAAAAAAAAAAAAAAAAAAAAAAAAAAv3aB7AAAAD3RSTlMAq1RmmUTNIjK7EInv\n",
       "3XZ/CtNrAAAACXBIWXMAAA7EAAAOxAGVKw4bAAACA0lEQVQ4y42Uz0sbQRTHv8lmk81sEuI/IAs9\n",
       "1EtrCuJB/BEwKYUiDXi3oRfB02p7VLFePHhQL+Iq6HgRNMUGFUQF8dZKKQgKCqJEETx4kWLpQZC+\n",
       "WXc1E7KrA8u+eTPvs+9938wCT4+I54qJZ41zz5UuepLCeOEXHyxWdW9dmEikgKyYdPsBFqp6wwY7\n",
       "BHqAr6LIcT9Ae1VvC7ABNBCJA7rhB9ipLMnOdwKo54hxKFRG2FeCvDxXDrh43QBjBsIU/fvk5Jcf\n",
       "ICQ07N0edKaJYzueCUAKOvXgHTDtBxAfUX9gzo5D4dQ5G7cEKEGh9HoRSfoB4iTQtxQ67MmXfZQB\n",
       "igiSQFGu58r2B3bXZtLlgBitfgCO7cVPrpcR4GMJ2jWJVHrQUDuzcnFTX+aVgF2wvzJAiFhvQBUt\n",
       "yre6zswQiYzhz4hkMpnsYwnsDsq1XAIsoI0juEfmSo8Qp3XdPpg00lIFiJbA/iCQfymJiGbgLX1O\n",
       "HMF+0pAdav+weN/nviEJIDo1i1cudvmUO4mxn06PAxQQSms76Lzfoctd0CjL+auRWherOAfh/Rl5\n",
       "4rkHpRJJNFqWZaC4iSWJcFTRV6Xs6g24xncz2sRHhaXWpbApBTQ856LFzLFOHhW56SGoe7KK3v+d\n",
       "x2ustr9eRWSKrDc1V5PyyWTel72SXbCsXJVtg56AS+A/OSN2lpi37wEAAAAASUVORK5CYII=\n",
       "\" style=\"display:inline;vertical-align:middle;\" /></a><br>(see <a class=\"ProveItLink\" href=\"../../../__pv_it/theorems/4d273e0b719c8a98df0f455aea09322d55d6340b0/dependencies.ipynb\">dependencies</a>)<br>"
      ],
      "text/plain": [
       "<IPython.core.display.HTML object>"
      ]
     },
     "metadata": {},
     "output_type": "display_data"
    },
    {
     "name": "stdout",
     "output_type": "stream",
     "text": [
      "negative_if_in_neg_int may now be readily provable (assuming required theorems are usable).  Simply execute \"%qed\".\n"
     ]
    }
   ],
   "source": [
    "%proving negative_if_in_neg_int"
   ]
  },
  {
   "cell_type": "code",
   "execution_count": null,
   "metadata": {},
   "outputs": [],
   "source": []
  }
 ],
 "metadata": {
  "kernelspec": {
   "display_name": "Python 3",
   "language": "python",
   "name": "python3"
  }
 },
 "nbformat": 4,
 "nbformat_minor": 0
}