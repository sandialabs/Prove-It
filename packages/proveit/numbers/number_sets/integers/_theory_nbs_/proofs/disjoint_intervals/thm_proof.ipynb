{
 "cells": [
  {
   "cell_type": "markdown",
   "metadata": {},
   "source": [
    "Proof of <a class=\"ProveItLink\" href=\"../../../../../../_theory_nbs_/theory.ipynb\">proveit</a>.<a class=\"ProveItLink\" href=\"../../../../../_theory_nbs_/theory.ipynb\">numbers</a>.<a class=\"ProveItLink\" href=\"../../../../_theory_nbs_/theory.ipynb\">number_sets</a>.<a class=\"ProveItLink\" href=\"../../theory.ipynb\">integers</a>.<a class=\"ProveItLink\" href=\"../../theorems.ipynb#disjoint_intervals\">disjoint_intervals</a> theorem\n",
    "========"
   ]
  },
  {
   "cell_type": "code",
   "execution_count": 1,
   "metadata": {},
   "outputs": [],
   "source": [
    "import proveit\n",
    "theory = proveit.Theory() # the theorem's theory"
   ]
  },
  {
   "cell_type": "code",
   "execution_count": 2,
   "metadata": {},
   "outputs": [
    {
     "data": {
      "text/html": [
       "With these <a href=\"allowed_presumptions.txt\">allowed</a>/<a href=\"disallowed_presumptions.txt\">disallowed</a> theorem/theory presumptions (e.g., to avoid circular dependencies), we begin our proof of<br><strong id=\"disjoint_intervals\">disjoint_intervals:</strong> <a class=\"ProveItLink\" href=\"../../../__pv_it/theorems/693cc92bf4c56b62f4750b7cde6d69ce67f3f8180/expr.ipynb\"><img src=\"data:image/png;base64,iVBORw0KGgoAAAANSUhEUgAAAaEAAAAXBAMAAABQYu0tAAAAMFBMVEX///8AAAAAAAAAAAAAAAAA\n",
       "AAAAAAAAAAAAAAAAAAAAAAAAAAAAAAAAAAAAAAAAAAAv3aB7AAAAD3RSTlMAq1RmmUTNIjK7EInv\n",
       "3XZ/CtNrAAAACXBIWXMAAA7EAAAOxAGVKw4bAAAFEElEQVRYw9VXa2gcVRQ+2czuvPaVqEUbsANC\n",
       "MSrNiiLUH3ElVgRBF/rTYrY+kIrItIo/1JqNiiBWEkGsa4uMUH9opLs+8JGSGK2BigpbqRSqhQn5\n",
       "kbTVENpG01ir55x7Z/Yx+xKM1QtzmXvmOzPfd+85594BuLjNxuvtTBPADrt83xpow8VucQuvB50m\n",
       "CO0K/2kbwHvxJkmjq1aH7y/ToB4UtxOCjDf02rV49TXiaewtYa8nvXFfY0HaI2kGxlMAm8jw0Ooo\n",
       "UpcgfFbcrhPx4A0Bisw5S2Ib+kfS2JklbzjR5FMJSwAfBhimL4+uUlAtAch5NaTFm2aVyIKSakoU\n",
       "abaraNARwBtxHvAbprV6iholECuKNic66LStaEICow504jRF4F9XNMKK1jcnyk/aU/SABEZQznfH\n",
       "j3+zKnLMyfkleOIL0GYXsuZPFuxb2ETDF756ZsYNrTvcjZA7PaJqz5wbfMPWhe6AosnZXDBfe+ZP\n",
       "S6CJ5eEOgDfa5Kj8HUHGl2DiGm2FdwBKULC0o6C7OITDlvYbxHiN7qfudry22PpK8A2/OgUb4lPe\n",
       "mIA7LSWY9MKbgZ1Ya7aD6tdHbVsV8nMxHR1ff7SHCehVT3vtGjjbfDc9S7UOXoEtDriY5LEiaMs4\n",
       "hL0AZ6Si72VBNw6CUgoQDa1A1AX1tLcSVPl/JFOtcvRGIQwMoSzdMctbcU8VdAg1zuQzMdvc7wQU\n",
       "9bo+3Ki0sRu2ggsGK4qdm6OyNYLl53dSlAe4IBVNI481+HVlEWLFYEhkIYHWt+4Tghi4Ui90pDcB\n",
       "tUVU5VYUhkNV0BMAt+F8d8Kzj0Gtoo0pH67e6lTY2I1y31NkTPyZRkV9SOhcUBE8jzEfHYVC8ISD\n",
       "NAdxGj6WTyQw2DxvAoYp9LL92I31f0JRd2GGC+asy6ZHeQ/Glk5XKGLoCcuHa122cGEbu1Wt0ZPQ\n",
       "uSzX6GyFIlNGHZkQe0vd7ehuh2JPNgEMNunNwBAF7we4zxpHMVsxuY7xPvGDNsWmZcpqSrcdubIi\n",
       "hu5i8gwPv2oLF2FjN97wR2UebQC4BNlFEbrkK4qwojdlCStYsCYUOGUmcpghYE55YY3ABM5wYDGl\n",
       "t8mVgRbxaSwMSppEgJ6iWqGMGjk2LcJmdtlvQlkRQ0N7HAkP8x25CBu7cSxOQ8cZ4n+dA7tRkXYI\n",
       "IkWSs40UmVl65/uSqO6GjiiivHkdVaSUnhZFuZCVQCx0Js8uWTyc9ObqrVBCdSAkmolTwYvmlCQN\n",
       "ODoz8VG4KZ/PW1Ach3d9RQLKQgguVoZdhI3cuO2bnP8jOfzt2nsWTmUogh4/cBngcPj85b3nk9A1\n",
       "jpCXJVHjyk+3z7PTEb9Da8+A3GFjx7z96MANJ0WOpStwwpsVxbwVLNj6zUgnAVEkmLCl6aTzEh8v\n",
       "r07BuK9IQrVLbYYbn5Ek4UI2dmtwRAvmfq7FUcA7M1wDbQJ3+uXCHtnsjEHM2QhjEMlAcYxMzzk6\n",
       "FwoFwqXyGhGUoqrLITgWCTpHZfgwjTZ2C57ihnL1SHSm2yRabFfRgDcKD2z4ENNdu8vFXh3od3ZZ\n",
       "bFJfx4fXd516LekrYjsnChBcFG1yETb/cWXTp9bXZ7Ebr59bHFQoY/g7bQBr/yKsQA9j+Xy5tugN\n",
       "3tXb6mdYnVxb/wHV0qHmJ//3MATiYsNvDdSrmYSd2r52qv/5f0KXNuhmTJ/qLoNbA+dqojrQN1T0\n",
       "ItbAfM3K1LP915v6fyD5F71TntU6ddaAAAAAAElFTkSuQmCC\n",
       "\" style=\"display:inline;vertical-align:middle;\" /></a><br>(see <a class=\"ProveItLink\" href=\"../../../__pv_it/theorems/676bce596d33aa443fa54f76b5cc8c94d1ed704c0/dependencies.ipynb\">dependencies</a>)<br>"
      ],
      "text/plain": [
       "<IPython.core.display.HTML object>"
      ]
     },
     "metadata": {},
     "output_type": "display_data"
    }
   ],
   "source": [
    "%proving disjoint_intervals"
   ]
  },
  {
   "cell_type": "code",
   "execution_count": null,
   "metadata": {},
   "outputs": [],
   "source": []
  }
 ],
 "metadata": {
  "kernelspec": {
   "display_name": "Python 3",
   "language": "python",
   "name": "python3"
  }
 },
 "nbformat": 4,
 "nbformat_minor": 0
}