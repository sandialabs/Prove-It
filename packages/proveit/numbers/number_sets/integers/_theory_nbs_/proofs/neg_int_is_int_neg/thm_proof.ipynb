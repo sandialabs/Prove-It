{
 "cells": [
  {
   "cell_type": "markdown",
   "metadata": {},
   "source": [
    "Proof of <a class=\"ProveItLink\" href=\"../../../../../../_theory_nbs_/theory.ipynb\">proveit</a>.<a class=\"ProveItLink\" href=\"../../../../../_theory_nbs_/theory.ipynb\">numbers</a>.<a class=\"ProveItLink\" href=\"../../../../_theory_nbs_/theory.ipynb\">number_sets</a>.<a class=\"ProveItLink\" href=\"../../theory.ipynb\">integers</a>.<a class=\"ProveItLink\" href=\"../../theorems.ipynb#neg_int_is_int_neg\">neg_int_is_int_neg</a> theorem\n",
    "========"
   ]
  },
  {
   "cell_type": "code",
   "execution_count": 1,
   "metadata": {},
   "outputs": [],
   "source": [
    "import proveit\n",
    "theory = proveit.Theory() # the theorem's theory"
   ]
  },
  {
   "cell_type": "code",
   "execution_count": 2,
   "metadata": {},
   "outputs": [
    {
     "data": {
      "text/html": [
       "With these <a href=\"allowed_presumptions.txt\">allowed</a>/<a href=\"disallowed_presumptions.txt\">disallowed</a> theorem/theory presumptions (e.g., to avoid circular dependencies), we begin our proof of<br><strong id=\"neg_int_is_int_neg\">neg_int_is_int_neg:</strong> <a class=\"ProveItLink\" href=\"../../../__pv_it/theorems/f3cab05abeeb0ec5939602f2ad9c98802afd2b4a0/expr.ipynb\"><img src=\"data:image/png;base64,iVBORw0KGgoAAAANSUhEUgAAALcAAAAZBAMAAACBVqIyAAAAMFBMVEX///8AAAAAAAAAAAAAAAAA\n",
       "AAAAAAAAAAAAAAAAAAAAAAAAAAAAAAAAAAAAAAAAAAAv3aB7AAAAD3RSTlMAq1RmmUTNIjK7EInv\n",
       "3XZ/CtNrAAAACXBIWXMAAA7EAAAOxAGVKw4bAAACsUlEQVRIx7VWTWgTQRT+8rPZZPPD9uIPggT0\n",
       "oBSkXgRFaooKFS+BepKCgR7EIrJV6KnQKN4spIpU0yrsNRaaUBVteymKhyBqQFE8BFYQVCpSBCkE\n",
       "D76ZsDOTNCTdFAcSZr55882b9755s0BXLZDuZBFE121/Rwt9ultuI9PZpr9b8khfC9B/+e+l6gMx\n",
       "E7cBk3X2eSSfaAUmbmeRCckhMZ9mnYseyc+2TGEKib5FhPPU7lHoasD1boL/pxXos1AwFKYRIESh\n",
       "iSa9cYdrDeF4WP3IswwM+rISP0OKpQyEPDqeqCgD7YotNjVvKhM/6femWn3tkdzHlKjv+eawwbgt\n",
       "RWTPKlYXaGIQmPV4xSIsssNWpNYkht6Ao1jlKERj0E3Vq/KTuRRnaKZcWXN7IVpgvESQR0e5T5mG\n",
       "+E6m2VmibqEIf8mn41Z0wd5MbiDgaK4U4rR7cB3xEltDYa1+rqci+RSQQSoSrd8R+52igwRw4xo2\n",
       "kesDdiyLDcXz2DRfDUV8BSbpndJzppwMqwLz/c/oCnAwlVLIGU7u9ViYtPFCIS86OMEHUjm7SOnG\n",
       "uoy5RX+Lo7T/p/AGCvVqejUryTkO7S7Z5Wy8d/NCHhaT2OFny38JIabO0VSlQS2YMNnVDa9iiGML\n",
       "UUhyjmtzzIzI37o6X6Vpx/+BCyqUFEIchX5HRuk494M8jaWpzhyhopBEaRmPBDnHp/hyCstv996Q\n",
       "Bo29z8e+88PtPl9Hh2fK+XflkiAfEJm1IsfsW3zhgT4sC3KOG0uMXUkoXqnJ1pbq17+5jbidmJUb\n",
       "siPs9NEgtIr0nOHAD0p1wtHMtlWx+UERBUg7eegx9PvUO9yzNmMKco5TO0rsK1+Fhqe28syajeP5\n",
       "fF4+vI2X6KDVUFy2UEbjVrun7H++oe3I0bvN11/f5ncLJegf/lKl/Xw7qrIAAAAASUVORK5CYII=\n",
       "\" style=\"display:inline;vertical-align:middle;\" /></a><br>(see <a class=\"ProveItLink\" href=\"../../../__pv_it/theorems/68dd9bd3464ff2e4f8c0978e7dec0931ba25bf340/dependencies.ipynb\">dependencies</a>)<br>"
      ],
      "text/plain": [
       "<IPython.core.display.HTML object>"
      ]
     },
     "metadata": {},
     "output_type": "display_data"
    },
    {
     "name": "stdout",
     "output_type": "stream",
     "text": [
      "neg_int_is_int_neg may now be readily provable (assuming required theorems are usable).  Simply execute \"%qed\".\n"
     ]
    }
   ],
   "source": [
    "%proving neg_int_is_int_neg"
   ]
  },
  {
   "cell_type": "code",
   "execution_count": null,
   "metadata": {},
   "outputs": [],
   "source": []
  }
 ],
 "metadata": {
  "kernelspec": {
   "display_name": "Python 3",
   "language": "python",
   "name": "python3"
  }
 },
 "nbformat": 4,
 "nbformat_minor": 0
}