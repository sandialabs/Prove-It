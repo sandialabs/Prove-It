{
 "cells": [
  {
   "cell_type": "markdown",
   "metadata": {},
   "source": [
    "Proof of <a class=\"ProveItLink\" href=\"../../../../../../_theory_nbs_/theory.ipynb\">proveit</a>.<a class=\"ProveItLink\" href=\"../../../../../_theory_nbs_/theory.ipynb\">numbers</a>.<a class=\"ProveItLink\" href=\"../../../../_theory_nbs_/theory.ipynb\">number_sets</a>.<a class=\"ProveItLink\" href=\"../../theory.ipynb\">integers</a>.<a class=\"ProveItLink\" href=\"../../theorems.ipynb#nonpos_int_is_int_nonpos\">nonpos_int_is_int_nonpos</a> theorem\n",
    "========"
   ]
  },
  {
   "cell_type": "code",
   "execution_count": 1,
   "metadata": {},
   "outputs": [],
   "source": [
    "import proveit\n",
    "theory = proveit.Theory() # the theorem's theory"
   ]
  },
  {
   "cell_type": "code",
   "execution_count": 2,
   "metadata": {},
   "outputs": [
    {
     "data": {
      "text/html": [
       "With these <a href=\"allowed_presumptions.txt\">allowed</a>/<a href=\"disallowed_presumptions.txt\">disallowed</a> theorem/theory presumptions (e.g., to avoid circular dependencies), we begin our proof of<br><strong id=\"nonpos_int_is_int_nonpos\">nonpos_int_is_int_nonpos:</strong> <a class=\"ProveItLink\" href=\"../../../__pv_it/theorems/4a82a1b7dac5a655ec0e0c0c29e2504aa04de26f0/expr.ipynb\"><img src=\"data:image/png;base64,iVBORw0KGgoAAAANSUhEUgAAAL8AAAAaBAMAAAAUFZBoAAAAMFBMVEX///8AAAAAAAAAAAAAAAAA\n",
       "AAAAAAAAAAAAAAAAAAAAAAAAAAAAAAAAAAAAAAAAAAAv3aB7AAAAD3RSTlMAq1RmmUTNIjK7EInv\n",
       "3XZ/CtNrAAAACXBIWXMAAA7EAAAOxAGVKw4bAAADA0lEQVRIx7VWbUhTURh+tnm3effhFYI+fsSg\n",
       "oIYU609QhCwqsiJa2B8jSPBHJBF3Bf2SnBFEJGgG2rTs9NMMEyuiCSJC1IhKCIqIwYL+xEJECEEi\n",
       "es+53q95uWyLDmw773vufZ/343nfM+B/LO8QQjOT/2LBl3K1Pwo0ow11tQNsdUW/Q19v0KAG+mu1\n",
       "L7e7HEYH6CuwgnCMwqhx1SecEnPh9/nCvURwjgvBFUQSiDBA4eKWKgG6HD2/nUG7H4jnNIBwEVGy\n",
       "foifnasS4JiTsi6JaGKKNm05kaKGGOQVoIcnrNpi/HJSelSMycJSz2GtyEAH4Kc0hWLV2af4ram5\n",
       "X/gkKg+0eDJCld6EBZykzRHiFNXLX2UA0XmLIF1kBrByfXWnUqMdpd+f9HlXKLytEsDDWZqeuSqE\n",
       "K8wkFxsue/IsHbYAw05Wki4spUxLr/GAlRGkyVcse7KPUpZGQLF6l382ImzbCx9XMV3SBT+98DiB\n",
       "40Kw9BwnKYJZWkOrmu4UjyukD5bgt2wqooYm2BqAeBG+oqSrIuTBCeCreIdSXPiilSb2HGA2v56Q\n",
       "aW/RqPFBCsiHa5dRDrCHmBDOYNkSQR6yIKtsPjfG6b7eBtDNWdXOJ8Z48wtqEy35SQsA1+MHp3E3\n",
       "w5wJIP+Bb1EIJqM2UCfIi/YaUC9gqpP8+Bxcxpg2Cy9lTACh7xVt0sfwUa9TP+Ql4tI2LiwYJE2e\n",
       "oqP5NSxCl8LbPDiLVqGbCMEEEHrvCNMA3ut9MAuMYocWqj9mkLQTgQE7N/YJf8jjcIrm0m4qfwyT\n",
       "OTwyAIQeEkegFC3pvUWd/LB0Y7MIVd54WtOeGcxnP+Tt99h+o9pq/V52S7y8PYGcASD0FP061Vpk\n",
       "vLIakV5qo8JpdeibsNrXyup5JkJ1kObNCLiej8NGFi1Kius0dbqYjKElHdj5FIG7tNvVWBpUDACh\n",
       "5ysATH83ON5b6dWt2OXxbNa8zN1GuKfC8RtRXQ77a72TLcv1TjYBbvLpYvelqSL77heZWvv/IuMS\n",
       "paL9BX5ww+gJb4sKAAAAAElFTkSuQmCC\n",
       "\" style=\"display:inline;vertical-align:middle;\" /></a><br>(see <a class=\"ProveItLink\" href=\"../../../__pv_it/theorems/c1be1ab6fe3961ab0c1dc3b2ab6c195a322a63310/dependencies.ipynb\">dependencies</a>)<br>"
      ],
      "text/plain": [
       "<IPython.core.display.HTML object>"
      ]
     },
     "metadata": {},
     "output_type": "display_data"
    },
    {
     "name": "stdout",
     "output_type": "stream",
     "text": [
      "nonpos_int_is_int_nonpos may now be readily provable (assuming required theorems are usable).  Simply execute \"%qed\".\n"
     ]
    }
   ],
   "source": [
    "%proving nonpos_int_is_int_nonpos"
   ]
  },
  {
   "cell_type": "code",
   "execution_count": null,
   "metadata": {},
   "outputs": [],
   "source": []
  }
 ],
 "metadata": {
  "kernelspec": {
   "display_name": "Python 3",
   "language": "python",
   "name": "python3"
  }
 },
 "nbformat": 4,
 "nbformat_minor": 0
}