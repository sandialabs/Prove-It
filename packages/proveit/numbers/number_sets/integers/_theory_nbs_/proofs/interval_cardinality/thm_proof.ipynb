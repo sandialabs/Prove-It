{
 "cells": [
  {
   "cell_type": "markdown",
   "metadata": {},
   "source": [
    "Proof of <a class=\"ProveItLink\" href=\"../../../../../../_theory_nbs_/theory.ipynb\">proveit</a>.<a class=\"ProveItLink\" href=\"../../../../../_theory_nbs_/theory.ipynb\">numbers</a>.<a class=\"ProveItLink\" href=\"../../../../_theory_nbs_/theory.ipynb\">number_sets</a>.<a class=\"ProveItLink\" href=\"../../theory.ipynb\">integers</a>.<a class=\"ProveItLink\" href=\"../../theorems.ipynb#interval_cardinality\">interval_cardinality</a> theorem\n",
    "========"
   ]
  },
  {
   "cell_type": "code",
   "execution_count": 1,
   "metadata": {},
   "outputs": [],
   "source": [
    "import proveit\n",
    "theory = proveit.Theory() # the theorem's theory"
   ]
  },
  {
   "cell_type": "code",
   "execution_count": 2,
   "metadata": {},
   "outputs": [
    {
     "data": {
      "text/html": [
       "With these <a href=\"allowed_presumptions.txt\">allowed</a>/<a href=\"disallowed_presumptions.txt\">disallowed</a> theorem/theory presumptions (e.g., to avoid circular dependencies), we begin our proof of<br><strong id=\"interval_cardinality\">interval_cardinality:</strong> <a class=\"ProveItLink\" href=\"../../../__pv_it/theorems/e8828e274c2cf0c5e4ac2a72f66068d88c70f9540/expr.ipynb\"><img src=\"data:image/png;base64,iVBORw0KGgoAAAANSUhEUgAAAVEAAAAXBAMAAABALmG0AAAAMFBMVEX///8AAAAAAAAAAAAAAAAA\n",
       "AAAAAAAAAAAAAAAAAAAAAAAAAAAAAAAAAAAAAAAAAAAv3aB7AAAAD3RSTlMAq1RmmUTNIjK7EInv\n",
       "3XZ/CtNrAAAACXBIWXMAAA7EAAAOxAGVKw4bAAAEFklEQVRIx82XWWgTURSGT5NJJpmsLvTBggwI\n",
       "LrhFEaE+aMQVBC3oiyCaUovoi1N9EpRGKb6oRK1YoyLjg0KtmroEpSiKRdyolqIoaiFFQaG1FsFW\n",
       "IojnzExmySyJEcRbZjLLPWe+e+45/70F+Ism4B+2C3X2XdhpckcL2zIb+0e9rVuYhyz9NIoOnfaf\n",
       "xlPWyrbM5snhaTMeUbqbUhHpTBlhrh1oew+dj1mSzgTubG/pTxxB3x9oYDGAFfRgWyWgXEJGuGvb\n",
       "Yysor7NWtt54yS9M3ImkXorEDpwdSoWjlZAysVKk32xJyTZinwCemHLxFSndNKIFMnGAr4Q0CCVI\n",
       "PXlbUrLdYp/erpyOFJ6SgQhuxPdWlKZTS5EGem1JpzrORRFpAx5exOzp739WEekaHSlb8yln6uCd\n",
       "PMDbkJJt/fD4Ij1SnRhJr9GosfJXA5x2SEb7Vw0Kwko8Ngn+vKlDZgc3BjBUIGX6pRZVbLlRMWOU\n",
       "Sc2JkXQhHm4swSZgo4W+vu3KRdWTm2ek0vQbZ6UNDqrV1ycjsN341W5gzJqD8vUcoJm3iCnauvIQ\n",
       "NMyDzomRdBY9uY8sYkBbY2oIdyBdFxICV0UTqescjqGzcPdQImWr0ZoZgVCniRSD/RMBqnkzKdoy\n",
       "CYigzUUp0G9Ac4Kxf9+jxF4iTRHUCPHrCuoxHsuTGGw4sBuKSd2tVIRJIym0YO4Ej0LGvKS+Aw/q\n",
       "VKARLEmRaotBc3ROjDHdRDqCMYXEYjx1LL5F5L8GxLCsZfG4jpS7MShA+DhdpoYnGWefFqFMDpZY\n",
       "ySmTl5cwU572SXK6zqBTOidG0tn0hPLiOuo/99o3RovW23C8XY7frqSO9IqQEnwPpMsv4kfFyzmt\n",
       "9jM8VLtMu4gfcBlHfceq9tE2ksTENJBqToyktcRD5bEXR8nEfRRef8ydWC91uRoAHelyOAwwo4su\n",
       "W6VSBEU8FFJ/zvVSUglulD6ZkDtMgBN2eoq2VTG/cTlVnehI7wmKpDGUwVUYvWBdOColIRNdmE6n\n",
       "eejsgksa6UMYwPPGLimTlxZ2DxopN/l202fp4Us8QgrB+ZsxO1K05WqWFa3yqhOVdNyLenTxinwW\n",
       "yiAj+BdhoCMQ5A9JC+H0GHSppCiLrcS9fxXACDxQbELJUus+2K5RoaSjjUsvXyyl6D617oTUerED\n",
       "QmItqhYtCQx4erWYPvJ9X0S/TZPgrbsgqLRzqJTU7byPUncohd0MqPH3LJtzAw7zvrU5YE/h/bxx\n",
       "gyejGumG+YMxZafeMqy6aJMRhpxJV1ruT9vKX7X3WOz2ZHnrSKc1bfQ7uGiXEZodd2JSgWetbMtt\n",
       "NCi/UVg8FtswJ1I2B1QB7FIHVPYavfxsZVvu/0AE+akoecCJ1IeakP6DSfvXjf1vSH4DCVg5kdoa\n",
       "L5QAAAAASUVORK5CYII=\n",
       "\" style=\"display:inline;vertical-align:middle;\" /></a><br>(see <a class=\"ProveItLink\" href=\"../../../__pv_it/theorems/4f54d0f47ad2bd131c5d2a99a8a5943eec6969c80/dependencies.ipynb\">dependencies</a>)<br>"
      ],
      "text/plain": [
       "<IPython.core.display.HTML object>"
      ]
     },
     "metadata": {},
     "output_type": "display_data"
    }
   ],
   "source": [
    "%proving interval_cardinality"
   ]
  },
  {
   "cell_type": "code",
   "execution_count": null,
   "metadata": {},
   "outputs": [],
   "source": []
  }
 ],
 "metadata": {
  "kernelspec": {
   "display_name": "Python 3",
   "language": "python",
   "name": "python3"
  }
 },
 "nbformat": 4,
 "nbformat_minor": 0
}