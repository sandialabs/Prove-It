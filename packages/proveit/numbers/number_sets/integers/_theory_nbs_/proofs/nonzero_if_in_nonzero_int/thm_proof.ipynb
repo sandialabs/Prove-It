{
 "cells": [
  {
   "cell_type": "markdown",
   "metadata": {},
   "source": [
    "Proof of <a class=\"ProveItLink\" href=\"../../../../../../_theory_nbs_/theory.ipynb\">proveit</a>.<a class=\"ProveItLink\" href=\"../../../../../_theory_nbs_/theory.ipynb\">numbers</a>.<a class=\"ProveItLink\" href=\"../../../../_theory_nbs_/theory.ipynb\">number_sets</a>.<a class=\"ProveItLink\" href=\"../../theory.ipynb\">integers</a>.<a class=\"ProveItLink\" href=\"../../theorems.ipynb#nonzero_if_in_nonzero_int\">nonzero_if_in_nonzero_int</a> theorem\n",
    "========"
   ]
  },
  {
   "cell_type": "code",
   "execution_count": 1,
   "metadata": {},
   "outputs": [],
   "source": [
    "import proveit\n",
    "theory = proveit.Theory() # the theorem's theory"
   ]
  },
  {
   "cell_type": "code",
   "execution_count": 2,
   "metadata": {},
   "outputs": [
    {
     "data": {
      "text/html": [
       "With these <a href=\"allowed_presumptions.txt\">allowed</a>/<a href=\"disallowed_presumptions.txt\">disallowed</a> theorem/theory presumptions (e.g., to avoid circular dependencies), we begin our proof of<br><strong id=\"nonzero_if_in_nonzero_int\">nonzero_if_in_nonzero_int:</strong> <a class=\"ProveItLink\" href=\"../../../__pv_it/theorems/25a1a52bfc85759a104021c15dcea6d1e5b33bc70/expr.ipynb\"><img src=\"data:image/png;base64,iVBORw0KGgoAAAANSUhEUgAAAIcAAAAVCAMAAABblw1wAAAASFBMVEX///8AAAAAAAAAAAAAAAAA\n",
       "AAAAAAAAAAAAAAAAAAAAAAAAAAAAAAAAAAAAAAAAAAAAAAAAAAAAAAAAAAAAAAAAAAAAAAAAAACC\n",
       "gUnDAAAAF3RSTlMAq1RmmUTNIjK7EInv3Xah18O15/Xp87zmPDoAAAAJcEhZcwAADsQAAA7EAZUr\n",
       "DhsAAAI3SURBVEjHvVYJcuQgDDQgLnFkb///p4sEePA9ibeWSpHCDFKr1RJM0z8d9j+duRlZXu8D\n",
       "HnzUmWaxrKV6CkOG633nx1UIGZiLTI5B9+/mKUFobn7g3bAwhTtM7NMUmlwnxPqndMANoU4MC5WY\n",
       "E3aqoIHhT/IpjnhHx0i4Z1ByZu+xzKpFYR6r48aCHumYZmCKZo7eEIaYaMTwOC3dghUh27zbX+kP\n",
       "Ow5mIRBEYPV4fIrDNGJ1LA79vNgDjjP9/EXzosY5VByMVxmG36f3qoIM2CzztrxSFRhGLsN0SccL\n",
       "B/+TsVMR9JlfEX2A8reE1yttK4dYTcDMoLZp1rCOpgLQlQ/HZ2Q+UqnLwvtimko8YO40K80xN5Ef\n",
       "4Iie3ehLOrpOZdWpjq1U1E5WAK3pFJadtMR1AICPb1A6nyXWkzvKC3KEah4skS5+/6kqWdLva+eo\n",
       "MpKptY7eRDCoHGzvta9UrLPS+NhE6HPFQXCEmeRq22zLQDEFUPOgag+1scGkPuvmYgDH5qqs5NAL\n",
       "H99/APHBadymMogFjkwDdA4Ydnkn+jC6VckL15NRkkBA9UAH5qmLDru5Ui9qWy+ukosiB2dFdpd0\n",
       "kK2Qu9+k91LLggva8yCOQ5FpOYZn9/YrQvfFi9huihwpJV4Vl+51UEvHIsVWK+dDwWmLw89dkJHk\n",
       "oRWO7TVwpnV6o8X5k5eDuqFjd9NrUDIHxXu9bIUoCffmnX6LJ0+HhF+C3yqY9KE/+dTMxw+P68ck\n",
       "wfgLizYRIDdHQkUAAAAASUVORK5CYII=\n",
       "\" style=\"display:inline;vertical-align:middle;\" /></a><br>(see <a class=\"ProveItLink\" href=\"../../../__pv_it/theorems/ceceed85b6867326ed2a47605faa64f5c904aeae0/dependencies.ipynb\">dependencies</a>)<br>"
      ],
      "text/plain": [
       "<IPython.core.display.HTML object>"
      ]
     },
     "metadata": {},
     "output_type": "display_data"
    }
   ],
   "source": [
    "%proving nonzero_if_in_nonzero_int"
   ]
  },
  {
   "cell_type": "code",
   "execution_count": null,
   "metadata": {},
   "outputs": [],
   "source": []
  }
 ],
 "metadata": {
  "kernelspec": {
   "display_name": "Python 3",
   "language": "python",
   "name": "python3"
  }
 },
 "nbformat": 4,
 "nbformat_minor": 0
}