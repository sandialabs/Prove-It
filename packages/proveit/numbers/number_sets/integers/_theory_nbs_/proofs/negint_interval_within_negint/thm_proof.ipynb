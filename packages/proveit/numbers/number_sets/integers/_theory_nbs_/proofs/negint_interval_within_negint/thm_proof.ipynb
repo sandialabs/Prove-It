{
 "cells": [
  {
   "cell_type": "markdown",
   "metadata": {},
   "source": [
    "Proof of <a class=\"ProveItLink\" href=\"../../../../../../_theory_nbs_/theory.ipynb\">proveit</a>.<a class=\"ProveItLink\" href=\"../../../../../_theory_nbs_/theory.ipynb\">numbers</a>.<a class=\"ProveItLink\" href=\"../../../../_theory_nbs_/theory.ipynb\">number_sets</a>.<a class=\"ProveItLink\" href=\"../../theory.ipynb\">integers</a>.<a class=\"ProveItLink\" href=\"../../theorems.ipynb#negint_interval_within_negint\">negint_interval_within_negint</a> theorem\n",
    "========"
   ]
  },
  {
   "cell_type": "code",
   "execution_count": 1,
   "metadata": {},
   "outputs": [],
   "source": [
    "import proveit\n",
    "theory = proveit.Theory() # the theorem's theory"
   ]
  },
  {
   "cell_type": "code",
   "execution_count": 2,
   "metadata": {},
   "outputs": [
    {
     "data": {
      "text/html": [
       "With these <a href=\"allowed_presumptions.txt\">allowed</a>/<a href=\"disallowed_presumptions.txt\">disallowed</a> theorem/theory presumptions (e.g., to avoid circular dependencies), we begin our proof of<br><strong id=\"negint_interval_within_negint\">negint_interval_within_negint:</strong> <a class=\"ProveItLink\" href=\"../../../__pv_it/theorems/362ef306d67d972aa4911266fe1db258628916800/expr.ipynb\"><img src=\"data:image/png;base64,iVBORw0KGgoAAAANSUhEUgAAAN8AAAAZBAMAAABDZua2AAAAMFBMVEX///8AAAAAAAAAAAAAAAAA\n",
       "AAAAAAAAAAAAAAAAAAAAAAAAAAAAAAAAAAAAAAAAAAAv3aB7AAAAD3RSTlMAq1RmmUTNIjK7EInv\n",
       "3XZ/CtNrAAAACXBIWXMAAA7EAAAOxAGVKw4bAAADKElEQVRIx7VWTWgTQRR+abLZ7ebHqPgDQllQ\n",
       "UChqvAiKlEjT0iJqoHoRwYVapNXDVj0GuxXBg4W2ItXUv+0xVptaK2JRKYhoKNXeBEsgvXipBwmU\n",
       "SpTim91sdrKbbDZUH+wwM+/t+2be7wA4JncM1kme2sR3rRcP2KFapHmRDKft9O2upqOpFsD6MA7f\n",
       "z9iJ9I+ad+ou/enOPAjry4ACECKTnQ4A4+T/fCVucp6Mw+bt4LAMotdYIloLmVxwAHgMP99CRfZ5\n",
       "Mry1hEkEguEp4BJId9EjeOB+p85csQfMlQV0SZDkKe2dAF40q0+ojsflbQGZPA0YfJjJZGQSZABt\n",
       "LtkQa8fsQo96HVwwuGALqHEKgNxFyTho6AYl9gO/+UxmzgGgS9TV9r67ZmV7G5aEIuAziQpuhQ7d\n",
       "c2jPNoBRJ1lBPOFBVOYjPFYs7FQPv6pdAGkLxWh0Z6nVIJq3F9iQA0AvEYqj/Z+G4biVvV+BzwB9\n",
       "WjCIFEMs8VdfjNzZVyySXLduwPT0/UiJxgAue7twchJg0QrYCvAbY2SroLqNcr3wEsAwSAqh6rLU\n",
       "GXYQ+aVELCD5JhTLDbl23EsDv2IFXAQGE8PXpZY4CjBJUm6bcUMSsSJV4T7hF8VNN1y/Amw0Gm0p\n",
       "MWl9CPg1cP8sl4aevGpYQlQsb8dM5A35QRJOUz04jDe9IpdbW1KCWuWLRExROqRFKZ/DgLVW6V/E\n",
       "t/BGWzQbSRE5hb8ulEQpxPHs/FdulVj8WzCS1JrfZdmUh7OFtHgEe7XDpER9QNoMd4w89MaMpOgB\n",
       "9rZRao6oZ5dJzeNm1Y7gFjtUzoSvXCkhgGPLNxtkPYy0AWlsOmwA8sN6Uzk7kk58SU8WtRzVJ/4Y\n",
       "KeTglz2hg1hnBZicgSeliB/saynQpY15XShtZuoshqtUfxjNuwH8wi31jz1hmKmpW0DZ4m1u4sX2\n",
       "5pcGO5RxbJCH0OxEswcYk/IB3ZE21FrtWVRMGKZ53wsYELgTWWDv4frAxuURU/1xYU6zOfsLvK8C\n",
       "GJBK11phGk8kYpXeNFc32b1pnldrc6Y3DaPYSjf+81eb+7+/S/FGfwF+Gb9ZFg9mWwAAAABJRU5E\n",
       "rkJggg==\n",
       "\" style=\"display:inline;vertical-align:middle;\" /></a><br>(see <a class=\"ProveItLink\" href=\"../../../__pv_it/theorems/f27d29066465df640650d4ea725fb791497cb97b0/dependencies.ipynb\">dependencies</a>)<br>"
      ],
      "text/plain": [
       "<IPython.core.display.HTML object>"
      ]
     },
     "metadata": {},
     "output_type": "display_data"
    }
   ],
   "source": [
    "%proving negint_interval_within_negint"
   ]
  },
  {
   "cell_type": "code",
   "execution_count": null,
   "metadata": {},
   "outputs": [],
   "source": []
  }
 ],
 "metadata": {
  "kernelspec": {
   "display_name": "Python 3",
   "language": "python",
   "name": "python3"
  }
 },
 "nbformat": 4,
 "nbformat_minor": 0
}