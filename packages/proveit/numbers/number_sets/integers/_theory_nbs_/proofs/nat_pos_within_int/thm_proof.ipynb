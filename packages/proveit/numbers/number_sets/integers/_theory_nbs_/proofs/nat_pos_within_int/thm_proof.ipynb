{
 "cells": [
  {
   "cell_type": "markdown",
   "metadata": {},
   "source": [
    "Proof of <a class=\"ProveItLink\" href=\"../../../../../../_theory_nbs_/theory.ipynb\">proveit</a>.<a class=\"ProveItLink\" href=\"../../../../../_theory_nbs_/theory.ipynb\">numbers</a>.<a class=\"ProveItLink\" href=\"../../../../_theory_nbs_/theory.ipynb\">number_sets</a>.<a class=\"ProveItLink\" href=\"../../theory.ipynb\">integers</a>.<a class=\"ProveItLink\" href=\"../../theorems.ipynb#nat_pos_within_int\">nat_pos_within_int</a> theorem\n",
    "========"
   ]
  },
  {
   "cell_type": "code",
   "execution_count": 1,
   "metadata": {},
   "outputs": [],
   "source": [
    "import proveit\n",
    "theory = proveit.Theory() # the theorem's theory"
   ]
  },
  {
   "cell_type": "code",
   "execution_count": 2,
   "metadata": {},
   "outputs": [
    {
     "data": {
      "text/html": [
       "With these <a href=\"allowed_presumptions.txt\">allowed</a>/<a href=\"disallowed_presumptions.txt\">disallowed</a> theorem/theory presumptions (e.g., to avoid circular dependencies), we begin our proof of<br><strong id=\"nat_pos_within_int\">nat_pos_within_int:</strong> <a class=\"ProveItLink\" href=\"../../../__pv_it/theorems/eac6d1dbf684bfc5657625c397ae88d8a727c9d60/expr.ipynb\"><img src=\"data:image/png;base64,iVBORw0KGgoAAAANSUhEUgAAAEYAAAATBAMAAADfQ2bzAAAAMFBMVEX///8AAAAAAAAAAAAAAAAA\n",
       "AAAAAAAAAAAAAAAAAAAAAAAAAAAAAAAAAAAAAAAAAAAv3aB7AAAAD3RSTlMAEN27zYnvRFSrImZ2\n",
       "MpmnAiL6AAAACXBIWXMAAA7EAAAOxAGVKw4bAAABGUlEQVQoz2NggAM+BsKAmSI1Qp9NBBjCvhVg\n",
       "U8Ph9s1ZyWwDA4MF+wQGxg9YzeGxvMDgwAJkTFoQzcCQwPDY2MzYeAOqGr4HDDwbIoCMGQYsCxgU\n",
       "sJrDuYBBmNEAyJi1h8sBVQ2PkZKS0gUgg5GB4S0niDGL88JRFDW8rgvgJvFOuAeiZjEYMBcgqxFa\n",
       "gBQeAoYQNfcYFRWQwnk6kotauQ9A1HA3NCcgiTsgs1kYIGoYJnIiqeGdgBRADeEMDAJgNZKMCghx\n",
       "LiQ1wlwGYAVAxHvAAMl8JPVzgSEEigNbIPsssprXCGsf1AEDEqjHA+QlZHeyFCB87sjAZWHAcOUb\n",
       "0AxGZDWMloVQVplJsnF+cgC25MIeDI0LKAAAgmM5tAHArggAAAAASUVORK5CYII=\n",
       "\" style=\"display:inline;vertical-align:middle;\" /></a><br>(see <a class=\"ProveItLink\" href=\"../../../__pv_it/theorems/90ac6a2124ab0233f6fa884959824a61353e08760/dependencies.ipynb\">dependencies</a>)<br>"
      ],
      "text/plain": [
       "<IPython.core.display.HTML object>"
      ]
     },
     "metadata": {},
     "output_type": "display_data"
    },
    {
     "name": "stdout",
     "output_type": "stream",
     "text": [
      "nat_pos_within_int may now be readily provable (assuming required theorems are usable).  Simply execute \"%qed\".\n"
     ]
    }
   ],
   "source": [
    "%proving nat_pos_within_int"
   ]
  },
  {
   "cell_type": "code",
   "execution_count": null,
   "metadata": {},
   "outputs": [],
   "source": []
  }
 ],
 "metadata": {
  "kernelspec": {
   "display_name": "Python 3",
   "language": "python",
   "name": "python3"
  }
 },
 "nbformat": 4,
 "nbformat_minor": 0
}