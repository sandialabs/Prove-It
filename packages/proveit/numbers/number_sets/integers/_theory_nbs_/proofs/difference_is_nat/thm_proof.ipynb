{
 "cells": [
  {
   "cell_type": "markdown",
   "metadata": {},
   "source": [
    "Proof of <a class=\"ProveItLink\" href=\"../../../../../../_theory_nbs_/theory.ipynb\">proveit</a>.<a class=\"ProveItLink\" href=\"../../../../../_theory_nbs_/theory.ipynb\">numbers</a>.<a class=\"ProveItLink\" href=\"../../../../_theory_nbs_/theory.ipynb\">number_sets</a>.<a class=\"ProveItLink\" href=\"../../theory.ipynb\">integers</a>.<a class=\"ProveItLink\" href=\"../../theorems.ipynb#difference_is_nat\">difference_is_nat</a> theorem\n",
    "========"
   ]
  },
  {
   "cell_type": "code",
   "execution_count": 1,
   "metadata": {},
   "outputs": [],
   "source": [
    "import proveit\n",
    "theory = proveit.Theory() # the theorem's theory"
   ]
  },
  {
   "cell_type": "code",
   "execution_count": 2,
   "metadata": {},
   "outputs": [
    {
     "data": {
      "text/html": [
       "With these <a href=\"allowed_presumptions.txt\">allowed</a>/<a href=\"disallowed_presumptions.txt\">disallowed</a> theorem/theory presumptions (e.g., to avoid circular dependencies), we begin our proof of<br><strong id=\"difference_is_nat\">difference_is_nat:</strong> <a class=\"ProveItLink\" href=\"../../../__pv_it/theorems/09160fea556234fd4100d4af15ef4a1fc04606810/expr.ipynb\"><img src=\"data:image/png;base64,iVBORw0KGgoAAAANSUhEUgAAAOUAAAAXBAMAAAAGvZU3AAAAMFBMVEX///8AAAAAAAAAAAAAAAAA\n",
       "AAAAAAAAAAAAAAAAAAAAAAAAAAAAAAAAAAAAAAAAAAAv3aB7AAAAD3RSTlMAq1RmmUTNIjK7EInv\n",
       "3XZ/CtNrAAAACXBIWXMAAA7EAAAOxAGVKw4bAAADQUlEQVRIx71WW0gUURj+9j4ze3HzZUEpFnoo\n",
       "H4otRMgH2dCol3LBCCLIyZeop7FeS9YQe0hwUdK2i40vQVq6ZBBIhRShEsG+JcbCGkGXJVkCk0Kk\n",
       "c1tnL7OLLdQP38yc78yeb/7bOQtUby4BU9P+kt+mfRQwtbNF48e/RnQ834hQ3k+J3dVIWhMcJabc\n",
       "TQK+UBE75PBDyTL+CB2fr0bzgUCpOcPkcrGI3KnNAHOM76VJiVWj2SpQajVBcmksImtjTg1Jxjt1\n",
       "wB2sRnNOoNQ6yZrw6HzwNZVS6T3Q4lKpJuFtJL7OqtKpcpjYCxZgntBT3wQZsEQzVJPy71Kpt9Vo\n",
       "2hMc6H7ZUzR1brWWBI9Vp2srrQHE5EiS88eA2xVWLjtDv5fCMY/7emHd/tSnNdhYDJyaodmnLBNN\n",
       "ynfD5c/x0gXxYFl8eocWH2Q27OdFZh3NW9kb5HgUwvGiqP+GJw0ry7WRtgBswQbCUV7W3ZGtiXoq\n",
       "vBKPeDX3lG5oWlgbWsfyV/ZEONqBD6x1UtSWaGxU1CQgZSk7QMkY10SdhehR3prOK6EFgrYoCQCu\n",
       "XYah6SEUbMMw01yEslbopzeBziAczM+HeX5iXCGxZbzaQi6TLc+oi5sruthAwuE8zcHVOviGWK5m\n",
       "MlpBbJVN2LIl7dmuw5pkb+VrSmniMeOfkNJS3kvr5NG37AvzL7NdiuZpftc/Sa/4tqkNCk05zaD8\n",
       "gEXdU6gZVV6TFVhEfekce4vgS0zwV0gJ2cMSdVkO2dQO9saUG3maw2hCwyx9asOAWIPWPMUY9omY\n",
       "5MwSksOij4CuHNvFM815S5QmxudnebP7m+LxeBCJWUwYmgs4DJymom+wkqvxJMd45vquaGGv1NMt\n",
       "0csrc/wmb6T+DeKfom7xwLQmN5O5GniCN+jYsTeEWUMzCxrZ3qNQ1jE8IX6zJFDGror7mXsp1YyH\n",
       "Rxvs0Cfh1Q+R3qGBs8ORNDSXeXK66zAvrTWL3zSabORFR0BF3tG6fwYDQelEGi6a7AM7MiN+Q7Nv\n",
       "NXfInzyYyR2MssZR5k9EbHs8P14m43Fjk5DLO6LEOMyt3NcU8Q7d5JUKu3yPgKl93h5vQwVNiZRz\n",
       "fBT/w1z/YM0/QI/XMtWY//sAAAAASUVORK5CYII=\n",
       "\" style=\"display:inline;vertical-align:middle;\" /></a><br>(see <a class=\"ProveItLink\" href=\"../../../__pv_it/theorems/652633ff7939a095fafb060a233cc002a26df37a0/dependencies.ipynb\">dependencies</a>)<br>"
      ],
      "text/plain": [
       "<IPython.core.display.HTML object>"
      ]
     },
     "metadata": {},
     "output_type": "display_data"
    },
    {
     "name": "stdout",
     "output_type": "stream",
     "text": [
      "difference_is_nat may now be readily provable (assuming required theorems are usable).  Simply execute \"%qed\".\n"
     ]
    }
   ],
   "source": [
    "%proving difference_is_nat"
   ]
  },
  {
   "cell_type": "code",
   "execution_count": null,
   "metadata": {},
   "outputs": [],
   "source": []
  }
 ],
 "metadata": {
  "kernelspec": {
   "display_name": "Python 3",
   "language": "python",
   "name": "python3"
  }
 },
 "nbformat": 4,
 "nbformat_minor": 0
}