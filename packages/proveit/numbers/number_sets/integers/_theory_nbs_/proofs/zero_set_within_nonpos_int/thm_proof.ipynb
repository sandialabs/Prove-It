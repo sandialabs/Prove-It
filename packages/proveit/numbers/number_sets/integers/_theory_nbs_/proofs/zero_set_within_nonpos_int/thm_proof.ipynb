{
 "cells": [
  {
   "cell_type": "markdown",
   "metadata": {},
   "source": [
    "Proof of <a class=\"ProveItLink\" href=\"../../../../../../_theory_nbs_/theory.ipynb\">proveit</a>.<a class=\"ProveItLink\" href=\"../../../../../_theory_nbs_/theory.ipynb\">numbers</a>.<a class=\"ProveItLink\" href=\"../../../../_theory_nbs_/theory.ipynb\">number_sets</a>.<a class=\"ProveItLink\" href=\"../../theory.ipynb\">integers</a>.<a class=\"ProveItLink\" href=\"../../theorems.ipynb#zero_set_within_nonpos_int\">zero_set_within_nonpos_int</a> theorem\n",
    "========"
   ]
  },
  {
   "cell_type": "code",
   "execution_count": 1,
   "metadata": {},
   "outputs": [],
   "source": [
    "import proveit\n",
    "theory = proveit.Theory() # the theorem's theory"
   ]
  },
  {
   "cell_type": "code",
   "execution_count": 2,
   "metadata": {},
   "outputs": [
    {
     "data": {
      "text/html": [
       "With these <a href=\"allowed_presumptions.txt\">allowed</a>/<a href=\"disallowed_presumptions.txt\">disallowed</a> theorem/theory presumptions (e.g., to avoid circular dependencies), we begin our proof of<br><strong id=\"zero_set_within_nonpos_int\">zero_set_within_nonpos_int:</strong> <a class=\"ProveItLink\" href=\"../../../__pv_it/theorems/00adb053c7b790355df96cca955a6133bbf0212b0/expr.ipynb\"><img src=\"data:image/png;base64,iVBORw0KGgoAAAANSUhEUgAAAF0AAAAYBAMAAABqyuwvAAAAMFBMVEX///8AAAAAAAAAAAAAAAAA\n",
       "AAAAAAAAAAAAAAAAAAAAAAAAAAAAAAAAAAAAAAAAAAAv3aB7AAAAD3RSTlMAEER2zVSJ3Zki72ar\n",
       "MruaaVGaAAAACXBIWXMAAA7EAAAOxAGVKw4bAAABuElEQVQ4y42Tv0vDUBDHv7EajTVtt4pD/TGJ\n",
       "iAg6OdWCDg6SSXDRaBFBRLpI1wouIkpGkYJdnMQa8B9Q0cGh0NHBIaIiaikWqYMuXt5L0thUzQ3v\n",
       "Xe4+udyvAD6l5RliUoVv/B44xZBfPPhKxzHCGl1CH7dJs7/igUfTX0G7Qvdor2W9vfNkMfU5nX7R\n",
       "5UPzQa6gVSdbhXQxuUVnyRO3VES8GZhb4Hz7MKEp0icQpdSW6/m2DAL6EilDCyyfsML5YAqi0YDv\n",
       "0BATDJbrll2vyYfOWFo2H3hKp9NFsxXATkeR2bLnGMEgOB/OQK46vDypOV+Qz24sTaMiNyy+m/gv\n",
       "h4/WcIQi9U1riwMHKuR3YIxbLlzemeBwHb+vc/6DLoVZ4i6v2U3IZZJnbsgm6OhW0UTxhUuFpewa\n",
       "gLIIRNzh5d0Iq7eF6hUTbC9cfEyibl7/yId6iZCBIPVznkdK1ZwFmoDw9oNn88qxsle4Zbv28Uw/\n",
       "DS3l4bGOrqLTz+aeWjfHIT0aXr4zWYDDCyV7Ywce8uWTvOrludj70LRm7UMjacD/KYGco2764aWq\n",
       "rQlHvv7lvSvrxVXlf/gbpOttFqmNgd4AAAAASUVORK5CYII=\n",
       "\" style=\"display:inline;vertical-align:middle;\" /></a><br>(see <a class=\"ProveItLink\" href=\"../../../__pv_it/theorems/ad7c68fe8ec74ee43be8d5c19584eaeef12ee3480/dependencies.ipynb\">dependencies</a>)<br>"
      ],
      "text/plain": [
       "<IPython.core.display.HTML object>"
      ]
     },
     "metadata": {},
     "output_type": "display_data"
    }
   ],
   "source": [
    "%proving zero_set_within_nonpos_int"
   ]
  },
  {
   "cell_type": "code",
   "execution_count": null,
   "metadata": {},
   "outputs": [],
   "source": []
  }
 ],
 "metadata": {
  "kernelspec": {
   "display_name": "Python 3",
   "language": "python",
   "name": "python3"
  }
 },
 "nbformat": 4,
 "nbformat_minor": 0
}