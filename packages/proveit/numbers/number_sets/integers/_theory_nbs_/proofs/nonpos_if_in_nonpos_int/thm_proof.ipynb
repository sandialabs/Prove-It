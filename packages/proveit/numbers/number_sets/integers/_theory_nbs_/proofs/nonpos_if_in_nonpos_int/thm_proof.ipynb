{
 "cells": [
  {
   "cell_type": "markdown",
   "metadata": {},
   "source": [
    "Proof of <a class=\"ProveItLink\" href=\"../../../../../../_theory_nbs_/theory.ipynb\">proveit</a>.<a class=\"ProveItLink\" href=\"../../../../../_theory_nbs_/theory.ipynb\">numbers</a>.<a class=\"ProveItLink\" href=\"../../../../_theory_nbs_/theory.ipynb\">number_sets</a>.<a class=\"ProveItLink\" href=\"../../theory.ipynb\">integers</a>.<a class=\"ProveItLink\" href=\"../../theorems.ipynb#nonpos_if_in_nonpos_int\">nonpos_if_in_nonpos_int</a> theorem\n",
    "========"
   ]
  },
  {
   "cell_type": "code",
   "execution_count": 1,
   "metadata": {},
   "outputs": [],
   "source": [
    "import proveit\n",
    "theory = proveit.Theory() # the theorem's theory"
   ]
  },
  {
   "cell_type": "code",
   "execution_count": 2,
   "metadata": {},
   "outputs": [
    {
     "data": {
      "text/html": [
       "With these <a href=\"allowed_presumptions.txt\">allowed</a>/<a href=\"disallowed_presumptions.txt\">disallowed</a> theorem/theory presumptions (e.g., to avoid circular dependencies), we begin our proof of<br><strong id=\"nonpos_if_in_nonpos_int\">nonpos_if_in_nonpos_int:</strong> <a class=\"ProveItLink\" href=\"../../../__pv_it/theorems/dd1526c61ec866ca4b11e66e62504ec8607b098e0/expr.ipynb\"><img src=\"data:image/png;base64,iVBORw0KGgoAAAANSUhEUgAAAIcAAAAVBAMAAACeZ+BxAAAAMFBMVEX///8AAAAAAAAAAAAAAAAA\n",
       "AAAAAAAAAAAAAAAAAAAAAAAAAAAAAAAAAAAAAAAAAAAv3aB7AAAAD3RSTlMAq1RmmUTNIjK7EInv\n",
       "3XZ/CtNrAAAACXBIWXMAAA7EAAAOxAGVKw4bAAACQElEQVQ4y52UT2jTcBTHv03SpmmaUhFFECQw\n",
       "EEHYKsgOolthrQx2CewqOvSg7JS5Hd2oXmVsXjajIBG8zOFa/8B0Xgoi/kMoOtlAKhkIG3jZQRD0\n",
       "4nvZkrRpu4g/SPve7/d7n9/vfd9LgH8b5n+shEdG77h0np4sG11RkOPtp19+N5HJAUV2LkcwUiOh\n",
       "CcGNSOipNWAUuE6OPBsBkXLNvrhq898Z4AVwkmjkqnoEJB1S6KvLwC2gx0bahkiHJKIkOdrkLX7b\n",
       "NX4CMzoSRPhYr3+Iggxxzoc3Hdd58NlTiiE5qFSbQeBOWzEb7Ev0nDOV32zfv+jNyn8I4kAk1ccg\n",
       "Z9swxEOY6vYa6RMxX0GqsR1rhlQgVAHFVo2G4Ni7Z3fzlPcg186r7Gsq0Da0iutM+OkQ5IKD5DaV\n",
       "3PF1TW5YhmaqSzYmlmlPFe8DSHoWZaNV2B4dcboJRvo8SKFEaeDGOOQvfNsa1oN0yg76wyW2gH4b\n",
       "Amf5ZJTpfctuA9PIUzbiAfcmb3aj7hFEx0HBbG6208BZcrhVr5GuqbXkLyzsbLha4r7eT1f0NXlM\n",
       "0jnCqhS0/RX+1fTUW1KLpYpRkJRPVjHsri+pO/oUMdXlnTxNxxx5PrYV7oKhDYrVvLqkjUwWvZZl\n",
       "6ais4GG43lppj06c9IyyqZyyb7IVP5bDilwoFIqNTZPfAzLgv2HmzLCtsFqqhHitZeN8YD6q81j3\n",
       "/eATEB/ofgr5Nlkn9v2Ya+3ghc4XUULfx0XLMtrvlJ2OkE3gL/KGiVvR8vBtAAAAAElFTkSuQmCC\n",
       "\" style=\"display:inline;vertical-align:middle;\" /></a><br>(see <a class=\"ProveItLink\" href=\"../../../__pv_it/theorems/3088a17093724247b013419bae336582e910f16e0/dependencies.ipynb\">dependencies</a>)<br>"
      ],
      "text/plain": [
       "<IPython.core.display.HTML object>"
      ]
     },
     "metadata": {},
     "output_type": "display_data"
    },
    {
     "name": "stdout",
     "output_type": "stream",
     "text": [
      "nonpos_if_in_nonpos_int may now be readily provable (assuming required theorems are usable).  Simply execute \"%qed\".\n"
     ]
    }
   ],
   "source": [
    "%proving nonpos_if_in_nonpos_int"
   ]
  },
  {
   "cell_type": "code",
   "execution_count": null,
   "metadata": {},
   "outputs": [],
   "source": []
  }
 ],
 "metadata": {
  "kernelspec": {
   "display_name": "Python 3",
   "language": "python",
   "name": "python3"
  }
 },
 "nbformat": 4,
 "nbformat_minor": 0
}