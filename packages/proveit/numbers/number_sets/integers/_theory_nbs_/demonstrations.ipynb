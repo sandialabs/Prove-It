{
 "cells": [
  {
   "cell_type": "markdown",
   "metadata": {},
   "source": [
    "Demonstrations for the theory of <a class=\"ProveItLink\" href=\"theory.ipynb\">proveit.numbers.number_sets.integers</a>\n",
    "========"
   ]
  },
  {
   "cell_type": "code",
   "execution_count": 1,
   "metadata": {},
   "outputs": [],
   "source": [
    "import proveit\n",
    "from proveit import a, b, c, d, n, x, ProofFailure\n",
    "from proveit.logic import Boolean, NotEquals, InSet, NotInSet, Or\n",
    "from proveit.numbers import Neg, Less, LessEq, greater, greater_eq, number_ordering\n",
    "from proveit.numbers import (zero, one, two, three, four, five, six, seven,\n",
    "                             eight, nine, Integer, IntegerNonZero, IntegerNeg, IntegerNonPos,\n",
    "                             Interval, Natural, NaturalPos)\n",
    "%begin demonstrations"
   ]
  },
  {
   "cell_type": "markdown",
   "metadata": {},
   "source": [
    "# Natural Numbers $\\mathbb{N}$, Positive Natural Numbers $\\mathbb{N}^{+}$, & Integer Numbers $\\mathbb{Z}$\n",
    "\n",
    "### UNDER CONSTRUCTION"
   ]
  },
  {
   "cell_type": "markdown",
   "metadata": {},
   "source": [
    "<div style=\"line-height:1.4; font-size:14pt\">\n",
    "\n",
    "<a href='#introduction'>Introduction</a><br>\n",
    "<a href='#simple_expressions'>Simple Expressions involving the Natural numbers $\\mathbb{N}$ and the Integer numbers $\\mathbb{Z}$</a><br>\n",
    "<a href='#common_attributes'>Common Attributes of NumberSet classes</a><br>\n",
    "<a href='#axioms'>Axioms</a><br>\n",
    "<a href='#further_demonstrations'>Further Demonstrations</a><br>\n",
    "    <ol>\n",
    "        <li><a href='#demo01'>Demo 1</a></li>\n",
    "        <li><a href='#demo02'>Demo 2</a></li>\n",
    "        <li><a href='#demo03'>Demo 3</a></li>\n",
    "    </ol>\n",
    "\n",
    "</div>\n"
   ]
  },
  {
   "cell_type": "markdown",
   "metadata": {},
   "source": [
    "## Introduction <a id='introduction'></a>"
   ]
  },
  {
   "cell_type": "markdown",
   "metadata": {},
   "source": [
    "<font size=4>UNDER CONSTRUCTION. Something here about the importance of having and using specifically pre-defined number sets such as the Natural number set ($\\mathbb{N}$) and Integer number set ($\\mathbb{Z}$), the axiomatic definitions, and perhaps the distinctiveness from the Real numbers ($\\mathbb{R}$).</font>"
   ]
  },
  {
   "cell_type": "code",
   "execution_count": 2,
   "metadata": {},
   "outputs": [
    {
     "data": {
      "text/html": [
       "<span style=\"font-size:20px;\"> <a class=\"ProveItLink\" href=\"../__pv_it/demonstrations/37935226e0e24f97aae7b86ad0d5439ad3d911f40/proof.ipynb\" style=\"text-decoration: none\">&nbsp;&#x22A2;&nbsp;&nbsp;</a><a class=\"ProveItLink\" href=\"../__pv_it/demonstrations/c40f4fbc3c2edb6681c99020279c63f70b93804e0/expr.ipynb\"><img src=\"data:image/png;base64,iVBORw0KGgoAAAANSUhEUgAAAGkAAAAVBAMAAAC3TN2zAAAAMFBMVEX///8AAAAAAAAAAAAAAAAA\n",
       "AAAAAAAAAAAAAAAAAAAAAAAAAAAAAAAAAAAAAAAAAAAv3aB7AAAAD3RSTlMAInZUiRDNmWbv3US7\n",
       "qzJazP2FAAAACXBIWXMAAA7EAAAOxAGVKw4bAAABtklEQVQ4y32UTygEcRTHv7Nr9u/sticHF0uS\n",
       "FO1BTsraC4oajiKDFCcOlOOGctMenHDYEofN1rQhcfmhHBzYJRIOe6KcXBSSvN/sH/tbM/vqV6/P\n",
       "m8/MmzevARCAdVjWbCETOPR9rqL3U0+V8ebNmemkTkmb6b3OvGnIb7BFyzhLSZOPgKyZWg+BHiAG\n",
       "TJZbh+hSAGfU1LphjgDiwMp/a8kHuMWXvEjsGElmUdK45VZFzi0H0F4qecfVfJbxZRu45YiKnKzM\n",
       "MjBHrGUgcmqw6kIRGTBFJ6sqLXKWGkyGgSmqKNcYNb7MGP6sF3mbLJcmcnY0/TUPbAHHHobaLGda\n",
       "ieUKddAM7TGRU4dNByo2AHVURyfvwb+eSCR28xZufWT430ROluINcwudwB1HMit5FkZk6tAbEzm3\n",
       "wHiHXPmQOYuXWv4gXWyPi9ywNPDhrcH+XsVZfbF6SaeVLBcTObfsQfQD0g9s2ipnjuImT9Bx0hCc\n",
       "YZGzPUS6gVfqPQ753uDy036u+PzJcivq0QXeuHll7LwnKyxHX35zClFjzl2zqBQLFvykkiQxi8Jw\n",
       "JUux+gVIwQpWnTn+BdOMgubmfT6GAAAAAElFTkSuQmCC\n",
       "\" style=\"display:inline;vertical-align:middle;\" /></a></span>"
      ],
      "text/plain": [
       "|- (n in Natural) in BOOLEAN"
      ]
     },
     "metadata": {},
     "output_type": "display_data"
    }
   ],
   "source": [
    "InSet(n, Natural).deduce_in_bool()"
   ]
  },
  {
   "cell_type": "code",
   "execution_count": 3,
   "metadata": {},
   "outputs": [
    {
     "data": {
      "text/html": [
       "<span style=\"font-size:20px;\"> <a class=\"ProveItLink\" href=\"../__pv_it/demonstrations/4a55e60df66ba7e240be5b177ae349f8fd5e10ff0/proof.ipynb\" style=\"text-decoration: none\">&nbsp;&#x22A2;&nbsp;&nbsp;</a><a class=\"ProveItLink\" href=\"../__pv_it/demonstrations/7dcb09f1c999a2a9ea1018859dd7a6fd8d013c8c0/expr.ipynb\"><img src=\"data:image/png;base64,iVBORw0KGgoAAAANSUhEUgAAAHgAAAAZBAMAAAAI4vceAAAAMFBMVEX///8AAAAAAAAAAAAAAAAA\n",
       "AAAAAAAAAAAAAAAAAAAAAAAAAAAAAAAAAAAAAAAAAAAv3aB7AAAAD3RSTlMAZkRUmRDNuyLviTJ2\n",
       "3asqG0tJAAAACXBIWXMAAA7EAAAOxAGVKw4bAAAB6ElEQVQ4y52UvUvDQBiHf/1IY9u0Fp0Eh04O\n",
       "DtpNB4VMOqmZFIfWihR00ehgEBTj4iRaXOoi9g9wcFNBaJciCm4iKhSLguLHIIpODl4upsnFpBUP\n",
       "kjvehyfv3eW9A9CEWk0kj9+V+sSaskyeBtmNDqOujFY3OusQ426UDEI7m4YckVguXM1/bt+SKWWd\n",
       "vsgnOoCxamahYufe4moqDn/eSY5ehmIIwq8oOYVMjfv4JcdCqozGuKPchUlEqpkx/lv2JCooMMs5\n",
       "LpfTVF4prlrlfhunchpnVretZGRWn4W8RT6xcSJHV/K418bru2ta15CpTlvlMWeROyWW897S2ROg\n",
       "kKF3C8saDaimHBaTSaPCgMIeGM57L3bOJUyT4WgMAxSaG6ai2bdgrmcjznIybaEpg3MyHAKutdBh\n",
       "mTT5R45Kj6Y8Fmc5kSG308w5cG9aaMSamaskLZn3WE5lXpO5L3heaRVaZRzxplxQWU7lAB6I/I5o\n",
       "ulurwmIVkkzCvinru23hmtxD/+AiekW6qxMGDCTIq8+UW/RuwpTzoVORfjN1evBCF5Wa0+stPJNj\n",
       "D+ug3hlcmFLoqQoytd2+pJefvY07c+dTZT/fH87xcPYPsqfiAu7+IEfU/91hqHmH+eov2v32rHNv\n",
       "002VnOPfyuF6Fgscn40AAAAASUVORK5CYII=\n",
       "\" style=\"display:inline;vertical-align:middle;\" /></a></span>"
      ],
      "text/plain": [
       "|- (a in NaturalPos) in BOOLEAN"
      ]
     },
     "metadata": {},
     "output_type": "display_data"
    }
   ],
   "source": [
    "InSet(a, NaturalPos).deduce_in_bool()"
   ]
  },
  {
   "cell_type": "code",
   "execution_count": 4,
   "metadata": {},
   "outputs": [
    {
     "data": {
      "text/html": [
       "<table><tr><th>&nbsp;</th><th>step type</th><th>requirements</th><th>statement</th></tr>\n",
       "<tr><td><a name=\"-0x65b3bef5da5d7748_step0\">0</a></td><td>conjecture</td><td></td><td><span style=\"font-size:20px;\"> <a class=\"ProveItLink\" href=\"../../../numerals/decimals/_theory_nbs_/proofs/posnat9/thm_proof.ipynb\" style=\"text-decoration: none\">&nbsp;&#x22A2;&nbsp;&nbsp;</a><a class=\"ProveItLink\" href=\"../../../numerals/decimals/__pv_it/theorems/42d59895071bce82f74770ded2d949fb15af2d610/expr.ipynb\"><img src=\"data:image/png;base64,iVBORw0KGgoAAAANSUhEUgAAAD8AAAATBAMAAADVH8ihAAAAMFBMVEX///8AAAAAAAAAAAAAAAAA\n",
       "AAAAAAAAAAAAAAAAAAAAAAAAAAAAAAAAAAAAAAAAAAAv3aB7AAAAD3RSTlMAmasQ3XYy7yK7zYlE\n",
       "ZlRwlz41AAAACXBIWXMAAA7EAAAOxAGVKw4bAAABAklEQVQoz2NgwAMYGQgATjIVmPycZcCw/fsB\n",
       "mAJGQWU0FfN4FBiYP8BMYHZlSG9AVaDSsJeBoYBBcub0mTMvMDAVMHBOQFWgN4GrgcEBZgL/Agbu\n",
       "zxCJSBeXBSBa4yrHAoQC+wkMrH/A8qeCoSZoMCVEo5rwF8TgWAyzQoNhAucBuAKQG76CGFwNCAWJ\n",
       "zM4OsJBkrmFI+gdWwIBQwPvgZQGcaxj99BuITncBggkQBQzKTAVI3oL4whLJBAYjZgfkIAfrY0FW\n",
       "wBYADxu+Ygb7BBCDNQAmNA2Iw+AKWJ0Z5kJY62BCIAbjAriBuwUPQBhGcwzAdNZ3oG7mBVji+fQU\n",
       "F0xhAOzYOgZntIeUAAAAAElFTkSuQmCC\n",
       "\" style=\"display:inline;vertical-align:middle;\" /></a></span></td></tr>\n",
       "<tr><td>&nbsp;</td><td colspan=4 style-\"text-align:left\"><a class=\"ProveItLink\" href=\"../../../numerals/decimals/_theory_nbs_/proofs/posnat9/thm_proof.ipynb\">proveit.numbers.numerals.decimals.posnat9</a></td></tr></table>"
      ],
      "text/plain": [
       "proveit.numbers.numerals.decimals.posnat9"
      ]
     },
     "metadata": {},
     "output_type": "display_data"
    }
   ],
   "source": [
    "InSet(nine, NaturalPos).prove().proof()"
   ]
  },
  {
   "cell_type": "code",
   "execution_count": 5,
   "metadata": {},
   "outputs": [
    {
     "data": {
      "text/html": [
       "<span style=\"font-size:20px;\"> <a class=\"ProveItLink\" href=\"../__pv_it/demonstrations/d8c580d695ca939d917f670607bf85d8ac53ce400/proof.ipynb\" style=\"text-decoration: none\">&nbsp;&#x22A2;&nbsp;&nbsp;</a><a class=\"ProveItLink\" href=\"../__pv_it/demonstrations/c8eb2b71d171cdd4aef4dda94fd85d6a6ddaeda50/expr.ipynb\"><img src=\"data:image/png;base64,iVBORw0KGgoAAAANSUhEUgAAAGUAAAAVBAMAAACtcD09AAAAMFBMVEX///8AAAAAAAAAAAAAAAAA\n",
       "AAAAAAAAAAAAAAAAAAAAAAAAAAAAAAAAAAAAAAAAAAAv3aB7AAAAD3RSTlMAInZUiRDNmWbv3US7\n",
       "qzJazP2FAAAACXBIWXMAAA7EAAAOxAGVKw4bAAAB40lEQVQ4y2NgYBBgwAEYcUkwMBlgCDFn/sxZ\n",
       "dbKBWwFNXGtOfubaDUCGCQPryQVoxpx9wJDAxsCggW7YgU2MqbcZGFgTGBjYClCl2AsYmBqcgeIB\n",
       "6Hp2MDjyAOUbGBj40ZzHK8AQw3qAgYGjAFNPMy8DAyeQuR9mns6qVUBrGVgZGOp4HwAZU6FuPbVq\n",
       "GVwP0M1mQKYXVMs2VZiBfBeeg6gMMIc7KQBhz8UWBoYSIDNX6TI4bFPhjuAJOAqifMEcsQBEGASt\n",
       "dQAbxfotIB4USWyImDLhAIdzG5iTiPDPrsxfpQwMi4HR8ZWBE6SEDeHZBAjbEsJBDgONbQEMs4FB\n",
       "l8DAD7SR4eUqIDgAiWdvBgagi96D/TYLKLwGpoeH2wGkh8uBYT8otGPg5sUwArVeZGDYCeKwHkC2\n",
       "h4fhAMhtwOipB3mTCy53DxhDrB8YGKzAvAWoehIYDgH1PGCdAXYRLH3xFWwHRixQaQ+Yq4Sih1kB\n",
       "FJy8DTyQCE+Gh3QqA+PhA5CIAIYNPJkc2MLg5M7A8Aro4CsVEKHY05CY2Hlszpn5c4DBshrMZb2z\n",
       "FSKvNuc8OF1zPUBKT1tOrUpAzkBQn3D7QNMOFGCkQ+T03YBD4iBuPTK4JGJw68FpHKMCzlyPo6QA\n",
       "ACEaeEZkyt3UAAAAAElFTkSuQmCC\n",
       "\" style=\"display:inline;vertical-align:middle;\" /></a></span>"
      ],
      "text/plain": [
       "|- (b in Integer) in BOOLEAN"
      ]
     },
     "metadata": {},
     "output_type": "display_data"
    }
   ],
   "source": [
    "InSet(b, Integer).deduce_in_bool()"
   ]
  },
  {
   "cell_type": "markdown",
   "metadata": {},
   "source": [
    "## Miscellaneous Testing\n",
    "The material below was developed to test various Integer and Integer Set-related methods. Some of this material could be integrated into the `_demonstrations_` page eventually and/or deleted as development continues."
   ]
  },
  {
   "cell_type": "markdown",
   "metadata": {},
   "source": [
    "Some Example Domains For Testing"
   ]
  },
  {
   "cell_type": "code",
   "execution_count": 6,
   "metadata": {},
   "outputs": [
    {
     "data": {
      "text/html": [
       "<strong id=\"two_to_nine_interval\">two_to_nine_interval:</strong> <a class=\"ProveItLink\" href=\"../__pv_it/demonstrations/7dbf0325df3f885af4ab1994d1182515b08bc54d0/expr.ipynb\"><img src=\"data:image/png;base64,iVBORw0KGgoAAAANSUhEUgAAAEcAAAAVBAMAAADm2O7QAAAAMFBMVEX///8AAAAAAAAAAAAAAAAA\n",
       "AAAAAAAAAAAAAAAAAAAAAAAAAAAAAAAAAAAAAAAAAAAv3aB7AAAAD3RSTlMAEER2zVSJ3Zki72ar\n",
       "MruaaVGaAAAACXBIWXMAAA7EAAAOxAGVKw4bAAABE0lEQVQoz2NgYGBUYsANOCMhtIkiHkUMdx6C\n",
       "SNaPQPUdfhcw5Tk6DgLJNyAmWwEDwzwGtk8YahiLGW5NYGBIhyk6ycCwCkMRzwIGvgdIitYLMJyf\n",
       "gK6I34GB7SOSouMMDOcxHCX/gIH5E5IiIKhnwGbSb6giDgcQyfsZq5uAolYg9qwNIJL9AKbvFjHc\n",
       "+crAMD+AgWGOE1ikD0s4SpgF/wWqPRLAwNsnAORzH8Aa3CDfsYFM4QPJhzFwTsCiCBRO8QJQ3/Em\n",
       "MDALoKtgXcggDwyXLFgQTO/oaAe79QuMAALmQobXDEjhVP//P0SmAk4AQVqHAgNqYOIExCtiXoBf\n",
       "UQs4gX7Fq4ZxNZiacRRfGs8BxgoACDNErBNhCpIAAAAASUVORK5CYII=\n",
       "\" style=\"display:inline;vertical-align:middle;\" /></a><br>"
      ],
      "text/plain": [
       "<IPython.core.display.HTML object>"
      ]
     },
     "metadata": {},
     "output_type": "display_data"
    },
    {
     "data": {
      "text/html": [
       "<strong id=\"a_b_interval\">a_b_interval:</strong> <a class=\"ProveItLink\" href=\"../__pv_it/demonstrations/916840f6705cdf02cc97ee01cc278279317525eb0/expr.ipynb\"><img src=\"data:image/png;base64,iVBORw0KGgoAAAANSUhEUgAAAEcAAAAVBAMAAADm2O7QAAAAMFBMVEX///8AAAAAAAAAAAAAAAAA\n",
       "AAAAAAAAAAAAAAAAAAAAAAAAAAAAAAAAAAAAAAAAAAAv3aB7AAAAD3RSTlMAEER2zVSJ3Zki72ar\n",
       "MruaaVGaAAAACXBIWXMAAA7EAAAOxAGVKw4bAAAA+0lEQVQoz2NgYGBUYsANOCMhtIkiHkUMdx6C\n",
       "SNaPuOTlloPINyCCrQCnKR4gIp2Aoq9EKGL6SIQiiAxC0ZzkyZiKWA7bBEAVcTgADV7J8F4AQ5G8\n",
       "I+NPBgYrEHPWBgYGqQ0M7ZgmxQswLGZgmA80bY4TkNvPwFCGqaiFgeEbMEKOBDDw9gHtWcfA+AlT\n",
       "URkDEzAQ2ECm8B1gYPzMwP0BWzBxfARbCvYd41cGHodIDEV/QW5lyIIFwWOG8IYGEIfxC8hXDhBF\n",
       "pxleIIeTjNnNwxfAEhVAzN4AUSSTsYGIuGNgIEkR8wL8ilrACfQrXjWMq8HUjKP40ngOMFYAWQ47\n",
       "pVC2JnYAAAAASUVORK5CYII=\n",
       "\" style=\"display:inline;vertical-align:middle;\" /></a><br>"
      ],
      "text/plain": [
       "<IPython.core.display.HTML object>"
      ]
     },
     "metadata": {},
     "output_type": "display_data"
    },
    {
     "data": {
      "text/html": [
       "<strong id=\"c_d_interval\">c_d_interval:</strong> <a class=\"ProveItLink\" href=\"../__pv_it/demonstrations/92201d80dba6945518c52def789a706d0402769f0/expr.ipynb\"><img src=\"data:image/png;base64,iVBORw0KGgoAAAANSUhEUgAAAEcAAAAVBAMAAADm2O7QAAAAMFBMVEX///8AAAAAAAAAAAAAAAAA\n",
       "AAAAAAAAAAAAAAAAAAAAAAAAAAAAAAAAAAAAAAAAAAAv3aB7AAAAD3RSTlMAEER2zVSJ3Zki72ar\n",
       "MruaaVGaAAAACXBIWXMAAA7EAAAOxAGVKw4bAAAA9klEQVQoz2NgYGBUYsANOCMhtIkiHkUMdx6C\n",
       "SNaPuFVcWcHA8AbEYCvAY85XBoZ0QoqYPhKhCCRHUBFLA7IiNuO9mErmJN8PgCricACGRilDH6aD\n",
       "VjK8F2BgsAKxZ21gYGBPYFiMoUhqA0MLkJoPNG2OE5DRL4DFQf0MDGVAivFIAANvH1DBOmyuXsfA\n",
       "+AnkXJApfAcYGD9jUQMU5P4ApOMFoL77DXQmhqKvDDwOwOjNggUB0Gu5YIkvQELeAaLqMUN4A3I4\n",
       "sWVvhji9AojZGyCKZMxuHr5ARIiDAPGKmBfgV9QCTqBf8aphXA2mZhzFl8ZzgLECAFkSOGh6DXb1\n",
       "AAAAAElFTkSuQmCC\n",
       "\" style=\"display:inline;vertical-align:middle;\" /></a><br>"
      ],
      "text/plain": [
       "<IPython.core.display.HTML object>"
      ]
     },
     "metadata": {},
     "output_type": "display_data"
    }
   ],
   "source": [
    "two_to_nine_interval, a_b_interval, c_d_interval = (\n",
    "    Interval(two, nine), Interval(a, b), Interval(c, d))"
   ]
  },
  {
   "cell_type": "markdown",
   "metadata": {},
   "source": [
    "Some Example Membership Claims For Testing"
   ]
  },
  {
   "cell_type": "code",
   "execution_count": 7,
   "metadata": {},
   "outputs": [
    {
     "data": {
      "text/html": [
       "<strong id=\"three_in_2_9_interval\">three_in_2_9_interval:</strong> <a class=\"ProveItLink\" href=\"../__pv_it/demonstrations/8dee6cd462712475ec0589f09ed83bbfd2f235a40/expr.ipynb\"><img src=\"data:image/png;base64,iVBORw0KGgoAAAANSUhEUgAAAGwAAAAVBAMAAABRZRb3AAAAMFBMVEX///8AAAAAAAAAAAAAAAAA\n",
       "AAAAAAAAAAAAAAAAAAAAAAAAAAAAAAAAAAAAAAAAAAAv3aB7AAAAD3RSTlMAIomZu0QQVHbN72bd\n",
       "Mqv0UZE7AAAACXBIWXMAAA7EAAAOxAGVKw4bAAABl0lEQVQ4y2NgwAZSAxhwA3EBHBIcUxPwaON9\n",
       "ApIVUnZFl6gHigtb+mLRYmwHlGJ5wMDAZsBQX4AmqcPAwOjAoI/p0pwG3oUMDEwHgA76zpA/AVMb\n",
       "nwAD1wIMba8YGFwg2liXMvBDtHH4nDkJ18b1jYHvI4a2nwwM+glgbSCvbACRrDMSkG07wMD3F10X\n",
       "2xcGhv4AqDbW02AxyQRkRwIBzwestm2AaOPtewsWmoiQtQST9xuw+c2/gYED4mlISCLChXE1mDqH\n",
       "Gf5ZAbzvCxgYv4M5QO8DLV1z5syZI2BdL8Ehz+yAqY3NQr3/AgND3nQG3gsMLCDdbAhVl91A5D7s\n",
       "aQQYkgyaAQz83yDaGA4gpPyAmF2BQRCbNmC8sQNdx/UA4kiGDpToZrjEwNCGoacqgQ0YK0zAIOHe\n",
       "AI03zgKUxHXY2BhsPzgJwdJRTwLLBkgqYQg2hiRltidhSNp4/v//D1bLYwAjgIBJ2ZSBAZZKoIBV\n",
       "BSlx4QOo2hjQUgnJ2rrwa2OegF1cvgCvtqwN2MUZ7fDpE3rOwAAAaDFhLYVVIDsAAAAASUVORK5C\n",
       "YII=\n",
       "\" style=\"display:inline;vertical-align:middle;\" /></a><br>"
      ],
      "text/plain": [
       "<IPython.core.display.HTML object>"
      ]
     },
     "metadata": {},
     "output_type": "display_data"
    },
    {
     "data": {
      "text/html": [
       "<strong id=\"x_in_a_b_interval\">x_in_a_b_interval:</strong> <a class=\"ProveItLink\" href=\"../__pv_it/demonstrations/29c6c2fe2b7d2efdcbad59a387752e9d9e70de3b0/expr.ipynb\"><img src=\"data:image/png;base64,iVBORw0KGgoAAAANSUhEUgAAAGwAAAAVBAMAAABRZRb3AAAAMFBMVEX///8AAAAAAAAAAAAAAAAA\n",
       "AAAAAAAAAAAAAAAAAAAAAAAAAAAAAAAAAAAAAAAAAAAv3aB7AAAAD3RSTlMAEHarMolUmd1mIs3v\n",
       "RLtmgJDEAAAACXBIWXMAAA7EAAAOxAGVKw4bAAABYklEQVQ4y2NgwAYY7zLgBssW4JLRvohHG4ud\n",
       "AHYJto84dDC+aQCSfAbYZVkbcNnEXYBHGrc2/gRMab2Ojg0EtN0XwJC+rUjYtgi4tJCySCjIaq6N\n",
       "qI5cHLQIU9tmJTOodAGTETuI5kZEBzvQrbynGN5jBDTjbwH5BQxMBxgYOBdwfmSeANKGkF0D5MtM\n",
       "YKjAFjM8Cgxc34CRBzYbCHw6gOABiLV4L5CoZ2BoxdAGVMofwMAgvA3IBuoHATlEMqgDuu4cA+Nf\n",
       "DG0cAQz3geEQfQEUqAsYQZ7gQMgCkwHjJwbOD9iirV4AnIjkLtgwsIKEmBSQQ5LxGwPzhiwMbQ6M\n",
       "J4HSwCDJd6xhuAYW24YSAY8YMgpAKYlBfgMoBCESzBP4CiDS4kpslQlgMeG3AkjahFW9jBzA/gFp\n",
       "bodGgGklZmq4+oJg4sIrTaY2UDLAA6ARjQFAyQAPkJmAQ2K5GR5dS4GSAAd6VCY2vvS5AAAAAElF\n",
       "TkSuQmCC\n",
       "\" style=\"display:inline;vertical-align:middle;\" /></a><br>"
      ],
      "text/plain": [
       "<IPython.core.display.HTML object>"
      ]
     },
     "metadata": {},
     "output_type": "display_data"
    }
   ],
   "source": [
    "three_in_2_9_interval, x_in_a_b_interval = (\n",
    "    InSet(three, two_to_nine_interval), InSet(x, a_b_interval))"
   ]
  },
  {
   "cell_type": "code",
   "execution_count": 8,
   "metadata": {},
   "outputs": [
    {
     "data": {
      "text/html": [
       "<span style=\"font-size:20px;\"> <a class=\"ProveItLink\" href=\"../__pv_it/demonstrations/ef5401b2d4557b741c51aec23d0b6f007a4202230/proof.ipynb\" style=\"text-decoration: none\">&nbsp;&#x22A2;&nbsp;&nbsp;</a><a class=\"ProveItLink\" href=\"../__pv_it/demonstrations/8dee6cd462712475ec0589f09ed83bbfd2f235a40/expr.ipynb\"><img src=\"data:image/png;base64,iVBORw0KGgoAAAANSUhEUgAAAGwAAAAVBAMAAABRZRb3AAAAMFBMVEX///8AAAAAAAAAAAAAAAAA\n",
       "AAAAAAAAAAAAAAAAAAAAAAAAAAAAAAAAAAAAAAAAAAAv3aB7AAAAD3RSTlMAIomZu0QQVHbN72bd\n",
       "Mqv0UZE7AAAACXBIWXMAAA7EAAAOxAGVKw4bAAABl0lEQVQ4y2NgwAZSAxhwA3EBHBIcUxPwaON9\n",
       "ApIVUnZFl6gHigtb+mLRYmwHlGJ5wMDAZsBQX4AmqcPAwOjAoI/p0pwG3oUMDEwHgA76zpA/AVMb\n",
       "nwAD1wIMba8YGFwg2liXMvBDtHH4nDkJ18b1jYHvI4a2nwwM+glgbSCvbACRrDMSkG07wMD3F10X\n",
       "2xcGhv4AqDbW02AxyQRkRwIBzwestm2AaOPtewsWmoiQtQST9xuw+c2/gYED4mlISCLChXE1mDqH\n",
       "Gf5ZAbzvCxgYv4M5QO8DLV1z5syZI2BdL8Ehz+yAqY3NQr3/AgND3nQG3gsMLCDdbAhVl91A5D7s\n",
       "aQQYkgyaAQz83yDaGA4gpPyAmF2BQRCbNmC8sQNdx/UA4kiGDpToZrjEwNCGoacqgQ0YK0zAIOHe\n",
       "AI03zgKUxHXY2BhsPzgJwdJRTwLLBkgqYQg2hiRltidhSNp4/v//D1bLYwAjgIBJ2ZSBAZZKoIBV\n",
       "BSlx4QOo2hjQUgnJ2rrwa2OegF1cvgCvtqwN2MUZ7fDpE3rOwAAAaDFhLYVVIDsAAAAASUVORK5C\n",
       "YII=\n",
       "\" style=\"display:inline;vertical-align:middle;\" /></a></span>"
      ],
      "text/plain": [
       "|- 3 in {2 .. 9}"
      ]
     },
     "metadata": {},
     "output_type": "display_data"
    }
   ],
   "source": [
    "# testing automation\n",
    "InSet(three, two_to_nine_interval).prove()"
   ]
  },
  {
   "cell_type": "code",
   "execution_count": 9,
   "metadata": {},
   "outputs": [
    {
     "data": {
      "text/html": [
       "<span style=\"font-size:20px;\"><a class=\"ProveItLink\" href=\"../__pv_it/theorems/d82a9927958f2919b6e25fa4d8e512f4047160210/expr.ipynb\"><img src=\"data:image/png;base64,iVBORw0KGgoAAAANSUhEUgAAADIAAAAQBAMAAACmdTG/AAAAMFBMVEX///8AAAAAAAAAAAAAAAAA\n",
       "AAAAAAAAAAAAAAAAAAAAAAAAAAAAAAAAAAAAAAAAAAAv3aB7AAAAD3RSTlMAIquJdkTvuxBmmd1U\n",
       "zTKBpmoTAAAACXBIWXMAAA7EAAAOxAGVKw4bAAAA3klEQVQY02NgwAA8175d3102AVOCgaXoAcMF\n",
       "XiwSDFwLGFgm2GCTYRJgaOcoQDGlevdeEM3BwLCO6QGSBOuVBhiTT+EViGJUdnQA0bJwCQb2hgoQ\n",
       "FSbA/gNEX0RoP8wJUsuRycC1AcS9gJCBuJnrAwO3Acjs7N27d2+HOOWAKQNDAwNbAUN/AEgvwp3t\n",
       "jEC2IkO/A8N8MH8DXEYP6COODwz9Bxh0eQSAfBe4mxdEAb27gYHdgWcXF0iA9wDczTcYGGsKGDhU\n",
       "7IT8wF5Xj4DIhNWml+enGyAHgjkkdKAAAEfmMVewssrcAAAAAElFTkSuQmCC\n",
       "\" style=\"display:inline;vertical-align:middle;\" /></a>, <a class=\"ProveItLink\" href=\"../__pv_it/demonstrations/f7f8f0c7b17df91c5737500a28a9355fd753ce490/expr.ipynb\"><img src=\"data:image/png;base64,iVBORw0KGgoAAAANSUhEUgAAADAAAAAQBAMAAACigOGCAAAAMFBMVEX///8AAAAAAAAAAAAAAAAA\n",
       "AAAAAAAAAAAAAAAAAAAAAAAAAAAAAAAAAAAAAAAAAAAv3aB7AAAAD3RSTlMAELvv3c2ZVESJq3Yi\n",
       "MmZ3LnoBAAAACXBIWXMAAA7EAAAOxAGVKw4bAAAA50lEQVQY02NgQAfswZ+DXJQfMDAqO6BKcGtd\n",
       "YAhgBTJYE1Al2BIYuB9MBzL4C1AluA4wCDEqABn9AlAjVFxcQTQjA0Mu1wUgYwpEnCNaAKaHd8E1\n",
       "EBW1ezmIOgoXZ2ASUATp/CogfwBIxyBsqeTbAHL2RwZmEB2AkAA7loEtgIF/AtBcExcXFyeIKwpm\n",
       "MDAIMLBMYOgHOhjsQAgQ4gGy14C8kQ+yF+H/tUCfMH5g4L/AaAfi7oY7NqEN6EsHBq4HTOAwYS2A\n",
       "OzaQgUddgYFxZR6Yz7ioESLRrGqkZG80AeFIjkmQIIECANNVKrcrbsjPAAAAAElFTkSuQmCC\n",
       "\" style=\"display:inline;vertical-align:middle;\" /></a>, <a class=\"ProveItLink\" href=\"../__pv_it/theorems/9dfd51fc82a5dda1e85f06fc33528e3db8c0b6dc0/expr.ipynb\"><img src=\"data:image/png;base64,iVBORw0KGgoAAAANSUhEUgAAADMAAAAQBAMAAABJt1qBAAAAMFBMVEX///8AAAAAAAAAAAAAAAAA\n",
       "AAAAAAAAAAAAAAAAAAAAAAAAAAAAAAAAAAAAAAAAAAAv3aB7AAAAD3RSTlMAEHarMolUmd1mIs3v\n",
       "RLtmgJDEAAAACXBIWXMAAA7EAAAOxAGVKw4bAAAA3UlEQVQY02NgwATZ50+/6DvJgA3omTBwM2zA\n",
       "KlXOwKDJmoBVyoqB8YEcqhDTi45uEC3AwO5ggiLDu0kAxnRmKQBRQsoioWCDV8NlGB7ygdkFTEbs\n",
       "DSDGLrgMW8AkEMW5gPMj8wQQC+FcqNNZGNghYiwnOjo6+sBMNdYLDIwgBo8CmM/4AKaJ8cE6Bgbm\n",
       "BUDW/QWMYEsbYFLMDlYMDPIMDHIXbBhYwSJKMCl3XqDTLRgY8h1rGK5BLIeFzUNuAYZ1eQwM4kps\n",
       "lRAxRruLEK+f2/PuzZ+nqMERBwkoKAAA5a8vMuYfrScAAAAASUVORK5CYII=\n",
       "\" style=\"display:inline;vertical-align:middle;\" /></a>, <a class=\"ProveItLink\" href=\"../__pv_it/demonstrations/f7396de6ee1a14dba2d99627cef7ba3b084f16750/expr.ipynb\"><img src=\"data:image/png;base64,iVBORw0KGgoAAAANSUhEUgAAAFcAAAARBAMAAABa5y0uAAAAMFBMVEX///8AAAAAAAAAAAAAAAAA\n",
       "AAAAAAAAAAAAAAAAAAAAAAAAAAAAAAAAAAAAAAAAAAAv3aB7AAAAD3RSTlMAIquJdkTvuxBmmd1U\n",
       "zTKBpmoTAAAACXBIWXMAAA7EAAAOxAGVKw4bAAABF0lEQVQoz2NgIA5wlG3AEOO5iKnurACI5F2A\n",
       "Ls65qwFD7ewVYIr/AJo4y2ZMtd4WEDoeTap5C6ZTrR2gLGswyajsCBHo2glX4qLx2AbMWD0BJnbJ\n",
       "RQdIhgmw/wDxmu7AzeNicHJYDVKrC3cox9+GfgEGjkwGLnCoMCEUT2SY36AJYiAU8/xgYHNg4PrA\n",
       "wG0A5kvBnfGAYS2EwQh3BtcFBn4DBrYChv4ADA+moHsQaGD8AYZ+B4b5GEHH+pGhAzXogMG8voGh\n",
       "/wCDLo8ASqRwlDIlMBigRgr/A6DnGNgdeHZxIaL7Hoj415XAioiwsw9A3p/ADoxvDhU7IT+0mFji\n",
       "cGoOeuwor2SgC+jeDQL7UOwGC+1+AOMDAEWgTFf9V32tAAAAAElFTkSuQmCC\n",
       "\" style=\"display:inline;vertical-align:middle;\" /></a> <a class=\"ProveItLink\" href=\"../__pv_it/demonstrations/9d77b15733ba2e498894f8bc964501c3c56224f80/proof.ipynb\" style=\"text-decoration: none\">&nbsp;&#x22A2;&nbsp;&nbsp;</a><a class=\"ProveItLink\" href=\"../__pv_it/demonstrations/29c6c2fe2b7d2efdcbad59a387752e9d9e70de3b0/expr.ipynb\"><img src=\"data:image/png;base64,iVBORw0KGgoAAAANSUhEUgAAAGwAAAAVBAMAAABRZRb3AAAAMFBMVEX///8AAAAAAAAAAAAAAAAA\n",
       "AAAAAAAAAAAAAAAAAAAAAAAAAAAAAAAAAAAAAAAAAAAv3aB7AAAAD3RSTlMAEHarMolUmd1mIs3v\n",
       "RLtmgJDEAAAACXBIWXMAAA7EAAAOxAGVKw4bAAABYklEQVQ4y2NgwAYY7zLgBssW4JLRvohHG4ud\n",
       "AHYJto84dDC+aQCSfAbYZVkbcNnEXYBHGrc2/gRMab2Ojg0EtN0XwJC+rUjYtgi4tJCySCjIaq6N\n",
       "qI5cHLQIU9tmJTOodAGTETuI5kZEBzvQrbynGN5jBDTjbwH5BQxMBxgYOBdwfmSeANKGkF0D5MtM\n",
       "YKjAFjM8Cgxc34CRBzYbCHw6gOABiLV4L5CoZ2BoxdAGVMofwMAgvA3IBuoHATlEMqgDuu4cA+Nf\n",
       "DG0cAQz3geEQfQEUqAsYQZ7gQMgCkwHjJwbOD9iirV4AnIjkLtgwsIKEmBSQQ5LxGwPzhiwMbQ6M\n",
       "J4HSwCDJd6xhuAYW24YSAY8YMgpAKYlBfgMoBCESzBP4CiDS4kpslQlgMeG3AkjahFW9jBzA/gFp\n",
       "bodGgGklZmq4+oJg4sIrTaY2UDLAA6ARjQFAyQAPkJmAQ2K5GR5dS4GSAAd6VCY2vvS5AAAAAElF\n",
       "TkSuQmCC\n",
       "\" style=\"display:inline;vertical-align:middle;\" /></a></span>"
      ],
      "text/plain": [
       "{a in Integer, b in Integer, x in Integer, a <= x <= b} |- x in {a .. b}"
      ]
     },
     "metadata": {},
     "output_type": "display_data"
    }
   ],
   "source": [
    "x_in_a_b_interval.prove(\n",
    "    assumptions=[InSet(a, Integer), InSet(b, Integer), InSet(x, Integer),\n",
    "                 number_ordering(LessEq(a, x), LessEq(x, b))])"
   ]
  },
  {
   "cell_type": "markdown",
   "metadata": {},
   "source": [
    "Define an Inset() expression involving an Interval class, then test some automation related to deductions about the element:"
   ]
  },
  {
   "cell_type": "code",
   "execution_count": 10,
   "metadata": {},
   "outputs": [
    {
     "data": {
      "text/html": [
       "<strong id=\"x_in_c_d_interval\">x_in_c_d_interval:</strong> <a class=\"ProveItLink\" href=\"../__pv_it/demonstrations/576f33253b8bac062b1752e47c2d4747a39338f50/expr.ipynb\"><img src=\"data:image/png;base64,iVBORw0KGgoAAAANSUhEUgAAAG0AAAAVBAMAAAC+p33JAAAAMFBMVEX///8AAAAAAAAAAAAAAAAA\n",
       "AAAAAAAAAAAAAAAAAAAAAAAAAAAAAAAAAAAAAAAAAAAv3aB7AAAAD3RSTlMAEHarMolUmd1mIs3v\n",
       "RLtmgJDEAAAACXBIWXMAAA7EAAAOxAGVKw4bAAABY0lEQVQ4y2NgwAYY7zLgBlxZOKW0L+LRx+D8\n",
       "EIcE20fcmryPMzA8xiHH2oDHtm8MDBFk6OP9iKFPr6NjA0F9IDlUfbcVibGPuwCqT0hZJDQBFLwb\n",
       "Ud3JqjQFU9fiIP8EqL4CJiN2kDruBXBZdqBzudoY6jA9d4rhvQADgw6QybmA8yPzBJA+hPQaIJ8j\n",
       "gOEQhj6ZCQzVQGo90E4WsOlA4NMBBA/AjtkLJOoFsHiunoGhFZScrEEe41EAi8nBZVnqgHrOYQuU\n",
       "cwyMf0FeBxnMcH8BI8hsDoQ0nwED4ydsyfYTA+cHIJ0PVC93wYaBFSTIpIASnj+BoYCh7xsD8wZg\n",
       "qo4B6XWsYbgGFt2Gog8YmCEgtjzQ94y/oRKPGDIKoPEnrsRWmQAWFH4rgKSPNXISmMsBVMfQDpUQ\n",
       "VvUycsBIZ1dfEJHOQICcdI1PH9MB/PqqcZUE3/BqYzyJS2a5Gb7yJRgYjgBVHk8Cki0cCQAAAABJ\n",
       "RU5ErkJggg==\n",
       "\" style=\"display:inline;vertical-align:middle;\" /></a><br>"
      ],
      "text/plain": [
       "<IPython.core.display.HTML object>"
      ]
     },
     "metadata": {},
     "output_type": "display_data"
    }
   ],
   "source": [
    "x_in_c_d_interval = InSet(x, c_d_interval)"
   ]
  },
  {
   "cell_type": "markdown",
   "metadata": {},
   "source": [
    "Check that an IntervalMembership assumption is making its way into the IntervalMembership.side_effects() method and sub-methods:"
   ]
  },
  {
   "cell_type": "code",
   "execution_count": 11,
   "metadata": {},
   "outputs": [
    {
     "data": {
      "text/html": [
       "<span style=\"font-size:20px;\"><a class=\"ProveItLink\" href=\"../__pv_it/demonstrations/576f33253b8bac062b1752e47c2d4747a39338f50/expr.ipynb\"><img src=\"data:image/png;base64,iVBORw0KGgoAAAANSUhEUgAAAG0AAAAVBAMAAAC+p33JAAAAMFBMVEX///8AAAAAAAAAAAAAAAAA\n",
       "AAAAAAAAAAAAAAAAAAAAAAAAAAAAAAAAAAAAAAAAAAAv3aB7AAAAD3RSTlMAEHarMolUmd1mIs3v\n",
       "RLtmgJDEAAAACXBIWXMAAA7EAAAOxAGVKw4bAAABY0lEQVQ4y2NgwAYY7zLgBlxZOKW0L+LRx+D8\n",
       "EIcE20fcmryPMzA8xiHH2oDHtm8MDBFk6OP9iKFPr6NjA0F9IDlUfbcVibGPuwCqT0hZJDQBFLwb\n",
       "Ud3JqjQFU9fiIP8EqL4CJiN2kDruBXBZdqBzudoY6jA9d4rhvQADgw6QybmA8yPzBJA+hPQaIJ8j\n",
       "gOEQhj6ZCQzVQGo90E4WsOlA4NMBBA/AjtkLJOoFsHiunoGhFZScrEEe41EAi8nBZVnqgHrOYQuU\n",
       "cwyMf0FeBxnMcH8BI8hsDoQ0nwED4ydsyfYTA+cHIJ0PVC93wYaBFSTIpIASnj+BoYCh7xsD8wZg\n",
       "qo4B6XWsYbgGFt2Gog8YmCEgtjzQ94y/oRKPGDIKoPEnrsRWmQAWFH4rgKSPNXISmMsBVMfQDpUQ\n",
       "VvUycsBIZ1dfEJHOQICcdI1PH9MB/PqqcZUE3/BqYzyJS2a5Gb7yJRgYjgBVHk8Cki0cCQAAAABJ\n",
       "RU5ErkJggg==\n",
       "\" style=\"display:inline;vertical-align:middle;\" /></a> <a class=\"ProveItLink\" href=\"../__pv_it/demonstrations/70cc1ba25bd2cbd2c88f5acb1c5974a21d53607d0/proof.ipynb\" style=\"text-decoration: none\">&nbsp;&#x22A2;&nbsp;&nbsp;</a><a class=\"ProveItLink\" href=\"../__pv_it/demonstrations/576f33253b8bac062b1752e47c2d4747a39338f50/expr.ipynb\"><img src=\"data:image/png;base64,iVBORw0KGgoAAAANSUhEUgAAAG0AAAAVBAMAAAC+p33JAAAAMFBMVEX///8AAAAAAAAAAAAAAAAA\n",
       "AAAAAAAAAAAAAAAAAAAAAAAAAAAAAAAAAAAAAAAAAAAv3aB7AAAAD3RSTlMAEHarMolUmd1mIs3v\n",
       "RLtmgJDEAAAACXBIWXMAAA7EAAAOxAGVKw4bAAABY0lEQVQ4y2NgwAYY7zLgBlxZOKW0L+LRx+D8\n",
       "EIcE20fcmryPMzA8xiHH2oDHtm8MDBFk6OP9iKFPr6NjA0F9IDlUfbcVibGPuwCqT0hZJDQBFLwb\n",
       "Ud3JqjQFU9fiIP8EqL4CJiN2kDruBXBZdqBzudoY6jA9d4rhvQADgw6QybmA8yPzBJA+hPQaIJ8j\n",
       "gOEQhj6ZCQzVQGo90E4WsOlA4NMBBA/AjtkLJOoFsHiunoGhFZScrEEe41EAi8nBZVnqgHrOYQuU\n",
       "cwyMf0FeBxnMcH8BI8hsDoQ0nwED4ydsyfYTA+cHIJ0PVC93wYaBFSTIpIASnj+BoYCh7xsD8wZg\n",
       "qo4B6XWsYbgGFt2Gog8YmCEgtjzQ94y/oRKPGDIKoPEnrsRWmQAWFH4rgKSPNXISmMsBVMfQDpUQ\n",
       "VvUycsBIZ1dfEJHOQICcdI1PH9MB/PqqcZUE3/BqYzyJS2a5Gb7yJRgYjgBVHk8Cki0cCQAAAABJ\n",
       "RU5ErkJggg==\n",
       "\" style=\"display:inline;vertical-align:middle;\" /></a></span>"
      ],
      "text/plain": [
       "{x in {c .. d}} |- x in {c .. d}"
      ]
     },
     "metadata": {},
     "output_type": "display_data"
    }
   ],
   "source": [
    "# checking to see if the IntervalMembership assumption is making its way\n",
    "# into the side_effects() method\n",
    "x_in_c_d_interval.prove(assumptions = [x_in_c_d_interval, InSet(c, Integer), InSet(d, Integer)])"
   ]
  },
  {
   "cell_type": "markdown",
   "metadata": {},
   "source": [
    "Check that an IntervalMembership assumption is producing the correct conclusions about Integer set membership and lower/upper bounds for the element:"
   ]
  },
  {
   "cell_type": "code",
   "execution_count": 12,
   "metadata": {},
   "outputs": [
    {
     "data": {
      "text/html": [
       "<span style=\"font-size:20px;\"><a class=\"ProveItLink\" href=\"../__pv_it/demonstrations/a2bc599bf0f0f65acede773ef671aee29194b8f50/expr.ipynb\"><img src=\"data:image/png;base64,iVBORw0KGgoAAAANSUhEUgAAADAAAAAQBAMAAACigOGCAAAAMFBMVEX///8AAAAAAAAAAAAAAAAA\n",
       "AAAAAAAAAAAAAAAAAAAAAAAAAAAAAAAAAAAAAAAAAAAv3aB7AAAAD3RSTlMAiXZmMiLdVJm77xBE\n",
       "zatgdeJyAAAACXBIWXMAAA7EAAAOxAGVKw4bAAAAzElEQVQY02NgQAfst37dTJtlgCHOwDTPgeEC\n",
       "L6Y4A0cDA5OBOBYJvgCGndwTkI2YlpYLorkZGFr4HBDiPJc2wJgsDzzAtJAySD4WLs7AuWE2iAor\n",
       "4ACZeBWhuZBZAUQlMnCB6AsICYhjOX5DzF2WlpaWCXFFgQwDwwYGLojLkBy4kxXIfsqwXwHCTYBL\n",
       "PAH6hPsDAz8wVA4AuUpwxzacAPoygQHoJEaQc3kL4I69zcA6HWiaoLE22JKXpyESp+aunLl+pQCS\n",
       "1yUhQQIFAA/aLo4ZZrU0AAAAAElFTkSuQmCC\n",
       "\" style=\"display:inline;vertical-align:middle;\" /></a>, <a class=\"ProveItLink\" href=\"../__pv_it/demonstrations/ce2036f1d2e534f263518445e270cc2a8e5c787c0/expr.ipynb\"><img src=\"data:image/png;base64,iVBORw0KGgoAAAANSUhEUgAAADIAAAAQBAMAAACmdTG/AAAAMFBMVEX///8AAAAAAAAAAAAAAAAA\n",
       "AAAAAAAAAAAAAAAAAAAAAAAAAAAAAAAAAAAAAAAAAAAv3aB7AAAAD3RSTlMAMs3vmVREEIndIqt2\n",
       "u2aBbGR5AAAACXBIWXMAAA7EAAAOxAGVKw4bAAAA70lEQVQY02NgwACsyp91Z15+AGIyKjsgy/Dc\n",
       "FmBQYIKw+QOQZVgcGHgetELY+QXIMtwLGGrZL0DYnRBTbs6cBKLZGRgcuQUgMioggk0HrpNxgwiI\n",
       "4tpx8CuIXoQwkrfgOohKXsD7HURrIWyK4DsAMtWOgUUBxFVAyEDczPKBgbMBZLblzJkz50KcEtDG\n",
       "wFDAwHyBoT4BpPcCXEstF5C9i6H+AMN7MH8CXGYj0EfsHxjqAxg2sS4A8s/A3eyQAvTuBAbeA6xT\n",
       "WEACTAFwN6szcF29wMC+p3H1QbDX96ZDZJIv2d61t21ACi+2XkjoQAEAkGM3rHcIm38AAAAASUVO\n",
       "RK5CYII=\n",
       "\" style=\"display:inline;vertical-align:middle;\" /></a>, <a class=\"ProveItLink\" href=\"../__pv_it/demonstrations/576f33253b8bac062b1752e47c2d4747a39338f50/expr.ipynb\"><img src=\"data:image/png;base64,iVBORw0KGgoAAAANSUhEUgAAAG0AAAAVBAMAAAC+p33JAAAAMFBMVEX///8AAAAAAAAAAAAAAAAA\n",
       "AAAAAAAAAAAAAAAAAAAAAAAAAAAAAAAAAAAAAAAAAAAv3aB7AAAAD3RSTlMAEHarMolUmd1mIs3v\n",
       "RLtmgJDEAAAACXBIWXMAAA7EAAAOxAGVKw4bAAABY0lEQVQ4y2NgwAYY7zLgBlxZOKW0L+LRx+D8\n",
       "EIcE20fcmryPMzA8xiHH2oDHtm8MDBFk6OP9iKFPr6NjA0F9IDlUfbcVibGPuwCqT0hZJDQBFLwb\n",
       "Ud3JqjQFU9fiIP8EqL4CJiN2kDruBXBZdqBzudoY6jA9d4rhvQADgw6QybmA8yPzBJA+hPQaIJ8j\n",
       "gOEQhj6ZCQzVQGo90E4WsOlA4NMBBA/AjtkLJOoFsHiunoGhFZScrEEe41EAi8nBZVnqgHrOYQuU\n",
       "cwyMf0FeBxnMcH8BI8hsDoQ0nwED4ydsyfYTA+cHIJ0PVC93wYaBFSTIpIASnj+BoYCh7xsD8wZg\n",
       "qo4B6XWsYbgGFt2Gog8YmCEgtjzQ94y/oRKPGDIKoPEnrsRWmQAWFH4rgKSPNXISmMsBVMfQDpUQ\n",
       "VvUycsBIZ1dfEJHOQICcdI1PH9MB/PqqcZUE3/BqYzyJS2a5Gb7yJRgYjgBVHk8Cki0cCQAAAABJ\n",
       "RU5ErkJggg==\n",
       "\" style=\"display:inline;vertical-align:middle;\" /></a> <a class=\"ProveItLink\" href=\"../__pv_it/demonstrations/0282e225e31c9e6e41543000b069eb94fe112d240/proof.ipynb\" style=\"text-decoration: none\">&nbsp;&#x22A2;&nbsp;&nbsp;</a><a class=\"ProveItLink\" href=\"../__pv_it/theorems/9dfd51fc82a5dda1e85f06fc33528e3db8c0b6dc0/expr.ipynb\"><img src=\"data:image/png;base64,iVBORw0KGgoAAAANSUhEUgAAADMAAAAQBAMAAABJt1qBAAAAMFBMVEX///8AAAAAAAAAAAAAAAAA\n",
       "AAAAAAAAAAAAAAAAAAAAAAAAAAAAAAAAAAAAAAAAAAAv3aB7AAAAD3RSTlMAEHarMolUmd1mIs3v\n",
       "RLtmgJDEAAAACXBIWXMAAA7EAAAOxAGVKw4bAAAA3UlEQVQY02NgwATZ50+/6DvJgA3omTBwM2zA\n",
       "KlXOwKDJmoBVyoqB8YEcqhDTi45uEC3AwO5ggiLDu0kAxnRmKQBRQsoioWCDV8NlGB7ygdkFTEbs\n",
       "DSDGLrgMW8AkEMW5gPMj8wQQC+FcqNNZGNghYiwnOjo6+sBMNdYLDIwgBo8CmM/4AKaJ8cE6Bgbm\n",
       "BUDW/QWMYEsbYFLMDlYMDPIMDHIXbBhYwSJKMCl3XqDTLRgY8h1rGK5BLIeFzUNuAYZ1eQwM4kps\n",
       "lRAxRruLEK+f2/PuzZ+nqMERBwkoKAAA5a8vMuYfrScAAAAASUVORK5CYII=\n",
       "\" style=\"display:inline;vertical-align:middle;\" /></a></span>"
      ],
      "text/plain": [
       "{c in Integer, d in Integer, x in {c .. d}} |- x in Integer"
      ]
     },
     "metadata": {},
     "output_type": "display_data"
    }
   ],
   "source": [
    "# element should be an integer if Interval is properly defined:\n",
    "InSet(x, Integer).prove(\n",
    "    assumptions = [x_in_c_d_interval, InSet(c, Integer), InSet(d, Integer), LessEq(c, d)])"
   ]
  },
  {
   "cell_type": "code",
   "execution_count": 13,
   "metadata": {},
   "outputs": [
    {
     "data": {
      "text/html": [
       "<span style=\"font-size:20px;\"><a class=\"ProveItLink\" href=\"../__pv_it/demonstrations/a2bc599bf0f0f65acede773ef671aee29194b8f50/expr.ipynb\"><img src=\"data:image/png;base64,iVBORw0KGgoAAAANSUhEUgAAADAAAAAQBAMAAACigOGCAAAAMFBMVEX///8AAAAAAAAAAAAAAAAA\n",
       "AAAAAAAAAAAAAAAAAAAAAAAAAAAAAAAAAAAAAAAAAAAv3aB7AAAAD3RSTlMAiXZmMiLdVJm77xBE\n",
       "zatgdeJyAAAACXBIWXMAAA7EAAAOxAGVKw4bAAAAzElEQVQY02NgQAfst37dTJtlgCHOwDTPgeEC\n",
       "L6Y4A0cDA5OBOBYJvgCGndwTkI2YlpYLorkZGFr4HBDiPJc2wJgsDzzAtJAySD4WLs7AuWE2iAor\n",
       "4ACZeBWhuZBZAUQlMnCB6AsICYhjOX5DzF2WlpaWCXFFgQwDwwYGLojLkBy4kxXIfsqwXwHCTYBL\n",
       "PAH6hPsDAz8wVA4AuUpwxzacAPoygQHoJEaQc3kL4I69zcA6HWiaoLE22JKXpyESp+aunLl+pQCS\n",
       "1yUhQQIFAA/aLo4ZZrU0AAAAAElFTkSuQmCC\n",
       "\" style=\"display:inline;vertical-align:middle;\" /></a>, <a class=\"ProveItLink\" href=\"../__pv_it/demonstrations/ce2036f1d2e534f263518445e270cc2a8e5c787c0/expr.ipynb\"><img src=\"data:image/png;base64,iVBORw0KGgoAAAANSUhEUgAAADIAAAAQBAMAAACmdTG/AAAAMFBMVEX///8AAAAAAAAAAAAAAAAA\n",
       "AAAAAAAAAAAAAAAAAAAAAAAAAAAAAAAAAAAAAAAAAAAv3aB7AAAAD3RSTlMAMs3vmVREEIndIqt2\n",
       "u2aBbGR5AAAACXBIWXMAAA7EAAAOxAGVKw4bAAAA70lEQVQY02NgwACsyp91Z15+AGIyKjsgy/Dc\n",
       "FmBQYIKw+QOQZVgcGHgetELY+QXIMtwLGGrZL0DYnRBTbs6cBKLZGRgcuQUgMioggk0HrpNxgwiI\n",
       "4tpx8CuIXoQwkrfgOohKXsD7HURrIWyK4DsAMtWOgUUBxFVAyEDczPKBgbMBZLblzJkz50KcEtDG\n",
       "wFDAwHyBoT4BpPcCXEstF5C9i6H+AMN7MH8CXGYj0EfsHxjqAxg2sS4A8s/A3eyQAvTuBAbeA6xT\n",
       "WEACTAFwN6szcF29wMC+p3H1QbDX96ZDZJIv2d61t21ACi+2XkjoQAEAkGM3rHcIm38AAAAASUVO\n",
       "RK5CYII=\n",
       "\" style=\"display:inline;vertical-align:middle;\" /></a>, <a class=\"ProveItLink\" href=\"../__pv_it/demonstrations/576f33253b8bac062b1752e47c2d4747a39338f50/expr.ipynb\"><img src=\"data:image/png;base64,iVBORw0KGgoAAAANSUhEUgAAAG0AAAAVBAMAAAC+p33JAAAAMFBMVEX///8AAAAAAAAAAAAAAAAA\n",
       "AAAAAAAAAAAAAAAAAAAAAAAAAAAAAAAAAAAAAAAAAAAv3aB7AAAAD3RSTlMAEHarMolUmd1mIs3v\n",
       "RLtmgJDEAAAACXBIWXMAAA7EAAAOxAGVKw4bAAABY0lEQVQ4y2NgwAYY7zLgBlxZOKW0L+LRx+D8\n",
       "EIcE20fcmryPMzA8xiHH2oDHtm8MDBFk6OP9iKFPr6NjA0F9IDlUfbcVibGPuwCqT0hZJDQBFLwb\n",
       "Ud3JqjQFU9fiIP8EqL4CJiN2kDruBXBZdqBzudoY6jA9d4rhvQADgw6QybmA8yPzBJA+hPQaIJ8j\n",
       "gOEQhj6ZCQzVQGo90E4WsOlA4NMBBA/AjtkLJOoFsHiunoGhFZScrEEe41EAi8nBZVnqgHrOYQuU\n",
       "cwyMf0FeBxnMcH8BI8hsDoQ0nwED4ydsyfYTA+cHIJ0PVC93wYaBFSTIpIASnj+BoYCh7xsD8wZg\n",
       "qo4B6XWsYbgGFt2Gog8YmCEgtjzQ94y/oRKPGDIKoPEnrsRWmQAWFH4rgKSPNXISmMsBVMfQDpUQ\n",
       "VvUycsBIZ1dfEJHOQICcdI1PH9MB/PqqcZUE3/BqYzyJS2a5Gb7yJRgYjgBVHk8Cki0cCQAAAABJ\n",
       "RU5ErkJggg==\n",
       "\" style=\"display:inline;vertical-align:middle;\" /></a> <a class=\"ProveItLink\" href=\"../__pv_it/demonstrations/ac9edca44dcfc290eadf1c67fd627f29147093070/proof.ipynb\" style=\"text-decoration: none\">&nbsp;&#x22A2;&nbsp;&nbsp;</a><a class=\"ProveItLink\" href=\"../__pv_it/demonstrations/09dadfcac8b437bc05c43f89409273dbdee1b7470/expr.ipynb\"><img src=\"data:image/png;base64,iVBORw0KGgoAAAANSUhEUgAAADIAAAARBAMAAABtKeIaAAAAMFBMVEX///8AAAAAAAAAAAAAAAAA\n",
       "AAAAAAAAAAAAAAAAAAAAAAAAAAAAAAAAAAAAAAAAAAAv3aB7AAAAD3RSTlMAEHarMolUmd1mIs3v\n",
       "RLtmgJDEAAAACXBIWXMAAA7EAAAOxAGVKw4bAAAAvUlEQVQY02NgwA68j6MJsO2Csb6hSnC2C0BZ\n",
       "vB9RJJhaYRIMrA3IEqJNCDZ3AQODkLJIaAKII94JF18c5A8UKmAyYgdpFd4Gl+A9xfBegIFzAedH\n",
       "5glALjNCRmYCQzUDAwsD+wYIfznctHoGhlYQzaOA7oJzDIx/QfT9BYwCKK5m/MTA+YGBQe6CDQMr\n",
       "qk8ZvzEwb8hiyHesYbiGCJ0tIPIRQ0ZBAYO4EltlAlroCat6GTkwUAQkOkCgBc4HAKubKWEZP7J6\n",
       "AAAAAElFTkSuQmCC\n",
       "\" style=\"display:inline;vertical-align:middle;\" /></a></span>"
      ],
      "text/plain": [
       "{c in Integer, d in Integer, x in {c .. d}} |- x <= d"
      ]
     },
     "metadata": {},
     "output_type": "display_data"
    }
   ],
   "source": [
    "# element should be ≤ upper_bound of Interval\n",
    "LessEq(x, d).prove(\n",
    "    assumptions = [x_in_c_d_interval, InSet(c, Integer), InSet(d, Integer), LessEq(c, d)])"
   ]
  },
  {
   "cell_type": "code",
   "execution_count": 14,
   "metadata": {},
   "outputs": [
    {
     "data": {
      "text/html": [
       "<span style=\"font-size:20px;\"><a class=\"ProveItLink\" href=\"../__pv_it/demonstrations/a2bc599bf0f0f65acede773ef671aee29194b8f50/expr.ipynb\"><img src=\"data:image/png;base64,iVBORw0KGgoAAAANSUhEUgAAADAAAAAQBAMAAACigOGCAAAAMFBMVEX///8AAAAAAAAAAAAAAAAA\n",
       "AAAAAAAAAAAAAAAAAAAAAAAAAAAAAAAAAAAAAAAAAAAv3aB7AAAAD3RSTlMAiXZmMiLdVJm77xBE\n",
       "zatgdeJyAAAACXBIWXMAAA7EAAAOxAGVKw4bAAAAzElEQVQY02NgQAfst37dTJtlgCHOwDTPgeEC\n",
       "L6Y4A0cDA5OBOBYJvgCGndwTkI2YlpYLorkZGFr4HBDiPJc2wJgsDzzAtJAySD4WLs7AuWE2iAor\n",
       "4ACZeBWhuZBZAUQlMnCB6AsICYhjOX5DzF2WlpaWCXFFgQwDwwYGLojLkBy4kxXIfsqwXwHCTYBL\n",
       "PAH6hPsDAz8wVA4AuUpwxzacAPoygQHoJEaQc3kL4I69zcA6HWiaoLE22JKXpyESp+aunLl+pQCS\n",
       "1yUhQQIFAA/aLo4ZZrU0AAAAAElFTkSuQmCC\n",
       "\" style=\"display:inline;vertical-align:middle;\" /></a>, <a class=\"ProveItLink\" href=\"../__pv_it/demonstrations/ce2036f1d2e534f263518445e270cc2a8e5c787c0/expr.ipynb\"><img src=\"data:image/png;base64,iVBORw0KGgoAAAANSUhEUgAAADIAAAAQBAMAAACmdTG/AAAAMFBMVEX///8AAAAAAAAAAAAAAAAA\n",
       "AAAAAAAAAAAAAAAAAAAAAAAAAAAAAAAAAAAAAAAAAAAv3aB7AAAAD3RSTlMAMs3vmVREEIndIqt2\n",
       "u2aBbGR5AAAACXBIWXMAAA7EAAAOxAGVKw4bAAAA70lEQVQY02NgwACsyp91Z15+AGIyKjsgy/Dc\n",
       "FmBQYIKw+QOQZVgcGHgetELY+QXIMtwLGGrZL0DYnRBTbs6cBKLZGRgcuQUgMioggk0HrpNxgwiI\n",
       "4tpx8CuIXoQwkrfgOohKXsD7HURrIWyK4DsAMtWOgUUBxFVAyEDczPKBgbMBZLblzJkz50KcEtDG\n",
       "wFDAwHyBoT4BpPcCXEstF5C9i6H+AMN7MH8CXGYj0EfsHxjqAxg2sS4A8s/A3eyQAvTuBAbeA6xT\n",
       "WEACTAFwN6szcF29wMC+p3H1QbDX96ZDZJIv2d61t21ACi+2XkjoQAEAkGM3rHcIm38AAAAASUVO\n",
       "RK5CYII=\n",
       "\" style=\"display:inline;vertical-align:middle;\" /></a>, <a class=\"ProveItLink\" href=\"../__pv_it/demonstrations/576f33253b8bac062b1752e47c2d4747a39338f50/expr.ipynb\"><img src=\"data:image/png;base64,iVBORw0KGgoAAAANSUhEUgAAAG0AAAAVBAMAAAC+p33JAAAAMFBMVEX///8AAAAAAAAAAAAAAAAA\n",
       "AAAAAAAAAAAAAAAAAAAAAAAAAAAAAAAAAAAAAAAAAAAv3aB7AAAAD3RSTlMAEHarMolUmd1mIs3v\n",
       "RLtmgJDEAAAACXBIWXMAAA7EAAAOxAGVKw4bAAABY0lEQVQ4y2NgwAYY7zLgBlxZOKW0L+LRx+D8\n",
       "EIcE20fcmryPMzA8xiHH2oDHtm8MDBFk6OP9iKFPr6NjA0F9IDlUfbcVibGPuwCqT0hZJDQBFLwb\n",
       "Ud3JqjQFU9fiIP8EqL4CJiN2kDruBXBZdqBzudoY6jA9d4rhvQADgw6QybmA8yPzBJA+hPQaIJ8j\n",
       "gOEQhj6ZCQzVQGo90E4WsOlA4NMBBA/AjtkLJOoFsHiunoGhFZScrEEe41EAi8nBZVnqgHrOYQuU\n",
       "cwyMf0FeBxnMcH8BI8hsDoQ0nwED4ydsyfYTA+cHIJ0PVC93wYaBFSTIpIASnj+BoYCh7xsD8wZg\n",
       "qo4B6XWsYbgGFt2Gog8YmCEgtjzQ94y/oRKPGDIKoPEnrsRWmQAWFH4rgKSPNXISmMsBVMfQDpUQ\n",
       "VvUycsBIZ1dfEJHOQICcdI1PH9MB/PqqcZUE3/BqYzyJS2a5Gb7yJRgYjgBVHk8Cki0cCQAAAABJ\n",
       "RU5ErkJggg==\n",
       "\" style=\"display:inline;vertical-align:middle;\" /></a> <a class=\"ProveItLink\" href=\"../__pv_it/demonstrations/e89d350cf76a96fa227a8e6409c1bfd99475fd870/proof.ipynb\" style=\"text-decoration: none\">&nbsp;&#x22A2;&nbsp;&nbsp;</a><a class=\"ProveItLink\" href=\"../__pv_it/demonstrations/821638f1804fcdfc280ea0437fc314fbb9ad09020/expr.ipynb\"><img src=\"data:image/png;base64,iVBORw0KGgoAAAANSUhEUgAAADAAAAAQBAMAAACigOGCAAAAMFBMVEX///8AAAAAAAAAAAAAAAAA\n",
       "AAAAAAAAAAAAAAAAAAAAAAAAAAAAAAAAAAAAAAAAAAAv3aB7AAAAD3RSTlMAiXZmMiLdVJm77xBE\n",
       "zatgdeJyAAAACXBIWXMAAA7EAAAOxAGVKw4bAAAAnUlEQVQY02NgQAbsVxmwAuaMDVjFmRKxi29M\n",
       "QhMQUnYAUTuSYQLcSq8dxRkYwgo4JgB5+67DVXIw6Cm0MTAkMnApAHl8CAlTBvsNjxk4fkO5EXCj\n",
       "HBh6gSTXBCyWLwLi/QqYzuX5yrCbgd+AgeEAige55/AtYBBgADqJ0QEeJFdAxJcdC3gKGBgEjbVR\n",
       "/cXdpFBhzkAB2JYGAilwPgCn/CPRhTNtHwAAAABJRU5ErkJggg==\n",
       "\" style=\"display:inline;vertical-align:middle;\" /></a></span>"
      ],
      "text/plain": [
       "{c in Integer, d in Integer, x in {c .. d}} |- c <= x"
      ]
     },
     "metadata": {},
     "output_type": "display_data"
    }
   ],
   "source": [
    "# element should be ≥ lower_bound of Interval\n",
    "LessEq(c, x).prove(\n",
    "    assumptions = [x_in_c_d_interval, InSet(c, Integer), InSet(d, Integer), LessEq(c, d)])"
   ]
  },
  {
   "cell_type": "code",
   "execution_count": 15,
   "metadata": {},
   "outputs": [
    {
     "data": {
      "text/html": [
       "<span style=\"font-size:20px;\"><a class=\"ProveItLink\" href=\"../__pv_it/demonstrations/a2bc599bf0f0f65acede773ef671aee29194b8f50/expr.ipynb\"><img src=\"data:image/png;base64,iVBORw0KGgoAAAANSUhEUgAAADAAAAAQBAMAAACigOGCAAAAMFBMVEX///8AAAAAAAAAAAAAAAAA\n",
       "AAAAAAAAAAAAAAAAAAAAAAAAAAAAAAAAAAAAAAAAAAAv3aB7AAAAD3RSTlMAiXZmMiLdVJm77xBE\n",
       "zatgdeJyAAAACXBIWXMAAA7EAAAOxAGVKw4bAAAAzElEQVQY02NgQAfst37dTJtlgCHOwDTPgeEC\n",
       "L6Y4A0cDA5OBOBYJvgCGndwTkI2YlpYLorkZGFr4HBDiPJc2wJgsDzzAtJAySD4WLs7AuWE2iAor\n",
       "4ACZeBWhuZBZAUQlMnCB6AsICYhjOX5DzF2WlpaWCXFFgQwDwwYGLojLkBy4kxXIfsqwXwHCTYBL\n",
       "PAH6hPsDAz8wVA4AuUpwxzacAPoygQHoJEaQc3kL4I69zcA6HWiaoLE22JKXpyESp+aunLl+pQCS\n",
       "1yUhQQIFAA/aLo4ZZrU0AAAAAElFTkSuQmCC\n",
       "\" style=\"display:inline;vertical-align:middle;\" /></a>, <a class=\"ProveItLink\" href=\"../__pv_it/demonstrations/ce2036f1d2e534f263518445e270cc2a8e5c787c0/expr.ipynb\"><img src=\"data:image/png;base64,iVBORw0KGgoAAAANSUhEUgAAADIAAAAQBAMAAACmdTG/AAAAMFBMVEX///8AAAAAAAAAAAAAAAAA\n",
       "AAAAAAAAAAAAAAAAAAAAAAAAAAAAAAAAAAAAAAAAAAAv3aB7AAAAD3RSTlMAMs3vmVREEIndIqt2\n",
       "u2aBbGR5AAAACXBIWXMAAA7EAAAOxAGVKw4bAAAA70lEQVQY02NgwACsyp91Z15+AGIyKjsgy/Dc\n",
       "FmBQYIKw+QOQZVgcGHgetELY+QXIMtwLGGrZL0DYnRBTbs6cBKLZGRgcuQUgMioggk0HrpNxgwiI\n",
       "4tpx8CuIXoQwkrfgOohKXsD7HURrIWyK4DsAMtWOgUUBxFVAyEDczPKBgbMBZLblzJkz50KcEtDG\n",
       "wFDAwHyBoT4BpPcCXEstF5C9i6H+AMN7MH8CXGYj0EfsHxjqAxg2sS4A8s/A3eyQAvTuBAbeA6xT\n",
       "WEACTAFwN6szcF29wMC+p3H1QbDX96ZDZJIv2d61t21ACi+2XkjoQAEAkGM3rHcIm38AAAAASUVO\n",
       "RK5CYII=\n",
       "\" style=\"display:inline;vertical-align:middle;\" /></a> <a class=\"ProveItLink\" href=\"../__pv_it/demonstrations/cc31cc6c98a82ab606675e28af8557acfa5a31d90/proof.ipynb\" style=\"text-decoration: none\">&nbsp;&#x22A2;&nbsp;&nbsp;</a><a class=\"ProveItLink\" href=\"../__pv_it/demonstrations/1e9eabd54431f52ac3dc258a3ee83a59fd1995120/expr.ipynb\"><img src=\"data:image/png;base64,iVBORw0KGgoAAAANSUhEUgAAAKMAAAAVBAMAAADY0UPbAAAAMFBMVEX///8AAAAAAAAAAAAAAAAA\n",
       "AAAAAAAAAAAAAAAAAAAAAAAAAAAAAAAAAAAAAAAAAAAv3aB7AAAAD3RSTlMAInZUiRDNmWbv3US7\n",
       "qzJazP2FAAAACXBIWXMAAA7EAAAOxAGVKw4bAAACSklEQVQ4y2NgYBBgwAZYdzPgBoyGIAKnNJMB\n",
       "VmG1rXiMZHh7lIGBWwFNUGtOfubaDUCGCVY9zF9xm/dsOgPDWSCtgS5xYBNj6m2gBxOwamNZgMeN\n",
       "nxkYvIAUWwC6kTsYHHkYGNgbSDaS+yvESI4CTCObeRkYOFED9tSqZQSNBMmBjGSYiqYJZCQbA4MZ\n",
       "iv1JAUS4kq0AamQGmiagkRdbGBhKgMwg3TgXcLyLBaB4nEWpD9NAWaf3BlAjfRlQNR3YFLTWAWJT\n",
       "AdMldrCrEuEa2YGxxriYoQYzICcynAeaoQlitzGgajqwK/NXKQPDYmAwC3B85QXHEiL2JYF8LgeG\n",
       "SRhGRjYwlAEpeZCvLBlQNQE9rrEtgGE2AwMf2E1AwDdr1apVa8C+ywYS9QFYArKegWEJKHNdA5r5\n",
       "HlUTyEgebgeQkcBoh2QE1gMwjXw1QOPmYIubOQysv0HBDLJzJ6omsJEMB0AeZ2DYL8AKdhEimnku\n",
       "MLB+wpb1PzFwfADS9iD1VgyomsBGJjAcYmCI2XCTgQUspoSS9n4AIwPDyM8MvAnAQsMTxOlB0wQy\n",
       "klkBlBDsn1YybIakOANkI4HR7Qc25huQiIfGwiEGqwJYuixB03RgC4OTOwPDKwaGcCXmCogw652t\n",
       "SEayeDRBImg5EHNBc1+sysNLD6BGrkbVpDbnPLgk4nqAkup8iMiQIAAyknEBmiYowMj7DEQbiaPE\n",
       "YWA4iL1gnoDfSFByl8ElGYO9KviM10TWGTgdA9KsgFVY/DK+uscXGJ1M2CstBgCRZZJIlMjjwQAA\n",
       "AABJRU5ErkJggg==\n",
       "\" style=\"display:inline;vertical-align:middle;\" /></a></span>"
      ],
      "text/plain": [
       "{c in Integer, d in Integer} |- (x in {c .. d}) in BOOLEAN"
      ]
     },
     "metadata": {},
     "output_type": "display_data"
    }
   ],
   "source": [
    "# the membership claim should itself be in Booleans (even without assumptions)\n",
    "InSet(x_in_c_d_interval, Boolean).prove(assumptions=[InSet(c, Integer), InSet(d, Integer), LessEq(c, d)])"
   ]
  },
  {
   "cell_type": "markdown",
   "metadata": {},
   "source": [
    "Also check that we can deduce an Interval element in positive naturals if the Interval lower_bound is known or assumed to be greater than 0:"
   ]
  },
  {
   "cell_type": "code",
   "execution_count": 16,
   "metadata": {},
   "outputs": [
    {
     "data": {
      "text/html": [
       "<span style=\"font-size:20px;\"><a class=\"ProveItLink\" href=\"../__pv_it/demonstrations/a2bc599bf0f0f65acede773ef671aee29194b8f50/expr.ipynb\"><img src=\"data:image/png;base64,iVBORw0KGgoAAAANSUhEUgAAADAAAAAQBAMAAACigOGCAAAAMFBMVEX///8AAAAAAAAAAAAAAAAA\n",
       "AAAAAAAAAAAAAAAAAAAAAAAAAAAAAAAAAAAAAAAAAAAv3aB7AAAAD3RSTlMAiXZmMiLdVJm77xBE\n",
       "zatgdeJyAAAACXBIWXMAAA7EAAAOxAGVKw4bAAAAzElEQVQY02NgQAfst37dTJtlgCHOwDTPgeEC\n",
       "L6Y4A0cDA5OBOBYJvgCGndwTkI2YlpYLorkZGFr4HBDiPJc2wJgsDzzAtJAySD4WLs7AuWE2iAor\n",
       "4ACZeBWhuZBZAUQlMnCB6AsICYhjOX5DzF2WlpaWCXFFgQwDwwYGLojLkBy4kxXIfsqwXwHCTYBL\n",
       "PAH6hPsDAz8wVA4AuUpwxzacAPoygQHoJEaQc3kL4I69zcA6HWiaoLE22JKXpyESp+aunLl+pQCS\n",
       "1yUhQQIFAA/aLo4ZZrU0AAAAAElFTkSuQmCC\n",
       "\" style=\"display:inline;vertical-align:middle;\" /></a>, <a class=\"ProveItLink\" href=\"../__pv_it/demonstrations/ce2036f1d2e534f263518445e270cc2a8e5c787c0/expr.ipynb\"><img src=\"data:image/png;base64,iVBORw0KGgoAAAANSUhEUgAAADIAAAAQBAMAAACmdTG/AAAAMFBMVEX///8AAAAAAAAAAAAAAAAA\n",
       "AAAAAAAAAAAAAAAAAAAAAAAAAAAAAAAAAAAAAAAAAAAv3aB7AAAAD3RSTlMAMs3vmVREEIndIqt2\n",
       "u2aBbGR5AAAACXBIWXMAAA7EAAAOxAGVKw4bAAAA70lEQVQY02NgwACsyp91Z15+AGIyKjsgy/Dc\n",
       "FmBQYIKw+QOQZVgcGHgetELY+QXIMtwLGGrZL0DYnRBTbs6cBKLZGRgcuQUgMioggk0HrpNxgwiI\n",
       "4tpx8CuIXoQwkrfgOohKXsD7HURrIWyK4DsAMtWOgUUBxFVAyEDczPKBgbMBZLblzJkz50KcEtDG\n",
       "wFDAwHyBoT4BpPcCXEstF5C9i6H+AMN7MH8CXGYj0EfsHxjqAxg2sS4A8s/A3eyQAvTuBAbeA6xT\n",
       "WEACTAFwN6szcF29wMC+p3H1QbDX96ZDZJIv2d61t21ACi+2XkjoQAEAkGM3rHcIm38AAAAASUVO\n",
       "RK5CYII=\n",
       "\" style=\"display:inline;vertical-align:middle;\" /></a>, <a class=\"ProveItLink\" href=\"../__pv_it/demonstrations/576f33253b8bac062b1752e47c2d4747a39338f50/expr.ipynb\"><img src=\"data:image/png;base64,iVBORw0KGgoAAAANSUhEUgAAAG0AAAAVBAMAAAC+p33JAAAAMFBMVEX///8AAAAAAAAAAAAAAAAA\n",
       "AAAAAAAAAAAAAAAAAAAAAAAAAAAAAAAAAAAAAAAAAAAv3aB7AAAAD3RSTlMAEHarMolUmd1mIs3v\n",
       "RLtmgJDEAAAACXBIWXMAAA7EAAAOxAGVKw4bAAABY0lEQVQ4y2NgwAYY7zLgBlxZOKW0L+LRx+D8\n",
       "EIcE20fcmryPMzA8xiHH2oDHtm8MDBFk6OP9iKFPr6NjA0F9IDlUfbcVibGPuwCqT0hZJDQBFLwb\n",
       "Ud3JqjQFU9fiIP8EqL4CJiN2kDruBXBZdqBzudoY6jA9d4rhvQADgw6QybmA8yPzBJA+hPQaIJ8j\n",
       "gOEQhj6ZCQzVQGo90E4WsOlA4NMBBA/AjtkLJOoFsHiunoGhFZScrEEe41EAi8nBZVnqgHrOYQuU\n",
       "cwyMf0FeBxnMcH8BI8hsDoQ0nwED4ydsyfYTA+cHIJ0PVC93wYaBFSTIpIASnj+BoYCh7xsD8wZg\n",
       "qo4B6XWsYbgGFt2Gog8YmCEgtjzQ94y/oRKPGDIKoPEnrsRWmQAWFH4rgKSPNXISmMsBVMfQDpUQ\n",
       "VvUycsBIZ1dfEJHOQICcdI1PH9MB/PqqcZUE3/BqYzyJS2a5Gb7yJRgYjgBVHk8Cki0cCQAAAABJ\n",
       "RU5ErkJggg==\n",
       "\" style=\"display:inline;vertical-align:middle;\" /></a>, <a class=\"ProveItLink\" href=\"../__pv_it/demonstrations/f0c4794755cdf3f21876901f5b8e2d31fcb0bf390/expr.ipynb\"><img src=\"data:image/png;base64,iVBORw0KGgoAAAANSUhEUgAAAC8AAAAQBAMAAAB0JTvnAAAAMFBMVEX///8AAAAAAAAAAAAAAAAA\n",
       "AAAAAAAAAAAAAAAAAAAAAAAAAAAAAAAAAAAAAAAAAAAv3aB7AAAAD3RSTlMAiXZmMiLdVJm77xBE\n",
       "zatgdeJyAAAACXBIWXMAAA7EAAAOxAGVKw4bAAAAr0lEQVQY02NgwAIENQKwCTPwFnCnYpUwY2CQ\n",
       "RPD2GsCZ8xgY6jfAedxiCjDmDwYG/wIgLaTsAOarSUOVgCSA+sMKOCZAze4GU6wfgRJA7YkMXDBD\n",
       "alvhEgIMHL+R3HP2NcgooMR5BQauCcgSs6GW1xcw7FdAiNc+BVMzGRjsNzDwA+0/ALW8FUJbMTD0\n",
       "MjAAncSI6lwGtgLuJaAQM9YGu14NbiZ3o54DwvxtBgzEAQD5myLO3LtbBQAAAABJRU5ErkJggg==\n",
       "\" style=\"display:inline;vertical-align:middle;\" /></a> <a class=\"ProveItLink\" href=\"../__pv_it/demonstrations/38be3025aa6551ae4bd05e79b39e518d9836c8a30/proof.ipynb\" style=\"text-decoration: none\">&nbsp;&#x22A2;&nbsp;&nbsp;</a><a class=\"ProveItLink\" href=\"../../natural_numbers/__pv_it/theorems/eeefdffd3aa81290285f57914cfcea6647727dd80/expr.ipynb\"><img src=\"data:image/png;base64,iVBORw0KGgoAAAANSUhEUgAAAEAAAAATBAMAAADSXRa0AAAAMFBMVEX///8AAAAAAAAAAAAAAAAA\n",
       "AAAAAAAAAAAAAAAAAAAAAAAAAAAAAAAAAAAAAAAAAAAv3aB7AAAAD3RSTlMAEHarMolUmd1mIs3v\n",
       "RLtmgJDEAAAACXBIWXMAAA7EAAAOxAGVKw4bAAAA7klEQVQoz2NgwAcKGAiAB+QpYOx/t5GB9fxZ\n",
       "3CbwJVxmYJDHYwVzF+sEBh4G9nfvzr17iVVBHsMuBg4sJuh1dGwAK1ipsBqbgtuKMBMWmDAFIBQI\n",
       "KYuEJgBpro1wKxbwMbxFKChgMmJvANLcCxAKWAokJGAhybmA8yPzBJAChCMXMExjewPjsTCwg13G\n",
       "4NMBBA+gCpgFbBCO41EAU3LIJjAaSCAU3F/AKACkOJAVMDjxwXhyF2wYWEEMJgV4UDsAeX4wXr5j\n",
       "DcM1MGsbTIgb5OtqGE9cia0yAcwSfisAcfb+c0BSGkscXH0BCWoUAACz1jmMfap6cwAAAABJRU5E\n",
       "rkJggg==\n",
       "\" style=\"display:inline;vertical-align:middle;\" /></a></span>"
      ],
      "text/plain": [
       "{c in Integer, d in Integer, x in {c .. d}, c > 0} |- x in NaturalPos"
      ]
     },
     "metadata": {},
     "output_type": "display_data"
    }
   ],
   "source": [
    "InSet(x, NaturalPos).prove(\n",
    "    assumptions = [x_in_c_d_interval, InSet(c, Integer),\n",
    "                   InSet(d, Integer), greater(c, zero), LessEq(c, d)])"
   ]
  },
  {
   "cell_type": "markdown",
   "metadata": {},
   "source": [
    "Here is an interesting comparison case, comparing an attempted deduction when we assume that $x$ is in an Interval with explicit natural-number lower_- and upper_bounds, but where in one case the lower_bound ≤ the upper_bound as required and in the other case upper_bound ≤ lower_bound. The second, with “improper” bounds, is satisfied vacuously."
   ]
  },
  {
   "cell_type": "code",
   "execution_count": 17,
   "metadata": {},
   "outputs": [
    {
     "data": {
      "text/html": [
       "<span style=\"font-size:20px;\"><a class=\"ProveItLink\" href=\"../__pv_it/demonstrations/4b9361cacc232422bcbc11325a364dfbf97ba0610/expr.ipynb\"><img src=\"data:image/png;base64,iVBORw0KGgoAAAANSUhEUgAAAG0AAAAVBAMAAAC+p33JAAAAMFBMVEX///8AAAAAAAAAAAAAAAAA\n",
       "AAAAAAAAAAAAAAAAAAAAAAAAAAAAAAAAAAAAAAAAAAAv3aB7AAAAD3RSTlMAEHarMolUmd1mIs3v\n",
       "RLtmgJDEAAAACXBIWXMAAA7EAAAOxAGVKw4bAAABbElEQVQ4y2NgwAYY7zLgBlxZOKW0L+LRx+D8\n",
       "EIcE20egqeX7HLDJuQPxYxz6WBsYGNYxsP7FJtcMxBF49FkxMJzBIsWERR/Ti45uuL7zAgz2CzD1\n",
       "eW7G0Me7SQDJPgsGBnssHgyA6xNSFglNADFWCyC7Ewj6sThzAVxfAZMRO1jdLrgs+wYQyfIJU99K\n",
       "BpA+HSDmXMD5kXkCSGwDXHYNmM9hgMWZYH3rge5jgZrOwHKio6OjD8RavBcsUIepjXMBWB+jNchj\n",
       "PAqQtPUAJstSB/IpJxbrFjGA9bGCDb6/gBEcIg1waT6QllQGLox4uGxs/MeUgSEfqF7ugg0DK1hQ\n",
       "CSXeWQIYmASwRPxhII4B4nzHGoZrYBHuBGR9K8rLK8AceaD3GX/D9f2DxoO4ElslRAOj3UUkff3/\n",
       "/0MUcxQAiXaYtrr/RhjpjDcOKZ3hA/jSNTn6mA7g11eNqyT4hlcb40lcMsvN8JUvwcBwBACg1FPN\n",
       "bYHUhgAAAABJRU5ErkJggg==\n",
       "\" style=\"display:inline;vertical-align:middle;\" /></a> <a class=\"ProveItLink\" href=\"../__pv_it/demonstrations/efe8a1ecb8ac4bcb24a68c54f54ab7ad905cc5ea0/proof.ipynb\" style=\"text-decoration: none\">&nbsp;&#x22A2;&nbsp;&nbsp;</a><a class=\"ProveItLink\" href=\"../__pv_it/theorems/9dfd51fc82a5dda1e85f06fc33528e3db8c0b6dc0/expr.ipynb\"><img src=\"data:image/png;base64,iVBORw0KGgoAAAANSUhEUgAAADMAAAAQBAMAAABJt1qBAAAAMFBMVEX///8AAAAAAAAAAAAAAAAA\n",
       "AAAAAAAAAAAAAAAAAAAAAAAAAAAAAAAAAAAAAAAAAAAv3aB7AAAAD3RSTlMAEHarMolUmd1mIs3v\n",
       "RLtmgJDEAAAACXBIWXMAAA7EAAAOxAGVKw4bAAAA3UlEQVQY02NgwATZ50+/6DvJgA3omTBwM2zA\n",
       "KlXOwKDJmoBVyoqB8YEcqhDTi45uEC3AwO5ggiLDu0kAxnRmKQBRQsoioWCDV8NlGB7ygdkFTEbs\n",
       "DSDGLrgMW8AkEMW5gPMj8wQQC+FcqNNZGNghYiwnOjo6+sBMNdYLDIwgBo8CmM/4AKaJ8cE6Bgbm\n",
       "BUDW/QWMYEsbYFLMDlYMDPIMDHIXbBhYwSJKMCl3XqDTLRgY8h1rGK5BLIeFzUNuAYZ1eQwM4kps\n",
       "lRAxRruLEK+f2/PuzZ+nqMERBwkoKAAA5a8vMuYfrScAAAAASUVORK5CYII=\n",
       "\" style=\"display:inline;vertical-align:middle;\" /></a></span>"
      ],
      "text/plain": [
       "{x in {2 .. 4}} |- x in Integer"
      ]
     },
     "metadata": {},
     "output_type": "display_data"
    }
   ],
   "source": [
    "InSet(x, Integer).prove(assumptions = [InSet(x, Interval(two, four))])"
   ]
  },
  {
   "cell_type": "code",
   "execution_count": 18,
   "metadata": {},
   "outputs": [
    {
     "data": {
      "text/html": [
       "<span style=\"font-size:20px;\"><a class=\"ProveItLink\" href=\"../__pv_it/demonstrations/1cbcdcefb343ed71967891442f1c96823e0813550/expr.ipynb\"><img src=\"data:image/png;base64,iVBORw0KGgoAAAANSUhEUgAAAG0AAAAVBAMAAAC+p33JAAAAMFBMVEX///8AAAAAAAAAAAAAAAAA\n",
       "AAAAAAAAAAAAAAAAAAAAAAAAAAAAAAAAAAAAAAAAAAAv3aB7AAAAD3RSTlMAEHarMolUmd1mIs3v\n",
       "RLtmgJDEAAAACXBIWXMAAA7EAAAOxAGVKw4bAAABc0lEQVQ4y2NgwAYY7zLgBlxZOKW0L+LRx+D8\n",
       "EIcE20cQyVKAKbO8+gmQfIxDH2sDiOQwwHTiA4b4CwwMEXj1aWDqY17AwHMAQx/Ti45uhD6W2Zj6\n",
       "eD4yMP9C18e7SQDZPlZuLPY1MDB/geoTUhYJTQAxVguguFMLiz6Qrz9A9RUwGbGD/bMLLse+ARgE\n",
       "E7Dr81dgYNAB0pwLOD8yTwCJbIDLrQHyWRmw62sG4vVA97GATQeFw4mOjo4+EGvxXiAxC7s+9geg\n",
       "5GQN8hiPAiRtPYDJsdQJMHApYNc3Gex/kMEM9xcwgkOkAS7JZ8DAa2xsfzgAMyUFMKxiYMgHqpe7\n",
       "YAP0CwgoocU7Dxb7XBkYFBkYYoCsfMcahmtgMe4EVH38EIfLA73P+BuaztrLyxsg8SCuxFYJ0cBo\n",
       "dxFZH/v7z2CPc4CSdzs08v7//78BI53xxiGnMzwAf7omXR/TAfz6qnGVBN/wamM8iUtmuRm+8iUY\n",
       "GI4AyURRV83xrvIAAAAASUVORK5CYII=\n",
       "\" style=\"display:inline;vertical-align:middle;\" /></a> <a class=\"ProveItLink\" href=\"../__pv_it/demonstrations/69482ed64d6861baf10eb40229e2b78cab1fa7030/proof.ipynb\" style=\"text-decoration: none\">&nbsp;&#x22A2;&nbsp;&nbsp;</a><a class=\"ProveItLink\" href=\"../__pv_it/theorems/9dfd51fc82a5dda1e85f06fc33528e3db8c0b6dc0/expr.ipynb\"><img src=\"data:image/png;base64,iVBORw0KGgoAAAANSUhEUgAAADMAAAAQBAMAAABJt1qBAAAAMFBMVEX///8AAAAAAAAAAAAAAAAA\n",
       "AAAAAAAAAAAAAAAAAAAAAAAAAAAAAAAAAAAAAAAAAAAv3aB7AAAAD3RSTlMAEHarMolUmd1mIs3v\n",
       "RLtmgJDEAAAACXBIWXMAAA7EAAAOxAGVKw4bAAAA3UlEQVQY02NgwATZ50+/6DvJgA3omTBwM2zA\n",
       "KlXOwKDJmoBVyoqB8YEcqhDTi45uEC3AwO5ggiLDu0kAxnRmKQBRQsoioWCDV8NlGB7ygdkFTEbs\n",
       "DSDGLrgMW8AkEMW5gPMj8wQQC+FcqNNZGNghYiwnOjo6+sBMNdYLDIwgBo8CmM/4AKaJ8cE6Bgbm\n",
       "BUDW/QWMYEsbYFLMDlYMDPIMDHIXbBhYwSJKMCl3XqDTLRgY8h1rGK5BLIeFzUNuAYZ1eQwM4kps\n",
       "lRAxRruLEK+f2/PuzZ+nqMERBwkoKAAA5a8vMuYfrScAAAAASUVORK5CYII=\n",
       "\" style=\"display:inline;vertical-align:middle;\" /></a></span>"
      ],
      "text/plain": [
       "{x in {4 .. 2}} |- x in Integer"
      ]
     },
     "metadata": {},
     "output_type": "display_data"
    }
   ],
   "source": [
    "InSet(x, Integer).prove(assumptions = [InSet(x, Interval(four, two))])"
   ]
  },
  {
   "cell_type": "markdown",
   "metadata": {},
   "source": [
    "And here are other interesting test cases — where the Interval is created with “illegitimate” bounds (because the upper_bound < lower_bound), so we obtain vacuously true (and somewhat misleading-looking) conclusions: now it looks like we can simultaneously obtain $x \\ge 4$ and $x \\le 2$."
   ]
  },
  {
   "cell_type": "code",
   "execution_count": 19,
   "metadata": {},
   "outputs": [
    {
     "data": {
      "text/html": [
       "<span style=\"font-size:20px;\"><a class=\"ProveItLink\" href=\"../__pv_it/demonstrations/1cbcdcefb343ed71967891442f1c96823e0813550/expr.ipynb\"><img src=\"data:image/png;base64,iVBORw0KGgoAAAANSUhEUgAAAG0AAAAVBAMAAAC+p33JAAAAMFBMVEX///8AAAAAAAAAAAAAAAAA\n",
       "AAAAAAAAAAAAAAAAAAAAAAAAAAAAAAAAAAAAAAAAAAAv3aB7AAAAD3RSTlMAEHarMolUmd1mIs3v\n",
       "RLtmgJDEAAAACXBIWXMAAA7EAAAOxAGVKw4bAAABc0lEQVQ4y2NgwAYY7zLgBlxZOKW0L+LRx+D8\n",
       "EIcE20cQyVKAKbO8+gmQfIxDH2sDiOQwwHTiA4b4CwwMEXj1aWDqY17AwHMAQx/Ti45uhD6W2Zj6\n",
       "eD4yMP9C18e7SQDZPlZuLPY1MDB/geoTUhYJTQAxVguguFMLiz6Qrz9A9RUwGbGD/bMLLse+ARgE\n",
       "E7Dr81dgYNAB0pwLOD8yTwCJbIDLrQHyWRmw62sG4vVA97GATQeFw4mOjo4+EGvxXiAxC7s+9geg\n",
       "5GQN8hiPAiRtPYDJsdQJMHApYNc3Gex/kMEM9xcwgkOkAS7JZ8DAa2xsfzgAMyUFMKxiYMgHqpe7\n",
       "YAP0CwgoocU7Dxb7XBkYFBkYYoCsfMcahmtgMe4EVH38EIfLA73P+BuaztrLyxsg8SCuxFYJ0cBo\n",
       "dxFZH/v7z2CPc4CSdzs08v7//78BI53xxiGnMzwAf7omXR/TAfz6qnGVBN/wamM8iUtmuRm+8iUY\n",
       "GI4AyURRV83xrvIAAAAASUVORK5CYII=\n",
       "\" style=\"display:inline;vertical-align:middle;\" /></a> <a class=\"ProveItLink\" href=\"../__pv_it/demonstrations/c039a505b4d3a9d890487d8ddc59bfbe468d2b830/proof.ipynb\" style=\"text-decoration: none\">&nbsp;&#x22A2;&nbsp;&nbsp;</a><a class=\"ProveItLink\" href=\"../__pv_it/demonstrations/130b8ff14dbc00d3cde6951e79b2456b1efaa5810/expr.ipynb\"><img src=\"data:image/png;base64,iVBORw0KGgoAAAANSUhEUgAAADEAAAARBAMAAACGHlkZAAAAMFBMVEX///8AAAAAAAAAAAAAAAAA\n",
       "AAAAAAAAAAAAAAAAAAAAAAAAAAAAAAAAAAAAAAAAAAAv3aB7AAAAD3RSTlMAMpndq3ZmzYkiRO+7\n",
       "VBCly6GvAAAACXBIWXMAAA7EAAAOxAGVKw4bAAAAp0lEQVQY02NgYGAQYsAFTBDM6xOQJVgRMsl6\n",
       "KFrESmCs4D5UwxqgMnzNAagSrBMgMnzKCTChpyEPOy4wMExjAMvwuV+AK1ZgdWUyABoGkWFAyLBN\n",
       "YPvHkgCkoDKccNMYGZgKgNRUBgZMF3CDWEtcXH57oLt6/QS+ByB6C5pP3yzwZuAA8/8ghY4AkLgv\n",
       "p82wFsTT+e+K6sNHobxqFxgoAnzGYCAAFwAAuCgnOT2uW20AAAAASUVORK5CYII=\n",
       "\" style=\"display:inline;vertical-align:middle;\" /></a></span>"
      ],
      "text/plain": [
       "{x in {4 .. 2}} |- 4 <= x"
      ]
     },
     "metadata": {},
     "output_type": "display_data"
    }
   ],
   "source": [
    "LessEq(four, x).prove(assumptions = [InSet(x, Interval(four, two))])"
   ]
  },
  {
   "cell_type": "code",
   "execution_count": 20,
   "metadata": {},
   "outputs": [
    {
     "data": {
      "text/html": [
       "<span style=\"font-size:20px;\"><a class=\"ProveItLink\" href=\"../__pv_it/demonstrations/1cbcdcefb343ed71967891442f1c96823e0813550/expr.ipynb\"><img src=\"data:image/png;base64,iVBORw0KGgoAAAANSUhEUgAAAG0AAAAVBAMAAAC+p33JAAAAMFBMVEX///8AAAAAAAAAAAAAAAAA\n",
       "AAAAAAAAAAAAAAAAAAAAAAAAAAAAAAAAAAAAAAAAAAAv3aB7AAAAD3RSTlMAEHarMolUmd1mIs3v\n",
       "RLtmgJDEAAAACXBIWXMAAA7EAAAOxAGVKw4bAAABc0lEQVQ4y2NgwAYY7zLgBlxZOKW0L+LRx+D8\n",
       "EIcE20cQyVKAKbO8+gmQfIxDH2sDiOQwwHTiA4b4CwwMEXj1aWDqY17AwHMAQx/Ti45uhD6W2Zj6\n",
       "eD4yMP9C18e7SQDZPlZuLPY1MDB/geoTUhYJTQAxVguguFMLiz6Qrz9A9RUwGbGD/bMLLse+ARgE\n",
       "E7Dr81dgYNAB0pwLOD8yTwCJbIDLrQHyWRmw62sG4vVA97GATQeFw4mOjo4+EGvxXiAxC7s+9geg\n",
       "5GQN8hiPAiRtPYDJsdQJMHApYNc3Gex/kMEM9xcwgkOkAS7JZ8DAa2xsfzgAMyUFMKxiYMgHqpe7\n",
       "YAP0CwgoocU7Dxb7XBkYFBkYYoCsfMcahmtgMe4EVH38EIfLA73P+BuaztrLyxsg8SCuxFYJ0cBo\n",
       "dxFZH/v7z2CPc4CSdzs08v7//78BI53xxiGnMzwAf7omXR/TAfz6qnGVBN/wamM8iUtmuRm+8iUY\n",
       "GI4AyURRV83xrvIAAAAASUVORK5CYII=\n",
       "\" style=\"display:inline;vertical-align:middle;\" /></a> <a class=\"ProveItLink\" href=\"../__pv_it/demonstrations/0473a0a299bce23c84f0aef5448e062b50e6148b0/proof.ipynb\" style=\"text-decoration: none\">&nbsp;&#x22A2;&nbsp;&nbsp;</a><a class=\"ProveItLink\" href=\"../__pv_it/demonstrations/2b54dd78a10c43e371c3bc7c0e83a0048d91a6610/expr.ipynb\"><img src=\"data:image/png;base64,iVBORw0KGgoAAAANSUhEUgAAADEAAAARBAMAAACGHlkZAAAAMFBMVEX///8AAAAAAAAAAAAAAAAA\n",
       "AAAAAAAAAAAAAAAAAAAAAAAAAAAAAAAAAAAAAAAAAAAv3aB7AAAAD3RSTlMAEHarMolUmd1mIs3v\n",
       "RLtmgJDEAAAACXBIWXMAAA7EAAAOxAGVKw4bAAAAuUlEQVQY02NgwAK4yvc5oIux7QKR6xhY/6JJ\n",
       "cLYLgCgrBoYzqBJMrWAJhvMCDPYLkCVEm6AMCwYGe6BFQsoioQkgvngnkqp+IC5gMmJvANLC25Ak\n",
       "WD4BLV3A+ZF5ApDDjCzDYQCUZWDfAOEtRzKtDkzyKKC7gIHTAEzdX8AogOpqhlQGrgUMchdsGFjR\n",
       "fMoSwMAkwJDvWMNwDRE6W0DkivLyCqAvlNgqE9ACqf///98MlAGJDhBogfMBRhsm9ZoaMV0AAAAA\n",
       "SUVORK5CYII=\n",
       "\" style=\"display:inline;vertical-align:middle;\" /></a></span>"
      ],
      "text/plain": [
       "{x in {4 .. 2}} |- x <= 2"
      ]
     },
     "metadata": {},
     "output_type": "display_data"
    }
   ],
   "source": [
    "LessEq(x, two).prove(assumptions = [InSet(x, Interval(four, two))])"
   ]
  },
  {
   "cell_type": "markdown",
   "metadata": {},
   "source": [
    "The following enters the interval_membership.side_effects() method as expected (although it will FAIL if we're still checking for lower_bound ≤ upper_bound in the side_effects() sub-methods)."
   ]
  },
  {
   "cell_type": "code",
   "execution_count": 21,
   "metadata": {},
   "outputs": [
    {
     "data": {
      "text/html": [
       "<span style=\"font-size:20px;\"><a class=\"ProveItLink\" href=\"../__pv_it/demonstrations/5de2b0e951d093cee2a298f981930bae441f352e0/expr.ipynb\"><img src=\"data:image/png;base64,iVBORw0KGgoAAAANSUhEUgAAAG0AAAAVBAMAAAC+p33JAAAAMFBMVEX///8AAAAAAAAAAAAAAAAA\n",
       "AAAAAAAAAAAAAAAAAAAAAAAAAAAAAAAAAAAAAAAAAAAv3aB7AAAAD3RSTlMAEHarMolUmd1mIs3v\n",
       "RLtmgJDEAAAACXBIWXMAAA7EAAAOxAGVKw4bAAABV0lEQVQ4y2NgwAYY7zLgBlxZOKW0L+LRx+D8\n",
       "EIcE20cgwdKIRWZ59RMg+RiHPtYGBgbh6o9YnPiAIf4CA0MEHn0MTFj0MS9g4DmAoY/pRUc3fn08\n",
       "HxmYf6Hr490kQNC+BgbmL1B9QsoioQkgxmoBgu4EAo4PUH0FTEbsIHUMu+By7Btw6/NXYGDQAdKc\n",
       "Czg/Mk8AiWyAy62ZgFtfMxCvB7qPBWI6kHGio6OjD8RavJcBpz72B6DkZA3yGI8CJG09gMmx1Ang\n",
       "1DcZ7H+wwfcXMIJDpAEuyWeASx9bAMMqBoZ8oHq5CzYMrGAxJcLxzuDKwKDIwBADZOU71jBcA4tx\n",
       "J6DoY/0F4cgDvc/4G5rO2svLGyDxIK7EVgnRwGh3EUkfs81vS0iEFQCJdmjk/f//fwNGOuONQ05n\n",
       "eADedE2GPqYD+PVV4yoJvuHVxngSl8xyM3zlSzAwHAEHRFWLWXgQwgAAAABJRU5ErkJggg==\n",
       "\" style=\"display:inline;vertical-align:middle;\" /></a> <a class=\"ProveItLink\" href=\"../__pv_it/demonstrations/1543f2de347512522512563d676c2f56fa9dabc40/proof.ipynb\" style=\"text-decoration: none\">&nbsp;&#x22A2;&nbsp;&nbsp;</a><a class=\"ProveItLink\" href=\"../../natural_numbers/__pv_it/theorems/eeefdffd3aa81290285f57914cfcea6647727dd80/expr.ipynb\"><img src=\"data:image/png;base64,iVBORw0KGgoAAAANSUhEUgAAAEAAAAATBAMAAADSXRa0AAAAMFBMVEX///8AAAAAAAAAAAAAAAAA\n",
       "AAAAAAAAAAAAAAAAAAAAAAAAAAAAAAAAAAAAAAAAAAAv3aB7AAAAD3RSTlMAEHarMolUmd1mIs3v\n",
       "RLtmgJDEAAAACXBIWXMAAA7EAAAOxAGVKw4bAAAA7klEQVQoz2NgwAcKGAiAB+QpYOx/t5GB9fxZ\n",
       "3CbwJVxmYJDHYwVzF+sEBh4G9nfvzr17iVVBHsMuBg4sJuh1dGwAK1ipsBqbgtuKMBMWmDAFIBQI\n",
       "KYuEJgBpro1wKxbwMbxFKChgMmJvANLcCxAKWAokJGAhybmA8yPzBJAChCMXMExjewPjsTCwg13G\n",
       "4NMBBA+gCpgFbBCO41EAU3LIJjAaSCAU3F/AKACkOJAVMDjxwXhyF2wYWEEMJgV4UDsAeX4wXr5j\n",
       "DcM1MGsbTIgb5OtqGE9cia0yAcwSfisAcfb+c0BSGkscXH0BCWoUAACz1jmMfap6cwAAAABJRU5E\n",
       "rkJggg==\n",
       "\" style=\"display:inline;vertical-align:middle;\" /></a></span>"
      ],
      "text/plain": [
       "{x in {1 .. 2}} |- x in NaturalPos"
      ]
     },
     "metadata": {},
     "output_type": "display_data"
    }
   ],
   "source": [
    "InSet(x, NaturalPos).prove(assumptions = [InSet(x, Interval(one, two))])"
   ]
  },
  {
   "cell_type": "markdown",
   "metadata": {},
   "source": [
    "Unfortunately, the following is also (vacuously) true, since the integer interval Interval(2, 1) is not valid:"
   ]
  },
  {
   "cell_type": "code",
   "execution_count": 22,
   "metadata": {},
   "outputs": [
    {
     "data": {
      "text/html": [
       "<span style=\"font-size:20px;\"><a class=\"ProveItLink\" href=\"../__pv_it/demonstrations/a0f6f3e3a21464dc9827de10e868e042f486c6ca0/expr.ipynb\"><img src=\"data:image/png;base64,iVBORw0KGgoAAAANSUhEUgAAAG0AAAAVBAMAAAC+p33JAAAAMFBMVEX///8AAAAAAAAAAAAAAAAA\n",
       "AAAAAAAAAAAAAAAAAAAAAAAAAAAAAAAAAAAAAAAAAAAv3aB7AAAAD3RSTlMAEHarMolUmd1mIs3v\n",
       "RLtmgJDEAAAACXBIWXMAAA7EAAAOxAGVKw4bAAABT0lEQVQ4y2NgwAYY7zLgBlxZOKW0L+LRx+D8\n",
       "EIcE20egqeX7HLBIeQgAicc49LE2MDCsY2D9i+l+8/0gfRF49FkxMJzBIqWPRR/Ti45uuL7zAgz2\n",
       "C4jSx7tJAMk+CwYGewd8+oSURUITQIzVAsjuBIJ+vO4sYDJiB6vbBZdk3wAiWT7h0qcDxJwLOD8y\n",
       "TwAJbYBLrgHzOQxw6VsPdB8L1HQGlhMdHR19INbivWCBOgZc+hitQR7jUYDEzQOYHEsdSJLTAKc+\n",
       "VrDB9xcwgkOkAS7JB9KSysCFKx7ygYTcBRsGVrCQEkq8swQwMAng0BcD0utYw3ANLMSdgKxvRXl5\n",
       "BZgjD/Q+42+YVPwCaDyIK7FVQjQw2l1E0tf//z9EMUcBkGiHyhif3zwBI53xxiGlM3wAX7omRx/T\n",
       "Afz6qnGVBN/wamM8iUtmuRm+8iUYGI4AdotLWfcFI6YAAAAASUVORK5CYII=\n",
       "\" style=\"display:inline;vertical-align:middle;\" /></a> <a class=\"ProveItLink\" href=\"../__pv_it/demonstrations/4252769d876261ce0ae757895b14a4a770b60b630/proof.ipynb\" style=\"text-decoration: none\">&nbsp;&#x22A2;&nbsp;&nbsp;</a><a class=\"ProveItLink\" href=\"../__pv_it/theorems/9dfd51fc82a5dda1e85f06fc33528e3db8c0b6dc0/expr.ipynb\"><img src=\"data:image/png;base64,iVBORw0KGgoAAAANSUhEUgAAADMAAAAQBAMAAABJt1qBAAAAMFBMVEX///8AAAAAAAAAAAAAAAAA\n",
       "AAAAAAAAAAAAAAAAAAAAAAAAAAAAAAAAAAAAAAAAAAAv3aB7AAAAD3RSTlMAEHarMolUmd1mIs3v\n",
       "RLtmgJDEAAAACXBIWXMAAA7EAAAOxAGVKw4bAAAA3UlEQVQY02NgwATZ50+/6DvJgA3omTBwM2zA\n",
       "KlXOwKDJmoBVyoqB8YEcqhDTi45uEC3AwO5ggiLDu0kAxnRmKQBRQsoioWCDV8NlGB7ygdkFTEbs\n",
       "DSDGLrgMW8AkEMW5gPMj8wQQC+FcqNNZGNghYiwnOjo6+sBMNdYLDIwgBo8CmM/4AKaJ8cE6Bgbm\n",
       "BUDW/QWMYEsbYFLMDlYMDPIMDHIXbBhYwSJKMCl3XqDTLRgY8h1rGK5BLIeFzUNuAYZ1eQwM4kps\n",
       "lRAxRruLEK+f2/PuzZ+nqMERBwkoKAAA5a8vMuYfrScAAAAASUVORK5CYII=\n",
       "\" style=\"display:inline;vertical-align:middle;\" /></a></span>"
      ],
      "text/plain": [
       "{x in {2 .. 1}} |- x in Integer"
      ]
     },
     "metadata": {},
     "output_type": "display_data"
    }
   ],
   "source": [
    "InSet(x, Integer).prove(assumptions = [InSet(x, Interval(two, one))])"
   ]
  },
  {
   "cell_type": "markdown",
   "metadata": {},
   "source": [
    "And to make things even more explicit, notice we can “appear” to prove that $8 \\le 3$, but this judgment is vacuously true:"
   ]
  },
  {
   "cell_type": "code",
   "execution_count": 23,
   "metadata": {},
   "outputs": [
    {
     "data": {
      "text/html": [
       "<span style=\"font-size:20px;\"><a class=\"ProveItLink\" href=\"../__pv_it/demonstrations/35ba05e5b60c303a71efc7f4aba56fbcfa87d3490/expr.ipynb\"><img src=\"data:image/png;base64,iVBORw0KGgoAAAANSUhEUgAAAG0AAAAVBAMAAAC+p33JAAAAMFBMVEX///8AAAAAAAAAAAAAAAAA\n",
       "AAAAAAAAAAAAAAAAAAAAAAAAAAAAAAAAAAAAAAAAAAAv3aB7AAAAD3RSTlMAEHarMolUmd1mIs3v\n",
       "RLtmgJDEAAAACXBIWXMAAA7EAAAOxAGVKw4bAAABgklEQVQ4y2NgwAYY7zLgBlxZOKW0L+LRx+D8\n",
       "EIcE20eglaHhFzBlloa/BZKPcehjbWBgYGdgMMN0fwFDfgIDQwQefTMZGKQxJJi+MchvwNDH9KKj\n",
       "G64vGJs+3rMM/Bj6eDcJINmX/5ChEptb8idA9Qkpi4QmgBirBZDdyfxfPQGLNt5OBqi+AiYj9gYQ\n",
       "Yxdckh3oFob6HwswtbEomwBJHSDmXMD5kXkCSGwDXHYNkM8W9f4bVncCXbEeiFkgpgMZJzo6OvpA\n",
       "rMV7gcR0BrY/Alj08YDi1hrkBR4FSNw8gDumDqjhIMRYNGc6MPABXcEKMpjh/gJGsMENcGk+AwbG\n",
       "D8CgmYCuj/8jWF8+UL3cBRsGVrCgEkq8nwJqxwgYHgOwO2NA/nSsYbgGFuROQNZ3W4BhEpgDSiCM\n",
       "vyESnBPg8SeuxFYJ0cBodxFJH4t5OSRdcxQAiXaozPXytwwY6Yw3Dimd4QP40jU5+pgO4NdXjask\n",
       "+IZXG+NJXDLLzfCVL8HAcAQANAtasu0jjOcAAAAASUVORK5CYII=\n",
       "\" style=\"display:inline;vertical-align:middle;\" /></a> <a class=\"ProveItLink\" href=\"../__pv_it/demonstrations/8c4ee8cd8613b05f360cbc6ce490ab9a7ef8b0910/proof.ipynb\" style=\"text-decoration: none\">&nbsp;&#x22A2;&nbsp;&nbsp;</a><a class=\"ProveItLink\" href=\"../__pv_it/demonstrations/6a43a17681fac9e8d50ea70d0deced1a90413c880/expr.ipynb\"><img src=\"data:image/png;base64,iVBORw0KGgoAAAANSUhEUgAAADEAAAARBAMAAACGHlkZAAAAMFBMVEX///8AAAAAAAAAAAAAAAAA\n",
       "AAAAAAAAAAAAAAAAAAAAAAAAAAAAAAAAAAAAAAAAAAAv3aB7AAAAD3RSTlMAEImZRKtUZs27dt0i\n",
       "7zLMHA9cAAAACXBIWXMAAA7EAAAOxAGVKw4bAAAAxklEQVQY02NgEFIyYUADPEqWDkDKgIE1AS7G\n",
       "1gMihRnYvjEwsBcwMDbAJNg3C4Co9QmMPxgYmAIQMlybwBIMvg4MQBm2nwLMBRAJoV0IU78Difhf\n",
       "ZhCe8HaEG7xBipn/7wFzRNsQEq9CHwDJpJP/wW5jRZKBuM2AIf8imHcYyTSG+wIMvAIMPN/QXPCO\n",
       "gWF+AoM8kBWO5ur/AiAZ3gMMDHPQfHoVbBpLIwP7AoTNfSCyHOKfp8YYIcpiDA5RSoD0bhDYB+cD\n",
       "AJDSMcvzbs/qAAAAAElFTkSuQmCC\n",
       "\" style=\"display:inline;vertical-align:middle;\" /></a></span>"
      ],
      "text/plain": [
       "{x in {8 .. 3}} |- 8 <= 3"
      ]
     },
     "metadata": {},
     "output_type": "display_data"
    }
   ],
   "source": [
    "LessEq(eight, three).prove(assumptions = [InSet(x, Interval(eight, three))])"
   ]
  },
  {
   "cell_type": "markdown",
   "metadata": {},
   "source": [
    "#### Testing `Interval.deduce_cardinality()` method"
   ]
  },
  {
   "cell_type": "code",
   "execution_count": 24,
   "metadata": {},
   "outputs": [
    {
     "data": {
      "text/html": [
       "<strong id=\"interval_3_to_8\">interval_3_to_8:</strong> <a class=\"ProveItLink\" href=\"../__pv_it/demonstrations/fdafb012a1e06d9ded6b63ea96678459ccfc31920/expr.ipynb\"><img src=\"data:image/png;base64,iVBORw0KGgoAAAANSUhEUgAAAEcAAAAVBAMAAADm2O7QAAAAMFBMVEX///8AAAAAAAAAAAAAAAAA\n",
       "AAAAAAAAAAAAAAAAAAAAAAAAAAAAAAAAAAAAAAAAAAAv3aB7AAAAD3RSTlMAEER2zVSJ3Zki72ar\n",
       "MruaaVGaAAAACXBIWXMAAA7EAAAOxAGVKw4bAAABD0lEQVQoz2NgYGBUYsANOCMhtIkiHkUMdx6C\n",
       "SNaPQPVpfQqY8mJpTUDyDYjJVsDAIMHA+hVTUQMDTwADQzpMkX0A4xcMNdwbGBgdkBRpKTBgKmI7\n",
       "gKoI6LLfGIpY/wlwbEBRpL4B003nP7cyQBVxAI1kuHzmAqYijv+VQNIKxJwFNgOb78Lm/Qf6bj4Q\n",
       "z3GCiKwXwPBdA0P8QmCEHAlg4O0Dyt5lYHgfgK6IS4CBE2g+G8gUvgMMDP8FsCiSB+LTDAzxAlDf\n",
       "rcFmHdcEBoaXDAxZsCDYDQ0ncLjDAp/JkYHbACmcmDqgEVwBJ0AJoKOJASUwcQPiFTEvwK+oBZxA\n",
       "v+JVw7gaTM04ii+N5wDDDwAJ2kKovk4n6QAAAABJRU5ErkJggg==\n",
       "\" style=\"display:inline;vertical-align:middle;\" /></a><br>"
      ],
      "text/plain": [
       "<IPython.core.display.HTML object>"
      ]
     },
     "metadata": {},
     "output_type": "display_data"
    },
    {
     "data": {
      "text/html": [
       "<strong id=\"interval_0_to_2_pow_t\">interval_0_to_2_pow_t:</strong> <a class=\"ProveItLink\" href=\"../__pv_it/demonstrations/412b000abbe60b0c1d832ca48d93ec9729950aee0/expr.ipynb\"><img src=\"data:image/png;base64,iVBORw0KGgoAAAANSUhEUgAAAE8AAAAYBAMAAABJkb36AAAAMFBMVEX///8AAAAAAAAAAAAAAAAA\n",
       "AAAAAAAAAAAAAAAAAAAAAAAAAAAAAAAAAAAAAAAAAAAv3aB7AAAAD3RSTlMAEER2zVSJ3Zki72ar\n",
       "MruaaVGaAAAACXBIWXMAAA7EAAAOxAGVKw4bAAABPklEQVQoz2NgIABYJjAQB+SJVMcQgmAyKuFR\n",
       "N60kl4EzEsI2UcRnoisQ33kIYrF+BBJpFljcPKPlLQMDSJbhDYhgKwB6LYCxEkMd5wOGfAWmBSBm\n",
       "OkzhdgaGPAyFPBMYuBYwH5BFVgg0Ol4AXSHXRwaenxwGicgKfzAw3A/AMLGAgecvb/cFJIWMIIUb\n",
       "sHiZ/QOEBivkcGDg/AZUaIBFIUzQCkTM2gBRmIBFYQ2Ung901xwnYNwAFepjMZHjASzyjgQw8PYJ\n",
       "gD0TH4CpcA+MwQY0jYHvAAPDOwaG/RjBw8CawDATwgKHHSh4djEwtGAaeI2BwRDCyoKFI3sA41pI\n",
       "6nMAOugLNAorOjoKkIIHpJCxzeYCJOAagEQFNBD////vgKaQECBNIfMCwgrBPuX8SlAd42pIQj5K\n",
       "QB1nDjAyAIMTTD1SZZ0SAAAAAElFTkSuQmCC\n",
       "\" style=\"display:inline;vertical-align:middle;\" /></a><br>"
      ],
      "text/plain": [
       "<IPython.core.display.HTML object>"
      ]
     },
     "metadata": {},
     "output_type": "display_data"
    }
   ],
   "source": [
    "from proveit import t\n",
    "from proveit.numbers import Exp\n",
    "interval_3_to_8, interval_0_to_2_pow_t = (\n",
    "    Interval(three, eight), Interval(zero, Exp(two, t)))"
   ]
  },
  {
   "cell_type": "code",
   "execution_count": 25,
   "metadata": {},
   "outputs": [
    {
     "data": {
      "text/html": [
       "<span style=\"font-size:20px;\"> <a class=\"ProveItLink\" href=\"../__pv_it/demonstrations/edc49328a021f152ee2c8cf81542babbd16360f80/proof.ipynb\" style=\"text-decoration: none\">&nbsp;&#x22A2;&nbsp;&nbsp;</a><a class=\"ProveItLink\" href=\"../__pv_it/demonstrations/46daa5ef07fbaf2db0de502c2ef62e99beec8d660/expr.ipynb\"><img src=\"data:image/png;base64,iVBORw0KGgoAAAANSUhEUgAAAHkAAAAVBAMAAACQ4lxbAAAAMFBMVEX///8AAAAAAAAAAAAAAAAA\n",
       "AAAAAAAAAAAAAAAAAAAAAAAAAAAAAAAAAAAAAAAAAAAv3aB7AAAAD3RSTlMAIolEdjIQzVTdme9m\n",
       "q7te72h9AAAACXBIWXMAAA7EAAAOxAGVKw4bAAABiElEQVQ4y2MQYACCZAMG3EACpIQRu5wyELMU\n",
       "J+DRzXoPKMtkgFN3P1BaSOsxpiSbkhZQF98FbLqZlFQhujWB6hYw9Ddg6OZiYLgBVDcBi27GYoab\n",
       "cN0sPxjyCzB0n2FgSMehm92B4R1cN/NmBn5M3bq4dfcnwPytCeEfwNDd/4xhDQ7drxlQdDPPwQw1\n",
       "3v9eDTh0bw/yMoDoXg6KF9+rWGJk/U9gZLNsgOleORME5oKY3w8w7ADrZtwDcSZmmHMovv8BlP+B\n",
       "aTfbfwaG1QlA3YzXITLc3zB0n2Lg+A0MndwKTN0/GRjOG4DsjnoGdHgAA98PDN3bGBjkgS5SN8D0\n",
       "93eg7gNgf79lYOD/hkU32wdgwB1g4PiGxd8vYXaDwpz7AjaXbwQmUwEGpg3Y4hvob3iM8RyAxjc4\n",
       "xcGSnXkCwxEcMcanwLYDEd9WqyC5hHMBjABF461VBjh0M2itDUBOazgBdt2oaY1s3d74dXMV4NUt\n",
       "34BXd/YBnLpdQTl9LT7tQjdAhVcANikAywpoZnF94JgAAAAASUVORK5CYII=\n",
       "\" style=\"display:inline;vertical-align:middle;\" /></a></span>"
      ],
      "text/plain": [
       "|- |{3 .. 8}| = 6"
      ]
     },
     "metadata": {},
     "output_type": "display_data"
    }
   ],
   "source": [
    "interval_3_to_8.deduce_cardinality()"
   ]
  },
  {
   "cell_type": "code",
   "execution_count": 26,
   "metadata": {},
   "outputs": [
    {
     "data": {
      "text/html": [
       "<span style=\"font-size:20px;\"><a class=\"ProveItLink\" href=\"../__pv_it/demonstrations/67d383d7072d8c15ce0bbfafed4c8854255d43740/expr.ipynb\"><img src=\"data:image/png;base64,iVBORw0KGgoAAAANSUhEUgAAAEUAAAAUBAMAAAApce1IAAAAMFBMVEX///8AAAAAAAAAAAAAAAAA\n",
       "AAAAAAAAAAAAAAAAAAAAAAAAAAAAAAAAAAAAAAAAAAAv3aB7AAAAD3RSTlMAIpnNuzKJRKvvEN12\n",
       "ZlQ4bmvwAAAACXBIWXMAAA7EAAAOxAGVKw4bAAABH0lEQVQoz2NgAANDBoKA6wMuGSY4i88AlxoW\n",
       "GIMx2yyAkBoG5geoMqu/OC9gyPxZAFXDqGQSwMC/AE27H3sDxJFgNSIMbN8ZKtGt6BbIZWCYwKDi\n",
       "4unicoGhkYFhJsMJLjT39DkwCzBsgJkzfwFDv4AOG8QyHu/dm8GMxjuMBgg13QwM/QFBV8Ey7DYw\n",
       "dzVyBBxDqAGC/TAbhOFOb2RwYClAUsP6ByaDiJFGhiCuXRsQ4czdAJMxQFLD++DJBIQfVGAM1tm7\n",
       "d+/eAlXD0MWBUMMLN4bLAckchhVcG+DcZwyMAlDmBmQ1rAfgWlgTGHhg3jkDV+MKxEfhaqSVlLQx\n",
       "o9YO5CW4F/b///8Z7qCWKggj+CfQDC7siYo9BRoXKAAAO4pDRXkqRM0AAAAASUVORK5CYII=\n",
       "\" style=\"display:inline;vertical-align:middle;\" /></a>, <a class=\"ProveItLink\" href=\"../__pv_it/demonstrations/ee3e243319395b03753051b7c169da05c910e2cf0/expr.ipynb\"><img src=\"data:image/png;base64,iVBORw0KGgoAAAANSUhEUgAAADYAAAAWBAMAAAB5x3LYAAAAMFBMVEX///8AAAAAAAAAAAAAAAAA\n",
       "AAAAAAAAAAAAAAAAAAAAAAAAAAAAAAAAAAAAAAAAAAAv3aB7AAAAD3RSTlMAIpnNuzKJRKvvEN12\n",
       "ZlQ4bmvwAAAACXBIWXMAAA7EAAAOxAGVKw4bAAAA70lEQVQoz2NgAANDBpyA6wNuOT4DnFKM2WYB\n",
       "OCWZH2DXo2QSwMC/AF2YLUeRgUGEge07QyXERbYIOTuG1QIMjQwMMxlOcIHtW7YHJsW7gYHNgWH+\n",
       "AoZ+AR02iKE826CGszQw8P1i6GZg6A8IugpTD5XkV2Bg/Qdi7Ef2qZEAiFoPlPsLpFn/IDuQ3QKk\n",
       "Uz4BIszdgCJnApP7BqRVUELPAmJmAgM7UB8vsjbeTXC38AHd8oyBUQAmhfCDAwPvLwbWBAYeWIgh\n",
       "+X0CA5MBg7SSkjYsFpHCbB/DygCG/f//f8YSBYtyWhmoAbh2gwE8CQAADeo5l8SI46IAAAAASUVO\n",
       "RK5CYII=\n",
       "\" style=\"display:inline;vertical-align:middle;\" /></a> <a class=\"ProveItLink\" href=\"../__pv_it/demonstrations/16cab0f234c819472d61c7457b37f664daaa18b70/proof.ipynb\" style=\"text-decoration: none\">&nbsp;&#x22A2;&nbsp;&nbsp;</a><a class=\"ProveItLink\" href=\"../__pv_it/demonstrations/b480b5850cc9a947a42c48cbb57207c649c7cc8b0/expr.ipynb\"><img src=\"data:image/png;base64,iVBORw0KGgoAAAANSUhEUgAAALwAAAAaBAMAAAD/IitrAAAAMFBMVEX///8AAAAAAAAAAAAAAAAA\n",
       "AAAAAAAAAAAAAAAAAAAAAAAAAAAAAAAAAAAAAAAAAAAv3aB7AAAAD3RSTlMAIolEdjIQzVTdme9m\n",
       "q7te72h9AAAACXBIWXMAAA7EAAAOxAGVKw4bAAACjElEQVRIx6WVTWjUQBTH/8km2+xH3LUn9dAG\n",
       "rEpP7r0Hc1GQUggeezEgIlpkq156UYoXj64XdSulFcSli0quouBC8ViIB6mitHvRk4pr7e4ehDiT\n",
       "SbbuziSR7oNkwrx5v3l5780bIFmuJS8ZKWK/kv4Zo1xnQ1mkW/0vvDYfowsQd0TKMfL4f3WhFE2Q\n",
       "Jq9bOESXSbzyEhtGHxwTWOZN4CgZlRt2XFwXAXWLrJB5J74F44LQ8j7D36W2E48FntdvWSjQvQ+4\n",
       "IrzkAEdqX4D2oEYlaMww/KS//+WiIHryDqbol1wR4bMGpCZOllLOgOJqjW5YtkN8vgK5yeHfAa8w\n",
       "k7ai8IUS9CJyjuJeZBOpRqBRKH6kEeLJz2vcH+KNje3iE9mOwp+3kWtDb2XN40Elmf/is80QX1iF\n",
       "2uXwH4Fta/ZtZHDOAnoF+q76zBLhFSfElwn+jyj7K2wQ4zf9d2bv3PXjU20fXwPGDai/BfRwkjgS\n",
       "4NeqVJb92R8sRGYEXt2leOk1w/8S4DNuUIJdkfc3/fcyIvDSDsFLm8SsbCAl8v5Fr9QWBPglsAQG\n",
       "ZVqtPnpZrbo9fJriMfvVT63WFZxrN/w6UYryfgOR3vvBwXdSmE3k+cLEbUjssNGq5WNP8ZqBg1Gx\n",
       "b/WOlYMs3xlVAwprR7Ijiv0Wec4BZ+IrhzaFh5jzazfdoac52Olwvb4WV5jTJABL9XqFx8st+D6H\n",
       "+CsT7/fSlQna+IrndeLwp2xkPM+b5/D6p85nkmu3h08QMT43OKOZfa28MRyedMx+6bU0dkWyjjmd\n",
       "jKd55/GqE2u0wfr9+GIifq4hvK0+xBrdA07T8n+exB+lHMWKumvFkjcxpGhGjHIMQ8t6jO4p8BfK\n",
       "KqsTA+k9NQAAAABJRU5ErkJggg==\n",
       "\" style=\"display:inline;vertical-align:middle;\" /></a></span>"
      ],
      "text/plain": [
       "{2^{t} in NaturalPos, 2^{t} >= 0} |- |{0 .. 2^{t}}| = (2^{t} + 1)"
      ]
     },
     "metadata": {},
     "output_type": "display_data"
    }
   ],
   "source": [
    "interval_0_to_2_pow_t.deduce_cardinality(\n",
    "    assumptions=[InSet(Exp(two, t), NaturalPos), greater_eq(Exp(two, t), zero)])"
   ]
  },
  {
   "cell_type": "markdown",
   "metadata": {},
   "source": [
    "#### Derive membership in restricted number sets.\n",
    "***First, via automation***"
   ]
  },
  {
   "cell_type": "code",
   "execution_count": 27,
   "metadata": {},
   "outputs": [
    {
     "data": {
      "text/html": [
       "<span style=\"font-size:20px;\"><a class=\"ProveItLink\" href=\"../__pv_it/demonstrations/4b9361cacc232422bcbc11325a364dfbf97ba0610/expr.ipynb\"><img src=\"data:image/png;base64,iVBORw0KGgoAAAANSUhEUgAAAG0AAAAVBAMAAAC+p33JAAAAMFBMVEX///8AAAAAAAAAAAAAAAAA\n",
       "AAAAAAAAAAAAAAAAAAAAAAAAAAAAAAAAAAAAAAAAAAAv3aB7AAAAD3RSTlMAEHarMolUmd1mIs3v\n",
       "RLtmgJDEAAAACXBIWXMAAA7EAAAOxAGVKw4bAAABbElEQVQ4y2NgwAYY7zLgBlxZOKW0L+LRx+D8\n",
       "EIcE20egqeX7HLDJuQPxYxz6WBsYGNYxsP7FJtcMxBF49FkxMJzBIsWERR/Ti45uuL7zAgz2CzD1\n",
       "eW7G0Me7SQDJPgsGBnssHgyA6xNSFglNADFWCyC7Ewj6sThzAVxfAZMRO1jdLrgs+wYQyfIJU99K\n",
       "BpA+HSDmXMD5kXkCSGwDXHYNmM9hgMWZYH3rge5jgZrOwHKio6OjD8RavBcsUIepjXMBWB+jNchj\n",
       "PAqQtPUAJstSB/IpJxbrFjGA9bGCDb6/gBEcIg1waT6QllQGLox4uGxs/MeUgSEfqF7ugg0DK1hQ\n",
       "CSXeWQIYmASwRPxhII4B4nzHGoZrYBHuBGR9K8rLK8AceaD3GX/D9f2DxoO4ElslRAOj3UUkff3/\n",
       "/0MUcxQAiXaYtrr/RhjpjDcOKZ3hA/jSNTn6mA7g11eNqyT4hlcb40lcMsvN8JUvwcBwBACg1FPN\n",
       "bYHUhgAAAABJRU5ErkJggg==\n",
       "\" style=\"display:inline;vertical-align:middle;\" /></a> <a class=\"ProveItLink\" href=\"../__pv_it/demonstrations/efe8a1ecb8ac4bcb24a68c54f54ab7ad905cc5ea0/proof.ipynb\" style=\"text-decoration: none\">&nbsp;&#x22A2;&nbsp;&nbsp;</a><a class=\"ProveItLink\" href=\"../__pv_it/theorems/9dfd51fc82a5dda1e85f06fc33528e3db8c0b6dc0/expr.ipynb\"><img src=\"data:image/png;base64,iVBORw0KGgoAAAANSUhEUgAAADMAAAAQBAMAAABJt1qBAAAAMFBMVEX///8AAAAAAAAAAAAAAAAA\n",
       "AAAAAAAAAAAAAAAAAAAAAAAAAAAAAAAAAAAAAAAAAAAv3aB7AAAAD3RSTlMAEHarMolUmd1mIs3v\n",
       "RLtmgJDEAAAACXBIWXMAAA7EAAAOxAGVKw4bAAAA3UlEQVQY02NgwATZ50+/6DvJgA3omTBwM2zA\n",
       "KlXOwKDJmoBVyoqB8YEcqhDTi45uEC3AwO5ggiLDu0kAxnRmKQBRQsoioWCDV8NlGB7ygdkFTEbs\n",
       "DSDGLrgMW8AkEMW5gPMj8wQQC+FcqNNZGNghYiwnOjo6+sBMNdYLDIwgBo8CmM/4AKaJ8cE6Bgbm\n",
       "BUDW/QWMYEsbYFLMDlYMDPIMDHIXbBhYwSJKMCl3XqDTLRgY8h1rGK5BLIeFzUNuAYZ1eQwM4kps\n",
       "lRAxRruLEK+f2/PuzZ+nqMERBwkoKAAA5a8vMuYfrScAAAAASUVORK5CYII=\n",
       "\" style=\"display:inline;vertical-align:middle;\" /></a></span>"
      ],
      "text/plain": [
       "{x in {2 .. 4}} |- x in Integer"
      ]
     },
     "metadata": {},
     "output_type": "display_data"
    }
   ],
   "source": [
    "InSet(x, Integer).prove(assumptions=[InSet(x, Interval(two, four))])"
   ]
  },
  {
   "cell_type": "code",
   "execution_count": 28,
   "metadata": {},
   "outputs": [
    {
     "data": {
      "text/html": [
       "<span style=\"font-size:20px;\"><a class=\"ProveItLink\" href=\"../__pv_it/demonstrations/4b9361cacc232422bcbc11325a364dfbf97ba0610/expr.ipynb\"><img src=\"data:image/png;base64,iVBORw0KGgoAAAANSUhEUgAAAG0AAAAVBAMAAAC+p33JAAAAMFBMVEX///8AAAAAAAAAAAAAAAAA\n",
       "AAAAAAAAAAAAAAAAAAAAAAAAAAAAAAAAAAAAAAAAAAAv3aB7AAAAD3RSTlMAEHarMolUmd1mIs3v\n",
       "RLtmgJDEAAAACXBIWXMAAA7EAAAOxAGVKw4bAAABbElEQVQ4y2NgwAYY7zLgBlxZOKW0L+LRx+D8\n",
       "EIcE20egqeX7HLDJuQPxYxz6WBsYGNYxsP7FJtcMxBF49FkxMJzBIsWERR/Ti45uuL7zAgz2CzD1\n",
       "eW7G0Me7SQDJPgsGBnssHgyA6xNSFglNADFWCyC7Ewj6sThzAVxfAZMRO1jdLrgs+wYQyfIJU99K\n",
       "BpA+HSDmXMD5kXkCSGwDXHYNmM9hgMWZYH3rge5jgZrOwHKio6OjD8RavBcsUIepjXMBWB+jNchj\n",
       "PAqQtPUAJstSB/IpJxbrFjGA9bGCDb6/gBEcIg1waT6QllQGLox4uGxs/MeUgSEfqF7ugg0DK1hQ\n",
       "CSXeWQIYmASwRPxhII4B4nzHGoZrYBHuBGR9K8rLK8AceaD3GX/D9f2DxoO4ElslRAOj3UUkff3/\n",
       "/0MUcxQAiXaYtrr/RhjpjDcOKZ3hA/jSNTn6mA7g11eNqyT4hlcb40lcMsvN8JUvwcBwBACg1FPN\n",
       "bYHUhgAAAABJRU5ErkJggg==\n",
       "\" style=\"display:inline;vertical-align:middle;\" /></a> <a class=\"ProveItLink\" href=\"../__pv_it/demonstrations/9e41c3cc93cbc553466be3de1bb7552424b09b090/proof.ipynb\" style=\"text-decoration: none\">&nbsp;&#x22A2;&nbsp;&nbsp;</a><a class=\"ProveItLink\" href=\"../../natural_numbers/__pv_it/theorems/8c13e7bcba0a4bd4dd1c903dda9179f0c1a274990/expr.ipynb\"><img src=\"data:image/png;base64,iVBORw0KGgoAAAANSUhEUgAAADQAAAAQBAMAAACra0H4AAAAMFBMVEX///8AAAAAAAAAAAAAAAAA\n",
       "AAAAAAAAAAAAAAAAAAAAAAAAAAAAAAAAAAAAAAAAAAAv3aB7AAAAD3RSTlMAEHarMolUmd1mIs3v\n",
       "RLtmgJDEAAAACXBIWXMAAA7EAAAOxAGVKw4bAAAA3klEQVQY02NgwACM/e82MrCeP8uABfAlXGZg\n",
       "kMcmw8DcxTqBgQe7VB7DLgYOFCG9jo4NYKmVCqtRpW4rwnQtMGEKAEkJKYuEJgBpro1wAxfwMbwF\n",
       "SRUwGbE3AGnuBQgplgIJCQYGzgWcH5kngKQQzljAMI3tDQMDCwM72G4Gnw4geACVYhawAbF4FMBS\n",
       "csi6GA0kQKz7CxgFgBQHshSDEx9Q8QUbBlaQAJMCPKAcgDw/BoZ8xxqGa2CRbTApbpBfqhkYxJXY\n",
       "KhPAIsJvBcA0y/5zQFIaJaCuvoAEFBQAAFKNLSS7ExREAAAAAElFTkSuQmCC\n",
       "\" style=\"display:inline;vertical-align:middle;\" /></a></span>"
      ],
      "text/plain": [
       "{x in {2 .. 4}} |- x in Natural"
      ]
     },
     "metadata": {},
     "output_type": "display_data"
    }
   ],
   "source": [
    "InSet(x, Natural).prove(assumptions=[InSet(x, Interval(two, four))])"
   ]
  },
  {
   "cell_type": "code",
   "execution_count": 29,
   "metadata": {},
   "outputs": [
    {
     "data": {
      "text/html": [
       "<span style=\"font-size:20px;\"><a class=\"ProveItLink\" href=\"../__pv_it/demonstrations/4b9361cacc232422bcbc11325a364dfbf97ba0610/expr.ipynb\"><img src=\"data:image/png;base64,iVBORw0KGgoAAAANSUhEUgAAAG0AAAAVBAMAAAC+p33JAAAAMFBMVEX///8AAAAAAAAAAAAAAAAA\n",
       "AAAAAAAAAAAAAAAAAAAAAAAAAAAAAAAAAAAAAAAAAAAv3aB7AAAAD3RSTlMAEHarMolUmd1mIs3v\n",
       "RLtmgJDEAAAACXBIWXMAAA7EAAAOxAGVKw4bAAABbElEQVQ4y2NgwAYY7zLgBlxZOKW0L+LRx+D8\n",
       "EIcE20egqeX7HLDJuQPxYxz6WBsYGNYxsP7FJtcMxBF49FkxMJzBIsWERR/Ti45uuL7zAgz2CzD1\n",
       "eW7G0Me7SQDJPgsGBnssHgyA6xNSFglNADFWCyC7Ewj6sThzAVxfAZMRO1jdLrgs+wYQyfIJU99K\n",
       "BpA+HSDmXMD5kXkCSGwDXHYNmM9hgMWZYH3rge5jgZrOwHKio6OjD8RavBcsUIepjXMBWB+jNchj\n",
       "PAqQtPUAJstSB/IpJxbrFjGA9bGCDb6/gBEcIg1waT6QllQGLox4uGxs/MeUgSEfqF7ugg0DK1hQ\n",
       "CSXeWQIYmASwRPxhII4B4nzHGoZrYBHuBGR9K8rLK8AceaD3GX/D9f2DxoO4ElslRAOj3UUkff3/\n",
       "/0MUcxQAiXaYtrr/RhjpjDcOKZ3hA/jSNTn6mA7g11eNqyT4hlcb40lcMsvN8JUvwcBwBACg1FPN\n",
       "bYHUhgAAAABJRU5ErkJggg==\n",
       "\" style=\"display:inline;vertical-align:middle;\" /></a> <a class=\"ProveItLink\" href=\"../__pv_it/demonstrations/307c3db83da2078ae4a5784ff3b7ecd278a00e5c0/proof.ipynb\" style=\"text-decoration: none\">&nbsp;&#x22A2;&nbsp;&nbsp;</a><a class=\"ProveItLink\" href=\"../../natural_numbers/__pv_it/theorems/eeefdffd3aa81290285f57914cfcea6647727dd80/expr.ipynb\"><img src=\"data:image/png;base64,iVBORw0KGgoAAAANSUhEUgAAAEAAAAATBAMAAADSXRa0AAAAMFBMVEX///8AAAAAAAAAAAAAAAAA\n",
       "AAAAAAAAAAAAAAAAAAAAAAAAAAAAAAAAAAAAAAAAAAAv3aB7AAAAD3RSTlMAEHarMolUmd1mIs3v\n",
       "RLtmgJDEAAAACXBIWXMAAA7EAAAOxAGVKw4bAAAA7klEQVQoz2NgwAcKGAiAB+QpYOx/t5GB9fxZ\n",
       "3CbwJVxmYJDHYwVzF+sEBh4G9nfvzr17iVVBHsMuBg4sJuh1dGwAK1ipsBqbgtuKMBMWmDAFIBQI\n",
       "KYuEJgBpro1wKxbwMbxFKChgMmJvANLcCxAKWAokJGAhybmA8yPzBJAChCMXMExjewPjsTCwg13G\n",
       "4NMBBA+gCpgFbBCO41EAU3LIJjAaSCAU3F/AKACkOJAVMDjxwXhyF2wYWEEMJgV4UDsAeX4wXr5j\n",
       "DcM1MGsbTIgb5OtqGE9cia0yAcwSfisAcfb+c0BSGkscXH0BCWoUAACz1jmMfap6cwAAAABJRU5E\n",
       "rkJggg==\n",
       "\" style=\"display:inline;vertical-align:middle;\" /></a></span>"
      ],
      "text/plain": [
       "{x in {2 .. 4}} |- x in NaturalPos"
      ]
     },
     "metadata": {},
     "output_type": "display_data"
    }
   ],
   "source": [
    "InSet(x, NaturalPos).prove(assumptions=[InSet(x, Interval(two, four))])"
   ]
  },
  {
   "cell_type": "code",
   "execution_count": 30,
   "metadata": {},
   "outputs": [
    {
     "data": {
      "text/html": [
       "<span style=\"font-size:20px;\"><a class=\"ProveItLink\" href=\"../__pv_it/demonstrations/a2bc599bf0f0f65acede773ef671aee29194b8f50/expr.ipynb\"><img src=\"data:image/png;base64,iVBORw0KGgoAAAANSUhEUgAAADAAAAAQBAMAAACigOGCAAAAMFBMVEX///8AAAAAAAAAAAAAAAAA\n",
       "AAAAAAAAAAAAAAAAAAAAAAAAAAAAAAAAAAAAAAAAAAAv3aB7AAAAD3RSTlMAiXZmMiLdVJm77xBE\n",
       "zatgdeJyAAAACXBIWXMAAA7EAAAOxAGVKw4bAAAAzElEQVQY02NgQAfst37dTJtlgCHOwDTPgeEC\n",
       "L6Y4A0cDA5OBOBYJvgCGndwTkI2YlpYLorkZGFr4HBDiPJc2wJgsDzzAtJAySD4WLs7AuWE2iAor\n",
       "4ACZeBWhuZBZAUQlMnCB6AsICYhjOX5DzF2WlpaWCXFFgQwDwwYGLojLkBy4kxXIfsqwXwHCTYBL\n",
       "PAH6hPsDAz8wVA4AuUpwxzacAPoygQHoJEaQc3kL4I69zcA6HWiaoLE22JKXpyESp+aunLl+pQCS\n",
       "1yUhQQIFAA/aLo4ZZrU0AAAAAElFTkSuQmCC\n",
       "\" style=\"display:inline;vertical-align:middle;\" /></a>, <a class=\"ProveItLink\" href=\"../__pv_it/demonstrations/ce2036f1d2e534f263518445e270cc2a8e5c787c0/expr.ipynb\"><img src=\"data:image/png;base64,iVBORw0KGgoAAAANSUhEUgAAADIAAAAQBAMAAACmdTG/AAAAMFBMVEX///8AAAAAAAAAAAAAAAAA\n",
       "AAAAAAAAAAAAAAAAAAAAAAAAAAAAAAAAAAAAAAAAAAAv3aB7AAAAD3RSTlMAMs3vmVREEIndIqt2\n",
       "u2aBbGR5AAAACXBIWXMAAA7EAAAOxAGVKw4bAAAA70lEQVQY02NgwACsyp91Z15+AGIyKjsgy/Dc\n",
       "FmBQYIKw+QOQZVgcGHgetELY+QXIMtwLGGrZL0DYnRBTbs6cBKLZGRgcuQUgMioggk0HrpNxgwiI\n",
       "4tpx8CuIXoQwkrfgOohKXsD7HURrIWyK4DsAMtWOgUUBxFVAyEDczPKBgbMBZLblzJkz50KcEtDG\n",
       "wFDAwHyBoT4BpPcCXEstF5C9i6H+AMN7MH8CXGYj0EfsHxjqAxg2sS4A8s/A3eyQAvTuBAbeA6xT\n",
       "WEACTAFwN6szcF29wMC+p3H1QbDX96ZDZJIv2d61t21ACi+2XkjoQAEAkGM3rHcIm38AAAAASUVO\n",
       "RK5CYII=\n",
       "\" style=\"display:inline;vertical-align:middle;\" /></a>, <a class=\"ProveItLink\" href=\"../__pv_it/demonstrations/576f33253b8bac062b1752e47c2d4747a39338f50/expr.ipynb\"><img src=\"data:image/png;base64,iVBORw0KGgoAAAANSUhEUgAAAG0AAAAVBAMAAAC+p33JAAAAMFBMVEX///8AAAAAAAAAAAAAAAAA\n",
       "AAAAAAAAAAAAAAAAAAAAAAAAAAAAAAAAAAAAAAAAAAAv3aB7AAAAD3RSTlMAEHarMolUmd1mIs3v\n",
       "RLtmgJDEAAAACXBIWXMAAA7EAAAOxAGVKw4bAAABY0lEQVQ4y2NgwAYY7zLgBlxZOKW0L+LRx+D8\n",
       "EIcE20fcmryPMzA8xiHH2oDHtm8MDBFk6OP9iKFPr6NjA0F9IDlUfbcVibGPuwCqT0hZJDQBFLwb\n",
       "Ud3JqjQFU9fiIP8EqL4CJiN2kDruBXBZdqBzudoY6jA9d4rhvQADgw6QybmA8yPzBJA+hPQaIJ8j\n",
       "gOEQhj6ZCQzVQGo90E4WsOlA4NMBBA/AjtkLJOoFsHiunoGhFZScrEEe41EAi8nBZVnqgHrOYQuU\n",
       "cwyMf0FeBxnMcH8BI8hsDoQ0nwED4ydsyfYTA+cHIJ0PVC93wYaBFSTIpIASnj+BoYCh7xsD8wZg\n",
       "qo4B6XWsYbgGFt2Gog8YmCEgtjzQ94y/oRKPGDIKoPEnrsRWmQAWFH4rgKSPNXISmMsBVMfQDpUQ\n",
       "VvUycsBIZ1dfEJHOQICcdI1PH9MB/PqqcZUE3/BqYzyJS2a5Gb7yJRgYjgBVHk8Cki0cCQAAAABJ\n",
       "RU5ErkJggg==\n",
       "\" style=\"display:inline;vertical-align:middle;\" /></a>, <a class=\"ProveItLink\" href=\"../__pv_it/demonstrations/f0c4794755cdf3f21876901f5b8e2d31fcb0bf390/expr.ipynb\"><img src=\"data:image/png;base64,iVBORw0KGgoAAAANSUhEUgAAAC8AAAAQBAMAAAB0JTvnAAAAMFBMVEX///8AAAAAAAAAAAAAAAAA\n",
       "AAAAAAAAAAAAAAAAAAAAAAAAAAAAAAAAAAAAAAAAAAAv3aB7AAAAD3RSTlMAiXZmMiLdVJm77xBE\n",
       "zatgdeJyAAAACXBIWXMAAA7EAAAOxAGVKw4bAAAAr0lEQVQY02NgwAIENQKwCTPwFnCnYpUwY2CQ\n",
       "RPD2GsCZ8xgY6jfAedxiCjDmDwYG/wIgLaTsAOarSUOVgCSA+sMKOCZAze4GU6wfgRJA7YkMXDBD\n",
       "alvhEgIMHL+R3HP2NcgooMR5BQauCcgSs6GW1xcw7FdAiNc+BVMzGRjsNzDwA+0/ALW8FUJbMTD0\n",
       "MjAAncSI6lwGtgLuJaAQM9YGu14NbiZ3o54DwvxtBgzEAQD5myLO3LtbBQAAAABJRU5ErkJggg==\n",
       "\" style=\"display:inline;vertical-align:middle;\" /></a> <a class=\"ProveItLink\" href=\"../__pv_it/demonstrations/38be3025aa6551ae4bd05e79b39e518d9836c8a30/proof.ipynb\" style=\"text-decoration: none\">&nbsp;&#x22A2;&nbsp;&nbsp;</a><a class=\"ProveItLink\" href=\"../../natural_numbers/__pv_it/theorems/eeefdffd3aa81290285f57914cfcea6647727dd80/expr.ipynb\"><img src=\"data:image/png;base64,iVBORw0KGgoAAAANSUhEUgAAAEAAAAATBAMAAADSXRa0AAAAMFBMVEX///8AAAAAAAAAAAAAAAAA\n",
       "AAAAAAAAAAAAAAAAAAAAAAAAAAAAAAAAAAAAAAAAAAAv3aB7AAAAD3RSTlMAEHarMolUmd1mIs3v\n",
       "RLtmgJDEAAAACXBIWXMAAA7EAAAOxAGVKw4bAAAA7klEQVQoz2NgwAcKGAiAB+QpYOx/t5GB9fxZ\n",
       "3CbwJVxmYJDHYwVzF+sEBh4G9nfvzr17iVVBHsMuBg4sJuh1dGwAK1ipsBqbgtuKMBMWmDAFIBQI\n",
       "KYuEJgBpro1wKxbwMbxFKChgMmJvANLcCxAKWAokJGAhybmA8yPzBJAChCMXMExjewPjsTCwg13G\n",
       "4NMBBA+gCpgFbBCO41EAU3LIJjAaSCAU3F/AKACkOJAVMDjxwXhyF2wYWEEMJgV4UDsAeX4wXr5j\n",
       "DcM1MGsbTIgb5OtqGE9cia0yAcwSfisAcfb+c0BSGkscXH0BCWoUAACz1jmMfap6cwAAAABJRU5E\n",
       "rkJggg==\n",
       "\" style=\"display:inline;vertical-align:middle;\" /></a></span>"
      ],
      "text/plain": [
       "{c in Integer, d in Integer, x in {c .. d}, c > 0} |- x in NaturalPos"
      ]
     },
     "metadata": {},
     "output_type": "display_data"
    }
   ],
   "source": [
    "InSet(x, NaturalPos).prove(\n",
    "    assumptions = [x_in_c_d_interval, InSet(c, Integer),\n",
    "                   InSet(d, Integer), greater(c, zero), LessEq(c, d)])"
   ]
  },
  {
   "cell_type": "code",
   "execution_count": 31,
   "metadata": {},
   "outputs": [
    {
     "data": {
      "text/html": [
       "<span style=\"font-size:20px;\"> <a class=\"ProveItLink\" href=\"../__pv_it/demonstrations/37e92bff5dec71199dd510888ee8637e39a901ff0/proof.ipynb\" style=\"text-decoration: none\">&nbsp;&#x22A2;&nbsp;&nbsp;</a><a class=\"ProveItLink\" href=\"../__pv_it/demonstrations/3f1b4929031d802721411102878e2c3831aca3890/expr.ipynb\"><img src=\"data:image/png;base64,iVBORw0KGgoAAAANSUhEUgAAAGUAAAAYBAMAAAAR7i7jAAAAMFBMVEX///8AAAAAAAAAAAAAAAAA\n",
       "AAAAAAAAAAAAAAAAAAAAAAAAAAAAAAAAAAAAAAAAAAAv3aB7AAAAD3RSTlMAInZUiRDNmWbv3US7\n",
       "qzJazP2FAAAACXBIWXMAAA7EAAAOxAGVKw4bAAABxUlEQVQ4y5VTv0vDUBD+Uu2PaJtkECcFcXIR\n",
       "MhRBESpKcVDBP6BgFQQVhwiKmwQHJzdxsaKCIFJdpRQUWkXxJ+jgJpJNEERBMrh5eSnJe6FFe0Py\n",
       "vTu+u+/d3QPqsIYyGgcHUBflHFjFaT2U2DV9dqBq9NOEiFSLErpwojZknbAuhJo7gopmf+bzN6ay\n",
       "4RwUG00mkPTDLcN3QFcw/4OFbAToT7scuQPhrBcNG0jpiIyLnKiBkDlE4DTNtKk6oqaf8RsTWcQM\n",
       "kZPQkAmXHPSxUOmBzF0lB5WqblYy3OYPWHVgJWExV/szOnEG9AhJU1R1xk0w5WlUHt8qSKOZLgGL\n",
       "QtMO6TPGYKt/rfj4pSh3hsNK9yt91xie9N3JWKD/+6I2GlYvQ347Waeh3JOVXUeObjmXd8y5p2wD\n",
       "n6zkFnmO3WboI4AwgBwnzUL8GyiybpU8d0Yi/FRDm2ozTh877HnuV5pQ+IvnnPtQfmTa1tmh06tu\n",
       "FGiwezxnjFt2k83H7X5E9zo9DemixHPeOVxYph3Fkbt8Lyeus3i1fb+7LbzOJiuwx1JFRvOouzvV\n",
       "Xl9gJfmlrWnlwLntH88880eOaiaJyxTS/mT8AintZVU14b/bAAAAAElFTkSuQmCC\n",
       "\" style=\"display:inline;vertical-align:middle;\" /></a></span>"
      ],
      "text/plain": [
       "|- (-3) in IntegerNonPos"
      ]
     },
     "metadata": {},
     "output_type": "display_data"
    }
   ],
   "source": [
    "Neg(three).deduce_in_number_set(IntegerNonPos, automation=False)"
   ]
  },
  {
   "cell_type": "code",
   "execution_count": 32,
   "metadata": {},
   "outputs": [
    {
     "data": {
      "text/html": [
       "<span style=\"font-size:20px;\"><a class=\"ProveItLink\" href=\"../__pv_it/demonstrations/d3ec175c9c6aa6d8275817494fe30f331eaf15940/expr.ipynb\"><img src=\"data:image/png;base64,iVBORw0KGgoAAAANSUhEUgAAAJcAAAAVBAMAAAC5yWGZAAAAMFBMVEX///8AAAAAAAAAAAAAAAAA\n",
       "AAAAAAAAAAAAAAAAAAAAAAAAAAAAAAAAAAAAAAAAAAAv3aB7AAAAD3RSTlMAEHarMolUmd1mIs3v\n",
       "RLtmgJDEAAAACXBIWXMAAA7EAAAOxAGVKw4bAAABd0lEQVQ4y2NgwApkLzCQBriycEox7RUg0TAG\n",
       "54e4ZPJRzHInYM7S8LdA8jEu6QgUXjN+sxgLGPIT0PXgMoyJgGFM3xjkN2AYxvSioxuLYZ6b8RvG\n",
       "e5aBH8Mw3k0CWF0WsJlg6OdPgOoRUhYJTQAxVgtg9SbTAoKG8XbC9BQwGbE3gBi7ELLVSCpXMhAy\n",
       "jEXZBEjqADHnAs6PzBNAYhsQKfAksi8ZiPAm0GvrgZiFgR1iCsuJjo6OPrBZ1sD0z7ijAwQcOBdg\n",
       "N0waLN0C4fB8BGqwBgUWjwIkuTxApFKk1LyIgZDLWBwY+L4xMLDuBXHuL2AEB30DQh4pNV82Nv5j\n",
       "itcw/o9gw0C5Ru6CDQMrWFAJVw44jN9lPAZgb8aAws6xhuEaWJA7AYdh/8AkKJVDCDTAOQGezsSV\n",
       "2CohpjDaXcRqWN1/IxDFUQAj0MH18rcYDmDgjcOanYgEESRLkGOYDhmGVeOSWJ9AslmMJ3GW6MWk\n",
       "msYVDNQBABkNWlnaLheFAAAAAElFTkSuQmCC\n",
       "\" style=\"display:inline;vertical-align:middle;\" /></a> <a class=\"ProveItLink\" href=\"../__pv_it/demonstrations/6fda910bbd9a3be4ff3e5a61d6e57194adf02e320/proof.ipynb\" style=\"text-decoration: none\">&nbsp;&#x22A2;&nbsp;&nbsp;</a><a class=\"ProveItLink\" href=\"../__pv_it/demonstrations/f51fe37a5b1d9a1ca4dd2370134d2b4efe165f9d0/expr.ipynb\"><img src=\"data:image/png;base64,iVBORw0KGgoAAAANSUhEUgAAAEgAAAAUBAMAAADcj2b4AAAAMFBMVEX///8AAAAAAAAAAAAAAAAA\n",
       "AAAAAAAAAAAAAAAAAAAAAAAAAAAAAAAAAAAAAAAAAAAv3aB7AAAAD3RSTlMAEHarMolUmd1mIs3v\n",
       "RLtmgJDEAAAACXBIWXMAAA7EAAAOxAGVKw4bAAABOklEQVQoz2NgwAvyFjCEqjIQUKPAwKnA+wCv\n",
       "mnkTGBh4HBh+4VOjlwAk1gswHMMmmX3+9Iu+kww+IDUM/gIMnVhNMGHgZtjAwPZUAKLoEDZF5QwM\n",
       "mqxAY3hBqoDWfcOmyIqB8YEciMFivgDD4UwvOrpBtAADu4MJWITLWIBJgdcASQ3vJgEY05mlAMLg\n",
       "YmAIVQcKCymLhIL9sRquhuEhnwCqCwqYjNgbQIxdcCG2gEmoajgXcH5kngBibYCLcYPZfu+AYAFY\n",
       "gIWBHSLLcqKjo6MPzFRjvcDAiGoWjwKYYoTHI+ODdQwMzAtQFN1fwAh2ZgNMgNnBioFBHlmJ3AUb\n",
       "BlYwSwkm5M4LDAALZEX5jjUM1yDOTYAFALcAw7o8ZEXiSmyVEFlGu4uQQD23592bP09xpB/eOEi0\n",
       "YAAAV3VFVVxEO3cAAAAASUVORK5CYII=\n",
       "\" style=\"display:inline;vertical-align:middle;\" /></a></span>"
      ],
      "text/plain": [
       "{x in {-4 .. -3}} |- x in IntegerNonPos"
      ]
     },
     "metadata": {},
     "output_type": "display_data"
    }
   ],
   "source": [
    "InSet(x, IntegerNonPos).prove(assumptions=[InSet(x, Interval(Neg(four), Neg(three)))])"
   ]
  },
  {
   "cell_type": "code",
   "execution_count": 33,
   "metadata": {},
   "outputs": [
    {
     "data": {
      "text/html": [
       "<span style=\"font-size:20px;\"><a class=\"ProveItLink\" href=\"../__pv_it/demonstrations/d3ec175c9c6aa6d8275817494fe30f331eaf15940/expr.ipynb\"><img src=\"data:image/png;base64,iVBORw0KGgoAAAANSUhEUgAAAJcAAAAVBAMAAAC5yWGZAAAAMFBMVEX///8AAAAAAAAAAAAAAAAA\n",
       "AAAAAAAAAAAAAAAAAAAAAAAAAAAAAAAAAAAAAAAAAAAv3aB7AAAAD3RSTlMAEHarMolUmd1mIs3v\n",
       "RLtmgJDEAAAACXBIWXMAAA7EAAAOxAGVKw4bAAABd0lEQVQ4y2NgwApkLzCQBriycEox7RUg0TAG\n",
       "54e4ZPJRzHInYM7S8LdA8jEu6QgUXjN+sxgLGPIT0PXgMoyJgGFM3xjkN2AYxvSioxuLYZ6b8RvG\n",
       "e5aBH8Mw3k0CWF0WsJlg6OdPgOoRUhYJTQAxVgtg9SbTAoKG8XbC9BQwGbE3gBi7ELLVSCpXMhAy\n",
       "jEXZBEjqADHnAs6PzBNAYhsQKfAksi8ZiPAm0GvrgZiFgR1iCsuJjo6OPrBZ1sD0z7ijAwQcOBdg\n",
       "N0waLN0C4fB8BGqwBgUWjwIkuTxApFKk1LyIgZDLWBwY+L4xMLDuBXHuL2AEB30DQh4pNV82Nv5j\n",
       "itcw/o9gw0C5Ru6CDQMrWFAJVw44jN9lPAZgb8aAws6xhuEaWJA7AYdh/8AkKJVDCDTAOQGezsSV\n",
       "2CohpjDaXcRqWN1/IxDFUQAj0MH18rcYDmDgjcOanYgEESRLkGOYDhmGVeOSWJ9AslmMJ3GW6MWk\n",
       "msYVDNQBABkNWlnaLheFAAAAAElFTkSuQmCC\n",
       "\" style=\"display:inline;vertical-align:middle;\" /></a> <a class=\"ProveItLink\" href=\"../__pv_it/demonstrations/4e8aeabe78781f620cae94ed9a8cbdd2513a96a20/proof.ipynb\" style=\"text-decoration: none\">&nbsp;&#x22A2;&nbsp;&nbsp;</a><a class=\"ProveItLink\" href=\"../__pv_it/demonstrations/72d5b8e725d24a9137d7086f16df0a6b6bf0a0d50/expr.ipynb\"><img src=\"data:image/png;base64,iVBORw0KGgoAAAANSUhEUgAAAD8AAAAQBAMAAABTi7oPAAAAMFBMVEX///8AAAAAAAAAAAAAAAAA\n",
       "AAAAAAAAAAAAAAAAAAAAAAAAAAAAAAAAAAAAAAAAAAAv3aB7AAAAD3RSTlMAEHarMolUmd1mIs3v\n",
       "RLtmgJDEAAAACXBIWXMAAA7EAAAOxAGVKw4bAAAA5ElEQVQoz2NgwATZ50+/6DvJgBvomTBwM2zA\n",
       "o6CcgUGTNYHB7x0QLMCmwIqB8YEcNgmmFx3dIFqAgd3BBIs87yYBGNOZpQAhLqQsEpoAYqyGyzM8\n",
       "5EOwGQqYjNgbQIxdcCG2gEkIec4FnB+ZJ4BYCI+heJKFgR3CYznR0dHRB2aqsV5gYEQo4VEAU4wP\n",
       "YAKMD9YxMDAjQuD+AkawkxpgAswOVgwM8jCe3AUbBlYwSwkm5M4L9KQFjJfvWMNwDeK0BJgnuQUY\n",
       "1uXBFIgrsVVCZBjtLkIC7Nyed2/+PMUWlHGQoEYBAOqvM9g9AFOOAAAAAElFTkSuQmCC\n",
       "\" style=\"display:inline;vertical-align:middle;\" /></a></span>"
      ],
      "text/plain": [
       "{x in {-4 .. -3}} |- x in IntegerNeg"
      ]
     },
     "metadata": {},
     "output_type": "display_data"
    }
   ],
   "source": [
    "InSet(x, IntegerNeg).prove(assumptions=[InSet(x, Interval(Neg(four), Neg(three)))])"
   ]
  },
  {
   "cell_type": "markdown",
   "metadata": {},
   "source": [
    "***Now done manually***"
   ]
  },
  {
   "cell_type": "code",
   "execution_count": 34,
   "metadata": {},
   "outputs": [
    {
     "data": {
      "text/html": [
       "<span style=\"font-size:20px;\"><a class=\"ProveItLink\" href=\"../__pv_it/demonstrations/4b9361cacc232422bcbc11325a364dfbf97ba0610/expr.ipynb\"><img src=\"data:image/png;base64,iVBORw0KGgoAAAANSUhEUgAAAG0AAAAVBAMAAAC+p33JAAAAMFBMVEX///8AAAAAAAAAAAAAAAAA\n",
       "AAAAAAAAAAAAAAAAAAAAAAAAAAAAAAAAAAAAAAAAAAAv3aB7AAAAD3RSTlMAEHarMolUmd1mIs3v\n",
       "RLtmgJDEAAAACXBIWXMAAA7EAAAOxAGVKw4bAAABbElEQVQ4y2NgwAYY7zLgBlxZOKW0L+LRx+D8\n",
       "EIcE20egqeX7HLDJuQPxYxz6WBsYGNYxsP7FJtcMxBF49FkxMJzBIsWERR/Ti45uuL7zAgz2CzD1\n",
       "eW7G0Me7SQDJPgsGBnssHgyA6xNSFglNADFWCyC7Ewj6sThzAVxfAZMRO1jdLrgs+wYQyfIJU99K\n",
       "BpA+HSDmXMD5kXkCSGwDXHYNmM9hgMWZYH3rge5jgZrOwHKio6OjD8RavBcsUIepjXMBWB+jNchj\n",
       "PAqQtPUAJstSB/IpJxbrFjGA9bGCDb6/gBEcIg1waT6QllQGLox4uGxs/MeUgSEfqF7ugg0DK1hQ\n",
       "CSXeWQIYmASwRPxhII4B4nzHGoZrYBHuBGR9K8rLK8AceaD3GX/D9f2DxoO4ElslRAOj3UUkff3/\n",
       "/0MUcxQAiXaYtrr/RhjpjDcOKZ3hA/jSNTn6mA7g11eNqyT4hlcb40lcMsvN8JUvwcBwBACg1FPN\n",
       "bYHUhgAAAABJRU5ErkJggg==\n",
       "\" style=\"display:inline;vertical-align:middle;\" /></a> <a class=\"ProveItLink\" href=\"../__pv_it/demonstrations/efe8a1ecb8ac4bcb24a68c54f54ab7ad905cc5ea0/proof.ipynb\" style=\"text-decoration: none\">&nbsp;&#x22A2;&nbsp;&nbsp;</a><a class=\"ProveItLink\" href=\"../__pv_it/theorems/9dfd51fc82a5dda1e85f06fc33528e3db8c0b6dc0/expr.ipynb\"><img src=\"data:image/png;base64,iVBORw0KGgoAAAANSUhEUgAAADMAAAAQBAMAAABJt1qBAAAAMFBMVEX///8AAAAAAAAAAAAAAAAA\n",
       "AAAAAAAAAAAAAAAAAAAAAAAAAAAAAAAAAAAAAAAAAAAv3aB7AAAAD3RSTlMAEHarMolUmd1mIs3v\n",
       "RLtmgJDEAAAACXBIWXMAAA7EAAAOxAGVKw4bAAAA3UlEQVQY02NgwATZ50+/6DvJgA3omTBwM2zA\n",
       "KlXOwKDJmoBVyoqB8YEcqhDTi45uEC3AwO5ggiLDu0kAxnRmKQBRQsoioWCDV8NlGB7ygdkFTEbs\n",
       "DSDGLrgMW8AkEMW5gPMj8wQQC+FcqNNZGNghYiwnOjo6+sBMNdYLDIwgBo8CmM/4AKaJ8cE6Bgbm\n",
       "BUDW/QWMYEsbYFLMDlYMDPIMDHIXbBhYwSJKMCl3XqDTLRgY8h1rGK5BLIeFzUNuAYZ1eQwM4kps\n",
       "lRAxRruLEK+f2/PuzZ+nqMERBwkoKAAA5a8vMuYfrScAAAAASUVORK5CYII=\n",
       "\" style=\"display:inline;vertical-align:middle;\" /></a></span>"
      ],
      "text/plain": [
       "{x in {2 .. 4}} |- x in Integer"
      ]
     },
     "metadata": {},
     "output_type": "display_data"
    }
   ],
   "source": [
    "InSet(x, Interval(two, four)).derive_element_in_integer(\n",
    "    assumptions=[InSet(x, Interval(two, four))])"
   ]
  },
  {
   "cell_type": "code",
   "execution_count": 35,
   "metadata": {},
   "outputs": [
    {
     "data": {
      "text/html": [
       "<span style=\"font-size:20px;\"><a class=\"ProveItLink\" href=\"../__pv_it/demonstrations/53c854652979ea1b8d11e80c2819f99650bd631a0/expr.ipynb\"><img src=\"data:image/png;base64,iVBORw0KGgoAAAANSUhEUgAAAG0AAAAVBAMAAAC+p33JAAAAMFBMVEX///8AAAAAAAAAAAAAAAAA\n",
       "AAAAAAAAAAAAAAAAAAAAAAAAAAAAAAAAAAAAAAAAAAAv3aB7AAAAD3RSTlMAEHarMolUmd1mIs3v\n",
       "RLtmgJDEAAAACXBIWXMAAA7EAAAOxAGVKw4bAAABe0lEQVQ4y2NgwAYY7zLgBlxZOKW0L+LRx+D8\n",
       "EIcE20egqeX7HDBlloa/BZKPcehjbWBgWMfA+hfT/QUM+QkMDBF49FkxMJzBkGD6xiC/AUMf04uO\n",
       "bri+8wIM9gvQ9fGeZeDH0Me7SQDJPgsGBnssHmTInwDVJ6QsEpoAYqwWQHYnEPRj0cbbyQDVV8Bk\n",
       "xA5Wtwsuyb4BRLJ8wtTGomwCJHWAmHMB50fmCSCxDXDZNWA+hwG2MAOF53ogZoGazsByoqOjow/E\n",
       "WrwXLFCHNax5gHHLaA3yGI8CJG4ewB1TB/IpJxbrWBwY+L4B/Q82+P4CRnCINMCl+UBaUhm4MOKB\n",
       "/yNYXz5QvdwFGwZWsKASSryzBDAwCWA40gDszhiQPx1rGK6BBbkTkPWtKC+vAHNACYTxN0SCcwI8\n",
       "/sSV2CohGhjtLiLp6///H6KYowBItENlrpe/ZcBIZ7xxSOkMH8CXrsnRx3QAv75qXCXBN7zaGE/i\n",
       "klluhq98CQaGIwB67lbdRKfLbQAAAABJRU5ErkJggg==\n",
       "\" style=\"display:inline;vertical-align:middle;\" /></a> <a class=\"ProveItLink\" href=\"../__pv_it/demonstrations/382596c95f22bafdbd77bfa2c0b313625b3f8ba40/proof.ipynb\" style=\"text-decoration: none\">&nbsp;&#x22A2;&nbsp;&nbsp;</a><a class=\"ProveItLink\" href=\"../../natural_numbers/__pv_it/theorems/eeefdffd3aa81290285f57914cfcea6647727dd80/expr.ipynb\"><img src=\"data:image/png;base64,iVBORw0KGgoAAAANSUhEUgAAAEAAAAATBAMAAADSXRa0AAAAMFBMVEX///8AAAAAAAAAAAAAAAAA\n",
       "AAAAAAAAAAAAAAAAAAAAAAAAAAAAAAAAAAAAAAAAAAAv3aB7AAAAD3RSTlMAEHarMolUmd1mIs3v\n",
       "RLtmgJDEAAAACXBIWXMAAA7EAAAOxAGVKw4bAAAA7klEQVQoz2NgwAcKGAiAB+QpYOx/t5GB9fxZ\n",
       "3CbwJVxmYJDHYwVzF+sEBh4G9nfvzr17iVVBHsMuBg4sJuh1dGwAK1ipsBqbgtuKMBMWmDAFIBQI\n",
       "KYuEJgBpro1wKxbwMbxFKChgMmJvANLcCxAKWAokJGAhybmA8yPzBJAChCMXMExjewPjsTCwg13G\n",
       "4NMBBA+gCpgFbBCO41EAU3LIJjAaSCAU3F/AKACkOJAVMDjxwXhyF2wYWEEMJgV4UDsAeX4wXr5j\n",
       "DcM1MGsbTIgb5OtqGE9cia0yAcwSfisAcfb+c0BSGkscXH0BCWoUAACz1jmMfap6cwAAAABJRU5E\n",
       "rkJggg==\n",
       "\" style=\"display:inline;vertical-align:middle;\" /></a></span>"
      ],
      "text/plain": [
       "{x in {2 .. 3}} |- x in NaturalPos"
      ]
     },
     "metadata": {},
     "output_type": "display_data"
    }
   ],
   "source": [
    "InSet(x, Interval(two, three)).derive_element_in_natural(\n",
    "    assumptions=[InSet(x, Interval(two, three))])"
   ]
  },
  {
   "cell_type": "code",
   "execution_count": 36,
   "metadata": {},
   "outputs": [
    {
     "data": {
      "text/html": [
       "<span style=\"font-size:20px;\"><a class=\"ProveItLink\" href=\"../__pv_it/demonstrations/58d4e555584b7c049bc128fe8ad5e9c231a907890/expr.ipynb\"><img src=\"data:image/png;base64,iVBORw0KGgoAAAANSUhEUgAAAG0AAAAVBAMAAAC+p33JAAAAMFBMVEX///8AAAAAAAAAAAAAAAAA\n",
       "AAAAAAAAAAAAAAAAAAAAAAAAAAAAAAAAAAAAAAAAAAAv3aB7AAAAD3RSTlMAEHarMolUmd1mIs3v\n",
       "RLtmgJDEAAAACXBIWXMAAA7EAAAOxAGVKw4bAAABZUlEQVQ4y2NgwAYY7zLgBlxZOKW0L+LRx+D8\n",
       "EIcE20egqaF1F7DJuQPxYxz6WBsYGMQZ2L5hk2sG4gg8+vQTGH9jkWLCoo/pRUc3XN+dCwzY9Hlu\n",
       "xtDHu0kAyT6gL39i0RcA1yekLBKaAGKsFmBA0XdjAhZnLoDrK2AyYger2wWXZd8AJJyMHTD1rWQA\n",
       "6dMBYs4FnB+ZwSZvgMuuAfOxhWcAWN96oPtYIKYDGSc6Ojr6QKzFeyGKzguga+NcANbHaA3yGI8C\n",
       "JG09gMmy1AE1uDAwvE9A17eIAayPFWzw/QWMYIMb4NJ8BgwM/wWw6LtsbPzHlIEhH6he7oINAytY\n",
       "UAkl3g9jcycDWJwhBojzHWsYroFFuBOQ9c2ExZ880PtISecfNB7EldgqIRoY7S4i6eMth6ZrjgIg\n",
       "0Q7TVvffCCOd8cYhpTN8AF+6Jkcf0wH8+qpxlQTf8GpjPIlLZrkZvvIlGBiOAAa5WIo6bD1qAAAA\n",
       "AElFTkSuQmCC\n",
       "\" style=\"display:inline;vertical-align:middle;\" /></a> <a class=\"ProveItLink\" href=\"../__pv_it/demonstrations/c5b84af8a7a50c8080bc3b5be03ab8fd6f6a62800/proof.ipynb\" style=\"text-decoration: none\">&nbsp;&#x22A2;&nbsp;&nbsp;</a><a class=\"ProveItLink\" href=\"../../natural_numbers/__pv_it/theorems/eeefdffd3aa81290285f57914cfcea6647727dd80/expr.ipynb\"><img src=\"data:image/png;base64,iVBORw0KGgoAAAANSUhEUgAAAEAAAAATBAMAAADSXRa0AAAAMFBMVEX///8AAAAAAAAAAAAAAAAA\n",
       "AAAAAAAAAAAAAAAAAAAAAAAAAAAAAAAAAAAAAAAAAAAv3aB7AAAAD3RSTlMAEHarMolUmd1mIs3v\n",
       "RLtmgJDEAAAACXBIWXMAAA7EAAAOxAGVKw4bAAAA7klEQVQoz2NgwAcKGAiAB+QpYOx/t5GB9fxZ\n",
       "3CbwJVxmYJDHYwVzF+sEBh4G9nfvzr17iVVBHsMuBg4sJuh1dGwAK1ipsBqbgtuKMBMWmDAFIBQI\n",
       "KYuEJgBpro1wKxbwMbxFKChgMmJvANLcCxAKWAokJGAhybmA8yPzBJAChCMXMExjewPjsTCwg13G\n",
       "4NMBBA+gCpgFbBCO41EAU3LIJjAaSCAU3F/AKACkOJAVMDjxwXhyF2wYWEEMJgV4UDsAeX4wXr5j\n",
       "DcM1MGsbTIgb5OtqGE9cia0yAcwSfisAcfb+c0BSGkscXH0BCWoUAACz1jmMfap6cwAAAABJRU5E\n",
       "rkJggg==\n",
       "\" style=\"display:inline;vertical-align:middle;\" /></a></span>"
      ],
      "text/plain": [
       "{x in {3 .. 4}} |- x in NaturalPos"
      ]
     },
     "metadata": {},
     "output_type": "display_data"
    }
   ],
   "source": [
    "InSet(x, Interval(three, four)).derive_element_in_natural_pos(\n",
    "    assumptions=[InSet(x, Interval(three, four))])"
   ]
  },
  {
   "cell_type": "code",
   "execution_count": 37,
   "metadata": {},
   "outputs": [
    {
     "data": {
      "text/html": [
       "<span style=\"font-size:20px;\"><a class=\"ProveItLink\" href=\"../__pv_it/theorems/d82a9927958f2919b6e25fa4d8e512f4047160210/expr.ipynb\"><img src=\"data:image/png;base64,iVBORw0KGgoAAAANSUhEUgAAADIAAAAQBAMAAACmdTG/AAAAMFBMVEX///8AAAAAAAAAAAAAAAAA\n",
       "AAAAAAAAAAAAAAAAAAAAAAAAAAAAAAAAAAAAAAAAAAAv3aB7AAAAD3RSTlMAIquJdkTvuxBmmd1U\n",
       "zTKBpmoTAAAACXBIWXMAAA7EAAAOxAGVKw4bAAAA3klEQVQY02NgwAA8175d3102AVOCgaXoAcMF\n",
       "XiwSDFwLGFgm2GCTYRJgaOcoQDGlevdeEM3BwLCO6QGSBOuVBhiTT+EViGJUdnQA0bJwCQb2hgoQ\n",
       "FSbA/gNEX0RoP8wJUsuRycC1AcS9gJCBuJnrAwO3Acjs7N27d2+HOOWAKQNDAwNbAUN/AEgvwp3t\n",
       "jEC2IkO/A8N8MH8DXEYP6COODwz9Bxh0eQSAfBe4mxdEAb27gYHdgWcXF0iA9wDczTcYGGsKGDhU\n",
       "7IT8wF5Xj4DIhNWml+enGyAHgjkkdKAAAEfmMVewssrcAAAAAElFTkSuQmCC\n",
       "\" style=\"display:inline;vertical-align:middle;\" /></a>, <a class=\"ProveItLink\" href=\"../__pv_it/demonstrations/f7f8f0c7b17df91c5737500a28a9355fd753ce490/expr.ipynb\"><img src=\"data:image/png;base64,iVBORw0KGgoAAAANSUhEUgAAADAAAAAQBAMAAACigOGCAAAAMFBMVEX///8AAAAAAAAAAAAAAAAA\n",
       "AAAAAAAAAAAAAAAAAAAAAAAAAAAAAAAAAAAAAAAAAAAv3aB7AAAAD3RSTlMAELvv3c2ZVESJq3Yi\n",
       "MmZ3LnoBAAAACXBIWXMAAA7EAAAOxAGVKw4bAAAA50lEQVQY02NgQAfswZ+DXJQfMDAqO6BKcGtd\n",
       "YAhgBTJYE1Al2BIYuB9MBzL4C1AluA4wCDEqABn9AlAjVFxcQTQjA0Mu1wUgYwpEnCNaAKaHd8E1\n",
       "EBW1ezmIOgoXZ2ASUATp/CogfwBIxyBsqeTbAHL2RwZmEB2AkAA7loEtgIF/AtBcExcXFyeIKwpm\n",
       "MDAIMLBMYOgHOhjsQAgQ4gGy14C8kQ+yF+H/tUCfMH5g4L/AaAfi7oY7NqEN6EsHBq4HTOAwYS2A\n",
       "OzaQgUddgYFxZR6Yz7ioESLRrGqkZG80AeFIjkmQIIECANNVKrcrbsjPAAAAAElFTkSuQmCC\n",
       "\" style=\"display:inline;vertical-align:middle;\" /></a>, <a class=\"ProveItLink\" href=\"../__pv_it/demonstrations/29c6c2fe2b7d2efdcbad59a387752e9d9e70de3b0/expr.ipynb\"><img src=\"data:image/png;base64,iVBORw0KGgoAAAANSUhEUgAAAGwAAAAVBAMAAABRZRb3AAAAMFBMVEX///8AAAAAAAAAAAAAAAAA\n",
       "AAAAAAAAAAAAAAAAAAAAAAAAAAAAAAAAAAAAAAAAAAAv3aB7AAAAD3RSTlMAEHarMolUmd1mIs3v\n",
       "RLtmgJDEAAAACXBIWXMAAA7EAAAOxAGVKw4bAAABYklEQVQ4y2NgwAYY7zLgBssW4JLRvohHG4ud\n",
       "AHYJto84dDC+aQCSfAbYZVkbcNnEXYBHGrc2/gRMab2Ojg0EtN0XwJC+rUjYtgi4tJCySCjIaq6N\n",
       "qI5cHLQIU9tmJTOodAGTETuI5kZEBzvQrbynGN5jBDTjbwH5BQxMBxgYOBdwfmSeANKGkF0D5MtM\n",
       "YKjAFjM8Cgxc34CRBzYbCHw6gOABiLV4L5CoZ2BoxdAGVMofwMAgvA3IBuoHATlEMqgDuu4cA+Nf\n",
       "DG0cAQz3geEQfQEUqAsYQZ7gQMgCkwHjJwbOD9iirV4AnIjkLtgwsIKEmBSQQ5LxGwPzhiwMbQ6M\n",
       "J4HSwCDJd6xhuAYW24YSAY8YMgpAKYlBfgMoBCESzBP4CiDS4kpslQlgMeG3AkjahFW9jBzA/gFp\n",
       "bodGgGklZmq4+oJg4sIrTaY2UDLAA6ARjQFAyQAPkJmAQ2K5GR5dS4GSAAd6VCY2vvS5AAAAAElF\n",
       "TkSuQmCC\n",
       "\" style=\"display:inline;vertical-align:middle;\" /></a>, <a class=\"ProveItLink\" href=\"../__pv_it/demonstrations/937b5f9529b96e9512f5cd5d8bb64bf7384a4e610/expr.ipynb\"><img src=\"data:image/png;base64,iVBORw0KGgoAAAANSUhEUgAAAC8AAAAQBAMAAAB0JTvnAAAAMFBMVEX///8AAAAAAAAAAAAAAAAA\n",
       "AAAAAAAAAAAAAAAAAAAAAAAAAAAAAAAAAAAAAAAAAAAv3aB7AAAAD3RSTlMAELvv3c2ZVESJq3Yi\n",
       "MmZ3LnoBAAAACXBIWXMAAA7EAAAOxAGVKw4bAAAAx0lEQVQY02NgVHZgQAcztx0AkqwJ6OKsBYw+\n",
       "QIq/AF3iCQPDJCDVL4AQYo8BkVoMDPVAwSkIcT43sKJvDAz3gcZE7V4OFef2BIszgiQeMDB+FZA/\n",
       "ABaX9IbI8/wESmxgYP/IwLwBxD/mx4AkMYGBLYCBfwKQyxUOs4kRKNG/gYFlAkN/AYoEyPL6ApA3\n",
       "8gVQjGJQYmB4L8DAf4HRjgHFcobHDAypQCMeMMHCRNob4leWAkZboFUr8xAehHokc9cFtFDii2Eg\n",
       "CADgSS0kKFtdoQAAAABJRU5ErkJggg==\n",
       "\" style=\"display:inline;vertical-align:middle;\" /></a> <a class=\"ProveItLink\" href=\"../__pv_it/demonstrations/5349a0174ab3ced75ad022809689780faeb26e6d0/proof.ipynb\" style=\"text-decoration: none\">&nbsp;&#x22A2;&nbsp;&nbsp;</a><a class=\"ProveItLink\" href=\"../__pv_it/demonstrations/72d5b8e725d24a9137d7086f16df0a6b6bf0a0d50/expr.ipynb\"><img src=\"data:image/png;base64,iVBORw0KGgoAAAANSUhEUgAAAD8AAAAQBAMAAABTi7oPAAAAMFBMVEX///8AAAAAAAAAAAAAAAAA\n",
       "AAAAAAAAAAAAAAAAAAAAAAAAAAAAAAAAAAAAAAAAAAAv3aB7AAAAD3RSTlMAEHarMolUmd1mIs3v\n",
       "RLtmgJDEAAAACXBIWXMAAA7EAAAOxAGVKw4bAAAA5ElEQVQoz2NgwATZ50+/6DvJgBvomTBwM2zA\n",
       "o6CcgUGTNYHB7x0QLMCmwIqB8YEcNgmmFx3dIFqAgd3BBIs87yYBGNOZpQAhLqQsEpoAYqyGyzM8\n",
       "5EOwGQqYjNgbQIxdcCG2gEkIec4FnB+ZJ4BYCI+heJKFgR3CYznR0dHRB2aqsV5gYEQo4VEAU4wP\n",
       "YAKMD9YxMDAjQuD+AkawkxpgAswOVgwM8jCe3AUbBlYwSwkm5M4L9KQFjJfvWMNwDeK0BJgnuQUY\n",
       "1uXBFIgrsVVCZBjtLkIC7Nyed2/+PMUWlHGQoEYBAOqvM9g9AFOOAAAAAElFTkSuQmCC\n",
       "\" style=\"display:inline;vertical-align:middle;\" /></a></span>"
      ],
      "text/plain": [
       "{a in Integer, b in Integer, x in {a .. b}, b < 0} |- x in IntegerNeg"
      ]
     },
     "metadata": {},
     "output_type": "display_data"
    }
   ],
   "source": [
    "InSet(x, Interval(a, b)).derive_element_in_integer_neg(\n",
    "    assumptions=[InSet(a, Integer), InSet(b, Integer), Less(b, zero), InSet(x, Interval(a, b))])"
   ]
  },
  {
   "cell_type": "code",
   "execution_count": 38,
   "metadata": {},
   "outputs": [
    {
     "data": {
      "text/html": [
       "<span style=\"font-size:20px;\"><a class=\"ProveItLink\" href=\"../__pv_it/theorems/d82a9927958f2919b6e25fa4d8e512f4047160210/expr.ipynb\"><img src=\"data:image/png;base64,iVBORw0KGgoAAAANSUhEUgAAADIAAAAQBAMAAACmdTG/AAAAMFBMVEX///8AAAAAAAAAAAAAAAAA\n",
       "AAAAAAAAAAAAAAAAAAAAAAAAAAAAAAAAAAAAAAAAAAAv3aB7AAAAD3RSTlMAIquJdkTvuxBmmd1U\n",
       "zTKBpmoTAAAACXBIWXMAAA7EAAAOxAGVKw4bAAAA3klEQVQY02NgwAA8175d3102AVOCgaXoAcMF\n",
       "XiwSDFwLGFgm2GCTYRJgaOcoQDGlevdeEM3BwLCO6QGSBOuVBhiTT+EViGJUdnQA0bJwCQb2hgoQ\n",
       "FSbA/gNEX0RoP8wJUsuRycC1AcS9gJCBuJnrAwO3Acjs7N27d2+HOOWAKQNDAwNbAUN/AEgvwp3t\n",
       "jEC2IkO/A8N8MH8DXEYP6COODwz9Bxh0eQSAfBe4mxdEAb27gYHdgWcXF0iA9wDczTcYGGsKGDhU\n",
       "7IT8wF5Xj4DIhNWml+enGyAHgjkkdKAAAEfmMVewssrcAAAAAElFTkSuQmCC\n",
       "\" style=\"display:inline;vertical-align:middle;\" /></a>, <a class=\"ProveItLink\" href=\"../__pv_it/demonstrations/f7f8f0c7b17df91c5737500a28a9355fd753ce490/expr.ipynb\"><img src=\"data:image/png;base64,iVBORw0KGgoAAAANSUhEUgAAADAAAAAQBAMAAACigOGCAAAAMFBMVEX///8AAAAAAAAAAAAAAAAA\n",
       "AAAAAAAAAAAAAAAAAAAAAAAAAAAAAAAAAAAAAAAAAAAv3aB7AAAAD3RSTlMAELvv3c2ZVESJq3Yi\n",
       "MmZ3LnoBAAAACXBIWXMAAA7EAAAOxAGVKw4bAAAA50lEQVQY02NgQAfswZ+DXJQfMDAqO6BKcGtd\n",
       "YAhgBTJYE1Al2BIYuB9MBzL4C1AluA4wCDEqABn9AlAjVFxcQTQjA0Mu1wUgYwpEnCNaAKaHd8E1\n",
       "EBW1ezmIOgoXZ2ASUATp/CogfwBIxyBsqeTbAHL2RwZmEB2AkAA7loEtgIF/AtBcExcXFyeIKwpm\n",
       "MDAIMLBMYOgHOhjsQAgQ4gGy14C8kQ+yF+H/tUCfMH5g4L/AaAfi7oY7NqEN6EsHBq4HTOAwYS2A\n",
       "OzaQgUddgYFxZR6Yz7ioESLRrGqkZG80AeFIjkmQIIECANNVKrcrbsjPAAAAAElFTkSuQmCC\n",
       "\" style=\"display:inline;vertical-align:middle;\" /></a>, <a class=\"ProveItLink\" href=\"../__pv_it/demonstrations/29c6c2fe2b7d2efdcbad59a387752e9d9e70de3b0/expr.ipynb\"><img src=\"data:image/png;base64,iVBORw0KGgoAAAANSUhEUgAAAGwAAAAVBAMAAABRZRb3AAAAMFBMVEX///8AAAAAAAAAAAAAAAAA\n",
       "AAAAAAAAAAAAAAAAAAAAAAAAAAAAAAAAAAAAAAAAAAAv3aB7AAAAD3RSTlMAEHarMolUmd1mIs3v\n",
       "RLtmgJDEAAAACXBIWXMAAA7EAAAOxAGVKw4bAAABYklEQVQ4y2NgwAYY7zLgBssW4JLRvohHG4ud\n",
       "AHYJto84dDC+aQCSfAbYZVkbcNnEXYBHGrc2/gRMab2Ojg0EtN0XwJC+rUjYtgi4tJCySCjIaq6N\n",
       "qI5cHLQIU9tmJTOodAGTETuI5kZEBzvQrbynGN5jBDTjbwH5BQxMBxgYOBdwfmSeANKGkF0D5MtM\n",
       "YKjAFjM8Cgxc34CRBzYbCHw6gOABiLV4L5CoZ2BoxdAGVMofwMAgvA3IBuoHATlEMqgDuu4cA+Nf\n",
       "DG0cAQz3geEQfQEUqAsYQZ7gQMgCkwHjJwbOD9iirV4AnIjkLtgwsIKEmBSQQ5LxGwPzhiwMbQ6M\n",
       "J4HSwCDJd6xhuAYW24YSAY8YMgpAKYlBfgMoBCESzBP4CiDS4kpslQlgMeG3AkjahFW9jBzA/gFp\n",
       "bodGgGklZmq4+oJg4sIrTaY2UDLAA6ARjQFAyQAPkJmAQ2K5GR5dS4GSAAd6VCY2vvS5AAAAAElF\n",
       "TkSuQmCC\n",
       "\" style=\"display:inline;vertical-align:middle;\" /></a>, <a class=\"ProveItLink\" href=\"../__pv_it/demonstrations/937b5f9529b96e9512f5cd5d8bb64bf7384a4e610/expr.ipynb\"><img src=\"data:image/png;base64,iVBORw0KGgoAAAANSUhEUgAAAC8AAAAQBAMAAAB0JTvnAAAAMFBMVEX///8AAAAAAAAAAAAAAAAA\n",
       "AAAAAAAAAAAAAAAAAAAAAAAAAAAAAAAAAAAAAAAAAAAv3aB7AAAAD3RSTlMAELvv3c2ZVESJq3Yi\n",
       "MmZ3LnoBAAAACXBIWXMAAA7EAAAOxAGVKw4bAAAAx0lEQVQY02NgVHZgQAcztx0AkqwJ6OKsBYw+\n",
       "QIq/AF3iCQPDJCDVL4AQYo8BkVoMDPVAwSkIcT43sKJvDAz3gcZE7V4OFef2BIszgiQeMDB+FZA/\n",
       "ABaX9IbI8/wESmxgYP/IwLwBxD/mx4AkMYGBLYCBfwKQyxUOs4kRKNG/gYFlAkN/AYoEyPL6ApA3\n",
       "8gVQjGJQYmB4L8DAf4HRjgHFcobHDAypQCMeMMHCRNob4leWAkZboFUr8xAehHokc9cFtFDii2Eg\n",
       "CADgSS0kKFtdoQAAAABJRU5ErkJggg==\n",
       "\" style=\"display:inline;vertical-align:middle;\" /></a> <a class=\"ProveItLink\" href=\"../__pv_it/demonstrations/5349a0174ab3ced75ad022809689780faeb26e6d0/proof.ipynb\" style=\"text-decoration: none\">&nbsp;&#x22A2;&nbsp;&nbsp;</a><a class=\"ProveItLink\" href=\"../__pv_it/demonstrations/72d5b8e725d24a9137d7086f16df0a6b6bf0a0d50/expr.ipynb\"><img src=\"data:image/png;base64,iVBORw0KGgoAAAANSUhEUgAAAD8AAAAQBAMAAABTi7oPAAAAMFBMVEX///8AAAAAAAAAAAAAAAAA\n",
       "AAAAAAAAAAAAAAAAAAAAAAAAAAAAAAAAAAAAAAAAAAAv3aB7AAAAD3RSTlMAEHarMolUmd1mIs3v\n",
       "RLtmgJDEAAAACXBIWXMAAA7EAAAOxAGVKw4bAAAA5ElEQVQoz2NgwATZ50+/6DvJgBvomTBwM2zA\n",
       "o6CcgUGTNYHB7x0QLMCmwIqB8YEcNgmmFx3dIFqAgd3BBIs87yYBGNOZpQAhLqQsEpoAYqyGyzM8\n",
       "5EOwGQqYjNgbQIxdcCG2gEkIec4FnB+ZJ4BYCI+heJKFgR3CYznR0dHRB2aqsV5gYEQo4VEAU4wP\n",
       "YAKMD9YxMDAjQuD+AkawkxpgAswOVgwM8jCe3AUbBlYwSwkm5M4L9KQFjJfvWMNwDeK0BJgnuQUY\n",
       "1uXBFIgrsVVCZBjtLkIC7Nyed2/+PMUWlHGQoEYBAOqvM9g9AFOOAAAAAElFTkSuQmCC\n",
       "\" style=\"display:inline;vertical-align:middle;\" /></a></span>"
      ],
      "text/plain": [
       "{a in Integer, b in Integer, x in {a .. b}, b < 0} |- x in IntegerNeg"
      ]
     },
     "metadata": {},
     "output_type": "display_data"
    }
   ],
   "source": [
    "InSet(x, Interval(a, b)).derive_element_in_integer_nonpos(\n",
    "    assumptions=[InSet(a, Integer), InSet(b, Integer), Less(b, zero), InSet(x, Interval(a, b))])"
   ]
  },
  {
   "cell_type": "code",
   "execution_count": null,
   "metadata": {},
   "outputs": [],
   "source": []
  },
  {
   "cell_type": "code",
   "execution_count": 39,
   "metadata": {},
   "outputs": [],
   "source": [
    "# A case I worry about:\n",
    "# (1) If the deduce_element_in_restricted_number_set() method does a check for the\n",
    "# lower_bound <= upper_bound, this fails as it should and we eventual enter\n",
    "# the NumberMembership.conclude() method as expected.\n",
    "# (2) BUT, if we first run the cell above, then this cell never seems to enter\n",
    "# the IntervalMembership.side_effects() method, going only to the\n",
    "# NumberMembership.conclude() method. Shouldn't it “evaluate” the assumptions?\n",
    "# (3) If the deduce_element_in_restricted_number_set() method does NOT check for the\n",
    "# lower_bound <= upper_bound, this goes through as it should using that side_effect.\n",
    "# (4) BUT, if we first run the cell above, then this cell never enters\n",
    "# the IntervalMembership.side_effects() method, nor the NumberMembership.conclude() method,\n",
    "# because in performing the previous cell, the x \\in NaturalPos under these assumptions\n",
    "# was already established. Nothing mysterious!\n",
    "# InSet(x, NaturalPos).prove(assumptions = [InSet(x, Interval(eight, three))]).proof()"
   ]
  },
  {
   "cell_type": "markdown",
   "metadata": {},
   "source": [
    "Some brief testing of Interval non-membership."
   ]
  },
  {
   "cell_type": "code",
   "execution_count": 40,
   "metadata": {},
   "outputs": [
    {
     "data": {
      "text/html": [
       "<span style=\"font-size:20px;\"> <a class=\"ProveItLink\" href=\"../__pv_it/demonstrations/ea97c2faa692d1701f5ff2d7ccb5f0520511d4d40/proof.ipynb\" style=\"text-decoration: none\">&nbsp;&#x22A2;&nbsp;&nbsp;</a><a class=\"ProveItLink\" href=\"../__pv_it/demonstrations/c5a2fca1761607604819dc65d9246c3c755dedbd0/expr.ipynb\"><img src=\"data:image/png;base64,iVBORw0KGgoAAAANSUhEUgAAAGwAAAAVCAMAAACUlfv2AAAAP1BMVEX///8AAAAAAAAAAAAAAAAA\n",
       "AAAAAAAAAAAAAAAAAAAAAAAAAAAAAAAAAAAAAAAAAAAAAAAAAAAAAAAAAAAAAADFBd4eAAAAFHRS\n",
       "TlMAIomZu0QQVHbN72bdMqvp8+P3ncdxcugAAAAJcEhZcwAADsQAAA7EAZUrDhsAAAGESURBVEjH\n",
       "pZTZdsQgCEDdFRfaTv3/b+0YZ1zjqcnwkCMJ5AIChCyFDrqSktwTqul/JqA61YBU1xCu2AcUrzNl\n",
       "jIs56ICdqmNFBb4D0zGLTYrIf1P8+KBHW97zma9njzswJngSrxt3kzgqwmjryQpmNmG5brx1lzal\n",
       "0MOM8F/fHs5hwcEWLNcK58Lo6KoiwSiCYZUZI3uwbBwmmPQNi6Y2VGNZi7WhF2BUjO7BYJsHpKFw\n",
       "ZuwXeDc0uQDDd5cZ25axdiOcDBmh1tVr34bRgqBtu9syRsF6738ez4eoTgivEB29AmP1MhTCExeO\n",
       "CopCVonBhrELPK8AelR3G9bEy45w45FThR0D5ie/vAIkJokW2Q5LRRwWkMW+jMQYIud91A6K3cxM\n",
       "xvIflm/PuXHOQI9DNsCiaKOH6VTTYaO7fC6wbhErfMwLvsK4iBHrZHg+n0oz6rNYe3G/TDy7EVaZ\n",
       "3ZC1O6gr1p/BqDh52a6AG8JhFYU+iyDqD1jKutVCO8+X410cZdn1D+RaDJS82JHQAAAAAElFTkSu\n",
       "QmCC\n",
       "\" style=\"display:inline;vertical-align:middle;\" /></a></span>"
      ],
      "text/plain": [
       "|- 3 not-in {4 .. 7}"
      ]
     },
     "metadata": {},
     "output_type": "display_data"
    }
   ],
   "source": [
    "NotInSet(three, Interval(four, seven)).prove()"
   ]
  },
  {
   "cell_type": "code",
   "execution_count": 41,
   "metadata": {},
   "outputs": [
    {
     "data": {
      "text/html": [
       "<span style=\"font-size:20px;\"> <a class=\"ProveItLink\" href=\"../__pv_it/demonstrations/c67c0d7fc22339e7a4c3d88c214ba577dac6f3fb0/proof.ipynb\" style=\"text-decoration: none\">&nbsp;&#x22A2;&nbsp;&nbsp;</a><a class=\"ProveItLink\" href=\"../__pv_it/demonstrations/1ab6542a02fb96c684df1c8246ecdf558a0a285d0/expr.ipynb\"><img src=\"data:image/png;base64,iVBORw0KGgoAAAANSUhEUgAAAGwAAAAVCAMAAACUlfv2AAAAP1BMVEX///8AAAAAAAAAAAAAAAAA\n",
       "AAAAAAAAAAAAAAAAAAAAAAAAAAAAAAAAAAAAAAAAAAAAAAAAAAAAAAAAAAAAAADFBd4eAAAAFHRS\n",
       "TlMAEImZRKtUZs27dt0i7zLp8+P3nd4h7UoAAAAJcEhZcwAADsQAAA7EAZUrDhsAAAGMSURBVEjH\n",
       "pZTbcsQgCEAVg+K17Zb//9bGNRuNJlOzy0MGM+ABBIS4lNCd5bKI9yTo8J8JycPR0SLvIcxun9Bu\n",
       "ugQANQad8HDUXFFJzcA0F4n5YLfbnp6oe9uOD77qHmdgYFUWrxt3Y57pUW/rxRXMTcJKMVXrDjjC\n",
       "nPVf357OYcnQFKzUCg/umvPjKVOtFnJSYLrKDMQcrBinozsyO9U8WchtOJR1h7lwAxZs766YfTMI\n",
       "lHXj+n6hV0OLGzB8dZmLW20hWOaaGp0MmQjR1GefhoW4awVg1PPh4uv2FL33P4/1Y6sT0haiCXdg\n",
       "UB9DIq24Qgl7ajIzoBu7pMoKCM/qTsOaeCGHK3mrrmkHzA9+ZQUsmIUjwgxLMnYLKJbesHuLOCeW\n",
       "cR+1GyROZrbwfg/Ebapk132k+yHrYGzb6GnQajrQuydcN1i7CCU+xgVfYWrtXayxeTVqezPqs1iP\n",
       "Yn7Brt1IV5m9IdfuJO9YfwYL9uSnix/BFF1Foc8iYP0BS0ZztdDO81X4Li5Acf0DIrQLn/UmBmwA\n",
       "AAAASUVORK5CYII=\n",
       "\" style=\"display:inline;vertical-align:middle;\" /></a></span>"
      ],
      "text/plain": [
       "|- 8 not-in {4 .. 7}"
      ]
     },
     "metadata": {},
     "output_type": "display_data"
    }
   ],
   "source": [
    "NotInSet(eight, Interval(four, seven)).prove()"
   ]
  },
  {
   "cell_type": "code",
   "execution_count": 42,
   "metadata": {},
   "outputs": [
    {
     "data": {
      "text/html": [
       "<span style=\"font-size:20px;\"><a class=\"ProveItLink\" href=\"../__pv_it/theorems/9dfd51fc82a5dda1e85f06fc33528e3db8c0b6dc0/expr.ipynb\"><img src=\"data:image/png;base64,iVBORw0KGgoAAAANSUhEUgAAADMAAAAQBAMAAABJt1qBAAAAMFBMVEX///8AAAAAAAAAAAAAAAAA\n",
       "AAAAAAAAAAAAAAAAAAAAAAAAAAAAAAAAAAAAAAAAAAAv3aB7AAAAD3RSTlMAEHarMolUmd1mIs3v\n",
       "RLtmgJDEAAAACXBIWXMAAA7EAAAOxAGVKw4bAAAA3UlEQVQY02NgwATZ50+/6DvJgA3omTBwM2zA\n",
       "KlXOwKDJmoBVyoqB8YEcqhDTi45uEC3AwO5ggiLDu0kAxnRmKQBRQsoioWCDV8NlGB7ygdkFTEbs\n",
       "DSDGLrgMW8AkEMW5gPMj8wQQC+FcqNNZGNghYiwnOjo6+sBMNdYLDIwgBo8CmM/4AKaJ8cE6Bgbm\n",
       "BUDW/QWMYEsbYFLMDlYMDPIMDHIXbBhYwSJKMCl3XqDTLRgY8h1rGK5BLIeFzUNuAYZ1eQwM4kps\n",
       "lRAxRruLEK+f2/PuzZ+nqMERBwkoKAAA5a8vMuYfrScAAAAASUVORK5CYII=\n",
       "\" style=\"display:inline;vertical-align:middle;\" /></a>, <a class=\"ProveItLink\" href=\"../__pv_it/demonstrations/a1e747bbf1682a9025c778014f2d0a7f8d653f560/expr.ipynb\"><img src=\"data:image/png;base64,iVBORw0KGgoAAAANSUhEUgAAAG0AAAAVCAMAAAB7V5DIAAAAP1BMVEX///8AAAAAAAAAAAAAAAAA\n",
       "AAAAAAAAAAAAAAAAAAAAAAAAAAAAAAAAAAAAAAAAAAAAAAAAAAAAAAAAAAAAAADFBd4eAAAAFHRS\n",
       "TlMAEHarMolUmd1mIs3vRLvp8+P3nXqVZZ4AAAAJcEhZcwAADsQAAA7EAZUrDhsAAAGGSURBVEjH\n",
       "pZTZdoQgDEAJYQ/Qdsr/f2tRprKoI87kwQPHhJudsRfi+iuEwN4Tp9y1EkF74xTgHsNu+gLjla3A\n",
       "9qZS1Rd6hqZSEb9cIl5o6y5x0tSzwRmajHoRo0bzQ+n/N+p8klbyqdkljUfz9W3okCYsTdHWmBiy\n",
       "K1ogDgzFSWySzdGKsujNgXMEIaWqzbQ0IxA7pnF3g+biYJ7zypEzXUOlZTosH3qG/vua3aDhf6fx\n",
       "tTOZzU/b3N1oK20/bMx5W2s/TXN+O6U1d6Lx+9kF3hjz88ifuOkiPZ1cnJunyfowID1r5buswQJp\n",
       "yljmuSwDt2pO06q/Gfz0N6TsMEA3aLuGLcsg4CLJo5yBQcJ+FUEMDP02i6WinIXdbmoHxk/GFtL2\n",
       "jPSFKUDnU2gzR2oYtoGWYhcADYdmU8reHHSORGnblQnwsdv3laZjSthU2ujxUFtSHTk7iv2VMfck\n",
       "ncT2hrwyJ7il/hnNxYM97T+iaTp3RB14kNQHMPD2fLsdBqzxXZ6TxfQPaRAK6fi6DAYAAAAASUVO\n",
       "RK5CYII=\n",
       "\" style=\"display:inline;vertical-align:middle;\" /></a> <a class=\"ProveItLink\" href=\"../__pv_it/demonstrations/4db60494938a16587f186df28d7b0efdf1e588910/proof.ipynb\" style=\"text-decoration: none\">&nbsp;&#x22A2;&nbsp;&nbsp;</a><a class=\"ProveItLink\" href=\"../__pv_it/demonstrations/bd7fb032439f54092f047593c5309a316c023e300/expr.ipynb\"><img src=\"data:image/png;base64,iVBORw0KGgoAAAANSUhEUgAAAJcAAAAVBAMAAAC5yWGZAAAAMFBMVEX///8AAAAAAAAAAAAAAAAA\n",
       "AAAAAAAAAAAAAAAAAAAAAAAAAAAAAAAAAAAAAAAAAAAv3aB7AAAAD3RSTlMAInZUiRDNmWbv3US7\n",
       "qzJazP2FAAAACXBIWXMAAA7EAAAOxAGVKw4bAAACZ0lEQVQ4y41UTWgTQRT+djeb3SRNWHpplR5i\n",
       "RCiFQg9SqZcsqBdRCEUtSNGKCF6EIK2twUOq0EIRXARPIoSqKIgS9ORBGr0KEooVRSpBFEUU9eBB\n",
       "EOO8mdlNOs0EB/bt23nffu93BoAH3TL+YydanMYc0dpTWXVnO/oLGvBDEjt1VJ+AQWXL8pFvNptB\n",
       "J7hZBuwpHdl9IM7DWCPxnsQR4MDsbKlzLqcAp6zhMhmZWyTtIokXJOYAH+jr/MMikNi0OSo68vkM\n",
       "E9dIS1LleQIsPxZVvZX2ibb/EgWMqlxLM+LtE9lp0mKMwKHULM4Ya4RQ9057N+JlTLPX+PCxvWEd\n",
       "hvbJLD0iOwgZFUUHxyc5EBXiluCyc2sf9jAnde67aK46FbG/P5yGfhDZAtffATnpm623EnFoWSoO\n",
       "hrMlFucUbjLpub/SHGeUonb4nGyM69+A27x4FL4hB6Pvbgidx5XCa1aEANeBDBw5H6+iprseJ/su\n",
       "quFZvK2JKpVMYNMno2I1cI5emR9ExlBZlawXnOyxnNW4F5ElayoZcJWfl4DSBFY8u7AxzSfr679f\n",
       "ArvFV+UrojSP19U0kfqJw8xlBc+AyeobxKA0ALjBnstCHRRF7yHjSlFpgP08HdAsuzVqfv7jeTyS\n",
       "CHtoR0j2hz3TQj0q6hSjoPJ+CBhf5ulYfyeC1AgfnC/ARM6aax23JTloF5qrwD3ZfGHO0PxsaUFd\n",
       "Pmj22eyuS1SEKpIN9QgstC44o7LR9ECBuu3HaWt4ljVLvQUWu2DpFsDTLvYB5btHfyvDoJGZ7EKm\n",
       "OrJreix3ZGS1dnNTIL16sm3APzgKeS4V5PBeAAAAAElFTkSuQmCC\n",
       "\" style=\"display:inline;vertical-align:middle;\" /></a></span>"
      ],
      "text/plain": [
       "{x in Integer, x not-in {4 .. 7}} |- (x < 4) or (7 < x)"
      ]
     },
     "metadata": {},
     "output_type": "display_data"
    }
   ],
   "source": [
    "Or(Less(x, four), Less(seven, x)).prove(assumptions=[InSet(x, Integer), NotInSet(x, Interval(four, seven))])"
   ]
  },
  {
   "cell_type": "markdown",
   "metadata": {},
   "source": [
    "### Number set membership demonstrations"
   ]
  },
  {
   "cell_type": "code",
   "execution_count": 43,
   "metadata": {},
   "outputs": [
    {
     "data": {
      "text/html": [
       "<span style=\"font-size:20px;\"> <a class=\"ProveItLink\" href=\"../__pv_it/demonstrations/87825de3e55cfd8da048cbded975029d82d908af0/proof.ipynb\" style=\"text-decoration: none\">&nbsp;&#x22A2;&nbsp;&nbsp;</a><a class=\"ProveItLink\" href=\"../__pv_it/theorems/73c825d90feb9bf3cce676e4aeec5a53afe74ebe0/expr.ipynb\"><img src=\"data:image/png;base64,iVBORw0KGgoAAAANSUhEUgAAAGgAAAAVBAMAAABYjraNAAAAMFBMVEX///8AAAAAAAAAAAAAAAAA\n",
       "AAAAAAAAAAAAAAAAAAAAAAAAAAAAAAAAAAAAAAAAAAAv3aB7AAAAD3RSTlMAInZUiRDNmWbv3US7\n",
       "qzJazP2FAAAACXBIWXMAAA7EAAAOxAGVKw4bAAAB0klEQVQ4y2NgYBBgwAkYcUkwGWARZM78mbPq\n",
       "ZAO3Apralce+zboNZJhgNensA4YENgYGDTRxHm4FsdgNDKwJ2DSxFzAwNTgzMLAFoGtqYBE4wMDe\n",
       "gE0TrwBDDOsBBgaOAgxNHAYXGDhRnXVq1TIQzcrAUMf7AMiYChHXWbUqAa4pgcEMWQ93Etw5fBee\n",
       "g6gMMGebKsImXgkHhhKQuUpXnziDxMQQXuAJOAqifMEhn4pwnqrWFYhR7Ay6ClUgsUSEpSYc4OBu\n",
       "AxFsAghNy+YvD2BYDGQ2MvQH3ACJIYUkKMCBwBKsCTkgmLpTGWYDmQ8YyiD+mLVq1ao10Cj3ZmAA\n",
       "OvY9iPMSKLzqAFQTw4EtYE0MDJPAJOsBuJExjED2RQaGnWAOsk0MB3jAzmPg/sgQCqIXwGXvAWOK\n",
       "9QMDgxWIw4WqiY3hENCC07wTGBxAYkrwAC/YDoxhoBk9YLcqoGgyAoUp87/wCdzgZMtmAA/wVAbG\n",
       "w0AXloC5yQhNDiwqBQyvgDYVKZg3Qzx1ZytEcuexOWfmzwHavhrMjT0NiUCmzDPgVM71ACVJ+ECS\n",
       "ETxDQX255dQq5ISNniTRUnsDdvGD+DTJ4BCPwacJl4mMCrj1MGEvPwDGhm2vs+SOFgAAAABJRU5E\n",
       "rkJggg==\n",
       "\" style=\"display:inline;vertical-align:middle;\" /></a></span>"
      ],
      "text/plain": [
       "|- (x in Integer) in BOOLEAN"
      ]
     },
     "metadata": {},
     "output_type": "display_data"
    }
   ],
   "source": [
    "InSet(InSet(x, Integer), Boolean).prove()"
   ]
  },
  {
   "cell_type": "code",
   "execution_count": 44,
   "metadata": {},
   "outputs": [
    {
     "data": {
      "text/html": [
       "<span style=\"font-size:20px;\"> <a class=\"ProveItLink\" href=\"../__pv_it/demonstrations/9ed173d76a220e9fd1c6d109a2c51f64402847030/proof.ipynb\" style=\"text-decoration: none\">&nbsp;&#x22A2;&nbsp;&nbsp;</a><a class=\"ProveItLink\" href=\"../__pv_it/theorems/dfb1ef50d98224592f1ceed7e61831c3ca6ddc860/expr.ipynb\"><img src=\"data:image/png;base64,iVBORw0KGgoAAAANSUhEUgAAAIAAAAAbCAMAAACDQXd5AAAAOVBMVEX///8AAAAAAAAAAAAAAAAA\n",
       "AAAAAAAAAAAAAAAAAAAAAAAAAAAAAAAAAAAAAAAAAAAAAAAAAAAAAAACXHtMAAAAEnRSTlMAZkRU\n",
       "mRDNuyLviTJ23avt5cl5aQ4bAAAACXBIWXMAAA7EAAAOxAGVKw4bAAACOUlEQVRIx8VXi7ajIAzk\n",
       "/RDI7vL/H7sJoGKLtNz27HKs1R4axslMgox9YWj2f8cmynmL208jcPHJ+g5KjMiYsHih1iNI9REB\n",
       "4OjsA54yXjq7nEHz0fqiEO8yCcHLxsXSsPx9rozP3tiUrMc/KUvjF344CwVAKqHSC1HG5K3Jxico\n",
       "qXf+fazRAjFtytF+qvArAF8ePsLLZ2YiMmd0QaAWtKtUW3OTe/5axmsKcvlZZ/0aAOLeHKN/Z7Go\n",
       "N1yzLksp+P3HlhScIiSG+FsAuGSwc3dLecJhrhVHBVYSUZg/2I5kw3an7DzMCcCQIu71beIAHK4Z\n",
       "Dt/acwIWItXuon8RpgIAxzH9sAPTMYIO25FdEsmQPn0uK8eOEz2rozAkQh0TkPzsTpci+UamDkaM\n",
       "Gzpx64x+U0FCDufNKAwCSOjoRJSZljeO8zgiBz6P3ltQ3ujX9cI2tyKMXCA7qeWTMKt+cvCpjV5S\n",
       "UbbeM3Oa7gAMw1QA9LUdDLCjjjw4/Bra7rUe3KQ9dSkYhjkA4NEBEGRjfTzayB7ov7qyzhMGQu7Q\n",
       "pSkAw8A2oIIBueesi/FZ4ug/UVMGadafehcMwpwA0EbNszIHrfBSyE4+cmDBYipn5azp8ksdeA5T\n",
       "k89wB6MOtFohUql4P1mDFRetCexiHisvtkQ76yDq0o2ewkQKcnZDL2a93l5r6HvjsRfMw6gf7+Tu\n",
       "Xbi0Sw3+2wA4rM0H+WUAyf3TPeEzAat7QuovXxzru+JP3wseRb32nvQXVDARPi3LgisAAAAASUVO\n",
       "RK5CYII=\n",
       "\" style=\"display:inline;vertical-align:middle;\" /></a></span>"
      ],
      "text/plain": [
       "|- (x in IntegerNonZero) in BOOLEAN"
      ]
     },
     "metadata": {},
     "output_type": "display_data"
    }
   ],
   "source": [
    "InSet(InSet(x, IntegerNonZero), Boolean).prove()"
   ]
  },
  {
   "cell_type": "code",
   "execution_count": 45,
   "metadata": {},
   "outputs": [
    {
     "data": {
      "text/html": [
       "<span style=\"font-size:20px;\"> <a class=\"ProveItLink\" href=\"../__pv_it/demonstrations/8cce26c55feec378698a58bc5d38e5ae6eb3ddd20/proof.ipynb\" style=\"text-decoration: none\">&nbsp;&#x22A2;&nbsp;&nbsp;</a><a class=\"ProveItLink\" href=\"../__pv_it/theorems/776b4015c8a3026cee4229d594023e74f62341ff0/expr.ipynb\"><img src=\"data:image/png;base64,iVBORw0KGgoAAAANSUhEUgAAAHgAAAAZBAMAAAAI4vceAAAAMFBMVEX///8AAAAAAAAAAAAAAAAA\n",
       "AAAAAAAAAAAAAAAAAAAAAAAAAAAAAAAAAAAAAAAAAAAv3aB7AAAAD3RSTlMAZkRUmRDNuyLviTJ2\n",
       "3asqG0tJAAAACXBIWXMAAA7EAAAOxAGVKw4bAAAB8klEQVQ4y2NgYBBiIARYcMowOxDUzFGASyaM\n",
       "gTCQwSVRiNU5mT/T71YKwLi8AajSPDfLvs19BHTSBGyaeeo2MCSwIbgP0OTZmQ60xSkwsCzAGkQO\n",
       "DDwCixm4y4GggoGB9SuGZgGuhgIGfgVsmvkaGMJZkYIpEVMzo8EDhv0o3uGpvXsNRLMyMHjzbUCI\n",
       "u0Pp43fvJsA1JzCcRdbLlAM3ivvBFiSJkxBK7SjCZr7GBQzPQPacebprMUisDeEM9oBSJM36YAmO\n",
       "VISzj559xcBQDk5B5w74gsQyEMqtGA8gad4P9gJbA0LztflXAhjygEwJBvmAhyCxBIRypIgCgn5w\n",
       "sLIhBxiPUCrDFSBzA4MbxJ9z7969ex0ScgaLGBgQnogHa94JlL5bANXMUKAFtpmBYQ6YRIqccFB6\n",
       "foGwGezscGSbGQrYIZqZfjCEgugLcNnXwJhm/YDwM9i3vKia2RieAy0s4pvAAE5oZ+AR5aACTCkX\n",
       "0EKb5wCKZhtQDDL/DpnAZAAOEQN4RKUycBQjfCEJoZIRmhdwnXIAmcnqc8BEGOLp56oQSc2y6eXz\n",
       "pyOSvR+EiiuChCFPZjk4V3GipG2m5ZDkiQ5gaVur9m4Ccv5ZQERhgJGrYEEzgQjNjA9wSDwmQjNv\n",
       "Ay3KMOYFFJSexJTbAdjFAbxqeA7pspNcAAAAAElFTkSuQmCC\n",
       "\" style=\"display:inline;vertical-align:middle;\" /></a></span>"
      ],
      "text/plain": [
       "|- (x in IntegerNeg) in BOOLEAN"
      ]
     },
     "metadata": {},
     "output_type": "display_data"
    }
   ],
   "source": [
    "InSet(InSet(x, IntegerNeg), Boolean).prove()"
   ]
  },
  {
   "cell_type": "code",
   "execution_count": 46,
   "metadata": {},
   "outputs": [
    {
     "data": {
      "text/html": [
       "<span style=\"font-size:20px;\"> <a class=\"ProveItLink\" href=\"../__pv_it/demonstrations/f84bd20bb2fa59c8553dc9c11b51fc0e37dde90e0/proof.ipynb\" style=\"text-decoration: none\">&nbsp;&#x22A2;&nbsp;&nbsp;</a><a class=\"ProveItLink\" href=\"../__pv_it/theorems/434b503dda0d9aad59e5df5f11a05d746f8c0b8a0/expr.ipynb\"><img src=\"data:image/png;base64,iVBORw0KGgoAAAANSUhEUgAAAIAAAAAaBAMAAACN7UndAAAAMFBMVEX///8AAAAAAAAAAAAAAAAA\n",
       "AAAAAAAAAAAAAAAAAAAAAAAAAAAAAAAAAAAAAAAAAAAv3aB7AAAAD3RSTlMAZkRUmRDNuyLviTJ2\n",
       "3asqG0tJAAAACXBIWXMAAA7EAAAOxAGVKw4bAAACTElEQVQ4y2NgIASYKxi41izAp0IIv/4aBgYZ\n",
       "BnUGFtwqHPDpZywEErMZ+Bs4CnApCcOnn6cYSHB8ZeA0ADoDByjE6qzMn+l3KwW4J4M43F8ZeAUY\n",
       "eAPQzL5Z9m3uI6DxE7DaXLeBIYGNgcF8KcQAzgMMPA/Q1LAzHWiLU2BgwRrALA4MPAKLgQz1pWAv\n",
       "8BswsH7FMECAq6GAgV8BmwF8DQzhrOBg2+cBCUQGhkRMAxgNHjDsR/EaT+3dayCalYHBm28DWKjv\n",
       "KcMZBj0gwx2q5vjduwlwAxIYziLrZ8qBG8f9YAuU1QBMSK5A+iSEq3YU4QK+xgUMz4DMmHPRqwxA\n",
       "Ym0I57AHlKI5WR8syZGK8MLRs68YGMqBTAeeNywXQGIZCOVWjAfQDNgP9hJbA8KAa/OvBDDkAVNb\n",
       "A+NXPgGQWAJCOSgSGbjLgaACKtIPDm425EDkEUpluAJUxsAC0ck99+7du9choWmwiIEBNenEgw3Y\n",
       "CVRytwBqAEOBFsgFDKB0Ag57RHoPB6X9FygG9IO9EI7sAoYCdogB+g2sYNsuwGVfA1MC6wfUMAD7\n",
       "nhfVADaG50BDFV4ycIHFzsAj0UEFmJouYIkFngMoBtiAYtd+qyeDMliMzQAeiakMHMWoOVgSQiUj\n",
       "DFjAdcoBZG7IGWZHiE7W56oQSc2y6eXzp6NmEz8IFVcECVuezHJwbuREyQtMyyFJGRuA5QWt2rsJ\n",
       "yPluAQNxACM3woJrApEGMD7AIfGYSAN4G8gpE5EAzjKRmbhAwF0qE6gX4IEdgF0cANAziLCp4M0J\n",
       "AAAAAElFTkSuQmCC\n",
       "\" style=\"display:inline;vertical-align:middle;\" /></a></span>"
      ],
      "text/plain": [
       "|- (x in IntegerNonPos) in BOOLEAN"
      ]
     },
     "metadata": {},
     "output_type": "display_data"
    }
   ],
   "source": [
    "InSet(InSet(x, IntegerNonPos), Boolean).prove()"
   ]
  },
  {
   "cell_type": "code",
   "execution_count": 47,
   "metadata": {},
   "outputs": [
    {
     "data": {
      "text/html": [
       "<span style=\"font-size:20px;\"><a class=\"ProveItLink\" href=\"../__pv_it/demonstrations/b200827e7171d8a599a957bfe6e7b4d33e9b49200/expr.ipynb\"><img src=\"data:image/png;base64,iVBORw0KGgoAAAANSUhEUgAAAEkAAAAVCAMAAAA94TNiAAAAOVBMVEX///8AAAAAAAAAAAAAAAAA\n",
       "AAAAAAAAAAAAAAAAAAAAAAAAAAAAAAAAAAAAAAAAAAAAAAAAAAAAAAACXHtMAAAAEnRSTlMARHar\n",
       "ECKJu90yVM1m75nt5ckZTGC1AAAACXBIWXMAAA7EAAAOxAGVKw4bAAABO0lEQVQ4y61Ui27DIAw0\n",
       "T4N5bOP/P3bGoSmpyJoqs1qkIN8ld5wBuFUW/qm8ktVrf5PImb5mDaDwHpNxfS2Rl+buECnR5Fo3\n",
       "q9BVFKXSSsIQsGSAir2++J8hClPIV5k0mi4iyW9sbeCNqeirTLUOsH/IsMPkTV2jj8xl8Ibv6r5/\n",
       "UNS9c1yzJSGkYwRrBNEoosze2lNgzk4l6UV6GRzr4wGfDZzM2p+UNtZ5jZNlLi2ngME7nhYOe0DD\n",
       "23ZSmpaiyUucR8tCiIKAcgQR/mh7SQCp1TTb1rep7YpiCaPmadI0BvZ8/qnJMU/ntBpH3nQ4Tdsy\n",
       "KsLR8vNlYdUVB4Vtp99U/BDn54S8JqCC2hJgwuklI1brBHmynBYJkGg4pNOrSMk7rMkT2hpUB2NV\n",
       "wVR4OPhCQP/p3YOHaXlfvxvYCIs2sE5IAAAAAElFTkSuQmCC\n",
       "\" style=\"display:inline;vertical-align:middle;\" /></a> <a class=\"ProveItLink\" href=\"../__pv_it/demonstrations/c699dd77dc08aa76f13471dc815289ff7e86211a0/proof.ipynb\" style=\"text-decoration: none\">&nbsp;&#x22A2;&nbsp;&nbsp;</a><a class=\"ProveItLink\" href=\"../../natural_numbers/__pv_it/theorems/4f852a423d294b86a0634c9895ef45dafd210e710/expr.ipynb\"><img src=\"data:image/png;base64,iVBORw0KGgoAAAANSUhEUgAAADMAAAAUCAMAAAAX1vWWAAAAPFBMVEX///8AAAAAAAAAAAAAAAAA\n",
       "AAAAAAAAAAAAAAAAAAAAAAAAAAAAAAAAAAAAAAAAAAAAAAAAAAAAAAAAAAAo1xBWAAAAE3RSTlMA\n",
       "RHarECKJu90yVM1m75nn9enzq7sg/gAAAAlwSFlzAAAOxAAADsQBlSsOGwAAANhJREFUOMudk9kW\n",
       "hCAIhhEN15zF93/XUdp0avQ0XHTC+PmAEKBvUcFds7r2iDBOQ422leMdgDIjkZWVEwyz9AhTJ9Wc\n",
       "wKV+h6LGQIqMTrlCgVJNhBrPGl9j1KYJucAMxXJ0BETD9niW58aaEi0aBCHAaD6yXcyhIVCZIC57\n",
       "E7Fx1aIRCTm6vEvfx2wzcGUGa3RuTTX9vN5LV/vsNP+ZwPXMtJZGLea71jBzPr83jx5CMwQXT6M3\n",
       "ZXfmEiV4JZQMro/JMZFQ2t8r4Oj2HbjCjCz8gTH3MWB7Hz80BQaddpN1jAAAAABJRU5ErkJggg==\n",
       "\" style=\"display:inline;vertical-align:middle;\" /></a></span>"
      ],
      "text/plain": [
       "{n in IntegerNonZero} |- n != 0"
      ]
     },
     "metadata": {},
     "output_type": "display_data"
    }
   ],
   "source": [
    "NotEquals(n, zero).prove(assumptions=[InSet(n, IntegerNonZero)], \n",
    "                         conclude_automation=False) # should be side-effect"
   ]
  },
  {
   "cell_type": "code",
   "execution_count": 48,
   "metadata": {},
   "outputs": [
    {
     "data": {
      "text/html": [
       "<span style=\"font-size:20px;\"><a class=\"ProveItLink\" href=\"../__pv_it/demonstrations/72d5b8e725d24a9137d7086f16df0a6b6bf0a0d50/expr.ipynb\"><img src=\"data:image/png;base64,iVBORw0KGgoAAAANSUhEUgAAAD8AAAAQBAMAAABTi7oPAAAAMFBMVEX///8AAAAAAAAAAAAAAAAA\n",
       "AAAAAAAAAAAAAAAAAAAAAAAAAAAAAAAAAAAAAAAAAAAv3aB7AAAAD3RSTlMAEHarMolUmd1mIs3v\n",
       "RLtmgJDEAAAACXBIWXMAAA7EAAAOxAGVKw4bAAAA5ElEQVQoz2NgwATZ50+/6DvJgBvomTBwM2zA\n",
       "o6CcgUGTNYHB7x0QLMCmwIqB8YEcNgmmFx3dIFqAgd3BBIs87yYBGNOZpQAhLqQsEpoAYqyGyzM8\n",
       "5EOwGQqYjNgbQIxdcCG2gEkIec4FnB+ZJ4BYCI+heJKFgR3CYznR0dHRB2aqsV5gYEQo4VEAU4wP\n",
       "YAKMD9YxMDAjQuD+AkawkxpgAswOVgwM8jCe3AUbBlYwSwkm5M4L9KQFjJfvWMNwDeK0BJgnuQUY\n",
       "1uXBFIgrsVVCZBjtLkIC7Nyed2/+PMUWlHGQoEYBAOqvM9g9AFOOAAAAAElFTkSuQmCC\n",
       "\" style=\"display:inline;vertical-align:middle;\" /></a> <a class=\"ProveItLink\" href=\"../__pv_it/demonstrations/70803b306becd782f6210dbe4e9bc6bba4eca4a60/proof.ipynb\" style=\"text-decoration: none\">&nbsp;&#x22A2;&nbsp;&nbsp;</a><a class=\"ProveItLink\" href=\"../../real_numbers/__pv_it/theorems/068e2f545e08d21821de8eb3c3a29ef348d1823a0/expr.ipynb\"><img src=\"data:image/png;base64,iVBORw0KGgoAAAANSUhEUgAAADEAAAAQBAMAAABNQoq8AAAAMFBMVEX///8AAAAAAAAAAAAAAAAA\n",
       "AAAAAAAAAAAAAAAAAAAAAAAAAAAAAAAAAAAAAAAAAAAv3aB7AAAAD3RSTlMAEHarMolUmd1mIs3v\n",
       "RLtmgJDEAAAACXBIWXMAAA7EAAAOxAGVKw4bAAAAwUlEQVQY02NgwAZC1RdgFWfgTmDswi4zg4Eh\n",
       "Dl2MbReIfMzAkC+AKsHZDhb4zsDgn8DAIKQsEpoAkWBqBUswgmQmMDAUMBmxN4AlRJsgCri+AmUU\n",
       "GDgXcH5kngASWN7JgCQTwMDCwL4BzGfeBrONEShzXwHI4FFAkwG5IB9k9f0FjAIopjG8Y2CYL8Ag\n",
       "d8GGgZUBxQUMcxgYqoHaHGsYrkFFhJog/uNIYDzCwCCuxFaZAPcp1EOlyg7oocO5i4EwAADRHieE\n",
       "tyiB0wAAAABJRU5ErkJggg==\n",
       "\" style=\"display:inline;vertical-align:middle;\" /></a></span>"
      ],
      "text/plain": [
       "{x in IntegerNeg} |- x < 0"
      ]
     },
     "metadata": {},
     "output_type": "display_data"
    }
   ],
   "source": [
    "Less(x, zero).prove(assumptions=[InSet(x, IntegerNeg)], \n",
    "                    conclude_automation=False) # should be side-effect"
   ]
  },
  {
   "cell_type": "code",
   "execution_count": 49,
   "metadata": {},
   "outputs": [
    {
     "data": {
      "text/html": [
       "<span style=\"font-size:20px;\"><a class=\"ProveItLink\" href=\"../__pv_it/demonstrations/f51fe37a5b1d9a1ca4dd2370134d2b4efe165f9d0/expr.ipynb\"><img src=\"data:image/png;base64,iVBORw0KGgoAAAANSUhEUgAAAEgAAAAUBAMAAADcj2b4AAAAMFBMVEX///8AAAAAAAAAAAAAAAAA\n",
       "AAAAAAAAAAAAAAAAAAAAAAAAAAAAAAAAAAAAAAAAAAAv3aB7AAAAD3RSTlMAEHarMolUmd1mIs3v\n",
       "RLtmgJDEAAAACXBIWXMAAA7EAAAOxAGVKw4bAAABOklEQVQoz2NgwAvyFjCEqjIQUKPAwKnA+wCv\n",
       "mnkTGBh4HBh+4VOjlwAk1gswHMMmmX3+9Iu+kww+IDUM/gIMnVhNMGHgZtjAwPZUAKLoEDZF5QwM\n",
       "mqxAY3hBqoDWfcOmyIqB8YEciMFivgDD4UwvOrpBtAADu4MJWITLWIBJgdcASQ3vJgEY05mlAMLg\n",
       "YmAIVQcKCymLhIL9sRquhuEhnwCqCwqYjNgbQIxdcCG2gEmoajgXcH5kngBibYCLcYPZfu+AYAFY\n",
       "gIWBHSLLcqKjo6MPzFRjvcDAiGoWjwKYYoTHI+ODdQwMzAtQFN1fwAh2ZgNMgNnBioFBHlmJ3AUb\n",
       "BlYwSwkm5M4LDAALZEX5jjUM1yDOTYAFALcAw7o8ZEXiSmyVEFlGu4uQQD23592bP09xpB/eOEi0\n",
       "YAAAV3VFVVxEO3cAAAAASUVORK5CYII=\n",
       "\" style=\"display:inline;vertical-align:middle;\" /></a> <a class=\"ProveItLink\" href=\"../__pv_it/demonstrations/98bdc00d13005b724fab9cefff70cb428b264c8d0/proof.ipynb\" style=\"text-decoration: none\">&nbsp;&#x22A2;&nbsp;&nbsp;</a><a class=\"ProveItLink\" href=\"../../real_numbers/__pv_it/theorems/c30a0bd668f16bebb68a7791021eba7f002ea2a10/expr.ipynb\"><img src=\"data:image/png;base64,iVBORw0KGgoAAAANSUhEUgAAADEAAAARBAMAAACGHlkZAAAAMFBMVEX///8AAAAAAAAAAAAAAAAA\n",
       "AAAAAAAAAAAAAAAAAAAAAAAAAAAAAAAAAAAAAAAAAAAv3aB7AAAAD3RSTlMAEHarMolUmd1mIs3v\n",
       "RLtmgJDEAAAACXBIWXMAAA7EAAAOxAGVKw4bAAAAv0lEQVQY02NgwAZC1RegC7HtApHcCYxdaBKc\n",
       "7QIgagYDQxyqBFMrWILhMQNDvgCyhGgTlPGdgcE/gYFBSFkkNAHEF++ESjCCZCYwMBQwGbE3APnC\n",
       "22B6ub4CZRQYOBdwfmQGKmBgRpUJYGBhYN8AEVgONw0oc18ByOBRwOKCfJDV9xcwCqC6+h0Dw3wB\n",
       "BrkLNgysaD6dw8BQDdTmWMNwDRE6W0AkRwLjEaAvlNgqE9ACibFU2YGBMiDRAQItcD4ALa0qND15\n",
       "Sx0AAAAASUVORK5CYII=\n",
       "\" style=\"display:inline;vertical-align:middle;\" /></a></span>"
      ],
      "text/plain": [
       "{x in IntegerNonPos} |- x <= 0"
      ]
     },
     "metadata": {},
     "output_type": "display_data"
    }
   ],
   "source": [
    "LessEq(x, zero).prove(assumptions=[InSet(x, IntegerNonPos)], \n",
    "                      conclude_automation=False) # should be side-effect"
   ]
  },
  {
   "cell_type": "code",
   "execution_count": 50,
   "metadata": {},
   "outputs": [
    {
     "data": {
      "text/html": [
       "<span style=\"font-size:20px;\"><a class=\"ProveItLink\" href=\"../__pv_it/theorems/9dfd51fc82a5dda1e85f06fc33528e3db8c0b6dc0/expr.ipynb\"><img src=\"data:image/png;base64,iVBORw0KGgoAAAANSUhEUgAAADMAAAAQBAMAAABJt1qBAAAAMFBMVEX///8AAAAAAAAAAAAAAAAA\n",
       "AAAAAAAAAAAAAAAAAAAAAAAAAAAAAAAAAAAAAAAAAAAv3aB7AAAAD3RSTlMAEHarMolUmd1mIs3v\n",
       "RLtmgJDEAAAACXBIWXMAAA7EAAAOxAGVKw4bAAAA3UlEQVQY02NgwATZ50+/6DvJgA3omTBwM2zA\n",
       "KlXOwKDJmoBVyoqB8YEcqhDTi45uEC3AwO5ggiLDu0kAxnRmKQBRQsoioWCDV8NlGB7ygdkFTEbs\n",
       "DSDGLrgMW8AkEMW5gPMj8wQQC+FcqNNZGNghYiwnOjo6+sBMNdYLDIwgBo8CmM/4AKaJ8cE6Bgbm\n",
       "BUDW/QWMYEsbYFLMDlYMDPIMDHIXbBhYwSJKMCl3XqDTLRgY8h1rGK5BLIeFzUNuAYZ1eQwM4kps\n",
       "lRAxRruLEK+f2/PuzZ+nqMERBwkoKAAA5a8vMuYfrScAAAAASUVORK5CYII=\n",
       "\" style=\"display:inline;vertical-align:middle;\" /></a>, <a class=\"ProveItLink\" href=\"../../real_numbers/__pv_it/theorems/ffcbd76494d8407c0ebebaa8c88703403e0e53b60/expr.ipynb\"><img src=\"data:image/png;base64,iVBORw0KGgoAAAANSUhEUgAAADEAAAARBAMAAACGHlkZAAAAMFBMVEX///8AAAAAAAAAAAAAAAAA\n",
       "AAAAAAAAAAAAAAAAAAAAAAAAAAAAAAAAAAAAAAAAAAAv3aB7AAAAD3RSTlMAEHarMolUmd1mIs3v\n",
       "RLtmgJDEAAAACXBIWXMAAA7EAAAOxAGVKw4bAAAAvUlEQVQY02NgwAZC1Rcg8aQnwJncCYxdSDKM\n",
       "EQow5gwGhjgUMzQCoYzHDAz5AihSM6BS3xkY/BMYGISURUIToFLZVWBzQTJAWwuYjNgbYLpuGwIJ\n",
       "rq9AGQUGzgWcH5nhzrr9ECYTwMDCwL4BblG2Fdg0oMx9kEN5EK4thLsgH2T1/QWMAqiufsfAMF+A\n",
       "Qe6CDQMrmk/nMDBUA7U51jBcQwsdjgTGIwwM4kpslQloAcpYquzAQBmQ6ACBFjgfAFAoK0oOcBU8\n",
       "AAAAAElFTkSuQmCC\n",
       "\" style=\"display:inline;vertical-align:middle;\" /></a> <a class=\"ProveItLink\" href=\"../__pv_it/demonstrations/2f01d78f28be2f707da6f57f03c24269de5f52bb0/proof.ipynb\" style=\"text-decoration: none\">&nbsp;&#x22A2;&nbsp;&nbsp;</a><a class=\"ProveItLink\" href=\"../../natural_numbers/__pv_it/theorems/8c13e7bcba0a4bd4dd1c903dda9179f0c1a274990/expr.ipynb\"><img src=\"data:image/png;base64,iVBORw0KGgoAAAANSUhEUgAAADQAAAAQBAMAAACra0H4AAAAMFBMVEX///8AAAAAAAAAAAAAAAAA\n",
       "AAAAAAAAAAAAAAAAAAAAAAAAAAAAAAAAAAAAAAAAAAAv3aB7AAAAD3RSTlMAEHarMolUmd1mIs3v\n",
       "RLtmgJDEAAAACXBIWXMAAA7EAAAOxAGVKw4bAAAA3klEQVQY02NgwACM/e82MrCeP8uABfAlXGZg\n",
       "kMcmw8DcxTqBgQe7VB7DLgYOFCG9jo4NYKmVCqtRpW4rwnQtMGEKAEkJKYuEJgBpro1wAxfwMbwF\n",
       "SRUwGbE3AGnuBQgplgIJCQYGzgWcH5kngKQQzljAMI3tDQMDCwM72G4Gnw4geACVYhawAbF4FMBS\n",
       "csi6GA0kQKz7CxgFgBQHshSDEx9Q8QUbBlaQAJMCPKAcgDw/BoZ8xxqGa2CRbTApbpBfqhkYxJXY\n",
       "KhPAIsJvBcA0y/5zQFIaJaCuvoAEFBQAAFKNLSS7ExREAAAAAElFTkSuQmCC\n",
       "\" style=\"display:inline;vertical-align:middle;\" /></a></span>"
      ],
      "text/plain": [
       "{x in Integer, x >= 0} |- x in Natural"
      ]
     },
     "metadata": {},
     "output_type": "display_data"
    }
   ],
   "source": [
    "InSet(x, Natural).prove(assumptions=[InSet(x, Integer), greater_eq(x, zero)])"
   ]
  },
  {
   "cell_type": "code",
   "execution_count": 51,
   "metadata": {},
   "outputs": [
    {
     "data": {
      "text/html": [
       "<span style=\"font-size:20px;\"><a class=\"ProveItLink\" href=\"../__pv_it/theorems/9dfd51fc82a5dda1e85f06fc33528e3db8c0b6dc0/expr.ipynb\"><img src=\"data:image/png;base64,iVBORw0KGgoAAAANSUhEUgAAADMAAAAQBAMAAABJt1qBAAAAMFBMVEX///8AAAAAAAAAAAAAAAAA\n",
       "AAAAAAAAAAAAAAAAAAAAAAAAAAAAAAAAAAAAAAAAAAAv3aB7AAAAD3RSTlMAEHarMolUmd1mIs3v\n",
       "RLtmgJDEAAAACXBIWXMAAA7EAAAOxAGVKw4bAAAA3UlEQVQY02NgwATZ50+/6DvJgA3omTBwM2zA\n",
       "KlXOwKDJmoBVyoqB8YEcqhDTi45uEC3AwO5ggiLDu0kAxnRmKQBRQsoioWCDV8NlGB7ygdkFTEbs\n",
       "DSDGLrgMW8AkEMW5gPMj8wQQC+FcqNNZGNghYiwnOjo6+sBMNdYLDIwgBo8CmM/4AKaJ8cE6Bgbm\n",
       "BUDW/QWMYEsbYFLMDlYMDPIMDHIXbBhYwSJKMCl3XqDTLRgY8h1rGK5BLIeFzUNuAYZ1eQwM4kps\n",
       "lRAxRruLEK+f2/PuzZ+nqMERBwkoKAAA5a8vMuYfrScAAAAASUVORK5CYII=\n",
       "\" style=\"display:inline;vertical-align:middle;\" /></a>, <a class=\"ProveItLink\" href=\"../../real_numbers/__pv_it/theorems/0c04c146b0f7b92967ed28917fb83981f8ee0b1b0/expr.ipynb\"><img src=\"data:image/png;base64,iVBORw0KGgoAAAANSUhEUgAAADEAAAAQBAMAAABNQoq8AAAAMFBMVEX///8AAAAAAAAAAAAAAAAA\n",
       "AAAAAAAAAAAAAAAAAAAAAAAAAAAAAAAAAAAAAAAAAAAv3aB7AAAAD3RSTlMAEHarMolUmd1mIs3v\n",
       "RLtmgJDEAAAACXBIWXMAAA7EAAAOxAGVKw4bAAAAv0lEQVQY02NgwAZC1RdgFWfgTmDswi4zg4Eh\n",
       "DokrPQHOfMzAkC+AkGGMUIAxvzMw+CcwMAgpi4QmgAU0AqFqQDJAEwqYjNgboOYXgimur0AZBQbO\n",
       "BZwfmWFWZFfBZQIYWBjYNyAsu20IMg0ocx9kKY8CksxDqAvyQVbfX8AIc2K2FZh6x8AwX4BB7oIN\n",
       "AyvMh1UQeg4DQzVQm2MNwzUGFFczcCQwHmFgEFdiqwR7h1EDbh9jqbIDUuhITGAgEgAAPjAn/CdE\n",
       "pSIAAAAASUVORK5CYII=\n",
       "\" style=\"display:inline;vertical-align:middle;\" /></a> <a class=\"ProveItLink\" href=\"../__pv_it/demonstrations/96be14b6784da6c41884ff2a681aed0adb63cfaf0/proof.ipynb\" style=\"text-decoration: none\">&nbsp;&#x22A2;&nbsp;&nbsp;</a><a class=\"ProveItLink\" href=\"../../natural_numbers/__pv_it/theorems/eeefdffd3aa81290285f57914cfcea6647727dd80/expr.ipynb\"><img src=\"data:image/png;base64,iVBORw0KGgoAAAANSUhEUgAAAEAAAAATBAMAAADSXRa0AAAAMFBMVEX///8AAAAAAAAAAAAAAAAA\n",
       "AAAAAAAAAAAAAAAAAAAAAAAAAAAAAAAAAAAAAAAAAAAv3aB7AAAAD3RSTlMAEHarMolUmd1mIs3v\n",
       "RLtmgJDEAAAACXBIWXMAAA7EAAAOxAGVKw4bAAAA7klEQVQoz2NgwAcKGAiAB+QpYOx/t5GB9fxZ\n",
       "3CbwJVxmYJDHYwVzF+sEBh4G9nfvzr17iVVBHsMuBg4sJuh1dGwAK1ipsBqbgtuKMBMWmDAFIBQI\n",
       "KYuEJgBpro1wKxbwMbxFKChgMmJvANLcCxAKWAokJGAhybmA8yPzBJAChCMXMExjewPjsTCwg13G\n",
       "4NMBBA+gCpgFbBCO41EAU3LIJjAaSCAU3F/AKACkOJAVMDjxwXhyF2wYWEEMJgV4UDsAeX4wXr5j\n",
       "DcM1MGsbTIgb5OtqGE9cia0yAcwSfisAcfb+c0BSGkscXH0BCWoUAACz1jmMfap6cwAAAABJRU5E\n",
       "rkJggg==\n",
       "\" style=\"display:inline;vertical-align:middle;\" /></a></span>"
      ],
      "text/plain": [
       "{x in Integer, x > 0} |- x in NaturalPos"
      ]
     },
     "metadata": {},
     "output_type": "display_data"
    }
   ],
   "source": [
    "InSet(x, NaturalPos).prove(assumptions=[InSet(x, Integer), greater(x, zero)])"
   ]
  },
  {
   "cell_type": "code",
   "execution_count": 52,
   "metadata": {},
   "outputs": [
    {
     "data": {
      "text/html": [
       "<span style=\"font-size:20px;\"><a class=\"ProveItLink\" href=\"../__pv_it/theorems/9dfd51fc82a5dda1e85f06fc33528e3db8c0b6dc0/expr.ipynb\"><img src=\"data:image/png;base64,iVBORw0KGgoAAAANSUhEUgAAADMAAAAQBAMAAABJt1qBAAAAMFBMVEX///8AAAAAAAAAAAAAAAAA\n",
       "AAAAAAAAAAAAAAAAAAAAAAAAAAAAAAAAAAAAAAAAAAAv3aB7AAAAD3RSTlMAEHarMolUmd1mIs3v\n",
       "RLtmgJDEAAAACXBIWXMAAA7EAAAOxAGVKw4bAAAA3UlEQVQY02NgwATZ50+/6DvJgA3omTBwM2zA\n",
       "KlXOwKDJmoBVyoqB8YEcqhDTi45uEC3AwO5ggiLDu0kAxnRmKQBRQsoioWCDV8NlGB7ygdkFTEbs\n",
       "DSDGLrgMW8AkEMW5gPMj8wQQC+FcqNNZGNghYiwnOjo6+sBMNdYLDIwgBo8CmM/4AKaJ8cE6Bgbm\n",
       "BUDW/QWMYEsbYFLMDlYMDPIMDHIXbBhYwSJKMCl3XqDTLRgY8h1rGK5BLIeFzUNuAYZ1eQwM4kps\n",
       "lRAxRruLEK+f2/PuzZ+nqMERBwkoKAAA5a8vMuYfrScAAAAASUVORK5CYII=\n",
       "\" style=\"display:inline;vertical-align:middle;\" /></a>, <a class=\"ProveItLink\" href=\"../../real_numbers/__pv_it/theorems/d2d428f1124ef55277523143f9436098e99f174d0/expr.ipynb\"><img src=\"data:image/png;base64,iVBORw0KGgoAAAANSUhEUgAAADEAAAAUCAMAAAATIyWrAAAAPFBMVEX///8AAAAAAAAAAAAAAAAA\n",
       "AAAAAAAAAAAAAAAAAAAAAAAAAAAAAAAAAAAAAAAAAAAAAAAAAAAAAAAAAAAo1xBWAAAAE3RSTlMA\n",
       "EHarMolUmd1mIs3vRLvn9enz6YVhIgAAAAlwSFlzAAAOxAAADsQBlSsOGwAAANxJREFUKM+VktsS\n",
       "wiAMRJNwCdiCF/7/X03AKm0Vhzy0k4HlZBcARsUIc2Vz3zlHfPmjyLZrFg+AYSyxpmtiqJw8RvQH\n",
       "5ir3ZeQs9QgoXLFFZgMkMmid8wfF0iNwU0SNEIAMAYct0lDretPvxrkU1xQkluSoKOOZOEB8FPLT\n",
       "BHk5u+Bdi02RlKG10kmxHJJvPnxpblORZcTex/3R3LzzyvUmdHzMCcyql7NHHHOPK7zG98UiS5d2\n",
       "4Xo+jRn0laziGplINkQ/RuhGR8b+um7vJl/5N8S44jQizCLAjhafZdYF4iwDbD4AAAAASUVORK5C\n",
       "YII=\n",
       "\" style=\"display:inline;vertical-align:middle;\" /></a> <a class=\"ProveItLink\" href=\"../__pv_it/demonstrations/c9af7dbe5f9df04e1bfafc108667f1932ba2e4a80/proof.ipynb\" style=\"text-decoration: none\">&nbsp;&#x22A2;&nbsp;&nbsp;</a><a class=\"ProveItLink\" href=\"../__pv_it/theorems/d4ff151c606fc682fa695e07d71754c7013cf0770/expr.ipynb\"><img src=\"data:image/png;base64,iVBORw0KGgoAAAANSUhEUgAAAEgAAAAVCAMAAADSI1hcAAAAOVBMVEX///8AAAAAAAAAAAAAAAAA\n",
       "AAAAAAAAAAAAAAAAAAAAAAAAAAAAAAAAAAAAAAAAAAAAAAAAAAAAAAACXHtMAAAAEnRSTlMAEHar\n",
       "MolUmd1mIs3vRLvt5cmVldCcAAAACXBIWXMAAA7EAAAOxAGVKw4bAAABPElEQVQ4y61Ui46EIAws\n",
       "lPejd8f/f+wVZBUj3LrxGiURO0OmnQLwJAT8T+jcVi31M56AdfUSINMjIgx1TYqXEh7w5CYolFqo\n",
       "ZG6CTEwlRXKOkgewVOOLXw+qETl/k0gSVgWxPX1rw25ESd4ksrZj9UuD6PXdpBXzSV0Zu8GrtO8f\n",
       "atLeFVtyPZyLJ+dZBU1gU4R7Zm0/rhoS5dW0jFX29UHHfzakbV9CShRK60NmiDPvM3aHm1lx+RSJ\n",
       "Eqzbd+JMsdHNxD1jkuAZ5bn0eFhhlnZqvcmThFo+e4Kq5HoMIyRNn9E/J/7sJzEZQd4LNEzYoknV\n",
       "BuI4yk2MpDqDKKu7iTJgql0cZFx6wn3PW+vRrcaxKGGZKI8mj+ba+maJQGZ19QjL5xvrT1CBlMei\n",
       "5kQx8UTwFUD608uGxhF5H7/zaQj28Gwj6gAAAABJRU5ErkJggg==\n",
       "\" style=\"display:inline;vertical-align:middle;\" /></a></span>"
      ],
      "text/plain": [
       "{x in Integer, x != 0} |- x in IntegerNonZero"
      ]
     },
     "metadata": {},
     "output_type": "display_data"
    }
   ],
   "source": [
    "InSet(x, IntegerNonZero).prove(assumptions=[InSet(x, Integer), NotEquals(x, zero)])"
   ]
  },
  {
   "cell_type": "code",
   "execution_count": 53,
   "metadata": {},
   "outputs": [
    {
     "data": {
      "text/html": [
       "<span style=\"font-size:20px;\"><a class=\"ProveItLink\" href=\"../__pv_it/theorems/9dfd51fc82a5dda1e85f06fc33528e3db8c0b6dc0/expr.ipynb\"><img src=\"data:image/png;base64,iVBORw0KGgoAAAANSUhEUgAAADMAAAAQBAMAAABJt1qBAAAAMFBMVEX///8AAAAAAAAAAAAAAAAA\n",
       "AAAAAAAAAAAAAAAAAAAAAAAAAAAAAAAAAAAAAAAAAAAv3aB7AAAAD3RSTlMAEHarMolUmd1mIs3v\n",
       "RLtmgJDEAAAACXBIWXMAAA7EAAAOxAGVKw4bAAAA3UlEQVQY02NgwATZ50+/6DvJgA3omTBwM2zA\n",
       "KlXOwKDJmoBVyoqB8YEcqhDTi45uEC3AwO5ggiLDu0kAxnRmKQBRQsoioWCDV8NlGB7ygdkFTEbs\n",
       "DSDGLrgMW8AkEMW5gPMj8wQQC+FcqNNZGNghYiwnOjo6+sBMNdYLDIwgBo8CmM/4AKaJ8cE6Bgbm\n",
       "BUDW/QWMYEsbYFLMDlYMDPIMDHIXbBhYwSJKMCl3XqDTLRgY8h1rGK5BLIeFzUNuAYZ1eQwM4kps\n",
       "lRAxRruLEK+f2/PuzZ+nqMERBwkoKAAA5a8vMuYfrScAAAAASUVORK5CYII=\n",
       "\" style=\"display:inline;vertical-align:middle;\" /></a>, <a class=\"ProveItLink\" href=\"../../real_numbers/__pv_it/theorems/068e2f545e08d21821de8eb3c3a29ef348d1823a0/expr.ipynb\"><img src=\"data:image/png;base64,iVBORw0KGgoAAAANSUhEUgAAADEAAAAQBAMAAABNQoq8AAAAMFBMVEX///8AAAAAAAAAAAAAAAAA\n",
       "AAAAAAAAAAAAAAAAAAAAAAAAAAAAAAAAAAAAAAAAAAAv3aB7AAAAD3RSTlMAEHarMolUmd1mIs3v\n",
       "RLtmgJDEAAAACXBIWXMAAA7EAAAOxAGVKw4bAAAAwUlEQVQY02NgwAZC1RdgFWfgTmDswi4zg4Eh\n",
       "Dl2MbReIfMzAkC+AKsHZDhb4zsDgn8DAIKQsEpoAkWBqBUswgmQmMDAUMBmxN4AlRJsgCri+AmUU\n",
       "GDgXcH5kngASWN7JgCQTwMDCwL4BzGfeBrONEShzXwHI4FFAkwG5IB9k9f0FjAIopjG8Y2CYL8Ag\n",
       "d8GGgZUBxQUMcxgYqoHaHGsYrkFFhJog/uNIYDzCwCCuxFaZAPcp1EOlyg7oocO5i4EwAADRHieE\n",
       "tyiB0wAAAABJRU5ErkJggg==\n",
       "\" style=\"display:inline;vertical-align:middle;\" /></a> <a class=\"ProveItLink\" href=\"../__pv_it/demonstrations/e47b3b0b8d9870eb1dec8dcc45bae99ea463fd990/proof.ipynb\" style=\"text-decoration: none\">&nbsp;&#x22A2;&nbsp;&nbsp;</a><a class=\"ProveItLink\" href=\"../__pv_it/demonstrations/72d5b8e725d24a9137d7086f16df0a6b6bf0a0d50/expr.ipynb\"><img src=\"data:image/png;base64,iVBORw0KGgoAAAANSUhEUgAAAD8AAAAQBAMAAABTi7oPAAAAMFBMVEX///8AAAAAAAAAAAAAAAAA\n",
       "AAAAAAAAAAAAAAAAAAAAAAAAAAAAAAAAAAAAAAAAAAAv3aB7AAAAD3RSTlMAEHarMolUmd1mIs3v\n",
       "RLtmgJDEAAAACXBIWXMAAA7EAAAOxAGVKw4bAAAA5ElEQVQoz2NgwATZ50+/6DvJgBvomTBwM2zA\n",
       "o6CcgUGTNYHB7x0QLMCmwIqB8YEcNgmmFx3dIFqAgd3BBIs87yYBGNOZpQAhLqQsEpoAYqyGyzM8\n",
       "5EOwGQqYjNgbQIxdcCG2gEkIec4FnB+ZJ4BYCI+heJKFgR3CYznR0dHRB2aqsV5gYEQo4VEAU4wP\n",
       "YAKMD9YxMDAjQuD+AkawkxpgAswOVgwM8jCe3AUbBlYwSwkm5M4L9KQFjJfvWMNwDeK0BJgnuQUY\n",
       "1uXBFIgrsVVCZBjtLkIC7Nyed2/+PMUWlHGQoEYBAOqvM9g9AFOOAAAAAElFTkSuQmCC\n",
       "\" style=\"display:inline;vertical-align:middle;\" /></a></span>"
      ],
      "text/plain": [
       "{x in Integer, x < 0} |- x in IntegerNeg"
      ]
     },
     "metadata": {},
     "output_type": "display_data"
    }
   ],
   "source": [
    "InSet(x, IntegerNeg).prove(assumptions=[InSet(x, Integer), Less(x, zero)])"
   ]
  },
  {
   "cell_type": "code",
   "execution_count": 54,
   "metadata": {},
   "outputs": [
    {
     "data": {
      "text/html": [
       "<span style=\"font-size:20px;\"><a class=\"ProveItLink\" href=\"../__pv_it/theorems/9dfd51fc82a5dda1e85f06fc33528e3db8c0b6dc0/expr.ipynb\"><img src=\"data:image/png;base64,iVBORw0KGgoAAAANSUhEUgAAADMAAAAQBAMAAABJt1qBAAAAMFBMVEX///8AAAAAAAAAAAAAAAAA\n",
       "AAAAAAAAAAAAAAAAAAAAAAAAAAAAAAAAAAAAAAAAAAAv3aB7AAAAD3RSTlMAEHarMolUmd1mIs3v\n",
       "RLtmgJDEAAAACXBIWXMAAA7EAAAOxAGVKw4bAAAA3UlEQVQY02NgwATZ50+/6DvJgA3omTBwM2zA\n",
       "KlXOwKDJmoBVyoqB8YEcqhDTi45uEC3AwO5ggiLDu0kAxnRmKQBRQsoioWCDV8NlGB7ygdkFTEbs\n",
       "DSDGLrgMW8AkEMW5gPMj8wQQC+FcqNNZGNghYiwnOjo6+sBMNdYLDIwgBo8CmM/4AKaJ8cE6Bgbm\n",
       "BUDW/QWMYEsbYFLMDlYMDPIMDHIXbBhYwSJKMCl3XqDTLRgY8h1rGK5BLIeFzUNuAYZ1eQwM4kps\n",
       "lRAxRruLEK+f2/PuzZ+nqMERBwkoKAAA5a8vMuYfrScAAAAASUVORK5CYII=\n",
       "\" style=\"display:inline;vertical-align:middle;\" /></a>, <a class=\"ProveItLink\" href=\"../../real_numbers/__pv_it/theorems/c30a0bd668f16bebb68a7791021eba7f002ea2a10/expr.ipynb\"><img src=\"data:image/png;base64,iVBORw0KGgoAAAANSUhEUgAAADEAAAARBAMAAACGHlkZAAAAMFBMVEX///8AAAAAAAAAAAAAAAAA\n",
       "AAAAAAAAAAAAAAAAAAAAAAAAAAAAAAAAAAAAAAAAAAAv3aB7AAAAD3RSTlMAEHarMolUmd1mIs3v\n",
       "RLtmgJDEAAAACXBIWXMAAA7EAAAOxAGVKw4bAAAAv0lEQVQY02NgwAZC1RegC7HtApHcCYxdaBKc\n",
       "7QIgagYDQxyqBFMrWILhMQNDvgCyhGgTlPGdgcE/gYFBSFkkNAHEF++ESjCCZCYwMBQwGbE3APnC\n",
       "22B6ub4CZRQYOBdwfmQGKmBgRpUJYGBhYN8AEVgONw0oc18ByOBRwOKCfJDV9xcwCqC6+h0Dw3wB\n",
       "BrkLNgysaD6dw8BQDdTmWMNwDRE6W0AkRwLjEaAvlNgqE9ACibFU2YGBMiDRAQItcD4ALa0qND15\n",
       "Sx0AAAAASUVORK5CYII=\n",
       "\" style=\"display:inline;vertical-align:middle;\" /></a> <a class=\"ProveItLink\" href=\"../__pv_it/demonstrations/d73d8230e8c3240919adbed71e4c04257f20da250/proof.ipynb\" style=\"text-decoration: none\">&nbsp;&#x22A2;&nbsp;&nbsp;</a><a class=\"ProveItLink\" href=\"../__pv_it/demonstrations/f51fe37a5b1d9a1ca4dd2370134d2b4efe165f9d0/expr.ipynb\"><img src=\"data:image/png;base64,iVBORw0KGgoAAAANSUhEUgAAAEgAAAAUBAMAAADcj2b4AAAAMFBMVEX///8AAAAAAAAAAAAAAAAA\n",
       "AAAAAAAAAAAAAAAAAAAAAAAAAAAAAAAAAAAAAAAAAAAv3aB7AAAAD3RSTlMAEHarMolUmd1mIs3v\n",
       "RLtmgJDEAAAACXBIWXMAAA7EAAAOxAGVKw4bAAABOklEQVQoz2NgwAvyFjCEqjIQUKPAwKnA+wCv\n",
       "mnkTGBh4HBh+4VOjlwAk1gswHMMmmX3+9Iu+kww+IDUM/gIMnVhNMGHgZtjAwPZUAKLoEDZF5QwM\n",
       "mqxAY3hBqoDWfcOmyIqB8YEciMFivgDD4UwvOrpBtAADu4MJWITLWIBJgdcASQ3vJgEY05mlAMLg\n",
       "YmAIVQcKCymLhIL9sRquhuEhnwCqCwqYjNgbQIxdcCG2gEmoajgXcH5kngBibYCLcYPZfu+AYAFY\n",
       "gIWBHSLLcqKjo6MPzFRjvcDAiGoWjwKYYoTHI+ODdQwMzAtQFN1fwAh2ZgNMgNnBioFBHlmJ3AUb\n",
       "BlYwSwkm5M4LDAALZEX5jjUM1yDOTYAFALcAw7o8ZEXiSmyVEFlGu4uQQD23592bP09xpB/eOEi0\n",
       "YAAAV3VFVVxEO3cAAAAASUVORK5CYII=\n",
       "\" style=\"display:inline;vertical-align:middle;\" /></a></span>"
      ],
      "text/plain": [
       "{x in Integer, x <= 0} |- x in IntegerNonPos"
      ]
     },
     "metadata": {},
     "output_type": "display_data"
    }
   ],
   "source": [
    "InSet(x, IntegerNonPos).prove(assumptions=[InSet(x, Integer), LessEq(x, zero)])"
   ]
  },
  {
   "cell_type": "code",
   "execution_count": 55,
   "metadata": {},
   "outputs": [
    {
     "data": {
      "text/html": [
       "<span style=\"font-size:20px;\"><a class=\"ProveItLink\" href=\"../../natural_numbers/__pv_it/theorems/eeefdffd3aa81290285f57914cfcea6647727dd80/expr.ipynb\"><img src=\"data:image/png;base64,iVBORw0KGgoAAAANSUhEUgAAAEAAAAATBAMAAADSXRa0AAAAMFBMVEX///8AAAAAAAAAAAAAAAAA\n",
       "AAAAAAAAAAAAAAAAAAAAAAAAAAAAAAAAAAAAAAAAAAAv3aB7AAAAD3RSTlMAEHarMolUmd1mIs3v\n",
       "RLtmgJDEAAAACXBIWXMAAA7EAAAOxAGVKw4bAAAA7klEQVQoz2NgwAcKGAiAB+QpYOx/t5GB9fxZ\n",
       "3CbwJVxmYJDHYwVzF+sEBh4G9nfvzr17iVVBHsMuBg4sJuh1dGwAK1ipsBqbgtuKMBMWmDAFIBQI\n",
       "KYuEJgBpro1wKxbwMbxFKChgMmJvANLcCxAKWAokJGAhybmA8yPzBJAChCMXMExjewPjsTCwg13G\n",
       "4NMBBA+gCpgFbBCO41EAU3LIJjAaSCAU3F/AKACkOJAVMDjxwXhyF2wYWEEMJgV4UDsAeX4wXr5j\n",
       "DcM1MGsbTIgb5OtqGE9cia0yAcwSfisAcfb+c0BSGkscXH0BCWoUAACz1jmMfap6cwAAAABJRU5E\n",
       "rkJggg==\n",
       "\" style=\"display:inline;vertical-align:middle;\" /></a> <a class=\"ProveItLink\" href=\"../__pv_it/demonstrations/66f26ca200d35b4816dee37a887b8ab013ee08a80/proof.ipynb\" style=\"text-decoration: none\">&nbsp;&#x22A2;&nbsp;&nbsp;</a><a class=\"ProveItLink\" href=\"../__pv_it/theorems/d4ff151c606fc682fa695e07d71754c7013cf0770/expr.ipynb\"><img src=\"data:image/png;base64,iVBORw0KGgoAAAANSUhEUgAAAEgAAAAVCAMAAADSI1hcAAAAOVBMVEX///8AAAAAAAAAAAAAAAAA\n",
       "AAAAAAAAAAAAAAAAAAAAAAAAAAAAAAAAAAAAAAAAAAAAAAAAAAAAAAACXHtMAAAAEnRSTlMAEHar\n",
       "MolUmd1mIs3vRLvt5cmVldCcAAAACXBIWXMAAA7EAAAOxAGVKw4bAAABPElEQVQ4y61Ui46EIAws\n",
       "lPejd8f/f+wVZBUj3LrxGiURO0OmnQLwJAT8T+jcVi31M56AdfUSINMjIgx1TYqXEh7w5CYolFqo\n",
       "ZG6CTEwlRXKOkgewVOOLXw+qETl/k0gSVgWxPX1rw25ESd4ksrZj9UuD6PXdpBXzSV0Zu8GrtO8f\n",
       "atLeFVtyPZyLJ+dZBU1gU4R7Zm0/rhoS5dW0jFX29UHHfzakbV9CShRK60NmiDPvM3aHm1lx+RSJ\n",
       "Eqzbd+JMsdHNxD1jkuAZ5bn0eFhhlnZqvcmThFo+e4Kq5HoMIyRNn9E/J/7sJzEZQd4LNEzYoknV\n",
       "BuI4yk2MpDqDKKu7iTJgql0cZFx6wn3PW+vRrcaxKGGZKI8mj+ba+maJQGZ19QjL5xvrT1CBlMei\n",
       "5kQx8UTwFUD608uGxhF5H7/zaQj28Gwj6gAAAABJRU5ErkJggg==\n",
       "\" style=\"display:inline;vertical-align:middle;\" /></a></span>"
      ],
      "text/plain": [
       "{x in NaturalPos} |- x in IntegerNonZero"
      ]
     },
     "metadata": {},
     "output_type": "display_data"
    }
   ],
   "source": [
    "InSet(x, IntegerNonZero).prove(assumptions=[InSet(x, NaturalPos)])"
   ]
  },
  {
   "cell_type": "code",
   "execution_count": 56,
   "metadata": {},
   "outputs": [
    {
     "data": {
      "text/html": [
       "<span style=\"font-size:20px;\"><a class=\"ProveItLink\" href=\"../__pv_it/theorems/d4ff151c606fc682fa695e07d71754c7013cf0770/expr.ipynb\"><img src=\"data:image/png;base64,iVBORw0KGgoAAAANSUhEUgAAAEgAAAAVCAMAAADSI1hcAAAAOVBMVEX///8AAAAAAAAAAAAAAAAA\n",
       "AAAAAAAAAAAAAAAAAAAAAAAAAAAAAAAAAAAAAAAAAAAAAAAAAAAAAAACXHtMAAAAEnRSTlMAEHar\n",
       "MolUmd1mIs3vRLvt5cmVldCcAAAACXBIWXMAAA7EAAAOxAGVKw4bAAABPElEQVQ4y61Ui46EIAws\n",
       "lPejd8f/f+wVZBUj3LrxGiURO0OmnQLwJAT8T+jcVi31M56AdfUSINMjIgx1TYqXEh7w5CYolFqo\n",
       "ZG6CTEwlRXKOkgewVOOLXw+qETl/k0gSVgWxPX1rw25ESd4ksrZj9UuD6PXdpBXzSV0Zu8GrtO8f\n",
       "atLeFVtyPZyLJ+dZBU1gU4R7Zm0/rhoS5dW0jFX29UHHfzakbV9CShRK60NmiDPvM3aHm1lx+RSJ\n",
       "Eqzbd+JMsdHNxD1jkuAZ5bn0eFhhlnZqvcmThFo+e4Kq5HoMIyRNn9E/J/7sJzEZQd4LNEzYoknV\n",
       "BuI4yk2MpDqDKKu7iTJgql0cZFx6wn3PW+vRrcaxKGGZKI8mj+ba+maJQGZ19QjL5xvrT1CBlMei\n",
       "5kQx8UTwFUD608uGxhF5H7/zaQj28Gwj6gAAAABJRU5ErkJggg==\n",
       "\" style=\"display:inline;vertical-align:middle;\" /></a> <a class=\"ProveItLink\" href=\"../__pv_it/demonstrations/ec319b1809e0090a54357712a4d7313be136cba80/proof.ipynb\" style=\"text-decoration: none\">&nbsp;&#x22A2;&nbsp;&nbsp;</a><a class=\"ProveItLink\" href=\"../__pv_it/theorems/9dfd51fc82a5dda1e85f06fc33528e3db8c0b6dc0/expr.ipynb\"><img src=\"data:image/png;base64,iVBORw0KGgoAAAANSUhEUgAAADMAAAAQBAMAAABJt1qBAAAAMFBMVEX///8AAAAAAAAAAAAAAAAA\n",
       "AAAAAAAAAAAAAAAAAAAAAAAAAAAAAAAAAAAAAAAAAAAv3aB7AAAAD3RSTlMAEHarMolUmd1mIs3v\n",
       "RLtmgJDEAAAACXBIWXMAAA7EAAAOxAGVKw4bAAAA3UlEQVQY02NgwATZ50+/6DvJgA3omTBwM2zA\n",
       "KlXOwKDJmoBVyoqB8YEcqhDTi45uEC3AwO5ggiLDu0kAxnRmKQBRQsoioWCDV8NlGB7ygdkFTEbs\n",
       "DSDGLrgMW8AkEMW5gPMj8wQQC+FcqNNZGNghYiwnOjo6+sBMNdYLDIwgBo8CmM/4AKaJ8cE6Bgbm\n",
       "BUDW/QWMYEsbYFLMDlYMDPIMDHIXbBhYwSJKMCl3XqDTLRgY8h1rGK5BLIeFzUNuAYZ1eQwM4kps\n",
       "lRAxRruLEK+f2/PuzZ+nqMERBwkoKAAA5a8vMuYfrScAAAAASUVORK5CYII=\n",
       "\" style=\"display:inline;vertical-align:middle;\" /></a></span>"
      ],
      "text/plain": [
       "{x in IntegerNonZero} |- x in Integer"
      ]
     },
     "metadata": {},
     "output_type": "display_data"
    }
   ],
   "source": [
    "InSet(x, Integer).prove(assumptions=[InSet(x, IntegerNonZero)])"
   ]
  },
  {
   "cell_type": "code",
   "execution_count": 57,
   "metadata": {},
   "outputs": [
    {
     "data": {
      "text/html": [
       "<span style=\"font-size:20px;\"><a class=\"ProveItLink\" href=\"../__pv_it/demonstrations/72d5b8e725d24a9137d7086f16df0a6b6bf0a0d50/expr.ipynb\"><img src=\"data:image/png;base64,iVBORw0KGgoAAAANSUhEUgAAAD8AAAAQBAMAAABTi7oPAAAAMFBMVEX///8AAAAAAAAAAAAAAAAA\n",
       "AAAAAAAAAAAAAAAAAAAAAAAAAAAAAAAAAAAAAAAAAAAv3aB7AAAAD3RSTlMAEHarMolUmd1mIs3v\n",
       "RLtmgJDEAAAACXBIWXMAAA7EAAAOxAGVKw4bAAAA5ElEQVQoz2NgwATZ50+/6DvJgBvomTBwM2zA\n",
       "o6CcgUGTNYHB7x0QLMCmwIqB8YEcNgmmFx3dIFqAgd3BBIs87yYBGNOZpQAhLqQsEpoAYqyGyzM8\n",
       "5EOwGQqYjNgbQIxdcCG2gEkIec4FnB+ZJ4BYCI+heJKFgR3CYznR0dHRB2aqsV5gYEQo4VEAU4wP\n",
       "YAKMD9YxMDAjQuD+AkawkxpgAswOVgwM8jCe3AUbBlYwSwkm5M4L9KQFjJfvWMNwDeK0BJgnuQUY\n",
       "1uXBFIgrsVVCZBjtLkIC7Nyed2/+PMUWlHGQoEYBAOqvM9g9AFOOAAAAAElFTkSuQmCC\n",
       "\" style=\"display:inline;vertical-align:middle;\" /></a> <a class=\"ProveItLink\" href=\"../__pv_it/demonstrations/49d60da89b0b9ca2a115c486843ca62a6d4f6b9b0/proof.ipynb\" style=\"text-decoration: none\">&nbsp;&#x22A2;&nbsp;&nbsp;</a><a class=\"ProveItLink\" href=\"../__pv_it/theorems/9dfd51fc82a5dda1e85f06fc33528e3db8c0b6dc0/expr.ipynb\"><img src=\"data:image/png;base64,iVBORw0KGgoAAAANSUhEUgAAADMAAAAQBAMAAABJt1qBAAAAMFBMVEX///8AAAAAAAAAAAAAAAAA\n",
       "AAAAAAAAAAAAAAAAAAAAAAAAAAAAAAAAAAAAAAAAAAAv3aB7AAAAD3RSTlMAEHarMolUmd1mIs3v\n",
       "RLtmgJDEAAAACXBIWXMAAA7EAAAOxAGVKw4bAAAA3UlEQVQY02NgwATZ50+/6DvJgA3omTBwM2zA\n",
       "KlXOwKDJmoBVyoqB8YEcqhDTi45uEC3AwO5ggiLDu0kAxnRmKQBRQsoioWCDV8NlGB7ygdkFTEbs\n",
       "DSDGLrgMW8AkEMW5gPMj8wQQC+FcqNNZGNghYiwnOjo6+sBMNdYLDIwgBo8CmM/4AKaJ8cE6Bgbm\n",
       "BUDW/QWMYEsbYFLMDlYMDPIMDHIXbBhYwSJKMCl3XqDTLRgY8h1rGK5BLIeFzUNuAYZ1eQwM4kps\n",
       "lRAxRruLEK+f2/PuzZ+nqMERBwkoKAAA5a8vMuYfrScAAAAASUVORK5CYII=\n",
       "\" style=\"display:inline;vertical-align:middle;\" /></a></span>"
      ],
      "text/plain": [
       "{x in IntegerNeg} |- x in Integer"
      ]
     },
     "metadata": {},
     "output_type": "display_data"
    }
   ],
   "source": [
    "InSet(x, Integer).prove(assumptions=[InSet(x, IntegerNeg)])"
   ]
  },
  {
   "cell_type": "code",
   "execution_count": 58,
   "metadata": {},
   "outputs": [
    {
     "data": {
      "text/html": [
       "<span style=\"font-size:20px;\"><a class=\"ProveItLink\" href=\"../__pv_it/demonstrations/72d5b8e725d24a9137d7086f16df0a6b6bf0a0d50/expr.ipynb\"><img src=\"data:image/png;base64,iVBORw0KGgoAAAANSUhEUgAAAD8AAAAQBAMAAABTi7oPAAAAMFBMVEX///8AAAAAAAAAAAAAAAAA\n",
       "AAAAAAAAAAAAAAAAAAAAAAAAAAAAAAAAAAAAAAAAAAAv3aB7AAAAD3RSTlMAEHarMolUmd1mIs3v\n",
       "RLtmgJDEAAAACXBIWXMAAA7EAAAOxAGVKw4bAAAA5ElEQVQoz2NgwATZ50+/6DvJgBvomTBwM2zA\n",
       "o6CcgUGTNYHB7x0QLMCmwIqB8YEcNgmmFx3dIFqAgd3BBIs87yYBGNOZpQAhLqQsEpoAYqyGyzM8\n",
       "5EOwGQqYjNgbQIxdcCG2gEkIec4FnB+ZJ4BYCI+heJKFgR3CYznR0dHRB2aqsV5gYEQo4VEAU4wP\n",
       "YAKMD9YxMDAjQuD+AkawkxpgAswOVgwM8jCe3AUbBlYwSwkm5M4L9KQFjJfvWMNwDeK0BJgnuQUY\n",
       "1uXBFIgrsVVCZBjtLkIC7Nyed2/+PMUWlHGQoEYBAOqvM9g9AFOOAAAAAElFTkSuQmCC\n",
       "\" style=\"display:inline;vertical-align:middle;\" /></a> <a class=\"ProveItLink\" href=\"../__pv_it/demonstrations/8056624a48734a5265face97a667cd0ed8b7573f0/proof.ipynb\" style=\"text-decoration: none\">&nbsp;&#x22A2;&nbsp;&nbsp;</a><a class=\"ProveItLink\" href=\"../__pv_it/theorems/d4ff151c606fc682fa695e07d71754c7013cf0770/expr.ipynb\"><img src=\"data:image/png;base64,iVBORw0KGgoAAAANSUhEUgAAAEgAAAAVCAMAAADSI1hcAAAAOVBMVEX///8AAAAAAAAAAAAAAAAA\n",
       "AAAAAAAAAAAAAAAAAAAAAAAAAAAAAAAAAAAAAAAAAAAAAAAAAAAAAAACXHtMAAAAEnRSTlMAEHar\n",
       "MolUmd1mIs3vRLvt5cmVldCcAAAACXBIWXMAAA7EAAAOxAGVKw4bAAABPElEQVQ4y61Ui46EIAws\n",
       "lPejd8f/f+wVZBUj3LrxGiURO0OmnQLwJAT8T+jcVi31M56AdfUSINMjIgx1TYqXEh7w5CYolFqo\n",
       "ZG6CTEwlRXKOkgewVOOLXw+qETl/k0gSVgWxPX1rw25ESd4ksrZj9UuD6PXdpBXzSV0Zu8GrtO8f\n",
       "atLeFVtyPZyLJ+dZBU1gU4R7Zm0/rhoS5dW0jFX29UHHfzakbV9CShRK60NmiDPvM3aHm1lx+RSJ\n",
       "Eqzbd+JMsdHNxD1jkuAZ5bn0eFhhlnZqvcmThFo+e4Kq5HoMIyRNn9E/J/7sJzEZQd4LNEzYoknV\n",
       "BuI4yk2MpDqDKKu7iTJgql0cZFx6wn3PW+vRrcaxKGGZKI8mj+ba+maJQGZ19QjL5xvrT1CBlMei\n",
       "5kQx8UTwFUD608uGxhF5H7/zaQj28Gwj6gAAAABJRU5ErkJggg==\n",
       "\" style=\"display:inline;vertical-align:middle;\" /></a></span>"
      ],
      "text/plain": [
       "{x in IntegerNeg} |- x in IntegerNonZero"
      ]
     },
     "metadata": {},
     "output_type": "display_data"
    }
   ],
   "source": [
    "InSet(x, IntegerNonZero).prove(assumptions=[InSet(x, IntegerNeg)])"
   ]
  },
  {
   "cell_type": "code",
   "execution_count": 59,
   "metadata": {},
   "outputs": [
    {
     "data": {
      "text/html": [
       "<span style=\"font-size:20px;\"><a class=\"ProveItLink\" href=\"../__pv_it/demonstrations/72d5b8e725d24a9137d7086f16df0a6b6bf0a0d50/expr.ipynb\"><img src=\"data:image/png;base64,iVBORw0KGgoAAAANSUhEUgAAAD8AAAAQBAMAAABTi7oPAAAAMFBMVEX///8AAAAAAAAAAAAAAAAA\n",
       "AAAAAAAAAAAAAAAAAAAAAAAAAAAAAAAAAAAAAAAAAAAv3aB7AAAAD3RSTlMAEHarMolUmd1mIs3v\n",
       "RLtmgJDEAAAACXBIWXMAAA7EAAAOxAGVKw4bAAAA5ElEQVQoz2NgwATZ50+/6DvJgBvomTBwM2zA\n",
       "o6CcgUGTNYHB7x0QLMCmwIqB8YEcNgmmFx3dIFqAgd3BBIs87yYBGNOZpQAhLqQsEpoAYqyGyzM8\n",
       "5EOwGQqYjNgbQIxdcCG2gEkIec4FnB+ZJ4BYCI+heJKFgR3CYznR0dHRB2aqsV5gYEQo4VEAU4wP\n",
       "YAKMD9YxMDAjQuD+AkawkxpgAswOVgwM8jCe3AUbBlYwSwkm5M4L9KQFjJfvWMNwDeK0BJgnuQUY\n",
       "1uXBFIgrsVVCZBjtLkIC7Nyed2/+PMUWlHGQoEYBAOqvM9g9AFOOAAAAAElFTkSuQmCC\n",
       "\" style=\"display:inline;vertical-align:middle;\" /></a> <a class=\"ProveItLink\" href=\"../__pv_it/demonstrations/366d1ff26342467ed3fc8889fb5d786eab5ab4ca0/proof.ipynb\" style=\"text-decoration: none\">&nbsp;&#x22A2;&nbsp;&nbsp;</a><a class=\"ProveItLink\" href=\"../__pv_it/demonstrations/f51fe37a5b1d9a1ca4dd2370134d2b4efe165f9d0/expr.ipynb\"><img src=\"data:image/png;base64,iVBORw0KGgoAAAANSUhEUgAAAEgAAAAUBAMAAADcj2b4AAAAMFBMVEX///8AAAAAAAAAAAAAAAAA\n",
       "AAAAAAAAAAAAAAAAAAAAAAAAAAAAAAAAAAAAAAAAAAAv3aB7AAAAD3RSTlMAEHarMolUmd1mIs3v\n",
       "RLtmgJDEAAAACXBIWXMAAA7EAAAOxAGVKw4bAAABOklEQVQoz2NgwAvyFjCEqjIQUKPAwKnA+wCv\n",
       "mnkTGBh4HBh+4VOjlwAk1gswHMMmmX3+9Iu+kww+IDUM/gIMnVhNMGHgZtjAwPZUAKLoEDZF5QwM\n",
       "mqxAY3hBqoDWfcOmyIqB8YEciMFivgDD4UwvOrpBtAADu4MJWITLWIBJgdcASQ3vJgEY05mlAMLg\n",
       "YmAIVQcKCymLhIL9sRquhuEhnwCqCwqYjNgbQIxdcCG2gEmoajgXcH5kngBibYCLcYPZfu+AYAFY\n",
       "gIWBHSLLcqKjo6MPzFRjvcDAiGoWjwKYYoTHI+ODdQwMzAtQFN1fwAh2ZgNMgNnBioFBHlmJ3AUb\n",
       "BlYwSwkm5M4LDAALZEX5jjUM1yDOTYAFALcAw7o8ZEXiSmyVEFlGu4uQQD23592bP09xpB/eOEi0\n",
       "YAAAV3VFVVxEO3cAAAAASUVORK5CYII=\n",
       "\" style=\"display:inline;vertical-align:middle;\" /></a></span>"
      ],
      "text/plain": [
       "{x in IntegerNeg} |- x in IntegerNonPos"
      ]
     },
     "metadata": {},
     "output_type": "display_data"
    }
   ],
   "source": [
    "InSet(x, IntegerNonPos).prove(assumptions=[InSet(x, IntegerNeg)])"
   ]
  },
  {
   "cell_type": "code",
   "execution_count": 60,
   "metadata": {},
   "outputs": [
    {
     "data": {
      "text/html": [
       "<span style=\"font-size:20px;\"><a class=\"ProveItLink\" href=\"../__pv_it/demonstrations/f51fe37a5b1d9a1ca4dd2370134d2b4efe165f9d0/expr.ipynb\"><img src=\"data:image/png;base64,iVBORw0KGgoAAAANSUhEUgAAAEgAAAAUBAMAAADcj2b4AAAAMFBMVEX///8AAAAAAAAAAAAAAAAA\n",
       "AAAAAAAAAAAAAAAAAAAAAAAAAAAAAAAAAAAAAAAAAAAv3aB7AAAAD3RSTlMAEHarMolUmd1mIs3v\n",
       "RLtmgJDEAAAACXBIWXMAAA7EAAAOxAGVKw4bAAABOklEQVQoz2NgwAvyFjCEqjIQUKPAwKnA+wCv\n",
       "mnkTGBh4HBh+4VOjlwAk1gswHMMmmX3+9Iu+kww+IDUM/gIMnVhNMGHgZtjAwPZUAKLoEDZF5QwM\n",
       "mqxAY3hBqoDWfcOmyIqB8YEciMFivgDD4UwvOrpBtAADu4MJWITLWIBJgdcASQ3vJgEY05mlAMLg\n",
       "YmAIVQcKCymLhIL9sRquhuEhnwCqCwqYjNgbQIxdcCG2gEmoajgXcH5kngBibYCLcYPZfu+AYAFY\n",
       "gIWBHSLLcqKjo6MPzFRjvcDAiGoWjwKYYoTHI+ODdQwMzAtQFN1fwAh2ZgNMgNnBioFBHlmJ3AUb\n",
       "BlYwSwkm5M4LDAALZEX5jjUM1yDOTYAFALcAw7o8ZEXiSmyVEFlGu4uQQD23592bP09xpB/eOEi0\n",
       "YAAAV3VFVVxEO3cAAAAASUVORK5CYII=\n",
       "\" style=\"display:inline;vertical-align:middle;\" /></a> <a class=\"ProveItLink\" href=\"../__pv_it/demonstrations/4a181a1fd3fba26abe861b8c35a422dc453abe050/proof.ipynb\" style=\"text-decoration: none\">&nbsp;&#x22A2;&nbsp;&nbsp;</a><a class=\"ProveItLink\" href=\"../__pv_it/theorems/9dfd51fc82a5dda1e85f06fc33528e3db8c0b6dc0/expr.ipynb\"><img src=\"data:image/png;base64,iVBORw0KGgoAAAANSUhEUgAAADMAAAAQBAMAAABJt1qBAAAAMFBMVEX///8AAAAAAAAAAAAAAAAA\n",
       "AAAAAAAAAAAAAAAAAAAAAAAAAAAAAAAAAAAAAAAAAAAv3aB7AAAAD3RSTlMAEHarMolUmd1mIs3v\n",
       "RLtmgJDEAAAACXBIWXMAAA7EAAAOxAGVKw4bAAAA3UlEQVQY02NgwATZ50+/6DvJgA3omTBwM2zA\n",
       "KlXOwKDJmoBVyoqB8YEcqhDTi45uEC3AwO5ggiLDu0kAxnRmKQBRQsoioWCDV8NlGB7ygdkFTEbs\n",
       "DSDGLrgMW8AkEMW5gPMj8wQQC+FcqNNZGNghYiwnOjo6+sBMNdYLDIwgBo8CmM/4AKaJ8cE6Bgbm\n",
       "BUDW/QWMYEsbYFLMDlYMDPIMDHIXbBhYwSJKMCl3XqDTLRgY8h1rGK5BLIeFzUNuAYZ1eQwM4kps\n",
       "lRAxRruLEK+f2/PuzZ+nqMERBwkoKAAA5a8vMuYfrScAAAAASUVORK5CYII=\n",
       "\" style=\"display:inline;vertical-align:middle;\" /></a></span>"
      ],
      "text/plain": [
       "{x in IntegerNonPos} |- x in Integer"
      ]
     },
     "metadata": {},
     "output_type": "display_data"
    }
   ],
   "source": [
    "InSet(x, Integer).prove(assumptions=[InSet(x, IntegerNonPos)])"
   ]
  },
  {
   "cell_type": "code",
   "execution_count": 61,
   "metadata": {},
   "outputs": [],
   "source": [
    "%end demonstrations"
   ]
  },
  {
   "cell_type": "code",
   "execution_count": null,
   "metadata": {},
   "outputs": [],
   "source": []
  }
 ],
 "metadata": {
  "kernelspec": {
   "display_name": "Python 3",
   "language": "python",
   "name": "python3"
  }
 },
 "nbformat": 4,
 "nbformat_minor": 0
}