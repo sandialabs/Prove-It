{
 "cells": [
  {
   "cell_type": "markdown",
   "metadata": {},
   "source": [
    "Demonstrations for the theory of <a class=\"ProveItLink\" href=\"theory.ipynb\">proveit.numbers.number_sets.integers</a>\n",
    "========"
   ]
  },
  {
   "cell_type": "code",
   "execution_count": null,
   "metadata": {},
   "outputs": [],
   "source": [
    "import proveit\n",
    "from proveit import a, b, c, d, n, x, ProofFailure\n",
    "from proveit.logic import Boolean, NotEquals, InSet, NotInSet, Or\n",
    "from proveit.numbers import Neg, Less, LessEq, greater, greater_eq, number_ordering\n",
    "from proveit.numbers import (zero, one, two, three, four, five, six, seven,\n",
    "                             eight, nine, Integer, IntegerNonZero, IntegerNeg, IntegerNonPos,\n",
    "                             Interval, Natural, NaturalPos)\n",
    "%begin demonstrations"
   ]
  },
  {
   "cell_type": "markdown",
   "metadata": {},
   "source": [
    "# Natural Numbers $\\mathbb{N}$, Positive Natural Numbers $\\mathbb{N}^{+}$, & Integer Numbers $\\mathbb{Z}$\n",
    "\n",
    "### UNDER CONSTRUCTION"
   ]
  },
  {
   "cell_type": "markdown",
   "metadata": {},
   "source": [
    "<div style=\"line-height:1.4; font-size:14pt\">\n",
    "\n",
    "<a href='#introduction'>Introduction</a><br>\n",
    "<a href='#simple_expressions'>Simple Expressions involving the Natural numbers $\\mathbb{N}$ and the Integer numbers $\\mathbb{Z}$</a><br>\n",
    "<a href='#common_attributes'>Common Attributes of NumberSet classes</a><br>\n",
    "<a href='#axioms'>Axioms</a><br>\n",
    "<a href='#further_demonstrations'>Further Demonstrations</a><br>\n",
    "    <ol>\n",
    "        <li><a href='#demo01'>Demo 1</a></li>\n",
    "        <li><a href='#demo02'>Demo 2</a></li>\n",
    "        <li><a href='#demo03'>Demo 3</a></li>\n",
    "    </ol>\n",
    "\n",
    "</div>\n"
   ]
  },
  {
   "cell_type": "markdown",
   "metadata": {},
   "source": [
    "## Introduction <a id='introduction'></a>"
   ]
  },
  {
   "cell_type": "markdown",
   "metadata": {},
   "source": [
    "<font size=4>UNDER CONSTRUCTION. Something here about the importance of having and using specifically pre-defined number sets such as the Natural number set ($\\mathbb{N}$) and Integer number set ($\\mathbb{Z}$), the axiomatic definitions, and perhaps the distinctiveness from the Real numbers ($\\mathbb{R}$).</font>"
   ]
  },
  {
   "cell_type": "code",
   "execution_count": null,
   "metadata": {},
   "outputs": [],
   "source": [
    "InSet(n, Natural).deduce_in_bool()"
   ]
  },
  {
   "cell_type": "code",
   "execution_count": null,
   "metadata": {},
   "outputs": [],
   "source": [
    "InSet(a, NaturalPos).deduce_in_bool()"
   ]
  },
  {
   "cell_type": "code",
   "execution_count": null,
   "metadata": {},
   "outputs": [],
   "source": [
    "InSet(nine, NaturalPos).prove().proof()"
   ]
  },
  {
   "cell_type": "code",
   "execution_count": null,
   "metadata": {},
   "outputs": [],
   "source": [
    "InSet(b, Integer).deduce_in_bool()"
   ]
  },
  {
   "cell_type": "markdown",
   "metadata": {},
   "source": [
    "## Miscellaneous Testing\n",
    "The material below was developed to test various Integer and Integer Set-related methods. Some of this material could be integrated into the `_demonstrations_` page eventually and/or deleted as development continues."
   ]
  },
  {
   "cell_type": "markdown",
   "metadata": {},
   "source": [
    "Some Example Domains For Testing"
   ]
  },
  {
   "cell_type": "code",
   "execution_count": null,
   "metadata": {},
   "outputs": [],
   "source": [
    "two_to_nine_interval, a_b_interval, c_d_interval = (\n",
    "    Interval(two, nine), Interval(a, b), Interval(c, d))"
   ]
  },
  {
   "cell_type": "markdown",
   "metadata": {},
   "source": [
    "Some Example Membership Claims For Testing"
   ]
  },
  {
   "cell_type": "code",
   "execution_count": null,
   "metadata": {},
   "outputs": [],
   "source": [
    "three_in_2_9_interval, x_in_a_b_interval = (\n",
    "    InSet(three, two_to_nine_interval), InSet(x, a_b_interval))"
   ]
  },
  {
   "cell_type": "code",
   "execution_count": null,
   "metadata": {},
   "outputs": [],
   "source": [
    "# testing automation\n",
    "InSet(three, two_to_nine_interval).prove()"
   ]
  },
  {
   "cell_type": "code",
   "execution_count": null,
   "metadata": {},
   "outputs": [],
   "source": [
    "x_in_a_b_interval.prove(\n",
    "    assumptions=[InSet(a, Integer), InSet(b, Integer), InSet(x, Integer),\n",
    "                 number_ordering(LessEq(a, x), LessEq(x, b))])"
   ]
  },
  {
   "cell_type": "markdown",
   "metadata": {},
   "source": [
    "Define an Inset() expression involving an Interval class, then test some automation related to deductions about the element:"
   ]
  },
  {
   "cell_type": "code",
   "execution_count": null,
   "metadata": {},
   "outputs": [],
   "source": [
    "x_in_c_d_interval = InSet(x, c_d_interval)"
   ]
  },
  {
   "cell_type": "markdown",
   "metadata": {},
   "source": [
    "Check that an IntervalMembership assumption is making its way into the IntervalMembership.side_effects() method and sub-methods:"
   ]
  },
  {
   "cell_type": "code",
   "execution_count": null,
   "metadata": {},
   "outputs": [],
   "source": [
    "# checking to see if the IntervalMembership assumption is making its way\n",
    "# into the side_effects() method\n",
    "x_in_c_d_interval.prove(assumptions = [x_in_c_d_interval, InSet(c, Integer), InSet(d, Integer)])"
   ]
  },
  {
   "cell_type": "markdown",
   "metadata": {},
   "source": [
    "Check that an IntervalMembership assumption is producing the correct conclusions about Integer set membership and lower/upper bounds for the element:"
   ]
  },
  {
   "cell_type": "code",
   "execution_count": null,
   "metadata": {},
   "outputs": [],
   "source": [
    "# element should be an integer if Interval is properly defined:\n",
    "InSet(x, Integer).prove(\n",
    "    assumptions = [x_in_c_d_interval, InSet(c, Integer), InSet(d, Integer), LessEq(c, d)])"
   ]
  },
  {
   "cell_type": "code",
   "execution_count": null,
   "metadata": {},
   "outputs": [],
   "source": [
    "# element should be ≤ upper_bound of Interval\n",
    "LessEq(x, d).prove(\n",
    "    assumptions = [x_in_c_d_interval, InSet(c, Integer), InSet(d, Integer), LessEq(c, d)])"
   ]
  },
  {
   "cell_type": "code",
   "execution_count": null,
   "metadata": {},
   "outputs": [],
   "source": [
    "# element should be ≥ lower_bound of Interval\n",
    "LessEq(c, x).prove(\n",
    "    assumptions = [x_in_c_d_interval, InSet(c, Integer), InSet(d, Integer), LessEq(c, d)])"
   ]
  },
  {
   "cell_type": "code",
   "execution_count": null,
   "metadata": {},
   "outputs": [],
   "source": [
    "# the membership claim should itself be in Booleans (even without assumptions)\n",
    "InSet(x_in_c_d_interval, Boolean).prove(assumptions=[InSet(c, Integer), InSet(d, Integer), LessEq(c, d)])"
   ]
  },
  {
   "cell_type": "markdown",
   "metadata": {},
   "source": [
    "Also check that we can deduce an Interval element in positive naturals if the Interval lower_bound is known or assumed to be greater than 0:"
   ]
  },
  {
   "cell_type": "code",
   "execution_count": null,
   "metadata": {},
   "outputs": [],
   "source": [
    "InSet(x, NaturalPos).prove(\n",
    "    assumptions = [x_in_c_d_interval, InSet(c, Integer),\n",
    "                   InSet(d, Integer), greater(c, zero), LessEq(c, d)])"
   ]
  },
  {
   "cell_type": "markdown",
   "metadata": {},
   "source": [
    "Here is an interesting comparison case, comparing an attempted deduction when we assume that $x$ is in an Interval with explicit natural-number lower_- and upper_bounds, but where in one case the lower_bound ≤ the upper_bound as required and in the other case upper_bound ≤ lower_bound. The second, with “improper” bounds, is satisfied vacuously."
   ]
  },
  {
   "cell_type": "code",
   "execution_count": null,
   "metadata": {},
   "outputs": [],
   "source": [
    "InSet(x, Integer).prove(assumptions = [InSet(x, Interval(two, four))])"
   ]
  },
  {
   "cell_type": "code",
   "execution_count": null,
   "metadata": {},
   "outputs": [],
   "source": [
    "InSet(x, Integer).prove(assumptions = [InSet(x, Interval(four, two))])"
   ]
  },
  {
   "cell_type": "markdown",
   "metadata": {},
   "source": [
    "And here are other interesting test cases — where the Interval is created with “illegitimate” bounds (because the upper_bound < lower_bound), so we obtain vacuously true (and somewhat misleading-looking) conclusions: now it looks like we can simultaneously obtain $x \\ge 4$ and $x \\le 2$."
   ]
  },
  {
   "cell_type": "code",
   "execution_count": null,
   "metadata": {},
   "outputs": [],
   "source": [
    "LessEq(four, x).prove(assumptions = [InSet(x, Interval(four, two))])"
   ]
  },
  {
   "cell_type": "code",
   "execution_count": null,
   "metadata": {},
   "outputs": [],
   "source": [
    "LessEq(x, two).prove(assumptions = [InSet(x, Interval(four, two))])"
   ]
  },
  {
   "cell_type": "markdown",
   "metadata": {},
   "source": [
    "The following enters the interval_membership.side_effects() method as expected (although it will FAIL if we're still checking for lower_bound ≤ upper_bound in the side_effects() sub-methods)."
   ]
  },
  {
   "cell_type": "code",
   "execution_count": null,
   "metadata": {},
   "outputs": [],
   "source": [
    "InSet(x, NaturalPos).prove(assumptions = [InSet(x, Interval(one, two))])"
   ]
  },
  {
   "cell_type": "markdown",
   "metadata": {},
   "source": [
    "Unfortunately, the following is also (vacuously) true, since the integer interval Interval(2, 1) is not valid:"
   ]
  },
  {
   "cell_type": "code",
   "execution_count": null,
   "metadata": {},
   "outputs": [],
   "source": [
    "InSet(x, Integer).prove(assumptions = [InSet(x, Interval(two, one))])"
   ]
  },
  {
   "cell_type": "markdown",
   "metadata": {},
   "source": [
    "And to make things even more explicit, notice we can “appear” to prove that $8 \\le 3$, but this judgment is vacuously true:"
   ]
  },
  {
   "cell_type": "code",
   "execution_count": null,
   "metadata": {},
   "outputs": [],
   "source": [
    "LessEq(eight, three).prove(assumptions = [InSet(x, Interval(eight, three))])"
   ]
  },
  {
   "cell_type": "markdown",
   "metadata": {},
   "source": [
    "#### Testing `Interval.deduce_cardinality()` method"
   ]
  },
  {
   "cell_type": "code",
   "execution_count": null,
   "metadata": {},
   "outputs": [],
   "source": [
    "from proveit import t\n",
    "from proveit.numbers import Exp\n",
    "interval_3_to_8, interval_0_to_2_pow_t = (\n",
    "    Interval(three, eight), Interval(zero, Exp(two, t)))"
   ]
  },
  {
   "cell_type": "code",
   "execution_count": null,
   "metadata": {},
   "outputs": [],
   "source": [
    "interval_3_to_8.deduce_cardinality()"
   ]
  },
  {
   "cell_type": "code",
   "execution_count": null,
   "metadata": {},
   "outputs": [],
   "source": [
    "interval_0_to_2_pow_t.deduce_cardinality(\n",
    "    assumptions=[InSet(Exp(two, t), NaturalPos), greater_eq(Exp(two, t), zero)])"
   ]
  },
  {
   "cell_type": "markdown",
   "metadata": {},
   "source": [
    "#### Derive membership in restricted number sets.\n",
    "***First, via automation***"
   ]
  },
  {
   "cell_type": "code",
   "execution_count": null,
   "metadata": {},
   "outputs": [],
   "source": [
    "InSet(x, Integer).prove(assumptions=[InSet(x, Interval(two, four))])"
   ]
  },
  {
   "cell_type": "code",
   "execution_count": null,
   "metadata": {},
   "outputs": [],
   "source": [
    "InSet(x, Natural).prove(assumptions=[InSet(x, Interval(two, four))])"
   ]
  },
  {
   "cell_type": "code",
   "execution_count": null,
   "metadata": {},
   "outputs": [],
   "source": [
    "InSet(x, NaturalPos).prove(assumptions=[InSet(x, Interval(two, four))])"
   ]
  },
  {
   "cell_type": "code",
   "execution_count": null,
   "metadata": {},
   "outputs": [],
   "source": [
    "InSet(x, NaturalPos).prove(\n",
    "    assumptions = [x_in_c_d_interval, InSet(c, Integer),\n",
    "                   InSet(d, Integer), greater(c, zero), LessEq(c, d)])"
   ]
  },
  {
   "cell_type": "code",
   "execution_count": null,
   "metadata": {},
   "outputs": [],
   "source": [
    "Neg(three).deduce_in_number_set(IntegerNonPos, automation=False)"
   ]
  },
  {
   "cell_type": "code",
   "execution_count": null,
   "metadata": {},
   "outputs": [],
   "source": [
    "InSet(x, IntegerNonPos).prove(assumptions=[InSet(x, Interval(Neg(four), Neg(three)))])"
   ]
  },
  {
   "cell_type": "code",
   "execution_count": null,
   "metadata": {},
   "outputs": [],
   "source": [
    "InSet(x, IntegerNeg).prove(assumptions=[InSet(x, Interval(Neg(four), Neg(three)))])"
   ]
  },
  {
   "cell_type": "markdown",
   "metadata": {},
   "source": [
    "***Now done manually***"
   ]
  },
  {
   "cell_type": "code",
   "execution_count": null,
   "metadata": {},
   "outputs": [],
   "source": [
    "InSet(x, Interval(two, four)).derive_element_in_integer(\n",
    "    assumptions=[InSet(x, Interval(two, four))])"
   ]
  },
  {
   "cell_type": "code",
   "execution_count": null,
   "metadata": {},
   "outputs": [],
   "source": [
    "InSet(x, Interval(two, three)).derive_element_in_natural(\n",
    "    assumptions=[InSet(x, Interval(two, three))])"
   ]
  },
  {
   "cell_type": "code",
   "execution_count": null,
   "metadata": {},
   "outputs": [],
   "source": [
    "InSet(x, Interval(three, four)).derive_element_in_natural_pos(\n",
    "    assumptions=[InSet(x, Interval(three, four))])"
   ]
  },
  {
   "cell_type": "code",
   "execution_count": null,
   "metadata": {},
   "outputs": [],
   "source": [
    "InSet(x, Interval(a, b)).derive_element_in_integer_neg(\n",
    "    assumptions=[InSet(a, Integer), InSet(b, Integer), Less(b, zero), InSet(x, Interval(a, b))])"
   ]
  },
  {
   "cell_type": "code",
   "execution_count": null,
   "metadata": {},
   "outputs": [],
   "source": [
    "InSet(x, Interval(a, b)).derive_element_in_integer_nonpos(\n",
    "    assumptions=[InSet(a, Integer), InSet(b, Integer), Less(b, zero), InSet(x, Interval(a, b))])"
   ]
  },
  {
   "cell_type": "code",
   "execution_count": null,
   "metadata": {},
   "outputs": [],
   "source": []
  },
  {
   "cell_type": "code",
   "execution_count": null,
   "metadata": {},
   "outputs": [],
   "source": [
    "# A case I worry about:\n",
    "# (1) If the deduce_element_in_restricted_number_set() method does a check for the\n",
    "# lower_bound <= upper_bound, this fails as it should and we eventual enter\n",
    "# the NumberMembership.conclude() method as expected.\n",
    "# (2) BUT, if we first run the cell above, then this cell never seems to enter\n",
    "# the IntervalMembership.side_effects() method, going only to the\n",
    "# NumberMembership.conclude() method. Shouldn't it “evaluate” the assumptions?\n",
    "# (3) If the deduce_element_in_restricted_number_set() method does NOT check for the\n",
    "# lower_bound <= upper_bound, this goes through as it should using that side_effect.\n",
    "# (4) BUT, if we first run the cell above, then this cell never enters\n",
    "# the IntervalMembership.side_effects() method, nor the NumberMembership.conclude() method,\n",
    "# because in performing the previous cell, the x \\in NaturalPos under these assumptions\n",
    "# was already established. Nothing mysterious!\n",
    "# InSet(x, NaturalPos).prove(assumptions = [InSet(x, Interval(eight, three))]).proof()"
   ]
  },
  {
   "cell_type": "markdown",
   "metadata": {},
   "source": [
    "Some brief testing of Interval non-membership."
   ]
  },
  {
   "cell_type": "code",
   "execution_count": null,
   "metadata": {},
   "outputs": [],
   "source": [
    "NotInSet(three, Interval(four, seven)).prove()"
   ]
  },
  {
   "cell_type": "code",
   "execution_count": null,
   "metadata": {},
   "outputs": [],
   "source": [
    "NotInSet(eight, Interval(four, seven)).prove()"
   ]
  },
  {
   "cell_type": "code",
   "execution_count": null,
   "metadata": {},
   "outputs": [],
   "source": [
    "Or(Less(x, four), Less(seven, x)).prove(assumptions=[InSet(x, Integer), NotInSet(x, Interval(four, seven))])"
   ]
  },
  {
   "cell_type": "markdown",
   "metadata": {},
   "source": [
    "### Number set membership demonstrations"
   ]
  },
  {
   "cell_type": "code",
   "execution_count": null,
   "metadata": {},
   "outputs": [],
   "source": [
    "InSet(InSet(x, Integer), Boolean).prove()"
   ]
  },
  {
   "cell_type": "code",
   "execution_count": null,
   "metadata": {},
   "outputs": [],
   "source": [
    "InSet(InSet(x, IntegerNonZero), Boolean).prove()"
   ]
  },
  {
   "cell_type": "code",
   "execution_count": null,
   "metadata": {},
   "outputs": [],
   "source": [
    "InSet(InSet(x, IntegerNeg), Boolean).prove()"
   ]
  },
  {
   "cell_type": "code",
   "execution_count": null,
   "metadata": {},
   "outputs": [],
   "source": [
    "InSet(InSet(x, IntegerNonPos), Boolean).prove()"
   ]
  },
  {
   "cell_type": "code",
   "execution_count": null,
   "metadata": {},
   "outputs": [],
   "source": [
    "NotEquals(n, zero).prove(assumptions=[InSet(n, IntegerNonZero)], \n",
    "                         conclude_automation=False) # should be side-effect"
   ]
  },
  {
   "cell_type": "code",
   "execution_count": null,
   "metadata": {},
   "outputs": [],
   "source": [
    "Less(x, zero).prove(assumptions=[InSet(x, IntegerNeg)], \n",
    "                    conclude_automation=False) # should be side-effect"
   ]
  },
  {
   "cell_type": "code",
   "execution_count": null,
   "metadata": {},
   "outputs": [],
   "source": [
    "LessEq(x, zero).prove(assumptions=[InSet(x, IntegerNonPos)], \n",
    "                      conclude_automation=False) # should be side-effect"
   ]
  },
  {
   "cell_type": "code",
   "execution_count": null,
   "metadata": {},
   "outputs": [],
   "source": [
    "InSet(x, Natural).prove(assumptions=[InSet(x, Integer), greater_eq(x, zero)])"
   ]
  },
  {
   "cell_type": "code",
   "execution_count": null,
   "metadata": {},
   "outputs": [],
   "source": [
    "InSet(x, NaturalPos).prove(assumptions=[InSet(x, Integer), greater(x, zero)])"
   ]
  },
  {
   "cell_type": "code",
   "execution_count": null,
   "metadata": {},
   "outputs": [],
   "source": [
    "InSet(x, IntegerNonZero).prove(assumptions=[InSet(x, Integer), NotEquals(x, zero)])"
   ]
  },
  {
   "cell_type": "code",
   "execution_count": null,
   "metadata": {},
   "outputs": [],
   "source": [
    "InSet(x, IntegerNeg).prove(assumptions=[InSet(x, Integer), Less(x, zero)])"
   ]
  },
  {
   "cell_type": "code",
   "execution_count": null,
   "metadata": {},
   "outputs": [],
   "source": [
    "InSet(x, IntegerNonPos).prove(assumptions=[InSet(x, Integer), LessEq(x, zero)])"
   ]
  },
  {
   "cell_type": "code",
   "execution_count": null,
   "metadata": {},
   "outputs": [],
   "source": [
    "InSet(x, IntegerNonZero).prove(assumptions=[InSet(x, NaturalPos)])"
   ]
  },
  {
   "cell_type": "code",
   "execution_count": null,
   "metadata": {},
   "outputs": [],
   "source": [
    "InSet(x, Integer).prove(assumptions=[InSet(x, IntegerNonZero)])"
   ]
  },
  {
   "cell_type": "code",
   "execution_count": null,
   "metadata": {},
   "outputs": [],
   "source": [
    "InSet(x, Integer).prove(assumptions=[InSet(x, IntegerNeg)])"
   ]
  },
  {
   "cell_type": "code",
   "execution_count": null,
   "metadata": {},
   "outputs": [],
   "source": [
    "InSet(x, IntegerNonZero).prove(assumptions=[InSet(x, IntegerNeg)])"
   ]
  },
  {
   "cell_type": "code",
   "execution_count": null,
   "metadata": {},
   "outputs": [],
   "source": [
    "InSet(x, IntegerNonPos).prove(assumptions=[InSet(x, IntegerNeg)])"
   ]
  },
  {
   "cell_type": "code",
   "execution_count": null,
   "metadata": {},
   "outputs": [],
   "source": [
    "InSet(x, Integer).prove(assumptions=[InSet(x, IntegerNonPos)])"
   ]
  },
  {
   "cell_type": "markdown",
   "metadata": {},
   "source": [
    "#### Testing the `Interval.union_partition()` method"
   ]
  },
  {
   "cell_type": "markdown",
   "metadata": {},
   "source": [
    "Notice that several of these examples remind us that we have little-to-no automatic simplification of integer Intervals and elements of integer Intervals. For example, the interval $\\{5+1, \\ldots, 10\\}$ is not automatically simplified to $\\{6, \\ldots, 10\\}$, and Intervals such as $\\{1,\\ldots, 0\\}$ are not automaticaly simplified to the empty set $\\{\\} = \\emptyset$."
   ]
  },
  {
   "cell_type": "markdown",
   "metadata": {},
   "source": [
    "First, we create some example Intervals to use:"
   ]
  },
  {
   "cell_type": "code",
   "execution_count": null,
   "metadata": {},
   "outputs": [],
   "source": [
    "from proveit import i, n\n",
    "from proveit.logic import InSet\n",
    "from proveit.numbers import zero, one, num, subtract, Add, Less, Integer\n",
    "example_intervals = (Interval(one, num(10)), Interval(one, num(5)), Interval(num(6), num(10)),\n",
    "                    Interval(one, n), Interval(one, i), Interval(Add(i, one), n), Interval(i, n),\n",
    "                    Interval(Add(i, one), subtract(n, one)))\n",
    "temp_assumptions = [InSet(i, Integer), InSet(n, Integer), Less(one, n), Less(one, i), LessEq(Add(i, one), n)]\n",
    "for i, interval in enumerate(example_intervals):\n",
    "    print(f\"{(i)} {interval}\")"
   ]
  },
  {
   "cell_type": "markdown",
   "metadata": {},
   "source": [
    "And we look at results of calling the `.union_partition()` such intervals. Part of the motivation for the `union_partition()` method and its associated `union_of_intervals` theorem, is the partition of integer intervals such as $\\{1,2,...,n\\}$ into $\\{1,2,\\ldots,n-1\\}\\cup\\{n\\}$, as utilized in the QEC package for proofs of code distance conservation."
   ]
  },
  {
   "cell_type": "code",
   "execution_count": null,
   "metadata": {},
   "outputs": [],
   "source": [
    "# the .simplify() reduces the 5+1 to 6\n",
    "example_intervals[0].union_partition(num(5)).simplify()"
   ]
  },
  {
   "cell_type": "code",
   "execution_count": null,
   "metadata": {},
   "outputs": [],
   "source": [
    "# currently with this approach we cannot easily obtain A = A U {}.\n",
    "from proveit import i\n",
    "try:\n",
    "    display(example_intervals[3])\n",
    "    temp_result = example_intervals[0].union_partition(num(10), assumptions = temp_assumptions)\n",
    "    display(temp_result)\n",
    "except Exception as the_exception:\n",
    "    print(f\"Exception: {the_exception}\")"
   ]
  },
  {
   "cell_type": "code",
   "execution_count": null,
   "metadata": {},
   "outputs": [],
   "source": [
    "# but interestingly we can (eventually) obtain A = {} U A (or its equivalent).\n",
    "example_intervals[0].union_partition(zero, assumptions = temp_assumptions)"
   ]
  },
  {
   "cell_type": "code",
   "execution_count": null,
   "metadata": {},
   "outputs": [],
   "source": [
    "example_intervals[3].union_partition(i, assumptions = temp_assumptions)"
   ]
  },
  {
   "cell_type": "code",
   "execution_count": null,
   "metadata": {},
   "outputs": [],
   "source": [
    "example_intervals[3].union_partition(one, assumptions = temp_assumptions).simplify()"
   ]
  },
  {
   "cell_type": "code",
   "execution_count": null,
   "metadata": {},
   "outputs": [],
   "source": [
    "# here again we can obtain A = {} U A (or its equivalent)\n",
    "example_intervals[3].union_partition(zero, assumptions = temp_assumptions).simplify()"
   ]
  },
  {
   "cell_type": "code",
   "execution_count": null,
   "metadata": {},
   "outputs": [],
   "source": [
    "example_intervals[3].union_partition(subtract(n, one), assumptions = temp_assumptions).simplify()"
   ]
  },
  {
   "cell_type": "code",
   "execution_count": null,
   "metadata": {},
   "outputs": [],
   "source": [
    "# in current form, will not be able to partition as {1,...,n} = {1,...,n} U {}\n",
    "from proveit import i\n",
    "try:\n",
    "    display(example_intervals[3])\n",
    "    temp_result = example_intervals[3].union_partition(n, assumptions = temp_assumptions)\n",
    "    display(temp_result)\n",
    "except Exception as the_exception:\n",
    "    print(f\"Exception: {the_exception}\")"
   ]
  },
  {
   "cell_type": "code",
   "execution_count": null,
   "metadata": {},
   "outputs": [],
   "source": [
    "# should not be able to partition as {1,...,n} as {1,...,n+1} U ...\n",
    "try:\n",
    "    display(example_intervals[3])\n",
    "    temp_result = example_intervals[3].union_partition(Add(n, one),\n",
    "        assumptions = temp_assumptions)\n",
    "    display(temp_result)\n",
    "except Exception as the_exception:\n",
    "    print(f\"Exception: {the_exception}\")"
   ]
  },
  {
   "cell_type": "code",
   "execution_count": null,
   "metadata": {},
   "outputs": [],
   "source": [
    "%end demonstrations"
   ]
  },
  {
   "cell_type": "code",
   "execution_count": null,
   "metadata": {},
   "outputs": [],
   "source": []
  }
 ],
 "metadata": {
  "kernelspec": {
   "display_name": "Python 3",
   "language": "python",
   "name": "python3"
  }
 },
 "nbformat": 4,
 "nbformat_minor": 0
}
