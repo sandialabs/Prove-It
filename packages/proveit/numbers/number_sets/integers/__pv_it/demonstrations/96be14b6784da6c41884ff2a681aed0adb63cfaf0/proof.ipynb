{
 "cells": [
  {
   "cell_type": "markdown",
   "metadata": {},
   "source": [
    "Show the Proof\n",
    "========"
   ]
  },
  {
   "cell_type": "code",
   "execution_count": 1,
   "metadata": {},
   "outputs": [
    {
     "data": {
      "text/html": [
       "<table><tr><th>&nbsp;</th><th>step type</th><th>requirements</th><th>statement</th></tr>\n",
       "<tr><td><a name=\"proveit.numbers.number_sets.integers.demonstrations.96be14b6784da6c41884ff2a681aed0adb63cfaf0_step0\">0</a></td><td>instantiation</td><td><a href=\"#proveit.numbers.number_sets.integers.demonstrations.96be14b6784da6c41884ff2a681aed0adb63cfaf0_step1\">1</a>, <a href=\"#proveit.numbers.number_sets.integers.demonstrations.96be14b6784da6c41884ff2a681aed0adb63cfaf0_step2\">2</a>, <a href=\"#proveit.numbers.number_sets.integers.demonstrations.96be14b6784da6c41884ff2a681aed0adb63cfaf0_step3\">3</a></td><td><span style=\"font-size:20px;\"><a class=\"ProveItLink\" href=\"../../theorems/9dfd51fc82a5dda1e85f06fc33528e3db8c0b6dc0/expr.ipynb\"><img src=\"../../theorems/9dfd51fc82a5dda1e85f06fc33528e3db8c0b6dc0/expr.png\" style=\"display:inline;vertical-align:middle;\" /></a>, <a class=\"ProveItLink\" href=\"../../../../real_numbers/__pv_it/theorems/0c04c146b0f7b92967ed28917fb83981f8ee0b1b0/expr.ipynb\"><img src=\"../../../../real_numbers/__pv_it/theorems/0c04c146b0f7b92967ed28917fb83981f8ee0b1b0/expr.png\" style=\"display:inline;vertical-align:middle;\" /></a> <a class=\"ProveItLink\" href=\"proof.ipynb\" style=\"text-decoration: none\">&nbsp;&#x22A2;&nbsp;&nbsp;</a><a class=\"ProveItLink\" href=\"../../../../natural_numbers/__pv_it/theorems/eeefdffd3aa81290285f57914cfcea6647727dd80/expr.ipynb\"><img src=\"../../../../natural_numbers/__pv_it/theorems/eeefdffd3aa81290285f57914cfcea6647727dd80/expr.png\" style=\"display:inline;vertical-align:middle;\" /></a></span></td></tr>\n",
       "<tr><td>&nbsp;</td><td colspan=4 style=\"text-align:left\"><span style=\"font-size:20px;\"><a class=\"ProveItLink\" href=\"../../../../../../__pv_it/common/c06c606ec12678c58933ac85412ecadc2ae28be60/expr.ipynb\"><img src=\"../../../../../../__pv_it/common/c06c606ec12678c58933ac85412ecadc2ae28be60/expr.png\" style=\"display:inline;vertical-align:middle;\" /></a> : <a class=\"ProveItLink\" href=\"../../../../../../__pv_it/common/a0d9d672aa5e272d907247690c152cc2c6daafb70/expr.ipynb\"><img src=\"../../../../../../__pv_it/common/a0d9d672aa5e272d907247690c152cc2c6daafb70/expr.png\" style=\"display:inline;vertical-align:middle;\" /></a></span></td></tr><tr><td><a name=\"proveit.numbers.number_sets.integers.demonstrations.96be14b6784da6c41884ff2a681aed0adb63cfaf0_step1\">1</a></td><td>theorem</td><td></td><td><span style=\"font-size:20px;\"> <a class=\"ProveItLink\" href=\"../../../_theory_nbs_/proofs/pos_int_is_natural_pos/thm_proof.ipynb\" style=\"text-decoration: none\">&nbsp;&#x22A2;&nbsp;&nbsp;</a><a class=\"ProveItLink\" href=\"../../theorems/669644ece014c75803395e733e607c46ec6ad5880/expr.ipynb\"><img src=\"../../theorems/669644ece014c75803395e733e607c46ec6ad5880/expr.png\" style=\"display:inline;vertical-align:middle;\" /></a></span></td></tr>\n",
       "<tr><td>&nbsp;</td><td colspan=4 style-\"text-align:left\"><a class=\"ProveItLink\" href=\"../../../_theory_nbs_/proofs/pos_int_is_natural_pos/thm_proof.ipynb\">proveit.numbers.number_sets.integers.pos_int_is_natural_pos</a></td></tr><tr><td><a name=\"proveit.numbers.number_sets.integers.demonstrations.96be14b6784da6c41884ff2a681aed0adb63cfaf0_step2\">2</a></td><td>assumption</td><td></td><td><span style=\"font-size:20px;\"><a class=\"ProveItLink\" href=\"../../theorems/9dfd51fc82a5dda1e85f06fc33528e3db8c0b6dc0/expr.ipynb\"><img src=\"../../theorems/9dfd51fc82a5dda1e85f06fc33528e3db8c0b6dc0/expr.png\" style=\"display:inline;vertical-align:middle;\" /></a> <a class=\"ProveItLink\" href=\"../b1e9d3405f5623e1b45b8f85e880b14c1b3d1b320/proof.ipynb\" style=\"text-decoration: none\">&nbsp;&#x22A2;&nbsp;&nbsp;</a><a class=\"ProveItLink\" href=\"../../theorems/9dfd51fc82a5dda1e85f06fc33528e3db8c0b6dc0/expr.ipynb\"><img src=\"../../theorems/9dfd51fc82a5dda1e85f06fc33528e3db8c0b6dc0/expr.png\" style=\"display:inline;vertical-align:middle;\" /></a></span></td></tr>\n",
       "<tr><td><a name=\"proveit.numbers.number_sets.integers.demonstrations.96be14b6784da6c41884ff2a681aed0adb63cfaf0_step3\">3</a></td><td>assumption</td><td></td><td><span style=\"font-size:20px;\"><a class=\"ProveItLink\" href=\"../../../../real_numbers/__pv_it/theorems/0c04c146b0f7b92967ed28917fb83981f8ee0b1b0/expr.ipynb\"><img src=\"../../../../real_numbers/__pv_it/theorems/0c04c146b0f7b92967ed28917fb83981f8ee0b1b0/expr.png\" style=\"display:inline;vertical-align:middle;\" /></a> <a class=\"ProveItLink\" href=\"../85a7d9168f9e7b79e531794c84ece7e669b8f0250/proof.ipynb\" style=\"text-decoration: none\">&nbsp;&#x22A2;&nbsp;&nbsp;</a><a class=\"ProveItLink\" href=\"../../../../real_numbers/__pv_it/theorems/0c04c146b0f7b92967ed28917fb83981f8ee0b1b0/expr.ipynb\"><img src=\"../../../../real_numbers/__pv_it/theorems/0c04c146b0f7b92967ed28917fb83981f8ee0b1b0/expr.png\" style=\"display:inline;vertical-align:middle;\" /></a></span></td></tr>\n",
       "</table>"
      ],
      "text/plain": [
       "<proveit._core_.proof._ShowProof at 0x7f6e7affa9b0>"
      ]
     },
     "execution_count": 1,
     "metadata": {},
     "output_type": "execute_result"
    }
   ],
   "source": [
    "import proveit\n",
    "# Automation is not needed when only showing a stored proof:\n",
    "proveit.defaults.automation = False # This will speed things up.\n",
    "proveit.defaults.inline_pngs = False # Makes files smaller.\n",
    "%show_proof"
   ]
  },
  {
   "cell_type": "code",
   "execution_count": null,
   "metadata": {},
   "outputs": [],
   "source": []
  }
 ],
 "metadata": {
  "kernelspec": {
   "display_name": "Python 3",
   "language": "python",
   "name": "python3"
  }
 },
 "nbformat": 4,
 "nbformat_minor": 0
}