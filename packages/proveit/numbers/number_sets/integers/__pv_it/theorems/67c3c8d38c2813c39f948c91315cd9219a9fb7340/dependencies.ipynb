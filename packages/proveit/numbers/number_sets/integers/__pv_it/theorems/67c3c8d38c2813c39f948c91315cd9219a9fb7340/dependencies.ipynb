{
 "cells": [
  {
   "cell_type": "markdown",
   "metadata": {},
   "source": [
    "Theorem Dependencies\n",
    "=======================\n",
    "\n",
    "## <a class=\"ProveItLink\" href=\"../../../_theory_nbs_/theory.ipynb\">proveit.numbers.number_sets.integers</a>.<a class=\"ProveItLink\" href=\"../../../_theorems_.ipynb#pos_int_is_natural_pos\">pos_int_is_natural_pos</a> \n",
    "***see <a class=\"ProveItLink\" href=\"../../../_theory_nbs_/proofs/pos_int_is_natural_pos/thm_proof.ipynb\">proof</a>***"
   ]
  },
  {
   "cell_type": "code",
   "execution_count": 1,
   "metadata": {},
   "outputs": [],
   "source": [
    "import proveit\n",
    "# Automation is not needed when querying dependencies:\n",
    "proveit.defaults.automation = False # This will speed things up.\n",
    "proveit.defaults.inline_pngs = False # Makes files smaller.\n",
    "from proveit.numbers.number_sets.integers import pos_int_is_natural_pos"
   ]
  },
  {
   "cell_type": "code",
   "execution_count": 2,
   "metadata": {},
   "outputs": [
    {
     "data": {
      "text/html": [
       "<h3>Unproven conjectures required (directly or indirectly) to prove pos_int_is_natural_pos</h3>"
      ],
      "text/plain": [
       "<IPython.core.display.HTML object>"
      ]
     },
     "metadata": {},
     "output_type": "display_data"
    },
    {
     "data": {
      "text/html": [
       "<dl>"
      ],
      "text/plain": [
       "<IPython.core.display.HTML object>"
      ]
     },
     "metadata": {},
     "output_type": "display_data"
    },
    {
     "data": {
      "text/html": [
       "<dt><a class=\"ProveItLink\" href=\"../../../_theory_nbs_/proofs/pos_int_is_natural_pos/thm_proof.ipynb\">proveit.numbers.number_sets.integers.pos_int_is_natural_pos</a></dt><dd><a class=\"ProveItLink\" href=\"../669644ece014c75803395e733e607c46ec6ad5880/expr.ipynb\"><img src=\"../669644ece014c75803395e733e607c46ec6ad5880/expr.png\" style=\"display:inline;vertical-align:middle;\" /></a></dd>"
      ],
      "text/plain": [
       "<IPython.core.display.HTML object>"
      ]
     },
     "metadata": {},
     "output_type": "display_data"
    },
    {
     "data": {
      "text/html": [
       "</dl>"
      ],
      "text/plain": [
       "<IPython.core.display.HTML object>"
      ]
     },
     "metadata": {},
     "output_type": "display_data"
    },
    {
     "data": {
      "text/html": [
       "<h3>Theorems/conjectures that depend directly on pos_int_is_natural_pos</h3>"
      ],
      "text/plain": [
       "<IPython.core.display.HTML object>"
      ]
     },
     "metadata": {},
     "output_type": "display_data"
    },
    {
     "data": {
      "text/html": [
       "<dl>"
      ],
      "text/plain": [
       "<IPython.core.display.HTML object>"
      ]
     },
     "metadata": {},
     "output_type": "display_data"
    },
    {
     "data": {
      "text/html": [
       "<dt><a class=\"ProveItLink\" href=\"../../../../../../physics/quantum/QPE/_theory_nbs_/proofs/_fail_sum/thm_proof.ipynb\">proveit.physics.quantum.QPE._fail_sum</a></dt><dd><a class=\"ProveItLink\" href=\"../../../../../../physics/quantum/QPE/__pv_it/theorems/efda8f561f3e9cc875e5c0e28271ead4dd9247f40/expr.ipynb\"><img src=\"../../../../../../physics/quantum/QPE/__pv_it/theorems/efda8f561f3e9cc875e5c0e28271ead4dd9247f40/expr.png\" style=\"display:inline;vertical-align:middle;\" /></a></dd>"
      ],
      "text/plain": [
       "<IPython.core.display.HTML object>"
      ]
     },
     "metadata": {},
     "output_type": "display_data"
    },
    {
     "data": {
      "text/html": [
       "<dt><a class=\"ProveItLink\" href=\"../../../../../../physics/quantum/QPE/_theory_nbs_/proofs/_fail_sum_prob_conds_equiv_lemma/thm_proof.ipynb\">proveit.physics.quantum.QPE._fail_sum_prob_conds_equiv_lemma</a></dt><dd><a class=\"ProveItLink\" href=\"../../../../../../physics/quantum/QPE/__pv_it/theorems/0a562497775decef0684b103fc6e5c149a6f3c490/expr.ipynb\"><img src=\"../../../../../../physics/quantum/QPE/__pv_it/theorems/0a562497775decef0684b103fc6e5c149a6f3c490/expr.png\" style=\"display:inline;vertical-align:middle;\" /></a></dd>"
      ],
      "text/plain": [
       "<IPython.core.display.HTML object>"
      ]
     },
     "metadata": {},
     "output_type": "display_data"
    },
    {
     "data": {
      "text/html": [
       "<dt><a class=\"ProveItLink\" href=\"../../../../../../physics/quantum/QPE/_theory_nbs_/proofs/_failure_upper_bound/thm_proof.ipynb\">proveit.physics.quantum.QPE._failure_upper_bound</a></dt><dd><a class=\"ProveItLink\" href=\"../../../../../../physics/quantum/QPE/__pv_it/theorems/a6157de4c5444c5a5dbbab9b2fcdbe64e328db540/expr.ipynb\"><img src=\"../../../../../../physics/quantum/QPE/__pv_it/theorems/a6157de4c5444c5a5dbbab9b2fcdbe64e328db540/expr.png\" style=\"display:inline;vertical-align:middle;\" /></a></dd>"
      ],
      "text/plain": [
       "<IPython.core.display.HTML object>"
      ]
     },
     "metadata": {},
     "output_type": "display_data"
    },
    {
     "data": {
      "text/html": [
       "<dt><a class=\"ProveItLink\" href=\"../../../../../../physics/quantum/QPE/_theory_nbs_/proofs/_failure_upper_bound_lemma/thm_proof.ipynb\">proveit.physics.quantum.QPE._failure_upper_bound_lemma</a></dt><dd><a class=\"ProveItLink\" href=\"../../../../../../physics/quantum/QPE/__pv_it/theorems/deaded043dfbcaa1fdfb156f013d0f6926d302040/expr.ipynb\"><img src=\"../../../../../../physics/quantum/QPE/__pv_it/theorems/deaded043dfbcaa1fdfb156f013d0f6926d302040/expr.png\" style=\"display:inline;vertical-align:middle;\" /></a></dd>"
      ],
      "text/plain": [
       "<IPython.core.display.HTML object>"
      ]
     },
     "metadata": {},
     "output_type": "display_data"
    },
    {
     "data": {
      "text/html": [
       "<dt><a class=\"ProveItLink\" href=\"../../../../../../physics/quantum/QPE/_theory_nbs_/proofs/_precision_guarantee/thm_proof.ipynb\">proveit.physics.quantum.QPE._precision_guarantee</a></dt><dd><a class=\"ProveItLink\" href=\"../../../../../../physics/quantum/QPE/__pv_it/theorems/faf28ac0959c329529068cc213adcda8cf3356a80/expr.ipynb\"><img src=\"../../../../../../physics/quantum/QPE/__pv_it/theorems/faf28ac0959c329529068cc213adcda8cf3356a80/expr.png\" style=\"display:inline;vertical-align:middle;\" /></a></dd>"
      ],
      "text/plain": [
       "<IPython.core.display.HTML object>"
      ]
     },
     "metadata": {},
     "output_type": "display_data"
    },
    {
     "data": {
      "text/html": [
       "<dt><a class=\"ProveItLink\" href=\"../../../../../../physics/quantum/QPE/_theory_nbs_/proofs/_psi_t_output/thm_proof.ipynb\">proveit.physics.quantum.QPE._psi_t_output</a></dt><dd><a class=\"ProveItLink\" href=\"../../../../../../physics/quantum/QPE/__pv_it/theorems/9b181729ed3394d57688549d190362cf6d9b29160/expr.ipynb\"><img src=\"../../../../../../physics/quantum/QPE/__pv_it/theorems/9b181729ed3394d57688549d190362cf6d9b29160/expr.png\" style=\"display:inline;vertical-align:middle;\" /></a></dd>"
      ],
      "text/plain": [
       "<IPython.core.display.HTML object>"
      ]
     },
     "metadata": {},
     "output_type": "display_data"
    },
    {
     "data": {
      "text/html": [
       "<dt><a class=\"ProveItLink\" href=\"../../../../../../physics/quantum/QPE/_theory_nbs_/proofs/_sample_space_bijection/thm_proof.ipynb\">proveit.physics.quantum.QPE._sample_space_bijection</a></dt><dd><a class=\"ProveItLink\" href=\"../../../../../../physics/quantum/QPE/__pv_it/theorems/91fba8b309d1fbf4f0fe0f0926d36af207e4f2da0/expr.ipynb\"><img src=\"../../../../../../physics/quantum/QPE/__pv_it/theorems/91fba8b309d1fbf4f0fe0f0926d36af207e4f2da0/expr.png\" style=\"display:inline;vertical-align:middle;\" /></a></dd>"
      ],
      "text/plain": [
       "<IPython.core.display.HTML object>"
      ]
     },
     "metadata": {},
     "output_type": "display_data"
    },
    {
     "data": {
      "text/html": [
       "</dl>"
      ],
      "text/plain": [
       "<IPython.core.display.HTML object>"
      ]
     },
     "metadata": {},
     "output_type": "display_data"
    }
   ],
   "source": [
    "%dependencies pos_int_is_natural_pos"
   ]
  }
 ],
 "metadata": {
  "kernelspec": {
   "display_name": "Python 3",
   "language": "python",
   "name": "python3"
  }
 },
 "nbformat": 4,
 "nbformat_minor": 0
}