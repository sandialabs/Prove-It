{
 "cells": [
  {
   "cell_type": "markdown",
   "metadata": {},
   "source": [
    "Expression of type <a class=\"ProveItLink\" href=\"../../../../../../../../doc/html/api/proveit.ExprTuple.html\">ExprTuple</a>\n",
    "=======================\n",
    "# from the theory of <a class=\"ProveItLink\" href=\"../../../_theory_nbs_/theory.ipynb\">proveit.numbers.number_sets.integers</a>"
   ]
  },
  {
   "cell_type": "code",
   "execution_count": 1,
   "metadata": {},
   "outputs": [],
   "source": [
    "import proveit\n",
    "# Automation is not needed when building an expression:\n",
    "proveit.defaults.automation = False # This will speed things up.\n",
    "proveit.defaults.inline_pngs = False # Makes files smaller.\n",
    "%load_expr # Load the stored expression as 'stored_expr'\n",
    "# import Expression classes needed to build the expression\n",
    "from proveit import Conditional, ExprTuple, Lambda, a, b, c, d\n",
    "from proveit.logic import And, InSet, ProperSubset\n",
    "from proveit.numbers import Integer, Interval, Less, LessEq"
   ]
  },
  {
   "cell_type": "code",
   "execution_count": 2,
   "metadata": {},
   "outputs": [
    {
     "data": {
      "text/html": [
       "<strong id=\"expr\">expr:</strong> <a class=\"ProveItLink\" href=\"expr.ipynb\"><img src=\"expr.png\" style=\"display:inline;vertical-align:middle;\" /></a><br>"
      ],
      "text/plain": [
       "<IPython.core.display.HTML object>"
      ]
     },
     "metadata": {},
     "output_type": "display_data"
    }
   ],
   "source": [
    "# build up the expression from sub-expressions\n",
    "expr = ExprTuple(Lambda([a, b, c, d], Conditional(ProperSubset(Interval(b, c), Interval(a, d)), And(InSet(a, Integer), InSet(b, Integer), InSet(c, Integer), InSet(d, Integer), And(Less(a, b), LessEq(b, c), Less(c, d)).with_total_ordering_style()))))"
   ]
  },
  {
   "cell_type": "code",
   "execution_count": 3,
   "metadata": {},
   "outputs": [
    {
     "name": "stdout",
     "output_type": "stream",
     "text": [
      "Passed sanity check: expr matches stored_expr\n"
     ]
    }
   ],
   "source": [
    "# check that the built expression is the same as the stored expression\n",
    "assert expr == stored_expr\n",
    "assert expr._style_id == stored_expr._style_id\n",
    "print(\"Passed sanity check: expr matches stored_expr\")"
   ]
  },
  {
   "cell_type": "code",
   "execution_count": 4,
   "metadata": {},
   "outputs": [
    {
     "name": "stdout",
     "output_type": "stream",
     "text": [
      "\\left(\\left(a, b, c, d\\right) \\mapsto \\left\\{\\{b~\\ldotp \\ldotp~c\\} \\subset \\{a~\\ldotp \\ldotp~d\\} \\textrm{ if } a \\in \\mathbb{Z} ,  b \\in \\mathbb{Z} ,  c \\in \\mathbb{Z} ,  d \\in \\mathbb{Z} ,  a < b \\leq c < d\\right..\\right)\n"
     ]
    }
   ],
   "source": [
    "# Show the LaTeX representation of the expression for convenience if you need it.\n",
    "print(stored_expr.latex())"
   ]
  },
  {
   "cell_type": "code",
   "execution_count": 5,
   "metadata": {},
   "outputs": [
    {
     "data": {
      "text/html": [
       "no style options"
      ],
      "text/plain": [
       "no style options"
      ]
     },
     "metadata": {},
     "output_type": "display_data"
    }
   ],
   "source": [
    "stored_expr.style_options()"
   ]
  },
  {
   "cell_type": "code",
   "execution_count": 6,
   "metadata": {},
   "outputs": [
    {
     "data": {
      "text/html": [
       "<table><tr><th>&nbsp;</th><th>core type</th><th>sub-expressions</th><th>expression</th></tr>\n",
       "<tr><td>0</td><td>ExprTuple</td><td>1</td><td><a class=\"ProveItLink\" href=\"expr.ipynb\"><img src=\"expr.png\" style=\"display:inline;vertical-align:middle;\" /></a></td></tr>\n",
       "<tr><td>1</td><td>Lambda</td><td>parameters:&nbsp;2<br>body:&nbsp;3<br></td><td><a class=\"ProveItLink\" href=\"../94706e4d46c30ad4468fe6322470c2f6e9b3d2430/expr.ipynb\"><img src=\"../94706e4d46c30ad4468fe6322470c2f6e9b3d2430/expr.png\" style=\"display:inline;vertical-align:middle;\" /></a></td></tr>\n",
       "<tr><td>2</td><td>ExprTuple</td><td>34, 35, 36, 37</td><td><a class=\"ProveItLink\" href=\"../b9025baedda49f8eb0a4eb7b23501a26c1fde0970/expr.ipynb\"><img src=\"../b9025baedda49f8eb0a4eb7b23501a26c1fde0970/expr.png\" style=\"display:inline;vertical-align:middle;\" /></a></td></tr>\n",
       "<tr><td>3</td><td>Conditional</td><td>value:&nbsp;4<br>condition:&nbsp;5<br></td><td><a class=\"ProveItLink\" href=\"../b4c8829a437d42afa182c13fc32dbab24d915ae80/expr.ipynb\"><img src=\"../b4c8829a437d42afa182c13fc32dbab24d915ae80/expr.png\" style=\"display:inline;vertical-align:middle;\" /></a></td></tr>\n",
       "<tr><td>4</td><td>Operation</td><td>operator:&nbsp;6<br>operands:&nbsp;7<br></td><td><a class=\"ProveItLink\" href=\"../5954557ab40b0d3bd8ca5aacba2856d3ff8637af0/expr.ipynb\"><img src=\"../5954557ab40b0d3bd8ca5aacba2856d3ff8637af0/expr.png\" style=\"display:inline;vertical-align:middle;\" /></a></td></tr>\n",
       "<tr><td>5</td><td>Operation</td><td>operator:&nbsp;23<br>operands:&nbsp;8<br></td><td><a class=\"ProveItLink\" href=\"../fb67df9f043e830e2585cc6c89c184705e3b6e7e0/expr.ipynb\"><img src=\"../fb67df9f043e830e2585cc6c89c184705e3b6e7e0/expr.png\" style=\"display:inline;vertical-align:middle;\" /></a></td></tr>\n",
       "<tr><td>6</td><td>Literal</td><td></td><td><a class=\"ProveItLink\" href=\"../../../../../../logic/sets/inclusion/__pv_it/common/adc9164d5bfa989e5765900a8c87188c1d60284f0/expr.ipynb\"><img src=\"../../../../../../logic/sets/inclusion/__pv_it/common/adc9164d5bfa989e5765900a8c87188c1d60284f0/expr.png\" style=\"display:inline;vertical-align:middle;\" /></a></td></tr>\n",
       "<tr><td>7</td><td>ExprTuple</td><td>9, 10</td><td><a class=\"ProveItLink\" href=\"../2ff163b409d81d5f489a1b39284d9503c029064d0/expr.ipynb\"><img src=\"../2ff163b409d81d5f489a1b39284d9503c029064d0/expr.png\" style=\"display:inline;vertical-align:middle;\" /></a></td></tr>\n",
       "<tr><td>8</td><td>ExprTuple</td><td>11, 12, 13, 14, 15</td><td><a class=\"ProveItLink\" href=\"../a9776cff627c13e301e07d6343091ef91549ea900/expr.ipynb\"><img src=\"../a9776cff627c13e301e07d6343091ef91549ea900/expr.png\" style=\"display:inline;vertical-align:middle;\" /></a></td></tr>\n",
       "<tr><td>9</td><td>Operation</td><td>operator:&nbsp;16<br>operands:&nbsp;31<br></td><td><a class=\"ProveItLink\" href=\"../65643026237937be138327f7b37bcb77ff6f99590/expr.ipynb\"><img src=\"../65643026237937be138327f7b37bcb77ff6f99590/expr.png\" style=\"display:inline;vertical-align:middle;\" /></a></td></tr>\n",
       "<tr><td>10</td><td>Operation</td><td>operator:&nbsp;16<br>operands:&nbsp;17<br></td><td><a class=\"ProveItLink\" href=\"../0fa413a68e11782014dac042b17b107993c1da7d0/expr.ipynb\"><img src=\"../0fa413a68e11782014dac042b17b107993c1da7d0/expr.png\" style=\"display:inline;vertical-align:middle;\" /></a></td></tr>\n",
       "<tr><td>11</td><td>Operation</td><td>operator:&nbsp;21<br>operands:&nbsp;18<br></td><td><a class=\"ProveItLink\" href=\"../d82a9927958f2919b6e25fa4d8e512f4047160210/expr.ipynb\"><img src=\"../d82a9927958f2919b6e25fa4d8e512f4047160210/expr.png\" style=\"display:inline;vertical-align:middle;\" /></a></td></tr>\n",
       "<tr><td>12</td><td>Operation</td><td>operator:&nbsp;21<br>operands:&nbsp;19<br></td><td><a class=\"ProveItLink\" href=\"../f7f8f0c7b17df91c5737500a28a9355fd753ce490/expr.ipynb\"><img src=\"../f7f8f0c7b17df91c5737500a28a9355fd753ce490/expr.png\" style=\"display:inline;vertical-align:middle;\" /></a></td></tr>\n",
       "<tr><td>13</td><td>Operation</td><td>operator:&nbsp;21<br>operands:&nbsp;20<br></td><td><a class=\"ProveItLink\" href=\"../a2bc599bf0f0f65acede773ef671aee29194b8f50/expr.ipynb\"><img src=\"../a2bc599bf0f0f65acede773ef671aee29194b8f50/expr.png\" style=\"display:inline;vertical-align:middle;\" /></a></td></tr>\n",
       "<tr><td>14</td><td>Operation</td><td>operator:&nbsp;21<br>operands:&nbsp;22<br></td><td><a class=\"ProveItLink\" href=\"../ce2036f1d2e534f263518445e270cc2a8e5c787c0/expr.ipynb\"><img src=\"../ce2036f1d2e534f263518445e270cc2a8e5c787c0/expr.png\" style=\"display:inline;vertical-align:middle;\" /></a></td></tr>\n",
       "<tr><td>15</td><td>Operation</td><td>operator:&nbsp;23<br>operands:&nbsp;24<br></td><td><a class=\"ProveItLink\" href=\"../7e8bd557f551fe2f0041c011a2ebf1b1b98523fa0/expr.ipynb\"><img src=\"../7e8bd557f551fe2f0041c011a2ebf1b1b98523fa0/expr.png\" style=\"display:inline;vertical-align:middle;\" /></a></td></tr>\n",
       "<tr><td>16</td><td>Literal</td><td></td><td><a class=\"ProveItLink\" href=\"../../common/92f3a0a77e3c3ea8e4a5c8674edadc54e4f57d550/expr.ipynb\"><img src=\"../../common/92f3a0a77e3c3ea8e4a5c8674edadc54e4f57d550/expr.png\" style=\"display:inline;vertical-align:middle;\" /></a></td></tr>\n",
       "<tr><td>17</td><td>ExprTuple</td><td>34, 37</td><td><a class=\"ProveItLink\" href=\"../e641a8aadb5365964c2a22d5968024292e283c820/expr.ipynb\"><img src=\"../e641a8aadb5365964c2a22d5968024292e283c820/expr.png\" style=\"display:inline;vertical-align:middle;\" /></a></td></tr>\n",
       "<tr><td>18</td><td>ExprTuple</td><td>34, 25</td><td><a class=\"ProveItLink\" href=\"../97b45a1fbe99ac9f6d293ef01d81cb055e55a0b70/expr.ipynb\"><img src=\"../97b45a1fbe99ac9f6d293ef01d81cb055e55a0b70/expr.png\" style=\"display:inline;vertical-align:middle;\" /></a></td></tr>\n",
       "<tr><td>19</td><td>ExprTuple</td><td>35, 25</td><td><a class=\"ProveItLink\" href=\"../b896942be85cc9d2a231f0f6e45f54495eac256e0/expr.ipynb\"><img src=\"../b896942be85cc9d2a231f0f6e45f54495eac256e0/expr.png\" style=\"display:inline;vertical-align:middle;\" /></a></td></tr>\n",
       "<tr><td>20</td><td>ExprTuple</td><td>36, 25</td><td><a class=\"ProveItLink\" href=\"../3521f382affb3f00e63e8a783f4e2f4b98fc99e80/expr.ipynb\"><img src=\"../3521f382affb3f00e63e8a783f4e2f4b98fc99e80/expr.png\" style=\"display:inline;vertical-align:middle;\" /></a></td></tr>\n",
       "<tr><td>21</td><td>Literal</td><td></td><td><a class=\"ProveItLink\" href=\"../../../../../../logic/sets/membership/__pv_it/common/477487d8796864d23d5810f83761435f25167f690/expr.ipynb\"><img src=\"../../../../../../logic/sets/membership/__pv_it/common/477487d8796864d23d5810f83761435f25167f690/expr.png\" style=\"display:inline;vertical-align:middle;\" /></a></td></tr>\n",
       "<tr><td>22</td><td>ExprTuple</td><td>37, 25</td><td><a class=\"ProveItLink\" href=\"../b94b809807654e0fa0fd3965cf15735e86e28af40/expr.ipynb\"><img src=\"../b94b809807654e0fa0fd3965cf15735e86e28af40/expr.png\" style=\"display:inline;vertical-align:middle;\" /></a></td></tr>\n",
       "<tr><td>23</td><td>Literal</td><td></td><td><a class=\"ProveItLink\" href=\"../../../../../../logic/booleans/conjunction/__pv_it/common/42118ff318bd65d98b1393f64ce7c2269feef76e0/expr.ipynb\"><img src=\"../../../../../../logic/booleans/conjunction/__pv_it/common/42118ff318bd65d98b1393f64ce7c2269feef76e0/expr.png\" style=\"display:inline;vertical-align:middle;\" /></a></td></tr>\n",
       "<tr><td>24</td><td>ExprTuple</td><td>26, 27, 28</td><td><a class=\"ProveItLink\" href=\"../4e028d85c2234e1877cd8bda643c19af80a56c5a0/expr.ipynb\"><img src=\"../4e028d85c2234e1877cd8bda643c19af80a56c5a0/expr.png\" style=\"display:inline;vertical-align:middle;\" /></a></td></tr>\n",
       "<tr><td>25</td><td>Literal</td><td></td><td><a class=\"ProveItLink\" href=\"../../common/e6b4e90f9467053e055a4fd2f735c0bb79cb79300/expr.ipynb\"><img src=\"../../common/e6b4e90f9467053e055a4fd2f735c0bb79cb79300/expr.png\" style=\"display:inline;vertical-align:middle;\" /></a></td></tr>\n",
       "<tr><td>26</td><td>Operation</td><td>operator:&nbsp;32<br>operands:&nbsp;29<br></td><td><a class=\"ProveItLink\" href=\"../3b3bab3cd8d8551dd21bf1f81e14445c3cb711db0/expr.ipynb\"><img src=\"../3b3bab3cd8d8551dd21bf1f81e14445c3cb711db0/expr.png\" style=\"display:inline;vertical-align:middle;\" /></a></td></tr>\n",
       "<tr><td>27</td><td>Operation</td><td>operator:&nbsp;30<br>operands:&nbsp;31<br></td><td><a class=\"ProveItLink\" href=\"../811b651e86314814e3ce87463a2b65b55b6a76d90/expr.ipynb\"><img src=\"../811b651e86314814e3ce87463a2b65b55b6a76d90/expr.png\" style=\"display:inline;vertical-align:middle;\" /></a></td></tr>\n",
       "<tr><td>28</td><td>Operation</td><td>operator:&nbsp;32<br>operands:&nbsp;33<br></td><td><a class=\"ProveItLink\" href=\"../9303842221a91f1285cdc236c398f241a9d406b10/expr.ipynb\"><img src=\"../9303842221a91f1285cdc236c398f241a9d406b10/expr.png\" style=\"display:inline;vertical-align:middle;\" /></a></td></tr>\n",
       "<tr><td>29</td><td>ExprTuple</td><td>34, 35</td><td><a class=\"ProveItLink\" href=\"../3dcd5ceea6334d8cb48fe14fdae236293aa9a6050/expr.ipynb\"><img src=\"../3dcd5ceea6334d8cb48fe14fdae236293aa9a6050/expr.png\" style=\"display:inline;vertical-align:middle;\" /></a></td></tr>\n",
       "<tr><td>30</td><td>Literal</td><td></td><td><a class=\"ProveItLink\" href=\"../../../../../ordering/__pv_it/common/68379698d72b4689bbda4b5c5cca29ee599d70280/expr.ipynb\"><img src=\"../../../../../ordering/__pv_it/common/68379698d72b4689bbda4b5c5cca29ee599d70280/expr.png\" style=\"display:inline;vertical-align:middle;\" /></a></td></tr>\n",
       "<tr><td>31</td><td>ExprTuple</td><td>35, 36</td><td><a class=\"ProveItLink\" href=\"../ef9fe67d2e3b5fce9f5216666a772f97f5d95ff50/expr.ipynb\"><img src=\"../ef9fe67d2e3b5fce9f5216666a772f97f5d95ff50/expr.png\" style=\"display:inline;vertical-align:middle;\" /></a></td></tr>\n",
       "<tr><td>32</td><td>Literal</td><td></td><td><a class=\"ProveItLink\" href=\"../../../../../ordering/__pv_it/common/fa503ed52033522c609eef1cf3e1b45796489da50/expr.ipynb\"><img src=\"../../../../../ordering/__pv_it/common/fa503ed52033522c609eef1cf3e1b45796489da50/expr.png\" style=\"display:inline;vertical-align:middle;\" /></a></td></tr>\n",
       "<tr><td>33</td><td>ExprTuple</td><td>36, 37</td><td><a class=\"ProveItLink\" href=\"../f336fa46d73583f2c4c9aeb5e26e359cc42790830/expr.ipynb\"><img src=\"../f336fa46d73583f2c4c9aeb5e26e359cc42790830/expr.png\" style=\"display:inline;vertical-align:middle;\" /></a></td></tr>\n",
       "<tr><td>34</td><td>Variable</td><td></td><td><a class=\"ProveItLink\" href=\"../../../../../../__pv_it/common/c06c606ec12678c58933ac85412ecadc2ae28be60/expr.ipynb\"><img src=\"../../../../../../__pv_it/common/c06c606ec12678c58933ac85412ecadc2ae28be60/expr.png\" style=\"display:inline;vertical-align:middle;\" /></a></td></tr>\n",
       "<tr><td>35</td><td>Variable</td><td></td><td><a class=\"ProveItLink\" href=\"../../../../../../__pv_it/common/195236b98c6c564a75b5dbada74b173bc52d5c3e0/expr.ipynb\"><img src=\"../../../../../../__pv_it/common/195236b98c6c564a75b5dbada74b173bc52d5c3e0/expr.png\" style=\"display:inline;vertical-align:middle;\" /></a></td></tr>\n",
       "<tr><td>36</td><td>Variable</td><td></td><td><a class=\"ProveItLink\" href=\"../../../../../../__pv_it/common/ceef4280a2f1cc604b455b54e735507244cc62cd0/expr.ipynb\"><img src=\"../../../../../../__pv_it/common/ceef4280a2f1cc604b455b54e735507244cc62cd0/expr.png\" style=\"display:inline;vertical-align:middle;\" /></a></td></tr>\n",
       "<tr><td>37</td><td>Variable</td><td></td><td><a class=\"ProveItLink\" href=\"../../../../../../__pv_it/common/4f5c524ffda87296de1c79b96880123fe2efedd50/expr.ipynb\"><img src=\"../../../../../../__pv_it/common/4f5c524ffda87296de1c79b96880123fe2efedd50/expr.png\" style=\"display:inline;vertical-align:middle;\" /></a></td></tr>\n",
       "</table>\n"
      ],
      "text/plain": [
       "0. ((a, b, c, d) -> {{b .. c} proper_subset {a .. d} if a in Integer ,  b in Integer ,  c in Integer ,  d in Integer ,  a < b <= c < d.)\n",
       "   core type: ExprTuple\n",
       "   sub-expressions: 1\n",
       "1. (a, b, c, d) -> {{b .. c} proper_subset {a .. d} if a in Integer ,  b in Integer ,  c in Integer ,  d in Integer ,  a < b <= c < d.\n",
       "   core type: Lambda\n",
       "   parameters: 2\\n   body: 3\n",
       "2. (a, b, c, d)\n",
       "   core type: ExprTuple\n",
       "   sub-expressions: 34, 35, 36, 37\n",
       "3. {{b .. c} proper_subset {a .. d} if a in Integer ,  b in Integer ,  c in Integer ,  d in Integer ,  a < b <= c < d.\n",
       "   core type: Conditional\n",
       "   value: 4\n",
       "   condition: 5\n",
       "4. {b .. c} proper_subset {a .. d}\n",
       "   core type: Operation\n",
       "   operator: 6\n",
       "   operands: 7\n",
       "5. (a in Integer) and (b in Integer) and (c in Integer) and (d in Integer) and (a < b <= c < d)\n",
       "   core type: Operation\n",
       "   operator: 23\n",
       "   operands: 8\n",
       "6. proper_subset\n",
       "   core type: Literal\n",
       "   sub-expressions: \n",
       "7. ({b .. c}, {a .. d})\n",
       "   core type: ExprTuple\n",
       "   sub-expressions: 9, 10\n",
       "8. (a in Integer, b in Integer, c in Integer, d in Integer, a < b <= c < d)\n",
       "   core type: ExprTuple\n",
       "   sub-expressions: 11, 12, 13, 14, 15\n",
       "9. {b .. c}\n",
       "   core type: Operation\n",
       "   operator: 16\n",
       "   operands: 31\n",
       "10. {a .. d}\n",
       "    core type: Operation\n",
       "    operator: 16\n",
       "    operands: 17\n",
       "11. a in Integer\n",
       "    core type: Operation\n",
       "    operator: 21\n",
       "    operands: 18\n",
       "12. b in Integer\n",
       "    core type: Operation\n",
       "    operator: 21\n",
       "    operands: 19\n",
       "13. c in Integer\n",
       "    core type: Operation\n",
       "    operator: 21\n",
       "    operands: 20\n",
       "14. d in Integer\n",
       "    core type: Operation\n",
       "    operator: 21\n",
       "    operands: 22\n",
       "15. a < b <= c < d\n",
       "    core type: Operation\n",
       "    operator: 23\n",
       "    operands: 24\n",
       "16. Interval\n",
       "    core type: Literal\n",
       "    sub-expressions: \n",
       "17. (a, d)\n",
       "    core type: ExprTuple\n",
       "    sub-expressions: 34, 37\n",
       "18. (a, Integer)\n",
       "    core type: ExprTuple\n",
       "    sub-expressions: 34, 25\n",
       "19. (b, Integer)\n",
       "    core type: ExprTuple\n",
       "    sub-expressions: 35, 25\n",
       "20. (c, Integer)\n",
       "    core type: ExprTuple\n",
       "    sub-expressions: 36, 25\n",
       "21. in\n",
       "    core type: Literal\n",
       "    sub-expressions: \n",
       "22. (d, Integer)\n",
       "    core type: ExprTuple\n",
       "    sub-expressions: 37, 25\n",
       "23. and\n",
       "    core type: Literal\n",
       "    sub-expressions: \n",
       "24. (a < b, b <= c, c < d)\n",
       "    core type: ExprTuple\n",
       "    sub-expressions: 26, 27, 28\n",
       "25. Integer\n",
       "    core type: Literal\n",
       "    sub-expressions: \n",
       "26. a < b\n",
       "    core type: Operation\n",
       "    operator: 32\n",
       "    operands: 29\n",
       "27. b <= c\n",
       "    core type: Operation\n",
       "    operator: 30\n",
       "    operands: 31\n",
       "28. c < d\n",
       "    core type: Operation\n",
       "    operator: 32\n",
       "    operands: 33\n",
       "29. (a, b)\n",
       "    core type: ExprTuple\n",
       "    sub-expressions: 34, 35\n",
       "30. <=\n",
       "    core type: Literal\n",
       "    sub-expressions: \n",
       "31. (b, c)\n",
       "    core type: ExprTuple\n",
       "    sub-expressions: 35, 36\n",
       "32. <\n",
       "    core type: Literal\n",
       "    sub-expressions: \n",
       "33. (c, d)\n",
       "    core type: ExprTuple\n",
       "    sub-expressions: 36, 37\n",
       "34. a\n",
       "    core type: Variable\n",
       "    sub-expressions: \n",
       "35. b\n",
       "    core type: Variable\n",
       "    sub-expressions: \n",
       "36. c\n",
       "    core type: Variable\n",
       "    sub-expressions: \n",
       "37. d\n",
       "    core type: Variable\n",
       "    sub-expressions: "
      ]
     },
     "metadata": {},
     "output_type": "display_data"
    }
   ],
   "source": [
    "# display the expression information\n",
    "stored_expr.expr_info()"
   ]
  },
  {
   "cell_type": "code",
   "execution_count": null,
   "metadata": {},
   "outputs": [],
   "source": []
  }
 ],
 "metadata": {
  "kernelspec": {
   "display_name": "Python 3",
   "language": "python",
   "name": "python3"
  }
 },
 "nbformat": 4,
 "nbformat_minor": 0
}