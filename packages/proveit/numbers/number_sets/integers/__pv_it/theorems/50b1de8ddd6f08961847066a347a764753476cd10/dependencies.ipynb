{
 "cells": [
  {
   "cell_type": "markdown",
   "metadata": {},
   "source": [
    "Theorem Dependencies\n",
    "=======================\n",
    "\n",
    "## <a class=\"ProveItLink\" href=\"../../../_theory_nbs_/theory.ipynb\">proveit.numbers.number_sets.integers</a>.<a class=\"ProveItLink\" href=\"../../../_theorems_.ipynb#interval_lower_bound\">interval_lower_bound</a> \n",
    "***see <a class=\"ProveItLink\" href=\"../../../_theory_nbs_/proofs/interval_lower_bound/thm_proof.ipynb\">proof</a>***"
   ]
  },
  {
   "cell_type": "code",
   "execution_count": 1,
   "metadata": {},
   "outputs": [],
   "source": [
    "import proveit\n",
    "# Automation is not needed when querying dependencies:\n",
    "proveit.defaults.automation = False # This will speed things up.\n",
    "proveit.defaults.inline_pngs = False # Makes files smaller.\n",
    "from proveit.numbers.number_sets.integers import interval_lower_bound"
   ]
  },
  {
   "cell_type": "code",
   "execution_count": 2,
   "metadata": {},
   "outputs": [
    {
     "data": {
      "text/html": [
       "<h3>Unproven conjectures required (directly or indirectly) to prove interval_lower_bound</h3>"
      ],
      "text/plain": [
       "<IPython.core.display.HTML object>"
      ]
     },
     "metadata": {},
     "output_type": "display_data"
    },
    {
     "data": {
      "text/html": [
       "<dl>"
      ],
      "text/plain": [
       "<IPython.core.display.HTML object>"
      ]
     },
     "metadata": {},
     "output_type": "display_data"
    },
    {
     "data": {
      "text/html": [
       "<dt><a class=\"ProveItLink\" href=\"../../../_theory_nbs_/proofs/interval_lower_bound/thm_proof.ipynb\">proveit.numbers.number_sets.integers.interval_lower_bound</a></dt><dd><a class=\"ProveItLink\" href=\"../43ac003b3e56bf75634c34aa8b8fd634ed9c093e0/expr.ipynb\"><img src=\"../43ac003b3e56bf75634c34aa8b8fd634ed9c093e0/expr.png\" style=\"display:inline;vertical-align:middle;\" /></a></dd>"
      ],
      "text/plain": [
       "<IPython.core.display.HTML object>"
      ]
     },
     "metadata": {},
     "output_type": "display_data"
    },
    {
     "data": {
      "text/html": [
       "</dl>"
      ],
      "text/plain": [
       "<IPython.core.display.HTML object>"
      ]
     },
     "metadata": {},
     "output_type": "display_data"
    },
    {
     "data": {
      "text/html": [
       "<h3>Theorems/conjectures that depend directly on interval_lower_bound</h3>"
      ],
      "text/plain": [
       "<IPython.core.display.HTML object>"
      ]
     },
     "metadata": {},
     "output_type": "display_data"
    },
    {
     "data": {
      "text/html": [
       "<dl>"
      ],
      "text/plain": [
       "<IPython.core.display.HTML object>"
      ]
     },
     "metadata": {},
     "output_type": "display_data"
    },
    {
     "data": {
      "text/html": [
       "<dt><a class=\"ProveItLink\" href=\"../../../../../../physics/quantum/QPE/_theory_nbs_/proofs/_delta_b_floor_diff_in_interval/thm_proof.ipynb\">proveit.physics.quantum.QPE._delta_b_floor_diff_in_interval</a></dt><dd><a class=\"ProveItLink\" href=\"../../../../../../physics/quantum/QPE/__pv_it/theorems/677e792593b37ab24ecd06f87d2df52cf4c74c420/expr.ipynb\"><img src=\"../../../../../../physics/quantum/QPE/__pv_it/theorems/677e792593b37ab24ecd06f87d2df52cf4c74c420/expr.png\" style=\"display:inline;vertical-align:middle;\" /></a></dd>"
      ],
      "text/plain": [
       "<IPython.core.display.HTML object>"
      ]
     },
     "metadata": {},
     "output_type": "display_data"
    },
    {
     "data": {
      "text/html": [
       "<dt><a class=\"ProveItLink\" href=\"../../../../../../physics/quantum/QPE/_theory_nbs_/proofs/_fail_sum/thm_proof.ipynb\">proveit.physics.quantum.QPE._fail_sum</a></dt><dd><a class=\"ProveItLink\" href=\"../../../../../../physics/quantum/QPE/__pv_it/theorems/efda8f561f3e9cc875e5c0e28271ead4dd9247f40/expr.ipynb\"><img src=\"../../../../../../physics/quantum/QPE/__pv_it/theorems/efda8f561f3e9cc875e5c0e28271ead4dd9247f40/expr.png\" style=\"display:inline;vertical-align:middle;\" /></a></dd>"
      ],
      "text/plain": [
       "<IPython.core.display.HTML object>"
      ]
     },
     "metadata": {},
     "output_type": "display_data"
    },
    {
     "data": {
      "text/html": [
       "<dt><a class=\"ProveItLink\" href=\"../../../../../../physics/quantum/QPE/_theory_nbs_/proofs/_fail_sum_prob_conds_equiv_lemma/thm_proof.ipynb\">proveit.physics.quantum.QPE._fail_sum_prob_conds_equiv_lemma</a></dt><dd><a class=\"ProveItLink\" href=\"../../../../../../physics/quantum/QPE/__pv_it/theorems/0a562497775decef0684b103fc6e5c149a6f3c490/expr.ipynb\"><img src=\"../../../../../../physics/quantum/QPE/__pv_it/theorems/0a562497775decef0684b103fc6e5c149a6f3c490/expr.png\" style=\"display:inline;vertical-align:middle;\" /></a></dd>"
      ],
      "text/plain": [
       "<IPython.core.display.HTML object>"
      ]
     },
     "metadata": {},
     "output_type": "display_data"
    },
    {
     "data": {
      "text/html": [
       "<dt><a class=\"ProveItLink\" href=\"../../../../../../physics/quantum/QPE/_theory_nbs_/proofs/_failure_upper_bound/thm_proof.ipynb\">proveit.physics.quantum.QPE._failure_upper_bound</a></dt><dd><a class=\"ProveItLink\" href=\"../../../../../../physics/quantum/QPE/__pv_it/theorems/a6157de4c5444c5a5dbbab9b2fcdbe64e328db540/expr.ipynb\"><img src=\"../../../../../../physics/quantum/QPE/__pv_it/theorems/a6157de4c5444c5a5dbbab9b2fcdbe64e328db540/expr.png\" style=\"display:inline;vertical-align:middle;\" /></a></dd>"
      ],
      "text/plain": [
       "<IPython.core.display.HTML object>"
      ]
     },
     "metadata": {},
     "output_type": "display_data"
    },
    {
     "data": {
      "text/html": [
       "<dt><a class=\"ProveItLink\" href=\"../../../../../../physics/quantum/QPE/_theory_nbs_/proofs/_failure_upper_bound_lemma/thm_proof.ipynb\">proveit.physics.quantum.QPE._failure_upper_bound_lemma</a></dt><dd><a class=\"ProveItLink\" href=\"../../../../../../physics/quantum/QPE/__pv_it/theorems/deaded043dfbcaa1fdfb156f013d0f6926d302040/expr.ipynb\"><img src=\"../../../../../../physics/quantum/QPE/__pv_it/theorems/deaded043dfbcaa1fdfb156f013d0f6926d302040/expr.png\" style=\"display:inline;vertical-align:middle;\" /></a></dd>"
      ],
      "text/plain": [
       "<IPython.core.display.HTML object>"
      ]
     },
     "metadata": {},
     "output_type": "display_data"
    },
    {
     "data": {
      "text/html": [
       "<dt><a class=\"ProveItLink\" href=\"../../../../../../physics/quantum/QPE/_theory_nbs_/proofs/_modabs_in_full_domain_simp/thm_proof.ipynb\">proveit.physics.quantum.QPE._modabs_in_full_domain_simp</a></dt><dd><a class=\"ProveItLink\" href=\"../../../../../../physics/quantum/QPE/__pv_it/theorems/0fb99394f15210ee297c213071cd6210cf67fb1a0/expr.ipynb\"><img src=\"../../../../../../physics/quantum/QPE/__pv_it/theorems/0fb99394f15210ee297c213071cd6210cf67fb1a0/expr.png\" style=\"display:inline;vertical-align:middle;\" /></a></dd>"
      ],
      "text/plain": [
       "<IPython.core.display.HTML object>"
      ]
     },
     "metadata": {},
     "output_type": "display_data"
    },
    {
     "data": {
      "text/html": [
       "<dt><a class=\"ProveItLink\" href=\"../../../../../../physics/quantum/QPE/_theory_nbs_/proofs/_non_int_delta_b_diff/thm_proof.ipynb\">proveit.physics.quantum.QPE._non_int_delta_b_diff</a></dt><dd><a class=\"ProveItLink\" href=\"../../../../../../physics/quantum/QPE/__pv_it/theorems/e071bc293a5f27954f9d2713c99a47a7e73843a90/expr.ipynb\"><img src=\"../../../../../../physics/quantum/QPE/__pv_it/theorems/e071bc293a5f27954f9d2713c99a47a7e73843a90/expr.png\" style=\"display:inline;vertical-align:middle;\" /></a></dd>"
      ],
      "text/plain": [
       "<IPython.core.display.HTML object>"
      ]
     },
     "metadata": {},
     "output_type": "display_data"
    },
    {
     "data": {
      "text/html": [
       "<dt><a class=\"ProveItLink\" href=\"../../../../../../physics/quantum/QPE/_theory_nbs_/proofs/_precision_guarantee/thm_proof.ipynb\">proveit.physics.quantum.QPE._precision_guarantee</a></dt><dd><a class=\"ProveItLink\" href=\"../../../../../../physics/quantum/QPE/__pv_it/theorems/faf28ac0959c329529068cc213adcda8cf3356a80/expr.ipynb\"><img src=\"../../../../../../physics/quantum/QPE/__pv_it/theorems/faf28ac0959c329529068cc213adcda8cf3356a80/expr.png\" style=\"display:inline;vertical-align:middle;\" /></a></dd>"
      ],
      "text/plain": [
       "<IPython.core.display.HTML object>"
      ]
     },
     "metadata": {},
     "output_type": "display_data"
    },
    {
     "data": {
      "text/html": [
       "<dt><a class=\"ProveItLink\" href=\"../../../../../../physics/quantum/QPE/_theory_nbs_/proofs/_psi_t_formula/thm_proof.ipynb\">proveit.physics.quantum.QPE._psi_t_formula</a></dt><dd><a class=\"ProveItLink\" href=\"../../../../../../physics/quantum/QPE/__pv_it/theorems/a88ec0c8744e13505b853b6e58491d95dad52e200/expr.ipynb\"><img src=\"../../../../../../physics/quantum/QPE/__pv_it/theorems/a88ec0c8744e13505b853b6e58491d95dad52e200/expr.png\" style=\"display:inline;vertical-align:middle;\" /></a></dd>"
      ],
      "text/plain": [
       "<IPython.core.display.HTML object>"
      ]
     },
     "metadata": {},
     "output_type": "display_data"
    },
    {
     "data": {
      "text/html": [
       "<dt><a class=\"ProveItLink\" href=\"../../../../../../physics/quantum/QPE/_theory_nbs_/proofs/_psi_t_output/thm_proof.ipynb\">proveit.physics.quantum.QPE._psi_t_output</a></dt><dd><a class=\"ProveItLink\" href=\"../../../../../../physics/quantum/QPE/__pv_it/theorems/9b181729ed3394d57688549d190362cf6d9b29160/expr.ipynb\"><img src=\"../../../../../../physics/quantum/QPE/__pv_it/theorems/9b181729ed3394d57688549d190362cf6d9b29160/expr.png\" style=\"display:inline;vertical-align:middle;\" /></a></dd>"
      ],
      "text/plain": [
       "<IPython.core.display.HTML object>"
      ]
     },
     "metadata": {},
     "output_type": "display_data"
    },
    {
     "data": {
      "text/html": [
       "<dt><a class=\"ProveItLink\" href=\"../../../../../../physics/quantum/QPE/_theory_nbs_/proofs/_sample_space_bijection/thm_proof.ipynb\">proveit.physics.quantum.QPE._sample_space_bijection</a></dt><dd><a class=\"ProveItLink\" href=\"../../../../../../physics/quantum/QPE/__pv_it/theorems/91fba8b309d1fbf4f0fe0f0926d36af207e4f2da0/expr.ipynb\"><img src=\"../../../../../../physics/quantum/QPE/__pv_it/theorems/91fba8b309d1fbf4f0fe0f0926d36af207e4f2da0/expr.png\" style=\"display:inline;vertical-align:middle;\" /></a></dd>"
      ],
      "text/plain": [
       "<IPython.core.display.HTML object>"
      ]
     },
     "metadata": {},
     "output_type": "display_data"
    },
    {
     "data": {
      "text/html": [
       "<dt><a class=\"ProveItLink\" href=\"../../../../../../physics/quantum/QPE/_theory_nbs_/proofs/qpe_exact/thm_proof.ipynb\">proveit.physics.quantum.QPE.qpe_exact</a></dt><dd><a class=\"ProveItLink\" href=\"../../../../../../physics/quantum/QPE/__pv_it/theorems/b73c4ff6bfd18ba9166f0172982a08810e6339660/expr.ipynb\"><img src=\"../../../../../../physics/quantum/QPE/__pv_it/theorems/b73c4ff6bfd18ba9166f0172982a08810e6339660/expr.png\" style=\"display:inline;vertical-align:middle;\" /></a></dd>"
      ],
      "text/plain": [
       "<IPython.core.display.HTML object>"
      ]
     },
     "metadata": {},
     "output_type": "display_data"
    },
    {
     "data": {
      "text/html": [
       "</dl>"
      ],
      "text/plain": [
       "<IPython.core.display.HTML object>"
      ]
     },
     "metadata": {},
     "output_type": "display_data"
    }
   ],
   "source": [
    "%dependencies interval_lower_bound"
   ]
  }
 ],
 "metadata": {
  "kernelspec": {
   "display_name": "Python 3",
   "language": "python",
   "name": "python3"
  }
 },
 "nbformat": 4,
 "nbformat_minor": 0
}