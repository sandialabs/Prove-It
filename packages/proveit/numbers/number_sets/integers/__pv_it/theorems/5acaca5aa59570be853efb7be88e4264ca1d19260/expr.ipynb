{
 "cells": [
  {
   "cell_type": "markdown",
   "metadata": {},
   "source": [
    "Expression of type <a class=\"ProveItLink\" href=\"../../../../../../../../doc/html/api/proveit.logic.Forall.html\">Forall</a>\n",
    "=======================\n",
    "# from the theory of <a class=\"ProveItLink\" href=\"../../../_theory_nbs_/theory.ipynb\">proveit.numbers.number_sets.integers</a>"
   ]
  },
  {
   "cell_type": "code",
   "execution_count": 1,
   "metadata": {},
   "outputs": [],
   "source": [
    "import proveit\n",
    "# Automation is not needed when building an expression:\n",
    "proveit.defaults.automation = False # This will speed things up.\n",
    "proveit.defaults.inline_pngs = False # Makes files smaller.\n",
    "%load_expr # Load the stored expression as 'stored_expr'\n",
    "# import Expression classes needed to build the expression\n",
    "from proveit import a, b, x\n",
    "from proveit.logic import Forall, NotInSet\n",
    "from proveit.numbers import Complex, Integer, Interval"
   ]
  },
  {
   "cell_type": "code",
   "execution_count": 2,
   "metadata": {},
   "outputs": [
    {
     "data": {
      "text/html": [
       "<strong id=\"expr\">expr:</strong> <a class=\"ProveItLink\" href=\"expr.ipynb\"><img src=\"expr.png\" style=\"display:inline;vertical-align:middle;\" /></a><br>"
      ],
      "text/plain": [
       "<IPython.core.display.HTML object>"
      ]
     },
     "metadata": {},
     "output_type": "display_data"
    }
   ],
   "source": [
    "# build up the expression from sub-expressions\n",
    "expr = Forall(instance_param_or_params = [a, b], instance_expr = Forall(instance_param_or_params = [x], instance_expr = NotInSet(x, Interval(a, b)), domain = Complex, condition = NotInSet(x, Integer)), domain = Integer)"
   ]
  },
  {
   "cell_type": "code",
   "execution_count": 3,
   "metadata": {},
   "outputs": [
    {
     "name": "stdout",
     "output_type": "stream",
     "text": [
      "Passed sanity check: expr matches stored_expr\n"
     ]
    }
   ],
   "source": [
    "# check that the built expression is the same as the stored expression\n",
    "assert expr == stored_expr\n",
    "assert expr._style_id == stored_expr._style_id\n",
    "print(\"Passed sanity check: expr matches stored_expr\")"
   ]
  },
  {
   "cell_type": "code",
   "execution_count": 4,
   "metadata": {},
   "outputs": [
    {
     "name": "stdout",
     "output_type": "stream",
     "text": [
      "\\forall_{a, b \\in \\mathbb{Z}}~\\left[\\forall_{x \\in \\mathbb{C}~|~x \\notin \\mathbb{Z}}~\\left(x \\notin \\{a~\\ldotp \\ldotp~b\\}\\right)\\right]\n"
     ]
    }
   ],
   "source": [
    "# Show the LaTeX representation of the expression for convenience if you need it.\n",
    "print(stored_expr.latex())"
   ]
  },
  {
   "cell_type": "code",
   "execution_count": 5,
   "metadata": {},
   "outputs": [
    {
     "data": {
      "text/html": [
       "<table>\n",
       "<tr><th>name</th><th>description</th><th>default</th><th>current value</th><th>related methods</th></tr><tr><td>with_wrapping</td><td>If 'True', wrap the Expression after the parameters</td><td>None</td><td>None/False</td><td>('with_wrapping',)</td></tr>\n",
       "<tr><td>condition_wrapping</td><td>Wrap 'before' or 'after' the condition (or None).</td><td>None</td><td>None/False</td><td>('with_wrap_after_condition', 'with_wrap_before_condition')</td></tr>\n",
       "<tr><td>wrap_params</td><td>If 'True', wraps every two parameters AND wraps the Expression after the parameters</td><td>None</td><td>None/False</td><td>('with_params',)</td></tr>\n",
       "<tr><td>justification</td><td>justify to the 'left', 'center', or 'right' in the array cells</td><td>center</td><td>center</td><td>('with_justification',)</td></tr>\n",
       "</table>\n"
      ],
      "text/plain": [
       "style name: with_wrapping\n",
       "description: If 'True', wrap the Expression after the parameters\n",
       "default: None\n",
       "current value: None/False\n",
       "related methods: ('with_wrapping',)\n",
       "style name: condition_wrapping\n",
       "description: Wrap 'before' or 'after' the condition (or None).\n",
       "default: None\n",
       "current value: None/False\n",
       "related methods: ('with_wrap_after_condition', 'with_wrap_before_condition')\n",
       "style name: wrap_params\n",
       "description: If 'True', wraps every two parameters AND wraps the Expression after the parameters\n",
       "default: None\n",
       "current value: None/False\n",
       "related methods: ('with_params',)\n",
       "style name: justification\n",
       "description: justify to the 'left', 'center', or 'right' in the array cells\n",
       "default: center\n",
       "current value: center\n",
       "related methods: ('with_justification',)"
      ]
     },
     "metadata": {},
     "output_type": "display_data"
    }
   ],
   "source": [
    "stored_expr.style_options()"
   ]
  },
  {
   "cell_type": "code",
   "execution_count": 6,
   "metadata": {},
   "outputs": [
    {
     "data": {
      "text/html": [
       "<table><tr><th>&nbsp;</th><th>core type</th><th>sub-expressions</th><th>expression</th></tr>\n",
       "<tr><td>0</td><td>Operation</td><td>operator:&nbsp;6<br>operand:&nbsp;2<br></td><td><a class=\"ProveItLink\" href=\"expr.ipynb\"><img src=\"expr.png\" style=\"display:inline;vertical-align:middle;\" /></a></td></tr>\n",
       "<tr><td>1</td><td>ExprTuple</td><td>2</td><td><a class=\"ProveItLink\" href=\"../4ebb65f84626a6c7dc98b30d9c9750c4a9a4ea830/expr.ipynb\"><img src=\"../4ebb65f84626a6c7dc98b30d9c9750c4a9a4ea830/expr.png\" style=\"display:inline;vertical-align:middle;\" /></a></td></tr>\n",
       "<tr><td>2</td><td>Lambda</td><td>parameters:&nbsp;25<br>body:&nbsp;3<br></td><td><a class=\"ProveItLink\" href=\"../da55cdc04991725eb432a8b4f14526fd9649c00c0/expr.ipynb\"><img src=\"../da55cdc04991725eb432a8b4f14526fd9649c00c0/expr.png\" style=\"display:inline;vertical-align:middle;\" /></a></td></tr>\n",
       "<tr><td>3</td><td>Conditional</td><td>value:&nbsp;4<br>condition:&nbsp;5<br></td><td><a class=\"ProveItLink\" href=\"../494f79f56cb63b34098e19508568f72a2ba3c3b90/expr.ipynb\"><img src=\"../494f79f56cb63b34098e19508568f72a2ba3c3b90/expr.png\" style=\"display:inline;vertical-align:middle;\" /></a></td></tr>\n",
       "<tr><td>4</td><td>Operation</td><td>operator:&nbsp;6<br>operand:&nbsp;9<br></td><td><a class=\"ProveItLink\" href=\"../5cdbdf26b22e4c10457bc1627548debaf1ccfb190/expr.ipynb\"><img src=\"../5cdbdf26b22e4c10457bc1627548debaf1ccfb190/expr.png\" style=\"display:inline;vertical-align:middle;\" /></a></td></tr>\n",
       "<tr><td>5</td><td>Operation</td><td>operator:&nbsp;19<br>operands:&nbsp;8<br></td><td><a class=\"ProveItLink\" href=\"../a34637898a66d07d2050dc04dcc3aa65318dbbe30/expr.ipynb\"><img src=\"../a34637898a66d07d2050dc04dcc3aa65318dbbe30/expr.png\" style=\"display:inline;vertical-align:middle;\" /></a></td></tr>\n",
       "<tr><td>6</td><td>Literal</td><td></td><td><a class=\"ProveItLink\" href=\"../../../../../../logic/booleans/quantification/universality/__pv_it/common/083d2baa0b8ecab1d230f9ec29a15aa1355809fb0/expr.ipynb\"><img src=\"../../../../../../logic/booleans/quantification/universality/__pv_it/common/083d2baa0b8ecab1d230f9ec29a15aa1355809fb0/expr.png\" style=\"display:inline;vertical-align:middle;\" /></a></td></tr>\n",
       "<tr><td>7</td><td>ExprTuple</td><td>9</td><td><a class=\"ProveItLink\" href=\"../f755891f792fd093b0be5aab9c432dc71ebc02540/expr.ipynb\"><img src=\"../f755891f792fd093b0be5aab9c432dc71ebc02540/expr.png\" style=\"display:inline;vertical-align:middle;\" /></a></td></tr>\n",
       "<tr><td>8</td><td>ExprTuple</td><td>10, 11</td><td><a class=\"ProveItLink\" href=\"../be95ca16f658ac1132bbff0d344e1a9a1d93eef00/expr.ipynb\"><img src=\"../be95ca16f658ac1132bbff0d344e1a9a1d93eef00/expr.png\" style=\"display:inline;vertical-align:middle;\" /></a></td></tr>\n",
       "<tr><td>9</td><td>Lambda</td><td>parameter:&nbsp;33<br>body:&nbsp;13<br></td><td><a class=\"ProveItLink\" href=\"../621db661e1cec23ffc27b9a75f0aed190e6369060/expr.ipynb\"><img src=\"../621db661e1cec23ffc27b9a75f0aed190e6369060/expr.png\" style=\"display:inline;vertical-align:middle;\" /></a></td></tr>\n",
       "<tr><td>10</td><td>Operation</td><td>operator:&nbsp;26<br>operands:&nbsp;14<br></td><td><a class=\"ProveItLink\" href=\"../d82a9927958f2919b6e25fa4d8e512f4047160210/expr.ipynb\"><img src=\"../d82a9927958f2919b6e25fa4d8e512f4047160210/expr.png\" style=\"display:inline;vertical-align:middle;\" /></a></td></tr>\n",
       "<tr><td>11</td><td>Operation</td><td>operator:&nbsp;26<br>operands:&nbsp;15<br></td><td><a class=\"ProveItLink\" href=\"../f7f8f0c7b17df91c5737500a28a9355fd753ce490/expr.ipynb\"><img src=\"../f7f8f0c7b17df91c5737500a28a9355fd753ce490/expr.png\" style=\"display:inline;vertical-align:middle;\" /></a></td></tr>\n",
       "<tr><td>12</td><td>ExprTuple</td><td>33</td><td><a class=\"ProveItLink\" href=\"../../../../../../__pv_it/common/eacfeccc0521684fcb20fe8f5180ac50fca471f20/expr.ipynb\"><img src=\"../../../../../../__pv_it/common/eacfeccc0521684fcb20fe8f5180ac50fca471f20/expr.png\" style=\"display:inline;vertical-align:middle;\" /></a></td></tr>\n",
       "<tr><td>13</td><td>Conditional</td><td>value:&nbsp;16<br>condition:&nbsp;17<br></td><td><a class=\"ProveItLink\" href=\"../cc2fd517f8c7f52ab8e767dbcf519b662929b3c30/expr.ipynb\"><img src=\"../cc2fd517f8c7f52ab8e767dbcf519b662929b3c30/expr.png\" style=\"display:inline;vertical-align:middle;\" /></a></td></tr>\n",
       "<tr><td>14</td><td>ExprTuple</td><td>30, 34</td><td><a class=\"ProveItLink\" href=\"../97b45a1fbe99ac9f6d293ef01d81cb055e55a0b70/expr.ipynb\"><img src=\"../97b45a1fbe99ac9f6d293ef01d81cb055e55a0b70/expr.png\" style=\"display:inline;vertical-align:middle;\" /></a></td></tr>\n",
       "<tr><td>15</td><td>ExprTuple</td><td>31, 34</td><td><a class=\"ProveItLink\" href=\"../b896942be85cc9d2a231f0f6e45f54495eac256e0/expr.ipynb\"><img src=\"../b896942be85cc9d2a231f0f6e45f54495eac256e0/expr.png\" style=\"display:inline;vertical-align:middle;\" /></a></td></tr>\n",
       "<tr><td>16</td><td>Operation</td><td>operator:&nbsp;28<br>operands:&nbsp;18<br></td><td><a class=\"ProveItLink\" href=\"../6febb9bcda7444845fd9307cd9ef3b0b3de06e590/expr.ipynb\"><img src=\"../6febb9bcda7444845fd9307cd9ef3b0b3de06e590/expr.png\" style=\"display:inline;vertical-align:middle;\" /></a></td></tr>\n",
       "<tr><td>17</td><td>Operation</td><td>operator:&nbsp;19<br>operands:&nbsp;20<br></td><td><a class=\"ProveItLink\" href=\"../39acb4992bdf85be176f87e16f8fb9e96e9bb3a00/expr.ipynb\"><img src=\"../39acb4992bdf85be176f87e16f8fb9e96e9bb3a00/expr.png\" style=\"display:inline;vertical-align:middle;\" /></a></td></tr>\n",
       "<tr><td>18</td><td>ExprTuple</td><td>33, 21</td><td><a class=\"ProveItLink\" href=\"../61bc318e2f16a047b3d44c1dffbd1b059e49cb500/expr.ipynb\"><img src=\"../61bc318e2f16a047b3d44c1dffbd1b059e49cb500/expr.png\" style=\"display:inline;vertical-align:middle;\" /></a></td></tr>\n",
       "<tr><td>19</td><td>Literal</td><td></td><td><a class=\"ProveItLink\" href=\"../../../../../../logic/booleans/conjunction/__pv_it/common/42118ff318bd65d98b1393f64ce7c2269feef76e0/expr.ipynb\"><img src=\"../../../../../../logic/booleans/conjunction/__pv_it/common/42118ff318bd65d98b1393f64ce7c2269feef76e0/expr.png\" style=\"display:inline;vertical-align:middle;\" /></a></td></tr>\n",
       "<tr><td>20</td><td>ExprTuple</td><td>22, 23</td><td><a class=\"ProveItLink\" href=\"../67df1c4151030a1b7e41624556880ffc97887fc80/expr.ipynb\"><img src=\"../67df1c4151030a1b7e41624556880ffc97887fc80/expr.png\" style=\"display:inline;vertical-align:middle;\" /></a></td></tr>\n",
       "<tr><td>21</td><td>Operation</td><td>operator:&nbsp;24<br>operands:&nbsp;25<br></td><td><a class=\"ProveItLink\" href=\"../fe7f8dd58877e879d5073aaad14f8314754d17bf0/expr.ipynb\"><img src=\"../fe7f8dd58877e879d5073aaad14f8314754d17bf0/expr.png\" style=\"display:inline;vertical-align:middle;\" /></a></td></tr>\n",
       "<tr><td>22</td><td>Operation</td><td>operator:&nbsp;26<br>operands:&nbsp;27<br></td><td><a class=\"ProveItLink\" href=\"../6bf1a18c2e3498be826f1c5ef7caab578b7ee8c80/expr.ipynb\"><img src=\"../6bf1a18c2e3498be826f1c5ef7caab578b7ee8c80/expr.png\" style=\"display:inline;vertical-align:middle;\" /></a></td></tr>\n",
       "<tr><td>23</td><td>Operation</td><td>operator:&nbsp;28<br>operands:&nbsp;29<br></td><td><a class=\"ProveItLink\" href=\"../07b9354e9dfb4d5152d73def336f3b00cd7869be0/expr.ipynb\"><img src=\"../07b9354e9dfb4d5152d73def336f3b00cd7869be0/expr.png\" style=\"display:inline;vertical-align:middle;\" /></a></td></tr>\n",
       "<tr><td>24</td><td>Literal</td><td></td><td><a class=\"ProveItLink\" href=\"../../common/92f3a0a77e3c3ea8e4a5c8674edadc54e4f57d550/expr.ipynb\"><img src=\"../../common/92f3a0a77e3c3ea8e4a5c8674edadc54e4f57d550/expr.png\" style=\"display:inline;vertical-align:middle;\" /></a></td></tr>\n",
       "<tr><td>25</td><td>ExprTuple</td><td>30, 31</td><td><a class=\"ProveItLink\" href=\"../3dcd5ceea6334d8cb48fe14fdae236293aa9a6050/expr.ipynb\"><img src=\"../3dcd5ceea6334d8cb48fe14fdae236293aa9a6050/expr.png\" style=\"display:inline;vertical-align:middle;\" /></a></td></tr>\n",
       "<tr><td>26</td><td>Literal</td><td></td><td><a class=\"ProveItLink\" href=\"../../../../../../logic/sets/membership/__pv_it/common/477487d8796864d23d5810f83761435f25167f690/expr.ipynb\"><img src=\"../../../../../../logic/sets/membership/__pv_it/common/477487d8796864d23d5810f83761435f25167f690/expr.png\" style=\"display:inline;vertical-align:middle;\" /></a></td></tr>\n",
       "<tr><td>27</td><td>ExprTuple</td><td>33, 32</td><td><a class=\"ProveItLink\" href=\"../505878fa9838807620aac15f1fd613f2c081d7060/expr.ipynb\"><img src=\"../505878fa9838807620aac15f1fd613f2c081d7060/expr.png\" style=\"display:inline;vertical-align:middle;\" /></a></td></tr>\n",
       "<tr><td>28</td><td>Literal</td><td></td><td><a class=\"ProveItLink\" href=\"../../../../../../logic/sets/membership/__pv_it/common/f4affea88ec78899b0259567586c16d1e6a484950/expr.ipynb\"><img src=\"../../../../../../logic/sets/membership/__pv_it/common/f4affea88ec78899b0259567586c16d1e6a484950/expr.png\" style=\"display:inline;vertical-align:middle;\" /></a></td></tr>\n",
       "<tr><td>29</td><td>ExprTuple</td><td>33, 34</td><td><a class=\"ProveItLink\" href=\"../ff5ccc96d0439bcf8db1e7a0686c1c50d0f9c3d50/expr.ipynb\"><img src=\"../ff5ccc96d0439bcf8db1e7a0686c1c50d0f9c3d50/expr.png\" style=\"display:inline;vertical-align:middle;\" /></a></td></tr>\n",
       "<tr><td>30</td><td>Variable</td><td></td><td><a class=\"ProveItLink\" href=\"../../../../../../__pv_it/common/c06c606ec12678c58933ac85412ecadc2ae28be60/expr.ipynb\"><img src=\"../../../../../../__pv_it/common/c06c606ec12678c58933ac85412ecadc2ae28be60/expr.png\" style=\"display:inline;vertical-align:middle;\" /></a></td></tr>\n",
       "<tr><td>31</td><td>Variable</td><td></td><td><a class=\"ProveItLink\" href=\"../../../../../../__pv_it/common/195236b98c6c564a75b5dbada74b173bc52d5c3e0/expr.ipynb\"><img src=\"../../../../../../__pv_it/common/195236b98c6c564a75b5dbada74b173bc52d5c3e0/expr.png\" style=\"display:inline;vertical-align:middle;\" /></a></td></tr>\n",
       "<tr><td>32</td><td>Literal</td><td></td><td><a class=\"ProveItLink\" href=\"../../../../complex_numbers/__pv_it/common/d18a028138f659eda00de597c28a3447fe87eb100/expr.ipynb\"><img src=\"../../../../complex_numbers/__pv_it/common/d18a028138f659eda00de597c28a3447fe87eb100/expr.png\" style=\"display:inline;vertical-align:middle;\" /></a></td></tr>\n",
       "<tr><td>33</td><td>Variable</td><td></td><td><a class=\"ProveItLink\" href=\"../../../../../../__pv_it/common/a0d9d672aa5e272d907247690c152cc2c6daafb70/expr.ipynb\"><img src=\"../../../../../../__pv_it/common/a0d9d672aa5e272d907247690c152cc2c6daafb70/expr.png\" style=\"display:inline;vertical-align:middle;\" /></a></td></tr>\n",
       "<tr><td>34</td><td>Literal</td><td></td><td><a class=\"ProveItLink\" href=\"../../common/e6b4e90f9467053e055a4fd2f735c0bb79cb79300/expr.ipynb\"><img src=\"../../common/e6b4e90f9467053e055a4fd2f735c0bb79cb79300/expr.png\" style=\"display:inline;vertical-align:middle;\" /></a></td></tr>\n",
       "</table>\n"
      ],
      "text/plain": [
       "0. forall_{a, b in Integer} [forall_{x in Complex | x not-in Integer} (x not-in {a .. b})]\n",
       "   core type: Operation\n",
       "   operator: 6\n",
       "   operand: 2\n",
       "1. ((a, b) -> {forall_{x in Complex | x not-in Integer} (x not-in {a .. b}) if a in Integer ,  b in Integer.)\n",
       "   core type: ExprTuple\n",
       "   sub-expressions: 2\n",
       "2. (a, b) -> {forall_{x in Complex | x not-in Integer} (x not-in {a .. b}) if a in Integer ,  b in Integer.\n",
       "   core type: Lambda\n",
       "   parameters: 25\\n   body: 3\n",
       "3. {forall_{x in Complex | x not-in Integer} (x not-in {a .. b}) if a in Integer ,  b in Integer.\n",
       "   core type: Conditional\n",
       "   value: 4\n",
       "   condition: 5\n",
       "4. forall_{x in Complex | x not-in Integer} (x not-in {a .. b})\n",
       "   core type: Operation\n",
       "   operator: 6\n",
       "   operand: 9\n",
       "5. (a in Integer) and (b in Integer)\n",
       "   core type: Operation\n",
       "   operator: 19\n",
       "   operands: 8\n",
       "6. forall\n",
       "   core type: Literal\n",
       "   sub-expressions: \n",
       "7. (x -> {x not-in {a .. b} if x in Complex ,  x not-in Integer.)\n",
       "   core type: ExprTuple\n",
       "   sub-expressions: 9\n",
       "8. (a in Integer, b in Integer)\n",
       "   core type: ExprTuple\n",
       "   sub-expressions: 10, 11\n",
       "9. x -> {x not-in {a .. b} if x in Complex ,  x not-in Integer.\n",
       "   core type: Lambda\n",
       "   parameter: 33\n",
       "   body: 13\n",
       "10. a in Integer\n",
       "    core type: Operation\n",
       "    operator: 26\n",
       "    operands: 14\n",
       "11. b in Integer\n",
       "    core type: Operation\n",
       "    operator: 26\n",
       "    operands: 15\n",
       "12. (x)\n",
       "    core type: ExprTuple\n",
       "    sub-expressions: 33\n",
       "13. {x not-in {a .. b} if x in Complex ,  x not-in Integer.\n",
       "    core type: Conditional\n",
       "    value: 16\n",
       "    condition: 17\n",
       "14. (a, Integer)\n",
       "    core type: ExprTuple\n",
       "    sub-expressions: 30, 34\n",
       "15. (b, Integer)\n",
       "    core type: ExprTuple\n",
       "    sub-expressions: 31, 34\n",
       "16. x not-in {a .. b}\n",
       "    core type: Operation\n",
       "    operator: 28\n",
       "    operands: 18\n",
       "17. (x in Complex) and (x not-in Integer)\n",
       "    core type: Operation\n",
       "    operator: 19\n",
       "    operands: 20\n",
       "18. (x, {a .. b})\n",
       "    core type: ExprTuple\n",
       "    sub-expressions: 33, 21\n",
       "19. and\n",
       "    core type: Literal\n",
       "    sub-expressions: \n",
       "20. (x in Complex, x not-in Integer)\n",
       "    core type: ExprTuple\n",
       "    sub-expressions: 22, 23\n",
       "21. {a .. b}\n",
       "    core type: Operation\n",
       "    operator: 24\n",
       "    operands: 25\n",
       "22. x in Complex\n",
       "    core type: Operation\n",
       "    operator: 26\n",
       "    operands: 27\n",
       "23. x not-in Integer\n",
       "    core type: Operation\n",
       "    operator: 28\n",
       "    operands: 29\n",
       "24. Interval\n",
       "    core type: Literal\n",
       "    sub-expressions: \n",
       "25. (a, b)\n",
       "    core type: ExprTuple\n",
       "    sub-expressions: 30, 31\n",
       "26. in\n",
       "    core type: Literal\n",
       "    sub-expressions: \n",
       "27. (x, Complex)\n",
       "    core type: ExprTuple\n",
       "    sub-expressions: 33, 32\n",
       "28. not-in\n",
       "    core type: Literal\n",
       "    sub-expressions: \n",
       "29. (x, Integer)\n",
       "    core type: ExprTuple\n",
       "    sub-expressions: 33, 34\n",
       "30. a\n",
       "    core type: Variable\n",
       "    sub-expressions: \n",
       "31. b\n",
       "    core type: Variable\n",
       "    sub-expressions: \n",
       "32. Complex\n",
       "    core type: Literal\n",
       "    sub-expressions: \n",
       "33. x\n",
       "    core type: Variable\n",
       "    sub-expressions: \n",
       "34. Integer\n",
       "    core type: Literal\n",
       "    sub-expressions: "
      ]
     },
     "metadata": {},
     "output_type": "display_data"
    }
   ],
   "source": [
    "# display the expression information\n",
    "stored_expr.expr_info()"
   ]
  },
  {
   "cell_type": "code",
   "execution_count": null,
   "metadata": {},
   "outputs": [],
   "source": []
  }
 ],
 "metadata": {
  "kernelspec": {
   "display_name": "Python 3",
   "language": "python",
   "name": "python3"
  }
 },
 "nbformat": 4,
 "nbformat_minor": 0
}