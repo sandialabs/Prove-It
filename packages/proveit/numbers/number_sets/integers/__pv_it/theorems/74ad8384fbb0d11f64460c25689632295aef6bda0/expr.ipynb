{
 "cells": [
  {
   "cell_type": "markdown",
   "metadata": {},
   "source": [
    "Expression of type <a class=\"ProveItLink\" href=\"../../../../../../../../doc/html/api/proveit.ExprTuple.html\">ExprTuple</a>\n",
    "=======================\n",
    "# from the theory of <a class=\"ProveItLink\" href=\"../../../_theory_nbs_/theory.ipynb\">proveit.numbers.number_sets.integers</a>"
   ]
  },
  {
   "cell_type": "code",
   "execution_count": 1,
   "metadata": {},
   "outputs": [],
   "source": [
    "import proveit\n",
    "# Automation is not needed when building an expression:\n",
    "proveit.defaults.automation = False # This will speed things up.\n",
    "proveit.defaults.inline_pngs = False # Makes files smaller.\n",
    "%load_expr # Load the stored expression as 'stored_expr'\n",
    "# import Expression classes needed to build the expression\n",
    "from proveit import ExprTuple, a, b, c, d\n",
    "from proveit.logic import And, InSet\n",
    "from proveit.numbers import Integer, Less, LessEq"
   ]
  },
  {
   "cell_type": "code",
   "execution_count": 2,
   "metadata": {},
   "outputs": [
    {
     "data": {
      "text/html": [
       "<strong id=\"expr\">expr:</strong> <a class=\"ProveItLink\" href=\"expr.ipynb\"><img src=\"expr.png\" style=\"display:inline;vertical-align:middle;\" /></a><br>"
      ],
      "text/plain": [
       "<IPython.core.display.HTML object>"
      ]
     },
     "metadata": {},
     "output_type": "display_data"
    }
   ],
   "source": [
    "# build up the expression from sub-expressions\n",
    "expr = ExprTuple(InSet(a, Integer), InSet(b, Integer), InSet(c, Integer), InSet(d, Integer), And(LessEq(a, b), Less(b, c), LessEq(c, d)).with_total_ordering_style())"
   ]
  },
  {
   "cell_type": "code",
   "execution_count": 3,
   "metadata": {},
   "outputs": [
    {
     "name": "stdout",
     "output_type": "stream",
     "text": [
      "Passed sanity check: expr matches stored_expr\n"
     ]
    }
   ],
   "source": [
    "# check that the built expression is the same as the stored expression\n",
    "assert expr == stored_expr\n",
    "assert expr._style_id == stored_expr._style_id\n",
    "print(\"Passed sanity check: expr matches stored_expr\")"
   ]
  },
  {
   "cell_type": "code",
   "execution_count": 4,
   "metadata": {},
   "outputs": [
    {
     "name": "stdout",
     "output_type": "stream",
     "text": [
      "\\left(a \\in \\mathbb{Z}, b \\in \\mathbb{Z}, c \\in \\mathbb{Z}, d \\in \\mathbb{Z}, a \\leq b < c \\leq d\\right)\n"
     ]
    }
   ],
   "source": [
    "# Show the LaTeX representation of the expression for convenience if you need it.\n",
    "print(stored_expr.latex())"
   ]
  },
  {
   "cell_type": "code",
   "execution_count": 5,
   "metadata": {},
   "outputs": [
    {
     "data": {
      "text/html": [
       "<table>\n",
       "<tr><th>name</th><th>description</th><th>default</th><th>current value</th><th>related methods</th></tr><tr><td>wrap_positions</td><td>position(s) at which wrapping is to occur; 'n' is after the nth comma.</td><td>()</td><td>()</td><td>('with_wrapping_at',)</td></tr>\n",
       "<tr><td>justification</td><td>if any wrap positions are set, justify to the 'left', 'center', or 'right'</td><td>left</td><td>left</td><td>('with_justification',)</td></tr>\n",
       "</table>\n"
      ],
      "text/plain": [
       "style name: wrap_positions\n",
       "description: position(s) at which wrapping is to occur; 'n' is after the nth comma.\n",
       "default: ()\n",
       "current value: ()\n",
       "related methods: ('with_wrapping_at',)\n",
       "style name: justification\n",
       "description: if any wrap positions are set, justify to the 'left', 'center', or 'right'\n",
       "default: left\n",
       "current value: left\n",
       "related methods: ('with_justification',)"
      ]
     },
     "metadata": {},
     "output_type": "display_data"
    }
   ],
   "source": [
    "stored_expr.style_options()"
   ]
  },
  {
   "cell_type": "code",
   "execution_count": 6,
   "metadata": {},
   "outputs": [
    {
     "data": {
      "text/html": [
       "<table><tr><th>&nbsp;</th><th>core type</th><th>sub-expressions</th><th>expression</th></tr>\n",
       "<tr><td>0</td><td>ExprTuple</td><td>1, 2, 3, 4, 5</td><td><a class=\"ProveItLink\" href=\"expr.ipynb\"><img src=\"expr.png\" style=\"display:inline;vertical-align:middle;\" /></a></td></tr>\n",
       "<tr><td>1</td><td>Operation</td><td>operator:&nbsp;9<br>operands:&nbsp;6<br></td><td><a class=\"ProveItLink\" href=\"../d82a9927958f2919b6e25fa4d8e512f4047160210/expr.ipynb\"><img src=\"../d82a9927958f2919b6e25fa4d8e512f4047160210/expr.png\" style=\"display:inline;vertical-align:middle;\" /></a></td></tr>\n",
       "<tr><td>2</td><td>Operation</td><td>operator:&nbsp;9<br>operands:&nbsp;7<br></td><td><a class=\"ProveItLink\" href=\"../f7f8f0c7b17df91c5737500a28a9355fd753ce490/expr.ipynb\"><img src=\"../f7f8f0c7b17df91c5737500a28a9355fd753ce490/expr.png\" style=\"display:inline;vertical-align:middle;\" /></a></td></tr>\n",
       "<tr><td>3</td><td>Operation</td><td>operator:&nbsp;9<br>operands:&nbsp;8<br></td><td><a class=\"ProveItLink\" href=\"../a2bc599bf0f0f65acede773ef671aee29194b8f50/expr.ipynb\"><img src=\"../a2bc599bf0f0f65acede773ef671aee29194b8f50/expr.png\" style=\"display:inline;vertical-align:middle;\" /></a></td></tr>\n",
       "<tr><td>4</td><td>Operation</td><td>operator:&nbsp;9<br>operands:&nbsp;10<br></td><td><a class=\"ProveItLink\" href=\"../ce2036f1d2e534f263518445e270cc2a8e5c787c0/expr.ipynb\"><img src=\"../ce2036f1d2e534f263518445e270cc2a8e5c787c0/expr.png\" style=\"display:inline;vertical-align:middle;\" /></a></td></tr>\n",
       "<tr><td>5</td><td>Operation</td><td>operator:&nbsp;11<br>operands:&nbsp;12<br></td><td><a class=\"ProveItLink\" href=\"../abdd91f431e9653b54fc5e8c1ffa5b7c14576c8a0/expr.ipynb\"><img src=\"../abdd91f431e9653b54fc5e8c1ffa5b7c14576c8a0/expr.png\" style=\"display:inline;vertical-align:middle;\" /></a></td></tr>\n",
       "<tr><td>6</td><td>ExprTuple</td><td>22, 13</td><td><a class=\"ProveItLink\" href=\"../97b45a1fbe99ac9f6d293ef01d81cb055e55a0b70/expr.ipynb\"><img src=\"../97b45a1fbe99ac9f6d293ef01d81cb055e55a0b70/expr.png\" style=\"display:inline;vertical-align:middle;\" /></a></td></tr>\n",
       "<tr><td>7</td><td>ExprTuple</td><td>23, 13</td><td><a class=\"ProveItLink\" href=\"../b896942be85cc9d2a231f0f6e45f54495eac256e0/expr.ipynb\"><img src=\"../b896942be85cc9d2a231f0f6e45f54495eac256e0/expr.png\" style=\"display:inline;vertical-align:middle;\" /></a></td></tr>\n",
       "<tr><td>8</td><td>ExprTuple</td><td>24, 13</td><td><a class=\"ProveItLink\" href=\"../3521f382affb3f00e63e8a783f4e2f4b98fc99e80/expr.ipynb\"><img src=\"../3521f382affb3f00e63e8a783f4e2f4b98fc99e80/expr.png\" style=\"display:inline;vertical-align:middle;\" /></a></td></tr>\n",
       "<tr><td>9</td><td>Literal</td><td></td><td><a class=\"ProveItLink\" href=\"../../../../../../logic/sets/membership/__pv_it/common/477487d8796864d23d5810f83761435f25167f690/expr.ipynb\"><img src=\"../../../../../../logic/sets/membership/__pv_it/common/477487d8796864d23d5810f83761435f25167f690/expr.png\" style=\"display:inline;vertical-align:middle;\" /></a></td></tr>\n",
       "<tr><td>10</td><td>ExprTuple</td><td>25, 13</td><td><a class=\"ProveItLink\" href=\"../b94b809807654e0fa0fd3965cf15735e86e28af40/expr.ipynb\"><img src=\"../b94b809807654e0fa0fd3965cf15735e86e28af40/expr.png\" style=\"display:inline;vertical-align:middle;\" /></a></td></tr>\n",
       "<tr><td>11</td><td>Literal</td><td></td><td><a class=\"ProveItLink\" href=\"../../../../../../logic/booleans/conjunction/__pv_it/common/42118ff318bd65d98b1393f64ce7c2269feef76e0/expr.ipynb\"><img src=\"../../../../../../logic/booleans/conjunction/__pv_it/common/42118ff318bd65d98b1393f64ce7c2269feef76e0/expr.png\" style=\"display:inline;vertical-align:middle;\" /></a></td></tr>\n",
       "<tr><td>12</td><td>ExprTuple</td><td>14, 15, 16</td><td><a class=\"ProveItLink\" href=\"../22b66a569128d8a0bf47f2182ab3ff5ff7a2301a0/expr.ipynb\"><img src=\"../22b66a569128d8a0bf47f2182ab3ff5ff7a2301a0/expr.png\" style=\"display:inline;vertical-align:middle;\" /></a></td></tr>\n",
       "<tr><td>13</td><td>Literal</td><td></td><td><a class=\"ProveItLink\" href=\"../../common/e6b4e90f9467053e055a4fd2f735c0bb79cb79300/expr.ipynb\"><img src=\"../../common/e6b4e90f9467053e055a4fd2f735c0bb79cb79300/expr.png\" style=\"display:inline;vertical-align:middle;\" /></a></td></tr>\n",
       "<tr><td>14</td><td>Operation</td><td>operator:&nbsp;20<br>operands:&nbsp;17<br></td><td><a class=\"ProveItLink\" href=\"../890a0a3718194ab0770f14e833dd67b00b445fc90/expr.ipynb\"><img src=\"../890a0a3718194ab0770f14e833dd67b00b445fc90/expr.png\" style=\"display:inline;vertical-align:middle;\" /></a></td></tr>\n",
       "<tr><td>15</td><td>Operation</td><td>operator:&nbsp;18<br>operands:&nbsp;19<br></td><td><a class=\"ProveItLink\" href=\"../9da96f001a5b179acfaf830f9bf8fb28cd121c380/expr.ipynb\"><img src=\"../9da96f001a5b179acfaf830f9bf8fb28cd121c380/expr.png\" style=\"display:inline;vertical-align:middle;\" /></a></td></tr>\n",
       "<tr><td>16</td><td>Operation</td><td>operator:&nbsp;20<br>operands:&nbsp;21<br></td><td><a class=\"ProveItLink\" href=\"../2833259b6508ca2a6c89de19896a59b8126d48760/expr.ipynb\"><img src=\"../2833259b6508ca2a6c89de19896a59b8126d48760/expr.png\" style=\"display:inline;vertical-align:middle;\" /></a></td></tr>\n",
       "<tr><td>17</td><td>ExprTuple</td><td>22, 23</td><td><a class=\"ProveItLink\" href=\"../3dcd5ceea6334d8cb48fe14fdae236293aa9a6050/expr.ipynb\"><img src=\"../3dcd5ceea6334d8cb48fe14fdae236293aa9a6050/expr.png\" style=\"display:inline;vertical-align:middle;\" /></a></td></tr>\n",
       "<tr><td>18</td><td>Literal</td><td></td><td><a class=\"ProveItLink\" href=\"../../../../../ordering/__pv_it/common/fa503ed52033522c609eef1cf3e1b45796489da50/expr.ipynb\"><img src=\"../../../../../ordering/__pv_it/common/fa503ed52033522c609eef1cf3e1b45796489da50/expr.png\" style=\"display:inline;vertical-align:middle;\" /></a></td></tr>\n",
       "<tr><td>19</td><td>ExprTuple</td><td>23, 24</td><td><a class=\"ProveItLink\" href=\"../ef9fe67d2e3b5fce9f5216666a772f97f5d95ff50/expr.ipynb\"><img src=\"../ef9fe67d2e3b5fce9f5216666a772f97f5d95ff50/expr.png\" style=\"display:inline;vertical-align:middle;\" /></a></td></tr>\n",
       "<tr><td>20</td><td>Literal</td><td></td><td><a class=\"ProveItLink\" href=\"../../../../../ordering/__pv_it/common/68379698d72b4689bbda4b5c5cca29ee599d70280/expr.ipynb\"><img src=\"../../../../../ordering/__pv_it/common/68379698d72b4689bbda4b5c5cca29ee599d70280/expr.png\" style=\"display:inline;vertical-align:middle;\" /></a></td></tr>\n",
       "<tr><td>21</td><td>ExprTuple</td><td>24, 25</td><td><a class=\"ProveItLink\" href=\"../f336fa46d73583f2c4c9aeb5e26e359cc42790830/expr.ipynb\"><img src=\"../f336fa46d73583f2c4c9aeb5e26e359cc42790830/expr.png\" style=\"display:inline;vertical-align:middle;\" /></a></td></tr>\n",
       "<tr><td>22</td><td>Variable</td><td></td><td><a class=\"ProveItLink\" href=\"../../../../../../__pv_it/common/c06c606ec12678c58933ac85412ecadc2ae28be60/expr.ipynb\"><img src=\"../../../../../../__pv_it/common/c06c606ec12678c58933ac85412ecadc2ae28be60/expr.png\" style=\"display:inline;vertical-align:middle;\" /></a></td></tr>\n",
       "<tr><td>23</td><td>Variable</td><td></td><td><a class=\"ProveItLink\" href=\"../../../../../../__pv_it/common/195236b98c6c564a75b5dbada74b173bc52d5c3e0/expr.ipynb\"><img src=\"../../../../../../__pv_it/common/195236b98c6c564a75b5dbada74b173bc52d5c3e0/expr.png\" style=\"display:inline;vertical-align:middle;\" /></a></td></tr>\n",
       "<tr><td>24</td><td>Variable</td><td></td><td><a class=\"ProveItLink\" href=\"../../../../../../__pv_it/common/ceef4280a2f1cc604b455b54e735507244cc62cd0/expr.ipynb\"><img src=\"../../../../../../__pv_it/common/ceef4280a2f1cc604b455b54e735507244cc62cd0/expr.png\" style=\"display:inline;vertical-align:middle;\" /></a></td></tr>\n",
       "<tr><td>25</td><td>Variable</td><td></td><td><a class=\"ProveItLink\" href=\"../../../../../../__pv_it/common/4f5c524ffda87296de1c79b96880123fe2efedd50/expr.ipynb\"><img src=\"../../../../../../__pv_it/common/4f5c524ffda87296de1c79b96880123fe2efedd50/expr.png\" style=\"display:inline;vertical-align:middle;\" /></a></td></tr>\n",
       "</table>\n"
      ],
      "text/plain": [
       "0. (a in Integer, b in Integer, c in Integer, d in Integer, a <= b < c <= d)\n",
       "   core type: ExprTuple\n",
       "   sub-expressions: 1, 2, 3, 4, 5\n",
       "1. a in Integer\n",
       "   core type: Operation\n",
       "   operator: 9\n",
       "   operands: 6\n",
       "2. b in Integer\n",
       "   core type: Operation\n",
       "   operator: 9\n",
       "   operands: 7\n",
       "3. c in Integer\n",
       "   core type: Operation\n",
       "   operator: 9\n",
       "   operands: 8\n",
       "4. d in Integer\n",
       "   core type: Operation\n",
       "   operator: 9\n",
       "   operands: 10\n",
       "5. a <= b < c <= d\n",
       "   core type: Operation\n",
       "   operator: 11\n",
       "   operands: 12\n",
       "6. (a, Integer)\n",
       "   core type: ExprTuple\n",
       "   sub-expressions: 22, 13\n",
       "7. (b, Integer)\n",
       "   core type: ExprTuple\n",
       "   sub-expressions: 23, 13\n",
       "8. (c, Integer)\n",
       "   core type: ExprTuple\n",
       "   sub-expressions: 24, 13\n",
       "9. in\n",
       "   core type: Literal\n",
       "   sub-expressions: \n",
       "10. (d, Integer)\n",
       "    core type: ExprTuple\n",
       "    sub-expressions: 25, 13\n",
       "11. and\n",
       "    core type: Literal\n",
       "    sub-expressions: \n",
       "12. (a <= b, b < c, c <= d)\n",
       "    core type: ExprTuple\n",
       "    sub-expressions: 14, 15, 16\n",
       "13. Integer\n",
       "    core type: Literal\n",
       "    sub-expressions: \n",
       "14. a <= b\n",
       "    core type: Operation\n",
       "    operator: 20\n",
       "    operands: 17\n",
       "15. b < c\n",
       "    core type: Operation\n",
       "    operator: 18\n",
       "    operands: 19\n",
       "16. c <= d\n",
       "    core type: Operation\n",
       "    operator: 20\n",
       "    operands: 21\n",
       "17. (a, b)\n",
       "    core type: ExprTuple\n",
       "    sub-expressions: 22, 23\n",
       "18. <\n",
       "    core type: Literal\n",
       "    sub-expressions: \n",
       "19. (b, c)\n",
       "    core type: ExprTuple\n",
       "    sub-expressions: 23, 24\n",
       "20. <=\n",
       "    core type: Literal\n",
       "    sub-expressions: \n",
       "21. (c, d)\n",
       "    core type: ExprTuple\n",
       "    sub-expressions: 24, 25\n",
       "22. a\n",
       "    core type: Variable\n",
       "    sub-expressions: \n",
       "23. b\n",
       "    core type: Variable\n",
       "    sub-expressions: \n",
       "24. c\n",
       "    core type: Variable\n",
       "    sub-expressions: \n",
       "25. d\n",
       "    core type: Variable\n",
       "    sub-expressions: "
      ]
     },
     "metadata": {},
     "output_type": "display_data"
    }
   ],
   "source": [
    "# display the expression information\n",
    "stored_expr.expr_info()"
   ]
  },
  {
   "cell_type": "code",
   "execution_count": null,
   "metadata": {},
   "outputs": [],
   "source": []
  }
 ],
 "metadata": {
  "kernelspec": {
   "display_name": "Python 3",
   "language": "python",
   "name": "python3"
  }
 },
 "nbformat": 4,
 "nbformat_minor": 0
}