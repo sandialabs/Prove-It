{
 "cells": [
  {
   "cell_type": "markdown",
   "metadata": {},
   "source": [
    "Axiom <a class=\"ProveItLink\" href=\"../../../_axioms_.ipynb#conjugate_def\">conjugate_def</a> of type <a class=\"ProveItLink\" href=\"../../../../../../../../doc/html/api/proveit.logic.Forall.html\">Forall</a>\n",
    "=======================\n",
    "# from the theory of <a class=\"ProveItLink\" href=\"../../../_theory_nbs_/theory.ipynb\">proveit.numbers.number_sets.complex_numbers</a>\n",
    "*** see <a class=\"ProveItLink\" href=\"dependencies.ipynb\">dependencies</a> ***"
   ]
  },
  {
   "cell_type": "code",
   "execution_count": 1,
   "metadata": {},
   "outputs": [],
   "source": [
    "import proveit\n",
    "# Automation is not needed when only building an expression:\n",
    "proveit.defaults.automation = False # This will speed things up.\n",
    "proveit.defaults.inline_pngs = False # Makes files smaller.\n",
    "%load_axiom_expr # Load the stored axiom expression as 'stored_expr'\n",
    "# import the special expression\n",
    "from proveit.numbers.number_sets.complex_numbers import conjugate_def"
   ]
  },
  {
   "cell_type": "code",
   "execution_count": 2,
   "metadata": {},
   "outputs": [
    {
     "name": "stdout",
     "output_type": "stream",
     "text": [
      "Passed sanity check: conjugate_def matches stored_expr\n"
     ]
    }
   ],
   "source": [
    "# check that the built expression is the same as the stored expression\n",
    "assert conjugate_def.expr == stored_expr\n",
    "assert conjugate_def.expr._style_id == stored_expr._style_id\n",
    "print(\"Passed sanity check: conjugate_def matches stored_expr\")"
   ]
  },
  {
   "cell_type": "code",
   "execution_count": 3,
   "metadata": {},
   "outputs": [
    {
     "name": "stdout",
     "output_type": "stream",
     "text": [
      "\\forall_{a, b}~\\left(\\left(\\left(a + \\left(\\mathsf{i} \\cdot b\\right)\\right)^*\\right) = \\left(a - \\left(\\mathsf{i} \\cdot b\\right)\\right)\\right)\n"
     ]
    }
   ],
   "source": [
    "# Show the LaTeX representation of the expression for convenience if you need it.\n",
    "print(stored_expr.latex())"
   ]
  },
  {
   "cell_type": "code",
   "execution_count": 4,
   "metadata": {},
   "outputs": [
    {
     "data": {
      "text/html": [
       "<table>\n",
       "<tr><th>name</th><th>description</th><th>default</th><th>current value</th><th>related methods</th></tr><tr><td>with_wrapping</td><td>If 'True', wrap the Expression after the parameters</td><td>None</td><td>None/False</td><td>('with_wrapping',)</td></tr>\n",
       "<tr><td>condition_wrapping</td><td>Wrap 'before' or 'after' the condition (or None).</td><td>None</td><td>None/False</td><td>('with_wrap_after_condition', 'with_wrap_before_condition')</td></tr>\n",
       "<tr><td>wrap_params</td><td>If 'True', wraps every two parameters AND wraps the Expression after the parameters</td><td>None</td><td>None/False</td><td>('with_params',)</td></tr>\n",
       "<tr><td>justification</td><td>justify to the 'left', 'center', or 'right' in the array cells</td><td>center</td><td>center</td><td>('with_justification',)</td></tr>\n",
       "</table>\n"
      ],
      "text/plain": [
       "style name: with_wrapping\n",
       "description: If 'True', wrap the Expression after the parameters\n",
       "default: None\n",
       "current value: None/False\n",
       "related methods: ('with_wrapping',)\n",
       "style name: condition_wrapping\n",
       "description: Wrap 'before' or 'after' the condition (or None).\n",
       "default: None\n",
       "current value: None/False\n",
       "related methods: ('with_wrap_after_condition', 'with_wrap_before_condition')\n",
       "style name: wrap_params\n",
       "description: If 'True', wraps every two parameters AND wraps the Expression after the parameters\n",
       "default: None\n",
       "current value: None/False\n",
       "related methods: ('with_params',)\n",
       "style name: justification\n",
       "description: justify to the 'left', 'center', or 'right' in the array cells\n",
       "default: center\n",
       "current value: center\n",
       "related methods: ('with_justification',)"
      ]
     },
     "metadata": {},
     "output_type": "display_data"
    }
   ],
   "source": [
    "stored_expr.style_options()"
   ]
  },
  {
   "cell_type": "code",
   "execution_count": 5,
   "metadata": {},
   "outputs": [
    {
     "data": {
      "text/html": [
       "<table><tr><th>&nbsp;</th><th>core type</th><th>sub-expressions</th><th>expression</th></tr>\n",
       "<tr><td>0</td><td>Operation</td><td>operator:&nbsp;1<br>operand:&nbsp;3<br></td><td><a class=\"ProveItLink\" href=\"../6c3d83938327ee86e813b76183cef6c952fcb6cd0/expr.ipynb\"><img src=\"../6c3d83938327ee86e813b76183cef6c952fcb6cd0/expr.png\" style=\"display:inline;vertical-align:middle;\" /></a></td></tr>\n",
       "<tr><td>1</td><td>Literal</td><td></td><td><a class=\"ProveItLink\" href=\"../../../../../../logic/booleans/quantification/universality/__pv_it/common/083d2baa0b8ecab1d230f9ec29a15aa1355809fb0/expr.ipynb\"><img src=\"../../../../../../logic/booleans/quantification/universality/__pv_it/common/083d2baa0b8ecab1d230f9ec29a15aa1355809fb0/expr.png\" style=\"display:inline;vertical-align:middle;\" /></a></td></tr>\n",
       "<tr><td>2</td><td>ExprTuple</td><td>3</td><td><a class=\"ProveItLink\" href=\"../061256db03e0f6e8dce99630491ad58af9740cad0/expr.ipynb\"><img src=\"../061256db03e0f6e8dce99630491ad58af9740cad0/expr.png\" style=\"display:inline;vertical-align:middle;\" /></a></td></tr>\n",
       "<tr><td>3</td><td>Lambda</td><td>parameters:&nbsp;4<br>body:&nbsp;5<br></td><td><a class=\"ProveItLink\" href=\"../d3ead789c297580fdc51aeef1ad3e7ee08dea9c10/expr.ipynb\"><img src=\"../d3ead789c297580fdc51aeef1ad3e7ee08dea9c10/expr.png\" style=\"display:inline;vertical-align:middle;\" /></a></td></tr>\n",
       "<tr><td>4</td><td>ExprTuple</td><td>19, 24</td><td><a class=\"ProveItLink\" href=\"../3dcd5ceea6334d8cb48fe14fdae236293aa9a6050/expr.ipynb\"><img src=\"../3dcd5ceea6334d8cb48fe14fdae236293aa9a6050/expr.png\" style=\"display:inline;vertical-align:middle;\" /></a></td></tr>\n",
       "<tr><td>5</td><td>Operation</td><td>operator:&nbsp;6<br>operands:&nbsp;7<br></td><td><a class=\"ProveItLink\" href=\"../5a06b69623088884e4b3b069622d3a2d659e75010/expr.ipynb\"><img src=\"../5a06b69623088884e4b3b069622d3a2d659e75010/expr.png\" style=\"display:inline;vertical-align:middle;\" /></a></td></tr>\n",
       "<tr><td>6</td><td>Literal</td><td></td><td><a class=\"ProveItLink\" href=\"../../../../../../logic/equality/__pv_it/common/fb96dc12b2aa8801dda64d0132b396c63d1502bb0/expr.ipynb\"><img src=\"../../../../../../logic/equality/__pv_it/common/fb96dc12b2aa8801dda64d0132b396c63d1502bb0/expr.png\" style=\"display:inline;vertical-align:middle;\" /></a></td></tr>\n",
       "<tr><td>7</td><td>ExprTuple</td><td>8, 9</td><td><a class=\"ProveItLink\" href=\"../76b7fde10b6d6ae80296865c5d413056fcac86520/expr.ipynb\"><img src=\"../76b7fde10b6d6ae80296865c5d413056fcac86520/expr.png\" style=\"display:inline;vertical-align:middle;\" /></a></td></tr>\n",
       "<tr><td>8</td><td>Operation</td><td>operator:&nbsp;10<br>operand:&nbsp;13<br></td><td><a class=\"ProveItLink\" href=\"../d5a777b80556781a86c93c55335264981b03c6830/expr.ipynb\"><img src=\"../d5a777b80556781a86c93c55335264981b03c6830/expr.png\" style=\"display:inline;vertical-align:middle;\" /></a></td></tr>\n",
       "<tr><td>9</td><td>Operation</td><td>operator:&nbsp;15<br>operands:&nbsp;12<br></td><td><a class=\"ProveItLink\" href=\"../be61b4c071d6a39f1a6bcc7cb9a2955845307e0e0/expr.ipynb\"><img src=\"../be61b4c071d6a39f1a6bcc7cb9a2955845307e0e0/expr.png\" style=\"display:inline;vertical-align:middle;\" /></a></td></tr>\n",
       "<tr><td>10</td><td>Literal</td><td></td><td><a class=\"ProveItLink\" href=\"../../common/94680674b0657e278f8b36107a8ff6c7073431fb0/expr.ipynb\"><img src=\"../../common/94680674b0657e278f8b36107a8ff6c7073431fb0/expr.png\" style=\"display:inline;vertical-align:middle;\" /></a></td></tr>\n",
       "<tr><td>11</td><td>ExprTuple</td><td>13</td><td><a class=\"ProveItLink\" href=\"../64c65cdff1697fe7a9a0a6768eec1c18a7408f2e0/expr.ipynb\"><img src=\"../64c65cdff1697fe7a9a0a6768eec1c18a7408f2e0/expr.png\" style=\"display:inline;vertical-align:middle;\" /></a></td></tr>\n",
       "<tr><td>12</td><td>ExprTuple</td><td>19, 14</td><td><a class=\"ProveItLink\" href=\"../8ad5f2a9779605b977948e23214e9c3a3f4aac990/expr.ipynb\"><img src=\"../8ad5f2a9779605b977948e23214e9c3a3f4aac990/expr.png\" style=\"display:inline;vertical-align:middle;\" /></a></td></tr>\n",
       "<tr><td>13</td><td>Operation</td><td>operator:&nbsp;15<br>operands:&nbsp;16<br></td><td><a class=\"ProveItLink\" href=\"../d05407fba7d7572b8258c4791d7f6efcc8b016370/expr.ipynb\"><img src=\"../d05407fba7d7572b8258c4791d7f6efcc8b016370/expr.png\" style=\"display:inline;vertical-align:middle;\" /></a></td></tr>\n",
       "<tr><td>14</td><td>Operation</td><td>operator:&nbsp;17<br>operand:&nbsp;20<br></td><td><a class=\"ProveItLink\" href=\"../135f6caf0e89a72e6faa8d56bb427bd889cc97e30/expr.ipynb\"><img src=\"../135f6caf0e89a72e6faa8d56bb427bd889cc97e30/expr.png\" style=\"display:inline;vertical-align:middle;\" /></a></td></tr>\n",
       "<tr><td>15</td><td>Literal</td><td></td><td><a class=\"ProveItLink\" href=\"../../../../../addition/__pv_it/common/4b7effaab3619a1c2c38fe2dee8601df8ec714590/expr.ipynb\"><img src=\"../../../../../addition/__pv_it/common/4b7effaab3619a1c2c38fe2dee8601df8ec714590/expr.png\" style=\"display:inline;vertical-align:middle;\" /></a></td></tr>\n",
       "<tr><td>16</td><td>ExprTuple</td><td>19, 20</td><td><a class=\"ProveItLink\" href=\"../b83205514bae6a5aafa1f5238af823553aa0dc830/expr.ipynb\"><img src=\"../b83205514bae6a5aafa1f5238af823553aa0dc830/expr.png\" style=\"display:inline;vertical-align:middle;\" /></a></td></tr>\n",
       "<tr><td>17</td><td>Literal</td><td></td><td><a class=\"ProveItLink\" href=\"../../../../../negation/__pv_it/common/221b3c4d1770ee9051b7c044c3f9ec61196fc34b0/expr.ipynb\"><img src=\"../../../../../negation/__pv_it/common/221b3c4d1770ee9051b7c044c3f9ec61196fc34b0/expr.png\" style=\"display:inline;vertical-align:middle;\" /></a></td></tr>\n",
       "<tr><td>18</td><td>ExprTuple</td><td>20</td><td><a class=\"ProveItLink\" href=\"../d1d6369d5ced3473d8e2d5ef74f9240449674fef0/expr.ipynb\"><img src=\"../d1d6369d5ced3473d8e2d5ef74f9240449674fef0/expr.png\" style=\"display:inline;vertical-align:middle;\" /></a></td></tr>\n",
       "<tr><td>19</td><td>Variable</td><td></td><td><a class=\"ProveItLink\" href=\"../../../../../../__pv_it/common/c06c606ec12678c58933ac85412ecadc2ae28be60/expr.ipynb\"><img src=\"../../../../../../__pv_it/common/c06c606ec12678c58933ac85412ecadc2ae28be60/expr.png\" style=\"display:inline;vertical-align:middle;\" /></a></td></tr>\n",
       "<tr><td>20</td><td>Operation</td><td>operator:&nbsp;21<br>operands:&nbsp;22<br></td><td><a class=\"ProveItLink\" href=\"../2c93ca06b04d84c32645ab5c82d82d353ff471d30/expr.ipynb\"><img src=\"../2c93ca06b04d84c32645ab5c82d82d353ff471d30/expr.png\" style=\"display:inline;vertical-align:middle;\" /></a></td></tr>\n",
       "<tr><td>21</td><td>Literal</td><td></td><td><a class=\"ProveItLink\" href=\"../../../../../multiplication/__pv_it/common/ed719cef37831779c16481533a4d380a2f95ab270/expr.ipynb\"><img src=\"../../../../../multiplication/__pv_it/common/ed719cef37831779c16481533a4d380a2f95ab270/expr.png\" style=\"display:inline;vertical-align:middle;\" /></a></td></tr>\n",
       "<tr><td>22</td><td>ExprTuple</td><td>23, 24</td><td><a class=\"ProveItLink\" href=\"../1c2ed75e7422eeecd256de9bc497de5917833a480/expr.ipynb\"><img src=\"../1c2ed75e7422eeecd256de9bc497de5917833a480/expr.png\" style=\"display:inline;vertical-align:middle;\" /></a></td></tr>\n",
       "<tr><td>23</td><td>Literal</td><td></td><td><a class=\"ProveItLink\" href=\"../../common/6c9cc69d472f352324c298b2318df233e9a7e0250/expr.ipynb\"><img src=\"../../common/6c9cc69d472f352324c298b2318df233e9a7e0250/expr.png\" style=\"display:inline;vertical-align:middle;\" /></a></td></tr>\n",
       "<tr><td>24</td><td>Variable</td><td></td><td><a class=\"ProveItLink\" href=\"../../../../../../__pv_it/common/195236b98c6c564a75b5dbada74b173bc52d5c3e0/expr.ipynb\"><img src=\"../../../../../../__pv_it/common/195236b98c6c564a75b5dbada74b173bc52d5c3e0/expr.png\" style=\"display:inline;vertical-align:middle;\" /></a></td></tr>\n",
       "</table>\n"
      ],
      "text/plain": [
       "0. forall_{a, b} (((a + (i * b))*) = (a - (i * b)))\n",
       "   core type: Operation\n",
       "   operator: 1\n",
       "   operand: 3\n",
       "1. forall\n",
       "   core type: Literal\n",
       "   sub-expressions: \n",
       "2. ((a, b) -> (((a + (i * b))*) = (a - (i * b))))\n",
       "   core type: ExprTuple\n",
       "   sub-expressions: 3\n",
       "3. (a, b) -> (((a + (i * b))*) = (a - (i * b)))\n",
       "   core type: Lambda\n",
       "   parameters: 4\\n   body: 5\n",
       "4. (a, b)\n",
       "   core type: ExprTuple\n",
       "   sub-expressions: 19, 24\n",
       "5. ((a + (i * b))*) = (a - (i * b))\n",
       "   core type: Operation\n",
       "   operator: 6\n",
       "   operands: 7\n",
       "6. =\n",
       "   core type: Literal\n",
       "   sub-expressions: \n",
       "7. ((a + (i * b))*, a - (i * b))\n",
       "   core type: ExprTuple\n",
       "   sub-expressions: 8, 9\n",
       "8. (a + (i * b))*\n",
       "   core type: Operation\n",
       "   operator: 10\n",
       "   operand: 13\n",
       "9. a - (i * b)\n",
       "   core type: Operation\n",
       "   operator: 15\n",
       "   operands: 12\n",
       "10. conj\n",
       "    core type: Literal\n",
       "    sub-expressions: \n",
       "11. (a + (i * b))\n",
       "    core type: ExprTuple\n",
       "    sub-expressions: 13\n",
       "12. (a, -(i * b))\n",
       "    core type: ExprTuple\n",
       "    sub-expressions: 19, 14\n",
       "13. a + (i * b)\n",
       "    core type: Operation\n",
       "    operator: 15\n",
       "    operands: 16\n",
       "14. -(i * b)\n",
       "    core type: Operation\n",
       "    operator: 17\n",
       "    operand: 20\n",
       "15. +\n",
       "    core type: Literal\n",
       "    sub-expressions: \n",
       "16. (a, i * b)\n",
       "    core type: ExprTuple\n",
       "    sub-expressions: 19, 20\n",
       "17. -\n",
       "    core type: Literal\n",
       "    sub-expressions: \n",
       "18. (i * b)\n",
       "    core type: ExprTuple\n",
       "    sub-expressions: 20\n",
       "19. a\n",
       "    core type: Variable\n",
       "    sub-expressions: \n",
       "20. i * b\n",
       "    core type: Operation\n",
       "    operator: 21\n",
       "    operands: 22\n",
       "21. *\n",
       "    core type: Literal\n",
       "    sub-expressions: \n",
       "22. (i, b)\n",
       "    core type: ExprTuple\n",
       "    sub-expressions: 23, 24\n",
       "23. i\n",
       "    core type: Literal\n",
       "    sub-expressions: \n",
       "24. b\n",
       "    core type: Variable\n",
       "    sub-expressions: "
      ]
     },
     "metadata": {},
     "output_type": "display_data"
    }
   ],
   "source": [
    "# display the expression information\n",
    "stored_expr.expr_info()"
   ]
  },
  {
   "cell_type": "code",
   "execution_count": null,
   "metadata": {},
   "outputs": [],
   "source": []
  }
 ],
 "metadata": {
  "kernelspec": {
   "display_name": "Python 3",
   "language": "python",
   "name": "python3"
  }
 },
 "nbformat": 4,
 "nbformat_minor": 0
}