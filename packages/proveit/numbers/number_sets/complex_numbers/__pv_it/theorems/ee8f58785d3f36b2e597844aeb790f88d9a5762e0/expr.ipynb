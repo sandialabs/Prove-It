{
 "cells": [
  {
   "cell_type": "markdown",
   "metadata": {},
   "source": [
    "Expression of type <a class=\"ProveItLink\" href=\"../../../../../../../../doc/html/api/proveit.Lambda.html\">Lambda</a>\n",
    "=======================\n",
    "# from the theory of <a class=\"ProveItLink\" href=\"../../../_theory_nbs_/theory.ipynb\">proveit.numbers.number_sets.complex_numbers</a>"
   ]
  },
  {
   "cell_type": "code",
   "execution_count": 1,
   "metadata": {},
   "outputs": [],
   "source": [
    "import proveit\n",
    "# Automation is not needed when building an expression:\n",
    "proveit.defaults.automation = False # This will speed things up.\n",
    "proveit.defaults.inline_pngs = False # Makes files smaller.\n",
    "%load_expr # Load the stored expression as 'stored_expr'\n",
    "# import Expression classes needed to build the expression\n",
    "from proveit import Conditional, Lambda, r, x\n",
    "from proveit.logic import And, Equals, InSet\n",
    "from proveit.numbers import Exp, Mod, Mult, Neg, Real, e, frac, i, pi, two"
   ]
  },
  {
   "cell_type": "code",
   "execution_count": 2,
   "metadata": {},
   "outputs": [
    {
     "data": {
      "text/html": [
       "<strong id=\"expr\">expr:</strong> <a class=\"ProveItLink\" href=\"expr.ipynb\"><img src=\"expr.png\" style=\"display:inline;vertical-align:middle;\" /></a><br>"
      ],
      "text/plain": [
       "<IPython.core.display.HTML object>"
      ]
     },
     "metadata": {},
     "output_type": "display_data"
    }
   ],
   "source": [
    "# build up the expression from sub-expressions\n",
    "expr = Lambda([x, r], Conditional(Equals(Exp(e, frac(Neg(Mult(two, pi, i, Mod(x, r))), r)), Exp(e, frac(Neg(Mult(two, pi, i, x)), r))), And(InSet(x, Real), InSet(r, Real))))"
   ]
  },
  {
   "cell_type": "code",
   "execution_count": 3,
   "metadata": {},
   "outputs": [
    {
     "name": "stdout",
     "output_type": "stream",
     "text": [
      "Passed sanity check: expr matches stored_expr\n"
     ]
    }
   ],
   "source": [
    "# check that the built expression is the same as the stored expression\n",
    "assert expr == stored_expr\n",
    "assert expr._style_id == stored_expr._style_id\n",
    "print(\"Passed sanity check: expr matches stored_expr\")"
   ]
  },
  {
   "cell_type": "code",
   "execution_count": 4,
   "metadata": {},
   "outputs": [
    {
     "name": "stdout",
     "output_type": "stream",
     "text": [
      "\\left(x, r\\right) \\mapsto \\left\\{\\mathsf{e}^{\\frac{-\\left(2 \\cdot \\pi \\cdot \\mathsf{i} \\cdot \\left(x ~\\textup{mod}~ r\\right)\\right)}{r}} = \\mathsf{e}^{\\frac{-\\left(2 \\cdot \\pi \\cdot \\mathsf{i} \\cdot x\\right)}{r}} \\textrm{ if } x \\in \\mathbb{R} ,  r \\in \\mathbb{R}\\right..\n"
     ]
    }
   ],
   "source": [
    "# Show the LaTeX representation of the expression for convenience if you need it.\n",
    "print(stored_expr.latex())"
   ]
  },
  {
   "cell_type": "code",
   "execution_count": 5,
   "metadata": {},
   "outputs": [
    {
     "data": {
      "text/html": [
       "no style options"
      ],
      "text/plain": [
       "no style options"
      ]
     },
     "metadata": {},
     "output_type": "display_data"
    }
   ],
   "source": [
    "stored_expr.style_options()"
   ]
  },
  {
   "cell_type": "code",
   "execution_count": 6,
   "metadata": {},
   "outputs": [
    {
     "data": {
      "text/html": [
       "<table><tr><th>&nbsp;</th><th>core type</th><th>sub-expressions</th><th>expression</th></tr>\n",
       "<tr><td>0</td><td>Lambda</td><td>parameters:&nbsp;40<br>body:&nbsp;1<br></td><td><a class=\"ProveItLink\" href=\"expr.ipynb\"><img src=\"expr.png\" style=\"display:inline;vertical-align:middle;\" /></a></td></tr>\n",
       "<tr><td>1</td><td>Conditional</td><td>value:&nbsp;2<br>condition:&nbsp;3<br></td><td><a class=\"ProveItLink\" href=\"../a80bbf2fa6277020f4cfbb55945b8e4efa07460d0/expr.ipynb\"><img src=\"../a80bbf2fa6277020f4cfbb55945b8e4efa07460d0/expr.png\" style=\"display:inline;vertical-align:middle;\" /></a></td></tr>\n",
       "<tr><td>2</td><td>Operation</td><td>operator:&nbsp;4<br>operands:&nbsp;5<br></td><td><a class=\"ProveItLink\" href=\"../4c495990fa10f17c828615907c4c9da3f1e3e4a60/expr.ipynb\"><img src=\"../4c495990fa10f17c828615907c4c9da3f1e3e4a60/expr.png\" style=\"display:inline;vertical-align:middle;\" /></a></td></tr>\n",
       "<tr><td>3</td><td>Operation</td><td>operator:&nbsp;6<br>operands:&nbsp;7<br></td><td><a class=\"ProveItLink\" href=\"../7f94a9859a7e7bb567fdb2c794e2207360c7b0af0/expr.ipynb\"><img src=\"../7f94a9859a7e7bb567fdb2c794e2207360c7b0af0/expr.png\" style=\"display:inline;vertical-align:middle;\" /></a></td></tr>\n",
       "<tr><td>4</td><td>Literal</td><td></td><td><a class=\"ProveItLink\" href=\"../../../../../../logic/equality/__pv_it/common/fb96dc12b2aa8801dda64d0132b396c63d1502bb0/expr.ipynb\"><img src=\"../../../../../../logic/equality/__pv_it/common/fb96dc12b2aa8801dda64d0132b396c63d1502bb0/expr.png\" style=\"display:inline;vertical-align:middle;\" /></a></td></tr>\n",
       "<tr><td>5</td><td>ExprTuple</td><td>8, 9</td><td><a class=\"ProveItLink\" href=\"../8b358cb413f57bfa7151deeb0d936d3177216c9f0/expr.ipynb\"><img src=\"../8b358cb413f57bfa7151deeb0d936d3177216c9f0/expr.png\" style=\"display:inline;vertical-align:middle;\" /></a></td></tr>\n",
       "<tr><td>6</td><td>Literal</td><td></td><td><a class=\"ProveItLink\" href=\"../../../../../../logic/booleans/conjunction/__pv_it/common/42118ff318bd65d98b1393f64ce7c2269feef76e0/expr.ipynb\"><img src=\"../../../../../../logic/booleans/conjunction/__pv_it/common/42118ff318bd65d98b1393f64ce7c2269feef76e0/expr.png\" style=\"display:inline;vertical-align:middle;\" /></a></td></tr>\n",
       "<tr><td>7</td><td>ExprTuple</td><td>10, 11</td><td><a class=\"ProveItLink\" href=\"../60aee6f735277b5f5a3d7dca62cfe653472b85f20/expr.ipynb\"><img src=\"../60aee6f735277b5f5a3d7dca62cfe653472b85f20/expr.png\" style=\"display:inline;vertical-align:middle;\" /></a></td></tr>\n",
       "<tr><td>8</td><td>Operation</td><td>operator:&nbsp;13<br>operands:&nbsp;12<br></td><td><a class=\"ProveItLink\" href=\"../cc588e8a7b939e0d509d43ea3acd430aafbeb3fc0/expr.ipynb\"><img src=\"../cc588e8a7b939e0d509d43ea3acd430aafbeb3fc0/expr.png\" style=\"display:inline;vertical-align:middle;\" /></a></td></tr>\n",
       "<tr><td>9</td><td>Operation</td><td>operator:&nbsp;13<br>operands:&nbsp;14<br></td><td><a class=\"ProveItLink\" href=\"../1dd941a28df604e1ccc24eb0e29b619fc4268c240/expr.ipynb\"><img src=\"../1dd941a28df604e1ccc24eb0e29b619fc4268c240/expr.png\" style=\"display:inline;vertical-align:middle;\" /></a></td></tr>\n",
       "<tr><td>10</td><td>Operation</td><td>operator:&nbsp;16<br>operands:&nbsp;15<br></td><td><a class=\"ProveItLink\" href=\"../d1323f34847310a404e8089c2c268d3c2eb89dbf0/expr.ipynb\"><img src=\"../d1323f34847310a404e8089c2c268d3c2eb89dbf0/expr.png\" style=\"display:inline;vertical-align:middle;\" /></a></td></tr>\n",
       "<tr><td>11</td><td>Operation</td><td>operator:&nbsp;16<br>operands:&nbsp;17<br></td><td><a class=\"ProveItLink\" href=\"../b4f069bc5356983dfc0c9c33a3c30241c4aee8db0/expr.ipynb\"><img src=\"../b4f069bc5356983dfc0c9c33a3c30241c4aee8db0/expr.png\" style=\"display:inline;vertical-align:middle;\" /></a></td></tr>\n",
       "<tr><td>12</td><td>ExprTuple</td><td>19, 18</td><td><a class=\"ProveItLink\" href=\"../044d0517683c2a4b4d7d670ef3d6df50d6cc04b70/expr.ipynb\"><img src=\"../044d0517683c2a4b4d7d670ef3d6df50d6cc04b70/expr.png\" style=\"display:inline;vertical-align:middle;\" /></a></td></tr>\n",
       "<tr><td>13</td><td>Literal</td><td></td><td><a class=\"ProveItLink\" href=\"../../../../../exponentiation/__pv_it/common/0ac37aca1e54c35c5cda09672df32d4f69f1f3020/expr.ipynb\"><img src=\"../../../../../exponentiation/__pv_it/common/0ac37aca1e54c35c5cda09672df32d4f69f1f3020/expr.png\" style=\"display:inline;vertical-align:middle;\" /></a></td></tr>\n",
       "<tr><td>14</td><td>ExprTuple</td><td>19, 20</td><td><a class=\"ProveItLink\" href=\"../285a217d36bacd764b7d3fe48f1452897e9cbf770/expr.ipynb\"><img src=\"../285a217d36bacd764b7d3fe48f1452897e9cbf770/expr.png\" style=\"display:inline;vertical-align:middle;\" /></a></td></tr>\n",
       "<tr><td>15</td><td>ExprTuple</td><td>41, 21</td><td><a class=\"ProveItLink\" href=\"../d87b972e3e29265b9fca1a9cb6e1de56983159ab0/expr.ipynb\"><img src=\"../d87b972e3e29265b9fca1a9cb6e1de56983159ab0/expr.png\" style=\"display:inline;vertical-align:middle;\" /></a></td></tr>\n",
       "<tr><td>16</td><td>Literal</td><td></td><td><a class=\"ProveItLink\" href=\"../../../../../../logic/sets/membership/__pv_it/common/477487d8796864d23d5810f83761435f25167f690/expr.ipynb\"><img src=\"../../../../../../logic/sets/membership/__pv_it/common/477487d8796864d23d5810f83761435f25167f690/expr.png\" style=\"display:inline;vertical-align:middle;\" /></a></td></tr>\n",
       "<tr><td>17</td><td>ExprTuple</td><td>42, 21</td><td><a class=\"ProveItLink\" href=\"../48667a56c7fc92a4c53a9b189d704d88ea1df5f40/expr.ipynb\"><img src=\"../48667a56c7fc92a4c53a9b189d704d88ea1df5f40/expr.png\" style=\"display:inline;vertical-align:middle;\" /></a></td></tr>\n",
       "<tr><td>18</td><td>Operation</td><td>operator:&nbsp;23<br>operands:&nbsp;22<br></td><td><a class=\"ProveItLink\" href=\"../6686194bbe2dc32f03ec4d6b893b17b9b8c16c5a0/expr.ipynb\"><img src=\"../6686194bbe2dc32f03ec4d6b893b17b9b8c16c5a0/expr.png\" style=\"display:inline;vertical-align:middle;\" /></a></td></tr>\n",
       "<tr><td>19</td><td>Literal</td><td></td><td><a class=\"ProveItLink\" href=\"../../../../real_numbers/__pv_it/common/e531ffa54fd897084533764a4a14f19f590674f80/expr.ipynb\"><img src=\"../../../../real_numbers/__pv_it/common/e531ffa54fd897084533764a4a14f19f590674f80/expr.png\" style=\"display:inline;vertical-align:middle;\" /></a></td></tr>\n",
       "<tr><td>20</td><td>Operation</td><td>operator:&nbsp;23<br>operands:&nbsp;24<br></td><td><a class=\"ProveItLink\" href=\"../04c4ffcbea693dbc5c327cafb8f61190aa5906ef0/expr.ipynb\"><img src=\"../04c4ffcbea693dbc5c327cafb8f61190aa5906ef0/expr.png\" style=\"display:inline;vertical-align:middle;\" /></a></td></tr>\n",
       "<tr><td>21</td><td>Literal</td><td></td><td><a class=\"ProveItLink\" href=\"../../../../real_numbers/__pv_it/common/93cac87a1a47e613f7a83b23ef7891599a1a4cca0/expr.ipynb\"><img src=\"../../../../real_numbers/__pv_it/common/93cac87a1a47e613f7a83b23ef7891599a1a4cca0/expr.png\" style=\"display:inline;vertical-align:middle;\" /></a></td></tr>\n",
       "<tr><td>22</td><td>ExprTuple</td><td>25, 42</td><td><a class=\"ProveItLink\" href=\"../324a8a862e7fd21ead9028a8e1131538ccf1eb3a0/expr.ipynb\"><img src=\"../324a8a862e7fd21ead9028a8e1131538ccf1eb3a0/expr.png\" style=\"display:inline;vertical-align:middle;\" /></a></td></tr>\n",
       "<tr><td>23</td><td>Literal</td><td></td><td><a class=\"ProveItLink\" href=\"../../../../../division/__pv_it/common/a2a633e1e3c749fb1f2692466b287b6348c5de840/expr.ipynb\"><img src=\"../../../../../division/__pv_it/common/a2a633e1e3c749fb1f2692466b287b6348c5de840/expr.png\" style=\"display:inline;vertical-align:middle;\" /></a></td></tr>\n",
       "<tr><td>24</td><td>ExprTuple</td><td>26, 42</td><td><a class=\"ProveItLink\" href=\"../bfef63c7a163347c2fae36b807289410450be6840/expr.ipynb\"><img src=\"../bfef63c7a163347c2fae36b807289410450be6840/expr.png\" style=\"display:inline;vertical-align:middle;\" /></a></td></tr>\n",
       "<tr><td>25</td><td>Operation</td><td>operator:&nbsp;28<br>operand:&nbsp;30<br></td><td><a class=\"ProveItLink\" href=\"../fd5c058d94e6986ad31355c8c80b21ccb08aae560/expr.ipynb\"><img src=\"../fd5c058d94e6986ad31355c8c80b21ccb08aae560/expr.png\" style=\"display:inline;vertical-align:middle;\" /></a></td></tr>\n",
       "<tr><td>26</td><td>Operation</td><td>operator:&nbsp;28<br>operand:&nbsp;31<br></td><td><a class=\"ProveItLink\" href=\"../28751f6b29f51199e365872eec53a7e4f8e1795c0/expr.ipynb\"><img src=\"../28751f6b29f51199e365872eec53a7e4f8e1795c0/expr.png\" style=\"display:inline;vertical-align:middle;\" /></a></td></tr>\n",
       "<tr><td>27</td><td>ExprTuple</td><td>30</td><td><a class=\"ProveItLink\" href=\"../7ba57bbc03f104076d4ef461f0fe6c39168297680/expr.ipynb\"><img src=\"../7ba57bbc03f104076d4ef461f0fe6c39168297680/expr.png\" style=\"display:inline;vertical-align:middle;\" /></a></td></tr>\n",
       "<tr><td>28</td><td>Literal</td><td></td><td><a class=\"ProveItLink\" href=\"../../../../../negation/__pv_it/common/221b3c4d1770ee9051b7c044c3f9ec61196fc34b0/expr.ipynb\"><img src=\"../../../../../negation/__pv_it/common/221b3c4d1770ee9051b7c044c3f9ec61196fc34b0/expr.png\" style=\"display:inline;vertical-align:middle;\" /></a></td></tr>\n",
       "<tr><td>29</td><td>ExprTuple</td><td>31</td><td><a class=\"ProveItLink\" href=\"../f3d01432b0634e08eda73989144743b422f788100/expr.ipynb\"><img src=\"../f3d01432b0634e08eda73989144743b422f788100/expr.png\" style=\"display:inline;vertical-align:middle;\" /></a></td></tr>\n",
       "<tr><td>30</td><td>Operation</td><td>operator:&nbsp;33<br>operands:&nbsp;32<br></td><td><a class=\"ProveItLink\" href=\"../e7b34e786ef83a66be5ce3db8503fc1f8a43e8240/expr.ipynb\"><img src=\"../e7b34e786ef83a66be5ce3db8503fc1f8a43e8240/expr.png\" style=\"display:inline;vertical-align:middle;\" /></a></td></tr>\n",
       "<tr><td>31</td><td>Operation</td><td>operator:&nbsp;33<br>operands:&nbsp;34<br></td><td><a class=\"ProveItLink\" href=\"../cbdea614f764976cc54d30a6edf89501502acedd0/expr.ipynb\"><img src=\"../cbdea614f764976cc54d30a6edf89501502acedd0/expr.png\" style=\"display:inline;vertical-align:middle;\" /></a></td></tr>\n",
       "<tr><td>32</td><td>ExprTuple</td><td>36, 37, 38, 35</td><td><a class=\"ProveItLink\" href=\"../479fdd92d046079c3d78ed2a04263a30476338750/expr.ipynb\"><img src=\"../479fdd92d046079c3d78ed2a04263a30476338750/expr.png\" style=\"display:inline;vertical-align:middle;\" /></a></td></tr>\n",
       "<tr><td>33</td><td>Literal</td><td></td><td><a class=\"ProveItLink\" href=\"../../../../../multiplication/__pv_it/common/ed719cef37831779c16481533a4d380a2f95ab270/expr.ipynb\"><img src=\"../../../../../multiplication/__pv_it/common/ed719cef37831779c16481533a4d380a2f95ab270/expr.png\" style=\"display:inline;vertical-align:middle;\" /></a></td></tr>\n",
       "<tr><td>34</td><td>ExprTuple</td><td>36, 37, 38, 41</td><td><a class=\"ProveItLink\" href=\"../bd5200e612cb4d5129b7996388a665685f058b380/expr.ipynb\"><img src=\"../bd5200e612cb4d5129b7996388a665685f058b380/expr.png\" style=\"display:inline;vertical-align:middle;\" /></a></td></tr>\n",
       "<tr><td>35</td><td>Operation</td><td>operator:&nbsp;39<br>operands:&nbsp;40<br></td><td><a class=\"ProveItLink\" href=\"../37e4388c422406c42e97c0e91d8d75ac19d3fa300/expr.ipynb\"><img src=\"../37e4388c422406c42e97c0e91d8d75ac19d3fa300/expr.png\" style=\"display:inline;vertical-align:middle;\" /></a></td></tr>\n",
       "<tr><td>36</td><td>Literal</td><td></td><td><a class=\"ProveItLink\" href=\"../../../../../numerals/__pv_it/common/af4aab8a07465db063742696e006d04670f30cf10/expr.ipynb\"><img src=\"../../../../../numerals/__pv_it/common/af4aab8a07465db063742696e006d04670f30cf10/expr.png\" style=\"display:inline;vertical-align:middle;\" /></a></td></tr>\n",
       "<tr><td>37</td><td>Literal</td><td></td><td><a class=\"ProveItLink\" href=\"../../../../real_numbers/__pv_it/common/246c206266ac5b48800e508d580f91767b24c2df0/expr.ipynb\"><img src=\"../../../../real_numbers/__pv_it/common/246c206266ac5b48800e508d580f91767b24c2df0/expr.png\" style=\"display:inline;vertical-align:middle;\" /></a></td></tr>\n",
       "<tr><td>38</td><td>Literal</td><td></td><td><a class=\"ProveItLink\" href=\"../../common/6c9cc69d472f352324c298b2318df233e9a7e0250/expr.ipynb\"><img src=\"../../common/6c9cc69d472f352324c298b2318df233e9a7e0250/expr.png\" style=\"display:inline;vertical-align:middle;\" /></a></td></tr>\n",
       "<tr><td>39</td><td>Literal</td><td></td><td><a class=\"ProveItLink\" href=\"../../../../../modular/__pv_it/common/f61fe43eeba657b57e4fe7773885cfa81fe3dfc20/expr.ipynb\"><img src=\"../../../../../modular/__pv_it/common/f61fe43eeba657b57e4fe7773885cfa81fe3dfc20/expr.png\" style=\"display:inline;vertical-align:middle;\" /></a></td></tr>\n",
       "<tr><td>40</td><td>ExprTuple</td><td>41, 42</td><td><a class=\"ProveItLink\" href=\"../3f5e06318c2b1b43ca07b97c84a3c157a9820f6b0/expr.ipynb\"><img src=\"../3f5e06318c2b1b43ca07b97c84a3c157a9820f6b0/expr.png\" style=\"display:inline;vertical-align:middle;\" /></a></td></tr>\n",
       "<tr><td>41</td><td>Variable</td><td></td><td><a class=\"ProveItLink\" href=\"../../../../../../__pv_it/common/a0d9d672aa5e272d907247690c152cc2c6daafb70/expr.ipynb\"><img src=\"../../../../../../__pv_it/common/a0d9d672aa5e272d907247690c152cc2c6daafb70/expr.png\" style=\"display:inline;vertical-align:middle;\" /></a></td></tr>\n",
       "<tr><td>42</td><td>Variable</td><td></td><td><a class=\"ProveItLink\" href=\"../../../../../../__pv_it/common/c3df45f28d41d286d2eebe2be9be7af76c74d56b0/expr.ipynb\"><img src=\"../../../../../../__pv_it/common/c3df45f28d41d286d2eebe2be9be7af76c74d56b0/expr.png\" style=\"display:inline;vertical-align:middle;\" /></a></td></tr>\n",
       "</table>\n"
      ],
      "text/plain": [
       "0. (x, r) -> {e^{(-(2 * pi * i * (x mod r))) / r} = e^{(-(2 * pi * i * x)) / r} if x in Real ,  r in Real.\n",
       "   core type: Lambda\n",
       "   parameters: 40\\n   body: 1\n",
       "1. {e^{(-(2 * pi * i * (x mod r))) / r} = e^{(-(2 * pi * i * x)) / r} if x in Real ,  r in Real.\n",
       "   core type: Conditional\n",
       "   value: 2\n",
       "   condition: 3\n",
       "2. e^{(-(2 * pi * i * (x mod r))) / r} = e^{(-(2 * pi * i * x)) / r}\n",
       "   core type: Operation\n",
       "   operator: 4\n",
       "   operands: 5\n",
       "3. (x in Real) and (r in Real)\n",
       "   core type: Operation\n",
       "   operator: 6\n",
       "   operands: 7\n",
       "4. =\n",
       "   core type: Literal\n",
       "   sub-expressions: \n",
       "5. (e^{(-(2 * pi * i * (x mod r))) / r}, e^{(-(2 * pi * i * x)) / r})\n",
       "   core type: ExprTuple\n",
       "   sub-expressions: 8, 9\n",
       "6. and\n",
       "   core type: Literal\n",
       "   sub-expressions: \n",
       "7. (x in Real, r in Real)\n",
       "   core type: ExprTuple\n",
       "   sub-expressions: 10, 11\n",
       "8. e^{(-(2 * pi * i * (x mod r))) / r}\n",
       "   core type: Operation\n",
       "   operator: 13\n",
       "   operands: 12\n",
       "9. e^{(-(2 * pi * i * x)) / r}\n",
       "   core type: Operation\n",
       "   operator: 13\n",
       "   operands: 14\n",
       "10. x in Real\n",
       "    core type: Operation\n",
       "    operator: 16\n",
       "    operands: 15\n",
       "11. r in Real\n",
       "    core type: Operation\n",
       "    operator: 16\n",
       "    operands: 17\n",
       "12. (e, (-(2 * pi * i * (x mod r))) / r)\n",
       "    core type: ExprTuple\n",
       "    sub-expressions: 19, 18\n",
       "13. Exp\n",
       "    core type: Literal\n",
       "    sub-expressions: \n",
       "14. (e, (-(2 * pi * i * x)) / r)\n",
       "    core type: ExprTuple\n",
       "    sub-expressions: 19, 20\n",
       "15. (x, Real)\n",
       "    core type: ExprTuple\n",
       "    sub-expressions: 41, 21\n",
       "16. in\n",
       "    core type: Literal\n",
       "    sub-expressions: \n",
       "17. (r, Real)\n",
       "    core type: ExprTuple\n",
       "    sub-expressions: 42, 21\n",
       "18. (-(2 * pi * i * (x mod r))) / r\n",
       "    core type: Operation\n",
       "    operator: 23\n",
       "    operands: 22\n",
       "19. e\n",
       "    core type: Literal\n",
       "    sub-expressions: \n",
       "20. (-(2 * pi * i * x)) / r\n",
       "    core type: Operation\n",
       "    operator: 23\n",
       "    operands: 24\n",
       "21. Real\n",
       "    core type: Literal\n",
       "    sub-expressions: \n",
       "22. (-(2 * pi * i * (x mod r)), r)\n",
       "    core type: ExprTuple\n",
       "    sub-expressions: 25, 42\n",
       "23. /\n",
       "    core type: Literal\n",
       "    sub-expressions: \n",
       "24. (-(2 * pi * i * x), r)\n",
       "    core type: ExprTuple\n",
       "    sub-expressions: 26, 42\n",
       "25. -(2 * pi * i * (x mod r))\n",
       "    core type: Operation\n",
       "    operator: 28\n",
       "    operand: 30\n",
       "26. -(2 * pi * i * x)\n",
       "    core type: Operation\n",
       "    operator: 28\n",
       "    operand: 31\n",
       "27. (2 * pi * i * (x mod r))\n",
       "    core type: ExprTuple\n",
       "    sub-expressions: 30\n",
       "28. -\n",
       "    core type: Literal\n",
       "    sub-expressions: \n",
       "29. (2 * pi * i * x)\n",
       "    core type: ExprTuple\n",
       "    sub-expressions: 31\n",
       "30. 2 * pi * i * (x mod r)\n",
       "    core type: Operation\n",
       "    operator: 33\n",
       "    operands: 32\n",
       "31. 2 * pi * i * x\n",
       "    core type: Operation\n",
       "    operator: 33\n",
       "    operands: 34\n",
       "32. (2, pi, i, x mod r)\n",
       "    core type: ExprTuple\n",
       "    sub-expressions: 36, 37, 38, 35\n",
       "33. *\n",
       "    core type: Literal\n",
       "    sub-expressions: \n",
       "34. (2, pi, i, x)\n",
       "    core type: ExprTuple\n",
       "    sub-expressions: 36, 37, 38, 41\n",
       "35. x mod r\n",
       "    core type: Operation\n",
       "    operator: 39\n",
       "    operands: 40\n",
       "36. 2\n",
       "    core type: Literal\n",
       "    sub-expressions: \n",
       "37. pi\n",
       "    core type: Literal\n",
       "    sub-expressions: \n",
       "38. i\n",
       "    core type: Literal\n",
       "    sub-expressions: \n",
       "39. mod\n",
       "    core type: Literal\n",
       "    sub-expressions: \n",
       "40. (x, r)\n",
       "    core type: ExprTuple\n",
       "    sub-expressions: 41, 42\n",
       "41. x\n",
       "    core type: Variable\n",
       "    sub-expressions: \n",
       "42. r\n",
       "    core type: Variable\n",
       "    sub-expressions: "
      ]
     },
     "metadata": {},
     "output_type": "display_data"
    }
   ],
   "source": [
    "# display the expression information\n",
    "stored_expr.expr_info()"
   ]
  },
  {
   "cell_type": "code",
   "execution_count": null,
   "metadata": {},
   "outputs": [],
   "source": []
  }
 ],
 "metadata": {
  "kernelspec": {
   "display_name": "Python 3",
   "language": "python",
   "name": "python3"
  }
 },
 "nbformat": 4,
 "nbformat_minor": 0
}