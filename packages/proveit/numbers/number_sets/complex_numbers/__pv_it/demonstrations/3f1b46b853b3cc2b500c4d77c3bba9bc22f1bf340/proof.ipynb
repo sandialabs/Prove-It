{
 "cells": [
  {
   "cell_type": "markdown",
   "metadata": {},
   "source": [
    "Show the Proof\n",
    "========"
   ]
  },
  {
   "cell_type": "code",
   "execution_count": 1,
   "metadata": {},
   "outputs": [
    {
     "data": {
      "text/html": [
       "<table><tr><th>&nbsp;</th><th>step type</th><th>requirements</th><th>statement</th></tr>\n",
       "<tr><td><a name=\"proveit.numbers.number_sets.complex_numbers.demonstrations.3f1b46b853b3cc2b500c4d77c3bba9bc22f1bf340_step0\">0</a></td><td>instantiation</td><td><a href=\"#proveit.numbers.number_sets.complex_numbers.demonstrations.3f1b46b853b3cc2b500c4d77c3bba9bc22f1bf340_step1\">1</a>, <a href=\"#proveit.numbers.number_sets.complex_numbers.demonstrations.3f1b46b853b3cc2b500c4d77c3bba9bc22f1bf340_step2\">2</a>, <a href=\"#proveit.numbers.number_sets.complex_numbers.demonstrations.3f1b46b853b3cc2b500c4d77c3bba9bc22f1bf340_step3\">3</a></td><td><span style=\"font-size:20px;\"><a class=\"ProveItLink\" href=\"../../theorems/c5f7c7af5e98a77df62ad9c27b71c6724bff07be0/expr.ipynb\"><img src=\"../../theorems/c5f7c7af5e98a77df62ad9c27b71c6724bff07be0/expr.png\" style=\"display:inline;vertical-align:middle;\" /></a>, <a class=\"ProveItLink\" href=\"../../../../real_numbers/__pv_it/theorems/d2d428f1124ef55277523143f9436098e99f174d0/expr.ipynb\"><img src=\"../../../../real_numbers/__pv_it/theorems/d2d428f1124ef55277523143f9436098e99f174d0/expr.png\" style=\"display:inline;vertical-align:middle;\" /></a> <a class=\"ProveItLink\" href=\"proof.ipynb\" style=\"text-decoration: none\">&nbsp;&#x22A2;&nbsp;&nbsp;</a><a class=\"ProveItLink\" href=\"../../theorems/577412f0cc17bcff3fbe7f20aeda2716326d2f200/expr.ipynb\"><img src=\"../../theorems/577412f0cc17bcff3fbe7f20aeda2716326d2f200/expr.png\" style=\"display:inline;vertical-align:middle;\" /></a></span></td></tr>\n",
       "<tr><td>&nbsp;</td><td colspan=4 style=\"text-align:left\"><span style=\"font-size:20px;\"><a class=\"ProveItLink\" href=\"../../../../../../__pv_it/common/a0d9d672aa5e272d907247690c152cc2c6daafb70/expr.ipynb\"><img src=\"../../../../../../__pv_it/common/a0d9d672aa5e272d907247690c152cc2c6daafb70/expr.png\" style=\"display:inline;vertical-align:middle;\" /></a> : <a class=\"ProveItLink\" href=\"../../../../../../__pv_it/common/a0d9d672aa5e272d907247690c152cc2c6daafb70/expr.ipynb\"><img src=\"../../../../../../__pv_it/common/a0d9d672aa5e272d907247690c152cc2c6daafb70/expr.png\" style=\"display:inline;vertical-align:middle;\" /></a></span></td></tr><tr><td><a name=\"proveit.numbers.number_sets.complex_numbers.demonstrations.3f1b46b853b3cc2b500c4d77c3bba9bc22f1bf340_step1\">1</a></td><td>theorem</td><td></td><td><span style=\"font-size:20px;\"> <a class=\"ProveItLink\" href=\"../../../_theory_nbs_/proofs/nonzero_complex_is_complex_nonzero/thm_proof.ipynb\" style=\"text-decoration: none\">&nbsp;&#x22A2;&nbsp;&nbsp;</a><a class=\"ProveItLink\" href=\"../../theorems/5efbd795750b399e2e69db952ed29be820a8ea3b0/expr.ipynb\"><img src=\"../../theorems/5efbd795750b399e2e69db952ed29be820a8ea3b0/expr.png\" style=\"display:inline;vertical-align:middle;\" /></a></span></td></tr>\n",
       "<tr><td>&nbsp;</td><td colspan=4 style-\"text-align:left\"><a class=\"ProveItLink\" href=\"../../../_theory_nbs_/proofs/nonzero_complex_is_complex_nonzero/thm_proof.ipynb\">proveit.numbers.number_sets.complex_numbers.nonzero_complex_is_complex_nonzero</a></td></tr><tr><td><a name=\"proveit.numbers.number_sets.complex_numbers.demonstrations.3f1b46b853b3cc2b500c4d77c3bba9bc22f1bf340_step2\">2</a></td><td>assumption</td><td></td><td><span style=\"font-size:20px;\"><a class=\"ProveItLink\" href=\"../../theorems/c5f7c7af5e98a77df62ad9c27b71c6724bff07be0/expr.ipynb\"><img src=\"../../theorems/c5f7c7af5e98a77df62ad9c27b71c6724bff07be0/expr.png\" style=\"display:inline;vertical-align:middle;\" /></a> <a class=\"ProveItLink\" href=\"../5514fe0307c35e84828e4bfe8d01b9fa1a9ec0110/proof.ipynb\" style=\"text-decoration: none\">&nbsp;&#x22A2;&nbsp;&nbsp;</a><a class=\"ProveItLink\" href=\"../../theorems/c5f7c7af5e98a77df62ad9c27b71c6724bff07be0/expr.ipynb\"><img src=\"../../theorems/c5f7c7af5e98a77df62ad9c27b71c6724bff07be0/expr.png\" style=\"display:inline;vertical-align:middle;\" /></a></span></td></tr>\n",
       "<tr><td><a name=\"proveit.numbers.number_sets.complex_numbers.demonstrations.3f1b46b853b3cc2b500c4d77c3bba9bc22f1bf340_step3\">3</a></td><td>assumption</td><td></td><td><span style=\"font-size:20px;\"><a class=\"ProveItLink\" href=\"../../../../real_numbers/__pv_it/theorems/d2d428f1124ef55277523143f9436098e99f174d0/expr.ipynb\"><img src=\"../../../../real_numbers/__pv_it/theorems/d2d428f1124ef55277523143f9436098e99f174d0/expr.png\" style=\"display:inline;vertical-align:middle;\" /></a> <a class=\"ProveItLink\" href=\"../2a3b5712c37f8781f8b468a49f21a0ad440aa32e0/proof.ipynb\" style=\"text-decoration: none\">&nbsp;&#x22A2;&nbsp;&nbsp;</a><a class=\"ProveItLink\" href=\"../../../../real_numbers/__pv_it/theorems/d2d428f1124ef55277523143f9436098e99f174d0/expr.ipynb\"><img src=\"../../../../real_numbers/__pv_it/theorems/d2d428f1124ef55277523143f9436098e99f174d0/expr.png\" style=\"display:inline;vertical-align:middle;\" /></a></span></td></tr>\n",
       "</table>"
      ],
      "text/plain": [
       "<proveit._core_.proof._ShowProof at 0x7f2cf44d7ac8>"
      ]
     },
     "execution_count": 1,
     "metadata": {},
     "output_type": "execute_result"
    }
   ],
   "source": [
    "import proveit\n",
    "# Automation is not needed when only showing a stored proof:\n",
    "proveit.defaults.automation = False # This will speed things up.\n",
    "proveit.defaults.inline_pngs = False # Makes files smaller.\n",
    "%show_proof"
   ]
  },
  {
   "cell_type": "code",
   "execution_count": null,
   "metadata": {},
   "outputs": [],
   "source": []
  }
 ],
 "metadata": {
  "kernelspec": {
   "display_name": "Python 3",
   "language": "python",
   "name": "python3"
  }
 },
 "nbformat": 4,
 "nbformat_minor": 0
}