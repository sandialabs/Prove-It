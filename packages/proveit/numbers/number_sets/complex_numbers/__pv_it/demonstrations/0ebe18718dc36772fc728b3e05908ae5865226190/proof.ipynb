{
 "cells": [
  {
   "cell_type": "markdown",
   "metadata": {},
   "source": [
    "Show the Proof\n",
    "========"
   ]
  },
  {
   "cell_type": "code",
   "execution_count": 1,
   "metadata": {},
   "outputs": [
    {
     "data": {
      "text/html": [
       "<table><tr><th>&nbsp;</th><th>step type</th><th>requirements</th><th>statement</th></tr>\n",
       "<tr><td><a name=\"proveit.numbers.number_sets.complex_numbers.demonstrations.0ebe18718dc36772fc728b3e05908ae5865226190_step0\">0</a></td><td>instantiation</td><td><a href=\"#proveit.numbers.number_sets.complex_numbers.demonstrations.0ebe18718dc36772fc728b3e05908ae5865226190_step1\">1</a>, <a href=\"#proveit.numbers.number_sets.complex_numbers.demonstrations.0ebe18718dc36772fc728b3e05908ae5865226190_step2\">2</a>, <a href=\"#proveit.numbers.number_sets.complex_numbers.demonstrations.0ebe18718dc36772fc728b3e05908ae5865226190_step3\">3</a>, <a href=\"#proveit.numbers.number_sets.complex_numbers.demonstrations.0ebe18718dc36772fc728b3e05908ae5865226190_step4\">4</a></td><td><span style=\"font-size:20px;\"><a class=\"ProveItLink\" href=\"../80a75f44d1804611e55ae41a423e10a6d550c4f50/expr.ipynb\"><img src=\"../80a75f44d1804611e55ae41a423e10a6d550c4f50/expr.png\" style=\"display:inline;vertical-align:middle;\" /></a>, <a class=\"ProveItLink\" href=\"../15b081bab54b571767e806f880f01a23d064d4740/expr.ipynb\"><img src=\"../15b081bab54b571767e806f880f01a23d064d4740/expr.png\" style=\"display:inline;vertical-align:middle;\" /></a>, <a class=\"ProveItLink\" href=\"../384827447be87f00f421d610176770bb4a5d2c830/expr.ipynb\"><img src=\"../384827447be87f00f421d610176770bb4a5d2c830/expr.png\" style=\"display:inline;vertical-align:middle;\" /></a> <a class=\"ProveItLink\" href=\"proof.ipynb\" style=\"text-decoration: none\">&nbsp;&#x22A2;&nbsp;&nbsp;</a><a class=\"ProveItLink\" href=\"../6ee560e3b2e42898f94860f4efdf8a7af1844d2d0/expr.ipynb\"><img src=\"../6ee560e3b2e42898f94860f4efdf8a7af1844d2d0/expr.png\" style=\"display:inline;vertical-align:middle;\" /></a></span></td></tr>\n",
       "<tr><td>&nbsp;</td><td colspan=4 style=\"text-align:left\"><span style=\"font-size:20px;\"><a class=\"ProveItLink\" href=\"../../../../../../__pv_it/common/a0d9d672aa5e272d907247690c152cc2c6daafb70/expr.ipynb\"><img src=\"../../../../../../__pv_it/common/a0d9d672aa5e272d907247690c152cc2c6daafb70/expr.png\" style=\"display:inline;vertical-align:middle;\" /></a> : <a class=\"ProveItLink\" href=\"../../../../../../__pv_it/common/c06c606ec12678c58933ac85412ecadc2ae28be60/expr.ipynb\"><img src=\"../../../../../../__pv_it/common/c06c606ec12678c58933ac85412ecadc2ae28be60/expr.png\" style=\"display:inline;vertical-align:middle;\" /></a>, <a class=\"ProveItLink\" href=\"../../../../../../__pv_it/common/ff7dba4ef0bbe791ab573bf2d9c220a304399ac80/expr.ipynb\"><img src=\"../../../../../../__pv_it/common/ff7dba4ef0bbe791ab573bf2d9c220a304399ac80/expr.png\" style=\"display:inline;vertical-align:middle;\" /></a> : <a class=\"ProveItLink\" href=\"../../../../../../__pv_it/common/195236b98c6c564a75b5dbada74b173bc52d5c3e0/expr.ipynb\"><img src=\"../../../../../../__pv_it/common/195236b98c6c564a75b5dbada74b173bc52d5c3e0/expr.png\" style=\"display:inline;vertical-align:middle;\" /></a></span></td></tr><tr><td><a name=\"proveit.numbers.number_sets.complex_numbers.demonstrations.0ebe18718dc36772fc728b3e05908ae5865226190_step1\">1</a></td><td>theorem</td><td></td><td><span style=\"font-size:20px;\"> <a class=\"ProveItLink\" href=\"../../../../../absolute_value/_theory_nbs_/proofs/abs_eq/thm_proof.ipynb\" style=\"text-decoration: none\">&nbsp;&#x22A2;&nbsp;&nbsp;</a><a class=\"ProveItLink\" href=\"../../../../../absolute_value/__pv_it/theorems/ddf4164bdcf6f16109fa7644b07c22a0ad9bc49f0/expr.ipynb\"><img src=\"../../../../../absolute_value/__pv_it/theorems/ddf4164bdcf6f16109fa7644b07c22a0ad9bc49f0/expr.png\" style=\"display:inline;vertical-align:middle;\" /></a></span></td></tr>\n",
       "<tr><td>&nbsp;</td><td colspan=4 style-\"text-align:left\"><a class=\"ProveItLink\" href=\"../../../../../absolute_value/_theory_nbs_/proofs/abs_eq/thm_proof.ipynb\">proveit.numbers.absolute_value.abs_eq</a></td></tr><tr><td><a name=\"proveit.numbers.number_sets.complex_numbers.demonstrations.0ebe18718dc36772fc728b3e05908ae5865226190_step2\">2</a></td><td>assumption</td><td></td><td><span style=\"font-size:20px;\"><a class=\"ProveItLink\" href=\"../80a75f44d1804611e55ae41a423e10a6d550c4f50/expr.ipynb\"><img src=\"../80a75f44d1804611e55ae41a423e10a6d550c4f50/expr.png\" style=\"display:inline;vertical-align:middle;\" /></a> <a class=\"ProveItLink\" href=\"../2d6a085d0d42c969f127a8fd2c202af679ff02680/proof.ipynb\" style=\"text-decoration: none\">&nbsp;&#x22A2;&nbsp;&nbsp;</a><a class=\"ProveItLink\" href=\"../80a75f44d1804611e55ae41a423e10a6d550c4f50/expr.ipynb\"><img src=\"../80a75f44d1804611e55ae41a423e10a6d550c4f50/expr.png\" style=\"display:inline;vertical-align:middle;\" /></a></span></td></tr>\n",
       "<tr><td><a name=\"proveit.numbers.number_sets.complex_numbers.demonstrations.0ebe18718dc36772fc728b3e05908ae5865226190_step3\">3</a></td><td>assumption</td><td></td><td><span style=\"font-size:20px;\"><a class=\"ProveItLink\" href=\"../15b081bab54b571767e806f880f01a23d064d4740/expr.ipynb\"><img src=\"../15b081bab54b571767e806f880f01a23d064d4740/expr.png\" style=\"display:inline;vertical-align:middle;\" /></a> <a class=\"ProveItLink\" href=\"../f875970f7a6bc916803a3955adcdc4c36e9305640/proof.ipynb\" style=\"text-decoration: none\">&nbsp;&#x22A2;&nbsp;&nbsp;</a><a class=\"ProveItLink\" href=\"../15b081bab54b571767e806f880f01a23d064d4740/expr.ipynb\"><img src=\"../15b081bab54b571767e806f880f01a23d064d4740/expr.png\" style=\"display:inline;vertical-align:middle;\" /></a></span></td></tr>\n",
       "<tr><td><a name=\"proveit.numbers.number_sets.complex_numbers.demonstrations.0ebe18718dc36772fc728b3e05908ae5865226190_step4\">4</a></td><td>assumption</td><td></td><td><span style=\"font-size:20px;\"><a class=\"ProveItLink\" href=\"../384827447be87f00f421d610176770bb4a5d2c830/expr.ipynb\"><img src=\"../384827447be87f00f421d610176770bb4a5d2c830/expr.png\" style=\"display:inline;vertical-align:middle;\" /></a> <a class=\"ProveItLink\" href=\"../34dd0c7c625802bdd92fc1a8a5bdbd22e2e154340/proof.ipynb\" style=\"text-decoration: none\">&nbsp;&#x22A2;&nbsp;&nbsp;</a><a class=\"ProveItLink\" href=\"../384827447be87f00f421d610176770bb4a5d2c830/expr.ipynb\"><img src=\"../384827447be87f00f421d610176770bb4a5d2c830/expr.png\" style=\"display:inline;vertical-align:middle;\" /></a></span></td></tr>\n",
       "</table>"
      ],
      "text/plain": [
       "<proveit._core_.proof._ShowProof at 0x7f3e46a01278>"
      ]
     },
     "execution_count": 1,
     "metadata": {},
     "output_type": "execute_result"
    }
   ],
   "source": [
    "import proveit\n",
    "# Automation is not needed when only showing a stored proof:\n",
    "proveit.defaults.automation = False # This will speed things up.\n",
    "proveit.defaults.inline_pngs = False # Makes files smaller.\n",
    "%show_proof"
   ]
  },
  {
   "cell_type": "code",
   "execution_count": null,
   "metadata": {},
   "outputs": [],
   "source": []
  }
 ],
 "metadata": {
  "kernelspec": {
   "display_name": "Python 3",
   "language": "python",
   "name": "python3"
  }
 },
 "nbformat": 4,
 "nbformat_minor": 0
}