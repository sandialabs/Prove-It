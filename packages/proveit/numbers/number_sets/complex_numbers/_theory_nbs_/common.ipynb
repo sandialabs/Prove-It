{
 "cells": [
  {
   "cell_type": "markdown",
   "metadata": {},
   "source": [
    "Common expressions for the theory of <a class=\"ProveItLink\" href=\"theory.ipynb\">proveit.numbers.number_sets.complex_numbers</a>\n",
    "========"
   ]
  },
  {
   "cell_type": "code",
   "execution_count": 1,
   "metadata": {},
   "outputs": [],
   "source": [
    "import proveit\n",
    "# Prepare this notebook for defining the common expressions of a theory:\n",
    "%common_expressions_notebook # Keep this at the top following 'import proveit'.\n",
    "from proveit.numbers.number_sets.complex_numbers.imaginary import ImaginaryLiteral\n",
    "from proveit.numbers.number_sets.complex_numbers.complex import ComplexSet, ComplexNonZeroSet"
   ]
  },
  {
   "cell_type": "code",
   "execution_count": 2,
   "metadata": {},
   "outputs": [
    {
     "name": "stdout",
     "output_type": "stream",
     "text": [
      "Defining common sub-expressions for theory 'proveit.numbers.number_sets.complex_numbers'\n",
      "Subsequent end-of-cell assignments will define common sub-expressions\n",
      "%end_common will finalize the definitions\n"
     ]
    }
   ],
   "source": [
    "%begin common"
   ]
  },
  {
   "cell_type": "code",
   "execution_count": 3,
   "metadata": {},
   "outputs": [
    {
     "data": {
      "text/html": [
       "<strong id=\"i\">i:</strong> <a class=\"ProveItLink\" href=\"../__pv_it/common/6c9cc69d472f352324c298b2318df233e9a7e0250/common_expr.ipynb\"><img src=\"data:image/png;base64,iVBORw0KGgoAAAANSUhEUgAAAAMAAAAPBAMAAADTxGj3AAAAFVBMVEX///8AAAAAAAAAAAAAAAAA\n",
       "AAAAAAA9huxxAAAABnRSTlMAZt1UdjJ27e2kAAAACXBIWXMAAA7EAAAOxAGVKw4bAAAAFElEQVQI\n",
       "12MQMmBwM2CAA7MAPAgAbA0F9UG0frQAAAAASUVORK5CYII=\n",
       "\" style=\"display:inline;vertical-align:middle;\" /></a><br>"
      ],
      "text/plain": [
       "<IPython.core.display.HTML object>"
      ]
     },
     "metadata": {},
     "output_type": "display_data"
    }
   ],
   "source": [
    "i = ImaginaryLiteral()"
   ]
  },
  {
   "cell_type": "code",
   "execution_count": 4,
   "metadata": {},
   "outputs": [
    {
     "data": {
      "text/html": [
       "<strong id=\"Complex\">Complex:</strong> <a class=\"ProveItLink\" href=\"../__pv_it/common/d18a028138f659eda00de597c28a3447fe87eb100/common_expr.ipynb\"><img src=\"data:image/png;base64,iVBORw0KGgoAAAANSUhEUgAAAA8AAAAPBAMAAADJ+Ih5AAAAMFBMVEX///8AAAAAAAAAAAAAAAAA\n",
       "AAAAAAAAAAAAAAAAAAAAAAAAAAAAAAAAAAAAAAAAAAAv3aB7AAAAD3RSTlMAEIm73c12IjKr72aZ\n",
       "RFTgyeMAAAAACXBIWXMAAA7EAAAOxAGVKw4bAAAAZ0lEQVQI12NgYBAyCU1vYmBgYJu1gfG8DZBx\n",
       "7BIDAzeQwXHAEMibw8DAKWAAZEgzMDCzH2AAg0oOBQijiXcDhFHDmwBhMLNDpZjBuoCAF2wOL8jk\n",
       "m0DiKMgu0+OMT8BmCVl9Oc7AAAAdvxPWFwp0lAAAAABJRU5ErkJggg==\n",
       "\" style=\"display:inline;vertical-align:middle;\" /></a><br>"
      ],
      "text/plain": [
       "<IPython.core.display.HTML object>"
      ]
     },
     "metadata": {},
     "output_type": "display_data"
    }
   ],
   "source": [
    "Complex = ComplexSet()"
   ]
  },
  {
   "cell_type": "code",
   "execution_count": 5,
   "metadata": {},
   "outputs": [
    {
     "data": {
      "text/html": [
       "<strong id=\"ComplexNonZero\">ComplexNonZero:</strong> <a class=\"ProveItLink\" href=\"../__pv_it/common/8ab52a5fa82bbe01e674c56b4ac8573af71c37d10/common_expr.ipynb\"><img src=\"data:image/png;base64,iVBORw0KGgoAAAANSUhEUgAAACQAAAAUCAMAAADSpG8HAAAAOVBMVEX///8AAAAAAAAAAAAAAAAA\n",
       "AAAAAAAAAAAAAAAAAAAAAAAAAAAAAAAAAAAAAAAAAAAAAAAAAAAAAAACXHtMAAAAEnRSTlMAEIm7\n",
       "3c12IjKr72aZRFTt5ckIIT2HAAAACXBIWXMAAA7EAAAOxAGVKw4bAAAAzElEQVQoz4WSiw6DIAxF\n",
       "C4XyKmzj/z925WEImcwm1ojX3ssRgFMpeC6de9ekzxoXWk8EkPEoCq716KVVd9DkbuJqCxbLyKjR\n",
       "WEvOyyvGVi+5EvguMqlpKES5K67IcxD19SmKEgyYxnBIl0jNrMOuip1nwMkk8LB7f7DbreBBwbVJ\n",
       "NV3ClZ8agvaE4HjfGi7YApNVp+Z3qIV+iIgip23F3vBnyNunJd/AlUz68Xfj2t258uIE+agS4hMM\n",
       "2/MsQssOVDH8z1FOQayGT+cGvsCtBQsdztRTAAAAAElFTkSuQmCC\n",
       "\" style=\"display:inline;vertical-align:middle;\" /></a><br>"
      ],
      "text/plain": [
       "<IPython.core.display.HTML object>"
      ]
     },
     "metadata": {},
     "output_type": "display_data"
    }
   ],
   "source": [
    "ComplexNonZero = ComplexNonZeroSet()"
   ]
  },
  {
   "cell_type": "code",
   "execution_count": 6,
   "metadata": {},
   "outputs": [
    {
     "name": "stdout",
     "output_type": "stream",
     "text": [
      "These common expressions may now be imported from the theory package: proveit.numbers.number_sets.complex_numbers\n"
     ]
    }
   ],
   "source": [
    "%end common"
   ]
  },
  {
   "cell_type": "code",
   "execution_count": null,
   "metadata": {},
   "outputs": [],
   "source": []
  }
 ],
 "metadata": {
  "kernelspec": {
   "display_name": "Python 3",
   "language": "python",
   "name": "python3"
  }
 },
 "nbformat": 4,
 "nbformat_minor": 0
}