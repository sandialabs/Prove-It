{
 "cells": [
  {
   "cell_type": "markdown",
   "metadata": {},
   "source": [
    "Theory of <a class=\"ProveItLink\" href=\"../../../../_theory_nbs_/theory.ipynb\">proveit</a>.<a class=\"ProveItLink\" href=\"../../../_theory_nbs_/theory.ipynb\">numbers</a>.<a class=\"ProveItLink\" href=\"../../_theory_nbs_/theory.ipynb\">number_sets</a>.complex_numbers\n",
    "========\n",
    "\n",
    "Provide description here."
   ]
  },
  {
   "cell_type": "code",
   "execution_count": 1,
   "metadata": {},
   "outputs": [
    {
     "data": {
      "text/html": [
       "<h3>Local content of this theory</h3>"
      ],
      "text/plain": [
       "<IPython.core.display.HTML object>"
      ]
     },
     "metadata": {},
     "output_type": "display_data"
    },
    {
     "data": {
      "text/html": [
       "<table><tr>\n",
       "<th><a class=\"ProveItLink\" href=\"common.ipynb\">common expressions</a></th>\n",
       "<th><a class=\"ProveItLink\" href=\"axioms.ipynb\">axioms</a></th>\n",
       "<th><a class=\"ProveItLink\" href=\"theorems.ipynb\">theorems</a></th>\n",
       "<th><a class=\"ProveItLink\" href=\"demonstrations.ipynb\">demonstrations</a></th>\n",
       "</tr></table>\n",
       "<h3>Sub-theories</h3>\n"
      ],
      "text/plain": [
       "<IPython.core.display.HTML object>"
      ]
     },
     "metadata": {},
     "output_type": "display_data"
    },
    {
     "data": {
      "text/html": [
       "<h3>All axioms contained within this theory</h3>"
      ],
      "text/plain": [
       "<IPython.core.display.HTML object>"
      ]
     },
     "metadata": {},
     "output_type": "display_data"
    },
    {
     "data": {
      "text/html": [
       "<dt><a class=\"ProveItLink\" href=\"axioms.ipynb#imaginary_number_def\">proveit.numbers.number_sets.complex_numbers.imaginary_number_def</a></dt><dd><a class=\"ProveItLink\" href=\"../__pv_it/axioms/5b16aa60a4b2f6340d52cd72e6d8400fdd89acf00/expr.ipynb\"><img src=\"data:image/png;base64,iVBORw0KGgoAAAANSUhEUgAAAGsAAAAVBAMAAACzuQ2OAAAAMFBMVEX///8AAAAAAAAAAAAAAAAA\n",
       "AAAAAAAAAAAAAAAAAAAAAAAAAAAAAAAAAAAAAAAAAAAv3aB7AAAAD3RSTlMAInZUiRDNmWbv3US7\n",
       "qzJazP2FAAAACXBIWXMAAA7EAAAOxAGVKw4bAAABOElEQVQ4y2NgYBBgQAaoPAhgZMBUwmTAsRgm\n",
       "AGRtwqJNGZULVmLCwPQZJgBkMTVg6GJ2QLD5ljKAlbAmoClKxdAWhmDGln2FKGFHN70dQ1sFEpvp\n",
       "K0QJJ7oizgB0kQno2oBKzIBu/wf3BZDFhm49cwK6NqCSEnRtLBfQtLE7oGsDKslA18YBNrxqFQis\n",
       "ZWBAsx6sDahkMbo25glotnEZoGsDKpkN1cb6DaqN7wN6GG0AxgHY8nVQbUAlMG0My6HauCdg0YZq\n",
       "G1AJpiMXoPkNiyMXMBzCCJIDaLbxKGAEyQEGX3RtKOHNwIAWIywfIVHyCl0b1wY0bXwLEGzem99u\n",
       "gJVwPUBTJYWRJtcxYCrhKMCTcHEkbpCSg2g5+QCGNh4BLEpi8KsBpYQDWJQwKqCIKWIpFIQY0JUA\n",
       "AFRLXTKaaokhAAAAAElFTkSuQmCC\n",
       "\" style=\"display:inline;vertical-align:middle;\" /></a></dd>"
      ],
      "text/plain": [
       "<IPython.core.display.HTML object>"
      ]
     },
     "metadata": {},
     "output_type": "display_data"
    },
    {
     "data": {
      "text/html": [
       "<dt><a class=\"ProveItLink\" href=\"axioms.ipynb#complex_numbers_def\">proveit.numbers.number_sets.complex_numbers.complex_numbers_def</a></dt><dd><a class=\"ProveItLink\" href=\"../__pv_it/axioms/72b04c8a6bf0c174867bd6817c704499d6f811210/expr.ipynb\"><img src=\"data:image/png;base64,iVBORw0KGgoAAAANSUhEUgAAANoAAAAWBAMAAABUGZ8nAAAAMFBMVEX///8AAAAAAAAAAAAAAAAA\n",
       "AAAAAAAAAAAAAAAAAAAAAAAAAAAAAAAAAAAAAAAAAAAv3aB7AAAAD3RSTlMAq1RmmUTNIjK7EInv\n",
       "3XZ/CtNrAAAACXBIWXMAAA7EAAAOxAGVKw4bAAADM0lEQVRIx7VWTWjUQBR+TbI/ye6miwcPFiQg\n",
       "eNGWPUihPdRIVYSiLla8tNjVCqKHkoIHRYUVvNnSvYhu1RKll9LDbhWsCoJQBPEHa1kVhECKaG0P\n",
       "UjxU7UF885Nsxt2GvfjBl868N8037828lwVoABZnfU9jKwFi0BB0g7GeR14QDMc5RWiPPwydL0dc\n",
       "gDSZbgtV28FZz6P/8F95ex7lM4wiFudg8rcJnwH2kenpMDEtx1jfU0XUxMdZziCUL2WADhOiNlwh\n",
       "GS2EqSkZxip6A54qmkmyd3EGcVW1AZpMkKkgJIwwtSRnFW0BTxUDNjHZjATLjkOD36KSPODOXoKM\n",
       "z2josW3nrFVDq/TLtz6l6cwwIo6tcEfhHB8MArxxnFehaj2csZYlV1TrEdROfN+EaUoz4nLv+GLp\n",
       "a3w0A3AAYDxUbZCz31LXRbXBoJq2ZpcskDF3Ms1f1Ku7eNk753aAYRT3/iN+hg9aH+4Z8owLjNoc\n",
       "KPOi2kJQTVqHpAvSM6AMHE/M9CpwJ4BqJ7J+HC1EcrGY1RMwW+a254zKKqSI6aDjvHacd9xD1bQ1\n",
       "ckFz0FyG+CpQAow4CHrZCxf5m8ZwvRu4JC+Qe/NYoTp0uqJasgClrBibpwYVJG5lwIAIxhWhsU35\n",
       "Lx1X+aAfmevCx3TXLAnrz6JNWwGqrZhiJksu7IaQTGK5HbZBwmRLNOEpX+0oqTfAnbbin/t4ebSP\n",
       "8Z9E5JNu0j3pidiEV7oTjCUDNkuWoDYhqOXxZEEuMOIr3GovSdNEQwdOLpGxGSfhqxk5Ry+Qrtzy\n",
       "+8sMo+pKFUWMbSao1pRRMRtKmRFx0g9u+ZR1r8LrqAnPKZnVycVM5pV0e7FYNHQ9ccRbO8qobX00\n",
       "/E1UGxUqoKWb5C/LiLh73fa/AW8rJCvv+bxkqZ3oa4akQUtR1yN93tpUnrG2l4hWisucBH13HKFt\n",
       "x+a9jmeN9drTkLI7gB4pVsAT75ZgM6Ws7cqilaKbc6P2ThHpbnsAI0b8kAuxm6THfS1P7vdW3eCs\n",
       "RY2VfE02/KJcEKfsUzBdLGYF85RQPf96BKgWYwN7i9gb/KBwGet7BCxx1v1ZIe5Chv+Nv3Fw04Gv\n",
       "2FbHAAAAAElFTkSuQmCC\n",
       "\" style=\"display:inline;vertical-align:middle;\" /></a></dd>"
      ],
      "text/plain": [
       "<IPython.core.display.HTML object>"
      ]
     },
     "metadata": {},
     "output_type": "display_data"
    },
    {
     "data": {
      "text/html": [
       "<dt><a class=\"ProveItLink\" href=\"axioms.ipynb#conjugate_def\">proveit.numbers.number_sets.complex_numbers.conjugate_def</a></dt><dd><a class=\"ProveItLink\" href=\"../__pv_it/axioms/6c3d83938327ee86e813b76183cef6c952fcb6cd0/expr.ipynb\"><img src=\"data:image/png;base64,iVBORw0KGgoAAAANSUhEUgAAATcAAAAZBAMAAACm3XTzAAAAMFBMVEX///8AAAAAAAAAAAAAAAAA\n",
       "AAAAAAAAAAAAAAAAAAAAAAAAAAAAAAAAAAAAAAAAAAAv3aB7AAAAD3RSTlMAq1RmmUTNIjK7EInv\n",
       "3XZ/CtNrAAAACXBIWXMAAA7EAAAOxAGVKw4bAAADlklEQVRIx62XTWgTURDHJ03SpElMg4IgQgko\n",
       "eNDaHKpQ0bBSFKVUC3oUjFQQe5DtUSg1ngQpVFEQPej2UpAKrR+geJBcxC8qFRSDNZDWo4oSKBWF\n",
       "4sx7+/X2vd0kxoFZsv/N/JidN+9jAfwsPISXXdC0xTSACLRswYit6G1a09C2y1oVYldaTi4QkSjg\n",
       "ZZr9TR2suGc+cDULkG8gIpijRFjWkcPLNfq1rHy+DPuy7vtolTscP2cArDNUEU1xCJEhZYscNEZv\n",
       "UKJxmlOO3hz8sKF35/HyhXv66ROseTqjimiGwxAHSD0jRw1QU85ZQyuZqJ5Gbze4xyivxO86EfU5\n",
       "hLjo03wr6J00YfuFoufMH4IKNZrdGnfQSRmWgP3K5AI4wzzJZFYKitOrT1LnlIRRqJo/BDXK6vTa\n",
       "dGaHJWJJmVwABxFhrEW7HJRewMt3SqegSo7UnqKlJhesYtkF+yY1V0HZcgEcQsxXKm/kqBCxNlp9\n",
       "N/psXEyOVAfa3rWEtb8P3Jmd9E5XkeNW/TiEOARwS7GSUBvepACsbPQF3DGE5Eh1oLMjiVWA3cCd\n",
       "2SR7OFghewcSx04ngEOIUT6/eKedtaNIO0XLDb7LvRwMipUj1YH2GPAWYAdwZ3ZhyPO2Iset+nEI\n",
       "0WEkHdBmO4rmy3v0FD48CrBIY1CpfMYmyJgqg87S8B8E+INvCtx5EbzJuTgwzQparsMhRFvVNR9e\n",
       "SpWj8FeQWBErZ0PZSyxCFBeBE8CdV66oSM7huFU/DkMUaBebyT+mYV1bMuRhTaxB+GfQsNYggotA\n",
       "N3DnPad7ek7kqIdV5DDEgxFcjj/GV2kB+ZQ2zyEhmhCbaGZUIVHDybtNSA5VF/QXdRP0AXf1bBU5\n",
       "LtWXwxBjWKSIFi+x3T5sLkfpkrnSJPHpbejWNCE5Uh3oBrhubngDlrTXO/1Fjlv14zBEqEhjz7bq\n",
       "VDGScS3WlHscF8apr5e6ikJypDrQqUe0q30wndl+acsROG7Vj2MjZvWOPZhJJ6Ssney52a5QVm5f\n",
       "ZflgtsCdm7y3lpXbVwDHRqT0yWPGDJ6h+qRTSa9y4++Vz9U57vyoKp9KepXJ+XMcRLR/50OYyMaP\n",
       "WJWBCSo660NdeRaV1POm8w+QTAMRwRwvwn04CdHNeiqC8jAvqzdM50uE3kBEMMeDiBrKb4hx5Xh4\n",
       "1bTOnVu+gYg6HA8iLNxt9z1at/jp9D8Q//rdypraaP27FRF/AUEsJprLAx/KAAAAAElFTkSuQmCC\n",
       "\" style=\"display:inline;vertical-align:middle;\" /></a></dd>"
      ],
      "text/plain": [
       "<IPython.core.display.HTML object>"
      ]
     },
     "metadata": {},
     "output_type": "display_data"
    }
   ],
   "source": [
    "import proveit\n",
    "%theory"
   ]
  },
  {
   "cell_type": "code",
   "execution_count": null,
   "metadata": {},
   "outputs": [],
   "source": []
  }
 ],
 "metadata": {
  "kernelspec": {
   "display_name": "Python 3",
   "language": "python",
   "name": "python3"
  }
 },
 "nbformat": 4,
 "nbformat_minor": 0
}