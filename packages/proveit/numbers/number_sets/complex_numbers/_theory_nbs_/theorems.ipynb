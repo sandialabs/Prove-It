{
 "cells": [
  {
   "cell_type": "markdown",
   "metadata": {},
   "source": [
    "Theorems (or conjectures) for the theory of <a class=\"ProveItLink\" href=\"theory.ipynb\">proveit.numbers.number_sets.complex_numbers</a>\n",
    "========"
   ]
  },
  {
   "cell_type": "code",
   "execution_count": 1,
   "metadata": {},
   "outputs": [],
   "source": [
    "import proveit\n",
    "# Prepare this notebook for defining the theorems of a theory:\n",
    "%theorems_notebook # Keep this at the top following 'import proveit'.\n",
    "from proveit import r, x, theta\n",
    "from proveit.logic import Forall, in_bool, Equals, NotEquals, InSet, Set, ProperSubset\n",
    "from proveit.numbers import (\n",
    "    zero, two, e, i, pi, \n",
    "    ZeroSet, Natural, NaturalPos,\n",
    "    Integer, IntegerNonZero, IntegerNeg, IntegerNonPos,\n",
    "    Rational, RationalNonZero, RationalPos, RationalNeg, RationalNonNeg,\n",
    "    RationalNonPos,\n",
    "    Real, RealNonZero, RealNeg, RealPos, RealNonNeg, RealNonPos,\n",
    "    Complex, ComplexNonZero)\n",
    "from proveit.numbers import Add, Exp, frac, Mod, Mult, Neg"
   ]
  },
  {
   "cell_type": "code",
   "execution_count": 2,
   "metadata": {},
   "outputs": [
    {
     "name": "stdout",
     "output_type": "stream",
     "text": [
      "Defining theorems for theory 'proveit.numbers.number_sets.complex_numbers'\n",
      "Subsequent end-of-cell assignments will define theorems\n",
      "'%end theorems' will finalize the definitions\n"
     ]
    }
   ],
   "source": [
    "%begin theorems"
   ]
  },
  {
   "cell_type": "code",
   "execution_count": 3,
   "metadata": {},
   "outputs": [
    {
     "data": {
      "text/html": [
       "<strong id=\"zero_is_complex\"><a class=\"ProveItLink\" href=\"proofs/zero_is_complex/thm_proof.ipynb\">zero_is_complex</a> (conjecture without proof):<br></strong> <a class=\"ProveItLink\" href=\"../__pv_it/theorems/834bc20db7ef453cc0fd7390a189a445e2297b290/theorem_expr.ipynb\"><img src=\"data:image/png;base64,iVBORw0KGgoAAAANSUhEUgAAADMAAAAQBAMAAABJt1qBAAAAMFBMVEX///8AAAAAAAAAAAAAAAAA\n",
       "AAAAAAAAAAAAAAAAAAAAAAAAAAAAAAAAAAAAAAAAAAAv3aB7AAAAD3RSTlMAiXaZIs1UEN1mu6sy\n",
       "RO+L2jdBAAAACXBIWXMAAA7EAAAOxAGVKw4bAAAA50lEQVQY02NgwAIKV4SqHATSjEImaDJM+yaw\n",
       "2y8GMsIYKhxQpYwuMjBwAqU4GxgYF6DI8BgsB5KbGRi4NjCwfYeYs6KjFURzF4CUVjIw8Bsw8HwD\n",
       "ifAGFUB0cbEYQBj1QKmfIIYrVIbBm0cAwvAXYOD5BGKEwOw6yDsBIfURxAiASTnzKkANFGDgBeni\n",
       "edHR0dEFsQtqINAZbCBnsMN9wFUAZXItYOAEO74BJsUL9hcv0MsPGJjB1ighQuM2kDAF4jaGugMg\n",
       "AdYEeBguNWHPAPmtWGgPWIB913V4yK/7gRrkvFKQgIIBAHVzMRABAhG1AAAAAElFTkSuQmCC\n",
       "\" style=\"display:inline;vertical-align:middle;\" /></a><br>"
      ],
      "text/plain": [
       "<IPython.core.display.HTML object>"
      ]
     },
     "metadata": {},
     "output_type": "display_data"
    }
   ],
   "source": [
    "zero_is_complex = InSet(zero, Complex)"
   ]
  },
  {
   "cell_type": "code",
   "execution_count": 4,
   "metadata": {},
   "outputs": [
    {
     "data": {
      "text/html": [
       "<strong id=\"zero_set_within_complex\"><a class=\"ProveItLink\" href=\"proofs/zero_set_within_complex/thm_proof.ipynb\">zero_set_within_complex</a> (conjecture without proof):<br></strong> <a class=\"ProveItLink\" href=\"../__pv_it/theorems/2983812d5f2321890d1b847ed639144d291e48a80/theorem_expr.ipynb\"><img src=\"data:image/png;base64,iVBORw0KGgoAAAANSUhEUgAAAEkAAAAVBAMAAAD4Ed5jAAAAMFBMVEX///8AAAAAAAAAAAAAAAAA\n",
       "AAAAAAAAAAAAAAAAAAAAAAAAAAAAAAAAAAAAAAAAAAAv3aB7AAAAD3RSTlMAEER2zVSJ3Zki72ar\n",
       "MruaaVGaAAAACXBIWXMAAA7EAAAOxAGVKw4bAAABTklEQVQoz2NgYGBUYgCDqRMY8AATRQjNe04A\n",
       "U1LsuYvlNSDN+hFIpFkADeI7gKGI+dQGxv4XQAZbAQMDSwBjJYSFBprVGBi4Yaq2MzDkYVPF2/AQ\n",
       "SJ6AqnrDwBAvgFDF/Ly8vPwCkMEj8ABISkNV/WBguB8AV8XrBvMtH2cDlAWUYwSp2gBXJQ4Pkjm8\n",
       "CVAWhwMD5zegKgMG5gUQkUNwd11j2gBlzdoAUZXAwPkVIuIAVzWDyQBqqBMw9IGq9IF8GVewsxDB\n",
       "xscJtZG3TwDs+vgABoYUBZAIJ5IqsB/BLKDgOwaG/QKQWAACRLAxgcOLCRoSuxgYWoAsqOu7kcJe\n",
       "hwEsBVbFHsC4FhH2LAqIeHzSyRjeAFXF2GZzAaGK8Y0iIk28+t4JDVVE+EKdkweNIQTAogoLgIU4\n",
       "OBZwAliIMzBIbcCTomcchdDTjuJUAgBatlOULi63RQAAAABJRU5ErkJggg==\n",
       "\" style=\"display:inline;vertical-align:middle;\" /></a><br>"
      ],
      "text/plain": [
       "<IPython.core.display.HTML object>"
      ]
     },
     "metadata": {},
     "output_type": "display_data"
    }
   ],
   "source": [
    "zero_set_within_complex = ProperSubset(ZeroSet, Complex)"
   ]
  },
  {
   "cell_type": "code",
   "execution_count": 5,
   "metadata": {},
   "outputs": [
    {
     "data": {
      "text/html": [
       "<strong id=\"i_is_complex\"><a class=\"ProveItLink\" href=\"proofs/i_is_complex/thm_proof.ipynb\">i_is_complex</a> (conjecture without proof):<br></strong> <a class=\"ProveItLink\" href=\"../__pv_it/theorems/30766ccdfb8f1e65bfcba45d6ddc1bf4588202ae0/theorem_expr.ipynb\"><img src=\"data:image/png;base64,iVBORw0KGgoAAAANSUhEUgAAACwAAAAQBAMAAACfEoDkAAAAMFBMVEX///8AAAAAAAAAAAAAAAAA\n",
       "AAAAAAAAAAAAAAAAAAAAAAAAAAAAAAAAAAAAAAAAAAAv3aB7AAAAD3RSTlMAZt1UdjK7zUQQIu+r\n",
       "iZnjOhbLAAAACXBIWXMAAA7EAAAOxAGVKw4bAAAApklEQVQY02MQMmBAAZzX1EuWXmDwRxP22cgw\n",
       "79sDBjTA53GBgUEMQziObQIDAw9cmCVJSR1En2QDmS/AYB8A4nGUTIBIJ6yD0BDh5VBRrgOxyMJV\n",
       "ULNYLzQiCxdAhbketCAJs25SUlJSA5u9FkmYMwHmokw2ZEMUYMJ9IHczNECFXRC+PAAkCqDC7PCQ\n",
       "catbMFkPZgjnsU54CO7XWwAPC45rEM9DAQBZgih83QCyVwAAAABJRU5ErkJggg==\n",
       "\" style=\"display:inline;vertical-align:middle;\" /></a><br>"
      ],
      "text/plain": [
       "<IPython.core.display.HTML object>"
      ]
     },
     "metadata": {},
     "output_type": "display_data"
    }
   ],
   "source": [
    "i_is_complex = InSet(i, Complex)"
   ]
  },
  {
   "cell_type": "code",
   "execution_count": 6,
   "metadata": {},
   "outputs": [
    {
     "data": {
      "text/html": [
       "<strong id=\"i_is_complex_nonzero\"><a class=\"ProveItLink\" href=\"proofs/i_is_complex_nonzero/thm_proof.ipynb\">i_is_complex_nonzero</a> (conjecture without proof):<br></strong> <a class=\"ProveItLink\" href=\"../__pv_it/theorems/90d4532a5fe39395e21d6aa00434f190edd384a80/theorem_expr.ipynb\"><img src=\"data:image/png;base64,iVBORw0KGgoAAAANSUhEUgAAAEEAAAAVCAMAAAAuNnOWAAAAOVBMVEX///8AAAAAAAAAAAAAAAAA\n",
       "AAAAAAAAAAAAAAAAAAAAAAAAAAAAAAAAAAAAAAAAAAAAAAAAAAAAAAACXHtMAAAAEnRSTlMAZt1U\n",
       "djK7zUQQIu+riZnt5cnYpPJ7AAAACXBIWXMAAA7EAAAOxAGVKw4bAAABC0lEQVQ4y6WTi3KEIAxF\n",
       "A4TwNO3y/x9bQFyhtMq4mTGOjJy8bgAemYMPbbPVb7g9BPhYvEAAS88I0RcfdHbJPwHYmrtPpRlB\n",
       "gZDqpmkbSWPQ63yPqdhXfgToSpACMF0TMAaRMZyIjxNRXzsh4F3GjHvOIA6Ca83bq7iJnwMxUJt9\n",
       "5L2K7xfVKv7rJJLMZt5dd3DMy7Xk4/vXMs38pZLuumxwVBuB5zEEnT9kRbEbCd64STp6lJ2aO9cT\n",
       "zO+i8nUrhhMD14RJvgx2CKrsJUEH2Yy6PtwuT0dw85rQOYsVAsh5BU49gF0gIP6lySYANgsEMLNG\n",
       "kQx7cEryShXgIlk372ZIkv367lOv6gX7AWNUCBunzLOQAAAAAElFTkSuQmCC\n",
       "\" style=\"display:inline;vertical-align:middle;\" /></a><br>"
      ],
      "text/plain": [
       "<IPython.core.display.HTML object>"
      ]
     },
     "metadata": {},
     "output_type": "display_data"
    }
   ],
   "source": [
    "i_is_complex_nonzero = InSet(i, ComplexNonZero)"
   ]
  },
  {
   "cell_type": "code",
   "execution_count": 7,
   "metadata": {},
   "outputs": [
    {
     "data": {
      "text/html": [
       "<strong id=\"nat_within_complex\"><a class=\"ProveItLink\" href=\"proofs/nat_within_complex/thm_proof.ipynb\">nat_within_complex</a> (conjecture without proof):<br></strong> <a class=\"ProveItLink\" href=\"../__pv_it/theorems/b120253b3852a92a8403ee5891b928567845639a0/theorem_expr.ipynb\"><img src=\"data:image/png;base64,iVBORw0KGgoAAAANSUhEUgAAADoAAAAQBAMAAAC1onFLAAAAMFBMVEX///8AAAAAAAAAAAAAAAAA\n",
       "AAAAAAAAAAAAAAAAAAAAAAAAAAAAAAAAAAAAAAAAAAAv3aB7AAAAD3RSTlMAEN27zYnvRFSrImZ2\n",
       "MpmnAiL6AAAACXBIWXMAAA7EAAAOxAGVKw4bAAAA9UlEQVQY02MQ+mwiwBD2rYABFTAGq/isDWBg\n",
       "sGCfwMD4AU2S4WQ2g9znBwwMkxZEMzAkoEnyHQfq2wyUnWHAsoBBAU32HrMAAwMnUHbWHi4HmOxh\n",
       "JSUlXRBjIjPI7g1AWc4LR6GyV6Jgeg3WQRmzGAyYC8CyjFowSa4JV+Gy9xgVwbKccG/xBlTDZbkb\n",
       "msFuZoE7iutBDVyWYSInWPYmws0GSxGykoxgk1ciZA2ZEbK8BwxALCaEbB3IvwxAd9gCqbNgWb4N\n",
       "SGE1AUg4MDB4MEBoIHBHaD7st0BCDxgC34D6GCGywtMFEHGUr7cALXhLjaAhCQUASkU3lLgQk1gA\n",
       "AAAASUVORK5CYII=\n",
       "\" style=\"display:inline;vertical-align:middle;\" /></a><br>"
      ],
      "text/plain": [
       "<IPython.core.display.HTML object>"
      ]
     },
     "metadata": {},
     "output_type": "display_data"
    }
   ],
   "source": [
    "nat_within_complex = ProperSubset(Natural, Complex)"
   ]
  },
  {
   "cell_type": "code",
   "execution_count": 8,
   "metadata": {},
   "outputs": [
    {
     "data": {
      "text/html": [
       "<strong id=\"int_within_complex\"><a class=\"ProveItLink\" href=\"proofs/int_within_complex/thm_proof.ipynb\">int_within_complex</a> (conjecture without proof):<br></strong> <a class=\"ProveItLink\" href=\"../__pv_it/theorems/b2acda67f99b274a468e7848ae8c37fb3ccf97ad0/theorem_expr.ipynb\"><img src=\"data:image/png;base64,iVBORw0KGgoAAAANSUhEUgAAADkAAAAQBAMAAABelcpIAAAAMFBMVEX///8AAAAAAAAAAAAAAAAA\n",
       "AAAAAAAAAAAAAAAAAAAAAAAAAAAAAAAAAAAAAAAAAAAv3aB7AAAAD3RSTlMAVM3vu91mdqsymYki\n",
       "EESqKsraAAAACXBIWXMAAA7EAAAOxAGVKw4bAAAA9klEQVQY02NgVP6sEuqcwIAGbrsq1cxmYGD3\n",
       "mMCgwIQuyd6cwLvei4GBawEDe8JGdNnlrxkY2ICyHAcYrvA6oElyLvAFkl0MDLwMDCs5JkDNcw0N\n",
       "DQWxOS6A1F8DK2yYBdWhfQCql4VnAcwYlgu+EMZVmCTDCc4NMKY0WwGE0Qe3dzYf3Itw/yjAZU/x\n",
       "FcC8JrCPgeEC2H64LAsPzOQrPED39QAZPEiyF2B+7AT6mPcDiBUAl+UD+5cP5PFXQP+BJZYhhdUL\n",
       "ILEIZIguA48j2CCmB4hwdlrDKwr082MnExd7E7AjeD3eIuLI+esatODl2wINSRgAAGhWOi5SzVOe\n",
       "AAAAAElFTkSuQmCC\n",
       "\" style=\"display:inline;vertical-align:middle;\" /></a><br>"
      ],
      "text/plain": [
       "<IPython.core.display.HTML object>"
      ]
     },
     "metadata": {},
     "output_type": "display_data"
    }
   ],
   "source": [
    "int_within_complex = ProperSubset(Integer, Complex)"
   ]
  },
  {
   "cell_type": "code",
   "execution_count": 9,
   "metadata": {},
   "outputs": [
    {
     "data": {
      "text/html": [
       "<strong id=\"int_nonpos_within_complex\"><a class=\"ProveItLink\" href=\"proofs/int_nonpos_within_complex/thm_proof.ipynb\">int_nonpos_within_complex</a> (conjecture without proof):<br></strong> <a class=\"ProveItLink\" href=\"../__pv_it/theorems/ebef1b9719794703efcf201f8bbc8240e7e7e3220/theorem_expr.ipynb\"><img src=\"data:image/png;base64,iVBORw0KGgoAAAANSUhEUgAAAE8AAAAUBAMAAAA+U32BAAAAMFBMVEX///8AAAAAAAAAAAAAAAAA\n",
       "AAAAAAAAAAAAAAAAAAAAAAAAAAAAAAAAAAAAAAAAAAAv3aB7AAAAD3RSTlMAVM3vu91mdqsymYki\n",
       "EESqKsraAAAACXBIWXMAAA7EAAAOxAGVKw4bAAABVElEQVQoz2NgQABGHwbu7RsYCAJGdwaGdIYn\n",
       "BNWxuQEJSwb+AwTUsTsCCZ6/DMwCuCxU/qwS6pzAaQjicP5lYE1AV3HbValmNtAkjwkMCkwMDCJ7\n",
       "IQqZC9Ctak7gXe/FwMC1gIE9YSNQ4MlesNX86FYvfw10P1AhxwGGK7wOIJEZa7B5hnOBL5DsYmDg\n",
       "ZWBYyTEBLHail6Gc4QXUQtfQ0FCQMMcFkCnXwHoaZkF1HwAG+FqIOdowg1l4FsAMZ7ngixEWV+EO\n",
       "OMEJjytptgIMhX1w1mw+eHiBAoeB0wUIfODSCnDWKT6YMewC+xgYLqB5tQHOZOGBWX2FB+itHlSF\n",
       "PEgKwb4GgU5gSPJ+QHNjAJzFBw5HPlCAvgIGVgCawmVIMQMK2UUgo3UZeBwd0BQyPUDEtdMaXlFg\n",
       "WD52MnGxN0FP17webxGpx/nrGtzJk28LNAphAAATNU+E1THpswAAAABJRU5ErkJggg==\n",
       "\" style=\"display:inline;vertical-align:middle;\" /></a><br>"
      ],
      "text/plain": [
       "<IPython.core.display.HTML object>"
      ]
     },
     "metadata": {},
     "output_type": "display_data"
    }
   ],
   "source": [
    "int_nonpos_within_complex = ProperSubset(IntegerNonPos, Complex)"
   ]
  },
  {
   "cell_type": "code",
   "execution_count": 10,
   "metadata": {},
   "outputs": [
    {
     "data": {
      "text/html": [
       "<strong id=\"int_neg_within_complex_nonzero\"><a class=\"ProveItLink\" href=\"proofs/int_neg_within_complex_nonzero/thm_proof.ipynb\">int_neg_within_complex_nonzero</a> (conjecture without proof):<br></strong> <a class=\"ProveItLink\" href=\"../__pv_it/theorems/d6cdc53561430cc6fc7b928969d47b85a8d4eeac0/theorem_expr.ipynb\"><img src=\"data:image/png;base64,iVBORw0KGgoAAAANSUhEUgAAAFwAAAAVCAMAAAD8ZnnOAAAAOVBMVEX///8AAAAAAAAAAAAAAAAA\n",
       "AAAAAAAAAAAAAAAAAAAAAAAAAAAAAAAAAAAAAAAAAAAAAAAAAAAAAAACXHtMAAAAEnRSTlMAVM3v\n",
       "u91mdqsymYkiEETt5cn1eqECAAAACXBIWXMAAA7EAAAOxAGVKw4bAAABW0lEQVQ4y7VUi3KEIAwM\n",
       "EATC41r+/2MbHp7VA++c2owyY8Q17GYDcHdE+L/wqa7e+Puxgy3rYgAS3g5uQ1mV4yWHm7FTJSPk\n",
       "QrwSAEKqrCRqjWq5qp1HLaUJjiEJSzz4XsBVcM1wBm05hKzXpTC2lBMpI62ZVl4DV0w8UU97UfK4\n",
       "xlvGyDQSYFnBY9ew0ZJFl4DT8aK6jgB7T1tqtHx9Y6VlE7RuIAeVnDkFLEqN5y4bYS0ndjbsc3dp\n",
       "xfWJ047OqpT+hSWEcPgEN3OyiShuaTyxbdRh5Ba3N6Eww4+Fr56aOyMNDuMh7Vt30mzv2nD0kjlJ\n",
       "u4JEGosl+riZMLMJdeD8g9nEPRjw12CYDKMX8K1bzhh1HTXmyQ49HCNbn0M6MUNqPWX1zIvLxKH9\n",
       "SDRVjH8vSwUBxfSYMo2NJSlAFHpqkaRQKjYtj0b0c1lsisOpqLKm8PdBjQf7fxA/OpkKQga51TUA\n",
       "AAAASUVORK5CYII=\n",
       "\" style=\"display:inline;vertical-align:middle;\" /></a><br>"
      ],
      "text/plain": [
       "<IPython.core.display.HTML object>"
      ]
     },
     "metadata": {},
     "output_type": "display_data"
    }
   ],
   "source": [
    "int_neg_within_complex_nonzero = ProperSubset(IntegerNeg, ComplexNonZero)"
   ]
  },
  {
   "cell_type": "code",
   "execution_count": 11,
   "metadata": {},
   "outputs": [
    {
     "data": {
      "text/html": [
       "<strong id=\"nat_pos_within_complex_nonzero\"><a class=\"ProveItLink\" href=\"proofs/nat_pos_within_complex_nonzero/thm_proof.ipynb\">nat_pos_within_complex_nonzero</a> (conjecture without proof):<br></strong> <a class=\"ProveItLink\" href=\"../__pv_it/theorems/9f851fe6001e476a47901b782d05eb2a242049fa0/theorem_expr.ipynb\"><img src=\"data:image/png;base64,iVBORw0KGgoAAAANSUhEUgAAAFwAAAAVCAMAAAD8ZnnOAAAAOVBMVEX///8AAAAAAAAAAAAAAAAA\n",
       "AAAAAAAAAAAAAAAAAAAAAAAAAAAAAAAAAAAAAAAAAAAAAAAAAAAAAAACXHtMAAAAEnRSTlMAEN27\n",
       "zYnvRFSrImZ2Mpnt5cluJTbxAAAACXBIWXMAAA7EAAAOxAGVKw4bAAABZ0lEQVQ4y7WVi5KDIAxF\n",
       "EwKEd3f5/49dQNRpS7ptt5sZcXTiMd7cIMCnA+H/wvBYTTJSRnmbHXxfYwJgElLobbgPfbW5LTV8\n",
       "GM5DjFC78NYBqkqk+4Wx1fJLcDSktE4hN2ShHpd2RMgDrmInOeChFNbXKk/etuexVNp7lOI4bXCb\n",
       "ukwqgBl3LcwKLI0KHkdJmwgQdzjOojZZqutw1+7prr56pfJcgKanfdmK+vqeRZ0N9aE5J+jH8ERq\n",
       "i3z4Ao80nGr4I7tb0U/3+Azd9CI8axPuHRVuxoHO4WxDVHC3ZqMRi3BUYTUt+XoIXRJ83wREhUqY\n",
       "UM8LyQ3wdcu1OFTRgSMr9G71WNOEr0p1LE9s648X4GejbjQ3z24H6OGUZbUZ3cHxGcducMhJTF6+\n",
       "lE+fA4twmtZNWYKXKEzo/KSiRbh28FuOXpaWSJcA6JS4/Wdd7awYRTiSZ1zuiraqEv7692JDN+P/\n",
       "RPwAezEJnMEl9hAAAAAASUVORK5CYII=\n",
       "\" style=\"display:inline;vertical-align:middle;\" /></a><br>"
      ],
      "text/plain": [
       "<IPython.core.display.HTML object>"
      ]
     },
     "metadata": {},
     "output_type": "display_data"
    }
   ],
   "source": [
    "nat_pos_within_complex_nonzero = ProperSubset(NaturalPos, ComplexNonZero)"
   ]
  },
  {
   "cell_type": "code",
   "execution_count": 12,
   "metadata": {},
   "outputs": [
    {
     "data": {
      "text/html": [
       "<strong id=\"int_nonzero_within_complex_nonzero\"><a class=\"ProveItLink\" href=\"proofs/int_nonzero_within_complex_nonzero/thm_proof.ipynb\">int_nonzero_within_complex_nonzero</a> (conjecture without proof):<br></strong> <a class=\"ProveItLink\" href=\"../__pv_it/theorems/404f71024ee53b3d2b288c6638d88e7ca47a716e0/theorem_expr.ipynb\"><img src=\"data:image/png;base64,iVBORw0KGgoAAAANSUhEUgAAAGQAAAAVCAMAAACHQrsCAAAAOVBMVEX///8AAAAAAAAAAAAAAAAA\n",
       "AAAAAAAAAAAAAAAAAAAAAAAAAAAAAAAAAAAAAAAAAAAAAAAAAAAAAAACXHtMAAAAEnRSTlMAVM3v\n",
       "u91mdqsymYkiEETt5cn1eqECAAAACXBIWXMAAA7EAAAOxAGVKw4bAAABdklEQVRIx6VV2ZaDIAwN\n",
       "ELawdIb//9hhUVsrCMfJaXmIeLPeK8DAAvzTFgBcrKfT7mGMBQBvyqk0QMRHMVYAjC+nsPlI/kmQ\n",
       "BYBYa/Sp9FWwBzG+ARgXSXCUEoUCICz2yn8Ftt6Raj5jh5Jz7a0bAWg0pShef810w213hJ7F0Kak\n",
       "FyghjQCINrfb+xK2UbVq06xdpFtzQO1BrgB1RNndnpRqf36xVrs2eEuAGycMjQDqBbJQm1bfMkcf\n",
       "ygaac2vy8KrZY48C7Esa1B1Adtu9n0dejUv0yVzL3aUuBE9fnj5Adh9P2HjQQfoe6+yZ1AMA5io3\n",
       "m/EbhsXOSBzE85IPAD7Xl8VxkN7ruVfxlPoAQLNNzibCaU3Pm2eyIKJ5dz1+CM5E9C5B3tt1p2V2\n",
       "Qw9pclN2ZerNE4g3ZIptB42ccVsNGL+VSMOlyWnwkolHNi2bd1PVyMlDYJKGoiyQiywCWYrRzcdn\n",
       "YuiqsEiSHn14+h8K/JKVBfsDNhANGrKf0H0AAAAASUVORK5CYII=\n",
       "\" style=\"display:inline;vertical-align:middle;\" /></a><br>"
      ],
      "text/plain": [
       "<IPython.core.display.HTML object>"
      ]
     },
     "metadata": {},
     "output_type": "display_data"
    }
   ],
   "source": [
    "int_nonzero_within_complex_nonzero = ProperSubset(IntegerNonZero, ComplexNonZero)"
   ]
  },
  {
   "cell_type": "code",
   "execution_count": 13,
   "metadata": {},
   "outputs": [
    {
     "data": {
      "text/html": [
       "<strong id=\"rational_within_complex\"><a class=\"ProveItLink\" href=\"proofs/rational_within_complex/thm_proof.ipynb\">rational_within_complex</a> (conjecture without proof):<br></strong> <a class=\"ProveItLink\" href=\"../__pv_it/theorems/846ae46d99a6be575fb38ecc981406f904ac31980/theorem_expr.ipynb\"><img src=\"data:image/png;base64,iVBORw0KGgoAAAANSUhEUgAAADsAAAASBAMAAAAXqLt+AAAAMFBMVEX///8AAAAAAAAAAAAAAAAA\n",
       "AAAAAAAAAAAAAAAAAAAAAAAAAAAAAAAAAAAAAAAAAAAv3aB7AAAAD3RSTlMAEIm7mSJ2q+8y3WZE\n",
       "zVRISQrpAAAACXBIWXMAAA7EAAAOxAGVKw4bAAABEklEQVQoz2NgYBAyNnZlwABCVndTJwFptooJ\n",
       "rMsV0GXZKjYw+psAGdraDAxHDqNLux1iYOAGSnMqXGBgYOZOQJXldDAEkiVAGcECBgamCRcgRlqt\n",
       "WrVqApDBLmAAJKUZGIQ5gRr5HniC9VwKgOpmZnWAMCbxbGBg4NmwD8SWgskyhHNCHXuM+wFQW8Jr\n",
       "ELsGbjdYEwgE8YF154DYF+DSITxQtzJD7HYEWV0Al2ZmhRrOLAp3OSuSNNjlQMAD8fcDEHsBXJoH\n",
       "7G8eIPYGhtpxSKh5I4XacSDhC8RMoDCH+JL3ACLMbV0ZX4FFQ/7e94SIMZofRMSYxS9oPFbCQ5xH\n",
       "GRqoyIA9If3lAQbc4Llt8wbsMgBpJT3eppSuugAAAABJRU5ErkJggg==\n",
       "\" style=\"display:inline;vertical-align:middle;\" /></a><br>"
      ],
      "text/plain": [
       "<IPython.core.display.HTML object>"
      ]
     },
     "metadata": {},
     "output_type": "display_data"
    }
   ],
   "source": [
    "rational_within_complex = ProperSubset(Rational, Complex)"
   ]
  },
  {
   "cell_type": "code",
   "execution_count": 14,
   "metadata": {},
   "outputs": [
    {
     "data": {
      "text/html": [
       "<strong id=\"rational_nonneg_within_complex\"><a class=\"ProveItLink\" href=\"proofs/rational_nonneg_within_complex/thm_proof.ipynb\">rational_nonneg_within_complex</a> (conjecture without proof):<br></strong> <a class=\"ProveItLink\" href=\"../__pv_it/theorems/e90fd60f254ac1ebf652924ef32027767b3e61840/theorem_expr.ipynb\"><img src=\"data:image/png;base64,iVBORw0KGgoAAAANSUhEUgAAAFEAAAAWBAMAAABK/G3RAAAAMFBMVEX///8AAAAAAAAAAAAAAAAA\n",
       "AAAAAAAAAAAAAAAAAAAAAAAAAAAAAAAAAAAAAAAAAAAv3aB7AAAAD3RSTlMAEIm7mSJ2q+8y3WZE\n",
       "zVRISQrpAAAACXBIWXMAAA7EAAAOxAGVKw4bAAABaUlEQVQoz2NggAJOGzDFpKbAQAgI2YHIbQyH\n",
       "CapkYLMGEp0M/AGElXKbMbB+ZOB4gNtaY2NXqNJWzo8MXBswFFjdTZ0EsrRiAutysDcYlQ8AVXIk\n",
       "oLuqYgOjvwmQoa3NwHAE5A1W9wkg2/nRbXc7BLQNqJJT4QIDAzN3AgNr+QSsPuJ0MASSJUBFggXA\n",
       "UJxwgbEErCKN4TjUTqtVq1aB9LILGABJaQYGYU6gu/geeDIKQEPeEWLSJZjRzKwOEMYkHqBfeTbs\n",
       "Q3OcFNwN4ZzQWDvGDfQBZ8JrNJU1cBbYKBAI4gObmcNpDASmcPkLcFYIDzTYmCHudETzcAGcycwK\n",
       "tZ1ZFOJ3VJWsSCrBfgcCHkh4ogf3AjiLBxyePEDsDYyj4xhJzRspjkAh7AsKQVC8O6Cr5D2AiHdb\n",
       "V8ZXYAUhf+97YiQwRvODiLRk8Qua2Cq5EzDTIo8yNDaRAXtC+ssDDESB57bNGwgqAgBNyFAx0zpS\n",
       "kgAAAABJRU5ErkJggg==\n",
       "\" style=\"display:inline;vertical-align:middle;\" /></a><br>"
      ],
      "text/plain": [
       "<IPython.core.display.HTML object>"
      ]
     },
     "metadata": {},
     "output_type": "display_data"
    }
   ],
   "source": [
    "rational_nonneg_within_complex = ProperSubset(RationalNonNeg, Complex)"
   ]
  },
  {
   "cell_type": "code",
   "execution_count": 15,
   "metadata": {},
   "outputs": [
    {
     "data": {
      "text/html": [
       "<strong id=\"rational_nonpos_within_complex\"><a class=\"ProveItLink\" href=\"proofs/rational_nonpos_within_complex/thm_proof.ipynb\">rational_nonpos_within_complex</a> (conjecture without proof):<br></strong> <a class=\"ProveItLink\" href=\"../__pv_it/theorems/6401c064c6995a2f028b965d374c5325b0c3b14a0/theorem_expr.ipynb\"><img src=\"data:image/png;base64,iVBORw0KGgoAAAANSUhEUgAAAFEAAAAWBAMAAABK/G3RAAAAMFBMVEX///8AAAAAAAAAAAAAAAAA\n",
       "AAAAAAAAAAAAAAAAAAAAAAAAAAAAAAAAAAAAAAAAAAAv3aB7AAAAD3RSTlMAEIm7mSJ2q+8y3WZE\n",
       "zVRISQrpAAAACXBIWXMAAA7EAAAOxAGVKw4bAAABbElEQVQoz2NgQAJ8pgxMagoMhAGfGQPDNobD\n",
       "hBVyWwOJTgb+AEIK2eyABOtHBo4HOJUIGRu7MjBw9oHYnB8ZuDZgKLC6mzoJZFbFBNblQG88VoSo\n",
       "5EhAt6xiA6O/CZChrc3AcATkjcOKYNv50W13OwT0A1Alp8IFBgZmbpBB012x+YjTwRBIlgAVCRYw\n",
       "MDBNuAASDC9kSGM4DrXTatWqVROADHYBAyApzcAgzAk0ju+BJ1g6ABjyjhCTLsGMZmZ1gDAm8QD9\n",
       "yrNhH5rjpOBuCOeExtoxbqAPOBNeo6msgbPARoFAEB/YzBxOYyAwhctfgLNCeKDBxgxxpyOahwvg\n",
       "TGZWqO3Mogi/IwArkkqw34GABxKe6MG9AM7iAYcnDxB7A+PoOEZS80aKI1AI+wIxEyjeHdBV8h5A\n",
       "xLutK+MrsIKQv/c9MRIYo/lBRFqy+OUKYVVyJ2CmRR5laGwiA/aE9JcHGIgCz22bNxBUBADQTVBs\n",
       "NuwvEAAAAABJRU5ErkJggg==\n",
       "\" style=\"display:inline;vertical-align:middle;\" /></a><br>"
      ],
      "text/plain": [
       "<IPython.core.display.HTML object>"
      ]
     },
     "metadata": {},
     "output_type": "display_data"
    }
   ],
   "source": [
    "rational_nonpos_within_complex = ProperSubset(RationalNonPos, Complex)"
   ]
  },
  {
   "cell_type": "code",
   "execution_count": 16,
   "metadata": {},
   "outputs": [
    {
     "data": {
      "text/html": [
       "<strong id=\"rational_pos_within_complex_nonzero\"><a class=\"ProveItLink\" href=\"proofs/rational_pos_within_complex_nonzero/thm_proof.ipynb\">rational_pos_within_complex_nonzero</a> (conjecture without proof):<br></strong> <a class=\"ProveItLink\" href=\"../__pv_it/theorems/e07bb98dfbcfe600d90794b60e0b6d6d749b6b7d0/theorem_expr.ipynb\"><img src=\"data:image/png;base64,iVBORw0KGgoAAAANSUhEUgAAAGYAAAAXCAMAAADOf8o0AAAAOVBMVEX///8AAAAAAAAAAAAAAAAA\n",
       "AAAAAAAAAAAAAAAAAAAAAAAAAAAAAAAAAAAAAAAAAAAAAAAAAAAAAAACXHtMAAAAEnRSTlMAEIm7\n",
       "mSJ2q+8y3WZEzVTt5cnMFh2FAAAACXBIWXMAAA7EAAAOxAGVKw4bAAABoklEQVRIx7VVi66sIAwE\n",
       "Wqjlde71/z/2VAF1lZU9JttENASmr+mo1PdMf3Iog5XVGGceejFRDQEyuOUVZI3wyIulIUCAUD4m\n",
       "lmW2T9yQHQA4yC2ieanvlB94ieYCoA2IYfHJB1ReT/kw7rYBn5KzLOC4gMGPPOEFwNGSmvVkaluM\n",
       "fnEzuZEXQRAkjTNg2wlnABPMuhex9So2RyXneVQ0dKVE0tPqRoM6AUieqezByosSBaH9mAKMCmr+\n",
       "hKVo//7DWrQdALSmSnRuDlc+klx1Cx/pRBBfjDdOadUoq2uttisNQNLjmkPOCvlA/DpdeJxmTuaS\n",
       "GyiLp539SgWQmsXKJHmHQRu0t7055NdBz1fORLdhS1Z5wF2KndbsgVZLHU0wG7YcdlExNOt0PvVU\n",
       "BZdYj8l0YlGvvblXVSbVRbBjeQVte0y7kcMrgoJPxGefm9Eg+i7CPjcqvp/hpgI0lnwMb1Sgpok3\n",
       "5TBN03AsvCn2NT2JaujsbxEszinNx9F8PzhAUXcVepo9jn5MxLueDXsJJ7H5y7/OiZpnjurLlgnS\n",
       "BOFL6L+2AQxEWsi1aAAAAABJRU5ErkJggg==\n",
       "\" style=\"display:inline;vertical-align:middle;\" /></a><br>"
      ],
      "text/plain": [
       "<IPython.core.display.HTML object>"
      ]
     },
     "metadata": {},
     "output_type": "display_data"
    }
   ],
   "source": [
    "rational_pos_within_complex_nonzero = ProperSubset(RationalNonPos, ComplexNonZero)"
   ]
  },
  {
   "cell_type": "code",
   "execution_count": 17,
   "metadata": {},
   "outputs": [
    {
     "data": {
      "text/html": [
       "<strong id=\"rational_neg_within_complex_nonzero\"><a class=\"ProveItLink\" href=\"proofs/rational_neg_within_complex_nonzero/thm_proof.ipynb\">rational_neg_within_complex_nonzero</a> (conjecture without proof):<br></strong> <a class=\"ProveItLink\" href=\"../__pv_it/theorems/a62fc4d22a13701ed413b91066a4e68dfa93870d0/theorem_expr.ipynb\"><img src=\"data:image/png;base64,iVBORw0KGgoAAAANSUhEUgAAAGYAAAAXCAMAAADOf8o0AAAAOVBMVEX///8AAAAAAAAAAAAAAAAA\n",
       "AAAAAAAAAAAAAAAAAAAAAAAAAAAAAAAAAAAAAAAAAAAAAAAAAAAAAAACXHtMAAAAEnRSTlMAEIm7\n",
       "mSJ2q+8y3WZEzVTt5cnMFh2FAAAACXBIWXMAAA7EAAAOxAGVKw4bAAABoklEQVRIx7VVi66sIAwE\n",
       "Wqjlde71/z/2VAF1lZU9JttENASmr+mo1PdMf3Iog5XVGGceejFRDQEyuOUVZI3wyIulIUCAUD4m\n",
       "lmW2T9yQHQA4yC2ieanvlB94ieYCoA2IYfHJB1ReT/kw7rYBn5KzLOC4gMGPPOEFwNGSmvVkaluM\n",
       "fnEzuZEXQRAkjTNg2wlnABPMuhex9So2RyXneVQ0dKVE0tPqRoM6AUieqezByosSBaH9mAKMCmr+\n",
       "hKVo//7DWrQdALSmSnRuDlc+klx1Cx/pRBBfjDdOadUoq2uttisNQNLjmkPOCvlA/DpdeJxmTuaS\n",
       "GyiLp539SgWQmsXKJHmHQRu0t7055NdBz1fORLdhS1Z5wF2KndbsgVZLHU0wG7YcdlExNOt0PvVU\n",
       "BZdYj8l0YlGvvblXVSbVRbBjeQVte0y7kcMrgoJPxGefm9Eg+i7CPjcqvp/hpgI0lnwMb1Sgpok3\n",
       "5TBN03AsvCn2NT2JaujsbxEszinNx9F8PzhAUXcVepo9jn5MxLueDXsJJ7H5y7/OiZpnjurLlgnS\n",
       "BOFL6L+2AQxEWsi1aAAAAABJRU5ErkJggg==\n",
       "\" style=\"display:inline;vertical-align:middle;\" /></a><br>(alternate proof for <a class=\"ProveItLink\" href=\"#rational_pos_within_complex_nonzero\">rational_pos_within_complex_nonzero</a>)<br>"
      ],
      "text/plain": [
       "<IPython.core.display.HTML object>"
      ]
     },
     "metadata": {},
     "output_type": "display_data"
    }
   ],
   "source": [
    "rational_neg_within_complex_nonzero = ProperSubset(RationalNonPos, ComplexNonZero)"
   ]
  },
  {
   "cell_type": "code",
   "execution_count": 18,
   "metadata": {},
   "outputs": [
    {
     "data": {
      "text/html": [
       "<strong id=\"rational_nonzero_within_complex_nonzero\"><a class=\"ProveItLink\" href=\"proofs/rational_nonzero_within_complex_nonzero/thm_proof.ipynb\">rational_nonzero_within_complex_nonzero</a> (conjecture without proof):<br></strong> <a class=\"ProveItLink\" href=\"../__pv_it/theorems/830c998737fad46304e386f7bc78edf8c9c647950/theorem_expr.ipynb\"><img src=\"data:image/png;base64,iVBORw0KGgoAAAANSUhEUgAAAGYAAAAXCAMAAADOf8o0AAAAOVBMVEX///8AAAAAAAAAAAAAAAAA\n",
       "AAAAAAAAAAAAAAAAAAAAAAAAAAAAAAAAAAAAAAAAAAAAAAAAAAAAAAACXHtMAAAAEnRSTlMAEIm7\n",
       "mSJ2q+8y3WZEzVTt5cnMFh2FAAAACXBIWXMAAA7EAAAOxAGVKw4bAAABjklEQVRIx7WViXKEIAyG\n",
       "AwkgZ1ve/2HLtVpXEGqnmVnWYfQLuX4Ahsbgj7YE4K6sXPKHXpYAQuXVSgCHj7ysAZTI66bTEsUT\n",
       "N0sAVyIVMed3Cw+8dACMYzKqPik/40f6WdDlLWPn1eZovJdC8zFAqhyaMOqolazk+tYmZ14SIX3A\n",
       "KCINAdzysudorxVrDzXmOEsayZoisC83V0CK09c9LH2RY/78whLzWgtoAmwzomgEQMZUa3TdHGq1\n",
       "ZyP3ozonCE01vfcUgz0NdgBI4emW+xCAyrd4zG+aLvo5zdrzS2wIgt52LoCUM9c6Kf3bXIYwLjkz\n",
       "ojeH+jzoHYCTlZ1PKiFkj/5m5lynNMdBm3UAgld2jUYmTHBjN70TpIy50/G7gHNt7lVVK+gSxFxe\n",
       "kYn3TpvI4ZUAuCI+x9zMBtF0CcfcwDjh9FIBNZd8sgMVaGHSTTr4S9NoLry+e1yJPgkvC+aWICh6\n",
       "H0mvXLyoHOsq9BYNzS4mpYuerV0k+CY2v7nrZFLzoB38swWFfkP7T/Rv71YMW7aS3foAAAAASUVO\n",
       "RK5CYII=\n",
       "\" style=\"display:inline;vertical-align:middle;\" /></a><br>"
      ],
      "text/plain": [
       "<IPython.core.display.HTML object>"
      ]
     },
     "metadata": {},
     "output_type": "display_data"
    }
   ],
   "source": [
    "rational_nonzero_within_complex_nonzero = ProperSubset(RationalNonZero, ComplexNonZero)"
   ]
  },
  {
   "cell_type": "code",
   "execution_count": 19,
   "metadata": {},
   "outputs": [
    {
     "data": {
      "text/html": [
       "<strong id=\"real_within_complex\"><a class=\"ProveItLink\" href=\"proofs/real_within_complex/thm_proof.ipynb\">real_within_complex</a> (conjecture without proof):<br></strong> <a class=\"ProveItLink\" href=\"../__pv_it/theorems/1b640e8661764e8f8aa3027c59a811a87c36ddc80/theorem_expr.ipynb\"><img src=\"data:image/png;base64,iVBORw0KGgoAAAANSUhEUgAAADoAAAAQBAMAAAC1onFLAAAAMFBMVEX///8AAAAAAAAAAAAAAAAA\n",
       "AAAAAAAAAAAAAAAAAAAAAAAAAAAAAAAAAAAAAAAAAAAv3aB7AAAAD3RSTlMAZs3vu90iq0QQiTKZ\n",
       "VHZ+Ip2vAAAACXBIWXMAAA7EAAAOxAGVKw4bAAAA6klEQVQY02MQMvFXNRFgQAecS4L0shcwMDik\n",
       "M7SLTECXfW7IMOfLAaBsFgMLdwGaJM8LoD4RiCxPggKa7B4WoGnsMFkHiOCT0NDQaBCjkgVktwBY\n",
       "ln0mxORNy2B6HXJgjCyGLZcSwO4Mg0myFeyCySarfn0JZrE3wGS5FzTC9QpOgrCY4I5iO9AHl2WZ\n",
       "CAmN7Qg3A62DMbgPeIJZ6QhZTxaEstMpYBYrQrYH5F+GBrDsFD6w0TwCSGEF9COPAthrjAIeYDEN\n",
       "hOYnOglzYxgYgHHkxuCifwEkNKViAiKO7GMS0IK3yxUaklAAAIryOMbRZchkAAAAAElFTkSuQmCC\n",
       "\" style=\"display:inline;vertical-align:middle;\" /></a><br>"
      ],
      "text/plain": [
       "<IPython.core.display.HTML object>"
      ]
     },
     "metadata": {},
     "output_type": "display_data"
    }
   ],
   "source": [
    "real_within_complex = ProperSubset(Real, Complex)"
   ]
  },
  {
   "cell_type": "code",
   "execution_count": 20,
   "metadata": {},
   "outputs": [
    {
     "data": {
      "text/html": [
       "<strong id=\"real_nonneg_within_complex\"><a class=\"ProveItLink\" href=\"proofs/real_nonneg_within_complex/thm_proof.ipynb\">real_nonneg_within_complex</a> (conjecture without proof):<br></strong> <a class=\"ProveItLink\" href=\"../__pv_it/theorems/9ea0ecabb6823e2c4bdbba04932664926f323b770/theorem_expr.ipynb\"><img src=\"data:image/png;base64,iVBORw0KGgoAAAANSUhEUgAAAFAAAAAUBAMAAADo9qfkAAAAMFBMVEX///8AAAAAAAAAAAAAAAAA\n",
       "AAAAAAAAAAAAAAAAAAAAAAAAAAAAAAAAAAAAAAAAAAAv3aB7AAAAD3RSTlMAZs3vu90iq0QQiTKZ\n",
       "VHZ+Ip2vAAAACXBIWXMAAA7EAAAOxAGVKw4bAAABSklEQVQoz2NggIItDWBq1SsGAoBzyQUgyfiA\n",
       "w4GQSoYnAgwMzBsYvhFUyCDygCF/AoMtDlkhE39VEwEIWzhh/wSGQExHBellL2BgcEhnaBeZABKZ\n",
       "5cEAVGiHrvC5IcOcLweACrMYWLgLgAI51Qwgq/+iqeN5ATRNBKKQJ0GBgSEdqA6bZ/awAK1jhyl0\n",
       "YJh+DCTK94CjABoGoaGh0SBGJQvInQJghewzCxhmQuRXvQE7l2HTMpiJDjkwRhbDlksJ6D4Ng7HY\n",
       "CnbBFCarfn2J7lP2BhiLe0Ej3ETBSaC4dgECuMFMcC1sB/rgClkmCqCbuB3BBDoNxuA+4ImuMB3B\n",
       "9GRB6Didgq6QFcHsAYUjQwNY4RQ+dLt5BJBiBhiyPArgcGIU8EA3UgMp+ekkzI0Bpx43Bhf9C2gK\n",
       "p1RMQKQe+5gE3ImzyxUahVAAAHP+VJdbsH29AAAAAElFTkSuQmCC\n",
       "\" style=\"display:inline;vertical-align:middle;\" /></a><br>"
      ],
      "text/plain": [
       "<IPython.core.display.HTML object>"
      ]
     },
     "metadata": {},
     "output_type": "display_data"
    }
   ],
   "source": [
    "real_nonneg_within_complex = ProperSubset(RealNonNeg, Complex)"
   ]
  },
  {
   "cell_type": "code",
   "execution_count": 21,
   "metadata": {},
   "outputs": [
    {
     "data": {
      "text/html": [
       "<strong id=\"real_nonpos_within_complex\"><a class=\"ProveItLink\" href=\"proofs/real_nonpos_within_complex/thm_proof.ipynb\">real_nonpos_within_complex</a> (conjecture without proof):<br></strong> <a class=\"ProveItLink\" href=\"../__pv_it/theorems/f05a3bac5b557781c514f2c1b378767efb64a9630/theorem_expr.ipynb\"><img src=\"data:image/png;base64,iVBORw0KGgoAAAANSUhEUgAAAFAAAAAUBAMAAADo9qfkAAAAMFBMVEX///8AAAAAAAAAAAAAAAAA\n",
       "AAAAAAAAAAAAAAAAAAAAAAAAAAAAAAAAAAAAAAAAAAAv3aB7AAAAD3RSTlMAZs3vu90iq0QQiTKZ\n",
       "VHZ+Ip2vAAAACXBIWXMAAA7EAAAOxAGVKw4bAAABSElEQVQoz2NgQAJXEhhWvWIgDK48YGB8wOFA\n",
       "UJ2IAAMD8waGb4TUPbkAJPInMNjikBcy8Vc1AZq1GaSOYf8EhkB0FZxLgvSyFzAwOKQztItMYOD1\n",
       "mgBRaIeu8Lkhw5wvB4AKsxhYuAsYGDhAKoFW/0VTx/MCaJoIRCFPggJQhLsmAZtn9rAADWCHKQSH\n",
       "CVv5BL4HHAVQv4WGhkaDGJUsIHcKgBWyz4TIsjEwrHozAczctAxmokMOjJHFsOVSArpPw2AstoJd\n",
       "MIXJql9fovuUvQHG4l7QCDdRcBKQ2uICBHCDmeBa2A70wRWyTBRAN3E7ggl0GozBfcATXWE6gunJ\n",
       "gtBxOgVdISuC2QMKR4YGsMIpfOh28wggxQww7HgUwOHEKOCBbqQGUrLSSZgbA049bgwu+hfQFE6p\n",
       "mIBIPfYxCbiTZ5crNAqhAADqdlTwl8AuPwAAAABJRU5ErkJggg==\n",
       "\" style=\"display:inline;vertical-align:middle;\" /></a><br>"
      ],
      "text/plain": [
       "<IPython.core.display.HTML object>"
      ]
     },
     "metadata": {},
     "output_type": "display_data"
    }
   ],
   "source": [
    "real_nonpos_within_complex = ProperSubset(RealNonPos, Complex)"
   ]
  },
  {
   "cell_type": "code",
   "execution_count": 22,
   "metadata": {},
   "outputs": [
    {
     "data": {
      "text/html": [
       "<strong id=\"real_pos_within_complex_nonzero\"><a class=\"ProveItLink\" href=\"proofs/real_pos_within_complex_nonzero/thm_proof.ipynb\">real_pos_within_complex_nonzero</a> (conjecture without proof):<br></strong> <a class=\"ProveItLink\" href=\"../__pv_it/theorems/e7f4bdc721717306fa3bcffbd04ff1fbfb86b1b20/theorem_expr.ipynb\"><img src=\"data:image/png;base64,iVBORw0KGgoAAAANSUhEUgAAAGUAAAAVCAMAAABogNA8AAAAOVBMVEX///8AAAAAAAAAAAAAAAAA\n",
       "AAAAAAAAAAAAAAAAAAAAAAAAAAAAAAAAAAAAAAAAAAAAAAAAAAAAAAACXHtMAAAAEnRSTlMAZs3v\n",
       "u90iq0QQiTKZVHbt5clcYUjMAAAACXBIWXMAAA7EAAAOxAGVKw4bAAABgklEQVRIx7VViY6EIAzl\n",
       "KEehMLv+/8duFXTUwakx2SaiUfoefT1U6t8Mb+wp4HlNqaaHJCkqCaBAnW+a1wiPSHyQADTo9mAz\n",
       "L5N/whL8d4AKZT3PNGtrywOSmA4A2liAyTjbz593oHnZ5LSc6ATOmOozYxPM9uJL7wFg0TAGDdhS\n",
       "kvDAYqtEUoNlIKQJaH2jzwDMkpZbDj3alacFPEmKUW36cD47C4I6A3QW8spsUgXyt7OfSUGPPlBT\n",
       "7OcXFsV2AG8W2BdiYM86F2I41YZrlrdqws0Ru1CbyxugswTEA57vTUX7Hs4mfUTG/nR683bZABpL\n",
       "hmLExkDnR+2Xj+1dRuXCLNa4yVV58IQ4SEtS8VjrRo1ZktbYv2VYbRDZyJ/liofDl3jFwlJqufly\n",
       "uPQXbdm1K0dpAn74o4KbLIqyl/e64cjaHTAKLNyuVdSM9EXv9yDJfGOZ653zAlGiMcMdFQz3NBZH\n",
       "V35tJs8FBWDEkYUQIg5nsp0cPfoRXfw44DRhbtgf7nMMwJ4ADwkAAAAASUVORK5CYII=\n",
       "\" style=\"display:inline;vertical-align:middle;\" /></a><br>"
      ],
      "text/plain": [
       "<IPython.core.display.HTML object>"
      ]
     },
     "metadata": {},
     "output_type": "display_data"
    }
   ],
   "source": [
    "real_pos_within_complex_nonzero = ProperSubset(RealNonPos, ComplexNonZero)"
   ]
  },
  {
   "cell_type": "code",
   "execution_count": 23,
   "metadata": {},
   "outputs": [
    {
     "data": {
      "text/html": [
       "<strong id=\"real_neg_within_complex_nonzero\"><a class=\"ProveItLink\" href=\"proofs/real_neg_within_complex_nonzero/thm_proof.ipynb\">real_neg_within_complex_nonzero</a> (conjecture without proof):<br></strong> <a class=\"ProveItLink\" href=\"../__pv_it/theorems/4f42bfc1fea882cc43b95d0ff7d3913cf11086430/theorem_expr.ipynb\"><img src=\"data:image/png;base64,iVBORw0KGgoAAAANSUhEUgAAAGUAAAAVCAMAAABogNA8AAAAOVBMVEX///8AAAAAAAAAAAAAAAAA\n",
       "AAAAAAAAAAAAAAAAAAAAAAAAAAAAAAAAAAAAAAAAAAAAAAAAAAAAAAACXHtMAAAAEnRSTlMAZs3v\n",
       "u90iq0QQiTKZVHbt5clcYUjMAAAACXBIWXMAAA7EAAAOxAGVKw4bAAABgklEQVRIx7VViY6EIAzl\n",
       "KEehMLv+/8duFXTUwakx2SaiUfoefT1U6t8Mb+wp4HlNqaaHJCkqCaBAnW+a1wiPSHyQADTo9mAz\n",
       "L5N/whL8d4AKZT3PNGtrywOSmA4A2liAyTjbz593oHnZ5LSc6ATOmOozYxPM9uJL7wFg0TAGDdhS\n",
       "kvDAYqtEUoNlIKQJaH2jzwDMkpZbDj3alacFPEmKUW36cD47C4I6A3QW8spsUgXyt7OfSUGPPlBT\n",
       "7OcXFsV2AG8W2BdiYM86F2I41YZrlrdqws0Ru1CbyxugswTEA57vTUX7Hs4mfUTG/nR683bZABpL\n",
       "hmLExkDnR+2Xj+1dRuXCLNa4yVV58IQ4SEtS8VjrRo1ZktbYv2VYbRDZyJ/liofDl3jFwlJqufly\n",
       "uPQXbdm1K0dpAn74o4KbLIqyl/e64cjaHTAKLNyuVdSM9EXv9yDJfGOZ653zAlGiMcMdFQz3NBZH\n",
       "V35tJs8FBWDEkYUQIg5nsp0cPfoRXfw44DRhbtgf7nMMwJ4ADwkAAAAASUVORK5CYII=\n",
       "\" style=\"display:inline;vertical-align:middle;\" /></a><br>(alternate proof for <a class=\"ProveItLink\" href=\"#real_pos_within_complex_nonzero\">real_pos_within_complex_nonzero</a>)<br>"
      ],
      "text/plain": [
       "<IPython.core.display.HTML object>"
      ]
     },
     "metadata": {},
     "output_type": "display_data"
    }
   ],
   "source": [
    "real_neg_within_complex_nonzero = ProperSubset(RealNonPos, ComplexNonZero)"
   ]
  },
  {
   "cell_type": "code",
   "execution_count": 24,
   "metadata": {},
   "outputs": [
    {
     "data": {
      "text/html": [
       "<strong id=\"real_nonzero_within_complex_nonzero\"><a class=\"ProveItLink\" href=\"proofs/real_nonzero_within_complex_nonzero/thm_proof.ipynb\">real_nonzero_within_complex_nonzero</a> (conjecture without proof):<br></strong> <a class=\"ProveItLink\" href=\"../__pv_it/theorems/6272589faf8ef973a606946661bdf1f0839837b90/theorem_expr.ipynb\"><img src=\"data:image/png;base64,iVBORw0KGgoAAAANSUhEUgAAAGUAAAAVCAMAAABogNA8AAAAOVBMVEX///8AAAAAAAAAAAAAAAAA\n",
       "AAAAAAAAAAAAAAAAAAAAAAAAAAAAAAAAAAAAAAAAAAAAAAAAAAAAAAACXHtMAAAAEnRSTlMAZs3v\n",
       "u90iq0QQiTKZVHbt5clcYUjMAAAACXBIWXMAAA7EAAAOxAGVKw4bAAABcElEQVRIx6VViZKDIAwN\n",
       "IdyR7vL/H7tc2tpCcdzMiDOSvJdbgJk4+KdcAfC2nj76myRXALQpp4gAlm6RXAIwupwy5CPpOyxX\n",
       "AGwNU6eSW7ndIHkDECiJEipJol4zFXnkR0CoSkqsC+1JIUYd/BSAag6tEXR0RWzATUnGFUk0Mhs4\n",
       "TsRTgMzi6yuY3bVerxZwWmWMY8sPiJ1lANBZWAP2jP38Ug34WvUDw54Fw1OAJ0v34IgJYmlEc84O\n",
       "qSbh6Ca3G4ITU4DOYpzrl8/6lKHi1xkO6D8iy/b89mUA0FgCbdgAtnm1ndKj8Qvn8R4CZBaJKqnY\n",
       "PcAvo2YHZfFgz70+BCixCOH2u83OWUb2OV325PwYoGaMnFgPXzBT+6VUrZd2XG3AD/tnj61YgINe\n",
       "66rhynpx0C5Y8rjGZc5YTGa/B8n4jaX0e64L2RUNDjUiYZ5ptyme2bWdTHkOiHC5shwZ64Y7WSbF\n",
       "t35Ekx8HvW2YC/IHECQMxVEMXuwAAAAASUVORK5CYII=\n",
       "\" style=\"display:inline;vertical-align:middle;\" /></a><br>"
      ],
      "text/plain": [
       "<IPython.core.display.HTML object>"
      ]
     },
     "metadata": {},
     "output_type": "display_data"
    }
   ],
   "source": [
    "real_nonzero_within_complex_nonzero = ProperSubset(RealNonZero, ComplexNonZero)"
   ]
  },
  {
   "cell_type": "code",
   "execution_count": 25,
   "metadata": {},
   "outputs": [
    {
     "data": {
      "text/html": [
       "<strong id=\"complex_nonzero_within_complex\"><a class=\"ProveItLink\" href=\"proofs/complex_nonzero_within_complex/thm_proof.ipynb\">complex_nonzero_within_complex</a> (conjecture without proof):<br></strong> <a class=\"ProveItLink\" href=\"../__pv_it/theorems/a9dbb2ba0335a1e16f856d41e5573e401cef04e70/theorem_expr.ipynb\"><img src=\"data:image/png;base64,iVBORw0KGgoAAAANSUhEUgAAAFAAAAAVCAMAAADmWplAAAAAOVBMVEX///8AAAAAAAAAAAAAAAAA\n",
       "AAAAAAAAAAAAAAAAAAAAAAAAAAAAAAAAAAAAAAAAAAAAAAAAAAAAAAACXHtMAAAAEnRSTlMAEIm7\n",
       "3c12IjKr72aZRFTt5ckIIT2HAAAACXBIWXMAAA7EAAAOxAGVKw4bAAABJElEQVQ4y62UjW6EIBCE\n",
       "F5d/Ftvy/g/bRbizIBYucRNJNPLBwMwC3JWAZ2uLx7jp7RmecXkMGiDiI0Bn8ugtD8k8wIuHUJPy\n",
       "Qfr94+liQ6mUNpYxhLm++AlgD6AMHwG4tPM8R1BCqj/owihAr2e8DkC6CITwAop6D0VymknuAJYA\n",
       "q+ccFcnfP3hIXruUDgBOwMsYoip1by3ZNq6Vh7KUfRuiAyAYapfEMyRsbPobGau2y347ADvYtmHY\n",
       "7y9BSDOKQAPgl9j6Qv1j9zg4wg7A243NlvZ4DxytdQHwEazm37rR1x6A5yWtdYwLsAPE00YQJ0Q5\n",
       "zH0PYKPXlUnNMhFuktICNCoyIHZJU9FqqOEC4Gbhk6SFvifQRTHsNouAUafELnpt/QIQoQh1FK/e\n",
       "BAAAAABJRU5ErkJggg==\n",
       "\" style=\"display:inline;vertical-align:middle;\" /></a><br>"
      ],
      "text/plain": [
       "<IPython.core.display.HTML object>"
      ]
     },
     "metadata": {},
     "output_type": "display_data"
    }
   ],
   "source": [
    "complex_nonzero_within_complex = ProperSubset(ComplexNonZero, Complex)"
   ]
  },
  {
   "cell_type": "code",
   "execution_count": 26,
   "metadata": {},
   "outputs": [
    {
     "data": {
      "text/html": [
       "<strong id=\"nonzero_if_in_complex_nonzero\"><a class=\"ProveItLink\" href=\"proofs/nonzero_if_in_complex_nonzero/thm_proof.ipynb\">nonzero_if_in_complex_nonzero</a> (conjecture without proof):<br></strong> <a class=\"ProveItLink\" href=\"../__pv_it/theorems/c860413c913aa870891d35b41d340d63fd6b2df60/theorem_expr.ipynb\"><img src=\"data:image/png;base64,iVBORw0KGgoAAAANSUhEUgAAAIkAAAAVCAMAAABFXj3DAAAASFBMVEX///8AAAAAAAAAAAAAAAAA\n",
       "AAAAAAAAAAAAAAAAAAAAAAAAAAAAAAAAAAAAAAAAAAAAAAAAAAAAAAAAAAAAAAAAAAAAAAAAAACC\n",
       "gUnDAAAAF3RSTlMAq1RmmUTNIjK7EInv3Xah18O15/Xp87zmPDoAAAAJcEhZcwAADsQAAA7EAZUr\n",
       "DhsAAAI5SURBVEjHvVbruqMgDAQSBALk7N33f9OFAF6qrT3H/dYftiiSyWQyoNS/vdx/++jiYnMx\n",
       "AenkoeV618vYwG0gJl5M8GE7ipFR+OAaGu14Pt0miaarGcFvBlMhkLJEnQpVfpDiwm1K8IpVrzcD\n",
       "yMKLhAXscOSRuY0kXVKypT0ILDNL/FTu0BOZ7qvkagm7pUTNKDTNwsBUUaRcrxTvF6cvQcyafDyS\n",
       "vFMiDSTCRKwgUVQU6DaSqbNbIrBmhXmBKLnmn7/qfdHlHBsSaWGofDo9bu81SF3AseFDq+VGApQX\n",
       "UKqv4RUlKxL5MWnQEe0Luwqo2bFaMm4yP6gitTUqxXgiGYv7jBoE2zjxs+DhM7161iGUtSnokosJ\n",
       "XQRQw1Hqcj9DIn/5pHgPJDadmKZYm3rbwOFLxG5CkVoho4qI+PENixe6KoHsz6sjiZaoRDud/P7T\n",
       "1LLIIDQnaV1screSYSpc7FccmEeRCbzdbFON4cbJo1CCQKZCpK7vH5pxeqQQhIZeR2i+6lIHWlSo\n",
       "Q3VhWgzXODMiFk6+/8DKiRTzUNDYrcoTliB238QG1ZnCKfmdA+hONEhiZWAX3QPBmgyN5UrvwKF3\n",
       "fG5zmEtcMBeU1JmRR+R87JjZtfYOchnlvfWv9/RNkv6ru7TLx45Jogi/ftgVq6j3zYsL8Lnr0af2\n",
       "TpdUnJoqV8t1Uc4Qkd9wvfDsYAEXlBzOAcg2MpO886upllKhf8t/n50sMn0tgxa/6sR+9kT6hLnX\n",
       "ecjG8RdjExDHR68X7AAAAABJRU5ErkJggg==\n",
       "\" style=\"display:inline;vertical-align:middle;\" /></a><br>"
      ],
      "text/plain": [
       "<IPython.core.display.HTML object>"
      ]
     },
     "metadata": {},
     "output_type": "display_data"
    }
   ],
   "source": [
    "nonzero_if_in_complex_nonzero = Forall(\n",
    "    x,\n",
    "    NotEquals(x, zero),\n",
    "    domain=ComplexNonZero)"
   ]
  },
  {
   "cell_type": "code",
   "execution_count": 27,
   "metadata": {},
   "outputs": [
    {
     "data": {
      "text/html": [
       "<strong id=\"nonzero_complex_is_complex_nonzero\"><a class=\"ProveItLink\" href=\"proofs/nonzero_complex_is_complex_nonzero/thm_proof.ipynb\">nonzero_complex_is_complex_nonzero</a> (conjecture without proof):<br></strong> <a class=\"ProveItLink\" href=\"../__pv_it/theorems/dfca5bb12a876b6a340077d93a2a425b39c4c6770/theorem_expr.ipynb\"><img src=\"data:image/png;base64,iVBORw0KGgoAAAANSUhEUgAAAMIAAAAbCAMAAAAZDqDkAAAAOVBMVEX///8AAAAAAAAAAAAAAAAA\n",
       "AAAAAAAAAAAAAAAAAAAAAAAAAAAAAAAAAAAAAAAAAAAAAAAAAAAAAAACXHtMAAAAEnRSTlMAq1Rm\n",
       "mUTNIjK7EInv3Xbt5cmRiLwgAAAACXBIWXMAAA7EAAAOxAGVKw4bAAAC2UlEQVRYw9VYi3arIBDk\n",
       "DQu499b//9jyUlDQmpg0p5zWYxpQZnd2dighf2tY8teHk+nq0H1uD1zeWa1pegYSIiHciE8gYPfe\n",
       "SnW8ehMuc7jV8AEmq1vLZaKPnmNBeFby8csD+CN4HUxKoTZh4wLi+Bd+OTEJwpQeNcVbWpPM341A\n",
       "+wcmI/VhQ1bMsJAP8wYzBI95UiyJtb6UfjcE8YCOCMy0IXyBYAvzM5Fmlv4W782Shl+ojfm6HBlB\n",
       "oPQAKjKR/n9BIlIt5xj3mBlVZjr2bgSZAUe8gSmMtdypJUtIbeHPSnmMolo+iTiLlxJQb08CTsda\n",
       "o3ALD4je6S/UCaG1ifIJU3n5CH/y7+93tETJIlJrXJN2rWzXw8x2Q2ysnzJlVpgdyJ9L7TkXA7Au\n",
       "R4pE1KR0ShL2L7cCqY7IaZaurekZTQVFjW2Wn3IxKr+Dh/3yEDzKj/cXWCQ3YWcHSqCzRMQEuG6K\n",
       "QQogo5bFts7AXYKwczGbMeXsxbCJzaZN5nIY0NTCJWbbDCHSrIuDyPwK4GwKB78GYediRlkga2Na\n",
       "99E/ECy5JPJ6NiWPi9lAFDr8rJ0wSprJCdJjCOuKsYsZQ5ARnq1V00uVrH2ByFOh1qUlFEVATSgQ\n",
       "xZq4MM26rt1AWFccuZg2Q5BDLgmNUujaOIy68yL9Z3IvS6/RvswOLwWMZK1ywC23JxDWFUcupk1Y\n",
       "0nA2GyvCnWyTpNhARFRIrmXTqf7xxXZRU01AijlXKajAiDHSnEDYcH7kYrqIWRFizgTffGspSNs7\n",
       "VT9P4ty5iV5JjU+sb/pKKedW72Gw4tDFNMPLs7MAtAbj6lC8M8NO5c5VO512KRBu2BeaFUcu5kmn\n",
       "evFM0dmu6HAxuRUNpiY0sEqYMZHqiiMXs0vYi4/i9PzMBKm1jZzC+Fz88ymQvtoNT8+eccYQLvDY\n",
       "vtgOP392HkJgV84z7KXVcOOUduOEeu//SPvSTeX2DdG/FzZsxc/HAAAAAElFTkSuQmCC\n",
       "\" style=\"display:inline;vertical-align:middle;\" /></a><br>"
      ],
      "text/plain": [
       "<IPython.core.display.HTML object>"
      ]
     },
     "metadata": {},
     "output_type": "display_data"
    }
   ],
   "source": [
    "nonzero_complex_is_complex_nonzero = Forall(\n",
    "    x, InSet(x, ComplexNonZero), condition=NotEquals(x, zero),\n",
    "    domain=Complex)"
   ]
  },
  {
   "cell_type": "markdown",
   "metadata": {},
   "source": [
    "***An in_bool theorem, which is accessed by the respective ComplexSet NumberSet to implement its deduce_membership_in_bool() method:***"
   ]
  },
  {
   "cell_type": "code",
   "execution_count": 28,
   "metadata": {},
   "outputs": [
    {
     "data": {
      "text/html": [
       "<strong id=\"complex_membership_is_bool\"><a class=\"ProveItLink\" href=\"proofs/complex_membership_is_bool/thm_proof.ipynb\">complex_membership_is_bool</a> (conjecture without proof):<br></strong> <a class=\"ProveItLink\" href=\"../__pv_it/theorems/2e45c6a66de2122cf1da6bf758485c49d69dc68a0/theorem_expr.ipynb\"><img src=\"data:image/png;base64,iVBORw0KGgoAAAANSUhEUgAAAJoAAAAVBAMAAABMN+opAAAAMFBMVEX///8AAAAAAAAAAAAAAAAA\n",
       "AAAAAAAAAAAAAAAAAAAAAAAAAAAAAAAAAAAAAAAAAAAv3aB7AAAAD3RSTlMAq1RmmUTNIjK7EInv\n",
       "3XZ/CtNrAAAACXBIWXMAAA7EAAAOxAGVKw4bAAACPElEQVQ4y2NgwAQFUIwDsJMkzqcAwZiAa+e1\n",
       "vIoNrA/QhN+ezM+5GMAAEhcA8ZWRJbWhGBM8PMyw5KcDw2N08Qlx7FmiDCBxVxA3HdkBCRCMCVie\n",
       "bmBgsHRgYFuAbloww3ZOBpB4I8jHE5D1GEAwJmjhBBrD6MDA7IBpmhEjA0gcZBE3cijxQDFSQM69\n",
       "ew1ES3GCnA606BSqONg0NgaQODNQlg1ZrxoUwwFrHtRnE0qgIsmo4iDTxK0h4mfv3j2NrNkbitc9\n",
       "XLEb7OYyqCZ2gW6oko0MyOKgWFh3cQNE3IOBYRayaclQ7MAnx3IBOYo4NgRDWWYMqFE3ITbnrxdE\n",
       "vBBoKbJplyCYuYD5FyM4MmDxy+4QB2XpMCCLg336OGwBWJxzAXcAsmlHIZiDgQWinAMYFHdvgjVV\n",
       "Q5X0o4qDTONk3QAWZ3qAEgkw04ARC0nzXPDkM4sTyohBFQebxjABIp5gByTeuT8pQPEpA0N8ARc4\n",
       "nC/ANIWA0hsD0CO6DCjiENMSIOKbsoBJp0CSDZro5kHwygAZBm6wwDtEXgAGMMj/lqjiYNOYHkDE\n",
       "a4BqmBnmcSBFPxDrd/kwBIEF2OBp+2VKwaIr0ASELD4hmmHfFqg4YwNI5DtMqheCl7xjcoYo55KM\n",
       "gpch56+AwuMqqvizk/NBZQhMHBRDB2DFE28DBCNlhp3QHARLKhfwizPUcCewQJmgPI2Rr1HLEgMC\n",
       "4ixP972CCU6HYpygkhTxlVCME0wnRZz9AQTjAnwFOMUB0kugwcDJExMAAAAASUVORK5CYII=\n",
       "\" style=\"display:inline;vertical-align:middle;\" /></a><br>"
      ],
      "text/plain": [
       "<IPython.core.display.HTML object>"
      ]
     },
     "metadata": {},
     "output_type": "display_data"
    }
   ],
   "source": [
    "complex_membership_is_bool = Forall(x, in_bool(InSet(x, Complex)))"
   ]
  },
  {
   "cell_type": "code",
   "execution_count": 29,
   "metadata": {},
   "outputs": [
    {
     "data": {
      "text/html": [
       "<strong id=\"complex_nonzero_membership_is_bool\"><a class=\"ProveItLink\" href=\"proofs/complex_nonzero_membership_is_bool/thm_proof.ipynb\">complex_nonzero_membership_is_bool</a> (conjecture without proof):<br></strong> <a class=\"ProveItLink\" href=\"../__pv_it/theorems/e88240294d86fa505a98baba2dc02134f71f27c20/theorem_expr.ipynb\"><img src=\"data:image/png;base64,iVBORw0KGgoAAAANSUhEUgAAALUAAAAbCAMAAAANmz4FAAAAOVBMVEX///8AAAAAAAAAAAAAAAAA\n",
       "AAAAAAAAAAAAAAAAAAAAAAAAAAAAAAAAAAAAAAAAAAAAAAAAAAAAAAACXHtMAAAAEnRSTlMAq1Rm\n",
       "mUTNIjK7EInv3Xbt5cmRiLwgAAAACXBIWXMAAA7EAAAOxAGVKw4bAAAC0klEQVRYw9VYiXbjIAzk\n",
       "vlF3+f+PXS7bHDZ20rTvrV7qTBKPLMRIQBH6bTPoPzTL89WC/YWHUT6jd0zi7AMQ4joC9ir/JQJh\n",
       "M3rLsExXp+IlRCj1q6N+gWDEjN4ynnUhQxK3IzXrr036c4KmM3oyWKu9ECBVjJXpZF/xjyKVo/bZ\n",
       "lb+pTvBOiyCcx1WZmYAPFVwGJN2MHhhgF10aFvSmKiiPKFE7KDfdpgxxQFKYGnYmsL24hLwsATuj\n",
       "B4UDRQ+IblGbKsqikEDyd8HcRx0HayUq7ExQ+F7ngc/o1hRDugaEWVHIn786K+SoxpQs+ihqSjZZ\n",
       "ZIKori25fP6eDrVKDGgfba9WbNCWB1OFsYsBUuern5he+zmiFg2B1rGKRUHMaO4OAsyQIjk0SX3c\n",
       "EFcZVj+BW/upUWNJbUtwaWjeXSsWixEZAGyUbaZHCjMtJ6p3Sc57Fu/mb/JTqtGAx7YjMDUkYqLp\n",
       "EbFUyoDYkfqplGPIvFesuNKfam+SZ7r2wgW/TU4h5EVWLhqQwAOi0TWNI8b0OqQoD94ll1wUsuwq\n",
       "XFxVI1Bep6ESUprtojl4NqA0Vtb5V0Vm0XSj60dt0rRRn/ipUac32xKS4FYL9ZRrtK8R+6PntqmP\n",
       "HrLeWbQKOfFzRF39bQSxr+4ATMbXfdQ8dVtz1MLcXPjRr9Gqy6vQPs6vohYdwZIqGZAIaySGzo11\n",
       "j4zmCKf20ygA4Gxt3Fryaib7HnLiZ4+6NqGNIF11H3/VgNTYr12PSFCGRcTb0QlysuyIOG2G+OXm\n",
       "lvb9evZTBB2PEWwg4CPQIBfZKMiwmBHCaOffYM3NvOdLHUuutyt99xr9gHBat3u+kVCKOKZ+/NLx\n",
       "GZ3tnXW3Ej+0aR9y52ckxH2oFSennPf2fA/34MF8l5A2lwDmbAJG9LEDKf4xAiYz+pB5+WOEj50b\n",
       "v3MMfJ1A7Iw+YT96Rv/c/0PGQjJvEf4B7nIYNie1rl0AAAAASUVORK5CYII=\n",
       "\" style=\"display:inline;vertical-align:middle;\" /></a><br>"
      ],
      "text/plain": [
       "<IPython.core.display.HTML object>"
      ]
     },
     "metadata": {},
     "output_type": "display_data"
    }
   ],
   "source": [
    "complex_nonzero_membership_is_bool = Forall(x, in_bool(InSet(x, ComplexNonZero)))"
   ]
  },
  {
   "cell_type": "markdown",
   "metadata": {},
   "source": [
    "### Complex numbers in polar form"
   ]
  },
  {
   "cell_type": "code",
   "execution_count": 30,
   "metadata": {},
   "outputs": [
    {
     "data": {
      "text/html": [
       "<strong id=\"unit_length_complex_polar_negation\"><a class=\"ProveItLink\" href=\"proofs/unit_length_complex_polar_negation/thm_proof.ipynb\">unit_length_complex_polar_negation</a> (conjecture without proof):<br></strong> <a class=\"ProveItLink\" href=\"../__pv_it/theorems/baa0efdb8be61d4dd403bc1d583d7407a0bbd25e0/theorem_expr.ipynb\"><img src=\"data:image/png;base64,iVBORw0KGgoAAAANSUhEUgAAAOQAAAAmBAMAAAAmWSoBAAAAMFBMVEX///8AAAAAAAAAAAAAAAAA\n",
       "AAAAAAAAAAAAAAAAAAAAAAAAAAAAAAAAAAAAAAAAAAAv3aB7AAAAD3RSTlMAq1RmmUTNIjK7EInv\n",
       "3XZ/CtNrAAAACXBIWXMAAA7EAAAOxAGVKw4bAAADqUlEQVRYw61YS2gTQRj+k93sxk2a5iT0FqjQ\n",
       "g5d6qPRQJIpCbVHiwYMoNKggtlgigiVYaQUvQjRLa5G0lxS8SNXGgkL1UgXxUQr1VFCLKwU9KaEq\n",
       "DRWs89rNPjubsnPYx+x8+Wb+xzf/BGD7JqYgwKb0+xh0EAJtt8vcIUI2WEohyR1SKAdLCWPcEQPs\n",
       "3kmubfbPGp+j0/r6kLeG8CZ7WCRWyYB83MIi8ikJsg4TeZZtqpjfpgEelHHMpfWeSMXFXRlnH4ZR\n",
       "kLzBoSxazHAEYJw4QzW6XIJ+j8vvYFiePk5xKFv0h3P4sgxyFc4yyutbW1s5mHOmni3GMZLABGrb\n",
       "Lg7lLwswC6IKNUqp9FyJuS5pV7uTksI+kveRFBB3trozRjfqwBmIqNA09aTKKOH7DHo65cAMg51y\n",
       "hsG+0vBIYwcBXPBI3GodWMiFk9CcE9NiqfSuNI54b6L+Ww5Mr4OykMMwgFkSGGIWbmCTqe6UoazZ\n",
       "PFEVmiGeY76U1ROuhv0DTsNSmERMnqiChLhjHtodT9rCRyofAkYpamfQ9afDF5sulBQmkoWFayAg\n",
       "bskjeppJ2k0vpSnlPYi8SOmUUrmpjLtsLbFsTmSGpLDEApnTOsDS6uqiFyU2hbLU+pK+ntb7DT8o\n",
       "qrcvzEiqG8QACsqCboBJD8oRPLnQMoxQRRBzrN9QH9ZzbBW3DyRHTJOoI6nNa+T2D+AyyMm6CoY/\n",
       "nd9tyGgxRZeq59pz+5w6HLOUkhYjmbNUppH1F82rHMsw8bzTMgFaJXZNH9SH5bKIZIZJqWIncG4L\n",
       "KO1AuURWPWpCEjSl/I3WpUlMBcVuvB9pwmPLKottQ0P+d03zKm1IuaZTQvYAU8E1sgVqiftWw/I3\n",
       "RZMvLYbV3LQM+RLm+qkK0vDTKvk1I3ywJ8T3ADnfqwyZwseGpBFLdHsYTQyrYIS4Wjs6bwyaxdNU\n",
       "Pnf80HxT0uRjzrMiBfJJXscTGwUinsLFUmkMGfapoUVxkg3il0H/tU3ErD5WJC0IoroiYhWMVqgv\n",
       "Txq5IKmN11OvvSOr3VLbEBWcpL6MGeEjLjRO2ev5he4kMV0RiQrmkYUjgwPKYV20hM3GKQueX/bR\n",
       "LdxSbynzpQlrUbHeOGXI80SxUtftbdrdHRw7vOp7Vvv0cRKuq3FK2OvRzyq8Zxz4bGYHxw4PTA+9\n",
       "veLAYwGfgqxS4d7eBk0Z555X9wdN+Y2/F7UHyyi/4Yf8SrCUj3z8D3A12DPtuB9LjAb69wROoP+j\n",
       "eQWGxds22AAAAABJRU5ErkJggg==\n",
       "\" style=\"display:inline;vertical-align:middle;\" /></a><br>"
      ],
      "text/plain": [
       "<IPython.core.display.HTML object>"
      ]
     },
     "metadata": {},
     "output_type": "display_data"
    }
   ],
   "source": [
    "unit_length_complex_polar_negation = Forall(\n",
    "    theta, Equals(Exp(e, Mult(i, Add(theta, pi))),\n",
    "                  Neg(Exp(e, Mult(i, theta)))),\n",
    "    domain=Real)"
   ]
  },
  {
   "cell_type": "code",
   "execution_count": 31,
   "metadata": {},
   "outputs": [
    {
     "data": {
      "text/html": [
       "<strong id=\"complex_polar_negation\"><a class=\"ProveItLink\" href=\"proofs/complex_polar_negation/thm_proof.ipynb\">complex_polar_negation</a> (conjecture without proof):<br></strong> <a class=\"ProveItLink\" href=\"../__pv_it/theorems/32b815548fedc7d393a27e81e4c32f8a8d8ebc990/theorem_expr.ipynb\"><img src=\"data:image/png;base64,iVBORw0KGgoAAAANSUhEUgAAAVAAAAAmBAMAAABgyt6CAAAAMFBMVEX///8AAAAAAAAAAAAAAAAA\n",
       "AAAAAAAAAAAAAAAAAAAAAAAAAAAAAAAAAAAAAAAAAAAv3aB7AAAAD3RSTlMAq1RmmUTNIjK7EInv\n",
       "3XZ/CtNrAAAACXBIWXMAAA7EAAAOxAGVKw4bAAAFL0lEQVRYw61YW2gcVRj+szu7MzubbIIPhYKX\n",
       "hQp98KHjQ4sPoaxSrSFW9sUXb12tIKa0rFgMqYFdnwStZu0F2ejDCDUitmaoKMQLxEiJWAKhFKzW\n",
       "2IGCT62GVBtJoeu5zJzLntndM2H+h4+cyZl/v/Of/zoAOmIUOerKjAsJiT2mvfVhAXXF+i0povCu\n",
       "7pnTFY768mBiRNNDmhuPuRz1JVdMjOlxzX0HBZTlIYLb2x8XiGv9vDnz1dVnZ/RslNrg2CYXiOoy\n",
       "wJG/pOel+D4dSr+HUdZn6N39gMcxSj5G1pvOokMb7NEzGGrVKIOVpeXODoGO9BFtVKW5rkV0yuUY\n",
       "JY8if3SwR+bYI0wbclFHu1++rFIH/0b6zAam2CDrD7WIbhWwTQ5gWEbGg2xA1Lzaaq1DHgdSej7C\n",
       "VHLqmFF3ZB0I9O3GSwIwrEX0poARRE302yMwWKdET3/qeIGlzLUoU0nLEx2IEn0D+FoIQK0IxE23\n",
       "dc3c6xxVop9DBt3Or9/eB5SoWziKiGbIjV1SX5iUVuZ8FFHbo/oKmBsBGChhBwN4uWu+WOWoEj1W\n",
       "TSFV67AHRpofNZsO5CxkTYsQfUx9YVQuzV4UUWuR6AMb5xkCYFTgTe6xHaSvwjHq6jGpVVgMLAoT\n",
       "maEwSP5WX/hXWg2WO1w91XeAhUFhlcRnvmsN6R/i2CmYxkjDQog+mUH3WfDxnzuU3G1tROSTCKJU\n",
       "3wiEkPoP0uh5tmssDXocpfS5VKJEP0B58xyERMcAdSM5kkKnFAMUlqXljfaccPclSpTqu87AQnG5\n",
       "tLJyoTtRh+E7jSNfMqVL234QsjsjSuQzgrNOtBsx2YIozJmjbNuZi8Pixe13Q7BRznkcYLor0VqR\n",
       "oXfS+4795jLU6M0ZYQXilWkvPSJxAGOFCGGQk6OhidwuN5pnsX8PmKJvTNVDgDsAr4LJThFW2NSV\n",
       "l7b4bHsxRNM5xMMWmThMit90qJOqu2RlT38B4LXsMo/9m3JmrZVDgNvokG6+LFRYgPe2ngLfy7/B\n",
       "LqAcouXSrG/fwsxbrVbwC7ZSf4KzKAUS5UOYIQa+HCTat6lnwSxyCgupvC3sni2HAP8g6/lZscKC\n",
       "gXwBfD/9hWpRyAQXgzP51Pbx8R7dl0pUtSj1QXoEa218/Kho0XoImChUUDlNPbJ7b1BhrwEhWjgd\n",
       "QdQQgnbQ71l7VR+NILpPWN9p64aqIZD/nEOzU/pZ50VaYW3i7r43cY2dy2EotnoG6ouroJEvpKhv\n",
       "KO3OFWH9hAtmZNSTTmMSnfKtXVCnFTtDlPsjc9xTfIY1oZLYv++80cOoNTWPysUd5UhTrFVnf3z+\n",
       "D2E5zID0N33YCe7FS1xh0680m8fR1X/FfqS/xPA5qVBfPdyrkVUqZEauTMhaGakE7Lvltw+/BCx2\n",
       "nPMQVFjLoz76FMs52QbHeLJDDbbzcnUud32f13o2B5mrgJorUmGnqY/mWTAZ8xzjyfeb6Z4E5+Ld\n",
       "Uz60uzUE1gKtsBPIEzKHD9p7wmqX3uAYT96PmLzlHmW+5zhPZ/qcmC1SwTnmmqfkg61xjCcRQ0Gf\n",
       "HF93dR0qqyHI+ePpTi+cFDCOZNY3MzNxEWam/WIidDq9MBxjvhIlH9VrPyBPoV2cVJxCv9b6QVpt\n",
       "Z8uxPyUUNz3Xk0hzQwBYiGGZfCUu0euJfXsqaKacnwSMIQuJEe3X/N62S8AYZqgkRvRPzX1kjAlQ\n",
       "XyarSfE0FzU32r9w1Bb7YmIGPav9pfV1l6P2d1wnMaIn9G1f56grnyTG08YZ7X/8d2RDdUVtWgAA\n",
       "AABJRU5ErkJggg==\n",
       "\" style=\"display:inline;vertical-align:middle;\" /></a><br>"
      ],
      "text/plain": [
       "<IPython.core.display.HTML object>"
      ]
     },
     "metadata": {},
     "output_type": "display_data"
    }
   ],
   "source": [
    "complex_polar_negation = Forall(\n",
    "    (r, theta), Equals(Mult(r, Exp(e, Mult(i, Add(theta, pi)))),\n",
    "                       Neg(Mult(r, Exp(e, Mult(i, theta))))),\n",
    "    domain=Real)"
   ]
  },
  {
   "cell_type": "code",
   "execution_count": 32,
   "metadata": {},
   "outputs": [
    {
     "data": {
      "text/html": [
       "<strong id=\"complex_polar_radius_negation\"><a class=\"ProveItLink\" href=\"proofs/complex_polar_radius_negation/thm_proof.ipynb\">complex_polar_radius_negation</a> (conjecture without proof):<br></strong> <a class=\"ProveItLink\" href=\"../__pv_it/theorems/1a4b77cd703658ad795493650c7ac0ed82cea39a0/theorem_expr.ipynb\"><img src=\"data:image/png;base64,iVBORw0KGgoAAAANSUhEUgAAAUoAAAAmBAMAAABQRs+jAAAAMFBMVEX///8AAAAAAAAAAAAAAAAA\n",
       "AAAAAAAAAAAAAAAAAAAAAAAAAAAAAAAAAAAAAAAAAAAv3aB7AAAAD3RSTlMAq1RmmUTNIjK7EInv\n",
       "3XZ/CtNrAAAACXBIWXMAAA7EAAAOxAGVKw4bAAAFHklEQVRYw61YXWgcRRz/N7t3e7f3+SQU/DhR\n",
       "fKnS86EBIZSzVG2MlfjgQzHYoxHEFmWl0hKN3AmCKK05G0u5FuQeVCi19hJQiEUIlRCtCCFUREtk\n",
       "QdCXokdqm5JC48x/dmf2Y25vbuM8/JKd3fnNf/7fcwAqQy8JjDs+b8VaZh5U/vRxD8Ydqd/irTuu\n",
       "ejqtKjD+eDTeMq2o+OGxlsD4Ix3TYU4ofnfIgz0OXqc4YAXnbephl1W1V/c9fqGmnYF1gT1Gtk1x\n",
       "B8Abf/vDrx+/ZiScQVczea4tUCksi2CeTlINVNypBF1cs2SKG+1CQhjwbGCsKe061RKolLdGIV1G\n",
       "L2zwOZpP0rJzPtjNiwmDwdafUdp1qwfBrw8j8GmyTLVO1AZJV8q3NzY2LJilapuXqEySOJAEGXbi\n",
       "85CSlNc9mPcHasKWbHAEYBgKdSal+fThjKMyY1Wmsi5SIkMO7VcrAbrmA5HpeE0gbAu8/CO4gdmG\n",
       "fQC/XrwPHCnhr3Pkv3308UqYfBJkUhISZMijdLkKPEH/vhyZGDoCQwZKtgIbpBbhfoA12A16s/lD\n",
       "c5qI+i558T59+2SYfEQqJSGhDGBiXtGr8A41RSNKyi1VgXrQQFolbCwiUQcWHV0S8ufcIPknTH4D\n",
       "ulicMYyjl3VQGZnIqpAtejD09rI0eg6yzoRKqdtjBDH5ba+HvGm9m5SMYRgz9S3QyFQyMngKbYEP\n",
       "hd6Oi3C9+wrbIG3BC7PgSpls0Rg4hckspI38UjDmXRLGcA2PQqLup5WVH6OlLAv0uFFqzhghczOi\n",
       "ki0PFUUK51KyzfG/C2WZNzlEARI29lO3N0l62QNwOlLKWkmg0Bxk0iMZkgAH+cQ9YDj2e8qd4k6r\n",
       "Y5otYN7SV3CgMOkGJwqSsIKCPnIH4HUwuPTGsyz/DVx96S6eCZmdGC4LgsPJJZ0o7WFvWp12DhAq\n",
       "Uzs8vuNzwSInCpIwDWH9vE2O08rwUnq2RSrZh1tPgt3OvMW1Pipwgej/VVRF/QPmA1NoSmo4UmNu\n",
       "O0tCUrKJQiXUIpAZh8i8CX4SJMZd/yV6s0XwTJNmTt9DOy1b+1Kmy4Wgz8CYu1lq9ejRN6OLWFhK\n",
       "qkuHCHN+kKRWd6SEKqmWA7t2EmcyOnCAVRPbzn/aw+KwF/ER/nynZ6kN+yVKudfzSYBkynInZ4mV\n",
       "tbHyAbK+AbdYNNrtCV77amWBn3gYriI+xp+faYWaD2m28MV4gxNJSZiaaQsxSc7z3iAQ3ebOzHQS\n",
       "yGQPzwnfsAXOeNqhG4ESd/67F38HhWzhy5fznEhKgu0QdilbqO3vxbNaekV7pdk8QSz+FWfMVgQe\n",
       "97RDLCH/7HGBm3aPRjXU8SbWOZGUBNv7FD8GhkUBslaqzfzy+W+4hzcE5oI1zljq4561PdxIL0Sv\n",
       "GPfdZUjcwDlSzHY5KZ5kIh49+rxALRilerkPKb9V64k89RLly7iaSBHfPFZKXCRmniDqSrx2yNzt\n",
       "NmnaukBWjz1jop8760eSS7TCXTztu54xTzTnmif9B1oVCGcDPKf6kfK6pC2MbMdyVig1JLpdvz72\n",
       "oOEPkLzVh5CJNbV7jxjs3rPfu4nW7duhPu5IUSMjk2hbxAKnO/9aiZ0V0wujm5UyW+rjPo6hyax7\n",
       "qQ8dZKqblfJavGX5ebXvvvfgJsal/9EEkjHowfgjH9MYfyp+hxcRB+OPSSvWMmNR9eepXwTGHuZy\n",
       "vHXnlX/2PNISGPtH1pimmFbXel1g3PFZTBPQTPUf8uBeRbqMQ9cAAAAASUVORK5CYII=\n",
       "\" style=\"display:inline;vertical-align:middle;\" /></a><br>"
      ],
      "text/plain": [
       "<IPython.core.display.HTML object>"
      ]
     },
     "metadata": {},
     "output_type": "display_data"
    }
   ],
   "source": [
    "complex_polar_radius_negation = Forall(\n",
    "    (r, theta), Equals(Mult(Neg(r), Exp(e, Mult(i, Add(theta, pi)))),\n",
    "                       Mult(r, Exp(e, Mult(i, theta)))),\n",
    "    domain=Real)"
   ]
  },
  {
   "cell_type": "code",
   "execution_count": 33,
   "metadata": {},
   "outputs": [
    {
     "data": {
      "text/html": [
       "<strong id=\"exp_2pi_i_x\"><a class=\"ProveItLink\" href=\"proofs/exp_2pi_i_x/thm_proof.ipynb\">exp_2pi_i_x</a> (conjecture without proof):<br></strong> <a class=\"ProveItLink\" href=\"../__pv_it/theorems/ec0b8bf6bc2c3ba2572132ff4567a8b5d45897220/theorem_expr.ipynb\"><img src=\"data:image/png;base64,iVBORw0KGgoAAAANSUhEUgAAASAAAAAmBAMAAACWg1saAAAAMFBMVEX///8AAAAAAAAAAAAAAAAA\n",
       "AAAAAAAAAAAAAAAAAAAAAAAAAAAAAAAAAAAAAAAAAAAv3aB7AAAAD3RSTlMAq1RmmUTNIjK7EInv\n",
       "3XZ/CtNrAAAACXBIWXMAAA7EAAAOxAGVKw4bAAAD+klEQVRYw71WXWjTUBQ+bdolTbbqi8LASWAP\n",
       "gsooTn1xjvmHCg7qLwriigxEHbP64Jg6Vh/UB6crc4NtglQQX9xcmCjog9SJU5RBFUFQp8H5h6JI\n",
       "/UXReU7apMtM4q2OXGhyknt675fvfOecC8A0fLLdzEaLd7MTWSOYgDyGuIPdd1H2vuZ52HgnROgS\n",
       "svAuMHBU5QMIjjHj5yJZIyl+MM8EwBHQ2rwAcZNZPVv0HaJCEq8bBgfx0/k4mvtBWDBCPIjt5VNm\n",
       "hYRnr0HoryB3bkm5Ch7r9fxly3IPh3NmGyugnTlGwhCFsKIgNgQUhVLghLhCMxugjY+cRXaKoIgA\n",
       "ed/ysjWBAIXQZ/m+hzFm3u+GuQL4FIhKHG98HM05qFxVm1kNnWJkEyI+nA1ZJwXPekEeWoinurpa\n",
       "vDWSFDM0+xhjVqTolpSg3aXwQ8iG7DgEAzFN2OsIUC+yk2UIknYSo9GBoPySRNga8Zelmf/KBqjV\n",
       "YHLXaIoYg5k6IA94Ki/ESEMlh+5LA/6RF6ihhZqo6GuP2pWRGDQBnEO8TQioyaD5JBugYofECDv+\n",
       "0y7trwTpelGjkkKm01zBBuijw9wrR/HFrN8XjP6km+zVAWVphmYZNBmVOuIRnCIrwr9OWqq1CrSC\n",
       "sM25XhnFcNJo3sNyRVtPXwQO6vK0H54IuDWCH7SaIcmOXoWTXQPk/QZcyLZ8GYHSytDpoaqJ2FKc\n",
       "dt9JrmmAoeHhO38BRBkpDpVes1cZ9S220XOvYgzhc8srzXA/UjOAbuc1miminhQ023YarW85jOph\n",
       "GnfJLAE+14igTNlj9vwFsBv4PzXifVQ71fjmVjlDUyBku2Mnc8iQghNjTi/jC9UPfJeQxlXb48Ud\n",
       "oCrSfv25huZbMTEV222SrHgEXObH2LY/bnxCMtRxmvZhEEFVufMmhlpnNDTYhkxkzkMh3dCwL/d4\n",
       "2gIQREhX75c/jyK4xZXLYQQ0QMEz5pCp/5FaYzT0y9mTpvvxbB2MFhfgttzm0FZRq5Kq0jhiiJq0\n",
       "47uNZ7IJSPtVCTxtOLfNA8g3B6cENI/Mh5hfk6668rLh1EfkiI/nvVMnAFDv9S1P7Gf5NCW0pvRM\n",
       "A52O2LZ3dbVhyC4aiVyoVUTf0/oJKcbVXxy+S/hsWEmNyBtoKRkNrb9iHBbi7rUOvUYdkCI+OAc8\n",
       "9fXujIYkQ9S+pGuApJS+54urb6BFFih9GzGE/vqd4lK9yXPfXQMUMNePjGrEy10d5iqTdg3QJFMz\n",
       "8NsVvnbXANWYKgtn51bhGqBLbG59YbcADTBq360zbJA1n2+5BKhQZnSc7xKgl6yOBSFX8PA3mU/m\n",
       "D1wB1Cszu+5NuAHoRB5kxlzAI1J1+Q3CZUAaT+9iWwAAAABJRU5ErkJggg==\n",
       "\" style=\"display:inline;vertical-align:middle;\" /></a><br>"
      ],
      "text/plain": [
       "<IPython.core.display.HTML object>"
      ]
     },
     "metadata": {},
     "output_type": "display_data"
    }
   ],
   "source": [
    "exp_2pi_i_x = Forall((x, r), Equals(Exp(e, frac(Mult(two, pi, i, Mod(x, r)), r)),\n",
    "                     Exp(e, frac(Mult(two, pi, i, x), r))), domain=Real)"
   ]
  },
  {
   "cell_type": "code",
   "execution_count": 34,
   "metadata": {},
   "outputs": [
    {
     "data": {
      "text/html": [
       "<strong id=\"exp_neg2pi_i_x\"><a class=\"ProveItLink\" href=\"proofs/exp_neg2pi_i_x/thm_proof.ipynb\">exp_neg2pi_i_x</a> (conjecture without proof):<br></strong> <a class=\"ProveItLink\" href=\"../__pv_it/theorems/1a15d977e3305b98039a6b36a3e2a26745948c760/theorem_expr.ipynb\"><img src=\"data:image/png;base64,iVBORw0KGgoAAAANSUhEUgAAAU0AAAAmBAMAAACymtTaAAAAMFBMVEX///8AAAAAAAAAAAAAAAAA\n",
       "AAAAAAAAAAAAAAAAAAAAAAAAAAAAAAAAAAAAAAAAAAAv3aB7AAAAD3RSTlMAq1RmmUTNIjK7EInv\n",
       "3XZ/CtNrAAAACXBIWXMAAA7EAAAOxAGVKw4bAAAEOElEQVRYw8VYf4gMURz/3s7uzuzM3t6VqCu0\n",
       "5R8hlkPKuQ7nV1HrZ5TYpMSJIxF3srqQXHfrx9WdP7QK//hxE/mDoo1IpI6uFJ0mdyKETlEnzvf7\n",
       "Zmfc7M3Mvs1qvr2d3pv33ud93vfXe7MAXOKPDm0FksNHrLWZNSmdrUTSVNxkrf3rD/i7lAZumWtp\n",
       "NUFg8gKzJSXoEbOZFTRXqGHFWXD6ir64FZLphxovuWkKCUszBWHotI4IgSvPlaw4C07PyF+Hvw/Q\n",
       "9qdy82y2qF5UQYRmQtm+fTM2U1htAGl2L6lMPlM5cmJMevMepOtVbNr0ymooASrO0gBQL2Wwsubh\n",
       "w5osZNPd6QDltIkoL886S8tHm2xDrgFFQXwErYdxIEgplXrXwCkxcQl1WQqljOdkdTfpK+S2wDii\n",
       "E0ecuKoakLHjCpkOt/6Yk6ZvwKjtqa2tjQu4P38SDgJcDoHYJabELpiGwaKxIcuhXU6sw1WPZu0e\n",
       "wqgLsmInIiIuoOmwGLFAVlMGJHzGl4nh0eEsparV6ZHQ7QjVbpLGmJFaIBJKslhaRTyvoi4NfYZ1\n",
       "/3PVZwuAkqZ9KnGKGgaptQu6PuFQPR/P1pzMUA7BwV9UifoMniVQUn2D0pU85ki3ci/Q+xb9cw6L\n",
       "8fP4O8GKs6Dz7hzsItPBBIPniI+zQGIaCql8PCty2jNsMkLcFSFfXnKa7td7M3w8v+W0IzZ2eOfq\n",
       "4EkqbuIwfbzuw/164LNwc0nCP3Lf2JwQshuCnKffsTu7UDcAO1e2uGd5MwGXDf6L2IJzTVoIcNhw\n",
       "WxcnT4DH8kU/2xT3hB8u95rnlCQIMccUbFqb0oI8urvYq/NDtqIin/b0PMnDk/L3ledVedQqzK/U\n",
       "CuJpA+mA0Rmj4wrOuuMdIrcYA+JAntP1o8hxYVjWQ/IM7CEdMMqQ/C4QhyvK92rzKG2o1imHns5D\n",
       "ob1Au9tBtjt6Xiit5BwGLRVtoKlKg9HeiP0SpoifedbNFEbTFtIeowwPM5+WE0b+xXQJ0IRrQ/Up\n",
       "9e/bdyBPWBSYFuwgHTCIJySq8fF5UR8ehr551YugFxjPyAWL3X8XKciH+Cc/JPknXN9GJ3ZFENkI\n",
       "62ObZJb0NXV/rxlHFO9L03gxLq7wQ7KM04i6FuCchNVjMyHJPklAW3Lrb1ag3Vy9v+F1kXnyQ7KM\n",
       "U8JuMvpdYyxS3trRcQrtftNMEGF2JVv2XSsyT37IVjPSpQwzwQPIXk01bfVt87Mx5fm5aVzQGpWE\n",
       "Hy6DSDejs7p/KmYc+TNe87xjUnl79wM0RyVKC/vRDwI76uRa45okDHjN86S1qXukfKujzZrU+r3m\n",
       "af2gCDj9kXPGY5oB6weF4DSuymOeCudFvTPuLc9wtLj7+V/yiXfgI2953uMdONNTmhFucwZjXvJs\n",
       "rOcdKb/wkKb8nH/s3rR3PEMFGFNMesfzIj3+AC6uZ8403fBDAAAAAElFTkSuQmCC\n",
       "\" style=\"display:inline;vertical-align:middle;\" /></a><br>"
      ],
      "text/plain": [
       "<IPython.core.display.HTML object>"
      ]
     },
     "metadata": {},
     "output_type": "display_data"
    }
   ],
   "source": [
    "exp_neg2pi_i_x = Forall((x, r), Equals(Exp(e, frac(Neg(Mult(two, pi, i, Mod(x, r))), r)),\n",
    "                     Exp(e, frac(Neg(Mult(two, pi, i, x)), r))), domain=Real)"
   ]
  },
  {
   "cell_type": "code",
   "execution_count": 35,
   "metadata": {},
   "outputs": [
    {
     "name": "stdout",
     "output_type": "stream",
     "text": [
      "These theorems may now be imported from the theory package: proveit.numbers.number_sets.complex_numbers\n"
     ]
    }
   ],
   "source": [
    "%end theorems"
   ]
  },
  {
   "cell_type": "code",
   "execution_count": null,
   "metadata": {},
   "outputs": [],
   "source": []
  }
 ],
 "metadata": {
  "kernelspec": {
   "display_name": "Python 3",
   "language": "python",
   "name": "python3"
  }
 },
 "nbformat": 4,
 "nbformat_minor": 0
}