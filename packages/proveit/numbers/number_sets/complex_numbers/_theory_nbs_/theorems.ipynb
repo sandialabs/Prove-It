{
 "cells": [
  {
   "cell_type": "markdown",
   "metadata": {},
   "source": [
    "Theorems (or conjectures) for the theory of <a class=\"ProveItLink\" href=\"theory.ipynb\">proveit.numbers.number_sets.complex_numbers</a>\n",
    "========"
   ]
  },
  {
   "cell_type": "code",
   "execution_count": null,
   "metadata": {},
   "outputs": [],
   "source": [
    "import proveit\n",
    "# Prepare this notebook for defining the theorems of a theory:\n",
    "%theorems_notebook # Keep this at the top following 'import proveit'.\n",
    "from proveit import r, x, theta\n",
    "from proveit.logic import Forall, in_bool, Equals, NotEquals, InSet, ProperSubset\n",
    "from proveit.numbers import (\n",
    "    zero, e, i, pi, Natural, NaturalPos, Integer, Real, RealPos, RealNeg, RealNonZero,\n",
    "    Complex, ComplexNonZero)\n",
    "from proveit.numbers import Add, Neg, Mult, Exp"
   ]
  },
  {
   "cell_type": "code",
   "execution_count": null,
   "metadata": {},
   "outputs": [],
   "source": [
    "%begin theorems"
   ]
  },
  {
   "cell_type": "code",
   "execution_count": null,
   "metadata": {},
   "outputs": [],
   "source": [
    "i_is_complex = InSet(i, Complex)"
   ]
  },
  {
   "cell_type": "code",
   "execution_count": null,
   "metadata": {},
   "outputs": [],
   "source": [
    "i_is_complex_nonzero = InSet(i, ComplexNonZero)"
   ]
  },
  {
   "cell_type": "code",
   "execution_count": null,
   "metadata": {},
   "outputs": [],
   "source": [
    "int_within_complex = ProperSubset(Integer, Complex)"
   ]
  },
  {
   "cell_type": "code",
   "execution_count": null,
   "metadata": {},
   "outputs": [],
   "source": [
    "nat_within_complex = ProperSubset(Natural, Complex)"
   ]
  },
  {
   "cell_type": "code",
   "execution_count": null,
   "metadata": {},
   "outputs": [],
   "source": [
    "nat_pos_within_complex = ProperSubset(NaturalPos, Complex)"
   ]
  },
  {
   "cell_type": "code",
   "execution_count": null,
   "metadata": {},
   "outputs": [],
   "source": [
    "real_within_complex = ProperSubset(Real, Complex)"
   ]
  },
  {
   "cell_type": "code",
   "execution_count": null,
   "metadata": {},
   "outputs": [],
   "source": [
    "real_pos_within_complex = ProperSubset(RealPos, Complex)"
   ]
  },
  {
   "cell_type": "code",
   "execution_count": null,
   "metadata": {},
   "outputs": [],
   "source": [
    "real_neg_within_complex = ProperSubset(RealNeg, Complex)"
   ]
  },
  {
   "cell_type": "code",
   "execution_count": null,
   "metadata": {},
   "outputs": [],
   "source": [
    "real_nonzero_within_complex_nonzero = ProperSubset(RealNonZero, ComplexNonZero)"
   ]
  },
  {
   "cell_type": "code",
   "execution_count": null,
   "metadata": {},
   "outputs": [],
   "source": [
    "complex_nonzero_within_complex = ProperSubset(ComplexNonZero, Complex)"
   ]
  },
  {
   "cell_type": "code",
   "execution_count": null,
   "metadata": {},
   "outputs": [],
   "source": [
    "nonzero_if_in_complex_nonzero = Forall(\n",
    "    x,\n",
    "    NotEquals(x, zero),\n",
    "    domain=ComplexNonZero)"
   ]
  },
  {
   "cell_type": "code",
   "execution_count": null,
   "metadata": {},
   "outputs": [],
   "source": [
    "nonzero_complex_is_complex_nonzero = Forall(\n",
    "    x, InSet(x, ComplexNonZero), condition=NotEquals(x, zero),\n",
    "    domain=Complex)"
   ]
  },
  {
   "cell_type": "markdown",
   "metadata": {},
   "source": [
    "***An in_bool theorem, which is accessed by the respective ComplexSet NumberSet to implement its deduce_membership_in_bool() method:***"
   ]
  },
  {
   "cell_type": "code",
   "execution_count": null,
   "metadata": {},
   "outputs": [],
   "source": [
    "complex_membership_is_bool = Forall(x, in_bool(InSet(x, Complex)))"
   ]
  },
  {
   "cell_type": "code",
   "execution_count": null,
   "metadata": {},
   "outputs": [],
   "source": [
    "complex_nonzero_membership_is_bool = Forall(x, in_bool(InSet(x, ComplexNonZero)))"
   ]
  },
  {
   "cell_type": "markdown",
   "metadata": {},
   "source": [
    "### Complex numbers in polar form"
   ]
  },
  {
   "cell_type": "code",
   "execution_count": null,
   "metadata": {},
   "outputs": [],
   "source": [
    "unit_length_complex_polar_negation = Forall(\n",
    "    theta, Equals(Exp(e, Mult(i, Add(theta, pi))),\n",
    "                  Neg(Exp(e, Mult(i, theta)))),\n",
    "    domain=Real)"
   ]
  },
  {
   "cell_type": "code",
   "execution_count": null,
   "metadata": {},
   "outputs": [],
   "source": [
    "complex_polar_negation = Forall(\n",
    "    (r, theta), Equals(Mult(r, Exp(e, Mult(i, Add(theta, pi)))),\n",
    "                       Neg(Mult(r, Exp(e, Mult(i, theta))))),\n",
    "    domain=Real)"
   ]
  },
  {
   "cell_type": "code",
   "execution_count": null,
   "metadata": {},
   "outputs": [],
   "source": [
    "complex_polar_radius_negation = Forall(\n",
    "    (r, theta), Equals(Mult(Neg(r), Exp(e, Mult(i, Add(theta, pi)))),\n",
    "                       Mult(r, Exp(e, Mult(i, theta)))),\n",
    "    domain=Real)"
   ]
  },
  {
   "cell_type": "code",
   "execution_count": null,
   "metadata": {},
   "outputs": [],
   "source": [
    "%end theorems"
   ]
  },
  {
   "cell_type": "code",
   "execution_count": null,
   "metadata": {},
   "outputs": [],
   "source": []
  }
 ],
 "metadata": {
  "kernelspec": {
   "display_name": "Python 3",
   "language": "python",
   "name": "python3"
  }
 },
 "nbformat": 4,
 "nbformat_minor": 0
}
