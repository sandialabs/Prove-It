{
 "cells": [
  {
   "cell_type": "markdown",
   "metadata": {},
   "source": [
    "Proof of <a class=\"ProveItLink\" href=\"../../../../../../_theory_nbs_/theory.ipynb\">proveit</a>.<a class=\"ProveItLink\" href=\"../../../../../_theory_nbs_/theory.ipynb\">numbers</a>.<a class=\"ProveItLink\" href=\"../../../../_theory_nbs_/theory.ipynb\">number_sets</a>.<a class=\"ProveItLink\" href=\"../../theory.ipynb\">complex_numbers</a>.<a class=\"ProveItLink\" href=\"../../theorems.ipynb#zero_set_within_complex\">zero_set_within_complex</a> theorem\n",
    "========"
   ]
  },
  {
   "cell_type": "code",
   "execution_count": 1,
   "metadata": {},
   "outputs": [],
   "source": [
    "import proveit\n",
    "theory = proveit.Theory() # the theorem's theory"
   ]
  },
  {
   "cell_type": "code",
   "execution_count": 2,
   "metadata": {},
   "outputs": [
    {
     "data": {
      "text/html": [
       "With these <a href=\"allowed_presumptions.txt\">allowed</a>/<a href=\"disallowed_presumptions.txt\">disallowed</a> theorem/theory presumptions (e.g., to avoid circular dependencies), we begin our proof of<br><strong id=\"zero_set_within_complex\">zero_set_within_complex:</strong> <a class=\"ProveItLink\" href=\"../../../__pv_it/theorems/0f376ce9301ce3f5bc271174657540eb5efa69d10/expr.ipynb\"><img src=\"data:image/png;base64,iVBORw0KGgoAAAANSUhEUgAAAEkAAAAVBAMAAAD4Ed5jAAAAMFBMVEX///8AAAAAAAAAAAAAAAAA\n",
       "AAAAAAAAAAAAAAAAAAAAAAAAAAAAAAAAAAAAAAAAAAAv3aB7AAAAD3RSTlMAEER2zVSJ3Zki72ar\n",
       "MruaaVGaAAAACXBIWXMAAA7EAAAOxAGVKw4bAAABTklEQVQoz2NgYGBUYgCDqRMY8AATRQjNe04A\n",
       "U1LsuYvlNSDN+hFIpFkADeI7gKGI+dQGxv4XQAZbAQMDSwBjJYSFBprVGBi4Yaq2MzDkYVPF2/AQ\n",
       "SJ6AqnrDwBAvgFDF/Ly8vPwCkMEj8ABISkNV/WBguB8AV8XrBvMtH2cDlAWUYwSp2gBXJQ4Pkjm8\n",
       "CVAWhwMD5zegKgMG5gUQkUNwd11j2gBlzdoAUZXAwPkVIuIAVzWDyQBqqBMw9IGq9IF8GVewsxDB\n",
       "xscJtZG3TwDs+vgABoYUBZAIJ5IqsB/BLKDgOwaG/QKQWAACRLAxgcOLCRoSuxgYWoAsqOu7kcJe\n",
       "hwEsBVbFHsC4FhH2LAqIeHzSyRjeAFXF2GZzAaGK8Y0iIk28+t4JDVVE+EKdkweNIQTAogoLgIU4\n",
       "OBZwAliIMzBIbcCTomcchdDTjuJUAgBatlOULi63RQAAAABJRU5ErkJggg==\n",
       "\" style=\"display:inline;vertical-align:middle;\" /></a><br>(see <a class=\"ProveItLink\" href=\"../../../__pv_it/theorems/2983812d5f2321890d1b847ed639144d291e48a80/dependencies.ipynb\">dependencies</a>)<br>"
      ],
      "text/plain": [
       "<IPython.core.display.HTML object>"
      ]
     },
     "metadata": {},
     "output_type": "display_data"
    },
    {
     "name": "stdout",
     "output_type": "stream",
     "text": [
      "zero_set_within_complex may now be readily provable (assuming required theorems are usable).  Simply execute \"%qed\".\n"
     ]
    }
   ],
   "source": [
    "%proving zero_set_within_complex"
   ]
  },
  {
   "cell_type": "code",
   "execution_count": null,
   "metadata": {},
   "outputs": [],
   "source": []
  }
 ],
 "metadata": {
  "kernelspec": {
   "display_name": "Python 3",
   "language": "python",
   "name": "python3"
  }
 },
 "nbformat": 4,
 "nbformat_minor": 0
}