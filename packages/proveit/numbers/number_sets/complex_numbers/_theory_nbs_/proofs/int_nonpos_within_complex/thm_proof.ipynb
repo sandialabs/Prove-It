{
 "cells": [
  {
   "cell_type": "markdown",
   "metadata": {},
   "source": [
    "Proof of <a class=\"ProveItLink\" href=\"../../../../../../_theory_nbs_/theory.ipynb\">proveit</a>.<a class=\"ProveItLink\" href=\"../../../../../_theory_nbs_/theory.ipynb\">numbers</a>.<a class=\"ProveItLink\" href=\"../../../../_theory_nbs_/theory.ipynb\">number_sets</a>.<a class=\"ProveItLink\" href=\"../../theory.ipynb\">complex_numbers</a>.<a class=\"ProveItLink\" href=\"../../theorems.ipynb#int_nonpos_within_complex\">int_nonpos_within_complex</a> theorem\n",
    "========"
   ]
  },
  {
   "cell_type": "code",
   "execution_count": 1,
   "metadata": {},
   "outputs": [],
   "source": [
    "import proveit\n",
    "theory = proveit.Theory() # the theorem's theory"
   ]
  },
  {
   "cell_type": "code",
   "execution_count": 2,
   "metadata": {},
   "outputs": [
    {
     "data": {
      "text/html": [
       "With these <a href=\"allowed_presumptions.txt\">allowed</a>/<a href=\"disallowed_presumptions.txt\">disallowed</a> theorem/theory presumptions (e.g., to avoid circular dependencies), we begin our proof of<br><strong id=\"int_nonpos_within_complex\">int_nonpos_within_complex:</strong> <a class=\"ProveItLink\" href=\"../../../__pv_it/theorems/fb5f4bde69cc94fb572c54f960e3a2d2f4b7c3c40/expr.ipynb\"><img src=\"data:image/png;base64,iVBORw0KGgoAAAANSUhEUgAAAE8AAAAUBAMAAAA+U32BAAAAMFBMVEX///8AAAAAAAAAAAAAAAAA\n",
       "AAAAAAAAAAAAAAAAAAAAAAAAAAAAAAAAAAAAAAAAAAAv3aB7AAAAD3RSTlMAVM3vu91mdqsymYki\n",
       "EESqKsraAAAACXBIWXMAAA7EAAAOxAGVKw4bAAABVElEQVQoz2NgQABGHwbu7RsYCAJGdwaGdIYn\n",
       "BNWxuQEJSwb+AwTUsTsCCZ6/DMwCuCxU/qwS6pzAaQjicP5lYE1AV3HbValmNtAkjwkMCkwMDCJ7\n",
       "IQqZC9Ctak7gXe/FwMC1gIE9YSNQ4MlesNX86FYvfw10P1AhxwGGK7wOIJEZa7B5hnOBL5DsYmDg\n",
       "ZWBYyTEBLHail6Gc4QXUQtfQ0FCQMMcFkCnXwHoaZkF1HwAG+FqIOdowg1l4FsAMZ7ngixEWV+EO\n",
       "OMEJjytptgIMhX1w1mw+eHiBAoeB0wUIfODSCnDWKT6YMewC+xgYLqB5tQHOZOGBWX2FB+itHlSF\n",
       "PEgKwb4GgU5gSPJ+QHNjAJzFBw5HPlCAvgIGVgCawmVIMQMK2UUgo3UZeBwd0BQyPUDEtdMaXlFg\n",
       "WD52MnGxN0FP17webxGpx/nrGtzJk28LNAphAAATNU+E1THpswAAAABJRU5ErkJggg==\n",
       "\" style=\"display:inline;vertical-align:middle;\" /></a><br>(see <a class=\"ProveItLink\" href=\"../../../__pv_it/theorems/ebef1b9719794703efcf201f8bbc8240e7e7e3220/dependencies.ipynb\">dependencies</a>)<br>"
      ],
      "text/plain": [
       "<IPython.core.display.HTML object>"
      ]
     },
     "metadata": {},
     "output_type": "display_data"
    },
    {
     "name": "stdout",
     "output_type": "stream",
     "text": [
      "int_nonpos_within_complex may now be readily provable (assuming required theorems are usable).  Simply execute \"%qed\".\n"
     ]
    }
   ],
   "source": [
    "%proving int_nonpos_within_complex"
   ]
  },
  {
   "cell_type": "code",
   "execution_count": null,
   "metadata": {},
   "outputs": [],
   "source": []
  }
 ],
 "metadata": {
  "kernelspec": {
   "display_name": "Python 3",
   "language": "python",
   "name": "python3"
  }
 },
 "nbformat": 4,
 "nbformat_minor": 0
}