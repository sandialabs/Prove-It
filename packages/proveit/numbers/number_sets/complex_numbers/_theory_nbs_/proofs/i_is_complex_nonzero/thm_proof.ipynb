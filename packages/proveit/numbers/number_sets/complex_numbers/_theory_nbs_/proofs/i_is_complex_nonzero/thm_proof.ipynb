{
 "cells": [
  {
   "cell_type": "markdown",
   "metadata": {},
   "source": [
    "Proof of <a class=\"ProveItLink\" href=\"../../../../../../_theory_nbs_/theory.ipynb\">proveit</a>.<a class=\"ProveItLink\" href=\"../../../../../_theory_nbs_/theory.ipynb\">numbers</a>.<a class=\"ProveItLink\" href=\"../../../../_theory_nbs_/theory.ipynb\">number_sets</a>.<a class=\"ProveItLink\" href=\"../../theory.ipynb\">complex_numbers</a>.<a class=\"ProveItLink\" href=\"../../theorems.ipynb#i_is_complex_nonzero\">i_is_complex_nonzero</a> theorem\n",
    "========"
   ]
  },
  {
   "cell_type": "code",
   "execution_count": 1,
   "metadata": {},
   "outputs": [],
   "source": [
    "import proveit\n",
    "theory = proveit.Theory() # the theorem's theory"
   ]
  },
  {
   "cell_type": "code",
   "execution_count": 2,
   "metadata": {},
   "outputs": [
    {
     "data": {
      "text/html": [
       "With these <a href=\"allowed_presumptions.txt\">allowed</a>/<a href=\"disallowed_presumptions.txt\">disallowed</a> theorem/theory presumptions (e.g., to avoid circular dependencies), we begin our proof of<br><strong id=\"i_is_complex_nonzero\">i_is_complex_nonzero:</strong> <a class=\"ProveItLink\" href=\"../../../__pv_it/theorems/8c65dc1b2d168e19b38ba261f74f4e5b15b7be390/expr.ipynb\"><img src=\"data:image/png;base64,iVBORw0KGgoAAAANSUhEUgAAAEEAAAAVCAMAAAAuNnOWAAAAOVBMVEX///8AAAAAAAAAAAAAAAAA\n",
       "AAAAAAAAAAAAAAAAAAAAAAAAAAAAAAAAAAAAAAAAAAAAAAAAAAAAAAACXHtMAAAAEnRSTlMAZt1U\n",
       "djK7zUQQIu+riZnt5cnYpPJ7AAAACXBIWXMAAA7EAAAOxAGVKw4bAAABC0lEQVQ4y6WTi3KEIAxF\n",
       "A4TwNO3y/x9bQFyhtMq4mTGOjJy8bgAemYMPbbPVb7g9BPhYvEAAS88I0RcfdHbJPwHYmrtPpRlB\n",
       "gZDqpmkbSWPQ63yPqdhXfgToSpACMF0TMAaRMZyIjxNRXzsh4F3GjHvOIA6Ca83bq7iJnwMxUJt9\n",
       "5L2K7xfVKv7rJJLMZt5dd3DMy7Xk4/vXMs38pZLuumxwVBuB5zEEnT9kRbEbCd64STp6lJ2aO9cT\n",
       "zO+i8nUrhhMD14RJvgx2CKrsJUEH2Yy6PtwuT0dw85rQOYsVAsh5BU49gF0gIP6lySYANgsEMLNG\n",
       "kQx7cEryShXgIlk372ZIkv367lOv6gX7AWNUCBunzLOQAAAAAElFTkSuQmCC\n",
       "\" style=\"display:inline;vertical-align:middle;\" /></a><br>(see <a class=\"ProveItLink\" href=\"../../../__pv_it/theorems/90d4532a5fe39395e21d6aa00434f190edd384a80/dependencies.ipynb\">dependencies</a>)<br>"
      ],
      "text/plain": [
       "<IPython.core.display.HTML object>"
      ]
     },
     "metadata": {},
     "output_type": "display_data"
    }
   ],
   "source": [
    "%proving i_is_complex_nonzero"
   ]
  },
  {
   "cell_type": "code",
   "execution_count": null,
   "metadata": {},
   "outputs": [],
   "source": []
  }
 ],
 "metadata": {
  "kernelspec": {
   "display_name": "Python 3",
   "language": "python",
   "name": "python3"
  }
 },
 "nbformat": 4,
 "nbformat_minor": 0
}