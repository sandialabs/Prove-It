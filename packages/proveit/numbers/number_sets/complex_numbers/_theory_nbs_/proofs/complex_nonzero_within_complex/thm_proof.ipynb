{
 "cells": [
  {
   "cell_type": "markdown",
   "metadata": {},
   "source": [
    "Proof of <a class=\"ProveItLink\" href=\"../../../../../../_theory_nbs_/theory.ipynb\">proveit</a>.<a class=\"ProveItLink\" href=\"../../../../../_theory_nbs_/theory.ipynb\">numbers</a>.<a class=\"ProveItLink\" href=\"../../../../_theory_nbs_/theory.ipynb\">number_sets</a>.<a class=\"ProveItLink\" href=\"../../theory.ipynb\">complex_numbers</a>.<a class=\"ProveItLink\" href=\"../../theorems.ipynb#complex_nonzero_within_complex\">complex_nonzero_within_complex</a> theorem\n",
    "========"
   ]
  },
  {
   "cell_type": "code",
   "execution_count": 1,
   "metadata": {},
   "outputs": [],
   "source": [
    "import proveit\n",
    "theory = proveit.Theory() # the theorem's theory"
   ]
  },
  {
   "cell_type": "code",
   "execution_count": 2,
   "metadata": {},
   "outputs": [
    {
     "data": {
      "text/html": [
       "With these <a href=\"allowed_presumptions.txt\">allowed</a>/<a href=\"disallowed_presumptions.txt\">disallowed</a> theorem/theory presumptions (e.g., to avoid circular dependencies), we begin our proof of<br><strong id=\"complex_nonzero_within_complex\">complex_nonzero_within_complex:</strong> <a class=\"ProveItLink\" href=\"../../../__pv_it/theorems/814ea118f276a7b4feb77155b3eeb9c57cbf71b20/expr.ipynb\"><img src=\"data:image/png;base64,iVBORw0KGgoAAAANSUhEUgAAAFAAAAAVCAMAAADmWplAAAAAOVBMVEX///8AAAAAAAAAAAAAAAAA\n",
       "AAAAAAAAAAAAAAAAAAAAAAAAAAAAAAAAAAAAAAAAAAAAAAAAAAAAAAACXHtMAAAAEnRSTlMAEIm7\n",
       "3c12IjKr72aZRFTt5ckIIT2HAAAACXBIWXMAAA7EAAAOxAGVKw4bAAABJElEQVQ4y62UjW6EIBCE\n",
       "F5d/Ftvy/g/bRbizIBYucRNJNPLBwMwC3JWAZ2uLx7jp7RmecXkMGiDiI0Bn8ugtD8k8wIuHUJPy\n",
       "Qfr94+liQ6mUNpYxhLm++AlgD6AMHwG4tPM8R1BCqj/owihAr2e8DkC6CITwAop6D0VymknuAJYA\n",
       "q+ccFcnfP3hIXruUDgBOwMsYoip1by3ZNq6Vh7KUfRuiAyAYapfEMyRsbPobGau2y347ADvYtmHY\n",
       "7y9BSDOKQAPgl9j6Qv1j9zg4wg7A243NlvZ4DxytdQHwEazm37rR1x6A5yWtdYwLsAPE00YQJ0Q5\n",
       "zH0PYKPXlUnNMhFuktICNCoyIHZJU9FqqOEC4Gbhk6SFvifQRTHsNouAUafELnpt/QIQoQh1FK/e\n",
       "BAAAAABJRU5ErkJggg==\n",
       "\" style=\"display:inline;vertical-align:middle;\" /></a><br>(see <a class=\"ProveItLink\" href=\"../../../__pv_it/theorems/a9dbb2ba0335a1e16f856d41e5573e401cef04e70/dependencies.ipynb\">dependencies</a>)<br>"
      ],
      "text/plain": [
       "<IPython.core.display.HTML object>"
      ]
     },
     "metadata": {},
     "output_type": "display_data"
    }
   ],
   "source": [
    "%proving complex_nonzero_within_complex"
   ]
  },
  {
   "cell_type": "code",
   "execution_count": null,
   "metadata": {},
   "outputs": [],
   "source": []
  }
 ],
 "metadata": {
  "kernelspec": {
   "display_name": "Python 3",
   "language": "python",
   "name": "python3"
  }
 },
 "nbformat": 4,
 "nbformat_minor": 0
}