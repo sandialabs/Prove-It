{
 "cells": [
  {
   "cell_type": "markdown",
   "metadata": {},
   "source": [
    "Proof of <a class=\"ProveItLink\" href=\"../../../../../../_theory_nbs_/theory.ipynb\">proveit</a>.<a class=\"ProveItLink\" href=\"../../../../../_theory_nbs_/theory.ipynb\">numbers</a>.<a class=\"ProveItLink\" href=\"../../../../_theory_nbs_/theory.ipynb\">number_sets</a>.<a class=\"ProveItLink\" href=\"../../theory.ipynb\">complex_numbers</a>.<a class=\"ProveItLink\" href=\"../../theorems.ipynb#nonzero_complex_is_complex_nonzero\">nonzero_complex_is_complex_nonzero</a> theorem\n",
    "========"
   ]
  },
  {
   "cell_type": "code",
   "execution_count": 1,
   "metadata": {},
   "outputs": [],
   "source": [
    "import proveit\n",
    "theory = proveit.Theory() # the theorem's theory"
   ]
  },
  {
   "cell_type": "code",
   "execution_count": 2,
   "metadata": {},
   "outputs": [
    {
     "data": {
      "text/html": [
       "With these <a href=\"allowed_presumptions.txt\">allowed</a>/<a href=\"disallowed_presumptions.txt\">disallowed</a> theorem/theory presumptions (e.g., to avoid circular dependencies), we begin our proof of<br><strong id=\"nonzero_complex_is_complex_nonzero\">nonzero_complex_is_complex_nonzero:</strong> <a class=\"ProveItLink\" href=\"../../../__pv_it/theorems/5efbd795750b399e2e69db952ed29be820a8ea3b0/expr.ipynb\"><img src=\"data:image/png;base64,iVBORw0KGgoAAAANSUhEUgAAAMIAAAAbCAMAAAAZDqDkAAAAOVBMVEX///8AAAAAAAAAAAAAAAAA\n",
       "AAAAAAAAAAAAAAAAAAAAAAAAAAAAAAAAAAAAAAAAAAAAAAAAAAAAAAACXHtMAAAAEnRSTlMAq1Rm\n",
       "mUTNIjK7EInv3Xbt5cmRiLwgAAAACXBIWXMAAA7EAAAOxAGVKw4bAAAC2UlEQVRYw9VYi3arIBDk\n",
       "DQu499b//9jyUlDQmpg0p5zWYxpQZnd2dighf2tY8teHk+nq0H1uD1zeWa1pegYSIiHciE8gYPfe\n",
       "SnW8ehMuc7jV8AEmq1vLZaKPnmNBeFby8csD+CN4HUxKoTZh4wLi+Bd+OTEJwpQeNcVbWpPM341A\n",
       "+wcmI/VhQ1bMsJAP8wYzBI95UiyJtb6UfjcE8YCOCMy0IXyBYAvzM5Fmlv4W782Shl+ojfm6HBlB\n",
       "oPQAKjKR/n9BIlIt5xj3mBlVZjr2bgSZAUe8gSmMtdypJUtIbeHPSnmMolo+iTiLlxJQb08CTsda\n",
       "o3ALD4je6S/UCaG1ifIJU3n5CH/y7+93tETJIlJrXJN2rWzXw8x2Q2ysnzJlVpgdyJ9L7TkXA7Au\n",
       "R4pE1KR0ShL2L7cCqY7IaZaurekZTQVFjW2Wn3IxKr+Dh/3yEDzKj/cXWCQ3YWcHSqCzRMQEuG6K\n",
       "QQogo5bFts7AXYKwczGbMeXsxbCJzaZN5nIY0NTCJWbbDCHSrIuDyPwK4GwKB78GYediRlkga2Na\n",
       "99E/ECy5JPJ6NiWPi9lAFDr8rJ0wSprJCdJjCOuKsYsZQ5ARnq1V00uVrH2ByFOh1qUlFEVATSgQ\n",
       "xZq4MM26rt1AWFccuZg2Q5BDLgmNUujaOIy68yL9Z3IvS6/RvswOLwWMZK1ywC23JxDWFUcupk1Y\n",
       "0nA2GyvCnWyTpNhARFRIrmXTqf7xxXZRU01AijlXKajAiDHSnEDYcH7kYrqIWRFizgTffGspSNs7\n",
       "VT9P4ty5iV5JjU+sb/pKKedW72Gw4tDFNMPLs7MAtAbj6lC8M8NO5c5VO512KRBu2BeaFUcu5kmn\n",
       "evFM0dmu6HAxuRUNpiY0sEqYMZHqiiMXs0vYi4/i9PzMBKm1jZzC+Fz88ymQvtoNT8+eccYQLvDY\n",
       "vtgOP392HkJgV84z7KXVcOOUduOEeu//SPvSTeX2DdG/FzZsxc/HAAAAAElFTkSuQmCC\n",
       "\" style=\"display:inline;vertical-align:middle;\" /></a><br>(see <a class=\"ProveItLink\" href=\"../../../__pv_it/theorems/dfca5bb12a876b6a340077d93a2a425b39c4c6770/dependencies.ipynb\">dependencies</a>)<br>"
      ],
      "text/plain": [
       "<IPython.core.display.HTML object>"
      ]
     },
     "metadata": {},
     "output_type": "display_data"
    },
    {
     "name": "stdout",
     "output_type": "stream",
     "text": [
      "nonzero_complex_is_complex_nonzero may now be readily provable (assuming required theorems are usable).  Simply execute \"%qed\".\n"
     ]
    }
   ],
   "source": [
    "%proving nonzero_complex_is_complex_nonzero"
   ]
  },
  {
   "cell_type": "code",
   "execution_count": null,
   "metadata": {},
   "outputs": [],
   "source": []
  }
 ],
 "metadata": {
  "kernelspec": {
   "display_name": "Python 3",
   "language": "python",
   "name": "python3"
  }
 },
 "nbformat": 4,
 "nbformat_minor": 0
}