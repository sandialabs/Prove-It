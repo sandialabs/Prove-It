{
 "cells": [
  {
   "cell_type": "markdown",
   "metadata": {},
   "source": [
    "Proof of <a class=\"ProveItLink\" href=\"../../../../../../_theory_nbs_/theory.ipynb\">proveit</a>.<a class=\"ProveItLink\" href=\"../../../../../_theory_nbs_/theory.ipynb\">numbers</a>.<a class=\"ProveItLink\" href=\"../../../../_theory_nbs_/theory.ipynb\">number_sets</a>.<a class=\"ProveItLink\" href=\"../../theory.ipynb\">complex_numbers</a>.<a class=\"ProveItLink\" href=\"../../theorems.ipynb#rational_nonzero_within_complex_nonzero\">rational_nonzero_within_complex_nonzero</a> theorem\n",
    "========"
   ]
  },
  {
   "cell_type": "code",
   "execution_count": 1,
   "metadata": {},
   "outputs": [],
   "source": [
    "import proveit\n",
    "theory = proveit.Theory() # the theorem's theory"
   ]
  },
  {
   "cell_type": "code",
   "execution_count": 2,
   "metadata": {},
   "outputs": [
    {
     "data": {
      "text/html": [
       "With these <a href=\"allowed_presumptions.txt\">allowed</a>/<a href=\"disallowed_presumptions.txt\">disallowed</a> theorem/theory presumptions (e.g., to avoid circular dependencies), we begin our proof of<br><strong id=\"rational_nonzero_within_complex_nonzero\">rational_nonzero_within_complex_nonzero:</strong> <a class=\"ProveItLink\" href=\"../../../__pv_it/theorems/5351ffddd6d208c08dcf376385048292ad0ece370/expr.ipynb\"><img src=\"data:image/png;base64,iVBORw0KGgoAAAANSUhEUgAAAGYAAAAXCAMAAADOf8o0AAAAOVBMVEX///8AAAAAAAAAAAAAAAAA\n",
       "AAAAAAAAAAAAAAAAAAAAAAAAAAAAAAAAAAAAAAAAAAAAAAAAAAAAAAACXHtMAAAAEnRSTlMAEIm7\n",
       "mSJ2q+8y3WZEzVTt5cnMFh2FAAAACXBIWXMAAA7EAAAOxAGVKw4bAAABjklEQVRIx7WViXKEIAyG\n",
       "AwkgZ1ve/2HLtVpXEGqnmVnWYfQLuX4Ahsbgj7YE4K6sXPKHXpYAQuXVSgCHj7ysAZTI66bTEsUT\n",
       "N0sAVyIVMed3Cw+8dACMYzKqPik/40f6WdDlLWPn1eZovJdC8zFAqhyaMOqolazk+tYmZ14SIX3A\n",
       "KCINAdzysudorxVrDzXmOEsayZoisC83V0CK09c9LH2RY/78whLzWgtoAmwzomgEQMZUa3TdHGq1\n",
       "ZyP3ozonCE01vfcUgz0NdgBI4emW+xCAyrd4zG+aLvo5zdrzS2wIgt52LoCUM9c6Kf3bXIYwLjkz\n",
       "ojeH+jzoHYCTlZ1PKiFkj/5m5lynNMdBm3UAgld2jUYmTHBjN70TpIy50/G7gHNt7lVVK+gSxFxe\n",
       "kYn3TpvI4ZUAuCI+x9zMBtF0CcfcwDjh9FIBNZd8sgMVaGHSTTr4S9NoLry+e1yJPgkvC+aWICh6\n",
       "H0mvXLyoHOsq9BYNzS4mpYuerV0k+CY2v7nrZFLzoB38swWFfkP7T/Rv71YMW7aS3foAAAAASUVO\n",
       "RK5CYII=\n",
       "\" style=\"display:inline;vertical-align:middle;\" /></a><br>(see <a class=\"ProveItLink\" href=\"../../../__pv_it/theorems/830c998737fad46304e386f7bc78edf8c9c647950/dependencies.ipynb\">dependencies</a>)<br>"
      ],
      "text/plain": [
       "<IPython.core.display.HTML object>"
      ]
     },
     "metadata": {},
     "output_type": "display_data"
    },
    {
     "name": "stdout",
     "output_type": "stream",
     "text": [
      "rational_nonzero_within_complex_nonzero may now be readily provable (assuming required theorems are usable).  Simply execute \"%qed\".\n"
     ]
    }
   ],
   "source": [
    "%proving rational_nonzero_within_complex_nonzero"
   ]
  },
  {
   "cell_type": "code",
   "execution_count": null,
   "metadata": {},
   "outputs": [],
   "source": []
  }
 ],
 "metadata": {
  "kernelspec": {
   "display_name": "Python 3",
   "language": "python",
   "name": "python3"
  }
 },
 "nbformat": 4,
 "nbformat_minor": 0
}