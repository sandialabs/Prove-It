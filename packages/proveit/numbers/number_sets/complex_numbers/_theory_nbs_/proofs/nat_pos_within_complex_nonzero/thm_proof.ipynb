{
 "cells": [
  {
   "cell_type": "markdown",
   "metadata": {},
   "source": [
    "Proof of <a class=\"ProveItLink\" href=\"../../../../../../_theory_nbs_/theory.ipynb\">proveit</a>.<a class=\"ProveItLink\" href=\"../../../../../_theory_nbs_/theory.ipynb\">numbers</a>.<a class=\"ProveItLink\" href=\"../../../../_theory_nbs_/theory.ipynb\">number_sets</a>.<a class=\"ProveItLink\" href=\"../../theory.ipynb\">complex_numbers</a>.<a class=\"ProveItLink\" href=\"../../theorems.ipynb#nat_pos_within_complex_nonzero\">nat_pos_within_complex_nonzero</a> theorem\n",
    "========"
   ]
  },
  {
   "cell_type": "code",
   "execution_count": 1,
   "metadata": {},
   "outputs": [],
   "source": [
    "import proveit\n",
    "theory = proveit.Theory() # the theorem's theory"
   ]
  },
  {
   "cell_type": "code",
   "execution_count": 2,
   "metadata": {},
   "outputs": [
    {
     "data": {
      "text/html": [
       "With these <a href=\"allowed_presumptions.txt\">allowed</a>/<a href=\"disallowed_presumptions.txt\">disallowed</a> theorem/theory presumptions (e.g., to avoid circular dependencies), we begin our proof of<br><strong id=\"nat_pos_within_complex_nonzero\">nat_pos_within_complex_nonzero:</strong> <a class=\"ProveItLink\" href=\"../../../__pv_it/theorems/9d70aaaeba9d93a61d15fa21e438cc1f60c1834d0/expr.ipynb\"><img src=\"data:image/png;base64,iVBORw0KGgoAAAANSUhEUgAAAFwAAAAVCAMAAAD8ZnnOAAAAOVBMVEX///8AAAAAAAAAAAAAAAAA\n",
       "AAAAAAAAAAAAAAAAAAAAAAAAAAAAAAAAAAAAAAAAAAAAAAAAAAAAAAACXHtMAAAAEnRSTlMAEN27\n",
       "zYnvRFSrImZ2Mpnt5cluJTbxAAAACXBIWXMAAA7EAAAOxAGVKw4bAAABZ0lEQVQ4y7WVi5KDIAxF\n",
       "EwKEd3f5/49dQNRpS7ptt5sZcXTiMd7cIMCnA+H/wvBYTTJSRnmbHXxfYwJgElLobbgPfbW5LTV8\n",
       "GM5DjFC78NYBqkqk+4Wx1fJLcDSktE4hN2ShHpd2RMgDrmInOeChFNbXKk/etuexVNp7lOI4bXCb\n",
       "ukwqgBl3LcwKLI0KHkdJmwgQdzjOojZZqutw1+7prr56pfJcgKanfdmK+vqeRZ0N9aE5J+jH8ERq\n",
       "i3z4Ao80nGr4I7tb0U/3+Azd9CI8axPuHRVuxoHO4WxDVHC3ZqMRi3BUYTUt+XoIXRJ83wREhUqY\n",
       "UM8LyQ3wdcu1OFTRgSMr9G71WNOEr0p1LE9s648X4GejbjQ3z24H6OGUZbUZ3cHxGcducMhJTF6+\n",
       "lE+fA4twmtZNWYKXKEzo/KSiRbh28FuOXpaWSJcA6JS4/Wdd7awYRTiSZ1zuiraqEv7692JDN+P/\n",
       "RPwAezEJnMEl9hAAAAAASUVORK5CYII=\n",
       "\" style=\"display:inline;vertical-align:middle;\" /></a><br>(see <a class=\"ProveItLink\" href=\"../../../__pv_it/theorems/9f851fe6001e476a47901b782d05eb2a242049fa0/dependencies.ipynb\">dependencies</a>)<br>"
      ],
      "text/plain": [
       "<IPython.core.display.HTML object>"
      ]
     },
     "metadata": {},
     "output_type": "display_data"
    },
    {
     "name": "stdout",
     "output_type": "stream",
     "text": [
      "nat_pos_within_complex_nonzero may now be readily provable (assuming required theorems are usable).  Simply execute \"%qed\".\n"
     ]
    }
   ],
   "source": [
    "%proving nat_pos_within_complex_nonzero"
   ]
  },
  {
   "cell_type": "code",
   "execution_count": null,
   "metadata": {},
   "outputs": [],
   "source": []
  }
 ],
 "metadata": {
  "kernelspec": {
   "display_name": "Python 3",
   "language": "python",
   "name": "python3"
  }
 },
 "nbformat": 4,
 "nbformat_minor": 0
}