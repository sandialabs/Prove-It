{
 "cells": [
  {
   "cell_type": "markdown",
   "metadata": {},
   "source": [
    "Proof of <a class=\"ProveItLink\" href=\"../../../../../../_theory_nbs_/theory.ipynb\">proveit</a>.<a class=\"ProveItLink\" href=\"../../../../../_theory_nbs_/theory.ipynb\">numbers</a>.<a class=\"ProveItLink\" href=\"../../../../_theory_nbs_/theory.ipynb\">number_sets</a>.<a class=\"ProveItLink\" href=\"../../theory.ipynb\">complex_numbers</a>.<a class=\"ProveItLink\" href=\"../../theorems.ipynb#real_pos_within_complex_nonzero\">real_pos_within_complex_nonzero</a> theorem\n",
    "========"
   ]
  },
  {
   "cell_type": "code",
   "execution_count": 1,
   "metadata": {},
   "outputs": [],
   "source": [
    "import proveit\n",
    "theory = proveit.Theory() # the theorem's theory"
   ]
  },
  {
   "cell_type": "code",
   "execution_count": 2,
   "metadata": {},
   "outputs": [
    {
     "data": {
      "text/html": [
       "With these <a href=\"allowed_presumptions.txt\">allowed</a>/<a href=\"disallowed_presumptions.txt\">disallowed</a> theorem/theory presumptions (e.g., to avoid circular dependencies), we begin our proof of<br><strong id=\"real_pos_within_complex_nonzero\">real_pos_within_complex_nonzero:</strong> <a class=\"ProveItLink\" href=\"../../../__pv_it/theorems/b348c948283dfb887c7d4ca258a7c2db99ff53130/expr.ipynb\"><img src=\"data:image/png;base64,iVBORw0KGgoAAAANSUhEUgAAAGUAAAAVCAMAAABogNA8AAAAOVBMVEX///8AAAAAAAAAAAAAAAAA\n",
       "AAAAAAAAAAAAAAAAAAAAAAAAAAAAAAAAAAAAAAAAAAAAAAAAAAAAAAACXHtMAAAAEnRSTlMAZs3v\n",
       "u90iq0QQiTKZVHbt5clcYUjMAAAACXBIWXMAAA7EAAAOxAGVKw4bAAABgklEQVRIx7VViY6EIAzl\n",
       "KEehMLv+/8duFXTUwakx2SaiUfoefT1U6t8Mb+wp4HlNqaaHJCkqCaBAnW+a1wiPSHyQADTo9mAz\n",
       "L5N/whL8d4AKZT3PNGtrywOSmA4A2liAyTjbz593oHnZ5LSc6ATOmOozYxPM9uJL7wFg0TAGDdhS\n",
       "kvDAYqtEUoNlIKQJaH2jzwDMkpZbDj3alacFPEmKUW36cD47C4I6A3QW8spsUgXyt7OfSUGPPlBT\n",
       "7OcXFsV2AG8W2BdiYM86F2I41YZrlrdqws0Ru1CbyxugswTEA57vTUX7Hs4mfUTG/nR683bZABpL\n",
       "hmLExkDnR+2Xj+1dRuXCLNa4yVV58IQ4SEtS8VjrRo1ZktbYv2VYbRDZyJ/liofDl3jFwlJqufly\n",
       "uPQXbdm1K0dpAn74o4KbLIqyl/e64cjaHTAKLNyuVdSM9EXv9yDJfGOZ653zAlGiMcMdFQz3NBZH\n",
       "V35tJs8FBWDEkYUQIg5nsp0cPfoRXfw44DRhbtgf7nMMwJ4ADwkAAAAASUVORK5CYII=\n",
       "\" style=\"display:inline;vertical-align:middle;\" /></a><br>(see <a class=\"ProveItLink\" href=\"../../../__pv_it/theorems/e7f4bdc721717306fa3bcffbd04ff1fbfb86b1b20/dependencies.ipynb\">dependencies</a>)<br>"
      ],
      "text/plain": [
       "<IPython.core.display.HTML object>"
      ]
     },
     "metadata": {},
     "output_type": "display_data"
    }
   ],
   "source": [
    "%proving real_pos_within_complex_nonzero"
   ]
  },
  {
   "cell_type": "code",
   "execution_count": null,
   "metadata": {},
   "outputs": [],
   "source": []
  }
 ],
 "metadata": {
  "kernelspec": {
   "display_name": "Python 3",
   "language": "python",
   "name": "python3"
  }
 },
 "nbformat": 4,
 "nbformat_minor": 0
}