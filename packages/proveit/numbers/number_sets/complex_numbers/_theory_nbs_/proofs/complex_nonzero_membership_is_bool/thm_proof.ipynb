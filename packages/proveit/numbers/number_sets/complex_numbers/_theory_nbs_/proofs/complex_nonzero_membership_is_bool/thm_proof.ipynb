{
 "cells": [
  {
   "cell_type": "markdown",
   "metadata": {},
   "source": [
    "Proof of <a class=\"ProveItLink\" href=\"../../../../../../_theory_nbs_/theory.ipynb\">proveit</a>.<a class=\"ProveItLink\" href=\"../../../../../_theory_nbs_/theory.ipynb\">numbers</a>.<a class=\"ProveItLink\" href=\"../../../../_theory_nbs_/theory.ipynb\">number_sets</a>.<a class=\"ProveItLink\" href=\"../../theory.ipynb\">complex_numbers</a>.<a class=\"ProveItLink\" href=\"../../theorems.ipynb#complex_nonzero_membership_is_bool\">complex_nonzero_membership_is_bool</a> theorem\n",
    "========"
   ]
  },
  {
   "cell_type": "code",
   "execution_count": 1,
   "metadata": {},
   "outputs": [],
   "source": [
    "import proveit\n",
    "theory = proveit.Theory() # the theorem's theory"
   ]
  },
  {
   "cell_type": "code",
   "execution_count": 2,
   "metadata": {},
   "outputs": [
    {
     "data": {
      "text/html": [
       "With these <a href=\"allowed_presumptions.txt\">allowed</a>/<a href=\"disallowed_presumptions.txt\">disallowed</a> theorem/theory presumptions (e.g., to avoid circular dependencies), we begin our proof of<br><strong id=\"complex_nonzero_membership_is_bool\">complex_nonzero_membership_is_bool:</strong> <a class=\"ProveItLink\" href=\"../../../__pv_it/theorems/79640943c4fdde9442544d05539125ecb980c31a0/expr.ipynb\"><img src=\"data:image/png;base64,iVBORw0KGgoAAAANSUhEUgAAALUAAAAbCAMAAAANmz4FAAAAOVBMVEX///8AAAAAAAAAAAAAAAAA\n",
       "AAAAAAAAAAAAAAAAAAAAAAAAAAAAAAAAAAAAAAAAAAAAAAAAAAAAAAACXHtMAAAAEnRSTlMAq1Rm\n",
       "mUTNIjK7EInv3Xbt5cmRiLwgAAAACXBIWXMAAA7EAAAOxAGVKw4bAAAC0klEQVRYw9VYiXbjIAzk\n",
       "vlF3+f+PXS7bHDZ20rTvrV7qTBKPLMRIQBH6bTPoPzTL89WC/YWHUT6jd0zi7AMQ4joC9ir/JQJh\n",
       "M3rLsExXp+IlRCj1q6N+gWDEjN4ynnUhQxK3IzXrr036c4KmM3oyWKu9ECBVjJXpZF/xjyKVo/bZ\n",
       "lb+pTvBOiyCcx1WZmYAPFVwGJN2MHhhgF10aFvSmKiiPKFE7KDfdpgxxQFKYGnYmsL24hLwsATuj\n",
       "B4UDRQ+IblGbKsqikEDyd8HcRx0HayUq7ExQ+F7ngc/o1hRDugaEWVHIn786K+SoxpQs+ihqSjZZ\n",
       "ZIKori25fP6eDrVKDGgfba9WbNCWB1OFsYsBUuern5he+zmiFg2B1rGKRUHMaO4OAsyQIjk0SX3c\n",
       "EFcZVj+BW/upUWNJbUtwaWjeXSsWixEZAGyUbaZHCjMtJ6p3Sc57Fu/mb/JTqtGAx7YjMDUkYqLp\n",
       "EbFUyoDYkfqplGPIvFesuNKfam+SZ7r2wgW/TU4h5EVWLhqQwAOi0TWNI8b0OqQoD94ll1wUsuwq\n",
       "XFxVI1Bep6ESUprtojl4NqA0Vtb5V0Vm0XSj60dt0rRRn/ipUac32xKS4FYL9ZRrtK8R+6PntqmP\n",
       "HrLeWbQKOfFzRF39bQSxr+4ATMbXfdQ8dVtz1MLcXPjRr9Gqy6vQPs6vohYdwZIqGZAIaySGzo11\n",
       "j4zmCKf20ygA4Gxt3Fryaib7HnLiZ4+6NqGNIF11H3/VgNTYr12PSFCGRcTb0QlysuyIOG2G+OXm\n",
       "lvb9evZTBB2PEWwg4CPQIBfZKMiwmBHCaOffYM3NvOdLHUuutyt99xr9gHBat3u+kVCKOKZ+/NLx\n",
       "GZ3tnXW3Ej+0aR9y52ckxH2oFSennPf2fA/34MF8l5A2lwDmbAJG9LEDKf4xAiYz+pB5+WOEj50b\n",
       "v3MMfJ1A7Iw+YT96Rv/c/0PGQjJvEf4B7nIYNie1rl0AAAAASUVORK5CYII=\n",
       "\" style=\"display:inline;vertical-align:middle;\" /></a><br>(see <a class=\"ProveItLink\" href=\"../../../__pv_it/theorems/e88240294d86fa505a98baba2dc02134f71f27c20/dependencies.ipynb\">dependencies</a>)<br>"
      ],
      "text/plain": [
       "<IPython.core.display.HTML object>"
      ]
     },
     "metadata": {},
     "output_type": "display_data"
    },
    {
     "name": "stdout",
     "output_type": "stream",
     "text": [
      "complex_nonzero_membership_is_bool may now be readily provable (assuming required theorems are usable).  Simply execute \"%qed\".\n"
     ]
    }
   ],
   "source": [
    "%proving complex_nonzero_membership_is_bool"
   ]
  },
  {
   "cell_type": "code",
   "execution_count": null,
   "metadata": {},
   "outputs": [],
   "source": []
  }
 ],
 "metadata": {
  "kernelspec": {
   "display_name": "Python 3",
   "language": "python",
   "name": "python3"
  }
 },
 "nbformat": 4,
 "nbformat_minor": 0
}