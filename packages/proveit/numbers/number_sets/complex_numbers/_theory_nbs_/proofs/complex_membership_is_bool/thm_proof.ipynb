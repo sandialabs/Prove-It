{
 "cells": [
  {
   "cell_type": "markdown",
   "metadata": {},
   "source": [
    "Proof of <a class=\"ProveItLink\" href=\"../../../../../../_theory_nbs_/theory.ipynb\">proveit</a>.<a class=\"ProveItLink\" href=\"../../../../../_theory_nbs_/theory.ipynb\">numbers</a>.<a class=\"ProveItLink\" href=\"../../../../_theory_nbs_/theory.ipynb\">number_sets</a>.<a class=\"ProveItLink\" href=\"../../theory.ipynb\">complex_numbers</a>.<a class=\"ProveItLink\" href=\"../../theorems.ipynb#complex_membership_is_bool\">complex_membership_is_bool</a> theorem\n",
    "========"
   ]
  },
  {
   "cell_type": "code",
   "execution_count": 1,
   "metadata": {},
   "outputs": [],
   "source": [
    "import proveit\n",
    "theory = proveit.Theory() # the theorem's theory"
   ]
  },
  {
   "cell_type": "code",
   "execution_count": 2,
   "metadata": {},
   "outputs": [
    {
     "data": {
      "text/html": [
       "With these <a href=\"allowed_presumptions.txt\">allowed</a>/<a href=\"disallowed_presumptions.txt\">disallowed</a> theorem/theory presumptions (e.g., to avoid circular dependencies), we begin our proof of<br><strong id=\"complex_membership_is_bool\">complex_membership_is_bool:</strong> <a class=\"ProveItLink\" href=\"../../../__pv_it/theorems/ca606b16118603c6955e646c32c23a04e95d0ac30/expr.ipynb\"><img src=\"data:image/png;base64,iVBORw0KGgoAAAANSUhEUgAAAJoAAAAVBAMAAABMN+opAAAAMFBMVEX///8AAAAAAAAAAAAAAAAA\n",
       "AAAAAAAAAAAAAAAAAAAAAAAAAAAAAAAAAAAAAAAAAAAv3aB7AAAAD3RSTlMAq1RmmUTNIjK7EInv\n",
       "3XZ/CtNrAAAACXBIWXMAAA7EAAAOxAGVKw4bAAACPElEQVQ4y2NgwAQFUIwDsJMkzqcAwZiAa+e1\n",
       "vIoNrA/QhN+ezM+5GMAAEhcA8ZWRJbWhGBM8PMyw5KcDw2N08Qlx7FmiDCBxVxA3HdkBCRCMCVie\n",
       "bmBgsHRgYFuAbloww3ZOBpB4I8jHE5D1GEAwJmjhBBrD6MDA7IBpmhEjA0gcZBE3cijxQDFSQM69\n",
       "ew1ES3GCnA606BSqONg0NgaQODNQlg1ZrxoUwwFrHtRnE0qgIsmo4iDTxK0h4mfv3j2NrNkbitc9\n",
       "XLEb7OYyqCZ2gW6oko0MyOKgWFh3cQNE3IOBYRayaclQ7MAnx3IBOYo4NgRDWWYMqFE3ITbnrxdE\n",
       "vBBoKbJplyCYuYD5FyM4MmDxy+4QB2XpMCCLg336OGwBWJxzAXcAsmlHIZiDgQWinAMYFHdvgjVV\n",
       "Q5X0o4qDTONk3QAWZ3qAEgkw04ARC0nzXPDkM4sTyohBFQebxjABIp5gByTeuT8pQPEpA0N8ARc4\n",
       "nC/ANIWA0hsD0CO6DCjiENMSIOKbsoBJp0CSDZro5kHwygAZBm6wwDtEXgAGMMj/lqjiYNOYHkDE\n",
       "a4BqmBnmcSBFPxDrd/kwBIEF2OBp+2VKwaIr0ASELD4hmmHfFqg4YwNI5DtMqheCl7xjcoYo55KM\n",
       "gpch56+AwuMqqvizk/NBZQhMHBRDB2DFE28DBCNlhp3QHARLKhfwizPUcCewQJmgPI2Rr1HLEgMC\n",
       "4ixP972CCU6HYpygkhTxlVCME0wnRZz9AQTjAnwFOMUB0kugwcDJExMAAAAASUVORK5CYII=\n",
       "\" style=\"display:inline;vertical-align:middle;\" /></a><br>(see <a class=\"ProveItLink\" href=\"../../../__pv_it/theorems/2e45c6a66de2122cf1da6bf758485c49d69dc68a0/dependencies.ipynb\">dependencies</a>)<br>"
      ],
      "text/plain": [
       "<IPython.core.display.HTML object>"
      ]
     },
     "metadata": {},
     "output_type": "display_data"
    },
    {
     "name": "stdout",
     "output_type": "stream",
     "text": [
      "complex_membership_is_bool may now be readily provable (assuming required theorems are usable).  Simply execute \"%qed\".\n"
     ]
    }
   ],
   "source": [
    "%proving complex_membership_is_bool"
   ]
  },
  {
   "cell_type": "code",
   "execution_count": null,
   "metadata": {},
   "outputs": [],
   "source": []
  }
 ],
 "metadata": {
  "kernelspec": {
   "display_name": "Python 3",
   "language": "python",
   "name": "python3"
  }
 },
 "nbformat": 4,
 "nbformat_minor": 0
}