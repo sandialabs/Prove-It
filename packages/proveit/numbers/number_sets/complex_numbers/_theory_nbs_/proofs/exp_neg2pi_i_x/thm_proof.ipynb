{
 "cells": [
  {
   "cell_type": "markdown",
   "metadata": {},
   "source": [
    "Proof of <a class=\"ProveItLink\" href=\"../../../../../../_theory_nbs_/theory.ipynb\">proveit</a>.<a class=\"ProveItLink\" href=\"../../../../../_theory_nbs_/theory.ipynb\">numbers</a>.<a class=\"ProveItLink\" href=\"../../../../_theory_nbs_/theory.ipynb\">number_sets</a>.<a class=\"ProveItLink\" href=\"../../theory.ipynb\">complex_numbers</a>.<a class=\"ProveItLink\" href=\"../../theorems.ipynb#exp_neg2pi_i_x\">exp_neg2pi_i_x</a> theorem\n",
    "========"
   ]
  },
  {
   "cell_type": "code",
   "execution_count": 1,
   "metadata": {},
   "outputs": [],
   "source": [
    "import proveit\n",
    "theory = proveit.Theory() # the theorem's theory"
   ]
  },
  {
   "cell_type": "code",
   "execution_count": 2,
   "metadata": {},
   "outputs": [
    {
     "data": {
      "text/html": [
       "With these <a href=\"allowed_presumptions.txt\">allowed</a>/<a href=\"disallowed_presumptions.txt\">disallowed</a> theorem/theory presumptions (e.g., to avoid circular dependencies), we begin our proof of<br><strong id=\"exp_neg2pi_i_x\">exp_neg2pi_i_x:</strong> <a class=\"ProveItLink\" href=\"../../../__pv_it/theorems/32c089106da811a8da7d9143cdea53407bf97a620/expr.ipynb\"><img src=\"data:image/png;base64,iVBORw0KGgoAAAANSUhEUgAAAU0AAAAmBAMAAACymtTaAAAAMFBMVEX///8AAAAAAAAAAAAAAAAA\n",
       "AAAAAAAAAAAAAAAAAAAAAAAAAAAAAAAAAAAAAAAAAAAv3aB7AAAAD3RSTlMAq1RmmUTNIjK7EInv\n",
       "3XZ/CtNrAAAACXBIWXMAAA7EAAAOxAGVKw4bAAAEOElEQVRYw8VYf4gMURz/3s7uzuzM3t6VqCu0\n",
       "5R8hlkPKuQ7nV1HrZ5TYpMSJIxF3srqQXHfrx9WdP7QK//hxE/mDoo1IpI6uFJ0mdyKETlEnzvf7\n",
       "Zmfc7M3Mvs1qvr2d3pv33ud93vfXe7MAXOKPDm0FksNHrLWZNSmdrUTSVNxkrf3rD/i7lAZumWtp\n",
       "NUFg8gKzJSXoEbOZFTRXqGHFWXD6ir64FZLphxovuWkKCUszBWHotI4IgSvPlaw4C07PyF+Hvw/Q\n",
       "9qdy82y2qF5UQYRmQtm+fTM2U1htAGl2L6lMPlM5cmJMevMepOtVbNr0ymooASrO0gBQL2Wwsubh\n",
       "w5osZNPd6QDltIkoL886S8tHm2xDrgFFQXwErYdxIEgplXrXwCkxcQl1WQqljOdkdTfpK+S2wDii\n",
       "E0ecuKoakLHjCpkOt/6Yk6ZvwKjtqa2tjQu4P38SDgJcDoHYJabELpiGwaKxIcuhXU6sw1WPZu0e\n",
       "wqgLsmInIiIuoOmwGLFAVlMGJHzGl4nh0eEsparV6ZHQ7QjVbpLGmJFaIBJKslhaRTyvoi4NfYZ1\n",
       "/3PVZwuAkqZ9KnGKGgaptQu6PuFQPR/P1pzMUA7BwV9UifoMniVQUn2D0pU85ki3ci/Q+xb9cw6L\n",
       "8fP4O8GKs6Dz7hzsItPBBIPniI+zQGIaCql8PCty2jNsMkLcFSFfXnKa7td7M3w8v+W0IzZ2eOfq\n",
       "4EkqbuIwfbzuw/164LNwc0nCP3Lf2JwQshuCnKffsTu7UDcAO1e2uGd5MwGXDf6L2IJzTVoIcNhw\n",
       "WxcnT4DH8kU/2xT3hB8u95rnlCQIMccUbFqb0oI8urvYq/NDtqIin/b0PMnDk/L3ledVedQqzK/U\n",
       "CuJpA+mA0Rmj4wrOuuMdIrcYA+JAntP1o8hxYVjWQ/IM7CEdMMqQ/C4QhyvK92rzKG2o1imHns5D\n",
       "ob1Au9tBtjt6Xiit5BwGLRVtoKlKg9HeiP0SpoifedbNFEbTFtIeowwPM5+WE0b+xXQJ0IRrQ/Up\n",
       "9e/bdyBPWBSYFuwgHTCIJySq8fF5UR8ehr551YugFxjPyAWL3X8XKciH+Cc/JPknXN9GJ3ZFENkI\n",
       "62ObZJb0NXV/rxlHFO9L03gxLq7wQ7KM04i6FuCchNVjMyHJPklAW3Lrb1ag3Vy9v+F1kXnyQ7KM\n",
       "U8JuMvpdYyxS3trRcQrtftNMEGF2JVv2XSsyT37IVjPSpQwzwQPIXk01bfVt87Mx5fm5aVzQGpWE\n",
       "Hy6DSDejs7p/KmYc+TNe87xjUnl79wM0RyVKC/vRDwI76uRa45okDHjN86S1qXukfKujzZrU+r3m\n",
       "af2gCDj9kXPGY5oB6weF4DSuymOeCudFvTPuLc9wtLj7+V/yiXfgI2953uMdONNTmhFucwZjXvJs\n",
       "rOcdKb/wkKb8nH/s3rR3PEMFGFNMesfzIj3+AC6uZ8403fBDAAAAAElFTkSuQmCC\n",
       "\" style=\"display:inline;vertical-align:middle;\" /></a><br>(see <a class=\"ProveItLink\" href=\"../../../__pv_it/theorems/1a15d977e3305b98039a6b36a3e2a26745948c760/dependencies.ipynb\">dependencies</a>)<br>"
      ],
      "text/plain": [
       "<IPython.core.display.HTML object>"
      ]
     },
     "metadata": {},
     "output_type": "display_data"
    }
   ],
   "source": [
    "%proving exp_neg2pi_i_x"
   ]
  },
  {
   "cell_type": "code",
   "execution_count": null,
   "metadata": {},
   "outputs": [],
   "source": []
  }
 ],
 "metadata": {
  "kernelspec": {
   "display_name": "Python 3",
   "language": "python",
   "name": "python3"
  }
 },
 "nbformat": 4,
 "nbformat_minor": 0
}