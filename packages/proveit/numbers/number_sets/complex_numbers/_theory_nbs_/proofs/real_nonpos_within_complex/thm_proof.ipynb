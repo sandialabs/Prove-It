{
 "cells": [
  {
   "cell_type": "markdown",
   "metadata": {},
   "source": [
    "Proof of <a class=\"ProveItLink\" href=\"../../../../../../_theory_nbs_/theory.ipynb\">proveit</a>.<a class=\"ProveItLink\" href=\"../../../../../_theory_nbs_/theory.ipynb\">numbers</a>.<a class=\"ProveItLink\" href=\"../../../../_theory_nbs_/theory.ipynb\">number_sets</a>.<a class=\"ProveItLink\" href=\"../../theory.ipynb\">complex_numbers</a>.<a class=\"ProveItLink\" href=\"../../theorems.ipynb#real_nonpos_within_complex\">real_nonpos_within_complex</a> theorem\n",
    "========"
   ]
  },
  {
   "cell_type": "code",
   "execution_count": 1,
   "metadata": {},
   "outputs": [],
   "source": [
    "import proveit\n",
    "theory = proveit.Theory() # the theorem's theory"
   ]
  },
  {
   "cell_type": "code",
   "execution_count": 2,
   "metadata": {},
   "outputs": [
    {
     "data": {
      "text/html": [
       "With these <a href=\"allowed_presumptions.txt\">allowed</a>/<a href=\"disallowed_presumptions.txt\">disallowed</a> theorem/theory presumptions (e.g., to avoid circular dependencies), we begin our proof of<br><strong id=\"real_nonpos_within_complex\">real_nonpos_within_complex:</strong> <a class=\"ProveItLink\" href=\"../../../__pv_it/theorems/3781f386308ec3e2caf9bd8a86e599bd8b4fc7c10/expr.ipynb\"><img src=\"data:image/png;base64,iVBORw0KGgoAAAANSUhEUgAAAFAAAAAUBAMAAADo9qfkAAAAMFBMVEX///8AAAAAAAAAAAAAAAAA\n",
       "AAAAAAAAAAAAAAAAAAAAAAAAAAAAAAAAAAAAAAAAAAAv3aB7AAAAD3RSTlMAZs3vu90iq0QQiTKZ\n",
       "VHZ+Ip2vAAAACXBIWXMAAA7EAAAOxAGVKw4bAAABSElEQVQoz2NgQAJXEhhWvWIgDK48YGB8wOFA\n",
       "UJ2IAAMD8waGb4TUPbkAJPInMNjikBcy8Vc1AZq1GaSOYf8EhkB0FZxLgvSyFzAwOKQztItMYOD1\n",
       "mgBRaIeu8Lkhw5wvB4AKsxhYuAsYGDhAKoFW/0VTx/MCaJoIRCFPggJQhLsmAZtn9rAADWCHKQSH\n",
       "CVv5BL4HHAVQv4WGhkaDGJUsIHcKgBWyz4TIsjEwrHozAczctAxmokMOjJHFsOVSArpPw2AstoJd\n",
       "MIXJql9fovuUvQHG4l7QCDdRcBKQ2uICBHCDmeBa2A70wRWyTBRAN3E7ggl0GozBfcATXWE6gunJ\n",
       "gtBxOgVdISuC2QMKR4YGsMIpfOh28wggxQww7HgUwOHEKOCBbqQGUrLSSZgbA049bgwu+hfQFE6p\n",
       "mIBIPfYxCbiTZ5crNAqhAADqdlTwl8AuPwAAAABJRU5ErkJggg==\n",
       "\" style=\"display:inline;vertical-align:middle;\" /></a><br>(see <a class=\"ProveItLink\" href=\"../../../__pv_it/theorems/f05a3bac5b557781c514f2c1b378767efb64a9630/dependencies.ipynb\">dependencies</a>)<br>"
      ],
      "text/plain": [
       "<IPython.core.display.HTML object>"
      ]
     },
     "metadata": {},
     "output_type": "display_data"
    },
    {
     "name": "stdout",
     "output_type": "stream",
     "text": [
      "real_nonpos_within_complex may now be readily provable (assuming required theorems are usable).  Simply execute \"%qed\".\n"
     ]
    }
   ],
   "source": [
    "%proving real_nonpos_within_complex"
   ]
  },
  {
   "cell_type": "code",
   "execution_count": null,
   "metadata": {},
   "outputs": [],
   "source": []
  }
 ],
 "metadata": {
  "kernelspec": {
   "display_name": "Python 3",
   "language": "python",
   "name": "python3"
  }
 },
 "nbformat": 4,
 "nbformat_minor": 0
}