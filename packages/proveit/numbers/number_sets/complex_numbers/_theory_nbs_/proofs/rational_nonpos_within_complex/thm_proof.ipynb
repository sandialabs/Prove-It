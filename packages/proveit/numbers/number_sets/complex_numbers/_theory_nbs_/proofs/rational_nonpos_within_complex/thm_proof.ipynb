{
 "cells": [
  {
   "cell_type": "markdown",
   "metadata": {},
   "source": [
    "Proof of <a class=\"ProveItLink\" href=\"../../../../../../_theory_nbs_/theory.ipynb\">proveit</a>.<a class=\"ProveItLink\" href=\"../../../../../_theory_nbs_/theory.ipynb\">numbers</a>.<a class=\"ProveItLink\" href=\"../../../../_theory_nbs_/theory.ipynb\">number_sets</a>.<a class=\"ProveItLink\" href=\"../../theory.ipynb\">complex_numbers</a>.<a class=\"ProveItLink\" href=\"../../theorems.ipynb#rational_nonpos_within_complex\">rational_nonpos_within_complex</a> theorem\n",
    "========"
   ]
  },
  {
   "cell_type": "code",
   "execution_count": 1,
   "metadata": {},
   "outputs": [],
   "source": [
    "import proveit\n",
    "theory = proveit.Theory() # the theorem's theory"
   ]
  },
  {
   "cell_type": "code",
   "execution_count": 2,
   "metadata": {},
   "outputs": [
    {
     "data": {
      "text/html": [
       "With these <a href=\"allowed_presumptions.txt\">allowed</a>/<a href=\"disallowed_presumptions.txt\">disallowed</a> theorem/theory presumptions (e.g., to avoid circular dependencies), we begin our proof of<br><strong id=\"rational_nonpos_within_complex\">rational_nonpos_within_complex:</strong> <a class=\"ProveItLink\" href=\"../../../__pv_it/theorems/65a2da2ea1b357dbf2499f4359264b2978bc0e3b0/expr.ipynb\"><img src=\"data:image/png;base64,iVBORw0KGgoAAAANSUhEUgAAAFEAAAAWBAMAAABK/G3RAAAAMFBMVEX///8AAAAAAAAAAAAAAAAA\n",
       "AAAAAAAAAAAAAAAAAAAAAAAAAAAAAAAAAAAAAAAAAAAv3aB7AAAAD3RSTlMAEIm7mSJ2q+8y3WZE\n",
       "zVRISQrpAAAACXBIWXMAAA7EAAAOxAGVKw4bAAABbElEQVQoz2NgQAJ8pgxMagoMhAGfGQPDNobD\n",
       "hBVyWwOJTgb+AEIK2eyABOtHBo4HOJUIGRu7MjBw9oHYnB8ZuDZgKLC6mzoJZFbFBNblQG88VoSo\n",
       "5EhAt6xiA6O/CZChrc3AcATkjcOKYNv50W13OwT0A1Alp8IFBgZmbpBB012x+YjTwRBIlgAVCRYw\n",
       "MDBNuAASDC9kSGM4DrXTatWqVROADHYBAyApzcAgzAk0ju+BJ1g6ABjyjhCTLsGMZmZ1gDAm8QD9\n",
       "yrNhH5rjpOBuCOeExtoxbqAPOBNeo6msgbPARoFAEB/YzBxOYyAwhctfgLNCeKDBxgxxpyOahwvg\n",
       "TGZWqO3Mogi/IwArkkqw34GABxKe6MG9AM7iAYcnDxB7A+PoOEZS80aKI1AI+wIxEyjeHdBV8h5A\n",
       "xLutK+MrsIKQv/c9MRIYo/lBRFqy+OUKYVVyJ2CmRR5laGwiA/aE9JcHGIgCz22bNxBUBADQTVBs\n",
       "NuwvEAAAAABJRU5ErkJggg==\n",
       "\" style=\"display:inline;vertical-align:middle;\" /></a><br>(see <a class=\"ProveItLink\" href=\"../../../__pv_it/theorems/6401c064c6995a2f028b965d374c5325b0c3b14a0/dependencies.ipynb\">dependencies</a>)<br>"
      ],
      "text/plain": [
       "<IPython.core.display.HTML object>"
      ]
     },
     "metadata": {},
     "output_type": "display_data"
    },
    {
     "name": "stdout",
     "output_type": "stream",
     "text": [
      "rational_nonpos_within_complex may now be readily provable (assuming required theorems are usable).  Simply execute \"%qed\".\n"
     ]
    }
   ],
   "source": [
    "%proving rational_nonpos_within_complex"
   ]
  },
  {
   "cell_type": "code",
   "execution_count": null,
   "metadata": {},
   "outputs": [],
   "source": []
  }
 ],
 "metadata": {
  "kernelspec": {
   "display_name": "Python 3",
   "language": "python",
   "name": "python3"
  }
 },
 "nbformat": 4,
 "nbformat_minor": 0
}