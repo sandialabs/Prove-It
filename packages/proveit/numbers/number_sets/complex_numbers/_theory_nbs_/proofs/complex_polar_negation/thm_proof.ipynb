{
 "cells": [
  {
   "cell_type": "markdown",
   "metadata": {},
   "source": [
    "Proof of <a class=\"ProveItLink\" href=\"../../../../../../_theory_nbs_/theory.ipynb\">proveit</a>.<a class=\"ProveItLink\" href=\"../../../../../_theory_nbs_/theory.ipynb\">numbers</a>.<a class=\"ProveItLink\" href=\"../../../../_theory_nbs_/theory.ipynb\">number_sets</a>.<a class=\"ProveItLink\" href=\"../../theory.ipynb\">complex_numbers</a>.<a class=\"ProveItLink\" href=\"../../theorems.ipynb#complex_polar_negation\">complex_polar_negation</a> theorem\n",
    "========"
   ]
  },
  {
   "cell_type": "code",
   "execution_count": 1,
   "metadata": {},
   "outputs": [],
   "source": [
    "import proveit\n",
    "theory = proveit.Theory() # the theorem's theory"
   ]
  },
  {
   "cell_type": "code",
   "execution_count": 2,
   "metadata": {},
   "outputs": [
    {
     "data": {
      "text/html": [
       "With these <a href=\"allowed_presumptions.txt\">allowed</a>/<a href=\"disallowed_presumptions.txt\">disallowed</a> theorem/theory presumptions (e.g., to avoid circular dependencies), we begin our proof of<br><strong id=\"complex_polar_negation\">complex_polar_negation:</strong> <a class=\"ProveItLink\" href=\"../../../__pv_it/theorems/caa9986e2d1c96e8e945325f95257f5b8d25cf460/expr.ipynb\"><img src=\"data:image/png;base64,iVBORw0KGgoAAAANSUhEUgAAAVAAAAAmBAMAAABgyt6CAAAAMFBMVEX///8AAAAAAAAAAAAAAAAA\n",
       "AAAAAAAAAAAAAAAAAAAAAAAAAAAAAAAAAAAAAAAAAAAv3aB7AAAAD3RSTlMAq1RmmUTNIjK7EInv\n",
       "3XZ/CtNrAAAACXBIWXMAAA7EAAAOxAGVKw4bAAAFL0lEQVRYw61YW2gcVRj+szu7MzubbIIPhYKX\n",
       "hQp98KHjQ4sPoaxSrSFW9sUXb12tIKa0rFgMqYFdnwStZu0F2ejDCDUitmaoKMQLxEiJWAKhFKzW\n",
       "2IGCT62GVBtJoeu5zJzLntndM2H+h4+cyZl/v/Of/zoAOmIUOerKjAsJiT2mvfVhAXXF+i0povCu\n",
       "7pnTFY768mBiRNNDmhuPuRz1JVdMjOlxzX0HBZTlIYLb2x8XiGv9vDnz1dVnZ/RslNrg2CYXiOoy\n",
       "wJG/pOel+D4dSr+HUdZn6N39gMcxSj5G1pvOokMb7NEzGGrVKIOVpeXODoGO9BFtVKW5rkV0yuUY\n",
       "JY8if3SwR+bYI0wbclFHu1++rFIH/0b6zAam2CDrD7WIbhWwTQ5gWEbGg2xA1Lzaaq1DHgdSej7C\n",
       "VHLqmFF3ZB0I9O3GSwIwrEX0poARRE302yMwWKdET3/qeIGlzLUoU0nLEx2IEn0D+FoIQK0IxE23\n",
       "dc3c6xxVop9DBt3Or9/eB5SoWziKiGbIjV1SX5iUVuZ8FFHbo/oKmBsBGChhBwN4uWu+WOWoEj1W\n",
       "TSFV67AHRpofNZsO5CxkTYsQfUx9YVQuzV4UUWuR6AMb5xkCYFTgTe6xHaSvwjHq6jGpVVgMLAoT\n",
       "maEwSP5WX/hXWg2WO1w91XeAhUFhlcRnvmsN6R/i2CmYxkjDQog+mUH3WfDxnzuU3G1tROSTCKJU\n",
       "3wiEkPoP0uh5tmssDXocpfS5VKJEP0B58xyERMcAdSM5kkKnFAMUlqXljfaccPclSpTqu87AQnG5\n",
       "tLJyoTtRh+E7jSNfMqVL234QsjsjSuQzgrNOtBsx2YIozJmjbNuZi8Pixe13Q7BRznkcYLor0VqR\n",
       "oXfS+4795jLU6M0ZYQXilWkvPSJxAGOFCGGQk6OhidwuN5pnsX8PmKJvTNVDgDsAr4LJThFW2NSV\n",
       "l7b4bHsxRNM5xMMWmThMit90qJOqu2RlT38B4LXsMo/9m3JmrZVDgNvokG6+LFRYgPe2ngLfy7/B\n",
       "LqAcouXSrG/fwsxbrVbwC7ZSf4KzKAUS5UOYIQa+HCTat6lnwSxyCgupvC3sni2HAP8g6/lZscKC\n",
       "gXwBfD/9hWpRyAQXgzP51Pbx8R7dl0pUtSj1QXoEa218/Kho0XoImChUUDlNPbJ7b1BhrwEhWjgd\n",
       "QdQQgnbQ71l7VR+NILpPWN9p64aqIZD/nEOzU/pZ50VaYW3i7r43cY2dy2EotnoG6ouroJEvpKhv\n",
       "KO3OFWH9hAtmZNSTTmMSnfKtXVCnFTtDlPsjc9xTfIY1oZLYv++80cOoNTWPysUd5UhTrFVnf3z+\n",
       "D2E5zID0N33YCe7FS1xh0680m8fR1X/FfqS/xPA5qVBfPdyrkVUqZEauTMhaGakE7Lvltw+/BCx2\n",
       "nPMQVFjLoz76FMs52QbHeLJDDbbzcnUud32f13o2B5mrgJorUmGnqY/mWTAZ8xzjyfeb6Z4E5+Ld\n",
       "Uz60uzUE1gKtsBPIEzKHD9p7wmqX3uAYT96PmLzlHmW+5zhPZ/qcmC1SwTnmmqfkg61xjCcRQ0Gf\n",
       "HF93dR0qqyHI+ePpTi+cFDCOZNY3MzNxEWam/WIidDq9MBxjvhIlH9VrPyBPoV2cVJxCv9b6QVpt\n",
       "Z8uxPyUUNz3Xk0hzQwBYiGGZfCUu0euJfXsqaKacnwSMIQuJEe3X/N62S8AYZqgkRvRPzX1kjAlQ\n",
       "XyarSfE0FzU32r9w1Bb7YmIGPav9pfV1l6P2d1wnMaIn9G1f56grnyTG08YZ7X/8d2RDdUVtWgAA\n",
       "AABJRU5ErkJggg==\n",
       "\" style=\"display:inline;vertical-align:middle;\" /></a><br>(see <a class=\"ProveItLink\" href=\"../../../__pv_it/theorems/32b815548fedc7d393a27e81e4c32f8a8d8ebc990/dependencies.ipynb\">dependencies</a>)<br>"
      ],
      "text/plain": [
       "<IPython.core.display.HTML object>"
      ]
     },
     "metadata": {},
     "output_type": "display_data"
    }
   ],
   "source": [
    "%proving complex_polar_negation"
   ]
  },
  {
   "cell_type": "code",
   "execution_count": null,
   "metadata": {},
   "outputs": [],
   "source": []
  }
 ],
 "metadata": {
  "kernelspec": {
   "display_name": "Python 3",
   "language": "python",
   "name": "python3"
  }
 },
 "nbformat": 4,
 "nbformat_minor": 0
}