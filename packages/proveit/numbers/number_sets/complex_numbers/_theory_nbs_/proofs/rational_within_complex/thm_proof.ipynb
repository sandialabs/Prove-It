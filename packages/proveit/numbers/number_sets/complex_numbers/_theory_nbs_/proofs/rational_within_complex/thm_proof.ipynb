{
 "cells": [
  {
   "cell_type": "markdown",
   "metadata": {},
   "source": [
    "Proof of <a class=\"ProveItLink\" href=\"../../../../../../_theory_nbs_/theory.ipynb\">proveit</a>.<a class=\"ProveItLink\" href=\"../../../../../_theory_nbs_/theory.ipynb\">numbers</a>.<a class=\"ProveItLink\" href=\"../../../../_theory_nbs_/theory.ipynb\">number_sets</a>.<a class=\"ProveItLink\" href=\"../../theory.ipynb\">complex_numbers</a>.<a class=\"ProveItLink\" href=\"../../theorems.ipynb#rational_within_complex\">rational_within_complex</a> theorem\n",
    "========"
   ]
  },
  {
   "cell_type": "code",
   "execution_count": 1,
   "metadata": {},
   "outputs": [],
   "source": [
    "import proveit\n",
    "theory = proveit.Theory() # the theorem's theory"
   ]
  },
  {
   "cell_type": "code",
   "execution_count": 2,
   "metadata": {},
   "outputs": [
    {
     "data": {
      "text/html": [
       "With these <a href=\"allowed_presumptions.txt\">allowed</a>/<a href=\"disallowed_presumptions.txt\">disallowed</a> theorem/theory presumptions (e.g., to avoid circular dependencies), we begin our proof of<br><strong id=\"rational_within_complex\">rational_within_complex:</strong> <a class=\"ProveItLink\" href=\"../../../__pv_it/theorems/7609e8c9a8414f1f8166f9b48ddc9d65ac805a990/expr.ipynb\"><img src=\"data:image/png;base64,iVBORw0KGgoAAAANSUhEUgAAADsAAAASBAMAAAAXqLt+AAAAMFBMVEX///8AAAAAAAAAAAAAAAAA\n",
       "AAAAAAAAAAAAAAAAAAAAAAAAAAAAAAAAAAAAAAAAAAAv3aB7AAAAD3RSTlMAEIm7mSJ2q+8y3WZE\n",
       "zVRISQrpAAAACXBIWXMAAA7EAAAOxAGVKw4bAAABEklEQVQoz2NgYBAyNnZlwABCVndTJwFptooJ\n",
       "rMsV0GXZKjYw+psAGdraDAxHDqNLux1iYOAGSnMqXGBgYOZOQJXldDAEkiVAGcECBgamCRcgRlqt\n",
       "WrVqApDBLmAAJKUZGIQ5gRr5HniC9VwKgOpmZnWAMCbxbGBg4NmwD8SWgskyhHNCHXuM+wFQW8Jr\n",
       "ELsGbjdYEwgE8YF154DYF+DSITxQtzJD7HYEWV0Al2ZmhRrOLAp3OSuSNNjlQMAD8fcDEHsBXJoH\n",
       "7G8eIPYGhtpxSKh5I4XacSDhC8RMoDCH+JL3ACLMbV0ZX4FFQ/7e94SIMZofRMSYxS9oPFbCQ5xH\n",
       "GRqoyIA9If3lAQbc4Llt8wbsMgBpJT3eppSuugAAAABJRU5ErkJggg==\n",
       "\" style=\"display:inline;vertical-align:middle;\" /></a><br>(see <a class=\"ProveItLink\" href=\"../../../__pv_it/theorems/846ae46d99a6be575fb38ecc981406f904ac31980/dependencies.ipynb\">dependencies</a>)<br>"
      ],
      "text/plain": [
       "<IPython.core.display.HTML object>"
      ]
     },
     "metadata": {},
     "output_type": "display_data"
    },
    {
     "name": "stdout",
     "output_type": "stream",
     "text": [
      "rational_within_complex may now be readily provable (assuming required theorems are usable).  Simply execute \"%qed\".\n"
     ]
    }
   ],
   "source": [
    "%proving rational_within_complex"
   ]
  },
  {
   "cell_type": "code",
   "execution_count": null,
   "metadata": {},
   "outputs": [],
   "source": []
  }
 ],
 "metadata": {
  "kernelspec": {
   "display_name": "Python 3",
   "language": "python",
   "name": "python3"
  }
 },
 "nbformat": 4,
 "nbformat_minor": 0
}