{
 "cells": [
  {
   "cell_type": "markdown",
   "metadata": {},
   "source": [
    "Proof of <a class=\"ProveItLink\" href=\"../../../../../../_theory_nbs_/theory.ipynb\">proveit</a>.<a class=\"ProveItLink\" href=\"../../../../../_theory_nbs_/theory.ipynb\">numbers</a>.<a class=\"ProveItLink\" href=\"../../../../_theory_nbs_/theory.ipynb\">number_sets</a>.<a class=\"ProveItLink\" href=\"../../theory.ipynb\">complex_numbers</a>.<a class=\"ProveItLink\" href=\"../../theorems.ipynb#real_nonzero_within_complex_nonzero\">real_nonzero_within_complex_nonzero</a> theorem\n",
    "========"
   ]
  },
  {
   "cell_type": "code",
   "execution_count": 1,
   "metadata": {},
   "outputs": [],
   "source": [
    "import proveit\n",
    "theory = proveit.Theory() # the theorem's theory"
   ]
  },
  {
   "cell_type": "code",
   "execution_count": 2,
   "metadata": {},
   "outputs": [
    {
     "data": {
      "text/html": [
       "With these <a href=\"allowed_presumptions.txt\">allowed</a>/<a href=\"disallowed_presumptions.txt\">disallowed</a> theorem/theory presumptions (e.g., to avoid circular dependencies), we begin our proof of<br><strong id=\"real_nonzero_within_complex_nonzero\">real_nonzero_within_complex_nonzero:</strong> <a class=\"ProveItLink\" href=\"../../../__pv_it/theorems/545af16c626c3ce29b719aef905f3fc56d16ff4d0/expr.ipynb\"><img src=\"data:image/png;base64,iVBORw0KGgoAAAANSUhEUgAAAGUAAAAVCAMAAABogNA8AAAAOVBMVEX///8AAAAAAAAAAAAAAAAA\n",
       "AAAAAAAAAAAAAAAAAAAAAAAAAAAAAAAAAAAAAAAAAAAAAAAAAAAAAAACXHtMAAAAEnRSTlMAZs3v\n",
       "u90iq0QQiTKZVHbt5clcYUjMAAAACXBIWXMAAA7EAAAOxAGVKw4bAAABcElEQVRIx6VViZKDIAwN\n",
       "IdyR7vL/H7tc2tpCcdzMiDOSvJdbgJk4+KdcAfC2nj76myRXALQpp4gAlm6RXAIwupwy5CPpOyxX\n",
       "AGwNU6eSW7ndIHkDECiJEipJol4zFXnkR0CoSkqsC+1JIUYd/BSAag6tEXR0RWzATUnGFUk0Mhs4\n",
       "TsRTgMzi6yuY3bVerxZwWmWMY8sPiJ1lANBZWAP2jP38Ug34WvUDw54Fw1OAJ0v34IgJYmlEc84O\n",
       "qSbh6Ca3G4ITU4DOYpzrl8/6lKHi1xkO6D8iy/b89mUA0FgCbdgAtnm1ndKj8Qvn8R4CZBaJKqnY\n",
       "PcAvo2YHZfFgz70+BCixCOH2u83OWUb2OV325PwYoGaMnFgPXzBT+6VUrZd2XG3AD/tnj61YgINe\n",
       "66rhynpx0C5Y8rjGZc5YTGa/B8n4jaX0e64L2RUNDjUiYZ5ptyme2bWdTHkOiHC5shwZ64Y7WSbF\n",
       "t35Ekx8HvW2YC/IHECQMxVEMXuwAAAAASUVORK5CYII=\n",
       "\" style=\"display:inline;vertical-align:middle;\" /></a><br>(see <a class=\"ProveItLink\" href=\"../../../__pv_it/theorems/6272589faf8ef973a606946661bdf1f0839837b90/dependencies.ipynb\">dependencies</a>)<br>"
      ],
      "text/plain": [
       "<IPython.core.display.HTML object>"
      ]
     },
     "metadata": {},
     "output_type": "display_data"
    }
   ],
   "source": [
    "%proving real_nonzero_within_complex_nonzero"
   ]
  },
  {
   "cell_type": "code",
   "execution_count": null,
   "metadata": {},
   "outputs": [],
   "source": []
  }
 ],
 "metadata": {
  "kernelspec": {
   "display_name": "Python 3",
   "language": "python",
   "name": "python3"
  }
 },
 "nbformat": 4,
 "nbformat_minor": 0
}