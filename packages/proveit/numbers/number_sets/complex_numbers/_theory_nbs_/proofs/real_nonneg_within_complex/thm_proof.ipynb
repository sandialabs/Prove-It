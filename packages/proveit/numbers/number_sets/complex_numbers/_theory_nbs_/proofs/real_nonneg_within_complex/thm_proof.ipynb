{
 "cells": [
  {
   "cell_type": "markdown",
   "metadata": {},
   "source": [
    "Proof of <a class=\"ProveItLink\" href=\"../../../../../../_theory_nbs_/theory.ipynb\">proveit</a>.<a class=\"ProveItLink\" href=\"../../../../../_theory_nbs_/theory.ipynb\">numbers</a>.<a class=\"ProveItLink\" href=\"../../../../_theory_nbs_/theory.ipynb\">number_sets</a>.<a class=\"ProveItLink\" href=\"../../theory.ipynb\">complex_numbers</a>.<a class=\"ProveItLink\" href=\"../../theorems.ipynb#real_nonneg_within_complex\">real_nonneg_within_complex</a> theorem\n",
    "========"
   ]
  },
  {
   "cell_type": "code",
   "execution_count": 1,
   "metadata": {},
   "outputs": [],
   "source": [
    "import proveit\n",
    "theory = proveit.Theory() # the theorem's theory"
   ]
  },
  {
   "cell_type": "code",
   "execution_count": 2,
   "metadata": {},
   "outputs": [
    {
     "data": {
      "text/html": [
       "With these <a href=\"allowed_presumptions.txt\">allowed</a>/<a href=\"disallowed_presumptions.txt\">disallowed</a> theorem/theory presumptions (e.g., to avoid circular dependencies), we begin our proof of<br><strong id=\"real_nonneg_within_complex\">real_nonneg_within_complex:</strong> <a class=\"ProveItLink\" href=\"../../../__pv_it/theorems/0658dbb852a7ce1e447e4a3dac0c7edab4d047970/expr.ipynb\"><img src=\"data:image/png;base64,iVBORw0KGgoAAAANSUhEUgAAAFAAAAAUBAMAAADo9qfkAAAAMFBMVEX///8AAAAAAAAAAAAAAAAA\n",
       "AAAAAAAAAAAAAAAAAAAAAAAAAAAAAAAAAAAAAAAAAAAv3aB7AAAAD3RSTlMAZs3vu90iq0QQiTKZ\n",
       "VHZ+Ip2vAAAACXBIWXMAAA7EAAAOxAGVKw4bAAABSklEQVQoz2NggIItDWBq1SsGAoBzyQUgyfiA\n",
       "w4GQSoYnAgwMzBsYvhFUyCDygCF/AoMtDlkhE39VEwEIWzhh/wSGQExHBellL2BgcEhnaBeZABKZ\n",
       "5cEAVGiHrvC5IcOcLweACrMYWLgLgAI51Qwgq/+iqeN5ATRNBKKQJ0GBgSEdqA6bZ/awAK1jhyl0\n",
       "YJh+DCTK94CjABoGoaGh0SBGJQvInQJghewzCxhmQuRXvQE7l2HTMpiJDjkwRhbDlksJ6D4Ng7HY\n",
       "CnbBFCarfn2J7lP2BhiLe0Ej3ETBSaC4dgECuMFMcC1sB/rgClkmCqCbuB3BBDoNxuA+4ImuMB3B\n",
       "9GRB6Didgq6QFcHsAYUjQwNY4RQ+dLt5BJBiBhiyPArgcGIU8EA3UgMp+ekkzI0Bpx43Bhf9C2gK\n",
       "p1RMQKQe+5gE3ImzyxUahVAAAHP+VJdbsH29AAAAAElFTkSuQmCC\n",
       "\" style=\"display:inline;vertical-align:middle;\" /></a><br>(see <a class=\"ProveItLink\" href=\"../../../__pv_it/theorems/9ea0ecabb6823e2c4bdbba04932664926f323b770/dependencies.ipynb\">dependencies</a>)<br>"
      ],
      "text/plain": [
       "<IPython.core.display.HTML object>"
      ]
     },
     "metadata": {},
     "output_type": "display_data"
    },
    {
     "name": "stdout",
     "output_type": "stream",
     "text": [
      "real_nonneg_within_complex may now be readily provable (assuming required theorems are usable).  Simply execute \"%qed\".\n"
     ]
    }
   ],
   "source": [
    "%proving real_nonneg_within_complex"
   ]
  },
  {
   "cell_type": "code",
   "execution_count": null,
   "metadata": {},
   "outputs": [],
   "source": []
  }
 ],
 "metadata": {
  "kernelspec": {
   "display_name": "Python 3",
   "language": "python",
   "name": "python3"
  }
 },
 "nbformat": 4,
 "nbformat_minor": 0
}