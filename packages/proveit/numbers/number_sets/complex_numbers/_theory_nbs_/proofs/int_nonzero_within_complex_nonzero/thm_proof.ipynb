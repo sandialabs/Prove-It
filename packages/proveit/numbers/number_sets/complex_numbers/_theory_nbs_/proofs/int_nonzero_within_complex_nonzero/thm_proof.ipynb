{
 "cells": [
  {
   "cell_type": "markdown",
   "metadata": {},
   "source": [
    "Proof of <a class=\"ProveItLink\" href=\"../../../../../../_theory_nbs_/theory.ipynb\">proveit</a>.<a class=\"ProveItLink\" href=\"../../../../../_theory_nbs_/theory.ipynb\">numbers</a>.<a class=\"ProveItLink\" href=\"../../../../_theory_nbs_/theory.ipynb\">number_sets</a>.<a class=\"ProveItLink\" href=\"../../theory.ipynb\">complex_numbers</a>.<a class=\"ProveItLink\" href=\"../../theorems.ipynb#int_nonzero_within_complex_nonzero\">int_nonzero_within_complex_nonzero</a> theorem\n",
    "========"
   ]
  },
  {
   "cell_type": "code",
   "execution_count": 1,
   "metadata": {},
   "outputs": [],
   "source": [
    "import proveit\n",
    "theory = proveit.Theory() # the theorem's theory"
   ]
  },
  {
   "cell_type": "code",
   "execution_count": 2,
   "metadata": {},
   "outputs": [
    {
     "data": {
      "text/html": [
       "With these <a href=\"allowed_presumptions.txt\">allowed</a>/<a href=\"disallowed_presumptions.txt\">disallowed</a> theorem/theory presumptions (e.g., to avoid circular dependencies), we begin our proof of<br><strong id=\"int_nonzero_within_complex_nonzero\">int_nonzero_within_complex_nonzero:</strong> <a class=\"ProveItLink\" href=\"../../../__pv_it/theorems/6c430c6e1cb3cd35c72d21e8462bd3c74f25cdb60/expr.ipynb\"><img src=\"data:image/png;base64,iVBORw0KGgoAAAANSUhEUgAAAGQAAAAVCAMAAACHQrsCAAAAOVBMVEX///8AAAAAAAAAAAAAAAAA\n",
       "AAAAAAAAAAAAAAAAAAAAAAAAAAAAAAAAAAAAAAAAAAAAAAAAAAAAAAACXHtMAAAAEnRSTlMAVM3v\n",
       "u91mdqsymYkiEETt5cn1eqECAAAACXBIWXMAAA7EAAAOxAGVKw4bAAABdklEQVRIx6VV2ZaDIAwN\n",
       "ELawdIb//9hhUVsrCMfJaXmIeLPeK8DAAvzTFgBcrKfT7mGMBQBvyqk0QMRHMVYAjC+nsPlI/kmQ\n",
       "BYBYa/Sp9FWwBzG+ARgXSXCUEoUCICz2yn8Ftt6Raj5jh5Jz7a0bAWg0pShef810w213hJ7F0Kak\n",
       "FyghjQCINrfb+xK2UbVq06xdpFtzQO1BrgB1RNndnpRqf36xVrs2eEuAGycMjQDqBbJQm1bfMkcf\n",
       "ygaac2vy8KrZY48C7Esa1B1Adtu9n0dejUv0yVzL3aUuBE9fnj5Adh9P2HjQQfoe6+yZ1AMA5io3\n",
       "m/EbhsXOSBzE85IPAD7Xl8VxkN7ruVfxlPoAQLNNzibCaU3Pm2eyIKJ5dz1+CM5E9C5B3tt1p2V2\n",
       "Qw9pclN2ZerNE4g3ZIptB42ccVsNGL+VSMOlyWnwkolHNi2bd1PVyMlDYJKGoiyQiywCWYrRzcdn\n",
       "YuiqsEiSHn14+h8K/JKVBfsDNhANGrKf0H0AAAAASUVORK5CYII=\n",
       "\" style=\"display:inline;vertical-align:middle;\" /></a><br>(see <a class=\"ProveItLink\" href=\"../../../__pv_it/theorems/404f71024ee53b3d2b288c6638d88e7ca47a716e0/dependencies.ipynb\">dependencies</a>)<br>"
      ],
      "text/plain": [
       "<IPython.core.display.HTML object>"
      ]
     },
     "metadata": {},
     "output_type": "display_data"
    },
    {
     "name": "stdout",
     "output_type": "stream",
     "text": [
      "int_nonzero_within_complex_nonzero may now be readily provable (assuming required theorems are usable).  Simply execute \"%qed\".\n"
     ]
    }
   ],
   "source": [
    "%proving int_nonzero_within_complex_nonzero"
   ]
  },
  {
   "cell_type": "code",
   "execution_count": null,
   "metadata": {},
   "outputs": [],
   "source": []
  }
 ],
 "metadata": {
  "kernelspec": {
   "display_name": "Python 3",
   "language": "python",
   "name": "python3"
  }
 },
 "nbformat": 4,
 "nbformat_minor": 0
}