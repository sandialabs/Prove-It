{
 "cells": [
  {
   "cell_type": "markdown",
   "metadata": {},
   "source": [
    "Proof of <a class=\"ProveItLink\" href=\"../../../../../../_theory_nbs_/theory.ipynb\">proveit</a>.<a class=\"ProveItLink\" href=\"../../../../../_theory_nbs_/theory.ipynb\">numbers</a>.<a class=\"ProveItLink\" href=\"../../../../_theory_nbs_/theory.ipynb\">number_sets</a>.<a class=\"ProveItLink\" href=\"../../theory.ipynb\">complex_numbers</a>.<a class=\"ProveItLink\" href=\"../../theorems.ipynb#unit_length_complex_polar_negation\">unit_length_complex_polar_negation</a> theorem\n",
    "========"
   ]
  },
  {
   "cell_type": "code",
   "execution_count": 1,
   "metadata": {},
   "outputs": [],
   "source": [
    "import proveit\n",
    "theory = proveit.Theory() # the theorem's theory"
   ]
  },
  {
   "cell_type": "code",
   "execution_count": 2,
   "metadata": {},
   "outputs": [
    {
     "data": {
      "text/html": [
       "With these <a href=\"allowed_presumptions.txt\">allowed</a>/<a href=\"disallowed_presumptions.txt\">disallowed</a> theorem/theory presumptions (e.g., to avoid circular dependencies), we begin our proof of<br><strong id=\"unit_length_complex_polar_negation\">unit_length_complex_polar_negation:</strong> <a class=\"ProveItLink\" href=\"../../../__pv_it/theorems/5c238a9ad8de959ecfdb93c139e753896b8663240/expr.ipynb\"><img src=\"data:image/png;base64,iVBORw0KGgoAAAANSUhEUgAAAOQAAAAmBAMAAAAmWSoBAAAAMFBMVEX///8AAAAAAAAAAAAAAAAA\n",
       "AAAAAAAAAAAAAAAAAAAAAAAAAAAAAAAAAAAAAAAAAAAv3aB7AAAAD3RSTlMAq1RmmUTNIjK7EInv\n",
       "3XZ/CtNrAAAACXBIWXMAAA7EAAAOxAGVKw4bAAADqUlEQVRYw61YS2gTQRj+k93sxk2a5iT0FqjQ\n",
       "g5d6qPRQJIpCbVHiwYMoNKggtlgigiVYaQUvQjRLa5G0lxS8SNXGgkL1UgXxUQr1VFCLKwU9KaEq\n",
       "DRWs89rNPjubsnPYx+x8+Wb+xzf/BGD7JqYgwKb0+xh0EAJtt8vcIUI2WEohyR1SKAdLCWPcEQPs\n",
       "3kmubfbPGp+j0/r6kLeG8CZ7WCRWyYB83MIi8ikJsg4TeZZtqpjfpgEelHHMpfWeSMXFXRlnH4ZR\n",
       "kLzBoSxazHAEYJw4QzW6XIJ+j8vvYFiePk5xKFv0h3P4sgxyFc4yyutbW1s5mHOmni3GMZLABGrb\n",
       "Lg7lLwswC6IKNUqp9FyJuS5pV7uTksI+kveRFBB3trozRjfqwBmIqNA09aTKKOH7DHo65cAMg51y\n",
       "hsG+0vBIYwcBXPBI3GodWMiFk9CcE9NiqfSuNI54b6L+Ww5Mr4OykMMwgFkSGGIWbmCTqe6UoazZ\n",
       "PFEVmiGeY76U1ROuhv0DTsNSmERMnqiChLhjHtodT9rCRyofAkYpamfQ9afDF5sulBQmkoWFayAg\n",
       "bskjeppJ2k0vpSnlPYi8SOmUUrmpjLtsLbFsTmSGpLDEApnTOsDS6uqiFyU2hbLU+pK+ntb7DT8o\n",
       "qrcvzEiqG8QACsqCboBJD8oRPLnQMoxQRRBzrN9QH9ZzbBW3DyRHTJOoI6nNa+T2D+AyyMm6CoY/\n",
       "nd9tyGgxRZeq59pz+5w6HLOUkhYjmbNUppH1F82rHMsw8bzTMgFaJXZNH9SH5bKIZIZJqWIncG4L\n",
       "KO1AuURWPWpCEjSl/I3WpUlMBcVuvB9pwmPLKottQ0P+d03zKm1IuaZTQvYAU8E1sgVqiftWw/I3\n",
       "RZMvLYbV3LQM+RLm+qkK0vDTKvk1I3ywJ8T3ADnfqwyZwseGpBFLdHsYTQyrYIS4Wjs6bwyaxdNU\n",
       "Pnf80HxT0uRjzrMiBfJJXscTGwUinsLFUmkMGfapoUVxkg3il0H/tU3ErD5WJC0IoroiYhWMVqgv\n",
       "Txq5IKmN11OvvSOr3VLbEBWcpL6MGeEjLjRO2ev5he4kMV0RiQrmkYUjgwPKYV20hM3GKQueX/bR\n",
       "LdxSbynzpQlrUbHeOGXI80SxUtftbdrdHRw7vOp7Vvv0cRKuq3FK2OvRzyq8Zxz4bGYHxw4PTA+9\n",
       "veLAYwGfgqxS4d7eBk0Z555X9wdN+Y2/F7UHyyi/4Yf8SrCUj3z8D3A12DPtuB9LjAb69wROoP+j\n",
       "eQWGxds22AAAAABJRU5ErkJggg==\n",
       "\" style=\"display:inline;vertical-align:middle;\" /></a><br>(see <a class=\"ProveItLink\" href=\"../../../__pv_it/theorems/baa0efdb8be61d4dd403bc1d583d7407a0bbd25e0/dependencies.ipynb\">dependencies</a>)<br>"
      ],
      "text/plain": [
       "<IPython.core.display.HTML object>"
      ]
     },
     "metadata": {},
     "output_type": "display_data"
    }
   ],
   "source": [
    "%proving unit_length_complex_polar_negation"
   ]
  },
  {
   "cell_type": "code",
   "execution_count": null,
   "metadata": {},
   "outputs": [],
   "source": []
  }
 ],
 "metadata": {
  "kernelspec": {
   "display_name": "Python 3",
   "language": "python",
   "name": "python3"
  }
 },
 "nbformat": 4,
 "nbformat_minor": 0
}