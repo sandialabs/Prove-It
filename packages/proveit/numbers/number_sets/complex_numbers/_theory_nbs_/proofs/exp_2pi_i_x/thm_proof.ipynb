{
 "cells": [
  {
   "cell_type": "markdown",
   "metadata": {},
   "source": [
    "Proof of <a class=\"ProveItLink\" href=\"../../../../../../_theory_nbs_/theory.ipynb\">proveit</a>.<a class=\"ProveItLink\" href=\"../../../../../_theory_nbs_/theory.ipynb\">numbers</a>.<a class=\"ProveItLink\" href=\"../../../../_theory_nbs_/theory.ipynb\">number_sets</a>.<a class=\"ProveItLink\" href=\"../../theory.ipynb\">complex_numbers</a>.<a class=\"ProveItLink\" href=\"../../theorems.ipynb#exp_2pi_i_x\">exp_2pi_i_x</a> theorem\n",
    "========"
   ]
  },
  {
   "cell_type": "code",
   "execution_count": 1,
   "metadata": {},
   "outputs": [],
   "source": [
    "import proveit\n",
    "theory = proveit.Theory() # the theorem's theory"
   ]
  },
  {
   "cell_type": "code",
   "execution_count": 2,
   "metadata": {},
   "outputs": [
    {
     "data": {
      "text/html": [
       "With these <a href=\"allowed_presumptions.txt\">allowed</a>/<a href=\"disallowed_presumptions.txt\">disallowed</a> theorem/theory presumptions (e.g., to avoid circular dependencies), we begin our proof of<br><strong id=\"exp_2pi_i_x\">exp_2pi_i_x:</strong> <a class=\"ProveItLink\" href=\"../../../__pv_it/theorems/55633f228a20a89530f194dca3ff1adf55f52f6f0/expr.ipynb\"><img src=\"data:image/png;base64,iVBORw0KGgoAAAANSUhEUgAAASAAAAAmBAMAAACWg1saAAAAMFBMVEX///8AAAAAAAAAAAAAAAAA\n",
       "AAAAAAAAAAAAAAAAAAAAAAAAAAAAAAAAAAAAAAAAAAAv3aB7AAAAD3RSTlMAq1RmmUTNIjK7EInv\n",
       "3XZ/CtNrAAAACXBIWXMAAA7EAAAOxAGVKw4bAAAD+klEQVRYw71WXWjTUBQ+bdolTbbqi8LASWAP\n",
       "gsooTn1xjvmHCg7qLwriigxEHbP64Jg6Vh/UB6crc4NtglQQX9xcmCjog9SJU5RBFUFQp8H5h6JI\n",
       "/UXReU7apMtM4q2OXGhyknt675fvfOecC8A0fLLdzEaLd7MTWSOYgDyGuIPdd1H2vuZ52HgnROgS\n",
       "svAuMHBU5QMIjjHj5yJZIyl+MM8EwBHQ2rwAcZNZPVv0HaJCEq8bBgfx0/k4mvtBWDBCPIjt5VNm\n",
       "hYRnr0HoryB3bkm5Ch7r9fxly3IPh3NmGyugnTlGwhCFsKIgNgQUhVLghLhCMxugjY+cRXaKoIgA\n",
       "ed/ysjWBAIXQZ/m+hzFm3u+GuQL4FIhKHG98HM05qFxVm1kNnWJkEyI+nA1ZJwXPekEeWoinurpa\n",
       "vDWSFDM0+xhjVqTolpSg3aXwQ8iG7DgEAzFN2OsIUC+yk2UIknYSo9GBoPySRNga8Zelmf/KBqjV\n",
       "YHLXaIoYg5k6IA94Ki/ESEMlh+5LA/6RF6ihhZqo6GuP2pWRGDQBnEO8TQioyaD5JBugYofECDv+\n",
       "0y7trwTpelGjkkKm01zBBuijw9wrR/HFrN8XjP6km+zVAWVphmYZNBmVOuIRnCIrwr9OWqq1CrSC\n",
       "sM25XhnFcNJo3sNyRVtPXwQO6vK0H54IuDWCH7SaIcmOXoWTXQPk/QZcyLZ8GYHSytDpoaqJ2FKc\n",
       "dt9JrmmAoeHhO38BRBkpDpVes1cZ9S220XOvYgzhc8srzXA/UjOAbuc1miminhQ023YarW85jOph\n",
       "GnfJLAE+14igTNlj9vwFsBv4PzXifVQ71fjmVjlDUyBku2Mnc8iQghNjTi/jC9UPfJeQxlXb48Ud\n",
       "oCrSfv25huZbMTEV222SrHgEXObH2LY/bnxCMtRxmvZhEEFVufMmhlpnNDTYhkxkzkMh3dCwL/d4\n",
       "2gIQREhX75c/jyK4xZXLYQQ0QMEz5pCp/5FaYzT0y9mTpvvxbB2MFhfgttzm0FZRq5Kq0jhiiJq0\n",
       "47uNZ7IJSPtVCTxtOLfNA8g3B6cENI/Mh5hfk6668rLh1EfkiI/nvVMnAFDv9S1P7Gf5NCW0pvRM\n",
       "A52O2LZ3dbVhyC4aiVyoVUTf0/oJKcbVXxy+S/hsWEmNyBtoKRkNrb9iHBbi7rUOvUYdkCI+OAc8\n",
       "9fXujIYkQ9S+pGuApJS+54urb6BFFih9GzGE/vqd4lK9yXPfXQMUMNePjGrEy10d5iqTdg3QJFMz\n",
       "8NsVvnbXANWYKgtn51bhGqBLbG59YbcADTBq360zbJA1n2+5BKhQZnSc7xKgl6yOBSFX8PA3mU/m\n",
       "D1wB1Cszu+5NuAHoRB5kxlzAI1J1+Q3CZUAaT+9iWwAAAABJRU5ErkJggg==\n",
       "\" style=\"display:inline;vertical-align:middle;\" /></a><br>(see <a class=\"ProveItLink\" href=\"../../../__pv_it/theorems/ec0b8bf6bc2c3ba2572132ff4567a8b5d45897220/dependencies.ipynb\">dependencies</a>)<br>"
      ],
      "text/plain": [
       "<IPython.core.display.HTML object>"
      ]
     },
     "metadata": {},
     "output_type": "display_data"
    }
   ],
   "source": [
    "%proving exp_2pi_i_x"
   ]
  },
  {
   "cell_type": "code",
   "execution_count": null,
   "metadata": {},
   "outputs": [],
   "source": []
  }
 ],
 "metadata": {
  "kernelspec": {
   "display_name": "Python 3",
   "language": "python",
   "name": "python3"
  }
 },
 "nbformat": 4,
 "nbformat_minor": 0
}