{
 "cells": [
  {
   "cell_type": "markdown",
   "metadata": {},
   "source": [
    "Proof of <a class=\"ProveItLink\" href=\"../../../../../../_theory_nbs_/theory.ipynb\">proveit</a>.<a class=\"ProveItLink\" href=\"../../../../../_theory_nbs_/theory.ipynb\">numbers</a>.<a class=\"ProveItLink\" href=\"../../../../_theory_nbs_/theory.ipynb\">number_sets</a>.<a class=\"ProveItLink\" href=\"../../theory.ipynb\">complex_numbers</a>.<a class=\"ProveItLink\" href=\"../../theorems.ipynb#int_neg_within_complex_nonzero\">int_neg_within_complex_nonzero</a> theorem\n",
    "========"
   ]
  },
  {
   "cell_type": "code",
   "execution_count": 1,
   "metadata": {},
   "outputs": [],
   "source": [
    "import proveit\n",
    "theory = proveit.Theory() # the theorem's theory"
   ]
  },
  {
   "cell_type": "code",
   "execution_count": 2,
   "metadata": {},
   "outputs": [
    {
     "data": {
      "text/html": [
       "With these <a href=\"allowed_presumptions.txt\">allowed</a>/<a href=\"disallowed_presumptions.txt\">disallowed</a> theorem/theory presumptions (e.g., to avoid circular dependencies), we begin our proof of<br><strong id=\"int_neg_within_complex_nonzero\">int_neg_within_complex_nonzero:</strong> <a class=\"ProveItLink\" href=\"../../../__pv_it/theorems/43a6c50be86f91b7dd57398d7aa454caf7a609660/expr.ipynb\"><img src=\"data:image/png;base64,iVBORw0KGgoAAAANSUhEUgAAAFwAAAAVCAMAAAD8ZnnOAAAAOVBMVEX///8AAAAAAAAAAAAAAAAA\n",
       "AAAAAAAAAAAAAAAAAAAAAAAAAAAAAAAAAAAAAAAAAAAAAAAAAAAAAAACXHtMAAAAEnRSTlMAVM3v\n",
       "u91mdqsymYkiEETt5cn1eqECAAAACXBIWXMAAA7EAAAOxAGVKw4bAAABW0lEQVQ4y7VUi3KEIAwM\n",
       "EATC41r+/2MbHp7VA++c2owyY8Q17GYDcHdE+L/wqa7e+Puxgy3rYgAS3g5uQ1mV4yWHm7FTJSPk\n",
       "QrwSAEKqrCRqjWq5qp1HLaUJjiEJSzz4XsBVcM1wBm05hKzXpTC2lBMpI62ZVl4DV0w8UU97UfK4\n",
       "xlvGyDQSYFnBY9ew0ZJFl4DT8aK6jgB7T1tqtHx9Y6VlE7RuIAeVnDkFLEqN5y4bYS0ndjbsc3dp\n",
       "xfWJ047OqpT+hSWEcPgEN3OyiShuaTyxbdRh5Ba3N6Eww4+Fr56aOyMNDuMh7Vt30mzv2nD0kjlJ\n",
       "u4JEGosl+riZMLMJdeD8g9nEPRjw12CYDKMX8K1bzhh1HTXmyQ49HCNbn0M6MUNqPWX1zIvLxKH9\n",
       "SDRVjH8vSwUBxfSYMo2NJSlAFHpqkaRQKjYtj0b0c1lsisOpqLKm8PdBjQf7fxA/OpkKQga51TUA\n",
       "AAAASUVORK5CYII=\n",
       "\" style=\"display:inline;vertical-align:middle;\" /></a><br>(see <a class=\"ProveItLink\" href=\"../../../__pv_it/theorems/d6cdc53561430cc6fc7b928969d47b85a8d4eeac0/dependencies.ipynb\">dependencies</a>)<br>"
      ],
      "text/plain": [
       "<IPython.core.display.HTML object>"
      ]
     },
     "metadata": {},
     "output_type": "display_data"
    },
    {
     "name": "stdout",
     "output_type": "stream",
     "text": [
      "int_neg_within_complex_nonzero may now be readily provable (assuming required theorems are usable).  Simply execute \"%qed\".\n"
     ]
    }
   ],
   "source": [
    "%proving int_neg_within_complex_nonzero"
   ]
  },
  {
   "cell_type": "code",
   "execution_count": null,
   "metadata": {},
   "outputs": [],
   "source": []
  }
 ],
 "metadata": {
  "kernelspec": {
   "display_name": "Python 3",
   "language": "python",
   "name": "python3"
  }
 },
 "nbformat": 4,
 "nbformat_minor": 0
}