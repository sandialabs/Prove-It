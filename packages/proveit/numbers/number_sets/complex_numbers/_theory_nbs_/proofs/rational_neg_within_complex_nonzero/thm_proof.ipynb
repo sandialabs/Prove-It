{
 "cells": [
  {
   "cell_type": "markdown",
   "metadata": {},
   "source": [
    "Proof of <a class=\"ProveItLink\" href=\"../../../../../../_theory_nbs_/theory.ipynb\">proveit</a>.<a class=\"ProveItLink\" href=\"../../../../../_theory_nbs_/theory.ipynb\">numbers</a>.<a class=\"ProveItLink\" href=\"../../../../_theory_nbs_/theory.ipynb\">number_sets</a>.<a class=\"ProveItLink\" href=\"../../theory.ipynb\">complex_numbers</a>.<a class=\"ProveItLink\" href=\"../../theorems.ipynb#rational_neg_within_complex_nonzero\">rational_neg_within_complex_nonzero</a> theorem\n",
    "========"
   ]
  },
  {
   "cell_type": "code",
   "execution_count": 1,
   "metadata": {},
   "outputs": [],
   "source": [
    "import proveit\n",
    "theory = proveit.Theory() # the theorem's theory"
   ]
  },
  {
   "cell_type": "code",
   "execution_count": 2,
   "metadata": {},
   "outputs": [
    {
     "data": {
      "text/html": [
       "With these <a href=\"allowed_presumptions.txt\">allowed</a>/<a href=\"disallowed_presumptions.txt\">disallowed</a> theorem/theory presumptions (e.g., to avoid circular dependencies), we begin our proof of<br><strong id=\"rational_neg_within_complex_nonzero\">rational_neg_within_complex_nonzero:</strong> <a class=\"ProveItLink\" href=\"../../../__pv_it/theorems/93dc6dc28f755f9649c07013b2354fae8a57eb1d0/expr.ipynb\"><img src=\"data:image/png;base64,iVBORw0KGgoAAAANSUhEUgAAAGYAAAAXCAMAAADOf8o0AAAAOVBMVEX///8AAAAAAAAAAAAAAAAA\n",
       "AAAAAAAAAAAAAAAAAAAAAAAAAAAAAAAAAAAAAAAAAAAAAAAAAAAAAAACXHtMAAAAEnRSTlMAEIm7\n",
       "mSJ2q+8y3WZEzVTt5cnMFh2FAAAACXBIWXMAAA7EAAAOxAGVKw4bAAABoklEQVRIx7VVi66sIAwE\n",
       "Wqjlde71/z/2VAF1lZU9JttENASmr+mo1PdMf3Iog5XVGGceejFRDQEyuOUVZI3wyIulIUCAUD4m\n",
       "lmW2T9yQHQA4yC2ieanvlB94ieYCoA2IYfHJB1ReT/kw7rYBn5KzLOC4gMGPPOEFwNGSmvVkaluM\n",
       "fnEzuZEXQRAkjTNg2wlnABPMuhex9So2RyXneVQ0dKVE0tPqRoM6AUieqezByosSBaH9mAKMCmr+\n",
       "hKVo//7DWrQdALSmSnRuDlc+klx1Cx/pRBBfjDdOadUoq2uttisNQNLjmkPOCvlA/DpdeJxmTuaS\n",
       "GyiLp539SgWQmsXKJHmHQRu0t7055NdBz1fORLdhS1Z5wF2KndbsgVZLHU0wG7YcdlExNOt0PvVU\n",
       "BZdYj8l0YlGvvblXVSbVRbBjeQVte0y7kcMrgoJPxGefm9Eg+i7CPjcqvp/hpgI0lnwMb1Sgpok3\n",
       "5TBN03AsvCn2NT2JaujsbxEszinNx9F8PzhAUXcVepo9jn5MxLueDXsJJ7H5y7/OiZpnjurLlgnS\n",
       "BOFL6L+2AQxEWsi1aAAAAABJRU5ErkJggg==\n",
       "\" style=\"display:inline;vertical-align:middle;\" /></a><br>(see <a class=\"ProveItLink\" href=\"../../../__pv_it/theorems/a62fc4d22a13701ed413b91066a4e68dfa93870d0/dependencies.ipynb\">dependencies</a>)<br>"
      ],
      "text/plain": [
       "<IPython.core.display.HTML object>"
      ]
     },
     "metadata": {},
     "output_type": "display_data"
    },
    {
     "name": "stdout",
     "output_type": "stream",
     "text": [
      "rational_neg_within_complex_nonzero may now be readily provable (assuming required theorems are usable).  Simply execute \"%qed\".\n"
     ]
    }
   ],
   "source": [
    "%proving rational_neg_within_complex_nonzero"
   ]
  },
  {
   "cell_type": "code",
   "execution_count": null,
   "metadata": {},
   "outputs": [],
   "source": []
  }
 ],
 "metadata": {
  "kernelspec": {
   "display_name": "Python 3",
   "language": "python",
   "name": "python3"
  }
 },
 "nbformat": 4,
 "nbformat_minor": 0
}