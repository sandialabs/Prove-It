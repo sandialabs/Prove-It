{
 "cells": [
  {
   "cell_type": "markdown",
   "metadata": {},
   "source": [
    "Proof of <a class=\"ProveItLink\" href=\"../../../../../../_theory_nbs_/theory.ipynb\">proveit</a>.<a class=\"ProveItLink\" href=\"../../../../../_theory_nbs_/theory.ipynb\">numbers</a>.<a class=\"ProveItLink\" href=\"../../../../_theory_nbs_/theory.ipynb\">number_sets</a>.<a class=\"ProveItLink\" href=\"../../theory.ipynb\">complex_numbers</a>.<a class=\"ProveItLink\" href=\"../../theorems.ipynb#rational_nonneg_within_complex\">rational_nonneg_within_complex</a> theorem\n",
    "========"
   ]
  },
  {
   "cell_type": "code",
   "execution_count": 1,
   "metadata": {},
   "outputs": [],
   "source": [
    "import proveit\n",
    "theory = proveit.Theory() # the theorem's theory"
   ]
  },
  {
   "cell_type": "code",
   "execution_count": 2,
   "metadata": {},
   "outputs": [
    {
     "data": {
      "text/html": [
       "With these <a href=\"allowed_presumptions.txt\">allowed</a>/<a href=\"disallowed_presumptions.txt\">disallowed</a> theorem/theory presumptions (e.g., to avoid circular dependencies), we begin our proof of<br><strong id=\"rational_nonneg_within_complex\">rational_nonneg_within_complex:</strong> <a class=\"ProveItLink\" href=\"../../../__pv_it/theorems/8bdb90b478c02c45a148a82b0c76b29c025b105f0/expr.ipynb\"><img src=\"data:image/png;base64,iVBORw0KGgoAAAANSUhEUgAAAFEAAAAWBAMAAABK/G3RAAAAMFBMVEX///8AAAAAAAAAAAAAAAAA\n",
       "AAAAAAAAAAAAAAAAAAAAAAAAAAAAAAAAAAAAAAAAAAAv3aB7AAAAD3RSTlMAEIm7mSJ2q+8y3WZE\n",
       "zVRISQrpAAAACXBIWXMAAA7EAAAOxAGVKw4bAAABaUlEQVQoz2NggAJOGzDFpKbAQAgI2YHIbQyH\n",
       "CapkYLMGEp0M/AGElXKbMbB+ZOB4gNtaY2NXqNJWzo8MXBswFFjdTZ0EsrRiAutysDcYlQ8AVXIk\n",
       "oLuqYgOjvwmQoa3NwHAE5A1W9wkg2/nRbXc7BLQNqJJT4QIDAzN3AgNr+QSsPuJ0MASSJUBFggXA\n",
       "UJxwgbEErCKN4TjUTqtVq1aB9LILGABJaQYGYU6gu/geeDIKQEPeEWLSJZjRzKwOEMYkHqBfeTbs\n",
       "Q3OcFNwN4ZzQWDvGDfQBZ8JrNJU1cBbYKBAI4gObmcNpDASmcPkLcFYIDzTYmCHudETzcAGcycwK\n",
       "tZ1ZFOJ3VJWsSCrBfgcCHkh4ogf3AjiLBxyePEDsDYyj4xhJzRspjkAh7AsKQVC8O6Cr5D2AiHdb\n",
       "V8ZXYAUhf+97YiQwRvODiLRk8Qua2Cq5EzDTIo8yNDaRAXtC+ssDDESB57bNGwgqAgBNyFAx0zpS\n",
       "kgAAAABJRU5ErkJggg==\n",
       "\" style=\"display:inline;vertical-align:middle;\" /></a><br>(see <a class=\"ProveItLink\" href=\"../../../__pv_it/theorems/e90fd60f254ac1ebf652924ef32027767b3e61840/dependencies.ipynb\">dependencies</a>)<br>"
      ],
      "text/plain": [
       "<IPython.core.display.HTML object>"
      ]
     },
     "metadata": {},
     "output_type": "display_data"
    },
    {
     "name": "stdout",
     "output_type": "stream",
     "text": [
      "rational_nonneg_within_complex may now be readily provable (assuming required theorems are usable).  Simply execute \"%qed\".\n"
     ]
    }
   ],
   "source": [
    "%proving rational_nonneg_within_complex"
   ]
  },
  {
   "cell_type": "code",
   "execution_count": null,
   "metadata": {},
   "outputs": [],
   "source": []
  }
 ],
 "metadata": {
  "kernelspec": {
   "display_name": "Python 3",
   "language": "python",
   "name": "python3"
  }
 },
 "nbformat": 4,
 "nbformat_minor": 0
}