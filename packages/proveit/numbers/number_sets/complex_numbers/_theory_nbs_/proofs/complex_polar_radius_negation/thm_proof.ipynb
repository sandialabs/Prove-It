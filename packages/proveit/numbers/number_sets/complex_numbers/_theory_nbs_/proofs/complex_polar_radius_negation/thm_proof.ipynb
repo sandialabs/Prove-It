{
 "cells": [
  {
   "cell_type": "markdown",
   "metadata": {},
   "source": [
    "Proof of <a class=\"ProveItLink\" href=\"../../../../../../_theory_nbs_/theory.ipynb\">proveit</a>.<a class=\"ProveItLink\" href=\"../../../../../_theory_nbs_/theory.ipynb\">numbers</a>.<a class=\"ProveItLink\" href=\"../../../../_theory_nbs_/theory.ipynb\">number_sets</a>.<a class=\"ProveItLink\" href=\"../../theory.ipynb\">complex_numbers</a>.<a class=\"ProveItLink\" href=\"../../theorems.ipynb#complex_polar_radius_negation\">complex_polar_radius_negation</a> theorem\n",
    "========"
   ]
  },
  {
   "cell_type": "code",
   "execution_count": 1,
   "metadata": {},
   "outputs": [],
   "source": [
    "import proveit\n",
    "theory = proveit.Theory() # the theorem's theory"
   ]
  },
  {
   "cell_type": "code",
   "execution_count": 2,
   "metadata": {},
   "outputs": [
    {
     "data": {
      "text/html": [
       "With these <a href=\"allowed_presumptions.txt\">allowed</a>/<a href=\"disallowed_presumptions.txt\">disallowed</a> theorem/theory presumptions (e.g., to avoid circular dependencies), we begin our proof of<br><strong id=\"complex_polar_radius_negation\">complex_polar_radius_negation:</strong> <a class=\"ProveItLink\" href=\"../../../__pv_it/theorems/be85ed0c4bc0698195fab6dc4afe4bbfb80c2d8e0/expr.ipynb\"><img src=\"data:image/png;base64,iVBORw0KGgoAAAANSUhEUgAAAUoAAAAmBAMAAABQRs+jAAAAMFBMVEX///8AAAAAAAAAAAAAAAAA\n",
       "AAAAAAAAAAAAAAAAAAAAAAAAAAAAAAAAAAAAAAAAAAAv3aB7AAAAD3RSTlMAq1RmmUTNIjK7EInv\n",
       "3XZ/CtNrAAAACXBIWXMAAA7EAAAOxAGVKw4bAAAFHklEQVRYw61YXWgcRRz/N7t3e7f3+SQU/DhR\n",
       "fKnS86EBIZSzVG2MlfjgQzHYoxHEFmWl0hKN3AmCKK05G0u5FuQeVCi19hJQiEUIlRCtCCFUREtk\n",
       "QdCXokdqm5JC48x/dmf2Y25vbuM8/JKd3fnNf/7fcwAqQy8JjDs+b8VaZh5U/vRxD8Ydqd/irTuu\n",
       "ejqtKjD+eDTeMq2o+OGxlsD4Ix3TYU4ofnfIgz0OXqc4YAXnbephl1W1V/c9fqGmnYF1gT1Gtk1x\n",
       "B8Abf/vDrx+/ZiScQVczea4tUCksi2CeTlINVNypBF1cs2SKG+1CQhjwbGCsKe061RKolLdGIV1G\n",
       "L2zwOZpP0rJzPtjNiwmDwdafUdp1qwfBrw8j8GmyTLVO1AZJV8q3NzY2LJilapuXqEySOJAEGXbi\n",
       "85CSlNc9mPcHasKWbHAEYBgKdSal+fThjKMyY1Wmsi5SIkMO7VcrAbrmA5HpeE0gbAu8/CO4gdmG\n",
       "fQC/XrwPHCnhr3Pkv3308UqYfBJkUhISZMijdLkKPEH/vhyZGDoCQwZKtgIbpBbhfoA12A16s/lD\n",
       "c5qI+i558T59+2SYfEQqJSGhDGBiXtGr8A41RSNKyi1VgXrQQFolbCwiUQcWHV0S8ufcIPknTH4D\n",
       "ulicMYyjl3VQGZnIqpAtejD09rI0eg6yzoRKqdtjBDH5ba+HvGm9m5SMYRgz9S3QyFQyMngKbYEP\n",
       "hd6Oi3C9+wrbIG3BC7PgSpls0Rg4hckspI38UjDmXRLGcA2PQqLup5WVH6OlLAv0uFFqzhghczOi\n",
       "ki0PFUUK51KyzfG/C2WZNzlEARI29lO3N0l62QNwOlLKWkmg0Bxk0iMZkgAH+cQ9YDj2e8qd4k6r\n",
       "Y5otYN7SV3CgMOkGJwqSsIKCPnIH4HUwuPTGsyz/DVx96S6eCZmdGC4LgsPJJZ0o7WFvWp12DhAq\n",
       "Uzs8vuNzwSInCpIwDWH9vE2O08rwUnq2RSrZh1tPgt3OvMW1Pipwgej/VVRF/QPmA1NoSmo4UmNu\n",
       "O0tCUrKJQiXUIpAZh8i8CX4SJMZd/yV6s0XwTJNmTt9DOy1b+1Kmy4Wgz8CYu1lq9ejRN6OLWFhK\n",
       "qkuHCHN+kKRWd6SEKqmWA7t2EmcyOnCAVRPbzn/aw+KwF/ER/nynZ6kN+yVKudfzSYBkynInZ4mV\n",
       "tbHyAbK+AbdYNNrtCV77amWBn3gYriI+xp+faYWaD2m28MV4gxNJSZiaaQsxSc7z3iAQ3ebOzHQS\n",
       "yGQPzwnfsAXOeNqhG4ESd/67F38HhWzhy5fznEhKgu0QdilbqO3vxbNaekV7pdk8QSz+FWfMVgQe\n",
       "97RDLCH/7HGBm3aPRjXU8SbWOZGUBNv7FD8GhkUBslaqzfzy+W+4hzcE5oI1zljq4561PdxIL0Sv\n",
       "GPfdZUjcwDlSzHY5KZ5kIh49+rxALRilerkPKb9V64k89RLly7iaSBHfPFZKXCRmniDqSrx2yNzt\n",
       "NmnaukBWjz1jop8760eSS7TCXTztu54xTzTnmif9B1oVCGcDPKf6kfK6pC2MbMdyVig1JLpdvz72\n",
       "oOEPkLzVh5CJNbV7jxjs3rPfu4nW7duhPu5IUSMjk2hbxAKnO/9aiZ0V0wujm5UyW+rjPo6hyax7\n",
       "qQ8dZKqblfJavGX5ebXvvvfgJsal/9EEkjHowfgjH9MYfyp+hxcRB+OPSSvWMmNR9eepXwTGHuZy\n",
       "vHXnlX/2PNISGPtH1pimmFbXel1g3PFZTBPQTPUf8uBeRbqMQ9cAAAAASUVORK5CYII=\n",
       "\" style=\"display:inline;vertical-align:middle;\" /></a><br>(see <a class=\"ProveItLink\" href=\"../../../__pv_it/theorems/1a4b77cd703658ad795493650c7ac0ed82cea39a0/dependencies.ipynb\">dependencies</a>)<br>"
      ],
      "text/plain": [
       "<IPython.core.display.HTML object>"
      ]
     },
     "metadata": {},
     "output_type": "display_data"
    }
   ],
   "source": [
    "%proving complex_polar_radius_negation"
   ]
  },
  {
   "cell_type": "code",
   "execution_count": null,
   "metadata": {},
   "outputs": [],
   "source": []
  }
 ],
 "metadata": {
  "kernelspec": {
   "display_name": "Python 3",
   "language": "python",
   "name": "python3"
  }
 },
 "nbformat": 4,
 "nbformat_minor": 0
}