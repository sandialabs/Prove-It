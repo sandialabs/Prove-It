{
 "cells": [
  {
   "cell_type": "markdown",
   "metadata": {},
   "source": [
    "Proof of <a class=\"ProveItLink\" href=\"../../../../../../_theory_nbs_/theory.ipynb\">proveit</a>.<a class=\"ProveItLink\" href=\"../../../../../_theory_nbs_/theory.ipynb\">numbers</a>.<a class=\"ProveItLink\" href=\"../../../../_theory_nbs_/theory.ipynb\">number_sets</a>.<a class=\"ProveItLink\" href=\"../../theory.ipynb\">complex_numbers</a>.<a class=\"ProveItLink\" href=\"../../theorems.ipynb#nonzero_if_in_complex_nonzero\">nonzero_if_in_complex_nonzero</a> theorem\n",
    "========"
   ]
  },
  {
   "cell_type": "code",
   "execution_count": 1,
   "metadata": {},
   "outputs": [],
   "source": [
    "import proveit\n",
    "theory = proveit.Theory() # the theorem's theory"
   ]
  },
  {
   "cell_type": "code",
   "execution_count": 2,
   "metadata": {},
   "outputs": [
    {
     "data": {
      "text/html": [
       "With these <a href=\"allowed_presumptions.txt\">allowed</a>/<a href=\"disallowed_presumptions.txt\">disallowed</a> theorem/theory presumptions (e.g., to avoid circular dependencies), we begin our proof of<br><strong id=\"nonzero_if_in_complex_nonzero\">nonzero_if_in_complex_nonzero:</strong> <a class=\"ProveItLink\" href=\"../../../__pv_it/theorems/a7b5518cd0853c6606994b7537ce3e8375560a760/expr.ipynb\"><img src=\"data:image/png;base64,iVBORw0KGgoAAAANSUhEUgAAAIkAAAAVCAMAAABFXj3DAAAASFBMVEX///8AAAAAAAAAAAAAAAAA\n",
       "AAAAAAAAAAAAAAAAAAAAAAAAAAAAAAAAAAAAAAAAAAAAAAAAAAAAAAAAAAAAAAAAAAAAAAAAAACC\n",
       "gUnDAAAAF3RSTlMAq1RmmUTNIjK7EInv3Xah18O15/Xp87zmPDoAAAAJcEhZcwAADsQAAA7EAZUr\n",
       "DhsAAAI5SURBVEjHvVbruqMgDAQSBALk7N33f9OFAF6qrT3H/dYftiiSyWQyoNS/vdx/++jiYnMx\n",
       "AenkoeV618vYwG0gJl5M8GE7ipFR+OAaGu14Pt0miaarGcFvBlMhkLJEnQpVfpDiwm1K8IpVrzcD\n",
       "yMKLhAXscOSRuY0kXVKypT0ILDNL/FTu0BOZ7qvkagm7pUTNKDTNwsBUUaRcrxTvF6cvQcyafDyS\n",
       "vFMiDSTCRKwgUVQU6DaSqbNbIrBmhXmBKLnmn7/qfdHlHBsSaWGofDo9bu81SF3AseFDq+VGApQX\n",
       "UKqv4RUlKxL5MWnQEe0Luwqo2bFaMm4yP6gitTUqxXgiGYv7jBoE2zjxs+DhM7161iGUtSnokosJ\n",
       "XQRQw1Hqcj9DIn/5pHgPJDadmKZYm3rbwOFLxG5CkVoho4qI+PENixe6KoHsz6sjiZaoRDud/P7T\n",
       "1LLIIDQnaV1screSYSpc7FccmEeRCbzdbFON4cbJo1CCQKZCpK7vH5pxeqQQhIZeR2i+6lIHWlSo\n",
       "Q3VhWgzXODMiFk6+/8DKiRTzUNDYrcoTliB238QG1ZnCKfmdA+hONEhiZWAX3QPBmgyN5UrvwKF3\n",
       "fG5zmEtcMBeU1JmRR+R87JjZtfYOchnlvfWv9/RNkv6ru7TLx45Jogi/ftgVq6j3zYsL8Lnr0af2\n",
       "TpdUnJoqV8t1Uc4Qkd9wvfDsYAEXlBzOAcg2MpO886upllKhf8t/n50sMn0tgxa/6sR+9kT6hLnX\n",
       "ecjG8RdjExDHR68X7AAAAABJRU5ErkJggg==\n",
       "\" style=\"display:inline;vertical-align:middle;\" /></a><br>(see <a class=\"ProveItLink\" href=\"../../../__pv_it/theorems/c860413c913aa870891d35b41d340d63fd6b2df60/dependencies.ipynb\">dependencies</a>)<br>"
      ],
      "text/plain": [
       "<IPython.core.display.HTML object>"
      ]
     },
     "metadata": {},
     "output_type": "display_data"
    }
   ],
   "source": [
    "%proving nonzero_if_in_complex_nonzero"
   ]
  },
  {
   "cell_type": "code",
   "execution_count": null,
   "metadata": {},
   "outputs": [],
   "source": []
  }
 ],
 "metadata": {
  "kernelspec": {
   "display_name": "Python 3",
   "language": "python",
   "name": "python3"
  }
 },
 "nbformat": 4,
 "nbformat_minor": 0
}