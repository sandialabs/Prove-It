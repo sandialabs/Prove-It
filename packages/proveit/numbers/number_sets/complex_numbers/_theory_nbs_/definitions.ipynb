{
 "cells": [
  {
   "cell_type": "markdown",
   "metadata": {},
   "source": [
    "Conservative definitions for the theory of <a class=\"ProveItLink\" href=\"theory.ipynb\">proveit.numbers.number_sets.complex_numbers</a>\n",
    "========"
   ]
  },
  {
   "cell_type": "code",
   "execution_count": null,
   "metadata": {},
   "outputs": [],
   "source": [
    "import proveit\n",
    "# Prepare this notebook for defining the conservative definitions of a theory:\n",
    "%definitions_notebook # Keep this at the top following 'import proveit'.\n",
    "\n",
    "from proveit import Function, ExprTuple\n",
    "from proveit import a, b, c, d, f\n",
    "from proveit.logic import And, Forall, Exists, Equals, SetOfAll, Bijections, CartProd\n",
    "from proveit.numbers import Real, Complex, i, one, Neg, zero\n",
    "from proveit.numbers.number_sets.integers.predecessor import IntPredecessor\n",
    "from proveit.numbers.number_sets.real_numbers import RealAdd, RealMult\n",
    "from proveit.numbers.number_sets.complex_numbers import ComplexAdd, ComplexMult"
   ]
  },
  {
   "cell_type": "code",
   "execution_count": null,
   "metadata": {},
   "outputs": [],
   "source": [
    "%begin defining_properties"
   ]
  },
  {
   "cell_type": "code",
   "execution_count": null,
   "metadata": {},
   "outputs": [],
   "source": [
    "complex_def = Exists(\n",
    "    f, And(Forall(a, Equals(Function(f, ExprTuple(a, zero)), a),\n",
    "                  domain=Real),\n",
    "           Forall((a, b, c, d),\n",
    "                  Equals(ComplexMult(Function(f, ExprTuple(a, b)),\n",
    "                                     Function(f, ExprTuple(c, d))),\n",
    "                         Function(\n",
    "                             f, ExprTuple(\n",
    "                                 RealAdd(RealMult(a, c), RealMult(IntPredecessor(zero), RealMult(b, d))),\n",
    "                                 RealAdd(RealMult(a, d), RealMult(b, c)))))\n",
    "                  .with_wrap_after_operator())).with_wrap_after_operator(),\n",
    "    domain=Bijections(CartProd(Real, Real), Complex))"
   ]
  },
  {
   "cell_type": "code",
   "execution_count": null,
   "metadata": {},
   "outputs": [],
   "source": [
    "i_def = Equals(ComplexMult(i, i), IntPredecessor(zero))"
   ]
  },
  {
   "cell_type": "code",
   "execution_count": null,
   "metadata": {},
   "outputs": [],
   "source": [
    "real_add = Forall(\n",
    "    (a, b), Equals(ComplexAdd(a, b), RealAdd(a, b)), \n",
    "    domain=Real)\n",
    "distribute_mult_over_add = Forall(\n",
    "    (a, b, c), Equals(ComplexMult(ComplexAdd(a, b), c),\n",
    "                      ComplexAdd(ComplexMult(a, c), ComplexMult(b, c))),\n",
    "    domain=Complex)"
   ]
  },
  {
   "cell_type": "code",
   "execution_count": null,
   "metadata": {},
   "outputs": [],
   "source": [
    "%end defining_properties"
   ]
  }
 ],
 "metadata": {
  "kernelspec": {
   "display_name": "Python 3 (ipykernel)",
   "language": "python",
   "name": "python3"
  }
 },
 "nbformat": 4,
 "nbformat_minor": 0
}
