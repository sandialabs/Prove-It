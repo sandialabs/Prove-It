{
 "cells": [
  {
   "cell_type": "markdown",
   "metadata": {},
   "source": [
    "Demonstrations for the theory of <a class=\"ProveItLink\" href=\"theory.ipynb\">proveit.numbers.number_sets.complex_numbers</a>\n",
    "========"
   ]
  },
  {
   "cell_type": "code",
   "execution_count": 1,
   "metadata": {},
   "outputs": [],
   "source": [
    "import proveit\n",
    "from proveit import a, b, c, x\n",
    "from proveit.logic import Boolean, Equals, NotEquals, InSet\n",
    "from proveit.numbers import zero, Abs, RealNonZero, Complex, ComplexNonZero\n",
    "%begin demonstrations"
   ]
  },
  {
   "cell_type": "markdown",
   "metadata": {},
   "source": [
    "# Complex Numbers $\\mathbb{C}$\n",
    "\n",
    "### UNDER CONSTRUCTION"
   ]
  },
  {
   "cell_type": "markdown",
   "metadata": {},
   "source": [
    "<div style=\"line-height:1.4; font-size:14pt\">\n",
    "\n",
    "<a href='#introduction'>Introduction</a><br>\n",
    "<a href='#simple_expressions'>Simple Expressions involving Complex number $\\mathbb{C}$</a><br>\n",
    "<a href='#common_attributes'>Common Attributes of NumberSet classes</a><br>\n",
    "<a href='#axioms'>Axioms</a><br>\n",
    "<a href='#further_demonstrations'>Further Demonstrations</a><br>\n",
    "    <ol>\n",
    "        <li><a href='#demo01'>Demo 1</a></li>\n",
    "        <li><a href='#demo02'>Demo 2</a></li>\n",
    "        <li><a href='#demo03'>Demo 3</a></li>\n",
    "    </ol>\n",
    "\n",
    "</div>\n"
   ]
  },
  {
   "cell_type": "markdown",
   "metadata": {},
   "source": [
    "## Introduction <a id='introduction'></a>"
   ]
  },
  {
   "cell_type": "markdown",
   "metadata": {},
   "source": [
    "<font size=4>UNDER CONSTRUCTION. Something here about the importance of having and using specifically pre-defined number sets such as the Complex numbers ($\\mathbb{C}$), the axiomatic definition, and perhaps the distinctiveness from other predefined NumberSet classes.</font>"
   ]
  },
  {
   "cell_type": "code",
   "execution_count": 2,
   "metadata": {},
   "outputs": [
    {
     "data": {
      "text/html": [
       "<span style=\"font-size:20px;\"> <a class=\"ProveItLink\" href=\"../__pv_it/demonstrations/00808af1b9cd0f6ecde967416387a2ead085da800/proof.ipynb\" style=\"text-decoration: none\">&nbsp;&#x22A2;&nbsp;&nbsp;</a><a class=\"ProveItLink\" href=\"../__pv_it/theorems/ea960593a396ff11a048b84fe82e4bac559a5ffd0/expr.ipynb\"><img src=\"data:image/png;base64,iVBORw0KGgoAAAANSUhEUgAAAGkAAAAVBAMAAAC3TN2zAAAAMFBMVEX///8AAAAAAAAAAAAAAAAA\n",
       "AAAAAAAAAAAAAAAAAAAAAAAAAAAAAAAAAAAAAAAAAAAv3aB7AAAAD3RSTlMAInZUiRDNmWbv3US7\n",
       "qzJazP2FAAAACXBIWXMAAA7EAAAOxAGVKw4bAAABsElEQVQ4y2NgYBBgwAkYccowGWATZfVZliTn\n",
       "wK2AJqw1Jz9z7QYgwwSrWbozGML/FDBooIsf2MSYehtoaAI2TezaDgwMPQUMbAHounYwOPIA5Ruw\n",
       "6XrOA1TOW8DAUYCpq5mXgYET1ZOnVi0D0Vd5QH4DGjgVVRysi42BwQxZE3cS1EUHxKEiGajiIF0X\n",
       "WxgYSoDMIN04F3BIikElGS88garyZUAWB4VG0FoHiGEFTJfYF4DEEqFyfA47oKw2BmRxoK5dmb9K\n",
       "GRgWMzBwCHB85QUHCiw8GQs2QVmWDMjiYBdqbAtgmA00mYEdIsw3a9WqVWvAkiJQVe9RxUG6eLgd\n",
       "QLqAAQlJA6wHYEYe5YEydqKKg3UxHAC5kIFhvwAr2L8LYJLbQfHFAEw6Vgwo4hBdCQyHGBhiNtxk\n",
       "YAGLKSHSxgUGsLt7UMXBupgVQEFr/7SSYTNYjA2eknXSBYKXM0AiBln8wBYGJ3cGhlcMDOFKzBUQ\n",
       "YdY7W+Fpfv5yUBZajSquNuc8OM1zPUBJHD7QlAOLggXYxTHSJ2rab8AhcRCfLhlcEjH4dOE0klEB\n",
       "tyYmHGUKAGM1cHhSe0PkAAAAAElFTkSuQmCC\n",
       "\" style=\"display:inline;vertical-align:middle;\" /></a></span>"
      ],
      "text/plain": [
       "|- (x in Complex) in BOOLEAN"
      ]
     },
     "metadata": {},
     "output_type": "display_data"
    }
   ],
   "source": [
    "InSet(InSet(x, Complex), Boolean).prove()"
   ]
  },
  {
   "cell_type": "code",
   "execution_count": 3,
   "metadata": {},
   "outputs": [
    {
     "data": {
      "text/html": [
       "<span style=\"font-size:20px;\"> <a class=\"ProveItLink\" href=\"../__pv_it/demonstrations/aea42114c6a41451f96afd30ea03444416c2eaaa0/proof.ipynb\" style=\"text-decoration: none\">&nbsp;&#x22A2;&nbsp;&nbsp;</a><a class=\"ProveItLink\" href=\"../__pv_it/theorems/665eff8f0a2a28c1260574ad6e8c234d3a2e62ce0/expr.ipynb\"><img src=\"data:image/png;base64,iVBORw0KGgoAAAANSUhEUgAAAIEAAAAbCAMAAABsgxxHAAAAOVBMVEX///8AAAAAAAAAAAAAAAAA\n",
       "AAAAAAAAAAAAAAAAAAAAAAAAAAAAAAAAAAAAAAAAAAAAAAAAAAAAAAACXHtMAAAAEnRSTlMAZkRU\n",
       "mRDNuyLviTJ23avt5cl5aQ4bAAAACXBIWXMAAA7EAAAOxAGVKw4bAAACL0lEQVRIx8VXibLbIAwU\n",
       "NxhBW/7/YyswNsYHCS+ZVpM4Toas16uVhAG+EQr+cyy8HBdcforA+EcEbCwgCMANnch5BCE/kyDa\n",
       "fHSeDolOrZlOov6MAC/a25TN4ERVYyoMm+K7mKA1Wk/XlSbHL3oz8IVBKFjhhTMxOKOTdiGW9Fs3\n",
       "QwCjo4somcyWOlxvYGXgcF308q6BI1itCgU5Y2CJq+bANgaqZn3NQhLlt6ReMyDii4X87zRRCF6C\n",
       "qeBRrln4/ceULDQnUmj2FgMmIG7qPYpuAsVu1ahgM7qq4u+CY67G+k2aMU5joLMrBi7XqE7U7aly\n",
       "TVtAHUnWb+jGOJVBtIxyGjdiCjEqvyyidRqtLq3H964R94XHO2EvOKsTFYaY0cwmmMweRpBNE23P\n",
       "NlgK9UM8tBKf/HGRvfNB0C6FLJquqWO0jBH1yJ7hKQW8u2nx4GLb2Vs/OREZJ3lCTWwmLbu13oUa\n",
       "5uCDt2pXHRnc4FQG+WPZNYC9n+ww1/5uWi2MZ9UxCzc4jQG9Dgx4rmbVXHOtEt76AYzaiE/H1IcR\n",
       "Aw3RVKIcYq6hg8qIdz1xK/nRPOtr4QZnZ0DFVEtXJK8knXJxtJC4aVFaWlAiDCc66/vBFacYAGhL\n",
       "I3e6ShJTIVm3VkXD1XU25iqy4/HRj6YzDmpnTJuNjg9nv+m66ZtxmQtDHPnjzd2gGKe2rt59nQGL\n",
       "c+uj+DaDYP/tPvEqwew+EcR3nTC/V/74eeFs7bknqL8jGBDVt4VELQAAAABJRU5ErkJggg==\n",
       "\" style=\"display:inline;vertical-align:middle;\" /></a></span>"
      ],
      "text/plain": [
       "|- (x in ComplexNonZero) in BOOLEAN"
      ]
     },
     "metadata": {},
     "output_type": "display_data"
    }
   ],
   "source": [
    "InSet(InSet(x, ComplexNonZero), Boolean).prove()"
   ]
  },
  {
   "cell_type": "code",
   "execution_count": 4,
   "metadata": {},
   "outputs": [
    {
     "data": {
      "text/html": [
       "<span style=\"font-size:20px;\"><a class=\"ProveItLink\" href=\"../__pv_it/theorems/577412f0cc17bcff3fbe7f20aeda2716326d2f200/expr.ipynb\"><img src=\"data:image/png;base64,iVBORw0KGgoAAAANSUhEUgAAAEkAAAAVCAMAAAA94TNiAAAAOVBMVEX///8AAAAAAAAAAAAAAAAA\n",
       "AAAAAAAAAAAAAAAAAAAAAAAAAAAAAAAAAAAAAAAAAAAAAAAAAAAAAAACXHtMAAAAEnRSTlMAEHar\n",
       "MolUmd1mIs3vRLvt5cmVldCcAAAACXBIWXMAAA7EAAAOxAGVKw4bAAABMUlEQVQ4y61UCW7EMAgE\n",
       "fOCTbf3/xxbn2CS7TptVihSkWDDyDIMBbgXCP4WrU3bkbgIl03MkgCr3kEzquVhNLd0BqhOn1LpY\n",
       "xX8grpOQMyWr/Sw9HvpFsBNSiJeByBQtRm7C68ncPCMVugrENHOBuCLhIvLMrl1lZxlk8Y7hmd3X\n",
       "t0zs/lCcJGjkbUoI65xxIWWetd0F5mQomV7MK5D45WSrUGfy9IdEBq1zT6Yp47sF7dHGfqQw98EQ\n",
       "cFgP8htnhanHMecBUNS+qPqbeF6l1OrhEr6OxtKvtW+2JSwhe52uLenBVzjYRtlm9/sCdTfgU+Yw\n",
       "qNj8BPVsnaSCKX2WsDfIwOOLZTifIPlmkRWp7uye/cirmROgD3y64qxX8Bz3zWik4uAtKC1w+vjp\n",
       "kcO2XIgf+gQIl8gs3A8AAAAASUVORK5CYII=\n",
       "\" style=\"display:inline;vertical-align:middle;\" /></a> <a class=\"ProveItLink\" href=\"../__pv_it/demonstrations/eaf4063419c4890620a63793b93783b3281536750/proof.ipynb\" style=\"text-decoration: none\">&nbsp;&#x22A2;&nbsp;&nbsp;</a><a class=\"ProveItLink\" href=\"../../real_numbers/__pv_it/theorems/d2d428f1124ef55277523143f9436098e99f174d0/expr.ipynb\"><img src=\"data:image/png;base64,iVBORw0KGgoAAAANSUhEUgAAADEAAAAUCAMAAAATIyWrAAAAPFBMVEX///8AAAAAAAAAAAAAAAAA\n",
       "AAAAAAAAAAAAAAAAAAAAAAAAAAAAAAAAAAAAAAAAAAAAAAAAAAAAAAAAAAAo1xBWAAAAE3RSTlMA\n",
       "EHarMolUmd1mIs3vRLvn9enz6YVhIgAAAAlwSFlzAAAOxAAADsQBlSsOGwAAANxJREFUKM+VktsS\n",
       "wiAMRJNwCdiCF/7/X03AKm0Vhzy0k4HlZBcARsUIc2Vz3zlHfPmjyLZrFg+AYSyxpmtiqJw8RvQH\n",
       "5ir3ZeQs9QgoXLFFZgMkMmid8wfF0iNwU0SNEIAMAYct0lDretPvxrkU1xQkluSoKOOZOEB8FPLT\n",
       "BHk5u+Bdi02RlKG10kmxHJJvPnxpblORZcTex/3R3LzzyvUmdHzMCcyql7NHHHOPK7zG98UiS5d2\n",
       "4Xo+jRn0laziGplINkQ/RuhGR8b+um7vJl/5N8S44jQizCLAjhafZdYF4iwDbD4AAAAASUVORK5C\n",
       "YII=\n",
       "\" style=\"display:inline;vertical-align:middle;\" /></a></span>"
      ],
      "text/plain": [
       "{x in ComplexNonZero} |- x != 0"
      ]
     },
     "metadata": {},
     "output_type": "display_data"
    }
   ],
   "source": [
    "NotEquals(x, zero).prove(assumptions=[InSet(x, ComplexNonZero)], \n",
    "                         conclude_automation=False) # should be side-effect"
   ]
  },
  {
   "cell_type": "code",
   "execution_count": 5,
   "metadata": {},
   "outputs": [
    {
     "data": {
      "text/html": [
       "<span style=\"font-size:20px;\"><a class=\"ProveItLink\" href=\"../__pv_it/theorems/577412f0cc17bcff3fbe7f20aeda2716326d2f200/expr.ipynb\"><img src=\"data:image/png;base64,iVBORw0KGgoAAAANSUhEUgAAAEkAAAAVCAMAAAA94TNiAAAAOVBMVEX///8AAAAAAAAAAAAAAAAA\n",
       "AAAAAAAAAAAAAAAAAAAAAAAAAAAAAAAAAAAAAAAAAAAAAAAAAAAAAAACXHtMAAAAEnRSTlMAEHar\n",
       "MolUmd1mIs3vRLvt5cmVldCcAAAACXBIWXMAAA7EAAAOxAGVKw4bAAABMUlEQVQ4y61UCW7EMAgE\n",
       "fOCTbf3/xxbn2CS7TptVihSkWDDyDIMBbgXCP4WrU3bkbgIl03MkgCr3kEzquVhNLd0BqhOn1LpY\n",
       "xX8grpOQMyWr/Sw9HvpFsBNSiJeByBQtRm7C68ncPCMVugrENHOBuCLhIvLMrl1lZxlk8Y7hmd3X\n",
       "t0zs/lCcJGjkbUoI65xxIWWetd0F5mQomV7MK5D45WSrUGfy9IdEBq1zT6Yp47sF7dHGfqQw98EQ\n",
       "cFgP8htnhanHMecBUNS+qPqbeF6l1OrhEr6OxtKvtW+2JSwhe52uLenBVzjYRtlm9/sCdTfgU+Yw\n",
       "qNj8BPVsnaSCKX2WsDfIwOOLZTifIPlmkRWp7uye/cirmROgD3y64qxX8Bz3zWik4uAtKC1w+vjp\n",
       "kcO2XIgf+gQIl8gs3A8AAAAASUVORK5CYII=\n",
       "\" style=\"display:inline;vertical-align:middle;\" /></a> <a class=\"ProveItLink\" href=\"../__pv_it/demonstrations/bba17d5141b1b2ac19f3fb92e378248e20da3fd20/proof.ipynb\" style=\"text-decoration: none\">&nbsp;&#x22A2;&nbsp;&nbsp;</a><a class=\"ProveItLink\" href=\"../__pv_it/theorems/c5f7c7af5e98a77df62ad9c27b71c6724bff07be0/expr.ipynb\"><img src=\"data:image/png;base64,iVBORw0KGgoAAAANSUhEUgAAADQAAAAQBAMAAACra0H4AAAAMFBMVEX///8AAAAAAAAAAAAAAAAA\n",
       "AAAAAAAAAAAAAAAAAAAAAAAAAAAAAAAAAAAAAAAAAAAv3aB7AAAAD3RSTlMAEHarMolUmd1mIs3v\n",
       "RLtmgJDEAAAACXBIWXMAAA7EAAAOxAGVKw4bAAAA0klEQVQY02NgwAIY47o3LQnAJsOgfJJB/F8B\n",
       "Nhl2XaCOeVil3PkEGBiYUaT0Ojo2gGhDPpB9E5BkbitCGQ+WQxlCyiKhCUCaayNUgMvAFcoqYDJi\n",
       "bwDS3AugAiwBNyEMzgWcH5lB5nLDDOYquARVw8AOtpvBpwMIHoDtWgpTxaMApuTg7nnIB2PdX8AI\n",
       "9AcDB1zqOshfDBcY5C7YMLCCBJgUEKFhwACyJt+xhuEaWGQbwu/bF4i1MzCIK7FVJoAFhN8KwEP+\n",
       "fPsClLC7+gISUFAAAPAALk9BTu5+AAAAAElFTkSuQmCC\n",
       "\" style=\"display:inline;vertical-align:middle;\" /></a></span>"
      ],
      "text/plain": [
       "{x in ComplexNonZero} |- x in Complex"
      ]
     },
     "metadata": {},
     "output_type": "display_data"
    }
   ],
   "source": [
    "InSet(x, Complex).prove(assumptions=[InSet(x, ComplexNonZero)])"
   ]
  },
  {
   "cell_type": "code",
   "execution_count": 6,
   "metadata": {},
   "outputs": [
    {
     "data": {
      "text/html": [
       "<span style=\"font-size:20px;\"><a class=\"ProveItLink\" href=\"../__pv_it/theorems/c5f7c7af5e98a77df62ad9c27b71c6724bff07be0/expr.ipynb\"><img src=\"data:image/png;base64,iVBORw0KGgoAAAANSUhEUgAAADQAAAAQBAMAAACra0H4AAAAMFBMVEX///8AAAAAAAAAAAAAAAAA\n",
       "AAAAAAAAAAAAAAAAAAAAAAAAAAAAAAAAAAAAAAAAAAAv3aB7AAAAD3RSTlMAEHarMolUmd1mIs3v\n",
       "RLtmgJDEAAAACXBIWXMAAA7EAAAOxAGVKw4bAAAA0klEQVQY02NgwAIY47o3LQnAJsOgfJJB/F8B\n",
       "Nhl2XaCOeVil3PkEGBiYUaT0Ojo2gGhDPpB9E5BkbitCGQ+WQxlCyiKhCUCaayNUgMvAFcoqYDJi\n",
       "bwDS3AugAiwBNyEMzgWcH5lB5nLDDOYquARVw8AOtpvBpwMIHoDtWgpTxaMApuTg7nnIB2PdX8AI\n",
       "9AcDB1zqOshfDBcY5C7YMLCCBJgUEKFhwACyJt+xhuEaWGQbwu/bF4i1MzCIK7FVJoAFhN8KwEP+\n",
       "fPsClLC7+gISUFAAAPAALk9BTu5+AAAAAElFTkSuQmCC\n",
       "\" style=\"display:inline;vertical-align:middle;\" /></a>, <a class=\"ProveItLink\" href=\"../../real_numbers/__pv_it/theorems/d2d428f1124ef55277523143f9436098e99f174d0/expr.ipynb\"><img src=\"data:image/png;base64,iVBORw0KGgoAAAANSUhEUgAAADEAAAAUCAMAAAATIyWrAAAAPFBMVEX///8AAAAAAAAAAAAAAAAA\n",
       "AAAAAAAAAAAAAAAAAAAAAAAAAAAAAAAAAAAAAAAAAAAAAAAAAAAAAAAAAAAo1xBWAAAAE3RSTlMA\n",
       "EHarMolUmd1mIs3vRLvn9enz6YVhIgAAAAlwSFlzAAAOxAAADsQBlSsOGwAAANxJREFUKM+VktsS\n",
       "wiAMRJNwCdiCF/7/X03AKm0Vhzy0k4HlZBcARsUIc2Vz3zlHfPmjyLZrFg+AYSyxpmtiqJw8RvQH\n",
       "5ir3ZeQs9QgoXLFFZgMkMmid8wfF0iNwU0SNEIAMAYct0lDretPvxrkU1xQkluSoKOOZOEB8FPLT\n",
       "BHk5u+Bdi02RlKG10kmxHJJvPnxpblORZcTex/3R3LzzyvUmdHzMCcyql7NHHHOPK7zG98UiS5d2\n",
       "4Xo+jRn0laziGplINkQ/RuhGR8b+um7vJl/5N8S44jQizCLAjhafZdYF4iwDbD4AAAAASUVORK5C\n",
       "YII=\n",
       "\" style=\"display:inline;vertical-align:middle;\" /></a> <a class=\"ProveItLink\" href=\"../__pv_it/demonstrations/3f1b46b853b3cc2b500c4d77c3bba9bc22f1bf340/proof.ipynb\" style=\"text-decoration: none\">&nbsp;&#x22A2;&nbsp;&nbsp;</a><a class=\"ProveItLink\" href=\"../__pv_it/theorems/577412f0cc17bcff3fbe7f20aeda2716326d2f200/expr.ipynb\"><img src=\"data:image/png;base64,iVBORw0KGgoAAAANSUhEUgAAAEkAAAAVCAMAAAA94TNiAAAAOVBMVEX///8AAAAAAAAAAAAAAAAA\n",
       "AAAAAAAAAAAAAAAAAAAAAAAAAAAAAAAAAAAAAAAAAAAAAAAAAAAAAAACXHtMAAAAEnRSTlMAEHar\n",
       "MolUmd1mIs3vRLvt5cmVldCcAAAACXBIWXMAAA7EAAAOxAGVKw4bAAABMUlEQVQ4y61UCW7EMAgE\n",
       "fOCTbf3/xxbn2CS7TptVihSkWDDyDIMBbgXCP4WrU3bkbgIl03MkgCr3kEzquVhNLd0BqhOn1LpY\n",
       "xX8grpOQMyWr/Sw9HvpFsBNSiJeByBQtRm7C68ncPCMVugrENHOBuCLhIvLMrl1lZxlk8Y7hmd3X\n",
       "t0zs/lCcJGjkbUoI65xxIWWetd0F5mQomV7MK5D45WSrUGfy9IdEBq1zT6Yp47sF7dHGfqQw98EQ\n",
       "cFgP8htnhanHMecBUNS+qPqbeF6l1OrhEr6OxtKvtW+2JSwhe52uLenBVzjYRtlm9/sCdTfgU+Yw\n",
       "qNj8BPVsnaSCKX2WsDfIwOOLZTifIPlmkRWp7uye/cirmROgD3y64qxX8Bz3zWik4uAtKC1w+vjp\n",
       "kcO2XIgf+gQIl8gs3A8AAAAASUVORK5CYII=\n",
       "\" style=\"display:inline;vertical-align:middle;\" /></a></span>"
      ],
      "text/plain": [
       "{x in Complex, x != 0} |- x in ComplexNonZero"
      ]
     },
     "metadata": {},
     "output_type": "display_data"
    }
   ],
   "source": [
    "InSet(x, ComplexNonZero).prove(assumptions=[InSet(x, Complex), NotEquals(x, zero)])"
   ]
  },
  {
   "cell_type": "code",
   "execution_count": 7,
   "metadata": {},
   "outputs": [
    {
     "data": {
      "text/html": [
       "<span style=\"font-size:20px;\"><a class=\"ProveItLink\" href=\"../../real_numbers/__pv_it/theorems/e8ba26066a2cd9c7bb2e9e63a3891f50edb516900/expr.ipynb\"><img src=\"data:image/png;base64,iVBORw0KGgoAAAANSUhEUgAAAEkAAAAVCAMAAAA94TNiAAAAOVBMVEX///8AAAAAAAAAAAAAAAAA\n",
       "AAAAAAAAAAAAAAAAAAAAAAAAAAAAAAAAAAAAAAAAAAAAAAAAAAAAAAACXHtMAAAAEnRSTlMAEHar\n",
       "MolUmd1mIs3vRLvt5cmVldCcAAAACXBIWXMAAA7EAAAOxAGVKw4bAAABM0lEQVQ4y61UiXKFIAxM\n",
       "uEIIpK3//7EFPOprYfSNzYxxVLJmNwsAjwLhn8KXnr3xD4GSbZkNQNFnSDa1nF1NS3oCVDqntDSx\n",
       "crhXw5JVF4lZuT+TtvioF4PrSJHv/l+7KMWyHuMya/GKlM0bSL7fnN0NsIm8slvCm0iUQDZ2n1/a\n",
       "2V0objTWkBHS1srRG5jmAjsZihgc92QRt5ofvZozqT+hMRad9wfTJDhh5zTISiOMFKbaoDVAcX8h\n",
       "aahTlrjEvVkZeaXWcdXfHo6QieLMuH8KZbCmKU/nYpfjFvqLnSJfGfDFV6gzFzg6Cz2cVXMDHmvi\n",
       "1E/k0nzToxawuc0SzgYZI9V2zZRfWBxSRSonu0sYIVEbD4OWWU9UWwjE52K0WvDvWaBVA1W5v8XW\n",
       "o0dfd8t1fAOUwApBjPSIDgAAAABJRU5ErkJggg==\n",
       "\" style=\"display:inline;vertical-align:middle;\" /></a> <a class=\"ProveItLink\" href=\"../__pv_it/demonstrations/fbf2213e1ae7b6abdaf98db16b28b95c7101f5150/proof.ipynb\" style=\"text-decoration: none\">&nbsp;&#x22A2;&nbsp;&nbsp;</a><a class=\"ProveItLink\" href=\"../__pv_it/theorems/577412f0cc17bcff3fbe7f20aeda2716326d2f200/expr.ipynb\"><img src=\"data:image/png;base64,iVBORw0KGgoAAAANSUhEUgAAAEkAAAAVCAMAAAA94TNiAAAAOVBMVEX///8AAAAAAAAAAAAAAAAA\n",
       "AAAAAAAAAAAAAAAAAAAAAAAAAAAAAAAAAAAAAAAAAAAAAAAAAAAAAAACXHtMAAAAEnRSTlMAEHar\n",
       "MolUmd1mIs3vRLvt5cmVldCcAAAACXBIWXMAAA7EAAAOxAGVKw4bAAABMUlEQVQ4y61UCW7EMAgE\n",
       "fOCTbf3/xxbn2CS7TptVihSkWDDyDIMBbgXCP4WrU3bkbgIl03MkgCr3kEzquVhNLd0BqhOn1LpY\n",
       "xX8grpOQMyWr/Sw9HvpFsBNSiJeByBQtRm7C68ncPCMVugrENHOBuCLhIvLMrl1lZxlk8Y7hmd3X\n",
       "t0zs/lCcJGjkbUoI65xxIWWetd0F5mQomV7MK5D45WSrUGfy9IdEBq1zT6Yp47sF7dHGfqQw98EQ\n",
       "cFgP8htnhanHMecBUNS+qPqbeF6l1OrhEr6OxtKvtW+2JSwhe52uLenBVzjYRtlm9/sCdTfgU+Yw\n",
       "qNj8BPVsnaSCKX2WsDfIwOOLZTifIPlmkRWp7uye/cirmROgD3y64qxX8Bz3zWik4uAtKC1w+vjp\n",
       "kcO2XIgf+gQIl8gs3A8AAAAASUVORK5CYII=\n",
       "\" style=\"display:inline;vertical-align:middle;\" /></a></span>"
      ],
      "text/plain": [
       "{x in RealNonZero} |- x in ComplexNonZero"
      ]
     },
     "metadata": {},
     "output_type": "display_data"
    }
   ],
   "source": [
    "InSet(x, ComplexNonZero).prove(assumptions=[InSet(x, RealNonZero)])"
   ]
  },
  {
   "cell_type": "markdown",
   "metadata": {},
   "source": [
    "###  `ComplexSet.abs_both_sides_of_equals()`\n",
    "\n",
    "Applying absolute value to both sides of an equality."
   ]
  },
  {
   "cell_type": "code",
   "execution_count": 8,
   "metadata": {},
   "outputs": [
    {
     "data": {
      "text/html": [
       "<strong id=\"a_equals_b\">a_equals_b:</strong> <a class=\"ProveItLink\" href=\"../__pv_it/demonstrations/384827447be87f00f421d610176770bb4a5d2c830/expr.ipynb\"><img src=\"data:image/png;base64,iVBORw0KGgoAAAANSUhEUgAAADAAAAAOBAMAAACbXIJpAAAAMFBMVEX///8AAAAAAAAAAAAAAAAA\n",
       "AAAAAAAAAAAAAAAAAAAAAAAAAAAAAAAAAAAAAAAAAAAv3aB7AAAAD3RSTlMAIquJdkTvuxBmmd1U\n",
       "zTKBpmoTAAAACXBIWXMAAA7EAAAOxAGVKw4bAAAAkklEQVQY02NgwALasxlwgFu4JP7gEGf9gUOC\n",
       "eQOIZFR2dECT4FVxOsDAECbADta5ejcIbAIx+29wfGTgyGTg2oCm43wDQwoD1wcGbgM0ibUMDJ8Z\n",
       "2AoY+gPQJDYzsP5h6HdgmM+AZscfBq4fDP0HGHR5BFB1/GNom8DA7sCziwvNKE2GKgYGDhU7IT80\n",
       "iSarCQwAeCknwpP1M+UAAAAASUVORK5CYII=\n",
       "\" style=\"display:inline;vertical-align:middle;\" /></a><br>"
      ],
      "text/plain": [
       "<IPython.core.display.HTML object>"
      ]
     },
     "metadata": {},
     "output_type": "display_data"
    }
   ],
   "source": [
    "# some example products of exponentials\n",
    "a_equals_b = Equals(a, b)"
   ]
  },
  {
   "cell_type": "code",
   "execution_count": 9,
   "metadata": {},
   "outputs": [
    {
     "data": {
      "text/html": [
       "<span style=\"font-size:20px;\"><a class=\"ProveItLink\" href=\"../__pv_it/demonstrations/80a75f44d1804611e55ae41a423e10a6d550c4f50/expr.ipynb\"><img src=\"data:image/png;base64,iVBORw0KGgoAAAANSUhEUgAAADMAAAAQBAMAAABJt1qBAAAAMFBMVEX///8AAAAAAAAAAAAAAAAA\n",
       "AAAAAAAAAAAAAAAAAAAAAAAAAAAAAAAAAAAAAAAAAAAv3aB7AAAAD3RSTlMAIquJdkTvuxBmmd1U\n",
       "zTKBpmoTAAAACXBIWXMAAA7EAAAOxAGVKw4bAAAA0ElEQVQY02NgwAKaq+86PsYmwcCiNoFjfRVW\n",
       "qSXBDAycWKX4FlQASS0UMffduy8AKaaGAiDZiSwT6wGh2RkXQEUYlR0dwPQNqIAQnwGUFSbA/gNE\n",
       "8wpABR6zToAwODIZuDaApWAGS7E6QBhcHxi4wQY82w0EBWC7oAayFTD0B4AY7TBd7GAXAkG/A8N8\n",
       "MIMbJsUK9hcrUOoAgy4PyAUsDvDQCAISa4HaHXh2cYFF7sDDsHYhx2mg3zhU7IT8wCJNpQ2wkC/7\n",
       "vRA18IKrwQEFAwCqvi28/xxvKQAAAABJRU5ErkJggg==\n",
       "\" style=\"display:inline;vertical-align:middle;\" /></a>, <a class=\"ProveItLink\" href=\"../__pv_it/demonstrations/15b081bab54b571767e806f880f01a23d064d4740/expr.ipynb\"><img src=\"data:image/png;base64,iVBORw0KGgoAAAANSUhEUgAAADEAAAAQBAMAAABNQoq8AAAAMFBMVEX///8AAAAAAAAAAAAAAAAA\n",
       "AAAAAAAAAAAAAAAAAAAAAAAAAAAAAAAAAAAAAAAAAAAv3aB7AAAAD3RSTlMAELvv3c2ZVESJq3Yi\n",
       "MmZ3LnoBAAAACXBIWXMAAA7EAAAOxAGVKw4bAAAA2UlEQVQY02NgwASSKqF7bjIwMCo7oElwL37A\n",
       "mK8GZLAmoMlkdzIw8IFk+AtQJXgTFIHkMiDuF4AKbXJxCQBSXAIKQFIOiKdAJVo3QmgmHpjxUbuX\n",
       "gyieQCj/FO8ECIPxq4D8AZBDDkBlbnI8gDDYPzIwbwDJwFxwjGMDhMEWwMAP0n7ZBQgUwPZATWOZ\n",
       "wNAPcrcQTA8T2G0Q7+SD3M0Ck+EA+4cDKHOB0Q4cJhvgYdAFJFKBHnvABHF/ODzcVHMYS4BijCvz\n",
       "IAJSGrDAkFT+koMSYJ0q4NCBAQD6uylQEVfDpgAAAABJRU5ErkJggg==\n",
       "\" style=\"display:inline;vertical-align:middle;\" /></a>, <a class=\"ProveItLink\" href=\"../__pv_it/demonstrations/384827447be87f00f421d610176770bb4a5d2c830/expr.ipynb\"><img src=\"data:image/png;base64,iVBORw0KGgoAAAANSUhEUgAAADAAAAAOBAMAAACbXIJpAAAAMFBMVEX///8AAAAAAAAAAAAAAAAA\n",
       "AAAAAAAAAAAAAAAAAAAAAAAAAAAAAAAAAAAAAAAAAAAv3aB7AAAAD3RSTlMAIquJdkTvuxBmmd1U\n",
       "zTKBpmoTAAAACXBIWXMAAA7EAAAOxAGVKw4bAAAAkklEQVQY02NgwALasxlwgFu4JP7gEGf9gUOC\n",
       "eQOIZFR2dECT4FVxOsDAECbADta5ejcIbAIx+29wfGTgyGTg2oCm43wDQwoD1wcGbgM0ibUMDJ8Z\n",
       "2AoY+gPQJDYzsP5h6HdgmM+AZscfBq4fDP0HGHR5BFB1/GNom8DA7sCziwvNKE2GKgYGDhU7IT80\n",
       "iSarCQwAeCknwpP1M+UAAAAASUVORK5CYII=\n",
       "\" style=\"display:inline;vertical-align:middle;\" /></a> <a class=\"ProveItLink\" href=\"../__pv_it/demonstrations/0ebe18718dc36772fc728b3e05908ae5865226190/proof.ipynb\" style=\"text-decoration: none\">&nbsp;&#x22A2;&nbsp;&nbsp;</a><a class=\"ProveItLink\" href=\"../__pv_it/demonstrations/6ee560e3b2e42898f94860f4efdf8a7af1844d2d0/expr.ipynb\"><img src=\"data:image/png;base64,iVBORw0KGgoAAAANSUhEUgAAAEMAAAAVBAMAAADvM06qAAAAMFBMVEX///8AAAAAAAAAAAAAAAAA\n",
       "AAAAAAAAAAAAAAAAAAAAAAAAAAAAAAAAAAAAAAAAAAAv3aB7AAAAD3RSTlMAIolEdjKr77sQZpnd\n",
       "VM0QaojEAAAACXBIWXMAAA7EAAAOxAGVKw4bAAAAxklEQVQoz2MQYIAARgY0wAinlKEiTAZoSqAC\n",
       "QAqPEs72A4SUMPBtIKiE/wJBJfYTCCrRgTuXMcnRAauSZy65UCXmAhw/oUr2nAGBY1Af/ZswXwCs\n",
       "hLOKgfsANlN4fzKwO4CVcH9g4FHApoT7AQO/AlgJewPDfANsSoAa7S+Alcx3YFjPgM0twGDZPwGi\n",
       "5AJDHq8AFlP4A4DOBCvhcOA9zY3NIrYFHBsgSjhTVMVcsUZj0i6CoUs4MVBXiStUhCUATQlUgCUA\n",
       "AO0VNp1GPGScAAAAAElFTkSuQmCC\n",
       "\" style=\"display:inline;vertical-align:middle;\" /></a></span>"
      ],
      "text/plain": [
       "{a in Complex, b in Complex, a = b} |- |a| = |b|"
      ]
     },
     "metadata": {},
     "output_type": "display_data"
    }
   ],
   "source": [
    "Complex.abs_both_sides_of_equals(\n",
    "    a_equals_b, assumptions=[InSet(a, Complex), InSet(b, Complex), Equals(a, b)])"
   ]
  },
  {
   "cell_type": "code",
   "execution_count": null,
   "metadata": {},
   "outputs": [],
   "source": []
  },
  {
   "cell_type": "code",
   "execution_count": 10,
   "metadata": {},
   "outputs": [],
   "source": [
    "%end demonstrations"
   ]
  },
  {
   "cell_type": "code",
   "execution_count": null,
   "metadata": {},
   "outputs": [],
   "source": []
  }
 ],
 "metadata": {
  "kernelspec": {
   "display_name": "Python 3",
   "language": "python",
   "name": "python3"
  }
 },
 "nbformat": 4,
 "nbformat_minor": 0
}