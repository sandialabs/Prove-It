{
 "cells": [
  {
   "cell_type": "code",
   "execution_count": null,
   "metadata": {},
   "outputs": [],
   "source": [
    "from proveit.basiclogic import And, Or, NotEquals, In, Singleton, Difference\n",
    "from proveit.numbers.common import *\n",
    "from proveit.basiclogic import Forall, Exists, Equals\n",
    "from proveit.numbers import LessThan, LessThanEquals, greaterThan, greaterThanEquals, frac, DiscreteContiguousSet\n",
    "from proveit.numbers import Add, subtract, Multiply, Divide, frac, Abs, Exponentiate, Neg, Summation\n",
    "from proveit.multi_expression import Etcetera"
   ]
  },
  {
   "cell_type": "code",
   "execution_count": null,
   "metadata": {},
   "outputs": [],
   "source": [
    "assumptions={In(x, Complex), In(y, Complex), In(z, Complex), In(w, Complex), In(v, Complex),\n",
    "            NotEquals(w, zero), In(a, Integer), In(b, Integer)}"
   ]
  },
  {
   "cell_type": "code",
   "execution_count": null,
   "metadata": {},
   "outputs": [],
   "source": [
    "Multiply(x, y).factor(x, 'left', assumptions=assumptions).proven(assumptions)"
   ]
  },
  {
   "cell_type": "code",
   "execution_count": null,
   "metadata": {},
   "outputs": [],
   "source": [
    "Multiply(x, y).factor(x, 'right', assumptions=assumptions).proven(assumptions)"
   ]
  },
  {
   "cell_type": "code",
   "execution_count": null,
   "metadata": {},
   "outputs": [],
   "source": [
    "Multiply(x, y).factor(y, 'left', assumptions=assumptions).proven(assumptions)"
   ]
  },
  {
   "cell_type": "code",
   "execution_count": null,
   "metadata": {},
   "outputs": [],
   "source": [
    "Multiply(x, y).factor(y, 'right', assumptions=assumptions).proven(assumptions)"
   ]
  },
  {
   "cell_type": "code",
   "execution_count": null,
   "metadata": {},
   "outputs": [],
   "source": [
    "Multiply(x, y, z).factor(x, 'left', assumptions=assumptions).proven(assumptions)"
   ]
  },
  {
   "cell_type": "code",
   "execution_count": null,
   "metadata": {},
   "outputs": [],
   "source": [
    "Multiply(x, y, z).factor(x, 'left', group_remainder=True, assumptions=assumptions).proven(assumptions)"
   ]
  },
  {
   "cell_type": "code",
   "execution_count": null,
   "metadata": {},
   "outputs": [],
   "source": [
    "Multiply(x, y, z).factor(x, 'right', assumptions=assumptions).proven(assumptions)"
   ]
  },
  {
   "cell_type": "code",
   "execution_count": null,
   "metadata": {},
   "outputs": [],
   "source": [
    "Multiply(x, y, z).factor(x, 'right', group_remainder=True, assumptions=assumptions).proven(assumptions)"
   ]
  },
  {
   "cell_type": "code",
   "execution_count": null,
   "metadata": {},
   "outputs": [],
   "source": [
    "Multiply(x, y, z).factor(y, 'left', assumptions=assumptions).proven(assumptions)"
   ]
  },
  {
   "cell_type": "code",
   "execution_count": null,
   "metadata": {},
   "outputs": [],
   "source": [
    "Multiply(x, y, z).factor(y, 'right', assumptions=assumptions).proven(assumptions)"
   ]
  },
  {
   "cell_type": "code",
   "execution_count": null,
   "metadata": {},
   "outputs": [],
   "source": [
    "Multiply(x, y, z).factor(z, 'left', assumptions=assumptions).proven(assumptions)"
   ]
  },
  {
   "cell_type": "code",
   "execution_count": null,
   "metadata": {},
   "outputs": [],
   "source": [
    "Multiply(x, y, z).factor(z, 'right', assumptions=assumptions).proven(assumptions)"
   ]
  },
  {
   "cell_type": "code",
   "execution_count": null,
   "metadata": {},
   "outputs": [],
   "source": [
    "Multiply(x, y, z).factor(Multiply(x, y), 'left', assumptions=assumptions).proven(assumptions)"
   ]
  },
  {
   "cell_type": "code",
   "execution_count": null,
   "metadata": {},
   "outputs": [],
   "source": [
    "Multiply(x, y, z).factor(Multiply(x, y), 'right', assumptions=assumptions).proven(assumptions)"
   ]
  },
  {
   "cell_type": "code",
   "execution_count": null,
   "metadata": {},
   "outputs": [],
   "source": [
    "Multiply(x, y, z).factor(Multiply(y, z), 'left', assumptions=assumptions).proven(assumptions)"
   ]
  },
  {
   "cell_type": "code",
   "execution_count": null,
   "metadata": {},
   "outputs": [],
   "source": [
    "Multiply(x, y, z).factor(Multiply(y, z), 'right', assumptions=assumptions).proven(assumptions)"
   ]
  },
  {
   "cell_type": "code",
   "execution_count": null,
   "metadata": {},
   "outputs": [],
   "source": [
    "Multiply(x, y, z, w).factor(Multiply(x, y), 'left', assumptions=assumptions).proven(assumptions)"
   ]
  },
  {
   "cell_type": "code",
   "execution_count": null,
   "metadata": {},
   "outputs": [],
   "source": [
    "Multiply(x, y, z, w).factor(Multiply(x, y), 'right', assumptions=assumptions).proven(assumptions)"
   ]
  },
  {
   "cell_type": "code",
   "execution_count": null,
   "metadata": {},
   "outputs": [],
   "source": [
    "Multiply(x, y, z, w).factor(Multiply(y, z), 'left', assumptions=assumptions).proven(assumptions)"
   ]
  },
  {
   "cell_type": "code",
   "execution_count": null,
   "metadata": {},
   "outputs": [],
   "source": [
    "Multiply(x, y, z, w).factor(Multiply(y, z), 'right', assumptions=assumptions).proven(assumptions)"
   ]
  },
  {
   "cell_type": "code",
   "execution_count": null,
   "metadata": {},
   "outputs": [],
   "source": [
    "Multiply(x, y, z, w).factor(Multiply(z, w), 'left', assumptions=assumptions).proven(assumptions)"
   ]
  },
  {
   "cell_type": "code",
   "execution_count": null,
   "metadata": {},
   "outputs": [],
   "source": [
    "Multiply(x, y, z, w).factor(Multiply(z, w), 'left', group_remainder=True, assumptions=assumptions).proven(assumptions)"
   ]
  },
  {
   "cell_type": "code",
   "execution_count": null,
   "metadata": {},
   "outputs": [],
   "source": [
    "Multiply(x, y, z, w).factor(Multiply(z, w), 'left', group_factor=False, group_remainder=True, assumptions=assumptions).proven(assumptions)"
   ]
  },
  {
   "cell_type": "code",
   "execution_count": null,
   "metadata": {},
   "outputs": [],
   "source": [
    "Multiply(x, y, z, w).factor(Multiply(z, w), 'right', assumptions=assumptions).proven(assumptions)"
   ]
  },
  {
   "cell_type": "code",
   "execution_count": null,
   "metadata": {},
   "outputs": [],
   "source": [
    "Multiply(x, y, z, w).factor(Multiply(z, w), 'right', group_remainder=True, assumptions=assumptions).proven(assumptions)"
   ]
  },
  {
   "cell_type": "code",
   "execution_count": null,
   "metadata": {},
   "outputs": [],
   "source": [
    "Multiply(x, y, z, w).factor(Multiply(z, w), 'right', group_factor=False, group_remainder=True, assumptions=assumptions).proven(assumptions)"
   ]
  },
  {
   "cell_type": "code",
   "execution_count": null,
   "metadata": {},
   "outputs": [],
   "source": [
    "Multiply(x, y, z, w).factor(Multiply(x, y, z), 'left', assumptions=assumptions).proven(assumptions)"
   ]
  },
  {
   "cell_type": "code",
   "execution_count": null,
   "metadata": {},
   "outputs": [],
   "source": [
    "Multiply(x, y, z, w).factor(Multiply(x, y, z), 'right', assumptions=assumptions).proven(assumptions)"
   ]
  },
  {
   "cell_type": "code",
   "execution_count": null,
   "metadata": {},
   "outputs": [],
   "source": [
    "Multiply(x, y, z, w).factor(Multiply(y, z, w), 'left', assumptions=assumptions).proven(assumptions)"
   ]
  },
  {
   "cell_type": "code",
   "execution_count": null,
   "metadata": {},
   "outputs": [],
   "source": [
    "Multiply(x, y, z, w).factor(Multiply(y, z, w), 'right', assumptions=assumptions).proven(assumptions)"
   ]
  },
  {
   "cell_type": "code",
   "execution_count": null,
   "metadata": {},
   "outputs": [],
   "source": [
    "frac(Multiply(x, y, z), w).factor(x, 'left', assumptions=assumptions).proven(assumptions)"
   ]
  },
  {
   "cell_type": "code",
   "execution_count": null,
   "metadata": {},
   "outputs": [],
   "source": [
    "frac(Multiply(x, y, z), w).factor(z, 'left', assumptions=assumptions).proven(assumptions)"
   ]
  },
  {
   "cell_type": "code",
   "execution_count": null,
   "metadata": {},
   "outputs": [],
   "source": [
    "frac(Multiply(x, y, z), w).factor(x, 'right', assumptions=assumptions).proven(assumptions)"
   ]
  },
  {
   "cell_type": "code",
   "execution_count": null,
   "metadata": {},
   "outputs": [],
   "source": [
    "frac(Multiply(x, y, z), w).factor(Multiply(x, y), 'left', assumptions=assumptions).proven(assumptions)"
   ]
  },
  {
   "cell_type": "code",
   "execution_count": null,
   "metadata": {},
   "outputs": [],
   "source": [
    "frac(Multiply(x, y, z), w).factor(Multiply(x, y), 'left', group_factor=True, assumptions=assumptions).proven(assumptions)"
   ]
  },
  {
   "cell_type": "code",
   "execution_count": null,
   "metadata": {},
   "outputs": [],
   "source": [
    "frac(Multiply(x, y, z), w).factor(Multiply(x, y), 'right', assumptions=assumptions).proven(assumptions)"
   ]
  },
  {
   "cell_type": "code",
   "execution_count": null,
   "metadata": {},
   "outputs": [],
   "source": [
    "frac(Multiply(x, y, z), w).factor(Multiply(x, y), 'right', group_factor=True, assumptions=assumptions).proven(assumptions)"
   ]
  },
  {
   "cell_type": "code",
   "execution_count": null,
   "metadata": {},
   "outputs": [],
   "source": [
    "frac(Multiply(x, y, z), w).factor(Multiply(y, z), 'left', assumptions=assumptions).proven(assumptions)"
   ]
  },
  {
   "cell_type": "code",
   "execution_count": null,
   "metadata": {},
   "outputs": [],
   "source": [
    "frac(Multiply(x, y, z), w).factor(Multiply(y, z), 'left', group_factor=True, assumptions=assumptions).proven(assumptions)"
   ]
  },
  {
   "cell_type": "code",
   "execution_count": null,
   "metadata": {},
   "outputs": [],
   "source": [
    "frac(Multiply(x, y, z), w).factor(Multiply(y, z), 'right', assumptions=assumptions).proven(assumptions)"
   ]
  },
  {
   "cell_type": "code",
   "execution_count": null,
   "metadata": {},
   "outputs": [],
   "source": [
    "frac(Multiply(x, y, z), w).factor(Multiply(y, z), 'right', group_factor=True, assumptions=assumptions).proven(assumptions)"
   ]
  },
  {
   "cell_type": "code",
   "execution_count": null,
   "metadata": {},
   "outputs": [],
   "source": [
    "frac(Multiply(x, y, z), w).factor(z, 'right', assumptions=assumptions).proven(assumptions)"
   ]
  },
  {
   "cell_type": "code",
   "execution_count": null,
   "metadata": {},
   "outputs": [],
   "source": [
    "frac(Multiply(x, y, z), Multiply(w, v)).factor(Fraction(y, v), 'left', assumptions=assumptions).proven(assumptions)"
   ]
  },
  {
   "cell_type": "code",
   "execution_count": null,
   "metadata": {},
   "outputs": [],
   "source": [
    "frac(Multiply(x, y, z), Multiply(w, v)).factor(Fraction(y, v), 'right', assumptions=assumptions).proven(assumptions)"
   ]
  },
  {
   "cell_type": "code",
   "execution_count": null,
   "metadata": {},
   "outputs": [],
   "source": [
    "frac(Multiply(x, y, z), Multiply(w, v)).factor(Fraction(x, w), 'left', assumptions=assumptions).proven(assumptions)"
   ]
  },
  {
   "cell_type": "code",
   "execution_count": null,
   "metadata": {},
   "outputs": [],
   "source": [
    "frac(Multiply(x, y, z), Multiply(w, v)).factor(Fraction(x, w), 'right', assumptions=assumptions).proven(assumptions)"
   ]
  },
  {
   "cell_type": "code",
   "execution_count": null,
   "metadata": {},
   "outputs": [],
   "source": [
    "frac(x, Multiply(w, y, z)).factor(Fraction(one, z), 'left', assumptions=assumptions).proven(assumptions)"
   ]
  },
  {
   "cell_type": "code",
   "execution_count": null,
   "metadata": {},
   "outputs": [],
   "source": [
    "frac(x, Multiply(w, y, z)).factor(Fraction(one, z), 'right', assumptions=assumptions).proven(assumptions)"
   ]
  },
  {
   "cell_type": "code",
   "execution_count": null,
   "metadata": {},
   "outputs": [],
   "source": [
    "frac(x, Multiply(w, y, z)).factor(Fraction(one, y), 'right', assumptions=assumptions).proven(assumptions)"
   ]
  },
  {
   "cell_type": "code",
   "execution_count": null,
   "metadata": {},
   "outputs": [],
   "source": [
    "Neg(Multiply(x, y, z)).factor(y, 'right', assumptions=assumptions).proven(assumptions)"
   ]
  },
  {
   "cell_type": "code",
   "execution_count": null,
   "metadata": {},
   "outputs": [],
   "source": [
    "Neg(Multiply(x, y, z)).factor(y, 'left', assumptions=assumptions).proven(assumptions)"
   ]
  },
  {
   "cell_type": "code",
   "execution_count": null,
   "metadata": {},
   "outputs": [],
   "source": [
    "Neg(Multiply(x, y, z)).factor(Neg(y), 'left', assumptions=assumptions).proven(assumptions)"
   ]
  },
  {
   "cell_type": "code",
   "execution_count": null,
   "metadata": {},
   "outputs": [],
   "source": [
    "Neg(Multiply(x, y, z)).factor(Neg(y), 'right', assumptions=assumptions).proven(assumptions)"
   ]
  },
  {
   "cell_type": "code",
   "execution_count": null,
   "metadata": {},
   "outputs": [],
   "source": [
    "Neg(Multiply(x, y, z)).factor(z, 'left', assumptions=assumptions).proven(assumptions)"
   ]
  },
  {
   "cell_type": "code",
   "execution_count": null,
   "metadata": {},
   "outputs": [],
   "source": [
    "Neg(Multiply(x, y, z)).factor(Neg(z), 'left', assumptions=assumptions).proven(assumptions)"
   ]
  },
  {
   "cell_type": "code",
   "execution_count": null,
   "metadata": {},
   "outputs": [],
   "source": [
    "Neg(Multiply(x, y, z)).factor(Neg(x), 'left', assumptions=assumptions).proven(assumptions)"
   ]
  },
  {
   "cell_type": "code",
   "execution_count": null,
   "metadata": {},
   "outputs": [],
   "source": [
    "Neg(Multiply(x, y, z)).factor(Neg(x), 'right', assumptions=assumptions).proven(assumptions)"
   ]
  },
  {
   "cell_type": "code",
   "execution_count": null,
   "metadata": {},
   "outputs": [],
   "source": [
    "Add(Multiply(a, b, x), Multiply(y, a, b), Multiply(z, a, b)).factor(Multiply(a, b), 'left', group_factor=False, assumptions=assumptions).proven(assumptions)"
   ]
  },
  {
   "cell_type": "code",
   "execution_count": null,
   "metadata": {},
   "outputs": [],
   "source": [
    "Add(Multiply(a, b, x), Multiply(y, a, b), Multiply(z, a, b)).factor(Multiply(a, b), 'left', group_factor=True, assumptions=assumptions).proven(assumptions)"
   ]
  },
  {
   "cell_type": "code",
   "execution_count": null,
   "metadata": {},
   "outputs": [],
   "source": [
    "Add(Multiply(a, b, x), Multiply(y, a, b), Multiply(z, a, b)).factor(Multiply(a, b), 'right', group_factor=False, assumptions=assumptions).proven(assumptions)"
   ]
  },
  {
   "cell_type": "code",
   "execution_count": null,
   "metadata": {},
   "outputs": [],
   "source": [
    "Add(Multiply(a, b, x), Multiply(y, a, b), Multiply(z, a, b)).factor(Multiply(a, b), 'right', group_factor=True, assumptions=assumptions).proven(assumptions)"
   ]
  },
  {
   "cell_type": "code",
   "execution_count": null,
   "metadata": {},
   "outputs": [],
   "source": [
    "subtract(Multiply(x, y), Multiply(x, z)).factor(x, 'left', assumptions=assumptions).proven(assumptions)"
   ]
  },
  {
   "cell_type": "code",
   "execution_count": null,
   "metadata": {},
   "outputs": [],
   "source": [
    "subtract(Multiply(x, y), Multiply(x, z)).factor(x, 'right', assumptions=assumptions).proven(assumptions)"
   ]
  },
  {
   "cell_type": "code",
   "execution_count": null,
   "metadata": {},
   "outputs": [],
   "source": [
    "subtract(Multiply(x, z), Multiply(y, z)).factor(z, 'left', assumptions=assumptions).proven(assumptions)"
   ]
  },
  {
   "cell_type": "code",
   "execution_count": null,
   "metadata": {},
   "outputs": [],
   "source": [
    "subtract(Multiply(x, z), Multiply(y, z)).factor(z, 'right', assumptions=assumptions).proven(assumptions)"
   ]
  },
  {
   "cell_type": "code",
   "execution_count": null,
   "metadata": {},
   "outputs": [],
   "source": [
    "subtract(Multiply(x, y, z), Multiply(w, y, z)).factor(z, 'left', assumptions=assumptions).proven(assumptions)"
   ]
  },
  {
   "cell_type": "code",
   "execution_count": null,
   "metadata": {},
   "outputs": [],
   "source": [
    "subtract(Multiply(x, y, z), Multiply(w, y, z)).factor(z, 'right', assumptions=assumptions).proven(assumptions)"
   ]
  },
  {
   "cell_type": "code",
   "execution_count": null,
   "metadata": {},
   "outputs": [],
   "source": [
    "subtract(Multiply(x, y, z), Multiply(w, y, z)).factor(Multiply(y, z), 'left', assumptions=assumptions).proven(assumptions)"
   ]
  },
  {
   "cell_type": "code",
   "execution_count": null,
   "metadata": {},
   "outputs": [],
   "source": [
    "subtract(Multiply(x, y, z), Multiply(w, y, z)).factor(Multiply(y, z), 'left', group_factor=True, assumptions=assumptions).proven(assumptions)"
   ]
  },
  {
   "cell_type": "code",
   "execution_count": null,
   "metadata": {},
   "outputs": [],
   "source": [
    "subtract(Multiply(x, y, z), Multiply(w, y, z)).factor(Multiply(y, z), 'right', assumptions=assumptions).proven(assumptions)"
   ]
  },
  {
   "cell_type": "code",
   "execution_count": null,
   "metadata": {},
   "outputs": [],
   "source": [
    "subtract(Multiply(x, y, z), Multiply(w, y, z)).factor(Multiply(y, z), 'right', group_factor=True, assumptions=assumptions).proven(assumptions)"
   ]
  },
  {
   "cell_type": "code",
   "execution_count": null,
   "metadata": {},
   "outputs": [],
   "source": [
    "summation_domain = DiscreteContiguousSet(a, b)\n",
    "summation_domain.deduce_member_in_integer(j, assumptions=assumptions).proven(assumptions | {In(j, summation_domain)})"
   ]
  },
  {
   "cell_type": "code",
   "execution_count": null,
   "metadata": {},
   "outputs": [],
   "source": [
    "Summation(j, Multiply(x, y, j, z), domain=summation_domain).factor(Multiply(x, y), 'left', assumptions=assumptions).proven(assumptions)"
   ]
  },
  {
   "cell_type": "code",
   "execution_count": null,
   "metadata": {},
   "outputs": [],
   "source": [
    "Summation(j, Multiply(x, y, j, z), domain=DiscreteContiguousSet(a, b)).factor(Multiply(x, y), 'right', assumptions=assumptions).proven(assumptions)"
   ]
  },
  {
   "cell_type": "code",
   "execution_count": null,
   "metadata": {},
   "outputs": [],
   "source": [
    "Summation(j, Multiply(x, y, j, z), domain=DiscreteContiguousSet(a, b)).factor(Multiply(x, y), 'left', group_factor=True, assumptions=assumptions).proven(assumptions)"
   ]
  },
  {
   "cell_type": "code",
   "execution_count": null,
   "metadata": {},
   "outputs": [],
   "source": []
  }
 ],
 "metadata": {
  "kernelspec": {
   "display_name": "Python 3",
   "language": "python",
   "name": "python3"
  }
 },
 "nbformat": 4,
 "nbformat_minor": 0
}
