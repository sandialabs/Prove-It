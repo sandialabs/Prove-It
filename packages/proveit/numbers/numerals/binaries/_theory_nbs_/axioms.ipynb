{
 "cells": [
  {
   "cell_type": "markdown",
   "metadata": {},
   "source": [
    "Axioms for the theory of <a class=\"ProveItLink\" href=\"theory.ipynb\">proveit.numbers.numerals.binaries</a>\n",
    "========"
   ]
  },
  {
   "cell_type": "code",
   "execution_count": 1,
   "metadata": {},
   "outputs": [],
   "source": [
    "import proveit\n",
    "\n",
    "# Prepare this notebook for defining the axioms of a theory:\n",
    "%axioms_notebook # Keep this at the top following 'import proveit'.\n",
    "from proveit import b\n",
    "from proveit.logic import Forall, Equals\n",
    "from proveit.numbers import Bit, BinarySequence"
   ]
  },
  {
   "cell_type": "code",
   "execution_count": 2,
   "metadata": {},
   "outputs": [
    {
     "name": "stdout",
     "output_type": "stream",
     "text": [
      "Defining axioms for theory 'proveit.numbers.numerals.binaries'\n",
      "Subsequent end-of-cell assignments will define axioms\n",
      "%end_axioms will finalize the definitions\n"
     ]
    }
   ],
   "source": [
    "%begin axioms"
   ]
  },
  {
   "cell_type": "code",
   "execution_count": 3,
   "metadata": {},
   "outputs": [
    {
     "data": {
      "text/html": [
       "<strong id=\"single_bit_reduction\">single_bit_reduction:</strong> <a class=\"ProveItLink\" href=\"../__pv_it/axioms/bda45d6162d946d4aead3754d5db34b1ce29d32b0/axiom_expr.ipynb\"><img src=\"data:image/png;base64,iVBORw0KGgoAAAANSUhEUgAAAKkAAAAVBAMAAADP89MSAAAAMFBMVEX///8AAAAAAAAAAAAAAAAA\n",
       "AAAAAAAAAAAAAAAAAAAAAAAAAAAAAAAAAAAAAAAAAAAv3aB7AAAAD3RSTlMAq1RmmUTNIjK7EInv\n",
       "3XZ/CtNrAAAACXBIWXMAAA7EAAAOxAGVKw4bAAAC5ElEQVQ4y41VQUgUYRT+nBmd2dndmUUJIlEW\n",
       "pC4V7UEED9mAa0RCDXXoErlRIAmBQZcgYxI6ReUhqImo6RKIwk4hBEK0IVFkxhIIYQmzdehm5sHC\n",
       "yu39s+vqP05NP7x/5w3v/977v/3eG+D/1iDnyRv2iNB/LS3NuZ/8vd4LjT1BlmIPbVGoOzlPcDE6\n",
       "Q7+fg2Hq3SJVkAF6mNcfAarmAKUoeVLZr/kh2WmyBicY2GDQNgBcZgSNRKBKlF5bTBpqX4a53WRL\n",
       "ZKIRDNRZ1vZKvng6AjXBkAu6B91HLRCnK+zhdTCwj1WfcCBSXEMUrTuorr1TXxsrqALxES+y96eC\n",
       "gU99GihoZn5+Ogq1F8iXy+Vf0CfebIPk0snWEl3wUTDw5EIjZSQFHADuhP1BGx1Wk+7tc6Avt310\n",
       "WC35AfU70OGTPu8vJiZ12ckPQqS7nIOc2gwqboW8nuwdWT79jKBzGDeSVOUeB2+BXYFTwgoSHgTi\n",
       "PebETShnqu+Hek3xOTBGNxieq0W/ILthtbCCES8kTGA/8JPeBbWSg+5CWSR8j/1ZzWRKyTaF1CQO\n",
       "4vwTFsOhVnnNQFhkqB9QT9o6HkBNuuhLo55qRa6LtldkWYtydElw5VnwqMSAeH9h+ROrRCswBpYg\n",
       "kbZ2B3gluR52IDB9PKZeUFZLjuarZviY50LcwqPeI2vBKh0rImHEqP9/YJzCO4NNYKlTVABrqouU\n",
       "RZvTjFGfb2tyOwlHaOJQmYJsma6sf7ty1mHKacLNiuK4VZeJUbsx5aGOLh7LiLmjFVRJY6mUHlyf\n",
       "rrXcNbJW9SURV/pt0EQAHkywm80G5djMmjlprrWkJaU6bNtOC5bq5jbpLGlx7vu1MVsM7ZmhGiFI\n",
       "pK9WasURT85msz2cevkx0r5h6ISs7loxTicJl503oYU0xS3Oi1XH/YVQ0PUJqBzyIN9mDPZXBzm/\n",
       "Rnn6RsJyBXNW15htm38ZLzL/MblU+eyEf6G+AH8A2T68SjF2THcAAAAASUVORK5CYII=\n",
       "\" style=\"display:inline;vertical-align:middle;\" /></a><br>"
      ],
      "text/plain": [
       "<IPython.core.display.HTML object>"
      ]
     },
     "metadata": {},
     "output_type": "display_data"
    }
   ],
   "source": [
    "single_bit_reduction = Forall(b, Equals(BinarySequence(b), b), \n",
    "                              domain=Bit)"
   ]
  },
  {
   "cell_type": "code",
   "execution_count": 4,
   "metadata": {},
   "outputs": [
    {
     "name": "stdout",
     "output_type": "stream",
     "text": [
      "These axioms may now be imported from the theory package: proveit.numbers.numerals.binaries\n"
     ]
    }
   ],
   "source": [
    "%end axioms"
   ]
  }
 ],
 "metadata": {
  "kernelspec": {
   "display_name": "Python 3",
   "language": "python",
   "name": "python3"
  }
 },
 "nbformat": 4,
 "nbformat_minor": 0
}