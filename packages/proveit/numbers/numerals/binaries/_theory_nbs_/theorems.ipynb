{
 "cells": [
  {
   "cell_type": "markdown",
   "metadata": {},
   "source": [
    "Theorems (or conjectures) for the theory of <a class=\"ProveItLink\" href=\"theory.ipynb\">proveit.numbers.numerals.binaries</a>\n",
    "========"
   ]
  },
  {
   "cell_type": "code",
   "execution_count": 1,
   "metadata": {},
   "outputs": [],
   "source": [
    "import proveit\n",
    "\n",
    "# Prepare this notebook for defining the theorems of a theory:\n",
    "%theorems_notebook # Keep this at the top following 'import proveit'.\n",
    "\n",
    "from proveit import b\n",
    "from proveit.logic import Forall, InSet\n",
    "from proveit.numbers import zero, one, greater_eq, LessEq, Natural, number_ordering\n",
    "from proveit.numbers.numerals.binaries import Bit"
   ]
  },
  {
   "cell_type": "code",
   "execution_count": 2,
   "metadata": {},
   "outputs": [
    {
     "name": "stdout",
     "output_type": "stream",
     "text": [
      "Defining theorems for theory 'proveit.numbers.numerals.binaries'\n",
      "Subsequent end-of-cell assignments will define theorems\n",
      "'%end theorems' will finalize the definitions\n"
     ]
    }
   ],
   "source": [
    "%begin theorems"
   ]
  },
  {
   "cell_type": "code",
   "execution_count": 3,
   "metadata": {},
   "outputs": [
    {
     "data": {
      "text/html": [
       "<strong id=\"bits_lower_bound\"><a class=\"ProveItLink\" href=\"proofs/bits_lower_bound/thm_proof.ipynb\">bits_lower_bound</a> (conjecture without proof):<br></strong> <a class=\"ProveItLink\" href=\"../__pv_it/theorems/d4bf33eda752bd9596946094d646a56f0ad02b150/theorem_expr.ipynb\"><img src=\"data:image/png;base64,iVBORw0KGgoAAAANSUhEUgAAAIMAAAAVBAMAAACXjEALAAAAMFBMVEX///8AAAAAAAAAAAAAAAAA\n",
       "AAAAAAAAAAAAAAAAAAAAAAAAAAAAAAAAAAAAAAAAAAAv3aB7AAAAD3RSTlMAq1RmmUTNIjK7EInv\n",
       "3XZ/CtNrAAAACXBIWXMAAA7EAAAOxAGVKw4bAAACMklEQVQ4y42UT0gUURzHv82b3fmzu9OCBEEQ\n",
       "A9HZOUgQlAXuRiTIUIduupIgejLomDF6jf6BB8fTeBHEoCEE0S51E8TokBjKxmwIXkMCRSH6vZl5\n",
       "w47rND54w+/9+7zf7/f9zQPO1ZSshQmct/3KWhikXuXGtRyC5GNxs2P2094EDAuo88FoDmKB+kho\n",
       "6U+SyaKpbwPjwBSP9G0Ooo/6QWQu/RSTt4FVoIdYHlAycxCfgcJxbBu7XmS8A7o9lD0wCqaYl4oG\n",
       "XfNNjFjM+AO8MVGk85vN5kYOQvbpmqst4as0wqXUOcJCifS4D8ydcUxvs/lNH8b1QzEuDJMfygkh\n",
       "AjDy8CmUaieBXYaSkCtmGPbXBDEmED4kypPmlWyoY/HqZL/NvlDeybfpHXGkbAP3gBMRyHAYCA2H\n",
       "Aqi/aSLg2bxCXW25tlRdwwM8W+FbU4hdFGJZ2fcknd0mCuQFGr30WadecwjYK8NXtpBC8EAOIB+n\n",
       "RXWBOx4krtRHKjD1b8vjtQpp+nHgg11KIbQAOMJ7K11at8LoGC/L55RNY8e4uxjG6axdJwmlrnYE\n",
       "F64LM6cKvGLq65HguED+axZrPIoQssG5ah2vN0QhqOTs/LJ1Wvb+Fp2s2CJhjly94bquKTm63+iQ\n",
       "+Ed22U0K4yLK5svICzwMlFqtVm/f1/P/PzCKy7tJBcIVs2F0VpqWPE56M2xO8pwlP7k6EECZJePV\n",
       "aPwKpcPOfA209Mu35Lp2xs4XWYh94B/tdIlSCkVRbQAAAABJRU5ErkJggg==\n",
       "\" style=\"display:inline;vertical-align:middle;\" /></a><br>"
      ],
      "text/plain": [
       "<IPython.core.display.HTML object>"
      ]
     },
     "metadata": {},
     "output_type": "display_data"
    }
   ],
   "source": [
    "bits_lower_bound = Forall(b, greater_eq(b, zero), domain=Bit)"
   ]
  },
  {
   "cell_type": "code",
   "execution_count": 4,
   "metadata": {},
   "outputs": [
    {
     "data": {
      "text/html": [
       "<strong id=\"bits_upper_bound\"><a class=\"ProveItLink\" href=\"proofs/bits_upper_bound/thm_proof.ipynb\">bits_upper_bound</a> (conjecture without proof):<br></strong> <a class=\"ProveItLink\" href=\"../__pv_it/theorems/eda1c9f9d3c55d8e983539efa745e22f87d89cdd0/theorem_expr.ipynb\"><img src=\"data:image/png;base64,iVBORw0KGgoAAAANSUhEUgAAAIMAAAAVBAMAAACXjEALAAAAMFBMVEX///8AAAAAAAAAAAAAAAAA\n",
       "AAAAAAAAAAAAAAAAAAAAAAAAAAAAAAAAAAAAAAAAAAAv3aB7AAAAD3RSTlMAq1RmmUTNIjK7EInv\n",
       "3XZ/CtNrAAAACXBIWXMAAA7EAAAOxAGVKw4bAAACGElEQVQ4y42UT0jbUBzHvyZp86c1K4giKKMw\n",
       "tutykMEOE2GtiKIEd9hNehjIPG2w4xyZ17Gxww6Lp3gZiIJBBKEwmDdBFC+CVArpLp4E6WGODsZ+\n",
       "v7RNk7ZZfPCS3+/lvc/7vd/vmwfcqslxH17htu1n3Icl6jk27iUQBBebxz2jSgXQDaDIznIC4hv1\n",
       "FyH/Ace/Md2g5wrwnk/6OQHxlHq94z6Z9V86IyaAtANk8gmIH0CqEXhXZXQQWQciHSadlIoSbXPa\n",
       "crTvHkKINK0/rlaPEhCSS1Pv1vxYtXkDYUSG6jEDrPdZpoVs3mlnRbvh4ZHOoX2ESBG+hpzrJYij\n",
       "kAPyIC176OCE7W6EQHlSnYwJ5WVreHXOFA+ALYptrdKemzWBaeCPr9OugyjXhPE4m2Ps1WxTyJUx\n",
       "izf7PCWCuECq3i+dKYoCpUl6HFIvWASclODKZ4gg+CB1SI1+RRW4UrskMOVvzWGtQlh77rkQhyMI\n",
       "lfb9jW2jn7REluVbyqZe0ac2fQlY5ftUQmEojODCDeFLSOCWP3zTKjgGyFcNsfSsiZB05ipFfDpq\n",
       "J1+hYDf2jK6iDYz/oo0GzXbCLCn3yLbtvGBpbqmnxOfxslttG3eQzX9oRoFFTy4UCsXwvIn//4HN\n",
       "nDuPSSCcHRN6r9LU4HLSqn6zguss+MmVBQ/yVzI+LrduoajaY28DNXrzbdm2GTPzXRziEvgHvzZ/\n",
       "kE3L+YgAAAAASUVORK5CYII=\n",
       "\" style=\"display:inline;vertical-align:middle;\" /></a><br>"
      ],
      "text/plain": [
       "<IPython.core.display.HTML object>"
      ]
     },
     "metadata": {},
     "output_type": "display_data"
    }
   ],
   "source": [
    "bits_upper_bound = Forall(b, LessEq(b, one), domain=Bit)"
   ]
  },
  {
   "cell_type": "code",
   "execution_count": 5,
   "metadata": {},
   "outputs": [
    {
     "data": {
      "text/html": [
       "<strong id=\"b_in_bits\"><a class=\"ProveItLink\" href=\"proofs/b_in_bits/thm_proof.ipynb\">b_in_bits</a> (conjecture without proof):<br></strong> <a class=\"ProveItLink\" href=\"../__pv_it/theorems/6aee5f15cd9582a0cdafe7e509cf61cb1cf791530/theorem_expr.ipynb\"><img src=\"data:image/png;base64,iVBORw0KGgoAAAANSUhEUgAAANEAAAAaBAMAAADbO6SrAAAAMFBMVEX///8AAAAAAAAAAAAAAAAA\n",
       "AAAAAAAAAAAAAAAAAAAAAAAAAAAAAAAAAAAAAAAAAAAv3aB7AAAAD3RSTlMAq1RmmUTNIjK7EInv\n",
       "3XZ/CtNrAAAACXBIWXMAAA7EAAAOxAGVKw4bAAADB0lEQVRIx7WWTWgTQRiG32zS7GabpLGIQYuw\n",
       "IB56y0WhIKGiglbQVUERD03toehpvSuNIoJYaVAU4w9sEQoi0qDgoahEvBRE6MFTIbC9+Vs8CbZF\n",
       "/OZnf6thSevALLOz386zM9877yzwX0u/hceVDRprV1uQA21pHkhtAEgZbPNwoMQiiKTW1k+abvPs\n",
       "swFJQnn9pNtru579umvj1ao5YcAj5WygwO52dApSm9Afzkc6b3UVoP+A8sD2SHnCHGB3Y52SUg0g\n",
       "HU3VdusF0AS6OIqT9GXgMtaTsB6TqhHp7K2lLbDxtc2WJGGUvoi43UanpEl6e9h2FdBq8b1TLKsV\n",
       "ToK6yZakQ0CSlJjuWBDfqb6W7ZNfZKOYqH4VJKhQX6441PhG9UOr9b5j0haqI0u9fNDzbmcRtYwZ\n",
       "kQmb+EHg/t8GGYxDqlOyf9ozlA6kLZ90VV+IkCarwAWoBWjnZM+lw2byLW9xlXS/aUj/ciPCTjZC\n",
       "GV9Glq2Pn4IikkZ/E9frVFz8OEknY3fTtY9JZbFuKoVZDPmkMk5L/+IRvpPJ8pGEXkEP+5yJFpWa\n",
       "IGFbohme0wwxFId9zRzV/TRDpZxCwyfNoceS/jUXcjJ/TrkGhpl2nwTmhCk9snrjNDYqZEra70U7\n",
       "z0e5csrxSSqtjCH8i0UEncwj0XY6ynSeC5I0J7JFJ9kyPifR5Bfyg/yjlOrsTp+kLSNXEv7FIoJO\n",
       "JspWIlX1dzzAcTvvUf1UW6s9XCRPypSSlROClMrXgqSsI/yLRQSdTBTaJolSRsj0rNvJGqnI+beH\n",
       "XRK0hNlqqrCbpGIoVb1RCa4eLQ73LxYRdDLvU/W+faI9dUeYxbVVelWPkPZ6/kX5uCHmhONOVBHM\n",
       "v1hEyMl4yZqB0c48av3zJB91Gzl7gOROjaTJHd4lLeGY9C8WEXIyz8vjFOblomhHHKgskzfH5JHl\n",
       "7twh6V8sIuRk4r1mPFKyELp9Wq8HFiPeSdIbj5Sz2jyMR5qOR2r7H+GRfP8KOZn8N4qVqPZHrbUB\n",
       "/3uecEhsfwDgLdpXe5ToKgAAAABJRU5ErkJggg==\n",
       "\" style=\"display:inline;vertical-align:middle;\" /></a><br>"
      ],
      "text/plain": [
       "<IPython.core.display.HTML object>"
      ]
     },
     "metadata": {},
     "output_type": "display_data"
    }
   ],
   "source": [
    "b_in_bits = Forall(b, InSet(b, Bit), \n",
    "                     conditions=[number_ordering(LessEq(zero, b), LessEq(b, one))], \n",
    "                     domain=Natural)"
   ]
  },
  {
   "cell_type": "code",
   "execution_count": null,
   "metadata": {},
   "outputs": [],
   "source": []
  },
  {
   "cell_type": "code",
   "execution_count": 6,
   "metadata": {},
   "outputs": [
    {
     "name": "stdout",
     "output_type": "stream",
     "text": [
      "These theorems may now be imported from the theory package: proveit.numbers.numerals.binaries\n"
     ]
    }
   ],
   "source": [
    "%end theorems"
   ]
  }
 ],
 "metadata": {
  "kernelspec": {
   "display_name": "Python 3",
   "language": "python",
   "name": "python3"
  }
 },
 "nbformat": 4,
 "nbformat_minor": 0
}