{
 "cells": [
  {
   "cell_type": "markdown",
   "metadata": {},
   "source": [
    "Proof of <a class=\"ProveItLink\" href=\"../../../../../../_theory_nbs_/theory.ipynb\">proveit</a>.<a class=\"ProveItLink\" href=\"../../../../../_theory_nbs_/theory.ipynb\">numbers</a>.<a class=\"ProveItLink\" href=\"../../../../_theory_nbs_/theory.ipynb\">numerals</a>.<a class=\"ProveItLink\" href=\"../../theory.ipynb\">binaries</a>.<a class=\"ProveItLink\" href=\"../../theorems.ipynb#bits_lower_bound\">bits_lower_bound</a> theorem\n",
    "========"
   ]
  },
  {
   "cell_type": "code",
   "execution_count": 1,
   "metadata": {},
   "outputs": [],
   "source": [
    "import proveit\n",
    "theory = proveit.Theory() # the theorem's theory"
   ]
  },
  {
   "cell_type": "code",
   "execution_count": 2,
   "metadata": {},
   "outputs": [
    {
     "data": {
      "text/html": [
       "With these <a href=\"allowed_presumptions.txt\">allowed</a>/<a href=\"disallowed_presumptions.txt\">disallowed</a> theorem/theory presumptions (e.g., to avoid circular dependencies), we begin our proof of<br><strong id=\"bits_lower_bound\">bits_lower_bound:</strong> <a class=\"ProveItLink\" href=\"../../../__pv_it/theorems/2031a21fd11b4e02816926f1009f78d0fbbf84b70/expr.ipynb\"><img src=\"data:image/png;base64,iVBORw0KGgoAAAANSUhEUgAAAIMAAAAVBAMAAACXjEALAAAAMFBMVEX///8AAAAAAAAAAAAAAAAA\n",
       "AAAAAAAAAAAAAAAAAAAAAAAAAAAAAAAAAAAAAAAAAAAv3aB7AAAAD3RSTlMAq1RmmUTNIjK7EInv\n",
       "3XZ/CtNrAAAACXBIWXMAAA7EAAAOxAGVKw4bAAACMklEQVQ4y42UT0gUURzHv82b3fmzu9OCBEEQ\n",
       "A9HZOUgQlAXuRiTIUIduupIgejLomDF6jf6BB8fTeBHEoCEE0S51E8TokBjKxmwIXkMCRSH6vZl5\n",
       "w47rND54w+/9+7zf7/f9zQPO1ZSshQmct/3KWhikXuXGtRyC5GNxs2P2094EDAuo88FoDmKB+kho\n",
       "6U+SyaKpbwPjwBSP9G0Ooo/6QWQu/RSTt4FVoIdYHlAycxCfgcJxbBu7XmS8A7o9lD0wCqaYl4oG\n",
       "XfNNjFjM+AO8MVGk85vN5kYOQvbpmqst4as0wqXUOcJCifS4D8ydcUxvs/lNH8b1QzEuDJMfygkh\n",
       "AjDy8CmUaieBXYaSkCtmGPbXBDEmED4kypPmlWyoY/HqZL/NvlDeybfpHXGkbAP3gBMRyHAYCA2H\n",
       "Aqi/aSLg2bxCXW25tlRdwwM8W+FbU4hdFGJZ2fcknd0mCuQFGr30WadecwjYK8NXtpBC8EAOIB+n\n",
       "RXWBOx4krtRHKjD1b8vjtQpp+nHgg11KIbQAOMJ7K11at8LoGC/L55RNY8e4uxjG6axdJwmlrnYE\n",
       "F64LM6cKvGLq65HguED+axZrPIoQssG5ah2vN0QhqOTs/LJ1Wvb+Fp2s2CJhjly94bquKTm63+iQ\n",
       "+Ed22U0K4yLK5svICzwMlFqtVm/f1/P/PzCKy7tJBcIVs2F0VpqWPE56M2xO8pwlP7k6EECZJePV\n",
       "aPwKpcPOfA209Mu35Lp2xs4XWYh94B/tdIlSCkVRbQAAAABJRU5ErkJggg==\n",
       "\" style=\"display:inline;vertical-align:middle;\" /></a><br>(see <a class=\"ProveItLink\" href=\"../../../__pv_it/theorems/d4bf33eda752bd9596946094d646a56f0ad02b150/dependencies.ipynb\">dependencies</a>)<br>"
      ],
      "text/plain": [
       "<IPython.core.display.HTML object>"
      ]
     },
     "metadata": {},
     "output_type": "display_data"
    }
   ],
   "source": [
    "%proving bits_lower_bound"
   ]
  },
  {
   "cell_type": "code",
   "execution_count": null,
   "metadata": {},
   "outputs": [],
   "source": []
  }
 ],
 "metadata": {
  "kernelspec": {
   "display_name": "Python 3",
   "language": "python",
   "name": "python3"
  }
 },
 "nbformat": 4,
 "nbformat_minor": 0
}