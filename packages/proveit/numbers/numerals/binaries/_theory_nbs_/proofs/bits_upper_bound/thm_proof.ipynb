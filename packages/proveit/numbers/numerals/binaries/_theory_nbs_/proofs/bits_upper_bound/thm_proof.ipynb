{
 "cells": [
  {
   "cell_type": "markdown",
   "metadata": {},
   "source": [
    "Proof of <a class=\"ProveItLink\" href=\"../../../../../../_theory_nbs_/theory.ipynb\">proveit</a>.<a class=\"ProveItLink\" href=\"../../../../../_theory_nbs_/theory.ipynb\">numbers</a>.<a class=\"ProveItLink\" href=\"../../../../_theory_nbs_/theory.ipynb\">numerals</a>.<a class=\"ProveItLink\" href=\"../../theory.ipynb\">binaries</a>.<a class=\"ProveItLink\" href=\"../../theorems.ipynb#bits_upper_bound\">bits_upper_bound</a> theorem\n",
    "========"
   ]
  },
  {
   "cell_type": "code",
   "execution_count": 1,
   "metadata": {},
   "outputs": [],
   "source": [
    "import proveit\n",
    "theory = proveit.Theory() # the theorem's theory"
   ]
  },
  {
   "cell_type": "code",
   "execution_count": 2,
   "metadata": {},
   "outputs": [
    {
     "data": {
      "text/html": [
       "With these <a href=\"allowed_presumptions.txt\">allowed</a>/<a href=\"disallowed_presumptions.txt\">disallowed</a> theorem/theory presumptions (e.g., to avoid circular dependencies), we begin our proof of<br><strong id=\"bits_upper_bound\">bits_upper_bound:</strong> <a class=\"ProveItLink\" href=\"../../../__pv_it/theorems/ebac918bcedfcf6e412db07c84d5bec5369377190/expr.ipynb\"><img src=\"data:image/png;base64,iVBORw0KGgoAAAANSUhEUgAAAIMAAAAVBAMAAACXjEALAAAAMFBMVEX///8AAAAAAAAAAAAAAAAA\n",
       "AAAAAAAAAAAAAAAAAAAAAAAAAAAAAAAAAAAAAAAAAAAv3aB7AAAAD3RSTlMAq1RmmUTNIjK7EInv\n",
       "3XZ/CtNrAAAACXBIWXMAAA7EAAAOxAGVKw4bAAACGElEQVQ4y42UT0jbUBzHvyZp86c1K4giKKMw\n",
       "tutykMEOE2GtiKIEd9hNehjIPG2w4xyZ17Gxww6Lp3gZiIJBBKEwmDdBFC+CVArpLp4E6WGODsZ+\n",
       "v7RNk7ZZfPCS3+/lvc/7vd/vmwfcqslxH17htu1n3Icl6jk27iUQBBebxz2jSgXQDaDIznIC4hv1\n",
       "FyH/Ace/Md2g5wrwnk/6OQHxlHq94z6Z9V86IyaAtANk8gmIH0CqEXhXZXQQWQciHSadlIoSbXPa\n",
       "crTvHkKINK0/rlaPEhCSS1Pv1vxYtXkDYUSG6jEDrPdZpoVs3mlnRbvh4ZHOoX2ESBG+hpzrJYij\n",
       "kAPyIC176OCE7W6EQHlSnYwJ5WVreHXOFA+ALYptrdKemzWBaeCPr9OugyjXhPE4m2Ps1WxTyJUx\n",
       "izf7PCWCuECq3i+dKYoCpUl6HFIvWASclODKZ4gg+CB1SI1+RRW4UrskMOVvzWGtQlh77rkQhyMI\n",
       "lfb9jW2jn7REluVbyqZe0ac2fQlY5ftUQmEojODCDeFLSOCWP3zTKjgGyFcNsfSsiZB05ipFfDpq\n",
       "J1+hYDf2jK6iDYz/oo0GzXbCLCn3yLbtvGBpbqmnxOfxslttG3eQzX9oRoFFTy4UCsXwvIn//4HN\n",
       "nDuPSSCcHRN6r9LU4HLSqn6zguss+MmVBQ/yVzI+LrduoajaY28DNXrzbdm2GTPzXRziEvgHvzZ/\n",
       "kE3L+YgAAAAASUVORK5CYII=\n",
       "\" style=\"display:inline;vertical-align:middle;\" /></a><br>(see <a class=\"ProveItLink\" href=\"../../../__pv_it/theorems/eda1c9f9d3c55d8e983539efa745e22f87d89cdd0/dependencies.ipynb\">dependencies</a>)<br>"
      ],
      "text/plain": [
       "<IPython.core.display.HTML object>"
      ]
     },
     "metadata": {},
     "output_type": "display_data"
    }
   ],
   "source": [
    "%proving bits_upper_bound"
   ]
  },
  {
   "cell_type": "code",
   "execution_count": null,
   "metadata": {},
   "outputs": [],
   "source": []
  }
 ],
 "metadata": {
  "kernelspec": {
   "display_name": "Python 3",
   "language": "python",
   "name": "python3"
  }
 },
 "nbformat": 4,
 "nbformat_minor": 0
}