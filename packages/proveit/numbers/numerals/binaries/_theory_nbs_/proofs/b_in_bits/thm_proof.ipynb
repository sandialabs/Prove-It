{
 "cells": [
  {
   "cell_type": "markdown",
   "metadata": {},
   "source": [
    "Proof of <a class=\"ProveItLink\" href=\"../../../../../../_theory_nbs_/theory.ipynb\">proveit</a>.<a class=\"ProveItLink\" href=\"../../../../../_theory_nbs_/theory.ipynb\">numbers</a>.<a class=\"ProveItLink\" href=\"../../../../_theory_nbs_/theory.ipynb\">numerals</a>.<a class=\"ProveItLink\" href=\"../../theory.ipynb\">binaries</a>.<a class=\"ProveItLink\" href=\"../../theorems.ipynb#b_in_bits\">b_in_bits</a> theorem\n",
    "========"
   ]
  },
  {
   "cell_type": "code",
   "execution_count": 1,
   "metadata": {},
   "outputs": [],
   "source": [
    "import proveit\n",
    "theory = proveit.Theory() # the theorem's theory"
   ]
  },
  {
   "cell_type": "code",
   "execution_count": 2,
   "metadata": {},
   "outputs": [
    {
     "data": {
      "text/html": [
       "With these <a href=\"allowed_presumptions.txt\">allowed</a>/<a href=\"disallowed_presumptions.txt\">disallowed</a> theorem/theory presumptions (e.g., to avoid circular dependencies), we begin our proof of<br><strong id=\"b_in_bits\">b_in_bits:</strong> <a class=\"ProveItLink\" href=\"../../../__pv_it/theorems/fb27a3228eef7c4d5ac1140446e574b4ff6a003d0/expr.ipynb\"><img src=\"data:image/png;base64,iVBORw0KGgoAAAANSUhEUgAAANEAAAAaBAMAAADbO6SrAAAAMFBMVEX///8AAAAAAAAAAAAAAAAA\n",
       "AAAAAAAAAAAAAAAAAAAAAAAAAAAAAAAAAAAAAAAAAAAv3aB7AAAAD3RSTlMAq1RmmUTNIjK7EInv\n",
       "3XZ/CtNrAAAACXBIWXMAAA7EAAAOxAGVKw4bAAADB0lEQVRIx7WWTWgTQRiG32zS7GabpLGIQYuw\n",
       "IB56y0WhIKGiglbQVUERD03toehpvSuNIoJYaVAU4w9sEQoi0qDgoahEvBRE6MFTIbC9+Vs8CbZF\n",
       "/OZnf6thSevALLOz386zM9877yzwX0u/hceVDRprV1uQA21pHkhtAEgZbPNwoMQiiKTW1k+abvPs\n",
       "swFJQnn9pNtru579umvj1ao5YcAj5WygwO52dApSm9Afzkc6b3UVoP+A8sD2SHnCHGB3Y52SUg0g\n",
       "HU3VdusF0AS6OIqT9GXgMtaTsB6TqhHp7K2lLbDxtc2WJGGUvoi43UanpEl6e9h2FdBq8b1TLKsV\n",
       "ToK6yZakQ0CSlJjuWBDfqb6W7ZNfZKOYqH4VJKhQX6441PhG9UOr9b5j0haqI0u9fNDzbmcRtYwZ\n",
       "kQmb+EHg/t8GGYxDqlOyf9ozlA6kLZ90VV+IkCarwAWoBWjnZM+lw2byLW9xlXS/aUj/ciPCTjZC\n",
       "GV9Glq2Pn4IikkZ/E9frVFz8OEknY3fTtY9JZbFuKoVZDPmkMk5L/+IRvpPJ8pGEXkEP+5yJFpWa\n",
       "IGFbohme0wwxFId9zRzV/TRDpZxCwyfNoceS/jUXcjJ/TrkGhpl2nwTmhCk9snrjNDYqZEra70U7\n",
       "z0e5csrxSSqtjCH8i0UEncwj0XY6ynSeC5I0J7JFJ9kyPifR5Bfyg/yjlOrsTp+kLSNXEv7FIoJO\n",
       "JspWIlX1dzzAcTvvUf1UW6s9XCRPypSSlROClMrXgqSsI/yLRQSdTBTaJolSRsj0rNvJGqnI+beH\n",
       "XRK0hNlqqrCbpGIoVb1RCa4eLQ73LxYRdDLvU/W+faI9dUeYxbVVelWPkPZ6/kX5uCHmhONOVBHM\n",
       "v1hEyMl4yZqB0c48av3zJB91Gzl7gOROjaTJHd4lLeGY9C8WEXIyz8vjFOblomhHHKgskzfH5JHl\n",
       "7twh6V8sIuRk4r1mPFKyELp9Wq8HFiPeSdIbj5Sz2jyMR5qOR2r7H+GRfP8KOZn8N4qVqPZHrbUB\n",
       "/3uecEhsfwDgLdpXe5ToKgAAAABJRU5ErkJggg==\n",
       "\" style=\"display:inline;vertical-align:middle;\" /></a><br>(see <a class=\"ProveItLink\" href=\"../../../__pv_it/theorems/6aee5f15cd9582a0cdafe7e509cf61cb1cf791530/dependencies.ipynb\">dependencies</a>)<br>"
      ],
      "text/plain": [
       "<IPython.core.display.HTML object>"
      ]
     },
     "metadata": {},
     "output_type": "display_data"
    }
   ],
   "source": [
    "%proving b_in_bits"
   ]
  },
  {
   "cell_type": "code",
   "execution_count": null,
   "metadata": {},
   "outputs": [],
   "source": []
  }
 ],
 "metadata": {
  "kernelspec": {
   "display_name": "Python 3",
   "language": "python",
   "name": "python3"
  }
 },
 "nbformat": 4,
 "nbformat_minor": 0
}