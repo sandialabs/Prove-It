{
 "cells": [
  {
   "cell_type": "markdown",
   "metadata": {},
   "source": [
    "Demonstrations for the theory of <a class=\"ProveItLink\" href=\"theory.ipynb\">proveit.numbers.numerals.decimals</a>\n",
    "========"
   ]
  },
  {
   "cell_type": "code",
   "execution_count": 1,
   "metadata": {},
   "outputs": [],
   "source": [
    "import proveit\n",
    "from proveit import ExprRange, ExprTuple, var_range\n",
    "from proveit.logic import Equals, InSet\n",
    "from proveit.numbers import zero, one, two, three, four, five, six, seven, eight, nine\n",
    "from proveit.numbers import (num, Add, \n",
    "                            Natural, NaturalPos, subtract)\n",
    "from proveit.numbers.numerals.decimals import DecimalSequence\n",
    "from proveit.core_expr_types import Len\n",
    "from proveit import A, a, b, c, d, e, f, g, h, i, j, k, m, n, x\n",
    "from proveit.numbers.numerals.decimals import Digits\n",
    "%begin demonstrations"
   ]
  },
  {
   "cell_type": "markdown",
   "metadata": {},
   "source": [
    "Decimals are defined as numbers within the base-10 number system.  That is, they use the numbers `0` through `9` for each digit.  At the moment, only whole numbers are defined within Prove-It."
   ]
  },
  {
   "cell_type": "markdown",
   "metadata": {},
   "source": [
    "The digits `0` through `9` are individually defined literals that can be imported from `proveit.numbers`."
   ]
  },
  {
   "cell_type": "code",
   "execution_count": 2,
   "metadata": {},
   "outputs": [
    {
     "data": {
      "text/html": [
       "<a class=\"ProveItLink\" href=\"../../__pv_it/common/dd4e19e8b134dfb293470ea55fe3589b0ab9f8040/expr.ipynb\"><img src=\"data:image/png;base64,iVBORw0KGgoAAAANSUhEUgAAAAoAAAAOBAMAAADkjZCYAAAAMFBMVEX///8AAAAAAAAAAAAAAAAA\n",
       "AAAAAAAAAAAAAAAAAAAAAAAAAAAAAAAAAAAAAAAAAAAv3aB7AAAAD3RSTlMAiXaZIs1UEN1mu6sy\n",
       "RO+L2jdBAAAACXBIWXMAAA7EAAAOxAGVKw4bAAAAV0lEQVQI12NgYBQyYWBgCGOocGDgbGBgXMDA\n",
       "tYGB7TsDvwEDzzeGeiD5k8FfgIHnE5j8yFAvwMD7CSTL9o2BawED53cGzgcMzAEMDG0MdQcYGIqF\n",
       "9jAAAMPIEplEfAWeAAAAAElFTkSuQmCC\n",
       "\" style=\"display:inline;vertical-align:middle;\" /></a>"
      ],
      "text/plain": [
       "0"
      ]
     },
     "metadata": {},
     "output_type": "display_data"
    }
   ],
   "source": [
    "# each digit literal is defined as its linguistic counterpart. e.g. 1 is defined as \"one\" \n",
    "zero"
   ]
  },
  {
   "cell_type": "markdown",
   "metadata": {},
   "source": [
    "In order to create numbers larger than a single digit, create a DecimalSequence() object, or use the num() method."
   ]
  },
  {
   "cell_type": "code",
   "execution_count": 3,
   "metadata": {},
   "outputs": [
    {
     "data": {
      "text/html": [
       "<strong id=\"deci_sequence\">deci_sequence:</strong> <a class=\"ProveItLink\" href=\"../__pv_it/demonstrations/dda52a34391667c5c49c14d562670c5503397c590/expr.ipynb\"><img src=\"data:image/png;base64,iVBORw0KGgoAAAANSUhEUgAAABwAAAAOBAMAAADOPWE3AAAAMFBMVEX///8AAAAAAAAAAAAAAAAA\n",
       "AAAAAAAAAAAAAAAAAAAAAAAAAAAAAAAAAAAAAAAAAAAv3aB7AAAAD3RSTlMAMt0Qq5nNdoki72ZU\n",
       "u0S9iLk1AAAACXBIWXMAAA7EAAAOxAGVKw4bAAAAdElEQVQI12NgYFRmYGDoKJ3AAGaZhH1mYGA7\n",
       "wKwJYTGwA4lNDAy9EBaYuMLAcN4Awf3KwCB/AM5lBnE3wLmcP4DcAlRuA0IxkPu+AMWo8wijGO4y\n",
       "MOxHsmgXA0MY1BkcPxkYmA4wL4SwWLy+eTMwR5QIgFkAzskyRvtVP68AAAAASUVORK5CYII=\n",
       "\" style=\"display:inline;vertical-align:middle;\" /></a><br>"
      ],
      "text/plain": [
       "<IPython.core.display.HTML object>"
      ]
     },
     "metadata": {},
     "output_type": "display_data"
    }
   ],
   "source": [
    "# DecimalSequence() takes each digit as an argument\n",
    "deci_sequence = DecimalSequence(one, zero, one)"
   ]
  },
  {
   "cell_type": "code",
   "execution_count": 4,
   "metadata": {},
   "outputs": [
    {
     "data": {
      "text/html": [
       "<strong id=\"num_def\">num_def:</strong> <a class=\"ProveItLink\" href=\"../__pv_it/demonstrations/dda52a34391667c5c49c14d562670c5503397c590/expr.ipynb\"><img src=\"data:image/png;base64,iVBORw0KGgoAAAANSUhEUgAAABwAAAAOBAMAAADOPWE3AAAAMFBMVEX///8AAAAAAAAAAAAAAAAA\n",
       "AAAAAAAAAAAAAAAAAAAAAAAAAAAAAAAAAAAAAAAAAAAv3aB7AAAAD3RSTlMAMt0Qq5nNdoki72ZU\n",
       "u0S9iLk1AAAACXBIWXMAAA7EAAAOxAGVKw4bAAAAdElEQVQI12NgYFRmYGDoKJ3AAGaZhH1mYGA7\n",
       "wKwJYTGwA4lNDAy9EBaYuMLAcN4Awf3KwCB/AM5lBnE3wLmcP4DcAlRuA0IxkPu+AMWo8wijGO4y\n",
       "MOxHsmgXA0MY1BkcPxkYmA4wL4SwWLy+eTMwR5QIgFkAzskyRvtVP68AAAAASUVORK5CYII=\n",
       "\" style=\"display:inline;vertical-align:middle;\" /></a><br>"
      ],
      "text/plain": [
       "<IPython.core.display.HTML object>"
      ]
     },
     "metadata": {},
     "output_type": "display_data"
    }
   ],
   "source": [
    "# the num() method takes in a python integer as an argument\n",
    "num_def = num(101)"
   ]
  },
  {
   "cell_type": "code",
   "execution_count": 5,
   "metadata": {},
   "outputs": [
    {
     "data": {
      "text/html": [
       "<span style=\"font-size:20px;\"> <a class=\"ProveItLink\" href=\"../__pv_it/demonstrations/6cb5e33f5bd167a1616bb445f648eb50ce277ed00/proof.ipynb\" style=\"text-decoration: none\">&nbsp;&#x22A2;&nbsp;&nbsp;</a><a class=\"ProveItLink\" href=\"../__pv_it/demonstrations/7e590f59e01efb0831ff0e611f7e48451c0dcf200/expr.ipynb\"><img src=\"data:image/png;base64,iVBORw0KGgoAAAANSUhEUgAAAFcAAAAOBAMAAACoZ51gAAAAMFBMVEX///8AAAAAAAAAAAAAAAAA\n",
       "AAAAAAAAAAAAAAAAAAAAAAAAAAAAAAAAAAAAAAAAAAAv3aB7AAAAD3RSTlMAMt0Qq5nNdoki72ZU\n",
       "u0S9iLk1AAAACXBIWXMAAA7EAAAOxAGVKw4bAAAA8UlEQVQoz2NgYFRmYGDoKJ3AAGGhASEDBgaO\n",
       "9kgoyyTsMwMD2wFmTQgLFTC75gOV5DAYTYCwGNiBSjYxMPRCWOig3oCBW4GB4wKYBVFyhYHhvAEu\n",
       "xbwODDyfkRR/ZWCQP4BLMX8AA+MfhGJmkOINuBTbAxX/Rijm/AFUXABTzKoEBg4wxfMbGBi/oylu\n",
       "wGUySPEPJGcA2e8LcDqjgYHvO6oHz+PzIA+SBxnuMjDsN8DlZt4LDNzIQbeLgSEMd6QsYGBNgCrm\n",
       "+MnAwHSAeSGEhQ76gWlGh8FKAMJi8frmzcAcUSIAYaEBl/UpGxhM2x0hLAClel22DxazjgAAAABJ\n",
       "RU5ErkJggg==\n",
       "\" style=\"display:inline;vertical-align:middle;\" /></a></span>"
      ],
      "text/plain": [
       "|- 101 = 101"
      ]
     },
     "metadata": {},
     "output_type": "display_data"
    }
   ],
   "source": [
    "Equals(deci_sequence, num_def).prove()"
   ]
  },
  {
   "cell_type": "markdown",
   "metadata": {},
   "source": [
    "The set `Digits` is defined as the natural numbers from 0 to 9.  "
   ]
  },
  {
   "cell_type": "code",
   "execution_count": 6,
   "metadata": {},
   "outputs": [
    {
     "data": {
      "text/html": [
       "<span style=\"font-size:20px;\"> <a class=\"ProveItLink\" href=\"proofs/N_leq_9_enumSet/thm_proof.ipynb\" style=\"text-decoration: none\">&nbsp;&#x22A2;&nbsp;&nbsp;</a><a class=\"ProveItLink\" href=\"../__pv_it/theorems/ace0ec6844d4626ccd240170c311a5fd30b1234d0/expr.ipynb\"><img src=\"data:image/png;base64,iVBORw0KGgoAAAANSUhEUgAAAQ8AAAAYBAMAAAAWpWWaAAAAMFBMVEX///8AAAAAAAAAAAAAAAAA\n",
       "AAAAAAAAAAAAAAAAAAAAAAAAAAAAAAAAAAAAAAAAAAAv3aB7AAAAD3RSTlMAEN27zYnvRFSrImZ2\n",
       "MpmnAiL6AAAACXBIWXMAAA7EAAAOxAGVKw4bAAAD5klEQVRIx8WWX2gURxzHv5vLent/NlmkFMWS\n",
       "u/ggLQhu/IcixYMW0r5tlQi2KieI2vqQU0TxySvBFxEuStVEW10qCEVJDnyMtAft+aY9sBWkKtGI\n",
       "YAunxhjFVNaZ+c1Mwl68nIJk4Ha/N/P7zXz29/vN7AJTWo+Pchmz33pKiHlW76xzXCoCrRXjyWxz\n",
       "/J5nl0Efz2tGjP3vd+X4YX6d+3S5gw3juRucA3Ny9kSN4R+732H2Cgw/1HXBeYPtzQ5+XRXthfEY\n",
       "1gpuFu1Y8CJsZvFkmZv+lX/tdvUg1c8qUnWN5JT1HXnv/nyhXNfs2kyiEARBlmLctUU6tFSPsutq\n",
       "Lo/53wBsPCpI5lVehkHMNLt8gbn0gPPvqyI6B1OmsQ2Wxv9E3heNfiUpO3GM1Ppq9V6elgf6iGgx\n",
       "brB513Hd5zb74GvZZ3zYTjQ9HUgiDdOlv0kFcgrYTurPvDEmO5MKRG++5hKWkfKAAVJDwAdCxLKI\n",
       "uBLk1OV4RoAg3u9Eis2V6UAivZShqSDdDs5SlPbloED++TIMUtCVkde9GxVIawbmEwUSq5QJBHFE\n",
       "hzZjOpDWYdgvQiAs4GcVtaVK3KsBWTl1Kmlf6MB/QqRcJJ8rELiRXLpO/XOQFAOZCIGwtkSJPUU5\n",
       "6CuQ0+WfSGz7+5qu5HPyHguu5XVEJjTIHaM9DHJvIW+U75YMO1882P/XgKgu3OqXj3oBCqQDg7T+\n",
       "WBE7lcNJJR6N+rpG2CRXCCSR78ni+jLW/Okicr5IIM9qQJp0/NWu8TQIqyvxdEYAPJBlEs8q86/X\n",
       "koOxAzeZGsxT8R+NZd+cmV86eS49RGsjMjJp1S3WSvhTQFrEQWCMAr/J3JgZOfQrrHGCaysfecWM\n",
       "fsgLkPlGnRqxRxxRrFa4WJFQAbkNrBU5vwgFEsmg5RWlhoHICmqSJwC2yiAIOjaf2UkRsUtunRph\n",
       "W5dv9kR4++IQ4pTLwJEgB/r7x4+LrjlpxB4LtXQyIilJzg5yxIoqg67c4p+y31V3hl2TyPKadRSI\n",
       "IULlIekI9S1PjUHWTHMzk7G4QhVYjZADDg5L1+/Y+j5X1lakWJ1vgDi8aWPUBcHH+LBCx6fJUp/i\n",
       "9j+zE5vUED9HUjTHUwiz+DCuOEJFPGOnHCx40nWvg8tCJduxBrR9/xpn0TBmBGnbxI4F/hqLnRg7\n",
       "jSb+4lsSBGOkolX20hMKI8GPwgwDD++SA7Y8rMjB8yx/QtlnqtKhq5qTIDM3U1eypU/r71FHTZo1\n",
       "6PDWIKbu8+qpSbMGHRoESepD5iP9zVaqp7RZow6439iXnP7W0J5J1FMlvKWDsauxr76Bvvf8zbqR\n",
       "FfFrtC0XIh6s2sMAAAAASUVORK5CYII=\n",
       "\" style=\"display:inline;vertical-align:middle;\" /></a></span>"
      ],
      "text/plain": [
       "|- Digits = {0, 1, 2, 3, 4, 5, 6, 7, 8, 9}"
      ]
     },
     "metadata": {},
     "output_type": "display_data"
    }
   ],
   "source": [
    "from proveit.numbers.numerals.decimals import N_leq_9_enumSet\n",
    "N_leq_9_enumSet"
   ]
  },
  {
   "cell_type": "code",
   "execution_count": 7,
   "metadata": {},
   "outputs": [
    {
     "data": {
      "text/html": [
       "<span style=\"font-size:20px;\"> <a class=\"ProveItLink\" href=\"../__pv_it/demonstrations/369545a8567e66d7b10fc487951186e64e91f3e40/proof.ipynb\" style=\"text-decoration: none\">&nbsp;&#x22A2;&nbsp;&nbsp;</a><a class=\"ProveItLink\" href=\"../__pv_it/demonstrations/2f243fa8ba81bfc88e4b96def2c7aaf58dfd7e950/expr.ipynb\"><img src=\"data:image/png;base64,iVBORw0KGgoAAAANSUhEUgAAAEcAAAAUBAMAAAAthD11AAAAMFBMVEX///8AAAAAAAAAAAAAAAAA\n",
       "AAAAAAAAAAAAAAAAAAAAAAAAAAAAAAAAAAAAAAAAAAAv3aB7AAAAD3RSTlMAMt0Qq5nNdoki72a7\n",
       "RFSRpcO+AAAACXBIWXMAAA7EAAAOxAGVKw4bAAABH0lEQVQoz2NgwAf4TjKwtzcw4FdznIHBg+EJ\n",
       "XjXcp4HERwZ7Azxq2M8BCc6fDPwXMOWY9c8kM3CsX8u4DsxdyyC/gYGBURlNFc+DKwwM9gwMb5pB\n",
       "vDvG+x8wmIR9RlPEosmxgYELJA9SxfyQfwLQagxFbxgyGZhALJFIBgZhhksMSIpqlJQSwIpmF0yD\n",
       "KGKY4sxwmiERSdG1YphJExzZGyCKGCYw3N4hgFDEmQy3bgIPw1kmtOCAKGKbgFDEGGBkhF0RwuET\n",
       "GPbxnWJgPAMEJ1EVSSkBwQGoIhYDL6wm2SCbxOyA3TomZEUM4jxYFbEXwKMF6Gd2GVRFHD8hdB5M\n",
       "gO0BkAhDjQSvb95ghslZSLphzF8DJM1wpJ8bhyDRggkA3FhHS+1JwGcAAAAASUVORK5CYII=\n",
       "\" style=\"display:inline;vertical-align:middle;\" /></a></span>"
      ],
      "text/plain": [
       "|- 1 in Digits"
      ]
     },
     "metadata": {},
     "output_type": "display_data"
    }
   ],
   "source": [
    "InSet(one, Digits).prove()"
   ]
  },
  {
   "cell_type": "markdown",
   "metadata": {},
   "source": [
    "Prove-It is also able to perform basic arithmetic involving decimal sequences."
   ]
  },
  {
   "cell_type": "code",
   "execution_count": 8,
   "metadata": {},
   "outputs": [
    {
     "data": {
      "text/html": [
       "<span style=\"font-size:20px;\"> <a class=\"ProveItLink\" href=\"../__pv_it/demonstrations/91be6dabb197f4f07006665eba8238873584c4340/proof.ipynb\" style=\"text-decoration: none\">&nbsp;&#x22A2;&nbsp;&nbsp;</a><a class=\"ProveItLink\" href=\"../__pv_it/demonstrations/bfb4d95c6e7c721c95fdcec26446ff878271ae590/expr.ipynb\"><img src=\"data:image/png;base64,iVBORw0KGgoAAAANSUhEUgAAAHYAAAAVBAMAAABh6QfWAAAAMFBMVEX///8AAAAAAAAAAAAAAAAA\n",
       "AAAAAAAAAAAAAAAAAAAAAAAAAAAAAAAAAAAAAAAAAAAv3aB7AAAAD3RSTlMAInZUiRDNmWbv3US7\n",
       "qzJazP2FAAAACXBIWXMAAA7EAAAOxAGVKw4bAAABM0lEQVQ4y2NgYBBgwAMY8UkyMBngk+VWwCdr\n",
       "AsSvAmAECgCJaGDqAAmLl51jYGBNYGC9nh8AIVAARIQN3USwMOMBBv8NDOwNQL5+AIwAu7MBygCJ\n",
       "cBRg2AsU5hVg4JzAwMmAoZdZAUkvw1Rsejm/MvB+ZDAjpDcDq70LGHj/MZQQ0uuLTS8QcH2AGItP\n",
       "bxuYWbUKBNYi6X2vwLCYkF5LHPYCzZmNppd91aqVs1atugAXfo9dL/sBTL0Y9u7ErrcXiAm62Qqr\n",
       "f5kdGAQZDhHS24PV3icMDKqQKPAXgBEoesEiJRh6gcKMy8vLFzC8AnLuzs9tgBAoeiEiq9G1goS5\n",
       "/v//n8DA9QDDXGbkfMe4AHcWxJLW4XkBHGcNePLvQbwlA4MMPskY/HrxGs2It1RhwlOaAQBAYV+C\n",
       "Itvw2QAAAABJRU5ErkJggg==\n",
       "\" style=\"display:inline;vertical-align:middle;\" /></a></span>"
      ],
      "text/plain": [
       "|- (11 + 1) = 12"
      ]
     },
     "metadata": {},
     "output_type": "display_data"
    }
   ],
   "source": [
    "Add(num(11), one).evaluation()"
   ]
  },
  {
   "cell_type": "code",
   "execution_count": 9,
   "metadata": {},
   "outputs": [
    {
     "data": {
      "text/html": [
       "<span style=\"font-size:20px;\"> <a class=\"ProveItLink\" href=\"../__pv_it/demonstrations/90c10bc2df151c586851698ef97772f9604e3b7c0/proof.ipynb\" style=\"text-decoration: none\">&nbsp;&#x22A2;&nbsp;&nbsp;</a><a class=\"ProveItLink\" href=\"../__pv_it/demonstrations/9e18c777762dac838fa5851adcddefe4bc48e20a0/expr.ipynb\"><img src=\"data:image/png;base64,iVBORw0KGgoAAAANSUhEUgAAAJQAAAAVBAMAAABS/tqaAAAAMFBMVEX///8AAAAAAAAAAAAAAAAA\n",
       "AAAAAAAAAAAAAAAAAAAAAAAAAAAAAAAAAAAAAAAAAAAv3aB7AAAAD3RSTlMAInZUiRDNmWbv3US7\n",
       "qzJazP2FAAAACXBIWXMAAA7EAAAOxAGVKw4bAAABlElEQVQ4y62UsUsCURzHv53aWZreHxDU0NBW\n",
       "SAQ1ibRGblIEHrS0RAaC0OTU1ODiEA5J0nISNNZmTY0u0VS4JkSgCUIQvXeH/N55v/AN/YYPx4/f\n",
       "+9y737v3A2BhUkxBL4zViSWxRT3VGmCWnlX4o5sFloPLZDqcOVERsRG5wrtF8K2IvByLNdPZMZGX\n",
       "PsCepcAsY66CeIvgFd+NVq2INdFCYFciHa0j3CJgBkjaCA8IXmlKVaHKqeJthAYErAP5FoxvAqc6\n",
       "5FTJAhJ9AoreroYETrXNqfJCMCTI98kO9Qic6kw+mY4b7VF6IY1Ej4CGOI4aPvoETrXB7UoKvgio\n",
       "iXRuKfWjADh1nAvHuSHVJ/uBacR6BFcF79wIgV3d/9H2UJ8gP1CE+zcRAqpNrleiNDog4BEIVZHv\n",
       "EDjVOfuLVmDaBHnMxjWeFIypduRNKgZUMt3AbkdBV6S3SrcqfKrXy6My0Bw3uelc5g0KZjv8wEj5\n",
       "BlZdZ8YwN9V/nd2Gl7Xm1YNGzbze6Nv/p9fJPkyetoalI/oFX/i10FoeSpcAAAAASUVORK5CYII=\n",
       "\" style=\"display:inline;vertical-align:middle;\" /></a></span>"
      ],
      "text/plain": [
       "|- (999 + 1) = 1000"
      ]
     },
     "metadata": {},
     "output_type": "display_data"
    }
   ],
   "source": [
    "Add(num(999), one).evaluation()"
   ]
  },
  {
   "cell_type": "code",
   "execution_count": 10,
   "metadata": {},
   "outputs": [
    {
     "data": {
      "text/html": [
       "<span style=\"font-size:20px;\"> <a class=\"ProveItLink\" href=\"../__pv_it/demonstrations/65cb5b4b738982b4c5c9e25fdf673adc79b9ffc80/proof.ipynb\" style=\"text-decoration: none\">&nbsp;&#x22A2;&nbsp;&nbsp;</a><a class=\"ProveItLink\" href=\"../__pv_it/demonstrations/096acdc387e67f10bd92f28300fd7cc0f179e08b0/expr.ipynb\"><img src=\"data:image/png;base64,iVBORw0KGgoAAAANSUhEUgAAAHUAAAAVBAMAAACK3rzVAAAAMFBMVEX///8AAAAAAAAAAAAAAAAA\n",
       "AAAAAAAAAAAAAAAAAAAAAAAAAAAAAAAAAAAAAAAAAAAv3aB7AAAAD3RSTlMAInZUiRDNmWbv3US7\n",
       "qzJazP2FAAAACXBIWXMAAA7EAAAOxAGVKw4bAAABP0lEQVQ4y2NgYBBgwAMY8UkyMBngk+VWwCdr\n",
       "AsSvAhgYWJwK0aVAwhqYOkDCYII1gYH1ej6QkcwQhep6iDBbAJpOsDBEjr0ByNcPYOBYwMByAOrO\n",
       "BqgyoDADRwGGvSBhMMEJ5fFcYGD+CpFjVkBWNBW3XjMoj7+Age8zNr0ZuPWWQHnxQL0/sOn1xa03\n",
       "A8qTd2Dg+4RNbxuYWbUKBNai6l2MpPcLNr2WuO2dDXOzAwM3yF72VatWzlq16gJc0XvCeoFhxYw1\n",
       "rHbi1gtzM88BBg6scWSF27+HoDyOCQzsCdj09uC2FxwF/gIgB0Q+QNMLEoZEIgoAC4OIV0D67vzc\n",
       "BoZwp3sMqHrBwgyr0bWChcEE1wMMc5mR8x3jAtxZEEtah+cFEGBvwJN/D+ItGRhk8EnG4NeL12hG\n",
       "vKUKE57SDADvUmD+bShnHwAAAABJRU5ErkJggg==\n",
       "\" style=\"display:inline;vertical-align:middle;\" /></a></span>"
      ],
      "text/plain": [
       "|- (10 + 1) = 11"
      ]
     },
     "metadata": {},
     "output_type": "display_data"
    }
   ],
   "source": [
    "Add(num(10), one).evaluation()"
   ]
  },
  {
   "cell_type": "code",
   "execution_count": 11,
   "metadata": {},
   "outputs": [
    {
     "data": {
      "text/html": [
       "<span style=\"font-size:20px;\"> <a class=\"ProveItLink\" href=\"../__pv_it/demonstrations/1166f32290222ce6b4244444ccdd81983168082a0/proof.ipynb\" style=\"text-decoration: none\">&nbsp;&#x22A2;&nbsp;&nbsp;</a><a class=\"ProveItLink\" href=\"../__pv_it/demonstrations/bc269fa920898c3bb55cf5982c46ff5d5ace7cdc0/expr.ipynb\"><img src=\"data:image/png;base64,iVBORw0KGgoAAAANSUhEUgAAASQAAAAVBAMAAAAdho5jAAAAMFBMVEX///8AAAAAAAAAAAAAAAAA\n",
       "AAAAAAAAAAAAAAAAAAAAAAAAAAAAAAAAAAAAAAAAAAAv3aB7AAAAD3RSTlMAIolEdjJUEM2ZZu/d\n",
       "u6v6CvZmAAAACXBIWXMAAA7EAAAOxAGVKw4bAAADl0lEQVRIx71WT0gUURj/dnZ3nrN/h/BUYotu\n",
       "UJSxhwgiY0fRwiKYOnTp4NoliMg5dDAC1yAICWSDohDBOXTRixZRIARLEBGoLBEdCmwRSUmCFf+s\n",
       "eOp7f2Z21lmdPfkOb3/7vd/3vd/73vfNDKhAhw8Obnju2Mrmiwco6QybpdT+kuSEw0J+5d204NOc\n",
       "y6a0GNUGp2fPnsECZm1JwS9iYpIGqtYacjWkxzMu0+mbu20Oz097B3tSU9Lgq7KYmKRRr90B0obL\n",
       "9P6C4a27hmmidpYCZTExSdNeuwOccln85Xp01zCFDW9J8pDH7jiGXRYpX4duOOk2NZjekhRa3c3J\n",
       "RrE20vVHoORlnXfsYveWKNdkjzh2aHVelImc7DCF7jttvMVJj2kFg1sveaMtH7qqXW9DJVLRWxKV\n",
       "7X8Dv/lmZNvI8sBNGaXAwHk1Km6pXQ9a3RnXBDgORwrCU40VeQb9ohbIjtw3w1BiQSM7KRntoSFb\n",
       "0tgsHfNuSREswYcmjIlDlyGsia7hgMyAwu/WtwMB63hHdZsv1MmbEOPibgg+yGtng49Y5aXmwLcB\n",
       "oRLapr2zFMblcbtvMVqcZUKx6lcpQYTnJrrR1WqF6LeqtQi9quUpeIY4FCgzQjgh61Q8lRos1Sfp\n",
       "I6APGxg1zTo3XLA2LUCWR4gX3bXcm4ErtqeVun5RcZHhF4Iml6ieMEr215ElvDjCcyqeJOMsYNYq\n",
       "FgRTu+oHx4L4nVItiLqtBhshwpRJC5ExlsK0aoCc966lqAZkC336gEqJ61g7NGIcqz5FWFxYkVXC\n",
       "8wAZ4Bl4Ry+ISsIathC8DTEeWZdYCJgyshmNLWJ+UPKKz4RQwTtLtCu/w91cjmzT45jRHGTxzrHd\n",
       "JJ2CqCZ/VZgJm+WByljgW6ctRgWrsTJH/wA2JcYLlg6zX1iBrJ5gi3ilKPmbJJ45bknSmpiopCBm\n",
       "crDz2pIOs3gesojvlwh9B7ZMXmKALB1r7uamzkm8OsqitcGRf+lEnqOfuK5x3l+T//6AwHODLbaz\n",
       "V/G5DoydqiUptrr9l0+sgT5bdtl+/N92gQpiLKVo8+mrteJp8yqectVbpamej5MJO3m2PeECFURZ\n",
       "9xoyHAWXoVd3etq8iqdUteVoPZKiqvh33/700XYDB6KsuQGBYh/IY6enzavwHYu0CAv1SCLWE8iO\n",
       "EnABB6Ks188EwlJKOT1tXoXvWLTPv4+kbjY3HuCHbgcXrO+1/h9WRwfdZdQCpgAAAABJRU5ErkJg\n",
       "gg==\n",
       "\" style=\"display:inline;vertical-align:middle;\" /></a></span>"
      ],
      "text/plain": [
       "|- |(a, b, c, d, e, f, g, h, i, k, m)| = 11"
      ]
     },
     "metadata": {},
     "output_type": "display_data"
    }
   ],
   "source": [
    "Len(ExprTuple(a, b, c, d, e, f, g, h, i, k, m)).evaluation()"
   ]
  },
  {
   "cell_type": "code",
   "execution_count": 12,
   "metadata": {},
   "outputs": [
    {
     "data": {
      "text/html": [
       "<span style=\"font-size:20px;\"> <a class=\"ProveItLink\" href=\"../__pv_it/demonstrations/d313521ae11e20d43ec7af274784d9401bd1e2ae0/proof.ipynb\" style=\"text-decoration: none\">&nbsp;&#x22A2;&nbsp;&nbsp;</a><a class=\"ProveItLink\" href=\"../__pv_it/demonstrations/0ac90b711413e6e77fc3b5765abaa1642c3dd1220/expr.ipynb\"><img src=\"data:image/png;base64,iVBORw0KGgoAAAANSUhEUgAAAa4AAAAVBAMAAADsoRerAAAAMFBMVEX///8AAAAAAAAAAAAAAAAA\n",
       "AAAAAAAAAAAAAAAAAAAAAAAAAAAAAAAAAAAAAAAAAAAv3aB7AAAAD3RSTlMAIolEdjJUEM2ZZu/d\n",
       "u6v6CvZmAAAACXBIWXMAAA7EAAAOxAGVKw4bAAAE1ElEQVRYw71YXWhcRRQ+d3/u5O5udtfSF7XW\n",
       "kKxg0YZ9EEFayU0xSuoPV1FfLGTbF0WDuQ99qEi7EYSSCnUtSqUU3Acf2oIk/mAhKCyKLYW2rFIV\n",
       "FeoigYaKsm2apuSlzpw5c/8niguZh9xzz3znzPnmnDl3NlAGMQxYv6FZsRx6/N9hKC9D+Hx8HXk9\n",
       "hH9T1YhaBpKp9eY8bZMzdGcOBKb2f5WAz77TiOmsQTesYL+1PHk8rqKRaa7Ba0+vu7YzyGtfaGom\n",
       "CV+Kb+TwS1Fdn0/+m7hKjYN6Xmy6V159boDXsdDUzST8iBtTffmo++/kE1Qn9bysZq+8co0Ar7lQ\n",
       "ia4k4R+Ml/LKfyGfoMq7Wl753o/vaZ+XGcp+qpUEjxdnAi5OHh5IKJWmltcrvfM65POyRNvYXNlI\n",
       "yy48o2qnstOR3fOPMSpOVhmnBOT+vEhHx6yMUvnMvLpV9mk2rgrqMOw5KtvglQ1P289t5XRSHS2v\n",
       "I7jYqB3Qe3FpW3sYP+zzEhuY/hR+lxHXD7JrErKpZrVR2Fbup6Lb7mRV7ywpb/fD3RLGbpWLHZnL\n",
       "NJU2WzV3z6M0cNlmq1WT63PTHq/j58W46PE6FFoMq92LSzfCeDjh8yrw/LzZhONyYsqFL1RPy2Ps\n",
       "bB4sWarGKmTURt/rULpWFEVzGYqS4YuEB/Paw9m3ML7qBTBuQK7LdXPafJ2Ri7WAnSA1xsUG/9Zy\n",
       "8/HS5jWfV56v8ZHXmj8EuC6/T2obrC4UZJb6bzw2pBxOqTbQgQlZfZwM4dw8JdOaJ/aMLYkdEHyz\n",
       "XS2vz9Vizz9FaozLEqFrho+XNhNhXl8DX5iylJaHKd9WkbehLsModeJNYqIGT0qJ+1dJnKL9Lcx8\n",
       "QDCzK0jlOe/03Fq8aLFJUmNcpaqxrOMVwKPNtlAdMlki8vNFiaqrA8SF2ciZ4uMyPWfLSuT+Vfs7\n",
       "zEhVGyGmRUzmSNkFs6U9X2e8xYiXjCvn6nkF8Ggz6fPqt4Hd5AvvBrHLy6KmhVDi7aTKMDhYNMtM\n",
       "ZgRqIHMhDqGQZnlzUBJ8lkMcW0oBMpt16zUbJ3mmOO9Fowm5tjZfl9RiGB43o7jwoxI/Yi6E8Ejp\n",
       "E5+XaLyXYLLRYLf421X4BVDgzTDl1KcFb/OcBULireyNMk6CsQQSVi8XV6T0F9+UFOKy3bvwCYtQ\n",
       "dwZwklco5/1Dij4rybyG1WIiRjTDuAB2ubTYNEQEHy95HfF5ZflmHNjx7IID5/kOHNjC8yQEGDz1\n",
       "BBTOcvuF+zaPoQQ7Ttk0aYqyFVJ6YUtLSr/yeVvirjbl8yfIvO/i5Ha8Cz8yypNe1fLapRbDGDEa\n",
       "jMv4mV4L4pt5DkgQmgAeeX0buEd9p5ybblSAlyEm4aTV8WDibusbeDjf0gyV0Cb9/bDgqNfJkNmd\n",
       "cEfUS8Sv4mW0ArxOenejmAADcUlMvt5Xk1L2Ckw4QQMP51umQtEc0/PKNYJxembGjy8cjXqJ+FW8\n",
       "5M2ZePWrX6l7ISowOy6JyQv7SCqeZm8HDTycjw9MiiDba/z++p7eNrxbCZjlb9/uRrxE/Ao82twT\n",
       "/P3F1JfKC8UTMhCXxOTH75HEj1c1aODhfDwE72+0iRpe+4MqO4ywY7ziGtqYIRjD58Z1/D/AqGTt\n",
       "RNQyEMPuzXlGVt7YPye1W65PKM0kAAAAAElFTkSuQmCC\n",
       "\" style=\"display:inline;vertical-align:middle;\" /></a></span>"
      ],
      "text/plain": [
       "|- |(a, b, c, d, e, f, g, h, i, k, m)| = |(a_{1}, a_{2}, ..., a_{11})|"
      ]
     },
     "metadata": {},
     "output_type": "display_data"
    }
   ],
   "source": [
    "Equals(Len(ExprTuple(a, b , c, d, e, f, g, h, i, k, m)), \n",
    "       Len(var_range(a, one, num(11)))\n",
    "      ).prove()"
   ]
  },
  {
   "cell_type": "code",
   "execution_count": 13,
   "metadata": {},
   "outputs": [
    {
     "data": {
      "text/html": [
       "<span style=\"font-size:20px;\"> <a class=\"ProveItLink\" href=\"../__pv_it/demonstrations/1166f32290222ce6b4244444ccdd81983168082a0/proof.ipynb\" style=\"text-decoration: none\">&nbsp;&#x22A2;&nbsp;&nbsp;</a><a class=\"ProveItLink\" href=\"../__pv_it/demonstrations/bc269fa920898c3bb55cf5982c46ff5d5ace7cdc0/expr.ipynb\"><img src=\"data:image/png;base64,iVBORw0KGgoAAAANSUhEUgAAASQAAAAVBAMAAAAdho5jAAAAMFBMVEX///8AAAAAAAAAAAAAAAAA\n",
       "AAAAAAAAAAAAAAAAAAAAAAAAAAAAAAAAAAAAAAAAAAAv3aB7AAAAD3RSTlMAIolEdjJUEM2ZZu/d\n",
       "u6v6CvZmAAAACXBIWXMAAA7EAAAOxAGVKw4bAAADl0lEQVRIx71WT0gUURj/dnZ3nrN/h/BUYotu\n",
       "UJSxhwgiY0fRwiKYOnTp4NoliMg5dDAC1yAICWSDohDBOXTRixZRIARLEBGoLBEdCmwRSUmCFf+s\n",
       "eOp7f2Z21lmdPfkOb3/7vd/3vd/73vfNDKhAhw8Obnju2Mrmiwco6QybpdT+kuSEw0J+5d204NOc\n",
       "y6a0GNUGp2fPnsECZm1JwS9iYpIGqtYacjWkxzMu0+mbu20Oz097B3tSU9Lgq7KYmKRRr90B0obL\n",
       "9P6C4a27hmmidpYCZTExSdNeuwOccln85Xp01zCFDW9J8pDH7jiGXRYpX4duOOk2NZjekhRa3c3J\n",
       "RrE20vVHoORlnXfsYveWKNdkjzh2aHVelImc7DCF7jttvMVJj2kFg1sveaMtH7qqXW9DJVLRWxKV\n",
       "7X8Dv/lmZNvI8sBNGaXAwHk1Km6pXQ9a3RnXBDgORwrCU40VeQb9ohbIjtw3w1BiQSM7KRntoSFb\n",
       "0tgsHfNuSREswYcmjIlDlyGsia7hgMyAwu/WtwMB63hHdZsv1MmbEOPibgg+yGtng49Y5aXmwLcB\n",
       "oRLapr2zFMblcbtvMVqcZUKx6lcpQYTnJrrR1WqF6LeqtQi9quUpeIY4FCgzQjgh61Q8lRos1Sfp\n",
       "I6APGxg1zTo3XLA2LUCWR4gX3bXcm4ErtqeVun5RcZHhF4Iml6ieMEr215ElvDjCcyqeJOMsYNYq\n",
       "FgRTu+oHx4L4nVItiLqtBhshwpRJC5ExlsK0aoCc966lqAZkC336gEqJ61g7NGIcqz5FWFxYkVXC\n",
       "8wAZ4Bl4Ry+ISsIathC8DTEeWZdYCJgyshmNLWJ+UPKKz4RQwTtLtCu/w91cjmzT45jRHGTxzrHd\n",
       "JJ2CqCZ/VZgJm+WByljgW6ctRgWrsTJH/wA2JcYLlg6zX1iBrJ5gi3ilKPmbJJ45bknSmpiopCBm\n",
       "crDz2pIOs3gesojvlwh9B7ZMXmKALB1r7uamzkm8OsqitcGRf+lEnqOfuK5x3l+T//6AwHODLbaz\n",
       "V/G5DoydqiUptrr9l0+sgT5bdtl+/N92gQpiLKVo8+mrteJp8yqectVbpamej5MJO3m2PeECFURZ\n",
       "9xoyHAWXoVd3etq8iqdUteVoPZKiqvh33/700XYDB6KsuQGBYh/IY6enzavwHYu0CAv1SCLWE8iO\n",
       "EnABB6Ks188EwlJKOT1tXoXvWLTPv4+kbjY3HuCHbgcXrO+1/h9WRwfdZdQCpgAAAABJRU5ErkJg\n",
       "gg==\n",
       "\" style=\"display:inline;vertical-align:middle;\" /></a></span>"
      ],
      "text/plain": [
       "|- |(a, b, c, d, e, f, g, h, i, k, m)| = 11"
      ]
     },
     "metadata": {},
     "output_type": "display_data"
    }
   ],
   "source": [
    "Equals(Len(ExprTuple(a, b , c, d, e, f, g, h, i, k, m)), num(11)).prove()"
   ]
  },
  {
   "cell_type": "code",
   "execution_count": 14,
   "metadata": {},
   "outputs": [
    {
     "data": {
      "text/html": [
       "<span style=\"font-size:20px;\"> <a class=\"ProveItLink\" href=\"../__pv_it/demonstrations/82d205935642c2b2d4fa4c2ea298fdafcaa8d6660/proof.ipynb\" style=\"text-decoration: none\">&nbsp;&#x22A2;&nbsp;&nbsp;</a><a class=\"ProveItLink\" href=\"../__pv_it/demonstrations/2b3cb344136ee7214a487d0ae7cdb6a20f2904340/expr.ipynb\"><img src=\"data:image/png;base64,iVBORw0KGgoAAAANSUhEUgAAAToAAAAVBAMAAAAk4T84AAAAMFBMVEX///8AAAAAAAAAAAAAAAAA\n",
       "AAAAAAAAAAAAAAAAAAAAAAAAAAAAAAAAAAAAAAAAAAAv3aB7AAAAD3RSTlMAIolEdjJUEM2ZZu/d\n",
       "u6v6CvZmAAAACXBIWXMAAA7EAAAOxAGVKw4bAAAEAElEQVRIx8VWXWgcVRT+9m8m+zc7lr5Yi13S\n",
       "CBb7s1DxpZVMpLFGUQcffFHI6otQwYzgQ33pRChIKcQIFdsiuKAI7YMJQRTy4iKIFNqw4M+DQllC\n",
       "sK2ibIhpSl/iuffcOzPb2dndt1zYne+ec+653zn3nLkDG2KksCNj4Ob75f+zO8PuSfmfrvVnZ1Qj\n",
       "EvOPZtwsd34+JsuPet2C6MqpPs6CkW30Zvc6OX744q+K3eku3ch8D0eVekx0+LUHZZGVP/RzFowP\n",
       "e7Ez73zkIdXCkRqzuzyICDDuxUTfPu0NDqGns2Bc6Z27lz1YNoqLzG5xEBHgYEyS2RomhJ7OglH0\n",
       "ktgVt2CtS3bG7AAiNM7FJOnmECHgib5tMdJIzF0T1qZklxdNkVqdcFg3d+JPZTX2vMs9vzp5V9XE\n",
       "2JRKRuHvFVVSxthEQ4Vw6hC/JMwpJcEc3vyUU/3Su2O/5EZ/Vt16a9eLtF26ncSORqkj2ckIjtll\n",
       "PirznufzHnvr+ZYEgQ7H3Zzu74oKBo/jkZZaaVttzmtGFYt533hjmUXlNfhf4G2WV2865jqFOBuw\n",
       "++y6GCsRdtOOZFeiyjWXkeejMrZQdFTfMRA6PvzUfWR1pPtcaHtF1NiExTxfVfYw1p/KfSDR0VIL\n",
       "+xwscCJrN5DaJPVin9yt8BulSOp8ByXOCjmuSJTXZR/qyv+d2K9dzOjKbmPa1iuVnafiQ35ZxQDP\n",
       "r2HGw0VOqbkhokKuk8xOnJtmV2zBZyvaYFy+BootvX+gq7TjLTBdxwvQK3VCZ1R1ls59EomGqC2p\n",
       "nHZgUXozfXL3tborxMn6OuniDfW59O3rworonNDFTfVcsDWkEHSLzplKVB/XybstSiWzzgqiVml4\n",
       "MJqJdUf310OSXdkRbnDbsMXSikt1JgE1S81EVCcOrg7OyzfiuAQ7Kn2NsFSQduZGWrrAgufXHV6w\n",
       "RFJitUfOilVKbxWFVmLuXgFOSnair8uOcS0Pn7JtNcrzEtDBp10BQh312Pu2eU82yIZoUsHdtrYY\n",
       "/QNspqVdrrNHPilhvluVSmqCQgflKs+oAp4ruPwui7M7YiN17dKlpmSXo/yaa489OonST4RW6WIT\n",
       "AKNXT7Ik0OGZq5Tn6x5XDqPM2oEmo99J77DdXw1+/obsBY/NmsjOI3PBlrPjwJmvaJtaL3b/fj/X\n",
       "KG1vb8/yTfZjoHgrGYTIkC3V1kje9IYXswtXGl3XWWS2d5gvqCvBtJoMQpSm3zsjdUa5W5h2WfaA\n",
       "Xbgy3X0FhvDyMOzKtv54cRJBBL1HvxunFbK+M88qWbddaB9Rds9SrWHYmfrNlkUiiCCx7ZcfK0Rl\n",
       "V1OybrvQPqLsnnFW+rCblP+7d+bLfYLDcJP0/wMXmhZ5ZpeoHAAAAABJRU5ErkJggg==\n",
       "\" style=\"display:inline;vertical-align:middle;\" /></a></span>"
      ],
      "text/plain": [
       "|- |(a, b, c, d, e, f, g, h, i, k, m, n)| = 12"
      ]
     },
     "metadata": {},
     "output_type": "display_data"
    }
   ],
   "source": [
    "Equals(Len(ExprTuple(a, b, c, d, e, f, g, h, i, k, m, n)), num(12)).prove()"
   ]
  },
  {
   "cell_type": "code",
   "execution_count": 15,
   "metadata": {},
   "outputs": [
    {
     "data": {
      "text/html": [
       "<strong id=\"nines\">nines:</strong> <a class=\"ProveItLink\" href=\"../__pv_it/demonstrations/c8c431e93cc0dd13fcad65ae5fb100b38ad1760e0/expr.ipynb\"><img src=\"data:image/png;base64,iVBORw0KGgoAAAANSUhEUgAAAFwAAAAOBAMAAABQh2aXAAAAMFBMVEX///8AAAAAAAAAAAAAAAAA\n",
       "AAAAAAAAAAAAAAAAAAAAAAAAAAAAAAAAAAAAAAAAAAAv3aB7AAAAD3RSTlMAmasQ3XYy7yK7zYlE\n",
       "ZlRwlz41AAAACXBIWXMAAA7EAAAOxAGVKw4bAAAAz0lEQVQoz2XQoQrCUBTG8U8vG4yBMsFmMxi9\n",
       "gmBcEPuCzbBhsQoWg8FHWDWIvoJZ0IEvsEewiA8gDhQV7wZ6z85u+JU/HM49QMlpggOnJim6iAEm\n",
       "Swa6njknkFKewgoZaAErAinVLewbA0/gKDWkuCGMF0M8AP/0J9Ilm/5mZNNjDSnpSndGuvHG05Ai\n",
       "Fhh/GOhFZvusIQWd0SXhiPrBDzSkqKc+XEDdIwcp6pwF1LVz/EplBjdg4CpFQiDF6GPNwVBaMYEU\n",
       "7J2ogL1rUHT5AmAkqHlBZx+FAAAAAElFTkSuQmCC\n",
       "\" style=\"display:inline;vertical-align:middle;\" /></a><br>"
      ],
      "text/plain": [
       "<IPython.core.display.HTML object>"
      ]
     },
     "metadata": {},
     "output_type": "display_data"
    }
   ],
   "source": [
    "nines = num(999999999)"
   ]
  },
  {
   "cell_type": "code",
   "execution_count": 16,
   "metadata": {},
   "outputs": [
    {
     "data": {
      "text/html": [
       "<span style=\"font-size:20px;\"> <a class=\"ProveItLink\" href=\"../__pv_it/demonstrations/36a3aa399f953498e44ee4a6aef160da331388e30/proof.ipynb\" style=\"text-decoration: none\">&nbsp;&#x22A2;&nbsp;&nbsp;</a><a class=\"ProveItLink\" href=\"../__pv_it/demonstrations/7032435f9e00e60234aed91c34180ba2b561d55e0/expr.ipynb\"><img src=\"data:image/png;base64,iVBORw0KGgoAAAANSUhEUgAAARIAAAAVBAMAAAB4a3wcAAAAMFBMVEX///8AAAAAAAAAAAAAAAAA\n",
       "AAAAAAAAAAAAAAAAAAAAAAAAAAAAAAAAAAAAAAAAAAAv3aB7AAAAD3RSTlMAInZUiRDNmWbv3US7\n",
       "qzJazP2FAAAACXBIWXMAAA7EAAAOxAGVKw4bAAACbUlEQVRIx62WQWgTQRSG/yS7zbZJtzl7cQuK\n",
       "IEgXEcFTYxW8KO6ttCgJiOCxSmlEEfZSxF4aD14sSFV6MCAEwbPRkwfFXAR70VwVRE2aWlCKMy/t\n",
       "zuz0eenuO3yE+Zl5f968mR0AJSSN5CtQZP3ES7xIx8kJIF/7qAO1O4EOU46Fuyb+TAhuGGePlHRY\n",
       "U9d3wCp2FfYTfC0pYNZz72sw5VhcXugLXjWN0PCQbz/WgCuYLQ3AKvkQo3UUWwpYB95pMGWKwm4Z\n",
       "stLJ3b17LoaXgPManFVYLQKrYBgYq8LqK2ATuBgomDJFztOdDAeck/fAZKBQbCPXJ7AKTgKVFrJ/\n",
       "FOy/wMTLCE1D5pwMhZyT38APX2FsDm6PwCqYH9RkS4FqEiqYMuPEajNObJllMUJYEfm2CKyCa6BG\n",
       "6CrI7vjgKZgy48Spyp+3GjKe7w5nNkSW8QjewTLcLoFV8FQcnxV87ylgpul+8RVMmXGSqzM1oXyn\n",
       "I5Rlvg0Cq2BFTJs+dHxbg33jzERHwZTFtdJoPHvYaLQjJ+5PbndElleHI3iVMgpdAquQEwyOhII4\n",
       "MTGYslmTQv0/HTvpK4i+zPUIrCJ3RwRdEwriFonBlPfszirTJ3LqcqAgpjp9AqvgjVjnASodBZwK\n",
       "7G0Npsx1bIuryT1gQYNTR75KYBVcELPW8FYDjgbFUIMpx51Yv2TjlE0ncnjEtx9pEOWf6QzAKt/k\n",
       "96jW1GGdu63DlGNORtc3P4mcTcMIDdvzxzoaMD31eQesMtLZ1xc8qgnFgTQeBc7cvqYVYvf7zVTe\n",
       "J6+TL5FppeLkUvIliuk8HzNe4iXG0/DxD/dYtz20YXuwAAAAAElFTkSuQmCC\n",
       "\" style=\"display:inline;vertical-align:middle;\" /></a></span>"
      ],
      "text/plain": [
       "|- (999999999 + 1) = 1000000000"
      ]
     },
     "metadata": {},
     "output_type": "display_data"
    }
   ],
   "source": [
    "Add(nines, one).evaluation()"
   ]
  },
  {
   "cell_type": "code",
   "execution_count": 17,
   "metadata": {},
   "outputs": [
    {
     "data": {
      "text/html": [
       "<span style=\"font-size:20px;\"> <a class=\"ProveItLink\" href=\"../__pv_it/demonstrations/976d2c6f619d2574e5ef62309bd0f30cce84db9e0/proof.ipynb\" style=\"text-decoration: none\">&nbsp;&#x22A2;&nbsp;&nbsp;</a><a class=\"ProveItLink\" href=\"../__pv_it/demonstrations/c483fa89953160ced71415c9d579b71da5225be70/expr.ipynb\"><img src=\"data:image/png;base64,iVBORw0KGgoAAAANSUhEUgAAAL4AAAAVBAMAAAAKgUmDAAAAMFBMVEX///8AAAAAAAAAAAAAAAAA\n",
       "AAAAAAAAAAAAAAAAAAAAAAAAAAAAAAAAAAAAAAAAAAAv3aB7AAAAD3RSTlMAInZUiRDNmWbv3US7\n",
       "qzJazP2FAAAACXBIWXMAAA7EAAAOxAGVKw4bAAAB5klEQVQ4y5WVPUsDQRCG3yR35mJiTG1jAoqV\n",
       "cIjYGsVSIZ0oSgIiWCqIilUaEW1MY2NA/MDCA0H8A55WFgppBG0krYKoiVFBEHfn9HJJRmSneAjD\n",
       "7MMwuzcBEINCKBVT+E2V6hNlfy8QXLzmURvRA9FNFlwaQ10xL7TBuR/oGeh7uI9xqPVMLlQEp+v1\n",
       "lG4y9V0PMIXxmINgFi05RGwOjiD827Jf+lcbByzS68CwB8YONJuAENCagVbh4JwPxL3+UIrzXwH9\n",
       "qSoiBQQqBPQBaRv+Tw6cvynL+d+BJ7OK1llEywTMO/1/cOD8WoHx69K64iKbFuoPAmZA8y9x4PxG\n",
       "Rv5ctmQc/aZ9r8KacBFvTyJaImBfPKE8HsscOH8gx/RP/gEXSal+JSAvKkY7er5YiM/Asg63LKvg\n",
       "+qPP3HyE9bTTRTydRLhEID+ct8Khof9w7o/77TerEFcbKBPkfETQW+fQOJ8dZv64BDZSVYijRoWA\n",
       "c3FkE+kiB/Z+ba7/NWDBAyOHYIaAEVFwgAsWdX7tRV5Ist4v082mvu2BmMpY0cGDXE6Lxzxq/C23\n",
       "bzfCdFynp7Q+3130AKODdz9oLv63YN3+KdoU17Mx+19FuGYjLKnu/zOlap+t6p9Qqo4o/0H64irV\n",
       "CUX7NwBDFRgglw4kAAAAAElFTkSuQmCC\n",
       "\" style=\"display:inline;vertical-align:middle;\" /></a></span>"
      ],
      "text/plain": [
       "|- (99999 + 1) = 100000"
      ]
     },
     "metadata": {},
     "output_type": "display_data"
    }
   ],
   "source": [
    "Add(num(99999), one).evaluation()"
   ]
  },
  {
   "cell_type": "code",
   "execution_count": 18,
   "metadata": {},
   "outputs": [
    {
     "data": {
      "text/html": [
       "<strong id=\"number\">number:</strong> <a class=\"ProveItLink\" href=\"../__pv_it/demonstrations/8ca6069e4514a482da44c953b87634f3c78f9fa40/expr.ipynb\"><img src=\"data:image/png;base64,iVBORw0KGgoAAAANSUhEUgAAAEgAAAAOBAMAAAB+wkcFAAAAMFBMVEX///8AAAAAAAAAAAAAAAAA\n",
       "AAAAAAAAAAAAAAAAAAAAAAAAAAAAAAAAAAAAAAAAAAAv3aB7AAAAD3RSTlMAmasQ3XYy7yK7zYlE\n",
       "ZlRwlz41AAAACXBIWXMAAA7EAAAOxAGVKw4bAAAA8UlEQVQoz03Qv0sCcRjH8bd9uZNDyy5waxAE\n",
       "G70gaLwhGgOJtgaPllbBxcHB3cU1MPJfcA7qon/g/gSXaHQ4Egw7/H5v6HmW1/Dw8Pz4QCVsoyA8\n",
       "iTTT5RzMNY8TgYueP1KYY9YrDgYEM4EzeFJ4BfGCxoJaLvAL75FQH7uOeIa3E8wW+p//pPbIdVZO\n",
       "+hPKSZkA9RvKm34Ed8lLT8C/7djvxjwUApep310Jbp3l/P5rozDNt34i2KZqbnE/aexPgp8QFK5o\n",
       "09HYdIRG7pqOhsSJwHdkNopqy63zrnhWcBcFmeIwcznxGqaa2vJUw0c4Zw8014XJNwENEQAAAABJ\n",
       "RU5ErkJggg==\n",
       "\" style=\"display:inline;vertical-align:middle;\" /></a><br>"
      ],
      "text/plain": [
       "<IPython.core.display.HTML object>"
      ]
     },
     "metadata": {},
     "output_type": "display_data"
    }
   ],
   "source": [
    "number = num(9999993)"
   ]
  },
  {
   "cell_type": "code",
   "execution_count": 19,
   "metadata": {},
   "outputs": [
    {
     "data": {
      "text/html": [
       "<span style=\"font-size:20px;\"> <a class=\"ProveItLink\" href=\"../__pv_it/demonstrations/d83ee8f76165e80a7cf1db5c16eac4a4c76b1efc0/proof.ipynb\" style=\"text-decoration: none\">&nbsp;&#x22A2;&nbsp;&nbsp;</a><a class=\"ProveItLink\" href=\"../__pv_it/demonstrations/91066644984d65494f22262b21626f1d57af9af30/expr.ipynb\"><img src=\"data:image/png;base64,iVBORw0KGgoAAAANSUhEUgAAAWMAAAAVBAMAAABh4JK6AAAAMFBMVEX///8AAAAAAAAAAAAAAAAA\n",
       "AAAAAAAAAAAAAAAAAAAAAAAAAAAAAAAAAAAAAAAAAAAv3aB7AAAAD3RSTlMAIolEdjJUEM2ZZu/d\n",
       "u6v6CvZmAAAACXBIWXMAAA7EAAAOxAGVKw4bAAAD2klEQVRIx81WPWgUQRT+7nK3693lLltYRD0x\n",
       "xt80eoWFoEgUFEQhK2ihWAQbCwu3SKFETApFEYyCgm5I4hWCJFVstBDMNRrEmASbYCFGUSEqSfxN\n",
       "NInn/O7ezu1urrDII9x8mfne22/evnmzMEAtgiVjiwtax373hYeJ3Pv/0kzohl/wbew3mltEslaH\n",
       "SH23YOn1DZJfX2+yUSsWi3PS46gY7R6rDHE7bgU/z+EOXB6ylOAR+6qJWN5fcnxQELjkM8BZaL/4\n",
       "WgL4yFFtLlPge35l20+l7zAfzjXG76uIb3niWrBkl/t8fhOU4KsR/Q5c8pV8/vaMJDDJnUBTsz7L\n",
       "F/vYFqhdQHqURyUbvC58Y0LyZ+C1ioQ1BUt2ueNyyg3+FngE9PpnOTYjCUxyP7AjByF5i5SszUi6\n",
       "BmQkPtbBR8Leailocckud7w8+ICFKQMpK1AyJ1DJWjtz/cPXTo/RrBNL95d4bJCgjkvWF4i0nBcp\n",
       "kt+yd+2xEu54efAvwJSJZflAyZxAJSfq6NzOPF/LFPc3M5C6uP6G0zNGpadRkuW8grySsyYiT3yy\n",
       "zLmf9nwoCw6MELXjgZI5gUpm+zo8aYrFO/O8+9RcQapZzGVkiJXocKryTaOCvJKJ3qxZXsuCO4Y1\n",
       "OTU44j+AZLsjuWuI2nCJZEqgkquZMNkxtLVvOGqbRuKhiLXKqQspuTUXn2pWkFLL2UNqkj3cdEEN\n",
       "jmqSYa0/JMuUQCWncrL6qfVCm2OorYDkd+GwWYxJQ0rWb25sMhWkSI4MqUn2cBNfleBAN03kdIjk\n",
       "briSj5A3xrdPEruGoZp2JMWRxAsxLoeUjNI+4d8xfCQ73HQ7Ej+V4EjSMq4KyTIjyMIoWkKyTjaZ\n",
       "yYsXJ7Os/xWOuyYn597JKG439u/LPoXhcFMFZKaV4DiBiAGtEFzLjEAlp8mBeEwLQ6dr5HZKGxRp\n",
       "pJb7wR5f9Zv8CCGPOTpl6T/BHFwUfvw8XuQCSY0qweN1iFlIjgZmmROoZNpW+mhfbqOHdbuFuxy9\n",
       "RKu4E7VvJBniqlng6KCVznOag8g8W9pqeJscn/d6kQvvgKUEz9p2l2i55ZKjXyWBSo6TV1Flk8+i\n",
       "6kH634QtUNQmrZN9vEQeQCB0F98zFG0gTZvTHPSM/U0OdLDCon23lj2Oz3u9VvTcUoOPFItEeXXO\n",
       "T3Lm8+wnQWAXtlNyJ1GGNCsM+TgEmo+XX8hsRR+fvW7XLUNRhCEfh0CLVha8syLJaUOcXecSc1EL\n",
       "QpCfQ6C1VBSc396LStbFJR9zz6eDGsOQn0OgNVYUnKcvTPJeeUMsFdvNd2UGEv4BWpFZKPppN+kA\n",
       "AAAASUVORK5CYII=\n",
       "\" style=\"display:inline;vertical-align:middle;\" /></a></span>"
      ],
      "text/plain": [
       "|- |(3, 8, 6, 7, 4,9, 9, ..1 ×.., 9, 5, 7, 2)| = 12"
      ]
     },
     "metadata": {},
     "output_type": "display_data"
    }
   ],
   "source": [
    "Len(DecimalSequence(three, eight, six, seven, four, ExprRange(i, nine, one, four), five, seven, two).digits).computation()"
   ]
  },
  {
   "cell_type": "code",
   "execution_count": 20,
   "metadata": {},
   "outputs": [],
   "source": [
    "%end demonstrations"
   ]
  },
  {
   "cell_type": "code",
   "execution_count": null,
   "metadata": {},
   "outputs": [],
   "source": []
  }
 ],
 "metadata": {
  "kernelspec": {
   "display_name": "Python 3",
   "language": "python",
   "name": "python3"
  }
 },
 "nbformat": 4,
 "nbformat_minor": 0
}