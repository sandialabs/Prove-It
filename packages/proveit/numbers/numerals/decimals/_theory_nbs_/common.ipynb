{
 "cells": [
  {
   "cell_type": "markdown",
   "metadata": {},
   "source": [
    "Common expressions for the theory of <a class=\"ProveItLink\" href=\"theory.ipynb\">proveit.numbers.numerals.decimals</a>\n",
    "========"
   ]
  },
  {
   "cell_type": "code",
   "execution_count": 1,
   "metadata": {},
   "outputs": [],
   "source": [
    "import proveit\n",
    "# Prepare this notebook for defining the common expressions of a theory:\n",
    "%common_expressions_notebook # Keep this at the top following 'import proveit'.\n",
    "# the theory is in the current directory:\n",
    "from proveit.numbers.numerals.decimals.deci import DigitSet\n",
    "theory = proveit.Theory('.') # adds theory root to sys.path if necessary"
   ]
  },
  {
   "cell_type": "code",
   "execution_count": 2,
   "metadata": {},
   "outputs": [
    {
     "name": "stdout",
     "output_type": "stream",
     "text": [
      "Defining common sub-expressions for theory 'proveit.numbers.numerals.decimals'\n",
      "Subsequent end-of-cell assignments will define common sub-expressions\n",
      "%end_common will finalize the definitions\n"
     ]
    }
   ],
   "source": [
    "%begin common"
   ]
  },
  {
   "cell_type": "code",
   "execution_count": 3,
   "metadata": {},
   "outputs": [
    {
     "data": {
      "text/html": [
       "<strong id=\"Digits\">Digits:</strong> <a class=\"ProveItLink\" href=\"../__pv_it/common/dc613b38f2e2437121f05ba71d28bbec8e41bedd0/common_expr.ipynb\"><img src=\"data:image/png;base64,iVBORw0KGgoAAAANSUhEUgAAACQAAAATBAMAAAAKUbK+AAAAMFBMVEX///8AAAAAAAAAAAAAAAAA\n",
       "AAAAAAAAAAAAAAAAAAAAAAAAAAAAAAAAAAAAAAAAAAAv3aB7AAAAD3RSTlMAEN27zYnvRFSrImZ2\n",
       "MpmnAiL6AAAACXBIWXMAAA7EAAAOxAGVKw4bAAAA0klEQVQY02NgQALNCxiOHmVAETnAwBnAMQFJ\n",
       "ZPMGBgb+C4wfESKHG4DE+gUM3xmEPpsIMIR9K7gGEmFgK+D9zcBgwT6BgfEDA4epAFCI3VD6BwPD\n",
       "pAXRDAwJQB5YTOLCLwaGGQYsCxgUgDzeeQsYeAXYgcxZe7gcwEIMXDMFmDewXAAKcV44ChFi4GJg\n",
       "3x0LpGcxGDAXKKC4eRbDPUZFdCHuhuYEhsvGQLAAJsQwkTMBTRWDJCO6RgbeAwYoQrZAfBZVyAOI\n",
       "+RyQRa58A6pgRBYCANaLMulDVKaLAAAAAElFTkSuQmCC\n",
       "\" style=\"display:inline;vertical-align:middle;\" /></a><br>"
      ],
      "text/plain": [
       "<IPython.core.display.HTML object>"
      ]
     },
     "metadata": {},
     "output_type": "display_data"
    }
   ],
   "source": [
    "Digits = DigitSet()"
   ]
  },
  {
   "cell_type": "code",
   "execution_count": 4,
   "metadata": {},
   "outputs": [
    {
     "name": "stdout",
     "output_type": "stream",
     "text": [
      "These common expressions may now be imported from the theory package: proveit.numbers.numerals.decimals\n"
     ]
    }
   ],
   "source": [
    "%end common"
   ]
  },
  {
   "cell_type": "code",
   "execution_count": null,
   "metadata": {},
   "outputs": [],
   "source": []
  }
 ],
 "metadata": {
  "kernelspec": {
   "display_name": "Python 3",
   "language": "python",
   "name": "python3"
  }
 },
 "nbformat": 4,
 "nbformat_minor": 0
}