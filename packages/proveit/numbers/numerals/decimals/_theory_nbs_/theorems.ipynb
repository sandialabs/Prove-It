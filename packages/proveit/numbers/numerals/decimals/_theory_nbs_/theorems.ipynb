{
 "cells": [
  {
   "cell_type": "markdown",
   "metadata": {},
   "source": [
    "Theorems (or conjectures) for the theory of <a class=\"ProveItLink\" href=\"theory.ipynb\">proveit.numbers.numerals.decimals</a>\n",
    "========"
   ]
  },
  {
   "cell_type": "code",
   "execution_count": 1,
   "metadata": {},
   "outputs": [],
   "source": [
    "import proveit\n",
    "# Prepare this notebook for defining the theorems of a theory:\n",
    "%theorems_notebook # Keep this at the top following 'import proveit'.\n",
    "from proveit import ExprRange, ExprTuple, var_range, IndexedVar, Literal, Function\n",
    "from proveit.logic import Forall, Equals, InSet, Set\n",
    "from proveit.numbers import zero, one, two, three, four, five, six, seven, eight, nine\n",
    "from proveit.numbers import (one, num, Add, subtract, Mult, Less,\n",
    "                            Natural, NaturalPos, greater, greater_eq, LessEq, \n",
    "                             number_ordering)\n",
    "from proveit.numbers.numerals.decimals import DecimalSequence\n",
    "from proveit.numbers.numerals.decimals import Digits\n",
    "#from proveit.numbers.numerals.decimals  import N_leq_9\n",
    "from proveit.core_expr_types import Len\n",
    "from proveit.core_expr_types import a_1_to_n, b_1_to_n, f_i_to_j\n",
    "from proveit import a, b, c, d, e, f, g, h, i, j, k, m, n, x"
   ]
  },
  {
   "cell_type": "code",
   "execution_count": 2,
   "metadata": {},
   "outputs": [
    {
     "name": "stdout",
     "output_type": "stream",
     "text": [
      "Defining theorems for theory 'proveit.numbers.numerals.decimals'\n",
      "Subsequent end-of-cell assignments will define theorems\n",
      "'%end theorems' will finalize the definitions\n"
     ]
    }
   ],
   "source": [
    "%begin theorems"
   ]
  },
  {
   "cell_type": "code",
   "execution_count": 3,
   "metadata": {},
   "outputs": [
    {
     "data": {
      "text/html": [
       "<strong id=\"md_nine_add_one\"><a class=\"ProveItLink\" href=\"proofs/md_nine_add_one/thm_proof.ipynb\">md_nine_add_one</a> (conjecture without proof):<br></strong> <a class=\"ProveItLink\" href=\"../__pv_it/theorems/b0f22291f875be08187d94cbca42fb0a16a26d530/theorem_expr.ipynb\"><img src=\"data:image/png;base64,iVBORw0KGgoAAAANSUhEUgAABHYAAAAaBAMAAAAgZsaBAAAAMFBMVEX///8AAAAAAAAAAAAAAAAA\n",
       "AAAAAAAAAAAAAAAAAAAAAAAAAAAAAAAAAAAAAAAAAAAv3aB7AAAAD3RSTlMAq1RmmUTNIjK7EInv\n",
       "3XZ/CtNrAAAACXBIWXMAAA7EAAAOxAGVKw4bAAAKv0lEQVRo3u1bf2wbVx3/2mf7zmfHdic0RqtF\n",
       "HhNbWZvEI6NappV6NIWOrlsE/AUZcemkaZMQF8SQMtbWk6ptf6RNWIlGClqPtaq0tavdroOVsi5b\n",
       "FLUURkPpRlUwcraK0gWyKP2pFBrer7t79+7OdujJsClf6cVfv3vfX+993nvf984BqIUCpT/BHM0R\n",
       "R4nS8doaRurrl8YKIbmORmf3oKKD8izb++Vvjdrl/9Y72WzT+v+InUSaFkrv1c+oO32rimS4XHut\n",
       "fwF5+etttzYnqsnj57RNK6Twx81VsRPAH8FMXYZxESuEgsVr1qf+bJQyofb5IHKc0Rffdkyyg/d2\n",
       "QKJC1ETP+47qTbpbrW8BUX/NsLzsHjzN1qbYoS87nXAR/+H+AW+/DT34+fsUOyvwx8NVsRPqwB9a\n",
       "PaCj5mhRRkMI3zt90BjJUsV/hV5N4Hij8JAouAOCUwCPertK9ER0ofYT30U1Yq2fAVF/WVhediNp\n",
       "lWWp34aXhZHbCU5xULPQknbx2ySiJ2LYaIUn8fTqr4odBa9PPXVZdkIZWhKTDSi65T5oTNL1PTAE\n",
       "0X6B443ClCj4YVq9CHCH9xmC6JGMQfiaKYf6Vso6thnfAqL+JtMV7S4FOEAYaRRiwggvB07c9G8K\n",
       "CjkXvw2ievBz0qaVQCiWrp7v4Mm3ry7YibMSGkqiaTrkg8YuOpWSOYhNCxxvNDwtCnZ2AMJO3HMm\n",
       "Mj1H2ddmfgzNWmu8fQuI+tulV7T7I4AW0iKagqAQ2hAvbqYyIzggp98GMT1HmY1WkDI1pMIRmlXn\n",
       "6oKdW2iRlg5/eB0E/bD5Ov0o9EPigsDxRmMuwxo8h6InCU9Acy7QTM9a1zFcK05b/wKi/r4OFe2e\n",
       "B+gji0IyC4p9SSVO/NpFbUvGkP+kc59hetYyGwgRb5dKv60BO/FS6S/FumBnFS2FmZmZf0EI2+w+\n",
       "tJ5PYBecqXIWsLcHWDNxnbFKnAM7xxuNpIL7xbn4IOrMGDlPyCcB1uWd6w7Ss9d1DPcKqnwMiPrL\n",
       "wvKwq2LsENQX0JjboyVOrIFFXxFXnj+a8ihUHLEtAKpnL2uDsLMSYGsN2AnlIarXBTsGrpPlZTqZ\n",
       "8+HDsI0z3alFpysfI+3tQb2oFzSWnVw185SrDqOFzKefEM5Um+chtEg51ptiZxp6lrhih9SGSoQI\n",
       "+nwLiPprhOVqFyHyCsIOweSGIij2aLET6rngrcNCMj92gymPYhVnCtOzhLVB2OkGOVUDdlCj7mvH\n",
       "RS3oO85KIf0GQANadXdnYDWHhGEIjVZUYG8PeJOO405UR+BJunZbHG+05bH0U+JJEp+zgkOsN8XO\n",
       "NPQsdsXOYtEv3wKi/hphedgl2CkaY37FJo2dCF76quI4X6NzliG/7mlxpjA9i5kNhJ2oHuvgWyxl\n",
       "66d84lW4O2XdDW6FV68ZOrfnlVd+SVnPbB5GWOnL34i2SuTbAwB/BtjOEoXQJDQUYdfe+Z4KaHtu\n",
       "hc5BknTijvHmy+zwbXKc0fvupGP5HbJUMJwc00GZZL150mGK6unD7OpS6Xel0h+sMewTG/sWEPWX\n",
       "heVlV0XD3EXGslCEsH3dwU6EhmmEO0m0LLT4tCkvl8SZwvT0MRsIO8FyxKEXNn9qAG6K6SHdwk7z\n",
       "7FPlp/ptMFT359H5gN1vkEfKI2bb8XEBOzQ9wN78BtQLoEywuRnvh0IHgt5qT7OkPT/LitDFTpLW\n",
       "6Uo4Z2Gj77aLvfUMwLY0hIc8sUP1dLquO52u+Y4fAVF/rbDc7Z6nywjJcYNTjjFueGileP+E0pIp\n",
       "U96JHaank9kgp6cv2FcmPBWw2pvL2Zi1Z0FEKs8WO4EiD0N5FdoQCpDULezAAjZHUNNgyr5nSdsm\n",
       "Lr6HV1f1Kkho5gdZVxfKsAzgAmzIe12b0fa2650H2CSwbnWE+x1kUJ0KXxZUzegYO8yyy57F9DS5\n",
       "YqdJyHf8C4j6a4XlYhfRIMAynbkoTTv2rEK6S8z8pwl2mrz2LKanidnA2Nn3KIpr+eaxRBvR1SaP\n",
       "0zvnhZ9Zz2MndsusU+V4nofhOrygxdItGoedI3RU7tGTedUI73lWbgS0QEbLaEwhkLuVdLVKsga4\n",
       "Pqjdhbva6RBuQNtzESHdJCkMHoUCFbI4sIxK0+pUwq7uTbJnSf1uubJq6oE2V+y0ic75FhD11wjL\n",
       "y+7dAF8i8tIQ3t943cgJhKtC2r4axFNkz2pzzZV1Qw953saw8wSaFNs7M/FUgsz8xu/tfpx01sLY\n",
       "C9/ksCO/icN4ZdzIJjmWC9VW2Tcxn4fh7Rg8j+3m96yrY8gnZZ4GGzQwlmXjDDgoT9Hz8fPQlM2S\n",
       "ri7kcNzBEyFyu4HvfOkfXG8ytD0XUSATJdlV4hRsoc0sDgkQGWQwkFMvx+zhtJL7HXKi5c7oVAaL\n",
       "ET30wGwbwzc0rtYk3wJi/rKwvOw2pNUjVP447M4busknduJ6BHv7pYuUIfc7q+xndCpDxLAe8w6F\n",
       "YCeAvj/+NwRj2ke/TythclJdCNmzHHYAn99e1voMbHCsRfbKf+qnVR6GN2VQZj7BYSdxKpGF8I81\n",
       "vAObVxCbWGlUD+N3QAA/H3+6MU+6uuEUiqXxte6/oweILeG5dAJ3U9ZgUC1tz0WkLmDvAQ62dzAh\n",
       "k0OSRBgZjKbh9AfC4bj9XpwZkLME7iaZpHxUhpgieuAdATvzjq3JWLUm+RYQ9dcMy8OuumosT+V3\n",
       "HLrB0n0CqBPPQuJ+YZ37evuAGQ0e7R8QjspgcaKHPH8HuN9gNEIv2QVBPr8SpEcGB59F2NkV4bGD\n",
       "qR01gx7dYMPNK+zWyXOTtsASOww3dkjjGQ470YyUC/8Uqwtv3W6kcw15WiiZ2wRJD24zdWMngs41\n",
       "3mpgRiSeunUnxxt00jr3atOUPCquO7ZagfwJyOZvJbu3uUULJ72j9fDbFMfPSRsTO0fgLGxQ8MLV\n",
       "/6CsFOmAh5tF7IzAGChNusHGUe4rpP9j3LcjcI8Dhgb104QolOql3fFC/pKxdGb5F4l32LraXGTl\n",
       "rKxBzBliERwRiQcjFw4qvAH0fHtZ5N9L2t9J2moF8icgm7+V7Bbdoq3wetfL7xj/nLQxsCNPIli3\n",
       "hWAXBMqbYvSi+fNgAsEYePUSbHkJGnSDlW3LDKuUvti6YhGZFpPwFgfD77e3t3fYsZOEeFo9gMGj\n",
       "6GET78+xQtM6jetq1Uzuep7ZqMMeZ75lNjAictAeF4436JyI7r8y4Hxxfe71owOfAvL0t8dDfo+r\n",
       "EzX7vYd/3gMcdsIpeBi6P4DedFQL3Ak9aOiVdzX6iy9+3TmsXLgLY0ctUhYGMLvL/IMrg2dhBP+2\n",
       "qAin0AlFhKENOw06TtjPZvDuFTFX4RdZocEbd0S/uFIG6xh0bGYGwHlpYDUwInJQ2YXjDXoPtpcp\n",
       "92H0GlyfAvL09zkP+bKbE7X7XXbMbMdvTukGoh4YHBDeSbBs6nMoX0HYUd6ibCiP2V5NOYz/sMqf\n",
       "qLlQGtdvRHmxCEMbdpT7iUttGQi3vmZN9DItlNbX5SUaZ1CkM1UkE1rttf4F5OVvorbf562fXTT2\n",
       "57SNiJ2w7vU+i79ZwlkdZX+VMFkwudFgsUEyvokwtGHHoM9qMEcfNRKxI0F17Cj/2AfwDVo/82+D\n",
       "xUQ5NZXoCJzh66tiZ44+BtjxoIjj/7MybmzGq8kcdj52lCgN/89sz+1SH3n6D5B3BgFDc/ArAAAA\n",
       "AElFTkSuQmCC\n",
       "\" style=\"display:inline;vertical-align:middle;\" /></a><br>"
      ],
      "text/plain": [
       "<IPython.core.display.HTML object>"
      ]
     },
     "metadata": {},
     "output_type": "display_data"
    }
   ],
   "source": [
    "md_nine_add_one = Forall((m, k), \n",
    "       Forall((var_range(a, one, m), b), \n",
    "              Equals(Add(DecimalSequence(var_range(a, one, m), b, ExprRange(i, nine, one, k)), one), \n",
    "                         DecimalSequence(var_range(a, one, m), Add(b, one), ExprRange(i, zero, one, k))), \n",
    "              domain=Digits, condition=Less(b, nine)), domain= Natural)"
   ]
  },
  {
   "cell_type": "code",
   "execution_count": 4,
   "metadata": {},
   "outputs": [
    {
     "data": {
      "text/html": [
       "<strong id=\"deci_sequence_reduction\"><a class=\"ProveItLink\" href=\"proofs/deci_sequence_reduction/thm_proof.ipynb\">deci_sequence_reduction</a> (established theorem):<br></strong> <a class=\"ProveItLink\" href=\"../__pv_it/theorems/7cc5dccb645983a1def2fffea0d5020d781e624a0/theorem_expr.ipynb\"><img src=\"data:image/png;base64,iVBORw0KGgoAAAANSUhEUgAABWEAAAAaBAMAAAAkmoPQAAAAMFBMVEX///8AAAAAAAAAAAAAAAAA\n",
       "AAAAAAAAAAAAAAAAAAAAAAAAAAAAAAAAAAAAAAAAAAAv3aB7AAAAD3RSTlMAq1RmmUTNIjK7EInv\n",
       "3XZ/CtNrAAAACXBIWXMAAA7EAAAOxAGVKw4bAAALkklEQVR42u1cD4xcRRn/9t/t27d7e6ckRm28\n",
       "bINg09JjpX/CNVo39hChAktrYqhVzgBpaBS2pEqqtrdWohCvvY3YwDWkvEpSrVd72xYES6iH2ByC\n",
       "4EmKkqNnthQp9OxxXqy9lNhz/r+ZefPudq9PPb2b5O1+M/Ptb75v5jfzvpn37gBqSR8ZLMBsmk3/\n",
       "tXRmMFPbD9pmZj/FhVQIGA+mDV5hCjX/2REgXkays4ytIr3BhXQmWLyAUqxy8Rhf9qsIyOeL95B4\n",
       "iRjbiAsurZqxIfwVzs4owobLXFoQFN7el0wV5lK/ZD/Sz8WTUvH3fiMrWV/NTYzCFdJ+Y7og0L7U\n",
       "7FGNNSSucJJdiLHX4Py6qhkbzaOvupkVze5B1za4EXGkLTC82401t9eEUycGv86RikcVpYbJlkiu\n",
       "sN5TE6TPfvaMTqY/6nqIL8TY7+AIoVQ1Yy28Jm+aWUHBCnS9C8cAotnA8JSRimVN4xfza221Z/Aj\n",
       "0sIVO68o3+pMYg1XWOypCdJnH3s0Yw3hwHnXQ3JlCXGTmaoZS6biwZnF2F50fQ4uAKQCw1NHKlwx\n",
       "jV/YLzpt9g7+C25tsl9RfmYya7hCykPtIH32sUcz1puEwgv0QozFm6+6GnZei2bcBiyMvT6+/G8Z\n",
       "uDwwPHWkODfNpb6MlQb/NlOsUF2gwRXq9MU0SJ/97KnLVRv53EYvTNeXBgdfrIGxqcHB4+UZxdho\n",
       "GexxlHphJY6g5pySmaRlDecyHgWEB3VNJzJebppLfRn7leH386IDXNhwpDMjN/726CTWCYVko7ax\n",
       "C9LnIyeLBntUYw1JUjhAL8zYzwLsrIGx0SIknBnFWLL4XIicp/N8bSEh37u1rDd5FTBez3r7nJeb\n",
       "5lI/xtr/cHr4FngpD/v64FFnatZFyJ3zhkGc/kBKgvN5cyZa8lZoxhqCWElhKb0wYzdAvLEGxiLl\n",
       "DdOTWf+ueVSPprk9mhwBeAUJz0FUundrWcMRlFcB413pwMtebppL/RgbPg8prnIF+96Xhc+ojbdN\n",
       "Zh1XCPfqlcH5/Dq1VLNHNdaQZIUr6IUZm3CSeYN25M98fqzMR551GYsW5CemJWE/XrQOPUlFGvuE\n",
       "p3IGZ2BJCnWPNRZCY3AU3WJGoB5FCXxNo9nuAx/2DSmIggcPDcR78BgZvSgKs1BkhlcNXGo//T5H\n",
       "LVUTWgR/RxdBNPgNHLqTfd+E2cGAq7aODrU1olUG53P0vFwhgIixzF9jot58ssI97KSMDVfMG6+j\n",
       "2OgTXflw42G4XmJsc80bL+tOr2SqlXaIYybRTb8qujHTsSfgE41gP15E29o9tIwe1i3RoE0Neeqi\n",
       "RsaymA51SaoEPXnYfobXkWwObvADpgoexr4OsVFruF9bTXFpVKxPk62xaPBv5VHeWvb9W7DPggCu\n",
       "1rqj5Bbca4xjg/A5VZIrBBAxNjrBgk0USH9RD9eyp7Rty43RM55yrYgZ4eVRKEuMrYtUal245hgk\n",
       "mKgsPmIS3dTOvrd/aAfMTTpRJ74SLag90OC4jLUbJeio0pBKS6UuVjZGBS0X3r0rg++QPRX4FCpb\n",
       "yOpo9iy0F31cZ/o63ihed8I6Y3FpQz4+Vh1jGzJwE1+emD32BYig/uLAVVpHu5j+SIpjg/O5p6JU\n",
       "KMa6/nqjC+pNu/BwIWPswfVIWLH9RLoFm4CkN0lUUNpSJk/uwlu/UJEZm7y85oDxeYMEE5WlSybR\n",
       "Te8wrqFdI1xaySVhM56HycyVBZex+OmcgE4oDSUUMLXO++gngfo71N+APnehTs/AB1C4gfvPBp5d\n",
       "hkfP2yuuwuKrhxtPPizhjeEYzcNYXBpxqmZsEcWFCBnHQC089IRQ28cIcA3W4aHGA64pmHx2puRz\n",
       "A+JRHnQgaizx1zbuSpg3LfEh5mELY+y30WL02NpsqjGNoyYs4XEPnZrft5d0XPHwZTJj4ziotQ8N\n",
       "8Sixe/mT3vaUQuvCCUeXTLX4FGQ5AX+LD5YkyuB3UYE8Tp932ZYkimJxj3x9nxQV1MvQCdBzKmPd\n",
       "uoOqLezYJ1Fqz5DTlUQlfCxKZ3xPm8jCM2jnzoqIIHJEwV7yHDwLJ6RjpEvgR+BlLCkVp7LiBKFN\n",
       "wpMYG8omchi5D8krGdIuWJjLEWAf61Q0qoCHmh66qf3i9Zn8sHafoyVIFsEDRI3F/qouihxVaLpn\n",
       "X4F6uJIxNoTAvvkWmrLEZizhwUu9AcXVlLFRsc6RLvsgun5e6GSMtf9knfPONKUwPZDO6ZKpFrEs\n",
       "30HB+Q1HEmXwMdwJYBOz5iV//EX0NTeL9pDDEmO/IUMnQM+pjHXrPgrRLpQeZLZgNqPxD1Vwr21D\n",
       "bTY9teFtytj6AZG1kDiIeq0egxwD9iEU4vvb0PrJWYXxdj+eNTCWlMI2Ry0VoPU59XRrzgrAyHhb\n",
       "8ypD2j30/aYiAfazzkUTCniocd/ra6zBZwwzBZ+fXnSaWKwCUWOxv/hXrovkw1V4OWMxD1+V3zZs\n",
       "gg4SYGGJhPHtKIZdioYuEy7a5TaZsTi1InXYRDa1OasXVr2puksKXUpkI23xnVzSdXEZl6+DnxLw\n",
       "TgZOxFjzNTr4CIRz/MH7PMiRIOG+fGQoKzH2FqVhpXEvY10jblFtwek1MaHE7CGh2HwBgY0Ne2+R\n",
       "893BR/3xCmh4HsbSwH1ntU8QKDLeMcXVzQsBrt46PNQAm33O9hSfJZjafJaTCkT8ne9REgrxv+PY\n",
       "D3uIL5exz6PYsN2iUiv+bon1F35A11hYVdEZexSt99ZCshbnUTDRa49o2+G0dC6TKkYbtw5wyaOL\n",
       "yuTzCfz5DgMnYgptqTTwEnlBI3JnV9cPEWO79cMOwti5bsPXdT3S1ZXljdOcIKaoo/kHVFtwEu+I\n",
       "uC+cEMaK22g8Fy9A0js0ZdfHdCk+UtTwBGOVd142wr2GUjmtVnsvV9RfVyHA1VuHh5q+n2M65VR8\n",
       "dmFq9FlnbFL117vfFQqR0pfi9IUcMuZZd0feBC1R6MbSa/PsMjRZ/WXycCuSB0E/zlj7HDz4M6gn\n",
       "cXghscwpWOrRCClcfOniVU+RwBtSGRjgkq6Lyxavpm9hnmPguxg4EePQoYOfduruHQarTNfYWDNs\n",
       "bG1tzauMfUBuOKE07l1jXSNEVOCGNQlxsPuQ3Om2WAM33X+fA/u9sVHFPdsIVSKlnIYXNh3rxB++\n",
       "//oaNrXtUL+1qL9MR3Ze1VuHh9r//T3FZxemRp91xu5X/LW9t5P97lq9LUlfF8SXYGysEdbBhtPQ\n",
       "kUHSUNb6NTL0kmIcb/W2rQPQGQt91tllmFTdkCp0rnYgkUci4jn7IIXNpVQecaAb6aFN3oCQNF1c\n",
       "1lxC+ySUuwOS6LPPGiPgXIQdOvh3nYZ79rKny0tA7GkUxiJE3jBlJW+c5jieW0eMgGEOcoeY5rYY\n",
       "zL3s+1t3H0Gxr2jv9+PjpmcPrsLNUFeINzkqXvwX75meV4yPj9TA2JshfUhilQtcg3V4qKVpqSXF\n",
       "58pUfZaSCkT8TU/wKCdRCF1NPXwITH81w46kw2xX3tWV157S0vT5q1DMiEiFGL6i+RB5OaEjY/VB\n",
       "RwF/0MJEcQ98mpTfWCHEYZKmi8tCRbRPQtNk46LT6JODczFa9IJ34icum9A9x/pjgf5hhM5YNAS8\n",
       "YXYewBpnOYbn1hEj3MHfSHcLOG0RXKj5KNqYtgT8uC8dwBv2p/wqAvL54j0kXnoYG2NzYo35h+rT\n",
       "LnzjpgxPOhVBdkH7elgA/VmeG+DlJt16OLmGT5OwC87Ew2kv+NDmn6DF6pddO0xmluRnAQPy6QBp\n",
       "3HQey42wSzCbpnHyMDbCvrNVMNb660HO8LvH+wXZBe13w1+gqcBy21/MMMmkuxsWZPk0WSPAmVg3\n",
       "/k8v+LXJq/zdoqy7FnjD7lMu3LjxmRc3Ijr75+3/W4ydJH1N/38FEZMY8VGJTKKb1SdLdlLwiRib\n",
       "dKbQI0tmSTGd05nj/59/FMum1VQY68yyYpqnfwHVH444BtNAAAAAAABJRU5ErkJggg==\n",
       "\" style=\"display:inline;vertical-align:middle;\" /></a><br>"
      ],
      "text/plain": [
       "<IPython.core.display.HTML object>"
      ]
     },
     "metadata": {},
     "output_type": "display_data"
    }
   ],
   "source": [
    "deci_sequence_reduction = Forall((m, n, k),\n",
    "                                 Forall((var_range(a, one, m), var_range(b, one, n), c, var_range(d, one, k)),\n",
    "                                       Equals(DecimalSequence(var_range(a, one, m), Add(var_range(b, one, n)), \n",
    "                                                              var_range(d, one, k)),\n",
    "                                             DecimalSequence(var_range(a, one, m), c, var_range(d, one, k))),\n",
    "                                       domain=Digits, \n",
    "                                        condition=Equals(Add(var_range(b, one, n)), c)), \n",
    "                                 domain=Natural)"
   ]
  },
  {
   "cell_type": "code",
   "execution_count": 5,
   "metadata": {},
   "outputs": [
    {
     "data": {
      "text/html": [
       "<strong id=\"deci_sequence_reduction_ER\"><a class=\"ProveItLink\" href=\"proofs/deci_sequence_reduction_ER/thm_proof.ipynb\">deci_sequence_reduction_ER</a> (conjecture without proof):<br></strong> <a class=\"ProveItLink\" href=\"../__pv_it/theorems/617e267a20d4b4aa64fb9327d5d9ba4644c6bec40/theorem_expr.ipynb\"><img src=\"data:image/png;base64,iVBORw0KGgoAAAANSUhEUgAABiAAAAAaBAMAAADMAIlPAAAAMFBMVEX///8AAAAAAAAAAAAAAAAA\n",
       "AAAAAAAAAAAAAAAAAAAAAAAAAAAAAAAAAAAAAAAAAAAv3aB7AAAAD3RSTlMAq1RmmUTNIjK7EInv\n",
       "3XZ/CtNrAAAACXBIWXMAAA7EAAAOxAGVKw4bAAAM60lEQVR42u0cC2wcxfX59s573jvfuSABJYp1\n",
       "EQIi0iRH7EQJKuHaOE1K1PYKVFVTCq5KhYjackEUlNIkV4r4qCE+FaLgqoJNkaBpUmwwvwY1uKSR\n",
       "KQhq0bSN3Lo6JxQILq5lColCi/vezM7s7PfudDYi0Y20e29n37zPvPdm3sysDVBLmTtagEZplNO1\n",
       "pEZfq61Bd6PPqipy2NA/Ij7uop+ObGdZI6ZVRyMgZmOgyQjoyEfEx11i5dnke03QiyOnqsWuEVp1\n",
       "QBv9nFd1QDTRTyTbcPqwskAAkf66aRk/H7ag3a8E8nGU257cAXC0CoIQ/05OfXPn7yvIIhBSAfaf\n",
       "AXXrLPVoxLTqgNX0fH3VARHN409zYyUR6sM4kcaHozhIPzID1Jqlia/z4ePDPQeLM9BsVkEQ0s4p\n",
       "ZqqSLAJhg8cRZ0zdOks9Gm1gAfEjSv1KVQdEnGaUTQ2nDytRGm4mW9HvVs2oiad8+PjkUVPQ1w1a\n",
       "rhqfudYRNrGTFUSRCJ0epjOmbp2lHo06WUDQUJLIVL+GoDB6ouH0YSVJzjqYxiFzcCZN7LFu0t/G\n",
       "ByGNdnqpGp/5reNFYriCKBIh6Z5/Zk7dOks9GtHVARoOM801LKo7GmvrSuUCAO3SA/8+AyLdM2li\n",
       "j3UvCGqyGG36LQad7TOfKz5zXVAuVSHZanbNTTOobp2lHo3oQvd+ZXT05RoCIjk6+vf+htOHlXUA\n",
       "fdPT0/+FKHXUxv1blHf6nDfL4a2d+ADfnDjDsln7WMbNJzb26P4HPXPEn/D2OAM3F0E/7HotCOpz\n",
       "3ppy8O3JVBBMIiTanK8C1fVoU1FdSEwsV572Hy2GD/Eqdp0a0YUBsRbgZzUERLQILWbD6cMKDc7p\n",
       "8mUmG3JiQ/CQ0l9XF1rC81oXPhjvm318D6Nvg3HczSfR0g59ri2O+Ng5eF/GXeQwxYRz0S0IOkVx\n",
       "8w0VTKO5IDrKCouNIHVrosolfg0+bz9tzkRD17dO7Do10ngCtBH0thoCApE3fjz98GMTpnTa2Zd5\n",
       "HqAVx5+9WfiC4o0HIBqe1zrxASInIcnnlMUmvOrm85XWEmz1jKGLke+nLI+6yz1BCIIkSreD7+cq\n",
       "CSYRIu7VQoC6Hm0qqgut/aqWfxPKBxQHdr0a0YUB0WIm8j7Y2j9EkK7La7+zAwKnk6c+lvFwcTE+\n",
       "8AwHrcTwQh8sT13Kd6dG8Z9qt5jtNgfx6inOxfQSO/ZLZFV42DJUdJJsuOfxcwPJcHxludoNaZ6i\n",
       "ovE+cKAiH7MvT4EC8AgbrS3nT+I42WMNoaPucBEEuSjGMpWv8dwnzHDBLmX+GZ90vQxQt1qqagWh\n",
       "yu6iAT+0t1TC9WpEFwZEpOy/pj7IZt/efKRtH1yuBMSimtfU8Rtqde7ECT/QLs/bVtYPPQWfbgPj\n",
       "ySIkxUY4n2W1PGesstccsa8vGSuCZ911ZwmUyqVVC51Teo4n1eQhfwDjPYhPWNNCsgTowrmQYZPh\n",
       "O8fAazPWaBmb8lhoMcBZrt7GnBbxrg4KCEGQi7L9HZVvNGT+4oIlWQfGBv3WEF51q6XqqABHd0GF\n",
       "3lJ33erUKDZo7Rmt9M3OaBDowt6MrIxCvxIQzVq5Vv+eU2sDfdIPtMtW63f7J3fAvIQZNfV1OJD3\n",
       "QdpUAmKXYKyw3+Ug09SfGoSvu4k3obay0qg6nbTbYCqjPTTx/hHKIYwPQUMNIpZV+spwGcB7PmmO\n",
       "4Mfx7ZLOiGFwig+YztQMo+Fdw1GbPskCYmFQyiQIclEEHuebzusnwgXjPc/UUdYQQepWS9VRAY7u\n",
       "qtRbaljWqRFdFBBPbECNVm0fS60gvgi9zsbS0pZ+dpgduf2rZTUgEhfUnKy/WGuDVMkPtMsxa45c\n",
       "i7fzyrkEbKYwT2QWF5SAWC0YK+xXuwbTxDAdxMRRvzX2QIPdIA96o/mqhZZtaNtnLqCtWspgTEFT\n",
       "94Wsrw2Wa8NZkcIlZGLDayG6GL5tDkgXMTVmuCco6VX7nvi8jGuChINKso2lTCv8FtWGIChFYe5j\n",
       "Sr4muo/huzyzFFmhjzPncCH4qFsDVUVdeBdHatldaXTAfEhvMWzhsXVrRBcFxA8xxh++OptsS1Gw\n",
       "E0Ru1fTmRUO7WewU952vBoROCwpjYFzk1ntWPuPl56iMfzhGdkwcFVOLDakbbHKiMgbeKHtBlfj3\n",
       "OMA+2Jl//hb0iIvJcb+/V02Zhi3GFnurDjqXT9gJUWuWnUqOq6e+PRPn2keVrRUFl3WyDe149upT\n",
       "fB/vQViYyzEL93WTz0QORflZAD0a74ML4Pi2OaAp25Ljb86E+yUeq0A+aO1U93Ln4i/LziHWObdd\n",
       "eRtqxgiCFGWhxZzLSYcdjLZXOo7QftNeNHzUvfHuo64PVVtLJ1VFXdo0elZ2V7QEiWJYbxG28Ni6\n",
       "NaKLAqIJWf7gDRw5mJoEkf8kj0DxSh4QUTlKs9UDber9utBjBYTx1/hxb/Q6KlMjKTLBn+Mi87Qh\n",
       "JbXNbxMgEi96QZX4CeoqMJhY8xO/oGRlXhZazAklIPRui7HF3qozlh6AISkZRlaEUMr7bfrvmK9j\n",
       "ZbQXy31wS0XBZV1EcLkXr3ZjiL7wwSRt/K72IrNw6wiK3P7sxrfwxQh/hEOkeU4AVMPwbXOAMWeV\n",
       "ePMk+vmoyRqwNsgnNgzGma7N9qu6dpBYIGx1C4Bow0SYw7+wsESh8ZSIcjnhXpMzs4XKORBezcSZ\n",
       "sVyd4KOuH1VJ0ElVURcSAytN2V3wXMfbob1F2MJj69aILvn5dztsY9tmBLH12FZcPyxDn8hEikZ/\n",
       "txoQVLoQHTaRGNEcOsQVrzt7iFXK0pLVWLQbRZ2deBDkboGx/kubeI9FnIGxRavdxCeZ98XYqD4f\n",
       "ciyDuiOvjWeVgIiVLMb8Dlad/lg32Kn47jLVATytjPz3wTJeSeVrlQSnOkncim0ZwzJ/Zx5ykWzE\n",
       "lLvIE1t2jW0O15uIkjO1hpxZ6f5LSS/PhQ6iTE8vkkTQ/7OWTTz+TJ3qVk/Vo66zuyr1VrvYQahT\n",
       "I7o67DT/GGyNc6iLflfEhgs/4TMEXFF2B8RBGIP4QjaT5HGuGzScS19WqSTl0Ta+mr99hL8FTwu2\n",
       "ZSLBYxZxBiZxtewiXmIpjnZDb+9PMSD2uLfJmGdG2gRjdgerDprKsUG4h8Z/nONwrom7A+JF+Ayv\n",
       "pDKvkuBJGR+yjf1hXafDwjLP0HN6QXmUpR+85nC9UdcLIR/wBXz458NzoYPozXCrH5JE0ErfoD8C\n",
       "CviKz6lu9VQ96jq6q2JvWR5bt0arlIDQJzHOVkRhD0GH5xv90B4f7mdH0loepHeLgDCOw32/gla2\n",
       "WVFoucQsuFIJVtl5XucVz7J1ISQx+tOUYzG/IsjdAjDF0lYv6efEH7SIM1CHbW7ib5vNt06wtTDN\n",
       "ELFFcHNXV1feGRDonxZjdpc+i/GRs4bWvUX9XZ4y9SsmnoQX7JTpnkqCU13nlQvUlAl2yrmxoFjY\n",
       "kEG36e47TOVR5oJlcJnD++YxtcHO4IDw/yDZy5O5jySqP3D35X5IEqGpfG8i+Otoh7o1UHWr6+yu\n",
       "Sr3FPHYGNGJaiYCItcH1sPFt2JZBaDwbfwE7+8yi/gBlqtcDuAMChuLvXUI+uweShZ4rTWjJI4hh\n",
       "ZN1Y5aJSMo+OsgfxVuC9OY+BOgICwhY2Pt6+DYnIMVz0IjgUP8GICxB2uIn/2EzftNv65GQp4Gzl\n",
       "M0MgLc6Y31lTWlRvhdbbrYBoNbWXcP1gLaoFhxGtxCrFojpMcF63qERrb9kGdkujWZ6jP/1BWTm5\n",
       "++P0tN+JoF0jzOF94zDt7uCA2Fnh8FCU227crxBNTk9P+h1Vlm2Xb1quOL7bR1V1a6DqVtfZXZV6\n",
       "i3nsDGjEtPL8Cak1lkas/ZzeXkfGLAPiqiUoA/osBtCqRQPsg6htmfgQbCvQjVe2FB+Bz7L6L5bx\n",
       "rq/C1dIICAhbYNhx/AJCN+Py6Rxc9CIoiAswWvQS76HTy03o2PG/FPif8XkCYidwxtad2pOffBlS\n",
       "A2LC2D9WoH6gqeZsEJLcMaGYHIEwwXldU/EWdXwEXXb3llk9nNcDT4RSs/onXG8GvZhddWdZI6aV\n",
       "OyBi1lpjvX875xk1ZTU8gBJmWcaSjKpWWADDWfHE7yMCYi0i9hzJx/TUUlNUEnEL3JfyEh/f/CiO\n",
       "SL/p3eEnZkk9KFPZe0/hPMNsxFkZs9LPIMEzXNOj60PH60Y5VYo7IDTrN1tFQMT/9YQIoBunh2Us\n",
       "yajaBf+E9oL1xO/bX85YELVQwm49PxWODIhKIm6BzdP/8xJfk1gSrBUPiGjBxhfto96Rc43zcb2r\n",
       "kkNBgvO6XbAg6yHUKKdDQFQo33X/XybND9R8UHzfZn0gfzCIeFhAwD4f9vvcuJpr+zfrqkyYYYJr\n",
       "wYQa5dQrqdEDp6Ve4szQb91XscJdaVbJ1Gj40+lQ/g+CYBsH0gjB3AAAAABJRU5ErkJggg==\n",
       "\" style=\"display:inline;vertical-align:middle;\" /></a><br>"
      ],
      "text/plain": [
       "<IPython.core.display.HTML object>"
      ]
     },
     "metadata": {},
     "output_type": "display_data"
    }
   ],
   "source": [
    "deci_sequence_reduction_ER = Forall((m, n, k),\n",
    "                                 Forall((var_range(a, one, m), b, var_range(c, one, n), var_range(d, one, k)),\n",
    "                                       Equals(DecimalSequence(var_range(a, one, m), ExprRange(i, b, one, n), \n",
    "                                                              var_range(d, one, k)),\n",
    "                                             DecimalSequence(var_range(a, one, m), var_range(c, one, n), var_range(d, one, k))),\n",
    "                                       domain=Digits, \n",
    "                                        condition=Equals(ExprTuple(ExprRange(i, b, one, n)), ExprTuple(var_range(c, one, n)))), \n",
    "                                 domain=Natural)"
   ]
  },
  {
   "cell_type": "code",
   "execution_count": 6,
   "metadata": {},
   "outputs": [
    {
     "data": {
      "text/html": [
       "<strong id=\"deci_sequence_is_nat\"><a class=\"ProveItLink\" href=\"proofs/deci_sequence_is_nat/thm_proof.ipynb\">deci_sequence_is_nat</a> (conjecture without proof):<br></strong> <a class=\"ProveItLink\" href=\"../__pv_it/theorems/5aa06da46723f581c683555c49d0c780940928170/theorem_expr.ipynb\"><img src=\"data:image/png;base64,iVBORw0KGgoAAAANSUhEUgAAAa0AAAAZBAMAAABwVGzTAAAAMFBMVEX///8AAAAAAAAAAAAAAAAA\n",
       "AAAAAAAAAAAAAAAAAAAAAAAAAAAAAAAAAAAAAAAAAAAv3aB7AAAAD3RSTlMAq1RmmUTNIjK7EInv\n",
       "3XZ/CtNrAAAACXBIWXMAAA7EAAAOxAGVKw4bAAAFM0lEQVRYw9VYb2gbZRh/Ln8vd0kav8iGUjJE\n",
       "rdPVrK7DDamBpjKsfzrcJ92Hgh/EfdiuOCedusUhqLClRSm14p9TYaBtl8xOdAqjOEadQyzSrXMu\n",
       "GP+gjtItCnNjYOvzvO/dm7tcbjmMMPtALk9++eW59/fe8zz35ADqm1SchSVl88WkF1oIlpr5U9dA\n",
       "V1h42n8SpQZ+TXT9ZDrxZANRgiX7Z+WHkS2gfnOM4agrQeBN9XR5YHk1X8H0bm8ozs9VnyPJjQB5\n",
       "jqOuLsKeqKfLA8ur7cfXPngId7i3oTghvaq7zaopiHIcdb1AOTlYT5cHllfrxNcFmAEIpBrrDekq\n",
       "Xbfhxsc4jrpInpqsp8sDy6tN4usBWADa24bsK6NK3yqeYrqeKu0gXYSjLmodobp9wwPLa3lh9t11\n",
       "tuOPJNzSYKTHef/YauSjpC2LF2Icp+V+XSyeqN8P67M8WqAAyiLaJHRTbt/wm7Wv9R3ZVae7W/gH\n",
       "2XGHWWaSFoGhGMdJ1waAN2pEKNh1ubC8mbXCQ1RVC/4rfL83a5Erlt49Be/oV41k5a8FWzOTNDk9\n",
       "Ps5x0tUH4USNCGm7LheWJ1udlSc+MT/EsEqVP9UywLfoHIXANChrje/GUvAgKJ9f56qN8w27gx17\n",
       "K7qgzfcmx0lXRFd7rFd65mO4J+HQVcXyNBHwSMqhLLaI/SYaxTDyZQlXdwyTsgyxAuTmje8eBvge\n",
       "ApalO5KY8Q0boIOMBVL8ztAl6TdynHT5SpWGkFs+BCtUPaA7dFlZXkxECndrdLts0iu6jPpCXdFB\n",
       "yKPOVcZ3x0G5CE094ctuUQ2+kZPsCg5arpeSGOc4m6N6O8R2bKCpopRW4VBmJtNjm6MqLE/dQUR6\n",
       "nsKoyTs1Sx6uW7iwNUl5mC/BvSB0KQvgL4Nfd9fF+WvuPp8Wv5q26IJchONM10db0OnM/WKMJi03\n",
       "71Kd9cVYMNph1okyMeecWiugJdJqEvb0mBh3sJ9J0014fBvXmYTrfRpboU5lB1LvrbgLWHK1mw/j\n",
       "72w/ClP4YR2Dz4vAWbyXvcJxpus5rKb3N6eiGr+mLep7j9XQRSxlVr5kYOPagFOXAG2RVqSwOsXp\n",
       "VYwTGdydZP04UvLNBNgOK38BKV2VxvPu0yFP7YAODBcO44cP9AI1xW6+OHNaYM59HGe6JBS681es\n",
       "gCAbbFogfa6GLmIF0vIkhFm/z8BeCLZ22XURyBu2NRK82OOfEzOTjIkjlcY0GhJBaf6073eeUUW8\n",
       "Hu/OvdScZSeInaGUpTXMmA4ROF8qBWloOcm3cPmjPO6248bwedL6P6UZy83/5MjIq7ia0ZDz/mXU\n",
       "fDwBe+iUWPQ/YpfL23URyGc3a6QqOy06ftb0SJdPNPft8AzASuegIgjRbCCN8o3KCh7mc5Row9NW\n",
       "XV9CRpYLfJeDrS7/v/JaZL0OpEu5BK99GDYvj1leBPq72gpgibQ9k8nY7hBrnIMr6VLFul5/+X7b\n",
       "tpoJLLzdENuTdR2bCRe6wmU43cIninYwd915vbSBR0iXUoAp+eJ6gCFyR8WBQN85alEukVh9i7oc\n",
       "Nt6f3XYE4IA4yeJiGZSS43eCABshPgHQ79Iz+63/l4MJwBLox8yQT+H9zUVXsLMVA54B+QvY1Ib8\n",
       "QJbcvZo8RQcDXBbGKneJZL/jfGCF7ULizt9VKx120TXsfA6gHB4Zqv8cAPPQx73P4sIF4U3H23W3\n",
       "SMzEaBsuNTA/x7Wr4P/m+UbuRBJ4Cwot/g2GS8Y9JeGbWCrPoxzPD1O13BT8X2z+bOofasB3ujG+\n",
       "UHwAAAAASUVORK5CYII=\n",
       "\" style=\"display:inline;vertical-align:middle;\" /></a><br>"
      ],
      "text/plain": [
       "<IPython.core.display.HTML object>"
      ]
     },
     "metadata": {},
     "output_type": "display_data"
    }
   ],
   "source": [
    "deci_sequence_is_nat = Forall(n, Forall(a_1_to_n, \n",
    "                                             InSet(DecimalSequence(a_1_to_n), Natural),\n",
    "                                            domain=Digits), domain=NaturalPos)"
   ]
  },
  {
   "cell_type": "code",
   "execution_count": 7,
   "metadata": {},
   "outputs": [
    {
     "data": {
      "text/html": [
       "<strong id=\"deci_sequence_is_nat_pos\"><a class=\"ProveItLink\" href=\"proofs/deci_sequence_is_nat_pos/thm_proof.ipynb\">deci_sequence_is_nat_pos</a> (conjecture without proof):<br></strong> <a class=\"ProveItLink\" href=\"../__pv_it/theorems/a94f0d2a5718b93a792bc3db91a66bb4e9859f560/theorem_expr.ipynb\"><img src=\"data:image/png;base64,iVBORw0KGgoAAAANSUhEUgAAAfgAAAAaBAMAAACp/VNxAAAAMFBMVEX///8AAAAAAAAAAAAAAAAA\n",
       "AAAAAAAAAAAAAAAAAAAAAAAAAAAAAAAAAAAAAAAAAAAv3aB7AAAAD3RSTlMAq1RmmUTNIjK7EInv\n",
       "3XZ/CtNrAAAACXBIWXMAAA7EAAAOxAGVKw4bAAAGdUlEQVRYw81Yf4gUVRz/7s7uzezs7Y+UuFI8\n",
       "Nkq6lGwrC7K6NjzDlHLTKFLJzQLRfxohgguzTaQCL10ujVZM5xICu2Q3r5KkbEPkDLGOsJSLhTmV\n",
       "yg6u4+DUTvF63/fezLzZm50781j8wsx+3/f73Tfv8973fb/f9wC8yFc+BbUiKV2TzwTwlSJPtPyL\n",
       "t2Ud1I7uqM1nQvhqpez9Nwx4NWOx8vX3pnmDl4wbC3woabFnrr+3Fyva+//9UIdvr6Q5eOhl4OP4\n",
       "c3t18J76SaQNFucv2tJ9J0Tn2NXj3YdtHU1WqNqDcVAHzZWHPgZ+Af6sqQ7eUz+JtJg8Sk+A+OOn\n",
       "ovgVx3BS43RiW6+r0MzQugBK8GR+Vz5PJqagU/Bv4ybLVQfvqZ9EGsb1GowQePNF8ZDYiCXG6cS2\n",
       "nluhmZKr06DHWvm6JAVfR+YgnKgO3lM/eaSMYBoqxQxcH5uCI6LRKt27E8G6npueL5dpJG1oljMC\n",
       "+ECOgpeSHnGNKDz1k0dRMjDp0SP/TAF/RhCHHbv8u3E6Eazr2KZ/7m/ebvBl+wXw0RKL9ifK5eNe\n",
       "0d5LP3nkI5ALo6OjVyCA8W794Y1sAI19gte9NDDFOznZ1mEaqGVr6zdALpS2wVMfIeAXAuz0Au+l\n",
       "n1gGn1CmQz+MGY/pdM2C3bCH+m1hnXrR7uiCXtC8OhGsJeo/dZoNfrPa22NWeKBcYuDXgxwXOpBP\n",
       "fgWPxAXwFfprL1tvgS0Pa3ZpWWWa8RuFxPcAEbJ4nyfhKSq+R4efYC/fCP4RqDc6v5hWtRNqzW1L\n",
       "zjqlAaTEXXY0kYcZ+JAetqrqrbfugNvCekAXwIt6Ze1YTghaDtmbi9PSDwCdxHNKvHwLjdmkh82c\n",
       "jmEetmVnkFBFvrYE4HcqfgLgsjLAt3IgA7Fiik+LG6G1ORbM6dBWJpRj4GGazwavcvB+w5qfwEIs\n",
       "aIxUWHR7QQ8w3YVz0Sp9+bQ/fggWwWsHAYuLkQrwKpveZnhBWHm25xH8j2x0OAXBIfBz8JEirEoM\n",
       "w1vZauCpNQ/8FOg+YeWhQ7XjoczdHjLNxDfnbz0HcBblTTM3OsBTvUnHXDgXbQsZn785AEX5V2we\n",
       "8F+sAC9v19gfYpoNXtozcOEMur16FaRBnrgDIxZ4kuaX6PM8wKM1Q8L/ExHBK4ZdrigXOfgDJCTu\n",
       "XZms11SqbAp/ssIBHvXQ2XwQ/3O1j+8ImxPc3pTR4tK/6XmjCNLNCHV5SQCvdvVroNxEUMtkE/Pw\n",
       "7MNvz4CrxMgAdYhE/ztRfAm3PwLBqBnLqkdYwlPdoypaUyRkIimWqGHqPyLPXzlnRYDgN5BJf+MP\n",
       "iOlBmhubIHXeAR716ik6V9HeKK8wbU7I1aaMeps/e2gm2dH+qSRb8EEw8Pu1bQj88SxWNhFehNPE\n",
       "m5eHWJLaDXenaFdTYTtbxQKJGr5kiAiVXtZSL0AFQ60pEmAJE2C1ObbVLGZYUZjnefChGzXCSpDW\n",
       "5vPtBHxnnQM86gMppUSPXlJG3gmcW3ouXXEwYwkGljHwgShOtbIAmruE4yS0QBtdqyfTCoZvYSka\n",
       "1W4s8Mn27H+3kTp3x5dJBj5CIKvTsfJt1VkLTppxkjK9pjUiIW02tI4dzBffuZJznJoDcfFIewxa\n",
       "FKXIVj44Z8yRtj4dRfP6bCC+iR4HkSupgw7wKKPMg/l8PuHPqsWMy1kajrIzFUjdxO2tcv2oZXW6\n",
       "0qPo/p1lRouUrNktm2aJSEiu4a0VH5czbpk1KYCXB+F0EytmHuAHPgf4ghaaR+YwhnuUgkdOU0qO\n",
       "HlE2d9lsgC1s5WGpIbe0tCxwgid1yAefoX63GPDoqc79TMLAmzmx9b3Nut2yqehA4jwduZRDugCe\n",
       "nHb7k9BKXE35TQPf2JXXti3TOyGiP0QvAjgXShNOLZovlM3JRbA0YHdy0bjbyncrw/OI+mXCDsAz\n",
       "pq7Ntqqo4uSvL5MYaIaun0dHwW7ZAc9wIBnvHHrv2Jsc9Zv8DvebnOD8OV3QllCeNih4zi2kXDe0\n",
       "afiiMl/2dTJcjK3vr+E3IZXgn72PjC7azoqcRVZxb9XwqtvAox4tF0lI8wZ/6tqvsRLWFRDlwrph\n",
       "yixtBM4uJ56Rz6er3Z+xrNjucYe38frPSX+OU3Jf+x1ekEbOrccTnHt1tIdztrYDZie9Lw+r0ewa\n",
       "3hRP7PbWcW8vTZD7f+BrdG9PaRG9tz8CtSQZbiz6D7wXxb4yiVdkAAAAAElFTkSuQmCC\n",
       "\" style=\"display:inline;vertical-align:middle;\" /></a><br>"
      ],
      "text/plain": [
       "<IPython.core.display.HTML object>"
      ]
     },
     "metadata": {},
     "output_type": "display_data"
    }
   ],
   "source": [
    "deci_sequence_is_nat_pos = Forall(\n",
    "    n, Forall((a, b_1_to_n), \n",
    "              InSet(DecimalSequence(a, b_1_to_n), NaturalPos),\n",
    "              domain=Digits, condition=greater(a, zero)), \n",
    "    domain=Natural)"
   ]
  },
  {
   "cell_type": "markdown",
   "metadata": {},
   "source": [
    "### Number sets containing the digits (beyond 0):"
   ]
  },
  {
   "cell_type": "code",
   "execution_count": 8,
   "metadata": {},
   "outputs": [
    {
     "data": {
      "text/html": [
       "<strong id=\"nat1\"><a class=\"ProveItLink\" href=\"proofs/nat1/thm_proof.ipynb\">nat1</a> (established theorem):<br></strong> <a class=\"ProveItLink\" href=\"../__pv_it/theorems/e9f706179081238aa229ec9b355175ebedb3792e0/theorem_expr.ipynb\"><img src=\"data:image/png;base64,iVBORw0KGgoAAAANSUhEUgAAADIAAAAQBAMAAACmdTG/AAAAMFBMVEX///8AAAAAAAAAAAAAAAAA\n",
       "AAAAAAAAAAAAAAAAAAAAAAAAAAAAAAAAAAAAAAAAAAAv3aB7AAAAD3RSTlMAMt0Qq5nNdoki72a7\n",
       "RFSRpcO+AAAACXBIWXMAAA7EAAAOxAGVKw4bAAAAt0lEQVQY02NgQAfM+meSGTjWr2VgYFRGk+J5\n",
       "cIWBwZ6BwSTsM5oMiybHBgYuIIMdQ+YNQyYDE7JMjZJSAlhmdsE0FJlrxTA9ExzZG5BkOJPhpk3g\n",
       "YTiLJMM2ASHDGGBkhCSDcMEEhn18pxAyUkpAcAAqw2LghZCxQdbD7IBkGhOyDIM4D0KGvQAeOgJA\n",
       "ngyQwfETIpAHk2F7ACTCgHq9vnmDBUzOGoBpxvw1QNIMObxuHIKEDhQAAORrK82gq3UjAAAAAElF\n",
       "TkSuQmCC\n",
       "\" style=\"display:inline;vertical-align:middle;\" /></a><br>"
      ],
      "text/plain": [
       "<IPython.core.display.HTML object>"
      ]
     },
     "metadata": {},
     "output_type": "display_data"
    },
    {
     "data": {
      "text/html": [
       "<strong id=\"nat2\"><a class=\"ProveItLink\" href=\"proofs/nat2/thm_proof.ipynb\">nat2</a> (conjecture with conjecture-based proof):<br></strong> <a class=\"ProveItLink\" href=\"../__pv_it/theorems/d64204bc453bceba682a8e0d86bf6f914492a96d0/theorem_expr.ipynb\"><img src=\"data:image/png;base64,iVBORw0KGgoAAAANSUhEUgAAADIAAAAQBAMAAACmdTG/AAAAMFBMVEX///8AAAAAAAAAAAAAAAAA\n",
       "AAAAAAAAAAAAAAAAAAAAAAAAAAAAAAAAAAAAAAAAAAAv3aB7AAAAD3RSTlMAIpnNuzKJRKvvEN12\n",
       "ZlQ4bmvwAAAACXBIWXMAAA7EAAAOxAGVKw4bAAAA6UlEQVQY02NgQAdc+12sGNjmT2dgVDIJQJVi\n",
       "eVDBwLCegUGEge07qgzHRrYLDJwMDI0MDDPRZJ4wGDJwMzDMX8DQLwAWObJ7twFYRvaAMEimm4Gh\n",
       "H2xR8SmYHoFWngRuMHM/iGC0gpsmwMLgDpZh/QMimQUQMqwKq1eDWNwNYBmECwQY7vF5glgqYH7k\n",
       "biBwgMpwLOgEMnjBWhiWIOvhagCZ9oyBEWQFN7IMQwwL0P4EBp4FQD7PAXjoAD3BE8LAIK2kpA0W\n",
       "sIPJMD8AEspAz/z//xkssMJ9AZhmtZ8CJBcjh1eZNyR0oAAAgjkuwI39QLgAAAAASUVORK5CYII=\n",
       "\" style=\"display:inline;vertical-align:middle;\" /></a><br>"
      ],
      "text/plain": [
       "<IPython.core.display.HTML object>"
      ]
     },
     "metadata": {},
     "output_type": "display_data"
    },
    {
     "data": {
      "text/html": [
       "<strong id=\"nat3\"><a class=\"ProveItLink\" href=\"proofs/nat3/thm_proof.ipynb\">nat3</a> (conjecture without proof):<br></strong> <a class=\"ProveItLink\" href=\"../__pv_it/theorems/c14ca316388a7a43d005082ed1b319aa351e7b7c0/theorem_expr.ipynb\"><img src=\"data:image/png;base64,iVBORw0KGgoAAAANSUhEUgAAADMAAAAQBAMAAABJt1qBAAAAMFBMVEX///8AAAAAAAAAAAAAAAAA\n",
       "AAAAAAAAAAAAAAAAAAAAAAAAAAAAAAAAAAAAAAAAAAAv3aB7AAAAD3RSTlMAIomZu0QQVHbN72bd\n",
       "Mqv0UZE7AAAACXBIWXMAAA7EAAAOxAGVKw4bAAAA7ElEQVQY02NgwAA5XzwTGLR+BTAwCCm7osm5\n",
       "sz5gYPvAwMBmwFBfgCr1RkCbgWEBAwPHd4b8CahSzx04BRgOMDCwLmXgh0hx+Jw5CWY83ME4ASQF\n",
       "BPUbQCTrjASorod8F5ogUqynwQKSMBmGhwwOLAEgKd6+t2CBiQwIqctsx6AGgl04AUmKu6BkAZjJ\n",
       "9Q2kec2ZM2eOQKUYnvEBpXgvMLB8B/LZHJB0MeSxAQ3k/waRgroWKsXbAFTJ9QBiIEMHXMoXiHuB\n",
       "UtwboP7ihAfXdCBmBrkq2BgSvGxPwiAyN38BdbChBB6rCjSgoAAA9idClfoHlG4AAAAASUVORK5C\n",
       "YII=\n",
       "\" style=\"display:inline;vertical-align:middle;\" /></a><br>"
      ],
      "text/plain": [
       "<IPython.core.display.HTML object>"
      ]
     },
     "metadata": {},
     "output_type": "display_data"
    },
    {
     "data": {
      "text/html": [
       "<strong id=\"nat4\"><a class=\"ProveItLink\" href=\"proofs/nat4/thm_proof.ipynb\">nat4</a> (conjecture without proof):<br></strong> <a class=\"ProveItLink\" href=\"../__pv_it/theorems/1675b720ca7921af65e8c094d6fdea521214d6f30/theorem_expr.ipynb\"><img src=\"data:image/png;base64,iVBORw0KGgoAAAANSUhEUgAAADMAAAAQBAMAAABJt1qBAAAAMFBMVEX///8AAAAAAAAAAAAAAAAA\n",
       "AAAAAAAAAAAAAAAAAAAAAAAAAAAAAAAAAAAAAAAAAAAv3aB7AAAAD3RSTlMAMpndq3ZmzYkiRO+7\n",
       "EFRAb64nAAAACXBIWXMAAA7EAAAOxAGVKw4bAAAA10lEQVQY02NgwACX/xy/wND9ewGILYQmd47L\n",
       "gYH3A5hpgiblPKGNgWEDiMWKLuV3gH0CgwGIJVYCEWE9bGwOZnimchZApBogUlylF6C6PFkEIsBS\n",
       "rBMgUtNhMgyeDAd4FoCkpjFApCoZEFJCvLYgqQaoVAGSFNuDN0AXsk2ASDFuNjY2toFKMfiyAKWm\n",
       "MkCkeA8g6WK4wgs0cImLy28PkIABshRjAETlFjAZCpc6CMSBEKk/YJL9AUyqDoiZwK7S+e8Ktsxn\n",
       "LURG/DdQB28BctBx9UADCgoA1ZQzj5cSOPwAAAAASUVORK5CYII=\n",
       "\" style=\"display:inline;vertical-align:middle;\" /></a><br>"
      ],
      "text/plain": [
       "<IPython.core.display.HTML object>"
      ]
     },
     "metadata": {},
     "output_type": "display_data"
    },
    {
     "data": {
      "text/html": [
       "<strong id=\"nat5\"><a class=\"ProveItLink\" href=\"proofs/nat5/thm_proof.ipynb\">nat5</a> (conjecture without proof):<br></strong> <a class=\"ProveItLink\" href=\"../__pv_it/theorems/807ff16d7006d3f72b09e4d524ee42f2729e68460/theorem_expr.ipynb\"><img src=\"data:image/png;base64,iVBORw0KGgoAAAANSUhEUgAAADIAAAAQBAMAAACmdTG/AAAAMFBMVEX///8AAAAAAAAAAAAAAAAA\n",
       "AAAAAAAAAAAAAAAAAAAAAAAAAAAAAAAAAAAAAAAAAAAv3aB7AAAAD3RSTlMAMhAi783diatmdrtE\n",
       "mVQhVHx6AAAACXBIWXMAAA7EAAAOxAGVKw4bAAAA30lEQVQY02NgZGBQZkAGTPm7gxjY/X0YWL6G\n",
       "JaHIMHA/OMHAoM/AwOafroAqw5HMPoGBBUgzoAOO1wzBDGzIMqvT0gLAMpYLTFFkji6C6TFo5CoA\n",
       "ycyqEADxmYPgphlwM+wBynArMP8B8VkNEDKMF9TUwMxtYBmECwwY5vFtATPvg5SLpAHBBqgMh0IL\n",
       "A8NWoAzIIm1kPUwNQNPcGBj6QXw2ZBkGKW4GhgIGBm8Qn2sBPHSARnBJMzDYMnA5gQXiYDKsD4DE\n",
       "VaA/7vZCwk1jD4RmjAeZoYocXse3QUIHCgCewig8K+7U1wAAAABJRU5ErkJggg==\n",
       "\" style=\"display:inline;vertical-align:middle;\" /></a><br>"
      ],
      "text/plain": [
       "<IPython.core.display.HTML object>"
      ]
     },
     "metadata": {},
     "output_type": "display_data"
    },
    {
     "data": {
      "text/html": [
       "<strong id=\"nat6\"><a class=\"ProveItLink\" href=\"proofs/nat6/thm_proof.ipynb\">nat6</a> (conjecture without proof):<br></strong> <a class=\"ProveItLink\" href=\"../__pv_it/theorems/7cd558ec1243471a3ebd87d0fd130f249f7f2c9c0/theorem_expr.ipynb\"><img src=\"data:image/png;base64,iVBORw0KGgoAAAANSUhEUgAAADMAAAAQBAMAAABJt1qBAAAAMFBMVEX///8AAAAAAAAAAAAAAAAA\n",
       "AAAAAAAAAAAAAAAAAAAAAAAAAAAAAAAAAAAAAAAAAAAv3aB7AAAAD3RSTlMAiTIizUSr3Xa7VBDv\n",
       "mWZb+y3UAAAACXBIWXMAAA7EAAAOxAGVKw4bAAAA8UlEQVQY02NgwADbf07ZwCDzJwDIFBRUQJWb\n",
       "xZrAwP0ByDAJYCtAlUo3kGNgOABkeDBwTkCVyprAYsAAVM71GybCMb28BMxIfsHsAJLiPACVYfXY\n",
       "AGUlsyk0gqR4nCSuggVMYDIMyQwTOAOAUvx+DDwLQALODAgpXe5qoNT+Dwy8p0ECDkhSfAtWAu3Z\n",
       "X8DA9xXIZzpeXl5eCZViyGYDSvE7MPD9A/K5JyDpYtjGDXIhVBdDAbIUUwNQJRfQLrD7O+BSk4C4\n",
       "CWTIRIY9YBeyLIBJeQExL8hVjHeTwALcmdEQGZU/QB3cDshBxyoJDSgoAADiIzjIb6c/XAAAAABJ\n",
       "RU5ErkJggg==\n",
       "\" style=\"display:inline;vertical-align:middle;\" /></a><br>"
      ],
      "text/plain": [
       "<IPython.core.display.HTML object>"
      ]
     },
     "metadata": {},
     "output_type": "display_data"
    },
    {
     "data": {
      "text/html": [
       "<strong id=\"nat7\"><a class=\"ProveItLink\" href=\"proofs/nat7/thm_proof.ipynb\">nat7</a> (conjecture without proof):<br></strong> <a class=\"ProveItLink\" href=\"../__pv_it/theorems/e0cf33149152f1394d90a52ed5f167a77f2eb50b0/theorem_expr.ipynb\"><img src=\"data:image/png;base64,iVBORw0KGgoAAAANSUhEUgAAADIAAAAQBAMAAACmdTG/AAAAMFBMVEX///8AAAAAAAAAAAAAAAAA\n",
       "AAAAAAAAAAAAAAAAAAAAAAAAAAAAAAAAAAAAAAAAAAAv3aB7AAAAD3RSTlMAImYQVO+Ju5ndqzJE\n",
       "zXbfw+mkAAAACXBIWXMAAA7EAAAOxAGVKw4bAAAA4UlEQVQY02MQMmBABczzyy8zsMXHMPj///8/\n",
       "AEWK3eEUA4M9A0N6R0enA4oM10Q2BQZWBoYEBgYJVOO43BkuMnAyMADVL4CIPJ858wJYRuiBLEiG\n",
       "gYFtA1ji7GOYHoHVfAlgGXEwn/Ey3DQBdoYasMwaMJ9XACHD3WBpCVIMcTMvwgUCDCospSBrwNYy\n",
       "bJ0JBAVQGS6DpUAGJ5jLYI6sh3kByDR7iKM5kWUY9rEDGecbwHy+B/DQAfqCbzuQ4Z8AEbgCk+EF\n",
       "BVYvEItCQ82qBhLq3PfDgaQtcngdq4SEDhQAAHUVLdQG13OXAAAAAElFTkSuQmCC\n",
       "\" style=\"display:inline;vertical-align:middle;\" /></a><br>"
      ],
      "text/plain": [
       "<IPython.core.display.HTML object>"
      ]
     },
     "metadata": {},
     "output_type": "display_data"
    },
    {
     "data": {
      "text/html": [
       "<strong id=\"nat8\"><a class=\"ProveItLink\" href=\"proofs/nat8/thm_proof.ipynb\">nat8</a> (conjecture without proof):<br></strong> <a class=\"ProveItLink\" href=\"../__pv_it/theorems/fccb82e70bf3180a903ecbf18c5d30a3752755b80/theorem_expr.ipynb\"><img src=\"data:image/png;base64,iVBORw0KGgoAAAANSUhEUgAAADMAAAAQBAMAAABJt1qBAAAAMFBMVEX///8AAAAAAAAAAAAAAAAA\n",
       "AAAAAAAAAAAAAAAAAAAAAAAAAAAAAAAAAAAAAAAAAAAv3aB7AAAAD3RSTlMAEImZRKtUZs27dt0i\n",
       "7zLMHA9cAAAACXBIWXMAAA7EAAAOxAGVKw4bAAAA9UlEQVQY02NgwADSP2cIMOj+dWBgEFIyQZOb\n",
       "xhLAwPgByDBgYE1AlYo+oM7AcIGBgb2AgbEBVSpsAscBhg0MDEwBMCmu2bt3gBkxVTwNICm2nwLM\n",
       "BSABli4BqK4Y1geLQFIM8b/MwAInYDIMMQwTOB1AUsz/94AFehgQUo8ZN4Kkkk7+B7uwAUmKPSET\n",
       "5EIDhvyLQD7f7d27d++ESjEEsgKleAUYeL4B+YwTkHQxiDICDZQHssNBAhuQpfgWAFXyHmBgmAMS\n",
       "WAWXmgfE64BSLI0M7AtAAhzw4GoDuRvkqqfGkOBljHSEyLz4C9SBGngsmtCAggIAACI8u/TwEaQA\n",
       "AAAASUVORK5CYII=\n",
       "\" style=\"display:inline;vertical-align:middle;\" /></a><br>"
      ],
      "text/plain": [
       "<IPython.core.display.HTML object>"
      ]
     },
     "metadata": {},
     "output_type": "display_data"
    },
    {
     "data": {
      "text/html": [
       "<strong id=\"nat9\"><a class=\"ProveItLink\" href=\"proofs/nat9/thm_proof.ipynb\">nat9</a> (conjecture without proof):<br></strong> <a class=\"ProveItLink\" href=\"../__pv_it/theorems/a8cdf3ffbef03cef8d4748a499777f409efcd7bc0/theorem_expr.ipynb\"><img src=\"data:image/png;base64,iVBORw0KGgoAAAANSUhEUgAAADMAAAAQBAMAAABJt1qBAAAAMFBMVEX///8AAAAAAAAAAAAAAAAA\n",
       "AAAAAAAAAAAAAAAAAAAAAAAAAAAAAAAAAAAAAAAAAAAv3aB7AAAAD3RSTlMAmasQ3XYy7yK7zYlE\n",
       "ZlRwlz41AAAACXBIWXMAAA7EAAAOxAGVKw4bAAAA9ElEQVQY02NgwAAmP2cZMGz/foCBgVFQGU1u\n",
       "Ho8CA/MHBgZmV4b0BlQplYa9DAwFDAxMBQycE1Cl9CZwNTA4MDDwL2Dg/gwWYZ3i4gVmaFzlWACS\n",
       "sp/AwPoHJMCz1ACqS4MpIRqm6y9IoAsmw6DBMIHzgAPErq8ggRUMCKlEZmegFHMNQ9I/kMACJCne\n",
       "By+BLmQwjH76DUixlbi4uHhCpRiUmQrATLALmScg6WIwYnYAMyH+ckCWYgsAivEVM9gngARC4VLT\n",
       "gDgMKMXqzDAXLMD1ACa1DogZQa7aLXgALMCseRgik/UdqIN5AXLQ8eyEBhQUAADGsjX5LGbxNwAA\n",
       "AABJRU5ErkJggg==\n",
       "\" style=\"display:inline;vertical-align:middle;\" /></a><br>"
      ],
      "text/plain": [
       "<IPython.core.display.HTML object>"
      ]
     },
     "metadata": {},
     "output_type": "display_data"
    }
   ],
   "source": [
    "nat1, nat2, nat3, nat4, nat5, nat6, nat7, nat8, nat9 = [InSet(num(n), Natural) for n in range(1, 10)]"
   ]
  },
  {
   "cell_type": "code",
   "execution_count": 9,
   "metadata": {},
   "outputs": [
    {
     "data": {
      "text/html": [
       "<strong id=\"posnat1\"><a class=\"ProveItLink\" href=\"proofs/posnat1/thm_proof.ipynb\">posnat1</a> (conjecture without proof):<br></strong> <a class=\"ProveItLink\" href=\"../__pv_it/theorems/c0d0667c60bb40204cc4fb13c5c339d9f8e866ef0/theorem_expr.ipynb\"><img src=\"data:image/png;base64,iVBORw0KGgoAAAANSUhEUgAAAD4AAAATBAMAAAA63aOfAAAAMFBMVEX///8AAAAAAAAAAAAAAAAA\n",
       "AAAAAAAAAAAAAAAAAAAAAAAAAAAAAAAAAAAAAAAAAAAv3aB7AAAAD3RSTlMAMt0Qq5nNdoki72a7\n",
       "RFSRpcO+AAAACXBIWXMAAA7EAAAOxAGVKw4bAAAAzklEQVQoz2NgwAMCGPCDA+TIM+ufSWbgWL8W\n",
       "Js+ojKaA58EVBgZ7mH6TsM9o8iyaHBsYuBhYz5xZc+Y0AwM7hvwbhkwGJrj9cHn2Q0pqYPnZBdOw\n",
       "yPOmG0D1T3Bkb8CUn2YAM38CD8NZTPlMuP0TGAOMjODhB5NPQMgz7OM7BXcuVJ5xkZKSkg5UnsXA\n",
       "C12e+QCSfmYHI3R5BgUkeQZxHgz5cnj4CgAFZeDyHD8hNNsDBiRGGNw0r2/eEAf4XIY4NH8NkDTD\n",
       "jFjeHkj4ogAA3UM1xsOhj+UAAAAASUVORK5CYII=\n",
       "\" style=\"display:inline;vertical-align:middle;\" /></a><br>"
      ],
      "text/plain": [
       "<IPython.core.display.HTML object>"
      ]
     },
     "metadata": {},
     "output_type": "display_data"
    },
    {
     "data": {
      "text/html": [
       "<strong id=\"posnat2\"><a class=\"ProveItLink\" href=\"proofs/posnat2/thm_proof.ipynb\">posnat2</a> (conjecture without proof):<br></strong> <a class=\"ProveItLink\" href=\"../__pv_it/theorems/3a3a433e3041fe8436f686b82d4b6188dbb8fe7d0/theorem_expr.ipynb\"><img src=\"data:image/png;base64,iVBORw0KGgoAAAANSUhEUgAAAD4AAAATBAMAAAA63aOfAAAAMFBMVEX///8AAAAAAAAAAAAAAAAA\n",
       "AAAAAAAAAAAAAAAAAAAAAAAAAAAAAAAAAAAAAAAAAAAv3aB7AAAAD3RSTlMAIpnNuzKJRKvvEN12\n",
       "ZlQ4bmvwAAAACXBIWXMAAA7EAAAOxAGVKw4bAAAA+klEQVQoz2NgwAMUGPADB3Lkufa7WDGwzZ8O\n",
       "lWdUMglAVcDyoIKBYT1MvwgD23dUeY6NbBcYOBmYXFymuPgyNDIwzESTf8JgyMAN0z9/AUO/AFic\n",
       "x3v3ZrC87AFhhHw3A0M/2AHsNgug+gVaeRK4kdy/H0wKL4CZL8DC4I4kz/oHTBnC7RdgVVi9GhF+\n",
       "3A1gygAhz3CPzxPhXhWIKbN37969BSrPsaATLs0L0c7lgKSfq2E1XP4ZAyPYfxuQ5BliWGA81gQG\n",
       "HrDLz8DDF+hdnhAYT1pJSRvMYH4AFQEzlGHy+////wxxQEsVxED7KUByMWbEsqdAwhcFAADR3TMJ\n",
       "UN3KygAAAABJRU5ErkJggg==\n",
       "\" style=\"display:inline;vertical-align:middle;\" /></a><br>"
      ],
      "text/plain": [
       "<IPython.core.display.HTML object>"
      ]
     },
     "metadata": {},
     "output_type": "display_data"
    },
    {
     "data": {
      "text/html": [
       "<strong id=\"posnat3\"><a class=\"ProveItLink\" href=\"proofs/posnat3/thm_proof.ipynb\">posnat3</a> (conjecture without proof):<br></strong> <a class=\"ProveItLink\" href=\"../__pv_it/theorems/01e7adcf3c73f740503a9eea27308b70ce5fb7fa0/theorem_expr.ipynb\"><img src=\"data:image/png;base64,iVBORw0KGgoAAAANSUhEUgAAAD8AAAATBAMAAADVH8ihAAAAMFBMVEX///8AAAAAAAAAAAAAAAAA\n",
       "AAAAAAAAAAAAAAAAAAAAAAAAAAAAAAAAAAAAAAAAAAAv3aB7AAAAD3RSTlMAIomZu0QQVHbN72bd\n",
       "Mqv0UZE7AAAACXBIWXMAAA7EAAAOxAGVKw4bAAAA+UlEQVQoz2NgwAOYGQgAFjIV5HzxTGDQ+hUA\n",
       "UyCk7Iqmwp31AQPbB5gJbAYM9QWoCt4IaDMwLGAwcfFycdnAwPGdIX8CqoLnDpwCDAdgJrAuZeCH\n",
       "Kmg5cwbMeriDcQJCARDUbwBTkW1Q/kO+C03IClhPgynGaTArHjI4sAQgFPD2vQXTQHvhCi6zHTuA\n",
       "FJIQX3AyIBRwF5QsQHI11zcQeesMEDhAFDA844Mr4L3AwPIdxEhBMoEhj+0AjMf/DaqAB1kBb4MD\n",
       "3PwHUCs4GmBCvkDcC1fAvQEWDtNhQiAGMyJ0g42hkZXnmgCmb/4C6mabgCWeg3zOYAoDAPCERHkt\n",
       "oW9pAAAAAElFTkSuQmCC\n",
       "\" style=\"display:inline;vertical-align:middle;\" /></a><br>"
      ],
      "text/plain": [
       "<IPython.core.display.HTML object>"
      ]
     },
     "metadata": {},
     "output_type": "display_data"
    },
    {
     "data": {
      "text/html": [
       "<strong id=\"posnat4\"><a class=\"ProveItLink\" href=\"proofs/posnat4/thm_proof.ipynb\">posnat4</a> (conjecture without proof):<br></strong> <a class=\"ProveItLink\" href=\"../__pv_it/theorems/f617b96f9d58a69fe47f66dbd0369b51423a3ee40/theorem_expr.ipynb\"><img src=\"data:image/png;base64,iVBORw0KGgoAAAANSUhEUgAAAD8AAAATBAMAAADVH8ihAAAAMFBMVEX///8AAAAAAAAAAAAAAAAA\n",
       "AAAAAAAAAAAAAAAAAAAAAAAAAAAAAAAAAAAAAAAAAAAv3aB7AAAAD3RSTlMAMpndq3ZmzYkiRO+7\n",
       "EFRAb64nAAAACXBIWXMAAA7EAAAOxAGVKw4bAAAA6klEQVQoz2NgwAOYGAgAHjIVXP5z/AJD9+8F\n",
       "CAVCaCrOcTkw8H5AMsEETYHzhDYGhg0MOmdOnzmTAOSzoivwO8A+gcEAYYJYCVQixti4AER7pnIW\n",
       "ICtogCpYHgtV6MkiEIGkgHUCRAFnLcwKT4YDPAsQCqYxQBQA7YUrEOK1NYCHZANMAQNCAduDNxtg\n",
       "PLYJUAXSxkBwAKKAwZcFrmAqA1TBHSQTGK7wGsB4S1xcfnuAGMzIChgDDiAFzBaIbwJg/INAHIis\n",
       "4A+EqoPxQQymAoS8zn9XMH3l1AUwLf4bqJu3AEs8rzhsjCkMALTpOES98MSkAAAAAElFTkSuQmCC\n",
       "\" style=\"display:inline;vertical-align:middle;\" /></a><br>"
      ],
      "text/plain": [
       "<IPython.core.display.HTML object>"
      ]
     },
     "metadata": {},
     "output_type": "display_data"
    },
    {
     "data": {
      "text/html": [
       "<strong id=\"posnat5\"><a class=\"ProveItLink\" href=\"proofs/posnat5/thm_proof.ipynb\">posnat5</a> (conjecture without proof):<br></strong> <a class=\"ProveItLink\" href=\"../__pv_it/theorems/314bbd9f475dfaf8900cf1189af30e0c561a58550/theorem_expr.ipynb\"><img src=\"data:image/png;base64,iVBORw0KGgoAAAANSUhEUgAAAD4AAAATBAMAAAA63aOfAAAAMFBMVEX///8AAAAAAAAAAAAAAAAA\n",
       "AAAAAAAAAAAAAAAAAAAAAAAAAAAAAAAAAAAAAAAAAAAv3aB7AAAAD3RSTlMAMhAi783diatmdrtE\n",
       "mVQhVHx6AAAACXBIWXMAAA7EAAAOxAGVKw4bAAAA90lEQVQoz2NgwAMuMOAHG4iQZ2RgUEYRZMrf\n",
       "HcTA7u8DlWf5GpaEqov7wQkGBn2Yfjb/dAVUeY5k9gkMLAy8u3d7797JwIFhK8drhmAGNph+hDzX\n",
       "trRUsLzlAlMs8jxRUHs4DBq5ChDysyoEwMKmMGdwGHAz7IHLcysw/wELB8PtN2C8oKaGFH7bwGQA\n",
       "Qp5hHt8WJAffNwCFk1taWlo2VJ5DoQUmuRUoD3IA0wYk/UwNajCeGwNDP5iRgCTPIMUN4xUwMHiD\n",
       "Gavg4Qs0jksaxrNl4HICM1gfQEXAjKsweea7vRCPM3UfAtOM8SDzVDFjm6caEr4oAADe0TJE7QJ6\n",
       "2QAAAABJRU5ErkJggg==\n",
       "\" style=\"display:inline;vertical-align:middle;\" /></a><br>"
      ],
      "text/plain": [
       "<IPython.core.display.HTML object>"
      ]
     },
     "metadata": {},
     "output_type": "display_data"
    },
    {
     "data": {
      "text/html": [
       "<strong id=\"posnat6\"><a class=\"ProveItLink\" href=\"proofs/posnat6/thm_proof.ipynb\">posnat6</a> (conjecture without proof):<br></strong> <a class=\"ProveItLink\" href=\"../__pv_it/theorems/33140179840d2a4bee3ae02dc55211050104ca150/theorem_expr.ipynb\"><img src=\"data:image/png;base64,iVBORw0KGgoAAAANSUhEUgAAAD8AAAATBAMAAADVH8ihAAAAMFBMVEX///8AAAAAAAAAAAAAAAAA\n",
       "AAAAAAAAAAAAAAAAAAAAAAAAAAAAAAAAAAAAAAAAAAAv3aB7AAAAD3RSTlMAiTIizUSr3Xa7VBDv\n",
       "mWZb+y3UAAAACXBIWXMAAA7EAAAOxAGVKw4bAAABAklEQVQoz2NgwAN4GQgATjIVbP85ZQODzJ8A\n",
       "uAJBQQVUFbNYExi4P8BNMAlgK0BVkG4gx8BwgOHmzDkzZz5gYPBg4JyAqiBrAosBQwHMBK7fcInO\n",
       "8nIHEJ38gtkBoYDzAEw+pBvKSGZTaEQo4HGSuAoWZvaGqUxmmMAZAFfA78fAswDEANoLV6DLXV0A\n",
       "C8n9Hxh4T4MVMCAU8C1YCbd5fwED31cQQ6ccCCZAFDBks8EV8Dsw8P0DMXYimcCwjRseNpwwE9iR\n",
       "FTA1wMOGC+gGsHEcDTChSUDchAi8iQx7wL5g8IKJgBi8DnAFjHeTIIxtUzeAaZU/QN3cDljiOXB6\n",
       "OaYwANqrPYbb8z3EAAAAAElFTkSuQmCC\n",
       "\" style=\"display:inline;vertical-align:middle;\" /></a><br>"
      ],
      "text/plain": [
       "<IPython.core.display.HTML object>"
      ]
     },
     "metadata": {},
     "output_type": "display_data"
    },
    {
     "data": {
      "text/html": [
       "<strong id=\"posnat7\"><a class=\"ProveItLink\" href=\"proofs/posnat7/thm_proof.ipynb\">posnat7</a> (conjecture without proof):<br></strong> <a class=\"ProveItLink\" href=\"../__pv_it/theorems/4d38e67dca889f414c12678ff3d84cf315a51b320/theorem_expr.ipynb\"><img src=\"data:image/png;base64,iVBORw0KGgoAAAANSUhEUgAAAD4AAAATBAMAAAA63aOfAAAAMFBMVEX///8AAAAAAAAAAAAAAAAA\n",
       "AAAAAAAAAAAAAAAAAAAAAAAAAAAAAAAAAAAAAAAAAAAv3aB7AAAAD3RSTlMAImYQVO+Ju5ndqzJE\n",
       "zXbfw+mkAAAACXBIWXMAAA7EAAAOxAGVKw4bAAAA80lEQVQoz2NgwAMaGPCDAiLkhQzQBJnnl19m\n",
       "YIuPgcr7////PwBFAbvDKQYGe5j+9I6OTgcUea6JbAoMrAwc5eXh5UUMCQwMEqgWcLkzXGTghOkH\n",
       "6l0AEeernDkXLC/0QBYhz8DAtgFM8dyDupRLYDVfApK8OERYFuYRLgF2hhok+TUQ4Ytw+wW4Gywt\n",
       "4eHHCPXdBYQ8gwpLKdy5bBAJ7siZM2dOh8pzGSyFy3NCbGEuQNLPvMASLm8P9d4EJHmGfexw+fPQ\n",
       "WHwHD1+gf/m2w+X9EyA0LyyUwYxeuLwoVJx5+WGIQ++HA0lbzNjmSYeELwoAACBBMrkHhnlAAAAA\n",
       "AElFTkSuQmCC\n",
       "\" style=\"display:inline;vertical-align:middle;\" /></a><br>"
      ],
      "text/plain": [
       "<IPython.core.display.HTML object>"
      ]
     },
     "metadata": {},
     "output_type": "display_data"
    },
    {
     "data": {
      "text/html": [
       "<strong id=\"posnat8\"><a class=\"ProveItLink\" href=\"proofs/posnat8/thm_proof.ipynb\">posnat8</a> (conjecture without proof):<br></strong> <a class=\"ProveItLink\" href=\"../__pv_it/theorems/2334cee5bf95bafb14d9b42fee870c0eab4b50810/theorem_expr.ipynb\"><img src=\"data:image/png;base64,iVBORw0KGgoAAAANSUhEUgAAAD8AAAATBAMAAADVH8ihAAAAMFBMVEX///8AAAAAAAAAAAAAAAAA\n",
       "AAAAAAAAAAAAAAAAAAAAAAAAAAAAAAAAAAAAAAAAAAAv3aB7AAAAD3RSTlMAEImZRKtUZs27dt0i\n",
       "7zLMHA9cAAAACXBIWXMAAA7EAAAOxAGVKw4bAAABBElEQVQoz2NgwAOYGQgATjIVSP+cIcCg+9cB\n",
       "pkBIyQRNxTSWAAbGD3ATDBhYE1AVRB9QZ2C4wGA5c+7MmQUM7AUMjA2oCsImcBxg2AAzgSkArmDl\n",
       "7t1gVkwVTwNCAdtPAeYCsLzHQqgJMawPFiEUMMT/MgPTPI0wK2IYJnA6IBQw/98DpoH2whU8Zty4\n",
       "AR6SSSf/g33BwYBQwJ6QeQHGYzdgyL8IYrzdDQQTIAoYAlnhCngFGHi+gRiSSCYwiDJugPHkgTgc\n",
       "xOBGVsC3YALcBKDb5oAYXAtgQvOAeB1cAUsjAztEqg0mBGIwI0L3qTE0skSnCIDpF3+ButGDHwyc\n",
       "Zu/GFAYASKBAklQe/eQAAAAASUVORK5CYII=\n",
       "\" style=\"display:inline;vertical-align:middle;\" /></a><br>"
      ],
      "text/plain": [
       "<IPython.core.display.HTML object>"
      ]
     },
     "metadata": {},
     "output_type": "display_data"
    },
    {
     "data": {
      "text/html": [
       "<strong id=\"posnat9\"><a class=\"ProveItLink\" href=\"proofs/posnat9/thm_proof.ipynb\">posnat9</a> (conjecture without proof):<br></strong> <a class=\"ProveItLink\" href=\"../__pv_it/theorems/03cde5c9ff9e98905b977ddaadcdfab939ce8b070/theorem_expr.ipynb\"><img src=\"data:image/png;base64,iVBORw0KGgoAAAANSUhEUgAAAD8AAAATBAMAAADVH8ihAAAAMFBMVEX///8AAAAAAAAAAAAAAAAA\n",
       "AAAAAAAAAAAAAAAAAAAAAAAAAAAAAAAAAAAAAAAAAAAv3aB7AAAAD3RSTlMAmasQ3XYy7yK7zYlE\n",
       "ZlRwlz41AAAACXBIWXMAAA7EAAAOxAGVKw4bAAABAklEQVQoz2NgwAMYGQgATjIVmPycZcCw/fsB\n",
       "mAJGQWU0FfN4FBiYP8BMYHZlSG9AVaDSsJeBoYBBcub0mTMvMDAVMHBOQFWgN4GrgcEBZgL/Agbu\n",
       "zxCJSBeXBSBa4yrHAoQC+wkMrH/A8qeCoSZoMCVEo5rwF8TgWAyzQoNhAucBuAKQG76CGFwNCAWJ\n",
       "zM4OsJBkrmFI+gdWwIBQwPvgZQGcaxj99BuITncBggkQBQzKTAVI3oL4whLJBAYjZgfkIAfrY0FW\n",
       "wBYADxu+Ygb7BBCDNQAmNA2Iw+AKWJ0Z5kJY62BCIAbjAriBuwUPQBhGcwzAdNZ3oG7mBVji+fQU\n",
       "F0xhAOzYOgZntIeUAAAAAElFTkSuQmCC\n",
       "\" style=\"display:inline;vertical-align:middle;\" /></a><br>"
      ],
      "text/plain": [
       "<IPython.core.display.HTML object>"
      ]
     },
     "metadata": {},
     "output_type": "display_data"
    }
   ],
   "source": [
    "posnat1, posnat2, posnat3, posnat4, posnat5, posnat6, posnat7, posnat8, posnat9 = [InSet(num(n), NaturalPos) for n in range(1, 10)]"
   ]
  },
  {
   "cell_type": "code",
   "execution_count": 10,
   "metadata": {},
   "outputs": [
    {
     "data": {
      "text/html": [
       "<strong id=\"digit0\"><a class=\"ProveItLink\" href=\"proofs/digit0/thm_proof.ipynb\">digit0</a> (conjecture without proof):<br></strong> <a class=\"ProveItLink\" href=\"../__pv_it/theorems/8f11feba57259d9f0c7790eb53a8b4723735921e0/theorem_expr.ipynb\"><img src=\"data:image/png;base64,iVBORw0KGgoAAAANSUhEUgAAAEgAAAAUBAMAAADcj2b4AAAAMFBMVEX///8AAAAAAAAAAAAAAAAA\n",
       "AAAAAAAAAAAAAAAAAAAAAAAAAAAAAAAAAAAAAAAAAAAv3aB7AAAAD3RSTlMAiXaZIs1UEN1mu6sy\n",
       "RO+L2jdBAAAACXBIWXMAAA7EAAAOxAGVKw4bAAABXElEQVQoz4WSv0vDQBTHv7VtjqR3NnRTRFpH\n",
       "cXDwD8ji3CDSOXOngCAVwWZRg1Nx0ykO/kAcAhYVdQiIi4Nkc83oqCKVChbvklYTW+KDy7179+F7\n",
       "33s5IDXqGioV/MOUUVAlN5XZbwFFj3ykMbMG/1Q1fI3Ya3wempju+Y+CwbhPu0CmtPCHOmIuyAuk\n",
       "A5Mv2PFaB6ihoSWhK20CCPh+SK1675AtZJwkdOHkNVg8oecaqMksKC6kyP7Yib0ZJu3dnB5CyN2Y\n",
       "SivvoTgP2hEFtmT2ldoFrxJByIHtTQFNDnXFenHAoA1H8a24gaoK+iaSZfxCd2R7CHoViR6DZKMe\n",
       "4OGUR3TxpgomlOizbds7fQiXhSCuxI1LwjhxYkpYJ4njFAdy2AIrDtFyondygGxoZ+andMbHXLLB\n",
       "W9jwxJw3BpUaH1k9Aa2UbsOZXD9FhfseVyH66OfDJvu/ZSi+AT47WRHir65EAAAAAElFTkSuQmCC\n",
       "\" style=\"display:inline;vertical-align:middle;\" /></a><br>"
      ],
      "text/plain": [
       "<IPython.core.display.HTML object>"
      ]
     },
     "metadata": {},
     "output_type": "display_data"
    },
    {
     "data": {
      "text/html": [
       "<strong id=\"digit1\"><a class=\"ProveItLink\" href=\"proofs/digit1/thm_proof.ipynb\">digit1</a> (conjecture without proof):<br></strong> <a class=\"ProveItLink\" href=\"../__pv_it/theorems/271244a3e5b585723ef55be00a0825f47b12167d0/theorem_expr.ipynb\"><img src=\"data:image/png;base64,iVBORw0KGgoAAAANSUhEUgAAAEcAAAAUBAMAAAAthD11AAAAMFBMVEX///8AAAAAAAAAAAAAAAAA\n",
       "AAAAAAAAAAAAAAAAAAAAAAAAAAAAAAAAAAAAAAAAAAAv3aB7AAAAD3RSTlMAMt0Qq5nNdoki72a7\n",
       "RFSRpcO+AAAACXBIWXMAAA7EAAAOxAGVKw4bAAABH0lEQVQoz2NgwAf4TjKwtzcw4FdznIHBg+EJ\n",
       "XjXcp4HERwZ7Azxq2M8BCc6fDPwXMOWY9c8kM3CsX8u4DsxdyyC/gYGBURlNFc+DKwwM9gwMb5pB\n",
       "vDvG+x8wmIR9RlPEosmxgYELJA9SxfyQfwLQagxFbxgyGZhALJFIBgZhhksMSIpqlJQSwIpmF0yD\n",
       "KGKY4sxwmiERSdG1YphJExzZGyCKGCYw3N4hgFDEmQy3bgIPw1kmtOCAKGKbgFDEGGBkhF0RwuET\n",
       "GPbxnWJgPAMEJ1EVSSkBwQGoIhYDL6wm2SCbxOyA3TomZEUM4jxYFbEXwKMF6Gd2GVRFHD8hdB5M\n",
       "gO0BkAhDjQSvb95ghslZSLphzF8DJM1wpJ8bhyDRggkA3FhHS+1JwGcAAAAASUVORK5CYII=\n",
       "\" style=\"display:inline;vertical-align:middle;\" /></a><br>"
      ],
      "text/plain": [
       "<IPython.core.display.HTML object>"
      ]
     },
     "metadata": {},
     "output_type": "display_data"
    },
    {
     "data": {
      "text/html": [
       "<strong id=\"digit2\"><a class=\"ProveItLink\" href=\"proofs/digit2/thm_proof.ipynb\">digit2</a> (conjecture without proof):<br></strong> <a class=\"ProveItLink\" href=\"../__pv_it/theorems/b368719aa678ad15196efb520fc214ed0de555d60/theorem_expr.ipynb\"><img src=\"data:image/png;base64,iVBORw0KGgoAAAANSUhEUgAAAEcAAAAUBAMAAAAthD11AAAAMFBMVEX///8AAAAAAAAAAAAAAAAA\n",
       "AAAAAAAAAAAAAAAAAAAAAAAAAAAAAAAAAAAAAAAAAAAv3aB7AAAAD3RSTlMAIpnNuzKJRKvvEN12\n",
       "ZlQ4bmvwAAAACXBIWXMAAA7EAAAOxAGVKw4bAAABSklEQVQoz2NgwAf4HBl4chIY8KvxYWBoY3iB\n",
       "Vw2vL5D4yrB+AR41PH5AgvEjA38BphzXfhcrBrb501nngbnTGeIvMDAqmQSgqmJ5UMHAsJ6B4UkW\n",
       "iFey6v4DBhEGtu+oijg2sl1g4ATJg1RxPeUXYGhkYJiJpugJgyEDN4gVocjAEMVQzcAwfwFDvwBY\n",
       "8sju3QZgRbIHhCGKGCS6GHwZTBkYuhkY+sGOKj4FM0mglScBoohBgKH2GsTJ+0EEoxXcOgEWBndu\n",
       "ND+z/gGRzAIIRawKq1ejKeJuACtCOFyA4R6fJwOrCxA4wgRVwGTkbiBwgCriWNCJFkNggxiWIJvE\n",
       "1YBm3TMGRpBzuJEVMcSwoDo7gYEHFM08B+DRAvQzTwiKImklJW0www4mwvwASCijKNr///9nMGOF\n",
       "OyTdsNpPAZKLcaSfMm9ItGACAEf6RBN0yGZIAAAAAElFTkSuQmCC\n",
       "\" style=\"display:inline;vertical-align:middle;\" /></a><br>"
      ],
      "text/plain": [
       "<IPython.core.display.HTML object>"
      ]
     },
     "metadata": {},
     "output_type": "display_data"
    },
    {
     "data": {
      "text/html": [
       "<strong id=\"digit3\"><a class=\"ProveItLink\" href=\"proofs/digit3/thm_proof.ipynb\">digit3</a> (conjecture without proof):<br></strong> <a class=\"ProveItLink\" href=\"../__pv_it/theorems/f0cd5465ce656d06a9aae1b4dd864915c21f23570/theorem_expr.ipynb\"><img src=\"data:image/png;base64,iVBORw0KGgoAAAANSUhEUgAAAEgAAAAUBAMAAADcj2b4AAAAMFBMVEX///8AAAAAAAAAAAAAAAAA\n",
       "AAAAAAAAAAAAAAAAAAAAAAAAAAAAAAAAAAAAAAAAAAAv3aB7AAAAD3RSTlMAIomZu0QQVHbN72bd\n",
       "Mqv0UZE7AAAACXBIWXMAAA7EAAAOxAGVKw4bAAABT0lEQVQoz2NgwAtKBBiamhgIqGlg4FNgf4BX\n",
       "zZYNDAz8F9i+4VPTUgAk5AUYvmKRy/nimcCg9SvgFkgNA1cA728GBiFlVzRV7qwPGNg+MLA7JQA5\n",
       "rG7Z3xnYDBjqC1AVvRHQZmBYAJQHq0q/8JGB4ztD/gRURc8dOAUYDgAZvI8FGHgTWA8wsC5l4Ico\n",
       "4vA5cxLMeLiDcQJYEQPjuwSWDZwXQMz6DSCSdUYC1KSHfBeaIIoYGBlYd+uCZU+D+ZIwNQwPGRxY\n",
       "Ag6guIC37y2YnsiAUHSZ7dgBNC9DfDcBSRF3QckChisuQCAAE+QChTvvmjNnzhyBKmJ4xrcAxbYL\n",
       "DCzfgTSbA5JJDHlsKNbxf4MoYjiArIi3wQFZEdcDiHUMHXAhXyDuRVHEvQEaTpzwyJkOxMyosRBs\n",
       "DIlgtidhEIGbv4CmsE3AnnxYVaDRggEAWI9bPpyFTC0AAAAASUVORK5CYII=\n",
       "\" style=\"display:inline;vertical-align:middle;\" /></a><br>"
      ],
      "text/plain": [
       "<IPython.core.display.HTML object>"
      ]
     },
     "metadata": {},
     "output_type": "display_data"
    },
    {
     "data": {
      "text/html": [
       "<strong id=\"digit4\"><a class=\"ProveItLink\" href=\"proofs/digit4/thm_proof.ipynb\">digit4</a> (conjecture without proof):<br></strong> <a class=\"ProveItLink\" href=\"../__pv_it/theorems/b5173cca4fdacf22d5d5189b97441ce2b55d5c450/theorem_expr.ipynb\"><img src=\"data:image/png;base64,iVBORw0KGgoAAAANSUhEUgAAAEgAAAAUBAMAAADcj2b4AAAAMFBMVEX///8AAAAAAAAAAAAAAAAA\n",
       "AAAAAAAAAAAAAAAAAAAAAAAAAAAAAAAAAAAAAAAAAAAv3aB7AAAAD3RSTlMAMpndq3ZmzYkiRO+7\n",
       "EFRAb64nAAAACXBIWXMAAA7EAAAOxAGVKw4bAAABQElEQVQoz2NgwAveTGCIiGAgoCaAgaWBzwGv\n",
       "mpwEBgZ+Ad6/+NTEPAAS8ycw/MIid/nP8QsM3b8XSIPUMHAvYPwGooXQVJ3jcmDg/cDAd+ICkMN1\n",
       "9to/kKAJmiLnCW0MDBuA8mBV9wR+AklWdEV+B9gnMBgAGYxOExgYL3CBmGIlEDnWw8bmYIZnKmcB\n",
       "WBEDp8sFngR2ASCrAaKIq/QC1CRPFoEIiCIGTgautEaQARMgiqbD1DB4MhzgWWCA4oJpDBBFlQwI\n",
       "RUK8tqiKGqCKCpAUsT14s4FB5gwQTACLsE2AKGLcbGxsbANVxODLsgHZoKkMEEW8B5BMYrjCi2Ld\n",
       "EheX3x4ghgGyIsaAA2iBtwVMhsL5B4E4EF3RHzDJ/gDGrwNipgJUNTr/XcGO8lkL4Yv/BprCW4A9\n",
       "+XD1QKMFAwAA619P7sZMB3EAAAAASUVORK5CYII=\n",
       "\" style=\"display:inline;vertical-align:middle;\" /></a><br>"
      ],
      "text/plain": [
       "<IPython.core.display.HTML object>"
      ]
     },
     "metadata": {},
     "output_type": "display_data"
    },
    {
     "data": {
      "text/html": [
       "<strong id=\"digit5\"><a class=\"ProveItLink\" href=\"proofs/digit5/thm_proof.ipynb\">digit5</a> (conjecture without proof):<br></strong> <a class=\"ProveItLink\" href=\"../__pv_it/theorems/5c03f669b2f2a31a0619f030a796caacffe626cb0/theorem_expr.ipynb\"><img src=\"data:image/png;base64,iVBORw0KGgoAAAANSUhEUgAAAEcAAAAUBAMAAAAthD11AAAAMFBMVEX///8AAAAAAAAAAAAAAAAA\n",
       "AAAAAAAAAAAAAAAAAAAAAAAAAAAAAAAAAAAAAAAAAAAv3aB7AAAAD3RSTlMAMhAi783diatmdrtE\n",
       "mVQhVHx6AAAACXBIWXMAAA7EAAAOxAGVKw4bAAABQ0lEQVQoz2NgwAf4NjNwVRUw4Fezi4GhneEF\n",
       "XjWcO4HERwZ9BTxquPYBCebPDPwHGBgZGJRR5JjydwcxsPv7MPqBuT4M8hMYWL6GJaGawP3gBAOD\n",
       "PgPD6yIQ77TS/AcMbP7paHZyJLMD9YLkQaqYHvIbMHBguIXjNUMwAxuIJXGZgUGI4RgDkqLVaWkB\n",
       "YEWWC0whihgsmhh2MgQiKTq6CGaSQSNXAUQRgwHDyekCQKFZFQIgLnMQ3DoDboY9bKh+UWD+A6JZ\n",
       "DRCKGC+oqaG7dBtYEcLhBgzz+LYwMO4Ggs1w0fsgQ0TSgGADVBGHQguKMVuBikCO0kY2iakB1To3\n",
       "BoZ+EM2GrIhBihtFETC1eIOjcwHcK0CDuaRRFNkycDmBGXEwEdYHQOIqiiLmu72QuNPYA6EZ40Em\n",
       "q+JIP8e3QaIFEwAA4rNA8D24WpQAAAAASUVORK5CYII=\n",
       "\" style=\"display:inline;vertical-align:middle;\" /></a><br>"
      ],
      "text/plain": [
       "<IPython.core.display.HTML object>"
      ]
     },
     "metadata": {},
     "output_type": "display_data"
    },
    {
     "data": {
      "text/html": [
       "<strong id=\"digit6\"><a class=\"ProveItLink\" href=\"proofs/digit6/thm_proof.ipynb\">digit6</a> (conjecture without proof):<br></strong> <a class=\"ProveItLink\" href=\"../__pv_it/theorems/1556f6d607386243e96fc2397c748220896ed1d70/theorem_expr.ipynb\"><img src=\"data:image/png;base64,iVBORw0KGgoAAAANSUhEUgAAAEgAAAAUBAMAAADcj2b4AAAAMFBMVEX///8AAAAAAAAAAAAAAAAA\n",
       "AAAAAAAAAAAAAAAAAAAAAAAAAAAAAAAAAAAAAAAAAAAv3aB7AAAAD3RSTlMAiTIizUSr3Xa7VBDv\n",
       "mWZb+y3UAAAACXBIWXMAAA7EAAAOxAGVKw4bAAABUklEQVQoz2NgwAtWGjA0NjIQUNPAwCbAlYBX\n",
       "zcsHDAz8Cty/8anpXAAk7A0YvmKR2/5zygYGmT8BOiA1DDwBTP+AlKCgAqqqWawJDNwfGLgmbgBy\n",
       "WGfv+8XAYBLAVoCqKN1AjoHhAFAerGqXwmcGBg8GzgmoirImsBgwgDQy5RowMG1gLWDggrudY3p5\n",
       "CZiR/ILZAayIgTltA+cDFgUGzgNQNaweG6CsZDaFRogiBmYG1ndCQNc7SVwF801gahiSGSZwBqC4\n",
       "k9+PgQfsV2cGhCJd7moURfs/MPCeBjEckBTxLVh5gEFzJhAYQBQVMPCBgpTpeHl5eSVUEUM22wEU\n",
       "6xwY+EBByj0BySSGbdwo1nFCTWIoQFbE1IASdlxAN4GN7oALTQLiJtQAnsiwB+w7lgUwES8g5nVA\n",
       "UcR4NwlMc2dGQwRU/gBN4XbAnnxYJaHRggEAfZJSZtRBYqgAAAAASUVORK5CYII=\n",
       "\" style=\"display:inline;vertical-align:middle;\" /></a><br>"
      ],
      "text/plain": [
       "<IPython.core.display.HTML object>"
      ]
     },
     "metadata": {},
     "output_type": "display_data"
    },
    {
     "data": {
      "text/html": [
       "<strong id=\"digit7\"><a class=\"ProveItLink\" href=\"proofs/digit7/thm_proof.ipynb\">digit7</a> (conjecture without proof):<br></strong> <a class=\"ProveItLink\" href=\"../__pv_it/theorems/d3c9a6c611d79db3ad75e310a5351c0c8d4ecd5b0/theorem_expr.ipynb\"><img src=\"data:image/png;base64,iVBORw0KGgoAAAANSUhEUgAAAEcAAAAUBAMAAAAthD11AAAAMFBMVEX///8AAAAAAAAAAAAAAAAA\n",
       "AAAAAAAAAAAAAAAAAAAAAAAAAAAAAAAAAAAAAAAAAAAv3aB7AAAAD3RSTlMAImYQVO+Ju5ndqzJE\n",
       "zXbfw+mkAAAACXBIWXMAAA7EAAAOxAGVKw4bAAABQklEQVQoz2NgwAdYChn48hIY8KupY2BYxuCF\n",
       "Vw1TEZD4zWBvgEcNXwmQYPzIwH+AQQhdHfP88ssMbPEx3CFgbgzDfgUG/////wegqGJ3OMXAYM/A\n",
       "4J4M4h031ndgSO/o6HRAUcQ1kU2BgRUkD1LF7M0vwAD0oASqfVzuDBcZOEGsXY0MDJsZTjIwAE1Z\n",
       "AJF8PnPmBbAioQeyEEUMUosZihhug1hsG8ACZx/DTBJYzZcAUcQgwHBIDSwtDuYyXoZbJ8DOUMOJ\n",
       "5uc1YJJXAKGIu8HSElUNIyQAeBEOF2BQYSll4C4HgkKoGBvYtQxbZwJBAVQRl8FSVJM4wTIM5sgm\n",
       "MS9As84eEgKcyIoY9rGjKjrfAInOB/BoAfqZbzuqIn9ooroCE+AFxVIvqiJRaMxZ1UDSA/f9cCBp\n",
       "iyP9HKuERAsmAAAZAUK96y6IxAAAAABJRU5ErkJggg==\n",
       "\" style=\"display:inline;vertical-align:middle;\" /></a><br>"
      ],
      "text/plain": [
       "<IPython.core.display.HTML object>"
      ]
     },
     "metadata": {},
     "output_type": "display_data"
    },
    {
     "data": {
      "text/html": [
       "<strong id=\"digit8\"><a class=\"ProveItLink\" href=\"proofs/digit8/thm_proof.ipynb\">digit8</a> (conjecture without proof):<br></strong> <a class=\"ProveItLink\" href=\"../__pv_it/theorems/bddb90d36c019171de004dede3dd3b607151da960/theorem_expr.ipynb\"><img src=\"data:image/png;base64,iVBORw0KGgoAAAANSUhEUgAAAEgAAAAUBAMAAADcj2b4AAAAMFBMVEX///8AAAAAAAAAAAAAAAAA\n",
       "AAAAAAAAAAAAAAAAAAAAAAAAAAAAAAAAAAAAAAAAAAAv3aB7AAAAD3RSTlMAEImZRKtUZs27dt0i\n",
       "7zLMHA9cAAAACXBIWXMAAA7EAAAOxAGVKw4bAAABWklEQVQoz2NgwAsyDzAsWsRAQM0CBlYFtgC8\n",
       "aioLGBj4HzB+xKdmZQKQOH+A4QsWOemfMwQYdP86vAWpYeB14PvOwCCkZIKmahpLAAPjBwa2SQJA\n",
       "DstE8W8MDAYMrAmoiqIPqDMwXADKg1WJPfjDwF7AwNiAqihsAscBhg1ABl/wAQY+AZYNDEwBMEVc\n",
       "s3fvADNiqngawIoYeEIFOAs4HjCw/RRgLgAJsHQJQE2KYX2wCKKIgYeBpVwPSMf/MgPzT8DUMMQw\n",
       "TOB02IDiAub/e8B0DwNC0WPGjaiKkk7+B/uuAUkRe0LmBYaXM4HgAFiE3YAh/yLIJ7d37969E6qI\n",
       "IZD1ArJBvAIMPMDQYmCcgGQSgygjinXyQBwOYmxAVsS3YAKKSUBb54AYq+BC84B4HYoilkYG9gUg\n",
       "Bgc8ctpAfkaNhafGkAhmjHSECLz4CzQFPargZmpCowUDAADtjlcKKzv5QAAAAABJRU5ErkJggg==\n",
       "\" style=\"display:inline;vertical-align:middle;\" /></a><br>"
      ],
      "text/plain": [
       "<IPython.core.display.HTML object>"
      ]
     },
     "metadata": {},
     "output_type": "display_data"
    },
    {
     "data": {
      "text/html": [
       "<strong id=\"digit9\"><a class=\"ProveItLink\" href=\"proofs/digit9/thm_proof.ipynb\">digit9</a> (conjecture without proof):<br></strong> <a class=\"ProveItLink\" href=\"../__pv_it/theorems/8dcd486b33b0169f35cc119a1b3301cd991e28e40/theorem_expr.ipynb\"><img src=\"data:image/png;base64,iVBORw0KGgoAAAANSUhEUgAAAEgAAAAUBAMAAADcj2b4AAAAMFBMVEX///8AAAAAAAAAAAAAAAAA\n",
       "AAAAAAAAAAAAAAAAAAAAAAAAAAAAAAAAAAAAAAAAAAAv3aB7AAAAD3RSTlMAmasQ3XYy7yK7zYlE\n",
       "ZlRwlz41AAAACXBIWXMAAA7EAAAOxAGVKw4bAAABVElEQVQoz2NgwAteNjBERzMQUBPAwLSBTwGv\n",
       "mpsXGBj4E5g/41MT+QBI9Dcw/MEiZ/JzlgHD9u8H0kFqGNgPsP1lYGAUVEZTNY9HgYH5AwPfbAMg\n",
       "h2ey7T8GZleG9AZURSoNexkYCoDyYFV2CT8YmAoYOCegKtKbwNXA4ABksCk2MLAZ8Dgw8C9g4IY4\n",
       "n3WKixeYoXGVYwFYEQOHkgHnBa4EBvsJDKxg5/MsNYCapMGUEA1RxMDBwHN3GwPYpL8gfhdMDYMG\n",
       "wwTOAw7IDgC56SuIsYIBoSiR2RlFEXMNQ9I/EGMBkiLeBy8LGDJnAgHU44bRT7+BfFLi4uLiCVXE\n",
       "oAy0ABWAfcc8AckkBiNmBzRFkHByQFbEFoASdnzFDPYJIEYoXGgaEIehKGJ1ZpgLZnA9gAmtA2LG\n",
       "BSiW7RY8APGm5mGIQNZ3oCnMC7AnH56d0GjBAAAD81Buwt1cvwAAAABJRU5ErkJggg==\n",
       "\" style=\"display:inline;vertical-align:middle;\" /></a><br>"
      ],
      "text/plain": [
       "<IPython.core.display.HTML object>"
      ]
     },
     "metadata": {},
     "output_type": "display_data"
    }
   ],
   "source": [
    "digit0, digit1, digit2, digit3, digit4, digit5, digit6, digit7, digit8, digit9 = [InSet(num(n), Digits) for n in range(0, 10)] "
   ]
  },
  {
   "cell_type": "code",
   "execution_count": 11,
   "metadata": {},
   "outputs": [
    {
     "data": {
      "text/html": [
       "<strong id=\"N_leq_9_enumSet\"><a class=\"ProveItLink\" href=\"proofs/N_leq_9_enumSet/thm_proof.ipynb\">N_leq_9_enumSet</a> (conjecture without proof):<br></strong> <a class=\"ProveItLink\" href=\"../__pv_it/theorems/2d84bf844e651596ef4c0343d7a22632eb89c1360/theorem_expr.ipynb\"><img src=\"data:image/png;base64,iVBORw0KGgoAAAANSUhEUgAAAQ8AAAAYBAMAAAAWpWWaAAAAMFBMVEX///8AAAAAAAAAAAAAAAAA\n",
       "AAAAAAAAAAAAAAAAAAAAAAAAAAAAAAAAAAAAAAAAAAAv3aB7AAAAD3RSTlMAEN27zYnvRFSrImZ2\n",
       "MpmnAiL6AAAACXBIWXMAAA7EAAAOxAGVKw4bAAAD5klEQVRIx8WWX2gURxzHv5vLent/NlmkFMWS\n",
       "u/ggLQhu/IcixYMW0r5tlQi2KieI2vqQU0TxySvBFxEuStVEW10qCEVJDnyMtAft+aY9sBWkKtGI\n",
       "YAunxhjFVNaZ+c1Mwl68nIJk4Ha/N/P7zXz29/vN7AJTWo+Pchmz33pKiHlW76xzXCoCrRXjyWxz\n",
       "/J5nl0Efz2tGjP3vd+X4YX6d+3S5gw3juRucA3Ny9kSN4R+732H2Cgw/1HXBeYPtzQ5+XRXthfEY\n",
       "1gpuFu1Y8CJsZvFkmZv+lX/tdvUg1c8qUnWN5JT1HXnv/nyhXNfs2kyiEARBlmLctUU6tFSPsutq\n",
       "Lo/53wBsPCpI5lVehkHMNLt8gbn0gPPvqyI6B1OmsQ2Wxv9E3heNfiUpO3GM1Ppq9V6elgf6iGgx\n",
       "brB513Hd5zb74GvZZ3zYTjQ9HUgiDdOlv0kFcgrYTurPvDEmO5MKRG++5hKWkfKAAVJDwAdCxLKI\n",
       "uBLk1OV4RoAg3u9Eis2V6UAivZShqSDdDs5SlPbloED++TIMUtCVkde9GxVIawbmEwUSq5QJBHFE\n",
       "hzZjOpDWYdgvQiAs4GcVtaVK3KsBWTl1Kmlf6MB/QqRcJJ8rELiRXLpO/XOQFAOZCIGwtkSJPUU5\n",
       "6CuQ0+WfSGz7+5qu5HPyHguu5XVEJjTIHaM9DHJvIW+U75YMO1882P/XgKgu3OqXj3oBCqQDg7T+\n",
       "WBE7lcNJJR6N+rpG2CRXCCSR78ni+jLW/Okicr5IIM9qQJp0/NWu8TQIqyvxdEYAPJBlEs8q86/X\n",
       "koOxAzeZGsxT8R+NZd+cmV86eS49RGsjMjJp1S3WSvhTQFrEQWCMAr/J3JgZOfQrrHGCaysfecWM\n",
       "fsgLkPlGnRqxRxxRrFa4WJFQAbkNrBU5vwgFEsmg5RWlhoHICmqSJwC2yiAIOjaf2UkRsUtunRph\n",
       "W5dv9kR4++IQ4pTLwJEgB/r7x4+LrjlpxB4LtXQyIilJzg5yxIoqg67c4p+y31V3hl2TyPKadRSI\n",
       "IULlIekI9S1PjUHWTHMzk7G4QhVYjZADDg5L1+/Y+j5X1lakWJ1vgDi8aWPUBcHH+LBCx6fJUp/i\n",
       "9j+zE5vUED9HUjTHUwiz+DCuOEJFPGOnHCx40nWvg8tCJduxBrR9/xpn0TBmBGnbxI4F/hqLnRg7\n",
       "jSb+4lsSBGOkolX20hMKI8GPwgwDD++SA7Y8rMjB8yx/QtlnqtKhq5qTIDM3U1eypU/r71FHTZo1\n",
       "6PDWIKbu8+qpSbMGHRoESepD5iP9zVaqp7RZow6439iXnP7W0J5J1FMlvKWDsauxr76Bvvf8zbqR\n",
       "FfFrtC0XIh6s2sMAAAAASUVORK5CYII=\n",
       "\" style=\"display:inline;vertical-align:middle;\" /></a><br>"
      ],
      "text/plain": [
       "<IPython.core.display.HTML object>"
      ]
     },
     "metadata": {},
     "output_type": "display_data"
    }
   ],
   "source": [
    "N_leq_9_enumSet = Equals(Digits, Set(zero, one, two, three, four, five, six, seven, eight, nine))"
   ]
  },
  {
   "cell_type": "code",
   "execution_count": 12,
   "metadata": {},
   "outputs": [
    {
     "data": {
      "text/html": [
       "<strong id=\"digits_lower_bound\"><a class=\"ProveItLink\" href=\"proofs/digits_lower_bound/thm_proof.ipynb\">digits_lower_bound</a> (conjecture without proof):<br></strong> <a class=\"ProveItLink\" href=\"../__pv_it/theorems/eb1a944bc879af5773678dd651ee34bb776880700/theorem_expr.ipynb\"><img src=\"data:image/png;base64,iVBORw0KGgoAAAANSUhEUgAAAIsAAAAVBAMAAACEWwD/AAAAMFBMVEX///8AAAAAAAAAAAAAAAAA\n",
       "AAAAAAAAAAAAAAAAAAAAAAAAAAAAAAAAAAAAAAAAAAAv3aB7AAAAD3RSTlMAq1RmmUTNIjK7EInv\n",
       "3XZ/CtNrAAAACXBIWXMAAA7EAAAOxAGVKw4bAAACSElEQVQ4y52UTWjTYBjH/02WJkvarTfZDpIh\n",
       "joJgo+ht1cKqDnvpyYtTBx5ETxHmwY9pBK9ONxjSHeRVYSBTFr+QKYIXYSCCiOg8FDIckyFKDxOH\n",
       "XnzebnmTtmsje+Elz/N+/PJ8/BPgP4e9qa360WE23ztOM8WNbZGYHU3WXy7a6LCAA9w5FUXRh0LO\n",
       "lCXMuKl/Bs4AV8lRb0Zh2qww85Xnm1lgFthDPAYYZhQmUev+eLFujAEZhgSDTO+JR5amt87PrnNW\n",
       "gBsm4sR4Vy6/jcQUeEO6Ly6LbHoPVdPjGAsG9WkAmNzwKgvZJ2m6Y57+W6wc6eZF/UsYDzI14CzU\n",
       "1EaUXY725LnvfACU4heoqwFm0se4kF4D7cwohm6rH5+hLwX9qUN1nfJX31AC+i9If0RSW6pJEeaE\n",
       "B60CSF5Q4dGuCfQYrI2pBVL4DDpZgIFUQcyXT/awKHHGhELRYGifUMcAV7SXMzDCAzTMjB0kxRmd\n",
       "FqtteAnYzyC9J/MxiVDuH10EvvKd9PbLBlWGc8498F9wm2vHJY24tfLrAw7SbS7fS1The4NWwtar\n",
       "Yk4bd4/So8eiqv30jz+iecXBkuzUfgxJU5+jLDg8RlsXlqgOSnU7jdwyf14ryt/F+es0jwF3dtd/\n",
       "a4UFup0UPdqKQcinS6Vxwkw3qjrptBLniLDmkNc0dy0aZSeG8/l8WAZyrhWmX6ilgvn0mpr3AguN\n",
       "J2+F7IdlPuYDqYkfhJICFeI8ha59shFrxNxvEUx73V9Uny1NNDmqes0x34B/DyuKDFvkCRAAAAAA\n",
       "SUVORK5CYII=\n",
       "\" style=\"display:inline;vertical-align:middle;\" /></a><br>"
      ],
      "text/plain": [
       "<IPython.core.display.HTML object>"
      ]
     },
     "metadata": {},
     "output_type": "display_data"
    }
   ],
   "source": [
    "digits_lower_bound = Forall(n, greater_eq(n, zero), domain=Digits)"
   ]
  },
  {
   "cell_type": "code",
   "execution_count": 13,
   "metadata": {},
   "outputs": [
    {
     "data": {
      "text/html": [
       "<strong id=\"digits_upper_bound\"><a class=\"ProveItLink\" href=\"proofs/digits_upper_bound/thm_proof.ipynb\">digits_upper_bound</a> (conjecture without proof):<br></strong> <a class=\"ProveItLink\" href=\"../__pv_it/theorems/c1ac2150134a6bae24d62720ab75d69a075b98060/theorem_expr.ipynb\"><img src=\"data:image/png;base64,iVBORw0KGgoAAAANSUhEUgAAAIsAAAAVBAMAAACEWwD/AAAAMFBMVEX///8AAAAAAAAAAAAAAAAA\n",
       "AAAAAAAAAAAAAAAAAAAAAAAAAAAAAAAAAAAAAAAAAAAv3aB7AAAAD3RSTlMAq1RmmUTNIjK7EInv\n",
       "3XZ/CtNrAAAACXBIWXMAAA7EAAAOxAGVKw4bAAACTUlEQVQ4y51UTWgTQRh92c1mN7tpm6simiJK\n",
       "QLGr6E0k0hUKBdm7rQQ9+HOKUA/+VFfwalGhSDzo+IMgbTHWSulJL6IggmiRikRWlEoRbS7+nvp9\n",
       "W3c32TRZcWAy876ZefnmfW8W+MdW+q+laOvMtV7bTz3Lk/WxNJtaxK3dAp0msIfBoTgWvRiNSN6Z\n",
       "CVd7ChwFzhFQL8bRJM1IQJ4VPKwBysB2IEXQyMXRZKJSvfNY8AN4JJARkOl/UrHSbGyEY+//3vU3\n",
       "sGgjRRwvqtXnsTT9XJDVpxZcD91+7cc5GxMG1akPuLriUVE3P0i9csnVfzK4cSCIkzbXXchUgGNQ\n",
       "syuxbHW0B9M+eAUo9luovxgkQppxW1uXg/QYSAvDrjutzj7Eziz0KYd0veNHn5AO+ndIfzw0FFxK\n",
       "3zu56ECrkQHcUOGRVaPoNkRSqP3k8HvoEiENpBoSxUaJuVGlFMoGxV2BO/rY0W7BwDAnaOR6SuGl\n",
       "mKPLFI0Fh+cb6SWNk2RCuXfkE/CRw/kNZwxShnmOj/t7r7F3KugRlUb7bRY6ySWzfU+TwrcGzExJ\n",
       "98ycN27uo6HbJNW++TT3qZ91MC87wWM4zL9fRZo8k2TyBC2dnCcdFM/xeRQWeDxvy1+CJ3CB+iCV\n",
       "eluknMYUv8mOoEZrMQD5SLl8mWjGml3d4bQz53AwewZL0yrL2ShbMGRZVr0N5EI7mt7ALTXM5Zfd\n",
       "vAP40LzzSt18osptLrRa8IFQsiAhTlDq2psSEs00d9skk458RfWZ8miLrarbmuYzsASbPI0qngYe\n",
       "ywAAAABJRU5ErkJggg==\n",
       "\" style=\"display:inline;vertical-align:middle;\" /></a><br>"
      ],
      "text/plain": [
       "<IPython.core.display.HTML object>"
      ]
     },
     "metadata": {},
     "output_type": "display_data"
    }
   ],
   "source": [
    "digits_upper_bound = Forall(n, LessEq(n, nine), domain=Digits)"
   ]
  },
  {
   "cell_type": "code",
   "execution_count": 14,
   "metadata": {},
   "outputs": [
    {
     "data": {
      "text/html": [
       "<strong id=\"n_in_digits\"><a class=\"ProveItLink\" href=\"proofs/n_in_digits/thm_proof.ipynb\">n_in_digits</a> (conjecture without proof):<br></strong> <a class=\"ProveItLink\" href=\"../__pv_it/theorems/8ede500ae3a5a841f297ccb80e19534f127461e40/theorem_expr.ipynb\"><img src=\"data:image/png;base64,iVBORw0KGgoAAAANSUhEUgAAANoAAAAaBAMAAAAj219cAAAAMFBMVEX///8AAAAAAAAAAAAAAAAA\n",
       "AAAAAAAAAAAAAAAAAAAAAAAAAAAAAAAAAAAAAAAAAAAv3aB7AAAAD3RSTlMAq1RmmUTNIjK7EInv\n",
       "3XZ/CtNrAAAACXBIWXMAAA7EAAAOxAGVKw4bAAADTElEQVRIx7WWX0hTcRTHv/tzd+/u5rYsEo1k\n",
       "EsF8yUUIRWFCRdLTIgpEo9lLf56uj0bkhAgK0WGYzSiuCkZFOIqgIkSCQJDAB6kQBpMislVIItrw\n",
       "ofP73d27XVxzsHVgu79zfuf+Pvd3fuece4H/L/UKUqmyrda4CSwJS9zqQ3NZYNbCyxwIAt6InEZX\n",
       "WWjjBWcX/fTXrWAFtmQ5aLfzGZ/+uaPizXqol8HgDknLwDzgY9quEmDiVF7zgOCDvATrPZUUYXjs\n",
       "N7AAHGNTF0qg2eN5zTuV5wA9iMBxo5FVYEJFD3u8aAk0byivuTLqUDBLA2mbAkkVaOgIwkFol78E\n",
       "Wr9qzopEIsyuVU1imNMgblGdQUeEohCFjRLUUUqS/DRpZ75nBlWWSEqjQYSw7yVdPRTY94nETCm0\n",
       "7XQ2Cw8nH2gLX9bNVYg6Q7MmTyENtADD+Y+/OFqMTsJZiwmFKQ4lS7suz5tp0hrQCdGXm9BzL3CI\n",
       "G5xcd03G9WZnNI8heCaNTOwATldE0R3hNGRpNn/9FG7GSDK3iiu0qOoysqqvehB1LtWuZmlNaM00\n",
       "OwNGQduBOl2dA9SJEBr4Pb0JkqhGQ43FXIoy0axJ44HsLazSk80uZGnT8Cpas8uIjfWONVY8xt7Q\n",
       "wI+P5FHO3jAimyMpUiQRbqIljvR9AT4zW2D3tRyamIbbrzU7zcczwKyr2TLr0DJlWWZKRS5NSprr\n",
       "WKIKxzPKo7H2oFuR+WTANdqWpUlpVAS1Zsd9pLd87h369d1W028G1jR/RI8R8Lv0+xbdkJO4Sjlx\n",
       "5Su8qsAXCKB50URzJ7Vmx31Q/5qZWx8f1jvCDx4iT3g/187rS7OBPWyi2dgxWlg21aIdtkux2ADR\n",
       "njhMkfT6M82O+RCI4eSAV8/RcyqoLclbNfrIoHaeN9ZpX7KZZjdyfxpHJSmu7U3YsyFLWLPjPmTp\n",
       "OQ7cwln9Tre5T7bdT4T/UZkOPfjiEj4FtCpv5K8Gg/YLJzPNTvMh6ayhd9rFTd4BecRIY3oZpYLo\n",
       "ophKHxRYkFvdJ/Rmx32YKDh1MGJk2lSxtL1mVX4VG8xqziIXqSyW9rHQZLG08SL9Cn+XZGk5zU5i\n",
       "wyHzN1eRB1f4m0ss0/ekLnT+fwFF6div8VUDXgAAAABJRU5ErkJggg==\n",
       "\" style=\"display:inline;vertical-align:middle;\" /></a><br>"
      ],
      "text/plain": [
       "<IPython.core.display.HTML object>"
      ]
     },
     "metadata": {},
     "output_type": "display_data"
    }
   ],
   "source": [
    "n_in_digits = Forall(n, InSet(n, Digits), \n",
    "                     conditions=[number_ordering(LessEq(zero, n), LessEq(n, nine))], \n",
    "                     domain=Natural)"
   ]
  },
  {
   "cell_type": "markdown",
   "metadata": {},
   "source": [
    "### Sorted order of the digits"
   ]
  },
  {
   "cell_type": "code",
   "execution_count": 15,
   "metadata": {},
   "outputs": [
    {
     "data": {
      "text/html": [
       "<strong id=\"less_0_1\"><a class=\"ProveItLink\" href=\"proofs/less_0_1/thm_proof.ipynb\">less_0_1</a> (conjecture without proof):<br></strong> <a class=\"ProveItLink\" href=\"../__pv_it/theorems/5c340fa402738d4a75ade8399a9f3cb7c64c00dc0/theorem_expr.ipynb\"><img src=\"data:image/png;base64,iVBORw0KGgoAAAANSUhEUgAAADAAAAAQBAMAAACigOGCAAAAMFBMVEX///8AAAAAAAAAAAAAAAAA\n",
       "AAAAAAAAAAAAAAAAAAAAAAAAAAAAAAAAAAAAAAAAAAAv3aB7AAAAD3RSTlMAiXaZIs1UEN1mu6sy\n",
       "RO+L2jdBAAAACXBIWXMAAA7EAAAOxAGVKw4bAAAAoElEQVQY02NgYBQyYUAHPO1AIoyhwgFNvNr0\n",
       "OwMDZwMD4wJ0HUxACa4NDGzf4SJsIXAJfgMGnm8wcc7mArhEPVDiJ8yExgKEUf4CDDyfINzCJmQ7\n",
       "QBIfwTznThTL6wUYeME6uMNQXQW0nO0bNgmuBQyc37EZxfmAgTkAm+UMbQx1B6D8oiaocxm/AIli\n",
       "oT1wIzghHuHe93UnWiBxhjAQAgA2Rys9DvsMgwAAAABJRU5ErkJggg==\n",
       "\" style=\"display:inline;vertical-align:middle;\" /></a><br>"
      ],
      "text/plain": [
       "<IPython.core.display.HTML object>"
      ]
     },
     "metadata": {},
     "output_type": "display_data"
    },
    {
     "data": {
      "text/html": [
       "<strong id=\"less_1_2\"><a class=\"ProveItLink\" href=\"proofs/less_1_2/thm_proof.ipynb\">less_1_2</a> (conjecture without proof):<br></strong> <a class=\"ProveItLink\" href=\"../__pv_it/theorems/7e25300cab16e207843760ed7f6b182ad52d73460/theorem_expr.ipynb\"><img src=\"data:image/png;base64,iVBORw0KGgoAAAANSUhEUgAAADAAAAAQBAMAAACigOGCAAAAMFBMVEX///8AAAAAAAAAAAAAAAAA\n",
       "AAAAAAAAAAAAAAAAAAAAAAAAAAAAAAAAAAAAAAAAAAAv3aB7AAAAD3RSTlMAMt0Qq5nNdoki72ZU\n",
       "u0S9iLk1AAAACXBIWXMAAA7EAAAOxAGVKw4bAAAAl0lEQVQY02NgYFRmQAdTwy4yMJiEfUYX57zA\n",
       "0P+AgYEdQ4JlAgPXAjSJYxOABNdnBpafqBKbgsE6FBhYPqJIFDXDWEwfkCSYmwrgSuQLEBKcQRsQ\n",
       "ZqowICTcDiDEWS/gkNjCwIDVKJ4GhplYLZdgYChmYOD4CVPIXFQM0asaGgr0itc3b4QHwR5h+v//\n",
       "fwJaMG2bwEAIAADr/yw/1dxlXwAAAABJRU5ErkJggg==\n",
       "\" style=\"display:inline;vertical-align:middle;\" /></a><br>"
      ],
      "text/plain": [
       "<IPython.core.display.HTML object>"
      ]
     },
     "metadata": {},
     "output_type": "display_data"
    },
    {
     "data": {
      "text/html": [
       "<strong id=\"less_2_3\"><a class=\"ProveItLink\" href=\"proofs/less_2_3/thm_proof.ipynb\">less_2_3</a> (conjecture without proof):<br></strong> <a class=\"ProveItLink\" href=\"../__pv_it/theorems/b2d88a2781730da599a2b817d2bbe29ef22758010/theorem_expr.ipynb\"><img src=\"data:image/png;base64,iVBORw0KGgoAAAANSUhEUgAAADAAAAAQBAMAAACigOGCAAAAMFBMVEX///8AAAAAAAAAAAAAAAAA\n",
       "AAAAAAAAAAAAAAAAAAAAAAAAAAAAAAAAAAAAAAAAAAAv3aB7AAAAD3RSTlMAIpnNuzKJRKvvEN12\n",
       "ZlQ4bmvwAAAACXBIWXMAAA7EAAAOxAGVKw4bAAAAv0lEQVQY02NgVDIJYEADYknuDAwiDGzf0cS5\n",
       "FBjeP2BoZGCYiSbB849hvQHD/AUM/QJwsccgJvt0Bn4Dhm4Ghn64Jbe1oIz3F0Dkfpj46Swog30v\n",
       "iGT9A7Uz+wBUnPVEK4jibgDzGLUvIOwHuoqBQQXCbn6A5DDOXwwMvA3oEqwBDCz/GBieMTAKoBrF\n",
       "/wskwZrAwLMA1XLOBpBR0kpK2rCgOH0KTPNeAPlj////n+F23oZ4pEjJHT1cLwswEAIAFxox/6ER\n",
       "LUgAAAAASUVORK5CYII=\n",
       "\" style=\"display:inline;vertical-align:middle;\" /></a><br>"
      ],
      "text/plain": [
       "<IPython.core.display.HTML object>"
      ]
     },
     "metadata": {},
     "output_type": "display_data"
    },
    {
     "data": {
      "text/html": [
       "<strong id=\"less_3_4\"><a class=\"ProveItLink\" href=\"proofs/less_3_4/thm_proof.ipynb\">less_3_4</a> (conjecture without proof):<br></strong> <a class=\"ProveItLink\" href=\"../__pv_it/theorems/b22a241ec26bee44783019f8b72a416d0ae077730/theorem_expr.ipynb\"><img src=\"data:image/png;base64,iVBORw0KGgoAAAANSUhEUgAAADEAAAAQBAMAAABNQoq8AAAAMFBMVEX///8AAAAAAAAAAAAAAAAA\n",
       "AAAAAAAAAAAAAAAAAAAAAAAAAAAAAAAAAAAAAAAAAAAv3aB7AAAAD3RSTlMAIomZu0QQVHbN72bd\n",
       "Mqv0UZE7AAAACXBIWXMAAA7EAAAOxAGVKw4bAAAAtUlEQVQY02NgEFJ2ZcAAvAYMDGwGDPUFGDI8\n",
       "DxgYOL4z5E/AkOkByrAuZeBHyLBPhBi28wGYrt8Ak+A+nACmmTjBMqynYRIchyASDI1gGd6+t1CJ\n",
       "pBNQBuMGTqhpELcJw/UyMUBluL6BSL7pcHdsBMvwXmBg+Y4qw9gAluH/BpVBmMb67t37dQoMXA+g\n",
       "piG5gAEkysC9AeGfjBNQVzPwOwCJYGNEiHJDPcTs/68BLby4JzIQBgAU5zE3Hba7KAAAAABJRU5E\n",
       "rkJggg==\n",
       "\" style=\"display:inline;vertical-align:middle;\" /></a><br>"
      ],
      "text/plain": [
       "<IPython.core.display.HTML object>"
      ]
     },
     "metadata": {},
     "output_type": "display_data"
    },
    {
     "data": {
      "text/html": [
       "<strong id=\"less_4_5\"><a class=\"ProveItLink\" href=\"proofs/less_4_5/thm_proof.ipynb\">less_4_5</a> (conjecture without proof):<br></strong> <a class=\"ProveItLink\" href=\"../__pv_it/theorems/1911caa9473038ae5be0b3476ae7c1f3e9eb2e3b0/theorem_expr.ipynb\"><img src=\"data:image/png;base64,iVBORw0KGgoAAAANSUhEUgAAADEAAAARBAMAAACGHlkZAAAAMFBMVEX///8AAAAAAAAAAAAAAAAA\n",
       "AAAAAAAAAAAAAAAAAAAAAAAAAAAAAAAAAAAAAAAAAAAv3aB7AAAAD3RSTlMAMpndq3ZmzYkiRO+7\n",
       "VBCly6GvAAAACXBIWXMAAA7EAAAOxAGVKw4bAAAAqUlEQVQY02NgwAIYGRheghlC6DLc34vtwAwT\n",
       "dBnm/RYPQDQrhgwLlBYrQYjxViLLNCBk2IweIMmwToDLsEKMZ2BJbREAUtMYYDIvTKEMngecv0CG\n",
       "wWQmmSE54jDQ6AlQGZZaZOfpT2CYyoApcxwoI8CwxMXltweaaZsZGPzBjC3oLmhgYNgDZvyBqX1q\n",
       "CnH1JAbWfSBa578r3KcQD3EqOT1ADzG2SgbCAACMNyacZASBOwAAAABJRU5ErkJggg==\n",
       "\" style=\"display:inline;vertical-align:middle;\" /></a><br>"
      ],
      "text/plain": [
       "<IPython.core.display.HTML object>"
      ]
     },
     "metadata": {},
     "output_type": "display_data"
    },
    {
     "data": {
      "text/html": [
       "<strong id=\"less_5_6\"><a class=\"ProveItLink\" href=\"proofs/less_5_6/thm_proof.ipynb\">less_5_6</a> (conjecture without proof):<br></strong> <a class=\"ProveItLink\" href=\"../__pv_it/theorems/690aba65aca3c671e3e23b637a3078a815e0aa220/theorem_expr.ipynb\"><img src=\"data:image/png;base64,iVBORw0KGgoAAAANSUhEUgAAADAAAAARBAMAAABp3DInAAAAMFBMVEX///8AAAAAAAAAAAAAAAAA\n",
       "AAAAAAAAAAAAAAAAAAAAAAAAAAAAAAAAAAAAAAAAAAAv3aB7AAAAD3RSTlMAMhAi783diatmdrtE\n",
       "mVQhVHx6AAAACXBIWXMAAA7EAAAOxAGVKw4bAAAAwUlEQVQY02NgZGBQZsAGWL6GJWEIlpcLMLD5\n",
       "pyugi5se4Ehg4MBiShQD9wY0iacGQILvE4iJIjHtEojkdgBLzKoQgIkvK4K4J7DqDlBagfkPRJip\n",
       "bAGEwR/JwPIAxNgG5jJfmwDVqP+BgdcJxLgPspGh9QHMRP0EBs4/DFuBEgKoEvwBDJw/GdwYGPrR\n",
       "jOIG6yhgYPBGs5wPaIcDgy0DlxNUJdOyRRDGdgaVBwzMd3sRYTUN4hH2u43ooTTVgIEQAADa+iyV\n",
       "cmnSlAAAAABJRU5ErkJggg==\n",
       "\" style=\"display:inline;vertical-align:middle;\" /></a><br>"
      ],
      "text/plain": [
       "<IPython.core.display.HTML object>"
      ]
     },
     "metadata": {},
     "output_type": "display_data"
    },
    {
     "data": {
      "text/html": [
       "<strong id=\"less_6_7\"><a class=\"ProveItLink\" href=\"proofs/less_6_7/thm_proof.ipynb\">less_6_7</a> (conjecture without proof):<br></strong> <a class=\"ProveItLink\" href=\"../__pv_it/theorems/8356d2d1cac1e3046b3b2b6ea15cf1bda384513e0/theorem_expr.ipynb\"><img src=\"data:image/png;base64,iVBORw0KGgoAAAANSUhEUgAAADIAAAARBAMAAABtKeIaAAAAMFBMVEX///8AAAAAAAAAAAAAAAAA\n",
       "AAAAAAAAAAAAAAAAAAAAAAAAAAAAAAAAAAAAAAAAAAAv3aB7AAAAD3RSTlMAiTIizUSr3Xa7VBDv\n",
       "mWZb+y3UAAAACXBIWXMAAA7EAAAOxAGVKw4bAAAAwUlEQVQY02NgwALsNkBoQUEFNJn1////P8DA\n",
       "YBLAVoAmI3n37vUFDAweDJwT0GQEGBhsGRi4fiOLcTmDSKD6BAYGzgNIEny1ULsZgVbzOElchUlw\n",
       "FEIlGCyBmN+PgWcBhLuxAq45FYj3f2DgPQ3m2dbBJZhBVuwvYOD7CuKxeSHsY3QAmebAwPcPXYYd\n",
       "5A9OmB5k0/YngHwAtOcAugviL4DIiQx7oG5j2FEBdfV6AbBtd5MQPoV6yGYBRvjzOTMQBgDx9C1h\n",
       "gWLB/QAAAABJRU5ErkJggg==\n",
       "\" style=\"display:inline;vertical-align:middle;\" /></a><br>"
      ],
      "text/plain": [
       "<IPython.core.display.HTML object>"
      ]
     },
     "metadata": {},
     "output_type": "display_data"
    },
    {
     "data": {
      "text/html": [
       "<strong id=\"less_7_8\"><a class=\"ProveItLink\" href=\"proofs/less_7_8/thm_proof.ipynb\">less_7_8</a> (conjecture without proof):<br></strong> <a class=\"ProveItLink\" href=\"../__pv_it/theorems/73d3ec1cb2897ab9312cde02b09c60adf0f9cab00/theorem_expr.ipynb\"><img src=\"data:image/png;base64,iVBORw0KGgoAAAANSUhEUgAAADAAAAARBAMAAABp3DInAAAAMFBMVEX///8AAAAAAAAAAAAAAAAA\n",
       "AAAAAAAAAAAAAAAAAAAAAAAAAAAAAAAAAAAAAAAAAAAv3aB7AAAAD3RSTlMAImYQVO+Ju5ndqzJE\n",
       "zXbfw+mkAAAACXBIWXMAAA7EAAAOxAGVKw4bAAAAwUlEQVQY02MQMmDADvz///8fgCZmltbDwJDe\n",
       "0dHpgCbRwMDlwJDAwCCBJs6kwMB8gQGoegFCzFcASLAtAEkA6Q1wcc1mEMny3YBDAUiLw8VfJkPo\n",
       "9f9aQNQaqDBz5gMoi+P/RCDJCHUsY6cCTKeb+H+g1WwXILy1cEczNTD4BzMwcBagS7AaMDB+YWCw\n",
       "X4BulD0QL2JgON+Abjkr0DOFwMBKgBnB/PIxmOa5zMAEVCOKFFKaEI/s6uhBD2tdAQZCAACqBirR\n",
       "DqS0TwAAAABJRU5ErkJggg==\n",
       "\" style=\"display:inline;vertical-align:middle;\" /></a><br>"
      ],
      "text/plain": [
       "<IPython.core.display.HTML object>"
      ]
     },
     "metadata": {},
     "output_type": "display_data"
    },
    {
     "data": {
      "text/html": [
       "<strong id=\"less_8_9\"><a class=\"ProveItLink\" href=\"proofs/less_8_9/thm_proof.ipynb\">less_8_9</a> (conjecture without proof):<br></strong> <a class=\"ProveItLink\" href=\"../__pv_it/theorems/55bb0b47b62bc4190ddf0d8c0b33f41daf0f53020/theorem_expr.ipynb\"><img src=\"data:image/png;base64,iVBORw0KGgoAAAANSUhEUgAAADEAAAAQBAMAAABNQoq8AAAAMFBMVEX///8AAAAAAAAAAAAAAAAA\n",
       "AAAAAAAAAAAAAAAAAAAAAAAAAAAAAAAAAAAAAAAAAAAv3aB7AAAAD3RSTlMAEImZRKtUZs27dt0i\n",
       "7zLMHA9cAAAACXBIWXMAAA7EAAAOxAGVKw4bAAAAzUlEQVQY02NgEFIyYUAHxqYCQNKAgTUBTUJ6\n",
       "Ad8dBgb2AgbGBjSZWAaGmQwMTAHIMmw9IPIHA4O+AAPbTwHmApgE+2aQ+Yw/GRjWOzAwxP8yg0lw\n",
       "bRJggOkBqmb+vwcqIbQLYc/8BQwMSSf/Q9x2eDtMr6wDX3wCA7sBQ/5FEJe1De4ORiu19Q8YeAUY\n",
       "eL6hyTCA3SYPpMLRTGMA+4f3AAPDHDQX5Aow/mNgYGlkYF8AFZHaBXH1agFOkBefGiNClB3iISZl\n",
       "zEBm72EgDAByait6HygaKQAAAABJRU5ErkJggg==\n",
       "\" style=\"display:inline;vertical-align:middle;\" /></a><br>"
      ],
      "text/plain": [
       "<IPython.core.display.HTML object>"
      ]
     },
     "metadata": {},
     "output_type": "display_data"
    }
   ],
   "source": [
    "less_0_1, less_1_2, less_2_3, less_3_4, less_4_5, less_5_6, less_6_7, less_7_8, less_8_9 = [Less(num(n), num(n+1)) for n in range(9)]"
   ]
  },
  {
   "cell_type": "code",
   "execution_count": 16,
   "metadata": {},
   "outputs": [
    {
     "data": {
      "text/html": [
       "<strong id=\"sorted_digits\"><a class=\"ProveItLink\" href=\"proofs/sorted_digits/thm_proof.ipynb\">sorted_digits</a> (conjecture without proof):<br></strong> <a class=\"ProveItLink\" href=\"../__pv_it/theorems/5c2575999f6b4a3e315e1c8e3f18f6da5c9c1ee30/theorem_expr.ipynb\"><img src=\"data:image/png;base64,iVBORw0KGgoAAAANSUhEUgAAAWEAAAARBAMAAAD+hACRAAAAMFBMVEX///8AAAAAAAAAAAAAAAAA\n",
       "AAAAAAAAAAAAAAAAAAAAAAAAAAAAAAAAAAAAAAAAAAAv3aB7AAAAD3RSTlMAiXaZIs1UEN1mu6sy\n",
       "RO+L2jdBAAAACXBIWXMAAA7EAAAOxAGVKw4bAAADGUlEQVRIx9WWT0gUcRTHv7tuOzs76zq6UZGB\n",
       "Cx4UOihNkSXllF3skHsQCZZoL13b6R94ck2hkC6DERQd9BJJVG5JEWi50qVOLUSnDnkolSKsyF2T\n",
       "cvvtzszu/N7voB2CmsOyfH7vvd933u+99xvgLz8h4Pz6Vl3GH4T01O0W2AshQOeeuxQditwToz2n\n",
       "ILx8/LKwZe0OQpKFQmGOR1JtJEsdtfaisF706cR28iRV7BtDA/GXWpFMCIqvUBBYuigEO4EnBG3X\n",
       "tDYSrAp4TKz6oqH3gDwAzxjdpoVuougIkxx4c0jFqKNXUKyI57ApijsEqewUCboBXCDoGYqOwTT8\n",
       "+TI7pQuKSyich/K9jPw97Kf6M2piPAJexkEQp9hCSUNALL9pgurdii20DDQYqGlFKOcsXN8r5NhC\n",
       "ygCUnw6Sh+zlpEmRWlFsI7diG90XEavtDEHJ29jHI2mVKcsixRT/sBeatwpVUUYIfHFO3inM6mEQ\n",
       "5NXjFCkj9RmCPsw2ZmksHBUcC40Jgoo5NtGtIvTNaqVtUVrHLoRX9t8zg87c2jkNgroQpyho+H4R\n",
       "tGxiniDgKXVEx4pOEKvjiWhJ8ddSB7eZtPPcyJkCncOumZQgSHUUu60wziOpABw0iJVvjjr6N0/k\n",
       "COrPhmYSSKmoLuX4UUKYFW5UZQ0Updc9a/M8knVbMWeFDp1D0gowmiVWnhh1vAr/msEjadeWlkyx\n",
       "8/y5DSi+CRIylEEwx6PDEBXfYoozPGLlOGoSxQEhIQtAd0J4ezYrgmOQ8+tXhV/FEf6MavK24gp6\n",
       "OzW19oCc5CIwQ9C4nWN3VaTSpCok1uiKKVQYm8fyHKpi63feLNDE90E4bVcF10CfaAOxu+EjQUlW\n",
       "x9TxXSt1ZLdbUOfRaUMqjthL6LfHj9Tc5OTeubcd5BvStAGbnR0svY9sVuaxjdizCoI64V0gKKhK\n",
       "89QxqVLHNwZGCGo2gsUdz9VNV64La/pOLcVNHgXYl0r5gpOt8fhaq3wJ2Qj7Cw8J8mmTBrWKtGco\n",
       "OpagsUKTWpYgT+SAcOVf0zeC5J5/AP0/z2/0UPiVYmWvjQAAAABJRU5ErkJggg==\n",
       "\" style=\"display:inline;vertical-align:middle;\" /></a><br>"
      ],
      "text/plain": [
       "<IPython.core.display.HTML object>"
      ]
     },
     "metadata": {},
     "output_type": "display_data"
    }
   ],
   "source": [
    "sorted_digits = number_ordering(*[Less(num(n), num(n+1)) for n in range(9)])"
   ]
  },
  {
   "cell_type": "markdown",
   "metadata": {},
   "source": [
    "### Adding digits"
   ]
  },
  {
   "cell_type": "code",
   "execution_count": 17,
   "metadata": {},
   "outputs": [
    {
     "data": {
      "text/html": [
       "<strong id=\"add_0_0\"><a class=\"ProveItLink\" href=\"proofs/add_0_0/thm_proof.ipynb\">add_0_0</a> (conjecture without proof):<br></strong> <a class=\"ProveItLink\" href=\"../__pv_it/theorems/256a64dedaf5517d69ce94bec64bc06bd3a140ee0/theorem_expr.ipynb\"><img src=\"data:image/png;base64,iVBORw0KGgoAAAANSUhEUgAAAGEAAAAVBAMAAACkm51HAAAAMFBMVEX///8AAAAAAAAAAAAAAAAA\n",
       "AAAAAAAAAAAAAAAAAAAAAAAAAAAAAAAAAAAAAAAAAAAv3aB7AAAAD3RSTlMAInZUiRDNmWbv3US7\n",
       "qzJazP2FAAAACXBIWXMAAA7EAAAOxAGVKw4bAAABXUlEQVQ4y3WTv0vDQBSAvzaNTX9QO7tYJych\n",
       "FHFtKI4K3UQRLIjgWKGIOHUTXewqBal0Cwji1M3orNC/QDq7KFrR0UsvSO7Sy3L3vpfv3nshB5SZ\n",
       "/Zg4adeQuDcZq5CpH2lwfblMupN4N8TYTdhnR21hzrVv4EAXJM52cPpkAsmGcrmADTjTDYlzUBxh\n",
       "fUtWlcsL1BrkGpoh8RrMtyh9KcYPvLvM6YNI3IY9YfzGDTtMdciMVCHCh7DoUfqMG6mJSFVwmmGQ\n",
       "9afP6B8PpDFJGB5WV60R4Z7oyqMQ1jj1/SvfvxXlReqhQulD60ri3nRyKzF5zaXQTU4usOiqGOCo\n",
       "X/cZLhtYfXWOCD+B0yXbVIxzOBY80GpIvCl2A7bHipF37WtxuqcZEr+J3Vb9FcWw2yviiPydZkR4\n",
       "HGfVeLAw+2d3WvFoGA9ODPfj0XRxUoEhsWsyiqZrm6oYEkuz8R/oNmKpOpcwHQAAAABJRU5ErkJg\n",
       "gg==\n",
       "\" style=\"display:inline;vertical-align:middle;\" /></a><br>"
      ],
      "text/plain": [
       "<IPython.core.display.HTML object>"
      ]
     },
     "metadata": {},
     "output_type": "display_data"
    },
    {
     "data": {
      "text/html": [
       "<strong id=\"add_1_0\"><a class=\"ProveItLink\" href=\"proofs/add_1_0/thm_proof.ipynb\">add_1_0</a> (conjecture without proof):<br></strong> <a class=\"ProveItLink\" href=\"../__pv_it/theorems/6f2a3c643b9eb8d01396459f0d8465df1e5fa2ef0/theorem_expr.ipynb\"><img src=\"data:image/png;base64,iVBORw0KGgoAAAANSUhEUgAAAGAAAAAVBAMAAABLWfZ5AAAAMFBMVEX///8AAAAAAAAAAAAAAAAA\n",
       "AAAAAAAAAAAAAAAAAAAAAAAAAAAAAAAAAAAAAAAAAAAv3aB7AAAAD3RSTlMAInZUiRDNmWbv3US7\n",
       "qzJazP2FAAAACXBIWXMAAA7EAAAOxAGVKw4bAAABM0lEQVQ4y2NgYBBgwA5wiTMZ4JDYhEPcBIhf\n",
       "BaAJuqgLMDA1YKjlW8rAwJrAwHo9H00DmwHrQgaGVHT1sWVfGRjYQebowzTsgFBdDAw+DAztmM4H\n",
       "auBkQNZgBKHOMjDYBzBwBmDTYIZNw3cGhvcGDGwN2DSUYNHACtLQwMByAZuGDCwaGL8ANSgwcCSA\n",
       "OOyrwOACTMNiXBocGJgnYLNhNkJD1apVM1etWgt0ElDDfgUGvg8ENKB42t6AgRurDdicxHCGgaE/\n",
       "gIF5ATY/HMKmoZOBoYyBgeMANht8QQx/AVQNXAas84BmO6BrYPkITHdA+u783AYUDawlug+A2jag\n",
       "qee9+e0GA9cDZCEjZI4U1tTNUYDM24HMqcCeHw7iyCcMjAewi8fg0sCDI48yKuDQoIhVFACiAVSE\n",
       "rNaL0QAAAABJRU5ErkJggg==\n",
       "\" style=\"display:inline;vertical-align:middle;\" /></a><br>"
      ],
      "text/plain": [
       "<IPython.core.display.HTML object>"
      ]
     },
     "metadata": {},
     "output_type": "display_data"
    },
    {
     "data": {
      "text/html": [
       "<strong id=\"add_2_0\"><a class=\"ProveItLink\" href=\"proofs/add_2_0/thm_proof.ipynb\">add_2_0</a> (conjecture without proof):<br></strong> <a class=\"ProveItLink\" href=\"../__pv_it/theorems/0da16323198ab3d7374a89a3b5d4027258c137df0/theorem_expr.ipynb\"><img src=\"data:image/png;base64,iVBORw0KGgoAAAANSUhEUgAAAGEAAAAVBAMAAACkm51HAAAAMFBMVEX///8AAAAAAAAAAAAAAAAA\n",
       "AAAAAAAAAAAAAAAAAAAAAAAAAAAAAAAAAAAAAAAAAAAv3aB7AAAAD3RSTlMAInZUiRDNmWbv3US7\n",
       "qzJazP2FAAAACXBIWXMAAA7EAAAOxAGVKw4bAAABfElEQVQ4y3WTv0vDQBTHP2kbbaspcRLEoQ7i\n",
       "JAQRVzs4KuYPcOgiODg4SCPi0E0UxK5F0IqDEBCLk5vVWUVXl3ZwcqmKPwbBeEkckkvvCLn3vi+f\n",
       "9+7l7gCT3kOlk7IUgQsVMQ3DlXtJnJswSVXlTzVntQN6Ga3FYjMW6rP0Y1iWiVEyP9BfxTDJ1ULt\n",
       "Mpx2YR62ZeIR6pATzyfGW6hNhdMdzNrkbIk4smmbzIDRwPiNEd/QteiTG3mCdof1wM6/RgndJ6pk\n",
       "HpL/6RxWAqNbjBLaR6Bky77T7wYjpAvvcBJYZySIEulaokRegAdBnpb/3nTduusKWBfEVZHCa4LY\n",
       "4p/YA7nzWYuBRI2svzZ/VekSQzHiFvZt0g25j2k0kxthPMN4jNiBisjYkkoUSqRsFkSjp47TiBF5\n",
       "Sz8U2UsSMeI4m/Ai4p7nlWOEvj4pjly+KW+G530JuRPVpmIpex/27FrUu4w6G4r7ca26OFpLEVhS\n",
       "EYOqa6sVFYGx3vIfRIpfV0ky7f0AAAAASUVORK5CYII=\n",
       "\" style=\"display:inline;vertical-align:middle;\" /></a><br>"
      ],
      "text/plain": [
       "<IPython.core.display.HTML object>"
      ]
     },
     "metadata": {},
     "output_type": "display_data"
    },
    {
     "data": {
      "text/html": [
       "<strong id=\"add_3_0\"><a class=\"ProveItLink\" href=\"proofs/add_3_0/thm_proof.ipynb\">add_3_0</a> (conjecture without proof):<br></strong> <a class=\"ProveItLink\" href=\"../__pv_it/theorems/ceb8b12aedc032e6365e2e0a43eeec80db0b523a0/theorem_expr.ipynb\"><img src=\"data:image/png;base64,iVBORw0KGgoAAAANSUhEUgAAAGEAAAAVBAMAAACkm51HAAAAMFBMVEX///8AAAAAAAAAAAAAAAAA\n",
       "AAAAAAAAAAAAAAAAAAAAAAAAAAAAAAAAAAAAAAAAAAAv3aB7AAAAD3RSTlMAInZUiRDNmWbv3US7\n",
       "qzJazP2FAAAACXBIWXMAAA7EAAAOxAGVKw4bAAABfUlEQVQ4y3WTv0vDQBTHv2m8tmlK28HJKU5O\n",
       "xaOIazsUXBSyuQh2ERw7FCvikM0fi65S/IWLBITiYnWxulax/4BSHB1UqFU3fbkIJpfeDbl37+Vz\n",
       "7/ve3QHIYfhQ+RHjisC5ipgCRmc6krM8kUPMkX/VyutNgFXAqiiGE8U5OwaWZGIeeh9IOIj1sVjx\n",
       "fS1/2gZmgQ2ZmOTsEzAAs4HsH1Hwp3ugaMOwJeKyCSKmhV10QsQX8MYRjxQC/RuoeYZ5iiDBPMLB\n",
       "SDdCXNEmyzRn8k8hQvsgwkJSSE24Ygj6+bEHnPiqeIQoQd+NqqJeNYRlDOiz5rp7rntGqoi4tpB5\n",
       "j57eoe0RmR7SfblyymrKOV6BB+6pyg5k4g7YsaEfSXX82B5xS5K6vqp/YgtYAZJtKce+UDVHEUc+\n",
       "jxRnB7R7SSI2xXm8kHVR74S6C1bLUxtTTYkw695NTPWCvkJwMTb8sierwVUruFhVvI8b1cPR2orA\n",
       "gopIq56tZikC48Pdv3EaYiHszmhuAAAAAElFTkSuQmCC\n",
       "\" style=\"display:inline;vertical-align:middle;\" /></a><br>"
      ],
      "text/plain": [
       "<IPython.core.display.HTML object>"
      ]
     },
     "metadata": {},
     "output_type": "display_data"
    },
    {
     "data": {
      "text/html": [
       "<strong id=\"add_4_0\"><a class=\"ProveItLink\" href=\"proofs/add_4_0/thm_proof.ipynb\">add_4_0</a> (conjecture without proof):<br></strong> <a class=\"ProveItLink\" href=\"../__pv_it/theorems/b08eb770de564af99853f530fba7230945a29de20/theorem_expr.ipynb\"><img src=\"data:image/png;base64,iVBORw0KGgoAAAANSUhEUgAAAGEAAAAVBAMAAACkm51HAAAAMFBMVEX///8AAAAAAAAAAAAAAAAA\n",
       "AAAAAAAAAAAAAAAAAAAAAAAAAAAAAAAAAAAAAAAAAAAv3aB7AAAAD3RSTlMAInZUiRDNmWbv3US7\n",
       "qzJazP2FAAAACXBIWXMAAA7EAAAOxAGVKw4bAAABaElEQVQ4y3XTMUvDQBQH8H/apmlTqcFJnNJJ\n",
       "EIRQxLUZHBX6ARxcBBehQxERh7gouugqUlHcAoI4dRGrs2IR12A3xUUHQQRF30tbyN3lbkjevbvf\n",
       "5V2SA+AgvenyyHiagUudmOHLi5Scm3SQCdTJ5QZgLnF0Lg7kPfMUWFaF3QUsXikzFO3+bQ+YB3ZU\n",
       "MUWiyMHr6iBT7d/ugVodxbpS1DaJWY58SXwB7x7yykZyeRJNLsoRhckiQK4riwqLFQrGIQrjk4SL\n",
       "QvxSrDBurI2AxRkXlSZ8ZA/kosDiCCg4fbERhodhSK/NJHHtovwhia2hGAPUndc8lKRnGC4GVV1F\n",
       "0feTIO6A/TqyJ+I+SlH03PJxG09pic/YBdao2o7yBYsEF+LoRxS2Zx7T6r4iRmmRNw42/x4FYTan\n",
       "e+QuZGA9/Lqwe8lUNdmZSP/ZC41kr53srGvOx43u4BgdzcCiTozoji19l/RWSU//AwuzWm35pk3q\n",
       "AAAAAElFTkSuQmCC\n",
       "\" style=\"display:inline;vertical-align:middle;\" /></a><br>"
      ],
      "text/plain": [
       "<IPython.core.display.HTML object>"
      ]
     },
     "metadata": {},
     "output_type": "display_data"
    },
    {
     "data": {
      "text/html": [
       "<strong id=\"add_5_0\"><a class=\"ProveItLink\" href=\"proofs/add_5_0/thm_proof.ipynb\">add_5_0</a> (conjecture without proof):<br></strong> <a class=\"ProveItLink\" href=\"../__pv_it/theorems/6d0b8492811a8233d4cd3564237a5f56e449a2d50/theorem_expr.ipynb\"><img src=\"data:image/png;base64,iVBORw0KGgoAAAANSUhEUgAAAGEAAAAVBAMAAACkm51HAAAAMFBMVEX///8AAAAAAAAAAAAAAAAA\n",
       "AAAAAAAAAAAAAAAAAAAAAAAAAAAAAAAAAAAAAAAAAAAv3aB7AAAAD3RSTlMAInZUiRDNmWbv3US7\n",
       "qzJazP2FAAAACXBIWXMAAA7EAAAOxAGVKw4bAAABeklEQVQ4y3WTPUjDQBSAv7SN/TEt3QQXKwji\n",
       "IIQiru2gm4W4O3RRxKlD/UEQi4vooouDP9iKOhgQilM3q6CDKHTTSTu7WEEUFMRLC5JckoPc+8v3\n",
       "3r07HpDEe/n5Ceg0UT3CFy5PAiaFGIHyjGk4Y2ODSQIlmYh+zp2Cmoez73FnqEtXj2BaJmLlE5E5\n",
       "LDI1/n21jtiECViXiXinEnYi3REPkDGIGp7EqBfxBW86XSVPoii+p4FnB6FaRIlQQybWck2YFdoN\n",
       "fVU7oXwIIkUkbxlhs70sWjOUHzhu/6NVXESW4Lb7ke5gv62E38W2bJq7pnkuTiWIyxSJlptYTVqE\n",
       "lif8K3ee0emWa9wKommdKloh3nIQ97BlEKxIfezBC1xDSEB1B7EBCxCpSzWycAA50WiBIcNBxHT1\n",
       "UGTPSkQPgR14tbSVeecLqsVhcfGxqkQoi48ic6xp96XtRq/3eEQKdqtmN5Z8JurKb9SUuk9gyo/Q\n",
       "/MZWSfkE+r3df8OCW8HoVdilAAAAAElFTkSuQmCC\n",
       "\" style=\"display:inline;vertical-align:middle;\" /></a><br>"
      ],
      "text/plain": [
       "<IPython.core.display.HTML object>"
      ]
     },
     "metadata": {},
     "output_type": "display_data"
    },
    {
     "data": {
      "text/html": [
       "<strong id=\"add_6_0\"><a class=\"ProveItLink\" href=\"proofs/add_6_0/thm_proof.ipynb\">add_6_0</a> (conjecture without proof):<br></strong> <a class=\"ProveItLink\" href=\"../__pv_it/theorems/6817e17bf3d76320b43850ec51c346eb86ffe60d0/theorem_expr.ipynb\"><img src=\"data:image/png;base64,iVBORw0KGgoAAAANSUhEUgAAAGEAAAAVBAMAAACkm51HAAAAMFBMVEX///8AAAAAAAAAAAAAAAAA\n",
       "AAAAAAAAAAAAAAAAAAAAAAAAAAAAAAAAAAAAAAAAAAAv3aB7AAAAD3RSTlMAInZUiRDNmWbv3US7\n",
       "qzJazP2FAAAACXBIWXMAAA7EAAAOxAGVKw4bAAABh0lEQVQ4y3WTPUjDQBTHf2lNm2q0nRyc4uQk\n",
       "hCKuLVJwUekqCBZBEARxED8RuokuLYiCCFJxCwjFyc0qLoqCs4M4OLno4Bc66Esr2lx7B8nl/d/9\n",
       "7uXdewckaD50OiFX4zjSEX3yZDL3QTHTkyCUb1jbkhkBMwed5fZSwBNxzX2YVAFjmluIyk4T2JWa\n",
       "dlybNmAI1lQi4nAFMQi//mnJ2nQNqSyxrEKkqkI/2EWVeIcnl4iayEX1PSdhZgZWAoTpE3labhRi\n",
       "+6GnDFMQnyLm1hPGixAOVs43ol51+PRbnk04gPFnolsNRJpwMRjC/IalLLtClLC+RFn2vB3POxSX\n",
       "ECcOHc8K8QmFsk/Ec1gfauYplzYlBm9C5P2/sn9j/BNy6oUs4ZKSx2U1xpnUQ/IoBoh1mAerotZD\n",
       "8oBh+TpnNHBWtLrmnuyeVgg7bcpZPfoNtnAXrKA51yut2VpW22Rw1ZcDXZusN7qaN7s1W28d1xuL\n",
       "mvtxqrs4RkXjGNMRtu7aGo7G0d1c/gGJM2C8tYxhZQAAAABJRU5ErkJggg==\n",
       "\" style=\"display:inline;vertical-align:middle;\" /></a><br>"
      ],
      "text/plain": [
       "<IPython.core.display.HTML object>"
      ]
     },
     "metadata": {},
     "output_type": "display_data"
    },
    {
     "data": {
      "text/html": [
       "<strong id=\"add_7_0\"><a class=\"ProveItLink\" href=\"proofs/add_7_0/thm_proof.ipynb\">add_7_0</a> (conjecture without proof):<br></strong> <a class=\"ProveItLink\" href=\"../__pv_it/theorems/273887e9252aaf292102f195c0320db607b4bc620/theorem_expr.ipynb\"><img src=\"data:image/png;base64,iVBORw0KGgoAAAANSUhEUgAAAGIAAAAVBAMAAABPrCZEAAAAMFBMVEX///8AAAAAAAAAAAAAAAAA\n",
       "AAAAAAAAAAAAAAAAAAAAAAAAAAAAAAAAAAAAAAAAAAAv3aB7AAAAD3RSTlMAInZUiRDNmWbv3US7\n",
       "qzJazP2FAAAACXBIWXMAAA7EAAAOxAGVKw4bAAABb0lEQVQ4y3WTsUvDQBTGv2uaNk2tdNOKQ52c\n",
       "hKOIazuIk0r+AMEugmOHYqRTFxFdLDiJIIpbUChO3RpdXBS6u3R20aFQHCS+Syokd7nAy733vfzu\n",
       "3t3lASgj/dHpyHB2kpp4UpRFJxzWYQRB8JPMba6WkenKRJ0+7MFsIvvquveJVI6bd8CBTGy7bocj\n",
       "30UWYK1IG0TDOWWBU5loAAtAATCA0kyrRcM7VeCg4EgEB0bARujvJokp8MWRUzaC7BhoC4f5CcIU\n",
       "BFU7UohlskPhlPoJgk2IqMJqiiDvhU9Ef5CFh1SBSjRg9OQlmFCuhbcVxh3Pu/K8R6qKiGEV89/K\n",
       "Npr/xAOUndc5isoatj+ryvyViDfgwoFxK+9jX7xfyIpTiTgDjgDLl9cYioveITMmEmFz84Zmbyg/\n",
       "llA+xRFcSoTZXqOrsvsyUeFiunFcqsWDpfT2sFrxaBAPjjUd9axrNeZrEns6Yk7XtqyqSayky3+D\n",
       "p1Yct8nniwAAAABJRU5ErkJggg==\n",
       "\" style=\"display:inline;vertical-align:middle;\" /></a><br>"
      ],
      "text/plain": [
       "<IPython.core.display.HTML object>"
      ]
     },
     "metadata": {},
     "output_type": "display_data"
    },
    {
     "data": {
      "text/html": [
       "<strong id=\"add_8_0\"><a class=\"ProveItLink\" href=\"proofs/add_8_0/thm_proof.ipynb\">add_8_0</a> (conjecture without proof):<br></strong> <a class=\"ProveItLink\" href=\"../__pv_it/theorems/4d53fb8a71b52f4137779ca0510d81b0a12defc90/theorem_expr.ipynb\"><img src=\"data:image/png;base64,iVBORw0KGgoAAAANSUhEUgAAAGEAAAAVBAMAAACkm51HAAAAMFBMVEX///8AAAAAAAAAAAAAAAAA\n",
       "AAAAAAAAAAAAAAAAAAAAAAAAAAAAAAAAAAAAAAAAAAAv3aB7AAAAD3RSTlMAInZUiRDNmWbv3US7\n",
       "qzJazP2FAAAACXBIWXMAAA7EAAAOxAGVKw4bAAABiUlEQVQ4y3WTP0jDQBTGvzSmTf/SWQTj1Ek4\n",
       "irimQsFFIYM4CboUHAsWW+xgcKm6qIODCGJxCwjFQbrZCm6KgoNudhZEsYIoQn2XguTO3hvu7r3L\n",
       "77733uUApDHYVHGEmGLjTEVMAHP5qhTMZ9IIufKnRn66QeMSUERSFAozow4UZCIC3NPownR9jluz\n",
       "P20DM0BNJjaBeSAKDN39Edn+dAPYDqKORMz6xCSg/zgRVyA+gVeGsFyIfYUKUKLV0/sKgoTBCZdr\n",
       "i5bsZajeZV5Rry4Q2gcRFkw/1Yjnm0+vf9MlnfAGj/TYPyIHfVfS0Kduu8AhYBZh71NgzfMOPO+U\n",
       "siLiwkLqTSJq0L8cTlBPtK5cuc0QlzXo2FHGs1ok51EgroEdB/qxWIdBmkkXl6RB5bQFYgtYpWxb\n",
       "ksYekEjzW4kXYFoCEWPGEZ2ek4hzBxvAM61eylWhuzBK4x3iGhKReihTKNYJxrJBZ3jwz06tDVgz\n",
       "6FQU76OtejhaS7GxoCISqmerWYqNscHhX7IKXvEjYbuFAAAAAElFTkSuQmCC\n",
       "\" style=\"display:inline;vertical-align:middle;\" /></a><br>"
      ],
      "text/plain": [
       "<IPython.core.display.HTML object>"
      ]
     },
     "metadata": {},
     "output_type": "display_data"
    },
    {
     "data": {
      "text/html": [
       "<strong id=\"add_9_0\"><a class=\"ProveItLink\" href=\"proofs/add_9_0/thm_proof.ipynb\">add_9_0</a> (conjecture without proof):<br></strong> <a class=\"ProveItLink\" href=\"../__pv_it/theorems/7507873326036355a927064163171c8a3ba26e690/theorem_expr.ipynb\"><img src=\"data:image/png;base64,iVBORw0KGgoAAAANSUhEUgAAAGEAAAAVBAMAAACkm51HAAAAMFBMVEX///8AAAAAAAAAAAAAAAAA\n",
       "AAAAAAAAAAAAAAAAAAAAAAAAAAAAAAAAAAAAAAAAAAAv3aB7AAAAD3RSTlMAInZUiRDNmWbv3US7\n",
       "qzJazP2FAAAACXBIWXMAAA7EAAAOxAGVKw4bAAABiUlEQVQ4y3WTO0gDQRBAXz5rEo0xtdUJgiCI\n",
       "RxDByoCCjeJ1oghJI1iKiBFFSCfaGAsLCYgabA6EYGVntLJQtLGwMq2CKP5BETc5hbtNdpvZmdk3\n",
       "szO7A8Spv3R2/KbGcagjeiCUuVaMgx1x/Nmas5llC0Qasced9woNptiFKRWYMGIbMn6W5hzRkmM7\n",
       "csQaDMOKStzAOUSgJU3wzbElHHEB/RYRSyHeYdSiF1Il/F8e4gMeTRqUQsQ3dBeZc3J8uglRIbIE\n",
       "r+rkyDJNtY5nN+F7lYRBOF1RQnZ1XTl1XBoUZMg8Dy81RJJATskxXozdmuTlbqw98SPFom1v2faB\n",
       "DCGJY4PYk0KI2YHucpVA7ZWso9+kKVf73rJXherm/z3+CNn1dYvAjlKH4zmFwCapsodYhXkIl5QE\n",
       "fZaQtx+Rf3GfMzxEoym2ZfSkQnRaUflE95V/lyl6CTHXJZM2FhUiOLRUCVd22xJupbX+Zw/PuLUj\n",
       "t7KgmY8T3eD4ShrHpI6I6sbWZ2gcbfXNv/n0Y2SBhu7wAAAAAElFTkSuQmCC\n",
       "\" style=\"display:inline;vertical-align:middle;\" /></a><br>"
      ],
      "text/plain": [
       "<IPython.core.display.HTML object>"
      ]
     },
     "metadata": {},
     "output_type": "display_data"
    }
   ],
   "source": [
    "add_0_0, add_1_0, add_2_0, add_3_0, add_4_0, add_5_0, add_6_0, add_7_0, add_8_0, add_9_0 = [Equals(Add(num(n), num(0)), num(n+0)) for n in range(10)]"
   ]
  },
  {
   "cell_type": "code",
   "execution_count": 18,
   "metadata": {},
   "outputs": [
    {
     "data": {
      "text/html": [
       "<strong id=\"add_0_1\"><a class=\"ProveItLink\" href=\"proofs/add_0_1/thm_proof.ipynb\">add_0_1</a> (conjecture without proof):<br></strong> <a class=\"ProveItLink\" href=\"../__pv_it/theorems/7649ab9e1d585de1cfc475f1b1a032c982d5461d0/theorem_expr.ipynb\"><img src=\"data:image/png;base64,iVBORw0KGgoAAAANSUhEUgAAAGAAAAAVBAMAAABLWfZ5AAAAMFBMVEX///8AAAAAAAAAAAAAAAAA\n",
       "AAAAAAAAAAAAAAAAAAAAAAAAAAAAAAAAAAAAAAAAAAAv3aB7AAAAD3RSTlMAInZUiRDNmWbv3US7\n",
       "qzJazP2FAAAACXBIWXMAAA7EAAAOxAGVKw4bAAABLUlEQVQ4y2NgYBBgwA5wiTMZ4JDYhEPchIGB\n",
       "xakQTZBvKdCkBgy1IGHWBAaGZIYoVPtjy74CyVR09WBh9gYGjgUMLAcgQjtg7gRpaMd0PlCYk4GB\n",
       "5wID81eIiBGyBs4AbBrMGBj4Cxj4PmPRwNaATUMJA0M8UMMPLBpYLmDTkMHAIO/AwPcJiwaOBBCT\n",
       "fRUYXIAJL4Zo+IJFA/MEbDbMBjrJgYEbZEPVqlUzV61aC9fA9wGHBqCnmbF5mhurDUAn8Rxg4MAW\n",
       "rMwLsPnhENBzExjYE7B5+gA2G3wZQLZEPkDVwPIRZLYDugaQ8CsgHe50jwFFA+/NbzcYGLg2oKkH\n",
       "C3M9QBYyQuZIYU3dHAXIvB3InArs+eEgjnzCwHgAu3gMLg08OPIoowIODYpYRQFMpFlDMDTIQgAA\n",
       "AABJRU5ErkJggg==\n",
       "\" style=\"display:inline;vertical-align:middle;\" /></a><br>"
      ],
      "text/plain": [
       "<IPython.core.display.HTML object>"
      ]
     },
     "metadata": {},
     "output_type": "display_data"
    },
    {
     "data": {
      "text/html": [
       "<strong id=\"add_1_1\"><a class=\"ProveItLink\" href=\"proofs/add_1_1/thm_proof.ipynb\">add_1_1</a> (conjecture without proof):<br></strong> <a class=\"ProveItLink\" href=\"../__pv_it/theorems/2b59f84f73722af3db7fa04fe83842caefd9171d0/theorem_expr.ipynb\"><img src=\"data:image/png;base64,iVBORw0KGgoAAAANSUhEUgAAAGEAAAAVBAMAAACkm51HAAAAMFBMVEX///8AAAAAAAAAAAAAAAAA\n",
       "AAAAAAAAAAAAAAAAAAAAAAAAAAAAAAAAAAAAAAAAAAAv3aB7AAAAD3RSTlMAInZUiRDNmWbv3US7\n",
       "qzJazP2FAAAACXBIWXMAAA7EAAAOxAGVKw4bAAABKUlEQVQ4y2NgYBBgwA5wiTMwGeCQ2IRLhwkQ\n",
       "vwpAE+RbCjSqAV0pY3nOAwYG1gQG1uv5aDpiy74CyVR0HTIMLL8ZGNhBJunDdOyAORWkox1dx0UG\n",
       "hpkMDJwMyDqMkHVwort1fgDDfQEGM9w62NA9couB4f4DhhLcOlguYIbTegaGDNw6OBJATPZVYADR\n",
       "zfeJgWExbh3MEzCs4AJqnI3QUbVq1cxVq9bCdfB9wNBRw4CiA90Obgw7OEBuw+eqBej+MGFgFGA4\n",
       "hMfnB9DTjgMDUwCDL4jpL4Cmg+UjyHQHNB1S5eVVwEQIZN2dn9uAooP35rcbwIDZgB4Z//9/Awo/\n",
       "QBYzQjESe2LnKEDm7UDmVODIHwdxZRzGAzgkYnDp4MGVbRkVcEgoYhcGAOx8Uq6oNAsNAAAAAElF\n",
       "TkSuQmCC\n",
       "\" style=\"display:inline;vertical-align:middle;\" /></a><br>"
      ],
      "text/plain": [
       "<IPython.core.display.HTML object>"
      ]
     },
     "metadata": {},
     "output_type": "display_data"
    },
    {
     "data": {
      "text/html": [
       "<strong id=\"add_2_1\"><a class=\"ProveItLink\" href=\"proofs/add_2_1/thm_proof.ipynb\">add_2_1</a> (conjecture without proof):<br></strong> <a class=\"ProveItLink\" href=\"../__pv_it/theorems/c3b9aedcadb354b8fb1a7922af39ebfa60c38ab80/theorem_expr.ipynb\"><img src=\"data:image/png;base64,iVBORw0KGgoAAAANSUhEUgAAAGEAAAAVBAMAAACkm51HAAAAMFBMVEX///8AAAAAAAAAAAAAAAAA\n",
       "AAAAAAAAAAAAAAAAAAAAAAAAAAAAAAAAAAAAAAAAAAAv3aB7AAAAD3RSTlMAInZUiRDNmWbv3US7\n",
       "qzJazP2FAAAACXBIWXMAAA7EAAAOxAGVKw4bAAABWUlEQVQ4y2NgYBBgwA5wiTMwGeCQ2IRLhwkD\n",
       "g3jZOTRBvqVAoxrQlTK61GxgYGBNYGA8wOC/AUUqtuwrkExF1xHOwPyZgYG9gYFXgIFzAkRsB8yp\n",
       "IB3t6Dr0DVi/MTBwAtFXBt6PEDEjZB2cAWg6dm5gAOowY2DgXcDA+w+LDjYMjzAw/2BgKAGzuD5g\n",
       "0cFyAUPHLqAhGWDWewUsOjgSQEz2VWAA1v3o7gMGhsVgFWsZsOhgnoDpKmBYzQabcwBEVq1aNXPV\n",
       "qrVwHXwfMGNvfgBERy8DNju40e14x8Bw3gDsKmYHBkFsrlqA5o//ASAdh4CsJwwMqth8fgDNjrlg\n",
       "V/kCk8vy8vIFqDpYQDHK7oCmowMcH6+AkfH///8EFB28N7/dAIpvQNPBXQ5KiVwPkMWMkDlS2BM7\n",
       "RwEybwcypwJH/jiIK+MwHsAhEYNLBw+ubMuogENCEbswAOF2XiWRLf0UAAAAAElFTkSuQmCC\n",
       "\" style=\"display:inline;vertical-align:middle;\" /></a><br>"
      ],
      "text/plain": [
       "<IPython.core.display.HTML object>"
      ]
     },
     "metadata": {},
     "output_type": "display_data"
    },
    {
     "data": {
      "text/html": [
       "<strong id=\"add_3_1\"><a class=\"ProveItLink\" href=\"proofs/add_3_1/thm_proof.ipynb\">add_3_1</a> (conjecture without proof):<br></strong> <a class=\"ProveItLink\" href=\"../__pv_it/theorems/1bddec21c1a2004beed809987ffae545623cf1f10/theorem_expr.ipynb\"><img src=\"data:image/png;base64,iVBORw0KGgoAAAANSUhEUgAAAGEAAAAVBAMAAACkm51HAAAAMFBMVEX///8AAAAAAAAAAAAAAAAA\n",
       "AAAAAAAAAAAAAAAAAAAAAAAAAAAAAAAAAAAAAAAAAAAv3aB7AAAAD3RSTlMAInZUiRDNmWbv3US7\n",
       "qzJazP2FAAAACXBIWXMAAA7EAAAOxAGVKw4bAAABR0lEQVQ4y2NgYBBgwA5wiTMwGeCQ2IRLhwkD\n",
       "g4j7aTRBvqVAoxowFfMVMDCwJjCwFjDYo1oUW/YVSKZi6uC6wMDA3sDA9JkhPgEisgPmVJCOdkwd\n",
       "WkAdnAwM3LMZ+KE6jJB1cAZgOKoNqMMMzLRvwKKDDcMjLGxAHSUgFvcKBiw6WC6g61AE6cgAWaZ7\n",
       "D5sODrBT2VeBAUg3YwNIx2KIqwyw6GCegO4oBpCO2WA2J0hF1apVM1etWgvXwfcBTUcjTAffAwae\n",
       "z1js4Eazg1GBAeoq/q/YdTAvQPUH99279+c6MBwCOukCxFUYPj+AEYNApQy+QJkGjPhg+Qgy3QFD\n",
       "Bz/QkFdAenv5adTQ5b357QYwEW1A18B+/q8CA9cDZCEjZI4U9sTOUYDM24HMqcCRPw7iyjiMB3BI\n",
       "xODSwYMr2wLjBTtQxC4MACvjWGiL35q+AAAAAElFTkSuQmCC\n",
       "\" style=\"display:inline;vertical-align:middle;\" /></a><br>"
      ],
      "text/plain": [
       "<IPython.core.display.HTML object>"
      ]
     },
     "metadata": {},
     "output_type": "display_data"
    },
    {
     "data": {
      "text/html": [
       "<strong id=\"add_4_1\"><a class=\"ProveItLink\" href=\"proofs/add_4_1/thm_proof.ipynb\">add_4_1</a> (conjecture without proof):<br></strong> <a class=\"ProveItLink\" href=\"../__pv_it/theorems/c134a924b223aa0a4fc13f600b7be1793128ef950/theorem_expr.ipynb\"><img src=\"data:image/png;base64,iVBORw0KGgoAAAANSUhEUgAAAGEAAAAVBAMAAACkm51HAAAAMFBMVEX///8AAAAAAAAAAAAAAAAA\n",
       "AAAAAAAAAAAAAAAAAAAAAAAAAAAAAAAAAAAAAAAAAAAv3aB7AAAAD3RSTlMAInZUiRDNmWbv3US7\n",
       "qzJazP2FAAAACXBIWXMAAA7EAAAOxAGVKw4bAAABQElEQVQ4y2NgYBBgwA5wiTMwGeCQ2IQhwsfA\n",
       "EAikTEDs5+hyS4FGNaDr4PyWBRRnTQCx16JKxZZ9BZKp6Dq45i8JYGBgB5nEBNOxA+ZUkI52dB28\n",
       "EJtAxItcqJgRsg7OAKw6zECEA1YdbA1YdZSA5AWw6mC5gK6jyfcBA0MGkCXBgFUHBzhQ2FeBAUg3\n",
       "TwDjbwaGxSBHYdfBPAEzkk4xMMwGmiUA0VG1atXMVavWwnXwfcDUUS8A0iHEgN0ObnQ7jgF1PAC5\n",
       "au/duz+vYHPVAjR/zGJguM/AcAisYi5Wnx9As8OBgWEOA4MvmP0HTQfLR5DpDmg6xBmYpjIwvAIx\n",
       "a/5fQtHBe/PbDWAy2oCmg7H8OjAZcD1AFjNC5khhzwUcBci8HcicChwZ5yCurMZ4AIdEDC4dPLiy\n",
       "LaMCDglF7MIAqQ1T/azHHywAAAAASUVORK5CYII=\n",
       "\" style=\"display:inline;vertical-align:middle;\" /></a><br>"
      ],
      "text/plain": [
       "<IPython.core.display.HTML object>"
      ]
     },
     "metadata": {},
     "output_type": "display_data"
    },
    {
     "data": {
      "text/html": [
       "<strong id=\"add_5_1\"><a class=\"ProveItLink\" href=\"proofs/add_5_1/thm_proof.ipynb\">add_5_1</a> (conjecture without proof):<br></strong> <a class=\"ProveItLink\" href=\"../__pv_it/theorems/118f8a1590306ce1964704865143306bf00025fb0/theorem_expr.ipynb\"><img src=\"data:image/png;base64,iVBORw0KGgoAAAANSUhEUgAAAGEAAAAVBAMAAACkm51HAAAAMFBMVEX///8AAAAAAAAAAAAAAAAA\n",
       "AAAAAAAAAAAAAAAAAAAAAAAAAAAAAAAAAAAAAAAAAAAv3aB7AAAAD3RSTlMAInZUiRDNmWbv3US7\n",
       "qzJazP2FAAAACXBIWXMAAA7EAAAOxAGVKw4bAAABXElEQVQ4y2NgYBBgwA5wiTMwGTA8YGDFIr0J\n",
       "lw4TBob5aasCUAX5lgKNasBQy+Lix8DAmsDAsPKXK6pMbNlXIJmKroExm+EWAwM70KQLcLEdMKeC\n",
       "dLSj62BTYDjDwMDJgKzDCFkHJ5pTGezBAma4dbChe+QkmCwB4hsq97DpYLmApmPaE/UNDAwZQNZR\n",
       "BvkNWHRwJICY7KvAAKT7WwPDZAaGxWAVPAuw6GCegGoF638GhsoAhtlgDvtHIFG1atXMVavWwnXw\n",
       "fUDT8YuBoX8DSAdPAgP7Pyx2cKPZwfANqKMB5CrOBQy8H7C5agGaP06B7TgEDBOgpgPYfH4APT6A\n",
       "/mBg8AVGfgGDZgCqDhaQv9gd0HTwOLACw+oVkCVeW4oaH7w3v91gYODagJ5M3GsfAIUfIAsZIXOk\n",
       "sCd2jgJk3g5kTgWO/HEQV8ZhPIBDIgaXDh5c2ZZRAYeEInZhADyrW4KLOwVWAAAAAElFTkSuQmCC\n",
       "\" style=\"display:inline;vertical-align:middle;\" /></a><br>"
      ],
      "text/plain": [
       "<IPython.core.display.HTML object>"
      ]
     },
     "metadata": {},
     "output_type": "display_data"
    },
    {
     "data": {
      "text/html": [
       "<strong id=\"add_6_1\"><a class=\"ProveItLink\" href=\"proofs/add_6_1/thm_proof.ipynb\">add_6_1</a> (conjecture without proof):<br></strong> <a class=\"ProveItLink\" href=\"../__pv_it/theorems/d5573d54392dad8a2060d7838ee197fa754d864f0/theorem_expr.ipynb\"><img src=\"data:image/png;base64,iVBORw0KGgoAAAANSUhEUgAAAGIAAAAVBAMAAABPrCZEAAAAMFBMVEX///8AAAAAAAAAAAAAAAAA\n",
       "AAAAAAAAAAAAAAAAAAAAAAAAAAAAAAAAAAAAAAAAAAAv3aB7AAAAD3RSTlMAInZUiRDNmWbv3US7\n",
       "qzJazP2FAAAACXBIWXMAAA7EAAAOxAGVKw4bAAABUklEQVQ4y2NgYBBgwA5wiTMwGeCQ2IQhIhEA\n",
       "pkyA2MXlAaoc31KgUQ3oOuz///8/gYE1gYFBbAPvAhSp2LKvQDIVXYdPeXmVAQM70KQkBp4DELEd\n",
       "MKeCdLSj63BgYBBnYOBkYGD+ChczQtbBGYCmA+jjCwwMZgwMPBOw62DD8AgDC9C/JUCz8pyqselg\n",
       "uYChQwaIMxgY+DMYOA2w6OBIADHZV4EBRPdtIF7MwBD/gYF9KhYdzBPQrWAEicwG6ljAwPEbyKxa\n",
       "tWrmqlVr4Tr4PmB4IwGigz+BgeMHFju4MezgOgBxFQ/UDgxXLUD3RzyIPASUAfpjAjafH0C3Y38B\n",
       "kPAF4iMMkWhhxfIRZLoDRsICibwCyZffQ40P3pvfbgBdvQFdhyTIYC6UVGuEzJHCngs4CpB5O5A5\n",
       "FTgyzkFcWY3xAA6JGFw6eHBlW0YFHBKK2IUBL3VWX2NjNX8AAAAASUVORK5CYII=\n",
       "\" style=\"display:inline;vertical-align:middle;\" /></a><br>"
      ],
      "text/plain": [
       "<IPython.core.display.HTML object>"
      ]
     },
     "metadata": {},
     "output_type": "display_data"
    },
    {
     "data": {
      "text/html": [
       "<strong id=\"add_7_1\"><a class=\"ProveItLink\" href=\"proofs/add_7_1/thm_proof.ipynb\">add_7_1</a> (conjecture without proof):<br></strong> <a class=\"ProveItLink\" href=\"../__pv_it/theorems/5f18672bcac7c10519960b8b080ff19726d9f9870/theorem_expr.ipynb\"><img src=\"data:image/png;base64,iVBORw0KGgoAAAANSUhEUgAAAGEAAAAVBAMAAACkm51HAAAAMFBMVEX///8AAAAAAAAAAAAAAAAA\n",
       "AAAAAAAAAAAAAAAAAAAAAAAAAAAAAAAAAAAAAAAAAAAv3aB7AAAAD3RSTlMAInZUiRDNmWbv3US7\n",
       "qzJazP2FAAAACXBIWXMAAA7EAAAOxAGVKw4bAAABV0lEQVQ4y2NgYBBgwA5wiTMwGTC2YpXYhEuH\n",
       "CQPz////f6IK8i0FGtWArpTVxX0DkExgYDleXr4YRSq27CuQTEXXwc7AcBlINjCwMDAwFkDEdsCc\n",
       "CtLRjq6jg4EhjIGBk4GBmYGBFypmhKyDMwBNhy9YhxmY7YdNBxu6R+yPMlQwMJSAmIwHsOlguYCm\n",
       "g/e/ugEDQwaYuQGbDo4EsHdXgQFYd/0vYCSBA0mSAZsO5glodjA7nv/MwDAbxHQDC1StWjVz1aq1\n",
       "cB18H9B0tDMw/wyA6FiD1Q5udDumMjDIG4BdxfoXu6sWoPqDFWgnbwPDIZBh37Hq4DiAZsdEBgYe\n",
       "AVCsMDB/QdfB8hFkugOajm0BDE0MDK9A0TEZTQfvzW83GBi4NqDp4LteDhTieoAsZoTMkcKe2DkK\n",
       "kHk7kDkVOPLHQVwZh/EADokYXDp4cGVbRgUcEorYhQELzFW9L2mB4gAAAABJRU5ErkJggg==\n",
       "\" style=\"display:inline;vertical-align:middle;\" /></a><br>"
      ],
      "text/plain": [
       "<IPython.core.display.HTML object>"
      ]
     },
     "metadata": {},
     "output_type": "display_data"
    },
    {
     "data": {
      "text/html": [
       "<strong id=\"add_8_1\"><a class=\"ProveItLink\" href=\"proofs/add_8_1/thm_proof.ipynb\">add_8_1</a> (conjecture without proof):<br></strong> <a class=\"ProveItLink\" href=\"../__pv_it/theorems/acb491ca36eb20dc354d4e25b047e79f4162a9f00/theorem_expr.ipynb\"><img src=\"data:image/png;base64,iVBORw0KGgoAAAANSUhEUgAAAGEAAAAVBAMAAACkm51HAAAAMFBMVEX///8AAAAAAAAAAAAAAAAA\n",
       "AAAAAAAAAAAAAAAAAAAAAAAAAAAAAAAAAAAAAAAAAAAv3aB7AAAAD3RSTlMAInZUiRDNmWbv3US7\n",
       "qzJazP2FAAAACXBIWXMAAA7EAAAOxAGVKw4bAAABZUlEQVQ4y2NgYBBgwA5wiTMwGeCQ2IRLhwkD\n",
       "Q4hLNZog31KgUQ0YastrAxgYWBMYGAoYeFEtii37CiRT0TVEKfBNZGBgb2DgaADrA4EdMKeCdLSj\n",
       "67jJwHCGgYGTgYHlAlyHEbIOzgA0Hd8YGPwDGMwYGJj/BLA3YNHBhuYR1j8MDPobGEqAzPufihmw\n",
       "6ADajWlHA0MGkMX+fyE2HRxgp7KvAoMLEH+cV2BYDApgmf8GWHQwT0CzI3ID330DhtlAswoY7KcC\n",
       "BapWrZq5atVauA6+D2g6WIuc9R+AdADDhPEzFju4J2DGNzCsgK6KB7JuYHPVAjR/MIDj4xDQDmCa\n",
       "O4jN5wfQLLAMYP3HwOALtD2VgUMBVQfLR5DpDmg6tAJ4gFH0Csh6W16NGrq8N78Bncm1AU0HiztI\n",
       "HdcDZDEjZI4U9sQODFoksAOZU4EjfxzElXEYD+CQiMGlgwdXtmVUwCGhiF0YANKOW3GKCS2vAAAA\n",
       "AElFTkSuQmCC\n",
       "\" style=\"display:inline;vertical-align:middle;\" /></a><br>"
      ],
      "text/plain": [
       "<IPython.core.display.HTML object>"
      ]
     },
     "metadata": {},
     "output_type": "display_data"
    },
    {
     "data": {
      "text/html": [
       "<strong id=\"add_9_1\"><a class=\"ProveItLink\" href=\"proofs/add_9_1/thm_proof.ipynb\">add_9_1</a> (conjecture without proof):<br></strong> <a class=\"ProveItLink\" href=\"../__pv_it/theorems/1513f10120e403df9c4950871daf53816b054fbd0/theorem_expr.ipynb\"><img src=\"data:image/png;base64,iVBORw0KGgoAAAANSUhEUgAAAGwAAAAVBAMAAABRZRb3AAAAMFBMVEX///8AAAAAAAAAAAAAAAAA\n",
       "AAAAAAAAAAAAAAAAAAAAAAAAAAAAAAAAAAAAAAAAAAAv3aB7AAAAD3RSTlMAInZUiRDNmWbv3US7\n",
       "qzJazP2FAAAACXBIWXMAAA7EAAAOxAGVKw4bAAABa0lEQVQ4y52Tv0vDUBDHv+aHiba2+QMEHRzc\n",
       "lCCCTqW4it2KIiTg4iJWKBScOjk5dOkgHSwWl4jgWLfq5NhFnJSsFkRIDBQE8b2EYJPe6+AtyX3v\n",
       "fd7du/cOgAHapjDJpFVBILM4CVsDtNpzWh2UgOXxxVxWiieAakO9wnuyUvXlmMWnSykokg+wZ0Cr\n",
       "Y66BbC8KdOMVKyyuV8ayMVlvQ+lhBsjbUIJINkcxNCks24ccYB2wepC+KeyQwvIV5HxUo2xDCtum\n",
       "MIthQ74jP5tHYWf8T3NC68fyQgE5Dx3WoBY+fArboLJx7Ast5pSXzB/2OXWcC8e5/cM+ySILyHgh\n",
       "BkEn7wUtkX1eJLP43pLYJnU2tlQP8AjITVguhZ2T192AZvMmS9d4Qgrb4a+tOoZxuYNdFwPmbNXu\n",
       "Utjr5VEduElToVwuvgGz7qhuJgauLZ6b5HvtjjrslYvtQRiZnzSm+//YkJ9ANPuSIYZ+AbMHYrgj\n",
       "J81RAAAAAElFTkSuQmCC\n",
       "\" style=\"display:inline;vertical-align:middle;\" /></a><br>"
      ],
      "text/plain": [
       "<IPython.core.display.HTML object>"
      ]
     },
     "metadata": {},
     "output_type": "display_data"
    }
   ],
   "source": [
    "add_0_1, add_1_1, add_2_1, add_3_1, add_4_1, add_5_1, add_6_1, add_7_1, add_8_1, add_9_1 = [Equals(Add(num(n), num(1)), num(n+1)) for n in range(10)]"
   ]
  },
  {
   "cell_type": "code",
   "execution_count": 19,
   "metadata": {},
   "outputs": [
    {
     "data": {
      "text/html": [
       "<strong id=\"add_0_2\"><a class=\"ProveItLink\" href=\"proofs/add_0_2/thm_proof.ipynb\">add_0_2</a> (conjecture without proof):<br></strong> <a class=\"ProveItLink\" href=\"../__pv_it/theorems/644354a7c5b98eaede7c1c043532e398122861ad0/theorem_expr.ipynb\"><img src=\"data:image/png;base64,iVBORw0KGgoAAAANSUhEUgAAAGEAAAAVBAMAAACkm51HAAAAMFBMVEX///8AAAAAAAAAAAAAAAAA\n",
       "AAAAAAAAAAAAAAAAAAAAAAAAAAAAAAAAAAAAAAAAAAAv3aB7AAAAD3RSTlMAInZUiRDNmWbv3US7\n",
       "qzJazP2FAAAACXBIWXMAAA7EAAAOxAGVKw4bAAABW0lEQVQ4y3WTPUvEMBjH/33R5rxSO4ugfgM5\n",
       "xLncLnQTRbAggoPDCULlcLjN9dbjBg/cCnLidGP1E9TVwevsJL4hOJxJHpBL2mRJ83vyy5MnTQCE\n",
       "qG8mDnvTELg3GVuA2z5TmZWelrB7+lSJsZAAR9hXt7AK9xc41g3CXg9sBDcnNqHuCRgAV7pBuAH4\n",
       "BZwvYi3qrmNMQzRizSC8DSx3EHwoxjMwLbGoF0L4HDjkxo9i8DbmB1JUz4njE2AtQvCuGQKwRHx5\n",
       "mWzFP74h41MzlvgMp19JIfCQ7ypCU+ToZtkgy25l6FIs+FYxBB7Kyh21cjCxiWYlh8R8V34Opp4u\n",
       "vwhWCGek1yHxIzf78BLFCCLYMViupSC8I/PslYqxkqZdvnqkGYRf+ddu+wWKMZ7NvvnB3Ok/g3A5\n",
       "z1rKkvWXnXXmR5P5wYXhfTyYHo6VGwIHJsM3PVtr3RDYqMd/lape/ZUR3EMAAAAASUVORK5CYII=\n",
       "\" style=\"display:inline;vertical-align:middle;\" /></a><br>"
      ],
      "text/plain": [
       "<IPython.core.display.HTML object>"
      ]
     },
     "metadata": {},
     "output_type": "display_data"
    },
    {
     "data": {
      "text/html": [
       "<strong id=\"add_1_2\"><a class=\"ProveItLink\" href=\"proofs/add_1_2/thm_proof.ipynb\">add_1_2</a> (conjecture without proof):<br></strong> <a class=\"ProveItLink\" href=\"../__pv_it/theorems/071c92b07cd9f83ed9db4e03bec8b83984ee19330/theorem_expr.ipynb\"><img src=\"data:image/png;base64,iVBORw0KGgoAAAANSUhEUgAAAGEAAAAVBAMAAACkm51HAAAAMFBMVEX///8AAAAAAAAAAAAAAAAA\n",
       "AAAAAAAAAAAAAAAAAAAAAAAAAAAAAAAAAAAAAAAAAAAv3aB7AAAAD3RSTlMAInZUiRDNmWbv3US7\n",
       "qzJazP2FAAAACXBIWXMAAA7EAAAOxAGVKw4bAAABVUlEQVQ4y3WTv0sDMRTHv7nr2etVys3FQf+C\n",
       "HqU4d3AVb3Nx6CI4KDoIJ6VDNx1dS5EKbgHp4VSdav8BdRKE0sOxg4iCCA5nkiLmckkg5P3IJ+8l\n",
       "Lw+AD/0w2WEFBseNiWiwOQ+zNhLtJ7C66lay0YkBpwXn+VAhVlD4AXZVYhv2J1DkJ9X+iNFieQJ6\n",
       "wKlK1ALnCyhBJuqLZRBi5qOkRMZtDEas64gXYJZgKXcR2N/AsY5gYwgUHnPEHTtkT09UPgC3xaUi\n",
       "FUPQr9MEuNITHtthn+ezYm/V/yfalPYovRauDo/znq8ee5O+NobLkyirMd6Ah8CQVQPEh32p3CMN\n",
       "OTHREZUmrBDuWIlxIbLa5OKWnyWqUdRmpzcV4kzUY86k6eCgmyGGacqK68UKUY74T/QS2VaXlar+\n",
       "s7tHsjaSlRNDf9ybGoeMDY4dE7FsaluyanCs6c2/VmFZDOESJTMAAAAASUVORK5CYII=\n",
       "\" style=\"display:inline;vertical-align:middle;\" /></a><br>"
      ],
      "text/plain": [
       "<IPython.core.display.HTML object>"
      ]
     },
     "metadata": {},
     "output_type": "display_data"
    },
    {
     "data": {
      "text/html": [
       "<strong id=\"add_2_2\"><a class=\"ProveItLink\" href=\"proofs/add_2_2/thm_proof.ipynb\">add_2_2</a> (conjecture without proof):<br></strong> <a class=\"ProveItLink\" href=\"../__pv_it/theorems/3e052b2e10cb3283e6a7942c91dbc179a0e444b90/theorem_expr.ipynb\"><img src=\"data:image/png;base64,iVBORw0KGgoAAAANSUhEUgAAAGEAAAAVBAMAAACkm51HAAAAMFBMVEX///8AAAAAAAAAAAAAAAAA\n",
       "AAAAAAAAAAAAAAAAAAAAAAAAAAAAAAAAAAAAAAAAAAAv3aB7AAAAD3RSTlMAInZUiRDNmWbv3US7\n",
       "qzJazP2FAAAACXBIWXMAAA7EAAAOxAGVKw4bAAABc0lEQVQ4y3WTMUvDQBTH/9fWNmlNrZNQHNLB\n",
       "xUlKcc4XEPsBHLIIDg4dxEhxqItOQtciYsFBCEiLU8foB9C6CqUdnFysgi6i8V2CmLvrHSF37//u\n",
       "9967Sx6AEmYPnY7UmsZxoyNqwNL+vagxb3eCVEvdXGwAcy5YgM2+4FhG5gvYVon8EMi1YJVgtmNl\n",
       "EE+PQAc4UYlVIkx6PmC9xUo1ni7qGFOYulLUMRHrgNWF9SMQT8B4gqxykEyWiL24vqlA0OiRfygT\n",
       "FU7sRMtXWyKK74Dh8lXOjwanWYsTl9GGa0gEv5R0Wy4KnDiL4gT83fT9ju/H8CHPM5WIo3/iFFIO\n",
       "gxdRkHIwG39VpR0sikQNrIR0VzxHYTQanzu4I/EZWBGIooNUHUagfEGTwA3KduV5XYEoe16TojsK\n",
       "sUBBXuhewjB0BaIXhp+k92Ug9/BtIz9JStWkUZ79sxuNpDVIGgea/rjVNQ4LNI4tHTGva1tmaxyV\n",
       "2fIvaSlb/C62XOIAAAAASUVORK5CYII=\n",
       "\" style=\"display:inline;vertical-align:middle;\" /></a><br>"
      ],
      "text/plain": [
       "<IPython.core.display.HTML object>"
      ]
     },
     "metadata": {},
     "output_type": "display_data"
    },
    {
     "data": {
      "text/html": [
       "<strong id=\"add_3_2\"><a class=\"ProveItLink\" href=\"proofs/add_3_2/thm_proof.ipynb\">add_3_2</a> (conjecture without proof):<br></strong> <a class=\"ProveItLink\" href=\"../__pv_it/theorems/003650d4f0733c0b8571ec0097a8ad07f17325ab0/theorem_expr.ipynb\"><img src=\"data:image/png;base64,iVBORw0KGgoAAAANSUhEUgAAAGEAAAAVBAMAAACkm51HAAAAMFBMVEX///8AAAAAAAAAAAAAAAAA\n",
       "AAAAAAAAAAAAAAAAAAAAAAAAAAAAAAAAAAAAAAAAAAAv3aB7AAAAD3RSTlMAInZUiRDNmWbv3US7\n",
       "qzJazP2FAAAACXBIWXMAAA7EAAAOxAGVKw4bAAABe0lEQVQ4y3WTv0vDQBTHv0lbm/4wzSAIxUH/\n",
       "AKGU4tpuToW4C3YRRBw6CJEiGFxcXRxqhQoqSKBUXOxYHRzsUifBwWZ2Eku7ONR3OcHkknvDXe69\n",
       "++R97909AAaiTeaHWpAE7kMeHdigqQQsrA+CIcXac6HaIpGa7t4AiRoSdZSDiZYQ/wG2RSLdvjaB\n",
       "pA11jK0a9/X49Ao0gRORmOeZgEwLuT+iyKe2iZGBlBlJrHlj2Q4Q78DIxZwdSeyzIXOLAEHWBeJD\n",
       "kTiuusAOq9rqh0jo34DmSU06njE6aypUkCuuqiAQadoROw1f0gvQ4uef0NBwnKbjdDzHIcvzFSaO\n",
       "DEboLrLjYA6NiciIOZ6JcJmq3CRElKAYiF0K5zinEgJPJGnIVf0TegWqCa0v5KgAF0CVJNjifeQt\n",
       "q0F/rwjEItQz4JO+HqxBsLrd2WxK9bqD+EDf6BmkXb+v6F/ko7tAq/tXPf/iQNI4j7JWU/qSwKaM\n",
       "yMraVlmWBFai3b+WJ1mIDUD4bwAAAABJRU5ErkJggg==\n",
       "\" style=\"display:inline;vertical-align:middle;\" /></a><br>"
      ],
      "text/plain": [
       "<IPython.core.display.HTML object>"
      ]
     },
     "metadata": {},
     "output_type": "display_data"
    },
    {
     "data": {
      "text/html": [
       "<strong id=\"add_4_2\"><a class=\"ProveItLink\" href=\"proofs/add_4_2/thm_proof.ipynb\">add_4_2</a> (conjecture without proof):<br></strong> <a class=\"ProveItLink\" href=\"../__pv_it/theorems/863446cfb0948b5c81eff42f38af324236cb76b60/theorem_expr.ipynb\"><img src=\"data:image/png;base64,iVBORw0KGgoAAAANSUhEUgAAAGEAAAAVBAMAAACkm51HAAAAMFBMVEX///8AAAAAAAAAAAAAAAAA\n",
       "AAAAAAAAAAAAAAAAAAAAAAAAAAAAAAAAAAAAAAAAAAAv3aB7AAAAD3RSTlMAInZUiRDNmWbv3US7\n",
       "qzJazP2FAAAACXBIWXMAAA7EAAAOxAGVKw4bAAABdUlEQVQ4y3WTv0vDQBTHv0mbNq2lBCcpDnVy\n",
       "lVJczSA4KfkDHFwEQQUHIVoUsjkqCEIRUXALSItTF6G6KQ4qTkJpBkFxEoeCPyDeXRRyL7kb7t59\n",
       "333uvXc/AFhIbyod+oTCca4i6rx7kTXNXQmge4m12ek5wFjg5pnsGUX2G1ikgLaMJyDPd9L/iU40\n",
       "3ANNYIcSuSpugQI3X1f/tFo0HDvoWyg4hJgSwiTvbEKw2P0AOVrItejXeVIWIVhrsTrvCHHwPN4G\n",
       "lpg1ggRR/gBMcSh5XzRODzzsA6c8qSRRZCsye3IIIwQ2HRyyvayIaPh+0/ejY9vicd4J8QXstjkx\n",
       "jEQMkycxRGJgwAiPZ3XR630+ykQdmoXMCanjRsS4EiuO5BhlG7oDs0vvg9UBzAr7RyYqrttgu9uE\n",
       "KNkGO6s3UWf4IBGtMGQ5F9v0mcxsB0wO4lItPqmkP3ZzLT7rxCcbiv9xqfo4WlfhmFcRJdW31aoK\n",
       "x1i6/AvvEVtOYQkj3wAAAABJRU5ErkJggg==\n",
       "\" style=\"display:inline;vertical-align:middle;\" /></a><br>"
      ],
      "text/plain": [
       "<IPython.core.display.HTML object>"
      ]
     },
     "metadata": {},
     "output_type": "display_data"
    },
    {
     "data": {
      "text/html": [
       "<strong id=\"add_5_2\"><a class=\"ProveItLink\" href=\"proofs/add_5_2/thm_proof.ipynb\">add_5_2</a> (conjecture without proof):<br></strong> <a class=\"ProveItLink\" href=\"../__pv_it/theorems/49c4ddc0e34dde6301a707bd50d389221722ea2f0/theorem_expr.ipynb\"><img src=\"data:image/png;base64,iVBORw0KGgoAAAANSUhEUgAAAGIAAAAVBAMAAABPrCZEAAAAMFBMVEX///8AAAAAAAAAAAAAAAAA\n",
       "AAAAAAAAAAAAAAAAAAAAAAAAAAAAAAAAAAAAAAAAAAAv3aB7AAAAD3RSTlMAInZUiRDNmWbv3US7\n",
       "qzJazP2FAAAACXBIWXMAAA7EAAAOxAGVKw4bAAABcUlEQVQ4y3WTsUvDQBTGv6StSWst2aqloIKL\n",
       "WyjF1SxuCvkDBLMoDg4dlEpRcHPtWhwacDIgLZ26GQX3uomCzexUHRwUjO8SkNwld/Du3X3vfnn3\n",
       "yD0ABrKHTIdqIkAhIzxKKYt25JpA/8CzuZDSPgqgXojEZhiGXRQc4OZ7iw/Vkf8B9kViu93umNDo\n",
       "S5N/bRy7J6AHXIqEBVSBIpJEI3Z9G1MDRVsgzOjoRhbxAkwDzKUKQT4Ajsk/r73xBI0BhScpok52\n",
       "SPaI5aFAVD4B3WErzYtGTL+SXUersisQJTqR64opFKZcRUvtg6aO5/U87zYSzlieWaoMJybKDrRf\n",
       "PofOLjGfylHy41sVXSzMeKIJxUDOFevYY/MD5SLI54iKBdWG7os57lo07VA9LazbHFGj50Bft1IP\n",
       "iynvZNXzE/5/DMLwi249FIklkxUTJKVGclPLbg+9ldyNk5tTSUfdy1pN8SWBXRlRlrWtsiIJrGbL\n",
       "f6/IWLWFY6aYAAAAAElFTkSuQmCC\n",
       "\" style=\"display:inline;vertical-align:middle;\" /></a><br>"
      ],
      "text/plain": [
       "<IPython.core.display.HTML object>"
      ]
     },
     "metadata": {},
     "output_type": "display_data"
    },
    {
     "data": {
      "text/html": [
       "<strong id=\"add_6_2\"><a class=\"ProveItLink\" href=\"proofs/add_6_2/thm_proof.ipynb\">add_6_2</a> (conjecture without proof):<br></strong> <a class=\"ProveItLink\" href=\"../__pv_it/theorems/3e2e0cb158e883fa9fbfae5dacfce527ae8167480/theorem_expr.ipynb\"><img src=\"data:image/png;base64,iVBORw0KGgoAAAANSUhEUgAAAGEAAAAVBAMAAACkm51HAAAAMFBMVEX///8AAAAAAAAAAAAAAAAA\n",
       "AAAAAAAAAAAAAAAAAAAAAAAAAAAAAAAAAAAAAAAAAAAv3aB7AAAAD3RSTlMAInZUiRDNmWbv3US7\n",
       "qzJazP2FAAAACXBIWXMAAA7EAAAOxAGVKw4bAAABiklEQVQ4y3WTP0jDQBTGvzStTWvaZnIogjq5\n",
       "llJcrVJwEjIJgmAQhA4iDkJKFSwudayDQ3Gw4BaQFgfpWEVnFQfBwWZ2Korin6G+pCK5R+8gd7n3\n",
       "7nffe+/uABgY3mR2hDISx7mMyNFXKLiCTbE3XIQqfGmksNCi3gLGWomG4BpH+AdY50QUeKCedlqD\n",
       "3hnY2oPhHqgDVU4cAEtADFDf/23ZwXBiomsgZjJi0SdmAL3GiSeg62KEJzJ7gxKwTTKb8zsiQa0J\n",
       "hO8YkehPU2GLQKqIWIYRyVdAs/x0Hb/59N43HdIpsNpD9IgRcVqh1piGOnf7BhwT0YBGxUTZceqO\n",
       "c+Y7dz2dHiOqUL9Mj0hZ0D5FDc0LYpRrUCATGS8q/U8jQOSgGFAbYh4R0kxUcEXhUR41gUjmETKh\n",
       "dZjGIe1ueKeCayyLtUrbdpl2zzPiwsQ+8EJ/YftZPI9mv/9B9WoxIvlokyku3NpscJIeftm1reCs\n",
       "HZyUJO/jUvZwlI7EsSIjdNmzVSYljqnh5l+EdV2Q+yIJNAAAAABJRU5ErkJggg==\n",
       "\" style=\"display:inline;vertical-align:middle;\" /></a><br>"
      ],
      "text/plain": [
       "<IPython.core.display.HTML object>"
      ]
     },
     "metadata": {},
     "output_type": "display_data"
    },
    {
     "data": {
      "text/html": [
       "<strong id=\"add_7_2\"><a class=\"ProveItLink\" href=\"proofs/add_7_2/thm_proof.ipynb\">add_7_2</a> (conjecture without proof):<br></strong> <a class=\"ProveItLink\" href=\"../__pv_it/theorems/acbaee45d875e1b9faa977dc7fc784a145c3250f0/theorem_expr.ipynb\"><img src=\"data:image/png;base64,iVBORw0KGgoAAAANSUhEUgAAAGEAAAAVBAMAAACkm51HAAAAMFBMVEX///8AAAAAAAAAAAAAAAAA\n",
       "AAAAAAAAAAAAAAAAAAAAAAAAAAAAAAAAAAAAAAAAAAAv3aB7AAAAD3RSTlMAInZUiRDNmWbv3US7\n",
       "qzJazP2FAAAACXBIWXMAAA7EAAAOxAGVKw4bAAABeUlEQVQ4y3WTP0jDQBTGvzSJTWsbuloc6urS\n",
       "UorgVhB0Um9VHLoIDg5FhEhV6CKuFafioOAWlAanjtXFRbCOuiSzk4go4p94lzgkr7lb7t337nfv\n",
       "3nt3AApIHjIdqYpykOi4khE1qL7vf8Y0xdr0kGqP7LX2GaA3oN1a1nnMMwntC1inwGrJPALSbWj8\n",
       "0Gao9cPpAegCh5R4BO6ADKAC+X+tGk6nDG4BGUaId2CZYSawl+LEE+B6GCOJ6N9A2cF2kOkgTvDR\n",
       "A7RhQow2NoSZdyhhvgJGQ1hpOxjDMI/7EoIiTYASWb5D7ZAYK47pVnAizPlAaNl217YvA3tPxHkh\n",
       "hL41V/ZC4oLGMMQlxjuj/ea1ErfSfyhRg1KAekbyQNCPG3HYByHMOlIMxoAEmGX6L7DILfWNEEXL\n",
       "avHT64SYZjneomfRjmNC9Hyf1z7rEEJb2BVl9KJaNbooJj92oxld9aOLHcn/uJZ9HGUgcazJiJzs\n",
       "2yoliWMqWf4D+StZzfgkr8IAAAAASUVORK5CYII=\n",
       "\" style=\"display:inline;vertical-align:middle;\" /></a><br>"
      ],
      "text/plain": [
       "<IPython.core.display.HTML object>"
      ]
     },
     "metadata": {},
     "output_type": "display_data"
    },
    {
     "data": {
      "text/html": [
       "<strong id=\"add_8_2\"><a class=\"ProveItLink\" href=\"proofs/add_8_2/thm_proof.ipynb\">add_8_2</a> (conjecture without proof):<br></strong> <a class=\"ProveItLink\" href=\"../__pv_it/theorems/e66b02a5732ad88f63b1e1a21405613e89961a650/theorem_expr.ipynb\"><img src=\"data:image/png;base64,iVBORw0KGgoAAAANSUhEUgAAAGwAAAAVBAMAAABRZRb3AAAAMFBMVEX///8AAAAAAAAAAAAAAAAA\n",
       "AAAAAAAAAAAAAAAAAAAAAAAAAAAAAAAAAAAAAAAAAAAv3aB7AAAAD3RSTlMAInZUiRDNmWbv3US7\n",
       "qzJazP2FAAAACXBIWXMAAA7EAAAOxAGVKw4bAAABnklEQVQ4y52TsUvDQBTGv5jWJG1T4+RSsIvg\n",
       "Ziki6GIprtIMgihCCyK4iBXFgl06OSl0cRAHIx2ESMGxbql/gHTTRe3gVBC1teAgxruUSi+9dPBB\n",
       "cvfu7nff3XvvAGjgm4BBNhTzmAhGB2HTwNJC3jU4tn8HTPYvbuiAL7kD+DNAFiorKVhIXWNYd0H+\n",
       "+20ytI5VDVIBcsGBqVU6japBKULO9qlN6ZAN+CwoRLX2h8U7jdKG+gGc8LBQDWIbM4D4rRPNXkw1\n",
       "oP4AmzxsJItwC3vEeW7ugsGIBd6BRR6WJtiXs6NkX/RhbyT8h7QjmY7Vuth4AuEmSjQHETvmxsrk\n",
       "m+WpUewTZ6ARm6e3PzDNU9MsO/OSRRW5h0wg2KSYokNoudSO6e/GIyRiix4yTfwHFhMTGAXmeHcL\n",
       "WZDbuCVqpJirLPYCTABH3HQXIWVokIMbkKMMJlzmcgac5LCWIgolrNTRIM5rLs8mIGDbNqmbKzf1\n",
       "eL5VwHLyiayo947HmYI2vN8NW6+VXqdbcVyres5EBj3TtX9sSG/g9faHNG/oF0IVZ25HN5k0AAAA\n",
       "AElFTkSuQmCC\n",
       "\" style=\"display:inline;vertical-align:middle;\" /></a><br>"
      ],
      "text/plain": [
       "<IPython.core.display.HTML object>"
      ]
     },
     "metadata": {},
     "output_type": "display_data"
    },
    {
     "data": {
      "text/html": [
       "<strong id=\"add_9_2\"><a class=\"ProveItLink\" href=\"proofs/add_9_2/thm_proof.ipynb\">add_9_2</a> (conjecture without proof):<br></strong> <a class=\"ProveItLink\" href=\"../__pv_it/theorems/2153d4515a96eb5d18cacb6f7cd1eff06382e8300/theorem_expr.ipynb\"><img src=\"data:image/png;base64,iVBORw0KGgoAAAANSUhEUgAAAGsAAAAVBAMAAACzuQ2OAAAAMFBMVEX///8AAAAAAAAAAAAAAAAA\n",
       "AAAAAAAAAAAAAAAAAAAAAAAAAAAAAAAAAAAAAAAAAAAv3aB7AAAAD3RSTlMAInZUiRDNmWbv3US7\n",
       "qzJazP2FAAAACXBIWXMAAA7EAAAOxAGVKw4bAAABZUlEQVQ4y2NgYBBgwA4YGfABJgMcEtwK+LSZ\n",
       "MDCwl19FExQvO8fAoIGp+FUAlGBNYGBdxPAS1aWMBxj8NzCwBaBpYr2eHwAhGNgbGHgnMPAcgEjs\n",
       "gFC8AgycExg4CjBs0w+AEpwMDPwJDCxfIcJGEIrzKwPvRwaGqbi1mTEwxB9gYPqNoo13AQPvPwaG\n",
       "DNzaSiC2/UDRBgRcHxgYfHFrA5oI8tsndG3vgcHfBmKwrwKDC6jaFgMDaDbD28/o2tYCsSVu22YD\n",
       "6XAVI6BPGKpWrZq5atVasDw7KGjf49fGgB6SDAy9IGInbm2LwVxYvMG0MTswCDIwWOH22yGgmqkM\n",
       "8Q9QtT1hYFBlYOjBbRswkJmWMpxgQNHGuLy8fAE4ctCAvwCUeAWkXco3oGrj+v//fwIDw2p0XXfn\n",
       "5zZACK4HyOJGKAl6Ae58g5pedyBzgKkcNziIU0YGXzaNIcNAkA9w5X0mAdyaAOpwYTx44Iw2AAAA\n",
       "AElFTkSuQmCC\n",
       "\" style=\"display:inline;vertical-align:middle;\" /></a><br>"
      ],
      "text/plain": [
       "<IPython.core.display.HTML object>"
      ]
     },
     "metadata": {},
     "output_type": "display_data"
    }
   ],
   "source": [
    "add_0_2, add_1_2, add_2_2, add_3_2, add_4_2, add_5_2, add_6_2, add_7_2, add_8_2, add_9_2 = [Equals(Add(num(n), num(2)), num(n+2)) for n in range(10)]"
   ]
  },
  {
   "cell_type": "code",
   "execution_count": 20,
   "metadata": {},
   "outputs": [
    {
     "data": {
      "text/html": [
       "<strong id=\"add_0_3\"><a class=\"ProveItLink\" href=\"proofs/add_0_3/thm_proof.ipynb\">add_0_3</a> (conjecture without proof):<br></strong> <a class=\"ProveItLink\" href=\"../__pv_it/theorems/e2558c6164b27857806e4fb827f52bd0586cae920/theorem_expr.ipynb\"><img src=\"data:image/png;base64,iVBORw0KGgoAAAANSUhEUgAAAGEAAAAVBAMAAACkm51HAAAAMFBMVEX///8AAAAAAAAAAAAAAAAA\n",
       "AAAAAAAAAAAAAAAAAAAAAAAAAAAAAAAAAAAAAAAAAAAv3aB7AAAAD3RSTlMAInZUiRDNmWbv3US7\n",
       "qzJazP2FAAAACXBIWXMAAA7EAAAOxAGVKw4bAAABWUlEQVQ4y3WTMUvEMBTH/732bLWlOruon8By\n",
       "iHM5XIVuoggWRHA8QVDE4TYdb5VDPHArCMXpdOr5BewXUIqjg4incpsmeSJN2mRJ83v58d5LEwBz\n",
       "qB86jkagCdzqjBXAah/IzFg7TdHoqlsFRjMGdrEll7ABcwzsqQZhuwtnACsjNqRpOWh+A2eqQXga\n",
       "8HKYX8RaNN2l4KFIMQivArMd+GPJAMwJMFVpROBDYIcZE8W4Z7utvGJwvA8shPA/ZOPlqQCcmH/a\n",
       "iRj5P74m41OtipVp9qpVMdxnVYVweY6TJLlIkhuKXUXw36t/j+G+6NyUO38DHgO4ag7CrCovgyOf\n",
       "7k/EQ+ZA6YPwA+uwBzuWjEuR3smUHITXwbvfLCTjXBy8HSoG4Vd+X9rPkAz3iF+5mVQx/nBRZq3y\n",
       "Yr7+sjud8mpYXhxr3sdI93CMTBPY1hme7tkai5rAUj3+BSuEZf9vpYE0AAAAAElFTkSuQmCC\n",
       "\" style=\"display:inline;vertical-align:middle;\" /></a><br>"
      ],
      "text/plain": [
       "<IPython.core.display.HTML object>"
      ]
     },
     "metadata": {},
     "output_type": "display_data"
    },
    {
     "data": {
      "text/html": [
       "<strong id=\"add_1_3\"><a class=\"ProveItLink\" href=\"proofs/add_1_3/thm_proof.ipynb\">add_1_3</a> (conjecture without proof):<br></strong> <a class=\"ProveItLink\" href=\"../__pv_it/theorems/6681fa22654907391bf83ea9a65ee9003481803c0/theorem_expr.ipynb\"><img src=\"data:image/png;base64,iVBORw0KGgoAAAANSUhEUgAAAGEAAAAVBAMAAACkm51HAAAAMFBMVEX///8AAAAAAAAAAAAAAAAA\n",
       "AAAAAAAAAAAAAAAAAAAAAAAAAAAAAAAAAAAAAAAAAAAv3aB7AAAAD3RSTlMAInZUiRDNmWbv3US7\n",
       "qzJazP2FAAAACXBIWXMAAA7EAAAOxAGVKw4bAAABSElEQVQ4y3XTPUvDQBgH8H+apnmT2tmpXV0a\n",
       "ijh3cBWzuTh0EVyKHQRFHOKijq4ipYJbQAhO1an1C7SbU7A4diiCIC6izyVIL/dyEO71d/dc7g5A\n",
       "Deqka0cp0HQ86sQGffOw2GZsnSUoRfLgag+wOrBeDwWxC/MT2JeFNwVsNlPzXwzzrBlYX8ClLNZJ\n",
       "uOBFK8+eEpBwQymoCxKbKgGY30BF2ki5QuJILZ5pdHkqigYTB0rxns4Ap8OKdpwlpo2IiXtNVPSv\n",
       "zGsxKDBxuxSncXwTxw957yBE9UMQ56JYrrEAJgF8YQ2jDm1UvyET5l1xH36avvXbeFGJfhaVM5JO\n",
       "0CW4zQo7taK4ys7DbktilSaZU54OulFB+Md0E+ElIrAnP3V4M76pxVfW1Jfd6fG1IV850byPse7h\n",
       "GCNNx55OrOieLZ2LOjXUzX8KCVeHVFfzpgAAAABJRU5ErkJggg==\n",
       "\" style=\"display:inline;vertical-align:middle;\" /></a><br>"
      ],
      "text/plain": [
       "<IPython.core.display.HTML object>"
      ]
     },
     "metadata": {},
     "output_type": "display_data"
    },
    {
     "data": {
      "text/html": [
       "<strong id=\"add_2_3\"><a class=\"ProveItLink\" href=\"proofs/add_2_3/thm_proof.ipynb\">add_2_3</a> (conjecture without proof):<br></strong> <a class=\"ProveItLink\" href=\"../__pv_it/theorems/0f860a1514f540378b624fd0cf502435e154d0290/theorem_expr.ipynb\"><img src=\"data:image/png;base64,iVBORw0KGgoAAAANSUhEUgAAAGEAAAAVBAMAAACkm51HAAAAMFBMVEX///8AAAAAAAAAAAAAAAAA\n",
       "AAAAAAAAAAAAAAAAAAAAAAAAAAAAAAAAAAAAAAAAAAAv3aB7AAAAD3RSTlMAInZUiRDNmWbv3US7\n",
       "qzJazP2FAAAACXBIWXMAAA7EAAAOxAGVKw4bAAABe0lEQVQ4y3WTPUjDQBTH/2ms/UyJU8GpDs6W\n",
       "Is4dXItxcnHoIoiTgxgRweKii9DFwS9a0CIEhOBUnaKDg4O6OYlFnBy0IhZBML7cOeSuuSPkfd3v\n",
       "3kvuPQAmopfKj1hRETjr8+SAaRLjQH75Vgxpk2suYjWZSPUWWkC8Cs3DlCuEZqB/AnMykW4cW0Ci\n",
       "BsNEqs59bS7GivEesCkTBs9EzxeMD+4rcXHugoiUFUlMkNKE8SsQgP4NDNYiiSVeYVciLmj3wL1M\n",
       "bFQ6wDzT3wsi8fxIoWQ1UBMOWwGdtbQf4IjtOIVcFf0rvd5/STfAPjvHC96rjrPrOP9ww0Ku20+s\n",
       "m5zYhpjjDbgrIiPnuCaiw6rSyxgSCN8KCL0pfcce8ARckfYCjArEIasq6Uk5ysABUKEuOrHtpkBs\n",
       "sftIlCUij9gO8EqX4ft+VSAyNnUi0q5EaPYDtUG6E/aVwsZw9BQkF8NWO2ysKAbnUjVqmqcIzKqI\n",
       "rGpstYIiMBLt/gP/Yl3A/CTMegAAAABJRU5ErkJggg==\n",
       "\" style=\"display:inline;vertical-align:middle;\" /></a><br>"
      ],
      "text/plain": [
       "<IPython.core.display.HTML object>"
      ]
     },
     "metadata": {},
     "output_type": "display_data"
    },
    {
     "data": {
      "text/html": [
       "<strong id=\"add_3_3\"><a class=\"ProveItLink\" href=\"proofs/add_3_3/thm_proof.ipynb\">add_3_3</a> (conjecture without proof):<br></strong> <a class=\"ProveItLink\" href=\"../__pv_it/theorems/519e7a28b3bc7bc76dfbe9885496efac40cfbd340/theorem_expr.ipynb\"><img src=\"data:image/png;base64,iVBORw0KGgoAAAANSUhEUgAAAGEAAAAVBAMAAACkm51HAAAAMFBMVEX///8AAAAAAAAAAAAAAAAA\n",
       "AAAAAAAAAAAAAAAAAAAAAAAAAAAAAAAAAAAAAAAAAAAv3aB7AAAAD3RSTlMAInZUiRDNmWbv3US7\n",
       "qzJazP2FAAAACXBIWXMAAA7EAAAOxAGVKw4bAAABgElEQVQ4y3WTP0gDMRTGv+v17J8rrYOTU52c\n",
       "xKOIazsUOim3uQh2EQSXDkJVFG7TrYIgSBEFFzkQDherU3XTCnYWlCJODiKUFnGp7xLBu2eTIcl7\n",
       "L7+8Ly8JgFEMbyo/IpYicKEiZoCxUivs04pbHiLOv7XR4jxglGFUkA8nWoDeBZY5oK3iCYg5iHSx\n",
       "VJa+hhymLaMP7HBiJIsHIAGYdWR+iZwcrjwQkbAZkReOWTl3QgSgf9GW/CB3ol/zO/MMjLim1dE2\n",
       "Iw7eJj1ghWbpqRdGvD53gLiQGnNF8+m+g33gVKqyuCqqlb4XTmEMgA0bdWEketRtuu6h657L8LGN\n",
       "9CcjvoGa5xPpDlLdUI4P4NGCyXL49as5vqpMjxMD2yf0E3aOe5HjliS1pao/4kioijf5fdA5gDmq\n",
       "icPvY1fcR6zAiFTBoFq90+yy2gpX16zSS0TS48+ktE1FT3aCrlzQGB/+2OOVoNUIGuuK/3Gj+jha\n",
       "UxFYVBEp1bfVsorAxHD3DwgvYX1zzy+8AAAAAElFTkSuQmCC\n",
       "\" style=\"display:inline;vertical-align:middle;\" /></a><br>"
      ],
      "text/plain": [
       "<IPython.core.display.HTML object>"
      ]
     },
     "metadata": {},
     "output_type": "display_data"
    },
    {
     "data": {
      "text/html": [
       "<strong id=\"add_4_3\"><a class=\"ProveItLink\" href=\"proofs/add_4_3/thm_proof.ipynb\">add_4_3</a> (conjecture without proof):<br></strong> <a class=\"ProveItLink\" href=\"../__pv_it/theorems/d45f6ec5d96e68100b0a76be43e46290f3b779470/theorem_expr.ipynb\"><img src=\"data:image/png;base64,iVBORw0KGgoAAAANSUhEUgAAAGIAAAAVBAMAAABPrCZEAAAAMFBMVEX///8AAAAAAAAAAAAAAAAA\n",
       "AAAAAAAAAAAAAAAAAAAAAAAAAAAAAAAAAAAAAAAAAAAv3aB7AAAAD3RSTlMAInZUiRDNmWbv3US7\n",
       "qzJazP2FAAAACXBIWXMAAA7EAAAOxAGVKw4bAAABZElEQVQ4y2NgYBBgwA5wiTMwGeCQ2IQhIhEA\n",
       "pkxAxHNUKUaXmg0MTA3oOuz///8/gYE1AcReiyoVzsD8mYEhFV2HT3l5lQEDO8gkJpiOHRBK34D1\n",
       "GwNDO7oOBwYGcQYGThDzRS5UzAhC7dzAANTBGYCmA+jjCwwMZmDNaDoYGJh/MDCwYXiEgeUBA0MJ\n",
       "yFECGDp2AVWzXMDQIQPEGaBQY0DX8egu0DAOcKCwrwIDiO7bQLwY7CNMVwHDinkCuhWMIJHZQLME\n",
       "IDqqVq2auWoVNNjmBzDwfcDwRgJEhxADuh3vGBjOGzBwY9jBdQDiqr137/68gqLjfwBIB/MCdH/E\n",
       "g8hDYCVzUe2YC3YVxwF0O/YXAAlfMPMPqo4OcHywO2AkLJDIKxCr5v8lFB3c5cCUyMC1AV2HJCid\n",
       "cz1AFjJC5khhzwUcBci8HcicChwZ5yCurMZ4AIdEDC4dPLiyLaMCDglF7MIAjjJZJdSx3J4AAAAA\n",
       "SUVORK5CYII=\n",
       "\" style=\"display:inline;vertical-align:middle;\" /></a><br>"
      ],
      "text/plain": [
       "<IPython.core.display.HTML object>"
      ]
     },
     "metadata": {},
     "output_type": "display_data"
    },
    {
     "data": {
      "text/html": [
       "<strong id=\"add_5_3\"><a class=\"ProveItLink\" href=\"proofs/add_5_3/thm_proof.ipynb\">add_5_3</a> (conjecture without proof):<br></strong> <a class=\"ProveItLink\" href=\"../__pv_it/theorems/8e379066d9a0f067b8793666cfff6d0598b9b34a0/theorem_expr.ipynb\"><img src=\"data:image/png;base64,iVBORw0KGgoAAAANSUhEUgAAAGEAAAAVBAMAAACkm51HAAAAMFBMVEX///8AAAAAAAAAAAAAAAAA\n",
       "AAAAAAAAAAAAAAAAAAAAAAAAAAAAAAAAAAAAAAAAAAAv3aB7AAAAD3RSTlMAInZUiRDNmWbv3US7\n",
       "qzJazP2FAAAACXBIWXMAAA7EAAAOxAGVKw4bAAABgUlEQVQ4y3WTO0gDQRCG/8t5JjEP0gk2URDE\n",
       "yiOIrQYiVsJW2likUSxTKAmiGGySUgsLEUnAygPhsJBoFYXUCVhoowRLC4kIoimMc3cgt8PtFvv4\n",
       "Z76d2Z1dACkEN5WOkIkujADzlYqYBWoblpA0LbdrI1TmrkZuyaY+D1z0F2XTKvRPYJ0TYeCBetqp\n",
       "8681vGHGNL6ACieqwAoQhZ/IeMONDSKighHLLjEXRAD6NzDMDzLfQgnYotnT5Asnbsl7qMOIxGDK\n",
       "BDZp1kLalonX5y4QybvHtdzm0vt9qsK56xGv86zorvRDFkPPtkk+9e7tg7odyzqxrEvPWhNI9hhR\n",
       "gf4jHCKeR/hXivEOtE3EeIxjIG06WUXrSPQkYiAcQq/L5zDIKVHGPd0JQU2JOHOzijRZjCPKJ+VU\n",
       "RStgWkhE1a1HeIER1wIHwBvNRve25XrEivQSMWIzIvlYdOSuX8v4F2PBjz1S8K8a/kVJ8T/uVB9H\n",
       "ayoMayoirvq22rjCMBEs/wEwzGCK3M3nfwAAAABJRU5ErkJggg==\n",
       "\" style=\"display:inline;vertical-align:middle;\" /></a><br>"
      ],
      "text/plain": [
       "<IPython.core.display.HTML object>"
      ]
     },
     "metadata": {},
     "output_type": "display_data"
    },
    {
     "data": {
      "text/html": [
       "<strong id=\"add_6_3\"><a class=\"ProveItLink\" href=\"proofs/add_6_3/thm_proof.ipynb\">add_6_3</a> (conjecture without proof):<br></strong> <a class=\"ProveItLink\" href=\"../__pv_it/theorems/7a96df65d9307e33d2a7cf30c3c4e0d67fa8f0c60/theorem_expr.ipynb\"><img src=\"data:image/png;base64,iVBORw0KGgoAAAANSUhEUgAAAGEAAAAVBAMAAACkm51HAAAAMFBMVEX///8AAAAAAAAAAAAAAAAA\n",
       "AAAAAAAAAAAAAAAAAAAAAAAAAAAAAAAAAAAAAAAAAAAv3aB7AAAAD3RSTlMAInZUiRDNmWbv3US7\n",
       "qzJazP2FAAAACXBIWXMAAA7EAAAOxAGVKw4bAAABhklEQVQ4y3WTPUjDQBiG3zaNSdrYOjk41dWl\n",
       "oYjgJlpwEm+TimAQhE4iIlT8gW46xsFBpFhwCwjBqTpVcRTs6qAWRwcpiFJQ1C+JaO+aOwi5e797\n",
       "7vu7AzCA6CHTEbckhjMZMUpfodDitFhh20O80rO3vMMA1QYGvf4aZ5mD8gosi8B8Nr0PaHTSEsxG\n",
       "qNXDX85S34FdkbgDbgADUN7+tHz4O/dAhMEEgrRZhjHAdESCTukAfUIi6id597BOZ61MbonEBe1O\n",
       "NCN8VFACMiUYFk883VPxdNufam4wmmEet1mcAIttaAdiVFQrxRF8FL30o4UjImrQP0jYdN1D1z0N\n",
       "rccM6bZAqGtTuZZPZGzoHc7HC7m3kHJ6+021oqjMXx//xDfzCaUm5IGgH1cUL+XhcEQ1iEpvCA7G\n",
       "mfoFzNDsGkW+VntBP7QJgRhhJhX9mWaJ8gPfj1SZbiKSnkAkpv2+Jblbm+9eDEVfdn21e1XvXmxI\n",
       "3sel7OHEGhLDgowwZc82lpUYhqPlH53YYkSkdtORAAAAAElFTkSuQmCC\n",
       "\" style=\"display:inline;vertical-align:middle;\" /></a><br>"
      ],
      "text/plain": [
       "<IPython.core.display.HTML object>"
      ]
     },
     "metadata": {},
     "output_type": "display_data"
    },
    {
     "data": {
      "text/html": [
       "<strong id=\"add_7_3\"><a class=\"ProveItLink\" href=\"proofs/add_7_3/thm_proof.ipynb\">add_7_3</a> (conjecture without proof):<br></strong> <a class=\"ProveItLink\" href=\"../__pv_it/theorems/a8f06aaa8b63b7c80508b9173ae185a4de50ebca0/theorem_expr.ipynb\"><img src=\"data:image/png;base64,iVBORw0KGgoAAAANSUhEUgAAAGwAAAAVBAMAAABRZRb3AAAAMFBMVEX///8AAAAAAAAAAAAAAAAA\n",
       "AAAAAAAAAAAAAAAAAAAAAAAAAAAAAAAAAAAAAAAAAAAv3aB7AAAAD3RSTlMAInZUiRDNmWbv3US7\n",
       "qzJazP2FAAAACXBIWXMAAA7EAAAOxAGVKw4bAAABjklEQVQ4y52TPUjDQBTH/20Sm9g27eAiCDq6\n",
       "iKWIoEtLB53UbqIIDbi4iBEKBacsOjkI4iAdWugiUcHNulUXB5duTkrmLkLToA5SL5cKzeXSwTcc\n",
       "99673937uAcgDb5EMEqimcgx1xGfGYUtQOj3+99+48TqCzAbPNwpAmLhEJA0iM+VSsPnlXTkMhgr\n",
       "MpD0ekBMu9hOI2ZAJHnonqM5CNxGSYOsB16bL0KuQ2xBAQQgOTBnB2lVkdKACx6WaENwsEjVdT9G\n",
       "JGcAezwspUO1Uaa1brFY/IosazysRLAv78bkHYOpc+9kPXG3MZNK+w+bzkPtgpZwEsEgM8AS7zUX\n",
       "66HqaivUdmSal6Z56x1QHOCDG2Qe8a6H3TCvqRYSNvAQUhLBpkFKPwyWcii2zMst0YLs4Mkt2yeD\n",
       "KW0a5Cm33WeIabTIQo/BZIP2rRzANsi4NLBloeO27Zyt5H2FfGVcs9Rbbd/AZoE0Z9watmd9A1cP\n",
       "nxv/f20OK+SXh8tjqGdq1Jju/ONCN4Ow2Y+mw6FfZfBiNqp/qrcAAAAASUVORK5CYII=\n",
       "\" style=\"display:inline;vertical-align:middle;\" /></a><br>"
      ],
      "text/plain": [
       "<IPython.core.display.HTML object>"
      ]
     },
     "metadata": {},
     "output_type": "display_data"
    },
    {
     "data": {
      "text/html": [
       "<strong id=\"add_8_3\"><a class=\"ProveItLink\" href=\"proofs/add_8_3/thm_proof.ipynb\">add_8_3</a> (conjecture without proof):<br></strong> <a class=\"ProveItLink\" href=\"../__pv_it/theorems/99247a5e6441d295cd9e78819c8f1096ae89ffb50/theorem_expr.ipynb\"><img src=\"data:image/png;base64,iVBORw0KGgoAAAANSUhEUgAAAGsAAAAVBAMAAACzuQ2OAAAAMFBMVEX///8AAAAAAAAAAAAAAAAA\n",
       "AAAAAAAAAAAAAAAAAAAAAAAAAAAAAAAAAAAAAAAAAAAv3aB7AAAAD3RSTlMAInZUiRDNmWbv3US7\n",
       "qzJazP2FAAAACXBIWXMAAA7EAAAOxAGVKw4bAAABWklEQVQ4y2NgYBBgwA4YGfABJgMcEtwK+LSZ\n",
       "MDCEuFSjCYq4n2Zg0MBU/CoASrAmMDAUMPCiWslawGBvwMAWgKaJ9Xp+AIRgYG9g4GgAawaBHVCH\n",
       "f2aIT2DgKMCwTT8ASnAyMLBcgGszgnprNgM/UGQqbm1mDAzMfwKAdiJrAwJ7oEgGbm0lQPr+p2IG\n",
       "NG3cK4CEL25tIBPZ/y9E08anew9ItoGY7KvA4AKqtsWgOJD5b4DhSKCIJW7bZjOAQswe5PuqVatm\n",
       "rlq1FqKA8ysDw3u82jgDGBg/o9jG94CBByiyE7c2oCPjgcwbKNr4v4K1WeH22yGgbcDEfBBFG+cF\n",
       "sCN7cNsGDGTuVAYOBRRtwHQDircSDG3+AlDiFZB+W16NFgHby4FJmWE1uq6783MbIATXA2RxI5QM\n",
       "twB3vkFNrzuQObAUhxUcxCkjgy+bxpBhIMgHuPI+kwBuTQAzS11FAF0fXgAAAABJRU5ErkJggg==\n",
       "\" style=\"display:inline;vertical-align:middle;\" /></a><br>"
      ],
      "text/plain": [
       "<IPython.core.display.HTML object>"
      ]
     },
     "metadata": {},
     "output_type": "display_data"
    },
    {
     "data": {
      "text/html": [
       "<strong id=\"add_9_3\"><a class=\"ProveItLink\" href=\"proofs/add_9_3/thm_proof.ipynb\">add_9_3</a> (conjecture without proof):<br></strong> <a class=\"ProveItLink\" href=\"../__pv_it/theorems/627d93e92138e9a388dfea6ca02e27aa8b16a0c80/theorem_expr.ipynb\"><img src=\"data:image/png;base64,iVBORw0KGgoAAAANSUhEUgAAAGwAAAAVBAMAAABRZRb3AAAAMFBMVEX///8AAAAAAAAAAAAAAAAA\n",
       "AAAAAAAAAAAAAAAAAAAAAAAAAAAAAAAAAAAAAAAAAAAv3aB7AAAAD3RSTlMAInZUiRDNmWbv3US7\n",
       "qzJazP2FAAAACXBIWXMAAA7EAAAOxAGVKw4bAAABlUlEQVQ4y52TPUjDQBTH/43GNG3TRhBcHDoo\n",
       "uIiliKBLHQQnaTYXoRldxA7FgFMmJ4UuHaSDxVKUSKGbdYtOgiBdxEnp4GJBqpaCILRekgq95NLB\n",
       "B7nLvbvfva97AGSwJYBRwiV8NsLxUdgSIGiPLuXUxj0w7z3cUoDp/QeAV8Gf4Y32lM8ilcCE4oL4\n",
       "pz0FARPpGgQdUh4R09moDxzvIKMimPVYW1QgyRDzEIGYivGuo04OwipaShRYmNiF9IllIGOC+6Ew\n",
       "Iikd2GFaK0HqIedY+3Zh4QsybLIwIqEP60Yrti8aiy68kPHQ+hUMWxpDWDuOMklQEe8dj5OknCs+\n",
       "1qpAkUxbs8kemQ4M48Qwqs4BEjnabEwwHQzuTEabiBD712zsmHxle/lXtwEW69rYKjO2sTVM4pbM\n",
       "BWSaFCY2bCePmNZegTkryVwFd6CwoG7XLefB0jIC55pWQoss1rUajeFKI08Zl27q+XRXD/X7fRWh\n",
       "5rA+STVcyb9v6PdaH16QV+4vN747M6PadPsfF1oR+PU+J/tDv+bKaHuZu1q4AAAAAElFTkSuQmCC\n",
       "\" style=\"display:inline;vertical-align:middle;\" /></a><br>"
      ],
      "text/plain": [
       "<IPython.core.display.HTML object>"
      ]
     },
     "metadata": {},
     "output_type": "display_data"
    }
   ],
   "source": [
    "add_0_3, add_1_3, add_2_3, add_3_3, add_4_3, add_5_3, add_6_3, add_7_3, add_8_3, add_9_3 = [Equals(Add(num(n), num(3)), num(n+3)) for n in range(10)]"
   ]
  },
  {
   "cell_type": "code",
   "execution_count": 21,
   "metadata": {},
   "outputs": [
    {
     "data": {
      "text/html": [
       "<strong id=\"add_0_4\"><a class=\"ProveItLink\" href=\"proofs/add_0_4/thm_proof.ipynb\">add_0_4</a> (conjecture without proof):<br></strong> <a class=\"ProveItLink\" href=\"../__pv_it/theorems/ef31f01ce64435d6cbca42359a7711a7e9bb60680/theorem_expr.ipynb\"><img src=\"data:image/png;base64,iVBORw0KGgoAAAANSUhEUgAAAGEAAAAVBAMAAACkm51HAAAAMFBMVEX///8AAAAAAAAAAAAAAAAA\n",
       "AAAAAAAAAAAAAAAAAAAAAAAAAAAAAAAAAAAAAAAAAAAv3aB7AAAAD3RSTlMAInZUiRDNmWbv3US7\n",
       "qzJazP2FAAAACXBIWXMAAA7EAAAOxAGVKw4bAAABU0lEQVQ4y3WTP0vDQBiHf2likzYldXaxXZ2k\n",
       "iHPoLriJIhgQwTGCgzili65dRYSCW0AQp47RL2C+QLWzk/gHXATf99JI7i53S3LPLw/3vnc5AMuo\n",
       "HyaOxroheDAZG4AzPFFpEKOR6B8TxlIEHGJPLaGdA0e6wdhN4E3gZAWZltEaRZe6wbgFdHLY3wUZ\n",
       "lKtfcLStFcV4E+jGCD5lw2lS1NQaEfgUOCDjRzb6HDm5agh8DKyGCD4kw0o48iJ+d1Mx8n98Wxhf\n",
       "kuGAI3usFiXwNVUVwuc1ztP0Kk3v6G0kouBdMUalQZ3bUudWT0S+ssYCU1WdDJ60u/5s9noTwp7I\n",
       "fSzwE3U4hhvJe4UWd55pJ8h4C7zO7lwxuvS1G2oG4zd67gxfIBvu828P7XtVKPC8igbVyUr9z+7F\n",
       "1dm0Ojkz3I9H08WxMkOwbzI6pmtL51I/+vX4DzjKW/MDr6y6AAAAAElFTkSuQmCC\n",
       "\" style=\"display:inline;vertical-align:middle;\" /></a><br>"
      ],
      "text/plain": [
       "<IPython.core.display.HTML object>"
      ]
     },
     "metadata": {},
     "output_type": "display_data"
    },
    {
     "data": {
      "text/html": [
       "<strong id=\"add_1_4\"><a class=\"ProveItLink\" href=\"proofs/add_1_4/thm_proof.ipynb\">add_1_4</a> (conjecture without proof):<br></strong> <a class=\"ProveItLink\" href=\"../__pv_it/theorems/3978d8ea4924c5cff683fbb039700d8ccb67731d0/theorem_expr.ipynb\"><img src=\"data:image/png;base64,iVBORw0KGgoAAAANSUhEUgAAAGEAAAAVBAMAAACkm51HAAAAMFBMVEX///8AAAAAAAAAAAAAAAAA\n",
       "AAAAAAAAAAAAAAAAAAAAAAAAAAAAAAAAAAAAAAAAAAAv3aB7AAAAD3RSTlMAInZUiRDNmWbv3US7\n",
       "qzJazP2FAAAACXBIWXMAAA7EAAAOxAGVKw4bAAABSUlEQVQ4y2NgYBBgwA5wiTMwGeCQ2IQhwsfA\n",
       "EAikTID4VQCGZAEDUwO6IOe3rKUMDKwJDKzX8zF0cF1gYEjFEJy/BKiQHWSSPkzHDpikFlBHO7oO\n",
       "XohNDMg6jGCOagPq4AzAqsMMqw4WNqAOtgasOkqw6lAE6WC5gK6jyfcBA0MGNh2MDSAdHAkgNvsq\n",
       "MADp5glg/M3AsBibDhYGkA7mCZiRdIqBYTZCR9WqVTNXrVoLZDWCdfB9wNRRL4CsA24HowJYBze6\n",
       "HceAOh5gdRX33bv35zowMC9A88csBob7DAyHsIYVAyfI5wfQ7HBgYJjDwOALYvoLoOvgB6pmd0DT\n",
       "Ic7ANBWYCIGsu/NzG1B1sJ//q8DAtQFNB2P5daBjuB4gixkhc6Sw5wKOAmTeDmROBY6McxBXVmM8\n",
       "gEMiBpcOHlzZFhhd2IEidmEA+eBQxBRGVwIAAAAASUVORK5CYII=\n",
       "\" style=\"display:inline;vertical-align:middle;\" /></a><br>"
      ],
      "text/plain": [
       "<IPython.core.display.HTML object>"
      ]
     },
     "metadata": {},
     "output_type": "display_data"
    },
    {
     "data": {
      "text/html": [
       "<strong id=\"add_2_4\"><a class=\"ProveItLink\" href=\"proofs/add_2_4/thm_proof.ipynb\">add_2_4</a> (conjecture without proof):<br></strong> <a class=\"ProveItLink\" href=\"../__pv_it/theorems/be67d7483c0607f26d2be1e4a85afa962813dcdb0/theorem_expr.ipynb\"><img src=\"data:image/png;base64,iVBORw0KGgoAAAANSUhEUgAAAGEAAAAVBAMAAACkm51HAAAAMFBMVEX///8AAAAAAAAAAAAAAAAA\n",
       "AAAAAAAAAAAAAAAAAAAAAAAAAAAAAAAAAAAAAAAAAAAv3aB7AAAAD3RSTlMAInZUiRDNmWbv3US7\n",
       "qzJazP2FAAAACXBIWXMAAA7EAAAOxAGVKw4bAAABfElEQVQ4y3WTv0vDQBTHv2nTpmmbWifBKR1E\n",
       "cJIirmYQnNT+AQ5ZBMGlg1gVhLjoJBYEQUQoOAgBoTh1jG6KaGeh2KGTi3Wwg6Dx7kIh9+wd4Xj3\n",
       "fe+T9979AFDE6KHSkZhVOG5VxBwwsf1M1UIVCe9frL64AqRcaAFWm8SXbQPrFNA28QoYHqwizHqk\n",
       "tYbOGUYcUSJt4wkw2fcF6zPSysOiDhlhVgixIIR5wGrA+pUJPc2ING3kQcxbUdl9mShxQm8T4qw3\n",
       "zfrdEPaHLRGax4mMy23DF4PTAw+nwJUIuYFE6OBEsi6nSIXAbgUX4j8Bn/d8/9z3OXwgiEKfEN/A\n",
       "STMijiHl0GxB5EgODBjhiaqSDsbjRK7Tebt0kGyQPh5Fjntm9YApea9g8s4Deh6sD2CZFXFdqzUI\n",
       "McaiDYcQeSfF9uqdHUYYhq5MGC8/NrL0smFpv8vCu3GpHF9Mjr7smWp81YovdhTv4071cLRA4VhT\n",
       "EXnVs9VshaM0Wv4DywhdLly/GOAAAAAASUVORK5CYII=\n",
       "\" style=\"display:inline;vertical-align:middle;\" /></a><br>"
      ],
      "text/plain": [
       "<IPython.core.display.HTML object>"
      ]
     },
     "metadata": {},
     "output_type": "display_data"
    },
    {
     "data": {
      "text/html": [
       "<strong id=\"add_3_4\"><a class=\"ProveItLink\" href=\"proofs/add_3_4/thm_proof.ipynb\">add_3_4</a> (conjecture without proof):<br></strong> <a class=\"ProveItLink\" href=\"../__pv_it/theorems/463cfa6b85e46e3f11c2371ea3405b5d6f9816060/theorem_expr.ipynb\"><img src=\"data:image/png;base64,iVBORw0KGgoAAAANSUhEUgAAAGIAAAAVBAMAAABPrCZEAAAAMFBMVEX///8AAAAAAAAAAAAAAAAA\n",
       "AAAAAAAAAAAAAAAAAAAAAAAAAAAAAAAAAAAAAAAAAAAv3aB7AAAAD3RSTlMAInZUiRDNmWbv3US7\n",
       "qzJazP2FAAAACXBIWXMAAA7EAAAOxAGVKw4bAAABa0lEQVQ4y3WTvUvDQBjGn6Rp0yQldRD8wKFd\n",
       "BSEUcW03F4X+AUK7CI4ZhEinuOjaVYoguEhAEBe7tbp2sLtUMzsJpaPU93IWkrvcwV3unjc/3uc+\n",
       "XgBryG8qHbqnCDxLymY7+ewD64cTMej60ENRbC6Xyz6KXRR9NMVE9hQ4FYmjIOh5MEPoc3S6XBuu\n",
       "grtEXItEC9gALMAZoPpPNFamroiw2gJBRkg+4A7DLGGUKFSSNgIjBs7ZxHlAlqgzwphKxA71M+Zh\n",
       "7zNLaCEjyolVM0oapz+o33NXXoYwwIhCX0yhMWWQTK0FDb0ouomiR5pdJoT7I22jywk3RmWezqHV\n",
       "EsKRcthj7qq6EAhnNvu6baFwJ+6jw8Y3sjTlrlJnxTSUx2KOkU/DMUVC6T5Qpb/NlvSwmPJN/SWY\n",
       "CPdhvv/WYD+JxBY7UjtOS430Yju/Csp+ejVMLy4UhfOqKjVtrAicqIiKqmzpuvJbPV/+AwDuVs3+\n",
       "22b6AAAAAElFTkSuQmCC\n",
       "\" style=\"display:inline;vertical-align:middle;\" /></a><br>"
      ],
      "text/plain": [
       "<IPython.core.display.HTML object>"
      ]
     },
     "metadata": {},
     "output_type": "display_data"
    },
    {
     "data": {
      "text/html": [
       "<strong id=\"add_4_4\"><a class=\"ProveItLink\" href=\"proofs/add_4_4/thm_proof.ipynb\">add_4_4</a> (conjecture without proof):<br></strong> <a class=\"ProveItLink\" href=\"../__pv_it/theorems/87b09643fb348c256942734335e7f028cc15384a0/theorem_expr.ipynb\"><img src=\"data:image/png;base64,iVBORw0KGgoAAAANSUhEUgAAAGEAAAAVBAMAAACkm51HAAAAMFBMVEX///8AAAAAAAAAAAAAAAAA\n",
       "AAAAAAAAAAAAAAAAAAAAAAAAAAAAAAAAAAAAAAAAAAAv3aB7AAAAD3RSTlMAInZUiRDNmWbv3US7\n",
       "qzJazP2FAAAACXBIWXMAAA7EAAAOxAGVKw4bAAABbklEQVQ4y2NgYBBgwA5wiTMwGeCQ2IRLhwmI\n",
       "eI4uylfAwNSALsjq4r4BSCaA2GvRJbkuMDCkoguyMzBcBpIgk5hgOnbAJLWAOtrRdXQwMIQxMHCC\n",
       "mC9yoWJGMEe1AXVwBqDp8AXrMAMxHdB1sLABdbChe8T+KEMFA0MJyFEC6DoUQTpYLqDp4P2vDgzY\n",
       "DCBLggFNB2MDSAcHOFDYV4EBWHf9L2AkLQY5Cl0HCwNIB/MENDuYHc9/ZmCYDTRLAKKjatWqmatW\n",
       "gYKtEayD7wOajnYG5p8BIB1CDGh2MCqAdXCj2zGVgUHeAOSqvXfv/ryCrIP77t37cx0YmBeg+oMV\n",
       "aCdvA8MhsJq5aGHFwAny+QE0OyYyMPAIgGIFCP6g6+AHqmZ3QNOxLYChiYHhFYhZ8/8Sqg72838V\n",
       "GLg2oCfP6+VAIa4HyGJGyBwp7ImdowCZtwOZU4EjfxzElXEYD+CQiMGlgwdXtgVGF3agiF0YAGjU\n",
       "WHMRvhQbAAAAAElFTkSuQmCC\n",
       "\" style=\"display:inline;vertical-align:middle;\" /></a><br>"
      ],
      "text/plain": [
       "<IPython.core.display.HTML object>"
      ]
     },
     "metadata": {},
     "output_type": "display_data"
    },
    {
     "data": {
      "text/html": [
       "<strong id=\"add_5_4\"><a class=\"ProveItLink\" href=\"proofs/add_5_4/thm_proof.ipynb\">add_5_4</a> (conjecture without proof):<br></strong> <a class=\"ProveItLink\" href=\"../__pv_it/theorems/bcc00e9285129a8480e7443e4ea39f74a2c0fcd70/theorem_expr.ipynb\"><img src=\"data:image/png;base64,iVBORw0KGgoAAAANSUhEUgAAAGEAAAAVBAMAAACkm51HAAAAMFBMVEX///8AAAAAAAAAAAAAAAAA\n",
       "AAAAAAAAAAAAAAAAAAAAAAAAAAAAAAAAAAAAAAAAAAAv3aB7AAAAD3RSTlMAInZUiRDNmWbv3US7\n",
       "qzJazP2FAAAACXBIWXMAAA7EAAAOxAGVKw4bAAABeElEQVQ4y3WTMUjDUBCG/7ZJ07QxugkupuBi\n",
       "l5YigltBxEnMqjh0URyLKIpSqIuudRQRC04GhODUsQpuQjPqUNvZqS4OouK9SOX1+vKGcO9/9+Xu\n",
       "3r0DMAH1itIRL6AHXXF8F0XMAVdbnstUu4J4bcR3v0p+ehm4+VziZ+kA2OTiumOfAQb9KfjXmgMj\n",
       "R9opJ16AJ8CETBQHSZ2QZvJUP4BVF/NKQkuSlmSF6F9A3scumc8zr4zICkILFDFq2CbrEdP+EBGr\n",
       "CSJVFrbhhSv4q6Pt4Dp0sRpDhAZBJOosxppvdwu4CG3jnT6HnnfuebdkHYeE3WeEvrOY7wnCKsP4\n",
       "kWPEnJDI1Ef7TXdFWZkNjPVlItPpdC9LSDRYHQj78SCyhtkaviuYovIWC7Dg6pTLCiVRwazLiHHy\n",
       "NkqMyLkWteiNrMnqHuuH0f52kPYZoS0fiSfXk7WivJlSP/ZURd415c1BxHzcRw1OrBVxsBFFWFFj\n",
       "S+1Sr6xa/gWjzVy3kIwrigAAAABJRU5ErkJggg==\n",
       "\" style=\"display:inline;vertical-align:middle;\" /></a><br>"
      ],
      "text/plain": [
       "<IPython.core.display.HTML object>"
      ]
     },
     "metadata": {},
     "output_type": "display_data"
    },
    {
     "data": {
      "text/html": [
       "<strong id=\"add_6_4\"><a class=\"ProveItLink\" href=\"proofs/add_6_4/thm_proof.ipynb\">add_6_4</a> (conjecture without proof):<br></strong> <a class=\"ProveItLink\" href=\"../__pv_it/theorems/a88ad78d88abf86714accc0019117afa329fbe290/theorem_expr.ipynb\"><img src=\"data:image/png;base64,iVBORw0KGgoAAAANSUhEUgAAAGwAAAAVBAMAAABRZRb3AAAAMFBMVEX///8AAAAAAAAAAAAAAAAA\n",
       "AAAAAAAAAAAAAAAAAAAAAAAAAAAAAAAAAAAAAAAAAAAv3aB7AAAAD3RSTlMAInZUiRDNmWbv3US7\n",
       "qzJazP2FAAAACXBIWXMAAA7EAAAOxAGVKw4bAAABjklEQVQ4y52TPUsDQRCGX/PhXcxpDguxELS0\n",
       "MwQRtDpCWjGdRIQEbdJEIwQEtUhlZZEmhYh4kO5EsIyFEMUfEESwiqRT0iiJgYiCzp4menu7KRzY\n",
       "ZXd2n52ZnRkAOsQygH7iCUsOglP9sFkasVidVz8C0+7LjTjgi24B/hQwdj5s8hfOgME4p/Pfb5Jq\n",
       "HSs6lDywBq3yfVDuuU6YmnVZm4lDNeGrIAB42z11pLt4ytBUFGFalQFzgFZwYwbD0iIslMVICzkg\n",
       "sBHd5TCPzrBFEZYkrMNeDKURCDuxcTBsny0Vy5ZqF5s0MNJECUi+QCk6McPG5kXWGPaKI8JMqO+k\n",
       "27GsQ8uiL4Sq29iz0EkDwSbDQimoHYe1UdjYheRLvC3mpPZj7Re7rNXe7oAFUWyUYrWNa8obxVbg\n",
       "EoBjGgfCdBegpOxPvkEizGMfNHIubInapYREHQ3a+LYf+HTvfd4CpzxVO8nksRyl20OO2o84Gs6U\n",
       "942zXst/N6zKpXIlPZno16ar/3iQRSDrfY8uh74A5FhkfgKBrIMAAAAASUVORK5CYII=\n",
       "\" style=\"display:inline;vertical-align:middle;\" /></a><br>"
      ],
      "text/plain": [
       "<IPython.core.display.HTML object>"
      ]
     },
     "metadata": {},
     "output_type": "display_data"
    },
    {
     "data": {
      "text/html": [
       "<strong id=\"add_7_4\"><a class=\"ProveItLink\" href=\"proofs/add_7_4/thm_proof.ipynb\">add_7_4</a> (conjecture without proof):<br></strong> <a class=\"ProveItLink\" href=\"../__pv_it/theorems/bd32d0465b268763ecbd81dffd5d9162f91efb0a0/theorem_expr.ipynb\"><img src=\"data:image/png;base64,iVBORw0KGgoAAAANSUhEUgAAAGsAAAAVBAMAAACzuQ2OAAAAMFBMVEX///8AAAAAAAAAAAAAAAAA\n",
       "AAAAAAAAAAAAAAAAAAAAAAAAAAAAAAAAAAAAAAAAAAAv3aB7AAAAD3RSTlMAInZUiRDNmWbv3US7\n",
       "qzJazP2FAAAACXBIWXMAAA7EAAAOxAGVKw4bAAABPklEQVQ4y2NgYBBgwA4YGfABJgPGVqwS3Ar4\n",
       "tJkwMP////8nuvBzBgYNTMWvAqAEawIDy/Hy8sXoCtYyMLAFoImxXs8PgBAM7A0MLEB/FEAkdsCd\n",
       "DtTGUYBhm34AlOBkYGBmYOCFChvB5F/kAompuLWZgbl+6NocQNoycGsrAYf1ATRtTAIgbb64tYFN\n",
       "5N2Apk2CAaStDcRkXwUGF1C1gYNQkgFNmwNYmyVu22aDeG5gsapVq2auWgUMQgYOAbC29wS0rUGz\n",
       "TYgBrG0nbm0gR7L+RdO29+7dn1cYGKxw++0QKPV9R/cbA8NcIO7BbRsokJm/YGr7wwCNHBTgLwAl\n",
       "XoGibTKGtpr/lxgYVqPrujs/twFCcD1AFjdCyXALcOcb1PS6A5kDTOW4wUGcMjL4smkMGQaCfIAr\n",
       "7zMJ4NYEAFGEVhbL/zYNAAAAAElFTkSuQmCC\n",
       "\" style=\"display:inline;vertical-align:middle;\" /></a><br>"
      ],
      "text/plain": [
       "<IPython.core.display.HTML object>"
      ]
     },
     "metadata": {},
     "output_type": "display_data"
    },
    {
     "data": {
      "text/html": [
       "<strong id=\"add_8_4\"><a class=\"ProveItLink\" href=\"proofs/add_8_4/thm_proof.ipynb\">add_8_4</a> (conjecture without proof):<br></strong> <a class=\"ProveItLink\" href=\"../__pv_it/theorems/221fb638920d905fac89bf1801fcb0c5a6064f680/theorem_expr.ipynb\"><img src=\"data:image/png;base64,iVBORw0KGgoAAAANSUhEUgAAAGwAAAAVBAMAAABRZRb3AAAAMFBMVEX///8AAAAAAAAAAAAAAAAA\n",
       "AAAAAAAAAAAAAAAAAAAAAAAAAAAAAAAAAAAAAAAAAAAv3aB7AAAAD3RSTlMAInZUiRDNmWbv3US7\n",
       "qzJazP2FAAAACXBIWXMAAA7EAAAOxAGVKw4bAAABiklEQVQ4y52Tv0vDQBTHv22t+VEC0UWHDl0E\n",
       "N0sRQRc7uEozOAp2EVyKBYsB69DJScHFQUSsOAgRwbEOQusfIEUEXYoOglKQ+gMHoRjfHbT0kksH\n",
       "H7wk914+9727dw+ACbmF0M/CyYBELNEPmwQW5oq+8Asw7v+5aQEj6zdANAvkYfgkz4FByxOL3q9a\n",
       "CFWRuYBSglriMLNKd+mEqXmf2oQFw4S2Cw0YqHexVCf/mqPHngzTvmF8YAqItC3SFLE0w1akamUY\n",
       "vyjQ4PFzDSIWNhk2L8PI9Hc+o+Iee7BRMGyLfSoOt3oP1krghNUg7iZFLM2x6QA1Oq4DfmKzbPcb\n",
       "jrPvOBSDanKsJceUKsc0KsaXoDYMjl3KsR1yWuQSvR4E7KrR+LkDZqR7i6QxhGtSo8tc8xQAh+Tb\n",
       "UrVnYIwdcmwZasKLtckLPixjInRq22U0afBmFz0FwKZ7C5x5qcZRrqS7rpuF/tQbTwkNVw7uG/G+\n",
       "VnoHnRsntVpgJt6vTRf/MSHbQVDvh81g6A8qA2KNVFPRGQAAAABJRU5ErkJggg==\n",
       "\" style=\"display:inline;vertical-align:middle;\" /></a><br>"
      ],
      "text/plain": [
       "<IPython.core.display.HTML object>"
      ]
     },
     "metadata": {},
     "output_type": "display_data"
    },
    {
     "data": {
      "text/html": [
       "<strong id=\"add_9_4\"><a class=\"ProveItLink\" href=\"proofs/add_9_4/thm_proof.ipynb\">add_9_4</a> (conjecture without proof):<br></strong> <a class=\"ProveItLink\" href=\"../__pv_it/theorems/834db37405098aabcd3fb906ad05d89a05c364990/theorem_expr.ipynb\"><img src=\"data:image/png;base64,iVBORw0KGgoAAAANSUhEUgAAAGwAAAAVBAMAAABRZRb3AAAAMFBMVEX///8AAAAAAAAAAAAAAAAA\n",
       "AAAAAAAAAAAAAAAAAAAAAAAAAAAAAAAAAAAAAAAAAAAv3aB7AAAAD3RSTlMAInZUiRDNmWbv3US7\n",
       "qzJazP2FAAAACXBIWXMAAA7EAAAOxAGVKw4bAAABiklEQVQ4y52TPUjDQBTH/0ZjW1vbIA4ODg4O\n",
       "LmIpIujSDoKTmM1FSEeXYodCQBwyOTm4dJAiiiJIRHCzDkJ1ElyKKE6VbGpBBEtBUdR3qS3N5a6D\n",
       "Dy6Xe+9+d+/eBwANYulCJ1HiEkN4pBM2CQTMO5/6ERjzb67qwODcNaCmoe7h2efpMdCrczr1fkWH\n",
       "mkUyjoCF/k1ESg1DseU6YcGs77YJHUoNRhohIJZGT72hTjTtTxn65EVYuMCAKcAoQfnksBTDlkUY\n",
       "SdJCrnHbuxdTNIbNi7HwoXsie9ubFxsCw9bZb8B2pdzCouMPwD4FqICXmhdLudi0zMk4CjQtjia+\n",
       "aVq17S3bphAiqLnYqwQL1V0MfCQH4GJnIizqIFJjTpI08/aHnVcqH7fAjOhtsTrDLoHuPAyHSwC2\n",
       "aWyIbguVmZMUZOUAV+CxLxo5H7agIWixvFVpMWue8Njazw1wxFOVnYyFU5NKuc9p1yc8Dbcr7xtv\n",
       "vRbbF1TlcrmQWoY7tenSPw5kL5D1vqLJoV+KSmUWGMZUCQAAAABJRU5ErkJggg==\n",
       "\" style=\"display:inline;vertical-align:middle;\" /></a><br>"
      ],
      "text/plain": [
       "<IPython.core.display.HTML object>"
      ]
     },
     "metadata": {},
     "output_type": "display_data"
    }
   ],
   "source": [
    "add_0_4, add_1_4, add_2_4, add_3_4, add_4_4, add_5_4, add_6_4, add_7_4, add_8_4, add_9_4 = [Equals(Add(num(n), num(4)), num(n+4)) for n in range(10)]"
   ]
  },
  {
   "cell_type": "code",
   "execution_count": 22,
   "metadata": {},
   "outputs": [
    {
     "data": {
      "text/html": [
       "<strong id=\"add_0_5\"><a class=\"ProveItLink\" href=\"proofs/add_0_5/thm_proof.ipynb\">add_0_5</a> (conjecture without proof):<br></strong> <a class=\"ProveItLink\" href=\"../__pv_it/theorems/96b57c347e09e52c3c7c2476923eb25755cd1a4f0/theorem_expr.ipynb\"><img src=\"data:image/png;base64,iVBORw0KGgoAAAANSUhEUgAAAGEAAAAVBAMAAACkm51HAAAAMFBMVEX///8AAAAAAAAAAAAAAAAA\n",
       "AAAAAAAAAAAAAAAAAAAAAAAAAAAAAAAAAAAAAAAAAAAv3aB7AAAAD3RSTlMAInZUiRDNmWbv3US7\n",
       "qzJazP2FAAAACXBIWXMAAA7EAAAOxAGVKw4bAAABWUlEQVQ4y3WTv0vDQBTHv2mqSdsYuwku6n8g\n",
       "RZxD90KcRBEMiCBOFQTFxeDi2sVBK1hQl4AgTh2jg4NTNjfN7CT+QnDxJSeSd7m7Ibn7PD53793x\n",
       "ADShHjqOymyZucACbtQYmAOq7S0eqn1tXqISykaOMRIAa1jmKdTPLnxgXTYEtkLYA1RjwYbiN5Z/\n",
       "D2VD4BrgJDA/BWuxkK805oHxLtx3hTEaKo1tYJWMb24cdFK6kEQ2crwBTHlw35jh+MYPYAfZ3Iry\n",
       "kfzjc2F8MIPGA2D2yi9FuE9ZeWhkZ+xF0XEUXYnQfhPua9kg3M8rN3nl9xRK0ZDPEJiycmLY/HZP\n",
       "gGfKaiDVIfAdVdiDFTDDA06Jx9IZAneQVb+UMmMClSPa3ZMMgV9otth+AjOMnUd67/q1ZPzhtMha\n",
       "xcWkuj3sbnE1LC52NR11q2s1I9YEVnSGo2tbY1oTmFHjX1bfWHkLeYA4AAAAAElFTkSuQmCC\n",
       "\" style=\"display:inline;vertical-align:middle;\" /></a><br>"
      ],
      "text/plain": [
       "<IPython.core.display.HTML object>"
      ]
     },
     "metadata": {},
     "output_type": "display_data"
    },
    {
     "data": {
      "text/html": [
       "<strong id=\"add_1_5\"><a class=\"ProveItLink\" href=\"proofs/add_1_5/thm_proof.ipynb\">add_1_5</a> (conjecture without proof):<br></strong> <a class=\"ProveItLink\" href=\"../__pv_it/theorems/ffebe0a72ee66ace295d30f8c1910573fe75120d0/theorem_expr.ipynb\"><img src=\"data:image/png;base64,iVBORw0KGgoAAAANSUhEUgAAAGEAAAAVBAMAAACkm51HAAAAMFBMVEX///8AAAAAAAAAAAAAAAAA\n",
       "AAAAAAAAAAAAAAAAAAAAAAAAAAAAAAAAAAAAAAAAAAAv3aB7AAAAD3RSTlMAInZUiRDNmWbv3US7\n",
       "qzJazP2FAAAACXBIWXMAAA7EAAAOxAGVKw4bAAABWklEQVQ4y2NgYBBgwA5wiTMwGWCK8TEwBDJs\n",
       "wqXDBIhfBaCKcX7LWsrA1IChlsXFj4GBNYGB9Xo+mg6u+UuAIqnoGhizGW4xMLCDTNKH6dgBoXjB\n",
       "ZDu6DjYFhjNABzAg6zBC1sGJZjODPVjADLcONnSPnASTJVh1NPk+APrzApqOaU/UNzAwZGDTwRPA\n",
       "+JuBgSMBxGZfBQYg3d8aGCYzMCzGpgMITjEwME9AtYL1PwNDZQDDbISOqlWrZq5atRYiXS/AwPcB\n",
       "TccvBob+Dcg6EHYcA+p4wMCNZgfDN6COBuyumsXAcB/oqgVo/jgFtuMQNh0ODAxzgD4/gB4fQH8w\n",
       "MPiCmP4CqDrEGZimAk13QNPB48AKDKtXQNbd+bkNKDoYy68DbeXagJ5M3GuB0cT1AFnICJkjhT2x\n",
       "cxQg83Ygcypw5I+DuDIO4wEcEjG4dPDgyraMCjgkFLELAwDztVN7CySCPgAAAABJRU5ErkJggg==\n",
       "\" style=\"display:inline;vertical-align:middle;\" /></a><br>"
      ],
      "text/plain": [
       "<IPython.core.display.HTML object>"
      ]
     },
     "metadata": {},
     "output_type": "display_data"
    },
    {
     "data": {
      "text/html": [
       "<strong id=\"add_2_5\"><a class=\"ProveItLink\" href=\"proofs/add_2_5/thm_proof.ipynb\">add_2_5</a> (conjecture without proof):<br></strong> <a class=\"ProveItLink\" href=\"../__pv_it/theorems/4ebc975b291eba6feaf1e4ef96ce565e5817e2b60/theorem_expr.ipynb\"><img src=\"data:image/png;base64,iVBORw0KGgoAAAANSUhEUgAAAGIAAAAVBAMAAABPrCZEAAAAMFBMVEX///8AAAAAAAAAAAAAAAAA\n",
       "AAAAAAAAAAAAAAAAAAAAAAAAAAAAAAAAAAAAAAAAAAAv3aB7AAAAD3RSTlMAInZUiRDNmWbv3US7\n",
       "qzJazP2FAAAACXBIWXMAAA7EAAAOxAGVKw4bAAABd0lEQVQ4y2NgYBBgwA5wiTMwGWCK8TEwBDJs\n",
       "whCWCABTJgwM4mXnUKU4v2UtZWBqQNdh/////wkMrAkMjAcY/DegSHHNXwI0LhVdh095eZUBA3sD\n",
       "A68AA+cEiNgOCMULJtvRdTgAnQN0ABB9ZeD9CBEzQtbBGYCmA+jjCwwMZkD5BQy8/7DoYMPwCAPL\n",
       "AwaGEojDP6DqaPIFSrFcwNAhA8QZYNZ7BRQdPAGMvxkYOBJAbPZVYADRfRuIF4NZaxlQdADBKQYG\n",
       "5gnoVjCCRGaDzTkAIqtWrZq5ahVUc70AA98HDG8kwHT0MqDacQyo4wEDN4YdXAegrmJ2YBBE0TGL\n",
       "geE+UHgBuj/iQeQhIH7CwKCKogMYVXOAPj+Absf+AiDhC/TP8vLyBSg6xBmYpgJNd8BIWCCRV0DX\n",
       "ARNYAooOxvLrwPjm2oCuQxKUzrkeIAsZIXOksGcPjgJk3g5kTgWOHHUQV1ZjPIBDIgaXDh5c2ZZR\n",
       "AYeEInZhAPH2VccOt/+dAAAAAElFTkSuQmCC\n",
       "\" style=\"display:inline;vertical-align:middle;\" /></a><br>"
      ],
      "text/plain": [
       "<IPython.core.display.HTML object>"
      ]
     },
     "metadata": {},
     "output_type": "display_data"
    },
    {
     "data": {
      "text/html": [
       "<strong id=\"add_3_5\"><a class=\"ProveItLink\" href=\"proofs/add_3_5/thm_proof.ipynb\">add_3_5</a> (conjecture without proof):<br></strong> <a class=\"ProveItLink\" href=\"../__pv_it/theorems/822898849d9a9c432c69eaeb561ba9af1283a80d0/theorem_expr.ipynb\"><img src=\"data:image/png;base64,iVBORw0KGgoAAAANSUhEUgAAAGEAAAAVBAMAAACkm51HAAAAMFBMVEX///8AAAAAAAAAAAAAAAAA\n",
       "AAAAAAAAAAAAAAAAAAAAAAAAAAAAAAAAAAAAAAAAAAAv3aB7AAAAD3RSTlMAInZUiRDNmWbv3US7\n",
       "qzJazP2FAAAACXBIWXMAAA7EAAAOxAGVKw4bAAABgklEQVQ4y3WTP0jDQBTGv6TWtunfQRBc1MlJ\n",
       "CEVcW0HoVIiLk2AXQZw6CC0uDV3qqIODVlBQQQJCcdCOVdDBDhYcumlmJ6FUUAd9SQRzz9wNL3fv\n",
       "8uP73r07ABkED1keqv4/lwKWcCkj5oCxQlfMxd43zqCa/NfwYqFFsYRwGTlRSDs6NYA1TkSAJ4om\n",
       "1AFWS16u7X2SbmxwYhtYJgNAvIn0L5H1EzGDEUWXmHfnOTOAGOWF5O5QBTadafwcIlEv2sBIjxHJ\n",
       "7xmqd905zNlnkUgYyhcQda1GLHe4dO2TmnTi6ekCQeMBCO0wjdDC4wBoekUOKWxZ1r5lXXi7tQxS\n",
       "b4xoIPRhOETKRmIgaNwTYSPONfaASd1xlR5y4gB4IRPHYh1h0kyauCVLPc/VH5EHDqnyDtPYpTPJ\n",
       "OF2Jmrwf41DJQSTPiCsDdeCVZteVrni6SqVP/dZa/Er3K5TSbH8u619MBF/2aNm/avsXVcn7uJE9\n",
       "HKUj2ViREQnZs1WmJBvTwekfCb9ZZLf6ZHoAAAAASUVORK5CYII=\n",
       "\" style=\"display:inline;vertical-align:middle;\" /></a><br>"
      ],
      "text/plain": [
       "<IPython.core.display.HTML object>"
      ]
     },
     "metadata": {},
     "output_type": "display_data"
    },
    {
     "data": {
      "text/html": [
       "<strong id=\"add_4_5\"><a class=\"ProveItLink\" href=\"proofs/add_4_5/thm_proof.ipynb\">add_4_5</a> (conjecture without proof):<br></strong> <a class=\"ProveItLink\" href=\"../__pv_it/theorems/8394bf1f5c49e2897391afea737bc1e390dcc2790/theorem_expr.ipynb\"><img src=\"data:image/png;base64,iVBORw0KGgoAAAANSUhEUgAAAGEAAAAVBAMAAACkm51HAAAAMFBMVEX///8AAAAAAAAAAAAAAAAA\n",
       "AAAAAAAAAAAAAAAAAAAAAAAAAAAAAAAAAAAAAAAAAAAv3aB7AAAAD3RSTlMAInZUiRDNmWbv3US7\n",
       "qzJazP2FAAAACXBIWXMAAA7EAAAOxAGVKw4bAAABdElEQVQ4y2NgYBBgwA5wiTMwGWCK8TEwBDJs\n",
       "wqXDBEQ8RxXj/Ja1lIGpAUNteW0AAwNrAoi5FlWGa/4SoFQquoYoBb6JDAzsIJOYYDp2QCheMNmO\n",
       "ruMmA8MZoANAzBe5UDEjZB2cAWg6vjEw+AcwmIGYDlh1sKF5hPUPA4P+BoYSkKME0HU0+T5gYGC5\n",
       "gMWOBoYMIEuCAU0HTwDjbwYGDnCgsK8CgwsQf5xXYFgMchS6DiA4xcDAPAHNjsgNfPcNGGYDzRKA\n",
       "6KhatWrmqlXQYKsXYOD7gKaDtchZ/wFIhxADuh3HgDoeMHBPwIxvYFgBXbX37t2fV1B0zGJguA90\n",
       "1QI0fzCA4+MQmDEX1Q4HBoY5QNceQLPAMoD1HwODL5j9B1WHOAPTVKDpDmg6tAJ4gFH0CsSs+X8J\n",
       "RQdj+XVgfHNtQNPB4l4NSnQPkMWMkDlS2BM7RwEybwcypwJH/jiIK+MwHsAhEYNLBw+ubMuogENC\n",
       "EbswAAoTV+m1xT4DAAAAAElFTkSuQmCC\n",
       "\" style=\"display:inline;vertical-align:middle;\" /></a><br>"
      ],
      "text/plain": [
       "<IPython.core.display.HTML object>"
      ]
     },
     "metadata": {},
     "output_type": "display_data"
    },
    {
     "data": {
      "text/html": [
       "<strong id=\"add_5_5\"><a class=\"ProveItLink\" href=\"proofs/add_5_5/thm_proof.ipynb\">add_5_5</a> (conjecture without proof):<br></strong> <a class=\"ProveItLink\" href=\"../__pv_it/theorems/78acabf0e783887acdd57b9fec56d8c065e5472b0/theorem_expr.ipynb\"><img src=\"data:image/png;base64,iVBORw0KGgoAAAANSUhEUgAAAGwAAAAVBAMAAABRZRb3AAAAMFBMVEX///8AAAAAAAAAAAAAAAAA\n",
       "AAAAAAAAAAAAAAAAAAAAAAAAAAAAAAAAAAAAAAAAAAAv3aB7AAAAD3RSTlMAInZUiRDNmWbv3US7\n",
       "qzJazP2FAAAACXBIWXMAAA7EAAAOxAGVKw4bAAABbUlEQVQ4y2NgYBBgwA4YGfABJgOGBwysaHpB\n",
       "ItwK+LSZMDDMT1sVgCoIFtHAVPwKqI7FqZCBgTWBgWHlL1c0abAIG5pZDKzX84FCyQxRAgzsDQwM\n",
       "F+ASO6A0WISjAMM2/QAGjgUMLAcYOBmQtRkha2OYik0bzwUG5q8MZni0ZWDTxl/AwPeZoQTIuaFy\n",
       "D00bRMQXm7Z4oLYfYBOPMshvQNUGEWkDMdlXgcEFmDZ5Bwa+TwyLwVyeBajaICKW2GwDafvCMBvM\n",
       "Zf8IJKpWrZq5atVaBrjIe6yOdGDg/gTSxpPAwP4PxTaoyE4cQcL8GeRIzgUMvB9QtEFFrLD5jecA\n",
       "A8dXhkPA1AJUdwBFG1SkB2t0T2BgTwAFMmMBg2YAijaoSAmGNn9gkl/MEPmA4RWQI15bihZvEJHV\n",
       "6Lruzs9tYAh3AsYp1wNkcSOUDLcAd75BTa87kDmgVI4THMQpI4Mvm8aQYSDIB7jyPpMAbk0ARAxn\n",
       "CEjVnG0AAAAASUVORK5CYII=\n",
       "\" style=\"display:inline;vertical-align:middle;\" /></a><br>"
      ],
      "text/plain": [
       "<IPython.core.display.HTML object>"
      ]
     },
     "metadata": {},
     "output_type": "display_data"
    },
    {
     "data": {
      "text/html": [
       "<strong id=\"add_6_5\"><a class=\"ProveItLink\" href=\"proofs/add_6_5/thm_proof.ipynb\">add_6_5</a> (conjecture without proof):<br></strong> <a class=\"ProveItLink\" href=\"../__pv_it/theorems/f462b9f331be3987be8fcb82bad588b532cf64ac0/theorem_expr.ipynb\"><img src=\"data:image/png;base64,iVBORw0KGgoAAAANSUhEUgAAAGsAAAAVBAMAAACzuQ2OAAAAMFBMVEX///8AAAAAAAAAAAAAAAAA\n",
       "AAAAAAAAAAAAAAAAAAAAAAAAAAAAAAAAAAAAAAAAAAAv3aB7AAAAD3RSTlMAInZUiRDNmWbv3US7\n",
       "qzJazP2FAAAACXBIWXMAAA7EAAAOxAGVKw4bAAABXElEQVQ4y2NgYBBgwA4YGfABJgMsgg8YWAW4\n",
       "FfBpMwFiF5cHqILz01YFMGhgKn4VACVYExgYxDbwLkCVXvnLlYGBLQBNE+v1/AAIwcDewMCQxMBz\n",
       "ACKxA6rgAojgKMCwTT8ASnAyMDB/hQsbIWtjmIpbmxkDA88EHNoycGsrAVqY51SNpu2Gyj0g6Ytb\n",
       "G9BE/gwGTgNUbUcZ5DcwMLSBmOyrwOACqrbFDAzxHxjYp6JqA7ocGLaWuG2bDdS2gIHjN5BbtWrV\n",
       "zFWr1kIUsH9kYHiPVxt/AgPHDxTbeBIY2P8xMOzErW0x2D1g2xDaOBcw8H5gYLDC7bdDwHgD+m0C\n",
       "ijYWoE5gAujBbRsokI8wRKKGJGMBgyYkctCAvwCUeAUyvPweWryJ15YCydXouu7Oz22AEFwoad8I\n",
       "JcMtwJ1vUNPrDmQOKJXjBAdxysjgy6YxZBgI8gGuvM8kgFsTAN9sXh3pTfJ9AAAAAElFTkSuQmCC\n",
       "\" style=\"display:inline;vertical-align:middle;\" /></a><br>"
      ],
      "text/plain": [
       "<IPython.core.display.HTML object>"
      ]
     },
     "metadata": {},
     "output_type": "display_data"
    },
    {
     "data": {
      "text/html": [
       "<strong id=\"add_7_5\"><a class=\"ProveItLink\" href=\"proofs/add_7_5/thm_proof.ipynb\">add_7_5</a> (conjecture without proof):<br></strong> <a class=\"ProveItLink\" href=\"../__pv_it/theorems/c71dc51dbf76d31c89bbb8afa3313b2d09f628950/theorem_expr.ipynb\"><img src=\"data:image/png;base64,iVBORw0KGgoAAAANSUhEUgAAAGwAAAAVBAMAAABRZRb3AAAAMFBMVEX///8AAAAAAAAAAAAAAAAA\n",
       "AAAAAAAAAAAAAAAAAAAAAAAAAAAAAAAAAAAAAAAAAAAv3aB7AAAAD3RSTlMAInZUiRDNmWbv3US7\n",
       "qzJazP2FAAAACXBIWXMAAA7EAAAOxAGVKw4bAAABhklEQVQ4y52TMUvDUBDH/2kaY9oG4lQEwQ4K\n",
       "OilFBJ1cdNPmAzh0EhexQzUgCF10UhDEQRwacBCjhY51i4K4STddlA5OXWxBEQVbL2mG5OWlgwe5\n",
       "l7t3v3fvHXcANPBFQD+JTQt7IWcDkpbM9MNmIHa73e+gs7xm6ZgIBzd1IL39CEh5xB8M4zy4ffmz\n",
       "CAzoDCQ9beoQbOSqkEuI0zsKvY2aF1B31GAhlG1Kh6pBOYICiIDqubN+DCc8TPmE2sasa65wsXVu\n",
       "NhNqB0W31jaDPY+9kl7mYSSJVu9Etcpg9xgl177zK1uu1H3YewZuCYfBYEDKBOYislWAM2ddcn07\n",
       "lnVqWZVegNymU/mYbHvYNZMtlYfcAW742CF9ziWlXwZTqFotYJ77NnEBQ7gjI/nFYNQACt3kgJvt\n",
       "DRh3iyx+MBg1zSQFFENYToNwYRgmmk7UMVvJ9O4W6SuWeilvlBLU+HkkGn5/NjBwZvTcBPu15jeo\n",
       "y6PlNnJnpN+Yrv7jQOcFUbMf06KhP1e8YR1poT04AAAAAElFTkSuQmCC\n",
       "\" style=\"display:inline;vertical-align:middle;\" /></a><br>"
      ],
      "text/plain": [
       "<IPython.core.display.HTML object>"
      ]
     },
     "metadata": {},
     "output_type": "display_data"
    },
    {
     "data": {
      "text/html": [
       "<strong id=\"add_8_5\"><a class=\"ProveItLink\" href=\"proofs/add_8_5/thm_proof.ipynb\">add_8_5</a> (conjecture without proof):<br></strong> <a class=\"ProveItLink\" href=\"../__pv_it/theorems/ccc437abe774ec978dd89520fc6fa63d29e63cc60/theorem_expr.ipynb\"><img src=\"data:image/png;base64,iVBORw0KGgoAAAANSUhEUgAAAGwAAAAVBAMAAABRZRb3AAAAMFBMVEX///8AAAAAAAAAAAAAAAAA\n",
       "AAAAAAAAAAAAAAAAAAAAAAAAAAAAAAAAAAAAAAAAAAAv3aB7AAAAD3RSTlMAInZUiRDNmWbv3US7\n",
       "qzJazP2FAAAACXBIWXMAAA7EAAAOxAGVKw4bAAABkklEQVQ4y52TPUjDQBTH/62NaUw/MgguBTs4\n",
       "6CCGIoIuXRQnMYOj0CyKixiwUrAImZxcHcShFReNCG7WzQpOLtl0UTsXxI/SRcT6rtXSSy8dfMPl\n",
       "7uX97n3cewA0iCWAXhLUBcoKJE1N9sImgaXZvEdZWHUMjHYbVw1gcP4OkEzAQtTj8vRzDug3PJB0\n",
       "v2FAspDWIdsI202YSenXwGVL2OryNmEgWEPGhAKE3DaW6sSwL8LUQ8RNTAF9Xwb5FGBrIowkbSNL\n",
       "n+ePTfDYw8gTrQtiTD1p3Sg3jjzYLYYvgF22lZ2muG0sNk5XHrM3SDR0HgMiRWDaL0gdh82KpVn2\n",
       "245z4DjnLQP5HXj1wZQ6wxQDgRrnLWJC/gauRFisgkiNBZlhNeAwpYjoGzAjyi1eZ9gNGVEzlzks\n",
       "RMprYE/kTXFZkFRkdQXhJIcFLIxRFtkubFFjPUXvVqXDSy7veYChnS1az7zUY2HdxmWOWnmg0qlP\n",
       "cQNX9J8bvl9LnYe/jhNK2fdPoteYLv/jQpaB3+wHNX/oB9z0ZOesjcOLAAAAAElFTkSuQmCC\n",
       "\" style=\"display:inline;vertical-align:middle;\" /></a><br>"
      ],
      "text/plain": [
       "<IPython.core.display.HTML object>"
      ]
     },
     "metadata": {},
     "output_type": "display_data"
    },
    {
     "data": {
      "text/html": [
       "<strong id=\"add_9_5\"><a class=\"ProveItLink\" href=\"proofs/add_9_5/thm_proof.ipynb\">add_9_5</a> (conjecture without proof):<br></strong> <a class=\"ProveItLink\" href=\"../__pv_it/theorems/3009253ef7d7ab56fa495c5c67dc6b89e289f95f0/theorem_expr.ipynb\"><img src=\"data:image/png;base64,iVBORw0KGgoAAAANSUhEUgAAAGwAAAAVBAMAAABRZRb3AAAAMFBMVEX///8AAAAAAAAAAAAAAAAA\n",
       "AAAAAAAAAAAAAAAAAAAAAAAAAAAAAAAAAAAAAAAAAAAv3aB7AAAAD3RSTlMAInZUiRDNmWbv3US7\n",
       "qzJazP2FAAAACXBIWXMAAA7EAAAOxAGVKw4bAAABiklEQVQ4y52TO0gDQRCG/5w5L9ELHjZaCFqk\n",
       "0Eo5RNAqhZbidTZCUolNMIUSEIVUVhY2KSRIQsTCk0DKWAhRECyDKNpErvMB4gvBF+rsXZTsZS+F\n",
       "U8zuzs43s48ZABrE4kMzkYYERguy1t7XDBsGlOSZy5idNQ30NzrfGkxfAXIMch43rpPuvE8ArYYL\n",
       "ks/nbVOBMqUQWodadjZKNYcKU4FEQ7ZBhkmEBYGOGPwvjlmvx5AWY9dxYASIliF9iLA5MRYhbMHJ\n",
       "9spjF+FL0pNCTNLidkR2tyceO0JvEVhlU8W0pfKHdYOwLXqgDO6eeQxQc8CoMFuEYRlaTIf1LxqW\n",
       "THPDNAuOg/II3IuwgPaLwf2SagwKBdoTYZ2oHZL5lTksmEPoARgT3W2/Wn07xSHQkkbU4jA/kRRo\n",
       "TfwB2LQfWdrGMTjMl8CAYX+OS6bsIvyk4qRhPFnkMXStLJLedVPVbDwFLH+foM2qt+tcw+W8+4av\n",
       "11L9gqrcWw48d3qatenMPwKyG3j1vqR5Qz9urGV5GzPWjwAAAABJRU5ErkJggg==\n",
       "\" style=\"display:inline;vertical-align:middle;\" /></a><br>"
      ],
      "text/plain": [
       "<IPython.core.display.HTML object>"
      ]
     },
     "metadata": {},
     "output_type": "display_data"
    }
   ],
   "source": [
    "add_0_5, add_1_5, add_2_5, add_3_5, add_4_5, add_5_5, add_6_5, add_7_5, add_8_5, add_9_5 = [Equals(Add(num(n), num(5)), num(n+5)) for n in range(10)]"
   ]
  },
  {
   "cell_type": "code",
   "execution_count": 23,
   "metadata": {},
   "outputs": [
    {
     "data": {
      "text/html": [
       "<strong id=\"add_0_6\"><a class=\"ProveItLink\" href=\"proofs/add_0_6/thm_proof.ipynb\">add_0_6</a> (conjecture without proof):<br></strong> <a class=\"ProveItLink\" href=\"../__pv_it/theorems/1904b39b29edb0b6d099dd7271b22cecb467b5ac0/theorem_expr.ipynb\"><img src=\"data:image/png;base64,iVBORw0KGgoAAAANSUhEUgAAAGEAAAAVBAMAAACkm51HAAAAMFBMVEX///8AAAAAAAAAAAAAAAAA\n",
       "AAAAAAAAAAAAAAAAAAAAAAAAAAAAAAAAAAAAAAAAAAAv3aB7AAAAD3RSTlMAInZUiRDNmWbv3US7\n",
       "qzJazP2FAAAACXBIWXMAAA7EAAAOxAGVKw4bAAABY0lEQVQ4y3WTPUjDQBTH/2kSk9oQnV2sk6sU\n",
       "cTUUwUnJJopgQATBpYKDCkI2RwuCIF0KbgEhdOoY3RSHzA7SwclJ/Cjioi95RXJn7obc3e/ld3fv\n",
       "PgBMoryoOCpzikBPZcwDRnNfgsbSKirhv38zDDMAtrEhLkHbwyOwIwuMrRB2F0bCrM/VWB0PwKls\n",
       "MK4CTgr9k1mDq0U/+1Z9yWC8AEy04L4Lxh0PKSfC+ADYIuNLMC6eZ2PKM5UMxrvAtAf3TTCGIc4B\n",
       "O8jaVpSX9A9fsfFRNMwf4MiH3hanGOEOrcpDLZvjOIouo+iaQt/AWQz3VTIYd/LMdTHzIYVC1KQ5\n",
       "RphW5SSwxd29zwfTu1IejG8pwzasQDwPWjDxRD6PHK8gy359IBiOZ9KmWJ5kMH6h1lrzCYKB5RMa\n",
       "YjyWrwnjQRE1ip2p8stut4q9frFzqHgfN6qHoyWKwKbKcFTPVqsrAjPl+Be622Fh9sqPqQAAAABJ\n",
       "RU5ErkJggg==\n",
       "\" style=\"display:inline;vertical-align:middle;\" /></a><br>"
      ],
      "text/plain": [
       "<IPython.core.display.HTML object>"
      ]
     },
     "metadata": {},
     "output_type": "display_data"
    },
    {
     "data": {
      "text/html": [
       "<strong id=\"add_1_6\"><a class=\"ProveItLink\" href=\"proofs/add_1_6/thm_proof.ipynb\">add_1_6</a> (conjecture without proof):<br></strong> <a class=\"ProveItLink\" href=\"../__pv_it/theorems/09fd667ce0339f9358616b0cbfd9cf960fdac1070/theorem_expr.ipynb\"><img src=\"data:image/png;base64,iVBORw0KGgoAAAANSUhEUgAAAGIAAAAVBAMAAABPrCZEAAAAMFBMVEX///8AAAAAAAAAAAAAAAAA\n",
       "AAAAAAAAAAAAAAAAAAAAAAAAAAAAAAAAAAAAAAAAAAAv3aB7AAAAD3RSTlMAInZUiRDNmWbv3US7\n",
       "qzJazP2FAAAACXBIWXMAAA7EAAAOxAGVKw4bAAABUElEQVQ4y2NgYBBgwA5wiTMwGeCQ2IQhIhEA\n",
       "pkyA+FUAmhyLix8DUwO6Dvv///9PYGBNYGC9no+mgzGb4RYDQyq6Dp/y8ioDBnaQSfowHTsgFJsC\n",
       "wxkGhnZ0HQ4MDOIMDJwMyDqMoNaD+ZzobgX6+AIDgxk2HSchNmF4hIHlAQNDCTYd056obwBKX8DQ\n",
       "IQPEGdh0fGtgmMzAwJEAYrOvAgOI7ttAvBiLDtb/DAyVAQzME9CtYASJzEboqFq1auaqVWuBOn4x\n",
       "MPRvYOD7gOGNBFQdSK4C6mhg4Mawg+sADlcxnALbwbwA3R/xIPIQ1vgA+gPo8wPoduwvABK+IJa/\n",
       "AKoOHgdWYFixO2AkLJDIKyC+Oz+3AUUHg3stMKq4NqDrkASlc64HyEJGyBwp7LmAowCZtwOZU4Ej\n",
       "4xzEldUYD+CQiMGlgwdXtmVUwCGhiF0YAITZUkUG10fHAAAAAElFTkSuQmCC\n",
       "\" style=\"display:inline;vertical-align:middle;\" /></a><br>"
      ],
      "text/plain": [
       "<IPython.core.display.HTML object>"
      ]
     },
     "metadata": {},
     "output_type": "display_data"
    },
    {
     "data": {
      "text/html": [
       "<strong id=\"add_2_6\"><a class=\"ProveItLink\" href=\"proofs/add_2_6/thm_proof.ipynb\">add_2_6</a> (conjecture without proof):<br></strong> <a class=\"ProveItLink\" href=\"../__pv_it/theorems/07cd5be63a9d33ef0a1a060665d66a91320d20cf0/theorem_expr.ipynb\"><img src=\"data:image/png;base64,iVBORw0KGgoAAAANSUhEUgAAAGEAAAAVBAMAAACkm51HAAAAMFBMVEX///8AAAAAAAAAAAAAAAAA\n",
       "AAAAAAAAAAAAAAAAAAAAAAAAAAAAAAAAAAAAAAAAAAAv3aB7AAAAD3RSTlMAInZUiRDNmWbv3US7\n",
       "qzJazP2FAAAACXBIWXMAAA7EAAAOxAGVKw4bAAABiUlEQVQ4y3WTP0jDQBTGvzSN/WNT4iS4GAfp\n",
       "Woq4tkKhk5rJyaGLILg4iK2CGFzqIlZEQVwKDkJACA7SMQoOiqjgIDh16ORiRRTsYHy5LLmjd4R3\n",
       "d9+7X969e3cADAxuMh2xvMRxKSOmgNH1R0GMl+cQs8WlWrnikq1C8TDvci5lBW/AkkgkgBeyNnQD\n",
       "qWaotcNuyMQD0BCJXWABSNH3Df0z1AphV7QCm7IEYpYR04Degv7HEXdhJDGR4i3qwBobp3sccdzN\n",
       "UWLxZ4HQ/Rwd7DIbf5gc8WPjEEhWWboOa4ze7lORztiSC0QJzQc2LKhNIYY68/QFnLL/eIHddJwT\n",
       "xyFY6wP7LrI9gWhA/bVCYg/gd0WEjWExxhEwnme7UksY4Yh7FkNt8XloFFO3cUNiF5jk60F5UOae\n",
       "EOMAyBhBVZTzWq3FEZmSRmeVKAnElYUd4J2K4ft+lSNQ2eqQ7gpE9rVGUroT1QrRydjgy55cjc7a\n",
       "0Uld8j6uZQ9H8SSORRmRkT1bxZQ4JgbL/2T9Xo9mL6QWAAAAAElFTkSuQmCC\n",
       "\" style=\"display:inline;vertical-align:middle;\" /></a><br>"
      ],
      "text/plain": [
       "<IPython.core.display.HTML object>"
      ]
     },
     "metadata": {},
     "output_type": "display_data"
    },
    {
     "data": {
      "text/html": [
       "<strong id=\"add_3_6\"><a class=\"ProveItLink\" href=\"proofs/add_3_6/thm_proof.ipynb\">add_3_6</a> (conjecture without proof):<br></strong> <a class=\"ProveItLink\" href=\"../__pv_it/theorems/5e93ae37dc56e16c82433eb13c0776845e00095b0/theorem_expr.ipynb\"><img src=\"data:image/png;base64,iVBORw0KGgoAAAANSUhEUgAAAGEAAAAVBAMAAACkm51HAAAAMFBMVEX///8AAAAAAAAAAAAAAAAA\n",
       "AAAAAAAAAAAAAAAAAAAAAAAAAAAAAAAAAAAAAAAAAAAv3aB7AAAAD3RSTlMAInZUiRDNmWbv3US7\n",
       "qzJazP2FAAAACXBIWXMAAA7EAAAOxAGVKw4bAAABg0lEQVQ4y3WTO0gDQRCG/ySueR0XCyursxIE\n",
       "SQgiWCWgkEq9VhFMIwg2QYT4ILCdpRFBkDQBGzkQDhtTRjuNYFot9AorKyEkhYg6d2txt7ndYnYe\n",
       "+zEzO7sAxhC+VH5Ec4rAtYqYBcZLHck5sriMKB86W62ZACuDVVAIJops4wXYlIE1Qz8B4hzRHjbK\n",
       "wtcS26iBR+BIJp7hupNAuoHMP5EXW8F0ZdKUiAGwYmJOHOEB4l5kkhph30DWxq6rpy8RIM7ep2xq\n",
       "vxuSg2OLNH3mNUgMOE6BhFdq3PJWV/TxZOBCVJXzE+wX2DcRq0s5Vm39LYeGpyf7JA4s69yyroj4\n",
       "Ao5t6J8SwXYWso5L6A60XrAqIjjS9eF5011RVZm+TDx4OWJNqQ9487ijkrqiKt88qA/qvC0lmDfZ\n",
       "D7BEES7PQysyuqt4USKmTY3OfZB2U+0EbxelmgOkbPl9lg5Jphy/L+83JsIfe6Lit1p+Y0/xP25V\n",
       "HyfSVgTWVYSm+rYRQxGYDHf/ARUlXwuKD3XCAAAAAElFTkSuQmCC\n",
       "\" style=\"display:inline;vertical-align:middle;\" /></a><br>"
      ],
      "text/plain": [
       "<IPython.core.display.HTML object>"
      ]
     },
     "metadata": {},
     "output_type": "display_data"
    },
    {
     "data": {
      "text/html": [
       "<strong id=\"add_4_6\"><a class=\"ProveItLink\" href=\"proofs/add_4_6/thm_proof.ipynb\">add_4_6</a> (conjecture without proof):<br></strong> <a class=\"ProveItLink\" href=\"../__pv_it/theorems/b1e0177fcbb769564e9ca392acaa9a615ce920d30/theorem_expr.ipynb\"><img src=\"data:image/png;base64,iVBORw0KGgoAAAANSUhEUgAAAGwAAAAVBAMAAABRZRb3AAAAMFBMVEX///8AAAAAAAAAAAAAAAAA\n",
       "AAAAAAAAAAAAAAAAAAAAAAAAAAAAAAAAAAAAAAAAAAAv3aB7AAAAD3RSTlMAInZUiRDNmWbv3US7\n",
       "qzJazP2FAAAACXBIWXMAAA7EAAAOxAGVKw4bAAABhElEQVQ4y2NgYBBgwA4YGfABJgMcEtwK+LSZ\n",
       "gIjn6KIuLg8YNDAVvwpgYGBxKmRgYE0AcdeiSYtt4F3AwBaAJsp6PR8olMwQJcDA3gByKEzbDiid\n",
       "xMBzgIGjAMM2/QAGjgUMLAcYOEG8F7lQYSMIxfwVTE3Fpo3nAkjaDMRzQNPGMwFMZWDTxl/AwPeZ\n",
       "oQTkRgE0bZx5TtVAyhebtnigth9gEyUY0LTxZzBwAuOlDcRmXwUGF2Da5B0Y+D4xLAa5EV1b/AcG\n",
       "dqDHLLHZBtL2hWE2AwOHAERb1apVM1etAgVq/AIGjt8MDO+xOtKBgfsTSJsQA4YjExg4fjAw7MQR\n",
       "JMyfQY7ce/fuzyuoIQmxzQqb30AR+pXhEJg7Fy3egH4DxkEP1uiewMCeAA3kP6jaGI4wRAJDsgRD\n",
       "mz8wuyxmiHzA8ArEq/l/CVUbS/k9ILkaXdfd+bkNDOFOQDmuB8jiRigZbgHufIOaXncgc8CpHBc4\n",
       "iFNGBl82jSHDQJAPcOV9JgHcmgCjqGR+3HHafAAAAABJRU5ErkJggg==\n",
       "\" style=\"display:inline;vertical-align:middle;\" /></a><br>"
      ],
      "text/plain": [
       "<IPython.core.display.HTML object>"
      ]
     },
     "metadata": {},
     "output_type": "display_data"
    },
    {
     "data": {
      "text/html": [
       "<strong id=\"add_5_6\"><a class=\"ProveItLink\" href=\"proofs/add_5_6/thm_proof.ipynb\">add_5_6</a> (conjecture without proof):<br></strong> <a class=\"ProveItLink\" href=\"../__pv_it/theorems/a98e2bee651e04b1143beacdb3a09304eaea7bec0/theorem_expr.ipynb\"><img src=\"data:image/png;base64,iVBORw0KGgoAAAANSUhEUgAAAGsAAAAVBAMAAACzuQ2OAAAAMFBMVEX///8AAAAAAAAAAAAAAAAA\n",
       "AAAAAAAAAAAAAAAAAAAAAAAAAAAAAAAAAAAAAAAAAAAv3aB7AAAAD3RSTlMAInZUiRDNmWbv3US7\n",
       "qzJazP2FAAAACXBIWXMAAA7EAAAOxAGVKw4bAAABV0lEQVQ4y2NgYBBgwA4YGfABJgOGBwysWPRy\n",
       "K+DTZsLAMD9tVQCaqIvLAwYNTMWvAqAEawIDw8pfrmjSYht4FzCwoZvFej0/AEIwsDcwMFyAS+yA\n",
       "0kkMPAcYOAowbNMPgBKcDMjajCAU81cwNRW3NjNs2ngmgKkM3NpKgPQNlXuo2jjznKqBlC9ubSAT\n",
       "jzLIb0DRxp/BwGnAwNAGYrOvAoMLqNoWQ1y1AEVb/AcGdqDHLHHbNhvMZf8IJKpWrZq5atVakLYF\n",
       "DBy/GRje49XGk8DA/g/VkQkMHD8YGHbi1gZ0JOcCBt4PqCEJsc0Kt98OMTCwAHUeQI03oN+AcdCD\n",
       "2zZgIDMWMGgGoGhjOMIQaQCJHFTgLwAlXgFp8dpS1HhjYCkHxeRqdF135+c2QAiuB8jiRigZbgHu\n",
       "fIOaXncgc0CpHCc4iFNGBl82jSHDQJAPcOV9JgHcmgDV7l4d7Tw2hwAAAABJRU5ErkJggg==\n",
       "\" style=\"display:inline;vertical-align:middle;\" /></a><br>"
      ],
      "text/plain": [
       "<IPython.core.display.HTML object>"
      ]
     },
     "metadata": {},
     "output_type": "display_data"
    },
    {
     "data": {
      "text/html": [
       "<strong id=\"add_6_6\"><a class=\"ProveItLink\" href=\"proofs/add_6_6/thm_proof.ipynb\">add_6_6</a> (conjecture without proof):<br></strong> <a class=\"ProveItLink\" href=\"../__pv_it/theorems/493ee42998780be3c621f359dea20de65b07eda60/theorem_expr.ipynb\"><img src=\"data:image/png;base64,iVBORw0KGgoAAAANSUhEUgAAAGwAAAAVBAMAAABRZRb3AAAAMFBMVEX///8AAAAAAAAAAAAAAAAA\n",
       "AAAAAAAAAAAAAAAAAAAAAAAAAAAAAAAAAAAAAAAAAAAv3aB7AAAAD3RSTlMAInZUiRDNmWbv3US7\n",
       "qzJazP2FAAAACXBIWXMAAA7EAAAOxAGVKw4bAAABcElEQVQ4y52TPUjDQBiG37TWNDGhcdHFoYvg\n",
       "Ziki6CTSVZpVECxOXfwZigFdOjkpZOkgDgYchEihY92iOIubk+Lg1KV1KAiC8ZIcJZfcZfCDI7nn\n",
       "7rnvfgEY4IeErMhVBA0z5SxthZRa7SNBA7KU7jwwgfnjZ6DQAOZ6usM2h2TaTEiF10MTkod6D3Ib\n",
       "2IPmRQ192iEkxaNUtmUTugHFhgLkxxNcjT6UdHiaMob+hVVAs5MaJU1uNgf6L1qAcrB5ymqUbPE0\n",
       "EuooGLHUhFJhNErOgn/ZDeMlpg3LuAF2R5A7jEbJmiBbF7ginRwUf0jtxHUvXbeLCRnyNdkLtVID\n",
       "xW92khG552sXpJBJajRbbCcjss5dW34Ds3gkX7ISmz23iJxzs30Ci+EmP2Gb3UlKWimtbkC6tSwH\n",
       "A1KZst7Zc6PkLmm9Xe+3Vd/3G1CZu19lHpwjfjfsfe3HK8EtF8aDsGUh65nu/GPAYAWit58zxNIf\n",
       "fIFmmg2LS/cAAAAASUVORK5CYII=\n",
       "\" style=\"display:inline;vertical-align:middle;\" /></a><br>"
      ],
      "text/plain": [
       "<IPython.core.display.HTML object>"
      ]
     },
     "metadata": {},
     "output_type": "display_data"
    },
    {
     "data": {
      "text/html": [
       "<strong id=\"add_7_6\"><a class=\"ProveItLink\" href=\"proofs/add_7_6/thm_proof.ipynb\">add_7_6</a> (conjecture without proof):<br></strong> <a class=\"ProveItLink\" href=\"../__pv_it/theorems/5d3dfa4ae25d4391ae57951677f16d431436adb20/theorem_expr.ipynb\"><img src=\"data:image/png;base64,iVBORw0KGgoAAAANSUhEUgAAAGwAAAAVBAMAAABRZRb3AAAAMFBMVEX///8AAAAAAAAAAAAAAAAA\n",
       "AAAAAAAAAAAAAAAAAAAAAAAAAAAAAAAAAAAAAAAAAAAv3aB7AAAAD3RSTlMAInZUiRDNmWbv3US7\n",
       "qzJazP2FAAAACXBIWXMAAA7EAAAOxAGVKw4bAAABjUlEQVQ4y2NgYBBgwA4YGfABJgPGVqwS3Ar4\n",
       "tJkwMP////8nmqiLywMGDUzFrwIYGETcTzMwsCYwsBwvL1+MKi22gXcBA1sAmibW6/kBDKwFDPYG\n",
       "DOwNDCxAfxRAJHZAFSQx8Bxg4CjAsE0/gIHpM0N8AgMnAwMzAwMvVNgIQjF/BVNTsWnjns3An8Bg\n",
       "Bub6oWrjmQCmMrBpAwL7BoYScFgfQNXGmedUDaR8sWvjXgE1kXcDqjb+DAZOAwaGNhCbfRUYXIBr\n",
       "49O9x8AADkJJBlRt8R8Y2IEes8TlSAOG2SDaDSxWtWrVzFWr1oK0LWDg+M3A8B6HNs6vEG1r0GwD\n",
       "BhXHDwaGndi08T1g4PkMdiTrXzRtPBDbrLD5jf8rSNshUNB8R9PGDPQbMA56sNnGeQHkSFAgM39B\n",
       "08ZwhCESGJIlGNr8BRg4GkDx9goUbZPRtbGUAwOZYTW6rrvzcxsYtpcDkzLXA2RxI5QMtwB3vkFN\n",
       "rzuQOcBUjhscxCkjgy+bxpBhIMgHuPI+kwBuTQChimDtWpgEZAAAAABJRU5ErkJggg==\n",
       "\" style=\"display:inline;vertical-align:middle;\" /></a><br>"
      ],
      "text/plain": [
       "<IPython.core.display.HTML object>"
      ]
     },
     "metadata": {},
     "output_type": "display_data"
    },
    {
     "data": {
      "text/html": [
       "<strong id=\"add_8_6\"><a class=\"ProveItLink\" href=\"proofs/add_8_6/thm_proof.ipynb\">add_8_6</a> (conjecture without proof):<br></strong> <a class=\"ProveItLink\" href=\"../__pv_it/theorems/2abc6c7f6a1cc81d741c2251fc8691f057e23a6d0/theorem_expr.ipynb\"><img src=\"data:image/png;base64,iVBORw0KGgoAAAANSUhEUgAAAGwAAAAVBAMAAABRZRb3AAAAMFBMVEX///8AAAAAAAAAAAAAAAAA\n",
       "AAAAAAAAAAAAAAAAAAAAAAAAAAAAAAAAAAAAAAAAAAAv3aB7AAAAD3RSTlMAInZUiRDNmWbv3US7\n",
       "qzJazP2FAAAACXBIWXMAAA7EAAAOxAGVKw4bAAABjElEQVQ4y2NgYBBgwA4YGfABJgMcEtwK+LSZ\n",
       "MDCEuFSji7q4PGDQwFT8KgBEPmdgYE1gYChg4EWzUmwD7wIGtgA0TazX88FCaxkY2BsYOBrAmkFg\n",
       "B1RBEgPPAQaOAgzb9EHamIDaOBkYWC7AtRlBKOavYGoqdm0vchkYzICK/gQA7UTWxjMBTGVg1+YA\n",
       "1FYCpO9/KmZA0caZ5wQKJF+s2pgEciEmsv9fiKqNP4OBExhIbSA2+yowuADXJsEA1LYYFAcy/w1Q\n",
       "tMV/YGAHeswSq20OIG2zGUAhZg/yfdWqVTNXrVoL0raAgeM3A8N7bNo4BKDaOAMYGD+jOjKBgeMH\n",
       "A8NObNqEGKCOjAfyb6CGJMQ2K2x+23v37s8rDIeAtgET80HUeAP6DRgHPdgjgGEuOJC5Uxk4FFC0\n",
       "MRxhiDSARA4q8Adnlz/AxAmk3pZXo0YAA0v5PSC5Gl3X3fm5wHRR8/8SA9cDZHEjlAy3AHe+QU2v\n",
       "O5A5sBSHFRzEKSODL5vGkGEgyAe48j6TAG5NAFgzYsBRq4uHAAAAAElFTkSuQmCC\n",
       "\" style=\"display:inline;vertical-align:middle;\" /></a><br>"
      ],
      "text/plain": [
       "<IPython.core.display.HTML object>"
      ]
     },
     "metadata": {},
     "output_type": "display_data"
    },
    {
     "data": {
      "text/html": [
       "<strong id=\"add_9_6\"><a class=\"ProveItLink\" href=\"proofs/add_9_6/thm_proof.ipynb\">add_9_6</a> (conjecture without proof):<br></strong> <a class=\"ProveItLink\" href=\"../__pv_it/theorems/a362db44f1192c830b610f527fb9a297b69738ec0/theorem_expr.ipynb\"><img src=\"data:image/png;base64,iVBORw0KGgoAAAANSUhEUgAAAGwAAAAVBAMAAABRZRb3AAAAMFBMVEX///8AAAAAAAAAAAAAAAAA\n",
       "AAAAAAAAAAAAAAAAAAAAAAAAAAAAAAAAAAAAAAAAAAAv3aB7AAAAD3RSTlMAInZUiRDNmWbv3US7\n",
       "qzJazP2FAAAACXBIWXMAAA7EAAAOxAGVKw4bAAABk0lEQVQ4y52UMUjDQBSG/9bGNNrSTLoIduig\n",
       "k6WIoKPUUcwmgtDiIF3UDkpBETo5OXTpIB0aFAcjQse6RVFw7CK6KFktiFURRKH4LhHppXcdfMu7\n",
       "e5fv3v3v3QWADrEF0MuCScnCYFwcd6BQpklALdz619JpB2PdSNMAqquWASUL5RBPvpMO1aIm+g0f\n",
       "pNxtUOjka44yFREtIWJ7C/XfD1ZYJJzvyjZBWIMNNCCWRejDC6c81+dNy3JsCsjYCH5zWKTkupwc\n",
       "2/SyfXKYtj67Q25eiN0nHt0dmbY3DovloFFf9thYtVxr/GHXGK3hiApUwfM7h2VaUEnYtDAbaTBR\n",
       "IbeYSLXJbVvWgWWdMcxEmNS+SDD11cXgrySpDZPacxEWyUJts0OytDZfSS/bjEibZiLawiV1qYyM\n",
       "w/eNtFEP9kXZQlRomxU5eIwbcBiusJR0m+OzBR2BPMYNNNm9LdR8WKhAvcGpn3qorhUxvLsFDDid\n",
       "8RT34Ez5c+Pva71zQrdcbhfSlZFer3v5HxsyBXHZ30KXQz9YeGkRt7yN7AAAAABJRU5ErkJggg==\n",
       "\" style=\"display:inline;vertical-align:middle;\" /></a><br>"
      ],
      "text/plain": [
       "<IPython.core.display.HTML object>"
      ]
     },
     "metadata": {},
     "output_type": "display_data"
    }
   ],
   "source": [
    "add_0_6, add_1_6, add_2_6, add_3_6, add_4_6, add_5_6, add_6_6, add_7_6, add_8_6, add_9_6 = [Equals(Add(num(n), num(6)), num(n+6)) for n in range(10)]"
   ]
  },
  {
   "cell_type": "code",
   "execution_count": 24,
   "metadata": {},
   "outputs": [
    {
     "data": {
      "text/html": [
       "<strong id=\"add_0_7\"><a class=\"ProveItLink\" href=\"proofs/add_0_7/thm_proof.ipynb\">add_0_7</a> (conjecture without proof):<br></strong> <a class=\"ProveItLink\" href=\"../__pv_it/theorems/7d0a9293ce03c525ae21fb0392a0e4177c946c750/theorem_expr.ipynb\"><img src=\"data:image/png;base64,iVBORw0KGgoAAAANSUhEUgAAAGIAAAAVBAMAAABPrCZEAAAAMFBMVEX///8AAAAAAAAAAAAAAAAA\n",
       "AAAAAAAAAAAAAAAAAAAAAAAAAAAAAAAAAAAAAAAAAAAv3aB7AAAAD3RSTlMAInZUiRDNmWbv3US7\n",
       "qzJazP2FAAAACXBIWXMAAA7EAAAOxAGVKw4bAAABWElEQVQ4y3WTPUvDUBSG3zTVxDZENz8Q1H9Q\n",
       "irg2dFboJorQgAiOEYRKp26uWcWl4BYQxKmb0V+QXZDOTuIHuMVz7gXJvTc3kI/7HJ6c84ZcACuo\n",
       "P2wcjY7J1gZ0eazHwC7Q7F+opV5ZlmljohsCYyEGTnGsjrA/Go07ONMNib0J/CmauWQzeYuAVeBa\n",
       "NyReAoIC7o9kXXmjaAWVBpoh8R6wnCD8UgyKNgcWjSACXwJDMn41Y5PLhWEwPge2IoSfmvFKpx/z\n",
       "k5eJo/jHd9L4Vg0npYub6i0EvqWpIrS5xzjLbrLsXszLrw8/jBixNCi5qyVv8dduGz0EpqmCHL76\n",
       "dTHksd2pnkPgF0qYwotV4ynh5LneQ+AD0edorhq9iN8eGT8Wk3c6D/tvUI11/qFbD7oh8byKutXF\n",
       "Rv328JPqalZdXFl21LNtqzm5pXBiMwLbtnW2LYWdevwHkFdWDcTdV70AAAAASUVORK5CYII=\n",
       "\" style=\"display:inline;vertical-align:middle;\" /></a><br>"
      ],
      "text/plain": [
       "<IPython.core.display.HTML object>"
      ]
     },
     "metadata": {},
     "output_type": "display_data"
    },
    {
     "data": {
      "text/html": [
       "<strong id=\"add_1_7\"><a class=\"ProveItLink\" href=\"proofs/add_1_7/thm_proof.ipynb\">add_1_7</a> (conjecture without proof):<br></strong> <a class=\"ProveItLink\" href=\"../__pv_it/theorems/0f9f6c7d0a90715e82b34be32881073d6b6b37740/theorem_expr.ipynb\"><img src=\"data:image/png;base64,iVBORw0KGgoAAAANSUhEUgAAAGEAAAAVBAMAAACkm51HAAAAMFBMVEX///8AAAAAAAAAAAAAAAAA\n",
       "AAAAAAAAAAAAAAAAAAAAAAAAAAAAAAAAAAAAAAAAAAAv3aB7AAAAD3RSTlMAInZUiRDNmWbv3US7\n",
       "qzJazP2FAAAACXBIWXMAAA7EAAAOxAGVKw4bAAABWUlEQVQ4y2NgYBBgwA5wiTMwGWCKSQQAiU24\n",
       "dJgA8asAVDH7////T2BqQFfK6uK+AUgmMLBez0fT4VNeXmXAkIqug52B4TKQBJmkD9OxA0I5MDCI\n",
       "MzC0o+voYGAIY2DgZEDWYQShgF67AJRCs5nBF6zDDJsOBgaWBwwMbOgesT/KUMHAUIJdhwxI1wU0\n",
       "Hbz/1YG2Z2DXcRuIORLA3l0FBmDd9b+AkbQYqw7GCUCCeQKaHcyO5z8zMMxG6KhatWrmqlVrwd4A\n",
       "Gc/3AU1HOwPzzwBkHUh2cB0AEtzodkxlYJA3wOGqeJCzmReg+oMVaCdvA8MhrDr2F4B8fgDNjokM\n",
       "DDwCoFhhYPAXQNNh7wAy3QFNx7YAhiZgIgSy7s7PbUDVIQlK0Fwb0HTwXS8HCnE9QBYzQuZIYU/s\n",
       "HAXIvB3InAoc+eMgrozDeACHRAwuHTy4si2jAg4JRezCADw4UO+cqrdyAAAAAElFTkSuQmCC\n",
       "\" style=\"display:inline;vertical-align:middle;\" /></a><br>"
      ],
      "text/plain": [
       "<IPython.core.display.HTML object>"
      ]
     },
     "metadata": {},
     "output_type": "display_data"
    },
    {
     "data": {
      "text/html": [
       "<strong id=\"add_2_7\"><a class=\"ProveItLink\" href=\"proofs/add_2_7/thm_proof.ipynb\">add_2_7</a> (conjecture without proof):<br></strong> <a class=\"ProveItLink\" href=\"../__pv_it/theorems/b691d9594e377584fa42c345a79d8d440d3445920/theorem_expr.ipynb\"><img src=\"data:image/png;base64,iVBORw0KGgoAAAANSUhEUgAAAGEAAAAVBAMAAACkm51HAAAAMFBMVEX///8AAAAAAAAAAAAAAAAA\n",
       "AAAAAAAAAAAAAAAAAAAAAAAAAAAAAAAAAAAAAAAAAAAv3aB7AAAAD3RSTlMAInZUiRDNmWbv3US7\n",
       "qzJazP2FAAAACXBIWXMAAA7EAAAOxAGVKw4bAAABgUlEQVQ4y3WTPUjDQBTH/2kb+2FT6uQHDnFw\n",
       "cWkpIjg14OCiNKsi2EVwLCJGKkI3JyGO4lLoIASE4NTN6CyaVRzs4ORiHXQS67vLkrvmjuQ+/ne/\n",
       "9+7duwNQRnJR6UhVx7UZm6pbFbEMTB89iVp9NBq5qc7YWueUTOlNaAEavjCz4TjtKvZkYNssXQDZ\n",
       "Dowy8m6k9aPGIr/AmUy8AI9Anr5vGF+RVosaCi0k3ZaIH6BhYwUwujD+BALIDIAJKRD9F6j4OOSD\n",
       "wlAi5hkVJvjoYJ/3P02JeKU/12S9rMdLGMXxbKLHF9xAJDR2EmlX8rHll96quOJ2Ala3Pe/S8zic\n",
       "YeZLQ4nQD9Yqg4g4h+SjwExMuuP5prNiu0pbmBKJXbbtdFeKAzwfD9S8A4sicddikQeSg1Vbpyxs\n",
       "UpjXjtMVibrFrFsSsWQXKUUftGm6d02RmGUXuuBLRGb9hMmDuFaLD+aSL3uuFR/144Njxfu4Vz0c\n",
       "LVBM7KiIourZaqZiYiFZ/ge0u1oYWFaMcwAAAABJRU5ErkJggg==\n",
       "\" style=\"display:inline;vertical-align:middle;\" /></a><br>"
      ],
      "text/plain": [
       "<IPython.core.display.HTML object>"
      ]
     },
     "metadata": {},
     "output_type": "display_data"
    },
    {
     "data": {
      "text/html": [
       "<strong id=\"add_3_7\"><a class=\"ProveItLink\" href=\"proofs/add_3_7/thm_proof.ipynb\">add_3_7</a> (conjecture without proof):<br></strong> <a class=\"ProveItLink\" href=\"../__pv_it/theorems/093c9fcdfe6a9d2a55444fb9953ee450db982d1d0/theorem_expr.ipynb\"><img src=\"data:image/png;base64,iVBORw0KGgoAAAANSUhEUgAAAGwAAAAVBAMAAABRZRb3AAAAMFBMVEX///8AAAAAAAAAAAAAAAAA\n",
       "AAAAAAAAAAAAAAAAAAAAAAAAAAAAAAAAAAAAAAAAAAAv3aB7AAAAD3RSTlMAInZUiRDNmWbv3US7\n",
       "qzJazP2FAAAACXBIWXMAAA7EAAAOxAGVKw4bAAABkElEQVQ4y2NgYBBgwA4YGfABJgMsOlqBBLcC\n",
       "Pm0mDAwi7qdRxZj/////k0EDU/GrAAYGFqdCBgbWBAbWAgZ7VCtZjpeXL2ZgC0DTxHo9HyiUzBAl\n",
       "wMDewMD0mSE+ASKxA6oN6M4CBo4CDNv0Axg4FjCwHGDgBHpiNgM/VJsR1JEMDLxAaio2bTwXGJi/\n",
       "MpiBufYNKNqAwA+IM7Bp4y9g4PvMUALica9gQNPGeABI+GLTFg/U9gNsIp/uPXRtvBuARBuIxb4K\n",
       "DC7AtMk7MPB9YlgMcaQBmjZJEGGJzTaQti8Ms8Fczq9AomrVqpmrVq0FC7iBiPdYHenAwP0JpI3v\n",
       "AQPPZzTb1oCInTiChPkzyJH8XzG0sf4FkVbY/MZzgIHjK8MhoAsvQByJpI37O4jswRrdExjYE0CB\n",
       "zNGAEW/MX0BkCYY2f2B2WcwQ+YDhFZCzvfw0WgQwTgaRq9F13Z2f28AQ7gSMLq4HyOJGKNlnAe58\n",
       "g5pedyBz2Bvw5LeDOGVk8GXTGDIMBPkAV95nEsCtCQCuyGI25ZU/lgAAAABJRU5ErkJggg==\n",
       "\" style=\"display:inline;vertical-align:middle;\" /></a><br>"
      ],
      "text/plain": [
       "<IPython.core.display.HTML object>"
      ]
     },
     "metadata": {},
     "output_type": "display_data"
    },
    {
     "data": {
      "text/html": [
       "<strong id=\"add_4_7\"><a class=\"ProveItLink\" href=\"proofs/add_4_7/thm_proof.ipynb\">add_4_7</a> (conjecture without proof):<br></strong> <a class=\"ProveItLink\" href=\"../__pv_it/theorems/f6dabb407a9cb663c2ed111900f3f8e2fdac75d10/theorem_expr.ipynb\"><img src=\"data:image/png;base64,iVBORw0KGgoAAAANSUhEUgAAAGsAAAAVBAMAAACzuQ2OAAAAMFBMVEX///8AAAAAAAAAAAAAAAAA\n",
       "AAAAAAAAAAAAAAAAAAAAAAAAAAAAAAAAAAAAAAAAAAAv3aB7AAAAD3RSTlMAInZUiRDNmWbv3US7\n",
       "qzJazP2FAAAACXBIWXMAAA7EAAAOxAGVKw4bAAABN0lEQVQ4y2NgYBBgwA4YGfABJgMsOlqBBLcC\n",
       "Pm0mIOI5qhjz////fzJoYCp+FQAlWBNA3LWosizHy8sXM7AFoGlivZ4fACEY2BtADoVp2wHVBnRn\n",
       "AQNHAYZt+gFQghPEe5ELFTaCOpKBgRdITcWtzQzEc0DTBgR+QJyBW1sJyI0CGNoYDwAJX9zaQCZK\n",
       "MGBo490AJNpALPZVYHABVdtikBsxtUmCCEvcts1mYOAQgGirWrVq5qpVkEB1AxHv8WoTYsC0bQ2I\n",
       "2IlbG9CRe+/e/XkFVRvrXxBphdtvh8DcuWi2cX8HkT24bYME8h80bcxfQGQJhjZ/ASjxCsSr+X8J\n",
       "VRvjZBC5Gl3X3fm5DRCC6wGyuBFK9lmAO9+gptcdyBxwKscFDuKUkcGXTWPIMBDkA1x5n0kAtyYA\n",
       "aiBWFgV1TwkAAAAASUVORK5CYII=\n",
       "\" style=\"display:inline;vertical-align:middle;\" /></a><br>"
      ],
      "text/plain": [
       "<IPython.core.display.HTML object>"
      ]
     },
     "metadata": {},
     "output_type": "display_data"
    },
    {
     "data": {
      "text/html": [
       "<strong id=\"add_5_7\"><a class=\"ProveItLink\" href=\"proofs/add_5_7/thm_proof.ipynb\">add_5_7</a> (conjecture without proof):<br></strong> <a class=\"ProveItLink\" href=\"../__pv_it/theorems/f2e3685ee68d250381395c84a4cbf4bea4a0a1bd0/theorem_expr.ipynb\"><img src=\"data:image/png;base64,iVBORw0KGgoAAAANSUhEUgAAAGwAAAAVBAMAAABRZRb3AAAAMFBMVEX///8AAAAAAAAAAAAAAAAA\n",
       "AAAAAAAAAAAAAAAAAAAAAAAAAAAAAAAAAAAAAAAAAAAv3aB7AAAAD3RSTlMAInZUiRDNmWbv3US7\n",
       "qzJazP2FAAAACXBIWXMAAA7EAAAOxAGVKw4bAAABh0lEQVQ4y2NgYBBgwA4YGfABJgOGBwysqHoZ\n",
       "W4EEtwI+bSYMDPPTVgWgiDH/////J4MGpuJXQHXiZecYGFgTGBhW/nJFlWU5Xl6+mIEtAE0T6/X8\n",
       "AAbGAwz+GxjYGxgYLsAldkC1Ad1ZwMBRgGGbfgADrwAD5wQGTgZkbUZQRzIw8AKpqdi0cX5l4P3I\n",
       "YIZNGxD4AXEGVtsWMPD+YygBcm6o3EPXBvQBA4MvNm1AwPUBbOJRBvkNaNp4QQJtIBb7KjC4gKTt\n",
       "vQLDYjCXZwGaNkkQYYnDtrUMDLPBXPaPQKJq1aqZq1atBQu4gU3Fro39AFgbTwID+z8029aAiJ3Y\n",
       "tfUCMdCRnMCw+YCqjfUviLTC6jdmBwZBhkPgyOU8gKqN+zuI7MFq2xMGBlVQIAMThGYAqjbmLyCy\n",
       "BEObvwAD4/Ly8gUMr4Ac8dpStHhjnAwiV6Prujs/t4ELmMwTGLgeIIsboWSfBbjzDWp63YHMAaVy\n",
       "nOAgThkZfNk0hgwDQT7AlfeZBHBrAgCnimEdakkdjQAAAABJRU5ErkJggg==\n",
       "\" style=\"display:inline;vertical-align:middle;\" /></a><br>"
      ],
      "text/plain": [
       "<IPython.core.display.HTML object>"
      ]
     },
     "metadata": {},
     "output_type": "display_data"
    },
    {
     "data": {
      "text/html": [
       "<strong id=\"add_6_7\"><a class=\"ProveItLink\" href=\"proofs/add_6_7/thm_proof.ipynb\">add_6_7</a> (conjecture without proof):<br></strong> <a class=\"ProveItLink\" href=\"../__pv_it/theorems/047450fe71704c24d5208ae86f6552528dc93e640/theorem_expr.ipynb\"><img src=\"data:image/png;base64,iVBORw0KGgoAAAANSUhEUgAAAGwAAAAVBAMAAABRZRb3AAAAMFBMVEX///8AAAAAAAAAAAAAAAAA\n",
       "AAAAAAAAAAAAAAAAAAAAAAAAAAAAAAAAAAAAAAAAAAAv3aB7AAAAD3RSTlMAInZUiRDNmWbv3US7\n",
       "qzJazP2FAAAACXBIWXMAAA7EAAAOxAGVKw4bAAABj0lEQVQ4y2NgYBBgwA4YGfABJgMsOlqBBLcC\n",
       "Pm0mQOzi8gBFjPn///8/GTQwFb8KYGAQcT/NwMCawMAgtoF3AYosy/Hy8sUMbAFomliv5wcwsBYw\n",
       "2BswsDcwMCQx8ByASOyAagO6s4CBowDDNv0ABqbPDPEJDJxAJ32FCxtBHcnAwAukpmLTxj2bgT+B\n",
       "wYyBgWcCujYg8APiDGzagMC+gaGEgYEzz6kaXRsjyNW+2LVxrwCbyJ/BwGmApo13A5BoA7HYV4HB\n",
       "Bbg2Pt17DAyLGRjiPzCwT0XTJgkiLHE50oBhNlDbAgaO30Be1apVM1etWguWdwMR73Fo4/wK0gYM\n",
       "GI4faLatARE7sWnje8DA8xnkSB6obUjaWP+CSCtsfuP/CtJ2CBhLQL9NQNXG/R1E9mCzjfMCyJGg\n",
       "QD7CEIkWksxfQGQJhjZ/AQaOBlC8vQKlpfJ7aPHGOBlErkbXdXd+bgPD9nJgUuZCSftGKNlnAe58\n",
       "g5pedyBzQKkcJziIU0YGXzaNIcNAkA9w5X0mAdyaAPrWYO2AY8F/AAAAAElFTkSuQmCC\n",
       "\" style=\"display:inline;vertical-align:middle;\" /></a><br>"
      ],
      "text/plain": [
       "<IPython.core.display.HTML object>"
      ]
     },
     "metadata": {},
     "output_type": "display_data"
    },
    {
     "data": {
      "text/html": [
       "<strong id=\"add_7_7\"><a class=\"ProveItLink\" href=\"proofs/add_7_7/thm_proof.ipynb\">add_7_7</a> (conjecture without proof):<br></strong> <a class=\"ProveItLink\" href=\"../__pv_it/theorems/80c57d59b1b704a4fb3759c5fb8f03ad5dc8c03d0/theorem_expr.ipynb\"><img src=\"data:image/png;base64,iVBORw0KGgoAAAANSUhEUgAAAGwAAAAVBAMAAABRZRb3AAAAMFBMVEX///8AAAAAAAAAAAAAAAAA\n",
       "AAAAAAAAAAAAAAAAAAAAAAAAAAAAAAAAAAAAAAAAAAAv3aB7AAAAD3RSTlMAInZUiRDNmWbv3US7\n",
       "qzJazP2FAAAACXBIWXMAAA7EAAAOxAGVKw4bAAABT0lEQVQ4y2NgYBBgwA4YGfABJgPGVgwdIBFu\n",
       "BXzaTBiY/////xNFDCKigan4VQCIfM7AwJrAwHK8vHwxiixEhC0ATRPr9Xyw0FoGBvYGBhagqwog\n",
       "Ejug2sAiHAUYtumDtDEBtXECncTAwAsVNoI6EiIyFbu2F7kMDGZgrh+qNqhIBnZtDkBtJeCQO4Cu\n",
       "DSzii1Ubk0Au1ETeDejawCJtIBb7KjC4ANcmwQDUBg5CSQZ0bWARS6y2OYC0zQbx3MBiVatWzVy1\n",
       "ai0DXOQ9Nm0cAnBtazBsA4vsxKZNiAHmSNa/6NogIlbY/Lb37t2fVxgOgVLfd3RtEJEe7BHAMBcS\n",
       "yMxf0LVBREowtPmDs8sfYOIERdJkdG0QkdXouu7Oz21gYKj5f4mB6wGyuBFK9lmAO9+gptcdyBxg\n",
       "KscNDuKUkcGXTWPIMBDkA1x5n0kAtyYAUVBZSaJPAv8AAAAASUVORK5CYII=\n",
       "\" style=\"display:inline;vertical-align:middle;\" /></a><br>"
      ],
      "text/plain": [
       "<IPython.core.display.HTML object>"
      ]
     },
     "metadata": {},
     "output_type": "display_data"
    },
    {
     "data": {
      "text/html": [
       "<strong id=\"add_8_7\"><a class=\"ProveItLink\" href=\"proofs/add_8_7/thm_proof.ipynb\">add_8_7</a> (conjecture without proof):<br></strong> <a class=\"ProveItLink\" href=\"../__pv_it/theorems/10377ec72192e7a5d7adae5fd0ed9a65fcce5ec10/theorem_expr.ipynb\"><img src=\"data:image/png;base64,iVBORw0KGgoAAAANSUhEUgAAAGwAAAAVBAMAAABRZRb3AAAAMFBMVEX///8AAAAAAAAAAAAAAAAA\n",
       "AAAAAAAAAAAAAAAAAAAAAAAAAAAAAAAAAAAAAAAAAAAv3aB7AAAAD3RSTlMAInZUiRDNmWbv3US7\n",
       "qzJazP2FAAAACXBIWXMAAA7EAAAOxAGVKw4bAAABjElEQVQ4y2NgYBBgwA4YGfABJgMsOlqBBLcC\n",
       "dg0PGFiBNpkwMIS4VKPKMP////8ngwamllcBDAzz01YFMLAmMDAUMPCiWslyvLx8MQNbAJom1uv5\n",
       "QKGVv1wZGNgbGDgawJpBYAdUG9CdBQwcBRi26QO1XQAxOIGKLsC1GUEdycDAC6Sm4tZmBlT0JwBo\n",
       "J7I2IPAD4gzc2kqA+P6nYgY0bYwHgIQvVm03VO5BTGT/vxBdG+8GINEGYrGvAoMLcG1HGeQ3MCwG\n",
       "ckxk/hugaZMEEZZYbWNg4FnAMJsBFGL2IN9XrVo1c9WqtWB5NxDxHoc29o8gbZwBDIyf0WxbAyJ2\n",
       "YtPGk8DA/g/kyHgg/waqNta/INIKm984FzDwfmA4BLQNmMQOomrj/g4ie7DZBkwKnAdAgcydysCh\n",
       "gKqN+QssclCBvwAo+WgGMLwCct6WV6NFAONkELkaXdfd+bkNDOK1pQwMXA+QxY1Qss8C3NkNNb3u\n",
       "QObAUhxWcBCnjAy+3B1DhoEgHyjgKi0EcGsCAHaGYNt8L7yCAAAAAElFTkSuQmCC\n",
       "\" style=\"display:inline;vertical-align:middle;\" /></a><br>"
      ],
      "text/plain": [
       "<IPython.core.display.HTML object>"
      ]
     },
     "metadata": {},
     "output_type": "display_data"
    },
    {
     "data": {
      "text/html": [
       "<strong id=\"add_9_7\"><a class=\"ProveItLink\" href=\"proofs/add_9_7/thm_proof.ipynb\">add_9_7</a> (conjecture without proof):<br></strong> <a class=\"ProveItLink\" href=\"../__pv_it/theorems/6a23ec1f510b1b35c4ed4b3f9c8a3ca738b52ae10/theorem_expr.ipynb\"><img src=\"data:image/png;base64,iVBORw0KGgoAAAANSUhEUgAAAGwAAAAVBAMAAABRZRb3AAAAMFBMVEX///8AAAAAAAAAAAAAAAAA\n",
       "AAAAAAAAAAAAAAAAAAAAAAAAAAAAAAAAAAAAAAAAAAAv3aB7AAAAD3RSTlMAInZUiRDNmWbv3US7\n",
       "qzJazP2FAAAACXBIWXMAAA7EAAAOxAGVKw4bAAABkUlEQVQ4y2NgYBBgwA4YGfABJgMsOlqBBLcC\n",
       "Pm0mDAzs5VdRxZj/////k0EDU/GrACDh4vKAgTWBgXURw0tUl7IcLy9fzMAWgKaJ9Xo+UEhsA+8C\n",
       "BvYGBt4JDDwHIBI7oNqA7ixg4CjAsE0fqC0JpJqTgYE/gYHlK0TYCOpIBgZeIDUVmzZmsFIzBob4\n",
       "AwxMv1G0AYEfEGdg08YzAcQogdj2A00bI8jVvti0ceY5VYNNBPntE5o23g1Aog3EYl8FBhdg2vgz\n",
       "GDgNGBYDA2g2w9vPaNokQYQlNtviPzCwT2WYDeSEqxj9A1JVq1bNXLVqLVjeDUS8x6ptAQPHb7A2\n",
       "BvSQZGBYAyJ2YtMGDAmOHyBHAgEs3mDaWP+CSCtsfuMB23YIGEtTGeIfoGrj/g4ie7DGG9BvE0CB\n",
       "zLSU4QQDqjbmL9DIQQP+wER4hCHSgOEVKG2Wb0DTxjgZRK5G13V3fm4DA0v5PQYGrgfI4kYo2WcB\n",
       "7nyDml53IHOAqRw3OIhTRgZfNo0hw0CQD3DlfSYB3JoAVMBkooVdFnAAAAAASUVORK5CYII=\n",
       "\" style=\"display:inline;vertical-align:middle;\" /></a><br>"
      ],
      "text/plain": [
       "<IPython.core.display.HTML object>"
      ]
     },
     "metadata": {},
     "output_type": "display_data"
    }
   ],
   "source": [
    "add_0_7, add_1_7, add_2_7, add_3_7, add_4_7, add_5_7, add_6_7, add_7_7, add_8_7, add_9_7 = [Equals(Add(num(n), num(7)), num(n+7)) for n in range(10)]"
   ]
  },
  {
   "cell_type": "code",
   "execution_count": 25,
   "metadata": {},
   "outputs": [
    {
     "data": {
      "text/html": [
       "<strong id=\"add_0_8\"><a class=\"ProveItLink\" href=\"proofs/add_0_8/thm_proof.ipynb\">add_0_8</a> (conjecture without proof):<br></strong> <a class=\"ProveItLink\" href=\"../__pv_it/theorems/2f860c700e375a534f382cace6ea5ace3aca37780/theorem_expr.ipynb\"><img src=\"data:image/png;base64,iVBORw0KGgoAAAANSUhEUgAAAGEAAAAVBAMAAACkm51HAAAAMFBMVEX///8AAAAAAAAAAAAAAAAA\n",
       "AAAAAAAAAAAAAAAAAAAAAAAAAAAAAAAAAAAAAAAAAAAv3aB7AAAAD3RSTlMAInZUiRDNmWbv3US7\n",
       "qzJazP2FAAAACXBIWXMAAA7EAAAOxAGVKw4bAAABZElEQVQ4y3WTPUjDQBiG3/YSE20aO7uok2sp\n",
       "4mosgpOQSVEEAyI4VhAsLgYXHevgIF0KboFCcZCOUXA24OAmnZ3EH1AX/ZqvSO7I3XK55/Lc95Mc\n",
       "gAryh46jWNVsXOuMecCo78vMXF7poRiqr6YYZgDsYFNOwQIegV3VYGyFsDswYmZ9ns6ANeBUNRiP\n",
       "A04C8cmsxtMqb/mKwXgBmGzAfZeMxXs0gTG1EMYHwDYZX5JR/p2jDhqJYjDeA6Y9uG+SgeMfaoUd\n",
       "pOVG6Uj+8RUbH5Ihlh4oTdFSYjBuU1YeSsMYR1F0GUVdDLskvn24r4rBuJ1WLuTKLyhwFSU1BmPK\n",
       "yolhS9016fByCNGR6xjhO6qwBSuQYpzTMRXYsRKDMX0VirMxkIwbHyd0uqcYjF/oab3+DMlwnw7p\n",
       "l5voKcYID7Ksll1M5f/sdiO76mcXTc39uNVdnEKs2djSGY7u2hZmNBuz+fgPD3petWEEQwUAAAAA\n",
       "SUVORK5CYII=\n",
       "\" style=\"display:inline;vertical-align:middle;\" /></a><br>"
      ],
      "text/plain": [
       "<IPython.core.display.HTML object>"
      ]
     },
     "metadata": {},
     "output_type": "display_data"
    },
    {
     "data": {
      "text/html": [
       "<strong id=\"add_1_8\"><a class=\"ProveItLink\" href=\"proofs/add_1_8/thm_proof.ipynb\">add_1_8</a> (conjecture without proof):<br></strong> <a class=\"ProveItLink\" href=\"../__pv_it/theorems/b174d6be351617f8a8a05a4be0f81adcf5c3f36b0/theorem_expr.ipynb\"><img src=\"data:image/png;base64,iVBORw0KGgoAAAANSUhEUgAAAGEAAAAVBAMAAACkm51HAAAAMFBMVEX///8AAAAAAAAAAAAAAAAA\n",
       "AAAAAAAAAAAAAAAAAAAAAAAAAAAAAAAAAAAAAAAAAAAv3aB7AAAAD3RSTlMAInZUiRDNmWbv3US7\n",
       "qzJazP2FAAAACXBIWXMAAA7EAAAOxAGVKw4bAAABZUlEQVQ4y2NgYBBgwA5wiTMwGeCQ2IRLhwkQ\n",
       "vwpAFWN1cd/AwNSAoba8FqiQNYGB9Xo+mg52BobLDAyp6BqiFPgmAiVBJunDdOyAUB0MDGEMDO3o\n",
       "Om4yMJxhYOBkQNZhBKF8wTo40Wxm+MbA4B/AYIZNh/1RhgoGBjY0j7D+AarcwFCCTQfvf3VgCLJc\n",
       "wGJHA0MGNh0M9b+AscGRAA6FVWBwAeKP8woMi7HpYHY8/xlITkCzI3ID330DhtkIHVWrVs1ctWot\n",
       "AyiUmH8GMPB9QNPBWuSs/wBZB8KOqQwM8gYM3BMw4xsYVthcxQo0nLeBgXkBmj8YwPFxCJsdwJjl\n",
       "EWDgOIBmgWUA6z9wZAHtEkDVsS2AoQlougOaDq0AHmAUvQKy7s7PbUDRwXe9fAMDA9cGNB0s7tVA\n",
       "kusBspgRMkcKe2LnKEDm7UDmVODIHwdxZRzGAzgkYnDp4MGVbRkVcEgoYhcGAFO6Vnamiw8SAAAA\n",
       "AElFTkSuQmCC\n",
       "\" style=\"display:inline;vertical-align:middle;\" /></a><br>"
      ],
      "text/plain": [
       "<IPython.core.display.HTML object>"
      ]
     },
     "metadata": {},
     "output_type": "display_data"
    },
    {
     "data": {
      "text/html": [
       "<strong id=\"add_2_8\"><a class=\"ProveItLink\" href=\"proofs/add_2_8/thm_proof.ipynb\">add_2_8</a> (conjecture without proof):<br></strong> <a class=\"ProveItLink\" href=\"../__pv_it/theorems/82ab21d233f4a1cefcb74046c58c22bd6ae4e7270/theorem_expr.ipynb\"><img src=\"data:image/png;base64,iVBORw0KGgoAAAANSUhEUgAAAGwAAAAVBAMAAABRZRb3AAAAMFBMVEX///8AAAAAAAAAAAAAAAAA\n",
       "AAAAAAAAAAAAAAAAAAAAAAAAAAAAAAAAAAAAAAAAAAAv3aB7AAAAD3RSTlMAInZUiRDNmWbv3US7\n",
       "qzJazP2FAAAACXBIWXMAAA7EAAAOxAGVKw4bAAABn0lEQVQ4y52TMUvDUBDH/2lam9qmxsmlYBfB\n",
       "zVKKoIuluEozCKIILYjgIlYsFnTp5KTQxUEcjHQQIoJj3VI/gHTTRe3gVJBqa8FBjPcShb426eBB\n",
       "3svd5Xf3cu8OgAJnETBIPDEXRzA6CEsAY7t3PcbF+X1gsv/jhgp4U9uALwvBQPqad+cgxzCk9kC+\n",
       "+y0yrWFFgb8IWUGgZDsq9iYVWTgp15dtSoWkwWsgAAQ6kN9tc9zevDWG4dgJC9UgdjANyBrkbw4T\n",
       "v1Q6BTacsJEcwm3kLXX4jcPw3NqhdcEJyxD2+RuxGeUxv3lO64H1qltS+8PGkwi3ULbUK/BYImLS\n",
       "dc44ZWPYB06tiAZb93T9RNdZBKrhHNWj6XjIJIItGzsCny2gQmgDNy4lEdvWIcUkRjksQ88DMOv0\n",
       "byEDUge3pLwAE3w2au8qcOh43SX4s6zIwkWhoHFYcB0S1Tbfh6UpXhnLdTTo0kzTzPKVfC1QK+Oy\n",
       "l3o82yxiKfVETL3bHucGTnOfG75fK90K6y9Xqbp6IoPGdPUfAdkfuM2+R3GHfgBGuWdux+sVBwAA\n",
       "AABJRU5ErkJggg==\n",
       "\" style=\"display:inline;vertical-align:middle;\" /></a><br>"
      ],
      "text/plain": [
       "<IPython.core.display.HTML object>"
      ]
     },
     "metadata": {},
     "output_type": "display_data"
    },
    {
     "data": {
      "text/html": [
       "<strong id=\"add_3_8\"><a class=\"ProveItLink\" href=\"proofs/add_3_8/thm_proof.ipynb\">add_3_8</a> (conjecture without proof):<br></strong> <a class=\"ProveItLink\" href=\"../__pv_it/theorems/183280f3048f60e19dccc79125f7a45b51d4e5f10/theorem_expr.ipynb\"><img src=\"data:image/png;base64,iVBORw0KGgoAAAANSUhEUgAAAGsAAAAVBAMAAACzuQ2OAAAAMFBMVEX///8AAAAAAAAAAAAAAAAA\n",
       "AAAAAAAAAAAAAAAAAAAAAAAAAAAAAAAAAAAAAAAAAAAv3aB7AAAAD3RSTlMAInZUiRDNmWbv3US7\n",
       "qzJazP2FAAAACXBIWXMAAA7EAAAOxAGVKw4bAAABWElEQVQ4y2NgYBBgwA4YGfABJgMcEtwK+LSZ\n",
       "MDCIuJ9GEwxxqWZg0MBU/CoASrAmMLAWMNijWVnAwGvAwBaApon1en4AhGBgb2Bg+swQnwCR2AGh\n",
       "OBpAxnEUYNimHwAlOIGemM3AD9VmBKFYLoC0MUzFrc0MzLVvQNHG/CcA6AqGDNzaSsCBtoIBRRvD\n",
       "/U/FQNIXtzaQiXy699C0sf9fCCTbwMxVYHABVdtiiCMNULWZyPwHiljitm02mMv5FUhUrVo1c9Wq\n",
       "taCQBEYJMDze49XG94CB5zOKbZwBDIxAkZ24tQEdyf8VXVs8EN9gYLDC7bdDQLMvQByJZBsweR9k\n",
       "YOjBbZsvOE2gxRt3KgOHAjRyUIC/AJR4BaS3l59Gi4C35cCkzLAaXdfd+bkNEILrAbK4EUqGW4A7\n",
       "36Cm1x3IHPYGPPntIE4ZGXzZNIYMA0E+wJX3mQRwawIAKxFdRYvDeCcAAAAASUVORK5CYII=\n",
       "\" style=\"display:inline;vertical-align:middle;\" /></a><br>"
      ],
      "text/plain": [
       "<IPython.core.display.HTML object>"
      ]
     },
     "metadata": {},
     "output_type": "display_data"
    },
    {
     "data": {
      "text/html": [
       "<strong id=\"add_4_8\"><a class=\"ProveItLink\" href=\"proofs/add_4_8/thm_proof.ipynb\">add_4_8</a> (conjecture without proof):<br></strong> <a class=\"ProveItLink\" href=\"../__pv_it/theorems/0cd2c11fa2625f54dc34d94c18c738922e2302910/theorem_expr.ipynb\"><img src=\"data:image/png;base64,iVBORw0KGgoAAAANSUhEUgAAAGwAAAAVBAMAAABRZRb3AAAAMFBMVEX///8AAAAAAAAAAAAAAAAA\n",
       "AAAAAAAAAAAAAAAAAAAAAAAAAAAAAAAAAAAAAAAAAAAv3aB7AAAAD3RSTlMAInZUiRDNmWbv3US7\n",
       "qzJazP2FAAAACXBIWXMAAA7EAAAOxAGVKw4bAAABhElEQVQ4y2NgYBBgwA4YGfABJgMcEtwK+LSZ\n",
       "gIjnaIIhLtUMDBqYil8FMDCIl51jYGBNAHHXokkXMPAaMLAFoImyXs8PYGA8wOC/gYG9AeRQmLYd\n",
       "EIqjAWQcRwGGbfoBDLwCDJwTGDhBvBe5UGEjCMVyAeyKqdi0cX5l4P3IYAbiOaBpY/4TAHJFBlbb\n",
       "FjDw/mMoAblRAE0bw/1PxUDSF5s2IOD6ADZRggFdG/v/hUCyDcxcBQYXkLS9V2BYDHIjhjYTmf/A\n",
       "6LTEYRswAGcDw00Aoq1q1aqZq1aBAhUYhvbA8HiPXRv7AbA2IQZ02ziB0fOZgWEndm29QAx05N67\n",
       "d39eQdEWD8Q3GBissPqN2YFBkOEQmDsXzTZg8j7IwNCD1bYnDAyq0ED+g6qNO5WBA5iQSzC0+Qsw\n",
       "MC4vL1/A8ArEq/l/CTUk35YDkzLDanRdd+fnNnD9//8/gYHrAbK4EUqGW4A736Cm1x3IHHAqxwUO\n",
       "4pSRwZdNY8gwEOQDXHmfSQC3JgDxfmKNlSPWlgAAAABJRU5ErkJggg==\n",
       "\" style=\"display:inline;vertical-align:middle;\" /></a><br>"
      ],
      "text/plain": [
       "<IPython.core.display.HTML object>"
      ]
     },
     "metadata": {},
     "output_type": "display_data"
    },
    {
     "data": {
      "text/html": [
       "<strong id=\"add_5_8\"><a class=\"ProveItLink\" href=\"proofs/add_5_8/thm_proof.ipynb\">add_5_8</a> (conjecture without proof):<br></strong> <a class=\"ProveItLink\" href=\"../__pv_it/theorems/9dd3f05c1d2563525593653370f368447d9c7f630/theorem_expr.ipynb\"><img src=\"data:image/png;base64,iVBORw0KGgoAAAANSUhEUgAAAGwAAAAVBAMAAABRZRb3AAAAMFBMVEX///8AAAAAAAAAAAAAAAAA\n",
       "AAAAAAAAAAAAAAAAAAAAAAAAAAAAAAAAAAAAAAAAAAAv3aB7AAAAD3RSTlMAInZUiRDNmWbv3US7\n",
       "qzJazP2FAAAACXBIWXMAAA7EAAAOxAGVKw4bAAABkklEQVQ4y52TPUjDQBTH/63GNqZfg+BS0MFB\n",
       "BzGUIujSRXESMzgKzaK4iAErBUXI5OTqIA6tuGhEcLNuVnByyaaL2rkgfpQuItZ3CZReetfBN9zl\n",
       "cvd77927/wOQgthC6GVhHTUoAlYb7YVlgdKaY/A/l+d2gfHuw3U6N7TwACgmcP49H9i2ENcxEPAF\n",
       "5XHTgGIhpyNiA257o+JPUZu5i1pd0aYMhBvIm1DRiWX8qd/1sjgUYdoxkiamRVjfj8GyWBdhZDkb\n",
       "BZqexl54DK9fWzQuijHtzPd4j5ErHou0Tmjc9z4dz9w2lpikIKfeMlbmsWy6pQMzsiR1HPveP2nY\n",
       "cZwjx7lklaQiUz3eJZjaZFjMROSXi6YaCDWAGxGWqCHWYEmqZcQ/OCzP6gTMiu6WbDLsjl6JyFs+\n",
       "Gkm0ChyIoqkuS5KKHLIwYXCYtoooCbnQhS2lmILo3eq0GN7bDrzbW5GkjIsg9VzasHFdJCkP1jr/\n",
       "Z7iGK8v7htdrpXPB9CW1qnQn3atNV/7hkN1A1vvhlBz6A9uwZOf//75fAAAAAElFTkSuQmCC\n",
       "\" style=\"display:inline;vertical-align:middle;\" /></a><br>"
      ],
      "text/plain": [
       "<IPython.core.display.HTML object>"
      ]
     },
     "metadata": {},
     "output_type": "display_data"
    },
    {
     "data": {
      "text/html": [
       "<strong id=\"add_6_8\"><a class=\"ProveItLink\" href=\"proofs/add_6_8/thm_proof.ipynb\">add_6_8</a> (conjecture without proof):<br></strong> <a class=\"ProveItLink\" href=\"../__pv_it/theorems/94f1f50397c1ac574c8eb61ba075e9af84bed0020/theorem_expr.ipynb\"><img src=\"data:image/png;base64,iVBORw0KGgoAAAANSUhEUgAAAGwAAAAVBAMAAABRZRb3AAAAMFBMVEX///8AAAAAAAAAAAAAAAAA\n",
       "AAAAAAAAAAAAAAAAAAAAAAAAAAAAAAAAAAAAAAAAAAAv3aB7AAAAD3RSTlMAInZUiRDNmWbv3US7\n",
       "qzJazP2FAAAACXBIWXMAAA7EAAAOxAGVKw4bAAABjklEQVQ4y2NgYBBgwA4YGfABJgMcEtwK+LSZ\n",
       "ALGLywNUwRCXagYGDUzFrwJA5HMGBtYEBgaxDbwLUKULGHgNGNgC0DSxXs8HC61lYGBvYGBIYuA5\n",
       "AJHYAaE4GkDGcRRg2KYP0sYE1MbJwMD8FS5sBKFYLoBdMRW7the5DAxmDAw8E9C1Mf8JALkiA7s2\n",
       "B6C2EqCFeU7VqNoY7n8qBpK+WLUxCeSCTeTPYOA0QNXG/n8hkGwDM1eBwQW4NgkGoLbFDAzxHxjY\n",
       "p6JqM5H5DzTIEqttDiBts4HaFjBw/AaKVa1aNXPVqrWgkCxgsAca9B6bNg4BqDZ+YFj/QLGNM4CB\n",
       "8TMDw05s2oQYoI7kgdqG0BYPxDcYGKyw+W3v3bs/rzAcAgY30G8TUG0DJu+DDAw92COAYS4kkI8w\n",
       "RKKGJHcqA4cCOHLQgD84u/wBJk5Qoii/hxZvb8tBMbkaXdfd+bnAVFDz/xIDF0raN0LJcAtw5xvU\n",
       "9LoDmQNKXzjBQZwyMviyaQwZBoJ8gCvvMwng1gQAYG1iwFO8wjMAAAAASUVORK5CYII=\n",
       "\" style=\"display:inline;vertical-align:middle;\" /></a><br>"
      ],
      "text/plain": [
       "<IPython.core.display.HTML object>"
      ]
     },
     "metadata": {},
     "output_type": "display_data"
    },
    {
     "data": {
      "text/html": [
       "<strong id=\"add_7_8\"><a class=\"ProveItLink\" href=\"proofs/add_7_8/thm_proof.ipynb\">add_7_8</a> (conjecture without proof):<br></strong> <a class=\"ProveItLink\" href=\"../__pv_it/theorems/f7dce0165d6632e85ff2ab89260f8272fd0c290d0/theorem_expr.ipynb\"><img src=\"data:image/png;base64,iVBORw0KGgoAAAANSUhEUgAAAGwAAAAVBAMAAABRZRb3AAAAMFBMVEX///8AAAAAAAAAAAAAAAAA\n",
       "AAAAAAAAAAAAAAAAAAAAAAAAAAAAAAAAAAAAAAAAAAAv3aB7AAAAD3RSTlMAInZUiRDNmWbv3US7\n",
       "qzJazP2FAAAACXBIWXMAAA7EAAAOxAGVKw4bAAABjElEQVQ4y52UPUgDMRTH//V6Xs/2oJsIBTs4\n",
       "6GQpRdDFpbqpNzgKdlFcxAOVgiJ00clNHMShFSdPhY51awVx7WYXtXNB/ARR1DPJFWnSpIMPLh/v\n",
       "8ctLXv45AFHILYBO1pUIbEsD4bgcqEMnmVLQPM/74EOz6U1gsB1p2EB+0bWhZxC8zmaP+bADK4Fu\n",
       "W4D0mxXiOvmcAIwcguQcjh8o+V0oR5cLOW3ZhglWpQMT0ACr6U76XbBKMeyrsRE2neYx7csmu8CS\n",
       "GltjtS7zGO5fVkk7JcVqA3fNFa2igBneEWl32NBlVv3DrtBfBCthHwQsFfMSwKg0GxAp4JD2k8y3\n",
       "4boHrntOK+lgnNTjUYEZzz52JmQzbQRegQsZFsnA+GGb1L8FbJ58NWBMdjazAOsJl1R972I2IroK\n",
       "sCvLRsRhllmRtTcBCy8gFG9eDmczUSqoIRsNem17YiUfskTKOBWp2/xyDr1b60BPvdWf5B5cQf3c\n",
       "eL2WWidUX0qrKCOxTq977h8L0hPEVX+LqBr6BSV0YNtTUQNfAAAAAElFTkSuQmCC\n",
       "\" style=\"display:inline;vertical-align:middle;\" /></a><br>"
      ],
      "text/plain": [
       "<IPython.core.display.HTML object>"
      ]
     },
     "metadata": {},
     "output_type": "display_data"
    },
    {
     "data": {
      "text/html": [
       "<strong id=\"add_8_8\"><a class=\"ProveItLink\" href=\"proofs/add_8_8/thm_proof.ipynb\">add_8_8</a> (conjecture without proof):<br></strong> <a class=\"ProveItLink\" href=\"../__pv_it/theorems/dd2aa6d993eee06157e94d2fc56a8f79dcbe487f0/theorem_expr.ipynb\"><img src=\"data:image/png;base64,iVBORw0KGgoAAAANSUhEUgAAAGwAAAAVBAMAAABRZRb3AAAAMFBMVEX///8AAAAAAAAAAAAAAAAA\n",
       "AAAAAAAAAAAAAAAAAAAAAAAAAAAAAAAAAAAAAAAAAAAv3aB7AAAAD3RSTlMAInZUiRDNmWbv3US7\n",
       "qzJazP2FAAAACXBIWXMAAA7EAAAOxAGVKw4bAAABb0lEQVQ4y2NgYBBgwA4YGfABJgMcEtwK+LSZ\n",
       "MDCEuFSjCYJFNDAVvwoAEi4uDxhYExgYChh40awEi7AFoGlivZ4PFBLbwLuAgb2BgaMBrBkEdkAo\n",
       "iAhHAYZt+kBtSQw8Bxg4GRhYLsC1GUEoqMhUbNqYv4IYZgwMzH8CgHYia4OKZGDTxjMBxCgB4vuf\n",
       "ihlQtEFFfLFp48xzqoaYyP5/IZo2iEgbmLkKDC7AtPFnMHAaMCwGxYHMfwNUbRARS2y2xX9gYJ/K\n",
       "MJsBFGL2IN9XrVo1c9WqtQxwkfdYtS1g4PgN0sYZwMD4GcU2qMhObNr4gTHzA+TIeCD/Boo2qIgV\n",
       "Nr/xgG07BDQbmJgPotoGEenBGm9Av00ABTJ3KgOHAoo2qEgJhjZ/oHlHGCINGF4BOW/Lq9EiACKy\n",
       "Gl3X3fm5DQws5fcYGLgeIIsboWS4BbjzDWp63YHMgaU4rOAgThkZfNk0hgwDQT7AlfeZBHBrAgAo\n",
       "n2XjlNwpFAAAAABJRU5ErkJggg==\n",
       "\" style=\"display:inline;vertical-align:middle;\" /></a><br>"
      ],
      "text/plain": [
       "<IPython.core.display.HTML object>"
      ]
     },
     "metadata": {},
     "output_type": "display_data"
    },
    {
     "data": {
      "text/html": [
       "<strong id=\"add_9_8\"><a class=\"ProveItLink\" href=\"proofs/add_9_8/thm_proof.ipynb\">add_9_8</a> (conjecture without proof):<br></strong> <a class=\"ProveItLink\" href=\"../__pv_it/theorems/976e6855aea3b7691acdb92384b399634c4a02800/theorem_expr.ipynb\"><img src=\"data:image/png;base64,iVBORw0KGgoAAAANSUhEUgAAAG0AAAAVBAMAAAC+p33JAAAAMFBMVEX///8AAAAAAAAAAAAAAAAA\n",
       "AAAAAAAAAAAAAAAAAAAAAAAAAAAAAAAAAAAAAAAAAAAv3aB7AAAAD3RSTlMAInZUiRDNmWbv3US7\n",
       "qzJazP2FAAAACXBIWXMAAA7EAAAOxAGVKw4bAAABmklEQVQ4y52UO0gDQRCG/8vlTGI8TCukSGFh\n",
       "ZwhB0MYm2KlXCDZC0gg2YkDhQJs0WlkIkkJS+MLmVEgZu8RGyzSijZhWIQhRUfFxzt4azF72rnBg\n",
       "dicZvpnZ2dkDEINcFPhKIOnhiCbk4db5ngZC5pXLOZNZA4a6oQcDqm3b74CWg3aAe1exeehJ9Bgu\n",
       "SrteMhC8MM1DylWAvoW+KvdU+BYusHjhfFe+YeKoVHJEgP4cgi/8/xTfgnXGoSjjVEAnawTIVhH4\n",
       "EDj106A6sCDjSKZIV3i+N4HDXWuZ1kk5p7BDUUx2vpbIhex9Wjcc03Kk/sfpZVqoNVoJzSeRS8dt\n",
       "utZReb4BZpVIZwdT37StWtaOZZ2yfuYxTk15lHMTbQ7ufkYMKFTBmZw7Aa+TpH1/v1yW9AYYk55P\n",
       "+2LWOXW9iGxDzEfjUwM2pfmir+C9DhzhEgIXnUc44dyRS6YpoPrsTCppxiyLHJomzTWO3djt7mIB\n",
       "yjYzexudjpTwYvZ8np84vJXOH2zUvKXm6Yn7vve5f0R0TpHw+oDEfKgfhUxkLfHQJSEAAAAASUVO\n",
       "RK5CYII=\n",
       "\" style=\"display:inline;vertical-align:middle;\" /></a><br>"
      ],
      "text/plain": [
       "<IPython.core.display.HTML object>"
      ]
     },
     "metadata": {},
     "output_type": "display_data"
    }
   ],
   "source": [
    "add_0_8, add_1_8, add_2_8, add_3_8, add_4_8, add_5_8, add_6_8, add_7_8, add_8_8, add_9_8 = [Equals(Add(num(n), num(8)), num(n+8)) for n in range(10)]"
   ]
  },
  {
   "cell_type": "code",
   "execution_count": 26,
   "metadata": {},
   "outputs": [
    {
     "data": {
      "text/html": [
       "<strong id=\"add_0_9\"><a class=\"ProveItLink\" href=\"proofs/add_0_9/thm_proof.ipynb\">add_0_9</a> (conjecture without proof):<br></strong> <a class=\"ProveItLink\" href=\"../__pv_it/theorems/1d2a49bd2e84a7894a4bd9ca1fbd1ce7526dba690/theorem_expr.ipynb\"><img src=\"data:image/png;base64,iVBORw0KGgoAAAANSUhEUgAAAGEAAAAVBAMAAACkm51HAAAAMFBMVEX///8AAAAAAAAAAAAAAAAA\n",
       "AAAAAAAAAAAAAAAAAAAAAAAAAAAAAAAAAAAAAAAAAAAv3aB7AAAAD3RSTlMAInZUiRDNmWbv3US7\n",
       "qzJazP2FAAAACXBIWXMAAA7EAAAOxAGVKw4bAAABYklEQVQ4y3WTMUjDQBSG/zaJSW2Izi7G1aWl\n",
       "iOAW6uAkZpMWwYAIjlUERRGyucZRuhS6BYTg1DE6C2Z10cxOolYcRLz0Fcldcjfk7r67j/feXQ7A\n",
       "PMqbjKPalCzcyowVQG0fCvDkwkXVL+zNMDQP2EOXT6FrW1fAvigQ1n0YA6gxsRF1T8ADcCkahGuA\n",
       "mUAZE2tR9wVsuai5gkF4FZjrwfrIG9oP0IgwIxQyxcfALjO+CzF8qElJDB8HwKID650zWMKPNgwv\n",
       "G+vhpCX/eEjGJ2d0IuulCSUQYhDus6wc1LMYZ2F4HYY3WcZH640U1ptgEO5PKle4yrPGDqUeFO+b\n",
       "YZaVGcMYiwY7eGUg1EH4HjAC6B5nrLnaL+OxEIDwJhsN0Uk5Y9k12V3ojmAQfmWj7fYzOEPdOGff\n",
       "2UgwpjjNs1Z+slD+sxu9/GyUn5xK3sed7OFUYsnCjswwZc+2YksWlsrxH3dkYRt47bSKAAAAAElF\n",
       "TkSuQmCC\n",
       "\" style=\"display:inline;vertical-align:middle;\" /></a><br>"
      ],
      "text/plain": [
       "<IPython.core.display.HTML object>"
      ]
     },
     "metadata": {},
     "output_type": "display_data"
    },
    {
     "data": {
      "text/html": [
       "<strong id=\"add_1_9\"><a class=\"ProveItLink\" href=\"proofs/add_1_9/thm_proof.ipynb\">add_1_9</a> (conjecture without proof):<br></strong> <a class=\"ProveItLink\" href=\"../__pv_it/theorems/bec1edccd83c0a9598a6b06c095872f1111808fb0/theorem_expr.ipynb\"><img src=\"data:image/png;base64,iVBORw0KGgoAAAANSUhEUgAAAGwAAAAVBAMAAABRZRb3AAAAMFBMVEX///8AAAAAAAAAAAAAAAAA\n",
       "AAAAAAAAAAAAAAAAAAAAAAAAAAAAAAAAAAAAAAAAAAAv3aB7AAAAD3RSTlMAInZUiRDNmWbv3US7\n",
       "qzJazP2FAAAACXBIWXMAAA7EAAAOxAGVKw4bAAABa0lEQVQ4y52TsUsCURzHP51eWpreHxDU0NBW\n",
       "SAQ1ibRGbVIECi0tkYEgNDk1Nbg4hEOStFwEjbZZU6NLNBWuCRFoghBE73mI3vneDf3g7t177/t5\n",
       "v9/7/e4HWKhtCj8zVjUbkUU/bE087V3PYqjwAsuTYikMpk7BzGK+nngw85oPi2nvYY7wkH2LUFHM\n",
       "V4aCujPMlYg2COcmvAlhuEqwwQzjWMIZ4lmCPSirsGiTQI91FZZpYPzAkQqL54h1yeu89WFbhWUE\n",
       "1ndO9GLybh04HyTVHlhziC0kiXWoqTCzwmcXNlTeJPZNZYSd2falbd/Jz/RS4he+lEEmiXTGsZE3\n",
       "YTKTD5qUBLrqIIWJurGpupssaI8nFRYok2nBhbLcJUJZJ8k7lhszbngWQ34Ck8Iaey3aYvJ2dVx0\n",
       "B7lVuBfvWy81EKZT7zDbGl9PuBququ8b9/9ad3VP0affHrU7835tevCPA+UNdL1vWHroD+3QYrhX\n",
       "mJjnAAAAAElFTkSuQmCC\n",
       "\" style=\"display:inline;vertical-align:middle;\" /></a><br>"
      ],
      "text/plain": [
       "<IPython.core.display.HTML object>"
      ]
     },
     "metadata": {},
     "output_type": "display_data"
    },
    {
     "data": {
      "text/html": [
       "<strong id=\"add_2_9\"><a class=\"ProveItLink\" href=\"proofs/add_2_9/thm_proof.ipynb\">add_2_9</a> (conjecture without proof):<br></strong> <a class=\"ProveItLink\" href=\"../__pv_it/theorems/9863672efac8680ed537f6c0ccdd67ffaec691dc0/theorem_expr.ipynb\"><img src=\"data:image/png;base64,iVBORw0KGgoAAAANSUhEUgAAAGsAAAAVBAMAAACzuQ2OAAAAMFBMVEX///8AAAAAAAAAAAAAAAAA\n",
       "AAAAAAAAAAAAAAAAAAAAAAAAAAAAAAAAAAAAAAAAAAAv3aB7AAAAD3RSTlMAInZUiRDNmWbv3US7\n",
       "qzJazP2FAAAACXBIWXMAAA7EAAAOxAGVKw4bAAABYUlEQVQ4y2NgYBBgwA4YGfABJgMcEtwK+LSZ\n",
       "MDCIl51DE2Qvv8rAoIGp+FUAlGBNYGA8wOC/AUWWdRHDSwEGtgA0TazX8wMgBAN7AwOvAAPnBIjE\n",
       "DgjFO4GB5wADRwGGbfoBUIITiL4y8H6ECBtBKP4EBpavDAxTcWszA5q9gIH3H4q2+AMMTL8ZGDJw\n",
       "aysBc7k+YNj2g4HBF7c2iInvFVC0gfz2iYGhDRyoq8DgAqq2xWDuWgYUbayzGd5+ZmCwxG3bbLCJ\n",
       "B0Bk1apVM1etApsQrmIE9O17Atp6GVBtAwJQSO7ErQ3kSGYHBkF0bcB4Y7DC7bdDQPoJA4Mqijbm\n",
       "qQzxDxgYenDbBgxkxuXl5QtQtDEtZTjBAIscZOAvACVeASPt////CaiOdCkHJdLV6Lruzs9tgBBc\n",
       "D5DFjVAy3ALc+QY1ve5AyT0NePLbQZwyMviyaQwZBoJ8gCvvMwng1gQAtJRhPCbdSCUAAAAASUVO\n",
       "RK5CYII=\n",
       "\" style=\"display:inline;vertical-align:middle;\" /></a><br>"
      ],
      "text/plain": [
       "<IPython.core.display.HTML object>"
      ]
     },
     "metadata": {},
     "output_type": "display_data"
    },
    {
     "data": {
      "text/html": [
       "<strong id=\"add_3_9\"><a class=\"ProveItLink\" href=\"proofs/add_3_9/thm_proof.ipynb\">add_3_9</a> (conjecture without proof):<br></strong> <a class=\"ProveItLink\" href=\"../__pv_it/theorems/95663c19815e16f31f4d99600f5fbc41ea5b9a200/theorem_expr.ipynb\"><img src=\"data:image/png;base64,iVBORw0KGgoAAAANSUhEUgAAAGwAAAAVBAMAAABRZRb3AAAAMFBMVEX///8AAAAAAAAAAAAAAAAA\n",
       "AAAAAAAAAAAAAAAAAAAAAAAAAAAAAAAAAAAAAAAAAAAv3aB7AAAAD3RSTlMAInZUiRDNmWbv3US7\n",
       "qzJazP2FAAAACXBIWXMAAA7EAAAOxAGVKw4bAAABkklEQVQ4y52TP0jDUBCHv0ZjbbUaQXBx6KDg\n",
       "IkoRQRcdBCexm4vQji5ih2LAKZOTQpcO0sGiiBIpdFO36iQI4iJOSgcXC+KfUhAE60si6GtfOniQ\n",
       "HPdevve7u5cDDNQWoJVp4z4bXdFW2AT0z181LAbNWxhp/rgSh4H1a9CT6ClmZEl9jyeDjngDpN+t\n",
       "xQmUWCwStNCqJJLexqnnIhm6S3SmmtTG4kQMQhlCoogcvT9YzHMibK9BVoWFakTemHTDGUvCEiW0\n",
       "T1hRquWJfJF2m3ZEk9oHLKgwYeFX98Se0QcZc2p7h023qbZrN3+wlyj7XpLjEqbneK7ClI9aAXJu\n",
       "KOqEDdvese2CEy8Nxb7EqWosWHKxnjLdVUlNmNPJMzW2LR6RZG9NgYl7Y1pZW9ssfVyIDG+8JH+x\n",
       "tiyJMmwp1R5h2Glyp9V4b9oBl8Klm7BFg8ChaeapiODEvJIvgDmzKN7HjdT97qoVrtfrScLlv+sx\n",
       "aeDy/nMj/6+n0vRYLebt3HdnsNWYLv/jQKcCv9nXDH/oG6QQaHuVOUQVAAAAAElFTkSuQmCC\n",
       "\" style=\"display:inline;vertical-align:middle;\" /></a><br>"
      ],
      "text/plain": [
       "<IPython.core.display.HTML object>"
      ]
     },
     "metadata": {},
     "output_type": "display_data"
    },
    {
     "data": {
      "text/html": [
       "<strong id=\"add_4_9\"><a class=\"ProveItLink\" href=\"proofs/add_4_9/thm_proof.ipynb\">add_4_9</a> (conjecture without proof):<br></strong> <a class=\"ProveItLink\" href=\"../__pv_it/theorems/e74bb156519c6a134694b6cd830ababd8fec54580/theorem_expr.ipynb\"><img src=\"data:image/png;base64,iVBORw0KGgoAAAANSUhEUgAAAGwAAAAVBAMAAABRZRb3AAAAMFBMVEX///8AAAAAAAAAAAAAAAAA\n",
       "AAAAAAAAAAAAAAAAAAAAAAAAAAAAAAAAAAAAAAAAAAAv3aB7AAAAD3RSTlMAInZUiRDNmWbv3US7\n",
       "qzJazP2FAAAACXBIWXMAAA7EAAAOxAGVKw4bAAABhUlEQVQ4y52TMUgDMRSGf0/Ptra2QRwcHBwc\n",
       "XMRSRNClDoKTeJuL0I4uxQ6FA3G4ycnBpYMcoiiCnAhu1kGoToJLEcWp0k0tiGApKIp6707FpMkN\n",
       "viHh5eXL+/OSB4BBbm0IMi2pCEQHgrBRGu6ExZB5DQy1bq4bQO/0BaBnyT3go/o2Hhg6DQHSbxYN\n",
       "6HmkkwhZJPQHK/lT9xpiZYTzLdlGDGgNZLKIkHef+15O+VMii44mUJRhUZvCY+RNClimDO0NWJBh\n",
       "rqUtFEgjk2R7AWbkWHTPP7EPAkZ3ewZWvKI6nlV+sfjwLbBDGkVMt/HYAMZVIpOwgTDzsSXHWXcc\n",
       "r6hzg6kP4EmBRZqE9UDM5hpV8liGxWuINUjkSbX6eiVi7rthQna3RJOwM8/d4LO1F5GpAauybJEK\n",
       "ifSL/M5j2i7O3anQgs0yhC16tzp5y5+XvMgp89Ad90WqupmzcGS6X7mr9nc9xTXclrpv+P9a4rrH\n",
       "Cui3U2WkP6hN5/9xIN1A1fsaU0NfF1RlFl+BGlYAAAAASUVORK5CYII=\n",
       "\" style=\"display:inline;vertical-align:middle;\" /></a><br>"
      ],
      "text/plain": [
       "<IPython.core.display.HTML object>"
      ]
     },
     "metadata": {},
     "output_type": "display_data"
    },
    {
     "data": {
      "text/html": [
       "<strong id=\"add_5_9\"><a class=\"ProveItLink\" href=\"proofs/add_5_9/thm_proof.ipynb\">add_5_9</a> (conjecture without proof):<br></strong> <a class=\"ProveItLink\" href=\"../__pv_it/theorems/8dac91357cdb6dafc1db05f9d1bd25a4e68b9d690/theorem_expr.ipynb\"><img src=\"data:image/png;base64,iVBORw0KGgoAAAANSUhEUgAAAGwAAAAVBAMAAABRZRb3AAAAMFBMVEX///8AAAAAAAAAAAAAAAAA\n",
       "AAAAAAAAAAAAAAAAAAAAAAAAAAAAAAAAAAAAAAAAAAAv3aB7AAAAD3RSTlMAInZUiRDNmWbv3US7\n",
       "qzJazP2FAAAACXBIWXMAAA7EAAAOxAGVKw4bAAABhUlEQVQ4y52TO0gDQRBAn6dnEk3wsNFC0CKF\n",
       "VkoQQSsLLcV0NoKpxCZooQiikMrKwiaFBElQLDwRLGMhREGwFFG0iaTzA+IPwR/RvTsJ2WTvCqe4\n",
       "YWf3zdz8AAO11OAlWg8FdAXb2OGF9UJ60ozKRt/8BXRWP763392AHoPtz2H5Vt/gzqC+whf65bRt\n",
       "2hV+E3Bausg6KrRKMId/pipat4VpAgtQjkUc1RSj7g2Sauw2Dn0qbCKH9gVTamxQYLNCX4Wvq6O9\n",
       "w4gS04y44/GY9j0Js3J7gWW7qKYtpyWsFYFt2sdgRsL0FA+v0K+MNmhhKadPz+KzYJprprlrncfC\n",
       "kSI8qjC/8YcFY/iKUjQhViX3VVgzfz8ZyBB6qsRE3xhQ5XaQz3+ccyQcCzInYbVJJgqwom4A63aR\n",
       "a2boikqYtsUJTnNkGbVH/lsMp1AtS3Ny3xiatzqyU0nl03Exi4s/ZzQUyu0RaeEy7nsjz2tW2p6E\n",
       "x74dut60ea3p+D8cWhm47b5muEO/Muhlebsq3f8AAAAASUVORK5CYII=\n",
       "\" style=\"display:inline;vertical-align:middle;\" /></a><br>"
      ],
      "text/plain": [
       "<IPython.core.display.HTML object>"
      ]
     },
     "metadata": {},
     "output_type": "display_data"
    },
    {
     "data": {
      "text/html": [
       "<strong id=\"add_6_9\"><a class=\"ProveItLink\" href=\"proofs/add_6_9/thm_proof.ipynb\">add_6_9</a> (conjecture without proof):<br></strong> <a class=\"ProveItLink\" href=\"../__pv_it/theorems/46e6bb1d7257e4b2e0196a7d1630b31eac7bcd1a0/theorem_expr.ipynb\"><img src=\"data:image/png;base64,iVBORw0KGgoAAAANSUhEUgAAAGwAAAAVBAMAAABRZRb3AAAAMFBMVEX///8AAAAAAAAAAAAAAAAA\n",
       "AAAAAAAAAAAAAAAAAAAAAAAAAAAAAAAAAAAAAAAAAAAv3aB7AAAAD3RSTlMAInZUiRDNmWbv3US7\n",
       "qzJazP2FAAAACXBIWXMAAA7EAAAOxAGVKw4bAAABlElEQVQ4y52UP0jDQBTGv/6JaTWlmXQR7NBB\n",
       "J0sRQUepo5hNBKHBQbqoHZSCInRycujSQTo0KA5GhI51q6Lg2EV0sXS1IFZFKArFd4kULr3r4Bty\n",
       "x3v87rv33r0A0CE2HwaZPyEJjMTE/iYUUpqhXSrV5ENq7gGY7EdaBlDesA0oJjBaiVhcVDnBi44h\n",
       "wwMpj9vkOv9epHPzwDq0mhuoukukwDyhbJ/aNGF1tgkDga+eO+kuURNBchbl2CygFbxYugb/D5CR\n",
       "YzskuLWw36/WAZaE2FO84ZwYzSCc4DCW2wdw6BTVdqzew+4wUcEpXakNtchhSgmvn8CcUI2yslAi\n",
       "zEKIMsGebR/b9iULrMSTXeBNgqnvDKNMQh1OjYxV8kqEaSbULruk9qfGYayT86LcwhYibdxQ3yi3\n",
       "AocFikjTczsSqQWp9DWnyLdY5SvpP8O92xyPLevwZTFloMXyyDX4viGVq9D3wks9lzfzGDvYBYa5\n",
       "t5/kBs6Sjxv/Xqvc9OQHjOm1NDI+aLrX/nEgyyAm+1vocugXJjJpEYF1fB8AAAAASUVORK5CYII=\n",
       "\" style=\"display:inline;vertical-align:middle;\" /></a><br>"
      ],
      "text/plain": [
       "<IPython.core.display.HTML object>"
      ]
     },
     "metadata": {},
     "output_type": "display_data"
    },
    {
     "data": {
      "text/html": [
       "<strong id=\"add_7_9\"><a class=\"ProveItLink\" href=\"proofs/add_7_9/thm_proof.ipynb\">add_7_9</a> (conjecture without proof):<br></strong> <a class=\"ProveItLink\" href=\"../__pv_it/theorems/1034b5d2a8ed71f24b62d2a1586dd5b28a6b62850/theorem_expr.ipynb\"><img src=\"data:image/png;base64,iVBORw0KGgoAAAANSUhEUgAAAGwAAAAVBAMAAABRZRb3AAAAMFBMVEX///8AAAAAAAAAAAAAAAAA\n",
       "AAAAAAAAAAAAAAAAAAAAAAAAAAAAAAAAAAAAAAAAAAAv3aB7AAAAD3RSTlMAInZUiRDNmWbv3US7\n",
       "qzJazP2FAAAACXBIWXMAAA7EAAAOxAGVKw4bAAABjklEQVQ4y2NgYBBgwA4YGfABJgPGVqwS3Ar4\n",
       "tJkwMP////8nqiB7+VUGBg1Mxa8CgISLywMG1gQGluPl5YtRZFkXMbwUYGALQNPEej0fKCS2gXcB\n",
       "A3sDAwvQHwUQiR0QincCA88BBo4CDNv0gdqSQHKcDAzMQHVQYSMIxQ90wlcGhqnYtDF/BTHMwFw/\n",
       "VG3xBxiYfjMwZGDTxjMBxCgBh/UBTNt+MDD4YtPGmedUDTWRdwOqNpDfPjEwtIEDdRUYXIBp489g\n",
       "4DRgAAehJAOqNtbZDG8/MzBYYrMt/gMD+1SG2SCeG1isatWqmatWrQUxw1WM/jEwvMeqbQEDx2+I\n",
       "tjVotgEBKCR3YtMG9DfHD7AjWf9iagPGDYMVNr/xgG07BEp939G0MU9liH/AwNCDNd6AfpsADmTm\n",
       "L2jamJYynIBFDgrwB2aXIwyRBgyvQNE2Gd2RLuWgKFmNruvu/FxgWiy/x8DA9QBZ3Aglwy3AnW9Q\n",
       "0+sOlNzTgCe/HcQpI4Mvm8aQYSDIB7jyPpMAbk0AyR9kor8A8FYAAAAASUVORK5CYII=\n",
       "\" style=\"display:inline;vertical-align:middle;\" /></a><br>"
      ],
      "text/plain": [
       "<IPython.core.display.HTML object>"
      ]
     },
     "metadata": {},
     "output_type": "display_data"
    },
    {
     "data": {
      "text/html": [
       "<strong id=\"add_8_9\"><a class=\"ProveItLink\" href=\"proofs/add_8_9/thm_proof.ipynb\">add_8_9</a> (conjecture without proof):<br></strong> <a class=\"ProveItLink\" href=\"../__pv_it/theorems/0f474cc302f879e1c46496ce6531429335237e840/theorem_expr.ipynb\"><img src=\"data:image/png;base64,iVBORw0KGgoAAAANSUhEUgAAAG0AAAAVBAMAAAC+p33JAAAAMFBMVEX///8AAAAAAAAAAAAAAAAA\n",
       "AAAAAAAAAAAAAAAAAAAAAAAAAAAAAAAAAAAAAAAAAAAv3aB7AAAAD3RSTlMAInZUiRDNmWbv3US7\n",
       "qzJazP2FAAAACXBIWXMAAA7EAAAOxAGVKw4bAAABmElEQVQ4y52UPUjDUBDH/2ka21qLXYUOGRzc\n",
       "LEUEXVyKm5pBcBHSRXARCwoBu2TRyUGQDtLBj9IlKjjWrXXRsYvoInZVKEKrqPgR7yVF+9LXDB68\n",
       "3JHjd/+8e+8CIA6xSfC1QLJHIqqKy226fgyYT+c8yZBxDYx0Q48aZNu23wElA2QR40WVIzzE0ad5\n",
       "KOVmVUPw0jCKVNlE2HRoZmXXxXYwUEE426U3Shx9KiUiQLD2y6VcN5hB8AXIiziZylI0DsifGql2\n",
       "cnoFgQ9gWcSRzdJap3XfXEOX3hswI+akCtyaIfuQ59j+msCW01rLsdofFzujR5EdRcJOcpxSQKMF\n",
       "TIj1hlhUAOvbFGvBhmXtWdYpe7swnPoGnsTcdJuLaJBanB4Z6+e5mDuB+506uVsvR+eHSeH+lC8W\n",
       "XZAe3ewqx8l56HVgW6gXfWUR9Tq6hLDKcYESrtpnxNscScjPzk2l1TBy/DkgbbBeH3uxu/0VE9Iu\n",
       "C/vrnYkUNzEHPuPHX94yN0ym39xWe2YSvvO++I+Kzi7UXj+QuA/1A0rMZC31wzL2AAAAAElFTkSu\n",
       "QmCC\n",
       "\" style=\"display:inline;vertical-align:middle;\" /></a><br>"
      ],
      "text/plain": [
       "<IPython.core.display.HTML object>"
      ]
     },
     "metadata": {},
     "output_type": "display_data"
    },
    {
     "data": {
      "text/html": [
       "<strong id=\"add_9_9\"><a class=\"ProveItLink\" href=\"proofs/add_9_9/thm_proof.ipynb\">add_9_9</a> (conjecture without proof):<br></strong> <a class=\"ProveItLink\" href=\"../__pv_it/theorems/fba1d9a29c5a1d2ea2704622e287466ae6c1b4130/theorem_expr.ipynb\"><img src=\"data:image/png;base64,iVBORw0KGgoAAAANSUhEUgAAAGwAAAAVBAMAAABRZRb3AAAAMFBMVEX///8AAAAAAAAAAAAAAAAA\n",
       "AAAAAAAAAAAAAAAAAAAAAAAAAAAAAAAAAAAAAAAAAAAv3aB7AAAAD3RSTlMAInZUiRDNmWbv3US7\n",
       "qzJazP2FAAAACXBIWXMAAA7EAAAOxAGVKw4bAAABdUlEQVQ4y2NgYBBgwA4YGfABJgMcEtwK+LSZ\n",
       "MDCwl19FEwSLaGAqfhXAwBDiUs3AwJrAwLqI4SWqSyEibAFomliv5wOFChh4DRjYGxh4JzDwHIBI\n",
       "7IBQEBGOAgzb9AMYOBpAVnEyMPAnMLB8hQgbQSioyFRs2lgugLSZMTDEH2Bg+o2iDSqSgU0b858A\n",
       "oAtLIGb/wLANKOKLTRvD/U/FYBNBPvmEog0q0gYO1FVgcAGujf3/QgaGxcAAms3w9jOKNqiIJVbb\n",
       "TGT+GzDMBnLCVYz+AamqVatmrlq1lgEu8h5rSBYw2E8Fa2NAD0moyE5s2jgDGBg/gxwJBLB4Q2gD\n",
       "iVhh81s8kLrBcIiBgXkqQ/wDFG1QkR6stgET1EFQIDMtZTjBgKINKlKCoc1fgIE7lYFDgeEVkONS\n",
       "vgFVG1RkNbquu/NzGxjelgOTMtcDZHEjlAy3AHe+QU2vO1ByTwOe/HYQp4wMvmwaQ4aBIB/gyvtM\n",
       "Arg1AQDzt2vun8CRowAAAABJRU5ErkJggg==\n",
       "\" style=\"display:inline;vertical-align:middle;\" /></a><br>"
      ],
      "text/plain": [
       "<IPython.core.display.HTML object>"
      ]
     },
     "metadata": {},
     "output_type": "display_data"
    }
   ],
   "source": [
    "add_0_9, add_1_9, add_2_9, add_3_9, add_4_9, add_5_9, add_6_9, add_7_9, add_8_9, add_9_9 = [Equals(Add(num(n), num(9)), num(n+9)) for n in range(10)]"
   ]
  },
  {
   "cell_type": "code",
   "execution_count": 27,
   "metadata": {},
   "outputs": [
    {
     "data": {
      "text/html": [
       "<strong id=\"md_only_nine_add_one\"><a class=\"ProveItLink\" href=\"proofs/md_only_nine_add_one/thm_proof.ipynb\">md_only_nine_add_one</a> (conjecture without proof):<br></strong> <a class=\"ProveItLink\" href=\"../__pv_it/theorems/3f6aa1c59d180e620a0e902285573afb03a486870/theorem_expr.ipynb\"><img src=\"data:image/png;base64,iVBORw0KGgoAAAANSUhEUgAAAkMAAAAVBAMAAAC3X/drAAAAMFBMVEX///8AAAAAAAAAAAAAAAAA\n",
       "AAAAAAAAAAAAAAAAAAAAAAAAAAAAAAAAAAAAAAAAAAAv3aB7AAAAD3RSTlMAq1RmmUTNIjK7EInv\n",
       "3XZ/CtNrAAAACXBIWXMAAA7EAAAOxAGVKw4bAAAF30lEQVRYw61YXWhcVRCe3N1kd+9mf/xB+9DW\n",
       "C6JCm5IFQzFgfiRpLY0NSxV8qWZrhIIPuvogFE27+uKDhKyCxBUxK0ihmHY3pS9WaSOhVBR1rRWL\n",
       "dGEbBR9EE9OS1lQSZ86cu/dnz94m7h4yYfaeOzPf/c6cOT8A62hpKaIFvN8NbLjDHmUDVgFYX2sM\n",
       "UHp9QaIGC7d575frdrdWbhPm2Y1Zza+TosYAkcTpx/2er26XIppWBBh8LC9/WZrVrX9Ycnt47fR7\n",
       "AL96hCA/0YT76Xi+vhXhCP4if3z+mxzt8NnHoSmAyCMBItlFDw55MaSnWIIlP/J+DOBEJXiBuyzN\n",
       "bNgNbf1uD/3QaUBbvm4I9vOCy+rul9BCYTUOwyLQx7tX+EGbof/M2nNwIt0MQOyRAKG8QbMy60WR\n",
       "P8ESXYxgqAGAzQA57rI0s2E3xAz3TF2CQgp8/XVDsJ8ucwaY6bSA36CwWoBLHCgqKeoB+EwovhKE\n",
       "s80AxB4JUBePUtjwoqhdin82hlk0C7AMcI4HwNLMht0w4h6d1vMQwzT8um4I9tMu7bSKjSKF1ROw\n",
       "yoFMit4B6BS2oThoK9AEQOyRAKH4cMjaPEvRgyy+nrmFO0FLgf4Pgk+KfK1q1ZmPgeELhZNODDMq\n",
       "tHtRDrvynv20JVQUjbpdPXyl929DBDIpug4wIUY51g/BJWgckPRIgEi+LZe/8aRoiKWwtrb2L/iL\n",
       "POaJ6ug7iix1w0HYvtc9bD/ivxmhjmUgcFmRRQkIx1UUzbjrCOJYmxWBJEU6fZCAUUCKrkHjgKRH\n",
       "AkSyB+ADT4pGpcQqfXlBKlaOqYpZQ6YcSyd169e0h+acLoJXN+H/nbwduUygamoR+vGlVBSx1b4y\n",
       "tR+Evupb4YyTFAVu4QcJm6NFCK5C44CkRwJE8jIE4rW8hC31opSCcQ4gggk9nQzex9XL0mSjbu3G\n",
       "/mDNEokLCHSwOvaWO4mkH21WRVFHzQq7FF4UgRwUFU2KbkHjgKRHAkQSyoexnPSYsMaGkr4vMUGt\n",
       "989LmchsweqF7+rDpxaYdkszSzt2++f40TEx8DJ6O37NhIxfztR8tfATXKSZUS5fwbkfr1I04X45\n",
       "eLOlJAJVJxp+0IjAXyhCqzOL/h8g6ZEAkWiVNukK0y+X1OJnYK+KIq5F7VydrXXMuaJRd+T5Pe6P\n",
       "ykAIq+iBuhSxn1ZlFh1Q1iI7RVRcO81yrS1BEwCxRwIkQKV6KUXFHhdf1Xr9UHRQJCeab+qv5XlO\n",
       "cPtuKFeT1wVjxBUytiIQ7ag70diPVlJRtMNdi7pXF1407BONbPt40c+Cb6UZgNgjARKgTtEmsjvw\n",
       "B58AtDefrhTDg/sGd5mvfyRlC21HQgi/I6/fBJ26LE026u7LFwzn8ac9LvK6W1kd86Yf8GVVFHW7\n",
       "4beUcH9GgaoUPQqwW8DwzYI/BfnGAQmPApAA9TrN+62vTKePC3yZMw84s2hGSi6wxGvgn/lQgnan\n",
       "Nk1fpj/uvgcKmaIDEe69aBsy5Fxj2UaYCT+8QNspOpcG08r+1dmjBm8QwjfMVNG/YkAXYTojPDYI\n",
       "SHgUgASoFqLwOyMITzJF/mjWQdG4lK36BTqoYdjTmGEROkJa2iXxJ7rfheiwazv71CCeGuEnodNq\n",
       "+6rQ2Kacl34gknRSdMf3BxOmlT2LKtNpEahl8/JdXJ6GrmYYxidnN7HHBgEJjwKQCQoC17Gi7czl\n",
       "coaW0YspB0WRDAu36rTdBrWarVtxP1NSH9mr6MfAlUUeVopA22o9NgHQWDXzss8E4G3OIthfceyL\n",
       "6LRnnfjMsyZYqWtP4i7v4zB47cAG3MdYDytFoKJiT9c4oAErecfDuEMiQpIQdW0lJ6VwJZCXDXp1\n",
       "qHX7oIfqX9MdVj8+WR3U7AasagNZME5C8wBZoELplkcg8D5VnUPyms1qx6UwEmkTtW4WHEDr36tM\n",
       "qh9XvD9mst4tljtQtNZjEwC5QX2ayyVVc7bCwu2I921m3e7o7a6Bf9+Y1ZF1Xsw2BgjlP+vMPr/+\n",
       "wTPCAAAAAElFTkSuQmCC\n",
       "\" style=\"display:inline;vertical-align:middle;\" /></a><br>"
      ],
      "text/plain": [
       "<IPython.core.display.HTML object>"
      ]
     },
     "metadata": {},
     "output_type": "display_data"
    }
   ],
   "source": [
    "md_only_nine_add_one = Forall(k, Equals(Add(DecimalSequence(ExprRange(i, nine, one, k)), one), \n",
    "                         DecimalSequence(one, ExprRange(i, zero, one, k))), \n",
    "              domain= NaturalPos)"
   ]
  },
  {
   "cell_type": "markdown",
   "metadata": {},
   "source": [
    "### Multiplying digits"
   ]
  },
  {
   "cell_type": "code",
   "execution_count": 28,
   "metadata": {},
   "outputs": [
    {
     "data": {
      "text/html": [
       "<strong id=\"mult_0_0\"><a class=\"ProveItLink\" href=\"proofs/mult_0_0/thm_proof.ipynb\">mult_0_0</a> (conjecture without proof):<br></strong> <a class=\"ProveItLink\" href=\"../__pv_it/theorems/cf4676a3315179268f46707de7d45e138d8bae930/theorem_expr.ipynb\"><img src=\"data:image/png;base64,iVBORw0KGgoAAAANSUhEUgAAAFcAAAAVBAMAAADBdm84AAAAMFBMVEX///8AAAAAAAAAAAAAAAAA\n",
       "AAAAAAAAAAAAAAAAAAAAAAAAAAAAAAAAAAAAAAAAAAAv3aB7AAAAD3RSTlMAInZUiRDNmWbv3US7\n",
       "qzJazP2FAAAACXBIWXMAAA7EAAAOxAGVKw4bAAABT0lEQVQoz3XTP0vDQBjH8W+bpk3/UDu7GCcn\n",
       "IYO4NhRHhWyiCC2I4BihiDh1E13sXpBKN0EQ34Cps0JfgXR2UbSioxcvae3lctPlwy9Pnie5ADUS\n",
       "S0NyZZ2k3aeF1yDXOJpdb6zUyHYSsZAxW7DP7vTBece8hgM1K7nQweqTC2K9gE04U8OSi1AZYXzF\n",
       "+gx1j6KnhCWvw4JP9TPWb3hzyKtNS25DU4R/IjRD7ZAbzWcjPoQll+pHpJmJUBurFV6c3oTrdsYD\n",
       "GZ78D7sY3fnKEfdEGy7lsHJTlDOFPthU35U2JPf+BjTCAUu+nKTuUO4mBxQs2qgEWNNX9wSXHkZ/\n",
       "vueIH8HqUmjF4XM4FhQolSVvid2AnXGsJce8Et/VVcKSX8Vuu/EyG6W9Km4s3SnhiMe6o7ioP6GW\n",
       "r9OTlPM81FgmSAnvaayS9l9l7KQt66O/HIRbMO+eacEAAAAASUVORK5CYII=\n",
       "\" style=\"display:inline;vertical-align:middle;\" /></a><br>"
      ],
      "text/plain": [
       "<IPython.core.display.HTML object>"
      ]
     },
     "metadata": {},
     "output_type": "display_data"
    },
    {
     "data": {
      "text/html": [
       "<strong id=\"mult_1_0\"><a class=\"ProveItLink\" href=\"proofs/mult_1_0/thm_proof.ipynb\">mult_1_0</a> (conjecture without proof):<br></strong> <a class=\"ProveItLink\" href=\"../__pv_it/theorems/c62efb1d7ff61d87f5c02ca4e3752da9c8fc2ed70/theorem_expr.ipynb\"><img src=\"data:image/png;base64,iVBORw0KGgoAAAANSUhEUgAAAFcAAAAVBAMAAADBdm84AAAAMFBMVEX///8AAAAAAAAAAAAAAAAA\n",
       "AAAAAAAAAAAAAAAAAAAAAAAAAAAAAAAAAAAAAAAAAAAv3aB7AAAAD3RSTlMAInZUiRDNmWbv3US7\n",
       "qzJazP2FAAAACXBIWXMAAA7EAAAOxAGVKw4bAAABJ0lEQVQoz3WTMUsDMRTH/9ea9q6KdHY6Jydp\n",
       "BnFtB8eK9wEEuwguYoci0qmb2MXugm3pViiIX8DqXMHNSeh8iw5CVxPeYZqX3INA3i8/Hi/kBUAV\n",
       "TngQRUG67DlPPlArTUx+tFdFoedoGkO0ID6vjFySYgycc5dwWRepGbkPNIFbLhOOYMvvQD1BlDCZ\n",
       "8CGTV8C3RIk3Tbhjy0LTHjY+bDfDF7Yc/CoaI2zppDvVMTN44pEbKA7syhl+MPKZKicUfYmx/cPa\n",
       "ILwmV9p0k7rE5sC9oMKsDSyA+wTFkd1zht+YfAdcA+GcVSZ8rLcnZswqUjyqd20wmXCqdl/Dy/9H\n",
       "EJ39pTp7YnKGl75R3PFPaNj20ZuceX71sGCeI5962Fbevwpil+361T/kk1G+5KO7swAAAABJRU5E\n",
       "rkJggg==\n",
       "\" style=\"display:inline;vertical-align:middle;\" /></a><br>"
      ],
      "text/plain": [
       "<IPython.core.display.HTML object>"
      ]
     },
     "metadata": {},
     "output_type": "display_data"
    },
    {
     "data": {
      "text/html": [
       "<strong id=\"mult_2_0\"><a class=\"ProveItLink\" href=\"proofs/mult_2_0/thm_proof.ipynb\">mult_2_0</a> (conjecture without proof):<br></strong> <a class=\"ProveItLink\" href=\"../__pv_it/theorems/fc2dd8ad78baae0f0cdff38136fd2e6bc96bf9df0/theorem_expr.ipynb\"><img src=\"data:image/png;base64,iVBORw0KGgoAAAANSUhEUgAAAFcAAAAVBAMAAADBdm84AAAAMFBMVEX///8AAAAAAAAAAAAAAAAA\n",
       "AAAAAAAAAAAAAAAAAAAAAAAAAAAAAAAAAAAAAAAAAAAv3aB7AAAAD3RSTlMAInZUiRDNmWbv3US7\n",
       "qzJazP2FAAAACXBIWXMAAA7EAAAOxAGVKw4bAAABTUlEQVQoz3XTMUvDQBQH8H8a0ybVSJwEpziI\n",
       "k5BBXJvBUTEfQDCL4NihtOKUTRTE7IJEHAShUPwCRmct/QgdnFxaQXEz3uXurLlcjlDe+/HneA+u\n",
       "AByUjoLYqXlle6gKbwLL3eGs3153UItKMcowQmgp9gYC655xAxzKWcaNCLYDKxZ6DuwAp3KYsUW+\n",
       "L9gfQl+BVgArkMKMtwA7gf0j9BuYeKjLQzPu5HVzytGgGmFuVMxyPsqbictV+8wbM6TNyT09/Rnf\n",
       "5pk+/od96HHxZs5XtG6k9PeAXGcQfXSxOJXGYJyHL9jgbbZJy8N8XF6QMB1D97Ek9AW4DKAnxZk5\n",
       "P5PqDVgT4TOgC5ipdDPjXTL9Xa+XCG16xjVZwpfCjN9JkWVZ+LdKZ2NMaCCFOY9VT3FF/ULNtkqP\n",
       "K97zk8K0tCK8r7CFqv+V5pZtVR39Bek2WbRh9PBQAAAAAElFTkSuQmCC\n",
       "\" style=\"display:inline;vertical-align:middle;\" /></a><br>"
      ],
      "text/plain": [
       "<IPython.core.display.HTML object>"
      ]
     },
     "metadata": {},
     "output_type": "display_data"
    },
    {
     "data": {
      "text/html": [
       "<strong id=\"mult_3_0\"><a class=\"ProveItLink\" href=\"proofs/mult_3_0/thm_proof.ipynb\">mult_3_0</a> (conjecture without proof):<br></strong> <a class=\"ProveItLink\" href=\"../__pv_it/theorems/dad96d13101489c7a4cacce8c6eabf6a9a2f65200/theorem_expr.ipynb\"><img src=\"data:image/png;base64,iVBORw0KGgoAAAANSUhEUgAAAFcAAAAVBAMAAADBdm84AAAAMFBMVEX///8AAAAAAAAAAAAAAAAA\n",
       "AAAAAAAAAAAAAAAAAAAAAAAAAAAAAAAAAAAAAAAAAAAv3aB7AAAAD3RSTlMAInZUiRDNmWbv3US7\n",
       "qzJazP2FAAAACXBIWXMAAA7EAAAOxAGVKw4bAAABTElEQVQoz3WTP0vDQBiHf2m9mjQl7eDkFCen\n",
       "QgZxTQfBRSEfQLCL4JihqDhlE13sXhDFRQRBXBytXVXoJ5DMLgq1uPomb/40l8s7hLvnHi6/u7wB\n",
       "0EGpFIir5pTZU5W8Aaxsv+XzrfUOakFJizBEH8KHm23fcMQNcCC7jJcD1GbY76f0AtgBzmSZsQGY\n",
       "I7Qz+QNwPRieJDPejMduFvIP+HbQkEMzHkRD8y6FIqIBlqZFN8GHNLS6nynVfona0ONYp/dRPeT4\n",
       "lmM4i3IP9WFx5wSP4okxp0d0JYLoiw3rR4rBmGQrRGtGpOnzSeg15rB8QMIUoz1nOa534NJD/bqY\n",
       "OcETyjDlGHGdA0eAPpZ2ZrxLK8HCPTcdcUXftSfJjL9o9HycN5IYdENae5TkBIeqVlxVd6juq+hJ\n",
       "RT+/Kpg2rpD3FKxV9V9pdpmtqdV/P4BY/dYu9ZoAAAAASUVORK5CYII=\n",
       "\" style=\"display:inline;vertical-align:middle;\" /></a><br>"
      ],
      "text/plain": [
       "<IPython.core.display.HTML object>"
      ]
     },
     "metadata": {},
     "output_type": "display_data"
    },
    {
     "data": {
      "text/html": [
       "<strong id=\"mult_4_0\"><a class=\"ProveItLink\" href=\"proofs/mult_4_0/thm_proof.ipynb\">mult_4_0</a> (conjecture without proof):<br></strong> <a class=\"ProveItLink\" href=\"../__pv_it/theorems/43764812da1cd4c6356d135a66dd9a8e53b0607f0/theorem_expr.ipynb\"><img src=\"data:image/png;base64,iVBORw0KGgoAAAANSUhEUgAAAFcAAAAVBAMAAADBdm84AAAAMFBMVEX///8AAAAAAAAAAAAAAAAA\n",
       "AAAAAAAAAAAAAAAAAAAAAAAAAAAAAAAAAAAAAAAAAAAv3aB7AAAAD3RSTlMAInZUiRDNmWbv3US7\n",
       "qzJazP2FAAAACXBIWXMAAA7EAAAOxAGVKw4bAAABQElEQVQoz3WTsUvDQBSHf0m9mlaR4CROcXIS\n",
       "bhDXZnBUyB8g6CJ0EToUEXHoJrrYXRTFTSiIu1idFURcC90sLjoIIgh6Ly9eyN3lhvDuy8fj98gL\n",
       "gBDWcSA+vrTZdZm8SI/X/L48H8LvWBphiA0qexpWpTgHNk2X8Tg18XP5EFgB9k2ZcY3K0Zamj0Aj\n",
       "QS0xZMZLVMa5/AW8S1TN0IzblCLUsiDawdhT0c1wU5Uz0LL3qWiEIB1795JOL8cXlMKQY1S6xc4Z\n",
       "PgaCkOV11U4oehth6sOIwVjJ02C53uJJGhITXXtAhVWMm8Hg++WfPgBHCSpnxcwZvk+VE93iANhW\n",
       "yfpGZ8araf2jaV2KU/VdY0Nm/Ebl3u+zHqW9MFTvrgw5w0PXKs66NzRouehOyT7fOZjXL5HXHGyy\n",
       "7L/yIpvNudU/XyJWT6NZYiAAAAAASUVORK5CYII=\n",
       "\" style=\"display:inline;vertical-align:middle;\" /></a><br>"
      ],
      "text/plain": [
       "<IPython.core.display.HTML object>"
      ]
     },
     "metadata": {},
     "output_type": "display_data"
    },
    {
     "data": {
      "text/html": [
       "<strong id=\"mult_5_0\"><a class=\"ProveItLink\" href=\"proofs/mult_5_0/thm_proof.ipynb\">mult_5_0</a> (conjecture without proof):<br></strong> <a class=\"ProveItLink\" href=\"../__pv_it/theorems/4410372ed53ba021598255a6802db4b466053b6e0/theorem_expr.ipynb\"><img src=\"data:image/png;base64,iVBORw0KGgoAAAANSUhEUgAAAFcAAAAVBAMAAADBdm84AAAAMFBMVEX///8AAAAAAAAAAAAAAAAA\n",
       "AAAAAAAAAAAAAAAAAAAAAAAAAAAAAAAAAAAAAAAAAAAv3aB7AAAAD3RSTlMAInZUiRDNmWbv3US7\n",
       "qzJazP2FAAAACXBIWXMAAA7EAAAOxAGVKw4bAAABTklEQVQoz3WTMUvDQBTH/2l7TVKjdBNcjCCI\n",
       "g3CDuLaDbgr5AIJZFMcMVUQQuokudhc04mRBKH4Bo+Cm0NFJMruoIAgO4ksvTXuXyxvCe7/78XiP\n",
       "uwCoIxcaJKLEEYPJx3dF8jJwudP1snp1oY5SO6clGMwHbn7XMljl7ArYVl2BTWrSH6OnwDpwrMoC\n",
       "25DlF6DhwfYUWeAVRf4BPjiq6tACtyh7nX8bQpbQNip92U3xLqVPmO2l1Pgm6sLyk+Kwm8TtCF8P\n",
       "HCccl5sod+TOKT4fFOYXfbaoHSN672LqUxlDYJIdH+YfkVogNmlwTHTyCxKmMewQk1mnZ+DMQzmU\n",
       "Z07xI1AhPxrKJ8A+YEVKZ4E3aPoAi9kl1Di7oB2aiizwO2XTR3ujVVpLMZ31FDnFse4pzuhfqBXo\n",
       "6EHBe37QMCMqkDc1zCn6rww3z+b06j99IFlgAuBrhQAAAABJRU5ErkJggg==\n",
       "\" style=\"display:inline;vertical-align:middle;\" /></a><br>"
      ],
      "text/plain": [
       "<IPython.core.display.HTML object>"
      ]
     },
     "metadata": {},
     "output_type": "display_data"
    },
    {
     "data": {
      "text/html": [
       "<strong id=\"mult_6_0\"><a class=\"ProveItLink\" href=\"proofs/mult_6_0/thm_proof.ipynb\">mult_6_0</a> (conjecture without proof):<br></strong> <a class=\"ProveItLink\" href=\"../__pv_it/theorems/501dd0fee90fd7e7dd4a5bfcca055b6e7c5dca070/theorem_expr.ipynb\"><img src=\"data:image/png;base64,iVBORw0KGgoAAAANSUhEUgAAAFcAAAAVBAMAAADBdm84AAAAMFBMVEX///8AAAAAAAAAAAAAAAAA\n",
       "AAAAAAAAAAAAAAAAAAAAAAAAAAAAAAAAAAAAAAAAAAAv3aB7AAAAD3RSTlMAInZUiRDNmWbv3US7\n",
       "qzJazP2FAAAACXBIWXMAAA7EAAAOxAGVKw4bAAABU0lEQVQoz3XTMUvDQBQH8H+aXpvEaDs5OKWT\n",
       "k5BBXFsko0JWQWgQhE7SoVTRpZvoYhYnQSJuglD8AkZxVPATSGcXOygKLr54SZpcLgeB3I8/j3eX\n",
       "FwBNFJaE+KrYRbsrC6/S4ziTdO8sN1EZFWIRg3nA4ng+SLBmsytgV8xyrlORHZhhoqfABnAshjnr\n",
       "gPqV0Reg7UJ3hTDnNcD0M/oNfNioiU1zHlDxvfWjBFmkI1Rf89mYe0CjBz25P+WT1ILmRZvDm2jd\n",
       "zvga6E5RP8+GO1D9fOWYLygcQPsl6VI5RnpvYWEqtMGZwg0P2g+J0ecnaduY84sHJKY2zLjy/3oG\n",
       "zlyoQb7nmB/pnqnntNIJMAS0UKjMeZPenrCVTpNhs0v6rh0hzPmd3qr7b7OjDFZoqIyxEI55IhvF\n",
       "JfmEan2ZHpTM84PElLAkvC0xs+y/UqyiteTRP5YqWefREcSFAAAAAElFTkSuQmCC\n",
       "\" style=\"display:inline;vertical-align:middle;\" /></a><br>"
      ],
      "text/plain": [
       "<IPython.core.display.HTML object>"
      ]
     },
     "metadata": {},
     "output_type": "display_data"
    },
    {
     "data": {
      "text/html": [
       "<strong id=\"mult_7_0\"><a class=\"ProveItLink\" href=\"proofs/mult_7_0/thm_proof.ipynb\">mult_7_0</a> (conjecture without proof):<br></strong> <a class=\"ProveItLink\" href=\"../__pv_it/theorems/7d794fa1ba32246762ec6eecda63a344a343d48f0/theorem_expr.ipynb\"><img src=\"data:image/png;base64,iVBORw0KGgoAAAANSUhEUgAAAFcAAAAVBAMAAADBdm84AAAAMFBMVEX///8AAAAAAAAAAAAAAAAA\n",
       "AAAAAAAAAAAAAAAAAAAAAAAAAAAAAAAAAAAAAAAAAAAv3aB7AAAAD3RSTlMAInZUiRDNmWbv3US7\n",
       "qzJazP2FAAAACXBIWXMAAA7EAAAOxAGVKw4bAAABRklEQVQoz3XTPUvDQBgH8P/1ejVtrXTVKU5O\n",
       "wg3i2g7ipJIPULCL4JihWHHqIqKLBUdBFDdRKH4BUxcXC36Ezi46FIqDxHvJi7lcbnrulz/H8yQX\n",
       "AE3kloX0KnFyatpzUXgDNAzDn2S/tdZEaZCLSQbrovzW79/HWOHsDjgws5oXBigDxI/1AtgBzsyw\n",
       "5ipAgUaiE6DloeoZYc2bqt5LdA58cVTMpjX3ZEmCGJlU0dlHNhvxoawbo1jJTKgLpys3Jw9yPaWs\n",
       "XsMyMuE26DB7csTXst5Wsi+OY0JfXCx9G21oVuFHJTVfT9LiqA/zAwqWbbDfVN+BSw/0NttzxK+i\n",
       "qs/T8DlwBDiBcbLmXVHRWao1zm7Ed20bYc2fctarf6P01qfi2cgIRzy1XcUV+w11fJseF9znscVI\n",
       "UBDuWGyx6L8ibt5W7dE/7MtU8dj3utkAAAAASUVORK5CYII=\n",
       "\" style=\"display:inline;vertical-align:middle;\" /></a><br>"
      ],
      "text/plain": [
       "<IPython.core.display.HTML object>"
      ]
     },
     "metadata": {},
     "output_type": "display_data"
    },
    {
     "data": {
      "text/html": [
       "<strong id=\"mult_8_0\"><a class=\"ProveItLink\" href=\"proofs/mult_8_0/thm_proof.ipynb\">mult_8_0</a> (conjecture without proof):<br></strong> <a class=\"ProveItLink\" href=\"../__pv_it/theorems/1ddb45e286ab1eda580806750270bca6917028780/theorem_expr.ipynb\"><img src=\"data:image/png;base64,iVBORw0KGgoAAAANSUhEUgAAAFcAAAAVBAMAAADBdm84AAAAMFBMVEX///8AAAAAAAAAAAAAAAAA\n",
       "AAAAAAAAAAAAAAAAAAAAAAAAAAAAAAAAAAAAAAAAAAAv3aB7AAAAD3RSTlMAInZUiRDNmWbv3US7\n",
       "qzJazP2FAAAACXBIWXMAAA7EAAAOxAGVKw4bAAABUklEQVQoz3XTsUvDQBQG8C+N11xblc7iECcn\n",
       "4QZxTYeOChkchXYpOAYsKrpkE13s4iSIxU0QxH/AtrOCo1s7C6Ko4CLUl17SNHeXN11++fryLrkC\n",
       "qEIrA8kqCN0e8sLrwHb9OL2ur1ZRCLVYxGBNIMDCtH1RsC7QUrOSnRA8nPxE1hmwCZyoYcklYO5l\n",
       "JvwMeD5KvhKWvAHYf74zHfIX+BAoqkNLbtNq+LWXIIs0jB6WqZh3aemMu4laP6Qu+GSso9uo7lK+\n",
       "id7e8ljMhmuwO9nOMV8CPIB3QdKgdoz00cXipzKGZArT1q1vknIgd+IJVDr6BolpjAZdvCb6BJz7\n",
       "sK+zM8c8oM70IftJ+BTYp8l6SmfJW0ClBe4mWhbsit5PTQlLfqPV+0F6kFh7bUT37pVwzCPTUVwy\n",
       "n1AemPQw5zz3DWb1csI7BpvP+19Zrm4r5ug/h2RZctyOSvcAAAAASUVORK5CYII=\n",
       "\" style=\"display:inline;vertical-align:middle;\" /></a><br>"
      ],
      "text/plain": [
       "<IPython.core.display.HTML object>"
      ]
     },
     "metadata": {},
     "output_type": "display_data"
    },
    {
     "data": {
      "text/html": [
       "<strong id=\"mult_9_0\"><a class=\"ProveItLink\" href=\"proofs/mult_9_0/thm_proof.ipynb\">mult_9_0</a> (conjecture without proof):<br></strong> <a class=\"ProveItLink\" href=\"../__pv_it/theorems/b7752f274bdeee7a225e0853980ccbfbceb4812e0/theorem_expr.ipynb\"><img src=\"data:image/png;base64,iVBORw0KGgoAAAANSUhEUgAAAFcAAAAVBAMAAADBdm84AAAAMFBMVEX///8AAAAAAAAAAAAAAAAA\n",
       "AAAAAAAAAAAAAAAAAAAAAAAAAAAAAAAAAAAAAAAAAAAv3aB7AAAAD3RSTlMAInZUiRDNmWbv3US7\n",
       "qzJazP2FAAAACXBIWXMAAA7EAAAOxAGVKw4bAAABUklEQVQoz3XTvUvDQBzG8W/apm9W7exUQXAS\n",
       "gohrOzgqZHMR2kVw7FCsOGUTXeziVBC1uAhC8R8wOjkouLh3VRDFFxQE8ZJLGnu53JK7D0/uLb8A\n",
       "ZWJNQ7KlrLhdJIUXINd+iMZLs2VSTizmMWYD84TH4cJZyzyGdTUrOecw3qHkhroHy7CjhiUXYLJB\n",
       "5jPUO6jaFGwlLHkR6i6pn1C/4MUiq25ackvO/B2g6alD5n40G/AG/p7fAjU+hFbIN7zB9pnXziPu\n",
       "ide6PL//D9dId0ZnDrgruqsz87/iURfTmUIvK0y8KtuQ3PUH/m0Um/IkVYuxTvyAgnt+P7rnW9i3\n",
       "SR+N7jnga0gfUB+E4V3YhLyrzCx5RZTSKTdDLVrmofiuNSUs+ckrknY/OkprTqxS7CvhgAe6UpzS\n",
       "V2i+qdOthHq+0pjhJoTXNFZK+q+MStym9dE/SS9csr3zMMoAAAAASUVORK5CYII=\n",
       "\" style=\"display:inline;vertical-align:middle;\" /></a><br>"
      ],
      "text/plain": [
       "<IPython.core.display.HTML object>"
      ]
     },
     "metadata": {},
     "output_type": "display_data"
    }
   ],
   "source": [
    "mult_0_0, mult_1_0, mult_2_0, mult_3_0, mult_4_0, mult_5_0, mult_6_0, mult_7_0, mult_8_0, mult_9_0 = [Equals(Mult(num(n), num(0)), num(n*0)) for n in range(10)]"
   ]
  },
  {
   "cell_type": "code",
   "execution_count": 29,
   "metadata": {},
   "outputs": [
    {
     "data": {
      "text/html": [
       "<strong id=\"mult_0_1\"><a class=\"ProveItLink\" href=\"proofs/mult_0_1/thm_proof.ipynb\">mult_0_1</a> (conjecture without proof):<br></strong> <a class=\"ProveItLink\" href=\"../__pv_it/theorems/fe1d980a68f66f53fbe730378a83f09366d353080/theorem_expr.ipynb\"><img src=\"data:image/png;base64,iVBORw0KGgoAAAANSUhEUgAAAFcAAAAVBAMAAADBdm84AAAAMFBMVEX///8AAAAAAAAAAAAAAAAA\n",
       "AAAAAAAAAAAAAAAAAAAAAAAAAAAAAAAAAAAAAAAAAAAv3aB7AAAAD3RSTlMAInZUiRDNmWbv3US7\n",
       "qzJazP2FAAAACXBIWXMAAA7EAAAOxAGVKw4bAAABU0lEQVQoz3WTvUvDUBTFT0xek6YxOrsYJych\n",
       "g7g2FEeFbKIoDYjgGKEUccomuphdkEpxEQTxHzA6K3TURTq7+NWqo/dZSHkvL3d43Jz8OO/ccANg\n",
       "GoVSSKOa8IvaTRm8CBiNvfGze0EGSQFbnqfrWARsYyO/eKs9pHNHZis+OwfMBFYHRjaOxeFDGT4G\n",
       "VoAq4PSgD0W4GkrwI1APsQRMxXC/RLgih/4B3ny0gCbBvyJs9ESWcTjBLjAbwP0UYSvi7cElryvq\n",
       "tAHBHrojeCDCeio6/8MBTilGgBp3bkY57L5LMQi+9ThMA+p8QDvO4VpaHLDu8xhOBkv6dHpHzIwH\n",
       "4CTEPU2TwoykATPJ+QhoA6vUdbHez2Xjgw4zkGDbZ2fAK3VrjZdcnXz+fqJ31xLMWgvkZ/dVqzij\n",
       "3lArVqn7Jft8p9C0rATeVGhO2X+leUVtTo3+AbEkVn1GvvPqAAAAAElFTkSuQmCC\n",
       "\" style=\"display:inline;vertical-align:middle;\" /></a><br>"
      ],
      "text/plain": [
       "<IPython.core.display.HTML object>"
      ]
     },
     "metadata": {},
     "output_type": "display_data"
    },
    {
     "data": {
      "text/html": [
       "<strong id=\"mult_1_1\"><a class=\"ProveItLink\" href=\"proofs/mult_1_1/thm_proof.ipynb\">mult_1_1</a> (conjecture without proof):<br></strong> <a class=\"ProveItLink\" href=\"../__pv_it/theorems/31b2d52899854fea88cca580bd5f2ca6300e73680/theorem_expr.ipynb\"><img src=\"data:image/png;base64,iVBORw0KGgoAAAANSUhEUgAAAFYAAAAVBAMAAAAutAQGAAAAMFBMVEX///8AAAAAAAAAAAAAAAAA\n",
       "AAAAAAAAAAAAAAAAAAAAAAAAAAAAAAAAAAAAAAAAAAAv3aB7AAAAD3RSTlMAInZUiRDNmWbv3US7\n",
       "qzJazP2FAAAACXBIWXMAAA7EAAAOxAGVKw4bAAAA4UlEQVQoz2NgYBBgwABYhMCAyQBTbBMOtSZA\n",
       "/CoAwedbCtTfgKEMJMyawMB6PR+hNrbsK5BMRVcKFmYHGaGPZC4TSG07plOBwpwM2NRyBmBTa4ZV\n",
       "LVsDNrUlWNWyXMCmNgOrWo4EELNqFQishQsvxqqWeQI2c2cj1MYnwNXyfSCglqsArpYbq7k43LAA\n",
       "m3sPYffbAWzm+oIY/kgJi+UjkGB3QFcLEn4FpO/Oz4WHPe/NbzeATt+AphQszPUAW+KTwpokOQqw\n",
       "iVZgT78HsYgxHsCuNgaLGA+OTMSogCmmiFUlAD08SFgDtMdNAAAAAElFTkSuQmCC\n",
       "\" style=\"display:inline;vertical-align:middle;\" /></a><br>"
      ],
      "text/plain": [
       "<IPython.core.display.HTML object>"
      ]
     },
     "metadata": {},
     "output_type": "display_data"
    },
    {
     "data": {
      "text/html": [
       "<strong id=\"mult_2_1\"><a class=\"ProveItLink\" href=\"proofs/mult_2_1/thm_proof.ipynb\">mult_2_1</a> (conjecture without proof):<br></strong> <a class=\"ProveItLink\" href=\"../__pv_it/theorems/783fbf7e562f7dd9726e403135ab4541b05fed550/theorem_expr.ipynb\"><img src=\"data:image/png;base64,iVBORw0KGgoAAAANSUhEUgAAAFcAAAAVBAMAAADBdm84AAAAMFBMVEX///8AAAAAAAAAAAAAAAAA\n",
       "AAAAAAAAAAAAAAAAAAAAAAAAAAAAAAAAAAAAAAAAAAAv3aB7AAAAD3RSTlMAInZUiRDNmWbv3US7\n",
       "qzJazP2FAAAACXBIWXMAAA7EAAAOxAGVKw4bAAABTklEQVQoz3WTMUvDQBTH/2mjSaoX4iQUhzq4\n",
       "OxTnfAExH0Axi+Dg0EEaKQ7dnISu4mBARBCKxU8Q/QBFN3VpBicXq9AugvEubVPy7vIIx8ufX17+\n",
       "9+4dAAdSKKRJlDZl7aEIrgOrzf783b7hBdqU0oKjGFjwoUXY6c3UveaIrwcUXoP+CxhtMAdWZ25L\n",
       "wGcUfgEuAIs/I7DvPGx5BL7yMHCwBbAQ7C8PL1LT78AgxnGaV4Z5WH+WO3EPHKbJVy0Pm75IW3ci\n",
       "utMu/QDXadZFHi53pMIV/rNLkRiRWPf9DLaHEnyKKXw++baRwUtSZVPsQtgou1ghNkLquQ7NwRNP\n",
       "PoANssGIFLZdlDxs83O/DYIwk3VxPoZL4GoQtIBP7jVJEn+msrfxK5d6tMlJMuZyrBrFqnpCzYZK\n",
       "PSmY50eFpkUF8K5CWy66V1pN1tbV6D+3QVMrO7KVDAAAAABJRU5ErkJggg==\n",
       "\" style=\"display:inline;vertical-align:middle;\" /></a><br>"
      ],
      "text/plain": [
       "<IPython.core.display.HTML object>"
      ]
     },
     "metadata": {},
     "output_type": "display_data"
    },
    {
     "data": {
      "text/html": [
       "<strong id=\"mult_3_1\"><a class=\"ProveItLink\" href=\"proofs/mult_3_1/thm_proof.ipynb\">mult_3_1</a> (conjecture without proof):<br></strong> <a class=\"ProveItLink\" href=\"../__pv_it/theorems/21188066e23a6267c022d6a7db3dfa383bd9a84f0/theorem_expr.ipynb\"><img src=\"data:image/png;base64,iVBORw0KGgoAAAANSUhEUgAAAFcAAAAVBAMAAADBdm84AAAAMFBMVEX///8AAAAAAAAAAAAAAAAA\n",
       "AAAAAAAAAAAAAAAAAAAAAAAAAAAAAAAAAAAAAAAAAAAv3aB7AAAAD3RSTlMAInZUiRDNmWbv3US7\n",
       "qzJazP2FAAAACXBIWXMAAA7EAAAOxAGVKw4bAAABRklEQVQoz2NgYBBgwABYhCCAyQBTbBMuxSYM\n",
       "DCLupxF8vqVAAxrQVTG61GxgYGBNYGAtYLCHGx9b9hVIpqIrDmdg/szAwN7AwPSZIT4B4SyQ4nZ0\n",
       "xfoGrN8YGDgZGLhnM/CjKeYMQFO8cwMDULEZmG3fgKqYDcPRDMw/GBhKQAzuFQyoilkuYCjeBdSf\n",
       "AQoA3XtoijnAzqpaBQJrwcKP7j5gYFgMcYYBqmLmCZjOAIbGbDCLE6QCEiRgxXwfMCNkfgBIMd8D\n",
       "Bh6gNgauArhibnST3zEwnDcAOYP/K0QxsjMWoLn5fwBI8SGgGy5AnIHswQNoJs8FO8MXKNOAHM4s\n",
       "H4EEuwOa4g5wOL8CsraXIxIS781vN4DO34CmmLsclJC4HmBLilLYUyhHATbRChzp+SAWMcYDOBTH\n",
       "YBHjwZWvGBUwxRSxKwUAenxV9d6l36IAAAAASUVORK5CYII=\n",
       "\" style=\"display:inline;vertical-align:middle;\" /></a><br>"
      ],
      "text/plain": [
       "<IPython.core.display.HTML object>"
      ]
     },
     "metadata": {},
     "output_type": "display_data"
    },
    {
     "data": {
      "text/html": [
       "<strong id=\"mult_4_1\"><a class=\"ProveItLink\" href=\"proofs/mult_4_1/thm_proof.ipynb\">mult_4_1</a> (conjecture without proof):<br></strong> <a class=\"ProveItLink\" href=\"../__pv_it/theorems/f77d542749adeaa75b8c1f27f330f60d2ea76a9c0/theorem_expr.ipynb\"><img src=\"data:image/png;base64,iVBORw0KGgoAAAANSUhEUgAAAFcAAAAVBAMAAADBdm84AAAAMFBMVEX///8AAAAAAAAAAAAAAAAA\n",
       "AAAAAAAAAAAAAAAAAAAAAAAAAAAAAAAAAAAAAAAAAAAv3aB7AAAAD3RSTlMAInZUiRDNmWbv3US7\n",
       "qzJazP2FAAAACXBIWXMAAA7EAAAOxAGVKw4bAAABJklEQVQoz2NgYBBgwABYhCCAyQBTbBMuxSYg\n",
       "4jmCz7cUaEADpjq+AgYG1gQQay1cLLbsK5BMxVTMdYGBgR1kCNNaJGeBFLdjKtYCKuYEMV7koinm\n",
       "DMBwRRtQsRmI5YCumA3D0SxsQMUlIHkBdMUsF9AVK4IUZwAZEgzoijnA3q5aBQJg/zA2gBQvBrkC\n",
       "QzHzBHRXMIAUzwYaIwBRHJ8AV8z3AU1xI0yxEANEMVcBXDE3msmMCgxQZ+y9e/fnFTRnLEB1M/fd\n",
       "u/fnOjAcAquYi+7BAxiRwgk02RfM+oPklY9Agt0BQzE/UP8rEKPm/yWYGO/NbzeAzt+Arpb9/F8F\n",
       "Bq4H2JKiFPYUylGATbQCR3o+iEWM8QAOxTFYxHhw5StgeGMARexKATiBTkF1dpz7AAAAAElFTkSu\n",
       "QmCC\n",
       "\" style=\"display:inline;vertical-align:middle;\" /></a><br>"
      ],
      "text/plain": [
       "<IPython.core.display.HTML object>"
      ]
     },
     "metadata": {},
     "output_type": "display_data"
    },
    {
     "data": {
      "text/html": [
       "<strong id=\"mult_5_1\"><a class=\"ProveItLink\" href=\"proofs/mult_5_1/thm_proof.ipynb\">mult_5_1</a> (conjecture without proof):<br></strong> <a class=\"ProveItLink\" href=\"../__pv_it/theorems/d88e53a20c663a5e3ab9adaac89ce94c8690d6820/theorem_expr.ipynb\"><img src=\"data:image/png;base64,iVBORw0KGgoAAAANSUhEUgAAAFcAAAAVBAMAAADBdm84AAAAMFBMVEX///8AAAAAAAAAAAAAAAAA\n",
       "AAAAAAAAAAAAAAAAAAAAAAAAAAAAAAAAAAAAAAAAAAAv3aB7AAAAD3RSTlMAInZUiRDNmWbv3US7\n",
       "qzJazP2FAAAACXBIWXMAAA7EAAAOxAGVKw4bAAABQ0lEQVQoz2NgYBBgwABYhCCAyYDhAQMrqvQm\n",
       "DFV8DAyBQMqEgWF+2qoAhPBSoAEN6Io5v2UBxVkTGBhW/nKFi8aWfQWSqeiKueYvAZrHDjTkAoqz\n",
       "QIrb0RXzQsxnwKaYMwCrYjOsitkasCouAeIbKvfQFLNcQFfc5PuAgSEDyDrKIL8BVTFHAohZtQoE\n",
       "1oKYPAGMvxkYFoNV8CxAVcw8ATNCTjEwzAYz2D8CifgEuGK+D5iK6wVAinkSGNj/gcKyAK6YG93k\n",
       "Y0DFD0DO4FzAwPsBzRkL0Nw8i4HhPgPDIaDXgeoPoHnwAJrJDgwMcxgYfBkYGAsYNBGRwAJyPrsD\n",
       "mmJxBqapDAyvQKzaUkSA3vx2A+j8DWiKGcuvA83jeoAt3UphT84cBdhEK3Ak/oNYxBgP4FAcg0WM\n",
       "B1e+YlTAFFPErhQAj5RPlScqlE0AAAAASUVORK5CYII=\n",
       "\" style=\"display:inline;vertical-align:middle;\" /></a><br>"
      ],
      "text/plain": [
       "<IPython.core.display.HTML object>"
      ]
     },
     "metadata": {},
     "output_type": "display_data"
    },
    {
     "data": {
      "text/html": [
       "<strong id=\"mult_6_1\"><a class=\"ProveItLink\" href=\"proofs/mult_6_1/thm_proof.ipynb\">mult_6_1</a> (conjecture without proof):<br></strong> <a class=\"ProveItLink\" href=\"../__pv_it/theorems/64d7d8ba4c80bb698ca3203e9391c52d1b511d530/theorem_expr.ipynb\"><img src=\"data:image/png;base64,iVBORw0KGgoAAAANSUhEUgAAAFcAAAAVBAMAAADBdm84AAAAMFBMVEX///8AAAAAAAAAAAAAAAAA\n",
       "AAAAAAAAAAAAAAAAAAAAAAAAAAAAAAAAAAAAAAAAAAAv3aB7AAAAD3RSTlMAInZUiRDNmWbv3US7\n",
       "qzJazP2FAAAACXBIWXMAAA7EAAAOxAGVKw4bAAABWElEQVQoz2NgYBBgwABYhCCAyQBTbBMuxSZA\n",
       "7OLyAM7nWwo0oAFDGYuLHwMDawIDg9gG3gUwwdiyr0AyFV0tYzbDLQYGdqAhSQw8BxDOAiluR1fM\n",
       "psBwhoGBk4GB+SuKH0A8zgA0xfZgATMGBp4JGIrZ0B19EkyWAI3Jc6pGU8xyAU3xtCfqGxgYMhgY\n",
       "+DMYOA1QFXMkgJhVq0BgLYj5rYFhMgPDYgaG+A8M7FNRFTNPQDWY9T8DQ2UAw2yg4gUMHL+BIvEJ\n",
       "cMV8H9AU/2Jg6N8AUsyfwMDxAyjCVQBXzI1mMsM3oOIGkDN4oCYjO2MBmptPgU0+BJQBunkCmgcP\n",
       "oIcz0M0MDL5A1hGGSERosHwEEuwOaIp5HFiBofEKJF9+Dy7Ke/PbDaDzN6DHt3stMK1xPcCWFKWw\n",
       "p1COAmyiFTjS80EsYowHcCiOwSLGgytfMSpgiiliVwoA3LRUkEoc1YQAAAAASUVORK5CYII=\n",
       "\" style=\"display:inline;vertical-align:middle;\" /></a><br>"
      ],
      "text/plain": [
       "<IPython.core.display.HTML object>"
      ]
     },
     "metadata": {},
     "output_type": "display_data"
    },
    {
     "data": {
      "text/html": [
       "<strong id=\"mult_7_1\"><a class=\"ProveItLink\" href=\"proofs/mult_7_1/thm_proof.ipynb\">mult_7_1</a> (conjecture without proof):<br></strong> <a class=\"ProveItLink\" href=\"../__pv_it/theorems/e60279dcfef95069a55da93e1a1872f57a07db320/theorem_expr.ipynb\"><img src=\"data:image/png;base64,iVBORw0KGgoAAAANSUhEUgAAAFgAAAAVBAMAAAAwfTS1AAAAMFBMVEX///8AAAAAAAAAAAAAAAAA\n",
       "AAAAAAAAAAAAAAAAAAAAAAAAAAAAAAAAAAAAAAAAAAAv3aB7AAAAD3RSTlMAInZUiRDNmWbv3US7\n",
       "qzJazP2FAAAACXBIWXMAAA7EAAAOxAGVKw4bAAABN0lEQVQoz2NgYBBgwABYhCCAyYCxFV1sE4Yq\n",
       "iQAwZcLA/P///59wYb6lQAMa0BXbA9VMYGBNYGA5Xl6+GCYaW/YVSKaiK/YpL68yYGBvYGBhYGAs\n",
       "QDgLpLgdXbEDA4M4AwMnAwMzAwMvA6pizgA0xQYMDBcYGMzAbD80xWwYjmZgecDAUAJiMB5AU8xy\n",
       "AUOxDBBngBi8G9AUcySAmFWrQGAtRPw2EIODQZIBTTHzBHSDGUEis0EsNzA/PgGumO8DhpMTYIrX\n",
       "gPlcBXDF3Bgmcx2AOoP1L4YzFqC7OR7k5UMgc76jK+Y4gG7yfpC1viBzviA77iOQYHfASBwgkVcg\n",
       "n05GCPLe/HYD6MIN6IolDUAOf4At3UphT84cBdhEK3Ak/oNYxBgP4FAcg0WMB1e+YlTAFFPErhQA\n",
       "2MZJ8Mn4N7YAAAAASUVORK5CYII=\n",
       "\" style=\"display:inline;vertical-align:middle;\" /></a><br>"
      ],
      "text/plain": [
       "<IPython.core.display.HTML object>"
      ]
     },
     "metadata": {},
     "output_type": "display_data"
    },
    {
     "data": {
      "text/html": [
       "<strong id=\"mult_8_1\"><a class=\"ProveItLink\" href=\"proofs/mult_8_1/thm_proof.ipynb\">mult_8_1</a> (conjecture without proof):<br></strong> <a class=\"ProveItLink\" href=\"../__pv_it/theorems/08da18fe2cfbc65115628a11676fd1fb887fdb6e0/theorem_expr.ipynb\"><img src=\"data:image/png;base64,iVBORw0KGgoAAAANSUhEUgAAAFcAAAAVBAMAAADBdm84AAAAMFBMVEX///8AAAAAAAAAAAAAAAAA\n",
       "AAAAAAAAAAAAAAAAAAAAAAAAAAAAAAAAAAAAAAAAAAAv3aB7AAAAD3RSTlMAInZUiRDNmWbv3US7\n",
       "qzJazP2FAAAACXBIWXMAAA7EAAAOxAGVKw4bAAABVklEQVQoz2NgYBBgwABYhCCAyQBTbBMuxSYM\n",
       "DCEu1Qg+31KgAQ3oqlhd3DcAyQQGhgIGXrjxsWVfgWQqumJ2BobLQLKBgaMBrAXmLJDidnTFHQwM\n",
       "YQwMnAwMLBcwFHMGoCn2BSs2Y2Bg/hPA3oCqmA3d0fZHGSoYGEqArPufihlQFQMtQwW8/9WB3soA\n",
       "uf7/QjTFHGBnVa0CgbVg4fpfwMBfDAo9mf8GqIqZJ6CZzOx4/jMDw2ygMQUM9lOBAvEJcMV8H9AU\n",
       "tzMw/wwAKQZ6nRGojYGrAK6YG91koGHyBiBnxAM5N9CcsQDVzaxAm3gbGA4BTQY6/SCaBw+gmTyR\n",
       "gYFHABTa3KkMHApwYZaPoPBxQFO8LYChiYHhFZD1thyRkHhvfgM6iWsDmmK+6+VAIa4H2JKiFPYU\n",
       "ylGATbQCR3o+iEWM8QAOxTFYxHhw5StGBUwxRexKAU5HUsX87hrYAAAAAElFTkSuQmCC\n",
       "\" style=\"display:inline;vertical-align:middle;\" /></a><br>"
      ],
      "text/plain": [
       "<IPython.core.display.HTML object>"
      ]
     },
     "metadata": {},
     "output_type": "display_data"
    },
    {
     "data": {
      "text/html": [
       "<strong id=\"mult_9_1\"><a class=\"ProveItLink\" href=\"proofs/mult_9_1/thm_proof.ipynb\">mult_9_1</a> (conjecture without proof):<br></strong> <a class=\"ProveItLink\" href=\"../__pv_it/theorems/bd56db24a54a97703aff88812ae772107f18c44d0/theorem_expr.ipynb\"><img src=\"data:image/png;base64,iVBORw0KGgoAAAANSUhEUgAAAFcAAAAVBAMAAADBdm84AAAAMFBMVEX///8AAAAAAAAAAAAAAAAA\n",
       "AAAAAAAAAAAAAAAAAAAAAAAAAAAAAAAAAAAAAAAAAAAv3aB7AAAAD3RSTlMAInZUiRDNmWbv3US7\n",
       "qzJazP2FAAAACXBIWXMAAA7EAAAOxAGVKw4bAAABUUlEQVQoz2NgYBBgwABYhCCAyQBTbBMuxSYM\n",
       "DOzlVxF8vqVAAxowlJXXBjAwsCYwsC5ieAm3OLbsK5BMRVcbpcA3EWhqAwPvBAaeAwhngRS3oyu+\n",
       "ycBwhoGBk4GBP4GB5SuqYs4ANMXfGBj8AxjMGBjiDzAw/UZVzIbmaNY/DAz6GxhKICb/QFXMcgGL\n",
       "yQ0MGQxgN39CVcyRAGJWrQKBtVA3n1dgWAy0YzbD28+oipknoJkcuYHvvgHDbCArXMXoH5CKT4Ar\n",
       "5vuAppi1yFn/AVgxAyQ0uArgirknYMYeMDQWgxno4cy8AM3NDOBwPgSUmcoQ/wDNgwfQjLUMYAW6\n",
       "1BcovZThBEKY5SOQYHdAU6wVwAMM+ldAlkv5Brgo781vN4DO34CmmMW9GuSrB9iSohT2FMpRgE20\n",
       "Akd6PohFjPEADsUxWMR4cOUrRgVMMUXsSgEMCFc4wF0HVgAAAABJRU5ErkJggg==\n",
       "\" style=\"display:inline;vertical-align:middle;\" /></a><br>"
      ],
      "text/plain": [
       "<IPython.core.display.HTML object>"
      ]
     },
     "metadata": {},
     "output_type": "display_data"
    }
   ],
   "source": [
    "mult_0_1, mult_1_1, mult_2_1, mult_3_1, mult_4_1, mult_5_1, mult_6_1, mult_7_1, mult_8_1, mult_9_1 = [Equals(Mult(num(n), num(1)), num(n*1)) for n in range(10)]"
   ]
  },
  {
   "cell_type": "code",
   "execution_count": 30,
   "metadata": {},
   "outputs": [
    {
     "data": {
      "text/html": [
       "<strong id=\"mult_0_2\"><a class=\"ProveItLink\" href=\"proofs/mult_0_2/thm_proof.ipynb\">mult_0_2</a> (conjecture without proof):<br></strong> <a class=\"ProveItLink\" href=\"../__pv_it/theorems/0655eec2d7c30d9dcfccb4f80f2c51ecee9bfd2d0/theorem_expr.ipynb\"><img src=\"data:image/png;base64,iVBORw0KGgoAAAANSUhEUgAAAFcAAAAVBAMAAADBdm84AAAAMFBMVEX///8AAAAAAAAAAAAAAAAA\n",
       "AAAAAAAAAAAAAAAAAAAAAAAAAAAAAAAAAAAAAAAAAAAv3aB7AAAAD3RSTlMAInZUiRDNmWbv3US7\n",
       "qzJazP2FAAAACXBIWXMAAA7EAAAOxAGVKw4bAAABdElEQVQoz3WTPUsDQRCGn3ycuXwQUwfBWFkJ\n",
       "V4htjmCpcJ0oQgIiWFhECEaCRTrRxrQiaCSdIIp/wNNaIbYW5mobRRMVLOJuQr72LlPNvfPw7szu\n",
       "HJDAFR5SN/yGW7sdB89DMLPT//QVtx38ZRe2OCuO03KwwVr/4CmCf7CpshOGdgGhMnqVoN1Tn+EE\n",
       "DlT4CJYgDLE6gVZPPbdoJAhbCvwEaYsFmMwT/+qpL9BwmFCb/oF3gwJkBfw7VLgWI9dHWU3CZbZg\n",
       "2iT+OSjIXM/JrHQp40reUVPAKWpduDmAI8I1UBl17sAmp6INk6h0znbs2JfuH0obAr5LSVgMGJAD\n",
       "RvJS12W70Yp7wLQh24jZ6K2hF/UlCFRHe+YRji0ehFeFUK4/nonfQrcV50PYhWWR1Vh1emqyWCyJ\n",
       "dzUVOGJoZ/AmspXM6+CS2+1vUbtRYK0wJ/wijtcqJr03VM97qXtj9vneQ/PZY+B1Dy027r/ypdza\n",
       "jDf6DyumWVqq6ljGAAAAAElFTkSuQmCC\n",
       "\" style=\"display:inline;vertical-align:middle;\" /></a><br>"
      ],
      "text/plain": [
       "<IPython.core.display.HTML object>"
      ]
     },
     "metadata": {},
     "output_type": "display_data"
    },
    {
     "data": {
      "text/html": [
       "<strong id=\"mult_1_2\"><a class=\"ProveItLink\" href=\"proofs/mult_1_2/thm_proof.ipynb\">mult_1_2</a> (conjecture without proof):<br></strong> <a class=\"ProveItLink\" href=\"../__pv_it/theorems/087f86ec0e4607dbfc721c301a3fb5c0c5119c420/theorem_expr.ipynb\"><img src=\"data:image/png;base64,iVBORw0KGgoAAAANSUhEUgAAAFcAAAAVBAMAAADBdm84AAAAMFBMVEX///8AAAAAAAAAAAAAAAAA\n",
       "AAAAAAAAAAAAAAAAAAAAAAAAAAAAAAAAAAAAAAAAAAAv3aB7AAAAD3RSTlMAInZUiRDNmWbv3US7\n",
       "qzJazP2FAAAACXBIWXMAAA7EAAAOxAGVKw4bAAABI0lEQVQoz2NgYBBgwABYhCCAyQBTbBMuxSZA\n",
       "/CoAzmUsz3nAwNSArgoszMCawMB6PR+hWIaB5TcDQyq6YogwO8gQfYTiiwwMMxkY2tEVQ4Q5GVAV\n",
       "zw9guC/AwBmAphgibIam+BYDw/0HDGzojoYIl6ApBoL1DAwsFzBDAiicgaGY7xMDA0cCiFW1CgTW\n",
       "IoQXYyjmAprKPAHDYJDwbITieLBxDDUgYz5gKAYJIynmKgCRHCDncmOYDBbGcIYJA6MAA/MCdDeD\n",
       "hQ+hKeZzYGAKYOA4gGYwRNgXxPRHJDOp8vIqYLw6oCmGCL8Csu7Oz4VHwvr//78Bnb8BPZAhwg+w\n",
       "JUUp7CmUowCbaAWO9HwQixjjARyKY7CI8eDKV4wKmGKK2JUCAC0gThKFDnBTAAAAAElFTkSuQmCC\n",
       "\" style=\"display:inline;vertical-align:middle;\" /></a><br>"
      ],
      "text/plain": [
       "<IPython.core.display.HTML object>"
      ]
     },
     "metadata": {},
     "output_type": "display_data"
    },
    {
     "data": {
      "text/html": [
       "<strong id=\"mult_2_2\"><a class=\"ProveItLink\" href=\"proofs/mult_2_2/thm_proof.ipynb\">mult_2_2</a> (conjecture without proof):<br></strong> <a class=\"ProveItLink\" href=\"../__pv_it/theorems/ab344d56b73fa1a131b0495c9a62abdc4bd29a540/theorem_expr.ipynb\"><img src=\"data:image/png;base64,iVBORw0KGgoAAAANSUhEUgAAAFcAAAAVBAMAAADBdm84AAAAMFBMVEX///8AAAAAAAAAAAAAAAAA\n",
       "AAAAAAAAAAAAAAAAAAAAAAAAAAAAAAAAAAAAAAAAAAAv3aB7AAAAD3RSTlMAInZUiRDNmWbv3US7\n",
       "qzJazP2FAAAACXBIWXMAAA7EAAAOxAGVKw4bAAABYklEQVQoz3WTMUvDQBTH/0lqm7RG4yQUh3Rw\n",
       "cXIQ53wBMR9AMIvg4JBBjBSHuOgkdBURAw6CUCx+gtQPoHUVSjs4uVgFXUTju4TEmLsc4Xj553fv\n",
       "/u/uBYABbgikZMjLvHZbBq8A83v32avk7Ywh+zw34wJTDqQQ671UW0DlC9ji4foAqPnQDWidVHsE\n",
       "ToFjHl4iWKPnA/pbql3YGNFim3NxRPAqoAfQf1LxCRiNUeVMV6oE7yaGJjn9hj4NinCLwdtx+Grm\n",
       "NnwHVIdF7Ws2uvEh+Qy+jIFuoWylU3QBBp+xsBayeTNOhwOWfVKAD//gkySly2aV2W0UMksmUhuK\n",
       "hbncjUoGlOC/58ZwODq3cEfhM7CYlWdBtqGG3KVolHmN9rjyvCDVmp7XpiIsDp6l9S/kNYoiJzvk\n",
       "KPokqVdkaw/fJupjUSs2xR2quiJ1v6Sf+wJNCkvgDYE2XfZfSSavtcToLz0XVINYMDePAAAAAElF\n",
       "TkSuQmCC\n",
       "\" style=\"display:inline;vertical-align:middle;\" /></a><br>"
      ],
      "text/plain": [
       "<IPython.core.display.HTML object>"
      ]
     },
     "metadata": {},
     "output_type": "display_data"
    },
    {
     "data": {
      "text/html": [
       "<strong id=\"mult_3_2\"><a class=\"ProveItLink\" href=\"proofs/mult_3_2/thm_proof.ipynb\">mult_3_2</a> (conjecture without proof):<br></strong> <a class=\"ProveItLink\" href=\"../__pv_it/theorems/37ff7b3f7f6f066b57a2a0fa47e5edb2c28e3be80/theorem_expr.ipynb\"><img src=\"data:image/png;base64,iVBORw0KGgoAAAANSUhEUgAAAFcAAAAVBAMAAADBdm84AAAAMFBMVEX///8AAAAAAAAAAAAAAAAA\n",
       "AAAAAAAAAAAAAAAAAAAAAAAAAAAAAAAAAAAAAAAAAAAv3aB7AAAAD3RSTlMAInZUiRDNmWbv3US7\n",
       "qzJazP2FAAAACXBIWXMAAA7EAAAOxAGVKw4bAAABcUlEQVQoz3WTv0vDQBTHv0mbmjahzeBUHOrk\n",
       "JDiIazsInZT8AYJdBEGHDEK0KGRzVBAE6aDgIoI0uLhWN38MdXWwGZycxNIOOtR3ORvj5XLD4903\n",
       "H959790LAAuJJZH4UueS2nUaPA9M1h+jreJuBlC9BJZdXAa0BjQH1aj8FLLfwJrIKht4ASY8qH2s\n",
       "NsbqM3AC7ItwroInIA8YLZQi+NRGz0LeFuBqKCzwPDJJh/UC5ETT92HcYsG4iH9o03W6Anz8NuMD\n",
       "65QVZ19jevET0ENbzUu2rlg69HAEnHMbsWYXqGrm8H9hbQTs2GiFm/yAwm9Ldln1DwH+Ag58BhcD\n",
       "mH1W0mG6zuwaQmUMCfaYjdKAw+MXVSxkzgTPD2HlO/LQ5Tb49WpQbegdsc/kGViig71Yn8uu26R3\n",
       "rQmwWdOoG++U3bh/g9QejchfwRffu74XkBzIRrEsn1DdkanbKfN8K9GUTgq8ItHMtP9KqSS1aTn6\n",
       "AwCMVoNMF2yXAAAAAElFTkSuQmCC\n",
       "\" style=\"display:inline;vertical-align:middle;\" /></a><br>"
      ],
      "text/plain": [
       "<IPython.core.display.HTML object>"
      ]
     },
     "metadata": {},
     "output_type": "display_data"
    },
    {
     "data": {
      "text/html": [
       "<strong id=\"mult_4_2\"><a class=\"ProveItLink\" href=\"proofs/mult_4_2/thm_proof.ipynb\">mult_4_2</a> (conjecture without proof):<br></strong> <a class=\"ProveItLink\" href=\"../__pv_it/theorems/f91eec4b138d7ed71c629bced92b4e3e9e953c220/theorem_expr.ipynb\"><img src=\"data:image/png;base64,iVBORw0KGgoAAAANSUhEUgAAAFcAAAAVBAMAAADBdm84AAAAMFBMVEX///8AAAAAAAAAAAAAAAAA\n",
       "AAAAAAAAAAAAAAAAAAAAAAAAAAAAAAAAAAAAAAAAAAAv3aB7AAAAD3RSTlMAInZUiRDNmWbv3US7\n",
       "qzJazP2FAAAACXBIWXMAAA7EAAAOxAGVKw4bAAABaElEQVQoz3WTP0jDUBDGvyStprEtwUmKoE6u\n",
       "HcTVCoKTkMlJ0EVwsNBBSCmCxaWOOjiIiIKbIBYHN6EKzv4FQSjNpjiJglAV4l0CSfrycsNx+fLj\n",
       "y929FwAmYiGR/FCLce08CZ7g9Bo8KvaqA7UuUumZ2SblJa5PA3UYqV9gWYT7gUfKbKKG8D2wBzRE\n",
       "eAuYBzJcvpUD9dBCx0TGEuA5D57kshTCL0DHQZ/Y9NQNqsAad2GWoy/OgNSdAOfccdraClVDiML5\n",
       "T0D3xq6dcPjzbPzQ8o+5ix7YIFdtW3DWpm+/gH2yMX140bPDOrt/CHADWtdieBA+bFQ469zugOi8\n",
       "C4wUuY3Ldrv7FDlRxYR21Ntzmr6Uq+PaIw7C8UpQLegtwXkHyJq8bYq/QC3Ydo3OtSTAFxY2gXdv\n",
       "JvchWLLrflP7TQHOP9skGY7sKhbkN1SvyNRqwn2+kmhKKwFekGjZpP9KGY1rY3L0H6B4Un9RMr0H\n",
       "AAAAAElFTkSuQmCC\n",
       "\" style=\"display:inline;vertical-align:middle;\" /></a><br>"
      ],
      "text/plain": [
       "<IPython.core.display.HTML object>"
      ]
     },
     "metadata": {},
     "output_type": "display_data"
    },
    {
     "data": {
      "text/html": [
       "<strong id=\"mult_5_2\"><a class=\"ProveItLink\" href=\"proofs/mult_5_2/thm_proof.ipynb\">mult_5_2</a> (conjecture without proof):<br></strong> <a class=\"ProveItLink\" href=\"../__pv_it/theorems/b0e99973cd4bcb73cf9b37c994016efb75617a750/theorem_expr.ipynb\"><img src=\"data:image/png;base64,iVBORw0KGgoAAAANSUhEUgAAAGEAAAAVBAMAAACkm51HAAAAMFBMVEX///8AAAAAAAAAAAAAAAAA\n",
       "AAAAAAAAAAAAAAAAAAAAAAAAAAAAAAAAAAAAAAAAAAAv3aB7AAAAD3RSTlMAInZUiRDNmWbv3US7\n",
       "qzJazP2FAAAACXBIWXMAAA7EAAAOxAGVKw4bAAABhUlEQVQ4y32TPUtCURiAn6ve1LJwCyLIIIiG\n",
       "4A7RqkNtBfcHFLkUDQ0OpREFblFLrRGkEQ0JUfQHsqCtwDZryDu39EEfUJC9R8huerpnOJz343k/\n",
       "znkPEKVpaVSu5bNwMP/6nHgSQ5CbKdg/opGZc/Blm9w69mUb6ZfIZhIOPkbrlm4CnzDdCEymX6HF\n",
       "MnchKOFKLtM1bMFqc/FCrMMYhPlL5GwqUcK2jriCuM1wA3ELFYeWrI54hweLeZHKfXdu4xEEShrC\n",
       "VESWWZEu6Dl23cozhJLqtFRQ6/CHMF6EiLFXkyP5X6JV4vs3NTlqRILtmhx8km2qFphlledRV5UQ\n",
       "pzFFRJIEv1TwlDKFVAttm/90HrdUVeE87Y+uGTCi+POaPriEDZtzuRiBivW+E/hsQkVdjjVIw7iM\n",
       "UoqB+ot1ZTJL0leikQhIp62WuQP3InWuLPw+RrX6JrbjBqD95q2MOT/oiM3RDXSXx7CHUjrtotf/\n",
       "ONPojKIXMaHRRTy/rRFr1vV6+H8D5VNnVEslfdkAAAAASUVORK5CYII=\n",
       "\" style=\"display:inline;vertical-align:middle;\" /></a><br>"
      ],
      "text/plain": [
       "<IPython.core.display.HTML object>"
      ]
     },
     "metadata": {},
     "output_type": "display_data"
    },
    {
     "data": {
      "text/html": [
       "<strong id=\"mult_6_2\"><a class=\"ProveItLink\" href=\"proofs/mult_6_2/thm_proof.ipynb\">mult_6_2</a> (conjecture without proof):<br></strong> <a class=\"ProveItLink\" href=\"../__pv_it/theorems/cb3c9856fa3349bd7472eefec28fd3d2a0a3841f0/theorem_expr.ipynb\"><img src=\"data:image/png;base64,iVBORw0KGgoAAAANSUhEUgAAAGEAAAAVBAMAAACkm51HAAAAMFBMVEX///8AAAAAAAAAAAAAAAAA\n",
       "AAAAAAAAAAAAAAAAAAAAAAAAAAAAAAAAAAAAAAAAAAAv3aB7AAAAD3RSTlMAInZUiRDNmWbv3US7\n",
       "qzJazP2FAAAACXBIWXMAAA7EAAAOxAGVKw4bAAABY0lEQVQ4y32TMUvDQBTH/2mivWjaZnIoDvoN\n",
       "HMS5SFehq6A0CEIHkQ5ipDp0c+3iIA4WxEUQi58gFT+AbupgMztVoUVwqO+SXhuaxx0c5P6/+793\n",
       "7/IOgIvUYKTEyKyltUetY51muRyqpeEfhMg0U9vyt2OGOQ9Y6uTaiizD+gP2Zw27xwPFshRuD06g\n",
       "0CtwCZynDz9QzAbMQYJcV9BzYVc4R8w2AKeVIB9AL8R8k3PE7IjSHG6eJuEDYL1wjpjVgEINduKK\n",
       "8z+A8ORX406O+4RDshug2kf2YupYoPhmi88h2RU52hB0a6hGgXEmY/V5h2TkKHgQvzJAXYpClrDI\n",
       "54gYncoZ51A9YLgw22wdEXuiQ1Mdk5j5EjIViIDLEbMtWj1je3JXRd9vUCeUZh3Wt2JfcuV/Tn/G\n",
       "aDSkkjozhtz78E2xkGvooqbZRZ1TT3Tvo8toRqBz7DCao322xkpaW9Xs/weYE2YFJyYoWgAAAABJ\n",
       "RU5ErkJggg==\n",
       "\" style=\"display:inline;vertical-align:middle;\" /></a><br>"
      ],
      "text/plain": [
       "<IPython.core.display.HTML object>"
      ]
     },
     "metadata": {},
     "output_type": "display_data"
    },
    {
     "data": {
      "text/html": [
       "<strong id=\"mult_7_2\"><a class=\"ProveItLink\" href=\"proofs/mult_7_2/thm_proof.ipynb\">mult_7_2</a> (conjecture without proof):<br></strong> <a class=\"ProveItLink\" href=\"../__pv_it/theorems/7e719e867901cdc64c837f2428c9ad86f241219f0/theorem_expr.ipynb\"><img src=\"data:image/png;base64,iVBORw0KGgoAAAANSUhEUgAAAGEAAAAVBAMAAACkm51HAAAAMFBMVEX///8AAAAAAAAAAAAAAAAA\n",
       "AAAAAAAAAAAAAAAAAAAAAAAAAAAAAAAAAAAAAAAAAAAv3aB7AAAAD3RSTlMAInZUiRDNmWbv3US7\n",
       "qzJazP2FAAAACXBIWXMAAA7EAAAOxAGVKw4bAAABcUlEQVQ4y32Tv0vDUBDHv/nRmrS2ZrU4tKuT\n",
       "gzhnclP6Byh2ERwcMoiR4hAHdRWcRERBXESx+BdEF0frpkJpZicVrYiU+O5J2pgcueEld/c+d+/u\n",
       "3QNgISWMKSbqlLKdtF1nEtPQwjD8jlTFXQ2geqlt5TO5OkCuAf3OdU8jzwT0H2A5CSyuf9Kn0AZG\n",
       "POgishO5HoADYDd9eElMCsIENKA08BzX0bVg1lmivCOIGanPDzzPQDdA3mMJPS+INVmuH3deCVeb\n",
       "JWpErJBaasW78g4YDfprnpNcDgjFI0I2aTwejfqh7XE5dBBxSOqsNC7JwNikPK8csTUkLv6CyxYb\n",
       "VEKRy6FUEZ0q1/83A4oF7YSpo9jpdI9s3FLEr1jdNtQ6DJ+/QVPkmBNf7WPoqbhuU0yCnST0N1rH\n",
       "RKQXuo792GWEYU+U1EoApafeowh036+iEHADXckYdsPhrBtZ7+OGsSl+FrHA2EYzn624l5TUMvb/\n",
       "AsmoX4psgxGHAAAAAElFTkSuQmCC\n",
       "\" style=\"display:inline;vertical-align:middle;\" /></a><br>"
      ],
      "text/plain": [
       "<IPython.core.display.HTML object>"
      ]
     },
     "metadata": {},
     "output_type": "display_data"
    },
    {
     "data": {
      "text/html": [
       "<strong id=\"mult_8_2\"><a class=\"ProveItLink\" href=\"proofs/mult_8_2/thm_proof.ipynb\">mult_8_2</a> (conjecture without proof):<br></strong> <a class=\"ProveItLink\" href=\"../__pv_it/theorems/526789533fcec06d6f601527fa3d99522ae3c5360/theorem_expr.ipynb\"><img src=\"data:image/png;base64,iVBORw0KGgoAAAANSUhEUgAAAGEAAAAVBAMAAACkm51HAAAAMFBMVEX///8AAAAAAAAAAAAAAAAA\n",
       "AAAAAAAAAAAAAAAAAAAAAAAAAAAAAAAAAAAAAAAAAAAv3aB7AAAAD3RSTlMAInZUiRDNmWbv3US7\n",
       "qzJazP2FAAAACXBIWXMAAA7EAAAOxAGVKw4bAAABh0lEQVQ4y31TMUvDUBD+0iZtWlvJXDrUydVB\n",
       "XJuh4KRkcFTqUhB0CChGq0I2RwVREAeV4iJIi7+gdVMcdFOXZnASBK2YQYV4L8UYmiMHCe999777\n",
       "7u7dA6AhYgwUssRYFLuMZYwDM5WNYCtZSw4SduTY8Bn95Mo0oMwDJvKBUBHyN1AbJMytflK0RTwB\n",
       "aRuq7fP6dg8cAtvR5ImRKuEWyJDWXYhxbKCrIWNwjLKPTgDJHyMdJE6yXQcpm2Nc+6sV+rq95bCz\n",
       "6csyjIPn0RawQLu0dxruSg9Q/Szr58IuAoZrYw9oiAYXvdClZCl+cpfRUDxg3cARBTRR3iew2i9/\n",
       "U+i8cYwvYKclGNQY6UMEN4VLFSUMcRpwiWGLrKoEPIRmQNKQPOHquPE1rkiDBq8T1K0jYUBts/dB\n",
       "dQBTlEINaunPU7CsOnVPH2TI70BOV6hXL7R7tf4nsel5lG62NUDIP7qU+OSWQz6HG+hCzLCrJoeu\n",
       "xb2PDoNJ7TjGLIPlYp+tVIpiIzHnfwEMJmbCrTISlAAAAABJRU5ErkJggg==\n",
       "\" style=\"display:inline;vertical-align:middle;\" /></a><br>"
      ],
      "text/plain": [
       "<IPython.core.display.HTML object>"
      ]
     },
     "metadata": {},
     "output_type": "display_data"
    },
    {
     "data": {
      "text/html": [
       "<strong id=\"mult_9_2\"><a class=\"ProveItLink\" href=\"proofs/mult_9_2/thm_proof.ipynb\">mult_9_2</a> (conjecture without proof):<br></strong> <a class=\"ProveItLink\" href=\"../__pv_it/theorems/3c8263b595ec7672a49025c1566ea3ec633762de0/theorem_expr.ipynb\"><img src=\"data:image/png;base64,iVBORw0KGgoAAAANSUhEUgAAAGEAAAAVBAMAAACkm51HAAAAMFBMVEX///8AAAAAAAAAAAAAAAAA\n",
       "AAAAAAAAAAAAAAAAAAAAAAAAAAAAAAAAAAAAAAAAAAAv3aB7AAAAD3RSTlMAInZUiRDNmWbv3US7\n",
       "qzJazP2FAAAACXBIWXMAAA7EAAAOxAGVKw4bAAABj0lEQVQ4y32TPUjDQBTH//moprWpmYugguBa\n",
       "RFytUHASMumitIvg4NBBTCmCwaWOdeggHRSliyAWB+coCG4qIn4szaog+EGLWjC+S2lamiNvSO7e\n",
       "e7/3dXcANPiEo+oSMeHXnQYSk0C/ce9tBWPVhmj63GIVIJSardI3g9ABXrw6hiA3geVeYGm9TpGB\n",
       "O/qaUIuIWm3TLbALFPzFE7ENzANhYDADud627OmoaQjrPGLOJaaAtAWx2bY8AzUbfSaPmL5EDlhr\n",
       "5fjuMp4A8g2PUJ1xGuwK3D4+u6ZCayXDVvkjJscegc1fmtAhjauMt68OEaH4UpGXQ5q5Jr8y7RbG\n",
       "Jv7ol3YDY4PleecRBUg/ukugNatIli0V1sIAN0cJGE6wqkg650F3QNAg7XP6CFFi1cQFlVdC2vb6\n",
       "TkLUoVi8HDsUWmOnIlZw5VnihpGnm5DsJeQP4EzHFvBKu5RR7RyG4zSopWoPoD41HhF7YI4Rm3eh\n",
       "4wGXXcnytLmg93HO0QlWELHI0UUDn60w4teNBvj/A+eDaKz+rgkZAAAAAElFTkSuQmCC\n",
       "\" style=\"display:inline;vertical-align:middle;\" /></a><br>"
      ],
      "text/plain": [
       "<IPython.core.display.HTML object>"
      ]
     },
     "metadata": {},
     "output_type": "display_data"
    }
   ],
   "source": [
    "mult_0_2, mult_1_2, mult_2_2, mult_3_2, mult_4_2, mult_5_2, mult_6_2, mult_7_2, mult_8_2, mult_9_2 = [Equals(Mult(num(n), num(2)), num(n*2)) for n in range(10)]"
   ]
  },
  {
   "cell_type": "code",
   "execution_count": 31,
   "metadata": {},
   "outputs": [
    {
     "data": {
      "text/html": [
       "<strong id=\"mult_0_3\"><a class=\"ProveItLink\" href=\"proofs/mult_0_3/thm_proof.ipynb\">mult_0_3</a> (conjecture without proof):<br></strong> <a class=\"ProveItLink\" href=\"../__pv_it/theorems/d08ff5557386f1df36deed216c2a8017a770448c0/theorem_expr.ipynb\"><img src=\"data:image/png;base64,iVBORw0KGgoAAAANSUhEUgAAAFcAAAAVBAMAAADBdm84AAAAMFBMVEX///8AAAAAAAAAAAAAAAAA\n",
       "AAAAAAAAAAAAAAAAAAAAAAAAAAAAAAAAAAAAAAAAAAAv3aB7AAAAD3RSTlMAInZUiRDNmWbv3US7\n",
       "qzJazP2FAAAACXBIWXMAAA7EAAAOxAGVKw4bAAABcUlEQVQoz3WTvUvDUBRHT01j07RUZxfr5CRm\n",
       "ENeG0lEhmyhCCyI4Vigq4tDNj8Xuola6CUJx08XorNh/QCmODiq2ajd9ryWpzccbwsvJ4d7fe9wA\n",
       "o/hWAOqtIcPPLsPkGYhm193XSG6nzlDZp+UmRTu1ACssuY0XUFqw6nWHDfUMYmW0KlHbodOG+g27\n",
       "XvkA5iAOyQbKl0Ov6gg5bnnkB8hYzMJIkVSrz5WO6OoN/QPvBiXIC7nT59dCjDYGXVXKZdZg3CT1\n",
       "6fKXpyZoBbndPpfrQt5RW8hpaj25/S+GiKRUBit3ZZMjEcMkISvnC70vpxapD08MId+kpSwOKKuh\n",
       "F8XjDR4NEhX/ATOGjJG00dyr+7WkrFQHM3MPhxZ34jQVYgVHPu7G0GxP5X3YgHmxq7HYdOhe955j\n",
       "pkfWDfUEXuU8ZJ9dmtgUg4Re98hqaUrU05tBozgWPKFaMYhuhczzbQCL2CHycgBLhv1XkbSfTQSr\n",
       "f+kuXNsz72jDAAAAAElFTkSuQmCC\n",
       "\" style=\"display:inline;vertical-align:middle;\" /></a><br>"
      ],
      "text/plain": [
       "<IPython.core.display.HTML object>"
      ]
     },
     "metadata": {},
     "output_type": "display_data"
    },
    {
     "data": {
      "text/html": [
       "<strong id=\"mult_1_3\"><a class=\"ProveItLink\" href=\"proofs/mult_1_3/thm_proof.ipynb\">mult_1_3</a> (conjecture without proof):<br></strong> <a class=\"ProveItLink\" href=\"../__pv_it/theorems/d66624d3f47688c690c7ee74965f2df461d358380/theorem_expr.ipynb\"><img src=\"data:image/png;base64,iVBORw0KGgoAAAANSUhEUgAAAFcAAAAVBAMAAADBdm84AAAAMFBMVEX///8AAAAAAAAAAAAAAAAA\n",
       "AAAAAAAAAAAAAAAAAAAAAAAAAAAAAAAAAAAAAAAAAAAv3aB7AAAAD3RSTlMAInZUiRDNmWbv3US7\n",
       "qzJazP2FAAAACXBIWXMAAA7EAAAOxAGVKw4bAAABHElEQVQoz2NgYBBgwABYhCCAyQBTbBMuxSZA\n",
       "/CoAzmV0qdnAwNSArgoszMCawMB6PR+hOJyB+TMDQyq6YogwO8gQfYRifQPWbwwM7eiKIcKcDKiK\n",
       "d25gAIkGoCmGCJuhKWZgYP7BwMCG4WiwcAmG4l1AhSwXMBSDhDPQFT+6+4CBgSMBxKxaBQJrEcKL\n",
       "MZ0B9DbzBExnAIVnIxTHJ0CE5wcw8H3AjBCgMJJirgIg8Y6B4bwBAze6yRBhdGf8DwCJMi9AczNE\n",
       "+BCa4rlg+zgOoJkMEfYFMf0RyawDHKDsDmiKIcKvgKy783PhkcBdDkoxXBvQFEOFH2BLilLYUyhH\n",
       "ATbRChzp+SAWMcYDOBTHYBHjwZWvGBUwxRSxKwUAV6hVFA9RdrgAAAAASUVORK5CYII=\n",
       "\" style=\"display:inline;vertical-align:middle;\" /></a><br>"
      ],
      "text/plain": [
       "<IPython.core.display.HTML object>"
      ]
     },
     "metadata": {},
     "output_type": "display_data"
    },
    {
     "data": {
      "text/html": [
       "<strong id=\"mult_2_3\"><a class=\"ProveItLink\" href=\"proofs/mult_2_3/thm_proof.ipynb\">mult_2_3</a> (conjecture without proof):<br></strong> <a class=\"ProveItLink\" href=\"../__pv_it/theorems/c5e720ee92e7eabb9fdad611ac54c5224aee52480/theorem_expr.ipynb\"><img src=\"data:image/png;base64,iVBORw0KGgoAAAANSUhEUgAAAFcAAAAVBAMAAADBdm84AAAAMFBMVEX///8AAAAAAAAAAAAAAAAA\n",
       "AAAAAAAAAAAAAAAAAAAAAAAAAAAAAAAAAAAAAAAAAAAv3aB7AAAAD3RSTlMAInZUiRDNmWbv3US7\n",
       "qzJazP2FAAAACXBIWXMAAA7EAAAOxAGVKw4bAAABc0lEQVQoz3WTP0jDUBCHf2ka+zdSJ8GpDuJo\n",
       "B3G1Q8FJzeYimEUQXDqIVVHIpou0ILiIWHAQhEJw0ym6KaLOglCkk4NWxCIOxnsvvFZfXh7huHz5\n",
       "OC6XC4AcQkeBghMrhNlZlDwODK7edW+10qaLmBPS4qUZwLCheZh1BZyD/gEsyq62jEcg4cDMIVUT\n",
       "dKxgdIBtWe7L4xZI0fUJ813QcxckpyxJnuRgAjDrMH96XP+iQnLT1zyu8Jhu9/gFifEHSd5vjdJr\n",
       "LfH8Ld/Fz09NIGmzdOOUnQZLOw72gGNuNP4UYdPQa/8LGz6wbuGA5QmPxQU7eHJkob8tyd9A1Q3k\n",
       "3aDxMoVX4L6AjFSZTajq8Db0IgYE9S0m63Wp5xte+YqyFjAi5EPeRtKT50w9A9P0KU8qlbqgO3zO\n",
       "iaIkZ4sGTeOFevV93xY0U6FFQtqVv/fUFk003VSt4pB6Q5NlFV2L2OdLBdO8CHlewbJR/5WWD7Nh\n",
       "tfoLZ9lauzrWhqwAAAAASUVORK5CYII=\n",
       "\" style=\"display:inline;vertical-align:middle;\" /></a><br>"
      ],
      "text/plain": [
       "<IPython.core.display.HTML object>"
      ]
     },
     "metadata": {},
     "output_type": "display_data"
    },
    {
     "data": {
      "text/html": [
       "<strong id=\"mult_3_3\"><a class=\"ProveItLink\" href=\"proofs/mult_3_3/thm_proof.ipynb\">mult_3_3</a> (conjecture without proof):<br></strong> <a class=\"ProveItLink\" href=\"../__pv_it/theorems/6eff9cc2713d37caf6b058acd324a82ca58693a30/theorem_expr.ipynb\"><img src=\"data:image/png;base64,iVBORw0KGgoAAAANSUhEUgAAAFcAAAAVBAMAAADBdm84AAAAMFBMVEX///8AAAAAAAAAAAAAAAAA\n",
       "AAAAAAAAAAAAAAAAAAAAAAAAAAAAAAAAAAAAAAAAAAAv3aB7AAAAD3RSTlMAInZUiRDNmWbv3US7\n",
       "qzJazP2FAAAACXBIWXMAAA7EAAAOxAGVKw4bAAABbUlEQVQoz3WTPUjDUBSFT5LGNk1IHZyc6ipI\n",
       "M4jgVEGhk/g2UQS7CI5BhIo/kE3HOhdRcJGCEFxEp+qqYFcHNTg6iFAqDqLevNg2vLzcIdycfNx3\n",
       "cnIDYBiJkkhRqU5Su0iDJ4GRyl3/Vpnb9aF6Cay2xwC9Ct1FuT9+EVoHWBPZ5aJ9CGQ9qB2sVntq\n",
       "ydE/gX0RfgTuAQMwGyj04SsfBBtMgElbYJjifTlmUvsChgTT+jed6WMz7M2z2INrAjNtyWQP69TZ\n",
       "E88D+fUpAHLc1nYzrPN/zw9FnEY2YmGHaWh1YfKSb784aPDe6NKlF8kxg/0hwPrGbCkIYTuARdOQ\n",
       "d+nyTuc5MOvJr0dpkI1CN4J5/bIQ1k4Ez+A535KHdmSD1xG3kWsJY6eZ/gPM06t7sZwPeM7ZGQEe\n",
       "ZxYhb9Rd1gaLZNZokZD3BThT2QnfKpCt4qh8Q3OuTN1K2ecbiaa0UuAViWal/VdKMamNydE/OmNZ\n",
       "4VIeqh8AAAAASUVORK5CYII=\n",
       "\" style=\"display:inline;vertical-align:middle;\" /></a><br>"
      ],
      "text/plain": [
       "<IPython.core.display.HTML object>"
      ]
     },
     "metadata": {},
     "output_type": "display_data"
    },
    {
     "data": {
      "text/html": [
       "<strong id=\"mult_4_3\"><a class=\"ProveItLink\" href=\"proofs/mult_4_3/thm_proof.ipynb\">mult_4_3</a> (conjecture without proof):<br></strong> <a class=\"ProveItLink\" href=\"../__pv_it/theorems/e5ed2801fcf46f78c2cbb298e6a2d8a8fd0f5bcd0/theorem_expr.ipynb\"><img src=\"data:image/png;base64,iVBORw0KGgoAAAANSUhEUgAAAGEAAAAVBAMAAACkm51HAAAAMFBMVEX///8AAAAAAAAAAAAAAAAA\n",
       "AAAAAAAAAAAAAAAAAAAAAAAAAAAAAAAAAAAAAAAAAAAv3aB7AAAAD3RSTlMAInZUiRDNmWbv3US7\n",
       "qzJazP2FAAAACXBIWXMAAA7EAAAOxAGVKw4bAAABd0lEQVQ4y32TPUsDQRCG3/uIuVz0OKwkWOgv\n",
       "MEWwTmErXGejmEawMJBCPAkp0mlpKxIUxEYICXYGhOgf8AMLFUKCjWIhfmBQFM7ZDTnP3HBT7DHz\n",
       "7rMzszcLwEbImFDA1HQ4dhRJZMTy4LvKTKkOtRzaZh2Q5q50gFhO+FVfmYP2DiwNAgtrH8A49G8g\n",
       "Lo5T/4ipdKwLbISLJ+IS2AYSwn3M+8pxHUQkHI7YddC2MS3cbD6gaZ/AUJkj7oB2B6vCs4NEg3br\n",
       "FxxBVgOW6TOGAHHfovsw5H0UD4VVA4T1BuyLovCvKrorbYvPYVLuHTrQ7hGLuZ5IDVovPFGCJEbR\n",
       "I8wCLc/AeRpJPoch2qOqTlqtr+u+4jmC0PbYPjJQbJxJv+KfVZFVGU0uh5WF6mBW+j++sin/Rzw7\n",
       "SOivQMp1i8CTbMi76itJlyYRZn0AGLnt3qDmeTQPZocb6FTEsBsFLroe9T5OmZjSjCLmmdhw5LNV\n",
       "JsKxyYj9v8EZZe7bYl0IAAAAAElFTkSuQmCC\n",
       "\" style=\"display:inline;vertical-align:middle;\" /></a><br>"
      ],
      "text/plain": [
       "<IPython.core.display.HTML object>"
      ]
     },
     "metadata": {},
     "output_type": "display_data"
    },
    {
     "data": {
      "text/html": [
       "<strong id=\"mult_5_3\"><a class=\"ProveItLink\" href=\"proofs/mult_5_3/thm_proof.ipynb\">mult_5_3</a> (conjecture without proof):<br></strong> <a class=\"ProveItLink\" href=\"../__pv_it/theorems/00b303298fe8f2e0f13f4154c91a6f47e058001f0/theorem_expr.ipynb\"><img src=\"data:image/png;base64,iVBORw0KGgoAAAANSUhEUgAAAGEAAAAVBAMAAACkm51HAAAAMFBMVEX///8AAAAAAAAAAAAAAAAA\n",
       "AAAAAAAAAAAAAAAAAAAAAAAAAAAAAAAAAAAAAAAAAAAv3aB7AAAAD3RSTlMAInZUiRDNmWbv3US7\n",
       "qzJazP2FAAAACXBIWXMAAA7EAAAOxAGVKw4bAAABgUlEQVQ4y32TPUjDQBTH/2la06Rp6VZwUcHF\n",
       "yQzi3EHHQpxcFLMo4pRBrYhicdHRxcUPUqgOFoTgplMUdHCxm3VQg6ODKGIQBfUl0pAm1zzI5d7H\n",
       "7927u3cA8ogIwxSQhAIbqfaYE3ZoDhij3xBgzNTVlpUbWTGRqESjDwHRmaMxpQFHX6O+Zxz8OzAd\n",
       "BiYXPwDJOKDMAqVrBFyDSsoBNqLFE5H1ZiLaiVMTRIhqZ2I4RAD8J9BV6UzM09fsfwj4zig62WAS\n",
       "6yUbmCXtEj2m73q6J2tac6fLdVeOfUJWuW+g5ulyNVAVnRW/xVqD5BrY9SbCGw1T2r/TUJF77UCs\n",
       "5V1C1iD8kCbpNLwANwoyzDWuiLDdqsQqsn7OX9Ul+CprHzvAI3BBB0OQ1SL2varSFmuNIrAHlKiV\n",
       "dAz4N7bp3YdQDBNJ2mkBiW3gmbTC6oLvyZSpEyGZISB75zTBlW8ps2Sz+ro75nmkdZZ1Ke5FnTNs\n",
       "nBVHTDBscuyz5Xqjtr6Y+D/b+WW9Be/dJgAAAABJRU5ErkJggg==\n",
       "\" style=\"display:inline;vertical-align:middle;\" /></a><br>"
      ],
      "text/plain": [
       "<IPython.core.display.HTML object>"
      ]
     },
     "metadata": {},
     "output_type": "display_data"
    },
    {
     "data": {
      "text/html": [
       "<strong id=\"mult_6_3\"><a class=\"ProveItLink\" href=\"proofs/mult_6_3/thm_proof.ipynb\">mult_6_3</a> (conjecture without proof):<br></strong> <a class=\"ProveItLink\" href=\"../__pv_it/theorems/0ffae6712cd748861096b70fdb1872db8fcc9c880/theorem_expr.ipynb\"><img src=\"data:image/png;base64,iVBORw0KGgoAAAANSUhEUgAAAGEAAAAVBAMAAACkm51HAAAAMFBMVEX///8AAAAAAAAAAAAAAAAA\n",
       "AAAAAAAAAAAAAAAAAAAAAAAAAAAAAAAAAAAAAAAAAAAv3aB7AAAAD3RSTlMAInZUiRDNmWbv3US7\n",
       "qzJazP2FAAAACXBIWXMAAA7EAAAOxAGVKw4bAAABj0lEQVQ4y32TPUjDQBTH/+21Nm2TtpODizo5\n",
       "mkFc/SDgJGRSBKVBEDpJB7FFBYtLO9bBSYoBcRGE4CDoVEXnCg7qoBRHB6lIix9DfRdtjM2RBzly\n",
       "73+/9969uwOQgscELpcFVa/v2JcYoU/T6p1pQNuwECx4liUOgLA2ZdFoAL2WYnaUWbA3YKkbWFht\n",
       "AhHghkYKtwi52pGG1XALKHqLJ6IEzABRgDVdyqkFIqK6iJi2iVFALv/T2DvQUxARY1fIAysUcHly\n",
       "3aWd0erQtYhQ2kPU2AyQzCD61+KnB+qbZPDftUNuRw6BzU86qX0g3UBkx1UV9YqVRTnYRI20XSJM\n",
       "SF/kTBs/4p6ORENEFME+dE4kDUi0W8SyNLwANRVxYQ4qpF/lVcm/OWxr65xgpmAfYUqsFHBB5dE+\n",
       "nJgVuyqpKsqxTdFT/FRwiTmnVyX7PCLj3UToFTjRsQU881nu0VHiObqJiFldgHLfukPiNse1uuhC\n",
       "9/lcdikr8ub93se5wBeo+hHzAp/s+2wDA17foM/6b9tPaWIFe5RhAAAAAElFTkSuQmCC\n",
       "\" style=\"display:inline;vertical-align:middle;\" /></a><br>"
      ],
      "text/plain": [
       "<IPython.core.display.HTML object>"
      ]
     },
     "metadata": {},
     "output_type": "display_data"
    },
    {
     "data": {
      "text/html": [
       "<strong id=\"mult_7_3\"><a class=\"ProveItLink\" href=\"proofs/mult_7_3/thm_proof.ipynb\">mult_7_3</a> (conjecture without proof):<br></strong> <a class=\"ProveItLink\" href=\"../__pv_it/theorems/21e07204a668fd98c447d1e9e5d9fc9b7829986f0/theorem_expr.ipynb\"><img src=\"data:image/png;base64,iVBORw0KGgoAAAANSUhEUgAAAGAAAAAVBAMAAABLWfZ5AAAAMFBMVEX///8AAAAAAAAAAAAAAAAA\n",
       "AAAAAAAAAAAAAAAAAAAAAAAAAAAAAAAAAAAAAAAAAAAv3aB7AAAAD3RSTlMAInZUiRDNmWbv3US7\n",
       "qzJazP2FAAAACXBIWXMAAA7EAAAOxAGVKw4bAAABfklEQVQ4y32Tv0vDQBTHv2kSm7Y2dLU46F9g\n",
       "huLcQdyUbC6KXQQHhw7iSenQRXQUnEREQVxEMXTTqbo4GjcVpMHRQfxZFZF4d6G9cElz073v9z53\n",
       "7727A1BAZMRIYqQsZU3WmklACarv+z/dUJmoO0g15FUKWfIA8xDQK9CuCDnoOjNQ34EFGRiG9ou5\n",
       "lU8g3YBGN6h2nTFL7wDrMnADbNP0KZABVCDfc84cUCBjS8CejXaBA+M8ng556jcwIBdxD7Q9Dizz\n",
       "kloh75wu1txod06DlBbZPO8I/fGBtsOosGntiI2TQDffAoC3Zyi8E+uSuhk5IOsGwA4LJrk0X+kV\n",
       "aL5EgDpCwHGwB+vtM3BtIRc5wXAhUtL/hOHbDFD35RpKUIK2XtIg9yWAXZ6S0ZIOMMtI2RyYYmV+\n",
       "CGeD30O6LAFFQmq026/AE7uGLeHkCH18yDryJfh+B/m7zi2yXtwTLvZ/3UY1Tl1N+A8XMZrSSgBm\n",
       "Y7TBpD+qjES10f7L/wE7oGSQ0Be7UQAAAABJRU5ErkJggg==\n",
       "\" style=\"display:inline;vertical-align:middle;\" /></a><br>"
      ],
      "text/plain": [
       "<IPython.core.display.HTML object>"
      ]
     },
     "metadata": {},
     "output_type": "display_data"
    },
    {
     "data": {
      "text/html": [
       "<strong id=\"mult_8_3\"><a class=\"ProveItLink\" href=\"proofs/mult_8_3/thm_proof.ipynb\">mult_8_3</a> (conjecture without proof):<br></strong> <a class=\"ProveItLink\" href=\"../__pv_it/theorems/7d7d7a927c3617067a50820f6692521e923602c40/theorem_expr.ipynb\"><img src=\"data:image/png;base64,iVBORw0KGgoAAAANSUhEUgAAAGEAAAAVBAMAAACkm51HAAAAMFBMVEX///8AAAAAAAAAAAAAAAAA\n",
       "AAAAAAAAAAAAAAAAAAAAAAAAAAAAAAAAAAAAAAAAAAAv3aB7AAAAD3RSTlMAInZUiRDNmWbv3US7\n",
       "qzJazP2FAAAACXBIWXMAAA7EAAAOxAGVKw4bAAABmUlEQVQ4y32TsUvDUBDGv9ekTdpq7Fw7pKuL\n",
       "HYqrHboKGQQXoV0KDg4BhUjtEBd1dHEQKSpugljcdGr9B1o3EUqKo6BICyKoxEtq2vAScsvlfS+/\n",
       "d/fu7gHIIGAhks9ihaB2G0kUgdXy7mTJyo0WYib/FzM2B+QUHYhXAR2zk0BrEEZAjSdyEL/JpXqA\n",
       "ZEI2XW5si4X4J3DAE4/ACbkFIpKA2PMRdy0QkdQ44kyDlYGyT8QSIPxoki9x4QtI8Bd5BqwBxAQR\n",
       "27S0hlu+zXvTDRuwGyDvEBv0LdkX042XPhVFdrOsXzl2PdaVIZjpEJdOgXO2rylOrYSjQAgqkwiH\n",
       "OKUDdSwfk1apTm6pfASIBrDnEVQYNnJOofbgHegWkA7EkHtgKv6zqpDw5O3YmkMI5/w9imDz/b7V\n",
       "LOGBYtDgdTyi6WYlt7kQSgkx6lGSYqwA6Rpk1ds6dPshlTgiaxh1cnN00iv5N2M6iWmDJhGpFt8M\n",
       "26ZRkLq/KlKDsIHORgy7rIepO1HvoxOisXYUsR6izUQ+W6YGtXzE/3+CvmppAm8c8AAAAABJRU5E\n",
       "rkJggg==\n",
       "\" style=\"display:inline;vertical-align:middle;\" /></a><br>"
      ],
      "text/plain": [
       "<IPython.core.display.HTML object>"
      ]
     },
     "metadata": {},
     "output_type": "display_data"
    },
    {
     "data": {
      "text/html": [
       "<strong id=\"mult_9_3\"><a class=\"ProveItLink\" href=\"proofs/mult_9_3/thm_proof.ipynb\">mult_9_3</a> (conjecture without proof):<br></strong> <a class=\"ProveItLink\" href=\"../__pv_it/theorems/ff08abd4c3c26d19d22645a4966e747ddfe7a7100/theorem_expr.ipynb\"><img src=\"data:image/png;base64,iVBORw0KGgoAAAANSUhEUgAAAGIAAAAVBAMAAABPrCZEAAAAMFBMVEX///8AAAAAAAAAAAAAAAAA\n",
       "AAAAAAAAAAAAAAAAAAAAAAAAAAAAAAAAAAAAAAAAAAAv3aB7AAAAD3RSTlMAInZUiRDNmWbv3US7\n",
       "qzJazP2FAAAACXBIWXMAAA7EAAAOxAGVKw4bAAABnElEQVQ4y31TMUjDUBB9aRObprV2U4uDgrtB\n",
       "ims7dFTI5iIki+Dg0EGIlA7ddOziIEUUxUUQg5suRic36+CiSIubgiIWpVAw3k9sWn5CDi7/8+5e\n",
       "7t7/9wFkEbAQaMhiahA7D0+d0NwlDyTMBx8VSlULsRqfLJjrbRQcx6lDMiAd4tXvYxnxDrDKM6Yg\n",
       "9rBomhUViRpG60jb/dCcKv0AWzzjHthFERgHksCYAfG7H7qwQIykxjH2NbSypLgJLAC6jVhvEIx3\n",
       "gRFeyCPQagMi+YZXozsIXlK22Aye1JkrB1iDq+PLD7w8039kg20rJ8xOPTzDUp7IjwCpgffOUFe0\n",
       "j9cDJRQqKzC4wU50dv6XFt3wVWY+A4wquWj8M+CdlVKmzwdwpyIVqCEzZYrtdUU2uA9HY4z4Aa8j\n",
       "DyELndFuqOkd6O0+Y8/tSra5EpkiYhquWBdLNIvHuPVD2+59JIocI0cDAhQY/EZeMi0/lDJpEqFY\n",
       "/GU4Do3CJJtzpR0217mI5yGXw9DNqBd1HYIJdhRjJQRLRz5bYTqIzUTk/wFyNmq2WBwOQgAAAABJ\n",
       "RU5ErkJggg==\n",
       "\" style=\"display:inline;vertical-align:middle;\" /></a><br>"
      ],
      "text/plain": [
       "<IPython.core.display.HTML object>"
      ]
     },
     "metadata": {},
     "output_type": "display_data"
    }
   ],
   "source": [
    "mult_0_3, mult_1_3, mult_2_3, mult_3_3, mult_4_3, mult_5_3, mult_6_3, mult_7_3, mult_8_3, mult_9_3 = [Equals(Mult(num(n), num(3)), num(n*3)) for n in range(10)]"
   ]
  },
  {
   "cell_type": "code",
   "execution_count": 32,
   "metadata": {},
   "outputs": [
    {
     "data": {
      "text/html": [
       "<strong id=\"mult_0_4\"><a class=\"ProveItLink\" href=\"proofs/mult_0_4/thm_proof.ipynb\">mult_0_4</a> (conjecture without proof):<br></strong> <a class=\"ProveItLink\" href=\"../__pv_it/theorems/43a4aa92bbd35a1ee88b3047e246f443fe139ed10/theorem_expr.ipynb\"><img src=\"data:image/png;base64,iVBORw0KGgoAAAANSUhEUgAAAFcAAAAVBAMAAADBdm84AAAAMFBMVEX///8AAAAAAAAAAAAAAAAA\n",
       "AAAAAAAAAAAAAAAAAAAAAAAAAAAAAAAAAAAAAAAAAAAv3aB7AAAAD3RSTlMAInZUiRDNmWbv3US7\n",
       "qzJazP2FAAAACXBIWXMAAA7EAAAOxAGVKw4bAAABaUlEQVQoz3WTMUvDUBSFT5ukSZOSOruYToIg\n",
       "ZBDXhuKo0E0UoQURHCMUEae4KLrYXZRKN0EQ/4DRWbF/oNrZRdGKLoL3trRpXl7u9Pj4ODk3eQEw\n",
       "hcRI0HCybpLdpskLgFrZmQC2j2yQ0JZm6XFaHdjE+sSDzQ6wJbo5V7sE9ABGC2oY8TmSj0T5BFgG\n",
       "8kChA+U7anFIcr4qyE9AuYpFoOjD/hpjNUdyTiz9A7y7aAA1kn/HuMSy2om7GssBtoEZD/bnCGcC\n",
       "lo06n/eveK6Z9kl20B7K/XELsKw048kD2cMZ1fBgcXKN4w4Gsv0h1CD5zmGZFlR4QdOnCGcgW83k\n",
       "gmWXaxRCGKNXZ3W7r+celFa8Mx6B0yoeaJsm9HoUkucFQyH5GNgFVujUxlov4kUSdU+QTVe7AN7o\n",
       "tFp5ibD+/OfAvBFkrTFPeWZPdhWn5TfU8GV0L+U+30tYJkyRNySskPZf0WdITEmu/gMUB1fViNK8\n",
       "3AAAAABJRU5ErkJggg==\n",
       "\" style=\"display:inline;vertical-align:middle;\" /></a><br>"
      ],
      "text/plain": [
       "<IPython.core.display.HTML object>"
      ]
     },
     "metadata": {},
     "output_type": "display_data"
    },
    {
     "data": {
      "text/html": [
       "<strong id=\"mult_1_4\"><a class=\"ProveItLink\" href=\"proofs/mult_1_4/thm_proof.ipynb\">mult_1_4</a> (conjecture without proof):<br></strong> <a class=\"ProveItLink\" href=\"../__pv_it/theorems/4b109d19269d0324df2fd16d9d37bff7887348cc0/theorem_expr.ipynb\"><img src=\"data:image/png;base64,iVBORw0KGgoAAAANSUhEUgAAAFcAAAAVBAMAAADBdm84AAAAMFBMVEX///8AAAAAAAAAAAAAAAAA\n",
       "AAAAAAAAAAAAAAAAAAAAAAAAAAAAAAAAAAAAAAAAAAAv3aB7AAAAD3RSTlMAInZUiRDNmWbv3US7\n",
       "qzJazP2FAAAACXBIWXMAAA7EAAAOxAGVKw4bAAABD0lEQVQoz3WTsQ7BUBSGT2mVVspsYrUwiLkv\n",
       "IDyAhEViEQaDmFhY7SIkNolEPAFegM3UMJu8gMQ9t5LWObcnaXrz5cvJ33NPASALrBTIr1iZs2OU\n",
       "XBHPqxECzgBiE+4JDEYbjHs/LFs3gA6XEZvYpBSWi4LOuYw4BUR2ZkgbLAXiKpX1hKAJFlriIZUL\n",
       "SPUblSXuElmbIE228TzeYe0DvCWyDkjjC5pC4mUgt7DdVFLnTeQplS0xdi0vqU06/zCJYXveY+VC\n",
       "fPOf+YcvdBqQwg88sUtBXMNDPbxmGSGaLpMRv8TbW/eCSzCvnzxYB+r6+KlaxZx6Q5MDFR1F7PNZ\n",
       "wbRThNxUsHTUfyXmzaqgVr8g1UsImp4VLwAAAABJRU5ErkJggg==\n",
       "\" style=\"display:inline;vertical-align:middle;\" /></a><br>"
      ],
      "text/plain": [
       "<IPython.core.display.HTML object>"
      ]
     },
     "metadata": {},
     "output_type": "display_data"
    },
    {
     "data": {
      "text/html": [
       "<strong id=\"mult_2_4\"><a class=\"ProveItLink\" href=\"proofs/mult_2_4/thm_proof.ipynb\">mult_2_4</a> (conjecture without proof):<br></strong> <a class=\"ProveItLink\" href=\"../__pv_it/theorems/e6b5efb14e2377c9ff9276ae9fa3885a919a34e10/theorem_expr.ipynb\"><img src=\"data:image/png;base64,iVBORw0KGgoAAAANSUhEUgAAAFcAAAAVBAMAAADBdm84AAAAMFBMVEX///8AAAAAAAAAAAAAAAAA\n",
       "AAAAAAAAAAAAAAAAAAAAAAAAAAAAAAAAAAAAAAAAAAAv3aB7AAAAD3RSTlMAInZUiRDNmWbv3US7\n",
       "qzJazP2FAAAACXBIWXMAAA7EAAAOxAGVKw4bAAABbUlEQVQoz3WTP0jDQBSHf2n6L21T6yS4mA4i\n",
       "OHUQVysITmInJ8EsgmMHMcXF6GBdhDo4iVBwEIRCcHCOgqstODgVHZxcrIiDgsZ3F+3p9XKE4/Hx\n",
       "8fLL4wVAAQNHgcITKw2y8yh5ChjZuPkD8lXEXNlKzM17dNvQfCx6gmc6wKosp4Bbul2YBRgNwSdJ\n",
       "rsvyHrAEGPS8wXwRKXZJNiqSvMDlacBswvzq43iS5KQceuYaNWA9zNnr4yKT4x1JNoMJmtoar5+t\n",
       "X6q5TE7brN48Y6fF+dYHDf+Ely2RAkzWG1Jnfbb9ChzxwfjsXmHttrmc70lyHfp7JZT3w+BVSmFx\n",
       "OSt3PgTGSjyGXsbwD8x2u/fHZejN/5kT9CbTxRWVj8C4aGKwD/SlzgdArsCmrZ06TlPwIRJTZUm+\n",
       "qGAHeKKsQRDYYgvanxYyniTn7xxCmQfVKo6qNzRdVdFaxD5fKpjmR8jLCpaL+q80a5AV1eo3EvxU\n",
       "X73knRkAAAAASUVORK5CYII=\n",
       "\" style=\"display:inline;vertical-align:middle;\" /></a><br>"
      ],
      "text/plain": [
       "<IPython.core.display.HTML object>"
      ]
     },
     "metadata": {},
     "output_type": "display_data"
    },
    {
     "data": {
      "text/html": [
       "<strong id=\"mult_3_4\"><a class=\"ProveItLink\" href=\"proofs/mult_3_4/thm_proof.ipynb\">mult_3_4</a> (conjecture without proof):<br></strong> <a class=\"ProveItLink\" href=\"../__pv_it/theorems/7cfbac99c91a0d1d9799f4df604eddf44a8daa470/theorem_expr.ipynb\"><img src=\"data:image/png;base64,iVBORw0KGgoAAAANSUhEUgAAAGEAAAAVBAMAAACkm51HAAAAMFBMVEX///8AAAAAAAAAAAAAAAAA\n",
       "AAAAAAAAAAAAAAAAAAAAAAAAAAAAAAAAAAAAAAAAAAAv3aB7AAAAD3RSTlMAInZUiRDNmWbv3US7\n",
       "qzJazP2FAAAACXBIWXMAAA7EAAAOxAGVKw4bAAABc0lEQVQ4y32Tv0vDUBDHv0nTH2nrSwen4tCu\n",
       "guBQXNvNSegfoNhFcHDIIEaKQ1x0dZUiCiKIIBUX1+rqYNxUqM3spJZ2Ean3XqUJzZHb7sfn3ffu\n",
       "vQeggIgxoZDpi9HYbSxRAWaXH0MBYUN3I2XiAtCcLR9INpC0UQ01ynrAxjSwtjMA5mD8AGkXeh/r\n",
       "jSA5T8RhVDwRz8AxYAK5FqyAEAdEmHWOOK2jV8CS8quBcCNFRMrliDeg52NburnLIFWWhOFxBFkb\n",
       "2JRCFt4nGc2VREapbF5Juw4R4hs4H6ua7MqAJBJHfA+5x5byTemrhe0rQnzyxB4UIXzk+/IAm0SV\n",
       "FJHje2TkeKTKGowJtYNut3dSQ+KMnaMCrYAHkuSNVf2bKSfvcD1EDXodK5R2w/cBi6rTtWnC+AKK\n",
       "jtMEPsi7c0IvMf30W0L2ZgqYeR2+oD0aDWlcn3vQxZjHnrG56G7c/7hnYlonjlhlYvnYb0t3FrFy\n",
       "TP0fGrdjli1D5qcAAAAASUVORK5CYII=\n",
       "\" style=\"display:inline;vertical-align:middle;\" /></a><br>"
      ],
      "text/plain": [
       "<IPython.core.display.HTML object>"
      ]
     },
     "metadata": {},
     "output_type": "display_data"
    },
    {
     "data": {
      "text/html": [
       "<strong id=\"mult_4_4\"><a class=\"ProveItLink\" href=\"proofs/mult_4_4/thm_proof.ipynb\">mult_4_4</a> (conjecture without proof):<br></strong> <a class=\"ProveItLink\" href=\"../__pv_it/theorems/6e5bbead6df677f8114e02920a5fc929b5c78c1d0/theorem_expr.ipynb\"><img src=\"data:image/png;base64,iVBORw0KGgoAAAANSUhEUgAAAGEAAAAVBAMAAACkm51HAAAAMFBMVEX///8AAAAAAAAAAAAAAAAA\n",
       "AAAAAAAAAAAAAAAAAAAAAAAAAAAAAAAAAAAAAAAAAAAv3aB7AAAAD3RSTlMAInZUiRDNmWbv3US7\n",
       "qzJazP2FAAAACXBIWXMAAA7EAAAOxAGVKw4bAAABcklEQVQ4y32TPUsDQRCG3yR3+bjEGKzEKqkE\n",
       "Kwux9QrBSskPULQRBBGuEFFROBstFQQbCQhiIwQOeyHaKYJBLFQ4TCEoVlp4oChxZiNxyQ03xXLv\n",
       "zD7zsXsLoICQCS7N4oNh30kkMcTLs+bIO4i7oW35I1qM0QnAnGFd1WJWHZjtBKaWPoDYPB6AFKeL\n",
       "68QAEVvh5olIFnEFZFi+LGjlN4nIlCViRHmHebE1wkgSkXQl4kJ9LbIqaESJCaMuEXtP/R4wR6oX\n",
       "/0TMZSKtzmP1mK3aJgIXu8AhN6URBphI7Ag1zCawUsY+JSy0iGlOvKGI/JtEfAHbHhM9aBGWQ00V\n",
       "FZGVaiAgwuWuTn3/8/YvkPX9x4qNxIE0x6Wqca50RcuW4clr4n3QHMC40t9arJt2p+xOwngHcrZJ\n",
       "Z/XKcq150w6lrn+KsLwOoOs+uAPG1hs0bkP6ofsifva0I3mXo97HmeCL1aKIScGXi3y2dGchK0Xs\n",
       "/wX5q2Ia+JSHtwAAAABJRU5ErkJggg==\n",
       "\" style=\"display:inline;vertical-align:middle;\" /></a><br>"
      ],
      "text/plain": [
       "<IPython.core.display.HTML object>"
      ]
     },
     "metadata": {},
     "output_type": "display_data"
    },
    {
     "data": {
      "text/html": [
       "<strong id=\"mult_5_4\"><a class=\"ProveItLink\" href=\"proofs/mult_5_4/thm_proof.ipynb\">mult_5_4</a> (conjecture without proof):<br></strong> <a class=\"ProveItLink\" href=\"../__pv_it/theorems/8fad5f83b8b28a8976230279f26457cf87c2b7cf0/theorem_expr.ipynb\"><img src=\"data:image/png;base64,iVBORw0KGgoAAAANSUhEUgAAAGEAAAAVBAMAAACkm51HAAAAMFBMVEX///8AAAAAAAAAAAAAAAAA\n",
       "AAAAAAAAAAAAAAAAAAAAAAAAAAAAAAAAAAAAAAAAAAAv3aB7AAAAD3RSTlMAInZUiRDNmWbv3US7\n",
       "qzJazP2FAAAACXBIWXMAAA7EAAAOxAGVKw4bAAABm0lEQVQ4y32TPUvDYBDH/2mbpklr7SYUwRQE\n",
       "URAyiGsz6KaQDyDYRXFwyFCtFIW6KLroKqKtOFkQi1/AKrgp1k2E2swuviAKitZ7gjbtk5AbQv53\n",
       "97vn7nkBkIDLPFxtFtBgQezMOfUlRoDibNlwHHETgQKfJeTmLWBsgCqLGeDoc7wtqNSAGZ7oRegL\n",
       "YU08ACQqV+sIDpFc54lbYAebwAQggyPiayRlgyOKBhqJayBtYJQnQmGSYX6Qe6BhfQBPGrIk7/of\n",
       "nFiKEaGae4tOREYUMEf/l+irtDalwIhIhv3ny8yO/7p9Fd6IUHFoy1ip1RQYEdx2LaHUbELHri2l\n",
       "F/pMs8KrNhF/dhHLEIk4UxkRy0D6YVVMakq1iahrjQh5aY60xrqSS+j6rxmt1xt7OoIlfo4RCIkr\n",
       "YMvABWsdctWpJrPJq9wScR0BYwNYBCapExODbSfWTdmSzhHJXC4PRRP3gUeSPSsLTky6+VahVPjD\n",
       "aDbfIWaH6ToqlteFTvpc9ojp5V3yex/nHj6h6kdMefhivs+WzsxlKZ/8XzGKaKyZz6V4AAAAAElF\n",
       "TkSuQmCC\n",
       "\" style=\"display:inline;vertical-align:middle;\" /></a><br>"
      ],
      "text/plain": [
       "<IPython.core.display.HTML object>"
      ]
     },
     "metadata": {},
     "output_type": "display_data"
    },
    {
     "data": {
      "text/html": [
       "<strong id=\"mult_6_4\"><a class=\"ProveItLink\" href=\"proofs/mult_6_4/thm_proof.ipynb\">mult_6_4</a> (conjecture without proof):<br></strong> <a class=\"ProveItLink\" href=\"../__pv_it/theorems/8e7c83ce423bb0f9e82b6be1d48867c0400e2b060/theorem_expr.ipynb\"><img src=\"data:image/png;base64,iVBORw0KGgoAAAANSUhEUgAAAGEAAAAVBAMAAACkm51HAAAAMFBMVEX///8AAAAAAAAAAAAAAAAA\n",
       "AAAAAAAAAAAAAAAAAAAAAAAAAAAAAAAAAAAAAAAAAAAv3aB7AAAAD3RSTlMAInZUiRDNmWbv3US7\n",
       "qzJazP2FAAAACXBIWXMAAA7EAAAOxAGVKw4bAAABdElEQVQ4y32TsUvDQBTGvzSxSdqYdHKoDu3q\n",
       "5FCci3QVugpCiyB0EOkgRKpDXXTt4iAiFtwEsfgXVHE3rkJNZqciKIJIfddcm3AX8iCQfL/73nv3\n",
       "7gKgACkSpFhk1mTtIdVRoadWCyLBbiPTFVcp7l4QMiw0gaXBYj+COQ/YFR0r0H450yndDqxhBFdJ\n",
       "PRMdr8AFZyagfsWZfcrUuuC4rsMvhGwdsHpxpmVJzYobeQP8IGQHlHB/4yhiZaZqnjyie85agNOC\n",
       "OR+x0mWq0WTvnVsWd7zbT85ugMYY+vm8KTBV7UklaEwhuyRHHwYbXYMlPpmq9lhyHM8YOZwmjB+W\n",
       "hY5HKU3VvFTD8GaMurJ4DRb50ci/qkLti/uoQFkO2RM1TfuI5TTZzodCCbuKTD1km/T5jK3YdXRo\n",
       "tV4VHEXX7XD2webjvkdMf/krITcQD2My+Z6xIOlCF1Muu9FOUg/T/o/HBE0Zpjm2EzQr9belc5Gi\n",
       "nLL+H0dMZdh0lWjSAAAAAElFTkSuQmCC\n",
       "\" style=\"display:inline;vertical-align:middle;\" /></a><br>"
      ],
      "text/plain": [
       "<IPython.core.display.HTML object>"
      ]
     },
     "metadata": {},
     "output_type": "display_data"
    },
    {
     "data": {
      "text/html": [
       "<strong id=\"mult_7_4\"><a class=\"ProveItLink\" href=\"proofs/mult_7_4/thm_proof.ipynb\">mult_7_4</a> (conjecture without proof):<br></strong> <a class=\"ProveItLink\" href=\"../__pv_it/theorems/386dad92949c6bb9fbe440468fad66bb92e301a50/theorem_expr.ipynb\"><img src=\"data:image/png;base64,iVBORw0KGgoAAAANSUhEUgAAAGEAAAAVBAMAAACkm51HAAAAMFBMVEX///8AAAAAAAAAAAAAAAAA\n",
       "AAAAAAAAAAAAAAAAAAAAAAAAAAAAAAAAAAAAAAAAAAAv3aB7AAAAD3RSTlMAInZUiRDNmWbv3US7\n",
       "qzJazP2FAAAACXBIWXMAAA7EAAAOxAGVKw4bAAABlElEQVQ4y32TPUjDQBiG3/TSpk2bmMXBIthO\n",
       "glOH4moF0UnJ5CTYRXBw6CCkFMEo+DMq4iAiCm6iWBycqyCOrTgIQmlnJ1FRqpR4dxUTLiHflLzf\n",
       "Pd/vHQADPguQPBbJSRuidhVK5EEcx+m4gl5CxBZPSdZSG9GJqSoQLUK+t6xT16k2gAWRGIT8AwV4\n",
       "BBQbMg1Rcp0jlNgSiQfgANvALJAACKB5itqkRMIUiGMTLWOaE6NcmHF9cowSMbGRZ6DVHrtDGVjm\n",
       "fdVcX5YRcsM/oktoznAOWGQ/WtUdis2IeJF9V86YXfxV+wasftNN8SENeIoCI8iOLwUdIRmvvwOH\n",
       "7G+Sa/Ms8Bon9FcfscImSDpmjzjvRaEjljKcSPpyxKm6DwzleFXR7r8j2Wy2jgogJ2IfeUj9NLFm\n",
       "45Yd+/JGS7DOa0IKvYCIuQukDNCtgHx4nX30tFIQiLRlVXBtYh14YRPd8/iUejcDtSouw3E+oT9Z\n",
       "VFfbQRc6HXLZ46UgtRz2Pm4CNKkWRswFaKnQZ0t35rNsyPlfcVRiQ2uM3+gAAAAASUVORK5CYII=\n",
       "\" style=\"display:inline;vertical-align:middle;\" /></a><br>"
      ],
      "text/plain": [
       "<IPython.core.display.HTML object>"
      ]
     },
     "metadata": {},
     "output_type": "display_data"
    },
    {
     "data": {
      "text/html": [
       "<strong id=\"mult_8_4\"><a class=\"ProveItLink\" href=\"proofs/mult_8_4/thm_proof.ipynb\">mult_8_4</a> (conjecture without proof):<br></strong> <a class=\"ProveItLink\" href=\"../__pv_it/theorems/8c76772ba4ffc9bb66c73aff3d6d34bd60f141df0/theorem_expr.ipynb\"><img src=\"data:image/png;base64,iVBORw0KGgoAAAANSUhEUgAAAGEAAAAVBAMAAACkm51HAAAAMFBMVEX///8AAAAAAAAAAAAAAAAA\n",
       "AAAAAAAAAAAAAAAAAAAAAAAAAAAAAAAAAAAAAAAAAAAv3aB7AAAAD3RSTlMAInZUiRDNmWbv3US7\n",
       "qzJazP2FAAAACXBIWXMAAA7EAAAOxAGVKw4bAAABl0lEQVQ4y32Tv0vDQBTHv2lSk7ZaO5cO6epi\n",
       "h+Jqh65CBsFFqEvBwSGgEKkd4qKOLg4iRcVNkBY3nVr/gdZNhJLgKCjSQhFU4rujmnAJectx37vP\n",
       "+3XvAOQQsggpYIlSWLuNJcrAanUvIGRNJGzxllRtdiBZWy6Q3ABMzAUCpQdAXSTWII9RgPIFqDY0\n",
       "m3N/tkDEoUgslpITPAKnQApQBkEie0BEyhCIuw4mODfg5LAEyN+G6ieuzBAxEyoE8ieeAcfFDm2c\n",
       "0bZ/UmQEhRXtnjtpA5u0qN6l3xSbERrPsnHN7IbrL0OXpTwCrliDC95/rxQwQj4OZzWe9vGMHJpY\n",
       "PqFtjTne50T2I/xwVDea4AQ1RuIOTEpK50RGjPEO9EvQWHmUVY2Wp+lJZjh0WhXIF0IdnsGIMqQc\n",
       "HigGDV7Pd5dilXeFGC2WVbaChIEV8luHpvuH83RbrQjEEXuPvGU1gFfavlmBSVT7PzrSHYHIWDSJ\n",
       "bc+bULlu1EDnY4adWhthu3H/oxehSd04Yj1Cm439tpIe1oox938BB5tqaTIipZYAAAAASUVORK5C\n",
       "YII=\n",
       "\" style=\"display:inline;vertical-align:middle;\" /></a><br>"
      ],
      "text/plain": [
       "<IPython.core.display.HTML object>"
      ]
     },
     "metadata": {},
     "output_type": "display_data"
    },
    {
     "data": {
      "text/html": [
       "<strong id=\"mult_9_4\"><a class=\"ProveItLink\" href=\"proofs/mult_9_4/thm_proof.ipynb\">mult_9_4</a> (conjecture without proof):<br></strong> <a class=\"ProveItLink\" href=\"../__pv_it/theorems/24040798b337964fd60d8304cce96841bddad92f0/theorem_expr.ipynb\"><img src=\"data:image/png;base64,iVBORw0KGgoAAAANSUhEUgAAAGEAAAAVBAMAAACkm51HAAAAMFBMVEX///8AAAAAAAAAAAAAAAAA\n",
       "AAAAAAAAAAAAAAAAAAAAAAAAAAAAAAAAAAAAAAAAAAAv3aB7AAAAD3RSTlMAInZUiRDNmWbv3US7\n",
       "qzJazP2FAAAACXBIWXMAAA7EAAAOxAGVKw4bAAABoklEQVQ4y32TP0jDUBDGvzZJ/6S1dXZqQRBc\n",
       "LCKu7VBwUrKIi9AuguDSQaiKQlzUzYLoUoqiuAhCcNMpOqkI7eIiFIu4KChiMRRF670UkvASckte\n",
       "7t7v3Xf37gHoh8s8XA4LZty+M19iDAiX7x2ORAlBld8VyK9qgJifAqQipEO8OHTIDWCOJ2YgtBFY\n",
       "wAOdr6KvgrhuB4eJ2OSJkYxkIJTCHRAFkkWIX7aoDSKiCkecazCQNb3jQEFH8MeKiSEiQq5CIHRw\n",
       "Yy4Wezk6ViTNCLHhIi5U7D0PUfnzMOv4tJqiMiJSZOuVE2anpv+p2YKhYgc4onZV8da2RIERQsWt\n",
       "qi11gWUFVda6wdE/+hTYwesmkfhwX9z+9DewrZkEer2SSyQqZRIxPsc7UM8YRKhMFZl1H7Fm87GW\n",
       "g3DA1dFViLg1c1yRwl0UWvZxUVa5zuWokSolS3UAkzSLx7h2BJO0O5zjiC12H/GcRL16pd98WbNj\n",
       "4fpvCrLGEbEym8SJNdIit7wGesBn2CMlL++S3/u49PAFdD9i1sMX9322dGcuS/vs/wcuNG7bpgat\n",
       "qQAAAABJRU5ErkJggg==\n",
       "\" style=\"display:inline;vertical-align:middle;\" /></a><br>"
      ],
      "text/plain": [
       "<IPython.core.display.HTML object>"
      ]
     },
     "metadata": {},
     "output_type": "display_data"
    }
   ],
   "source": [
    "mult_0_4, mult_1_4, mult_2_4, mult_3_4, mult_4_4, mult_5_4, mult_6_4, mult_7_4, mult_8_4, mult_9_4 = [Equals(Mult(num(n), num(4)), num(n*4)) for n in range(10)]"
   ]
  },
  {
   "cell_type": "code",
   "execution_count": 33,
   "metadata": {},
   "outputs": [
    {
     "data": {
      "text/html": [
       "<strong id=\"mult_0_5\"><a class=\"ProveItLink\" href=\"proofs/mult_0_5/thm_proof.ipynb\">mult_0_5</a> (conjecture without proof):<br></strong> <a class=\"ProveItLink\" href=\"../__pv_it/theorems/6f7f3cfdd78e5456925cb8b679975ac6125f91720/theorem_expr.ipynb\"><img src=\"data:image/png;base64,iVBORw0KGgoAAAANSUhEUgAAAFcAAAAVBAMAAADBdm84AAAAMFBMVEX///8AAAAAAAAAAAAAAAAA\n",
       "AAAAAAAAAAAAAAAAAAAAAAAAAAAAAAAAAAAAAAAAAAAv3aB7AAAAD3RSTlMAInZUiRDNmWbv3US7\n",
       "qzJazP2FAAAACXBIWXMAAA7EAAAOxAGVKw4bAAABeUlEQVQoz3WTPUvDUBSGn36kH2mt3QQX6+Qk\n",
       "ZBDXhuJoIU6iCC2IIE4VioqLxUV0sYuLilaqiyCIf8Dq4CAK3dw0s4ui9QNcPGlpNGl6hsu5bx7O\n",
       "Oe+9N0CSjvCQWuHXHNsETHDRDR6BYGbR3kY/F07wlzqwsSFpp+Rhlmm7sXp4bMCcmw1pyhGES0Qq\n",
       "BGtttae5brjhLRiXthCvE/hwwlHDBd9D2mAUegsk3p1wyD30F7xoFCEn8LcNr2dNsVx3sooFl5iH\n",
       "AZ3EW1uOG74fiOStfPXUijPJfA2BU1RbcONfmVsIlJ2Vm7DOnoyhE7Mq5/KtL2tJEq+uMQS+TFmw\n",
       "GAxYBtWCLDcCm8TKnQbTmjVGvEbEPrpdeJIxKs6ZuYNtg2txUyacb8M67ItUc1XehCXISlZlymyr\n",
       "ffh35F51F6xqygE8SzaZefzzvfwgt6eeu2ClOCz1VNPrKfZ7v9BIwUtd6fKerzw0X60LPOOhxbv9\n",
       "V75Upzbojf4CJSFWGMPZKWQAAAAASUVORK5CYII=\n",
       "\" style=\"display:inline;vertical-align:middle;\" /></a><br>"
      ],
      "text/plain": [
       "<IPython.core.display.HTML object>"
      ]
     },
     "metadata": {},
     "output_type": "display_data"
    },
    {
     "data": {
      "text/html": [
       "<strong id=\"mult_1_5\"><a class=\"ProveItLink\" href=\"proofs/mult_1_5/thm_proof.ipynb\">mult_1_5</a> (conjecture without proof):<br></strong> <a class=\"ProveItLink\" href=\"../__pv_it/theorems/16daae46b30cd103220dacfa1848c5bd49cb95780/theorem_expr.ipynb\"><img src=\"data:image/png;base64,iVBORw0KGgoAAAANSUhEUgAAAFcAAAAVBAMAAADBdm84AAAAMFBMVEX///8AAAAAAAAAAAAAAAAA\n",
       "AAAAAAAAAAAAAAAAAAAAAAAAAAAAAAAAAAAAAAAAAAAv3aB7AAAAD3RSTlMAInZUiRDNmWbv3US7\n",
       "qzJazP2FAAAACXBIWXMAAA7EAAAOxAGVKw4bAAABHUlEQVQoz2NgYBBgwABYhCCAyQCFy8fAEMiw\n",
       "CUMVWJiBwQSIXwXARTm/ZS1lYGpAVwwWZmBNYGC9no9QzDV/CZCTiq4YIswOMkQfoZgXTLajK4YI\n",
       "czJgU8wZgFWxGVbFbA1YFZegK27yfcDAwHIBXTFYOANNMU8A428GBo4EELtqFQisRQgvRlMMBKcY\n",
       "GJgnYEYIUHg2QnF8AkS0XoCB7wOmYqAwkmKuAiBxDCj6gIEb3WSIMLozZjEw3Ac6YwGamyHCh9AU\n",
       "OzAwzAF68ACayRBhXxDTH5HMxBmYpgLj1QFNMUT4FZB1d34uPBIYy68DreHagKYYKvwAW7qVwp6c\n",
       "OQqwiVbgSPwHsYgxHsChOAaLGA+ufMWogCmmiF0pAGsER44NV+YXAAAAAElFTkSuQmCC\n",
       "\" style=\"display:inline;vertical-align:middle;\" /></a><br>"
      ],
      "text/plain": [
       "<IPython.core.display.HTML object>"
      ]
     },
     "metadata": {},
     "output_type": "display_data"
    },
    {
     "data": {
      "text/html": [
       "<strong id=\"mult_2_5\"><a class=\"ProveItLink\" href=\"proofs/mult_2_5/thm_proof.ipynb\">mult_2_5</a> (conjecture without proof):<br></strong> <a class=\"ProveItLink\" href=\"../__pv_it/theorems/4fa72666e6825dda048e3b57d9129403125885a80/theorem_expr.ipynb\"><img src=\"data:image/png;base64,iVBORw0KGgoAAAANSUhEUgAAAGEAAAAVBAMAAACkm51HAAAAMFBMVEX///8AAAAAAAAAAAAAAAAA\n",
       "AAAAAAAAAAAAAAAAAAAAAAAAAAAAAAAAAAAAAAAAAAAv3aB7AAAAD3RSTlMAInZUiRDNmWbv3US7\n",
       "qzJazP2FAAAACXBIWXMAAA7EAAAOxAGVKw4bAAABiUlEQVQ4y32Tv0vDUBDHv69t+iM2pU4FpzqI\n",
       "k5BBXJvB0WLcFbMI4tShtOJicBEFsYuLila0CEKh+A8YHRxExU2d7ODk0gq2DoL1kvBK2zzzCMe7\n",
       "+94nd8d7D0ASniUI9ayA2ucmgDlc+hKTQKrw2HVj7ZUKAqYnLVEhMz1O1SUDzMJsjSvy8ZkOLA0C\n",
       "C4UWEFalEyBiQkkiVuKS4thNb/NEbAMz1AV9LSif/URMFxEPQEbHFCWVofz2E2FTRHwDDRV5t/tm\n",
       "l9jI1oHQk4CQbMLEsuM30lyJ6+wHiBr2fu3CXlVOsC8n8dTxq72/uwOCJUENh9BwYLsRy7aLhiuu\n",
       "J5Foiroi4irtEjvuMDkyt0TUMVT6Z/KM6nQV1DDMlX3gjSJlwRy4B3Z13JD3DoxxQgMOaXJLVGML\n",
       "KABZgJ0Xi2WupBDYo8G0QSJEZyyr0hHwQZtOp2NwhRWf6bzl2gCgvLZfIOUn6KzkuuhCj/hc9mhO\n",
       "FF31ex/Xghiz/Ih5QSzu+2xZ2hsb9cn/AxdGZGaikapEAAAAAElFTkSuQmCC\n",
       "\" style=\"display:inline;vertical-align:middle;\" /></a><br>"
      ],
      "text/plain": [
       "<IPython.core.display.HTML object>"
      ]
     },
     "metadata": {},
     "output_type": "display_data"
    },
    {
     "data": {
      "text/html": [
       "<strong id=\"mult_3_5\"><a class=\"ProveItLink\" href=\"proofs/mult_3_5/thm_proof.ipynb\">mult_3_5</a> (conjecture without proof):<br></strong> <a class=\"ProveItLink\" href=\"../__pv_it/theorems/6ed3c54d788857618f2a19ba09a513fb97f7e3bc0/theorem_expr.ipynb\"><img src=\"data:image/png;base64,iVBORw0KGgoAAAANSUhEUgAAAGEAAAAVBAMAAACkm51HAAAAMFBMVEX///8AAAAAAAAAAAAAAAAA\n",
       "AAAAAAAAAAAAAAAAAAAAAAAAAAAAAAAAAAAAAAAAAAAv3aB7AAAAD3RSTlMAInZUiRDNmWbv3US7\n",
       "qzJazP2FAAAACXBIWXMAAA7EAAAOxAGVKw4bAAABVklEQVQ4y2NgYBBgwABYhJAAkwEKl4+BIZBh\n",
       "E3alYDkGBhMGBhH303BRzm9ZSxmYGjBVL4XKMbAmMLAWMNjDLeKavySAgSEVXUNs2VeYHHsDA9Nn\n",
       "hvgEmBQvmGzHdPxXmBwnAwP3bAZ+NB2cAbh1mIFJ+wZUHWwNuHWUgAjuFXAZ3ibfBwwMLBew6gDL\n",
       "ZYDCQfceXIYngPE3AwMH2JVVq0BgLVwHRG4xxFXIkXKKgYF5AjY7IHKzIT4F8WEBVi/AwPcBhw6g\n",
       "HFAH3wMGns+gqCgAEseAog8YuLHaAZEDuor/K0QHGMxiYLgPdNUCbP6AyB0COukCxFVg4MDAMAfo\n",
       "8wPY7IDI+QKlG5DiQ5yBaSowJTig62D5CJN7BeRtL0ekRMby68D45tqApoH35rcbMLkH2NK1FJ7s\n",
       "wVGATbQCX446iEWM8QA+HTFYxHjwZltGBUwxRTzqAZMdXpcW+dYeAAAAAElFTkSuQmCC\n",
       "\" style=\"display:inline;vertical-align:middle;\" /></a><br>"
      ],
      "text/plain": [
       "<IPython.core.display.HTML object>"
      ]
     },
     "metadata": {},
     "output_type": "display_data"
    },
    {
     "data": {
      "text/html": [
       "<strong id=\"mult_4_5\"><a class=\"ProveItLink\" href=\"proofs/mult_4_5/thm_proof.ipynb\">mult_4_5</a> (conjecture without proof):<br></strong> <a class=\"ProveItLink\" href=\"../__pv_it/theorems/944639dee3b6261bfb26ca6405b1aec29d883f7e0/theorem_expr.ipynb\"><img src=\"data:image/png;base64,iVBORw0KGgoAAAANSUhEUgAAAGEAAAAVBAMAAACkm51HAAAAMFBMVEX///8AAAAAAAAAAAAAAAAA\n",
       "AAAAAAAAAAAAAAAAAAAAAAAAAAAAAAAAAAAAAAAAAAAv3aB7AAAAD3RSTlMAInZUiRDNmWbv3US7\n",
       "qzJazP2FAAAACXBIWXMAAA7EAAAOxAGVKw4bAAABmElEQVQ4y32TPUjDQBTH/4lNTWMNwUUpDnVy\n",
       "EjIU12ZwtBB3wS6CiEKHYqUIFhfRRRcHP6uoiyCKu1gdHEShiiAIpdkUF0WkIhXqu1TTegl5w3Hv\n",
       "vfu9j7t3ADS4xMPUJKL+T1WBIZz4EjG2PDlqqDK+DzHHnxIyExYw0EvZpSQzHDouJb9nAqM80Y1A\n",
       "FUFd2gFaWTixQbTb6zxP3AKrWAQGqQqmP09yRMjkiLyJsnYDxE30M93giSDfyCNQtj6BVx1pVpTW\n",
       "RMwlqMVA0X1FRxIjchijfRcaRNgUqoBs30f2gMlvj+q78EFEFLusqCaC5ApoWXalUIo2YWCdAmp1\n",
       "YiRZ981qUN9cxAwkIs6ijOhAnVBStFwSYaHNlUOmzqiPuM6qOi2Vvu7/PGt0KVTVNt9HDIJ2DSyZ\n",
       "uLD1TSeWAWxQxAKXQjUgmgvAFJCwDd+OqxPiCk2CwRGRTCYLRZe2gBe7q9pdY+Qe6L2VY/4xarUK\n",
       "pHQfvZVieQ10xGfY5ZSXddrvf5x72ISCHzHsYQv7flsh6rb1+Jz/AY8QY97UJmDoAAAAAElFTkSu\n",
       "QmCC\n",
       "\" style=\"display:inline;vertical-align:middle;\" /></a><br>"
      ],
      "text/plain": [
       "<IPython.core.display.HTML object>"
      ]
     },
     "metadata": {},
     "output_type": "display_data"
    },
    {
     "data": {
      "text/html": [
       "<strong id=\"mult_5_5\"><a class=\"ProveItLink\" href=\"proofs/mult_5_5/thm_proof.ipynb\">mult_5_5</a> (conjecture without proof):<br></strong> <a class=\"ProveItLink\" href=\"../__pv_it/theorems/30f5bdab2a0636d1d4f2cae432f042caad718de70/theorem_expr.ipynb\"><img src=\"data:image/png;base64,iVBORw0KGgoAAAANSUhEUgAAAGEAAAAVBAMAAACkm51HAAAAMFBMVEX///8AAAAAAAAAAAAAAAAA\n",
       "AAAAAAAAAAAAAAAAAAAAAAAAAAAAAAAAAAAAAAAAAAAv3aB7AAAAD3RSTlMAInZUiRDNmWbv3US7\n",
       "qzJazP2FAAAACXBIWXMAAA7EAAAOxAGVKw4bAAABd0lEQVQ4y32TvUvDQBjGn8TWNLUt2YQiqODi\n",
       "5lCcuzgW4i6YRRFx6KBUiqK4uLo4+AEtqEMLYvEviIIOTnFSHGxmJ3XoYMH6pneJ4e7IQY7L83uf\n",
       "977eA2BBagop1vQ5+EhHMQVgEbfq0CEDSkBjtW2Hqtlbv4K+LwZrtQ2fMaQdoPWzEKFs45LcK6Jj\n",
       "Aqk+Zwal82IoP+wPRcczcMKZCZXDtAVHw0bXYmxe6RgVN/IGdH3GNul7nXn/dxxUfCDlySd1w9ka\n",
       "jR8w2Qn1nK31gYwTjOvtoF3zo/3m7ILFNWPJnoCRI2mKrMfZ2fDX+KJu2WFsz0LhU3LshIwcOQfG\n",
       "b5ClSt0jqT7GpDkyXshoVWYT+SjnKR0Kraop7qMEzWLsng6GTG7oKAPnlNEVS6oM3WasQjVTxWx0\n",
       "Y+PQj2lfZcFRrNXqnH0EUbtbsZJ7IXe2I17GYNALma+q62LC88hUVep20ou6U2iam+RYUmi5xGer\n",
       "TcnadEL8H5XHYddtwAjUAAAAAElFTkSuQmCC\n",
       "\" style=\"display:inline;vertical-align:middle;\" /></a><br>"
      ],
      "text/plain": [
       "<IPython.core.display.HTML object>"
      ]
     },
     "metadata": {},
     "output_type": "display_data"
    },
    {
     "data": {
      "text/html": [
       "<strong id=\"mult_6_5\"><a class=\"ProveItLink\" href=\"proofs/mult_6_5/thm_proof.ipynb\">mult_6_5</a> (conjecture without proof):<br></strong> <a class=\"ProveItLink\" href=\"../__pv_it/theorems/0d6b9c4c3b8121b91fe86cd8fd8571ff362cae0e0/theorem_expr.ipynb\"><img src=\"data:image/png;base64,iVBORw0KGgoAAAANSUhEUgAAAGEAAAAVBAMAAACkm51HAAAAMFBMVEX///8AAAAAAAAAAAAAAAAA\n",
       "AAAAAAAAAAAAAAAAAAAAAAAAAAAAAAAAAAAAAAAAAAAv3aB7AAAAD3RSTlMAInZUiRDNmWbv3US7\n",
       "qzJazP2FAAAACXBIWXMAAA7EAAAOxAGVKw4bAAABtElEQVQ4y32TP2gTYRTAf5f08udyaTMpOKWT\n",
       "k/QGcU2QjBbOQUQo5BAKwUE6BCMqNLj4Z7FLl9Y2kdZFEA43uxhFOpQW3ZzUw9HBBqIx4GDfXcwf\n",
       "vzvuwX3ce+/7ve/9+T6gQEgiTFOSsP5TZ+Eyr2KJ8/JVKt5IzfZvPCfRVHdplXuu7Dsrp+sOnHLz\n",
       "7ZHLaO3asKwSV0n2SFn6M0hLuOuYnZErH6wPVGLB0vs8hkuSBSR/TbmGRNZWiNcufY6gZHMBzLUQ\n",
       "kQoVQnLAbzi2qEvAmxfvToj7i9KFmY8hYq+p+0STGszVyI5bbNraH8g4/v+dF768DOzfPnvaTyGK\n",
       "7EC1S3p9KtqBpLAWzqoXEGU2hWiTkbhUnaFvtcBsNzy41hUh3hR9Ys4hM/BHsSLLvhAeOfWMH/DB\n",
       "kjpKlp+V+e+MQDbgq6TQVur4awtxCE9s3olb6hjHLMNTqbyjnLElWdmP4BYsivqea+NenSYhXUiX\n",
       "FeKhPw/D0rfhu6gzjS+TK9f4JPM2XIXINeQm6vVzMivDi7rQZ2Iue2Ylyno77n28jbBpnThiKcJm\n",
       "xj5brRi2zcfsPwEe7mr3zqw/SAAAAABJRU5ErkJggg==\n",
       "\" style=\"display:inline;vertical-align:middle;\" /></a><br>"
      ],
      "text/plain": [
       "<IPython.core.display.HTML object>"
      ]
     },
     "metadata": {},
     "output_type": "display_data"
    },
    {
     "data": {
      "text/html": [
       "<strong id=\"mult_7_5\"><a class=\"ProveItLink\" href=\"proofs/mult_7_5/thm_proof.ipynb\">mult_7_5</a> (conjecture without proof):<br></strong> <a class=\"ProveItLink\" href=\"../__pv_it/theorems/735d62b15e17428e9cad55cbd373479008d0449e0/theorem_expr.ipynb\"><img src=\"data:image/png;base64,iVBORw0KGgoAAAANSUhEUgAAAGEAAAAVBAMAAACkm51HAAAAMFBMVEX///8AAAAAAAAAAAAAAAAA\n",
       "AAAAAAAAAAAAAAAAAAAAAAAAAAAAAAAAAAAAAAAAAAAv3aB7AAAAD3RSTlMAInZUiRDNmWbv3US7\n",
       "qzJazP2FAAAACXBIWXMAAA7EAAAOxAGVKw4bAAABdElEQVQ4y2NgYBBgwABYhJAAkwFjKxKXj4Eh\n",
       "kGETdqVgOQYGEwbm/////4SJcn7LWsrA1ICumNGlZgNEjoE1gYHleHn5YpgU1/wlAQwMqeg6whmY\n",
       "P0Pl2BsYWIBGFMCkeMFkO7oOfQPWb1A5TgYGZpg6hA7OADQdOzcwwHSYgUk/NB1sGB5hYP4BlSsB\n",
       "++sAQkeT7wMGBpYLGDp2NUDlMsDKNsAleAIYfzMwcCSA2FWrQGAtWPzR3QdQOXAgSaKYdgrohAmY\n",
       "rvoMlZsNot3AYvEJELl6AQa+D5jxNz8AIgfWsQYSFaAgPgYUfcDAjW7HOwaG8wYQOZCrWP8ipGYx\n",
       "MNwHOmEBmj/+BwB1QOQOAbnc3xE6HBgY5gB9fgDNjrkgV0HkfEGe+oKQEmdgmgpMCQ5oOjpA8QGR\n",
       "ewWKjslISa78OtCHXBvQdHCXA1MiVO4BtnQthSd7cBRgE63Al6MOYhFjPIBPRwwWMR682ZZRAVNM\n",
       "EY96AF9iYOn4ZeD2AAAAAElFTkSuQmCC\n",
       "\" style=\"display:inline;vertical-align:middle;\" /></a><br>"
      ],
      "text/plain": [
       "<IPython.core.display.HTML object>"
      ]
     },
     "metadata": {},
     "output_type": "display_data"
    },
    {
     "data": {
      "text/html": [
       "<strong id=\"mult_8_5\"><a class=\"ProveItLink\" href=\"proofs/mult_8_5/thm_proof.ipynb\">mult_8_5</a> (conjecture without proof):<br></strong> <a class=\"ProveItLink\" href=\"../__pv_it/theorems/b3ccfb4194ee73862619eea7a1bfdea2fbe906090/theorem_expr.ipynb\"><img src=\"data:image/png;base64,iVBORw0KGgoAAAANSUhEUgAAAGEAAAAVBAMAAACkm51HAAAAMFBMVEX///8AAAAAAAAAAAAAAAAA\n",
       "AAAAAAAAAAAAAAAAAAAAAAAAAAAAAAAAAAAAAAAAAAAv3aB7AAAAD3RSTlMAInZUiRDNmWbv3US7\n",
       "qzJazP2FAAAACXBIWXMAAA7EAAAOxAGVKw4bAAABo0lEQVQ4y32Tv0vDUBDHv6nNj6Y/7CaIQzoJ\n",
       "gpBBXJvB0UIER6EuBXEKWKzoYHRQdNHFxd9FXQRB/AdsHRxEMZsupZ0FUVR0UKmXtI1tXsgNIXfv\n",
       "fd597+49AEkw5hNqs5Da4SaAMVwEEkPA+MiC60Y+p08QMtl9CQMY6afs/CRgIO4mkg+OdSDHErIF\n",
       "QeWLgGhCMh2uYXHnu8oSAxbWgVFSAYQthojojKgVC3dAWscw0PWji2YnITCFhAULX8CLijx51bcZ\n",
       "dyW+nKk5aT2WEizeJkxMkSfWi+5KTOe+AclROX9q25n9y5mCxX0QoeDIbnBfvX0oNyR00ysKTULD\n",
       "Dh1oIL1F0Wyz/MUkEq8eYokInohLxSaoMdy73XGaEa6JqCHqycEpaFSeVm1VWQo9tta2qRGk6rCz\n",
       "jmilUt3TboENHVeUg0ZfbhEasEtCS8wEIxbWgFkgQwfkICmthR6EqCZRY4juEmSV3weeyHku/N9E\n",
       "rvBA85bPvYB4/6vw+UGalVzzu9C9AZddMvyic0Hvo+wT40pBxIRPLBb4bDmFjaUC9v8BNWplfIUF\n",
       "f2gAAAAASUVORK5CYII=\n",
       "\" style=\"display:inline;vertical-align:middle;\" /></a><br>"
      ],
      "text/plain": [
       "<IPython.core.display.HTML object>"
      ]
     },
     "metadata": {},
     "output_type": "display_data"
    },
    {
     "data": {
      "text/html": [
       "<strong id=\"mult_9_5\"><a class=\"ProveItLink\" href=\"proofs/mult_9_5/thm_proof.ipynb\">mult_9_5</a> (conjecture without proof):<br></strong> <a class=\"ProveItLink\" href=\"../__pv_it/theorems/1dbdb449c9d4ed962f4ae9a261bf1585a47edf520/theorem_expr.ipynb\"><img src=\"data:image/png;base64,iVBORw0KGgoAAAANSUhEUgAAAGEAAAAVBAMAAACkm51HAAAAMFBMVEX///8AAAAAAAAAAAAAAAAA\n",
       "AAAAAAAAAAAAAAAAAAAAAAAAAAAAAAAAAAAAAAAAAAAv3aB7AAAAD3RSTlMAInZUiRDNmWbv3US7\n",
       "qzJazP2FAAAACXBIWXMAAA7EAAAOxAGVKw4bAAABfElEQVQ4y32TvUvDQBiHf4n9Svq5CU4tODmJ\n",
       "iHMH10KdXIRkEcSpg1BxsTro2qWLVRRrF0Eo/gXRQcTFLOJUmlVBEEURRPFN7hKb3JEbksv73HP3\n",
       "Xt47ACUITRIaa+ps6LMALOFSPtRjwDyQbj4EUe1zvQ+1JRneYAxJE8lTPAV56MdndWBVNHSbs3QL\n",
       "+TZylg/y3nNfNGZszjSgaCLxETa0upDUnm8sAIYF9TtspISNJFK+scHW+AqM3ZpD3I4aFdfw2Bq8\n",
       "fbz5JFdXaL2M6fa3zt124XaVFhmM9eh3dfHyPjbdHTDRjiaFlM1Zl17L03O/9DJMRrdLKLxGjB1u\n",
       "EOuyKdx/pTfocUNRB9nIGkrZNRjrseyDehwAI8rqJLyP7HA4Oqoydk24A8PxjSpwSDu3hApqNmc1\n",
       "Oot93AZgEmqHTkJVMIoWZ8/0sdgc/GfcfKR664OokL7/KXPmyM71VMz1yDRk0c24G3UliSlWnLEi\n",
       "ieViry0VR2iVmPF/SRJjpG91aosAAAAASUVORK5CYII=\n",
       "\" style=\"display:inline;vertical-align:middle;\" /></a><br>"
      ],
      "text/plain": [
       "<IPython.core.display.HTML object>"
      ]
     },
     "metadata": {},
     "output_type": "display_data"
    }
   ],
   "source": [
    "mult_0_5, mult_1_5, mult_2_5, mult_3_5, mult_4_5, mult_5_5, mult_6_5, mult_7_5, mult_8_5, mult_9_5 = [Equals(Mult(num(n), num(5)), num(n*5)) for n in range(10)]"
   ]
  },
  {
   "cell_type": "code",
   "execution_count": 34,
   "metadata": {},
   "outputs": [
    {
     "data": {
      "text/html": [
       "<strong id=\"mult_0_6\"><a class=\"ProveItLink\" href=\"proofs/mult_0_6/thm_proof.ipynb\">mult_0_6</a> (conjecture without proof):<br></strong> <a class=\"ProveItLink\" href=\"../__pv_it/theorems/7ec60d143a117c8ee29f014e98fe33626a661e560/theorem_expr.ipynb\"><img src=\"data:image/png;base64,iVBORw0KGgoAAAANSUhEUgAAAFcAAAAVBAMAAADBdm84AAAAMFBMVEX///8AAAAAAAAAAAAAAAAA\n",
       "AAAAAAAAAAAAAAAAAAAAAAAAAAAAAAAAAAAAAAAAAAAv3aB7AAAAD3RSTlMAInZUiRDNmWbv3US7\n",
       "qzJazP2FAAAACXBIWXMAAA7EAAAOxAGVKw4bAAABd0lEQVQoz3WTvUvDUBRHT5vGph9UZxfj1EnI\n",
       "IK4NpeCikk0UoQURBJcKRVQQsokuLQguglS6CULxHzC6KQqdHaSDk4ui9QMXfa8lKU3SN4SXk5Ob\n",
       "3728AGMEVgjqragRZJfD5GmI5Tf797HCAlE7oBWy4nNqCVZZ9j4c2eAR1vzuiKGeQdxGqxNzPKpz\n",
       "D/t++RDmIAHpFsqnS3OWvCYsn/zQfTIDo2UyHy697dX3h/6GV4MKFIX849Lj52xTdNkadFUp26zD\n",
       "hEnm3cVfNkegleR+91yuC9l2R8g6jZ7ccUv8wY6FUhus3JVNTkQMk5SsXBTl1F+oNsm8+WII+UqX\n",
       "smhQkQ0myzKGkG1StWCDOUPGSDto3ujuupWV+mBmOfuqxY3opka85M1ZZBbI8VU+gC2YF7sGS22X\n",
       "pk1VTCNu+uSkoZ7Ci9gt5p/6eHZPvJhs+mS1MiVxO+wojoefUK0cRreHnOfrEBZxhsgrISw97L+K\n",
       "6EE2Ga7+A7+jWoz1X0mZAAAAAElFTkSuQmCC\n",
       "\" style=\"display:inline;vertical-align:middle;\" /></a><br>"
      ],
      "text/plain": [
       "<IPython.core.display.HTML object>"
      ]
     },
     "metadata": {},
     "output_type": "display_data"
    },
    {
     "data": {
      "text/html": [
       "<strong id=\"mult_1_6\"><a class=\"ProveItLink\" href=\"proofs/mult_1_6/thm_proof.ipynb\">mult_1_6</a> (conjecture without proof):<br></strong> <a class=\"ProveItLink\" href=\"../__pv_it/theorems/940d7050220fdf3ec095fd87eebbe211522b6b2e0/theorem_expr.ipynb\"><img src=\"data:image/png;base64,iVBORw0KGgoAAAANSUhEUgAAAFcAAAAVBAMAAADBdm84AAAAMFBMVEX///8AAAAAAAAAAAAAAAAA\n",
       "AAAAAAAAAAAAAAAAAAAAAAAAAAAAAAAAAAAAAAAAAAAv3aB7AAAAD3RSTlMAInZUiRDNmWbv3US7\n",
       "qzJazP2FAAAACXBIWXMAAA7EAAAOxAGVKw4bAAABIklEQVQoz2NgYBBgwABYhCCAyQBTbBMuxSZA\n",
       "/CoAwWdx8WNgasBQBhJmYE1gYL2ej1DMmM1wi4EhFV0tRJgdZIg+QjGbAsMZBoZ2dMUQYU4GVMX2\n",
       "YCZnAJpiiLAZmuKTEIPQHQ0RLkFTPO2J+gagdy6gKYYIZ6Ap/tbAMJmBgSMBxK5aBQJrEcKLURWz\n",
       "/mdgqAxgYJ6AajBUeDZCcTzQONZfDAz9Gxj4PqAphggjKeYqANkHFG1g4EYzGSqM5gyGU2AjmBeg\n",
       "uRkifAg9nIGOA3rwAHo4g4V9QUx/RDLjcWAFepvdAU0xRPgVkHV3fi4iEtxrHwCdvwE9viHCD7Al\n",
       "RSnsKZSjAJtoBY70fBCLGOMBHIpjsIjx4MpXjAqYYorYlQIAOatQduorFzkAAAAASUVORK5CYII=\n",
       "\" style=\"display:inline;vertical-align:middle;\" /></a><br>"
      ],
      "text/plain": [
       "<IPython.core.display.HTML object>"
      ]
     },
     "metadata": {},
     "output_type": "display_data"
    },
    {
     "data": {
      "text/html": [
       "<strong id=\"mult_2_6\"><a class=\"ProveItLink\" href=\"proofs/mult_2_6/thm_proof.ipynb\">mult_2_6</a> (conjecture without proof):<br></strong> <a class=\"ProveItLink\" href=\"../__pv_it/theorems/ea86a8cbdec1653fa20696103d7d85e330f38f9d0/theorem_expr.ipynb\"><img src=\"data:image/png;base64,iVBORw0KGgoAAAANSUhEUgAAAGEAAAAVBAMAAACkm51HAAAAMFBMVEX///8AAAAAAAAAAAAAAAAA\n",
       "AAAAAAAAAAAAAAAAAAAAAAAAAAAAAAAAAAAAAAAAAAAv3aB7AAAAD3RSTlMAInZUiRDNmWbv3US7\n",
       "qzJazP2FAAAACXBIWXMAAA7EAAAOxAGVKw4bAAABi0lEQVQ4y32TMUvDQBTH/2kT28QmxEkoDnUQ\n",
       "V4fiagbBSc0HUOwiCDp0kEaLQjYnsSAI4mBBRBBKi58guikiuqlLO3RysQrtoGB8l3q1NEce4Xj3\n",
       "/ve7917uDoCJkAlCfRabCseuIoksMFp4+J/LswuIuaFlxjkgORsNQMlB8rBY44q0jldgdRBYLrSB\n",
       "McjfQMKFbkItcWkog3tgL1w8EU/AMaDS14b+wZUZm42qLSJObdRNTAN6GfoPV267mVwRQeXWG9gM\n",
       "5lqLK0fNSepJfhQRZFVgLXDeM1zpuDgEkjnmFy+ZVfoI4xM4C+YVDig+sG0jXhLn0Cj3CXMSHhtX\n",
       "aGPlCziowWiJiR38EfvdZvKsKiJcDItzJFl7rKq4hRGu3AU54mVhH1lIJm7IaQITvfOgPmgzT5TD\n",
       "sBCzMU8X48JxylxJWQr9q4Q1SMh0xmnHKQJvVL/v+7meNLdLt02rDQD6S+cZVd+nNrWG6EKnIy57\n",
       "Mi+KbkW9j2tBTPKiiCVBLBX5bKVMODYesf4XfpVnBKfkuyIAAAAASUVORK5CYII=\n",
       "\" style=\"display:inline;vertical-align:middle;\" /></a><br>"
      ],
      "text/plain": [
       "<IPython.core.display.HTML object>"
      ]
     },
     "metadata": {},
     "output_type": "display_data"
    },
    {
     "data": {
      "text/html": [
       "<strong id=\"mult_3_6\"><a class=\"ProveItLink\" href=\"proofs/mult_3_6/thm_proof.ipynb\">mult_3_6</a> (conjecture without proof):<br></strong> <a class=\"ProveItLink\" href=\"../__pv_it/theorems/9fea526130c6279af704d1b8e50a33dbf3d80f540/theorem_expr.ipynb\"><img src=\"data:image/png;base64,iVBORw0KGgoAAAANSUhEUgAAAGEAAAAVBAMAAACkm51HAAAAMFBMVEX///8AAAAAAAAAAAAAAAAA\n",
       "AAAAAAAAAAAAAAAAAAAAAAAAAAAAAAAAAAAAAAAAAAAv3aB7AAAAD3RSTlMAInZUiRDNmWbv3US7\n",
       "qzJazP2FAAAACXBIWXMAAA7EAAAOxAGVKw4bAAABiklEQVQ4y32TO0gDQRCGvzxO8zaFlY2xSiVY\n",
       "iG0UhFTKVVaKNoJgk0KMCuJho52KaGMjiCCCECy0jYKFDzBg4aOQFFZWSkhAG529wzPklptiYf7d\n",
       "7+af2T0gjSc0UlME+7zaqS/RD5352/88PDxK0PIcSx2CMZwvyTqFUSDnFgrM8gLTrcDEfB3a4UFW\n",
       "i2CNyam/rbYMd7DmNS/EOoxBFOJ7dLhEzlRr1NQRIzYx4JxzjV87lSwdkbtiAeZUGj9yd3bfstJd\n",
       "uKIjkj9Z6XdGzaH31d1pWGxDxHa5dKzixCVY+ZabOnBc/c3K+IFFk9CmrkZo6L4Ge3YeVV9QAzO+\n",
       "YaNE6kNHrBH6MhWRqpIQllhBuRLCIq6tsQPdfcpVR90h7Lixa4T2NX0YUjhpcSmWKo4rpyPpQzov\n",
       "62psQSKtbiViNd1HYtCQWbUPthLhTzgzWYV3yc6LTS8xv1yVlkotQPK58UTqsSh6rKp70F0+jz1S\n",
       "0KkLfv/HhUYLlP2IcY2W8P1tAxmv1uNz/hdHEWYpNwUjnQAAAABJRU5ErkJggg==\n",
       "\" style=\"display:inline;vertical-align:middle;\" /></a><br>"
      ],
      "text/plain": [
       "<IPython.core.display.HTML object>"
      ]
     },
     "metadata": {},
     "output_type": "display_data"
    },
    {
     "data": {
      "text/html": [
       "<strong id=\"mult_4_6\"><a class=\"ProveItLink\" href=\"proofs/mult_4_6/thm_proof.ipynb\">mult_4_6</a> (conjecture without proof):<br></strong> <a class=\"ProveItLink\" href=\"../__pv_it/theorems/a65a19205fd209c610926dac44e9d4969aa2ff310/theorem_expr.ipynb\"><img src=\"data:image/png;base64,iVBORw0KGgoAAAANSUhEUgAAAGEAAAAVBAMAAACkm51HAAAAMFBMVEX///8AAAAAAAAAAAAAAAAA\n",
       "AAAAAAAAAAAAAAAAAAAAAAAAAAAAAAAAAAAAAAAAAAAv3aB7AAAAD3RSTlMAInZUiRDNmWbv3US7\n",
       "qzJazP2FAAAACXBIWXMAAA7EAAAOxAGVKw4bAAABk0lEQVQ4y32Tv0vDQBTHv0mT/oglBiepDu0k\n",
       "ODkUVzMITkr+AEEXQVChg1AtCnHRUUEQRIoFN0Es7kJ1UwSrOAmhHQTFSRwEfxHfpT9O7kLekJd7\n",
       "7z7vx707ABYkCTH9E3VEtp1FEnn2eeZrbXwKqivuUoqLTVJmAdBnmeGEuxbwCMyJxCC0b1JGHUiw\n",
       "cCon4lncAFsicQfskxomIsXWL0td15jDvilHIA4dNCyYm0SMsrXNiatWJrERqrTRhBYnYpkVZXFi\n",
       "72moSu3X5SM6BXKMmKf/fnDiw8UukAzOo3TMpN2j+Q7FZcQRK4oTug+sOojtSCnomDQw4oACWi1i\n",
       "hgLrX8B2FeabRKwBGx2iDy3CKLCqiHDRI+VI1qFk0a7q3PM+Hzqe6yBHrCL2kYcy4HmNso3LYF3m\n",
       "86A+KGJNSGHaUGlGKcoxGRh+uq60rdNZJWyByBSLJVK9FOk16Mq/7/om1unKGVVxGL5PHSZuf7Mw\n",
       "mmEXOhNx2ZOFMOtK1Pu4CLEptShiOsSWjny2NBdJchH7/wBZcGT3sM/HMQAAAABJRU5ErkJggg==\n",
       "\" style=\"display:inline;vertical-align:middle;\" /></a><br>"
      ],
      "text/plain": [
       "<IPython.core.display.HTML object>"
      ]
     },
     "metadata": {},
     "output_type": "display_data"
    },
    {
     "data": {
      "text/html": [
       "<strong id=\"mult_5_6\"><a class=\"ProveItLink\" href=\"proofs/mult_5_6/thm_proof.ipynb\">mult_5_6</a> (conjecture without proof):<br></strong> <a class=\"ProveItLink\" href=\"../__pv_it/theorems/88f55371453ee5e9e61428644674d298079bf3af0/theorem_expr.ipynb\"><img src=\"data:image/png;base64,iVBORw0KGgoAAAANSUhEUgAAAGEAAAAVBAMAAACkm51HAAAAMFBMVEX///8AAAAAAAAAAAAAAAAA\n",
       "AAAAAAAAAAAAAAAAAAAAAAAAAAAAAAAAAAAAAAAAAAAv3aB7AAAAD3RSTlMAInZUiRDNmWbv3US7\n",
       "qzJazP2FAAAACXBIWXMAAA7EAAAOxAGVKw4bAAABpklEQVQ4y32TO0jDYBDH/2n69a24CS5WEIqD\n",
       "mEFc26HiopJFXAS7KIJLh/rEQjYfSwXBRbQVJwtCcNPFKjgoih1FUII4OfigUqWD9RI1bb+E3BBy\n",
       "d9/vHt/dB6AFFrEx1YlLggbWeObQkegFspN52dTd8WG4FP6UEF9SgXiEIrMEsF/pr7mmcQdM8MQo\n",
       "xBI8EtsFvBSuWOfyhHEFLPNEj8TKWAMGAT8aiahRn1/miCMVZVwb7j6OuPjNZGkE4hc+gVcJKVJu\n",
       "Ox9Mx+ZThFp0Fy3EscJ0QsEUKedoV/8dZQUbgC+h/y/mdTkw7I/3mvBBRBh7hh7K/QGsCizIENet\n",
       "VZUMIoYtQ/W+02ecArMKkFHR/GYdXHaEiJOwToQS8H6TKZDUqyJCQZDP8QLcSNRHVNKr8ufQZMa8\n",
       "NHKIOa6PqkwEDSoj44wuhqCCOQ/qgzovcDm2qSp5FZgFhmgxkugyJxaKMborb4wjVvR5BCS2AzyT\n",
       "2pqeqfkG0hq1pHJEcI42kaW6dZ9mt9BtDsvuS9pZ553ex6mNTSg4EWM2tpDjsxXCVluHw/kf031u\n",
       "5EaAc+MAAAAASUVORK5CYII=\n",
       "\" style=\"display:inline;vertical-align:middle;\" /></a><br>"
      ],
      "text/plain": [
       "<IPython.core.display.HTML object>"
      ]
     },
     "metadata": {},
     "output_type": "display_data"
    },
    {
     "data": {
      "text/html": [
       "<strong id=\"mult_6_6\"><a class=\"ProveItLink\" href=\"proofs/mult_6_6/thm_proof.ipynb\">mult_6_6</a> (conjecture without proof):<br></strong> <a class=\"ProveItLink\" href=\"../__pv_it/theorems/5f955d90466c0d3b4dbe6cadd6cce53d7b4c5b5c0/theorem_expr.ipynb\"><img src=\"data:image/png;base64,iVBORw0KGgoAAAANSUhEUgAAAGEAAAAVBAMAAACkm51HAAAAMFBMVEX///8AAAAAAAAAAAAAAAAA\n",
       "AAAAAAAAAAAAAAAAAAAAAAAAAAAAAAAAAAAAAAAAAAAv3aB7AAAAD3RSTlMAInZUiRDNmWbv3US7\n",
       "qzJazP2FAAAACXBIWXMAAA7EAAAOxAGVKw4bAAABiElEQVQ4y32TP0jDQBTGvzbGpG20Tg5OdXK0\n",
       "g7i2SMBJySIiCC2CUBCkg1D/QjbdLIguUiy4CUJw06mKiyLoLChFnBykUCxFh/qud8ZyF3KQkPt+\n",
       "97177/IOwBCUESD1jGha1S5CHRP02Hbdn/fZs4i68qqIve1xBj0PDHsDVR+t4BlYlh3z0JqCGRRu\n",
       "CVbtD/Wn8ADsyo7xtN4SLAZoXz0o47B3zJEclx5agk0CVrkH3fGdlEKgtQVbo4CrU1s+OHofYyU+\n",
       "KY4rV7ACkCwg5h9xy8UBYObZ9+YZG+dd/e2lLtgpkGvAOBQGvQNsONDKalZNwY7JUYX5Q1qOAuvf\n",
       "wL6HwYb6407mOCNHMg+zTVK8yLIi1UVC3uMTeExzRllZYo/uuO/G0apSHR2HHJzdUIZUhx8zQ7lS\n",
       "5TVpjwpl5XA2Q9NbLPhnZWV1Og8jKzn22P/g7IM1X+n1n03vUFfGPcmRKLFO5Kwe1NAjIc1uFoPU\n",
       "9bD7cR2gRWphjsUAzQq9tpGUqo2GrP8FCx5ux4fyaVQAAAAASUVORK5CYII=\n",
       "\" style=\"display:inline;vertical-align:middle;\" /></a><br>"
      ],
      "text/plain": [
       "<IPython.core.display.HTML object>"
      ]
     },
     "metadata": {},
     "output_type": "display_data"
    },
    {
     "data": {
      "text/html": [
       "<strong id=\"mult_7_6\"><a class=\"ProveItLink\" href=\"proofs/mult_7_6/thm_proof.ipynb\">mult_7_6</a> (conjecture without proof):<br></strong> <a class=\"ProveItLink\" href=\"../__pv_it/theorems/f8c7f419d4fa38951f12300cae777270637e0a040/theorem_expr.ipynb\"><img src=\"data:image/png;base64,iVBORw0KGgoAAAANSUhEUgAAAGEAAAAVBAMAAACkm51HAAAAMFBMVEX///8AAAAAAAAAAAAAAAAA\n",
       "AAAAAAAAAAAAAAAAAAAAAAAAAAAAAAAAAAAAAAAAAAAv3aB7AAAAD3RSTlMAInZUiRDNmWbv3US7\n",
       "qzJazP2FAAAACXBIWXMAAA7EAAAOxAGVKw4bAAABl0lEQVQ4y32Tv0vDQBTHv2mS/m7sanFIJ8HJ\n",
       "QVybQXSy5A8Q7CIIOmQQokUhDuqoUBBExIKbKA3+BdFFFMG4CqUdnJxEpKJS4t3VpjUX8oYk733v\n",
       "c/feyzsAeXAWEhqy2KSwE4xdRRJTED3P+/J9aaaMmMWvUwwI5mobkCuQbk3zrC8IK3gGlngi7WIM\n",
       "0g+QsCCRdUZfiKt4APZ4YsLFE3AEpAARyPlCSafPlM4lteviVEcrj2nml33lrncSV4gUd2m6rTbW\n",
       "WPKOrxy+jNtEd4NEMc5CDWCZvnO2r3Qs1IBkhX5Xz6ldsj0tRijvAGvSqA/IHrChQzwIJgVGkIbh\n",
       "mPqzLLpINpa/gX0byluA2O4Rm/gjLnodpy3uEMJCJnCGoDIiSSmaldwdaPfsDLH+v45Ms9k60ch8\n",
       "CHncUP9zQJRIHWQzh/uDKReKhpiOeeKIHwMhq8mkVwmNI0YcFEyzCrzSLGtDytwWmba0HQQSj121\n",
       "4XmkzHQ7bKALEcOeNMKi61H34zokJjhRxEJILBt5bcnP4awYsf4XfBpjmZTOJ0wAAAAASUVORK5C\n",
       "YII=\n",
       "\" style=\"display:inline;vertical-align:middle;\" /></a><br>"
      ],
      "text/plain": [
       "<IPython.core.display.HTML object>"
      ]
     },
     "metadata": {},
     "output_type": "display_data"
    },
    {
     "data": {
      "text/html": [
       "<strong id=\"mult_8_6\"><a class=\"ProveItLink\" href=\"proofs/mult_8_6/thm_proof.ipynb\">mult_8_6</a> (conjecture without proof):<br></strong> <a class=\"ProveItLink\" href=\"../__pv_it/theorems/ffdf30a1c127255d31bc47348153b99f3dd831fb0/theorem_expr.ipynb\"><img src=\"data:image/png;base64,iVBORw0KGgoAAAANSUhEUgAAAGEAAAAVBAMAAACkm51HAAAAMFBMVEX///8AAAAAAAAAAAAAAAAA\n",
       "AAAAAAAAAAAAAAAAAAAAAAAAAAAAAAAAAAAAAAAAAAAv3aB7AAAAD3RSTlMAInZUiRDNmWbv3US7\n",
       "qzJazP2FAAAACXBIWXMAAA7EAAAOxAGVKw4bAAABp0lEQVQ4y32TO0jDUBSG/zRN07edRTCdCk4d\n",
       "xLUVKp2UDOIk1KUguAQUWhUxOlg3FdFFBMVNEIqDcys4KEIDDopQ2sFJEMSCYFHquSmNNTfkDIHz\n",
       "n/vd87oBEANnDlKfeZK8dulKjALTmdU/35uZgkfnz0U1SJlsGZDmAA0RK5GwgGcgzxNBAzLwAMg6\n",
       "/LrJdc2n4B4o8cSIgW1gBghQHUYfkVLZN6ByRW0ZmDSJMUD8VmWr8NtuJq4Rr89A6gZFYIm8xsei\n",
       "FTl8SZTNtDaLExHpJKjfefLkzqkV+dSxD/jNKlfOmV2YA9GJwHqbNnXGBjzU6c1K6gDLKsRde1Eg\n",
       "QhyvtYAjulBD6oDUHF0stYGdMqLvNmKDESWIXyojaDBCi01cY1URoSNkyyEojKBrh5OsqhxJT73Y\n",
       "nZlDPPnfR6hebxxPUOKIjmvKQe1UrX1QH1RohdtgwMAeEI6xrYTy8Cu9QDgt0azkNEcMVHClYhN4\n",
       "Jeet0PcSs2tNaqlsB+TajxJ9LJAebDo96EGXx+7XnNSi2/9RddCEihsx66CFXX9bQeG1uMv5X1s/\n",
       "Z/ZH7SeMAAAAAElFTkSuQmCC\n",
       "\" style=\"display:inline;vertical-align:middle;\" /></a><br>"
      ],
      "text/plain": [
       "<IPython.core.display.HTML object>"
      ]
     },
     "metadata": {},
     "output_type": "display_data"
    },
    {
     "data": {
      "text/html": [
       "<strong id=\"mult_9_6\"><a class=\"ProveItLink\" href=\"proofs/mult_9_6/thm_proof.ipynb\">mult_9_6</a> (conjecture without proof):<br></strong> <a class=\"ProveItLink\" href=\"../__pv_it/theorems/3577214e58dcf0b5fbccbd57014626f8db6e39de0/theorem_expr.ipynb\"><img src=\"data:image/png;base64,iVBORw0KGgoAAAANSUhEUgAAAGEAAAAVBAMAAACkm51HAAAAMFBMVEX///8AAAAAAAAAAAAAAAAA\n",
       "AAAAAAAAAAAAAAAAAAAAAAAAAAAAAAAAAAAAAAAAAAAv3aB7AAAAD3RSTlMAInZUiRDNmWbv3US7\n",
       "qzJazP2FAAAACXBIWXMAAA7EAAAOxAGVKw4bAAABo0lEQVQ4y32Tu0vDUBTGv7RJH+lzE5xSEAQn\n",
       "EXE1Q8GpEicXoV0E0aWDUBXE6KCjBamDVRS1iyAU/4LoICqCXUQQSiu4KAiiWMTi49y2aeUm5C7n\n",
       "cL787nfOvbkAorAsm9K/5eq31k4slTAwZuaDgDdz29HE+ChcOk/4a9MFBqYBKQVpH0/tPoQZ3AOT\n",
       "PCHvHmoslGh/HaEsgoYpeRRcA2s8EWqGPiL8QCQF8cOUhrVGE5otEV4lYghIGnDVTemy6aTbEqKH\n",
       "iNmmx6cpbT72Fkkq8cRKogrEGDGFxhxvplTTsQH4UixfOGLrmKVBTahD0BlxQMeVx8t7C5B+gXkN\n",
       "7qz1kq4gghF5ysd7Bn4oJGlj6QtYLyL8aiWWosttAs2zktOsKyJ0BHiPcyIeFLS6Ym0aHW/m4d7j\n",
       "5tgCKoFyubKj4gxw55Cstu+D5qDJDc5DBbbZPZFHgv7FAi7aUlCV6Ky8Kkd0wZWjEKGdninGM8WO\n",
       "NrJIfnKRI4TMHf0G3ptvBXLV7gl0OzwPX9quOuf0ok5taoLhREzY1IKOz1ZQrLWYw/d/u9loGCNz\n",
       "hwYAAAAASUVORK5CYII=\n",
       "\" style=\"display:inline;vertical-align:middle;\" /></a><br>"
      ],
      "text/plain": [
       "<IPython.core.display.HTML object>"
      ]
     },
     "metadata": {},
     "output_type": "display_data"
    }
   ],
   "source": [
    "mult_0_6, mult_1_6, mult_2_6, mult_3_6, mult_4_6, mult_5_6, mult_6_6, mult_7_6, mult_8_6, mult_9_6 = [Equals(Mult(num(n), num(6)), num(n*6)) for n in range(10)]"
   ]
  },
  {
   "cell_type": "code",
   "execution_count": 35,
   "metadata": {},
   "outputs": [
    {
     "data": {
      "text/html": [
       "<strong id=\"mult_0_7\"><a class=\"ProveItLink\" href=\"proofs/mult_0_7/thm_proof.ipynb\">mult_0_7</a> (conjecture without proof):<br></strong> <a class=\"ProveItLink\" href=\"../__pv_it/theorems/a42f0b65f244f03ffd074efea5de001eec483fae0/theorem_expr.ipynb\"><img src=\"data:image/png;base64,iVBORw0KGgoAAAANSUhEUgAAAFcAAAAVBAMAAADBdm84AAAAMFBMVEX///8AAAAAAAAAAAAAAAAA\n",
       "AAAAAAAAAAAAAAAAAAAAAAAAAAAAAAAAAAAAAAAAAAAv3aB7AAAAD3RSTlMAInZUiRDNmWbv3US7\n",
       "qzJazP2FAAAACXBIWXMAAA7EAAAOxAGVKw4bAAABcklEQVQoz3WTv0vDQBTHv2kSE9NS3fyBYJyc\n",
       "hAzi2lAcFbKJIqQggmOFYqVTN9HF7IJUugmC+A80OitkF6Szi6IV3ep7LU3I5XKQ4903n3zvvcs7\n",
       "ALPIDIk0HgUntZz3aHrIg9cBrXocLyvD4TAotDPY5iptp9eAA+zFG281my0HhyI75eg3gNGG2YEW\n",
       "TlQXmAPORPiCbIBpoBRB/ZmoVEFEqifAL5Sghw1gpo7yd6JrfdpVTPoX+HDQAHyC/xJ9iT+I0qzO\n",
       "cBtHwLKL8lfy4pUes8ZR65bHHUXKgGAb3TE8iFkloEkN0s4j2MUVpeGiyM7+yE7jufwppEFwz2aY\n",
       "ClS5QKvOusWnWAyyBVYcTqMUwoyPDj7XpnbSOeMZuPTwRNUEMGox3GN/MxScz4ETYJuiLnb7SXPQ\n",
       "P4ThCrDl6NfAO0U71bdEXuAutO4FWG+skZ/Vl7XiorxDzbpMPc3p50eJpoQ58L5EK+XdK8XOaity\n",
       "9B/iv1TiAh6znQAAAABJRU5ErkJggg==\n",
       "\" style=\"display:inline;vertical-align:middle;\" /></a><br>"
      ],
      "text/plain": [
       "<IPython.core.display.HTML object>"
      ]
     },
     "metadata": {},
     "output_type": "display_data"
    },
    {
     "data": {
      "text/html": [
       "<strong id=\"mult_1_7\"><a class=\"ProveItLink\" href=\"proofs/mult_1_7/thm_proof.ipynb\">mult_1_7</a> (conjecture without proof):<br></strong> <a class=\"ProveItLink\" href=\"../__pv_it/theorems/bf0fc5a80bde370c46b9f5212b3cce4814d6e7af0/theorem_expr.ipynb\"><img src=\"data:image/png;base64,iVBORw0KGgoAAAANSUhEUgAAAFgAAAAVBAMAAAAwfTS1AAAAMFBMVEX///8AAAAAAAAAAAAAAAAA\n",
       "AAAAAAAAAAAAAAAAAAAAAAAAAAAAAAAAAAAAAAAAAAAv3aB7AAAAD3RSTlMAInZUiRDNmWbv3US7\n",
       "qzJazP2FAAAACXBIWXMAAA7EAAAOxAGVKw4bAAABGklEQVQoz2NgYBBgwABYhCCAyQCFKxEAJDZh\n",
       "qAILMzCYAPGrALio/f///ycwNaArBgszsCYwsF7PRyj2KS+vMmBIRVcMEWYHGaKPUOzAwCDOwNCO\n",
       "rhgizMmAqhjogwtA0QA0xRBhMzTFDAwsDxgY2DAcDRYuwVAsA5K5gKEYJJyBofg2EHMkgFhVq0Bg\n",
       "LUJ4MbpixglAgnkCusFg4dkIxfFg41hAJN8HDCcnoCrmKgCTB4AEN4bJYGEMZ8SD/Ma8AN3NYOFD\n",
       "6Ir3g8znOIBuMljYF8TyR0pm9sDIYmB3wEgcIJFXQHx3fi4iEiRBqZBrA7piiPADbOlWCnty5ijA\n",
       "JlqBI/EfxCLGeACH4hgsYjy48hWjAqaYInalAAI4RSK2qCPRAAAAAElFTkSuQmCC\n",
       "\" style=\"display:inline;vertical-align:middle;\" /></a><br>"
      ],
      "text/plain": [
       "<IPython.core.display.HTML object>"
      ]
     },
     "metadata": {},
     "output_type": "display_data"
    },
    {
     "data": {
      "text/html": [
       "<strong id=\"mult_2_7\"><a class=\"ProveItLink\" href=\"proofs/mult_2_7/thm_proof.ipynb\">mult_2_7</a> (conjecture without proof):<br></strong> <a class=\"ProveItLink\" href=\"../__pv_it/theorems/b120b876f94e64a66bb13eeb5444478947f270ef0/theorem_expr.ipynb\"><img src=\"data:image/png;base64,iVBORw0KGgoAAAANSUhEUgAAAGEAAAAVBAMAAACkm51HAAAAMFBMVEX///8AAAAAAAAAAAAAAAAA\n",
       "AAAAAAAAAAAAAAAAAAAAAAAAAAAAAAAAAAAAAAAAAAAv3aB7AAAAD3RSTlMAInZUiRDNmWbv3US7\n",
       "qzJazP2FAAAACXBIWXMAAA7EAAAOxAGVKw4bAAABc0lEQVQ4y2NgYBBgwABYhJAAkwEKVyIASGzC\n",
       "q8OEgUG87Byca/////8JTA0YyviWgskCBgbWBAbGAwz+G2AyPuXlVQYMqegaYsu+giiuCwwM7A0M\n",
       "vAIMnBNgUg5AKxkY2jEdD9ahBdTBCURfGXg/wmSAvgKJBmDVwdcGlDNjYOBdwMD7DyHH8oCBga0B\n",
       "qw4WNqCOEjCf6wNCTgYkdQGrDkWQjgww/70CQu42EHMkgFhVq0BgLVwHYwNIx2Iwfy1CAyMoEJgn\n",
       "YLODhQGkYzaIy34ARMaDDWYBkXwfsOloROjohXimAEyCdHNjs4NRgQHmKmYHBkG4VDzI08wLsPiD\n",
       "++7d+3MdGA4BeU8YGFThOvaDbOI4gD0GOYHG+QL9ury8fAEiYTmAPOaAroMFHMf8QJNeAV0OTHwJ\n",
       "cClJUFrm2oCmgffmtxtAg87/VWDgeoAtQUvhSewcBdhEK/Dlj4NYxBgP4NMRg0WMB2+2ZVTAFFPE\n",
       "ox4AbuBf1ciMfhsAAAAASUVORK5CYII=\n",
       "\" style=\"display:inline;vertical-align:middle;\" /></a><br>"
      ],
      "text/plain": [
       "<IPython.core.display.HTML object>"
      ]
     },
     "metadata": {},
     "output_type": "display_data"
    },
    {
     "data": {
      "text/html": [
       "<strong id=\"mult_3_7\"><a class=\"ProveItLink\" href=\"proofs/mult_3_7/thm_proof.ipynb\">mult_3_7</a> (conjecture without proof):<br></strong> <a class=\"ProveItLink\" href=\"../__pv_it/theorems/34c095138a44dec4ddb37de634c308540207867a0/theorem_expr.ipynb\"><img src=\"data:image/png;base64,iVBORw0KGgoAAAANSUhEUgAAAGAAAAAVBAMAAABLWfZ5AAAAMFBMVEX///8AAAAAAAAAAAAAAAAA\n",
       "AAAAAAAAAAAAAAAAAAAAAAAAAAAAAAAAAAAAAAAAAAAv3aB7AAAAD3RSTlMAInZUiRDNmWbv3US7\n",
       "qzJazP2FAAAACXBIWXMAAA7EAAAOxAGVKw4bAAABgElEQVQ4y32Tv0vDQBTHv0lbm/4w7SCoxUH/\n",
       "AKFDcW03F4X8AUq7CA4OGcRIccjmmlU6KIgggigujkZXl7j5A2xmJ7W0i0N8l9MkvaR5kOPeu/vc\n",
       "+767FwBVxCwhFJpcH3PnNBpu0oAGMLP6GLhNz/Ms2RR3ScaOC6hnQK6DnI5mkGbNMLp1bInAArI/\n",
       "2NwbAnkT8gDtzv9KC5gFDkXgCTgi+QQUgFIPlQCgVA5FNQE41tCv+sAKVx4RnSWxU2IRr0Df9YFd\n",
       "5pbOx+QS5MRv54pL2qapuvweWXijT/Eldi+YXfKw+s2BUy4pfAzJoiFjxRIUHQ70fK9As7+ryrJR\n",
       "/YwBBwgA1UV5wM7Q/ZNsVlQsg+IgkFQZcoBbm61kTsQaGpD4tT6QHodL4nbH8ii2kEBtQdZ8YJ1W\n",
       "zeg7NOmtkW8JQI06hur7Aj7IuzXC5sM8u7DitfgInjfC9MvoGUU3qYVrk7tb0ZOi+yn/w31CTLJT\n",
       "gI2EWDntH5UW47Glydt/AZ/8YKMNhBSIAAAAAElFTkSuQmCC\n",
       "\" style=\"display:inline;vertical-align:middle;\" /></a><br>"
      ],
      "text/plain": [
       "<IPython.core.display.HTML object>"
      ]
     },
     "metadata": {},
     "output_type": "display_data"
    },
    {
     "data": {
      "text/html": [
       "<strong id=\"mult_4_7\"><a class=\"ProveItLink\" href=\"proofs/mult_4_7/thm_proof.ipynb\">mult_4_7</a> (conjecture without proof):<br></strong> <a class=\"ProveItLink\" href=\"../__pv_it/theorems/8cfe41c1337ed6196c6f4b3b53a196ab1683027a0/theorem_expr.ipynb\"><img src=\"data:image/png;base64,iVBORw0KGgoAAAANSUhEUgAAAGEAAAAVBAMAAACkm51HAAAAMFBMVEX///8AAAAAAAAAAAAAAAAA\n",
       "AAAAAAAAAAAAAAAAAAAAAAAAAAAAAAAAAAAAAAAAAAAv3aB7AAAAD3RSTlMAInZUiRDNmWbv3US7\n",
       "qzJazP2FAAAACXBIWXMAAA7EAAAOxAGVKw4bAAABlklEQVQ4y31TPUjDUBD+krY2xjYEQdQiqJNr\n",
       "h+LaCoKLhUxOQl0EBwsdhJQiWFx0rIODiCi4CWJxcBOr4Gz9AUEpzaY4iYJQFeK9V0nTl5AHObjv\n",
       "8t3dd+8eAB2e4wO5jpzscocMMqeBjBQzL46btm27IpfFvyRz2UJkeqYKRBYYcOyEZk2zlMSiyBhB\n",
       "+AdR4B6IsnRyh5EBBoENkXEL7GATmAN6mf+ad0Kkqk6oITD2DTT1LGdM8sR5VzBsAT2ikCegaaWv\n",
       "UQRWWFN6vqtlYtW9IzpB3J6gFpbYROFmPNOn8HmUjtj516h9AGvfdFOHXK2LIVXIhCqeEmodoamb\n",
       "T2CXEuptRo4nDjOrvXsYq2yCoZbBGP1oM9QCtzUyfZ4aCinbBkaTrKvzRqP14IRyTHToQNSRgjRA\n",
       "heNlXHF/r5PsglVSakIJLQPZ2AJiOrIc+O3E0nTriGYERoKWB2cG1oE3rsq+c2LDbJfVqngZtv0F\n",
       "7dEkXLX8FjoRsOxKwQ8tBr2PSx9MqgUx5n2wWOCzlca82HjA/39CLmCuAw1xYwAAAABJRU5ErkJg\n",
       "gg==\n",
       "\" style=\"display:inline;vertical-align:middle;\" /></a><br>"
      ],
      "text/plain": [
       "<IPython.core.display.HTML object>"
      ]
     },
     "metadata": {},
     "output_type": "display_data"
    },
    {
     "data": {
      "text/html": [
       "<strong id=\"mult_5_7\"><a class=\"ProveItLink\" href=\"proofs/mult_5_7/thm_proof.ipynb\">mult_5_7</a> (conjecture without proof):<br></strong> <a class=\"ProveItLink\" href=\"../__pv_it/theorems/c41fa1fe3253aa2017d87f15a49351e04dc765a90/theorem_expr.ipynb\"><img src=\"data:image/png;base64,iVBORw0KGgoAAAANSUhEUgAAAGEAAAAVBAMAAACkm51HAAAAMFBMVEX///8AAAAAAAAAAAAAAAAA\n",
       "AAAAAAAAAAAAAAAAAAAAAAAAAAAAAAAAAAAAAAAAAAAv3aB7AAAAD3RSTlMAInZUiRDNmWbv3US7\n",
       "qzJazP2FAAAACXBIWXMAAA7EAAAOxAGVKw4bAAABn0lEQVQ4y32TPUjDQBTH/+mHbdK0dKuKoIKL\n",
       "kxnEtR10sxAnF6FdFHHqoESKYnHRsYuLH7SgDhaE4KaLUdDBxW4KogZHB1EKRRSM74Jt6iXk4F7u\n",
       "ffzevZe7A5CEa3iYOkZAgYlwO6ZbJXHiHZoApugzClTmamrLmrYsqxwo8cHC+IoOsblwCITzwNHX\n",
       "RNs1qWlFBbM8MY1gA1LlgDJHKF29w5UBUsAGT4wo4Sbi9lLEf0KxVVHliFMdLWKMI4CQCXS5GkHw\n",
       "849YpHk/9NTh6mNU3UWclRBfz1K2eVKu0K87rgea0TxbFWtsHNvWl0cTsip8A/u2Lled/1hmJZTd\n",
       "VTWYvAF2bDXyQSJnJw4xmXh3n1+F/Y21JCPkPCI/pEkF5pAMEjF+jzfgVrkmwmRViVXEnZw51nSw\n",
       "yvVhqURsA8/AJdVBkNEmztlOUYPbY49VRae7C2Sp1wKGnRNLZ1hfGY7YZOeRQmALeCU1tbrk+HoU\n",
       "1ozOETGNbqKg3VFmyfS6170+zyNa8LIu+72oCw+bYPgRMx422ffZCgNu26BP/C/Sp2QiCqb4PwAA\n",
       "AABJRU5ErkJggg==\n",
       "\" style=\"display:inline;vertical-align:middle;\" /></a><br>"
      ],
      "text/plain": [
       "<IPython.core.display.HTML object>"
      ]
     },
     "metadata": {},
     "output_type": "display_data"
    },
    {
     "data": {
      "text/html": [
       "<strong id=\"mult_6_7\"><a class=\"ProveItLink\" href=\"proofs/mult_6_7/thm_proof.ipynb\">mult_6_7</a> (conjecture without proof):<br></strong> <a class=\"ProveItLink\" href=\"../__pv_it/theorems/7e3c2f8fda12f4e1da9f8023c7a2da325c1ee2f50/theorem_expr.ipynb\"><img src=\"data:image/png;base64,iVBORw0KGgoAAAANSUhEUgAAAGEAAAAVBAMAAACkm51HAAAAMFBMVEX///8AAAAAAAAAAAAAAAAA\n",
       "AAAAAAAAAAAAAAAAAAAAAAAAAAAAAAAAAAAAAAAAAAAv3aB7AAAAD3RSTlMAInZUiRDNmWbv3US7\n",
       "qzJazP2FAAAACXBIWXMAAA7EAAAOxAGVKw4bAAABmElEQVQ4y32Tv0vDQBTHv2ljk7Yx7eSP0qFd\n",
       "nTqIa4N0VMgqCC2C0EGkgxCpDnXRtYuDiFjoJkiL/4BR3D1XpbazUxEUQSS+S61NcyEP7si9733e\n",
       "vffuAiANwQJcHosUppYLJk03ocQyjVJpMF4WHcdpRhriPr0GydqhfTMVYK472xoLa5ZVL2BbJBIM\n",
       "WcjfgELhtqDZY8EA5oETkVhieALOgDgQ/fAIVBUjrykkdcxwaaKfxgqgNac0mXKNCYXIMYZnoD/A\n",
       "HgXcXT3waFmuMz+Rj7muDlAFUlXEPS1+oaFW+Ff9its1/5QaLqG/A22gPIRy+g9IPMdo058UXIIa\n",
       "hnMiWlCpayi7gWU+60MfcTQiDuESqQrULx6g5vadNzrpO0PKuYTKKcpK+ztjZGXujbam60j2ev0L\n",
       "g96HlMY9yVTHJOYtP0m1hRuMM+gGIibWafGAjUmvinTrUAyBSNnI0AsC3nix1utEWeRwousHlMef\n",
       "XMdxPkkbBD3oTMhjV2tB3v2w/+MuwCfZYcRmgE8L/W3pcgTLh+z/BTrQYuXyVYvtAAAAAElFTkSu\n",
       "QmCC\n",
       "\" style=\"display:inline;vertical-align:middle;\" /></a><br>"
      ],
      "text/plain": [
       "<IPython.core.display.HTML object>"
      ]
     },
     "metadata": {},
     "output_type": "display_data"
    },
    {
     "data": {
      "text/html": [
       "<strong id=\"mult_7_7\"><a class=\"ProveItLink\" href=\"proofs/mult_7_7/thm_proof.ipynb\">mult_7_7</a> (conjecture without proof):<br></strong> <a class=\"ProveItLink\" href=\"../__pv_it/theorems/635a8cf99d9d6976a459a09cd0fb0782bfb918bc0/theorem_expr.ipynb\"><img src=\"data:image/png;base64,iVBORw0KGgoAAAANSUhEUgAAAGEAAAAVBAMAAACkm51HAAAAMFBMVEX///8AAAAAAAAAAAAAAAAA\n",
       "AAAAAAAAAAAAAAAAAAAAAAAAAAAAAAAAAAAAAAAAAAAv3aB7AAAAD3RSTlMAInZUiRDNmWbv3US7\n",
       "qzJazP2FAAAACXBIWXMAAA7EAAAOxAGVKw4bAAABjElEQVQ4y31TO0vDUBT+0jz6jm5acUjXLs0g\n",
       "glMLgi4+sipCuwiORYRIRYiDulYcRRDcRCH4B4wuLkKzipR2dnIQRbDWe1Iq19yQA7nkO9/9zj2P\n",
       "ewGMQ7AIF2cJUzrk4KTFlttYxQzkwWDwNYIVBloJR9ynNwB7n8VT61AebftyRCzZdtPEpqjI+Fg3\n",
       "9BMg6UABpMaIqAITwLGoKPl4Bp6ANCAD+T/CBHzmtYSkjnx8AKsWZgO8wnFKD9CEQhTNV7+Bsosd\n",
       "gpLHcdPE+2FFURue4WCLYN7luBf2per017wiuwliOlpQR9tA0KQCJ5BabJFb4aTAFGuu3jVxRngh\n",
       "8NaCwAqt+ltIcUAKdXu+3BsqrocdD1qcoZqyoTMkgxQIekVZqX2OrBEjX/yvI9vpdM/ZqGgeD4Q/\n",
       "OcUdnZTyhAmmfcxZ6g+wTBHfOaZCoZJVQTHmoWTl2JxeKctTjimYVIwbFiTbfUNZ3COuF3Whp2Iu\n",
       "e6oR5d2Nex/3ET7Ji1NsRPhysc+WDUewYsz+X24MXv4pQn3JAAAAAElFTkSuQmCC\n",
       "\" style=\"display:inline;vertical-align:middle;\" /></a><br>"
      ],
      "text/plain": [
       "<IPython.core.display.HTML object>"
      ]
     },
     "metadata": {},
     "output_type": "display_data"
    },
    {
     "data": {
      "text/html": [
       "<strong id=\"mult_8_7\"><a class=\"ProveItLink\" href=\"proofs/mult_8_7/thm_proof.ipynb\">mult_8_7</a> (conjecture without proof):<br></strong> <a class=\"ProveItLink\" href=\"../__pv_it/theorems/573ebcd2aee61332a93af8326c749b497970c3880/theorem_expr.ipynb\"><img src=\"data:image/png;base64,iVBORw0KGgoAAAANSUhEUgAAAGEAAAAVBAMAAACkm51HAAAAMFBMVEX///8AAAAAAAAAAAAAAAAA\n",
       "AAAAAAAAAAAAAAAAAAAAAAAAAAAAAAAAAAAAAAAAAAAv3aB7AAAAD3RSTlMAInZUiRDNmWbv3US7\n",
       "qzJazP2FAAAACXBIWXMAAA7EAAAOxAGVKw4bAAABpklEQVQ4y31Tv0vDQBT+0h821ra4SFU61Mm1\n",
       "g7gmQ8HFSgRHoS4F0SWgEK2IwcXRgtShCirqIgjFf8DWQbA4dFN0MIOTIIhCBxXiuxPTeAl5cI+7\n",
       "7+6779179wD0w2M+kMtCuX/LQY3chedUCpj+m48BM/k1Z0uxbbsSMkVGb2fhFIjkp4DoHKAj6QhN\n",
       "GkY5h5LIiB+caJAW8QDETMgm5/2aCqSBLZGRZK4ni1uSI622i0FibUI1P4bC0XEg/K3FXIFHLLrN\n",
       "9GPc8Okyjaf3JddmBlxWYGwWLOw+j9aBeVrG7CPX5iMNmUdZPmN2zqYJTfpCx8QOcMwSnLG7RZEq\n",
       "5MIVb+FaURtY1bBHF+pQqgQV+cUR5lNvXsbGwCewXWcMSoz0wXKu88w3yPWJGtfEsDrEMFlURULu\n",
       "nb0ie3T4UHhHjfKDFte4Ig36eE2HccmU5IagQYXdh0LvAAoUQglytvuxVJY9VWCkEaoioUYpVy+0\n",
       "fDW6PxFDLG3xusCQjDsq+MQ6VTdu+bXAcEB7yLofuhLUUU0fTGoEMWZ9sERg20pZLzYScP4HySth\n",
       "5ddYzBcAAAAASUVORK5CYII=\n",
       "\" style=\"display:inline;vertical-align:middle;\" /></a><br>"
      ],
      "text/plain": [
       "<IPython.core.display.HTML object>"
      ]
     },
     "metadata": {},
     "output_type": "display_data"
    },
    {
     "data": {
      "text/html": [
       "<strong id=\"mult_9_7\"><a class=\"ProveItLink\" href=\"proofs/mult_9_7/thm_proof.ipynb\">mult_9_7</a> (conjecture without proof):<br></strong> <a class=\"ProveItLink\" href=\"../__pv_it/theorems/7705e55c874b4a0433662c79dc49ad6a3fbb7b2d0/theorem_expr.ipynb\"><img src=\"data:image/png;base64,iVBORw0KGgoAAAANSUhEUgAAAGEAAAAVBAMAAACkm51HAAAAMFBMVEX///8AAAAAAAAAAAAAAAAA\n",
       "AAAAAAAAAAAAAAAAAAAAAAAAAAAAAAAAAAAAAAAAAAAv3aB7AAAAD3RSTlMAInZUiRDNmWbv3US7\n",
       "qzJazP2FAAAACXBIWXMAAA7EAAAOxAGVKw4bAAABqElEQVQ4y31TPUjDUBD+0ja2tvVn8weHCoKj\n",
       "QcS1HQouKt26CO0iCC4dhGhRyKZbC0UXEUVxEYTgpovVSUWwi4siBHFRUMRiKQrGu5Q27WvIg+S9\n",
       "u3vf3X139wD0om05qJqWR2kR+xP0O3FFTAB+9b4hRk3TzHu0tmu++Cyk+KoOyGnI+3ht5DGtqlkF\n",
       "8yJAWsQDkvCWyb+GrjzCxbopBvQB6yKiI4JbjClyBegEetLwfddNxKpE2oSAiLLiVAchJoFUEZ7f\n",
       "powNcikSua5t3iqwVItRtY1DjCoJiK2XUSKNM/K0AIvHl218pC+Q5lP2iNcxHysaCsDzE8U/oHJt\n",
       "471sVyXP0fOtIWQTWCEqXKttkpMj43+0pSzHPv53fwqIHyDHae0mLARqtQpm+BjkQoeEGFyjnPYB\n",
       "3CmcFS27H0gxae+ewOOGY5gJRlySeRMpo4E450iBotgP4oEdK6sZmsVDXDXZqOvwxwREOCYXsGH1\n",
       "443EuKrbtgGe5aAujsnUmoGQypMYNJwGetBl2AMZJ+2y2/u4cNBJRTfEnIMu7PpspUi7btjl/j8d\n",
       "xmvoUdMQHwAAAABJRU5ErkJggg==\n",
       "\" style=\"display:inline;vertical-align:middle;\" /></a><br>"
      ],
      "text/plain": [
       "<IPython.core.display.HTML object>"
      ]
     },
     "metadata": {},
     "output_type": "display_data"
    }
   ],
   "source": [
    "mult_0_7, mult_1_7, mult_2_7, mult_3_7, mult_4_7, mult_5_7, mult_6_7, mult_7_7, mult_8_7, mult_9_7 = [Equals(Mult(num(n), num(7)), num(n*7)) for n in range(10)]"
   ]
  },
  {
   "cell_type": "code",
   "execution_count": 36,
   "metadata": {},
   "outputs": [
    {
     "data": {
      "text/html": [
       "<strong id=\"mult_0_8\"><a class=\"ProveItLink\" href=\"proofs/mult_0_8/thm_proof.ipynb\">mult_0_8</a> (conjecture without proof):<br></strong> <a class=\"ProveItLink\" href=\"../__pv_it/theorems/41e584c845d1815f88baa8538671d1549a2f26710/theorem_expr.ipynb\"><img src=\"data:image/png;base64,iVBORw0KGgoAAAANSUhEUgAAAFcAAAAVBAMAAADBdm84AAAAMFBMVEX///8AAAAAAAAAAAAAAAAA\n",
       "AAAAAAAAAAAAAAAAAAAAAAAAAAAAAAAAAAAAAAAAAAAv3aB7AAAAD3RSTlMAInZUiRDNmWbv3US7\n",
       "qzJazP2FAAAACXBIWXMAAA7EAAAOxAGVKw4bAAABf0lEQVQoz3WTO0jDUBSGvzaNTZ92drFOnYQM\n",
       "4tpaCi4KmRRFaEEExwpFi4vFpepiHZwEqbgJQnFwNQpuigUHN+nsomjFx6InLSk0Sc8Qbv775T/n\n",
       "3HsCJHCFh9QNv+7WLgbBExDIrvVe1dx0A3/FheVSkk4twDKLvcRBeIQVJzukqyeyWUGrEzBtdQfm\n",
       "oOqE92AGQhBtonza6mwHDhkO+B7SBpMwXCT+YavpW8qS1Vn0F7zqlCAv8Letxv5ScjyBZj+rWnCF\n",
       "VRjNEH/v6Vu/0qxWsJabZ1acy8rXFjjJaRdu26wy9SAlKbV+5w6c4UjKyBCxnPOWXRXlxyD+5ihD\n",
       "4KukBUuDitVguCiPQ8mkE6m5G0zrVhlRE80+OlUsYxWUen/N3MG+wY10UyNYsC0O5OMEmulw3oX1\n",
       "ziWI+0LLVi8NtuVeMw44rKvH8CKr+exzT40/bTRkr+GA1dK4+IVbXqM44j2hWtFLLQ+Y52sPzWcO\n",
       "gJc8tOig/8qXdGtj3ug/IUJZNoY/gisAAAAASUVORK5CYII=\n",
       "\" style=\"display:inline;vertical-align:middle;\" /></a><br>"
      ],
      "text/plain": [
       "<IPython.core.display.HTML object>"
      ]
     },
     "metadata": {},
     "output_type": "display_data"
    },
    {
     "data": {
      "text/html": [
       "<strong id=\"mult_1_8\"><a class=\"ProveItLink\" href=\"proofs/mult_1_8/thm_proof.ipynb\">mult_1_8</a> (conjecture without proof):<br></strong> <a class=\"ProveItLink\" href=\"../__pv_it/theorems/2ee981cbc1c7a518d9b5d3251845773944ac24a20/theorem_expr.ipynb\"><img src=\"data:image/png;base64,iVBORw0KGgoAAAANSUhEUgAAAFcAAAAVBAMAAADBdm84AAAAMFBMVEX///8AAAAAAAAAAAAAAAAA\n",
       "AAAAAAAAAAAAAAAAAAAAAAAAAAAAAAAAAAAAAAAAAAAv3aB7AAAAD3RSTlMAInZUiRDNmWbv3US7\n",
       "qzJazP2FAAAACXBIWXMAAA7EAAAOxAGVKw4bAAABKElEQVQoz2NgYBBgwABYhCCAyQBTbBMuxSZA\n",
       "/CoAzmV1cd/AwNSArgoszMCawMB6PR+hmJ2B4TIDQyq6YogwO8gQfYTiDgaGMAaGdnTFEGFOBlTF\n",
       "vhDRADTFEGEzNMX2RxkqGBjY0B0NES5BU8z7Xx0YPCwX0BRDhDPQFDPU/wKGMkcCiFm1CgTWIoQX\n",
       "oylmdjz/GUhOQDMZIjwboTgeZFw7A/PPAAa+D2iKIcJIirkKgMRUBgZ5AwZudJMhwmjOYAUaydvA\n",
       "wLwA1c1Q4UNobp7IwMAjwMBxAM1kiLAviOmPSGbbAhiagPHqgKYYIvwKyLo7PxceCXzXy4EphmsD\n",
       "mmKo8ANsSVEKewrlKMAmWoEjPR/EIsZ4AIfiGCxiPLjyFaMCppgidqUAG5RNykjYGAwAAAAASUVO\n",
       "RK5CYII=\n",
       "\" style=\"display:inline;vertical-align:middle;\" /></a><br>"
      ],
      "text/plain": [
       "<IPython.core.display.HTML object>"
      ]
     },
     "metadata": {},
     "output_type": "display_data"
    },
    {
     "data": {
      "text/html": [
       "<strong id=\"mult_2_8\"><a class=\"ProveItLink\" href=\"proofs/mult_2_8/thm_proof.ipynb\">mult_2_8</a> (conjecture without proof):<br></strong> <a class=\"ProveItLink\" href=\"../__pv_it/theorems/f8d8c42f079a749c96f8482ff261f661456df3ec0/theorem_expr.ipynb\"><img src=\"data:image/png;base64,iVBORw0KGgoAAAANSUhEUgAAAGEAAAAVBAMAAACkm51HAAAAMFBMVEX///8AAAAAAAAAAAAAAAAA\n",
       "AAAAAAAAAAAAAAAAAAAAAAAAAAAAAAAAAAAAAAAAAAAv3aB7AAAAD3RSTlMAInZUiRDNmWbv3US7\n",
       "qzJazP2FAAAACXBIWXMAAA7EAAAOxAGVKw4bAAABkUlEQVQ4y31TPUjDQBT+0rTa1F6pk+BiHaRr\n",
       "B3FthUInNZOTYhdBcOkgbRXE4FIXsSK6uBREBKEQHJyj4KCICg7+TB06uViRFuxgfLlyQZojR3jk\n",
       "fd/73t177w5AHJ4lgf6tQMqLXfgqJoGR4oPrhrI5EwHDExY7JRPMzlJEHoqFOVMwg8AzsNwvWCy2\n",
       "AWUV7xRhgMWhVQW1A8wDFe/hSTGQwD2g0dcG+xLMDFdoukyR5ugUwGpgv4JJ36BM2QyZ4pb/rXEb\n",
       "aQmG2UlqXvBJpjhqJqneFe5/Jlxqq0vTCOed341zZ9VdRcfAAXDC/borUKcfv8lWJXuEbGBdxzFv\n",
       "qeXYJSdxBeqPjlhLpugCe2ZPsdsrpkDmEBhLYUi2BzqkMPip1AyGxcgpOTOg1mR13PE9rslrAhMi\n",
       "1z4QjSNsSedBdfCJKWelUk0wlzq2qbBMvyJIM45mQtSrDzq/bdt598a9lKjnEbNPwN46r0Bus0Fc\n",
       "Q3ahR30ue7ggQ8t+7+NKgimWn2JBgkV9n62S8GLjPvF/F7Nm4J/kgecAAAAASUVORK5CYII=\n",
       "\" style=\"display:inline;vertical-align:middle;\" /></a><br>"
      ],
      "text/plain": [
       "<IPython.core.display.HTML object>"
      ]
     },
     "metadata": {},
     "output_type": "display_data"
    },
    {
     "data": {
      "text/html": [
       "<strong id=\"mult_3_8\"><a class=\"ProveItLink\" href=\"proofs/mult_3_8/thm_proof.ipynb\">mult_3_8</a> (conjecture without proof):<br></strong> <a class=\"ProveItLink\" href=\"../__pv_it/theorems/444d2b9d0a791991f73306ee51be4dc5f4c33c570/theorem_expr.ipynb\"><img src=\"data:image/png;base64,iVBORw0KGgoAAAANSUhEUgAAAGEAAAAVBAMAAACkm51HAAAAMFBMVEX///8AAAAAAAAAAAAAAAAA\n",
       "AAAAAAAAAAAAAAAAAAAAAAAAAAAAAAAAAAAAAAAAAAAv3aB7AAAAD3RSTlMAInZUiRDNmWbv3US7\n",
       "qzJazP2FAAAACXBIWXMAAA7EAAAOxAGVKw4bAAABoklEQVQ4y32TPUjDQBTH/0nTmn6lHZyqYDsJ\n",
       "gtChuLaC0EnI5CTYRXBw6CCkFMHoYB11cBARBRcRxOKgaxWcHBpxEITazE5iqaAi9V1i03IJecM9\n",
       "7t373b2vA5CESzxMQyJm3bYrXyIHjBYfnG1wrliHqPNegrZqklLK5FFCsIy889AI8AQs88Q4pB9S\n",
       "EYM8dIgdLJX6RzvAAlDjiUfggNQUEWEgeoiEQ8xbRFjliGMV7SSUbSJmLEPeCTx/jwoQ4hN5Adom\n",
       "pBARa2wfPXOO4r1Jykky3CW6BDKMWGEVmH4dHGx8UzdkK8rqOZML2658QNAZcWrH4tQqMNvs0Lrr\n",
       "eoLKJIERh9Y23KXFKlgNgS8VyruLWAc2+4RiItZht1B7sA9MZBF1vSEbENL4jyrRtQmr5XR5XEfg\n",
       "hM8jB2Gs1WofFXBHIRl2VJbsAbEk5Ab3hFKAqFqurGOyPtSPaxVbNAkFjkhpWpVUgm56I32jDSZR\n",
       "edbqlFKdb0av90kXNX/TiJheA53yGXa57GWt+P2PWw+b0PAjFj1sMd9vS31xScbH/w8Ti2ZPTrjU\n",
       "CwAAAABJRU5ErkJggg==\n",
       "\" style=\"display:inline;vertical-align:middle;\" /></a><br>"
      ],
      "text/plain": [
       "<IPython.core.display.HTML object>"
      ]
     },
     "metadata": {},
     "output_type": "display_data"
    },
    {
     "data": {
      "text/html": [
       "<strong id=\"mult_4_8\"><a class=\"ProveItLink\" href=\"proofs/mult_4_8/thm_proof.ipynb\">mult_4_8</a> (conjecture without proof):<br></strong> <a class=\"ProveItLink\" href=\"../__pv_it/theorems/cf3283afbc5b26e175268a97a4da7ad6a334362a0/theorem_expr.ipynb\"><img src=\"data:image/png;base64,iVBORw0KGgoAAAANSUhEUgAAAGEAAAAVBAMAAACkm51HAAAAMFBMVEX///8AAAAAAAAAAAAAAAAA\n",
       "AAAAAAAAAAAAAAAAAAAAAAAAAAAAAAAAAAAAAAAAAAAv3aB7AAAAD3RSTlMAInZUiRDNmWbv3US7\n",
       "qzJazP2FAAAACXBIWXMAAA7EAAAOxAGVKw4bAAABnklEQVQ4y32TPUjDUBDH/0laTT8JTlIEdXI0\n",
       "Q3G1QsFJyKSLoIvgoNBBSCkFi0s76uAgUhTcBGlwEBSEKjjXLxCE0uKiOIhYKFaFeC+lSXkJueGF\n",
       "+/jdu3t3AaDAJR6mPhFVt+3Ul0iy49VWg+lZA2KBjxLSeQOCvtakiGVmOLFdg8ADsMITC5BaGEHg\n",
       "lyJYOtEhSsA8UOSJSTXYxh2wB4SY/rZuu+YsIqRxxLmBNg40NBRMMT3lENM3yAIDrkYgfeMZaDSx\n",
       "wYpSHCJmTtDjBW5dxIWVpAKs0mcYDoHNH5qGbL1H7phJt8eXOj0T4l/AESuqj5Bmai06t91VkRlh\n",
       "unufEipdYoklLkLqaIh/ugdHfSMPixhClwhn6NgFRlVE+Ds+gJoKmbVHVV3W653H3sgpeawA6ZDr\n",
       "w9QYkYSg4NoKLNvJdoCoArnK3VFmVcVTEDU2MZI/23WmYYs2IcURJTaPhK7ngHem5837niv+pBvU\n",
       "ksEREZ02sWKabfI1vRY64bPscsbLmvX7P648bELVj1j0sEV9f1thzG0b94n/Bz7KaKdLToskAAAA\n",
       "AElFTkSuQmCC\n",
       "\" style=\"display:inline;vertical-align:middle;\" /></a><br>"
      ],
      "text/plain": [
       "<IPython.core.display.HTML object>"
      ]
     },
     "metadata": {},
     "output_type": "display_data"
    },
    {
     "data": {
      "text/html": [
       "<strong id=\"mult_5_8\"><a class=\"ProveItLink\" href=\"proofs/mult_5_8/thm_proof.ipynb\">mult_5_8</a> (conjecture without proof):<br></strong> <a class=\"ProveItLink\" href=\"../__pv_it/theorems/5c50faf24202d110b892b4dab2e61f1f92a9ada30/theorem_expr.ipynb\"><img src=\"data:image/png;base64,iVBORw0KGgoAAAANSUhEUgAAAGEAAAAVBAMAAACkm51HAAAAMFBMVEX///8AAAAAAAAAAAAAAAAA\n",
       "AAAAAAAAAAAAAAAAAAAAAAAAAAAAAAAAAAAAAAAAAAAv3aB7AAAAD3RSTlMAInZUiRDNmWbv3US7\n",
       "qzJazP2FAAAACXBIWXMAAA7EAAAOxAGVKw4bAAABqklEQVQ4y32TP0hbQRjAf8/0XvJiom6FLkYQ\n",
       "xILwhuKaFJQuFd7kJJilpWMGq1IQU4f6Z7EdOklrSqcKQujQtVFws3jgYBdr5i5aFETB1u9iE827\n",
       "x7vhuO/P77vvzx3Qg7UiVHdWh08d1e7zNZZ4BOvPN4KmqEaeVOko235dJRgZkMiqCF8uR1uGJOzD\n",
       "M5tIa1xffRIPCafvGJZgHBZt4qFmBZ6CRzsx1iC8wErqjeYH5AOGQ0R+h1lwrULuuZpzOPaZEuln\n",
       "/6+WJftvwBe7DhN9rlaGKPNCpB16qy3T/KX0I1U0x1cbZm2ao1N2tXMmRI7PDbdMpQkkHu+dyv42\n",
       "nBT/iQJrNz39I9ukCbxI4iKg6yREvBZCCfE9Z4hMkeRf03GZEe+h16czdIeT46byvG+y8ipkmzGV\n",
       "HLJlEpX2OjoPD48+FHZhNWDb5IhXa0Z7J3f2kKpZE/Q0yzDdmJhTYrA1sW8BC1JXwSK6a6R99RF+\n",
       "i3B/7uXtbA9mpNPpahhI7l3l1NRQXWz1qAf9IOaxp0pR2tm4/7EVoXNqccREhC4T+21lONbqi/G/\n",
       "Bg8TaIhhNWQBAAAAAElFTkSuQmCC\n",
       "\" style=\"display:inline;vertical-align:middle;\" /></a><br>"
      ],
      "text/plain": [
       "<IPython.core.display.HTML object>"
      ]
     },
     "metadata": {},
     "output_type": "display_data"
    },
    {
     "data": {
      "text/html": [
       "<strong id=\"mult_6_8\"><a class=\"ProveItLink\" href=\"proofs/mult_6_8/thm_proof.ipynb\">mult_6_8</a> (conjecture without proof):<br></strong> <a class=\"ProveItLink\" href=\"../__pv_it/theorems/bfaf1d7e32c21448a10691e7b44d83303149916e0/theorem_expr.ipynb\"><img src=\"data:image/png;base64,iVBORw0KGgoAAAANSUhEUgAAAGEAAAAVBAMAAACkm51HAAAAMFBMVEX///8AAAAAAAAAAAAAAAAA\n",
       "AAAAAAAAAAAAAAAAAAAAAAAAAAAAAAAAAAAAAAAAAAAv3aB7AAAAD3RSTlMAInZUiRDNmWbv3US7\n",
       "qzJazP2FAAAACXBIWXMAAA7EAAAOxAGVKw4bAAABh0lEQVQ4y32TPUjDQBTH/23aJm2TtpODi+0k\n",
       "OHUQVz+oOAmdBEFoEIRO0kFo0cHqYB3r4CRCoJsgBAfnKDo34OBU7exUEMEPRN95l7bmQh7kuLzf\n",
       "/d/dvfcOQA6SBbjGLFqUfVehiln6SqW+9xsvrdiINuV1mRpniJvAhG1YHlCBB2BLVqRcwVQKtwnd\n",
       "8cAxsAa0ZMWMK1gSUN7GwCr3lqVDHbmCzQF6e4zM36MBJKSLxBKuYDsUcHtpb0iMn2lKXsz1Kwqk\n",
       "4KwKZKtIjlK8/0nV0Ew23b1gdsmmkSYpOOsAlQHUU0+gLHZfaWz7DwVScHZGCgvaF3krLHALykcZ\n",
       "mYFPccAUnJEia0J7Zxmv0UCbTRWR9u0RyTMFZ3QqXezxV3IKbjShWP/vke71ns+XObulQ9M9hjFP\n",
       "KEIOmiNVMOkKRlXBHdaHubou45A6YUFSZB3BXlgi6k+j2j7WqdtStl+gdr/zgvWDGnoypNm1WpC3\n",
       "EfY+bgJ8ESdMsRHg00OfLRVHskLI+l+ASmcVuS9TiQAAAABJRU5ErkJggg==\n",
       "\" style=\"display:inline;vertical-align:middle;\" /></a><br>"
      ],
      "text/plain": [
       "<IPython.core.display.HTML object>"
      ]
     },
     "metadata": {},
     "output_type": "display_data"
    },
    {
     "data": {
      "text/html": [
       "<strong id=\"mult_7_8\"><a class=\"ProveItLink\" href=\"proofs/mult_7_8/thm_proof.ipynb\">mult_7_8</a> (conjecture without proof):<br></strong> <a class=\"ProveItLink\" href=\"../__pv_it/theorems/2a1ec472c9b5203679ee7638ea9c02f9577343120/theorem_expr.ipynb\"><img src=\"data:image/png;base64,iVBORw0KGgoAAAANSUhEUgAAAGEAAAAVBAMAAACkm51HAAAAMFBMVEX///8AAAAAAAAAAAAAAAAA\n",
       "AAAAAAAAAAAAAAAAAAAAAAAAAAAAAAAAAAAAAAAAAAAv3aB7AAAAD3RSTlMAInZUiRDNmWbv3US7\n",
       "qzJazP2FAAAACXBIWXMAAA7EAAAOxAGVKw4bAAABoklEQVQ4y31TMUjDUBB9aRqttkoXEV3UybWD\n",
       "uLaC2KklLk6CXQTRxUFIFaShIHVTKXVQQUFdRCE4OFdBxSIoOAguZnByEpRKKxLv/5qm/ITc8Ll7\n",
       "d+8ud5cDEIVLPKAWCcSkNRE7d0V1A5O2PgLZsqyabSrjSQMBXWR0VOePgeB4miIyCN5q2qHtagee\n",
       "gFmR0bl/pEJawAtF6AgC0qLtWgemgILI6GJP2yDuqRwg/wNcUpzRoXox4hwd5UC66YpfI0vZdC/G\n",
       "HVeX2COVHZc1HKMWH0VGPmVi+23YAOa4bTi+XJ22EcowdeWEyRlTI6r0g6qOIsCH1OcQ5LGHT3o3\n",
       "3YurKBawrGKXGRMcmmGJC5BrKro/3IxcTx3YMBqM08bM2YhLwEAMYbHGDTHMKjF0/lXKb9OjUPIu\n",
       "HfKB0McO8IoKr3FFZvjbSbZFXUYRKgs1EsAe4tQH3xjkL8d1oSJPf0JCYPQiUEIkodCs3tk6ii0/\n",
       "6bNGo+40BIakPdPCk6sm+UyvE+j3OY/Qohea9buoSw9MKvsxpj2wiO/ZSoNubMgn/g8vj2G4StDC\n",
       "5QAAAABJRU5ErkJggg==\n",
       "\" style=\"display:inline;vertical-align:middle;\" /></a><br>"
      ],
      "text/plain": [
       "<IPython.core.display.HTML object>"
      ]
     },
     "metadata": {},
     "output_type": "display_data"
    },
    {
     "data": {
      "text/html": [
       "<strong id=\"mult_8_8\"><a class=\"ProveItLink\" href=\"proofs/mult_8_8/thm_proof.ipynb\">mult_8_8</a> (conjecture without proof):<br></strong> <a class=\"ProveItLink\" href=\"../__pv_it/theorems/f2f49a464cbd76dbadc44f19c402474d7e03e99c0/theorem_expr.ipynb\"><img src=\"data:image/png;base64,iVBORw0KGgoAAAANSUhEUgAAAGEAAAAVBAMAAACkm51HAAAAMFBMVEX///8AAAAAAAAAAAAAAAAA\n",
       "AAAAAAAAAAAAAAAAAAAAAAAAAAAAAAAAAAAAAAAAAAAv3aB7AAAAD3RSTlMAInZUiRDNmWbv3US7\n",
       "qzJazP2FAAAACXBIWXMAAA7EAAAOxAGVKw4bAAABr0lEQVQ4y32TP0gCURzHv+f55/ybcwSdk9Dk\n",
       "EK0aCE7FDdEU2CIELUKBVkRnQ7ZVSC0RFG1BcDS0tGjQUAQKDUUgOjQFQSQISWG/d+apz+N+w/3e\n",
       "fd/7/H7v93vvAQhiyEykPrNFhrUrS2ISmItvGL+OeEKDTR1aZo/P0jeQphWLQBp+I5ELeAJSPCAs\n",
       "45Wcp0IrVEiqznVsF5gH8jzhlPFIboIINyWs9BEzOuFWOCKqC4EdIqYA8UdxGRuP3iFLIflC7jvF\n",
       "OIlYpUHta8WY8rfDET3toB29hTUgxIglVm37rDe31aLTkPRdrl8wu2TDpooCBJUR56zBY22jV+J0\n",
       "uUHf/cEUjjawptjBiGMKmEb0kOQkC5yH+K0g8MkRLWBPy3UJaozQYM2m4wGh4xF4uRxoEpGT8b+r\n",
       "JCkv3WAU3K9CPOXqeCDiplqtncRwSzmo1FI32AHgC0Iq8udBdZBzV/QT86Ygyd2pawXb1L0YR/hi\n",
       "jgK5EYr0Tv4j07uJgecMNd6j8dcksVmnQOVfGZ662YUetbjsUtpMzVq9j5KJJhStiAUTzWf5bAV5\n",
       "WAtZrP8DQ2pn9nQ+cHQAAAAASUVORK5CYII=\n",
       "\" style=\"display:inline;vertical-align:middle;\" /></a><br>"
      ],
      "text/plain": [
       "<IPython.core.display.HTML object>"
      ]
     },
     "metadata": {},
     "output_type": "display_data"
    },
    {
     "data": {
      "text/html": [
       "<strong id=\"mult_9_8\"><a class=\"ProveItLink\" href=\"proofs/mult_9_8/thm_proof.ipynb\">mult_9_8</a> (conjecture without proof):<br></strong> <a class=\"ProveItLink\" href=\"../__pv_it/theorems/596561867ef0a7593561d4815297b0f7571d47650/theorem_expr.ipynb\"><img src=\"data:image/png;base64,iVBORw0KGgoAAAANSUhEUgAAAGEAAAAVBAMAAACkm51HAAAAMFBMVEX///8AAAAAAAAAAAAAAAAA\n",
       "AAAAAAAAAAAAAAAAAAAAAAAAAAAAAAAAAAAAAAAAAAAv3aB7AAAAD3RSTlMAInZUiRDNmWbv3US7\n",
       "qzJazP2FAAAACXBIWXMAAA7EAAAOxAGVKw4bAAABp0lEQVQ4y31TPUjDQBT+8lPbxjZmU0tBBcG1\n",
       "iLhaoeCikEkXoV0EB4cOQkoRLC51rEMHcVAsLoK0OLgaBcHNioigQ7MqCKIoasH4kpAouZAb7u59\n",
       "733v794BUMCsAOjf4jMsdswgA+rffQKIareeGMnNtMBX/Iwp0zRrnLZikEUBkX08enlEgRtgyc+Y\n",
       "1bRyJg2xSxYVJGtI6K5qE5gHqn5GFujHNbANxIG+AsR3VzVnM+Kqj0HFtrGroqNgEsjr4Ltewhco\n",
       "AT1MIRAN3AMdA6tOjE9XkTTHyJ/YZhhpe28Cy7DrePU069/UhVjBupYPrXXk4A/WJpNdg9q1g+c3\n",
       "lyBMX9FdqPlDcDYiUewdOhdGx3/oyFuOqxC+VMgvTBl21DU4DDi9koq01YGhDHqZGJLV/5hVXsOW\n",
       "vfeIkPNkBcKev458254PTsE5JV1H3nB9bRFdQUz3xzilBOQseNV6Mf4Al57mRMUGTUKWGSxCUjQq\n",
       "wBNJOa3laeQ7S5BafsYgvVLTND9IZwR9gVTI94gVg9BS2I86C8A4PYyxGIAlQr8tN8xiIyH2v5Gv\n",
       "ZxFlMUo0AAAAAElFTkSuQmCC\n",
       "\" style=\"display:inline;vertical-align:middle;\" /></a><br>"
      ],
      "text/plain": [
       "<IPython.core.display.HTML object>"
      ]
     },
     "metadata": {},
     "output_type": "display_data"
    }
   ],
   "source": [
    "mult_0_8, mult_1_8, mult_2_8, mult_3_8, mult_4_8, mult_5_8, mult_6_8, mult_7_8, mult_8_8, mult_9_8 = [Equals(Mult(num(n), num(8)), num(n*8)) for n in range(10)]"
   ]
  },
  {
   "cell_type": "code",
   "execution_count": 37,
   "metadata": {},
   "outputs": [
    {
     "data": {
      "text/html": [
       "<strong id=\"mult_0_9\"><a class=\"ProveItLink\" href=\"proofs/mult_0_9/thm_proof.ipynb\">mult_0_9</a> (conjecture without proof):<br></strong> <a class=\"ProveItLink\" href=\"../__pv_it/theorems/5416e108199eb3900e8e51a21588987b2d2efac40/theorem_expr.ipynb\"><img src=\"data:image/png;base64,iVBORw0KGgoAAAANSUhEUgAAAFcAAAAVBAMAAADBdm84AAAAMFBMVEX///8AAAAAAAAAAAAAAAAA\n",
       "AAAAAAAAAAAAAAAAAAAAAAAAAAAAAAAAAAAAAAAAAAAv3aB7AAAAD3RSTlMAInZUiRDNmWbv3US7\n",
       "qzJazP2FAAAACXBIWXMAAA7EAAAOxAGVKw4bAAABd0lEQVQoz3WTPUvDUBRATz/Sph9EZxfjJAjS\n",
       "DCI4NVTBRTGbtAgtiOBYpagoQjfRxToLUukmCMU/YHVW7OqinV0UbdVBxPesqW2Svunm3MN9915e\n",
       "gEFcxwO1j99ws4t+8gQEU2v/35u7Fv6iS5sZFdcpOVgm07k4o2tHsOJ0Q4ZyCuEiaplgzab3cAN7\n",
       "TvkA5iAC8TqBlk3fYcEiYjnkW0haTMJAHu3tDypfkKgScjb9Ac8GBcgK+bO7cpFgvddVpFxkFYZN\n",
       "tNeunu901JyMt8/kOReRrylknUpbbtpyuqo9GgRKvZV/ZZNj0YZJTFbOynLK+nSigfbiaEPIl7qU\n",
       "xYABOWA0386IbcRK7gGThmwjXkNtdSXEngPl3p4lO7S4BrVEOGebU5byLVDNUXkfNmBeRBXSDZuO\n",
       "WXGx47DpkKOGcgJPIlpMPXRocHZH5qoOWSmMi3rRhtdTHPJ+oWrei271ec9XHsxX6yMvebB4v//K\n",
       "p7vZiLf6AzjNWmnrSCLWAAAAAElFTkSuQmCC\n",
       "\" style=\"display:inline;vertical-align:middle;\" /></a><br>"
      ],
      "text/plain": [
       "<IPython.core.display.HTML object>"
      ]
     },
     "metadata": {},
     "output_type": "display_data"
    },
    {
     "data": {
      "text/html": [
       "<strong id=\"mult_1_9\"><a class=\"ProveItLink\" href=\"proofs/mult_1_9/thm_proof.ipynb\">mult_1_9</a> (conjecture without proof):<br></strong> <a class=\"ProveItLink\" href=\"../__pv_it/theorems/bbfc1c33eb90a185e365161a496fffa4d10b3a900/theorem_expr.ipynb\"><img src=\"data:image/png;base64,iVBORw0KGgoAAAANSUhEUgAAAFcAAAAVBAMAAADBdm84AAAAMFBMVEX///8AAAAAAAAAAAAAAAAA\n",
       "AAAAAAAAAAAAAAAAAAAAAAAAAAAAAAAAAAAAAAAAAAAv3aB7AAAAD3RSTlMAInZUiRDNmWbv3US7\n",
       "qzJazP2FAAAACXBIWXMAAA7EAAAOxAGVKw4bAAABIklEQVQoz2NgYBBgwABYhCCAyQBTbBMuxSZA\n",
       "/CoAwS+vDWBgasBQBhJmYE1gYL2ej1AcpcA3kYEhFV0tRJgdZIg+QvFNBoYzDAzt6IohwpwMqIq/\n",
       "MTD4BzBwBqAphgiboSpm/QPkbWBgQ3M0VLgEi8kNDCwXsJjcwJDBgOHm8woMHAkgdtUqEFiLEF6M\n",
       "pjhyA999AwbmCWgmQ4RnIxTHg4xjLXLWf8DA9wFNMUQYSTFXAUQC6G3uCZixBxRGdwYDOECZF6C5\n",
       "GSJ8CE2xZQDrPwYGjgNoxkKEfcE2IJKZVgAPMIzZHdAUQ4RfAVl35+fCI4HFvRrk/A1oiqHCD7Al\n",
       "RSnsKZSjAJtoBY70fBCLGOMBHIpjsIjx4MpXjAqYYorYlQIALxVQMFXS660AAAAASUVORK5CYII=\n",
       "\" style=\"display:inline;vertical-align:middle;\" /></a><br>"
      ],
      "text/plain": [
       "<IPython.core.display.HTML object>"
      ]
     },
     "metadata": {},
     "output_type": "display_data"
    },
    {
     "data": {
      "text/html": [
       "<strong id=\"mult_2_9\"><a class=\"ProveItLink\" href=\"proofs/mult_2_9/thm_proof.ipynb\">mult_2_9</a> (conjecture without proof):<br></strong> <a class=\"ProveItLink\" href=\"../__pv_it/theorems/7213f8a03507e80d8417d5da21c4da99ab4bd6b30/theorem_expr.ipynb\"><img src=\"data:image/png;base64,iVBORw0KGgoAAAANSUhEUgAAAGEAAAAVBAMAAACkm51HAAAAMFBMVEX///8AAAAAAAAAAAAAAAAA\n",
       "AAAAAAAAAAAAAAAAAAAAAAAAAAAAAAAAAAAAAAAAAAAv3aB7AAAAD3RSTlMAInZUiRDNmWbv3US7\n",
       "qzJazP2FAAAACXBIWXMAAA7EAAAOxAGVKw4bAAABkklEQVQ4y31TO0jDUBQ9aRr7sQlxElyMgwgu\n",
       "7SCCkxWFTtJMgqLYRXAsIk1RxOBSF6EOTi4FEUEoBAfnKLiJFRy0kx2cXKxIC4oYb1JTQ/PIJTxy\n",
       "z3nn3d97AGT4jAF5LJTyYxeBiglgsHD372s7KkK6b5t0CghzGYPWHDgTWcNllhTpEFjrFawUWkAE\n",
       "eKBVhygjVnapOnALlPzJk2IfWABi9LUgvrtMG8iqiKksxbyjmATECsSfP0L4BpIG+nSWYvoGRWDT\n",
       "8eNNbwwd4XuWQrTGqLHrjv+meOqoKYjm7P+tc9uqXQV2v2hSJ45f7Z61aEjPKfBlVgx+pvYBHNtu\n",
       "xLTXVftgYWM22YDUZClK4D/VjuKgU0y+Q1Kv+pkxjoDhlJMVn8aAh6R58BVGHQIFFnVck/cCjLrb\n",
       "p1SBOh01WTHoMiRkeyrcmaZVXGZcTdAsIuleRZhmfKliD3il/C3LynWZzLZdktEjEOvtJ0iPGuHx\n",
       "ButCDwVc9miehRaD3scVA+PMIMUyA0sEPltO8WMjAft/ARkeZr12gheCAAAAAElFTkSuQmCC\n",
       "\" style=\"display:inline;vertical-align:middle;\" /></a><br>"
      ],
      "text/plain": [
       "<IPython.core.display.HTML object>"
      ]
     },
     "metadata": {},
     "output_type": "display_data"
    },
    {
     "data": {
      "text/html": [
       "<strong id=\"mult_3_9\"><a class=\"ProveItLink\" href=\"proofs/mult_3_9/thm_proof.ipynb\">mult_3_9</a> (conjecture without proof):<br></strong> <a class=\"ProveItLink\" href=\"../__pv_it/theorems/a67821e4fb795390548b16984e1fdb2100195c420/theorem_expr.ipynb\"><img src=\"data:image/png;base64,iVBORw0KGgoAAAANSUhEUgAAAGIAAAAVBAMAAABPrCZEAAAAMFBMVEX///8AAAAAAAAAAAAAAAAA\n",
       "AAAAAAAAAAAAAAAAAAAAAAAAAAAAAAAAAAAAAAAAAAAv3aB7AAAAD3RSTlMAInZUiRDNmWbv3US7\n",
       "qzJazP2FAAAACXBIWXMAAA7EAAAOxAGVKw4bAAABnUlEQVQ4y31TPUjDQBT+kib2l7SDoBaHugrS\n",
       "DkVwasGhi+KtitAugoNDESFSFbK51lE6KLiIIBYXR6urgnVUwWZ2EktdFOO7HP3hEvLgXXLfu+/e\n",
       "997dAUjBYz7QiKk5L3btv3SSuZ88MF56GMLmAYNqyYsVc8tGwXGcOvQK9CoKg0RrGeMI2JAZ09B+\n",
       "sGSatRzCFtQuypV+6AV4BA5lxjNwjCIwAUSBeAPJAeMbWGGIMolxwtBJkZA2MO8Chb5w/RfINjEm\n",
       "F/IKdGxAI9/h8/g5RnNY0NreTl255QCb5MbcO0bqeMog4qqsXXC7FAHji4Y38jOhatCr1abRySFU\n",
       "96SIUVqFww13Gu3R4DZM317M2jA+PYx9cq0iGIaNRJfvUhUx6lXckyPCK4u1hKpkTzD6RucROpXr\n",
       "yENJocxp9ySpLVS5tsD0P9qxJaUwilAZbrmKZQpbw/PALEvQf7goMdJ0QahBHP4gvzGHN1Er7XHB\n",
       "TfkwHIdOaoq3NGb73et0wPOIVP3Q3aAXdeeDKa0gxroPlgh8tkrGi80ErP8HKQJkj/2WR5sAAAAA\n",
       "SUVORK5CYII=\n",
       "\" style=\"display:inline;vertical-align:middle;\" /></a><br>"
      ],
      "text/plain": [
       "<IPython.core.display.HTML object>"
      ]
     },
     "metadata": {},
     "output_type": "display_data"
    },
    {
     "data": {
      "text/html": [
       "<strong id=\"mult_4_9\"><a class=\"ProveItLink\" href=\"proofs/mult_4_9/thm_proof.ipynb\">mult_4_9</a> (conjecture without proof):<br></strong> <a class=\"ProveItLink\" href=\"../__pv_it/theorems/51efaf0124ca8c07dcdffe38c835d42157d4e48a0/theorem_expr.ipynb\"><img src=\"data:image/png;base64,iVBORw0KGgoAAAANSUhEUgAAAGEAAAAVBAMAAACkm51HAAAAMFBMVEX///8AAAAAAAAAAAAAAAAA\n",
       "AAAAAAAAAAAAAAAAAAAAAAAAAAAAAAAAAAAAAAAAAAAv3aB7AAAAD3RSTlMAInZUiRDNmWbv3US7\n",
       "qzJazP2FAAAACXBIWXMAAA7EAAAOxAGVKw4bAAABnklEQVQ4y31TO0jDUBQ9aZp+bCnFSZziJLi0\n",
       "gwhOLVjopGYRUQRdBEEKRYT6aSGbblUEF5EKboIQ3BSE6qYIirgoFIMIioMIhaJSrO8mmMaXkDeE\n",
       "3HPuefee+94DEIdjuUC25Us6sSNPRT99XtpxoaTAp/JZQqaoAf7MCCDNEHBoUZNybBOY5RXjEOsQ\n",
       "5vEABGk7X1txD1wBa7wikZQaCMjEhSl+zVlUAxhVEFY4xbHGmJSBDtAnbSmkJttPQ8BhBOInLoyf\n",
       "RWoq/r+GCv+NQ3GiYvu5l9mfY0EXcnYf1zJCxjxWDmiZHp9qOhoqtoB9asqmmNBij0mIG86u6lIL\n",
       "WFawA4TipmKaNpYWhhI6Yh/Og6uMfQNljRSdMBUdeZNis4rwNd5Zs0nmsaxSV6e12tedjWUzF/c4\n",
       "Hy2FKS6NGudG0q6VPqhIP6zRKleDJVSUFPMBDBtA06L6lCg7i2CaU6zTeUTTEpvVG8XF1u0f5c+u\n",
       "kiWNU0QKdBOzJZ1xutuF7va47KG8G7rk9T7OXDCh6qWYcsGins9WkJ1Yj0f+L4tiawyi3LHOAAAA\n",
       "AElFTkSuQmCC\n",
       "\" style=\"display:inline;vertical-align:middle;\" /></a><br>"
      ],
      "text/plain": [
       "<IPython.core.display.HTML object>"
      ]
     },
     "metadata": {},
     "output_type": "display_data"
    },
    {
     "data": {
      "text/html": [
       "<strong id=\"mult_5_9\"><a class=\"ProveItLink\" href=\"proofs/mult_5_9/thm_proof.ipynb\">mult_5_9</a> (conjecture without proof):<br></strong> <a class=\"ProveItLink\" href=\"../__pv_it/theorems/f9a7288d12b88f3a82300a44b1f06648ce6ecdb90/theorem_expr.ipynb\"><img src=\"data:image/png;base64,iVBORw0KGgoAAAANSUhEUgAAAGEAAAAVBAMAAACkm51HAAAAMFBMVEX///8AAAAAAAAAAAAAAAAA\n",
       "AAAAAAAAAAAAAAAAAAAAAAAAAAAAAAAAAAAAAAAAAAAv3aB7AAAAD3RSTlMAInZUiRDNmWbv3US7\n",
       "qzJazP2FAAAACXBIWXMAAA7EAAAOxAGVKw4bAAABnUlEQVQ4y32Tv0vDQBTHv2mbpmlj7FZwMQUX\n",
       "u7SDCG4FEadiHBXBLoo4BVEqSrE66KqDiz9oQR0sCMG/oAo6iNBs6lCb2UmXDv7Cu2hqkgt5kOTu\n",
       "vfd5P+7lACTBiI/KIaEcTPBun0t/VxmYJJ8hoDpfV7vqUllFqOLjrkHsLJ4BfBE4fx/rGqYVeQ+Y\n",
       "Y4m4gXj1lEQWSDjDYXgC7oEdlsgY6LEWItxEB5hQIapMUds2Mewm+E8gqyPKNBKJ2sQyeR4Hnl05\n",
       "KogYXiJNia2CCSyQ3Q36dUcfTQWxIl2v1alc0CVXIYSkch/AieUn1WxiSpfbOYR3vUUhaqW9Aw4t\n",
       "hfBGXrM0ML80mjUhv3qIzT9iI0kJqQjhm5649mslZ5Xw5OAUStwSwqRViTX0OGOSeYRr7j4SrVb7\n",
       "OH8AtIFrWiPEhu0+ovIkX6zBTFA0kAeOgAJJqWGwO7GMKpFZCHmG6G0ghdA+8EI2qfLK/6GMr9OW\n",
       "dC8gNL8UrvRAIsdNv/+6L+B6xDQ/7WrQjbry0XGNIGLGRycFXlsyHEbSAf4/SLpko1x/TpkAAAAA\n",
       "SUVORK5CYII=\n",
       "\" style=\"display:inline;vertical-align:middle;\" /></a><br>"
      ],
      "text/plain": [
       "<IPython.core.display.HTML object>"
      ]
     },
     "metadata": {},
     "output_type": "display_data"
    },
    {
     "data": {
      "text/html": [
       "<strong id=\"mult_6_9\"><a class=\"ProveItLink\" href=\"proofs/mult_6_9/thm_proof.ipynb\">mult_6_9</a> (conjecture without proof):<br></strong> <a class=\"ProveItLink\" href=\"../__pv_it/theorems/b22798badbe6aca46818372e6cfd9ea49f39fcf20/theorem_expr.ipynb\"><img src=\"data:image/png;base64,iVBORw0KGgoAAAANSUhEUgAAAGEAAAAVBAMAAACkm51HAAAAMFBMVEX///8AAAAAAAAAAAAAAAAA\n",
       "AAAAAAAAAAAAAAAAAAAAAAAAAAAAAAAAAAAAAAAAAAAv3aB7AAAAD3RSTlMAInZUiRDNmWbv3US7\n",
       "qzJazP2FAAAACXBIWXMAAA7EAAAOxAGVKw4bAAABoElEQVQ4y32Tv0sCYRjHv6end+p5OhU0nauL\n",
       "DhG0SQlN0jUagRIE0hASgVFEV0OtNrT0g4RqCQLpL7CIhgh0iwbT1iaXJLCi50XvsveOe+F4X77f\n",
       "+zzPvc9zD4AobMtBGlqepF27sSkqMGeex+lJp9uWV9rS4TF4ItBdvmRgEfDlgZFquGJa85p6ACzx\n",
       "RPDsQmdbA5Ao3CKUmmm9AE/APk+E+1uciADg/RiyusCsjoDuSKh7REwASvnP8X0BiSr8hiMh+olY\n",
       "ozQrU5v/chgQGzyxm6HixBhRACIFBJJD96hrkPPsvHHF1jU7KrrQg2Aw4hzIdSAdmkS2qraS8Jbt\n",
       "TXqECEYcE1GB3CMpxwL7VqcTbagdO7Ed3TGJSB7yJyt2sW9RrUJ8jgci3jQMvkoZ5DAX9cNb4e5x\n",
       "BLRCzWbrNIU7sukeVsxJ3fcDyDUuRwo4YT8L5cjQfo+sVau4rlAvpBRHjMLDihOhSO+sMaVXyxJn\n",
       "WG+CVY4QSs/0G0j1bw3BttMIjLmMh1x0UtfdJurWQRNqbsSCg6a4jq2g2bWYy/u/BvJlKjgFubcA\n",
       "AAAASUVORK5CYII=\n",
       "\" style=\"display:inline;vertical-align:middle;\" /></a><br>"
      ],
      "text/plain": [
       "<IPython.core.display.HTML object>"
      ]
     },
     "metadata": {},
     "output_type": "display_data"
    },
    {
     "data": {
      "text/html": [
       "<strong id=\"mult_7_9\"><a class=\"ProveItLink\" href=\"proofs/mult_7_9/thm_proof.ipynb\">mult_7_9</a> (conjecture without proof):<br></strong> <a class=\"ProveItLink\" href=\"../__pv_it/theorems/38a25ac598be87a54740d5b45379008dc0ccd4360/theorem_expr.ipynb\"><img src=\"data:image/png;base64,iVBORw0KGgoAAAANSUhEUgAAAGEAAAAVBAMAAACkm51HAAAAMFBMVEX///8AAAAAAAAAAAAAAAAA\n",
       "AAAAAAAAAAAAAAAAAAAAAAAAAAAAAAAAAAAAAAAAAAAv3aB7AAAAD3RSTlMAInZUiRDNmWbv3US7\n",
       "qzJazP2FAAAACXBIWXMAAA7EAAAOxAGVKw4bAAABnklEQVQ4y31TPUjDUBD+0jT2v7jqFCfBpRlE\n",
       "cLJgsZM1myiCXQTBpYgQ/wpZRLcqBRcRBTdRCG46VRdRBF0VxCBODiIo/qHGd6/27zXkLcl99767\n",
       "++7uAWhF03GB6o5Pk5ZE7MCT0Q3ZcZzPqm3kdfjMpmv+VAZSatEClCz8p4axU/GMqvE1YEIkSFO4\n",
       "wTDkFyBgws+AXMV1DVwAyyKjRWVwQlPegBAgA7Gqi0FDOkK6wOgj4NAidw8HMhWP8g0kLLSIQs7K\n",
       "H/kDmOFVlhpysEKvBMb6QycTjSMWaZLsmIU6HZcqgln6n9+ls88DmSgC97c2wJvUVgs2YsXvNMir\n",
       "jSkUB5hjUqhXGwQMcHicAivT/Qkb8WeB8QUUqJAtvczY43D4v8WsVxEhB8krmE+sYo1Xpfw0eNk8\n",
       "5G1BxznlcHRinDAz8l673qsrv0CwJM6D6cAmr2qQuvxac3XpUdbBQFJgRJNKESt8Ho80jmLdxqUX\n",
       "SJIlrkk6byNi0CaGbbeFbvdY9mDODZ31eh/HLphU8mKMuWBRz2crqc1Yh8f9P6oaaa54nrvxAAAA\n",
       "AElFTkSuQmCC\n",
       "\" style=\"display:inline;vertical-align:middle;\" /></a><br>"
      ],
      "text/plain": [
       "<IPython.core.display.HTML object>"
      ]
     },
     "metadata": {},
     "output_type": "display_data"
    },
    {
     "data": {
      "text/html": [
       "<strong id=\"mult_8_9\"><a class=\"ProveItLink\" href=\"proofs/mult_8_9/thm_proof.ipynb\">mult_8_9</a> (conjecture without proof):<br></strong> <a class=\"ProveItLink\" href=\"../__pv_it/theorems/e44412560512e9ce048f11f806fe16c38105756e0/theorem_expr.ipynb\"><img src=\"data:image/png;base64,iVBORw0KGgoAAAANSUhEUgAAAGEAAAAVBAMAAACkm51HAAAAMFBMVEX///8AAAAAAAAAAAAAAAAA\n",
       "AAAAAAAAAAAAAAAAAAAAAAAAAAAAAAAAAAAAAAAAAAAv3aB7AAAAD3RSTlMAInZUiRDNmWbv3US7\n",
       "qzJazP2FAAAACXBIWXMAAA7EAAAOxAGVKw4bAAABpUlEQVQ4y32Tu0srURDGf5uHWaMu6XyQIrY2\n",
       "phDByoAXbK54ChtFiI1gYRGuwooPSGerhYVYqNxOuBj8B4zWgrHzUWRrQRAFG8W9sxtilrPLTnEe\n",
       "3znf+WbmzAA5QhYBBSxRDGMXIWRAddZjMPdrq7O3dxSJqs6YdF13z7BXHUgvQYW+H6GFgrUPyzrj\n",
       "t21vFvOkPiFTxaz6vJY9wA3s6owS9HMHh9ANqUaA8QGzim6lMcSHBseKZo5xSH6pTNvx9BeM1ugK\n",
       "BULK4RGaDuuyab6tEdSoerK65f3xHFZkyrinBOK4LWD6Xm6eefavdfDkDdYb/PUSnHd/cjVfs5pF\n",
       "knu6hOEjWdE+ArPC5IFsy97D6T9Tow7WaygMX3UbnyGJMd69ByqtQ8lVT0gjW5fB9MITr8oy3QcO\n",
       "5T+SJ3oc5YZfH0aOa9GQwrtqX59Q6W95rK5rXIoDVomEYgZ6ljEL7ZMR1St/kSmFCkuQISkVeJbd\n",
       "i92pxNS0t87WdMagZPPcdeW7sk5UCwzFtIdZiUI34jrqKgIz6nGMxQisN7ZtjUIYG465/x+3rmUE\n",
       "JmlLGwAAAABJRU5ErkJggg==\n",
       "\" style=\"display:inline;vertical-align:middle;\" /></a><br>"
      ],
      "text/plain": [
       "<IPython.core.display.HTML object>"
      ]
     },
     "metadata": {},
     "output_type": "display_data"
    },
    {
     "data": {
      "text/html": [
       "<strong id=\"mult_9_9\"><a class=\"ProveItLink\" href=\"proofs/mult_9_9/thm_proof.ipynb\">mult_9_9</a> (conjecture without proof):<br></strong> <a class=\"ProveItLink\" href=\"../__pv_it/theorems/e6299df7c63996d709b742dfc6a958ddc26d22020/theorem_expr.ipynb\"><img src=\"data:image/png;base64,iVBORw0KGgoAAAANSUhEUgAAAGAAAAAVBAMAAABLWfZ5AAAAMFBMVEX///8AAAAAAAAAAAAAAAAA\n",
       "AAAAAAAAAAAAAAAAAAAAAAAAAAAAAAAAAAAAAAAAAAAv3aB7AAAAD3RSTlMAInZUiRDNmWbv3US7\n",
       "qzJazP2FAAAACXBIWXMAAA7EAAAOxAGVKw4bAAABl0lEQVQ4y32TPUjDUBDH/00a+2EaO7tYQRBc\n",
       "GkQEJxULncRMiqK0i+BYRGxRxOJSxzp06iJKF0EIDs5REByECiLaya4Kglpa/EK9JCStr2luyXt3\n",
       "98v97917AMJoMwdX0zi53XfiBowAvvRtc5/eUsBl2SwhFlcBqUSrJIQDPNoiFiLSHrDMAj7gBkvr\n",
       "dVplEcpD1KxIBbgCciywC8ySfAICQE8S3roVaQAzCgIKA0zbwCiQ0MB9WVq/gaiKLraJ8QtkTGDN\n",
       "rPDeWiEL7zUDhH4HZRNYgdHDW0sP5Qj8SX29caTbseHf/gybwCHJKOK5ZgHzqvQgg88zFfjJcs0E\n",
       "irSbGxj+oU9C/62wOhWtQnphgBz4D8UGYJ5SMGUG6ZS62QoFoE+2JJE15wBjDvz+/x4EqhjKGsA5\n",
       "RQtIVK3sMUUgeX6NqUDTF8MGQBPhSri0I0OKSDPwTTDAqYIdUv4KPNEullbtiDe+qbejMoB0Rzmh\n",
       "SuMewarTFe7tfLv9KSdvxuU9nDn4PJoLsOjgE93eqCfS7uvvnP4Hjfxpuyek5fsAAAAASUVORK5C\n",
       "YII=\n",
       "\" style=\"display:inline;vertical-align:middle;\" /></a><br>"
      ],
      "text/plain": [
       "<IPython.core.display.HTML object>"
      ]
     },
     "metadata": {},
     "output_type": "display_data"
    }
   ],
   "source": [
    "mult_0_9, mult_1_9, mult_2_9, mult_3_9, mult_4_9, mult_5_9, mult_6_9, mult_7_9, mult_8_9, mult_9_9 = [Equals(Mult(num(n), num(9)), num(n*9)) for n in range(10)]"
   ]
  },
  {
   "cell_type": "markdown",
   "metadata": {},
   "source": [
    "### Tuple lengths and length reductions for 1-9"
   ]
  },
  {
   "cell_type": "code",
   "execution_count": 38,
   "metadata": {},
   "outputs": [
    {
     "data": {
      "text/html": [
       "<strong id=\"count_to_2_range\"><a class=\"ProveItLink\" href=\"proofs/count_to_2_range/thm_proof.ipynb\">count_to_2_range</a> (conjecture without proof):<br></strong> <a class=\"ProveItLink\" href=\"../__pv_it/theorems/9214132c54d09a64a2550527afe496168f0b26c00/theorem_expr.ipynb\"><img src=\"data:image/png;base64,iVBORw0KGgoAAAANSUhEUgAAAJkAAAAVBAMAAACnAFEqAAAAMFBMVEX///8AAAAAAAAAAAAAAAAA\n",
       "AAAAAAAAAAAAAAAAAAAAAAAAAAAAAAAAAAAAAAAAAAAv3aB7AAAAD3RSTlMAInZUiRDNmWbv3US7\n",
       "qzJazP2FAAAACXBIWXMAAA7EAAAOxAGVKw4bAAAB2klEQVQ4y5WVv0scQRTHP3s/vL3VC2sVEIuz\n",
       "CKTTwhwk1f0DwcU6kGsEi4hXSDYEi6u0iXBNinCFByKCIUTs7E7/gHCpAoHgFalsvAS0CWQzs+6N\n",
       "OzMLS74ww5vZz76dmffmLeCjyyFDPrmKkcKSMTtdt0kLytCp7JZFuwqSmYevv8Bjm9QgW074akSh\n",
       "A+UW5W+bCegMWDlhynpNgzI0T+kPrEFFeGQxAWs+1S5u26Q1KENf4QPsQpUUWL2h9gvem7QGZWg/\n",
       "4FIsJKCRBmt9an9h3aQbOd6+w+WIqQ5bBuiN4blJb+V4E/oMpeHdOlLgtciPnfisjmMNpb2e6+3B\n",
       "b3BbHBjgJ9GemuxBrjdPfLXYpaeDlYFcn8n2cr1ty/WNTXBPdmf/7c2VBzLdNTZRbDILz8xzy93p\n",
       "Mo5Psc/FBIzZn/AI3pmwDunXJI5Bk0KAO7jLhhWf8q28WUdh2E8SIi0NiruXrZTBXBi+FbtpciUG\n",
       "P/Y3OhyL73pRFImnH01vGsSRjGF7YhzKZIsi4dk7wRtNjkztwulb8bchpSfKmuP+ipf0O66HzIaU\n",
       "msp6I9p5Yq+m6oslG1JRULXVkan6IhnUrVdTsiFVlZU1I0u5YxKFjH+AU8+v5AvwD4a/dwsffOOV\n",
       "AAAAAElFTkSuQmCC\n",
       "\" style=\"display:inline;vertical-align:middle;\" /></a><br>"
      ],
      "text/plain": [
       "<IPython.core.display.HTML object>"
      ]
     },
     "metadata": {},
     "output_type": "display_data"
    },
    {
     "data": {
      "text/html": [
       "<strong id=\"count_to_3_range\"><a class=\"ProveItLink\" href=\"proofs/count_to_3_range/thm_proof.ipynb\">count_to_3_range</a> (conjecture without proof):<br></strong> <a class=\"ProveItLink\" href=\"../__pv_it/theorems/400a41641567d9f8914052231bc26dfdd561a8d70/theorem_expr.ipynb\"><img src=\"data:image/png;base64,iVBORw0KGgoAAAANSUhEUgAAAL8AAAAVBAMAAADlQyK9AAAAMFBMVEX///8AAAAAAAAAAAAAAAAA\n",
       "AAAAAAAAAAAAAAAAAAAAAAAAAAAAAAAAAAAAAAAAAAAv3aB7AAAAD3RSTlMAInZUiRDNmWbv3US7\n",
       "qzJazP2FAAAACXBIWXMAAA7EAAAOxAGVKw4bAAACMUlEQVQ4y5VVv2sUQRh9t3tr9jZxOSyDxQX/\n",
       "gFyRWG9hKy4pTKOYRrAwmEJyIVyRLpbXikgEESEQc9iZ6vQfMFb+gBCxTBGi4iGkuMzMznw7M99t\n",
       "4B7c8s3M+96bH9/MAWiiCuNGapgASiBoV46/H9N3YxIDJbAgfie5nl7n8U8d3er2EWyxlDAD0jfw\n",
       "6WNWagSiFURfn2iD66ifF9Eywr/AQ5Z3F7i//g8+nYMEpuQs57XBF+B5Ec23oyGwzfI25KYag5LO\n",
       "QQINWAY7OY6Lk/3Qhxhv5H5ezzYo6RwkcNM2+AEcm10N/wNX/EMIV2wDm86hBZ7aBgL7JjgQ4vVD\n",
       "L2kqsw1sOocWeOQapH908OtIzC2WE8bmrsSeDNWSLAOicxiB165BQnOWRRD2vKyk7Rokh9Ur0AIv\n",
       "XINuSRBHmJ55SY2+a9C97JoVAq5BbGZ0CnxuY7p3uUFcvQAScLdoAbWi7ka5HA9feWfgbRHROUjg\n",
       "kzGQHmmGII9kz0u1wnjgpc20tIEilXQXuS1wW/bcaULeO8x2Opt4IEvnmSpjVZU2VN3Wf6MgEV0l\n",
       "qw+1SOBENI52VrewK3z3R6MhEvmWTXfEW4Wk7xmkYs+ufh9+K0gl/S30J1kTHylFAgndXKqkRdKb\n",
       "Zat/x0mLvEBzSyBeM6un8cx52lxsc1LGSHVH4KOOl0xn1KI3fcByZ5o+qYwIS47APd0gXsDULEQD\n",
       "nxTwKmo5ArVW5WWZG9N3bZK/TCFwATLKrN2TWDmMAAAAAElFTkSuQmCC\n",
       "\" style=\"display:inline;vertical-align:middle;\" /></a><br>"
      ],
      "text/plain": [
       "<IPython.core.display.HTML object>"
      ]
     },
     "metadata": {},
     "output_type": "display_data"
    },
    {
     "data": {
      "text/html": [
       "<strong id=\"count_to_4_range\"><a class=\"ProveItLink\" href=\"proofs/count_to_4_range/thm_proof.ipynb\">count_to_4_range</a> (conjecture without proof):<br></strong> <a class=\"ProveItLink\" href=\"../__pv_it/theorems/59db635227b61749de531dfcf38dc54cb10fdd450/theorem_expr.ipynb\"><img src=\"data:image/png;base64,iVBORw0KGgoAAAANSUhEUgAAANMAAAAVBAMAAAAumMZDAAAAMFBMVEX///8AAAAAAAAAAAAAAAAA\n",
       "AAAAAAAAAAAAAAAAAAAAAAAAAAAAAAAAAAAAAAAAAAAv3aB7AAAAD3RSTlMAInZUiRDNmWbv3US7\n",
       "qzJazP2FAAAACXBIWXMAAA7EAAAOxAGVKw4bAAACkElEQVRIx5VVz2sTQRR+m8022U2zRi9C8bBF\n",
       "vHhpDq3nPXiVLh70opiL4EExB+lK6SFerBch1yIlAZFCoTZ409PqH2DjyR8QIuKpB61KgyC6zryd\n",
       "mczOZLR5kOy3k2++b+bNmxcAqMH/YxLHgikCBQr1IzCfTRg7PY0VCiySz37ERk6uvGZLPr/W4zS/\n",
       "CYWWNtkOyS9P+A7jmx/NPkzAaYDz9jazshJYzhwug/2DM70+wHVt/iWAqyuH7OUUFH+ZrZhAia53\n",
       "gVlVa+C2ES3UnRFnniXMdW3+XZp8bvUGYMNsxQRckKzcQ6h+Q/S8B9zKv0+YbqTOb8tWnQiGxvLi\n",
       "Audkq2oXqn/4WfxkoDhDmDPqYdkN2eoDwNB4WFzgjmxF83rAwAsuPk+Zxb4yvxTKViR2jfnjAjcU\n",
       "q69B9vw0YKu0WpRZppuA1W0aOxTiNiUr/7vJSQg8Vqx2RIZYBRaBMu22WlX1vJXXN+aPCzzKW5US\n",
       "Qelkg/eQ6R8oAm4vb7VmzJ8QUKwesucXgD1sI1aAzEr731Zl46bGAvkEkhZwHEEaMavKYDDcDMHu\n",
       "KmelJHARLEOxjwVecSt0+wxwBtEmTaDDNkBPNVEUZgNmhSQ/hAKnyxHJAhcoXq4BNgdrK467iB7Q\n",
       "e3UNyw6OJay2c4dNM1Yk9x1Jc3G8iggn45B4EwL7BA46t1qwTVbgpWnaQFSJSbv1sJuW9n4H4PXU\n",
       "FkAyWn0/epeRdtN0lKEtmtwm/6JSQsDjl9wWpTFGS0J5TsvNU520pLf/SBIoN0X5g4bCXHPNx7pO\n",
       "CifcKVngJcMXxahATiAqNtFUZmsqaYx0KRS4wl7GPIEKmq4UTqKSCnoFBjkBKzjC//X8hLET0/zh\n",
       "E4G/Ide7gBzcqg8AAAAASUVORK5CYII=\n",
       "\" style=\"display:inline;vertical-align:middle;\" /></a><br>"
      ],
      "text/plain": [
       "<IPython.core.display.HTML object>"
      ]
     },
     "metadata": {},
     "output_type": "display_data"
    },
    {
     "data": {
      "text/html": [
       "<strong id=\"count_to_5_range\"><a class=\"ProveItLink\" href=\"proofs/count_to_5_range/thm_proof.ipynb\">count_to_5_range</a> (conjecture without proof):<br></strong> <a class=\"ProveItLink\" href=\"../__pv_it/theorems/91e415d80a093d7c8a47926a579352bd8aed56d20/theorem_expr.ipynb\"><img src=\"data:image/png;base64,iVBORw0KGgoAAAANSUhEUgAAAOcAAAAVBAMAAABPgOQBAAAAMFBMVEX///8AAAAAAAAAAAAAAAAA\n",
       "AAAAAAAAAAAAAAAAAAAAAAAAAAAAAAAAAAAAAAAAAAAv3aB7AAAAD3RSTlMAInZUiRDNmWbv3US7\n",
       "qzJazP2FAAAACXBIWXMAAA7EAAAOxAGVKw4bAAACqElEQVRIx5WWP2gTURzHf5fcJb1LLj1dCk5X\n",
       "xMWlGdQ5g2vpmUEXxSyCCGIGaYoIRgfrUsjiYi0JaCkUIsFNp+jg4GCzVYfQIE4d/IMkCKLxvXfv\n",
       "vXv/UrwfJPe93/3y+d77vT8EAAJIE6ZqKzUgU/7f8hLABXhpeHAyNeAM+hxGNL2w+oG+/Pm7PV5b\n",
       "j6/u5MY2ZJoaK1tBNdsqwRAc4NTA2b9FTa0+rMRelyD7k9V6A3ptP0d11zTWRYArq2OVYAgOyOM3\n",
       "X6KmfgBui6ilsjNhtaepqU++1zXWGp6ksUowBAe4IJi6Y/B/EPWqB8y09FAydSOV1RJME8JMUwQ4\n",
       "J5r6HfD/spn6RYWdk0xz6qRma+JIBcIMUwS4LZrivn+n4jWDL3LTB8sj9A4DBZWvCKYiQTdlgOuK\n",
       "6bcwvn4ejujSaDLTYmT9BpjDA4M7uzi6fOiCKSPowQHPFNMu7xpdvTbkkrG9R3l1nXhl2bR71FaN\n",
       "AZuyab7Pn7fj5H3R9F4AJbV7bk8yFQiGiAGK6Qa9fgXYI0eVFXLTd+g3Iyi0jjbdmO3IAXJ70eFy\n",
       "jIhpRE0Lw+HBVoXkngAcoJKOMqdyeznBEBzwlpkS3y8Ap4jawu116FAGQBSyforWgdq+YkhNHYmg\n",
       "RCQClnFmJQByAFk7jUaHqEd4n14lCxXm+7FagMxjukPEIHvIRicCLkoI5AunkjsOOEQ3w/bNJuyi\n",
       "d/Gm02mNqEIDHfgeOcXze39CoqzGPq5Rj9YS6rf/afKRlCcE2MGtr1NBUhzgjdhk8J4k6izo6oTW\n",
       "uRdaUVbvb5JCgLk661LSL64qBrWm8da1IlufU1sCvKG6yrNcOaGuLH0bFgO1qKqbViXAZXqTHF5c\n",
       "ZUBXRf3/itNXiwwHYSgBrDDVf6RFQ+54SsA/bDzMgdSfOE4AAAAASUVORK5CYII=\n",
       "\" style=\"display:inline;vertical-align:middle;\" /></a><br>"
      ],
      "text/plain": [
       "<IPython.core.display.HTML object>"
      ]
     },
     "metadata": {},
     "output_type": "display_data"
    },
    {
     "data": {
      "text/html": [
       "<strong id=\"count_to_6_range\"><a class=\"ProveItLink\" href=\"proofs/count_to_6_range/thm_proof.ipynb\">count_to_6_range</a> (conjecture without proof):<br></strong> <a class=\"ProveItLink\" href=\"../__pv_it/theorems/d3faa1008c40a274cd2267f65fc7692581e858000/theorem_expr.ipynb\"><img src=\"data:image/png;base64,iVBORw0KGgoAAAANSUhEUgAAAPsAAAAVBAMAAAByEoVnAAAAMFBMVEX///8AAAAAAAAAAAAAAAAA\n",
       "AAAAAAAAAAAAAAAAAAAAAAAAAAAAAAAAAAAAAAAAAAAv3aB7AAAAD3RSTlMAInZUiRDNmWbv3US7\n",
       "qzJazP2FAAAACXBIWXMAAA7EAAAOxAGVKw4bAAADOElEQVRIx51WTUhUURT+5uc5P86ME0RCtBgX\n",
       "UQSRixJq4xCCK3NyFxgOQSBFNQtx+iF6tbBNkhC2yMIBE8MQhjbRbpQIsih3VmDOwpWbMWSGKGo6\n",
       "9+f9zL1PUg+8975335nvu/ecc88dAEnsynxegzvi4s7+9u26J4CzzltzSvfYPhezV+x2nK71jBxp\n",
       "Hf4k0d7uD7ZsTjwjtUvTcqirq4zDOiHjSkxrXB4W7DoDvwkYWRjL16S8r4TeIkdGDp3WUqJL8jn5\n",
       "XPrtK8YLaMqonMSF88NVlcsrc5fxDbgIhGgKOCaZ4klExkQYNzGQlb5HpHzc/vUFxEoI51RSzuWv\n",
       "qlwe1pTCR+A+RRQu+UgV8R8isxNokfKJEVU+IBTGVVLOZck7XB7WyQUjGXS45Smk8b+2iynT1KTK\n",
       "x8SqBlXSDrd8A5dq70UMTAy55VmCN6zKfiFBmy1/r6csFnb19C169KikQ255N5dmj9cOUV0El8QS\n",
       "XPIVuZ8SR7/LKjEt+VjG95uDlkFEqC5H+MvNWWZzdjhc8pXUVvI1E4+AcBZTivyckx9R+UFY8mSL\n",
       "/D6wgRAl/qRKOqXIz22lbtSBGxkExjDRKB8qOYUkeO665e/wTjVQQJjiUFFZJxrlXVyq/C/gYRGJ\n",
       "DVV+1Go1ZcQ2eexTtvw7kufJpz0R/gm8+Y/86NZdp0byJprHlOAH0tgj0luV8s0rK6vP0nzsCbAq\n",
       "ikCs/pSa+8bg21wetshXHyhgwZLnM1gDDnIUWWLBF7MibLAnTeIpRwHKPe29ByrpgiVvNHApged1\n",
       "Rbmn0iuJ3dObhFFjkZ7J5wschU3a9xxRJEqiA7bCPy7QW5xrl/vMbZwrSL2GOTlc/MaGbIBY2qDK\n",
       "D6WxTi8rk1dMzNJEo/V6PcsRXufpyOEo9PlPKsrOEV9+OQOOgnm2K1+q8owr/rX2hTu5uGZYD8hZ\n",
       "gB9J3bepiqJFRMtWquw4eaET0JCvoMrbXI5TQI++Q7UfzsERdA5DD5TWUchUiZ1DKK0zeFBdp2te\n",
       "4j571AMZKR0d0JnnNac+vfTsbz7WF/rli9MgPZAfOprX5fs1J73tOt9iSdFXdmV+j/91O+NqA/4B\n",
       "fq/gp6z7QD8AAAAASUVORK5CYII=\n",
       "\" style=\"display:inline;vertical-align:middle;\" /></a><br>"
      ],
      "text/plain": [
       "<IPython.core.display.HTML object>"
      ]
     },
     "metadata": {},
     "output_type": "display_data"
    },
    {
     "data": {
      "text/html": [
       "<strong id=\"count_to_7_range\"><a class=\"ProveItLink\" href=\"proofs/count_to_7_range/thm_proof.ipynb\">count_to_7_range</a> (conjecture without proof):<br></strong> <a class=\"ProveItLink\" href=\"../__pv_it/theorems/5c887baa6cf8956a4eac3a8866458deaa9ea23200/theorem_expr.ipynb\"><img src=\"data:image/png;base64,iVBORw0KGgoAAAANSUhEUgAAAQ4AAAAVBAMAAABF+R16AAAAMFBMVEX///8AAAAAAAAAAAAAAAAA\n",
       "AAAAAAAAAAAAAAAAAAAAAAAAAAAAAAAAAAAAAAAAAAAv3aB7AAAAD3RSTlMAInZUiRDNmWbv3US7\n",
       "qzJazP2FAAAACXBIWXMAAA7EAAAOxAGVKw4bAAADGklEQVRIx6WWT0hUQRzHf8/17bq7rm4QSNDh\n",
       "dYgiiDyUUJfdQ+TJfHU28ihFtAfx0SF6BXlKCsQObaGwhWEJ3aLb6qHoD+XNCjb34MmLhblRodv8\n",
       "+c282ZlZU5zDvC8z8z7zfTO/+c0DgCzssji2xuxOAS3d2x3eAXBOJ9wmVdozx26XGgGO0xmeYHPX\n",
       "yEdUe3vfy/kL/JmsXRLjWk+fZc9YvV7/DYdNPqWu+AbVKBLgDgJcGFlHd2Xof8GUW4Cc+KTUAj4n\n",
       "HyPZuQxfuZ83QVCCuK/jCdVdvOrrVLNIQCKkq4g+MllI3uPrugYXB3HsEfSRkW/HPfjAMWSWArQV\n",
       "dDyjHvN1qsWHACRB8ZFch8wPptJF6EQfHaOGj5xYgBhvndDxjCp8RFTLvghAj+ojMwWZTTlZiJbj\n",
       "ho+3CokGypCO71F9NFDNwgHDqg8aBN9RpJ+iOCB93OqrcnV/+ZDYcLL5AH06e1j1oVItJ4YDhjQf\n",
       "q3gIO45+w3Gh8NHuO3+5qoUwjuMz1NAoi4kZVtjgIc3HqtfUBwJKmo/ZKAi6MZKED1Le8dNQB7iG\n",
       "k+yj1UkdXtJ8zDbfFgQUG30kylGs8cabqo8bLE26fwDu4sacYZ+rw4uNPhSqURCg+RgTuasK7Wts\n",
       "Wzzp4zXxwQOkRnxgFD+n1av/+BjbIqMioHFfYnnYw0TnOvpIVypLj/Ks7QHAktweXA93g9an9Pho\n",
       "3BdJtRQBmBc+XCqWAQ4CfT25QPeFg4hmncTNQ65yJD64Sv+i9R2dPi98+A1UzYIKYEeulaQZmj6d\n",
       "6SCYcsmqQ1tI8gdTZG3KPLd2QcsEV+15d5yr2E95TNXCqP1ZYISIyir6nhQSsEKPzpfaZ0iROyxF\n",
       "bp1BmKHWXwbknmMq8WnDo53gBIs+GwbQe73KlcPO7zPdB6VWJq+EjKBQp2kuKQihAlJV8e4JmWt9\n",
       "U8lOm3KmdB+SamNZAdEdlVfuHkPlt1KJUJ9BUm0sO2BORI1MeefBUFGnTe03p5hrzgI7YED8Qcl+\n",
       "z1RRp03NmT4GmrOaABxvt/+nLZZ/0R1RCeAfGlPqljCPJeEAAAAASUVORK5CYII=\n",
       "\" style=\"display:inline;vertical-align:middle;\" /></a><br>"
      ],
      "text/plain": [
       "<IPython.core.display.HTML object>"
      ]
     },
     "metadata": {},
     "output_type": "display_data"
    },
    {
     "data": {
      "text/html": [
       "<strong id=\"count_to_8_range\"><a class=\"ProveItLink\" href=\"proofs/count_to_8_range/thm_proof.ipynb\">count_to_8_range</a> (conjecture without proof):<br></strong> <a class=\"ProveItLink\" href=\"../__pv_it/theorems/930eaa9c2c1c480f40a87adac05e59b793557ecb0/theorem_expr.ipynb\"><img src=\"data:image/png;base64,iVBORw0KGgoAAAANSUhEUgAAASEAAAAVBAMAAAD7r0UnAAAAMFBMVEX///8AAAAAAAAAAAAAAAAA\n",
       "AAAAAAAAAAAAAAAAAAAAAAAAAAAAAAAAAAAAAAAAAAAv3aB7AAAAD3RSTlMAInZUiRDNmWbv3US7\n",
       "qzJazP2FAAAACXBIWXMAAA7EAAAOxAGVKw4bAAADfElEQVRIx62WTWgTQRTH/8nuNsk2SYMHq0Vo\n",
       "ioLopTlUr40S8WJx8aAISoKg9OBHD2pKrRg9WI/x4EGkJCAiFrTBg6AXo9hzIx5albTFYw/SKhat\n",
       "aJydr/2YJFjogyZvZ9/83j/z3swUQAKbZs1QgQ0Dgqn/DV+C4U+5zfI8Pm8ya+dGFFHAAPlb5uBA\n",
       "/vwS9zLjFREWH2HfpXNTQkAmw+IGG41GkXpG5nAFwYKSQ0sTwCP4+apJgJGDMXeJZ9oB/TfzTkD7\n",
       "LmLNGvt+sn6Ij2ytxMrUOZLPj7E1DgEfgLNKouPA6as/4OerJgEh+2f1c0XvgfvM608ZayJ2L1dU\n",
       "k7PPIFqlDlmAbjZ0hyafUBKN2o0hFDl81SQgApeikoVF1iovKxCK4rf9ijSRASk5OkSBEcufqOhW\n",
       "5PBVk4D9bkWfgEVRaO0nd/QOv6Jo0QHpPH5wxl6ODn8jaTm3IjffbxJw2a2I2LRwXgl4n1A0v2uB\n",
       "OZGLB69BtgazWGM3WTC95u+OtFuRm+83CRj2Kop/486Xuth1BaFoBr1s/3UNIyLOjM9i5o11Uo+w\n",
       "vSQYm7Ltqe3SRXMpknzVBOChV5HpNAvfazo6nHKxHZZdQege1ysKqB2YJRO0oi+NmfIqMmutBEnA\n",
       "A6+icSekxAZvuhSFVpmiMsJ8F+s5/moC2i8L8RVfnkjFq2i85RJJgFdRWCT/CszSwgSSQlE0h9Bf\n",
       "VrUcwrzvzSqfQNasN4XOYntF4ZZL5AC8VRtAgO3OhsUVddbri5NpCi8jtiKKJ9Yoy1MY5E2sAK3s\n",
       "6yNf1SRfPbIl4K1QZIuKpxG0DHtk0q6awX9nDQZtKESqNEwjfVSkHl6TG4aG3SVCEwhXfYmiSa6I\n",
       "Bjl8r1luwJA9cjQBekT3kEsB2Rw9Qcl5lGVN0lWlXmAEeyx2kr/DSX6mD5Llo2EvLNzim91t9DjQ\n",
       "V3mQ5NPJ9EM+ScAyeaiXLhRg36LTjcYaTPte7MyTm5Z6CM3+SVKv+/oV0DDo+QXubSdVoS/jc3nS\n",
       "MmbFpyhOyhj7uDbPghz+Y/AP077GbZQEmPKMlvttH9p4TlizCT1KQZ61o6ooAgiPiPWV79PtPCes\n",
       "2YTRJpu6DVVF2YA33D8muz7ZzpNhzSYEqkqyaKI1S0VRwCn+IOOCaOclVS+opHfv6mprloqigEBy\n",
       "8/7P7msytmWDgH+H8gxVe1/IIQAAAABJRU5ErkJggg==\n",
       "\" style=\"display:inline;vertical-align:middle;\" /></a><br>"
      ],
      "text/plain": [
       "<IPython.core.display.HTML object>"
      ]
     },
     "metadata": {},
     "output_type": "display_data"
    },
    {
     "data": {
      "text/html": [
       "<strong id=\"count_to_9_range\"><a class=\"ProveItLink\" href=\"proofs/count_to_9_range/thm_proof.ipynb\">count_to_9_range</a> (conjecture without proof):<br></strong> <a class=\"ProveItLink\" href=\"../__pv_it/theorems/20927c886a6e9291c7774ec5f917c2197fc46ab90/theorem_expr.ipynb\"><img src=\"data:image/png;base64,iVBORw0KGgoAAAANSUhEUgAAATUAAAAVBAMAAADV6mS1AAAAMFBMVEX///8AAAAAAAAAAAAAAAAA\n",
       "AAAAAAAAAAAAAAAAAAAAAAAAAAAAAAAAAAAAAAAAAAAv3aB7AAAAD3RSTlMAInZUiRDNmWbv3US7\n",
       "qzJazP2FAAAACXBIWXMAAA7EAAAOxAGVKw4bAAAD50lEQVRIx7VXTUhUURQ+b94858eZ59QiSQKf\n",
       "VERunIUFrZrKclU+WhRG4RAULvqRKJ+Y0hSUboKJaBEhChGSZA4tglq9omgTOdEiDfwhWrko+9HS\n",
       "sum+c3/m+X6GXPhA7/fuO+c73z33nnMZAEjAKjxepNKKCQLJ/zWfBsUZUrrqY/vIY27jSrQhQT35\n",
       "m9HZTGX7Gxa0oSvHzdQ2OvafHOJ2DQ3TOMqFQmEBkdLQyB2Mbh0CGVc0OUWo7vFFGaemfXVxAiUN\n",
       "yvuzLKZkQhONcBjk79w0mqfj/cW9bGZdLj6AIPjKMO4iCgG8ox+PaOoNgBOuiIcAjrXPsZcNEPzt\n",
       "J00QhKwF1jFt8QREsojqkso8t61l2vLC+zjETKqNrIdmtReDW884wGuAHlfIDusAcW1vAW77aRME\n",
       "EbBpi8xB/CuiJzng2tRrTm3ynEBkPRTtF9qIX5MOEd0ZMmvX1q/DlF8RCoLtdm1kp+J/edhfDATL\n",
       "nNpiWRvTATrsfImJIYfkD+HLQZnzwMlpu7YPAFM+B65IcN6uzTpcsww85eQ1XNvYpkmW3jO7L4pK\n",
       "NdmyCluSxWVnIJh3hAyl7NrIMwIl8oYErQ5tXzQ6fpxgy5IyXNtLqKaFUtEKEd554rw6Ly0mxHEZ\n",
       "1SBspQk6h6xn2IKYSJs29VuJ80YJ7jq0DYs9YHUahLLiZtLqbJmF0C02tZ6b7xplDs05dSoJctYR\n",
       "MZpcri2a99MmCO4s1xYyhUk/nbxs0xaihdIyAGHeAfaxsQfkBeqgnNtTNw3qrCNiJLdcW5dvexME\n",
       "Dm3X2fiZ5BW3TdK4tlgaQrRQKtIQ5pXygI0kj9XihiFlVp4trS2cL3UrUILle0p69xoEBZ1pK5+Y\n",
       "mOpLITkp4lm+tTxvyhIbyZe4KE3SnuQBx3lz7Gk9SCUuckrwnGtDeZ8ANiPqs/ZUYSvOg0L7bMTE\n",
       "jzI5b1nqUP4TqCvp5LEEOuzQFZLesOkIF9OYNjRSUxDg/PZHtxPsxxQmAK8BadAwBhD1Wv2tJU23\n",
       "0ERELoCtOr0tXkAzuzfkH0BdH+twhTrU6rEMaxn2B5tKkBxYNKoyjE5E6IxT4k0QzJCXif7TGbDu\n",
       "8Si5utOIyg1y10fxZg6NLmmIKrsvAH6EoDHJkHQTKFLfG8wh2Gg1v2jOoU0lmxwfnx+jRiOFwjxF\n",
       "g5ZxG/9nUQmCKO/OsqiHItoGLuRl5uVQ5dquhyVYwU1FCMJtPOfF7AuUciMvMy+HDlfYnhKsHlQW\n",
       "wTOGD4pZgRTNjTzMvBwk0xU2lvBndVMhwVH2UrQTKABupJVCAZcQe0s1/VndVEggaavxe6HGY27t\n",
       "Cgn+AXoDJFvQ99hgAAAAAElFTkSuQmCC\n",
       "\" style=\"display:inline;vertical-align:middle;\" /></a><br>"
      ],
      "text/plain": [
       "<IPython.core.display.HTML object>"
      ]
     },
     "metadata": {},
     "output_type": "display_data"
    }
   ],
   "source": [
    "def count_from_one(count):\n",
    "    return [num(k) for k in range(1, count+1)]\n",
    "count_to_2_range, count_to_3_range, count_to_4_range, count_to_5_range, count_to_6_range, count_to_7_range, count_to_8_range, count_to_9_range = \\\n",
    "    [Equals(count_from_one(count), [ExprRange(k, k, one, num(count))]) for count in range(2, 10)]"
   ]
  },
  {
   "cell_type": "code",
   "execution_count": 39,
   "metadata": {},
   "outputs": [
    {
     "data": {
      "text/html": [
       "<strong id=\"reduce_0_repeats\"><a class=\"ProveItLink\" href=\"proofs/reduce_0_repeats/thm_proof.ipynb\">reduce_0_repeats</a> (conjecture without proof):<br></strong> <a class=\"ProveItLink\" href=\"../__pv_it/theorems/bb3e1abe350064c7ee673d62e43121f70ee7c3430/theorem_expr.ipynb\"><img src=\"data:image/png;base64,iVBORw0KGgoAAAANSUhEUgAAAQgAAAAVBAMAAABI5209AAAAMFBMVEX///8AAAAAAAAAAAAAAAAA\n",
       "AAAAAAAAAAAAAAAAAAAAAAAAAAAAAAAAAAAAAAAAAAAv3aB7AAAAD3RSTlMAq1RmmUTNIjK7EInv\n",
       "3XZ/CtNrAAAACXBIWXMAAA7EAAAOxAGVKw4bAAADGElEQVRIx5VWTWgTURCe7OZ3kywRD/4gElB6\n",
       "sBaLlooXDdRf/CF4jhrwIHhaL4LQSDwpitqLBDzUPYRiPWjaa0HioZeKGkRBCoHUHwQPVRRa8aLz\n",
       "/rLvvbxscNgv7M5kZr59b97MAvSKxxEmiV6X//k/90r0s4CbZwiVj+rj+UEkYh1TIqIlyJHHHbJt\n",
       "mCNMrEbwjgsniuCODmLxqVc1zLSII+TxkmRyygyhMhPc1sH6CXB5EIm4r2tIEqJF3CAvMyXZoqMM\n",
       "oTIR3H7PO2sAY4NI2AVdQ5IQLYJwScsVkOEIlWZwWyoCksj4g1yWdEVGaJfARj5x2TbEEVoSynZZ\n",
       "vzAEW7tNiGtmn4u6YkhoEa/a7Zey7STH05XHC2yFnNWtd+bVlWzIT+eQQJoWOFSqkPigJeOB5nQS\n",
       "JAnVIo4DPNQZExTc7dEWSwkrndNqlck1c29DFTeWrQ0yQB6q8EDjNFSbSq67NOMMVyCRk33eMtie\n",
       "/SfCcu2HQ/5GJW5WaSPkdFi8Sio39YUQgXbrK0ESUS0i5aeLsm2RIQlRsfFVOKrXFHrM0HeiKd/4\n",
       "kPzBu0ZbXwgR6L5OYlFoEVYnDgYSmClocq8NJITcAniUh1izHwkRqGQkUeIoH8Sf1WOfPWU7AC54\n",
       "Dj93sXV40nc7/vqEhNXqtx0i0IheEzTJCMc8djvX2xLngacZZovbIA2A3s6DSBMa4EhhU9IkeEG3\n",
       "w54yFSbx4YHggM6NJKJagknkZcN0ktv4odlz+xScBdIMrd/1ZiwPz0g7X6MacSCp7KN9gh/a7hHF\n",
       "f7OLB+InUpY5uSFEKPV1YbvLUF+1JnBt2j44Zzo79+IWLKPhHb0g2ZLm42EcYJBlVbIZcZVuWIFe\n",
       "y91A8F4nQRJRbdeSbIq5nq0y8OMXtONdUoCeja+Y22Tgk2jpNpKEaLuWyXQ5Kk2aYNqkAye5S46F\n",
       "TDRZGsq46h1pyrSMfnn+TRhrHKznBkUmf5aktE8pZQ6DyccwUWpMa5w1sxxUgiiuEl1LmjJ/37lK\n",
       "RkOimtmCb9VhCJXr6uPXQYPc9UyJiBbxDwyk1t6EhugvAAAAAElFTkSuQmCC\n",
       "\" style=\"display:inline;vertical-align:middle;\" /></a><br>"
      ],
      "text/plain": [
       "<IPython.core.display.HTML object>"
      ]
     },
     "metadata": {},
     "output_type": "display_data"
    }
   ],
   "source": [
    "reduce_0_repeats = Forall(x, Equals([ExprRange(i, x, one, zero)], ExprTuple()))"
   ]
  },
  {
   "cell_type": "code",
   "execution_count": 40,
   "metadata": {},
   "outputs": [
    {
     "data": {
      "text/html": [
       "<strong id=\"reduce_2_repeats\"><a class=\"ProveItLink\" href=\"proofs/reduce_2_repeats/thm_proof.ipynb\">reduce_2_repeats</a> (conjecture without proof):<br></strong> <a class=\"ProveItLink\" href=\"../__pv_it/theorems/c856adf46d0fd4d513adcca75a96b08a51b604480/theorem_expr.ipynb\"><img src=\"data:image/png;base64,iVBORw0KGgoAAAANSUhEUgAAAPAAAAAVBAMAAACK8n6QAAAAMFBMVEX///8AAAAAAAAAAAAAAAAA\n",
       "AAAAAAAAAAAAAAAAAAAAAAAAAAAAAAAAAAAAAAAAAAAv3aB7AAAAD3RSTlMAq1RmmUTNIjK7EInv\n",
       "3XZ/CtNrAAAACXBIWXMAAA7EAAAOxAGVKw4bAAACz0lEQVRIx5VWS4gTQRB9yUwySWcTFjwpIgOK\n",
       "Bz8kiCiCn8DiB9aV4Fk04EHwFI/CRuJVkdWDiB6WHBZxPWjcmyxILoIoShTFRQhM/CB4CB7EFb3Y\n",
       "v0n39PTukKJfMlNVU2+quqt7gLg0JMYV2zOeVeNZny/5AmPLWYvuc0yTCQQm2c1W3bJTwpTlrwll\n",
       "KFViqnQn7vZF4Ci7vqDpSV3AlKxPPiakfDGmuW/xyrY5rrKS39T0bkXAlEPA0wTivTHNlMXLqXIw\n",
       "/oI+oxMSptwCyu31iSdi9q7N7SWHQ5PL6urtEqb8AubYC6YaRom0IpqFStdtbucFXvf7r3T1tMSj\n",
       "wYNlrRKEEbPA3grQbEVDkeGm60u0cpMGhdsZ2aBCPgHHCeCe5X1QLW1xe1r7/aPEAbtqthh3lACD\n",
       "YIbOHE9wps/kbVgCaYMKuQ8cl+BFXvSdgNNw/qYqBjFvDm/FTBj7caS9gVbWnNKiP7JBhdwFjny7\n",
       "UNOdnwvk4EYmiFDiczxjNM2E0cIx9pf7aa622sgGFXJOIB1E1lZITJ8KzMVV9tcgBt7wTalrIZY2\n",
       "qJBnJOqH6c/weLgvyVLT/BpEb4+7oDVbo9TIrOIhzaFnzDErtbRBhdwNgSW64ZQaG7NyCc8LLNY2\n",
       "owAo6oOQNTMWF/Ugt1Nd0Pl3zC7LB6GNYBQSByRm6dpyMJ+TznKxl6+dxGmQ3/TucZ2Nok9eQG8n\n",
       "ahMD6T8L3YwvuicitL+kjQaQIVXDpnjhVkPnGwILw/QUjdWnCRWrbJDpAXdk7h5fJO/5oB7kVLBt\n",
       "D6tszSDO9UJb8dMoJD5ICJdueEYWWwJy72knHYaaRzNmVHOyQzVmT4DLbKHuRvfwsFiJp3BhvSNB\n",
       "HRsd+ynkfnv2IzTckRC7XCKx8rDs4PnwCCeqNy9LxGRRgkuQSBzEWbRtJ3yXktJFEot8FAUCY8t3\n",
       "i+5K/DulwfEfkGrQa/MIqmYAAAAASUVORK5CYII=\n",
       "\" style=\"display:inline;vertical-align:middle;\" /></a><br>"
      ],
      "text/plain": [
       "<IPython.core.display.HTML object>"
      ]
     },
     "metadata": {},
     "output_type": "display_data"
    },
    {
     "data": {
      "text/html": [
       "<strong id=\"reduce_3_repeats\"><a class=\"ProveItLink\" href=\"proofs/reduce_3_repeats/thm_proof.ipynb\">reduce_3_repeats</a> (conjecture without proof):<br></strong> <a class=\"ProveItLink\" href=\"../__pv_it/theorems/02b09853752843a40dfcf4200fe36ddad38d12b10/theorem_expr.ipynb\"><img src=\"data:image/png;base64,iVBORw0KGgoAAAANSUhEUgAAARsAAAAVBAMAAACEflfWAAAAMFBMVEX///8AAAAAAAAAAAAAAAAA\n",
       "AAAAAAAAAAAAAAAAAAAAAAAAAAAAAAAAAAAAAAAAAAAv3aB7AAAAD3RSTlMAq1RmmUTNIjK7EInv\n",
       "3XZ/CtNrAAAACXBIWXMAAA7EAAAOxAGVKw4bAAACvklEQVRIx6WWv4vUQBTH3ybZHzdxlwMrRSSg\n",
       "lc0eItj442DxB+jJ4h/gbSdYxf5W1lYLz8JCC0lxHGpxLtfJgaQURFlBcBEWsqIIFouFeKKNb35k\n",
       "MzPJZIp95Htc3uTzzds3M0kA8lEXWiBCg20pEBYPfRFaIG4YbEsBqmV6ckwecYZcJbH3NSwvp7WS\n",
       "S5VbUoDqAj25KY9sC5mjFpBPlvbcymW27QDqLp3VTXmgI2SOswCvLOWcymU6dgBViwD8QB6Ihczx\n",
       "EKAdlbsfyI3HdgDl4oTVlDnucZXEL4AH9BdUQr2z2Xzqi8diyQCqd5PJWznvDbnI7PD9XZ7amT7b\n",
       "kxpIaDn0dvUxQH+g2grMX9ZuZ7SUAKrLAE+KyvRgmqzx1GrrqDeSHiD/sJyE/tcf0IrU23LMZc1Y\n",
       "m9D4kNoWWkoA1W2oK7+kGXCdhvPRQZZxQ/dvZUUrh23b+lhvToo5+lIxWkoA1VLkd5U11eUawEWR\n",
       "aYCnTDzBctZZd6CvNyfFGj/1pWqylAAqJ6lBUTkA77Ncoi/ldmAoR2DVuKAcg+UcYFDvHP6ZXUof\n",
       "tOlkQXUfXghgPSTyxn0M2GDDZAnMGWlrx2yZAQzaxYdhKzxUE3tnKWEijyoxDIFg5nn3CPgAWUFn\n",
       "QHRdW8p4hcDA1fe/yVIGGLSBK9mFpw3BiR3n/NmKqwG8xClu37sK14H8xkE8xaMZkDcgb3Qc40eK\n",
       "sX2thMlSBhhUYf3eT7nGiIlcS46fxB5/BtiaOR0EJvhbmqv0IFemjKFknS3Jj+zAKwQGza5WjslS\n",
       "BjKoEc8/R8ZCPE5kz9XI9lkhXdHPDVos+zK04fc87WUmImu6b/3K8ctemBZL5cXtfXv9Y77oQi7+\n",
       "jMn24461nOyKgjdZuSUFil9/ZJOLfxZl+cRaTpK/t2prtlR6oMYdoQXiu8G2FED9B4Oy+G3T1NwH\n",
       "AAAAAElFTkSuQmCC\n",
       "\" style=\"display:inline;vertical-align:middle;\" /></a><br>"
      ],
      "text/plain": [
       "<IPython.core.display.HTML object>"
      ]
     },
     "metadata": {},
     "output_type": "display_data"
    },
    {
     "data": {
      "text/html": [
       "<strong id=\"reduce_4_repeats\"><a class=\"ProveItLink\" href=\"proofs/reduce_4_repeats/thm_proof.ipynb\">reduce_4_repeats</a> (conjecture without proof):<br></strong> <a class=\"ProveItLink\" href=\"../__pv_it/theorems/76e9ed74e80a5bec02ada49c5143bcda400b9c490/theorem_expr.ipynb\"><img src=\"data:image/png;base64,iVBORw0KGgoAAAANSUhEUgAAAS8AAAAVBAMAAADlZnWUAAAAMFBMVEX///8AAAAAAAAAAAAAAAAA\n",
       "AAAAAAAAAAAAAAAAAAAAAAAAAAAAAAAAAAAAAAAAAAAv3aB7AAAAD3RSTlMAq1RmmUTNIjK7EInv\n",
       "3XZ/CtNrAAAACXBIWXMAAA7EAAAOxAGVKw4bAAACx0lEQVRIx6VWTWgTQRR+yW6yyW6zBDz4Q5GC\n",
       "0oNVWkQULxooVsEfgmfRgAfB03oRhAbiSVDEXETwUCL0oB407VWQXLwoShEFEQJbVAQPwVMjPTkz\n",
       "b6YzmczsLuSxX/ry7fu+vNmZ2SnAeEQcE0SUkTOEZy0NZxCTxFWzbZYoxCiv0i8H1DtzHAlR+p7i\n",
       "Hi6MUXNZB/UD5WdofkPh/QYiIZ4tbae539SJFEslih0mv0unta3w7gIi8YGkNnZMJ9IsZTg1Jqf9\n",
       "Ber0T3FM1thURyeyL9D3TO6QkRRVepYjQ2O7Ce5Y5kN/QLPZG7uO8o/9/geVPs/xavP5G3yS/mDf\n",
       "g3VTY80WeN/0tYTFQVXjrZaSFOkays8BPNX6ZaiF+90NXB6wGV80NUa6Ir1pawmLHbrW3T6LKiRZ\n",
       "SlKkx1F+C7yR0X1GOJGzncP5OAGnO7uMa6x5T39gojjf03ibpUKK9DDKy52grjq8Q5TAFRu8BUuW\n",
       "xe/19Qcmikt/Nd5mqZAifYTyfFwEQ2NkZ8Q73KfsjfHiQm+8MYulQmJ6hcsbp8jH4OzPaGQqAa5F\n",
       "Pt/zhSG8zDqVvDi/oa0xu6UkeXqEy9fJazaM9hb51lhBvKhPQwBA6vzHuR50wU9f/LIYnLbWr81S\n",
       "kiKFk1y+TEbkwEqJO6wh5u9fgMvgb5Hu/632CjPwms4/+aB/g+Ho64KU4SWKwe1qjdksJclT9mZh\n",
       "8hwb9FA4PESsDvKL5Af6HfAvxQePAlTowV2p0Ss3vcW21B6C20z0hV2yGCp1rTGbpSRFCl9Veann\n",
       "8azSQmDk5dFyKPWVrRQ39XsplgrpbSjy5aDhKmcoBUYgrbupjSnFi6ajOcEyGD3ud+Tur7d/RP6E\n",
       "A08JedbEqY3JYq89djPZUpL09DXI6ebgYCGlYfrpK4vLkdHWbhmPjKBs/N/aixGTxG+zbZYIIyb/\n",
       "D3URAZ9jTdZgAAAAAElFTkSuQmCC\n",
       "\" style=\"display:inline;vertical-align:middle;\" /></a><br>"
      ],
      "text/plain": [
       "<IPython.core.display.HTML object>"
      ]
     },
     "metadata": {},
     "output_type": "display_data"
    },
    {
     "data": {
      "text/html": [
       "<strong id=\"reduce_5_repeats\"><a class=\"ProveItLink\" href=\"proofs/reduce_5_repeats/thm_proof.ipynb\">reduce_5_repeats</a> (conjecture without proof):<br></strong> <a class=\"ProveItLink\" href=\"../__pv_it/theorems/adabb2e574dae7a349e5651e39721c0c2898ff480/theorem_expr.ipynb\"><img src=\"data:image/png;base64,iVBORw0KGgoAAAANSUhEUgAAAUUAAAAVBAMAAAAjo+EtAAAAMFBMVEX///8AAAAAAAAAAAAAAAAA\n",
       "AAAAAAAAAAAAAAAAAAAAAAAAAAAAAAAAAAAAAAAAAAAv3aB7AAAAD3RSTlMAq1RmmUTNIjK7EInv\n",
       "3XZ/CtNrAAAACXBIWXMAAA7EAAAOxAGVKw4bAAAC1klEQVRIx6WWz4vTQBTHX5O0aRNbCh5EUbeg\n",
       "p/WgyII3XWj9BVaKf4D2Ju4pHoWt1Kte9uLFg+SwLOphLXsVJHd/VfBQhLJZUQQPxYuueHCdX00y\n",
       "k7wJ7T7ybch38j55nZnMBCAdttA+wkOws1O87KYvQvuImwh2dgpVnV6cSLYYAy487Nadvp5eO5Oy\n",
       "9EiUQnWRXtxOtmwI4XEP3F85+JWUszHHcKxwPaD9spZsaArhcQjgbQ59KeU056hxiavkA7iNZEMg\n",
       "hMcHHxY8Pf2ArzrBHDVSCpFJxrskzZsulyaOASzQCVnw1DGIoqROyBwkoBSqd+Pxm6RvDbicyZFH\n",
       "W9za3Hn2qiFnb7N3ZwTQU94ekebWlcehSJ1JKVRXAJ5k1W7BTtjm1nLtuDWUnlj+x069Pi1TroWn\n",
       "mazb2mMaH6fYTKTOpBSqu2BL/7na4DoHF/yDzDE9829BHrsqT7FHajdO0wx1+qFInUkpVBXf7Ujz\n",
       "tMPVh0vTTgNLnUxXxbmnduM0rfxTnf4YUmdSCpURliCrRoD3sRfKDzTraI0irRhk1IggcZNSGKl7\n",
       "nvxMLn/15LGG4i68EAm3PEdaS06B7SFjLdKMoTIfcaTGpBRG2iIrec07XBJvbiVkch4XAhiAQ5zn\n",
       "naPgAsRVlgdQ8zPeGeKJNDDVJQlD6kxGYaRVMnAmPC0LmHjfjT/rQbEBL8kMOf3wGtwA5zdpJJfk\n",
       "6LVabWntIW38mKaxpUYKDKkzo3UQCmy4dqNOGjI518OTZ8kQfQZYnxhNkjAmf7C6TI/tvT1aMMu0\n",
       "2TT/xA5yh0iDakepEUPqTEaJSeUg+rwbCfFYjHcKP29bSNzRSzXmIBcxSkRadbuWspGLiMfMzd26\n",
       "XN0XRA5ygFEikvXt9Y9odntcfFOKV4PN3BrjOzJ2cT0y06SU7O8BZ42Lf2bGfphbY5guSMbiyBpG\n",
       "qWR/YN0X2kd8R7CzU4j+A5GOF95oYLn/AAAAAElFTkSuQmCC\n",
       "\" style=\"display:inline;vertical-align:middle;\" /></a><br>"
      ],
      "text/plain": [
       "<IPython.core.display.HTML object>"
      ]
     },
     "metadata": {},
     "output_type": "display_data"
    },
    {
     "data": {
      "text/html": [
       "<strong id=\"reduce_6_repeats\"><a class=\"ProveItLink\" href=\"proofs/reduce_6_repeats/thm_proof.ipynb\">reduce_6_repeats</a> (conjecture without proof):<br></strong> <a class=\"ProveItLink\" href=\"../__pv_it/theorems/30d71d1ef68459ebc2d035e53cd0055b3dd8a60a0/theorem_expr.ipynb\"><img src=\"data:image/png;base64,iVBORw0KGgoAAAANSUhEUgAAAVoAAAAVBAMAAAD1BjtIAAAAMFBMVEX///8AAAAAAAAAAAAAAAAA\n",
       "AAAAAAAAAAAAAAAAAAAAAAAAAAAAAAAAAAAAAAAAAAAv3aB7AAAAD3RSTlMAq1RmmUTNIjK7EInv\n",
       "3XZ/CtNrAAAACXBIWXMAAA7EAAAOxAGVKw4bAAAC7ElEQVRIx6VXPWgUURCe+7/sJpsDC38QCSgp\n",
       "jHJiodjogb/gD0EsBQ9SCFZrI4QkcFaBiMQmBCzCFSmMhZ7BTpBr0kQMwR8IwsEe0cbiihRGrvK9\n",
       "N29vd9+btwvusN/d3syb780bZmfnAHRxJf5fSmCgTUNIkoIzhkghBY+mTUXIUeE/joctExJmmXm/\n",
       "lMC+q6smUp1/F3GV3z8M6a06wixWDaoJiSo2Nad6qmg5IcNTXhEvQvr8GYRZnD14m7B3rqZq4ikT\n",
       "hRMy8KDtcKaGJWKKaANGkzK1qSqGIZ1sCuTYmYth9bhErFRFpg4yTNMLplTFeMpopxCfO51PYfVN\n",
       "iTfdVx8w51bvyLP1aHa/iq+5BpR2FFbp9k7dzUhJKnU7J2S4AfCSOATUnGP5bSw56Hq3w0vK3UPY\n",
       "BXd4wFGRbueEY0dIBeIoSaVu54QMj6FUCW/3BZFzc/0MPhnn4VLzgFIJmI25eTW1vtspNbcmSnof\n",
       "3c4JGYaa9mSYdgNRhrz/JDXgmvbM9DG5HTW1vtui6mGipPfR7YuIrFcEIloWUfBC2opG1IChPUO0\n",
       "vtt9IloDJb3PFkHIUb/IPnrXf7qRSgB44Fqyxxf24XVo49G+H61eCb7babVuzZSkUrNzQo71R6zh\n",
       "u4eLsumuINYmj4INwNZZS5k2tMAKDluRlaA+Zc2BG1xQD2GiJJW6XRByzLKz52ClLGllq6gu3IK7\n",
       "YP1hpfJ3tV0YE68v9pNdrEVjvx10MNTzxeiGDSsiJkpSqdmDxpoR6dn3aZ8jVnvZyyzbnSZYd7wT\n",
       "ZwFGfjDDN3Hdu4JTDe9jT8Qd6tli6Qbf1WhNlKRStwvCAWm57Y+PIw0ESjYYT04mvm+CxaVt1ZZA\n",
       "Se8T3HLCAemsXc9H5wcpduDaSozWjplhEijpfVr0rJX/9fG3b1iWwPdeMPJ5idEGi4npIZ6SVIZu\n",
       "p00jyZqEkGC9kzx5eHpoUVozJal0omddJv8DeYgU4rg0bSpChn9mlCVBH//KIgAAAABJRU5ErkJg\n",
       "gg==\n",
       "\" style=\"display:inline;vertical-align:middle;\" /></a><br>"
      ],
      "text/plain": [
       "<IPython.core.display.HTML object>"
      ]
     },
     "metadata": {},
     "output_type": "display_data"
    },
    {
     "data": {
      "text/html": [
       "<strong id=\"reduce_7_repeats\"><a class=\"ProveItLink\" href=\"proofs/reduce_7_repeats/thm_proof.ipynb\">reduce_7_repeats</a> (conjecture without proof):<br></strong> <a class=\"ProveItLink\" href=\"../__pv_it/theorems/e0d36935cb8cc0e6e1715be03c164006dc141a6e0/theorem_expr.ipynb\"><img src=\"data:image/png;base64,iVBORw0KGgoAAAANSUhEUgAAAW8AAAAVBAMAAAB73HI0AAAAMFBMVEX///8AAAAAAAAAAAAAAAAA\n",
       "AAAAAAAAAAAAAAAAAAAAAAAAAAAAAAAAAAAAAAAAAAAv3aB7AAAAD3RSTlMAq1RmmUTNIjK7EInv\n",
       "3XZ/CtNrAAAACXBIWXMAAA7EAAAOxAGVKw4bAAAC3ElEQVRIx61Wv4sTQRR+2d1scruXeIeFPxAN\n",
       "aGXjIYd2Ggj+KDwJ/gFnOuGqtRGEi5zVgTZpbCw0xXGoxRmuFWStRYlgcQiBPVECgkEbT6ycNzOb\n",
       "3Znd2R9kH/sF9pt5H19m37wZgGhUOGYIRyFbQDgKeRJfOWaIVYVsAbHKsYAvp8Mj2oAhKarN5PH6\n",
       "UoRKk8waKI24gi93wiPbHElRW0iZsBZhtqGgWGN4iNXXCw+0OJLiZ5rx5QjTKsr4MoPZB7Ab4QGX\n",
       "I6lSLqQZn+/LjFuUcZQm0Em5mEItdhiSwjap8SME9+NnmHKRp0lmD5RGfBiN3od5Y8BgTY4/3mXU\n",
       "zv6LN8JHGTPj3Q2o7EmyPM2WP4lSMjeJ0ojrAE/j/pAB+94Ko5r1k8Yw3JGXmHHimniXDLI0nS7w\n",
       "ygjjky8bK5mbRGnEXagIq1NrMFyEy/3DlNEd/V8p/OltYMahuykvuJ+mySWtlMxNojRirm+3hdpv\n",
       "M2zAVX8rgtGRzHHjlZG84H5a9Ze8pVSSuUmURmieCXHGAT4GnCec3V6CcZ5WdmOMKyRzkihN5TuX\n",
       "yM/k2jdHLBUoH8ArnnDbsULtrby4eOrdQFEqPE0bSjWulsxLojSV3yXHUN05ZvK+MedRWE9KLgzA\n",
       "IszL9glS1hDuzPOxm5PM4Gmg96T/o5LMTVJpKr9OTOjwrOrvPNZttL9bbrkBr0mBnXt0A26B9YcM\n",
       "kldk4FBPaIdkjD1+Gu1+YutXSOYmp/0aSnTRDqan4pDCuumdOU++8BeArYnWIgkj8q9rTXzAeP4b\n",
       "C+8owT2a9Jk+ZAZPg1pbPmwVkrlJKh3IV93pdXmPg8XZ4Ozrp51poRndyGCKZHayG5ZftzuGdInh\n",
       "MQh177Swk65UKZLZSeESaHx/+2O6jRwGdswGvWgn1Xgwo9KLDCZLZidROkYep/cY2LU94L1U417U\n",
       "pSirlsxOCusqxgOOGWKskC0gxgz/AT0vNgJfnl2xAAAAAElFTkSuQmCC\n",
       "\" style=\"display:inline;vertical-align:middle;\" /></a><br>"
      ],
      "text/plain": [
       "<IPython.core.display.HTML object>"
      ]
     },
     "metadata": {},
     "output_type": "display_data"
    },
    {
     "data": {
      "text/html": [
       "<strong id=\"reduce_8_repeats\"><a class=\"ProveItLink\" href=\"proofs/reduce_8_repeats/thm_proof.ipynb\">reduce_8_repeats</a> (conjecture without proof):<br></strong> <a class=\"ProveItLink\" href=\"../__pv_it/theorems/9ce3c48afd4e33ff958d77a81b7972486901f06a0/theorem_expr.ipynb\"><img src=\"data:image/png;base64,iVBORw0KGgoAAAANSUhEUgAAAYQAAAAVBAMAAAC03oSyAAAAMFBMVEX///8AAAAAAAAAAAAAAAAA\n",
       "AAAAAAAAAAAAAAAAAAAAAAAAAAAAAAAAAAAAAAAAAAAv3aB7AAAAD3RSTlMAq1RmmUTNIjK7EInv\n",
       "3XZ/CtNrAAAACXBIWXMAAA7EAAAOxAGVKw4bAAAC9klEQVRIx7VWTWgTQRR+aTbZdJOGQA/+IFJQ\n",
       "erCK4kHxohHxB/8IngsGCgqeVpBCocV4EhRpL1LooeTQg/WgtUcFycVLRQ2iUMTAlupFJXhqiiA4\n",
       "s282uzuZmSdp+siXpt+b9715O7MzD6DTXIHuzQaNbE/N1mWC/BBCbxVwzPNJeWrZ3hrPwlHg/+yL\n",
       "ekYE9PbhRqNqVl/vpEag57aOOMt/34zwThlhsK9/XxLi6Y4SCcmujGdhuMc31EyEt44gDFYgxZNF\n",
       "mSEkuzKehYFXko1u05zAlkqAFZnIwTbYio8kezrpKD0s8B8l7GCYUA8Zk4nh7ShhDPGu0XgbpS8J\n",
       "PFt78gpXx2nufrgcHTL4c6f/d6oC9qqkKsJeyNm0kgRp9PMsDBcA5hSVQTG/16rjNoY170p0yBzc\n",
       "LfkH8yqvIm4i7Jgf2PCtACZJgjT6eRaG22DH9vZHRNJN/kngK3gcTlUH4xPtR9Gp+/IiBGEH5VXQ\n",
       "SVKk0c+zMPRXs6VorjeIDFjl9k12ruN8aeH92JAXIQibliN0khRp9E8j+rw0KEpgZ0h4xb6PL0EZ\n",
       "rE1NCUHYqKIEjSRFGvyjAuWT7Kt5/psb20gA111HXFCpFjyNTrIOid+ajRSEHZLfBb0kQZr8PAvH\n",
       "8i3WwLi70uIEmEcslvZAFoCNcx4narAETnuSjM7NqF7najsMTsiV6SQJ0uj3s3BMsqeUhPmMyCUO\n",
       "qsMPLsM1cDbYTttcqKWG4DlvPDb4xy7Cr2rsUEWeD8YwPENjppMkSJM/vAAS/oNsBbkeIRaafWfY\n",
       "urB+zrnq7T8KMPCFOT75nzunL/pD+e0w7v9Cng0WYfBZLkEnSZBGv5+lnSlTCzrvgQoCrS/s1w6Q\n",
       "l2U42K7LPkKSIpV+nqWdaTJbtuK9U7jvA1siS8gamjpCkiKV/lhHan1//SNwzArgTR52yx5ZQjhY\n",
       "0TmZJQlS7Z/Q9WiLAr6F4/N01+V1zjcuq5ckSLV/Vp2J7S4PsQXLu2rZ3hrPwvAPCq5MKEuzmO8A\n",
       "AAAASUVORK5CYII=\n",
       "\" style=\"display:inline;vertical-align:middle;\" /></a><br>"
      ],
      "text/plain": [
       "<IPython.core.display.HTML object>"
      ]
     },
     "metadata": {},
     "output_type": "display_data"
    },
    {
     "data": {
      "text/html": [
       "<strong id=\"reduce_9_repeats\"><a class=\"ProveItLink\" href=\"proofs/reduce_9_repeats/thm_proof.ipynb\">reduce_9_repeats</a> (conjecture without proof):<br></strong> <a class=\"ProveItLink\" href=\"../__pv_it/theorems/4d80a022877b8aa5cee405de1b4a2b4dfa91bea20/theorem_expr.ipynb\"><img src=\"data:image/png;base64,iVBORw0KGgoAAAANSUhEUgAAAZkAAAAVBAMAAABmjo7qAAAAMFBMVEX///8AAAAAAAAAAAAAAAAA\n",
       "AAAAAAAAAAAAAAAAAAAAAAAAAAAAAAAAAAAAAAAAAAAv3aB7AAAAD3RSTlMAq1RmmUTNIjK7EInv\n",
       "3XZ/CtNrAAAACXBIWXMAAA7EAAAOxAGVKw4bAAADEklEQVRYw7VXzWsTQRR/2U2yyW4TCh78QCWg\n",
       "eNBDgxS82UjxA2wl+AfUgIjgab0IQlPiSbAIuYgoWnIoYj3UWDwIBQkFvYgSi4cgBLZSKXgInloR\n",
       "ROfNzHZ3Jvsh7O5jf9nd38x7v7ydN7OzAMOmcUQw8z+5uMz0j/+NI4LNDFPFUoLZzHCM4s0Rd4vS\n",
       "ZggwY/VNcPRieYg6kWAyVA9xFm+uu1uecfibdg0OhYS/IRN6LclsqB7BHfx3TXfDJIe/ZS14FBJ9\n",
       "XCbS5USzGWfItkjhCCXd4fC3sVZo9BG5y0iiyVA9ApU8s6wwbWoMAfaEn/cS3PYZPnkojiWbDeoh\n",
       "Pvb7H4SSaDPogwPzK4xa3ni+6h6+9/ObVTzXG6D15PnB3IxRib8IPiHjIVEPcQHgsVeWadiwphlV\n",
       "KR5Od11dtsuwRleDHiYkzQ/mptLRne6jfcbLq+ATMh4S9RA3QROeY6HEcAomWnsoo5rq75SrcvS/\n",
       "AFN0XtTvykNjuynyzFsHn5DxkKiHyLeMqjCfqgwNOMeZHKSFeaT/AZigPlpfHhrbLfdT4t+BT8h4\n",
       "SNRDKFYWvLIB+ORwltBlm2RT9smGu2U6Htn4hIyDRD2qWTtNfgbnN02x0iCzAy+4wxVTd6+4T+2x\n",
       "8ag07qZ0pXmzDn4hYyFRj2qukHdo0dyf5atW3qLQH6Q60AadMEvVg2AAOPmMkXnjtQqQHtwN1KaU\n",
       "5AJ4h4yHpHpUc5YsAios5Ow9GFvrlF+LnUwJXpL6HLs3BZdBJ/WFt+TIt/U1YYUmbeyw3egaL9gr\n",
       "8A4ZD7n7XoEUfbw7tmyuS6Ffso6eJDX3FWBxoEwShz55FIUKHvD6DPXZR3CLOn2hB+nB3aBQlbK5\n",
       "D94h4yGpnqOZ6+x+0fQ4mB13Ngmh+xlXj7rcVmgEh4xI1t2as0YtLW3guDkVY4RuLwxx6yqYWgkO\n",
       "GZEUtsrp729/2Nd5k4G9W5yVcDk0G6eH1hxqfAhBISOSqOehid2bDOwzyOGt0GycHvnhz9olCAoZ\n",
       "kRRGQLQ5jgi25fGJZ0FytsXwD3Y5ZPOuDgT7AAAAAElFTkSuQmCC\n",
       "\" style=\"display:inline;vertical-align:middle;\" /></a><br>"
      ],
      "text/plain": [
       "<IPython.core.display.HTML object>"
      ]
     },
     "metadata": {},
     "output_type": "display_data"
    }
   ],
   "source": [
    "def listvar(count):\n",
    "    return [x for k in range(1, count+1)]\n",
    "reduce_2_repeats, reduce_3_repeats, reduce_4_repeats, reduce_5_repeats, reduce_6_repeats, reduce_7_repeats, reduce_8_repeats, reduce_9_repeats = \\\n",
    "    [Forall(x, Equals([ExprRange(i, x, one, num(count))], listvar(count))) for count in range(2, 10)]"
   ]
  },
  {
   "cell_type": "code",
   "execution_count": 41,
   "metadata": {},
   "outputs": [
    {
     "data": {
      "text/html": [
       "<strong id=\"tuple_len_1_typical_eq\"><a class=\"ProveItLink\" href=\"proofs/tuple_len_1_typical_eq/thm_proof.ipynb\">tuple_len_1_typical_eq</a> (conjecture without proof):<br></strong> <a class=\"ProveItLink\" href=\"../__pv_it/theorems/a13f1515d746034b6a3eb75a9e56492eaa09acbd0/theorem_expr.ipynb\"><img src=\"data:image/png;base64,iVBORw0KGgoAAAANSUhEUgAAAKQAAAAVBAMAAAA6DViiAAAAMFBMVEX///8AAAAAAAAAAAAAAAAA\n",
       "AAAAAAAAAAAAAAAAAAAAAAAAAAAAAAAAAAAAAAAAAAAv3aB7AAAAD3RSTlMAq1RmmUTNIjK7EInv\n",
       "3XZ/CtNrAAAACXBIWXMAAA7EAAAOxAGVKw4bAAACP0lEQVQ4y42VMUgjQRSGn0nMJhsNEa4+BMEr\n",
       "NJJCBC1CQIQDEQVbixwpDmxcS0EkVlYSu4CFro0gChpF7DwbERXRE+QOjkA4G8HiDkGuO3xv5s3s\n",
       "JGbEDWz+zPvet5ud3VmA15uHH9ocML6cRspRcN0PB5ptyU44FOG3/N1ao31iogGTAwgHDPZRSFHs\n",
       "MtkekMrQHg/cv6FEGJZ9ZqgPwwjFrwbq5lm5qUaivlWJsPthxmeG+jAs0pVYMdBIhpXDaiScsyoJ\n",
       "hj8+M9SHgfSJTgNtA1ae6KELq5JgoRSM6LuAMB4naqLdXArl9VDBquzWyoJSYriqVi9NdJRLEZqd\n",
       "2eMF3FesylGtrCglhs8AqyZa4FIUT7/1DNaRH9DKsSpt37WyoJUDSolhFpyUqbzlUjte4J0MjGHs\n",
       "tZ7lrVb2KiWGuF9Pn3KpDUfHAX5hLFmVp1pZUkoMoVrd7NQpz8F9xjj1DuWUUlLIZ3G3nT16/cfd\n",
       "/xD+izFtvZbBH08rJYX9aXwKfsT+sXKNS/EauE/Qkv8EMGg9yzWtHFRKCvM4O5FcTN3ZFS4lUtSR\n",
       "zuXkrdJcKW6db566nQ45tBTpwiXVtC9zKXYDsPG49BGrd1YlwR3XXzKSEX13XN/14kO+jO1FfiB/\n",
       "6pXxxqokOGCoTwaaXq806QeLhFD2mwuJRSlXC8VQnwy0hA73HSi2zMq4xwNzb6yXZZOhvrlmq/oW\n",
       "K92V4BhW5ZbJUF+5mdKpwYMIC/ziEGebLDa+T4oMBwz2YXgBX2OuRyKWHqQAAAAASUVORK5CYII=\n",
       "\" style=\"display:inline;vertical-align:middle;\" /></a><br>"
      ],
      "text/plain": [
       "<IPython.core.display.HTML object>"
      ]
     },
     "metadata": {},
     "output_type": "display_data"
    }
   ],
   "source": [
    "# This first case is special because we cannot represent an\n",
    "# ExprRange that is trivially singular (that is, \"(1, ..., 1)\"\n",
    "# is immediately reduced to \"(1)\").\n",
    "tuple_len_1_typical_eq = Forall(a, Equals(Len([a]), Len([one])))"
   ]
  },
  {
   "cell_type": "code",
   "execution_count": 42,
   "metadata": {},
   "outputs": [
    {
     "data": {
      "text/html": [
       "<strong id=\"tuple_len_2_typical_eq\"><a class=\"ProveItLink\" href=\"proofs/tuple_len_2_typical_eq/thm_proof.ipynb\">tuple_len_2_typical_eq</a> (conjecture without proof):<br></strong> <a class=\"ProveItLink\" href=\"../__pv_it/theorems/ea829ad18bac1edbdfbf6d39ef731724c67380eb0/theorem_expr.ipynb\"><img src=\"data:image/png;base64,iVBORw0KGgoAAAANSUhEUgAAAPsAAAAWBAMAAAD0hvfJAAAAMFBMVEX///8AAAAAAAAAAAAAAAAA\n",
       "AAAAAAAAAAAAAAAAAAAAAAAAAAAAAAAAAAAAAAAAAAAv3aB7AAAAD3RSTlMAq1RmmUTNIjK7EInv\n",
       "3XZ/CtNrAAAACXBIWXMAAA7EAAAOxAGVKw4bAAADO0lEQVRIx72WQWgTQRSGXzbbZnezmwQFLxUJ\n",
       "CD1YlQhFqIcaSC2CoAGvxUZ6ED1tQRDBSjyrNLeKiKwXoRRMqhS9iAERRBGiVJRCYNVDgwfJqZUe\n",
       "rPNm522S3UwWPPhChp+3b/9vZnZnZgFkYbOfEMEL/bIikYDISFBrDyhKZWGNRG9c4O1a8AYv8T0a\n",
       "P+Rimyxyowzqg+GiMTIc60oaDxqsPzk5XqkBaBty9NXpewA/BB6NTqG+FKozSsIQRSeG86y5Isc/\n",
       "Bng0vSOf9wq8KsKw4+HR6JaXDYaaE4ZqrjudxicxLscX8GnJ8TEbzDrE8wLPjLAryWyo0CRDsyc9\n",
       "ix03HSm+Phhv7kBsG+CdwDOjOBvdcLhwlAxHe9Iv+RPIyfBKKWL0DYj9BpgTeDT60Gy+DxeeIQKK\n",
       "xMim66Uv/trD7szI8GptMJ6F1QZYFXg0Og1wP1w1RwQUM7buWRpbTtWGeIkuqk0eGcLzeRmMX2QD\n",
       "OS7waDQPiQxd0y6T+kQEJozXoDZ4VtkB0wWlLhu9lY3Ef2T/wwKPRrqDSsQIiTdEYEJtg1Xz1kMJ\n",
       "0jXQ2jK8WYzCq7jIFgUejRS368172w9vVqDq9ZD1YjYLQ/V/xx/DZkbguVFpkjUrk89x8v98c8KT\n",
       "X3XhpL/szzmgNGTPPnLy2a54DeAITT4aPWWbj/FF28Y7N1J5r+4hEZioZmGfYhuIL7P3AOIV2eh1\n",
       "V+CNMJmP6zbAT4AJevXQ6AbrvJrXcCL0XFzssatEWEVTZV2FKrsSy+l5sbz64vmSTLKBYDFvjK1u\n",
       "kVifmmp4ixnx3ChWxoeWwjvNsipWwV0iMGEceDHfAoudJMYI7qpWUYbXmHds/9ZeXgwWzuQ6iSYb\n",
       "vrW7u8u68lngLXrnq7Z+gl1Ogyn2X6ssCCi8OERiQb7nfw0Vdx674x88DYFf8Ddje/G8swKWMyES\n",
       "eCyskfCiRqIgx4+Hiv1I9hxnHF/wPwEKR5/Bnax21qXMEhGW6Ah2O6emFK/bgeJOPPHVdXHeBw/a\n",
       "7oNvmQjL9PlDVzxEf7xRCRR3otOhJYHXe7+2hpzuLwMXWiR6Y5O3raC9l7gZ/bGV4tRUWRj5EYf/\n",
       "Hn8B42zx2J9lj5gAAAAASUVORK5CYII=\n",
       "\" style=\"display:inline;vertical-align:middle;\" /></a><br>"
      ],
      "text/plain": [
       "<IPython.core.display.HTML object>"
      ]
     },
     "metadata": {},
     "output_type": "display_data"
    },
    {
     "data": {
      "text/html": [
       "<strong id=\"tuple_len_3_typical_eq\"><a class=\"ProveItLink\" href=\"proofs/tuple_len_3_typical_eq/thm_proof.ipynb\">tuple_len_3_typical_eq</a> (conjecture without proof):<br></strong> <a class=\"ProveItLink\" href=\"../__pv_it/theorems/9910b0525b62e71e9713397a4eb7fa98245ad8290/theorem_expr.ipynb\"><img src=\"data:image/png;base64,iVBORw0KGgoAAAANSUhEUgAAAS4AAAAWBAMAAACMMGwEAAAAMFBMVEX///8AAAAAAAAAAAAAAAAA\n",
       "AAAAAAAAAAAAAAAAAAAAAAAAAAAAAAAAAAAAAAAAAAAv3aB7AAAAD3RSTlMAq1RmmUTNIjK7EInv\n",
       "3XZ/CtNrAAAACXBIWXMAAA7EAAAOxAGVKw4bAAAD3UlEQVRIx8VWTWgTQRR+bjY/u9ndRBEVijYg\n",
       "eLBqAxZBDzWQCEpRA3oUTfEgenF7FK3Eu6W5SEFE9iRIwaT+oCBqQApSFYM/KEpxaw8tHlQKVuhB\n",
       "fW92JtnNdkI9OYHJtzPvm/ftmzdvB6Bzi+OPNVtmYXO7lQ139sWZK2B9gWSR/q2MzOI46z0rX7vH\n",
       "6f/Qoi5nEkgT3CwzVWrcY49vUL/W8D1ZWbkupAOMODwchdNlqabzd68AzAomgn0ET8nMb3CPesk/\n",
       "Gsv5n87IdSFdX3uW6zoHyZ8yP3oOejMQczgTwSV6k4rMPs89qln/aCqwqX1yXXnqvnNd6wFeyPxY\n",
       "C1AtQSTHmQhIY1KaPHXu0QiMnnD8T4Yj1VX363rlQLfs9EQnIYVbMiWYUxDBSMSk6VXiHrcEhh8F\n",
       "nmJZmS6l5Ne1EaBbnmDQi8ucFEwEL6enn8ts1Rr3OEC73TXnHRgY/LaGGzyeLUMyLdNF9JYubJ87\n",
       "HMY32E0IJoL9AFdlxhQK5pFe5JitLXlJuuhUvQ0ZzqgViJSELnWatbRYnUXSpyvxWyorMbMB+12C\n",
       "iWAI4unm7OmgtZnhHl+jmqegevVBWQLDi9wnAkpdFi8zE9RlpjtULzyPsE0wEWiOb82uoK1R5B4n\n",
       "MRg/wKx5u1uCFEMqi1/ih0yXUQzqOtCpqhq42KhgIlBcX9o/k+syKlD1nKO8EywSBqsv0foKdUXk\n",
       "4UqUQVvAVBFMAqV+7Mb777MEmGGHftYN72PVhb3N8nWY+aoyM6Uhy6+2feyBuKxOpJaYru2CSeA2\n",
       "Fmz9feIXlbePFpW2d4m6Z6653ON1FJGBdYqt0yJlzDUGMK+LEKnI4qW5QhdJS9TAcvSwJpoz0mwf\n",
       "dwsmgQv4fmqOSdGydLjUis7rDJUA5nGCnChvVarKsCqr5RjAw5gse9VgWV2sgsATG08wHd5C4SCj\n",
       "sY4NNQFWUapfA4JJYFWZMsGiNYyymhZpwba9wT2OIH/Tg6F5MD8i6sLvCwF4uPMroqJMF9Fh9avB\n",
       "LExjUD7/+bPo0UzalLcC0BwcLVyhjRLMd3yVqq3twekUGJgSqVYWfOAezWah3hoCw/Lv44fmh8MJ\n",
       "0SA8F29wZlxcWAx79IgzDqazG8YhVoRa65vMPEaaN4haCOTluvrEUxJCNAjPebeDe75rQjS/4w5c\n",
       "ziQOudjH8/3iFTSbexwTFxK3HXiXkeV1aSLyt6Cd1mrNObwJcea5oEXG1/NlKtzjTXEhgXbg+V5e\n",
       "ly4uUG6I1motpWOCORb8dDqtXrSLYLHUiruykjjn+Wu/Kcxz+j80y+ZMK1jmIr7+f7e/DKgYwj0/\n",
       "9P0AAAAASUVORK5CYII=\n",
       "\" style=\"display:inline;vertical-align:middle;\" /></a><br>"
      ],
      "text/plain": [
       "<IPython.core.display.HTML object>"
      ]
     },
     "metadata": {},
     "output_type": "display_data"
    },
    {
     "data": {
      "text/html": [
       "<strong id=\"tuple_len_4_typical_eq\"><a class=\"ProveItLink\" href=\"proofs/tuple_len_4_typical_eq/thm_proof.ipynb\">tuple_len_4_typical_eq</a> (conjecture without proof):<br></strong> <a class=\"ProveItLink\" href=\"../__pv_it/theorems/832a535427d344622a1a104d77976d09fe0844cf0/theorem_expr.ipynb\"><img src=\"data:image/png;base64,iVBORw0KGgoAAAANSUhEUgAAAU8AAAAWBAMAAACyFQNKAAAAMFBMVEX///8AAAAAAAAAAAAAAAAA\n",
       "AAAAAAAAAAAAAAAAAAAAAAAAAAAAAAAAAAAAAAAAAAAv3aB7AAAAD3RSTlMAq1RmmUTNIjK7EInv\n",
       "3XZ/CtNrAAAACXBIWXMAAA7EAAAOxAGVKw4bAAAD6ElEQVRIx81XX4hMURj/9s7duXfu3js7S/Gw\n",
       "2CnlwZambMTDmtolEqa8ihElksajsoy8rsybkrhelLbMIFHCSkohEhFtLh52bdFSljxY33f+7Z17\n",
       "5+yMN9/W2V/f+c7v++053/nuWYCWrIQ/ArQQS2a16G6JqdTqinQWbkjQ1HaysaMQcXOCj/8iVDER\n",
       "yBBe2mRFr8zTG3I6557HI+2D+XROL9SoYchb4bEG95f1Oe08KCYC6wnvm1unUxR5CMxaMt8gtjML\n",
       "B/RCLwFc3PBbeI5Axw99Ug+3UDEhOEF/WmVuoWZO5DFzEU1x2+VDn17oAJWPFLoQ4Ik+6RcUqpgQ\n",
       "JH2ETSrPlXncqKa43cEoXyt0NCz0mQ892mtir8qEmBAkcJOSTUp0mcyzLKopbnuRLqcTahTDQhcD\n",
       "9GiLtCOZCTEReDo29riJ0M1SKAGrezzg7t1f54mAu594Qqt74jsyZ3RCzVpYKNp7bc5xEqqYCGwE\n",
       "ONtE6B4plMCOUopncqb9Kj+5oazJq5zPJYpSqDnGLCOFsh0KCbX/6FJaORKqmAgcBiujFu6vi74n\n",
       "DuaFFIrAeQAmb0vGb3D53r4TgOaQ0RjV7aiXrRfqZbQnDyRUMRFI+SHO7rro4+L3QykUgTkFXo33\n",
       "giJ0MmTKzGLOntIJdQv1QjdpD3E1E6qYCBhB6C49qov+3ECoW4Eq14CadrF24cruJubaR1sUmtBu\n",
       "qBUwoYqJgWI/DiP9N1nNfGAN4VPAXIcgfvTVANapNrqNNaiquFxyzniuq9HI0feCpWlP7V1dPfdr\n",
       "s0wMXMO277y2fxLH2zR9bV7Zo8z1Syw7L4UiqGZhgVFySGgZa5IBvCIFAnwOEhXdjqYCIdRhN6IG\n",
       "ad+Jq+Tt2aXLJJkYOIoeM0/aIJWj62VWnDJzTYmVV6XQq5TLeGlCFcPacqk8A3jlO8oE+BxvQg2F\n",
       "8naDW0LRMDQ4uIUjGpzpMMA/vxJiYqCtTMWTJg63bGZEJZFL1t4pKRSBs+TW4Qnw8GHhdOMHkQDc\n",
       "XjnJPWwOvIJOqI0n2LZoej5f9n5mZpojj87xpQRjtKXmhW/BLJMn2aql1Fqc7gQXq6izJFyT4hvp\n",
       "lYVQT31IlusBDOm/9W/i0ctjR2/4MaYh9TUvnd7uj4Dnr4ERSBagNkKuk2JFIi/yJNR7qaYH7OWh\n",
       "EdoXj6416KExpgF1ywZWXIfhrL01wNEa6PeHs8wl7Ix8j56RD79AC8RbrLHQVCkaPYuUXYkxRZ93\n",
       "2dgo7LIUelk++UELhJjGQp1KNDodv/VBjClV38Xa/egY6r8TEjS1cS4g+i7iBMf+5V8RxTRe70/E\n",
       "xv/I/gJA/DPJmTyfawAAAABJRU5ErkJggg==\n",
       "\" style=\"display:inline;vertical-align:middle;\" /></a><br>"
      ],
      "text/plain": [
       "<IPython.core.display.HTML object>"
      ]
     },
     "metadata": {},
     "output_type": "display_data"
    },
    {
     "data": {
      "text/html": [
       "<strong id=\"tuple_len_5_typical_eq\"><a class=\"ProveItLink\" href=\"proofs/tuple_len_5_typical_eq/thm_proof.ipynb\">tuple_len_5_typical_eq</a> (conjecture without proof):<br></strong> <a class=\"ProveItLink\" href=\"../__pv_it/theorems/831416d8afd15f5a40c06a3513744e4ffeb97e790/theorem_expr.ipynb\"><img src=\"data:image/png;base64,iVBORw0KGgoAAAANSUhEUgAAAW8AAAAWBAMAAAD9SACaAAAAMFBMVEX///8AAAAAAAAAAAAAAAAA\n",
       "AAAAAAAAAAAAAAAAAAAAAAAAAAAAAAAAAAAAAAAAAAAv3aB7AAAAD3RSTlMAq1RmmUTNIjK7EInv\n",
       "3XZ/CtNrAAAACXBIWXMAAA7EAAAOxAGVKw4bAAAEV0lEQVRIx82XTWhUVxTHz2RmMvPeZJ4DFlzY\n",
       "moEuBIs6CyltF0Ngoq2CJtB9yUIQhcoEuhEbfaXQLiqYRemiYL3ZWEpKM20UXekshNb6FUrFkBAc\n",
       "W4pfEKzFVCxozzn33Pcxb24646o3cOf/zr3v/37vvvPOuwHooeXwT0QPrR7pE+EXcMp1MPuP9hsU\n",
       "RkX00N7j/kx7+ExPTnmAr8UJGUiUSL/a1cl9DQFHEbZvrnaY+snFUHsVOzg55RfMAx3e79uuPbDy\n",
       "/oI4IQOJ7aT3dQV+CgT8VCy8t9PcRxF9wA6OTlM7nkrkEBQe265dvL6oxIkYUHxEtzrZFXjNgNes\n",
       "jKZln0YOttnByckzc9cBXLFdOxU6EQOKfryRQrkr8KYBb1oZTSvMRR+zsoI3o+DXFQzWVwVnJ2JA\n",
       "kcZ06e8uxccEnISF0bT+oehBxQbOTgH4KwCD/qrg7EQMJK4uLV3uCjzTEHASMH7+iGBtuC0PrLD8\n",
       "hhbj549LaHp5F8ZLNnB28iKP7JY1Varf++JEDCTeAfiyK3C6SwYnkf0RTioOzxxw/9ZF4RfYqZMn\n",
       "GMvOw2cA6TEDnlniVjLgvIIR8Pwz28UdlXssTsRAYhxypeDE/bHZF2IPrlgWcBLfVmC3Dm9VcE2P\n",
       "N0Tg2A49drQCf2BCNG0rTk5R8GJplYU7IU7EQMJR8lWhtj429Wi8lI4KOIkRgEUdRsZ/WIwomRiO\n",
       "nVx+gHPzD23g5BQF37naEx+pa6eCWPa1Iu/mT7Gp9+zgl8CVmrsIWV0QL5mJ4difOmGaXYKn7Qv+\n",
       "BYL72okYWIxV6S2qnuUcu80F5/cWhw7y+1WtJFPFfQbph6aMZ/jKrsnPyJgO9c3ZcrwtVV6DnK0c\n",
       "4ud5UJw4VUj8gJ8h92ae3jBvwaM6diPf5NATwpgHWQenJeAo3EeQGtsIdJdPKKdJ/IULQSIyhhnT\n",
       "hws5aVtxsmRwl9+wBnjKTUKTU4OfKDvxy0niQwTLDBErOBV6XTOTrs8hWrdU6bCsOJUgBifxFWwe\n",
       "GnJX8GgtfA4sMEHPsQjHXgf3bSl6HcF1ecMlm6FyMTE8vJsVn8tdcPQBeD+LEzGwSPmUbB55DPiZ\n",
       "kmQehei2BmqbTMmZE3ASUw8+3eDDEi7G1Gm8MRKF2arSkWDMm6U0LI7awMkp9fLKWijSRuvW8+cr\n",
       "Wv0K0hUpAcgpN/ySEidiKJp6MlN33sKBNTCAWbemLqH7yhxwmzef/PngY6qsIqIm7HuVwGkTJJXF\n",
       "iRgmgopRP/6umoaiehOmoX8UGtMU+hhDThka4WZJg28LPvd2EVE1O3jgFG6UG8mNT9yJGIJtXra2\n",
       "ZRaOlfN7WtjnalV1rCwhd0/V3LBTF3DHPIXvwCpCpfeencGNk9sy4VDZnJChfTtbTvQQ3Te6kwLu\n",
       "mvOCiyRFqDRcZ3Dj5IX/diSrSpsTMjjxqplV7b35kXYEPF9ED+0O93fbw3df1AkZ7sTj6URvfv6H\n",
       "7V+IJVqZtR7hjwAAAABJRU5ErkJggg==\n",
       "\" style=\"display:inline;vertical-align:middle;\" /></a><br>"
      ],
      "text/plain": [
       "<IPython.core.display.HTML object>"
      ]
     },
     "metadata": {},
     "output_type": "display_data"
    },
    {
     "data": {
      "text/html": [
       "<strong id=\"tuple_len_6_typical_eq\"><a class=\"ProveItLink\" href=\"proofs/tuple_len_6_typical_eq/thm_proof.ipynb\">tuple_len_6_typical_eq</a> (conjecture without proof):<br></strong> <a class=\"ProveItLink\" href=\"../__pv_it/theorems/5cb7434a68e6f9d14cfedb5422e9391a929fb7df0/theorem_expr.ipynb\"><img src=\"data:image/png;base64,iVBORw0KGgoAAAANSUhEUgAAAZMAAAAWBAMAAAD3OGyNAAAAMFBMVEX///8AAAAAAAAAAAAAAAAA\n",
       "AAAAAAAAAAAAAAAAAAAAAAAAAAAAAAAAAAAAAAAAAAAv3aB7AAAAD3RSTlMAq1RmmUTNIjK7EInv\n",
       "3XZ/CtNrAAAACXBIWXMAAA7EAAAOxAGVKw4bAAAE50lEQVRYw81XXYgbVRQ+m0x+ZpJMAgUVWrdT\n",
       "BIWWaqD7og9pZNeq2NaALypqA1qkRST7KLptxAcfXLH+gChaZ6EIsmJSbbGwuIaV+kN/rKXFtbJ0\n",
       "agtdW5Cl0rVU3PWec39yk5lbTJ6cwOTLmXu/c757zj1zA9DHVWMfvFLQ32WY3QepmlLrLxLXg4ME\n",
       "futTylN0z1S6zH2QKiYEBcS39RTJOuE11tSMnxyLGJl+rhyyWVO+WzRLQdL0GWFJjeyoG8PITB0C\n",
       "xYTgPsTP9qLEqQqvH3eYn4kam/dCpv3jHuw0S2GkE5uuC8sLkLlqCiO1HW6FNhMDL6N1Ty9SrKLw\n",
       "OtxhvhI1dpsfMs085sOQWQqSulLKzQBHTWEkA3gP2kwMJJmzjNeLlKz02tKtietRY78KWWhc1jdK\n",
       "aelSfvRhtWlD30WrpJgYiLM1Tva0VW4XXmPVjso9ETU2XHU0Llk0SSFSJYVV0GrTZvmA50YyITg2\n",
       "N3ekJykPCa8W7vrR6V0i34PnZG6nz3P3qZXzouqc6Qui0uKrfmKdIFMwSSFSV8vwWVMY3752oaIx\n",
       "IXgA4P2epDwtvOI6JL6Dj3iQjZ3OX/z5mGfxvfdEzRYxPVlPy26XD1BQVUqx5ugqgEaqS0kvmcJY\n",
       "LMKMxoRgFFIFNXFHx+iv9eTuk7v8pPCaY1n4tAhbVOke5+hXyAaUim/A4jWY+hNcmYLdyBlrmbKC\n",
       "pLqUXMHUR5cBNvttJgS2r3Gu7Bi+W//x9qMCHBZes2zawxg5XZsA/uYNTsZhLUCO58Je+uOg2q20\n",
       "ZAsmKUiqS3nQ+Er4B2Bjpc2EIBZou/77juG/6z8UvS7lB3Cuylwk+MbIys7OQINHmy909bRE6z9K\n",
       "iReMdb7IpBTbTASqJXabLH1JlXmOmtv5gEzPA33RG3XNES9cYM4SxBfka0WkoxGIcQxs1PaHuN6k\n",
       "V/oJ017pKrB1kDI14w8pK4qJwOfsRen8nMZN655x8aRxOt0i0zVM5Cw/28TVa3Sv8GoH4FyBgeod\n",
       "gPKv4b5BkGfKKw5K8eCmWA0R1pkHvD0cV2SRWbEDIcWhQmyC6zthGT6v1M0aE4GXWKhWGaMHu4iN\n",
       "wNrj1MmECz5QeJGyYqnT1H7hFdvfXlhfLjss17AC3gECrH1l6o0qRhU7ZQEiRrqvRg8hRfVILTdS\n",
       "Cm+ubFlxHoyNjGwhRJPppn7ZTWdGYyIwUMcSdZEjW7cKol7RhEKzw2v51i1Kj68Lr2mW0onLrw7W\n",
       "YY6t0sQBNgABTG24BDl2IHQGD43OE4LLGwLxMEb1mKuYpCDpwKrFFXze2eXlRY5OgbjlcEmJ6sC9\n",
       "dY0pJ9kaNfse9jgPWVar+ZowXfLlD1Sp+mNdnDFmpSXmdwNYCyFEDy2q1jHzGWz2BgwQcthmGlPn\n",
       "qtobj/iTkPPvhklIVqA5iaZXmMn2oOmw5DXU7HhZeB1Sh5EQgGYY4cM1SU8dRKOlDN2AAcJ+FJM6\n",
       "2yaG7/wCxr301oDdU8Mlf9wTJmdryU+zohxvE70rvNqyuXwG3cAJwggf/kJ/DPhJPFqKJI1igJAf\n",
       "xdR9uPdCd/EV01aL/csSXh05XflSwIUwwoel+9vhRkuRpFEMEPKjmOzOnp3wu+/y63F46xbtT08A\n",
       "8wR29fmH+CIPsfvM2wepYrrYaY+H7vKrCNMB/N+vfwEw2H2CvY1grgAAAABJRU5ErkJggg==\n",
       "\" style=\"display:inline;vertical-align:middle;\" /></a><br>"
      ],
      "text/plain": [
       "<IPython.core.display.HTML object>"
      ]
     },
     "metadata": {},
     "output_type": "display_data"
    },
    {
     "data": {
      "text/html": [
       "<strong id=\"tuple_len_7_typical_eq\"><a class=\"ProveItLink\" href=\"proofs/tuple_len_7_typical_eq/thm_proof.ipynb\">tuple_len_7_typical_eq</a> (conjecture without proof):<br></strong> <a class=\"ProveItLink\" href=\"../__pv_it/theorems/8bcbf85274f428551a55906a6afee84ab8d821c00/theorem_expr.ipynb\"><img src=\"data:image/png;base64,iVBORw0KGgoAAAANSUhEUgAAAbIAAAAWBAMAAABXpwRjAAAAMFBMVEX///8AAAAAAAAAAAAAAAAA\n",
       "AAAAAAAAAAAAAAAAAAAAAAAAAAAAAAAAAAAAAAAAAAAv3aB7AAAAD3RSTlMAq1RmmUTNIjK7EInv\n",
       "3XZ/CtNrAAAACXBIWXMAAA7EAAAOxAGVKw4bAAAFfElEQVRYw9VYa2gcVRQ+OzvZ2Z19ZEURsRKm\n",
       "CBVqayNKsRU2C4n1UZoG/KOiuBJBLKITECQY2hV/+MOErVqI+KNOoRRKpLuxDwNiUipFm1JNQoJ9\n",
       "EJjaUmMrMbY+SiqJ59zHZGZnb2iSX96WmW/Onvnu+e6959w7AVh2s/EfNQNW2IzaNIbsZqlM+MqK\n",
       "YspYcJSBn1eqrM6la7KtyswN2M3tidrsMWFcBLIE719GPA8CV6ZVfMaDZ2p4xt/Ih2z6187Cw6VF\n",
       "lGE30CN9397yqSocbX5+/l/ORHEheILga0sXZhaEsgMB86u1fOvD497f7bPFHKUy7Ma86y2hzNgN\n",
       "Q22KeJJ7WlrGOBPFheA9/saSm94olDUHzNdr+b7shEwnnvfZonmlMuoGfhe+ERtSx1XKUEaeM1Fc\n",
       "CEhl0lq6shQIZYGu6mZr+X4TTq2g37BSGXXjKUvNQuQf1WpE4YKJxTUMURyU2DLSbI1g0AqBaEZq\n",
       "+YaXaJVfu1LZGr+yyAhEbqpDGhBMLC4EZyYnTy9D2VbBoFMB6RjcKTKm4aKY/+T0YyI5Vk2JJWoO\n",
       "XhYhRu8bFUVFG/wFh7ZfqWyrXxm29Iy6OlJO9UtlCJ4C+GwZytoFQwwDq/sOPuedl3eYfLkYY/A0\n",
       "d3zRToil91IxLutovSvAMejCgDZ6yrZNUhv1lLVXKSu5yogi5L9RKkPQAUbWq8+vB3yHir6H/cFS\n",
       "MSYY0jhHXzTCNm7d4MAPfGwrApjfgs4XrHEDMnJedglmbZaJXKecs7EqZaPqse6iyzqpDEHC8XGu\n",
       "Cvju8j988lzgt5OCIYUvbwe4wK1bAG4xsF0Go8+QSmqJuemj8u0Nsg5loYSHjJJS2cmgMn2RKn6M\n",
       "zalUhkBzfQXk+4Dvr/6HqqrnV3YKzL+49QLU8aQ65dXQ3VDmMddnw9WyZMFvtGJvV9nDi+THORBM\n",
       "LC4ChRxe+nJf0Wqcu8g2zUsuM70J7EZbCqw+TaUhOp0Lr0ZzDqIzcjvT2QigSbSyC01VuYXtI3Fv\n",
       "shlcr8yz4GrE8847yqPDHyCYWFwEvtyB5p/ilPmZ8xmqWRPx48xEFdY8yw9gUbYOLnsx7RUMCRfM\n",
       "6xApPADU/U3KOQI3sK4wULbgbs02eeqBBTxIykFCTWCiJ2xSztleqYy99yHAVQhv+ybbIv8EwcTi\n",
       "ItCFket5EgOJxmiBFrNZZCaaiEj2XTZnOkk2ZnmxEuWVGJJZ6n59Pm/+jU93wh5gAAvjAAMJVxvX\n",
       "oYy0SL3fZjYwcPEyVLYjs6K211bGqviQzb2N8ZaWEf5eQRB4T6DdkpsRi4tApEjZkqGZSRX1LE8d\n",
       "ZqJpSjWv5flP+jA4eQboEQxx3HP3XfugoQiTOJj7jqAbgeThnMOA2TDQMQXp8+h67RGX/wgajRmh\n",
       "uoYjtGdPKJVRN3f8+Eoj807jqbfAEY3zOIgLYzdOgGBicU3IbLATm/GFekhhNtXbwnTVkQ8kmjrj\n",
       "U8vKelGcrs565xtHCQDWBrxo/MSvMYzRGFEqSxdDXFp4OXrsjIniMuQhJ2WXnnX6IO1sgj6ItUGl\n",
       "j0zvoylhQcXEDCk7+IuWjWR9p1im7FHfmVQFACp+2+qYxVH8XigVxbG3trJoPsSVDFePiv+czuLi\n",
       "gNKv+aHD0G3FW128Gs05p9sSJrM158RxorvxvwWtV7wC1yuUJeRH7yFQAjBdv+3cAYEiwybV385F\n",
       "vs96Q1yHwhXEY++U32edQQ8rdBU3jU+NJRYl/8gUyky5eXr0YQAZ8NtyTwqEadYmo1coOxjiCp+v\n",
       "Fth7pbLe4KeFU32Vtxfg43vooQeuLBxAXZhiYOdK/1qQYbOeKVabi6KbpTJhXJngX0+ioau8NcKg\n",
       "Sw+djz8D/5f2H0ATp5YLgnmdAAAAAElFTkSuQmCC\n",
       "\" style=\"display:inline;vertical-align:middle;\" /></a><br>"
      ],
      "text/plain": [
       "<IPython.core.display.HTML object>"
      ]
     },
     "metadata": {},
     "output_type": "display_data"
    },
    {
     "data": {
      "text/html": [
       "<strong id=\"tuple_len_8_typical_eq\"><a class=\"ProveItLink\" href=\"proofs/tuple_len_8_typical_eq/thm_proof.ipynb\">tuple_len_8_typical_eq</a> (conjecture without proof):<br></strong> <a class=\"ProveItLink\" href=\"../__pv_it/theorems/3a490914dc70467083ea308a29c73796d59f91500/theorem_expr.ipynb\"><img src=\"data:image/png;base64,iVBORw0KGgoAAAANSUhEUgAAAdYAAAAWBAMAAACPq6BpAAAAMFBMVEX///8AAAAAAAAAAAAAAAAA\n",
       "AAAAAAAAAAAAAAAAAAAAAAAAAAAAAAAAAAAAAAAAAAAv3aB7AAAAD3RSTlMAq1RmmUTNIjK7EInv\n",
       "3XZ/CtNrAAAACXBIWXMAAA7EAAAOxAGVKw4bAAAFy0lEQVRYw9VYXUwcVRQ++8PO7uwPW2v8CbVM\n",
       "Y9IHUFlTo8Em66aAfw1I44saTWlo0rQxusQnYitLfIUU9WETY5p5aEgIibvVEI1EWmuaKLWWNm1a\n",
       "22BHaSqWBAmmoDyA59yfmVlmb9GFFy9w57tn7pz7ffeee+4MAOstGv6wkoUNK5qr9pj/00D2I9pG\n",
       "8PoVou10TRgbp7XKopr7dZUKBuKeYISBJMGHK6flLwoK9S6j/smEt2f4zYzHFhw1V1mGzlE9dRet\n",
       "NFC/eExrPphTUhsebRGeUCuBFoIHKtc6KCjoHW5rKFOma7V3QU70eWz72fOmUisOpN/7ttDaDdE7\n",
       "SmoZ8BncE2lF0EuzM1C51iZBIZhaQxbAXtNjOv2qxzZPVSCj1MoG+kM8dj/ADypmgRTNC/NEWhGQ\n",
       "7ug6ttopQSG2liyAr727aUllGldqZQNJredNqFWlqmiSBdu40IoA1UNoHdu1Q1DYvoYsGZ2ldCZU\n",
       "pk6l1u1urQ8B1Ko2rP9vk2KgU2pFcG5y8mzlWoNFQWE37YWa33jag32z94gOY1Oci1YzPS8S19hN\n",
       "wTSw5YLc1/Wz74idvmtnnjayUutut1YsN5Tcapd3CU9MK4LnAT6uXGsoJSjQ9L2ejfAI1BfMAg+t\n",
       "I0aQJwP7HryRCxfltrakig7te44KB2ATXp60tbZOUrlga+0s1RpeVq/DyhXhiWlF0AVa0n7wYEnn\n",
       "k+7wON7k7PqfbRg3BIWLqPBbCPII9C9BjMu4LgDd45la+xMScsF65AANJgjODTl4EC+PKNf1YqnW\n",
       "eFKptb57xeCemFYEEdPls6akc4+78dErDv7ORrF2QeEMzuMcxPmKoaxqhoIy+Tj3IsuzI/LpBgm+\n",
       "gfAiR8/S/AAcVWo9U6r1BaVUTLwN49wT04rAb4XKiaDyu7vhSpnaqbJaYwNQ4PRQ1l6W22PyNHPu\n",
       "VSe9KSw8Dwnh8zpof1HI/0utAfWyxkzQ5rknppVAR5reMdJfsOD/hR3iUxYzvcXePtLs5Nx2lsgH\n",
       "ZqlzYHNjrkwMFyx4xj5eX2JsCnJDuu5ZDp0PJONFiHDS+h2IkupHlfu1NIbrQVOdOQX828w9Ma0E\n",
       "PjuEQ1xhMZS4lqDEeDl8iplogvWr/DUywFboJqPn60jI6YxYgsIxdG7Aff6sTnpyuD8ZwHlqJ+Dc\n",
       "o1A2gHP9kQYg53NQSDEboljxKYBG5boek1qpO2a5hKl7dZIphpOQ556YVgKHkXcwQ/IgkgpgAgkO\n",
       "6DlmmiNdyXfZugZpErQllgZjuWDRObA5hROk238pCAX04EtFMgxgEo7mCDj3cITjWX2B7QV6vyOb\n",
       "vgi1JrP5BnCiivxkKa+VnSEns8C6H2lubmUeuJsFEBW1qg5BwBJn1Ig4rHw52nZspVBEku9BZqKl\n",
       "jDXV8QUkxciTlv8wC12+0yYEhX4cZeuXXdMQv4aoBpM2ARjdcZtb7HswswMZTNKq+GkymW3PTCu3\n",
       "4TCJMQotpVYcCDad35di3W+srCxwD3Fai0sgKmbqbW4RnpjWyzK2s5Gn8dFqiKGI6qww3TZlg6aB\n",
       "BuPL3wg9YTn+VUEhbp9PdWrgID9pDSYd235hE9lvQqnVHsjpXucN4roST6RVk+9osezRl81hiJuN\n",
       "MAyhdigOk+l9NEUMKOoYVAUT7/iTviQ2tsLjUenrCUEhYH/ZFNXAQfT8tpAhbL0m5Yao6zUgpdRq\n",
       "DxT1egWviX+TjLg+TqqaHvsc+oxwm4W11pQ2+wxh0tvSZvg0QB/+GtB2y8JGHrq+kr4iWcEpL9OC\n",
       "pQQu9Cn+/TQobVvMQYvbQH6rqb9f8y4Xq7yC19Qtv1+7S3sYnlpc/Gz9qIGh7C/1OiAoDAlDApTA\n",
       "hYhL+jlp2zPTImyi5O+idcjlYpXXMgPlpdZ86eeUubqWl9fgwweo0Q+3qFFS3oME20GatXH/g0mw\n",
       "JJFY/QVTwUDcE0xLYL9UeWp5ScGYRY3unS9S439a/gHxBbmENGhE1gAAAABJRU5ErkJggg==\n",
       "\" style=\"display:inline;vertical-align:middle;\" /></a><br>"
      ],
      "text/plain": [
       "<IPython.core.display.HTML object>"
      ]
     },
     "metadata": {},
     "output_type": "display_data"
    },
    {
     "data": {
      "text/html": [
       "<strong id=\"tuple_len_9_typical_eq\"><a class=\"ProveItLink\" href=\"proofs/tuple_len_9_typical_eq/thm_proof.ipynb\">tuple_len_9_typical_eq</a> (conjecture without proof):<br></strong> <a class=\"ProveItLink\" href=\"../__pv_it/theorems/fa88c3cbce1f8ba706a650ea4e08f625c8e86a6a0/theorem_expr.ipynb\"><img src=\"data:image/png;base64,iVBORw0KGgoAAAANSUhEUgAAAfEAAAAWBAMAAAAiKrjAAAAAMFBMVEX///8AAAAAAAAAAAAAAAAA\n",
       "AAAAAAAAAAAAAAAAAAAAAAAAAAAAAAAAAAAAAAAAAAAv3aB7AAAAD3RSTlMAq1RmmUTNIjK7EInv\n",
       "3XZ/CtNrAAAACXBIWXMAAA7EAAAOxAGVKw4bAAAGNElEQVRYw9VYf4gUdRR/Ozt7s/Pd27kBwUrt\n",
       "HBEMNHVDiSw6D+6yLNSD/qmw2jAIJWSkvyR/rPVH/5zcloERYXMhVly0a2oZ1rUYUmrWJUpmXI4p\n",
       "al3Iodx1XKB93/f7vuvszswVd/pHo8y8efP2897nfd9735kDuDmHy//hYcDNP2KQx+HQUGf3pgVn\n",
       "ObBPCL/dAubPiHOmo049Docpn5AQ0kZ55kSDm0OBaOWA8sNjEZbpF1tDOv2AV6tg7/RV5fNg5eKZ\n",
       "o8P0abWk7asLsSHq7VMAzhESQj6E8gsTJM7yFMiuGvXzUbZNTki1u7Ne13AjPb8ArIlnzh12Lxkl\n",
       "zXrIDMWG+Ct0utDgERKH3IK5Kk6QuZ6jQNpq1FeibJ/1QqqDT3pjpmdhPHN0aCnmtwF8FxdiogJm\n",
       "EZKthMQhMQsZZ4LMG1UglZquGo2y/TLcfaP/kp5GL5Z5Jcj8Bw+mx82upjxkuN0RQuKQSb5cDRNt\n",
       "81kUiJYPajN9UbbhFoiwq01PQy6OuXBYZX4nwPS4Ri8VweKtsIqQEPJYf//RiTJ/jALRccCt691E\n",
       "ATefpWLKXL6PZtDUS9QCrPc8rWty2o/U1VrvxRylZ+bncvHYea7J2HHMhUMrUDNnYIw1v8pHCiEh\n",
       "5CMAb4+X8ft0XUWBYCZT38C7klNpDftL8j0OS6XhStekMJ8upNU+0OST8ClskBOHDbsJW+Ysxes5\n",
       "mVfM9X5x2BBwGGSevjZWn/OH9xISQq4Dw67+cHWN9VfB0tkZmF4PUqy9dH+cAsnyNf4oB8ukdr4H\n",
       "3wshWyaBfQ26bAjjKlhqETeTG21UJUEbgYTMwStor1Xi1hwdBpln7djZfgi28HK7m5AQ0vQCmFNr\n",
       "rDcHb7Y9ERg5dd10iAJp5EgrxEaExxKAv4WwQs0rfRCzgId57fI+9ev5CtWGLlnjnC7ZeY08F+nB\n",
       "OOboMMh8aXx97hyYNwLQRUgIqfmBAfdtjfHvwZvgAN4A8cwPAxtSO3FKNvXhasaKUJIEmuzwOOty\n",
       "4E9QRaIKgRcOpCr/kXnSHqs3cbavJCQBmW/hp56Wz0SbnBUbyDlfqNaCuIipM+MoFlbyMhrDPQve\n",
       "Eq+Vdrja2TVIDqrtXBcxsWrzlXxYXNfb/HidrotdJfL0fEHK5xhfnL64Pq+r9jlgjPFGzvdzmKuq\n",
       "HSE/4e8z7Kc0DiPrtIVj9mS6IlQjGPYp+YKbLMpXSRHbZDiLj3zlcgcFYvrArkAifxdgAkew51Hg\n",
       "MzUlhJIDkzWXyVUFB2QX4AxAaTGwq0qCo0lhx4Yy5DtyzU2fmDMxpspgeSxMGSG1I1DiZbRITTiE\n",
       "3MCZ6a1IFswczjy9yApChWuXsF8Wa65jSoxRMcZ5U+A+ZrynNuLdFAjuFTtgbmsrG+Z3k+BNEALv\n",
       "vv1CMH3thA6lvJitO12hA2MIpFnJTYxK6Q6etoywSw++RHtXJHO53/FFQ1vY2N6+TEp4kphKsE7D\n",
       "Ntp/EUlAJgrYL5YtJpduU/OgCvPS2DZblgry5/FiaRgVUd8y43hspUDSPBXdA681F6Cf57l7L/8N\n",
       "Cpk9LZ4QWPP+dZcgi18YAwt8+RA0TDBKqea9fVLiMQ740m4Sx8h2xDFHh4lpw5Ok7Znr14ellMV1\n",
       "OqEE4eZAOwKcJKSsQiu55v38cRM08sZpckn1h6duaJxnZGkki8Yg3pY+UJtJgV4mT6mwNC9WAJhd\n",
       "Y4XJpqf4oRJhtzH+vf1UCDMghYIBQ02MjdWh63Y97vVA1lsEPdDQAeUeVL3KVaYDZcZLo+TxJ5rN\n",
       "XzB6IOEnbVTO0tVMbaVAFlbnaLwAUA7qZjQ4UkpPga5CpF1bPPOFIUwoh4d6zaeVQKq+nKTa5u2B\n",
       "Tie93Odno63F63RIxZa3eOmDAJ38vwPLL6CB6RpTUdl9Uf1+OwViqtH6McQKfDIGdT/vIilxhK2N\n",
       "tJOfktHMlcMbmMwPMb8BuZ6Q6r9OndCZLppMriOLnh5pwT9CUCBMIVbdhwWwIKhreZgk3uYdkXaS\n",
       "XTRz5dCKQIew6+2EZNZufimv/qwuT8Ebt+PNVrhQ1XFl4A9cPlwSwqZb8NcoWVlW/VfYOBxaLiFd\n",
       "rNUnQ2d1yUGvjzfrH3i0qoMc/K+PfwDwMuLgiMQD7gAAAABJRU5ErkJggg==\n",
       "\" style=\"display:inline;vertical-align:middle;\" /></a><br>"
      ],
      "text/plain": [
       "<IPython.core.display.HTML object>"
      ]
     },
     "metadata": {},
     "output_type": "display_data"
    }
   ],
   "source": [
    "cur_vars = vars()\n",
    "def nvars(count):\n",
    "    return [cur_vars[chr(ord('a')+k)] for k in range(count)]\n",
    "tuple_len_2_typical_eq, tuple_len_3_typical_eq, tuple_len_4_typical_eq, tuple_len_5_typical_eq, tuple_len_6_typical_eq, tuple_len_7_typical_eq, tuple_len_8_typical_eq, tuple_len_9_typical_eq = \\\n",
    "    [Forall(nvars(count), Equals(Len(nvars(count)), Len([ExprRange(k, k, one, num(count))]))) for count in range(2, 10)]"
   ]
  },
  {
   "cell_type": "code",
   "execution_count": 43,
   "metadata": {},
   "outputs": [
    {
     "data": {
      "text/html": [
       "<strong id=\"tuple_len_1\"><a class=\"ProveItLink\" href=\"proofs/tuple_len_1/thm_proof.ipynb\">tuple_len_1</a> (conjecture without proof):<br></strong> <a class=\"ProveItLink\" href=\"../__pv_it/theorems/84b4d4ed31036ae6433448543fda05b5bf4e49ce0/theorem_expr.ipynb\"><img src=\"data:image/png;base64,iVBORw0KGgoAAAANSUhEUgAAAIEAAAAVBAMAAACTeZA2AAAAMFBMVEX///8AAAAAAAAAAAAAAAAA\n",
       "AAAAAAAAAAAAAAAAAAAAAAAAAAAAAAAAAAAAAAAAAAAv3aB7AAAAD3RSTlMAq1RmmUTNIjK7EInv\n",
       "3XZ/CtNrAAAACXBIWXMAAA7EAAAOxAGVKw4bAAAB5ElEQVQ4y3VUTUhCQRAefer70UToGiEEdegH\n",
       "DxHUQQQpgpCCrhFCh6CTHoOKOnWKugUd7HkJoqAspFt0iagILIiiEKQOBV0iKKFDNOubfa64O+K+\n",
       "eTPf+3Z+dhagWTL4Y6KD+MiAFCqTcBSKNeXFefdXao+iDDuN/whTOkRrN6G9h2R4lTMYT7hbDGCY\n",
       "vcwKDitN6B1uCdgyhvzIL65zACss0w3B44sROsktWkIaQ5gx9DsbBKOCI8TRZ67pSs0QskHDLQOi\n",
       "o5PQ3rRrmlEzBPDzm3L5WnSMEdrHCpk9XcK1oGYIYidGAbZExwyhGbv/ArYxywGXIVVmcltn0DDS\n",
       "LOgRkeGO0C1YnP0YpFDtUcfgxWqZdnBCdJwTOoTWcYBnVNfVDMYnslQaCtnAcAnWN6pTagY/61g6\n",
       "jste/KQ5C+sPNNwDetV18JZwOcJzZT0YVWLIEdqsgPUFnnQXwKA6Bo0dxgUspC9h8ANUIDTrUw56\n",
       "Ewmnwc0MwSrvuWeZJR3mDVkjtIHx5T9W29F7L2PwtP20Yq68CwcZc8h21JZlQj9yrF5STjcsusOQ\n",
       "WZ+063NUQ/eLs6ZicMfPn+w75vomoU1+Ac2rb5iGqXZll9DWRp1SxWBKrzm9Au81ZYm65qDeZdg3\n",
       "gH8Z34aweN5t6QAAAABJRU5ErkJggg==\n",
       "\" style=\"display:inline;vertical-align:middle;\" /></a><br>"
      ],
      "text/plain": [
       "<IPython.core.display.HTML object>"
      ]
     },
     "metadata": {},
     "output_type": "display_data"
    },
    {
     "data": {
      "text/html": [
       "<strong id=\"tuple_len_2\"><a class=\"ProveItLink\" href=\"proofs/tuple_len_2/thm_proof.ipynb\">tuple_len_2</a> (conjecture with conjecture-based proof):<br></strong> <a class=\"ProveItLink\" href=\"../__pv_it/theorems/7eb0124019b0941ed3aafb7b8e9b41ab615ec3c50/theorem_expr.ipynb\"><img src=\"data:image/png;base64,iVBORw0KGgoAAAANSUhEUgAAAJ8AAAAWBAMAAAAsilPDAAAAMFBMVEX///8AAAAAAAAAAAAAAAAA\n",
       "AAAAAAAAAAAAAAAAAAAAAAAAAAAAAAAAAAAAAAAAAAAv3aB7AAAAD3RSTlMAq1RmmUTNIjK7EInv\n",
       "3XZ/CtNrAAAACXBIWXMAAA7EAAAOxAGVKw4bAAACi0lEQVQ4y61VTWgTQRT+mmSzP0nWggcPYhsQ\n",
       "9FCrORShHspCoygSFbyKBCpIe0qPgi3ryUulHgTBQ91ehFKxrVq8iRfxt1oFUSyhqR4seCmFWlFo\n",
       "fS87s93szt6csJPJm3zfe/PeN2+BpFGjDw89YtflthKTPOwi5puLb5ENrdH8mleBLtLTzov98b0u\n",
       "gUnNhoxTCzR9VxLq5UEXdgk4zr8ux/isqsDcazFfoifrqQivILcBDAHXmP1mjDBTEpj+FvM6PWlH\n",
       "RbgHeAv0+P5yxRhhXmKeteTvD8+vVYTvPXTWkPeQplCy8RQeEJhUNWzNLfI8oCLcB3S6yBLbQr3+\n",
       "Jk54WmAyXJPhp6O+NduxQoeZS6jyMnmkGp8E7sQ3BwSGXWovcLdZCMwMWZvA0YCwUufxwYcYW5Rf\n",
       "OtAw9HZJYwzK1UeBKVBE90uo+NYjHt4Bh9QRFogmRSk3vdy5wLhXLp4LTJ72zgJLvvUE8BcYVxOe\n",
       "4ojWiLQRqslLFeErWBu+dQkaCeeCkjDN59RYFNU+mqb7njTTsOLFjmxtIb0mZZgh4XQrc9gFvYYU\n",
       "y+Ahydv6bGzyBf5qOz50QmDMBqx1tFUPgj395nyiVxWhMQubRMhX5CrFmnEMDtYspYXu5gSGdTCB\n",
       "bsexftGv3bglJBUjHCmXK0JlbS6nyuYU5N2MqPgNgTHoDJM/r3e4qFOIk48pQHxSES5vb5PLgqzv\n",
       "TM08RoBdyItbWHAF5otEpDzZVxYT2xdGgqtbGz/vTaPg9cqaOQLTE1y7cN9IIgxaidZ/+BHGisaZ\n",
       "hrTcFhhTduEHO40qkTDatsJNZ0pgLPmfsKskQrP1HaB5YWcNrDYXo9F3gw9aVRH+iGgd/2H8A2Bd\n",
       "qerF89IoAAAAAElFTkSuQmCC\n",
       "\" style=\"display:inline;vertical-align:middle;\" /></a><br>"
      ],
      "text/plain": [
       "<IPython.core.display.HTML object>"
      ]
     },
     "metadata": {},
     "output_type": "display_data"
    },
    {
     "data": {
      "text/html": [
       "<strong id=\"tuple_len_3\"><a class=\"ProveItLink\" href=\"proofs/tuple_len_3/thm_proof.ipynb\">tuple_len_3</a> (conjecture with conjecture-based proof):<br></strong> <a class=\"ProveItLink\" href=\"../__pv_it/theorems/b3101406cdfe01ab2b8a3895035cd56d1056d3510/theorem_expr.ipynb\"><img src=\"data:image/png;base64,iVBORw0KGgoAAAANSUhEUgAAAL8AAAAWBAMAAABj11ATAAAAMFBMVEX///8AAAAAAAAAAAAAAAAA\n",
       "AAAAAAAAAAAAAAAAAAAAAAAAAAAAAAAAAAAAAAAAAAAv3aB7AAAAD3RSTlMAq1RmmUTNIjK7EInv\n",
       "3XZ/CtNrAAAACXBIWXMAAA7EAAAOxAGVKw4bAAAC4ElEQVRIx61VTWgTQRT+utl0s5vNJnrwUpAF\n",
       "wYN/BCxiPcRAFCyiBrxWG/EgetoeBZX15kFtboKI7kEEySGpPVgQoSKCP6i1WJRCYbWHeqpFoUIP\n",
       "1Tc/SXeTHb04pZM3b973vpn33rwF/j4M+uPDU1tszN3Dwz/HV2Sr7NdxVRbpkM3Cqnucpv8CE7ap\n",
       "0FpLQndGlNadmajNYiKB8WS4CqcIHGarcyqCBxJq1aLa/nJsFSQR3If2A7gAXGVsdRVBRUL1YlSb\n",
       "j8UrVU4i+O5aq8Cg4M8qAzwtoXZMOxrElq+TCEaqIAI7QIrO1q9MQU1Ct8fUT+NWZ5OTrP0kz+T9\n",
       "7cLCGxWB3pLQoyyQA0uhUJ9Z3iwNssv7gYlkglPkPEs1dAS4rSJgB+BQdsgRz1wTVbQaNEWFG7MY\n",
       "BvZ1CI4tsPGB793c5FN+KARjMApth5nzcYKcK6Gz5PY5dFGe2hpscZdcC++AXYoQURVplEQziGwO\n",
       "xG3sqoS+oHCtMH88cDXkhXSCZ3tc8dDeB8isEEkYyfFLNYFdR7PaPveoqLtXomCSCK4B91yk6Qao\n",
       "lWhqlB6zEK1/4a9mMewNUTPEwc4zEEe31vl6d1IOfgeMQGNBfUTPzfqU+cU6zrzDXs1cZlq4MkMJ\n",
       "vUsELrZonsUIfMoHE0CFmAaGkm7wjIcoxZ7wJcqxXuY+zSJLu163fFmFBQmdYGTaRx1N2u8rmmUu\n",
       "sBKaEjXcQ7CXvwNW5+jzWbAdVkq2rxdE5GVVzUjoDbrk1qmxb8jNkzRAHYQJyE6WKFZzSQTpQ9Ts\n",
       "kGurm555gEzzsCnq+Y02/llCc35bs6NHMGaU7RqXO+XijZ8MGsgFQ2igv4qW1A9KaKrTP1s9Am+E\n",
       "CoJK50KVPZO47maOhzQblVK7m5mehN5qfwvCbgEX1R+c7jbtRmbppi6hD6XCQbcguJMJzPg3Mx1s\n",
       "zO1xBQ4PvxGq+pXDnTh+0t5SfJmKzP9t/AHn+bJHLwxvTQAAAABJRU5ErkJggg==\n",
       "\" style=\"display:inline;vertical-align:middle;\" /></a><br>"
      ],
      "text/plain": [
       "<IPython.core.display.HTML object>"
      ]
     },
     "metadata": {},
     "output_type": "display_data"
    },
    {
     "data": {
      "text/html": [
       "<strong id=\"tuple_len_4\"><a class=\"ProveItLink\" href=\"proofs/tuple_len_4/thm_proof.ipynb\">tuple_len_4</a> (conjecture with conjecture-based proof):<br></strong> <a class=\"ProveItLink\" href=\"../__pv_it/theorems/d4f9379d7d41f75f19b85e6e269359a70bd48d0f0/theorem_expr.ipynb\"><img src=\"data:image/png;base64,iVBORw0KGgoAAAANSUhEUgAAAN8AAAAWBAMAAACyMFRjAAAAMFBMVEX///8AAAAAAAAAAAAAAAAA\n",
       "AAAAAAAAAAAAAAAAAAAAAAAAAAAAAAAAAAAAAAAAAAAv3aB7AAAAD3RSTlMAq1RmmUTNIjK7EInv\n",
       "3XZ/CtNrAAAACXBIWXMAAA7EAAAOxAGVKw4bAAADKElEQVRIx7VWTWhTQRCeJi/J+8lfEbwUakDQ\n",
       "g6g5FP8OMVAURWoLXkUDCmIRSe9aIx68VMxBEDy0rxdBIiZai72oFREtUqlFUSyBVz00VpRaUYtC\n",
       "cWZ3Xpo0myYXt7Bv+s2879udnXkbgKZGGv9oBJqKXZmVriZGOAajwvjYRPAxMY/Wc0XJ2NiAYwsT\n",
       "eAoV4K1JRaR+JhmOqwX1JJBrH9mn1tYzU0xwswo+qYqNxKBXLRjCvaHrIp1Mdm1BLc4EnVXwoir2\n",
       "uA0dasGvKIguvw1gxdYWDLoE45Wo748q9iGG2ypBfUdUuLy4en+DI9zEBJ5UJWpNqWIxz/64StDy\n",
       "R6Vrslh82UDwEBNoVDN9j/ol6m+f5cxY33ZJI9BWwjxbUZXgHAmS6wDAjQaCJ5iA1ud7DkO2QPO9\n",
       "5m8pMw0HZeDRtIF59qZcwa4ijdciKE6C5OqDQLSc59NVQo8z8jnNBCHc0e04dEl0uw2vZPkV2DCf\n",
       "goaMnnHFDi0gQXIZttVThtuqgi7w8xkTBDGwG2BGovsB/gqj23areYHEQV9QCO4UguTyOBU186Iq\n",
       "6LNCcALMnxKdAZ9sjIlyNWchjyE+xQ4DjhAUrlQCp1ziAaV0eZZWa31yBHQWalJqLoN3wW1DTTQG\n",
       "QjzyDuylYp6qPUNfa+uGJwXpuoftb77TqQDCH8JJfLzVxwW0xESDTGA4YC5CS2oz0LKW6DzJ+IF8\n",
       "wsjHYL0nDd6ssvGDVDTkOoeGliQNMOJURlrWzAiItwJ3mYCKehC2JpPmL/xvHVwDYWCJjgnDcDxv\n",
       "NO6eWsFIll0tGTqdMJVqMKNF5VEJyP3iXWECHRMy/OVyewaKuKHh+9glZFgjCVsYZvtYXwkz36MS\n",
       "1Ia+O9Ilsp829uAbEQhi5UfSDM1z+YUyTPDefdtj1zUAzte9nqRLbCd99Yidg5C9G3Lg74FCjqBL\n",
       "TOJNMkHHSlfVNfgTrxYsf/19ndtGYCCmH3ZwDnQm7IGYgHhcZwLDvbLvQF2D7x6l4OprKVYzu3ct\n",
       "E5juCw7UNXhVSkGj+jeGz149V7RtSRj9TfzEmBNzqb6rPLw1838Y/wBicuVyie4ExgAAAABJRU5E\n",
       "rkJggg==\n",
       "\" style=\"display:inline;vertical-align:middle;\" /></a><br>"
      ],
      "text/plain": [
       "<IPython.core.display.HTML object>"
      ]
     },
     "metadata": {},
     "output_type": "display_data"
    },
    {
     "data": {
      "text/html": [
       "<strong id=\"tuple_len_5\"><a class=\"ProveItLink\" href=\"proofs/tuple_len_5/thm_proof.ipynb\">tuple_len_5</a> (conjecture with conjecture-based proof):<br></strong> <a class=\"ProveItLink\" href=\"../__pv_it/theorems/ed67f0f10d120db7f2ca0845df203aceb8e56cfb0/theorem_expr.ipynb\"><img src=\"data:image/png;base64,iVBORw0KGgoAAAANSUhEUgAAAP8AAAAWBAMAAAD9bVezAAAAMFBMVEX///8AAAAAAAAAAAAAAAAA\n",
       "AAAAAAAAAAAAAAAAAAAAAAAAAAAAAAAAAAAAAAAAAAAv3aB7AAAAD3RSTlMAq1RmmUTNIjK7EInv\n",
       "3XZ/CtNrAAAACXBIWXMAAA7EAAAOxAGVKw4bAAADjklEQVRIx7WWXWjTUBTHT9v0I2n6gYgvgxkQ\n",
       "FCZKQBH0oRbqF4pbwVdxFR9EQcnAN52LCPrgZH1SEHXxRZGK7RyiIM6Bil8MpyiOjUJ0yOYGYw42\n",
       "ZQ/Dcz+SJWsC7YN37ObknHub373/c24C0ECL4h9tWiOzNP8pDf0Oth8Qz5NrUmlk1hHaP17hjQHc\n",
       "o6E0uVtX1y8FKxxgo8Mp3Rz2GHrp1bKdVL0A5IVTozS0m9wdrwvgLjAAqeD0RrJeY+cc9kkvgMTH\n",
       "MYOGLhBti3UB5DiAoDq9KS89wouOm61eAAErFEGOeH2aDnIA2eVtNzyGxp26yIYvAIZCuJxIfSlQ\n",
       "4ADrXe7nXmNdukRUXwASGqpWP9QFIFQ4wAGiWtOEydxHZ1bxAQPjOjM6Bnr4npZm9uOktBdApk9n\n",
       "oX0AN+oCILQU4Bj+H9ZEJrO0YJRZOXcqAsul8BvoZbqER+AKQKhgARyskvaJmKIRnWehDoim7eI8\n",
       "4XrkC92VtwoH+IyPfQkCkzm4CDLbizHLeKDCHjalS4WfOGTQYwew3WIh0WDFTVuTa0SXu3LzHOA1\n",
       "yjELiQoTpgApagl24rcRGNp6Z6ZxQmzWG6BNo6Gg6cjBt64Rv3wB5CKUGTZytFPBZbuW34E0z6zf\n",
       "TAivHbiGADoLFTIkWzJPiARL34l48XGTuk7TPMqotRKUTdhpHwNtVPCyaZ2NSxCaZeYSU2nYIweG\n",
       "ANby0CM8jqRvsT/k1BxNkvr5Ghukrr/k50aAp4hocoDb+DQF1gQ1iQDomA/UQM48MaQ5CBQ2gEHT\n",
       "AoKYaUWPHaiQnWKhc/gAIUueCaJK0lIoSjp1kXUE0mf5DpCSoQB9BCb4RYAyDg6oYpYaWAJxnRgI\n",
       "uCmblRbQ2gbSXla/NQBnIPmehwI60TdJ1inrQpqJTV0ET861WCUyzAGu4iqbn3ZMQmIUrSY8oYkB\n",
       "z7ZMMePO9OVmHaq4Bcl+Im8i7wEQ3bXa4CEqoCbuwPsUyCh0SuOuKcO6oW2EAyTs6mzxNyBoH9Gd\n",
       "4F0FVoguV+s5ZJQgYWyHEkTyUCkR10V0iQpUll8qFCCUdQjpZ0Dc+RLzA8jZb6/c5n7oVmKtJvbR\n",
       "XMboVrhLas1YSxE1/j1w3cp309cAeGhvdtEXYOVrWKnpwfmelIoc4L71qQG+BoCNImq+AKL7myxs\n",
       "rOytC2/nIUnlj5qNfJJN0H7SP2S3UE1vXf5j+weDQflztxlMgQAAAABJRU5ErkJggg==\n",
       "\" style=\"display:inline;vertical-align:middle;\" /></a><br>"
      ],
      "text/plain": [
       "<IPython.core.display.HTML object>"
      ]
     },
     "metadata": {},
     "output_type": "display_data"
    },
    {
     "data": {
      "text/html": [
       "<strong id=\"tuple_len_6\"><a class=\"ProveItLink\" href=\"proofs/tuple_len_6/thm_proof.ipynb\">tuple_len_6</a> (conjecture without proof):<br></strong> <a class=\"ProveItLink\" href=\"../__pv_it/theorems/65aa554d3785645f943ee2c4ade7cda33224bf4c0/theorem_expr.ipynb\"><img src=\"data:image/png;base64,iVBORw0KGgoAAAANSUhEUgAAASMAAAAWBAMAAAB5zue0AAAAMFBMVEX///8AAAAAAAAAAAAAAAAA\n",
       "AAAAAAAAAAAAAAAAAAAAAAAAAAAAAAAAAAAAAAAAAAAv3aB7AAAAD3RSTlMAq1RmmUTNIjK7EInv\n",
       "3XZ/CtNrAAAACXBIWXMAAA7EAAAOxAGVKw4bAAAEBUlEQVRIx51WXWhcRRT+cnc3u3vv7u2CPgTE\n",
       "sFJqwVq7QinGh3XL4k8b2wb6UqRo8IfSPsjmUdRkS0EfGklQQQxqb6EUSorZNi2WlsYSrG0tkVgQ\n",
       "Q0tg20S0LYRaMQbF1XPm597d7Kxhdy535sw5M3O+OfPND9B8itInUgEtpf/r3eKQt+D0cOmmW+sf\n",
       "KYvitMn2Mv0pFlY3M6JVUpDWVWuPTRmavvdNva77LObMkJxzZ+BmgGe5sqcZSEchIdm9NerXTW3v\n",
       "12mcjkm0eyZI0TfwMLAP2M+V4WYg5RWkcGYF77REf9WpEmtGEMqZILWX8SmwEQKx0xQpLihIiZW8\n",
       "U7vpOtUrHKHvTJA2iNglPIRoru1NUalXQXp0Je80cK5OdZ6z10yQPpNdCM/U7OzVZiCFSwpSN9f6\n",
       "JvqV986bKtbOwlNS6JsYUqrRha2q95NTD1J+wgTp24PzNKxD++0FYKQZSDwNAYmnGrmEQyLeGNtn\n",
       "/ylZeg1b5FL6tsgMDuruFc42+ZC2zXL6gcXFDCaBEC1CH6Ip3T62t8b718WqypG8LJNpBeka/ccz\n",
       "2OYz4XtpLymBbM9J20AGP+tttcT544Yo2f8CL3qwiKpxT54yIj1U02qguvLRLrVlehSki/TvAG5I\n",
       "NXn/Wwg7PNUhsB1auKtdWPc4HzJB+gd4pgcxamCVq9h9uabV7eqK3lE1kK7A/kOqbyAij4ErukNg\n",
       "+235Ltht4tIiQcogQlFCb5YJmP2KF65yk+fozJWF6k1Bzaw4fx65mq5fOLuC0D19LIUFaLuiZx3Y\n",
       "KoHfuCDJehOXPhdRshjzSTow7Z9iTE73usvb9sfYBaHidbdn5J0T0sdpvKwgfUHG+2jrXQuexhJz\n",
       "h4Xfic4sVNlo/SzYMsbifusynkvEJeXnHXIZzjEKxDNM+PCwXRQqnmRb6m0RpbA+YniXCkgnBKz1\n",
       "uZxNIccD+BhCoO12RgiBbRPs5zEm7p8BQapuE6R4yZ6UZwzaikwQl2ORKIZTki1CxYAT+cdkB319\n",
       "xKYVpA/oP3z3/c4iZikUh09RAxac8awnNb7NHSduJK+rUPAyGK/dU5sJSVJvhLFC/GnquwoJYsqq\n",
       "glLd8XSF0eqeMwpS0tdYXkOhShJT2yxOgumGjxO861+GhaGd3iiSXhdG0d6D0iirDpAqnkbJpmCO\n",
       "+UNvVJBC/m3hNBaqJBrESr0K/8I+3ehSV5dm/olxDKZj28uUR/NZbzCtVPb2rBejNR4M1ryg3kuf\n",
       "aM2XjYVAsonYyRFBqLcaP+GWP0rSdbkqLBEbPfawgnRMa8qNhUByObDzhWAuRkjx2pduxFue6+Il\n",
       "fNgRtOuHK2gULbf20HWl219Ntl9qq6G6XBcZTLTovoX0H/ikH5VE5EjnAAAAAElFTkSuQmCC\n",
       "\" style=\"display:inline;vertical-align:middle;\" /></a><br>"
      ],
      "text/plain": [
       "<IPython.core.display.HTML object>"
      ]
     },
     "metadata": {},
     "output_type": "display_data"
    },
    {
     "data": {
      "text/html": [
       "<strong id=\"tuple_len_7\"><a class=\"ProveItLink\" href=\"proofs/tuple_len_7/thm_proof.ipynb\">tuple_len_7</a> (conjecture without proof):<br></strong> <a class=\"ProveItLink\" href=\"../__pv_it/theorems/6ae780ed5e6e33c84be807b3c23623f5e67c1c1c0/theorem_expr.ipynb\"><img src=\"data:image/png;base64,iVBORw0KGgoAAAANSUhEUgAAAUMAAAAWBAMAAACoKePEAAAAMFBMVEX///8AAAAAAAAAAAAAAAAA\n",
       "AAAAAAAAAAAAAAAAAAAAAAAAAAAAAAAAAAAAAAAAAAAv3aB7AAAAD3RSTlMAq1RmmUTNIjK7EInv\n",
       "3XZ/CtNrAAAACXBIWXMAAA7EAAAOxAGVKw4bAAAEZklEQVRIx71XXWgcVRQ+Ozu787Ozu4NQESNl\n",
       "RPCh/mShpVCFzUIqitK44IuKmkgLpaWUKe1LMdoRX1M26oMgIvNQChJwUjX+UIyhIkiL0orFWgmM\n",
       "TWnSVkJpaSt5aDzn3jt/mbuEbMCbzL3nnnvnzHfO/c6ZWYCem4t/1DRYZ9Mie9KHrKPVHJhiwqX1\n",
       "QiyFbJhaoT7oY/cGXjbNHunB8GPCqDKZUpqfnM3v1Pe1cjr1pJ9M5qQQ+5eXl2dqDYBnaLZ77QjN\n",
       "EWH0eEZdbkn21p2c6sRYSlf2ZRC/2759hwN7Ad4lMoyvHaLaEEYHV0MDMOznVKdeSemKLRlEPJ1D\n",
       "AFu4BxVn7RCtyOjMamgAvs/TbykzPS2D6DAWWj4UMRrlHqj4qDCqjKyCBtuunKaSpexOGUTc5SE2\n",
       "xPfL7OyZHiC+IIyqlC1a3zzPSnhz8T6xYXrO4yWlb+GmoO/0ZRHj4kPnBGeV6XnEcEIO8TDBxEg+\n",
       "B/BxDxB3CqPkJbzmGvzkzDt+wEvZ247KGR6vweueHmV/XXgEX8MobtsaQ9wxS+0cX9xA3uApHQDN\n",
       "jsvDngyMH7zU5Fg2L34TRqtIGfNHUPnJKUtg8af/JQRa41zQbkGtLe4+IizjfkL7uDSKGtFcwc7w\n",
       "K+1Y25fZcyQ9+fDlzNpPwqiFN6s3oMrjg2jqTFKjfEjWjHuLMYr+KOls6GDUO1KIFXJNv4Eww1S2\n",
       "/JzZczU9yeZgBqI1DgF3E9EMs/JgRXUsWavb+azqOPAPkUEKsUo2ShTKkSZ2E81vCPK9v4nQlbmQ\n",
       "qfYDG4ht8PAZenRxsSk56CCEgbgsvshSIojIlloLk6e/L8YBl4lPSLkYkE8KMegLLODmH/pdeu9e\n",
       "rFGmnddnmOpf4tIF/o4ssrBcjo1/Kowa+ODAgfsV1yQYHnKPCehXm4Rkjc7bAZ7Tv+JF0gCYt3DY\n",
       "Jo3icCt67ihCUFuECowGJZA6bnpMhTSAgv0Wi6JK+7UlXsKA14kpURSMUPldhQBvLTSMFhMwnSse\n",
       "Cckamj7mmndYItym5CcH3MKSqGB5iP2TUVEreMSoGsXK8lSb04upyAFrcBMne4NXgLvi/qPCqI4H\n",
       "YW789sACVC+i1Id5TwKc3HyNa+I1uL4ZIz5LwVPIeZJKG7+igzwvhThK1KpGuRy4xlN4Rx0sVNdd\n",
       "obrmRxNCTyHjwWZc9oTRC7HJTd2FRFIIompHEvvu0M7KSzerr/Eb1+285E9A1d8GE1Buw+QEqd5D\n",
       "leHApInBDnxcUeyCnXr1M6Nb0u/9bkIiVSj1yg6X9Aeh4/FPkm4Q42pcGnzySxhz9KEQe22w6Y85\n",
       "QmUONX39FMAY/jswdCVOy4+EUSP6MDbDrkJK+hyvP48LqXDa3C9edF0grvwIc3K9GBQeLEecN2uf\n",
       "CaNmZKQGXYWURFibzwoJqdjm3naDaGR/GZT8lX00vAofPECTo3Al8S+EBSa8s94fBjUOY0G2Np+d\n",
       "FnN9NDRgOqTJ4aefh/+9/QcuJUM3I30k0gAAAABJRU5ErkJggg==\n",
       "\" style=\"display:inline;vertical-align:middle;\" /></a><br>"
      ],
      "text/plain": [
       "<IPython.core.display.HTML object>"
      ]
     },
     "metadata": {},
     "output_type": "display_data"
    },
    {
     "data": {
      "text/html": [
       "<strong id=\"tuple_len_8\"><a class=\"ProveItLink\" href=\"proofs/tuple_len_8/thm_proof.ipynb\">tuple_len_8</a> (conjecture without proof):<br></strong> <a class=\"ProveItLink\" href=\"../__pv_it/theorems/fc6fe884553a0d1dfce85f5b837c77bfb1ede7690/theorem_expr.ipynb\"><img src=\"data:image/png;base64,iVBORw0KGgoAAAANSUhEUgAAAWcAAAAWBAMAAADun0BuAAAAMFBMVEX///8AAAAAAAAAAAAAAAAA\n",
       "AAAAAAAAAAAAAAAAAAAAAAAAAAAAAAAAAAAAAAAAAAAv3aB7AAAAD3RSTlMAq1RmmUTNIjK7EInv\n",
       "3XZ/CtNrAAAACXBIWXMAAA7EAAAOxAGVKw4bAAAE+ElEQVRIx8VXbWhbVRh+c2/Sm9wkt9cxxqQy\n",
       "I6LC5mzGxnQOYzRu6sbaDEFEhos6GPpDUvw1nDZD0B92NOqPSRF7BRmMirmzjg1ltX6x1VGpQ7Fs\n",
       "FO5c3YeFUCuuUnT6vucjvck99Uda8Gy95znv+bjP+3luABbbDPzHWhGWrP3XiUvymp8hnqfeSi0d\n",
       "6YjHumOquafwzyZwa/Pna64gvcYnNN8dUyx97eugbPunDYIjo/S8qCRtfvZJHqw0wBYa7W2e9GHg\n",
       "pM2CX9qSVa2dCUjiK79sFO1h+x0V6TDAMoDnAQ5QCJWbJ50TpMNpv7RVFSuRuYAocVufUjM9qyK9\n",
       "ntloA9cpvohwHBakE3XS3Y5iaTwYM8F1QrNvVaSPMtIJB3S0UMsiQrogSN9eJz6pWquImZMLafas\n",
       "inR7Hzm2BRmPTkycaZ502BWkt1OYtV3maQ9PV5dJEtV7OOga6hUOHahuE5PrRpcLtKb6otDswc2H\n",
       "uFGDpEP/TOIRcawdjwD0NU+a1GakyTS7ijHuXPOaU+H11DgLj3K3n4J+HguRcXhDbr8uVSsYIxxV\n",
       "9sIN2G2skd4xQe17Ntn5N56qo3O7wLDlGdHn6hh9XvINPsjN4/s8iZIpQfosUv0Kwty52hwk+JKk\n",
       "C98x8GEatvIt3Wn4RV4if0rHO5J/ewluxO5OlaW14/2YphqmUczhdZa1trpF3f7B20/4kr6mTSIv\n",
       "SH+DoTJNHFnQFKCVo06ZaZ0A5znqr07JF2rTAnwB0VmOtvJ1vSrSG0D7y4EobtI8Xx6erlt01T/w\n",
       "16v9oCKdKEMlL+27mwfwiFw4AuYfHP0WrCfRGbCGOTzPzb9LRRpLSncKIrSykKHkyBynzdcvkGXi\n",
       "Fz0meoGlTYZV4FvOEAu9mmEJtP4dRXhUPLi/Vqa5iU0ZtAj06fo4xhYTganPSoiaxYnUWkVMm3hA\n",
       "KA0aafoxXjHmT8w91jmLytKP0WEmIpXNcX7T6+wCmoQ3qVsBF+RrPUH6PSSdghVa0STSJYxvAvA7\n",
       "Jh4gf3MGQoU7CJH3NT7JAp8Q6lNJS5Rw7wbYpLL0KXxfkTPZj6TCWeIJsTSlZrhslpiITBOyX2KW\n",
       "DpM2xhwvoKdZhWMOtgXpo6SA9kMYKgWyRyzLAJWOE+Y1ptTabJahjWA+zCehG3cSMmfhZofvLKPG\n",
       "Lq+gAdKPO5DhVRZCJQpNy2YJFrZ5nDIRqZTIreYmJeqoEjnEGKZo4NE4JkgfxFevOtF1BZLnELVh\n",
       "qSEA8cGMAxNo4PenXl9VYsgazIhJaAeBdk7t4AhfYw2Rs1Wko8sfwlclZRpXirF78bxWSGCMthaF\n",
       "6FdHDkTBiHOH6GVjWtaPcUE6WSsoqwNAc4KITT4wv2yPfwMYYwt+msLLtSJQ7H3MGYCkswkGoCUP\n",
       "7gCJXkVRLAWuiQ6pODij2SEbu5Cn226tDHHSeu2OdgMgDkGEk5r9jEAHHJY/7vxFm16YdO2+iOTu\n",
       "GoSeVLTDw6eRyzg9KSEyOzJOFL8fe/B/Cjou0YJY0WiTJsPM4HX+kKwTXiOAjyCAaDLZVxDoJuew\n",
       "598A+xb+EdD4SZoKPEWnMYvSgKKk7pvQLAvSR4TAgkYAXhDRpD5ZFGjn1Ja6DcICStKx+t9bEafx\n",
       "Kbsn4a2VNDgIl2oy2V4Bi4Wz4S3dzy2LE7uimrtcP9QDT9mlYcijwb7N22qy/7H9CxrRYp+LY1nA\n",
       "AAAAAElFTkSuQmCC\n",
       "\" style=\"display:inline;vertical-align:middle;\" /></a><br>"
      ],
      "text/plain": [
       "<IPython.core.display.HTML object>"
      ]
     },
     "metadata": {},
     "output_type": "display_data"
    },
    {
     "data": {
      "text/html": [
       "<strong id=\"tuple_len_9\"><a class=\"ProveItLink\" href=\"proofs/tuple_len_9/thm_proof.ipynb\">tuple_len_9</a> (conjecture without proof):<br></strong> <a class=\"ProveItLink\" href=\"../__pv_it/theorems/8a683ebfdc3afc6cfde82198b926e5af6aaf3b490/theorem_expr.ipynb\"><img src=\"data:image/png;base64,iVBORw0KGgoAAAANSUhEUgAAAYMAAAAWBAMAAADQlu1lAAAAMFBMVEX///8AAAAAAAAAAAAAAAAA\n",
       "AAAAAAAAAAAAAAAAAAAAAAAAAAAAAAAAAAAAAAAAAAAv3aB7AAAAD3RSTlMAq1RmmUTNIjK7EInv\n",
       "3XZ/CtNrAAAACXBIWXMAAA7EAAAOxAGVKw4bAAAFLElEQVRYw81XXWgcVRQ+Ozu7O3P3V4WipsQJ\n",
       "hQr1pyspgoLblSgK0nTBFxW1KwqiSJjgo2kz6oMvkUTz4A/STqVUJdVNa6qW6jZUpNWgpKJYK4Gp\n",
       "DTS2moaWxJiH4D33njuZzewm4KbgXZh77vm5c75zzzlzF2Bths1/OBKw9mOlne01e0vGgsOC+P0q\n",
       "QHhSPJOlRrIcEhuafcstICFowwEme288rGm8UAzx9KNuLSNoOQmZfH0I993rCtn9uHi2SQSsTBD2\n",
       "17DjxTq6WSvEOti3nBew/A3g+boQPvaME0L2MqbZQJMQ9DxB6FjNW4Adboh1/FF3RZxb6kJYD/CO\n",
       "kMW5ddJqEkIKCMLoat4CfBXixBZWwZly60GYAzjmoizKAxhvthQ2EgStvIq3fDwT4iTHV8EZz9eB\n",
       "wP4BuFQSsu8nJsaahfAQQdCxmruru4j91PS1RFXPObIztkxdJg+qkxTp6PpTlPla9XyecG44Itsl\n",
       "m+ScZK7RKeSF7EGAd/+r6x/Q/DRBwJDETsAe6RybcyvSkZ2WLsvtcdukrHnCMVT3ynpEfAY9A2Rp\n",
       "R3LyhGI8N6NlH8K2CRynqBb2eELWDYmc3/Geq/HwmBNY7AuU6j300iqtfyQIaV5UB/KwjYK6ACmP\n",
       "uook2Negy1xLXIGMCmuv4+sTGm0eIhLMK6ivjdY7hQMl4yZLyEw3IGypUeoNLgYfCdSXU7vbNwQh\n",
       "xXfaLvqg6FNlyIpI66pe9RlIy9ibi9OHlfVmtWsO+m1lSXouYjdm6kFgnYcuOUKmeYFqPlmj9Edw\n",
       "EWwbPdAYwrfAZiWXe7FD9LqUatqcqEhPsrlw7fZb8KdvqY5mM0/K2GiDrzPvSEJWLvDHUOFzTKTF\n",
       "s6J/nfMEqwvEJEqsbUx4UxCiO9rfFl/3XDiR2CJEZ/zmvl1URUUlOye2Lst/Pt6geautSI7zS9US\n",
       "GI/yeL1aAPFdELJD/APHfjH+xqvOmQw2h5+NUcGax+M6Le8gURHJTNHE1To4iyJPncxugmB6wC5D\n",
       "pHwzoOtZh+c+Q4IHoYRExYJ1ms1knMECWfY/YMIgBGBXFAVjUaHHZpP07tAp3OqyeZL1cKf0InoN\n",
       "Zh4LXB9gjmBhNCO5l8Qp6KLx9bqiR58UbTTxvmroBwkCdrjdcFuxyObQNG8WoSI2hKSDhOlpP+mC\n",
       "xd+zzxZakJjFFoQA7ciCpG4AmE8KPWPmRerVIQh/uWaeZBEHkziTE2Wq52RGCxYCTHVskvUngNwJ\n",
       "WV5wiVGROhh0OV4nCAbHtPfia60OTPBgshbexNJnOP9o+wVBsNYvuqck62I7N0Yt0DBSSMVaR8Yl\n",
       "NcjlntS7jr83XaoHITmC97u0Ylds825umoUUz/isTawLrlqoJjQCfSKpEjO4rHxI5mmHLhin1f6a\n",
       "f0PYFCKWKKGFUSN9vN0tWfp6OxtftqVMOGj3P+wOQdq9C4YgXoLhIWS9ylmmBcOMH1bFBT61wTVc\n",
       "IeJFc8jcqJN5tEgQtvgh8t8xHCKWKNRqi1uSMm6Efido6et1rADB/1rFOm7/FPoso9Pjz0RHwe2z\n",
       "iMU6C65xHDD6fNKnuzjPtBMtyNx7Xtm/RRBM9S/qE797e8uJAIVav+4nKvId6wpa+nryIl0fwvJL\n",
       "thV60qTJ+Gryy0EiLWD5EUFgakffy0yICFCoVXiAKF4KpaClryfjUh+CWfvPM+Yuf6rpMXjzepyM\n",
       "8UxZ8TgzEAwPpgSx6yr88ZRnnXEay/wRDT3VlIcqBiefGBxxFQ/y8P8Y/wLH5IQS2Qx2KwAAAABJ\n",
       "RU5ErkJggg==\n",
       "\" style=\"display:inline;vertical-align:middle;\" /></a><br>"
      ],
      "text/plain": [
       "<IPython.core.display.HTML object>"
      ]
     },
     "metadata": {},
     "output_type": "display_data"
    }
   ],
   "source": [
    "tuple_len_1, tuple_len_2, tuple_len_3, tuple_len_4, tuple_len_5, tuple_len_6, tuple_len_7, tuple_len_8, tuple_len_9 = \\\n",
    "    [Forall(nvars(count), Equals(Len(nvars(count)), num(count))) for count in range(1, 10)]"
   ]
  },
  {
   "cell_type": "code",
   "execution_count": 44,
   "metadata": {},
   "outputs": [
    {
     "data": {
      "text/html": [
       "<strong id=\"range_1_expansion\"><a class=\"ProveItLink\" href=\"proofs/range_1_expansion/thm_proof.ipynb\">range_1_expansion</a> (conjecture without proof):<br></strong> <a class=\"ProveItLink\" href=\"../__pv_it/theorems/b7a92fc224218299b6c680334a9d1a9bae4f03710/theorem_expr.ipynb\"><img src=\"data:image/png;base64,iVBORw0KGgoAAAANSUhEUgAAAa8AAAAXBAMAAABOq92eAAAAMFBMVEX///8AAAAAAAAAAAAAAAAA\n",
       "AAAAAAAAAAAAAAAAAAAAAAAAAAAAAAAAAAAAAAAAAAAv3aB7AAAAD3RSTlMAq1RmmUTNIjK7EInv\n",
       "3XZ/CtNrAAAACXBIWXMAAA7EAAAOxAGVKw4bAAAEZUlEQVRYw91XTYgURxR+O9Pz1z0zO2AOOexh\n",
       "RNyDJmjABLzoJppElMheFdFJQhByGslJiNHkbNDgIWQPYczBGAL+kVOCsiwIoqxsgoJusjCJC3sL\n",
       "e9GVPQTrVb1X/aqretzxFh981fX6van6vur6G4AXsS5B+s4LN7Lm11mr2LLyvFa6klcXXsyabQPp\n",
       "AxzOyQzZ4bV19I8uS32DQY2nFBgtfLFhOGGbCQD7fmV/EZpbZY6MuFadh0yub9FvPVUWrmD6FDxS\n",
       "j0dhGj4Fxrv4+uhQuuKOAUDy6gz58CfApyLHjUg7/94quLkBu3oav8AF/S06UFYqET6NEAXClziB\n",
       "zw4lLNpqAFDfOAVcB9gmctyInlBcb65mcgM2cwB17CKvOGHg0whRIOBIJO2hhNUJAEd6YOvqKQbV\n",
       "jaAV+lJYvTeoh9Kqfkyzf5vg0QhRIBSV1vJwS2ycAHDd+mhl8X3ciC+sPHCRJXP6Fx32PyZ4NEIU\n",
       "GLMLC3eGE7aPAG/MvkJ+vKhaSlo2JRPxhYlc34pjv+PEi3DvuPQ3LjmCRyNEgbEHYMom/2j2LTOH\n",
       "QThpUI7ff+wnJTVtip20VzfiC5O5vo327QyYqKvyLTCAaEFbCwZQYByDCubFu7GZGzqtcQrLGggH\n",
       "bBDgDwJUnrL/VaRaKkynJ6sb8YWJ3ICd1H028LjsjqryNTBwLI8Co9ZLJlHGm6cyP6zldXuTAIVl\n",
       "9nt1Rbu6nC4oN4Ij/dcsjbQWJnIDtsXsBIpXDFvUXnAGDDwaIQqMQl/vHaPeNvV8YWaN6zp2X5rO\n",
       "rH4b8b9YaeAXu26FAXygcIjgCwtQYEBnB3Y7dg2vInpIL70jhJFjg3Iq1lrW/zBWbcylg+JGAlNx\n",
       "bpCwb4CnojnfXyc4ayyPAgOu6VvAdlxnfX1+TIwLYcqJvlN2joLKvidAvc9+/DhRKxbPeSMjEwls\n",
       "Hmmuc5swj7uGAP6i8pjIbc/m5lFgwOda9G5s5AcUGvd+SYWxw0GQm+/JSfary5/R9ny5E4g4wpIV\n",
       "ELnxk2yFxNCRUFyWB4xz7cqhwIARvWucs2PEG2kNhJMGAb4m0BrX9XVqT21gJ435QEQKGxl7sk7m\n",
       "3sPKBFfmxY5QxZEcwbG/T3AsjwKD7BYWly/q+ooUtkJTkYPmANCHwNvugXBCl5vAjzhfLJvrmH4T\n",
       "0Wp+QHOtMmfgWh6FE7Z5PeVWIb4C4xH8rEZqWgir2u1rPHLvpIXWR6kP9s6qJoEXcS7Bbm7G8M36\n",
       "cpuvtCPtnT1563buJzkUdonrs+ZfnYHzS6D+LzRbQljT3n1UkOxbjcZUR/j8HyFWI5yNBP4a29zM\n",
       "5oFvHl7gyd8908b97jghY2EKDPEVCrrW5gtqzbvZsv2kUVzsCh9p6IHAxjIR39LczJ9iLHa8zzLP\n",
       "RouTdiADNEIUGNTRejVJD+oZ0/vktDig2XHHu28gfYClnMyQLa3tuv2FUds1GNR4SmHJaT75VxX6\n",
       "2xRh/14hjJ2XySr/a/bPAOjOcXa+38nrAAAAAElFTkSuQmCC\n",
       "\" style=\"display:inline;vertical-align:middle;\" /></a><br>"
      ],
      "text/plain": [
       "<IPython.core.display.HTML object>"
      ]
     },
     "metadata": {},
     "output_type": "display_data"
    }
   ],
   "source": [
    "range_1_expansion = Forall(\n",
    "        (f, i, j),\n",
    "        Equals(ExprTuple(f_i_to_j),[Function(f, i)]),\n",
    "        conditions=[Equals(j, i)])"
   ]
  },
  {
   "cell_type": "code",
   "execution_count": 45,
   "metadata": {},
   "outputs": [
    {
     "data": {
      "text/html": [
       "<strong id=\"range_2_expansion\"><a class=\"ProveItLink\" href=\"proofs/range_2_expansion/thm_proof.ipynb\">range_2_expansion</a> (conjecture without proof):<br></strong> <a class=\"ProveItLink\" href=\"../__pv_it/theorems/9d1d1df006447a69d98cf9294d89de68abedf3c60/theorem_expr.ipynb\"><img src=\"data:image/png;base64,iVBORw0KGgoAAAANSUhEUgAAAikAAAAXBAMAAAA8UsLZAAAAMFBMVEX///8AAAAAAAAAAAAAAAAA\n",
       "AAAAAAAAAAAAAAAAAAAAAAAAAAAAAAAAAAAAAAAAAAAv3aB7AAAAD3RSTlMAq1RmmUTNIjK7EInv\n",
       "3XZ/CtNrAAAACXBIWXMAAA7EAAAOxAGVKw4bAAAFLElEQVRYw+VYTWhcVRQ+efMyP+/NJAN14SLI\n",
       "BDULS2kKjeCmjrZaMSizNC7iqIjQjVMEF2ptdCekWukimEV5dVGtQhqDKyUSAgFFIjG40LaBiQxk\n",
       "pWTTVmYh3v977k/G3IwrPXCm977z3e+cnnvfuecF4F+RllA8Nx6Yln0/tqXgd+djOVAIrf2H8s8y\n",
       "VOOK5wDTeyB9Mr0/R79p9HRv8oOFILVKH9zfZ1YOCwWIv8nEuAND4xgz+TUoiynFG2BhXeG80SKF\n",
       "zzO0Z8Vhx1FoCFKfoA9f7S8pSZMrkS9na2J8E+AMwqT3roK2YLnyZBdMrEcYL1xle93k6DO+MGxH\n",
       "oSEIfZe+rRf7y0o8zpXI6lSmxnAcYcoPzoO2UBmU46GuhfUI44WTcnrct4KTm45CQxCaJ97SWn9Z\n",
       "KQslbrqgxuTfTGNeyLCFStTGIWGsK5wXVgAxOyvKHkehIQjNkXTl+ywrY0JJfjdAjQkv2pZlwBY3\n",
       "pHzPwsJ5oyYgZmfFmMdRaAhS17e2fugzK5NCITfyU52Pkw6hTqsKcmz9HkAWNySEdUXwxrTYLmwL\n",
       "tLNi0uMoNASpTwHMq5Wf8orMX1PxbEZltgUJvswlJbwsFGC4LebpIDntuaYG/wXY4oaEsa5wXrbx\n",
       "9fI4R7MV8RaTKqgQTEehIUg9CwXKmZyiLr9lmApLREms+EWyThA+SZM8rNMGm0IBzs+I+XsxoY5W\n",
       "dPv1J2CLGxLCeoTzVmhb1BqucbSzYtPjKDQEqaUsbdAcTMxYTkr2xScPIz3MH/xOSuCieLAmFOCo\n",
       "nGdl4rC4q9/gXcNC9/jWuthjFhLCeoTzlkmgCRzNONpZseZxFBqC1KjNiu2wcwfYWYkbYsDu8SOo\n",
       "Y9BZWVZzGvvgilUulcXdqMGeZ2VZZQXgGYF2Vqx5HIWGoIibJ6h9ZIk2uyxxC4+jrCQdeW1XCH7b\n",
       "yMqS8wZ9pOYvJoR0Q6e4alg8x3ejV1Y4b4WFclOg2QpcVzY9jkJDUMRLbMsfoRlos7agPoayEkfN\n",
       "+GMil+ANki92olRWHhCcl4UC/Cjnye2UlC2K5AGU24bFU+o01pAM8ZboisJtgc7Zvedlj6PQEBTx\n",
       "2yyHp6jDT2iWkuwrlJXP07pYOQXw5hHjrEzJdlwoj5iNi7uvi5v0Oqts5xuGxQgpvQsIm9zBA/Yj\n",
       "edk1m9sV6HjR/irwOAoNQREPsDJ7SW2GvOJKVh80yhJNDs735OCwrLwvLBeEyoJGx4fIsgqNo3JD\n",
       "l0tlwSENjNw5hLE/00FdDGAr07xFumkDdFMoutKwsnLB4yg0BIv4O/pz/TM2vouzMtwSbxDJQdKd\n",
       "8b1B9CZnt3lcRTc7wDn2+xD9eQwMi7FRNtaQKNO8rElgL8I5tQIJI7cchYZgEiddSBZhLIYvyJas\n",
       "4KzMgq62UbOOs/KHbD3rXEfzNTUH9TFHzmNUfQkMi/FpZmLtXh80L/luG6g9Kj8TTzodcN11FBqC\n",
       "SUwyUVyFKztAvtiHqjgr26qGk9b2vpbIyluvkYZvTprmuP56Fc3lp3hC9qMy3zQsnj+yKawlC4B4\n",
       "S60Pa5sC7fnQn3MchYZgEdMMRmxUk5WkBKjIAGra5KpELb/G9cRpNGdppOWdsndahsUVjbWE5knx\n",
       "JhfjTkOgS+5fEq85jkJDMIlLo+Rte57937NXZlEXl39Ot0GnUW/LLm21vNDmiucAO74NaftD2tnf\n",
       "d+g7Gr3Tm/xgIZjEKS0R7Ijk4NmnUVbiju55U6v9nYD/oRT26Kj2mv6H5G/NTN99Mr26TQAAAABJ\n",
       "RU5ErkJggg==\n",
       "\" style=\"display:inline;vertical-align:middle;\" /></a><br>"
      ],
      "text/plain": [
       "<IPython.core.display.HTML object>"
      ]
     },
     "metadata": {},
     "output_type": "display_data"
    },
    {
     "data": {
      "text/html": [
       "<strong id=\"range_3_expansion\"><a class=\"ProveItLink\" href=\"proofs/range_3_expansion/thm_proof.ipynb\">range_3_expansion</a> (conjecture without proof):<br></strong> <a class=\"ProveItLink\" href=\"../__pv_it/theorems/fa38b6530b6444dd20378cab800c3c2fb2a3638c0/theorem_expr.ipynb\"><img src=\"data:image/png;base64,iVBORw0KGgoAAAANSUhEUgAAAoEAAAAYBAMAAAB3izopAAAAMFBMVEX///8AAAAAAAAAAAAAAAAA\n",
       "AAAAAAAAAAAAAAAAAAAAAAAAAAAAAAAAAAAAAAAAAAAv3aB7AAAAD3RSTlMAq1RmmUTNIjK7EInv\n",
       "3XZ/CtNrAAAACXBIWXMAAA7EAAAOxAGVKw4bAAAGJ0lEQVRYw+1ZTWhcVRQ+85eZeTOZDtSFSJAp\n",
       "/oE/ZIqpoIs6YhqVUpil1VBHXQhdPVGQiG2juFCMZIKLmizkdVOohTTpslIMhYI/VKelhdoamGig\n",
       "4EKySVuyMN6fc+8979337gyMO3vhvrzzvu+e8825P+/eF4D/pOSxUjv0QBc/3oHffxxk+8mw8Tiw\n",
       "BD9Zht+/7D7KH1ipDbmuTazU4h0c6j8Osg8lwybQoBISuMKtElHlTx4aMIHpJVkBst8FaFca8Cfl\n",
       "SOQJEEioFG6wZ3V3BOMXCguCHdOCSsBAIQn7zwEi69BLQiL3/YmvQbhVIvbxp+8MmMGTWAGWZ2p4\n",
       "P7wEQwHhCMRrSYSWExNb7HrYHcH4hUpLsg/HyogEohJK918ARG5CDwmJ3Hwbvm9KtyjiY/l0sPIi\n",
       "VoALBwN9Dxk62ASSJf2cU/cVLn/MHSHkV7LHYmVEAlEJ5UcWoF8JidyUD+UV6RZF8GyWagNmcAUr\n",
       "5La0zctPRIBAynTOdan8cuAKEPEr2HaLlZhARMIbQf8SErnlLUjdkW5RRIaldmjQZbAlK+uLjrJF\n",
       "eZtMC4E8mih/yLkQRvwKttWCStCBiITz0L+ERG6qA6m70q0ScWl19ecBM5hdkhUyI5cbaC/yKbWs\n",
       "KYjsB0Qs+aWqIwDxC4tryLZaUAk6kJGw+9J9IBFvvd5DgosLwxvSrRLxMsDCgBk0I2JHV9lLk+zm\n",
       "GcORCO86gVjyMy1XBOMXGuW6ZMsWB1Z5uazhaCAi4R81KEu5lV4SHFyY7Uq3SsS7kDe59+QWcVp0\n",
       "KT6b1uhjCpfFdEpNVoBj02gXahPs5klDlsgVQMSSn15xZVD7hYq/oybZVgsqQQcyEvJ3AZFPsq0e\n",
       "ElxcuIxulYhiUGry3I3zHixJ2nV+KWKD63ouNRUOcHr5AZ1iKDdlBRhVtge/8N4yP08iFwGR7Orq\n",
       "72z9qGr5hQ1XBrVf1nw0kGyrBZWgAxkJ6Q2FBOVuDwkubraNbpWIdFe8SIp7piOCitGfcQL/NkQ9\n",
       "ALklK4PntZ3mmiajS/NFQMQaADnnGDxPUnQA2VYLKkEHmoy8jQQyGvSQ4OLuBnSrRbT2iuXD2htY\n",
       "GdyHf3kfbPLZctiaxXPaHqoyh0+ZxnNqWkjEnkIdVwbnyDS9iWzZgqyDVIIOZCQUqxp50wO3BAeX\n",
       "HXw+kG61iLM8EemRszyra2IxXK+ZDKLBSwdxnsHneAbPqnhdWUHMG3l/pslG6LPcgeRI5BtAxF7G\n",
       "24ZLSwBhv5DfRHYmeg6gEnQgI6HcVYi3WQK3BAf3C4C/pFst4iORb/4IFsVIzMqNlcwgN16ZZ6We\n",
       "byHeVhPrYTXm1d5C/Dp5P5uvyz3FGeEMEb4JEAiVX7qjtiKc691WjbRF/UJmg+6fQpvGakwgI+FY\n",
       "UyGFjffAJcHFzV8dH+9It1pESiyA4/zyoRjz35YaJoNo8AHaRrytzuIH1bm8I6tagPl96ml2c43P\n",
       "rRtkaf4SECHyUyO3dzJaU3Gv8puGuqwGYb+Q4uE5e7gZ/TzQiQlkJMhXjEB21t0SHNzh7e3tFroN\n",
       "i/hKD361sSoCMbiLKsez8/M/zjPyFPtlnwN5XfOarYZe33mxsDwOBhmejjkQiHIENDd80AgifsUE\n",
       "O6Jb0HLdDkQkvAD9S+jFFW4jIn4Qi96WaLLDJxlkhpzFhTbifBDkG3lfz2J1xt41VDO2Ppjzca4Q\n",
       "etDP1e2vAkv2eQ5CflO154PQpwxaxuxAWkK6+hb0K6E3V7gNi/DYUnqanSwbHvMwQ9/FM2DeJAzH\n",
       "DE599mkAf+s13Bf1t5PE5iThmfedRo4nfXxua264LNLWRX+2dgXZMR+UqAQMpCUML7T6ltCbO2WL\n",
       "KLB9zUzNe9AvXABYoxlc05zjwHDM4K/b28S/1xZ170vEVvEr/KKRUwmSZM4rNtClrb12dr1peixa\n",
       "qIRTEJaQWff7ltCbe9wWIcarmABp9T2jGP248TrZD5I88XIUK7XZASymo7vxkm71dwI/ati3kmET\n",
       "aFAJCVzhNiyiuIstcDmx93pt6NUVk0FliMnvmzMJte8Vvl7zJS0jbuvZ9cBkUBminAs32nMvb+5i\n",
       "/6fQizsu/N/LvwRSOtAKL/GNAAAAAElFTkSuQmCC\n",
       "\" style=\"display:inline;vertical-align:middle;\" /></a><br>"
      ],
      "text/plain": [
       "<IPython.core.display.HTML object>"
      ]
     },
     "metadata": {},
     "output_type": "display_data"
    },
    {
     "data": {
      "text/html": [
       "<strong id=\"range_4_expansion\"><a class=\"ProveItLink\" href=\"proofs/range_4_expansion/thm_proof.ipynb\">range_4_expansion</a> (conjecture without proof):<br></strong> <a class=\"ProveItLink\" href=\"../__pv_it/theorems/f9dff376a649c77f4cc14d2fc925c633f30d01380/theorem_expr.ipynb\"><img src=\"data:image/png;base64,iVBORw0KGgoAAAANSUhEUgAAAtYAAAAYBAMAAAAsQ6cYAAAAMFBMVEX///8AAAAAAAAAAAAAAAAA\n",
       "AAAAAAAAAAAAAAAAAAAAAAAAAAAAAAAAAAAAAAAAAAAv3aB7AAAAD3RSTlMAq1RmmUTNIjK7EInv\n",
       "3XZ/CtNrAAAACXBIWXMAAA7EAAAOxAGVKw4bAAAGvUlEQVRo3u2ZTYwURRTH3870bM+3g3LQhMMQ\n",
       "4x5UZBEw4YKrLCASySSekBUXiTHxoGM0GhKV0ZNEkDUccInR1hiUaGAgniTAusbEoCyDgcSvSQYh\n",
       "kniAzRI+sgfW+nivu7q7uro3s0cqqZmuef+q96vXVdVVPQBzkeqY1bLvB0q2vr49Cz9SbUeb5xBh\n",
       "Ntp6NLI9iy7GpXJVZrUMsFmj/EffQKaT2A+qdTXmHmEWWtW5mjYrwBX+w73dxfoBzADrv6fyRSj3\n",
       "qxphSTWFxZ92OQAXYjx47cIOR6gv6DEMCNZRBxHKA3EI0drX13ys1XKHAa19dF1NIiDwav7ri12F\n",
       "Oj8sM0Dh7nEsw18ALykaadkP0qJWnv8KQ+11jB6UduFfqQ7XiEM4vLOKCKVmHEKk1h6BEzWNVjgM\n",
       "aL+E1JREQOB3ZQPdJKtfZoDiffuArgGWKRppWaX88jRdXGEg6QGjB3+7Qh2uEYcwvtFJjBCp7alD\n",
       "cUyjtZQZlMHrK9X8dYmAwDzkhWpXsS5iBnjOAfeafSt3X1rGlFoPqR2Fk0YP/nal+qQOw4CQmYbE\n",
       "CNHa4jT03NBoi4o0hcv5UA2uI4IETrOb0Nvdct2HGeCYW+apV7nXwpIajuzoVqMHf7tSvVWHYUAo\n",
       "tJIjRGt7WtBzU6Pt08SaXV1FBAQ+1W7/0l2s12OGJafmYzl/kXkoVFyJtFhNtIQ7etjkwGsX8pcr\n",
       "qD6sw4hGSC84M4AIB1eBGcGohdKkRsudk9aL9bOEgMBPAOzrLtbeKLtF5UKGzb+0Mi5u0SgTlnBH\n",
       "HzF6cNsFC35EtahhtUWqQDzCHR1CaA5BDIJJC7s7Gi13Tlo31h/OayACAr8Ktjf+vhKfWfGJ63/W\n",
       "mxt1tOOOki5+wwz2TSq/ZzEPKW+9k5ZSFS3hjj5oCrXXLlyCKVSHasQgbG8gQra6BmIQTFo4o9My\n",
       "h65WWUOmEAGBc06hxifnIJ/bx+UsEdVxcyILPC0nO+vSw+cbdDPgJ8yQmqSyU2T+spPebRKXxRpa\n",
       "4Kl2+9d2+4zX0d2mWHvtgpOaRnWoRgzCYkCEPExADIJJa43otMyh1LKZ9vcpnGkApx2JgMCpjng0\n",
       "5pY3AuzBjWAe61v8EdEsj8GmYKzlY0JcL2b0mbHAA4THWljCg2rIuL322gWrheohbayjEY5R/CA1\n",
       "DTEIJu0S0Gm5Q9LSuH4f4LOqRCDg4ZVi2QmdDYKxtmryO8cXlgbrFO3o3TUkV3HLW/LMZ8utKy18\n",
       "DRGWcEcXmWKttCvPC4uohrpexyB8BITQW3FiEAxadpZ8U6PlDklLsZ5xeKwFAgEf4Seb1IIj/PAu\n",
       "SA8+rsQaC9w12nOy1O9uyz/FDMUOlfPXCuypwFuQ7qUl10FLuKMrwNX65hL422XLYw3VK4LaGIQJ\n",
       "IIRDtWYMgkH7AcB/UotjZsJ1TlqK9Q9iDREIBPyWCLCo3RGzYKBPiTUrWKMs7YE30C5iXX6ZtYkL\n",
       "trsD216jcnbyNdziXQfPwrc/wuLr6Ik67ee49tAwXrgltV2AR327TDWZEexrQAi77X4jgklrnx0c\n",
       "bEmtZEMtd05aivVSsb/mCC5wj1ioB3m9L/h4zzvfebGmAksb0S7H9YEOZHCV2YUZHxPi+i7mtsT7\n",
       "3XY8S7aFFrWj805vYb+cA9SW+A08C/hR+jPQLtzDP85h9r9AMiLgQ5Mj9CwFI4JJW5qZmRmWWsmG\n",
       "Wu6QtBTrzOC6GiL4gffQrHF3qiOgFFhaKOzrRj8ZHWVk2ZuQVXYqYrfymH/n8rZwLGKNlt91hzYx\n",
       "Olqe1pfuh0C7E6i2W0GpGcGqJEdIqBVsqC01dOdGQggA/8w/Dn0trm+osb5Ba8gOtPNx/W3Dvuqu\n",
       "IfhmJVV53isDvbrhq7NrWaZ78eO9NyqEH4tN8LV7Z3ra97JLTUaEhb3VxAhJtU1Fq76NyvjQVoWA\n",
       "89OQb0KfBd+wITumxDo7pjwb+yyMdclJn4Qy3b+9Ipf2DStlent4kKvJkov48wK2AWkDz8YOqO1m\n",
       "p8RWZptbw5dMCH/sh8QICbWczdPujTqHjYSAWUiz4/D5JdhZhXJFiXXZPVQyz8yOe77j5+seygGR\n",
       "0xfVMpFyINeSj3p5K0nDf3eU1dqs3Q2rvXsbSiaElWshMUJCrTg3u9oDUfvVegiYz4GUuKrSy7GR\n",
       "wJuyTNPbX/ubtzsyq2V+nA6ndyL+3KonevGCPrhaV2PuEWahtSP+xrsUAs4tZGv7MyKizgs7lbMM\n",
       "FXha650b1fLtNLtUuMw+xAhOw4YnlVhTQYj824R07Xbc5iqFJ4qjOdPdTonT/7WehFvREfD6AAAA\n",
       "AElFTkSuQmCC\n",
       "\" style=\"display:inline;vertical-align:middle;\" /></a><br>"
      ],
      "text/plain": [
       "<IPython.core.display.HTML object>"
      ]
     },
     "metadata": {},
     "output_type": "display_data"
    },
    {
     "data": {
      "text/html": [
       "<strong id=\"range_5_expansion\"><a class=\"ProveItLink\" href=\"proofs/range_5_expansion/thm_proof.ipynb\">range_5_expansion</a> (conjecture without proof):<br></strong> <a class=\"ProveItLink\" href=\"../__pv_it/theorems/65aaf99650d584688416287f6fdc82090ea3322a0/theorem_expr.ipynb\"><img src=\"data:image/png;base64,iVBORw0KGgoAAAANSUhEUgAAAy0AAAAYBAMAAAAFYQ+2AAAAMFBMVEX///8AAAAAAAAAAAAAAAAA\n",
       "AAAAAAAAAAAAAAAAAAAAAAAAAAAAAAAAAAAAAAAAAAAv3aB7AAAAD3RSTlMAq1RmmUTNIjK7EInv\n",
       "3XZ/CtNrAAAACXBIWXMAAA7EAAAOxAGVKw4bAAAHT0lEQVRo3u1ZXWwUVRQ+nZ3t/i9T4UETEpYY\n",
       "+6AiJfwYXrDSAiIRN/EJrVgkxsQXazAaEpHqkwSQGh6wxMhoDEpM2oX4JEEKxsSglMVA4t8mGyE2\n",
       "MRFqDZT0gXp/zr1zZ+bOnd1siS+c5OzO3fPde757ztzfBZgLGUBVy74fhKT09VNN+OHoVLR5Dik0\n",
       "gx0wUW4cOxBtblqKJa5qGWCrBvmHvoFkvWE/iNbVmHsKTWBV56psheawQh36w/2t5eUhVIBNX4vy\n",
       "VSh2qRhmsSrM4pf9LsCVGA9eu7DHZegrehoGCvZJFykUu+MoRGNfX/+hFksdBrCpkxvLuigguYCk\n",
       "uxlW6Dr628stpSXbzxUgd+9ZLMNvAK8oGG45CtyiVl7wKulWu2v0oLQLf3J0uEYcheP7SkihUImj\n",
       "EIlNDcHpsgbLHAawn4E1pYuCIOeXgsOxqO9wZ62I3cUVIP/AYRDPACsUDLf0KL88Ix6uk04muo0e\n",
       "/O0ydLhGHIWzW9yGKURi2wYgP6bB2sqwSOLz9VL2pi4KOizA3w7HotLU50ot5SWPCvCCC/KZfCtv\n",
       "FbeMKbUeUYMC54we/O1y9DkdDQOF5Aw0TCEam5+BtmkNNq9ALVx++spwUxcFHRbSqxyORU2QhLW3\n",
       "trx0ogKckmUq7cp7wSxWf2RQths9+Nvl6O06GgYKuWrjFKKxbVVou6XBdupiDda/mijosbl2h2OF\n",
       "nq/VfmgtL5tQYdn5BVjOXiUt5xwJ4Ra7gpZwUI6bHHjtQvaag+jjOhrRFBILL3YjhZEeMFMwYqEw\n",
       "qcFS5wLr5eV5XRQkOR92guYlp+gTAIdby4v39t4W5VySzAEJ5X27Ld5eZgkHZZXRg2wXbPgW0ayG\n",
       "XWPiQDyFeXVBodIHMRRMWDhQ12Cpc4GVsX6/Y1ATBUlOxaa6aF4oVuhrkPIy+jmf69gnrm1pb8wN\n",
       "oB134eLhJ1RI3RLld23SsuXNz9xSKKElHJSHTWnx2oUJmEJ0qEYMhd2DSCFdWg8xFExYuKjDEocS\n",
       "q8xjU5ooSHIqNgc0LxQrNOPmynSC6KUj6xs+Upkr3KTxApWVws5eJpk4+A4VrElRdvPEX3rSSyl7\n",
       "zJfRAk/Vaj/Wahe9oBww5cVrF1xrBtGhGjEUlgJSyMI4xFAwYe0hHZY45Fgygn8/jyMY4IIbjoIk\n",
       "p2IfZXmhWKFWnS37mZWDgX4GN89Z9GXzrgA8F8wLXwLZ81LS0+RYYHGkeWGW8MvaZzy+eO2CXUV0\n",
       "nzYv0RROiViDNQMxFEzYZaDDUocCK8bAewBHSuEoSHIKNlVneaFYodC/hk2ToXNaMC92mX9n2O5w\n",
       "qXcSk/NYxpHlbVnisyrrcgudx5glHJQlprwo7fKz2xJRQ11fYih8AIJCu+PGUDBgrQq8qcFShwIr\n",
       "8jLr0ryEoiDJKdhkR8eiMxWGFQon6AnTWniCXsywiiNrlbxggdJEO8vLyKh37PkYFfJ1Uc7eyJHV\n",
       "i7bAqXJLpo6WcFBWg8T6xij42yXTeRnRq4PYGArjICiMlisxFAzYvQB/cSxGdlw6F1iRlzNsHmMU\n",
       "gv2QUfDWorzD6QqFt1gymKc6G4ndnUpeSMEeJnIQ3kA7y0ud5MXCBUbuWneXRTk9uQO3xTfBs+Qc\n",
       "tPiCcnpA7IEpdrQfH2RJbRfgMd/OXBUzhdQNEBQOpLqMFEzY1KXe3irHcm6Ipc4FVsR6OTu/UAqh\n",
       "fsgoeHmZN8SxQqGNLSy91MendPxk3a+8vIgCkS1oz7CtGclLEme6/ai4BLLn+YRigdKouZ4lXUWL\n",
       "GpSOC9vIL5cBsQWa7EuAH4VfA+3CffTjMqr/8tFIAddcSqFtORgpmLCF2dnZfo7l3BBLHQqsiHWy\n",
       "d2MZKYT6MT94frGP/FNnWKEoB8XIlSeBIVAKRBYz+8bhj4aHu3YAyUta2bGxXdvj/h3cLuaY5QUt\n",
       "P+sO2+ytq3pYnzwIgXbHEZ2qhi7+jBRsp3EKDWIZN8QWBnXnfUkh3I9I7C5Zh8n39GP0C/Y8reZl\n",
       "Wsxje9BOx8vek0+fkPMYXiNazoteGcS1H51HpWWF7tLQu3PMhZf8CvjavScx47soVcVIYXF7qWEK\n",
       "jWIrCla9yUz6qPXo+mHA9vguTLMzkK1Apw1fknEwpuQlPaas+522WF9gtwtFketDTAuH+5WyuKUe\n",
       "oTWFJRP1T9xOENjAul8Htd30FNvS7ZQ1fGKi8MtRaJhCg1jKzcMeijoTD2n6YcAKFdeZY5A+C59M\n",
       "wL4SFB0lL0V5GUBYEjvmJbForUf7GNPEVbUsekXJS0s26g8FzjT8N2BRrU3a3bzOew9CYqKwZgM0\n",
       "TKFBLLvvkNhjUXv8AV0/orFClb80LPZUEjegQ4Eb2WRFOb/4mienIqZqmV6ZhOVtPaFiY/9oow+K\n",
       "1tWYewpNYFN1PXYCmsNO+OpkFpO16FkWffelfcq5UhSobFDP+175rtw5yV0jH2xkJGDzk0peRIGB\n",
       "/NulRPlu3P4PCQ9WV3MWvyt3RP4DDm/MceCpAhAAAAAASUVORK5CYII=\n",
       "\" style=\"display:inline;vertical-align:middle;\" /></a><br>"
      ],
      "text/plain": [
       "<IPython.core.display.HTML object>"
      ]
     },
     "metadata": {},
     "output_type": "display_data"
    },
    {
     "data": {
      "text/html": [
       "<strong id=\"range_6_expansion\"><a class=\"ProveItLink\" href=\"proofs/range_6_expansion/thm_proof.ipynb\">range_6_expansion</a> (conjecture without proof):<br></strong> <a class=\"ProveItLink\" href=\"../__pv_it/theorems/b88a681a44078bc0bfdd68d74f26fe8c5d0111370/theorem_expr.ipynb\"><img src=\"data:image/png;base64,iVBORw0KGgoAAAANSUhEUgAAA4UAAAAYBAMAAAC/7kWTAAAAMFBMVEX///8AAAAAAAAAAAAAAAAA\n",
       "AAAAAAAAAAAAAAAAAAAAAAAAAAAAAAAAAAAAAAAAAAAv3aB7AAAAD3RSTlMAq1RmmUTNIjK7EInv\n",
       "3XZ/CtNrAAAACXBIWXMAAA7EAAAOxAGVKw4bAAAH30lEQVRo3u2abYgVVRjHn507d+e+O5tCBkJX\n",
       "ov1gqSu+hF9sbVdNJbnQJ2uzNanAL20khZC5BUGS5oYfbJfIMcKSQK9SXxR1NYKwXK+h0IsXLikt\n",
       "9KKboSsLuZ2X58ycmTn3zKx3Iz944Nydc5/fOec/zzNz3u4CTEbqwSyXfV+IZKnrWxPoh9NWffMk\n",
       "SpgI26OTPOmspXJ7I6lQ5FkuA6xTkL+oG0jWYveDtKrG5EuYACt3Lqd1MOlsL2R6mIR1mG367QON\n",
       "xfAhzACrj4jyZSi0yQyzGGVm8acdDsCliB68dmGbw+hLahkaCeZRByUU2qMk1Gc3Lf9AydIOA6x1\n",
       "dGVJ5QUUF0ip9rjs2Req3AeUp3kZ/fbFhkKY6eYZIDv9FJbhZ4CNEsMt+4Bb5MrTXiIuaHa0PUjt\n",
       "wq+cDteIknBoexEl5MtREuqyVh+cKClY1mGA/QSMayovCHH+lLfjshf/OYJyN/L8JhfWSDLbeAbI\n",
       "PTgA4hpggcRwS4f0zZPi4ipRk2jX9uBvl9HhGlESTq11Ykuoyzb1QG5QwZrSK5TE66vFzA2VF1Qs\n",
       "wJ92FCvk2sIHjF/A45ktNhTDHGaAZx1wr8lf6WnllkGp1hzZgXBa24O/XU6fVsnQSEiOQWwJ9dnc\n",
       "GDSNKtichBo4XXaV4IbKCyoWUovsKHaOHEMmgfIkJ0igmxubDlsxAxxzyzQ1S88QsxjddR24QduD\n",
       "v11Ob1DJ0EjIVuJLqM82VaDppoJtVcUFjL8VXlCz2WY7ivXHcAPeHs1nqtVvG4vhasww78w0LGcu\n",
       "k5aztotwi1lGS9iBh3QdeO1C5oqN9CGVjPoSEjPOtaOEAx2gl6BlIT+iYGnngvVi+IzKC644HztM\n",
       "Y6hnhYSpv09HuVms8zjAQGMx9N6KW6KcTZJxKCE9x7fEW8EsYQcu0vbgtgsmfIU0q2FWWbIhWsKU\n",
       "mpBQ7oIICToWdtYULO1csG5c3mvpVXjBFSezVhuNoZ4VEgZga4lLoDzNL4PlRf9TPjazT5y3U957\n",
       "34N23LmIi+8xg3VTlN8yScuGN59wS76IlrADH9aF0GsXhuEa0qEaERK29qKEVHE5REjQsXBOxZIO\n",
       "XVYaS68pvOCKk9ks0BjqWU9CusIlUJ7mtJMt0UGqk76xx/lowWThYpUXaFoo7KSHL58siiDD15jB\n",
       "GBFlJ0e0pUa88LPLXAkt8ES1+l21es5z4E5dDL12wTHGkA7ViJAwF1BCBoYgQoKONftULOmQs2Rk\n",
       "uHgGRwaylXPCXnDFyewjLIYaVpYA5iiXQHmajRpb0qQX9gZ8EtxwZFCXSRdjZ8me5elgDPn0zq7n\n",
       "Eq8kBwMTP40hs4Rfgi7t9tBrF8wK0l3KGNaXcEzEBYwxiJCgY+eBiqUdCla8W+8A7CmGveCKk1ir\n",
       "xmKoZ1FCuhvMm1wC5Vmd7iVsWA/tmYMxNEvYBq1MAy52uu5Ymrbd8voM0VfxXn5bjKXMEnbgbF0M\n",
       "pXb5Pnq2qCHPhxES3gchodl2IiRoWKMMrylY2qFgRQzHHRrDkBdccRKbbGm5/2Q5ghXbG7I0HuES\n",
       "KM/qHKa7fWPGYXr4xioeeEyKIRboLaGdxfDtWd628iPMkKuJcuZ6lsy2tAV+W9ySrqEl7MDF4LK+\n",
       "dx/87QKbzhm9OMhGSBgCIeFgqRwhQcO+C/AbZ9GzQ27nghUxPMnGUiYheB+uF7y5M2dDBDtHTJ2Q\n",
       "6+MSKM/qvM4Cx1TV2GjQ3irFkBTMfpJ2watoZzG8dy95wnBCdFf6W0uinBp5BbcSN8CzZG20+Bx4\n",
       "okfsGyh7sBsv3JLcLsCjvt2MnPQSrOsgJOy02rQSdKx1vrOzwlmuDVnauWBFXOaz/SGVELoP1wte\n",
       "DKf0RbFCQjv84XAJlGd1mthE2EmtH9P3MuN84cVQFEhai/Y0X66OQBJH2x2YcXpn11PJ7eSpjKrj\n",
       "WVIVtMgObDm7nnxzAZDN0wfjPOBH/qdAu3Af/biA2X9wrZWAawQqoWk+aCXo2Pz4+Hg3Z7k2ZGmH\n",
       "ghVxSXauLKGE0H1MDe4PzT1/1SJYIXfT0lV4/3nRPk+7xOjh7rT6QCqQNJPZV/Z/2N/fZpA3HFLS\n",
       "ypWtXpf6V7JbmEgWQ7T8oDokYc9WxWN9aRYE2h1C2qqEDo21Ekw7voSYLNOGbL5XdU7jSgjfx22w\n",
       "YQlb3DosfUM/Dn7GrkflGI6KsXQb2ul7OKXXGnXHUjyCNuznvDKII2M6lruWBaoDZ++8OhtezpTB\n",
       "1+49iTHfIbuctBJmNhdjS4jLliVWPgVP+qR1qO7jttiwhA7fwXxmDDJlaDXhczKGDEoxTA1Ka5pW\n",
       "E2NoOgUbCuIZ2s1yfqBbKotfQw7QmsKSrver82YQbGBNUwO53dQ1trTd7NbwJZ2EH/dBbAkxWarN\n",
       "Y3fXO5/oU9zHJLCbkZd+cyKhSp2CvcOwvQgFW4phwT3EIXdE7DyGmeNHpVvcz3LislwWZnqjriVT\n",
       "70currQW+r4g1ybtrlnmPTOhpJOwZAXElhCTZedULru/3r6oR3UfjbO7kZeeM/rOGuyqKE7P+wIn\n",
       "/8mytz/0N092qCzLZXosFk5vqAUV4v1XCPZBaVWNyZcwAdaqqdlh+E9YJmHYVyc9k8ydT7FIOc9v\n",
       "l/b4okDTCu+cRi7fTXdGyl4hH+yNS8CaVVIMRYFB/mVjonTXb3d6Cg8YjuIM5W7639O/UpMXGHOh\n",
       "dOUAAAAASUVORK5CYII=\n",
       "\" style=\"display:inline;vertical-align:middle;\" /></a><br>"
      ],
      "text/plain": [
       "<IPython.core.display.HTML object>"
      ]
     },
     "metadata": {},
     "output_type": "display_data"
    },
    {
     "data": {
      "text/html": [
       "<strong id=\"range_7_expansion\"><a class=\"ProveItLink\" href=\"proofs/range_7_expansion/thm_proof.ipynb\">range_7_expansion</a> (conjecture without proof):<br></strong> <a class=\"ProveItLink\" href=\"../__pv_it/theorems/428fafba596911d3daf3ab94bda93103ef2970000/theorem_expr.ipynb\"><img src=\"data:image/png;base64,iVBORw0KGgoAAAANSUhEUgAAA9wAAAAYBAMAAAD67+gRAAAAMFBMVEX///8AAAAAAAAAAAAAAAAA\n",
       "AAAAAAAAAAAAAAAAAAAAAAAAAAAAAAAAAAAAAAAAAAAv3aB7AAAAD3RSTlMAq1RmmUTNIjK7EInv\n",
       "3XZ/CtNrAAAACXBIWXMAAA7EAAAOxAGVKw4bAAAIMElEQVRo3u2aX2wURRzHf73b697/boUHTEg8\n",
       "YuwDChzhj+EFDykgEMklPhi04iFRiQ96RoIhUVt9kgi2hgdsNbIaghINPYgPhgYoGBJTpRwGEv9w\n",
       "yUUam4hChZSSJlJnZmd2ZnfnZve4+oBhkik79/vOzGd/v9nZmVkApiMVaRbLjh9Y0uX19Tr6sdR6\n",
       "bfM0ItSjLaqQp11bL65eh5f9UjpjZbEMsEmi/E3eQKQauB+qltWYfoQ6tGLnYtoE067tgnixXlyW\n",
       "DfzD/Y2F+0GaAdYfZeURSGdFDbGESsTiTLtNgEs+PfB2YadJ1JfkGAoEbcCkCOmcH0Jt7bbVH0q1\n",
       "uEOXVh9Ym5d5gcK5UjQXVHv2hYoZFBcGBrpsf6G8Cv/2YkPRjhesDJCYdYqW4VeAlwSNZTkAlkWs\n",
       "PPMVhNpsKnsQ2oXfLbW3hh/C4V0ZipAq+SHU1Oo9cCIv0ZIOXdr9ELom8wKDc6aUEVR78Z+jQXFh\n",
       "e76pbPsL5bete2gkaVkrAyQf6AN2DbBY0FiWlcIvT7CLqwgknFP24GyXqL01/BBObTQDI9TUNhUh\n",
       "OSjRasKDGaHXVzPxGzIvyLQAfxl+WoZrMB8EuLWXIdZj+wtlHPVEpqFwJ2kGeNYE+xr9KwxAyzIo\n",
       "1Jov+hqGlD0427XUQzIMBUJkEgIj1NYmJ6FpQqJNCtIQfa925OGGzAsyLUSXGn7a+WK4g+GGJh3+\n",
       "GoIwGj7Njb2622gGOGaXcWoWRiaxhAo1fb1F2YOzXUu9RYahQEiUgyPU1qKpsemmRNsmCyGErku8\n",
       "INcmmg0/rTPcgXBjgw5/oXymUvm+sXCvpxkWnplJy/ERBJ4wbIll0UrU4vX1YVUHvF2IXzGo+rAM\n",
       "ozZCePa5HEU4tBLUCEotpMYkWtw50/JwPyPzgg3n0I7icKu1DGHG5VlBcZNbj68S/IXyYwB9jYWb\n",
       "P2u3WDkRQcMqLAy3W+xZIxavr5cqe7DbBQ2+pWpSQ6uQZIA/QkuVIZQ6wAdBpYXuqkSLO2daO4Tv\n",
       "t3ZJvGDDiVo9i8Ot1jKEPujMB8Rt2QLJDPcXyq+CzsfU59Z7hPyla4Eon3iK1E53hOziR5pBv8nK\n",
       "72gIPMRfJpYllaEWr68fUkWbtwujcI2qPTV8EDq7KEI0sxp8EFRaOCfTog5trTCZX5N4wYYTtQnA\n",
       "4VZrOUKsHBC3fwy0Ie4vlGNmIo9nyXY8ZRy3pitSnS7XrQJOS5gd413JsvEAp2mG0Bgrm0l0G9Ex\n",
       "PlLIZTJPLfB4pfJDpXKO+7pbFW7eLphk8dEtq+GDsAAoQhyGwQdBpdV6ZFrUoaVF883FM3S+QVtk\n",
       "0+sFG07UPkzCrdCKCKBNBMTtL0N4nPurG48vslKLLelyuc+9O4vTW9Dwn62I7Gl3uK0lA7legBwY\n",
       "GXQtJnC4icX7aHUot928XdDKVN0hDXdthGPMJ2y5qkBQaReCTHuaL4PtJ/ZdgH0ZrxdsOEGrV0m4\n",
       "1Vq2/CqAdjMgbksBwte5v3AuLCcGz7GFO9xannaHYXLADxvsyTxm2OXNcdR3mc8+BpvMicXr63mq\n",
       "cAvtWucI81gN8d3tg/ABMIRmw/RBUGhDJXhdosUdMi0L95SJw+3xgg0naCOtrfedLPlo2fILbQ7G\n",
       "AuLGrKd7nuCzI/gsJzT7CD60JX0celQINy3g5qgdhzv55Fy+Xf+EZkhWWTk+nkALD9yC1b1liVWp\n",
       "xevrZWBrHTMKONsFskoh6mVurQ/CMDCE/nzJB0GhfQ/gD0tLgzBsd860LNwnyWROENz3YXuBv+eT\n",
       "Bvho57PXPCR7AuKiV4I2yP2F8xskxuQGqmQuyLUJ4UYFrRelPbCd2nG4+7/Zn4UQfXnb26LOPCtH\n",
       "x16j+64bwC0Jg1ocvj5RZJssrO0v0Au7JLYL8Ihj6ycmNYI+DgyhW88qEVRa/Xx7e9nSWmxUiztn\n",
       "WhbCRWTfjRE892F7gYe7pcdPyxBy8KcZEBc+gq8y3F84N5GXdjuu9xmeTOLm1zzcrIDSRmrH4e7M\n",
       "xicgQqf73TTTJQO5noG6TWHiiskt0TK1iECtZzejXy4A1abwGDoP9E/qF1e7cC/+c4Fm53cOJQJd\n",
       "+mCEpkWgRFBpU1NTUwVLa7FRLe6QaVkII+1r8xTBcx8z3Ptubd/fVR8tw922Yh0ExIVE+yzBX9xn\n",
       "e9h8YO9ge8B5ejOH2Nf2ftzbm23pgusQFdbuZP2+wrmWf5PcDwk3tfwkO9IiA7TMtY40F1ztDlO1\n",
       "XvZ8Y1AiaEZwhIBawka1qS7ZqZqN4L2P29A2hOvy2Xdkm/YFuZ4Qwz3BJvOd1I6fbjQMx+3JnJ6+\n",
       "h4zneBnYkT1+79iWxbLvE/zzRsK7SiuBo917wpOObzJiUiLMac4ERgiqLQla8YtFxIG2UnYft6Vt\n",
       "CNfps/gkxEvQpsGXaFYYFMIdHRSWam0aDXc4h6aONBuZe0lO9RWEMvvOdgjXZJZYjf/GATuAaV1L\n",
       "tSqI7UavkcX9DruGI6kQfj4AgRECajEb1+6tdUTUI7mPadDWi+v0GYpq9BR8Ogq7MpA2hHCn7SM3\n",
       "1BqyW+GGyyMmb/4gyeERscx6xz6xLfFaX1qtm6p6fk+LtVG7G1bx4eVJKoTlayAwQkAtOVW0tQdr\n",
       "bSKLsvtoXFsvrtNneNIIkasM+y7T4/qmFCnxfbeTRK9aWSzj805vekvOky4GOpynfWC1rMb0I9Sh\n",
       "1aty7Sj8J9p6cZ0+i81BS4KnSFDN53cJxyysgNMa4VRNKN9Nd1xKXEF/yHMchg3rhHCzAhE5F87h\n",
       "/F2//Y+Sd7owJSded9OdlP4FSkNnGtrHlzoAAAAASUVORK5CYII=\n",
       "\" style=\"display:inline;vertical-align:middle;\" /></a><br>"
      ],
      "text/plain": [
       "<IPython.core.display.HTML object>"
      ]
     },
     "metadata": {},
     "output_type": "display_data"
    },
    {
     "data": {
      "text/html": [
       "<strong id=\"range_8_expansion\"><a class=\"ProveItLink\" href=\"proofs/range_8_expansion/thm_proof.ipynb\">range_8_expansion</a> (conjecture without proof):<br></strong> <a class=\"ProveItLink\" href=\"../__pv_it/theorems/0b9379b8af86446a9b01765039c982fff0145c190/theorem_expr.ipynb\"><img src=\"data:image/png;base64,iVBORw0KGgoAAAANSUhEUgAABDQAAAAYBAMAAAD34bAXAAAAMFBMVEX///8AAAAAAAAAAAAAAAAA\n",
       "AAAAAAAAAAAAAAAAAAAAAAAAAAAAAAAAAAAAAAAAAAAv3aB7AAAAD3RSTlMAq1RmmUTNIjK7EInv\n",
       "3XZ/CtNrAAAACXBIWXMAAA7EAAAOxAGVKw4bAAAIkklEQVRo3u2aS4wURRjHv53p2Z73NoIJJiYO\n",
       "Me5BBZaAGC66yKKC0UziSUVYJD7iQddAMCYiqyeMIKscEDTSGuMjGnYwXoQAC4bEoMBgIPHBJBMh\n",
       "buJzBXlkEx3r8VV19XRNda2zXpRKaunq71dV//rqm+rqagAmIw1gVsuhGyK5+vruBPrhtNvaPIkS\n",
       "JsIOmCRPOtu2XLe1BHcCMxKXiiWe1TLAcg35vb6BVN26H6R1NSZfwgRYtXM1LYdJZwchO9CuXA27\n",
       "2kcJwr8evXtte6FxA2aAu3aL8hko9qgMsyQqzBJOm4ik0zE9BO3Ciz6jT+tlGCQ4e3yUUOyNk9Ca\n",
       "XXP7a1qWdtjEunuWlHVeQHFNKd1ryx57pObbyoU9ewYt2dmNRmOESUD/LqZ3H20rMrL9PAPkph/E\n",
       "MnwH8LjCcMu7wC1q5WlPEqmdvrEHpV34gdPRGnESdm0soYRCJU5CS9Ydgv1lDcs6bGLfgcRZnReE\n",
       "uHAqeLbsqT9328qFteWOqiX7aV/f3SUmAf37PB9vO8np4Rkgf912ENcA8xSGWxYpd+4VF78RIcle\n",
       "Yw/hdhkdrREn4eB9vrWElmzHAORHNKyj/OBTeP1bKXtB5wUdC/CLF8cKuZ7wgcXQnoDMkCVLAmUN\n",
       "l4D+pRGSK7UVGnnMACt8kNfkXyVYuWVEqTVLnRc4bOwh3C6nD+tkGCSkxsFaQms2Pw4dFzVsXkET\n",
       "+GxfVoYLOi/oWEjP9+LYWWpo2MlNjNuzJdZy3pf+TZKw7Gxvq9GNGWCvLNPUqUQ8syT6W87LKmMP\n",
       "4XY5vUonwyAhV7WX0Joly3PHJQ3brZtuSJzTeEHP5jq9ODYcGlZyMyP2LLENogT075Fa7Yv2QuMu\n",
       "zDDnyDQsZ8+QHnKeRLjFqaAlOi+7TB0E7UL2Vw/pXToZrSUkrz7eixJ2LgKzBCMLhTENSzsXbBAa\n",
       "D+q8IMWF2FEaGmZWSJj603RbufnH9i22H9ozgBLQv3cCbG8vNILf8F+inEuRcE0qofmX+A0zS3Re\n",
       "5ht7kO2CA58hzWo4NZY8iJfQVRcSKssgRoKJhc11DUs7F6yc7penDGq8IMWprNtDQ8PMCgnbYX3Z\n",
       "Um7XKsiXrId2JaAE9O9T4Aax+h5/7rG/uHdJB4vfANr5iUhR3P8KM7iXRPkFh/SQCB5o3FIooSU6\n",
       "LzeaIiNoF0bhLNKRGjES1g+ihHTpdoiRYGLhuI4lHUpWeaCc1XhBilPZHNDQMLOBhEzVUu7wGDiH\n",
       "bYfm0t6ZBPRvxs+V6UrdR5etfXzJZNXxtYUXaLpJ2Mmv9dUNG0TswCHMkBgTZT9PhpweC6KKXebL\n",
       "aIG7a7Uva7XjwbxsNoVG0C74bGO1WVcjRsJsQAlZOAoxEkysM6RjSYecJevYqSO4jgEc86NekOJU\n",
       "9mYWGgZWlQDORUu5w1VInrcdWo6GIJOA/k3U2S40c9Ngk6ub32izOFyH0o3GH/BAc2jwLQ67nk2c\n",
       "nRpp2vzQ0GCW6E92mfFYI2gXnCrSy7Sh0VrCXuETsW03SDCxc0DHHgpeB+RKsAFgRynqBSlOYd06\n",
       "Cw0zK7aW/eBcspTb1Q/Jc7ZDK9AZZxKEf/tvYY1EjpCaQ8MpozQeHr3yJEU+UDKeLK/Mkr6rwQro\n",
       "iQcKs0TnZaYpNJR2+TnNTFFD3WvESHgFhIROz4+RYGATFXhaw9IOBStCo+HT0Ih4QYpT2NSUKdcc\n",
       "qMSwYmtJXpLGLOVm+KphN7Rh2iWTIPz7MT0AS1z9MT1BZ3p23qaEBhZoc2jPsL1GzpfHIW9ihnxd\n",
       "lLPnc2RHQ1vg3XNLpo6W6LwsAMmGVioItwtsB8boBc1sjISjICQMlysxEgzsSwA/chYn7KjsXLAi\n",
       "NA6wBwqT0DwO6YVgX5L3IIadJbYlkB+ylEseS86I7dBW0B0CkyD8+yyLBzbYOltjeruV0CAFZxtJ\n",
       "W2At2jPs/nWkX9xsyFfJ9WVRTo+txnfVCxBYch5aQvOyf0C8mFJ2uB8vZEltF+DW0OuymswS3PMg\n",
       "JGx2e4wSTKx7oq+vylmuDVnauWDFdM9l5xpUQmQc0gtBaHQNxbFCQi/87FvKhdfho5ItO7uCr7XS\n",
       "vx1sk9FH671NV5Os/0kQGqJA0n1oZ6GRJdYUPnI2YcYtDrueSrot0NHV/MCSrqJFFTTl2Epy5yQg\n",
       "W6DxdgLwT+HbpnbhKvrnJObwNzKjBNzWUQkdc8EowcQWGo1GP2e5NmRph4IV053qW1JGCZFxTG0+\n",
       "13B2/F6PYYXcNQuXgqVcyPVNt2afpU8BJiHs3y1inZEnBEMQPkmbwexLtr2xbVsPJElwpZV3GPYe\n",
       "szD8TrOOjZ2FBlq+1p3BsWCuBmwoXQ9N7R5F2q1Gvk8ZJTievQRLlmlDtjCoOw2VEqLj+Adsm3Lt\n",
       "2HVR/37ONiLvs+uLamhcFA+UF9GeEWcm4oGCX2MS3kNBGcQnHPqclJZ5um9bwaexXHQHWoFQu1ck\n",
       "x0Pf89RklDCjs2QtwZatKKz6BSsVkrZIN45/xLYp145dFPFvdhyyFeh24EOyGowooZEeUbah3Y4I\n",
       "jS5SsygifivLhe39Sll8z91JawpLpsV/b2JHtJxt2obWQW03fZa95Dwja4SSScI374K1BEuWagvY\n",
       "ra2O64Y045gEdsJy7VgmIexfEgHpg/DWKGwsQdFTQqMoj0pJa8SOoUEXOtn8Bywnz6hlYab+k5Zs\n",
       "q6//3AH1yP2iWpu0e8/iIBQjySThljvAWoIly06DJftBqxfvAd042mcnLNeOZRLC/qULVwK/zeL3\n",
       "v6Gmb5epSnCuEVbt1nlWy/RMO5qe0wsqDlh9rME+KK2rMfkSJsC6dT07Cv8K267cVuxoxL+ZGWQV\n",
       "uJ8FgP/wRuXISxRouiM4DVXLl9N/OuV+JX/Y+pCEe5YqoSEKDAq/QCTLl/32P03RZcjXnFReTv/V\n",
       "9Dfjr6nLdn/eBAAAAABJRU5ErkJggg==\n",
       "\" style=\"display:inline;vertical-align:middle;\" /></a><br>"
      ],
      "text/plain": [
       "<IPython.core.display.HTML object>"
      ]
     },
     "metadata": {},
     "output_type": "display_data"
    },
    {
     "data": {
      "text/html": [
       "<strong id=\"range_9_expansion\"><a class=\"ProveItLink\" href=\"proofs/range_9_expansion/thm_proof.ipynb\">range_9_expansion</a> (conjecture without proof):<br></strong> <a class=\"ProveItLink\" href=\"../__pv_it/theorems/5c2624d7b3dd05d878b8d53b872e43c41665411a0/theorem_expr.ipynb\"><img src=\"data:image/png;base64,iVBORw0KGgoAAAANSUhEUgAABIsAAAAYBAMAAACIHGCjAAAAMFBMVEX///8AAAAAAAAAAAAAAAAA\n",
       "AAAAAAAAAAAAAAAAAAAAAAAAAAAAAAAAAAAAAAAAAAAv3aB7AAAAD3RSTlMAq1RmmUTNIjK7EInv\n",
       "3XZ/CtNrAAAACXBIWXMAAA7EAAAOxAGVKw4bAAAJMklEQVRo3u2abYhcVxnHn525s3fec9NEiFLo\n",
       "BHE/qM1uSVrpl7g1m9a0NA4IQjVtpwZf8IOONFQCrVn9ZDE1I/1Qs4q5ilSLkp2EgNil7TSlWKJJ\n",
       "JtKCLx0YbHDBarum5IWt7XrennPOvffcc89m1m974Nm9Z57/Pef3nPvMueeeOwBrUdrC9HrkAyy+\n",
       "+Xx/Ff1wtZ/uXkOE1WjbNuQ1146M668NbjvdvepSb3DT6wAPGJR/NzdQGDr3I9SmM9YeYRVavXO9\n",
       "PABrrp2FcntUXIP24fA6cNEC+sGHR0ujjwkDuOdZrF+E+pSuYZ5cl3mi5QmC/0ZGD6pdeDxk6jfM\n",
       "GBYEbyEUCPXpLIR07YE7f2TU0g5jWn9hT9M0CgIuVorTrtrzXx6ErriwsDDrqJ1cWVnpRRFUaDGE\n",
       "8sIpHhrabvrpV0bKonKLG0Bly2lRh78BfE3TcM/TwD36yZu/QVDHQ2sPWrvwD65OnpGFcOJwQyDU\n",
       "ulkIqVq/Ay80DVrWYUz7C8hdMo0CwkVLLXDVvv7es6648EhzrO+o/d3MzL2NCIIWWgzBA7iB4wr7\n",
       "Dh+bUYo3xQ2g+pE5wGOAHZqGe3Zpn3wWD94mQeanrT1E22Xq5BlZCKfvC50RUrVjbaj2DFpP+xYX\n",
       "xPHbjfIV0yiYtAD/DrK0iBvgGDiE9nUodRy1JKkORBHSQ9vOEnEHSKOZWmmMlEZVYQAPhiCPyX/t\n",
       "S8A9Pe2sbfo1hDPWHqLtcvUZE4YFobAMzgjp2uoyjF01aKuaNCfWIvuacMU0CiYtFG8LsrTb9DRy\n",
       "w80tu2sbrGUdIT20EyyNqFZYnuTX+GhLowlhAM/JOi3jWhozT66Veg33W3uItsvV+00YFoRK3x0h\n",
       "XUtuEWPXDNoJU2pA7h3DKJi1lfEgSxtNIyfcUs9dS3yzUYT00Cbn6HxGtWhnB4M/jJZG9wiDW85u\n",
       "FvXyRdJyJZAS7vG6wpO8hidsHah2ofxWINQnTBjpCPkbL0wLhOO7wI5g1UJtyaClnaNWpdH9plGQ\n",
       "cBHtIk0juxYRNr25xRW3+tXnd7uHdhAiCCq0BO7YysUG16J9GmButDRSc8P7WK8UyNcgr6X8+zg3\n",
       "ME/yGt5m7UG2S9Z2Lwk1O8MbsBJANsKGISJ090EGgk0LR4YGLe0ctTI1frBx1jAKEk7X+lM0jexa\n",
       "RJiDQ01H3A37odpwDu0DEEWQoSVw4TPvtbkW7ZvgqwT8Jb9Ps79iXVZUM1pb+MV2Ah78SRj417D+\n",
       "XY+0nFM3YO6pNYQneQ0/bssi1S4swiWhTpyRgXBoViAUG3dCBoJNCxdMWtKh1Go3tUuGUZBwurYC\n",
       "NI3sWoVQ6jvizi+Bd8Y1NJ/2riGo0BK4ud8eE6GhlcJKk94tZui89Tyfttnp4vGNV2i5Ff2k7DzV\n",
       "xjyDl4VBbgnrYZX0V1xSGcgOq03hgXsHgz8OBhfUNTxiSyPVLoRs0XjEdEYGwiQIhDKcgwwEm9br\n",
       "mLSkQ64l8+PrZ8X8CHA+TI6ChNO1n2BpZNHqCOBddcSd70P+smtoFZorGoIKLYG7A3L/5aGh5YZs\n",
       "hV26dTZ2WeK7AOVA7hlAvV3uwBfiacSXZOx4klyYQi+2WKNpxDzJqWCfddtItQteX6j3GdMoHeE5\n",
       "HD98fLEg2LS3gEn7snoskl/Z7wEcayRHQcJpWn/I0siuxWVzC7xrjrgbWpB/xzW0Gr3iGoIWWgyX\n",
       "Pvod4qGhQWsn6zCxnRdPI68pwqDWhJbc1ZI3tVIg6w+VSZ99NQsHeFNjnuQ1vNmWRlq7fM/sZjxD\n",
       "XxtlIPwQEGE8CDMQLNpcF75l0NIOUYtjvRLSNEqMgoTTtIWNG296sZuhxWUzeVhccsQt8dnILbR5\n",
       "2qWGoIUWwy2T/semmBYNTtKNyNyNJ+nbEcZ+/FNaGokK7Vr4aRrV381Pye2mnwqD6hDr5csVsvKi\n",
       "LXBU7ikNhSd5DW8HqY3MgBBtF9jqkqlvj2szEM4BIsw3uxkIFu33Af7JtWJkz8nOUYtp9CK7qTGE\n",
       "eBxyFNQ6qhpAhnYbLqOg2nHEJbdGr+ca2oN0laIhqNASuL8nTbSZFg0eZbnDBmbI5rnpCS2NSMU7\n",
       "SsqT8Ijwl9jAv0vanJZ7UfyR8lAT68Wlh8Xz/RVQnkogPJFr+EIbH+apdr4lDmRNbxfgk5EthsjO\n",
       "vRXBvwyIcMSfsiLYtP6rMzN9ruVsQks7Ry2O9Xa2b0QREnHIUVBptKGTpUWEafhX6IgLP4bfNFy1\n",
       "k12IIKjQErifC2En16LBGFsUzdDzfk5np3J4SqURVki5T/hpGhW33DQNBXHbe0KYWJKx400EsUZH\n",
       "YhAqT7EvPDr8xvMPkU9eA6Gt0dx8FcSf2l9j7cIH6Z/XhEXfr1oRxJKVIoxtByuCTVtbWVlpcS1n\n",
       "E1raIWpxrAsze5oCIRHHpvi+kXfsP8MMLeIeuONucMSFyswWZ+2j9O6iIWihxXGLm2dEaGiiPIlz\n",
       "ndyB6UB0B3Qr8+85+pOjR6fGofAKFLVnOfY8d0f02e4x1jFLI+H5s2nvlCV+X2kj5aMQa/ecUPv9\n",
       "xLtNK4IXuCM4ahmb0NZmTbvYEiEZx3VoR8R102oITqE9Js9h5RW2yPoVO76qp9FVvKk9Lvwlvt95\n",
       "Ut7UxJvSXPBFVQd8/UdvqtKzw/ReVL1WrSRX112ItHtDfjnyLlgvVoSt4w1nBFdtV9Pqbz8LEbRd\n",
       "pjiuSzsirptWIjiGtivynre8DOUuTHjwazJj9bQ0Kva0JfaEJ9KIPKR9COqYmk8xq821tDr+buA4\n",
       "PRM9pbQfyh0E1MaW2EPQ2y1eYg97B+UZkWJD+MvT4IzgqKVsSvtU2tZpxxDHGmhXjeumVQhuoaHh\n",
       "C+YeFE/DzxbhcAPqgZZGdbnFTXomfp5G/t432wrlGWb5i3odSSmQ9JTTfpHCSYeJz+v62aTdvbtV\n",
       "2iaKDWHnXeCM4Khlu/hS+0zaZkXbFMfo2lXjumkVgltoaOqOADl21MCXvJ3YO/JCV+0bRZv3h9z0\n",
       "On1vkSzfNgPV3X7OK/qgatMZa4+wCq0/NGsX4f+iHRU3Tbta3MXIOaWtZB31eZYs4ZcOa9uPWKHl\n",
       "LrWLrdfXy3rB58K3yB827+Rh791aGmGFiaIPUvnm+ritl8ySnApDww7zelkvAP8DQNYDXnonqeAA\n",
       "AAAASUVORK5CYII=\n",
       "\" style=\"display:inline;vertical-align:middle;\" /></a><br>"
      ],
      "text/plain": [
       "<IPython.core.display.HTML object>"
      ]
     },
     "metadata": {},
     "output_type": "display_data"
    }
   ],
   "source": [
    "range_2_expansion, range_3_expansion, range_4_expansion, range_5_expansion, range_6_expansion, range_7_expansion, range_8_expansion, range_9_expansion = \\\n",
    "        [Forall((f, i, j),\n",
    "                Equals(ExprTuple(f_i_to_j),\n",
    "                       [Function(f, i)]+[Function(f, Add(i, num(a))) for a in list(range(1, n))]),\n",
    "                conditions=[Equals(j, Add(i, num(n-1)))]) for n in range(2,10)]"
   ]
  },
  {
   "cell_type": "code",
   "execution_count": 46,
   "metadata": {},
   "outputs": [
    {
     "name": "stdout",
     "output_type": "stream",
     "text": [
      "These theorems may now be imported from the theory package: proveit.numbers.numerals.decimals\n"
     ]
    }
   ],
   "source": [
    "%end theorems"
   ]
  },
  {
   "cell_type": "code",
   "execution_count": null,
   "metadata": {},
   "outputs": [],
   "source": []
  }
 ],
 "metadata": {
  "kernelspec": {
   "display_name": "Python 3",
   "language": "python",
   "name": "python3"
  }
 },
 "nbformat": 4,
 "nbformat_minor": 0
}