{
 "cells": [
  {
   "cell_type": "markdown",
   "metadata": {},
   "source": [
    "Axioms for the theory of <a class=\"ProveItLink\" href=\"theory.ipynb\">proveit.numbers.numerals.decimals</a>\n",
    "========"
   ]
  },
  {
   "cell_type": "code",
   "execution_count": 1,
   "metadata": {},
   "outputs": [],
   "source": [
    "import proveit\n",
    "# Prepare this notebook for defining the axioms of a theory:\n",
    "%axioms_notebook # Keep this at the top following 'import proveit'.\n",
    "from proveit import Literal\n",
    "from proveit import n, x\n",
    "from proveit.logic import Equals, Forall, And, InSet\n",
    "from proveit.numbers import num, zero, one, Add, LessEq, Natural\n",
    "from proveit.numbers.numerals.decimals import DecimalSequence, Digits"
   ]
  },
  {
   "cell_type": "code",
   "execution_count": 2,
   "metadata": {},
   "outputs": [
    {
     "name": "stdout",
     "output_type": "stream",
     "text": [
      "Defining axioms for theory 'proveit.numbers.numerals.decimals'\n",
      "Subsequent end-of-cell assignments will define axioms\n",
      "%end_axioms will finalize the definitions\n"
     ]
    }
   ],
   "source": [
    "%begin axioms"
   ]
  },
  {
   "cell_type": "code",
   "execution_count": 3,
   "metadata": {},
   "outputs": [
    {
     "data": {
      "text/html": [
       "<strong id=\"one_def\">one_def:</strong> <a class=\"ProveItLink\" href=\"../__pv_it/axioms/83ee1466c80b27d69a80a0798f8a53254beb19130/axiom_expr.ipynb\"><img src=\"data:image/png;base64,iVBORw0KGgoAAAANSUhEUgAAAGAAAAAVBAMAAABLWfZ5AAAAMFBMVEX///8AAAAAAAAAAAAAAAAA\n",
       "AAAAAAAAAAAAAAAAAAAAAAAAAAAAAAAAAAAAAAAAAAAv3aB7AAAAD3RSTlMAMt0Qq5nNdoki72ZU\n",
       "RLsDrqvKAAAACXBIWXMAAA7EAAAOxAGVKw4bAAABN0lEQVQ4y2NgwAY4GRhIEmeowSHOWwAkGJUx\n",
       "xHkaGBg6SiegiQoZMDBUMzCYhH3G0GDGwMB2gFkTRYzZNR+ogQ2I2TE1RDMwbGJg6IM6YwNUtB6o\n",
       "mDsAq4YFDAxPGBjOG0DcV4CkgWExNg08CQwMXxkY5A9g0ZCNTQNrAwMzSMMGLBpa4BqClEBABcRk\n",
       "28DA+QOooQCLhm3YbGA6ANHQgEXDKWwauC4wMAM13AeqZFVS0lqkpOQA1yCPQwPI0+exefoWNj8A\n",
       "ncTwjoFhP7ZgPYTNBj6gkl0MDGEMWDTsY2Dg+ImugcMBZAvzQjQN/aDEFcHA4vXNG00DowIw6USU\n",
       "CKBqcFmfAowYXaypWBEl3guQM4QCVg1bUfLABuREsAGrBr4JuHLWPOzCzA9waXiJQ3w6DnH2CQwA\n",
       "EW1Pw1YVmQcAAAAASUVORK5CYII=\n",
       "\" style=\"display:inline;vertical-align:middle;\" /></a><br>"
      ],
      "text/plain": [
       "<IPython.core.display.HTML object>"
      ]
     },
     "metadata": {},
     "output_type": "display_data"
    }
   ],
   "source": [
    "one_def = Equals(num(1), Add(zero, one))"
   ]
  },
  {
   "cell_type": "code",
   "execution_count": 4,
   "metadata": {},
   "outputs": [
    {
     "data": {
      "text/html": [
       "<strong id=\"two_def\">two_def:</strong> <a class=\"ProveItLink\" href=\"../__pv_it/axioms/a03438b91aefdf0fc6c20b56d3c25a76300fdb5d0/axiom_expr.ipynb\"><img src=\"data:image/png;base64,iVBORw0KGgoAAAANSUhEUgAAAGAAAAAVBAMAAABLWfZ5AAAAMFBMVEX///8AAAAAAAAAAAAAAAAA\n",
       "AAAAAAAAAAAAAAAAAAAAAAAAAAAAAAAAAAAAAAAAAAAv3aB7AAAAD3RSTlMAIpnNuzKJRKvvEN12\n",
       "ZlQ4bmvwAAAACXBIWXMAAA7EAAAOxAGVKw4bAAABMElEQVQ4y2NgwAYYGRhIEmc4h0Oc/QBQk5JJ\n",
       "ALo4XwIDA+sudNHoBQwMZxkYRBjYvqNLLWZgWKH8C1WMq8keqIF5AUMjA8NMdA26QMwD08B+Aco4\n",
       "D9TAq8AwfwFDvwCahgnIGvgOIGlgmMXQzcDQj+YJPgPcGmxBrP1oFjAl4NaQAcSsf0Bc7d0gsAPE\n",
       "ZL6AW8NlIOZuQLOB+wFuDS+BWAU9kDgL4BqYdu/eOXv37ga4hnhgSDXg0YBhQyUDwzMGRgFUP+Bz\n",
       "0msG1gQGngWoNrAcwK3hCoO0kpI2mpPYQI5k+4iuIR/kEDWG/f//f0bTwLqBgYGj83MvqoaO+RbA\n",
       "4N6ONRVvRYn3A8gZYgNWDZdQ8sAF5ERwAasGFgFcOUsEuzCXAy4NjjjEZXCI8wgwAACIhmCJvv6T\n",
       "WAAAAABJRU5ErkJggg==\n",
       "\" style=\"display:inline;vertical-align:middle;\" /></a><br>"
      ],
      "text/plain": [
       "<IPython.core.display.HTML object>"
      ]
     },
     "metadata": {},
     "output_type": "display_data"
    }
   ],
   "source": [
    "two_def = Equals(num(2), Add(one, one))"
   ]
  },
  {
   "cell_type": "code",
   "execution_count": 5,
   "metadata": {},
   "outputs": [
    {
     "data": {
      "text/html": [
       "<strong id=\"three_def\">three_def:</strong> <a class=\"ProveItLink\" href=\"../__pv_it/axioms/1de33ddb0599693f94cdb9687e58e5975c7525260/axiom_expr.ipynb\"><img src=\"data:image/png;base64,iVBORw0KGgoAAAANSUhEUgAAAGEAAAAVBAMAAACkm51HAAAAMFBMVEX///8AAAAAAAAAAAAAAAAA\n",
       "AAAAAAAAAAAAAAAAAAAAAAAAAAAAAAAAAAAAAAAAAAAv3aB7AAAAD3RSTlMAIomZu0QQVHbN72bd\n",
       "Mqv0UZE7AAAACXBIWXMAAA7EAAAOxAGVKw4bAAABV0lEQVQ4y2NgwAoEGEgTZ+AowCERASKElF0x\n",
       "JIoYGIQtfdEEeY8BjdrAwMBmwFCPbiLbBAZGBwb9ABTBPMtvQHIaUNd3hvwJaDqYNzDwCTBwLYDw\n",
       "omFOBenYzMDAupSBH10HFxB9Y+D7COFVIOvgSgAx6zeg6ahkYOA7wMD3F4sOTpBa1tPoHjcCkzwf\n",
       "sOhgegAMgr63YLefAYMHIPZssIr7DVh0cIN9gBFWx8HkOQYsOtjBwcH1DU3HUrClDiDS5syZVWfO\n",
       "nIPr4P3AwHuBgeU7Nh37GLDZwbqAgf8bRAeyP0CuYldgEMTmqgMMXA8wXeUBxJcYGNqw+dyBgXsD\n",
       "ZnzoMTAwHjY2PoCqgwkUo8wKDAzBxhgp8Q4wMv7//z8BRQffq5+vgeIBWNM0zwVkXgUyRwZ7LuA2\n",
       "QOZFI3OscWQcR1xZjdEBh0QKLh0suLItYwMOiUYGBgDp/F5X9dMTQgAAAABJRU5ErkJggg==\n",
       "\" style=\"display:inline;vertical-align:middle;\" /></a><br>"
      ],
      "text/plain": [
       "<IPython.core.display.HTML object>"
      ]
     },
     "metadata": {},
     "output_type": "display_data"
    }
   ],
   "source": [
    "three_def = Equals(num(3), Add(num(2), one))"
   ]
  },
  {
   "cell_type": "code",
   "execution_count": 6,
   "metadata": {},
   "outputs": [
    {
     "data": {
      "text/html": [
       "<strong id=\"four_def\">four_def:</strong> <a class=\"ProveItLink\" href=\"../__pv_it/axioms/67fdacc8d7237b3057d59ad1c4704b98375c33780/axiom_expr.ipynb\"><img src=\"data:image/png;base64,iVBORw0KGgoAAAANSUhEUgAAAGEAAAAVBAMAAACkm51HAAAAMFBMVEX///8AAAAAAAAAAAAAAAAA\n",
       "AAAAAAAAAAAAAAAAAAAAAAAAAAAAAAAAAAAAAAAAAAAv3aB7AAAAD3RSTlMAMpndq3ZmzYkiRO+7\n",
       "VBCly6GvAAAACXBIWXMAAA7EAAAOxAGVKw4bAAABQ0lEQVQ4y2NgwAomMJAmzsB6AYfEUgglhCFx\n",
       "g4FhRtMpNEFGO6BRCWCmCboGvgIGPgWG+6gWPVH/ByTrwE7A0MGUwMD6l+F9AYS3DOZUkI4kEEus\n",
       "BF0HNwMD1y4GfqiOq8g6uB8AiQYMHdfB5P0ELDrYgYKsEzB0aIAILjMGLDo4HBgYpjGAdTAZg4ED\n",
       "iF0GCpkQR2w62IBObWDAsMMW4qoLWHTwbmBgm4CpYxfE/yAVysbGu42NTeA6GD8wTGXAqoNRgIHn\n",
       "LxY7uDYwLHFx+e2B5g+gq/j/YdfBawBibkG34yjQSQ4QV2H4/ACI+QddRwtQJgEjPjh+gpzSACR0\n",
       "/rui6RAG4kVKp1BDl8X7uxsDA/MCrGmaWQCZdxWZMxl7LmBTQOYtQ+ao4cg4J3FlNc4DOCTe4NLB\n",
       "gyvbcgbgkIhkYAAAtidUe0sWfekAAAAASUVORK5CYII=\n",
       "\" style=\"display:inline;vertical-align:middle;\" /></a><br>"
      ],
      "text/plain": [
       "<IPython.core.display.HTML object>"
      ]
     },
     "metadata": {},
     "output_type": "display_data"
    }
   ],
   "source": [
    "four_def = Equals(num(4), Add(num(3), one))"
   ]
  },
  {
   "cell_type": "code",
   "execution_count": 7,
   "metadata": {},
   "outputs": [
    {
     "data": {
      "text/html": [
       "<strong id=\"five_def\">five_def:</strong> <a class=\"ProveItLink\" href=\"../__pv_it/axioms/70f022a502e66207f9e619d65feeae9c655e49f60/axiom_expr.ipynb\"><img src=\"data:image/png;base64,iVBORw0KGgoAAAANSUhEUgAAAGAAAAAVBAMAAABLWfZ5AAAAMFBMVEX///8AAAAAAAAAAAAAAAAA\n",
       "AAAAAAAAAAAAAAAAAAAAAAAAAAAAAAAAAAAAAAAAAAAv3aB7AAAAD3RSTlMAMhAi783diatmdrtE\n",
       "mVQhVHx6AAAACXBIWXMAAA7EAAAOxAGVKw4bAAABRUlEQVQ4y2NgwAaYGRhwijMyMChjSKzDoYFn\n",
       "AQMDy9ewJHRxvgKQSRfQRMUUGBhWMjCw+acroGtQBRFsDShiTL3xQHWsCgwcWGy+CSKWQTXwTICK\n",
       "rgdq4LyAVYMDyEVToRr4FiBpYHDCpoEvAEiws2LVEMnAMatCAE0DL8jPi7FrqGDgVmD+A+JeSwOB\n",
       "DBCTFehq5gnYNUwFsbah2cD2AOgiBuwanoBY9w1QNbAcYGCYDNHAm5aW4paW1gDXIM+wFahBAEMD\n",
       "8wIcNhxhcGNg6EfzA9BJPB0d/R4FWDQ8YwCKeqP5gRushAWrDbMZbBm4nNA0sIOV8m9A01AP8up1\n",
       "Bua7vehpiTEB5N39PxagaOjwjwAGdw7WVJyIEu8LkDNEAlYNc1HywATkRDABqwZuAxwZiMEauzDT\n",
       "BlwaNuMQt8IhzmXAAAAqVk694E5VtQAAAABJRU5ErkJggg==\n",
       "\" style=\"display:inline;vertical-align:middle;\" /></a><br>"
      ],
      "text/plain": [
       "<IPython.core.display.HTML object>"
      ]
     },
     "metadata": {},
     "output_type": "display_data"
    }
   ],
   "source": [
    "five_def = Equals(num(5), Add(num(4), one))"
   ]
  },
  {
   "cell_type": "code",
   "execution_count": 8,
   "metadata": {},
   "outputs": [
    {
     "data": {
      "text/html": [
       "<strong id=\"six_def\">six_def:</strong> <a class=\"ProveItLink\" href=\"../__pv_it/axioms/01ecb630a44384249c24a87e6957a9f79f2d57f00/axiom_expr.ipynb\"><img src=\"data:image/png;base64,iVBORw0KGgoAAAANSUhEUgAAAGEAAAAVBAMAAACkm51HAAAAMFBMVEX///8AAAAAAAAAAAAAAAAA\n",
       "AAAAAAAAAAAAAAAAAAAAAAAAAAAAAAAAAAAAAAAAAAAv3aB7AAAAD3RSTlMAiTIizUSr3Xa7VBDv\n",
       "mWZb+y3UAAAACXBIWXMAAA7EAAAOxAGVKw4bAAABWklEQVQ4y2NgwAoMGEgTZ+BYwKDAwI1FOgJM\n",
       "CgoqoEssZGA471K+AVWQqRpo1AMgwySArQBNA7cDA0PNd2lUwW1XfgNJbyD2YOCcgKaDF2hSApwX\n",
       "B3MqSMdbBgau35iu5WFA1rECWQfPBgbOA5g6luDWwfKAgcdJ4iq6jotAnNeYhE0HYwIDvx8DzwKQ\n",
       "28vBAGy0HxDPZrAPwKKDz4Fh/wcG3tNodlSBSc4CLDq4DjDsL2Dg+4qm4ygkxD4Dievl5WfKy8vg\n",
       "Opg+MPA7MPD9w9TB6cDA+wmLHawHQHaD7UD2B9BVPAUMbB+wuaqAgQvoD/QAngEME6CmCdh8DhSc\n",
       "yLBnAZoOMQYG5gsMPRtQdTCC/MUrAGTcTUKPD3Ugtr12GzU+2HK+5DEwsAdgTezsKIl5BTLHHHv2\n",
       "4LuAzItD5tzDkaMm48pqzBNwSOzEpYMTV7ZlbsAh0czAAADz+VuN+5YcyQAAAABJRU5ErkJggg==\n",
       "\" style=\"display:inline;vertical-align:middle;\" /></a><br>"
      ],
      "text/plain": [
       "<IPython.core.display.HTML object>"
      ]
     },
     "metadata": {},
     "output_type": "display_data"
    }
   ],
   "source": [
    "six_def = Equals(num(6), Add(num(5), one))"
   ]
  },
  {
   "cell_type": "code",
   "execution_count": 9,
   "metadata": {},
   "outputs": [
    {
     "data": {
      "text/html": [
       "<strong id=\"seven_def\">seven_def:</strong> <a class=\"ProveItLink\" href=\"../__pv_it/axioms/49643904e559f55105df5b89c38a8c145df14fdb0/axiom_expr.ipynb\"><img src=\"data:image/png;base64,iVBORw0KGgoAAAANSUhEUgAAAGAAAAAVBAMAAABLWfZ5AAAAMFBMVEX///8AAAAAAAAAAAAAAAAA\n",
       "AAAAAAAAAAAAAAAAAAAAAAAAAAAAAAAAAAAAAAAAAAAv3aB7AAAAD3RSTlMAImYQVO+Ju5ndqzJE\n",
       "zXbfw+mkAAAACXBIWXMAAA7EAAAOxAGVKw4bAAABV0lEQVQ4y3WTsUvDUBDGP01NK1oJgugk2XQR\n",
       "8w+IXRycKujiIGZS0cE6iLgVQWmdujhEHTJWcegkONnF2eIogkEc3JwdSvyioSTXS+A9ku/43Xf3\n",
       "cg/QngEgUx93lMBnBjAaAOUwDFeEnnMBc2tPqA9M/QFs12r1kggt0PwNNynNaL4TKDpgsinpfMJI\n",
       "gKO4DDtWvwkMVsHsvgRYYrnXWi5IAFjlMluyhQ5wCB144ZqUBgWWuXH/1daAXa67v8+6Fz2X0WuR\n",
       "VXdtrGnAHM9DHiqGSzBC4NRRgCW20JHAUBvGDzDPmgqed7HueX4PeGS+igKgS8BWHJ6ARV/2wJJw\n",
       "/O/QBywDz1XpkI8mhj1oTc8w5ErApGfeNeQp7VvczoAJOUkYaXDbOW+lgdvNVzZ1rU7xVeq/B8kL\n",
       "0VCB2dQdsJNDYKtA3sq4QP1jFM9+JQs4yNCnM/QxC7+M7llaGyugPwAAAABJRU5ErkJggg==\n",
       "\" style=\"display:inline;vertical-align:middle;\" /></a><br>"
      ],
      "text/plain": [
       "<IPython.core.display.HTML object>"
      ]
     },
     "metadata": {},
     "output_type": "display_data"
    }
   ],
   "source": [
    "seven_def = Equals(num(7), Add(num(6), one))"
   ]
  },
  {
   "cell_type": "code",
   "execution_count": 10,
   "metadata": {},
   "outputs": [
    {
     "data": {
      "text/html": [
       "<strong id=\"eight_def\">eight_def:</strong> <a class=\"ProveItLink\" href=\"../__pv_it/axioms/2c3df6691b9013748f7afa46d00ff503551cdb370/axiom_expr.ipynb\"><img src=\"data:image/png;base64,iVBORw0KGgoAAAANSUhEUgAAAGEAAAAVBAMAAACkm51HAAAAMFBMVEX///8AAAAAAAAAAAAAAAAA\n",
       "AAAAAAAAAAAAAAAAAAAAAAAAAAAAAAAAAAAAAAAAAAAv3aB7AAAAD3RSTlMAEImZRKtUZs27dt0i\n",
       "7zLMHA9cAAAACXBIWXMAAA7EAAAOxAGVKw4bAAABUklEQVQ4y2NgwAoOMJAmzsCVwFOIVcILRAgp\n",
       "mWBIJDGw/f///y+qIN9GoFEFQIYBA2sCmgbGBgamycbG21AERS0+AslGBgb2ApACVMBcwMDEwMBj\n",
       "AOG5w5wK0lHMwMAUgKmDl4GBjYGBFcrLQtbBK8DA9lOAuQBNRwaY1MOmgwOoNv6XGbrHjUAEzwRs\n",
       "OoBOYmD+vwfs9t1gEABit4MIVgdsOtiBPkg6+R89rMCBdJYBmw62CwzsBgz5F9F0XAERGmCm9e7d\n",
       "d3fv3grXwfcB5Hmeb9h07MRqB8sFBnkgFY7mD5CrGL9id9UGBl5g4pqDZscskGGfsepgn8DA0sjA\n",
       "vgBNhyrIsE/oOpj+gJyiwMDw1BgjJb4GRcc1NB2ssT+Arud2wJqmuR8g87KQOaexZw92A2SeOzLH\n",
       "HEeOmoMrq8GTDjqQxKWDE1e25VmAQ2INAwMA885WDu/VyfgAAAAASUVORK5CYII=\n",
       "\" style=\"display:inline;vertical-align:middle;\" /></a><br>"
      ],
      "text/plain": [
       "<IPython.core.display.HTML object>"
      ]
     },
     "metadata": {},
     "output_type": "display_data"
    }
   ],
   "source": [
    "eight_def = Equals(num(8), Add(num(7), one))"
   ]
  },
  {
   "cell_type": "code",
   "execution_count": 11,
   "metadata": {},
   "outputs": [
    {
     "data": {
      "text/html": [
       "<strong id=\"nine_def\">nine_def:</strong> <a class=\"ProveItLink\" href=\"../__pv_it/axioms/5c511590ad6e970d69c029d970002adb37e1d83c0/axiom_expr.ipynb\"><img src=\"data:image/png;base64,iVBORw0KGgoAAAANSUhEUgAAAGEAAAAVBAMAAACkm51HAAAAMFBMVEX///8AAAAAAAAAAAAAAAAA\n",
       "AAAAAAAAAAAAAAAAAAAAAAAAAAAAAAAAAAAAAAAAAAAv3aB7AAAAD3RSTlMAmasQ3XYy7yK7zYlE\n",
       "ZlRwlz41AAAACXBIWXMAAA7EAAAOxAGVKw4bAAABZUlEQVQ4y2NgwAoaGEgTZ2B9gEPiKIhgFFTG\n",
       "kHjNwGC9WwZNkM0ZaNQFBgZmV4Z0dLuYFzAwCDAwoVpkJPUZSC5mYGAqYOCcgKaD8QID7wWwPhA4\n",
       "C3MqSMdFBgb+BQzcn9F0sDMwcCvAdTxF1sFuwGA/gYH1D5qOVwwMfD8NgDZh6uC6ALbjL5oOaSDW\n",
       "/yrHgEUH0G6QP76C3O4CBgogubUg/n8PbDp4FzAw1zAk/UOzww8UwJ3/H2DRwVfAwGAY/fQbmo4a\n",
       "oFkCDO+LgUwRF5dyFxcnuA62DyAmRljVgMOE4x8WO3gKQExwfCD7A+gqeyCli81VDgx8xQz2CWh2\n",
       "TAXaAUwHM7D5HBgZzgxz0ZPVJqDtixl4A1B1cP8AOWUDA8NuwQPoOlKAOElQBjV0mdR/AZ3JcgBr\n",
       "mmZBceZTZE4L9lwADFokcBaZI4sj48zAldU4JuCQsMSlgxNXtuUIwCERwcAAAKcnWS20uyE1AAAA\n",
       "AElFTkSuQmCC\n",
       "\" style=\"display:inline;vertical-align:middle;\" /></a><br>"
      ],
      "text/plain": [
       "<IPython.core.display.HTML object>"
      ]
     },
     "metadata": {},
     "output_type": "display_data"
    }
   ],
   "source": [
    "nine_def = Equals(num(9), Add(num(8), one))"
   ]
  },
  {
   "cell_type": "code",
   "execution_count": 12,
   "metadata": {},
   "outputs": [],
   "source": [
    "#\\forall_{n} (n \\in N_{\\leq 9}) = (n \\in N and n \\leq 9)"
   ]
  },
  {
   "cell_type": "code",
   "execution_count": 13,
   "metadata": {},
   "outputs": [
    {
     "data": {
      "text/html": [
       "<strong id=\"N_leq_9_def\">N_leq_9_def:</strong> <a class=\"ProveItLink\" href=\"../__pv_it/axioms/b91de2c4ac0e29bc1125ffe626a509f89f3a463a0/axiom_expr.ipynb\"><img src=\"data:image/png;base64,iVBORw0KGgoAAAANSUhEUgAAAVsAAAAaBAMAAADrkuKjAAAAMFBMVEX///8AAAAAAAAAAAAAAAAA\n",
       "AAAAAAAAAAAAAAAAAAAAAAAAAAAAAAAAAAAAAAAAAAAv3aB7AAAAD3RSTlMAq1RmmUTNIjK7EInv\n",
       "3XZ/CtNrAAAACXBIWXMAAA7EAAAOxAGVKw4bAAAEsUlEQVRYw81YTYgcRRT+uicz09Pzs6OIqyHq\n",
       "gB5cjDjGKAiyJG4UJSjtxYsxjuag7MUWJRD/dgQRAiE7KjFuVOw1IoguGVcPHgTnIv4hrhh1VUYb\n",
       "lWjcSBYlxoQcrFddVdPdVR0HD6sfvLfVPe/r93X1e9XVC/xbjPlYWsL/AVcqdxq1IayuXceqFVOV\n",
       "lcneIF02rm4CI233JIqdlZKblekV5TJxuMHclI9jwLjpysIyMw9xRsGXP4+bf39auTTmTjwT4J1T\n",
       "3i5Si4rn/AFUAz3uB2FpuN/PTKL86Xv50MTIwFZmnECZ6nTmwsSN9qTT8VS+DncZ9nOkMb9v/+9A\n",
       "ra5XUzcyHaXGLcAB4EcDw4RNGwPUWN1xAmW6js7enSjprnQ6zvPfBNid5Lnel9rH2YydNFaTuZis\n",
       "r8pNVICCeCTz8fpL6OeS5kLnfWASEYEyPaYV8YgnnY4zOwUfC2zgnOXDCfI03KZFTQgzyB1jU1MF\n",
       "clEju1/GGHHkDvL7WQPMAOshCNsi2eVGPHQ6kC7WWv1+i/6OjhdbXC6KZwSlZqHNRjdqonrCdL51\n",
       "f7id5OIjfrp2uTdgxFD7Nkr/J/BugEogCCxTjlVGIRH7m3IKt/4qBqNWeymSy5o1f8XbNDiiPchW\n",
       "ZAa+5Z9T61bVI6k6HcWI4bXvRGeeAI56KDQFgTJ90u9/nAg+W7qtqx86zFu4OCl/G0Wn5C0k1d2R\n",
       "Xhqo7skMfMsvYQ/JfYMfXiK6JhGNlz+X4TS7TZTrgkCZbgD2JbLNSNd9MnSP00HBH8h93P0mJXea\n",
       "KgI39Qmf8fBmZAa+5Tsb5ubY4CpELX4RJENFz96lLs1q98UQuZYgUKb7UEwuRXcKl/e+RvEvfjUM\n",
       "5OYaYz3snGGQGqbSXVltcDPxLR/r7OfZYC0dOXWxaieirYHc1z3nggbsniBQplJQTuY7KJzrHoPN\n",
       "V6ldNHGdSC5WW6m+OJCWW/G4mfhMrhWsoYniR23UQsEYROMBVQzuzfNH23CWBYEy2WGy09Tswl6G\n",
       "xXvg1djsYtZNFcNU2yzXxGdy3ToVwxax2kYXS0QPWo3AVoZ8TxB4phZ7F+cmdv+kyWXskSY9rGpc\n",
       "rhOmthrTfqp2RTGY+EwudpfY4FL5krhWMlR0bCGLmsheEASeaZ717f4tzYqsxXOlq3RxWUBvt5p6\n",
       "xT/L7JfOP6wMpTAyA7/E5qe2k3Z0dEQytkuGio69JtYGLivnXEcQeKaHWac9eAgjMusR6djcH8rx\n",
       "J62Knwarkoskrkmvu7TwkBn4BXohXc9sM2kKxQ2kovlKfA9f/dmrSGwINstMFsWcH1WTmi1yt7NC\n",
       "XcdPze6J7uWJU+xG3ZTcjWm5zkJkOt+590OxQfiCEtNJJ0Q6Onbjb9GWpuoJwiDTB9jkxDolcgPc\n",
       "9kK/lbXB0/cMi8Ky+cUFnZGJRyRBZSouY/HiIXZkpj2sviNbL+w0HzJNnZGJCUEYZGLb2CV5Bacn\n",
       "3VDI6fvdkh9ZNnYYGOobgK8xi8mPnh3mTHyXqNwwqOq63E5k2dhrYGSB38pec6Yhv9ViMH1BPSos\n",
       "CzXfxMjAz5KQ8a3Gv0TsIYv3v/8SHur/DKppghX7PwPL9DeFD3IQ2KUjIgAAAABJRU5ErkJggg==\n",
       "\" style=\"display:inline;vertical-align:middle;\" /></a><br>"
      ],
      "text/plain": [
       "<IPython.core.display.HTML object>"
      ]
     },
     "metadata": {},
     "output_type": "display_data"
    }
   ],
   "source": [
    "N_leq_9_def = Forall(n, Equals(InSet(n, Digits), And(InSet(n, Natural), LessEq(n, num(9)))))"
   ]
  },
  {
   "cell_type": "code",
   "execution_count": 14,
   "metadata": {},
   "outputs": [
    {
     "data": {
      "text/html": [
       "<strong id=\"single_digit_reduction\">single_digit_reduction:</strong> <a class=\"ProveItLink\" href=\"../__pv_it/axioms/27dd75c37db9faa29e35956b71bab402c37a39f00/axiom_expr.ipynb\"><img src=\"data:image/png;base64,iVBORw0KGgoAAAANSUhEUgAAAKcAAAAVBAMAAADROuOhAAAAMFBMVEX///8AAAAAAAAAAAAAAAAA\n",
       "AAAAAAAAAAAAAAAAAAAAAAAAAAAAAAAAAAAAAAAAAAAv3aB7AAAAD3RSTlMAq1RmmUTNIjK7EInv\n",
       "3XZ/CtNrAAAACXBIWXMAAA7EAAAOxAGVKw4bAAACe0lEQVQ4y41UXWjTUBT+mrRNlrRr8E1hI0OU\n",
       "guA60Td/Cq0wGELenaPgg+hTBX3wZ1sEX51TGFIfNCoIotD6h/hkQURBhCki86EQp0yGMIvgDyLW\n",
       "c9vdJE13iRcO9+TLyXfPPec7Af5zlbmjhAFRYPTqN7m3uLpPCCIZbjBnYyTpFu5INX5MTnA84XuZ\n",
       "cyiKUysB6nzcBW562BFBLOFnWJlmo0jjdHx/M50HCh62XRBLeNIBdDOKNMWI6xnKtO5jjiDWgUw5\n",
       "JCNLuhmQdz39ug5SycOSgqIy/FWj8TKSdAyotlqtP4hTnyY2nFqmnHUj3HcfHwUur0kUvN1Bsoy7\n",
       "x2mnUbvgaj8p9XbS+xpsvWZuAD8KxViLc8RW7z/iD2/IquYTIG0iYb2H8ovEVe/+IIj3OboVeKW8\n",
       "fYidBrQHNnXH088zsvP2AHXBgqZ9h/SbJNYMyS6AS67fp5n1cxjSnbijjNG0VZFxfNJOTYkUUhMx\n",
       "umIilGkXXtrtqXGUTZeb1zHJktfN4bJ/ffnqyo9Fdn32ZSbnQJoP1TSI36MRkAszn4CP7FV205RO\n",
       "FWWsx+/w466QDeAvFYvam6ph2KlBDo9MED9NfboxnkuVtXZUVr++n7ahHFV7hcffJaso3zp6mbax\n",
       "JNttdXWtIB6zgZNLVL9EW81Z5JfZftaSv3jyPkc2qD1nPwDgAHBtGwnBCpH24IMYh3y4UrlIpLd7\n",
       "Jyxtc2/BwyYFg+LjL1BU1Von08RWHCsWi8FE5Hzvb6QgIPVwpYmFbGeydgAfeiMvcaePC0L0a/Px\n",
       "hAEq4Am6pPqujFhv6C1P4rNh9tAK49rjypzgTorLvanV/bMgkvB/s9Gwcd7iv/cAAAAASUVORK5C\n",
       "YII=\n",
       "\" style=\"display:inline;vertical-align:middle;\" /></a><br>"
      ],
      "text/plain": [
       "<IPython.core.display.HTML object>"
      ]
     },
     "metadata": {},
     "output_type": "display_data"
    }
   ],
   "source": [
    "single_digit_reduction = Forall(n, Equals(DecimalSequence(n), n), domain=Digits)"
   ]
  },
  {
   "cell_type": "code",
   "execution_count": 15,
   "metadata": {},
   "outputs": [
    {
     "name": "stdout",
     "output_type": "stream",
     "text": [
      "These axioms may now be imported from the theory package: proveit.numbers.numerals.decimals\n"
     ]
    }
   ],
   "source": [
    "%end axioms"
   ]
  }
 ],
 "metadata": {
  "kernelspec": {
   "display_name": "Python 3",
   "language": "python",
   "name": "python3"
  }
 },
 "nbformat": 4,
 "nbformat_minor": 0
}