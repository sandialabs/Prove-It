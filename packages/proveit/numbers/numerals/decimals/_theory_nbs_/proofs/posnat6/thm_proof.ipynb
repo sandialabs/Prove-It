{
 "cells": [
  {
   "cell_type": "markdown",
   "metadata": {},
   "source": [
    "Proof of <a class=\"ProveItLink\" href=\"../../../../../../_theory_nbs_/theory.ipynb\">proveit</a>.<a class=\"ProveItLink\" href=\"../../../../../_theory_nbs_/theory.ipynb\">numbers</a>.<a class=\"ProveItLink\" href=\"../../../../_theory_nbs_/theory.ipynb\">numerals</a>.<a class=\"ProveItLink\" href=\"../../theory.ipynb\">decimals</a>.<a class=\"ProveItLink\" href=\"../../theorems.ipynb#posnat6\">posnat6</a> theorem\n",
    "========"
   ]
  },
  {
   "cell_type": "code",
   "execution_count": 1,
   "metadata": {},
   "outputs": [],
   "source": [
    "import proveit\n",
    "theory = proveit.Theory() # the theorem's theory"
   ]
  },
  {
   "cell_type": "code",
   "execution_count": 2,
   "metadata": {},
   "outputs": [
    {
     "data": {
      "text/html": [
       "With these <a href=\"allowed_presumptions.txt\">allowed</a>/<a href=\"disallowed_presumptions.txt\">disallowed</a> theorem/theory presumptions (e.g., to avoid circular dependencies), we begin our proof of<br><strong id=\"posnat6\">posnat6:</strong> <a class=\"ProveItLink\" href=\"../../../__pv_it/theorems/bed4e9364b1ffbea8aaa747774445a8b7917b6d20/expr.ipynb\"><img src=\"data:image/png;base64,iVBORw0KGgoAAAANSUhEUgAAAD8AAAATBAMAAADVH8ihAAAAMFBMVEX///8AAAAAAAAAAAAAAAAA\n",
       "AAAAAAAAAAAAAAAAAAAAAAAAAAAAAAAAAAAAAAAAAAAv3aB7AAAAD3RSTlMAiTIizUSr3Xa7VBDv\n",
       "mWZb+y3UAAAACXBIWXMAAA7EAAAOxAGVKw4bAAABAklEQVQoz2NgwAN4GQgATjIVbP85ZQODzJ8A\n",
       "uAJBQQVUFbNYExi4P8BNMAlgK0BVkG4gx8BwgOHmzDkzZz5gYPBg4JyAqiBrAosBQwHMBK7fcInO\n",
       "8nIHEJ38gtkBoYDzAEw+pBvKSGZTaEQo4HGSuAoWZvaGqUxmmMAZAFfA78fAswDEANoLV6DLXV0A\n",
       "C8n9Hxh4T4MVMCAU8C1YCbd5fwED31cQQ6ccCCZAFDBks8EV8Dsw8P0DMXYimcCwjRseNpwwE9iR\n",
       "FTA1wMOGC+gGsHEcDTChSUDchAi8iQx7wL5g8IKJgBi8DnAFjHeTIIxtUzeAaZU/QN3cDljiOXB6\n",
       "OaYwANqrPYbb8z3EAAAAAElFTkSuQmCC\n",
       "\" style=\"display:inline;vertical-align:middle;\" /></a><br>(see <a class=\"ProveItLink\" href=\"../../../__pv_it/theorems/33140179840d2a4bee3ae02dc55211050104ca150/dependencies.ipynb\">dependencies</a>)<br>"
      ],
      "text/plain": [
       "<IPython.core.display.HTML object>"
      ]
     },
     "metadata": {},
     "output_type": "display_data"
    },
    {
     "name": "stdout",
     "output_type": "stream",
     "text": [
      "posnat6 may now be readily provable (assuming required theorems are usable).  Simply execute \"%qed\".\n"
     ]
    }
   ],
   "source": [
    "%proving posnat6"
   ]
  },
  {
   "cell_type": "code",
   "execution_count": null,
   "metadata": {},
   "outputs": [],
   "source": []
  }
 ],
 "metadata": {
  "kernelspec": {
   "display_name": "Python 3",
   "language": "python",
   "name": "python3"
  }
 },
 "nbformat": 4,
 "nbformat_minor": 0
}