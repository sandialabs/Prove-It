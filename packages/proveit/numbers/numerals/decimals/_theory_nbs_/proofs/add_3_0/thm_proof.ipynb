{
 "cells": [
  {
   "cell_type": "markdown",
   "metadata": {},
   "source": [
    "Proof of <a class=\"ProveItLink\" href=\"../../../../../../_theory_nbs_/theory.ipynb\">proveit</a>.<a class=\"ProveItLink\" href=\"../../../../../_theory_nbs_/theory.ipynb\">numbers</a>.<a class=\"ProveItLink\" href=\"../../../../_theory_nbs_/theory.ipynb\">numerals</a>.<a class=\"ProveItLink\" href=\"../../theory.ipynb\">decimals</a>.<a class=\"ProveItLink\" href=\"../../theorems.ipynb#add_3_0\">add_3_0</a> theorem\n",
    "========"
   ]
  },
  {
   "cell_type": "code",
   "execution_count": 1,
   "metadata": {},
   "outputs": [],
   "source": [
    "import proveit\n",
    "theory = proveit.Theory() # the theorem's theory"
   ]
  },
  {
   "cell_type": "code",
   "execution_count": 2,
   "metadata": {},
   "outputs": [
    {
     "data": {
      "text/html": [
       "With these <a href=\"allowed_presumptions.txt\">allowed</a>/<a href=\"disallowed_presumptions.txt\">disallowed</a> theorem/theory presumptions (e.g., to avoid circular dependencies), we begin our proof of<br><strong id=\"add_3_0\">add_3_0:</strong> <a class=\"ProveItLink\" href=\"../../../__pv_it/theorems/39d00c28285a3b5cccd11e1cdbc589743a49c3f20/expr.ipynb\"><img src=\"data:image/png;base64,iVBORw0KGgoAAAANSUhEUgAAAGEAAAAVBAMAAACkm51HAAAAMFBMVEX///8AAAAAAAAAAAAAAAAA\n",
       "AAAAAAAAAAAAAAAAAAAAAAAAAAAAAAAAAAAAAAAAAAAv3aB7AAAAD3RSTlMAInZUiRDNmWbv3US7\n",
       "qzJazP2FAAAACXBIWXMAAA7EAAAOxAGVKw4bAAABfUlEQVQ4y3WTv0vDQBTHv2m8tmlK28HJKU5O\n",
       "xaOIazsUXBSyuQh2ERw7FCvikM0fi65S/IWLBITiYnWxulax/4BSHB1UqFU3fbkIJpfeDbl37+Vz\n",
       "7/ve3QHIYfhQ+RHjisC5ipgCRmc6krM8kUPMkX/VyutNgFXAqiiGE8U5OwaWZGIeeh9IOIj1sVjx\n",
       "fS1/2gZmgQ2ZmOTsEzAAs4HsH1Hwp3ugaMOwJeKyCSKmhV10QsQX8MYRjxQC/RuoeYZ5iiDBPMLB\n",
       "SDdCXNEmyzRn8k8hQvsgwkJSSE24Ygj6+bEHnPiqeIQoQd+NqqJeNYRlDOiz5rp7rntGqoi4tpB5\n",
       "j57eoe0RmR7SfblyymrKOV6BB+6pyg5k4g7YsaEfSXX82B5xS5K6vqp/YgtYAZJtKce+UDVHEUc+\n",
       "jxRnB7R7SSI2xXm8kHVR74S6C1bLUxtTTYkw695NTPWCvkJwMTb8sierwVUruFhVvI8b1cPR2orA\n",
       "gopIq56tZikC48Pdv3EaYiHszmhuAAAAAElFTkSuQmCC\n",
       "\" style=\"display:inline;vertical-align:middle;\" /></a><br>(see <a class=\"ProveItLink\" href=\"../../../__pv_it/theorems/ceb8b12aedc032e6365e2e0a43eeec80db0b523a0/dependencies.ipynb\">dependencies</a>)<br>"
      ],
      "text/plain": [
       "<IPython.core.display.HTML object>"
      ]
     },
     "metadata": {},
     "output_type": "display_data"
    },
    {
     "name": "stdout",
     "output_type": "stream",
     "text": [
      "add_3_0 may now be readily provable (assuming required theorems are usable).  Simply execute \"%qed\".\n"
     ]
    }
   ],
   "source": [
    "%proving add_3_0"
   ]
  },
  {
   "cell_type": "code",
   "execution_count": null,
   "metadata": {},
   "outputs": [],
   "source": []
  }
 ],
 "metadata": {
  "kernelspec": {
   "display_name": "Python 3",
   "language": "python",
   "name": "python3"
  }
 },
 "nbformat": 4,
 "nbformat_minor": 0
}