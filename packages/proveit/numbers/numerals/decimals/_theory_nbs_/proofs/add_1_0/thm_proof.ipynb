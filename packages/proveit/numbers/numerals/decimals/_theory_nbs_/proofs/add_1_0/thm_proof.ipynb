{
 "cells": [
  {
   "cell_type": "markdown",
   "metadata": {},
   "source": [
    "Proof of <a class=\"ProveItLink\" href=\"../../../../../../_theory_nbs_/theory.ipynb\">proveit</a>.<a class=\"ProveItLink\" href=\"../../../../../_theory_nbs_/theory.ipynb\">numbers</a>.<a class=\"ProveItLink\" href=\"../../../../_theory_nbs_/theory.ipynb\">numerals</a>.<a class=\"ProveItLink\" href=\"../../theory.ipynb\">decimals</a>.<a class=\"ProveItLink\" href=\"../../theorems.ipynb#add_1_0\">add_1_0</a> theorem\n",
    "========"
   ]
  },
  {
   "cell_type": "code",
   "execution_count": 1,
   "metadata": {},
   "outputs": [],
   "source": [
    "import proveit\n",
    "theory = proveit.Theory() # the theorem's theory"
   ]
  },
  {
   "cell_type": "code",
   "execution_count": 2,
   "metadata": {},
   "outputs": [
    {
     "data": {
      "text/html": [
       "With these <a href=\"allowed_presumptions.txt\">allowed</a>/<a href=\"disallowed_presumptions.txt\">disallowed</a> theorem/theory presumptions (e.g., to avoid circular dependencies), we begin our proof of<br><strong id=\"add_1_0\">add_1_0:</strong> <a class=\"ProveItLink\" href=\"../../../__pv_it/theorems/bbde75c47becef51b68e0eeffdf23dd211def94a0/expr.ipynb\"><img src=\"data:image/png;base64,iVBORw0KGgoAAAANSUhEUgAAAGAAAAAVBAMAAABLWfZ5AAAAMFBMVEX///8AAAAAAAAAAAAAAAAA\n",
       "AAAAAAAAAAAAAAAAAAAAAAAAAAAAAAAAAAAAAAAAAAAv3aB7AAAAD3RSTlMAInZUiRDNmWbv3US7\n",
       "qzJazP2FAAAACXBIWXMAAA7EAAAOxAGVKw4bAAABM0lEQVQ4y2NgYBBgwA5wiTMZ4JDYhEPcBIhf\n",
       "BaAJuqgLMDA1YKjlW8rAwJrAwHo9H00DmwHrQgaGVHT1sWVfGRjYQebowzTsgFBdDAw+DAztmM4H\n",
       "auBkQNZgBKHOMjDYBzBwBmDTYIZNw3cGhvcGDGwN2DSUYNHACtLQwMByAZuGDCwaGL8ANSgwcCSA\n",
       "OOyrwOACTMNiXBocGJgnYLNhNkJD1apVM1etWgt0ElDDfgUGvg8ENKB42t6AgRurDdicxHCGgaE/\n",
       "gIF5ATY/HMKmoZOBoYyBgeMANht8QQx/AVQNXAas84BmO6BrYPkITHdA+u783AYUDawlug+A2jag\n",
       "qee9+e0GA9cDZCEjZI4U1tTNUYDM24HMqcCeHw7iyCcMjAewi8fg0sCDI48yKuDQoIhVFACiAVSE\n",
       "rNaL0QAAAABJRU5ErkJggg==\n",
       "\" style=\"display:inline;vertical-align:middle;\" /></a><br>(see <a class=\"ProveItLink\" href=\"../../../__pv_it/theorems/6f2a3c643b9eb8d01396459f0d8465df1e5fa2ef0/dependencies.ipynb\">dependencies</a>)<br>"
      ],
      "text/plain": [
       "<IPython.core.display.HTML object>"
      ]
     },
     "metadata": {},
     "output_type": "display_data"
    },
    {
     "name": "stdout",
     "output_type": "stream",
     "text": [
      "add_1_0 may now be readily provable (assuming required theorems are usable).  Simply execute \"%qed\".\n"
     ]
    }
   ],
   "source": [
    "%proving add_1_0"
   ]
  },
  {
   "cell_type": "code",
   "execution_count": null,
   "metadata": {},
   "outputs": [],
   "source": []
  }
 ],
 "metadata": {
  "kernelspec": {
   "display_name": "Python 3",
   "language": "python",
   "name": "python3"
  }
 },
 "nbformat": 4,
 "nbformat_minor": 0
}