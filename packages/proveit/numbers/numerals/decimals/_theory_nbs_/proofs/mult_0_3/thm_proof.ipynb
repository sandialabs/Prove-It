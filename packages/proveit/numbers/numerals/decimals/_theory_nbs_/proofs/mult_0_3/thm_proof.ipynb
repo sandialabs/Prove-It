{
 "cells": [
  {
   "cell_type": "markdown",
   "metadata": {},
   "source": [
    "Proof of <a class=\"ProveItLink\" href=\"../../../../../../_theory_nbs_/theory.ipynb\">proveit</a>.<a class=\"ProveItLink\" href=\"../../../../../_theory_nbs_/theory.ipynb\">numbers</a>.<a class=\"ProveItLink\" href=\"../../../../_theory_nbs_/theory.ipynb\">numerals</a>.<a class=\"ProveItLink\" href=\"../../theory.ipynb\">decimals</a>.<a class=\"ProveItLink\" href=\"../../theorems.ipynb#mult_0_3\">mult_0_3</a> theorem\n",
    "========"
   ]
  },
  {
   "cell_type": "code",
   "execution_count": 1,
   "metadata": {},
   "outputs": [],
   "source": [
    "import proveit\n",
    "theory = proveit.Theory() # the theorem's theory"
   ]
  },
  {
   "cell_type": "code",
   "execution_count": 2,
   "metadata": {},
   "outputs": [
    {
     "data": {
      "text/html": [
       "With these <a href=\"allowed_presumptions.txt\">allowed</a>/<a href=\"disallowed_presumptions.txt\">disallowed</a> theorem/theory presumptions (e.g., to avoid circular dependencies), we begin our proof of<br><strong id=\"mult_0_3\">mult_0_3:</strong> <a class=\"ProveItLink\" href=\"../../../__pv_it/theorems/ed60dfe052de74b253d4d42be9c184f4bc2f725a0/expr.ipynb\"><img src=\"data:image/png;base64,iVBORw0KGgoAAAANSUhEUgAAAFcAAAAVBAMAAADBdm84AAAAMFBMVEX///8AAAAAAAAAAAAAAAAA\n",
       "AAAAAAAAAAAAAAAAAAAAAAAAAAAAAAAAAAAAAAAAAAAv3aB7AAAAD3RSTlMAInZUiRDNmWbv3US7\n",
       "qzJazP2FAAAACXBIWXMAAA7EAAAOxAGVKw4bAAABcUlEQVQoz3WTvUvDUBRHT01j07RUZxfr5CRm\n",
       "ENeG0lEhmyhCCyI4Vigq4tDNj8Xuola6CUJx08XorNh/QCmODiq2ajd9ryWpzccbwsvJ4d7fe9wA\n",
       "o/hWAOqtIcPPLsPkGYhm193XSG6nzlDZp+UmRTu1ACssuY0XUFqw6nWHDfUMYmW0KlHbodOG+g27\n",
       "XvkA5iAOyQbKl0Ov6gg5bnnkB8hYzMJIkVSrz5WO6OoN/QPvBiXIC7nT59dCjDYGXVXKZdZg3CT1\n",
       "6fKXpyZoBbndPpfrQt5RW8hpaj25/S+GiKRUBit3ZZMjEcMkISvnC70vpxapD08MId+kpSwOKKuh\n",
       "F8XjDR4NEhX/ATOGjJG00dyr+7WkrFQHM3MPhxZ34jQVYgVHPu7G0GxP5X3YgHmxq7HYdOhe955j\n",
       "pkfWDfUEXuU8ZJ9dmtgUg4Re98hqaUrU05tBozgWPKFaMYhuhczzbQCL2CHycgBLhv1XkbSfTQSr\n",
       "f+kuXNsz72jDAAAAAElFTkSuQmCC\n",
       "\" style=\"display:inline;vertical-align:middle;\" /></a><br>(see <a class=\"ProveItLink\" href=\"../../../__pv_it/theorems/d08ff5557386f1df36deed216c2a8017a770448c0/dependencies.ipynb\">dependencies</a>)<br>"
      ],
      "text/plain": [
       "<IPython.core.display.HTML object>"
      ]
     },
     "metadata": {},
     "output_type": "display_data"
    },
    {
     "name": "stdout",
     "output_type": "stream",
     "text": [
      "mult_0_3 may now be readily provable (assuming required theorems are usable).  Simply execute \"%qed\".\n"
     ]
    }
   ],
   "source": [
    "%proving mult_0_3"
   ]
  },
  {
   "cell_type": "code",
   "execution_count": null,
   "metadata": {},
   "outputs": [],
   "source": []
  }
 ],
 "metadata": {
  "kernelspec": {
   "display_name": "Python 3",
   "language": "python",
   "name": "python3"
  }
 },
 "nbformat": 4,
 "nbformat_minor": 0
}