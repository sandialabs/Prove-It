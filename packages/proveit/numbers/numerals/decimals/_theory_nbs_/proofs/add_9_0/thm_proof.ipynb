{
 "cells": [
  {
   "cell_type": "markdown",
   "metadata": {},
   "source": [
    "Proof of <a class=\"ProveItLink\" href=\"../../../../../../_theory_nbs_/theory.ipynb\">proveit</a>.<a class=\"ProveItLink\" href=\"../../../../../_theory_nbs_/theory.ipynb\">numbers</a>.<a class=\"ProveItLink\" href=\"../../../../_theory_nbs_/theory.ipynb\">numerals</a>.<a class=\"ProveItLink\" href=\"../../theory.ipynb\">decimals</a>.<a class=\"ProveItLink\" href=\"../../theorems.ipynb#add_9_0\">add_9_0</a> theorem\n",
    "========"
   ]
  },
  {
   "cell_type": "code",
   "execution_count": 1,
   "metadata": {},
   "outputs": [],
   "source": [
    "import proveit\n",
    "theory = proveit.Theory() # the theorem's theory"
   ]
  },
  {
   "cell_type": "code",
   "execution_count": 2,
   "metadata": {},
   "outputs": [
    {
     "data": {
      "text/html": [
       "With these <a href=\"allowed_presumptions.txt\">allowed</a>/<a href=\"disallowed_presumptions.txt\">disallowed</a> theorem/theory presumptions (e.g., to avoid circular dependencies), we begin our proof of<br><strong id=\"add_9_0\">add_9_0:</strong> <a class=\"ProveItLink\" href=\"../../../__pv_it/theorems/17d9c3f90dc6d8433d102d81bb37695042022a1b0/expr.ipynb\"><img src=\"data:image/png;base64,iVBORw0KGgoAAAANSUhEUgAAAGEAAAAVBAMAAACkm51HAAAAMFBMVEX///8AAAAAAAAAAAAAAAAA\n",
       "AAAAAAAAAAAAAAAAAAAAAAAAAAAAAAAAAAAAAAAAAAAv3aB7AAAAD3RSTlMAInZUiRDNmWbv3US7\n",
       "qzJazP2FAAAACXBIWXMAAA7EAAAOxAGVKw4bAAABiUlEQVQ4y3WTO0gDQRBAXz5rEo0xtdUJgiCI\n",
       "RxDByoCCjeJ1oghJI1iKiBFFSCfaGAsLCYgabA6EYGVntLJQtLGwMq2CKP5BETc5hbtNdpvZmdk3\n",
       "szO7A8Spv3R2/KbGcagjeiCUuVaMgx1x/Nmas5llC0Qasced9woNptiFKRWYMGIbMn6W5hzRkmM7\n",
       "csQaDMOKStzAOUSgJU3wzbElHHEB/RYRSyHeYdSiF1Il/F8e4gMeTRqUQsQ3dBeZc3J8uglRIbIE\n",
       "r+rkyDJNtY5nN+F7lYRBOF1RQnZ1XTl1XBoUZMg8Dy81RJJATskxXozdmuTlbqw98SPFom1v2faB\n",
       "DCGJY4PYk0KI2YHucpVA7ZWso9+kKVf73rJXherm/z3+CNn1dYvAjlKH4zmFwCapsodYhXkIl5QE\n",
       "fZaQtx+Rf3GfMzxEoym2ZfSkQnRaUflE95V/lyl6CTHXJZM2FhUiOLRUCVd22xJupbX+Zw/PuLUj\n",
       "t7KgmY8T3eD4ShrHpI6I6sbWZ2gcbfXNv/n0Y2SBhu7wAAAAAElFTkSuQmCC\n",
       "\" style=\"display:inline;vertical-align:middle;\" /></a><br>(see <a class=\"ProveItLink\" href=\"../../../__pv_it/theorems/7507873326036355a927064163171c8a3ba26e690/dependencies.ipynb\">dependencies</a>)<br>"
      ],
      "text/plain": [
       "<IPython.core.display.HTML object>"
      ]
     },
     "metadata": {},
     "output_type": "display_data"
    },
    {
     "name": "stdout",
     "output_type": "stream",
     "text": [
      "add_9_0 may now be readily provable (assuming required theorems are usable).  Simply execute \"%qed\".\n"
     ]
    }
   ],
   "source": [
    "%proving add_9_0"
   ]
  },
  {
   "cell_type": "code",
   "execution_count": null,
   "metadata": {},
   "outputs": [],
   "source": []
  }
 ],
 "metadata": {
  "kernelspec": {
   "display_name": "Python 3",
   "language": "python",
   "name": "python3"
  }
 },
 "nbformat": 4,
 "nbformat_minor": 0
}