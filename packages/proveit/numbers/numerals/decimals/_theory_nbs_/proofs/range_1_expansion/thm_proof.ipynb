{
 "cells": [
  {
   "cell_type": "markdown",
   "metadata": {},
   "source": [
    "Proof of <a class=\"ProveItLink\" href=\"../../../../../../_theory_nbs_/theory.ipynb\">proveit</a>.<a class=\"ProveItLink\" href=\"../../../../../_theory_nbs_/theory.ipynb\">numbers</a>.<a class=\"ProveItLink\" href=\"../../../../_theory_nbs_/theory.ipynb\">numerals</a>.<a class=\"ProveItLink\" href=\"../../theory.ipynb\">decimals</a>.<a class=\"ProveItLink\" href=\"../../theorems.ipynb#range_1_expansion\">range_1_expansion</a> theorem\n",
    "========"
   ]
  },
  {
   "cell_type": "code",
   "execution_count": 1,
   "metadata": {},
   "outputs": [],
   "source": [
    "import proveit\n",
    "theory = proveit.Theory() # the theorem's theory"
   ]
  },
  {
   "cell_type": "code",
   "execution_count": 2,
   "metadata": {},
   "outputs": [
    {
     "data": {
      "text/html": [
       "With these <a href=\"allowed_presumptions.txt\">allowed</a>/<a href=\"disallowed_presumptions.txt\">disallowed</a> theorem/theory presumptions (e.g., to avoid circular dependencies), we begin our proof of<br><strong id=\"range_1_expansion\">range_1_expansion:</strong> <a class=\"ProveItLink\" href=\"../../../__pv_it/theorems/f7b103d7c1bb51444eaf2b063e60f3f395068eac0/expr.ipynb\"><img src=\"data:image/png;base64,iVBORw0KGgoAAAANSUhEUgAAAa8AAAAXBAMAAABOq92eAAAAMFBMVEX///8AAAAAAAAAAAAAAAAA\n",
       "AAAAAAAAAAAAAAAAAAAAAAAAAAAAAAAAAAAAAAAAAAAv3aB7AAAAD3RSTlMAq1RmmUTNIjK7EInv\n",
       "3XZ/CtNrAAAACXBIWXMAAA7EAAAOxAGVKw4bAAAEZUlEQVRYw91XTYgURxR+O9Pz1z0zO2AOOexh\n",
       "RNyDJmjABLzoJppElMheFdFJQhByGslJiNHkbNDgIWQPYczBGAL+kVOCsiwIoqxsgoJusjCJC3sL\n",
       "e9GVPQTrVb1X/aqretzxFh981fX6van6vur6G4AXsS5B+s4LN7Lm11mr2LLyvFa6klcXXsyabQPp\n",
       "AxzOyQzZ4bV19I8uS32DQY2nFBgtfLFhOGGbCQD7fmV/EZpbZY6MuFadh0yub9FvPVUWrmD6FDxS\n",
       "j0dhGj4Fxrv4+uhQuuKOAUDy6gz58CfApyLHjUg7/94quLkBu3oav8AF/S06UFYqET6NEAXClziB\n",
       "zw4lLNpqAFDfOAVcB9gmctyInlBcb65mcgM2cwB17CKvOGHg0whRIOBIJO2hhNUJAEd6YOvqKQbV\n",
       "jaAV+lJYvTeoh9Kqfkyzf5vg0QhRIBSV1vJwS2ycAHDd+mhl8X3ciC+sPHCRJXP6Fx32PyZ4NEIU\n",
       "GLMLC3eGE7aPAG/MvkJ+vKhaSlo2JRPxhYlc34pjv+PEi3DvuPQ3LjmCRyNEgbEHYMom/2j2LTOH\n",
       "QThpUI7ff+wnJTVtip20VzfiC5O5vo327QyYqKvyLTCAaEFbCwZQYByDCubFu7GZGzqtcQrLGggH\n",
       "bBDgDwJUnrL/VaRaKkynJ6sb8YWJ3ICd1H028LjsjqryNTBwLI8Co9ZLJlHGm6cyP6zldXuTAIVl\n",
       "9nt1Rbu6nC4oN4Ij/dcsjbQWJnIDtsXsBIpXDFvUXnAGDDwaIQqMQl/vHaPeNvV8YWaN6zp2X5rO\n",
       "rH4b8b9YaeAXu26FAXygcIjgCwtQYEBnB3Y7dg2vInpIL70jhJFjg3Iq1lrW/zBWbcylg+JGAlNx\n",
       "bpCwb4CnojnfXyc4ayyPAgOu6VvAdlxnfX1+TIwLYcqJvlN2joLKvidAvc9+/DhRKxbPeSMjEwls\n",
       "Hmmuc5swj7uGAP6i8pjIbc/m5lFgwOda9G5s5AcUGvd+SYWxw0GQm+/JSfary5/R9ny5E4g4wpIV\n",
       "ELnxk2yFxNCRUFyWB4xz7cqhwIARvWucs2PEG2kNhJMGAb4m0BrX9XVqT21gJ435QEQKGxl7sk7m\n",
       "3sPKBFfmxY5QxZEcwbG/T3AsjwKD7BYWly/q+ooUtkJTkYPmANCHwNvugXBCl5vAjzhfLJvrmH4T\n",
       "0Wp+QHOtMmfgWh6FE7Z5PeVWIb4C4xH8rEZqWgir2u1rPHLvpIXWR6kP9s6qJoEXcS7Bbm7G8M36\n",
       "cpuvtCPtnT1563buJzkUdonrs+ZfnYHzS6D+LzRbQljT3n1UkOxbjcZUR/j8HyFWI5yNBP4a29zM\n",
       "5oFvHl7gyd8908b97jghY2EKDPEVCrrW5gtqzbvZsv2kUVzsCh9p6IHAxjIR39LczJ9iLHa8zzLP\n",
       "RouTdiADNEIUGNTRejVJD+oZ0/vktDig2XHHu28gfYClnMyQLa3tuv2FUds1GNR4SmHJaT75VxX6\n",
       "2xRh/14hjJ2XySr/a/bPAOjOcXa+38nrAAAAAElFTkSuQmCC\n",
       "\" style=\"display:inline;vertical-align:middle;\" /></a><br>(see <a class=\"ProveItLink\" href=\"../../../__pv_it/theorems/b7a92fc224218299b6c680334a9d1a9bae4f03710/dependencies.ipynb\">dependencies</a>)<br>"
      ],
      "text/plain": [
       "<IPython.core.display.HTML object>"
      ]
     },
     "metadata": {},
     "output_type": "display_data"
    }
   ],
   "source": [
    "%proving range_1_expansion"
   ]
  },
  {
   "cell_type": "code",
   "execution_count": null,
   "metadata": {},
   "outputs": [],
   "source": []
  }
 ],
 "metadata": {
  "kernelspec": {
   "display_name": "Python 3",
   "language": "python",
   "name": "python3"
  }
 },
 "nbformat": 4,
 "nbformat_minor": 0
}