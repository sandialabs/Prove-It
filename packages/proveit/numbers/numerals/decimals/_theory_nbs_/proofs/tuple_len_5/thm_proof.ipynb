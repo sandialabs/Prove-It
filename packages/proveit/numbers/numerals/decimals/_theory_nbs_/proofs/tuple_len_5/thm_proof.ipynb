{
 "cells": [
  {
   "cell_type": "markdown",
   "metadata": {},
   "source": [
    "Proof of <a class=\"ProveItLink\" href=\"../../../../../../_theory_nbs_/theory.ipynb\">proveit</a>.<a class=\"ProveItLink\" href=\"../../../../../_theory_nbs_/theory.ipynb\">numbers</a>.<a class=\"ProveItLink\" href=\"../../../../_theory_nbs_/theory.ipynb\">numerals</a>.<a class=\"ProveItLink\" href=\"../../theory.ipynb\">decimals</a>.<a class=\"ProveItLink\" href=\"../../theorems.ipynb#tuple_len_5\">tuple_len_5</a> theorem\n",
    "========"
   ]
  },
  {
   "cell_type": "code",
   "execution_count": 1,
   "metadata": {},
   "outputs": [],
   "source": [
    "import proveit\n",
    "from proveit import a, b, e, i\n",
    "from proveit.core_expr_types.tuples  import tuple_len_incr\n",
    "from proveit.numbers.numerals.decimals import tuple_len_4, add_4_1\n",
    "theory = proveit.Theory() # the theorem's theory"
   ]
  },
  {
   "cell_type": "code",
   "execution_count": 2,
   "metadata": {},
   "outputs": [
    {
     "data": {
      "text/html": [
       "With these <a href=\"allowed_presumptions.txt\">allowed</a>/<a href=\"disallowed_presumptions.txt\">disallowed</a> theorem/theory presumptions (e.g., to avoid circular dependencies), we begin our proof of<br><strong id=\"tuple_len_5\">tuple_len_5:</strong> <a class=\"ProveItLink\" href=\"../../../__pv_it/theorems/3fac35f56ece5e9be576a91aef14bb6918f939500/expr.ipynb\"><img src=\"data:image/png;base64,iVBORw0KGgoAAAANSUhEUgAAAP8AAAAWBAMAAAD9bVezAAAAMFBMVEX///8AAAAAAAAAAAAAAAAA\n",
       "AAAAAAAAAAAAAAAAAAAAAAAAAAAAAAAAAAAAAAAAAAAv3aB7AAAAD3RSTlMAq1RmmUTNIjK7EInv\n",
       "3XZ/CtNrAAAACXBIWXMAAA7EAAAOxAGVKw4bAAADjklEQVRIx7WWXWjTUBTHT9v0I2n6gYgvgxkQ\n",
       "FCZKQBH0oRbqF4pbwVdxFR9EQcnAN52LCPrgZH1SEHXxRZGK7RyiIM6Bil8MpyiOjUJ0yOYGYw42\n",
       "ZQ/Dcz+SJWsC7YN37ObknHub373/c24C0ECL4h9tWiOzNP8pDf0Oth8Qz5NrUmlk1hHaP17hjQHc\n",
       "o6E0uVtX1y8FKxxgo8Mp3Rz2GHrp1bKdVL0A5IVTozS0m9wdrwvgLjAAqeD0RrJeY+cc9kkvgMTH\n",
       "MYOGLhBti3UB5DiAoDq9KS89wouOm61eAAErFEGOeH2aDnIA2eVtNzyGxp26yIYvAIZCuJxIfSlQ\n",
       "4ADrXe7nXmNdukRUXwASGqpWP9QFIFQ4wAGiWtOEydxHZ1bxAQPjOjM6Bnr4npZm9uOktBdApk9n\n",
       "oX0AN+oCILQU4Bj+H9ZEJrO0YJRZOXcqAsul8BvoZbqER+AKQKhgARyskvaJmKIRnWehDoim7eI8\n",
       "4XrkC92VtwoH+IyPfQkCkzm4CDLbizHLeKDCHjalS4WfOGTQYwew3WIh0WDFTVuTa0SXu3LzHOA1\n",
       "yjELiQoTpgApagl24rcRGNp6Z6ZxQmzWG6BNo6Gg6cjBt64Rv3wB5CKUGTZytFPBZbuW34E0z6zf\n",
       "TAivHbiGADoLFTIkWzJPiARL34l48XGTuk7TPMqotRKUTdhpHwNtVPCyaZ2NSxCaZeYSU2nYIweG\n",
       "ANby0CM8jqRvsT/k1BxNkvr5Ghukrr/k50aAp4hocoDb+DQF1gQ1iQDomA/UQM48MaQ5CBQ2gEHT\n",
       "AoKYaUWPHaiQnWKhc/gAIUueCaJK0lIoSjp1kXUE0mf5DpCSoQB9BCb4RYAyDg6oYpYaWAJxnRgI\n",
       "uCmblRbQ2gbSXla/NQBnIPmehwI60TdJ1inrQpqJTV0ET861WCUyzAGu4iqbn3ZMQmIUrSY8oYkB\n",
       "z7ZMMePO9OVmHaq4Bcl+Im8i7wEQ3bXa4CEqoCbuwPsUyCh0SuOuKcO6oW2EAyTs6mzxNyBoH9Gd\n",
       "4F0FVoguV+s5ZJQgYWyHEkTyUCkR10V0iQpUll8qFCCUdQjpZ0Dc+RLzA8jZb6/c5n7oVmKtJvbR\n",
       "XMboVrhLas1YSxE1/j1w3cp309cAeGhvdtEXYOVrWKnpwfmelIoc4L71qQG+BoCNImq+AKL7myxs\n",
       "rOytC2/nIUnlj5qNfJJN0H7SP2S3UE1vXf5j+weDQflztxlMgQAAAABJRU5ErkJggg==\n",
       "\" style=\"display:inline;vertical-align:middle;\" /></a><br>(see <a class=\"ProveItLink\" href=\"../../../__pv_it/theorems/ed67f0f10d120db7f2ca0845df203aceb8e56cfb0/dependencies.ipynb\">dependencies</a>)<br>"
      ],
      "text/plain": [
       "<IPython.core.display.HTML object>"
      ]
     },
     "metadata": {},
     "output_type": "display_data"
    }
   ],
   "source": [
    "%proving tuple_len_5"
   ]
  },
  {
   "cell_type": "code",
   "execution_count": 3,
   "metadata": {},
   "outputs": [
    {
     "data": {
      "text/html": [
       "<strong id=\"four_spec\">four_spec:</strong> <span style=\"font-size:20px;\"> <a class=\"ProveItLink\" href=\"../../../__pv_it/_proof_tuple_len_5/d90428beab7f914ecec27868848acd177916b5020/proof.ipynb\" style=\"text-decoration: none\">&nbsp;&#x22A2;&nbsp;&nbsp;</a><a class=\"ProveItLink\" href=\"../../../__pv_it/theorems/6f44b83f7c1a3c02a34b9075b2d4b25af862ac030/expr.ipynb\"><img src=\"data:image/png;base64,iVBORw0KGgoAAAANSUhEUgAAAIkAAAAVBAMAAACArtDCAAAAMFBMVEX///8AAAAAAAAAAAAAAAAA\n",
       "AAAAAAAAAAAAAAAAAAAAAAAAAAAAAAAAAAAAAAAAAAAv3aB7AAAAD3RSTlMAIolEdjJUEM2ZZu/d\n",
       "u6v6CvZmAAAACXBIWXMAAA7EAAAOxAGVKw4bAAAB7klEQVQ4y42Uv0tbURTHv3mv7728/GgyOEoI\n",
       "VIcWhwzdOvRFjFMp9T9Id6FvcBCKSbYgLhlFLEmhhTqp0KloCYEKhSBvcHFSSgZx0NS2sThI7098\n",
       "iSdNznD53i/nfe4999x3kQaPCEZHOjQOxiMxzo9BeRrKJyl2NuSs7BFp1lrtQYOmWDXlLvfZq9Rq\n",
       "qSKqNCVxqtyNPrtHUZ772KIpLzRlJ+ya1xRlBoj7FMX6pCh2JWwbTYrCyow2KIoRVRSXH25makLa\n",
       "0c7LokqY+yhF5EeBlWmcUpS8pvBFzF2c+MIuV52f8tsDvJOZz9JJVmasoimbbR6HIqmhKQm29tsG\n",
       "NuUnb3x8loefVcL5ApcR7B1iLwY0JZ4D6kBL+uvAlRB1X2W6XU6E1SUo7/so+3B+Sb8FU/Z6X2fG\n",
       "A5RZiknsJeIhVJHzG7Guvi6u6DWzVJQ9bPNWNu+fi3lxcfk1K9ykB6eHh5XX4DX84WfExQ1LEqJc\n",
       "xJmdRiwgb11c7YW38AiLtZrzl83OcQwhWIOmhUh69ndXXYj7lFQgXYtttTS70HmFNlu69Jg1ngvj\n",
       "yQdfCKcznSmwwnMUxT259aT7TVu2P1QAkyNehq277g8V6p/9DyWpX7AlDBWIBCMoTqBmHoYKtRRN\n",
       "KYhxYowXMx/KH4h/qcyAPKliGpcAAAAASUVORK5CYII=\n",
       "\" style=\"display:inline;vertical-align:middle;\" /></a></span><br>"
      ],
      "text/plain": [
       "<IPython.core.display.HTML object>"
      ]
     },
     "metadata": {},
     "output_type": "display_data"
    }
   ],
   "source": [
    "four_spec = tuple_len_4.instantiate({a:a}, auto_simplify=False)"
   ]
  },
  {
   "cell_type": "code",
   "execution_count": 4,
   "metadata": {},
   "outputs": [
    {
     "data": {
      "text/html": [
       "<strong id=\"tuple_spec\">tuple_spec:</strong> <span style=\"font-size:20px;\"> <a class=\"ProveItLink\" href=\"../../../__pv_it/_proof_tuple_len_5/56a9bc5184dc8c17eda26b6085c4ccd46c4d28370/proof.ipynb\" style=\"text-decoration: none\">&nbsp;&#x22A2;&nbsp;&nbsp;</a><a class=\"ProveItLink\" href=\"../../../__pv_it/theorems/0259b06914fa37548b58513cd20eb9aea0b0c6ad0/expr.ipynb\"><img src=\"data:image/png;base64,iVBORw0KGgoAAAANSUhEUgAAAJ0AAAAVBAMAAACu6/FQAAAAMFBMVEX///8AAAAAAAAAAAAAAAAA\n",
       "AAAAAAAAAAAAAAAAAAAAAAAAAAAAAAAAAAAAAAAAAAAv3aB7AAAAD3RSTlMAIolEdjJUEM2ZZu/d\n",
       "u6v6CvZmAAAACXBIWXMAAA7EAAAOxAGVKw4bAAACC0lEQVQ4y5WUv0scQRTH3557u657621hI6iE\n",
       "RLsg9gqe4kW02v/A6yy0WLukWlt/IEe6iOAVFiqIdoIoESUEQeTsBC3kEImVQiRKqryZtzs70ZmT\n",
       "e8XwnXnzPvtm3psFH5gZ0IAZ9UI+8PFTI7ymAhszfS+WswAzMc96J63bl4evGdmFcjoZV/Lc58Wf\n",
       "Me/zf47msiKpfEnaEKp4ue9HYcxb1oYKGwxT3VJW8VrT+9vRhgr7KE926/OsWX1oYnPyZL4+z2Hl\n",
       "MGpDBXIsjdzGW7rHA+qNWvFPXKzuMcy+V8lb6w2I11zBod/3nijkOYyoKztKTpUL4YOBIIsfXxe8\n",
       "lVNmZ0x6ofGbeDksgL0HDvWJ9QQuZXoUC+ajKzH+gomcKVV+aFfEc9HlPECOuhBD81w5cU6Sz3sc\n",
       "YQETGt6qL3huFSLagaGDvGPcatKpwpe/pvOreBfIC8R5owJsi/Zb5R0TxfWRfbQ0rbq/fYB7Oq+H\n",
       "u6IS/LJ8m8UEeF9cYJn6mEh97Nj48S1Vfug6IF7mmjGtEwcivPbWilfmAoubCZhIfS2z8AVr/1XF\n",
       "awdzl3hZLKx909NVhBy+aLuGz48JeL85SivCB8Ob7MTHKp7x7S55vz/E4qRepMo41NQ3eb8b8iXo\n",
       "RKqcyhs8z0/+fQWtkFQnvMGzk04zQSskdV6HV+RjWyP/e5OfxgxUvn9FWX0D+c3HBQAAAABJRU5E\n",
       "rkJggg==\n",
       "\" style=\"display:inline;vertical-align:middle;\" /></a></span><br>"
      ],
      "text/plain": [
       "<IPython.core.display.HTML object>"
      ]
     },
     "metadata": {},
     "output_type": "display_data"
    },
    {
     "name": "stdout",
     "output_type": "stream",
     "text": [
      "tuple_len_5 may now be readily provable (assuming required theorems are usable).  Simply execute \"%qed\".\n"
     ]
    }
   ],
   "source": [
    "tuple_spec = tuple_len_incr.instantiate(\n",
    "    {i: four_spec.rhs, a: four_spec.lhs.operands, b: e})"
   ]
  },
  {
   "cell_type": "code",
   "execution_count": 5,
   "metadata": {},
   "outputs": [
    {
     "name": "stdout",
     "output_type": "stream",
     "text": [
      "proveit.numbers.numerals.decimals.tuple_len_5 has been proven.\n"
     ]
    },
    {
     "data": {
      "text/html": [
       "<table><tr><th>&nbsp;</th><th>step type</th><th>requirements</th><th>statement</th></tr>\n",
       "<tr><td><a name=\"0x40037e42b54e2ae7_step0\">0</a></td><td>generalization</td><td><a href=\"#0x40037e42b54e2ae7_step1\">1</a></td><td><span style=\"font-size:20px;\"> <a class=\"ProveItLink\" href=\"../../../__pv_it/_proof_tuple_len_5/1e5ab9c1e5ab88c2f2cd85b08acef869667de1f10/proof.ipynb\" style=\"text-decoration: none\">&nbsp;&#x22A2;&nbsp;&nbsp;</a><a class=\"ProveItLink\" href=\"../../../__pv_it/theorems/3fac35f56ece5e9be576a91aef14bb6918f939500/expr.ipynb\"><img src=\"data:image/png;base64,iVBORw0KGgoAAAANSUhEUgAAAP8AAAAWBAMAAAD9bVezAAAAMFBMVEX///8AAAAAAAAAAAAAAAAA\n",
       "AAAAAAAAAAAAAAAAAAAAAAAAAAAAAAAAAAAAAAAAAAAv3aB7AAAAD3RSTlMAq1RmmUTNIjK7EInv\n",
       "3XZ/CtNrAAAACXBIWXMAAA7EAAAOxAGVKw4bAAADjklEQVRIx7WWXWjTUBTHT9v0I2n6gYgvgxkQ\n",
       "FCZKQBH0oRbqF4pbwVdxFR9EQcnAN52LCPrgZH1SEHXxRZGK7RyiIM6Bil8MpyiOjUJ0yOYGYw42\n",
       "ZQ/Dcz+SJWsC7YN37ObknHub373/c24C0ECL4h9tWiOzNP8pDf0Oth8Qz5NrUmlk1hHaP17hjQHc\n",
       "o6E0uVtX1y8FKxxgo8Mp3Rz2GHrp1bKdVL0A5IVTozS0m9wdrwvgLjAAqeD0RrJeY+cc9kkvgMTH\n",
       "MYOGLhBti3UB5DiAoDq9KS89wouOm61eAAErFEGOeH2aDnIA2eVtNzyGxp26yIYvAIZCuJxIfSlQ\n",
       "4ADrXe7nXmNdukRUXwASGqpWP9QFIFQ4wAGiWtOEydxHZ1bxAQPjOjM6Bnr4npZm9uOktBdApk9n\n",
       "oX0AN+oCILQU4Bj+H9ZEJrO0YJRZOXcqAsul8BvoZbqER+AKQKhgARyskvaJmKIRnWehDoim7eI8\n",
       "4XrkC92VtwoH+IyPfQkCkzm4CDLbizHLeKDCHjalS4WfOGTQYwew3WIh0WDFTVuTa0SXu3LzHOA1\n",
       "yjELiQoTpgApagl24rcRGNp6Z6ZxQmzWG6BNo6Gg6cjBt64Rv3wB5CKUGTZytFPBZbuW34E0z6zf\n",
       "TAivHbiGADoLFTIkWzJPiARL34l48XGTuk7TPMqotRKUTdhpHwNtVPCyaZ2NSxCaZeYSU2nYIweG\n",
       "ANby0CM8jqRvsT/k1BxNkvr5Ghukrr/k50aAp4hocoDb+DQF1gQ1iQDomA/UQM48MaQ5CBQ2gEHT\n",
       "AoKYaUWPHaiQnWKhc/gAIUueCaJK0lIoSjp1kXUE0mf5DpCSoQB9BCb4RYAyDg6oYpYaWAJxnRgI\n",
       "uCmblRbQ2gbSXla/NQBnIPmehwI60TdJ1inrQpqJTV0ET861WCUyzAGu4iqbn3ZMQmIUrSY8oYkB\n",
       "z7ZMMePO9OVmHaq4Bcl+Im8i7wEQ3bXa4CEqoCbuwPsUyCh0SuOuKcO6oW2EAyTs6mzxNyBoH9Gd\n",
       "4F0FVoguV+s5ZJQgYWyHEkTyUCkR10V0iQpUll8qFCCUdQjpZ0Dc+RLzA8jZb6/c5n7oVmKtJvbR\n",
       "XMboVrhLas1YSxE1/j1w3cp309cAeGhvdtEXYOVrWKnpwfmelIoc4L71qQG+BoCNImq+AKL7myxs\n",
       "rOytC2/nIUnlj5qNfJJN0H7SP2S3UE1vXf5j+weDQflztxlMgQAAAABJRU5ErkJggg==\n",
       "\" style=\"display:inline;vertical-align:middle;\" /></a></span></td></tr>\n",
       "<tr><td><a name=\"0x40037e42b54e2ae7_step1\">1</a></td><td>instantiation</td><td><a href=\"#0x40037e42b54e2ae7_step2\">2</a>, <a href=\"#0x40037e42b54e2ae7_step3\">3</a>, <a href=\"#0x40037e42b54e2ae7_step4\">4</a>, <a href=\"#0x40037e42b54e2ae7_step5\">5</a><sup>*</sup></td><td><span style=\"font-size:20px;\"> <a class=\"ProveItLink\" href=\"../../../__pv_it/_proof_tuple_len_5/56a9bc5184dc8c17eda26b6085c4ccd46c4d28370/proof.ipynb\" style=\"text-decoration: none\">&nbsp;&#x22A2;&nbsp;&nbsp;</a><a class=\"ProveItLink\" href=\"../../../__pv_it/theorems/0259b06914fa37548b58513cd20eb9aea0b0c6ad0/expr.ipynb\"><img src=\"data:image/png;base64,iVBORw0KGgoAAAANSUhEUgAAAJ0AAAAVBAMAAACu6/FQAAAAMFBMVEX///8AAAAAAAAAAAAAAAAA\n",
       "AAAAAAAAAAAAAAAAAAAAAAAAAAAAAAAAAAAAAAAAAAAv3aB7AAAAD3RSTlMAIolEdjJUEM2ZZu/d\n",
       "u6v6CvZmAAAACXBIWXMAAA7EAAAOxAGVKw4bAAACC0lEQVQ4y5WUv0scQRTH3557u657621hI6iE\n",
       "RLsg9gqe4kW02v/A6yy0WLukWlt/IEe6iOAVFiqIdoIoESUEQeTsBC3kEImVQiRKqryZtzs70ZmT\n",
       "e8XwnXnzPvtm3psFH5gZ0IAZ9UI+8PFTI7ymAhszfS+WswAzMc96J63bl4evGdmFcjoZV/Lc58Wf\n",
       "Me/zf47msiKpfEnaEKp4ue9HYcxb1oYKGwxT3VJW8VrT+9vRhgr7KE926/OsWX1oYnPyZL4+z2Hl\n",
       "MGpDBXIsjdzGW7rHA+qNWvFPXKzuMcy+V8lb6w2I11zBod/3nijkOYyoKztKTpUL4YOBIIsfXxe8\n",
       "lVNmZ0x6ofGbeDksgL0HDvWJ9QQuZXoUC+ajKzH+gomcKVV+aFfEc9HlPECOuhBD81w5cU6Sz3sc\n",
       "YQETGt6qL3huFSLagaGDvGPcatKpwpe/pvOreBfIC8R5owJsi/Zb5R0TxfWRfbQ0rbq/fYB7Oq+H\n",
       "u6IS/LJ8m8UEeF9cYJn6mEh97Nj48S1Vfug6IF7mmjGtEwcivPbWilfmAoubCZhIfS2z8AVr/1XF\n",
       "awdzl3hZLKx909NVhBy+aLuGz48JeL85SivCB8Ob7MTHKp7x7S55vz/E4qRepMo41NQ3eb8b8iXo\n",
       "RKqcyhs8z0/+fQWtkFQnvMGzk04zQSskdV6HV+RjWyP/e5OfxgxUvn9FWX0D+c3HBQAAAABJRU5E\n",
       "rkJggg==\n",
       "\" style=\"display:inline;vertical-align:middle;\" /></a></span></td></tr>\n",
       "<tr><td>&nbsp;</td><td colspan=4 style=\"text-align:left\"><span style=\"font-size:20px;\"><a class=\"ProveItLink\" href=\"../../../../../../__pv_it/common/ae955345c83abf786c3aff8681cd5465beae262d0/expr.ipynb\"><img src=\"data:image/png;base64,iVBORw0KGgoAAAANSUhEUgAAAAcAAAAOBAMAAAARcxsoAAAALVBMVEX///8AAAAAAAAAAAAAAAAA\n",
       "AAAAAAAAAAAAAAAAAAAAAAAAAAAAAAAAAAAAAADAOrOgAAAADnRSTlMAdpndiRBmRO8yVM2rIuws\n",
       "s0IAAAAJcEhZcwAADsQAAA7EAZUrDhsAAAA6SURBVAjXY2BgEGIAAhMGdMAqlMDAwMLewMAwi2kD\n",
       "A0MAhwBQcF0AkNjDCpR9zsLAwPngGpB7LIEBALAvCJF4nqyTAAAAAElFTkSuQmCC\n",
       "\" style=\"display:inline;vertical-align:middle;\" /></a> : <a class=\"ProveItLink\" href=\"../../../../__pv_it/common/48a1d915c1e9490b9a94e5c77a208938d3ee20ce0/expr.ipynb\"><img src=\"data:image/png;base64,iVBORw0KGgoAAAANSUhEUgAAAAoAAAAOBAMAAADkjZCYAAAAKlBMVEX///8AAAAAAAAAAAAAAAAA\n",
       "AAAAAAAAAAAAAAAAAAAAAAAAAAAAAAAAAADmU0mKAAAADXRSTlMAMpndq3ZmzYkiRO+7EDr+BQAA\n",
       "AAlwSFlzAAAOxAAADsQBlSsOGwAAAD1JREFUCNdjYGBgEGIAARMQwQomxUpAZAOIZJ0AIqcxgMgG\n",
       "EMk2AUROZQCRS1xcbnuAlG4Bm3AHROjcdQUAhwAMRSL9jTgAAAAASUVORK5CYII=\n",
       "\" style=\"display:inline;vertical-align:middle;\" /></a>, <a class=\"ProveItLink\" href=\"../../../../../../__pv_it/common/c06c606ec12678c58933ac85412ecadc2ae28be60/expr.ipynb\"><img src=\"data:image/png;base64,iVBORw0KGgoAAAANSUhEUgAAAAsAAAAJBAMAAAAWSsseAAAAMFBMVEX///8AAAAAAAAAAAAAAAAA\n",
       "AAAAAAAAAAAAAAAAAAAAAAAAAAAAAAAAAAAAAAAAAAAv3aB7AAAAD3RSTlMAIquJdkTvuxBmmd1U\n",
       "zTKBpmoTAAAACXBIWXMAAA7EAAAOxAGVKw4bAAAARUlEQVQI12NgYFR2dGBgYAgTYP/BwMCRycC1\n",
       "gYGB6wMDtwEDA1sBQ38AA0O/A8N8oIr+Awy6PAIM7A48u7iAKlXshPwYAE2lCqdX0eXEAAAAAElF\n",
       "TkSuQmCC\n",
       "\" style=\"display:inline;vertical-align:middle;\" /></a> : <a class=\"ProveItLink\" href=\"../../../__pv_it/theorems/b9025baedda49f8eb0a4eb7b23501a26c1fde0970/expr.ipynb\"><img src=\"data:image/png;base64,iVBORw0KGgoAAAANSUhEUgAAAFAAAAAVBAMAAAAjqnRBAAAAMFBMVEX///8AAAAAAAAAAAAAAAAA\n",
       "AAAAAAAAAAAAAAAAAAAAAAAAAAAAAAAAAAAAAAAAAAAv3aB7AAAAD3RSTlMAInZUiRDNmWbv3US7\n",
       "qzJazP2FAAAACXBIWXMAAA7EAAAOxAGVKw4bAAABfUlEQVQoz4VTPUjDQBh9/UmvSVuaWSycotBJ\n",
       "Kqhgp1KcBKWroKSji5ChiFs7iYMgDqKgQ6GKg0tXp1Y3J6EW57g4uLRY4uLid3eJtJDQg9w93r37\n",
       "7n3fdwFgYuqIiClamC5McZpWxgjtpRkg+7xEnvaq41zCDgo4QqIC1hinskE+Ui6SNvQJrlMJEMbJ\n",
       "zwXWJrjNoJuFn33URPb9Oa64g/k3b7ecdxTIlQfkZ4ukwKOZdlXWPxVLlXWmwLrK4Dleyc8xWrR9\n",
       "BabKEnOhq9i3Pthp4JCWdVwDbAijJFlWRVYi5voG6+IQMBBCvQurLVnSd2SB9K4vvIH2K9yJqy2O\n",
       "s/8y1mWBLO736hvJIa1FPBNbwHvM1ITQIb8SUBvaAmgjZKrLwCnljTSP3TNY1MtMI21LQCnHHQEo\n",
       "UNGmOtbwRad627klGHeE+keQABsniwrsLXz0qKIPMBzf9mo4QKQp2u2NUjiQT+fJz4+HAmCWvl0P\n",
       "RxEKVLQIn/4rRE38AQwMUMhXz3KBAAAAAElFTkSuQmCC\n",
       "\" style=\"display:inline;vertical-align:middle;\" /></a>, <a class=\"ProveItLink\" href=\"../../../../../../__pv_it/common/195236b98c6c564a75b5dbada74b173bc52d5c3e0/expr.ipynb\"><img src=\"data:image/png;base64,iVBORw0KGgoAAAANSUhEUgAAAAkAAAAOBAMAAAAPuiubAAAAMFBMVEX///8AAAAAAAAAAAAAAAAA\n",
       "AAAAAAAAAAAAAAAAAAAAAAAAAAAAAAAAAAAAAAAAAAAv3aB7AAAAD3RSTlMAELvv3c2ZVESJq3Yi\n",
       "MmZ3LnoBAAAACXBIWXMAAA7EAAAOxAGVKw4bAAAAT0lEQVQI12NgVHZgAALWBBDJXwAi+wVA5BQQ\n",
       "wRC1ezkDA+NXAfkDDOwfGZg3MLAFMPBPYGCZwNBfAFKeL8DAf4HRjoGB6wET0AjGlXkMDAAVqA7Q\n",
       "GyenWgAAAABJRU5ErkJggg==\n",
       "\" style=\"display:inline;vertical-align:middle;\" /></a> : <a class=\"ProveItLink\" href=\"../../../../../../__pv_it/common/f3b2e5223a46d6d30e0676b70270e0fb96f45ce80/expr.ipynb\"><img src=\"data:image/png;base64,iVBORw0KGgoAAAANSUhEUgAAAAkAAAAJBAMAAAASvxsjAAAALVBMVEX///8AAAAAAAAAAAAAAAAA\n",
       "AAAAAAAAAAAAAAAAAAAAAAAAAAAAAAAAAAAAAADAOrOgAAAADnRSTlMAEIl2mUTdMiJmu6tUzZF4\n",
       "WEUAAAAJcEhZcwAADsQAAA7EAZUrDhsAAAA7SURBVAjXY2BgVDYRYGAIK2BXYOB4ycAcwMD12FiV\n",
       "gYFvAwMQ8BmASDYFBoYDDJwXGEQaGBiMZhowAADQsAgpWHl0HwAAAABJRU5ErkJggg==\n",
       "\" style=\"display:inline;vertical-align:middle;\" /></a></span></td></tr><tr><td><a name=\"0x40037e42b54e2ae7_step2\">2</a></td><td>axiom</td><td></td><td><span style=\"font-size:20px;\"> <a class=\"ProveItLink\" href=\"../../../../../../core_expr_types/tuples/_theory_nbs_/axioms.ipynb#tuple_len_incr\" style=\"text-decoration: none\">&nbsp;&#x22A2;&nbsp;&nbsp;</a><a class=\"ProveItLink\" href=\"../../../../../../core_expr_types/tuples/__pv_it/axioms/31e6c515c8bcc36197a8784e24d8800658bd23ba0/expr.ipynb\"><img src=\"data:image/png;base64,iVBORw0KGgoAAAANSUhEUgAAAbwAAAAWBAMAAABJbjTQAAAAMFBMVEX///8AAAAAAAAAAAAAAAAA\n",
       "AAAAAAAAAAAAAAAAAAAAAAAAAAAAAAAAAAAAAAAAAAAv3aB7AAAAD3RSTlMAq1RmmUTNIjK7EInv\n",
       "3XZ/CtNrAAAACXBIWXMAAA7EAAAOxAGVKw4bAAAFN0lEQVRYw81YYWgcRRR+t7d3t7d7dzkpCFIJ\n",
       "J2oNtYmHxkCK1INoCUr1sP7SUA4UpP3TDQiSquH0j/5Ik6CWNP6om/5QazR3sR4qxXIoIdVaOSVq\n",
       "SAlsVIgSAkehTTmhcd7M7N5cbrYX3T++kNk38+bte9+8NzNvD8CT1hfBB0XIHyUTfFNEaCWCJjK5\n",
       "6KYISr5c+g2MLD4TKf/wQja27H1bjEjpkKNTgiT275TD85a1JKXI3bnXJ7Qzl0jzuxweMQKJTOOY\n",
       "tkTG0lynBI/i2AtyeN6ylvQ+d0fP+Q3d8+Q/bEnhESMQLzYMTe2vkfYI1ynBa5in43J43rKW1Mfd\n",
       "UdN+4V0h/8GMFF6fwB/kzwTC6+Y6JQrSSMnhectaUpm7E/O979Bd+E4KryzwXSK8mMV0ShAkyxv2\n",
       "OFq8ZS23Xo67s8svPKOC7XMyeErOC144zXTI6Xhpefmi18npKWtFapG78zjm985VW5ANnh9ucQ+I\n",
       "88PtKyR/ZmXw0MhMnwyegYfiLIXQD/AuOQJMGTwm+w+Ey0fdwWUfMKM1Idvm4T3rpsps/gesUzii\n",
       "bwD0uPAOLCP96BgpDsjgBTGuPRTCIEQIVoOtV2ShBA8lXXhMtm3SDjtcPMXd+Yms3DegVkDv4aKP\n",
       "03AA9HO3eEJk8+E8691nwQ8Ae2TRI0a01H4ZPAV35R4KIWo5eqO3nYA7DEu1XHh12fZop8PEstyd\n",
       "OZJDVTy9R9e56EmAy6BSBB6JXRVPe+L+3wBjMnjEiI7YaUi/5yGl8LQqUB0CQbH56aH24yVuZ4x6\n",
       "crqybdIFGbzYOBQI28lF34J+FdqyketeL+HzOV2GELkaBjzggVKTRS+E0RtghVduH+mv8NKg4+5h\n",
       "AR6VwfS+z503Cmw9mc6u8Y2r3VixmpOzYMPD4MLTb0CwCkHLGx6bfyjpXHtqjSk37T00Ek5asuSs\n",
       "MIMI4VNyx8+0WTq9vzuM088K8FCm/6ptOEjqbJ0+Mcc4vMSSUyJFbe7OKeJuCm5VTOohcUW/AoHc\n",
       "PezAb95+OvD5x+wak1/HzQq9suihkUK2KDtaEEsvg/AKWadjnRCi9UUHZP4S4KFMzWhliNATlLJP\n",
       "/dFo5xEYIaaovXSQX0V4MlN3ZtELZUGli6lfo4A7M2QRjlusW8hBnaENnR85XWHDO+Adfr80wUMj\n",
       "Y5F0Izxjg18ZqIMQAnlqNHh4cvItAm86LMBDWSybSMLrSyzbCVvWqw1W5mDF2Qx5laeUVuHuHCfO\n",
       "t38x+CfLr2USj6m1N9rzbLmwG8d4LwBn4kvOfAwNnf4Z+v+zDB4aCTzQuPcCt1/bQV6TZTrOR49e\n",
       "y2tFFr1Q15YPooIZ3WvBksuaWrkhnzbg7Y8Ueoy3Qcwp4Ra5O/G8Mw/hKW46vggviV2Xdrs78ENB\n",
       "HqlIi7JFSdVC6VWuU3Lrmwy7wB8ENxaOLGaOHaTwpjkbzRJWL9KGPOa1q3uVu1Act3odA93cnWBG\n",
       "hGe4hcnJNx8TunVyb4RdqiCnhXkzvG5JSe3W2qjjRq/dhCGy0NovJgS2wAv1dZ0FhDeSYmw/sto8\n",
       "jJjavPY1PH3/WhpO0rEn3GIqanJ3JvjAy0dJgGfcM31zsyp066ngvmBqVZAPyb/3oh6/BNCvnKEt\n",
       "X+T6l5MnvL/WMTlZ5hmW7bAYd6ZbSQljODDO3TkjvsRudMNuciwhl0/I4ekeH2sU9kSLHxy+ElN7\n",
       "9GIKQmwrHN2sOCyhZ9jjlCWMIQ1Dgm67iO3/x4gEjVIi3yTwqM1Xuc763L+xEpSxaZn4f0P/ADQw\n",
       "jR6KJAN3AAAAAElFTkSuQmCC\n",
       "\" style=\"display:inline;vertical-align:middle;\" /></a></span></td></tr>\n",
       "<tr><td>&nbsp;</td><td colspan=4 style-\"text-align:left\"><a class=\"ProveItLink\" href=\"../../../../../../core_expr_types/tuples/_theory_nbs_/axioms.ipynb#tuple_len_incr\">proveit.core_expr_types.tuples.tuple_len_incr</a></td></tr><tr><td><a name=\"0x40037e42b54e2ae7_step3\">3</a></td><td>conjecture</td><td></td><td><span style=\"font-size:20px;\"> <a class=\"ProveItLink\" href=\"../nat4/thm_proof.ipynb\" style=\"text-decoration: none\">&nbsp;&#x22A2;&nbsp;&nbsp;</a><a class=\"ProveItLink\" href=\"../../../__pv_it/theorems/5cf9097f623478f61147fb5f5c8bbd61d83cfe3a0/expr.ipynb\"><img src=\"data:image/png;base64,iVBORw0KGgoAAAANSUhEUgAAADMAAAAQBAMAAABJt1qBAAAAMFBMVEX///8AAAAAAAAAAAAAAAAA\n",
       "AAAAAAAAAAAAAAAAAAAAAAAAAAAAAAAAAAAAAAAAAAAv3aB7AAAAD3RSTlMAMpndq3ZmzYkiRO+7\n",
       "EFRAb64nAAAACXBIWXMAAA7EAAAOxAGVKw4bAAAA10lEQVQY02NgwACX/xy/wND9ewGILYQmd47L\n",
       "gYH3A5hpgiblPKGNgWEDiMWKLuV3gH0CgwGIJVYCEWE9bGwOZnimchZApBogUlylF6C6PFkEIsBS\n",
       "rBMgUtNhMgyeDAd4FoCkpjFApCoZEFJCvLYgqQaoVAGSFNuDN0AXsk2ASDFuNjY2toFKMfiyAKWm\n",
       "MkCkeA8g6WK4wgs0cImLy28PkIABshRjAETlFjAZCpc6CMSBEKk/YJL9AUyqDoiZwK7S+e8Ktsxn\n",
       "LURG/DdQB28BctBx9UADCgoA1ZQzj5cSOPwAAAAASUVORK5CYII=\n",
       "\" style=\"display:inline;vertical-align:middle;\" /></a></span></td></tr>\n",
       "<tr><td>&nbsp;</td><td colspan=4 style-\"text-align:left\"><a class=\"ProveItLink\" href=\"../nat4/thm_proof.ipynb\">proveit.numbers.numerals.decimals.nat4</a></td></tr><tr><td><a name=\"0x40037e42b54e2ae7_step4\">4</a></td><td>instantiation</td><td><a href=\"#0x40037e42b54e2ae7_step6\">6</a></td><td><span style=\"font-size:20px;\"> <a class=\"ProveItLink\" href=\"../../../__pv_it/_proof_tuple_len_5/998146a13908b7cac73a149b68a325b357062c330/proof.ipynb\" style=\"text-decoration: none\">&nbsp;&#x22A2;&nbsp;&nbsp;</a><a class=\"ProveItLink\" href=\"../../../__pv_it/theorems/2580abc43d43b1582a4a9c201a61f06953b76ac70/expr.ipynb\"><img src=\"data:image/png;base64,iVBORw0KGgoAAAANSUhEUgAAAPcAAAAVBAMAAABoLmXpAAAAMFBMVEX///8AAAAAAAAAAAAAAAAA\n",
       "AAAAAAAAAAAAAAAAAAAAAAAAAAAAAAAAAAAAAAAAAAAv3aB7AAAAD3RSTlMAIolEdjJUEM2ZZu/d\n",
       "u6v6CvZmAAAACXBIWXMAAA7EAAAOxAGVKw4bAAACyUlEQVRIx5WWv4sTQRTH3ybZ3dvs5i6FZZTF\n",
       "H51ICjuL24BREIv8ARbhmrPcwsJGk05UlGDlHYqxMzYG7BT0EFQODm4FOwvXICIqlxPFS+U582Zm\n",
       "s9nJ83IPsnmZ9973w7yZ2QmUAU1+/c9EijHj8ExKR9ApNPcuOYnPXDUzLATO7AeeKInapVTI/rCm\n",
       "55s3O4UuDbd8lvJWjhgrtxo02exAooS1djsdnutMqVlowjUafhng6t0dOXIQcr9ouBdDooS1TjfD\n",
       "0W0xhB4NX+VLp+CfAJ7T8PMM3kvD3SxHt+MsKyTh/TT8ZQhDcgObj+KxEtZezHJ0u86Wo0vBrXYa\n",
       "/gNgSC56bi4eKyH8Dt8mg1og4rdPf5GZR88JEWNQ/8OyYwru+Gk4s02y6zUOV0oIv8E+p8olUW2P\n",
       "wpboWqXpROiIWLGt4M4GWqzgOJMU3PxNsY0uhyslhL9hyGfgiCNm7YArevBKOjzG0q0+NXOvOQn3\n",
       "YrLrwOFKCeFP2WS2wfMxzjgL6DlKTcbMbQruVifh98muP0S4UlJwN4KW0GWcRTxsbiQrZCzfnxFe\n",
       "JCduBAjP9yfb3grgSXLMH+Bha8kNqGLWGrXmmbYvgUEctfzW1vCFnygh/D0DNOGrVbY5vMHWGB22\n",
       "jarcETEoRtTMS4GE27jdfCiEtk4Wrw+Xb7goBT/B6611B1psX813Sx102FbPNbgjYuJATYWLo/MT\n",
       "sAwqKyv30LNHIB/JLzalaKyE8Ass9PnYoTp47HKwB+xlyR04/PisGMEYeFUKbrI2zn8ffRNlm7u7\n",
       "I+Gtg3x4/LrY4FN3Pv4NEiWEe8kLaZl2oEK/21/r2cta260wq4S1xeQe82kHbw8C3tOz/SlnPKsk\n",
       "7vN36i4PSAeMiIaXytnssZfYJU1JwK/I4QKQjgRMh9tRNrug7/ZAU6qrw7+n1YRo9r4SAgf28zdK\n",
       "Kf0DKKvFfpoRn5IAAAAASUVORK5CYII=\n",
       "\" style=\"display:inline;vertical-align:middle;\" /></a></span></td></tr>\n",
       "<tr><td>&nbsp;</td><td colspan=4 style=\"text-align:left\"><span style=\"font-size:20px;\"><a class=\"ProveItLink\" href=\"../../../../../../__pv_it/common/c06c606ec12678c58933ac85412ecadc2ae28be60/expr.ipynb\"><img src=\"data:image/png;base64,iVBORw0KGgoAAAANSUhEUgAAAAsAAAAJBAMAAAAWSsseAAAAMFBMVEX///8AAAAAAAAAAAAAAAAA\n",
       "AAAAAAAAAAAAAAAAAAAAAAAAAAAAAAAAAAAAAAAAAAAv3aB7AAAAD3RSTlMAIquJdkTvuxBmmd1U\n",
       "zTKBpmoTAAAACXBIWXMAAA7EAAAOxAGVKw4bAAAARUlEQVQI12NgYFR2dGBgYAgTYP/BwMCRycC1\n",
       "gYGB6wMDtwEDA1sBQ38AA0O/A8N8oIr+Awy6PAIM7A48u7iAKlXshPwYAE2lCqdX0eXEAAAAAElF\n",
       "TkSuQmCC\n",
       "\" style=\"display:inline;vertical-align:middle;\" /></a> : <a class=\"ProveItLink\" href=\"../../../../../../__pv_it/common/c06c606ec12678c58933ac85412ecadc2ae28be60/expr.ipynb\"><img src=\"data:image/png;base64,iVBORw0KGgoAAAANSUhEUgAAAAsAAAAJBAMAAAAWSsseAAAAMFBMVEX///8AAAAAAAAAAAAAAAAA\n",
       "AAAAAAAAAAAAAAAAAAAAAAAAAAAAAAAAAAAAAAAAAAAv3aB7AAAAD3RSTlMAIquJdkTvuxBmmd1U\n",
       "zTKBpmoTAAAACXBIWXMAAA7EAAAOxAGVKw4bAAAARUlEQVQI12NgYFR2dGBgYAgTYP/BwMCRycC1\n",
       "gYGB6wMDtwEDA1sBQ38AA0O/A8N8oIr+Awy6PAIM7A48u7iAKlXshPwYAE2lCqdX0eXEAAAAAElF\n",
       "TkSuQmCC\n",
       "\" style=\"display:inline;vertical-align:middle;\" /></a>, <a class=\"ProveItLink\" href=\"../../../../../../__pv_it/common/195236b98c6c564a75b5dbada74b173bc52d5c3e0/expr.ipynb\"><img src=\"data:image/png;base64,iVBORw0KGgoAAAANSUhEUgAAAAkAAAAOBAMAAAAPuiubAAAAMFBMVEX///8AAAAAAAAAAAAAAAAA\n",
       "AAAAAAAAAAAAAAAAAAAAAAAAAAAAAAAAAAAAAAAAAAAv3aB7AAAAD3RSTlMAELvv3c2ZVESJq3Yi\n",
       "MmZ3LnoBAAAACXBIWXMAAA7EAAAOxAGVKw4bAAAAT0lEQVQI12NgVHZgAALWBBDJXwAi+wVA5BQQ\n",
       "wRC1ezkDA+NXAfkDDOwfGZg3MLAFMPBPYGCZwNBfAFKeL8DAf4HRjoGB6wET0AjGlXkMDAAVqA7Q\n",
       "GyenWgAAAABJRU5ErkJggg==\n",
       "\" style=\"display:inline;vertical-align:middle;\" /></a> : <a class=\"ProveItLink\" href=\"../../../../../../__pv_it/common/195236b98c6c564a75b5dbada74b173bc52d5c3e0/expr.ipynb\"><img src=\"data:image/png;base64,iVBORw0KGgoAAAANSUhEUgAAAAkAAAAOBAMAAAAPuiubAAAAMFBMVEX///8AAAAAAAAAAAAAAAAA\n",
       "AAAAAAAAAAAAAAAAAAAAAAAAAAAAAAAAAAAAAAAAAAAv3aB7AAAAD3RSTlMAELvv3c2ZVESJq3Yi\n",
       "MmZ3LnoBAAAACXBIWXMAAA7EAAAOxAGVKw4bAAAAT0lEQVQI12NgVHZgAALWBBDJXwAi+wVA5BQQ\n",
       "wRC1ezkDA+NXAfkDDOwfGZg3MLAFMPBPYGCZwNBfAFKeL8DAf4HRjoGB6wET0AjGlXkMDAAVqA7Q\n",
       "GyenWgAAAABJRU5ErkJggg==\n",
       "\" style=\"display:inline;vertical-align:middle;\" /></a>, <a class=\"ProveItLink\" href=\"../../../../../../__pv_it/common/ceef4280a2f1cc604b455b54e735507244cc62cd0/expr.ipynb\"><img src=\"data:image/png;base64,iVBORw0KGgoAAAANSUhEUgAAAAkAAAAJBAMAAAASvxsjAAAAKlBMVEX///8AAAAAAAAAAAAAAAAA\n",
       "AAAAAAAAAAAAAAAAAAAAAAAAAAAAAAAAAADmU0mKAAAADXRSTlMAiXZmMiLdVJm77xBEs3/oGgAA\n",
       "AAlwSFlzAAAOxAAADsQBlSsOGwAAADZJREFUCNdjYGAQUnZgYAgr4JjAwJDIwKXAwHGbAQi4JoDI\n",
       "vQogkteAgeEAA1ABI1CloLE2AwDCNQb+PNXqTgAAAABJRU5ErkJggg==\n",
       "\" style=\"display:inline;vertical-align:middle;\" /></a> : <a class=\"ProveItLink\" href=\"../../../../../../__pv_it/common/ceef4280a2f1cc604b455b54e735507244cc62cd0/expr.ipynb\"><img src=\"data:image/png;base64,iVBORw0KGgoAAAANSUhEUgAAAAkAAAAJBAMAAAASvxsjAAAAKlBMVEX///8AAAAAAAAAAAAAAAAA\n",
       "AAAAAAAAAAAAAAAAAAAAAAAAAAAAAAAAAADmU0mKAAAADXRSTlMAiXZmMiLdVJm77xBEs3/oGgAA\n",
       "AAlwSFlzAAAOxAAADsQBlSsOGwAAADZJREFUCNdjYGAQUnZgYAgr4JjAwJDIwKXAwHGbAQi4JoDI\n",
       "vQogkteAgeEAA1ABI1CloLE2AwDCNQb+PNXqTgAAAABJRU5ErkJggg==\n",
       "\" style=\"display:inline;vertical-align:middle;\" /></a>, <a class=\"ProveItLink\" href=\"../../../../../../__pv_it/common/4f5c524ffda87296de1c79b96880123fe2efedd50/expr.ipynb\"><img src=\"data:image/png;base64,iVBORw0KGgoAAAANSUhEUgAAAAsAAAAOBAMAAAALT/umAAAAMFBMVEX///8AAAAAAAAAAAAAAAAA\n",
       "AAAAAAAAAAAAAAAAAAAAAAAAAAAAAAAAAAAAAAAAAAAv3aB7AAAAD3RSTlMAMs3vmVREEIndIqt2\n",
       "u2aBbGR5AAAACXBIWXMAAA7EAAAOxAGVKw4bAAAAWklEQVQI12NgYGBgVHZgAAH+ADCVXwCmOsEk\n",
       "gwoQc+04+BVIJS/g/c7AwG7HwKLAwMDygYGzgYGB+QJDfQIDQ/0BhvdAFfUBDJtYFzDwHmCdwgJU\n",
       "uadx9UEGAKwhEtVeQlhQAAAAAElFTkSuQmCC\n",
       "\" style=\"display:inline;vertical-align:middle;\" /></a> : <a class=\"ProveItLink\" href=\"../../../../../../__pv_it/common/4f5c524ffda87296de1c79b96880123fe2efedd50/expr.ipynb\"><img src=\"data:image/png;base64,iVBORw0KGgoAAAANSUhEUgAAAAsAAAAOBAMAAAALT/umAAAAMFBMVEX///8AAAAAAAAAAAAAAAAA\n",
       "AAAAAAAAAAAAAAAAAAAAAAAAAAAAAAAAAAAAAAAAAAAv3aB7AAAAD3RSTlMAMs3vmVREEIndIqt2\n",
       "u2aBbGR5AAAACXBIWXMAAA7EAAAOxAGVKw4bAAAAWklEQVQI12NgYGBgVHZgAAH+ADCVXwCmOsEk\n",
       "gwoQc+04+BVIJS/g/c7AwG7HwKLAwMDygYGzgYGB+QJDfQIDQ/0BhvdAFfUBDJtYFzDwHmCdwgJU\n",
       "uadx9UEGAKwhEtVeQlhQAAAAAElFTkSuQmCC\n",
       "\" style=\"display:inline;vertical-align:middle;\" /></a></span></td></tr><tr><td><a name=\"0x40037e42b54e2ae7_step5\">5</a></td><td>conjecture</td><td></td><td><span style=\"font-size:20px;\"> <a class=\"ProveItLink\" href=\"../add_4_1/thm_proof.ipynb\" style=\"text-decoration: none\">&nbsp;&#x22A2;&nbsp;&nbsp;</a><a class=\"ProveItLink\" href=\"../../../__pv_it/theorems/b38ae7aa6f3dc7804565a90403b0552355c1167e0/expr.ipynb\"><img src=\"data:image/png;base64,iVBORw0KGgoAAAANSUhEUgAAAGEAAAAVBAMAAACkm51HAAAAMFBMVEX///8AAAAAAAAAAAAAAAAA\n",
       "AAAAAAAAAAAAAAAAAAAAAAAAAAAAAAAAAAAAAAAAAAAv3aB7AAAAD3RSTlMAInZUiRDNmWbv3US7\n",
       "qzJazP2FAAAACXBIWXMAAA7EAAAOxAGVKw4bAAABQElEQVQ4y2NgYBBgwA5wiTMwGeCQ2IQhwsfA\n",
       "EAikTEDs5+hyS4FGNaDr4PyWBRRnTQCx16JKxZZ9BZKp6Dq45i8JYGBgB5nEBNOxA+ZUkI52dB28\n",
       "EJtAxItcqJgRsg7OAKw6zECEA1YdbA1YdZSA5AWw6mC5gK6jyfcBA0MGkCXBgFUHBzhQ2FeBAUg3\n",
       "TwDjbwaGxSBHYdfBPAEzkk4xMMwGmiUA0VG1atXMVavWwnXwfcDUUS8A0iHEgN0ObnQ7jgF1PAC5\n",
       "au/duz+vYHPVAjR/zGJguM/AcAisYi5Wnx9As8OBgWEOA4MvmP0HTQfLR5DpDmg6xBmYpjIwvAIx\n",
       "a/5fQtHBe/PbDWAy2oCmg7H8OjAZcD1AFjNC5khhzwUcBci8HcicChwZ5yCurMZ4AIdEDC4dPLiy\n",
       "LaMCDglF7MIAqQ1T/azHHywAAAAASUVORK5CYII=\n",
       "\" style=\"display:inline;vertical-align:middle;\" /></a></span></td></tr>\n",
       "<tr><td>&nbsp;</td><td colspan=4 style-\"text-align:left\"><a class=\"ProveItLink\" href=\"../add_4_1/thm_proof.ipynb\">proveit.numbers.numerals.decimals.add_4_1</a></td></tr><tr><td><a name=\"0x40037e42b54e2ae7_step6\">6</a></td><td>conjecture</td><td></td><td><span style=\"font-size:20px;\"> <a class=\"ProveItLink\" href=\"../tuple_len_4_typical_eq/thm_proof.ipynb\" style=\"text-decoration: none\">&nbsp;&#x22A2;&nbsp;&nbsp;</a><a class=\"ProveItLink\" href=\"../../../__pv_it/theorems/1e5f5f56d23c5d2fa392d75922cfebe52e53ebbd0/expr.ipynb\"><img src=\"data:image/png;base64,iVBORw0KGgoAAAANSUhEUgAAAU8AAAAWBAMAAACyFQNKAAAAMFBMVEX///8AAAAAAAAAAAAAAAAA\n",
       "AAAAAAAAAAAAAAAAAAAAAAAAAAAAAAAAAAAAAAAAAAAv3aB7AAAAD3RSTlMAq1RmmUTNIjK7EInv\n",
       "3XZ/CtNrAAAACXBIWXMAAA7EAAAOxAGVKw4bAAAD6ElEQVRIx81XX4hMURj/9s7duXfu3js7S/Gw\n",
       "2CnlwZambMTDmtolEqa8ihElksajsoy8rsybkrhelLbMIFHCSkohEhFtLh52bdFSljxY33f+7Z17\n",
       "5+yMN9/W2V/f+c7v++053/nuWYCWrIQ/ArQQS2a16G6JqdTqinQWbkjQ1HaysaMQcXOCj/8iVDER\n",
       "yBBe2mRFr8zTG3I6557HI+2D+XROL9SoYchb4bEG95f1Oe08KCYC6wnvm1unUxR5CMxaMt8gtjML\n",
       "B/RCLwFc3PBbeI5Axw99Ug+3UDEhOEF/WmVuoWZO5DFzEU1x2+VDn17oAJWPFLoQ4Ik+6RcUqpgQ\n",
       "JH2ETSrPlXncqKa43cEoXyt0NCz0mQ892mtir8qEmBAkcJOSTUp0mcyzLKopbnuRLqcTahTDQhcD\n",
       "9GiLtCOZCTEReDo29riJ0M1SKAGrezzg7t1f54mAu594Qqt74jsyZ3RCzVpYKNp7bc5xEqqYCGwE\n",
       "ONtE6B4plMCOUopncqb9Kj+5oazJq5zPJYpSqDnGLCOFsh0KCbX/6FJaORKqmAgcBiujFu6vi74n\n",
       "DuaFFIrAeQAmb0vGb3D53r4TgOaQ0RjV7aiXrRfqZbQnDyRUMRFI+SHO7rro4+L3QykUgTkFXo33\n",
       "giJ0MmTKzGLOntIJdQv1QjdpD3E1E6qYCBhB6C49qov+3ECoW4Eq14CadrF24cruJubaR1sUmtBu\n",
       "qBUwoYqJgWI/DiP9N1nNfGAN4VPAXIcgfvTVANapNrqNNaiquFxyzniuq9HI0feCpWlP7V1dPfdr\n",
       "s0wMXMO277y2fxLH2zR9bV7Zo8z1Syw7L4UiqGZhgVFySGgZa5IBvCIFAnwOEhXdjqYCIdRhN6IG\n",
       "ad+Jq+Tt2aXLJJkYOIoeM0/aIJWj62VWnDJzTYmVV6XQq5TLeGlCFcPacqk8A3jlO8oE+BxvQg2F\n",
       "8naDW0LRMDQ4uIUjGpzpMMA/vxJiYqCtTMWTJg63bGZEJZFL1t4pKRSBs+TW4Qnw8GHhdOMHkQDc\n",
       "XjnJPWwOvIJOqI0n2LZoej5f9n5mZpojj87xpQRjtKXmhW/BLJMn2aql1Fqc7gQXq6izJFyT4hvp\n",
       "lYVQT31IlusBDOm/9W/i0ctjR2/4MaYh9TUvnd7uj4Dnr4ERSBagNkKuk2JFIi/yJNR7qaYH7OWh\n",
       "EdoXj6416KExpgF1ywZWXIfhrL01wNEa6PeHs8wl7Ix8j56RD79AC8RbrLHQVCkaPYuUXYkxRZ93\n",
       "2dgo7LIUelk++UELhJjGQp1KNDodv/VBjClV38Xa/egY6r8TEjS1cS4g+i7iBMf+5V8RxTRe70/E\n",
       "xv/I/gJA/DPJmTyfawAAAABJRU5ErkJggg==\n",
       "\" style=\"display:inline;vertical-align:middle;\" /></a></span></td></tr>\n",
       "<tr><td>&nbsp;</td><td colspan=4 style-\"text-align:left\"><a class=\"ProveItLink\" href=\"../tuple_len_4_typical_eq/thm_proof.ipynb\">proveit.numbers.numerals.decimals.tuple_len_4_typical_eq</a></td></tr><tr><td colspan=4 style=\"text-align:left\"><sup>*</sup>equality replacement requirements</td></tr></table>"
      ],
      "text/plain": [
       "\tstep type\trequirements\tstatement\n",
       "0\tgeneralization\t1\t|- forall_{a, b, c, d, e} (|(a, b, c, d, e)| = 5)\n",
       "1\tinstantiation\t2, 3, 4, 5*\t|- |(a, b, c, d, e)| = 5\n",
       "\ti : 4, a : (a, b, c, d), b : e\n",
       "2\taxiom\t\t|- forall_{i in Natural} [forall_{a_{1}, a_{2}, ..., a_{i}, b} (|(a_{1}, a_{2}, ..., a_{i}, b)| = (i + 1))]\n",
       "\tproveit.core_expr_types.tuples.tuple_len_incr\n",
       "3\tconjecture\t\t|- 4 in Natural\n",
       "\tproveit.numbers.numerals.decimals.nat4\n",
       "4\tinstantiation\t6\t|- |(a, b, c, d)| = |(1, 2, ..., 4)|\n",
       "\ta : a, b : b, c : c, d : d\n",
       "5\tconjecture\t\t|- (4 + 1) = 5\n",
       "\tproveit.numbers.numerals.decimals.add_4_1\n",
       "6\tconjecture\t\t|- forall_{a, b, c, d} (|(a, b, c, d)| = |(1, 2, ..., 4)|)\n",
       "\tproveit.numbers.numerals.decimals.tuple_len_4_typical_eq"
      ]
     },
     "execution_count": 5,
     "metadata": {},
     "output_type": "execute_result"
    }
   ],
   "source": [
    "%qed"
   ]
  },
  {
   "cell_type": "code",
   "execution_count": null,
   "metadata": {},
   "outputs": [],
   "source": []
  }
 ],
 "metadata": {
  "kernelspec": {
   "display_name": "Python 3",
   "language": "python",
   "name": "python3"
  }
 },
 "nbformat": 4,
 "nbformat_minor": 0
}