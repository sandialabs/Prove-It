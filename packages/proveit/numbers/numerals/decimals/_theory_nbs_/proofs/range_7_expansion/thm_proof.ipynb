{
 "cells": [
  {
   "cell_type": "markdown",
   "metadata": {},
   "source": [
    "Proof of <a class=\"ProveItLink\" href=\"../../../../../../_theory_nbs_/theory.ipynb\">proveit</a>.<a class=\"ProveItLink\" href=\"../../../../../_theory_nbs_/theory.ipynb\">numbers</a>.<a class=\"ProveItLink\" href=\"../../../../_theory_nbs_/theory.ipynb\">numerals</a>.<a class=\"ProveItLink\" href=\"../../theory.ipynb\">decimals</a>.<a class=\"ProveItLink\" href=\"../../theorems.ipynb#range_7_expansion\">range_7_expansion</a> theorem\n",
    "========"
   ]
  },
  {
   "cell_type": "code",
   "execution_count": 1,
   "metadata": {},
   "outputs": [],
   "source": [
    "import proveit\n",
    "theory = proveit.Theory() # the theorem's theory"
   ]
  },
  {
   "cell_type": "code",
   "execution_count": 2,
   "metadata": {},
   "outputs": [
    {
     "data": {
      "text/html": [
       "With these <a href=\"allowed_presumptions.txt\">allowed</a>/<a href=\"disallowed_presumptions.txt\">disallowed</a> theorem/theory presumptions (e.g., to avoid circular dependencies), we begin our proof of<br><strong id=\"range_7_expansion\">range_7_expansion:</strong> <a class=\"ProveItLink\" href=\"../../../__pv_it/theorems/7c1fca9b2974e25af8194bcdcdf60303e3c1da8e0/expr.ipynb\"><img src=\"data:image/png;base64,iVBORw0KGgoAAAANSUhEUgAAA9wAAAAYBAMAAAD67+gRAAAAMFBMVEX///8AAAAAAAAAAAAAAAAA\n",
       "AAAAAAAAAAAAAAAAAAAAAAAAAAAAAAAAAAAAAAAAAAAv3aB7AAAAD3RSTlMAq1RmmUTNIjK7EInv\n",
       "3XZ/CtNrAAAACXBIWXMAAA7EAAAOxAGVKw4bAAAIMElEQVRo3u2aX2wURRzHf73b697/boUHTEg8\n",
       "YuwDChzhj+EFDykgEMklPhi04iFRiQ96RoIhUVt9kgi2hgdsNbIaghINPYgPhgYoGBJTpRwGEv9w\n",
       "yUUam4hChZSSJlJnZmd2ZnfnZve4+oBhkik79/vOzGd/v9nZmVkApiMVaRbLjh9Y0uX19Tr6sdR6\n",
       "bfM0ItSjLaqQp11bL65eh5f9UjpjZbEMsEmi/E3eQKQauB+qltWYfoQ6tGLnYtoE067tgnixXlyW\n",
       "DfzD/Y2F+0GaAdYfZeURSGdFDbGESsTiTLtNgEs+PfB2YadJ1JfkGAoEbcCkCOmcH0Jt7bbVH0q1\n",
       "uEOXVh9Ym5d5gcK5UjQXVHv2hYoZFBcGBrpsf6G8Cv/2YkPRjhesDJCYdYqW4VeAlwSNZTkAlkWs\n",
       "PPMVhNpsKnsQ2oXfLbW3hh/C4V0ZipAq+SHU1Oo9cCIv0ZIOXdr9ELom8wKDc6aUEVR78Z+jQXFh\n",
       "e76pbPsL5bete2gkaVkrAyQf6AN2DbBY0FiWlcIvT7CLqwgknFP24GyXqL01/BBObTQDI9TUNhUh\n",
       "OSjRasKDGaHXVzPxGzIvyLQAfxl+WoZrMB8EuLWXIdZj+wtlHPVEpqFwJ2kGeNYE+xr9KwxAyzIo\n",
       "1Jov+hqGlD0427XUQzIMBUJkEgIj1NYmJ6FpQqJNCtIQfa925OGGzAsyLUSXGn7a+WK4g+GGJh3+\n",
       "GoIwGj7Njb2622gGOGaXcWoWRiaxhAo1fb1F2YOzXUu9RYahQEiUgyPU1qKpsemmRNsmCyGErku8\n",
       "INcmmg0/rTPcgXBjgw5/oXymUvm+sXCvpxkWnplJy/ERBJ4wbIll0UrU4vX1YVUHvF2IXzGo+rAM\n",
       "ozZCePa5HEU4tBLUCEotpMYkWtw50/JwPyPzgg3n0I7icKu1DGHG5VlBcZNbj68S/IXyYwB9jYWb\n",
       "P2u3WDkRQcMqLAy3W+xZIxavr5cqe7DbBQ2+pWpSQ6uQZIA/QkuVIZQ6wAdBpYXuqkSLO2daO4Tv\n",
       "t3ZJvGDDiVo9i8Ot1jKEPujMB8Rt2QLJDPcXyq+CzsfU59Z7hPyla4Eon3iK1E53hOziR5pBv8nK\n",
       "72gIPMRfJpYllaEWr68fUkWbtwujcI2qPTV8EDq7KEI0sxp8EFRaOCfTog5trTCZX5N4wYYTtQnA\n",
       "4VZrOUKsHBC3fwy0Ie4vlGNmIo9nyXY8ZRy3pitSnS7XrQJOS5gd413JsvEAp2mG0Bgrm0l0G9Ex\n",
       "PlLIZTJPLfB4pfJDpXKO+7pbFW7eLphk8dEtq+GDsAAoQhyGwQdBpdV6ZFrUoaVF883FM3S+QVtk\n",
       "0+sFG07UPkzCrdCKCKBNBMTtL0N4nPurG48vslKLLelyuc+9O4vTW9Dwn62I7Gl3uK0lA7legBwY\n",
       "GXQtJnC4icX7aHUot928XdDKVN0hDXdthGPMJ2y5qkBQaReCTHuaL4PtJ/ZdgH0ZrxdsOEGrV0m4\n",
       "1Vq2/CqAdjMgbksBwte5v3AuLCcGz7GFO9xannaHYXLADxvsyTxm2OXNcdR3mc8+BpvMicXr63mq\n",
       "cAvtWucI81gN8d3tg/ABMIRmw/RBUGhDJXhdosUdMi0L95SJw+3xgg0naCOtrfedLPlo2fILbQ7G\n",
       "AuLGrKd7nuCzI/gsJzT7CD60JX0celQINy3g5qgdhzv55Fy+Xf+EZkhWWTk+nkALD9yC1b1liVWp\n",
       "xevrZWBrHTMKONsFskoh6mVurQ/CMDCE/nzJB0GhfQ/gD0tLgzBsd860LNwnyWROENz3YXuBv+eT\n",
       "Bvho57PXPCR7AuKiV4I2yP2F8xskxuQGqmQuyLUJ4UYFrRelPbCd2nG4+7/Zn4UQfXnb26LOPCtH\n",
       "x16j+64bwC0Jg1ocvj5RZJssrO0v0Au7JLYL8Ihj6ycmNYI+DgyhW88qEVRa/Xx7e9nSWmxUiztn\n",
       "WhbCRWTfjRE892F7gYe7pcdPyxBy8KcZEBc+gq8y3F84N5GXdjuu9xmeTOLm1zzcrIDSRmrH4e7M\n",
       "xicgQqf73TTTJQO5noG6TWHiiskt0TK1iECtZzejXy4A1abwGDoP9E/qF1e7cC/+c4Fm53cOJQJd\n",
       "+mCEpkWgRFBpU1NTUwVLa7FRLe6QaVkII+1r8xTBcx8z3Ptubd/fVR8tw922Yh0ExIVE+yzBX9xn\n",
       "e9h8YO9ge8B5ejOH2Nf2ftzbm23pgusQFdbuZP2+wrmWf5PcDwk3tfwkO9IiA7TMtY40F1ztDlO1\n",
       "XvZ8Y1AiaEZwhIBawka1qS7ZqZqN4L2P29A2hOvy2Xdkm/YFuZ4Qwz3BJvOd1I6fbjQMx+3JnJ6+\n",
       "h4zneBnYkT1+79iWxbLvE/zzRsK7SiuBo917wpOObzJiUiLMac4ERgiqLQla8YtFxIG2UnYft6Vt\n",
       "CNfps/gkxEvQpsGXaFYYFMIdHRSWam0aDXc4h6aONBuZe0lO9RWEMvvOdgjXZJZYjf/GATuAaV1L\n",
       "tSqI7UavkcX9DruGI6kQfj4AgRECajEb1+6tdUTUI7mPadDWi+v0GYpq9BR8Ogq7MpA2hHCn7SM3\n",
       "1BqyW+GGyyMmb/4gyeERscx6xz6xLfFaX1qtm6p6fk+LtVG7G1bx4eVJKoTlayAwQkAtOVW0tQdr\n",
       "bSKLsvtoXFsvrtNneNIIkasM+y7T4/qmFCnxfbeTRK9aWSzj805vekvOky4GOpynfWC1rMb0I9Sh\n",
       "1aty7Sj8J9p6cZ0+i81BS4KnSFDN53cJxyysgNMa4VRNKN9Nd1xKXEF/yHMchg3rhHCzAhE5F87h\n",
       "/F2//Y+Sd7owJSded9OdlP4FSkNnGtrHlzoAAAAASUVORK5CYII=\n",
       "\" style=\"display:inline;vertical-align:middle;\" /></a><br>(see <a class=\"ProveItLink\" href=\"../../../__pv_it/theorems/428fafba596911d3daf3ab94bda93103ef2970000/dependencies.ipynb\">dependencies</a>)<br>"
      ],
      "text/plain": [
       "<IPython.core.display.HTML object>"
      ]
     },
     "metadata": {},
     "output_type": "display_data"
    }
   ],
   "source": [
    "%proving range_7_expansion"
   ]
  },
  {
   "cell_type": "code",
   "execution_count": null,
   "metadata": {},
   "outputs": [],
   "source": []
  }
 ],
 "metadata": {
  "kernelspec": {
   "display_name": "Python 3",
   "language": "python",
   "name": "python3"
  }
 },
 "nbformat": 4,
 "nbformat_minor": 0
}