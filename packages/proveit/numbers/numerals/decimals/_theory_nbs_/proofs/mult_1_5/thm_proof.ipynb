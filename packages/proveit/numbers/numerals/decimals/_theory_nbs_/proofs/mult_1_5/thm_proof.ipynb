{
 "cells": [
  {
   "cell_type": "markdown",
   "metadata": {},
   "source": [
    "Proof of <a class=\"ProveItLink\" href=\"../../../../../../_theory_nbs_/theory.ipynb\">proveit</a>.<a class=\"ProveItLink\" href=\"../../../../../_theory_nbs_/theory.ipynb\">numbers</a>.<a class=\"ProveItLink\" href=\"../../../../_theory_nbs_/theory.ipynb\">numerals</a>.<a class=\"ProveItLink\" href=\"../../theory.ipynb\">decimals</a>.<a class=\"ProveItLink\" href=\"../../theorems.ipynb#mult_1_5\">mult_1_5</a> theorem\n",
    "========"
   ]
  },
  {
   "cell_type": "code",
   "execution_count": 1,
   "metadata": {},
   "outputs": [],
   "source": [
    "import proveit\n",
    "theory = proveit.Theory() # the theorem's theory"
   ]
  },
  {
   "cell_type": "code",
   "execution_count": 2,
   "metadata": {},
   "outputs": [
    {
     "data": {
      "text/html": [
       "With these <a href=\"allowed_presumptions.txt\">allowed</a>/<a href=\"disallowed_presumptions.txt\">disallowed</a> theorem/theory presumptions (e.g., to avoid circular dependencies), we begin our proof of<br><strong id=\"mult_1_5\">mult_1_5:</strong> <a class=\"ProveItLink\" href=\"../../../__pv_it/theorems/880de7c1b44267bfa09ab4cfff4b5f34e32c21bf0/expr.ipynb\"><img src=\"data:image/png;base64,iVBORw0KGgoAAAANSUhEUgAAAFcAAAAVBAMAAADBdm84AAAAMFBMVEX///8AAAAAAAAAAAAAAAAA\n",
       "AAAAAAAAAAAAAAAAAAAAAAAAAAAAAAAAAAAAAAAAAAAv3aB7AAAAD3RSTlMAInZUiRDNmWbv3US7\n",
       "qzJazP2FAAAACXBIWXMAAA7EAAAOxAGVKw4bAAABHUlEQVQoz2NgYBBgwABYhCCAyQCFy8fAEMiw\n",
       "CUMVWJiBwQSIXwXARTm/ZS1lYGpAVwwWZmBNYGC9no9QzDV/CZCTiq4YIswOMkQfoZgXTLajK4YI\n",
       "czJgU8wZgFWxGVbFbA1YFZegK27yfcDAwHIBXTFYOANNMU8A428GBo4EELtqFQisRQgvRlMMBKcY\n",
       "GJgnYEYIUHg2QnF8AkS0XoCB7wOmYqAwkmKuAiBxDCj6gIEb3WSIMLozZjEw3Ac6YwGamyHCh9AU\n",
       "OzAwzAF68ACayRBhXxDTH5HMxBmYpgLj1QFNMUT4FZB1d34uPBIYy68DreHagKYYKvwAW7qVwp6c\n",
       "OQqwiVbgSPwHsYgxHsChOAaLGA+ufMWogCmmiF0pAGsER44NV+YXAAAAAElFTkSuQmCC\n",
       "\" style=\"display:inline;vertical-align:middle;\" /></a><br>(see <a class=\"ProveItLink\" href=\"../../../__pv_it/theorems/16daae46b30cd103220dacfa1848c5bd49cb95780/dependencies.ipynb\">dependencies</a>)<br>"
      ],
      "text/plain": [
       "<IPython.core.display.HTML object>"
      ]
     },
     "metadata": {},
     "output_type": "display_data"
    },
    {
     "name": "stdout",
     "output_type": "stream",
     "text": [
      "mult_1_5 may now be readily provable (assuming required theorems are usable).  Simply execute \"%qed\".\n"
     ]
    }
   ],
   "source": [
    "%proving mult_1_5"
   ]
  },
  {
   "cell_type": "code",
   "execution_count": null,
   "metadata": {},
   "outputs": [],
   "source": []
  }
 ],
 "metadata": {
  "kernelspec": {
   "display_name": "Python 3",
   "language": "python",
   "name": "python3"
  }
 },
 "nbformat": 4,
 "nbformat_minor": 0
}