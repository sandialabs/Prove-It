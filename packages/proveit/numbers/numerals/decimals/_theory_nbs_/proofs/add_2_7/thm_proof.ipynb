{
 "cells": [
  {
   "cell_type": "markdown",
   "metadata": {},
   "source": [
    "Proof of <a class=\"ProveItLink\" href=\"../../../../../../_theory_nbs_/theory.ipynb\">proveit</a>.<a class=\"ProveItLink\" href=\"../../../../../_theory_nbs_/theory.ipynb\">numbers</a>.<a class=\"ProveItLink\" href=\"../../../../_theory_nbs_/theory.ipynb\">numerals</a>.<a class=\"ProveItLink\" href=\"../../theory.ipynb\">decimals</a>.<a class=\"ProveItLink\" href=\"../../theorems.ipynb#add_2_7\">add_2_7</a> theorem\n",
    "========"
   ]
  },
  {
   "cell_type": "code",
   "execution_count": 1,
   "metadata": {},
   "outputs": [],
   "source": [
    "import proveit\n",
    "theory = proveit.Theory() # the theorem's theory"
   ]
  },
  {
   "cell_type": "code",
   "execution_count": 2,
   "metadata": {},
   "outputs": [
    {
     "data": {
      "text/html": [
       "With these <a href=\"allowed_presumptions.txt\">allowed</a>/<a href=\"disallowed_presumptions.txt\">disallowed</a> theorem/theory presumptions (e.g., to avoid circular dependencies), we begin our proof of<br><strong id=\"add_2_7\">add_2_7:</strong> <a class=\"ProveItLink\" href=\"../../../__pv_it/theorems/969b0debeaf70890a4208e1e8be664fee6b6cf000/expr.ipynb\"><img src=\"data:image/png;base64,iVBORw0KGgoAAAANSUhEUgAAAGEAAAAVBAMAAACkm51HAAAAMFBMVEX///8AAAAAAAAAAAAAAAAA\n",
       "AAAAAAAAAAAAAAAAAAAAAAAAAAAAAAAAAAAAAAAAAAAv3aB7AAAAD3RSTlMAInZUiRDNmWbv3US7\n",
       "qzJazP2FAAAACXBIWXMAAA7EAAAOxAGVKw4bAAABgUlEQVQ4y3WTPUjDQBTH/2kb+2FT6uQHDnFw\n",
       "cWkpIjg14OCiNKsi2EVwLCJGKkI3JyGO4lLoIASE4NTN6CyaVRzs4ORiHXQS67vLkrvmjuQ+/ne/\n",
       "9+7duwNQRnJR6UhVx7UZm6pbFbEMTB89iVp9NBq5qc7YWueUTOlNaAEavjCz4TjtKvZkYNssXQDZ\n",
       "Dowy8m6k9aPGIr/AmUy8AI9Anr5vGF+RVosaCi0k3ZaIH6BhYwUwujD+BALIDIAJKRD9F6j4OOSD\n",
       "wlAi5hkVJvjoYJ/3P02JeKU/12S9rMdLGMXxbKLHF9xAJDR2EmlX8rHll96quOJ2Ala3Pe/S8zic\n",
       "YeZLQ4nQD9Yqg4g4h+SjwExMuuP5prNiu0pbmBKJXbbtdFeKAzwfD9S8A4sicddikQeSg1Vbpyxs\n",
       "UpjXjtMVibrFrFsSsWQXKUUftGm6d02RmGUXuuBLRGb9hMmDuFaLD+aSL3uuFR/144Njxfu4Vz0c\n",
       "LVBM7KiIourZaqZiYiFZ/ge0u1oYWFaMcwAAAABJRU5ErkJggg==\n",
       "\" style=\"display:inline;vertical-align:middle;\" /></a><br>(see <a class=\"ProveItLink\" href=\"../../../__pv_it/theorems/b691d9594e377584fa42c345a79d8d440d3445920/dependencies.ipynb\">dependencies</a>)<br>"
      ],
      "text/plain": [
       "<IPython.core.display.HTML object>"
      ]
     },
     "metadata": {},
     "output_type": "display_data"
    },
    {
     "name": "stdout",
     "output_type": "stream",
     "text": [
      "add_2_7 may now be readily provable (assuming required theorems are usable).  Simply execute \"%qed\".\n"
     ]
    }
   ],
   "source": [
    "%proving add_2_7"
   ]
  },
  {
   "cell_type": "code",
   "execution_count": null,
   "metadata": {},
   "outputs": [],
   "source": []
  }
 ],
 "metadata": {
  "kernelspec": {
   "display_name": "Python 3",
   "language": "python",
   "name": "python3"
  }
 },
 "nbformat": 4,
 "nbformat_minor": 0
}