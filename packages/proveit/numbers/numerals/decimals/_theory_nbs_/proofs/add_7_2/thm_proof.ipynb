{
 "cells": [
  {
   "cell_type": "markdown",
   "metadata": {},
   "source": [
    "Proof of <a class=\"ProveItLink\" href=\"../../../../../../_theory_nbs_/theory.ipynb\">proveit</a>.<a class=\"ProveItLink\" href=\"../../../../../_theory_nbs_/theory.ipynb\">numbers</a>.<a class=\"ProveItLink\" href=\"../../../../_theory_nbs_/theory.ipynb\">numerals</a>.<a class=\"ProveItLink\" href=\"../../theory.ipynb\">decimals</a>.<a class=\"ProveItLink\" href=\"../../theorems.ipynb#add_7_2\">add_7_2</a> theorem\n",
    "========"
   ]
  },
  {
   "cell_type": "code",
   "execution_count": 1,
   "metadata": {},
   "outputs": [],
   "source": [
    "import proveit\n",
    "theory = proveit.Theory() # the theorem's theory"
   ]
  },
  {
   "cell_type": "code",
   "execution_count": 2,
   "metadata": {},
   "outputs": [
    {
     "data": {
      "text/html": [
       "With these <a href=\"allowed_presumptions.txt\">allowed</a>/<a href=\"disallowed_presumptions.txt\">disallowed</a> theorem/theory presumptions (e.g., to avoid circular dependencies), we begin our proof of<br><strong id=\"add_7_2\">add_7_2:</strong> <a class=\"ProveItLink\" href=\"../../../__pv_it/theorems/736232ea4352a5f704dbb02461b380fefb2a7fb70/expr.ipynb\"><img src=\"data:image/png;base64,iVBORw0KGgoAAAANSUhEUgAAAGEAAAAVBAMAAACkm51HAAAAMFBMVEX///8AAAAAAAAAAAAAAAAA\n",
       "AAAAAAAAAAAAAAAAAAAAAAAAAAAAAAAAAAAAAAAAAAAv3aB7AAAAD3RSTlMAInZUiRDNmWbv3US7\n",
       "qzJazP2FAAAACXBIWXMAAA7EAAAOxAGVKw4bAAABeUlEQVQ4y3WTP0jDQBTGvzSJTWsbuloc6urS\n",
       "UorgVhB0Um9VHLoIDg5FhEhV6CKuFafioOAWlAanjtXFRbCOuiSzk4go4p94lzgkr7lb7t337nfv\n",
       "3nt3AApIHjIdqYpykOi4khE1qL7vf8Y0xdr0kGqP7LX2GaA3oN1a1nnMMwntC1inwGrJPALSbWj8\n",
       "0Gao9cPpAegCh5R4BO6ADKAC+X+tGk6nDG4BGUaId2CZYSawl+LEE+B6GCOJ6N9A2cF2kOkgTvDR\n",
       "A7RhQow2NoSZdyhhvgJGQ1hpOxjDMI/7EoIiTYASWb5D7ZAYK47pVnAizPlAaNl217YvA3tPxHkh\n",
       "hL41V/ZC4oLGMMQlxjuj/ea1ErfSfyhRg1KAekbyQNCPG3HYByHMOlIMxoAEmGX6L7DILfWNEEXL\n",
       "avHT64SYZjneomfRjmNC9Hyf1z7rEEJb2BVl9KJaNbooJj92oxld9aOLHcn/uJZ9HGUgcazJiJzs\n",
       "2yoliWMqWf4D+StZzfgkr8IAAAAASUVORK5CYII=\n",
       "\" style=\"display:inline;vertical-align:middle;\" /></a><br>(see <a class=\"ProveItLink\" href=\"../../../__pv_it/theorems/acbaee45d875e1b9faa977dc7fc784a145c3250f0/dependencies.ipynb\">dependencies</a>)<br>"
      ],
      "text/plain": [
       "<IPython.core.display.HTML object>"
      ]
     },
     "metadata": {},
     "output_type": "display_data"
    },
    {
     "name": "stdout",
     "output_type": "stream",
     "text": [
      "add_7_2 may now be readily provable (assuming required theorems are usable).  Simply execute \"%qed\".\n"
     ]
    }
   ],
   "source": [
    "%proving add_7_2"
   ]
  },
  {
   "cell_type": "code",
   "execution_count": null,
   "metadata": {},
   "outputs": [],
   "source": []
  }
 ],
 "metadata": {
  "kernelspec": {
   "display_name": "Python 3",
   "language": "python",
   "name": "python3"
  }
 },
 "nbformat": 4,
 "nbformat_minor": 0
}