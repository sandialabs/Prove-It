{
 "cells": [
  {
   "cell_type": "markdown",
   "metadata": {},
   "source": [
    "Proof of <a class=\"ProveItLink\" href=\"../../../../../../_theory_nbs_/theory.ipynb\">proveit</a>.<a class=\"ProveItLink\" href=\"../../../../../_theory_nbs_/theory.ipynb\">numbers</a>.<a class=\"ProveItLink\" href=\"../../../../_theory_nbs_/theory.ipynb\">numerals</a>.<a class=\"ProveItLink\" href=\"../../theory.ipynb\">decimals</a>.<a class=\"ProveItLink\" href=\"../../theorems.ipynb#mult_3_7\">mult_3_7</a> theorem\n",
    "========"
   ]
  },
  {
   "cell_type": "code",
   "execution_count": 1,
   "metadata": {},
   "outputs": [],
   "source": [
    "import proveit\n",
    "theory = proveit.Theory() # the theorem's theory"
   ]
  },
  {
   "cell_type": "code",
   "execution_count": 2,
   "metadata": {},
   "outputs": [
    {
     "data": {
      "text/html": [
       "With these <a href=\"allowed_presumptions.txt\">allowed</a>/<a href=\"disallowed_presumptions.txt\">disallowed</a> theorem/theory presumptions (e.g., to avoid circular dependencies), we begin our proof of<br><strong id=\"mult_3_7\">mult_3_7:</strong> <a class=\"ProveItLink\" href=\"../../../__pv_it/theorems/f954627af7d1d73889bf414d963293775d23369a0/expr.ipynb\"><img src=\"data:image/png;base64,iVBORw0KGgoAAAANSUhEUgAAAGAAAAAVBAMAAABLWfZ5AAAAMFBMVEX///8AAAAAAAAAAAAAAAAA\n",
       "AAAAAAAAAAAAAAAAAAAAAAAAAAAAAAAAAAAAAAAAAAAv3aB7AAAAD3RSTlMAInZUiRDNmWbv3US7\n",
       "qzJazP2FAAAACXBIWXMAAA7EAAAOxAGVKw4bAAABgElEQVQ4y32Tv0vDQBTHv0lbm/4w7SCoxUH/\n",
       "AKFDcW03F4X8AUq7CA4OGcRIccjmmlU6KIgggigujkZXl7j5A2xmJ7W0i0N8l9MkvaR5kOPeu/vc\n",
       "+767FwBVxCwhFJpcH3PnNBpu0oAGMLP6GLhNz/Ms2RR3ScaOC6hnQK6DnI5mkGbNMLp1bInAArI/\n",
       "2NwbAnkT8gDtzv9KC5gFDkXgCTgi+QQUgFIPlQCgVA5FNQE41tCv+sAKVx4RnSWxU2IRr0Df9YFd\n",
       "5pbOx+QS5MRv54pL2qapuvweWXijT/Eldi+YXfKw+s2BUy4pfAzJoiFjxRIUHQ70fK9As7+ryrJR\n",
       "/YwBBwgA1UV5wM7Q/ZNsVlQsg+IgkFQZcoBbm61kTsQaGpD4tT6QHodL4nbH8ii2kEBtQdZ8YJ1W\n",
       "zeg7NOmtkW8JQI06hur7Aj7IuzXC5sM8u7DitfgInjfC9MvoGUU3qYVrk7tb0ZOi+yn/w31CTLJT\n",
       "gI2EWDntH5UW47Glydt/AZ/8YKMNhBSIAAAAAElFTkSuQmCC\n",
       "\" style=\"display:inline;vertical-align:middle;\" /></a><br>(see <a class=\"ProveItLink\" href=\"../../../__pv_it/theorems/34c095138a44dec4ddb37de634c308540207867a0/dependencies.ipynb\">dependencies</a>)<br>"
      ],
      "text/plain": [
       "<IPython.core.display.HTML object>"
      ]
     },
     "metadata": {},
     "output_type": "display_data"
    },
    {
     "name": "stdout",
     "output_type": "stream",
     "text": [
      "mult_3_7 may now be readily provable (assuming required theorems are usable).  Simply execute \"%qed\".\n"
     ]
    }
   ],
   "source": [
    "%proving mult_3_7"
   ]
  },
  {
   "cell_type": "code",
   "execution_count": null,
   "metadata": {},
   "outputs": [],
   "source": []
  }
 ],
 "metadata": {
  "kernelspec": {
   "display_name": "Python 3",
   "language": "python",
   "name": "python3"
  }
 },
 "nbformat": 4,
 "nbformat_minor": 0
}