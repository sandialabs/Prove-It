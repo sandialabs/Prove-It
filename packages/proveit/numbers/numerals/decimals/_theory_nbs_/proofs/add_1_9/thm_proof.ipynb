{
 "cells": [
  {
   "cell_type": "markdown",
   "metadata": {},
   "source": [
    "Proof of <a class=\"ProveItLink\" href=\"../../../../../../_theory_nbs_/theory.ipynb\">proveit</a>.<a class=\"ProveItLink\" href=\"../../../../../_theory_nbs_/theory.ipynb\">numbers</a>.<a class=\"ProveItLink\" href=\"../../../../_theory_nbs_/theory.ipynb\">numerals</a>.<a class=\"ProveItLink\" href=\"../../theory.ipynb\">decimals</a>.<a class=\"ProveItLink\" href=\"../../theorems.ipynb#add_1_9\">add_1_9</a> theorem\n",
    "========"
   ]
  },
  {
   "cell_type": "code",
   "execution_count": 1,
   "metadata": {},
   "outputs": [],
   "source": [
    "import proveit\n",
    "theory = proveit.Theory() # the theorem's theory"
   ]
  },
  {
   "cell_type": "code",
   "execution_count": 2,
   "metadata": {},
   "outputs": [
    {
     "data": {
      "text/html": [
       "With these <a href=\"allowed_presumptions.txt\">allowed</a>/<a href=\"disallowed_presumptions.txt\">disallowed</a> theorem/theory presumptions (e.g., to avoid circular dependencies), we begin our proof of<br><strong id=\"add_1_9\">add_1_9:</strong> <a class=\"ProveItLink\" href=\"../../../__pv_it/theorems/a4e16b3a5e39fa52b1ad90a1c29a245ada1d79140/expr.ipynb\"><img src=\"data:image/png;base64,iVBORw0KGgoAAAANSUhEUgAAAGwAAAAVBAMAAABRZRb3AAAAMFBMVEX///8AAAAAAAAAAAAAAAAA\n",
       "AAAAAAAAAAAAAAAAAAAAAAAAAAAAAAAAAAAAAAAAAAAv3aB7AAAAD3RSTlMAInZUiRDNmWbv3US7\n",
       "qzJazP2FAAAACXBIWXMAAA7EAAAOxAGVKw4bAAABa0lEQVQ4y52TsUsCURzHP51eWpreHxDU0NBW\n",
       "SAQ1ibRGbVIECi0tkYEgNDk1Nbg4hEOStFwEjbZZU6NLNBWuCRFoghBE73mI3vneDf3g7t177/t5\n",
       "v9/7/e4HWKhtCj8zVjUbkUU/bE087V3PYqjwAsuTYikMpk7BzGK+nngw85oPi2nvYY7wkH2LUFHM\n",
       "V4aCujPMlYg2COcmvAlhuEqwwQzjWMIZ4lmCPSirsGiTQI91FZZpYPzAkQqL54h1yeu89WFbhWUE\n",
       "1ndO9GLybh04HyTVHlhziC0kiXWoqTCzwmcXNlTeJPZNZYSd2falbd/Jz/RS4he+lEEmiXTGsZE3\n",
       "YTKTD5qUBLrqIIWJurGpupssaI8nFRYok2nBhbLcJUJZJ8k7lhszbngWQ34Ck8Iaey3aYvJ2dVx0\n",
       "B7lVuBfvWy81EKZT7zDbGl9PuBququ8b9/9ad3VP0affHrU7835tevCPA+UNdL1vWHroD+3QYrhX\n",
       "mJjnAAAAAElFTkSuQmCC\n",
       "\" style=\"display:inline;vertical-align:middle;\" /></a><br>(see <a class=\"ProveItLink\" href=\"../../../__pv_it/theorems/bec1edccd83c0a9598a6b06c095872f1111808fb0/dependencies.ipynb\">dependencies</a>)<br>"
      ],
      "text/plain": [
       "<IPython.core.display.HTML object>"
      ]
     },
     "metadata": {},
     "output_type": "display_data"
    },
    {
     "name": "stdout",
     "output_type": "stream",
     "text": [
      "add_1_9 may now be readily provable (assuming required theorems are usable).  Simply execute \"%qed\".\n"
     ]
    }
   ],
   "source": [
    "%proving add_1_9"
   ]
  },
  {
   "cell_type": "code",
   "execution_count": null,
   "metadata": {},
   "outputs": [],
   "source": []
  }
 ],
 "metadata": {
  "kernelspec": {
   "display_name": "Python 3",
   "language": "python",
   "name": "python3"
  }
 },
 "nbformat": 4,
 "nbformat_minor": 0
}