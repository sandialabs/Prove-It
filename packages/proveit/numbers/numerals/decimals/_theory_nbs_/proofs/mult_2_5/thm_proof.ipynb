{
 "cells": [
  {
   "cell_type": "markdown",
   "metadata": {},
   "source": [
    "Proof of <a class=\"ProveItLink\" href=\"../../../../../../_theory_nbs_/theory.ipynb\">proveit</a>.<a class=\"ProveItLink\" href=\"../../../../../_theory_nbs_/theory.ipynb\">numbers</a>.<a class=\"ProveItLink\" href=\"../../../../_theory_nbs_/theory.ipynb\">numerals</a>.<a class=\"ProveItLink\" href=\"../../theory.ipynb\">decimals</a>.<a class=\"ProveItLink\" href=\"../../theorems.ipynb#mult_2_5\">mult_2_5</a> theorem\n",
    "========"
   ]
  },
  {
   "cell_type": "code",
   "execution_count": 1,
   "metadata": {},
   "outputs": [],
   "source": [
    "import proveit\n",
    "theory = proveit.Theory() # the theorem's theory"
   ]
  },
  {
   "cell_type": "code",
   "execution_count": 2,
   "metadata": {},
   "outputs": [
    {
     "data": {
      "text/html": [
       "With these <a href=\"allowed_presumptions.txt\">allowed</a>/<a href=\"disallowed_presumptions.txt\">disallowed</a> theorem/theory presumptions (e.g., to avoid circular dependencies), we begin our proof of<br><strong id=\"mult_2_5\">mult_2_5:</strong> <a class=\"ProveItLink\" href=\"../../../__pv_it/theorems/ed432a65d10478f3066bdf088f57aa66bd7f3e760/expr.ipynb\"><img src=\"data:image/png;base64,iVBORw0KGgoAAAANSUhEUgAAAGEAAAAVBAMAAACkm51HAAAAMFBMVEX///8AAAAAAAAAAAAAAAAA\n",
       "AAAAAAAAAAAAAAAAAAAAAAAAAAAAAAAAAAAAAAAAAAAv3aB7AAAAD3RSTlMAInZUiRDNmWbv3US7\n",
       "qzJazP2FAAAACXBIWXMAAA7EAAAOxAGVKw4bAAABiUlEQVQ4y32Tv0vDUBDHv69t+iM2pU4FpzqI\n",
       "k5BBXJvB0WLcFbMI4tShtOJicBEFsYuLila0CEKh+A8YHRxExU2d7ODk0gq2DoL1kvBK2zzzCMe7\n",
       "+94nd8d7D0ASniUI9ayA2ucmgDlc+hKTQKrw2HVj7ZUKAqYnLVEhMz1O1SUDzMJsjSvy8ZkOLA0C\n",
       "C4UWEFalEyBiQkkiVuKS4thNb/NEbAMz1AV9LSif/URMFxEPQEbHFCWVofz2E2FTRHwDDRV5t/tm\n",
       "l9jI1oHQk4CQbMLEsuM30lyJ6+wHiBr2fu3CXlVOsC8n8dTxq72/uwOCJUENh9BwYLsRy7aLhiuu\n",
       "J5Foiroi4irtEjvuMDkyt0TUMVT6Z/KM6nQV1DDMlX3gjSJlwRy4B3Z13JD3DoxxQgMOaXJLVGML\n",
       "KABZgJ0Xi2WupBDYo8G0QSJEZyyr0hHwQZtOp2NwhRWf6bzl2gCgvLZfIOUn6KzkuuhCj/hc9mhO\n",
       "FF31ex/Xghiz/Ih5QSzu+2xZ2hsb9cn/AxdGZGaikapEAAAAAElFTkSuQmCC\n",
       "\" style=\"display:inline;vertical-align:middle;\" /></a><br>(see <a class=\"ProveItLink\" href=\"../../../__pv_it/theorems/4fa72666e6825dda048e3b57d9129403125885a80/dependencies.ipynb\">dependencies</a>)<br>"
      ],
      "text/plain": [
       "<IPython.core.display.HTML object>"
      ]
     },
     "metadata": {},
     "output_type": "display_data"
    },
    {
     "name": "stdout",
     "output_type": "stream",
     "text": [
      "mult_2_5 may now be readily provable (assuming required theorems are usable).  Simply execute \"%qed\".\n"
     ]
    }
   ],
   "source": [
    "%proving mult_2_5"
   ]
  },
  {
   "cell_type": "code",
   "execution_count": null,
   "metadata": {},
   "outputs": [],
   "source": []
  }
 ],
 "metadata": {
  "kernelspec": {
   "display_name": "Python 3",
   "language": "python",
   "name": "python3"
  }
 },
 "nbformat": 4,
 "nbformat_minor": 0
}