{
 "cells": [
  {
   "cell_type": "markdown",
   "metadata": {},
   "source": [
    "Proof of <a class=\"ProveItLink\" href=\"../../../../../../_theory_nbs_/theory.ipynb\">proveit</a>.<a class=\"ProveItLink\" href=\"../../../../../_theory_nbs_/theory.ipynb\">numbers</a>.<a class=\"ProveItLink\" href=\"../../../../_theory_nbs_/theory.ipynb\">numerals</a>.<a class=\"ProveItLink\" href=\"../../theory.ipynb\">decimals</a>.<a class=\"ProveItLink\" href=\"../../theorems.ipynb#mult_8_2\">mult_8_2</a> theorem\n",
    "========"
   ]
  },
  {
   "cell_type": "code",
   "execution_count": 1,
   "metadata": {},
   "outputs": [],
   "source": [
    "import proveit\n",
    "theory = proveit.Theory() # the theorem's theory"
   ]
  },
  {
   "cell_type": "code",
   "execution_count": 2,
   "metadata": {},
   "outputs": [
    {
     "data": {
      "text/html": [
       "With these <a href=\"allowed_presumptions.txt\">allowed</a>/<a href=\"disallowed_presumptions.txt\">disallowed</a> theorem/theory presumptions (e.g., to avoid circular dependencies), we begin our proof of<br><strong id=\"mult_8_2\">mult_8_2:</strong> <a class=\"ProveItLink\" href=\"../../../__pv_it/theorems/ef56d598f3e79836e9305766ec76f0567c653e160/expr.ipynb\"><img src=\"data:image/png;base64,iVBORw0KGgoAAAANSUhEUgAAAGEAAAAVBAMAAACkm51HAAAAMFBMVEX///8AAAAAAAAAAAAAAAAA\n",
       "AAAAAAAAAAAAAAAAAAAAAAAAAAAAAAAAAAAAAAAAAAAv3aB7AAAAD3RSTlMAInZUiRDNmWbv3US7\n",
       "qzJazP2FAAAACXBIWXMAAA7EAAAOxAGVKw4bAAABh0lEQVQ4y31TMUvDUBD+0iZtWlvJXDrUydVB\n",
       "XJuh4KRkcFTqUhB0CChGq0I2RwVREAeV4iJIi7+gdVMcdFOXZnASBK2YQYV4L8UYmiMHCe999777\n",
       "7u7dA6AhYgwUssRYFLuMZYwDM5WNYCtZSw4SduTY8Bn95Mo0oMwDJvKBUBHyN1AbJMytflK0RTwB\n",
       "aRuq7fP6dg8cAtvR5ImRKuEWyJDWXYhxbKCrIWNwjLKPTgDJHyMdJE6yXQcpm2Nc+6sV+rq95bCz\n",
       "6csyjIPn0RawQLu0dxruSg9Q/Szr58IuAoZrYw9oiAYXvdClZCl+cpfRUDxg3cARBTRR3iew2i9/\n",
       "U+i8cYwvYKclGNQY6UMEN4VLFSUMcRpwiWGLrKoEPIRmQNKQPOHquPE1rkiDBq8T1K0jYUBts/dB\n",
       "dQBTlEINaunPU7CsOnVPH2TI70BOV6hXL7R7tf4nsel5lG62NUDIP7qU+OSWQz6HG+hCzLCrJoeu\n",
       "xb2PDoNJ7TjGLIPlYp+tVIpiIzHnfwEMJmbCrTISlAAAAABJRU5ErkJggg==\n",
       "\" style=\"display:inline;vertical-align:middle;\" /></a><br>(see <a class=\"ProveItLink\" href=\"../../../__pv_it/theorems/526789533fcec06d6f601527fa3d99522ae3c5360/dependencies.ipynb\">dependencies</a>)<br>"
      ],
      "text/plain": [
       "<IPython.core.display.HTML object>"
      ]
     },
     "metadata": {},
     "output_type": "display_data"
    },
    {
     "name": "stdout",
     "output_type": "stream",
     "text": [
      "mult_8_2 may now be readily provable (assuming required theorems are usable).  Simply execute \"%qed\".\n"
     ]
    }
   ],
   "source": [
    "%proving mult_8_2"
   ]
  },
  {
   "cell_type": "code",
   "execution_count": null,
   "metadata": {},
   "outputs": [],
   "source": []
  }
 ],
 "metadata": {
  "kernelspec": {
   "display_name": "Python 3",
   "language": "python",
   "name": "python3"
  }
 },
 "nbformat": 4,
 "nbformat_minor": 0
}