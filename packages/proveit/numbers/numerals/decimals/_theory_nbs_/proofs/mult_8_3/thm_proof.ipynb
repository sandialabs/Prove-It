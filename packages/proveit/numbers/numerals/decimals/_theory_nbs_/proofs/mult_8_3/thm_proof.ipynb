{
 "cells": [
  {
   "cell_type": "markdown",
   "metadata": {},
   "source": [
    "Proof of <a class=\"ProveItLink\" href=\"../../../../../../_theory_nbs_/theory.ipynb\">proveit</a>.<a class=\"ProveItLink\" href=\"../../../../../_theory_nbs_/theory.ipynb\">numbers</a>.<a class=\"ProveItLink\" href=\"../../../../_theory_nbs_/theory.ipynb\">numerals</a>.<a class=\"ProveItLink\" href=\"../../theory.ipynb\">decimals</a>.<a class=\"ProveItLink\" href=\"../../theorems.ipynb#mult_8_3\">mult_8_3</a> theorem\n",
    "========"
   ]
  },
  {
   "cell_type": "code",
   "execution_count": 1,
   "metadata": {},
   "outputs": [],
   "source": [
    "import proveit\n",
    "theory = proveit.Theory() # the theorem's theory"
   ]
  },
  {
   "cell_type": "code",
   "execution_count": 2,
   "metadata": {},
   "outputs": [
    {
     "data": {
      "text/html": [
       "With these <a href=\"allowed_presumptions.txt\">allowed</a>/<a href=\"disallowed_presumptions.txt\">disallowed</a> theorem/theory presumptions (e.g., to avoid circular dependencies), we begin our proof of<br><strong id=\"mult_8_3\">mult_8_3:</strong> <a class=\"ProveItLink\" href=\"../../../__pv_it/theorems/5a5467f55106f68532db97f2de53ba48d745eea70/expr.ipynb\"><img src=\"data:image/png;base64,iVBORw0KGgoAAAANSUhEUgAAAGEAAAAVBAMAAACkm51HAAAAMFBMVEX///8AAAAAAAAAAAAAAAAA\n",
       "AAAAAAAAAAAAAAAAAAAAAAAAAAAAAAAAAAAAAAAAAAAv3aB7AAAAD3RSTlMAInZUiRDNmWbv3US7\n",
       "qzJazP2FAAAACXBIWXMAAA7EAAAOxAGVKw4bAAABmUlEQVQ4y32TsUvDUBDGv9ekTdpq7Fw7pKuL\n",
       "HYqrHboKGQQXoV0KDg4BhUjtEBd1dHEQKSpugljcdGr9B1o3EUqKo6BICyKoxEtq2vAScsvlfS+/\n",
       "d/fu7gHIIGAhks9ihaB2G0kUgdXy7mTJyo0WYib/FzM2B+QUHYhXAR2zk0BrEEZAjSdyEL/JpXqA\n",
       "ZEI2XW5si4X4J3DAE4/ACbkFIpKA2PMRdy0QkdQ44kyDlYGyT8QSIPxoki9x4QtI8Bd5BqwBxAQR\n",
       "27S0hlu+zXvTDRuwGyDvEBv0LdkX042XPhVFdrOsXzl2PdaVIZjpEJdOgXO2rylOrYSjQAgqkwiH\n",
       "OKUDdSwfk1apTm6pfASIBrDnEVQYNnJOofbgHegWkA7EkHtgKv6zqpDw5O3YmkMI5/w9imDz/b7V\n",
       "LOGBYtDgdTyi6WYlt7kQSgkx6lGSYqwA6Rpk1ds6dPshlTgiaxh1cnN00iv5N2M6iWmDJhGpFt8M\n",
       "26ZRkLq/KlKDsIHORgy7rIepO1HvoxOisXYUsR6izUQ+W6YGtXzE/3+CvmppAm8c8AAAAABJRU5E\n",
       "rkJggg==\n",
       "\" style=\"display:inline;vertical-align:middle;\" /></a><br>(see <a class=\"ProveItLink\" href=\"../../../__pv_it/theorems/7d7d7a927c3617067a50820f6692521e923602c40/dependencies.ipynb\">dependencies</a>)<br>"
      ],
      "text/plain": [
       "<IPython.core.display.HTML object>"
      ]
     },
     "metadata": {},
     "output_type": "display_data"
    },
    {
     "name": "stdout",
     "output_type": "stream",
     "text": [
      "mult_8_3 may now be readily provable (assuming required theorems are usable).  Simply execute \"%qed\".\n"
     ]
    }
   ],
   "source": [
    "%proving mult_8_3"
   ]
  },
  {
   "cell_type": "code",
   "execution_count": null,
   "metadata": {},
   "outputs": [],
   "source": []
  }
 ],
 "metadata": {
  "kernelspec": {
   "display_name": "Python 3",
   "language": "python",
   "name": "python3"
  }
 },
 "nbformat": 4,
 "nbformat_minor": 0
}