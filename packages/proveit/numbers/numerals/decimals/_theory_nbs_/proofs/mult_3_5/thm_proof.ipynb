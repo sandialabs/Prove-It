{
 "cells": [
  {
   "cell_type": "markdown",
   "metadata": {},
   "source": [
    "Proof of <a class=\"ProveItLink\" href=\"../../../../../../_theory_nbs_/theory.ipynb\">proveit</a>.<a class=\"ProveItLink\" href=\"../../../../../_theory_nbs_/theory.ipynb\">numbers</a>.<a class=\"ProveItLink\" href=\"../../../../_theory_nbs_/theory.ipynb\">numerals</a>.<a class=\"ProveItLink\" href=\"../../theory.ipynb\">decimals</a>.<a class=\"ProveItLink\" href=\"../../theorems.ipynb#mult_3_5\">mult_3_5</a> theorem\n",
    "========"
   ]
  },
  {
   "cell_type": "code",
   "execution_count": 1,
   "metadata": {},
   "outputs": [],
   "source": [
    "import proveit\n",
    "theory = proveit.Theory() # the theorem's theory"
   ]
  },
  {
   "cell_type": "code",
   "execution_count": 2,
   "metadata": {},
   "outputs": [
    {
     "data": {
      "text/html": [
       "With these <a href=\"allowed_presumptions.txt\">allowed</a>/<a href=\"disallowed_presumptions.txt\">disallowed</a> theorem/theory presumptions (e.g., to avoid circular dependencies), we begin our proof of<br><strong id=\"mult_3_5\">mult_3_5:</strong> <a class=\"ProveItLink\" href=\"../../../__pv_it/theorems/91dd031dc20407941b6496b71c806b6c758d34980/expr.ipynb\"><img src=\"data:image/png;base64,iVBORw0KGgoAAAANSUhEUgAAAGEAAAAVBAMAAACkm51HAAAAMFBMVEX///8AAAAAAAAAAAAAAAAA\n",
       "AAAAAAAAAAAAAAAAAAAAAAAAAAAAAAAAAAAAAAAAAAAv3aB7AAAAD3RSTlMAInZUiRDNmWbv3US7\n",
       "qzJazP2FAAAACXBIWXMAAA7EAAAOxAGVKw4bAAABVklEQVQ4y2NgYBBgwABYhJAAkwEKl4+BIZBh\n",
       "E3alYDkGBhMGBhH303BRzm9ZSxmYGjBVL4XKMbAmMLAWMNjDLeKavySAgSEVXUNs2VeYHHsDA9Nn\n",
       "hvgEmBQvmGzHdPxXmBwnAwP3bAZ+NB2cAbh1mIFJ+wZUHWwNuHWUgAjuFXAZ3ibfBwwMLBew6gDL\n",
       "ZYDCQfceXIYngPE3AwMH2JVVq0BgLVwHRG4xxFXIkXKKgYF5AjY7IHKzIT4F8WEBVi/AwPcBhw6g\n",
       "HFAH3wMGns+gqCgAEseAog8YuLHaAZEDuor/K0QHGMxiYLgPdNUCbP6AyB0COukCxFVg4MDAMAfo\n",
       "8wPY7IDI+QKlG5DiQ5yBaSowJTig62D5CJN7BeRtL0ekRMby68D45tqApoH35rcbMLkH2NK1FJ7s\n",
       "wVGATbQCX446iEWM8QA+HTFYxHjwZltGBUwxRTzqAZMdXpcW+dYeAAAAAElFTkSuQmCC\n",
       "\" style=\"display:inline;vertical-align:middle;\" /></a><br>(see <a class=\"ProveItLink\" href=\"../../../__pv_it/theorems/6ed3c54d788857618f2a19ba09a513fb97f7e3bc0/dependencies.ipynb\">dependencies</a>)<br>"
      ],
      "text/plain": [
       "<IPython.core.display.HTML object>"
      ]
     },
     "metadata": {},
     "output_type": "display_data"
    },
    {
     "name": "stdout",
     "output_type": "stream",
     "text": [
      "mult_3_5 may now be readily provable (assuming required theorems are usable).  Simply execute \"%qed\".\n"
     ]
    }
   ],
   "source": [
    "%proving mult_3_5"
   ]
  },
  {
   "cell_type": "code",
   "execution_count": null,
   "metadata": {},
   "outputs": [],
   "source": []
  }
 ],
 "metadata": {
  "kernelspec": {
   "display_name": "Python 3",
   "language": "python",
   "name": "python3"
  }
 },
 "nbformat": 4,
 "nbformat_minor": 0
}