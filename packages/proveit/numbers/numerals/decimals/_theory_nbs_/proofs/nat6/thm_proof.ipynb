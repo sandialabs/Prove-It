{
 "cells": [
  {
   "cell_type": "markdown",
   "metadata": {},
   "source": [
    "Proof of <a class=\"ProveItLink\" href=\"../../../../../../_theory_nbs_/theory.ipynb\">proveit</a>.<a class=\"ProveItLink\" href=\"../../../../../_theory_nbs_/theory.ipynb\">numbers</a>.<a class=\"ProveItLink\" href=\"../../../../_theory_nbs_/theory.ipynb\">numerals</a>.<a class=\"ProveItLink\" href=\"../../theory.ipynb\">decimals</a>.<a class=\"ProveItLink\" href=\"../../theorems.ipynb#nat6\">nat6</a> theorem\n",
    "========"
   ]
  },
  {
   "cell_type": "code",
   "execution_count": 1,
   "metadata": {},
   "outputs": [],
   "source": [
    "import proveit\n",
    "theory = proveit.Theory() # the theorem's theory"
   ]
  },
  {
   "cell_type": "code",
   "execution_count": 2,
   "metadata": {},
   "outputs": [
    {
     "data": {
      "text/html": [
       "With these <a href=\"allowed_presumptions.txt\">allowed</a>/<a href=\"disallowed_presumptions.txt\">disallowed</a> theorem/theory presumptions (e.g., to avoid circular dependencies), we begin our proof of<br><strong id=\"nat6\">nat6:</strong> <a class=\"ProveItLink\" href=\"../../../__pv_it/theorems/e8c4ac0b8d6c7ee7c2032b056029bbdf8777001e0/expr.ipynb\"><img src=\"data:image/png;base64,iVBORw0KGgoAAAANSUhEUgAAADMAAAAQBAMAAABJt1qBAAAAMFBMVEX///8AAAAAAAAAAAAAAAAA\n",
       "AAAAAAAAAAAAAAAAAAAAAAAAAAAAAAAAAAAAAAAAAAAv3aB7AAAAD3RSTlMAiTIizUSr3Xa7VBDv\n",
       "mWZb+y3UAAAACXBIWXMAAA7EAAAOxAGVKw4bAAAA8UlEQVQY02NgwADbf07ZwCDzJwDIFBRUQJWb\n",
       "xZrAwP0ByDAJYCtAlUo3kGNgOABkeDBwTkCVyprAYsAAVM71GybCMb28BMxIfsHsAJLiPACVYfXY\n",
       "AGUlsyk0gqR4nCSuggVMYDIMyQwTOAOAUvx+DDwLQALODAgpXe5qoNT+Dwy8p0ECDkhSfAtWAu3Z\n",
       "X8DA9xXIZzpeXl5eCZViyGYDSvE7MPD9A/K5JyDpYtjGDXIhVBdDAbIUUwNQJRfQLrD7O+BSk4C4\n",
       "CWTIRIY9YBeyLIBJeQExL8hVjHeTwALcmdEQGZU/QB3cDshBxyoJDSgoAADiIzjIb6c/XAAAAABJ\n",
       "RU5ErkJggg==\n",
       "\" style=\"display:inline;vertical-align:middle;\" /></a><br>(see <a class=\"ProveItLink\" href=\"../../../__pv_it/theorems/7cd558ec1243471a3ebd87d0fd130f249f7f2c9c0/dependencies.ipynb\">dependencies</a>)<br>"
      ],
      "text/plain": [
       "<IPython.core.display.HTML object>"
      ]
     },
     "metadata": {},
     "output_type": "display_data"
    },
    {
     "name": "stdout",
     "output_type": "stream",
     "text": [
      "nat6 may now be readily provable (assuming required theorems are usable).  Simply execute \"%qed\".\n"
     ]
    }
   ],
   "source": [
    "%proving nat6"
   ]
  },
  {
   "cell_type": "code",
   "execution_count": null,
   "metadata": {},
   "outputs": [],
   "source": []
  }
 ],
 "metadata": {
  "kernelspec": {
   "display_name": "Python 3",
   "language": "python",
   "name": "python3"
  }
 },
 "nbformat": 4,
 "nbformat_minor": 0
}