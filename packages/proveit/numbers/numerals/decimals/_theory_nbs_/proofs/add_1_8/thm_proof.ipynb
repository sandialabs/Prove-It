{
 "cells": [
  {
   "cell_type": "markdown",
   "metadata": {},
   "source": [
    "Proof of <a class=\"ProveItLink\" href=\"../../../../../../_theory_nbs_/theory.ipynb\">proveit</a>.<a class=\"ProveItLink\" href=\"../../../../../_theory_nbs_/theory.ipynb\">numbers</a>.<a class=\"ProveItLink\" href=\"../../../../_theory_nbs_/theory.ipynb\">numerals</a>.<a class=\"ProveItLink\" href=\"../../theory.ipynb\">decimals</a>.<a class=\"ProveItLink\" href=\"../../theorems.ipynb#add_1_8\">add_1_8</a> theorem\n",
    "========"
   ]
  },
  {
   "cell_type": "code",
   "execution_count": 1,
   "metadata": {},
   "outputs": [],
   "source": [
    "import proveit\n",
    "theory = proveit.Theory() # the theorem's theory"
   ]
  },
  {
   "cell_type": "code",
   "execution_count": 2,
   "metadata": {},
   "outputs": [
    {
     "data": {
      "text/html": [
       "With these <a href=\"allowed_presumptions.txt\">allowed</a>/<a href=\"disallowed_presumptions.txt\">disallowed</a> theorem/theory presumptions (e.g., to avoid circular dependencies), we begin our proof of<br><strong id=\"add_1_8\">add_1_8:</strong> <a class=\"ProveItLink\" href=\"../../../__pv_it/theorems/ace7dc6616243f1798aa845d3f7afacca567db320/expr.ipynb\"><img src=\"data:image/png;base64,iVBORw0KGgoAAAANSUhEUgAAAGEAAAAVBAMAAACkm51HAAAAMFBMVEX///8AAAAAAAAAAAAAAAAA\n",
       "AAAAAAAAAAAAAAAAAAAAAAAAAAAAAAAAAAAAAAAAAAAv3aB7AAAAD3RSTlMAInZUiRDNmWbv3US7\n",
       "qzJazP2FAAAACXBIWXMAAA7EAAAOxAGVKw4bAAABZUlEQVQ4y2NgYBBgwA5wiTMwGeCQ2IRLhwkQ\n",
       "vwpAFWN1cd/AwNSAoba8FqiQNYGB9Xo+mg52BobLDAyp6BqiFPgmAiVBJunDdOyAUB0MDGEMDO3o\n",
       "Om4yMJxhYOBkQNZhBKF8wTo40Wxm+MbA4B/AYIZNh/1RhgoGBjY0j7D+AarcwFCCTQfvf3VgCLJc\n",
       "wGJHA0MGNh0M9b+AscGRAA6FVWBwAeKP8woMi7HpYHY8/xlITkCzI3ID330DhtkIHVWrVs1ctWot\n",
       "AyiUmH8GMPB9QNPBWuSs/wBZB8KOqQwM8gYM3BMw4xsYVthcxQo0nLeBgXkBmj8YwPFxCJsdwJjl\n",
       "EWDgOIBmgWUA6z9wZAHtEkDVsS2AoQlougOaDq0AHmAUvQKy7s7PbUDRwXe9fAMDA9cGNB0s7tVA\n",
       "kusBspgRMkcKe2LnKEDm7UDmVODIHwdxZRzGAzgkYnDp4MGVbRkVcEgoYhcGAFO6Vnamiw8SAAAA\n",
       "AElFTkSuQmCC\n",
       "\" style=\"display:inline;vertical-align:middle;\" /></a><br>(see <a class=\"ProveItLink\" href=\"../../../__pv_it/theorems/b174d6be351617f8a8a05a4be0f81adcf5c3f36b0/dependencies.ipynb\">dependencies</a>)<br>"
      ],
      "text/plain": [
       "<IPython.core.display.HTML object>"
      ]
     },
     "metadata": {},
     "output_type": "display_data"
    },
    {
     "name": "stdout",
     "output_type": "stream",
     "text": [
      "add_1_8 may now be readily provable (assuming required theorems are usable).  Simply execute \"%qed\".\n"
     ]
    }
   ],
   "source": [
    "%proving add_1_8"
   ]
  },
  {
   "cell_type": "code",
   "execution_count": null,
   "metadata": {},
   "outputs": [],
   "source": []
  }
 ],
 "metadata": {
  "kernelspec": {
   "display_name": "Python 3",
   "language": "python",
   "name": "python3"
  }
 },
 "nbformat": 4,
 "nbformat_minor": 0
}