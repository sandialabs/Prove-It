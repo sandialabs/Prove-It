{
 "cells": [
  {
   "cell_type": "markdown",
   "metadata": {},
   "source": [
    "Proof of <a class=\"ProveItLink\" href=\"../../../../../../_theory_nbs_/theory.ipynb\">proveit</a>.<a class=\"ProveItLink\" href=\"../../../../../_theory_nbs_/theory.ipynb\">numbers</a>.<a class=\"ProveItLink\" href=\"../../../../_theory_nbs_/theory.ipynb\">numerals</a>.<a class=\"ProveItLink\" href=\"../../theory.ipynb\">decimals</a>.<a class=\"ProveItLink\" href=\"../../theorems.ipynb#add_3_9\">add_3_9</a> theorem\n",
    "========"
   ]
  },
  {
   "cell_type": "code",
   "execution_count": 1,
   "metadata": {},
   "outputs": [],
   "source": [
    "import proveit\n",
    "theory = proveit.Theory() # the theorem's theory"
   ]
  },
  {
   "cell_type": "code",
   "execution_count": 2,
   "metadata": {},
   "outputs": [
    {
     "data": {
      "text/html": [
       "With these <a href=\"allowed_presumptions.txt\">allowed</a>/<a href=\"disallowed_presumptions.txt\">disallowed</a> theorem/theory presumptions (e.g., to avoid circular dependencies), we begin our proof of<br><strong id=\"add_3_9\">add_3_9:</strong> <a class=\"ProveItLink\" href=\"../../../__pv_it/theorems/7d242e665a07fda73fd30a149621e1f567f5035d0/expr.ipynb\"><img src=\"data:image/png;base64,iVBORw0KGgoAAAANSUhEUgAAAGwAAAAVBAMAAABRZRb3AAAAMFBMVEX///8AAAAAAAAAAAAAAAAA\n",
       "AAAAAAAAAAAAAAAAAAAAAAAAAAAAAAAAAAAAAAAAAAAv3aB7AAAAD3RSTlMAInZUiRDNmWbv3US7\n",
       "qzJazP2FAAAACXBIWXMAAA7EAAAOxAGVKw4bAAABkklEQVQ4y52TP0jDUBCHv0ZjbbUaQXBx6KDg\n",
       "IkoRQRcdBCexm4vQji5ih2LAKZOTQpcO0sGiiBIpdFO36iQI4iJOSgcXC+KfUhAE60si6GtfOniQ\n",
       "HPdevve7u5cDDNQWoJVp4z4bXdFW2AT0z181LAbNWxhp/rgSh4H1a9CT6ClmZEl9jyeDjngDpN+t\n",
       "xQmUWCwStNCqJJLexqnnIhm6S3SmmtTG4kQMQhlCoogcvT9YzHMibK9BVoWFakTemHTDGUvCEiW0\n",
       "T1hRquWJfJF2m3ZEk9oHLKgwYeFX98Se0QcZc2p7h023qbZrN3+wlyj7XpLjEqbneK7ClI9aAXJu\n",
       "KOqEDdvese2CEy8Nxb7EqWosWHKxnjLdVUlNmNPJMzW2LR6RZG9NgYl7Y1pZW9ssfVyIDG+8JH+x\n",
       "tiyJMmwp1R5h2Glyp9V4b9oBl8Klm7BFg8ChaeapiODEvJIvgDmzKN7HjdT97qoVrtfrScLlv+sx\n",
       "aeDy/nMj/6+n0vRYLebt3HdnsNWYLv/jQKcCv9nXDH/oG6QQaHuVOUQVAAAAAElFTkSuQmCC\n",
       "\" style=\"display:inline;vertical-align:middle;\" /></a><br>(see <a class=\"ProveItLink\" href=\"../../../__pv_it/theorems/95663c19815e16f31f4d99600f5fbc41ea5b9a200/dependencies.ipynb\">dependencies</a>)<br>"
      ],
      "text/plain": [
       "<IPython.core.display.HTML object>"
      ]
     },
     "metadata": {},
     "output_type": "display_data"
    },
    {
     "name": "stdout",
     "output_type": "stream",
     "text": [
      "add_3_9 may now be readily provable (assuming required theorems are usable).  Simply execute \"%qed\".\n"
     ]
    }
   ],
   "source": [
    "%proving add_3_9"
   ]
  },
  {
   "cell_type": "code",
   "execution_count": null,
   "metadata": {},
   "outputs": [],
   "source": []
  }
 ],
 "metadata": {
  "kernelspec": {
   "display_name": "Python 3",
   "language": "python",
   "name": "python3"
  }
 },
 "nbformat": 4,
 "nbformat_minor": 0
}