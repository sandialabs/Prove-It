{
 "cells": [
  {
   "cell_type": "markdown",
   "metadata": {},
   "source": [
    "Proof of <a class=\"ProveItLink\" href=\"../../../../../../_theory_nbs_/theory.ipynb\">proveit</a>.<a class=\"ProveItLink\" href=\"../../../../../_theory_nbs_/theory.ipynb\">numbers</a>.<a class=\"ProveItLink\" href=\"../../../../_theory_nbs_/theory.ipynb\">numerals</a>.<a class=\"ProveItLink\" href=\"../../theory.ipynb\">decimals</a>.<a class=\"ProveItLink\" href=\"../../theorems.ipynb#reduce_7_repeats\">reduce_7_repeats</a> theorem\n",
    "========"
   ]
  },
  {
   "cell_type": "code",
   "execution_count": 1,
   "metadata": {},
   "outputs": [],
   "source": [
    "import proveit\n",
    "theory = proveit.Theory() # the theorem's theory"
   ]
  },
  {
   "cell_type": "code",
   "execution_count": 2,
   "metadata": {},
   "outputs": [
    {
     "data": {
      "text/html": [
       "With these <a href=\"allowed_presumptions.txt\">allowed</a>/<a href=\"disallowed_presumptions.txt\">disallowed</a> theorem/theory presumptions (e.g., to avoid circular dependencies), we begin our proof of<br><strong id=\"reduce_7_repeats\">reduce_7_repeats:</strong> <a class=\"ProveItLink\" href=\"../../../__pv_it/theorems/9fbc190fb59a6a3e7b814dd8a187a789ab14ba130/expr.ipynb\"><img src=\"data:image/png;base64,iVBORw0KGgoAAAANSUhEUgAAAW8AAAAVBAMAAAB73HI0AAAAMFBMVEX///8AAAAAAAAAAAAAAAAA\n",
       "AAAAAAAAAAAAAAAAAAAAAAAAAAAAAAAAAAAAAAAAAAAv3aB7AAAAD3RSTlMAq1RmmUTNIjK7EInv\n",
       "3XZ/CtNrAAAACXBIWXMAAA7EAAAOxAGVKw4bAAAC3ElEQVRIx61Wv4sTQRR+2d1scruXeIeFPxAN\n",
       "aGXjIYd2Ggj+KDwJ/gFnOuGqtRGEi5zVgTZpbCw0xXGoxRmuFWStRYlgcQiBPVECgkEbT6ycNzOb\n",
       "3Znd2R9kH/sF9pt5H19m37wZgGhUOGYIRyFbQDgKeRJfOWaIVYVsAbHKsYAvp8Mj2oAhKarN5PH6\n",
       "UoRKk8waKI24gi93wiPbHElRW0iZsBZhtqGgWGN4iNXXCw+0OJLiZ5rx5QjTKsr4MoPZB7Ab4QGX\n",
       "I6lSLqQZn+/LjFuUcZQm0Em5mEItdhiSwjap8SME9+NnmHKRp0lmD5RGfBiN3od5Y8BgTY4/3mXU\n",
       "zv6LN8JHGTPj3Q2o7EmyPM2WP4lSMjeJ0ojrAE/j/pAB+94Ko5r1k8Yw3JGXmHHimniXDLI0nS7w\n",
       "ygjjky8bK5mbRGnEXagIq1NrMFyEy/3DlNEd/V8p/OltYMahuykvuJ+mySWtlMxNojRirm+3hdpv\n",
       "M2zAVX8rgtGRzHHjlZG84H5a9Ze8pVSSuUmURmieCXHGAT4GnCec3V6CcZ5WdmOMKyRzkihN5TuX\n",
       "yM/k2jdHLBUoH8ArnnDbsULtrby4eOrdQFEqPE0bSjWulsxLojSV3yXHUN05ZvK+MedRWE9KLgzA\n",
       "IszL9glS1hDuzPOxm5PM4Gmg96T/o5LMTVJpKr9OTOjwrOrvPNZttL9bbrkBr0mBnXt0A26B9YcM\n",
       "kldk4FBPaIdkjD1+Gu1+YutXSOYmp/0aSnTRDqan4pDCuumdOU++8BeArYnWIgkj8q9rTXzAeP4b\n",
       "C+8owT2a9Jk+ZAZPg1pbPmwVkrlJKh3IV93pdXmPg8XZ4Ozrp51poRndyGCKZHayG5ZftzuGdInh\n",
       "MQh177Swk65UKZLZSeESaHx/+2O6jRwGdswGvWgn1Xgwo9KLDCZLZidROkYep/cY2LU94L1U417U\n",
       "pSirlsxOCusqxgOOGWKskC0gxgz/AT0vNgJfnl2xAAAAAElFTkSuQmCC\n",
       "\" style=\"display:inline;vertical-align:middle;\" /></a><br>(see <a class=\"ProveItLink\" href=\"../../../__pv_it/theorems/e0d36935cb8cc0e6e1715be03c164006dc141a6e0/dependencies.ipynb\">dependencies</a>)<br>"
      ],
      "text/plain": [
       "<IPython.core.display.HTML object>"
      ]
     },
     "metadata": {},
     "output_type": "display_data"
    }
   ],
   "source": [
    "%proving reduce_7_repeats"
   ]
  },
  {
   "cell_type": "code",
   "execution_count": null,
   "metadata": {},
   "outputs": [],
   "source": []
  }
 ],
 "metadata": {
  "kernelspec": {
   "display_name": "Python 3",
   "language": "python",
   "name": "python3"
  }
 },
 "nbformat": 4,
 "nbformat_minor": 0
}