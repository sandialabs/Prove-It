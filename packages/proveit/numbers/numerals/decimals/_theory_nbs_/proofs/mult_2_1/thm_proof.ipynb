{
 "cells": [
  {
   "cell_type": "markdown",
   "metadata": {},
   "source": [
    "Proof of <a class=\"ProveItLink\" href=\"../../../../../../_theory_nbs_/theory.ipynb\">proveit</a>.<a class=\"ProveItLink\" href=\"../../../../../_theory_nbs_/theory.ipynb\">numbers</a>.<a class=\"ProveItLink\" href=\"../../../../_theory_nbs_/theory.ipynb\">numerals</a>.<a class=\"ProveItLink\" href=\"../../theory.ipynb\">decimals</a>.<a class=\"ProveItLink\" href=\"../../theorems.ipynb#mult_2_1\">mult_2_1</a> theorem\n",
    "========"
   ]
  },
  {
   "cell_type": "code",
   "execution_count": 1,
   "metadata": {},
   "outputs": [],
   "source": [
    "import proveit\n",
    "theory = proveit.Theory() # the theorem's theory"
   ]
  },
  {
   "cell_type": "code",
   "execution_count": 2,
   "metadata": {},
   "outputs": [
    {
     "data": {
      "text/html": [
       "With these <a href=\"allowed_presumptions.txt\">allowed</a>/<a href=\"disallowed_presumptions.txt\">disallowed</a> theorem/theory presumptions (e.g., to avoid circular dependencies), we begin our proof of<br><strong id=\"mult_2_1\">mult_2_1:</strong> <a class=\"ProveItLink\" href=\"../../../__pv_it/theorems/7401f4bc4567a4af1967dc0259eb4f531501a3720/expr.ipynb\"><img src=\"data:image/png;base64,iVBORw0KGgoAAAANSUhEUgAAAFcAAAAVBAMAAADBdm84AAAAMFBMVEX///8AAAAAAAAAAAAAAAAA\n",
       "AAAAAAAAAAAAAAAAAAAAAAAAAAAAAAAAAAAAAAAAAAAv3aB7AAAAD3RSTlMAInZUiRDNmWbv3US7\n",
       "qzJazP2FAAAACXBIWXMAAA7EAAAOxAGVKw4bAAABTklEQVQoz3WTMUvDQBTH/2mjSaoX4iQUhzq4\n",
       "OxTnfAExH0Axi+Dg0EEaKQ7dnISu4mBARBCKxU8Q/QBFN3VpBicXq9AugvEubVPy7vIIx8ufX17+\n",
       "9+4dAAdSKKRJlDZl7aEIrgOrzf783b7hBdqU0oKjGFjwoUXY6c3UveaIrwcUXoP+CxhtMAdWZ25L\n",
       "wGcUfgEuAIs/I7DvPGx5BL7yMHCwBbAQ7C8PL1LT78AgxnGaV4Z5WH+WO3EPHKbJVy0Pm75IW3ci\n",
       "utMu/QDXadZFHi53pMIV/rNLkRiRWPf9DLaHEnyKKXw++baRwUtSZVPsQtgou1ghNkLquQ7NwRNP\n",
       "PoANssGIFLZdlDxs83O/DYIwk3VxPoZL4GoQtIBP7jVJEn+msrfxK5d6tMlJMuZyrBrFqnpCzYZK\n",
       "PSmY50eFpkUF8K5CWy66V1pN1tbV6D+3QVMrO7KVDAAAAABJRU5ErkJggg==\n",
       "\" style=\"display:inline;vertical-align:middle;\" /></a><br>(see <a class=\"ProveItLink\" href=\"../../../__pv_it/theorems/783fbf7e562f7dd9726e403135ab4541b05fed550/dependencies.ipynb\">dependencies</a>)<br>"
      ],
      "text/plain": [
       "<IPython.core.display.HTML object>"
      ]
     },
     "metadata": {},
     "output_type": "display_data"
    },
    {
     "name": "stdout",
     "output_type": "stream",
     "text": [
      "mult_2_1 may now be readily provable (assuming required theorems are usable).  Simply execute \"%qed\".\n"
     ]
    }
   ],
   "source": [
    "%proving mult_2_1"
   ]
  },
  {
   "cell_type": "code",
   "execution_count": null,
   "metadata": {},
   "outputs": [],
   "source": []
  }
 ],
 "metadata": {
  "kernelspec": {
   "display_name": "Python 3",
   "language": "python",
   "name": "python3"
  }
 },
 "nbformat": 4,
 "nbformat_minor": 0
}