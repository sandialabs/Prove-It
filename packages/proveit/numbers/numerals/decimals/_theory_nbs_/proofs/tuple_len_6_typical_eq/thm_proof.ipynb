{
 "cells": [
  {
   "cell_type": "markdown",
   "metadata": {},
   "source": [
    "Proof of <a class=\"ProveItLink\" href=\"../../../../../../_theory_nbs_/theory.ipynb\">proveit</a>.<a class=\"ProveItLink\" href=\"../../../../../_theory_nbs_/theory.ipynb\">numbers</a>.<a class=\"ProveItLink\" href=\"../../../../_theory_nbs_/theory.ipynb\">numerals</a>.<a class=\"ProveItLink\" href=\"../../theory.ipynb\">decimals</a>.<a class=\"ProveItLink\" href=\"../../theorems.ipynb#tuple_len_6_typical_eq\">tuple_len_6_typical_eq</a> theorem\n",
    "========"
   ]
  },
  {
   "cell_type": "code",
   "execution_count": 1,
   "metadata": {},
   "outputs": [],
   "source": [
    "import proveit\n",
    "theory = proveit.Theory() # the theorem's theory"
   ]
  },
  {
   "cell_type": "code",
   "execution_count": 2,
   "metadata": {},
   "outputs": [
    {
     "data": {
      "text/html": [
       "With these <a href=\"allowed_presumptions.txt\">allowed</a>/<a href=\"disallowed_presumptions.txt\">disallowed</a> theorem/theory presumptions (e.g., to avoid circular dependencies), we begin our proof of<br><strong id=\"tuple_len_6_typical_eq\">tuple_len_6_typical_eq:</strong> <a class=\"ProveItLink\" href=\"../../../__pv_it/theorems/995b6f3b19b4482310051f0f61a84b78d01252bc0/expr.ipynb\"><img src=\"data:image/png;base64,iVBORw0KGgoAAAANSUhEUgAAAZMAAAAWBAMAAAD3OGyNAAAAMFBMVEX///8AAAAAAAAAAAAAAAAA\n",
       "AAAAAAAAAAAAAAAAAAAAAAAAAAAAAAAAAAAAAAAAAAAv3aB7AAAAD3RSTlMAq1RmmUTNIjK7EInv\n",
       "3XZ/CtNrAAAACXBIWXMAAA7EAAAOxAGVKw4bAAAE50lEQVRYw81XXYgbVRQ+m0x+ZpJMAgUVWrdT\n",
       "BIWWaqD7og9pZNeq2NaALypqA1qkRST7KLptxAcfXLH+gChaZ6EIsmJSbbGwuIaV+kN/rKXFtbJ0\n",
       "agtdW5Cl0rVU3PWec39yk5lbTJ6cwOTLmXu/c757zj1zA9DHVWMfvFLQ32WY3QepmlLrLxLXg4ME\n",
       "futTylN0z1S6zH2QKiYEBcS39RTJOuE11tSMnxyLGJl+rhyyWVO+WzRLQdL0GWFJjeyoG8PITB0C\n",
       "xYTgPsTP9qLEqQqvH3eYn4kam/dCpv3jHuw0S2GkE5uuC8sLkLlqCiO1HW6FNhMDL6N1Ty9SrKLw\n",
       "OtxhvhI1dpsfMs085sOQWQqSulLKzQBHTWEkA3gP2kwMJJmzjNeLlKz02tKtietRY78KWWhc1jdK\n",
       "aelSfvRhtWlD30WrpJgYiLM1Tva0VW4XXmPVjso9ETU2XHU0Llk0SSFSJYVV0GrTZvmA50YyITg2\n",
       "N3ekJykPCa8W7vrR6V0i34PnZG6nz3P3qZXzouqc6Qui0uKrfmKdIFMwSSFSV8vwWVMY3752oaIx\n",
       "IXgA4P2epDwtvOI6JL6Dj3iQjZ3OX/z5mGfxvfdEzRYxPVlPy26XD1BQVUqx5ugqgEaqS0kvmcJY\n",
       "LMKMxoRgFFIFNXFHx+iv9eTuk7v8pPCaY1n4tAhbVOke5+hXyAaUim/A4jWY+hNcmYLdyBlrmbKC\n",
       "pLqUXMHUR5cBNvttJgS2r3Gu7Bi+W//x9qMCHBZes2zawxg5XZsA/uYNTsZhLUCO58Je+uOg2q20\n",
       "ZAsmKUiqS3nQ+Er4B2Bjpc2EIBZou/77juG/6z8UvS7lB3Cuylwk+MbIys7OQINHmy909bRE6z9K\n",
       "iReMdb7IpBTbTASqJXabLH1JlXmOmtv5gEzPA33RG3XNES9cYM4SxBfka0WkoxGIcQxs1PaHuN6k\n",
       "V/oJ017pKrB1kDI14w8pK4qJwOfsRen8nMZN655x8aRxOt0i0zVM5Cw/28TVa3Sv8GoH4FyBgeod\n",
       "gPKv4b5BkGfKKw5K8eCmWA0R1pkHvD0cV2SRWbEDIcWhQmyC6zthGT6v1M0aE4GXWKhWGaMHu4iN\n",
       "wNrj1MmECz5QeJGyYqnT1H7hFdvfXlhfLjss17AC3gECrH1l6o0qRhU7ZQEiRrqvRg8hRfVILTdS\n",
       "Cm+ubFlxHoyNjGwhRJPppn7ZTWdGYyIwUMcSdZEjW7cKol7RhEKzw2v51i1Kj68Lr2mW0onLrw7W\n",
       "YY6t0sQBNgABTG24BDl2IHQGD43OE4LLGwLxMEb1mKuYpCDpwKrFFXze2eXlRY5OgbjlcEmJ6sC9\n",
       "dY0pJ9kaNfse9jgPWVar+ZowXfLlD1Sp+mNdnDFmpSXmdwNYCyFEDy2q1jHzGWz2BgwQcthmGlPn\n",
       "qtobj/iTkPPvhklIVqA5iaZXmMn2oOmw5DXU7HhZeB1Sh5EQgGYY4cM1SU8dRKOlDN2AAcJ+FJM6\n",
       "2yaG7/wCxr301oDdU8Mlf9wTJmdryU+zohxvE70rvNqyuXwG3cAJwggf/kJ/DPhJPFqKJI1igJAf\n",
       "xdR9uPdCd/EV01aL/csSXh05XflSwIUwwoel+9vhRkuRpFEMEPKjmOzOnp3wu+/y63F46xbtT08A\n",
       "8wR29fmH+CIPsfvM2wepYrrYaY+H7vKrCNMB/N+vfwEw2H2CvY1grgAAAABJRU5ErkJggg==\n",
       "\" style=\"display:inline;vertical-align:middle;\" /></a><br>(see <a class=\"ProveItLink\" href=\"../../../__pv_it/theorems/5cb7434a68e6f9d14cfedb5422e9391a929fb7df0/dependencies.ipynb\">dependencies</a>)<br>"
      ],
      "text/plain": [
       "<IPython.core.display.HTML object>"
      ]
     },
     "metadata": {},
     "output_type": "display_data"
    }
   ],
   "source": [
    "%proving tuple_len_6_typical_eq"
   ]
  },
  {
   "cell_type": "code",
   "execution_count": null,
   "metadata": {},
   "outputs": [],
   "source": []
  }
 ],
 "metadata": {
  "kernelspec": {
   "display_name": "Python 3",
   "language": "python",
   "name": "python3"
  }
 },
 "nbformat": 4,
 "nbformat_minor": 0
}