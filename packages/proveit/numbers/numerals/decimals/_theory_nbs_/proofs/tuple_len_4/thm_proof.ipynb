{
 "cells": [
  {
   "cell_type": "markdown",
   "metadata": {},
   "source": [
    "Proof of <a class=\"ProveItLink\" href=\"../../../../../../_theory_nbs_/theory.ipynb\">proveit</a>.<a class=\"ProveItLink\" href=\"../../../../../_theory_nbs_/theory.ipynb\">numbers</a>.<a class=\"ProveItLink\" href=\"../../../../_theory_nbs_/theory.ipynb\">numerals</a>.<a class=\"ProveItLink\" href=\"../../theory.ipynb\">decimals</a>.<a class=\"ProveItLink\" href=\"../../theorems.ipynb#tuple_len_4\">tuple_len_4</a> theorem\n",
    "========"
   ]
  },
  {
   "cell_type": "code",
   "execution_count": 1,
   "metadata": {},
   "outputs": [],
   "source": [
    "import proveit\n",
    "from proveit import a, b, d, i\n",
    "from proveit.core_expr_types.tuples  import tuple_len_incr\n",
    "from proveit.numbers.numerals.decimals import tuple_len_3, add_3_1\n",
    "theory = proveit.Theory() # the theorem's theory"
   ]
  },
  {
   "cell_type": "code",
   "execution_count": 2,
   "metadata": {},
   "outputs": [
    {
     "data": {
      "text/html": [
       "With these <a href=\"allowed_presumptions.txt\">allowed</a>/<a href=\"disallowed_presumptions.txt\">disallowed</a> theorem/theory presumptions (e.g., to avoid circular dependencies), we begin our proof of<br><strong id=\"tuple_len_4\">tuple_len_4:</strong> <a class=\"ProveItLink\" href=\"../../../__pv_it/theorems/3a39d469292a2d6759861f19e5232dd2dc4a39220/expr.ipynb\"><img src=\"data:image/png;base64,iVBORw0KGgoAAAANSUhEUgAAAN8AAAAWBAMAAACyMFRjAAAAMFBMVEX///8AAAAAAAAAAAAAAAAA\n",
       "AAAAAAAAAAAAAAAAAAAAAAAAAAAAAAAAAAAAAAAAAAAv3aB7AAAAD3RSTlMAq1RmmUTNIjK7EInv\n",
       "3XZ/CtNrAAAACXBIWXMAAA7EAAAOxAGVKw4bAAADKElEQVRIx7VWTWhTQRCeJi/J+8lfEbwUakDQ\n",
       "g6g5FP8OMVAURWoLXkUDCmIRSe9aIx68VMxBEDy0rxdBIiZai72oFREtUqlFUSyBVz00VpRaUYtC\n",
       "cWZ3Xpo0myYXt7Bv+s2879udnXkbgKZGGv9oBJqKXZmVriZGOAajwvjYRPAxMY/Wc0XJ2NiAYwsT\n",
       "eAoV4K1JRaR+JhmOqwX1JJBrH9mn1tYzU0xwswo+qYqNxKBXLRjCvaHrIp1Mdm1BLc4EnVXwoir2\n",
       "uA0dasGvKIguvw1gxdYWDLoE45Wo748q9iGG2ypBfUdUuLy4en+DI9zEBJ5UJWpNqWIxz/64StDy\n",
       "R6Vrslh82UDwEBNoVDN9j/ol6m+f5cxY33ZJI9BWwjxbUZXgHAmS6wDAjQaCJ5iA1ud7DkO2QPO9\n",
       "5m8pMw0HZeDRtIF59qZcwa4ijdciKE6C5OqDQLSc59NVQo8z8jnNBCHc0e04dEl0uw2vZPkV2DCf\n",
       "goaMnnHFDi0gQXIZttVThtuqgi7w8xkTBDGwG2BGovsB/gqj23areYHEQV9QCO4UguTyOBU186Iq\n",
       "6LNCcALMnxKdAZ9sjIlyNWchjyE+xQ4DjhAUrlQCp1ziAaV0eZZWa31yBHQWalJqLoN3wW1DTTQG\n",
       "QjzyDuylYp6qPUNfa+uGJwXpuoftb77TqQDCH8JJfLzVxwW0xESDTGA4YC5CS2oz0LKW6DzJ+IF8\n",
       "wsjHYL0nDd6ssvGDVDTkOoeGliQNMOJURlrWzAiItwJ3mYCKehC2JpPmL/xvHVwDYWCJjgnDcDxv\n",
       "NO6eWsFIll0tGTqdMJVqMKNF5VEJyP3iXWECHRMy/OVyewaKuKHh+9glZFgjCVsYZvtYXwkz36MS\n",
       "1Ia+O9Ilsp829uAbEQhi5UfSDM1z+YUyTPDefdtj1zUAzte9nqRLbCd99Yidg5C9G3Lg74FCjqBL\n",
       "TOJNMkHHSlfVNfgTrxYsf/19ndtGYCCmH3ZwDnQm7IGYgHhcZwLDvbLvQF2D7x6l4OprKVYzu3ct\n",
       "E5juCw7UNXhVSkGj+jeGz149V7RtSRj9TfzEmBNzqb6rPLw1838Y/wBicuVyie4ExgAAAABJRU5E\n",
       "rkJggg==\n",
       "\" style=\"display:inline;vertical-align:middle;\" /></a><br>(see <a class=\"ProveItLink\" href=\"../../../__pv_it/theorems/d4f9379d7d41f75f19b85e6e269359a70bd48d0f0/dependencies.ipynb\">dependencies</a>)<br>"
      ],
      "text/plain": [
       "<IPython.core.display.HTML object>"
      ]
     },
     "metadata": {},
     "output_type": "display_data"
    }
   ],
   "source": [
    "%proving tuple_len_4"
   ]
  },
  {
   "cell_type": "code",
   "execution_count": 3,
   "metadata": {},
   "outputs": [
    {
     "data": {
      "text/html": [
       "<strong id=\"three_spec\">three_spec:</strong> <span style=\"font-size:20px;\"> <a class=\"ProveItLink\" href=\"../../../__pv_it/_proof_tuple_len_4/ed9996662df14837d8fd3701baa15ceeb46801480/proof.ipynb\" style=\"text-decoration: none\">&nbsp;&#x22A2;&nbsp;&nbsp;</a><a class=\"ProveItLink\" href=\"../../../__pv_it/theorems/bcd3cbd32a031911ab983a4866858786eafaba1b0/expr.ipynb\"><img src=\"data:image/png;base64,iVBORw0KGgoAAAANSUhEUgAAAHUAAAAVBAMAAACK3rzVAAAAMFBMVEX///8AAAAAAAAAAAAAAAAA\n",
       "AAAAAAAAAAAAAAAAAAAAAAAAAAAAAAAAAAAAAAAAAAAv3aB7AAAAD3RSTlMAIolEdjJUEM2ZZu/d\n",
       "u6v6CvZmAAAACXBIWXMAAA7EAAAOxAGVKw4bAAABp0lEQVQ4y2MQYAABRgYcACohgFVSGUy64dLL\n",
       "7ICkCqteNgUkkdo9yPJeWPUyKs01gIpWoEh0InM4CrDprWRg+wYVnYUi8Q2ZwzUBm17/BPYfUNEN\n",
       "KF78jqJsOza91gYMUL1sDcjiTAdQlHVhDyu2XxBRTlBQyamIQH34xC8BaorLUgYGPex6bRZARDmA\n",
       "NPNGhvvgYGGob2f/CAnMYwxzGRhWwPXOOQMC58ByIe8CIKI8QHuqFzDMgZiYX8CwBczgUQAxsnG4\n",
       "GRrO3MC4ms/AcAgiOoOB4ROYMR/sjngcaWN/AVzvXgb2zxDBQwzMkFjaCwlSbHpDGRjuJ8DczP6F\n",
       "gesDLHo5wbEEFAKBHGz+/V8A08vrwMD+jYGvIZEB5MqvIL+DGMBYYGZgWIvN3n1wNzM9YGC4wpAz\n",
       "YQIosTC8YrjJAGYAA1mVgWESNr2r4PHLCkwNdU6BTwIYzgDtq9MERhmIwaS1BEgexqaXeSY8LxyF\n",
       "h3wBOoPxAIE8uBKeHjEYnAsI6OWFlQslDOgMWUJ5n/0ClOfAgM64iEevK5gUwVXmsAggqUIDAD4C\n",
       "bBM08+F4AAAAAElFTkSuQmCC\n",
       "\" style=\"display:inline;vertical-align:middle;\" /></a></span><br>"
      ],
      "text/plain": [
       "<IPython.core.display.HTML object>"
      ]
     },
     "metadata": {},
     "output_type": "display_data"
    }
   ],
   "source": [
    "three_spec = tuple_len_3.instantiate({a:a}, auto_simplify=False)"
   ]
  },
  {
   "cell_type": "code",
   "execution_count": 4,
   "metadata": {},
   "outputs": [
    {
     "data": {
      "text/html": [
       "<strong id=\"tuple_spec\">tuple_spec:</strong> <span style=\"font-size:20px;\"> <a class=\"ProveItLink\" href=\"../../../__pv_it/_proof_tuple_len_4/25240127b6766d6be17ccb09f9705098cc3efced0/proof.ipynb\" style=\"text-decoration: none\">&nbsp;&#x22A2;&nbsp;&nbsp;</a><a class=\"ProveItLink\" href=\"../../../__pv_it/theorems/6f44b83f7c1a3c02a34b9075b2d4b25af862ac030/expr.ipynb\"><img src=\"data:image/png;base64,iVBORw0KGgoAAAANSUhEUgAAAIkAAAAVBAMAAACArtDCAAAAMFBMVEX///8AAAAAAAAAAAAAAAAA\n",
       "AAAAAAAAAAAAAAAAAAAAAAAAAAAAAAAAAAAAAAAAAAAv3aB7AAAAD3RSTlMAIolEdjJUEM2ZZu/d\n",
       "u6v6CvZmAAAACXBIWXMAAA7EAAAOxAGVKw4bAAAB7klEQVQ4y42Uv0tbURTHv3mv7728/GgyOEoI\n",
       "VIcWhwzdOvRFjFMp9T9Id6FvcBCKSbYgLhlFLEmhhTqp0KloCYEKhSBvcHFSSgZx0NS2sThI7098\n",
       "iSdNznD53i/nfe4999x3kQaPCEZHOjQOxiMxzo9BeRrKJyl2NuSs7BFp1lrtQYOmWDXlLvfZq9Rq\n",
       "qSKqNCVxqtyNPrtHUZ772KIpLzRlJ+ya1xRlBoj7FMX6pCh2JWwbTYrCyow2KIoRVRSXH25makLa\n",
       "0c7LokqY+yhF5EeBlWmcUpS8pvBFzF2c+MIuV52f8tsDvJOZz9JJVmasoimbbR6HIqmhKQm29tsG\n",
       "NuUnb3x8loefVcL5ApcR7B1iLwY0JZ4D6kBL+uvAlRB1X2W6XU6E1SUo7/so+3B+Sb8FU/Z6X2fG\n",
       "A5RZiknsJeIhVJHzG7Guvi6u6DWzVJQ9bPNWNu+fi3lxcfk1K9ykB6eHh5XX4DX84WfExQ1LEqJc\n",
       "xJmdRiwgb11c7YW38AiLtZrzl83OcQwhWIOmhUh69ndXXYj7lFQgXYtttTS70HmFNlu69Jg1ngvj\n",
       "yQdfCKcznSmwwnMUxT259aT7TVu2P1QAkyNehq277g8V6p/9DyWpX7AlDBWIBCMoTqBmHoYKtRRN\n",
       "KYhxYowXMx/KH4h/qcyAPKliGpcAAAAASUVORK5CYII=\n",
       "\" style=\"display:inline;vertical-align:middle;\" /></a></span><br>"
      ],
      "text/plain": [
       "<IPython.core.display.HTML object>"
      ]
     },
     "metadata": {},
     "output_type": "display_data"
    },
    {
     "name": "stdout",
     "output_type": "stream",
     "text": [
      "tuple_len_4 may now be readily provable (assuming required theorems are usable).  Simply execute \"%qed\".\n"
     ]
    }
   ],
   "source": [
    "tuple_spec = tuple_len_incr.instantiate(\n",
    "    {i: three_spec.rhs, a: three_spec.lhs.operands, b: d})"
   ]
  },
  {
   "cell_type": "code",
   "execution_count": 5,
   "metadata": {},
   "outputs": [
    {
     "name": "stdout",
     "output_type": "stream",
     "text": [
      "proveit.numbers.numerals.decimals.tuple_len_4 has been proven.\n"
     ]
    },
    {
     "data": {
      "text/html": [
       "<table><tr><th>&nbsp;</th><th>step type</th><th>requirements</th><th>statement</th></tr>\n",
       "<tr><td><a name=\"0x15ab75f948b19c8e_step0\">0</a></td><td>generalization</td><td><a href=\"#0x15ab75f948b19c8e_step1\">1</a></td><td><span style=\"font-size:20px;\"> <a class=\"ProveItLink\" href=\"../../../__pv_it/_proof_tuple_len_4/c30f816d9a7989e7f7db953b6d7d78b42fe9866c0/proof.ipynb\" style=\"text-decoration: none\">&nbsp;&#x22A2;&nbsp;&nbsp;</a><a class=\"ProveItLink\" href=\"../../../__pv_it/theorems/3a39d469292a2d6759861f19e5232dd2dc4a39220/expr.ipynb\"><img src=\"data:image/png;base64,iVBORw0KGgoAAAANSUhEUgAAAN8AAAAWBAMAAACyMFRjAAAAMFBMVEX///8AAAAAAAAAAAAAAAAA\n",
       "AAAAAAAAAAAAAAAAAAAAAAAAAAAAAAAAAAAAAAAAAAAv3aB7AAAAD3RSTlMAq1RmmUTNIjK7EInv\n",
       "3XZ/CtNrAAAACXBIWXMAAA7EAAAOxAGVKw4bAAADKElEQVRIx7VWTWhTQRCeJi/J+8lfEbwUakDQ\n",
       "g6g5FP8OMVAURWoLXkUDCmIRSe9aIx68VMxBEDy0rxdBIiZai72oFREtUqlFUSyBVz00VpRaUYtC\n",
       "cWZ3Xpo0myYXt7Bv+s2879udnXkbgKZGGv9oBJqKXZmVriZGOAajwvjYRPAxMY/Wc0XJ2NiAYwsT\n",
       "eAoV4K1JRaR+JhmOqwX1JJBrH9mn1tYzU0xwswo+qYqNxKBXLRjCvaHrIp1Mdm1BLc4EnVXwoir2\n",
       "uA0dasGvKIguvw1gxdYWDLoE45Wo748q9iGG2ypBfUdUuLy4en+DI9zEBJ5UJWpNqWIxz/64StDy\n",
       "R6Vrslh82UDwEBNoVDN9j/ol6m+f5cxY33ZJI9BWwjxbUZXgHAmS6wDAjQaCJ5iA1ud7DkO2QPO9\n",
       "5m8pMw0HZeDRtIF59qZcwa4ijdciKE6C5OqDQLSc59NVQo8z8jnNBCHc0e04dEl0uw2vZPkV2DCf\n",
       "goaMnnHFDi0gQXIZttVThtuqgi7w8xkTBDGwG2BGovsB/gqj23areYHEQV9QCO4UguTyOBU186Iq\n",
       "6LNCcALMnxKdAZ9sjIlyNWchjyE+xQ4DjhAUrlQCp1ziAaV0eZZWa31yBHQWalJqLoN3wW1DTTQG\n",
       "QjzyDuylYp6qPUNfa+uGJwXpuoftb77TqQDCH8JJfLzVxwW0xESDTGA4YC5CS2oz0LKW6DzJ+IF8\n",
       "wsjHYL0nDd6ssvGDVDTkOoeGliQNMOJURlrWzAiItwJ3mYCKehC2JpPmL/xvHVwDYWCJjgnDcDxv\n",
       "NO6eWsFIll0tGTqdMJVqMKNF5VEJyP3iXWECHRMy/OVyewaKuKHh+9glZFgjCVsYZvtYXwkz36MS\n",
       "1Ia+O9Ilsp829uAbEQhi5UfSDM1z+YUyTPDefdtj1zUAzte9nqRLbCd99Yidg5C9G3Lg74FCjqBL\n",
       "TOJNMkHHSlfVNfgTrxYsf/19ndtGYCCmH3ZwDnQm7IGYgHhcZwLDvbLvQF2D7x6l4OprKVYzu3ct\n",
       "E5juCw7UNXhVSkGj+jeGz149V7RtSRj9TfzEmBNzqb6rPLw1838Y/wBicuVyie4ExgAAAABJRU5E\n",
       "rkJggg==\n",
       "\" style=\"display:inline;vertical-align:middle;\" /></a></span></td></tr>\n",
       "<tr><td><a name=\"0x15ab75f948b19c8e_step1\">1</a></td><td>instantiation</td><td><a href=\"#0x15ab75f948b19c8e_step2\">2</a>, <a href=\"#0x15ab75f948b19c8e_step3\">3</a>, <a href=\"#0x15ab75f948b19c8e_step4\">4</a>, <a href=\"#0x15ab75f948b19c8e_step5\">5</a><sup>*</sup></td><td><span style=\"font-size:20px;\"> <a class=\"ProveItLink\" href=\"../../../__pv_it/_proof_tuple_len_4/25240127b6766d6be17ccb09f9705098cc3efced0/proof.ipynb\" style=\"text-decoration: none\">&nbsp;&#x22A2;&nbsp;&nbsp;</a><a class=\"ProveItLink\" href=\"../../../__pv_it/theorems/6f44b83f7c1a3c02a34b9075b2d4b25af862ac030/expr.ipynb\"><img src=\"data:image/png;base64,iVBORw0KGgoAAAANSUhEUgAAAIkAAAAVBAMAAACArtDCAAAAMFBMVEX///8AAAAAAAAAAAAAAAAA\n",
       "AAAAAAAAAAAAAAAAAAAAAAAAAAAAAAAAAAAAAAAAAAAv3aB7AAAAD3RSTlMAIolEdjJUEM2ZZu/d\n",
       "u6v6CvZmAAAACXBIWXMAAA7EAAAOxAGVKw4bAAAB7klEQVQ4y42Uv0tbURTHv3mv7728/GgyOEoI\n",
       "VIcWhwzdOvRFjFMp9T9Id6FvcBCKSbYgLhlFLEmhhTqp0KloCYEKhSBvcHFSSgZx0NS2sThI7098\n",
       "iSdNznD53i/nfe4999x3kQaPCEZHOjQOxiMxzo9BeRrKJyl2NuSs7BFp1lrtQYOmWDXlLvfZq9Rq\n",
       "qSKqNCVxqtyNPrtHUZ772KIpLzRlJ+ya1xRlBoj7FMX6pCh2JWwbTYrCyow2KIoRVRSXH25makLa\n",
       "0c7LokqY+yhF5EeBlWmcUpS8pvBFzF2c+MIuV52f8tsDvJOZz9JJVmasoimbbR6HIqmhKQm29tsG\n",
       "NuUnb3x8loefVcL5ApcR7B1iLwY0JZ4D6kBL+uvAlRB1X2W6XU6E1SUo7/so+3B+Sb8FU/Z6X2fG\n",
       "A5RZiknsJeIhVJHzG7Guvi6u6DWzVJQ9bPNWNu+fi3lxcfk1K9ykB6eHh5XX4DX84WfExQ1LEqJc\n",
       "xJmdRiwgb11c7YW38AiLtZrzl83OcQwhWIOmhUh69ndXXYj7lFQgXYtttTS70HmFNlu69Jg1ngvj\n",
       "yQdfCKcznSmwwnMUxT259aT7TVu2P1QAkyNehq277g8V6p/9DyWpX7AlDBWIBCMoTqBmHoYKtRRN\n",
       "KYhxYowXMx/KH4h/qcyAPKliGpcAAAAASUVORK5CYII=\n",
       "\" style=\"display:inline;vertical-align:middle;\" /></a></span></td></tr>\n",
       "<tr><td>&nbsp;</td><td colspan=4 style=\"text-align:left\"><span style=\"font-size:20px;\"><a class=\"ProveItLink\" href=\"../../../../../../__pv_it/common/ae955345c83abf786c3aff8681cd5465beae262d0/expr.ipynb\"><img src=\"data:image/png;base64,iVBORw0KGgoAAAANSUhEUgAAAAcAAAAOBAMAAAARcxsoAAAALVBMVEX///8AAAAAAAAAAAAAAAAA\n",
       "AAAAAAAAAAAAAAAAAAAAAAAAAAAAAAAAAAAAAADAOrOgAAAADnRSTlMAdpndiRBmRO8yVM2rIuws\n",
       "s0IAAAAJcEhZcwAADsQAAA7EAZUrDhsAAAA6SURBVAjXY2BgEGIAAhMGdMAqlMDAwMLewMAwi2kD\n",
       "A0MAhwBQcF0AkNjDCpR9zsLAwPngGpB7LIEBALAvCJF4nqyTAAAAAElFTkSuQmCC\n",
       "\" style=\"display:inline;vertical-align:middle;\" /></a> : <a class=\"ProveItLink\" href=\"../../../../__pv_it/common/1943b60945420e340d305780feff5c1aff2740ff0/expr.ipynb\"><img src=\"data:image/png;base64,iVBORw0KGgoAAAANSUhEUgAAAAoAAAAOBAMAAADkjZCYAAAAMFBMVEX///8AAAAAAAAAAAAAAAAA\n",
       "AAAAAAAAAAAAAAAAAAAAAAAAAAAAAAAAAAAAAAAAAAAv3aB7AAAAD3RSTlMAIomZu0QQVHbN72bd\n",
       "Mqv0UZE7AAAACXBIWXMAAA7EAAAOxAGVKw4bAAAATElEQVQI12NgEFJ2ZWBgM2CoL2Dg+M6QP4GB\n",
       "dSkD/wQGIKjfACRYTwMJ3r63DGCRAhDJ9Y2B9wIDy3cG/m8gkusBSIR7A1h9sLErAwDNcRLUUVUn\n",
       "vwAAAABJRU5ErkJggg==\n",
       "\" style=\"display:inline;vertical-align:middle;\" /></a>, <a class=\"ProveItLink\" href=\"../../../../../../__pv_it/common/c06c606ec12678c58933ac85412ecadc2ae28be60/expr.ipynb\"><img src=\"data:image/png;base64,iVBORw0KGgoAAAANSUhEUgAAAAsAAAAJBAMAAAAWSsseAAAAMFBMVEX///8AAAAAAAAAAAAAAAAA\n",
       "AAAAAAAAAAAAAAAAAAAAAAAAAAAAAAAAAAAAAAAAAAAv3aB7AAAAD3RSTlMAIquJdkTvuxBmmd1U\n",
       "zTKBpmoTAAAACXBIWXMAAA7EAAAOxAGVKw4bAAAARUlEQVQI12NgYFR2dGBgYAgTYP/BwMCRycC1\n",
       "gYGB6wMDtwEDA1sBQ38AA0O/A8N8oIr+Awy6PAIM7A48u7iAKlXshPwYAE2lCqdX0eXEAAAAAElF\n",
       "TkSuQmCC\n",
       "\" style=\"display:inline;vertical-align:middle;\" /></a> : <a class=\"ProveItLink\" href=\"../../../__pv_it/theorems/a916c7f29c3abbaa62f0c6124e20bb5f504c28200/expr.ipynb\"><img src=\"data:image/png;base64,iVBORw0KGgoAAAANSUhEUgAAADsAAAAVBAMAAAAKrYvGAAAAMFBMVEX///8AAAAAAAAAAAAAAAAA\n",
       "AAAAAAAAAAAAAAAAAAAAAAAAAAAAAAAAAAAAAAAAAAAv3aB7AAAAD3RSTlMAInZUiRDNmWbv3US7\n",
       "qzJazP2FAAAACXBIWXMAAA7EAAAOxAGVKw4bAAABO0lEQVQoz3WSsUvDQBTGv/TaXhKjzVwQUkFw\n",
       "kgzqHMRJUPIHCMkiuAgdHNzMppsdBZeCimtwc2rq5iZanDM7damz715MubTkhuT3vu/y7r13AeCi\n",
       "ZrHR8OvsF/XY0YTW+1CLGgkpsf5Bu69Hp4BMdKFTOekasCrHjUI9skLsVezDStROcEEvY9LzCuF8\n",
       "4+vf2t/K0fzAGeGr68yKyn/DqBhD15cZzBgPJN5BFg2JGawiz6MCMcA9FT+FHbAoY3SYJGdbmyrb\n",
       "yhClbNOuEbdGEq2VgUoeebidt33FrUV8hBjijdjHt3Bbys6pDgYaVgozwxHgeOJZIqLpriZOn4HK\n",
       "buaQAX6o8s/j9W3YT0STSzDg4GaTKIWdlzPaXYIuYM7vKFgCSoVxedfeIhiqu5Py8rEIjpqv4dX9\n",
       "TD3gD2L4PBeViBXSAAAAAElFTkSuQmCC\n",
       "\" style=\"display:inline;vertical-align:middle;\" /></a>, <a class=\"ProveItLink\" href=\"../../../../../../__pv_it/common/195236b98c6c564a75b5dbada74b173bc52d5c3e0/expr.ipynb\"><img src=\"data:image/png;base64,iVBORw0KGgoAAAANSUhEUgAAAAkAAAAOBAMAAAAPuiubAAAAMFBMVEX///8AAAAAAAAAAAAAAAAA\n",
       "AAAAAAAAAAAAAAAAAAAAAAAAAAAAAAAAAAAAAAAAAAAv3aB7AAAAD3RSTlMAELvv3c2ZVESJq3Yi\n",
       "MmZ3LnoBAAAACXBIWXMAAA7EAAAOxAGVKw4bAAAAT0lEQVQI12NgVHZgAALWBBDJXwAi+wVA5BQQ\n",
       "wRC1ezkDA+NXAfkDDOwfGZg3MLAFMPBPYGCZwNBfAFKeL8DAf4HRjoGB6wET0AjGlXkMDAAVqA7Q\n",
       "GyenWgAAAABJRU5ErkJggg==\n",
       "\" style=\"display:inline;vertical-align:middle;\" /></a> : <a class=\"ProveItLink\" href=\"../../../../../../__pv_it/common/4f5c524ffda87296de1c79b96880123fe2efedd50/expr.ipynb\"><img src=\"data:image/png;base64,iVBORw0KGgoAAAANSUhEUgAAAAsAAAAOBAMAAAALT/umAAAAMFBMVEX///8AAAAAAAAAAAAAAAAA\n",
       "AAAAAAAAAAAAAAAAAAAAAAAAAAAAAAAAAAAAAAAAAAAv3aB7AAAAD3RSTlMAMs3vmVREEIndIqt2\n",
       "u2aBbGR5AAAACXBIWXMAAA7EAAAOxAGVKw4bAAAAWklEQVQI12NgYGBgVHZgAAH+ADCVXwCmOsEk\n",
       "gwoQc+04+BVIJS/g/c7AwG7HwKLAwMDygYGzgYGB+QJDfQIDQ/0BhvdAFfUBDJtYFzDwHmCdwgJU\n",
       "uadx9UEGAKwhEtVeQlhQAAAAAElFTkSuQmCC\n",
       "\" style=\"display:inline;vertical-align:middle;\" /></a></span></td></tr><tr><td><a name=\"0x15ab75f948b19c8e_step2\">2</a></td><td>axiom</td><td></td><td><span style=\"font-size:20px;\"> <a class=\"ProveItLink\" href=\"../../../../../../core_expr_types/tuples/_theory_nbs_/axioms.ipynb#tuple_len_incr\" style=\"text-decoration: none\">&nbsp;&#x22A2;&nbsp;&nbsp;</a><a class=\"ProveItLink\" href=\"../../../../../../core_expr_types/tuples/__pv_it/axioms/31e6c515c8bcc36197a8784e24d8800658bd23ba0/expr.ipynb\"><img src=\"data:image/png;base64,iVBORw0KGgoAAAANSUhEUgAAAbwAAAAWBAMAAABJbjTQAAAAMFBMVEX///8AAAAAAAAAAAAAAAAA\n",
       "AAAAAAAAAAAAAAAAAAAAAAAAAAAAAAAAAAAAAAAAAAAv3aB7AAAAD3RSTlMAq1RmmUTNIjK7EInv\n",
       "3XZ/CtNrAAAACXBIWXMAAA7EAAAOxAGVKw4bAAAFN0lEQVRYw81YYWgcRRR+t7d3t7d7dzkpCFIJ\n",
       "J2oNtYmHxkCK1INoCUr1sP7SUA4UpP3TDQiSquH0j/5Ik6CWNP6om/5QazR3sR4qxXIoIdVaOSVq\n",
       "SAlsVIgSAkehTTmhcd7M7N5cbrYX3T++kNk38+bte9+8NzNvD8CT1hfBB0XIHyUTfFNEaCWCJjK5\n",
       "6KYISr5c+g2MLD4TKf/wQja27H1bjEjpkKNTgiT275TD85a1JKXI3bnXJ7Qzl0jzuxweMQKJTOOY\n",
       "tkTG0lynBI/i2AtyeN6ylvQ+d0fP+Q3d8+Q/bEnhESMQLzYMTe2vkfYI1ynBa5in43J43rKW1Mfd\n",
       "UdN+4V0h/8GMFF6fwB/kzwTC6+Y6JQrSSMnhectaUpm7E/O979Bd+E4KryzwXSK8mMV0ShAkyxv2\n",
       "OFq8ZS23Xo67s8svPKOC7XMyeErOC144zXTI6Xhpefmi18npKWtFapG78zjm985VW5ANnh9ucQ+I\n",
       "88PtKyR/ZmXw0MhMnwyegYfiLIXQD/AuOQJMGTwm+w+Ey0fdwWUfMKM1Idvm4T3rpsps/gesUzii\n",
       "bwD0uPAOLCP96BgpDsjgBTGuPRTCIEQIVoOtV2ShBA8lXXhMtm3SDjtcPMXd+Yms3DegVkDv4aKP\n",
       "03AA9HO3eEJk8+E8691nwQ8Ae2TRI0a01H4ZPAV35R4KIWo5eqO3nYA7DEu1XHh12fZop8PEstyd\n",
       "OZJDVTy9R9e56EmAy6BSBB6JXRVPe+L+3wBjMnjEiI7YaUi/5yGl8LQqUB0CQbH56aH24yVuZ4x6\n",
       "crqybdIFGbzYOBQI28lF34J+FdqyketeL+HzOV2GELkaBjzggVKTRS+E0RtghVduH+mv8NKg4+5h\n",
       "AR6VwfS+z503Cmw9mc6u8Y2r3VixmpOzYMPD4MLTb0CwCkHLGx6bfyjpXHtqjSk37T00Ek5asuSs\n",
       "MIMI4VNyx8+0WTq9vzuM088K8FCm/6ptOEjqbJ0+Mcc4vMSSUyJFbe7OKeJuCm5VTOohcUW/AoHc\n",
       "PezAb95+OvD5x+wak1/HzQq9suihkUK2KDtaEEsvg/AKWadjnRCi9UUHZP4S4KFMzWhliNATlLJP\n",
       "/dFo5xEYIaaovXSQX0V4MlN3ZtELZUGli6lfo4A7M2QRjlusW8hBnaENnR85XWHDO+Adfr80wUMj\n",
       "Y5F0Izxjg18ZqIMQAnlqNHh4cvItAm86LMBDWSybSMLrSyzbCVvWqw1W5mDF2Qx5laeUVuHuHCfO\n",
       "t38x+CfLr2USj6m1N9rzbLmwG8d4LwBn4kvOfAwNnf4Z+v+zDB4aCTzQuPcCt1/bQV6TZTrOR49e\n",
       "y2tFFr1Q15YPooIZ3WvBksuaWrkhnzbg7Y8Ueoy3Qcwp4Ra5O/G8Mw/hKW46vggviV2Xdrs78ENB\n",
       "HqlIi7JFSdVC6VWuU3Lrmwy7wB8ENxaOLGaOHaTwpjkbzRJWL9KGPOa1q3uVu1Act3odA93cnWBG\n",
       "hGe4hcnJNx8TunVyb4RdqiCnhXkzvG5JSe3W2qjjRq/dhCGy0NovJgS2wAv1dZ0FhDeSYmw/sto8\n",
       "jJjavPY1PH3/WhpO0rEn3GIqanJ3JvjAy0dJgGfcM31zsyp066ngvmBqVZAPyb/3oh6/BNCvnKEt\n",
       "X+T6l5MnvL/WMTlZ5hmW7bAYd6ZbSQljODDO3TkjvsRudMNuciwhl0/I4ekeH2sU9kSLHxy+ElN7\n",
       "9GIKQmwrHN2sOCyhZ9jjlCWMIQ1Dgm67iO3/x4gEjVIi3yTwqM1Xuc763L+xEpSxaZn4f0P/ADQw\n",
       "jR6KJAN3AAAAAElFTkSuQmCC\n",
       "\" style=\"display:inline;vertical-align:middle;\" /></a></span></td></tr>\n",
       "<tr><td>&nbsp;</td><td colspan=4 style-\"text-align:left\"><a class=\"ProveItLink\" href=\"../../../../../../core_expr_types/tuples/_theory_nbs_/axioms.ipynb#tuple_len_incr\">proveit.core_expr_types.tuples.tuple_len_incr</a></td></tr><tr><td><a name=\"0x15ab75f948b19c8e_step3\">3</a></td><td>conjecture</td><td></td><td><span style=\"font-size:20px;\"> <a class=\"ProveItLink\" href=\"../nat3/thm_proof.ipynb\" style=\"text-decoration: none\">&nbsp;&#x22A2;&nbsp;&nbsp;</a><a class=\"ProveItLink\" href=\"../../../__pv_it/theorems/460c23cdbd64b08ccacdbdc6b3661919426e237f0/expr.ipynb\"><img src=\"data:image/png;base64,iVBORw0KGgoAAAANSUhEUgAAADMAAAAQBAMAAABJt1qBAAAAMFBMVEX///8AAAAAAAAAAAAAAAAA\n",
       "AAAAAAAAAAAAAAAAAAAAAAAAAAAAAAAAAAAAAAAAAAAv3aB7AAAAD3RSTlMAIomZu0QQVHbN72bd\n",
       "Mqv0UZE7AAAACXBIWXMAAA7EAAAOxAGVKw4bAAAA7ElEQVQY02NgwAA5XzwTGLR+BTAwCCm7osm5\n",
       "sz5gYPvAwMBmwFBfgCr1RkCbgWEBAwPHd4b8CahSzx04BRgOMDCwLmXgh0hx+Jw5CWY83ME4ASQF\n",
       "BPUbQCTrjASorod8F5ogUqynwQKSMBmGhwwOLAEgKd6+t2CBiQwIqctsx6AGgl04AUmKu6BkAZjJ\n",
       "9Q2kec2ZM2eOQKUYnvEBpXgvMLB8B/LZHJB0MeSxAQ3k/waRgroWKsXbAFTJ9QBiIEMHXMoXiHuB\n",
       "UtwboP7ihAfXdCBmBrkq2BgSvGxPwiAyN38BdbChBB6rCjSgoAAA9idClfoHlG4AAAAASUVORK5C\n",
       "YII=\n",
       "\" style=\"display:inline;vertical-align:middle;\" /></a></span></td></tr>\n",
       "<tr><td>&nbsp;</td><td colspan=4 style-\"text-align:left\"><a class=\"ProveItLink\" href=\"../nat3/thm_proof.ipynb\">proveit.numbers.numerals.decimals.nat3</a></td></tr><tr><td><a name=\"0x15ab75f948b19c8e_step4\">4</a></td><td>instantiation</td><td><a href=\"#0x15ab75f948b19c8e_step6\">6</a></td><td><span style=\"font-size:20px;\"> <a class=\"ProveItLink\" href=\"../../../__pv_it/_proof_tuple_len_4/7666f1191530c58635f5b1117e10b48dbe672b860/proof.ipynb\" style=\"text-decoration: none\">&nbsp;&#x22A2;&nbsp;&nbsp;</a><a class=\"ProveItLink\" href=\"../../../__pv_it/theorems/e55d1a89b9147a791bffb1c62bb19ef6e4f2c1b40/expr.ipynb\"><img src=\"data:image/png;base64,iVBORw0KGgoAAAANSUhEUgAAAOMAAAAVBAMAAABGa0R7AAAAMFBMVEX///8AAAAAAAAAAAAAAAAA\n",
       "AAAAAAAAAAAAAAAAAAAAAAAAAAAAAAAAAAAAAAAAAAAv3aB7AAAAD3RSTlMAIolEdjJUEM2ZZu/d\n",
       "u6v6CvZmAAAACXBIWXMAAA7EAAAOxAGVKw4bAAACsUlEQVRIx5WWPWgUQRTH313udrO3e8kVKU85\n",
       "onYiW9gpZANGwcYrtLNY0mi5hYUWutcJghKsvGDw2qTxIJ2CBkElEMgJdhaeQURUTEQxh8355s3O\n",
       "3OxuXkhesfdm9r3/b+fjzRzUgCz5yZt8UThg936mU46RUwq5wNP0LPqZbpl2/jBIrSRz541X9oc1\n",
       "o1Xq8EirAVB+m/QU2vebHK0wveSPlCjXbpkB4wtm6y6PvAlw59Fu0nMEir855C2w/o6UKNfpmAGT\n",
       "qVle5pGLYhYU8hPAcw55KbQHIyXKdVMBM5HZciMW2TWRLyPY5jbhGR8GIyXKvZ4KOJlqjXc4pNUy\n",
       "kT8AttnFBOvfSImQD8USb80G8vWDc1+SwOMXm1Dsc0inYSLRNvntehZxSomQ98Tga1WZbQ+iWM5Q\n",
       "PXR6UGkppLNB1ldI+moDWf7DEi//xAlQSoR8g6Bn4MjisHbBleN9JRyry43SC9NIr8+PUuxYpUTI\n",
       "VRzCDngNeuu0YJI8h9TKOxzS9dPIpf0OAtxdSkkh3R7EUhfJM1Qm2IU21j0gssIP8grAx1ArqYmN\n",
       "A3iqy/IJlUlM02utcWuZmdh5KHBFMowEUikR8j3qh/DVqtkC2cR1JQe3hw+VHjfKapAgbVqABpQi\n",
       "O48TX/+CJlYpEfKUyLfWHYhxU010qgvk4HYtNmUp7ImUm/4XUDDU2+3H5ImDRj50a4XqUikR8iq+\n",
       "+nzi6Bx4eEjbW3iQCQemVy6g53PIMk7UxPfBNxm8ORwOpLcOycMTh/UGDnOsjce6ViKkp4+Nazmn\n",
       "zp+xr3PBhqfLI8oqUW5F3x2NnLPII5dzwYanrAhZJXlfvlN3ZZB1Cj0eWa1lgg1P2w3IKknkbXUh\n",
       "Q9aRsnsj7V4m2PC0BTmlOfkFAVfFs1Iqe0fItKnD/BFRSv8BkxCz2gPEtcsAAAAASUVORK5CYII=\n",
       "\" style=\"display:inline;vertical-align:middle;\" /></a></span></td></tr>\n",
       "<tr><td>&nbsp;</td><td colspan=4 style=\"text-align:left\"><span style=\"font-size:20px;\"><a class=\"ProveItLink\" href=\"../../../../../../__pv_it/common/c06c606ec12678c58933ac85412ecadc2ae28be60/expr.ipynb\"><img src=\"data:image/png;base64,iVBORw0KGgoAAAANSUhEUgAAAAsAAAAJBAMAAAAWSsseAAAAMFBMVEX///8AAAAAAAAAAAAAAAAA\n",
       "AAAAAAAAAAAAAAAAAAAAAAAAAAAAAAAAAAAAAAAAAAAv3aB7AAAAD3RSTlMAIquJdkTvuxBmmd1U\n",
       "zTKBpmoTAAAACXBIWXMAAA7EAAAOxAGVKw4bAAAARUlEQVQI12NgYFR2dGBgYAgTYP/BwMCRycC1\n",
       "gYGB6wMDtwEDA1sBQ38AA0O/A8N8oIr+Awy6PAIM7A48u7iAKlXshPwYAE2lCqdX0eXEAAAAAElF\n",
       "TkSuQmCC\n",
       "\" style=\"display:inline;vertical-align:middle;\" /></a> : <a class=\"ProveItLink\" href=\"../../../../../../__pv_it/common/c06c606ec12678c58933ac85412ecadc2ae28be60/expr.ipynb\"><img src=\"data:image/png;base64,iVBORw0KGgoAAAANSUhEUgAAAAsAAAAJBAMAAAAWSsseAAAAMFBMVEX///8AAAAAAAAAAAAAAAAA\n",
       "AAAAAAAAAAAAAAAAAAAAAAAAAAAAAAAAAAAAAAAAAAAv3aB7AAAAD3RSTlMAIquJdkTvuxBmmd1U\n",
       "zTKBpmoTAAAACXBIWXMAAA7EAAAOxAGVKw4bAAAARUlEQVQI12NgYFR2dGBgYAgTYP/BwMCRycC1\n",
       "gYGB6wMDtwEDA1sBQ38AA0O/A8N8oIr+Awy6PAIM7A48u7iAKlXshPwYAE2lCqdX0eXEAAAAAElF\n",
       "TkSuQmCC\n",
       "\" style=\"display:inline;vertical-align:middle;\" /></a>, <a class=\"ProveItLink\" href=\"../../../../../../__pv_it/common/195236b98c6c564a75b5dbada74b173bc52d5c3e0/expr.ipynb\"><img src=\"data:image/png;base64,iVBORw0KGgoAAAANSUhEUgAAAAkAAAAOBAMAAAAPuiubAAAAMFBMVEX///8AAAAAAAAAAAAAAAAA\n",
       "AAAAAAAAAAAAAAAAAAAAAAAAAAAAAAAAAAAAAAAAAAAv3aB7AAAAD3RSTlMAELvv3c2ZVESJq3Yi\n",
       "MmZ3LnoBAAAACXBIWXMAAA7EAAAOxAGVKw4bAAAAT0lEQVQI12NgVHZgAALWBBDJXwAi+wVA5BQQ\n",
       "wRC1ezkDA+NXAfkDDOwfGZg3MLAFMPBPYGCZwNBfAFKeL8DAf4HRjoGB6wET0AjGlXkMDAAVqA7Q\n",
       "GyenWgAAAABJRU5ErkJggg==\n",
       "\" style=\"display:inline;vertical-align:middle;\" /></a> : <a class=\"ProveItLink\" href=\"../../../../../../__pv_it/common/195236b98c6c564a75b5dbada74b173bc52d5c3e0/expr.ipynb\"><img src=\"data:image/png;base64,iVBORw0KGgoAAAANSUhEUgAAAAkAAAAOBAMAAAAPuiubAAAAMFBMVEX///8AAAAAAAAAAAAAAAAA\n",
       "AAAAAAAAAAAAAAAAAAAAAAAAAAAAAAAAAAAAAAAAAAAv3aB7AAAAD3RSTlMAELvv3c2ZVESJq3Yi\n",
       "MmZ3LnoBAAAACXBIWXMAAA7EAAAOxAGVKw4bAAAAT0lEQVQI12NgVHZgAALWBBDJXwAi+wVA5BQQ\n",
       "wRC1ezkDA+NXAfkDDOwfGZg3MLAFMPBPYGCZwNBfAFKeL8DAf4HRjoGB6wET0AjGlXkMDAAVqA7Q\n",
       "GyenWgAAAABJRU5ErkJggg==\n",
       "\" style=\"display:inline;vertical-align:middle;\" /></a>, <a class=\"ProveItLink\" href=\"../../../../../../__pv_it/common/ceef4280a2f1cc604b455b54e735507244cc62cd0/expr.ipynb\"><img src=\"data:image/png;base64,iVBORw0KGgoAAAANSUhEUgAAAAkAAAAJBAMAAAASvxsjAAAAKlBMVEX///8AAAAAAAAAAAAAAAAA\n",
       "AAAAAAAAAAAAAAAAAAAAAAAAAAAAAAAAAADmU0mKAAAADXRSTlMAiXZmMiLdVJm77xBEs3/oGgAA\n",
       "AAlwSFlzAAAOxAAADsQBlSsOGwAAADZJREFUCNdjYGAQUnZgYAgr4JjAwJDIwKXAwHGbAQi4JoDI\n",
       "vQogkteAgeEAA1ABI1CloLE2AwDCNQb+PNXqTgAAAABJRU5ErkJggg==\n",
       "\" style=\"display:inline;vertical-align:middle;\" /></a> : <a class=\"ProveItLink\" href=\"../../../../../../__pv_it/common/ceef4280a2f1cc604b455b54e735507244cc62cd0/expr.ipynb\"><img src=\"data:image/png;base64,iVBORw0KGgoAAAANSUhEUgAAAAkAAAAJBAMAAAASvxsjAAAAKlBMVEX///8AAAAAAAAAAAAAAAAA\n",
       "AAAAAAAAAAAAAAAAAAAAAAAAAAAAAAAAAADmU0mKAAAADXRSTlMAiXZmMiLdVJm77xBEs3/oGgAA\n",
       "AAlwSFlzAAAOxAAADsQBlSsOGwAAADZJREFUCNdjYGAQUnZgYAgr4JjAwJDIwKXAwHGbAQi4JoDI\n",
       "vQogkteAgeEAA1ABI1CloLE2AwDCNQb+PNXqTgAAAABJRU5ErkJggg==\n",
       "\" style=\"display:inline;vertical-align:middle;\" /></a></span></td></tr><tr><td><a name=\"0x15ab75f948b19c8e_step5\">5</a></td><td>conjecture</td><td></td><td><span style=\"font-size:20px;\"> <a class=\"ProveItLink\" href=\"../add_3_1/thm_proof.ipynb\" style=\"text-decoration: none\">&nbsp;&#x22A2;&nbsp;&nbsp;</a><a class=\"ProveItLink\" href=\"../../../__pv_it/theorems/e527e70e7c6b3b4f50652871d571f5b978836f3d0/expr.ipynb\"><img src=\"data:image/png;base64,iVBORw0KGgoAAAANSUhEUgAAAGEAAAAVBAMAAACkm51HAAAAMFBMVEX///8AAAAAAAAAAAAAAAAA\n",
       "AAAAAAAAAAAAAAAAAAAAAAAAAAAAAAAAAAAAAAAAAAAv3aB7AAAAD3RSTlMAInZUiRDNmWbv3US7\n",
       "qzJazP2FAAAACXBIWXMAAA7EAAAOxAGVKw4bAAABR0lEQVQ4y2NgYBBgwA5wiTMwGeCQ2IRLhwkD\n",
       "g4j7aTRBvqVAoxowFfMVMDCwJjCwFjDYo1oUW/YVSKZi6uC6wMDA3sDA9JkhPgEisgPmVJCOdkwd\n",
       "WkAdnAwM3LMZ+KE6jJB1cAZgOKoNqMMMzLRvwKKDDcMjLGxAHSUgFvcKBiw6WC6g61AE6cgAWaZ7\n",
       "D5sODrBT2VeBAUg3YwNIx2KIqwyw6GCegO4oBpCO2WA2J0hF1apVM1etWgvXwfcBTUcjTAffAwae\n",
       "z1js4Eazg1GBAeoq/q/YdTAvQPUH99279+c6MBwCOukCxFUYPj+AEYNApQy+QJkGjPhg+Qgy3QFD\n",
       "Bz/QkFdAenv5adTQ5b357QYwEW1A18B+/q8CA9cDZCEjZI4U9sTOUYDM24HMqcCRPw7iyjiMB3BI\n",
       "xODSwYMr2wLjBTtQxC4MACvjWGiL35q+AAAAAElFTkSuQmCC\n",
       "\" style=\"display:inline;vertical-align:middle;\" /></a></span></td></tr>\n",
       "<tr><td>&nbsp;</td><td colspan=4 style-\"text-align:left\"><a class=\"ProveItLink\" href=\"../add_3_1/thm_proof.ipynb\">proveit.numbers.numerals.decimals.add_3_1</a></td></tr><tr><td><a name=\"0x15ab75f948b19c8e_step6\">6</a></td><td>conjecture</td><td></td><td><span style=\"font-size:20px;\"> <a class=\"ProveItLink\" href=\"../tuple_len_3_typical_eq/thm_proof.ipynb\" style=\"text-decoration: none\">&nbsp;&#x22A2;&nbsp;&nbsp;</a><a class=\"ProveItLink\" href=\"../../../__pv_it/theorems/864de063a1f6f21e5cb5a312c6a6ae9e6abea9a90/expr.ipynb\"><img src=\"data:image/png;base64,iVBORw0KGgoAAAANSUhEUgAAAS4AAAAWBAMAAACMMGwEAAAAMFBMVEX///8AAAAAAAAAAAAAAAAA\n",
       "AAAAAAAAAAAAAAAAAAAAAAAAAAAAAAAAAAAAAAAAAAAv3aB7AAAAD3RSTlMAq1RmmUTNIjK7EInv\n",
       "3XZ/CtNrAAAACXBIWXMAAA7EAAAOxAGVKw4bAAAD3UlEQVRIx8VWTWgTQRR+bjY/u9ndRBEVijYg\n",
       "eLBqAxZBDzWQCEpRA3oUTfEgenF7FK3Eu6W5SEFE9iRIwaT+oCBqQApSFYM/KEpxaw8tHlQKVuhB\n",
       "fW92JtnNdkI9OYHJtzPvm/ftmzdvB6Bzi+OPNVtmYXO7lQ139sWZK2B9gWSR/q2MzOI46z0rX7vH\n",
       "6f/Qoi5nEkgT3CwzVWrcY49vUL/W8D1ZWbkupAOMODwchdNlqabzd68AzAomgn0ET8nMb3CPesk/\n",
       "Gsv5n87IdSFdX3uW6zoHyZ8yP3oOejMQczgTwSV6k4rMPs89qln/aCqwqX1yXXnqvnNd6wFeyPxY\n",
       "C1AtQSTHmQhIY1KaPHXu0QiMnnD8T4Yj1VX363rlQLfs9EQnIYVbMiWYUxDBSMSk6VXiHrcEhh8F\n",
       "nmJZmS6l5Ne1EaBbnmDQi8ucFEwEL6enn8ts1Rr3OEC73TXnHRgY/LaGGzyeLUMyLdNF9JYubJ87\n",
       "HMY32E0IJoL9AFdlxhQK5pFe5JitLXlJuuhUvQ0ZzqgViJSELnWatbRYnUXSpyvxWyorMbMB+12C\n",
       "iWAI4unm7OmgtZnhHl+jmqegevVBWQLDi9wnAkpdFi8zE9RlpjtULzyPsE0wEWiOb82uoK1R5B4n\n",
       "MRg/wKx5u1uCFEMqi1/ih0yXUQzqOtCpqhq42KhgIlBcX9o/k+syKlD1nKO8EywSBqsv0foKdUXk\n",
       "4UqUQVvAVBFMAqV+7Mb777MEmGGHftYN72PVhb3N8nWY+aoyM6Uhy6+2feyBuKxOpJaYru2CSeA2\n",
       "Fmz9feIXlbePFpW2d4m6Z6653ON1FJGBdYqt0yJlzDUGMK+LEKnI4qW5QhdJS9TAcvSwJpoz0mwf\n",
       "dwsmgQv4fmqOSdGydLjUis7rDJUA5nGCnChvVarKsCqr5RjAw5gse9VgWV2sgsATG08wHd5C4SCj\n",
       "sY4NNQFWUapfA4JJYFWZMsGiNYyymhZpwba9wT2OIH/Tg6F5MD8i6sLvCwF4uPMroqJMF9Fh9avB\n",
       "LExjUD7/+bPo0UzalLcC0BwcLVyhjRLMd3yVqq3twekUGJgSqVYWfOAezWah3hoCw/Lv44fmh8MJ\n",
       "0SA8F29wZlxcWAx79IgzDqazG8YhVoRa65vMPEaaN4haCOTluvrEUxJCNAjPebeDe75rQjS/4w5c\n",
       "ziQOudjH8/3iFTSbexwTFxK3HXiXkeV1aSLyt6Cd1mrNObwJcea5oEXG1/NlKtzjTXEhgXbg+V5e\n",
       "ly4uUG6I1motpWOCORb8dDqtXrSLYLHUiruykjjn+Wu/Kcxz+j80y+ZMK1jmIr7+f7e/DKgYwj0/\n",
       "9P0AAAAASUVORK5CYII=\n",
       "\" style=\"display:inline;vertical-align:middle;\" /></a></span></td></tr>\n",
       "<tr><td>&nbsp;</td><td colspan=4 style-\"text-align:left\"><a class=\"ProveItLink\" href=\"../tuple_len_3_typical_eq/thm_proof.ipynb\">proveit.numbers.numerals.decimals.tuple_len_3_typical_eq</a></td></tr><tr><td colspan=4 style=\"text-align:left\"><sup>*</sup>equality replacement requirements</td></tr></table>"
      ],
      "text/plain": [
       "\tstep type\trequirements\tstatement\n",
       "0\tgeneralization\t1\t|- forall_{a, b, c, d} (|(a, b, c, d)| = 4)\n",
       "1\tinstantiation\t2, 3, 4, 5*\t|- |(a, b, c, d)| = 4\n",
       "\ti : 3, a : (a, b, c), b : d\n",
       "2\taxiom\t\t|- forall_{i in Natural} [forall_{a_{1}, a_{2}, ..., a_{i}, b} (|(a_{1}, a_{2}, ..., a_{i}, b)| = (i + 1))]\n",
       "\tproveit.core_expr_types.tuples.tuple_len_incr\n",
       "3\tconjecture\t\t|- 3 in Natural\n",
       "\tproveit.numbers.numerals.decimals.nat3\n",
       "4\tinstantiation\t6\t|- |(a, b, c)| = |(1, 2, ..., 3)|\n",
       "\ta : a, b : b, c : c\n",
       "5\tconjecture\t\t|- (3 + 1) = 4\n",
       "\tproveit.numbers.numerals.decimals.add_3_1\n",
       "6\tconjecture\t\t|- forall_{a, b, c} (|(a, b, c)| = |(1, 2, ..., 3)|)\n",
       "\tproveit.numbers.numerals.decimals.tuple_len_3_typical_eq"
      ]
     },
     "execution_count": 5,
     "metadata": {},
     "output_type": "execute_result"
    }
   ],
   "source": [
    "%qed"
   ]
  }
 ],
 "metadata": {
  "kernelspec": {
   "display_name": "Python 3",
   "language": "python",
   "name": "python3"
  }
 },
 "nbformat": 4,
 "nbformat_minor": 0
}