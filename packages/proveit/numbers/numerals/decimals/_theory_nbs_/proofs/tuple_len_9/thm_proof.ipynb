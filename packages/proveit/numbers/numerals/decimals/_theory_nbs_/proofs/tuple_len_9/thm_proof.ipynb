{
 "cells": [
  {
   "cell_type": "markdown",
   "metadata": {},
   "source": [
    "Proof of <a class=\"ProveItLink\" href=\"../../../../../../_theory_nbs_/theory.ipynb\">proveit</a>.<a class=\"ProveItLink\" href=\"../../../../../_theory_nbs_/theory.ipynb\">numbers</a>.<a class=\"ProveItLink\" href=\"../../../../_theory_nbs_/theory.ipynb\">numerals</a>.<a class=\"ProveItLink\" href=\"../../theory.ipynb\">decimals</a>.<a class=\"ProveItLink\" href=\"../../theorems.ipynb#tuple_len_9\">tuple_len_9</a> theorem\n",
    "========"
   ]
  },
  {
   "cell_type": "code",
   "execution_count": 1,
   "metadata": {},
   "outputs": [],
   "source": [
    "import proveit\n",
    "theory = proveit.Theory() # the theorem's theory"
   ]
  },
  {
   "cell_type": "code",
   "execution_count": 2,
   "metadata": {},
   "outputs": [
    {
     "data": {
      "text/html": [
       "With these <a href=\"allowed_presumptions.txt\">allowed</a>/<a href=\"disallowed_presumptions.txt\">disallowed</a> theorem/theory presumptions (e.g., to avoid circular dependencies), we begin our proof of<br><strong id=\"tuple_len_9\">tuple_len_9:</strong> <a class=\"ProveItLink\" href=\"../../../__pv_it/theorems/a9c5c1237d964b2e982b8ef61047618a6783d8ae0/expr.ipynb\"><img src=\"data:image/png;base64,iVBORw0KGgoAAAANSUhEUgAAAYMAAAAWBAMAAADQlu1lAAAAMFBMVEX///8AAAAAAAAAAAAAAAAA\n",
       "AAAAAAAAAAAAAAAAAAAAAAAAAAAAAAAAAAAAAAAAAAAv3aB7AAAAD3RSTlMAq1RmmUTNIjK7EInv\n",
       "3XZ/CtNrAAAACXBIWXMAAA7EAAAOxAGVKw4bAAAFLElEQVRYw81XXWgcVRQ+Ozu7O3P3V4WipsQJ\n",
       "hQr1pyspgoLblSgK0nTBFxW1KwqiSJjgo2kz6oMvkUTz4A/STqVUJdVNa6qW6jZUpNWgpKJYK4Gp\n",
       "DTS2moaWxJiH4D33njuZzewm4KbgXZh77vm5c75zzzlzF2Bths1/OBKw9mOlne01e0vGgsOC+P0q\n",
       "QHhSPJOlRrIcEhuafcstICFowwEme288rGm8UAzx9KNuLSNoOQmZfH0I993rCtn9uHi2SQSsTBD2\n",
       "17DjxTq6WSvEOti3nBew/A3g+boQPvaME0L2MqbZQJMQ9DxB6FjNW4Adboh1/FF3RZxb6kJYD/CO\n",
       "kMW5ddJqEkIKCMLoat4CfBXixBZWwZly60GYAzjmoizKAxhvthQ2EgStvIq3fDwT4iTHV8EZz9eB\n",
       "wP4BuFQSsu8nJsaahfAQQdCxmruru4j91PS1RFXPObIztkxdJg+qkxTp6PpTlPla9XyecG44Itsl\n",
       "m+ScZK7RKeSF7EGAd/+r6x/Q/DRBwJDETsAe6RybcyvSkZ2WLsvtcdukrHnCMVT3ynpEfAY9A2Rp\n",
       "R3LyhGI8N6NlH8K2CRynqBb2eELWDYmc3/Geq/HwmBNY7AuU6j300iqtfyQIaV5UB/KwjYK6ACmP\n",
       "uook2Negy1xLXIGMCmuv4+sTGm0eIhLMK6ivjdY7hQMl4yZLyEw3IGypUeoNLgYfCdSXU7vbNwQh\n",
       "xXfaLvqg6FNlyIpI66pe9RlIy9ibi9OHlfVmtWsO+m1lSXouYjdm6kFgnYcuOUKmeYFqPlmj9Edw\n",
       "EWwbPdAYwrfAZiWXe7FD9LqUatqcqEhPsrlw7fZb8KdvqY5mM0/K2GiDrzPvSEJWLvDHUOFzTKTF\n",
       "s6J/nfMEqwvEJEqsbUx4UxCiO9rfFl/3XDiR2CJEZ/zmvl1URUUlOye2Lst/Pt6geautSI7zS9US\n",
       "GI/yeL1aAPFdELJD/APHfjH+xqvOmQw2h5+NUcGax+M6Le8gURHJTNHE1To4iyJPncxugmB6wC5D\n",
       "pHwzoOtZh+c+Q4IHoYRExYJ1ms1knMECWfY/YMIgBGBXFAVjUaHHZpP07tAp3OqyeZL1cKf0InoN\n",
       "Zh4LXB9gjmBhNCO5l8Qp6KLx9bqiR58UbTTxvmroBwkCdrjdcFuxyObQNG8WoSI2hKSDhOlpP+mC\n",
       "xd+zzxZakJjFFoQA7ciCpG4AmE8KPWPmRerVIQh/uWaeZBEHkziTE2Wq52RGCxYCTHVskvUngNwJ\n",
       "WV5wiVGROhh0OV4nCAbHtPfia60OTPBgshbexNJnOP9o+wVBsNYvuqck62I7N0Yt0DBSSMVaR8Yl\n",
       "NcjlntS7jr83XaoHITmC97u0Ylds825umoUUz/isTawLrlqoJjQCfSKpEjO4rHxI5mmHLhin1f6a\n",
       "f0PYFCKWKKGFUSN9vN0tWfp6OxtftqVMOGj3P+wOQdq9C4YgXoLhIWS9ylmmBcOMH1bFBT61wTVc\n",
       "IeJFc8jcqJN5tEgQtvgh8t8xHCKWKNRqi1uSMm6Efido6et1rADB/1rFOm7/FPoso9Pjz0RHwe2z\n",
       "iMU6C65xHDD6fNKnuzjPtBMtyNx7Xtm/RRBM9S/qE797e8uJAIVav+4nKvId6wpa+nryIl0fwvJL\n",
       "thV60qTJ+Gryy0EiLWD5EUFgakffy0yICFCoVXiAKF4KpaClryfjUh+CWfvPM+Yuf6rpMXjzepyM\n",
       "8UxZ8TgzEAwPpgSx6yr88ZRnnXEay/wRDT3VlIcqBiefGBxxFQ/y8P8Y/wLH5IQS2Qx2KwAAAABJ\n",
       "RU5ErkJggg==\n",
       "\" style=\"display:inline;vertical-align:middle;\" /></a><br>(see <a class=\"ProveItLink\" href=\"../../../__pv_it/theorems/8a683ebfdc3afc6cfde82198b926e5af6aaf3b490/dependencies.ipynb\">dependencies</a>)<br>"
      ],
      "text/plain": [
       "<IPython.core.display.HTML object>"
      ]
     },
     "metadata": {},
     "output_type": "display_data"
    }
   ],
   "source": [
    "%proving tuple_len_9"
   ]
  },
  {
   "cell_type": "code",
   "execution_count": null,
   "metadata": {},
   "outputs": [],
   "source": []
  }
 ],
 "metadata": {
  "kernelspec": {
   "display_name": "Python 3",
   "language": "python",
   "name": "python3"
  }
 },
 "nbformat": 4,
 "nbformat_minor": 0
}