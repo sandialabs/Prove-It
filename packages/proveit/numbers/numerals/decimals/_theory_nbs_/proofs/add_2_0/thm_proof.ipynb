{
 "cells": [
  {
   "cell_type": "markdown",
   "metadata": {},
   "source": [
    "Proof of <a class=\"ProveItLink\" href=\"../../../../../../_theory_nbs_/theory.ipynb\">proveit</a>.<a class=\"ProveItLink\" href=\"../../../../../_theory_nbs_/theory.ipynb\">numbers</a>.<a class=\"ProveItLink\" href=\"../../../../_theory_nbs_/theory.ipynb\">numerals</a>.<a class=\"ProveItLink\" href=\"../../theory.ipynb\">decimals</a>.<a class=\"ProveItLink\" href=\"../../theorems.ipynb#add_2_0\">add_2_0</a> theorem\n",
    "========"
   ]
  },
  {
   "cell_type": "code",
   "execution_count": 1,
   "metadata": {},
   "outputs": [],
   "source": [
    "import proveit\n",
    "theory = proveit.Theory() # the theorem's theory"
   ]
  },
  {
   "cell_type": "code",
   "execution_count": 2,
   "metadata": {},
   "outputs": [
    {
     "data": {
      "text/html": [
       "With these <a href=\"allowed_presumptions.txt\">allowed</a>/<a href=\"disallowed_presumptions.txt\">disallowed</a> theorem/theory presumptions (e.g., to avoid circular dependencies), we begin our proof of<br><strong id=\"add_2_0\">add_2_0:</strong> <a class=\"ProveItLink\" href=\"../../../__pv_it/theorems/0a3a4471b349dd701295672df083aaf71139bb5e0/expr.ipynb\"><img src=\"data:image/png;base64,iVBORw0KGgoAAAANSUhEUgAAAGEAAAAVBAMAAACkm51HAAAAMFBMVEX///8AAAAAAAAAAAAAAAAA\n",
       "AAAAAAAAAAAAAAAAAAAAAAAAAAAAAAAAAAAAAAAAAAAv3aB7AAAAD3RSTlMAInZUiRDNmWbv3US7\n",
       "qzJazP2FAAAACXBIWXMAAA7EAAAOxAGVKw4bAAABfElEQVQ4y3WTv0vDQBTHP2kbbaspcRLEoQ7i\n",
       "JAQRVzs4KuYPcOgiODg4SCPi0E0UxK5F0IqDEBCLk5vVWUVXl3ZwcqmKPwbBeEkckkvvCLn3vi+f\n",
       "9+7l7gCT3kOlk7IUgQsVMQ3DlXtJnJswSVXlTzVntQN6Ga3FYjMW6rP0Y1iWiVEyP9BfxTDJ1ULt\n",
       "Mpx2YR62ZeIR6pATzyfGW6hNhdMdzNrkbIk4smmbzIDRwPiNEd/QteiTG3mCdof1wM6/RgndJ6pk\n",
       "HpL/6RxWAqNbjBLaR6Bky77T7wYjpAvvcBJYZySIEulaokRegAdBnpb/3nTduusKWBfEVZHCa4LY\n",
       "4p/YA7nzWYuBRI2svzZ/VekSQzHiFvZt0g25j2k0kxthPMN4jNiBisjYkkoUSqRsFkSjp47TiBF5\n",
       "Sz8U2UsSMeI4m/Ai4p7nlWOEvj4pjly+KW+G530JuRPVpmIpex/27FrUu4w6G4r7ca26OFpLEVhS\n",
       "EYOqa6sVFYGx3vIfRIpfV0ky7f0AAAAASUVORK5CYII=\n",
       "\" style=\"display:inline;vertical-align:middle;\" /></a><br>(see <a class=\"ProveItLink\" href=\"../../../__pv_it/theorems/0da16323198ab3d7374a89a3b5d4027258c137df0/dependencies.ipynb\">dependencies</a>)<br>"
      ],
      "text/plain": [
       "<IPython.core.display.HTML object>"
      ]
     },
     "metadata": {},
     "output_type": "display_data"
    },
    {
     "name": "stdout",
     "output_type": "stream",
     "text": [
      "add_2_0 may now be readily provable (assuming required theorems are usable).  Simply execute \"%qed\".\n"
     ]
    }
   ],
   "source": [
    "%proving add_2_0"
   ]
  },
  {
   "cell_type": "code",
   "execution_count": null,
   "metadata": {},
   "outputs": [],
   "source": []
  }
 ],
 "metadata": {
  "kernelspec": {
   "display_name": "Python 3",
   "language": "python",
   "name": "python3"
  }
 },
 "nbformat": 4,
 "nbformat_minor": 0
}