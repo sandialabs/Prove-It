{
 "cells": [
  {
   "cell_type": "markdown",
   "metadata": {},
   "source": [
    "Proof of <a class=\"ProveItLink\" href=\"../../../../../../_theory_nbs_/theory.ipynb\">proveit</a>.<a class=\"ProveItLink\" href=\"../../../../../_theory_nbs_/theory.ipynb\">numbers</a>.<a class=\"ProveItLink\" href=\"../../../../_theory_nbs_/theory.ipynb\">numerals</a>.<a class=\"ProveItLink\" href=\"../../theory.ipynb\">decimals</a>.<a class=\"ProveItLink\" href=\"../../theorems.ipynb#mult_6_6\">mult_6_6</a> theorem\n",
    "========"
   ]
  },
  {
   "cell_type": "code",
   "execution_count": 1,
   "metadata": {},
   "outputs": [],
   "source": [
    "import proveit\n",
    "theory = proveit.Theory() # the theorem's theory"
   ]
  },
  {
   "cell_type": "code",
   "execution_count": 2,
   "metadata": {},
   "outputs": [
    {
     "data": {
      "text/html": [
       "With these <a href=\"allowed_presumptions.txt\">allowed</a>/<a href=\"disallowed_presumptions.txt\">disallowed</a> theorem/theory presumptions (e.g., to avoid circular dependencies), we begin our proof of<br><strong id=\"mult_6_6\">mult_6_6:</strong> <a class=\"ProveItLink\" href=\"../../../__pv_it/theorems/6a84dbb75c240400e0a5332334708ee92147395f0/expr.ipynb\"><img src=\"data:image/png;base64,iVBORw0KGgoAAAANSUhEUgAAAGEAAAAVBAMAAACkm51HAAAAMFBMVEX///8AAAAAAAAAAAAAAAAA\n",
       "AAAAAAAAAAAAAAAAAAAAAAAAAAAAAAAAAAAAAAAAAAAv3aB7AAAAD3RSTlMAInZUiRDNmWbv3US7\n",
       "qzJazP2FAAAACXBIWXMAAA7EAAAOxAGVKw4bAAABiElEQVQ4y32TP0jDQBTGvzbGpG20Tg5OdXK0\n",
       "g7i2SMBJySIiCC2CUBCkg1D/QjbdLIguUiy4CUJw06mKiyLoLChFnBykUCxFh/qud8ZyF3KQkPt+\n",
       "97177/IOwBCUESD1jGha1S5CHRP02Hbdn/fZs4i68qqIve1xBj0PDHsDVR+t4BlYlh3z0JqCGRRu\n",
       "CVbtD/Wn8ADsyo7xtN4SLAZoXz0o47B3zJEclx5agk0CVrkH3fGdlEKgtQVbo4CrU1s+OHofYyU+\n",
       "KY4rV7ACkCwg5h9xy8UBYObZ9+YZG+dd/e2lLtgpkGvAOBQGvQNsONDKalZNwY7JUYX5Q1qOAuvf\n",
       "wL6HwYb6407mOCNHMg+zTVK8yLIi1UVC3uMTeExzRllZYo/uuO/G0apSHR2HHJzdUIZUhx8zQ7lS\n",
       "5TVpjwpl5XA2Q9NbLPhnZWV1Og8jKzn22P/g7IM1X+n1n03vUFfGPcmRKLFO5Kwe1NAjIc1uFoPU\n",
       "9bD7cR2gRWphjsUAzQq9tpGUqo2GrP8FCx5ux4fyaVQAAAAASUVORK5CYII=\n",
       "\" style=\"display:inline;vertical-align:middle;\" /></a><br>(see <a class=\"ProveItLink\" href=\"../../../__pv_it/theorems/5f955d90466c0d3b4dbe6cadd6cce53d7b4c5b5c0/dependencies.ipynb\">dependencies</a>)<br>"
      ],
      "text/plain": [
       "<IPython.core.display.HTML object>"
      ]
     },
     "metadata": {},
     "output_type": "display_data"
    },
    {
     "name": "stdout",
     "output_type": "stream",
     "text": [
      "mult_6_6 may now be readily provable (assuming required theorems are usable).  Simply execute \"%qed\".\n"
     ]
    }
   ],
   "source": [
    "%proving mult_6_6"
   ]
  },
  {
   "cell_type": "code",
   "execution_count": null,
   "metadata": {},
   "outputs": [],
   "source": []
  }
 ],
 "metadata": {
  "kernelspec": {
   "display_name": "Python 3",
   "language": "python",
   "name": "python3"
  }
 },
 "nbformat": 4,
 "nbformat_minor": 0
}