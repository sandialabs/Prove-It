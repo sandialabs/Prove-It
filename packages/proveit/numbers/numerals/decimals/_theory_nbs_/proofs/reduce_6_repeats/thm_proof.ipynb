{
 "cells": [
  {
   "cell_type": "markdown",
   "metadata": {},
   "source": [
    "Proof of <a class=\"ProveItLink\" href=\"../../../../../../_theory_nbs_/theory.ipynb\">proveit</a>.<a class=\"ProveItLink\" href=\"../../../../../_theory_nbs_/theory.ipynb\">numbers</a>.<a class=\"ProveItLink\" href=\"../../../../_theory_nbs_/theory.ipynb\">numerals</a>.<a class=\"ProveItLink\" href=\"../../theory.ipynb\">decimals</a>.<a class=\"ProveItLink\" href=\"../../theorems.ipynb#reduce_6_repeats\">reduce_6_repeats</a> theorem\n",
    "========"
   ]
  },
  {
   "cell_type": "code",
   "execution_count": 1,
   "metadata": {},
   "outputs": [],
   "source": [
    "import proveit\n",
    "theory = proveit.Theory() # the theorem's theory"
   ]
  },
  {
   "cell_type": "code",
   "execution_count": 2,
   "metadata": {},
   "outputs": [
    {
     "data": {
      "text/html": [
       "With these <a href=\"allowed_presumptions.txt\">allowed</a>/<a href=\"disallowed_presumptions.txt\">disallowed</a> theorem/theory presumptions (e.g., to avoid circular dependencies), we begin our proof of<br><strong id=\"reduce_6_repeats\">reduce_6_repeats:</strong> <a class=\"ProveItLink\" href=\"../../../__pv_it/theorems/333a7e0d9f9995043414f9402e5204a663dcba030/expr.ipynb\"><img src=\"data:image/png;base64,iVBORw0KGgoAAAANSUhEUgAAAVoAAAAVBAMAAAD1BjtIAAAAMFBMVEX///8AAAAAAAAAAAAAAAAA\n",
       "AAAAAAAAAAAAAAAAAAAAAAAAAAAAAAAAAAAAAAAAAAAv3aB7AAAAD3RSTlMAq1RmmUTNIjK7EInv\n",
       "3XZ/CtNrAAAACXBIWXMAAA7EAAAOxAGVKw4bAAAC7ElEQVRIx6VXPWgUURCe+7/sJpsDC38QCSgp\n",
       "jHJiodjogb/gD0EsBQ9SCFZrI4QkcFaBiMQmBCzCFSmMhZ7BTpBr0kQMwR8IwsEe0cbiihRGrvK9\n",
       "N29vd9+btwvusN/d3syb780bZmfnAHRxJf5fSmCgTUNIkoIzhkghBY+mTUXIUeE/joctExJmmXm/\n",
       "lMC+q6smUp1/F3GV3z8M6a06wixWDaoJiSo2Nad6qmg5IcNTXhEvQvr8GYRZnD14m7B3rqZq4ikT\n",
       "hRMy8KDtcKaGJWKKaANGkzK1qSqGIZ1sCuTYmYth9bhErFRFpg4yTNMLplTFeMpopxCfO51PYfVN\n",
       "iTfdVx8w51bvyLP1aHa/iq+5BpR2FFbp9k7dzUhJKnU7J2S4AfCSOATUnGP5bSw56Hq3w0vK3UPY\n",
       "BXd4wFGRbueEY0dIBeIoSaVu54QMj6FUCW/3BZFzc/0MPhnn4VLzgFIJmI25eTW1vtspNbcmSnof\n",
       "3c4JGYaa9mSYdgNRhrz/JDXgmvbM9DG5HTW1vtui6mGipPfR7YuIrFcEIloWUfBC2opG1IChPUO0\n",
       "vtt9IloDJb3PFkHIUb/IPnrXf7qRSgB44Fqyxxf24XVo49G+H61eCb7babVuzZSkUrNzQo71R6zh\n",
       "u4eLsumuINYmj4INwNZZS5k2tMAKDluRlaA+Zc2BG1xQD2GiJJW6XRByzLKz52ClLGllq6gu3IK7\n",
       "YP1hpfJ3tV0YE68v9pNdrEVjvx10MNTzxeiGDSsiJkpSqdmDxpoR6dn3aZ8jVnvZyyzbnSZYd7wT\n",
       "ZwFGfjDDN3Hdu4JTDe9jT8Qd6tli6Qbf1WhNlKRStwvCAWm57Y+PIw0ESjYYT04mvm+CxaVt1ZZA\n",
       "Se8T3HLCAemsXc9H5wcpduDaSozWjplhEijpfVr0rJX/9fG3b1iWwPdeMPJ5idEGi4npIZ6SVIZu\n",
       "p00jyZqEkGC9kzx5eHpoUVozJal0omddJv8DeYgU4rg0bSpChn9mlCVBH//KIgAAAABJRU5ErkJg\n",
       "gg==\n",
       "\" style=\"display:inline;vertical-align:middle;\" /></a><br>(see <a class=\"ProveItLink\" href=\"../../../__pv_it/theorems/30d71d1ef68459ebc2d035e53cd0055b3dd8a60a0/dependencies.ipynb\">dependencies</a>)<br>"
      ],
      "text/plain": [
       "<IPython.core.display.HTML object>"
      ]
     },
     "metadata": {},
     "output_type": "display_data"
    }
   ],
   "source": [
    "%proving reduce_6_repeats"
   ]
  },
  {
   "cell_type": "code",
   "execution_count": null,
   "metadata": {},
   "outputs": [],
   "source": []
  }
 ],
 "metadata": {
  "kernelspec": {
   "display_name": "Python 3",
   "language": "python",
   "name": "python3"
  }
 },
 "nbformat": 4,
 "nbformat_minor": 0
}