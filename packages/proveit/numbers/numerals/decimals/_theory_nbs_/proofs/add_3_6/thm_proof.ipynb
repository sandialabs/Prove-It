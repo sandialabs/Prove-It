{
 "cells": [
  {
   "cell_type": "markdown",
   "metadata": {},
   "source": [
    "Proof of <a class=\"ProveItLink\" href=\"../../../../../../_theory_nbs_/theory.ipynb\">proveit</a>.<a class=\"ProveItLink\" href=\"../../../../../_theory_nbs_/theory.ipynb\">numbers</a>.<a class=\"ProveItLink\" href=\"../../../../_theory_nbs_/theory.ipynb\">numerals</a>.<a class=\"ProveItLink\" href=\"../../theory.ipynb\">decimals</a>.<a class=\"ProveItLink\" href=\"../../theorems.ipynb#add_3_6\">add_3_6</a> theorem\n",
    "========"
   ]
  },
  {
   "cell_type": "code",
   "execution_count": 1,
   "metadata": {},
   "outputs": [],
   "source": [
    "import proveit\n",
    "theory = proveit.Theory() # the theorem's theory"
   ]
  },
  {
   "cell_type": "code",
   "execution_count": 2,
   "metadata": {},
   "outputs": [
    {
     "data": {
      "text/html": [
       "With these <a href=\"allowed_presumptions.txt\">allowed</a>/<a href=\"disallowed_presumptions.txt\">disallowed</a> theorem/theory presumptions (e.g., to avoid circular dependencies), we begin our proof of<br><strong id=\"add_3_6\">add_3_6:</strong> <a class=\"ProveItLink\" href=\"../../../__pv_it/theorems/c1151eb18e2d33695deddb9028e37efd35af0ad10/expr.ipynb\"><img src=\"data:image/png;base64,iVBORw0KGgoAAAANSUhEUgAAAGEAAAAVBAMAAACkm51HAAAAMFBMVEX///8AAAAAAAAAAAAAAAAA\n",
       "AAAAAAAAAAAAAAAAAAAAAAAAAAAAAAAAAAAAAAAAAAAv3aB7AAAAD3RSTlMAInZUiRDNmWbv3US7\n",
       "qzJazP2FAAAACXBIWXMAAA7EAAAOxAGVKw4bAAABg0lEQVQ4y3WTO0gDQRCG/ySueR0XCyursxIE\n",
       "SQgiWCWgkEq9VhFMIwg2QYT4ILCdpRFBkDQBGzkQDhtTRjuNYFot9AorKyEkhYg6d2txt7ndYnYe\n",
       "+zEzO7sAxhC+VH5Ec4rAtYqYBcZLHck5sriMKB86W62ZACuDVVAIJops4wXYlIE1Qz8B4hzRHjbK\n",
       "wtcS26iBR+BIJp7hupNAuoHMP5EXW8F0ZdKUiAGwYmJOHOEB4l5kkhph30DWxq6rpy8RIM7ep2xq\n",
       "vxuSg2OLNH3mNUgMOE6BhFdq3PJWV/TxZOBCVJXzE+wX2DcRq0s5Vm39LYeGpyf7JA4s69yyroj4\n",
       "Ao5t6J8SwXYWso5L6A60XrAqIjjS9eF5011RVZm+TDx4OWJNqQ9487ijkrqiKt88qA/qvC0lmDfZ\n",
       "D7BEES7PQysyuqt4USKmTY3OfZB2U+0EbxelmgOkbPl9lg5Jphy/L+83JsIfe6Lit1p+Y0/xP25V\n",
       "HyfSVgTWVYSm+rYRQxGYDHf/ARUlXwuKD3XCAAAAAElFTkSuQmCC\n",
       "\" style=\"display:inline;vertical-align:middle;\" /></a><br>(see <a class=\"ProveItLink\" href=\"../../../__pv_it/theorems/5e93ae37dc56e16c82433eb13c0776845e00095b0/dependencies.ipynb\">dependencies</a>)<br>"
      ],
      "text/plain": [
       "<IPython.core.display.HTML object>"
      ]
     },
     "metadata": {},
     "output_type": "display_data"
    },
    {
     "name": "stdout",
     "output_type": "stream",
     "text": [
      "add_3_6 may now be readily provable (assuming required theorems are usable).  Simply execute \"%qed\".\n"
     ]
    }
   ],
   "source": [
    "%proving add_3_6"
   ]
  },
  {
   "cell_type": "code",
   "execution_count": null,
   "metadata": {},
   "outputs": [],
   "source": []
  }
 ],
 "metadata": {
  "kernelspec": {
   "display_name": "Python 3",
   "language": "python",
   "name": "python3"
  }
 },
 "nbformat": 4,
 "nbformat_minor": 0
}