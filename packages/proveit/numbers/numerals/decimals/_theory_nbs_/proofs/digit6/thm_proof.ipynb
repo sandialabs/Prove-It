{
 "cells": [
  {
   "cell_type": "markdown",
   "metadata": {},
   "source": [
    "Proof of <a class=\"ProveItLink\" href=\"../../../../../../_theory_nbs_/theory.ipynb\">proveit</a>.<a class=\"ProveItLink\" href=\"../../../../../_theory_nbs_/theory.ipynb\">numbers</a>.<a class=\"ProveItLink\" href=\"../../../../_theory_nbs_/theory.ipynb\">numerals</a>.<a class=\"ProveItLink\" href=\"../../theory.ipynb\">decimals</a>.<a class=\"ProveItLink\" href=\"../../theorems.ipynb#digit6\">digit6</a> theorem\n",
    "========"
   ]
  },
  {
   "cell_type": "code",
   "execution_count": 1,
   "metadata": {},
   "outputs": [],
   "source": [
    "import proveit\n",
    "theory = proveit.Theory() # the theorem's theory"
   ]
  },
  {
   "cell_type": "code",
   "execution_count": 2,
   "metadata": {},
   "outputs": [
    {
     "data": {
      "text/html": [
       "With these <a href=\"allowed_presumptions.txt\">allowed</a>/<a href=\"disallowed_presumptions.txt\">disallowed</a> theorem/theory presumptions (e.g., to avoid circular dependencies), we begin our proof of<br><strong id=\"digit6\">digit6:</strong> <a class=\"ProveItLink\" href=\"../../../__pv_it/theorems/98ca5128b411e97bbee5ff55aab74bc2e4d006030/expr.ipynb\"><img src=\"data:image/png;base64,iVBORw0KGgoAAAANSUhEUgAAAEgAAAAUBAMAAADcj2b4AAAAMFBMVEX///8AAAAAAAAAAAAAAAAA\n",
       "AAAAAAAAAAAAAAAAAAAAAAAAAAAAAAAAAAAAAAAAAAAv3aB7AAAAD3RSTlMAiTIizUSr3Xa7VBDv\n",
       "mWZb+y3UAAAACXBIWXMAAA7EAAAOxAGVKw4bAAABUklEQVQoz2NgwAtWGjA0NjIQUNPAwCbAlYBX\n",
       "zcsHDAz8Cty/8anpXAAk7A0YvmKR2/5zygYGmT8BOiA1DDwBTP+AlKCgAqqqWawJDNwfGLgmbgBy\n",
       "WGfv+8XAYBLAVoCqKN1AjoHhAFAerGqXwmcGBg8GzgmoirImsBgwgDQy5RowMG1gLWDggrudY3p5\n",
       "CZiR/ILZAayIgTltA+cDFgUGzgNQNaweG6CsZDaFRogiBmYG1ndCQNc7SVwF801gahiSGSZwBqC4\n",
       "k9+PgQfsV2cGhCJd7moURfs/MPCeBjEckBTxLVh5gEFzJhAYQBQVMPCBgpTpeHl5eSVUEUM22wEU\n",
       "6xwY+EBByj0BySSGbdwo1nFCTWIoQFbE1IASdlxAN4GN7oALTQLiJtQAnsiwB+w7lgUwES8g5nVA\n",
       "UcR4NwlMc2dGQwRU/gBN4XbAnnxYJaHRggEAfZJSZtRBYqgAAAAASUVORK5CYII=\n",
       "\" style=\"display:inline;vertical-align:middle;\" /></a><br>(see <a class=\"ProveItLink\" href=\"../../../__pv_it/theorems/1556f6d607386243e96fc2397c748220896ed1d70/dependencies.ipynb\">dependencies</a>)<br>"
      ],
      "text/plain": [
       "<IPython.core.display.HTML object>"
      ]
     },
     "metadata": {},
     "output_type": "display_data"
    }
   ],
   "source": [
    "%proving digit6"
   ]
  },
  {
   "cell_type": "code",
   "execution_count": null,
   "metadata": {},
   "outputs": [],
   "source": []
  }
 ],
 "metadata": {
  "kernelspec": {
   "display_name": "Python 3",
   "language": "python",
   "name": "python3"
  }
 },
 "nbformat": 4,
 "nbformat_minor": 0
}