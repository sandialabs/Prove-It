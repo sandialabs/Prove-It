{
 "cells": [
  {
   "cell_type": "markdown",
   "metadata": {},
   "source": [
    "Proof of <a class=\"ProveItLink\" href=\"../../../../../../_theory_nbs_/theory.ipynb\">proveit</a>.<a class=\"ProveItLink\" href=\"../../../../../_theory_nbs_/theory.ipynb\">numbers</a>.<a class=\"ProveItLink\" href=\"../../../../_theory_nbs_/theory.ipynb\">numerals</a>.<a class=\"ProveItLink\" href=\"../../theory.ipynb\">decimals</a>.<a class=\"ProveItLink\" href=\"../../theorems.ipynb#mult_6_1\">mult_6_1</a> theorem\n",
    "========"
   ]
  },
  {
   "cell_type": "code",
   "execution_count": 1,
   "metadata": {},
   "outputs": [],
   "source": [
    "import proveit\n",
    "theory = proveit.Theory() # the theorem's theory"
   ]
  },
  {
   "cell_type": "code",
   "execution_count": 2,
   "metadata": {},
   "outputs": [
    {
     "data": {
      "text/html": [
       "With these <a href=\"allowed_presumptions.txt\">allowed</a>/<a href=\"disallowed_presumptions.txt\">disallowed</a> theorem/theory presumptions (e.g., to avoid circular dependencies), we begin our proof of<br><strong id=\"mult_6_1\">mult_6_1:</strong> <a class=\"ProveItLink\" href=\"../../../__pv_it/theorems/8376a6d74611ab8278e5888eba8a41585dec787f0/expr.ipynb\"><img src=\"data:image/png;base64,iVBORw0KGgoAAAANSUhEUgAAAFcAAAAVBAMAAADBdm84AAAAMFBMVEX///8AAAAAAAAAAAAAAAAA\n",
       "AAAAAAAAAAAAAAAAAAAAAAAAAAAAAAAAAAAAAAAAAAAv3aB7AAAAD3RSTlMAInZUiRDNmWbv3US7\n",
       "qzJazP2FAAAACXBIWXMAAA7EAAAOxAGVKw4bAAABWElEQVQoz2NgYBBgwABYhCCAyQBTbBMuxSZA\n",
       "7OLyAM7nWwo0oAFDGYuLHwMDawIDg9gG3gUwwdiyr0AyFV0tYzbDLQYGdqAhSQw8BxDOAiluR1fM\n",
       "psBwhoGBk4GB+SuKH0A8zgA0xfZgATMGBp4JGIrZ0B19EkyWAI3Jc6pGU8xyAU3xtCfqGxgYMhgY\n",
       "+DMYOA1QFXMkgJhVq0BgLYj5rYFhMgPDYgaG+A8M7FNRFTNPQDWY9T8DQ2UAw2yg4gUMHL+BIvEJ\n",
       "cMV8H9AU/2Jg6N8AUsyfwMDxAyjCVQBXzI1mMsM3oOIGkDN4oCYjO2MBmptPgU0+BJQBunkCmgcP\n",
       "oIcz0M0MDL5A1hGGSERosHwEEuwOaIp5HFiBofEKJF9+Dy7Ke/PbDaDzN6DHt3stMK1xPcCWFKWw\n",
       "p1COAmyiFTjS80EsYowHcCiOwSLGgytfMSpgiiliVwoA3LRUkEoc1YQAAAAASUVORK5CYII=\n",
       "\" style=\"display:inline;vertical-align:middle;\" /></a><br>(see <a class=\"ProveItLink\" href=\"../../../__pv_it/theorems/64d7d8ba4c80bb698ca3203e9391c52d1b511d530/dependencies.ipynb\">dependencies</a>)<br>"
      ],
      "text/plain": [
       "<IPython.core.display.HTML object>"
      ]
     },
     "metadata": {},
     "output_type": "display_data"
    },
    {
     "name": "stdout",
     "output_type": "stream",
     "text": [
      "mult_6_1 may now be readily provable (assuming required theorems are usable).  Simply execute \"%qed\".\n"
     ]
    }
   ],
   "source": [
    "%proving mult_6_1"
   ]
  },
  {
   "cell_type": "code",
   "execution_count": null,
   "metadata": {},
   "outputs": [],
   "source": []
  }
 ],
 "metadata": {
  "kernelspec": {
   "display_name": "Python 3",
   "language": "python",
   "name": "python3"
  }
 },
 "nbformat": 4,
 "nbformat_minor": 0
}