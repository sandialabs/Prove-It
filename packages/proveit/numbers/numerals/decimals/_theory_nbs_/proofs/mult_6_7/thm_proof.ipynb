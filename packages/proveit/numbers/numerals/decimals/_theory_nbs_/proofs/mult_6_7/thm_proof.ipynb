{
 "cells": [
  {
   "cell_type": "markdown",
   "metadata": {},
   "source": [
    "Proof of <a class=\"ProveItLink\" href=\"../../../../../../_theory_nbs_/theory.ipynb\">proveit</a>.<a class=\"ProveItLink\" href=\"../../../../../_theory_nbs_/theory.ipynb\">numbers</a>.<a class=\"ProveItLink\" href=\"../../../../_theory_nbs_/theory.ipynb\">numerals</a>.<a class=\"ProveItLink\" href=\"../../theory.ipynb\">decimals</a>.<a class=\"ProveItLink\" href=\"../../theorems.ipynb#mult_6_7\">mult_6_7</a> theorem\n",
    "========"
   ]
  },
  {
   "cell_type": "code",
   "execution_count": 1,
   "metadata": {},
   "outputs": [],
   "source": [
    "import proveit\n",
    "theory = proveit.Theory() # the theorem's theory"
   ]
  },
  {
   "cell_type": "code",
   "execution_count": 2,
   "metadata": {},
   "outputs": [
    {
     "data": {
      "text/html": [
       "With these <a href=\"allowed_presumptions.txt\">allowed</a>/<a href=\"disallowed_presumptions.txt\">disallowed</a> theorem/theory presumptions (e.g., to avoid circular dependencies), we begin our proof of<br><strong id=\"mult_6_7\">mult_6_7:</strong> <a class=\"ProveItLink\" href=\"../../../__pv_it/theorems/64b41755af484d3f1a7ca1c5fe873c5862634e430/expr.ipynb\"><img src=\"data:image/png;base64,iVBORw0KGgoAAAANSUhEUgAAAGEAAAAVBAMAAACkm51HAAAAMFBMVEX///8AAAAAAAAAAAAAAAAA\n",
       "AAAAAAAAAAAAAAAAAAAAAAAAAAAAAAAAAAAAAAAAAAAv3aB7AAAAD3RSTlMAInZUiRDNmWbv3US7\n",
       "qzJazP2FAAAACXBIWXMAAA7EAAAOxAGVKw4bAAABmElEQVQ4y32Tv0vDQBTHv2ljk7Yx7eSP0qFd\n",
       "nTqIa4N0VMgqCC2C0EGkgxCpDnXRtYuDiFjoJkiL/4BR3D1XpbazUxEUQSS+S61NcyEP7si9733e\n",
       "vffuAiANwQJcHosUppYLJk03ocQyjVJpMF4WHcdpRhriPr0GydqhfTMVYK472xoLa5ZVL2BbJBIM\n",
       "WcjfgELhtqDZY8EA5oETkVhieALOgDgQ/fAIVBUjrykkdcxwaaKfxgqgNac0mXKNCYXIMYZnoD/A\n",
       "HgXcXT3waFmuMz+Rj7muDlAFUlXEPS1+oaFW+Ff9its1/5QaLqG/A22gPIRy+g9IPMdo058UXIIa\n",
       "hnMiWlCpayi7gWU+60MfcTQiDuESqQrULx6g5vadNzrpO0PKuYTKKcpK+ztjZGXujbam60j2ev0L\n",
       "g96HlMY9yVTHJOYtP0m1hRuMM+gGIibWafGAjUmvinTrUAyBSNnI0AsC3nix1utEWeRwousHlMef\n",
       "XMdxPkkbBD3oTMhjV2tB3v2w/+MuwCfZYcRmgE8L/W3pcgTLh+z/BTrQYuXyVYvtAAAAAElFTkSu\n",
       "QmCC\n",
       "\" style=\"display:inline;vertical-align:middle;\" /></a><br>(see <a class=\"ProveItLink\" href=\"../../../__pv_it/theorems/7e3c2f8fda12f4e1da9f8023c7a2da325c1ee2f50/dependencies.ipynb\">dependencies</a>)<br>"
      ],
      "text/plain": [
       "<IPython.core.display.HTML object>"
      ]
     },
     "metadata": {},
     "output_type": "display_data"
    },
    {
     "name": "stdout",
     "output_type": "stream",
     "text": [
      "mult_6_7 may now be readily provable (assuming required theorems are usable).  Simply execute \"%qed\".\n"
     ]
    }
   ],
   "source": [
    "%proving mult_6_7"
   ]
  },
  {
   "cell_type": "code",
   "execution_count": null,
   "metadata": {},
   "outputs": [],
   "source": []
  }
 ],
 "metadata": {
  "kernelspec": {
   "display_name": "Python 3",
   "language": "python",
   "name": "python3"
  }
 },
 "nbformat": 4,
 "nbformat_minor": 0
}