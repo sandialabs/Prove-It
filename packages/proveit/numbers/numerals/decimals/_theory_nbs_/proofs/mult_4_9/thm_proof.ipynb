{
 "cells": [
  {
   "cell_type": "markdown",
   "metadata": {},
   "source": [
    "Proof of <a class=\"ProveItLink\" href=\"../../../../../../_theory_nbs_/theory.ipynb\">proveit</a>.<a class=\"ProveItLink\" href=\"../../../../../_theory_nbs_/theory.ipynb\">numbers</a>.<a class=\"ProveItLink\" href=\"../../../../_theory_nbs_/theory.ipynb\">numerals</a>.<a class=\"ProveItLink\" href=\"../../theory.ipynb\">decimals</a>.<a class=\"ProveItLink\" href=\"../../theorems.ipynb#mult_4_9\">mult_4_9</a> theorem\n",
    "========"
   ]
  },
  {
   "cell_type": "code",
   "execution_count": 1,
   "metadata": {},
   "outputs": [],
   "source": [
    "import proveit\n",
    "theory = proveit.Theory() # the theorem's theory"
   ]
  },
  {
   "cell_type": "code",
   "execution_count": 2,
   "metadata": {},
   "outputs": [
    {
     "data": {
      "text/html": [
       "With these <a href=\"allowed_presumptions.txt\">allowed</a>/<a href=\"disallowed_presumptions.txt\">disallowed</a> theorem/theory presumptions (e.g., to avoid circular dependencies), we begin our proof of<br><strong id=\"mult_4_9\">mult_4_9:</strong> <a class=\"ProveItLink\" href=\"../../../__pv_it/theorems/c255d602c3bd8ba156d63e0e1d0888af520351660/expr.ipynb\"><img src=\"data:image/png;base64,iVBORw0KGgoAAAANSUhEUgAAAGEAAAAVBAMAAACkm51HAAAAMFBMVEX///8AAAAAAAAAAAAAAAAA\n",
       "AAAAAAAAAAAAAAAAAAAAAAAAAAAAAAAAAAAAAAAAAAAv3aB7AAAAD3RSTlMAInZUiRDNmWbv3US7\n",
       "qzJazP2FAAAACXBIWXMAAA7EAAAOxAGVKw4bAAABnklEQVQ4y31TO0jDUBQ9aZp+bCnFSZziJLi0\n",
       "gwhOLVjopGYRUQRdBEEKRYT6aSGbblUEF5EKboIQ3BSE6qYIirgoFIMIioMIhaJSrO8mmMaXkDeE\n",
       "3HPuefee+94DEIdjuUC25Us6sSNPRT99XtpxoaTAp/JZQqaoAf7MCCDNEHBoUZNybBOY5RXjEOsQ\n",
       "5vEABGk7X1txD1wBa7wikZQaCMjEhSl+zVlUAxhVEFY4xbHGmJSBDtAnbSmkJttPQ8BhBOInLoyf\n",
       "RWoq/r+GCv+NQ3GiYvu5l9mfY0EXcnYf1zJCxjxWDmiZHp9qOhoqtoB9asqmmNBij0mIG86u6lIL\n",
       "WFawA4TipmKaNpYWhhI6Yh/Og6uMfQNljRSdMBUdeZNis4rwNd5Zs0nmsaxSV6e12tedjWUzF/c4\n",
       "Hy2FKS6NGudG0q6VPqhIP6zRKleDJVSUFPMBDBtA06L6lCg7i2CaU6zTeUTTEpvVG8XF1u0f5c+u\n",
       "kiWNU0QKdBOzJZ1xutuF7va47KG8G7rk9T7OXDCh6qWYcsGins9WkJ1Yj0f+L4tiawyi3LHOAAAA\n",
       "AElFTkSuQmCC\n",
       "\" style=\"display:inline;vertical-align:middle;\" /></a><br>(see <a class=\"ProveItLink\" href=\"../../../__pv_it/theorems/51efaf0124ca8c07dcdffe38c835d42157d4e48a0/dependencies.ipynb\">dependencies</a>)<br>"
      ],
      "text/plain": [
       "<IPython.core.display.HTML object>"
      ]
     },
     "metadata": {},
     "output_type": "display_data"
    },
    {
     "name": "stdout",
     "output_type": "stream",
     "text": [
      "mult_4_9 may now be readily provable (assuming required theorems are usable).  Simply execute \"%qed\".\n"
     ]
    }
   ],
   "source": [
    "%proving mult_4_9"
   ]
  },
  {
   "cell_type": "code",
   "execution_count": null,
   "metadata": {},
   "outputs": [],
   "source": []
  }
 ],
 "metadata": {
  "kernelspec": {
   "display_name": "Python 3",
   "language": "python",
   "name": "python3"
  }
 },
 "nbformat": 4,
 "nbformat_minor": 0
}