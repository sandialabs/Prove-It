{
 "cells": [
  {
   "cell_type": "markdown",
   "metadata": {},
   "source": [
    "Proof of <a class=\"ProveItLink\" href=\"../../../../../../_theory_nbs_/theory.ipynb\">proveit</a>.<a class=\"ProveItLink\" href=\"../../../../../_theory_nbs_/theory.ipynb\">numbers</a>.<a class=\"ProveItLink\" href=\"../../../../_theory_nbs_/theory.ipynb\">numerals</a>.<a class=\"ProveItLink\" href=\"../../theory.ipynb\">decimals</a>.<a class=\"ProveItLink\" href=\"../../theorems.ipynb#md_only_nine_add_one\">md_only_nine_add_one</a> theorem\n",
    "========"
   ]
  },
  {
   "cell_type": "code",
   "execution_count": 1,
   "metadata": {},
   "outputs": [],
   "source": [
    "import proveit\n",
    "theory = proveit.Theory() # the theorem's theory"
   ]
  },
  {
   "cell_type": "code",
   "execution_count": 2,
   "metadata": {},
   "outputs": [
    {
     "data": {
      "text/html": [
       "With these <a href=\"allowed_presumptions.txt\">allowed</a>/<a href=\"disallowed_presumptions.txt\">disallowed</a> theorem/theory presumptions (e.g., to avoid circular dependencies), we begin our proof of<br><strong id=\"md_only_nine_add_one\">md_only_nine_add_one:</strong> <a class=\"ProveItLink\" href=\"../../../__pv_it/theorems/42726b70e6514ae8e8ea1552c2ae29108665110a0/expr.ipynb\"><img src=\"data:image/png;base64,iVBORw0KGgoAAAANSUhEUgAAAkMAAAAVBAMAAAC3X/drAAAAMFBMVEX///8AAAAAAAAAAAAAAAAA\n",
       "AAAAAAAAAAAAAAAAAAAAAAAAAAAAAAAAAAAAAAAAAAAv3aB7AAAAD3RSTlMAq1RmmUTNIjK7EInv\n",
       "3XZ/CtNrAAAACXBIWXMAAA7EAAAOxAGVKw4bAAAF30lEQVRYw61YXWhcVRCe3N1kd+9mf/xB+9DW\n",
       "C6JCm5IFQzFgfiRpLY0NSxV8qWZrhIIPuvogFE27+uKDhKyCxBUxK0ihmHY3pS9WaSOhVBR1rRWL\n",
       "dGEbBR9EE9OS1lQSZ86cu/dnz94m7h4yYfaeOzPf/c6cOT8A62hpKaIFvN8NbLjDHmUDVgFYX2sM\n",
       "UHp9QaIGC7d575frdrdWbhPm2Y1Zza+TosYAkcTpx/2er26XIppWBBh8LC9/WZrVrX9Ycnt47fR7\n",
       "AL96hCA/0YT76Xi+vhXhCP4if3z+mxzt8NnHoSmAyCMBItlFDw55MaSnWIIlP/J+DOBEJXiBuyzN\n",
       "bNgNbf1uD/3QaUBbvm4I9vOCy+rul9BCYTUOwyLQx7tX+EGbof/M2nNwIt0MQOyRAKG8QbMy60WR\n",
       "P8ESXYxgqAGAzQA57rI0s2E3xAz3TF2CQgp8/XVDsJ8ucwaY6bSA36CwWoBLHCgqKeoB+EwovhKE\n",
       "s80AxB4JUBePUtjwoqhdin82hlk0C7AMcI4HwNLMht0w4h6d1vMQwzT8um4I9tMu7bSKjSKF1ROw\n",
       "yoFMit4B6BS2oThoK9AEQOyRAKH4cMjaPEvRgyy+nrmFO0FLgf4Pgk+KfK1q1ZmPgeELhZNODDMq\n",
       "tHtRDrvynv20JVQUjbpdPXyl929DBDIpug4wIUY51g/BJWgckPRIgEi+LZe/8aRoiKWwtrb2L/iL\n",
       "POaJ6ug7iix1w0HYvtc9bD/ivxmhjmUgcFmRRQkIx1UUzbjrCOJYmxWBJEU6fZCAUUCKrkHjgKRH\n",
       "AkSyB+ADT4pGpcQqfXlBKlaOqYpZQ6YcSyd169e0h+acLoJXN+H/nbwduUygamoR+vGlVBSx1b4y\n",
       "tR+Evupb4YyTFAVu4QcJm6NFCK5C44CkRwJE8jIE4rW8hC31opSCcQ4gggk9nQzex9XL0mSjbu3G\n",
       "/mDNEokLCHSwOvaWO4mkH21WRVFHzQq7FF4UgRwUFU2KbkHjgKRHAkQSyoexnPSYsMaGkr4vMUGt\n",
       "989LmchsweqF7+rDpxaYdkszSzt2++f40TEx8DJ6O37NhIxfztR8tfATXKSZUS5fwbkfr1I04X45\n",
       "eLOlJAJVJxp+0IjAXyhCqzOL/h8g6ZEAkWiVNukK0y+X1OJnYK+KIq5F7VydrXXMuaJRd+T5Pe6P\n",
       "ykAIq+iBuhSxn1ZlFh1Q1iI7RVRcO81yrS1BEwCxRwIkQKV6KUXFHhdf1Xr9UHRQJCeab+qv5XlO\n",
       "cPtuKFeT1wVjxBUytiIQ7ag70diPVlJRtMNdi7pXF1407BONbPt40c+Cb6UZgNgjARKgTtEmsjvw\n",
       "B58AtDefrhTDg/sGd5mvfyRlC21HQgi/I6/fBJ26LE026u7LFwzn8ac9LvK6W1kd86Yf8GVVFHW7\n",
       "4beUcH9GgaoUPQqwW8DwzYI/BfnGAQmPApAA9TrN+62vTKePC3yZMw84s2hGSi6wxGvgn/lQgnan\n",
       "Nk1fpj/uvgcKmaIDEe69aBsy5Fxj2UaYCT+8QNspOpcG08r+1dmjBm8QwjfMVNG/YkAXYTojPDYI\n",
       "SHgUgASoFqLwOyMITzJF/mjWQdG4lK36BTqoYdjTmGEROkJa2iXxJ7rfheiwazv71CCeGuEnodNq\n",
       "+6rQ2Kacl34gknRSdMf3BxOmlT2LKtNpEahl8/JdXJ6GrmYYxidnN7HHBgEJjwKQCQoC17Gi7czl\n",
       "coaW0YspB0WRDAu36rTdBrWarVtxP1NSH9mr6MfAlUUeVopA22o9NgHQWDXzss8E4G3OIthfceyL\n",
       "6LRnnfjMsyZYqWtP4i7v4zB47cAG3MdYDytFoKJiT9c4oAErecfDuEMiQpIQdW0lJ6VwJZCXDXp1\n",
       "qHX7oIfqX9MdVj8+WR3U7AasagNZME5C8wBZoELplkcg8D5VnUPyms1qx6UwEmkTtW4WHEDr36tM\n",
       "qh9XvD9mst4tljtQtNZjEwC5QX2ayyVVc7bCwu2I921m3e7o7a6Bf9+Y1ZF1Xsw2BgjlP+vMPr/+\n",
       "wTPCAAAAAElFTkSuQmCC\n",
       "\" style=\"display:inline;vertical-align:middle;\" /></a><br>(see <a class=\"ProveItLink\" href=\"../../../__pv_it/theorems/3f6aa1c59d180e620a0e902285573afb03a486870/dependencies.ipynb\">dependencies</a>)<br>"
      ],
      "text/plain": [
       "<IPython.core.display.HTML object>"
      ]
     },
     "metadata": {},
     "output_type": "display_data"
    }
   ],
   "source": [
    "%proving md_only_nine_add_one"
   ]
  },
  {
   "cell_type": "code",
   "execution_count": null,
   "metadata": {},
   "outputs": [],
   "source": []
  }
 ],
 "metadata": {
  "kernelspec": {
   "display_name": "Python 3",
   "language": "python",
   "name": "python3"
  }
 },
 "nbformat": 4,
 "nbformat_minor": 0
}