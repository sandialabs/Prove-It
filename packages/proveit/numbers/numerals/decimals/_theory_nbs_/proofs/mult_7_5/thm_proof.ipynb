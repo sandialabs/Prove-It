{
 "cells": [
  {
   "cell_type": "markdown",
   "metadata": {},
   "source": [
    "Proof of <a class=\"ProveItLink\" href=\"../../../../../../_theory_nbs_/theory.ipynb\">proveit</a>.<a class=\"ProveItLink\" href=\"../../../../../_theory_nbs_/theory.ipynb\">numbers</a>.<a class=\"ProveItLink\" href=\"../../../../_theory_nbs_/theory.ipynb\">numerals</a>.<a class=\"ProveItLink\" href=\"../../theory.ipynb\">decimals</a>.<a class=\"ProveItLink\" href=\"../../theorems.ipynb#mult_7_5\">mult_7_5</a> theorem\n",
    "========"
   ]
  },
  {
   "cell_type": "code",
   "execution_count": 1,
   "metadata": {},
   "outputs": [],
   "source": [
    "import proveit\n",
    "theory = proveit.Theory() # the theorem's theory"
   ]
  },
  {
   "cell_type": "code",
   "execution_count": 2,
   "metadata": {},
   "outputs": [
    {
     "data": {
      "text/html": [
       "With these <a href=\"allowed_presumptions.txt\">allowed</a>/<a href=\"disallowed_presumptions.txt\">disallowed</a> theorem/theory presumptions (e.g., to avoid circular dependencies), we begin our proof of<br><strong id=\"mult_7_5\">mult_7_5:</strong> <a class=\"ProveItLink\" href=\"../../../__pv_it/theorems/28ba0ab37c781a36bb1d1b2bab8991ddff5ae6580/expr.ipynb\"><img src=\"data:image/png;base64,iVBORw0KGgoAAAANSUhEUgAAAGEAAAAVBAMAAACkm51HAAAAMFBMVEX///8AAAAAAAAAAAAAAAAA\n",
       "AAAAAAAAAAAAAAAAAAAAAAAAAAAAAAAAAAAAAAAAAAAv3aB7AAAAD3RSTlMAInZUiRDNmWbv3US7\n",
       "qzJazP2FAAAACXBIWXMAAA7EAAAOxAGVKw4bAAABdElEQVQ4y2NgYBBgwABYhJAAkwFjKxKXj4Eh\n",
       "kGETdqVgOQYGEwbm/////4SJcn7LWsrA1ICumNGlZgNEjoE1gYHleHn5YpgU1/wlAQwMqeg6whmY\n",
       "P0Pl2BsYWIBGFMCkeMFkO7oOfQPWb1A5TgYGZpg6hA7OADQdOzcwwHSYgUk/NB1sGB5hYP4BlSsB\n",
       "++sAQkeT7wMGBpYLGDp2NUDlMsDKNsAleAIYfzMwcCSA2FWrQGAtWPzR3QdQOXAgSaKYdgrohAmY\n",
       "rvoMlZsNot3AYvEJELl6AQa+D5jxNz8AIgfWsQYSFaAgPgYUfcDAjW7HOwaG8wYQOZCrWP8ipGYx\n",
       "MNwHOmEBmj/+BwB1QOQOAbnc3xE6HBgY5gB9fgDNjrkgV0HkfEGe+oKQEmdgmgpMCQ5oOjpA8QGR\n",
       "ewWKjslISa78OtCHXBvQdHCXA1MiVO4BtnQthSd7cBRgE63Al6MOYhFjPIBPRwwWMR682ZZRAVNM\n",
       "EY96AF9iYOn4ZeD2AAAAAElFTkSuQmCC\n",
       "\" style=\"display:inline;vertical-align:middle;\" /></a><br>(see <a class=\"ProveItLink\" href=\"../../../__pv_it/theorems/735d62b15e17428e9cad55cbd373479008d0449e0/dependencies.ipynb\">dependencies</a>)<br>"
      ],
      "text/plain": [
       "<IPython.core.display.HTML object>"
      ]
     },
     "metadata": {},
     "output_type": "display_data"
    },
    {
     "name": "stdout",
     "output_type": "stream",
     "text": [
      "mult_7_5 may now be readily provable (assuming required theorems are usable).  Simply execute \"%qed\".\n"
     ]
    }
   ],
   "source": [
    "%proving mult_7_5"
   ]
  },
  {
   "cell_type": "code",
   "execution_count": null,
   "metadata": {},
   "outputs": [],
   "source": []
  }
 ],
 "metadata": {
  "kernelspec": {
   "display_name": "Python 3",
   "language": "python",
   "name": "python3"
  }
 },
 "nbformat": 4,
 "nbformat_minor": 0
}