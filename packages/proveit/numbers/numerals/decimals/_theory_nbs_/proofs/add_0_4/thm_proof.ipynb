{
 "cells": [
  {
   "cell_type": "markdown",
   "metadata": {},
   "source": [
    "Proof of <a class=\"ProveItLink\" href=\"../../../../../../_theory_nbs_/theory.ipynb\">proveit</a>.<a class=\"ProveItLink\" href=\"../../../../../_theory_nbs_/theory.ipynb\">numbers</a>.<a class=\"ProveItLink\" href=\"../../../../_theory_nbs_/theory.ipynb\">numerals</a>.<a class=\"ProveItLink\" href=\"../../theory.ipynb\">decimals</a>.<a class=\"ProveItLink\" href=\"../../theorems.ipynb#add_0_4\">add_0_4</a> theorem\n",
    "========"
   ]
  },
  {
   "cell_type": "code",
   "execution_count": 1,
   "metadata": {},
   "outputs": [],
   "source": [
    "import proveit\n",
    "theory = proveit.Theory() # the theorem's theory"
   ]
  },
  {
   "cell_type": "code",
   "execution_count": 2,
   "metadata": {},
   "outputs": [
    {
     "data": {
      "text/html": [
       "With these <a href=\"allowed_presumptions.txt\">allowed</a>/<a href=\"disallowed_presumptions.txt\">disallowed</a> theorem/theory presumptions (e.g., to avoid circular dependencies), we begin our proof of<br><strong id=\"add_0_4\">add_0_4:</strong> <a class=\"ProveItLink\" href=\"../../../__pv_it/theorems/75127934871c082b8c34150d901d3d314699154c0/expr.ipynb\"><img src=\"data:image/png;base64,iVBORw0KGgoAAAANSUhEUgAAAGEAAAAVBAMAAACkm51HAAAAMFBMVEX///8AAAAAAAAAAAAAAAAA\n",
       "AAAAAAAAAAAAAAAAAAAAAAAAAAAAAAAAAAAAAAAAAAAv3aB7AAAAD3RSTlMAInZUiRDNmWbv3US7\n",
       "qzJazP2FAAAACXBIWXMAAA7EAAAOxAGVKw4bAAABU0lEQVQ4y3WTP0vDQBiHf2likzYldXaxXZ2k\n",
       "iHPoLriJIhgQwTGCgzili65dRYSCW0AQp47RL2C+QLWzk/gHXATf99JI7i53S3LPLw/3vnc5AMuo\n",
       "HyaOxroheDAZG4AzPFFpEKOR6B8TxlIEHGJPLaGdA0e6wdhN4E3gZAWZltEaRZe6wbgFdHLY3wUZ\n",
       "lKtfcLStFcV4E+jGCD5lw2lS1NQaEfgUOCDjRzb6HDm5agh8DKyGCD4kw0o48iJ+d1Mx8n98Wxhf\n",
       "kuGAI3usFiXwNVUVwuc1ztP0Kk3v6G0kouBdMUalQZ3bUudWT0S+ssYCU1WdDJ60u/5s9noTwp7I\n",
       "fSzwE3U4hhvJe4UWd55pJ8h4C7zO7lwxuvS1G2oG4zd67gxfIBvu828P7XtVKPC8igbVyUr9z+7F\n",
       "1dm0Ojkz3I9H08WxMkOwbzI6pmtL51I/+vX4DzjKW/MDr6y6AAAAAElFTkSuQmCC\n",
       "\" style=\"display:inline;vertical-align:middle;\" /></a><br>(see <a class=\"ProveItLink\" href=\"../../../__pv_it/theorems/ef31f01ce64435d6cbca42359a7711a7e9bb60680/dependencies.ipynb\">dependencies</a>)<br>"
      ],
      "text/plain": [
       "<IPython.core.display.HTML object>"
      ]
     },
     "metadata": {},
     "output_type": "display_data"
    },
    {
     "name": "stdout",
     "output_type": "stream",
     "text": [
      "add_0_4 may now be readily provable (assuming required theorems are usable).  Simply execute \"%qed\".\n"
     ]
    }
   ],
   "source": [
    "%proving add_0_4"
   ]
  },
  {
   "cell_type": "code",
   "execution_count": null,
   "metadata": {},
   "outputs": [],
   "source": []
  }
 ],
 "metadata": {
  "kernelspec": {
   "display_name": "Python 3",
   "language": "python",
   "name": "python3"
  }
 },
 "nbformat": 4,
 "nbformat_minor": 0
}