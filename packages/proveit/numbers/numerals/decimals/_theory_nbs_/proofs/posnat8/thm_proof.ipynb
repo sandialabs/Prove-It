{
 "cells": [
  {
   "cell_type": "markdown",
   "metadata": {},
   "source": [
    "Proof of <a class=\"ProveItLink\" href=\"../../../../../../_theory_nbs_/theory.ipynb\">proveit</a>.<a class=\"ProveItLink\" href=\"../../../../../_theory_nbs_/theory.ipynb\">numbers</a>.<a class=\"ProveItLink\" href=\"../../../../_theory_nbs_/theory.ipynb\">numerals</a>.<a class=\"ProveItLink\" href=\"../../theory.ipynb\">decimals</a>.<a class=\"ProveItLink\" href=\"../../theorems.ipynb#posnat8\">posnat8</a> theorem\n",
    "========"
   ]
  },
  {
   "cell_type": "code",
   "execution_count": 1,
   "metadata": {},
   "outputs": [],
   "source": [
    "import proveit\n",
    "theory = proveit.Theory() # the theorem's theory"
   ]
  },
  {
   "cell_type": "code",
   "execution_count": 2,
   "metadata": {},
   "outputs": [
    {
     "data": {
      "text/html": [
       "With these <a href=\"allowed_presumptions.txt\">allowed</a>/<a href=\"disallowed_presumptions.txt\">disallowed</a> theorem/theory presumptions (e.g., to avoid circular dependencies), we begin our proof of<br><strong id=\"posnat8\">posnat8:</strong> <a class=\"ProveItLink\" href=\"../../../__pv_it/theorems/9e155f4532f574d3b3497f6fadbb97dee07e9ae00/expr.ipynb\"><img src=\"data:image/png;base64,iVBORw0KGgoAAAANSUhEUgAAAD8AAAATBAMAAADVH8ihAAAAMFBMVEX///8AAAAAAAAAAAAAAAAA\n",
       "AAAAAAAAAAAAAAAAAAAAAAAAAAAAAAAAAAAAAAAAAAAv3aB7AAAAD3RSTlMAEImZRKtUZs27dt0i\n",
       "7zLMHA9cAAAACXBIWXMAAA7EAAAOxAGVKw4bAAABBElEQVQoz2NgwAOYGQgATjIVSP+cIcCg+9cB\n",
       "pkBIyQRNxTSWAAbGD3ATDBhYE1AVRB9QZ2C4wGA5c+7MmQUM7AUMjA2oCsImcBxg2AAzgSkArmDl\n",
       "7t1gVkwVTwNCAdtPAeYCsLzHQqgJMawPFiEUMMT/MgPTPI0wK2IYJnA6IBQw/98DpoH2whU8Zty4\n",
       "AR6SSSf/g33BwYBQwJ6QeQHGYzdgyL8IYrzdDQQTIAoYAlnhCngFGHi+gRiSSCYwiDJugPHkgTgc\n",
       "xOBGVsC3YALcBKDb5oAYXAtgQvOAeB1cAUsjAztEqg0mBGIwI0L3qTE0skSnCIDpF3+ButGDHwyc\n",
       "Zu/GFAYASKBAklQe/eQAAAAASUVORK5CYII=\n",
       "\" style=\"display:inline;vertical-align:middle;\" /></a><br>(see <a class=\"ProveItLink\" href=\"../../../__pv_it/theorems/2334cee5bf95bafb14d9b42fee870c0eab4b50810/dependencies.ipynb\">dependencies</a>)<br>"
      ],
      "text/plain": [
       "<IPython.core.display.HTML object>"
      ]
     },
     "metadata": {},
     "output_type": "display_data"
    },
    {
     "name": "stdout",
     "output_type": "stream",
     "text": [
      "posnat8 may now be readily provable (assuming required theorems are usable).  Simply execute \"%qed\".\n"
     ]
    }
   ],
   "source": [
    "%proving posnat8"
   ]
  },
  {
   "cell_type": "code",
   "execution_count": null,
   "metadata": {},
   "outputs": [],
   "source": []
  }
 ],
 "metadata": {
  "kernelspec": {
   "display_name": "Python 3",
   "language": "python",
   "name": "python3"
  }
 },
 "nbformat": 4,
 "nbformat_minor": 0
}