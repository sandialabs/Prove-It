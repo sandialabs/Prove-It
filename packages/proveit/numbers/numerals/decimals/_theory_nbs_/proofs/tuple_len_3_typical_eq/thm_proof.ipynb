{
 "cells": [
  {
   "cell_type": "markdown",
   "metadata": {},
   "source": [
    "Proof of <a class=\"ProveItLink\" href=\"../../../../../../_theory_nbs_/theory.ipynb\">proveit</a>.<a class=\"ProveItLink\" href=\"../../../../../_theory_nbs_/theory.ipynb\">numbers</a>.<a class=\"ProveItLink\" href=\"../../../../_theory_nbs_/theory.ipynb\">numerals</a>.<a class=\"ProveItLink\" href=\"../../theory.ipynb\">decimals</a>.<a class=\"ProveItLink\" href=\"../../theorems.ipynb#tuple_len_3_typical_eq\">tuple_len_3_typical_eq</a> theorem\n",
    "========"
   ]
  },
  {
   "cell_type": "code",
   "execution_count": 1,
   "metadata": {},
   "outputs": [],
   "source": [
    "import proveit\n",
    "theory = proveit.Theory() # the theorem's theory"
   ]
  },
  {
   "cell_type": "code",
   "execution_count": 2,
   "metadata": {},
   "outputs": [
    {
     "data": {
      "text/html": [
       "With these <a href=\"allowed_presumptions.txt\">allowed</a>/<a href=\"disallowed_presumptions.txt\">disallowed</a> theorem/theory presumptions (e.g., to avoid circular dependencies), we begin our proof of<br><strong id=\"tuple_len_3_typical_eq\">tuple_len_3_typical_eq:</strong> <a class=\"ProveItLink\" href=\"../../../__pv_it/theorems/864de063a1f6f21e5cb5a312c6a6ae9e6abea9a90/expr.ipynb\"><img src=\"data:image/png;base64,iVBORw0KGgoAAAANSUhEUgAAAS4AAAAWBAMAAACMMGwEAAAAMFBMVEX///8AAAAAAAAAAAAAAAAA\n",
       "AAAAAAAAAAAAAAAAAAAAAAAAAAAAAAAAAAAAAAAAAAAv3aB7AAAAD3RSTlMAq1RmmUTNIjK7EInv\n",
       "3XZ/CtNrAAAACXBIWXMAAA7EAAAOxAGVKw4bAAAD3UlEQVRIx8VWTWgTQRR+bjY/u9ndRBEVijYg\n",
       "eLBqAxZBDzWQCEpRA3oUTfEgenF7FK3Eu6W5SEFE9iRIwaT+oCBqQApSFYM/KEpxaw8tHlQKVuhB\n",
       "fW92JtnNdkI9OYHJtzPvm/ftmzdvB6Bzi+OPNVtmYXO7lQ139sWZK2B9gWSR/q2MzOI46z0rX7vH\n",
       "6f/Qoi5nEkgT3CwzVWrcY49vUL/W8D1ZWbkupAOMODwchdNlqabzd68AzAomgn0ET8nMb3CPesk/\n",
       "Gsv5n87IdSFdX3uW6zoHyZ8yP3oOejMQczgTwSV6k4rMPs89qln/aCqwqX1yXXnqvnNd6wFeyPxY\n",
       "C1AtQSTHmQhIY1KaPHXu0QiMnnD8T4Yj1VX363rlQLfs9EQnIYVbMiWYUxDBSMSk6VXiHrcEhh8F\n",
       "nmJZmS6l5Ne1EaBbnmDQi8ucFEwEL6enn8ts1Rr3OEC73TXnHRgY/LaGGzyeLUMyLdNF9JYubJ87\n",
       "HMY32E0IJoL9AFdlxhQK5pFe5JitLXlJuuhUvQ0ZzqgViJSELnWatbRYnUXSpyvxWyorMbMB+12C\n",
       "iWAI4unm7OmgtZnhHl+jmqegevVBWQLDi9wnAkpdFi8zE9RlpjtULzyPsE0wEWiOb82uoK1R5B4n\n",
       "MRg/wKx5u1uCFEMqi1/ih0yXUQzqOtCpqhq42KhgIlBcX9o/k+syKlD1nKO8EywSBqsv0foKdUXk\n",
       "4UqUQVvAVBFMAqV+7Mb777MEmGGHftYN72PVhb3N8nWY+aoyM6Uhy6+2feyBuKxOpJaYru2CSeA2\n",
       "Fmz9feIXlbePFpW2d4m6Z6653ON1FJGBdYqt0yJlzDUGMK+LEKnI4qW5QhdJS9TAcvSwJpoz0mwf\n",
       "dwsmgQv4fmqOSdGydLjUis7rDJUA5nGCnChvVarKsCqr5RjAw5gse9VgWV2sgsATG08wHd5C4SCj\n",
       "sY4NNQFWUapfA4JJYFWZMsGiNYyymhZpwba9wT2OIH/Tg6F5MD8i6sLvCwF4uPMroqJMF9Fh9avB\n",
       "LExjUD7/+bPo0UzalLcC0BwcLVyhjRLMd3yVqq3twekUGJgSqVYWfOAezWah3hoCw/Lv44fmh8MJ\n",
       "0SA8F29wZlxcWAx79IgzDqazG8YhVoRa65vMPEaaN4haCOTluvrEUxJCNAjPebeDe75rQjS/4w5c\n",
       "ziQOudjH8/3iFTSbexwTFxK3HXiXkeV1aSLyt6Cd1mrNObwJcea5oEXG1/NlKtzjTXEhgXbg+V5e\n",
       "ly4uUG6I1motpWOCORb8dDqtXrSLYLHUiruykjjn+Wu/Kcxz+j80y+ZMK1jmIr7+f7e/DKgYwj0/\n",
       "9P0AAAAASUVORK5CYII=\n",
       "\" style=\"display:inline;vertical-align:middle;\" /></a><br>(see <a class=\"ProveItLink\" href=\"../../../__pv_it/theorems/9910b0525b62e71e9713397a4eb7fa98245ad8290/dependencies.ipynb\">dependencies</a>)<br>"
      ],
      "text/plain": [
       "<IPython.core.display.HTML object>"
      ]
     },
     "metadata": {},
     "output_type": "display_data"
    }
   ],
   "source": [
    "%proving tuple_len_3_typical_eq"
   ]
  },
  {
   "cell_type": "code",
   "execution_count": null,
   "metadata": {},
   "outputs": [],
   "source": []
  }
 ],
 "metadata": {
  "kernelspec": {
   "display_name": "Python 3",
   "language": "python",
   "name": "python3"
  }
 },
 "nbformat": 4,
 "nbformat_minor": 0
}