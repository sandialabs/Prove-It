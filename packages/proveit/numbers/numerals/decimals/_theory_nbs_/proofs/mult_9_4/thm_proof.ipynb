{
 "cells": [
  {
   "cell_type": "markdown",
   "metadata": {},
   "source": [
    "Proof of <a class=\"ProveItLink\" href=\"../../../../../../_theory_nbs_/theory.ipynb\">proveit</a>.<a class=\"ProveItLink\" href=\"../../../../../_theory_nbs_/theory.ipynb\">numbers</a>.<a class=\"ProveItLink\" href=\"../../../../_theory_nbs_/theory.ipynb\">numerals</a>.<a class=\"ProveItLink\" href=\"../../theory.ipynb\">decimals</a>.<a class=\"ProveItLink\" href=\"../../theorems.ipynb#mult_9_4\">mult_9_4</a> theorem\n",
    "========"
   ]
  },
  {
   "cell_type": "code",
   "execution_count": 1,
   "metadata": {},
   "outputs": [],
   "source": [
    "import proveit\n",
    "theory = proveit.Theory() # the theorem's theory"
   ]
  },
  {
   "cell_type": "code",
   "execution_count": 2,
   "metadata": {},
   "outputs": [
    {
     "data": {
      "text/html": [
       "With these <a href=\"allowed_presumptions.txt\">allowed</a>/<a href=\"disallowed_presumptions.txt\">disallowed</a> theorem/theory presumptions (e.g., to avoid circular dependencies), we begin our proof of<br><strong id=\"mult_9_4\">mult_9_4:</strong> <a class=\"ProveItLink\" href=\"../../../__pv_it/theorems/2deafa371ccb2a2d6c2d704bf11e2580333346f80/expr.ipynb\"><img src=\"data:image/png;base64,iVBORw0KGgoAAAANSUhEUgAAAGEAAAAVBAMAAACkm51HAAAAMFBMVEX///8AAAAAAAAAAAAAAAAA\n",
       "AAAAAAAAAAAAAAAAAAAAAAAAAAAAAAAAAAAAAAAAAAAv3aB7AAAAD3RSTlMAInZUiRDNmWbv3US7\n",
       "qzJazP2FAAAACXBIWXMAAA7EAAAOxAGVKw4bAAABoklEQVQ4y32TP0jDUBDGvzZJ/6S1dXZqQRBc\n",
       "LCKu7VBwUrKIi9AuguDSQaiKQlzUzYLoUoqiuAhCcNMpOqkI7eIiFIu4KChiMRRF670UkvASckte\n",
       "7t7v3Xf37gHoh8s8XA4LZty+M19iDAiX7x2ORAlBld8VyK9qgJifAqQipEO8OHTIDWCOJ2YgtBFY\n",
       "wAOdr6KvgrhuB4eJ2OSJkYxkIJTCHRAFkkWIX7aoDSKiCkecazCQNb3jQEFH8MeKiSEiQq5CIHRw\n",
       "Yy4Wezk6ViTNCLHhIi5U7D0PUfnzMOv4tJqiMiJSZOuVE2anpv+p2YKhYgc4onZV8da2RIERQsWt\n",
       "qi11gWUFVda6wdE/+hTYwesmkfhwX9z+9DewrZkEer2SSyQqZRIxPsc7UM8YRKhMFZl1H7Fm87GW\n",
       "g3DA1dFViLg1c1yRwl0UWvZxUVa5zuWokSolS3UAkzSLx7h2BJO0O5zjiC12H/GcRL16pd98WbNj\n",
       "4fpvCrLGEbEym8SJNdIit7wGesBn2CMlL++S3/u49PAFdD9i1sMX9322dGcuS/vs/wcuNG7bpgat\n",
       "qQAAAABJRU5ErkJggg==\n",
       "\" style=\"display:inline;vertical-align:middle;\" /></a><br>(see <a class=\"ProveItLink\" href=\"../../../__pv_it/theorems/24040798b337964fd60d8304cce96841bddad92f0/dependencies.ipynb\">dependencies</a>)<br>"
      ],
      "text/plain": [
       "<IPython.core.display.HTML object>"
      ]
     },
     "metadata": {},
     "output_type": "display_data"
    },
    {
     "name": "stdout",
     "output_type": "stream",
     "text": [
      "mult_9_4 may now be readily provable (assuming required theorems are usable).  Simply execute \"%qed\".\n"
     ]
    }
   ],
   "source": [
    "%proving mult_9_4"
   ]
  },
  {
   "cell_type": "code",
   "execution_count": null,
   "metadata": {},
   "outputs": [],
   "source": []
  }
 ],
 "metadata": {
  "kernelspec": {
   "display_name": "Python 3",
   "language": "python",
   "name": "python3"
  }
 },
 "nbformat": 4,
 "nbformat_minor": 0
}