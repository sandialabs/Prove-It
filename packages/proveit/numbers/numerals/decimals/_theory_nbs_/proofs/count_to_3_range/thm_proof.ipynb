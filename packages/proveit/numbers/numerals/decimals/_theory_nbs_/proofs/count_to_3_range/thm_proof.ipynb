{
 "cells": [
  {
   "cell_type": "markdown",
   "metadata": {},
   "source": [
    "Proof of <a class=\"ProveItLink\" href=\"../../../../../../_theory_nbs_/theory.ipynb\">proveit</a>.<a class=\"ProveItLink\" href=\"../../../../../_theory_nbs_/theory.ipynb\">numbers</a>.<a class=\"ProveItLink\" href=\"../../../../_theory_nbs_/theory.ipynb\">numerals</a>.<a class=\"ProveItLink\" href=\"../../theory.ipynb\">decimals</a>.<a class=\"ProveItLink\" href=\"../../theorems.ipynb#count_to_3_range\">count_to_3_range</a> theorem\n",
    "========"
   ]
  },
  {
   "cell_type": "code",
   "execution_count": 1,
   "metadata": {},
   "outputs": [],
   "source": [
    "import proveit\n",
    "theory = proveit.Theory() # the theorem's theory"
   ]
  },
  {
   "cell_type": "code",
   "execution_count": 2,
   "metadata": {},
   "outputs": [
    {
     "data": {
      "text/html": [
       "With these <a href=\"allowed_presumptions.txt\">allowed</a>/<a href=\"disallowed_presumptions.txt\">disallowed</a> theorem/theory presumptions (e.g., to avoid circular dependencies), we begin our proof of<br><strong id=\"count_to_3_range\">count_to_3_range:</strong> <a class=\"ProveItLink\" href=\"../../../__pv_it/theorems/027cbe4f7308a0a4a88117c27f5ebb869bf4828c0/expr.ipynb\"><img src=\"data:image/png;base64,iVBORw0KGgoAAAANSUhEUgAAAL8AAAAVBAMAAADlQyK9AAAAMFBMVEX///8AAAAAAAAAAAAAAAAA\n",
       "AAAAAAAAAAAAAAAAAAAAAAAAAAAAAAAAAAAAAAAAAAAv3aB7AAAAD3RSTlMAInZUiRDNmWbv3US7\n",
       "qzJazP2FAAAACXBIWXMAAA7EAAAOxAGVKw4bAAACMUlEQVQ4y5VVv2sUQRh9t3tr9jZxOSyDxQX/\n",
       "gFyRWG9hKy4pTKOYRrAwmEJyIVyRLpbXikgEESEQc9iZ6vQfMFb+gBCxTBGi4iGkuMzMznw7M99t\n",
       "4B7c8s3M+96bH9/MAWiiCuNGapgASiBoV46/H9N3YxIDJbAgfie5nl7n8U8d3er2EWyxlDAD0jfw\n",
       "6WNWagSiFURfn2iD66ifF9Eywr/AQ5Z3F7i//g8+nYMEpuQs57XBF+B5Ec23oyGwzfI25KYag5LO\n",
       "QQINWAY7OY6Lk/3Qhxhv5H5ezzYo6RwkcNM2+AEcm10N/wNX/EMIV2wDm86hBZ7aBgL7JjgQ4vVD\n",
       "L2kqsw1sOocWeOQapH908OtIzC2WE8bmrsSeDNWSLAOicxiB165BQnOWRRD2vKyk7Rokh9Ur0AIv\n",
       "XINuSRBHmJ55SY2+a9C97JoVAq5BbGZ0CnxuY7p3uUFcvQAScLdoAbWi7ka5HA9feWfgbRHROUjg\n",
       "kzGQHmmGII9kz0u1wnjgpc20tIEilXQXuS1wW/bcaULeO8x2Opt4IEvnmSpjVZU2VN3Wf6MgEV0l\n",
       "qw+1SOBENI52VrewK3z3R6MhEvmWTXfEW4Wk7xmkYs+ufh9+K0gl/S30J1kTHylFAgndXKqkRdKb\n",
       "Zat/x0mLvEBzSyBeM6un8cx52lxsc1LGSHVH4KOOl0xn1KI3fcByZ5o+qYwIS47APd0gXsDULEQD\n",
       "nxTwKmo5ArVW5WWZG9N3bZK/TCFwATLKrN2TWDmMAAAAAElFTkSuQmCC\n",
       "\" style=\"display:inline;vertical-align:middle;\" /></a><br>(see <a class=\"ProveItLink\" href=\"../../../__pv_it/theorems/400a41641567d9f8914052231bc26dfdd561a8d70/dependencies.ipynb\">dependencies</a>)<br>"
      ],
      "text/plain": [
       "<IPython.core.display.HTML object>"
      ]
     },
     "metadata": {},
     "output_type": "display_data"
    }
   ],
   "source": [
    "%proving count_to_3_range"
   ]
  },
  {
   "cell_type": "code",
   "execution_count": null,
   "metadata": {},
   "outputs": [],
   "source": []
  }
 ],
 "metadata": {
  "kernelspec": {
   "display_name": "Python 3",
   "language": "python",
   "name": "python3"
  }
 },
 "nbformat": 4,
 "nbformat_minor": 0
}