{
 "cells": [
  {
   "cell_type": "markdown",
   "metadata": {},
   "source": [
    "Proof of <a class=\"ProveItLink\" href=\"../../../../../../_theory_nbs_/theory.ipynb\">proveit</a>.<a class=\"ProveItLink\" href=\"../../../../../_theory_nbs_/theory.ipynb\">numbers</a>.<a class=\"ProveItLink\" href=\"../../../../_theory_nbs_/theory.ipynb\">numerals</a>.<a class=\"ProveItLink\" href=\"../../theory.ipynb\">decimals</a>.<a class=\"ProveItLink\" href=\"../../theorems.ipynb#range_8_expansion\">range_8_expansion</a> theorem\n",
    "========"
   ]
  },
  {
   "cell_type": "code",
   "execution_count": 1,
   "metadata": {},
   "outputs": [],
   "source": [
    "import proveit\n",
    "theory = proveit.Theory() # the theorem's theory"
   ]
  },
  {
   "cell_type": "code",
   "execution_count": 2,
   "metadata": {},
   "outputs": [
    {
     "data": {
      "text/html": [
       "With these <a href=\"allowed_presumptions.txt\">allowed</a>/<a href=\"disallowed_presumptions.txt\">disallowed</a> theorem/theory presumptions (e.g., to avoid circular dependencies), we begin our proof of<br><strong id=\"range_8_expansion\">range_8_expansion:</strong> <a class=\"ProveItLink\" href=\"../../../__pv_it/theorems/a1cb3dd5dd6eebc3b6f8ee1664c4d2bcf54319f60/expr.ipynb\"><img src=\"data:image/png;base64,iVBORw0KGgoAAAANSUhEUgAABDQAAAAYBAMAAAD34bAXAAAAMFBMVEX///8AAAAAAAAAAAAAAAAA\n",
       "AAAAAAAAAAAAAAAAAAAAAAAAAAAAAAAAAAAAAAAAAAAv3aB7AAAAD3RSTlMAq1RmmUTNIjK7EInv\n",
       "3XZ/CtNrAAAACXBIWXMAAA7EAAAOxAGVKw4bAAAIkklEQVRo3u2aS4wURRjHv53p2Z73NoIJJiYO\n",
       "Me5BBZaAGC66yKKC0UziSUVYJD7iQddAMCYiqyeMIKscEDTSGuMjGnYwXoQAC4bEoMBgIPHBJBMh\n",
       "buJzBXlkEx3r8VV19XRNda2zXpRKaunq71dV//rqm+rqagAmIw1gVsuhGyK5+vruBPrhtNvaPIkS\n",
       "JsIOmCRPOtu2XLe1BHcCMxKXiiWe1TLAcg35vb6BVN26H6R1NSZfwgRYtXM1LYdJZwchO9CuXA27\n",
       "2kcJwr8evXtte6FxA2aAu3aL8hko9qgMsyQqzBJOm4ik0zE9BO3Ciz6jT+tlGCQ4e3yUUOyNk9Ca\n",
       "XXP7a1qWdtjEunuWlHVeQHFNKd1ryx57pObbyoU9ewYt2dmNRmOESUD/LqZ3H20rMrL9PAPkph/E\n",
       "MnwH8LjCcMu7wC1q5WlPEqmdvrEHpV34gdPRGnESdm0soYRCJU5CS9Ydgv1lDcs6bGLfgcRZnReE\n",
       "uHAqeLbsqT9328qFteWOqiX7aV/f3SUmAf37PB9vO8np4Rkgf912ENcA8xSGWxYpd+4VF78RIcle\n",
       "Yw/hdhkdrREn4eB9vrWElmzHAORHNKyj/OBTeP1bKXtB5wUdC/CLF8cKuZ7wgcXQnoDMkCVLAmUN\n",
       "l4D+pRGSK7UVGnnMACt8kNfkXyVYuWVEqTVLnRc4bOwh3C6nD+tkGCSkxsFaQms2Pw4dFzVsXkET\n",
       "+GxfVoYLOi/oWEjP9+LYWWpo2MlNjNuzJdZy3pf+TZKw7Gxvq9GNGWCvLNPUqUQ8syT6W87LKmMP\n",
       "4XY5vUonwyAhV7WX0Joly3PHJQ3brZtuSJzTeEHP5jq9ODYcGlZyMyP2LLENogT075Fa7Yv2QuMu\n",
       "zDDnyDQsZ8+QHnKeRLjFqaAlOi+7TB0E7UL2Vw/pXToZrSUkrz7eixJ2LgKzBCMLhTENSzsXbBAa\n",
       "D+q8IMWF2FEaGmZWSJj603RbufnH9i22H9ozgBLQv3cCbG8vNILf8F+inEuRcE0qofmX+A0zS3Re\n",
       "5ht7kO2CA58hzWo4NZY8iJfQVRcSKssgRoKJhc11DUs7F6yc7penDGq8IMWprNtDQ8PMCgnbYX3Z\n",
       "Um7XKsiXrId2JaAE9O9T4Aax+h5/7rG/uHdJB4vfANr5iUhR3P8KM7iXRPkFh/SQCB5o3FIooSU6\n",
       "LzeaIiNoF0bhLNKRGjES1g+ihHTpdoiRYGLhuI4lHUpWeaCc1XhBilPZHNDQMLOBhEzVUu7wGDiH\n",
       "bYfm0t6ZBPRvxs+V6UrdR5etfXzJZNXxtYUXaLpJ2Mmv9dUNG0TswCHMkBgTZT9PhpweC6KKXebL\n",
       "aIG7a7Uva7XjwbxsNoVG0C74bGO1WVcjRsJsQAlZOAoxEkysM6RjSYecJevYqSO4jgEc86NekOJU\n",
       "9mYWGgZWlQDORUu5w1VInrcdWo6GIJOA/k3U2S40c9Ngk6ub32izOFyH0o3GH/BAc2jwLQ67nk2c\n",
       "nRpp2vzQ0GCW6E92mfFYI2gXnCrSy7Sh0VrCXuETsW03SDCxc0DHHgpeB+RKsAFgRynqBSlOYd06\n",
       "Cw0zK7aW/eBcspTb1Q/Jc7ZDK9AZZxKEf/tvYY1EjpCaQ8MpozQeHr3yJEU+UDKeLK/Mkr6rwQro\n",
       "iQcKs0TnZaYpNJR2+TnNTFFD3WvESHgFhIROz4+RYGATFXhaw9IOBStCo+HT0Ih4QYpT2NSUKdcc\n",
       "qMSwYmtJXpLGLOVm+KphN7Rh2iWTIPz7MT0AS1z9MT1BZ3p23qaEBhZoc2jPsL1GzpfHIW9ihnxd\n",
       "lLPnc2RHQ1vg3XNLpo6W6LwsAMmGVioItwtsB8boBc1sjISjICQMlysxEgzsSwA/chYn7KjsXLAi\n",
       "NA6wBwqT0DwO6YVgX5L3IIadJbYlkB+ylEseS86I7dBW0B0CkyD8+yyLBzbYOltjeruV0CAFZxtJ\n",
       "W2At2jPs/nWkX9xsyFfJ9WVRTo+txnfVCxBYch5aQvOyf0C8mFJ2uB8vZEltF+DW0OuymswS3PMg\n",
       "JGx2e4wSTKx7oq+vylmuDVnauWDFdM9l5xpUQmQc0gtBaHQNxbFCQi/87FvKhdfho5ItO7uCr7XS\n",
       "vx1sk9FH671NV5Os/0kQGqJA0n1oZ6GRJdYUPnI2YcYtDrueSrot0NHV/MCSrqJFFTTl2Epy5yQg\n",
       "W6DxdgLwT+HbpnbhKvrnJObwNzKjBNzWUQkdc8EowcQWGo1GP2e5NmRph4IV053qW1JGCZFxTG0+\n",
       "13B2/F6PYYXcNQuXgqVcyPVNt2afpU8BJiHs3y1inZEnBEMQPkmbwexLtr2xbVsPJElwpZV3GPYe\n",
       "szD8TrOOjZ2FBlq+1p3BsWCuBmwoXQ9N7R5F2q1Gvk8ZJTievQRLlmlDtjCoOw2VEqLj+Adsm3Lt\n",
       "2HVR/37ONiLvs+uLamhcFA+UF9GeEWcm4oGCX2MS3kNBGcQnHPqclJZ5um9bwaexXHQHWoFQu1ck\n",
       "x0Pf89RklDCjs2QtwZatKKz6BSsVkrZIN45/xLYp145dFPFvdhyyFeh24EOyGowooZEeUbah3Y4I\n",
       "jS5SsygifivLhe39Sll8z91JawpLpsV/b2JHtJxt2obWQW03fZa95Dwja4SSScI374K1BEuWagvY\n",
       "ra2O64Y045gEdsJy7VgmIexfEgHpg/DWKGwsQdFTQqMoj0pJa8SOoUEXOtn8Bywnz6hlYab+k5Zs\n",
       "q6//3AH1yP2iWpu0e8/iIBQjySThljvAWoIly06DJftBqxfvAd042mcnLNeOZRLC/qULVwK/zeL3\n",
       "v6Gmb5epSnCuEVbt1nlWy/RMO5qe0wsqDlh9rME+KK2rMfkSJsC6dT07Cv8K267cVuxoxL+ZGWQV\n",
       "uJ8FgP/wRuXISxRouiM4DVXLl9N/OuV+JX/Y+pCEe5YqoSEKDAq/QCTLl/32P03RZcjXnFReTv/V\n",
       "9Dfjr6nLdn/eBAAAAABJRU5ErkJggg==\n",
       "\" style=\"display:inline;vertical-align:middle;\" /></a><br>(see <a class=\"ProveItLink\" href=\"../../../__pv_it/theorems/0b9379b8af86446a9b01765039c982fff0145c190/dependencies.ipynb\">dependencies</a>)<br>"
      ],
      "text/plain": [
       "<IPython.core.display.HTML object>"
      ]
     },
     "metadata": {},
     "output_type": "display_data"
    }
   ],
   "source": [
    "%proving range_8_expansion"
   ]
  },
  {
   "cell_type": "code",
   "execution_count": null,
   "metadata": {},
   "outputs": [],
   "source": []
  }
 ],
 "metadata": {
  "kernelspec": {
   "display_name": "Python 3",
   "language": "python",
   "name": "python3"
  }
 },
 "nbformat": 4,
 "nbformat_minor": 0
}