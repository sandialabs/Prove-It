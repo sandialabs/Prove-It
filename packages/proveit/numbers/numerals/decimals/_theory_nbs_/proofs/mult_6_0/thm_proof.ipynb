{
 "cells": [
  {
   "cell_type": "markdown",
   "metadata": {},
   "source": [
    "Proof of <a class=\"ProveItLink\" href=\"../../../../../../_theory_nbs_/theory.ipynb\">proveit</a>.<a class=\"ProveItLink\" href=\"../../../../../_theory_nbs_/theory.ipynb\">numbers</a>.<a class=\"ProveItLink\" href=\"../../../../_theory_nbs_/theory.ipynb\">numerals</a>.<a class=\"ProveItLink\" href=\"../../theory.ipynb\">decimals</a>.<a class=\"ProveItLink\" href=\"../../theorems.ipynb#mult_6_0\">mult_6_0</a> theorem\n",
    "========"
   ]
  },
  {
   "cell_type": "code",
   "execution_count": 1,
   "metadata": {},
   "outputs": [],
   "source": [
    "import proveit\n",
    "theory = proveit.Theory() # the theorem's theory"
   ]
  },
  {
   "cell_type": "code",
   "execution_count": 2,
   "metadata": {},
   "outputs": [
    {
     "data": {
      "text/html": [
       "With these <a href=\"allowed_presumptions.txt\">allowed</a>/<a href=\"disallowed_presumptions.txt\">disallowed</a> theorem/theory presumptions (e.g., to avoid circular dependencies), we begin our proof of<br><strong id=\"mult_6_0\">mult_6_0:</strong> <a class=\"ProveItLink\" href=\"../../../__pv_it/theorems/c8b009effdd5216b07acf35d211f32976a11a8d30/expr.ipynb\"><img src=\"data:image/png;base64,iVBORw0KGgoAAAANSUhEUgAAAFcAAAAVBAMAAADBdm84AAAAMFBMVEX///8AAAAAAAAAAAAAAAAA\n",
       "AAAAAAAAAAAAAAAAAAAAAAAAAAAAAAAAAAAAAAAAAAAv3aB7AAAAD3RSTlMAInZUiRDNmWbv3US7\n",
       "qzJazP2FAAAACXBIWXMAAA7EAAAOxAGVKw4bAAABU0lEQVQoz3XTMUvDQBQH8H+aXpvEaDs5OKWT\n",
       "k5BBXFsko0JWQWgQhE7SoVTRpZvoYhYnQSJuglD8AkZxVPATSGcXOygKLr54SZpcLgeB3I8/j3eX\n",
       "FwBNFJaE+KrYRbsrC6/S4ziTdO8sN1EZFWIRg3nA4ng+SLBmsytgV8xyrlORHZhhoqfABnAshjnr\n",
       "gPqV0Reg7UJ3hTDnNcD0M/oNfNioiU1zHlDxvfWjBFmkI1Rf89mYe0CjBz25P+WT1ILmRZvDm2jd\n",
       "zvga6E5RP8+GO1D9fOWYLygcQPsl6VI5RnpvYWEqtMGZwg0P2g+J0ecnaduY84sHJKY2zLjy/3oG\n",
       "zlyoQb7nmB/pnqnntNIJMAS0UKjMeZPenrCVTpNhs0v6rh0hzPmd3qr7b7OjDFZoqIyxEI55IhvF\n",
       "JfmEan2ZHpTM84PElLAkvC0xs+y/UqyiteTRP5YqWefREcSFAAAAAElFTkSuQmCC\n",
       "\" style=\"display:inline;vertical-align:middle;\" /></a><br>(see <a class=\"ProveItLink\" href=\"../../../__pv_it/theorems/501dd0fee90fd7e7dd4a5bfcca055b6e7c5dca070/dependencies.ipynb\">dependencies</a>)<br>"
      ],
      "text/plain": [
       "<IPython.core.display.HTML object>"
      ]
     },
     "metadata": {},
     "output_type": "display_data"
    },
    {
     "name": "stdout",
     "output_type": "stream",
     "text": [
      "mult_6_0 may now be readily provable (assuming required theorems are usable).  Simply execute \"%qed\".\n"
     ]
    }
   ],
   "source": [
    "%proving mult_6_0"
   ]
  },
  {
   "cell_type": "code",
   "execution_count": null,
   "metadata": {},
   "outputs": [],
   "source": []
  }
 ],
 "metadata": {
  "kernelspec": {
   "display_name": "Python 3",
   "language": "python",
   "name": "python3"
  }
 },
 "nbformat": 4,
 "nbformat_minor": 0
}