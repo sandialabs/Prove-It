{
 "cells": [
  {
   "cell_type": "markdown",
   "metadata": {},
   "source": [
    "Proof of <a class=\"ProveItLink\" href=\"../../../../../../_theory_nbs_/theory.ipynb\">proveit</a>.<a class=\"ProveItLink\" href=\"../../../../../_theory_nbs_/theory.ipynb\">numbers</a>.<a class=\"ProveItLink\" href=\"../../../../_theory_nbs_/theory.ipynb\">numerals</a>.<a class=\"ProveItLink\" href=\"../../theory.ipynb\">decimals</a>.<a class=\"ProveItLink\" href=\"../../theorems.ipynb#tuple_len_7_typical_eq\">tuple_len_7_typical_eq</a> theorem\n",
    "========"
   ]
  },
  {
   "cell_type": "code",
   "execution_count": 1,
   "metadata": {},
   "outputs": [],
   "source": [
    "import proveit\n",
    "theory = proveit.Theory() # the theorem's theory"
   ]
  },
  {
   "cell_type": "code",
   "execution_count": 2,
   "metadata": {},
   "outputs": [
    {
     "data": {
      "text/html": [
       "With these <a href=\"allowed_presumptions.txt\">allowed</a>/<a href=\"disallowed_presumptions.txt\">disallowed</a> theorem/theory presumptions (e.g., to avoid circular dependencies), we begin our proof of<br><strong id=\"tuple_len_7_typical_eq\">tuple_len_7_typical_eq:</strong> <a class=\"ProveItLink\" href=\"../../../__pv_it/theorems/06278e8dc731cd89b11008159f618afd521f83180/expr.ipynb\"><img src=\"data:image/png;base64,iVBORw0KGgoAAAANSUhEUgAAAbIAAAAWBAMAAABXpwRjAAAAMFBMVEX///8AAAAAAAAAAAAAAAAA\n",
       "AAAAAAAAAAAAAAAAAAAAAAAAAAAAAAAAAAAAAAAAAAAv3aB7AAAAD3RSTlMAq1RmmUTNIjK7EInv\n",
       "3XZ/CtNrAAAACXBIWXMAAA7EAAAOxAGVKw4bAAAFfElEQVRYw9VYa2gcVRQ+OzvZ2Z19ZEURsRKm\n",
       "CBVqayNKsRU2C4n1UZoG/KOiuBJBLKITECQY2hV/+MOErVqI+KNOoRRKpLuxDwNiUipFm1JNQoJ9\n",
       "EJjaUmMrMbY+SiqJ59zHZGZnb2iSX96WmW/Onvnu+e6959w7AVh2s/EfNQNW2IzaNIbsZqlM+MqK\n",
       "YspYcJSBn1eqrM6la7KtyswN2M3tidrsMWFcBLIE719GPA8CV6ZVfMaDZ2p4xt/Ih2z6187Cw6VF\n",
       "lGE30CN9397yqSocbX5+/l/ORHEheILga0sXZhaEsgMB86u1fOvD497f7bPFHKUy7Ma86y2hzNgN\n",
       "Q22KeJJ7WlrGOBPFheA9/saSm94olDUHzNdr+b7shEwnnvfZonmlMuoGfhe+ERtSx1XKUEaeM1Fc\n",
       "CEhl0lq6shQIZYGu6mZr+X4TTq2g37BSGXXjKUvNQuQf1WpE4YKJxTUMURyU2DLSbI1g0AqBaEZq\n",
       "+YaXaJVfu1LZGr+yyAhEbqpDGhBMLC4EZyYnTy9D2VbBoFMB6RjcKTKm4aKY/+T0YyI5Vk2JJWoO\n",
       "XhYhRu8bFUVFG/wFh7ZfqWyrXxm29Iy6OlJO9UtlCJ4C+GwZytoFQwwDq/sOPuedl3eYfLkYY/A0\n",
       "d3zRToil91IxLutovSvAMejCgDZ6yrZNUhv1lLVXKSu5yogi5L9RKkPQAUbWq8+vB3yHir6H/cFS\n",
       "MSYY0jhHXzTCNm7d4MAPfGwrApjfgs4XrHEDMnJedglmbZaJXKecs7EqZaPqse6iyzqpDEHC8XGu\n",
       "Cvju8j988lzgt5OCIYUvbwe4wK1bAG4xsF0Go8+QSmqJuemj8u0Nsg5loYSHjJJS2cmgMn2RKn6M\n",
       "zalUhkBzfQXk+4Dvr/6HqqrnV3YKzL+49QLU8aQ65dXQ3VDmMddnw9WyZMFvtGJvV9nDi+THORBM\n",
       "LC4ChRxe+nJf0Wqcu8g2zUsuM70J7EZbCqw+TaUhOp0Lr0ZzDqIzcjvT2QigSbSyC01VuYXtI3Fv\n",
       "shlcr8yz4GrE8847yqPDHyCYWFwEvtyB5p/ilPmZ8xmqWRPx48xEFdY8yw9gUbYOLnsx7RUMCRfM\n",
       "6xApPADU/U3KOQI3sK4wULbgbs02eeqBBTxIykFCTWCiJ2xSztleqYy99yHAVQhv+ybbIv8EwcTi\n",
       "ItCFket5EgOJxmiBFrNZZCaaiEj2XTZnOkk2ZnmxEuWVGJJZ6n59Pm/+jU93wh5gAAvjAAMJVxvX\n",
       "oYy0SL3fZjYwcPEyVLYjs6K211bGqviQzb2N8ZaWEf5eQRB4T6DdkpsRi4tApEjZkqGZSRX1LE8d\n",
       "ZqJpSjWv5flP+jA4eQboEQxx3HP3XfugoQiTOJj7jqAbgeThnMOA2TDQMQXp8+h67RGX/wgajRmh\n",
       "uoYjtGdPKJVRN3f8+Eoj807jqbfAEY3zOIgLYzdOgGBicU3IbLATm/GFekhhNtXbwnTVkQ8kmjrj\n",
       "U8vKelGcrs565xtHCQDWBrxo/MSvMYzRGFEqSxdDXFp4OXrsjIniMuQhJ2WXnnX6IO1sgj6ItUGl\n",
       "j0zvoylhQcXEDCk7+IuWjWR9p1im7FHfmVQFACp+2+qYxVH8XigVxbG3trJoPsSVDFePiv+czuLi\n",
       "gNKv+aHD0G3FW128Gs05p9sSJrM158RxorvxvwWtV7wC1yuUJeRH7yFQAjBdv+3cAYEiwybV385F\n",
       "vs96Q1yHwhXEY++U32edQQ8rdBU3jU+NJRYl/8gUyky5eXr0YQAZ8NtyTwqEadYmo1coOxjiCp+v\n",
       "Fth7pbLe4KeFU32Vtxfg43vooQeuLBxAXZhiYOdK/1qQYbOeKVabi6KbpTJhXJngX0+ioau8NcKg\n",
       "Sw+djz8D/5f2H0ATp5YLgnmdAAAAAElFTkSuQmCC\n",
       "\" style=\"display:inline;vertical-align:middle;\" /></a><br>(see <a class=\"ProveItLink\" href=\"../../../__pv_it/theorems/8bcbf85274f428551a55906a6afee84ab8d821c00/dependencies.ipynb\">dependencies</a>)<br>"
      ],
      "text/plain": [
       "<IPython.core.display.HTML object>"
      ]
     },
     "metadata": {},
     "output_type": "display_data"
    }
   ],
   "source": [
    "%proving tuple_len_7_typical_eq"
   ]
  },
  {
   "cell_type": "code",
   "execution_count": null,
   "metadata": {},
   "outputs": [],
   "source": []
  }
 ],
 "metadata": {
  "kernelspec": {
   "display_name": "Python 3",
   "language": "python",
   "name": "python3"
  }
 },
 "nbformat": 4,
 "nbformat_minor": 0
}