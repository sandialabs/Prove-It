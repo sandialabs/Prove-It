{
 "cells": [
  {
   "cell_type": "markdown",
   "metadata": {},
   "source": [
    "Proof of <a class=\"ProveItLink\" href=\"../../../../../../_theory_nbs_/theory.ipynb\">proveit</a>.<a class=\"ProveItLink\" href=\"../../../../../_theory_nbs_/theory.ipynb\">numbers</a>.<a class=\"ProveItLink\" href=\"../../../../_theory_nbs_/theory.ipynb\">numerals</a>.<a class=\"ProveItLink\" href=\"../../theory.ipynb\">decimals</a>.<a class=\"ProveItLink\" href=\"../../theorems.ipynb#mult_4_7\">mult_4_7</a> theorem\n",
    "========"
   ]
  },
  {
   "cell_type": "code",
   "execution_count": 1,
   "metadata": {},
   "outputs": [],
   "source": [
    "import proveit\n",
    "theory = proveit.Theory() # the theorem's theory"
   ]
  },
  {
   "cell_type": "code",
   "execution_count": 2,
   "metadata": {},
   "outputs": [
    {
     "data": {
      "text/html": [
       "With these <a href=\"allowed_presumptions.txt\">allowed</a>/<a href=\"disallowed_presumptions.txt\">disallowed</a> theorem/theory presumptions (e.g., to avoid circular dependencies), we begin our proof of<br><strong id=\"mult_4_7\">mult_4_7:</strong> <a class=\"ProveItLink\" href=\"../../../__pv_it/theorems/f462c090822dda5ef6ece46552c4c4e10d19b7270/expr.ipynb\"><img src=\"data:image/png;base64,iVBORw0KGgoAAAANSUhEUgAAAGEAAAAVBAMAAACkm51HAAAAMFBMVEX///8AAAAAAAAAAAAAAAAA\n",
       "AAAAAAAAAAAAAAAAAAAAAAAAAAAAAAAAAAAAAAAAAAAv3aB7AAAAD3RSTlMAInZUiRDNmWbv3US7\n",
       "qzJazP2FAAAACXBIWXMAAA7EAAAOxAGVKw4bAAABlklEQVQ4y31TPUjDUBD+krY2xjYEQdQiqJNr\n",
       "h+LaCoKLhUxOQl0EBwsdhJQiWFx0rIODiCi4CWJxcBOr4Gz9AUEpzaY4iYJQFeK9V0nTl5AHObjv\n",
       "8t3dd+8eAB2e4wO5jpzscocMMqeBjBQzL46btm27IpfFvyRz2UJkeqYKRBYYcOyEZk2zlMSiyBhB\n",
       "+AdR4B6IsnRyh5EBBoENkXEL7GATmAN6mf+ad0Kkqk6oITD2DTT1LGdM8sR5VzBsAT2ikCegaaWv\n",
       "UQRWWFN6vqtlYtW9IzpB3J6gFpbYROFmPNOn8HmUjtj516h9AGvfdFOHXK2LIVXIhCqeEmodoamb\n",
       "T2CXEuptRo4nDjOrvXsYq2yCoZbBGP1oM9QCtzUyfZ4aCinbBkaTrKvzRqP14IRyTHToQNSRgjRA\n",
       "heNlXHF/r5PsglVSakIJLQPZ2AJiOrIc+O3E0nTriGYERoKWB2cG1oE3rsq+c2LDbJfVqngZtv0F\n",
       "7dEkXLX8FjoRsOxKwQ8tBr2PSx9MqgUx5n2wWOCzlca82HjA/39CLmCuAw1xYwAAAABJRU5ErkJg\n",
       "gg==\n",
       "\" style=\"display:inline;vertical-align:middle;\" /></a><br>(see <a class=\"ProveItLink\" href=\"../../../__pv_it/theorems/8cfe41c1337ed6196c6f4b3b53a196ab1683027a0/dependencies.ipynb\">dependencies</a>)<br>"
      ],
      "text/plain": [
       "<IPython.core.display.HTML object>"
      ]
     },
     "metadata": {},
     "output_type": "display_data"
    },
    {
     "name": "stdout",
     "output_type": "stream",
     "text": [
      "mult_4_7 may now be readily provable (assuming required theorems are usable).  Simply execute \"%qed\".\n"
     ]
    }
   ],
   "source": [
    "%proving mult_4_7"
   ]
  },
  {
   "cell_type": "code",
   "execution_count": null,
   "metadata": {},
   "outputs": [],
   "source": []
  }
 ],
 "metadata": {
  "kernelspec": {
   "display_name": "Python 3",
   "language": "python",
   "name": "python3"
  }
 },
 "nbformat": 4,
 "nbformat_minor": 0
}