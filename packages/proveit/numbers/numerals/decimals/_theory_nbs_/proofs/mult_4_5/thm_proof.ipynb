{
 "cells": [
  {
   "cell_type": "markdown",
   "metadata": {},
   "source": [
    "Proof of <a class=\"ProveItLink\" href=\"../../../../../../_theory_nbs_/theory.ipynb\">proveit</a>.<a class=\"ProveItLink\" href=\"../../../../../_theory_nbs_/theory.ipynb\">numbers</a>.<a class=\"ProveItLink\" href=\"../../../../_theory_nbs_/theory.ipynb\">numerals</a>.<a class=\"ProveItLink\" href=\"../../theory.ipynb\">decimals</a>.<a class=\"ProveItLink\" href=\"../../theorems.ipynb#mult_4_5\">mult_4_5</a> theorem\n",
    "========"
   ]
  },
  {
   "cell_type": "code",
   "execution_count": 1,
   "metadata": {},
   "outputs": [],
   "source": [
    "import proveit\n",
    "theory = proveit.Theory() # the theorem's theory"
   ]
  },
  {
   "cell_type": "code",
   "execution_count": 2,
   "metadata": {},
   "outputs": [
    {
     "data": {
      "text/html": [
       "With these <a href=\"allowed_presumptions.txt\">allowed</a>/<a href=\"disallowed_presumptions.txt\">disallowed</a> theorem/theory presumptions (e.g., to avoid circular dependencies), we begin our proof of<br><strong id=\"mult_4_5\">mult_4_5:</strong> <a class=\"ProveItLink\" href=\"../../../__pv_it/theorems/b5aac5b8fe1b8c9f22d30925b042d7b0bff909e50/expr.ipynb\"><img src=\"data:image/png;base64,iVBORw0KGgoAAAANSUhEUgAAAGEAAAAVBAMAAACkm51HAAAAMFBMVEX///8AAAAAAAAAAAAAAAAA\n",
       "AAAAAAAAAAAAAAAAAAAAAAAAAAAAAAAAAAAAAAAAAAAv3aB7AAAAD3RSTlMAInZUiRDNmWbv3US7\n",
       "qzJazP2FAAAACXBIWXMAAA7EAAAOxAGVKw4bAAABmElEQVQ4y32TPUjDQBTH/4lNTWMNwUUpDnVy\n",
       "EjIU12ZwtBB3wS6CiEKHYqUIFhfRRRcHP6uoiyCKu1gdHEShiiAIpdkUF0WkIhXqu1TTegl5w3Hv\n",
       "vfu9j7t3ADS4xMPUJKL+T1WBIZz4EjG2PDlqqDK+DzHHnxIyExYw0EvZpSQzHDouJb9nAqM80Y1A\n",
       "FUFd2gFaWTixQbTb6zxP3AKrWAQGqQqmP09yRMjkiLyJsnYDxE30M93giSDfyCNQtj6BVx1pVpTW\n",
       "RMwlqMVA0X1FRxIjchijfRcaRNgUqoBs30f2gMlvj+q78EFEFLusqCaC5ApoWXalUIo2YWCdAmp1\n",
       "YiRZ981qUN9cxAwkIs6ijOhAnVBStFwSYaHNlUOmzqiPuM6qOi2Vvu7/PGt0KVTVNt9HDIJ2DSyZ\n",
       "uLD1TSeWAWxQxAKXQjUgmgvAFJCwDd+OqxPiCk2CwRGRTCYLRZe2gBe7q9pdY+Qe6L2VY/4xarUK\n",
       "pHQfvZVieQ10xGfY5ZSXddrvf5x72ISCHzHsYQv7flsh6rb1+Jz/AY8QY97UJmDoAAAAAElFTkSu\n",
       "QmCC\n",
       "\" style=\"display:inline;vertical-align:middle;\" /></a><br>(see <a class=\"ProveItLink\" href=\"../../../__pv_it/theorems/944639dee3b6261bfb26ca6405b1aec29d883f7e0/dependencies.ipynb\">dependencies</a>)<br>"
      ],
      "text/plain": [
       "<IPython.core.display.HTML object>"
      ]
     },
     "metadata": {},
     "output_type": "display_data"
    },
    {
     "name": "stdout",
     "output_type": "stream",
     "text": [
      "mult_4_5 may now be readily provable (assuming required theorems are usable).  Simply execute \"%qed\".\n"
     ]
    }
   ],
   "source": [
    "%proving mult_4_5"
   ]
  },
  {
   "cell_type": "code",
   "execution_count": null,
   "metadata": {},
   "outputs": [],
   "source": []
  }
 ],
 "metadata": {
  "kernelspec": {
   "display_name": "Python 3",
   "language": "python",
   "name": "python3"
  }
 },
 "nbformat": 4,
 "nbformat_minor": 0
}