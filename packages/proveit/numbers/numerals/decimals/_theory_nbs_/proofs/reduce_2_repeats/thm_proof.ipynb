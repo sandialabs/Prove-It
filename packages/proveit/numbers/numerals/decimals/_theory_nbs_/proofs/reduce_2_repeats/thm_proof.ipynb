{
 "cells": [
  {
   "cell_type": "markdown",
   "metadata": {},
   "source": [
    "Proof of <a class=\"ProveItLink\" href=\"../../../../../../_theory_nbs_/theory.ipynb\">proveit</a>.<a class=\"ProveItLink\" href=\"../../../../../_theory_nbs_/theory.ipynb\">numbers</a>.<a class=\"ProveItLink\" href=\"../../../../_theory_nbs_/theory.ipynb\">numerals</a>.<a class=\"ProveItLink\" href=\"../../theory.ipynb\">decimals</a>.<a class=\"ProveItLink\" href=\"../../theorems.ipynb#reduce_2_repeats\">reduce_2_repeats</a> theorem\n",
    "========"
   ]
  },
  {
   "cell_type": "code",
   "execution_count": 1,
   "metadata": {},
   "outputs": [],
   "source": [
    "import proveit\n",
    "theory = proveit.Theory() # the theorem's theory"
   ]
  },
  {
   "cell_type": "code",
   "execution_count": 2,
   "metadata": {},
   "outputs": [
    {
     "data": {
      "text/html": [
       "With these <a href=\"allowed_presumptions.txt\">allowed</a>/<a href=\"disallowed_presumptions.txt\">disallowed</a> theorem/theory presumptions (e.g., to avoid circular dependencies), we begin our proof of<br><strong id=\"reduce_2_repeats\">reduce_2_repeats:</strong> <a class=\"ProveItLink\" href=\"../../../__pv_it/theorems/f2a860a39af9def322efc5d337ffe2341a3d17e70/expr.ipynb\"><img src=\"data:image/png;base64,iVBORw0KGgoAAAANSUhEUgAAAPAAAAAVBAMAAACK8n6QAAAAMFBMVEX///8AAAAAAAAAAAAAAAAA\n",
       "AAAAAAAAAAAAAAAAAAAAAAAAAAAAAAAAAAAAAAAAAAAv3aB7AAAAD3RSTlMAq1RmmUTNIjK7EInv\n",
       "3XZ/CtNrAAAACXBIWXMAAA7EAAAOxAGVKw4bAAACz0lEQVRIx5VWS4gTQRB9yUwySWcTFjwpIgOK\n",
       "Bz8kiCiCn8DiB9aV4Fk04EHwFI/CRuJVkdWDiB6WHBZxPWjcmyxILoIoShTFRQhM/CB4CB7EFb3Y\n",
       "v0n39PTukKJfMlNVU2+quqt7gLg0JMYV2zOeVeNZny/5AmPLWYvuc0yTCQQm2c1W3bJTwpTlrwll\n",
       "KFViqnQn7vZF4Ci7vqDpSV3AlKxPPiakfDGmuW/xyrY5rrKS39T0bkXAlEPA0wTivTHNlMXLqXIw\n",
       "/oI+oxMSptwCyu31iSdi9q7N7SWHQ5PL6urtEqb8AubYC6YaRom0IpqFStdtbucFXvf7r3T1tMSj\n",
       "wYNlrRKEEbPA3grQbEVDkeGm60u0cpMGhdsZ2aBCPgHHCeCe5X1QLW1xe1r7/aPEAbtqthh3lACD\n",
       "YIbOHE9wps/kbVgCaYMKuQ8cl+BFXvSdgNNw/qYqBjFvDm/FTBj7caS9gVbWnNKiP7JBhdwFjny7\n",
       "UNOdnwvk4EYmiFDiczxjNM2E0cIx9pf7aa622sgGFXJOIB1E1lZITJ8KzMVV9tcgBt7wTalrIZY2\n",
       "qJBnJOqH6c/weLgvyVLT/BpEb4+7oDVbo9TIrOIhzaFnzDErtbRBhdwNgSW64ZQaG7NyCc8LLNY2\n",
       "owAo6oOQNTMWF/Ugt1Nd0Pl3zC7LB6GNYBQSByRm6dpyMJ+TznKxl6+dxGmQ3/TucZ2Nok9eQG8n\n",
       "ahMD6T8L3YwvuicitL+kjQaQIVXDpnjhVkPnGwILw/QUjdWnCRWrbJDpAXdk7h5fJO/5oB7kVLBt\n",
       "D6tszSDO9UJb8dMoJD5ICJdueEYWWwJy72knHYaaRzNmVHOyQzVmT4DLbKHuRvfwsFiJp3BhvSNB\n",
       "HRsd+ynkfnv2IzTckRC7XCKx8rDs4PnwCCeqNy9LxGRRgkuQSBzEWbRtJ3yXktJFEot8FAUCY8t3\n",
       "i+5K/DulwfEfkGrQa/MIqmYAAAAASUVORK5CYII=\n",
       "\" style=\"display:inline;vertical-align:middle;\" /></a><br>(see <a class=\"ProveItLink\" href=\"../../../__pv_it/theorems/c856adf46d0fd4d513adcca75a96b08a51b604480/dependencies.ipynb\">dependencies</a>)<br>"
      ],
      "text/plain": [
       "<IPython.core.display.HTML object>"
      ]
     },
     "metadata": {},
     "output_type": "display_data"
    }
   ],
   "source": [
    "%proving reduce_2_repeats"
   ]
  },
  {
   "cell_type": "code",
   "execution_count": null,
   "metadata": {},
   "outputs": [],
   "source": []
  }
 ],
 "metadata": {
  "kernelspec": {
   "display_name": "Python 3",
   "language": "python",
   "name": "python3"
  }
 },
 "nbformat": 4,
 "nbformat_minor": 0
}