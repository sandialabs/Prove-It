{
 "cells": [
  {
   "cell_type": "markdown",
   "metadata": {},
   "source": [
    "Proof of <a class=\"ProveItLink\" href=\"../../../../../../_theory_nbs_/theory.ipynb\">proveit</a>.<a class=\"ProveItLink\" href=\"../../../../../_theory_nbs_/theory.ipynb\">numbers</a>.<a class=\"ProveItLink\" href=\"../../../../_theory_nbs_/theory.ipynb\">numerals</a>.<a class=\"ProveItLink\" href=\"../../theory.ipynb\">decimals</a>.<a class=\"ProveItLink\" href=\"../../theorems.ipynb#deci_sequence_reduction\">deci_sequence_reduction</a> theorem\n",
    "========"
   ]
  },
  {
   "cell_type": "code",
   "execution_count": 1,
   "metadata": {},
   "outputs": [],
   "source": [
    "import proveit\n",
    "from proveit import defaults\n",
    "from proveit.numbers.numerals import DecimalSequence\n",
    "theory = proveit.Theory() # the theorem's theory"
   ]
  },
  {
   "cell_type": "code",
   "execution_count": 2,
   "metadata": {},
   "outputs": [
    {
     "data": {
      "text/html": [
       "With these <a href=\"allowed_presumptions.txt\">allowed</a>/<a href=\"disallowed_presumptions.txt\">disallowed</a> theorem/theory presumptions (e.g., to avoid circular dependencies), we begin our proof of<br><strong id=\"deci_sequence_reduction\">deci_sequence_reduction:</strong> <a class=\"ProveItLink\" href=\"../../../__pv_it/theorems/c48c8eb4fde878d7c8e674b4c5d52dd37ef33f660/expr.ipynb\"><img src=\"data:image/png;base64,iVBORw0KGgoAAAANSUhEUgAABWEAAAAaBAMAAAAkmoPQAAAAMFBMVEX///8AAAAAAAAAAAAAAAAA\n",
       "AAAAAAAAAAAAAAAAAAAAAAAAAAAAAAAAAAAAAAAAAAAv3aB7AAAAD3RSTlMAq1RmmUTNIjK7EInv\n",
       "3XZ/CtNrAAAACXBIWXMAAA7EAAAOxAGVKw4bAAALkklEQVR42u1cD4xcRRn/9t/t27d7e6ckRm28\n",
       "bINg09JjpX/CNVo39hChAktrYqhVzgBpaBS2pEqqtrdWohCvvY3YwDWkvEpSrVd72xYES6iH2ByC\n",
       "4EmKkqNnthQp9OxxXqy9lNhz/r+ZefPudq9PPb2b5O1+M/Ptb75v5jfzvpn37gBqSR8ZLMBsmk3/\n",
       "tXRmMFPbD9pmZj/FhVQIGA+mDV5hCjX/2REgXkays4ytIr3BhXQmWLyAUqxy8Rhf9qsIyOeL95B4\n",
       "iRjbiAsurZqxIfwVzs4owobLXFoQFN7el0wV5lK/ZD/Sz8WTUvH3fiMrWV/NTYzCFdJ+Y7og0L7U\n",
       "7FGNNSSucJJdiLHX4Py6qhkbzaOvupkVze5B1za4EXGkLTC82401t9eEUycGv86RikcVpYbJlkiu\n",
       "sN5TE6TPfvaMTqY/6nqIL8TY7+AIoVQ1Yy28Jm+aWUHBCnS9C8cAotnA8JSRimVN4xfza221Z/Aj\n",
       "0sIVO68o3+pMYg1XWOypCdJnH3s0Yw3hwHnXQ3JlCXGTmaoZS6biwZnF2F50fQ4uAKQCw1NHKlwx\n",
       "jV/YLzpt9g7+C25tsl9RfmYya7hCykPtIH32sUcz1puEwgv0QozFm6+6GnZei2bcBiyMvT6+/G8Z\n",
       "uDwwPHWkODfNpb6MlQb/NlOsUF2gwRXq9MU0SJ/97KnLVRv53EYvTNeXBgdfrIGxqcHB4+UZxdho\n",
       "GexxlHphJY6g5pySmaRlDecyHgWEB3VNJzJebppLfRn7leH386IDXNhwpDMjN/726CTWCYVko7ax\n",
       "C9LnIyeLBntUYw1JUjhAL8zYzwLsrIGx0SIknBnFWLL4XIicp/N8bSEh37u1rDd5FTBez3r7nJeb\n",
       "5lI/xtr/cHr4FngpD/v64FFnatZFyJ3zhkGc/kBKgvN5cyZa8lZoxhqCWElhKb0wYzdAvLEGxiLl\n",
       "DdOTWf+ueVSPprk9mhwBeAUJz0FUundrWcMRlFcB413pwMtebppL/RgbPg8prnIF+96Xhc+ojbdN\n",
       "Zh1XCPfqlcH5/Dq1VLNHNdaQZIUr6IUZm3CSeYN25M98fqzMR551GYsW5CemJWE/XrQOPUlFGvuE\n",
       "p3IGZ2BJCnWPNRZCY3AU3WJGoB5FCXxNo9nuAx/2DSmIggcPDcR78BgZvSgKs1BkhlcNXGo//T5H\n",
       "LVUTWgR/RxdBNPgNHLqTfd+E2cGAq7aODrU1olUG53P0vFwhgIixzF9jot58ssI97KSMDVfMG6+j\n",
       "2OgTXflw42G4XmJsc80bL+tOr2SqlXaIYybRTb8qujHTsSfgE41gP15E29o9tIwe1i3RoE0Neeqi\n",
       "RsaymA51SaoEPXnYfobXkWwObvADpgoexr4OsVFruF9bTXFpVKxPk62xaPBv5VHeWvb9W7DPggCu\n",
       "1rqj5Bbca4xjg/A5VZIrBBAxNjrBgk0USH9RD9eyp7Rty43RM55yrYgZ4eVRKEuMrYtUal245hgk\n",
       "mKgsPmIS3dTOvrd/aAfMTTpRJ74SLag90OC4jLUbJeio0pBKS6UuVjZGBS0X3r0rg++QPRX4FCpb\n",
       "yOpo9iy0F31cZ/o63ihed8I6Y3FpQz4+Vh1jGzJwE1+emD32BYig/uLAVVpHu5j+SIpjg/O5p6JU\n",
       "KMa6/nqjC+pNu/BwIWPswfVIWLH9RLoFm4CkN0lUUNpSJk/uwlu/UJEZm7y85oDxeYMEE5WlSybR\n",
       "Te8wrqFdI1xaySVhM56HycyVBZex+OmcgE4oDSUUMLXO++gngfo71N+APnehTs/AB1C4gfvPBp5d\n",
       "hkfP2yuuwuKrhxtPPizhjeEYzcNYXBpxqmZsEcWFCBnHQC089IRQ28cIcA3W4aHGA64pmHx2puRz\n",
       "A+JRHnQgaizx1zbuSpg3LfEh5mELY+y30WL02NpsqjGNoyYs4XEPnZrft5d0XPHwZTJj4ziotQ8N\n",
       "8Sixe/mT3vaUQuvCCUeXTLX4FGQ5AX+LD5YkyuB3UYE8Tp932ZYkimJxj3x9nxQV1MvQCdBzKmPd\n",
       "uoOqLezYJ1Fqz5DTlUQlfCxKZ3xPm8jCM2jnzoqIIHJEwV7yHDwLJ6RjpEvgR+BlLCkVp7LiBKFN\n",
       "wpMYG8omchi5D8krGdIuWJjLEWAf61Q0qoCHmh66qf3i9Zn8sHafoyVIFsEDRI3F/qouihxVaLpn\n",
       "X4F6uJIxNoTAvvkWmrLEZizhwUu9AcXVlLFRsc6RLvsgun5e6GSMtf9knfPONKUwPZDO6ZKpFrEs\n",
       "30HB+Q1HEmXwMdwJYBOz5iV//EX0NTeL9pDDEmO/IUMnQM+pjHXrPgrRLpQeZLZgNqPxD1Vwr21D\n",
       "bTY9teFtytj6AZG1kDiIeq0egxwD9iEU4vvb0PrJWYXxdj+eNTCWlMI2Ry0VoPU59XRrzgrAyHhb\n",
       "8ypD2j30/aYiAfazzkUTCniocd/ra6zBZwwzBZ+fXnSaWKwCUWOxv/hXrovkw1V4OWMxD1+V3zZs\n",
       "gg4SYGGJhPHtKIZdioYuEy7a5TaZsTi1InXYRDa1OasXVr2puksKXUpkI23xnVzSdXEZl6+DnxLw\n",
       "TgZOxFjzNTr4CIRz/MH7PMiRIOG+fGQoKzH2FqVhpXEvY10jblFtwek1MaHE7CGh2HwBgY0Ne2+R\n",
       "893BR/3xCmh4HsbSwH1ntU8QKDLeMcXVzQsBrt46PNQAm33O9hSfJZjafJaTCkT8ne9REgrxv+PY\n",
       "D3uIL5exz6PYsN2iUiv+bon1F35A11hYVdEZexSt99ZCshbnUTDRa49o2+G0dC6TKkYbtw5wyaOL\n",
       "yuTzCfz5DgMnYgptqTTwEnlBI3JnV9cPEWO79cMOwti5bsPXdT3S1ZXljdOcIKaoo/kHVFtwEu+I\n",
       "uC+cEMaK22g8Fy9A0js0ZdfHdCk+UtTwBGOVd142wr2GUjmtVnsvV9RfVyHA1VuHh5q+n2M65VR8\n",
       "dmFq9FlnbFL117vfFQqR0pfi9IUcMuZZd0feBC1R6MbSa/PsMjRZ/WXycCuSB0E/zlj7HDz4M6gn\n",
       "cXghscwpWOrRCClcfOniVU+RwBtSGRjgkq6Lyxavpm9hnmPguxg4EePQoYOfduruHQarTNfYWDNs\n",
       "bG1tzauMfUBuOKE07l1jXSNEVOCGNQlxsPuQ3Om2WAM33X+fA/u9sVHFPdsIVSKlnIYXNh3rxB++\n",
       "//oaNrXtUL+1qL9MR3Ze1VuHh9r//T3FZxemRp91xu5X/LW9t5P97lq9LUlfF8SXYGysEdbBhtPQ\n",
       "kUHSUNb6NTL0kmIcb/W2rQPQGQt91tllmFTdkCp0rnYgkUci4jn7IIXNpVQecaAb6aFN3oCQNF1c\n",
       "1lxC+ySUuwOS6LPPGiPgXIQdOvh3nYZ79rKny0tA7GkUxiJE3jBlJW+c5jieW0eMgGEOcoeY5rYY\n",
       "zL3s+1t3H0Gxr2jv9+PjpmcPrsLNUFeINzkqXvwX75meV4yPj9TA2JshfUhilQtcg3V4qKVpqSXF\n",
       "58pUfZaSCkT8TU/wKCdRCF1NPXwITH81w46kw2xX3tWV157S0vT5q1DMiEiFGL6i+RB5OaEjY/VB\n",
       "RwF/0MJEcQ98mpTfWCHEYZKmi8tCRbRPQtNk46LT6JODczFa9IJ34icum9A9x/pjgf5hhM5YNAS8\n",
       "YXYewBpnOYbn1hEj3MHfSHcLOG0RXKj5KNqYtgT8uC8dwBv2p/wqAvL54j0kXnoYG2NzYo35h+rT\n",
       "LnzjpgxPOhVBdkH7elgA/VmeG+DlJt16OLmGT5OwC87Ew2kv+NDmn6DF6pddO0xmluRnAQPy6QBp\n",
       "3HQey42wSzCbpnHyMDbCvrNVMNb660HO8LvH+wXZBe13w1+gqcBy21/MMMmkuxsWZPk0WSPAmVg3\n",
       "/k8v+LXJq/zdoqy7FnjD7lMu3LjxmRc3Ijr75+3/W4ydJH1N/38FEZMY8VGJTKKb1SdLdlLwiRib\n",
       "dKbQI0tmSTGd05nj/59/FMum1VQY68yyYpqnfwHVH444BtNAAAAAAABJRU5ErkJggg==\n",
       "\" style=\"display:inline;vertical-align:middle;\" /></a><br>(see <a class=\"ProveItLink\" href=\"../../../__pv_it/theorems/7cc5dccb645983a1def2fffea0d5020d781e624a0/dependencies.ipynb\">dependencies</a>)<br>"
      ],
      "text/plain": [
       "<IPython.core.display.HTML object>"
      ]
     },
     "metadata": {},
     "output_type": "display_data"
    }
   ],
   "source": [
    "%proving deci_sequence_reduction"
   ]
  },
  {
   "cell_type": "code",
   "execution_count": 3,
   "metadata": {},
   "outputs": [
    {
     "data": {
      "text/html": [
       "<strong id=\"defaults.assumptions\">defaults.assumptions:</strong> <a class=\"ProveItLink\" href=\"../../../__pv_it/_proof_deci_sequence_reduction/e67b83eea2e89c65fe0937001efc3b1a79490c600/expr.ipynb\"><img src=\"data:image/png;base64,iVBORw0KGgoAAAANSUhEUgAABmgAAAAaBAMAAABBbc4bAAAAMFBMVEX///8AAAAAAAAAAAAAAAAA\n",
       "AAAAAAAAAAAAAAAAAAAAAAAAAAAAAAAAAAAAAAAAAAAv3aB7AAAAD3RSTlMAZkRUmRDNuyLviTJ2\n",
       "3asqG0tJAAAACXBIWXMAAA7EAAAOxAGVKw4bAAAMDUlEQVR42s1cD4xURxn/9s/bfbe7t7fFWqKg\n",
       "vZpog0nbTazBqsiSSKto7RIjtaaw21QSjIYuVIRaGrf+6VlTuSvWtGJJj6Rq5E+ziZVKSr1tFEnh\n",
       "IBeFijWn1yAU8WzonVdpMcGZee/Nm3kz783M2z3CJHfcvpnf9/t93zffm3mzywJcNm1hEw4digNM\n",
       "bYLC7uGu6YhrLraM2I53rCGG5NhedjNLXc54jDbn8uBY2IbicGoC0tzVRL86gpsBzsInAsDYjsrN\n",
       "qXV4OKgYknqOVxTjDEKhtBUY3mmwu5ml7rvZ3UY4U5eAWYNjbgmgr2XNgN1gL9+oBCbWoV8XoFbl\n",
       "gbFEhJu7URsHA2ak1PEBxUCDUChtBYZ3GuwuZim+m3aXJ22IPcK5IgSz8r/fqMIv3+qP1W39feNq\n",
       "yD211X0ZxuFbOVhGrwabMAUwn7VTBwVB4V7s33no6+eAkrYiok9lLkyHDJdoa5BKHOdwEiqTUETY\n",
       "kg3vMNjdzFJ8N3/X5aJJymNIONeFge5NToB1DnS6b98e7M2Wrweoea/Wqazsw1MHevrzbwD0Vhkz\n",
       "pTCgS5D/EXm1FUZKHFDS1kV1KswhHdZ9Y3o4OM6RynEyx49Hyg+VoNSgMZwJ9t7H4kQHtfxXKl3I\n",
       "kpEI1s3UsGQayidnZNH6MX5RPgJx2kNh8H83dwCE9vLdXw72Fk/kStDjLXRKK6lv4lAmNyyfBihM\n",
       "+N0PhwI9goU/w6+u/cLVZQ4oWW2HonoV5rCOTEUPB0d5UilO5vjRyGyGSlBp0BnOBns6VnRQ6yt3\n",
       "niUzEaybK2TTUD45I5sf44y8vBFnOvQQ4mQj04Qx0OoWfCwuhDXQ674I56BWkmTyfL51HtX6jN+9\n",
       "LDz1HsG1OIbWx/qaHFBs6cjTFoW5ZfI5IcUxDwmEVIqTOV6LvAeHSlBp0BnOBDs5Eys6qN1Q7TxL\n",
       "ZiJYN5cEp2GyJJuc14QRex1+jBPy51HE2Rd8Kik8MP4y+ePMfLsuFo202/fx4Pg42ZQWH2w/RIum\n",
       "T3zy8cZRK/l/NCFfTeI/7/KHTYUCfYLffgrg13AdDxRbn/TxS9PcVHBOeGGQ4TIljlSKkzmeKUXp\n",
       "FyToatAZzgQ7NxYrOqjt0eOKzJJEhKabQ8FSS7VBUoAfDyP2OpgY/1i+FJVgJHB7SH7Nu3Cm2Dok\n",
       "FI28O+dtfT5wwLstNP9VGPaKZkS4BdFxvhX79Wq2lGmhv26hw/IzoUCGYMsp9OjwVQ4oaSOye6+m\n",
       "OaJjjywMMly6wZHuUYSPOp6OOlgSJGhr0BnOBJvZAppEh9sGRXJFZkkUoelmqs6Xml80/FVl0TAx\n",
       "lpc34jyCZB394u7N+Z3ryaWH6Nw6A41sv0NIRoR3Q2Yi9TTusFfTtbSZhfVe0Rwhju5+xN/qr5ZY\n",
       "sSF5xS78x0v+TWYsFMgSNOGad7c4oKQJIgzMER1rR0/SCzQMMlxhiCOV4mSOF6KeugQJ2hpyo/OU\n",
       "w5lgj5RjRcc+e3haT1pklgQRum7ijXBm8mhZLBr+qrJomBg/Iwza/WILc55GUc1OQm0O3EQurwE/\n",
       "rc9ax520khHN0G6olT70MF4oM00/zPnKypXui9O47p6Ab9EZ449jrYCwQBbroUCOAEI31X4TRBiY\n",
       "wzqsN6s1OnxNFI7ZD5wOw8kcT0bt9gUJuhrsPzn39sjhHQUbA2FBMzujJy0yS4IIXTfxRq222jov\n",
       "Fg1/VVU0bIyvItU4Tho5vvhhGS0ziHMjwPt6GzDYhqvJwDqT1kR5oVPJZEQrtBsWf7u8FzNlfOeb\n",
       "8I7Ufe4LxAF3lOBWf7JKrdA9TYueMjZCgRyBAJQ0QYSBOawjNQM99OS+HoXLX2BJ5TiZ4wxOcuAa\n",
       "lKCroXcYnlQOZ4J9c6zoWI9Cuq4nLTJLgghtN9FqsrjquMoXDX9VVTRsjG8KjnkF9yHOtQDVWj+2\n",
       "TITmt6Oq+rObVjhVdNLqjgjrhk/Pc/7dh2uy4XpYrP7TW/HQz22YEpbXA+NcK89tRM0r8EH6yJ6Z\n",
       "cIHWzterUoI8Bm4SgJLmi/CbrjmsA82JvmHrKuCjJMPZUywpwX3pmVPy6LKO21NRJ6GeBDpfNDXc\n",
       "VtUYzgVbzJJGdM7h6hTcNM6SL+I9bSM3e5BVNIPfdsWj9eEv2531AV9158+t4+M/GR//m0jrd7Ax\n",
       "Hgk+zcy4nMdwLRLL28jq1GDuhbDKcjcQi53tTVj3y5907h63s/cma8JbSzHH42BNQX50LDCOtULP\n",
       "9GhUeysuMA3psQgCAShpVAT7vpemOawDzYkbyvuPAB8GGY7hOObiKs4KFxI+ESc2KoGO1tTwuM5w\n",
       "LthiltTR6WngC4KbxlmiIkgVGLiJh78CyWlPvL/S4Kve/FGvNGyMFwSG9DRczrXOzhtZPm/hS2Ns\n",
       "WvPtBt2bvxHebU0nnWWylw0z7M/691vrf5A4hxwZC4xjSbw22GLuOw6wr9++EEEgAOUrjSuCSZGm\n",
       "OXz/6yvjm/Yi58JYFM6+wJIS3JRrbCzKcfuC4hbsSPCangbks8ZwLthiltTRqZHtveCmcZZ8EYNG\n",
       "bpLt2TReC1LBosFXvfmjLho2xosCzzS1tsuJi2Ybrp5i/UF8aZRauR/9HG4AqZVtaK+XC+1OzFjT\n",
       "BXL2QXfcWRSZwnNoY+fN12lE8BHPI3+ca4Xf9OLtStULIQEmqo7TIoEAtMR48CISS/YfLcxtmZgj\n",
       "M7aF9u1e0YxG4fLnWVKCe6c7VYTwheD42ykn4cp5oxUTDW+gx2XVcIsLtpgldXRqZTidagpuGmfJ\n",
       "FzHXPmTiZraNP8SJHoeEosFXvfmjUTRMjOcG3+orAfRjztdI6aDSzg6TrVyGrv93Ozu8Wp2MKNTn\n",
       "hXYX69aFHL0IdNzNYL2JXyAO2AyLKhXq0d0BK8LxigMsNjygd9oeJBDPZWp1F01+0Ve+iOULSj0T\n",
       "7oc59MwRHcVStkKLhoZBhiNHOpTUwbnH/0L45DhCSqVzEqw5j8ITJhpuAdilGk4ZQrKkjk62nTqW\n",
       "Ft2MBnIeBjM++Z07mgZu5lBCX4Wvg1g05Cp9t4YekrEimA42xsvEd2hyLcz5EmIeg0IFkp8lGq3X\n",
       "3u+M2PtWg3zmtPc4GWG9Wg7tzpbh9877YKvWu4+d9+Ct9AqA8ap7Mr/q0G8mW9Qjb5xnhWvvwr8I\n",
       "EB/DO0B4oSonEIBYEHmAIb/wHjkg4nt/QLcT90M1muawDuvsEqBF44VBiksMAUPq4PLHQRo+OY6o\n",
       "Jr+OBSXYd9ZhxkRDbsf8qmo4ZZBnSSc6k7u2HBbcVAB9Dytixp8s503czCPNq54uSYqGXPXmD11p\n",
       "KG1vha8mJsZ/DK5GO684QDiFU/PkL9wPenjtwybdH3xgnJsJqSp3Mk89Co5j2+cokHm3YYMuMCBI\n",
       "ImIS9pEtsL45X8eisDCwN6QJkXSgaoQDIcRUQrGdHIplK2o476R+lgJALTcjs0Rt2f/5jFmo/xoU\n",
       "n2qzDz8bdN/c9GNsj4Vx9kSdZZA23El3zjvZCHgU1e6iQPD+Qw58F76vCZQICoj4KRyEwbyRua3B\n",
       "oolqzgeiOFK7YjdNcJIQexJ6WulKK76tiCRuNc9SAKjlZmSWqK1E4zrbKNRXBsUn2Y/f0fmj/MCm\n",
       "H+N0KYwzragJsNqddN9JanPYJB3Ox2AJkO4q7fufX6oJlAjiRdjn0FozN21kbplJ0TgfveVIB55/\n",
       "tmqCk4TYkzAIvb9qxbYVlcRl5lkKAHXcjM4StVVsv5AzCnW2GSFea/4wB3wkxgOhnPkhhYFCR90k\n",
       "NpTD/vnbbaXixAQFon2UW/oXL57TBBZUIpITsAa2HDAy5+n4wT271SF/r0j61MWLRjhJiD0J10Nh\n",
       "R3xbUUncZ54lHqjlZnSWqK1sszjPyE33DR25eK354zcnxpvCOU/C7Dcjjl5mhS+WYwI7FdGJjhMx\n",
       "SU9E9hpJUNjqAsNsZSm+m490edIWmuGcKy5B0RhxaP3vcxWwUxEd6ND6jgAVTrKtMQlFoh0jS7GD\n",
       "3c0szb6bHTbCmRqefSITDv7rSj4aF9iZiE50DMQkVX2DjIEEvW+j6YRh1rJ0CdzsrDmcl8n3nnkt\n",
       "zT1KJvpjAjsT0YmOpTFJVU+qBhJgaawsxQ52N7M0+2521hDn/wHPMSHb23GJaQAAAABJRU5ErkJg\n",
       "gg==\n",
       "\" style=\"display:inline;vertical-align:middle;\" /></a><br>"
      ],
      "text/plain": [
       "<IPython.core.display.HTML object>"
      ]
     },
     "metadata": {},
     "output_type": "display_data"
    }
   ],
   "source": [
    "defaults.assumptions = deci_sequence_reduction.all_conditions()"
   ]
  },
  {
   "cell_type": "code",
   "execution_count": 4,
   "metadata": {},
   "outputs": [
    {
     "data": {
      "text/html": [
       "<strong id=\"equality\">equality:</strong> <a class=\"ProveItLink\" href=\"../../../__pv_it/theorems/aaf74891030974649b2ab5ae1f66e1f3494182e50/expr.ipynb\"><img src=\"data:image/png;base64,iVBORw0KGgoAAAANSUhEUgAAANAAAAAVBAMAAADFr31AAAAAMFBMVEX///8AAAAAAAAAAAAAAAAA\n",
       "AAAAAAAAAAAAAAAAAAAAAAAAAAAAAAAAAAAAAAAAAAAv3aB7AAAAD3RSTlMAInZUiRDNmWbv3US7\n",
       "qzJazP2FAAAACXBIWXMAAA7EAAAOxAGVKw4bAAACIUlEQVRIx2NgYBBgoC7AZR6TAZUt2oRD3ISB\n",
       "9eQCLOIxs0gyHqGcqQGrAtYEBga2Amwy6aR5BKE8Fas8O9B+fpTQ2wGlPyMLcjfgMB8ugVDejlUh\n",
       "JxDvD0AWMYKa8BVZkFkBh0UwCSTlnAHYFJoBsRcDFotYFpBkEZJyNqy+LwHiXKXLmBaxXdI1IMEi\n",
       "JOUsF9AVsSj1MWQA08O3gHgBDIviU1k/kmARknKOBBBZtQoE1oKYjIsZahgWA9V+ZeBUYG1Ds8g+\n",
       "gGESq8vdACItAimHCU1AU8PlAJSbDUx4CQz8Do+0GKDumAlxRxkDwxd2BnZQ0LOvWrVy1qpVFzCT\n",
       "LEICpBwqyvcBTVk9yLWzwRbuN2CwQvPREgbuz/wbGP8R6SOQcliKR/fRHBCxGJyNgHaiW/SZgf0r\n",
       "RwDRFoGVVzxSBwktQI0j1k8g/iGgRQ9YZzBgWPSPIbIBkWoJWgRSHrGzgROYqjgOoKn5AfQlgy8D\n",
       "A28DTwGmRTcYjgPJV2iJIT4BlEoZoASSBEi5qBoDP1A9uwOaRTUMDH4Mr4B6rlQwYFoU6w70EONR\n",
       "NIdzgYrF5QwwAiEBVn6JYSdIzQb0bOTRFMDA9QDKQ7cIDMQZBIkMOjCYx1DOx8AghVUhRwG6RTsQ\n",
       "kozn3pUSW6iClH9gWGfHwFCBXeVBCCWS74SlxP3//wMJNQX3BQaVBgbGAzhqLCpXsAw8OOpyRgUq\n",
       "W6SIVRQAY8WM526f3TYAAAAASUVORK5CYII=\n",
       "\" style=\"display:inline;vertical-align:middle;\" /></a><br>"
      ],
      "text/plain": [
       "<IPython.core.display.HTML object>"
      ]
     },
     "metadata": {},
     "output_type": "display_data"
    }
   ],
   "source": [
    "equality = defaults.assumptions[-1]"
   ]
  },
  {
   "cell_type": "code",
   "execution_count": 5,
   "metadata": {},
   "outputs": [
    {
     "data": {
      "text/html": [
       "<strong id=\"lhs\">lhs:</strong> <a class=\"ProveItLink\" href=\"../../../__pv_it/theorems/f5c24566751a3e7909dd16135a779759b7e313d00/expr.ipynb\"><img src=\"data:image/png;base64,iVBORw0KGgoAAAANSUhEUgAAAcoAAAAVBAMAAAA0rbOhAAAAMFBMVEX///8AAAAAAAAAAAAAAAAA\n",
       "AAAAAAAAAAAAAAAAAAAAAAAAAAAAAAAAAAAAAAAAAAAv3aB7AAAAD3RSTlMAMt2Zdu9mq1QQibvN\n",
       "IkSXOFZ9AAAACXBIWXMAAA7EAAAOxAGVKw4bAAAEYElEQVRYw61YXWgcVRg92dm/yWY221jBB6Vx\n",
       "ilT7IGMfAorQqQRbq8VYa6BIdNs+SYoNZdFafFhKfVAU56E/YIVdtVgQwYj1QaR0Qaz0QVzaQtQi\n",
       "CaWtj91ihU2pXb975+/O3JnMrs6FJPNz5nzn3Pm+794J4AwNqYw20h0p8InOtqQiKltP2eXV/09R\n",
       "Nr3DYjMVUe9B/XY84vqJ7YOwCBzZqn/5/hdF0NCPRgKNi3+aoccVMvtxKibVFjASGfyHgXgEjvPC\n",
       "5W4ANJqYNw5+xKLZ6mSIcyIVl0o1HPx6lMByNS65qpKBPcLd5QD4hpWUqg4+T/6UqVF6l1OpuMxJ\n",
       "wQ9HCSyaMc+7NwSOnH84HKyFT5PUePidyO+efv4Aiq1UXL4vBT8cJTDRpcAxUo3K476KwMOfQ6PX\n",
       "6/0NhTWfhZOXxAZ8cJu5MksQz8YT9PPT5AHZ5Uhtc30AlwLH8JwXbU1dVLepm6TOw5+iGjD3WXzG\n",
       "yjM4K2TbtXZpeeW0D+LtSYN6x2q0JZeN8+o//bsUOfKtyGgDqdtLAupfARmyfbSKDcAxh1WdhjKO\n",
       "j069Fctj4wPjYRK6jJyp7g25/NDCDvWLN63+XHIO99KUF+3JoLpWkjrC7+Y07wBrKvupxpeAjcB6\n",
       "DE06FaR0kGnCkIz4g+OD4xWw4KPN1U/x0w26/pKur6MjCnhbYdNGAF1/aLuuz8kN2rvBOdxlsSNE\n",
       "G1gd80UWnbpkZy9DvUtz5/Dk5tFYwl0sVuJ4bHzYJQW/Uceh0Ltcj3J3dEm72d+7tDmczJsSow2q\n",
       "btFOb+TPTt7ZwjJWvYV8x+dpmNgHvBbPY+PzE6s3Z2crfsbSUrfRklx2oSznrX5dco49uyZZj3T0\n",
       "/Dd1mNW20gmp2Y9bQMmE2kWh9QHnURlPHW8X27ypy6svA9j4Y9equbmsm36nSWGFakZyeZPVibee\n",
       "JLokDvX1acyw7jNvR4xVp66gDrVfjxJqFvhe69r9+jQOGQbnabSY7+JahcriEep4vO3Bvu4d2Pjf\n",
       "niNNStNv2YVqyZBdvoFv6PdYqPsE+fwbjEM70gLroi53nLogSUgddtSH7AWups6wzSxwfOsDtQrn\n",
       "ydDDau2ThU3AZRKmM3FrWb0Y7gEBHHwN9/IOzccYPXdwArLL45/Rq9S+C60kPp8RXEkYR8HkJZlZ\n",
       "chji1HEtMeq0vx5jzz7qqnnQSxqWVe96i6+htVGUU9YD4AU8i8Uh5yTjlknYJR8X8UefuwLeYCqK\n",
       "QXQXggBZnaBFUpefv0Jfl9q4tCnmPN5n2OVV91gYluV4AK1Db3NWgb8vDrq8LmxXvl71eJ+7dTYW\n",
       "kbmvEv6MiFCHZry6gjk2bH9D2KPk7DW0L29TI/Km9NVeDzgi17cHKM/hZyw8456esf/8/svJiK18\n",
       "r9cZYE/8J7Kfk575wGd/hDrVjFdXahd20WT4d0S2bPApOb+ycdJOpPyvAm/244NnE9Wd8Q8vpSJK\n",
       "M1N2uS2F/9K08S9ynF0z93A8NwAAAABJRU5ErkJggg==\n",
       "\" style=\"display:inline;vertical-align:middle;\" /></a><br>"
      ],
      "text/plain": [
       "<IPython.core.display.HTML object>"
      ]
     },
     "metadata": {},
     "output_type": "display_data"
    }
   ],
   "source": [
    "lhs = deci_sequence_reduction.instance_expr.instance_expr.lhs"
   ]
  },
  {
   "cell_type": "code",
   "execution_count": 6,
   "metadata": {},
   "outputs": [
    {
     "data": {
      "text/html": [
       "<strong id=\"rhs\">rhs:</strong> <a class=\"ProveItLink\" href=\"../../../__pv_it/theorems/a45ef35454927b633d2679405b9b540c895319a70/expr.ipynb\"><img src=\"data:image/png;base64,iVBORw0KGgoAAAANSUhEUgAAAR8AAAAVBAMAAACNlfesAAAAMFBMVEX///8AAAAAAAAAAAAAAAAA\n",
       "AAAAAAAAAAAAAAAAAAAAAAAAAAAAAAAAAAAAAAAAAAAv3aB7AAAAD3RSTlMAMt2Zdu9mq1QQibvN\n",
       "IkSXOFZ9AAAACXBIWXMAAA7EAAAOxAGVKw4bAAADFElEQVRIx82WTWgTQRiG32STbbbpNqk/N6XR\n",
       "erCegkJBFNxCwfpTrCi9SDVaL9JDQwn+4aF460HYg1YQIamIgghG8CIiLYgHD0LQQpEizcGeXUFL\n",
       "KqVxfnZmZ5Ns4yGHDrTsO/N8b76d+WZmAbeZ2AKtpDwPboWEfniPsUJLnXedU1XoY3pzXACRDBUp\n",
       "zQIet/hdKz6VmGqCC+ATzcoJk/T6WptP55pP/rSb8AIYI3/acILM0HBrE2pP+eSTZrwAojb0KyNn\n",
       "biI239qEOvxF86EZL4CODPLVavUPNFrTi08XVKhG1rc6oH3gsjvQrRSNebu/sqmPArRnST1ZEzbN\n",
       "DJ2jmFPWukY2qJNawNyPIw0GVkrxtU0TUgCdrFR+6hUQJm/0IIODwIxYPCaNFzcCk+K80sIFnHcH\n",
       "jnpGxgi0eTx6fivIhwP6Pnb6kFruTk6SYioDx4ADCA2IcmRSg5YKMmKAr8NWBqSR5tBM0zXJK40D\n",
       "uMgOJMetIZrQBRgbJEeRAJOJsvkryIjzvg51QBhFi8iXsYHlZIAPB0yHrfYw9LmB9UG6ZMZv6I7n\n",
       "w6VuBybkAn07jkfGk26HMiCN8hYmgGvBCXFALy4UeNAkiFHcglFB2/w91mVQWy7piWLUm9gCmFnJ\n",
       "RLORLOtcJW/oRQqj/BTuxErsqKkvRw9oG5oepWkB78wK325vcDedZj55Wo9cYpvNpLEOt18qBnw7\n",
       "jURS4xch2WKzQK1R3Ir1aKQ6ej0P9iAVB6KDIFNInXLGKL3QgIcnd+eSzCfcCyHNt67sodsoLf7t\n",
       "tQWQw062R+kh8uwqmwO/kZGbXewHlmwexcKpGXeUwPIhuqThspi7PfLap0s/Lef0K76rUlJy9s/i\n",
       "FJZDDUrDb2SmzZISJZsExjtTZF2/yIExn4/8FjFfdx1WpHcmS8AhczSuBSUkI5e6tttelNckkAul\n",
       "CuodH3c/1syXf0l9W3JLVquOImW7L4/rLD5j8USD+8BvdKlaVaK8opbAe1wnBVL0RooKFvFHRep/\n",
       "zvq/OzbSLKoGiCvfsAtb4RN2CPgH9wzvqz4FZ3MAAAAASUVORK5CYII=\n",
       "\" style=\"display:inline;vertical-align:middle;\" /></a><br>"
      ],
      "text/plain": [
       "<IPython.core.display.HTML object>"
      ]
     },
     "metadata": {},
     "output_type": "display_data"
    }
   ],
   "source": [
    "rhs = deci_sequence_reduction.instance_expr.instance_expr.rhs"
   ]
  },
  {
   "cell_type": "code",
   "execution_count": 7,
   "metadata": {},
   "outputs": [
    {
     "data": {
      "text/html": [
       "<span style=\"font-size:20px;\"><a class=\"ProveItLink\" href=\"../../../__pv_it/theorems/aaf74891030974649b2ab5ae1f66e1f3494182e50/expr.ipynb\"><img src=\"data:image/png;base64,iVBORw0KGgoAAAANSUhEUgAAANAAAAAVBAMAAADFr31AAAAAMFBMVEX///8AAAAAAAAAAAAAAAAA\n",
       "AAAAAAAAAAAAAAAAAAAAAAAAAAAAAAAAAAAAAAAAAAAv3aB7AAAAD3RSTlMAInZUiRDNmWbv3US7\n",
       "qzJazP2FAAAACXBIWXMAAA7EAAAOxAGVKw4bAAACIUlEQVRIx2NgYBBgoC7AZR6TAZUt2oRD3ISB\n",
       "9eQCLOIxs0gyHqGcqQGrAtYEBga2Amwy6aR5BKE8Fas8O9B+fpTQ2wGlPyMLcjfgMB8ugVDejlUh\n",
       "JxDvD0AWMYKa8BVZkFkBh0UwCSTlnAHYFJoBsRcDFotYFpBkEZJyNqy+LwHiXKXLmBaxXdI1IMEi\n",
       "JOUsF9AVsSj1MWQA08O3gHgBDIviU1k/kmARknKOBBBZtQoE1oKYjIsZahgWA9V+ZeBUYG1Ds8g+\n",
       "gGESq8vdACItAimHCU1AU8PlAJSbDUx4CQz8Do+0GKDumAlxRxkDwxd2BnZQ0LOvWrVy1qpVFzCT\n",
       "LEICpBwqyvcBTVk9yLWzwRbuN2CwQvPREgbuz/wbGP8R6SOQcliKR/fRHBCxGJyNgHaiW/SZgf0r\n",
       "RwDRFoGVVzxSBwktQI0j1k8g/iGgRQ9YZzBgWPSPIbIBkWoJWgRSHrGzgROYqjgOoKn5AfQlgy8D\n",
       "A28DTwGmRTcYjgPJV2iJIT4BlEoZoASSBEi5qBoDP1A9uwOaRTUMDH4Mr4B6rlQwYFoU6w70EONR\n",
       "NIdzgYrF5QwwAiEBVn6JYSdIzQb0bOTRFMDA9QDKQ7cIDMQZBIkMOjCYx1DOx8AghVUhRwG6RTsQ\n",
       "kozn3pUSW6iClH9gWGfHwFCBXeVBCCWS74SlxP3//wMJNQX3BQaVBgbGAzhqLCpXsAw8OOpyRgUq\n",
       "W6SIVRQAY8WM526f3TYAAAAASUVORK5CYII=\n",
       "\" style=\"display:inline;vertical-align:middle;\" /></a> <a class=\"ProveItLink\" href=\"../../../__pv_it/_proof_deci_sequence_reduction/ca555ee0a4568c135f00d417d1bb4f21e3c734900/proof.ipynb\" style=\"text-decoration: none\">&nbsp;&#x22A2;&nbsp;&nbsp;</a><a class=\"ProveItLink\" href=\"../../../__pv_it/theorems/3c215f19db2c313813ac827dbe1f16b3902eac0b0/expr.ipynb\"><img src=\"data:image/png;base64,iVBORw0KGgoAAAANSUhEUgAAAv0AAAAVBAMAAAAnYEzhAAAAMFBMVEX///8AAAAAAAAAAAAAAAAA\n",
       "AAAAAAAAAAAAAAAAAAAAAAAAAAAAAAAAAAAAAAAAAAAv3aB7AAAAD3RSTlMAMt2Zdu9mq1QQibvN\n",
       "IkSXOFZ9AAAACXBIWXMAAA7EAAAOxAGVKw4bAAAF20lEQVRYw8VZXWgcVRQ+u7M7O7PJbLa1gg9K\n",
       "1o3F2gdZqgasQrcSmvgTslaNiKRuTREkxYay1Fp8WII+VBTnIa2gwqZaWhDBLdYHkdJA/aEP4qKB\n",
       "oEE2D8Y+dgNRNyV2vT8zd+6dv93NDPa+ZHLm2+9+99tzz5y5C2AMDUIYoZCEy1fbxJ3/a/AKRsIg\n",
       "HAlZYCofmOIPrxux8i33n9OmzIXAh0g+2u92wz3qNdSvMublPit65zM8JvJdzp/EBMSKHoB3QjQy\n",
       "iLZIRkJZ9nEYMjDJFdc7V7ri6WX6e3Ur2hQwfe3S1wRcddzZCg+iL3k+zEwOoC3WiKLlDoahYtCu\n",
       "JFV005fySsk/HfplK5NS6wL2ut5GjAmYdNwZgwEAqRhmnQygTSr0ofwvhCGjYFei5N30KV5V/S2n\n",
       "/hfYVTIjYD9pJ8YExB1mPARrKBxm+gfQJr88PnYclDB2IyYRlZhOu0c9/ef0f+9SlDqraCag157o\n",
       "r2w/9E8Z3g3T/wDaKq1W6y+Q8ON38ewC3/udGG3TfYh4ICS9peGy02n3qKf/PwwdN0Pn2Vz9ZV7b\n",
       "3qZ/42oBktO2pztacKsAu51LtK/HhVW0JDl0MLi2vvwRnSRJagIuc3t1pdaz7l/0RDzNtMpV9V+n\n",
       "0+5RL//VDb1itsaHXedqq40DyGRr78ricS+JrMnrdGOJNI71+LESI3fAI8G1VcpfAETRF3iqCLu4\n",
       "NBkHKePLI+KBkryvw7NOp92jXv4r6xA3IW+zuR4VtfkWTB6g2B9tajPZANjhWKJjPW6svCXRObKq\n",
       "gNr600fRg2AZYA/AToDTxj2pgfk/PP+GJxHFcwOTICU3DA4pm92+P5vF2x9H1c9e18WoOFCGPkcz\n",
       "FMnrM19H+vm5OtZGAfI9pNlu2Lvv1QRy8YCJUg/z6zFU+rByBughaKP1H1v3Iqg3ITJkfMPxKlSW\n",
       "IeeTEgRv938npJqMg2U6jkosedrlP5J33SyoK9xcnWujAOwxKg8F1/p/wERte4xfj+Sz6w1WzoAQ\n",
       "tMmXhzZGcOlQ10BGqaIYPJU8HAG4CfW01z6ieFv9aYK0zjiY0zjat6ytduY/av/3mEk4w8/VsTYK\n",
       "0Ig8+iGu/k+tjX1bxvWHoowpjDkslV6svAFhaDuKu+GePCqLkJh/j4RUDCvDm0rtVczj3JAqKaMY\n",
       "Lw9uG45N0bkQCazicujwH0dlvWP/06hGTh4cwk3dlFGyu9NGAXJ1AZULuWoDJDL4heeiiSL+62w9\n",
       "RKUfKxI2ve8Cjv2NEji4tm+0Jm2ELsJMLkd4KvPYTGVAIr24ukF6EqBxdkHxp1eK8enYNOumjsGX\n",
       "4PSfRNlbAOuKBDrL/0SxJ6e+Ng4T6Ho3DflqYzzsPwpIjJ6coF2xMHqq9TJpbA2aGeODdA6s0mWx\n",
       "jBULex6GMRFqfs50ok2ksmsrqRP4EAjggyfuKqUJT/Q+hC+dWdyLbqDLLP4iB3CByZkXKErxvz6F\n",
       "0tVYIiH5tOjiP4nCVl2MWnQ5sf88MQja7DzgLu1+g8BPG+Nh2iggPgJoY0aX7fmfP1XDh0AmDc5/\n",
       "TEPnICoFVnLBWLGwVZoWyXOH9I60Cb65a7ubNYfYu5NM7BLiUJwbyQKU4HZS+HkSh/+0Xf660/cv\n",
       "6hJ+cGrii3N32uoP4Lr4s/tcUVafsf8WDVHpx5rIRwr46WF/+Q+mbVLgYVtWy2k1SDrVW3v6aXgS\n",
       "6hGRhPkvnLT9Ar93eP5G2oS0lEvbTsm61DaVytQ8Txatkz3sf1JU6ccaT8eqWiPt6v/mtfXUOB6V\n",
       "JejSltt0mHU+RxgAPcdLMCWJJIpbC6dd2PJwF0cqdYjekYYlxxq70FaKZOZAq3pMcIn3f1ZU6cda\n",
       "RztArubc/A+gTTUutc9v5CHGwi+1WgDOcmEBUtPwIyw+LpAQDmff22o1uvD/GsTOcSZtRtslOJa2\n",
       "Esvxm5Dx97efznI0VKUf6zXorWkle2kJrG0hjHPAUEh4vcF/ox31PAbLw60eSNt/7HFYu5ZoA2wA\n",
       "AAAASUVORK5CYII=\n",
       "\" style=\"display:inline;vertical-align:middle;\" /></a></span>"
      ],
      "text/plain": [
       "{(b_{1} +  b_{2} +  ... +  b_{n}) = c} |- #(a_{1}, a_{2}, ..., a_{m} ~ (b_{1} +  b_{2} +  ... +  b_{n}) ~ d_{1}, d_{2}, ..., d_{k}) = #(a_{1}, a_{2}, ..., a_{m} ~ c ~ d_{1}, d_{2}, ..., d_{k})"
      ]
     },
     "metadata": {},
     "output_type": "display_data"
    },
    {
     "name": "stdout",
     "output_type": "stream",
     "text": [
      "deci_sequence_reduction may now be readily provable (assuming required theorems are usable).  Simply execute \"%qed\".\n"
     ]
    }
   ],
   "source": [
    "equality.substitution(lhs.inner_expr().operands[1])"
   ]
  },
  {
   "cell_type": "code",
   "execution_count": 8,
   "metadata": {},
   "outputs": [
    {
     "name": "stdout",
     "output_type": "stream",
     "text": [
      "proveit.numbers.numerals.decimals.deci_sequence_reduction has been proven.\n"
     ]
    },
    {
     "data": {
      "text/html": [
       "<table><tr><th>&nbsp;</th><th>step type</th><th>requirements</th><th>statement</th></tr>\n",
       "<tr><td><a name=\"-0x60d84ff33c752af9_step0\">0</a></td><td>generalization</td><td><a href=\"#-0x60d84ff33c752af9_step1\">1</a></td><td><span style=\"font-size:20px;\"> <a class=\"ProveItLink\" href=\"../../../__pv_it/_proof_deci_sequence_reduction/e5464dd28cbe87dc6c7187932e8749dcf140ae390/proof.ipynb\" style=\"text-decoration: none\">&nbsp;&#x22A2;&nbsp;&nbsp;</a><a class=\"ProveItLink\" href=\"../../../__pv_it/theorems/c48c8eb4fde878d7c8e674b4c5d52dd37ef33f660/expr.ipynb\"><img src=\"data:image/png;base64,iVBORw0KGgoAAAANSUhEUgAABWEAAAAaBAMAAAAkmoPQAAAAMFBMVEX///8AAAAAAAAAAAAAAAAA\n",
       "AAAAAAAAAAAAAAAAAAAAAAAAAAAAAAAAAAAAAAAAAAAv3aB7AAAAD3RSTlMAq1RmmUTNIjK7EInv\n",
       "3XZ/CtNrAAAACXBIWXMAAA7EAAAOxAGVKw4bAAALkklEQVR42u1cD4xcRRn/9t/t27d7e6ckRm28\n",
       "bINg09JjpX/CNVo39hChAktrYqhVzgBpaBS2pEqqtrdWohCvvY3YwDWkvEpSrVd72xYES6iH2ByC\n",
       "4EmKkqNnthQp9OxxXqy9lNhz/r+ZefPudq9PPb2b5O1+M/Ptb75v5jfzvpn37gBqSR8ZLMBsmk3/\n",
       "tXRmMFPbD9pmZj/FhVQIGA+mDV5hCjX/2REgXkays4ytIr3BhXQmWLyAUqxy8Rhf9qsIyOeL95B4\n",
       "iRjbiAsurZqxIfwVzs4owobLXFoQFN7el0wV5lK/ZD/Sz8WTUvH3fiMrWV/NTYzCFdJ+Y7og0L7U\n",
       "7FGNNSSucJJdiLHX4Py6qhkbzaOvupkVze5B1za4EXGkLTC82401t9eEUycGv86RikcVpYbJlkiu\n",
       "sN5TE6TPfvaMTqY/6nqIL8TY7+AIoVQ1Yy28Jm+aWUHBCnS9C8cAotnA8JSRimVN4xfza221Z/Aj\n",
       "0sIVO68o3+pMYg1XWOypCdJnH3s0Yw3hwHnXQ3JlCXGTmaoZS6biwZnF2F50fQ4uAKQCw1NHKlwx\n",
       "jV/YLzpt9g7+C25tsl9RfmYya7hCykPtIH32sUcz1puEwgv0QozFm6+6GnZei2bcBiyMvT6+/G8Z\n",
       "uDwwPHWkODfNpb6MlQb/NlOsUF2gwRXq9MU0SJ/97KnLVRv53EYvTNeXBgdfrIGxqcHB4+UZxdho\n",
       "GexxlHphJY6g5pySmaRlDecyHgWEB3VNJzJebppLfRn7leH386IDXNhwpDMjN/726CTWCYVko7ax\n",
       "C9LnIyeLBntUYw1JUjhAL8zYzwLsrIGx0SIknBnFWLL4XIicp/N8bSEh37u1rDd5FTBez3r7nJeb\n",
       "5lI/xtr/cHr4FngpD/v64FFnatZFyJ3zhkGc/kBKgvN5cyZa8lZoxhqCWElhKb0wYzdAvLEGxiLl\n",
       "DdOTWf+ueVSPprk9mhwBeAUJz0FUundrWcMRlFcB413pwMtebppL/RgbPg8prnIF+96Xhc+ojbdN\n",
       "Zh1XCPfqlcH5/Dq1VLNHNdaQZIUr6IUZm3CSeYN25M98fqzMR551GYsW5CemJWE/XrQOPUlFGvuE\n",
       "p3IGZ2BJCnWPNRZCY3AU3WJGoB5FCXxNo9nuAx/2DSmIggcPDcR78BgZvSgKs1BkhlcNXGo//T5H\n",
       "LVUTWgR/RxdBNPgNHLqTfd+E2cGAq7aODrU1olUG53P0vFwhgIixzF9jot58ssI97KSMDVfMG6+j\n",
       "2OgTXflw42G4XmJsc80bL+tOr2SqlXaIYybRTb8qujHTsSfgE41gP15E29o9tIwe1i3RoE0Neeqi\n",
       "RsaymA51SaoEPXnYfobXkWwObvADpgoexr4OsVFruF9bTXFpVKxPk62xaPBv5VHeWvb9W7DPggCu\n",
       "1rqj5Bbca4xjg/A5VZIrBBAxNjrBgk0USH9RD9eyp7Rty43RM55yrYgZ4eVRKEuMrYtUal245hgk\n",
       "mKgsPmIS3dTOvrd/aAfMTTpRJ74SLag90OC4jLUbJeio0pBKS6UuVjZGBS0X3r0rg++QPRX4FCpb\n",
       "yOpo9iy0F31cZ/o63ihed8I6Y3FpQz4+Vh1jGzJwE1+emD32BYig/uLAVVpHu5j+SIpjg/O5p6JU\n",
       "KMa6/nqjC+pNu/BwIWPswfVIWLH9RLoFm4CkN0lUUNpSJk/uwlu/UJEZm7y85oDxeYMEE5WlSybR\n",
       "Te8wrqFdI1xaySVhM56HycyVBZex+OmcgE4oDSUUMLXO++gngfo71N+APnehTs/AB1C4gfvPBp5d\n",
       "hkfP2yuuwuKrhxtPPizhjeEYzcNYXBpxqmZsEcWFCBnHQC089IRQ28cIcA3W4aHGA64pmHx2puRz\n",
       "A+JRHnQgaizx1zbuSpg3LfEh5mELY+y30WL02NpsqjGNoyYs4XEPnZrft5d0XPHwZTJj4ziotQ8N\n",
       "8Sixe/mT3vaUQuvCCUeXTLX4FGQ5AX+LD5YkyuB3UYE8Tp932ZYkimJxj3x9nxQV1MvQCdBzKmPd\n",
       "uoOqLezYJ1Fqz5DTlUQlfCxKZ3xPm8jCM2jnzoqIIHJEwV7yHDwLJ6RjpEvgR+BlLCkVp7LiBKFN\n",
       "wpMYG8omchi5D8krGdIuWJjLEWAf61Q0qoCHmh66qf3i9Zn8sHafoyVIFsEDRI3F/qouihxVaLpn\n",
       "X4F6uJIxNoTAvvkWmrLEZizhwUu9AcXVlLFRsc6RLvsgun5e6GSMtf9knfPONKUwPZDO6ZKpFrEs\n",
       "30HB+Q1HEmXwMdwJYBOz5iV//EX0NTeL9pDDEmO/IUMnQM+pjHXrPgrRLpQeZLZgNqPxD1Vwr21D\n",
       "bTY9teFtytj6AZG1kDiIeq0egxwD9iEU4vvb0PrJWYXxdj+eNTCWlMI2Ry0VoPU59XRrzgrAyHhb\n",
       "8ypD2j30/aYiAfazzkUTCniocd/ra6zBZwwzBZ+fXnSaWKwCUWOxv/hXrovkw1V4OWMxD1+V3zZs\n",
       "gg4SYGGJhPHtKIZdioYuEy7a5TaZsTi1InXYRDa1OasXVr2puksKXUpkI23xnVzSdXEZl6+DnxLw\n",
       "TgZOxFjzNTr4CIRz/MH7PMiRIOG+fGQoKzH2FqVhpXEvY10jblFtwek1MaHE7CGh2HwBgY0Ne2+R\n",
       "893BR/3xCmh4HsbSwH1ntU8QKDLeMcXVzQsBrt46PNQAm33O9hSfJZjafJaTCkT8ne9REgrxv+PY\n",
       "D3uIL5exz6PYsN2iUiv+bon1F35A11hYVdEZexSt99ZCshbnUTDRa49o2+G0dC6TKkYbtw5wyaOL\n",
       "yuTzCfz5DgMnYgptqTTwEnlBI3JnV9cPEWO79cMOwti5bsPXdT3S1ZXljdOcIKaoo/kHVFtwEu+I\n",
       "uC+cEMaK22g8Fy9A0js0ZdfHdCk+UtTwBGOVd142wr2GUjmtVnsvV9RfVyHA1VuHh5q+n2M65VR8\n",
       "dmFq9FlnbFL117vfFQqR0pfi9IUcMuZZd0feBC1R6MbSa/PsMjRZ/WXycCuSB0E/zlj7HDz4M6gn\n",
       "cXghscwpWOrRCClcfOniVU+RwBtSGRjgkq6Lyxavpm9hnmPguxg4EePQoYOfduruHQarTNfYWDNs\n",
       "bG1tzauMfUBuOKE07l1jXSNEVOCGNQlxsPuQ3Om2WAM33X+fA/u9sVHFPdsIVSKlnIYXNh3rxB++\n",
       "//oaNrXtUL+1qL9MR3Ze1VuHh9r//T3FZxemRp91xu5X/LW9t5P97lq9LUlfF8SXYGysEdbBhtPQ\n",
       "kUHSUNb6NTL0kmIcb/W2rQPQGQt91tllmFTdkCp0rnYgkUci4jn7IIXNpVQecaAb6aFN3oCQNF1c\n",
       "1lxC+ySUuwOS6LPPGiPgXIQdOvh3nYZ79rKny0tA7GkUxiJE3jBlJW+c5jieW0eMgGEOcoeY5rYY\n",
       "zL3s+1t3H0Gxr2jv9+PjpmcPrsLNUFeINzkqXvwX75meV4yPj9TA2JshfUhilQtcg3V4qKVpqSXF\n",
       "58pUfZaSCkT8TU/wKCdRCF1NPXwITH81w46kw2xX3tWV157S0vT5q1DMiEiFGL6i+RB5OaEjY/VB\n",
       "RwF/0MJEcQ98mpTfWCHEYZKmi8tCRbRPQtNk46LT6JODczFa9IJ34icum9A9x/pjgf5hhM5YNAS8\n",
       "YXYewBpnOYbn1hEj3MHfSHcLOG0RXKj5KNqYtgT8uC8dwBv2p/wqAvL54j0kXnoYG2NzYo35h+rT\n",
       "LnzjpgxPOhVBdkH7elgA/VmeG+DlJt16OLmGT5OwC87Ew2kv+NDmn6DF6pddO0xmluRnAQPy6QBp\n",
       "3HQey42wSzCbpnHyMDbCvrNVMNb660HO8LvH+wXZBe13w1+gqcBy21/MMMmkuxsWZPk0WSPAmVg3\n",
       "/k8v+LXJq/zdoqy7FnjD7lMu3LjxmRc3Ijr75+3/W4ydJH1N/38FEZMY8VGJTKKb1SdLdlLwiRib\n",
       "dKbQI0tmSTGd05nj/59/FMum1VQY68yyYpqnfwHVH444BtNAAAAAAABJRU5ErkJggg==\n",
       "\" style=\"display:inline;vertical-align:middle;\" /></a></span></td></tr>\n",
       "<tr><td><a name=\"-0x60d84ff33c752af9_step1\">1</a></td><td>instantiation</td><td><a href=\"#-0x60d84ff33c752af9_step2\">2</a>, <a href=\"#-0x60d84ff33c752af9_step3\">3</a></td><td><span style=\"font-size:20px;\"><a class=\"ProveItLink\" href=\"../../../__pv_it/theorems/aaf74891030974649b2ab5ae1f66e1f3494182e50/expr.ipynb\"><img src=\"data:image/png;base64,iVBORw0KGgoAAAANSUhEUgAAANAAAAAVBAMAAADFr31AAAAAMFBMVEX///8AAAAAAAAAAAAAAAAA\n",
       "AAAAAAAAAAAAAAAAAAAAAAAAAAAAAAAAAAAAAAAAAAAv3aB7AAAAD3RSTlMAInZUiRDNmWbv3US7\n",
       "qzJazP2FAAAACXBIWXMAAA7EAAAOxAGVKw4bAAACIUlEQVRIx2NgYBBgoC7AZR6TAZUt2oRD3ISB\n",
       "9eQCLOIxs0gyHqGcqQGrAtYEBga2Amwy6aR5BKE8Fas8O9B+fpTQ2wGlPyMLcjfgMB8ugVDejlUh\n",
       "JxDvD0AWMYKa8BVZkFkBh0UwCSTlnAHYFJoBsRcDFotYFpBkEZJyNqy+LwHiXKXLmBaxXdI1IMEi\n",
       "JOUsF9AVsSj1MWQA08O3gHgBDIviU1k/kmARknKOBBBZtQoE1oKYjIsZahgWA9V+ZeBUYG1Ds8g+\n",
       "gGESq8vdACItAimHCU1AU8PlAJSbDUx4CQz8Do+0GKDumAlxRxkDwxd2BnZQ0LOvWrVy1qpVFzCT\n",
       "LEICpBwqyvcBTVk9yLWzwRbuN2CwQvPREgbuz/wbGP8R6SOQcliKR/fRHBCxGJyNgHaiW/SZgf0r\n",
       "RwDRFoGVVzxSBwktQI0j1k8g/iGgRQ9YZzBgWPSPIbIBkWoJWgRSHrGzgROYqjgOoKn5AfQlgy8D\n",
       "A28DTwGmRTcYjgPJV2iJIT4BlEoZoASSBEi5qBoDP1A9uwOaRTUMDH4Mr4B6rlQwYFoU6w70EONR\n",
       "NIdzgYrF5QwwAiEBVn6JYSdIzQb0bOTRFMDA9QDKQ7cIDMQZBIkMOjCYx1DOx8AghVUhRwG6RTsQ\n",
       "kozn3pUSW6iClH9gWGfHwFCBXeVBCCWS74SlxP3//wMJNQX3BQaVBgbGAzhqLCpXsAw8OOpyRgUq\n",
       "W6SIVRQAY8WM526f3TYAAAAASUVORK5CYII=\n",
       "\" style=\"display:inline;vertical-align:middle;\" /></a> <a class=\"ProveItLink\" href=\"../../../__pv_it/_proof_deci_sequence_reduction/ca555ee0a4568c135f00d417d1bb4f21e3c734900/proof.ipynb\" style=\"text-decoration: none\">&nbsp;&#x22A2;&nbsp;&nbsp;</a><a class=\"ProveItLink\" href=\"../../../__pv_it/theorems/3c215f19db2c313813ac827dbe1f16b3902eac0b0/expr.ipynb\"><img src=\"data:image/png;base64,iVBORw0KGgoAAAANSUhEUgAAAv0AAAAVBAMAAAAnYEzhAAAAMFBMVEX///8AAAAAAAAAAAAAAAAA\n",
       "AAAAAAAAAAAAAAAAAAAAAAAAAAAAAAAAAAAAAAAAAAAv3aB7AAAAD3RSTlMAMt2Zdu9mq1QQibvN\n",
       "IkSXOFZ9AAAACXBIWXMAAA7EAAAOxAGVKw4bAAAF20lEQVRYw8VZXWgcVRQ+u7M7O7PJbLa1gg9K\n",
       "1o3F2gdZqgasQrcSmvgTslaNiKRuTREkxYay1Fp8WII+VBTnIa2gwqZaWhDBLdYHkdJA/aEP4qKB\n",
       "oEE2D8Y+dgNRNyV2vT8zd+6dv93NDPa+ZHLm2+9+99tzz5y5C2AMDUIYoZCEy1fbxJ3/a/AKRsIg\n",
       "HAlZYCofmOIPrxux8i33n9OmzIXAh0g+2u92wz3qNdSvMublPit65zM8JvJdzp/EBMSKHoB3QjQy\n",
       "iLZIRkJZ9nEYMjDJFdc7V7ri6WX6e3Ur2hQwfe3S1wRcddzZCg+iL3k+zEwOoC3WiKLlDoahYtCu\n",
       "JFV005fySsk/HfplK5NS6wL2ut5GjAmYdNwZgwEAqRhmnQygTSr0ofwvhCGjYFei5N30KV5V/S2n\n",
       "/hfYVTIjYD9pJ8YExB1mPARrKBxm+gfQJr88PnYclDB2IyYRlZhOu0c9/ef0f+9SlDqraCag157o\n",
       "r2w/9E8Z3g3T/wDaKq1W6y+Q8ON38ewC3/udGG3TfYh4ICS9peGy02n3qKf/PwwdN0Pn2Vz9ZV7b\n",
       "3qZ/42oBktO2pztacKsAu51LtK/HhVW0JDl0MLi2vvwRnSRJagIuc3t1pdaz7l/0RDzNtMpV9V+n\n",
       "0+5RL//VDb1itsaHXedqq40DyGRr78ricS+JrMnrdGOJNI71+LESI3fAI8G1VcpfAETRF3iqCLu4\n",
       "NBkHKePLI+KBkryvw7NOp92jXv4r6xA3IW+zuR4VtfkWTB6g2B9tajPZANjhWKJjPW6svCXRObKq\n",
       "gNr600fRg2AZYA/AToDTxj2pgfk/PP+GJxHFcwOTICU3DA4pm92+P5vF2x9H1c9e18WoOFCGPkcz\n",
       "FMnrM19H+vm5OtZGAfI9pNlu2Lvv1QRy8YCJUg/z6zFU+rByBughaKP1H1v3Iqg3ITJkfMPxKlSW\n",
       "IeeTEgRv938npJqMg2U6jkosedrlP5J33SyoK9xcnWujAOwxKg8F1/p/wERte4xfj+Sz6w1WzoAQ\n",
       "tMmXhzZGcOlQ10BGqaIYPJU8HAG4CfW01z6ieFv9aYK0zjiY0zjat6ytduY/av/3mEk4w8/VsTYK\n",
       "0Ig8+iGu/k+tjX1bxvWHoowpjDkslV6svAFhaDuKu+GePCqLkJh/j4RUDCvDm0rtVczj3JAqKaMY\n",
       "Lw9uG45N0bkQCazicujwH0dlvWP/06hGTh4cwk3dlFGyu9NGAXJ1AZULuWoDJDL4heeiiSL+62w9\n",
       "RKUfKxI2ve8Cjv2NEji4tm+0Jm2ELsJMLkd4KvPYTGVAIr24ukF6EqBxdkHxp1eK8enYNOumjsGX\n",
       "4PSfRNlbAOuKBDrL/0SxJ6e+Ng4T6Ho3DflqYzzsPwpIjJ6coF2xMHqq9TJpbA2aGeODdA6s0mWx\n",
       "jBULex6GMRFqfs50ok2ksmsrqRP4EAjggyfuKqUJT/Q+hC+dWdyLbqDLLP4iB3CByZkXKErxvz6F\n",
       "0tVYIiH5tOjiP4nCVl2MWnQ5sf88MQja7DzgLu1+g8BPG+Nh2iggPgJoY0aX7fmfP1XDh0AmDc5/\n",
       "TEPnICoFVnLBWLGwVZoWyXOH9I60Cb65a7ubNYfYu5NM7BLiUJwbyQKU4HZS+HkSh/+0Xf660/cv\n",
       "6hJ+cGrii3N32uoP4Lr4s/tcUVafsf8WDVHpx5rIRwr46WF/+Q+mbVLgYVtWy2k1SDrVW3v6aXgS\n",
       "6hGRhPkvnLT9Ar93eP5G2oS0lEvbTsm61DaVytQ8Txatkz3sf1JU6ccaT8eqWiPt6v/mtfXUOB6V\n",
       "JejSltt0mHU+RxgAPcdLMCWJJIpbC6dd2PJwF0cqdYjekYYlxxq70FaKZOZAq3pMcIn3f1ZU6cda\n",
       "RztArubc/A+gTTUutc9v5CHGwi+1WgDOcmEBUtPwIyw+LpAQDmff22o1uvD/GsTOcSZtRtslOJa2\n",
       "Esvxm5Dx97efznI0VKUf6zXorWkle2kJrG0hjHPAUEh4vcF/ox31PAbLw60eSNt/7HFYu5ZoA2wA\n",
       "AAAASUVORK5CYII=\n",
       "\" style=\"display:inline;vertical-align:middle;\" /></a></span></td></tr>\n",
       "<tr><td>&nbsp;</td><td colspan=4 style=\"text-align:left\"><span style=\"font-size:20px;\"><a class=\"ProveItLink\" href=\"../../../__pv_it/_proof_deci_sequence_reduction/3e7f3569c18357d67af66f83da8ba5f81ce02a880/expr.ipynb\"><img src=\"data:image/png;base64,iVBORw0KGgoAAAANSUhEUgAAADQAAAAVBAMAAAD7ptBLAAAAMFBMVEX///8AAAAAAAAAAAAAAAAA\n",
       "AAAAAAAAAAAAAAAAAAAAAAAAAAAAAAAAAAAAAAAAAAAv3aB7AAAAD3RSTlMAmYkQqzLvVES73WZ2\n",
       "Is1wFLxSAAAACXBIWXMAAA7EAAAOxAGVKw4bAAABEklEQVQoz2NggANeBgYcHIbjyByOA2CKUckA\n",
       "SLIrwIQts4DEaTBTJawASNohtDwEYj6Qcob0ThAljZD6DsTcAiBjP4P5CQh7wALJQMy0AMRifwCX\n",
       "ggi8Bup0WwLSywh3BQOfzxGg5SpAFj/YnXwb4FL2j5n/MjDsA7LuB4D4XAVwqXoDhhwGhjIQC8xn\n",
       "a4BLyTEwfGJgiAeytNClFjFwAJ3fBmRNYUAz8DsDI9D5VUBWDpjPeQAu9ZXBDOimncAw/gHxjANc\n",
       "ypthIpAUAvr1A5jPCvRn5EwguMBgogjyyAqgX6HKl6LEEAPvAoYSPqj9G1GlGDcwrIRFBucFFKmb\n",
       "DAx7ZKFs5gkoUnOROXeQOTwXGAC//jhHEFCMfwAAAABJRU5ErkJggg==\n",
       "\" style=\"display:inline;vertical-align:middle;\" /></a> : <a class=\"ProveItLink\" href=\"../../../__pv_it/_proof_deci_sequence_reduction/b6c096f1cf1c5873ad7393ecbbc0ff5df91083590/expr.ipynb\"><img src=\"data:image/png;base64,iVBORw0KGgoAAAANSUhEUgAAAS0AAAAVBAMAAADhk6WpAAAAMFBMVEX///8AAAAAAAAAAAAAAAAA\n",
       "AAAAAAAAAAAAAAAAAAAAAAAAAAAAAAAAAAAAAAAAAAAv3aB7AAAAD3RSTlMAMt2Zdu9mq1QQibvN\n",
       "IkSXOFZ9AAAACXBIWXMAAA7EAAAOxAGVKw4bAAADLklEQVRIx81WS2gTURQ9ySTTTNNJUj8rlUbr\n",
       "pl0FhYIgmEKh9VOsH7qRarAr6aKhhPrBRXDXhTgLbUGFiR8QRDCiGynSgrjoQghaKFKkWdi1U6iQ\n",
       "lNr43puZN2+STIKQRS9M8m7uuSfnzb3vA1imYvdYQRgP7SJdv5xhKNcy1icX+fDgJTHg+5JonGkD\n",
       "AinqxKUk8LSF0/3sDEuuQDTbJNMGLFFxhp+o7GuhLkdMpOwK/NaaZNqAcfJII1HyvkZaJ0sQ0x53\n",
       "RZ43S7UBQQ3y9dHztxBabJ0uQUxHwqvAjTugIwW9Uqn8gUTbfuXlsgiqcmvNA9CRGcxa8S6hodQ7\n",
       "/aWGdAKgPU16LTmpUYGIjGFBaIAqt069PAD6kvK3Tny9EC431CUAZFI+PfsW8JOJPUrhGDBrV5S5\n",
       "yuubntpMfK090HDZip90+JRRSIt4/Oq2F50JkI+yXYu0e1dsijRaETgF9MI3YHcHcyVIcS8iBqhj\n",
       "RMwWj3M+yYA/h0T9qTgAXGUbmWH1F9V1BcoOkWrrYG60qG54EZn4WutFpOTEbb5gHnoRO1iLedCZ\n",
       "ANVgLTACeWFge4jWUdmEbDg8pitrnrosQN++wcBEzL19SWUe53x6EpPADW9dJkDOL+fMpClsAuEk\n",
       "lBLaFu+znxRKa7p01Su1JJoNmF1PBdOBtBjboJ2Faj49i7uhAtuiajvWAbQNz4xRdcC8WjIX5gfc\n",
       "SyQYj0571XSxR2Ousg3rd+4xwI9ziMYk1+E6jffs280XToa6JdI5PQ4VG3DPBASHQF4oJcwoY/SQ\n",
       "BObOHMrEGI+/B7arfrTcbvLQA8v8OKLZgAz2s9VM7MA8sQLmXqSY6+ZTMs9W+oFVzUxmLJTTJOaA\n",
       "teO0zv6iPcnD/GJB+2GGT/47foouR/FaXMBZrPm8dyU3n5pQC0IyNw6YiMRJsb/xwLiLh9dFfdd5\n",
       "QnCds4YDDPLGJqQmujjBaudezUl2jAMyvnhOvEWErTui+maLLIEkX7yViiG43B7yTT+Nr1g57X24\n",
       "uPmuVSpCstP3HPAJ06R58k4kL8AC7qxA7d8l/+skDzRLrgKEhYv08i66Rw8D/wBBjv3GUMAKyAAA\n",
       "AABJRU5ErkJggg==\n",
       "\" style=\"display:inline;vertical-align:middle;\" /></a>, <a class=\"ProveItLink\" href=\"../../../../../../__pv_it/common/a0d9d672aa5e272d907247690c152cc2c6daafb70/expr.ipynb\"><img src=\"data:image/png;base64,iVBORw0KGgoAAAANSUhEUgAAAAsAAAAJBAMAAAAWSsseAAAAMFBMVEX///8AAAAAAAAAAAAAAAAA\n",
       "AAAAAAAAAAAAAAAAAAAAAAAAAAAAAAAAAAAAAAAAAAAv3aB7AAAAD3RSTlMAEHarMolUmd1mIs3v\n",
       "RLtmgJDEAAAACXBIWXMAAA7EAAAOxAGVKw4bAAAAQklEQVQI12NgEFIWCU1gYChgMmJvYOBcwPmR\n",
       "eQIDCwP7BgYQ4FEAU/cXMAowyF2wYWBlYMh3rGG4xsAgrsRWmcAAAFEjCyBvD0T9AAAAAElFTkSu\n",
       "QmCC\n",
       "\" style=\"display:inline;vertical-align:middle;\" /></a> : <a class=\"ProveItLink\" href=\"../../../__pv_it/theorems/21675d20a2155d803d462252a7be2b80e87685ce0/expr.ipynb\"><img src=\"data:image/png;base64,iVBORw0KGgoAAAANSUhEUgAAAJwAAAARBAMAAADauNh4AAAAMFBMVEX///8AAAAAAAAAAAAAAAAA\n",
       "AAAAAAAAAAAAAAAAAAAAAAAAAAAAAAAAAAAAAAAAAAAv3aB7AAAAD3RSTlMAELvv3c2ZVESJq3Yi\n",
       "MmZ3LnoBAAAACXBIWXMAAA7EAAAOxAGVKw4bAAABYklEQVQ4y2NgVHZgwATYRXECIRM4kzUBmwLs\n",
       "ojhBGJzFX4As3odXFB1wPIAyvsOF+gWQFVTjFUUH7Bugxn6EC01hwKYRuygu4zgRIR21ezkWjdhF\n",
       "cRnHunoXNHAYvwrIH8DQiF0Up3HygYx/oCIfGZg3MD5F0wgWlZy1kEjj6gUYrCEstgAG/gm3t4DZ\n",
       "KS4uxi4uXjDRBIYUVFFUwObi4mzi4rIAyExlYPgJEWSZwNBfwFCC5jqw6A+G8xeIc50nA8d3eALL\n",
       "F8AwDiz6kGjjvjOwfeTLu70NqPECox0DpnFgUXhyIWTcXwbhB3LND5gPMHA9YErANA4iyuuIKiof\n",
       "ACUYv6Iat45BjeHgVgZ+AQbGlXkMmMZBRA8JoIVoAoxwQzVOahowt61maIaZUoIthfEk8BwgzrNg\n",
       "YMuQxotuHHJmP3T3mgCRRQDI8g8MvrUQ5sn42VgU2///T0IZxbGAYecDADJibuF3lWJ0AAAAAElF\n",
       "TkSuQmCC\n",
       "\" style=\"display:inline;vertical-align:middle;\" /></a>, <a class=\"ProveItLink\" href=\"../../../../../../__pv_it/common/ff7dba4ef0bbe791ab573bf2d9c220a304399ac80/expr.ipynb\"><img src=\"data:image/png;base64,iVBORw0KGgoAAAANSUhEUgAAAAsAAAANBAMAAACN24kIAAAAMFBMVEX///8AAAAAAAAAAAAAAAAA\n",
       "AAAAAAAAAAAAAAAAAAAAAAAAAAAAAAAAAAAAAAAAAAAv3aB7AAAAD3RSTlMAEHaZZquJVO8y3btE\n",
       "zSKD2s2pAAAACXBIWXMAAA7EAAAOxAGVKw4bAAAAVklEQVQI12NgVHZgEGVgYGNvYPBnYJjOvIAh\n",
       "moFBgEOBoYmBgeG8AOdPIGXLwNQApLYycAcAKVOG8w5ASjTJ/gEDCOQCMdsFxnYgxaXAmgCk2J1s\n",
       "gCQAaFoNDtFIIdEAAAAASUVORK5CYII=\n",
       "\" style=\"display:inline;vertical-align:middle;\" /></a> : <a class=\"ProveItLink\" href=\"../../../../../../__pv_it/common/ceef4280a2f1cc604b455b54e735507244cc62cd0/expr.ipynb\"><img src=\"data:image/png;base64,iVBORw0KGgoAAAANSUhEUgAAAAkAAAAJBAMAAAASvxsjAAAAKlBMVEX///8AAAAAAAAAAAAAAAAA\n",
       "AAAAAAAAAAAAAAAAAAAAAAAAAAAAAAAAAADmU0mKAAAADXRSTlMAiXZmMiLdVJm77xBEs3/oGgAA\n",
       "AAlwSFlzAAAOxAAADsQBlSsOGwAAADZJREFUCNdjYGAQUnZgYAgr4JjAwJDIwKXAwHGbAQi4JoDI\n",
       "vQogkteAgeEAA1ABI1CloLE2AwDCNQb+PNXqTgAAAABJRU5ErkJggg==\n",
       "\" style=\"display:inline;vertical-align:middle;\" /></a></span></td></tr><tr><td><a name=\"-0x60d84ff33c752af9_step2\">2</a></td><td>axiom</td><td></td><td><span style=\"font-size:20px;\"> <a class=\"ProveItLink\" href=\"../../../../../../logic/equality/_theory_nbs_/axioms.ipynb#substitution\" style=\"text-decoration: none\">&nbsp;&#x22A2;&nbsp;&nbsp;</a><a class=\"ProveItLink\" href=\"../../../../../../logic/equality/__pv_it/axioms/b3647e5bced6c805148d96be1aa0946871a946d20/expr.ipynb\"><img src=\"data:image/png;base64,iVBORw0KGgoAAAANSUhEUgAAAO8AAAAXBAMAAAARnwX+AAAAMFBMVEX///8AAAAAAAAAAAAAAAAA\n",
       "AAAAAAAAAAAAAAAAAAAAAAAAAAAAAAAAAAAAAAAAAAAv3aB7AAAAD3RSTlMAq1RmmUTNIjK7EInv\n",
       "3XZ/CtNrAAAACXBIWXMAAA7EAAAOxAGVKw4bAAAC/UlEQVRIx7VWTWgTURCeJLtpkk3SHDxYLCXi\n",
       "z0VLV1Chl1pp/aOCwYMnMYseBE/rUalYPUrFigexh7IFDxah1B48KJYgCKJUglDwEkixInoovVV6\n",
       "EOfN+9vsS1sT6MDMfvvmy5t5+97MC0Db4pu44z/4fuSnLUu+aGK7vj3/itACe9nXRuBDZEfeaIzy\n",
       "vRmzkZN3uZ5iL9dbj5vxmHV2v1eYSTIwmVHODa732NZMtB7YcpnNHphUmEli0GRGOUe5shydYuuB\n",
       "s2TLgcYkn0xmlJMNSBOYSbKNLT5I9l0Ik1wzmVFO0uW6WKt9biPwCDNHFndJPLv84i1+uFcGUXMy\n",
       "Ky5M4/ctcD0LMLnZ7IObB+ZL+6vwYL7HqgIcp/2vkRSgkePEK3ACz4HH9SZ0MEZm2DVn3+LQfaWG\n",
       "8UfihJ/YiOEMhw2i5tzHzLoAMDxpOnBK6EgfG2sp8Adm4msSp8CienlkEDUnyNbhC1LXuMbrdLY6\n",
       "m1TgtoGdqsZZ6lqXzTLWnHKQwuXbFa7gDbC8uueZe/XMCvZRexliocB8kFqidIhPnS5oXPYzmHuv\n",
       "scchzmnIs89c5QrzrJVAP7UzvyuJR3O2MxjXgWnw3DMUVzkApvQqGZ4pdYMjp2kseMWBx5RFYoIr\n",
       "jFJKw9R4YCqFj9u98EsHFoMQdoi6uVuSuO/Bebgoq6xBNAdOQhnPnzXHFWJ0qp5w2jrZPdAT3uN1\n",
       "NYt0ADxkpk/h56vxIdb/lozAmgPTCxdwz3IlrkI+kk1V6EpdEq8TapB/auXAn47REjTmtVM1Ajdw\n",
       "XqPeESoumw2AlzDqeBY+4Ju9pgPToBDpoOsgXrgavRqsaDMIcxwvw+6pIaEgVgUwXrR+LPzGB+zv\n",
       "93RgGhQiHShPITfpKSzkVnS9YU6uHpvjV2HoOqSkxSVVzPhpt2kdKwfKDCRklSGOZqDmDXHiA+zy\n",
       "T/tcuaT34hbYvIfYQax+qXkDUQ62naG/ORLnt/gzJTk/hYr2skp1w5MEe2CueWDl2Gnxd27qf2UN\n",
       "1FvBvR7LAAAAAElFTkSuQmCC\n",
       "\" style=\"display:inline;vertical-align:middle;\" /></a></span></td></tr>\n",
       "<tr><td>&nbsp;</td><td colspan=4 style-\"text-align:left\"><a class=\"ProveItLink\" href=\"../../../../../../logic/equality/_theory_nbs_/axioms.ipynb#substitution\">proveit.logic.equality.substitution</a></td></tr><tr><td><a name=\"-0x60d84ff33c752af9_step3\">3</a></td><td>assumption</td><td></td><td><span style=\"font-size:20px;\"><a class=\"ProveItLink\" href=\"../../../__pv_it/theorems/aaf74891030974649b2ab5ae1f66e1f3494182e50/expr.ipynb\"><img src=\"data:image/png;base64,iVBORw0KGgoAAAANSUhEUgAAANAAAAAVBAMAAADFr31AAAAAMFBMVEX///8AAAAAAAAAAAAAAAAA\n",
       "AAAAAAAAAAAAAAAAAAAAAAAAAAAAAAAAAAAAAAAAAAAv3aB7AAAAD3RSTlMAInZUiRDNmWbv3US7\n",
       "qzJazP2FAAAACXBIWXMAAA7EAAAOxAGVKw4bAAACIUlEQVRIx2NgYBBgoC7AZR6TAZUt2oRD3ISB\n",
       "9eQCLOIxs0gyHqGcqQGrAtYEBga2Amwy6aR5BKE8Fas8O9B+fpTQ2wGlPyMLcjfgMB8ugVDejlUh\n",
       "JxDvD0AWMYKa8BVZkFkBh0UwCSTlnAHYFJoBsRcDFotYFpBkEZJyNqy+LwHiXKXLmBaxXdI1IMEi\n",
       "JOUsF9AVsSj1MWQA08O3gHgBDIviU1k/kmARknKOBBBZtQoE1oKYjIsZahgWA9V+ZeBUYG1Ds8g+\n",
       "gGESq8vdACItAimHCU1AU8PlAJSbDUx4CQz8Do+0GKDumAlxRxkDwxd2BnZQ0LOvWrVy1qpVFzCT\n",
       "LEICpBwqyvcBTVk9yLWzwRbuN2CwQvPREgbuz/wbGP8R6SOQcliKR/fRHBCxGJyNgHaiW/SZgf0r\n",
       "RwDRFoGVVzxSBwktQI0j1k8g/iGgRQ9YZzBgWPSPIbIBkWoJWgRSHrGzgROYqjgOoKn5AfQlgy8D\n",
       "A28DTwGmRTcYjgPJV2iJIT4BlEoZoASSBEi5qBoDP1A9uwOaRTUMDH4Mr4B6rlQwYFoU6w70EONR\n",
       "NIdzgYrF5QwwAiEBVn6JYSdIzQb0bOTRFMDA9QDKQ7cIDMQZBIkMOjCYx1DOx8AghVUhRwG6RTsQ\n",
       "kozn3pUSW6iClH9gWGfHwFCBXeVBCCWS74SlxP3//wMJNQX3BQaVBgbGAzhqLCpXsAw8OOpyRgUq\n",
       "W6SIVRQAY8WM526f3TYAAAAASUVORK5CYII=\n",
       "\" style=\"display:inline;vertical-align:middle;\" /></a> <a class=\"ProveItLink\" href=\"../../../__pv_it/_proof_deci_sequence_reduction/064ee710ab27a2e5823ebc0a808eb12241db199e0/proof.ipynb\" style=\"text-decoration: none\">&nbsp;&#x22A2;&nbsp;&nbsp;</a><a class=\"ProveItLink\" href=\"../../../__pv_it/theorems/aaf74891030974649b2ab5ae1f66e1f3494182e50/expr.ipynb\"><img src=\"data:image/png;base64,iVBORw0KGgoAAAANSUhEUgAAANAAAAAVBAMAAADFr31AAAAAMFBMVEX///8AAAAAAAAAAAAAAAAA\n",
       "AAAAAAAAAAAAAAAAAAAAAAAAAAAAAAAAAAAAAAAAAAAv3aB7AAAAD3RSTlMAInZUiRDNmWbv3US7\n",
       "qzJazP2FAAAACXBIWXMAAA7EAAAOxAGVKw4bAAACIUlEQVRIx2NgYBBgoC7AZR6TAZUt2oRD3ISB\n",
       "9eQCLOIxs0gyHqGcqQGrAtYEBga2Amwy6aR5BKE8Fas8O9B+fpTQ2wGlPyMLcjfgMB8ugVDejlUh\n",
       "JxDvD0AWMYKa8BVZkFkBh0UwCSTlnAHYFJoBsRcDFotYFpBkEZJyNqy+LwHiXKXLmBaxXdI1IMEi\n",
       "JOUsF9AVsSj1MWQA08O3gHgBDIviU1k/kmARknKOBBBZtQoE1oKYjIsZahgWA9V+ZeBUYG1Ds8g+\n",
       "gGESq8vdACItAimHCU1AU8PlAJSbDUx4CQz8Do+0GKDumAlxRxkDwxd2BnZQ0LOvWrVy1qpVFzCT\n",
       "LEICpBwqyvcBTVk9yLWzwRbuN2CwQvPREgbuz/wbGP8R6SOQcliKR/fRHBCxGJyNgHaiW/SZgf0r\n",
       "RwDRFoGVVzxSBwktQI0j1k8g/iGgRQ9YZzBgWPSPIbIBkWoJWgRSHrGzgROYqjgOoKn5AfQlgy8D\n",
       "A28DTwGmRTcYjgPJV2iJIT4BlEoZoASSBEi5qBoDP1A9uwOaRTUMDH4Mr4B6rlQwYFoU6w70EONR\n",
       "NIdzgYrF5QwwAiEBVn6JYSdIzQb0bOTRFMDA9QDKQ7cIDMQZBIkMOjCYx1DOx8AghVUhRwG6RTsQ\n",
       "kozn3pUSW6iClH9gWGfHwFCBXeVBCCWS74SlxP3//wMJNQX3BQaVBgbGAzhqLCpXsAw8OOpyRgUq\n",
       "W6SIVRQAY8WM526f3TYAAAAASUVORK5CYII=\n",
       "\" style=\"display:inline;vertical-align:middle;\" /></a></span></td></tr>\n",
       "</table>"
      ],
      "text/plain": [
       "\tstep type\trequirements\tstatement\n",
       "0\tgeneralization\t1\t|- forall_{m, n, k in Natural} [forall_{a_{1}, a_{2}, ..., a_{m}, b_{1}, b_{2}, ..., b_{n}, c, d_{1}, d_{2}, ..., d_{k} in Digits | (b_{1} +  b_{2} +  ... +  b_{n}) = c} (#(a_{1}, a_{2}, ..., a_{m} ~ (b_{1} +  b_{2} +  ... +  b_{n}) ~ d_{1}, d_{2}, ..., d_{k}) = #(a_{1}, a_{2}, ..., a_{m} ~ c ~ d_{1}, d_{2}, ..., d_{k}))]\n",
       "1\tinstantiation\t2, 3\t{(b_{1} +  b_{2} +  ... +  b_{n}) = c} |- #(a_{1}, a_{2}, ..., a_{m} ~ (b_{1} +  b_{2} +  ... +  b_{n}) ~ d_{1}, d_{2}, ..., d_{k}) = #(a_{1}, a_{2}, ..., a_{m} ~ c ~ d_{1}, d_{2}, ..., d_{k})\n",
       "\tf(_b) : #(a_{1}, a_{2}, ..., a_{m} ~ _b ~ d_{1}, d_{2}, ..., d_{k}), x : b_{1} +  b_{2} +  ... +  b_{n}, y : c\n",
       "2\taxiom\t\t|- forall_{f, x, y | x = y} (f(x) = f(y))\n",
       "\tproveit.logic.equality.substitution\n",
       "3\tassumption\t\t{(b_{1} +  b_{2} +  ... +  b_{n}) = c} |- (b_{1} +  b_{2} +  ... +  b_{n}) = c"
      ]
     },
     "execution_count": 8,
     "metadata": {},
     "output_type": "execute_result"
    }
   ],
   "source": [
    "%qed"
   ]
  },
  {
   "cell_type": "code",
   "execution_count": null,
   "metadata": {},
   "outputs": [],
   "source": []
  }
 ],
 "metadata": {
  "kernelspec": {
   "display_name": "Python 3",
   "language": "python",
   "name": "python3"
  }
 },
 "nbformat": 4,
 "nbformat_minor": 0
}