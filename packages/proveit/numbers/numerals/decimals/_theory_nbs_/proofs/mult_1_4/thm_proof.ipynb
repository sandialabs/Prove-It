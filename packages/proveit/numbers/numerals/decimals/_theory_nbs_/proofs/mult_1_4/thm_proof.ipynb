{
 "cells": [
  {
   "cell_type": "markdown",
   "metadata": {},
   "source": [
    "Proof of <a class=\"ProveItLink\" href=\"../../../../../../_theory_nbs_/theory.ipynb\">proveit</a>.<a class=\"ProveItLink\" href=\"../../../../../_theory_nbs_/theory.ipynb\">numbers</a>.<a class=\"ProveItLink\" href=\"../../../../_theory_nbs_/theory.ipynb\">numerals</a>.<a class=\"ProveItLink\" href=\"../../theory.ipynb\">decimals</a>.<a class=\"ProveItLink\" href=\"../../theorems.ipynb#mult_1_4\">mult_1_4</a> theorem\n",
    "========"
   ]
  },
  {
   "cell_type": "code",
   "execution_count": 1,
   "metadata": {},
   "outputs": [],
   "source": [
    "import proveit\n",
    "theory = proveit.Theory() # the theorem's theory"
   ]
  },
  {
   "cell_type": "code",
   "execution_count": 2,
   "metadata": {},
   "outputs": [
    {
     "data": {
      "text/html": [
       "With these <a href=\"allowed_presumptions.txt\">allowed</a>/<a href=\"disallowed_presumptions.txt\">disallowed</a> theorem/theory presumptions (e.g., to avoid circular dependencies), we begin our proof of<br><strong id=\"mult_1_4\">mult_1_4:</strong> <a class=\"ProveItLink\" href=\"../../../__pv_it/theorems/e496d9afa577125ac1e38e83039b21949b0dc4120/expr.ipynb\"><img src=\"data:image/png;base64,iVBORw0KGgoAAAANSUhEUgAAAFcAAAAVBAMAAADBdm84AAAAMFBMVEX///8AAAAAAAAAAAAAAAAA\n",
       "AAAAAAAAAAAAAAAAAAAAAAAAAAAAAAAAAAAAAAAAAAAv3aB7AAAAD3RSTlMAInZUiRDNmWbv3US7\n",
       "qzJazP2FAAAACXBIWXMAAA7EAAAOxAGVKw4bAAABD0lEQVQoz3WTsQ7BUBSGT2mVVspsYrUwiLkv\n",
       "IDyAhEViEQaDmFhY7SIkNolEPAFegM3UMJu8gMQ9t5LWObcnaXrz5cvJ33NPASALrBTIr1iZs2OU\n",
       "XBHPqxECzgBiE+4JDEYbjHs/LFs3gA6XEZvYpBSWi4LOuYw4BUR2ZkgbLAXiKpX1hKAJFlriIZUL\n",
       "SPUblSXuElmbIE228TzeYe0DvCWyDkjjC5pC4mUgt7DdVFLnTeQplS0xdi0vqU06/zCJYXveY+VC\n",
       "fPOf+YcvdBqQwg88sUtBXMNDPbxmGSGaLpMRv8TbW/eCSzCvnzxYB+r6+KlaxZx6Q5MDFR1F7PNZ\n",
       "wbRThNxUsHTUfyXmzaqgVr8g1UsImp4VLwAAAABJRU5ErkJggg==\n",
       "\" style=\"display:inline;vertical-align:middle;\" /></a><br>(see <a class=\"ProveItLink\" href=\"../../../__pv_it/theorems/4b109d19269d0324df2fd16d9d37bff7887348cc0/dependencies.ipynb\">dependencies</a>)<br>"
      ],
      "text/plain": [
       "<IPython.core.display.HTML object>"
      ]
     },
     "metadata": {},
     "output_type": "display_data"
    },
    {
     "name": "stdout",
     "output_type": "stream",
     "text": [
      "mult_1_4 may now be readily provable (assuming required theorems are usable).  Simply execute \"%qed\".\n"
     ]
    }
   ],
   "source": [
    "%proving mult_1_4"
   ]
  },
  {
   "cell_type": "code",
   "execution_count": null,
   "metadata": {},
   "outputs": [],
   "source": []
  }
 ],
 "metadata": {
  "kernelspec": {
   "display_name": "Python 3",
   "language": "python",
   "name": "python3"
  }
 },
 "nbformat": 4,
 "nbformat_minor": 0
}