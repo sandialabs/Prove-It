{
 "cells": [
  {
   "cell_type": "markdown",
   "metadata": {},
   "source": [
    "Proof of <a class=\"ProveItLink\" href=\"../../../../../../_theory_nbs_/theory.ipynb\">proveit</a>.<a class=\"ProveItLink\" href=\"../../../../../_theory_nbs_/theory.ipynb\">numbers</a>.<a class=\"ProveItLink\" href=\"../../../../_theory_nbs_/theory.ipynb\">numerals</a>.<a class=\"ProveItLink\" href=\"../../theory.ipynb\">decimals</a>.<a class=\"ProveItLink\" href=\"../../theorems.ipynb#add_8_7\">add_8_7</a> theorem\n",
    "========"
   ]
  },
  {
   "cell_type": "code",
   "execution_count": 1,
   "metadata": {},
   "outputs": [],
   "source": [
    "import proveit\n",
    "theory = proveit.Theory() # the theorem's theory"
   ]
  },
  {
   "cell_type": "code",
   "execution_count": 2,
   "metadata": {},
   "outputs": [
    {
     "data": {
      "text/html": [
       "With these <a href=\"allowed_presumptions.txt\">allowed</a>/<a href=\"disallowed_presumptions.txt\">disallowed</a> theorem/theory presumptions (e.g., to avoid circular dependencies), we begin our proof of<br><strong id=\"add_8_7\">add_8_7:</strong> <a class=\"ProveItLink\" href=\"../../../__pv_it/theorems/567a3e4e56ff4f19e24a4fc448c0b05481f20cf90/expr.ipynb\"><img src=\"data:image/png;base64,iVBORw0KGgoAAAANSUhEUgAAAGwAAAAVBAMAAABRZRb3AAAAMFBMVEX///8AAAAAAAAAAAAAAAAA\n",
       "AAAAAAAAAAAAAAAAAAAAAAAAAAAAAAAAAAAAAAAAAAAv3aB7AAAAD3RSTlMAInZUiRDNmWbv3US7\n",
       "qzJazP2FAAAACXBIWXMAAA7EAAAOxAGVKw4bAAABjElEQVQ4y2NgYBBgwA4YGfABJgMsOlqBBLcC\n",
       "dg0PGFiBNpkwMIS4VKPKMP////8ngwamllcBDAzz01YFMLAmMDAUMPCiWslyvLx8MQNbAJom1uv5\n",
       "QKGVv1wZGNgbGDgawJpBYAdUG9CdBQwcBRi26QO1XQAxOIGKLsC1GUEdycDAC6Sm4tZmBlT0JwBo\n",
       "J7I2IPAD4gzc2kqA+P6nYgY0bYwHgIQvVm03VO5BTGT/vxBdG+8GINEGYrGvAoMLcG1HGeQ3MCwG\n",
       "ckxk/hugaZMEEZZYbWNg4FnAMJsBFGL2IN9XrVo1c9WqtWB5NxDxHoc29o8gbZwBDIyf0WxbAyJ2\n",
       "YtPGk8DA/g/kyHgg/waqNta/INIKm984FzDwfmA4BLQNmMQOomrj/g4ie7DZBkwKnAdAgcydysCh\n",
       "gKqN+QssclCBvwAo+WgGMLwCct6WV6NFAONkELkaXdfd+bkNDOK1pQwMXA+QxY1Qss8C3NkNNb3u\n",
       "QObAUhxWcBCnjAy+3B1DhoEgHyjgKi0EcGsCAHaGYNt8L7yCAAAAAElFTkSuQmCC\n",
       "\" style=\"display:inline;vertical-align:middle;\" /></a><br>(see <a class=\"ProveItLink\" href=\"../../../__pv_it/theorems/10377ec72192e7a5d7adae5fd0ed9a65fcce5ec10/dependencies.ipynb\">dependencies</a>)<br>"
      ],
      "text/plain": [
       "<IPython.core.display.HTML object>"
      ]
     },
     "metadata": {},
     "output_type": "display_data"
    },
    {
     "name": "stdout",
     "output_type": "stream",
     "text": [
      "add_8_7 may now be readily provable (assuming required theorems are usable).  Simply execute \"%qed\".\n"
     ]
    }
   ],
   "source": [
    "%proving add_8_7"
   ]
  },
  {
   "cell_type": "code",
   "execution_count": null,
   "metadata": {},
   "outputs": [],
   "source": []
  }
 ],
 "metadata": {
  "kernelspec": {
   "display_name": "Python 3",
   "language": "python",
   "name": "python3"
  }
 },
 "nbformat": 4,
 "nbformat_minor": 0
}