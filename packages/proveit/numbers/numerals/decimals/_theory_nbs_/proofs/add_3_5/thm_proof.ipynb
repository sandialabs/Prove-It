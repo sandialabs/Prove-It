{
 "cells": [
  {
   "cell_type": "markdown",
   "metadata": {},
   "source": [
    "Proof of <a class=\"ProveItLink\" href=\"../../../../../../_theory_nbs_/theory.ipynb\">proveit</a>.<a class=\"ProveItLink\" href=\"../../../../../_theory_nbs_/theory.ipynb\">numbers</a>.<a class=\"ProveItLink\" href=\"../../../../_theory_nbs_/theory.ipynb\">numerals</a>.<a class=\"ProveItLink\" href=\"../../theory.ipynb\">decimals</a>.<a class=\"ProveItLink\" href=\"../../theorems.ipynb#add_3_5\">add_3_5</a> theorem\n",
    "========"
   ]
  },
  {
   "cell_type": "code",
   "execution_count": 1,
   "metadata": {},
   "outputs": [],
   "source": [
    "import proveit\n",
    "theory = proveit.Theory() # the theorem's theory"
   ]
  },
  {
   "cell_type": "code",
   "execution_count": 2,
   "metadata": {},
   "outputs": [
    {
     "data": {
      "text/html": [
       "With these <a href=\"allowed_presumptions.txt\">allowed</a>/<a href=\"disallowed_presumptions.txt\">disallowed</a> theorem/theory presumptions (e.g., to avoid circular dependencies), we begin our proof of<br><strong id=\"add_3_5\">add_3_5:</strong> <a class=\"ProveItLink\" href=\"../../../__pv_it/theorems/3bc45831654358a0e942139363884f6bb693ceb50/expr.ipynb\"><img src=\"data:image/png;base64,iVBORw0KGgoAAAANSUhEUgAAAGEAAAAVBAMAAACkm51HAAAAMFBMVEX///8AAAAAAAAAAAAAAAAA\n",
       "AAAAAAAAAAAAAAAAAAAAAAAAAAAAAAAAAAAAAAAAAAAv3aB7AAAAD3RSTlMAInZUiRDNmWbv3US7\n",
       "qzJazP2FAAAACXBIWXMAAA7EAAAOxAGVKw4bAAABgklEQVQ4y3WTP0jDQBTGv6TWtunfQRBc1MlJ\n",
       "CEVcW0HoVIiLk2AXQZw6CC0uDV3qqIODVlBQQQJCcdCOVdDBDhYcumlmJ6FUUAd9SQRzz9wNL3fv\n",
       "8uP73r07ABkED1keqv4/lwKWcCkj5oCxQlfMxd43zqCa/NfwYqFFsYRwGTlRSDs6NYA1TkSAJ4om\n",
       "1AFWS16u7X2SbmxwYhtYJgNAvIn0L5H1EzGDEUWXmHfnOTOAGOWF5O5QBTadafwcIlEv2sBIjxHJ\n",
       "7xmqd905zNlnkUgYyhcQda1GLHe4dO2TmnTi6ekCQeMBCO0wjdDC4wBoekUOKWxZ1r5lXXi7tQxS\n",
       "b4xoIPRhOETKRmIgaNwTYSPONfaASd1xlR5y4gB4IRPHYh1h0kyauCVLPc/VH5EHDqnyDtPYpTPJ\n",
       "OF2Jmrwf41DJQSTPiCsDdeCVZteVrni6SqVP/dZa/Er3K5TSbH8u619MBF/2aNm/avsXVcn7uJE9\n",
       "HKUj2ViREQnZs1WmJBvTwekfCb9ZZLf6ZHoAAAAASUVORK5CYII=\n",
       "\" style=\"display:inline;vertical-align:middle;\" /></a><br>(see <a class=\"ProveItLink\" href=\"../../../__pv_it/theorems/822898849d9a9c432c69eaeb561ba9af1283a80d0/dependencies.ipynb\">dependencies</a>)<br>"
      ],
      "text/plain": [
       "<IPython.core.display.HTML object>"
      ]
     },
     "metadata": {},
     "output_type": "display_data"
    },
    {
     "name": "stdout",
     "output_type": "stream",
     "text": [
      "add_3_5 may now be readily provable (assuming required theorems are usable).  Simply execute \"%qed\".\n"
     ]
    }
   ],
   "source": [
    "%proving add_3_5"
   ]
  },
  {
   "cell_type": "code",
   "execution_count": null,
   "metadata": {},
   "outputs": [],
   "source": []
  }
 ],
 "metadata": {
  "kernelspec": {
   "display_name": "Python 3",
   "language": "python",
   "name": "python3"
  }
 },
 "nbformat": 4,
 "nbformat_minor": 0
}