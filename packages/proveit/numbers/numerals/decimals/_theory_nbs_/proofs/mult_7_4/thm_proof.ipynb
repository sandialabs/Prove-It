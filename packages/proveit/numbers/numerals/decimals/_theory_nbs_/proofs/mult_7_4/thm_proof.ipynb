{
 "cells": [
  {
   "cell_type": "markdown",
   "metadata": {},
   "source": [
    "Proof of <a class=\"ProveItLink\" href=\"../../../../../../_theory_nbs_/theory.ipynb\">proveit</a>.<a class=\"ProveItLink\" href=\"../../../../../_theory_nbs_/theory.ipynb\">numbers</a>.<a class=\"ProveItLink\" href=\"../../../../_theory_nbs_/theory.ipynb\">numerals</a>.<a class=\"ProveItLink\" href=\"../../theory.ipynb\">decimals</a>.<a class=\"ProveItLink\" href=\"../../theorems.ipynb#mult_7_4\">mult_7_4</a> theorem\n",
    "========"
   ]
  },
  {
   "cell_type": "code",
   "execution_count": 1,
   "metadata": {},
   "outputs": [],
   "source": [
    "import proveit\n",
    "theory = proveit.Theory() # the theorem's theory"
   ]
  },
  {
   "cell_type": "code",
   "execution_count": 2,
   "metadata": {},
   "outputs": [
    {
     "data": {
      "text/html": [
       "With these <a href=\"allowed_presumptions.txt\">allowed</a>/<a href=\"disallowed_presumptions.txt\">disallowed</a> theorem/theory presumptions (e.g., to avoid circular dependencies), we begin our proof of<br><strong id=\"mult_7_4\">mult_7_4:</strong> <a class=\"ProveItLink\" href=\"../../../__pv_it/theorems/4ea54554744babf2e51a6b9d3607a8f65aff08f20/expr.ipynb\"><img src=\"data:image/png;base64,iVBORw0KGgoAAAANSUhEUgAAAGEAAAAVBAMAAACkm51HAAAAMFBMVEX///8AAAAAAAAAAAAAAAAA\n",
       "AAAAAAAAAAAAAAAAAAAAAAAAAAAAAAAAAAAAAAAAAAAv3aB7AAAAD3RSTlMAInZUiRDNmWbv3US7\n",
       "qzJazP2FAAAACXBIWXMAAA7EAAAOxAGVKw4bAAABlElEQVQ4y32TPUjDQBiG3/TSpk2bmMXBIthO\n",
       "glOH4moF0UnJ5CTYRXBw6CCkFMEo+DMq4iAiCm6iWBycqyCOrTgIQmlnJ1FRqpR4dxUTLiHflLzf\n",
       "Pd/vHQADPguQPBbJSRuidhVK5EEcx+m4gl5CxBZPSdZSG9GJqSoQLUK+t6xT16k2gAWRGIT8AwV4\n",
       "BBQbMg1Rcp0jlNgSiQfgANvALJAACKB5itqkRMIUiGMTLWOaE6NcmHF9cowSMbGRZ6DVHrtDGVjm\n",
       "fdVcX5YRcsM/oktoznAOWGQ/WtUdis2IeJF9V86YXfxV+wasftNN8SENeIoCI8iOLwUdIRmvvwOH\n",
       "7G+Sa/Ms8Bon9FcfscImSDpmjzjvRaEjljKcSPpyxKm6DwzleFXR7r8j2Wy2jgogJ2IfeUj9NLFm\n",
       "45Yd+/JGS7DOa0IKvYCIuQukDNCtgHx4nX30tFIQiLRlVXBtYh14YRPd8/iUejcDtSouw3E+oT9Z\n",
       "VFfbQRc6HXLZ46UgtRz2Pm4CNKkWRswFaKnQZ0t35rNsyPlfcVRiQ2uM3+gAAAAASUVORK5CYII=\n",
       "\" style=\"display:inline;vertical-align:middle;\" /></a><br>(see <a class=\"ProveItLink\" href=\"../../../__pv_it/theorems/386dad92949c6bb9fbe440468fad66bb92e301a50/dependencies.ipynb\">dependencies</a>)<br>"
      ],
      "text/plain": [
       "<IPython.core.display.HTML object>"
      ]
     },
     "metadata": {},
     "output_type": "display_data"
    },
    {
     "name": "stdout",
     "output_type": "stream",
     "text": [
      "mult_7_4 may now be readily provable (assuming required theorems are usable).  Simply execute \"%qed\".\n"
     ]
    }
   ],
   "source": [
    "%proving mult_7_4"
   ]
  },
  {
   "cell_type": "code",
   "execution_count": null,
   "metadata": {},
   "outputs": [],
   "source": []
  }
 ],
 "metadata": {
  "kernelspec": {
   "display_name": "Python 3",
   "language": "python",
   "name": "python3"
  }
 },
 "nbformat": 4,
 "nbformat_minor": 0
}