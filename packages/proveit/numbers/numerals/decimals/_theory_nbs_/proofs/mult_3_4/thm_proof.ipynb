{
 "cells": [
  {
   "cell_type": "markdown",
   "metadata": {},
   "source": [
    "Proof of <a class=\"ProveItLink\" href=\"../../../../../../_theory_nbs_/theory.ipynb\">proveit</a>.<a class=\"ProveItLink\" href=\"../../../../../_theory_nbs_/theory.ipynb\">numbers</a>.<a class=\"ProveItLink\" href=\"../../../../_theory_nbs_/theory.ipynb\">numerals</a>.<a class=\"ProveItLink\" href=\"../../theory.ipynb\">decimals</a>.<a class=\"ProveItLink\" href=\"../../theorems.ipynb#mult_3_4\">mult_3_4</a> theorem\n",
    "========"
   ]
  },
  {
   "cell_type": "code",
   "execution_count": 1,
   "metadata": {},
   "outputs": [],
   "source": [
    "import proveit\n",
    "theory = proveit.Theory() # the theorem's theory"
   ]
  },
  {
   "cell_type": "code",
   "execution_count": 2,
   "metadata": {},
   "outputs": [
    {
     "data": {
      "text/html": [
       "With these <a href=\"allowed_presumptions.txt\">allowed</a>/<a href=\"disallowed_presumptions.txt\">disallowed</a> theorem/theory presumptions (e.g., to avoid circular dependencies), we begin our proof of<br><strong id=\"mult_3_4\">mult_3_4:</strong> <a class=\"ProveItLink\" href=\"../../../__pv_it/theorems/723622d1b7ef462fbc60db9e948cd674c7fa1e750/expr.ipynb\"><img src=\"data:image/png;base64,iVBORw0KGgoAAAANSUhEUgAAAGEAAAAVBAMAAACkm51HAAAAMFBMVEX///8AAAAAAAAAAAAAAAAA\n",
       "AAAAAAAAAAAAAAAAAAAAAAAAAAAAAAAAAAAAAAAAAAAv3aB7AAAAD3RSTlMAInZUiRDNmWbv3US7\n",
       "qzJazP2FAAAACXBIWXMAAA7EAAAOxAGVKw4bAAABc0lEQVQ4y32Tv0vDUBDHv0nTH2nrSwen4tCu\n",
       "guBQXNvNSegfoNhFcHDIIEaKQ1x0dZUiCiKIIBUX1+rqYNxUqM3spJZ2Ean3XqUJzZHb7sfn3ffu\n",
       "vQeggIgxoZDpi9HYbSxRAWaXH0MBYUN3I2XiAtCcLR9INpC0UQ01ynrAxjSwtjMA5mD8AGkXeh/r\n",
       "jSA5T8RhVDwRz8AxYAK5FqyAEAdEmHWOOK2jV8CS8quBcCNFRMrliDeg52NburnLIFWWhOFxBFkb\n",
       "2JRCFt4nGc2VREapbF5Juw4R4hs4H6ua7MqAJBJHfA+5x5byTemrhe0rQnzyxB4UIXzk+/IAm0SV\n",
       "FJHje2TkeKTKGowJtYNut3dSQ+KMnaMCrYAHkuSNVf2bKSfvcD1EDXodK5R2w/cBi6rTtWnC+AKK\n",
       "jtMEPsi7c0IvMf30W0L2ZgqYeR2+oD0aDWlcn3vQxZjHnrG56G7c/7hnYlonjlhlYvnYb0t3FrFy\n",
       "TP0fGrdjli1D5qcAAAAASUVORK5CYII=\n",
       "\" style=\"display:inline;vertical-align:middle;\" /></a><br>(see <a class=\"ProveItLink\" href=\"../../../__pv_it/theorems/7cfbac99c91a0d1d9799f4df604eddf44a8daa470/dependencies.ipynb\">dependencies</a>)<br>"
      ],
      "text/plain": [
       "<IPython.core.display.HTML object>"
      ]
     },
     "metadata": {},
     "output_type": "display_data"
    },
    {
     "name": "stdout",
     "output_type": "stream",
     "text": [
      "mult_3_4 may now be readily provable (assuming required theorems are usable).  Simply execute \"%qed\".\n"
     ]
    }
   ],
   "source": [
    "%proving mult_3_4"
   ]
  },
  {
   "cell_type": "code",
   "execution_count": null,
   "metadata": {},
   "outputs": [],
   "source": []
  }
 ],
 "metadata": {
  "kernelspec": {
   "display_name": "Python 3",
   "language": "python",
   "name": "python3"
  }
 },
 "nbformat": 4,
 "nbformat_minor": 0
}