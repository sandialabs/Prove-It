{
 "cells": [
  {
   "cell_type": "markdown",
   "metadata": {},
   "source": [
    "Proof of <a class=\"ProveItLink\" href=\"../../../../../../_theory_nbs_/theory.ipynb\">proveit</a>.<a class=\"ProveItLink\" href=\"../../../../../_theory_nbs_/theory.ipynb\">numbers</a>.<a class=\"ProveItLink\" href=\"../../../../_theory_nbs_/theory.ipynb\">numerals</a>.<a class=\"ProveItLink\" href=\"../../theory.ipynb\">decimals</a>.<a class=\"ProveItLink\" href=\"../../theorems.ipynb#mult_0_8\">mult_0_8</a> theorem\n",
    "========"
   ]
  },
  {
   "cell_type": "code",
   "execution_count": 1,
   "metadata": {},
   "outputs": [],
   "source": [
    "import proveit\n",
    "theory = proveit.Theory() # the theorem's theory"
   ]
  },
  {
   "cell_type": "code",
   "execution_count": 2,
   "metadata": {},
   "outputs": [
    {
     "data": {
      "text/html": [
       "With these <a href=\"allowed_presumptions.txt\">allowed</a>/<a href=\"disallowed_presumptions.txt\">disallowed</a> theorem/theory presumptions (e.g., to avoid circular dependencies), we begin our proof of<br><strong id=\"mult_0_8\">mult_0_8:</strong> <a class=\"ProveItLink\" href=\"../../../__pv_it/theorems/a4a5eb0421c98a7e5fdc6af228c336e13f49f35e0/expr.ipynb\"><img src=\"data:image/png;base64,iVBORw0KGgoAAAANSUhEUgAAAFcAAAAVBAMAAADBdm84AAAAMFBMVEX///8AAAAAAAAAAAAAAAAA\n",
       "AAAAAAAAAAAAAAAAAAAAAAAAAAAAAAAAAAAAAAAAAAAv3aB7AAAAD3RSTlMAInZUiRDNmWbv3US7\n",
       "qzJazP2FAAAACXBIWXMAAA7EAAAOxAGVKw4bAAABf0lEQVQoz3WTO0jDUBSGvzaNTZ92drFOnYQM\n",
       "4tpaCi4KmRRFaEEExwpFi4vFpepiHZwEqbgJQnFwNQpuigUHN+nsomjFx6InLSk0Sc8Qbv775T/n\n",
       "3HsCJHCFh9QNv+7WLgbBExDIrvVe1dx0A3/FheVSkk4twDKLvcRBeIQVJzukqyeyWUGrEzBtdQfm\n",
       "oOqE92AGQhBtonza6mwHDhkO+B7SBpMwXCT+YavpW8qS1Vn0F7zqlCAv8Letxv5ScjyBZj+rWnCF\n",
       "VRjNEH/v6Vu/0qxWsJabZ1acy8rXFjjJaRdu26wy9SAlKbV+5w6c4UjKyBCxnPOWXRXlxyD+5ihD\n",
       "4KukBUuDitVguCiPQ8mkE6m5G0zrVhlRE80+OlUsYxWUen/N3MG+wY10UyNYsC0O5OMEmulw3oX1\n",
       "ziWI+0LLVi8NtuVeMw44rKvH8CKr+exzT40/bTRkr+GA1dK4+IVbXqM44j2hWtFLLQ+Y52sPzWcO\n",
       "gJc8tOig/8qXdGtj3ug/IUJZNoY/gisAAAAASUVORK5CYII=\n",
       "\" style=\"display:inline;vertical-align:middle;\" /></a><br>(see <a class=\"ProveItLink\" href=\"../../../__pv_it/theorems/41e584c845d1815f88baa8538671d1549a2f26710/dependencies.ipynb\">dependencies</a>)<br>"
      ],
      "text/plain": [
       "<IPython.core.display.HTML object>"
      ]
     },
     "metadata": {},
     "output_type": "display_data"
    },
    {
     "name": "stdout",
     "output_type": "stream",
     "text": [
      "mult_0_8 may now be readily provable (assuming required theorems are usable).  Simply execute \"%qed\".\n"
     ]
    }
   ],
   "source": [
    "%proving mult_0_8"
   ]
  },
  {
   "cell_type": "code",
   "execution_count": null,
   "metadata": {},
   "outputs": [],
   "source": []
  }
 ],
 "metadata": {
  "kernelspec": {
   "display_name": "Python 3",
   "language": "python",
   "name": "python3"
  }
 },
 "nbformat": 4,
 "nbformat_minor": 0
}