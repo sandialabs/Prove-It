{
 "cells": [
  {
   "cell_type": "markdown",
   "metadata": {},
   "source": [
    "Proof of <a class=\"ProveItLink\" href=\"../../../../../../_theory_nbs_/theory.ipynb\">proveit</a>.<a class=\"ProveItLink\" href=\"../../../../../_theory_nbs_/theory.ipynb\">numbers</a>.<a class=\"ProveItLink\" href=\"../../../../_theory_nbs_/theory.ipynb\">numerals</a>.<a class=\"ProveItLink\" href=\"../../theory.ipynb\">decimals</a>.<a class=\"ProveItLink\" href=\"../../theorems.ipynb#add_4_9\">add_4_9</a> theorem\n",
    "========"
   ]
  },
  {
   "cell_type": "code",
   "execution_count": 1,
   "metadata": {},
   "outputs": [],
   "source": [
    "import proveit\n",
    "theory = proveit.Theory() # the theorem's theory"
   ]
  },
  {
   "cell_type": "code",
   "execution_count": 2,
   "metadata": {},
   "outputs": [
    {
     "data": {
      "text/html": [
       "With these <a href=\"allowed_presumptions.txt\">allowed</a>/<a href=\"disallowed_presumptions.txt\">disallowed</a> theorem/theory presumptions (e.g., to avoid circular dependencies), we begin our proof of<br><strong id=\"add_4_9\">add_4_9:</strong> <a class=\"ProveItLink\" href=\"../../../__pv_it/theorems/48dddef5092f81ca4cbff1909cc648d9c623c5b00/expr.ipynb\"><img src=\"data:image/png;base64,iVBORw0KGgoAAAANSUhEUgAAAGwAAAAVBAMAAABRZRb3AAAAMFBMVEX///8AAAAAAAAAAAAAAAAA\n",
       "AAAAAAAAAAAAAAAAAAAAAAAAAAAAAAAAAAAAAAAAAAAv3aB7AAAAD3RSTlMAInZUiRDNmWbv3US7\n",
       "qzJazP2FAAAACXBIWXMAAA7EAAAOxAGVKw4bAAABhUlEQVQ4y52TMUgDMRSGf0/Ptra2QRwcHBwc\n",
       "XMRSRNClDoKTeJuL0I4uxQ6FA3G4ycnBpYMcoiiCnAhu1kGoToJLEcWp0k0tiGApKIp6707FpMkN\n",
       "viHh5eXL+/OSB4BBbm0IMi2pCEQHgrBRGu6ExZB5DQy1bq4bQO/0BaBnyT3go/o2Hhg6DQHSbxYN\n",
       "6HmkkwhZJPQHK/lT9xpiZYTzLdlGDGgNZLKIkHef+15O+VMii44mUJRhUZvCY+RNClimDO0NWJBh\n",
       "rqUtFEgjk2R7AWbkWHTPP7EPAkZ3ewZWvKI6nlV+sfjwLbBDGkVMt/HYAMZVIpOwgTDzsSXHWXcc\n",
       "r6hzg6kP4EmBRZqE9UDM5hpV8liGxWuINUjkSbX6eiVi7rthQna3RJOwM8/d4LO1F5GpAauybJEK\n",
       "ifSL/M5j2i7O3anQgs0yhC16tzp5y5+XvMgp89Ad90WqupmzcGS6X7mr9nc9xTXclrpv+P9a4rrH\n",
       "Cui3U2WkP6hN5/9xIN1A1fsaU0NfF1RlFl+BGlYAAAAASUVORK5CYII=\n",
       "\" style=\"display:inline;vertical-align:middle;\" /></a><br>(see <a class=\"ProveItLink\" href=\"../../../__pv_it/theorems/e74bb156519c6a134694b6cd830ababd8fec54580/dependencies.ipynb\">dependencies</a>)<br>"
      ],
      "text/plain": [
       "<IPython.core.display.HTML object>"
      ]
     },
     "metadata": {},
     "output_type": "display_data"
    },
    {
     "name": "stdout",
     "output_type": "stream",
     "text": [
      "add_4_9 may now be readily provable (assuming required theorems are usable).  Simply execute \"%qed\".\n"
     ]
    }
   ],
   "source": [
    "%proving add_4_9"
   ]
  },
  {
   "cell_type": "code",
   "execution_count": null,
   "metadata": {},
   "outputs": [],
   "source": []
  }
 ],
 "metadata": {
  "kernelspec": {
   "display_name": "Python 3",
   "language": "python",
   "name": "python3"
  }
 },
 "nbformat": 4,
 "nbformat_minor": 0
}