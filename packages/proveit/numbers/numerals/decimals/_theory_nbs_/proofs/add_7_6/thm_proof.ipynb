{
 "cells": [
  {
   "cell_type": "markdown",
   "metadata": {},
   "source": [
    "Proof of <a class=\"ProveItLink\" href=\"../../../../../../_theory_nbs_/theory.ipynb\">proveit</a>.<a class=\"ProveItLink\" href=\"../../../../../_theory_nbs_/theory.ipynb\">numbers</a>.<a class=\"ProveItLink\" href=\"../../../../_theory_nbs_/theory.ipynb\">numerals</a>.<a class=\"ProveItLink\" href=\"../../theory.ipynb\">decimals</a>.<a class=\"ProveItLink\" href=\"../../theorems.ipynb#add_7_6\">add_7_6</a> theorem\n",
    "========"
   ]
  },
  {
   "cell_type": "code",
   "execution_count": 1,
   "metadata": {},
   "outputs": [],
   "source": [
    "import proveit\n",
    "theory = proveit.Theory() # the theorem's theory"
   ]
  },
  {
   "cell_type": "code",
   "execution_count": 2,
   "metadata": {},
   "outputs": [
    {
     "data": {
      "text/html": [
       "With these <a href=\"allowed_presumptions.txt\">allowed</a>/<a href=\"disallowed_presumptions.txt\">disallowed</a> theorem/theory presumptions (e.g., to avoid circular dependencies), we begin our proof of<br><strong id=\"add_7_6\">add_7_6:</strong> <a class=\"ProveItLink\" href=\"../../../__pv_it/theorems/16119f5df47c18c9003837d4b8b8dd104584561b0/expr.ipynb\"><img src=\"data:image/png;base64,iVBORw0KGgoAAAANSUhEUgAAAGwAAAAVBAMAAABRZRb3AAAAMFBMVEX///8AAAAAAAAAAAAAAAAA\n",
       "AAAAAAAAAAAAAAAAAAAAAAAAAAAAAAAAAAAAAAAAAAAv3aB7AAAAD3RSTlMAInZUiRDNmWbv3US7\n",
       "qzJazP2FAAAACXBIWXMAAA7EAAAOxAGVKw4bAAABjUlEQVQ4y2NgYBBgwA4YGfABJgPGVqwS3Ar4\n",
       "tJkwMP////8nmqiLywMGDUzFrwIYGETcTzMwsCYwsBwvL1+MKi22gXcBA1sAmibW6/kBDKwFDPYG\n",
       "DOwNDCxAfxRAJHZAFSQx8Bxg4CjAsE0/gIHpM0N8AgMnAwMzAwMvVNgIQjF/BVNTsWnjns3An8Bg\n",
       "Bub6oWrjmQCmMrBpAwL7BoYScFgfQNXGmedUDaR8sWvjXgE1kXcDqjb+DAZOAwaGNhCbfRUYXIBr\n",
       "49O9x8AADkJJBlRt8R8Y2IEes8TlSAOG2SDaDSxWtWrVzFWr1oK0LWDg+M3A8B6HNs6vEG1r0GwD\n",
       "BhXHDwaGndi08T1g4PkMdiTrXzRtPBDbrLD5jf8rSNshUNB8R9PGDPQbMA56sNnGeQHkSFAgM39B\n",
       "08ZwhCESGJIlGNr8BRg4GkDx9goUbZPRtbGUAwOZYTW6rrvzcxsYtpcDkzLXA2RxI5QMtwB3vkFN\n",
       "rzuQOcBUjhscxCkjgy+bxpBhIMgHuPI+kwBuTQChimDtWpgEZAAAAABJRU5ErkJggg==\n",
       "\" style=\"display:inline;vertical-align:middle;\" /></a><br>(see <a class=\"ProveItLink\" href=\"../../../__pv_it/theorems/5d3dfa4ae25d4391ae57951677f16d431436adb20/dependencies.ipynb\">dependencies</a>)<br>"
      ],
      "text/plain": [
       "<IPython.core.display.HTML object>"
      ]
     },
     "metadata": {},
     "output_type": "display_data"
    },
    {
     "name": "stdout",
     "output_type": "stream",
     "text": [
      "add_7_6 may now be readily provable (assuming required theorems are usable).  Simply execute \"%qed\".\n"
     ]
    }
   ],
   "source": [
    "%proving add_7_6"
   ]
  },
  {
   "cell_type": "code",
   "execution_count": null,
   "metadata": {},
   "outputs": [],
   "source": []
  }
 ],
 "metadata": {
  "kernelspec": {
   "display_name": "Python 3",
   "language": "python",
   "name": "python3"
  }
 },
 "nbformat": 4,
 "nbformat_minor": 0
}