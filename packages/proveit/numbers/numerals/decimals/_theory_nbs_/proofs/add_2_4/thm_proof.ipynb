{
 "cells": [
  {
   "cell_type": "markdown",
   "metadata": {},
   "source": [
    "Proof of <a class=\"ProveItLink\" href=\"../../../../../../_theory_nbs_/theory.ipynb\">proveit</a>.<a class=\"ProveItLink\" href=\"../../../../../_theory_nbs_/theory.ipynb\">numbers</a>.<a class=\"ProveItLink\" href=\"../../../../_theory_nbs_/theory.ipynb\">numerals</a>.<a class=\"ProveItLink\" href=\"../../theory.ipynb\">decimals</a>.<a class=\"ProveItLink\" href=\"../../theorems.ipynb#add_2_4\">add_2_4</a> theorem\n",
    "========"
   ]
  },
  {
   "cell_type": "code",
   "execution_count": 1,
   "metadata": {},
   "outputs": [],
   "source": [
    "import proveit\n",
    "theory = proveit.Theory() # the theorem's theory"
   ]
  },
  {
   "cell_type": "code",
   "execution_count": 2,
   "metadata": {},
   "outputs": [
    {
     "data": {
      "text/html": [
       "With these <a href=\"allowed_presumptions.txt\">allowed</a>/<a href=\"disallowed_presumptions.txt\">disallowed</a> theorem/theory presumptions (e.g., to avoid circular dependencies), we begin our proof of<br><strong id=\"add_2_4\">add_2_4:</strong> <a class=\"ProveItLink\" href=\"../../../__pv_it/theorems/4893b46d006168a5dc2ecb1bff6cebccba61d5950/expr.ipynb\"><img src=\"data:image/png;base64,iVBORw0KGgoAAAANSUhEUgAAAGEAAAAVBAMAAACkm51HAAAAMFBMVEX///8AAAAAAAAAAAAAAAAA\n",
       "AAAAAAAAAAAAAAAAAAAAAAAAAAAAAAAAAAAAAAAAAAAv3aB7AAAAD3RSTlMAInZUiRDNmWbv3US7\n",
       "qzJazP2FAAAACXBIWXMAAA7EAAAOxAGVKw4bAAABfElEQVQ4y3WTv0vDQBTHv2nTpmmbWifBKR1E\n",
       "cJIirmYQnNT+AQ5ZBMGlg1gVhLjoJBYEQUQoOAgBoTh1jG6KaGeh2KGTi3Wwg6Dx7kIh9+wd4Xj3\n",
       "fe+T9979AFDE6KHSkZhVOG5VxBwwsf1M1UIVCe9frL64AqRcaAFWm8SXbQPrFNA28QoYHqwizHqk\n",
       "tYbOGUYcUSJt4wkw2fcF6zPSysOiDhlhVgixIIR5wGrA+pUJPc2ING3kQcxbUdl9mShxQm8T4qw3\n",
       "zfrdEPaHLRGax4mMy23DF4PTAw+nwJUIuYFE6OBEsi6nSIXAbgUX4j8Bn/d8/9z3OXwgiEKfEN/A\n",
       "STMijiHl0GxB5EgODBjhiaqSDsbjRK7Tebt0kGyQPh5Fjntm9YApea9g8s4Deh6sD2CZFXFdqzUI\n",
       "McaiDYcQeSfF9uqdHUYYhq5MGC8/NrL0smFpv8vCu3GpHF9Mjr7smWp81YovdhTv4071cLRA4VhT\n",
       "EXnVs9VshaM0Wv4DywhdLly/GOAAAAAASUVORK5CYII=\n",
       "\" style=\"display:inline;vertical-align:middle;\" /></a><br>(see <a class=\"ProveItLink\" href=\"../../../__pv_it/theorems/be67d7483c0607f26d2be1e4a85afa962813dcdb0/dependencies.ipynb\">dependencies</a>)<br>"
      ],
      "text/plain": [
       "<IPython.core.display.HTML object>"
      ]
     },
     "metadata": {},
     "output_type": "display_data"
    },
    {
     "name": "stdout",
     "output_type": "stream",
     "text": [
      "add_2_4 may now be readily provable (assuming required theorems are usable).  Simply execute \"%qed\".\n"
     ]
    }
   ],
   "source": [
    "%proving add_2_4"
   ]
  },
  {
   "cell_type": "code",
   "execution_count": null,
   "metadata": {},
   "outputs": [],
   "source": []
  }
 ],
 "metadata": {
  "kernelspec": {
   "display_name": "Python 3",
   "language": "python",
   "name": "python3"
  }
 },
 "nbformat": 4,
 "nbformat_minor": 0
}