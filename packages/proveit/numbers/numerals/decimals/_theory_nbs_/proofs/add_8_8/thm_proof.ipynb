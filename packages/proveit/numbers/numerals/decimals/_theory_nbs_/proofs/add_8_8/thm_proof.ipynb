{
 "cells": [
  {
   "cell_type": "markdown",
   "metadata": {},
   "source": [
    "Proof of <a class=\"ProveItLink\" href=\"../../../../../../_theory_nbs_/theory.ipynb\">proveit</a>.<a class=\"ProveItLink\" href=\"../../../../../_theory_nbs_/theory.ipynb\">numbers</a>.<a class=\"ProveItLink\" href=\"../../../../_theory_nbs_/theory.ipynb\">numerals</a>.<a class=\"ProveItLink\" href=\"../../theory.ipynb\">decimals</a>.<a class=\"ProveItLink\" href=\"../../theorems.ipynb#add_8_8\">add_8_8</a> theorem\n",
    "========"
   ]
  },
  {
   "cell_type": "code",
   "execution_count": 1,
   "metadata": {},
   "outputs": [],
   "source": [
    "import proveit\n",
    "theory = proveit.Theory() # the theorem's theory"
   ]
  },
  {
   "cell_type": "code",
   "execution_count": 2,
   "metadata": {},
   "outputs": [
    {
     "data": {
      "text/html": [
       "With these <a href=\"allowed_presumptions.txt\">allowed</a>/<a href=\"disallowed_presumptions.txt\">disallowed</a> theorem/theory presumptions (e.g., to avoid circular dependencies), we begin our proof of<br><strong id=\"add_8_8\">add_8_8:</strong> <a class=\"ProveItLink\" href=\"../../../__pv_it/theorems/7cfbbe1bff53c83301623f2aa8967d8b632667270/expr.ipynb\"><img src=\"data:image/png;base64,iVBORw0KGgoAAAANSUhEUgAAAGwAAAAVBAMAAABRZRb3AAAAMFBMVEX///8AAAAAAAAAAAAAAAAA\n",
       "AAAAAAAAAAAAAAAAAAAAAAAAAAAAAAAAAAAAAAAAAAAv3aB7AAAAD3RSTlMAInZUiRDNmWbv3US7\n",
       "qzJazP2FAAAACXBIWXMAAA7EAAAOxAGVKw4bAAABb0lEQVQ4y2NgYBBgwA4YGfABJgMcEtwK+LSZ\n",
       "MDCEuFSjCYJFNDAVvwoAEi4uDxhYExgYChh40awEi7AFoGlivZ4PFBLbwLuAgb2BgaMBrBkEdkAo\n",
       "iAhHAYZt+kBtSQw8Bxg4GRhYLsC1GUEoqMhUbNqYv4IYZgwMzH8CgHYia4OKZGDTxjMBxCgB4vuf\n",
       "ihlQtEFFfLFp48xzqoaYyP5/IZo2iEgbmLkKDC7AtPFnMHAaMCwGxYHMfwNUbRARS2y2xX9gYJ/K\n",
       "MJsBFGL2IN9XrVo1c9WqtQxwkfdYtS1g4PgN0sYZwMD4GcU2qMhObNr4gTHzA+TIeCD/Boo2qIgV\n",
       "Nr/xgG07BDQbmJgPotoGEenBGm9Av00ABTJ3KgOHAoo2qEgJhjZ/oHlHGCINGF4BOW/Lq9EiACKy\n",
       "Gl3X3fm5DQws5fcYGLgeIIsboWS4BbjzDWp63YHMgaU4rOAgThkZfNk0hgwDQT7AlfeZBHBrAgAo\n",
       "n2XjlNwpFAAAAABJRU5ErkJggg==\n",
       "\" style=\"display:inline;vertical-align:middle;\" /></a><br>(see <a class=\"ProveItLink\" href=\"../../../__pv_it/theorems/dd2aa6d993eee06157e94d2fc56a8f79dcbe487f0/dependencies.ipynb\">dependencies</a>)<br>"
      ],
      "text/plain": [
       "<IPython.core.display.HTML object>"
      ]
     },
     "metadata": {},
     "output_type": "display_data"
    },
    {
     "name": "stdout",
     "output_type": "stream",
     "text": [
      "add_8_8 may now be readily provable (assuming required theorems are usable).  Simply execute \"%qed\".\n"
     ]
    }
   ],
   "source": [
    "%proving add_8_8"
   ]
  },
  {
   "cell_type": "code",
   "execution_count": null,
   "metadata": {},
   "outputs": [],
   "source": []
  }
 ],
 "metadata": {
  "kernelspec": {
   "display_name": "Python 3",
   "language": "python",
   "name": "python3"
  }
 },
 "nbformat": 4,
 "nbformat_minor": 0
}