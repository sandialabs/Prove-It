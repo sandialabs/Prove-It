{
 "cells": [
  {
   "cell_type": "markdown",
   "metadata": {},
   "source": [
    "Proof of <a class=\"ProveItLink\" href=\"../../../../../../_theory_nbs_/theory.ipynb\">proveit</a>.<a class=\"ProveItLink\" href=\"../../../../../_theory_nbs_/theory.ipynb\">numbers</a>.<a class=\"ProveItLink\" href=\"../../../../_theory_nbs_/theory.ipynb\">numerals</a>.<a class=\"ProveItLink\" href=\"../../theory.ipynb\">decimals</a>.<a class=\"ProveItLink\" href=\"../../theorems.ipynb#add_5_4\">add_5_4</a> theorem\n",
    "========"
   ]
  },
  {
   "cell_type": "code",
   "execution_count": 1,
   "metadata": {},
   "outputs": [],
   "source": [
    "import proveit\n",
    "theory = proveit.Theory() # the theorem's theory"
   ]
  },
  {
   "cell_type": "code",
   "execution_count": 2,
   "metadata": {},
   "outputs": [
    {
     "data": {
      "text/html": [
       "With these <a href=\"allowed_presumptions.txt\">allowed</a>/<a href=\"disallowed_presumptions.txt\">disallowed</a> theorem/theory presumptions (e.g., to avoid circular dependencies), we begin our proof of<br><strong id=\"add_5_4\">add_5_4:</strong> <a class=\"ProveItLink\" href=\"../../../__pv_it/theorems/5d9cb9cf23995ec670ed329de9de63cbafe50fc20/expr.ipynb\"><img src=\"data:image/png;base64,iVBORw0KGgoAAAANSUhEUgAAAGEAAAAVBAMAAACkm51HAAAAMFBMVEX///8AAAAAAAAAAAAAAAAA\n",
       "AAAAAAAAAAAAAAAAAAAAAAAAAAAAAAAAAAAAAAAAAAAv3aB7AAAAD3RSTlMAInZUiRDNmWbv3US7\n",
       "qzJazP2FAAAACXBIWXMAAA7EAAAOxAGVKw4bAAABeElEQVQ4y3WTMUjDUBCG/7ZJ07QxugkupuBi\n",
       "l5YigltBxEnMqjh0URyLKIpSqIuudRQRC04GhODUsQpuQjPqUNvZqS4OouK9SOX1+vKGcO9/9+Xu\n",
       "3r0DMAH1itIRL6AHXXF8F0XMAVdbnstUu4J4bcR3v0p+ehm4+VziZ+kA2OTiumOfAQb9KfjXmgMj\n",
       "R9opJ16AJ8CETBQHSZ2QZvJUP4BVF/NKQkuSlmSF6F9A3scumc8zr4zICkILFDFq2CbrEdP+EBGr\n",
       "CSJVFrbhhSv4q6Pt4Dp0sRpDhAZBJOosxppvdwu4CG3jnT6HnnfuebdkHYeE3WeEvrOY7wnCKsP4\n",
       "kWPEnJDI1Ef7TXdFWZkNjPVlItPpdC9LSDRYHQj78SCyhtkaviuYovIWC7Dg6pTLCiVRwazLiHHy\n",
       "NkqMyLkWteiNrMnqHuuH0f52kPYZoS0fiSfXk7WivJlSP/ZURd415c1BxHzcRw1OrBVxsBFFWFFj\n",
       "S+1Sr6xa/gWjzVy3kIwrigAAAABJRU5ErkJggg==\n",
       "\" style=\"display:inline;vertical-align:middle;\" /></a><br>(see <a class=\"ProveItLink\" href=\"../../../__pv_it/theorems/bcc00e9285129a8480e7443e4ea39f74a2c0fcd70/dependencies.ipynb\">dependencies</a>)<br>"
      ],
      "text/plain": [
       "<IPython.core.display.HTML object>"
      ]
     },
     "metadata": {},
     "output_type": "display_data"
    },
    {
     "name": "stdout",
     "output_type": "stream",
     "text": [
      "add_5_4 may now be readily provable (assuming required theorems are usable).  Simply execute \"%qed\".\n"
     ]
    }
   ],
   "source": [
    "%proving add_5_4"
   ]
  },
  {
   "cell_type": "code",
   "execution_count": null,
   "metadata": {},
   "outputs": [],
   "source": []
  }
 ],
 "metadata": {
  "kernelspec": {
   "display_name": "Python 3",
   "language": "python",
   "name": "python3"
  }
 },
 "nbformat": 4,
 "nbformat_minor": 0
}