{
 "cells": [
  {
   "cell_type": "markdown",
   "metadata": {},
   "source": [
    "Proof of <a class=\"ProveItLink\" href=\"../../../../../../_theory_nbs_/theory.ipynb\">proveit</a>.<a class=\"ProveItLink\" href=\"../../../../../_theory_nbs_/theory.ipynb\">numbers</a>.<a class=\"ProveItLink\" href=\"../../../../_theory_nbs_/theory.ipynb\">numerals</a>.<a class=\"ProveItLink\" href=\"../../theory.ipynb\">decimals</a>.<a class=\"ProveItLink\" href=\"../../theorems.ipynb#sorted_digits\">sorted_digits</a> theorem\n",
    "========"
   ]
  },
  {
   "cell_type": "code",
   "execution_count": 1,
   "metadata": {},
   "outputs": [],
   "source": [
    "import proveit\n",
    "theory = proveit.Theory() # the theorem's theory"
   ]
  },
  {
   "cell_type": "code",
   "execution_count": 2,
   "metadata": {},
   "outputs": [
    {
     "data": {
      "text/html": [
       "With these <a href=\"allowed_presumptions.txt\">allowed</a>/<a href=\"disallowed_presumptions.txt\">disallowed</a> theorem/theory presumptions (e.g., to avoid circular dependencies), we begin our proof of<br><strong id=\"sorted_digits\">sorted_digits:</strong> <a class=\"ProveItLink\" href=\"../../../__pv_it/theorems/11075a01412afa0922113cdd8c15c7ad19d4e24d0/expr.ipynb\"><img src=\"data:image/png;base64,iVBORw0KGgoAAAANSUhEUgAAAWEAAAARBAMAAAD+hACRAAAAMFBMVEX///8AAAAAAAAAAAAAAAAA\n",
       "AAAAAAAAAAAAAAAAAAAAAAAAAAAAAAAAAAAAAAAAAAAv3aB7AAAAD3RSTlMAiXaZIs1UEN1mu6sy\n",
       "RO+L2jdBAAAACXBIWXMAAA7EAAAOxAGVKw4bAAADGUlEQVRIx9WWT0gUcRTHv7tuOzs76zq6UZGB\n",
       "Cx4UOihNkSXllF3skHsQCZZoL13b6R94ck2hkC6DERQd9BJJVG5JEWi50qVOLUSnDnkolSKsyF2T\n",
       "cvvtzszu/N7voB2CmsOyfH7vvd933u+99xvgLz8h4Pz6Vl3GH4T01O0W2AshQOeeuxQditwToz2n\n",
       "ILx8/LKwZe0OQpKFQmGOR1JtJEsdtfaisF706cR28iRV7BtDA/GXWpFMCIqvUBBYuigEO4EnBG3X\n",
       "tDYSrAp4TKz6oqH3gDwAzxjdpoVuougIkxx4c0jFqKNXUKyI57ApijsEqewUCboBXCDoGYqOwTT8\n",
       "+TI7pQuKSyich/K9jPw97Kf6M2piPAJexkEQp9hCSUNALL9pgurdii20DDQYqGlFKOcsXN8r5NhC\n",
       "ygCUnw6Sh+zlpEmRWlFsI7diG90XEavtDEHJ29jHI2mVKcsixRT/sBeatwpVUUYIfHFO3inM6mEQ\n",
       "5NXjFCkj9RmCPsw2ZmksHBUcC40Jgoo5NtGtIvTNaqVtUVrHLoRX9t8zg87c2jkNgroQpyho+H4R\n",
       "tGxiniDgKXVEx4pOEKvjiWhJ8ddSB7eZtPPcyJkCncOumZQgSHUUu60wziOpABw0iJVvjjr6N0/k\n",
       "COrPhmYSSKmoLuX4UUKYFW5UZQ0Updc9a/M8knVbMWeFDp1D0gowmiVWnhh1vAr/msEjadeWlkyx\n",
       "8/y5DSi+CRIylEEwx6PDEBXfYoozPGLlOGoSxQEhIQtAd0J4ezYrgmOQ8+tXhV/FEf6MavK24gp6\n",
       "OzW19oCc5CIwQ9C4nWN3VaTSpCok1uiKKVQYm8fyHKpi63feLNDE90E4bVcF10CfaAOxu+EjQUlW\n",
       "x9TxXSt1ZLdbUOfRaUMqjthL6LfHj9Tc5OTeubcd5BvStAGbnR0svY9sVuaxjdizCoI64V0gKKhK\n",
       "89QxqVLHNwZGCGo2gsUdz9VNV64La/pOLcVNHgXYl0r5gpOt8fhaq3wJ2Qj7Cw8J8mmTBrWKtGco\n",
       "OpagsUKTWpYgT+SAcOVf0zeC5J5/AP0/z2/0UPiVYmWvjQAAAABJRU5ErkJggg==\n",
       "\" style=\"display:inline;vertical-align:middle;\" /></a><br>(see <a class=\"ProveItLink\" href=\"../../../__pv_it/theorems/5c2575999f6b4a3e315e1c8e3f18f6da5c9c1ee30/dependencies.ipynb\">dependencies</a>)<br>"
      ],
      "text/plain": [
       "<IPython.core.display.HTML object>"
      ]
     },
     "metadata": {},
     "output_type": "display_data"
    },
    {
     "name": "stdout",
     "output_type": "stream",
     "text": [
      "sorted_digits may now be readily provable (assuming required theorems are usable).  Simply execute \"%qed\".\n"
     ]
    }
   ],
   "source": [
    "%proving sorted_digits"
   ]
  },
  {
   "cell_type": "code",
   "execution_count": null,
   "metadata": {},
   "outputs": [],
   "source": []
  }
 ],
 "metadata": {
  "kernelspec": {
   "display_name": "Python 3",
   "language": "python",
   "name": "python3"
  }
 },
 "nbformat": 4,
 "nbformat_minor": 0
}