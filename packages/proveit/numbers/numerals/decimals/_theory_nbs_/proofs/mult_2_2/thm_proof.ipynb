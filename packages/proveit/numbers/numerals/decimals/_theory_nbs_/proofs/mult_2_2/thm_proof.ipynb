{
 "cells": [
  {
   "cell_type": "markdown",
   "metadata": {},
   "source": [
    "Proof of <a class=\"ProveItLink\" href=\"../../../../../../_theory_nbs_/theory.ipynb\">proveit</a>.<a class=\"ProveItLink\" href=\"../../../../../_theory_nbs_/theory.ipynb\">numbers</a>.<a class=\"ProveItLink\" href=\"../../../../_theory_nbs_/theory.ipynb\">numerals</a>.<a class=\"ProveItLink\" href=\"../../theory.ipynb\">decimals</a>.<a class=\"ProveItLink\" href=\"../../theorems.ipynb#mult_2_2\">mult_2_2</a> theorem\n",
    "========"
   ]
  },
  {
   "cell_type": "code",
   "execution_count": 1,
   "metadata": {},
   "outputs": [],
   "source": [
    "import proveit\n",
    "theory = proveit.Theory() # the theorem's theory"
   ]
  },
  {
   "cell_type": "code",
   "execution_count": 2,
   "metadata": {},
   "outputs": [
    {
     "data": {
      "text/html": [
       "With these <a href=\"allowed_presumptions.txt\">allowed</a>/<a href=\"disallowed_presumptions.txt\">disallowed</a> theorem/theory presumptions (e.g., to avoid circular dependencies), we begin our proof of<br><strong id=\"mult_2_2\">mult_2_2:</strong> <a class=\"ProveItLink\" href=\"../../../__pv_it/theorems/8e0e97e09a85c56a96da765fc0f05e51646050d20/expr.ipynb\"><img src=\"data:image/png;base64,iVBORw0KGgoAAAANSUhEUgAAAFcAAAAVBAMAAADBdm84AAAAMFBMVEX///8AAAAAAAAAAAAAAAAA\n",
       "AAAAAAAAAAAAAAAAAAAAAAAAAAAAAAAAAAAAAAAAAAAv3aB7AAAAD3RSTlMAInZUiRDNmWbv3US7\n",
       "qzJazP2FAAAACXBIWXMAAA7EAAAOxAGVKw4bAAABYklEQVQoz3WTMUvDQBTH/0lqm7RG4yQUh3Rw\n",
       "cXIQ53wBMR9AMIvg4JBBjBSHuOgkdBURAw6CUCx+gtQPoHUVSjs4uVgFXUTju4TEmLsc4Xj553fv\n",
       "/u/uBYABbgikZMjLvHZbBq8A83v32avk7Ywh+zw34wJTDqQQ671UW0DlC9ji4foAqPnQDWidVHsE\n",
       "ToFjHl4iWKPnA/pbql3YGNFim3NxRPAqoAfQf1LxCRiNUeVMV6oE7yaGJjn9hj4NinCLwdtx+Grm\n",
       "NnwHVIdF7Ws2uvEh+Qy+jIFuoWylU3QBBp+xsBayeTNOhwOWfVKAD//gkySly2aV2W0UMksmUhuK\n",
       "hbncjUoGlOC/58ZwODq3cEfhM7CYlWdBtqGG3KVolHmN9rjyvCDVmp7XpiIsDp6l9S/kNYoiJzvk\n",
       "KPokqVdkaw/fJupjUSs2xR2quiJ1v6Sf+wJNCkvgDYE2XfZfSSavtcToLz0XVINYMDePAAAAAElF\n",
       "TkSuQmCC\n",
       "\" style=\"display:inline;vertical-align:middle;\" /></a><br>(see <a class=\"ProveItLink\" href=\"../../../__pv_it/theorems/ab344d56b73fa1a131b0495c9a62abdc4bd29a540/dependencies.ipynb\">dependencies</a>)<br>"
      ],
      "text/plain": [
       "<IPython.core.display.HTML object>"
      ]
     },
     "metadata": {},
     "output_type": "display_data"
    },
    {
     "name": "stdout",
     "output_type": "stream",
     "text": [
      "mult_2_2 may now be readily provable (assuming required theorems are usable).  Simply execute \"%qed\".\n"
     ]
    }
   ],
   "source": [
    "%proving mult_2_2"
   ]
  },
  {
   "cell_type": "code",
   "execution_count": null,
   "metadata": {},
   "outputs": [],
   "source": []
  }
 ],
 "metadata": {
  "kernelspec": {
   "display_name": "Python 3",
   "language": "python",
   "name": "python3"
  }
 },
 "nbformat": 4,
 "nbformat_minor": 0
}