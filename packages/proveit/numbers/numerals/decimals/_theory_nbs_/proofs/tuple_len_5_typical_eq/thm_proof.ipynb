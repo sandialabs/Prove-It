{
 "cells": [
  {
   "cell_type": "markdown",
   "metadata": {},
   "source": [
    "Proof of <a class=\"ProveItLink\" href=\"../../../../../../_theory_nbs_/theory.ipynb\">proveit</a>.<a class=\"ProveItLink\" href=\"../../../../../_theory_nbs_/theory.ipynb\">numbers</a>.<a class=\"ProveItLink\" href=\"../../../../_theory_nbs_/theory.ipynb\">numerals</a>.<a class=\"ProveItLink\" href=\"../../theory.ipynb\">decimals</a>.<a class=\"ProveItLink\" href=\"../../theorems.ipynb#tuple_len_5_typical_eq\">tuple_len_5_typical_eq</a> theorem\n",
    "========"
   ]
  },
  {
   "cell_type": "code",
   "execution_count": 1,
   "metadata": {},
   "outputs": [],
   "source": [
    "import proveit\n",
    "theory = proveit.Theory() # the theorem's theory"
   ]
  },
  {
   "cell_type": "code",
   "execution_count": 2,
   "metadata": {},
   "outputs": [
    {
     "data": {
      "text/html": [
       "With these <a href=\"allowed_presumptions.txt\">allowed</a>/<a href=\"disallowed_presumptions.txt\">disallowed</a> theorem/theory presumptions (e.g., to avoid circular dependencies), we begin our proof of<br><strong id=\"tuple_len_5_typical_eq\">tuple_len_5_typical_eq:</strong> <a class=\"ProveItLink\" href=\"../../../__pv_it/theorems/339998d4e03211b77c8a5fbbc9b3d3593022789a0/expr.ipynb\"><img src=\"data:image/png;base64,iVBORw0KGgoAAAANSUhEUgAAAW8AAAAWBAMAAAD9SACaAAAAMFBMVEX///8AAAAAAAAAAAAAAAAA\n",
       "AAAAAAAAAAAAAAAAAAAAAAAAAAAAAAAAAAAAAAAAAAAv3aB7AAAAD3RSTlMAq1RmmUTNIjK7EInv\n",
       "3XZ/CtNrAAAACXBIWXMAAA7EAAAOxAGVKw4bAAAEV0lEQVRIx82XTWhUVxTHz2RmMvPeZJ4DFlzY\n",
       "moEuBIs6CyltF0Ngoq2CJtB9yUIQhcoEuhEbfaXQLiqYRemiYL3ZWEpKM20UXekshNb6FUrFkBAc\n",
       "W4pfEKzFVCxozzn33Pcxb24646o3cOf/zr3v/37vvvPOuwHooeXwT0QPrR7pE+EXcMp1MPuP9hsU\n",
       "RkX00N7j/kx7+ExPTnmAr8UJGUiUSL/a1cl9DQFHEbZvrnaY+snFUHsVOzg55RfMAx3e79uuPbDy\n",
       "/oI4IQOJ7aT3dQV+CgT8VCy8t9PcRxF9wA6OTlM7nkrkEBQe265dvL6oxIkYUHxEtzrZFXjNgNes\n",
       "jKZln0YOttnByckzc9cBXLFdOxU6EQOKfryRQrkr8KYBb1oZTSvMRR+zsoI3o+DXFQzWVwVnJ2JA\n",
       "kcZ06e8uxccEnISF0bT+oehBxQbOTgH4KwCD/qrg7EQMJK4uLV3uCjzTEHASMH7+iGBtuC0PrLD8\n",
       "hhbj549LaHp5F8ZLNnB28iKP7JY1Varf++JEDCTeAfiyK3C6SwYnkf0RTioOzxxw/9ZF4RfYqZMn\n",
       "GMvOw2cA6TEDnlniVjLgvIIR8Pwz28UdlXssTsRAYhxypeDE/bHZF2IPrlgWcBLfVmC3Dm9VcE2P\n",
       "N0Tg2A49drQCf2BCNG0rTk5R8GJplYU7IU7EQMJR8lWhtj429Wi8lI4KOIkRgEUdRsZ/WIwomRiO\n",
       "nVx+gHPzD23g5BQF37naEx+pa6eCWPa1Iu/mT7Gp9+zgl8CVmrsIWV0QL5mJ4difOmGaXYKn7Qv+\n",
       "BYL72okYWIxV6S2qnuUcu80F5/cWhw7y+1WtJFPFfQbph6aMZ/jKrsnPyJgO9c3ZcrwtVV6DnK0c\n",
       "4ud5UJw4VUj8gJ8h92ae3jBvwaM6diPf5NATwpgHWQenJeAo3EeQGtsIdJdPKKdJ/IULQSIyhhnT\n",
       "hws5aVtxsmRwl9+wBnjKTUKTU4OfKDvxy0niQwTLDBErOBV6XTOTrs8hWrdU6bCsOJUgBifxFWwe\n",
       "GnJX8GgtfA4sMEHPsQjHXgf3bSl6HcF1ecMlm6FyMTE8vJsVn8tdcPQBeD+LEzGwSPmUbB55DPiZ\n",
       "kmQehei2BmqbTMmZE3ASUw8+3eDDEi7G1Gm8MRKF2arSkWDMm6U0LI7awMkp9fLKWijSRuvW8+cr\n",
       "Wv0K0hUpAcgpN/ySEidiKJp6MlN33sKBNTCAWbemLqH7yhxwmzef/PngY6qsIqIm7HuVwGkTJJXF\n",
       "iRgmgopRP/6umoaiehOmoX8UGtMU+hhDThka4WZJg28LPvd2EVE1O3jgFG6UG8mNT9yJGIJtXra2\n",
       "ZRaOlfN7WtjnalV1rCwhd0/V3LBTF3DHPIXvwCpCpfeencGNk9sy4VDZnJChfTtbTvQQ3Te6kwLu\n",
       "mvOCiyRFqDRcZ3Dj5IX/diSrSpsTMjjxqplV7b35kXYEPF9ED+0O93fbw3df1AkZ7sTj6URvfv6H\n",
       "7V+IJVqZtR7hjwAAAABJRU5ErkJggg==\n",
       "\" style=\"display:inline;vertical-align:middle;\" /></a><br>(see <a class=\"ProveItLink\" href=\"../../../__pv_it/theorems/831416d8afd15f5a40c06a3513744e4ffeb97e790/dependencies.ipynb\">dependencies</a>)<br>"
      ],
      "text/plain": [
       "<IPython.core.display.HTML object>"
      ]
     },
     "metadata": {},
     "output_type": "display_data"
    }
   ],
   "source": [
    "%proving tuple_len_5_typical_eq"
   ]
  },
  {
   "cell_type": "code",
   "execution_count": null,
   "metadata": {},
   "outputs": [],
   "source": []
  }
 ],
 "metadata": {
  "kernelspec": {
   "display_name": "Python 3",
   "language": "python",
   "name": "python3"
  }
 },
 "nbformat": 4,
 "nbformat_minor": 0
}