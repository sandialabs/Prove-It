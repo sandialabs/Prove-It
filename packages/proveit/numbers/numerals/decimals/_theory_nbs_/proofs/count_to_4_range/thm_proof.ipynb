{
 "cells": [
  {
   "cell_type": "markdown",
   "metadata": {},
   "source": [
    "Proof of <a class=\"ProveItLink\" href=\"../../../../../../_theory_nbs_/theory.ipynb\">proveit</a>.<a class=\"ProveItLink\" href=\"../../../../../_theory_nbs_/theory.ipynb\">numbers</a>.<a class=\"ProveItLink\" href=\"../../../../_theory_nbs_/theory.ipynb\">numerals</a>.<a class=\"ProveItLink\" href=\"../../theory.ipynb\">decimals</a>.<a class=\"ProveItLink\" href=\"../../theorems.ipynb#count_to_4_range\">count_to_4_range</a> theorem\n",
    "========"
   ]
  },
  {
   "cell_type": "code",
   "execution_count": 1,
   "metadata": {},
   "outputs": [],
   "source": [
    "import proveit\n",
    "theory = proveit.Theory() # the theorem's theory"
   ]
  },
  {
   "cell_type": "code",
   "execution_count": 2,
   "metadata": {},
   "outputs": [
    {
     "data": {
      "text/html": [
       "With these <a href=\"allowed_presumptions.txt\">allowed</a>/<a href=\"disallowed_presumptions.txt\">disallowed</a> theorem/theory presumptions (e.g., to avoid circular dependencies), we begin our proof of<br><strong id=\"count_to_4_range\">count_to_4_range:</strong> <a class=\"ProveItLink\" href=\"../../../__pv_it/theorems/33010152715c0fbd492d7341902108ecabf0f9ef0/expr.ipynb\"><img src=\"data:image/png;base64,iVBORw0KGgoAAAANSUhEUgAAANMAAAAVBAMAAAAumMZDAAAAMFBMVEX///8AAAAAAAAAAAAAAAAA\n",
       "AAAAAAAAAAAAAAAAAAAAAAAAAAAAAAAAAAAAAAAAAAAv3aB7AAAAD3RSTlMAInZUiRDNmWbv3US7\n",
       "qzJazP2FAAAACXBIWXMAAA7EAAAOxAGVKw4bAAACkElEQVRIx5VVz2sTQRR+m8022U2zRi9C8bBF\n",
       "vHhpDq3nPXiVLh70opiL4EExB+lK6SFerBch1yIlAZFCoTZ409PqH2DjyR8QIuKpB61KgyC6zryd\n",
       "mczOZLR5kOy3k2++b+bNmxcAqMH/YxLHgikCBQr1IzCfTRg7PY0VCiySz37ERk6uvGZLPr/W4zS/\n",
       "CYWWNtkOyS9P+A7jmx/NPkzAaYDz9jazshJYzhwug/2DM70+wHVt/iWAqyuH7OUUFH+ZrZhAia53\n",
       "gVlVa+C2ES3UnRFnniXMdW3+XZp8bvUGYMNsxQRckKzcQ6h+Q/S8B9zKv0+YbqTOb8tWnQiGxvLi\n",
       "Audkq2oXqn/4WfxkoDhDmDPqYdkN2eoDwNB4WFzgjmxF83rAwAsuPk+Zxb4yvxTKViR2jfnjAjcU\n",
       "q69B9vw0YKu0WpRZppuA1W0aOxTiNiUr/7vJSQg8Vqx2RIZYBRaBMu22WlX1vJXXN+aPCzzKW5US\n",
       "Qelkg/eQ6R8oAm4vb7VmzJ8QUKwesucXgD1sI1aAzEr731Zl46bGAvkEkhZwHEEaMavKYDDcDMHu\n",
       "KmelJHARLEOxjwVecSt0+wxwBtEmTaDDNkBPNVEUZgNmhSQ/hAKnyxHJAhcoXq4BNgdrK467iB7Q\n",
       "e3UNyw6OJay2c4dNM1Yk9x1Jc3G8iggn45B4EwL7BA46t1qwTVbgpWnaQFSJSbv1sJuW9n4H4PXU\n",
       "FkAyWn0/epeRdtN0lKEtmtwm/6JSQsDjl9wWpTFGS0J5TsvNU520pLf/SBIoN0X5g4bCXHPNx7pO\n",
       "CifcKVngJcMXxahATiAqNtFUZmsqaYx0KRS4wl7GPIEKmq4UTqKSCnoFBjkBKzjC//X8hLET0/zh\n",
       "E4G/Ide7gBzcqg8AAAAASUVORK5CYII=\n",
       "\" style=\"display:inline;vertical-align:middle;\" /></a><br>(see <a class=\"ProveItLink\" href=\"../../../__pv_it/theorems/59db635227b61749de531dfcf38dc54cb10fdd450/dependencies.ipynb\">dependencies</a>)<br>"
      ],
      "text/plain": [
       "<IPython.core.display.HTML object>"
      ]
     },
     "metadata": {},
     "output_type": "display_data"
    }
   ],
   "source": [
    "%proving count_to_4_range"
   ]
  },
  {
   "cell_type": "code",
   "execution_count": null,
   "metadata": {},
   "outputs": [],
   "source": []
  }
 ],
 "metadata": {
  "kernelspec": {
   "display_name": "Python 3",
   "language": "python",
   "name": "python3"
  }
 },
 "nbformat": 4,
 "nbformat_minor": 0
}