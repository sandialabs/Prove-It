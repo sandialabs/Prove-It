{
 "cells": [
  {
   "cell_type": "markdown",
   "metadata": {},
   "source": [
    "Proof of <a class=\"ProveItLink\" href=\"../../../../../../_theory_nbs_/theory.ipynb\">proveit</a>.<a class=\"ProveItLink\" href=\"../../../../../_theory_nbs_/theory.ipynb\">numbers</a>.<a class=\"ProveItLink\" href=\"../../../../_theory_nbs_/theory.ipynb\">numerals</a>.<a class=\"ProveItLink\" href=\"../../theory.ipynb\">decimals</a>.<a class=\"ProveItLink\" href=\"../../theorems.ipynb#mult_6_9\">mult_6_9</a> theorem\n",
    "========"
   ]
  },
  {
   "cell_type": "code",
   "execution_count": 1,
   "metadata": {},
   "outputs": [],
   "source": [
    "import proveit\n",
    "theory = proveit.Theory() # the theorem's theory"
   ]
  },
  {
   "cell_type": "code",
   "execution_count": 2,
   "metadata": {},
   "outputs": [
    {
     "data": {
      "text/html": [
       "With these <a href=\"allowed_presumptions.txt\">allowed</a>/<a href=\"disallowed_presumptions.txt\">disallowed</a> theorem/theory presumptions (e.g., to avoid circular dependencies), we begin our proof of<br><strong id=\"mult_6_9\">mult_6_9:</strong> <a class=\"ProveItLink\" href=\"../../../__pv_it/theorems/bce3ef981cfc4a91306e5c1714062c7b5bb70ebd0/expr.ipynb\"><img src=\"data:image/png;base64,iVBORw0KGgoAAAANSUhEUgAAAGEAAAAVBAMAAACkm51HAAAAMFBMVEX///8AAAAAAAAAAAAAAAAA\n",
       "AAAAAAAAAAAAAAAAAAAAAAAAAAAAAAAAAAAAAAAAAAAv3aB7AAAAD3RSTlMAInZUiRDNmWbv3US7\n",
       "qzJazP2FAAAACXBIWXMAAA7EAAAOxAGVKw4bAAABoElEQVQ4y32Tv0sCYRjHv6end+p5OhU0nauL\n",
       "DhG0SQlN0jUagRIE0hASgVFEV0OtNrT0g4RqCQLpL7CIhgh0iwbT1iaXJLCi50XvsveOe+F4X77f\n",
       "+zzPvc9zD4AobMtBGlqepF27sSkqMGeex+lJp9uWV9rS4TF4ItBdvmRgEfDlgZFquGJa85p6ACzx\n",
       "RPDsQmdbA5Ao3CKUmmm9AE/APk+E+1uciADg/RiyusCsjoDuSKh7REwASvnP8X0BiSr8hiMh+olY\n",
       "ozQrU5v/chgQGzyxm6HixBhRACIFBJJD96hrkPPsvHHF1jU7KrrQg2Aw4hzIdSAdmkS2qraS8Jbt\n",
       "TXqECEYcE1GB3CMpxwL7VqcTbagdO7Ed3TGJSB7yJyt2sW9RrUJ8jgci3jQMvkoZ5DAX9cNb4e5x\n",
       "BLRCzWbrNIU7sukeVsxJ3fcDyDUuRwo4YT8L5cjQfo+sVau4rlAvpBRHjMLDihOhSO+sMaVXyxJn\n",
       "WG+CVY4QSs/0G0j1bw3BttMIjLmMh1x0UtfdJurWQRNqbsSCg6a4jq2g2bWYy/u/BvJlKjgFubcA\n",
       "AAAASUVORK5CYII=\n",
       "\" style=\"display:inline;vertical-align:middle;\" /></a><br>(see <a class=\"ProveItLink\" href=\"../../../__pv_it/theorems/b22798badbe6aca46818372e6cfd9ea49f39fcf20/dependencies.ipynb\">dependencies</a>)<br>"
      ],
      "text/plain": [
       "<IPython.core.display.HTML object>"
      ]
     },
     "metadata": {},
     "output_type": "display_data"
    },
    {
     "name": "stdout",
     "output_type": "stream",
     "text": [
      "mult_6_9 may now be readily provable (assuming required theorems are usable).  Simply execute \"%qed\".\n"
     ]
    }
   ],
   "source": [
    "%proving mult_6_9"
   ]
  },
  {
   "cell_type": "code",
   "execution_count": null,
   "metadata": {},
   "outputs": [],
   "source": []
  }
 ],
 "metadata": {
  "kernelspec": {
   "display_name": "Python 3",
   "language": "python",
   "name": "python3"
  }
 },
 "nbformat": 4,
 "nbformat_minor": 0
}