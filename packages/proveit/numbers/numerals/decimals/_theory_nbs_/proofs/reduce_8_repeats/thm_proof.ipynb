{
 "cells": [
  {
   "cell_type": "markdown",
   "metadata": {},
   "source": [
    "Proof of <a class=\"ProveItLink\" href=\"../../../../../../_theory_nbs_/theory.ipynb\">proveit</a>.<a class=\"ProveItLink\" href=\"../../../../../_theory_nbs_/theory.ipynb\">numbers</a>.<a class=\"ProveItLink\" href=\"../../../../_theory_nbs_/theory.ipynb\">numerals</a>.<a class=\"ProveItLink\" href=\"../../theory.ipynb\">decimals</a>.<a class=\"ProveItLink\" href=\"../../theorems.ipynb#reduce_8_repeats\">reduce_8_repeats</a> theorem\n",
    "========"
   ]
  },
  {
   "cell_type": "code",
   "execution_count": 1,
   "metadata": {},
   "outputs": [],
   "source": [
    "import proveit\n",
    "theory = proveit.Theory() # the theorem's theory"
   ]
  },
  {
   "cell_type": "code",
   "execution_count": 2,
   "metadata": {},
   "outputs": [
    {
     "data": {
      "text/html": [
       "With these <a href=\"allowed_presumptions.txt\">allowed</a>/<a href=\"disallowed_presumptions.txt\">disallowed</a> theorem/theory presumptions (e.g., to avoid circular dependencies), we begin our proof of<br><strong id=\"reduce_8_repeats\">reduce_8_repeats:</strong> <a class=\"ProveItLink\" href=\"../../../__pv_it/theorems/c422b03511abfe3ed8444dcd9134254563c550670/expr.ipynb\"><img src=\"data:image/png;base64,iVBORw0KGgoAAAANSUhEUgAAAYQAAAAVBAMAAAC03oSyAAAAMFBMVEX///8AAAAAAAAAAAAAAAAA\n",
       "AAAAAAAAAAAAAAAAAAAAAAAAAAAAAAAAAAAAAAAAAAAv3aB7AAAAD3RSTlMAq1RmmUTNIjK7EInv\n",
       "3XZ/CtNrAAAACXBIWXMAAA7EAAAOxAGVKw4bAAAC9klEQVRIx7VWTWgTQRR+aTbZdJOGQA/+IFJQ\n",
       "erCK4kHxohHxB/8IngsGCgqeVpBCocV4EhRpL1LooeTQg/WgtUcFycVLRQ2iUMTAlupFJXhqiiA4\n",
       "s282uzuZmSdp+siXpt+b9715O7MzD6DTXIHuzQaNbE/N1mWC/BBCbxVwzPNJeWrZ3hrPwlHg/+yL\n",
       "ekYE9PbhRqNqVl/vpEag57aOOMt/34zwThlhsK9/XxLi6Y4SCcmujGdhuMc31EyEt44gDFYgxZNF\n",
       "mSEkuzKehYFXko1u05zAlkqAFZnIwTbYio8kezrpKD0s8B8l7GCYUA8Zk4nh7ShhDPGu0XgbpS8J\n",
       "PFt78gpXx2nufrgcHTL4c6f/d6oC9qqkKsJeyNm0kgRp9PMsDBcA5hSVQTG/16rjNoY170p0yBzc\n",
       "LfkH8yqvIm4i7Jgf2PCtACZJgjT6eRaG22DH9vZHRNJN/kngK3gcTlUH4xPtR9Gp+/IiBGEH5VXQ\n",
       "SVKk0c+zMPRXs6VorjeIDFjl9k12ruN8aeH92JAXIQibliN0khRp9E8j+rw0KEpgZ0h4xb6PL0EZ\n",
       "rE1NCUHYqKIEjSRFGvyjAuWT7Kt5/psb20gA111HXFCpFjyNTrIOid+ajRSEHZLfBb0kQZr8PAvH\n",
       "8i3WwLi70uIEmEcslvZAFoCNcx4narAETnuSjM7NqF7najsMTsiV6SQJ0uj3s3BMsqeUhPmMyCUO\n",
       "qsMPLsM1cDbYTttcqKWG4DlvPDb4xy7Cr2rsUEWeD8YwPENjppMkSJM/vAAS/oNsBbkeIRaafWfY\n",
       "urB+zrnq7T8KMPCFOT75nzunL/pD+e0w7v9Cng0WYfBZLkEnSZBGv5+lnSlTCzrvgQoCrS/s1w6Q\n",
       "l2U42K7LPkKSIpV+nqWdaTJbtuK9U7jvA1siS8gamjpCkiKV/lhHan1//SNwzArgTR52yx5ZQjhY\n",
       "0TmZJQlS7Z/Q9WiLAr6F4/N01+V1zjcuq5ckSLV/Vp2J7S4PsQXLu2rZ3hrPwvAPCq5MKEuzmO8A\n",
       "AAAASUVORK5CYII=\n",
       "\" style=\"display:inline;vertical-align:middle;\" /></a><br>(see <a class=\"ProveItLink\" href=\"../../../__pv_it/theorems/9ce3c48afd4e33ff958d77a81b7972486901f06a0/dependencies.ipynb\">dependencies</a>)<br>"
      ],
      "text/plain": [
       "<IPython.core.display.HTML object>"
      ]
     },
     "metadata": {},
     "output_type": "display_data"
    }
   ],
   "source": [
    "%proving reduce_8_repeats"
   ]
  },
  {
   "cell_type": "code",
   "execution_count": null,
   "metadata": {},
   "outputs": [],
   "source": []
  }
 ],
 "metadata": {
  "kernelspec": {
   "display_name": "Python 3",
   "language": "python",
   "name": "python3"
  }
 },
 "nbformat": 4,
 "nbformat_minor": 0
}