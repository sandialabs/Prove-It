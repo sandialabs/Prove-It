{
 "cells": [
  {
   "cell_type": "markdown",
   "metadata": {},
   "source": [
    "Proof of <a class=\"ProveItLink\" href=\"../../../../../../_theory_nbs_/theory.ipynb\">proveit</a>.<a class=\"ProveItLink\" href=\"../../../../../_theory_nbs_/theory.ipynb\">numbers</a>.<a class=\"ProveItLink\" href=\"../../../../_theory_nbs_/theory.ipynb\">numerals</a>.<a class=\"ProveItLink\" href=\"../../theory.ipynb\">decimals</a>.<a class=\"ProveItLink\" href=\"../../theorems.ipynb#add_7_5\">add_7_5</a> theorem\n",
    "========"
   ]
  },
  {
   "cell_type": "code",
   "execution_count": 1,
   "metadata": {},
   "outputs": [],
   "source": [
    "import proveit\n",
    "theory = proveit.Theory() # the theorem's theory"
   ]
  },
  {
   "cell_type": "code",
   "execution_count": 2,
   "metadata": {},
   "outputs": [
    {
     "data": {
      "text/html": [
       "With these <a href=\"allowed_presumptions.txt\">allowed</a>/<a href=\"disallowed_presumptions.txt\">disallowed</a> theorem/theory presumptions (e.g., to avoid circular dependencies), we begin our proof of<br><strong id=\"add_7_5\">add_7_5:</strong> <a class=\"ProveItLink\" href=\"../../../__pv_it/theorems/e852b981a21e5455382cf1d2b693c9b7d43543710/expr.ipynb\"><img src=\"data:image/png;base64,iVBORw0KGgoAAAANSUhEUgAAAGwAAAAVBAMAAABRZRb3AAAAMFBMVEX///8AAAAAAAAAAAAAAAAA\n",
       "AAAAAAAAAAAAAAAAAAAAAAAAAAAAAAAAAAAAAAAAAAAv3aB7AAAAD3RSTlMAInZUiRDNmWbv3US7\n",
       "qzJazP2FAAAACXBIWXMAAA7EAAAOxAGVKw4bAAABhklEQVQ4y52TMUvDUBDH/2kaY9oG4lQEwQ4K\n",
       "OilFBJ1cdNPmAzh0EhexQzUgCF10UhDEQRwacBCjhY51i4K4STddlA5OXWxBEQVbL2mG5OWlgwe5\n",
       "l7t3v3fvHXcANPBFQD+JTQt7IWcDkpbM9MNmIHa73e+gs7xm6ZgIBzd1IL39CEh5xB8M4zy4ffmz\n",
       "CAzoDCQ9beoQbOSqkEuI0zsKvY2aF1B31GAhlG1Kh6pBOYICiIDqubN+DCc8TPmE2sasa65wsXVu\n",
       "NhNqB0W31jaDPY+9kl7mYSSJVu9Etcpg9xgl177zK1uu1H3YewZuCYfBYEDKBOYislWAM2ddcn07\n",
       "lnVqWZVegNymU/mYbHvYNZMtlYfcAW742CF9ziWlXwZTqFotYJ77NnEBQ7gjI/nFYNQACt3kgJvt\n",
       "DRh3iyx+MBg1zSQFFENYToNwYRgmmk7UMVvJ9O4W6SuWeilvlBLU+HkkGn5/NjBwZvTcBPu15jeo\n",
       "y6PlNnJnpN+Yrv7jQOcFUbMf06KhP1e8YR1poT04AAAAAElFTkSuQmCC\n",
       "\" style=\"display:inline;vertical-align:middle;\" /></a><br>(see <a class=\"ProveItLink\" href=\"../../../__pv_it/theorems/c71dc51dbf76d31c89bbb8afa3313b2d09f628950/dependencies.ipynb\">dependencies</a>)<br>"
      ],
      "text/plain": [
       "<IPython.core.display.HTML object>"
      ]
     },
     "metadata": {},
     "output_type": "display_data"
    },
    {
     "name": "stdout",
     "output_type": "stream",
     "text": [
      "add_7_5 may now be readily provable (assuming required theorems are usable).  Simply execute \"%qed\".\n"
     ]
    }
   ],
   "source": [
    "%proving add_7_5"
   ]
  },
  {
   "cell_type": "code",
   "execution_count": null,
   "metadata": {},
   "outputs": [],
   "source": []
  }
 ],
 "metadata": {
  "kernelspec": {
   "display_name": "Python 3",
   "language": "python",
   "name": "python3"
  }
 },
 "nbformat": 4,
 "nbformat_minor": 0
}