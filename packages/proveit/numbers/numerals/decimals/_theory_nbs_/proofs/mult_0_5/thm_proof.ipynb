{
 "cells": [
  {
   "cell_type": "markdown",
   "metadata": {},
   "source": [
    "Proof of <a class=\"ProveItLink\" href=\"../../../../../../_theory_nbs_/theory.ipynb\">proveit</a>.<a class=\"ProveItLink\" href=\"../../../../../_theory_nbs_/theory.ipynb\">numbers</a>.<a class=\"ProveItLink\" href=\"../../../../_theory_nbs_/theory.ipynb\">numerals</a>.<a class=\"ProveItLink\" href=\"../../theory.ipynb\">decimals</a>.<a class=\"ProveItLink\" href=\"../../theorems.ipynb#mult_0_5\">mult_0_5</a> theorem\n",
    "========"
   ]
  },
  {
   "cell_type": "code",
   "execution_count": 1,
   "metadata": {},
   "outputs": [],
   "source": [
    "import proveit\n",
    "theory = proveit.Theory() # the theorem's theory"
   ]
  },
  {
   "cell_type": "code",
   "execution_count": 2,
   "metadata": {},
   "outputs": [
    {
     "data": {
      "text/html": [
       "With these <a href=\"allowed_presumptions.txt\">allowed</a>/<a href=\"disallowed_presumptions.txt\">disallowed</a> theorem/theory presumptions (e.g., to avoid circular dependencies), we begin our proof of<br><strong id=\"mult_0_5\">mult_0_5:</strong> <a class=\"ProveItLink\" href=\"../../../__pv_it/theorems/c804294331e03e766e5325fb4a5d163f294c29f10/expr.ipynb\"><img src=\"data:image/png;base64,iVBORw0KGgoAAAANSUhEUgAAAFcAAAAVBAMAAADBdm84AAAAMFBMVEX///8AAAAAAAAAAAAAAAAA\n",
       "AAAAAAAAAAAAAAAAAAAAAAAAAAAAAAAAAAAAAAAAAAAv3aB7AAAAD3RSTlMAInZUiRDNmWbv3US7\n",
       "qzJazP2FAAAACXBIWXMAAA7EAAAOxAGVKw4bAAABeUlEQVQoz3WTPUvDUBSGn36kH2mt3QQX6+Qk\n",
       "ZBDXhuJoIU6iCC2IIE4VioqLxUV0sYuLilaqiyCIf8Dq4CAK3dw0s4ui9QNcPGlpNGl6hsu5bx7O\n",
       "Oe+9N0CSjvCQWuHXHNsETHDRDR6BYGbR3kY/F07wlzqwsSFpp+Rhlmm7sXp4bMCcmw1pyhGES0Qq\n",
       "BGtttae5brjhLRiXthCvE/hwwlHDBd9D2mAUegsk3p1wyD30F7xoFCEn8LcNr2dNsVx3sooFl5iH\n",
       "AZ3EW1uOG74fiOStfPXUijPJfA2BU1RbcONfmVsIlJ2Vm7DOnoyhE7Mq5/KtL2tJEq+uMQS+TFmw\n",
       "GAxYBtWCLDcCm8TKnQbTmjVGvEbEPrpdeJIxKs6ZuYNtg2txUyacb8M67ItUc1XehCXISlZlymyr\n",
       "ffh35F51F6xqygE8SzaZefzzvfwgt6eeu2ClOCz1VNPrKfZ7v9BIwUtd6fKerzw0X60LPOOhxbv9\n",
       "V75Upzbojf4CJSFWGMPZKWQAAAAASUVORK5CYII=\n",
       "\" style=\"display:inline;vertical-align:middle;\" /></a><br>(see <a class=\"ProveItLink\" href=\"../../../__pv_it/theorems/6f7f3cfdd78e5456925cb8b679975ac6125f91720/dependencies.ipynb\">dependencies</a>)<br>"
      ],
      "text/plain": [
       "<IPython.core.display.HTML object>"
      ]
     },
     "metadata": {},
     "output_type": "display_data"
    },
    {
     "name": "stdout",
     "output_type": "stream",
     "text": [
      "mult_0_5 may now be readily provable (assuming required theorems are usable).  Simply execute \"%qed\".\n"
     ]
    }
   ],
   "source": [
    "%proving mult_0_5"
   ]
  },
  {
   "cell_type": "code",
   "execution_count": null,
   "metadata": {},
   "outputs": [],
   "source": []
  }
 ],
 "metadata": {
  "kernelspec": {
   "display_name": "Python 3",
   "language": "python",
   "name": "python3"
  }
 },
 "nbformat": 4,
 "nbformat_minor": 0
}