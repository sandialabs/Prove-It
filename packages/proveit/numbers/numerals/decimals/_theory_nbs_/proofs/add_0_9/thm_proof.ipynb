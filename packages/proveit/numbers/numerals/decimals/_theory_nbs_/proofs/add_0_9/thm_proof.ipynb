{
 "cells": [
  {
   "cell_type": "markdown",
   "metadata": {},
   "source": [
    "Proof of <a class=\"ProveItLink\" href=\"../../../../../../_theory_nbs_/theory.ipynb\">proveit</a>.<a class=\"ProveItLink\" href=\"../../../../../_theory_nbs_/theory.ipynb\">numbers</a>.<a class=\"ProveItLink\" href=\"../../../../_theory_nbs_/theory.ipynb\">numerals</a>.<a class=\"ProveItLink\" href=\"../../theory.ipynb\">decimals</a>.<a class=\"ProveItLink\" href=\"../../theorems.ipynb#add_0_9\">add_0_9</a> theorem\n",
    "========"
   ]
  },
  {
   "cell_type": "code",
   "execution_count": 1,
   "metadata": {},
   "outputs": [],
   "source": [
    "import proveit\n",
    "theory = proveit.Theory() # the theorem's theory"
   ]
  },
  {
   "cell_type": "code",
   "execution_count": 2,
   "metadata": {},
   "outputs": [
    {
     "data": {
      "text/html": [
       "With these <a href=\"allowed_presumptions.txt\">allowed</a>/<a href=\"disallowed_presumptions.txt\">disallowed</a> theorem/theory presumptions (e.g., to avoid circular dependencies), we begin our proof of<br><strong id=\"add_0_9\">add_0_9:</strong> <a class=\"ProveItLink\" href=\"../../../__pv_it/theorems/a5a5a21e32dc3faa972bb3b689c0f7ff2926a72e0/expr.ipynb\"><img src=\"data:image/png;base64,iVBORw0KGgoAAAANSUhEUgAAAGEAAAAVBAMAAACkm51HAAAAMFBMVEX///8AAAAAAAAAAAAAAAAA\n",
       "AAAAAAAAAAAAAAAAAAAAAAAAAAAAAAAAAAAAAAAAAAAv3aB7AAAAD3RSTlMAInZUiRDNmWbv3US7\n",
       "qzJazP2FAAAACXBIWXMAAA7EAAAOxAGVKw4bAAABYklEQVQ4y3WTMUjDQBSG/zaJSW2Izi7G1aWl\n",
       "iOAW6uAkZpMWwYAIjlUERRGyucZRuhS6BYTg1DE6C2Z10cxOolYcRLz0Fcldcjfk7r67j/feXQ7A\n",
       "PMqbjKPalCzcyowVQG0fCvDkwkXVL+zNMDQP2EOXT6FrW1fAvigQ1n0YA6gxsRF1T8ADcCkahGuA\n",
       "mUAZE2tR9wVsuai5gkF4FZjrwfrIG9oP0IgwIxQyxcfALjO+CzF8qElJDB8HwKID650zWMKPNgwv\n",
       "G+vhpCX/eEjGJ2d0IuulCSUQYhDus6wc1LMYZ2F4HYY3WcZH640U1ptgEO5PKle4yrPGDqUeFO+b\n",
       "YZaVGcMYiwY7eGUg1EH4HjAC6B5nrLnaL+OxEIDwJhsN0Uk5Y9k12V3ojmAQfmWj7fYzOEPdOGff\n",
       "2UgwpjjNs1Z+slD+sxu9/GyUn5xK3sed7OFUYsnCjswwZc+2YksWlsrxH3dkYRt47bSKAAAAAElF\n",
       "TkSuQmCC\n",
       "\" style=\"display:inline;vertical-align:middle;\" /></a><br>(see <a class=\"ProveItLink\" href=\"../../../__pv_it/theorems/1d2a49bd2e84a7894a4bd9ca1fbd1ce7526dba690/dependencies.ipynb\">dependencies</a>)<br>"
      ],
      "text/plain": [
       "<IPython.core.display.HTML object>"
      ]
     },
     "metadata": {},
     "output_type": "display_data"
    },
    {
     "name": "stdout",
     "output_type": "stream",
     "text": [
      "add_0_9 may now be readily provable (assuming required theorems are usable).  Simply execute \"%qed\".\n"
     ]
    }
   ],
   "source": [
    "%proving add_0_9"
   ]
  },
  {
   "cell_type": "code",
   "execution_count": null,
   "metadata": {},
   "outputs": [],
   "source": []
  }
 ],
 "metadata": {
  "kernelspec": {
   "display_name": "Python 3",
   "language": "python",
   "name": "python3"
  }
 },
 "nbformat": 4,
 "nbformat_minor": 0
}