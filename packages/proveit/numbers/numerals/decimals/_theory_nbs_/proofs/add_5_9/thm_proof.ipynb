{
 "cells": [
  {
   "cell_type": "markdown",
   "metadata": {},
   "source": [
    "Proof of <a class=\"ProveItLink\" href=\"../../../../../../_theory_nbs_/theory.ipynb\">proveit</a>.<a class=\"ProveItLink\" href=\"../../../../../_theory_nbs_/theory.ipynb\">numbers</a>.<a class=\"ProveItLink\" href=\"../../../../_theory_nbs_/theory.ipynb\">numerals</a>.<a class=\"ProveItLink\" href=\"../../theory.ipynb\">decimals</a>.<a class=\"ProveItLink\" href=\"../../theorems.ipynb#add_5_9\">add_5_9</a> theorem\n",
    "========"
   ]
  },
  {
   "cell_type": "code",
   "execution_count": 1,
   "metadata": {},
   "outputs": [],
   "source": [
    "import proveit\n",
    "theory = proveit.Theory() # the theorem's theory"
   ]
  },
  {
   "cell_type": "code",
   "execution_count": 2,
   "metadata": {},
   "outputs": [
    {
     "data": {
      "text/html": [
       "With these <a href=\"allowed_presumptions.txt\">allowed</a>/<a href=\"disallowed_presumptions.txt\">disallowed</a> theorem/theory presumptions (e.g., to avoid circular dependencies), we begin our proof of<br><strong id=\"add_5_9\">add_5_9:</strong> <a class=\"ProveItLink\" href=\"../../../__pv_it/theorems/a7ccdf9d3546d3e6e48beb3f5536fa27baea84160/expr.ipynb\"><img src=\"data:image/png;base64,iVBORw0KGgoAAAANSUhEUgAAAGwAAAAVBAMAAABRZRb3AAAAMFBMVEX///8AAAAAAAAAAAAAAAAA\n",
       "AAAAAAAAAAAAAAAAAAAAAAAAAAAAAAAAAAAAAAAAAAAv3aB7AAAAD3RSTlMAInZUiRDNmWbv3US7\n",
       "qzJazP2FAAAACXBIWXMAAA7EAAAOxAGVKw4bAAABhUlEQVQ4y52TO0gDQRBAn6dnEk3wsNFC0CKF\n",
       "VkoQQSsLLcV0NoKpxCZooQiikMrKwiaFBElQLDwRLGMhREGwFFG0iaTzA+IPwR/RvTsJ2WTvCqe4\n",
       "YWf3zdz8AAO11OAlWg8FdAXb2OGF9UJ60ozKRt/8BXRWP763392AHoPtz2H5Vt/gzqC+whf65bRt\n",
       "2hV+E3Bausg6KrRKMId/pipat4VpAgtQjkUc1RSj7g2Sauw2Dn0qbCKH9gVTamxQYLNCX4Wvq6O9\n",
       "w4gS04y44/GY9j0Js3J7gWW7qKYtpyWsFYFt2sdgRsL0FA+v0K+MNmhhKadPz+KzYJprprlrncfC\n",
       "kSI8qjC/8YcFY/iKUjQhViX3VVgzfz8ZyBB6qsRE3xhQ5XaQz3+ccyQcCzInYbVJJgqwom4A63aR\n",
       "a2boikqYtsUJTnNkGbVH/lsMp1AtS3Ny3xiatzqyU0nl03Exi4s/ZzQUyu0RaeEy7nsjz2tW2p6E\n",
       "x74dut60ea3p+D8cWhm47b5muEO/Muhlebsq3f8AAAAASUVORK5CYII=\n",
       "\" style=\"display:inline;vertical-align:middle;\" /></a><br>(see <a class=\"ProveItLink\" href=\"../../../__pv_it/theorems/8dac91357cdb6dafc1db05f9d1bd25a4e68b9d690/dependencies.ipynb\">dependencies</a>)<br>"
      ],
      "text/plain": [
       "<IPython.core.display.HTML object>"
      ]
     },
     "metadata": {},
     "output_type": "display_data"
    },
    {
     "name": "stdout",
     "output_type": "stream",
     "text": [
      "add_5_9 may now be readily provable (assuming required theorems are usable).  Simply execute \"%qed\".\n"
     ]
    }
   ],
   "source": [
    "%proving add_5_9"
   ]
  },
  {
   "cell_type": "code",
   "execution_count": null,
   "metadata": {},
   "outputs": [],
   "source": []
  }
 ],
 "metadata": {
  "kernelspec": {
   "display_name": "Python 3",
   "language": "python",
   "name": "python3"
  }
 },
 "nbformat": 4,
 "nbformat_minor": 0
}