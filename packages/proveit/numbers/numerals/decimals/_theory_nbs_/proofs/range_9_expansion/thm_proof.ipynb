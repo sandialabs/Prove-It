{
 "cells": [
  {
   "cell_type": "markdown",
   "metadata": {},
   "source": [
    "Proof of <a class=\"ProveItLink\" href=\"../../../../../../_theory_nbs_/theory.ipynb\">proveit</a>.<a class=\"ProveItLink\" href=\"../../../../../_theory_nbs_/theory.ipynb\">numbers</a>.<a class=\"ProveItLink\" href=\"../../../../_theory_nbs_/theory.ipynb\">numerals</a>.<a class=\"ProveItLink\" href=\"../../theory.ipynb\">decimals</a>.<a class=\"ProveItLink\" href=\"../../theorems.ipynb#range_9_expansion\">range_9_expansion</a> theorem\n",
    "========"
   ]
  },
  {
   "cell_type": "code",
   "execution_count": 1,
   "metadata": {},
   "outputs": [],
   "source": [
    "import proveit\n",
    "theory = proveit.Theory() # the theorem's theory"
   ]
  },
  {
   "cell_type": "code",
   "execution_count": 2,
   "metadata": {},
   "outputs": [
    {
     "data": {
      "text/html": [
       "With these <a href=\"allowed_presumptions.txt\">allowed</a>/<a href=\"disallowed_presumptions.txt\">disallowed</a> theorem/theory presumptions (e.g., to avoid circular dependencies), we begin our proof of<br><strong id=\"range_9_expansion\">range_9_expansion:</strong> <a class=\"ProveItLink\" href=\"../../../__pv_it/theorems/3502adfca3ad4b6eae8807bee0223680dd4d46310/expr.ipynb\"><img src=\"data:image/png;base64,iVBORw0KGgoAAAANSUhEUgAABIsAAAAYBAMAAACIHGCjAAAAMFBMVEX///8AAAAAAAAAAAAAAAAA\n",
       "AAAAAAAAAAAAAAAAAAAAAAAAAAAAAAAAAAAAAAAAAAAv3aB7AAAAD3RSTlMAq1RmmUTNIjK7EInv\n",
       "3XZ/CtNrAAAACXBIWXMAAA7EAAAOxAGVKw4bAAAJMklEQVRo3u2abYhcVxnHn525s3fec9NEiFLo\n",
       "BHE/qM1uSVrpl7g1m9a0NA4IQjVtpwZf8IOONFQCrVn9ZDE1I/1Qs4q5ilSLkp2EgNil7TSlWKJJ\n",
       "JtKCLx0YbHDBarum5IWt7XrennPOvffcc89m1m974Nm9Z57/Pef3nPvMueeeOwBrUdrC9HrkAyy+\n",
       "+Xx/Ff1wtZ/uXkOE1WjbNuQ1146M668NbjvdvepSb3DT6wAPGJR/NzdQGDr3I9SmM9YeYRVavXO9\n",
       "PABrrp2FcntUXIP24fA6cNEC+sGHR0ujjwkDuOdZrF+E+pSuYZ5cl3mi5QmC/0ZGD6pdeDxk6jfM\n",
       "GBYEbyEUCPXpLIR07YE7f2TU0g5jWn9hT9M0CgIuVorTrtrzXx6ErriwsDDrqJ1cWVnpRRFUaDGE\n",
       "8sIpHhrabvrpV0bKonKLG0Bly2lRh78BfE3TcM/TwD36yZu/QVDHQ2sPWrvwD65OnpGFcOJwQyDU\n",
       "ulkIqVq/Ay80DVrWYUz7C8hdMo0CwkVLLXDVvv7es6648EhzrO+o/d3MzL2NCIIWWgzBA7iB4wr7\n",
       "Dh+bUYo3xQ2g+pE5wGOAHZqGe3Zpn3wWD94mQeanrT1E22Xq5BlZCKfvC50RUrVjbaj2DFpP+xYX\n",
       "xPHbjfIV0yiYtAD/DrK0iBvgGDiE9nUodRy1JKkORBHSQ9vOEnEHSKOZWmmMlEZVYQAPhiCPyX/t\n",
       "S8A9Pe2sbfo1hDPWHqLtcvUZE4YFobAMzgjp2uoyjF01aKuaNCfWIvuacMU0CiYtFG8LsrTb9DRy\n",
       "w80tu2sbrGUdIT20EyyNqFZYnuTX+GhLowlhAM/JOi3jWhozT66Veg33W3uItsvV+00YFoRK3x0h\n",
       "XUtuEWPXDNoJU2pA7h3DKJi1lfEgSxtNIyfcUs9dS3yzUYT00Cbn6HxGtWhnB4M/jJZG9wiDW85u\n",
       "FvXyRdJyJZAS7vG6wpO8hidsHah2ofxWINQnTBjpCPkbL0wLhOO7wI5g1UJtyaClnaNWpdH9plGQ\n",
       "cBHtIk0juxYRNr25xRW3+tXnd7uHdhAiCCq0BO7YysUG16J9GmButDRSc8P7WK8UyNcgr6X8+zg3\n",
       "ME/yGt5m7UG2S9Z2Lwk1O8MbsBJANsKGISJ090EGgk0LR4YGLe0ctTI1frBx1jAKEk7X+lM0jexa\n",
       "RJiDQ01H3A37odpwDu0DEEWQoSVw4TPvtbkW7ZvgqwT8Jb9Ps79iXVZUM1pb+MV2Ah78SRj417D+\n",
       "XY+0nFM3YO6pNYQneQ0/bssi1S4swiWhTpyRgXBoViAUG3dCBoJNCxdMWtKh1Go3tUuGUZBwurYC\n",
       "NI3sWoVQ6jvizi+Bd8Y1NJ/2riGo0BK4ud8eE6GhlcJKk94tZui89Tyfttnp4vGNV2i5Ff2k7DzV\n",
       "xjyDl4VBbgnrYZX0V1xSGcgOq03hgXsHgz8OBhfUNTxiSyPVLoRs0XjEdEYGwiQIhDKcgwwEm9br\n",
       "mLSkQ64l8+PrZ8X8CHA+TI6ChNO1n2BpZNHqCOBddcSd70P+smtoFZorGoIKLYG7A3L/5aGh5YZs\n",
       "hV26dTZ2WeK7AOVA7hlAvV3uwBfiacSXZOx4klyYQi+2WKNpxDzJqWCfddtItQteX6j3GdMoHeE5\n",
       "HD98fLEg2LS3gEn7snoskl/Z7wEcayRHQcJpWn/I0siuxWVzC7xrjrgbWpB/xzW0Gr3iGoIWWgyX\n",
       "Pvod4qGhQWsn6zCxnRdPI68pwqDWhJbc1ZI3tVIg6w+VSZ99NQsHeFNjnuQ1vNmWRlq7fM/sZjxD\n",
       "XxtlIPwQEGE8CDMQLNpcF75l0NIOUYtjvRLSNEqMgoTTtIWNG296sZuhxWUzeVhccsQt8dnILbR5\n",
       "2qWGoIUWwy2T/semmBYNTtKNyNyNJ+nbEcZ+/FNaGokK7Vr4aRrV381Pye2mnwqD6hDr5csVsvKi\n",
       "LXBU7ikNhSd5DW8HqY3MgBBtF9jqkqlvj2szEM4BIsw3uxkIFu33Af7JtWJkz8nOUYtp9CK7qTGE\n",
       "eBxyFNQ6qhpAhnYbLqOg2nHEJbdGr+ca2oN0laIhqNASuL8nTbSZFg0eZbnDBmbI5rnpCS2NSMU7\n",
       "SsqT8Ijwl9jAv0vanJZ7UfyR8lAT68Wlh8Xz/RVQnkogPJFr+EIbH+apdr4lDmRNbxfgk5EthsjO\n",
       "vRXBvwyIcMSfsiLYtP6rMzN9ruVsQks7Ry2O9Xa2b0QREnHIUVBptKGTpUWEafhX6IgLP4bfNFy1\n",
       "k12IIKjQErifC2En16LBGFsUzdDzfk5np3J4SqURVki5T/hpGhW33DQNBXHbe0KYWJKx400EsUZH\n",
       "YhAqT7EvPDr8xvMPkU9eA6Gt0dx8FcSf2l9j7cIH6Z/XhEXfr1oRxJKVIoxtByuCTVtbWVlpcS1n\n",
       "E1raIWpxrAsze5oCIRHHpvi+kXfsP8MMLeIeuONucMSFyswWZ+2j9O6iIWihxXGLm2dEaGiiPIlz\n",
       "ndyB6UB0B3Qr8+85+pOjR6fGofAKFLVnOfY8d0f02e4x1jFLI+H5s2nvlCV+X2kj5aMQa/ecUPv9\n",
       "xLtNK4IXuCM4ahmb0NZmTbvYEiEZx3VoR8R102oITqE9Js9h5RW2yPoVO76qp9FVvKk9Lvwlvt95\n",
       "Ut7UxJvSXPBFVQd8/UdvqtKzw/ReVL1WrSRX112ItHtDfjnyLlgvVoSt4w1nBFdtV9Pqbz8LEbRd\n",
       "pjiuSzsirptWIjiGtivynre8DOUuTHjwazJj9bQ0Kva0JfaEJ9KIPKR9COqYmk8xq821tDr+buA4\n",
       "PRM9pbQfyh0E1MaW2EPQ2y1eYg97B+UZkWJD+MvT4IzgqKVsSvtU2tZpxxDHGmhXjeumVQhuoaHh\n",
       "C+YeFE/DzxbhcAPqgZZGdbnFTXomfp5G/t432wrlGWb5i3odSSmQ9JTTfpHCSYeJz+v62aTdvbtV\n",
       "2iaKDWHnXeCM4Khlu/hS+0zaZkXbFMfo2lXjumkVgltoaOqOADl21MCXvJ3YO/JCV+0bRZv3h9z0\n",
       "On1vkSzfNgPV3X7OK/qgatMZa4+wCq0/NGsX4f+iHRU3Tbta3MXIOaWtZB31eZYs4ZcOa9uPWKHl\n",
       "LrWLrdfXy3rB58K3yB827+Rh791aGmGFiaIPUvnm+ritl8ySnApDww7zelkvAP8DQNYDXnonqeAA\n",
       "AAAASUVORK5CYII=\n",
       "\" style=\"display:inline;vertical-align:middle;\" /></a><br>(see <a class=\"ProveItLink\" href=\"../../../__pv_it/theorems/5c2624d7b3dd05d878b8d53b872e43c41665411a0/dependencies.ipynb\">dependencies</a>)<br>"
      ],
      "text/plain": [
       "<IPython.core.display.HTML object>"
      ]
     },
     "metadata": {},
     "output_type": "display_data"
    }
   ],
   "source": [
    "%proving range_9_expansion"
   ]
  },
  {
   "cell_type": "code",
   "execution_count": null,
   "metadata": {},
   "outputs": [],
   "source": []
  }
 ],
 "metadata": {
  "kernelspec": {
   "display_name": "Python 3",
   "language": "python",
   "name": "python3"
  }
 },
 "nbformat": 4,
 "nbformat_minor": 0
}