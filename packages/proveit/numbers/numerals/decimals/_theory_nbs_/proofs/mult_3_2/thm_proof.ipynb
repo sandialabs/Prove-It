{
 "cells": [
  {
   "cell_type": "markdown",
   "metadata": {},
   "source": [
    "Proof of <a class=\"ProveItLink\" href=\"../../../../../../_theory_nbs_/theory.ipynb\">proveit</a>.<a class=\"ProveItLink\" href=\"../../../../../_theory_nbs_/theory.ipynb\">numbers</a>.<a class=\"ProveItLink\" href=\"../../../../_theory_nbs_/theory.ipynb\">numerals</a>.<a class=\"ProveItLink\" href=\"../../theory.ipynb\">decimals</a>.<a class=\"ProveItLink\" href=\"../../theorems.ipynb#mult_3_2\">mult_3_2</a> theorem\n",
    "========"
   ]
  },
  {
   "cell_type": "code",
   "execution_count": 1,
   "metadata": {},
   "outputs": [],
   "source": [
    "import proveit\n",
    "theory = proveit.Theory() # the theorem's theory"
   ]
  },
  {
   "cell_type": "code",
   "execution_count": 2,
   "metadata": {},
   "outputs": [
    {
     "data": {
      "text/html": [
       "With these <a href=\"allowed_presumptions.txt\">allowed</a>/<a href=\"disallowed_presumptions.txt\">disallowed</a> theorem/theory presumptions (e.g., to avoid circular dependencies), we begin our proof of<br><strong id=\"mult_3_2\">mult_3_2:</strong> <a class=\"ProveItLink\" href=\"../../../__pv_it/theorems/f58c71c6ebe30095348a6dd092c68184fea6ba070/expr.ipynb\"><img src=\"data:image/png;base64,iVBORw0KGgoAAAANSUhEUgAAAFcAAAAVBAMAAADBdm84AAAAMFBMVEX///8AAAAAAAAAAAAAAAAA\n",
       "AAAAAAAAAAAAAAAAAAAAAAAAAAAAAAAAAAAAAAAAAAAv3aB7AAAAD3RSTlMAInZUiRDNmWbv3US7\n",
       "qzJazP2FAAAACXBIWXMAAA7EAAAOxAGVKw4bAAABcUlEQVQoz3WTv0vDQBTHv0mbmjahzeBUHOrk\n",
       "JDiIazsInZT8AYJdBEGHDEK0KGRzVBAE6aDgIoI0uLhWN38MdXWwGZycxNIOOtR3ORvj5XLD4903\n",
       "H959790LAAuJJZH4UueS2nUaPA9M1h+jreJuBlC9BJZdXAa0BjQH1aj8FLLfwJrIKht4ASY8qH2s\n",
       "NsbqM3AC7ItwroInIA8YLZQi+NRGz0LeFuBqKCzwPDJJh/UC5ETT92HcYsG4iH9o03W6Anz8NuMD\n",
       "65QVZ19jevET0ENbzUu2rlg69HAEnHMbsWYXqGrm8H9hbQTs2GiFm/yAwm9Ldln1DwH+Ag58BhcD\n",
       "mH1W0mG6zuwaQmUMCfaYjdKAw+MXVSxkzgTPD2HlO/LQ5Tb49WpQbegdsc/kGViig71Yn8uu26R3\n",
       "rQmwWdOoG++U3bh/g9QejchfwRffu74XkBzIRrEsn1DdkanbKfN8K9GUTgq8ItHMtP9KqSS1aTn6\n",
       "AwCMVoNMF2yXAAAAAElFTkSuQmCC\n",
       "\" style=\"display:inline;vertical-align:middle;\" /></a><br>(see <a class=\"ProveItLink\" href=\"../../../__pv_it/theorems/37ff7b3f7f6f066b57a2a0fa47e5edb2c28e3be80/dependencies.ipynb\">dependencies</a>)<br>"
      ],
      "text/plain": [
       "<IPython.core.display.HTML object>"
      ]
     },
     "metadata": {},
     "output_type": "display_data"
    },
    {
     "name": "stdout",
     "output_type": "stream",
     "text": [
      "mult_3_2 may now be readily provable (assuming required theorems are usable).  Simply execute \"%qed\".\n"
     ]
    }
   ],
   "source": [
    "%proving mult_3_2"
   ]
  },
  {
   "cell_type": "code",
   "execution_count": null,
   "metadata": {},
   "outputs": [],
   "source": []
  }
 ],
 "metadata": {
  "kernelspec": {
   "display_name": "Python 3",
   "language": "python",
   "name": "python3"
  }
 },
 "nbformat": 4,
 "nbformat_minor": 0
}