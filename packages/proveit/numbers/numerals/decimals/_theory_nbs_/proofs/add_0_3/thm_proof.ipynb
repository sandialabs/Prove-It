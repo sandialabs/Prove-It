{
 "cells": [
  {
   "cell_type": "markdown",
   "metadata": {},
   "source": [
    "Proof of <a class=\"ProveItLink\" href=\"../../../../../../_theory_nbs_/theory.ipynb\">proveit</a>.<a class=\"ProveItLink\" href=\"../../../../../_theory_nbs_/theory.ipynb\">numbers</a>.<a class=\"ProveItLink\" href=\"../../../../_theory_nbs_/theory.ipynb\">numerals</a>.<a class=\"ProveItLink\" href=\"../../theory.ipynb\">decimals</a>.<a class=\"ProveItLink\" href=\"../../theorems.ipynb#add_0_3\">add_0_3</a> theorem\n",
    "========"
   ]
  },
  {
   "cell_type": "code",
   "execution_count": 1,
   "metadata": {},
   "outputs": [],
   "source": [
    "import proveit\n",
    "theory = proveit.Theory() # the theorem's theory"
   ]
  },
  {
   "cell_type": "code",
   "execution_count": 2,
   "metadata": {},
   "outputs": [
    {
     "data": {
      "text/html": [
       "With these <a href=\"allowed_presumptions.txt\">allowed</a>/<a href=\"disallowed_presumptions.txt\">disallowed</a> theorem/theory presumptions (e.g., to avoid circular dependencies), we begin our proof of<br><strong id=\"add_0_3\">add_0_3:</strong> <a class=\"ProveItLink\" href=\"../../../__pv_it/theorems/c8adffd4dbab999a07565d6d7485c3c29603e9000/expr.ipynb\"><img src=\"data:image/png;base64,iVBORw0KGgoAAAANSUhEUgAAAGEAAAAVBAMAAACkm51HAAAAMFBMVEX///8AAAAAAAAAAAAAAAAA\n",
       "AAAAAAAAAAAAAAAAAAAAAAAAAAAAAAAAAAAAAAAAAAAv3aB7AAAAD3RSTlMAInZUiRDNmWbv3US7\n",
       "qzJazP2FAAAACXBIWXMAAA7EAAAOxAGVKw4bAAABWUlEQVQ4y3WTMUvEMBTH/732bLWlOruon8By\n",
       "iHM5XIVuoggWRHA8QVDE4TYdb5VDPHArCMXpdOr5BewXUIqjg4incpsmeSJN2mRJ83v58d5LEwBz\n",
       "qB86jkagCdzqjBXAah/IzFg7TdHoqlsFRjMGdrEll7ABcwzsqQZhuwtnACsjNqRpOWh+A2eqQXga\n",
       "8HKYX8RaNN2l4KFIMQivArMd+GPJAMwJMFVpROBDYIcZE8W4Z7utvGJwvA8shPA/ZOPlqQCcmH/a\n",
       "iRj5P74m41OtipVp9qpVMdxnVYVweY6TJLlIkhuKXUXw36t/j+G+6NyUO38DHgO4ag7CrCovgyOf\n",
       "7k/EQ+ZA6YPwA+uwBzuWjEuR3smUHITXwbvfLCTjXBy8HSoG4Vd+X9rPkAz3iF+5mVQx/nBRZq3y\n",
       "Yr7+sjud8mpYXhxr3sdI93CMTBPY1hme7tkai5rAUj3+BSuEZf9vpYE0AAAAAElFTkSuQmCC\n",
       "\" style=\"display:inline;vertical-align:middle;\" /></a><br>(see <a class=\"ProveItLink\" href=\"../../../__pv_it/theorems/e2558c6164b27857806e4fb827f52bd0586cae920/dependencies.ipynb\">dependencies</a>)<br>"
      ],
      "text/plain": [
       "<IPython.core.display.HTML object>"
      ]
     },
     "metadata": {},
     "output_type": "display_data"
    },
    {
     "name": "stdout",
     "output_type": "stream",
     "text": [
      "add_0_3 may now be readily provable (assuming required theorems are usable).  Simply execute \"%qed\".\n"
     ]
    }
   ],
   "source": [
    "%proving add_0_3"
   ]
  },
  {
   "cell_type": "code",
   "execution_count": null,
   "metadata": {},
   "outputs": [],
   "source": []
  }
 ],
 "metadata": {
  "kernelspec": {
   "display_name": "Python 3",
   "language": "python",
   "name": "python3"
  }
 },
 "nbformat": 4,
 "nbformat_minor": 0
}