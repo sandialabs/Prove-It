{
 "cells": [
  {
   "cell_type": "markdown",
   "metadata": {},
   "source": [
    "Proof of <a class=\"ProveItLink\" href=\"../../../../../../_theory_nbs_/theory.ipynb\">proveit</a>.<a class=\"ProveItLink\" href=\"../../../../../_theory_nbs_/theory.ipynb\">numbers</a>.<a class=\"ProveItLink\" href=\"../../../../_theory_nbs_/theory.ipynb\">numerals</a>.<a class=\"ProveItLink\" href=\"../../theory.ipynb\">decimals</a>.<a class=\"ProveItLink\" href=\"../../theorems.ipynb#add_5_3\">add_5_3</a> theorem\n",
    "========"
   ]
  },
  {
   "cell_type": "code",
   "execution_count": 1,
   "metadata": {},
   "outputs": [],
   "source": [
    "import proveit\n",
    "theory = proveit.Theory() # the theorem's theory"
   ]
  },
  {
   "cell_type": "code",
   "execution_count": 2,
   "metadata": {},
   "outputs": [
    {
     "data": {
      "text/html": [
       "With these <a href=\"allowed_presumptions.txt\">allowed</a>/<a href=\"disallowed_presumptions.txt\">disallowed</a> theorem/theory presumptions (e.g., to avoid circular dependencies), we begin our proof of<br><strong id=\"add_5_3\">add_5_3:</strong> <a class=\"ProveItLink\" href=\"../../../__pv_it/theorems/bc494c6cf6d3d47dbe82aae6ad9bca386fed9b0b0/expr.ipynb\"><img src=\"data:image/png;base64,iVBORw0KGgoAAAANSUhEUgAAAGEAAAAVBAMAAACkm51HAAAAMFBMVEX///8AAAAAAAAAAAAAAAAA\n",
       "AAAAAAAAAAAAAAAAAAAAAAAAAAAAAAAAAAAAAAAAAAAv3aB7AAAAD3RSTlMAInZUiRDNmWbv3US7\n",
       "qzJazP2FAAAACXBIWXMAAA7EAAAOxAGVKw4bAAABgUlEQVQ4y3WTO0gDQRCG/8t5JjEP0gk2URDE\n",
       "yiOIrQYiVsJW2likUSxTKAmiGGySUgsLEUnAygPhsJBoFYXUCVhoowRLC4kIoimMc3cgt8PtFvv4\n",
       "Z76d2Z1dACkEN5WOkIkujADzlYqYBWoblpA0LbdrI1TmrkZuyaY+D1z0F2XTKvRPYJ0TYeCBetqp\n",
       "8681vGHGNL6ACieqwAoQhZ/IeMONDSKighHLLjEXRAD6NzDMDzLfQgnYotnT5Asnbsl7qMOIxGDK\n",
       "BDZp1kLalonX5y4QybvHtdzm0vt9qsK56xGv86zorvRDFkPPtkk+9e7tg7odyzqxrEvPWhNI9hhR\n",
       "gf4jHCKeR/hXivEOtE3EeIxjIG06WUXrSPQkYiAcQq/L5zDIKVHGPd0JQU2JOHOzijRZjCPKJ+VU\n",
       "RStgWkhE1a1HeIER1wIHwBvNRve25XrEivQSMWIzIvlYdOSuX8v4F2PBjz1S8K8a/kVJ8T/uVB9H\n",
       "ayoMayoirvq22rjCMBEs/wEwzGCK3M3nfwAAAABJRU5ErkJggg==\n",
       "\" style=\"display:inline;vertical-align:middle;\" /></a><br>(see <a class=\"ProveItLink\" href=\"../../../__pv_it/theorems/8e379066d9a0f067b8793666cfff6d0598b9b34a0/dependencies.ipynb\">dependencies</a>)<br>"
      ],
      "text/plain": [
       "<IPython.core.display.HTML object>"
      ]
     },
     "metadata": {},
     "output_type": "display_data"
    },
    {
     "name": "stdout",
     "output_type": "stream",
     "text": [
      "add_5_3 may now be readily provable (assuming required theorems are usable).  Simply execute \"%qed\".\n"
     ]
    }
   ],
   "source": [
    "%proving add_5_3"
   ]
  },
  {
   "cell_type": "code",
   "execution_count": null,
   "metadata": {},
   "outputs": [],
   "source": []
  }
 ],
 "metadata": {
  "kernelspec": {
   "display_name": "Python 3",
   "language": "python",
   "name": "python3"
  }
 },
 "nbformat": 4,
 "nbformat_minor": 0
}