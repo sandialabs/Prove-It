{
 "cells": [
  {
   "cell_type": "markdown",
   "metadata": {},
   "source": [
    "Proof of <a class=\"ProveItLink\" href=\"../../../../../../_theory_nbs_/theory.ipynb\">proveit</a>.<a class=\"ProveItLink\" href=\"../../../../../_theory_nbs_/theory.ipynb\">numbers</a>.<a class=\"ProveItLink\" href=\"../../../../_theory_nbs_/theory.ipynb\">numerals</a>.<a class=\"ProveItLink\" href=\"../../theory.ipynb\">decimals</a>.<a class=\"ProveItLink\" href=\"../../theorems.ipynb#tuple_len_2\">tuple_len_2</a> theorem\n",
    "========"
   ]
  },
  {
   "cell_type": "code",
   "execution_count": 1,
   "metadata": {},
   "outputs": [],
   "source": [
    "import proveit\n",
    "from proveit import a, b, i\n",
    "from proveit.core_expr_types.tuples  import tuple_len_incr\n",
    "from proveit.numbers.numerals.decimals import tuple_len_1, add_1_1\n",
    "theory = proveit.Theory() # the theorem's theory"
   ]
  },
  {
   "cell_type": "code",
   "execution_count": 2,
   "metadata": {},
   "outputs": [
    {
     "data": {
      "text/html": [
       "With these <a href=\"allowed_presumptions.txt\">allowed</a>/<a href=\"disallowed_presumptions.txt\">disallowed</a> theorem/theory presumptions (e.g., to avoid circular dependencies), we begin our proof of<br><strong id=\"tuple_len_2\">tuple_len_2:</strong> <a class=\"ProveItLink\" href=\"../../../__pv_it/theorems/3c2c045305fda271bd9aeacca6df2f1805b77a6a0/expr.ipynb\"><img src=\"data:image/png;base64,iVBORw0KGgoAAAANSUhEUgAAAJ8AAAAWBAMAAAAsilPDAAAAMFBMVEX///8AAAAAAAAAAAAAAAAA\n",
       "AAAAAAAAAAAAAAAAAAAAAAAAAAAAAAAAAAAAAAAAAAAv3aB7AAAAD3RSTlMAq1RmmUTNIjK7EInv\n",
       "3XZ/CtNrAAAACXBIWXMAAA7EAAAOxAGVKw4bAAACi0lEQVQ4y61VTWgTQRT+mmSzP0nWggcPYhsQ\n",
       "9FCrORShHspCoygSFbyKBCpIe0qPgi3ryUulHgTBQ91ehFKxrVq8iRfxt1oFUSyhqR4seCmFWlFo\n",
       "fS87s93szt6csJPJm3zfe/PeN2+BpFGjDw89YtflthKTPOwi5puLb5ENrdH8mleBLtLTzov98b0u\n",
       "gUnNhoxTCzR9VxLq5UEXdgk4zr8ux/isqsDcazFfoifrqQivILcBDAHXmP1mjDBTEpj+FvM6PWlH\n",
       "RbgHeAv0+P5yxRhhXmKeteTvD8+vVYTvPXTWkPeQplCy8RQeEJhUNWzNLfI8oCLcB3S6yBLbQr3+\n",
       "Jk54WmAyXJPhp6O+NduxQoeZS6jyMnmkGp8E7sQ3BwSGXWovcLdZCMwMWZvA0YCwUufxwYcYW5Rf\n",
       "OtAw9HZJYwzK1UeBKVBE90uo+NYjHt4Bh9QRFogmRSk3vdy5wLhXLp4LTJ72zgJLvvUE8BcYVxOe\n",
       "4ojWiLQRqslLFeErWBu+dQkaCeeCkjDN59RYFNU+mqb7njTTsOLFjmxtIb0mZZgh4XQrc9gFvYYU\n",
       "y+Ahydv6bGzyBf5qOz50QmDMBqx1tFUPgj395nyiVxWhMQubRMhX5CrFmnEMDtYspYXu5gSGdTCB\n",
       "bsexftGv3bglJBUjHCmXK0JlbS6nyuYU5N2MqPgNgTHoDJM/r3e4qFOIk48pQHxSES5vb5PLgqzv\n",
       "TM08RoBdyItbWHAF5otEpDzZVxYT2xdGgqtbGz/vTaPg9cqaOQLTE1y7cN9IIgxaidZ/+BHGisaZ\n",
       "hrTcFhhTduEHO40qkTDatsJNZ0pgLPmfsKskQrP1HaB5YWcNrDYXo9F3gw9aVRH+iGgd/2H8A2Bd\n",
       "qerF89IoAAAAAElFTkSuQmCC\n",
       "\" style=\"display:inline;vertical-align:middle;\" /></a><br>(see <a class=\"ProveItLink\" href=\"../../../__pv_it/theorems/7eb0124019b0941ed3aafb7b8e9b41ab615ec3c50/dependencies.ipynb\">dependencies</a>)<br>"
      ],
      "text/plain": [
       "<IPython.core.display.HTML object>"
      ]
     },
     "metadata": {},
     "output_type": "display_data"
    }
   ],
   "source": [
    "%proving tuple_len_2"
   ]
  },
  {
   "cell_type": "code",
   "execution_count": 3,
   "metadata": {},
   "outputs": [
    {
     "data": {
      "text/html": [
       "<strong id=\"one_spec\">one_spec:</strong> <span style=\"font-size:20px;\"> <a class=\"ProveItLink\" href=\"../../../__pv_it/_proof_tuple_len_2/64ec18af3149525e0f58e17a8d8170fb083f10870/proof.ipynb\" style=\"text-decoration: none\">&nbsp;&#x22A2;&nbsp;&nbsp;</a><a class=\"ProveItLink\" href=\"../../../__pv_it/theorems/337882eb47ebcac8fdb787894f6457f019eeb1580/expr.ipynb\"><img src=\"data:image/png;base64,iVBORw0KGgoAAAANSUhEUgAAAFAAAAAVBAMAAAAjqnRBAAAAMFBMVEX///8AAAAAAAAAAAAAAAAA\n",
       "AAAAAAAAAAAAAAAAAAAAAAAAAAAAAAAAAAAAAAAAAAAv3aB7AAAAD3RSTlMAIolEdjJUEM2ZZu/d\n",
       "u6v6CvZmAAAACXBIWXMAAA7EAAAOxAGVKw4bAAAA+0lEQVQoz2MQYAABRgZkCiKGBpTBpBuEw+yA\n",
       "JIZNIZsClOeFXSHrcahgBUyEowCbwroZ36GCs2BCXBOwmsgCU7gBLrQdr0K2BrhQF16FnCC/yKmI\n",
       "AEk9vAo5FgBDZiPDfaBPVsAVzjkDAudQFPIkMDBUL2CYA2Rm4zWR24CBYT4DwyEgM56gwr0M7J+B\n",
       "TGu8CoFWs39h4PoAZObgdSOvAwP7Nwa+hkQGhrV4TWR6wMBwhSFnAjBaJmFVyPQRIsh6ABifToFP\n",
       "AhgYDmNTyPf6xyuI4FGYEOMB/MlsJYzHuQC/Ql5YmpYlkHDZL0B5F3ErdAWTItBgEEASQwUA+fBD\n",
       "oAQh6A8AAAAASUVORK5CYII=\n",
       "\" style=\"display:inline;vertical-align:middle;\" /></a></span><br>"
      ],
      "text/plain": [
       "<IPython.core.display.HTML object>"
      ]
     },
     "metadata": {},
     "output_type": "display_data"
    }
   ],
   "source": [
    "one_spec = tuple_len_1.instantiate({a:a}, auto_simplify=False)"
   ]
  },
  {
   "cell_type": "code",
   "execution_count": 4,
   "metadata": {},
   "outputs": [
    {
     "data": {
      "text/html": [
       "<strong id=\"tuple_spec\">tuple_spec:</strong> <span style=\"font-size:20px;\"> <a class=\"ProveItLink\" href=\"../../../__pv_it/_proof_tuple_len_2/2b175d1fab3e92df6a2a49179a1a624a36b3f2c80/proof.ipynb\" style=\"text-decoration: none\">&nbsp;&#x22A2;&nbsp;&nbsp;</a><a class=\"ProveItLink\" href=\"../../../__pv_it/theorems/da225c6c661db37f6d04398b29a7320d1bb59ad80/expr.ipynb\"><img src=\"data:image/png;base64,iVBORw0KGgoAAAANSUhEUgAAAGMAAAAVBAMAAACgbk16AAAAMFBMVEX///8AAAAAAAAAAAAAAAAA\n",
       "AAAAAAAAAAAAAAAAAAAAAAAAAAAAAAAAAAAAAAAAAAAv3aB7AAAAD3RSTlMAIolEdjJUEM2ZZu/d\n",
       "u6v6CvZmAAAACXBIWXMAAA7EAAAOxAGVKw4bAAABhElEQVQ4y4WTv0sCYRjHv/48NY0bHCuEWlqi\n",
       "vUWCGhrC/oJ+rAnd0BBE5hYFgTRlGDnaEBQEDRWJ0SZZ0NKUgVMEVpq52fPee6d38pQP3MO9n5fP\n",
       "Pfc89x5UiHDAHsZaBRfDep7uoq6oZZNVvBEL2biiNMMqjvRuzKBrto1tunwapwzCWTPogW2jQVcg\n",
       "xSmvwKVBT219/Ih8wSk3GqqqTr1JK3fmRd7hlHegGtOpX3Q/NBKW3FeZXQDG/phYSVJfll7nDC96\n",
       "y9jcUj6BXFvJFEXcS8NTlzRIT13PIiPpioZzYJmvEixL2jcOHAEFSfeBL2CeVw7RUa6h1CQtwEVj\n",
       "nmCVQBntF1PqCHyYn8VPY46zvSzBIYccikJpoD+5CDGAb9EXTrgqngjcmk6dVO4J8VRKadLqDc+U\n",
       "9zhlIJ3OSOqhj5eYnKvEUKQyiVEqgltOKbVaTYPemcyrmWc23+PwH7cPi3njz/ZQQubvt9o55j0U\n",
       "5cFYRU38+I8ypedwF3Wrls2u+AWBGV5qzPJPygAAAABJRU5ErkJggg==\n",
       "\" style=\"display:inline;vertical-align:middle;\" /></a></span><br>"
      ],
      "text/plain": [
       "<IPython.core.display.HTML object>"
      ]
     },
     "metadata": {},
     "output_type": "display_data"
    },
    {
     "name": "stdout",
     "output_type": "stream",
     "text": [
      "tuple_len_2 may now be readily provable (assuming required theorems are usable).  Simply execute \"%qed\".\n"
     ]
    }
   ],
   "source": [
    "tuple_spec = tuple_len_incr.instantiate(\n",
    "    {i: one_spec.rhs, a: [one_spec.lhs.operands[0]], b: b})"
   ]
  },
  {
   "cell_type": "code",
   "execution_count": 5,
   "metadata": {},
   "outputs": [
    {
     "name": "stdout",
     "output_type": "stream",
     "text": [
      "proveit.numbers.numerals.decimals.tuple_len_2 has been proven.\n"
     ]
    },
    {
     "data": {
      "text/html": [
       "<table><tr><th>&nbsp;</th><th>step type</th><th>requirements</th><th>statement</th></tr>\n",
       "<tr><td><a name=\"0x2027b5d20736ddfb_step0\">0</a></td><td>generalization</td><td><a href=\"#0x2027b5d20736ddfb_step1\">1</a></td><td><span style=\"font-size:20px;\"> <a class=\"ProveItLink\" href=\"../../../__pv_it/_proof_tuple_len_2/9d6240feecfa0a08441051e8fbe0a015f0d37ea80/proof.ipynb\" style=\"text-decoration: none\">&nbsp;&#x22A2;&nbsp;&nbsp;</a><a class=\"ProveItLink\" href=\"../../../__pv_it/theorems/3c2c045305fda271bd9aeacca6df2f1805b77a6a0/expr.ipynb\"><img src=\"data:image/png;base64,iVBORw0KGgoAAAANSUhEUgAAAJ8AAAAWBAMAAAAsilPDAAAAMFBMVEX///8AAAAAAAAAAAAAAAAA\n",
       "AAAAAAAAAAAAAAAAAAAAAAAAAAAAAAAAAAAAAAAAAAAv3aB7AAAAD3RSTlMAq1RmmUTNIjK7EInv\n",
       "3XZ/CtNrAAAACXBIWXMAAA7EAAAOxAGVKw4bAAACi0lEQVQ4y61VTWgTQRT+mmSzP0nWggcPYhsQ\n",
       "9FCrORShHspCoygSFbyKBCpIe0qPgi3ryUulHgTBQ91ehFKxrVq8iRfxt1oFUSyhqR4seCmFWlFo\n",
       "fS87s93szt6csJPJm3zfe/PeN2+BpFGjDw89YtflthKTPOwi5puLb5ENrdH8mleBLtLTzov98b0u\n",
       "gUnNhoxTCzR9VxLq5UEXdgk4zr8ux/isqsDcazFfoifrqQivILcBDAHXmP1mjDBTEpj+FvM6PWlH\n",
       "RbgHeAv0+P5yxRhhXmKeteTvD8+vVYTvPXTWkPeQplCy8RQeEJhUNWzNLfI8oCLcB3S6yBLbQr3+\n",
       "Jk54WmAyXJPhp6O+NduxQoeZS6jyMnmkGp8E7sQ3BwSGXWovcLdZCMwMWZvA0YCwUufxwYcYW5Rf\n",
       "OtAw9HZJYwzK1UeBKVBE90uo+NYjHt4Bh9QRFogmRSk3vdy5wLhXLp4LTJ72zgJLvvUE8BcYVxOe\n",
       "4ojWiLQRqslLFeErWBu+dQkaCeeCkjDN59RYFNU+mqb7njTTsOLFjmxtIb0mZZgh4XQrc9gFvYYU\n",
       "y+Ahydv6bGzyBf5qOz50QmDMBqx1tFUPgj395nyiVxWhMQubRMhX5CrFmnEMDtYspYXu5gSGdTCB\n",
       "bsexftGv3bglJBUjHCmXK0JlbS6nyuYU5N2MqPgNgTHoDJM/r3e4qFOIk48pQHxSES5vb5PLgqzv\n",
       "TM08RoBdyItbWHAF5otEpDzZVxYT2xdGgqtbGz/vTaPg9cqaOQLTE1y7cN9IIgxaidZ/+BHGisaZ\n",
       "hrTcFhhTduEHO40qkTDatsJNZ0pgLPmfsKskQrP1HaB5YWcNrDYXo9F3gw9aVRH+iGgd/2H8A2Bd\n",
       "qerF89IoAAAAAElFTkSuQmCC\n",
       "\" style=\"display:inline;vertical-align:middle;\" /></a></span></td></tr>\n",
       "<tr><td><a name=\"0x2027b5d20736ddfb_step1\">1</a></td><td>instantiation</td><td><a href=\"#0x2027b5d20736ddfb_step2\">2</a>, <a href=\"#0x2027b5d20736ddfb_step3\">3</a>, <a href=\"#0x2027b5d20736ddfb_step4\">4</a><sup>*</sup></td><td><span style=\"font-size:20px;\"> <a class=\"ProveItLink\" href=\"../../../__pv_it/_proof_tuple_len_2/2b175d1fab3e92df6a2a49179a1a624a36b3f2c80/proof.ipynb\" style=\"text-decoration: none\">&nbsp;&#x22A2;&nbsp;&nbsp;</a><a class=\"ProveItLink\" href=\"../../../__pv_it/theorems/da225c6c661db37f6d04398b29a7320d1bb59ad80/expr.ipynb\"><img src=\"data:image/png;base64,iVBORw0KGgoAAAANSUhEUgAAAGMAAAAVBAMAAACgbk16AAAAMFBMVEX///8AAAAAAAAAAAAAAAAA\n",
       "AAAAAAAAAAAAAAAAAAAAAAAAAAAAAAAAAAAAAAAAAAAv3aB7AAAAD3RSTlMAIolEdjJUEM2ZZu/d\n",
       "u6v6CvZmAAAACXBIWXMAAA7EAAAOxAGVKw4bAAABhElEQVQ4y4WTv0sCYRjHv/48NY0bHCuEWlqi\n",
       "vUWCGhrC/oJ+rAnd0BBE5hYFgTRlGDnaEBQEDRWJ0SZZ0NKUgVMEVpq52fPee6d38pQP3MO9n5fP\n",
       "Pfc89x5UiHDAHsZaBRfDep7uoq6oZZNVvBEL2biiNMMqjvRuzKBrto1tunwapwzCWTPogW2jQVcg\n",
       "xSmvwKVBT219/Ih8wSk3GqqqTr1JK3fmRd7hlHegGtOpX3Q/NBKW3FeZXQDG/phYSVJfll7nDC96\n",
       "y9jcUj6BXFvJFEXcS8NTlzRIT13PIiPpioZzYJmvEixL2jcOHAEFSfeBL2CeVw7RUa6h1CQtwEVj\n",
       "nmCVQBntF1PqCHyYn8VPY46zvSzBIYccikJpoD+5CDGAb9EXTrgqngjcmk6dVO4J8VRKadLqDc+U\n",
       "9zhlIJ3OSOqhj5eYnKvEUKQyiVEqgltOKbVaTYPemcyrmWc23+PwH7cPi3njz/ZQQubvt9o55j0U\n",
       "5cFYRU38+I8ypedwF3Wrls2u+AWBGV5qzPJPygAAAABJRU5ErkJggg==\n",
       "\" style=\"display:inline;vertical-align:middle;\" /></a></span></td></tr>\n",
       "<tr><td>&nbsp;</td><td colspan=4 style=\"text-align:left\"><span style=\"font-size:20px;\"><a class=\"ProveItLink\" href=\"../../../../../../__pv_it/common/ae955345c83abf786c3aff8681cd5465beae262d0/expr.ipynb\"><img src=\"data:image/png;base64,iVBORw0KGgoAAAANSUhEUgAAAAcAAAAOBAMAAAARcxsoAAAALVBMVEX///8AAAAAAAAAAAAAAAAA\n",
       "AAAAAAAAAAAAAAAAAAAAAAAAAAAAAAAAAAAAAADAOrOgAAAADnRSTlMAdpndiRBmRO8yVM2rIuws\n",
       "s0IAAAAJcEhZcwAADsQAAA7EAZUrDhsAAAA6SURBVAjXY2BgEGIAAhMGdMAqlMDAwMLewMAwi2kD\n",
       "A0MAhwBQcF0AkNjDCpR9zsLAwPngGpB7LIEBALAvCJF4nqyTAAAAAElFTkSuQmCC\n",
       "\" style=\"display:inline;vertical-align:middle;\" /></a> : <a class=\"ProveItLink\" href=\"../../../../__pv_it/common/682157d4892d216d9e5626ed533aff9b56b9506e0/expr.ipynb\"><img src=\"data:image/png;base64,iVBORw0KGgoAAAANSUhEUgAAAAgAAAAOBAMAAADgeEClAAAAJ1BMVEX///8AAAAAAAAAAAAAAAAA\n",
       "AAAAAAAAAAAAAAAAAAAAAAAAAAAAAAAilU6eAAAADHRSTlMAMt0Qq5nNdoki72YJhDyyAAAACXBI\n",
       "WXMAAA7EAAAOxAGVKw4bAAAAH0lEQVQI12NgYFRmYDAJO8zAwMBOMsFxkoGBxeuYNwB0KguGAVQB\n",
       "OAAAAABJRU5ErkJggg==\n",
       "\" style=\"display:inline;vertical-align:middle;\" /></a>, <a class=\"ProveItLink\" href=\"../../../../../../__pv_it/common/c06c606ec12678c58933ac85412ecadc2ae28be60/expr.ipynb\"><img src=\"data:image/png;base64,iVBORw0KGgoAAAANSUhEUgAAAAsAAAAJBAMAAAAWSsseAAAAMFBMVEX///8AAAAAAAAAAAAAAAAA\n",
       "AAAAAAAAAAAAAAAAAAAAAAAAAAAAAAAAAAAAAAAAAAAv3aB7AAAAD3RSTlMAIquJdkTvuxBmmd1U\n",
       "zTKBpmoTAAAACXBIWXMAAA7EAAAOxAGVKw4bAAAARUlEQVQI12NgYFR2dGBgYAgTYP/BwMCRycC1\n",
       "gYGB6wMDtwEDA1sBQ38AA0O/A8N8oIr+Awy6PAIM7A48u7iAKlXshPwYAE2lCqdX0eXEAAAAAElF\n",
       "TkSuQmCC\n",
       "\" style=\"display:inline;vertical-align:middle;\" /></a> : <a class=\"ProveItLink\" href=\"../../../../../number_sets/integers/__pv_it/theorems/034703c6972b772d60786b3024fb4de33deb9fd00/expr.ipynb\"><img src=\"data:image/png;base64,iVBORw0KGgoAAAANSUhEUgAAABcAAAAVBAMAAABfzGiYAAAAMFBMVEX///8AAAAAAAAAAAAAAAAA\n",
       "AAAAAAAAAAAAAAAAAAAAAAAAAAAAAAAAAAAAAAAAAAAv3aB7AAAAD3RSTlMAInZUiRDNmWbv3US7\n",
       "qzJazP2FAAAACXBIWXMAAA7EAAAOxAGVKw4bAAAAv0lEQVQY0z2PrwrCUBTGf9vUuTlkWRC2F5AF\n",
       "Me8FFB9A2IpgNBiMa0YXBYtgsA6bbfoEImI2m1bsnv3zwj3n+8H9vnMuYFOcoqleCee8DEuNGkEz\n",
       "rIA56FENGzBqjTFl9IdWxEqa8nQdaNxZCFxs6wvtkKME7tAPoMXsJTDD9KGb5WCkBAl04vxZ4LAV\n",
       "p3bgJuDx0mzaKWOwHO2ki9XnI2mPSX8AZoL5rjfoyahlDWu510orqZRZBVb+b8UpwYUf8dwgFnCe\n",
       "imQAAAAASUVORK5CYII=\n",
       "\" style=\"display:inline;vertical-align:middle;\" /></a>, <a class=\"ProveItLink\" href=\"../../../../../../__pv_it/common/195236b98c6c564a75b5dbada74b173bc52d5c3e0/expr.ipynb\"><img src=\"data:image/png;base64,iVBORw0KGgoAAAANSUhEUgAAAAkAAAAOBAMAAAAPuiubAAAAMFBMVEX///8AAAAAAAAAAAAAAAAA\n",
       "AAAAAAAAAAAAAAAAAAAAAAAAAAAAAAAAAAAAAAAAAAAv3aB7AAAAD3RSTlMAELvv3c2ZVESJq3Yi\n",
       "MmZ3LnoBAAAACXBIWXMAAA7EAAAOxAGVKw4bAAAAT0lEQVQI12NgVHZgAALWBBDJXwAi+wVA5BQQ\n",
       "wRC1ezkDA+NXAfkDDOwfGZg3MLAFMPBPYGCZwNBfAFKeL8DAf4HRjoGB6wET0AjGlXkMDAAVqA7Q\n",
       "GyenWgAAAABJRU5ErkJggg==\n",
       "\" style=\"display:inline;vertical-align:middle;\" /></a> : <a class=\"ProveItLink\" href=\"../../../../../../__pv_it/common/195236b98c6c564a75b5dbada74b173bc52d5c3e0/expr.ipynb\"><img src=\"data:image/png;base64,iVBORw0KGgoAAAANSUhEUgAAAAkAAAAOBAMAAAAPuiubAAAAMFBMVEX///8AAAAAAAAAAAAAAAAA\n",
       "AAAAAAAAAAAAAAAAAAAAAAAAAAAAAAAAAAAAAAAAAAAv3aB7AAAAD3RSTlMAELvv3c2ZVESJq3Yi\n",
       "MmZ3LnoBAAAACXBIWXMAAA7EAAAOxAGVKw4bAAAAT0lEQVQI12NgVHZgAALWBBDJXwAi+wVA5BQQ\n",
       "wRC1ezkDA+NXAfkDDOwfGZg3MLAFMPBPYGCZwNBfAFKeL8DAf4HRjoGB6wET0AjGlXkMDAAVqA7Q\n",
       "GyenWgAAAABJRU5ErkJggg==\n",
       "\" style=\"display:inline;vertical-align:middle;\" /></a></span></td></tr><tr><td><a name=\"0x2027b5d20736ddfb_step2\">2</a></td><td>axiom</td><td></td><td><span style=\"font-size:20px;\"> <a class=\"ProveItLink\" href=\"../../../../../../core_expr_types/tuples/_theory_nbs_/axioms.ipynb#tuple_len_incr\" style=\"text-decoration: none\">&nbsp;&#x22A2;&nbsp;&nbsp;</a><a class=\"ProveItLink\" href=\"../../../../../../core_expr_types/tuples/__pv_it/axioms/31e6c515c8bcc36197a8784e24d8800658bd23ba0/expr.ipynb\"><img src=\"data:image/png;base64,iVBORw0KGgoAAAANSUhEUgAAAbwAAAAWBAMAAABJbjTQAAAAMFBMVEX///8AAAAAAAAAAAAAAAAA\n",
       "AAAAAAAAAAAAAAAAAAAAAAAAAAAAAAAAAAAAAAAAAAAv3aB7AAAAD3RSTlMAq1RmmUTNIjK7EInv\n",
       "3XZ/CtNrAAAACXBIWXMAAA7EAAAOxAGVKw4bAAAFN0lEQVRYw81YYWgcRRR+t7d3t7d7dzkpCFIJ\n",
       "J2oNtYmHxkCK1INoCUr1sP7SUA4UpP3TDQiSquH0j/5Ik6CWNP6om/5QazR3sR4qxXIoIdVaOSVq\n",
       "SAlsVIgSAkehTTmhcd7M7N5cbrYX3T++kNk38+bte9+8NzNvD8CT1hfBB0XIHyUTfFNEaCWCJjK5\n",
       "6KYISr5c+g2MLD4TKf/wQja27H1bjEjpkKNTgiT275TD85a1JKXI3bnXJ7Qzl0jzuxweMQKJTOOY\n",
       "tkTG0lynBI/i2AtyeN6ylvQ+d0fP+Q3d8+Q/bEnhESMQLzYMTe2vkfYI1ynBa5in43J43rKW1Mfd\n",
       "UdN+4V0h/8GMFF6fwB/kzwTC6+Y6JQrSSMnhectaUpm7E/O979Bd+E4KryzwXSK8mMV0ShAkyxv2\n",
       "OFq8ZS23Xo67s8svPKOC7XMyeErOC144zXTI6Xhpefmi18npKWtFapG78zjm985VW5ANnh9ucQ+I\n",
       "88PtKyR/ZmXw0MhMnwyegYfiLIXQD/AuOQJMGTwm+w+Ey0fdwWUfMKM1Idvm4T3rpsps/gesUzii\n",
       "bwD0uPAOLCP96BgpDsjgBTGuPRTCIEQIVoOtV2ShBA8lXXhMtm3SDjtcPMXd+Yms3DegVkDv4aKP\n",
       "03AA9HO3eEJk8+E8691nwQ8Ae2TRI0a01H4ZPAV35R4KIWo5eqO3nYA7DEu1XHh12fZop8PEstyd\n",
       "OZJDVTy9R9e56EmAy6BSBB6JXRVPe+L+3wBjMnjEiI7YaUi/5yGl8LQqUB0CQbH56aH24yVuZ4x6\n",
       "crqybdIFGbzYOBQI28lF34J+FdqyketeL+HzOV2GELkaBjzggVKTRS+E0RtghVduH+mv8NKg4+5h\n",
       "AR6VwfS+z503Cmw9mc6u8Y2r3VixmpOzYMPD4MLTb0CwCkHLGx6bfyjpXHtqjSk37T00Ek5asuSs\n",
       "MIMI4VNyx8+0WTq9vzuM088K8FCm/6ptOEjqbJ0+Mcc4vMSSUyJFbe7OKeJuCm5VTOohcUW/AoHc\n",
       "PezAb95+OvD5x+wak1/HzQq9suihkUK2KDtaEEsvg/AKWadjnRCi9UUHZP4S4KFMzWhliNATlLJP\n",
       "/dFo5xEYIaaovXSQX0V4MlN3ZtELZUGli6lfo4A7M2QRjlusW8hBnaENnR85XWHDO+Adfr80wUMj\n",
       "Y5F0Izxjg18ZqIMQAnlqNHh4cvItAm86LMBDWSybSMLrSyzbCVvWqw1W5mDF2Qx5laeUVuHuHCfO\n",
       "t38x+CfLr2USj6m1N9rzbLmwG8d4LwBn4kvOfAwNnf4Z+v+zDB4aCTzQuPcCt1/bQV6TZTrOR49e\n",
       "y2tFFr1Q15YPooIZ3WvBksuaWrkhnzbg7Y8Ueoy3Qcwp4Ra5O/G8Mw/hKW46vggviV2Xdrs78ENB\n",
       "HqlIi7JFSdVC6VWuU3Lrmwy7wB8ENxaOLGaOHaTwpjkbzRJWL9KGPOa1q3uVu1Act3odA93cnWBG\n",
       "hGe4hcnJNx8TunVyb4RdqiCnhXkzvG5JSe3W2qjjRq/dhCGy0NovJgS2wAv1dZ0FhDeSYmw/sto8\n",
       "jJjavPY1PH3/WhpO0rEn3GIqanJ3JvjAy0dJgGfcM31zsyp066ngvmBqVZAPyb/3oh6/BNCvnKEt\n",
       "X+T6l5MnvL/WMTlZ5hmW7bAYd6ZbSQljODDO3TkjvsRudMNuciwhl0/I4ekeH2sU9kSLHxy+ElN7\n",
       "9GIKQmwrHN2sOCyhZ9jjlCWMIQ1Dgm67iO3/x4gEjVIi3yTwqM1Xuc763L+xEpSxaZn4f0P/ADQw\n",
       "jR6KJAN3AAAAAElFTkSuQmCC\n",
       "\" style=\"display:inline;vertical-align:middle;\" /></a></span></td></tr>\n",
       "<tr><td>&nbsp;</td><td colspan=4 style-\"text-align:left\"><a class=\"ProveItLink\" href=\"../../../../../../core_expr_types/tuples/_theory_nbs_/axioms.ipynb#tuple_len_incr\">proveit.core_expr_types.tuples.tuple_len_incr</a></td></tr><tr><td><a name=\"0x2027b5d20736ddfb_step3\">3</a></td><td>theorem</td><td></td><td><span style=\"font-size:20px;\"> <a class=\"ProveItLink\" href=\"../nat1/thm_proof.ipynb\" style=\"text-decoration: none\">&nbsp;&#x22A2;&nbsp;&nbsp;</a><a class=\"ProveItLink\" href=\"../../../__pv_it/theorems/646322292558586ba7863a63fdc6c166bd7a1aad0/expr.ipynb\"><img src=\"data:image/png;base64,iVBORw0KGgoAAAANSUhEUgAAADIAAAAQBAMAAACmdTG/AAAAMFBMVEX///8AAAAAAAAAAAAAAAAA\n",
       "AAAAAAAAAAAAAAAAAAAAAAAAAAAAAAAAAAAAAAAAAAAv3aB7AAAAD3RSTlMAMt0Qq5nNdoki72a7\n",
       "RFSRpcO+AAAACXBIWXMAAA7EAAAOxAGVKw4bAAAAt0lEQVQY02NgQAfM+meSGTjWr2VgYFRGk+J5\n",
       "cIWBwZ6BwSTsM5oMiybHBgYuIIMdQ+YNQyYDE7JMjZJSAlhmdsE0FJlrxTA9ExzZG5BkOJPhpk3g\n",
       "YTiLJMM2ASHDGGBkhCSDcMEEhn18pxAyUkpAcAAqw2LghZCxQdbD7IBkGhOyDIM4D0KGvQAeOgJA\n",
       "ngyQwfETIpAHk2F7ACTCgHq9vnmDBUzOGoBpxvw1QNIMObxuHIKEDhQAAORrK82gq3UjAAAAAElF\n",
       "TkSuQmCC\n",
       "\" style=\"display:inline;vertical-align:middle;\" /></a></span></td></tr>\n",
       "<tr><td>&nbsp;</td><td colspan=4 style-\"text-align:left\"><a class=\"ProveItLink\" href=\"../nat1/thm_proof.ipynb\">proveit.numbers.numerals.decimals.nat1</a></td></tr><tr><td><a name=\"0x2027b5d20736ddfb_step4\">4</a></td><td>conjecture</td><td></td><td><span style=\"font-size:20px;\"> <a class=\"ProveItLink\" href=\"../add_1_1/thm_proof.ipynb\" style=\"text-decoration: none\">&nbsp;&#x22A2;&nbsp;&nbsp;</a><a class=\"ProveItLink\" href=\"../../../__pv_it/theorems/e4f155feff3a69c50e056f9ebb70a709bdfc1a520/expr.ipynb\"><img src=\"data:image/png;base64,iVBORw0KGgoAAAANSUhEUgAAAGEAAAAVBAMAAACkm51HAAAAMFBMVEX///8AAAAAAAAAAAAAAAAA\n",
       "AAAAAAAAAAAAAAAAAAAAAAAAAAAAAAAAAAAAAAAAAAAv3aB7AAAAD3RSTlMAInZUiRDNmWbv3US7\n",
       "qzJazP2FAAAACXBIWXMAAA7EAAAOxAGVKw4bAAABKUlEQVQ4y2NgYBBgwA5wiTMwGeCQ2IRLhwkQ\n",
       "vwpAE+RbCjSqAV0pY3nOAwYG1gQG1uv5aDpiy74CyVR0HTIMLL8ZGNhBJunDdOyAORWkox1dx0UG\n",
       "hpkMDJwMyDqMkHVwort1fgDDfQEGM9w62NA9couB4f4DhhLcOlguYIbTegaGDNw6OBJATPZVYADR\n",
       "zfeJgWExbh3MEzCs4AJqnI3QUbVq1cxVq9bCdfB9wNBRw4CiA90Obgw7OEBuw+eqBej+MGFgFGA4\n",
       "hMfnB9DTjgMDUwCDL4jpL4Cmg+UjyHQHNB1S5eVVwEQIZN2dn9uAooP35rcbwIDZgB4Z//9/Awo/\n",
       "QBYzQjESe2LnKEDm7UDmVODIHwdxZRzGAzgkYnDp4MGVbRkVcEgoYhcGAOx8Uq6oNAsNAAAAAElF\n",
       "TkSuQmCC\n",
       "\" style=\"display:inline;vertical-align:middle;\" /></a></span></td></tr>\n",
       "<tr><td>&nbsp;</td><td colspan=4 style-\"text-align:left\"><a class=\"ProveItLink\" href=\"../add_1_1/thm_proof.ipynb\">proveit.numbers.numerals.decimals.add_1_1</a></td></tr><tr><td colspan=4 style=\"text-align:left\"><sup>*</sup>equality replacement requirements</td></tr></table>"
      ],
      "text/plain": [
       "\tstep type\trequirements\tstatement\n",
       "0\tgeneralization\t1\t|- forall_{a, b} (|(a, b)| = 2)\n",
       "1\tinstantiation\t2, 3, 4*\t|- |(a, b)| = 2\n",
       "\ti : 1, a : (a), b : b\n",
       "2\taxiom\t\t|- forall_{i in Natural} [forall_{a_{1}, a_{2}, ..., a_{i}, b} (|(a_{1}, a_{2}, ..., a_{i}, b)| = (i + 1))]\n",
       "\tproveit.core_expr_types.tuples.tuple_len_incr\n",
       "3\ttheorem\t\t|- 1 in Natural\n",
       "\tproveit.numbers.numerals.decimals.nat1\n",
       "4\tconjecture\t\t|- (1 + 1) = 2\n",
       "\tproveit.numbers.numerals.decimals.add_1_1"
      ]
     },
     "execution_count": 5,
     "metadata": {},
     "output_type": "execute_result"
    }
   ],
   "source": [
    "%qed"
   ]
  },
  {
   "cell_type": "code",
   "execution_count": null,
   "metadata": {},
   "outputs": [],
   "source": []
  }
 ],
 "metadata": {
  "kernelspec": {
   "display_name": "Python 3",
   "language": "python",
   "name": "python3"
  }
 },
 "nbformat": 4,
 "nbformat_minor": 0
}