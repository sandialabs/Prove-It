{
 "cells": [
  {
   "cell_type": "markdown",
   "metadata": {},
   "source": [
    "Proof of <a class=\"ProveItLink\" href=\"../../../../../../_theory_nbs_/theory.ipynb\">proveit</a>.<a class=\"ProveItLink\" href=\"../../../../../_theory_nbs_/theory.ipynb\">numbers</a>.<a class=\"ProveItLink\" href=\"../../../../_theory_nbs_/theory.ipynb\">numerals</a>.<a class=\"ProveItLink\" href=\"../../theory.ipynb\">decimals</a>.<a class=\"ProveItLink\" href=\"../../theorems.ipynb#mult_9_1\">mult_9_1</a> theorem\n",
    "========"
   ]
  },
  {
   "cell_type": "code",
   "execution_count": 1,
   "metadata": {},
   "outputs": [],
   "source": [
    "import proveit\n",
    "theory = proveit.Theory() # the theorem's theory"
   ]
  },
  {
   "cell_type": "code",
   "execution_count": 2,
   "metadata": {},
   "outputs": [
    {
     "data": {
      "text/html": [
       "With these <a href=\"allowed_presumptions.txt\">allowed</a>/<a href=\"disallowed_presumptions.txt\">disallowed</a> theorem/theory presumptions (e.g., to avoid circular dependencies), we begin our proof of<br><strong id=\"mult_9_1\">mult_9_1:</strong> <a class=\"ProveItLink\" href=\"../../../__pv_it/theorems/036a4961ade0765090fbc0b6a82f80620676a3ad0/expr.ipynb\"><img src=\"data:image/png;base64,iVBORw0KGgoAAAANSUhEUgAAAFcAAAAVBAMAAADBdm84AAAAMFBMVEX///8AAAAAAAAAAAAAAAAA\n",
       "AAAAAAAAAAAAAAAAAAAAAAAAAAAAAAAAAAAAAAAAAAAv3aB7AAAAD3RSTlMAInZUiRDNmWbv3US7\n",
       "qzJazP2FAAAACXBIWXMAAA7EAAAOxAGVKw4bAAABUUlEQVQoz2NgYBBgwABYhCCAyQBTbBMuxSYM\n",
       "DOzlVxF8vqVAAxowlJXXBjAwsCYwsC5ieAm3OLbsK5BMRVcbpcA3EWhqAwPvBAaeAwhngRS3oyu+\n",
       "ycBwhoGBk4GBP4GB5SuqYs4ANMXfGBj8AxjMGBjiDzAw/UZVzIbmaNY/DAz6GxhKICb/QFXMcgGL\n",
       "yQ0MGQxgN39CVcyRAGJWrQKBtVA3n1dgWAy0YzbD28+oipknoJkcuYHvvgHDbCArXMXoH5CKT4Ar\n",
       "5vuAppi1yFn/AVgxAyQ0uArgirknYMYeMDQWgxno4cy8AM3NDOBwPgSUmcoQ/wDNgwfQjLUMYAW6\n",
       "1BcovZThBEKY5SOQYHdAU6wVwAMM+ldAlkv5Brgo781vN4DO34CmmMW9GuSrB9iSohT2FMpRgE20\n",
       "Akd6PohFjPEADsUxWMR4cOUrRgVMMUXsSgEMCFc4wF0HVgAAAABJRU5ErkJggg==\n",
       "\" style=\"display:inline;vertical-align:middle;\" /></a><br>(see <a class=\"ProveItLink\" href=\"../../../__pv_it/theorems/bd56db24a54a97703aff88812ae772107f18c44d0/dependencies.ipynb\">dependencies</a>)<br>"
      ],
      "text/plain": [
       "<IPython.core.display.HTML object>"
      ]
     },
     "metadata": {},
     "output_type": "display_data"
    },
    {
     "name": "stdout",
     "output_type": "stream",
     "text": [
      "mult_9_1 may now be readily provable (assuming required theorems are usable).  Simply execute \"%qed\".\n"
     ]
    }
   ],
   "source": [
    "%proving mult_9_1"
   ]
  },
  {
   "cell_type": "code",
   "execution_count": null,
   "metadata": {},
   "outputs": [],
   "source": []
  }
 ],
 "metadata": {
  "kernelspec": {
   "display_name": "Python 3",
   "language": "python",
   "name": "python3"
  }
 },
 "nbformat": 4,
 "nbformat_minor": 0
}