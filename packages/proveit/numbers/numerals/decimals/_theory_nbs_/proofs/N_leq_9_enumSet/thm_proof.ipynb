{
 "cells": [
  {
   "cell_type": "markdown",
   "metadata": {},
   "source": [
    "Proof of <a class=\"ProveItLink\" href=\"../../../../../../_theory_nbs_/theory.ipynb\">proveit</a>.<a class=\"ProveItLink\" href=\"../../../../../_theory_nbs_/theory.ipynb\">numbers</a>.<a class=\"ProveItLink\" href=\"../../../../_theory_nbs_/theory.ipynb\">numerals</a>.<a class=\"ProveItLink\" href=\"../../theory.ipynb\">decimals</a>.<a class=\"ProveItLink\" href=\"../../theorems.ipynb#N_leq_9_enumSet\">N_leq_9_enumSet</a> theorem\n",
    "========"
   ]
  },
  {
   "cell_type": "code",
   "execution_count": 1,
   "metadata": {},
   "outputs": [],
   "source": [
    "import proveit\n",
    "theory = proveit.Theory() # the theorem's theory"
   ]
  },
  {
   "cell_type": "code",
   "execution_count": 2,
   "metadata": {},
   "outputs": [
    {
     "data": {
      "text/html": [
       "With these <a href=\"allowed_presumptions.txt\">allowed</a>/<a href=\"disallowed_presumptions.txt\">disallowed</a> theorem/theory presumptions (e.g., to avoid circular dependencies), we begin our proof of<br><strong id=\"N_leq_9_enumSet\">N_leq_9_enumSet:</strong> <a class=\"ProveItLink\" href=\"../../../__pv_it/theorems/ace0ec6844d4626ccd240170c311a5fd30b1234d0/expr.ipynb\"><img src=\"data:image/png;base64,iVBORw0KGgoAAAANSUhEUgAAAQ8AAAAYBAMAAAAWpWWaAAAAMFBMVEX///8AAAAAAAAAAAAAAAAA\n",
       "AAAAAAAAAAAAAAAAAAAAAAAAAAAAAAAAAAAAAAAAAAAv3aB7AAAAD3RSTlMAEN27zYnvRFSrImZ2\n",
       "MpmnAiL6AAAACXBIWXMAAA7EAAAOxAGVKw4bAAAD5klEQVRIx8WWX2gURxzHv5vLent/NlmkFMWS\n",
       "u/ggLQhu/IcixYMW0r5tlQi2KieI2vqQU0TxySvBFxEuStVEW10qCEVJDnyMtAft+aY9sBWkKtGI\n",
       "YAunxhjFVNaZ+c1Mwl68nIJk4Ha/N/P7zXz29/vN7AJTWo+Pchmz33pKiHlW76xzXCoCrRXjyWxz\n",
       "/J5nl0Efz2tGjP3vd+X4YX6d+3S5gw3juRucA3Ny9kSN4R+732H2Cgw/1HXBeYPtzQ5+XRXthfEY\n",
       "1gpuFu1Y8CJsZvFkmZv+lX/tdvUg1c8qUnWN5JT1HXnv/nyhXNfs2kyiEARBlmLctUU6tFSPsutq\n",
       "Lo/53wBsPCpI5lVehkHMNLt8gbn0gPPvqyI6B1OmsQ2Wxv9E3heNfiUpO3GM1Ppq9V6elgf6iGgx\n",
       "brB513Hd5zb74GvZZ3zYTjQ9HUgiDdOlv0kFcgrYTurPvDEmO5MKRG++5hKWkfKAAVJDwAdCxLKI\n",
       "uBLk1OV4RoAg3u9Eis2V6UAivZShqSDdDs5SlPbloED++TIMUtCVkde9GxVIawbmEwUSq5QJBHFE\n",
       "hzZjOpDWYdgvQiAs4GcVtaVK3KsBWTl1Kmlf6MB/QqRcJJ8rELiRXLpO/XOQFAOZCIGwtkSJPUU5\n",
       "6CuQ0+WfSGz7+5qu5HPyHguu5XVEJjTIHaM9DHJvIW+U75YMO1882P/XgKgu3OqXj3oBCqQDg7T+\n",
       "WBE7lcNJJR6N+rpG2CRXCCSR78ni+jLW/Okicr5IIM9qQJp0/NWu8TQIqyvxdEYAPJBlEs8q86/X\n",
       "koOxAzeZGsxT8R+NZd+cmV86eS49RGsjMjJp1S3WSvhTQFrEQWCMAr/J3JgZOfQrrHGCaysfecWM\n",
       "fsgLkPlGnRqxRxxRrFa4WJFQAbkNrBU5vwgFEsmg5RWlhoHICmqSJwC2yiAIOjaf2UkRsUtunRph\n",
       "W5dv9kR4++IQ4pTLwJEgB/r7x4+LrjlpxB4LtXQyIilJzg5yxIoqg67c4p+y31V3hl2TyPKadRSI\n",
       "IULlIekI9S1PjUHWTHMzk7G4QhVYjZADDg5L1+/Y+j5X1lakWJ1vgDi8aWPUBcHH+LBCx6fJUp/i\n",
       "9j+zE5vUED9HUjTHUwiz+DCuOEJFPGOnHCx40nWvg8tCJduxBrR9/xpn0TBmBGnbxI4F/hqLnRg7\n",
       "jSb+4lsSBGOkolX20hMKI8GPwgwDD++SA7Y8rMjB8yx/QtlnqtKhq5qTIDM3U1eypU/r71FHTZo1\n",
       "6PDWIKbu8+qpSbMGHRoESepD5iP9zVaqp7RZow6439iXnP7W0J5J1FMlvKWDsauxr76Bvvf8zbqR\n",
       "FfFrtC0XIh6s2sMAAAAASUVORK5CYII=\n",
       "\" style=\"display:inline;vertical-align:middle;\" /></a><br>(see <a class=\"ProveItLink\" href=\"../../../__pv_it/theorems/2d84bf844e651596ef4c0343d7a22632eb89c1360/dependencies.ipynb\">dependencies</a>)<br>"
      ],
      "text/plain": [
       "<IPython.core.display.HTML object>"
      ]
     },
     "metadata": {},
     "output_type": "display_data"
    }
   ],
   "source": [
    "%proving N_leq_9_enumSet"
   ]
  },
  {
   "cell_type": "code",
   "execution_count": null,
   "metadata": {},
   "outputs": [],
   "source": []
  }
 ],
 "metadata": {
  "kernelspec": {
   "display_name": "Python 3",
   "language": "python",
   "name": "python3"
  }
 },
 "nbformat": 4,
 "nbformat_minor": 0
}