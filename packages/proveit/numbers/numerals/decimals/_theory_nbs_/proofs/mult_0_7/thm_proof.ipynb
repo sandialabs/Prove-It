{
 "cells": [
  {
   "cell_type": "markdown",
   "metadata": {},
   "source": [
    "Proof of <a class=\"ProveItLink\" href=\"../../../../../../_theory_nbs_/theory.ipynb\">proveit</a>.<a class=\"ProveItLink\" href=\"../../../../../_theory_nbs_/theory.ipynb\">numbers</a>.<a class=\"ProveItLink\" href=\"../../../../_theory_nbs_/theory.ipynb\">numerals</a>.<a class=\"ProveItLink\" href=\"../../theory.ipynb\">decimals</a>.<a class=\"ProveItLink\" href=\"../../theorems.ipynb#mult_0_7\">mult_0_7</a> theorem\n",
    "========"
   ]
  },
  {
   "cell_type": "code",
   "execution_count": 1,
   "metadata": {},
   "outputs": [],
   "source": [
    "import proveit\n",
    "theory = proveit.Theory() # the theorem's theory"
   ]
  },
  {
   "cell_type": "code",
   "execution_count": 2,
   "metadata": {},
   "outputs": [
    {
     "data": {
      "text/html": [
       "With these <a href=\"allowed_presumptions.txt\">allowed</a>/<a href=\"disallowed_presumptions.txt\">disallowed</a> theorem/theory presumptions (e.g., to avoid circular dependencies), we begin our proof of<br><strong id=\"mult_0_7\">mult_0_7:</strong> <a class=\"ProveItLink\" href=\"../../../__pv_it/theorems/eaad2f06df7a3cef058fb778607c65a9d0f118200/expr.ipynb\"><img src=\"data:image/png;base64,iVBORw0KGgoAAAANSUhEUgAAAFcAAAAVBAMAAADBdm84AAAAMFBMVEX///8AAAAAAAAAAAAAAAAA\n",
       "AAAAAAAAAAAAAAAAAAAAAAAAAAAAAAAAAAAAAAAAAAAv3aB7AAAAD3RSTlMAInZUiRDNmWbv3US7\n",
       "qzJazP2FAAAACXBIWXMAAA7EAAAOxAGVKw4bAAABcklEQVQoz3WTv0vDQBTHv2kSE9NS3fyBYJyc\n",
       "hAzi2lAcFbKJIqQggmOFYqVTN9HF7IJUugmC+A80OitkF6Szi6IV3ep7LU3I5XKQ4903n3zvvcs7\n",
       "ALPIDIk0HgUntZz3aHrIg9cBrXocLyvD4TAotDPY5iptp9eAA+zFG281my0HhyI75eg3gNGG2YEW\n",
       "TlQXmAPORPiCbIBpoBRB/ZmoVEFEqifAL5Sghw1gpo7yd6JrfdpVTPoX+HDQAHyC/xJ9iT+I0qzO\n",
       "cBtHwLKL8lfy4pUes8ZR65bHHUXKgGAb3TE8iFkloEkN0s4j2MUVpeGiyM7+yE7jufwppEFwz2aY\n",
       "ClS5QKvOusWnWAyyBVYcTqMUwoyPDj7XpnbSOeMZuPTwRNUEMGox3GN/MxScz4ETYJuiLnb7SXPQ\n",
       "P4ThCrDl6NfAO0U71bdEXuAutO4FWG+skZ/Vl7XiorxDzbpMPc3p50eJpoQ58L5EK+XdK8XOaity\n",
       "9B/iv1TiAh6znQAAAABJRU5ErkJggg==\n",
       "\" style=\"display:inline;vertical-align:middle;\" /></a><br>(see <a class=\"ProveItLink\" href=\"../../../__pv_it/theorems/a42f0b65f244f03ffd074efea5de001eec483fae0/dependencies.ipynb\">dependencies</a>)<br>"
      ],
      "text/plain": [
       "<IPython.core.display.HTML object>"
      ]
     },
     "metadata": {},
     "output_type": "display_data"
    },
    {
     "name": "stdout",
     "output_type": "stream",
     "text": [
      "mult_0_7 may now be readily provable (assuming required theorems are usable).  Simply execute \"%qed\".\n"
     ]
    }
   ],
   "source": [
    "%proving mult_0_7"
   ]
  },
  {
   "cell_type": "code",
   "execution_count": null,
   "metadata": {},
   "outputs": [],
   "source": []
  }
 ],
 "metadata": {
  "kernelspec": {
   "display_name": "Python 3",
   "language": "python",
   "name": "python3"
  }
 },
 "nbformat": 4,
 "nbformat_minor": 0
}