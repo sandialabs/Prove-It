{
 "cells": [
  {
   "cell_type": "markdown",
   "metadata": {},
   "source": [
    "Proof of <a class=\"ProveItLink\" href=\"../../../../../../_theory_nbs_/theory.ipynb\">proveit</a>.<a class=\"ProveItLink\" href=\"../../../../../_theory_nbs_/theory.ipynb\">numbers</a>.<a class=\"ProveItLink\" href=\"../../../../_theory_nbs_/theory.ipynb\">numerals</a>.<a class=\"ProveItLink\" href=\"../../theory.ipynb\">decimals</a>.<a class=\"ProveItLink\" href=\"../../theorems.ipynb#mult_8_4\">mult_8_4</a> theorem\n",
    "========"
   ]
  },
  {
   "cell_type": "code",
   "execution_count": 1,
   "metadata": {},
   "outputs": [],
   "source": [
    "import proveit\n",
    "theory = proveit.Theory() # the theorem's theory"
   ]
  },
  {
   "cell_type": "code",
   "execution_count": 2,
   "metadata": {},
   "outputs": [
    {
     "data": {
      "text/html": [
       "With these <a href=\"allowed_presumptions.txt\">allowed</a>/<a href=\"disallowed_presumptions.txt\">disallowed</a> theorem/theory presumptions (e.g., to avoid circular dependencies), we begin our proof of<br><strong id=\"mult_8_4\">mult_8_4:</strong> <a class=\"ProveItLink\" href=\"../../../__pv_it/theorems/c847c883c9d5480d8bb596b9feea6bf5ef8dd1460/expr.ipynb\"><img src=\"data:image/png;base64,iVBORw0KGgoAAAANSUhEUgAAAGEAAAAVBAMAAACkm51HAAAAMFBMVEX///8AAAAAAAAAAAAAAAAA\n",
       "AAAAAAAAAAAAAAAAAAAAAAAAAAAAAAAAAAAAAAAAAAAv3aB7AAAAD3RSTlMAInZUiRDNmWbv3US7\n",
       "qzJazP2FAAAACXBIWXMAAA7EAAAOxAGVKw4bAAABl0lEQVQ4y32Tv0vDQBTHv2lSk7ZaO5cO6epi\n",
       "h+Jqh65CBsFFqEvBwSGgEKkd4qKOLg4iRcVNkBY3nVr/gdZNhJLgKCjSQhFU4rujmnAJectx37vP\n",
       "+3XvAOQQsggpYIlSWLuNJcrAanUvIGRNJGzxllRtdiBZWy6Q3ABMzAUCpQdAXSTWII9RgPIFqDY0\n",
       "m3N/tkDEoUgslpITPAKnQApQBkEie0BEyhCIuw4mODfg5LAEyN+G6ieuzBAxEyoE8ieeAcfFDm2c\n",
       "0bZ/UmQEhRXtnjtpA5u0qN6l3xSbERrPsnHN7IbrL0OXpTwCrliDC95/rxQwQj4OZzWe9vGMHJpY\n",
       "PqFtjTne50T2I/xwVDea4AQ1RuIOTEpK50RGjPEO9EvQWHmUVY2Wp+lJZjh0WhXIF0IdnsGIMqQc\n",
       "HigGDV7Pd5dilXeFGC2WVbaChIEV8luHpvuH83RbrQjEEXuPvGU1gFfavlmBSVT7PzrSHYHIWDSJ\n",
       "bc+bULlu1EDnY4adWhthu3H/oxehSd04Yj1Cm439tpIe1oox938BB5tqaTIipZYAAAAASUVORK5C\n",
       "YII=\n",
       "\" style=\"display:inline;vertical-align:middle;\" /></a><br>(see <a class=\"ProveItLink\" href=\"../../../__pv_it/theorems/8c76772ba4ffc9bb66c73aff3d6d34bd60f141df0/dependencies.ipynb\">dependencies</a>)<br>"
      ],
      "text/plain": [
       "<IPython.core.display.HTML object>"
      ]
     },
     "metadata": {},
     "output_type": "display_data"
    },
    {
     "name": "stdout",
     "output_type": "stream",
     "text": [
      "mult_8_4 may now be readily provable (assuming required theorems are usable).  Simply execute \"%qed\".\n"
     ]
    }
   ],
   "source": [
    "%proving mult_8_4"
   ]
  },
  {
   "cell_type": "code",
   "execution_count": null,
   "metadata": {},
   "outputs": [],
   "source": []
  }
 ],
 "metadata": {
  "kernelspec": {
   "display_name": "Python 3",
   "language": "python",
   "name": "python3"
  }
 },
 "nbformat": 4,
 "nbformat_minor": 0
}