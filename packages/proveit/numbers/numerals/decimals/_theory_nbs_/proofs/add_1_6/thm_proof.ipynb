{
 "cells": [
  {
   "cell_type": "markdown",
   "metadata": {},
   "source": [
    "Proof of <a class=\"ProveItLink\" href=\"../../../../../../_theory_nbs_/theory.ipynb\">proveit</a>.<a class=\"ProveItLink\" href=\"../../../../../_theory_nbs_/theory.ipynb\">numbers</a>.<a class=\"ProveItLink\" href=\"../../../../_theory_nbs_/theory.ipynb\">numerals</a>.<a class=\"ProveItLink\" href=\"../../theory.ipynb\">decimals</a>.<a class=\"ProveItLink\" href=\"../../theorems.ipynb#add_1_6\">add_1_6</a> theorem\n",
    "========"
   ]
  },
  {
   "cell_type": "code",
   "execution_count": 1,
   "metadata": {},
   "outputs": [],
   "source": [
    "import proveit\n",
    "theory = proveit.Theory() # the theorem's theory"
   ]
  },
  {
   "cell_type": "code",
   "execution_count": 2,
   "metadata": {},
   "outputs": [
    {
     "data": {
      "text/html": [
       "With these <a href=\"allowed_presumptions.txt\">allowed</a>/<a href=\"disallowed_presumptions.txt\">disallowed</a> theorem/theory presumptions (e.g., to avoid circular dependencies), we begin our proof of<br><strong id=\"add_1_6\">add_1_6:</strong> <a class=\"ProveItLink\" href=\"../../../__pv_it/theorems/1ede852f366bfb24fa40645b7110d28e901e0e0c0/expr.ipynb\"><img src=\"data:image/png;base64,iVBORw0KGgoAAAANSUhEUgAAAGIAAAAVBAMAAABPrCZEAAAAMFBMVEX///8AAAAAAAAAAAAAAAAA\n",
       "AAAAAAAAAAAAAAAAAAAAAAAAAAAAAAAAAAAAAAAAAAAv3aB7AAAAD3RSTlMAInZUiRDNmWbv3US7\n",
       "qzJazP2FAAAACXBIWXMAAA7EAAAOxAGVKw4bAAABUElEQVQ4y2NgYBBgwA5wiTMwGeCQ2IQhIhEA\n",
       "pkyA+FUAmhyLix8DUwO6Dvv///9PYGBNYGC9no+mgzGb4RYDQyq6Dp/y8ioDBnaQSfowHTsgFJsC\n",
       "wxkGhnZ0HQ4MDOIMDJwMyDqMoNaD+ZzobgX6+AIDgxk2HSchNmF4hIHlAQNDCTYd056obwBKX8DQ\n",
       "IQPEGdh0fGtgmMzAwJEAYrOvAgOI7ttAvBiLDtb/DAyVAQzME9CtYASJzEboqFq1auaqVWuBOn4x\n",
       "MPRvYOD7gOGNBFQdSK4C6mhg4Mawg+sADlcxnALbwbwA3R/xIPIQ1vgA+gPo8wPoduwvABK+IJa/\n",
       "AKoOHgdWYFixO2AkLJDIKyC+Oz+3AUUHg3stMKq4NqDrkASlc64HyEJGyBwp7LmAowCZtwOZU4Ej\n",
       "4xzEldUYD+CQiMGlgwdXtmVUwCGhiF0YAITZUkUG10fHAAAAAElFTkSuQmCC\n",
       "\" style=\"display:inline;vertical-align:middle;\" /></a><br>(see <a class=\"ProveItLink\" href=\"../../../__pv_it/theorems/09fd667ce0339f9358616b0cbfd9cf960fdac1070/dependencies.ipynb\">dependencies</a>)<br>"
      ],
      "text/plain": [
       "<IPython.core.display.HTML object>"
      ]
     },
     "metadata": {},
     "output_type": "display_data"
    },
    {
     "name": "stdout",
     "output_type": "stream",
     "text": [
      "add_1_6 may now be readily provable (assuming required theorems are usable).  Simply execute \"%qed\".\n"
     ]
    }
   ],
   "source": [
    "%proving add_1_6"
   ]
  },
  {
   "cell_type": "code",
   "execution_count": null,
   "metadata": {},
   "outputs": [],
   "source": []
  }
 ],
 "metadata": {
  "kernelspec": {
   "display_name": "Python 3",
   "language": "python",
   "name": "python3"
  }
 },
 "nbformat": 4,
 "nbformat_minor": 0
}