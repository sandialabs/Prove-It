{
 "cells": [
  {
   "cell_type": "markdown",
   "metadata": {},
   "source": [
    "Proof of <a class=\"ProveItLink\" href=\"../../../../../../_theory_nbs_/theory.ipynb\">proveit</a>.<a class=\"ProveItLink\" href=\"../../../../../_theory_nbs_/theory.ipynb\">numbers</a>.<a class=\"ProveItLink\" href=\"../../../../_theory_nbs_/theory.ipynb\">numerals</a>.<a class=\"ProveItLink\" href=\"../../theory.ipynb\">decimals</a>.<a class=\"ProveItLink\" href=\"../../theorems.ipynb#count_to_8_range\">count_to_8_range</a> theorem\n",
    "========"
   ]
  },
  {
   "cell_type": "code",
   "execution_count": 1,
   "metadata": {},
   "outputs": [],
   "source": [
    "import proveit\n",
    "theory = proveit.Theory() # the theorem's theory"
   ]
  },
  {
   "cell_type": "code",
   "execution_count": 2,
   "metadata": {},
   "outputs": [
    {
     "data": {
      "text/html": [
       "With these <a href=\"allowed_presumptions.txt\">allowed</a>/<a href=\"disallowed_presumptions.txt\">disallowed</a> theorem/theory presumptions (e.g., to avoid circular dependencies), we begin our proof of<br><strong id=\"count_to_8_range\">count_to_8_range:</strong> <a class=\"ProveItLink\" href=\"../../../__pv_it/theorems/67f221b25deadfd729e3303146e34cc8f80418d00/expr.ipynb\"><img src=\"data:image/png;base64,iVBORw0KGgoAAAANSUhEUgAAASEAAAAVBAMAAAD7r0UnAAAAMFBMVEX///8AAAAAAAAAAAAAAAAA\n",
       "AAAAAAAAAAAAAAAAAAAAAAAAAAAAAAAAAAAAAAAAAAAv3aB7AAAAD3RSTlMAInZUiRDNmWbv3US7\n",
       "qzJazP2FAAAACXBIWXMAAA7EAAAOxAGVKw4bAAADfElEQVRIx62WTWgTQRTH/8nuNsk2SYMHq0Vo\n",
       "ioLopTlUr40S8WJx8aAISoKg9OBHD2pKrRg9WI/x4EGkJCAiFrTBg6AXo9hzIx5albTFYw/SKhat\n",
       "aJydr/2YJFjogyZvZ9/83j/z3swUQAKbZs1QgQ0Dgqn/DV+C4U+5zfI8Pm8ya+dGFFHAAPlb5uBA\n",
       "/vwS9zLjFREWH2HfpXNTQkAmw+IGG41GkXpG5nAFwYKSQ0sTwCP4+apJgJGDMXeJZ9oB/TfzTkD7\n",
       "LmLNGvt+sn6Ij2ytxMrUOZLPj7E1DgEfgLNKouPA6as/4OerJgEh+2f1c0XvgfvM608ZayJ2L1dU\n",
       "k7PPIFqlDlmAbjZ0hyafUBKN2o0hFDl81SQgApeikoVF1iovKxCK4rf9ijSRASk5OkSBEcufqOhW\n",
       "5PBVk4D9bkWfgEVRaO0nd/QOv6Jo0QHpPH5wxl6ODn8jaTm3IjffbxJw2a2I2LRwXgl4n1A0v2uB\n",
       "OZGLB69BtgazWGM3WTC95u+OtFuRm+83CRj2Kop/486Xuth1BaFoBr1s/3UNIyLOjM9i5o11Uo+w\n",
       "vSQYm7Ltqe3SRXMpknzVBOChV5HpNAvfazo6nHKxHZZdQege1ysKqB2YJRO0oi+NmfIqMmutBEnA\n",
       "A6+icSekxAZvuhSFVpmiMsJ8F+s5/moC2i8L8RVfnkjFq2i85RJJgFdRWCT/CszSwgSSQlE0h9Bf\n",
       "VrUcwrzvzSqfQNasN4XOYntF4ZZL5AC8VRtAgO3OhsUVddbri5NpCi8jtiKKJ9Yoy1MY5E2sAK3s\n",
       "6yNf1SRfPbIl4K1QZIuKpxG0DHtk0q6awX9nDQZtKESqNEwjfVSkHl6TG4aG3SVCEwhXfYmiSa6I\n",
       "Bjl8r1luwJA9cjQBekT3kEsB2Rw9Qcl5lGVN0lWlXmAEeyx2kr/DSX6mD5Llo2EvLNzim91t9DjQ\n",
       "V3mQ5NPJ9EM+ScAyeaiXLhRg36LTjcYaTPte7MyTm5Z6CM3+SVKv+/oV0DDo+QXubSdVoS/jc3nS\n",
       "MmbFpyhOyhj7uDbPghz+Y/AP077GbZQEmPKMlvttH9p4TlizCT1KQZ61o6ooAgiPiPWV79PtPCes\n",
       "2YTRJpu6DVVF2YA33D8muz7ZzpNhzSYEqkqyaKI1S0VRwCn+IOOCaOclVS+opHfv6mprloqigEBy\n",
       "8/7P7msytmWDgH+H8gxVe1/IIQAAAABJRU5ErkJggg==\n",
       "\" style=\"display:inline;vertical-align:middle;\" /></a><br>(see <a class=\"ProveItLink\" href=\"../../../__pv_it/theorems/930eaa9c2c1c480f40a87adac05e59b793557ecb0/dependencies.ipynb\">dependencies</a>)<br>"
      ],
      "text/plain": [
       "<IPython.core.display.HTML object>"
      ]
     },
     "metadata": {},
     "output_type": "display_data"
    }
   ],
   "source": [
    "%proving count_to_8_range"
   ]
  },
  {
   "cell_type": "code",
   "execution_count": null,
   "metadata": {},
   "outputs": [],
   "source": []
  }
 ],
 "metadata": {
  "kernelspec": {
   "display_name": "Python 3",
   "language": "python",
   "name": "python3"
  }
 },
 "nbformat": 4,
 "nbformat_minor": 0
}