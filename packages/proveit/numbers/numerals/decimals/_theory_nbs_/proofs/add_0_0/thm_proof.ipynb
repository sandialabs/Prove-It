{
 "cells": [
  {
   "cell_type": "markdown",
   "metadata": {},
   "source": [
    "Proof of <a class=\"ProveItLink\" href=\"../../../../../../_theory_nbs_/theory.ipynb\">proveit</a>.<a class=\"ProveItLink\" href=\"../../../../../_theory_nbs_/theory.ipynb\">numbers</a>.<a class=\"ProveItLink\" href=\"../../../../_theory_nbs_/theory.ipynb\">numerals</a>.<a class=\"ProveItLink\" href=\"../../theory.ipynb\">decimals</a>.<a class=\"ProveItLink\" href=\"../../theorems.ipynb#add_0_0\">add_0_0</a> theorem\n",
    "========"
   ]
  },
  {
   "cell_type": "code",
   "execution_count": 1,
   "metadata": {},
   "outputs": [],
   "source": [
    "import proveit\n",
    "theory = proveit.Theory() # the theorem's theory"
   ]
  },
  {
   "cell_type": "code",
   "execution_count": 2,
   "metadata": {},
   "outputs": [
    {
     "data": {
      "text/html": [
       "With these <a href=\"allowed_presumptions.txt\">allowed</a>/<a href=\"disallowed_presumptions.txt\">disallowed</a> theorem/theory presumptions (e.g., to avoid circular dependencies), we begin our proof of<br><strong id=\"add_0_0\">add_0_0:</strong> <a class=\"ProveItLink\" href=\"../../../__pv_it/theorems/c430167ae0a889481e0bc117fa10e7cdfb7532f80/expr.ipynb\"><img src=\"data:image/png;base64,iVBORw0KGgoAAAANSUhEUgAAAGEAAAAVBAMAAACkm51HAAAAMFBMVEX///8AAAAAAAAAAAAAAAAA\n",
       "AAAAAAAAAAAAAAAAAAAAAAAAAAAAAAAAAAAAAAAAAAAv3aB7AAAAD3RSTlMAInZUiRDNmWbv3US7\n",
       "qzJazP2FAAAACXBIWXMAAA7EAAAOxAGVKw4bAAABXUlEQVQ4y3WTv0vDQBSAvzaNTX9QO7tYJych\n",
       "FHFtKI4K3UQRLIjgWKGIOHUTXewqBal0Cwji1M3orNC/QDq7KFrR0UsvSO7Sy3L3vpfv3nshB5SZ\n",
       "/Zg4adeQuDcZq5CpH2lwfblMupN4N8TYTdhnR21hzrVv4EAXJM52cPpkAsmGcrmADTjTDYlzUBxh\n",
       "fUtWlcsL1BrkGpoh8RrMtyh9KcYPvLvM6YNI3IY9YfzGDTtMdciMVCHCh7DoUfqMG6mJSFVwmmGQ\n",
       "9afP6B8PpDFJGB5WV60R4Z7oyqMQ1jj1/SvfvxXlReqhQulD60ri3nRyKzF5zaXQTU4usOiqGOCo\n",
       "X/cZLhtYfXWOCD+B0yXbVIxzOBY80GpIvCl2A7bHipF37WtxuqcZEr+J3Vb9FcWw2yviiPydZkR4\n",
       "HGfVeLAw+2d3WvFoGA9ODPfj0XRxUoEhsWsyiqZrm6oYEkuz8R/oNmKpOpcwHQAAAABJRU5ErkJg\n",
       "gg==\n",
       "\" style=\"display:inline;vertical-align:middle;\" /></a><br>(see <a class=\"ProveItLink\" href=\"../../../__pv_it/theorems/256a64dedaf5517d69ce94bec64bc06bd3a140ee0/dependencies.ipynb\">dependencies</a>)<br>"
      ],
      "text/plain": [
       "<IPython.core.display.HTML object>"
      ]
     },
     "metadata": {},
     "output_type": "display_data"
    },
    {
     "name": "stdout",
     "output_type": "stream",
     "text": [
      "add_0_0 may now be readily provable (assuming required theorems are usable).  Simply execute \"%qed\".\n"
     ]
    }
   ],
   "source": [
    "%proving add_0_0"
   ]
  },
  {
   "cell_type": "code",
   "execution_count": null,
   "metadata": {},
   "outputs": [],
   "source": []
  }
 ],
 "metadata": {
  "kernelspec": {
   "display_name": "Python 3",
   "language": "python",
   "name": "python3"
  }
 },
 "nbformat": 4,
 "nbformat_minor": 0
}