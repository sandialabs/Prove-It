{
 "cells": [
  {
   "cell_type": "markdown",
   "metadata": {},
   "source": [
    "Proof of <a class=\"ProveItLink\" href=\"../../../../../../_theory_nbs_/theory.ipynb\">proveit</a>.<a class=\"ProveItLink\" href=\"../../../../../_theory_nbs_/theory.ipynb\">numbers</a>.<a class=\"ProveItLink\" href=\"../../../../_theory_nbs_/theory.ipynb\">numerals</a>.<a class=\"ProveItLink\" href=\"../../theory.ipynb\">decimals</a>.<a class=\"ProveItLink\" href=\"../../theorems.ipynb#digit5\">digit5</a> theorem\n",
    "========"
   ]
  },
  {
   "cell_type": "code",
   "execution_count": 1,
   "metadata": {},
   "outputs": [],
   "source": [
    "import proveit\n",
    "theory = proveit.Theory() # the theorem's theory"
   ]
  },
  {
   "cell_type": "code",
   "execution_count": 2,
   "metadata": {},
   "outputs": [
    {
     "data": {
      "text/html": [
       "With these <a href=\"allowed_presumptions.txt\">allowed</a>/<a href=\"disallowed_presumptions.txt\">disallowed</a> theorem/theory presumptions (e.g., to avoid circular dependencies), we begin our proof of<br><strong id=\"digit5\">digit5:</strong> <a class=\"ProveItLink\" href=\"../../../__pv_it/theorems/354e35890342bf9f5eeaa5e4725903865f63975f0/expr.ipynb\"><img src=\"data:image/png;base64,iVBORw0KGgoAAAANSUhEUgAAAEcAAAAUBAMAAAAthD11AAAAMFBMVEX///8AAAAAAAAAAAAAAAAA\n",
       "AAAAAAAAAAAAAAAAAAAAAAAAAAAAAAAAAAAAAAAAAAAv3aB7AAAAD3RSTlMAMhAi783diatmdrtE\n",
       "mVQhVHx6AAAACXBIWXMAAA7EAAAOxAGVKw4bAAABQ0lEQVQoz2NgwAf4NjNwVRUw4Fezi4GhneEF\n",
       "XjWcO4HERwZ9BTxquPYBCebPDPwHGBgZGJRR5JjydwcxsPv7MPqBuT4M8hMYWL6GJaGawP3gBAOD\n",
       "PgPD6yIQ77TS/AcMbP7paHZyJLMD9YLkQaqYHvIbMHBguIXjNUMwAxuIJXGZgUGI4RgDkqLVaWkB\n",
       "YEWWC0whihgsmhh2MgQiKTq6CGaSQSNXAUQRgwHDyekCQKFZFQIgLnMQ3DoDboY9bKh+UWD+A6JZ\n",
       "DRCKGC+oqaG7dBtYEcLhBgzz+LYwMO4Ggs1w0fsgQ0TSgGADVBGHQguKMVuBikCO0kY2iakB1To3\n",
       "BoZ+EM2GrIhBihtFETC1eIOjcwHcK0CDuaRRFNkycDmBGXEwEdYHQOIqiiLmu72QuNPYA6EZ40Em\n",
       "q+JIP8e3QaIFEwAA4rNA8D24WpQAAAAASUVORK5CYII=\n",
       "\" style=\"display:inline;vertical-align:middle;\" /></a><br>(see <a class=\"ProveItLink\" href=\"../../../__pv_it/theorems/5c03f669b2f2a31a0619f030a796caacffe626cb0/dependencies.ipynb\">dependencies</a>)<br>"
      ],
      "text/plain": [
       "<IPython.core.display.HTML object>"
      ]
     },
     "metadata": {},
     "output_type": "display_data"
    }
   ],
   "source": [
    "%proving digit5"
   ]
  },
  {
   "cell_type": "code",
   "execution_count": null,
   "metadata": {},
   "outputs": [],
   "source": []
  }
 ],
 "metadata": {
  "kernelspec": {
   "display_name": "Python 3",
   "language": "python",
   "name": "python3"
  }
 },
 "nbformat": 4,
 "nbformat_minor": 0
}