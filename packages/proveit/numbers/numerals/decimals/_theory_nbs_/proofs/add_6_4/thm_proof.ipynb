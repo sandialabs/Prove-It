{
 "cells": [
  {
   "cell_type": "markdown",
   "metadata": {},
   "source": [
    "Proof of <a class=\"ProveItLink\" href=\"../../../../../../_theory_nbs_/theory.ipynb\">proveit</a>.<a class=\"ProveItLink\" href=\"../../../../../_theory_nbs_/theory.ipynb\">numbers</a>.<a class=\"ProveItLink\" href=\"../../../../_theory_nbs_/theory.ipynb\">numerals</a>.<a class=\"ProveItLink\" href=\"../../theory.ipynb\">decimals</a>.<a class=\"ProveItLink\" href=\"../../theorems.ipynb#add_6_4\">add_6_4</a> theorem\n",
    "========"
   ]
  },
  {
   "cell_type": "code",
   "execution_count": 1,
   "metadata": {},
   "outputs": [],
   "source": [
    "import proveit\n",
    "theory = proveit.Theory() # the theorem's theory"
   ]
  },
  {
   "cell_type": "code",
   "execution_count": 2,
   "metadata": {},
   "outputs": [
    {
     "data": {
      "text/html": [
       "With these <a href=\"allowed_presumptions.txt\">allowed</a>/<a href=\"disallowed_presumptions.txt\">disallowed</a> theorem/theory presumptions (e.g., to avoid circular dependencies), we begin our proof of<br><strong id=\"add_6_4\">add_6_4:</strong> <a class=\"ProveItLink\" href=\"../../../__pv_it/theorems/c0a01aa3bfbdfd5ee21740a8d07d74e2684af4920/expr.ipynb\"><img src=\"data:image/png;base64,iVBORw0KGgoAAAANSUhEUgAAAGwAAAAVBAMAAABRZRb3AAAAMFBMVEX///8AAAAAAAAAAAAAAAAA\n",
       "AAAAAAAAAAAAAAAAAAAAAAAAAAAAAAAAAAAAAAAAAAAv3aB7AAAAD3RSTlMAInZUiRDNmWbv3US7\n",
       "qzJazP2FAAAACXBIWXMAAA7EAAAOxAGVKw4bAAABjklEQVQ4y52TPUsDQRCGX/PhXcxpDguxELS0\n",
       "MwQRtDpCWjGdRIQEbdJEIwQEtUhlZZEmhYh4kO5EsIyFEMUfEESwiqRT0iiJgYiCzp4menu7KRzY\n",
       "ZXd2n52ZnRkAOsQygH7iCUsOglP9sFkasVidVz8C0+7LjTjgi24B/hQwdj5s8hfOgME4p/Pfb5Jq\n",
       "HSs6lDywBq3yfVDuuU6YmnVZm4lDNeGrIAB42z11pLt4ytBUFGFalQFzgFZwYwbD0iIslMVICzkg\n",
       "sBHd5TCPzrBFEZYkrMNeDKURCDuxcTBsny0Vy5ZqF5s0MNJECUi+QCk6McPG5kXWGPaKI8JMqO+k\n",
       "27GsQ8uiL4Sq29iz0EkDwSbDQimoHYe1UdjYheRLvC3mpPZj7Re7rNXe7oAFUWyUYrWNa8obxVbg\n",
       "EoBjGgfCdBegpOxPvkEizGMfNHIubInapYREHQ3a+LYf+HTvfd4CpzxVO8nksRyl20OO2o84Gs6U\n",
       "942zXst/N6zKpXIlPZno16ar/3iQRSDrfY8uh74A5FhkfgKBrIMAAAAASUVORK5CYII=\n",
       "\" style=\"display:inline;vertical-align:middle;\" /></a><br>(see <a class=\"ProveItLink\" href=\"../../../__pv_it/theorems/a88ad78d88abf86714accc0019117afa329fbe290/dependencies.ipynb\">dependencies</a>)<br>"
      ],
      "text/plain": [
       "<IPython.core.display.HTML object>"
      ]
     },
     "metadata": {},
     "output_type": "display_data"
    },
    {
     "name": "stdout",
     "output_type": "stream",
     "text": [
      "add_6_4 may now be readily provable (assuming required theorems are usable).  Simply execute \"%qed\".\n"
     ]
    }
   ],
   "source": [
    "%proving add_6_4"
   ]
  },
  {
   "cell_type": "code",
   "execution_count": null,
   "metadata": {},
   "outputs": [],
   "source": []
  }
 ],
 "metadata": {
  "kernelspec": {
   "display_name": "Python 3",
   "language": "python",
   "name": "python3"
  }
 },
 "nbformat": 4,
 "nbformat_minor": 0
}