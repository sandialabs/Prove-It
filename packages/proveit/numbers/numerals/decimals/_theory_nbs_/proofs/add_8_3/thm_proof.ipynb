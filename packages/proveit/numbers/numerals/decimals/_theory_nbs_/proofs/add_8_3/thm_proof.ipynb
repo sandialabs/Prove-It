{
 "cells": [
  {
   "cell_type": "markdown",
   "metadata": {},
   "source": [
    "Proof of <a class=\"ProveItLink\" href=\"../../../../../../_theory_nbs_/theory.ipynb\">proveit</a>.<a class=\"ProveItLink\" href=\"../../../../../_theory_nbs_/theory.ipynb\">numbers</a>.<a class=\"ProveItLink\" href=\"../../../../_theory_nbs_/theory.ipynb\">numerals</a>.<a class=\"ProveItLink\" href=\"../../theory.ipynb\">decimals</a>.<a class=\"ProveItLink\" href=\"../../theorems.ipynb#add_8_3\">add_8_3</a> theorem\n",
    "========"
   ]
  },
  {
   "cell_type": "code",
   "execution_count": 1,
   "metadata": {},
   "outputs": [],
   "source": [
    "import proveit\n",
    "theory = proveit.Theory() # the theorem's theory"
   ]
  },
  {
   "cell_type": "code",
   "execution_count": 2,
   "metadata": {},
   "outputs": [
    {
     "data": {
      "text/html": [
       "With these <a href=\"allowed_presumptions.txt\">allowed</a>/<a href=\"disallowed_presumptions.txt\">disallowed</a> theorem/theory presumptions (e.g., to avoid circular dependencies), we begin our proof of<br><strong id=\"add_8_3\">add_8_3:</strong> <a class=\"ProveItLink\" href=\"../../../__pv_it/theorems/b0c858488c0d36e6741b9d9d90866f0adab943860/expr.ipynb\"><img src=\"data:image/png;base64,iVBORw0KGgoAAAANSUhEUgAAAGsAAAAVBAMAAACzuQ2OAAAAMFBMVEX///8AAAAAAAAAAAAAAAAA\n",
       "AAAAAAAAAAAAAAAAAAAAAAAAAAAAAAAAAAAAAAAAAAAv3aB7AAAAD3RSTlMAInZUiRDNmWbv3US7\n",
       "qzJazP2FAAAACXBIWXMAAA7EAAAOxAGVKw4bAAABWklEQVQ4y2NgYBBgwA4YGfABJgMcEtwK+LSZ\n",
       "MDCEuFSjCYq4n2Zg0MBU/CoASrAmMDAUMPCiWslawGBvwMAWgKaJ9Xp+AIRgYG9g4GgAawaBHVCH\n",
       "f2aIT2DgKMCwTT8ASnAyMLBcgGszgnprNgM/UGQqbm1mDAzMfwKAdiJrAwJ7oEgGbm0lQPr+p2IG\n",
       "NG3cK4CEL25tIBPZ/y9E08anew9ItoGY7KvA4AKqtsWgOJD5b4DhSKCIJW7bZjOAQswe5PuqVatm\n",
       "rlq1FqKA8ysDw3u82jgDGBg/o9jG94CBByiyE7c2oCPjgcwbKNr4v4K1WeH22yGgbcDEfBBFG+cF\n",
       "sCN7cNsGDGTuVAYOBRRtwHQDircSDG3+AlDiFZB+W16NFgHby4FJmWE1uq6783MbIATXA2RxI5QM\n",
       "twB3vkFNrzuQObAUhxUcxCkjgy+bxpBhIMgHuPI+kwBuTQAzS11FAF0fXgAAAABJRU5ErkJggg==\n",
       "\" style=\"display:inline;vertical-align:middle;\" /></a><br>(see <a class=\"ProveItLink\" href=\"../../../__pv_it/theorems/99247a5e6441d295cd9e78819c8f1096ae89ffb50/dependencies.ipynb\">dependencies</a>)<br>"
      ],
      "text/plain": [
       "<IPython.core.display.HTML object>"
      ]
     },
     "metadata": {},
     "output_type": "display_data"
    },
    {
     "name": "stdout",
     "output_type": "stream",
     "text": [
      "add_8_3 may now be readily provable (assuming required theorems are usable).  Simply execute \"%qed\".\n"
     ]
    }
   ],
   "source": [
    "%proving add_8_3"
   ]
  },
  {
   "cell_type": "code",
   "execution_count": null,
   "metadata": {},
   "outputs": [],
   "source": []
  }
 ],
 "metadata": {
  "kernelspec": {
   "display_name": "Python 3",
   "language": "python",
   "name": "python3"
  }
 },
 "nbformat": 4,
 "nbformat_minor": 0
}