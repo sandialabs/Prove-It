{
 "cells": [
  {
   "cell_type": "markdown",
   "metadata": {},
   "source": [
    "Proof of <a class=\"ProveItLink\" href=\"../../../../../../_theory_nbs_/theory.ipynb\">proveit</a>.<a class=\"ProveItLink\" href=\"../../../../../_theory_nbs_/theory.ipynb\">numbers</a>.<a class=\"ProveItLink\" href=\"../../../../_theory_nbs_/theory.ipynb\">numerals</a>.<a class=\"ProveItLink\" href=\"../../theory.ipynb\">decimals</a>.<a class=\"ProveItLink\" href=\"../../theorems.ipynb#mult_9_2\">mult_9_2</a> theorem\n",
    "========"
   ]
  },
  {
   "cell_type": "code",
   "execution_count": 1,
   "metadata": {},
   "outputs": [],
   "source": [
    "import proveit\n",
    "theory = proveit.Theory() # the theorem's theory"
   ]
  },
  {
   "cell_type": "code",
   "execution_count": 2,
   "metadata": {},
   "outputs": [
    {
     "data": {
      "text/html": [
       "With these <a href=\"allowed_presumptions.txt\">allowed</a>/<a href=\"disallowed_presumptions.txt\">disallowed</a> theorem/theory presumptions (e.g., to avoid circular dependencies), we begin our proof of<br><strong id=\"mult_9_2\">mult_9_2:</strong> <a class=\"ProveItLink\" href=\"../../../__pv_it/theorems/10eb18c1af9969d42bbdcc88e58fcb00925e47d10/expr.ipynb\"><img src=\"data:image/png;base64,iVBORw0KGgoAAAANSUhEUgAAAGEAAAAVBAMAAACkm51HAAAAMFBMVEX///8AAAAAAAAAAAAAAAAA\n",
       "AAAAAAAAAAAAAAAAAAAAAAAAAAAAAAAAAAAAAAAAAAAv3aB7AAAAD3RSTlMAInZUiRDNmWbv3US7\n",
       "qzJazP2FAAAACXBIWXMAAA7EAAAOxAGVKw4bAAABj0lEQVQ4y32TPUjDQBTH//moprWpmYugguBa\n",
       "RFytUHASMumitIvg4NBBTCmCwaWOdeggHRSliyAWB+coCG4qIn4szaog+EGLWjC+S2lamiNvSO7e\n",
       "e7/3dXcANPiEo+oSMeHXnQYSk0C/ce9tBWPVhmj63GIVIJSardI3g9ABXrw6hiA3geVeYGm9TpGB\n",
       "O/qaUIuIWm3TLbALFPzFE7ENzANhYDADud627OmoaQjrPGLOJaaAtAWx2bY8AzUbfSaPmL5EDlhr\n",
       "5fjuMp4A8g2PUJ1xGuwK3D4+u6ZCayXDVvkjJscegc1fmtAhjauMt68OEaH4UpGXQ5q5Jr8y7RbG\n",
       "Jv7ol3YDY4PleecRBUg/ukugNatIli0V1sIAN0cJGE6wqkg650F3QNAg7XP6CFFi1cQFlVdC2vb6\n",
       "TkLUoVi8HDsUWmOnIlZw5VnihpGnm5DsJeQP4EzHFvBKu5RR7RyG4zSopWoPoD41HhF7YI4Rm3eh\n",
       "4wGXXcnytLmg93HO0QlWELHI0UUDn60w4teNBvj/A+eDaKz+rgkZAAAAAElFTkSuQmCC\n",
       "\" style=\"display:inline;vertical-align:middle;\" /></a><br>(see <a class=\"ProveItLink\" href=\"../../../__pv_it/theorems/3c8263b595ec7672a49025c1566ea3ec633762de0/dependencies.ipynb\">dependencies</a>)<br>"
      ],
      "text/plain": [
       "<IPython.core.display.HTML object>"
      ]
     },
     "metadata": {},
     "output_type": "display_data"
    },
    {
     "name": "stdout",
     "output_type": "stream",
     "text": [
      "mult_9_2 may now be readily provable (assuming required theorems are usable).  Simply execute \"%qed\".\n"
     ]
    }
   ],
   "source": [
    "%proving mult_9_2"
   ]
  },
  {
   "cell_type": "code",
   "execution_count": null,
   "metadata": {},
   "outputs": [],
   "source": []
  }
 ],
 "metadata": {
  "kernelspec": {
   "display_name": "Python 3",
   "language": "python",
   "name": "python3"
  }
 },
 "nbformat": 4,
 "nbformat_minor": 0
}