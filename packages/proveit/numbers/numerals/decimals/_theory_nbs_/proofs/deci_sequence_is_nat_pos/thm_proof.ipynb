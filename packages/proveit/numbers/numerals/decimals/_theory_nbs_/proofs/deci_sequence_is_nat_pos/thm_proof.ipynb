{
 "cells": [
  {
   "cell_type": "markdown",
   "metadata": {},
   "source": [
    "Proof of <a class=\"ProveItLink\" href=\"../../../../../../_theory_nbs_/theory.ipynb\">proveit</a>.<a class=\"ProveItLink\" href=\"../../../../../_theory_nbs_/theory.ipynb\">numbers</a>.<a class=\"ProveItLink\" href=\"../../../../_theory_nbs_/theory.ipynb\">numerals</a>.<a class=\"ProveItLink\" href=\"../../theory.ipynb\">decimals</a>.<a class=\"ProveItLink\" href=\"../../theorems.ipynb#deci_sequence_is_nat_pos\">deci_sequence_is_nat_pos</a> theorem\n",
    "========"
   ]
  },
  {
   "cell_type": "code",
   "execution_count": 1,
   "metadata": {},
   "outputs": [],
   "source": [
    "import proveit\n",
    "theory = proveit.Theory() # the theorem's theory"
   ]
  },
  {
   "cell_type": "code",
   "execution_count": 2,
   "metadata": {},
   "outputs": [
    {
     "data": {
      "text/html": [
       "With these <a href=\"allowed_presumptions.txt\">allowed</a>/<a href=\"disallowed_presumptions.txt\">disallowed</a> theorem/theory presumptions (e.g., to avoid circular dependencies), we begin our proof of<br><strong id=\"deci_sequence_is_nat_pos\">deci_sequence_is_nat_pos:</strong> <a class=\"ProveItLink\" href=\"../../../__pv_it/theorems/3f6aa7d45c6c1610c61fafbea91a7eba7be4536b0/expr.ipynb\"><img src=\"data:image/png;base64,iVBORw0KGgoAAAANSUhEUgAAAfgAAAAaBAMAAACp/VNxAAAAMFBMVEX///8AAAAAAAAAAAAAAAAA\n",
       "AAAAAAAAAAAAAAAAAAAAAAAAAAAAAAAAAAAAAAAAAAAv3aB7AAAAD3RSTlMAq1RmmUTNIjK7EInv\n",
       "3XZ/CtNrAAAACXBIWXMAAA7EAAAOxAGVKw4bAAAGdUlEQVRYw81Yf4gUVRz/7s7uzezs7Y+UuFI8\n",
       "Nkq6lGwrC7K6NjzDlHLTKFLJzQLRfxohgguzTaQCL10ujVZM5xICu2Q3r5KkbEPkDLGOsJSLhTmV\n",
       "yg6u4+DUTvF63/fezLzZm50781j8wsx+3/f73Tfv8973fb/f9wC8yFc+BbUiKV2TzwTwlSJPtPyL\n",
       "t2Ud1I7uqM1nQvhqpez9Nwx4NWOx8vX3pnmDl4wbC3woabFnrr+3Fyva+//9UIdvr6Q5eOhl4OP4\n",
       "c3t18J76SaQNFucv2tJ9J0Tn2NXj3YdtHU1WqNqDcVAHzZWHPgZ+Af6sqQ7eUz+JtJg8Sk+A+OOn\n",
       "ovgVx3BS43RiW6+r0MzQugBK8GR+Vz5PJqagU/Bv4ybLVQfvqZ9EGsb1GowQePNF8ZDYiCXG6cS2\n",
       "nluhmZKr06DHWvm6JAVfR+YgnKgO3lM/eaSMYBoqxQxcH5uCI6LRKt27E8G6npueL5dpJG1oljMC\n",
       "+ECOgpeSHnGNKDz1k0dRMjDp0SP/TAF/RhCHHbv8u3E6Eazr2KZ/7m/ebvBl+wXw0RKL9ifK5eNe\n",
       "0d5LP3nkI5ALo6OjVyCA8W794Y1sAI19gte9NDDFOznZ1mEaqGVr6zdALpS2wVMfIeAXAuz0Au+l\n",
       "n1gGn1CmQz+MGY/pdM2C3bCH+m1hnXrR7uiCXtC8OhGsJeo/dZoNfrPa22NWeKBcYuDXgxwXOpBP\n",
       "fgWPxAXwFfprL1tvgS0Pa3ZpWWWa8RuFxPcAEbJ4nyfhKSq+R4efYC/fCP4RqDc6v5hWtRNqzW1L\n",
       "zjqlAaTEXXY0kYcZ+JAetqrqrbfugNvCekAXwIt6Ze1YTghaDtmbi9PSDwCdxHNKvHwLjdmkh82c\n",
       "jmEetmVnkFBFvrYE4HcqfgLgsjLAt3IgA7Fiik+LG6G1ORbM6dBWJpRj4GGazwavcvB+w5qfwEIs\n",
       "aIxUWHR7QQ8w3YVz0Sp9+bQ/fggWwWsHAYuLkQrwKpveZnhBWHm25xH8j2x0OAXBIfBz8JEirEoM\n",
       "w1vZauCpNQ/8FOg+YeWhQ7XjoczdHjLNxDfnbz0HcBblTTM3OsBTvUnHXDgXbQsZn785AEX5V2we\n",
       "8F+sAC9v19gfYpoNXtozcOEMur16FaRBnrgDIxZ4kuaX6PM8wKM1Q8L/ExHBK4ZdrigXOfgDJCTu\n",
       "XZms11SqbAp/ssIBHvXQ2XwQ/3O1j+8ImxPc3pTR4tK/6XmjCNLNCHV5SQCvdvVroNxEUMtkE/Pw\n",
       "7MNvz4CrxMgAdYhE/ztRfAm3PwLBqBnLqkdYwlPdoypaUyRkIimWqGHqPyLPXzlnRYDgN5BJf+MP\n",
       "iOlBmhubIHXeAR716ik6V9HeKK8wbU7I1aaMeps/e2gm2dH+qSRb8EEw8Pu1bQj88SxWNhFehNPE\n",
       "m5eHWJLaDXenaFdTYTtbxQKJGr5kiAiVXtZSL0AFQ60pEmAJE2C1ObbVLGZYUZjnefChGzXCSpDW\n",
       "5vPtBHxnnQM86gMppUSPXlJG3gmcW3ouXXEwYwkGljHwgShOtbIAmruE4yS0QBtdqyfTCoZvYSka\n",
       "1W4s8Mn27H+3kTp3x5dJBj5CIKvTsfJt1VkLTppxkjK9pjUiIW02tI4dzBffuZJznJoDcfFIewxa\n",
       "FKXIVj44Z8yRtj4dRfP6bCC+iR4HkSupgw7wKKPMg/l8PuHPqsWMy1kajrIzFUjdxO2tcv2oZXW6\n",
       "0qPo/p1lRouUrNktm2aJSEiu4a0VH5czbpk1KYCXB+F0EytmHuAHPgf4ghaaR+YwhnuUgkdOU0qO\n",
       "HlE2d9lsgC1s5WGpIbe0tCxwgid1yAefoX63GPDoqc79TMLAmzmx9b3Nut2yqehA4jwduZRDugCe\n",
       "nHb7k9BKXE35TQPf2JXXti3TOyGiP0QvAjgXShNOLZovlM3JRbA0YHdy0bjbyncrw/OI+mXCDsAz\n",
       "pq7Ntqqo4uSvL5MYaIaun0dHwW7ZAc9wIBnvHHrv2Jsc9Zv8DvebnOD8OV3QllCeNih4zi2kXDe0\n",
       "afiiMl/2dTJcjK3vr+E3IZXgn72PjC7azoqcRVZxb9XwqtvAox4tF0lI8wZ/6tqvsRLWFRDlwrph\n",
       "yixtBM4uJ56Rz6er3Z+xrNjucYe38frPSX+OU3Jf+x1ekEbOrccTnHt1tIdztrYDZie9Lw+r0ewa\n",
       "3hRP7PbWcW8vTZD7f+BrdG9PaRG9tz8CtSQZbiz6D7wXxb4yiVdkAAAAAElFTkSuQmCC\n",
       "\" style=\"display:inline;vertical-align:middle;\" /></a><br>(see <a class=\"ProveItLink\" href=\"../../../__pv_it/theorems/a94f0d2a5718b93a792bc3db91a66bb4e9859f560/dependencies.ipynb\">dependencies</a>)<br>"
      ],
      "text/plain": [
       "<IPython.core.display.HTML object>"
      ]
     },
     "metadata": {},
     "output_type": "display_data"
    }
   ],
   "source": [
    "%proving deci_sequence_is_nat_pos"
   ]
  },
  {
   "cell_type": "code",
   "execution_count": null,
   "metadata": {},
   "outputs": [],
   "source": []
  }
 ],
 "metadata": {
  "kernelspec": {
   "display_name": "Python 3",
   "language": "python",
   "name": "python3"
  }
 },
 "nbformat": 4,
 "nbformat_minor": 0
}