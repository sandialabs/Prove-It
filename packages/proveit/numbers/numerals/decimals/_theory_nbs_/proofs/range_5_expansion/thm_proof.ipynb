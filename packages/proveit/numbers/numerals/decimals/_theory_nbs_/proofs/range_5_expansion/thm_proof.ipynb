{
 "cells": [
  {
   "cell_type": "markdown",
   "metadata": {},
   "source": [
    "Proof of <a class=\"ProveItLink\" href=\"../../../../../../_theory_nbs_/theory.ipynb\">proveit</a>.<a class=\"ProveItLink\" href=\"../../../../../_theory_nbs_/theory.ipynb\">numbers</a>.<a class=\"ProveItLink\" href=\"../../../../_theory_nbs_/theory.ipynb\">numerals</a>.<a class=\"ProveItLink\" href=\"../../theory.ipynb\">decimals</a>.<a class=\"ProveItLink\" href=\"../../theorems.ipynb#range_5_expansion\">range_5_expansion</a> theorem\n",
    "========"
   ]
  },
  {
   "cell_type": "code",
   "execution_count": 1,
   "metadata": {},
   "outputs": [],
   "source": [
    "import proveit\n",
    "theory = proveit.Theory() # the theorem's theory"
   ]
  },
  {
   "cell_type": "code",
   "execution_count": 2,
   "metadata": {},
   "outputs": [
    {
     "data": {
      "text/html": [
       "With these <a href=\"allowed_presumptions.txt\">allowed</a>/<a href=\"disallowed_presumptions.txt\">disallowed</a> theorem/theory presumptions (e.g., to avoid circular dependencies), we begin our proof of<br><strong id=\"range_5_expansion\">range_5_expansion:</strong> <a class=\"ProveItLink\" href=\"../../../__pv_it/theorems/d02ce84fd6f8a37be023fa0f9a2e38818e68896a0/expr.ipynb\"><img src=\"data:image/png;base64,iVBORw0KGgoAAAANSUhEUgAAAy0AAAAYBAMAAAAFYQ+2AAAAMFBMVEX///8AAAAAAAAAAAAAAAAA\n",
       "AAAAAAAAAAAAAAAAAAAAAAAAAAAAAAAAAAAAAAAAAAAv3aB7AAAAD3RSTlMAq1RmmUTNIjK7EInv\n",
       "3XZ/CtNrAAAACXBIWXMAAA7EAAAOxAGVKw4bAAAHT0lEQVRo3u1ZXWwUVRQ+nZ3t/i9T4UETEpYY\n",
       "+6AiJfwYXrDSAiIRN/EJrVgkxsQXazAaEpHqkwSQGh6wxMhoDEpM2oX4JEEKxsSglMVA4t8mGyE2\n",
       "MRFqDZT0gXp/zr1zZ+bOnd1siS+c5OzO3fPde757ztzfBZgLGUBVy74fhKT09VNN+OHoVLR5Dik0\n",
       "gx0wUW4cOxBtblqKJa5qGWCrBvmHvoFkvWE/iNbVmHsKTWBV56psheawQh36w/2t5eUhVIBNX4vy\n",
       "VSh2qRhmsSrM4pf9LsCVGA9eu7DHZegrehoGCvZJFykUu+MoRGNfX/+hFksdBrCpkxvLuigguYCk\n",
       "uxlW6Dr628stpSXbzxUgd+9ZLMNvAK8oGG45CtyiVl7wKulWu2v0oLQLf3J0uEYcheP7SkihUImj\n",
       "EIlNDcHpsgbLHAawn4E1pYuCIOeXgsOxqO9wZ62I3cUVIP/AYRDPACsUDLf0KL88Ix6uk04muo0e\n",
       "/O0ydLhGHIWzW9yGKURi2wYgP6bB2sqwSOLz9VL2pi4KOizA3w7HotLU50ot5SWPCvCCC/KZfCtv\n",
       "FbeMKbUeUYMC54we/O1y9DkdDQOF5Aw0TCEam5+BtmkNNq9ALVx++spwUxcFHRbSqxyORU2QhLW3\n",
       "trx0ogKckmUq7cp7wSxWf2RQths9+Nvl6O06GgYKuWrjFKKxbVVou6XBdupiDda/mijosbl2h2OF\n",
       "nq/VfmgtL5tQYdn5BVjOXiUt5xwJ4Ra7gpZwUI6bHHjtQvaag+jjOhrRFBILL3YjhZEeMFMwYqEw\n",
       "qcFS5wLr5eV5XRQkOR92guYlp+gTAIdby4v39t4W5VySzAEJ5X27Ld5eZgkHZZXRg2wXbPgW0ayG\n",
       "XWPiQDyFeXVBodIHMRRMWDhQ12Cpc4GVsX6/Y1ATBUlOxaa6aF4oVuhrkPIy+jmf69gnrm1pb8wN\n",
       "oB134eLhJ1RI3RLld23SsuXNz9xSKKElHJSHTWnx2oUJmEJ0qEYMhd2DSCFdWg8xFExYuKjDEocS\n",
       "q8xjU5ooSHIqNgc0LxQrNOPmynSC6KUj6xs+Upkr3KTxApWVws5eJpk4+A4VrElRdvPEX3rSSyl7\n",
       "zJfRAk/Vaj/Wahe9oBww5cVrF1xrBtGhGjEUlgJSyMI4xFAwYe0hHZY45Fgygn8/jyMY4IIbjoIk\n",
       "p2IfZXmhWKFWnS37mZWDgX4GN89Z9GXzrgA8F8wLXwLZ81LS0+RYYHGkeWGW8MvaZzy+eO2CXUV0\n",
       "nzYv0RROiViDNQMxFEzYZaDDUocCK8bAewBHSuEoSHIKNlVneaFYodC/hk2ToXNaMC92mX9n2O5w\n",
       "qXcSk/NYxpHlbVnisyrrcgudx5glHJQlprwo7fKz2xJRQ11fYih8AIJCu+PGUDBgrQq8qcFShwIr\n",
       "8jLr0ryEoiDJKdhkR8eiMxWGFQon6AnTWniCXsywiiNrlbxggdJEO8vLyKh37PkYFfJ1Uc7eyJHV\n",
       "i7bAqXJLpo6WcFBWg8T6xij42yXTeRnRq4PYGArjICiMlisxFAzYvQB/cSxGdlw6F1iRlzNsHmMU\n",
       "gv2QUfDWorzD6QqFt1gymKc6G4ndnUpeSMEeJnIQ3kA7y0ud5MXCBUbuWneXRTk9uQO3xTfBs+Qc\n",
       "tPiCcnpA7IEpdrQfH2RJbRfgMd/OXBUzhdQNEBQOpLqMFEzY1KXe3irHcm6Ipc4FVsR6OTu/UAqh\n",
       "fsgoeHmZN8SxQqGNLSy91MendPxk3a+8vIgCkS1oz7CtGclLEme6/ai4BLLn+YRigdKouZ4lXUWL\n",
       "GpSOC9vIL5cBsQWa7EuAH4VfA+3CffTjMqr/8tFIAddcSqFtORgpmLCF2dnZfo7l3BBLHQqsiHWy\n",
       "d2MZKYT6MT94frGP/FNnWKEoB8XIlSeBIVAKRBYz+8bhj4aHu3YAyUta2bGxXdvj/h3cLuaY5QUt\n",
       "P+sO2+ytq3pYnzwIgXbHEZ2qhi7+jBRsp3EKDWIZN8QWBnXnfUkh3I9I7C5Zh8n39GP0C/Y8reZl\n",
       "Wsxje9BOx8vek0+fkPMYXiNazoteGcS1H51HpWWF7tLQu3PMhZf8CvjavScx47soVcVIYXF7qWEK\n",
       "jWIrCla9yUz6qPXo+mHA9vguTLMzkK1Apw1fknEwpuQlPaas+522WF9gtwtFketDTAuH+5WyuKUe\n",
       "oTWFJRP1T9xOENjAul8Htd30FNvS7ZQ1fGKi8MtRaJhCg1jKzcMeijoTD2n6YcAKFdeZY5A+C59M\n",
       "wL4SFB0lL0V5GUBYEjvmJbForUf7GNPEVbUsekXJS0s26g8FzjT8N2BRrU3a3bzOew9CYqKwZgM0\n",
       "TKFBLLvvkNhjUXv8AV0/orFClb80LPZUEjegQ4Eb2WRFOb/4mienIqZqmV6ZhOVtPaFiY/9oow+K\n",
       "1tWYewpNYFN1PXYCmsNO+OpkFpO16FkWffelfcq5UhSobFDP+175rtw5yV0jH2xkJGDzk0peRIGB\n",
       "/NulRPlu3P4PCQ9WV3MWvyt3RP4DDm/MceCpAhAAAAAASUVORK5CYII=\n",
       "\" style=\"display:inline;vertical-align:middle;\" /></a><br>(see <a class=\"ProveItLink\" href=\"../../../__pv_it/theorems/65aaf99650d584688416287f6fdc82090ea3322a0/dependencies.ipynb\">dependencies</a>)<br>"
      ],
      "text/plain": [
       "<IPython.core.display.HTML object>"
      ]
     },
     "metadata": {},
     "output_type": "display_data"
    }
   ],
   "source": [
    "%proving range_5_expansion"
   ]
  },
  {
   "cell_type": "code",
   "execution_count": null,
   "metadata": {},
   "outputs": [],
   "source": []
  }
 ],
 "metadata": {
  "kernelspec": {
   "display_name": "Python 3",
   "language": "python",
   "name": "python3"
  }
 },
 "nbformat": 4,
 "nbformat_minor": 0
}