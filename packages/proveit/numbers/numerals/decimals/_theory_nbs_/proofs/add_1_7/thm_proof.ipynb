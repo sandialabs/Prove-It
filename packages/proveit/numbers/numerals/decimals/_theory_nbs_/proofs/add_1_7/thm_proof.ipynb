{
 "cells": [
  {
   "cell_type": "markdown",
   "metadata": {},
   "source": [
    "Proof of <a class=\"ProveItLink\" href=\"../../../../../../_theory_nbs_/theory.ipynb\">proveit</a>.<a class=\"ProveItLink\" href=\"../../../../../_theory_nbs_/theory.ipynb\">numbers</a>.<a class=\"ProveItLink\" href=\"../../../../_theory_nbs_/theory.ipynb\">numerals</a>.<a class=\"ProveItLink\" href=\"../../theory.ipynb\">decimals</a>.<a class=\"ProveItLink\" href=\"../../theorems.ipynb#add_1_7\">add_1_7</a> theorem\n",
    "========"
   ]
  },
  {
   "cell_type": "code",
   "execution_count": 1,
   "metadata": {},
   "outputs": [],
   "source": [
    "import proveit\n",
    "theory = proveit.Theory() # the theorem's theory"
   ]
  },
  {
   "cell_type": "code",
   "execution_count": 2,
   "metadata": {},
   "outputs": [
    {
     "data": {
      "text/html": [
       "With these <a href=\"allowed_presumptions.txt\">allowed</a>/<a href=\"disallowed_presumptions.txt\">disallowed</a> theorem/theory presumptions (e.g., to avoid circular dependencies), we begin our proof of<br><strong id=\"add_1_7\">add_1_7:</strong> <a class=\"ProveItLink\" href=\"../../../__pv_it/theorems/b012fabafb8e914eeb68cfde6b1c92f7538d85dc0/expr.ipynb\"><img src=\"data:image/png;base64,iVBORw0KGgoAAAANSUhEUgAAAGEAAAAVBAMAAACkm51HAAAAMFBMVEX///8AAAAAAAAAAAAAAAAA\n",
       "AAAAAAAAAAAAAAAAAAAAAAAAAAAAAAAAAAAAAAAAAAAv3aB7AAAAD3RSTlMAInZUiRDNmWbv3US7\n",
       "qzJazP2FAAAACXBIWXMAAA7EAAAOxAGVKw4bAAABWUlEQVQ4y2NgYBBgwA5wiTMwGWCKSQQAiU24\n",
       "dJgA8asAVDH7////T2BqQFfK6uK+AUgmMLBez0fT4VNeXmXAkIqug52B4TKQBJmkD9OxA0I5MDCI\n",
       "MzC0o+voYGAIY2DgZEDWYQShgF67AJRCs5nBF6zDDJsOBgaWBwwMbOgesT/KUMHAUIJdhwxI1wU0\n",
       "Hbz/1YG2Z2DXcRuIORLA3l0FBmDd9b+AkbQYqw7GCUCCeQKaHcyO5z8zMMxG6KhatWrmqlVrwd4A\n",
       "Gc/3AU1HOwPzzwBkHUh2cB0AEtzodkxlYJA3wOGqeJCzmReg+oMVaCdvA8MhrDr2F4B8fgDNjokM\n",
       "DDwCoFhhYPAXQNNh7wAy3QFNx7YAhiZgIgSy7s7PbUDVIQlK0Fwb0HTwXS8HCnE9QBYzQuZIYU/s\n",
       "HAXIvB3InAoc+eMgrozDeACHRAwuHTy4si2jAg4JRezCADw4UO+cqrdyAAAAAElFTkSuQmCC\n",
       "\" style=\"display:inline;vertical-align:middle;\" /></a><br>(see <a class=\"ProveItLink\" href=\"../../../__pv_it/theorems/0f9f6c7d0a90715e82b34be32881073d6b6b37740/dependencies.ipynb\">dependencies</a>)<br>"
      ],
      "text/plain": [
       "<IPython.core.display.HTML object>"
      ]
     },
     "metadata": {},
     "output_type": "display_data"
    },
    {
     "name": "stdout",
     "output_type": "stream",
     "text": [
      "add_1_7 may now be readily provable (assuming required theorems are usable).  Simply execute \"%qed\".\n"
     ]
    }
   ],
   "source": [
    "%proving add_1_7"
   ]
  },
  {
   "cell_type": "code",
   "execution_count": null,
   "metadata": {},
   "outputs": [],
   "source": []
  }
 ],
 "metadata": {
  "kernelspec": {
   "display_name": "Python 3",
   "language": "python",
   "name": "python3"
  }
 },
 "nbformat": 4,
 "nbformat_minor": 0
}