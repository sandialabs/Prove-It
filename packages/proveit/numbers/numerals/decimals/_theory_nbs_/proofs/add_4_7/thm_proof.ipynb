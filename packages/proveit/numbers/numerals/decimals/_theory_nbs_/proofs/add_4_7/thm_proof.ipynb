{
 "cells": [
  {
   "cell_type": "markdown",
   "metadata": {},
   "source": [
    "Proof of <a class=\"ProveItLink\" href=\"../../../../../../_theory_nbs_/theory.ipynb\">proveit</a>.<a class=\"ProveItLink\" href=\"../../../../../_theory_nbs_/theory.ipynb\">numbers</a>.<a class=\"ProveItLink\" href=\"../../../../_theory_nbs_/theory.ipynb\">numerals</a>.<a class=\"ProveItLink\" href=\"../../theory.ipynb\">decimals</a>.<a class=\"ProveItLink\" href=\"../../theorems.ipynb#add_4_7\">add_4_7</a> theorem\n",
    "========"
   ]
  },
  {
   "cell_type": "code",
   "execution_count": 1,
   "metadata": {},
   "outputs": [],
   "source": [
    "import proveit\n",
    "theory = proveit.Theory() # the theorem's theory"
   ]
  },
  {
   "cell_type": "code",
   "execution_count": 2,
   "metadata": {},
   "outputs": [
    {
     "data": {
      "text/html": [
       "With these <a href=\"allowed_presumptions.txt\">allowed</a>/<a href=\"disallowed_presumptions.txt\">disallowed</a> theorem/theory presumptions (e.g., to avoid circular dependencies), we begin our proof of<br><strong id=\"add_4_7\">add_4_7:</strong> <a class=\"ProveItLink\" href=\"../../../__pv_it/theorems/c622bb7b8d576159865f3a8ce0ef52bc6e5318190/expr.ipynb\"><img src=\"data:image/png;base64,iVBORw0KGgoAAAANSUhEUgAAAGsAAAAVBAMAAACzuQ2OAAAAMFBMVEX///8AAAAAAAAAAAAAAAAA\n",
       "AAAAAAAAAAAAAAAAAAAAAAAAAAAAAAAAAAAAAAAAAAAv3aB7AAAAD3RSTlMAInZUiRDNmWbv3US7\n",
       "qzJazP2FAAAACXBIWXMAAA7EAAAOxAGVKw4bAAABN0lEQVQ4y2NgYBBgwA4YGfABJgMsOlqBBLcC\n",
       "Pm0mIOI5qhjz////fzJoYCp+FQAlWBNA3LWosizHy8sXM7AFoGlivZ4fACEY2BtADoVp2wHVBnRn\n",
       "AQNHAYZt+gFQghPEe5ELFTaCOpKBgRdITcWtzQzEc0DTBgR+QJyBW1sJyI0CGNoYDwAJX9zaQCZK\n",
       "MGBo490AJNpALPZVYHABVdtikBsxtUmCCEvcts1mYOAQgGirWrVq5qpVkEB1AxHv8WoTYsC0bQ2I\n",
       "2IlbG9CRe+/e/XkFVRvrXxBphdtvh8DcuWi2cX8HkT24bYME8h80bcxfQGQJhjZ/ASjxCsSr+X8J\n",
       "VRvjZBC5Gl3X3fm5DRCC6wGyuBFK9lmAO9+gptcdyBxwKscFDuKUkcGXTWPIMBDkA1x5n0kAtyYA\n",
       "aiBWFgV1TwkAAAAASUVORK5CYII=\n",
       "\" style=\"display:inline;vertical-align:middle;\" /></a><br>(see <a class=\"ProveItLink\" href=\"../../../__pv_it/theorems/f6dabb407a9cb663c2ed111900f3f8e2fdac75d10/dependencies.ipynb\">dependencies</a>)<br>"
      ],
      "text/plain": [
       "<IPython.core.display.HTML object>"
      ]
     },
     "metadata": {},
     "output_type": "display_data"
    },
    {
     "name": "stdout",
     "output_type": "stream",
     "text": [
      "add_4_7 may now be readily provable (assuming required theorems are usable).  Simply execute \"%qed\".\n"
     ]
    }
   ],
   "source": [
    "%proving add_4_7"
   ]
  },
  {
   "cell_type": "code",
   "execution_count": null,
   "metadata": {},
   "outputs": [],
   "source": []
  }
 ],
 "metadata": {
  "kernelspec": {
   "display_name": "Python 3",
   "language": "python",
   "name": "python3"
  }
 },
 "nbformat": 4,
 "nbformat_minor": 0
}