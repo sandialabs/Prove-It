{
 "cells": [
  {
   "cell_type": "markdown",
   "metadata": {},
   "source": [
    "Proof of <a class=\"ProveItLink\" href=\"../../../../../../_theory_nbs_/theory.ipynb\">proveit</a>.<a class=\"ProveItLink\" href=\"../../../../../_theory_nbs_/theory.ipynb\">numbers</a>.<a class=\"ProveItLink\" href=\"../../../../_theory_nbs_/theory.ipynb\">numerals</a>.<a class=\"ProveItLink\" href=\"../../theory.ipynb\">decimals</a>.<a class=\"ProveItLink\" href=\"../../theorems.ipynb#mult_4_0\">mult_4_0</a> theorem\n",
    "========"
   ]
  },
  {
   "cell_type": "code",
   "execution_count": 1,
   "metadata": {},
   "outputs": [],
   "source": [
    "import proveit\n",
    "theory = proveit.Theory() # the theorem's theory"
   ]
  },
  {
   "cell_type": "code",
   "execution_count": 2,
   "metadata": {},
   "outputs": [
    {
     "data": {
      "text/html": [
       "With these <a href=\"allowed_presumptions.txt\">allowed</a>/<a href=\"disallowed_presumptions.txt\">disallowed</a> theorem/theory presumptions (e.g., to avoid circular dependencies), we begin our proof of<br><strong id=\"mult_4_0\">mult_4_0:</strong> <a class=\"ProveItLink\" href=\"../../../__pv_it/theorems/3489ac68e5836d8457a7ba3b328942c5334a3bee0/expr.ipynb\"><img src=\"data:image/png;base64,iVBORw0KGgoAAAANSUhEUgAAAFcAAAAVBAMAAADBdm84AAAAMFBMVEX///8AAAAAAAAAAAAAAAAA\n",
       "AAAAAAAAAAAAAAAAAAAAAAAAAAAAAAAAAAAAAAAAAAAv3aB7AAAAD3RSTlMAInZUiRDNmWbv3US7\n",
       "qzJazP2FAAAACXBIWXMAAA7EAAAOxAGVKw4bAAABQElEQVQoz3WTsUvDQBSHf0m9mlaR4CROcXIS\n",
       "bhDXZnBUyB8g6CJ0EToUEXHoJrrYXRTFTSiIu1idFURcC90sLjoIIgh6Ly9eyN3lhvDuy8fj98gL\n",
       "gBDWcSA+vrTZdZm8SI/X/L48H8LvWBphiA0qexpWpTgHNk2X8Tg18XP5EFgB9k2ZcY3K0Zamj0Aj\n",
       "QS0xZMZLVMa5/AW8S1TN0IzblCLUsiDawdhT0c1wU5Uz0LL3qWiEIB1795JOL8cXlMKQY1S6xc4Z\n",
       "PgaCkOV11U4oehth6sOIwVjJ02C53uJJGhITXXtAhVWMm8Hg++WfPgBHCSpnxcwZvk+VE93iANhW\n",
       "yfpGZ8araf2jaV2KU/VdY0Nm/Ebl3u+zHqW9MFTvrgw5w0PXKs66NzRouehOyT7fOZjXL5HXHGyy\n",
       "7L/yIpvNudU/XyJWT6NZYiAAAAAASUVORK5CYII=\n",
       "\" style=\"display:inline;vertical-align:middle;\" /></a><br>(see <a class=\"ProveItLink\" href=\"../../../__pv_it/theorems/43764812da1cd4c6356d135a66dd9a8e53b0607f0/dependencies.ipynb\">dependencies</a>)<br>"
      ],
      "text/plain": [
       "<IPython.core.display.HTML object>"
      ]
     },
     "metadata": {},
     "output_type": "display_data"
    },
    {
     "name": "stdout",
     "output_type": "stream",
     "text": [
      "mult_4_0 may now be readily provable (assuming required theorems are usable).  Simply execute \"%qed\".\n"
     ]
    }
   ],
   "source": [
    "%proving mult_4_0"
   ]
  },
  {
   "cell_type": "code",
   "execution_count": null,
   "metadata": {},
   "outputs": [],
   "source": []
  }
 ],
 "metadata": {
  "kernelspec": {
   "display_name": "Python 3",
   "language": "python",
   "name": "python3"
  }
 },
 "nbformat": 4,
 "nbformat_minor": 0
}