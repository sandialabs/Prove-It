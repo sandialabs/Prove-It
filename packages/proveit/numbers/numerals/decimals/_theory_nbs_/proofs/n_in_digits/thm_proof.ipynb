{
 "cells": [
  {
   "cell_type": "markdown",
   "metadata": {},
   "source": [
    "Proof of <a class=\"ProveItLink\" href=\"../../../../../../_theory_nbs_/theory.ipynb\">proveit</a>.<a class=\"ProveItLink\" href=\"../../../../../_theory_nbs_/theory.ipynb\">numbers</a>.<a class=\"ProveItLink\" href=\"../../../../_theory_nbs_/theory.ipynb\">numerals</a>.<a class=\"ProveItLink\" href=\"../../theory.ipynb\">decimals</a>.<a class=\"ProveItLink\" href=\"../../theorems.ipynb#n_in_digits\">n_in_digits</a> theorem\n",
    "========"
   ]
  },
  {
   "cell_type": "code",
   "execution_count": 1,
   "metadata": {},
   "outputs": [],
   "source": [
    "import proveit\n",
    "theory = proveit.Theory() # the theorem's theory"
   ]
  },
  {
   "cell_type": "code",
   "execution_count": 2,
   "metadata": {},
   "outputs": [
    {
     "data": {
      "text/html": [
       "With these <a href=\"allowed_presumptions.txt\">allowed</a>/<a href=\"disallowed_presumptions.txt\">disallowed</a> theorem/theory presumptions (e.g., to avoid circular dependencies), we begin our proof of<br><strong id=\"n_in_digits\">n_in_digits:</strong> <a class=\"ProveItLink\" href=\"../../../__pv_it/theorems/0808406a59e2d0d75d4d02991031751bf0a21acc0/expr.ipynb\"><img src=\"data:image/png;base64,iVBORw0KGgoAAAANSUhEUgAAANoAAAAaBAMAAAAj219cAAAAMFBMVEX///8AAAAAAAAAAAAAAAAA\n",
       "AAAAAAAAAAAAAAAAAAAAAAAAAAAAAAAAAAAAAAAAAAAv3aB7AAAAD3RSTlMAq1RmmUTNIjK7EInv\n",
       "3XZ/CtNrAAAACXBIWXMAAA7EAAAOxAGVKw4bAAADTElEQVRIx7WWX0hTcRTHv/tzd+/u5rYsEo1k\n",
       "EsF8yUUIRWFCRdLTIgpEo9lLf56uj0bkhAgK0WGYzSiuCkZFOIqgIkSCQJDAB6kQBpMislVIItrw\n",
       "ofP73d27XVxzsHVgu79zfuf+Pvd3fuece4H/L/UKUqmyrda4CSwJS9zqQ3NZYNbCyxwIAt6InEZX\n",
       "WWjjBWcX/fTXrWAFtmQ5aLfzGZ/+uaPizXqol8HgDknLwDzgY9quEmDiVF7zgOCDvATrPZUUYXjs\n",
       "N7AAHGNTF0qg2eN5zTuV5wA9iMBxo5FVYEJFD3u8aAk0byivuTLqUDBLA2mbAkkVaOgIwkFol78E\n",
       "Wr9qzopEIsyuVU1imNMgblGdQUeEohCFjRLUUUqS/DRpZ75nBlWWSEqjQYSw7yVdPRTY94nETCm0\n",
       "7XQ2Cw8nH2gLX9bNVYg6Q7MmTyENtADD+Y+/OFqMTsJZiwmFKQ4lS7suz5tp0hrQCdGXm9BzL3CI\n",
       "G5xcd03G9WZnNI8heCaNTOwATldE0R3hNGRpNn/9FG7GSDK3iiu0qOoysqqvehB1LtWuZmlNaM00\n",
       "OwNGQduBOl2dA9SJEBr4Pb0JkqhGQ43FXIoy0axJ44HsLazSk80uZGnT8Cpas8uIjfWONVY8xt7Q\n",
       "wI+P5FHO3jAimyMpUiQRbqIljvR9AT4zW2D3tRyamIbbrzU7zcczwKyr2TLr0DJlWWZKRS5NSprr\n",
       "WKIKxzPKo7H2oFuR+WTANdqWpUlpVAS1Zsd9pLd87h369d1W028G1jR/RI8R8Lv0+xbdkJO4Sjlx\n",
       "5Su8qsAXCKB50URzJ7Vmx31Q/5qZWx8f1jvCDx4iT3g/187rS7OBPWyi2dgxWlg21aIdtkux2ADR\n",
       "njhMkfT6M82O+RCI4eSAV8/RcyqoLclbNfrIoHaeN9ZpX7KZZjdyfxpHJSmu7U3YsyFLWLPjPmTp\n",
       "OQ7cwln9Tre5T7bdT4T/UZkOPfjiEj4FtCpv5K8Gg/YLJzPNTvMh6ayhd9rFTd4BecRIY3oZpYLo\n",
       "ophKHxRYkFvdJ/Rmx32YKDh1MGJk2lSxtL1mVX4VG8xqziIXqSyW9rHQZLG08SL9Cn+XZGk5zU5i\n",
       "wyHzN1eRB1f4m0ss0/ekLnT+fwFF6div8VUDXgAAAABJRU5ErkJggg==\n",
       "\" style=\"display:inline;vertical-align:middle;\" /></a><br>(see <a class=\"ProveItLink\" href=\"../../../__pv_it/theorems/8ede500ae3a5a841f297ccb80e19534f127461e40/dependencies.ipynb\">dependencies</a>)<br>"
      ],
      "text/plain": [
       "<IPython.core.display.HTML object>"
      ]
     },
     "metadata": {},
     "output_type": "display_data"
    }
   ],
   "source": [
    "%proving n_in_digits"
   ]
  },
  {
   "cell_type": "code",
   "execution_count": null,
   "metadata": {},
   "outputs": [],
   "source": []
  }
 ],
 "metadata": {
  "kernelspec": {
   "display_name": "Python 3",
   "language": "python",
   "name": "python3"
  }
 },
 "nbformat": 4,
 "nbformat_minor": 0
}