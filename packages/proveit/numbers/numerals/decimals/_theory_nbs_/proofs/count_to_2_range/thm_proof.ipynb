{
 "cells": [
  {
   "cell_type": "markdown",
   "metadata": {},
   "source": [
    "Proof of <a class=\"ProveItLink\" href=\"../../../../../../_theory_nbs_/theory.ipynb\">proveit</a>.<a class=\"ProveItLink\" href=\"../../../../../_theory_nbs_/theory.ipynb\">numbers</a>.<a class=\"ProveItLink\" href=\"../../../../_theory_nbs_/theory.ipynb\">numerals</a>.<a class=\"ProveItLink\" href=\"../../theory.ipynb\">decimals</a>.<a class=\"ProveItLink\" href=\"../../theorems.ipynb#count_to_2_range\">count_to_2_range</a> theorem\n",
    "========"
   ]
  },
  {
   "cell_type": "code",
   "execution_count": 1,
   "metadata": {},
   "outputs": [],
   "source": [
    "import proveit\n",
    "theory = proveit.Theory() # the theorem's theory"
   ]
  },
  {
   "cell_type": "code",
   "execution_count": 2,
   "metadata": {},
   "outputs": [
    {
     "data": {
      "text/html": [
       "With these <a href=\"allowed_presumptions.txt\">allowed</a>/<a href=\"disallowed_presumptions.txt\">disallowed</a> theorem/theory presumptions (e.g., to avoid circular dependencies), we begin our proof of<br><strong id=\"count_to_2_range\">count_to_2_range:</strong> <a class=\"ProveItLink\" href=\"../../../__pv_it/theorems/a859225b88ee453b5fed3467550d780a123510610/expr.ipynb\"><img src=\"data:image/png;base64,iVBORw0KGgoAAAANSUhEUgAAAJkAAAAVBAMAAACnAFEqAAAAMFBMVEX///8AAAAAAAAAAAAAAAAA\n",
       "AAAAAAAAAAAAAAAAAAAAAAAAAAAAAAAAAAAAAAAAAAAv3aB7AAAAD3RSTlMAInZUiRDNmWbv3US7\n",
       "qzJazP2FAAAACXBIWXMAAA7EAAAOxAGVKw4bAAAB2klEQVQ4y5WVv0scQRTHP3s/vL3VC2sVEIuz\n",
       "CKTTwhwk1f0DwcU6kGsEi4hXSDYEi6u0iXBNinCFByKCIUTs7E7/gHCpAoHgFalsvAS0CWQzs+6N\n",
       "OzMLS74ww5vZz76dmffmLeCjyyFDPrmKkcKSMTtdt0kLytCp7JZFuwqSmYevv8Bjm9QgW074akSh\n",
       "A+UW5W+bCegMWDlhynpNgzI0T+kPrEFFeGQxAWs+1S5u26Q1KENf4QPsQpUUWL2h9gvem7QGZWg/\n",
       "4FIsJKCRBmt9an9h3aQbOd6+w+WIqQ5bBuiN4blJb+V4E/oMpeHdOlLgtciPnfisjmMNpb2e6+3B\n",
       "b3BbHBjgJ9GemuxBrjdPfLXYpaeDlYFcn8n2cr1ty/WNTXBPdmf/7c2VBzLdNTZRbDILz8xzy93p\n",
       "Mo5Psc/FBIzZn/AI3pmwDunXJI5Bk0KAO7jLhhWf8q28WUdh2E8SIi0NiruXrZTBXBi+FbtpciUG\n",
       "P/Y3OhyL73pRFImnH01vGsSRjGF7YhzKZIsi4dk7wRtNjkztwulb8bchpSfKmuP+ipf0O66HzIaU\n",
       "msp6I9p5Yq+m6oslG1JRULXVkan6IhnUrVdTsiFVlZU1I0u5YxKFjH+AU8+v5AvwD4a/dwsffOOV\n",
       "AAAAAElFTkSuQmCC\n",
       "\" style=\"display:inline;vertical-align:middle;\" /></a><br>(see <a class=\"ProveItLink\" href=\"../../../__pv_it/theorems/9214132c54d09a64a2550527afe496168f0b26c00/dependencies.ipynb\">dependencies</a>)<br>"
      ],
      "text/plain": [
       "<IPython.core.display.HTML object>"
      ]
     },
     "metadata": {},
     "output_type": "display_data"
    }
   ],
   "source": [
    "%proving count_to_2_range"
   ]
  },
  {
   "cell_type": "code",
   "execution_count": null,
   "metadata": {},
   "outputs": [],
   "source": []
  }
 ],
 "metadata": {
  "kernelspec": {
   "display_name": "Python 3",
   "language": "python",
   "name": "python3"
  }
 },
 "nbformat": 4,
 "nbformat_minor": 0
}