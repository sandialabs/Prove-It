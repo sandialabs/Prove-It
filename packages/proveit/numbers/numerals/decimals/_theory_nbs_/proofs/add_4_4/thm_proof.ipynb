{
 "cells": [
  {
   "cell_type": "markdown",
   "metadata": {},
   "source": [
    "Proof of <a class=\"ProveItLink\" href=\"../../../../../../_theory_nbs_/theory.ipynb\">proveit</a>.<a class=\"ProveItLink\" href=\"../../../../../_theory_nbs_/theory.ipynb\">numbers</a>.<a class=\"ProveItLink\" href=\"../../../../_theory_nbs_/theory.ipynb\">numerals</a>.<a class=\"ProveItLink\" href=\"../../theory.ipynb\">decimals</a>.<a class=\"ProveItLink\" href=\"../../theorems.ipynb#add_4_4\">add_4_4</a> theorem\n",
    "========"
   ]
  },
  {
   "cell_type": "code",
   "execution_count": 1,
   "metadata": {},
   "outputs": [],
   "source": [
    "import proveit\n",
    "theory = proveit.Theory() # the theorem's theory"
   ]
  },
  {
   "cell_type": "code",
   "execution_count": 2,
   "metadata": {},
   "outputs": [
    {
     "data": {
      "text/html": [
       "With these <a href=\"allowed_presumptions.txt\">allowed</a>/<a href=\"disallowed_presumptions.txt\">disallowed</a> theorem/theory presumptions (e.g., to avoid circular dependencies), we begin our proof of<br><strong id=\"add_4_4\">add_4_4:</strong> <a class=\"ProveItLink\" href=\"../../../__pv_it/theorems/0c5b9c331fa94ee00263a241ea6d426381438db20/expr.ipynb\"><img src=\"data:image/png;base64,iVBORw0KGgoAAAANSUhEUgAAAGEAAAAVBAMAAACkm51HAAAAMFBMVEX///8AAAAAAAAAAAAAAAAA\n",
       "AAAAAAAAAAAAAAAAAAAAAAAAAAAAAAAAAAAAAAAAAAAv3aB7AAAAD3RSTlMAInZUiRDNmWbv3US7\n",
       "qzJazP2FAAAACXBIWXMAAA7EAAAOxAGVKw4bAAABbklEQVQ4y2NgYBBgwA5wiTMwGeCQ2IRLhwmI\n",
       "eI4uylfAwNSALsjq4r4BSCaA2GvRJbkuMDCkoguyMzBcBpIgk5hgOnbAJLWAOtrRdXQwMIQxMHCC\n",
       "mC9yoWJGMEe1AXVwBqDp8AXrMAMxHdB1sLABdbChe8T+KEMFA0MJyFEC6DoUQTpYLqDp4P2vDgzY\n",
       "DCBLggFNB2MDSAcHOFDYV4EBWHf9L2AkLQY5Cl0HCwNIB/MENDuYHc9/ZmCYDTRLAKKjatWqmatW\n",
       "gYKtEayD7wOajnYG5p8BIB1CDGh2MCqAdXCj2zGVgUHeAOSqvXfv/ryCrIP77t37cx0YmBeg+oMV\n",
       "aCdvA8MhsJq5aGHFwAny+QE0OyYyMPAIgGIFCP6g6+AHqmZ3QNOxLYChiYHhFYhZ8/8Sqg72838V\n",
       "GLg2oCfP6+VAIa4HyGJGyBwp7ImdowCZtwOZU4EjfxzElXEYD+CQiMGlgwdXtgVGF3agiF0YAGjU\n",
       "WHMRvhQbAAAAAElFTkSuQmCC\n",
       "\" style=\"display:inline;vertical-align:middle;\" /></a><br>(see <a class=\"ProveItLink\" href=\"../../../__pv_it/theorems/87b09643fb348c256942734335e7f028cc15384a0/dependencies.ipynb\">dependencies</a>)<br>"
      ],
      "text/plain": [
       "<IPython.core.display.HTML object>"
      ]
     },
     "metadata": {},
     "output_type": "display_data"
    },
    {
     "name": "stdout",
     "output_type": "stream",
     "text": [
      "add_4_4 may now be readily provable (assuming required theorems are usable).  Simply execute \"%qed\".\n"
     ]
    }
   ],
   "source": [
    "%proving add_4_4"
   ]
  },
  {
   "cell_type": "code",
   "execution_count": null,
   "metadata": {},
   "outputs": [],
   "source": []
  }
 ],
 "metadata": {
  "kernelspec": {
   "display_name": "Python 3",
   "language": "python",
   "name": "python3"
  }
 },
 "nbformat": 4,
 "nbformat_minor": 0
}