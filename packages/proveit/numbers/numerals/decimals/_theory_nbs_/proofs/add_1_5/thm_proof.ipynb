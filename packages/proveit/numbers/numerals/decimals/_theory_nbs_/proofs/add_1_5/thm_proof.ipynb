{
 "cells": [
  {
   "cell_type": "markdown",
   "metadata": {},
   "source": [
    "Proof of <a class=\"ProveItLink\" href=\"../../../../../../_theory_nbs_/theory.ipynb\">proveit</a>.<a class=\"ProveItLink\" href=\"../../../../../_theory_nbs_/theory.ipynb\">numbers</a>.<a class=\"ProveItLink\" href=\"../../../../_theory_nbs_/theory.ipynb\">numerals</a>.<a class=\"ProveItLink\" href=\"../../theory.ipynb\">decimals</a>.<a class=\"ProveItLink\" href=\"../../theorems.ipynb#add_1_5\">add_1_5</a> theorem\n",
    "========"
   ]
  },
  {
   "cell_type": "code",
   "execution_count": 1,
   "metadata": {},
   "outputs": [],
   "source": [
    "import proveit\n",
    "theory = proveit.Theory() # the theorem's theory"
   ]
  },
  {
   "cell_type": "code",
   "execution_count": 2,
   "metadata": {},
   "outputs": [
    {
     "data": {
      "text/html": [
       "With these <a href=\"allowed_presumptions.txt\">allowed</a>/<a href=\"disallowed_presumptions.txt\">disallowed</a> theorem/theory presumptions (e.g., to avoid circular dependencies), we begin our proof of<br><strong id=\"add_1_5\">add_1_5:</strong> <a class=\"ProveItLink\" href=\"../../../__pv_it/theorems/955e6e05b94bf7b6817a26a111dafd694aa316160/expr.ipynb\"><img src=\"data:image/png;base64,iVBORw0KGgoAAAANSUhEUgAAAGEAAAAVBAMAAACkm51HAAAAMFBMVEX///8AAAAAAAAAAAAAAAAA\n",
       "AAAAAAAAAAAAAAAAAAAAAAAAAAAAAAAAAAAAAAAAAAAv3aB7AAAAD3RSTlMAInZUiRDNmWbv3US7\n",
       "qzJazP2FAAAACXBIWXMAAA7EAAAOxAGVKw4bAAABWklEQVQ4y2NgYBBgwA5wiTMwGWCK8TEwBDJs\n",
       "wqXDBIhfBaCKcX7LWsrA1IChlsXFj4GBNYGB9Xo+mg6u+UuAIqnoGhizGW4xMLCDTNKH6dgBoXjB\n",
       "ZDu6DjYFhjNABzAg6zBC1sGJZjODPVjADLcONnSPnASTJVh1NPk+APrzApqOaU/UNzAwZGDTwRPA\n",
       "+JuBgSMBxGZfBQYg3d8aGCYzMCzGpgMITjEwME9AtYL1PwNDZQDDbISOqlWrZq5atRYiXS/AwPcB\n",
       "TccvBob+Dcg6EHYcA+p4wMCNZgfDN6COBuyumsXAcB/oqgVo/jgFtuMQNh0ODAxzgD4/gB4fQH8w\n",
       "MPiCmP4CqDrEGZimAk13QNPB48AKDKtXQNbd+bkNKDoYy68DbeXagJ5M3GuB0cT1AFnICJkjhT2x\n",
       "cxQg83Ygcypw5I+DuDIO4wEcEjG4dPDgyraMCjgkFLELAwDztVN7CySCPgAAAABJRU5ErkJggg==\n",
       "\" style=\"display:inline;vertical-align:middle;\" /></a><br>(see <a class=\"ProveItLink\" href=\"../../../__pv_it/theorems/ffebe0a72ee66ace295d30f8c1910573fe75120d0/dependencies.ipynb\">dependencies</a>)<br>"
      ],
      "text/plain": [
       "<IPython.core.display.HTML object>"
      ]
     },
     "metadata": {},
     "output_type": "display_data"
    },
    {
     "name": "stdout",
     "output_type": "stream",
     "text": [
      "add_1_5 may now be readily provable (assuming required theorems are usable).  Simply execute \"%qed\".\n"
     ]
    }
   ],
   "source": [
    "%proving add_1_5"
   ]
  },
  {
   "cell_type": "code",
   "execution_count": null,
   "metadata": {},
   "outputs": [],
   "source": []
  }
 ],
 "metadata": {
  "kernelspec": {
   "display_name": "Python 3",
   "language": "python",
   "name": "python3"
  }
 },
 "nbformat": 4,
 "nbformat_minor": 0
}