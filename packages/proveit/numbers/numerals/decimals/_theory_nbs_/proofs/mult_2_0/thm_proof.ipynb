{
 "cells": [
  {
   "cell_type": "markdown",
   "metadata": {},
   "source": [
    "Proof of <a class=\"ProveItLink\" href=\"../../../../../../_theory_nbs_/theory.ipynb\">proveit</a>.<a class=\"ProveItLink\" href=\"../../../../../_theory_nbs_/theory.ipynb\">numbers</a>.<a class=\"ProveItLink\" href=\"../../../../_theory_nbs_/theory.ipynb\">numerals</a>.<a class=\"ProveItLink\" href=\"../../theory.ipynb\">decimals</a>.<a class=\"ProveItLink\" href=\"../../theorems.ipynb#mult_2_0\">mult_2_0</a> theorem\n",
    "========"
   ]
  },
  {
   "cell_type": "code",
   "execution_count": 1,
   "metadata": {},
   "outputs": [],
   "source": [
    "import proveit\n",
    "theory = proveit.Theory() # the theorem's theory"
   ]
  },
  {
   "cell_type": "code",
   "execution_count": 2,
   "metadata": {},
   "outputs": [
    {
     "data": {
      "text/html": [
       "With these <a href=\"allowed_presumptions.txt\">allowed</a>/<a href=\"disallowed_presumptions.txt\">disallowed</a> theorem/theory presumptions (e.g., to avoid circular dependencies), we begin our proof of<br><strong id=\"mult_2_0\">mult_2_0:</strong> <a class=\"ProveItLink\" href=\"../../../__pv_it/theorems/849b35052cdf51c982f91849042209dc3d0d951f0/expr.ipynb\"><img src=\"data:image/png;base64,iVBORw0KGgoAAAANSUhEUgAAAFcAAAAVBAMAAADBdm84AAAAMFBMVEX///8AAAAAAAAAAAAAAAAA\n",
       "AAAAAAAAAAAAAAAAAAAAAAAAAAAAAAAAAAAAAAAAAAAv3aB7AAAAD3RSTlMAInZUiRDNmWbv3US7\n",
       "qzJazP2FAAAACXBIWXMAAA7EAAAOxAGVKw4bAAABTUlEQVQoz3XTMUvDQBQH8H8a0ybVSJwEpziI\n",
       "k5BBXJvBUTEfQDCL4NihtOKUTRTE7IJEHAShUPwCRmct/QgdnFxaQXEz3uXurLlcjlDe+/HneA+u\n",
       "AByUjoLYqXlle6gKbwLL3eGs3153UItKMcowQmgp9gYC655xAxzKWcaNCLYDKxZ6DuwAp3KYsUW+\n",
       "L9gfQl+BVgArkMKMtwA7gf0j9BuYeKjLQzPu5HVzytGgGmFuVMxyPsqbictV+8wbM6TNyT09/Rnf\n",
       "5pk+/od96HHxZs5XtG6k9PeAXGcQfXSxOJXGYJyHL9jgbbZJy8N8XF6QMB1D97Ek9AW4DKAnxZk5\n",
       "P5PqDVgT4TOgC5ipdDPjXTL9Xa+XCG16xjVZwpfCjN9JkWVZ+LdKZ2NMaCCFOY9VT3FF/ULNtkqP\n",
       "K97zk8K0tCK8r7CFqv+V5pZtVR39Bek2WbRh9PBQAAAAAElFTkSuQmCC\n",
       "\" style=\"display:inline;vertical-align:middle;\" /></a><br>(see <a class=\"ProveItLink\" href=\"../../../__pv_it/theorems/fc2dd8ad78baae0f0cdff38136fd2e6bc96bf9df0/dependencies.ipynb\">dependencies</a>)<br>"
      ],
      "text/plain": [
       "<IPython.core.display.HTML object>"
      ]
     },
     "metadata": {},
     "output_type": "display_data"
    },
    {
     "name": "stdout",
     "output_type": "stream",
     "text": [
      "mult_2_0 may now be readily provable (assuming required theorems are usable).  Simply execute \"%qed\".\n"
     ]
    }
   ],
   "source": [
    "%proving mult_2_0"
   ]
  },
  {
   "cell_type": "code",
   "execution_count": null,
   "metadata": {},
   "outputs": [],
   "source": []
  }
 ],
 "metadata": {
  "kernelspec": {
   "display_name": "Python 3",
   "language": "python",
   "name": "python3"
  }
 },
 "nbformat": 4,
 "nbformat_minor": 0
}