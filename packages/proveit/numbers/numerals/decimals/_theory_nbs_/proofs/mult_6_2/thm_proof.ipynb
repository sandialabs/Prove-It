{
 "cells": [
  {
   "cell_type": "markdown",
   "metadata": {},
   "source": [
    "Proof of <a class=\"ProveItLink\" href=\"../../../../../../_theory_nbs_/theory.ipynb\">proveit</a>.<a class=\"ProveItLink\" href=\"../../../../../_theory_nbs_/theory.ipynb\">numbers</a>.<a class=\"ProveItLink\" href=\"../../../../_theory_nbs_/theory.ipynb\">numerals</a>.<a class=\"ProveItLink\" href=\"../../theory.ipynb\">decimals</a>.<a class=\"ProveItLink\" href=\"../../theorems.ipynb#mult_6_2\">mult_6_2</a> theorem\n",
    "========"
   ]
  },
  {
   "cell_type": "code",
   "execution_count": 1,
   "metadata": {},
   "outputs": [],
   "source": [
    "import proveit\n",
    "theory = proveit.Theory() # the theorem's theory"
   ]
  },
  {
   "cell_type": "code",
   "execution_count": 2,
   "metadata": {},
   "outputs": [
    {
     "data": {
      "text/html": [
       "With these <a href=\"allowed_presumptions.txt\">allowed</a>/<a href=\"disallowed_presumptions.txt\">disallowed</a> theorem/theory presumptions (e.g., to avoid circular dependencies), we begin our proof of<br><strong id=\"mult_6_2\">mult_6_2:</strong> <a class=\"ProveItLink\" href=\"../../../__pv_it/theorems/5249e47cc210c386bee0616b8e7ff2ead40302d60/expr.ipynb\"><img src=\"data:image/png;base64,iVBORw0KGgoAAAANSUhEUgAAAGEAAAAVBAMAAACkm51HAAAAMFBMVEX///8AAAAAAAAAAAAAAAAA\n",
       "AAAAAAAAAAAAAAAAAAAAAAAAAAAAAAAAAAAAAAAAAAAv3aB7AAAAD3RSTlMAInZUiRDNmWbv3US7\n",
       "qzJazP2FAAAACXBIWXMAAA7EAAAOxAGVKw4bAAABY0lEQVQ4y32TMUvDQBTH/2mivWjaZnIoDvoN\n",
       "HMS5SFehq6A0CEIHkQ5ipDp0c+3iIA4WxEUQi58gFT+AbupgMztVoUVwqO+SXhuaxx0c5P6/+793\n",
       "7/IOgIvUYKTEyKyltUetY51muRyqpeEfhMg0U9vyt2OGOQ9Y6uTaiizD+gP2Zw27xwPFshRuD06g\n",
       "0CtwCZynDz9QzAbMQYJcV9BzYVc4R8w2AKeVIB9AL8R8k3PE7IjSHG6eJuEDYL1wjpjVgEINduKK\n",
       "8z+A8ORX406O+4RDshug2kf2YupYoPhmi88h2RU52hB0a6hGgXEmY/V5h2TkKHgQvzJAXYpClrDI\n",
       "54gYncoZ51A9YLgw22wdEXuiQ1Mdk5j5EjIViIDLEbMtWj1je3JXRd9vUCeUZh3Wt2JfcuV/Tn/G\n",
       "aDSkkjozhtz78E2xkGvooqbZRZ1TT3Tvo8toRqBz7DCao322xkpaW9Xs/weYE2YFJyYoWgAAAABJ\n",
       "RU5ErkJggg==\n",
       "\" style=\"display:inline;vertical-align:middle;\" /></a><br>(see <a class=\"ProveItLink\" href=\"../../../__pv_it/theorems/cb3c9856fa3349bd7472eefec28fd3d2a0a3841f0/dependencies.ipynb\">dependencies</a>)<br>"
      ],
      "text/plain": [
       "<IPython.core.display.HTML object>"
      ]
     },
     "metadata": {},
     "output_type": "display_data"
    },
    {
     "name": "stdout",
     "output_type": "stream",
     "text": [
      "mult_6_2 may now be readily provable (assuming required theorems are usable).  Simply execute \"%qed\".\n"
     ]
    }
   ],
   "source": [
    "%proving mult_6_2"
   ]
  },
  {
   "cell_type": "code",
   "execution_count": null,
   "metadata": {},
   "outputs": [],
   "source": []
  }
 ],
 "metadata": {
  "kernelspec": {
   "display_name": "Python 3",
   "language": "python",
   "name": "python3"
  }
 },
 "nbformat": 4,
 "nbformat_minor": 0
}