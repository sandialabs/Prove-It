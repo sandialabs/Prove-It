{
 "cells": [
  {
   "cell_type": "markdown",
   "metadata": {},
   "source": [
    "Proof of <a class=\"ProveItLink\" href=\"../../../../../../_theory_nbs_/theory.ipynb\">proveit</a>.<a class=\"ProveItLink\" href=\"../../../../../_theory_nbs_/theory.ipynb\">numbers</a>.<a class=\"ProveItLink\" href=\"../../../../_theory_nbs_/theory.ipynb\">numerals</a>.<a class=\"ProveItLink\" href=\"../../theory.ipynb\">decimals</a>.<a class=\"ProveItLink\" href=\"../../theorems.ipynb#mult_9_5\">mult_9_5</a> theorem\n",
    "========"
   ]
  },
  {
   "cell_type": "code",
   "execution_count": 1,
   "metadata": {},
   "outputs": [],
   "source": [
    "import proveit\n",
    "theory = proveit.Theory() # the theorem's theory"
   ]
  },
  {
   "cell_type": "code",
   "execution_count": 2,
   "metadata": {},
   "outputs": [
    {
     "data": {
      "text/html": [
       "With these <a href=\"allowed_presumptions.txt\">allowed</a>/<a href=\"disallowed_presumptions.txt\">disallowed</a> theorem/theory presumptions (e.g., to avoid circular dependencies), we begin our proof of<br><strong id=\"mult_9_5\">mult_9_5:</strong> <a class=\"ProveItLink\" href=\"../../../__pv_it/theorems/958666e5ecbb204c69efff18c17f918a6853756c0/expr.ipynb\"><img src=\"data:image/png;base64,iVBORw0KGgoAAAANSUhEUgAAAGEAAAAVBAMAAACkm51HAAAAMFBMVEX///8AAAAAAAAAAAAAAAAA\n",
       "AAAAAAAAAAAAAAAAAAAAAAAAAAAAAAAAAAAAAAAAAAAv3aB7AAAAD3RSTlMAInZUiRDNmWbv3US7\n",
       "qzJazP2FAAAACXBIWXMAAA7EAAAOxAGVKw4bAAABfElEQVQ4y32TvUvDQBiHf4n9Svq5CU4tODmJ\n",
       "iHMH10KdXIRkEcSpg1BxsTro2qWLVRRrF0Eo/gXRQcTFLOJUmlVBEEURRPFN7hKb3JEbksv73HP3\n",
       "Xt47ACUITRIaa+ps6LMALOFSPtRjwDyQbj4EUe1zvQ+1JRneYAxJE8lTPAV56MdndWBVNHSbs3QL\n",
       "+TZylg/y3nNfNGZszjSgaCLxETa0upDUnm8sAIYF9TtspISNJFK+scHW+AqM3ZpD3I4aFdfw2Bq8\n",
       "fbz5JFdXaL2M6fa3zt124XaVFhmM9eh3dfHyPjbdHTDRjiaFlM1Zl17L03O/9DJMRrdLKLxGjB1u\n",
       "EOuyKdx/pTfocUNRB9nIGkrZNRjrseyDehwAI8rqJLyP7HA4Oqoydk24A8PxjSpwSDu3hApqNmc1\n",
       "Oot93AZgEmqHTkJVMIoWZ8/0sdgc/GfcfKR664OokL7/KXPmyM71VMz1yDRk0c24G3UliSlWnLEi\n",
       "ieViry0VR2iVmPF/SRJjpG91aosAAAAASUVORK5CYII=\n",
       "\" style=\"display:inline;vertical-align:middle;\" /></a><br>(see <a class=\"ProveItLink\" href=\"../../../__pv_it/theorems/1dbdb449c9d4ed962f4ae9a261bf1585a47edf520/dependencies.ipynb\">dependencies</a>)<br>"
      ],
      "text/plain": [
       "<IPython.core.display.HTML object>"
      ]
     },
     "metadata": {},
     "output_type": "display_data"
    },
    {
     "name": "stdout",
     "output_type": "stream",
     "text": [
      "mult_9_5 may now be readily provable (assuming required theorems are usable).  Simply execute \"%qed\".\n"
     ]
    }
   ],
   "source": [
    "%proving mult_9_5"
   ]
  },
  {
   "cell_type": "code",
   "execution_count": null,
   "metadata": {},
   "outputs": [],
   "source": []
  }
 ],
 "metadata": {
  "kernelspec": {
   "display_name": "Python 3",
   "language": "python",
   "name": "python3"
  }
 },
 "nbformat": 4,
 "nbformat_minor": 0
}