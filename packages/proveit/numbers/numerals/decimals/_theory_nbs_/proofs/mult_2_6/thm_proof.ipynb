{
 "cells": [
  {
   "cell_type": "markdown",
   "metadata": {},
   "source": [
    "Proof of <a class=\"ProveItLink\" href=\"../../../../../../_theory_nbs_/theory.ipynb\">proveit</a>.<a class=\"ProveItLink\" href=\"../../../../../_theory_nbs_/theory.ipynb\">numbers</a>.<a class=\"ProveItLink\" href=\"../../../../_theory_nbs_/theory.ipynb\">numerals</a>.<a class=\"ProveItLink\" href=\"../../theory.ipynb\">decimals</a>.<a class=\"ProveItLink\" href=\"../../theorems.ipynb#mult_2_6\">mult_2_6</a> theorem\n",
    "========"
   ]
  },
  {
   "cell_type": "code",
   "execution_count": 1,
   "metadata": {},
   "outputs": [],
   "source": [
    "import proveit\n",
    "theory = proveit.Theory() # the theorem's theory"
   ]
  },
  {
   "cell_type": "code",
   "execution_count": 2,
   "metadata": {},
   "outputs": [
    {
     "data": {
      "text/html": [
       "With these <a href=\"allowed_presumptions.txt\">allowed</a>/<a href=\"disallowed_presumptions.txt\">disallowed</a> theorem/theory presumptions (e.g., to avoid circular dependencies), we begin our proof of<br><strong id=\"mult_2_6\">mult_2_6:</strong> <a class=\"ProveItLink\" href=\"../../../__pv_it/theorems/35600de4dd524e8eb849b04c26032a7a1bc55c6e0/expr.ipynb\"><img src=\"data:image/png;base64,iVBORw0KGgoAAAANSUhEUgAAAGEAAAAVBAMAAACkm51HAAAAMFBMVEX///8AAAAAAAAAAAAAAAAA\n",
       "AAAAAAAAAAAAAAAAAAAAAAAAAAAAAAAAAAAAAAAAAAAv3aB7AAAAD3RSTlMAInZUiRDNmWbv3US7\n",
       "qzJazP2FAAAACXBIWXMAAA7EAAAOxAGVKw4bAAABi0lEQVQ4y32TMUvDQBTH/2kT28QmxEkoDnUQ\n",
       "V4fiagbBSc0HUOwiCDp0kEaLQjYnsSAI4mBBRBBKi58guikiuqlLO3RysQrtoGB8l3q1NEce4Xj3\n",
       "/ve7917uDoCJkAlCfRabCseuIoksMFp4+J/LswuIuaFlxjkgORsNQMlB8rBY44q0jldgdRBYLrSB\n",
       "McjfQMKFbkItcWkog3tgL1w8EU/AMaDS14b+wZUZm42qLSJObdRNTAN6GfoPV267mVwRQeXWG9gM\n",
       "5lqLK0fNSepJfhQRZFVgLXDeM1zpuDgEkjnmFy+ZVfoI4xM4C+YVDig+sG0jXhLn0Cj3CXMSHhtX\n",
       "aGPlCziowWiJiR38EfvdZvKsKiJcDItzJFl7rKq4hRGu3AU54mVhH1lIJm7IaQITvfOgPmgzT5TD\n",
       "sBCzMU8X48JxylxJWQr9q4Q1SMh0xmnHKQJvVL/v+7meNLdLt02rDQD6S+cZVd+nNrWG6EKnIy57\n",
       "Mi+KbkW9j2tBTPKiiCVBLBX5bKVMODYesf4XfpVnBKfkuyIAAAAASUVORK5CYII=\n",
       "\" style=\"display:inline;vertical-align:middle;\" /></a><br>(see <a class=\"ProveItLink\" href=\"../../../__pv_it/theorems/ea86a8cbdec1653fa20696103d7d85e330f38f9d0/dependencies.ipynb\">dependencies</a>)<br>"
      ],
      "text/plain": [
       "<IPython.core.display.HTML object>"
      ]
     },
     "metadata": {},
     "output_type": "display_data"
    },
    {
     "name": "stdout",
     "output_type": "stream",
     "text": [
      "mult_2_6 may now be readily provable (assuming required theorems are usable).  Simply execute \"%qed\".\n"
     ]
    }
   ],
   "source": [
    "%proving mult_2_6"
   ]
  },
  {
   "cell_type": "code",
   "execution_count": null,
   "metadata": {},
   "outputs": [],
   "source": []
  }
 ],
 "metadata": {
  "kernelspec": {
   "display_name": "Python 3",
   "language": "python",
   "name": "python3"
  }
 },
 "nbformat": 4,
 "nbformat_minor": 0
}