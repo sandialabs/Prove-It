{
 "cells": [
  {
   "cell_type": "markdown",
   "metadata": {},
   "source": [
    "Proof of <a class=\"ProveItLink\" href=\"../../../../../../_theory_nbs_/theory.ipynb\">proveit</a>.<a class=\"ProveItLink\" href=\"../../../../../_theory_nbs_/theory.ipynb\">numbers</a>.<a class=\"ProveItLink\" href=\"../../../../_theory_nbs_/theory.ipynb\">numerals</a>.<a class=\"ProveItLink\" href=\"../../theory.ipynb\">decimals</a>.<a class=\"ProveItLink\" href=\"../../theorems.ipynb#mult_3_9\">mult_3_9</a> theorem\n",
    "========"
   ]
  },
  {
   "cell_type": "code",
   "execution_count": 1,
   "metadata": {},
   "outputs": [],
   "source": [
    "import proveit\n",
    "theory = proveit.Theory() # the theorem's theory"
   ]
  },
  {
   "cell_type": "code",
   "execution_count": 2,
   "metadata": {},
   "outputs": [
    {
     "data": {
      "text/html": [
       "With these <a href=\"allowed_presumptions.txt\">allowed</a>/<a href=\"disallowed_presumptions.txt\">disallowed</a> theorem/theory presumptions (e.g., to avoid circular dependencies), we begin our proof of<br><strong id=\"mult_3_9\">mult_3_9:</strong> <a class=\"ProveItLink\" href=\"../../../__pv_it/theorems/66b55ffd7aa0cf0d982c14bc7679f539e9ebd5b10/expr.ipynb\"><img src=\"data:image/png;base64,iVBORw0KGgoAAAANSUhEUgAAAGIAAAAVBAMAAABPrCZEAAAAMFBMVEX///8AAAAAAAAAAAAAAAAA\n",
       "AAAAAAAAAAAAAAAAAAAAAAAAAAAAAAAAAAAAAAAAAAAv3aB7AAAAD3RSTlMAInZUiRDNmWbv3US7\n",
       "qzJazP2FAAAACXBIWXMAAA7EAAAOxAGVKw4bAAABnUlEQVQ4y31TPUjDQBT+kib2l7SDoBaHugrS\n",
       "DkVwasGhi+KtitAugoNDESFSFbK51lE6KLiIIBYXR6urgnVUwWZ2EktdFOO7HP3hEvLgXXLfu+/e\n",
       "997dAUjBYz7QiKk5L3btv3SSuZ88MF56GMLmAYNqyYsVc8tGwXGcOvQK9CoKg0RrGeMI2JAZ09B+\n",
       "sGSatRzCFtQuypV+6AV4BA5lxjNwjCIwAUSBeAPJAeMbWGGIMolxwtBJkZA2MO8Chb5w/RfINjEm\n",
       "F/IKdGxAI9/h8/g5RnNY0NreTl255QCb5MbcO0bqeMog4qqsXXC7FAHji4Y38jOhatCr1abRySFU\n",
       "96SIUVqFww13Gu3R4DZM317M2jA+PYx9cq0iGIaNRJfvUhUx6lXckyPCK4u1hKpkTzD6RucROpXr\n",
       "yENJocxp9ySpLVS5tsD0P9qxJaUwilAZbrmKZQpbw/PALEvQf7goMdJ0QahBHP4gvzGHN1Er7XHB\n",
       "TfkwHIdOaoq3NGb73et0wPOIVP3Q3aAXdeeDKa0gxroPlgh8tkrGi80ErP8HKQJkj/2WR5sAAAAA\n",
       "SUVORK5CYII=\n",
       "\" style=\"display:inline;vertical-align:middle;\" /></a><br>(see <a class=\"ProveItLink\" href=\"../../../__pv_it/theorems/a67821e4fb795390548b16984e1fdb2100195c420/dependencies.ipynb\">dependencies</a>)<br>"
      ],
      "text/plain": [
       "<IPython.core.display.HTML object>"
      ]
     },
     "metadata": {},
     "output_type": "display_data"
    },
    {
     "name": "stdout",
     "output_type": "stream",
     "text": [
      "mult_3_9 may now be readily provable (assuming required theorems are usable).  Simply execute \"%qed\".\n"
     ]
    }
   ],
   "source": [
    "%proving mult_3_9"
   ]
  },
  {
   "cell_type": "code",
   "execution_count": null,
   "metadata": {},
   "outputs": [],
   "source": []
  }
 ],
 "metadata": {
  "kernelspec": {
   "display_name": "Python 3",
   "language": "python",
   "name": "python3"
  }
 },
 "nbformat": 4,
 "nbformat_minor": 0
}