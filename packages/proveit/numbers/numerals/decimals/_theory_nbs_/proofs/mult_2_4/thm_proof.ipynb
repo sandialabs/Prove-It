{
 "cells": [
  {
   "cell_type": "markdown",
   "metadata": {},
   "source": [
    "Proof of <a class=\"ProveItLink\" href=\"../../../../../../_theory_nbs_/theory.ipynb\">proveit</a>.<a class=\"ProveItLink\" href=\"../../../../../_theory_nbs_/theory.ipynb\">numbers</a>.<a class=\"ProveItLink\" href=\"../../../../_theory_nbs_/theory.ipynb\">numerals</a>.<a class=\"ProveItLink\" href=\"../../theory.ipynb\">decimals</a>.<a class=\"ProveItLink\" href=\"../../theorems.ipynb#mult_2_4\">mult_2_4</a> theorem\n",
    "========"
   ]
  },
  {
   "cell_type": "code",
   "execution_count": 1,
   "metadata": {},
   "outputs": [],
   "source": [
    "import proveit\n",
    "theory = proveit.Theory() # the theorem's theory"
   ]
  },
  {
   "cell_type": "code",
   "execution_count": 2,
   "metadata": {},
   "outputs": [
    {
     "data": {
      "text/html": [
       "With these <a href=\"allowed_presumptions.txt\">allowed</a>/<a href=\"disallowed_presumptions.txt\">disallowed</a> theorem/theory presumptions (e.g., to avoid circular dependencies), we begin our proof of<br><strong id=\"mult_2_4\">mult_2_4:</strong> <a class=\"ProveItLink\" href=\"../../../__pv_it/theorems/b548ab80dd5378bdf0630f22a274e4ea6cba884a0/expr.ipynb\"><img src=\"data:image/png;base64,iVBORw0KGgoAAAANSUhEUgAAAFcAAAAVBAMAAADBdm84AAAAMFBMVEX///8AAAAAAAAAAAAAAAAA\n",
       "AAAAAAAAAAAAAAAAAAAAAAAAAAAAAAAAAAAAAAAAAAAv3aB7AAAAD3RSTlMAInZUiRDNmWbv3US7\n",
       "qzJazP2FAAAACXBIWXMAAA7EAAAOxAGVKw4bAAABbUlEQVQoz3WTP0jDQBSHf2n6L21T6yS4mA4i\n",
       "OHUQVysITmInJ8EsgmMHMcXF6GBdhDo4iVBwEIRCcHCOgqstODgVHZxcrIiDgsZ3F+3p9XKE4/Hx\n",
       "8fLL4wVAAQNHgcITKw2y8yh5ChjZuPkD8lXEXNlKzM17dNvQfCx6gmc6wKosp4Bbul2YBRgNwSdJ\n",
       "rsvyHrAEGPS8wXwRKXZJNiqSvMDlacBswvzq43iS5KQceuYaNWA9zNnr4yKT4x1JNoMJmtoar5+t\n",
       "X6q5TE7brN48Y6fF+dYHDf+Ely2RAkzWG1Jnfbb9ChzxwfjsXmHttrmc70lyHfp7JZT3w+BVSmFx\n",
       "OSt3PgTGSjyGXsbwD8x2u/fHZejN/5kT9CbTxRWVj8C4aGKwD/SlzgdArsCmrZ06TlPwIRJTZUm+\n",
       "qGAHeKKsQRDYYgvanxYyniTn7xxCmQfVKo6qNzRdVdFaxD5fKpjmR8jLCpaL+q80a5AV1eo3EvxU\n",
       "X73knRkAAAAASUVORK5CYII=\n",
       "\" style=\"display:inline;vertical-align:middle;\" /></a><br>(see <a class=\"ProveItLink\" href=\"../../../__pv_it/theorems/e6b5efb14e2377c9ff9276ae9fa3885a919a34e10/dependencies.ipynb\">dependencies</a>)<br>"
      ],
      "text/plain": [
       "<IPython.core.display.HTML object>"
      ]
     },
     "metadata": {},
     "output_type": "display_data"
    },
    {
     "name": "stdout",
     "output_type": "stream",
     "text": [
      "mult_2_4 may now be readily provable (assuming required theorems are usable).  Simply execute \"%qed\".\n"
     ]
    }
   ],
   "source": [
    "%proving mult_2_4"
   ]
  },
  {
   "cell_type": "code",
   "execution_count": null,
   "metadata": {},
   "outputs": [],
   "source": []
  }
 ],
 "metadata": {
  "kernelspec": {
   "display_name": "Python 3",
   "language": "python",
   "name": "python3"
  }
 },
 "nbformat": 4,
 "nbformat_minor": 0
}