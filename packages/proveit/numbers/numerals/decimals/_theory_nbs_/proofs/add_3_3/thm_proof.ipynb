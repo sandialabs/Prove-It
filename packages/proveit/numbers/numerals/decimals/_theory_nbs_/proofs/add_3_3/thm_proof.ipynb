{
 "cells": [
  {
   "cell_type": "markdown",
   "metadata": {},
   "source": [
    "Proof of <a class=\"ProveItLink\" href=\"../../../../../../_theory_nbs_/theory.ipynb\">proveit</a>.<a class=\"ProveItLink\" href=\"../../../../../_theory_nbs_/theory.ipynb\">numbers</a>.<a class=\"ProveItLink\" href=\"../../../../_theory_nbs_/theory.ipynb\">numerals</a>.<a class=\"ProveItLink\" href=\"../../theory.ipynb\">decimals</a>.<a class=\"ProveItLink\" href=\"../../theorems.ipynb#add_3_3\">add_3_3</a> theorem\n",
    "========"
   ]
  },
  {
   "cell_type": "code",
   "execution_count": 1,
   "metadata": {},
   "outputs": [],
   "source": [
    "import proveit\n",
    "theory = proveit.Theory() # the theorem's theory"
   ]
  },
  {
   "cell_type": "code",
   "execution_count": 2,
   "metadata": {},
   "outputs": [
    {
     "data": {
      "text/html": [
       "With these <a href=\"allowed_presumptions.txt\">allowed</a>/<a href=\"disallowed_presumptions.txt\">disallowed</a> theorem/theory presumptions (e.g., to avoid circular dependencies), we begin our proof of<br><strong id=\"add_3_3\">add_3_3:</strong> <a class=\"ProveItLink\" href=\"../../../__pv_it/theorems/5524e82c1ab1797666c8a02e15f42f5257b6d8150/expr.ipynb\"><img src=\"data:image/png;base64,iVBORw0KGgoAAAANSUhEUgAAAGEAAAAVBAMAAACkm51HAAAAMFBMVEX///8AAAAAAAAAAAAAAAAA\n",
       "AAAAAAAAAAAAAAAAAAAAAAAAAAAAAAAAAAAAAAAAAAAv3aB7AAAAD3RSTlMAInZUiRDNmWbv3US7\n",
       "qzJazP2FAAAACXBIWXMAAA7EAAAOxAGVKw4bAAABgElEQVQ4y3WTP0gDMRTGv+v17J8rrYOTU52c\n",
       "xKOIazsUOim3uQh2EQSXDkJVFG7TrYIgSBEFFzkQDherU3XTCnYWlCJODiKUFnGp7xLBu2eTIcl7\n",
       "L7+8Ly8JgFEMbyo/IpYicKEiZoCxUivs04pbHiLOv7XR4jxglGFUkA8nWoDeBZY5oK3iCYg5iHSx\n",
       "VJa+hhymLaMP7HBiJIsHIAGYdWR+iZwcrjwQkbAZkReOWTl3QgSgf9GW/CB3ol/zO/MMjLim1dE2\n",
       "Iw7eJj1ghWbpqRdGvD53gLiQGnNF8+m+g33gVKqyuCqqlb4XTmEMgA0bdWEketRtuu6h657L8LGN\n",
       "9CcjvoGa5xPpDlLdUI4P4NGCyXL49as5vqpMjxMD2yf0E3aOe5HjliS1pao/4kioijf5fdA5gDmq\n",
       "icPvY1fcR6zAiFTBoFq90+yy2gpX16zSS0TS48+ktE1FT3aCrlzQGB/+2OOVoNUIGuuK/3Gj+jha\n",
       "UxFYVBEp1bfVsorAxHD3DwgvYX1zzy+8AAAAAElFTkSuQmCC\n",
       "\" style=\"display:inline;vertical-align:middle;\" /></a><br>(see <a class=\"ProveItLink\" href=\"../../../__pv_it/theorems/519e7a28b3bc7bc76dfbe9885496efac40cfbd340/dependencies.ipynb\">dependencies</a>)<br>"
      ],
      "text/plain": [
       "<IPython.core.display.HTML object>"
      ]
     },
     "metadata": {},
     "output_type": "display_data"
    },
    {
     "name": "stdout",
     "output_type": "stream",
     "text": [
      "add_3_3 may now be readily provable (assuming required theorems are usable).  Simply execute \"%qed\".\n"
     ]
    }
   ],
   "source": [
    "%proving add_3_3"
   ]
  },
  {
   "cell_type": "code",
   "execution_count": null,
   "metadata": {},
   "outputs": [],
   "source": []
  }
 ],
 "metadata": {
  "kernelspec": {
   "display_name": "Python 3",
   "language": "python",
   "name": "python3"
  }
 },
 "nbformat": 4,
 "nbformat_minor": 0
}