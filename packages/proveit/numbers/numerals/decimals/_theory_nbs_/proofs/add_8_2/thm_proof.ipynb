{
 "cells": [
  {
   "cell_type": "markdown",
   "metadata": {},
   "source": [
    "Proof of <a class=\"ProveItLink\" href=\"../../../../../../_theory_nbs_/theory.ipynb\">proveit</a>.<a class=\"ProveItLink\" href=\"../../../../../_theory_nbs_/theory.ipynb\">numbers</a>.<a class=\"ProveItLink\" href=\"../../../../_theory_nbs_/theory.ipynb\">numerals</a>.<a class=\"ProveItLink\" href=\"../../theory.ipynb\">decimals</a>.<a class=\"ProveItLink\" href=\"../../theorems.ipynb#add_8_2\">add_8_2</a> theorem\n",
    "========"
   ]
  },
  {
   "cell_type": "code",
   "execution_count": 1,
   "metadata": {},
   "outputs": [],
   "source": [
    "import proveit\n",
    "theory = proveit.Theory() # the theorem's theory"
   ]
  },
  {
   "cell_type": "code",
   "execution_count": 2,
   "metadata": {},
   "outputs": [
    {
     "data": {
      "text/html": [
       "With these <a href=\"allowed_presumptions.txt\">allowed</a>/<a href=\"disallowed_presumptions.txt\">disallowed</a> theorem/theory presumptions (e.g., to avoid circular dependencies), we begin our proof of<br><strong id=\"add_8_2\">add_8_2:</strong> <a class=\"ProveItLink\" href=\"../../../__pv_it/theorems/a11905bfa3d072c886ba5ab216e18b91d38343870/expr.ipynb\"><img src=\"data:image/png;base64,iVBORw0KGgoAAAANSUhEUgAAAGwAAAAVBAMAAABRZRb3AAAAMFBMVEX///8AAAAAAAAAAAAAAAAA\n",
       "AAAAAAAAAAAAAAAAAAAAAAAAAAAAAAAAAAAAAAAAAAAv3aB7AAAAD3RSTlMAInZUiRDNmWbv3US7\n",
       "qzJazP2FAAAACXBIWXMAAA7EAAAOxAGVKw4bAAABnklEQVQ4y52TsUvDQBTGv5jWJG1T4+RSsIvg\n",
       "Ziki6GIprtIMgihCCyK4iBXFgl06OSl0cRAHIx2ESMGxbql/gHTTRe3gVBC1teAgxruUSi+9dPBB\n",
       "cvfu7nff3XvvAGjgm4BBNhTzmAhGB2HTwNJC3jU4tn8HTPYvbuiAL7kD+DNAFiorKVhIXWNYd0H+\n",
       "+20ytI5VDVIBcsGBqVU6japBKULO9qlN6ZAN+CwoRLX2h8U7jdKG+gGc8LBQDWIbM4D4rRPNXkw1\n",
       "oP4AmzxsJItwC3vEeW7ugsGIBd6BRR6WJtiXs6NkX/RhbyT8h7QjmY7Vuth4AuEmSjQHETvmxsrk\n",
       "m+WpUewTZ6ARm6e3PzDNU9MsO/OSRRW5h0wg2KSYokNoudSO6e/GIyRiix4yTfwHFhMTGAXmeHcL\n",
       "WZDbuCVqpJirLPYCTABH3HQXIWVokIMbkKMMJlzmcgac5LCWIgolrNTRIM5rLs8mIGDbNqmbKzf1\n",
       "eL5VwHLyiayo947HmYI2vN8NW6+VXqdbcVyres5EBj3TtX9sSG/g9faHNG/oF0IVZ25HN5k0AAAA\n",
       "AElFTkSuQmCC\n",
       "\" style=\"display:inline;vertical-align:middle;\" /></a><br>(see <a class=\"ProveItLink\" href=\"../../../__pv_it/theorems/e66b02a5732ad88f63b1e1a21405613e89961a650/dependencies.ipynb\">dependencies</a>)<br>"
      ],
      "text/plain": [
       "<IPython.core.display.HTML object>"
      ]
     },
     "metadata": {},
     "output_type": "display_data"
    },
    {
     "name": "stdout",
     "output_type": "stream",
     "text": [
      "add_8_2 may now be readily provable (assuming required theorems are usable).  Simply execute \"%qed\".\n"
     ]
    }
   ],
   "source": [
    "%proving add_8_2"
   ]
  },
  {
   "cell_type": "code",
   "execution_count": null,
   "metadata": {},
   "outputs": [],
   "source": []
  }
 ],
 "metadata": {
  "kernelspec": {
   "display_name": "Python 3",
   "language": "python",
   "name": "python3"
  }
 },
 "nbformat": 4,
 "nbformat_minor": 0
}