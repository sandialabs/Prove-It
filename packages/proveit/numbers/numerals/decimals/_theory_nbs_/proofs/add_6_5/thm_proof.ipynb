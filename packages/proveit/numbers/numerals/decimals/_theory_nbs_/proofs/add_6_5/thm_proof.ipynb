{
 "cells": [
  {
   "cell_type": "markdown",
   "metadata": {},
   "source": [
    "Proof of <a class=\"ProveItLink\" href=\"../../../../../../_theory_nbs_/theory.ipynb\">proveit</a>.<a class=\"ProveItLink\" href=\"../../../../../_theory_nbs_/theory.ipynb\">numbers</a>.<a class=\"ProveItLink\" href=\"../../../../_theory_nbs_/theory.ipynb\">numerals</a>.<a class=\"ProveItLink\" href=\"../../theory.ipynb\">decimals</a>.<a class=\"ProveItLink\" href=\"../../theorems.ipynb#add_6_5\">add_6_5</a> theorem\n",
    "========"
   ]
  },
  {
   "cell_type": "code",
   "execution_count": 1,
   "metadata": {},
   "outputs": [],
   "source": [
    "import proveit\n",
    "theory = proveit.Theory() # the theorem's theory"
   ]
  },
  {
   "cell_type": "code",
   "execution_count": 2,
   "metadata": {},
   "outputs": [
    {
     "data": {
      "text/html": [
       "With these <a href=\"allowed_presumptions.txt\">allowed</a>/<a href=\"disallowed_presumptions.txt\">disallowed</a> theorem/theory presumptions (e.g., to avoid circular dependencies), we begin our proof of<br><strong id=\"add_6_5\">add_6_5:</strong> <a class=\"ProveItLink\" href=\"../../../__pv_it/theorems/34e0c58ec0188d22ae698dbef587f28efc4269a30/expr.ipynb\"><img src=\"data:image/png;base64,iVBORw0KGgoAAAANSUhEUgAAAGsAAAAVBAMAAACzuQ2OAAAAMFBMVEX///8AAAAAAAAAAAAAAAAA\n",
       "AAAAAAAAAAAAAAAAAAAAAAAAAAAAAAAAAAAAAAAAAAAv3aB7AAAAD3RSTlMAInZUiRDNmWbv3US7\n",
       "qzJazP2FAAAACXBIWXMAAA7EAAAOxAGVKw4bAAABXElEQVQ4y2NgYBBgwA4YGfABJgMsgg8YWAW4\n",
       "FfBpMwFiF5cHqILz01YFMGhgKn4VACVYExgYxDbwLkCVXvnLlYGBLQBNE+v1/AAIwcDewMCQxMBz\n",
       "ACKxA6rgAojgKMCwTT8ASnAyMDB/hQsbIWtjmIpbmxkDA88EHNoycGsrAVqY51SNpu2Gyj0g6Ytb\n",
       "G9BE/gwGTgNUbUcZ5DcwMLSBmOyrwOACqrbFDAzxHxjYp6JqA7ocGLaWuG2bDdS2gIHjN5BbtWrV\n",
       "zFWr1kIUsH9kYHiPVxt/AgPHDxTbeBIY2P8xMOzErW0x2D1g2xDaOBcw8H5gYLDC7bdDwHgD+m0C\n",
       "ijYWoE5gAujBbRsokI8wRKKGJGMBgyYkctCAvwCUeAUyvPweWryJ15YCydXouu7Oz22AEFwoad8I\n",
       "JcMtwJ1vUNPrDmQOKJXjBAdxysjgy6YxZBgI8gGuvM8kgFsTAN9sXh3pTfJ9AAAAAElFTkSuQmCC\n",
       "\" style=\"display:inline;vertical-align:middle;\" /></a><br>(see <a class=\"ProveItLink\" href=\"../../../__pv_it/theorems/f462b9f331be3987be8fcb82bad588b532cf64ac0/dependencies.ipynb\">dependencies</a>)<br>"
      ],
      "text/plain": [
       "<IPython.core.display.HTML object>"
      ]
     },
     "metadata": {},
     "output_type": "display_data"
    },
    {
     "name": "stdout",
     "output_type": "stream",
     "text": [
      "add_6_5 may now be readily provable (assuming required theorems are usable).  Simply execute \"%qed\".\n"
     ]
    }
   ],
   "source": [
    "%proving add_6_5"
   ]
  },
  {
   "cell_type": "code",
   "execution_count": null,
   "metadata": {},
   "outputs": [],
   "source": []
  }
 ],
 "metadata": {
  "kernelspec": {
   "display_name": "Python 3",
   "language": "python",
   "name": "python3"
  }
 },
 "nbformat": 4,
 "nbformat_minor": 0
}