{
 "cells": [
  {
   "cell_type": "markdown",
   "metadata": {},
   "source": [
    "Proof of <a class=\"ProveItLink\" href=\"../../../../../../_theory_nbs_/theory.ipynb\">proveit</a>.<a class=\"ProveItLink\" href=\"../../../../../_theory_nbs_/theory.ipynb\">numbers</a>.<a class=\"ProveItLink\" href=\"../../../../_theory_nbs_/theory.ipynb\">numerals</a>.<a class=\"ProveItLink\" href=\"../../theory.ipynb\">decimals</a>.<a class=\"ProveItLink\" href=\"../../theorems.ipynb#mult_0_1\">mult_0_1</a> theorem\n",
    "========"
   ]
  },
  {
   "cell_type": "code",
   "execution_count": 1,
   "metadata": {},
   "outputs": [],
   "source": [
    "import proveit\n",
    "theory = proveit.Theory() # the theorem's theory"
   ]
  },
  {
   "cell_type": "code",
   "execution_count": 2,
   "metadata": {},
   "outputs": [
    {
     "data": {
      "text/html": [
       "With these <a href=\"allowed_presumptions.txt\">allowed</a>/<a href=\"disallowed_presumptions.txt\">disallowed</a> theorem/theory presumptions (e.g., to avoid circular dependencies), we begin our proof of<br><strong id=\"mult_0_1\">mult_0_1:</strong> <a class=\"ProveItLink\" href=\"../../../__pv_it/theorems/06224d0c075be05069384069e30a1e880446bef20/expr.ipynb\"><img src=\"data:image/png;base64,iVBORw0KGgoAAAANSUhEUgAAAFcAAAAVBAMAAADBdm84AAAAMFBMVEX///8AAAAAAAAAAAAAAAAA\n",
       "AAAAAAAAAAAAAAAAAAAAAAAAAAAAAAAAAAAAAAAAAAAv3aB7AAAAD3RSTlMAInZUiRDNmWbv3US7\n",
       "qzJazP2FAAAACXBIWXMAAA7EAAAOxAGVKw4bAAABU0lEQVQoz3WTvUvDUBTFT0xek6YxOrsYJych\n",
       "g7g2FEeFbKIoDYjgGKEUccomuphdkEpxEQTxHzA6K3TURTq7+NWqo/dZSHkvL3d43Jz8OO/ccANg\n",
       "GoVSSKOa8IvaTRm8CBiNvfGze0EGSQFbnqfrWARsYyO/eKs9pHNHZis+OwfMBFYHRjaOxeFDGT4G\n",
       "VoAq4PSgD0W4GkrwI1APsQRMxXC/RLgih/4B3ny0gCbBvyJs9ESWcTjBLjAbwP0UYSvi7cElryvq\n",
       "tAHBHrojeCDCeio6/8MBTilGgBp3bkY57L5LMQi+9ThMA+p8QDvO4VpaHLDu8xhOBkv6dHpHzIwH\n",
       "4CTEPU2TwoykATPJ+QhoA6vUdbHez2Xjgw4zkGDbZ2fAK3VrjZdcnXz+fqJ31xLMWgvkZ/dVqzij\n",
       "3lArVqn7Jft8p9C0rATeVGhO2X+leUVtTo3+AbEkVn1GvvPqAAAAAElFTkSuQmCC\n",
       "\" style=\"display:inline;vertical-align:middle;\" /></a><br>(see <a class=\"ProveItLink\" href=\"../../../__pv_it/theorems/fe1d980a68f66f53fbe730378a83f09366d353080/dependencies.ipynb\">dependencies</a>)<br>"
      ],
      "text/plain": [
       "<IPython.core.display.HTML object>"
      ]
     },
     "metadata": {},
     "output_type": "display_data"
    },
    {
     "name": "stdout",
     "output_type": "stream",
     "text": [
      "mult_0_1 may now be readily provable (assuming required theorems are usable).  Simply execute \"%qed\".\n"
     ]
    }
   ],
   "source": [
    "%proving mult_0_1"
   ]
  },
  {
   "cell_type": "code",
   "execution_count": null,
   "metadata": {},
   "outputs": [],
   "source": []
  }
 ],
 "metadata": {
  "kernelspec": {
   "display_name": "Python 3",
   "language": "python",
   "name": "python3"
  }
 },
 "nbformat": 4,
 "nbformat_minor": 0
}