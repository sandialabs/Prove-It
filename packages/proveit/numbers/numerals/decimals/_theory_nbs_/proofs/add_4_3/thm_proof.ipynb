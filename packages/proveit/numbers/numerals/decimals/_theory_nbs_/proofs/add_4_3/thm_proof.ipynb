{
 "cells": [
  {
   "cell_type": "markdown",
   "metadata": {},
   "source": [
    "Proof of <a class=\"ProveItLink\" href=\"../../../../../../_theory_nbs_/theory.ipynb\">proveit</a>.<a class=\"ProveItLink\" href=\"../../../../../_theory_nbs_/theory.ipynb\">numbers</a>.<a class=\"ProveItLink\" href=\"../../../../_theory_nbs_/theory.ipynb\">numerals</a>.<a class=\"ProveItLink\" href=\"../../theory.ipynb\">decimals</a>.<a class=\"ProveItLink\" href=\"../../theorems.ipynb#add_4_3\">add_4_3</a> theorem\n",
    "========"
   ]
  },
  {
   "cell_type": "code",
   "execution_count": 1,
   "metadata": {},
   "outputs": [],
   "source": [
    "import proveit\n",
    "theory = proveit.Theory() # the theorem's theory"
   ]
  },
  {
   "cell_type": "code",
   "execution_count": 2,
   "metadata": {},
   "outputs": [
    {
     "data": {
      "text/html": [
       "With these <a href=\"allowed_presumptions.txt\">allowed</a>/<a href=\"disallowed_presumptions.txt\">disallowed</a> theorem/theory presumptions (e.g., to avoid circular dependencies), we begin our proof of<br><strong id=\"add_4_3\">add_4_3:</strong> <a class=\"ProveItLink\" href=\"../../../__pv_it/theorems/5c8b53a04cef0bfbe0878a0235685e963096c1c80/expr.ipynb\"><img src=\"data:image/png;base64,iVBORw0KGgoAAAANSUhEUgAAAGIAAAAVBAMAAABPrCZEAAAAMFBMVEX///8AAAAAAAAAAAAAAAAA\n",
       "AAAAAAAAAAAAAAAAAAAAAAAAAAAAAAAAAAAAAAAAAAAv3aB7AAAAD3RSTlMAInZUiRDNmWbv3US7\n",
       "qzJazP2FAAAACXBIWXMAAA7EAAAOxAGVKw4bAAABZElEQVQ4y2NgYBBgwA5wiTMwGeCQ2IQhIhEA\n",
       "pkxAxHNUKUaXmg0MTA3oOuz///8/gYE1AcReiyoVzsD8mYEhFV2HT3l5lQEDO8gkJpiOHRBK34D1\n",
       "GwNDO7oOBwYGcQYGThDzRS5UzAhC7dzAANTBGYCmA+jjCwwMZmDNaDoYGJh/MDCwYXiEgeUBA0MJ\n",
       "yFECGDp2AVWzXMDQIQPEGaBQY0DX8egu0DAOcKCwrwIDiO7bQLwY7CNMVwHDinkCuhWMIJHZQLME\n",
       "IDqqVq2auWoVNNjmBzDwfcDwRgJEhxADuh3vGBjOGzBwY9jBdQDiqr137/68gqLjfwBIB/MCdH/E\n",
       "g8hDYCVzUe2YC3YVxwF0O/YXAAlfMPMPqo4OcHywO2AkLJDIKxCr5v8lFB3c5cCUyMC1AV2HJCid\n",
       "cz1AFjJC5khhzwUcBci8HcicChwZ5yCurMZ4AIdEDC4dPLiyLaMCDglF7MIAjjJZJdSx3J4AAAAA\n",
       "SUVORK5CYII=\n",
       "\" style=\"display:inline;vertical-align:middle;\" /></a><br>(see <a class=\"ProveItLink\" href=\"../../../__pv_it/theorems/d45f6ec5d96e68100b0a76be43e46290f3b779470/dependencies.ipynb\">dependencies</a>)<br>"
      ],
      "text/plain": [
       "<IPython.core.display.HTML object>"
      ]
     },
     "metadata": {},
     "output_type": "display_data"
    },
    {
     "name": "stdout",
     "output_type": "stream",
     "text": [
      "add_4_3 may now be readily provable (assuming required theorems are usable).  Simply execute \"%qed\".\n"
     ]
    }
   ],
   "source": [
    "%proving add_4_3"
   ]
  },
  {
   "cell_type": "code",
   "execution_count": null,
   "metadata": {},
   "outputs": [],
   "source": []
  }
 ],
 "metadata": {
  "kernelspec": {
   "display_name": "Python 3",
   "language": "python",
   "name": "python3"
  }
 },
 "nbformat": 4,
 "nbformat_minor": 0
}