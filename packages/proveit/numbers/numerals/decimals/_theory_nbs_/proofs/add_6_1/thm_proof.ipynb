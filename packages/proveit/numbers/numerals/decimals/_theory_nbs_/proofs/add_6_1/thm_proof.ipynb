{
 "cells": [
  {
   "cell_type": "markdown",
   "metadata": {},
   "source": [
    "Proof of <a class=\"ProveItLink\" href=\"../../../../../../_theory_nbs_/theory.ipynb\">proveit</a>.<a class=\"ProveItLink\" href=\"../../../../../_theory_nbs_/theory.ipynb\">numbers</a>.<a class=\"ProveItLink\" href=\"../../../../_theory_nbs_/theory.ipynb\">numerals</a>.<a class=\"ProveItLink\" href=\"../../theory.ipynb\">decimals</a>.<a class=\"ProveItLink\" href=\"../../theorems.ipynb#add_6_1\">add_6_1</a> theorem\n",
    "========"
   ]
  },
  {
   "cell_type": "code",
   "execution_count": 1,
   "metadata": {},
   "outputs": [],
   "source": [
    "import proveit\n",
    "theory = proveit.Theory() # the theorem's theory"
   ]
  },
  {
   "cell_type": "code",
   "execution_count": 2,
   "metadata": {},
   "outputs": [
    {
     "data": {
      "text/html": [
       "With these <a href=\"allowed_presumptions.txt\">allowed</a>/<a href=\"disallowed_presumptions.txt\">disallowed</a> theorem/theory presumptions (e.g., to avoid circular dependencies), we begin our proof of<br><strong id=\"add_6_1\">add_6_1:</strong> <a class=\"ProveItLink\" href=\"../../../__pv_it/theorems/b2464f16f7db35be4c616c46e5165d682925f0730/expr.ipynb\"><img src=\"data:image/png;base64,iVBORw0KGgoAAAANSUhEUgAAAGIAAAAVBAMAAABPrCZEAAAAMFBMVEX///8AAAAAAAAAAAAAAAAA\n",
       "AAAAAAAAAAAAAAAAAAAAAAAAAAAAAAAAAAAAAAAAAAAv3aB7AAAAD3RSTlMAInZUiRDNmWbv3US7\n",
       "qzJazP2FAAAACXBIWXMAAA7EAAAOxAGVKw4bAAABUklEQVQ4y2NgYBBgwA5wiTMwGeCQ2IQhIhEA\n",
       "pkyA2MXlAaoc31KgUQ3oOuz///8/gYE1gYFBbAPvAhSp2LKvQDIVXYdPeXmVAQM70KQkBp4DELEd\n",
       "MKeCdLSj63BgYBBnYOBkYGD+ChczQtbBGYCmA+jjCwwMZgwMPBOw62DD8AgDC9C/JUCz8pyqselg\n",
       "uYChQwaIMxgY+DMYOA2w6OBIADHZV4EBRPdtIF7MwBD/gYF9KhYdzBPQrWAEicwG6ljAwPEbyKxa\n",
       "tWrmqlVr4Tr4PmB4IwGigz+BgeMHFju4MezgOgBxFQ/UDgxXLUD3RzyIPASUAfpjAjafH0C3Y38B\n",
       "kPAF4iMMkWhhxfIRZLoDRsICibwCyZffQ40P3pvfbgBdvQFdhyTIYC6UVGuEzJHCngs4CpB5O5A5\n",
       "FTgyzkFcWY3xAA6JGFw6eHBlW0YFHBKK2IUBL3VWX2NjNX8AAAAASUVORK5CYII=\n",
       "\" style=\"display:inline;vertical-align:middle;\" /></a><br>(see <a class=\"ProveItLink\" href=\"../../../__pv_it/theorems/d5573d54392dad8a2060d7838ee197fa754d864f0/dependencies.ipynb\">dependencies</a>)<br>"
      ],
      "text/plain": [
       "<IPython.core.display.HTML object>"
      ]
     },
     "metadata": {},
     "output_type": "display_data"
    },
    {
     "name": "stdout",
     "output_type": "stream",
     "text": [
      "add_6_1 may now be readily provable (assuming required theorems are usable).  Simply execute \"%qed\".\n"
     ]
    }
   ],
   "source": [
    "%proving add_6_1"
   ]
  },
  {
   "cell_type": "code",
   "execution_count": null,
   "metadata": {},
   "outputs": [],
   "source": []
  }
 ],
 "metadata": {
  "kernelspec": {
   "display_name": "Python 3",
   "language": "python",
   "name": "python3"
  }
 },
 "nbformat": 4,
 "nbformat_minor": 0
}