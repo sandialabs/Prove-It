{
 "cells": [
  {
   "cell_type": "markdown",
   "metadata": {},
   "source": [
    "Proof of <a class=\"ProveItLink\" href=\"../../../../../../_theory_nbs_/theory.ipynb\">proveit</a>.<a class=\"ProveItLink\" href=\"../../../../../_theory_nbs_/theory.ipynb\">numbers</a>.<a class=\"ProveItLink\" href=\"../../../../_theory_nbs_/theory.ipynb\">numerals</a>.<a class=\"ProveItLink\" href=\"../../theory.ipynb\">decimals</a>.<a class=\"ProveItLink\" href=\"../../theorems.ipynb#mult_5_6\">mult_5_6</a> theorem\n",
    "========"
   ]
  },
  {
   "cell_type": "code",
   "execution_count": 1,
   "metadata": {},
   "outputs": [],
   "source": [
    "import proveit\n",
    "theory = proveit.Theory() # the theorem's theory"
   ]
  },
  {
   "cell_type": "code",
   "execution_count": 2,
   "metadata": {},
   "outputs": [
    {
     "data": {
      "text/html": [
       "With these <a href=\"allowed_presumptions.txt\">allowed</a>/<a href=\"disallowed_presumptions.txt\">disallowed</a> theorem/theory presumptions (e.g., to avoid circular dependencies), we begin our proof of<br><strong id=\"mult_5_6\">mult_5_6:</strong> <a class=\"ProveItLink\" href=\"../../../__pv_it/theorems/08aa3fdc37a30007f1a08aebddc4c7e5ed65ea950/expr.ipynb\"><img src=\"data:image/png;base64,iVBORw0KGgoAAAANSUhEUgAAAGEAAAAVBAMAAACkm51HAAAAMFBMVEX///8AAAAAAAAAAAAAAAAA\n",
       "AAAAAAAAAAAAAAAAAAAAAAAAAAAAAAAAAAAAAAAAAAAv3aB7AAAAD3RSTlMAInZUiRDNmWbv3US7\n",
       "qzJazP2FAAAACXBIWXMAAA7EAAAOxAGVKw4bAAABpklEQVQ4y32TO0jDYBDH/2n69a24CS5WEIqD\n",
       "mEFc26HiopJFXAS7KIJLh/rEQjYfSwXBRbQVJwtCcNPFKjgoih1FUII4OfigUqWD9RI1bb+E3BBy\n",
       "d9/vHt/dB6AFFrEx1YlLggbWeObQkegFspN52dTd8WG4FP6UEF9SgXiEIrMEsF/pr7mmcQdM8MQo\n",
       "xBI8EtsFvBSuWOfyhHEFLPNEj8TKWAMGAT8aiahRn1/miCMVZVwb7j6OuPjNZGkE4hc+gVcJKVJu\n",
       "Ox9Mx+ZThFp0Fy3EscJ0QsEUKedoV/8dZQUbgC+h/y/mdTkw7I/3mvBBRBh7hh7K/QGsCizIENet\n",
       "VZUMIoYtQ/W+02ecArMKkFHR/GYdXHaEiJOwToQS8H6TKZDUqyJCQZDP8QLcSNRHVNKr8ufQZMa8\n",
       "NHKIOa6PqkwEDSoj44wuhqCCOQ/qgzovcDm2qSp5FZgFhmgxkugyJxaKMborb4wjVvR5BCS2AzyT\n",
       "2pqeqfkG0hq1pHJEcI42kaW6dZ9mt9BtDsvuS9pZ553ex6mNTSg4EWM2tpDjsxXCVluHw/kf031u\n",
       "5EaAc+MAAAAASUVORK5CYII=\n",
       "\" style=\"display:inline;vertical-align:middle;\" /></a><br>(see <a class=\"ProveItLink\" href=\"../../../__pv_it/theorems/88f55371453ee5e9e61428644674d298079bf3af0/dependencies.ipynb\">dependencies</a>)<br>"
      ],
      "text/plain": [
       "<IPython.core.display.HTML object>"
      ]
     },
     "metadata": {},
     "output_type": "display_data"
    },
    {
     "name": "stdout",
     "output_type": "stream",
     "text": [
      "mult_5_6 may now be readily provable (assuming required theorems are usable).  Simply execute \"%qed\".\n"
     ]
    }
   ],
   "source": [
    "%proving mult_5_6"
   ]
  },
  {
   "cell_type": "code",
   "execution_count": null,
   "metadata": {},
   "outputs": [],
   "source": []
  }
 ],
 "metadata": {
  "kernelspec": {
   "display_name": "Python 3",
   "language": "python",
   "name": "python3"
  }
 },
 "nbformat": 4,
 "nbformat_minor": 0
}