{
 "cells": [
  {
   "cell_type": "markdown",
   "metadata": {},
   "source": [
    "Proof of <a class=\"ProveItLink\" href=\"../../../../../../_theory_nbs_/theory.ipynb\">proveit</a>.<a class=\"ProveItLink\" href=\"../../../../../_theory_nbs_/theory.ipynb\">numbers</a>.<a class=\"ProveItLink\" href=\"../../../../_theory_nbs_/theory.ipynb\">numerals</a>.<a class=\"ProveItLink\" href=\"../../theory.ipynb\">decimals</a>.<a class=\"ProveItLink\" href=\"../../theorems.ipynb#digit7\">digit7</a> theorem\n",
    "========"
   ]
  },
  {
   "cell_type": "code",
   "execution_count": 1,
   "metadata": {},
   "outputs": [],
   "source": [
    "import proveit\n",
    "theory = proveit.Theory() # the theorem's theory"
   ]
  },
  {
   "cell_type": "code",
   "execution_count": 2,
   "metadata": {},
   "outputs": [
    {
     "data": {
      "text/html": [
       "With these <a href=\"allowed_presumptions.txt\">allowed</a>/<a href=\"disallowed_presumptions.txt\">disallowed</a> theorem/theory presumptions (e.g., to avoid circular dependencies), we begin our proof of<br><strong id=\"digit7\">digit7:</strong> <a class=\"ProveItLink\" href=\"../../../__pv_it/theorems/663b51792940c1b0c7eaae8fd8de648a0eb7d6d90/expr.ipynb\"><img src=\"data:image/png;base64,iVBORw0KGgoAAAANSUhEUgAAAEcAAAAUBAMAAAAthD11AAAAMFBMVEX///8AAAAAAAAAAAAAAAAA\n",
       "AAAAAAAAAAAAAAAAAAAAAAAAAAAAAAAAAAAAAAAAAAAv3aB7AAAAD3RSTlMAImYQVO+Ju5ndqzJE\n",
       "zXbfw+mkAAAACXBIWXMAAA7EAAAOxAGVKw4bAAABQklEQVQoz2NgwAdYChn48hIY8KupY2BYxuCF\n",
       "Vw1TEZD4zWBvgEcNXwmQYPzIwH+AQQhdHfP88ssMbPEx3CFgbgzDfgUG/////wegqGJ3OMXAYM/A\n",
       "4J4M4h031ndgSO/o6HRAUcQ1kU2BgRUkD1LF7M0vwAD0oASqfVzuDBcZOEGsXY0MDJsZTjIwAE1Z\n",
       "AJF8PnPmBbAioQeyEEUMUosZihhug1hsG8ACZx/DTBJYzZcAUcQgwHBIDSwtDuYyXoZbJ8DOUMOJ\n",
       "5uc1YJJXAKGIu8HSElUNIyQAeBEOF2BQYSll4C4HgkKoGBvYtQxbZwJBAVQRl8FSVJM4wTIM5sgm\n",
       "MS9As84eEgKcyIoY9rGjKjrfAInOB/BoAfqZbzuqIn9ooroCE+AFxVIvqiJRaMxZ1UDSA/f9cCBp\n",
       "iyP9HKuERAsmAAAZAUK96y6IxAAAAABJRU5ErkJggg==\n",
       "\" style=\"display:inline;vertical-align:middle;\" /></a><br>(see <a class=\"ProveItLink\" href=\"../../../__pv_it/theorems/d3c9a6c611d79db3ad75e310a5351c0c8d4ecd5b0/dependencies.ipynb\">dependencies</a>)<br>"
      ],
      "text/plain": [
       "<IPython.core.display.HTML object>"
      ]
     },
     "metadata": {},
     "output_type": "display_data"
    }
   ],
   "source": [
    "%proving digit7"
   ]
  },
  {
   "cell_type": "code",
   "execution_count": null,
   "metadata": {},
   "outputs": [],
   "source": []
  }
 ],
 "metadata": {
  "kernelspec": {
   "display_name": "Python 3",
   "language": "python",
   "name": "python3"
  }
 },
 "nbformat": 4,
 "nbformat_minor": 0
}