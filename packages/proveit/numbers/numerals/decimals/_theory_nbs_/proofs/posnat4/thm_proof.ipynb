{
 "cells": [
  {
   "cell_type": "markdown",
   "metadata": {},
   "source": [
    "Proof of <a class=\"ProveItLink\" href=\"../../../../../../_theory_nbs_/theory.ipynb\">proveit</a>.<a class=\"ProveItLink\" href=\"../../../../../_theory_nbs_/theory.ipynb\">numbers</a>.<a class=\"ProveItLink\" href=\"../../../../_theory_nbs_/theory.ipynb\">numerals</a>.<a class=\"ProveItLink\" href=\"../../theory.ipynb\">decimals</a>.<a class=\"ProveItLink\" href=\"../../theorems.ipynb#posnat4\">posnat4</a> theorem\n",
    "========"
   ]
  },
  {
   "cell_type": "code",
   "execution_count": 1,
   "metadata": {},
   "outputs": [],
   "source": [
    "import proveit\n",
    "theory = proveit.Theory() # the theorem's theory"
   ]
  },
  {
   "cell_type": "code",
   "execution_count": 2,
   "metadata": {},
   "outputs": [
    {
     "data": {
      "text/html": [
       "With these <a href=\"allowed_presumptions.txt\">allowed</a>/<a href=\"disallowed_presumptions.txt\">disallowed</a> theorem/theory presumptions (e.g., to avoid circular dependencies), we begin our proof of<br><strong id=\"posnat4\">posnat4:</strong> <a class=\"ProveItLink\" href=\"../../../__pv_it/theorems/9fb878ebb9df9f48a7070cb3927b54e8dbf9fcc20/expr.ipynb\"><img src=\"data:image/png;base64,iVBORw0KGgoAAAANSUhEUgAAAD8AAAATBAMAAADVH8ihAAAAMFBMVEX///8AAAAAAAAAAAAAAAAA\n",
       "AAAAAAAAAAAAAAAAAAAAAAAAAAAAAAAAAAAAAAAAAAAv3aB7AAAAD3RSTlMAMpndq3ZmzYkiRO+7\n",
       "EFRAb64nAAAACXBIWXMAAA7EAAAOxAGVKw4bAAAA6klEQVQoz2NgwAOYGAgAHjIVXP5z/AJD9+8F\n",
       "CAVCaCrOcTkw8H5AMsEETYHzhDYGhg0MOmdOnzmTAOSzoivwO8A+gcEAYYJYCVQixti4AER7pnIW\n",
       "ICtogCpYHgtV6MkiEIGkgHUCRAFnLcwKT4YDPAsQCqYxQBQA7YUrEOK1NYCHZANMAQNCAduDNxtg\n",
       "PLYJUAXSxkBwAKKAwZcFrmAqA1TBHSQTGK7wGsB4S1xcfnuAGMzIChgDDiAFzBaIbwJg/INAHIis\n",
       "4A+EqoPxQQymAoS8zn9XMH3l1AUwLf4bqJu3AEs8rzhsjCkMALTpOES98MSkAAAAAElFTkSuQmCC\n",
       "\" style=\"display:inline;vertical-align:middle;\" /></a><br>(see <a class=\"ProveItLink\" href=\"../../../__pv_it/theorems/f617b96f9d58a69fe47f66dbd0369b51423a3ee40/dependencies.ipynb\">dependencies</a>)<br>"
      ],
      "text/plain": [
       "<IPython.core.display.HTML object>"
      ]
     },
     "metadata": {},
     "output_type": "display_data"
    },
    {
     "name": "stdout",
     "output_type": "stream",
     "text": [
      "posnat4 may now be readily provable (assuming required theorems are usable).  Simply execute \"%qed\".\n"
     ]
    }
   ],
   "source": [
    "%proving posnat4"
   ]
  },
  {
   "cell_type": "code",
   "execution_count": null,
   "metadata": {},
   "outputs": [],
   "source": []
  }
 ],
 "metadata": {
  "kernelspec": {
   "display_name": "Python 3",
   "language": "python",
   "name": "python3"
  }
 },
 "nbformat": 4,
 "nbformat_minor": 0
}