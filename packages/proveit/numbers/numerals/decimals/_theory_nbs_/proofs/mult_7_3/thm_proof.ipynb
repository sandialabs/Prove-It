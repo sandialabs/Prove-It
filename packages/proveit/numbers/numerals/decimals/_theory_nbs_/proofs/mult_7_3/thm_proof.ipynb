{
 "cells": [
  {
   "cell_type": "markdown",
   "metadata": {},
   "source": [
    "Proof of <a class=\"ProveItLink\" href=\"../../../../../../_theory_nbs_/theory.ipynb\">proveit</a>.<a class=\"ProveItLink\" href=\"../../../../../_theory_nbs_/theory.ipynb\">numbers</a>.<a class=\"ProveItLink\" href=\"../../../../_theory_nbs_/theory.ipynb\">numerals</a>.<a class=\"ProveItLink\" href=\"../../theory.ipynb\">decimals</a>.<a class=\"ProveItLink\" href=\"../../theorems.ipynb#mult_7_3\">mult_7_3</a> theorem\n",
    "========"
   ]
  },
  {
   "cell_type": "code",
   "execution_count": 1,
   "metadata": {},
   "outputs": [],
   "source": [
    "import proveit\n",
    "theory = proveit.Theory() # the theorem's theory"
   ]
  },
  {
   "cell_type": "code",
   "execution_count": 2,
   "metadata": {},
   "outputs": [
    {
     "data": {
      "text/html": [
       "With these <a href=\"allowed_presumptions.txt\">allowed</a>/<a href=\"disallowed_presumptions.txt\">disallowed</a> theorem/theory presumptions (e.g., to avoid circular dependencies), we begin our proof of<br><strong id=\"mult_7_3\">mult_7_3:</strong> <a class=\"ProveItLink\" href=\"../../../__pv_it/theorems/94a59b6c130bda616a17e1d3e4ed61b34178b3e80/expr.ipynb\"><img src=\"data:image/png;base64,iVBORw0KGgoAAAANSUhEUgAAAGAAAAAVBAMAAABLWfZ5AAAAMFBMVEX///8AAAAAAAAAAAAAAAAA\n",
       "AAAAAAAAAAAAAAAAAAAAAAAAAAAAAAAAAAAAAAAAAAAv3aB7AAAAD3RSTlMAInZUiRDNmWbv3US7\n",
       "qzJazP2FAAAACXBIWXMAAA7EAAAOxAGVKw4bAAABfklEQVQ4y32Tv0vDQBTHv2kSm7Y2dLU46F9g\n",
       "huLcQdyUbC6KXQQHhw7iSenQRXQUnEREQVxEMXTTqbo4GjcVpMHRQfxZFZF4d6G9cElz073v9z53\n",
       "7727A1BAZMRIYqQsZU3WmklACarv+z/dUJmoO0g15FUKWfIA8xDQK9CuCDnoOjNQ34EFGRiG9ou5\n",
       "lU8g3YBGN6h2nTFL7wDrMnADbNP0KZABVCDfc84cUCBjS8CejXaBA+M8ng556jcwIBdxD7Q9Dizz\n",
       "kloh75wu1txod06DlBbZPO8I/fGBtsOosGntiI2TQDffAoC3Zyi8E+uSuhk5IOsGwA4LJrk0X+kV\n",
       "aL5EgDpCwHGwB+vtM3BtIRc5wXAhUtL/hOHbDFD35RpKUIK2XtIg9yWAXZ6S0ZIOMMtI2RyYYmV+\n",
       "CGeD30O6LAFFQmq026/AE7uGLeHkCH18yDryJfh+B/m7zi2yXtwTLvZ/3UY1Tl1N+A8XMZrSSgBm\n",
       "Y7TBpD+qjES10f7L/wE7oGSQ0Be7UQAAAABJRU5ErkJggg==\n",
       "\" style=\"display:inline;vertical-align:middle;\" /></a><br>(see <a class=\"ProveItLink\" href=\"../../../__pv_it/theorems/21e07204a668fd98c447d1e9e5d9fc9b7829986f0/dependencies.ipynb\">dependencies</a>)<br>"
      ],
      "text/plain": [
       "<IPython.core.display.HTML object>"
      ]
     },
     "metadata": {},
     "output_type": "display_data"
    },
    {
     "name": "stdout",
     "output_type": "stream",
     "text": [
      "mult_7_3 may now be readily provable (assuming required theorems are usable).  Simply execute \"%qed\".\n"
     ]
    }
   ],
   "source": [
    "%proving mult_7_3"
   ]
  },
  {
   "cell_type": "code",
   "execution_count": null,
   "metadata": {},
   "outputs": [],
   "source": []
  }
 ],
 "metadata": {
  "kernelspec": {
   "display_name": "Python 3",
   "language": "python",
   "name": "python3"
  }
 },
 "nbformat": 4,
 "nbformat_minor": 0
}