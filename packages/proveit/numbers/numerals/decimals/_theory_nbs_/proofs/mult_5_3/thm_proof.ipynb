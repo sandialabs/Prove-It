{
 "cells": [
  {
   "cell_type": "markdown",
   "metadata": {},
   "source": [
    "Proof of <a class=\"ProveItLink\" href=\"../../../../../../_theory_nbs_/theory.ipynb\">proveit</a>.<a class=\"ProveItLink\" href=\"../../../../../_theory_nbs_/theory.ipynb\">numbers</a>.<a class=\"ProveItLink\" href=\"../../../../_theory_nbs_/theory.ipynb\">numerals</a>.<a class=\"ProveItLink\" href=\"../../theory.ipynb\">decimals</a>.<a class=\"ProveItLink\" href=\"../../theorems.ipynb#mult_5_3\">mult_5_3</a> theorem\n",
    "========"
   ]
  },
  {
   "cell_type": "code",
   "execution_count": 1,
   "metadata": {},
   "outputs": [],
   "source": [
    "import proveit\n",
    "theory = proveit.Theory() # the theorem's theory"
   ]
  },
  {
   "cell_type": "code",
   "execution_count": 2,
   "metadata": {},
   "outputs": [
    {
     "data": {
      "text/html": [
       "With these <a href=\"allowed_presumptions.txt\">allowed</a>/<a href=\"disallowed_presumptions.txt\">disallowed</a> theorem/theory presumptions (e.g., to avoid circular dependencies), we begin our proof of<br><strong id=\"mult_5_3\">mult_5_3:</strong> <a class=\"ProveItLink\" href=\"../../../__pv_it/theorems/a966e78c48a9b765a349f35f183da582b72b6e190/expr.ipynb\"><img src=\"data:image/png;base64,iVBORw0KGgoAAAANSUhEUgAAAGEAAAAVBAMAAACkm51HAAAAMFBMVEX///8AAAAAAAAAAAAAAAAA\n",
       "AAAAAAAAAAAAAAAAAAAAAAAAAAAAAAAAAAAAAAAAAAAv3aB7AAAAD3RSTlMAInZUiRDNmWbv3US7\n",
       "qzJazP2FAAAACXBIWXMAAA7EAAAOxAGVKw4bAAABgUlEQVQ4y32TPUjDQBTH/2la06Rp6VZwUcHF\n",
       "yQzi3EHHQpxcFLMo4pRBrYhicdHRxcUPUqgOFoTgplMUdHCxm3VQg6ODKGIQBfUl0pAm1zzI5d7H\n",
       "7927u3cA8ogIwxSQhAIbqfaYE3ZoDhij3xBgzNTVlpUbWTGRqESjDwHRmaMxpQFHX6O+Zxz8OzAd\n",
       "BiYXPwDJOKDMAqVrBFyDSsoBNqLFE5H1ZiLaiVMTRIhqZ2I4RAD8J9BV6UzM09fsfwj4zig62WAS\n",
       "6yUbmCXtEj2m73q6J2tac6fLdVeOfUJWuW+g5ulyNVAVnRW/xVqD5BrY9SbCGw1T2r/TUJF77UCs\n",
       "5V1C1iD8kCbpNLwANwoyzDWuiLDdqsQqsn7OX9Ul+CprHzvAI3BBB0OQ1SL2varSFmuNIrAHlKiV\n",
       "dAz4N7bp3YdQDBNJ2mkBiW3gmbTC6oLvyZSpEyGZISB75zTBlW8ps2Sz+ro75nmkdZZ1Ke5FnTNs\n",
       "nBVHTDBscuyz5Xqjtr6Y+D/b+WW9Be/dJgAAAABJRU5ErkJggg==\n",
       "\" style=\"display:inline;vertical-align:middle;\" /></a><br>(see <a class=\"ProveItLink\" href=\"../../../__pv_it/theorems/00b303298fe8f2e0f13f4154c91a6f47e058001f0/dependencies.ipynb\">dependencies</a>)<br>"
      ],
      "text/plain": [
       "<IPython.core.display.HTML object>"
      ]
     },
     "metadata": {},
     "output_type": "display_data"
    },
    {
     "name": "stdout",
     "output_type": "stream",
     "text": [
      "mult_5_3 may now be readily provable (assuming required theorems are usable).  Simply execute \"%qed\".\n"
     ]
    }
   ],
   "source": [
    "%proving mult_5_3"
   ]
  },
  {
   "cell_type": "code",
   "execution_count": null,
   "metadata": {},
   "outputs": [],
   "source": []
  }
 ],
 "metadata": {
  "kernelspec": {
   "display_name": "Python 3",
   "language": "python",
   "name": "python3"
  }
 },
 "nbformat": 4,
 "nbformat_minor": 0
}