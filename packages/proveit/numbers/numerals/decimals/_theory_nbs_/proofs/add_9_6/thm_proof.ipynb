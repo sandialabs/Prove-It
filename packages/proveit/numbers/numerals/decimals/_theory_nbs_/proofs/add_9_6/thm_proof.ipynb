{
 "cells": [
  {
   "cell_type": "markdown",
   "metadata": {},
   "source": [
    "Proof of <a class=\"ProveItLink\" href=\"../../../../../../_theory_nbs_/theory.ipynb\">proveit</a>.<a class=\"ProveItLink\" href=\"../../../../../_theory_nbs_/theory.ipynb\">numbers</a>.<a class=\"ProveItLink\" href=\"../../../../_theory_nbs_/theory.ipynb\">numerals</a>.<a class=\"ProveItLink\" href=\"../../theory.ipynb\">decimals</a>.<a class=\"ProveItLink\" href=\"../../theorems.ipynb#add_9_6\">add_9_6</a> theorem\n",
    "========"
   ]
  },
  {
   "cell_type": "code",
   "execution_count": 1,
   "metadata": {},
   "outputs": [],
   "source": [
    "import proveit\n",
    "theory = proveit.Theory() # the theorem's theory"
   ]
  },
  {
   "cell_type": "code",
   "execution_count": 2,
   "metadata": {},
   "outputs": [
    {
     "data": {
      "text/html": [
       "With these <a href=\"allowed_presumptions.txt\">allowed</a>/<a href=\"disallowed_presumptions.txt\">disallowed</a> theorem/theory presumptions (e.g., to avoid circular dependencies), we begin our proof of<br><strong id=\"add_9_6\">add_9_6:</strong> <a class=\"ProveItLink\" href=\"../../../__pv_it/theorems/39cf323167a137da1022514270e620b7f4e2d9c10/expr.ipynb\"><img src=\"data:image/png;base64,iVBORw0KGgoAAAANSUhEUgAAAGwAAAAVBAMAAABRZRb3AAAAMFBMVEX///8AAAAAAAAAAAAAAAAA\n",
       "AAAAAAAAAAAAAAAAAAAAAAAAAAAAAAAAAAAAAAAAAAAv3aB7AAAAD3RSTlMAInZUiRDNmWbv3US7\n",
       "qzJazP2FAAAACXBIWXMAAA7EAAAOxAGVKw4bAAABk0lEQVQ4y52UMUjDQBSG/9bGNNrSTLoIduig\n",
       "k6WIoKPUUcwmgtDiIF3UDkpBETo5OXTpIB0aFAcjQse6RVFw7CK6KFktiFURRKH4LhHppXcdfMu7\n",
       "e5fv3v3v3QWADrEF0MuCScnCYFwcd6BQpklALdz619JpB2PdSNMAqquWASUL5RBPvpMO1aIm+g0f\n",
       "pNxtUOjka44yFREtIWJ7C/XfD1ZYJJzvyjZBWIMNNCCWRejDC6c81+dNy3JsCsjYCH5zWKTkupwc\n",
       "2/SyfXKYtj67Q25eiN0nHt0dmbY3DovloFFf9thYtVxr/GHXGK3hiApUwfM7h2VaUEnYtDAbaTBR\n",
       "IbeYSLXJbVvWgWWdMcxEmNS+SDD11cXgrySpDZPacxEWyUJts0OytDZfSS/bjEibZiLawiV1qYyM\n",
       "w/eNtFEP9kXZQlRomxU5eIwbcBiusJR0m+OzBR2BPMYNNNm9LdR8WKhAvcGpn3qorhUxvLsFDDid\n",
       "8RT34Ez5c+Pva71zQrdcbhfSlZFer3v5HxsyBXHZ30KXQz9YeGkRt7yN7AAAAABJRU5ErkJggg==\n",
       "\" style=\"display:inline;vertical-align:middle;\" /></a><br>(see <a class=\"ProveItLink\" href=\"../../../__pv_it/theorems/a362db44f1192c830b610f527fb9a297b69738ec0/dependencies.ipynb\">dependencies</a>)<br>"
      ],
      "text/plain": [
       "<IPython.core.display.HTML object>"
      ]
     },
     "metadata": {},
     "output_type": "display_data"
    },
    {
     "name": "stdout",
     "output_type": "stream",
     "text": [
      "add_9_6 may now be readily provable (assuming required theorems are usable).  Simply execute \"%qed\".\n"
     ]
    }
   ],
   "source": [
    "%proving add_9_6"
   ]
  },
  {
   "cell_type": "code",
   "execution_count": null,
   "metadata": {},
   "outputs": [],
   "source": []
  }
 ],
 "metadata": {
  "kernelspec": {
   "display_name": "Python 3",
   "language": "python",
   "name": "python3"
  }
 },
 "nbformat": 4,
 "nbformat_minor": 0
}