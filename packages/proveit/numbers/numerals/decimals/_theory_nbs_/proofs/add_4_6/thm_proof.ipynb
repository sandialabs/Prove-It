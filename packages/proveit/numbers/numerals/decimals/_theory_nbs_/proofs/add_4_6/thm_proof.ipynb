{
 "cells": [
  {
   "cell_type": "markdown",
   "metadata": {},
   "source": [
    "Proof of <a class=\"ProveItLink\" href=\"../../../../../../_theory_nbs_/theory.ipynb\">proveit</a>.<a class=\"ProveItLink\" href=\"../../../../../_theory_nbs_/theory.ipynb\">numbers</a>.<a class=\"ProveItLink\" href=\"../../../../_theory_nbs_/theory.ipynb\">numerals</a>.<a class=\"ProveItLink\" href=\"../../theory.ipynb\">decimals</a>.<a class=\"ProveItLink\" href=\"../../theorems.ipynb#add_4_6\">add_4_6</a> theorem\n",
    "========"
   ]
  },
  {
   "cell_type": "code",
   "execution_count": 1,
   "metadata": {},
   "outputs": [],
   "source": [
    "import proveit\n",
    "theory = proveit.Theory() # the theorem's theory"
   ]
  },
  {
   "cell_type": "code",
   "execution_count": 2,
   "metadata": {},
   "outputs": [
    {
     "data": {
      "text/html": [
       "With these <a href=\"allowed_presumptions.txt\">allowed</a>/<a href=\"disallowed_presumptions.txt\">disallowed</a> theorem/theory presumptions (e.g., to avoid circular dependencies), we begin our proof of<br><strong id=\"add_4_6\">add_4_6:</strong> <a class=\"ProveItLink\" href=\"../../../__pv_it/theorems/71a3866dd8a2003909ea0d2f6a763c0c357f9c5f0/expr.ipynb\"><img src=\"data:image/png;base64,iVBORw0KGgoAAAANSUhEUgAAAGwAAAAVBAMAAABRZRb3AAAAMFBMVEX///8AAAAAAAAAAAAAAAAA\n",
       "AAAAAAAAAAAAAAAAAAAAAAAAAAAAAAAAAAAAAAAAAAAv3aB7AAAAD3RSTlMAInZUiRDNmWbv3US7\n",
       "qzJazP2FAAAACXBIWXMAAA7EAAAOxAGVKw4bAAABhElEQVQ4y2NgYBBgwA4YGfABJgMcEtwK+LSZ\n",
       "gIjn6KIuLg8YNDAVvwpgYGBxKmRgYE0AcdeiSYtt4F3AwBaAJsp6PR8olMwQJcDA3gByKEzbDiid\n",
       "xMBzgIGjAMM2/QAGjgUMLAcYOEG8F7lQYSMIxfwVTE3Fpo3nAkjaDMRzQNPGMwFMZWDTxl/AwPeZ\n",
       "oQTkRgE0bZx5TtVAyhebtnigth9gEyUY0LTxZzBwAuOlDcRmXwUGF2Da5B0Y+D4xLAa5EV1b/AcG\n",
       "dqDHLLHZBtL2hWE2AwOHAERb1apVM1etAgVq/AIGjt8MDO+xOtKBgfsTSJsQA4YjExg4fjAw7MQR\n",
       "JMyfQY7ce/fuzyuoIQmxzQqb30AR+pXhEJg7Fy3egH4DxkEP1uiewMCeAA3kP6jaGI4wRAJDsgRD\n",
       "mz8wuyxmiHzA8ArEq/l/CVUbS/k9ILkaXdfd+bkNDOFOQDmuB8jiRigZbgHufIOaXncgc8CpHBc4\n",
       "iFNGBl82jSHDQJAPcOV9JgHcmgCjqGR+3HHafAAAAABJRU5ErkJggg==\n",
       "\" style=\"display:inline;vertical-align:middle;\" /></a><br>(see <a class=\"ProveItLink\" href=\"../../../__pv_it/theorems/b1e0177fcbb769564e9ca392acaa9a615ce920d30/dependencies.ipynb\">dependencies</a>)<br>"
      ],
      "text/plain": [
       "<IPython.core.display.HTML object>"
      ]
     },
     "metadata": {},
     "output_type": "display_data"
    },
    {
     "name": "stdout",
     "output_type": "stream",
     "text": [
      "add_4_6 may now be readily provable (assuming required theorems are usable).  Simply execute \"%qed\".\n"
     ]
    }
   ],
   "source": [
    "%proving add_4_6"
   ]
  },
  {
   "cell_type": "code",
   "execution_count": null,
   "metadata": {},
   "outputs": [],
   "source": []
  }
 ],
 "metadata": {
  "kernelspec": {
   "display_name": "Python 3",
   "language": "python",
   "name": "python3"
  }
 },
 "nbformat": 4,
 "nbformat_minor": 0
}