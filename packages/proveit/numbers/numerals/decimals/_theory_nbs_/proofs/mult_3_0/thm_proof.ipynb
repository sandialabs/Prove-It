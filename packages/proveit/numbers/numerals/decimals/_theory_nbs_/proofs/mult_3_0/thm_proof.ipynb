{
 "cells": [
  {
   "cell_type": "markdown",
   "metadata": {},
   "source": [
    "Proof of <a class=\"ProveItLink\" href=\"../../../../../../_theory_nbs_/theory.ipynb\">proveit</a>.<a class=\"ProveItLink\" href=\"../../../../../_theory_nbs_/theory.ipynb\">numbers</a>.<a class=\"ProveItLink\" href=\"../../../../_theory_nbs_/theory.ipynb\">numerals</a>.<a class=\"ProveItLink\" href=\"../../theory.ipynb\">decimals</a>.<a class=\"ProveItLink\" href=\"../../theorems.ipynb#mult_3_0\">mult_3_0</a> theorem\n",
    "========"
   ]
  },
  {
   "cell_type": "code",
   "execution_count": 1,
   "metadata": {},
   "outputs": [],
   "source": [
    "import proveit\n",
    "theory = proveit.Theory() # the theorem's theory"
   ]
  },
  {
   "cell_type": "code",
   "execution_count": 2,
   "metadata": {},
   "outputs": [
    {
     "data": {
      "text/html": [
       "With these <a href=\"allowed_presumptions.txt\">allowed</a>/<a href=\"disallowed_presumptions.txt\">disallowed</a> theorem/theory presumptions (e.g., to avoid circular dependencies), we begin our proof of<br><strong id=\"mult_3_0\">mult_3_0:</strong> <a class=\"ProveItLink\" href=\"../../../__pv_it/theorems/020149a4dc25fecf0b5a6840935790176398238d0/expr.ipynb\"><img src=\"data:image/png;base64,iVBORw0KGgoAAAANSUhEUgAAAFcAAAAVBAMAAADBdm84AAAAMFBMVEX///8AAAAAAAAAAAAAAAAA\n",
       "AAAAAAAAAAAAAAAAAAAAAAAAAAAAAAAAAAAAAAAAAAAv3aB7AAAAD3RSTlMAInZUiRDNmWbv3US7\n",
       "qzJazP2FAAAACXBIWXMAAA7EAAAOxAGVKw4bAAABTElEQVQoz3WTP0vDQBiHf2m9mjQl7eDkFCen\n",
       "QgZxTQfBRSEfQLCL4JihqDhlE13sXhDFRQRBXBytXVXoJ5DMLgq1uPomb/40l8s7hLvnHi6/u7wB\n",
       "0EGpFIir5pTZU5W8Aaxsv+XzrfUOakFJizBEH8KHm23fcMQNcCC7jJcD1GbY76f0AtgBzmSZsQGY\n",
       "I7Qz+QNwPRieJDPejMduFvIP+HbQkEMzHkRD8y6FIqIBlqZFN8GHNLS6nynVfona0ONYp/dRPeT4\n",
       "lmM4i3IP9WFx5wSP4okxp0d0JYLoiw3rR4rBmGQrRGtGpOnzSeg15rB8QMIUoz1nOa534NJD/bqY\n",
       "OcETyjDlGHGdA0eAPpZ2ZrxLK8HCPTcdcUXftSfJjL9o9HycN5IYdENae5TkBIeqVlxVd6juq+hJ\n",
       "RT+/Kpg2rpD3FKxV9V9pdpmtqdV/P4BY/dYu9ZoAAAAASUVORK5CYII=\n",
       "\" style=\"display:inline;vertical-align:middle;\" /></a><br>(see <a class=\"ProveItLink\" href=\"../../../__pv_it/theorems/dad96d13101489c7a4cacce8c6eabf6a9a2f65200/dependencies.ipynb\">dependencies</a>)<br>"
      ],
      "text/plain": [
       "<IPython.core.display.HTML object>"
      ]
     },
     "metadata": {},
     "output_type": "display_data"
    },
    {
     "name": "stdout",
     "output_type": "stream",
     "text": [
      "mult_3_0 may now be readily provable (assuming required theorems are usable).  Simply execute \"%qed\".\n"
     ]
    }
   ],
   "source": [
    "%proving mult_3_0"
   ]
  },
  {
   "cell_type": "code",
   "execution_count": null,
   "metadata": {},
   "outputs": [],
   "source": []
  }
 ],
 "metadata": {
  "kernelspec": {
   "display_name": "Python 3",
   "language": "python",
   "name": "python3"
  }
 },
 "nbformat": 4,
 "nbformat_minor": 0
}