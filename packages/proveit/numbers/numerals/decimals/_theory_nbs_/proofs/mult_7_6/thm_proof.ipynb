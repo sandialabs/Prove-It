{
 "cells": [
  {
   "cell_type": "markdown",
   "metadata": {},
   "source": [
    "Proof of <a class=\"ProveItLink\" href=\"../../../../../../_theory_nbs_/theory.ipynb\">proveit</a>.<a class=\"ProveItLink\" href=\"../../../../../_theory_nbs_/theory.ipynb\">numbers</a>.<a class=\"ProveItLink\" href=\"../../../../_theory_nbs_/theory.ipynb\">numerals</a>.<a class=\"ProveItLink\" href=\"../../theory.ipynb\">decimals</a>.<a class=\"ProveItLink\" href=\"../../theorems.ipynb#mult_7_6\">mult_7_6</a> theorem\n",
    "========"
   ]
  },
  {
   "cell_type": "code",
   "execution_count": 1,
   "metadata": {},
   "outputs": [],
   "source": [
    "import proveit\n",
    "theory = proveit.Theory() # the theorem's theory"
   ]
  },
  {
   "cell_type": "code",
   "execution_count": 2,
   "metadata": {},
   "outputs": [
    {
     "data": {
      "text/html": [
       "With these <a href=\"allowed_presumptions.txt\">allowed</a>/<a href=\"disallowed_presumptions.txt\">disallowed</a> theorem/theory presumptions (e.g., to avoid circular dependencies), we begin our proof of<br><strong id=\"mult_7_6\">mult_7_6:</strong> <a class=\"ProveItLink\" href=\"../../../__pv_it/theorems/f4dbed6957397e5fc41e1d23eb0f0d7673b1a4520/expr.ipynb\"><img src=\"data:image/png;base64,iVBORw0KGgoAAAANSUhEUgAAAGEAAAAVBAMAAACkm51HAAAAMFBMVEX///8AAAAAAAAAAAAAAAAA\n",
       "AAAAAAAAAAAAAAAAAAAAAAAAAAAAAAAAAAAAAAAAAAAv3aB7AAAAD3RSTlMAInZUiRDNmWbv3US7\n",
       "qzJazP2FAAAACXBIWXMAAA7EAAAOxAGVKw4bAAABl0lEQVQ4y32Tv0vDQBTHv2mS/m7sanFIJ8HJ\n",
       "QVybQXSy5A8Q7CIIOmQQokUhDuqoUBBExIKbKA3+BdFFFMG4CqUdnJxEpKJS4t3VpjUX8oYk733v\n",
       "c/feyzsAeXAWEhqy2KSwE4xdRRJTED3P+/J9aaaMmMWvUwwI5mobkCuQbk3zrC8IK3gGlngi7WIM\n",
       "0g+QsCCRdUZfiKt4APZ4YsLFE3AEpAARyPlCSafPlM4lteviVEcrj2nml33lrncSV4gUd2m6rTbW\n",
       "WPKOrxy+jNtEd4NEMc5CDWCZvnO2r3Qs1IBkhX5Xz6ldsj0tRijvAGvSqA/IHrChQzwIJgVGkIbh\n",
       "mPqzLLpINpa/gX0byluA2O4Rm/gjLnodpy3uEMJCJnCGoDIiSSmaldwdaPfsDLH+v45Ms9k60ch8\n",
       "CHncUP9zQJRIHWQzh/uDKReKhpiOeeKIHwMhq8mkVwmNI0YcFEyzCrzSLGtDytwWmba0HQQSj121\n",
       "4XmkzHQ7bKALEcOeNMKi61H34zokJjhRxEJILBt5bcnP4awYsf4XfBpjmZTOJ0wAAAAASUVORK5C\n",
       "YII=\n",
       "\" style=\"display:inline;vertical-align:middle;\" /></a><br>(see <a class=\"ProveItLink\" href=\"../../../__pv_it/theorems/f8c7f419d4fa38951f12300cae777270637e0a040/dependencies.ipynb\">dependencies</a>)<br>"
      ],
      "text/plain": [
       "<IPython.core.display.HTML object>"
      ]
     },
     "metadata": {},
     "output_type": "display_data"
    },
    {
     "name": "stdout",
     "output_type": "stream",
     "text": [
      "mult_7_6 may now be readily provable (assuming required theorems are usable).  Simply execute \"%qed\".\n"
     ]
    }
   ],
   "source": [
    "%proving mult_7_6"
   ]
  },
  {
   "cell_type": "code",
   "execution_count": null,
   "metadata": {},
   "outputs": [],
   "source": []
  }
 ],
 "metadata": {
  "kernelspec": {
   "display_name": "Python 3",
   "language": "python",
   "name": "python3"
  }
 },
 "nbformat": 4,
 "nbformat_minor": 0
}