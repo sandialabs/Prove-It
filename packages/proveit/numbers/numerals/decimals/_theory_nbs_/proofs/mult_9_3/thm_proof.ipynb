{
 "cells": [
  {
   "cell_type": "markdown",
   "metadata": {},
   "source": [
    "Proof of <a class=\"ProveItLink\" href=\"../../../../../../_theory_nbs_/theory.ipynb\">proveit</a>.<a class=\"ProveItLink\" href=\"../../../../../_theory_nbs_/theory.ipynb\">numbers</a>.<a class=\"ProveItLink\" href=\"../../../../_theory_nbs_/theory.ipynb\">numerals</a>.<a class=\"ProveItLink\" href=\"../../theory.ipynb\">decimals</a>.<a class=\"ProveItLink\" href=\"../../theorems.ipynb#mult_9_3\">mult_9_3</a> theorem\n",
    "========"
   ]
  },
  {
   "cell_type": "code",
   "execution_count": 1,
   "metadata": {},
   "outputs": [],
   "source": [
    "import proveit\n",
    "theory = proveit.Theory() # the theorem's theory"
   ]
  },
  {
   "cell_type": "code",
   "execution_count": 2,
   "metadata": {},
   "outputs": [
    {
     "data": {
      "text/html": [
       "With these <a href=\"allowed_presumptions.txt\">allowed</a>/<a href=\"disallowed_presumptions.txt\">disallowed</a> theorem/theory presumptions (e.g., to avoid circular dependencies), we begin our proof of<br><strong id=\"mult_9_3\">mult_9_3:</strong> <a class=\"ProveItLink\" href=\"../../../__pv_it/theorems/10ad026e5ef382fa3a7718318a107354c39a47e20/expr.ipynb\"><img src=\"data:image/png;base64,iVBORw0KGgoAAAANSUhEUgAAAGIAAAAVBAMAAABPrCZEAAAAMFBMVEX///8AAAAAAAAAAAAAAAAA\n",
       "AAAAAAAAAAAAAAAAAAAAAAAAAAAAAAAAAAAAAAAAAAAv3aB7AAAAD3RSTlMAInZUiRDNmWbv3US7\n",
       "qzJazP2FAAAACXBIWXMAAA7EAAAOxAGVKw4bAAABnElEQVQ4y31TMUjDUBB9aRObprV2U4uDgrtB\n",
       "ims7dFTI5iIki+Dg0EGIlA7ddOziIEUUxUUQg5suRic36+CiSIubgiIWpVAw3k9sWn5CDi7/8+5e\n",
       "7t7/9wFkEbAQaMhiahA7D0+d0NwlDyTMBx8VSlULsRqfLJjrbRQcx6lDMiAd4tXvYxnxDrDKM6Yg\n",
       "9rBomhUViRpG60jb/dCcKv0AWzzjHthFERgHksCYAfG7H7qwQIykxjH2NbSypLgJLAC6jVhvEIx3\n",
       "gRFeyCPQagMi+YZXozsIXlK22Aye1JkrB1iDq+PLD7w8039kg20rJ8xOPTzDUp7IjwCpgffOUFe0\n",
       "j9cDJRQqKzC4wU50dv6XFt3wVWY+A4wquWj8M+CdlVKmzwdwpyIVqCEzZYrtdUU2uA9HY4z4Aa8j\n",
       "DyELndFuqOkd6O0+Y8/tSra5EpkiYhquWBdLNIvHuPVD2+59JIocI0cDAhQY/EZeMi0/lDJpEqFY\n",
       "/GU4Do3CJJtzpR0217mI5yGXw9DNqBd1HYIJdhRjJQRLRz5bYTqIzUTk/wFyNmq2WBwOQgAAAABJ\n",
       "RU5ErkJggg==\n",
       "\" style=\"display:inline;vertical-align:middle;\" /></a><br>(see <a class=\"ProveItLink\" href=\"../../../__pv_it/theorems/ff08abd4c3c26d19d22645a4966e747ddfe7a7100/dependencies.ipynb\">dependencies</a>)<br>"
      ],
      "text/plain": [
       "<IPython.core.display.HTML object>"
      ]
     },
     "metadata": {},
     "output_type": "display_data"
    },
    {
     "name": "stdout",
     "output_type": "stream",
     "text": [
      "mult_9_3 may now be readily provable (assuming required theorems are usable).  Simply execute \"%qed\".\n"
     ]
    }
   ],
   "source": [
    "%proving mult_9_3"
   ]
  },
  {
   "cell_type": "code",
   "execution_count": null,
   "metadata": {},
   "outputs": [],
   "source": []
  }
 ],
 "metadata": {
  "kernelspec": {
   "display_name": "Python 3",
   "language": "python",
   "name": "python3"
  }
 },
 "nbformat": 4,
 "nbformat_minor": 0
}