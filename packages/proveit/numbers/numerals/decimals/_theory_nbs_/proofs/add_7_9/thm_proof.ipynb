{
 "cells": [
  {
   "cell_type": "markdown",
   "metadata": {},
   "source": [
    "Proof of <a class=\"ProveItLink\" href=\"../../../../../../_theory_nbs_/theory.ipynb\">proveit</a>.<a class=\"ProveItLink\" href=\"../../../../../_theory_nbs_/theory.ipynb\">numbers</a>.<a class=\"ProveItLink\" href=\"../../../../_theory_nbs_/theory.ipynb\">numerals</a>.<a class=\"ProveItLink\" href=\"../../theory.ipynb\">decimals</a>.<a class=\"ProveItLink\" href=\"../../theorems.ipynb#add_7_9\">add_7_9</a> theorem\n",
    "========"
   ]
  },
  {
   "cell_type": "code",
   "execution_count": 1,
   "metadata": {},
   "outputs": [],
   "source": [
    "import proveit\n",
    "theory = proveit.Theory() # the theorem's theory"
   ]
  },
  {
   "cell_type": "code",
   "execution_count": 2,
   "metadata": {},
   "outputs": [
    {
     "data": {
      "text/html": [
       "With these <a href=\"allowed_presumptions.txt\">allowed</a>/<a href=\"disallowed_presumptions.txt\">disallowed</a> theorem/theory presumptions (e.g., to avoid circular dependencies), we begin our proof of<br><strong id=\"add_7_9\">add_7_9:</strong> <a class=\"ProveItLink\" href=\"../../../__pv_it/theorems/3f68fea3284392328e6417016d43948fa02ffa6d0/expr.ipynb\"><img src=\"data:image/png;base64,iVBORw0KGgoAAAANSUhEUgAAAGwAAAAVBAMAAABRZRb3AAAAMFBMVEX///8AAAAAAAAAAAAAAAAA\n",
       "AAAAAAAAAAAAAAAAAAAAAAAAAAAAAAAAAAAAAAAAAAAv3aB7AAAAD3RSTlMAInZUiRDNmWbv3US7\n",
       "qzJazP2FAAAACXBIWXMAAA7EAAAOxAGVKw4bAAABjklEQVQ4y2NgYBBgwA4YGfABJgPGVqwS3Ar4\n",
       "tJkwMP////8nqiB7+VUGBg1Mxa8CgISLywMG1gQGluPl5YtRZFkXMbwUYGALQNPEej0fKCS2gXcB\n",
       "A3sDAwvQHwUQiR0QincCA88BBo4CDNv0gdqSQHKcDAzMQHVQYSMIxQ90wlcGhqnYtDF/BTHMwFw/\n",
       "VG3xBxiYfjMwZGDTxjMBxCgBh/UBTNt+MDD4YtPGmedUDTWRdwOqNpDfPjEwtIEDdRUYXIBp489g\n",
       "4DRgAAehJAOqNtbZDG8/MzBYYrMt/gMD+1SG2SCeG1isatWqmatWrQUxw1WM/jEwvMeqbQEDx2+I\n",
       "tjVotgEBKCR3YtMG9DfHD7AjWf9iagPGDYMVNr/xgG07BEp939G0MU9liH/AwNCDNd6AfpsADmTm\n",
       "L2jamJYynIBFDgrwB2aXIwyRBgyvQNE2Gd2RLuWgKFmNruvu/FxgWiy/x8DA9QBZ3Aglwy3AnW9Q\n",
       "0+sOlNzTgCe/HcQpI4Mvm8aQYSDIB7jyPpMAbk0AyR9kor8A8FYAAAAASUVORK5CYII=\n",
       "\" style=\"display:inline;vertical-align:middle;\" /></a><br>(see <a class=\"ProveItLink\" href=\"../../../__pv_it/theorems/1034b5d2a8ed71f24b62d2a1586dd5b28a6b62850/dependencies.ipynb\">dependencies</a>)<br>"
      ],
      "text/plain": [
       "<IPython.core.display.HTML object>"
      ]
     },
     "metadata": {},
     "output_type": "display_data"
    },
    {
     "name": "stdout",
     "output_type": "stream",
     "text": [
      "add_7_9 may now be readily provable (assuming required theorems are usable).  Simply execute \"%qed\".\n"
     ]
    }
   ],
   "source": [
    "%proving add_7_9"
   ]
  },
  {
   "cell_type": "code",
   "execution_count": null,
   "metadata": {},
   "outputs": [],
   "source": []
  }
 ],
 "metadata": {
  "kernelspec": {
   "display_name": "Python 3",
   "language": "python",
   "name": "python3"
  }
 },
 "nbformat": 4,
 "nbformat_minor": 0
}