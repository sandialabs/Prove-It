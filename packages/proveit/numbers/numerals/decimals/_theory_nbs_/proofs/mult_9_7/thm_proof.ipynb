{
 "cells": [
  {
   "cell_type": "markdown",
   "metadata": {},
   "source": [
    "Proof of <a class=\"ProveItLink\" href=\"../../../../../../_theory_nbs_/theory.ipynb\">proveit</a>.<a class=\"ProveItLink\" href=\"../../../../../_theory_nbs_/theory.ipynb\">numbers</a>.<a class=\"ProveItLink\" href=\"../../../../_theory_nbs_/theory.ipynb\">numerals</a>.<a class=\"ProveItLink\" href=\"../../theory.ipynb\">decimals</a>.<a class=\"ProveItLink\" href=\"../../theorems.ipynb#mult_9_7\">mult_9_7</a> theorem\n",
    "========"
   ]
  },
  {
   "cell_type": "code",
   "execution_count": 1,
   "metadata": {},
   "outputs": [],
   "source": [
    "import proveit\n",
    "theory = proveit.Theory() # the theorem's theory"
   ]
  },
  {
   "cell_type": "code",
   "execution_count": 2,
   "metadata": {},
   "outputs": [
    {
     "data": {
      "text/html": [
       "With these <a href=\"allowed_presumptions.txt\">allowed</a>/<a href=\"disallowed_presumptions.txt\">disallowed</a> theorem/theory presumptions (e.g., to avoid circular dependencies), we begin our proof of<br><strong id=\"mult_9_7\">mult_9_7:</strong> <a class=\"ProveItLink\" href=\"../../../__pv_it/theorems/ce295cb71b3a69ab5d2455b45a617514b5ca5c0a0/expr.ipynb\"><img src=\"data:image/png;base64,iVBORw0KGgoAAAANSUhEUgAAAGEAAAAVBAMAAACkm51HAAAAMFBMVEX///8AAAAAAAAAAAAAAAAA\n",
       "AAAAAAAAAAAAAAAAAAAAAAAAAAAAAAAAAAAAAAAAAAAv3aB7AAAAD3RSTlMAInZUiRDNmWbv3US7\n",
       "qzJazP2FAAAACXBIWXMAAA7EAAAOxAGVKw4bAAABqElEQVQ4y31TPUjDUBD+0ja2tvVn8weHCoKj\n",
       "QcS1HQouKt26CO0iCC4dhGhRyKZbC0UXEUVxEYTgpovVSUWwi4siBHFRUMRiKQrGu5Q27WvIg+S9\n",
       "u3vf3X139wD0om05qJqWR2kR+xP0O3FFTAB+9b4hRk3TzHu0tmu++Cyk+KoOyGnI+3ht5DGtqlkF\n",
       "8yJAWsQDkvCWyb+GrjzCxbopBvQB6yKiI4JbjClyBegEetLwfddNxKpE2oSAiLLiVAchJoFUEZ7f\n",
       "powNcikSua5t3iqwVItRtY1DjCoJiK2XUSKNM/K0AIvHl218pC+Q5lP2iNcxHysaCsDzE8U/oHJt\n",
       "471sVyXP0fOtIWQTWCEqXKttkpMj43+0pSzHPv53fwqIHyDHae0mLARqtQpm+BjkQoeEGFyjnPYB\n",
       "3CmcFS27H0gxae+ewOOGY5gJRlySeRMpo4E450iBotgP4oEdK6sZmsVDXDXZqOvwxwREOCYXsGH1\n",
       "443EuKrbtgGe5aAujsnUmoGQypMYNJwGetBl2AMZJ+2y2/u4cNBJRTfEnIMu7PpspUi7btjl/j8d\n",
       "xmvoUdMQHwAAAABJRU5ErkJggg==\n",
       "\" style=\"display:inline;vertical-align:middle;\" /></a><br>(see <a class=\"ProveItLink\" href=\"../../../__pv_it/theorems/7705e55c874b4a0433662c79dc49ad6a3fbb7b2d0/dependencies.ipynb\">dependencies</a>)<br>"
      ],
      "text/plain": [
       "<IPython.core.display.HTML object>"
      ]
     },
     "metadata": {},
     "output_type": "display_data"
    },
    {
     "name": "stdout",
     "output_type": "stream",
     "text": [
      "mult_9_7 may now be readily provable (assuming required theorems are usable).  Simply execute \"%qed\".\n"
     ]
    }
   ],
   "source": [
    "%proving mult_9_7"
   ]
  },
  {
   "cell_type": "code",
   "execution_count": null,
   "metadata": {},
   "outputs": [],
   "source": []
  }
 ],
 "metadata": {
  "kernelspec": {
   "display_name": "Python 3",
   "language": "python",
   "name": "python3"
  }
 },
 "nbformat": 4,
 "nbformat_minor": 0
}