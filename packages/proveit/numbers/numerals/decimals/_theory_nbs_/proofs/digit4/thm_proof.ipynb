{
 "cells": [
  {
   "cell_type": "markdown",
   "metadata": {},
   "source": [
    "Proof of <a class=\"ProveItLink\" href=\"../../../../../../_theory_nbs_/theory.ipynb\">proveit</a>.<a class=\"ProveItLink\" href=\"../../../../../_theory_nbs_/theory.ipynb\">numbers</a>.<a class=\"ProveItLink\" href=\"../../../../_theory_nbs_/theory.ipynb\">numerals</a>.<a class=\"ProveItLink\" href=\"../../theory.ipynb\">decimals</a>.<a class=\"ProveItLink\" href=\"../../theorems.ipynb#digit4\">digit4</a> theorem\n",
    "========"
   ]
  },
  {
   "cell_type": "code",
   "execution_count": 1,
   "metadata": {},
   "outputs": [],
   "source": [
    "import proveit\n",
    "theory = proveit.Theory() # the theorem's theory"
   ]
  },
  {
   "cell_type": "code",
   "execution_count": 2,
   "metadata": {},
   "outputs": [
    {
     "data": {
      "text/html": [
       "With these <a href=\"allowed_presumptions.txt\">allowed</a>/<a href=\"disallowed_presumptions.txt\">disallowed</a> theorem/theory presumptions (e.g., to avoid circular dependencies), we begin our proof of<br><strong id=\"digit4\">digit4:</strong> <a class=\"ProveItLink\" href=\"../../../__pv_it/theorems/27174569f68dee0529df36265a36b46ad60c24850/expr.ipynb\"><img src=\"data:image/png;base64,iVBORw0KGgoAAAANSUhEUgAAAEgAAAAUBAMAAADcj2b4AAAAMFBMVEX///8AAAAAAAAAAAAAAAAA\n",
       "AAAAAAAAAAAAAAAAAAAAAAAAAAAAAAAAAAAAAAAAAAAv3aB7AAAAD3RSTlMAMpndq3ZmzYkiRO+7\n",
       "EFRAb64nAAAACXBIWXMAAA7EAAAOxAGVKw4bAAABQElEQVQoz2NgwAveTGCIiGAgoCaAgaWBzwGv\n",
       "mpwEBgZ+Ad6/+NTEPAAS8ycw/MIid/nP8QsM3b8XSIPUMHAvYPwGooXQVJ3jcmDg/cDAd+ICkMN1\n",
       "9to/kKAJmiLnCW0MDBuA8mBV9wR+AklWdEV+B9gnMBgAGYxOExgYL3CBmGIlEDnWw8bmYIZnKmcB\n",
       "WBEDp8sFngR2ASCrAaKIq/QC1CRPFoEIiCIGTgautEaQARMgiqbD1DB4MhzgWWCA4oJpDBBFlQwI\n",
       "RUK8tqiKGqCKCpAUsT14s4FB5gwQTACLsE2AKGLcbGxsbANVxODLsgHZoKkMEEW8B5BMYrjCi2Ld\n",
       "EheX3x4ghgGyIsaAA2iBtwVMhsL5B4E4EF3RHzDJ/gDGrwNipgJUNTr/XcGO8lkL4Yv/BprCW4A9\n",
       "+XD1QKMFAwAA619P7sZMB3EAAAAASUVORK5CYII=\n",
       "\" style=\"display:inline;vertical-align:middle;\" /></a><br>(see <a class=\"ProveItLink\" href=\"../../../__pv_it/theorems/b5173cca4fdacf22d5d5189b97441ce2b55d5c450/dependencies.ipynb\">dependencies</a>)<br>"
      ],
      "text/plain": [
       "<IPython.core.display.HTML object>"
      ]
     },
     "metadata": {},
     "output_type": "display_data"
    }
   ],
   "source": [
    "%proving digit4"
   ]
  },
  {
   "cell_type": "code",
   "execution_count": null,
   "metadata": {},
   "outputs": [],
   "source": []
  }
 ],
 "metadata": {
  "kernelspec": {
   "display_name": "Python 3",
   "language": "python",
   "name": "python3"
  }
 },
 "nbformat": 4,
 "nbformat_minor": 0
}