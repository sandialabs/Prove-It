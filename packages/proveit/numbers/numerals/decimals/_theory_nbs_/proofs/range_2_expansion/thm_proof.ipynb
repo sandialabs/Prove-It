{
 "cells": [
  {
   "cell_type": "markdown",
   "metadata": {},
   "source": [
    "Proof of <a class=\"ProveItLink\" href=\"../../../../../../_theory_nbs_/theory.ipynb\">proveit</a>.<a class=\"ProveItLink\" href=\"../../../../../_theory_nbs_/theory.ipynb\">numbers</a>.<a class=\"ProveItLink\" href=\"../../../../_theory_nbs_/theory.ipynb\">numerals</a>.<a class=\"ProveItLink\" href=\"../../theory.ipynb\">decimals</a>.<a class=\"ProveItLink\" href=\"../../theorems.ipynb#range_2_expansion\">range_2_expansion</a> theorem\n",
    "========"
   ]
  },
  {
   "cell_type": "code",
   "execution_count": 1,
   "metadata": {},
   "outputs": [],
   "source": [
    "import proveit\n",
    "theory = proveit.Theory() # the theorem's theory"
   ]
  },
  {
   "cell_type": "code",
   "execution_count": 2,
   "metadata": {},
   "outputs": [
    {
     "data": {
      "text/html": [
       "With these <a href=\"allowed_presumptions.txt\">allowed</a>/<a href=\"disallowed_presumptions.txt\">disallowed</a> theorem/theory presumptions (e.g., to avoid circular dependencies), we begin our proof of<br><strong id=\"range_2_expansion\">range_2_expansion:</strong> <a class=\"ProveItLink\" href=\"../../../__pv_it/theorems/c20f9ba7ebd6611050136ff71e1cf15d78ea8d410/expr.ipynb\"><img src=\"data:image/png;base64,iVBORw0KGgoAAAANSUhEUgAAAikAAAAXBAMAAAA8UsLZAAAAMFBMVEX///8AAAAAAAAAAAAAAAAA\n",
       "AAAAAAAAAAAAAAAAAAAAAAAAAAAAAAAAAAAAAAAAAAAv3aB7AAAAD3RSTlMAq1RmmUTNIjK7EInv\n",
       "3XZ/CtNrAAAACXBIWXMAAA7EAAAOxAGVKw4bAAAFLElEQVRYw+VYTWhcVRQ+efMyP+/NJAN14SLI\n",
       "BDULS2kKjeCmjrZaMSizNC7iqIjQjVMEF2ptdCekWukimEV5dVGtQhqDKyUSAgFFIjG40LaBiQxk\n",
       "pWTTVmYh3v977k/G3IwrPXCm977z3e+cnnvfuecF4F+RllA8Nx6Yln0/tqXgd+djOVAIrf2H8s8y\n",
       "VOOK5wDTeyB9Mr0/R79p9HRv8oOFILVKH9zfZ1YOCwWIv8nEuAND4xgz+TUoiynFG2BhXeG80SKF\n",
       "zzO0Z8Vhx1FoCFKfoA9f7S8pSZMrkS9na2J8E+AMwqT3roK2YLnyZBdMrEcYL1xle93k6DO+MGxH\n",
       "oSEIfZe+rRf7y0o8zpXI6lSmxnAcYcoPzoO2UBmU46GuhfUI44WTcnrct4KTm45CQxCaJ97SWn9Z\n",
       "KQslbrqgxuTfTGNeyLCFStTGIWGsK5wXVgAxOyvKHkehIQjNkXTl+ywrY0JJfjdAjQkv2pZlwBY3\n",
       "pHzPwsJ5oyYgZmfFmMdRaAhS17e2fugzK5NCITfyU52Pkw6hTqsKcmz9HkAWNySEdUXwxrTYLmwL\n",
       "tLNi0uMoNASpTwHMq5Wf8orMX1PxbEZltgUJvswlJbwsFGC4LebpIDntuaYG/wXY4oaEsa5wXrbx\n",
       "9fI4R7MV8RaTKqgQTEehIUg9CwXKmZyiLr9lmApLREms+EWyThA+SZM8rNMGm0IBzs+I+XsxoY5W\n",
       "dPv1J2CLGxLCeoTzVmhb1BqucbSzYtPjKDQEqaUsbdAcTMxYTkr2xScPIz3MH/xOSuCieLAmFOCo\n",
       "nGdl4rC4q9/gXcNC9/jWuthjFhLCeoTzlkmgCRzNONpZseZxFBqC1KjNiu2wcwfYWYkbYsDu8SOo\n",
       "Y9BZWVZzGvvgilUulcXdqMGeZ2VZZQXgGYF2Vqx5HIWGoIibJ6h9ZIk2uyxxC4+jrCQdeW1XCH7b\n",
       "yMqS8wZ9pOYvJoR0Q6e4alg8x3ejV1Y4b4WFclOg2QpcVzY9jkJDUMRLbMsfoRlos7agPoayEkfN\n",
       "+GMil+ANki92olRWHhCcl4UC/Cjnye2UlC2K5AGU24bFU+o01pAM8ZboisJtgc7Zvedlj6PQEBTx\n",
       "2yyHp6jDT2iWkuwrlJXP07pYOQXw5hHjrEzJdlwoj5iNi7uvi5v0Oqts5xuGxQgpvQsIm9zBA/Yj\n",
       "edk1m9sV6HjR/irwOAoNQREPsDJ7SW2GvOJKVh80yhJNDs735OCwrLwvLBeEyoJGx4fIsgqNo3JD\n",
       "l0tlwSENjNw5hLE/00FdDGAr07xFumkDdFMoutKwsnLB4yg0BIv4O/pz/TM2vouzMtwSbxDJQdKd\n",
       "8b1B9CZnt3lcRTc7wDn2+xD9eQwMi7FRNtaQKNO8rElgL8I5tQIJI7cchYZgEiddSBZhLIYvyJas\n",
       "4KzMgq62UbOOs/KHbD3rXEfzNTUH9TFHzmNUfQkMi/FpZmLtXh80L/luG6g9Kj8TTzodcN11FBqC\n",
       "SUwyUVyFKztAvtiHqjgr26qGk9b2vpbIyluvkYZvTprmuP56Fc3lp3hC9qMy3zQsnj+yKawlC4B4\n",
       "S60Pa5sC7fnQn3MchYZgEdMMRmxUk5WkBKjIAGra5KpELb/G9cRpNGdppOWdsndahsUVjbWE5knx\n",
       "JhfjTkOgS+5fEq85jkJDMIlLo+Rte57937NXZlEXl39Ot0GnUW/LLm21vNDmiucAO74NaftD2tnf\n",
       "d+g7Gr3Tm/xgIZjEKS0R7Ijk4NmnUVbiju55U6v9nYD/oRT26Kj2mv6H5G/NTN99Mr26TQAAAABJ\n",
       "RU5ErkJggg==\n",
       "\" style=\"display:inline;vertical-align:middle;\" /></a><br>(see <a class=\"ProveItLink\" href=\"../../../__pv_it/theorems/9d1d1df006447a69d98cf9294d89de68abedf3c60/dependencies.ipynb\">dependencies</a>)<br>"
      ],
      "text/plain": [
       "<IPython.core.display.HTML object>"
      ]
     },
     "metadata": {},
     "output_type": "display_data"
    }
   ],
   "source": [
    "%proving range_2_expansion"
   ]
  },
  {
   "cell_type": "code",
   "execution_count": null,
   "metadata": {},
   "outputs": [],
   "source": []
  }
 ],
 "metadata": {
  "kernelspec": {
   "display_name": "Python 3",
   "language": "python",
   "name": "python3"
  }
 },
 "nbformat": 4,
 "nbformat_minor": 0
}