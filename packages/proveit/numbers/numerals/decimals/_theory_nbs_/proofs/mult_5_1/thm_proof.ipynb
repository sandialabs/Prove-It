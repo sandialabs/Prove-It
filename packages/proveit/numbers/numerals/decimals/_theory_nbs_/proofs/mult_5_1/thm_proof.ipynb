{
 "cells": [
  {
   "cell_type": "markdown",
   "metadata": {},
   "source": [
    "Proof of <a class=\"ProveItLink\" href=\"../../../../../../_theory_nbs_/theory.ipynb\">proveit</a>.<a class=\"ProveItLink\" href=\"../../../../../_theory_nbs_/theory.ipynb\">numbers</a>.<a class=\"ProveItLink\" href=\"../../../../_theory_nbs_/theory.ipynb\">numerals</a>.<a class=\"ProveItLink\" href=\"../../theory.ipynb\">decimals</a>.<a class=\"ProveItLink\" href=\"../../theorems.ipynb#mult_5_1\">mult_5_1</a> theorem\n",
    "========"
   ]
  },
  {
   "cell_type": "code",
   "execution_count": 1,
   "metadata": {},
   "outputs": [],
   "source": [
    "import proveit\n",
    "theory = proveit.Theory() # the theorem's theory"
   ]
  },
  {
   "cell_type": "code",
   "execution_count": 2,
   "metadata": {},
   "outputs": [
    {
     "data": {
      "text/html": [
       "With these <a href=\"allowed_presumptions.txt\">allowed</a>/<a href=\"disallowed_presumptions.txt\">disallowed</a> theorem/theory presumptions (e.g., to avoid circular dependencies), we begin our proof of<br><strong id=\"mult_5_1\">mult_5_1:</strong> <a class=\"ProveItLink\" href=\"../../../__pv_it/theorems/f47372e496e350ed1160b8079ebea406dc76726d0/expr.ipynb\"><img src=\"data:image/png;base64,iVBORw0KGgoAAAANSUhEUgAAAFcAAAAVBAMAAADBdm84AAAAMFBMVEX///8AAAAAAAAAAAAAAAAA\n",
       "AAAAAAAAAAAAAAAAAAAAAAAAAAAAAAAAAAAAAAAAAAAv3aB7AAAAD3RSTlMAInZUiRDNmWbv3US7\n",
       "qzJazP2FAAAACXBIWXMAAA7EAAAOxAGVKw4bAAABQ0lEQVQoz2NgYBBgwABYhCCAyYDhAQMrqvQm\n",
       "DFV8DAyBQMqEgWF+2qoAhPBSoAEN6Io5v2UBxVkTGBhW/nKFi8aWfQWSqeiKueYvAZrHDjTkAoqz\n",
       "QIrb0RXzQsxnwKaYMwCrYjOsitkasCouAeIbKvfQFLNcQFfc5PuAgSEDyDrKIL8BVTFHAohZtQoE\n",
       "1oKYPAGMvxkYFoNV8CxAVcw8ATNCTjEwzAYz2D8CifgEuGK+D5iK6wVAinkSGNj/gcKyAK6YG93k\n",
       "Y0DFD0DO4FzAwPsBzRkL0Nw8i4HhPgPDIaDXgeoPoHnwAJrJDgwMcxgYfBkYGAsYNBGRwAJyPrsD\n",
       "mmJxBqapDAyvQKzaUkSA3vx2A+j8DWiKGcuvA83jeoAt3UphT84cBdhEK3Ak/oNYxBgP4FAcg0WM\n",
       "B1e+YlTAFFPErhQAj5RPlScqlE0AAAAASUVORK5CYII=\n",
       "\" style=\"display:inline;vertical-align:middle;\" /></a><br>(see <a class=\"ProveItLink\" href=\"../../../__pv_it/theorems/d88e53a20c663a5e3ab9adaac89ce94c8690d6820/dependencies.ipynb\">dependencies</a>)<br>"
      ],
      "text/plain": [
       "<IPython.core.display.HTML object>"
      ]
     },
     "metadata": {},
     "output_type": "display_data"
    },
    {
     "name": "stdout",
     "output_type": "stream",
     "text": [
      "mult_5_1 may now be readily provable (assuming required theorems are usable).  Simply execute \"%qed\".\n"
     ]
    }
   ],
   "source": [
    "%proving mult_5_1"
   ]
  },
  {
   "cell_type": "code",
   "execution_count": null,
   "metadata": {},
   "outputs": [],
   "source": []
  }
 ],
 "metadata": {
  "kernelspec": {
   "display_name": "Python 3",
   "language": "python",
   "name": "python3"
  }
 },
 "nbformat": 4,
 "nbformat_minor": 0
}