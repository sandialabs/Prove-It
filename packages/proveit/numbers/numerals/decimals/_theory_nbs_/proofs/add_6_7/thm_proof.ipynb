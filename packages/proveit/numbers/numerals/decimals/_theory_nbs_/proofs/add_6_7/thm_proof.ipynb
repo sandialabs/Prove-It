{
 "cells": [
  {
   "cell_type": "markdown",
   "metadata": {},
   "source": [
    "Proof of <a class=\"ProveItLink\" href=\"../../../../../../_theory_nbs_/theory.ipynb\">proveit</a>.<a class=\"ProveItLink\" href=\"../../../../../_theory_nbs_/theory.ipynb\">numbers</a>.<a class=\"ProveItLink\" href=\"../../../../_theory_nbs_/theory.ipynb\">numerals</a>.<a class=\"ProveItLink\" href=\"../../theory.ipynb\">decimals</a>.<a class=\"ProveItLink\" href=\"../../theorems.ipynb#add_6_7\">add_6_7</a> theorem\n",
    "========"
   ]
  },
  {
   "cell_type": "code",
   "execution_count": 1,
   "metadata": {},
   "outputs": [],
   "source": [
    "import proveit\n",
    "theory = proveit.Theory() # the theorem's theory"
   ]
  },
  {
   "cell_type": "code",
   "execution_count": 2,
   "metadata": {},
   "outputs": [
    {
     "data": {
      "text/html": [
       "With these <a href=\"allowed_presumptions.txt\">allowed</a>/<a href=\"disallowed_presumptions.txt\">disallowed</a> theorem/theory presumptions (e.g., to avoid circular dependencies), we begin our proof of<br><strong id=\"add_6_7\">add_6_7:</strong> <a class=\"ProveItLink\" href=\"../../../__pv_it/theorems/da7ec07003ee373e846a5c417c075ced7cfec47e0/expr.ipynb\"><img src=\"data:image/png;base64,iVBORw0KGgoAAAANSUhEUgAAAGwAAAAVBAMAAABRZRb3AAAAMFBMVEX///8AAAAAAAAAAAAAAAAA\n",
       "AAAAAAAAAAAAAAAAAAAAAAAAAAAAAAAAAAAAAAAAAAAv3aB7AAAAD3RSTlMAInZUiRDNmWbv3US7\n",
       "qzJazP2FAAAACXBIWXMAAA7EAAAOxAGVKw4bAAABj0lEQVQ4y2NgYBBgwA4YGfABJgMsOlqBBLcC\n",
       "Pm0mQOzi8gBFjPn///8/GTQwFb8KYGAQcT/NwMCawMAgtoF3AYosy/Hy8sUMbAFomliv5wcwsBYw\n",
       "2BswsDcwMCQx8ByASOyAagO6s4CBowDDNv0ABqbPDPEJDJxAJ32FCxtBHcnAwAukpmLTxj2bgT+B\n",
       "wYyBgWcCujYg8APiDGzagMC+gaGEgYEzz6kaXRsjyNW+2LVxrwCbyJ/BwGmApo13A5BoA7HYV4HB\n",
       "Bbg2Pt17DAyLGRjiPzCwT0XTJgkiLHE50oBhNlDbAgaO30Be1apVM1etWguWdwMR73Fo4/wK0gYM\n",
       "GI4faLatARE7sWnje8DA8xnkSB6obUjaWP+CSCtsfuP/CtJ2CBhLQL9NQNXG/R1E9mCzjfMCyJGg\n",
       "QD7CEIkWksxfQGQJhjZ/AQaOBlC8vQKlpfJ7aPHGOBlErkbXdXd+bgPD9nJgUuZCSftGKNlnAe58\n",
       "g5pedyBzQKkcJziIU0YGXzaNIcNAkA9w5X0mAdyaAPrWYO2AY8F/AAAAAElFTkSuQmCC\n",
       "\" style=\"display:inline;vertical-align:middle;\" /></a><br>(see <a class=\"ProveItLink\" href=\"../../../__pv_it/theorems/047450fe71704c24d5208ae86f6552528dc93e640/dependencies.ipynb\">dependencies</a>)<br>"
      ],
      "text/plain": [
       "<IPython.core.display.HTML object>"
      ]
     },
     "metadata": {},
     "output_type": "display_data"
    },
    {
     "name": "stdout",
     "output_type": "stream",
     "text": [
      "add_6_7 may now be readily provable (assuming required theorems are usable).  Simply execute \"%qed\".\n"
     ]
    }
   ],
   "source": [
    "%proving add_6_7"
   ]
  },
  {
   "cell_type": "code",
   "execution_count": null,
   "metadata": {},
   "outputs": [],
   "source": []
  }
 ],
 "metadata": {
  "kernelspec": {
   "display_name": "Python 3",
   "language": "python",
   "name": "python3"
  }
 },
 "nbformat": 4,
 "nbformat_minor": 0
}