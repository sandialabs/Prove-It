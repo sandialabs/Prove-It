{
 "cells": [
  {
   "cell_type": "markdown",
   "metadata": {},
   "source": [
    "Proof of <a class=\"ProveItLink\" href=\"../../../../../../_theory_nbs_/theory.ipynb\">proveit</a>.<a class=\"ProveItLink\" href=\"../../../../../_theory_nbs_/theory.ipynb\">numbers</a>.<a class=\"ProveItLink\" href=\"../../../../_theory_nbs_/theory.ipynb\">numerals</a>.<a class=\"ProveItLink\" href=\"../../theory.ipynb\">decimals</a>.<a class=\"ProveItLink\" href=\"../../theorems.ipynb#mult_1_9\">mult_1_9</a> theorem\n",
    "========"
   ]
  },
  {
   "cell_type": "code",
   "execution_count": 1,
   "metadata": {},
   "outputs": [],
   "source": [
    "import proveit\n",
    "theory = proveit.Theory() # the theorem's theory"
   ]
  },
  {
   "cell_type": "code",
   "execution_count": 2,
   "metadata": {},
   "outputs": [
    {
     "data": {
      "text/html": [
       "With these <a href=\"allowed_presumptions.txt\">allowed</a>/<a href=\"disallowed_presumptions.txt\">disallowed</a> theorem/theory presumptions (e.g., to avoid circular dependencies), we begin our proof of<br><strong id=\"mult_1_9\">mult_1_9:</strong> <a class=\"ProveItLink\" href=\"../../../__pv_it/theorems/b4006276d1715d08eba204876f0c74722ae04cf40/expr.ipynb\"><img src=\"data:image/png;base64,iVBORw0KGgoAAAANSUhEUgAAAFcAAAAVBAMAAADBdm84AAAAMFBMVEX///8AAAAAAAAAAAAAAAAA\n",
       "AAAAAAAAAAAAAAAAAAAAAAAAAAAAAAAAAAAAAAAAAAAv3aB7AAAAD3RSTlMAInZUiRDNmWbv3US7\n",
       "qzJazP2FAAAACXBIWXMAAA7EAAAOxAGVKw4bAAABIklEQVQoz2NgYBBgwABYhCCAyQBTbBMuxSZA\n",
       "/CoAwS+vDWBgasBQBhJmYE1gYL2ej1AcpcA3kYEhFV0tRJgdZIg+QvFNBoYzDAzt6IohwpwMqIq/\n",
       "MTD4BzBwBqAphgiboSpm/QPkbWBgQ3M0VLgEi8kNDCwXsJjcwJDBgOHm8woMHAkgdtUqEFiLEF6M\n",
       "pjhyA999AwbmCWgmQ4RnIxTHg4xjLXLWf8DA9wFNMUQYSTFXAUQC6G3uCZixBxRGdwYDOECZF6C5\n",
       "GSJ8CE2xZQDrPwYGjgNoxkKEfcE2IJKZVgAPMIzZHdAUQ4RfAVl35+fCI4HFvRrk/A1oiqHCD7Al\n",
       "RSnsKZSjAJtoBY70fBCLGOMBHIpjsIjx4MpXjAqYYorYlQIALxVQMFXS660AAAAASUVORK5CYII=\n",
       "\" style=\"display:inline;vertical-align:middle;\" /></a><br>(see <a class=\"ProveItLink\" href=\"../../../__pv_it/theorems/bbfc1c33eb90a185e365161a496fffa4d10b3a900/dependencies.ipynb\">dependencies</a>)<br>"
      ],
      "text/plain": [
       "<IPython.core.display.HTML object>"
      ]
     },
     "metadata": {},
     "output_type": "display_data"
    },
    {
     "name": "stdout",
     "output_type": "stream",
     "text": [
      "mult_1_9 may now be readily provable (assuming required theorems are usable).  Simply execute \"%qed\".\n"
     ]
    }
   ],
   "source": [
    "%proving mult_1_9"
   ]
  },
  {
   "cell_type": "code",
   "execution_count": null,
   "metadata": {},
   "outputs": [],
   "source": []
  }
 ],
 "metadata": {
  "kernelspec": {
   "display_name": "Python 3",
   "language": "python",
   "name": "python3"
  }
 },
 "nbformat": 4,
 "nbformat_minor": 0
}