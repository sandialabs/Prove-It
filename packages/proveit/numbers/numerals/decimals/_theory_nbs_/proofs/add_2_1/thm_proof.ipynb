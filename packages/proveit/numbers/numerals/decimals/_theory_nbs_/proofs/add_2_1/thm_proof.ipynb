{
 "cells": [
  {
   "cell_type": "markdown",
   "metadata": {},
   "source": [
    "Proof of <a class=\"ProveItLink\" href=\"../../../../../../_theory_nbs_/theory.ipynb\">proveit</a>.<a class=\"ProveItLink\" href=\"../../../../../_theory_nbs_/theory.ipynb\">numbers</a>.<a class=\"ProveItLink\" href=\"../../../../_theory_nbs_/theory.ipynb\">numerals</a>.<a class=\"ProveItLink\" href=\"../../theory.ipynb\">decimals</a>.<a class=\"ProveItLink\" href=\"../../theorems.ipynb#add_2_1\">add_2_1</a> theorem\n",
    "========"
   ]
  },
  {
   "cell_type": "code",
   "execution_count": 1,
   "metadata": {},
   "outputs": [],
   "source": [
    "import proveit\n",
    "theory = proveit.Theory() # the theorem's theory"
   ]
  },
  {
   "cell_type": "code",
   "execution_count": 2,
   "metadata": {},
   "outputs": [
    {
     "data": {
      "text/html": [
       "With these <a href=\"allowed_presumptions.txt\">allowed</a>/<a href=\"disallowed_presumptions.txt\">disallowed</a> theorem/theory presumptions (e.g., to avoid circular dependencies), we begin our proof of<br><strong id=\"add_2_1\">add_2_1:</strong> <a class=\"ProveItLink\" href=\"../../../__pv_it/theorems/3cf257bc8770a5704f6e15f77739460894a274650/expr.ipynb\"><img src=\"data:image/png;base64,iVBORw0KGgoAAAANSUhEUgAAAGEAAAAVBAMAAACkm51HAAAAMFBMVEX///8AAAAAAAAAAAAAAAAA\n",
       "AAAAAAAAAAAAAAAAAAAAAAAAAAAAAAAAAAAAAAAAAAAv3aB7AAAAD3RSTlMAInZUiRDNmWbv3US7\n",
       "qzJazP2FAAAACXBIWXMAAA7EAAAOxAGVKw4bAAABWUlEQVQ4y2NgYBBgwA5wiTMwGeCQ2IRLhwkD\n",
       "g3jZOTRBvqVAoxrQlTK61GxgYGBNYGA8wOC/AUUqtuwrkExF1xHOwPyZgYG9gYFXgIFzAkRsB8yp\n",
       "IB3t6Dr0DVi/MTBwAtFXBt6PEDEjZB2cAWg6dm5gAOowY2DgXcDA+w+LDjYMjzAw/2BgKAGzuD5g\n",
       "0cFyAUPHLqAhGWDWewUsOjgSQEz2VWAA1v3o7gMGhsVgFWsZsOhgnoDpKmBYzQabcwBEVq1aNXPV\n",
       "qrVwHXwfMGNvfgBERy8DNju40e14x8Bw3gDsKmYHBkFsrlqA5o//ASAdh4CsJwwMqth8fgDNjrlg\n",
       "V/kCk8vy8vIFqDpYQDHK7oCmowMcH6+AkfH///8EFB28N7/dAIpvQNPBXQ5KiVwPkMWMkDlS2BM7\n",
       "RwEybwcypwJH/jiIK+MwHsAhEYNLBw+ubMuogENCEbswAOF2XiWRLf0UAAAAAElFTkSuQmCC\n",
       "\" style=\"display:inline;vertical-align:middle;\" /></a><br>(see <a class=\"ProveItLink\" href=\"../../../__pv_it/theorems/c3b9aedcadb354b8fb1a7922af39ebfa60c38ab80/dependencies.ipynb\">dependencies</a>)<br>"
      ],
      "text/plain": [
       "<IPython.core.display.HTML object>"
      ]
     },
     "metadata": {},
     "output_type": "display_data"
    },
    {
     "name": "stdout",
     "output_type": "stream",
     "text": [
      "add_2_1 may now be readily provable (assuming required theorems are usable).  Simply execute \"%qed\".\n"
     ]
    }
   ],
   "source": [
    "%proving add_2_1"
   ]
  },
  {
   "cell_type": "code",
   "execution_count": null,
   "metadata": {},
   "outputs": [],
   "source": []
  }
 ],
 "metadata": {
  "kernelspec": {
   "display_name": "Python 3",
   "language": "python",
   "name": "python3"
  }
 },
 "nbformat": 4,
 "nbformat_minor": 0
}