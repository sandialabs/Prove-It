{
 "cells": [
  {
   "cell_type": "markdown",
   "metadata": {},
   "source": [
    "Proof of <a class=\"ProveItLink\" href=\"../../../../../../_theory_nbs_/theory.ipynb\">proveit</a>.<a class=\"ProveItLink\" href=\"../../../../../_theory_nbs_/theory.ipynb\">numbers</a>.<a class=\"ProveItLink\" href=\"../../../../_theory_nbs_/theory.ipynb\">numerals</a>.<a class=\"ProveItLink\" href=\"../../theory.ipynb\">decimals</a>.<a class=\"ProveItLink\" href=\"../../theorems.ipynb#mult_8_0\">mult_8_0</a> theorem\n",
    "========"
   ]
  },
  {
   "cell_type": "code",
   "execution_count": 1,
   "metadata": {},
   "outputs": [],
   "source": [
    "import proveit\n",
    "theory = proveit.Theory() # the theorem's theory"
   ]
  },
  {
   "cell_type": "code",
   "execution_count": 2,
   "metadata": {},
   "outputs": [
    {
     "data": {
      "text/html": [
       "With these <a href=\"allowed_presumptions.txt\">allowed</a>/<a href=\"disallowed_presumptions.txt\">disallowed</a> theorem/theory presumptions (e.g., to avoid circular dependencies), we begin our proof of<br><strong id=\"mult_8_0\">mult_8_0:</strong> <a class=\"ProveItLink\" href=\"../../../__pv_it/theorems/b01b9eb237800ee0ed6f9f7c40213b74f09c1b5a0/expr.ipynb\"><img src=\"data:image/png;base64,iVBORw0KGgoAAAANSUhEUgAAAFcAAAAVBAMAAADBdm84AAAAMFBMVEX///8AAAAAAAAAAAAAAAAA\n",
       "AAAAAAAAAAAAAAAAAAAAAAAAAAAAAAAAAAAAAAAAAAAv3aB7AAAAD3RSTlMAInZUiRDNmWbv3US7\n",
       "qzJazP2FAAAACXBIWXMAAA7EAAAOxAGVKw4bAAABUklEQVQoz3XTsUvDQBQG8C+N11xblc7iECcn\n",
       "4QZxTYeOChkchXYpOAYsKrpkE13s4iSIxU0QxH/AtrOCo1s7C6Ko4CLUl17SNHeXN11++fryLrkC\n",
       "qEIrA8kqCN0e8sLrwHb9OL2ur1ZRCLVYxGBNIMDCtH1RsC7QUrOSnRA8nPxE1hmwCZyoYcklYO5l\n",
       "JvwMeD5KvhKWvAHYf74zHfIX+BAoqkNLbtNq+LWXIIs0jB6WqZh3aemMu4laP6Qu+GSso9uo7lK+\n",
       "id7e8ljMhmuwO9nOMV8CPIB3QdKgdoz00cXipzKGZArT1q1vknIgd+IJVDr6BolpjAZdvCb6BJz7\n",
       "sK+zM8c8oM70IftJ+BTYp8l6SmfJW0ClBe4mWhbsit5PTQlLfqPV+0F6kFh7bUT37pVwzCPTUVwy\n",
       "n1AemPQw5zz3DWb1csI7BpvP+19Zrm4r5ug/h2RZctyOSvcAAAAASUVORK5CYII=\n",
       "\" style=\"display:inline;vertical-align:middle;\" /></a><br>(see <a class=\"ProveItLink\" href=\"../../../__pv_it/theorems/1ddb45e286ab1eda580806750270bca6917028780/dependencies.ipynb\">dependencies</a>)<br>"
      ],
      "text/plain": [
       "<IPython.core.display.HTML object>"
      ]
     },
     "metadata": {},
     "output_type": "display_data"
    },
    {
     "name": "stdout",
     "output_type": "stream",
     "text": [
      "mult_8_0 may now be readily provable (assuming required theorems are usable).  Simply execute \"%qed\".\n"
     ]
    }
   ],
   "source": [
    "%proving mult_8_0"
   ]
  },
  {
   "cell_type": "code",
   "execution_count": null,
   "metadata": {},
   "outputs": [],
   "source": []
  }
 ],
 "metadata": {
  "kernelspec": {
   "display_name": "Python 3",
   "language": "python",
   "name": "python3"
  }
 },
 "nbformat": 4,
 "nbformat_minor": 0
}