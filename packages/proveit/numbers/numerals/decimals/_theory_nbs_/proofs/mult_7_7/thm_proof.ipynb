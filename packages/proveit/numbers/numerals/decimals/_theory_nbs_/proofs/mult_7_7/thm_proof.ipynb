{
 "cells": [
  {
   "cell_type": "markdown",
   "metadata": {},
   "source": [
    "Proof of <a class=\"ProveItLink\" href=\"../../../../../../_theory_nbs_/theory.ipynb\">proveit</a>.<a class=\"ProveItLink\" href=\"../../../../../_theory_nbs_/theory.ipynb\">numbers</a>.<a class=\"ProveItLink\" href=\"../../../../_theory_nbs_/theory.ipynb\">numerals</a>.<a class=\"ProveItLink\" href=\"../../theory.ipynb\">decimals</a>.<a class=\"ProveItLink\" href=\"../../theorems.ipynb#mult_7_7\">mult_7_7</a> theorem\n",
    "========"
   ]
  },
  {
   "cell_type": "code",
   "execution_count": 1,
   "metadata": {},
   "outputs": [],
   "source": [
    "import proveit\n",
    "theory = proveit.Theory() # the theorem's theory"
   ]
  },
  {
   "cell_type": "code",
   "execution_count": 2,
   "metadata": {},
   "outputs": [
    {
     "data": {
      "text/html": [
       "With these <a href=\"allowed_presumptions.txt\">allowed</a>/<a href=\"disallowed_presumptions.txt\">disallowed</a> theorem/theory presumptions (e.g., to avoid circular dependencies), we begin our proof of<br><strong id=\"mult_7_7\">mult_7_7:</strong> <a class=\"ProveItLink\" href=\"../../../__pv_it/theorems/2cce6e42f261903f8db1cc6c7eeb8d4650a1936a0/expr.ipynb\"><img src=\"data:image/png;base64,iVBORw0KGgoAAAANSUhEUgAAAGEAAAAVBAMAAACkm51HAAAAMFBMVEX///8AAAAAAAAAAAAAAAAA\n",
       "AAAAAAAAAAAAAAAAAAAAAAAAAAAAAAAAAAAAAAAAAAAv3aB7AAAAD3RSTlMAInZUiRDNmWbv3US7\n",
       "qzJazP2FAAAACXBIWXMAAA7EAAAOxAGVKw4bAAABjElEQVQ4y31TO0vDUBT+0jz6jm5acUjXLs0g\n",
       "glMLgi4+sipCuwiORYRIRYiDulYcRRDcRCH4B4wuLkKzipR2dnIQRbDWe1Iq19yQA7nkO9/9zj2P\n",
       "ewGMQ7AIF2cJUzrk4KTFlttYxQzkwWDwNYIVBloJR9ynNwB7n8VT61AebftyRCzZdtPEpqjI+Fg3\n",
       "9BMg6UABpMaIqAITwLGoKPl4Bp6ANCAD+T/CBHzmtYSkjnx8AKsWZgO8wnFKD9CEQhTNV7+Bsosd\n",
       "gpLHcdPE+2FFURue4WCLYN7luBf2per017wiuwliOlpQR9tA0KQCJ5BabJFb4aTAFGuu3jVxRngh\n",
       "8NaCwAqt+ltIcUAKdXu+3BsqrocdD1qcoZqyoTMkgxQIekVZqX2OrBEjX/yvI9vpdM/ZqGgeD4Q/\n",
       "OcUdnZTyhAmmfcxZ6g+wTBHfOaZCoZJVQTHmoWTl2JxeKctTjimYVIwbFiTbfUNZ3COuF3Whp2Iu\n",
       "e6oR5d2Nex/3ET7Ji1NsRPhysc+WDUewYsz+X24MXv4pQn3JAAAAAElFTkSuQmCC\n",
       "\" style=\"display:inline;vertical-align:middle;\" /></a><br>(see <a class=\"ProveItLink\" href=\"../../../__pv_it/theorems/635a8cf99d9d6976a459a09cd0fb0782bfb918bc0/dependencies.ipynb\">dependencies</a>)<br>"
      ],
      "text/plain": [
       "<IPython.core.display.HTML object>"
      ]
     },
     "metadata": {},
     "output_type": "display_data"
    },
    {
     "name": "stdout",
     "output_type": "stream",
     "text": [
      "mult_7_7 may now be readily provable (assuming required theorems are usable).  Simply execute \"%qed\".\n"
     ]
    }
   ],
   "source": [
    "%proving mult_7_7"
   ]
  },
  {
   "cell_type": "code",
   "execution_count": null,
   "metadata": {},
   "outputs": [],
   "source": []
  }
 ],
 "metadata": {
  "kernelspec": {
   "display_name": "Python 3",
   "language": "python",
   "name": "python3"
  }
 },
 "nbformat": 4,
 "nbformat_minor": 0
}