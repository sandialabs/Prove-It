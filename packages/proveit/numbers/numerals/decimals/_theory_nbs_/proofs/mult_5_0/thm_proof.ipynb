{
 "cells": [
  {
   "cell_type": "markdown",
   "metadata": {},
   "source": [
    "Proof of <a class=\"ProveItLink\" href=\"../../../../../../_theory_nbs_/theory.ipynb\">proveit</a>.<a class=\"ProveItLink\" href=\"../../../../../_theory_nbs_/theory.ipynb\">numbers</a>.<a class=\"ProveItLink\" href=\"../../../../_theory_nbs_/theory.ipynb\">numerals</a>.<a class=\"ProveItLink\" href=\"../../theory.ipynb\">decimals</a>.<a class=\"ProveItLink\" href=\"../../theorems.ipynb#mult_5_0\">mult_5_0</a> theorem\n",
    "========"
   ]
  },
  {
   "cell_type": "code",
   "execution_count": 1,
   "metadata": {},
   "outputs": [],
   "source": [
    "import proveit\n",
    "theory = proveit.Theory() # the theorem's theory"
   ]
  },
  {
   "cell_type": "code",
   "execution_count": 2,
   "metadata": {},
   "outputs": [
    {
     "data": {
      "text/html": [
       "With these <a href=\"allowed_presumptions.txt\">allowed</a>/<a href=\"disallowed_presumptions.txt\">disallowed</a> theorem/theory presumptions (e.g., to avoid circular dependencies), we begin our proof of<br><strong id=\"mult_5_0\">mult_5_0:</strong> <a class=\"ProveItLink\" href=\"../../../__pv_it/theorems/0dadbe1af3c95950fdf1f136364c47689902651f0/expr.ipynb\"><img src=\"data:image/png;base64,iVBORw0KGgoAAAANSUhEUgAAAFcAAAAVBAMAAADBdm84AAAAMFBMVEX///8AAAAAAAAAAAAAAAAA\n",
       "AAAAAAAAAAAAAAAAAAAAAAAAAAAAAAAAAAAAAAAAAAAv3aB7AAAAD3RSTlMAInZUiRDNmWbv3US7\n",
       "qzJazP2FAAAACXBIWXMAAA7EAAAOxAGVKw4bAAABTklEQVQoz3WTMUvDQBTH/2l7TVKjdBNcjCCI\n",
       "g3CDuLaDbgr5AIJZFMcMVUQQuokudhc04mRBKH4Bo+Cm0NFJMruoIAgO4ksvTXuXyxvCe7/78XiP\n",
       "uwCoIxcaJKLEEYPJx3dF8jJwudP1snp1oY5SO6clGMwHbn7XMljl7ArYVl2BTWrSH6OnwDpwrMoC\n",
       "25DlF6DhwfYUWeAVRf4BPjiq6tACtyh7nX8bQpbQNip92U3xLqVPmO2l1Pgm6sLyk+Kwm8TtCF8P\n",
       "HCccl5sod+TOKT4fFOYXfbaoHSN672LqUxlDYJIdH+YfkVogNmlwTHTyCxKmMewQk1mnZ+DMQzmU\n",
       "Z07xI1AhPxrKJ8A+YEVKZ4E3aPoAi9kl1Di7oB2aiizwO2XTR3ujVVpLMZ31FDnFse4pzuhfqBXo\n",
       "6EHBe37QMCMqkDc1zCn6rww3z+b06j99IFlgAuBrhQAAAABJRU5ErkJggg==\n",
       "\" style=\"display:inline;vertical-align:middle;\" /></a><br>(see <a class=\"ProveItLink\" href=\"../../../__pv_it/theorems/4410372ed53ba021598255a6802db4b466053b6e0/dependencies.ipynb\">dependencies</a>)<br>"
      ],
      "text/plain": [
       "<IPython.core.display.HTML object>"
      ]
     },
     "metadata": {},
     "output_type": "display_data"
    },
    {
     "name": "stdout",
     "output_type": "stream",
     "text": [
      "mult_5_0 may now be readily provable (assuming required theorems are usable).  Simply execute \"%qed\".\n"
     ]
    }
   ],
   "source": [
    "%proving mult_5_0"
   ]
  },
  {
   "cell_type": "code",
   "execution_count": null,
   "metadata": {},
   "outputs": [],
   "source": []
  }
 ],
 "metadata": {
  "kernelspec": {
   "display_name": "Python 3",
   "language": "python",
   "name": "python3"
  }
 },
 "nbformat": 4,
 "nbformat_minor": 0
}