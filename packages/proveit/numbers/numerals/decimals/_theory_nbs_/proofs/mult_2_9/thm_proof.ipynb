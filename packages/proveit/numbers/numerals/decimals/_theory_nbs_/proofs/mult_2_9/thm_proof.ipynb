{
 "cells": [
  {
   "cell_type": "markdown",
   "metadata": {},
   "source": [
    "Proof of <a class=\"ProveItLink\" href=\"../../../../../../_theory_nbs_/theory.ipynb\">proveit</a>.<a class=\"ProveItLink\" href=\"../../../../../_theory_nbs_/theory.ipynb\">numbers</a>.<a class=\"ProveItLink\" href=\"../../../../_theory_nbs_/theory.ipynb\">numerals</a>.<a class=\"ProveItLink\" href=\"../../theory.ipynb\">decimals</a>.<a class=\"ProveItLink\" href=\"../../theorems.ipynb#mult_2_9\">mult_2_9</a> theorem\n",
    "========"
   ]
  },
  {
   "cell_type": "code",
   "execution_count": 1,
   "metadata": {},
   "outputs": [],
   "source": [
    "import proveit\n",
    "theory = proveit.Theory() # the theorem's theory"
   ]
  },
  {
   "cell_type": "code",
   "execution_count": 2,
   "metadata": {},
   "outputs": [
    {
     "data": {
      "text/html": [
       "With these <a href=\"allowed_presumptions.txt\">allowed</a>/<a href=\"disallowed_presumptions.txt\">disallowed</a> theorem/theory presumptions (e.g., to avoid circular dependencies), we begin our proof of<br><strong id=\"mult_2_9\">mult_2_9:</strong> <a class=\"ProveItLink\" href=\"../../../__pv_it/theorems/ad820eb2cbdb3b0da58f1aee5a8ec07a6729891d0/expr.ipynb\"><img src=\"data:image/png;base64,iVBORw0KGgoAAAANSUhEUgAAAGEAAAAVBAMAAACkm51HAAAAMFBMVEX///8AAAAAAAAAAAAAAAAA\n",
       "AAAAAAAAAAAAAAAAAAAAAAAAAAAAAAAAAAAAAAAAAAAv3aB7AAAAD3RSTlMAInZUiRDNmWbv3US7\n",
       "qzJazP2FAAAACXBIWXMAAA7EAAAOxAGVKw4bAAABkklEQVQ4y31TO0jDUBQ9aRr7sQlxElyMgwgu\n",
       "7SCCkxWFTtJMgqLYRXAsIk1RxOBSF6EOTi4FEUEoBAfnKLiJFRy0kx2cXKxIC4oYb1JTQ/PIJTxy\n",
       "z3nn3d97AGT4jAF5LJTyYxeBiglgsHD372s7KkK6b5t0CghzGYPWHDgTWcNllhTpEFjrFawUWkAE\n",
       "eKBVhygjVnapOnALlPzJk2IfWABi9LUgvrtMG8iqiKksxbyjmATECsSfP0L4BpIG+nSWYvoGRWDT\n",
       "8eNNbwwd4XuWQrTGqLHrjv+meOqoKYjm7P+tc9uqXQV2v2hSJ45f7Z61aEjPKfBlVgx+pvYBHNtu\n",
       "xLTXVftgYWM22YDUZClK4D/VjuKgU0y+Q1Kv+pkxjoDhlJMVn8aAh6R58BVGHQIFFnVck/cCjLrb\n",
       "p1SBOh01WTHoMiRkeyrcmaZVXGZcTdAsIuleRZhmfKliD3il/C3LynWZzLZdktEjEOvtJ0iPGuHx\n",
       "ButCDwVc9miehRaD3scVA+PMIMUyA0sEPltO8WMjAft/ARkeZr12gheCAAAAAElFTkSuQmCC\n",
       "\" style=\"display:inline;vertical-align:middle;\" /></a><br>(see <a class=\"ProveItLink\" href=\"../../../__pv_it/theorems/7213f8a03507e80d8417d5da21c4da99ab4bd6b30/dependencies.ipynb\">dependencies</a>)<br>"
      ],
      "text/plain": [
       "<IPython.core.display.HTML object>"
      ]
     },
     "metadata": {},
     "output_type": "display_data"
    },
    {
     "name": "stdout",
     "output_type": "stream",
     "text": [
      "mult_2_9 may now be readily provable (assuming required theorems are usable).  Simply execute \"%qed\".\n"
     ]
    }
   ],
   "source": [
    "%proving mult_2_9"
   ]
  },
  {
   "cell_type": "code",
   "execution_count": null,
   "metadata": {},
   "outputs": [],
   "source": []
  }
 ],
 "metadata": {
  "kernelspec": {
   "display_name": "Python 3",
   "language": "python",
   "name": "python3"
  }
 },
 "nbformat": 4,
 "nbformat_minor": 0
}