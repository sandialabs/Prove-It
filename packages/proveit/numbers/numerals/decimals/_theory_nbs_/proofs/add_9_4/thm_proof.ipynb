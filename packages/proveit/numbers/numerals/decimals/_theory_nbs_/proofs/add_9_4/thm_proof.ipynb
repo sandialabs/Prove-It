{
 "cells": [
  {
   "cell_type": "markdown",
   "metadata": {},
   "source": [
    "Proof of <a class=\"ProveItLink\" href=\"../../../../../../_theory_nbs_/theory.ipynb\">proveit</a>.<a class=\"ProveItLink\" href=\"../../../../../_theory_nbs_/theory.ipynb\">numbers</a>.<a class=\"ProveItLink\" href=\"../../../../_theory_nbs_/theory.ipynb\">numerals</a>.<a class=\"ProveItLink\" href=\"../../theory.ipynb\">decimals</a>.<a class=\"ProveItLink\" href=\"../../theorems.ipynb#add_9_4\">add_9_4</a> theorem\n",
    "========"
   ]
  },
  {
   "cell_type": "code",
   "execution_count": 1,
   "metadata": {},
   "outputs": [],
   "source": [
    "import proveit\n",
    "theory = proveit.Theory() # the theorem's theory"
   ]
  },
  {
   "cell_type": "code",
   "execution_count": 2,
   "metadata": {},
   "outputs": [
    {
     "data": {
      "text/html": [
       "With these <a href=\"allowed_presumptions.txt\">allowed</a>/<a href=\"disallowed_presumptions.txt\">disallowed</a> theorem/theory presumptions (e.g., to avoid circular dependencies), we begin our proof of<br><strong id=\"add_9_4\">add_9_4:</strong> <a class=\"ProveItLink\" href=\"../../../__pv_it/theorems/c74a47adb8fdfc7653511f4c59c269eff9dd6f260/expr.ipynb\"><img src=\"data:image/png;base64,iVBORw0KGgoAAAANSUhEUgAAAGwAAAAVBAMAAABRZRb3AAAAMFBMVEX///8AAAAAAAAAAAAAAAAA\n",
       "AAAAAAAAAAAAAAAAAAAAAAAAAAAAAAAAAAAAAAAAAAAv3aB7AAAAD3RSTlMAInZUiRDNmWbv3US7\n",
       "qzJazP2FAAAACXBIWXMAAA7EAAAOxAGVKw4bAAABiklEQVQ4y52TPUjDQBTH/0ZjW1vbIA4ODg4O\n",
       "LmIpIujSDoKTmM1FSEeXYodCQBwyOTm4dJAiiiJIRHCzDkJ1ElyKKE6VbGpBBEtBUdR3qS3N5a6D\n",
       "Dy6Xe+9+d+/eBwANYulCJ1HiEkN4pBM2CQTMO5/6ERjzb67qwODcNaCmoe7h2efpMdCrczr1fkWH\n",
       "mkUyjoCF/k1ESg1DseU6YcGs77YJHUoNRhohIJZGT72hTjTtTxn65EVYuMCAKcAoQfnksBTDlkUY\n",
       "SdJCrnHbuxdTNIbNi7HwoXsie9ubFxsCw9bZb8B2pdzCouMPwD4FqICXmhdLudi0zMk4CjQtjia+\n",
       "aVq17S3bphAiqLnYqwQL1V0MfCQH4GJnIizqIFJjTpI08/aHnVcqH7fAjOhtsTrDLoHuPAyHSwC2\n",
       "aWyIbguVmZMUZOUAV+CxLxo5H7agIWixvFVpMWue8Njazw1wxFOVnYyFU5NKuc9p1yc8Dbcr7xtv\n",
       "vRbbF1TlcrmQWoY7tenSPw5kL5D1vqLJoV+KSmUWGMZUCQAAAABJRU5ErkJggg==\n",
       "\" style=\"display:inline;vertical-align:middle;\" /></a><br>(see <a class=\"ProveItLink\" href=\"../../../__pv_it/theorems/834db37405098aabcd3fb906ad05d89a05c364990/dependencies.ipynb\">dependencies</a>)<br>"
      ],
      "text/plain": [
       "<IPython.core.display.HTML object>"
      ]
     },
     "metadata": {},
     "output_type": "display_data"
    },
    {
     "name": "stdout",
     "output_type": "stream",
     "text": [
      "add_9_4 may now be readily provable (assuming required theorems are usable).  Simply execute \"%qed\".\n"
     ]
    }
   ],
   "source": [
    "%proving add_9_4"
   ]
  },
  {
   "cell_type": "code",
   "execution_count": null,
   "metadata": {},
   "outputs": [],
   "source": []
  }
 ],
 "metadata": {
  "kernelspec": {
   "display_name": "Python 3",
   "language": "python",
   "name": "python3"
  }
 },
 "nbformat": 4,
 "nbformat_minor": 0
}