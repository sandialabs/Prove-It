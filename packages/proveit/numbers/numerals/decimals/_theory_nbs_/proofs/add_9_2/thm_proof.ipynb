{
 "cells": [
  {
   "cell_type": "markdown",
   "metadata": {},
   "source": [
    "Proof of <a class=\"ProveItLink\" href=\"../../../../../../_theory_nbs_/theory.ipynb\">proveit</a>.<a class=\"ProveItLink\" href=\"../../../../../_theory_nbs_/theory.ipynb\">numbers</a>.<a class=\"ProveItLink\" href=\"../../../../_theory_nbs_/theory.ipynb\">numerals</a>.<a class=\"ProveItLink\" href=\"../../theory.ipynb\">decimals</a>.<a class=\"ProveItLink\" href=\"../../theorems.ipynb#add_9_2\">add_9_2</a> theorem\n",
    "========"
   ]
  },
  {
   "cell_type": "code",
   "execution_count": 1,
   "metadata": {},
   "outputs": [],
   "source": [
    "import proveit\n",
    "theory = proveit.Theory() # the theorem's theory"
   ]
  },
  {
   "cell_type": "code",
   "execution_count": 2,
   "metadata": {},
   "outputs": [
    {
     "data": {
      "text/html": [
       "With these <a href=\"allowed_presumptions.txt\">allowed</a>/<a href=\"disallowed_presumptions.txt\">disallowed</a> theorem/theory presumptions (e.g., to avoid circular dependencies), we begin our proof of<br><strong id=\"add_9_2\">add_9_2:</strong> <a class=\"ProveItLink\" href=\"../../../__pv_it/theorems/138e31f93bce8505eca37b4c472b290b2decace40/expr.ipynb\"><img src=\"data:image/png;base64,iVBORw0KGgoAAAANSUhEUgAAAGsAAAAVBAMAAACzuQ2OAAAAMFBMVEX///8AAAAAAAAAAAAAAAAA\n",
       "AAAAAAAAAAAAAAAAAAAAAAAAAAAAAAAAAAAAAAAAAAAv3aB7AAAAD3RSTlMAInZUiRDNmWbv3US7\n",
       "qzJazP2FAAAACXBIWXMAAA7EAAAOxAGVKw4bAAABZUlEQVQ4y2NgYBBgwA4YGfABJgMcEtwK+LSZ\n",
       "MDCwl19FExQvO8fAoIGp+FUAlGBNYGBdxPAS1aWMBxj8NzCwBaBpYr2eHwAhGNgbGHgnMPAcgEjs\n",
       "gFC8AgycExg4CjBs0w+AEpwMDPwJDCxfIcJGEIrzKwPvRwaGqbi1mTEwxB9gYPqNoo13AQPvPwaG\n",
       "DNzaSiC2/UDRBgRcHxgYfHFrA5oI8tsndG3vgcHfBmKwrwKDC6jaFgMDaDbD28/o2tYCsSVu22YD\n",
       "6XAVI6BPGKpWrZq5atVasDw7KGjf49fGgB6SDAy9IGInbm2LwVxYvMG0MTswCDIwWOH22yGgmqkM\n",
       "8Q9QtT1hYFBlYOjBbRswkJmWMpxgQNHGuLy8fAE4ctCAvwCUeAWkXco3oGrj+v//fwIDw2p0XXfn\n",
       "5zZACK4HyOJGKAl6Ae58g5pedyBzgKkcNziIU0YGXzaNIcNAkA9w5X0mAdyaAOpwYTx44Iw2AAAA\n",
       "AElFTkSuQmCC\n",
       "\" style=\"display:inline;vertical-align:middle;\" /></a><br>(see <a class=\"ProveItLink\" href=\"../../../__pv_it/theorems/2153d4515a96eb5d18cacb6f7cd1eff06382e8300/dependencies.ipynb\">dependencies</a>)<br>"
      ],
      "text/plain": [
       "<IPython.core.display.HTML object>"
      ]
     },
     "metadata": {},
     "output_type": "display_data"
    },
    {
     "name": "stdout",
     "output_type": "stream",
     "text": [
      "add_9_2 may now be readily provable (assuming required theorems are usable).  Simply execute \"%qed\".\n"
     ]
    }
   ],
   "source": [
    "%proving add_9_2"
   ]
  },
  {
   "cell_type": "code",
   "execution_count": null,
   "metadata": {},
   "outputs": [],
   "source": []
  }
 ],
 "metadata": {
  "kernelspec": {
   "display_name": "Python 3",
   "language": "python",
   "name": "python3"
  }
 },
 "nbformat": 4,
 "nbformat_minor": 0
}