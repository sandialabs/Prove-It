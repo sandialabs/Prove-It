{
 "cells": [
  {
   "cell_type": "markdown",
   "metadata": {},
   "source": [
    "Proof of <a class=\"ProveItLink\" href=\"../../../../../../_theory_nbs_/theory.ipynb\">proveit</a>.<a class=\"ProveItLink\" href=\"../../../../../_theory_nbs_/theory.ipynb\">numbers</a>.<a class=\"ProveItLink\" href=\"../../../../_theory_nbs_/theory.ipynb\">numerals</a>.<a class=\"ProveItLink\" href=\"../../theory.ipynb\">decimals</a>.<a class=\"ProveItLink\" href=\"../../theorems.ipynb#mult_9_9\">mult_9_9</a> theorem\n",
    "========"
   ]
  },
  {
   "cell_type": "code",
   "execution_count": 1,
   "metadata": {},
   "outputs": [],
   "source": [
    "import proveit\n",
    "theory = proveit.Theory() # the theorem's theory"
   ]
  },
  {
   "cell_type": "code",
   "execution_count": 2,
   "metadata": {},
   "outputs": [
    {
     "data": {
      "text/html": [
       "With these <a href=\"allowed_presumptions.txt\">allowed</a>/<a href=\"disallowed_presumptions.txt\">disallowed</a> theorem/theory presumptions (e.g., to avoid circular dependencies), we begin our proof of<br><strong id=\"mult_9_9\">mult_9_9:</strong> <a class=\"ProveItLink\" href=\"../../../__pv_it/theorems/fa0e269567634d00ba04bf6760900e37a1da47e30/expr.ipynb\"><img src=\"data:image/png;base64,iVBORw0KGgoAAAANSUhEUgAAAGAAAAAVBAMAAABLWfZ5AAAAMFBMVEX///8AAAAAAAAAAAAAAAAA\n",
       "AAAAAAAAAAAAAAAAAAAAAAAAAAAAAAAAAAAAAAAAAAAv3aB7AAAAD3RSTlMAInZUiRDNmWbv3US7\n",
       "qzJazP2FAAAACXBIWXMAAA7EAAAOxAGVKw4bAAABl0lEQVQ4y32TPUjDUBDH/00a+2EaO7tYQRBc\n",
       "GkQEJxULncRMiqK0i+BYRGxRxOJSxzp06iJKF0EIDs5REByECiLaya4Kglpa/EK9JCStr2luyXt3\n",
       "98v97917AMJoMwdX0zi53XfiBowAvvRtc5/eUsBl2SwhFlcBqUSrJIQDPNoiFiLSHrDMAj7gBkvr\n",
       "dVplEcpD1KxIBbgCciywC8ySfAICQE8S3roVaQAzCgIKA0zbwCiQ0MB9WVq/gaiKLraJ8QtkTGDN\n",
       "rPDeWiEL7zUDhH4HZRNYgdHDW0sP5Qj8SX29caTbseHf/gybwCHJKOK5ZgHzqvQgg88zFfjJcs0E\n",
       "irSbGxj+oU9C/62wOhWtQnphgBz4D8UGYJ5SMGUG6ZS62QoFoE+2JJE15wBjDvz+/x4EqhjKGsA5\n",
       "RQtIVK3sMUUgeX6NqUDTF8MGQBPhSri0I0OKSDPwTTDAqYIdUv4KPNEullbtiDe+qbejMoB0Rzmh\n",
       "SuMewarTFe7tfLv9KSdvxuU9nDn4PJoLsOjgE93eqCfS7uvvnP4Hjfxpuyek5fsAAAAASUVORK5C\n",
       "YII=\n",
       "\" style=\"display:inline;vertical-align:middle;\" /></a><br>(see <a class=\"ProveItLink\" href=\"../../../__pv_it/theorems/e6299df7c63996d709b742dfc6a958ddc26d22020/dependencies.ipynb\">dependencies</a>)<br>"
      ],
      "text/plain": [
       "<IPython.core.display.HTML object>"
      ]
     },
     "metadata": {},
     "output_type": "display_data"
    },
    {
     "name": "stdout",
     "output_type": "stream",
     "text": [
      "mult_9_9 may now be readily provable (assuming required theorems are usable).  Simply execute \"%qed\".\n"
     ]
    }
   ],
   "source": [
    "%proving mult_9_9"
   ]
  },
  {
   "cell_type": "code",
   "execution_count": null,
   "metadata": {},
   "outputs": [],
   "source": []
  }
 ],
 "metadata": {
  "kernelspec": {
   "display_name": "Python 3",
   "language": "python",
   "name": "python3"
  }
 },
 "nbformat": 4,
 "nbformat_minor": 0
}