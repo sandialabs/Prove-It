{
 "cells": [
  {
   "cell_type": "markdown",
   "metadata": {},
   "source": [
    "Proof of <a class=\"ProveItLink\" href=\"../../../../../../_theory_nbs_/theory.ipynb\">proveit</a>.<a class=\"ProveItLink\" href=\"../../../../../_theory_nbs_/theory.ipynb\">numbers</a>.<a class=\"ProveItLink\" href=\"../../../../_theory_nbs_/theory.ipynb\">numerals</a>.<a class=\"ProveItLink\" href=\"../../theory.ipynb\">decimals</a>.<a class=\"ProveItLink\" href=\"../../theorems.ipynb#tuple_len_8_typical_eq\">tuple_len_8_typical_eq</a> theorem\n",
    "========"
   ]
  },
  {
   "cell_type": "code",
   "execution_count": 1,
   "metadata": {},
   "outputs": [],
   "source": [
    "import proveit\n",
    "theory = proveit.Theory() # the theorem's theory"
   ]
  },
  {
   "cell_type": "code",
   "execution_count": 2,
   "metadata": {},
   "outputs": [
    {
     "data": {
      "text/html": [
       "With these <a href=\"allowed_presumptions.txt\">allowed</a>/<a href=\"disallowed_presumptions.txt\">disallowed</a> theorem/theory presumptions (e.g., to avoid circular dependencies), we begin our proof of<br><strong id=\"tuple_len_8_typical_eq\">tuple_len_8_typical_eq:</strong> <a class=\"ProveItLink\" href=\"../../../__pv_it/theorems/fcd88b33312384b9375a64bc084837bf9122570e0/expr.ipynb\"><img src=\"data:image/png;base64,iVBORw0KGgoAAAANSUhEUgAAAdYAAAAWBAMAAACPq6BpAAAAMFBMVEX///8AAAAAAAAAAAAAAAAA\n",
       "AAAAAAAAAAAAAAAAAAAAAAAAAAAAAAAAAAAAAAAAAAAv3aB7AAAAD3RSTlMAq1RmmUTNIjK7EInv\n",
       "3XZ/CtNrAAAACXBIWXMAAA7EAAAOxAGVKw4bAAAFy0lEQVRYw9VYXUwcVRQ++8PO7uwPW2v8CbVM\n",
       "Y9IHUFlTo8Em66aAfw1I44saTWlo0rQxusQnYitLfIUU9WETY5p5aEgIibvVEI1EWmuaKLWWNm1a\n",
       "22BHaSqWBAmmoDyA59yfmVlmb9GFFy9w57tn7pz7ffeee+4MAOstGv6wkoUNK5qr9pj/00D2I9pG\n",
       "8PoVou10TRgbp7XKopr7dZUKBuKeYISBJMGHK6flLwoK9S6j/smEt2f4zYzHFhw1V1mGzlE9dRet\n",
       "NFC/eExrPphTUhsebRGeUCuBFoIHKtc6KCjoHW5rKFOma7V3QU70eWz72fOmUisOpN/7ttDaDdE7\n",
       "SmoZ8BncE2lF0EuzM1C51iZBIZhaQxbAXtNjOv2qxzZPVSCj1MoG+kM8dj/ADypmgRTNC/NEWhGQ\n",
       "7ug6ttopQSG2liyAr727aUllGldqZQNJredNqFWlqmiSBdu40IoA1UNoHdu1Q1DYvoYsGZ2ldCZU\n",
       "pk6l1u1urQ8B1Ko2rP9vk2KgU2pFcG5y8mzlWoNFQWE37YWa33jag32z94gOY1Oci1YzPS8S19hN\n",
       "wTSw5YLc1/Wz74idvmtnnjayUutut1YsN5Tcapd3CU9MK4LnAT6uXGsoJSjQ9L2ejfAI1BfMAg+t\n",
       "I0aQJwP7HryRCxfltrakig7te44KB2ATXp60tbZOUrlga+0s1RpeVq/DyhXhiWlF0AVa0n7wYEnn\n",
       "k+7wON7k7PqfbRg3BIWLqPBbCPII9C9BjMu4LgDd45la+xMScsF65AANJgjODTl4EC+PKNf1YqnW\n",
       "eFKptb57xeCemFYEEdPls6akc4+78dErDv7ORrF2QeEMzuMcxPmKoaxqhoIy+Tj3IsuzI/LpBgm+\n",
       "gfAiR8/S/AAcVWo9U6r1BaVUTLwN49wT04rAb4XKiaDyu7vhSpnaqbJaYwNQ4PRQ1l6W22PyNHPu\n",
       "VSe9KSw8Dwnh8zpof1HI/0utAfWyxkzQ5rknppVAR5reMdJfsOD/hR3iUxYzvcXePtLs5Nx2lsgH\n",
       "ZqlzYHNjrkwMFyx4xj5eX2JsCnJDuu5ZDp0PJONFiHDS+h2IkupHlfu1NIbrQVOdOQX828w9Ma0E\n",
       "PjuEQ1xhMZS4lqDEeDl8iplogvWr/DUywFboJqPn60jI6YxYgsIxdG7Aff6sTnpyuD8ZwHlqJ+Dc\n",
       "o1A2gHP9kQYg53NQSDEboljxKYBG5boek1qpO2a5hKl7dZIphpOQ556YVgKHkXcwQ/IgkgpgAgkO\n",
       "6DlmmiNdyXfZugZpErQllgZjuWDRObA5hROk238pCAX04EtFMgxgEo7mCDj3cITjWX2B7QV6vyOb\n",
       "vgi1JrP5BnCiivxkKa+VnSEns8C6H2lubmUeuJsFEBW1qg5BwBJn1Ig4rHw52nZspVBEku9BZqKl\n",
       "jDXV8QUkxciTlv8wC12+0yYEhX4cZeuXXdMQv4aoBpM2ARjdcZtb7HswswMZTNKq+GkymW3PTCu3\n",
       "4TCJMQotpVYcCDad35di3W+srCxwD3Fai0sgKmbqbW4RnpjWyzK2s5Gn8dFqiKGI6qww3TZlg6aB\n",
       "BuPL3wg9YTn+VUEhbp9PdWrgID9pDSYd235hE9lvQqnVHsjpXucN4roST6RVk+9osezRl81hiJuN\n",
       "MAyhdigOk+l9NEUMKOoYVAUT7/iTviQ2tsLjUenrCUEhYH/ZFNXAQfT8tpAhbL0m5Yao6zUgpdRq\n",
       "DxT1egWviX+TjLg+TqqaHvsc+oxwm4W11pQ2+wxh0tvSZvg0QB/+GtB2y8JGHrq+kr4iWcEpL9OC\n",
       "pQQu9Cn+/TQobVvMQYvbQH6rqb9f8y4Xq7yC19Qtv1+7S3sYnlpc/Gz9qIGh7C/1OiAoDAlDApTA\n",
       "hYhL+jlp2zPTImyi5O+idcjlYpXXMgPlpdZ86eeUubqWl9fgwweo0Q+3qFFS3oME20GatXH/g0mw\n",
       "JJFY/QVTwUDcE0xLYL9UeWp5ScGYRY3unS9S439a/gHxBbmENGhE1gAAAABJRU5ErkJggg==\n",
       "\" style=\"display:inline;vertical-align:middle;\" /></a><br>(see <a class=\"ProveItLink\" href=\"../../../__pv_it/theorems/3a490914dc70467083ea308a29c73796d59f91500/dependencies.ipynb\">dependencies</a>)<br>"
      ],
      "text/plain": [
       "<IPython.core.display.HTML object>"
      ]
     },
     "metadata": {},
     "output_type": "display_data"
    }
   ],
   "source": [
    "%proving tuple_len_8_typical_eq"
   ]
  },
  {
   "cell_type": "code",
   "execution_count": null,
   "metadata": {},
   "outputs": [],
   "source": []
  }
 ],
 "metadata": {
  "kernelspec": {
   "display_name": "Python 3",
   "language": "python",
   "name": "python3"
  }
 },
 "nbformat": 4,
 "nbformat_minor": 0
}