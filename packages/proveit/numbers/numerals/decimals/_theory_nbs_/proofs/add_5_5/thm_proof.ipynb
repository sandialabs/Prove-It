{
 "cells": [
  {
   "cell_type": "markdown",
   "metadata": {},
   "source": [
    "Proof of <a class=\"ProveItLink\" href=\"../../../../../../_theory_nbs_/theory.ipynb\">proveit</a>.<a class=\"ProveItLink\" href=\"../../../../../_theory_nbs_/theory.ipynb\">numbers</a>.<a class=\"ProveItLink\" href=\"../../../../_theory_nbs_/theory.ipynb\">numerals</a>.<a class=\"ProveItLink\" href=\"../../theory.ipynb\">decimals</a>.<a class=\"ProveItLink\" href=\"../../theorems.ipynb#add_5_5\">add_5_5</a> theorem\n",
    "========"
   ]
  },
  {
   "cell_type": "code",
   "execution_count": 1,
   "metadata": {},
   "outputs": [],
   "source": [
    "import proveit\n",
    "theory = proveit.Theory() # the theorem's theory"
   ]
  },
  {
   "cell_type": "code",
   "execution_count": 2,
   "metadata": {},
   "outputs": [
    {
     "data": {
      "text/html": [
       "With these <a href=\"allowed_presumptions.txt\">allowed</a>/<a href=\"disallowed_presumptions.txt\">disallowed</a> theorem/theory presumptions (e.g., to avoid circular dependencies), we begin our proof of<br><strong id=\"add_5_5\">add_5_5:</strong> <a class=\"ProveItLink\" href=\"../../../__pv_it/theorems/ffb770af84bb6c5cb4b460c622930305b3ca4bc00/expr.ipynb\"><img src=\"data:image/png;base64,iVBORw0KGgoAAAANSUhEUgAAAGwAAAAVBAMAAABRZRb3AAAAMFBMVEX///8AAAAAAAAAAAAAAAAA\n",
       "AAAAAAAAAAAAAAAAAAAAAAAAAAAAAAAAAAAAAAAAAAAv3aB7AAAAD3RSTlMAInZUiRDNmWbv3US7\n",
       "qzJazP2FAAAACXBIWXMAAA7EAAAOxAGVKw4bAAABbUlEQVQ4y2NgYBBgwA4YGfABJgOGBwysaHpB\n",
       "ItwK+LSZMDDMT1sVgCoIFtHAVPwKqI7FqZCBgTWBgWHlL1c0abAIG5pZDKzX84FCyQxRAgzsDQwM\n",
       "F+ASO6A0WISjAMM2/QAGjgUMLAcYOBmQtRkha2OYik0bzwUG5q8MZni0ZWDTxl/AwPeZoQTIuaFy\n",
       "D00bRMQXm7Z4oLYfYBOPMshvQNUGEWkDMdlXgcEFmDZ5Bwa+TwyLwVyeBajaICKW2GwDafvCMBvM\n",
       "Zf8IJKpWrZq5atVaBrjIe6yOdGDg/gTSxpPAwP4PxTaoyE4cQcL8GeRIzgUMvB9QtEFFrLD5jecA\n",
       "A8dXhkPA1AJUdwBFG1SkB2t0T2BgTwAFMmMBg2YAijaoSAmGNn9gkl/MEPmA4RWQI15bihZvEJHV\n",
       "6Lruzs9tYAh3AsYp1wNkcSOUDLcAd75BTa87kDmgVI4THMQpI4Mvm8aQYSDIB7jyPpMAbk0ARAxn\n",
       "CEjVnG0AAAAASUVORK5CYII=\n",
       "\" style=\"display:inline;vertical-align:middle;\" /></a><br>(see <a class=\"ProveItLink\" href=\"../../../__pv_it/theorems/78acabf0e783887acdd57b9fec56d8c065e5472b0/dependencies.ipynb\">dependencies</a>)<br>"
      ],
      "text/plain": [
       "<IPython.core.display.HTML object>"
      ]
     },
     "metadata": {},
     "output_type": "display_data"
    },
    {
     "name": "stdout",
     "output_type": "stream",
     "text": [
      "add_5_5 may now be readily provable (assuming required theorems are usable).  Simply execute \"%qed\".\n"
     ]
    }
   ],
   "source": [
    "%proving add_5_5"
   ]
  },
  {
   "cell_type": "code",
   "execution_count": null,
   "metadata": {},
   "outputs": [],
   "source": []
  }
 ],
 "metadata": {
  "kernelspec": {
   "display_name": "Python 3",
   "language": "python",
   "name": "python3"
  }
 },
 "nbformat": 4,
 "nbformat_minor": 0
}