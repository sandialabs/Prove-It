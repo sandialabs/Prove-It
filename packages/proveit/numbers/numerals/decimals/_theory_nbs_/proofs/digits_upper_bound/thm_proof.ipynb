{
 "cells": [
  {
   "cell_type": "markdown",
   "metadata": {},
   "source": [
    "Proof of <a class=\"ProveItLink\" href=\"../../../../../../_theory_nbs_/theory.ipynb\">proveit</a>.<a class=\"ProveItLink\" href=\"../../../../../_theory_nbs_/theory.ipynb\">numbers</a>.<a class=\"ProveItLink\" href=\"../../../../_theory_nbs_/theory.ipynb\">numerals</a>.<a class=\"ProveItLink\" href=\"../../theory.ipynb\">decimals</a>.<a class=\"ProveItLink\" href=\"../../theorems.ipynb#digits_upper_bound\">digits_upper_bound</a> theorem\n",
    "========"
   ]
  },
  {
   "cell_type": "code",
   "execution_count": 1,
   "metadata": {},
   "outputs": [],
   "source": [
    "import proveit\n",
    "theory = proveit.Theory() # the theorem's theory"
   ]
  },
  {
   "cell_type": "code",
   "execution_count": 2,
   "metadata": {},
   "outputs": [
    {
     "data": {
      "text/html": [
       "With these <a href=\"allowed_presumptions.txt\">allowed</a>/<a href=\"disallowed_presumptions.txt\">disallowed</a> theorem/theory presumptions (e.g., to avoid circular dependencies), we begin our proof of<br><strong id=\"digits_upper_bound\">digits_upper_bound:</strong> <a class=\"ProveItLink\" href=\"../../../__pv_it/theorems/92bd58440776fd451b33a6b31a2261581cb029250/expr.ipynb\"><img src=\"data:image/png;base64,iVBORw0KGgoAAAANSUhEUgAAAIsAAAAVBAMAAACEWwD/AAAAMFBMVEX///8AAAAAAAAAAAAAAAAA\n",
       "AAAAAAAAAAAAAAAAAAAAAAAAAAAAAAAAAAAAAAAAAAAv3aB7AAAAD3RSTlMAq1RmmUTNIjK7EInv\n",
       "3XZ/CtNrAAAACXBIWXMAAA7EAAAOxAGVKw4bAAACTUlEQVQ4y51UTWgTQRh92c1mN7tpm6simiJK\n",
       "QLGr6E0k0hUKBdm7rQQ9+HOKUA/+VFfwalGhSDzo+IMgbTHWSulJL6IggmiRikRWlEoRbS7+nvp9\n",
       "W3c32TRZcWAy876ZefnmfW8W+MdW+q+laOvMtV7bTz3Lk/WxNJtaxK3dAp0msIfBoTgWvRiNSN6Z\n",
       "CVd7ChwFzhFQL8bRJM1IQJ4VPKwBysB2IEXQyMXRZKJSvfNY8AN4JJARkOl/UrHSbGyEY+//3vU3\n",
       "sGgjRRwvqtXnsTT9XJDVpxZcD91+7cc5GxMG1akPuLriUVE3P0i9csnVfzK4cSCIkzbXXchUgGNQ\n",
       "syuxbHW0B9M+eAUo9luovxgkQppxW1uXg/QYSAvDrjutzj7Eziz0KYd0veNHn5AO+ndIfzw0FFxK\n",
       "3zu56ECrkQHcUOGRVaPoNkRSqP3k8HvoEiENpBoSxUaJuVGlFMoGxV2BO/rY0W7BwDAnaOR6SuGl\n",
       "mKPLFI0Fh+cb6SWNk2RCuXfkE/CRw/kNZwxShnmOj/t7r7F3KugRlUb7bRY6ySWzfU+TwrcGzExJ\n",
       "98ycN27uo6HbJNW++TT3qZ91MC87wWM4zL9fRZo8k2TyBC2dnCcdFM/xeRQWeDxvy1+CJ3CB+iCV\n",
       "eluknMYUv8mOoEZrMQD5SLl8mWjGml3d4bQz53AwewZL0yrL2ShbMGRZVr0N5EI7mt7ALTXM5Zfd\n",
       "vAP40LzzSt18osptLrRa8IFQsiAhTlDq2psSEs00d9skk458RfWZ8miLrarbmuYzsASbPI0qngYe\n",
       "ywAAAABJRU5ErkJggg==\n",
       "\" style=\"display:inline;vertical-align:middle;\" /></a><br>(see <a class=\"ProveItLink\" href=\"../../../__pv_it/theorems/c1ac2150134a6bae24d62720ab75d69a075b98060/dependencies.ipynb\">dependencies</a>)<br>"
      ],
      "text/plain": [
       "<IPython.core.display.HTML object>"
      ]
     },
     "metadata": {},
     "output_type": "display_data"
    }
   ],
   "source": [
    "%proving digits_upper_bound"
   ]
  },
  {
   "cell_type": "code",
   "execution_count": null,
   "metadata": {},
   "outputs": [],
   "source": []
  }
 ],
 "metadata": {
  "kernelspec": {
   "display_name": "Python 3",
   "language": "python",
   "name": "python3"
  }
 },
 "nbformat": 4,
 "nbformat_minor": 0
}