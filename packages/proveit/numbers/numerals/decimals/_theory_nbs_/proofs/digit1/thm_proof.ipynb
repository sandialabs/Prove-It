{
 "cells": [
  {
   "cell_type": "markdown",
   "metadata": {},
   "source": [
    "Proof of <a class=\"ProveItLink\" href=\"../../../../../../_theory_nbs_/theory.ipynb\">proveit</a>.<a class=\"ProveItLink\" href=\"../../../../../_theory_nbs_/theory.ipynb\">numbers</a>.<a class=\"ProveItLink\" href=\"../../../../_theory_nbs_/theory.ipynb\">numerals</a>.<a class=\"ProveItLink\" href=\"../../theory.ipynb\">decimals</a>.<a class=\"ProveItLink\" href=\"../../theorems.ipynb#digit1\">digit1</a> theorem\n",
    "========"
   ]
  },
  {
   "cell_type": "code",
   "execution_count": 1,
   "metadata": {},
   "outputs": [],
   "source": [
    "import proveit\n",
    "theory = proveit.Theory() # the theorem's theory"
   ]
  },
  {
   "cell_type": "code",
   "execution_count": 2,
   "metadata": {},
   "outputs": [
    {
     "data": {
      "text/html": [
       "With these <a href=\"allowed_presumptions.txt\">allowed</a>/<a href=\"disallowed_presumptions.txt\">disallowed</a> theorem/theory presumptions (e.g., to avoid circular dependencies), we begin our proof of<br><strong id=\"digit1\">digit1:</strong> <a class=\"ProveItLink\" href=\"../../../__pv_it/theorems/2f243fa8ba81bfc88e4b96def2c7aaf58dfd7e950/expr.ipynb\"><img src=\"data:image/png;base64,iVBORw0KGgoAAAANSUhEUgAAAEcAAAAUBAMAAAAthD11AAAAMFBMVEX///8AAAAAAAAAAAAAAAAA\n",
       "AAAAAAAAAAAAAAAAAAAAAAAAAAAAAAAAAAAAAAAAAAAv3aB7AAAAD3RSTlMAMt0Qq5nNdoki72a7\n",
       "RFSRpcO+AAAACXBIWXMAAA7EAAAOxAGVKw4bAAABH0lEQVQoz2NgwAf4TjKwtzcw4FdznIHBg+EJ\n",
       "XjXcp4HERwZ7Azxq2M8BCc6fDPwXMOWY9c8kM3CsX8u4DsxdyyC/gYGBURlNFc+DKwwM9gwMb5pB\n",
       "vDvG+x8wmIR9RlPEosmxgYELJA9SxfyQfwLQagxFbxgyGZhALJFIBgZhhksMSIpqlJQSwIpmF0yD\n",
       "KGKY4sxwmiERSdG1YphJExzZGyCKGCYw3N4hgFDEmQy3bgIPw1kmtOCAKGKbgFDEGGBkhF0RwuET\n",
       "GPbxnWJgPAMEJ1EVSSkBwQGoIhYDL6wm2SCbxOyA3TomZEUM4jxYFbEXwKMF6Gd2GVRFHD8hdB5M\n",
       "gO0BkAhDjQSvb95ghslZSLphzF8DJM1wpJ8bhyDRggkA3FhHS+1JwGcAAAAASUVORK5CYII=\n",
       "\" style=\"display:inline;vertical-align:middle;\" /></a><br>(see <a class=\"ProveItLink\" href=\"../../../__pv_it/theorems/271244a3e5b585723ef55be00a0825f47b12167d0/dependencies.ipynb\">dependencies</a>)<br>"
      ],
      "text/plain": [
       "<IPython.core.display.HTML object>"
      ]
     },
     "metadata": {},
     "output_type": "display_data"
    }
   ],
   "source": [
    "%proving digit1"
   ]
  },
  {
   "cell_type": "code",
   "execution_count": null,
   "metadata": {},
   "outputs": [],
   "source": []
  }
 ],
 "metadata": {
  "kernelspec": {
   "display_name": "Python 3",
   "language": "python",
   "name": "python3"
  }
 },
 "nbformat": 4,
 "nbformat_minor": 0
}