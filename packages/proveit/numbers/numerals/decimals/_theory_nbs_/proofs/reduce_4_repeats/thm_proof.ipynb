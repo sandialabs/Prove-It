{
 "cells": [
  {
   "cell_type": "markdown",
   "metadata": {},
   "source": [
    "Proof of <a class=\"ProveItLink\" href=\"../../../../../../_theory_nbs_/theory.ipynb\">proveit</a>.<a class=\"ProveItLink\" href=\"../../../../../_theory_nbs_/theory.ipynb\">numbers</a>.<a class=\"ProveItLink\" href=\"../../../../_theory_nbs_/theory.ipynb\">numerals</a>.<a class=\"ProveItLink\" href=\"../../theory.ipynb\">decimals</a>.<a class=\"ProveItLink\" href=\"../../theorems.ipynb#reduce_4_repeats\">reduce_4_repeats</a> theorem\n",
    "========"
   ]
  },
  {
   "cell_type": "code",
   "execution_count": 1,
   "metadata": {},
   "outputs": [],
   "source": [
    "import proveit\n",
    "theory = proveit.Theory() # the theorem's theory"
   ]
  },
  {
   "cell_type": "code",
   "execution_count": 2,
   "metadata": {},
   "outputs": [
    {
     "data": {
      "text/html": [
       "With these <a href=\"allowed_presumptions.txt\">allowed</a>/<a href=\"disallowed_presumptions.txt\">disallowed</a> theorem/theory presumptions (e.g., to avoid circular dependencies), we begin our proof of<br><strong id=\"reduce_4_repeats\">reduce_4_repeats:</strong> <a class=\"ProveItLink\" href=\"../../../__pv_it/theorems/0ee01837b1fa78d53f0b5dd14bc4cc5aab90c54c0/expr.ipynb\"><img src=\"data:image/png;base64,iVBORw0KGgoAAAANSUhEUgAAAS8AAAAVBAMAAADlZnWUAAAAMFBMVEX///8AAAAAAAAAAAAAAAAA\n",
       "AAAAAAAAAAAAAAAAAAAAAAAAAAAAAAAAAAAAAAAAAAAv3aB7AAAAD3RSTlMAq1RmmUTNIjK7EInv\n",
       "3XZ/CtNrAAAACXBIWXMAAA7EAAAOxAGVKw4bAAACx0lEQVRIx6VWTWgTQRR+yW6yyW6zBDz4Q5GC\n",
       "0oNVWkQULxooVsEfgmfRgAfB03oRhAbiSVDEXETwUCL0oB407VWQXLwoShEFEQJbVAQPwVMjPTkz\n",
       "b6YzmczsLuSxX/ry7fu+vNmZ2SnAeEQcE0SUkTOEZy0NZxCTxFWzbZYoxCiv0i8H1DtzHAlR+p7i\n",
       "Hi6MUXNZB/UD5WdofkPh/QYiIZ4tbae539SJFEslih0mv0unta3w7gIi8YGkNnZMJ9IsZTg1Jqf9\n",
       "Ber0T3FM1thURyeyL9D3TO6QkRRVepYjQ2O7Ce5Y5kN/QLPZG7uO8o/9/geVPs/xavP5G3yS/mDf\n",
       "g3VTY80WeN/0tYTFQVXjrZaSFOkays8BPNX6ZaiF+90NXB6wGV80NUa6Ir1pawmLHbrW3T6LKiRZ\n",
       "SlKkx1F+C7yR0X1GOJGzncP5OAGnO7uMa6x5T39gojjf03ibpUKK9DDKy52grjq8Q5TAFRu8BUuW\n",
       "xe/19Qcmikt/Nd5mqZAifYTyfFwEQ2NkZ8Q73KfsjfHiQm+8MYulQmJ6hcsbp8jH4OzPaGQqAa5F\n",
       "Pt/zhSG8zDqVvDi/oa0xu6UkeXqEy9fJazaM9hb51lhBvKhPQwBA6vzHuR50wU9f/LIYnLbWr81S\n",
       "kiKFk1y+TEbkwEqJO6wh5u9fgMvgb5Hu/632CjPwms4/+aB/g+Ho64KU4SWKwe1qjdksJclT9mZh\n",
       "8hwb9FA4PESsDvKL5Af6HfAvxQePAlTowV2p0Ss3vcW21B6C20z0hV2yGCp1rTGbpSRFCl9Veann\n",
       "8azSQmDk5dFyKPWVrRQ39XsplgrpbSjy5aDhKmcoBUYgrbupjSnFi6ajOcEyGD3ud+Tur7d/RP6E\n",
       "A08JedbEqY3JYq89djPZUpL09DXI6ebgYCGlYfrpK4vLkdHWbhmPjKBs/N/aixGTxG+zbZYIIyb/\n",
       "D3URAZ9jTdZgAAAAAElFTkSuQmCC\n",
       "\" style=\"display:inline;vertical-align:middle;\" /></a><br>(see <a class=\"ProveItLink\" href=\"../../../__pv_it/theorems/76e9ed74e80a5bec02ada49c5143bcda400b9c490/dependencies.ipynb\">dependencies</a>)<br>"
      ],
      "text/plain": [
       "<IPython.core.display.HTML object>"
      ]
     },
     "metadata": {},
     "output_type": "display_data"
    }
   ],
   "source": [
    "%proving reduce_4_repeats"
   ]
  },
  {
   "cell_type": "code",
   "execution_count": null,
   "metadata": {},
   "outputs": [],
   "source": []
  }
 ],
 "metadata": {
  "kernelspec": {
   "display_name": "Python 3",
   "language": "python",
   "name": "python3"
  }
 },
 "nbformat": 4,
 "nbformat_minor": 0
}