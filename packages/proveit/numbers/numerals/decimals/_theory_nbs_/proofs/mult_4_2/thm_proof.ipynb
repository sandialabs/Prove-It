{
 "cells": [
  {
   "cell_type": "markdown",
   "metadata": {},
   "source": [
    "Proof of <a class=\"ProveItLink\" href=\"../../../../../../_theory_nbs_/theory.ipynb\">proveit</a>.<a class=\"ProveItLink\" href=\"../../../../../_theory_nbs_/theory.ipynb\">numbers</a>.<a class=\"ProveItLink\" href=\"../../../../_theory_nbs_/theory.ipynb\">numerals</a>.<a class=\"ProveItLink\" href=\"../../theory.ipynb\">decimals</a>.<a class=\"ProveItLink\" href=\"../../theorems.ipynb#mult_4_2\">mult_4_2</a> theorem\n",
    "========"
   ]
  },
  {
   "cell_type": "code",
   "execution_count": 1,
   "metadata": {},
   "outputs": [],
   "source": [
    "import proveit\n",
    "theory = proveit.Theory() # the theorem's theory"
   ]
  },
  {
   "cell_type": "code",
   "execution_count": 2,
   "metadata": {},
   "outputs": [
    {
     "data": {
      "text/html": [
       "With these <a href=\"allowed_presumptions.txt\">allowed</a>/<a href=\"disallowed_presumptions.txt\">disallowed</a> theorem/theory presumptions (e.g., to avoid circular dependencies), we begin our proof of<br><strong id=\"mult_4_2\">mult_4_2:</strong> <a class=\"ProveItLink\" href=\"../../../__pv_it/theorems/50360524dcf1c83b13d6945caec940e2c155bd840/expr.ipynb\"><img src=\"data:image/png;base64,iVBORw0KGgoAAAANSUhEUgAAAFcAAAAVBAMAAADBdm84AAAAMFBMVEX///8AAAAAAAAAAAAAAAAA\n",
       "AAAAAAAAAAAAAAAAAAAAAAAAAAAAAAAAAAAAAAAAAAAv3aB7AAAAD3RSTlMAInZUiRDNmWbv3US7\n",
       "qzJazP2FAAAACXBIWXMAAA7EAAAOxAGVKw4bAAABaElEQVQoz3WTP0jDUBDGvyStprEtwUmKoE6u\n",
       "HcTVCoKTkMlJ0EVwsNBBSCmCxaWOOjiIiIKbIBYHN6EKzv4FQSjNpjiJglAV4l0CSfrycsNx+fLj\n",
       "y929FwAmYiGR/FCLce08CZ7g9Bo8KvaqA7UuUumZ2SblJa5PA3UYqV9gWYT7gUfKbKKG8D2wBzRE\n",
       "eAuYBzJcvpUD9dBCx0TGEuA5D57kshTCL0DHQZ/Y9NQNqsAad2GWoy/OgNSdAOfccdraClVDiML5\n",
       "T0D3xq6dcPjzbPzQ8o+5ix7YIFdtW3DWpm+/gH2yMX140bPDOrt/CHADWtdieBA+bFQ469zugOi8\n",
       "C4wUuY3Ldrv7FDlRxYR21Ntzmr6Uq+PaIw7C8UpQLegtwXkHyJq8bYq/QC3Ydo3OtSTAFxY2gXdv\n",
       "JvchWLLrflP7TQHOP9skGY7sKhbkN1SvyNRqwn2+kmhKKwFekGjZpP9KGY1rY3L0H6B4Un9RMr0H\n",
       "AAAAAElFTkSuQmCC\n",
       "\" style=\"display:inline;vertical-align:middle;\" /></a><br>(see <a class=\"ProveItLink\" href=\"../../../__pv_it/theorems/f91eec4b138d7ed71c629bced92b4e3e9e953c220/dependencies.ipynb\">dependencies</a>)<br>"
      ],
      "text/plain": [
       "<IPython.core.display.HTML object>"
      ]
     },
     "metadata": {},
     "output_type": "display_data"
    },
    {
     "name": "stdout",
     "output_type": "stream",
     "text": [
      "mult_4_2 may now be readily provable (assuming required theorems are usable).  Simply execute \"%qed\".\n"
     ]
    }
   ],
   "source": [
    "%proving mult_4_2"
   ]
  },
  {
   "cell_type": "code",
   "execution_count": null,
   "metadata": {},
   "outputs": [],
   "source": []
  }
 ],
 "metadata": {
  "kernelspec": {
   "display_name": "Python 3",
   "language": "python",
   "name": "python3"
  }
 },
 "nbformat": 4,
 "nbformat_minor": 0
}