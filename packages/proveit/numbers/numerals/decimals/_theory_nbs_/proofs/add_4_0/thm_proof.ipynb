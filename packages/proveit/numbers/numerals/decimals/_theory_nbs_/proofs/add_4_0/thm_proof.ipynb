{
 "cells": [
  {
   "cell_type": "markdown",
   "metadata": {},
   "source": [
    "Proof of <a class=\"ProveItLink\" href=\"../../../../../../_theory_nbs_/theory.ipynb\">proveit</a>.<a class=\"ProveItLink\" href=\"../../../../../_theory_nbs_/theory.ipynb\">numbers</a>.<a class=\"ProveItLink\" href=\"../../../../_theory_nbs_/theory.ipynb\">numerals</a>.<a class=\"ProveItLink\" href=\"../../theory.ipynb\">decimals</a>.<a class=\"ProveItLink\" href=\"../../theorems.ipynb#add_4_0\">add_4_0</a> theorem\n",
    "========"
   ]
  },
  {
   "cell_type": "code",
   "execution_count": 1,
   "metadata": {},
   "outputs": [],
   "source": [
    "import proveit\n",
    "theory = proveit.Theory() # the theorem's theory"
   ]
  },
  {
   "cell_type": "code",
   "execution_count": 2,
   "metadata": {},
   "outputs": [
    {
     "data": {
      "text/html": [
       "With these <a href=\"allowed_presumptions.txt\">allowed</a>/<a href=\"disallowed_presumptions.txt\">disallowed</a> theorem/theory presumptions (e.g., to avoid circular dependencies), we begin our proof of<br><strong id=\"add_4_0\">add_4_0:</strong> <a class=\"ProveItLink\" href=\"../../../__pv_it/theorems/267772b18a1ab74affd42d45bcc0fd06e79034150/expr.ipynb\"><img src=\"data:image/png;base64,iVBORw0KGgoAAAANSUhEUgAAAGEAAAAVBAMAAACkm51HAAAAMFBMVEX///8AAAAAAAAAAAAAAAAA\n",
       "AAAAAAAAAAAAAAAAAAAAAAAAAAAAAAAAAAAAAAAAAAAv3aB7AAAAD3RSTlMAInZUiRDNmWbv3US7\n",
       "qzJazP2FAAAACXBIWXMAAA7EAAAOxAGVKw4bAAABaElEQVQ4y3XTMUvDQBQH8H/apmlTqcFJnNJJ\n",
       "EIRQxLUZHBX6ARxcBBehQxERh7gouugqUlHcAoI4dRGrs2IR12A3xUUHQQRF30tbyN3lbkjevbvf\n",
       "5V2SA+AgvenyyHiagUudmOHLi5Scm3SQCdTJ5QZgLnF0Lg7kPfMUWFaF3QUsXikzFO3+bQ+YB3ZU\n",
       "MUWiyMHr6iBT7d/ugVodxbpS1DaJWY58SXwB7x7yykZyeRJNLsoRhckiQK4riwqLFQrGIQrjk4SL\n",
       "QvxSrDBurI2AxRkXlSZ8ZA/kosDiCCg4fbERhodhSK/NJHHtovwhia2hGAPUndc8lKRnGC4GVV1F\n",
       "0feTIO6A/TqyJ+I+SlH03PJxG09pic/YBdao2o7yBYsEF+LoRxS2Zx7T6r4iRmmRNw42/x4FYTan\n",
       "e+QuZGA9/Lqwe8lUNdmZSP/ZC41kr53srGvOx43u4BgdzcCiTozoji19l/RWSU//AwuzWm35pk3q\n",
       "AAAAAElFTkSuQmCC\n",
       "\" style=\"display:inline;vertical-align:middle;\" /></a><br>(see <a class=\"ProveItLink\" href=\"../../../__pv_it/theorems/b08eb770de564af99853f530fba7230945a29de20/dependencies.ipynb\">dependencies</a>)<br>"
      ],
      "text/plain": [
       "<IPython.core.display.HTML object>"
      ]
     },
     "metadata": {},
     "output_type": "display_data"
    },
    {
     "name": "stdout",
     "output_type": "stream",
     "text": [
      "add_4_0 may now be readily provable (assuming required theorems are usable).  Simply execute \"%qed\".\n"
     ]
    }
   ],
   "source": [
    "%proving add_4_0"
   ]
  },
  {
   "cell_type": "code",
   "execution_count": null,
   "metadata": {},
   "outputs": [],
   "source": []
  }
 ],
 "metadata": {
  "kernelspec": {
   "display_name": "Python 3",
   "language": "python",
   "name": "python3"
  }
 },
 "nbformat": 4,
 "nbformat_minor": 0
}