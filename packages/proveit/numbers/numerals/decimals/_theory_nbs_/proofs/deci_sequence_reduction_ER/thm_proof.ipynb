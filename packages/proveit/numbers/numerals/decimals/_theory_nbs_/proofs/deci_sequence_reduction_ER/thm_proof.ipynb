{
 "cells": [
  {
   "cell_type": "markdown",
   "metadata": {},
   "source": [
    "Proof of <a class=\"ProveItLink\" href=\"../../../../../../_theory_nbs_/theory.ipynb\">proveit</a>.<a class=\"ProveItLink\" href=\"../../../../../_theory_nbs_/theory.ipynb\">numbers</a>.<a class=\"ProveItLink\" href=\"../../../../_theory_nbs_/theory.ipynb\">numerals</a>.<a class=\"ProveItLink\" href=\"../../theory.ipynb\">decimals</a>.<a class=\"ProveItLink\" href=\"../../theorems.ipynb#deci_sequence_reduction_ER\">deci_sequence_reduction_ER</a> theorem\n",
    "========"
   ]
  },
  {
   "cell_type": "code",
   "execution_count": 1,
   "metadata": {},
   "outputs": [],
   "source": [
    "import proveit\n",
    "theory = proveit.Theory() # the theorem's theory"
   ]
  },
  {
   "cell_type": "code",
   "execution_count": 2,
   "metadata": {},
   "outputs": [
    {
     "data": {
      "text/html": [
       "With these <a href=\"allowed_presumptions.txt\">allowed</a>/<a href=\"disallowed_presumptions.txt\">disallowed</a> theorem/theory presumptions (e.g., to avoid circular dependencies), we begin our proof of<br><strong id=\"deci_sequence_reduction_ER\">deci_sequence_reduction_ER:</strong> <a class=\"ProveItLink\" href=\"../../../__pv_it/theorems/41d268353c34e2a1fb3796baf8109a1e9dc1ed410/expr.ipynb\"><img src=\"data:image/png;base64,iVBORw0KGgoAAAANSUhEUgAABiAAAAAaBAMAAADMAIlPAAAAMFBMVEX///8AAAAAAAAAAAAAAAAA\n",
       "AAAAAAAAAAAAAAAAAAAAAAAAAAAAAAAAAAAAAAAAAAAv3aB7AAAAD3RSTlMAq1RmmUTNIjK7EInv\n",
       "3XZ/CtNrAAAACXBIWXMAAA7EAAAOxAGVKw4bAAAM60lEQVR42u0cC2wcxfX59s573jvfuSABJYp1\n",
       "EQIi0iRH7EQJKuHaOE1K1PYKVFVTCq5KhYjackEUlNIkV4r4qCE+FaLgqoJNkaBpUmwwvwY1uKSR\n",
       "KQhq0bSN3Lo6JxQILq5lColCi/vezM7s7PfudDYi0Y20e29n37zPvPdm3sysDVBLmTtagEZplNO1\n",
       "pEZfq61Bd6PPqipy2NA/Ij7uop+ObGdZI6ZVRyMgZmOgyQjoyEfEx11i5dnke03QiyOnqsWuEVp1\n",
       "QBv9nFd1QDTRTyTbcPqwskAAkf66aRk/H7ag3a8E8nGU257cAXC0CoIQ/05OfXPn7yvIIhBSAfaf\n",
       "AXXrLPVoxLTqgNX0fH3VARHN409zYyUR6sM4kcaHozhIPzID1Jqlia/z4ePDPQeLM9BsVkEQ0s4p\n",
       "ZqqSLAJhg8cRZ0zdOks9Gm1gAfEjSv1KVQdEnGaUTQ2nDytRGm4mW9HvVs2oiad8+PjkUVPQ1w1a\n",
       "rhqfudYRNrGTFUSRCJ0epjOmbp2lHo06WUDQUJLIVL+GoDB6ouH0YSVJzjqYxiFzcCZN7LFu0t/G\n",
       "ByGNdnqpGp/5reNFYriCKBIh6Z5/Zk7dOks9GtHVARoOM801LKo7GmvrSuUCAO3SA/8+AyLdM2li\n",
       "j3UvCGqyGG36LQad7TOfKz5zXVAuVSHZanbNTTOobp2lHo3oQvd+ZXT05RoCIjk6+vf+htOHlXUA\n",
       "fdPT0/+FKHXUxv1blHf6nDfL4a2d+ADfnDjDsln7WMbNJzb26P4HPXPEn/D2OAM3F0E/7HotCOpz\n",
       "3ppy8O3JVBBMIiTanK8C1fVoU1FdSEwsV572Hy2GD/Eqdp0a0YUBsRbgZzUERLQILWbD6cMKDc7p\n",
       "8mUmG3JiQ/CQ0l9XF1rC81oXPhjvm318D6Nvg3HczSfR0g59ri2O+Ng5eF/GXeQwxYRz0S0IOkVx\n",
       "8w0VTKO5IDrKCouNIHVrosolfg0+bz9tzkRD17dO7Do10ngCtBH0thoCApE3fjz98GMTpnTa2Zd5\n",
       "HqAVx5+9WfiC4o0HIBqe1zrxASInIcnnlMUmvOrm85XWEmz1jKGLke+nLI+6yz1BCIIkSreD7+cq\n",
       "CSYRIu7VQoC6Hm0qqgut/aqWfxPKBxQHdr0a0YUB0WIm8j7Y2j9EkK7La7+zAwKnk6c+lvFwcTE+\n",
       "8AwHrcTwQh8sT13Kd6dG8Z9qt5jtNgfx6inOxfQSO/ZLZFV42DJUdJJsuOfxcwPJcHxludoNaZ6i\n",
       "ovE+cKAiH7MvT4EC8AgbrS3nT+I42WMNoaPucBEEuSjGMpWv8dwnzHDBLmX+GZ90vQxQt1qqagWh\n",
       "yu6iAT+0t1TC9WpEFwZEpOy/pj7IZt/efKRtH1yuBMSimtfU8Rtqde7ECT/QLs/bVtYPPQWfbgPj\n",
       "ySIkxUY4n2W1PGesstccsa8vGSuCZ911ZwmUyqVVC51Teo4n1eQhfwDjPYhPWNNCsgTowrmQYZPh\n",
       "O8fAazPWaBmb8lhoMcBZrt7GnBbxrg4KCEGQi7L9HZVvNGT+4oIlWQfGBv3WEF51q6XqqABHd0GF\n",
       "3lJ33erUKDZo7Rmt9M3OaBDowt6MrIxCvxIQzVq5Vv+eU2sDfdIPtMtW63f7J3fAvIQZNfV1OJD3\n",
       "QdpUAmKXYKyw3+Ug09SfGoSvu4k3obay0qg6nbTbYCqjPTTx/hHKIYwPQUMNIpZV+spwGcB7PmmO\n",
       "4Mfx7ZLOiGFwig+YztQMo+Fdw1GbPskCYmFQyiQIclEEHuebzusnwgXjPc/UUdYQQepWS9VRAY7u\n",
       "qtRbaljWqRFdFBBPbECNVm0fS60gvgi9zsbS0pZ+dpgduf2rZTUgEhfUnKy/WGuDVMkPtMsxa45c\n",
       "i7fzyrkEbKYwT2QWF5SAWC0YK+xXuwbTxDAdxMRRvzX2QIPdIA96o/mqhZZtaNtnLqCtWspgTEFT\n",
       "94Wsrw2Wa8NZkcIlZGLDayG6GL5tDkgXMTVmuCco6VX7nvi8jGuChINKso2lTCv8FtWGIChFYe5j\n",
       "Sr4muo/huzyzFFmhjzPncCH4qFsDVUVdeBdHatldaXTAfEhvMWzhsXVrRBcFxA8xxh++OptsS1Gw\n",
       "E0Ru1fTmRUO7WewU952vBoROCwpjYFzk1ntWPuPl56iMfzhGdkwcFVOLDakbbHKiMgbeKHtBlfj3\n",
       "OMA+2Jl//hb0iIvJcb+/V02Zhi3GFnurDjqXT9gJUWuWnUqOq6e+PRPn2keVrRUFl3WyDe149upT\n",
       "fB/vQViYyzEL93WTz0QORflZAD0a74ML4Pi2OaAp25Ljb86E+yUeq0A+aO1U93Ln4i/LziHWObdd\n",
       "eRtqxgiCFGWhxZzLSYcdjLZXOo7QftNeNHzUvfHuo64PVVtLJ1VFXdo0elZ2V7QEiWJYbxG28Ni6\n",
       "NaKLAqIJWf7gDRw5mJoEkf8kj0DxSh4QUTlKs9UDber9utBjBYTx1/hxb/Q6KlMjKTLBn+Mi87Qh\n",
       "JbXNbxMgEi96QZX4CeoqMJhY8xO/oGRlXhZazAklIPRui7HF3qozlh6AISkZRlaEUMr7bfrvmK9j\n",
       "ZbQXy31wS0XBZV1EcLkXr3ZjiL7wwSRt/K72IrNw6wiK3P7sxrfwxQh/hEOkeU4AVMPwbXOAMWeV\n",
       "ePMk+vmoyRqwNsgnNgzGma7N9qu6dpBYIGx1C4Bow0SYw7+wsESh8ZSIcjnhXpMzs4XKORBezcSZ\n",
       "sVyd4KOuH1VJ0ElVURcSAytN2V3wXMfbob1F2MJj69aILvn5dztsY9tmBLH12FZcPyxDn8hEikZ/\n",
       "txoQVLoQHTaRGNEcOsQVrzt7iFXK0pLVWLQbRZ2deBDkboGx/kubeI9FnIGxRavdxCeZ98XYqD4f\n",
       "ciyDuiOvjWeVgIiVLMb8Dlad/lg32Kn47jLVATytjPz3wTJeSeVrlQSnOkncim0ZwzJ/Zx5ykWzE\n",
       "lLvIE1t2jW0O15uIkjO1hpxZ6f5LSS/PhQ6iTE8vkkTQ/7OWTTz+TJ3qVk/Vo66zuyr1VrvYQahT\n",
       "I7o67DT/GGyNc6iLflfEhgs/4TMEXFF2B8RBGIP4QjaT5HGuGzScS19WqSTl0Ta+mr99hL8FTwu2\n",
       "ZSLBYxZxBiZxtewiXmIpjnZDb+9PMSD2uLfJmGdG2gRjdgerDprKsUG4h8Z/nONwrom7A+JF+Ayv\n",
       "pDKvkuBJGR+yjf1hXafDwjLP0HN6QXmUpR+85nC9UdcLIR/wBXz458NzoYPozXCrH5JE0ErfoD8C\n",
       "CviKz6lu9VQ96jq6q2JvWR5bt0arlIDQJzHOVkRhD0GH5xv90B4f7mdH0loepHeLgDCOw32/gla2\n",
       "WVFoucQsuFIJVtl5XucVz7J1ISQx+tOUYzG/IsjdAjDF0lYv6efEH7SIM1CHbW7ib5vNt06wtTDN\n",
       "ELFFcHNXV1feGRDonxZjdpc+i/GRs4bWvUX9XZ4y9SsmnoQX7JTpnkqCU13nlQvUlAl2yrmxoFjY\n",
       "kEG36e47TOVR5oJlcJnD++YxtcHO4IDw/yDZy5O5jySqP3D35X5IEqGpfG8i+Otoh7o1UHWr6+yu\n",
       "Sr3FPHYGNGJaiYCItcH1sPFt2JZBaDwbfwE7+8yi/gBlqtcDuAMChuLvXUI+uweShZ4rTWjJI4hh\n",
       "ZN1Y5aJSMo+OsgfxVuC9OY+BOgICwhY2Pt6+DYnIMVz0IjgUP8GICxB2uIn/2EzftNv65GQp4Gzl\n",
       "M0MgLc6Y31lTWlRvhdbbrYBoNbWXcP1gLaoFhxGtxCrFojpMcF63qERrb9kGdkujWZ6jP/1BWTm5\n",
       "++P0tN+JoF0jzOF94zDt7uCA2Fnh8FCU227crxBNTk9P+h1Vlm2Xb1quOL7bR1V1a6DqVtfZXZV6\n",
       "i3nsDGjEtPL8Cak1lkas/ZzeXkfGLAPiqiUoA/osBtCqRQPsg6htmfgQbCvQjVe2FB+Bz7L6L5bx\n",
       "rq/C1dIICAhbYNhx/AJCN+Py6Rxc9CIoiAswWvQS76HTy03o2PG/FPif8XkCYidwxtad2pOffBlS\n",
       "A2LC2D9WoH6gqeZsEJLcMaGYHIEwwXldU/EWdXwEXXb3llk9nNcDT4RSs/onXG8GvZhddWdZI6aV\n",
       "OyBi1lpjvX875xk1ZTU8gBJmWcaSjKpWWADDWfHE7yMCYi0i9hzJx/TUUlNUEnEL3JfyEh/f/CiO\n",
       "SL/p3eEnZkk9KFPZe0/hPMNsxFkZs9LPIMEzXNOj60PH60Y5VYo7IDTrN1tFQMT/9YQIoBunh2Us\n",
       "yajaBf+E9oL1xO/bX85YELVQwm49PxWODIhKIm6BzdP/8xJfk1gSrBUPiGjBxhfto96Rc43zcb2r\n",
       "kkNBgvO6XbAg6yHUKKdDQFQo33X/XybND9R8UHzfZn0gfzCIeFhAwD4f9vvcuJpr+zfrqkyYYYJr\n",
       "wYQa5dQrqdEDp6Ve4szQb91XscJdaVbJ1Gj40+lQ/g+CYBsH0gjB3AAAAABJRU5ErkJggg==\n",
       "\" style=\"display:inline;vertical-align:middle;\" /></a><br>(see <a class=\"ProveItLink\" href=\"../../../__pv_it/theorems/617e267a20d4b4aa64fb9327d5d9ba4644c6bec40/dependencies.ipynb\">dependencies</a>)<br>"
      ],
      "text/plain": [
       "<IPython.core.display.HTML object>"
      ]
     },
     "metadata": {},
     "output_type": "display_data"
    }
   ],
   "source": [
    "%proving deci_sequence_reduction_ER"
   ]
  },
  {
   "cell_type": "code",
   "execution_count": null,
   "metadata": {},
   "outputs": [],
   "source": []
  }
 ],
 "metadata": {
  "kernelspec": {
   "display_name": "Python 3",
   "language": "python",
   "name": "python3"
  }
 },
 "nbformat": 4,
 "nbformat_minor": 0
}