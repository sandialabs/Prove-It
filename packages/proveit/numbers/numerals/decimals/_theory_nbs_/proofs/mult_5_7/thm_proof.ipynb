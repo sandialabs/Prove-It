{
 "cells": [
  {
   "cell_type": "markdown",
   "metadata": {},
   "source": [
    "Proof of <a class=\"ProveItLink\" href=\"../../../../../../_theory_nbs_/theory.ipynb\">proveit</a>.<a class=\"ProveItLink\" href=\"../../../../../_theory_nbs_/theory.ipynb\">numbers</a>.<a class=\"ProveItLink\" href=\"../../../../_theory_nbs_/theory.ipynb\">numerals</a>.<a class=\"ProveItLink\" href=\"../../theory.ipynb\">decimals</a>.<a class=\"ProveItLink\" href=\"../../theorems.ipynb#mult_5_7\">mult_5_7</a> theorem\n",
    "========"
   ]
  },
  {
   "cell_type": "code",
   "execution_count": 1,
   "metadata": {},
   "outputs": [],
   "source": [
    "import proveit\n",
    "theory = proveit.Theory() # the theorem's theory"
   ]
  },
  {
   "cell_type": "code",
   "execution_count": 2,
   "metadata": {},
   "outputs": [
    {
     "data": {
      "text/html": [
       "With these <a href=\"allowed_presumptions.txt\">allowed</a>/<a href=\"disallowed_presumptions.txt\">disallowed</a> theorem/theory presumptions (e.g., to avoid circular dependencies), we begin our proof of<br><strong id=\"mult_5_7\">mult_5_7:</strong> <a class=\"ProveItLink\" href=\"../../../__pv_it/theorems/1464a299bdf84e1dc129ae16e78866f8b1291f810/expr.ipynb\"><img src=\"data:image/png;base64,iVBORw0KGgoAAAANSUhEUgAAAGEAAAAVBAMAAACkm51HAAAAMFBMVEX///8AAAAAAAAAAAAAAAAA\n",
       "AAAAAAAAAAAAAAAAAAAAAAAAAAAAAAAAAAAAAAAAAAAv3aB7AAAAD3RSTlMAInZUiRDNmWbv3US7\n",
       "qzJazP2FAAAACXBIWXMAAA7EAAAOxAGVKw4bAAABn0lEQVQ4y32TPUjDQBTH/+mHbdK0dKuKoIKL\n",
       "kxnEtR10sxAnF6FdFHHqoESKYnHRsYuLH7SgDhaE4KaLUdDBxW4KogZHB1EKRRSM74Jt6iXk4F7u\n",
       "ffzevZe7A5CEa3iYOkZAgYlwO6ZbJXHiHZoApugzClTmamrLmrYsqxwo8cHC+IoOsblwCITzwNHX\n",
       "RNs1qWlFBbM8MY1gA1LlgDJHKF29w5UBUsAGT4wo4Sbi9lLEf0KxVVHliFMdLWKMI4CQCXS5GkHw\n",
       "849YpHk/9NTh6mNU3UWclRBfz1K2eVKu0K87rgea0TxbFWtsHNvWl0cTsip8A/u2Lled/1hmJZTd\n",
       "VTWYvAF2bDXyQSJnJw4xmXh3n1+F/Y21JCPkPCI/pEkF5pAMEjF+jzfgVrkmwmRViVXEnZw51nSw\n",
       "yvVhqURsA8/AJdVBkNEmztlOUYPbY49VRae7C2Sp1wKGnRNLZ1hfGY7YZOeRQmALeCU1tbrk+HoU\n",
       "1ozOETGNbqKg3VFmyfS6170+zyNa8LIu+72oCw+bYPgRMx422ffZCgNu26BP/C/Sp2QiCqb4PwAA\n",
       "AABJRU5ErkJggg==\n",
       "\" style=\"display:inline;vertical-align:middle;\" /></a><br>(see <a class=\"ProveItLink\" href=\"../../../__pv_it/theorems/c41fa1fe3253aa2017d87f15a49351e04dc765a90/dependencies.ipynb\">dependencies</a>)<br>"
      ],
      "text/plain": [
       "<IPython.core.display.HTML object>"
      ]
     },
     "metadata": {},
     "output_type": "display_data"
    },
    {
     "name": "stdout",
     "output_type": "stream",
     "text": [
      "mult_5_7 may now be readily provable (assuming required theorems are usable).  Simply execute \"%qed\".\n"
     ]
    }
   ],
   "source": [
    "%proving mult_5_7"
   ]
  },
  {
   "cell_type": "code",
   "execution_count": null,
   "metadata": {},
   "outputs": [],
   "source": []
  }
 ],
 "metadata": {
  "kernelspec": {
   "display_name": "Python 3",
   "language": "python",
   "name": "python3"
  }
 },
 "nbformat": 4,
 "nbformat_minor": 0
}