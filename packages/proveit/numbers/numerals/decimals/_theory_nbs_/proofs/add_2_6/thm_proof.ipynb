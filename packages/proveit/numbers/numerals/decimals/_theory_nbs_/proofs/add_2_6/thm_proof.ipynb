{
 "cells": [
  {
   "cell_type": "markdown",
   "metadata": {},
   "source": [
    "Proof of <a class=\"ProveItLink\" href=\"../../../../../../_theory_nbs_/theory.ipynb\">proveit</a>.<a class=\"ProveItLink\" href=\"../../../../../_theory_nbs_/theory.ipynb\">numbers</a>.<a class=\"ProveItLink\" href=\"../../../../_theory_nbs_/theory.ipynb\">numerals</a>.<a class=\"ProveItLink\" href=\"../../theory.ipynb\">decimals</a>.<a class=\"ProveItLink\" href=\"../../theorems.ipynb#add_2_6\">add_2_6</a> theorem\n",
    "========"
   ]
  },
  {
   "cell_type": "code",
   "execution_count": 1,
   "metadata": {},
   "outputs": [],
   "source": [
    "import proveit\n",
    "theory = proveit.Theory() # the theorem's theory"
   ]
  },
  {
   "cell_type": "code",
   "execution_count": 2,
   "metadata": {},
   "outputs": [
    {
     "data": {
      "text/html": [
       "With these <a href=\"allowed_presumptions.txt\">allowed</a>/<a href=\"disallowed_presumptions.txt\">disallowed</a> theorem/theory presumptions (e.g., to avoid circular dependencies), we begin our proof of<br><strong id=\"add_2_6\">add_2_6:</strong> <a class=\"ProveItLink\" href=\"../../../__pv_it/theorems/bbff0f7cc02c207b7095adb1b2d0ab236fd0430f0/expr.ipynb\"><img src=\"data:image/png;base64,iVBORw0KGgoAAAANSUhEUgAAAGEAAAAVBAMAAACkm51HAAAAMFBMVEX///8AAAAAAAAAAAAAAAAA\n",
       "AAAAAAAAAAAAAAAAAAAAAAAAAAAAAAAAAAAAAAAAAAAv3aB7AAAAD3RSTlMAInZUiRDNmWbv3US7\n",
       "qzJazP2FAAAACXBIWXMAAA7EAAAOxAGVKw4bAAABiUlEQVQ4y3WTP0jDQBTGvzSN/WNT4iS4GAfp\n",
       "Woq4tkKhk5rJyaGLILg4iK2CGFzqIlZEQVwKDkJACA7SMQoOiqjgIDh16ORiRRTsYHy5LLmjd4R3\n",
       "d9+7X969e3cADAxuMh2xvMRxKSOmgNH1R0GMl+cQs8WlWrnikq1C8TDvci5lBW/AkkgkgBeyNnQD\n",
       "qWaotcNuyMQD0BCJXWABSNH3Df0z1AphV7QCm7IEYpYR04Degv7HEXdhJDGR4i3qwBobp3sccdzN\n",
       "UWLxZ4HQ/Rwd7DIbf5gc8WPjEEhWWboOa4ze7lORztiSC0QJzQc2LKhNIYY68/QFnLL/eIHddJwT\n",
       "xyFY6wP7LrI9gWhA/bVCYg/gd0WEjWExxhEwnme7UksY4Yh7FkNt8XloFFO3cUNiF5jk60F5UOae\n",
       "EOMAyBhBVZTzWq3FEZmSRmeVKAnElYUd4J2K4ft+lSNQ2eqQ7gpE9rVGUroT1QrRydjgy55cjc7a\n",
       "0Uld8j6uZQ9H8SSORRmRkT1bxZQ4JgbL/2T9Xo9mL6QWAAAAAElFTkSuQmCC\n",
       "\" style=\"display:inline;vertical-align:middle;\" /></a><br>(see <a class=\"ProveItLink\" href=\"../../../__pv_it/theorems/07cd5be63a9d33ef0a1a060665d66a91320d20cf0/dependencies.ipynb\">dependencies</a>)<br>"
      ],
      "text/plain": [
       "<IPython.core.display.HTML object>"
      ]
     },
     "metadata": {},
     "output_type": "display_data"
    },
    {
     "name": "stdout",
     "output_type": "stream",
     "text": [
      "add_2_6 may now be readily provable (assuming required theorems are usable).  Simply execute \"%qed\".\n"
     ]
    }
   ],
   "source": [
    "%proving add_2_6"
   ]
  },
  {
   "cell_type": "code",
   "execution_count": null,
   "metadata": {},
   "outputs": [],
   "source": []
  }
 ],
 "metadata": {
  "kernelspec": {
   "display_name": "Python 3",
   "language": "python",
   "name": "python3"
  }
 },
 "nbformat": 4,
 "nbformat_minor": 0
}