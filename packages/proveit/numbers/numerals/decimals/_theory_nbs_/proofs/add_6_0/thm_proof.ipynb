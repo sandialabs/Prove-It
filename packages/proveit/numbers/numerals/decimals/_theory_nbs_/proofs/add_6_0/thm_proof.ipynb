{
 "cells": [
  {
   "cell_type": "markdown",
   "metadata": {},
   "source": [
    "Proof of <a class=\"ProveItLink\" href=\"../../../../../../_theory_nbs_/theory.ipynb\">proveit</a>.<a class=\"ProveItLink\" href=\"../../../../../_theory_nbs_/theory.ipynb\">numbers</a>.<a class=\"ProveItLink\" href=\"../../../../_theory_nbs_/theory.ipynb\">numerals</a>.<a class=\"ProveItLink\" href=\"../../theory.ipynb\">decimals</a>.<a class=\"ProveItLink\" href=\"../../theorems.ipynb#add_6_0\">add_6_0</a> theorem\n",
    "========"
   ]
  },
  {
   "cell_type": "code",
   "execution_count": 1,
   "metadata": {},
   "outputs": [],
   "source": [
    "import proveit\n",
    "theory = proveit.Theory() # the theorem's theory"
   ]
  },
  {
   "cell_type": "code",
   "execution_count": 2,
   "metadata": {},
   "outputs": [
    {
     "data": {
      "text/html": [
       "With these <a href=\"allowed_presumptions.txt\">allowed</a>/<a href=\"disallowed_presumptions.txt\">disallowed</a> theorem/theory presumptions (e.g., to avoid circular dependencies), we begin our proof of<br><strong id=\"add_6_0\">add_6_0:</strong> <a class=\"ProveItLink\" href=\"../../../__pv_it/theorems/3ae16d63be0208ca9eb436ea0f44ee22817914430/expr.ipynb\"><img src=\"data:image/png;base64,iVBORw0KGgoAAAANSUhEUgAAAGEAAAAVBAMAAACkm51HAAAAMFBMVEX///8AAAAAAAAAAAAAAAAA\n",
       "AAAAAAAAAAAAAAAAAAAAAAAAAAAAAAAAAAAAAAAAAAAv3aB7AAAAD3RSTlMAInZUiRDNmWbv3US7\n",
       "qzJazP2FAAAACXBIWXMAAA7EAAAOxAGVKw4bAAABh0lEQVQ4y3WTPUjDQBTHf2lNm2q0nRyc4uQk\n",
       "hCKuLVJwUekqCBZBEARxED8RuokuLYiCCFJxCwjFyc0qLoqCs4M4OLno4Bc66Esr2lx7B8nl/d/9\n",
       "7uXdewckaD50OiFX4zjSEX3yZDL3QTHTkyCUb1jbkhkBMwed5fZSwBNxzX2YVAFjmluIyk4T2JWa\n",
       "dlybNmAI1lQi4nAFMQi//mnJ2nQNqSyxrEKkqkI/2EWVeIcnl4iayEX1PSdhZgZWAoTpE3labhRi\n",
       "+6GnDFMQnyLm1hPGixAOVs43ol51+PRbnk04gPFnolsNRJpwMRjC/IalLLtClLC+RFn2vB3POxSX\n",
       "ECcOHc8K8QmFsk/Ec1gfauYplzYlBm9C5P2/sn9j/BNy6oUs4ZKSx2U1xpnUQ/IoBoh1mAerotZD\n",
       "8oBh+TpnNHBWtLrmnuyeVgg7bcpZPfoNtnAXrKA51yut2VpW22Rw1ZcDXZusN7qaN7s1W28d1xuL\n",
       "mvtxqrs4RkXjGNMRtu7aGo7G0d1c/gGJM2C8tYxhZQAAAABJRU5ErkJggg==\n",
       "\" style=\"display:inline;vertical-align:middle;\" /></a><br>(see <a class=\"ProveItLink\" href=\"../../../__pv_it/theorems/6817e17bf3d76320b43850ec51c346eb86ffe60d0/dependencies.ipynb\">dependencies</a>)<br>"
      ],
      "text/plain": [
       "<IPython.core.display.HTML object>"
      ]
     },
     "metadata": {},
     "output_type": "display_data"
    },
    {
     "name": "stdout",
     "output_type": "stream",
     "text": [
      "add_6_0 may now be readily provable (assuming required theorems are usable).  Simply execute \"%qed\".\n"
     ]
    }
   ],
   "source": [
    "%proving add_6_0"
   ]
  },
  {
   "cell_type": "code",
   "execution_count": null,
   "metadata": {},
   "outputs": [],
   "source": []
  }
 ],
 "metadata": {
  "kernelspec": {
   "display_name": "Python 3",
   "language": "python",
   "name": "python3"
  }
 },
 "nbformat": 4,
 "nbformat_minor": 0
}