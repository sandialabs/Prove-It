{
 "cells": [
  {
   "cell_type": "markdown",
   "metadata": {},
   "source": [
    "Proof of <a class=\"ProveItLink\" href=\"../../../../../../_theory_nbs_/theory.ipynb\">proveit</a>.<a class=\"ProveItLink\" href=\"../../../../../_theory_nbs_/theory.ipynb\">numbers</a>.<a class=\"ProveItLink\" href=\"../../../../_theory_nbs_/theory.ipynb\">numerals</a>.<a class=\"ProveItLink\" href=\"../../theory.ipynb\">decimals</a>.<a class=\"ProveItLink\" href=\"../../theorems.ipynb#tuple_len_8\">tuple_len_8</a> theorem\n",
    "========"
   ]
  },
  {
   "cell_type": "code",
   "execution_count": 1,
   "metadata": {},
   "outputs": [],
   "source": [
    "import proveit\n",
    "theory = proveit.Theory() # the theorem's theory"
   ]
  },
  {
   "cell_type": "code",
   "execution_count": 2,
   "metadata": {},
   "outputs": [
    {
     "data": {
      "text/html": [
       "With these <a href=\"allowed_presumptions.txt\">allowed</a>/<a href=\"disallowed_presumptions.txt\">disallowed</a> theorem/theory presumptions (e.g., to avoid circular dependencies), we begin our proof of<br><strong id=\"tuple_len_8\">tuple_len_8:</strong> <a class=\"ProveItLink\" href=\"../../../__pv_it/theorems/74aa4faf3dc4bdae472f86817394eb149a0f1c720/expr.ipynb\"><img src=\"data:image/png;base64,iVBORw0KGgoAAAANSUhEUgAAAWcAAAAWBAMAAADun0BuAAAAMFBMVEX///8AAAAAAAAAAAAAAAAA\n",
       "AAAAAAAAAAAAAAAAAAAAAAAAAAAAAAAAAAAAAAAAAAAv3aB7AAAAD3RSTlMAq1RmmUTNIjK7EInv\n",
       "3XZ/CtNrAAAACXBIWXMAAA7EAAAOxAGVKw4bAAAE+ElEQVRIx8VXbWhbVRh+c2/Sm9wkt9cxxqQy\n",
       "I6LC5mzGxnQOYzRu6sbaDEFEhos6GPpDUvw1nDZD0B92NOqPSRF7BRmMirmzjg1ltX6x1VGpQ7Fs\n",
       "FO5c3YeFUCuuUnT6vucjvck99Uda8Gy95znv+bjP+3luABbbDPzHWhGWrP3XiUvymp8hnqfeSi0d\n",
       "6YjHumOquafwzyZwa/Pna64gvcYnNN8dUyx97eugbPunDYIjo/S8qCRtfvZJHqw0wBYa7W2e9GHg\n",
       "pM2CX9qSVa2dCUjiK79sFO1h+x0V6TDAMoDnAQ5QCJWbJ50TpMNpv7RVFSuRuYAocVufUjM9qyK9\n",
       "ntloA9cpvohwHBakE3XS3Y5iaTwYM8F1QrNvVaSPMtIJB3S0UMsiQrogSN9eJz6pWquImZMLafas\n",
       "inR7Hzm2BRmPTkycaZ502BWkt1OYtV3maQ9PV5dJEtV7OOga6hUOHahuE5PrRpcLtKb6otDswc2H\n",
       "uFGDpEP/TOIRcawdjwD0NU+a1GakyTS7ijHuXPOaU+H11DgLj3K3n4J+HguRcXhDbr8uVSsYIxxV\n",
       "9sIN2G2skd4xQe17Ntn5N56qo3O7wLDlGdHn6hh9XvINPsjN4/s8iZIpQfosUv0Kwty52hwk+JKk\n",
       "C98x8GEatvIt3Wn4RV4if0rHO5J/ewluxO5OlaW14/2YphqmUczhdZa1trpF3f7B20/4kr6mTSIv\n",
       "SH+DoTJNHFnQFKCVo06ZaZ0A5znqr07JF2rTAnwB0VmOtvJ1vSrSG0D7y4EobtI8Xx6erlt01T/w\n",
       "16v9oCKdKEMlL+27mwfwiFw4AuYfHP0WrCfRGbCGOTzPzb9LRRpLSncKIrSykKHkyBynzdcvkGXi\n",
       "Fz0meoGlTYZV4FvOEAu9mmEJtP4dRXhUPLi/Vqa5iU0ZtAj06fo4xhYTganPSoiaxYnUWkVMm3hA\n",
       "KA0aafoxXjHmT8w91jmLytKP0WEmIpXNcX7T6+wCmoQ3qVsBF+RrPUH6PSSdghVa0STSJYxvAvA7\n",
       "Jh4gf3MGQoU7CJH3NT7JAp8Q6lNJS5Rw7wbYpLL0KXxfkTPZj6TCWeIJsTSlZrhslpiITBOyX2KW\n",
       "DpM2xhwvoKdZhWMOtgXpo6SA9kMYKgWyRyzLAJWOE+Y1ptTabJahjWA+zCehG3cSMmfhZofvLKPG\n",
       "Lq+gAdKPO5DhVRZCJQpNy2YJFrZ5nDIRqZTIreYmJeqoEjnEGKZo4NE4JkgfxFevOtF1BZLnELVh\n",
       "qSEA8cGMAxNo4PenXl9VYsgazIhJaAeBdk7t4AhfYw2Rs1Wko8sfwlclZRpXirF78bxWSGCMthaF\n",
       "6FdHDkTBiHOH6GVjWtaPcUE6WSsoqwNAc4KITT4wv2yPfwMYYwt+msLLtSJQ7H3MGYCkswkGoCUP\n",
       "7gCJXkVRLAWuiQ6pODij2SEbu5Cn226tDHHSeu2OdgMgDkGEk5r9jEAHHJY/7vxFm16YdO2+iOTu\n",
       "GoSeVLTDw6eRyzg9KSEyOzJOFL8fe/B/Cjou0YJY0WiTJsPM4HX+kKwTXiOAjyCAaDLZVxDoJuew\n",
       "598A+xb+EdD4SZoKPEWnMYvSgKKk7pvQLAvSR4TAgkYAXhDRpD5ZFGjn1Ja6DcICStKx+t9bEafx\n",
       "Kbsn4a2VNDgIl2oy2V4Bi4Wz4S3dzy2LE7uimrtcP9QDT9mlYcijwb7N22qy/7H9CxrRYp+LY1nA\n",
       "AAAAAElFTkSuQmCC\n",
       "\" style=\"display:inline;vertical-align:middle;\" /></a><br>(see <a class=\"ProveItLink\" href=\"../../../__pv_it/theorems/fc6fe884553a0d1dfce85f5b837c77bfb1ede7690/dependencies.ipynb\">dependencies</a>)<br>"
      ],
      "text/plain": [
       "<IPython.core.display.HTML object>"
      ]
     },
     "metadata": {},
     "output_type": "display_data"
    }
   ],
   "source": [
    "%proving tuple_len_8"
   ]
  },
  {
   "cell_type": "code",
   "execution_count": null,
   "metadata": {},
   "outputs": [],
   "source": []
  }
 ],
 "metadata": {
  "kernelspec": {
   "display_name": "Python 3",
   "language": "python",
   "name": "python3"
  }
 },
 "nbformat": 4,
 "nbformat_minor": 0
}