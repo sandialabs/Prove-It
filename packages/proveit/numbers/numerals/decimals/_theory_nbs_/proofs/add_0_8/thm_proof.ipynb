{
 "cells": [
  {
   "cell_type": "markdown",
   "metadata": {},
   "source": [
    "Proof of <a class=\"ProveItLink\" href=\"../../../../../../_theory_nbs_/theory.ipynb\">proveit</a>.<a class=\"ProveItLink\" href=\"../../../../../_theory_nbs_/theory.ipynb\">numbers</a>.<a class=\"ProveItLink\" href=\"../../../../_theory_nbs_/theory.ipynb\">numerals</a>.<a class=\"ProveItLink\" href=\"../../theory.ipynb\">decimals</a>.<a class=\"ProveItLink\" href=\"../../theorems.ipynb#add_0_8\">add_0_8</a> theorem\n",
    "========"
   ]
  },
  {
   "cell_type": "code",
   "execution_count": 1,
   "metadata": {},
   "outputs": [],
   "source": [
    "import proveit\n",
    "theory = proveit.Theory() # the theorem's theory"
   ]
  },
  {
   "cell_type": "code",
   "execution_count": 2,
   "metadata": {},
   "outputs": [
    {
     "data": {
      "text/html": [
       "With these <a href=\"allowed_presumptions.txt\">allowed</a>/<a href=\"disallowed_presumptions.txt\">disallowed</a> theorem/theory presumptions (e.g., to avoid circular dependencies), we begin our proof of<br><strong id=\"add_0_8\">add_0_8:</strong> <a class=\"ProveItLink\" href=\"../../../__pv_it/theorems/617572613a1614c722626cd70b53c6576089ebfb0/expr.ipynb\"><img src=\"data:image/png;base64,iVBORw0KGgoAAAANSUhEUgAAAGEAAAAVBAMAAACkm51HAAAAMFBMVEX///8AAAAAAAAAAAAAAAAA\n",
       "AAAAAAAAAAAAAAAAAAAAAAAAAAAAAAAAAAAAAAAAAAAv3aB7AAAAD3RSTlMAInZUiRDNmWbv3US7\n",
       "qzJazP2FAAAACXBIWXMAAA7EAAAOxAGVKw4bAAABZElEQVQ4y3WTPUjDQBiG3/YSE20aO7uok2sp\n",
       "4mosgpOQSVEEAyI4VhAsLgYXHevgIF0KboFCcZCOUXA24OAmnZ3EH1AX/ZqvSO7I3XK55/Lc95Mc\n",
       "gAryh46jWNVsXOuMecCo78vMXF7poRiqr6YYZgDsYFNOwQIegV3VYGyFsDswYmZ9ns6ANeBUNRiP\n",
       "A04C8cmsxtMqb/mKwXgBmGzAfZeMxXs0gTG1EMYHwDYZX5JR/p2jDhqJYjDeA6Y9uG+SgeMfaoUd\n",
       "pOVG6Uj+8RUbH5Ihlh4oTdFSYjBuU1YeSsMYR1F0GUVdDLskvn24r4rBuJ1WLuTKLyhwFSU1BmPK\n",
       "yolhS9016fByCNGR6xjhO6qwBSuQYpzTMRXYsRKDMX0VirMxkIwbHyd0uqcYjF/oab3+DMlwnw7p\n",
       "l5voKcYID7Ksll1M5f/sdiO76mcXTc39uNVdnEKs2djSGY7u2hZmNBuz+fgPD3petWEEQwUAAAAA\n",
       "SUVORK5CYII=\n",
       "\" style=\"display:inline;vertical-align:middle;\" /></a><br>(see <a class=\"ProveItLink\" href=\"../../../__pv_it/theorems/2f860c700e375a534f382cace6ea5ace3aca37780/dependencies.ipynb\">dependencies</a>)<br>"
      ],
      "text/plain": [
       "<IPython.core.display.HTML object>"
      ]
     },
     "metadata": {},
     "output_type": "display_data"
    },
    {
     "name": "stdout",
     "output_type": "stream",
     "text": [
      "add_0_8 may now be readily provable (assuming required theorems are usable).  Simply execute \"%qed\".\n"
     ]
    }
   ],
   "source": [
    "%proving add_0_8"
   ]
  },
  {
   "cell_type": "code",
   "execution_count": null,
   "metadata": {},
   "outputs": [],
   "source": []
  }
 ],
 "metadata": {
  "kernelspec": {
   "display_name": "Python 3",
   "language": "python",
   "name": "python3"
  }
 },
 "nbformat": 4,
 "nbformat_minor": 0
}