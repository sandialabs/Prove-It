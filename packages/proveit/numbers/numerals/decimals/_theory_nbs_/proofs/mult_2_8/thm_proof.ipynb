{
 "cells": [
  {
   "cell_type": "markdown",
   "metadata": {},
   "source": [
    "Proof of <a class=\"ProveItLink\" href=\"../../../../../../_theory_nbs_/theory.ipynb\">proveit</a>.<a class=\"ProveItLink\" href=\"../../../../../_theory_nbs_/theory.ipynb\">numbers</a>.<a class=\"ProveItLink\" href=\"../../../../_theory_nbs_/theory.ipynb\">numerals</a>.<a class=\"ProveItLink\" href=\"../../theory.ipynb\">decimals</a>.<a class=\"ProveItLink\" href=\"../../theorems.ipynb#mult_2_8\">mult_2_8</a> theorem\n",
    "========"
   ]
  },
  {
   "cell_type": "code",
   "execution_count": 1,
   "metadata": {},
   "outputs": [],
   "source": [
    "import proveit\n",
    "theory = proveit.Theory() # the theorem's theory"
   ]
  },
  {
   "cell_type": "code",
   "execution_count": 2,
   "metadata": {},
   "outputs": [
    {
     "data": {
      "text/html": [
       "With these <a href=\"allowed_presumptions.txt\">allowed</a>/<a href=\"disallowed_presumptions.txt\">disallowed</a> theorem/theory presumptions (e.g., to avoid circular dependencies), we begin our proof of<br><strong id=\"mult_2_8\">mult_2_8:</strong> <a class=\"ProveItLink\" href=\"../../../__pv_it/theorems/169ac6001c1a76313e511603f333e121ba62f3990/expr.ipynb\"><img src=\"data:image/png;base64,iVBORw0KGgoAAAANSUhEUgAAAGEAAAAVBAMAAACkm51HAAAAMFBMVEX///8AAAAAAAAAAAAAAAAA\n",
       "AAAAAAAAAAAAAAAAAAAAAAAAAAAAAAAAAAAAAAAAAAAv3aB7AAAAD3RSTlMAInZUiRDNmWbv3US7\n",
       "qzJazP2FAAAACXBIWXMAAA7EAAAOxAGVKw4bAAABkUlEQVQ4y31TPUjDQBT+0rTa1F6pk+BiHaRr\n",
       "B3FthUInNZOTYhdBcOkgbRXE4FIXsSK6uBREBKEQHJyj4KCICg7+TB06uViRFuxgfLlyQZojR3jk\n",
       "fd/73t177w5AHJ4lgf6tQMqLXfgqJoGR4oPrhrI5EwHDExY7JRPMzlJEHoqFOVMwg8AzsNwvWCy2\n",
       "AWUV7xRhgMWhVQW1A8wDFe/hSTGQwD2g0dcG+xLMDFdoukyR5ugUwGpgv4JJ36BM2QyZ4pb/rXEb\n",
       "aQmG2UlqXvBJpjhqJqneFe5/Jlxqq0vTCOed341zZ9VdRcfAAXDC/borUKcfv8lWJXuEbGBdxzFv\n",
       "qeXYJSdxBeqPjlhLpugCe2ZPsdsrpkDmEBhLYUi2BzqkMPip1AyGxcgpOTOg1mR13PE9rslrAhMi\n",
       "1z4QjSNsSedBdfCJKWelUk0wlzq2qbBMvyJIM45mQtSrDzq/bdt598a9lKjnEbNPwN46r0Bus0Fc\n",
       "Q3ahR30ue7ggQ8t+7+NKgimWn2JBgkV9n62S8GLjPvF/F7Nm4J/kgecAAAAASUVORK5CYII=\n",
       "\" style=\"display:inline;vertical-align:middle;\" /></a><br>(see <a class=\"ProveItLink\" href=\"../../../__pv_it/theorems/f8d8c42f079a749c96f8482ff261f661456df3ec0/dependencies.ipynb\">dependencies</a>)<br>"
      ],
      "text/plain": [
       "<IPython.core.display.HTML object>"
      ]
     },
     "metadata": {},
     "output_type": "display_data"
    },
    {
     "name": "stdout",
     "output_type": "stream",
     "text": [
      "mult_2_8 may now be readily provable (assuming required theorems are usable).  Simply execute \"%qed\".\n"
     ]
    }
   ],
   "source": [
    "%proving mult_2_8"
   ]
  },
  {
   "cell_type": "code",
   "execution_count": null,
   "metadata": {},
   "outputs": [],
   "source": []
  }
 ],
 "metadata": {
  "kernelspec": {
   "display_name": "Python 3",
   "language": "python",
   "name": "python3"
  }
 },
 "nbformat": 4,
 "nbformat_minor": 0
}