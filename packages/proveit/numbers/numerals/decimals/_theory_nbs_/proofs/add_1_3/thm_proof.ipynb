{
 "cells": [
  {
   "cell_type": "markdown",
   "metadata": {},
   "source": [
    "Proof of <a class=\"ProveItLink\" href=\"../../../../../../_theory_nbs_/theory.ipynb\">proveit</a>.<a class=\"ProveItLink\" href=\"../../../../../_theory_nbs_/theory.ipynb\">numbers</a>.<a class=\"ProveItLink\" href=\"../../../../_theory_nbs_/theory.ipynb\">numerals</a>.<a class=\"ProveItLink\" href=\"../../theory.ipynb\">decimals</a>.<a class=\"ProveItLink\" href=\"../../theorems.ipynb#add_1_3\">add_1_3</a> theorem\n",
    "========"
   ]
  },
  {
   "cell_type": "code",
   "execution_count": 1,
   "metadata": {},
   "outputs": [],
   "source": [
    "import proveit\n",
    "theory = proveit.Theory() # the theorem's theory"
   ]
  },
  {
   "cell_type": "code",
   "execution_count": 2,
   "metadata": {},
   "outputs": [
    {
     "data": {
      "text/html": [
       "With these <a href=\"allowed_presumptions.txt\">allowed</a>/<a href=\"disallowed_presumptions.txt\">disallowed</a> theorem/theory presumptions (e.g., to avoid circular dependencies), we begin our proof of<br><strong id=\"add_1_3\">add_1_3:</strong> <a class=\"ProveItLink\" href=\"../../../__pv_it/theorems/e86b991b2dd425f49bd63642d0f169d990431aba0/expr.ipynb\"><img src=\"data:image/png;base64,iVBORw0KGgoAAAANSUhEUgAAAGEAAAAVBAMAAACkm51HAAAAMFBMVEX///8AAAAAAAAAAAAAAAAA\n",
       "AAAAAAAAAAAAAAAAAAAAAAAAAAAAAAAAAAAAAAAAAAAv3aB7AAAAD3RSTlMAInZUiRDNmWbv3US7\n",
       "qzJazP2FAAAACXBIWXMAAA7EAAAOxAGVKw4bAAABSElEQVQ4y3XTPUvDQBgH8H+apnmT2tmpXV0a\n",
       "ijh3cBWzuTh0EVyKHQRFHOKijq4ipYJbQAhO1an1C7SbU7A4diiCIC6izyVIL/dyEO71d/dc7g5A\n",
       "Deqka0cp0HQ86sQGffOw2GZsnSUoRfLgag+wOrBeDwWxC/MT2JeFNwVsNlPzXwzzrBlYX8ClLNZJ\n",
       "uOBFK8+eEpBwQymoCxKbKgGY30BF2ki5QuJILZ5pdHkqigYTB0rxns4Ap8OKdpwlpo2IiXtNVPSv\n",
       "zGsxKDBxuxSncXwTxw957yBE9UMQ56JYrrEAJgF8YQ2jDm1UvyET5l1xH36avvXbeFGJfhaVM5JO\n",
       "0CW4zQo7taK4ys7DbktilSaZU54OulFB+Md0E+ElIrAnP3V4M76pxVfW1Jfd6fG1IV850byPse7h\n",
       "GCNNx55OrOieLZ2LOjXUzX8KCVeHVFfzpgAAAABJRU5ErkJggg==\n",
       "\" style=\"display:inline;vertical-align:middle;\" /></a><br>(see <a class=\"ProveItLink\" href=\"../../../__pv_it/theorems/6681fa22654907391bf83ea9a65ee9003481803c0/dependencies.ipynb\">dependencies</a>)<br>"
      ],
      "text/plain": [
       "<IPython.core.display.HTML object>"
      ]
     },
     "metadata": {},
     "output_type": "display_data"
    },
    {
     "name": "stdout",
     "output_type": "stream",
     "text": [
      "add_1_3 may now be readily provable (assuming required theorems are usable).  Simply execute \"%qed\".\n"
     ]
    }
   ],
   "source": [
    "%proving add_1_3"
   ]
  },
  {
   "cell_type": "code",
   "execution_count": null,
   "metadata": {},
   "outputs": [],
   "source": []
  }
 ],
 "metadata": {
  "kernelspec": {
   "display_name": "Python 3",
   "language": "python",
   "name": "python3"
  }
 },
 "nbformat": 4,
 "nbformat_minor": 0
}