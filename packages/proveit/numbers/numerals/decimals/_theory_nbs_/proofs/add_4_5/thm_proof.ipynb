{
 "cells": [
  {
   "cell_type": "markdown",
   "metadata": {},
   "source": [
    "Proof of <a class=\"ProveItLink\" href=\"../../../../../../_theory_nbs_/theory.ipynb\">proveit</a>.<a class=\"ProveItLink\" href=\"../../../../../_theory_nbs_/theory.ipynb\">numbers</a>.<a class=\"ProveItLink\" href=\"../../../../_theory_nbs_/theory.ipynb\">numerals</a>.<a class=\"ProveItLink\" href=\"../../theory.ipynb\">decimals</a>.<a class=\"ProveItLink\" href=\"../../theorems.ipynb#add_4_5\">add_4_5</a> theorem\n",
    "========"
   ]
  },
  {
   "cell_type": "code",
   "execution_count": 1,
   "metadata": {},
   "outputs": [],
   "source": [
    "import proveit\n",
    "theory = proveit.Theory() # the theorem's theory"
   ]
  },
  {
   "cell_type": "code",
   "execution_count": 2,
   "metadata": {},
   "outputs": [
    {
     "data": {
      "text/html": [
       "With these <a href=\"allowed_presumptions.txt\">allowed</a>/<a href=\"disallowed_presumptions.txt\">disallowed</a> theorem/theory presumptions (e.g., to avoid circular dependencies), we begin our proof of<br><strong id=\"add_4_5\">add_4_5:</strong> <a class=\"ProveItLink\" href=\"../../../__pv_it/theorems/91683d3495b85c1612a76265fc4e054a104777a50/expr.ipynb\"><img src=\"data:image/png;base64,iVBORw0KGgoAAAANSUhEUgAAAGEAAAAVBAMAAACkm51HAAAAMFBMVEX///8AAAAAAAAAAAAAAAAA\n",
       "AAAAAAAAAAAAAAAAAAAAAAAAAAAAAAAAAAAAAAAAAAAv3aB7AAAAD3RSTlMAInZUiRDNmWbv3US7\n",
       "qzJazP2FAAAACXBIWXMAAA7EAAAOxAGVKw4bAAABdElEQVQ4y2NgYBBgwA5wiTMwGWCK8TEwBDJs\n",
       "wqXDBEQ8RxXj/Ja1lIGpAUNteW0AAwNrAoi5FlWGa/4SoFQquoYoBb6JDAzsIJOYYDp2QCheMNmO\n",
       "ruMmA8MZoANAzBe5UDEjZB2cAWg6vjEw+AcwmIGYDlh1sKF5hPUPA4P+BoYSkKME0HU0+T5gYGC5\n",
       "gMWOBoYMIEuCAU0HTwDjbwYGDnCgsK8CgwsQf5xXYFgMchS6DiA4xcDAPAHNjsgNfPcNGGYDzRKA\n",
       "6KhatWrmqlXQYKsXYOD7gKaDtchZ/wFIhxADuh3HgDoeMHBPwIxvYFgBXbX37t2fV1B0zGJguA90\n",
       "1QI0fzCA4+MQmDEX1Q4HBoY5QNceQLPAMoD1HwODL5j9B1WHOAPTVKDpDmg6tAJ4gFH0CsSs+X8J\n",
       "RQdj+XVgfHNtQNPB4l4NSnQPkMWMkDlS2BM7RwEybwcypwJH/jiIK+MwHsAhEYNLBw+ubMuogENC\n",
       "EbswAAoTV+m1xT4DAAAAAElFTkSuQmCC\n",
       "\" style=\"display:inline;vertical-align:middle;\" /></a><br>(see <a class=\"ProveItLink\" href=\"../../../__pv_it/theorems/8394bf1f5c49e2897391afea737bc1e390dcc2790/dependencies.ipynb\">dependencies</a>)<br>"
      ],
      "text/plain": [
       "<IPython.core.display.HTML object>"
      ]
     },
     "metadata": {},
     "output_type": "display_data"
    },
    {
     "name": "stdout",
     "output_type": "stream",
     "text": [
      "add_4_5 may now be readily provable (assuming required theorems are usable).  Simply execute \"%qed\".\n"
     ]
    }
   ],
   "source": [
    "%proving add_4_5"
   ]
  },
  {
   "cell_type": "code",
   "execution_count": null,
   "metadata": {},
   "outputs": [],
   "source": []
  }
 ],
 "metadata": {
  "kernelspec": {
   "display_name": "Python 3",
   "language": "python",
   "name": "python3"
  }
 },
 "nbformat": 4,
 "nbformat_minor": 0
}