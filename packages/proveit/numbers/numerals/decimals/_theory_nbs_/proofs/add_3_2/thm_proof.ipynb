{
 "cells": [
  {
   "cell_type": "markdown",
   "metadata": {},
   "source": [
    "Proof of <a class=\"ProveItLink\" href=\"../../../../../../_theory_nbs_/theory.ipynb\">proveit</a>.<a class=\"ProveItLink\" href=\"../../../../../_theory_nbs_/theory.ipynb\">numbers</a>.<a class=\"ProveItLink\" href=\"../../../../_theory_nbs_/theory.ipynb\">numerals</a>.<a class=\"ProveItLink\" href=\"../../theory.ipynb\">decimals</a>.<a class=\"ProveItLink\" href=\"../../theorems.ipynb#add_3_2\">add_3_2</a> theorem\n",
    "========"
   ]
  },
  {
   "cell_type": "code",
   "execution_count": 1,
   "metadata": {},
   "outputs": [],
   "source": [
    "import proveit\n",
    "theory = proveit.Theory() # the theorem's theory"
   ]
  },
  {
   "cell_type": "code",
   "execution_count": 2,
   "metadata": {},
   "outputs": [
    {
     "data": {
      "text/html": [
       "With these <a href=\"allowed_presumptions.txt\">allowed</a>/<a href=\"disallowed_presumptions.txt\">disallowed</a> theorem/theory presumptions (e.g., to avoid circular dependencies), we begin our proof of<br><strong id=\"add_3_2\">add_3_2:</strong> <a class=\"ProveItLink\" href=\"../../../__pv_it/theorems/4ef46f107b53b33a481d0d5164d103479cf34ecc0/expr.ipynb\"><img src=\"data:image/png;base64,iVBORw0KGgoAAAANSUhEUgAAAGEAAAAVBAMAAACkm51HAAAAMFBMVEX///8AAAAAAAAAAAAAAAAA\n",
       "AAAAAAAAAAAAAAAAAAAAAAAAAAAAAAAAAAAAAAAAAAAv3aB7AAAAD3RSTlMAInZUiRDNmWbv3US7\n",
       "qzJazP2FAAAACXBIWXMAAA7EAAAOxAGVKw4bAAABe0lEQVQ4y3WTv0vDQBTHv0lbm/4wzSAIxUH/\n",
       "AKGU4tpuToW4C3YRRBw6CJEiGFxcXRxqhQoqSKBUXOxYHRzsUifBwWZ2Eku7ONR3OcHkknvDXe69\n",
       "++R97909AAaiTeaHWpAE7kMeHdigqQQsrA+CIcXac6HaIpGa7t4AiRoSdZSDiZYQ/wG2RSLdvjaB\n",
       "pA11jK0a9/X49Ao0gRORmOeZgEwLuT+iyKe2iZGBlBlJrHlj2Q4Q78DIxZwdSeyzIXOLAEHWBeJD\n",
       "kTiuusAOq9rqh0jo34DmSU06njE6aypUkCuuqiAQadoROw1f0gvQ4uef0NBwnKbjdDzHIcvzFSaO\n",
       "DEboLrLjYA6NiciIOZ6JcJmq3CRElKAYiF0K5zinEgJPJGnIVf0TegWqCa0v5KgAF0CVJNjifeQt\n",
       "q0F/rwjEItQz4JO+HqxBsLrd2WxK9bqD+EDf6BmkXb+v6F/ko7tAq/tXPf/iQNI4j7JWU/qSwKaM\n",
       "yMraVlmWBFai3b+WJ1mIDUD4bwAAAABJRU5ErkJggg==\n",
       "\" style=\"display:inline;vertical-align:middle;\" /></a><br>(see <a class=\"ProveItLink\" href=\"../../../__pv_it/theorems/003650d4f0733c0b8571ec0097a8ad07f17325ab0/dependencies.ipynb\">dependencies</a>)<br>"
      ],
      "text/plain": [
       "<IPython.core.display.HTML object>"
      ]
     },
     "metadata": {},
     "output_type": "display_data"
    },
    {
     "name": "stdout",
     "output_type": "stream",
     "text": [
      "add_3_2 may now be readily provable (assuming required theorems are usable).  Simply execute \"%qed\".\n"
     ]
    }
   ],
   "source": [
    "%proving add_3_2"
   ]
  },
  {
   "cell_type": "code",
   "execution_count": null,
   "metadata": {},
   "outputs": [],
   "source": []
  }
 ],
 "metadata": {
  "kernelspec": {
   "display_name": "Python 3",
   "language": "python",
   "name": "python3"
  }
 },
 "nbformat": 4,
 "nbformat_minor": 0
}