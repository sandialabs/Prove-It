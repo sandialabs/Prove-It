{
 "cells": [
  {
   "cell_type": "markdown",
   "metadata": {},
   "source": [
    "Proof of <a class=\"ProveItLink\" href=\"../../../../../../_theory_nbs_/theory.ipynb\">proveit</a>.<a class=\"ProveItLink\" href=\"../../../../../_theory_nbs_/theory.ipynb\">numbers</a>.<a class=\"ProveItLink\" href=\"../../../../_theory_nbs_/theory.ipynb\">numerals</a>.<a class=\"ProveItLink\" href=\"../../theory.ipynb\">decimals</a>.<a class=\"ProveItLink\" href=\"../../theorems.ipynb#mult_8_1\">mult_8_1</a> theorem\n",
    "========"
   ]
  },
  {
   "cell_type": "code",
   "execution_count": 1,
   "metadata": {},
   "outputs": [],
   "source": [
    "import proveit\n",
    "theory = proveit.Theory() # the theorem's theory"
   ]
  },
  {
   "cell_type": "code",
   "execution_count": 2,
   "metadata": {},
   "outputs": [
    {
     "data": {
      "text/html": [
       "With these <a href=\"allowed_presumptions.txt\">allowed</a>/<a href=\"disallowed_presumptions.txt\">disallowed</a> theorem/theory presumptions (e.g., to avoid circular dependencies), we begin our proof of<br><strong id=\"mult_8_1\">mult_8_1:</strong> <a class=\"ProveItLink\" href=\"../../../__pv_it/theorems/301198950285e28c53c18f9e3694663939f753760/expr.ipynb\"><img src=\"data:image/png;base64,iVBORw0KGgoAAAANSUhEUgAAAFcAAAAVBAMAAADBdm84AAAAMFBMVEX///8AAAAAAAAAAAAAAAAA\n",
       "AAAAAAAAAAAAAAAAAAAAAAAAAAAAAAAAAAAAAAAAAAAv3aB7AAAAD3RSTlMAInZUiRDNmWbv3US7\n",
       "qzJazP2FAAAACXBIWXMAAA7EAAAOxAGVKw4bAAABVklEQVQoz2NgYBBgwABYhCCAyQBTbBMuxSYM\n",
       "DCEu1Qg+31KgAQ3oqlhd3DcAyQQGhgIGXrjxsWVfgWQqumJ2BobLQLKBgaMBrAXmLJDidnTFHQwM\n",
       "YQwMnAwMLBcwFHMGoCn2BSs2Y2Bg/hPA3oCqmA3d0fZHGSoYGEqArPufihlQFQMtQwW8/9WB3soA\n",
       "uf7/QjTFHGBnVa0CgbVg4fpfwMBfDAo9mf8GqIqZJ6CZzOx4/jMDw2ygMQUM9lOBAvEJcMV8H9AU\n",
       "tzMw/wwAKQZ6nRGojYGrAK6YG91koGHyBiBnxAM5N9CcsQDVzaxAm3gbGA4BTQY6/SCaBw+gmTyR\n",
       "gYFHABTa3KkMHApwYZaPoPBxQFO8LYChiYHhFZD1thyRkHhvfgM6iWsDmmK+6+VAIa4H2JKiFPYU\n",
       "ylGATbQCR3o+iEWM8QAOxTFYxHhw5StGBUwxRexKAU5HUsX87hrYAAAAAElFTkSuQmCC\n",
       "\" style=\"display:inline;vertical-align:middle;\" /></a><br>(see <a class=\"ProveItLink\" href=\"../../../__pv_it/theorems/08da18fe2cfbc65115628a11676fd1fb887fdb6e0/dependencies.ipynb\">dependencies</a>)<br>"
      ],
      "text/plain": [
       "<IPython.core.display.HTML object>"
      ]
     },
     "metadata": {},
     "output_type": "display_data"
    },
    {
     "name": "stdout",
     "output_type": "stream",
     "text": [
      "mult_8_1 may now be readily provable (assuming required theorems are usable).  Simply execute \"%qed\".\n"
     ]
    }
   ],
   "source": [
    "%proving mult_8_1"
   ]
  },
  {
   "cell_type": "code",
   "execution_count": null,
   "metadata": {},
   "outputs": [],
   "source": []
  }
 ],
 "metadata": {
  "kernelspec": {
   "display_name": "Python 3",
   "language": "python",
   "name": "python3"
  }
 },
 "nbformat": 4,
 "nbformat_minor": 0
}