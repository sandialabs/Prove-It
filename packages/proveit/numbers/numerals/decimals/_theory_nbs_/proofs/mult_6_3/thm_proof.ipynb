{
 "cells": [
  {
   "cell_type": "markdown",
   "metadata": {},
   "source": [
    "Proof of <a class=\"ProveItLink\" href=\"../../../../../../_theory_nbs_/theory.ipynb\">proveit</a>.<a class=\"ProveItLink\" href=\"../../../../../_theory_nbs_/theory.ipynb\">numbers</a>.<a class=\"ProveItLink\" href=\"../../../../_theory_nbs_/theory.ipynb\">numerals</a>.<a class=\"ProveItLink\" href=\"../../theory.ipynb\">decimals</a>.<a class=\"ProveItLink\" href=\"../../theorems.ipynb#mult_6_3\">mult_6_3</a> theorem\n",
    "========"
   ]
  },
  {
   "cell_type": "code",
   "execution_count": 1,
   "metadata": {},
   "outputs": [],
   "source": [
    "import proveit\n",
    "theory = proveit.Theory() # the theorem's theory"
   ]
  },
  {
   "cell_type": "code",
   "execution_count": 2,
   "metadata": {},
   "outputs": [
    {
     "data": {
      "text/html": [
       "With these <a href=\"allowed_presumptions.txt\">allowed</a>/<a href=\"disallowed_presumptions.txt\">disallowed</a> theorem/theory presumptions (e.g., to avoid circular dependencies), we begin our proof of<br><strong id=\"mult_6_3\">mult_6_3:</strong> <a class=\"ProveItLink\" href=\"../../../__pv_it/theorems/b71b1c67e1501c9b8e3451caa70476a1da8cb0da0/expr.ipynb\"><img src=\"data:image/png;base64,iVBORw0KGgoAAAANSUhEUgAAAGEAAAAVBAMAAACkm51HAAAAMFBMVEX///8AAAAAAAAAAAAAAAAA\n",
       "AAAAAAAAAAAAAAAAAAAAAAAAAAAAAAAAAAAAAAAAAAAv3aB7AAAAD3RSTlMAInZUiRDNmWbv3US7\n",
       "qzJazP2FAAAACXBIWXMAAA7EAAAOxAGVKw4bAAABj0lEQVQ4y32TPUjDQBTH/+21Nm2TtpODizo5\n",
       "mkFc/SDgJGRSBKVBEDpJB7FFBYtLO9bBSYoBcRGE4CDoVEXnCg7qoBRHB6lIix9DfRdtjM2RBzly\n",
       "73+/9969uwOQgscELpcFVa/v2JcYoU/T6p1pQNuwECx4liUOgLA2ZdFoAL2WYnaUWbA3YKkbWFht\n",
       "AhHghkYKtwi52pGG1XALKHqLJ6IEzABRgDVdyqkFIqK6iJi2iVFALv/T2DvQUxARY1fIAysUcHly\n",
       "3aWd0erQtYhQ2kPU2AyQzCD61+KnB+qbZPDftUNuRw6BzU86qX0g3UBkx1UV9YqVRTnYRI20XSJM\n",
       "SF/kTBs/4p6ORENEFME+dE4kDUi0W8SyNLwANRVxYQ4qpF/lVcm/OWxr65xgpmAfYUqsFHBB5dE+\n",
       "nJgVuyqpKsqxTdFT/FRwiTmnVyX7PCLj3UToFTjRsQU881nu0VHiObqJiFldgHLfukPiNse1uuhC\n",
       "9/lcdikr8ub93se5wBeo+hHzAp/s+2wDA17foM/6b9tPaWIFe5RhAAAAAElFTkSuQmCC\n",
       "\" style=\"display:inline;vertical-align:middle;\" /></a><br>(see <a class=\"ProveItLink\" href=\"../../../__pv_it/theorems/0ffae6712cd748861096b70fdb1872db8fcc9c880/dependencies.ipynb\">dependencies</a>)<br>"
      ],
      "text/plain": [
       "<IPython.core.display.HTML object>"
      ]
     },
     "metadata": {},
     "output_type": "display_data"
    },
    {
     "name": "stdout",
     "output_type": "stream",
     "text": [
      "mult_6_3 may now be readily provable (assuming required theorems are usable).  Simply execute \"%qed\".\n"
     ]
    }
   ],
   "source": [
    "%proving mult_6_3"
   ]
  },
  {
   "cell_type": "code",
   "execution_count": null,
   "metadata": {},
   "outputs": [],
   "source": []
  }
 ],
 "metadata": {
  "kernelspec": {
   "display_name": "Python 3",
   "language": "python",
   "name": "python3"
  }
 },
 "nbformat": 4,
 "nbformat_minor": 0
}