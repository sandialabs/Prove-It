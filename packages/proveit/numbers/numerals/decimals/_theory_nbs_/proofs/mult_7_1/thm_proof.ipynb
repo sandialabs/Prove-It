{
 "cells": [
  {
   "cell_type": "markdown",
   "metadata": {},
   "source": [
    "Proof of <a class=\"ProveItLink\" href=\"../../../../../../_theory_nbs_/theory.ipynb\">proveit</a>.<a class=\"ProveItLink\" href=\"../../../../../_theory_nbs_/theory.ipynb\">numbers</a>.<a class=\"ProveItLink\" href=\"../../../../_theory_nbs_/theory.ipynb\">numerals</a>.<a class=\"ProveItLink\" href=\"../../theory.ipynb\">decimals</a>.<a class=\"ProveItLink\" href=\"../../theorems.ipynb#mult_7_1\">mult_7_1</a> theorem\n",
    "========"
   ]
  },
  {
   "cell_type": "code",
   "execution_count": 1,
   "metadata": {},
   "outputs": [],
   "source": [
    "import proveit\n",
    "theory = proveit.Theory() # the theorem's theory"
   ]
  },
  {
   "cell_type": "code",
   "execution_count": 2,
   "metadata": {},
   "outputs": [
    {
     "data": {
      "text/html": [
       "With these <a href=\"allowed_presumptions.txt\">allowed</a>/<a href=\"disallowed_presumptions.txt\">disallowed</a> theorem/theory presumptions (e.g., to avoid circular dependencies), we begin our proof of<br><strong id=\"mult_7_1\">mult_7_1:</strong> <a class=\"ProveItLink\" href=\"../../../__pv_it/theorems/5a7a5e1ac9027597604e538e93242515dfe6dd150/expr.ipynb\"><img src=\"data:image/png;base64,iVBORw0KGgoAAAANSUhEUgAAAFgAAAAVBAMAAAAwfTS1AAAAMFBMVEX///8AAAAAAAAAAAAAAAAA\n",
       "AAAAAAAAAAAAAAAAAAAAAAAAAAAAAAAAAAAAAAAAAAAv3aB7AAAAD3RSTlMAInZUiRDNmWbv3US7\n",
       "qzJazP2FAAAACXBIWXMAAA7EAAAOxAGVKw4bAAABN0lEQVQoz2NgYBBgwABYhCCAyYCxFV1sE4Yq\n",
       "iQAwZcLA/P///59wYb6lQAMa0BXbA9VMYGBNYGA5Xl6+GCYaW/YVSKaiK/YpL68yYGBvYGBhYGAs\n",
       "QDgLpLgdXbEDA4M4AwMnAwMzAwMvA6pizgA0xQYMDBcYGMzAbD80xWwYjmZgecDAUAJiMB5AU8xy\n",
       "AUOxDBBngBi8G9AUcySAmFWrQGAtRPw2EIODQZIBTTHzBHSDGUEis0EsNzA/PgGumO8DhpMTYIrX\n",
       "gPlcBXDF3Bgmcx2AOoP1L4YzFqC7OR7k5UMgc76jK+Y4gG7yfpC1viBzviA77iOQYHfASBwgkVcg\n",
       "n05GCPLe/HYD6MIN6IolDUAOf4At3UphT84cBdhEK3Ak/oNYxBgP4FAcg0WMB1e+YlTAFFPErhQA\n",
       "2MZJ8Mn4N7YAAAAASUVORK5CYII=\n",
       "\" style=\"display:inline;vertical-align:middle;\" /></a><br>(see <a class=\"ProveItLink\" href=\"../../../__pv_it/theorems/e60279dcfef95069a55da93e1a1872f57a07db320/dependencies.ipynb\">dependencies</a>)<br>"
      ],
      "text/plain": [
       "<IPython.core.display.HTML object>"
      ]
     },
     "metadata": {},
     "output_type": "display_data"
    },
    {
     "name": "stdout",
     "output_type": "stream",
     "text": [
      "mult_7_1 may now be readily provable (assuming required theorems are usable).  Simply execute \"%qed\".\n"
     ]
    }
   ],
   "source": [
    "%proving mult_7_1"
   ]
  },
  {
   "cell_type": "code",
   "execution_count": null,
   "metadata": {},
   "outputs": [],
   "source": []
  }
 ],
 "metadata": {
  "kernelspec": {
   "display_name": "Python 3",
   "language": "python",
   "name": "python3"
  }
 },
 "nbformat": 4,
 "nbformat_minor": 0
}