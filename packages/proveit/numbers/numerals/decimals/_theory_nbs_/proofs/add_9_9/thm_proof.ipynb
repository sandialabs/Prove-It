{
 "cells": [
  {
   "cell_type": "markdown",
   "metadata": {},
   "source": [
    "Proof of <a class=\"ProveItLink\" href=\"../../../../../../_theory_nbs_/theory.ipynb\">proveit</a>.<a class=\"ProveItLink\" href=\"../../../../../_theory_nbs_/theory.ipynb\">numbers</a>.<a class=\"ProveItLink\" href=\"../../../../_theory_nbs_/theory.ipynb\">numerals</a>.<a class=\"ProveItLink\" href=\"../../theory.ipynb\">decimals</a>.<a class=\"ProveItLink\" href=\"../../theorems.ipynb#add_9_9\">add_9_9</a> theorem\n",
    "========"
   ]
  },
  {
   "cell_type": "code",
   "execution_count": 1,
   "metadata": {},
   "outputs": [],
   "source": [
    "import proveit\n",
    "theory = proveit.Theory() # the theorem's theory"
   ]
  },
  {
   "cell_type": "code",
   "execution_count": 2,
   "metadata": {},
   "outputs": [
    {
     "data": {
      "text/html": [
       "With these <a href=\"allowed_presumptions.txt\">allowed</a>/<a href=\"disallowed_presumptions.txt\">disallowed</a> theorem/theory presumptions (e.g., to avoid circular dependencies), we begin our proof of<br><strong id=\"add_9_9\">add_9_9:</strong> <a class=\"ProveItLink\" href=\"../../../__pv_it/theorems/eedc43a8f9e7260e8aca67fb5260a30c3a0f85910/expr.ipynb\"><img src=\"data:image/png;base64,iVBORw0KGgoAAAANSUhEUgAAAGwAAAAVBAMAAABRZRb3AAAAMFBMVEX///8AAAAAAAAAAAAAAAAA\n",
       "AAAAAAAAAAAAAAAAAAAAAAAAAAAAAAAAAAAAAAAAAAAv3aB7AAAAD3RSTlMAInZUiRDNmWbv3US7\n",
       "qzJazP2FAAAACXBIWXMAAA7EAAAOxAGVKw4bAAABdUlEQVQ4y2NgYBBgwA4YGfABJgMcEtwK+LSZ\n",
       "MDCwl19FEwSLaGAqfhXAwBDiUs3AwJrAwLqI4SWqSyEibAFomliv5wOFChh4DRjYGxh4JzDwHIBI\n",
       "7IBQEBGOAgzb9AMYOBpAVnEyMPAnMLB8hQgbQSioyFRs2lgugLSZMTDEH2Bg+o2iDSqSgU0b858A\n",
       "oAtLIGb/wLANKOKLTRvD/U/FYBNBPvmEog0q0gYO1FVgcAGujf3/QgaGxcAAms3w9jOKNqiIJVbb\n",
       "TGT+GzDMBnLCVYz+AamqVatmrlq1lgEu8h5rSBYw2E8Fa2NAD0moyE5s2jgDGBg/gxwJBLB4Q2gD\n",
       "iVhh81s8kLrBcIiBgXkqQ/wDFG1QkR6stgET1EFQIDMtZTjBgKINKlKCoc1fgIE7lYFDgeEVkONS\n",
       "vgFVG1RkNbquu/NzGxjelgOTMtcDZHEjlAy3AHe+QU2vO1ByTwOe/HYQp4wMvmwaQ4aBIB/gyvtM\n",
       "Arg1AQDzt2vun8CRowAAAABJRU5ErkJggg==\n",
       "\" style=\"display:inline;vertical-align:middle;\" /></a><br>(see <a class=\"ProveItLink\" href=\"../../../__pv_it/theorems/fba1d9a29c5a1d2ea2704622e287466ae6c1b4130/dependencies.ipynb\">dependencies</a>)<br>"
      ],
      "text/plain": [
       "<IPython.core.display.HTML object>"
      ]
     },
     "metadata": {},
     "output_type": "display_data"
    },
    {
     "name": "stdout",
     "output_type": "stream",
     "text": [
      "add_9_9 may now be readily provable (assuming required theorems are usable).  Simply execute \"%qed\".\n"
     ]
    }
   ],
   "source": [
    "%proving add_9_9"
   ]
  },
  {
   "cell_type": "code",
   "execution_count": null,
   "metadata": {},
   "outputs": [],
   "source": []
  }
 ],
 "metadata": {
  "kernelspec": {
   "display_name": "Python 3",
   "language": "python",
   "name": "python3"
  }
 },
 "nbformat": 4,
 "nbformat_minor": 0
}