{
 "cells": [
  {
   "cell_type": "markdown",
   "metadata": {},
   "source": [
    "Proof of <a class=\"ProveItLink\" href=\"../../../../../../_theory_nbs_/theory.ipynb\">proveit</a>.<a class=\"ProveItLink\" href=\"../../../../../_theory_nbs_/theory.ipynb\">numbers</a>.<a class=\"ProveItLink\" href=\"../../../../_theory_nbs_/theory.ipynb\">numerals</a>.<a class=\"ProveItLink\" href=\"../../theory.ipynb\">decimals</a>.<a class=\"ProveItLink\" href=\"../../theorems.ipynb#mult_5_4\">mult_5_4</a> theorem\n",
    "========"
   ]
  },
  {
   "cell_type": "code",
   "execution_count": 1,
   "metadata": {},
   "outputs": [],
   "source": [
    "import proveit\n",
    "theory = proveit.Theory() # the theorem's theory"
   ]
  },
  {
   "cell_type": "code",
   "execution_count": 2,
   "metadata": {},
   "outputs": [
    {
     "data": {
      "text/html": [
       "With these <a href=\"allowed_presumptions.txt\">allowed</a>/<a href=\"disallowed_presumptions.txt\">disallowed</a> theorem/theory presumptions (e.g., to avoid circular dependencies), we begin our proof of<br><strong id=\"mult_5_4\">mult_5_4:</strong> <a class=\"ProveItLink\" href=\"../../../__pv_it/theorems/a9ebb8fa3de0364e20650e1e29e7a55de938e2890/expr.ipynb\"><img src=\"data:image/png;base64,iVBORw0KGgoAAAANSUhEUgAAAGEAAAAVBAMAAACkm51HAAAAMFBMVEX///8AAAAAAAAAAAAAAAAA\n",
       "AAAAAAAAAAAAAAAAAAAAAAAAAAAAAAAAAAAAAAAAAAAv3aB7AAAAD3RSTlMAInZUiRDNmWbv3US7\n",
       "qzJazP2FAAAACXBIWXMAAA7EAAAOxAGVKw4bAAABm0lEQVQ4y32TPUvDYBDH/2mbpklr7SYUwRQE\n",
       "URAyiGsz6KaQDyDYRXFwyFCtFIW6KLroKqKtOFkQi1/AKrgp1k2E2swuviAKitZ7gjbtk5AbQv53\n",
       "97vn7nkBkIDLPFxtFtBgQezMOfUlRoDibNlwHHETgQKfJeTmLWBsgCqLGeDoc7wtqNSAGZ7oRegL\n",
       "YU08ACQqV+sIDpFc54lbYAebwAQggyPiayRlgyOKBhqJayBtYJQnQmGSYX6Qe6BhfQBPGrIk7/of\n",
       "nFiKEaGae4tOREYUMEf/l+irtDalwIhIhv3ny8yO/7p9Fd6IUHFoy1ip1RQYEdx2LaHUbELHri2l\n",
       "F/pMs8KrNhF/dhHLEIk4UxkRy0D6YVVMakq1iahrjQh5aY60xrqSS+j6rxmt1xt7OoIlfo4RCIkr\n",
       "YMvABWsdctWpJrPJq9wScR0BYwNYBCapExODbSfWTdmSzhHJXC4PRRP3gUeSPSsLTky6+VahVPjD\n",
       "aDbfIWaH6ToqlteFTvpc9ojp5V3yex/nHj6h6kdMefhivs+WzsxlKZ/8XzGKaKyZz6V4AAAAAElF\n",
       "TkSuQmCC\n",
       "\" style=\"display:inline;vertical-align:middle;\" /></a><br>(see <a class=\"ProveItLink\" href=\"../../../__pv_it/theorems/8fad5f83b8b28a8976230279f26457cf87c2b7cf0/dependencies.ipynb\">dependencies</a>)<br>"
      ],
      "text/plain": [
       "<IPython.core.display.HTML object>"
      ]
     },
     "metadata": {},
     "output_type": "display_data"
    },
    {
     "name": "stdout",
     "output_type": "stream",
     "text": [
      "mult_5_4 may now be readily provable (assuming required theorems are usable).  Simply execute \"%qed\".\n"
     ]
    }
   ],
   "source": [
    "%proving mult_5_4"
   ]
  },
  {
   "cell_type": "code",
   "execution_count": null,
   "metadata": {},
   "outputs": [],
   "source": []
  }
 ],
 "metadata": {
  "kernelspec": {
   "display_name": "Python 3",
   "language": "python",
   "name": "python3"
  }
 },
 "nbformat": 4,
 "nbformat_minor": 0
}