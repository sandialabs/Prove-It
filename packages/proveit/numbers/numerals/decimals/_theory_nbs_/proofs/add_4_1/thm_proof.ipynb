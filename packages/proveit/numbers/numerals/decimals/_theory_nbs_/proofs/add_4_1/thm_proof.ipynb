{
 "cells": [
  {
   "cell_type": "markdown",
   "metadata": {},
   "source": [
    "Proof of <a class=\"ProveItLink\" href=\"../../../../../../_theory_nbs_/theory.ipynb\">proveit</a>.<a class=\"ProveItLink\" href=\"../../../../../_theory_nbs_/theory.ipynb\">numbers</a>.<a class=\"ProveItLink\" href=\"../../../../_theory_nbs_/theory.ipynb\">numerals</a>.<a class=\"ProveItLink\" href=\"../../theory.ipynb\">decimals</a>.<a class=\"ProveItLink\" href=\"../../theorems.ipynb#add_4_1\">add_4_1</a> theorem\n",
    "========"
   ]
  },
  {
   "cell_type": "code",
   "execution_count": 1,
   "metadata": {},
   "outputs": [],
   "source": [
    "import proveit\n",
    "theory = proveit.Theory() # the theorem's theory"
   ]
  },
  {
   "cell_type": "code",
   "execution_count": 2,
   "metadata": {},
   "outputs": [
    {
     "data": {
      "text/html": [
       "With these <a href=\"allowed_presumptions.txt\">allowed</a>/<a href=\"disallowed_presumptions.txt\">disallowed</a> theorem/theory presumptions (e.g., to avoid circular dependencies), we begin our proof of<br><strong id=\"add_4_1\">add_4_1:</strong> <a class=\"ProveItLink\" href=\"../../../__pv_it/theorems/b38ae7aa6f3dc7804565a90403b0552355c1167e0/expr.ipynb\"><img src=\"data:image/png;base64,iVBORw0KGgoAAAANSUhEUgAAAGEAAAAVBAMAAACkm51HAAAAMFBMVEX///8AAAAAAAAAAAAAAAAA\n",
       "AAAAAAAAAAAAAAAAAAAAAAAAAAAAAAAAAAAAAAAAAAAv3aB7AAAAD3RSTlMAInZUiRDNmWbv3US7\n",
       "qzJazP2FAAAACXBIWXMAAA7EAAAOxAGVKw4bAAABQElEQVQ4y2NgYBBgwA5wiTMwGeCQ2IQhwsfA\n",
       "EAikTEDs5+hyS4FGNaDr4PyWBRRnTQCx16JKxZZ9BZKp6Dq45i8JYGBgB5nEBNOxA+ZUkI52dB28\n",
       "EJtAxItcqJgRsg7OAKw6zECEA1YdbA1YdZSA5AWw6mC5gK6jyfcBA0MGkCXBgFUHBzhQ2FeBAUg3\n",
       "TwDjbwaGxSBHYdfBPAEzkk4xMMwGmiUA0VG1atXMVavWwnXwfcDUUS8A0iHEgN0ObnQ7jgF1PAC5\n",
       "au/duz+vYHPVAjR/zGJguM/AcAisYi5Wnx9As8OBgWEOA4MvmP0HTQfLR5DpDmg6xBmYpjIwvAIx\n",
       "a/5fQtHBe/PbDWAy2oCmg7H8OjAZcD1AFjNC5khhzwUcBci8HcicChwZ5yCurMZ4AIdEDC4dPLiy\n",
       "LaMCDglF7MIAqQ1T/azHHywAAAAASUVORK5CYII=\n",
       "\" style=\"display:inline;vertical-align:middle;\" /></a><br>(see <a class=\"ProveItLink\" href=\"../../../__pv_it/theorems/c134a924b223aa0a4fc13f600b7be1793128ef950/dependencies.ipynb\">dependencies</a>)<br>"
      ],
      "text/plain": [
       "<IPython.core.display.HTML object>"
      ]
     },
     "metadata": {},
     "output_type": "display_data"
    },
    {
     "name": "stdout",
     "output_type": "stream",
     "text": [
      "add_4_1 may now be readily provable (assuming required theorems are usable).  Simply execute \"%qed\".\n"
     ]
    }
   ],
   "source": [
    "%proving add_4_1"
   ]
  },
  {
   "cell_type": "code",
   "execution_count": null,
   "metadata": {},
   "outputs": [],
   "source": []
  }
 ],
 "metadata": {
  "kernelspec": {
   "display_name": "Python 3",
   "language": "python",
   "name": "python3"
  }
 },
 "nbformat": 4,
 "nbformat_minor": 0
}