{
 "cells": [
  {
   "cell_type": "markdown",
   "metadata": {},
   "source": [
    "Proof of <a class=\"ProveItLink\" href=\"../../../../../../_theory_nbs_/theory.ipynb\">proveit</a>.<a class=\"ProveItLink\" href=\"../../../../../_theory_nbs_/theory.ipynb\">numbers</a>.<a class=\"ProveItLink\" href=\"../../../../_theory_nbs_/theory.ipynb\">numerals</a>.<a class=\"ProveItLink\" href=\"../../theory.ipynb\">decimals</a>.<a class=\"ProveItLink\" href=\"../../theorems.ipynb#mult_6_8\">mult_6_8</a> theorem\n",
    "========"
   ]
  },
  {
   "cell_type": "code",
   "execution_count": 1,
   "metadata": {},
   "outputs": [],
   "source": [
    "import proveit\n",
    "theory = proveit.Theory() # the theorem's theory"
   ]
  },
  {
   "cell_type": "code",
   "execution_count": 2,
   "metadata": {},
   "outputs": [
    {
     "data": {
      "text/html": [
       "With these <a href=\"allowed_presumptions.txt\">allowed</a>/<a href=\"disallowed_presumptions.txt\">disallowed</a> theorem/theory presumptions (e.g., to avoid circular dependencies), we begin our proof of<br><strong id=\"mult_6_8\">mult_6_8:</strong> <a class=\"ProveItLink\" href=\"../../../__pv_it/theorems/7f90dce55c5abfb857f2568f5c884345d47f05610/expr.ipynb\"><img src=\"data:image/png;base64,iVBORw0KGgoAAAANSUhEUgAAAGEAAAAVBAMAAACkm51HAAAAMFBMVEX///8AAAAAAAAAAAAAAAAA\n",
       "AAAAAAAAAAAAAAAAAAAAAAAAAAAAAAAAAAAAAAAAAAAv3aB7AAAAD3RSTlMAInZUiRDNmWbv3US7\n",
       "qzJazP2FAAAACXBIWXMAAA7EAAAOxAGVKw4bAAABh0lEQVQ4y32TPUjDQBTH/23aJm2TtpODi+0k\n",
       "OHUQVz+oOAmdBEFoEIRO0kFo0cHqYB3r4CRCoJsgBAfnKDo34OBU7exUEMEPRN95l7bmQh7kuLzf\n",
       "/d/dvfcOQA6SBbjGLFqUfVehiln6SqW+9xsvrdiINuV1mRpniJvAhG1YHlCBB2BLVqRcwVQKtwnd\n",
       "8cAxsAa0ZMWMK1gSUN7GwCr3lqVDHbmCzQF6e4zM36MBJKSLxBKuYDsUcHtpb0iMn2lKXsz1Kwqk\n",
       "4KwKZKtIjlK8/0nV0Ew23b1gdsmmkSYpOOsAlQHUU0+gLHZfaWz7DwVScHZGCgvaF3krLHALykcZ\n",
       "mYFPccAUnJEia0J7Zxmv0UCbTRWR9u0RyTMFZ3QqXezxV3IKbjShWP/vke71ns+XObulQ9M9hjFP\n",
       "KEIOmiNVMOkKRlXBHdaHubou45A6YUFSZB3BXlgi6k+j2j7WqdtStl+gdr/zgvWDGnoypNm1WpC3\n",
       "EfY+bgJ8ESdMsRHg00OfLRVHskLI+l+ASmcVuS9TiQAAAABJRU5ErkJggg==\n",
       "\" style=\"display:inline;vertical-align:middle;\" /></a><br>(see <a class=\"ProveItLink\" href=\"../../../__pv_it/theorems/bfaf1d7e32c21448a10691e7b44d83303149916e0/dependencies.ipynb\">dependencies</a>)<br>"
      ],
      "text/plain": [
       "<IPython.core.display.HTML object>"
      ]
     },
     "metadata": {},
     "output_type": "display_data"
    },
    {
     "name": "stdout",
     "output_type": "stream",
     "text": [
      "mult_6_8 may now be readily provable (assuming required theorems are usable).  Simply execute \"%qed\".\n"
     ]
    }
   ],
   "source": [
    "%proving mult_6_8"
   ]
  },
  {
   "cell_type": "code",
   "execution_count": null,
   "metadata": {},
   "outputs": [],
   "source": []
  }
 ],
 "metadata": {
  "kernelspec": {
   "display_name": "Python 3",
   "language": "python",
   "name": "python3"
  }
 },
 "nbformat": 4,
 "nbformat_minor": 0
}