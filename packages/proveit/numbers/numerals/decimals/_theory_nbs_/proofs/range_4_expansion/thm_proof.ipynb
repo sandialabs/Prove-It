{
 "cells": [
  {
   "cell_type": "markdown",
   "metadata": {},
   "source": [
    "Proof of <a class=\"ProveItLink\" href=\"../../../../../../_theory_nbs_/theory.ipynb\">proveit</a>.<a class=\"ProveItLink\" href=\"../../../../../_theory_nbs_/theory.ipynb\">numbers</a>.<a class=\"ProveItLink\" href=\"../../../../_theory_nbs_/theory.ipynb\">numerals</a>.<a class=\"ProveItLink\" href=\"../../theory.ipynb\">decimals</a>.<a class=\"ProveItLink\" href=\"../../theorems.ipynb#range_4_expansion\">range_4_expansion</a> theorem\n",
    "========"
   ]
  },
  {
   "cell_type": "code",
   "execution_count": 1,
   "metadata": {},
   "outputs": [],
   "source": [
    "import proveit\n",
    "theory = proveit.Theory() # the theorem's theory"
   ]
  },
  {
   "cell_type": "code",
   "execution_count": 2,
   "metadata": {},
   "outputs": [
    {
     "data": {
      "text/html": [
       "With these <a href=\"allowed_presumptions.txt\">allowed</a>/<a href=\"disallowed_presumptions.txt\">disallowed</a> theorem/theory presumptions (e.g., to avoid circular dependencies), we begin our proof of<br><strong id=\"range_4_expansion\">range_4_expansion:</strong> <a class=\"ProveItLink\" href=\"../../../__pv_it/theorems/5ec4a8e4669e15d74ff8a2474aa1631ec723266a0/expr.ipynb\"><img src=\"data:image/png;base64,iVBORw0KGgoAAAANSUhEUgAAAtYAAAAYBAMAAAAsQ6cYAAAAMFBMVEX///8AAAAAAAAAAAAAAAAA\n",
       "AAAAAAAAAAAAAAAAAAAAAAAAAAAAAAAAAAAAAAAAAAAv3aB7AAAAD3RSTlMAq1RmmUTNIjK7EInv\n",
       "3XZ/CtNrAAAACXBIWXMAAA7EAAAOxAGVKw4bAAAGvUlEQVRo3u2ZTYwURRTH3870bM+3g3LQhMMQ\n",
       "4x5UZBEw4YKrLCASySSekBUXiTHxoGM0GhKV0ZNEkDUccInR1hiUaGAgniTAusbEoCyDgcSvSQYh\n",
       "kniAzRI+sgfW+nivu7q7uro3s0cqqZmuef+q96vXVdVVPQBzkeqY1bLvB0q2vr49Cz9SbUeb5xBh\n",
       "Ntp6NLI9iy7GpXJVZrUMsFmj/EffQKaT2A+qdTXmHmEWWtW5mjYrwBX+w73dxfoBzADrv6fyRSj3\n",
       "qxphSTWFxZ92OQAXYjx47cIOR6gv6DEMCNZRBxHKA3EI0drX13ys1XKHAa19dF1NIiDwav7ri12F\n",
       "Oj8sM0Dh7nEsw18ALykaadkP0qJWnv8KQ+11jB6UduFfqQ7XiEM4vLOKCKVmHEKk1h6BEzWNVjgM\n",
       "aL+E1JREQOB3ZQPdJKtfZoDiffuArgGWKRppWaX88jRdXGEg6QGjB3+7Qh2uEYcwvtFJjBCp7alD\n",
       "cUyjtZQZlMHrK9X8dYmAwDzkhWpXsS5iBnjOAfeafSt3X1rGlFoPqR2Fk0YP/nal+qQOw4CQmYbE\n",
       "CNHa4jT03NBoi4o0hcv5UA2uI4IETrOb0Nvdct2HGeCYW+apV7nXwpIajuzoVqMHf7tSvVWHYUAo\n",
       "tJIjRGt7WtBzU6Pt08SaXV1FBAQ+1W7/0l2s12OGJafmYzl/kXkoVFyJtFhNtIQ7etjkwGsX8pcr\n",
       "qD6sw4hGSC84M4AIB1eBGcGohdKkRsudk9aL9bOEgMBPAOzrLtbeKLtF5UKGzb+0Mi5u0SgTlnBH\n",
       "HzF6cNsFC35EtahhtUWqQDzCHR1CaA5BDIJJC7s7Gi13Tlo31h/OayACAr8Ktjf+vhKfWfGJ63/W\n",
       "mxt1tOOOki5+wwz2TSq/ZzEPKW+9k5ZSFS3hjj5oCrXXLlyCKVSHasQgbG8gQra6BmIQTFo4o9My\n",
       "h65WWUOmEAGBc06hxifnIJ/bx+UsEdVxcyILPC0nO+vSw+cbdDPgJ8yQmqSyU2T+spPebRKXxRpa\n",
       "4Kl2+9d2+4zX0d2mWHvtgpOaRnWoRgzCYkCEPExADIJJa43otMyh1LKZ9vcpnGkApx2JgMCpjng0\n",
       "5pY3AuzBjWAe61v8EdEsj8GmYKzlY0JcL2b0mbHAA4THWljCg2rIuL322gWrheohbayjEY5R/CA1\n",
       "DTEIJu0S0Gm5Q9LSuH4f4LOqRCDg4ZVi2QmdDYKxtmryO8cXlgbrFO3o3TUkV3HLW/LMZ8utKy18\n",
       "DRGWcEcXmWKttCvPC4uohrpexyB8BITQW3FiEAxadpZ8U6PlDklLsZ5xeKwFAgEf4Seb1IIj/PAu\n",
       "SA8+rsQaC9w12nOy1O9uyz/FDMUOlfPXCuypwFuQ7qUl10FLuKMrwNX65hL422XLYw3VK4LaGIQJ\n",
       "IIRDtWYMgkH7AcB/UotjZsJ1TlqK9Q9iDREIBPyWCLCo3RGzYKBPiTUrWKMs7YE30C5iXX6ZtYkL\n",
       "trsD216jcnbyNdziXQfPwrc/wuLr6Ik67ee49tAwXrgltV2AR327TDWZEexrQAi77X4jgklrnx0c\n",
       "bEmtZEMtd05aivVSsb/mCC5wj1ioB3m9L/h4zzvfebGmAksb0S7H9YEOZHCV2YUZHxPi+i7mtsT7\n",
       "3XY8S7aFFrWj805vYb+cA9SW+A08C/hR+jPQLtzDP85h9r9AMiLgQ5Mj9CwFI4JJW5qZmRmWWsmG\n",
       "Wu6QtBTrzOC6GiL4gffQrHF3qiOgFFhaKOzrRj8ZHWVk2ZuQVXYqYrfymH/n8rZwLGKNlt91hzYx\n",
       "Olqe1pfuh0C7E6i2W0GpGcGqJEdIqBVsqC01dOdGQggA/8w/Dn0trm+osb5Ba8gOtPNx/W3Dvuqu\n",
       "IfhmJVV53isDvbrhq7NrWaZ78eO9NyqEH4tN8LV7Z3ra97JLTUaEhb3VxAhJtU1Fq76NyvjQVoWA\n",
       "89OQb0KfBd+wITumxDo7pjwb+yyMdclJn4Qy3b+9Ipf2DStlent4kKvJkov48wK2AWkDz8YOqO1m\n",
       "p8RWZptbw5dMCH/sh8QICbWczdPujTqHjYSAWUiz4/D5JdhZhXJFiXXZPVQyz8yOe77j5+seygGR\n",
       "0xfVMpFyINeSj3p5K0nDf3eU1dqs3Q2rvXsbSiaElWshMUJCrTg3u9oDUfvVegiYz4GUuKrSy7GR\n",
       "wJuyTNPbX/ubtzsyq2V+nA6ndyL+3KonevGCPrhaV2PuEWahtSP+xrsUAs4tZGv7MyKizgs7lbMM\n",
       "FXha650b1fLtNLtUuMw+xAhOw4YnlVhTQYj824R07Xbc5iqFJ4qjOdPdTonT/7WehFvREfD6AAAA\n",
       "AElFTkSuQmCC\n",
       "\" style=\"display:inline;vertical-align:middle;\" /></a><br>(see <a class=\"ProveItLink\" href=\"../../../__pv_it/theorems/f9dff376a649c77f4cc14d2fc925c633f30d01380/dependencies.ipynb\">dependencies</a>)<br>"
      ],
      "text/plain": [
       "<IPython.core.display.HTML object>"
      ]
     },
     "metadata": {},
     "output_type": "display_data"
    }
   ],
   "source": [
    "%proving range_4_expansion"
   ]
  },
  {
   "cell_type": "code",
   "execution_count": null,
   "metadata": {},
   "outputs": [],
   "source": []
  }
 ],
 "metadata": {
  "kernelspec": {
   "display_name": "Python 3",
   "language": "python",
   "name": "python3"
  }
 },
 "nbformat": 4,
 "nbformat_minor": 0
}