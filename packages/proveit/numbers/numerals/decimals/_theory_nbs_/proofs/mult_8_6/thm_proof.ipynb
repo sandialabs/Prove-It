{
 "cells": [
  {
   "cell_type": "markdown",
   "metadata": {},
   "source": [
    "Proof of <a class=\"ProveItLink\" href=\"../../../../../../_theory_nbs_/theory.ipynb\">proveit</a>.<a class=\"ProveItLink\" href=\"../../../../../_theory_nbs_/theory.ipynb\">numbers</a>.<a class=\"ProveItLink\" href=\"../../../../_theory_nbs_/theory.ipynb\">numerals</a>.<a class=\"ProveItLink\" href=\"../../theory.ipynb\">decimals</a>.<a class=\"ProveItLink\" href=\"../../theorems.ipynb#mult_8_6\">mult_8_6</a> theorem\n",
    "========"
   ]
  },
  {
   "cell_type": "code",
   "execution_count": 1,
   "metadata": {},
   "outputs": [],
   "source": [
    "import proveit\n",
    "theory = proveit.Theory() # the theorem's theory"
   ]
  },
  {
   "cell_type": "code",
   "execution_count": 2,
   "metadata": {},
   "outputs": [
    {
     "data": {
      "text/html": [
       "With these <a href=\"allowed_presumptions.txt\">allowed</a>/<a href=\"disallowed_presumptions.txt\">disallowed</a> theorem/theory presumptions (e.g., to avoid circular dependencies), we begin our proof of<br><strong id=\"mult_8_6\">mult_8_6:</strong> <a class=\"ProveItLink\" href=\"../../../__pv_it/theorems/14f3cb68085fee42d87d4a6e22477c77395c2a580/expr.ipynb\"><img src=\"data:image/png;base64,iVBORw0KGgoAAAANSUhEUgAAAGEAAAAVBAMAAACkm51HAAAAMFBMVEX///8AAAAAAAAAAAAAAAAA\n",
       "AAAAAAAAAAAAAAAAAAAAAAAAAAAAAAAAAAAAAAAAAAAv3aB7AAAAD3RSTlMAInZUiRDNmWbv3US7\n",
       "qzJazP2FAAAACXBIWXMAAA7EAAAOxAGVKw4bAAABp0lEQVQ4y32TO0jDUBSG/zRN07edRTCdCk4d\n",
       "xLUVKp2UDOIk1KUguAQUWhUxOlg3FdFFBMVNEIqDcys4KEIDDopQ2sFJEMSCYFHquSmNNTfkDIHz\n",
       "n/vd87oBEANnDlKfeZK8dulKjALTmdU/35uZgkfnz0U1SJlsGZDmAA0RK5GwgGcgzxNBAzLwAMg6\n",
       "/LrJdc2n4B4o8cSIgW1gBghQHUYfkVLZN6ByRW0ZmDSJMUD8VmWr8NtuJq4Rr89A6gZFYIm8xsei\n",
       "FTl8SZTNtDaLExHpJKjfefLkzqkV+dSxD/jNKlfOmV2YA9GJwHqbNnXGBjzU6c1K6gDLKsRde1Eg\n",
       "QhyvtYAjulBD6oDUHF0stYGdMqLvNmKDESWIXyojaDBCi01cY1URoSNkyyEojKBrh5OsqhxJT73Y\n",
       "nZlDPPnfR6hebxxPUOKIjmvKQe1UrX1QH1RohdtgwMAeEI6xrYTy8Cu9QDgt0azkNEcMVHClYhN4\n",
       "Jeet0PcSs2tNaqlsB+TajxJ9LJAebDo96EGXx+7XnNSi2/9RddCEihsx66CFXX9bQeG1uMv5X1s/\n",
       "Z/ZH7SeMAAAAAElFTkSuQmCC\n",
       "\" style=\"display:inline;vertical-align:middle;\" /></a><br>(see <a class=\"ProveItLink\" href=\"../../../__pv_it/theorems/ffdf30a1c127255d31bc47348153b99f3dd831fb0/dependencies.ipynb\">dependencies</a>)<br>"
      ],
      "text/plain": [
       "<IPython.core.display.HTML object>"
      ]
     },
     "metadata": {},
     "output_type": "display_data"
    },
    {
     "name": "stdout",
     "output_type": "stream",
     "text": [
      "mult_8_6 may now be readily provable (assuming required theorems are usable).  Simply execute \"%qed\".\n"
     ]
    }
   ],
   "source": [
    "%proving mult_8_6"
   ]
  },
  {
   "cell_type": "code",
   "execution_count": null,
   "metadata": {},
   "outputs": [],
   "source": []
  }
 ],
 "metadata": {
  "kernelspec": {
   "display_name": "Python 3",
   "language": "python",
   "name": "python3"
  }
 },
 "nbformat": 4,
 "nbformat_minor": 0
}