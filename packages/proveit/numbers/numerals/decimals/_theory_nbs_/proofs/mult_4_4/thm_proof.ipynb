{
 "cells": [
  {
   "cell_type": "markdown",
   "metadata": {},
   "source": [
    "Proof of <a class=\"ProveItLink\" href=\"../../../../../../_theory_nbs_/theory.ipynb\">proveit</a>.<a class=\"ProveItLink\" href=\"../../../../../_theory_nbs_/theory.ipynb\">numbers</a>.<a class=\"ProveItLink\" href=\"../../../../_theory_nbs_/theory.ipynb\">numerals</a>.<a class=\"ProveItLink\" href=\"../../theory.ipynb\">decimals</a>.<a class=\"ProveItLink\" href=\"../../theorems.ipynb#mult_4_4\">mult_4_4</a> theorem\n",
    "========"
   ]
  },
  {
   "cell_type": "code",
   "execution_count": 1,
   "metadata": {},
   "outputs": [],
   "source": [
    "import proveit\n",
    "theory = proveit.Theory() # the theorem's theory"
   ]
  },
  {
   "cell_type": "code",
   "execution_count": 2,
   "metadata": {},
   "outputs": [
    {
     "data": {
      "text/html": [
       "With these <a href=\"allowed_presumptions.txt\">allowed</a>/<a href=\"disallowed_presumptions.txt\">disallowed</a> theorem/theory presumptions (e.g., to avoid circular dependencies), we begin our proof of<br><strong id=\"mult_4_4\">mult_4_4:</strong> <a class=\"ProveItLink\" href=\"../../../__pv_it/theorems/daa2027ca3b53bed4698a60c670db976b9933a4c0/expr.ipynb\"><img src=\"data:image/png;base64,iVBORw0KGgoAAAANSUhEUgAAAGEAAAAVBAMAAACkm51HAAAAMFBMVEX///8AAAAAAAAAAAAAAAAA\n",
       "AAAAAAAAAAAAAAAAAAAAAAAAAAAAAAAAAAAAAAAAAAAv3aB7AAAAD3RSTlMAInZUiRDNmWbv3US7\n",
       "qzJazP2FAAAACXBIWXMAAA7EAAAOxAGVKw4bAAABcklEQVQ4y32TPUsDQRCG3yR3+bjEGKzEKqkE\n",
       "Kwux9QrBSskPULQRBBGuEFFROBstFQQbCQhiIwQOeyHaKYJBLFQ4TCEoVlp4oChxZiNxyQ03xXLv\n",
       "zD7zsXsLoICQCS7N4oNh30kkMcTLs+bIO4i7oW35I1qM0QnAnGFd1WJWHZjtBKaWPoDYPB6AFKeL\n",
       "68QAEVvh5olIFnEFZFi+LGjlN4nIlCViRHmHebE1wkgSkXQl4kJ9LbIqaESJCaMuEXtP/R4wR6oX\n",
       "/0TMZSKtzmP1mK3aJgIXu8AhN6URBphI7Ag1zCawUsY+JSy0iGlOvKGI/JtEfAHbHhM9aBGWQ00V\n",
       "FZGVaiAgwuWuTn3/8/YvkPX9x4qNxIE0x6Wqca50RcuW4clr4n3QHMC40t9arJt2p+xOwngHcrZJ\n",
       "Z/XKcq150w6lrn+KsLwOoOs+uAPG1hs0bkP6ofsifva0I3mXo97HmeCL1aKIScGXi3y2dGchK0Xs\n",
       "/wX5q2Ia+JSHtwAAAABJRU5ErkJggg==\n",
       "\" style=\"display:inline;vertical-align:middle;\" /></a><br>(see <a class=\"ProveItLink\" href=\"../../../__pv_it/theorems/6e5bbead6df677f8114e02920a5fc929b5c78c1d0/dependencies.ipynb\">dependencies</a>)<br>"
      ],
      "text/plain": [
       "<IPython.core.display.HTML object>"
      ]
     },
     "metadata": {},
     "output_type": "display_data"
    },
    {
     "name": "stdout",
     "output_type": "stream",
     "text": [
      "mult_4_4 may now be readily provable (assuming required theorems are usable).  Simply execute \"%qed\".\n"
     ]
    }
   ],
   "source": [
    "%proving mult_4_4"
   ]
  },
  {
   "cell_type": "code",
   "execution_count": null,
   "metadata": {},
   "outputs": [],
   "source": []
  }
 ],
 "metadata": {
  "kernelspec": {
   "display_name": "Python 3",
   "language": "python",
   "name": "python3"
  }
 },
 "nbformat": 4,
 "nbformat_minor": 0
}