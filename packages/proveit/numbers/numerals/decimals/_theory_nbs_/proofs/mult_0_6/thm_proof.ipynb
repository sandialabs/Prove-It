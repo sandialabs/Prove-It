{
 "cells": [
  {
   "cell_type": "markdown",
   "metadata": {},
   "source": [
    "Proof of <a class=\"ProveItLink\" href=\"../../../../../../_theory_nbs_/theory.ipynb\">proveit</a>.<a class=\"ProveItLink\" href=\"../../../../../_theory_nbs_/theory.ipynb\">numbers</a>.<a class=\"ProveItLink\" href=\"../../../../_theory_nbs_/theory.ipynb\">numerals</a>.<a class=\"ProveItLink\" href=\"../../theory.ipynb\">decimals</a>.<a class=\"ProveItLink\" href=\"../../theorems.ipynb#mult_0_6\">mult_0_6</a> theorem\n",
    "========"
   ]
  },
  {
   "cell_type": "code",
   "execution_count": 1,
   "metadata": {},
   "outputs": [],
   "source": [
    "import proveit\n",
    "theory = proveit.Theory() # the theorem's theory"
   ]
  },
  {
   "cell_type": "code",
   "execution_count": 2,
   "metadata": {},
   "outputs": [
    {
     "data": {
      "text/html": [
       "With these <a href=\"allowed_presumptions.txt\">allowed</a>/<a href=\"disallowed_presumptions.txt\">disallowed</a> theorem/theory presumptions (e.g., to avoid circular dependencies), we begin our proof of<br><strong id=\"mult_0_6\">mult_0_6:</strong> <a class=\"ProveItLink\" href=\"../../../__pv_it/theorems/c39b50c988dc12adf60f20372d432554fd9b5e840/expr.ipynb\"><img src=\"data:image/png;base64,iVBORw0KGgoAAAANSUhEUgAAAFcAAAAVBAMAAADBdm84AAAAMFBMVEX///8AAAAAAAAAAAAAAAAA\n",
       "AAAAAAAAAAAAAAAAAAAAAAAAAAAAAAAAAAAAAAAAAAAv3aB7AAAAD3RSTlMAInZUiRDNmWbv3US7\n",
       "qzJazP2FAAAACXBIWXMAAA7EAAAOxAGVKw4bAAABd0lEQVQoz3WTvUvDUBRHT5vGph9UZxfj1EnI\n",
       "IK4NpeCikk0UoQURBJcKRVQQsokuLQguglS6CULxHzC6KQqdHaSDk4ui9QMXfa8lKU3SN4SXk5Ob\n",
       "3728AGMEVgjqragRZJfD5GmI5Tf797HCAlE7oBWy4nNqCVZZ9j4c2eAR1vzuiKGeQdxGqxNzPKpz\n",
       "D/t++RDmIAHpFsqnS3OWvCYsn/zQfTIDo2UyHy697dX3h/6GV4MKFIX849Lj52xTdNkadFUp26zD\n",
       "hEnm3cVfNkegleR+91yuC9l2R8g6jZ7ccUv8wY6FUhus3JVNTkQMk5SsXBTl1F+oNsm8+WII+UqX\n",
       "smhQkQ0myzKGkG1StWCDOUPGSDto3ujuupWV+mBmOfuqxY3opka85M1ZZBbI8VU+gC2YF7sGS22X\n",
       "pk1VTCNu+uSkoZ7Ci9gt5p/6eHZPvJhs+mS1MiVxO+wojoefUK0cRreHnOfrEBZxhsgrISw97L+K\n",
       "6EE2Ga7+A7+jWoz1X0mZAAAAAElFTkSuQmCC\n",
       "\" style=\"display:inline;vertical-align:middle;\" /></a><br>(see <a class=\"ProveItLink\" href=\"../../../__pv_it/theorems/7ec60d143a117c8ee29f014e98fe33626a661e560/dependencies.ipynb\">dependencies</a>)<br>"
      ],
      "text/plain": [
       "<IPython.core.display.HTML object>"
      ]
     },
     "metadata": {},
     "output_type": "display_data"
    },
    {
     "name": "stdout",
     "output_type": "stream",
     "text": [
      "mult_0_6 may now be readily provable (assuming required theorems are usable).  Simply execute \"%qed\".\n"
     ]
    }
   ],
   "source": [
    "%proving mult_0_6"
   ]
  },
  {
   "cell_type": "code",
   "execution_count": null,
   "metadata": {},
   "outputs": [],
   "source": []
  }
 ],
 "metadata": {
  "kernelspec": {
   "display_name": "Python 3",
   "language": "python",
   "name": "python3"
  }
 },
 "nbformat": 4,
 "nbformat_minor": 0
}