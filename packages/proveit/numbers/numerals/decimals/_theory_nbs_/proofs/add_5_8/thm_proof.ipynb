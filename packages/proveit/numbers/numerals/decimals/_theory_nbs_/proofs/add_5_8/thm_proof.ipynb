{
 "cells": [
  {
   "cell_type": "markdown",
   "metadata": {},
   "source": [
    "Proof of <a class=\"ProveItLink\" href=\"../../../../../../_theory_nbs_/theory.ipynb\">proveit</a>.<a class=\"ProveItLink\" href=\"../../../../../_theory_nbs_/theory.ipynb\">numbers</a>.<a class=\"ProveItLink\" href=\"../../../../_theory_nbs_/theory.ipynb\">numerals</a>.<a class=\"ProveItLink\" href=\"../../theory.ipynb\">decimals</a>.<a class=\"ProveItLink\" href=\"../../theorems.ipynb#add_5_8\">add_5_8</a> theorem\n",
    "========"
   ]
  },
  {
   "cell_type": "code",
   "execution_count": 1,
   "metadata": {},
   "outputs": [],
   "source": [
    "import proveit\n",
    "theory = proveit.Theory() # the theorem's theory"
   ]
  },
  {
   "cell_type": "code",
   "execution_count": 2,
   "metadata": {},
   "outputs": [
    {
     "data": {
      "text/html": [
       "With these <a href=\"allowed_presumptions.txt\">allowed</a>/<a href=\"disallowed_presumptions.txt\">disallowed</a> theorem/theory presumptions (e.g., to avoid circular dependencies), we begin our proof of<br><strong id=\"add_5_8\">add_5_8:</strong> <a class=\"ProveItLink\" href=\"../../../__pv_it/theorems/d8fd5deb7479204372dee433484642d4c5c66ece0/expr.ipynb\"><img src=\"data:image/png;base64,iVBORw0KGgoAAAANSUhEUgAAAGwAAAAVBAMAAABRZRb3AAAAMFBMVEX///8AAAAAAAAAAAAAAAAA\n",
       "AAAAAAAAAAAAAAAAAAAAAAAAAAAAAAAAAAAAAAAAAAAv3aB7AAAAD3RSTlMAInZUiRDNmWbv3US7\n",
       "qzJazP2FAAAACXBIWXMAAA7EAAAOxAGVKw4bAAABkklEQVQ4y52TPUjDQBTH/63GNqZfg+BS0MFB\n",
       "BzGUIujSRXESMzgKzaK4iAErBUXI5OTqIA6tuGhEcLNuVnByyaaL2rkgfpQuItZ3CZReetfBN9zl\n",
       "cvd77927/wOQgthC6GVhHTUoAlYb7YVlgdKaY/A/l+d2gfHuw3U6N7TwACgmcP49H9i2ENcxEPAF\n",
       "5XHTgGIhpyNiA257o+JPUZu5i1pd0aYMhBvIm1DRiWX8qd/1sjgUYdoxkiamRVjfj8GyWBdhZDkb\n",
       "BZqexl54DK9fWzQuijHtzPd4j5ErHou0Tmjc9z4dz9w2lpikIKfeMlbmsWy6pQMzsiR1HPveP2nY\n",
       "cZwjx7lklaQiUz3eJZjaZFjMROSXi6YaCDWAGxGWqCHWYEmqZcQ/OCzP6gTMiu6WbDLsjl6JyFs+\n",
       "Gkm0ChyIoqkuS5KKHLIwYXCYtoooCbnQhS2lmILo3eq0GN7bDrzbW5GkjIsg9VzasHFdJCkP1jr/\n",
       "Z7iGK8v7htdrpXPB9CW1qnQn3atNV/7hkN1A1vvhlBz6A9uwZOf//75fAAAAAElFTkSuQmCC\n",
       "\" style=\"display:inline;vertical-align:middle;\" /></a><br>(see <a class=\"ProveItLink\" href=\"../../../__pv_it/theorems/9dd3f05c1d2563525593653370f368447d9c7f630/dependencies.ipynb\">dependencies</a>)<br>"
      ],
      "text/plain": [
       "<IPython.core.display.HTML object>"
      ]
     },
     "metadata": {},
     "output_type": "display_data"
    },
    {
     "name": "stdout",
     "output_type": "stream",
     "text": [
      "add_5_8 may now be readily provable (assuming required theorems are usable).  Simply execute \"%qed\".\n"
     ]
    }
   ],
   "source": [
    "%proving add_5_8"
   ]
  },
  {
   "cell_type": "code",
   "execution_count": null,
   "metadata": {},
   "outputs": [],
   "source": []
  }
 ],
 "metadata": {
  "kernelspec": {
   "display_name": "Python 3",
   "language": "python",
   "name": "python3"
  }
 },
 "nbformat": 4,
 "nbformat_minor": 0
}