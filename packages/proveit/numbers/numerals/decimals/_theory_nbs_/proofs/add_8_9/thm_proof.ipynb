{
 "cells": [
  {
   "cell_type": "markdown",
   "metadata": {},
   "source": [
    "Proof of <a class=\"ProveItLink\" href=\"../../../../../../_theory_nbs_/theory.ipynb\">proveit</a>.<a class=\"ProveItLink\" href=\"../../../../../_theory_nbs_/theory.ipynb\">numbers</a>.<a class=\"ProveItLink\" href=\"../../../../_theory_nbs_/theory.ipynb\">numerals</a>.<a class=\"ProveItLink\" href=\"../../theory.ipynb\">decimals</a>.<a class=\"ProveItLink\" href=\"../../theorems.ipynb#add_8_9\">add_8_9</a> theorem\n",
    "========"
   ]
  },
  {
   "cell_type": "code",
   "execution_count": 1,
   "metadata": {},
   "outputs": [],
   "source": [
    "import proveit\n",
    "theory = proveit.Theory() # the theorem's theory"
   ]
  },
  {
   "cell_type": "code",
   "execution_count": 2,
   "metadata": {},
   "outputs": [
    {
     "data": {
      "text/html": [
       "With these <a href=\"allowed_presumptions.txt\">allowed</a>/<a href=\"disallowed_presumptions.txt\">disallowed</a> theorem/theory presumptions (e.g., to avoid circular dependencies), we begin our proof of<br><strong id=\"add_8_9\">add_8_9:</strong> <a class=\"ProveItLink\" href=\"../../../__pv_it/theorems/2817376fd5c4655ab2b4e3935673bec7607ce1370/expr.ipynb\"><img src=\"data:image/png;base64,iVBORw0KGgoAAAANSUhEUgAAAG0AAAAVBAMAAAC+p33JAAAAMFBMVEX///8AAAAAAAAAAAAAAAAA\n",
       "AAAAAAAAAAAAAAAAAAAAAAAAAAAAAAAAAAAAAAAAAAAv3aB7AAAAD3RSTlMAInZUiRDNmWbv3US7\n",
       "qzJazP2FAAAACXBIWXMAAA7EAAAOxAGVKw4bAAABmElEQVQ4y52UPUjDUBDH/2ka21qLXYUOGRzc\n",
       "LEUEXVyKm5pBcBHSRXARCwoBu2TRyUGQDtLBj9IlKjjWrXXRsYvoInZVKEKrqPgR7yVF+9LXDB68\n",
       "3JHjd/+8e+8CIA6xSfC1QLJHIqqKy226fgyYT+c8yZBxDYx0Q48aZNu23wElA2QR40WVIzzE0ad5\n",
       "KOVmVUPw0jCKVNlE2HRoZmXXxXYwUEE426U3Shx9KiUiQLD2y6VcN5hB8AXIiziZylI0DsifGql2\n",
       "cnoFgQ9gWcSRzdJap3XfXEOX3hswI+akCtyaIfuQ59j+msCW01rLsdofFzujR5EdRcJOcpxSQKMF\n",
       "TIj1hlhUAOvbFGvBhmXtWdYpe7swnPoGnsTcdJuLaJBanB4Z6+e5mDuB+506uVsvR+eHSeH+lC8W\n",
       "XZAe3ewqx8l56HVgW6gXfWUR9Tq6hLDKcYESrtpnxNscScjPzk2l1TBy/DkgbbBeH3uxu/0VE9Iu\n",
       "C/vrnYkUNzEHPuPHX94yN0ym39xWe2YSvvO++I+Kzi7UXj+QuA/1A0rMZC31wzL2AAAAAElFTkSu\n",
       "QmCC\n",
       "\" style=\"display:inline;vertical-align:middle;\" /></a><br>(see <a class=\"ProveItLink\" href=\"../../../__pv_it/theorems/0f474cc302f879e1c46496ce6531429335237e840/dependencies.ipynb\">dependencies</a>)<br>"
      ],
      "text/plain": [
       "<IPython.core.display.HTML object>"
      ]
     },
     "metadata": {},
     "output_type": "display_data"
    },
    {
     "name": "stdout",
     "output_type": "stream",
     "text": [
      "add_8_9 may now be readily provable (assuming required theorems are usable).  Simply execute \"%qed\".\n"
     ]
    }
   ],
   "source": [
    "%proving add_8_9"
   ]
  },
  {
   "cell_type": "code",
   "execution_count": null,
   "metadata": {},
   "outputs": [],
   "source": []
  }
 ],
 "metadata": {
  "kernelspec": {
   "display_name": "Python 3",
   "language": "python",
   "name": "python3"
  }
 },
 "nbformat": 4,
 "nbformat_minor": 0
}