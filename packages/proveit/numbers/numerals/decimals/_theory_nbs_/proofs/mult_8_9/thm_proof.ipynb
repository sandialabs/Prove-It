{
 "cells": [
  {
   "cell_type": "markdown",
   "metadata": {},
   "source": [
    "Proof of <a class=\"ProveItLink\" href=\"../../../../../../_theory_nbs_/theory.ipynb\">proveit</a>.<a class=\"ProveItLink\" href=\"../../../../../_theory_nbs_/theory.ipynb\">numbers</a>.<a class=\"ProveItLink\" href=\"../../../../_theory_nbs_/theory.ipynb\">numerals</a>.<a class=\"ProveItLink\" href=\"../../theory.ipynb\">decimals</a>.<a class=\"ProveItLink\" href=\"../../theorems.ipynb#mult_8_9\">mult_8_9</a> theorem\n",
    "========"
   ]
  },
  {
   "cell_type": "code",
   "execution_count": 1,
   "metadata": {},
   "outputs": [],
   "source": [
    "import proveit\n",
    "theory = proveit.Theory() # the theorem's theory"
   ]
  },
  {
   "cell_type": "code",
   "execution_count": 2,
   "metadata": {},
   "outputs": [
    {
     "data": {
      "text/html": [
       "With these <a href=\"allowed_presumptions.txt\">allowed</a>/<a href=\"disallowed_presumptions.txt\">disallowed</a> theorem/theory presumptions (e.g., to avoid circular dependencies), we begin our proof of<br><strong id=\"mult_8_9\">mult_8_9:</strong> <a class=\"ProveItLink\" href=\"../../../__pv_it/theorems/8199112a9241498fac465274c3494686454d5a0e0/expr.ipynb\"><img src=\"data:image/png;base64,iVBORw0KGgoAAAANSUhEUgAAAGEAAAAVBAMAAACkm51HAAAAMFBMVEX///8AAAAAAAAAAAAAAAAA\n",
       "AAAAAAAAAAAAAAAAAAAAAAAAAAAAAAAAAAAAAAAAAAAv3aB7AAAAD3RSTlMAInZUiRDNmWbv3US7\n",
       "qzJazP2FAAAACXBIWXMAAA7EAAAOxAGVKw4bAAABpUlEQVQ4y32Tu0srURDGf5uHWaMu6XyQIrY2\n",
       "phDByoAXbK54ChtFiI1gYRGuwooPSGerhYVYqNxOuBj8B4zWgrHzUWRrQRAFG8W9sxtilrPLTnEe\n",
       "3znf+WbmzAA5QhYBBSxRDGMXIWRAddZjMPdrq7O3dxSJqs6YdF13z7BXHUgvQYW+H6GFgrUPyzrj\n",
       "t21vFvOkPiFTxaz6vJY9wA3s6owS9HMHh9ANqUaA8QGzim6lMcSHBseKZo5xSH6pTNvx9BeM1ugK\n",
       "BULK4RGaDuuyab6tEdSoerK65f3xHFZkyrinBOK4LWD6Xm6eefavdfDkDdYb/PUSnHd/cjVfs5pF\n",
       "knu6hOEjWdE+ArPC5IFsy97D6T9Tow7WaygMX3UbnyGJMd69ByqtQ8lVT0gjW5fB9MITr8oy3QcO\n",
       "5T+SJ3oc5YZfH0aOa9GQwrtqX59Q6W95rK5rXIoDVomEYgZ6ljEL7ZMR1St/kSmFCkuQISkVeJbd\n",
       "i92pxNS0t87WdMagZPPcdeW7sk5UCwzFtIdZiUI34jrqKgIz6nGMxQisN7ZtjUIYG465/x+3rmUE\n",
       "JmlLGwAAAABJRU5ErkJggg==\n",
       "\" style=\"display:inline;vertical-align:middle;\" /></a><br>(see <a class=\"ProveItLink\" href=\"../../../__pv_it/theorems/e44412560512e9ce048f11f806fe16c38105756e0/dependencies.ipynb\">dependencies</a>)<br>"
      ],
      "text/plain": [
       "<IPython.core.display.HTML object>"
      ]
     },
     "metadata": {},
     "output_type": "display_data"
    },
    {
     "name": "stdout",
     "output_type": "stream",
     "text": [
      "mult_8_9 may now be readily provable (assuming required theorems are usable).  Simply execute \"%qed\".\n"
     ]
    }
   ],
   "source": [
    "%proving mult_8_9"
   ]
  },
  {
   "cell_type": "code",
   "execution_count": null,
   "metadata": {},
   "outputs": [],
   "source": []
  }
 ],
 "metadata": {
  "kernelspec": {
   "display_name": "Python 3",
   "language": "python",
   "name": "python3"
  }
 },
 "nbformat": 4,
 "nbformat_minor": 0
}