{
 "cells": [
  {
   "cell_type": "markdown",
   "metadata": {},
   "source": [
    "Proof of <a class=\"ProveItLink\" href=\"../../../../../../_theory_nbs_/theory.ipynb\">proveit</a>.<a class=\"ProveItLink\" href=\"../../../../../_theory_nbs_/theory.ipynb\">numbers</a>.<a class=\"ProveItLink\" href=\"../../../../_theory_nbs_/theory.ipynb\">numerals</a>.<a class=\"ProveItLink\" href=\"../../theory.ipynb\">decimals</a>.<a class=\"ProveItLink\" href=\"../../theorems.ipynb#mult_5_9\">mult_5_9</a> theorem\n",
    "========"
   ]
  },
  {
   "cell_type": "code",
   "execution_count": 1,
   "metadata": {},
   "outputs": [],
   "source": [
    "import proveit\n",
    "theory = proveit.Theory() # the theorem's theory"
   ]
  },
  {
   "cell_type": "code",
   "execution_count": 2,
   "metadata": {},
   "outputs": [
    {
     "data": {
      "text/html": [
       "With these <a href=\"allowed_presumptions.txt\">allowed</a>/<a href=\"disallowed_presumptions.txt\">disallowed</a> theorem/theory presumptions (e.g., to avoid circular dependencies), we begin our proof of<br><strong id=\"mult_5_9\">mult_5_9:</strong> <a class=\"ProveItLink\" href=\"../../../__pv_it/theorems/b71b63525b31d15cfc82de2ca2072b87cb5cea4e0/expr.ipynb\"><img src=\"data:image/png;base64,iVBORw0KGgoAAAANSUhEUgAAAGEAAAAVBAMAAACkm51HAAAAMFBMVEX///8AAAAAAAAAAAAAAAAA\n",
       "AAAAAAAAAAAAAAAAAAAAAAAAAAAAAAAAAAAAAAAAAAAv3aB7AAAAD3RSTlMAInZUiRDNmWbv3US7\n",
       "qzJazP2FAAAACXBIWXMAAA7EAAAOxAGVKw4bAAABnUlEQVQ4y32Tv0vDQBTHv2mbpmlj7FZwMQUX\n",
       "u7SDCG4FEadiHBXBLoo4BVEqSrE66KqDiz9oQR0sCMG/oAo6iNBs6lCb2UmXDv7Cu2hqkgt5kOTu\n",
       "vfd5P+7lACTBiI/KIaEcTPBun0t/VxmYJJ8hoDpfV7vqUllFqOLjrkHsLJ4BfBE4fx/rGqYVeQ+Y\n",
       "Y4m4gXj1lEQWSDjDYXgC7oEdlsgY6LEWItxEB5hQIapMUds2Mewm+E8gqyPKNBKJ2sQyeR4Hnl05\n",
       "KogYXiJNia2CCSyQ3Q36dUcfTQWxIl2v1alc0CVXIYSkch/AieUn1WxiSpfbOYR3vUUhaqW9Aw4t\n",
       "hfBGXrM0ML80mjUhv3qIzT9iI0kJqQjhm5649mslZ5Xw5OAUStwSwqRViTX0OGOSeYRr7j4SrVb7\n",
       "OH8AtIFrWiPEhu0+ovIkX6zBTFA0kAeOgAJJqWGwO7GMKpFZCHmG6G0ghdA+8EI2qfLK/6GMr9OW\n",
       "dC8gNL8UrvRAIsdNv/+6L+B6xDQ/7WrQjbry0XGNIGLGRycFXlsyHEbSAf4/SLpko1x/TpkAAAAA\n",
       "SUVORK5CYII=\n",
       "\" style=\"display:inline;vertical-align:middle;\" /></a><br>(see <a class=\"ProveItLink\" href=\"../../../__pv_it/theorems/f9a7288d12b88f3a82300a44b1f06648ce6ecdb90/dependencies.ipynb\">dependencies</a>)<br>"
      ],
      "text/plain": [
       "<IPython.core.display.HTML object>"
      ]
     },
     "metadata": {},
     "output_type": "display_data"
    },
    {
     "name": "stdout",
     "output_type": "stream",
     "text": [
      "mult_5_9 may now be readily provable (assuming required theorems are usable).  Simply execute \"%qed\".\n"
     ]
    }
   ],
   "source": [
    "%proving mult_5_9"
   ]
  },
  {
   "cell_type": "code",
   "execution_count": null,
   "metadata": {},
   "outputs": [],
   "source": []
  }
 ],
 "metadata": {
  "kernelspec": {
   "display_name": "Python 3",
   "language": "python",
   "name": "python3"
  }
 },
 "nbformat": 4,
 "nbformat_minor": 0
}