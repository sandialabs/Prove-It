{
 "cells": [
  {
   "cell_type": "markdown",
   "metadata": {},
   "source": [
    "Proof of <a class=\"ProveItLink\" href=\"../../../../../../_theory_nbs_/theory.ipynb\">proveit</a>.<a class=\"ProveItLink\" href=\"../../../../../_theory_nbs_/theory.ipynb\">numbers</a>.<a class=\"ProveItLink\" href=\"../../../../_theory_nbs_/theory.ipynb\">numerals</a>.<a class=\"ProveItLink\" href=\"../../theory.ipynb\">decimals</a>.<a class=\"ProveItLink\" href=\"../../theorems.ipynb#deci_sequence_is_nat\">deci_sequence_is_nat</a> theorem\n",
    "========"
   ]
  },
  {
   "cell_type": "code",
   "execution_count": 1,
   "metadata": {},
   "outputs": [],
   "source": [
    "import proveit\n",
    "theory = proveit.Theory() # the theorem's theory"
   ]
  },
  {
   "cell_type": "code",
   "execution_count": 2,
   "metadata": {},
   "outputs": [
    {
     "data": {
      "text/html": [
       "With these <a href=\"allowed_presumptions.txt\">allowed</a>/<a href=\"disallowed_presumptions.txt\">disallowed</a> theorem/theory presumptions (e.g., to avoid circular dependencies), we begin our proof of<br><strong id=\"deci_sequence_is_nat\">deci_sequence_is_nat:</strong> <a class=\"ProveItLink\" href=\"../../../__pv_it/theorems/c250efbba5167ebc263c9c6b19d12d998b380a950/expr.ipynb\"><img src=\"data:image/png;base64,iVBORw0KGgoAAAANSUhEUgAAAa0AAAAZBAMAAABwVGzTAAAAMFBMVEX///8AAAAAAAAAAAAAAAAA\n",
       "AAAAAAAAAAAAAAAAAAAAAAAAAAAAAAAAAAAAAAAAAAAv3aB7AAAAD3RSTlMAq1RmmUTNIjK7EInv\n",
       "3XZ/CtNrAAAACXBIWXMAAA7EAAAOxAGVKw4bAAAFM0lEQVRYw9VYb2gbZRh/Ln8vd0kav8iGUjJE\n",
       "rdPVrK7DDamBpjKsfzrcJ92Hgh/EfdiuOCedusUhqLClRSm14p9TYaBtl8xOdAqjOEadQyzSrXMu\n",
       "GP+gjtItCnNjYOvzvO/dm7tcbjmMMPtALk9++eW59/fe8zz35ADqm1SchSVl88WkF1oIlpr5U9dA\n",
       "V1h42n8SpQZ+TXT9ZDrxZANRgiX7Z+WHkS2gfnOM4agrQeBN9XR5YHk1X8H0bm8ozs9VnyPJjQB5\n",
       "jqOuLsKeqKfLA8ur7cfXPngId7i3oTghvaq7zaopiHIcdb1AOTlYT5cHllfrxNcFmAEIpBrrDekq\n",
       "Xbfhxsc4jrpInpqsp8sDy6tN4usBWADa24bsK6NK3yqeYrqeKu0gXYSjLmodobp9wwPLa3lh9t11\n",
       "tuOPJNzSYKTHef/YauSjpC2LF2Icp+V+XSyeqN8P67M8WqAAyiLaJHRTbt/wm7Wv9R3ZVae7W/gH\n",
       "2XGHWWaSFoGhGMdJ1waAN2pEKNh1ubC8mbXCQ1RVC/4rfL83a5Erlt49Be/oV41k5a8FWzOTNDk9\n",
       "Ps5x0tUH4USNCGm7LheWJ1udlSc+MT/EsEqVP9UywLfoHIXANChrje/GUvAgKJ9f56qN8w27gx17\n",
       "K7qgzfcmx0lXRFd7rFd65mO4J+HQVcXyNBHwSMqhLLaI/SYaxTDyZQlXdwyTsgyxAuTmje8eBvge\n",
       "ApalO5KY8Q0boIOMBVL8ztAl6TdynHT5SpWGkFs+BCtUPaA7dFlZXkxECndrdLts0iu6jPpCXdFB\n",
       "yKPOVcZ3x0G5CE094ctuUQ2+kZPsCg5arpeSGOc4m6N6O8R2bKCpopRW4VBmJtNjm6MqLE/dQUR6\n",
       "nsKoyTs1Sx6uW7iwNUl5mC/BvSB0KQvgL4Nfd9fF+WvuPp8Wv5q26IJchONM10db0OnM/WKMJi03\n",
       "71Kd9cVYMNph1okyMeecWiugJdJqEvb0mBh3sJ9J0014fBvXmYTrfRpboU5lB1LvrbgLWHK1mw/j\n",
       "72w/ClP4YR2Dz4vAWbyXvcJxpus5rKb3N6eiGr+mLep7j9XQRSxlVr5kYOPagFOXAG2RVqSwOsXp\n",
       "VYwTGdydZP04UvLNBNgOK38BKV2VxvPu0yFP7YAODBcO44cP9AI1xW6+OHNaYM59HGe6JBS681es\n",
       "gCAbbFogfa6GLmIF0vIkhFm/z8BeCLZ22XURyBu2NRK82OOfEzOTjIkjlcY0GhJBaf6073eeUUW8\n",
       "Hu/OvdScZSeInaGUpTXMmA4ROF8qBWloOcm3cPmjPO6248bwedL6P6UZy83/5MjIq7ia0ZDz/mXU\n",
       "fDwBe+iUWPQ/YpfL23URyGc3a6QqOy06ftb0SJdPNPft8AzASuegIgjRbCCN8o3KCh7mc5Row9NW\n",
       "XV9CRpYLfJeDrS7/v/JaZL0OpEu5BK99GDYvj1leBPq72gpgibQ9k8nY7hBrnIMr6VLFul5/+X7b\n",
       "tpoJLLzdENuTdR2bCRe6wmU43cIninYwd915vbSBR0iXUoAp+eJ6gCFyR8WBQN85alEukVh9i7oc\n",
       "Nt6f3XYE4IA4yeJiGZSS43eCABshPgHQ79Iz+63/l4MJwBLox8yQT+H9zUVXsLMVA54B+QvY1Ib8\n",
       "QJbcvZo8RQcDXBbGKneJZL/jfGCF7ULizt9VKx120TXsfA6gHB4Zqv8cAPPQx73P4sIF4U3H23W3\n",
       "SMzEaBsuNTA/x7Wr4P/m+UbuRBJ4Cwot/g2GS8Y9JeGbWCrPoxzPD1O13BT8X2z+bOofasB3ujG+\n",
       "UHwAAAAASUVORK5CYII=\n",
       "\" style=\"display:inline;vertical-align:middle;\" /></a><br>(see <a class=\"ProveItLink\" href=\"../../../__pv_it/theorems/5aa06da46723f581c683555c49d0c780940928170/dependencies.ipynb\">dependencies</a>)<br>"
      ],
      "text/plain": [
       "<IPython.core.display.HTML object>"
      ]
     },
     "metadata": {},
     "output_type": "display_data"
    }
   ],
   "source": [
    "%proving deci_sequence_is_nat"
   ]
  },
  {
   "cell_type": "code",
   "execution_count": null,
   "metadata": {},
   "outputs": [],
   "source": []
  }
 ],
 "metadata": {
  "kernelspec": {
   "display_name": "Python 3",
   "language": "python",
   "name": "python3"
  }
 },
 "nbformat": 4,
 "nbformat_minor": 0
}