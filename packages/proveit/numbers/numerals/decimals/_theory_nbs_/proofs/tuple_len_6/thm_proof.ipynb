{
 "cells": [
  {
   "cell_type": "markdown",
   "metadata": {},
   "source": [
    "Proof of <a class=\"ProveItLink\" href=\"../../../../../../_theory_nbs_/theory.ipynb\">proveit</a>.<a class=\"ProveItLink\" href=\"../../../../../_theory_nbs_/theory.ipynb\">numbers</a>.<a class=\"ProveItLink\" href=\"../../../../_theory_nbs_/theory.ipynb\">numerals</a>.<a class=\"ProveItLink\" href=\"../../theory.ipynb\">decimals</a>.<a class=\"ProveItLink\" href=\"../../theorems.ipynb#tuple_len_6\">tuple_len_6</a> theorem\n",
    "========"
   ]
  },
  {
   "cell_type": "code",
   "execution_count": 1,
   "metadata": {},
   "outputs": [],
   "source": [
    "import proveit\n",
    "theory = proveit.Theory() # the theorem's theory"
   ]
  },
  {
   "cell_type": "code",
   "execution_count": 2,
   "metadata": {},
   "outputs": [
    {
     "data": {
      "text/html": [
       "With these <a href=\"allowed_presumptions.txt\">allowed</a>/<a href=\"disallowed_presumptions.txt\">disallowed</a> theorem/theory presumptions (e.g., to avoid circular dependencies), we begin our proof of<br><strong id=\"tuple_len_6\">tuple_len_6:</strong> <a class=\"ProveItLink\" href=\"../../../__pv_it/theorems/eae846e7fd5c89e1adf791e854e68400f20820f70/expr.ipynb\"><img src=\"data:image/png;base64,iVBORw0KGgoAAAANSUhEUgAAASMAAAAWBAMAAAB5zue0AAAAMFBMVEX///8AAAAAAAAAAAAAAAAA\n",
       "AAAAAAAAAAAAAAAAAAAAAAAAAAAAAAAAAAAAAAAAAAAv3aB7AAAAD3RSTlMAq1RmmUTNIjK7EInv\n",
       "3XZ/CtNrAAAACXBIWXMAAA7EAAAOxAGVKw4bAAAEBUlEQVRIx51WXWhcRRT+cnc3u3vv7u2CPgTE\n",
       "sFJqwVq7QinGh3XL4k8b2wb6UqRo8IfSPsjmUdRkS0EfGklQQQxqb6EUSorZNi2WlsYSrG0tkVgQ\n",
       "Q0tg20S0LYRaMQbF1XPm597d7Kxhdy535sw5M3O+OfPND9B8itInUgEtpf/r3eKQt+D0cOmmW+sf\n",
       "KYvitMn2Mv0pFlY3M6JVUpDWVWuPTRmavvdNva77LObMkJxzZ+BmgGe5sqcZSEchIdm9NerXTW3v\n",
       "12mcjkm0eyZI0TfwMLAP2M+V4WYg5RWkcGYF77REf9WpEmtGEMqZILWX8SmwEQKx0xQpLihIiZW8\n",
       "U7vpOtUrHKHvTJA2iNglPIRoru1NUalXQXp0Je80cK5OdZ6z10yQPpNdCM/U7OzVZiCFSwpSN9f6\n",
       "JvqV986bKtbOwlNS6JsYUqrRha2q95NTD1J+wgTp24PzNKxD++0FYKQZSDwNAYmnGrmEQyLeGNtn\n",
       "/ylZeg1b5FL6tsgMDuruFc42+ZC2zXL6gcXFDCaBEC1CH6Ip3T62t8b718WqypG8LJNpBeka/ccz\n",
       "2OYz4XtpLymBbM9J20AGP+tttcT544Yo2f8CL3qwiKpxT54yIj1U02qguvLRLrVlehSki/TvAG5I\n",
       "NXn/Wwg7PNUhsB1auKtdWPc4HzJB+gd4pgcxamCVq9h9uabV7eqK3lE1kK7A/kOqbyAij4ErukNg\n",
       "+235Ltht4tIiQcogQlFCb5YJmP2KF65yk+fozJWF6k1Bzaw4fx65mq5fOLuC0D19LIUFaLuiZx3Y\n",
       "KoHfuCDJehOXPhdRshjzSTow7Z9iTE73usvb9sfYBaHidbdn5J0T0sdpvKwgfUHG+2jrXQuexhJz\n",
       "h4Xfic4sVNlo/SzYMsbifusynkvEJeXnHXIZzjEKxDNM+PCwXRQqnmRb6m0RpbA+YniXCkgnBKz1\n",
       "uZxNIccD+BhCoO12RgiBbRPs5zEm7p8BQapuE6R4yZ6UZwzaikwQl2ORKIZTki1CxYAT+cdkB319\n",
       "xKYVpA/oP3z3/c4iZikUh09RAxac8awnNb7NHSduJK+rUPAyGK/dU5sJSVJvhLFC/GnquwoJYsqq\n",
       "glLd8XSF0eqeMwpS0tdYXkOhShJT2yxOgumGjxO861+GhaGd3iiSXhdG0d6D0iirDpAqnkbJpmCO\n",
       "+UNvVJBC/m3hNBaqJBrESr0K/8I+3ehSV5dm/olxDKZj28uUR/NZbzCtVPb2rBejNR4M1ryg3kuf\n",
       "aM2XjYVAsonYyRFBqLcaP+GWP0rSdbkqLBEbPfawgnRMa8qNhUByObDzhWAuRkjx2pduxFue6+Il\n",
       "fNgRtOuHK2gULbf20HWl219Ntl9qq6G6XBcZTLTovoX0H/ikH5VE5EjnAAAAAElFTkSuQmCC\n",
       "\" style=\"display:inline;vertical-align:middle;\" /></a><br>(see <a class=\"ProveItLink\" href=\"../../../__pv_it/theorems/65aa554d3785645f943ee2c4ade7cda33224bf4c0/dependencies.ipynb\">dependencies</a>)<br>"
      ],
      "text/plain": [
       "<IPython.core.display.HTML object>"
      ]
     },
     "metadata": {},
     "output_type": "display_data"
    }
   ],
   "source": [
    "%proving tuple_len_6"
   ]
  },
  {
   "cell_type": "code",
   "execution_count": null,
   "metadata": {},
   "outputs": [],
   "source": []
  }
 ],
 "metadata": {
  "kernelspec": {
   "display_name": "Python 3",
   "language": "python",
   "name": "python3"
  }
 },
 "nbformat": 4,
 "nbformat_minor": 0
}