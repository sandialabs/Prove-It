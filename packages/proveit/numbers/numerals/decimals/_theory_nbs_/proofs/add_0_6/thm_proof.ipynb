{
 "cells": [
  {
   "cell_type": "markdown",
   "metadata": {},
   "source": [
    "Proof of <a class=\"ProveItLink\" href=\"../../../../../../_theory_nbs_/theory.ipynb\">proveit</a>.<a class=\"ProveItLink\" href=\"../../../../../_theory_nbs_/theory.ipynb\">numbers</a>.<a class=\"ProveItLink\" href=\"../../../../_theory_nbs_/theory.ipynb\">numerals</a>.<a class=\"ProveItLink\" href=\"../../theory.ipynb\">decimals</a>.<a class=\"ProveItLink\" href=\"../../theorems.ipynb#add_0_6\">add_0_6</a> theorem\n",
    "========"
   ]
  },
  {
   "cell_type": "code",
   "execution_count": 1,
   "metadata": {},
   "outputs": [],
   "source": [
    "import proveit\n",
    "theory = proveit.Theory() # the theorem's theory"
   ]
  },
  {
   "cell_type": "code",
   "execution_count": 2,
   "metadata": {},
   "outputs": [
    {
     "data": {
      "text/html": [
       "With these <a href=\"allowed_presumptions.txt\">allowed</a>/<a href=\"disallowed_presumptions.txt\">disallowed</a> theorem/theory presumptions (e.g., to avoid circular dependencies), we begin our proof of<br><strong id=\"add_0_6\">add_0_6:</strong> <a class=\"ProveItLink\" href=\"../../../__pv_it/theorems/ec44cb46afd7a3e6185ba2f61e19375ac6f641370/expr.ipynb\"><img src=\"data:image/png;base64,iVBORw0KGgoAAAANSUhEUgAAAGEAAAAVBAMAAACkm51HAAAAMFBMVEX///8AAAAAAAAAAAAAAAAA\n",
       "AAAAAAAAAAAAAAAAAAAAAAAAAAAAAAAAAAAAAAAAAAAv3aB7AAAAD3RSTlMAInZUiRDNmWbv3US7\n",
       "qzJazP2FAAAACXBIWXMAAA7EAAAOxAGVKw4bAAABY0lEQVQ4y3WTPUjDQBTH/2kSk9oQnV2sk6sU\n",
       "cTUUwUnJJopgQATBpYKDCkI2RwuCIF0KbgEhdOoY3RSHzA7SwclJ/Cjioi95RXJn7obc3e/ld3fv\n",
       "PgBMoryoOCpzikBPZcwDRnNfgsbSKirhv38zDDMAtrEhLkHbwyOwIwuMrRB2F0bCrM/VWB0PwKls\n",
       "MK4CTgr9k1mDq0U/+1Z9yWC8AEy04L4Lxh0PKSfC+ADYIuNLMC6eZ2PKM5UMxrvAtAf3TTCGIc4B\n",
       "O8jaVpSX9A9fsfFRNMwf4MiH3hanGOEOrcpDLZvjOIouo+iaQt/AWQz3VTIYd/LMdTHzIYVC1KQ5\n",
       "RphW5SSwxd29zwfTu1IejG8pwzasQDwPWjDxRD6PHK8gy359IBiOZ9KmWJ5kMH6h1lrzCYKB5RMa\n",
       "YjyWrwnjQRE1ip2p8stut4q9frFzqHgfN6qHoyWKwKbKcFTPVqsrAjPl+Be622Fh9sqPqQAAAABJ\n",
       "RU5ErkJggg==\n",
       "\" style=\"display:inline;vertical-align:middle;\" /></a><br>(see <a class=\"ProveItLink\" href=\"../../../__pv_it/theorems/1904b39b29edb0b6d099dd7271b22cecb467b5ac0/dependencies.ipynb\">dependencies</a>)<br>"
      ],
      "text/plain": [
       "<IPython.core.display.HTML object>"
      ]
     },
     "metadata": {},
     "output_type": "display_data"
    },
    {
     "name": "stdout",
     "output_type": "stream",
     "text": [
      "add_0_6 may now be readily provable (assuming required theorems are usable).  Simply execute \"%qed\".\n"
     ]
    }
   ],
   "source": [
    "%proving add_0_6"
   ]
  },
  {
   "cell_type": "code",
   "execution_count": null,
   "metadata": {},
   "outputs": [],
   "source": []
  }
 ],
 "metadata": {
  "kernelspec": {
   "display_name": "Python 3",
   "language": "python",
   "name": "python3"
  }
 },
 "nbformat": 4,
 "nbformat_minor": 0
}