{
 "cells": [
  {
   "cell_type": "markdown",
   "metadata": {},
   "source": [
    "Proof of <a class=\"ProveItLink\" href=\"../../../../../../_theory_nbs_/theory.ipynb\">proveit</a>.<a class=\"ProveItLink\" href=\"../../../../../_theory_nbs_/theory.ipynb\">numbers</a>.<a class=\"ProveItLink\" href=\"../../../../_theory_nbs_/theory.ipynb\">numerals</a>.<a class=\"ProveItLink\" href=\"../../theory.ipynb\">decimals</a>.<a class=\"ProveItLink\" href=\"../../theorems.ipynb#add_8_5\">add_8_5</a> theorem\n",
    "========"
   ]
  },
  {
   "cell_type": "code",
   "execution_count": 1,
   "metadata": {},
   "outputs": [],
   "source": [
    "import proveit\n",
    "theory = proveit.Theory() # the theorem's theory"
   ]
  },
  {
   "cell_type": "code",
   "execution_count": 2,
   "metadata": {},
   "outputs": [
    {
     "data": {
      "text/html": [
       "With these <a href=\"allowed_presumptions.txt\">allowed</a>/<a href=\"disallowed_presumptions.txt\">disallowed</a> theorem/theory presumptions (e.g., to avoid circular dependencies), we begin our proof of<br><strong id=\"add_8_5\">add_8_5:</strong> <a class=\"ProveItLink\" href=\"../../../__pv_it/theorems/ccd55a7ff5fe90e89a7962eee3fc282d3ba52d530/expr.ipynb\"><img src=\"data:image/png;base64,iVBORw0KGgoAAAANSUhEUgAAAGwAAAAVBAMAAABRZRb3AAAAMFBMVEX///8AAAAAAAAAAAAAAAAA\n",
       "AAAAAAAAAAAAAAAAAAAAAAAAAAAAAAAAAAAAAAAAAAAv3aB7AAAAD3RSTlMAInZUiRDNmWbv3US7\n",
       "qzJazP2FAAAACXBIWXMAAA7EAAAOxAGVKw4bAAABkklEQVQ4y52TPUjDQBTH/62NaUw/MgguBTs4\n",
       "6CCGIoIuXRQnMYOj0CyKixiwUrAImZxcHcShFReNCG7WzQpOLtl0UTsXxI/SRcT6rtXSSy8dfMPl\n",
       "7uX97n3cewA0iCWAXhLUBcoKJE1N9sImgaXZvEdZWHUMjHYbVw1gcP4OkEzAQtTj8vRzDug3PJB0\n",
       "v2FAspDWIdsI202YSenXwGVL2OryNmEgWEPGhAKE3DaW6sSwL8LUQ8RNTAF9Xwb5FGBrIowkbSNL\n",
       "n+ePTfDYw8gTrQtiTD1p3Sg3jjzYLYYvgF22lZ2muG0sNk5XHrM3SDR0HgMiRWDaL0gdh82KpVn2\n",
       "245z4DjnLQP5HXj1wZQ6wxQDgRrnLWJC/gauRFisgkiNBZlhNeAwpYjoGzAjyi1eZ9gNGVEzlzks\n",
       "RMprYE/kTXFZkFRkdQXhJIcFLIxRFtkubFFjPUXvVqXDSy7veYChnS1az7zUY2HdxmWOWnmg0qlP\n",
       "cQNX9J8bvl9LnYe/jhNK2fdPoteYLv/jQpaB3+wHNX/oB9z0ZOesjcOLAAAAAElFTkSuQmCC\n",
       "\" style=\"display:inline;vertical-align:middle;\" /></a><br>(see <a class=\"ProveItLink\" href=\"../../../__pv_it/theorems/ccc437abe774ec978dd89520fc6fa63d29e63cc60/dependencies.ipynb\">dependencies</a>)<br>"
      ],
      "text/plain": [
       "<IPython.core.display.HTML object>"
      ]
     },
     "metadata": {},
     "output_type": "display_data"
    },
    {
     "name": "stdout",
     "output_type": "stream",
     "text": [
      "add_8_5 may now be readily provable (assuming required theorems are usable).  Simply execute \"%qed\".\n"
     ]
    }
   ],
   "source": [
    "%proving add_8_5"
   ]
  },
  {
   "cell_type": "code",
   "execution_count": null,
   "metadata": {},
   "outputs": [],
   "source": []
  }
 ],
 "metadata": {
  "kernelspec": {
   "display_name": "Python 3",
   "language": "python",
   "name": "python3"
  }
 },
 "nbformat": 4,
 "nbformat_minor": 0
}