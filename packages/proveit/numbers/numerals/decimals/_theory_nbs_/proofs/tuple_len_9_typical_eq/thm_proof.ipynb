{
 "cells": [
  {
   "cell_type": "markdown",
   "metadata": {},
   "source": [
    "Proof of <a class=\"ProveItLink\" href=\"../../../../../../_theory_nbs_/theory.ipynb\">proveit</a>.<a class=\"ProveItLink\" href=\"../../../../../_theory_nbs_/theory.ipynb\">numbers</a>.<a class=\"ProveItLink\" href=\"../../../../_theory_nbs_/theory.ipynb\">numerals</a>.<a class=\"ProveItLink\" href=\"../../theory.ipynb\">decimals</a>.<a class=\"ProveItLink\" href=\"../../theorems.ipynb#tuple_len_9_typical_eq\">tuple_len_9_typical_eq</a> theorem\n",
    "========"
   ]
  },
  {
   "cell_type": "code",
   "execution_count": 1,
   "metadata": {},
   "outputs": [],
   "source": [
    "import proveit\n",
    "theory = proveit.Theory() # the theorem's theory"
   ]
  },
  {
   "cell_type": "code",
   "execution_count": 2,
   "metadata": {},
   "outputs": [
    {
     "data": {
      "text/html": [
       "With these <a href=\"allowed_presumptions.txt\">allowed</a>/<a href=\"disallowed_presumptions.txt\">disallowed</a> theorem/theory presumptions (e.g., to avoid circular dependencies), we begin our proof of<br><strong id=\"tuple_len_9_typical_eq\">tuple_len_9_typical_eq:</strong> <a class=\"ProveItLink\" href=\"../../../__pv_it/theorems/882b23b6a8667caa9cd1b90f9d4bc7e1200c1f4e0/expr.ipynb\"><img src=\"data:image/png;base64,iVBORw0KGgoAAAANSUhEUgAAAfEAAAAWBAMAAAAiKrjAAAAAMFBMVEX///8AAAAAAAAAAAAAAAAA\n",
       "AAAAAAAAAAAAAAAAAAAAAAAAAAAAAAAAAAAAAAAAAAAv3aB7AAAAD3RSTlMAq1RmmUTNIjK7EInv\n",
       "3XZ/CtNrAAAACXBIWXMAAA7EAAAOxAGVKw4bAAAGNElEQVRYw9VYf4gUdRR/Ozt7s/Pd27kBwUrt\n",
       "HBEMNHVDiSw6D+6yLNSD/qmw2jAIJWSkvyR/rPVH/5zcloERYXMhVly0a2oZ1rUYUmrWJUpmXI4p\n",
       "al3Iodx1XKB93/f7vuvszswVd/pHo8y8efP2897nfd9735kDuDmHy//hYcDNP2KQx+HQUGf3pgVn\n",
       "ObBPCL/dAubPiHOmo049Docpn5AQ0kZ55kSDm0OBaOWA8sNjEZbpF1tDOv2AV6tg7/RV5fNg5eKZ\n",
       "o8P0abWk7asLsSHq7VMAzhESQj6E8gsTJM7yFMiuGvXzUbZNTki1u7Ne13AjPb8ArIlnzh12Lxkl\n",
       "zXrIDMWG+Ct0utDgERKH3IK5Kk6QuZ6jQNpq1FeibJ/1QqqDT3pjpmdhPHN0aCnmtwF8FxdiogJm\n",
       "EZKthMQhMQsZZ4LMG1UglZquGo2y/TLcfaP/kp5GL5Z5Jcj8Bw+mx82upjxkuN0RQuKQSb5cDRNt\n",
       "81kUiJYPajN9UbbhFoiwq01PQy6OuXBYZX4nwPS4Ri8VweKtsIqQEPJYf//RiTJ/jALRccCt691E\n",
       "ATefpWLKXL6PZtDUS9QCrPc8rWty2o/U1VrvxRylZ+bncvHYea7J2HHMhUMrUDNnYIw1v8pHCiEh\n",
       "5CMAb4+X8ft0XUWBYCZT38C7klNpDftL8j0OS6XhStekMJ8upNU+0OST8ClskBOHDbsJW+Ysxes5\n",
       "mVfM9X5x2BBwGGSevjZWn/OH9xISQq4Dw67+cHWN9VfB0tkZmF4PUqy9dH+cAsnyNf4oB8ukdr4H\n",
       "3wshWyaBfQ26bAjjKlhqETeTG21UJUEbgYTMwStor1Xi1hwdBpln7djZfgi28HK7m5AQ0vQCmFNr\n",
       "rDcHb7Y9ERg5dd10iAJp5EgrxEaExxKAv4WwQs0rfRCzgId57fI+9ev5CtWGLlnjnC7ZeY08F+nB\n",
       "OOboMMh8aXx97hyYNwLQRUgIqfmBAfdtjfHvwZvgAN4A8cwPAxtSO3FKNvXhasaKUJIEmuzwOOty\n",
       "4E9QRaIKgRcOpCr/kXnSHqs3cbavJCQBmW/hp56Wz0SbnBUbyDlfqNaCuIipM+MoFlbyMhrDPQve\n",
       "Eq+Vdrja2TVIDqrtXBcxsWrzlXxYXNfb/HidrotdJfL0fEHK5xhfnL64Pq+r9jlgjPFGzvdzmKuq\n",
       "HSE/4e8z7Kc0DiPrtIVj9mS6IlQjGPYp+YKbLMpXSRHbZDiLj3zlcgcFYvrArkAifxdgAkew51Hg\n",
       "MzUlhJIDkzWXyVUFB2QX4AxAaTGwq0qCo0lhx4Yy5DtyzU2fmDMxpspgeSxMGSG1I1DiZbRITTiE\n",
       "3MCZ6a1IFswczjy9yApChWuXsF8Wa65jSoxRMcZ5U+A+ZrynNuLdFAjuFTtgbmsrG+Z3k+BNEALv\n",
       "vv1CMH3thA6lvJitO12hA2MIpFnJTYxK6Q6etoywSw++RHtXJHO53/FFQ1vY2N6+TEp4kphKsE7D\n",
       "Ntp/EUlAJgrYL5YtJpduU/OgCvPS2DZblgry5/FiaRgVUd8y43hspUDSPBXdA681F6Cf57l7L/8N\n",
       "Cpk9LZ4QWPP+dZcgi18YAwt8+RA0TDBKqea9fVLiMQ740m4Sx8h2xDFHh4lpw5Ok7Znr14ellMV1\n",
       "OqEE4eZAOwKcJKSsQiu55v38cRM08sZpckn1h6duaJxnZGkki8Yg3pY+UJtJgV4mT6mwNC9WAJhd\n",
       "Y4XJpqf4oRJhtzH+vf1UCDMghYIBQ02MjdWh63Y97vVA1lsEPdDQAeUeVL3KVaYDZcZLo+TxJ5rN\n",
       "XzB6IOEnbVTO0tVMbaVAFlbnaLwAUA7qZjQ4UkpPga5CpF1bPPOFIUwoh4d6zaeVQKq+nKTa5u2B\n",
       "Tie93Odno63F63RIxZa3eOmDAJ38vwPLL6CB6RpTUdl9Uf1+OwViqtH6McQKfDIGdT/vIilxhK2N\n",
       "tJOfktHMlcMbmMwPMb8BuZ6Q6r9OndCZLppMriOLnh5pwT9CUCBMIVbdhwWwIKhreZgk3uYdkXaS\n",
       "XTRz5dCKQIew6+2EZNZufimv/qwuT8Ebt+PNVrhQ1XFl4A9cPlwSwqZb8NcoWVlW/VfYOBxaLiFd\n",
       "rNUnQ2d1yUGvjzfrH3i0qoMc/K+PfwDwMuLgiMQD7gAAAABJRU5ErkJggg==\n",
       "\" style=\"display:inline;vertical-align:middle;\" /></a><br>(see <a class=\"ProveItLink\" href=\"../../../__pv_it/theorems/fa88c3cbce1f8ba706a650ea4e08f625c8e86a6a0/dependencies.ipynb\">dependencies</a>)<br>"
      ],
      "text/plain": [
       "<IPython.core.display.HTML object>"
      ]
     },
     "metadata": {},
     "output_type": "display_data"
    }
   ],
   "source": [
    "%proving tuple_len_9_typical_eq"
   ]
  },
  {
   "cell_type": "code",
   "execution_count": null,
   "metadata": {},
   "outputs": [],
   "source": []
  }
 ],
 "metadata": {
  "kernelspec": {
   "display_name": "Python 3",
   "language": "python",
   "name": "python3"
  }
 },
 "nbformat": 4,
 "nbformat_minor": 0
}