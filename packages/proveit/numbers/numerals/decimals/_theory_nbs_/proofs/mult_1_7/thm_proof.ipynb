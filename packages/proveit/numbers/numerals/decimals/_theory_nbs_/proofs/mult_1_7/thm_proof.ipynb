{
 "cells": [
  {
   "cell_type": "markdown",
   "metadata": {},
   "source": [
    "Proof of <a class=\"ProveItLink\" href=\"../../../../../../_theory_nbs_/theory.ipynb\">proveit</a>.<a class=\"ProveItLink\" href=\"../../../../../_theory_nbs_/theory.ipynb\">numbers</a>.<a class=\"ProveItLink\" href=\"../../../../_theory_nbs_/theory.ipynb\">numerals</a>.<a class=\"ProveItLink\" href=\"../../theory.ipynb\">decimals</a>.<a class=\"ProveItLink\" href=\"../../theorems.ipynb#mult_1_7\">mult_1_7</a> theorem\n",
    "========"
   ]
  },
  {
   "cell_type": "code",
   "execution_count": 1,
   "metadata": {},
   "outputs": [],
   "source": [
    "import proveit\n",
    "theory = proveit.Theory() # the theorem's theory"
   ]
  },
  {
   "cell_type": "code",
   "execution_count": 2,
   "metadata": {},
   "outputs": [
    {
     "data": {
      "text/html": [
       "With these <a href=\"allowed_presumptions.txt\">allowed</a>/<a href=\"disallowed_presumptions.txt\">disallowed</a> theorem/theory presumptions (e.g., to avoid circular dependencies), we begin our proof of<br><strong id=\"mult_1_7\">mult_1_7:</strong> <a class=\"ProveItLink\" href=\"../../../__pv_it/theorems/9e03e9fd27c4f0fbe21a4eed82b2815fe895f7f80/expr.ipynb\"><img src=\"data:image/png;base64,iVBORw0KGgoAAAANSUhEUgAAAFgAAAAVBAMAAAAwfTS1AAAAMFBMVEX///8AAAAAAAAAAAAAAAAA\n",
       "AAAAAAAAAAAAAAAAAAAAAAAAAAAAAAAAAAAAAAAAAAAv3aB7AAAAD3RSTlMAInZUiRDNmWbv3US7\n",
       "qzJazP2FAAAACXBIWXMAAA7EAAAOxAGVKw4bAAABGklEQVQoz2NgYBBgwABYhCCAyQCFKxEAJDZh\n",
       "qAILMzCYAPGrALio/f///ycwNaArBgszsCYwsF7PRyj2KS+vMmBIRVcMEWYHGaKPUOzAwCDOwNCO\n",
       "rhgizMmAqhjogwtA0QA0xRBhMzTFDAwsDxgY2DAcDRYuwVAsA5K5gKEYJJyBofg2EHMkgFhVq0Bg\n",
       "LUJ4MbpixglAgnkCusFg4dkIxfFg41hAJN8HDCcnoCrmKgCTB4AEN4bJYGEMZ8SD/Ma8AN3NYOFD\n",
       "6Ir3g8znOIBuMljYF8TyR0pm9sDIYmB3wEgcIJFXQHx3fi4iEiRBqZBrA7piiPADbOlWCnty5ijA\n",
       "JlqBI/EfxCLGeACH4hgsYjy48hWjAqaYInalAAI4RSK2qCPRAAAAAElFTkSuQmCC\n",
       "\" style=\"display:inline;vertical-align:middle;\" /></a><br>(see <a class=\"ProveItLink\" href=\"../../../__pv_it/theorems/bf0fc5a80bde370c46b9f5212b3cce4814d6e7af0/dependencies.ipynb\">dependencies</a>)<br>"
      ],
      "text/plain": [
       "<IPython.core.display.HTML object>"
      ]
     },
     "metadata": {},
     "output_type": "display_data"
    },
    {
     "name": "stdout",
     "output_type": "stream",
     "text": [
      "mult_1_7 may now be readily provable (assuming required theorems are usable).  Simply execute \"%qed\".\n"
     ]
    }
   ],
   "source": [
    "%proving mult_1_7"
   ]
  },
  {
   "cell_type": "code",
   "execution_count": null,
   "metadata": {},
   "outputs": [],
   "source": []
  }
 ],
 "metadata": {
  "kernelspec": {
   "display_name": "Python 3",
   "language": "python",
   "name": "python3"
  }
 },
 "nbformat": 4,
 "nbformat_minor": 0
}