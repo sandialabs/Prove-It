{
 "cells": [
  {
   "cell_type": "markdown",
   "metadata": {},
   "source": [
    "Proof of <a class=\"ProveItLink\" href=\"../../../../../../_theory_nbs_/theory.ipynb\">proveit</a>.<a class=\"ProveItLink\" href=\"../../../../../_theory_nbs_/theory.ipynb\">numbers</a>.<a class=\"ProveItLink\" href=\"../../../../_theory_nbs_/theory.ipynb\">numerals</a>.<a class=\"ProveItLink\" href=\"../../theory.ipynb\">decimals</a>.<a class=\"ProveItLink\" href=\"../../theorems.ipynb#add_2_3\">add_2_3</a> theorem\n",
    "========"
   ]
  },
  {
   "cell_type": "code",
   "execution_count": 1,
   "metadata": {},
   "outputs": [],
   "source": [
    "import proveit\n",
    "theory = proveit.Theory() # the theorem's theory"
   ]
  },
  {
   "cell_type": "code",
   "execution_count": 2,
   "metadata": {},
   "outputs": [
    {
     "data": {
      "text/html": [
       "With these <a href=\"allowed_presumptions.txt\">allowed</a>/<a href=\"disallowed_presumptions.txt\">disallowed</a> theorem/theory presumptions (e.g., to avoid circular dependencies), we begin our proof of<br><strong id=\"add_2_3\">add_2_3:</strong> <a class=\"ProveItLink\" href=\"../../../__pv_it/theorems/0a82a0ae531775e2b21fcea430221f08505d5d350/expr.ipynb\"><img src=\"data:image/png;base64,iVBORw0KGgoAAAANSUhEUgAAAGEAAAAVBAMAAACkm51HAAAAMFBMVEX///8AAAAAAAAAAAAAAAAA\n",
       "AAAAAAAAAAAAAAAAAAAAAAAAAAAAAAAAAAAAAAAAAAAv3aB7AAAAD3RSTlMAInZUiRDNmWbv3US7\n",
       "qzJazP2FAAAACXBIWXMAAA7EAAAOxAGVKw4bAAABe0lEQVQ4y3WTPUjDQBTH/2ms/UyJU8GpDs6W\n",
       "Is4dXItxcnHoIoiTgxgRweKii9DFwS9a0CIEhOBUnaKDg4O6OYlFnBy0IhZBML7cOeSuuSPkfd3v\n",
       "3kvuPQAmopfKj1hRETjr8+SAaRLjQH75Vgxpk2suYjWZSPUWWkC8Cs3DlCuEZqB/AnMykW4cW0Ci\n",
       "BsNEqs59bS7GivEesCkTBs9EzxeMD+4rcXHugoiUFUlMkNKE8SsQgP4NDNYiiSVeYVciLmj3wL1M\n",
       "bFQ6wDzT3wsi8fxIoWQ1UBMOWwGdtbQf4IjtOIVcFf0rvd5/STfAPjvHC96rjrPrOP9ww0Ku20+s\n",
       "m5zYhpjjDbgrIiPnuCaiw6rSyxgSCN8KCL0pfcce8ARckfYCjArEIasq6Uk5ysABUKEuOrHtpkBs\n",
       "sftIlCUij9gO8EqX4ft+VSAyNnUi0q5EaPYDtUG6E/aVwsZw9BQkF8NWO2ysKAbnUjVqmqcIzKqI\n",
       "rGpstYIiMBLt/gP/Yl3A/CTMegAAAABJRU5ErkJggg==\n",
       "\" style=\"display:inline;vertical-align:middle;\" /></a><br>(see <a class=\"ProveItLink\" href=\"../../../__pv_it/theorems/0f860a1514f540378b624fd0cf502435e154d0290/dependencies.ipynb\">dependencies</a>)<br>"
      ],
      "text/plain": [
       "<IPython.core.display.HTML object>"
      ]
     },
     "metadata": {},
     "output_type": "display_data"
    },
    {
     "name": "stdout",
     "output_type": "stream",
     "text": [
      "add_2_3 may now be readily provable (assuming required theorems are usable).  Simply execute \"%qed\".\n"
     ]
    }
   ],
   "source": [
    "%proving add_2_3"
   ]
  },
  {
   "cell_type": "code",
   "execution_count": null,
   "metadata": {},
   "outputs": [],
   "source": []
  }
 ],
 "metadata": {
  "kernelspec": {
   "display_name": "Python 3",
   "language": "python",
   "name": "python3"
  }
 },
 "nbformat": 4,
 "nbformat_minor": 0
}