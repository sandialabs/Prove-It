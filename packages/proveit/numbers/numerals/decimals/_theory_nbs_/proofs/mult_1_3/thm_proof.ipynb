{
 "cells": [
  {
   "cell_type": "markdown",
   "metadata": {},
   "source": [
    "Proof of <a class=\"ProveItLink\" href=\"../../../../../../_theory_nbs_/theory.ipynb\">proveit</a>.<a class=\"ProveItLink\" href=\"../../../../../_theory_nbs_/theory.ipynb\">numbers</a>.<a class=\"ProveItLink\" href=\"../../../../_theory_nbs_/theory.ipynb\">numerals</a>.<a class=\"ProveItLink\" href=\"../../theory.ipynb\">decimals</a>.<a class=\"ProveItLink\" href=\"../../theorems.ipynb#mult_1_3\">mult_1_3</a> theorem\n",
    "========"
   ]
  },
  {
   "cell_type": "code",
   "execution_count": 1,
   "metadata": {},
   "outputs": [],
   "source": [
    "import proveit\n",
    "theory = proveit.Theory() # the theorem's theory"
   ]
  },
  {
   "cell_type": "code",
   "execution_count": 2,
   "metadata": {},
   "outputs": [
    {
     "data": {
      "text/html": [
       "With these <a href=\"allowed_presumptions.txt\">allowed</a>/<a href=\"disallowed_presumptions.txt\">disallowed</a> theorem/theory presumptions (e.g., to avoid circular dependencies), we begin our proof of<br><strong id=\"mult_1_3\">mult_1_3:</strong> <a class=\"ProveItLink\" href=\"../../../__pv_it/theorems/aee65fc858252f73d19ea002cda101407c6294880/expr.ipynb\"><img src=\"data:image/png;base64,iVBORw0KGgoAAAANSUhEUgAAAFcAAAAVBAMAAADBdm84AAAAMFBMVEX///8AAAAAAAAAAAAAAAAA\n",
       "AAAAAAAAAAAAAAAAAAAAAAAAAAAAAAAAAAAAAAAAAAAv3aB7AAAAD3RSTlMAInZUiRDNmWbv3US7\n",
       "qzJazP2FAAAACXBIWXMAAA7EAAAOxAGVKw4bAAABHElEQVQoz2NgYBBgwABYhCCAyQBTbBMuxSZA\n",
       "/CoAzmV0qdnAwNSArgoszMCawMB6PR+hOJyB+TMDQyq6YogwO8gQfYRifQPWbwwM7eiKIcKcDKiK\n",
       "d25gAIkGoCmGCJuhKWZgYP7BwMCG4WiwcAmG4l1AhSwXMBSDhDPQFT+6+4CBgSMBxKxaBQJrEcKL\n",
       "MZ0B9DbzBExnAIVnIxTHJ0CE5wcw8H3AjBCgMJJirgIg8Y6B4bwBAze6yRBhdGf8DwCJMi9AczNE\n",
       "+BCa4rlg+zgOoJkMEfYFMf0RyawDHKDsDmiKIcKvgKy783PhkcBdDkoxXBvQFEOFH2BLilLYUyhH\n",
       "ATbRChzp+SAWMcYDOBTHYBHjwZWvGBUwxRSxKwUAV6hVFA9RdrgAAAAASUVORK5CYII=\n",
       "\" style=\"display:inline;vertical-align:middle;\" /></a><br>(see <a class=\"ProveItLink\" href=\"../../../__pv_it/theorems/d66624d3f47688c690c7ee74965f2df461d358380/dependencies.ipynb\">dependencies</a>)<br>"
      ],
      "text/plain": [
       "<IPython.core.display.HTML object>"
      ]
     },
     "metadata": {},
     "output_type": "display_data"
    },
    {
     "name": "stdout",
     "output_type": "stream",
     "text": [
      "mult_1_3 may now be readily provable (assuming required theorems are usable).  Simply execute \"%qed\".\n"
     ]
    }
   ],
   "source": [
    "%proving mult_1_3"
   ]
  },
  {
   "cell_type": "code",
   "execution_count": null,
   "metadata": {},
   "outputs": [],
   "source": []
  }
 ],
 "metadata": {
  "kernelspec": {
   "display_name": "Python 3",
   "language": "python",
   "name": "python3"
  }
 },
 "nbformat": 4,
 "nbformat_minor": 0
}