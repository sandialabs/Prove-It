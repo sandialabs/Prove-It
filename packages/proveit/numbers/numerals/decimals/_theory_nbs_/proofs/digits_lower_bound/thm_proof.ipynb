{
 "cells": [
  {
   "cell_type": "markdown",
   "metadata": {},
   "source": [
    "Proof of <a class=\"ProveItLink\" href=\"../../../../../../_theory_nbs_/theory.ipynb\">proveit</a>.<a class=\"ProveItLink\" href=\"../../../../../_theory_nbs_/theory.ipynb\">numbers</a>.<a class=\"ProveItLink\" href=\"../../../../_theory_nbs_/theory.ipynb\">numerals</a>.<a class=\"ProveItLink\" href=\"../../theory.ipynb\">decimals</a>.<a class=\"ProveItLink\" href=\"../../theorems.ipynb#digits_lower_bound\">digits_lower_bound</a> theorem\n",
    "========"
   ]
  },
  {
   "cell_type": "code",
   "execution_count": 1,
   "metadata": {},
   "outputs": [],
   "source": [
    "import proveit\n",
    "theory = proveit.Theory() # the theorem's theory"
   ]
  },
  {
   "cell_type": "code",
   "execution_count": 2,
   "metadata": {},
   "outputs": [
    {
     "data": {
      "text/html": [
       "With these <a href=\"allowed_presumptions.txt\">allowed</a>/<a href=\"disallowed_presumptions.txt\">disallowed</a> theorem/theory presumptions (e.g., to avoid circular dependencies), we begin our proof of<br><strong id=\"digits_lower_bound\">digits_lower_bound:</strong> <a class=\"ProveItLink\" href=\"../../../__pv_it/theorems/2db0d6c9ac03c597ae13d6877caa96f24e84abaa0/expr.ipynb\"><img src=\"data:image/png;base64,iVBORw0KGgoAAAANSUhEUgAAAIsAAAAVBAMAAACEWwD/AAAAMFBMVEX///8AAAAAAAAAAAAAAAAA\n",
       "AAAAAAAAAAAAAAAAAAAAAAAAAAAAAAAAAAAAAAAAAAAv3aB7AAAAD3RSTlMAq1RmmUTNIjK7EInv\n",
       "3XZ/CtNrAAAACXBIWXMAAA7EAAAOxAGVKw4bAAACSElEQVQ4y52UTWjTYBjH/02WJkvarTfZDpIh\n",
       "joJgo+ht1cKqDnvpyYtTBx5ETxHmwY9pBK9ONxjSHeRVYSBTFr+QKYIXYSCCiOg8FDIckyFKDxOH\n",
       "XnzebnmTtmsje+Elz/N+/PJ8/BPgP4e9qa360WE23ztOM8WNbZGYHU3WXy7a6LCAA9w5FUXRh0LO\n",
       "lCXMuKl/Bs4AV8lRb0Zh2qww85Xnm1lgFthDPAYYZhQmUev+eLFujAEZhgSDTO+JR5amt87PrnNW\n",
       "gBsm4sR4Vy6/jcQUeEO6Ly6LbHoPVdPjGAsG9WkAmNzwKgvZJ2m6Y57+W6wc6eZF/UsYDzI14CzU\n",
       "1EaUXY725LnvfACU4heoqwFm0se4kF4D7cwohm6rH5+hLwX9qUN1nfJX31AC+i9If0RSW6pJEeaE\n",
       "B60CSF5Q4dGuCfQYrI2pBVL4DDpZgIFUQcyXT/awKHHGhELRYGifUMcAV7SXMzDCAzTMjB0kxRmd\n",
       "FqtteAnYzyC9J/MxiVDuH10EvvKd9PbLBlWGc8498F9wm2vHJY24tfLrAw7SbS7fS1The4NWwtar\n",
       "Yk4bd4/So8eiqv30jz+iecXBkuzUfgxJU5+jLDg8RlsXlqgOSnU7jdwyf14ryt/F+es0jwF3dtd/\n",
       "a4UFup0UPdqKQcinS6Vxwkw3qjrptBLniLDmkNc0dy0aZSeG8/l8WAZyrhWmX6ilgvn0mpr3AguN\n",
       "J2+F7IdlPuYDqYkfhJICFeI8ha59shFrxNxvEUx73V9Uny1NNDmqes0x34B/DyuKDFvkCRAAAAAA\n",
       "SUVORK5CYII=\n",
       "\" style=\"display:inline;vertical-align:middle;\" /></a><br>(see <a class=\"ProveItLink\" href=\"../../../__pv_it/theorems/eb1a944bc879af5773678dd651ee34bb776880700/dependencies.ipynb\">dependencies</a>)<br>"
      ],
      "text/plain": [
       "<IPython.core.display.HTML object>"
      ]
     },
     "metadata": {},
     "output_type": "display_data"
    }
   ],
   "source": [
    "%proving digits_lower_bound"
   ]
  },
  {
   "cell_type": "code",
   "execution_count": null,
   "metadata": {},
   "outputs": [],
   "source": []
  }
 ],
 "metadata": {
  "kernelspec": {
   "display_name": "Python 3",
   "language": "python",
   "name": "python3"
  }
 },
 "nbformat": 4,
 "nbformat_minor": 0
}