{
 "cells": [
  {
   "cell_type": "markdown",
   "metadata": {},
   "source": [
    "Proof of <a class=\"ProveItLink\" href=\"../../../../../../_theory_nbs_/theory.ipynb\">proveit</a>.<a class=\"ProveItLink\" href=\"../../../../../_theory_nbs_/theory.ipynb\">numbers</a>.<a class=\"ProveItLink\" href=\"../../../../_theory_nbs_/theory.ipynb\">numerals</a>.<a class=\"ProveItLink\" href=\"../../theory.ipynb\">decimals</a>.<a class=\"ProveItLink\" href=\"../../theorems.ipynb#add_5_0\">add_5_0</a> theorem\n",
    "========"
   ]
  },
  {
   "cell_type": "code",
   "execution_count": 1,
   "metadata": {},
   "outputs": [],
   "source": [
    "import proveit\n",
    "theory = proveit.Theory() # the theorem's theory"
   ]
  },
  {
   "cell_type": "code",
   "execution_count": 2,
   "metadata": {},
   "outputs": [
    {
     "data": {
      "text/html": [
       "With these <a href=\"allowed_presumptions.txt\">allowed</a>/<a href=\"disallowed_presumptions.txt\">disallowed</a> theorem/theory presumptions (e.g., to avoid circular dependencies), we begin our proof of<br><strong id=\"add_5_0\">add_5_0:</strong> <a class=\"ProveItLink\" href=\"../../../__pv_it/theorems/b098e8a37caa21e67dc7007eef4f340e9357592f0/expr.ipynb\"><img src=\"data:image/png;base64,iVBORw0KGgoAAAANSUhEUgAAAGEAAAAVBAMAAACkm51HAAAAMFBMVEX///8AAAAAAAAAAAAAAAAA\n",
       "AAAAAAAAAAAAAAAAAAAAAAAAAAAAAAAAAAAAAAAAAAAv3aB7AAAAD3RSTlMAInZUiRDNmWbv3US7\n",
       "qzJazP2FAAAACXBIWXMAAA7EAAAOxAGVKw4bAAABeklEQVQ4y3WTPUjDQBSAv7SN/TEt3QQXKwji\n",
       "IIQiru2gm4W4O3RRxKlD/UEQi4vooouDP9iKOhgQilM3q6CDKHTTSTu7WEEUFMRLC5JckoPc+8v3\n",
       "3r07HpDEe/n5Ceg0UT3CFy5PAiaFGIHyjGk4Y2ODSQIlmYh+zp2Cmoez73FnqEtXj2BaJmLlE5E5\n",
       "LDI1/n21jtiECViXiXinEnYi3REPkDGIGp7EqBfxBW86XSVPoii+p4FnB6FaRIlQQybWck2YFdoN\n",
       "fVU7oXwIIkUkbxlhs70sWjOUHzhu/6NVXESW4Lb7ke5gv62E38W2bJq7pnkuTiWIyxSJlptYTVqE\n",
       "lif8K3ee0emWa9wKommdKloh3nIQ97BlEKxIfezBC1xDSEB1B7EBCxCpSzWycAA50WiBIcNBxHT1\n",
       "UGTPSkQPgR14tbSVeecLqsVhcfGxqkQoi48ic6xp96XtRq/3eEQKdqtmN5Z8JurKb9SUuk9gyo/Q\n",
       "/MZWSfkE+r3df8OCW8HoVdilAAAAAElFTkSuQmCC\n",
       "\" style=\"display:inline;vertical-align:middle;\" /></a><br>(see <a class=\"ProveItLink\" href=\"../../../__pv_it/theorems/6d0b8492811a8233d4cd3564237a5f56e449a2d50/dependencies.ipynb\">dependencies</a>)<br>"
      ],
      "text/plain": [
       "<IPython.core.display.HTML object>"
      ]
     },
     "metadata": {},
     "output_type": "display_data"
    },
    {
     "name": "stdout",
     "output_type": "stream",
     "text": [
      "add_5_0 may now be readily provable (assuming required theorems are usable).  Simply execute \"%qed\".\n"
     ]
    }
   ],
   "source": [
    "%proving add_5_0"
   ]
  },
  {
   "cell_type": "code",
   "execution_count": null,
   "metadata": {},
   "outputs": [],
   "source": []
  }
 ],
 "metadata": {
  "kernelspec": {
   "display_name": "Python 3",
   "language": "python",
   "name": "python3"
  }
 },
 "nbformat": 4,
 "nbformat_minor": 0
}