{
 "cells": [
  {
   "cell_type": "markdown",
   "metadata": {},
   "source": [
    "Proof of <a class=\"ProveItLink\" href=\"../../../../../../_theory_nbs_/theory.ipynb\">proveit</a>.<a class=\"ProveItLink\" href=\"../../../../../_theory_nbs_/theory.ipynb\">numbers</a>.<a class=\"ProveItLink\" href=\"../../../../_theory_nbs_/theory.ipynb\">numerals</a>.<a class=\"ProveItLink\" href=\"../../theory.ipynb\">decimals</a>.<a class=\"ProveItLink\" href=\"../../theorems.ipynb#add_3_4\">add_3_4</a> theorem\n",
    "========"
   ]
  },
  {
   "cell_type": "code",
   "execution_count": 1,
   "metadata": {},
   "outputs": [],
   "source": [
    "import proveit\n",
    "theory = proveit.Theory() # the theorem's theory"
   ]
  },
  {
   "cell_type": "code",
   "execution_count": 2,
   "metadata": {},
   "outputs": [
    {
     "data": {
      "text/html": [
       "With these <a href=\"allowed_presumptions.txt\">allowed</a>/<a href=\"disallowed_presumptions.txt\">disallowed</a> theorem/theory presumptions (e.g., to avoid circular dependencies), we begin our proof of<br><strong id=\"add_3_4\">add_3_4:</strong> <a class=\"ProveItLink\" href=\"../../../__pv_it/theorems/7717fde804b70abdc617f3d803adc79acb0ffd2c0/expr.ipynb\"><img src=\"data:image/png;base64,iVBORw0KGgoAAAANSUhEUgAAAGIAAAAVBAMAAABPrCZEAAAAMFBMVEX///8AAAAAAAAAAAAAAAAA\n",
       "AAAAAAAAAAAAAAAAAAAAAAAAAAAAAAAAAAAAAAAAAAAv3aB7AAAAD3RSTlMAInZUiRDNmWbv3US7\n",
       "qzJazP2FAAAACXBIWXMAAA7EAAAOxAGVKw4bAAABa0lEQVQ4y3WTvUvDQBjGn6Rp0yQldRD8wKFd\n",
       "BSEUcW03F4X+AUK7CI4ZhEinuOjaVYoguEhAEBe7tbp2sLtUMzsJpaPU93IWkrvcwV3unjc/3uc+\n",
       "XgBryG8qHbqnCDxLymY7+ewD64cTMej60ENRbC6Xyz6KXRR9NMVE9hQ4FYmjIOh5MEPoc3S6XBuu\n",
       "grtEXItEC9gALMAZoPpPNFamroiw2gJBRkg+4A7DLGGUKFSSNgIjBs7ZxHlAlqgzwphKxA71M+Zh\n",
       "7zNLaCEjyolVM0oapz+o33NXXoYwwIhCX0yhMWWQTK0FDb0ouomiR5pdJoT7I22jywk3RmWezqHV\n",
       "EsKRcthj7qq6EAhnNvu6baFwJ+6jw8Y3sjTlrlJnxTSUx2KOkU/DMUVC6T5Qpb/NlvSwmPJN/SWY\n",
       "CPdhvv/WYD+JxBY7UjtOS430Yju/Csp+ejVMLy4UhfOqKjVtrAicqIiKqmzpuvJbPV/+AwDuVs3+\n",
       "22b6AAAAAElFTkSuQmCC\n",
       "\" style=\"display:inline;vertical-align:middle;\" /></a><br>(see <a class=\"ProveItLink\" href=\"../../../__pv_it/theorems/463cfa6b85e46e3f11c2371ea3405b5d6f9816060/dependencies.ipynb\">dependencies</a>)<br>"
      ],
      "text/plain": [
       "<IPython.core.display.HTML object>"
      ]
     },
     "metadata": {},
     "output_type": "display_data"
    },
    {
     "name": "stdout",
     "output_type": "stream",
     "text": [
      "add_3_4 may now be readily provable (assuming required theorems are usable).  Simply execute \"%qed\".\n"
     ]
    }
   ],
   "source": [
    "%proving add_3_4"
   ]
  },
  {
   "cell_type": "code",
   "execution_count": null,
   "metadata": {},
   "outputs": [],
   "source": []
  }
 ],
 "metadata": {
  "kernelspec": {
   "display_name": "Python 3",
   "language": "python",
   "name": "python3"
  }
 },
 "nbformat": 4,
 "nbformat_minor": 0
}