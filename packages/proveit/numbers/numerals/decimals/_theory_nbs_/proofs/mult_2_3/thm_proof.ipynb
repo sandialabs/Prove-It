{
 "cells": [
  {
   "cell_type": "markdown",
   "metadata": {},
   "source": [
    "Proof of <a class=\"ProveItLink\" href=\"../../../../../../_theory_nbs_/theory.ipynb\">proveit</a>.<a class=\"ProveItLink\" href=\"../../../../../_theory_nbs_/theory.ipynb\">numbers</a>.<a class=\"ProveItLink\" href=\"../../../../_theory_nbs_/theory.ipynb\">numerals</a>.<a class=\"ProveItLink\" href=\"../../theory.ipynb\">decimals</a>.<a class=\"ProveItLink\" href=\"../../theorems.ipynb#mult_2_3\">mult_2_3</a> theorem\n",
    "========"
   ]
  },
  {
   "cell_type": "code",
   "execution_count": 1,
   "metadata": {},
   "outputs": [],
   "source": [
    "import proveit\n",
    "theory = proveit.Theory() # the theorem's theory"
   ]
  },
  {
   "cell_type": "code",
   "execution_count": 2,
   "metadata": {},
   "outputs": [
    {
     "data": {
      "text/html": [
       "With these <a href=\"allowed_presumptions.txt\">allowed</a>/<a href=\"disallowed_presumptions.txt\">disallowed</a> theorem/theory presumptions (e.g., to avoid circular dependencies), we begin our proof of<br><strong id=\"mult_2_3\">mult_2_3:</strong> <a class=\"ProveItLink\" href=\"../../../__pv_it/theorems/b651d99a6429c951a9f7326de5625e3fa6282d480/expr.ipynb\"><img src=\"data:image/png;base64,iVBORw0KGgoAAAANSUhEUgAAAFcAAAAVBAMAAADBdm84AAAAMFBMVEX///8AAAAAAAAAAAAAAAAA\n",
       "AAAAAAAAAAAAAAAAAAAAAAAAAAAAAAAAAAAAAAAAAAAv3aB7AAAAD3RSTlMAInZUiRDNmWbv3US7\n",
       "qzJazP2FAAAACXBIWXMAAA7EAAAOxAGVKw4bAAABc0lEQVQoz3WTP0jDUBCHf2ka+zdSJ8GpDuJo\n",
       "B3G1Q8FJzeYimEUQXDqIVVHIpou0ILiIWHAQhEJw0ym6KaLOglCkk4NWxCIOxnsvvFZfXh7huHz5\n",
       "OC6XC4AcQkeBghMrhNlZlDwODK7edW+10qaLmBPS4qUZwLCheZh1BZyD/gEsyq62jEcg4cDMIVUT\n",
       "dKxgdIBtWe7L4xZI0fUJ813QcxckpyxJnuRgAjDrMH96XP+iQnLT1zyu8Jhu9/gFifEHSd5vjdJr\n",
       "LfH8Ld/Fz09NIGmzdOOUnQZLOw72gGNuNP4UYdPQa/8LGz6wbuGA5QmPxQU7eHJkob8tyd9A1Q3k\n",
       "3aDxMoVX4L6AjFSZTajq8Db0IgYE9S0m63Wp5xte+YqyFjAi5EPeRtKT50w9A9P0KU8qlbqgO3zO\n",
       "iaIkZ4sGTeOFevV93xY0U6FFQtqVv/fUFk003VSt4pB6Q5NlFV2L2OdLBdO8CHlewbJR/5WWD7Nh\n",
       "tfoLZ9lauzrWhqwAAAAASUVORK5CYII=\n",
       "\" style=\"display:inline;vertical-align:middle;\" /></a><br>(see <a class=\"ProveItLink\" href=\"../../../__pv_it/theorems/c5e720ee92e7eabb9fdad611ac54c5224aee52480/dependencies.ipynb\">dependencies</a>)<br>"
      ],
      "text/plain": [
       "<IPython.core.display.HTML object>"
      ]
     },
     "metadata": {},
     "output_type": "display_data"
    },
    {
     "name": "stdout",
     "output_type": "stream",
     "text": [
      "mult_2_3 may now be readily provable (assuming required theorems are usable).  Simply execute \"%qed\".\n"
     ]
    }
   ],
   "source": [
    "%proving mult_2_3"
   ]
  },
  {
   "cell_type": "code",
   "execution_count": null,
   "metadata": {},
   "outputs": [],
   "source": []
  }
 ],
 "metadata": {
  "kernelspec": {
   "display_name": "Python 3",
   "language": "python",
   "name": "python3"
  }
 },
 "nbformat": 4,
 "nbformat_minor": 0
}