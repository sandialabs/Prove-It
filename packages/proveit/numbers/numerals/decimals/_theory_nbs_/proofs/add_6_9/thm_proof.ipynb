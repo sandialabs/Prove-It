{
 "cells": [
  {
   "cell_type": "markdown",
   "metadata": {},
   "source": [
    "Proof of <a class=\"ProveItLink\" href=\"../../../../../../_theory_nbs_/theory.ipynb\">proveit</a>.<a class=\"ProveItLink\" href=\"../../../../../_theory_nbs_/theory.ipynb\">numbers</a>.<a class=\"ProveItLink\" href=\"../../../../_theory_nbs_/theory.ipynb\">numerals</a>.<a class=\"ProveItLink\" href=\"../../theory.ipynb\">decimals</a>.<a class=\"ProveItLink\" href=\"../../theorems.ipynb#add_6_9\">add_6_9</a> theorem\n",
    "========"
   ]
  },
  {
   "cell_type": "code",
   "execution_count": 1,
   "metadata": {},
   "outputs": [],
   "source": [
    "import proveit\n",
    "theory = proveit.Theory() # the theorem's theory"
   ]
  },
  {
   "cell_type": "code",
   "execution_count": 2,
   "metadata": {},
   "outputs": [
    {
     "data": {
      "text/html": [
       "With these <a href=\"allowed_presumptions.txt\">allowed</a>/<a href=\"disallowed_presumptions.txt\">disallowed</a> theorem/theory presumptions (e.g., to avoid circular dependencies), we begin our proof of<br><strong id=\"add_6_9\">add_6_9:</strong> <a class=\"ProveItLink\" href=\"../../../__pv_it/theorems/b2db7260fa8dfcb7d8a723b0e2967fb34a04e8c10/expr.ipynb\"><img src=\"data:image/png;base64,iVBORw0KGgoAAAANSUhEUgAAAGwAAAAVBAMAAABRZRb3AAAAMFBMVEX///8AAAAAAAAAAAAAAAAA\n",
       "AAAAAAAAAAAAAAAAAAAAAAAAAAAAAAAAAAAAAAAAAAAv3aB7AAAAD3RSTlMAInZUiRDNmWbv3US7\n",
       "qzJazP2FAAAACXBIWXMAAA7EAAAOxAGVKw4bAAABlElEQVQ4y52UP0jDQBTGv/6JaTWlmXQR7NBB\n",
       "J0sRQUepo5hNBKHBQbqoHZSCInRycujSQTo0KA5GhI51q6Lg2EV0sXS1IFZFKArFd4kULr3r4Bty\n",
       "x3v87rv33r0A0CE2HwaZPyEJjMTE/iYUUpqhXSrV5ENq7gGY7EdaBlDesA0oJjBaiVhcVDnBi44h\n",
       "wwMpj9vkOv9epHPzwDq0mhuoukukwDyhbJ/aNGF1tgkDga+eO+kuURNBchbl2CygFbxYugb/D5CR\n",
       "YzskuLWw36/WAZaE2FO84ZwYzSCc4DCW2wdw6BTVdqzew+4wUcEpXakNtchhSgmvn8CcUI2yslAi\n",
       "zEKIMsGebR/b9iULrMSTXeBNgqnvDKNMQh1OjYxV8kqEaSbULruk9qfGYayT86LcwhYibdxQ3yi3\n",
       "AocFikjTczsSqQWp9DWnyLdY5SvpP8O92xyPLevwZTFloMXyyDX4viGVq9D3wks9lzfzGDvYBYa5\n",
       "t5/kBs6Sjxv/Xqvc9OQHjOm1NDI+aLrX/nEgyyAm+1vocugXJjJpEYF1fB8AAAAASUVORK5CYII=\n",
       "\" style=\"display:inline;vertical-align:middle;\" /></a><br>(see <a class=\"ProveItLink\" href=\"../../../__pv_it/theorems/46e6bb1d7257e4b2e0196a7d1630b31eac7bcd1a0/dependencies.ipynb\">dependencies</a>)<br>"
      ],
      "text/plain": [
       "<IPython.core.display.HTML object>"
      ]
     },
     "metadata": {},
     "output_type": "display_data"
    },
    {
     "name": "stdout",
     "output_type": "stream",
     "text": [
      "add_6_9 may now be readily provable (assuming required theorems are usable).  Simply execute \"%qed\".\n"
     ]
    }
   ],
   "source": [
    "%proving add_6_9"
   ]
  },
  {
   "cell_type": "code",
   "execution_count": null,
   "metadata": {},
   "outputs": [],
   "source": []
  }
 ],
 "metadata": {
  "kernelspec": {
   "display_name": "Python 3",
   "language": "python",
   "name": "python3"
  }
 },
 "nbformat": 4,
 "nbformat_minor": 0
}