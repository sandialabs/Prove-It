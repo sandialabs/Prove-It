{
 "cells": [
  {
   "cell_type": "markdown",
   "metadata": {},
   "source": [
    "Proof of <a class=\"ProveItLink\" href=\"../../../../../../_theory_nbs_/theory.ipynb\">proveit</a>.<a class=\"ProveItLink\" href=\"../../../../../_theory_nbs_/theory.ipynb\">numbers</a>.<a class=\"ProveItLink\" href=\"../../../../_theory_nbs_/theory.ipynb\">numerals</a>.<a class=\"ProveItLink\" href=\"../../theory.ipynb\">decimals</a>.<a class=\"ProveItLink\" href=\"../../theorems.ipynb#mult_9_6\">mult_9_6</a> theorem\n",
    "========"
   ]
  },
  {
   "cell_type": "code",
   "execution_count": 1,
   "metadata": {},
   "outputs": [],
   "source": [
    "import proveit\n",
    "theory = proveit.Theory() # the theorem's theory"
   ]
  },
  {
   "cell_type": "code",
   "execution_count": 2,
   "metadata": {},
   "outputs": [
    {
     "data": {
      "text/html": [
       "With these <a href=\"allowed_presumptions.txt\">allowed</a>/<a href=\"disallowed_presumptions.txt\">disallowed</a> theorem/theory presumptions (e.g., to avoid circular dependencies), we begin our proof of<br><strong id=\"mult_9_6\">mult_9_6:</strong> <a class=\"ProveItLink\" href=\"../../../__pv_it/theorems/9c4d773b292d063fc3975dfe47dce2aa071679370/expr.ipynb\"><img src=\"data:image/png;base64,iVBORw0KGgoAAAANSUhEUgAAAGEAAAAVBAMAAACkm51HAAAAMFBMVEX///8AAAAAAAAAAAAAAAAA\n",
       "AAAAAAAAAAAAAAAAAAAAAAAAAAAAAAAAAAAAAAAAAAAv3aB7AAAAD3RSTlMAInZUiRDNmWbv3US7\n",
       "qzJazP2FAAAACXBIWXMAAA7EAAAOxAGVKw4bAAABo0lEQVQ4y32Tu0vDUBTGv7RJH+lzE5xSEAQn\n",
       "EXE1Q8GpEicXoV0E0aWDUBXE6KCjBamDVRS1iyAU/4LoICqCXUQQSiu4KAiiWMTi49y2aeUm5C7n\n",
       "cL787nfOvbkAorAsm9K/5eq31k4slTAwZuaDgDdz29HE+ChcOk/4a9MFBqYBKQVpH0/tPoQZ3AOT\n",
       "PCHvHmoslGh/HaEsgoYpeRRcA2s8EWqGPiL8QCQF8cOUhrVGE5otEV4lYghIGnDVTemy6aTbEqKH\n",
       "iNmmx6cpbT72Fkkq8cRKogrEGDGFxhxvplTTsQH4UixfOGLrmKVBTahD0BlxQMeVx8t7C5B+gXkN\n",
       "7qz1kq4gghF5ysd7Bn4oJGlj6QtYLyL8aiWWosttAs2zktOsKyJ0BHiPcyIeFLS6Ym0aHW/m4d7j\n",
       "5tgCKoFyubKj4gxw55Cstu+D5qDJDc5DBbbZPZFHgv7FAi7aUlCV6Ky8Kkd0wZWjEKGdninGM8WO\n",
       "NrJIfnKRI4TMHf0G3ptvBXLV7gl0OzwPX9quOuf0ok5taoLhREzY1IKOz1ZQrLWYw/d/u9loGCNz\n",
       "hwYAAAAASUVORK5CYII=\n",
       "\" style=\"display:inline;vertical-align:middle;\" /></a><br>(see <a class=\"ProveItLink\" href=\"../../../__pv_it/theorems/3577214e58dcf0b5fbccbd57014626f8db6e39de0/dependencies.ipynb\">dependencies</a>)<br>"
      ],
      "text/plain": [
       "<IPython.core.display.HTML object>"
      ]
     },
     "metadata": {},
     "output_type": "display_data"
    },
    {
     "name": "stdout",
     "output_type": "stream",
     "text": [
      "mult_9_6 may now be readily provable (assuming required theorems are usable).  Simply execute \"%qed\".\n"
     ]
    }
   ],
   "source": [
    "%proving mult_9_6"
   ]
  },
  {
   "cell_type": "code",
   "execution_count": null,
   "metadata": {},
   "outputs": [],
   "source": []
  }
 ],
 "metadata": {
  "kernelspec": {
   "display_name": "Python 3",
   "language": "python",
   "name": "python3"
  }
 },
 "nbformat": 4,
 "nbformat_minor": 0
}