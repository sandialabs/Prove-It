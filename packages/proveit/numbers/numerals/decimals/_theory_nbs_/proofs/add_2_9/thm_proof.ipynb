{
 "cells": [
  {
   "cell_type": "markdown",
   "metadata": {},
   "source": [
    "Proof of <a class=\"ProveItLink\" href=\"../../../../../../_theory_nbs_/theory.ipynb\">proveit</a>.<a class=\"ProveItLink\" href=\"../../../../../_theory_nbs_/theory.ipynb\">numbers</a>.<a class=\"ProveItLink\" href=\"../../../../_theory_nbs_/theory.ipynb\">numerals</a>.<a class=\"ProveItLink\" href=\"../../theory.ipynb\">decimals</a>.<a class=\"ProveItLink\" href=\"../../theorems.ipynb#add_2_9\">add_2_9</a> theorem\n",
    "========"
   ]
  },
  {
   "cell_type": "code",
   "execution_count": 1,
   "metadata": {},
   "outputs": [],
   "source": [
    "import proveit\n",
    "theory = proveit.Theory() # the theorem's theory"
   ]
  },
  {
   "cell_type": "code",
   "execution_count": 2,
   "metadata": {},
   "outputs": [
    {
     "data": {
      "text/html": [
       "With these <a href=\"allowed_presumptions.txt\">allowed</a>/<a href=\"disallowed_presumptions.txt\">disallowed</a> theorem/theory presumptions (e.g., to avoid circular dependencies), we begin our proof of<br><strong id=\"add_2_9\">add_2_9:</strong> <a class=\"ProveItLink\" href=\"../../../__pv_it/theorems/cc0a31dff3ad8820c3683e3ac4ce9c790a70a7f90/expr.ipynb\"><img src=\"data:image/png;base64,iVBORw0KGgoAAAANSUhEUgAAAGsAAAAVBAMAAACzuQ2OAAAAMFBMVEX///8AAAAAAAAAAAAAAAAA\n",
       "AAAAAAAAAAAAAAAAAAAAAAAAAAAAAAAAAAAAAAAAAAAv3aB7AAAAD3RSTlMAInZUiRDNmWbv3US7\n",
       "qzJazP2FAAAACXBIWXMAAA7EAAAOxAGVKw4bAAABYUlEQVQ4y2NgYBBgwA4YGfABJgMcEtwK+LSZ\n",
       "MDCIl51DE2Qvv8rAoIGp+FUAlGBNYGA8wOC/AUWWdRHDSwEGtgA0TazX8wMgBAN7AwOvAAPnBIjE\n",
       "DgjFO4GB5wADRwGGbfoBUIITiL4y8H6ECBtBKP4EBpavDAxTcWszA5q9gIH3H4q2+AMMTL8ZGDJw\n",
       "aysBc7k+YNj2g4HBF7c2iInvFVC0gfz2iYGhDRyoq8DgAqq2xWDuWgYUbayzGd5+ZmCwxG3bbLCJ\n",
       "B0Bk1apVM1etApsQrmIE9O17Atp6GVBtAwJQSO7ErQ3kSGYHBkF0bcB4Y7DC7bdDQPoJA4Mqijbm\n",
       "qQzxDxgYenDbBgxkxuXl5QtQtDEtZTjBAIscZOAvACVeASPt////CaiOdCkHJdLV6Lruzs9tgBBc\n",
       "D5DFjVAy3ALc+QY1ve5AyT0NePLbQZwyMviyaQwZBoJ8gCvvMwng1gQAtJRhPCbdSCUAAAAASUVO\n",
       "RK5CYII=\n",
       "\" style=\"display:inline;vertical-align:middle;\" /></a><br>(see <a class=\"ProveItLink\" href=\"../../../__pv_it/theorems/9863672efac8680ed537f6c0ccdd67ffaec691dc0/dependencies.ipynb\">dependencies</a>)<br>"
      ],
      "text/plain": [
       "<IPython.core.display.HTML object>"
      ]
     },
     "metadata": {},
     "output_type": "display_data"
    },
    {
     "name": "stdout",
     "output_type": "stream",
     "text": [
      "add_2_9 may now be readily provable (assuming required theorems are usable).  Simply execute \"%qed\".\n"
     ]
    }
   ],
   "source": [
    "%proving add_2_9"
   ]
  },
  {
   "cell_type": "code",
   "execution_count": null,
   "metadata": {},
   "outputs": [],
   "source": []
  }
 ],
 "metadata": {
  "kernelspec": {
   "display_name": "Python 3",
   "language": "python",
   "name": "python3"
  }
 },
 "nbformat": 4,
 "nbformat_minor": 0
}