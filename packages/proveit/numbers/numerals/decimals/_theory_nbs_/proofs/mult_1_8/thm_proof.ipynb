{
 "cells": [
  {
   "cell_type": "markdown",
   "metadata": {},
   "source": [
    "Proof of <a class=\"ProveItLink\" href=\"../../../../../../_theory_nbs_/theory.ipynb\">proveit</a>.<a class=\"ProveItLink\" href=\"../../../../../_theory_nbs_/theory.ipynb\">numbers</a>.<a class=\"ProveItLink\" href=\"../../../../_theory_nbs_/theory.ipynb\">numerals</a>.<a class=\"ProveItLink\" href=\"../../theory.ipynb\">decimals</a>.<a class=\"ProveItLink\" href=\"../../theorems.ipynb#mult_1_8\">mult_1_8</a> theorem\n",
    "========"
   ]
  },
  {
   "cell_type": "code",
   "execution_count": 1,
   "metadata": {},
   "outputs": [],
   "source": [
    "import proveit\n",
    "theory = proveit.Theory() # the theorem's theory"
   ]
  },
  {
   "cell_type": "code",
   "execution_count": 2,
   "metadata": {},
   "outputs": [
    {
     "data": {
      "text/html": [
       "With these <a href=\"allowed_presumptions.txt\">allowed</a>/<a href=\"disallowed_presumptions.txt\">disallowed</a> theorem/theory presumptions (e.g., to avoid circular dependencies), we begin our proof of<br><strong id=\"mult_1_8\">mult_1_8:</strong> <a class=\"ProveItLink\" href=\"../../../__pv_it/theorems/e52c0256bebc97e20d3ad7c1a51706f442bcdf440/expr.ipynb\"><img src=\"data:image/png;base64,iVBORw0KGgoAAAANSUhEUgAAAFcAAAAVBAMAAADBdm84AAAAMFBMVEX///8AAAAAAAAAAAAAAAAA\n",
       "AAAAAAAAAAAAAAAAAAAAAAAAAAAAAAAAAAAAAAAAAAAv3aB7AAAAD3RSTlMAInZUiRDNmWbv3US7\n",
       "qzJazP2FAAAACXBIWXMAAA7EAAAOxAGVKw4bAAABKElEQVQoz2NgYBBgwABYhCCAyQBTbBMuxSZA\n",
       "/CoAzmV1cd/AwNSArgoszMCawMB6PR+hmJ2B4TIDQyq6YogwO8gQfYTiDgaGMAaGdnTFEGFOBlTF\n",
       "vhDRADTFEGEzNMX2RxkqGBjY0B0NES5BU8z7Xx0YPCwX0BRDhDPQFDPU/wKGMkcCiFm1CgTWIoQX\n",
       "oylmdjz/GUhOQDMZIjwboTgeZFw7A/PPAAa+D2iKIcJIirkKgMRUBgZ5AwZudJMhwmjOYAUaydvA\n",
       "wLwA1c1Q4UNobp7IwMAjwMBxAM1kiLAviOmPSGbbAhiagPHqgKYYIvwKyLo7PxceCXzXy4EphmsD\n",
       "mmKo8ANsSVEKewrlKMAmWoEjPR/EIsZ4AIfiGCxiPLjyFaMCppgidqUAG5RNykjYGAwAAAAASUVO\n",
       "RK5CYII=\n",
       "\" style=\"display:inline;vertical-align:middle;\" /></a><br>(see <a class=\"ProveItLink\" href=\"../../../__pv_it/theorems/2ee981cbc1c7a518d9b5d3251845773944ac24a20/dependencies.ipynb\">dependencies</a>)<br>"
      ],
      "text/plain": [
       "<IPython.core.display.HTML object>"
      ]
     },
     "metadata": {},
     "output_type": "display_data"
    },
    {
     "name": "stdout",
     "output_type": "stream",
     "text": [
      "mult_1_8 may now be readily provable (assuming required theorems are usable).  Simply execute \"%qed\".\n"
     ]
    }
   ],
   "source": [
    "%proving mult_1_8"
   ]
  },
  {
   "cell_type": "code",
   "execution_count": null,
   "metadata": {},
   "outputs": [],
   "source": []
  }
 ],
 "metadata": {
  "kernelspec": {
   "display_name": "Python 3",
   "language": "python",
   "name": "python3"
  }
 },
 "nbformat": 4,
 "nbformat_minor": 0
}