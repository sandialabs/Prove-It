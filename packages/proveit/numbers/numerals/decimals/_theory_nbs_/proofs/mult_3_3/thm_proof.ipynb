{
 "cells": [
  {
   "cell_type": "markdown",
   "metadata": {},
   "source": [
    "Proof of <a class=\"ProveItLink\" href=\"../../../../../../_theory_nbs_/theory.ipynb\">proveit</a>.<a class=\"ProveItLink\" href=\"../../../../../_theory_nbs_/theory.ipynb\">numbers</a>.<a class=\"ProveItLink\" href=\"../../../../_theory_nbs_/theory.ipynb\">numerals</a>.<a class=\"ProveItLink\" href=\"../../theory.ipynb\">decimals</a>.<a class=\"ProveItLink\" href=\"../../theorems.ipynb#mult_3_3\">mult_3_3</a> theorem\n",
    "========"
   ]
  },
  {
   "cell_type": "code",
   "execution_count": 1,
   "metadata": {},
   "outputs": [],
   "source": [
    "import proveit\n",
    "theory = proveit.Theory() # the theorem's theory"
   ]
  },
  {
   "cell_type": "code",
   "execution_count": 2,
   "metadata": {},
   "outputs": [
    {
     "data": {
      "text/html": [
       "With these <a href=\"allowed_presumptions.txt\">allowed</a>/<a href=\"disallowed_presumptions.txt\">disallowed</a> theorem/theory presumptions (e.g., to avoid circular dependencies), we begin our proof of<br><strong id=\"mult_3_3\">mult_3_3:</strong> <a class=\"ProveItLink\" href=\"../../../__pv_it/theorems/6446a28060379d8affc5b1e538ee216e7da8bf510/expr.ipynb\"><img src=\"data:image/png;base64,iVBORw0KGgoAAAANSUhEUgAAAFcAAAAVBAMAAADBdm84AAAAMFBMVEX///8AAAAAAAAAAAAAAAAA\n",
       "AAAAAAAAAAAAAAAAAAAAAAAAAAAAAAAAAAAAAAAAAAAv3aB7AAAAD3RSTlMAInZUiRDNmWbv3US7\n",
       "qzJazP2FAAAACXBIWXMAAA7EAAAOxAGVKw4bAAABbUlEQVQoz3WTPUjDUBSFT5LGNk1IHZyc6ipI\n",
       "M4jgVEGhk/g2UQS7CI5BhIo/kE3HOhdRcJGCEFxEp+qqYFcHNTg6iFAqDqLevNg2vLzcIdycfNx3\n",
       "cnIDYBiJkkhRqU5Su0iDJ4GRyl3/Vpnb9aF6Cay2xwC9Ct1FuT9+EVoHWBPZ5aJ9CGQ9qB2sVntq\n",
       "ydE/gX0RfgTuAQMwGyj04SsfBBtMgElbYJjifTlmUvsChgTT+jed6WMz7M2z2INrAjNtyWQP69TZ\n",
       "E88D+fUpAHLc1nYzrPN/zw9FnEY2YmGHaWh1YfKSb784aPDe6NKlF8kxg/0hwPrGbCkIYTuARdOQ\n",
       "d+nyTuc5MOvJr0dpkI1CN4J5/bIQ1k4Ez+A535KHdmSD1xG3kWsJY6eZ/gPM06t7sZwPeM7ZGQEe\n",
       "ZxYhb9Rd1gaLZNZokZD3BThT2QnfKpCt4qh8Q3OuTN1K2ecbiaa0UuAViWal/VdKMamNydE/OmNZ\n",
       "4VIeqh8AAAAASUVORK5CYII=\n",
       "\" style=\"display:inline;vertical-align:middle;\" /></a><br>(see <a class=\"ProveItLink\" href=\"../../../__pv_it/theorems/6eff9cc2713d37caf6b058acd324a82ca58693a30/dependencies.ipynb\">dependencies</a>)<br>"
      ],
      "text/plain": [
       "<IPython.core.display.HTML object>"
      ]
     },
     "metadata": {},
     "output_type": "display_data"
    },
    {
     "name": "stdout",
     "output_type": "stream",
     "text": [
      "mult_3_3 may now be readily provable (assuming required theorems are usable).  Simply execute \"%qed\".\n"
     ]
    }
   ],
   "source": [
    "%proving mult_3_3"
   ]
  },
  {
   "cell_type": "code",
   "execution_count": null,
   "metadata": {},
   "outputs": [],
   "source": []
  }
 ],
 "metadata": {
  "kernelspec": {
   "display_name": "Python 3",
   "language": "python",
   "name": "python3"
  }
 },
 "nbformat": 4,
 "nbformat_minor": 0
}