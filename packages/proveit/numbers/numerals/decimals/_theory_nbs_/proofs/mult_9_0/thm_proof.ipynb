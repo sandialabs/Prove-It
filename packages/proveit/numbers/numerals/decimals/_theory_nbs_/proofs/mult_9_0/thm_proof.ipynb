{
 "cells": [
  {
   "cell_type": "markdown",
   "metadata": {},
   "source": [
    "Proof of <a class=\"ProveItLink\" href=\"../../../../../../_theory_nbs_/theory.ipynb\">proveit</a>.<a class=\"ProveItLink\" href=\"../../../../../_theory_nbs_/theory.ipynb\">numbers</a>.<a class=\"ProveItLink\" href=\"../../../../_theory_nbs_/theory.ipynb\">numerals</a>.<a class=\"ProveItLink\" href=\"../../theory.ipynb\">decimals</a>.<a class=\"ProveItLink\" href=\"../../theorems.ipynb#mult_9_0\">mult_9_0</a> theorem\n",
    "========"
   ]
  },
  {
   "cell_type": "code",
   "execution_count": 1,
   "metadata": {},
   "outputs": [],
   "source": [
    "import proveit\n",
    "theory = proveit.Theory() # the theorem's theory"
   ]
  },
  {
   "cell_type": "code",
   "execution_count": 2,
   "metadata": {},
   "outputs": [
    {
     "data": {
      "text/html": [
       "With these <a href=\"allowed_presumptions.txt\">allowed</a>/<a href=\"disallowed_presumptions.txt\">disallowed</a> theorem/theory presumptions (e.g., to avoid circular dependencies), we begin our proof of<br><strong id=\"mult_9_0\">mult_9_0:</strong> <a class=\"ProveItLink\" href=\"../../../__pv_it/theorems/93c8e9032189554a34126c1e4f3248fb091745330/expr.ipynb\"><img src=\"data:image/png;base64,iVBORw0KGgoAAAANSUhEUgAAAFcAAAAVBAMAAADBdm84AAAAMFBMVEX///8AAAAAAAAAAAAAAAAA\n",
       "AAAAAAAAAAAAAAAAAAAAAAAAAAAAAAAAAAAAAAAAAAAv3aB7AAAAD3RSTlMAInZUiRDNmWbv3US7\n",
       "qzJazP2FAAAACXBIWXMAAA7EAAAOxAGVKw4bAAABUklEQVQoz3XTvUvDQBzG8W/apm9W7exUQXAS\n",
       "gohrOzgqZHMR2kVw7FCsOGUTXeziVBC1uAhC8R8wOjkouLh3VRDFFxQE8ZJLGnu53JK7D0/uLb8A\n",
       "ZWJNQ7KlrLhdJIUXINd+iMZLs2VSTizmMWYD84TH4cJZyzyGdTUrOecw3qHkhroHy7CjhiUXYLJB\n",
       "5jPUO6jaFGwlLHkR6i6pn1C/4MUiq25ackvO/B2g6alD5n40G/AG/p7fAjU+hFbIN7zB9pnXziPu\n",
       "ide6PL//D9dId0ZnDrgruqsz87/iURfTmUIvK0y8KtuQ3PUH/m0Um/IkVYuxTvyAgnt+P7rnW9i3\n",
       "SR+N7jnga0gfUB+E4V3YhLyrzCx5RZTSKTdDLVrmofiuNSUs+ckrknY/OkprTqxS7CvhgAe6UpzS\n",
       "V2i+qdOthHq+0pjhJoTXNFZK+q+MStym9dE/SS9csr3zMMoAAAAASUVORK5CYII=\n",
       "\" style=\"display:inline;vertical-align:middle;\" /></a><br>(see <a class=\"ProveItLink\" href=\"../../../__pv_it/theorems/b7752f274bdeee7a225e0853980ccbfbceb4812e0/dependencies.ipynb\">dependencies</a>)<br>"
      ],
      "text/plain": [
       "<IPython.core.display.HTML object>"
      ]
     },
     "metadata": {},
     "output_type": "display_data"
    },
    {
     "name": "stdout",
     "output_type": "stream",
     "text": [
      "mult_9_0 may now be readily provable (assuming required theorems are usable).  Simply execute \"%qed\".\n"
     ]
    }
   ],
   "source": [
    "%proving mult_9_0"
   ]
  },
  {
   "cell_type": "code",
   "execution_count": null,
   "metadata": {},
   "outputs": [],
   "source": []
  }
 ],
 "metadata": {
  "kernelspec": {
   "display_name": "Python 3",
   "language": "python",
   "name": "python3"
  }
 },
 "nbformat": 4,
 "nbformat_minor": 0
}