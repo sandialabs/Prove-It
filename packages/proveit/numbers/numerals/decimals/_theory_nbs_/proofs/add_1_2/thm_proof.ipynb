{
 "cells": [
  {
   "cell_type": "markdown",
   "metadata": {},
   "source": [
    "Proof of <a class=\"ProveItLink\" href=\"../../../../../../_theory_nbs_/theory.ipynb\">proveit</a>.<a class=\"ProveItLink\" href=\"../../../../../_theory_nbs_/theory.ipynb\">numbers</a>.<a class=\"ProveItLink\" href=\"../../../../_theory_nbs_/theory.ipynb\">numerals</a>.<a class=\"ProveItLink\" href=\"../../theory.ipynb\">decimals</a>.<a class=\"ProveItLink\" href=\"../../theorems.ipynb#add_1_2\">add_1_2</a> theorem\n",
    "========"
   ]
  },
  {
   "cell_type": "code",
   "execution_count": 1,
   "metadata": {},
   "outputs": [],
   "source": [
    "import proveit\n",
    "theory = proveit.Theory() # the theorem's theory"
   ]
  },
  {
   "cell_type": "code",
   "execution_count": 2,
   "metadata": {},
   "outputs": [
    {
     "data": {
      "text/html": [
       "With these <a href=\"allowed_presumptions.txt\">allowed</a>/<a href=\"disallowed_presumptions.txt\">disallowed</a> theorem/theory presumptions (e.g., to avoid circular dependencies), we begin our proof of<br><strong id=\"add_1_2\">add_1_2:</strong> <a class=\"ProveItLink\" href=\"../../../__pv_it/theorems/2fdc1e4800223b4036ace68f68551b19b2b04ff70/expr.ipynb\"><img src=\"data:image/png;base64,iVBORw0KGgoAAAANSUhEUgAAAGEAAAAVBAMAAACkm51HAAAAMFBMVEX///8AAAAAAAAAAAAAAAAA\n",
       "AAAAAAAAAAAAAAAAAAAAAAAAAAAAAAAAAAAAAAAAAAAv3aB7AAAAD3RSTlMAInZUiRDNmWbv3US7\n",
       "qzJazP2FAAAACXBIWXMAAA7EAAAOxAGVKw4bAAABVUlEQVQ4y3WTv0sDMRTHv7nr2etVys3FQf+C\n",
       "HqU4d3AVb3Nx6CI4KDoIJ6VDNx1dS5EKbgHp4VSdav8BdRKE0sOxg4iCCA5nkiLmckkg5P3IJ+8l\n",
       "Lw+AD/0w2WEFBseNiWiwOQ+zNhLtJ7C66lay0YkBpwXn+VAhVlD4AXZVYhv2J1DkJ9X+iNFieQJ6\n",
       "wKlK1ALnCyhBJuqLZRBi5qOkRMZtDEas64gXYJZgKXcR2N/AsY5gYwgUHnPEHTtkT09UPgC3xaUi\n",
       "FUPQr9MEuNITHtthn+ezYm/V/yfalPYovRauDo/znq8ee5O+NobLkyirMd6Ah8CQVQPEh32p3CMN\n",
       "OTHREZUmrBDuWIlxIbLa5OKWnyWqUdRmpzcV4kzUY86k6eCgmyGGacqK68UKUY74T/QS2VaXlar+\n",
       "s7tHsjaSlRNDf9ybGoeMDY4dE7FsaluyanCs6c2/VmFZDOESJTMAAAAASUVORK5CYII=\n",
       "\" style=\"display:inline;vertical-align:middle;\" /></a><br>(see <a class=\"ProveItLink\" href=\"../../../__pv_it/theorems/071c92b07cd9f83ed9db4e03bec8b83984ee19330/dependencies.ipynb\">dependencies</a>)<br>"
      ],
      "text/plain": [
       "<IPython.core.display.HTML object>"
      ]
     },
     "metadata": {},
     "output_type": "display_data"
    },
    {
     "name": "stdout",
     "output_type": "stream",
     "text": [
      "add_1_2 may now be readily provable (assuming required theorems are usable).  Simply execute \"%qed\".\n"
     ]
    }
   ],
   "source": [
    "%proving add_1_2"
   ]
  },
  {
   "cell_type": "code",
   "execution_count": null,
   "metadata": {},
   "outputs": [],
   "source": []
  }
 ],
 "metadata": {
  "kernelspec": {
   "display_name": "Python 3",
   "language": "python",
   "name": "python3"
  }
 },
 "nbformat": 4,
 "nbformat_minor": 0
}