{
 "cells": [
  {
   "cell_type": "markdown",
   "metadata": {},
   "source": [
    "Proof of <a class=\"ProveItLink\" href=\"../../../../../../_theory_nbs_/theory.ipynb\">proveit</a>.<a class=\"ProveItLink\" href=\"../../../../../_theory_nbs_/theory.ipynb\">numbers</a>.<a class=\"ProveItLink\" href=\"../../../../_theory_nbs_/theory.ipynb\">numerals</a>.<a class=\"ProveItLink\" href=\"../../theory.ipynb\">decimals</a>.<a class=\"ProveItLink\" href=\"../../theorems.ipynb#add_9_3\">add_9_3</a> theorem\n",
    "========"
   ]
  },
  {
   "cell_type": "code",
   "execution_count": 1,
   "metadata": {},
   "outputs": [],
   "source": [
    "import proveit\n",
    "theory = proveit.Theory() # the theorem's theory"
   ]
  },
  {
   "cell_type": "code",
   "execution_count": 2,
   "metadata": {},
   "outputs": [
    {
     "data": {
      "text/html": [
       "With these <a href=\"allowed_presumptions.txt\">allowed</a>/<a href=\"disallowed_presumptions.txt\">disallowed</a> theorem/theory presumptions (e.g., to avoid circular dependencies), we begin our proof of<br><strong id=\"add_9_3\">add_9_3:</strong> <a class=\"ProveItLink\" href=\"../../../__pv_it/theorems/2849b7df89bc0adbaac15966871139c78c96c88f0/expr.ipynb\"><img src=\"data:image/png;base64,iVBORw0KGgoAAAANSUhEUgAAAGwAAAAVBAMAAABRZRb3AAAAMFBMVEX///8AAAAAAAAAAAAAAAAA\n",
       "AAAAAAAAAAAAAAAAAAAAAAAAAAAAAAAAAAAAAAAAAAAv3aB7AAAAD3RSTlMAInZUiRDNmWbv3US7\n",
       "qzJazP2FAAAACXBIWXMAAA7EAAAOxAGVKw4bAAABlUlEQVQ4y52TPUjDQBTH/43GNG3TRhBcHDoo\n",
       "uIiliKBLHQQnaTYXoRldxA7FgFMmJ4UuHaSDxVKUSKGbdYtOgiBdxEnp4GJBqpaCILRekgq95NLB\n",
       "B7nLvbvfva97AGSwJYBRwiV8NsLxUdgSIGiPLuXUxj0w7z3cUoDp/QeAV8Gf4Y32lM8ilcCE4oL4\n",
       "pz0FARPpGgQdUh4R09moDxzvIKMimPVYW1QgyRDzEIGYivGuo04OwipaShRYmNiF9IllIGOC+6Ew\n",
       "Iikd2GFaK0HqIedY+3Zh4QsybLIwIqEP60Yrti8aiy68kPHQ+hUMWxpDWDuOMklQEe8dj5OknCs+\n",
       "1qpAkUxbs8kemQ4M48Qwqs4BEjnabEwwHQzuTEabiBD712zsmHxle/lXtwEW69rYKjO2sTVM4pbM\n",
       "BWSaFCY2bCePmNZegTkryVwFd6CwoG7XLefB0jIC55pWQoss1rUajeFKI08Zl27q+XRXD/X7fRWh\n",
       "5rA+STVcyb9v6PdaH16QV+4vN747M6PadPsfF1oR+PU+J/tDv+bKaHuZu1q4AAAAAElFTkSuQmCC\n",
       "\" style=\"display:inline;vertical-align:middle;\" /></a><br>(see <a class=\"ProveItLink\" href=\"../../../__pv_it/theorems/627d93e92138e9a388dfea6ca02e27aa8b16a0c80/dependencies.ipynb\">dependencies</a>)<br>"
      ],
      "text/plain": [
       "<IPython.core.display.HTML object>"
      ]
     },
     "metadata": {},
     "output_type": "display_data"
    },
    {
     "name": "stdout",
     "output_type": "stream",
     "text": [
      "add_9_3 may now be readily provable (assuming required theorems are usable).  Simply execute \"%qed\".\n"
     ]
    }
   ],
   "source": [
    "%proving add_9_3"
   ]
  },
  {
   "cell_type": "code",
   "execution_count": null,
   "metadata": {},
   "outputs": [],
   "source": []
  }
 ],
 "metadata": {
  "kernelspec": {
   "display_name": "Python 3",
   "language": "python",
   "name": "python3"
  }
 },
 "nbformat": 4,
 "nbformat_minor": 0
}