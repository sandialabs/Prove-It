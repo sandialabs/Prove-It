{
 "cells": [
  {
   "cell_type": "markdown",
   "metadata": {},
   "source": [
    "Proof of <a class=\"ProveItLink\" href=\"../../../../../../_theory_nbs_/theory.ipynb\">proveit</a>.<a class=\"ProveItLink\" href=\"../../../../../_theory_nbs_/theory.ipynb\">numbers</a>.<a class=\"ProveItLink\" href=\"../../../../_theory_nbs_/theory.ipynb\">numerals</a>.<a class=\"ProveItLink\" href=\"../../theory.ipynb\">decimals</a>.<a class=\"ProveItLink\" href=\"../../theorems.ipynb#mult_8_7\">mult_8_7</a> theorem\n",
    "========"
   ]
  },
  {
   "cell_type": "code",
   "execution_count": 1,
   "metadata": {},
   "outputs": [],
   "source": [
    "import proveit\n",
    "theory = proveit.Theory() # the theorem's theory"
   ]
  },
  {
   "cell_type": "code",
   "execution_count": 2,
   "metadata": {},
   "outputs": [
    {
     "data": {
      "text/html": [
       "With these <a href=\"allowed_presumptions.txt\">allowed</a>/<a href=\"disallowed_presumptions.txt\">disallowed</a> theorem/theory presumptions (e.g., to avoid circular dependencies), we begin our proof of<br><strong id=\"mult_8_7\">mult_8_7:</strong> <a class=\"ProveItLink\" href=\"../../../__pv_it/theorems/152cee6ba66e9f8c48a02fdebb0f699fb158dee30/expr.ipynb\"><img src=\"data:image/png;base64,iVBORw0KGgoAAAANSUhEUgAAAGEAAAAVBAMAAACkm51HAAAAMFBMVEX///8AAAAAAAAAAAAAAAAA\n",
       "AAAAAAAAAAAAAAAAAAAAAAAAAAAAAAAAAAAAAAAAAAAv3aB7AAAAD3RSTlMAInZUiRDNmWbv3US7\n",
       "qzJazP2FAAAACXBIWXMAAA7EAAAOxAGVKw4bAAABpklEQVQ4y31Tv0vDQBT+0h821ra4SFU61Mm1\n",
       "g7gmQ8HFSgRHoS4F0SWgEK2IwcXRgtShCirqIgjFf8DWQbA4dFN0MIOTIIhCBxXiuxPTeAl5cI+7\n",
       "7+6779179wD0w2M+kMtCuX/LQY3chedUCpj+m48BM/k1Z0uxbbsSMkVGb2fhFIjkp4DoHKAj6QhN\n",
       "GkY5h5LIiB+caJAW8QDETMgm5/2aCqSBLZGRZK4ni1uSI622i0FibUI1P4bC0XEg/K3FXIFHLLrN\n",
       "9GPc8Okyjaf3JddmBlxWYGwWLOw+j9aBeVrG7CPX5iMNmUdZPmN2zqYJTfpCx8QOcMwSnLG7RZEq\n",
       "5MIVb+FaURtY1bBHF+pQqgQV+cUR5lNvXsbGwCewXWcMSoz0wXKu88w3yPWJGtfEsDrEMFlURULu\n",
       "nb0ie3T4UHhHjfKDFte4Ig36eE2HccmU5IagQYXdh0LvAAoUQglytvuxVJY9VWCkEaoioUYpVy+0\n",
       "fDW6PxFDLG3xusCQjDsq+MQ6VTdu+bXAcEB7yLofuhLUUU0fTGoEMWZ9sERg20pZLzYScP4HySth\n",
       "5ddYzBcAAAAASUVORK5CYII=\n",
       "\" style=\"display:inline;vertical-align:middle;\" /></a><br>(see <a class=\"ProveItLink\" href=\"../../../__pv_it/theorems/573ebcd2aee61332a93af8326c749b497970c3880/dependencies.ipynb\">dependencies</a>)<br>"
      ],
      "text/plain": [
       "<IPython.core.display.HTML object>"
      ]
     },
     "metadata": {},
     "output_type": "display_data"
    },
    {
     "name": "stdout",
     "output_type": "stream",
     "text": [
      "mult_8_7 may now be readily provable (assuming required theorems are usable).  Simply execute \"%qed\".\n"
     ]
    }
   ],
   "source": [
    "%proving mult_8_7"
   ]
  },
  {
   "cell_type": "code",
   "execution_count": null,
   "metadata": {},
   "outputs": [],
   "source": []
  }
 ],
 "metadata": {
  "kernelspec": {
   "display_name": "Python 3",
   "language": "python",
   "name": "python3"
  }
 },
 "nbformat": 4,
 "nbformat_minor": 0
}