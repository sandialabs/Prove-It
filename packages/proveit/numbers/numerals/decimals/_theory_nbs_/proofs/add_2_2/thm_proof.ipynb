{
 "cells": [
  {
   "cell_type": "markdown",
   "metadata": {},
   "source": [
    "Proof of <a class=\"ProveItLink\" href=\"../../../../../../_theory_nbs_/theory.ipynb\">proveit</a>.<a class=\"ProveItLink\" href=\"../../../../../_theory_nbs_/theory.ipynb\">numbers</a>.<a class=\"ProveItLink\" href=\"../../../../_theory_nbs_/theory.ipynb\">numerals</a>.<a class=\"ProveItLink\" href=\"../../theory.ipynb\">decimals</a>.<a class=\"ProveItLink\" href=\"../../theorems.ipynb#add_2_2\">add_2_2</a> theorem\n",
    "========"
   ]
  },
  {
   "cell_type": "code",
   "execution_count": 1,
   "metadata": {},
   "outputs": [],
   "source": [
    "import proveit\n",
    "theory = proveit.Theory() # the theorem's theory"
   ]
  },
  {
   "cell_type": "code",
   "execution_count": 2,
   "metadata": {},
   "outputs": [
    {
     "data": {
      "text/html": [
       "With these <a href=\"allowed_presumptions.txt\">allowed</a>/<a href=\"disallowed_presumptions.txt\">disallowed</a> theorem/theory presumptions (e.g., to avoid circular dependencies), we begin our proof of<br><strong id=\"add_2_2\">add_2_2:</strong> <a class=\"ProveItLink\" href=\"../../../__pv_it/theorems/ff86710a6f3c2bd365ba9cb0ef11a02baf1358980/expr.ipynb\"><img src=\"data:image/png;base64,iVBORw0KGgoAAAANSUhEUgAAAGEAAAAVBAMAAACkm51HAAAAMFBMVEX///8AAAAAAAAAAAAAAAAA\n",
       "AAAAAAAAAAAAAAAAAAAAAAAAAAAAAAAAAAAAAAAAAAAv3aB7AAAAD3RSTlMAInZUiRDNmWbv3US7\n",
       "qzJazP2FAAAACXBIWXMAAA7EAAAOxAGVKw4bAAABc0lEQVQ4y3WTMUvDQBTH/9fWNmlNrZNQHNLB\n",
       "xUlKcc4XEPsBHLIIDg4dxEhxqItOQtciYsFBCEiLU8foB9C6CqUdnFysgi6i8V2CmLvrHSF37//u\n",
       "9967Sx6AEmYPnY7UmsZxoyNqwNL+vagxb3eCVEvdXGwAcy5YgM2+4FhG5gvYVon8EMi1YJVgtmNl\n",
       "EE+PQAc4UYlVIkx6PmC9xUo1ni7qGFOYulLUMRHrgNWF9SMQT8B4gqxykEyWiL24vqlA0OiRfygT\n",
       "FU7sRMtXWyKK74Dh8lXOjwanWYsTl9GGa0gEv5R0Wy4KnDiL4gT83fT9ju/H8CHPM5WIo3/iFFIO\n",
       "gxdRkHIwG39VpR0sikQNrIR0VzxHYTQanzu4I/EZWBGIooNUHUagfEGTwA3KduV5XYEoe16TojsK\n",
       "sUBBXuhewjB0BaIXhp+k92Ug9/BtIz9JStWkUZ79sxuNpDVIGgea/rjVNQ4LNI4tHTGva1tmaxyV\n",
       "2fIvaSlb/C62XOIAAAAASUVORK5CYII=\n",
       "\" style=\"display:inline;vertical-align:middle;\" /></a><br>(see <a class=\"ProveItLink\" href=\"../../../__pv_it/theorems/3e052b2e10cb3283e6a7942c91dbc179a0e444b90/dependencies.ipynb\">dependencies</a>)<br>"
      ],
      "text/plain": [
       "<IPython.core.display.HTML object>"
      ]
     },
     "metadata": {},
     "output_type": "display_data"
    },
    {
     "name": "stdout",
     "output_type": "stream",
     "text": [
      "add_2_2 may now be readily provable (assuming required theorems are usable).  Simply execute \"%qed\".\n"
     ]
    }
   ],
   "source": [
    "%proving add_2_2"
   ]
  },
  {
   "cell_type": "code",
   "execution_count": null,
   "metadata": {},
   "outputs": [],
   "source": []
  }
 ],
 "metadata": {
  "kernelspec": {
   "display_name": "Python 3",
   "language": "python",
   "name": "python3"
  }
 },
 "nbformat": 4,
 "nbformat_minor": 0
}