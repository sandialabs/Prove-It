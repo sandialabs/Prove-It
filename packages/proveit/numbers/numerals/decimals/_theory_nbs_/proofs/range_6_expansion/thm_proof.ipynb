{
 "cells": [
  {
   "cell_type": "markdown",
   "metadata": {},
   "source": [
    "Proof of <a class=\"ProveItLink\" href=\"../../../../../../_theory_nbs_/theory.ipynb\">proveit</a>.<a class=\"ProveItLink\" href=\"../../../../../_theory_nbs_/theory.ipynb\">numbers</a>.<a class=\"ProveItLink\" href=\"../../../../_theory_nbs_/theory.ipynb\">numerals</a>.<a class=\"ProveItLink\" href=\"../../theory.ipynb\">decimals</a>.<a class=\"ProveItLink\" href=\"../../theorems.ipynb#range_6_expansion\">range_6_expansion</a> theorem\n",
    "========"
   ]
  },
  {
   "cell_type": "code",
   "execution_count": 1,
   "metadata": {},
   "outputs": [],
   "source": [
    "import proveit\n",
    "theory = proveit.Theory() # the theorem's theory"
   ]
  },
  {
   "cell_type": "code",
   "execution_count": 2,
   "metadata": {},
   "outputs": [
    {
     "data": {
      "text/html": [
       "With these <a href=\"allowed_presumptions.txt\">allowed</a>/<a href=\"disallowed_presumptions.txt\">disallowed</a> theorem/theory presumptions (e.g., to avoid circular dependencies), we begin our proof of<br><strong id=\"range_6_expansion\">range_6_expansion:</strong> <a class=\"ProveItLink\" href=\"../../../__pv_it/theorems/d1f0f6bb8784ac8f71db43d847cec30f3f627ff40/expr.ipynb\"><img src=\"data:image/png;base64,iVBORw0KGgoAAAANSUhEUgAAA4UAAAAYBAMAAAC/7kWTAAAAMFBMVEX///8AAAAAAAAAAAAAAAAA\n",
       "AAAAAAAAAAAAAAAAAAAAAAAAAAAAAAAAAAAAAAAAAAAv3aB7AAAAD3RSTlMAq1RmmUTNIjK7EInv\n",
       "3XZ/CtNrAAAACXBIWXMAAA7EAAAOxAGVKw4bAAAH30lEQVRo3u2abYgVVRjHn507d+e+O5tCBkJX\n",
       "ov1gqSu+hF9sbVdNJbnQJ2uzNanAL20khZC5BUGS5oYfbJfIMcKSQK9SXxR1NYKwXK+h0IsXLikt\n",
       "9KKboSsLuZ2X58ycmTn3zKx3Iz944Nydc5/fOec/zzNz3u4CTEbqwSyXfV+IZKnrWxPoh9NWffMk\n",
       "SpgI26OTPOmspXJ7I6lQ5FkuA6xTkL+oG0jWYveDtKrG5EuYACt3Lqd1MOlsL2R6mIR1mG367QON\n",
       "xfAhzACrj4jyZSi0yQyzGGVm8acdDsCliB68dmGbw+hLahkaCeZRByUU2qMk1Gc3Lf9AydIOA6x1\n",
       "dGVJ5QUUF0ip9rjs2Req3AeUp3kZ/fbFhkKY6eYZIDv9FJbhZ4CNEsMt+4Bb5MrTXiIuaHa0PUjt\n",
       "wq+cDteIknBoexEl5MtREuqyVh+cKClY1mGA/QSMayovCHH+lLfjshf/OYJyN/L8JhfWSDLbeAbI\n",
       "PTgA4hpggcRwS4f0zZPi4ipRk2jX9uBvl9HhGlESTq11Ykuoyzb1QG5QwZrSK5TE66vFzA2VF1Qs\n",
       "wJ92FCvk2sIHjF/A45ktNhTDHGaAZx1wr8lf6WnllkGp1hzZgXBa24O/XU6fVsnQSEiOQWwJ9dnc\n",
       "GDSNKtichBo4XXaV4IbKCyoWUovsKHaOHEMmgfIkJ0igmxubDlsxAxxzyzQ1S88QsxjddR24QduD\n",
       "v11Ob1DJ0EjIVuJLqM82VaDppoJtVcUFjL8VXlCz2WY7ivXHcAPeHs1nqtVvG4vhasww78w0LGcu\n",
       "k5aztotwi1lGS9iBh3QdeO1C5oqN9CGVjPoSEjPOtaOEAx2gl6BlIT+iYGnngvVi+IzKC644HztM\n",
       "Y6hnhYSpv09HuVms8zjAQGMx9N6KW6KcTZJxKCE9x7fEW8EsYQcu0vbgtgsmfIU0q2FWWbIhWsKU\n",
       "mpBQ7oIICToWdtYULO1csG5c3mvpVXjBFSezVhuNoZ4VEgZga4lLoDzNL4PlRf9TPjazT5y3U957\n",
       "34N23LmIi+8xg3VTlN8yScuGN59wS76IlrADH9aF0GsXhuEa0qEaERK29qKEVHE5REjQsXBOxZIO\n",
       "XVYaS68pvOCKk9ks0BjqWU9CusIlUJ7mtJMt0UGqk76xx/lowWThYpUXaFoo7KSHL58siiDD15jB\n",
       "GBFlJ0e0pUa88LPLXAkt8ES1+l21es5z4E5dDL12wTHGkA7ViJAwF1BCBoYgQoKONftULOmQs2Rk\n",
       "uHgGRwaylXPCXnDFyewjLIYaVpYA5iiXQHmajRpb0qQX9gZ8EtxwZFCXSRdjZ8me5elgDPn0zq7n\n",
       "Eq8kBwMTP40hs4Rfgi7t9tBrF8wK0l3KGNaXcEzEBYwxiJCgY+eBiqUdCla8W+8A7CmGveCKk1ir\n",
       "xmKoZ1FCuhvMm1wC5Vmd7iVsWA/tmYMxNEvYBq1MAy52uu5Ymrbd8voM0VfxXn5bjKXMEnbgbF0M\n",
       "pXb5Pnq2qCHPhxES3gchodl2IiRoWKMMrylY2qFgRQzHHRrDkBdccRKbbGm5/2Q5ghXbG7I0HuES\n",
       "KM/qHKa7fWPGYXr4xioeeEyKIRboLaGdxfDtWd628iPMkKuJcuZ6lsy2tAV+W9ySrqEl7MDF4LK+\n",
       "dx/87QKbzhm9OMhGSBgCIeFgqRwhQcO+C/AbZ9GzQ27nghUxPMnGUiYheB+uF7y5M2dDBDtHTJ2Q\n",
       "6+MSKM/qvM4Cx1TV2GjQ3irFkBTMfpJ2watoZzG8dy95wnBCdFf6W0uinBp5BbcSN8CzZG20+Bx4\n",
       "okfsGyh7sBsv3JLcLsCjvt2MnPQSrOsgJOy02rQSdKx1vrOzwlmuDVnauWBFXOaz/SGVELoP1wte\n",
       "DKf0RbFCQjv84XAJlGd1mthE2EmtH9P3MuN84cVQFEhai/Y0X66OQBJH2x2YcXpn11PJ7eSpjKrj\n",
       "WVIVtMgObDm7nnxzAZDN0wfjPOBH/qdAu3Af/biA2X9wrZWAawQqoWk+aCXo2Pz4+Hg3Z7k2ZGmH\n",
       "ghVxSXauLKGE0H1MDe4PzT1/1SJYIXfT0lV4/3nRPk+7xOjh7rT6QCqQNJPZV/Z/2N/fZpA3HFLS\n",
       "ypWtXpf6V7JbmEgWQ7T8oDokYc9WxWN9aRYE2h1C2qqEDo21Ekw7voSYLNOGbL5XdU7jSgjfx22w\n",
       "YQlb3DosfUM/Dn7GrkflGI6KsXQb2ul7OKXXGnXHUjyCNuznvDKII2M6lruWBaoDZ++8OhtezpTB\n",
       "1+49iTHfIbuctBJmNhdjS4jLliVWPgVP+qR1qO7jttiwhA7fwXxmDDJlaDXhczKGDEoxTA1Ka5pW\n",
       "E2NoOgUbCuIZ2s1yfqBbKotfQw7QmsKSrver82YQbGBNUwO53dQ1trTd7NbwJZ2EH/dBbAkxWarN\n",
       "Y3fXO5/oU9zHJLCbkZd+cyKhSp2CvcOwvQgFW4phwT3EIXdE7DyGmeNHpVvcz3LislwWZnqjriVT\n",
       "70currQW+r4g1ybtrlnmPTOhpJOwZAXElhCTZedULru/3r6oR3UfjbO7kZeeM/rOGuyqKE7P+wIn\n",
       "/8mytz/0N092qCzLZXosFk5vqAUV4v1XCPZBaVWNyZcwAdaqqdlh+E9YJmHYVyc9k8ydT7FIOc9v\n",
       "l/b4okDTCu+cRi7fTXdGyl4hH+yNS8CaVVIMRYFB/mVjonTXb3d6Cg8YjuIM5W7639O/UpMXGHOh\n",
       "dOUAAAAASUVORK5CYII=\n",
       "\" style=\"display:inline;vertical-align:middle;\" /></a><br>(see <a class=\"ProveItLink\" href=\"../../../__pv_it/theorems/b88a681a44078bc0bfdd68d74f26fe8c5d0111370/dependencies.ipynb\">dependencies</a>)<br>"
      ],
      "text/plain": [
       "<IPython.core.display.HTML object>"
      ]
     },
     "metadata": {},
     "output_type": "display_data"
    }
   ],
   "source": [
    "%proving range_6_expansion"
   ]
  },
  {
   "cell_type": "code",
   "execution_count": null,
   "metadata": {},
   "outputs": [],
   "source": []
  }
 ],
 "metadata": {
  "kernelspec": {
   "display_name": "Python 3",
   "language": "python",
   "name": "python3"
  }
 },
 "nbformat": 4,
 "nbformat_minor": 0
}