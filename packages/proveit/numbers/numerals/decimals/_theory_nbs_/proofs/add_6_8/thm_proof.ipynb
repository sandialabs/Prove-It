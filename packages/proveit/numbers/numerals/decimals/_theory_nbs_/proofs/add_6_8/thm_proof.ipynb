{
 "cells": [
  {
   "cell_type": "markdown",
   "metadata": {},
   "source": [
    "Proof of <a class=\"ProveItLink\" href=\"../../../../../../_theory_nbs_/theory.ipynb\">proveit</a>.<a class=\"ProveItLink\" href=\"../../../../../_theory_nbs_/theory.ipynb\">numbers</a>.<a class=\"ProveItLink\" href=\"../../../../_theory_nbs_/theory.ipynb\">numerals</a>.<a class=\"ProveItLink\" href=\"../../theory.ipynb\">decimals</a>.<a class=\"ProveItLink\" href=\"../../theorems.ipynb#add_6_8\">add_6_8</a> theorem\n",
    "========"
   ]
  },
  {
   "cell_type": "code",
   "execution_count": 1,
   "metadata": {},
   "outputs": [],
   "source": [
    "import proveit\n",
    "theory = proveit.Theory() # the theorem's theory"
   ]
  },
  {
   "cell_type": "code",
   "execution_count": 2,
   "metadata": {},
   "outputs": [
    {
     "data": {
      "text/html": [
       "With these <a href=\"allowed_presumptions.txt\">allowed</a>/<a href=\"disallowed_presumptions.txt\">disallowed</a> theorem/theory presumptions (e.g., to avoid circular dependencies), we begin our proof of<br><strong id=\"add_6_8\">add_6_8:</strong> <a class=\"ProveItLink\" href=\"../../../__pv_it/theorems/fa53783882c31da010a05ae817272c51d53b13980/expr.ipynb\"><img src=\"data:image/png;base64,iVBORw0KGgoAAAANSUhEUgAAAGwAAAAVBAMAAABRZRb3AAAAMFBMVEX///8AAAAAAAAAAAAAAAAA\n",
       "AAAAAAAAAAAAAAAAAAAAAAAAAAAAAAAAAAAAAAAAAAAv3aB7AAAAD3RSTlMAInZUiRDNmWbv3US7\n",
       "qzJazP2FAAAACXBIWXMAAA7EAAAOxAGVKw4bAAABjklEQVQ4y2NgYBBgwA4YGfABJgMcEtwK+LSZ\n",
       "ALGLywNUwRCXagYGDUzFrwJA5HMGBtYEBgaxDbwLUKULGHgNGNgC0DSxXs8HC61lYGBvYGBIYuA5\n",
       "AJHYAaE4GkDGcRRg2KYP0sYE1MbJwMD8FS5sBKFYLoBdMRW7the5DAxmDAw8E9C1Mf8JALkiA7s2\n",
       "B6C2EqCFeU7VqNoY7n8qBpK+WLUxCeSCTeTPYOA0QNXG/n8hkGwDM1eBwQW4NgkGoLbFDAzxHxjY\n",
       "p6JqM5H5DzTIEqttDiBts4HaFjBw/AaKVa1aNXPVqrWgkCxgsAca9B6bNg4BqDZ+YFj/QLGNM4CB\n",
       "8TMDw05s2oQYoI7kgdqG0BYPxDcYGKyw+W3v3bs/rzAcAgY30G8TUG0DJu+DDAw92COAYS4kkI8w\n",
       "RKKGJHcqA4cCOHLQgD84u/wBJk5Qoii/hxZvb8tBMbkaXdfd+bnAVFDz/xIDF0raN0LJcAtw5xvU\n",
       "9LoDmQNKXzjBQZwyMviyaQwZBoJ8gCvvMwng1gQAYG1iwFO8wjMAAAAASUVORK5CYII=\n",
       "\" style=\"display:inline;vertical-align:middle;\" /></a><br>(see <a class=\"ProveItLink\" href=\"../../../__pv_it/theorems/94f1f50397c1ac574c8eb61ba075e9af84bed0020/dependencies.ipynb\">dependencies</a>)<br>"
      ],
      "text/plain": [
       "<IPython.core.display.HTML object>"
      ]
     },
     "metadata": {},
     "output_type": "display_data"
    },
    {
     "name": "stdout",
     "output_type": "stream",
     "text": [
      "add_6_8 may now be readily provable (assuming required theorems are usable).  Simply execute \"%qed\".\n"
     ]
    }
   ],
   "source": [
    "%proving add_6_8"
   ]
  },
  {
   "cell_type": "code",
   "execution_count": null,
   "metadata": {},
   "outputs": [],
   "source": []
  }
 ],
 "metadata": {
  "kernelspec": {
   "display_name": "Python 3",
   "language": "python",
   "name": "python3"
  }
 },
 "nbformat": 4,
 "nbformat_minor": 0
}