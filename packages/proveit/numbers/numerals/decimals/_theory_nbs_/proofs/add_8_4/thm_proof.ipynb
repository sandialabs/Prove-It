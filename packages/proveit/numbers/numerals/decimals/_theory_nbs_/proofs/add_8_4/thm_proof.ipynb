{
 "cells": [
  {
   "cell_type": "markdown",
   "metadata": {},
   "source": [
    "Proof of <a class=\"ProveItLink\" href=\"../../../../../../_theory_nbs_/theory.ipynb\">proveit</a>.<a class=\"ProveItLink\" href=\"../../../../../_theory_nbs_/theory.ipynb\">numbers</a>.<a class=\"ProveItLink\" href=\"../../../../_theory_nbs_/theory.ipynb\">numerals</a>.<a class=\"ProveItLink\" href=\"../../theory.ipynb\">decimals</a>.<a class=\"ProveItLink\" href=\"../../theorems.ipynb#add_8_4\">add_8_4</a> theorem\n",
    "========"
   ]
  },
  {
   "cell_type": "code",
   "execution_count": 1,
   "metadata": {},
   "outputs": [],
   "source": [
    "import proveit\n",
    "theory = proveit.Theory() # the theorem's theory"
   ]
  },
  {
   "cell_type": "code",
   "execution_count": 2,
   "metadata": {},
   "outputs": [
    {
     "data": {
      "text/html": [
       "With these <a href=\"allowed_presumptions.txt\">allowed</a>/<a href=\"disallowed_presumptions.txt\">disallowed</a> theorem/theory presumptions (e.g., to avoid circular dependencies), we begin our proof of<br><strong id=\"add_8_4\">add_8_4:</strong> <a class=\"ProveItLink\" href=\"../../../__pv_it/theorems/7f9e53cbaf947c256ec9a7941fdd9c9ca519be910/expr.ipynb\"><img src=\"data:image/png;base64,iVBORw0KGgoAAAANSUhEUgAAAGwAAAAVBAMAAABRZRb3AAAAMFBMVEX///8AAAAAAAAAAAAAAAAA\n",
       "AAAAAAAAAAAAAAAAAAAAAAAAAAAAAAAAAAAAAAAAAAAv3aB7AAAAD3RSTlMAInZUiRDNmWbv3US7\n",
       "qzJazP2FAAAACXBIWXMAAA7EAAAOxAGVKw4bAAABiklEQVQ4y52Tv0vDQBTHv22t+VEC0UWHDl0E\n",
       "N0sRQRc7uEozOAp2EVyKBYsB69DJScHFQUSsOAgRwbEOQusfIEUEXYoOglKQ+gMHoRjfHbT0kksH\n",
       "H7wk914+9727dw+ACbmF0M/CyYBELNEPmwQW5oq+8Asw7v+5aQEj6zdANAvkYfgkz4FByxOL3q9a\n",
       "CFWRuYBSglriMLNKd+mEqXmf2oQFw4S2Cw0YqHexVCf/mqPHngzTvmF8YAqItC3SFLE0w1akamUY\n",
       "vyjQ4PFzDSIWNhk2L8PI9Hc+o+Iee7BRMGyLfSoOt3oP1krghNUg7iZFLM2x6QA1Oq4DfmKzbPcb\n",
       "jrPvOBSDanKsJceUKsc0KsaXoDYMjl3KsR1yWuQSvR4E7KrR+LkDZqR7i6QxhGtSo8tc8xQAh+Tb\n",
       "UrVnYIwdcmwZasKLtckLPixjInRq22U0afBmFz0FwKZ7C5x5qcZRrqS7rpuF/tQbTwkNVw7uG/G+\n",
       "VnoHnRsntVpgJt6vTRf/MSHbQVDvh81g6A8qA2KNVFPRGQAAAABJRU5ErkJggg==\n",
       "\" style=\"display:inline;vertical-align:middle;\" /></a><br>(see <a class=\"ProveItLink\" href=\"../../../__pv_it/theorems/221fb638920d905fac89bf1801fcb0c5a6064f680/dependencies.ipynb\">dependencies</a>)<br>"
      ],
      "text/plain": [
       "<IPython.core.display.HTML object>"
      ]
     },
     "metadata": {},
     "output_type": "display_data"
    },
    {
     "name": "stdout",
     "output_type": "stream",
     "text": [
      "add_8_4 may now be readily provable (assuming required theorems are usable).  Simply execute \"%qed\".\n"
     ]
    }
   ],
   "source": [
    "%proving add_8_4"
   ]
  },
  {
   "cell_type": "code",
   "execution_count": null,
   "metadata": {},
   "outputs": [],
   "source": []
  }
 ],
 "metadata": {
  "kernelspec": {
   "display_name": "Python 3",
   "language": "python",
   "name": "python3"
  }
 },
 "nbformat": 4,
 "nbformat_minor": 0
}