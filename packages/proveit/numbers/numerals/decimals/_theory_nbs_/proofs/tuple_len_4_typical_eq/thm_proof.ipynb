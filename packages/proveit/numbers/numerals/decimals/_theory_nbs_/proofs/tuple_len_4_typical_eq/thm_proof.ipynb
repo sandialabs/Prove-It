{
 "cells": [
  {
   "cell_type": "markdown",
   "metadata": {},
   "source": [
    "Proof of <a class=\"ProveItLink\" href=\"../../../../../../_theory_nbs_/theory.ipynb\">proveit</a>.<a class=\"ProveItLink\" href=\"../../../../../_theory_nbs_/theory.ipynb\">numbers</a>.<a class=\"ProveItLink\" href=\"../../../../_theory_nbs_/theory.ipynb\">numerals</a>.<a class=\"ProveItLink\" href=\"../../theory.ipynb\">decimals</a>.<a class=\"ProveItLink\" href=\"../../theorems.ipynb#tuple_len_4_typical_eq\">tuple_len_4_typical_eq</a> theorem\n",
    "========"
   ]
  },
  {
   "cell_type": "code",
   "execution_count": 1,
   "metadata": {},
   "outputs": [],
   "source": [
    "import proveit\n",
    "theory = proveit.Theory() # the theorem's theory"
   ]
  },
  {
   "cell_type": "code",
   "execution_count": 2,
   "metadata": {},
   "outputs": [
    {
     "data": {
      "text/html": [
       "With these <a href=\"allowed_presumptions.txt\">allowed</a>/<a href=\"disallowed_presumptions.txt\">disallowed</a> theorem/theory presumptions (e.g., to avoid circular dependencies), we begin our proof of<br><strong id=\"tuple_len_4_typical_eq\">tuple_len_4_typical_eq:</strong> <a class=\"ProveItLink\" href=\"../../../__pv_it/theorems/1e5f5f56d23c5d2fa392d75922cfebe52e53ebbd0/expr.ipynb\"><img src=\"data:image/png;base64,iVBORw0KGgoAAAANSUhEUgAAAU8AAAAWBAMAAACyFQNKAAAAMFBMVEX///8AAAAAAAAAAAAAAAAA\n",
       "AAAAAAAAAAAAAAAAAAAAAAAAAAAAAAAAAAAAAAAAAAAv3aB7AAAAD3RSTlMAq1RmmUTNIjK7EInv\n",
       "3XZ/CtNrAAAACXBIWXMAAA7EAAAOxAGVKw4bAAAD6ElEQVRIx81XX4hMURj/9s7duXfu3js7S/Gw\n",
       "2CnlwZambMTDmtolEqa8ihElksajsoy8rsybkrhelLbMIFHCSkohEhFtLh52bdFSljxY33f+7Z17\n",
       "5+yMN9/W2V/f+c7v++053/nuWYCWrIQ/ArQQS2a16G6JqdTqinQWbkjQ1HaysaMQcXOCj/8iVDER\n",
       "yBBe2mRFr8zTG3I6557HI+2D+XROL9SoYchb4bEG95f1Oe08KCYC6wnvm1unUxR5CMxaMt8gtjML\n",
       "B/RCLwFc3PBbeI5Axw99Ug+3UDEhOEF/WmVuoWZO5DFzEU1x2+VDn17oAJWPFLoQ4Ik+6RcUqpgQ\n",
       "JH2ETSrPlXncqKa43cEoXyt0NCz0mQ892mtir8qEmBAkcJOSTUp0mcyzLKopbnuRLqcTahTDQhcD\n",
       "9GiLtCOZCTEReDo29riJ0M1SKAGrezzg7t1f54mAu594Qqt74jsyZ3RCzVpYKNp7bc5xEqqYCGwE\n",
       "ONtE6B4plMCOUopncqb9Kj+5oazJq5zPJYpSqDnGLCOFsh0KCbX/6FJaORKqmAgcBiujFu6vi74n\n",
       "DuaFFIrAeQAmb0vGb3D53r4TgOaQ0RjV7aiXrRfqZbQnDyRUMRFI+SHO7rro4+L3QykUgTkFXo33\n",
       "giJ0MmTKzGLOntIJdQv1QjdpD3E1E6qYCBhB6C49qov+3ECoW4Eq14CadrF24cruJubaR1sUmtBu\n",
       "qBUwoYqJgWI/DiP9N1nNfGAN4VPAXIcgfvTVANapNrqNNaiquFxyzniuq9HI0feCpWlP7V1dPfdr\n",
       "s0wMXMO277y2fxLH2zR9bV7Zo8z1Syw7L4UiqGZhgVFySGgZa5IBvCIFAnwOEhXdjqYCIdRhN6IG\n",
       "ad+Jq+Tt2aXLJJkYOIoeM0/aIJWj62VWnDJzTYmVV6XQq5TLeGlCFcPacqk8A3jlO8oE+BxvQg2F\n",
       "8naDW0LRMDQ4uIUjGpzpMMA/vxJiYqCtTMWTJg63bGZEJZFL1t4pKRSBs+TW4Qnw8GHhdOMHkQDc\n",
       "XjnJPWwOvIJOqI0n2LZoej5f9n5mZpojj87xpQRjtKXmhW/BLJMn2aql1Fqc7gQXq6izJFyT4hvp\n",
       "lYVQT31IlusBDOm/9W/i0ctjR2/4MaYh9TUvnd7uj4Dnr4ERSBagNkKuk2JFIi/yJNR7qaYH7OWh\n",
       "EdoXj6416KExpgF1ywZWXIfhrL01wNEa6PeHs8wl7Ix8j56RD79AC8RbrLHQVCkaPYuUXYkxRZ93\n",
       "2dgo7LIUelk++UELhJjGQp1KNDodv/VBjClV38Xa/egY6r8TEjS1cS4g+i7iBMf+5V8RxTRe70/E\n",
       "xv/I/gJA/DPJmTyfawAAAABJRU5ErkJggg==\n",
       "\" style=\"display:inline;vertical-align:middle;\" /></a><br>(see <a class=\"ProveItLink\" href=\"../../../__pv_it/theorems/832a535427d344622a1a104d77976d09fe0844cf0/dependencies.ipynb\">dependencies</a>)<br>"
      ],
      "text/plain": [
       "<IPython.core.display.HTML object>"
      ]
     },
     "metadata": {},
     "output_type": "display_data"
    }
   ],
   "source": [
    "%proving tuple_len_4_typical_eq"
   ]
  },
  {
   "cell_type": "code",
   "execution_count": null,
   "metadata": {},
   "outputs": [],
   "source": []
  }
 ],
 "metadata": {
  "kernelspec": {
   "display_name": "Python 3",
   "language": "python",
   "name": "python3"
  }
 },
 "nbformat": 4,
 "nbformat_minor": 0
}