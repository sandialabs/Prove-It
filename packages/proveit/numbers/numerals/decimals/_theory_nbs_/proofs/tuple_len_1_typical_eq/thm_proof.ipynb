{
 "cells": [
  {
   "cell_type": "markdown",
   "metadata": {},
   "source": [
    "Proof of <a class=\"ProveItLink\" href=\"../../../../../../_theory_nbs_/theory.ipynb\">proveit</a>.<a class=\"ProveItLink\" href=\"../../../../../_theory_nbs_/theory.ipynb\">numbers</a>.<a class=\"ProveItLink\" href=\"../../../../_theory_nbs_/theory.ipynb\">numerals</a>.<a class=\"ProveItLink\" href=\"../../theory.ipynb\">decimals</a>.<a class=\"ProveItLink\" href=\"../../theorems.ipynb#tuple_len_1_typical_eq\">tuple_len_1_typical_eq</a> theorem\n",
    "========"
   ]
  },
  {
   "cell_type": "code",
   "execution_count": 1,
   "metadata": {},
   "outputs": [],
   "source": [
    "import proveit\n",
    "theory = proveit.Theory() # the theorem's theory"
   ]
  },
  {
   "cell_type": "code",
   "execution_count": 2,
   "metadata": {},
   "outputs": [
    {
     "data": {
      "text/html": [
       "With these <a href=\"allowed_presumptions.txt\">allowed</a>/<a href=\"disallowed_presumptions.txt\">disallowed</a> theorem/theory presumptions (e.g., to avoid circular dependencies), we begin our proof of<br><strong id=\"tuple_len_1_typical_eq\">tuple_len_1_typical_eq:</strong> <a class=\"ProveItLink\" href=\"../../../__pv_it/theorems/875612e24f61ea05d3741a56c3470fa59eed05840/expr.ipynb\"><img src=\"data:image/png;base64,iVBORw0KGgoAAAANSUhEUgAAAKQAAAAVBAMAAAA6DViiAAAAMFBMVEX///8AAAAAAAAAAAAAAAAA\n",
       "AAAAAAAAAAAAAAAAAAAAAAAAAAAAAAAAAAAAAAAAAAAv3aB7AAAAD3RSTlMAq1RmmUTNIjK7EInv\n",
       "3XZ/CtNrAAAACXBIWXMAAA7EAAAOxAGVKw4bAAACP0lEQVQ4y42VMUgjQRSGn0nMJhsNEa4+BMEr\n",
       "NJJCBC1CQIQDEQVbixwpDmxcS0EkVlYSu4CFro0gChpF7DwbERXRE+QOjkA4G8HiDkGuO3xv5s3s\n",
       "JGbEDWz+zPvet5ud3VmA15uHH9ocML6cRspRcN0PB5ptyU44FOG3/N1ao31iogGTAwgHDPZRSFHs\n",
       "MtkekMrQHg/cv6FEGJZ9ZqgPwwjFrwbq5lm5qUaivlWJsPthxmeG+jAs0pVYMdBIhpXDaiScsyoJ\n",
       "hj8+M9SHgfSJTgNtA1ae6KELq5JgoRSM6LuAMB4naqLdXArl9VDBquzWyoJSYriqVi9NdJRLEZqd\n",
       "2eMF3FesylGtrCglhs8AqyZa4FIUT7/1DNaRH9DKsSpt37WyoJUDSolhFpyUqbzlUjte4J0MjGHs\n",
       "tZ7lrVb2KiWGuF9Pn3KpDUfHAX5hLFmVp1pZUkoMoVrd7NQpz8F9xjj1DuWUUlLIZ3G3nT16/cfd\n",
       "/xD+izFtvZbBH08rJYX9aXwKfsT+sXKNS/EauE/Qkv8EMGg9yzWtHFRKCvM4O5FcTN3ZFS4lUtSR\n",
       "zuXkrdJcKW6db566nQ45tBTpwiXVtC9zKXYDsPG49BGrd1YlwR3XXzKSEX13XN/14kO+jO1FfiB/\n",
       "6pXxxqokOGCoTwaaXq806QeLhFD2mwuJRSlXC8VQnwy0hA73HSi2zMq4xwNzb6yXZZOhvrlmq/oW\n",
       "K92V4BhW5ZbJUF+5mdKpwYMIC/ziEGebLDa+T4oMBwz2YXgBX2OuRyKWHqQAAAAASUVORK5CYII=\n",
       "\" style=\"display:inline;vertical-align:middle;\" /></a><br>(see <a class=\"ProveItLink\" href=\"../../../__pv_it/theorems/a13f1515d746034b6a3eb75a9e56492eaa09acbd0/dependencies.ipynb\">dependencies</a>)<br>"
      ],
      "text/plain": [
       "<IPython.core.display.HTML object>"
      ]
     },
     "metadata": {},
     "output_type": "display_data"
    }
   ],
   "source": [
    "%proving tuple_len_1_typical_eq"
   ]
  },
  {
   "cell_type": "code",
   "execution_count": null,
   "metadata": {},
   "outputs": [],
   "source": []
  }
 ],
 "metadata": {
  "kernelspec": {
   "display_name": "Python 3",
   "language": "python",
   "name": "python3"
  }
 },
 "nbformat": 4,
 "nbformat_minor": 0
}