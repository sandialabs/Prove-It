{
 "cells": [
  {
   "cell_type": "markdown",
   "metadata": {},
   "source": [
    "Proof of <a class=\"ProveItLink\" href=\"../../../../../../_theory_nbs_/theory.ipynb\">proveit</a>.<a class=\"ProveItLink\" href=\"../../../../../_theory_nbs_/theory.ipynb\">numbers</a>.<a class=\"ProveItLink\" href=\"../../../../_theory_nbs_/theory.ipynb\">numerals</a>.<a class=\"ProveItLink\" href=\"../../theory.ipynb\">decimals</a>.<a class=\"ProveItLink\" href=\"../../theorems.ipynb#add_0_5\">add_0_5</a> theorem\n",
    "========"
   ]
  },
  {
   "cell_type": "code",
   "execution_count": 1,
   "metadata": {},
   "outputs": [],
   "source": [
    "import proveit\n",
    "theory = proveit.Theory() # the theorem's theory"
   ]
  },
  {
   "cell_type": "code",
   "execution_count": 2,
   "metadata": {},
   "outputs": [
    {
     "data": {
      "text/html": [
       "With these <a href=\"allowed_presumptions.txt\">allowed</a>/<a href=\"disallowed_presumptions.txt\">disallowed</a> theorem/theory presumptions (e.g., to avoid circular dependencies), we begin our proof of<br><strong id=\"add_0_5\">add_0_5:</strong> <a class=\"ProveItLink\" href=\"../../../__pv_it/theorems/c622909bb0be11acd88673331827119e9763ea790/expr.ipynb\"><img src=\"data:image/png;base64,iVBORw0KGgoAAAANSUhEUgAAAGEAAAAVBAMAAACkm51HAAAAMFBMVEX///8AAAAAAAAAAAAAAAAA\n",
       "AAAAAAAAAAAAAAAAAAAAAAAAAAAAAAAAAAAAAAAAAAAv3aB7AAAAD3RSTlMAInZUiRDNmWbv3US7\n",
       "qzJazP2FAAAACXBIWXMAAA7EAAAOxAGVKw4bAAABWUlEQVQ4y3WTv0vDQBTHv2mqSdsYuwku6n8g\n",
       "RZxD90KcRBEMiCBOFQTFxeDi2sVBK1hQl4AgTh2jg4NTNjfN7CT+QnDxJSeSd7m7Ibn7PD53793x\n",
       "ADShHjqOymyZucACbtQYmAOq7S0eqn1tXqISykaOMRIAa1jmKdTPLnxgXTYEtkLYA1RjwYbiN5Z/\n",
       "D2VD4BrgJDA/BWuxkK805oHxLtx3hTEaKo1tYJWMb24cdFK6kEQ2crwBTHlw35jh+MYPYAfZ3Iry\n",
       "kfzjc2F8MIPGA2D2yi9FuE9ZeWhkZ+xF0XEUXYnQfhPua9kg3M8rN3nl9xRK0ZDPEJiycmLY/HZP\n",
       "gGfKaiDVIfAdVdiDFTDDA06Jx9IZAneQVb+UMmMClSPa3ZMMgV9otth+AjOMnUd67/q1ZPzhtMha\n",
       "xcWkuj3sbnE1LC52NR11q2s1I9YEVnSGo2tbY1oTmFHjX1bfWHkLeYA4AAAAAElFTkSuQmCC\n",
       "\" style=\"display:inline;vertical-align:middle;\" /></a><br>(see <a class=\"ProveItLink\" href=\"../../../__pv_it/theorems/96b57c347e09e52c3c7c2476923eb25755cd1a4f0/dependencies.ipynb\">dependencies</a>)<br>"
      ],
      "text/plain": [
       "<IPython.core.display.HTML object>"
      ]
     },
     "metadata": {},
     "output_type": "display_data"
    },
    {
     "name": "stdout",
     "output_type": "stream",
     "text": [
      "add_0_5 may now be readily provable (assuming required theorems are usable).  Simply execute \"%qed\".\n"
     ]
    }
   ],
   "source": [
    "%proving add_0_5"
   ]
  },
  {
   "cell_type": "code",
   "execution_count": null,
   "metadata": {},
   "outputs": [],
   "source": []
  }
 ],
 "metadata": {
  "kernelspec": {
   "display_name": "Python 3",
   "language": "python",
   "name": "python3"
  }
 },
 "nbformat": 4,
 "nbformat_minor": 0
}