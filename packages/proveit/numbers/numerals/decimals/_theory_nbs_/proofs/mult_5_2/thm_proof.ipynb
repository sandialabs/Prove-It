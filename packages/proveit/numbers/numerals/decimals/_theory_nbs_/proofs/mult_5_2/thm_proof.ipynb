{
 "cells": [
  {
   "cell_type": "markdown",
   "metadata": {},
   "source": [
    "Proof of <a class=\"ProveItLink\" href=\"../../../../../../_theory_nbs_/theory.ipynb\">proveit</a>.<a class=\"ProveItLink\" href=\"../../../../../_theory_nbs_/theory.ipynb\">numbers</a>.<a class=\"ProveItLink\" href=\"../../../../_theory_nbs_/theory.ipynb\">numerals</a>.<a class=\"ProveItLink\" href=\"../../theory.ipynb\">decimals</a>.<a class=\"ProveItLink\" href=\"../../theorems.ipynb#mult_5_2\">mult_5_2</a> theorem\n",
    "========"
   ]
  },
  {
   "cell_type": "code",
   "execution_count": 1,
   "metadata": {},
   "outputs": [],
   "source": [
    "import proveit\n",
    "theory = proveit.Theory() # the theorem's theory"
   ]
  },
  {
   "cell_type": "code",
   "execution_count": 2,
   "metadata": {},
   "outputs": [
    {
     "data": {
      "text/html": [
       "With these <a href=\"allowed_presumptions.txt\">allowed</a>/<a href=\"disallowed_presumptions.txt\">disallowed</a> theorem/theory presumptions (e.g., to avoid circular dependencies), we begin our proof of<br><strong id=\"mult_5_2\">mult_5_2:</strong> <a class=\"ProveItLink\" href=\"../../../__pv_it/theorems/a2848afa0230d987ddbae4c8485c91715f7259130/expr.ipynb\"><img src=\"data:image/png;base64,iVBORw0KGgoAAAANSUhEUgAAAGEAAAAVBAMAAACkm51HAAAAMFBMVEX///8AAAAAAAAAAAAAAAAA\n",
       "AAAAAAAAAAAAAAAAAAAAAAAAAAAAAAAAAAAAAAAAAAAv3aB7AAAAD3RSTlMAInZUiRDNmWbv3US7\n",
       "qzJazP2FAAAACXBIWXMAAA7EAAAOxAGVKw4bAAABhUlEQVQ4y32TPUtCURiAn6ve1LJwCyLIIIiG\n",
       "4A7RqkNtBfcHFLkUDQ0OpREFblFLrRGkEQ0JUfQHsqCtwDZryDu39EEfUJC9R8huerpnOJz343k/\n",
       "znkPEKVpaVSu5bNwMP/6nHgSQ5CbKdg/opGZc/Blm9w69mUb6ZfIZhIOPkbrlm4CnzDdCEymX6HF\n",
       "MnchKOFKLtM1bMFqc/FCrMMYhPlL5GwqUcK2jriCuM1wA3ELFYeWrI54hweLeZHKfXdu4xEEShrC\n",
       "VESWWZEu6Dl23cozhJLqtFRQ6/CHMF6EiLFXkyP5X6JV4vs3NTlqRILtmhx8km2qFphlledRV5UQ\n",
       "pzFFRJIEv1TwlDKFVAttm/90HrdUVeE87Y+uGTCi+POaPriEDZtzuRiBivW+E/hsQkVdjjVIw7iM\n",
       "UoqB+ot1ZTJL0leikQhIp62WuQP3InWuLPw+RrX6JrbjBqD95q2MOT/oiM3RDXSXx7CHUjrtotf/\n",
       "ONPojKIXMaHRRTy/rRFr1vV6+H8D5VNnVEslfdkAAAAASUVORK5CYII=\n",
       "\" style=\"display:inline;vertical-align:middle;\" /></a><br>(see <a class=\"ProveItLink\" href=\"../../../__pv_it/theorems/b0e99973cd4bcb73cf9b37c994016efb75617a750/dependencies.ipynb\">dependencies</a>)<br>"
      ],
      "text/plain": [
       "<IPython.core.display.HTML object>"
      ]
     },
     "metadata": {},
     "output_type": "display_data"
    },
    {
     "name": "stdout",
     "output_type": "stream",
     "text": [
      "mult_5_2 may now be readily provable (assuming required theorems are usable).  Simply execute \"%qed\".\n"
     ]
    }
   ],
   "source": [
    "%proving mult_5_2"
   ]
  },
  {
   "cell_type": "code",
   "execution_count": null,
   "metadata": {},
   "outputs": [],
   "source": []
  }
 ],
 "metadata": {
  "kernelspec": {
   "display_name": "Python 3",
   "language": "python",
   "name": "python3"
  }
 },
 "nbformat": 4,
 "nbformat_minor": 0
}