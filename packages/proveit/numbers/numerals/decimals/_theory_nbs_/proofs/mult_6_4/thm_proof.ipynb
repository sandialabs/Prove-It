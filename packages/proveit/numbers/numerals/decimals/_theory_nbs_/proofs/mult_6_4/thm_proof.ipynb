{
 "cells": [
  {
   "cell_type": "markdown",
   "metadata": {},
   "source": [
    "Proof of <a class=\"ProveItLink\" href=\"../../../../../../_theory_nbs_/theory.ipynb\">proveit</a>.<a class=\"ProveItLink\" href=\"../../../../../_theory_nbs_/theory.ipynb\">numbers</a>.<a class=\"ProveItLink\" href=\"../../../../_theory_nbs_/theory.ipynb\">numerals</a>.<a class=\"ProveItLink\" href=\"../../theory.ipynb\">decimals</a>.<a class=\"ProveItLink\" href=\"../../theorems.ipynb#mult_6_4\">mult_6_4</a> theorem\n",
    "========"
   ]
  },
  {
   "cell_type": "code",
   "execution_count": 1,
   "metadata": {},
   "outputs": [],
   "source": [
    "import proveit\n",
    "theory = proveit.Theory() # the theorem's theory"
   ]
  },
  {
   "cell_type": "code",
   "execution_count": 2,
   "metadata": {},
   "outputs": [
    {
     "data": {
      "text/html": [
       "With these <a href=\"allowed_presumptions.txt\">allowed</a>/<a href=\"disallowed_presumptions.txt\">disallowed</a> theorem/theory presumptions (e.g., to avoid circular dependencies), we begin our proof of<br><strong id=\"mult_6_4\">mult_6_4:</strong> <a class=\"ProveItLink\" href=\"../../../__pv_it/theorems/45561612973c9c08bed1dadedbb0f723758d50d30/expr.ipynb\"><img src=\"data:image/png;base64,iVBORw0KGgoAAAANSUhEUgAAAGEAAAAVBAMAAACkm51HAAAAMFBMVEX///8AAAAAAAAAAAAAAAAA\n",
       "AAAAAAAAAAAAAAAAAAAAAAAAAAAAAAAAAAAAAAAAAAAv3aB7AAAAD3RSTlMAInZUiRDNmWbv3US7\n",
       "qzJazP2FAAAACXBIWXMAAA7EAAAOxAGVKw4bAAABdElEQVQ4y32TsUvDQBTGvzSxSdqYdHKoDu3q\n",
       "5FCci3QVugpCiyB0EOkgRKpDXXTt4iAiFtwEsfgXVHE3rkJNZqciKIJIfddcm3AX8iCQfL/73nv3\n",
       "7gKgACkSpFhk1mTtIdVRoadWCyLBbiPTFVcp7l4QMiw0gaXBYj+COQ/YFR0r0H450yndDqxhBFdJ\n",
       "PRMdr8AFZyagfsWZfcrUuuC4rsMvhGwdsHpxpmVJzYobeQP8IGQHlHB/4yhiZaZqnjyie85agNOC\n",
       "OR+x0mWq0WTvnVsWd7zbT85ugMYY+vm8KTBV7UklaEwhuyRHHwYbXYMlPpmq9lhyHM8YOZwmjB+W\n",
       "hY5HKU3VvFTD8GaMurJ4DRb50ci/qkLti/uoQFkO2RM1TfuI5TTZzodCCbuKTD1km/T5jK3YdXRo\n",
       "tV4VHEXX7XD2webjvkdMf/krITcQD2My+Z6xIOlCF1Muu9FOUg/T/o/HBE0Zpjm2EzQr9belc5Gi\n",
       "nLL+H0dMZdh0lWjSAAAAAElFTkSuQmCC\n",
       "\" style=\"display:inline;vertical-align:middle;\" /></a><br>(see <a class=\"ProveItLink\" href=\"../../../__pv_it/theorems/8e7c83ce423bb0f9e82b6be1d48867c0400e2b060/dependencies.ipynb\">dependencies</a>)<br>"
      ],
      "text/plain": [
       "<IPython.core.display.HTML object>"
      ]
     },
     "metadata": {},
     "output_type": "display_data"
    },
    {
     "name": "stdout",
     "output_type": "stream",
     "text": [
      "mult_6_4 may now be readily provable (assuming required theorems are usable).  Simply execute \"%qed\".\n"
     ]
    }
   ],
   "source": [
    "%proving mult_6_4"
   ]
  },
  {
   "cell_type": "code",
   "execution_count": null,
   "metadata": {},
   "outputs": [],
   "source": []
  }
 ],
 "metadata": {
  "kernelspec": {
   "display_name": "Python 3",
   "language": "python",
   "name": "python3"
  }
 },
 "nbformat": 4,
 "nbformat_minor": 0
}