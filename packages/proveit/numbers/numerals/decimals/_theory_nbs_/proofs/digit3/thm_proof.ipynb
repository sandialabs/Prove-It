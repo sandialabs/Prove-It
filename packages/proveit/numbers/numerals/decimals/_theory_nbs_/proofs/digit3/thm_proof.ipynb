{
 "cells": [
  {
   "cell_type": "markdown",
   "metadata": {},
   "source": [
    "Proof of <a class=\"ProveItLink\" href=\"../../../../../../_theory_nbs_/theory.ipynb\">proveit</a>.<a class=\"ProveItLink\" href=\"../../../../../_theory_nbs_/theory.ipynb\">numbers</a>.<a class=\"ProveItLink\" href=\"../../../../_theory_nbs_/theory.ipynb\">numerals</a>.<a class=\"ProveItLink\" href=\"../../theory.ipynb\">decimals</a>.<a class=\"ProveItLink\" href=\"../../theorems.ipynb#digit3\">digit3</a> theorem\n",
    "========"
   ]
  },
  {
   "cell_type": "code",
   "execution_count": 1,
   "metadata": {},
   "outputs": [],
   "source": [
    "import proveit\n",
    "theory = proveit.Theory() # the theorem's theory"
   ]
  },
  {
   "cell_type": "code",
   "execution_count": 2,
   "metadata": {},
   "outputs": [
    {
     "data": {
      "text/html": [
       "With these <a href=\"allowed_presumptions.txt\">allowed</a>/<a href=\"disallowed_presumptions.txt\">disallowed</a> theorem/theory presumptions (e.g., to avoid circular dependencies), we begin our proof of<br><strong id=\"digit3\">digit3:</strong> <a class=\"ProveItLink\" href=\"../../../__pv_it/theorems/ebe1666aa99fee582c534acdf4c0928d1bc485620/expr.ipynb\"><img src=\"data:image/png;base64,iVBORw0KGgoAAAANSUhEUgAAAEgAAAAUBAMAAADcj2b4AAAAMFBMVEX///8AAAAAAAAAAAAAAAAA\n",
       "AAAAAAAAAAAAAAAAAAAAAAAAAAAAAAAAAAAAAAAAAAAv3aB7AAAAD3RSTlMAIomZu0QQVHbN72bd\n",
       "Mqv0UZE7AAAACXBIWXMAAA7EAAAOxAGVKw4bAAABT0lEQVQoz2NgwAtKBBiamhgIqGlg4FNgf4BX\n",
       "zZYNDAz8F9i+4VPTUgAk5AUYvmKRy/nimcCg9SvgFkgNA1cA728GBiFlVzRV7qwPGNg+MLA7JQA5\n",
       "rG7Z3xnYDBjqC1AVvRHQZmBYAJQHq0q/8JGB4ztD/gRURc8dOAUYDgAZvI8FGHgTWA8wsC5l4Ico\n",
       "4vA5cxLMeLiDcQJYEQPjuwSWDZwXQMz6DSCSdUYC1KSHfBeaIIoYGBlYd+uCZU+D+ZIwNQwPGRxY\n",
       "Ag6guIC37y2YnsiAUHSZ7dgBNC9DfDcBSRF3QckChisuQCAAE+QChTvvmjNnzhyBKmJ4xrcAxbYL\n",
       "DCzfgTSbA5JJDHlsKNbxf4MoYjiArIi3wQFZEdcDiHUMHXAhXyDuRVHEvQEaTpzwyJkOxMyosRBs\n",
       "DIlgtidhEIGbv4CmsE3AnnxYVaDRggEAWI9bPpyFTC0AAAAASUVORK5CYII=\n",
       "\" style=\"display:inline;vertical-align:middle;\" /></a><br>(see <a class=\"ProveItLink\" href=\"../../../__pv_it/theorems/f0cd5465ce656d06a9aae1b4dd864915c21f23570/dependencies.ipynb\">dependencies</a>)<br>"
      ],
      "text/plain": [
       "<IPython.core.display.HTML object>"
      ]
     },
     "metadata": {},
     "output_type": "display_data"
    }
   ],
   "source": [
    "%proving digit3"
   ]
  },
  {
   "cell_type": "code",
   "execution_count": null,
   "metadata": {},
   "outputs": [],
   "source": []
  }
 ],
 "metadata": {
  "kernelspec": {
   "display_name": "Python 3",
   "language": "python",
   "name": "python3"
  }
 },
 "nbformat": 4,
 "nbformat_minor": 0
}