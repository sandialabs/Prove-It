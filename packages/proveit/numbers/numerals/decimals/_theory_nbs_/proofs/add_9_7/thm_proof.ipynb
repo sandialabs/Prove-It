{
 "cells": [
  {
   "cell_type": "markdown",
   "metadata": {},
   "source": [
    "Proof of <a class=\"ProveItLink\" href=\"../../../../../../_theory_nbs_/theory.ipynb\">proveit</a>.<a class=\"ProveItLink\" href=\"../../../../../_theory_nbs_/theory.ipynb\">numbers</a>.<a class=\"ProveItLink\" href=\"../../../../_theory_nbs_/theory.ipynb\">numerals</a>.<a class=\"ProveItLink\" href=\"../../theory.ipynb\">decimals</a>.<a class=\"ProveItLink\" href=\"../../theorems.ipynb#add_9_7\">add_9_7</a> theorem\n",
    "========"
   ]
  },
  {
   "cell_type": "code",
   "execution_count": 1,
   "metadata": {},
   "outputs": [],
   "source": [
    "import proveit\n",
    "theory = proveit.Theory() # the theorem's theory"
   ]
  },
  {
   "cell_type": "code",
   "execution_count": 2,
   "metadata": {},
   "outputs": [
    {
     "data": {
      "text/html": [
       "With these <a href=\"allowed_presumptions.txt\">allowed</a>/<a href=\"disallowed_presumptions.txt\">disallowed</a> theorem/theory presumptions (e.g., to avoid circular dependencies), we begin our proof of<br><strong id=\"add_9_7\">add_9_7:</strong> <a class=\"ProveItLink\" href=\"../../../__pv_it/theorems/9aa454bf29a82360155bf4984d01eb6e73814d620/expr.ipynb\"><img src=\"data:image/png;base64,iVBORw0KGgoAAAANSUhEUgAAAGwAAAAVBAMAAABRZRb3AAAAMFBMVEX///8AAAAAAAAAAAAAAAAA\n",
       "AAAAAAAAAAAAAAAAAAAAAAAAAAAAAAAAAAAAAAAAAAAv3aB7AAAAD3RSTlMAInZUiRDNmWbv3US7\n",
       "qzJazP2FAAAACXBIWXMAAA7EAAAOxAGVKw4bAAABkUlEQVQ4y2NgYBBgwA4YGfABJgMsOlqBBLcC\n",
       "Pm0mDAzs5VdRxZj/////k0EDU/GrACDh4vKAgTWBgXURw0tUl7IcLy9fzMAWgKaJ9Xo+UEhsA+8C\n",
       "BvYGBt4JDDwHIBI7oNqA7ixg4CjAsE0fqC0JpJqTgYE/gYHlK0TYCOpIBgZeIDUVmzZmsFIzBob4\n",
       "AwxMv1G0AYEfEGdg08YzAcQogdj2A00bI8jVvti0ceY5VYNNBPntE5o23g1Aog3EYl8FBhdg2vgz\n",
       "GDgNGBYDA2g2w9vPaNokQYQlNtviPzCwT2WYDeSEqxj9A1JVq1bNXLVqLVjeDUS8x6ptAQPHb7A2\n",
       "BvSQZGBYAyJ2YtMGDAmOHyBHAgEs3mDaWP+CSCtsfuMB23YIGEtTGeIfoGrj/g4ie7DGG9BvE0CB\n",
       "zLSU4QQDqjbmL9DIQQP+wER4hCHSgOEVKG2Wb0DTxjgZRK5G13V3fm4DA0v5PQYGrgfI4kYo2WcB\n",
       "7nyDml53IHOAqRw3OIhTRgZfNo0hw0CQD3DlfSYB3JoAVMBkooVdFnAAAAAASUVORK5CYII=\n",
       "\" style=\"display:inline;vertical-align:middle;\" /></a><br>(see <a class=\"ProveItLink\" href=\"../../../__pv_it/theorems/6a23ec1f510b1b35c4ed4b3f9c8a3ca738b52ae10/dependencies.ipynb\">dependencies</a>)<br>"
      ],
      "text/plain": [
       "<IPython.core.display.HTML object>"
      ]
     },
     "metadata": {},
     "output_type": "display_data"
    },
    {
     "name": "stdout",
     "output_type": "stream",
     "text": [
      "add_9_7 may now be readily provable (assuming required theorems are usable).  Simply execute \"%qed\".\n"
     ]
    }
   ],
   "source": [
    "%proving add_9_7"
   ]
  },
  {
   "cell_type": "code",
   "execution_count": null,
   "metadata": {},
   "outputs": [],
   "source": []
  }
 ],
 "metadata": {
  "kernelspec": {
   "display_name": "Python 3",
   "language": "python",
   "name": "python3"
  }
 },
 "nbformat": 4,
 "nbformat_minor": 0
}