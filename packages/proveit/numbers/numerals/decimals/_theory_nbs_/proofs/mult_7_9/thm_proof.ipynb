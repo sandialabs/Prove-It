{
 "cells": [
  {
   "cell_type": "markdown",
   "metadata": {},
   "source": [
    "Proof of <a class=\"ProveItLink\" href=\"../../../../../../_theory_nbs_/theory.ipynb\">proveit</a>.<a class=\"ProveItLink\" href=\"../../../../../_theory_nbs_/theory.ipynb\">numbers</a>.<a class=\"ProveItLink\" href=\"../../../../_theory_nbs_/theory.ipynb\">numerals</a>.<a class=\"ProveItLink\" href=\"../../theory.ipynb\">decimals</a>.<a class=\"ProveItLink\" href=\"../../theorems.ipynb#mult_7_9\">mult_7_9</a> theorem\n",
    "========"
   ]
  },
  {
   "cell_type": "code",
   "execution_count": 1,
   "metadata": {},
   "outputs": [],
   "source": [
    "import proveit\n",
    "theory = proveit.Theory() # the theorem's theory"
   ]
  },
  {
   "cell_type": "code",
   "execution_count": 2,
   "metadata": {},
   "outputs": [
    {
     "data": {
      "text/html": [
       "With these <a href=\"allowed_presumptions.txt\">allowed</a>/<a href=\"disallowed_presumptions.txt\">disallowed</a> theorem/theory presumptions (e.g., to avoid circular dependencies), we begin our proof of<br><strong id=\"mult_7_9\">mult_7_9:</strong> <a class=\"ProveItLink\" href=\"../../../__pv_it/theorems/2567b39b2302ce8963eeef96e867a48408ad2c2c0/expr.ipynb\"><img src=\"data:image/png;base64,iVBORw0KGgoAAAANSUhEUgAAAGEAAAAVBAMAAACkm51HAAAAMFBMVEX///8AAAAAAAAAAAAAAAAA\n",
       "AAAAAAAAAAAAAAAAAAAAAAAAAAAAAAAAAAAAAAAAAAAv3aB7AAAAD3RSTlMAInZUiRDNmWbv3US7\n",
       "qzJazP2FAAAACXBIWXMAAA7EAAAOxAGVKw4bAAABnklEQVQ4y31TPUjDUBD+0jT2v7jqFCfBpRlE\n",
       "cLJgsZM1myiCXQTBpYgQ/wpZRLcqBRcRBTdRCG46VRdRBF0VxCBODiIo/qHGd6/27zXkLcl99767\n",
       "++7uAWhF03GB6o5Pk5ZE7MCT0Q3ZcZzPqm3kdfjMpmv+VAZSatEClCz8p4axU/GMqvE1YEIkSFO4\n",
       "wTDkFyBgws+AXMV1DVwAyyKjRWVwQlPegBAgA7Gqi0FDOkK6wOgj4NAidw8HMhWP8g0kLLSIQs7K\n",
       "H/kDmOFVlhpysEKvBMb6QycTjSMWaZLsmIU6HZcqgln6n9+ls88DmSgC97c2wJvUVgs2YsXvNMir\n",
       "jSkUB5hjUqhXGwQMcHicAivT/Qkb8WeB8QUUqJAtvczY43D4v8WsVxEhB8krmE+sYo1Xpfw0eNk8\n",
       "5G1BxznlcHRinDAz8l673qsrv0CwJM6D6cAmr2qQuvxac3XpUdbBQFJgRJNKESt8Ho80jmLdxqUX\n",
       "SJIlrkk6byNi0CaGbbeFbvdY9mDODZ31eh/HLphU8mKMuWBRz2crqc1Yh8f9P6oaaa54nrvxAAAA\n",
       "AElFTkSuQmCC\n",
       "\" style=\"display:inline;vertical-align:middle;\" /></a><br>(see <a class=\"ProveItLink\" href=\"../../../__pv_it/theorems/38a25ac598be87a54740d5b45379008dc0ccd4360/dependencies.ipynb\">dependencies</a>)<br>"
      ],
      "text/plain": [
       "<IPython.core.display.HTML object>"
      ]
     },
     "metadata": {},
     "output_type": "display_data"
    },
    {
     "name": "stdout",
     "output_type": "stream",
     "text": [
      "mult_7_9 may now be readily provable (assuming required theorems are usable).  Simply execute \"%qed\".\n"
     ]
    }
   ],
   "source": [
    "%proving mult_7_9"
   ]
  },
  {
   "cell_type": "code",
   "execution_count": null,
   "metadata": {},
   "outputs": [],
   "source": []
  }
 ],
 "metadata": {
  "kernelspec": {
   "display_name": "Python 3",
   "language": "python",
   "name": "python3"
  }
 },
 "nbformat": 4,
 "nbformat_minor": 0
}