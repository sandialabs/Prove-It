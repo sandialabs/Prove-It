{
 "cells": [
  {
   "cell_type": "markdown",
   "metadata": {},
   "source": [
    "Proof of <a class=\"ProveItLink\" href=\"../../../../../../_theory_nbs_/theory.ipynb\">proveit</a>.<a class=\"ProveItLink\" href=\"../../../../../_theory_nbs_/theory.ipynb\">numbers</a>.<a class=\"ProveItLink\" href=\"../../../../_theory_nbs_/theory.ipynb\">numerals</a>.<a class=\"ProveItLink\" href=\"../../theory.ipynb\">decimals</a>.<a class=\"ProveItLink\" href=\"../../theorems.ipynb#mult_5_8\">mult_5_8</a> theorem\n",
    "========"
   ]
  },
  {
   "cell_type": "code",
   "execution_count": 1,
   "metadata": {},
   "outputs": [],
   "source": [
    "import proveit\n",
    "theory = proveit.Theory() # the theorem's theory"
   ]
  },
  {
   "cell_type": "code",
   "execution_count": 2,
   "metadata": {},
   "outputs": [
    {
     "data": {
      "text/html": [
       "With these <a href=\"allowed_presumptions.txt\">allowed</a>/<a href=\"disallowed_presumptions.txt\">disallowed</a> theorem/theory presumptions (e.g., to avoid circular dependencies), we begin our proof of<br><strong id=\"mult_5_8\">mult_5_8:</strong> <a class=\"ProveItLink\" href=\"../../../__pv_it/theorems/7fa5cfdf505f68a8ef372d9cffba68ab72d6c4300/expr.ipynb\"><img src=\"data:image/png;base64,iVBORw0KGgoAAAANSUhEUgAAAGEAAAAVBAMAAACkm51HAAAAMFBMVEX///8AAAAAAAAAAAAAAAAA\n",
       "AAAAAAAAAAAAAAAAAAAAAAAAAAAAAAAAAAAAAAAAAAAv3aB7AAAAD3RSTlMAInZUiRDNmWbv3US7\n",
       "qzJazP2FAAAACXBIWXMAAA7EAAAOxAGVKw4bAAABqklEQVQ4y32TP0hbQRjAf8/0XvJiom6FLkYQ\n",
       "xILwhuKaFJQuFd7kJJilpWMGq1IQU4f6Z7EdOklrSqcKQujQtVFws3jgYBdr5i5aFETB1u9iE827\n",
       "x7vhuO/P77vvzx3Qg7UiVHdWh08d1e7zNZZ4BOvPN4KmqEaeVOko235dJRgZkMiqCF8uR1uGJOzD\n",
       "M5tIa1xffRIPCafvGJZgHBZt4qFmBZ6CRzsx1iC8wErqjeYH5AOGQ0R+h1lwrULuuZpzOPaZEuln\n",
       "/6+WJftvwBe7DhN9rlaGKPNCpB16qy3T/KX0I1U0x1cbZm2ao1N2tXMmRI7PDbdMpQkkHu+dyv42\n",
       "nBT/iQJrNz39I9ukCbxI4iKg6yREvBZCCfE9Z4hMkeRf03GZEe+h16czdIeT46byvG+y8ipkmzGV\n",
       "HLJlEpX2OjoPD48+FHZhNWDb5IhXa0Z7J3f2kKpZE/Q0yzDdmJhTYrA1sW8BC1JXwSK6a6R99RF+\n",
       "i3B/7uXtbA9mpNPpahhI7l3l1NRQXWz1qAf9IOaxp0pR2tm4/7EVoXNqccREhC4T+21lONbqi/G/\n",
       "Bg8TaIhhNWQBAAAAAElFTkSuQmCC\n",
       "\" style=\"display:inline;vertical-align:middle;\" /></a><br>(see <a class=\"ProveItLink\" href=\"../../../__pv_it/theorems/5c50faf24202d110b892b4dab2e61f1f92a9ada30/dependencies.ipynb\">dependencies</a>)<br>"
      ],
      "text/plain": [
       "<IPython.core.display.HTML object>"
      ]
     },
     "metadata": {},
     "output_type": "display_data"
    },
    {
     "name": "stdout",
     "output_type": "stream",
     "text": [
      "mult_5_8 may now be readily provable (assuming required theorems are usable).  Simply execute \"%qed\".\n"
     ]
    }
   ],
   "source": [
    "%proving mult_5_8"
   ]
  },
  {
   "cell_type": "code",
   "execution_count": null,
   "metadata": {},
   "outputs": [],
   "source": []
  }
 ],
 "metadata": {
  "kernelspec": {
   "display_name": "Python 3",
   "language": "python",
   "name": "python3"
  }
 },
 "nbformat": 4,
 "nbformat_minor": 0
}