{
 "cells": [
  {
   "cell_type": "markdown",
   "metadata": {},
   "source": [
    "Proof of <a class=\"ProveItLink\" href=\"../../../../../../_theory_nbs_/theory.ipynb\">proveit</a>.<a class=\"ProveItLink\" href=\"../../../../../_theory_nbs_/theory.ipynb\">numbers</a>.<a class=\"ProveItLink\" href=\"../../../../_theory_nbs_/theory.ipynb\">numerals</a>.<a class=\"ProveItLink\" href=\"../../theory.ipynb\">decimals</a>.<a class=\"ProveItLink\" href=\"../../theorems.ipynb#mult_3_1\">mult_3_1</a> theorem\n",
    "========"
   ]
  },
  {
   "cell_type": "code",
   "execution_count": 1,
   "metadata": {},
   "outputs": [],
   "source": [
    "import proveit\n",
    "theory = proveit.Theory() # the theorem's theory"
   ]
  },
  {
   "cell_type": "code",
   "execution_count": 2,
   "metadata": {},
   "outputs": [
    {
     "data": {
      "text/html": [
       "With these <a href=\"allowed_presumptions.txt\">allowed</a>/<a href=\"disallowed_presumptions.txt\">disallowed</a> theorem/theory presumptions (e.g., to avoid circular dependencies), we begin our proof of<br><strong id=\"mult_3_1\">mult_3_1:</strong> <a class=\"ProveItLink\" href=\"../../../__pv_it/theorems/16c1a675d69f5c1e9f6c30f74ca342956126d3e50/expr.ipynb\"><img src=\"data:image/png;base64,iVBORw0KGgoAAAANSUhEUgAAAFcAAAAVBAMAAADBdm84AAAAMFBMVEX///8AAAAAAAAAAAAAAAAA\n",
       "AAAAAAAAAAAAAAAAAAAAAAAAAAAAAAAAAAAAAAAAAAAv3aB7AAAAD3RSTlMAInZUiRDNmWbv3US7\n",
       "qzJazP2FAAAACXBIWXMAAA7EAAAOxAGVKw4bAAABRklEQVQoz2NgYBBgwABYhCCAyQBTbBMuxSYM\n",
       "DCLupxF8vqVAAxrQVTG61GxgYGBNYGAtYLCHGx9b9hVIpqIrDmdg/szAwN7AwPSZIT4B4SyQ4nZ0\n",
       "xfoGrN8YGDgZGLhnM/CjKeYMQFO8cwMDULEZmG3fgKqYDcPRDMw/GBhKQAzuFQyoilkuYCjeBdSf\n",
       "AQoA3XtoijnAzqpaBQJrwcKP7j5gYFgMcYYBqmLmCZjOAIbGbDCLE6QCEiRgxXwfMCNkfgBIMd8D\n",
       "Bh6gNgauArhibnST3zEwnDcAOYP/K0QxsjMWoLn5fwBI8SGgGy5AnIHswQNoJs8FO8MXKNOAHM4s\n",
       "H4EEuwOa4g5wOL8CsraXIxIS781vN4DO34CmmLsclJC4HmBLilLYUyhHATbRChzp+SAWMcYDOBTH\n",
       "YBHjwZWvGBUwxRSxKwUAenxV9d6l36IAAAAASUVORK5CYII=\n",
       "\" style=\"display:inline;vertical-align:middle;\" /></a><br>(see <a class=\"ProveItLink\" href=\"../../../__pv_it/theorems/21188066e23a6267c022d6a7db3dfa383bd9a84f0/dependencies.ipynb\">dependencies</a>)<br>"
      ],
      "text/plain": [
       "<IPython.core.display.HTML object>"
      ]
     },
     "metadata": {},
     "output_type": "display_data"
    },
    {
     "name": "stdout",
     "output_type": "stream",
     "text": [
      "mult_3_1 may now be readily provable (assuming required theorems are usable).  Simply execute \"%qed\".\n"
     ]
    }
   ],
   "source": [
    "%proving mult_3_1"
   ]
  },
  {
   "cell_type": "code",
   "execution_count": null,
   "metadata": {},
   "outputs": [],
   "source": []
  }
 ],
 "metadata": {
  "kernelspec": {
   "display_name": "Python 3",
   "language": "python",
   "name": "python3"
  }
 },
 "nbformat": 4,
 "nbformat_minor": 0
}