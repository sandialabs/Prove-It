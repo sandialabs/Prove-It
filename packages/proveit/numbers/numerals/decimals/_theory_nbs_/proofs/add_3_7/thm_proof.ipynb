{
 "cells": [
  {
   "cell_type": "markdown",
   "metadata": {},
   "source": [
    "Proof of <a class=\"ProveItLink\" href=\"../../../../../../_theory_nbs_/theory.ipynb\">proveit</a>.<a class=\"ProveItLink\" href=\"../../../../../_theory_nbs_/theory.ipynb\">numbers</a>.<a class=\"ProveItLink\" href=\"../../../../_theory_nbs_/theory.ipynb\">numerals</a>.<a class=\"ProveItLink\" href=\"../../theory.ipynb\">decimals</a>.<a class=\"ProveItLink\" href=\"../../theorems.ipynb#add_3_7\">add_3_7</a> theorem\n",
    "========"
   ]
  },
  {
   "cell_type": "code",
   "execution_count": 1,
   "metadata": {},
   "outputs": [],
   "source": [
    "import proveit\n",
    "theory = proveit.Theory() # the theorem's theory"
   ]
  },
  {
   "cell_type": "code",
   "execution_count": 2,
   "metadata": {},
   "outputs": [
    {
     "data": {
      "text/html": [
       "With these <a href=\"allowed_presumptions.txt\">allowed</a>/<a href=\"disallowed_presumptions.txt\">disallowed</a> theorem/theory presumptions (e.g., to avoid circular dependencies), we begin our proof of<br><strong id=\"add_3_7\">add_3_7:</strong> <a class=\"ProveItLink\" href=\"../../../__pv_it/theorems/42f899c26f6be07718aec4e74acfd4562082082d0/expr.ipynb\"><img src=\"data:image/png;base64,iVBORw0KGgoAAAANSUhEUgAAAGwAAAAVBAMAAABRZRb3AAAAMFBMVEX///8AAAAAAAAAAAAAAAAA\n",
       "AAAAAAAAAAAAAAAAAAAAAAAAAAAAAAAAAAAAAAAAAAAv3aB7AAAAD3RSTlMAInZUiRDNmWbv3US7\n",
       "qzJazP2FAAAACXBIWXMAAA7EAAAOxAGVKw4bAAABkElEQVQ4y2NgYBBgwA4YGfABJgMsOlqBBLcC\n",
       "Pm0mDAwi7qdRxZj/////k0EDU/GrAAYGFqdCBgbWBAbWAgZ7VCtZjpeXL2ZgC0DTxHo9HyiUzBAl\n",
       "wMDewMD0mSE+ASKxA6oN6M4CBo4CDNv0Axg4FjCwHGDgBHpiNgM/VJsR1JEMDLxAaio2bTwXGJi/\n",
       "MpiBufYNKNqAwA+IM7Bp4y9g4PvMUALica9gQNPGeABI+GLTFg/U9gNsIp/uPXRtvBuARBuIxb4K\n",
       "DC7AtMk7MPB9YlgMcaQBmjZJEGGJzTaQti8Ms8Fczq9AomrVqpmrVq0FC7iBiPdYHenAwP0JpI3v\n",
       "AQPPZzTb1oCInTiChPkzyJH8XzG0sf4FkVbY/MZzgIHjK8MhoAsvQByJpI37O4jswRrdExjYE0CB\n",
       "zNGAEW/MX0BkCYY2f2B2WcwQ+YDhFZCzvfw0WgQwTgaRq9F13Z2f28AQ7gSMLq4HyOJGKNlnAe58\n",
       "g5pedyBz2Bvw5LeDOGVk8GXTGDIMBPkAV95nEsCtCQCuyGI25ZU/lgAAAABJRU5ErkJggg==\n",
       "\" style=\"display:inline;vertical-align:middle;\" /></a><br>(see <a class=\"ProveItLink\" href=\"../../../__pv_it/theorems/093c9fcdfe6a9d2a55444fb9953ee450db982d1d0/dependencies.ipynb\">dependencies</a>)<br>"
      ],
      "text/plain": [
       "<IPython.core.display.HTML object>"
      ]
     },
     "metadata": {},
     "output_type": "display_data"
    },
    {
     "name": "stdout",
     "output_type": "stream",
     "text": [
      "add_3_7 may now be readily provable (assuming required theorems are usable).  Simply execute \"%qed\".\n"
     ]
    }
   ],
   "source": [
    "%proving add_3_7"
   ]
  },
  {
   "cell_type": "code",
   "execution_count": null,
   "metadata": {},
   "outputs": [],
   "source": []
  }
 ],
 "metadata": {
  "kernelspec": {
   "display_name": "Python 3",
   "language": "python",
   "name": "python3"
  }
 },
 "nbformat": 4,
 "nbformat_minor": 0
}