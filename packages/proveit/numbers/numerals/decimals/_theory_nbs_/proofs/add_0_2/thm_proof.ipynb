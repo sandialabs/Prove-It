{
 "cells": [
  {
   "cell_type": "markdown",
   "metadata": {},
   "source": [
    "Proof of <a class=\"ProveItLink\" href=\"../../../../../../_theory_nbs_/theory.ipynb\">proveit</a>.<a class=\"ProveItLink\" href=\"../../../../../_theory_nbs_/theory.ipynb\">numbers</a>.<a class=\"ProveItLink\" href=\"../../../../_theory_nbs_/theory.ipynb\">numerals</a>.<a class=\"ProveItLink\" href=\"../../theory.ipynb\">decimals</a>.<a class=\"ProveItLink\" href=\"../../theorems.ipynb#add_0_2\">add_0_2</a> theorem\n",
    "========"
   ]
  },
  {
   "cell_type": "code",
   "execution_count": 1,
   "metadata": {},
   "outputs": [],
   "source": [
    "import proveit\n",
    "theory = proveit.Theory() # the theorem's theory"
   ]
  },
  {
   "cell_type": "code",
   "execution_count": 2,
   "metadata": {},
   "outputs": [
    {
     "data": {
      "text/html": [
       "With these <a href=\"allowed_presumptions.txt\">allowed</a>/<a href=\"disallowed_presumptions.txt\">disallowed</a> theorem/theory presumptions (e.g., to avoid circular dependencies), we begin our proof of<br><strong id=\"add_0_2\">add_0_2:</strong> <a class=\"ProveItLink\" href=\"../../../__pv_it/theorems/f33041e4cffbed5179855ecffe124d5df286d2cd0/expr.ipynb\"><img src=\"data:image/png;base64,iVBORw0KGgoAAAANSUhEUgAAAGEAAAAVBAMAAACkm51HAAAAMFBMVEX///8AAAAAAAAAAAAAAAAA\n",
       "AAAAAAAAAAAAAAAAAAAAAAAAAAAAAAAAAAAAAAAAAAAv3aB7AAAAD3RSTlMAInZUiRDNmWbv3US7\n",
       "qzJazP2FAAAACXBIWXMAAA7EAAAOxAGVKw4bAAABW0lEQVQ4y3WTPUvEMBjH/33R5rxSO4ugfgM5\n",
       "xLncLnQTRbAggoPDCULlcLjN9dbjBg/cCnLidGP1E9TVwevsJL4hOJxJHpBL2mRJ83vyy5MnTQCE\n",
       "qG8mDnvTELg3GVuA2z5TmZWelrB7+lSJsZAAR9hXt7AK9xc41g3CXg9sBDcnNqHuCRgAV7pBuAH4\n",
       "BZwvYi3qrmNMQzRizSC8DSx3EHwoxjMwLbGoF0L4HDjkxo9i8DbmB1JUz4njE2AtQvCuGQKwRHx5\n",
       "mWzFP74h41MzlvgMp19JIfCQ7ypCU+ToZtkgy25l6FIs+FYxBB7Kyh21cjCxiWYlh8R8V34Opp4u\n",
       "vwhWCGek1yHxIzf78BLFCCLYMViupSC8I/PslYqxkqZdvnqkGYRf+ddu+wWKMZ7NvvnB3Ok/g3A5\n",
       "z1rKkvWXnXXmR5P5wYXhfTyYHo6VGwIHJsM3PVtr3RDYqMd/lape/ZUR3EMAAAAASUVORK5CYII=\n",
       "\" style=\"display:inline;vertical-align:middle;\" /></a><br>(see <a class=\"ProveItLink\" href=\"../../../__pv_it/theorems/644354a7c5b98eaede7c1c043532e398122861ad0/dependencies.ipynb\">dependencies</a>)<br>"
      ],
      "text/plain": [
       "<IPython.core.display.HTML object>"
      ]
     },
     "metadata": {},
     "output_type": "display_data"
    },
    {
     "name": "stdout",
     "output_type": "stream",
     "text": [
      "add_0_2 may now be readily provable (assuming required theorems are usable).  Simply execute \"%qed\".\n"
     ]
    }
   ],
   "source": [
    "%proving add_0_2"
   ]
  },
  {
   "cell_type": "code",
   "execution_count": null,
   "metadata": {},
   "outputs": [],
   "source": []
  }
 ],
 "metadata": {
  "kernelspec": {
   "display_name": "Python 3",
   "language": "python",
   "name": "python3"
  }
 },
 "nbformat": 4,
 "nbformat_minor": 0
}