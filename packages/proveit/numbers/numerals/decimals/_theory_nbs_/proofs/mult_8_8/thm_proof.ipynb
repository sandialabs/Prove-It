{
 "cells": [
  {
   "cell_type": "markdown",
   "metadata": {},
   "source": [
    "Proof of <a class=\"ProveItLink\" href=\"../../../../../../_theory_nbs_/theory.ipynb\">proveit</a>.<a class=\"ProveItLink\" href=\"../../../../../_theory_nbs_/theory.ipynb\">numbers</a>.<a class=\"ProveItLink\" href=\"../../../../_theory_nbs_/theory.ipynb\">numerals</a>.<a class=\"ProveItLink\" href=\"../../theory.ipynb\">decimals</a>.<a class=\"ProveItLink\" href=\"../../theorems.ipynb#mult_8_8\">mult_8_8</a> theorem\n",
    "========"
   ]
  },
  {
   "cell_type": "code",
   "execution_count": 1,
   "metadata": {},
   "outputs": [],
   "source": [
    "import proveit\n",
    "theory = proveit.Theory() # the theorem's theory"
   ]
  },
  {
   "cell_type": "code",
   "execution_count": 2,
   "metadata": {},
   "outputs": [
    {
     "data": {
      "text/html": [
       "With these <a href=\"allowed_presumptions.txt\">allowed</a>/<a href=\"disallowed_presumptions.txt\">disallowed</a> theorem/theory presumptions (e.g., to avoid circular dependencies), we begin our proof of<br><strong id=\"mult_8_8\">mult_8_8:</strong> <a class=\"ProveItLink\" href=\"../../../__pv_it/theorems/dc361d194ca5e79c2225e7c446b19964a252d2690/expr.ipynb\"><img src=\"data:image/png;base64,iVBORw0KGgoAAAANSUhEUgAAAGEAAAAVBAMAAACkm51HAAAAMFBMVEX///8AAAAAAAAAAAAAAAAA\n",
       "AAAAAAAAAAAAAAAAAAAAAAAAAAAAAAAAAAAAAAAAAAAv3aB7AAAAD3RSTlMAInZUiRDNmWbv3US7\n",
       "qzJazP2FAAAACXBIWXMAAA7EAAAOxAGVKw4bAAABr0lEQVQ4y32TP0gCURzHv+f55/ybcwSdk9Dk\n",
       "EK0aCE7FDdEU2CIELUKBVkRnQ7ZVSC0RFG1BcDS0tGjQUAQKDUUgOjQFQSQISWG/d+apz+N+w/3e\n",
       "fd/7/H7v93vvAQhiyEykPrNFhrUrS2ISmItvGL+OeEKDTR1aZo/P0jeQphWLQBp+I5ELeAJSPCAs\n",
       "45Wcp0IrVEiqznVsF5gH8jzhlPFIboIINyWs9BEzOuFWOCKqC4EdIqYA8UdxGRuP3iFLIflC7jvF\n",
       "OIlYpUHta8WY8rfDET3toB29hTUgxIglVm37rDe31aLTkPRdrl8wu2TDpooCBJUR56zBY22jV+J0\n",
       "uUHf/cEUjjawptjBiGMKmEb0kOQkC5yH+K0g8MkRLWBPy3UJaozQYM2m4wGh4xF4uRxoEpGT8b+r\n",
       "JCkv3WAU3K9CPOXqeCDiplqtncRwSzmo1FI32AHgC0Iq8udBdZBzV/QT86Ygyd2pawXb1L0YR/hi\n",
       "jgK5EYr0Tv4j07uJgecMNd6j8dcksVmnQOVfGZ662YUetbjsUtpMzVq9j5KJJhStiAUTzWf5bAV5\n",
       "WAtZrP8DQ2pn9nQ+cHQAAAAASUVORK5CYII=\n",
       "\" style=\"display:inline;vertical-align:middle;\" /></a><br>(see <a class=\"ProveItLink\" href=\"../../../__pv_it/theorems/f2f49a464cbd76dbadc44f19c402474d7e03e99c0/dependencies.ipynb\">dependencies</a>)<br>"
      ],
      "text/plain": [
       "<IPython.core.display.HTML object>"
      ]
     },
     "metadata": {},
     "output_type": "display_data"
    },
    {
     "name": "stdout",
     "output_type": "stream",
     "text": [
      "mult_8_8 may now be readily provable (assuming required theorems are usable).  Simply execute \"%qed\".\n"
     ]
    }
   ],
   "source": [
    "%proving mult_8_8"
   ]
  },
  {
   "cell_type": "code",
   "execution_count": null,
   "metadata": {},
   "outputs": [],
   "source": []
  }
 ],
 "metadata": {
  "kernelspec": {
   "display_name": "Python 3",
   "language": "python",
   "name": "python3"
  }
 },
 "nbformat": 4,
 "nbformat_minor": 0
}