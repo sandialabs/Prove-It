{
 "cells": [
  {
   "cell_type": "markdown",
   "metadata": {},
   "source": [
    "Proof of <a class=\"ProveItLink\" href=\"../../../../../../_theory_nbs_/theory.ipynb\">proveit</a>.<a class=\"ProveItLink\" href=\"../../../../../_theory_nbs_/theory.ipynb\">numbers</a>.<a class=\"ProveItLink\" href=\"../../../../_theory_nbs_/theory.ipynb\">numerals</a>.<a class=\"ProveItLink\" href=\"../../theory.ipynb\">decimals</a>.<a class=\"ProveItLink\" href=\"../../theorems.ipynb#mult_7_2\">mult_7_2</a> theorem\n",
    "========"
   ]
  },
  {
   "cell_type": "code",
   "execution_count": 1,
   "metadata": {},
   "outputs": [],
   "source": [
    "import proveit\n",
    "theory = proveit.Theory() # the theorem's theory"
   ]
  },
  {
   "cell_type": "code",
   "execution_count": 2,
   "metadata": {},
   "outputs": [
    {
     "data": {
      "text/html": [
       "With these <a href=\"allowed_presumptions.txt\">allowed</a>/<a href=\"disallowed_presumptions.txt\">disallowed</a> theorem/theory presumptions (e.g., to avoid circular dependencies), we begin our proof of<br><strong id=\"mult_7_2\">mult_7_2:</strong> <a class=\"ProveItLink\" href=\"../../../__pv_it/theorems/61f8b09121477bc1a1c64e68047681b99fefb8470/expr.ipynb\"><img src=\"data:image/png;base64,iVBORw0KGgoAAAANSUhEUgAAAGEAAAAVBAMAAACkm51HAAAAMFBMVEX///8AAAAAAAAAAAAAAAAA\n",
       "AAAAAAAAAAAAAAAAAAAAAAAAAAAAAAAAAAAAAAAAAAAv3aB7AAAAD3RSTlMAInZUiRDNmWbv3US7\n",
       "qzJazP2FAAAACXBIWXMAAA7EAAAOxAGVKw4bAAABcUlEQVQ4y32Tv0vDUBDHv/nRmrS2ZrU4tKuT\n",
       "gzhnclP6Byh2ERwcMoiR4hAHdRWcRERBXESx+BdEF0frpkJpZicVrYiU+O5J2pgcueEld/c+d+/u\n",
       "3QNgISWMKSbqlLKdtF1nEtPQwjD8jlTFXQ2geqlt5TO5OkCuAf3OdU8jzwT0H2A5CSyuf9Kn0AZG\n",
       "POgishO5HoADYDd9eElMCsIENKA08BzX0bVg1lmivCOIGanPDzzPQDdA3mMJPS+INVmuH3deCVeb\n",
       "JWpErJBaasW78g4YDfprnpNcDgjFI0I2aTwejfqh7XE5dBBxSOqsNC7JwNikPK8csTUkLv6CyxYb\n",
       "VEKRy6FUEZ0q1/83A4oF7YSpo9jpdI9s3FLEr1jdNtQ6DJ+/QVPkmBNf7WPoqbhuU0yCnST0N1rH\n",
       "RKQXuo792GWEYU+U1EoApafeowh036+iEHADXckYdsPhrBtZ7+OGsSl+FrHA2EYzn624l5TUMvb/\n",
       "AsmoX4psgxGHAAAAAElFTkSuQmCC\n",
       "\" style=\"display:inline;vertical-align:middle;\" /></a><br>(see <a class=\"ProveItLink\" href=\"../../../__pv_it/theorems/7e719e867901cdc64c837f2428c9ad86f241219f0/dependencies.ipynb\">dependencies</a>)<br>"
      ],
      "text/plain": [
       "<IPython.core.display.HTML object>"
      ]
     },
     "metadata": {},
     "output_type": "display_data"
    },
    {
     "name": "stdout",
     "output_type": "stream",
     "text": [
      "mult_7_2 may now be readily provable (assuming required theorems are usable).  Simply execute \"%qed\".\n"
     ]
    }
   ],
   "source": [
    "%proving mult_7_2"
   ]
  },
  {
   "cell_type": "code",
   "execution_count": null,
   "metadata": {},
   "outputs": [],
   "source": []
  }
 ],
 "metadata": {
  "kernelspec": {
   "display_name": "Python 3",
   "language": "python",
   "name": "python3"
  }
 },
 "nbformat": 4,
 "nbformat_minor": 0
}