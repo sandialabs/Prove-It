{
 "cells": [
  {
   "cell_type": "markdown",
   "metadata": {},
   "source": [
    "Proof of <a class=\"ProveItLink\" href=\"../../../../../../_theory_nbs_/theory.ipynb\">proveit</a>.<a class=\"ProveItLink\" href=\"../../../../../_theory_nbs_/theory.ipynb\">numbers</a>.<a class=\"ProveItLink\" href=\"../../../../_theory_nbs_/theory.ipynb\">numerals</a>.<a class=\"ProveItLink\" href=\"../../theory.ipynb\">decimals</a>.<a class=\"ProveItLink\" href=\"../../theorems.ipynb#digit8\">digit8</a> theorem\n",
    "========"
   ]
  },
  {
   "cell_type": "code",
   "execution_count": 1,
   "metadata": {},
   "outputs": [],
   "source": [
    "import proveit\n",
    "theory = proveit.Theory() # the theorem's theory"
   ]
  },
  {
   "cell_type": "code",
   "execution_count": 2,
   "metadata": {},
   "outputs": [
    {
     "data": {
      "text/html": [
       "With these <a href=\"allowed_presumptions.txt\">allowed</a>/<a href=\"disallowed_presumptions.txt\">disallowed</a> theorem/theory presumptions (e.g., to avoid circular dependencies), we begin our proof of<br><strong id=\"digit8\">digit8:</strong> <a class=\"ProveItLink\" href=\"../../../__pv_it/theorems/8670efd7b83f402831a28f534c3720429fa295770/expr.ipynb\"><img src=\"data:image/png;base64,iVBORw0KGgoAAAANSUhEUgAAAEgAAAAUBAMAAADcj2b4AAAAMFBMVEX///8AAAAAAAAAAAAAAAAA\n",
       "AAAAAAAAAAAAAAAAAAAAAAAAAAAAAAAAAAAAAAAAAAAv3aB7AAAAD3RSTlMAEImZRKtUZs27dt0i\n",
       "7zLMHA9cAAAACXBIWXMAAA7EAAAOxAGVKw4bAAABWklEQVQoz2NgwAsyDzAsWsRAQM0CBlYFtgC8\n",
       "aioLGBj4HzB+xKdmZQKQOH+A4QsWOemfMwQYdP86vAWpYeB14PvOwCCkZIKmahpLAAPjBwa2SQJA\n",
       "DstE8W8MDAYMrAmoiqIPqDMwXADKg1WJPfjDwF7AwNiAqihsAscBhg1ABl/wAQY+AZYNDEwBMEVc\n",
       "s3fvADNiqngawIoYeEIFOAs4HjCw/RRgLgAJsHQJQE2KYX2wCKKIgYeBpVwPSMf/MgPzT8DUMMQw\n",
       "TOB02IDiAub/e8B0DwNC0WPGjaiKkk7+B/uuAUkRe0LmBYaXM4HgAFiE3YAh/yLIJ7d37969E6qI\n",
       "IZD1ArJBvAIMPMDQYmCcgGQSgygjinXyQBwOYmxAVsS3YAKKSUBb54AYq+BC84B4HYoilkYG9gUg\n",
       "Bgc8ctpAfkaNhafGkAhmjHSECLz4CzQFPargZmpCowUDAADtjlcKKzv5QAAAAABJRU5ErkJggg==\n",
       "\" style=\"display:inline;vertical-align:middle;\" /></a><br>(see <a class=\"ProveItLink\" href=\"../../../__pv_it/theorems/bddb90d36c019171de004dede3dd3b607151da960/dependencies.ipynb\">dependencies</a>)<br>"
      ],
      "text/plain": [
       "<IPython.core.display.HTML object>"
      ]
     },
     "metadata": {},
     "output_type": "display_data"
    }
   ],
   "source": [
    "%proving digit8"
   ]
  },
  {
   "cell_type": "code",
   "execution_count": null,
   "metadata": {},
   "outputs": [],
   "source": []
  }
 ],
 "metadata": {
  "kernelspec": {
   "display_name": "Python 3",
   "language": "python",
   "name": "python3"
  }
 },
 "nbformat": 4,
 "nbformat_minor": 0
}