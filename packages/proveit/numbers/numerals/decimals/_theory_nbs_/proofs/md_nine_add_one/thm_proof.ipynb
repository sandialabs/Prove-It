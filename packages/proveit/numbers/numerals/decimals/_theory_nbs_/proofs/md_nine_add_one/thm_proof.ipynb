{
 "cells": [
  {
   "cell_type": "markdown",
   "metadata": {},
   "source": [
    "Proof of <a class=\"ProveItLink\" href=\"../../../../../../_theory_nbs_/theory.ipynb\">proveit</a>.<a class=\"ProveItLink\" href=\"../../../../../_theory_nbs_/theory.ipynb\">numbers</a>.<a class=\"ProveItLink\" href=\"../../../../_theory_nbs_/theory.ipynb\">numerals</a>.<a class=\"ProveItLink\" href=\"../../theory.ipynb\">decimals</a>.<a class=\"ProveItLink\" href=\"../../theorems.ipynb#md_nine_add_one\">md_nine_add_one</a> theorem\n",
    "========"
   ]
  },
  {
   "cell_type": "code",
   "execution_count": 1,
   "metadata": {},
   "outputs": [],
   "source": [
    "import proveit\n",
    "theory = proveit.Theory() # the theorem's theory"
   ]
  },
  {
   "cell_type": "code",
   "execution_count": 2,
   "metadata": {},
   "outputs": [
    {
     "data": {
      "text/html": [
       "With these <a href=\"allowed_presumptions.txt\">allowed</a>/<a href=\"disallowed_presumptions.txt\">disallowed</a> theorem/theory presumptions (e.g., to avoid circular dependencies), we begin our proof of<br><strong id=\"md_nine_add_one\">md_nine_add_one:</strong> <a class=\"ProveItLink\" href=\"../../../__pv_it/theorems/d87a1b98525671f175d4b17a582b58b3be9f1ec20/expr.ipynb\"><img src=\"data:image/png;base64,iVBORw0KGgoAAAANSUhEUgAABHYAAAAaBAMAAAAgZsaBAAAAMFBMVEX///8AAAAAAAAAAAAAAAAA\n",
       "AAAAAAAAAAAAAAAAAAAAAAAAAAAAAAAAAAAAAAAAAAAv3aB7AAAAD3RSTlMAq1RmmUTNIjK7EInv\n",
       "3XZ/CtNrAAAACXBIWXMAAA7EAAAOxAGVKw4bAAAKv0lEQVRo3u1bf2wbVx3/2mf7zmfHdic0RqtF\n",
       "HhNbWZvEI6NappV6NIWOrlsE/AUZcemkaZMQF8SQMtbWk6ptf6RNWIlGClqPtaq0tavdroOVsi5b\n",
       "FLUURkPpRlUwcraK0gWyKP2pFBrer7t79+7OdujJsClf6cVfv3vfX+993nvf984BqIUCpT/BHM0R\n",
       "R4nS8doaRurrl8YKIbmORmf3oKKD8izb++Vvjdrl/9Y72WzT+v+InUSaFkrv1c+oO32rimS4XHut\n",
       "fwF5+etttzYnqsnj57RNK6Twx81VsRPAH8FMXYZxESuEgsVr1qf+bJQyofb5IHKc0Rffdkyyg/d2\n",
       "QKJC1ETP+47qTbpbrW8BUX/NsLzsHjzN1qbYoS87nXAR/+H+AW+/DT34+fsUOyvwx8NVsRPqwB9a\n",
       "PaCj5mhRRkMI3zt90BjJUsV/hV5N4Hij8JAouAOCUwCPertK9ER0ofYT30U1Yq2fAVF/WVhediNp\n",
       "lWWp34aXhZHbCU5xULPQknbx2ySiJ2LYaIUn8fTqr4odBa9PPXVZdkIZWhKTDSi65T5oTNL1PTAE\n",
       "0X6B443ClCj4YVq9CHCH9xmC6JGMQfiaKYf6Vso6thnfAqL+JtMV7S4FOEAYaRRiwggvB07c9G8K\n",
       "CjkXvw2ievBz0qaVQCiWrp7v4Mm3ry7YibMSGkqiaTrkg8YuOpWSOYhNCxxvNDwtCnZ2AMJO3HMm\n",
       "Mj1H2ddmfgzNWmu8fQuI+tulV7T7I4AW0iKagqAQ2hAvbqYyIzggp98GMT1HmY1WkDI1pMIRmlXn\n",
       "6oKdW2iRlg5/eB0E/bD5Ov0o9EPigsDxRmMuwxo8h6InCU9Acy7QTM9a1zFcK05b/wKi/r4OFe2e\n",
       "B+gji0IyC4p9SSVO/NpFbUvGkP+kc59hetYyGwgRb5dKv60BO/FS6S/FumBnFS2FmZmZf0EI2+w+\n",
       "tJ5PYBecqXIWsLcHWDNxnbFKnAM7xxuNpIL7xbn4IOrMGDlPyCcB1uWd6w7Ss9d1DPcKqnwMiPrL\n",
       "wvKwq2LsENQX0JjboyVOrIFFXxFXnj+a8ihUHLEtAKpnL2uDsLMSYGsN2AnlIarXBTsGrpPlZTqZ\n",
       "8+HDsI0z3alFpysfI+3tQb2oFzSWnVw185SrDqOFzKefEM5Um+chtEg51ptiZxp6lrhih9SGSoQI\n",
       "+nwLiPprhOVqFyHyCsIOweSGIij2aLET6rngrcNCMj92gymPYhVnCtOzhLVB2OkGOVUDdlCj7mvH\n",
       "RS3oO85KIf0GQANadXdnYDWHhGEIjVZUYG8PeJOO405UR+BJunZbHG+05bH0U+JJEp+zgkOsN8XO\n",
       "NPQsdsXOYtEv3wKi/hphedgl2CkaY37FJo2dCF76quI4X6NzliG/7mlxpjA9i5kNhJ2oHuvgWyxl\n",
       "66d84lW4O2XdDW6FV68ZOrfnlVd+SVnPbB5GWOnL34i2SuTbAwB/BtjOEoXQJDQUYdfe+Z4KaHtu\n",
       "hc5BknTijvHmy+zwbXKc0fvupGP5HbJUMJwc00GZZL150mGK6unD7OpS6Xel0h+sMewTG/sWEPWX\n",
       "heVlV0XD3EXGslCEsH3dwU6EhmmEO0m0LLT4tCkvl8SZwvT0MRsIO8FyxKEXNn9qAG6K6SHdwk7z\n",
       "7FPlp/ptMFT359H5gN1vkEfKI2bb8XEBOzQ9wN78BtQLoEywuRnvh0IHgt5qT7OkPT/LitDFTpLW\n",
       "6Uo4Z2Gj77aLvfUMwLY0hIc8sUP1dLquO52u+Y4fAVF/rbDc7Z6nywjJcYNTjjFueGileP+E0pIp\n",
       "U96JHaank9kgp6cv2FcmPBWw2pvL2Zi1Z0FEKs8WO4EiD0N5FdoQCpDULezAAjZHUNNgyr5nSdsm\n",
       "Lr6HV1f1Kkho5gdZVxfKsAzgAmzIe12b0fa2650H2CSwbnWE+x1kUJ0KXxZUzegYO8yyy57F9DS5\n",
       "YqdJyHf8C4j6a4XlYhfRIMAynbkoTTv2rEK6S8z8pwl2mrz2LKanidnA2Nn3KIpr+eaxRBvR1SaP\n",
       "0zvnhZ9Zz2MndsusU+V4nofhOrygxdItGoedI3RU7tGTedUI73lWbgS0QEbLaEwhkLuVdLVKsga4\n",
       "Pqjdhbva6RBuQNtzESHdJCkMHoUCFbI4sIxK0+pUwq7uTbJnSf1uubJq6oE2V+y0ic75FhD11wjL\n",
       "y+7dAF8i8tIQ3t943cgJhKtC2r4axFNkz2pzzZV1Qw953saw8wSaFNs7M/FUgsz8xu/tfpx01sLY\n",
       "C9/ksCO/icN4ZdzIJjmWC9VW2Tcxn4fh7Rg8j+3m96yrY8gnZZ4GGzQwlmXjDDgoT9Hz8fPQlM2S\n",
       "ri7kcNzBEyFyu4HvfOkfXG8ytD0XUSATJdlV4hRsoc0sDgkQGWQwkFMvx+zhtJL7HXKi5c7oVAaL\n",
       "ET30wGwbwzc0rtYk3wJi/rKwvOw2pNUjVP447M4busknduJ6BHv7pYuUIfc7q+xndCpDxLAe8w6F\n",
       "YCeAvj/+NwRj2ke/TythclJdCNmzHHYAn99e1voMbHCsRfbKf+qnVR6GN2VQZj7BYSdxKpGF8I81\n",
       "vAObVxCbWGlUD+N3QAA/H3+6MU+6uuEUiqXxte6/oweILeG5dAJ3U9ZgUC1tz0WkLmDvAQ62dzAh\n",
       "k0OSRBgZjKbh9AfC4bj9XpwZkLME7iaZpHxUhpgieuAdATvzjq3JWLUm+RYQ9dcMy8OuumosT+V3\n",
       "HLrB0n0CqBPPQuJ+YZ37evuAGQ0e7R8QjspgcaKHPH8HuN9gNEIv2QVBPr8SpEcGB59F2NkV4bGD\n",
       "qR01gx7dYMPNK+zWyXOTtsASOww3dkjjGQ470YyUC/8Uqwtv3W6kcw15WiiZ2wRJD24zdWMngs41\n",
       "3mpgRiSeunUnxxt00jr3atOUPCquO7ZagfwJyOZvJbu3uUULJ72j9fDbFMfPSRsTO0fgLGxQ8MLV\n",
       "/6CsFOmAh5tF7IzAGChNusHGUe4rpP9j3LcjcI8Dhgb104QolOql3fFC/pKxdGb5F4l32LraXGTl\n",
       "rKxBzBliERwRiQcjFw4qvAH0fHtZ5N9L2t9J2moF8icgm7+V7Bbdoq3wetfL7xj/nLQxsCNPIli3\n",
       "hWAXBMqbYvSi+fNgAsEYePUSbHkJGnSDlW3LDKuUvti6YhGZFpPwFgfD77e3t3fYsZOEeFo9gMGj\n",
       "6GET78+xQtM6jetq1Uzuep7ZqMMeZ75lNjAictAeF4436JyI7r8y4Hxxfe71owOfAvL0t8dDfo+r\n",
       "EzX7vYd/3gMcdsIpeBi6P4DedFQL3Ak9aOiVdzX6iy9+3TmsXLgLY0ctUhYGMLvL/IMrg2dhBP+2\n",
       "qAin0AlFhKENOw06TtjPZvDuFTFX4RdZocEbd0S/uFIG6xh0bGYGwHlpYDUwInJQ2YXjDXoPtpcp\n",
       "92H0GlyfAvL09zkP+bKbE7X7XXbMbMdvTukGoh4YHBDeSbBs6nMoX0HYUd6ibCiP2V5NOYz/sMqf\n",
       "qLlQGtdvRHmxCEMbdpT7iUttGQi3vmZN9DItlNbX5SUaZ1CkM1UkE1rttf4F5OVvorbf562fXTT2\n",
       "57SNiJ2w7vU+i79ZwlkdZX+VMFkwudFgsUEyvokwtGHHoM9qMEcfNRKxI0F17Cj/2AfwDVo/82+D\n",
       "xUQ5NZXoCJzh66tiZ44+BtjxoIjj/7MybmzGq8kcdj52lCgN/89sz+1SH3n6D5B3BgFDc/ArAAAA\n",
       "AElFTkSuQmCC\n",
       "\" style=\"display:inline;vertical-align:middle;\" /></a><br>(see <a class=\"ProveItLink\" href=\"../../../__pv_it/theorems/b0f22291f875be08187d94cbca42fb0a16a26d530/dependencies.ipynb\">dependencies</a>)<br>"
      ],
      "text/plain": [
       "<IPython.core.display.HTML object>"
      ]
     },
     "metadata": {},
     "output_type": "display_data"
    }
   ],
   "source": [
    "%proving md_nine_add_one"
   ]
  },
  {
   "cell_type": "code",
   "execution_count": null,
   "metadata": {},
   "outputs": [],
   "source": []
  }
 ],
 "metadata": {
  "kernelspec": {
   "display_name": "Python 3",
   "language": "python",
   "name": "python3"
  }
 },
 "nbformat": 4,
 "nbformat_minor": 0
}