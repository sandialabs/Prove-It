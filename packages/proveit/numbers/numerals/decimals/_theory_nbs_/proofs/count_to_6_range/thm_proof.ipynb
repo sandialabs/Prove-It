{
 "cells": [
  {
   "cell_type": "markdown",
   "metadata": {},
   "source": [
    "Proof of <a class=\"ProveItLink\" href=\"../../../../../../_theory_nbs_/theory.ipynb\">proveit</a>.<a class=\"ProveItLink\" href=\"../../../../../_theory_nbs_/theory.ipynb\">numbers</a>.<a class=\"ProveItLink\" href=\"../../../../_theory_nbs_/theory.ipynb\">numerals</a>.<a class=\"ProveItLink\" href=\"../../theory.ipynb\">decimals</a>.<a class=\"ProveItLink\" href=\"../../theorems.ipynb#count_to_6_range\">count_to_6_range</a> theorem\n",
    "========"
   ]
  },
  {
   "cell_type": "code",
   "execution_count": 1,
   "metadata": {},
   "outputs": [],
   "source": [
    "import proveit\n",
    "theory = proveit.Theory() # the theorem's theory"
   ]
  },
  {
   "cell_type": "code",
   "execution_count": 2,
   "metadata": {},
   "outputs": [
    {
     "data": {
      "text/html": [
       "With these <a href=\"allowed_presumptions.txt\">allowed</a>/<a href=\"disallowed_presumptions.txt\">disallowed</a> theorem/theory presumptions (e.g., to avoid circular dependencies), we begin our proof of<br><strong id=\"count_to_6_range\">count_to_6_range:</strong> <a class=\"ProveItLink\" href=\"../../../__pv_it/theorems/72ee9180626baa3f041e2ce07bc0bdf190b214ec0/expr.ipynb\"><img src=\"data:image/png;base64,iVBORw0KGgoAAAANSUhEUgAAAPsAAAAVBAMAAAByEoVnAAAAMFBMVEX///8AAAAAAAAAAAAAAAAA\n",
       "AAAAAAAAAAAAAAAAAAAAAAAAAAAAAAAAAAAAAAAAAAAv3aB7AAAAD3RSTlMAInZUiRDNmWbv3US7\n",
       "qzJazP2FAAAACXBIWXMAAA7EAAAOxAGVKw4bAAADOElEQVRIx51WTUhUURT+5uc5P86ME0RCtBgX\n",
       "UQSRixJq4xCCK3NyFxgOQSBFNQtx+iF6tbBNkhC2yMIBE8MQhjbRbpQIsih3VmDOwpWbMWSGKGo6\n",
       "9+f9zL1PUg+8975335nvu/ecc88dAEnsynxegzvi4s7+9u26J4CzzltzSvfYPhezV+x2nK71jBxp\n",
       "Hf4k0d7uD7ZsTjwjtUvTcqirq4zDOiHjSkxrXB4W7DoDvwkYWRjL16S8r4TeIkdGDp3WUqJL8jn5\n",
       "XPrtK8YLaMqonMSF88NVlcsrc5fxDbgIhGgKOCaZ4klExkQYNzGQlb5HpHzc/vUFxEoI51RSzuWv\n",
       "qlwe1pTCR+A+RRQu+UgV8R8isxNokfKJEVU+IBTGVVLOZck7XB7WyQUjGXS45Smk8b+2iynT1KTK\n",
       "x8SqBlXSDrd8A5dq70UMTAy55VmCN6zKfiFBmy1/r6csFnb19C169KikQ255N5dmj9cOUV0El8QS\n",
       "XPIVuZ8SR7/LKjEt+VjG95uDlkFEqC5H+MvNWWZzdjhc8pXUVvI1E4+AcBZTivyckx9R+UFY8mSL\n",
       "/D6wgRAl/qRKOqXIz22lbtSBGxkExjDRKB8qOYUkeO665e/wTjVQQJjiUFFZJxrlXVyq/C/gYRGJ\n",
       "DVV+1Go1ZcQ2eexTtvw7kufJpz0R/gm8+Y/86NZdp0byJprHlOAH0tgj0luV8s0rK6vP0nzsCbAq\n",
       "ikCs/pSa+8bg21wetshXHyhgwZLnM1gDDnIUWWLBF7MibLAnTeIpRwHKPe29ByrpgiVvNHApged1\n",
       "Rbmn0iuJ3dObhFFjkZ7J5wschU3a9xxRJEqiA7bCPy7QW5xrl/vMbZwrSL2GOTlc/MaGbIBY2qDK\n",
       "D6WxTi8rk1dMzNJEo/V6PcsRXufpyOEo9PlPKsrOEV9+OQOOgnm2K1+q8owr/rX2hTu5uGZYD8hZ\n",
       "gB9J3bepiqJFRMtWquw4eaET0JCvoMrbXI5TQI++Q7UfzsERdA5DD5TWUchUiZ1DKK0zeFBdp2te\n",
       "4j571AMZKR0d0JnnNac+vfTsbz7WF/rli9MgPZAfOprX5fs1J73tOt9iSdFXdmV+j/91O+NqA/4B\n",
       "fq/gp6z7QD8AAAAASUVORK5CYII=\n",
       "\" style=\"display:inline;vertical-align:middle;\" /></a><br>(see <a class=\"ProveItLink\" href=\"../../../__pv_it/theorems/d3faa1008c40a274cd2267f65fc7692581e858000/dependencies.ipynb\">dependencies</a>)<br>"
      ],
      "text/plain": [
       "<IPython.core.display.HTML object>"
      ]
     },
     "metadata": {},
     "output_type": "display_data"
    }
   ],
   "source": [
    "%proving count_to_6_range"
   ]
  },
  {
   "cell_type": "code",
   "execution_count": null,
   "metadata": {},
   "outputs": [],
   "source": []
  }
 ],
 "metadata": {
  "kernelspec": {
   "display_name": "Python 3",
   "language": "python",
   "name": "python3"
  }
 },
 "nbformat": 4,
 "nbformat_minor": 0
}