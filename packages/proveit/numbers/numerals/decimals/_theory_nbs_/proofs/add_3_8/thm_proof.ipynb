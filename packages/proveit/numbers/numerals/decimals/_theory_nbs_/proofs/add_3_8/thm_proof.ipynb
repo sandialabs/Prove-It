{
 "cells": [
  {
   "cell_type": "markdown",
   "metadata": {},
   "source": [
    "Proof of <a class=\"ProveItLink\" href=\"../../../../../../_theory_nbs_/theory.ipynb\">proveit</a>.<a class=\"ProveItLink\" href=\"../../../../../_theory_nbs_/theory.ipynb\">numbers</a>.<a class=\"ProveItLink\" href=\"../../../../_theory_nbs_/theory.ipynb\">numerals</a>.<a class=\"ProveItLink\" href=\"../../theory.ipynb\">decimals</a>.<a class=\"ProveItLink\" href=\"../../theorems.ipynb#add_3_8\">add_3_8</a> theorem\n",
    "========"
   ]
  },
  {
   "cell_type": "code",
   "execution_count": 1,
   "metadata": {},
   "outputs": [],
   "source": [
    "import proveit\n",
    "theory = proveit.Theory() # the theorem's theory"
   ]
  },
  {
   "cell_type": "code",
   "execution_count": 2,
   "metadata": {},
   "outputs": [
    {
     "data": {
      "text/html": [
       "With these <a href=\"allowed_presumptions.txt\">allowed</a>/<a href=\"disallowed_presumptions.txt\">disallowed</a> theorem/theory presumptions (e.g., to avoid circular dependencies), we begin our proof of<br><strong id=\"add_3_8\">add_3_8:</strong> <a class=\"ProveItLink\" href=\"../../../__pv_it/theorems/0877611fffb992df4913c8b2c3475073b8095e380/expr.ipynb\"><img src=\"data:image/png;base64,iVBORw0KGgoAAAANSUhEUgAAAGsAAAAVBAMAAACzuQ2OAAAAMFBMVEX///8AAAAAAAAAAAAAAAAA\n",
       "AAAAAAAAAAAAAAAAAAAAAAAAAAAAAAAAAAAAAAAAAAAv3aB7AAAAD3RSTlMAInZUiRDNmWbv3US7\n",
       "qzJazP2FAAAACXBIWXMAAA7EAAAOxAGVKw4bAAABWElEQVQ4y2NgYBBgwA4YGfABJgMcEtwK+LSZ\n",
       "MDCIuJ9GEwxxqWZg0MBU/CoASrAmMLAWMNijWVnAwGvAwBaApon1en4AhGBgb2Bg+swQnwCR2AGh\n",
       "OBpAxnEUYNimHwAlOIGemM3AD9VmBKFYLoC0MUzFrc0MzLVvQNHG/CcA6AqGDNzaSsCBtoIBRRvD\n",
       "/U/FQNIXtzaQiXy699C0sf9fCCTbwMxVYHABVdtiiCMNULWZyPwHiljitm02mMv5FUhUrVo1c9Wq\n",
       "taCQBEYJMDze49XG94CB5zOKbZwBDIxAkZ24tQEdyf8VXVs8EN9gYLDC7bdDQLMvQByJZBsweR9k\n",
       "YOjBbZsvOE2gxRt3KgOHAjRyUIC/AJR4BaS3l59Gi4C35cCkzLAaXdfd+bkNEILrAbK4EUqGW4A7\n",
       "36Cm1x3IHPYGPPntIE4ZGXzZNIYMA0E+wJX3mQRwawIAKxFdRYvDeCcAAAAASUVORK5CYII=\n",
       "\" style=\"display:inline;vertical-align:middle;\" /></a><br>(see <a class=\"ProveItLink\" href=\"../../../__pv_it/theorems/183280f3048f60e19dccc79125f7a45b51d4e5f10/dependencies.ipynb\">dependencies</a>)<br>"
      ],
      "text/plain": [
       "<IPython.core.display.HTML object>"
      ]
     },
     "metadata": {},
     "output_type": "display_data"
    },
    {
     "name": "stdout",
     "output_type": "stream",
     "text": [
      "add_3_8 may now be readily provable (assuming required theorems are usable).  Simply execute \"%qed\".\n"
     ]
    }
   ],
   "source": [
    "%proving add_3_8"
   ]
  },
  {
   "cell_type": "code",
   "execution_count": null,
   "metadata": {},
   "outputs": [],
   "source": []
  }
 ],
 "metadata": {
  "kernelspec": {
   "display_name": "Python 3",
   "language": "python",
   "name": "python3"
  }
 },
 "nbformat": 4,
 "nbformat_minor": 0
}