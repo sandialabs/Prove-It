{
 "cells": [
  {
   "cell_type": "markdown",
   "metadata": {},
   "source": [
    "Proof of <a class=\"ProveItLink\" href=\"../../../../../../_theory_nbs_/theory.ipynb\">proveit</a>.<a class=\"ProveItLink\" href=\"../../../../../_theory_nbs_/theory.ipynb\">numbers</a>.<a class=\"ProveItLink\" href=\"../../../../_theory_nbs_/theory.ipynb\">numerals</a>.<a class=\"ProveItLink\" href=\"../../theory.ipynb\">decimals</a>.<a class=\"ProveItLink\" href=\"../../theorems.ipynb#add_5_7\">add_5_7</a> theorem\n",
    "========"
   ]
  },
  {
   "cell_type": "code",
   "execution_count": 1,
   "metadata": {},
   "outputs": [],
   "source": [
    "import proveit\n",
    "theory = proveit.Theory() # the theorem's theory"
   ]
  },
  {
   "cell_type": "code",
   "execution_count": 2,
   "metadata": {},
   "outputs": [
    {
     "data": {
      "text/html": [
       "With these <a href=\"allowed_presumptions.txt\">allowed</a>/<a href=\"disallowed_presumptions.txt\">disallowed</a> theorem/theory presumptions (e.g., to avoid circular dependencies), we begin our proof of<br><strong id=\"add_5_7\">add_5_7:</strong> <a class=\"ProveItLink\" href=\"../../../__pv_it/theorems/8948438f5c114e6e5ac65ed0f443eba79dfd16dd0/expr.ipynb\"><img src=\"data:image/png;base64,iVBORw0KGgoAAAANSUhEUgAAAGwAAAAVBAMAAABRZRb3AAAAMFBMVEX///8AAAAAAAAAAAAAAAAA\n",
       "AAAAAAAAAAAAAAAAAAAAAAAAAAAAAAAAAAAAAAAAAAAv3aB7AAAAD3RSTlMAInZUiRDNmWbv3US7\n",
       "qzJazP2FAAAACXBIWXMAAA7EAAAOxAGVKw4bAAABh0lEQVQ4y2NgYBBgwA4YGfABJgOGBwysqHoZ\n",
       "W4EEtwI+bSYMDPPTVgWgiDH/////J4MGpuJXQHXiZecYGFgTGBhW/nJFlWU5Xl6+mIEtAE0T6/X8\n",
       "AAbGAwz+GxjYGxgYLsAldkC1Ad1ZwMBRgGGbfgADrwAD5wQGTgZkbUZQRzIw8AKpqdi0cX5l4P3I\n",
       "YIZNGxD4AXEGVtsWMPD+YygBcm6o3EPXBvQBA4MvNm1AwPUBbOJRBvkNaNp4QQJtIBb7KjC4gKTt\n",
       "vQLDYjCXZwGaNkkQYYnDtrUMDLPBXPaPQKJq1aqZq1atBQu4gU3Fro39AFgbTwID+z8029aAiJ3Y\n",
       "tfUCMdCRnMCw+YCqjfUviLTC6jdmBwZBhkPgyOU8gKqN+zuI7MFq2xMGBlVQIAMThGYAqjbmLyCy\n",
       "BEObvwAD4/Ly8gUMr4Ac8dpStHhjnAwiV6Prujs/t4ELmMwTGLgeIIsboWSfBbjzDWp63YHMAaVy\n",
       "nOAgThkZfNk0hgwDQT7AlfeZBHBrAgCnimEdakkdjQAAAABJRU5ErkJggg==\n",
       "\" style=\"display:inline;vertical-align:middle;\" /></a><br>(see <a class=\"ProveItLink\" href=\"../../../__pv_it/theorems/f2e3685ee68d250381395c84a4cbf4bea4a0a1bd0/dependencies.ipynb\">dependencies</a>)<br>"
      ],
      "text/plain": [
       "<IPython.core.display.HTML object>"
      ]
     },
     "metadata": {},
     "output_type": "display_data"
    },
    {
     "name": "stdout",
     "output_type": "stream",
     "text": [
      "add_5_7 may now be readily provable (assuming required theorems are usable).  Simply execute \"%qed\".\n"
     ]
    }
   ],
   "source": [
    "%proving add_5_7"
   ]
  },
  {
   "cell_type": "code",
   "execution_count": null,
   "metadata": {},
   "outputs": [],
   "source": []
  }
 ],
 "metadata": {
  "kernelspec": {
   "display_name": "Python 3",
   "language": "python",
   "name": "python3"
  }
 },
 "nbformat": 4,
 "nbformat_minor": 0
}