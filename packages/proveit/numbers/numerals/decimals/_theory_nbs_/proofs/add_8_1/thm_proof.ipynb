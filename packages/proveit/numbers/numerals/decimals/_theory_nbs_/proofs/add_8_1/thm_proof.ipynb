{
 "cells": [
  {
   "cell_type": "markdown",
   "metadata": {},
   "source": [
    "Proof of <a class=\"ProveItLink\" href=\"../../../../../../_theory_nbs_/theory.ipynb\">proveit</a>.<a class=\"ProveItLink\" href=\"../../../../../_theory_nbs_/theory.ipynb\">numbers</a>.<a class=\"ProveItLink\" href=\"../../../../_theory_nbs_/theory.ipynb\">numerals</a>.<a class=\"ProveItLink\" href=\"../../theory.ipynb\">decimals</a>.<a class=\"ProveItLink\" href=\"../../theorems.ipynb#add_8_1\">add_8_1</a> theorem\n",
    "========"
   ]
  },
  {
   "cell_type": "code",
   "execution_count": 1,
   "metadata": {},
   "outputs": [],
   "source": [
    "import proveit\n",
    "theory = proveit.Theory() # the theorem's theory"
   ]
  },
  {
   "cell_type": "code",
   "execution_count": 2,
   "metadata": {},
   "outputs": [
    {
     "data": {
      "text/html": [
       "With these <a href=\"allowed_presumptions.txt\">allowed</a>/<a href=\"disallowed_presumptions.txt\">disallowed</a> theorem/theory presumptions (e.g., to avoid circular dependencies), we begin our proof of<br><strong id=\"add_8_1\">add_8_1:</strong> <a class=\"ProveItLink\" href=\"../../../__pv_it/theorems/749526fc4a54b93ecfdf8a87b597602c70b762f80/expr.ipynb\"><img src=\"data:image/png;base64,iVBORw0KGgoAAAANSUhEUgAAAGEAAAAVBAMAAACkm51HAAAAMFBMVEX///8AAAAAAAAAAAAAAAAA\n",
       "AAAAAAAAAAAAAAAAAAAAAAAAAAAAAAAAAAAAAAAAAAAv3aB7AAAAD3RSTlMAInZUiRDNmWbv3US7\n",
       "qzJazP2FAAAACXBIWXMAAA7EAAAOxAGVKw4bAAABZUlEQVQ4y2NgYBBgwA5wiTMwGeCQ2IRLhwkD\n",
       "Q4hLNZog31KgUQ0YastrAxgYWBMYGAoYeFEtii37CiRT0TVEKfBNZGBgb2DgaADrA4EdMKeCdLSj\n",
       "67jJwHCGgYGTgYHlAlyHEbIOzgA0Hd8YGPwDGMwYGJj/BLA3YNHBhuYR1j8MDPobGEqAzPufihmw\n",
       "6ADajWlHA0MGkMX+fyE2HRxgp7KvAoMLEH+cV2BYDApgmf8GWHQwT0CzI3ID330DhtlAswoY7KcC\n",
       "BapWrZq5atVauA6+D2g6WIuc9R+AdADDhPEzFju4J2DGNzCsgK6KB7JuYHPVAjR/MIDj4xDQDmCa\n",
       "O4jN5wfQLLAMYP3HwOALtD2VgUMBVQfLR5DpDmg6tAJ4gFH0Csh6W16NGrq8N78Bncm1AU0HiztI\n",
       "HdcDZDEjZI4U9sQODFoksAOZU4EjfxzElXEYD+CQiMGlgwdXtmVUwCGhiF0YANKOW3GKCS2vAAAA\n",
       "AElFTkSuQmCC\n",
       "\" style=\"display:inline;vertical-align:middle;\" /></a><br>(see <a class=\"ProveItLink\" href=\"../../../__pv_it/theorems/acb491ca36eb20dc354d4e25b047e79f4162a9f00/dependencies.ipynb\">dependencies</a>)<br>"
      ],
      "text/plain": [
       "<IPython.core.display.HTML object>"
      ]
     },
     "metadata": {},
     "output_type": "display_data"
    },
    {
     "name": "stdout",
     "output_type": "stream",
     "text": [
      "add_8_1 may now be readily provable (assuming required theorems are usable).  Simply execute \"%qed\".\n"
     ]
    }
   ],
   "source": [
    "%proving add_8_1"
   ]
  },
  {
   "cell_type": "code",
   "execution_count": null,
   "metadata": {},
   "outputs": [],
   "source": []
  }
 ],
 "metadata": {
  "kernelspec": {
   "display_name": "Python 3",
   "language": "python",
   "name": "python3"
  }
 },
 "nbformat": 4,
 "nbformat_minor": 0
}