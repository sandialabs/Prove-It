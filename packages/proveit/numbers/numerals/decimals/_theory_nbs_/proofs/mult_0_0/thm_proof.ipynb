{
 "cells": [
  {
   "cell_type": "markdown",
   "metadata": {},
   "source": [
    "Proof of <a class=\"ProveItLink\" href=\"../../../../../../_theory_nbs_/theory.ipynb\">proveit</a>.<a class=\"ProveItLink\" href=\"../../../../../_theory_nbs_/theory.ipynb\">numbers</a>.<a class=\"ProveItLink\" href=\"../../../../_theory_nbs_/theory.ipynb\">numerals</a>.<a class=\"ProveItLink\" href=\"../../theory.ipynb\">decimals</a>.<a class=\"ProveItLink\" href=\"../../theorems.ipynb#mult_0_0\">mult_0_0</a> theorem\n",
    "========"
   ]
  },
  {
   "cell_type": "code",
   "execution_count": 1,
   "metadata": {},
   "outputs": [],
   "source": [
    "import proveit\n",
    "theory = proveit.Theory() # the theorem's theory"
   ]
  },
  {
   "cell_type": "code",
   "execution_count": 2,
   "metadata": {},
   "outputs": [
    {
     "data": {
      "text/html": [
       "With these <a href=\"allowed_presumptions.txt\">allowed</a>/<a href=\"disallowed_presumptions.txt\">disallowed</a> theorem/theory presumptions (e.g., to avoid circular dependencies), we begin our proof of<br><strong id=\"mult_0_0\">mult_0_0:</strong> <a class=\"ProveItLink\" href=\"../../../__pv_it/theorems/046e772a2ef93a32b99a8d52932b0e1e7bfed6bd0/expr.ipynb\"><img src=\"data:image/png;base64,iVBORw0KGgoAAAANSUhEUgAAAFcAAAAVBAMAAADBdm84AAAAMFBMVEX///8AAAAAAAAAAAAAAAAA\n",
       "AAAAAAAAAAAAAAAAAAAAAAAAAAAAAAAAAAAAAAAAAAAv3aB7AAAAD3RSTlMAInZUiRDNmWbv3US7\n",
       "qzJazP2FAAAACXBIWXMAAA7EAAAOxAGVKw4bAAABT0lEQVQoz3XTP0vDQBjH8W+bpk3/UDu7GCcn\n",
       "IYO4NhRHhWyiCC2I4BihiDh1E13sXpBKN0EQ34Cps0JfgXR2UbSioxcvae3lctPlwy9Pnie5ADUS\n",
       "S0NyZZ2k3aeF1yDXOJpdb6zUyHYSsZAxW7DP7vTBece8hgM1K7nQweqTC2K9gE04U8OSi1AZYXzF\n",
       "+gx1j6KnhCWvw4JP9TPWb3hzyKtNS25DU4R/IjRD7ZAbzWcjPoQll+pHpJmJUBurFV6c3oTrdsYD\n",
       "GZ78D7sY3fnKEfdEGy7lsHJTlDOFPthU35U2JPf+BjTCAUu+nKTuUO4mBxQs2qgEWNNX9wSXHkZ/\n",
       "vueIH8HqUmjF4XM4FhQolSVvid2AnXGsJce8Et/VVcKSX8Vuu/EyG6W9Km4s3SnhiMe6o7ioP6GW\n",
       "r9OTlPM81FgmSAnvaayS9l9l7KQt66O/HIRbMO+eacEAAAAASUVORK5CYII=\n",
       "\" style=\"display:inline;vertical-align:middle;\" /></a><br>(see <a class=\"ProveItLink\" href=\"../../../__pv_it/theorems/cf4676a3315179268f46707de7d45e138d8bae930/dependencies.ipynb\">dependencies</a>)<br>"
      ],
      "text/plain": [
       "<IPython.core.display.HTML object>"
      ]
     },
     "metadata": {},
     "output_type": "display_data"
    },
    {
     "name": "stdout",
     "output_type": "stream",
     "text": [
      "mult_0_0 may now be readily provable (assuming required theorems are usable).  Simply execute \"%qed\".\n"
     ]
    }
   ],
   "source": [
    "%proving mult_0_0"
   ]
  },
  {
   "cell_type": "code",
   "execution_count": null,
   "metadata": {},
   "outputs": [],
   "source": []
  }
 ],
 "metadata": {
  "kernelspec": {
   "display_name": "Python 3",
   "language": "python",
   "name": "python3"
  }
 },
 "nbformat": 4,
 "nbformat_minor": 0
}