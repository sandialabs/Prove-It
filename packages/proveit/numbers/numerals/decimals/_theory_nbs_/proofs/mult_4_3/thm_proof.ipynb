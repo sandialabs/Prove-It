{
 "cells": [
  {
   "cell_type": "markdown",
   "metadata": {},
   "source": [
    "Proof of <a class=\"ProveItLink\" href=\"../../../../../../_theory_nbs_/theory.ipynb\">proveit</a>.<a class=\"ProveItLink\" href=\"../../../../../_theory_nbs_/theory.ipynb\">numbers</a>.<a class=\"ProveItLink\" href=\"../../../../_theory_nbs_/theory.ipynb\">numerals</a>.<a class=\"ProveItLink\" href=\"../../theory.ipynb\">decimals</a>.<a class=\"ProveItLink\" href=\"../../theorems.ipynb#mult_4_3\">mult_4_3</a> theorem\n",
    "========"
   ]
  },
  {
   "cell_type": "code",
   "execution_count": 1,
   "metadata": {},
   "outputs": [],
   "source": [
    "import proveit\n",
    "theory = proveit.Theory() # the theorem's theory"
   ]
  },
  {
   "cell_type": "code",
   "execution_count": 2,
   "metadata": {},
   "outputs": [
    {
     "data": {
      "text/html": [
       "With these <a href=\"allowed_presumptions.txt\">allowed</a>/<a href=\"disallowed_presumptions.txt\">disallowed</a> theorem/theory presumptions (e.g., to avoid circular dependencies), we begin our proof of<br><strong id=\"mult_4_3\">mult_4_3:</strong> <a class=\"ProveItLink\" href=\"../../../__pv_it/theorems/ddc6f19345973f079725f6bfde247762925e2f900/expr.ipynb\"><img src=\"data:image/png;base64,iVBORw0KGgoAAAANSUhEUgAAAGEAAAAVBAMAAACkm51HAAAAMFBMVEX///8AAAAAAAAAAAAAAAAA\n",
       "AAAAAAAAAAAAAAAAAAAAAAAAAAAAAAAAAAAAAAAAAAAv3aB7AAAAD3RSTlMAInZUiRDNmWbv3US7\n",
       "qzJazP2FAAAACXBIWXMAAA7EAAAOxAGVKw4bAAABd0lEQVQ4y32TPUsDQRCG3/uIuVz0OKwkWOgv\n",
       "MEWwTmErXGejmEawMJBCPAkp0mlpKxIUxEYICXYGhOgf8AMLFUKCjWIhfmBQFM7ZDTnP3HBT7DHz\n",
       "7rMzszcLwEbImFDA1HQ4dhRJZMTy4LvKTKkOtRzaZh2Q5q50gFhO+FVfmYP2DiwNAgtrH8A49G8g\n",
       "Lo5T/4ipdKwLbISLJ+IS2AYSwn3M+8pxHUQkHI7YddC2MS3cbD6gaZ/AUJkj7oB2B6vCs4NEg3br\n",
       "FxxBVgOW6TOGAHHfovsw5H0UD4VVA4T1BuyLovCvKrorbYvPYVLuHTrQ7hGLuZ5IDVovPFGCJEbR\n",
       "I8wCLc/AeRpJPoch2qOqTlqtr+u+4jmC0PbYPjJQbJxJv+KfVZFVGU0uh5WF6mBW+j++sin/Rzw7\n",
       "SOivQMp1i8CTbMi76itJlyYRZn0AGLnt3qDmeTQPZocb6FTEsBsFLroe9T5OmZjSjCLmmdhw5LNV\n",
       "JsKxyYj9v8EZZe7bYl0IAAAAAElFTkSuQmCC\n",
       "\" style=\"display:inline;vertical-align:middle;\" /></a><br>(see <a class=\"ProveItLink\" href=\"../../../__pv_it/theorems/e5ed2801fcf46f78c2cbb298e6a2d8a8fd0f5bcd0/dependencies.ipynb\">dependencies</a>)<br>"
      ],
      "text/plain": [
       "<IPython.core.display.HTML object>"
      ]
     },
     "metadata": {},
     "output_type": "display_data"
    },
    {
     "name": "stdout",
     "output_type": "stream",
     "text": [
      "mult_4_3 may now be readily provable (assuming required theorems are usable).  Simply execute \"%qed\".\n"
     ]
    }
   ],
   "source": [
    "%proving mult_4_3"
   ]
  },
  {
   "cell_type": "code",
   "execution_count": null,
   "metadata": {},
   "outputs": [],
   "source": []
  }
 ],
 "metadata": {
  "kernelspec": {
   "display_name": "Python 3",
   "language": "python",
   "name": "python3"
  }
 },
 "nbformat": 4,
 "nbformat_minor": 0
}