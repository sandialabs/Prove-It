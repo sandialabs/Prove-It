{
 "cells": [
  {
   "cell_type": "markdown",
   "metadata": {},
   "source": [
    "Proof of <a class=\"ProveItLink\" href=\"../../../../../../_theory_nbs_/theory.ipynb\">proveit</a>.<a class=\"ProveItLink\" href=\"../../../../../_theory_nbs_/theory.ipynb\">numbers</a>.<a class=\"ProveItLink\" href=\"../../../../_theory_nbs_/theory.ipynb\">numerals</a>.<a class=\"ProveItLink\" href=\"../../theory.ipynb\">decimals</a>.<a class=\"ProveItLink\" href=\"../../theorems.ipynb#mult_1_6\">mult_1_6</a> theorem\n",
    "========"
   ]
  },
  {
   "cell_type": "code",
   "execution_count": 1,
   "metadata": {},
   "outputs": [],
   "source": [
    "import proveit\n",
    "theory = proveit.Theory() # the theorem's theory"
   ]
  },
  {
   "cell_type": "code",
   "execution_count": 2,
   "metadata": {},
   "outputs": [
    {
     "data": {
      "text/html": [
       "With these <a href=\"allowed_presumptions.txt\">allowed</a>/<a href=\"disallowed_presumptions.txt\">disallowed</a> theorem/theory presumptions (e.g., to avoid circular dependencies), we begin our proof of<br><strong id=\"mult_1_6\">mult_1_6:</strong> <a class=\"ProveItLink\" href=\"../../../__pv_it/theorems/ececa5f6f4181e35bea5242fcc8bcd85d681baf90/expr.ipynb\"><img src=\"data:image/png;base64,iVBORw0KGgoAAAANSUhEUgAAAFcAAAAVBAMAAADBdm84AAAAMFBMVEX///8AAAAAAAAAAAAAAAAA\n",
       "AAAAAAAAAAAAAAAAAAAAAAAAAAAAAAAAAAAAAAAAAAAv3aB7AAAAD3RSTlMAInZUiRDNmWbv3US7\n",
       "qzJazP2FAAAACXBIWXMAAA7EAAAOxAGVKw4bAAABIklEQVQoz2NgYBBgwABYhCCAyQBTbBMuxSZA\n",
       "/CoAwWdx8WNgasBQBhJmYE1gYL2ej1DMmM1wi4EhFV0tRJgdZIg+QjGbAsMZBoZ2dMUQYU4GVMX2\n",
       "YCZnAJpiiLAZmuKTEIPQHQ0RLkFTPO2J+gagdy6gKYYIZ6Ap/tbAMJmBgSMBxK5aBQJrEcKLURWz\n",
       "/mdgqAxgYJ6AajBUeDZCcTzQONZfDAz9Gxj4PqAphggjKeYqANkHFG1g4EYzGSqM5gyGU2AjmBeg\n",
       "uRkifAg9nIGOA3rwAHo4g4V9QUx/RDLjcWAFepvdAU0xRPgVkHV3fi4iEtxrHwCdvwE9viHCD7Al\n",
       "RSnsKZSjAJtoBY70fBCLGOMBHIpjsIjx4MpXjAqYYorYlQIAOatQduorFzkAAAAASUVORK5CYII=\n",
       "\" style=\"display:inline;vertical-align:middle;\" /></a><br>(see <a class=\"ProveItLink\" href=\"../../../__pv_it/theorems/940d7050220fdf3ec095fd87eebbe211522b6b2e0/dependencies.ipynb\">dependencies</a>)<br>"
      ],
      "text/plain": [
       "<IPython.core.display.HTML object>"
      ]
     },
     "metadata": {},
     "output_type": "display_data"
    },
    {
     "name": "stdout",
     "output_type": "stream",
     "text": [
      "mult_1_6 may now be readily provable (assuming required theorems are usable).  Simply execute \"%qed\".\n"
     ]
    }
   ],
   "source": [
    "%proving mult_1_6"
   ]
  },
  {
   "cell_type": "code",
   "execution_count": null,
   "metadata": {},
   "outputs": [],
   "source": []
  }
 ],
 "metadata": {
  "kernelspec": {
   "display_name": "Python 3",
   "language": "python",
   "name": "python3"
  }
 },
 "nbformat": 4,
 "nbformat_minor": 0
}