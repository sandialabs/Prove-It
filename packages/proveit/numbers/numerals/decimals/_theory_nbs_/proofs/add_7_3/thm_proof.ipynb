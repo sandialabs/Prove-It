{
 "cells": [
  {
   "cell_type": "markdown",
   "metadata": {},
   "source": [
    "Proof of <a class=\"ProveItLink\" href=\"../../../../../../_theory_nbs_/theory.ipynb\">proveit</a>.<a class=\"ProveItLink\" href=\"../../../../../_theory_nbs_/theory.ipynb\">numbers</a>.<a class=\"ProveItLink\" href=\"../../../../_theory_nbs_/theory.ipynb\">numerals</a>.<a class=\"ProveItLink\" href=\"../../theory.ipynb\">decimals</a>.<a class=\"ProveItLink\" href=\"../../theorems.ipynb#add_7_3\">add_7_3</a> theorem\n",
    "========"
   ]
  },
  {
   "cell_type": "code",
   "execution_count": 1,
   "metadata": {},
   "outputs": [],
   "source": [
    "import proveit\n",
    "theory = proveit.Theory() # the theorem's theory"
   ]
  },
  {
   "cell_type": "code",
   "execution_count": 2,
   "metadata": {},
   "outputs": [
    {
     "data": {
      "text/html": [
       "With these <a href=\"allowed_presumptions.txt\">allowed</a>/<a href=\"disallowed_presumptions.txt\">disallowed</a> theorem/theory presumptions (e.g., to avoid circular dependencies), we begin our proof of<br><strong id=\"add_7_3\">add_7_3:</strong> <a class=\"ProveItLink\" href=\"../../../__pv_it/theorems/fa41b402857cb34d7356ffb2f18672905a0fb3e50/expr.ipynb\"><img src=\"data:image/png;base64,iVBORw0KGgoAAAANSUhEUgAAAGwAAAAVBAMAAABRZRb3AAAAMFBMVEX///8AAAAAAAAAAAAAAAAA\n",
       "AAAAAAAAAAAAAAAAAAAAAAAAAAAAAAAAAAAAAAAAAAAv3aB7AAAAD3RSTlMAInZUiRDNmWbv3US7\n",
       "qzJazP2FAAAACXBIWXMAAA7EAAAOxAGVKw4bAAABjklEQVQ4y52TPUjDQBTH/20Sm9g27eAiCDq6\n",
       "iKWIoEtLB53UbqIIDbi4iBEKBacsOjkI4iAdWugiUcHNulUXB5duTkrmLkLToA5SL5cKzeXSwTcc\n",
       "99673937uAcgDb5EMEqimcgx1xGfGYUtQOj3+99+48TqCzAbPNwpAmLhEJA0iM+VSsPnlXTkMhgr\n",
       "MpD0ekBMu9hOI2ZAJHnonqM5CNxGSYOsB16bL0KuQ2xBAQQgOTBnB2lVkdKACx6WaENwsEjVdT9G\n",
       "JGcAezwspUO1Uaa1brFY/IosazysRLAv78bkHYOpc+9kPXG3MZNK+w+bzkPtgpZwEsEgM8AS7zUX\n",
       "66HqaivUdmSal6Z56x1QHOCDG2Qe8a6H3TCvqRYSNvAQUhLBpkFKPwyWcii2zMst0YLs4Mkt2yeD\n",
       "KW0a5Cm33WeIabTIQo/BZIP2rRzANsi4NLBloeO27Zyt5H2FfGVcs9Rbbd/AZoE0Z9watmd9A1cP\n",
       "nxv/f20OK+SXh8tjqGdq1Jju/ONCN4Ow2Y+mw6FfZfBiNqp/qrcAAAAASUVORK5CYII=\n",
       "\" style=\"display:inline;vertical-align:middle;\" /></a><br>(see <a class=\"ProveItLink\" href=\"../../../__pv_it/theorems/a8f06aaa8b63b7c80508b9173ae185a4de50ebca0/dependencies.ipynb\">dependencies</a>)<br>"
      ],
      "text/plain": [
       "<IPython.core.display.HTML object>"
      ]
     },
     "metadata": {},
     "output_type": "display_data"
    },
    {
     "name": "stdout",
     "output_type": "stream",
     "text": [
      "add_7_3 may now be readily provable (assuming required theorems are usable).  Simply execute \"%qed\".\n"
     ]
    }
   ],
   "source": [
    "%proving add_7_3"
   ]
  },
  {
   "cell_type": "code",
   "execution_count": null,
   "metadata": {},
   "outputs": [],
   "source": []
  }
 ],
 "metadata": {
  "kernelspec": {
   "display_name": "Python 3",
   "language": "python",
   "name": "python3"
  }
 },
 "nbformat": 4,
 "nbformat_minor": 0
}