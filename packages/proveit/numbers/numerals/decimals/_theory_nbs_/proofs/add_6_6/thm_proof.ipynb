{
 "cells": [
  {
   "cell_type": "markdown",
   "metadata": {},
   "source": [
    "Proof of <a class=\"ProveItLink\" href=\"../../../../../../_theory_nbs_/theory.ipynb\">proveit</a>.<a class=\"ProveItLink\" href=\"../../../../../_theory_nbs_/theory.ipynb\">numbers</a>.<a class=\"ProveItLink\" href=\"../../../../_theory_nbs_/theory.ipynb\">numerals</a>.<a class=\"ProveItLink\" href=\"../../theory.ipynb\">decimals</a>.<a class=\"ProveItLink\" href=\"../../theorems.ipynb#add_6_6\">add_6_6</a> theorem\n",
    "========"
   ]
  },
  {
   "cell_type": "code",
   "execution_count": 1,
   "metadata": {},
   "outputs": [],
   "source": [
    "import proveit\n",
    "theory = proveit.Theory() # the theorem's theory"
   ]
  },
  {
   "cell_type": "code",
   "execution_count": 2,
   "metadata": {},
   "outputs": [
    {
     "data": {
      "text/html": [
       "With these <a href=\"allowed_presumptions.txt\">allowed</a>/<a href=\"disallowed_presumptions.txt\">disallowed</a> theorem/theory presumptions (e.g., to avoid circular dependencies), we begin our proof of<br><strong id=\"add_6_6\">add_6_6:</strong> <a class=\"ProveItLink\" href=\"../../../__pv_it/theorems/1c4afc9b84e106d462297f2bc889d3e72def39850/expr.ipynb\"><img src=\"data:image/png;base64,iVBORw0KGgoAAAANSUhEUgAAAGwAAAAVBAMAAABRZRb3AAAAMFBMVEX///8AAAAAAAAAAAAAAAAA\n",
       "AAAAAAAAAAAAAAAAAAAAAAAAAAAAAAAAAAAAAAAAAAAv3aB7AAAAD3RSTlMAInZUiRDNmWbv3US7\n",
       "qzJazP2FAAAACXBIWXMAAA7EAAAOxAGVKw4bAAABcElEQVQ4y52TPUjDQBiG37TWNDGhcdHFoYvg\n",
       "Ziki6CTSVZpVECxOXfwZigFdOjkpZOkgDgYchEihY92iOIubk+Lg1KV1KAiC8ZIcJZfcZfCDI7nn\n",
       "7rnvfgEY4IeErMhVBA0z5SxthZRa7SNBA7KU7jwwgfnjZ6DQAOZ6usM2h2TaTEiF10MTkod6D3Ib\n",
       "2IPmRQ192iEkxaNUtmUTugHFhgLkxxNcjT6UdHiaMob+hVVAs5MaJU1uNgf6L1qAcrB5ymqUbPE0\n",
       "EuooGLHUhFJhNErOgn/ZDeMlpg3LuAF2R5A7jEbJmiBbF7ginRwUf0jtxHUvXbeLCRnyNdkLtVID\n",
       "xW92khG552sXpJBJajRbbCcjss5dW34Ds3gkX7ISmz23iJxzs30Ci+EmP2Gb3UlKWimtbkC6tSwH\n",
       "A1KZst7Zc6PkLmm9Xe+3Vd/3G1CZu19lHpwjfjfsfe3HK8EtF8aDsGUh65nu/GPAYAWit58zxNIf\n",
       "fIFmmg2LS/cAAAAASUVORK5CYII=\n",
       "\" style=\"display:inline;vertical-align:middle;\" /></a><br>(see <a class=\"ProveItLink\" href=\"../../../__pv_it/theorems/493ee42998780be3c621f359dea20de65b07eda60/dependencies.ipynb\">dependencies</a>)<br>"
      ],
      "text/plain": [
       "<IPython.core.display.HTML object>"
      ]
     },
     "metadata": {},
     "output_type": "display_data"
    },
    {
     "name": "stdout",
     "output_type": "stream",
     "text": [
      "add_6_6 may now be readily provable (assuming required theorems are usable).  Simply execute \"%qed\".\n"
     ]
    }
   ],
   "source": [
    "%proving add_6_6"
   ]
  },
  {
   "cell_type": "code",
   "execution_count": null,
   "metadata": {},
   "outputs": [],
   "source": []
  }
 ],
 "metadata": {
  "kernelspec": {
   "display_name": "Python 3",
   "language": "python",
   "name": "python3"
  }
 },
 "nbformat": 4,
 "nbformat_minor": 0
}