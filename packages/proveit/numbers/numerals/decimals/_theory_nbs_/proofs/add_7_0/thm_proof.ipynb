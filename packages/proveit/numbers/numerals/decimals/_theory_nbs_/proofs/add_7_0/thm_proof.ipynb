{
 "cells": [
  {
   "cell_type": "markdown",
   "metadata": {},
   "source": [
    "Proof of <a class=\"ProveItLink\" href=\"../../../../../../_theory_nbs_/theory.ipynb\">proveit</a>.<a class=\"ProveItLink\" href=\"../../../../../_theory_nbs_/theory.ipynb\">numbers</a>.<a class=\"ProveItLink\" href=\"../../../../_theory_nbs_/theory.ipynb\">numerals</a>.<a class=\"ProveItLink\" href=\"../../theory.ipynb\">decimals</a>.<a class=\"ProveItLink\" href=\"../../theorems.ipynb#add_7_0\">add_7_0</a> theorem\n",
    "========"
   ]
  },
  {
   "cell_type": "code",
   "execution_count": 1,
   "metadata": {},
   "outputs": [],
   "source": [
    "import proveit\n",
    "theory = proveit.Theory() # the theorem's theory"
   ]
  },
  {
   "cell_type": "code",
   "execution_count": 2,
   "metadata": {},
   "outputs": [
    {
     "data": {
      "text/html": [
       "With these <a href=\"allowed_presumptions.txt\">allowed</a>/<a href=\"disallowed_presumptions.txt\">disallowed</a> theorem/theory presumptions (e.g., to avoid circular dependencies), we begin our proof of<br><strong id=\"add_7_0\">add_7_0:</strong> <a class=\"ProveItLink\" href=\"../../../__pv_it/theorems/9aeea628c279284c1c7f51f13a8a2bdb0526b20f0/expr.ipynb\"><img src=\"data:image/png;base64,iVBORw0KGgoAAAANSUhEUgAAAGIAAAAVBAMAAABPrCZEAAAAMFBMVEX///8AAAAAAAAAAAAAAAAA\n",
       "AAAAAAAAAAAAAAAAAAAAAAAAAAAAAAAAAAAAAAAAAAAv3aB7AAAAD3RSTlMAInZUiRDNmWbv3US7\n",
       "qzJazP2FAAAACXBIWXMAAA7EAAAOxAGVKw4bAAABb0lEQVQ4y3WTsUvDQBTGv2uaNk2tdNOKQ52c\n",
       "hKOIazuIk0r+AMEugmOHYqRTFxFdLDiJIIpbUChO3RpdXBS6u3R20aFQHCS+Syokd7nAy733vfzu\n",
       "3t3lASgj/dHpyHB2kpp4UpRFJxzWYQRB8JPMba6WkenKRJ0+7MFsIvvquveJVI6bd8CBTGy7bocj\n",
       "30UWYK1IG0TDOWWBU5loAAtAATCA0kyrRcM7VeCg4EgEB0bARujvJokp8MWRUzaC7BhoC4f5CcIU\n",
       "BFU7UohlskPhlPoJgk2IqMJqiiDvhU9Ef5CFh1SBSjRg9OQlmFCuhbcVxh3Pu/K8R6qKiGEV89/K\n",
       "Npr/xAOUndc5isoatj+ryvyViDfgwoFxK+9jX7xfyIpTiTgDjgDLl9cYioveITMmEmFz84Zmbyg/\n",
       "llA+xRFcSoTZXqOrsvsyUeFiunFcqsWDpfT2sFrxaBAPjjUd9axrNeZrEns6Yk7XtqyqSayky3+D\n",
       "p1Yct8nniwAAAABJRU5ErkJggg==\n",
       "\" style=\"display:inline;vertical-align:middle;\" /></a><br>(see <a class=\"ProveItLink\" href=\"../../../__pv_it/theorems/273887e9252aaf292102f195c0320db607b4bc620/dependencies.ipynb\">dependencies</a>)<br>"
      ],
      "text/plain": [
       "<IPython.core.display.HTML object>"
      ]
     },
     "metadata": {},
     "output_type": "display_data"
    },
    {
     "name": "stdout",
     "output_type": "stream",
     "text": [
      "add_7_0 may now be readily provable (assuming required theorems are usable).  Simply execute \"%qed\".\n"
     ]
    }
   ],
   "source": [
    "%proving add_7_0"
   ]
  },
  {
   "cell_type": "code",
   "execution_count": null,
   "metadata": {},
   "outputs": [],
   "source": []
  }
 ],
 "metadata": {
  "kernelspec": {
   "display_name": "Python 3",
   "language": "python",
   "name": "python3"
  }
 },
 "nbformat": 4,
 "nbformat_minor": 0
}