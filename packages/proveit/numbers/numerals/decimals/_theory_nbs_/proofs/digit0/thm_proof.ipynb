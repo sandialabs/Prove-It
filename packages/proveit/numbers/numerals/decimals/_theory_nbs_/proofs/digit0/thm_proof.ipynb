{
 "cells": [
  {
   "cell_type": "markdown",
   "metadata": {},
   "source": [
    "Proof of <a class=\"ProveItLink\" href=\"../../../../../../_theory_nbs_/theory.ipynb\">proveit</a>.<a class=\"ProveItLink\" href=\"../../../../../_theory_nbs_/theory.ipynb\">numbers</a>.<a class=\"ProveItLink\" href=\"../../../../_theory_nbs_/theory.ipynb\">numerals</a>.<a class=\"ProveItLink\" href=\"../../theory.ipynb\">decimals</a>.<a class=\"ProveItLink\" href=\"../../theorems.ipynb#digit0\">digit0</a> theorem\n",
    "========"
   ]
  },
  {
   "cell_type": "code",
   "execution_count": 1,
   "metadata": {},
   "outputs": [],
   "source": [
    "import proveit\n",
    "theory = proveit.Theory() # the theorem's theory"
   ]
  },
  {
   "cell_type": "code",
   "execution_count": 2,
   "metadata": {},
   "outputs": [
    {
     "data": {
      "text/html": [
       "With these <a href=\"allowed_presumptions.txt\">allowed</a>/<a href=\"disallowed_presumptions.txt\">disallowed</a> theorem/theory presumptions (e.g., to avoid circular dependencies), we begin our proof of<br><strong id=\"digit0\">digit0:</strong> <a class=\"ProveItLink\" href=\"../../../__pv_it/theorems/29e2b8f9bcdae0296ae9b94eb5d5c991bd3e715b0/expr.ipynb\"><img src=\"data:image/png;base64,iVBORw0KGgoAAAANSUhEUgAAAEgAAAAUBAMAAADcj2b4AAAAMFBMVEX///8AAAAAAAAAAAAAAAAA\n",
       "AAAAAAAAAAAAAAAAAAAAAAAAAAAAAAAAAAAAAAAAAAAv3aB7AAAAD3RSTlMAiXaZIs1UEN1mu6sy\n",
       "RO+L2jdBAAAACXBIWXMAAA7EAAAOxAGVKw4bAAABXElEQVQoz4WSv0vDQBTHv7VtjqR3NnRTRFpH\n",
       "cXDwD8ji3CDSOXOngCAVwWZRg1Nx0ykO/kAcAhYVdQiIi4Nkc83oqCKVChbvklYTW+KDy7179+F7\n",
       "33s5IDXqGioV/MOUUVAlN5XZbwFFj3ykMbMG/1Q1fI3Ya3wempju+Y+CwbhPu0CmtPCHOmIuyAuk\n",
       "A5Mv2PFaB6ihoSWhK20CCPh+SK1675AtZJwkdOHkNVg8oecaqMksKC6kyP7Yib0ZJu3dnB5CyN2Y\n",
       "SivvoTgP2hEFtmT2ldoFrxJByIHtTQFNDnXFenHAoA1H8a24gaoK+iaSZfxCd2R7CHoViR6DZKMe\n",
       "4OGUR3TxpgomlOizbds7fQiXhSCuxI1LwjhxYkpYJ4njFAdy2AIrDtFyondygGxoZ+andMbHXLLB\n",
       "W9jwxJw3BpUaH1k9Aa2UbsOZXD9FhfseVyH66OfDJvu/ZSi+AT47WRHir65EAAAAAElFTkSuQmCC\n",
       "\" style=\"display:inline;vertical-align:middle;\" /></a><br>(see <a class=\"ProveItLink\" href=\"../../../__pv_it/theorems/8f11feba57259d9f0c7790eb53a8b4723735921e0/dependencies.ipynb\">dependencies</a>)<br>"
      ],
      "text/plain": [
       "<IPython.core.display.HTML object>"
      ]
     },
     "metadata": {},
     "output_type": "display_data"
    }
   ],
   "source": [
    "%proving digit0"
   ]
  },
  {
   "cell_type": "code",
   "execution_count": null,
   "metadata": {},
   "outputs": [],
   "source": []
  }
 ],
 "metadata": {
  "kernelspec": {
   "display_name": "Python 3",
   "language": "python",
   "name": "python3"
  }
 },
 "nbformat": 4,
 "nbformat_minor": 0
}