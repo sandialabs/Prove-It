{
 "cells": [
  {
   "cell_type": "markdown",
   "metadata": {},
   "source": [
    "Proof of <a class=\"ProveItLink\" href=\"../../../../../../_theory_nbs_/theory.ipynb\">proveit</a>.<a class=\"ProveItLink\" href=\"../../../../../_theory_nbs_/theory.ipynb\">numbers</a>.<a class=\"ProveItLink\" href=\"../../../../_theory_nbs_/theory.ipynb\">numerals</a>.<a class=\"ProveItLink\" href=\"../../theory.ipynb\">decimals</a>.<a class=\"ProveItLink\" href=\"../../theorems.ipynb#mult_7_8\">mult_7_8</a> theorem\n",
    "========"
   ]
  },
  {
   "cell_type": "code",
   "execution_count": 1,
   "metadata": {},
   "outputs": [],
   "source": [
    "import proveit\n",
    "theory = proveit.Theory() # the theorem's theory"
   ]
  },
  {
   "cell_type": "code",
   "execution_count": 2,
   "metadata": {},
   "outputs": [
    {
     "data": {
      "text/html": [
       "With these <a href=\"allowed_presumptions.txt\">allowed</a>/<a href=\"disallowed_presumptions.txt\">disallowed</a> theorem/theory presumptions (e.g., to avoid circular dependencies), we begin our proof of<br><strong id=\"mult_7_8\">mult_7_8:</strong> <a class=\"ProveItLink\" href=\"../../../__pv_it/theorems/331cdd389292d3448ecc54b7f33e7e65247ea1fe0/expr.ipynb\"><img src=\"data:image/png;base64,iVBORw0KGgoAAAANSUhEUgAAAGEAAAAVBAMAAACkm51HAAAAMFBMVEX///8AAAAAAAAAAAAAAAAA\n",
       "AAAAAAAAAAAAAAAAAAAAAAAAAAAAAAAAAAAAAAAAAAAv3aB7AAAAD3RSTlMAInZUiRDNmWbv3US7\n",
       "qzJazP2FAAAACXBIWXMAAA7EAAAOxAGVKw4bAAABoklEQVQ4y31TMUjDUBB9aRqttkoXEV3UybWD\n",
       "uLaC2KklLk6CXQTRxUFIFaShIHVTKXVQQUFdRCE4OFdBxSIoOAguZnByEpRKKxLv/5qm/ITc8Ll7\n",
       "d+8ud5cDEIVLPKAWCcSkNRE7d0V1A5O2PgLZsqyabSrjSQMBXWR0VOePgeB4miIyCN5q2qHtagee\n",
       "gFmR0bl/pEJawAtF6AgC0qLtWgemgILI6GJP2yDuqRwg/wNcUpzRoXox4hwd5UC66YpfI0vZdC/G\n",
       "HVeX2COVHZc1HKMWH0VGPmVi+23YAOa4bTi+XJ22EcowdeWEyRlTI6r0g6qOIsCH1OcQ5LGHT3o3\n",
       "3YurKBawrGKXGRMcmmGJC5BrKro/3IxcTx3YMBqM08bM2YhLwEAMYbHGDTHMKjF0/lXKb9OjUPIu\n",
       "HfKB0McO8IoKr3FFZvjbSbZFXUYRKgs1EsAe4tQH3xjkL8d1oSJPf0JCYPQiUEIkodCs3tk6ii0/\n",
       "6bNGo+40BIakPdPCk6sm+UyvE+j3OY/Qohea9buoSw9MKvsxpj2wiO/ZSoNubMgn/g8vj2G4StDC\n",
       "5QAAAABJRU5ErkJggg==\n",
       "\" style=\"display:inline;vertical-align:middle;\" /></a><br>(see <a class=\"ProveItLink\" href=\"../../../__pv_it/theorems/2a1ec472c9b5203679ee7638ea9c02f9577343120/dependencies.ipynb\">dependencies</a>)<br>"
      ],
      "text/plain": [
       "<IPython.core.display.HTML object>"
      ]
     },
     "metadata": {},
     "output_type": "display_data"
    },
    {
     "name": "stdout",
     "output_type": "stream",
     "text": [
      "mult_7_8 may now be readily provable (assuming required theorems are usable).  Simply execute \"%qed\".\n"
     ]
    }
   ],
   "source": [
    "%proving mult_7_8"
   ]
  },
  {
   "cell_type": "code",
   "execution_count": null,
   "metadata": {},
   "outputs": [],
   "source": []
  }
 ],
 "metadata": {
  "kernelspec": {
   "display_name": "Python 3",
   "language": "python",
   "name": "python3"
  }
 },
 "nbformat": 4,
 "nbformat_minor": 0
}