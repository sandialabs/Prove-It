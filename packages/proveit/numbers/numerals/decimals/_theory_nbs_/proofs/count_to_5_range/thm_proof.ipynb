{
 "cells": [
  {
   "cell_type": "markdown",
   "metadata": {},
   "source": [
    "Proof of <a class=\"ProveItLink\" href=\"../../../../../../_theory_nbs_/theory.ipynb\">proveit</a>.<a class=\"ProveItLink\" href=\"../../../../../_theory_nbs_/theory.ipynb\">numbers</a>.<a class=\"ProveItLink\" href=\"../../../../_theory_nbs_/theory.ipynb\">numerals</a>.<a class=\"ProveItLink\" href=\"../../theory.ipynb\">decimals</a>.<a class=\"ProveItLink\" href=\"../../theorems.ipynb#count_to_5_range\">count_to_5_range</a> theorem\n",
    "========"
   ]
  },
  {
   "cell_type": "code",
   "execution_count": 1,
   "metadata": {},
   "outputs": [],
   "source": [
    "import proveit\n",
    "theory = proveit.Theory() # the theorem's theory"
   ]
  },
  {
   "cell_type": "code",
   "execution_count": 2,
   "metadata": {},
   "outputs": [
    {
     "data": {
      "text/html": [
       "With these <a href=\"allowed_presumptions.txt\">allowed</a>/<a href=\"disallowed_presumptions.txt\">disallowed</a> theorem/theory presumptions (e.g., to avoid circular dependencies), we begin our proof of<br><strong id=\"count_to_5_range\">count_to_5_range:</strong> <a class=\"ProveItLink\" href=\"../../../__pv_it/theorems/611d65ec8db9035947d0d1bcb05a6368e623a0160/expr.ipynb\"><img src=\"data:image/png;base64,iVBORw0KGgoAAAANSUhEUgAAAOcAAAAVBAMAAABPgOQBAAAAMFBMVEX///8AAAAAAAAAAAAAAAAA\n",
       "AAAAAAAAAAAAAAAAAAAAAAAAAAAAAAAAAAAAAAAAAAAv3aB7AAAAD3RSTlMAInZUiRDNmWbv3US7\n",
       "qzJazP2FAAAACXBIWXMAAA7EAAAOxAGVKw4bAAACqElEQVRIx5WWP2gTURzHf5fcJb1LLj1dCk5X\n",
       "xMWlGdQ5g2vpmUEXxSyCCGIGaYoIRgfrUsjiYi0JaCkUIsFNp+jg4GCzVYfQIE4d/IMkCKLxvXfv\n",
       "vXv/UrwfJPe93/3y+d77vT8EAAJIE6ZqKzUgU/7f8hLABXhpeHAyNeAM+hxGNL2w+oG+/Pm7PV5b\n",
       "j6/u5MY2ZJoaK1tBNdsqwRAc4NTA2b9FTa0+rMRelyD7k9V6A3ptP0d11zTWRYArq2OVYAgOyOM3\n",
       "X6KmfgBui6ilsjNhtaepqU++1zXWGp6ksUowBAe4IJi6Y/B/EPWqB8y09FAydSOV1RJME8JMUwQ4\n",
       "J5r6HfD/spn6RYWdk0xz6qRma+JIBcIMUwS4LZrivn+n4jWDL3LTB8sj9A4DBZWvCKYiQTdlgOuK\n",
       "6bcwvn4ejujSaDLTYmT9BpjDA4M7uzi6fOiCKSPowQHPFNMu7xpdvTbkkrG9R3l1nXhl2bR71FaN\n",
       "AZuyab7Pn7fj5H3R9F4AJbV7bk8yFQiGiAGK6Qa9fgXYI0eVFXLTd+g3Iyi0jjbdmO3IAXJ70eFy\n",
       "jIhpRE0Lw+HBVoXkngAcoJKOMqdyeznBEBzwlpkS3y8Ap4jawu116FAGQBSyforWgdq+YkhNHYmg\n",
       "RCQClnFmJQByAFk7jUaHqEd4n14lCxXm+7FagMxjukPEIHvIRicCLkoI5AunkjsOOEQ3w/bNJuyi\n",
       "d/Gm02mNqEIDHfgeOcXze39CoqzGPq5Rj9YS6rf/afKRlCcE2MGtr1NBUhzgjdhk8J4k6izo6oTW\n",
       "uRdaUVbvb5JCgLk661LSL64qBrWm8da1IlufU1sCvKG6yrNcOaGuLH0bFgO1qKqbViXAZXqTHF5c\n",
       "ZUBXRf3/itNXiwwHYSgBrDDVf6RFQ+54SsA/bDzMgdSfOE4AAAAASUVORK5CYII=\n",
       "\" style=\"display:inline;vertical-align:middle;\" /></a><br>(see <a class=\"ProveItLink\" href=\"../../../__pv_it/theorems/91e415d80a093d7c8a47926a579352bd8aed56d20/dependencies.ipynb\">dependencies</a>)<br>"
      ],
      "text/plain": [
       "<IPython.core.display.HTML object>"
      ]
     },
     "metadata": {},
     "output_type": "display_data"
    }
   ],
   "source": [
    "%proving count_to_5_range"
   ]
  },
  {
   "cell_type": "code",
   "execution_count": null,
   "metadata": {},
   "outputs": [],
   "source": []
  }
 ],
 "metadata": {
  "kernelspec": {
   "display_name": "Python 3",
   "language": "python",
   "name": "python3"
  }
 },
 "nbformat": 4,
 "nbformat_minor": 0
}