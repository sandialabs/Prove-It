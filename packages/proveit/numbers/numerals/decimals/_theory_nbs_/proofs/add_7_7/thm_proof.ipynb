{
 "cells": [
  {
   "cell_type": "markdown",
   "metadata": {},
   "source": [
    "Proof of <a class=\"ProveItLink\" href=\"../../../../../../_theory_nbs_/theory.ipynb\">proveit</a>.<a class=\"ProveItLink\" href=\"../../../../../_theory_nbs_/theory.ipynb\">numbers</a>.<a class=\"ProveItLink\" href=\"../../../../_theory_nbs_/theory.ipynb\">numerals</a>.<a class=\"ProveItLink\" href=\"../../theory.ipynb\">decimals</a>.<a class=\"ProveItLink\" href=\"../../theorems.ipynb#add_7_7\">add_7_7</a> theorem\n",
    "========"
   ]
  },
  {
   "cell_type": "code",
   "execution_count": 1,
   "metadata": {},
   "outputs": [],
   "source": [
    "import proveit\n",
    "theory = proveit.Theory() # the theorem's theory"
   ]
  },
  {
   "cell_type": "code",
   "execution_count": 2,
   "metadata": {},
   "outputs": [
    {
     "data": {
      "text/html": [
       "With these <a href=\"allowed_presumptions.txt\">allowed</a>/<a href=\"disallowed_presumptions.txt\">disallowed</a> theorem/theory presumptions (e.g., to avoid circular dependencies), we begin our proof of<br><strong id=\"add_7_7\">add_7_7:</strong> <a class=\"ProveItLink\" href=\"../../../__pv_it/theorems/405d01ad469942b77e8a56352a5b95530826fc5b0/expr.ipynb\"><img src=\"data:image/png;base64,iVBORw0KGgoAAAANSUhEUgAAAGwAAAAVBAMAAABRZRb3AAAAMFBMVEX///8AAAAAAAAAAAAAAAAA\n",
       "AAAAAAAAAAAAAAAAAAAAAAAAAAAAAAAAAAAAAAAAAAAv3aB7AAAAD3RSTlMAInZUiRDNmWbv3US7\n",
       "qzJazP2FAAAACXBIWXMAAA7EAAAOxAGVKw4bAAABT0lEQVQ4y2NgYBBgwA4YGfABJgPGVgwdIBFu\n",
       "BXzaTBiY/////xNFDCKigan4VQCIfM7AwJrAwHK8vHwxiixEhC0ATRPr9Xyw0FoGBvYGBhagqwog\n",
       "Ejug2sAiHAUYtumDtDEBtXECncTAwAsVNoI6EiIyFbu2F7kMDGZgrh+qNqhIBnZtDkBtJeCQO4Cu\n",
       "DSzii1Ubk0Au1ETeDejawCJtIBb7KjC4ANcmwQDUBg5CSQZ0bWARS6y2OYC0zQbx3MBiVatWzVy1\n",
       "ai0DXOQ9Nm0cAnBtazBsA4vsxKZNiAHmSNa/6NogIlbY/Lb37t2fVxgOgVLfd3RtEJEe7BHAMBcS\n",
       "yMxf0LVBREowtPmDs8sfYOIERdJkdG0QkdXouu7Oz21gYKj5f4mB6wGyuBFK9lmAO9+gptcdyBxg\n",
       "KscNDuKUkcGXTWPIMBDkA1x5n0kAtyYAUVBZSaJPAv8AAAAASUVORK5CYII=\n",
       "\" style=\"display:inline;vertical-align:middle;\" /></a><br>(see <a class=\"ProveItLink\" href=\"../../../__pv_it/theorems/80c57d59b1b704a4fb3759c5fb8f03ad5dc8c03d0/dependencies.ipynb\">dependencies</a>)<br>"
      ],
      "text/plain": [
       "<IPython.core.display.HTML object>"
      ]
     },
     "metadata": {},
     "output_type": "display_data"
    },
    {
     "name": "stdout",
     "output_type": "stream",
     "text": [
      "add_7_7 may now be readily provable (assuming required theorems are usable).  Simply execute \"%qed\".\n"
     ]
    }
   ],
   "source": [
    "%proving add_7_7"
   ]
  },
  {
   "cell_type": "code",
   "execution_count": null,
   "metadata": {},
   "outputs": [],
   "source": []
  }
 ],
 "metadata": {
  "kernelspec": {
   "display_name": "Python 3",
   "language": "python",
   "name": "python3"
  }
 },
 "nbformat": 4,
 "nbformat_minor": 0
}