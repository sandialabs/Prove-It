{
 "cells": [
  {
   "cell_type": "markdown",
   "metadata": {},
   "source": [
    "Proof of <a class=\"ProveItLink\" href=\"../../../../../../_theory_nbs_/theory.ipynb\">proveit</a>.<a class=\"ProveItLink\" href=\"../../../../../_theory_nbs_/theory.ipynb\">numbers</a>.<a class=\"ProveItLink\" href=\"../../../../_theory_nbs_/theory.ipynb\">numerals</a>.<a class=\"ProveItLink\" href=\"../../theory.ipynb\">decimals</a>.<a class=\"ProveItLink\" href=\"../../theorems.ipynb#add_3_1\">add_3_1</a> theorem\n",
    "========"
   ]
  },
  {
   "cell_type": "code",
   "execution_count": 1,
   "metadata": {},
   "outputs": [],
   "source": [
    "import proveit\n",
    "theory = proveit.Theory() # the theorem's theory"
   ]
  },
  {
   "cell_type": "code",
   "execution_count": 2,
   "metadata": {},
   "outputs": [
    {
     "data": {
      "text/html": [
       "With these <a href=\"allowed_presumptions.txt\">allowed</a>/<a href=\"disallowed_presumptions.txt\">disallowed</a> theorem/theory presumptions (e.g., to avoid circular dependencies), we begin our proof of<br><strong id=\"add_3_1\">add_3_1:</strong> <a class=\"ProveItLink\" href=\"../../../__pv_it/theorems/e527e70e7c6b3b4f50652871d571f5b978836f3d0/expr.ipynb\"><img src=\"data:image/png;base64,iVBORw0KGgoAAAANSUhEUgAAAGEAAAAVBAMAAACkm51HAAAAMFBMVEX///8AAAAAAAAAAAAAAAAA\n",
       "AAAAAAAAAAAAAAAAAAAAAAAAAAAAAAAAAAAAAAAAAAAv3aB7AAAAD3RSTlMAInZUiRDNmWbv3US7\n",
       "qzJazP2FAAAACXBIWXMAAA7EAAAOxAGVKw4bAAABR0lEQVQ4y2NgYBBgwA5wiTMwGeCQ2IRLhwkD\n",
       "g4j7aTRBvqVAoxowFfMVMDCwJjCwFjDYo1oUW/YVSKZi6uC6wMDA3sDA9JkhPgEisgPmVJCOdkwd\n",
       "WkAdnAwM3LMZ+KE6jJB1cAZgOKoNqMMMzLRvwKKDDcMjLGxAHSUgFvcKBiw6WC6g61AE6cgAWaZ7\n",
       "D5sODrBT2VeBAUg3YwNIx2KIqwyw6GCegO4oBpCO2WA2J0hF1apVM1etWgvXwfcBTUcjTAffAwae\n",
       "z1js4Eazg1GBAeoq/q/YdTAvQPUH99279+c6MBwCOukCxFUYPj+AEYNApQy+QJkGjPhg+Qgy3QFD\n",
       "Bz/QkFdAenv5adTQ5b357QYwEW1A18B+/q8CA9cDZCEjZI4U9sTOUYDM24HMqcCRPw7iyjiMB3BI\n",
       "xODSwYMr2wLjBTtQxC4MACvjWGiL35q+AAAAAElFTkSuQmCC\n",
       "\" style=\"display:inline;vertical-align:middle;\" /></a><br>(see <a class=\"ProveItLink\" href=\"../../../__pv_it/theorems/1bddec21c1a2004beed809987ffae545623cf1f10/dependencies.ipynb\">dependencies</a>)<br>"
      ],
      "text/plain": [
       "<IPython.core.display.HTML object>"
      ]
     },
     "metadata": {},
     "output_type": "display_data"
    },
    {
     "name": "stdout",
     "output_type": "stream",
     "text": [
      "add_3_1 may now be readily provable (assuming required theorems are usable).  Simply execute \"%qed\".\n"
     ]
    }
   ],
   "source": [
    "%proving add_3_1"
   ]
  },
  {
   "cell_type": "code",
   "execution_count": null,
   "metadata": {},
   "outputs": [],
   "source": []
  }
 ],
 "metadata": {
  "kernelspec": {
   "display_name": "Python 3",
   "language": "python",
   "name": "python3"
  }
 },
 "nbformat": 4,
 "nbformat_minor": 0
}