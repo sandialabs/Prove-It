{
 "cells": [
  {
   "cell_type": "markdown",
   "metadata": {},
   "source": [
    "Proof of <a class=\"ProveItLink\" href=\"../../../../../../_theory_nbs_/theory.ipynb\">proveit</a>.<a class=\"ProveItLink\" href=\"../../../../../_theory_nbs_/theory.ipynb\">numbers</a>.<a class=\"ProveItLink\" href=\"../../../../_theory_nbs_/theory.ipynb\">numerals</a>.<a class=\"ProveItLink\" href=\"../../theory.ipynb\">decimals</a>.<a class=\"ProveItLink\" href=\"../../theorems.ipynb#mult_0_9\">mult_0_9</a> theorem\n",
    "========"
   ]
  },
  {
   "cell_type": "code",
   "execution_count": 1,
   "metadata": {},
   "outputs": [],
   "source": [
    "import proveit\n",
    "theory = proveit.Theory() # the theorem's theory"
   ]
  },
  {
   "cell_type": "code",
   "execution_count": 2,
   "metadata": {},
   "outputs": [
    {
     "data": {
      "text/html": [
       "With these <a href=\"allowed_presumptions.txt\">allowed</a>/<a href=\"disallowed_presumptions.txt\">disallowed</a> theorem/theory presumptions (e.g., to avoid circular dependencies), we begin our proof of<br><strong id=\"mult_0_9\">mult_0_9:</strong> <a class=\"ProveItLink\" href=\"../../../__pv_it/theorems/865ccd3685898ac06b7b3db780d8f92b97e4b8940/expr.ipynb\"><img src=\"data:image/png;base64,iVBORw0KGgoAAAANSUhEUgAAAFcAAAAVBAMAAADBdm84AAAAMFBMVEX///8AAAAAAAAAAAAAAAAA\n",
       "AAAAAAAAAAAAAAAAAAAAAAAAAAAAAAAAAAAAAAAAAAAv3aB7AAAAD3RSTlMAInZUiRDNmWbv3US7\n",
       "qzJazP2FAAAACXBIWXMAAA7EAAAOxAGVKw4bAAABd0lEQVQoz3WTPUvDUBRATz/Sph9EZxfjJAjS\n",
       "DCI4NVTBRTGbtAgtiOBYpagoQjfRxToLUukmCMU/YHVW7OqinV0UbdVBxPesqW2Svunm3MN9915e\n",
       "gEFcxwO1j99ws4t+8gQEU2v/35u7Fv6iS5sZFdcpOVgm07k4o2tHsOJ0Q4ZyCuEiaplgzab3cAN7\n",
       "TvkA5iAC8TqBlk3fYcEiYjnkW0haTMJAHu3tDypfkKgScjb9Ac8GBcgK+bO7cpFgvddVpFxkFYZN\n",
       "tNeunu901JyMt8/kOReRrylknUpbbtpyuqo9GgRKvZV/ZZNj0YZJTFbOynLK+nSigfbiaEPIl7qU\n",
       "xYABOWA0386IbcRK7gGThmwjXkNtdSXEngPl3p4lO7S4BrVEOGebU5byLVDNUXkfNmBeRBXSDZuO\n",
       "WXGx47DpkKOGcgJPIlpMPXRocHZH5qoOWSmMi3rRhtdTHPJ+oWrei271ec9XHsxX6yMvebB4v//K\n",
       "p7vZiLf6AzjNWmnrSCLWAAAAAElFTkSuQmCC\n",
       "\" style=\"display:inline;vertical-align:middle;\" /></a><br>(see <a class=\"ProveItLink\" href=\"../../../__pv_it/theorems/5416e108199eb3900e8e51a21588987b2d2efac40/dependencies.ipynb\">dependencies</a>)<br>"
      ],
      "text/plain": [
       "<IPython.core.display.HTML object>"
      ]
     },
     "metadata": {},
     "output_type": "display_data"
    },
    {
     "name": "stdout",
     "output_type": "stream",
     "text": [
      "mult_0_9 may now be readily provable (assuming required theorems are usable).  Simply execute \"%qed\".\n"
     ]
    }
   ],
   "source": [
    "%proving mult_0_9"
   ]
  },
  {
   "cell_type": "code",
   "execution_count": null,
   "metadata": {},
   "outputs": [],
   "source": []
  }
 ],
 "metadata": {
  "kernelspec": {
   "display_name": "Python 3",
   "language": "python",
   "name": "python3"
  }
 },
 "nbformat": 4,
 "nbformat_minor": 0
}