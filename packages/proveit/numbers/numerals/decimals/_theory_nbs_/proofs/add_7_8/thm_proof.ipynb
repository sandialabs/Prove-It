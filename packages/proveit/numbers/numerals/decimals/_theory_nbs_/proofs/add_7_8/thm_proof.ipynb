{
 "cells": [
  {
   "cell_type": "markdown",
   "metadata": {},
   "source": [
    "Proof of <a class=\"ProveItLink\" href=\"../../../../../../_theory_nbs_/theory.ipynb\">proveit</a>.<a class=\"ProveItLink\" href=\"../../../../../_theory_nbs_/theory.ipynb\">numbers</a>.<a class=\"ProveItLink\" href=\"../../../../_theory_nbs_/theory.ipynb\">numerals</a>.<a class=\"ProveItLink\" href=\"../../theory.ipynb\">decimals</a>.<a class=\"ProveItLink\" href=\"../../theorems.ipynb#add_7_8\">add_7_8</a> theorem\n",
    "========"
   ]
  },
  {
   "cell_type": "code",
   "execution_count": 1,
   "metadata": {},
   "outputs": [],
   "source": [
    "import proveit\n",
    "theory = proveit.Theory() # the theorem's theory"
   ]
  },
  {
   "cell_type": "code",
   "execution_count": 2,
   "metadata": {},
   "outputs": [
    {
     "data": {
      "text/html": [
       "With these <a href=\"allowed_presumptions.txt\">allowed</a>/<a href=\"disallowed_presumptions.txt\">disallowed</a> theorem/theory presumptions (e.g., to avoid circular dependencies), we begin our proof of<br><strong id=\"add_7_8\">add_7_8:</strong> <a class=\"ProveItLink\" href=\"../../../__pv_it/theorems/69d0f6639b41abbc96cb2977f7a8673c6ed4d3580/expr.ipynb\"><img src=\"data:image/png;base64,iVBORw0KGgoAAAANSUhEUgAAAGwAAAAVBAMAAABRZRb3AAAAMFBMVEX///8AAAAAAAAAAAAAAAAA\n",
       "AAAAAAAAAAAAAAAAAAAAAAAAAAAAAAAAAAAAAAAAAAAv3aB7AAAAD3RSTlMAInZUiRDNmWbv3US7\n",
       "qzJazP2FAAAACXBIWXMAAA7EAAAOxAGVKw4bAAABjElEQVQ4y52UPUgDMRTH//V6Xs/2oJsIBTs4\n",
       "6GQpRdDFpbqpNzgKdlFcxAOVgiJ00clNHMShFSdPhY51awVx7WYXtXNB/ARR1DPJFWnSpIMPLh/v\n",
       "8ctLXv45AFHILYBO1pUIbEsD4bgcqEMnmVLQPM/74EOz6U1gsB1p2EB+0bWhZxC8zmaP+bADK4Fu\n",
       "W4D0mxXiOvmcAIwcguQcjh8o+V0oR5cLOW3ZhglWpQMT0ACr6U76XbBKMeyrsRE2neYx7csmu8CS\n",
       "GltjtS7zGO5fVkk7JcVqA3fNFa2igBneEWl32NBlVv3DrtBfBCthHwQsFfMSwKg0GxAp4JD2k8y3\n",
       "4boHrntOK+lgnNTjUYEZzz52JmQzbQRegQsZFsnA+GGb1L8FbJ58NWBMdjazAOsJl1R972I2IroK\n",
       "sCvLRsRhllmRtTcBCy8gFG9eDmczUSqoIRsNem17YiUfskTKOBWp2/xyDr1b60BPvdWf5B5cQf3c\n",
       "eL2WWidUX0qrKCOxTq977h8L0hPEVX+LqBr6BSV0YNtTUQNfAAAAAElFTkSuQmCC\n",
       "\" style=\"display:inline;vertical-align:middle;\" /></a><br>(see <a class=\"ProveItLink\" href=\"../../../__pv_it/theorems/f7dce0165d6632e85ff2ab89260f8272fd0c290d0/dependencies.ipynb\">dependencies</a>)<br>"
      ],
      "text/plain": [
       "<IPython.core.display.HTML object>"
      ]
     },
     "metadata": {},
     "output_type": "display_data"
    },
    {
     "name": "stdout",
     "output_type": "stream",
     "text": [
      "add_7_8 may now be readily provable (assuming required theorems are usable).  Simply execute \"%qed\".\n"
     ]
    }
   ],
   "source": [
    "%proving add_7_8"
   ]
  },
  {
   "cell_type": "code",
   "execution_count": null,
   "metadata": {},
   "outputs": [],
   "source": []
  }
 ],
 "metadata": {
  "kernelspec": {
   "display_name": "Python 3",
   "language": "python",
   "name": "python3"
  }
 },
 "nbformat": 4,
 "nbformat_minor": 0
}