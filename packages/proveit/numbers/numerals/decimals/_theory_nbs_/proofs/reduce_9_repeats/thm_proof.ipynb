{
 "cells": [
  {
   "cell_type": "markdown",
   "metadata": {},
   "source": [
    "Proof of <a class=\"ProveItLink\" href=\"../../../../../../_theory_nbs_/theory.ipynb\">proveit</a>.<a class=\"ProveItLink\" href=\"../../../../../_theory_nbs_/theory.ipynb\">numbers</a>.<a class=\"ProveItLink\" href=\"../../../../_theory_nbs_/theory.ipynb\">numerals</a>.<a class=\"ProveItLink\" href=\"../../theory.ipynb\">decimals</a>.<a class=\"ProveItLink\" href=\"../../theorems.ipynb#reduce_9_repeats\">reduce_9_repeats</a> theorem\n",
    "========"
   ]
  },
  {
   "cell_type": "code",
   "execution_count": 1,
   "metadata": {},
   "outputs": [],
   "source": [
    "import proveit\n",
    "theory = proveit.Theory() # the theorem's theory"
   ]
  },
  {
   "cell_type": "code",
   "execution_count": 2,
   "metadata": {},
   "outputs": [
    {
     "data": {
      "text/html": [
       "With these <a href=\"allowed_presumptions.txt\">allowed</a>/<a href=\"disallowed_presumptions.txt\">disallowed</a> theorem/theory presumptions (e.g., to avoid circular dependencies), we begin our proof of<br><strong id=\"reduce_9_repeats\">reduce_9_repeats:</strong> <a class=\"ProveItLink\" href=\"../../../__pv_it/theorems/ee85f8295c97b7dc84fd19aa3bac74aef9ad89860/expr.ipynb\"><img src=\"data:image/png;base64,iVBORw0KGgoAAAANSUhEUgAAAZkAAAAVBAMAAABmjo7qAAAAMFBMVEX///8AAAAAAAAAAAAAAAAA\n",
       "AAAAAAAAAAAAAAAAAAAAAAAAAAAAAAAAAAAAAAAAAAAv3aB7AAAAD3RSTlMAq1RmmUTNIjK7EInv\n",
       "3XZ/CtNrAAAACXBIWXMAAA7EAAAOxAGVKw4bAAADEklEQVRYw7VXzWsTQRR/2U2yyW4TCh78QCWg\n",
       "eNBDgxS82UjxA2wl+AfUgIjgab0IQlPiSbAIuYgoWnIoYj3UWDwIBQkFvYgSi4cgBLZSKXgInloR\n",
       "ROfNzHZ3Jvsh7O5jf9nd38x7v7ydN7OzAMOmcUQw8z+5uMz0j/+NI4LNDFPFUoLZzHCM4s0Rd4vS\n",
       "ZggwY/VNcPRieYg6kWAyVA9xFm+uu1uecfibdg0OhYS/IRN6LclsqB7BHfx3TXfDJIe/ZS14FBJ9\n",
       "XCbS5USzGWfItkjhCCXd4fC3sVZo9BG5y0iiyVA9ApU8s6wwbWoMAfaEn/cS3PYZPnkojiWbDeoh\n",
       "Pvb7H4SSaDPogwPzK4xa3ni+6h6+9/ObVTzXG6D15PnB3IxRib8IPiHjIVEPcQHgsVeWadiwphlV\n",
       "KR5Od11dtsuwRleDHiYkzQ/mptLRne6jfcbLq+ATMh4S9RA3QROeY6HEcAomWnsoo5rq75SrcvS/\n",
       "AFN0XtTvykNjuynyzFsHn5DxkKiHyLeMqjCfqgwNOMeZHKSFeaT/AZigPlpfHhrbLfdT4t+BT8h4\n",
       "SNRDKFYWvLIB+ORwltBlm2RT9smGu2U6Htn4hIyDRD2qWTtNfgbnN02x0iCzAy+4wxVTd6+4T+2x\n",
       "8ag07qZ0pXmzDn4hYyFRj2qukHdo0dyf5atW3qLQH6Q60AadMEvVg2AAOPmMkXnjtQqQHtwN1KaU\n",
       "5AJ4h4yHpHpUc5YsAios5Ow9GFvrlF+LnUwJXpL6HLs3BZdBJ/WFt+TIt/U1YYUmbeyw3egaL9gr\n",
       "8A4ZD7n7XoEUfbw7tmyuS6Ffso6eJDX3FWBxoEwShz55FIUKHvD6DPXZR3CLOn2hB+nB3aBQlbK5\n",
       "D94h4yGpnqOZ6+x+0fQ4mB13Ngmh+xlXj7rcVmgEh4xI1t2as0YtLW3guDkVY4RuLwxx6yqYWgkO\n",
       "GZEUtsrp729/2Nd5k4G9W5yVcDk0G6eH1hxqfAhBISOSqOehid2bDOwzyOGt0GycHvnhz9olCAoZ\n",
       "kRRGQLQ5jgi25fGJZ0FytsXwD3Y5ZPOuDgT7AAAAAElFTkSuQmCC\n",
       "\" style=\"display:inline;vertical-align:middle;\" /></a><br>(see <a class=\"ProveItLink\" href=\"../../../__pv_it/theorems/4d80a022877b8aa5cee405de1b4a2b4dfa91bea20/dependencies.ipynb\">dependencies</a>)<br>"
      ],
      "text/plain": [
       "<IPython.core.display.HTML object>"
      ]
     },
     "metadata": {},
     "output_type": "display_data"
    }
   ],
   "source": [
    "%proving reduce_9_repeats"
   ]
  },
  {
   "cell_type": "code",
   "execution_count": null,
   "metadata": {},
   "outputs": [],
   "source": []
  }
 ],
 "metadata": {
  "kernelspec": {
   "display_name": "Python 3",
   "language": "python",
   "name": "python3"
  }
 },
 "nbformat": 4,
 "nbformat_minor": 0
}