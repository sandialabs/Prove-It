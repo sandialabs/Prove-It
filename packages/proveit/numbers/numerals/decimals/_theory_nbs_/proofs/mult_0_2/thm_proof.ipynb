{
 "cells": [
  {
   "cell_type": "markdown",
   "metadata": {},
   "source": [
    "Proof of <a class=\"ProveItLink\" href=\"../../../../../../_theory_nbs_/theory.ipynb\">proveit</a>.<a class=\"ProveItLink\" href=\"../../../../../_theory_nbs_/theory.ipynb\">numbers</a>.<a class=\"ProveItLink\" href=\"../../../../_theory_nbs_/theory.ipynb\">numerals</a>.<a class=\"ProveItLink\" href=\"../../theory.ipynb\">decimals</a>.<a class=\"ProveItLink\" href=\"../../theorems.ipynb#mult_0_2\">mult_0_2</a> theorem\n",
    "========"
   ]
  },
  {
   "cell_type": "code",
   "execution_count": 1,
   "metadata": {},
   "outputs": [],
   "source": [
    "import proveit\n",
    "theory = proveit.Theory() # the theorem's theory"
   ]
  },
  {
   "cell_type": "code",
   "execution_count": 2,
   "metadata": {},
   "outputs": [
    {
     "data": {
      "text/html": [
       "With these <a href=\"allowed_presumptions.txt\">allowed</a>/<a href=\"disallowed_presumptions.txt\">disallowed</a> theorem/theory presumptions (e.g., to avoid circular dependencies), we begin our proof of<br><strong id=\"mult_0_2\">mult_0_2:</strong> <a class=\"ProveItLink\" href=\"../../../__pv_it/theorems/520a1a788529e635f5fbeb37dad8ecfc3c55d9510/expr.ipynb\"><img src=\"data:image/png;base64,iVBORw0KGgoAAAANSUhEUgAAAFcAAAAVBAMAAADBdm84AAAAMFBMVEX///8AAAAAAAAAAAAAAAAA\n",
       "AAAAAAAAAAAAAAAAAAAAAAAAAAAAAAAAAAAAAAAAAAAv3aB7AAAAD3RSTlMAInZUiRDNmWbv3US7\n",
       "qzJazP2FAAAACXBIWXMAAA7EAAAOxAGVKw4bAAABdElEQVQoz3WTPUsDQRCGn3ycuXwQUwfBWFkJ\n",
       "V4htjmCpcJ0oQgIiWFhECEaCRTrRxrQiaCSdIIp/wNNaIbYW5mobRRMVLOJuQr72LlPNvfPw7szu\n",
       "HJDAFR5SN/yGW7sdB89DMLPT//QVtx38ZRe2OCuO03KwwVr/4CmCf7CpshOGdgGhMnqVoN1Tn+EE\n",
       "DlT4CJYgDLE6gVZPPbdoJAhbCvwEaYsFmMwT/+qpL9BwmFCb/oF3gwJkBfw7VLgWI9dHWU3CZbZg\n",
       "2iT+OSjIXM/JrHQp40reUVPAKWpduDmAI8I1UBl17sAmp6INk6h0znbs2JfuH0obAr5LSVgMGJAD\n",
       "RvJS12W70Yp7wLQh24jZ6K2hF/UlCFRHe+YRji0ehFeFUK4/nonfQrcV50PYhWWR1Vh1emqyWCyJ\n",
       "dzUVOGJoZ/AmspXM6+CS2+1vUbtRYK0wJ/wijtcqJr03VM97qXtj9vneQ/PZY+B1Dy027r/ypdza\n",
       "jDf6DyumWVqq6ljGAAAAAElFTkSuQmCC\n",
       "\" style=\"display:inline;vertical-align:middle;\" /></a><br>(see <a class=\"ProveItLink\" href=\"../../../__pv_it/theorems/0655eec2d7c30d9dcfccb4f80f2c51ecee9bfd2d0/dependencies.ipynb\">dependencies</a>)<br>"
      ],
      "text/plain": [
       "<IPython.core.display.HTML object>"
      ]
     },
     "metadata": {},
     "output_type": "display_data"
    },
    {
     "name": "stdout",
     "output_type": "stream",
     "text": [
      "mult_0_2 may now be readily provable (assuming required theorems are usable).  Simply execute \"%qed\".\n"
     ]
    }
   ],
   "source": [
    "%proving mult_0_2"
   ]
  },
  {
   "cell_type": "code",
   "execution_count": null,
   "metadata": {},
   "outputs": [],
   "source": []
  }
 ],
 "metadata": {
  "kernelspec": {
   "display_name": "Python 3",
   "language": "python",
   "name": "python3"
  }
 },
 "nbformat": 4,
 "nbformat_minor": 0
}