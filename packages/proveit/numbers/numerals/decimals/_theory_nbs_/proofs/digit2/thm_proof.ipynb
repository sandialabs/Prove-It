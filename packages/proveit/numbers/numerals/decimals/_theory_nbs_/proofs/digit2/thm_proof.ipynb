{
 "cells": [
  {
   "cell_type": "markdown",
   "metadata": {},
   "source": [
    "Proof of <a class=\"ProveItLink\" href=\"../../../../../../_theory_nbs_/theory.ipynb\">proveit</a>.<a class=\"ProveItLink\" href=\"../../../../../_theory_nbs_/theory.ipynb\">numbers</a>.<a class=\"ProveItLink\" href=\"../../../../_theory_nbs_/theory.ipynb\">numerals</a>.<a class=\"ProveItLink\" href=\"../../theory.ipynb\">decimals</a>.<a class=\"ProveItLink\" href=\"../../theorems.ipynb#digit2\">digit2</a> theorem\n",
    "========"
   ]
  },
  {
   "cell_type": "code",
   "execution_count": 1,
   "metadata": {},
   "outputs": [],
   "source": [
    "import proveit\n",
    "theory = proveit.Theory() # the theorem's theory"
   ]
  },
  {
   "cell_type": "code",
   "execution_count": 2,
   "metadata": {},
   "outputs": [
    {
     "data": {
      "text/html": [
       "With these <a href=\"allowed_presumptions.txt\">allowed</a>/<a href=\"disallowed_presumptions.txt\">disallowed</a> theorem/theory presumptions (e.g., to avoid circular dependencies), we begin our proof of<br><strong id=\"digit2\">digit2:</strong> <a class=\"ProveItLink\" href=\"../../../__pv_it/theorems/166e2ba39a2b9a3528fdaacbbe276f7dd2b313d80/expr.ipynb\"><img src=\"data:image/png;base64,iVBORw0KGgoAAAANSUhEUgAAAEcAAAAUBAMAAAAthD11AAAAMFBMVEX///8AAAAAAAAAAAAAAAAA\n",
       "AAAAAAAAAAAAAAAAAAAAAAAAAAAAAAAAAAAAAAAAAAAv3aB7AAAAD3RSTlMAIpnNuzKJRKvvEN12\n",
       "ZlQ4bmvwAAAACXBIWXMAAA7EAAAOxAGVKw4bAAABSklEQVQoz2NgwAf4HBl4chIY8KvxYWBoY3iB\n",
       "Vw2vL5D4yrB+AR41PH5AgvEjA38BphzXfhcrBrb501nngbnTGeIvMDAqmQSgqmJ5UMHAsJ6B4UkW\n",
       "iFey6v4DBhEGtu+oijg2sl1g4ATJg1RxPeUXYGhkYJiJpugJgyEDN4gVocjAEMVQzcAwfwFDvwBY\n",
       "8sju3QZgRbIHhCGKGCS6GHwZTBkYuhkY+sGOKj4FM0mglScBoohBgKH2GsTJ+0EEoxXcOgEWBndu\n",
       "ND+z/gGRzAIIRawKq1ejKeJuACtCOFyA4R6fJwOrCxA4wgRVwGTkbiBwgCriWNCJFkNggxiWIJvE\n",
       "1YBm3TMGRpBzuJEVMcSwoDo7gYEHFM08B+DRAvQzTwiKImklJW0www4mwvwASCijKNr///9nMGOF\n",
       "OyTdsNpPAZKLcaSfMm9ItGACAEf6RBN0yGZIAAAAAElFTkSuQmCC\n",
       "\" style=\"display:inline;vertical-align:middle;\" /></a><br>(see <a class=\"ProveItLink\" href=\"../../../__pv_it/theorems/b368719aa678ad15196efb520fc214ed0de555d60/dependencies.ipynb\">dependencies</a>)<br>"
      ],
      "text/plain": [
       "<IPython.core.display.HTML object>"
      ]
     },
     "metadata": {},
     "output_type": "display_data"
    }
   ],
   "source": [
    "%proving digit2"
   ]
  },
  {
   "cell_type": "code",
   "execution_count": null,
   "metadata": {},
   "outputs": [],
   "source": []
  }
 ],
 "metadata": {
  "kernelspec": {
   "display_name": "Python 3",
   "language": "python",
   "name": "python3"
  }
 },
 "nbformat": 4,
 "nbformat_minor": 0
}