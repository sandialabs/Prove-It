{
 "cells": [
  {
   "cell_type": "markdown",
   "metadata": {},
   "source": [
    "Proof of <a class=\"ProveItLink\" href=\"../../../../../../_theory_nbs_/theory.ipynb\">proveit</a>.<a class=\"ProveItLink\" href=\"../../../../../_theory_nbs_/theory.ipynb\">numbers</a>.<a class=\"ProveItLink\" href=\"../../../../_theory_nbs_/theory.ipynb\">numerals</a>.<a class=\"ProveItLink\" href=\"../../theory.ipynb\">decimals</a>.<a class=\"ProveItLink\" href=\"../../theorems.ipynb#mult_2_7\">mult_2_7</a> theorem\n",
    "========"
   ]
  },
  {
   "cell_type": "code",
   "execution_count": 1,
   "metadata": {},
   "outputs": [],
   "source": [
    "import proveit\n",
    "theory = proveit.Theory() # the theorem's theory"
   ]
  },
  {
   "cell_type": "code",
   "execution_count": 2,
   "metadata": {},
   "outputs": [
    {
     "data": {
      "text/html": [
       "With these <a href=\"allowed_presumptions.txt\">allowed</a>/<a href=\"disallowed_presumptions.txt\">disallowed</a> theorem/theory presumptions (e.g., to avoid circular dependencies), we begin our proof of<br><strong id=\"mult_2_7\">mult_2_7:</strong> <a class=\"ProveItLink\" href=\"../../../__pv_it/theorems/660f06e885c9473ac5d88a84e4f43cf1863808cf0/expr.ipynb\"><img src=\"data:image/png;base64,iVBORw0KGgoAAAANSUhEUgAAAGEAAAAVBAMAAACkm51HAAAAMFBMVEX///8AAAAAAAAAAAAAAAAA\n",
       "AAAAAAAAAAAAAAAAAAAAAAAAAAAAAAAAAAAAAAAAAAAv3aB7AAAAD3RSTlMAInZUiRDNmWbv3US7\n",
       "qzJazP2FAAAACXBIWXMAAA7EAAAOxAGVKw4bAAABc0lEQVQ4y2NgYBBgwABYhJAAkwEKVyIASGzC\n",
       "q8OEgUG87Byca/////8JTA0YyviWgskCBgbWBAbGAwz+G2AyPuXlVQYMqegaYsu+giiuCwwM7A0M\n",
       "vAIMnBNgUg5AKxkY2jEdD9ahBdTBCURfGXg/wmSAvgKJBmDVwdcGlDNjYOBdwMD7DyHH8oCBga0B\n",
       "qw4WNqCOEjCf6wNCTgYkdQGrDkWQjgww/70CQu42EHMkgFhVq0BgLVwHYwNIx2Iwfy1CAyMoEJgn\n",
       "YLODhQGkYzaIy34ARMaDDWYBkXwfsOloROjohXimAEyCdHNjs4NRgQHmKmYHBkG4VDzI08wLsPiD\n",
       "++7d+3MdGA4BeU8YGFThOvaDbOI4gD0GOYHG+QL9ury8fAEiYTmAPOaAroMFHMf8QJNeAV0OTHwJ\n",
       "cClJUFrm2oCmgffmtxtAg87/VWDgeoAtQUvhSewcBdhEK/Dlj4NYxBgP4NMRg0WMB2+2ZVTAFFPE\n",
       "ox4AbuBf1ciMfhsAAAAASUVORK5CYII=\n",
       "\" style=\"display:inline;vertical-align:middle;\" /></a><br>(see <a class=\"ProveItLink\" href=\"../../../__pv_it/theorems/b120b876f94e64a66bb13eeb5444478947f270ef0/dependencies.ipynb\">dependencies</a>)<br>"
      ],
      "text/plain": [
       "<IPython.core.display.HTML object>"
      ]
     },
     "metadata": {},
     "output_type": "display_data"
    },
    {
     "name": "stdout",
     "output_type": "stream",
     "text": [
      "mult_2_7 may now be readily provable (assuming required theorems are usable).  Simply execute \"%qed\".\n"
     ]
    }
   ],
   "source": [
    "%proving mult_2_7"
   ]
  },
  {
   "cell_type": "code",
   "execution_count": null,
   "metadata": {},
   "outputs": [],
   "source": []
  }
 ],
 "metadata": {
  "kernelspec": {
   "display_name": "Python 3",
   "language": "python",
   "name": "python3"
  }
 },
 "nbformat": 4,
 "nbformat_minor": 0
}