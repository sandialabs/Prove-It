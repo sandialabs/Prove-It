{
 "cells": [
  {
   "cell_type": "markdown",
   "metadata": {},
   "source": [
    "Proof of <a class=\"ProveItLink\" href=\"../../../../../../_theory_nbs_/theory.ipynb\">proveit</a>.<a class=\"ProveItLink\" href=\"../../../../../_theory_nbs_/theory.ipynb\">numbers</a>.<a class=\"ProveItLink\" href=\"../../../../_theory_nbs_/theory.ipynb\">numerals</a>.<a class=\"ProveItLink\" href=\"../../theory.ipynb\">decimals</a>.<a class=\"ProveItLink\" href=\"../../theorems.ipynb#add_5_2\">add_5_2</a> theorem\n",
    "========"
   ]
  },
  {
   "cell_type": "code",
   "execution_count": 1,
   "metadata": {},
   "outputs": [],
   "source": [
    "import proveit\n",
    "theory = proveit.Theory() # the theorem's theory"
   ]
  },
  {
   "cell_type": "code",
   "execution_count": 2,
   "metadata": {},
   "outputs": [
    {
     "data": {
      "text/html": [
       "With these <a href=\"allowed_presumptions.txt\">allowed</a>/<a href=\"disallowed_presumptions.txt\">disallowed</a> theorem/theory presumptions (e.g., to avoid circular dependencies), we begin our proof of<br><strong id=\"add_5_2\">add_5_2:</strong> <a class=\"ProveItLink\" href=\"../../../__pv_it/theorems/346c255695bf722f6747123d62a2d334d8936bba0/expr.ipynb\"><img src=\"data:image/png;base64,iVBORw0KGgoAAAANSUhEUgAAAGIAAAAVBAMAAABPrCZEAAAAMFBMVEX///8AAAAAAAAAAAAAAAAA\n",
       "AAAAAAAAAAAAAAAAAAAAAAAAAAAAAAAAAAAAAAAAAAAv3aB7AAAAD3RSTlMAInZUiRDNmWbv3US7\n",
       "qzJazP2FAAAACXBIWXMAAA7EAAAOxAGVKw4bAAABcUlEQVQ4y3WTsUvDQBTGv6StSWst2aqloIKL\n",
       "WyjF1SxuCvkDBLMoDg4dlEpRcHPtWhwacDIgLZ26GQX3uomCzexUHRwUjO8SkNwld/Du3X3vfnn3\n",
       "yD0ABrKHTIdqIkAhIzxKKYt25JpA/8CzuZDSPgqgXojEZhiGXRQc4OZ7iw/Vkf8B9kViu93umNDo\n",
       "S5N/bRy7J6AHXIqEBVSBIpJEI3Z9G1MDRVsgzOjoRhbxAkwDzKUKQT4Ajsk/r73xBI0BhScpok52\n",
       "SPaI5aFAVD4B3WErzYtGTL+SXUersisQJTqR64opFKZcRUvtg6aO5/U87zYSzlieWaoMJybKDrRf\n",
       "PofOLjGfylHy41sVXSzMeKIJxUDOFevYY/MD5SLI54iKBdWG7os57lo07VA9LazbHFGj50Bft1IP\n",
       "iynvZNXzE/5/DMLwi249FIklkxUTJKVGclPLbg+9ldyNk5tTSUfdy1pN8SWBXRlRlrWtsiIJrGbL\n",
       "f6/IWLWFY6aYAAAAAElFTkSuQmCC\n",
       "\" style=\"display:inline;vertical-align:middle;\" /></a><br>(see <a class=\"ProveItLink\" href=\"../../../__pv_it/theorems/49c4ddc0e34dde6301a707bd50d389221722ea2f0/dependencies.ipynb\">dependencies</a>)<br>"
      ],
      "text/plain": [
       "<IPython.core.display.HTML object>"
      ]
     },
     "metadata": {},
     "output_type": "display_data"
    },
    {
     "name": "stdout",
     "output_type": "stream",
     "text": [
      "add_5_2 may now be readily provable (assuming required theorems are usable).  Simply execute \"%qed\".\n"
     ]
    }
   ],
   "source": [
    "%proving add_5_2"
   ]
  },
  {
   "cell_type": "code",
   "execution_count": null,
   "metadata": {},
   "outputs": [],
   "source": []
  }
 ],
 "metadata": {
  "kernelspec": {
   "display_name": "Python 3",
   "language": "python",
   "name": "python3"
  }
 },
 "nbformat": 4,
 "nbformat_minor": 0
}