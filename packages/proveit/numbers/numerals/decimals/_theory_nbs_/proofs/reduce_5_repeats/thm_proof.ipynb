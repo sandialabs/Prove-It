{
 "cells": [
  {
   "cell_type": "markdown",
   "metadata": {},
   "source": [
    "Proof of <a class=\"ProveItLink\" href=\"../../../../../../_theory_nbs_/theory.ipynb\">proveit</a>.<a class=\"ProveItLink\" href=\"../../../../../_theory_nbs_/theory.ipynb\">numbers</a>.<a class=\"ProveItLink\" href=\"../../../../_theory_nbs_/theory.ipynb\">numerals</a>.<a class=\"ProveItLink\" href=\"../../theory.ipynb\">decimals</a>.<a class=\"ProveItLink\" href=\"../../theorems.ipynb#reduce_5_repeats\">reduce_5_repeats</a> theorem\n",
    "========"
   ]
  },
  {
   "cell_type": "code",
   "execution_count": 1,
   "metadata": {},
   "outputs": [],
   "source": [
    "import proveit\n",
    "theory = proveit.Theory() # the theorem's theory"
   ]
  },
  {
   "cell_type": "code",
   "execution_count": 2,
   "metadata": {},
   "outputs": [
    {
     "data": {
      "text/html": [
       "With these <a href=\"allowed_presumptions.txt\">allowed</a>/<a href=\"disallowed_presumptions.txt\">disallowed</a> theorem/theory presumptions (e.g., to avoid circular dependencies), we begin our proof of<br><strong id=\"reduce_5_repeats\">reduce_5_repeats:</strong> <a class=\"ProveItLink\" href=\"../../../__pv_it/theorems/79e9606e85accd1def36b76016aecfb602c505db0/expr.ipynb\"><img src=\"data:image/png;base64,iVBORw0KGgoAAAANSUhEUgAAAUUAAAAVBAMAAAAjo+EtAAAAMFBMVEX///8AAAAAAAAAAAAAAAAA\n",
       "AAAAAAAAAAAAAAAAAAAAAAAAAAAAAAAAAAAAAAAAAAAv3aB7AAAAD3RSTlMAq1RmmUTNIjK7EInv\n",
       "3XZ/CtNrAAAACXBIWXMAAA7EAAAOxAGVKw4bAAAC1klEQVRIx6WWz4vTQBTHX5O0aRNbCh5EUbeg\n",
       "p/WgyII3XWj9BVaKf4D2Ju4pHoWt1Kte9uLFg+SwLOphLXsVJHd/VfBQhLJZUQQPxYuueHCdX00y\n",
       "k7wJ7T7ybch38j55nZnMBCAdttA+wkOws1O87KYvQvuImwh2dgpVnV6cSLYYAy487Nadvp5eO5Oy\n",
       "9EiUQnWRXtxOtmwI4XEP3F85+JWUszHHcKxwPaD9spZsaArhcQjgbQ59KeU056hxiavkA7iNZEMg\n",
       "hMcHHxY8Pf2ArzrBHDVSCpFJxrskzZsulyaOASzQCVnw1DGIoqROyBwkoBSqd+Pxm6RvDbicyZFH\n",
       "W9za3Hn2qiFnb7N3ZwTQU94ekebWlcehSJ1JKVRXAJ5k1W7BTtjm1nLtuDWUnlj+x069Pi1TroWn\n",
       "mazb2mMaH6fYTKTOpBSqu2BL/7na4DoHF/yDzDE9829BHrsqT7FHajdO0wx1+qFInUkpVBXf7Ujz\n",
       "tMPVh0vTTgNLnUxXxbmnduM0rfxTnf4YUmdSCpURliCrRoD3sRfKDzTraI0irRhk1IggcZNSGKl7\n",
       "nvxMLn/15LGG4i68EAm3PEdaS06B7SFjLdKMoTIfcaTGpBRG2iIrec07XBJvbiVkch4XAhiAQ5zn\n",
       "naPgAsRVlgdQ8zPeGeKJNDDVJQlD6kxGYaRVMnAmPC0LmHjfjT/rQbEBL8kMOf3wGtwA5zdpJJfk\n",
       "6LVabWntIW38mKaxpUYKDKkzo3UQCmy4dqNOGjI518OTZ8kQfQZYnxhNkjAmf7C6TI/tvT1aMMu0\n",
       "2TT/xA5yh0iDakepEUPqTEaJSeUg+rwbCfFYjHcKP29bSNzRSzXmIBcxSkRadbuWspGLiMfMzd26\n",
       "XN0XRA5ygFEikvXt9Y9odntcfFOKV4PN3BrjOzJ2cT0y06SU7O8BZ42Lf2bGfphbY5guSMbiyBpG\n",
       "qWR/YN0X2kd8R7CzU4j+A5GOF95oYLn/AAAAAElFTkSuQmCC\n",
       "\" style=\"display:inline;vertical-align:middle;\" /></a><br>(see <a class=\"ProveItLink\" href=\"../../../__pv_it/theorems/adabb2e574dae7a349e5651e39721c0c2898ff480/dependencies.ipynb\">dependencies</a>)<br>"
      ],
      "text/plain": [
       "<IPython.core.display.HTML object>"
      ]
     },
     "metadata": {},
     "output_type": "display_data"
    }
   ],
   "source": [
    "%proving reduce_5_repeats"
   ]
  },
  {
   "cell_type": "code",
   "execution_count": null,
   "metadata": {},
   "outputs": [],
   "source": []
  }
 ],
 "metadata": {
  "kernelspec": {
   "display_name": "Python 3",
   "language": "python",
   "name": "python3"
  }
 },
 "nbformat": 4,
 "nbformat_minor": 0
}