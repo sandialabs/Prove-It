{
 "cells": [
  {
   "cell_type": "markdown",
   "metadata": {},
   "source": [
    "Proof of <a class=\"ProveItLink\" href=\"../../../../../../_theory_nbs_/theory.ipynb\">proveit</a>.<a class=\"ProveItLink\" href=\"../../../../../_theory_nbs_/theory.ipynb\">numbers</a>.<a class=\"ProveItLink\" href=\"../../../../_theory_nbs_/theory.ipynb\">numerals</a>.<a class=\"ProveItLink\" href=\"../../theory.ipynb\">decimals</a>.<a class=\"ProveItLink\" href=\"../../theorems.ipynb#mult_4_6\">mult_4_6</a> theorem\n",
    "========"
   ]
  },
  {
   "cell_type": "code",
   "execution_count": 1,
   "metadata": {},
   "outputs": [],
   "source": [
    "import proveit\n",
    "theory = proveit.Theory() # the theorem's theory"
   ]
  },
  {
   "cell_type": "code",
   "execution_count": 2,
   "metadata": {},
   "outputs": [
    {
     "data": {
      "text/html": [
       "With these <a href=\"allowed_presumptions.txt\">allowed</a>/<a href=\"disallowed_presumptions.txt\">disallowed</a> theorem/theory presumptions (e.g., to avoid circular dependencies), we begin our proof of<br><strong id=\"mult_4_6\">mult_4_6:</strong> <a class=\"ProveItLink\" href=\"../../../__pv_it/theorems/32fd1cab09fb527f50c7d3b309c5a6f0f48f9fc60/expr.ipynb\"><img src=\"data:image/png;base64,iVBORw0KGgoAAAANSUhEUgAAAGEAAAAVBAMAAACkm51HAAAAMFBMVEX///8AAAAAAAAAAAAAAAAA\n",
       "AAAAAAAAAAAAAAAAAAAAAAAAAAAAAAAAAAAAAAAAAAAv3aB7AAAAD3RSTlMAInZUiRDNmWbv3US7\n",
       "qzJazP2FAAAACXBIWXMAAA7EAAAOxAGVKw4bAAABk0lEQVQ4y32Tv0vDQBTHv0mT/oglBiepDu0k\n",
       "ODkUVzMITkr+AEEXQVChg1AtCnHRUUEQRIoFN0Es7kJ1UwSrOAmhHQTFSRwEfxHfpT9O7kLekJd7\n",
       "7z7vx707ABYkCTH9E3VEtp1FEnn2eeZrbXwKqivuUoqLTVJmAdBnmeGEuxbwCMyJxCC0b1JGHUiw\n",
       "cCon4lncAFsicQfskxomIsXWL0td15jDvilHIA4dNCyYm0SMsrXNiatWJrERqrTRhBYnYpkVZXFi\n",
       "72moSu3X5SM6BXKMmKf/fnDiw8UukAzOo3TMpN2j+Q7FZcQRK4oTug+sOojtSCnomDQw4oACWi1i\n",
       "hgLrX8B2FeabRKwBGx2iDy3CKLCqiHDRI+VI1qFk0a7q3PM+Hzqe6yBHrCL2kYcy4HmNso3LYF3m\n",
       "86A+KGJNSGHaUGlGKcoxGRh+uq60rdNZJWyByBSLJVK9FOk16Mq/7/om1unKGVVxGL5PHSZuf7Mw\n",
       "mmEXOhNx2ZOFMOtK1Pu4CLEptShiOsSWjny2NBdJchH7/wBZcGT3sM/HMQAAAABJRU5ErkJggg==\n",
       "\" style=\"display:inline;vertical-align:middle;\" /></a><br>(see <a class=\"ProveItLink\" href=\"../../../__pv_it/theorems/a65a19205fd209c610926dac44e9d4969aa2ff310/dependencies.ipynb\">dependencies</a>)<br>"
      ],
      "text/plain": [
       "<IPython.core.display.HTML object>"
      ]
     },
     "metadata": {},
     "output_type": "display_data"
    },
    {
     "name": "stdout",
     "output_type": "stream",
     "text": [
      "mult_4_6 may now be readily provable (assuming required theorems are usable).  Simply execute \"%qed\".\n"
     ]
    }
   ],
   "source": [
    "%proving mult_4_6"
   ]
  },
  {
   "cell_type": "code",
   "execution_count": null,
   "metadata": {},
   "outputs": [],
   "source": []
  }
 ],
 "metadata": {
  "kernelspec": {
   "display_name": "Python 3",
   "language": "python",
   "name": "python3"
  }
 },
 "nbformat": 4,
 "nbformat_minor": 0
}