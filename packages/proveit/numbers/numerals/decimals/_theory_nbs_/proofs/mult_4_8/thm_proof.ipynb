{
 "cells": [
  {
   "cell_type": "markdown",
   "metadata": {},
   "source": [
    "Proof of <a class=\"ProveItLink\" href=\"../../../../../../_theory_nbs_/theory.ipynb\">proveit</a>.<a class=\"ProveItLink\" href=\"../../../../../_theory_nbs_/theory.ipynb\">numbers</a>.<a class=\"ProveItLink\" href=\"../../../../_theory_nbs_/theory.ipynb\">numerals</a>.<a class=\"ProveItLink\" href=\"../../theory.ipynb\">decimals</a>.<a class=\"ProveItLink\" href=\"../../theorems.ipynb#mult_4_8\">mult_4_8</a> theorem\n",
    "========"
   ]
  },
  {
   "cell_type": "code",
   "execution_count": 1,
   "metadata": {},
   "outputs": [],
   "source": [
    "import proveit\n",
    "theory = proveit.Theory() # the theorem's theory"
   ]
  },
  {
   "cell_type": "code",
   "execution_count": 2,
   "metadata": {},
   "outputs": [
    {
     "data": {
      "text/html": [
       "With these <a href=\"allowed_presumptions.txt\">allowed</a>/<a href=\"disallowed_presumptions.txt\">disallowed</a> theorem/theory presumptions (e.g., to avoid circular dependencies), we begin our proof of<br><strong id=\"mult_4_8\">mult_4_8:</strong> <a class=\"ProveItLink\" href=\"../../../__pv_it/theorems/f8e9f3f062c3cb51a6de6e9173435b0a513b129d0/expr.ipynb\"><img src=\"data:image/png;base64,iVBORw0KGgoAAAANSUhEUgAAAGEAAAAVBAMAAACkm51HAAAAMFBMVEX///8AAAAAAAAAAAAAAAAA\n",
       "AAAAAAAAAAAAAAAAAAAAAAAAAAAAAAAAAAAAAAAAAAAv3aB7AAAAD3RSTlMAInZUiRDNmWbv3US7\n",
       "qzJazP2FAAAACXBIWXMAAA7EAAAOxAGVKw4bAAABnklEQVQ4y32TPUjDUBDH/0laTT8JTlIEdXI0\n",
       "Q3G1QsFJyKSLoIvgoNBBSCkFi0s76uAgUhTcBGlwEBSEKjjXLxCE0uKiOIhYKFaFeC+lSXkJueGF\n",
       "+/jdu3t3AaDAJR6mPhFVt+3Ul0iy49VWg+lZA2KBjxLSeQOCvtakiGVmOLFdg8ADsMITC5BaGEHg\n",
       "lyJYOtEhSsA8UOSJSTXYxh2wB4SY/rZuu+YsIqRxxLmBNg40NBRMMT3lENM3yAIDrkYgfeMZaDSx\n",
       "wYpSHCJmTtDjBW5dxIWVpAKs0mcYDoHNH5qGbL1H7phJt8eXOj0T4l/AESuqj5Bmai06t91VkRlh\n",
       "unufEipdYoklLkLqaIh/ugdHfSMPixhClwhn6NgFRlVE+Ds+gJoKmbVHVV3W653H3sgpeawA6ZDr\n",
       "w9QYkYSg4NoKLNvJdoCoArnK3VFmVcVTEDU2MZI/23WmYYs2IcURJTaPhK7ngHem5837niv+pBvU\n",
       "ksEREZ02sWKabfI1vRY64bPscsbLmvX7P648bELVj1j0sEV9f1thzG0b94n/Bz7KaKdLToskAAAA\n",
       "AElFTkSuQmCC\n",
       "\" style=\"display:inline;vertical-align:middle;\" /></a><br>(see <a class=\"ProveItLink\" href=\"../../../__pv_it/theorems/cf3283afbc5b26e175268a97a4da7ad6a334362a0/dependencies.ipynb\">dependencies</a>)<br>"
      ],
      "text/plain": [
       "<IPython.core.display.HTML object>"
      ]
     },
     "metadata": {},
     "output_type": "display_data"
    },
    {
     "name": "stdout",
     "output_type": "stream",
     "text": [
      "mult_4_8 may now be readily provable (assuming required theorems are usable).  Simply execute \"%qed\".\n"
     ]
    }
   ],
   "source": [
    "%proving mult_4_8"
   ]
  },
  {
   "cell_type": "code",
   "execution_count": null,
   "metadata": {},
   "outputs": [],
   "source": []
  }
 ],
 "metadata": {
  "kernelspec": {
   "display_name": "Python 3",
   "language": "python",
   "name": "python3"
  }
 },
 "nbformat": 4,
 "nbformat_minor": 0
}