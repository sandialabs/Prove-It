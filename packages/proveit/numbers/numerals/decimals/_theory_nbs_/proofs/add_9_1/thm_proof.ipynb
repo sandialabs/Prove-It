{
 "cells": [
  {
   "cell_type": "markdown",
   "metadata": {},
   "source": [
    "Proof of <a class=\"ProveItLink\" href=\"../../../../../../_theory_nbs_/theory.ipynb\">proveit</a>.<a class=\"ProveItLink\" href=\"../../../../../_theory_nbs_/theory.ipynb\">numbers</a>.<a class=\"ProveItLink\" href=\"../../../../_theory_nbs_/theory.ipynb\">numerals</a>.<a class=\"ProveItLink\" href=\"../../theory.ipynb\">decimals</a>.<a class=\"ProveItLink\" href=\"../../theorems.ipynb#add_9_1\">add_9_1</a> theorem\n",
    "========"
   ]
  },
  {
   "cell_type": "code",
   "execution_count": 1,
   "metadata": {},
   "outputs": [],
   "source": [
    "import proveit\n",
    "theory = proveit.Theory() # the theorem's theory"
   ]
  },
  {
   "cell_type": "code",
   "execution_count": 2,
   "metadata": {},
   "outputs": [
    {
     "data": {
      "text/html": [
       "With these <a href=\"allowed_presumptions.txt\">allowed</a>/<a href=\"disallowed_presumptions.txt\">disallowed</a> theorem/theory presumptions (e.g., to avoid circular dependencies), we begin our proof of<br><strong id=\"add_9_1\">add_9_1:</strong> <a class=\"ProveItLink\" href=\"../../../__pv_it/theorems/91e08007174a1d2891e3ff57ceead3914bed7a860/expr.ipynb\"><img src=\"data:image/png;base64,iVBORw0KGgoAAAANSUhEUgAAAGwAAAAVBAMAAABRZRb3AAAAMFBMVEX///8AAAAAAAAAAAAAAAAA\n",
       "AAAAAAAAAAAAAAAAAAAAAAAAAAAAAAAAAAAAAAAAAAAv3aB7AAAAD3RSTlMAInZUiRDNmWbv3US7\n",
       "qzJazP2FAAAACXBIWXMAAA7EAAAOxAGVKw4bAAABa0lEQVQ4y52Tv0vDUBDHv+aHiba2+QMEHRzc\n",
       "lCCCTqW4it2KIiTg4iJWKBScOjk5dOkgHSwWl4jgWLfq5NhFnJSsFkRIDBQE8b2EYJPe6+AtyX3v\n",
       "fd7du/cOgAHapjDJpFVBILM4CVsDtNpzWh2UgOXxxVxWiieAakO9wnuyUvXlmMWnSykokg+wZ0Cr\n",
       "Y66BbC8KdOMVKyyuV8ayMVlvQ+lhBsjbUIJINkcxNCks24ccYB2wepC+KeyQwvIV5HxUo2xDCtum\n",
       "MIthQ74jP5tHYWf8T3NC68fyQgE5Dx3WoBY+fArboLJx7Ast5pSXzB/2OXWcC8e5/cM+ySILyHgh\n",
       "BkEn7wUtkX1eJLP43pLYJnU2tlQP8AjITVguhZ2T192AZvMmS9d4Qgrb4a+tOoZxuYNdFwPmbNXu\n",
       "Utjr5VEduElToVwuvgGz7qhuJgauLZ6b5HvtjjrslYvtQRiZnzSm+//YkJ9ANPuSIYZ+AbMHYrgj\n",
       "J81RAAAAAElFTkSuQmCC\n",
       "\" style=\"display:inline;vertical-align:middle;\" /></a><br>(see <a class=\"ProveItLink\" href=\"../../../__pv_it/theorems/1513f10120e403df9c4950871daf53816b054fbd0/dependencies.ipynb\">dependencies</a>)<br>"
      ],
      "text/plain": [
       "<IPython.core.display.HTML object>"
      ]
     },
     "metadata": {},
     "output_type": "display_data"
    },
    {
     "name": "stdout",
     "output_type": "stream",
     "text": [
      "add_9_1 may now be readily provable (assuming required theorems are usable).  Simply execute \"%qed\".\n"
     ]
    }
   ],
   "source": [
    "%proving add_9_1"
   ]
  },
  {
   "cell_type": "code",
   "execution_count": null,
   "metadata": {},
   "outputs": [],
   "source": []
  }
 ],
 "metadata": {
  "kernelspec": {
   "display_name": "Python 3",
   "language": "python",
   "name": "python3"
  }
 },
 "nbformat": 4,
 "nbformat_minor": 0
}