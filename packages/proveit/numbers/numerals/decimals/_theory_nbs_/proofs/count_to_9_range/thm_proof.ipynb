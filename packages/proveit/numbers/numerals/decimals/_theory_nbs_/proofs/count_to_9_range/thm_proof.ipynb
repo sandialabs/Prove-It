{
 "cells": [
  {
   "cell_type": "markdown",
   "metadata": {},
   "source": [
    "Proof of <a class=\"ProveItLink\" href=\"../../../../../../_theory_nbs_/theory.ipynb\">proveit</a>.<a class=\"ProveItLink\" href=\"../../../../../_theory_nbs_/theory.ipynb\">numbers</a>.<a class=\"ProveItLink\" href=\"../../../../_theory_nbs_/theory.ipynb\">numerals</a>.<a class=\"ProveItLink\" href=\"../../theory.ipynb\">decimals</a>.<a class=\"ProveItLink\" href=\"../../theorems.ipynb#count_to_9_range\">count_to_9_range</a> theorem\n",
    "========"
   ]
  },
  {
   "cell_type": "code",
   "execution_count": 1,
   "metadata": {},
   "outputs": [],
   "source": [
    "import proveit\n",
    "theory = proveit.Theory() # the theorem's theory"
   ]
  },
  {
   "cell_type": "code",
   "execution_count": 2,
   "metadata": {},
   "outputs": [
    {
     "data": {
      "text/html": [
       "With these <a href=\"allowed_presumptions.txt\">allowed</a>/<a href=\"disallowed_presumptions.txt\">disallowed</a> theorem/theory presumptions (e.g., to avoid circular dependencies), we begin our proof of<br><strong id=\"count_to_9_range\">count_to_9_range:</strong> <a class=\"ProveItLink\" href=\"../../../__pv_it/theorems/e0e1fac832aff969882cf2bcb60a1b844c53411f0/expr.ipynb\"><img src=\"data:image/png;base64,iVBORw0KGgoAAAANSUhEUgAAATUAAAAVBAMAAADV6mS1AAAAMFBMVEX///8AAAAAAAAAAAAAAAAA\n",
       "AAAAAAAAAAAAAAAAAAAAAAAAAAAAAAAAAAAAAAAAAAAv3aB7AAAAD3RSTlMAInZUiRDNmWbv3US7\n",
       "qzJazP2FAAAACXBIWXMAAA7EAAAOxAGVKw4bAAAD50lEQVRIx7VXTUhUURQ+b94858eZ59QiSQKf\n",
       "VERunIUFrZrKclU+WhRG4RAULvqRKJ+Y0hSUboKJaBEhChGSZA4tglq9omgTOdEiDfwhWrko+9HS\n",
       "sum+c3/m+X6GXPhA7/fuO+c73z33nnMZAEjAKjxepNKKCQLJ/zWfBsUZUrrqY/vIY27jSrQhQT35\n",
       "m9HZTGX7Gxa0oSvHzdQ2OvafHOJ2DQ3TOMqFQmEBkdLQyB2Mbh0CGVc0OUWo7vFFGaemfXVxAiUN\n",
       "yvuzLKZkQhONcBjk79w0mqfj/cW9bGZdLj6AIPjKMO4iCgG8ox+PaOoNgBOuiIcAjrXPsZcNEPzt\n",
       "J00QhKwF1jFt8QREsojqkso8t61l2vLC+zjETKqNrIdmtReDW884wGuAHlfIDusAcW1vAW77aRME\n",
       "EbBpi8xB/CuiJzng2tRrTm3ynEBkPRTtF9qIX5MOEd0ZMmvX1q/DlF8RCoLtdm1kp+J/edhfDATL\n",
       "nNpiWRvTATrsfImJIYfkD+HLQZnzwMlpu7YPAFM+B65IcN6uzTpcsww85eQ1XNvYpkmW3jO7L4pK\n",
       "NdmyCluSxWVnIJh3hAyl7NrIMwIl8oYErQ5tXzQ6fpxgy5IyXNtLqKaFUtEKEd554rw6Ly0mxHEZ\n",
       "1SBspQk6h6xn2IKYSJs29VuJ80YJ7jq0DYs9YHUahLLiZtLqbJmF0C02tZ6b7xplDs05dSoJctYR\n",
       "MZpcri2a99MmCO4s1xYyhUk/nbxs0xaihdIyAGHeAfaxsQfkBeqgnNtTNw3qrCNiJLdcW5dvexME\n",
       "Dm3X2fiZ5BW3TdK4tlgaQrRQKtIQ5pXygI0kj9XihiFlVp4trS2cL3UrUILle0p69xoEBZ1pK5+Y\n",
       "mOpLITkp4lm+tTxvyhIbyZe4KE3SnuQBx3lz7Gk9SCUuckrwnGtDeZ8ANiPqs/ZUYSvOg0L7bMTE\n",
       "jzI5b1nqUP4TqCvp5LEEOuzQFZLesOkIF9OYNjRSUxDg/PZHtxPsxxQmAK8BadAwBhD1Wv2tJU23\n",
       "0ERELoCtOr0tXkAzuzfkH0BdH+twhTrU6rEMaxn2B5tKkBxYNKoyjE5E6IxT4k0QzJCXif7TGbDu\n",
       "8Si5utOIyg1y10fxZg6NLmmIKrsvAH6EoDHJkHQTKFLfG8wh2Gg1v2jOoU0lmxwfnx+jRiOFwjxF\n",
       "g5ZxG/9nUQmCKO/OsqiHItoGLuRl5uVQ5dquhyVYwU1FCMJtPOfF7AuUciMvMy+HDlfYnhKsHlQW\n",
       "wTOGD4pZgRTNjTzMvBwk0xU2lvBndVMhwVH2UrQTKABupJVCAZcQe0s1/VndVEggaavxe6HGY27t\n",
       "Cgn+AXoDJFvQ99hgAAAAAElFTkSuQmCC\n",
       "\" style=\"display:inline;vertical-align:middle;\" /></a><br>(see <a class=\"ProveItLink\" href=\"../../../__pv_it/theorems/20927c886a6e9291c7774ec5f917c2197fc46ab90/dependencies.ipynb\">dependencies</a>)<br>"
      ],
      "text/plain": [
       "<IPython.core.display.HTML object>"
      ]
     },
     "metadata": {},
     "output_type": "display_data"
    }
   ],
   "source": [
    "%proving count_to_9_range"
   ]
  },
  {
   "cell_type": "code",
   "execution_count": null,
   "metadata": {},
   "outputs": [],
   "source": []
  }
 ],
 "metadata": {
  "kernelspec": {
   "display_name": "Python 3",
   "language": "python",
   "name": "python3"
  }
 },
 "nbformat": 4,
 "nbformat_minor": 0
}