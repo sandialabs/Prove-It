{
 "cells": [
  {
   "cell_type": "markdown",
   "metadata": {},
   "source": [
    "Proof of <a class=\"ProveItLink\" href=\"../../../../../../_theory_nbs_/theory.ipynb\">proveit</a>.<a class=\"ProveItLink\" href=\"../../../../../_theory_nbs_/theory.ipynb\">numbers</a>.<a class=\"ProveItLink\" href=\"../../../../_theory_nbs_/theory.ipynb\">numerals</a>.<a class=\"ProveItLink\" href=\"../../theory.ipynb\">decimals</a>.<a class=\"ProveItLink\" href=\"../../theorems.ipynb#posnat5\">posnat5</a> theorem\n",
    "========"
   ]
  },
  {
   "cell_type": "code",
   "execution_count": 1,
   "metadata": {},
   "outputs": [],
   "source": [
    "import proveit\n",
    "theory = proveit.Theory() # the theorem's theory"
   ]
  },
  {
   "cell_type": "code",
   "execution_count": 2,
   "metadata": {},
   "outputs": [
    {
     "data": {
      "text/html": [
       "With these <a href=\"allowed_presumptions.txt\">allowed</a>/<a href=\"disallowed_presumptions.txt\">disallowed</a> theorem/theory presumptions (e.g., to avoid circular dependencies), we begin our proof of<br><strong id=\"posnat5\">posnat5:</strong> <a class=\"ProveItLink\" href=\"../../../__pv_it/theorems/64bea1f24fa8c7c62f765c3514b0a88ce35c9cd50/expr.ipynb\"><img src=\"data:image/png;base64,iVBORw0KGgoAAAANSUhEUgAAAD4AAAATBAMAAAA63aOfAAAAMFBMVEX///8AAAAAAAAAAAAAAAAA\n",
       "AAAAAAAAAAAAAAAAAAAAAAAAAAAAAAAAAAAAAAAAAAAv3aB7AAAAD3RSTlMAMhAi783diatmdrtE\n",
       "mVQhVHx6AAAACXBIWXMAAA7EAAAOxAGVKw4bAAAA90lEQVQoz2NgwAMuMOAHG4iQZ2RgUEYRZMrf\n",
       "HcTA7u8DlWf5GpaEqov7wQkGBn2Yfjb/dAVUeY5k9gkMLAy8u3d7797JwIFhK8drhmAGNph+hDzX\n",
       "trRUsLzlAlMs8jxRUHs4DBq5ChDysyoEwMKmMGdwGHAz7IHLcysw/wELB8PtN2C8oKaGFH7bwGQA\n",
       "Qp5hHt8WJAffNwCFk1taWlo2VJ5DoQUmuRUoD3IA0wYk/UwNajCeGwNDP5iRgCTPIMUN4xUwMHiD\n",
       "Gavg4Qs0jksaxrNl4HICM1gfQEXAjKsweea7vRCPM3UfAtOM8SDzVDFjm6caEr4oAADe0TJE7QJ6\n",
       "2QAAAABJRU5ErkJggg==\n",
       "\" style=\"display:inline;vertical-align:middle;\" /></a><br>(see <a class=\"ProveItLink\" href=\"../../../__pv_it/theorems/314bbd9f475dfaf8900cf1189af30e0c561a58550/dependencies.ipynb\">dependencies</a>)<br>"
      ],
      "text/plain": [
       "<IPython.core.display.HTML object>"
      ]
     },
     "metadata": {},
     "output_type": "display_data"
    },
    {
     "name": "stdout",
     "output_type": "stream",
     "text": [
      "posnat5 may now be readily provable (assuming required theorems are usable).  Simply execute \"%qed\".\n"
     ]
    }
   ],
   "source": [
    "%proving posnat5"
   ]
  },
  {
   "cell_type": "code",
   "execution_count": null,
   "metadata": {},
   "outputs": [],
   "source": []
  }
 ],
 "metadata": {
  "kernelspec": {
   "display_name": "Python 3",
   "language": "python",
   "name": "python3"
  }
 },
 "nbformat": 4,
 "nbformat_minor": 0
}