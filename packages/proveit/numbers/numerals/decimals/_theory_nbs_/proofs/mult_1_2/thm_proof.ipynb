{
 "cells": [
  {
   "cell_type": "markdown",
   "metadata": {},
   "source": [
    "Proof of <a class=\"ProveItLink\" href=\"../../../../../../_theory_nbs_/theory.ipynb\">proveit</a>.<a class=\"ProveItLink\" href=\"../../../../../_theory_nbs_/theory.ipynb\">numbers</a>.<a class=\"ProveItLink\" href=\"../../../../_theory_nbs_/theory.ipynb\">numerals</a>.<a class=\"ProveItLink\" href=\"../../theory.ipynb\">decimals</a>.<a class=\"ProveItLink\" href=\"../../theorems.ipynb#mult_1_2\">mult_1_2</a> theorem\n",
    "========"
   ]
  },
  {
   "cell_type": "code",
   "execution_count": 1,
   "metadata": {},
   "outputs": [],
   "source": [
    "import proveit\n",
    "theory = proveit.Theory() # the theorem's theory"
   ]
  },
  {
   "cell_type": "code",
   "execution_count": 2,
   "metadata": {},
   "outputs": [
    {
     "data": {
      "text/html": [
       "With these <a href=\"allowed_presumptions.txt\">allowed</a>/<a href=\"disallowed_presumptions.txt\">disallowed</a> theorem/theory presumptions (e.g., to avoid circular dependencies), we begin our proof of<br><strong id=\"mult_1_2\">mult_1_2:</strong> <a class=\"ProveItLink\" href=\"../../../__pv_it/theorems/488c1a95f66ded51f0eb2e775f66b7da8407b9e70/expr.ipynb\"><img src=\"data:image/png;base64,iVBORw0KGgoAAAANSUhEUgAAAFcAAAAVBAMAAADBdm84AAAAMFBMVEX///8AAAAAAAAAAAAAAAAA\n",
       "AAAAAAAAAAAAAAAAAAAAAAAAAAAAAAAAAAAAAAAAAAAv3aB7AAAAD3RSTlMAInZUiRDNmWbv3US7\n",
       "qzJazP2FAAAACXBIWXMAAA7EAAAOxAGVKw4bAAABI0lEQVQoz2NgYBBgwABYhCCAyQBTbBMuxSZA\n",
       "/CoAzmUsz3nAwNSArgoszMCawMB6PR+hWIaB5TcDQyq6YogwO8gQfYTiiwwMMxkY2tEVQ4Q5GVAV\n",
       "zw9guC/AwBmAphgibIam+BYDw/0HDGzojoYIl6ApBoL1DAwsFzBDAiicgaGY7xMDA0cCiFW1CgTW\n",
       "IoQXYyjmAprKPAHDYJDwbITieLBxDDUgYz5gKAYJIynmKgCRHCDncmOYDBbGcIYJA6MAA/MCdDeD\n",
       "hQ+hKeZzYGAKYOA4gGYwRNgXxPRHJDOp8vIqYLw6oCmGCL8Csu7Oz4VHwvr//78Bnb8BPZAhwg+w\n",
       "JUUp7CmUowCbaAWO9HwQixjjARyKY7CI8eDKV4wKmGKK2JUCAC0gThKFDnBTAAAAAElFTkSuQmCC\n",
       "\" style=\"display:inline;vertical-align:middle;\" /></a><br>(see <a class=\"ProveItLink\" href=\"../../../__pv_it/theorems/087f86ec0e4607dbfc721c301a3fb5c0c5119c420/dependencies.ipynb\">dependencies</a>)<br>"
      ],
      "text/plain": [
       "<IPython.core.display.HTML object>"
      ]
     },
     "metadata": {},
     "output_type": "display_data"
    },
    {
     "name": "stdout",
     "output_type": "stream",
     "text": [
      "mult_1_2 may now be readily provable (assuming required theorems are usable).  Simply execute \"%qed\".\n"
     ]
    }
   ],
   "source": [
    "%proving mult_1_2"
   ]
  },
  {
   "cell_type": "code",
   "execution_count": null,
   "metadata": {},
   "outputs": [],
   "source": []
  }
 ],
 "metadata": {
  "kernelspec": {
   "display_name": "Python 3",
   "language": "python",
   "name": "python3"
  }
 },
 "nbformat": 4,
 "nbformat_minor": 0
}