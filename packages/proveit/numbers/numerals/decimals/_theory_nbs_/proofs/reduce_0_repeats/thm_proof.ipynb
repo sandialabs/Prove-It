{
 "cells": [
  {
   "cell_type": "markdown",
   "metadata": {},
   "source": [
    "Proof of <a class=\"ProveItLink\" href=\"../../../../../../_theory_nbs_/theory.ipynb\">proveit</a>.<a class=\"ProveItLink\" href=\"../../../../../_theory_nbs_/theory.ipynb\">numbers</a>.<a class=\"ProveItLink\" href=\"../../../../_theory_nbs_/theory.ipynb\">numerals</a>.<a class=\"ProveItLink\" href=\"../../theory.ipynb\">decimals</a>.<a class=\"ProveItLink\" href=\"../../theorems.ipynb#reduce_0_repeats\">reduce_0_repeats</a> theorem\n",
    "========"
   ]
  },
  {
   "cell_type": "code",
   "execution_count": 1,
   "metadata": {},
   "outputs": [],
   "source": [
    "import proveit\n",
    "theory = proveit.Theory() # the theorem's theory"
   ]
  },
  {
   "cell_type": "code",
   "execution_count": 2,
   "metadata": {},
   "outputs": [
    {
     "data": {
      "text/html": [
       "With these <a href=\"allowed_presumptions.txt\">allowed</a>/<a href=\"disallowed_presumptions.txt\">disallowed</a> theorem/theory presumptions (e.g., to avoid circular dependencies), we begin our proof of<br><strong id=\"reduce_0_repeats\">reduce_0_repeats:</strong> <a class=\"ProveItLink\" href=\"../../../__pv_it/theorems/5d5b488c4685a859d269b1afd3445367fc6ba66a0/expr.ipynb\"><img src=\"data:image/png;base64,iVBORw0KGgoAAAANSUhEUgAAAQgAAAAVBAMAAABI5209AAAAMFBMVEX///8AAAAAAAAAAAAAAAAA\n",
       "AAAAAAAAAAAAAAAAAAAAAAAAAAAAAAAAAAAAAAAAAAAv3aB7AAAAD3RSTlMAq1RmmUTNIjK7EInv\n",
       "3XZ/CtNrAAAACXBIWXMAAA7EAAAOxAGVKw4bAAADGElEQVRIx5VWTWgTURCe7OZ3kywRD/4gElB6\n",
       "sBaLlooXDdRf/CF4jhrwIHhaL4LQSDwpitqLBDzUPYRiPWjaa0HioZeKGkRBCoHUHwQPVRRa8aLz\n",
       "/rLvvbxscNgv7M5kZr59b97MAvSKxxEmiV6X//k/90r0s4CbZwiVj+rj+UEkYh1TIqIlyJHHHbJt\n",
       "mCNMrEbwjgsniuCODmLxqVc1zLSII+TxkmRyygyhMhPc1sH6CXB5EIm4r2tIEqJF3CAvMyXZoqMM\n",
       "oTIR3H7PO2sAY4NI2AVdQ5IQLYJwScsVkOEIlWZwWyoCksj4g1yWdEVGaJfARj5x2TbEEVoSynZZ\n",
       "vzAEW7tNiGtmn4u6YkhoEa/a7Zey7STH05XHC2yFnNWtd+bVlWzIT+eQQJoWOFSqkPigJeOB5nQS\n",
       "JAnVIo4DPNQZExTc7dEWSwkrndNqlck1c29DFTeWrQ0yQB6q8EDjNFSbSq67NOMMVyCRk33eMtie\n",
       "/SfCcu2HQ/5GJW5WaSPkdFi8Sio39YUQgXbrK0ESUS0i5aeLsm2RIQlRsfFVOKrXFHrM0HeiKd/4\n",
       "kPzBu0ZbXwgR6L5OYlFoEVYnDgYSmClocq8NJITcAniUh1izHwkRqGQkUeIoH8Sf1WOfPWU7AC54\n",
       "Dj93sXV40nc7/vqEhNXqtx0i0IheEzTJCMc8djvX2xLngacZZovbIA2A3s6DSBMa4EhhU9IkeEG3\n",
       "w54yFSbx4YHggM6NJKJagknkZcN0ktv4odlz+xScBdIMrd/1ZiwPz0g7X6MacSCp7KN9gh/a7hHF\n",
       "f7OLB+InUpY5uSFEKPV1YbvLUF+1JnBt2j44Zzo79+IWLKPhHb0g2ZLm42EcYJBlVbIZcZVuWIFe\n",
       "y91A8F4nQRJRbdeSbIq5nq0y8OMXtONdUoCeja+Y22Tgk2jpNpKEaLuWyXQ5Kk2aYNqkAye5S46F\n",
       "TDRZGsq46h1pyrSMfnn+TRhrHKznBkUmf5aktE8pZQ6DyccwUWpMa5w1sxxUgiiuEl1LmjJ/37lK\n",
       "RkOimtmCb9VhCJXr6uPXQYPc9UyJiBbxDwyk1t6EhugvAAAAAElFTkSuQmCC\n",
       "\" style=\"display:inline;vertical-align:middle;\" /></a><br>(see <a class=\"ProveItLink\" href=\"../../../__pv_it/theorems/bb3e1abe350064c7ee673d62e43121f70ee7c3430/dependencies.ipynb\">dependencies</a>)<br>"
      ],
      "text/plain": [
       "<IPython.core.display.HTML object>"
      ]
     },
     "metadata": {},
     "output_type": "display_data"
    }
   ],
   "source": [
    "%proving reduce_0_repeats"
   ]
  },
  {
   "cell_type": "code",
   "execution_count": null,
   "metadata": {},
   "outputs": [],
   "source": []
  }
 ],
 "metadata": {
  "kernelspec": {
   "display_name": "Python 3",
   "language": "python",
   "name": "python3"
  }
 },
 "nbformat": 4,
 "nbformat_minor": 0
}