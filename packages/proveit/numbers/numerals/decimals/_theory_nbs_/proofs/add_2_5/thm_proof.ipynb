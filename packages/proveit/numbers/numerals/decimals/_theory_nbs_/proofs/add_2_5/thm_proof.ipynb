{
 "cells": [
  {
   "cell_type": "markdown",
   "metadata": {},
   "source": [
    "Proof of <a class=\"ProveItLink\" href=\"../../../../../../_theory_nbs_/theory.ipynb\">proveit</a>.<a class=\"ProveItLink\" href=\"../../../../../_theory_nbs_/theory.ipynb\">numbers</a>.<a class=\"ProveItLink\" href=\"../../../../_theory_nbs_/theory.ipynb\">numerals</a>.<a class=\"ProveItLink\" href=\"../../theory.ipynb\">decimals</a>.<a class=\"ProveItLink\" href=\"../../theorems.ipynb#add_2_5\">add_2_5</a> theorem\n",
    "========"
   ]
  },
  {
   "cell_type": "code",
   "execution_count": 1,
   "metadata": {},
   "outputs": [],
   "source": [
    "import proveit\n",
    "theory = proveit.Theory() # the theorem's theory"
   ]
  },
  {
   "cell_type": "code",
   "execution_count": 2,
   "metadata": {},
   "outputs": [
    {
     "data": {
      "text/html": [
       "With these <a href=\"allowed_presumptions.txt\">allowed</a>/<a href=\"disallowed_presumptions.txt\">disallowed</a> theorem/theory presumptions (e.g., to avoid circular dependencies), we begin our proof of<br><strong id=\"add_2_5\">add_2_5:</strong> <a class=\"ProveItLink\" href=\"../../../__pv_it/theorems/761f991852148979b5d4e9db838fa371a3f0876a0/expr.ipynb\"><img src=\"data:image/png;base64,iVBORw0KGgoAAAANSUhEUgAAAGIAAAAVBAMAAABPrCZEAAAAMFBMVEX///8AAAAAAAAAAAAAAAAA\n",
       "AAAAAAAAAAAAAAAAAAAAAAAAAAAAAAAAAAAAAAAAAAAv3aB7AAAAD3RSTlMAInZUiRDNmWbv3US7\n",
       "qzJazP2FAAAACXBIWXMAAA7EAAAOxAGVKw4bAAABd0lEQVQ4y2NgYBBgwA5wiTMwGWCK8TEwBDJs\n",
       "whCWCABTJgwM4mXnUKU4v2UtZWBqQNdh/////wkMrAkMjAcY/DegSHHNXwI0LhVdh095eZUBA3sD\n",
       "A68AA+cEiNgOCMULJtvRdTgAnQN0ABB9ZeD9CBEzQtbBGYCmA+jjCwwMZkD5BQy8/7DoYMPwCAPL\n",
       "AwaGEojDP6DqaPIFSrFcwNAhA8QZYNZ7BRQdPAGMvxkYOBJAbPZVYADRfRuIF4NZaxlQdADBKQYG\n",
       "5gnoVjCCRGaDzTkAIqtWrZq5ahVUc70AA98HDG8kwHT0MqDacQyo4wEDN4YdXAegrmJ2YBBE0TGL\n",
       "geE+UHgBuj/iQeQhIH7CwKCKogMYVXOAPj+Absf+AiDhC/TP8vLyBSg6xBmYpgJNd8BIWCCRV0DX\n",
       "ARNYAooOxvLrwPjm2oCuQxKUzrkeIAsZIXOksGcPjgJk3g5kTgWOHHUQV1ZjPIBDIgaXDh5c2ZZR\n",
       "AYeEInZhAPH2VccOt/+dAAAAAElFTkSuQmCC\n",
       "\" style=\"display:inline;vertical-align:middle;\" /></a><br>(see <a class=\"ProveItLink\" href=\"../../../__pv_it/theorems/4ebc975b291eba6feaf1e4ef96ce565e5817e2b60/dependencies.ipynb\">dependencies</a>)<br>"
      ],
      "text/plain": [
       "<IPython.core.display.HTML object>"
      ]
     },
     "metadata": {},
     "output_type": "display_data"
    },
    {
     "name": "stdout",
     "output_type": "stream",
     "text": [
      "add_2_5 may now be readily provable (assuming required theorems are usable).  Simply execute \"%qed\".\n"
     ]
    }
   ],
   "source": [
    "%proving add_2_5"
   ]
  },
  {
   "cell_type": "code",
   "execution_count": null,
   "metadata": {},
   "outputs": [],
   "source": []
  }
 ],
 "metadata": {
  "kernelspec": {
   "display_name": "Python 3",
   "language": "python",
   "name": "python3"
  }
 },
 "nbformat": 4,
 "nbformat_minor": 0
}