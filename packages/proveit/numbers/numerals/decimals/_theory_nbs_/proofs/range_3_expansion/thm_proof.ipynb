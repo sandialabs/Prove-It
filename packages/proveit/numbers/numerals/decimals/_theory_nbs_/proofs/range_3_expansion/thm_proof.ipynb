{
 "cells": [
  {
   "cell_type": "markdown",
   "metadata": {},
   "source": [
    "Proof of <a class=\"ProveItLink\" href=\"../../../../../../_theory_nbs_/theory.ipynb\">proveit</a>.<a class=\"ProveItLink\" href=\"../../../../../_theory_nbs_/theory.ipynb\">numbers</a>.<a class=\"ProveItLink\" href=\"../../../../_theory_nbs_/theory.ipynb\">numerals</a>.<a class=\"ProveItLink\" href=\"../../theory.ipynb\">decimals</a>.<a class=\"ProveItLink\" href=\"../../theorems.ipynb#range_3_expansion\">range_3_expansion</a> theorem\n",
    "========"
   ]
  },
  {
   "cell_type": "code",
   "execution_count": 1,
   "metadata": {},
   "outputs": [],
   "source": [
    "import proveit\n",
    "theory = proveit.Theory() # the theorem's theory"
   ]
  },
  {
   "cell_type": "code",
   "execution_count": 2,
   "metadata": {},
   "outputs": [
    {
     "data": {
      "text/html": [
       "With these <a href=\"allowed_presumptions.txt\">allowed</a>/<a href=\"disallowed_presumptions.txt\">disallowed</a> theorem/theory presumptions (e.g., to avoid circular dependencies), we begin our proof of<br><strong id=\"range_3_expansion\">range_3_expansion:</strong> <a class=\"ProveItLink\" href=\"../../../__pv_it/theorems/c773a1a42d7f4896e1b3d3a0e48d736edb152af00/expr.ipynb\"><img src=\"data:image/png;base64,iVBORw0KGgoAAAANSUhEUgAAAoEAAAAYBAMAAAB3izopAAAAMFBMVEX///8AAAAAAAAAAAAAAAAA\n",
       "AAAAAAAAAAAAAAAAAAAAAAAAAAAAAAAAAAAAAAAAAAAv3aB7AAAAD3RSTlMAq1RmmUTNIjK7EInv\n",
       "3XZ/CtNrAAAACXBIWXMAAA7EAAAOxAGVKw4bAAAGJ0lEQVRYw+1ZTWhcVRQ+85eZeTOZDtSFSJAp\n",
       "/oE/ZIqpoIs6YhqVUpil1VBHXQhdPVGQiG2juFCMZIKLmizkdVOohTTpslIMhYI/VKelhdoamGig\n",
       "4EKySVuyMN6fc+8979337gyMO3vhvrzzvu+e8825P+/eF4D/pOSxUjv0QBc/3oHffxxk+8mw8Tiw\n",
       "BD9Zht+/7D7KH1ipDbmuTazU4h0c6j8Osg8lwybQoBISuMKtElHlTx4aMIHpJVkBst8FaFca8Cfl\n",
       "SOQJEEioFG6wZ3V3BOMXCguCHdOCSsBAIQn7zwEi69BLQiL3/YmvQbhVIvbxp+8MmMGTWAGWZ2p4\n",
       "P7wEQwHhCMRrSYSWExNb7HrYHcH4hUpLsg/HyogEohJK918ARG5CDwmJ3Hwbvm9KtyjiY/l0sPIi\n",
       "VoALBwN9Dxk62ASSJf2cU/cVLn/MHSHkV7LHYmVEAlEJ5UcWoF8JidyUD+UV6RZF8GyWagNmcAUr\n",
       "5La0zctPRIBAynTOdan8cuAKEPEr2HaLlZhARMIbQf8SErnlLUjdkW5RRIaldmjQZbAlK+uLjrJF\n",
       "eZtMC4E8mih/yLkQRvwKttWCStCBiITz0L+ERG6qA6m70q0ScWl19ecBM5hdkhUyI5cbaC/yKbWs\n",
       "KYjsB0Qs+aWqIwDxC4tryLZaUAk6kJGw+9J9IBFvvd5DgosLwxvSrRLxMsDCgBk0I2JHV9lLk+zm\n",
       "GcORCO86gVjyMy1XBOMXGuW6ZMsWB1Z5uazhaCAi4R81KEu5lV4SHFyY7Uq3SsS7kDe59+QWcVp0\n",
       "KT6b1uhjCpfFdEpNVoBj02gXahPs5klDlsgVQMSSn15xZVD7hYq/oybZVgsqQQcyEvJ3AZFPsq0e\n",
       "ElxcuIxulYhiUGry3I3zHixJ2nV+KWKD63ouNRUOcHr5AZ1iKDdlBRhVtge/8N4yP08iFwGR7Orq\n",
       "72z9qGr5hQ1XBrVf1nw0kGyrBZWgAxkJ6Q2FBOVuDwkubraNbpWIdFe8SIp7piOCitGfcQL/NkQ9\n",
       "ALklK4PntZ3mmiajS/NFQMQaADnnGDxPUnQA2VYLKkEHmoy8jQQyGvSQ4OLuBnSrRbT2iuXD2htY\n",
       "GdyHf3kfbPLZctiaxXPaHqoyh0+ZxnNqWkjEnkIdVwbnyDS9iWzZgqyDVIIOZCQUqxp50wO3BAeX\n",
       "HXw+kG61iLM8EemRszyra2IxXK+ZDKLBSwdxnsHneAbPqnhdWUHMG3l/pslG6LPcgeRI5BtAxF7G\n",
       "24ZLSwBhv5DfRHYmeg6gEnQgI6HcVYi3WQK3BAf3C4C/pFst4iORb/4IFsVIzMqNlcwgN16ZZ6We\n",
       "byHeVhPrYTXm1d5C/Dp5P5uvyz3FGeEMEb4JEAiVX7qjtiKc691WjbRF/UJmg+6fQpvGakwgI+FY\n",
       "UyGFjffAJcHFzV8dH+9It1pESiyA4/zyoRjz35YaJoNo8AHaRrytzuIH1bm8I6tagPl96ml2c43P\n",
       "rRtkaf4SECHyUyO3dzJaU3Gv8puGuqwGYb+Q4uE5e7gZ/TzQiQlkJMhXjEB21t0SHNzh7e3tFroN\n",
       "i/hKD361sSoCMbiLKsez8/M/zjPyFPtlnwN5XfOarYZe33mxsDwOBhmejjkQiHIENDd80AgifsUE\n",
       "O6Jb0HLdDkQkvAD9S+jFFW4jIn4Qi96WaLLDJxlkhpzFhTbifBDkG3lfz2J1xt41VDO2Ppjzca4Q\n",
       "etDP1e2vAkv2eQ5CflO154PQpwxaxuxAWkK6+hb0K6E3V7gNi/DYUnqanSwbHvMwQ9/FM2DeJAzH\n",
       "DE599mkAf+s13Bf1t5PE5iThmfedRo4nfXxua264LNLWRX+2dgXZMR+UqAQMpCUML7T6ltCbO2WL\n",
       "KLB9zUzNe9AvXABYoxlc05zjwHDM4K/b28S/1xZ170vEVvEr/KKRUwmSZM4rNtClrb12dr1peixa\n",
       "qIRTEJaQWff7ltCbe9wWIcarmABp9T2jGP248TrZD5I88XIUK7XZASymo7vxkm71dwI/ati3kmET\n",
       "aFAJCVzhNiyiuIstcDmx93pt6NUVk0FliMnvmzMJte8Vvl7zJS0jbuvZ9cBkUBminAs32nMvb+5i\n",
       "/6fQizsu/N/LvwRSOtAKL/GNAAAAAElFTkSuQmCC\n",
       "\" style=\"display:inline;vertical-align:middle;\" /></a><br>(see <a class=\"ProveItLink\" href=\"../../../__pv_it/theorems/fa38b6530b6444dd20378cab800c3c2fb2a3638c0/dependencies.ipynb\">dependencies</a>)<br>"
      ],
      "text/plain": [
       "<IPython.core.display.HTML object>"
      ]
     },
     "metadata": {},
     "output_type": "display_data"
    }
   ],
   "source": [
    "%proving range_3_expansion"
   ]
  },
  {
   "cell_type": "code",
   "execution_count": null,
   "metadata": {},
   "outputs": [],
   "source": []
  }
 ],
 "metadata": {
  "kernelspec": {
   "display_name": "Python 3",
   "language": "python",
   "name": "python3"
  }
 },
 "nbformat": 4,
 "nbformat_minor": 0
}