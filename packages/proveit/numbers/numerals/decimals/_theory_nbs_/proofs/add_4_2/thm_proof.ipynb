{
 "cells": [
  {
   "cell_type": "markdown",
   "metadata": {},
   "source": [
    "Proof of <a class=\"ProveItLink\" href=\"../../../../../../_theory_nbs_/theory.ipynb\">proveit</a>.<a class=\"ProveItLink\" href=\"../../../../../_theory_nbs_/theory.ipynb\">numbers</a>.<a class=\"ProveItLink\" href=\"../../../../_theory_nbs_/theory.ipynb\">numerals</a>.<a class=\"ProveItLink\" href=\"../../theory.ipynb\">decimals</a>.<a class=\"ProveItLink\" href=\"../../theorems.ipynb#add_4_2\">add_4_2</a> theorem\n",
    "========"
   ]
  },
  {
   "cell_type": "code",
   "execution_count": 1,
   "metadata": {},
   "outputs": [],
   "source": [
    "import proveit\n",
    "theory = proveit.Theory() # the theorem's theory"
   ]
  },
  {
   "cell_type": "code",
   "execution_count": 2,
   "metadata": {},
   "outputs": [
    {
     "data": {
      "text/html": [
       "With these <a href=\"allowed_presumptions.txt\">allowed</a>/<a href=\"disallowed_presumptions.txt\">disallowed</a> theorem/theory presumptions (e.g., to avoid circular dependencies), we begin our proof of<br><strong id=\"add_4_2\">add_4_2:</strong> <a class=\"ProveItLink\" href=\"../../../__pv_it/theorems/4123876726a1fa650bd4e3c223d9e8d6dce5611e0/expr.ipynb\"><img src=\"data:image/png;base64,iVBORw0KGgoAAAANSUhEUgAAAGEAAAAVBAMAAACkm51HAAAAMFBMVEX///8AAAAAAAAAAAAAAAAA\n",
       "AAAAAAAAAAAAAAAAAAAAAAAAAAAAAAAAAAAAAAAAAAAv3aB7AAAAD3RSTlMAInZUiRDNmWbv3US7\n",
       "qzJazP2FAAAACXBIWXMAAA7EAAAOxAGVKw4bAAABdUlEQVQ4y3WTv0vDQBTHv0mbNq2lBCcpDnVy\n",
       "lVJczSA4KfkDHFwEQQUHIVoUsjkqCEIRUXALSItTF6G6KQ4qTkJpBkFxEoeCPyDeXRRyL7kb7t59\n",
       "333uvXc/AFhIbyod+oTCca4i6rx7kTXNXQmge4m12ek5wFjg5pnsGUX2G1ikgLaMJyDPd9L/iU40\n",
       "3ANNYIcSuSpugQI3X1f/tFo0HDvoWyg4hJgSwiTvbEKw2P0AOVrItejXeVIWIVhrsTrvCHHwPN4G\n",
       "lpg1ggRR/gBMcSh5XzRODzzsA6c8qSRRZCsye3IIIwQ2HRyyvayIaPh+0/ejY9vicd4J8QXstjkx\n",
       "jEQMkycxRGJgwAiPZ3XR630+ykQdmoXMCanjRsS4EiuO5BhlG7oDs0vvg9UBzAr7RyYqrttgu9uE\n",
       "KNkGO6s3UWf4IBGtMGQ5F9v0mcxsB0wO4lItPqmkP3ZzLT7rxCcbiv9xqfo4WlfhmFcRJdW31aoK\n",
       "x1i6/AvvEVtOYQkj3wAAAABJRU5ErkJggg==\n",
       "\" style=\"display:inline;vertical-align:middle;\" /></a><br>(see <a class=\"ProveItLink\" href=\"../../../__pv_it/theorems/863446cfb0948b5c81eff42f38af324236cb76b60/dependencies.ipynb\">dependencies</a>)<br>"
      ],
      "text/plain": [
       "<IPython.core.display.HTML object>"
      ]
     },
     "metadata": {},
     "output_type": "display_data"
    },
    {
     "name": "stdout",
     "output_type": "stream",
     "text": [
      "add_4_2 may now be readily provable (assuming required theorems are usable).  Simply execute \"%qed\".\n"
     ]
    }
   ],
   "source": [
    "%proving add_4_2"
   ]
  },
  {
   "cell_type": "code",
   "execution_count": null,
   "metadata": {},
   "outputs": [],
   "source": []
  }
 ],
 "metadata": {
  "kernelspec": {
   "display_name": "Python 3",
   "language": "python",
   "name": "python3"
  }
 },
 "nbformat": 4,
 "nbformat_minor": 0
}