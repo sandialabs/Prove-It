{
 "cells": [
  {
   "cell_type": "markdown",
   "metadata": {},
   "source": [
    "Proof of <a class=\"ProveItLink\" href=\"../../../../../../_theory_nbs_/theory.ipynb\">proveit</a>.<a class=\"ProveItLink\" href=\"../../../../../_theory_nbs_/theory.ipynb\">numbers</a>.<a class=\"ProveItLink\" href=\"../../../../_theory_nbs_/theory.ipynb\">numerals</a>.<a class=\"ProveItLink\" href=\"../../theory.ipynb\">decimals</a>.<a class=\"ProveItLink\" href=\"../../theorems.ipynb#mult_6_5\">mult_6_5</a> theorem\n",
    "========"
   ]
  },
  {
   "cell_type": "code",
   "execution_count": 1,
   "metadata": {},
   "outputs": [],
   "source": [
    "import proveit\n",
    "theory = proveit.Theory() # the theorem's theory"
   ]
  },
  {
   "cell_type": "code",
   "execution_count": 2,
   "metadata": {},
   "outputs": [
    {
     "data": {
      "text/html": [
       "With these <a href=\"allowed_presumptions.txt\">allowed</a>/<a href=\"disallowed_presumptions.txt\">disallowed</a> theorem/theory presumptions (e.g., to avoid circular dependencies), we begin our proof of<br><strong id=\"mult_6_5\">mult_6_5:</strong> <a class=\"ProveItLink\" href=\"../../../__pv_it/theorems/e81bb40b64f774128f560bcec89e5eaa2b479e1b0/expr.ipynb\"><img src=\"data:image/png;base64,iVBORw0KGgoAAAANSUhEUgAAAGEAAAAVBAMAAACkm51HAAAAMFBMVEX///8AAAAAAAAAAAAAAAAA\n",
       "AAAAAAAAAAAAAAAAAAAAAAAAAAAAAAAAAAAAAAAAAAAv3aB7AAAAD3RSTlMAInZUiRDNmWbv3US7\n",
       "qzJazP2FAAAACXBIWXMAAA7EAAAOxAGVKw4bAAABtElEQVQ4y32TP2gTYRTAf5f08udyaTMpOKWT\n",
       "k/QGcU2QjBbOQUQo5BAKwUE6BCMqNLj4Z7FLl9Y2kdZFEA43uxhFOpQW3ZzUw9HBBqIx4GDfXcwf\n",
       "vzvuwX3ce+/7ve/9+T6gQEgiTFOSsP5TZ+Eyr2KJ8/JVKt5IzfZvPCfRVHdplXuu7Dsrp+sOnHLz\n",
       "7ZHLaO3asKwSV0n2SFn6M0hLuOuYnZErH6wPVGLB0vs8hkuSBSR/TbmGRNZWiNcufY6gZHMBzLUQ\n",
       "kQoVQnLAbzi2qEvAmxfvToj7i9KFmY8hYq+p+0STGszVyI5bbNraH8g4/v+dF768DOzfPnvaTyGK\n",
       "7EC1S3p9KtqBpLAWzqoXEGU2hWiTkbhUnaFvtcBsNzy41hUh3hR9Ys4hM/BHsSLLvhAeOfWMH/DB\n",
       "kjpKlp+V+e+MQDbgq6TQVur4awtxCE9s3olb6hjHLMNTqbyjnLElWdmP4BYsivqea+NenSYhXUiX\n",
       "FeKhPw/D0rfhu6gzjS+TK9f4JPM2XIXINeQm6vVzMivDi7rQZ2Iue2Ylyno77n28jbBpnThiKcJm\n",
       "xj5brRi2zcfsPwEe7mr3zqw/SAAAAABJRU5ErkJggg==\n",
       "\" style=\"display:inline;vertical-align:middle;\" /></a><br>(see <a class=\"ProveItLink\" href=\"../../../__pv_it/theorems/0d6b9c4c3b8121b91fe86cd8fd8571ff362cae0e0/dependencies.ipynb\">dependencies</a>)<br>"
      ],
      "text/plain": [
       "<IPython.core.display.HTML object>"
      ]
     },
     "metadata": {},
     "output_type": "display_data"
    },
    {
     "name": "stdout",
     "output_type": "stream",
     "text": [
      "mult_6_5 may now be readily provable (assuming required theorems are usable).  Simply execute \"%qed\".\n"
     ]
    }
   ],
   "source": [
    "%proving mult_6_5"
   ]
  },
  {
   "cell_type": "code",
   "execution_count": null,
   "metadata": {},
   "outputs": [],
   "source": []
  }
 ],
 "metadata": {
  "kernelspec": {
   "display_name": "Python 3",
   "language": "python",
   "name": "python3"
  }
 },
 "nbformat": 4,
 "nbformat_minor": 0
}