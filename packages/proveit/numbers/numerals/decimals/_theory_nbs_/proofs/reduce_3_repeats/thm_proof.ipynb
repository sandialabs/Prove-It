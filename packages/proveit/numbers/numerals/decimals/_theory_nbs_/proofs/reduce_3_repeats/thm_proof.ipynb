{
 "cells": [
  {
   "cell_type": "markdown",
   "metadata": {},
   "source": [
    "Proof of <a class=\"ProveItLink\" href=\"../../../../../../_theory_nbs_/theory.ipynb\">proveit</a>.<a class=\"ProveItLink\" href=\"../../../../../_theory_nbs_/theory.ipynb\">numbers</a>.<a class=\"ProveItLink\" href=\"../../../../_theory_nbs_/theory.ipynb\">numerals</a>.<a class=\"ProveItLink\" href=\"../../theory.ipynb\">decimals</a>.<a class=\"ProveItLink\" href=\"../../theorems.ipynb#reduce_3_repeats\">reduce_3_repeats</a> theorem\n",
    "========"
   ]
  },
  {
   "cell_type": "code",
   "execution_count": 1,
   "metadata": {},
   "outputs": [],
   "source": [
    "import proveit\n",
    "theory = proveit.Theory() # the theorem's theory"
   ]
  },
  {
   "cell_type": "code",
   "execution_count": 2,
   "metadata": {},
   "outputs": [
    {
     "data": {
      "text/html": [
       "With these <a href=\"allowed_presumptions.txt\">allowed</a>/<a href=\"disallowed_presumptions.txt\">disallowed</a> theorem/theory presumptions (e.g., to avoid circular dependencies), we begin our proof of<br><strong id=\"reduce_3_repeats\">reduce_3_repeats:</strong> <a class=\"ProveItLink\" href=\"../../../__pv_it/theorems/daebad05880e50c6dfbe1afed272a4b30696321d0/expr.ipynb\"><img src=\"data:image/png;base64,iVBORw0KGgoAAAANSUhEUgAAARsAAAAVBAMAAACEflfWAAAAMFBMVEX///8AAAAAAAAAAAAAAAAA\n",
       "AAAAAAAAAAAAAAAAAAAAAAAAAAAAAAAAAAAAAAAAAAAv3aB7AAAAD3RSTlMAq1RmmUTNIjK7EInv\n",
       "3XZ/CtNrAAAACXBIWXMAAA7EAAAOxAGVKw4bAAACvklEQVRIx6WWv4vUQBTH3ybZHzdxlwMrRSSg\n",
       "lc0eItj442DxB+jJ4h/gbSdYxf5W1lYLz8JCC0lxHGpxLtfJgaQURFlBcBEWsqIIFouFeKKNb35k\n",
       "MzPJZIp95Htc3uTzzds3M0kA8lEXWiBCg20pEBYPfRFaIG4YbEsBqmV6ckwecYZcJbH3NSwvp7WS\n",
       "S5VbUoDqAj25KY9sC5mjFpBPlvbcymW27QDqLp3VTXmgI2SOswCvLOWcymU6dgBViwD8QB6Ihczx\n",
       "EKAdlbsfyI3HdgDl4oTVlDnucZXEL4AH9BdUQr2z2Xzqi8diyQCqd5PJWznvDbnI7PD9XZ7amT7b\n",
       "kxpIaDn0dvUxQH+g2grMX9ZuZ7SUAKrLAE+KyvRgmqzx1GrrqDeSHiD/sJyE/tcf0IrU23LMZc1Y\n",
       "m9D4kNoWWkoA1W2oK7+kGXCdhvPRQZZxQ/dvZUUrh23b+lhvToo5+lIxWkoA1VLkd5U11eUawEWR\n",
       "aYCnTDzBctZZd6CvNyfFGj/1pWqylAAqJ6lBUTkA77Ncoi/ldmAoR2DVuKAcg+UcYFDvHP6ZXUof\n",
       "tOlkQXUfXghgPSTyxn0M2GDDZAnMGWlrx2yZAQzaxYdhKzxUE3tnKWEijyoxDIFg5nn3CPgAWUFn\n",
       "QHRdW8p4hcDA1fe/yVIGGLSBK9mFpw3BiR3n/NmKqwG8xClu37sK14H8xkE8xaMZkDcgb3Qc40eK\n",
       "sX2thMlSBhhUYf3eT7nGiIlcS46fxB5/BtiaOR0EJvhbmqv0IFemjKFknS3Jj+zAKwQGza5WjslS\n",
       "BjKoEc8/R8ZCPE5kz9XI9lkhXdHPDVos+zK04fc87WUmImu6b/3K8ctemBZL5cXtfXv9Y77oQi7+\n",
       "jMn24461nOyKgjdZuSUFil9/ZJOLfxZl+cRaTpK/t2prtlR6oMYdoQXiu8G2FED9B4Oy+G3T1NwH\n",
       "AAAAAElFTkSuQmCC\n",
       "\" style=\"display:inline;vertical-align:middle;\" /></a><br>(see <a class=\"ProveItLink\" href=\"../../../__pv_it/theorems/02b09853752843a40dfcf4200fe36ddad38d12b10/dependencies.ipynb\">dependencies</a>)<br>"
      ],
      "text/plain": [
       "<IPython.core.display.HTML object>"
      ]
     },
     "metadata": {},
     "output_type": "display_data"
    }
   ],
   "source": [
    "%proving reduce_3_repeats"
   ]
  },
  {
   "cell_type": "code",
   "execution_count": null,
   "metadata": {},
   "outputs": [],
   "source": []
  }
 ],
 "metadata": {
  "kernelspec": {
   "display_name": "Python 3",
   "language": "python",
   "name": "python3"
  }
 },
 "nbformat": 4,
 "nbformat_minor": 0
}