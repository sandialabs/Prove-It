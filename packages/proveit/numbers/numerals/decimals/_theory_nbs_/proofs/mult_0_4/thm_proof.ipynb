{
 "cells": [
  {
   "cell_type": "markdown",
   "metadata": {},
   "source": [
    "Proof of <a class=\"ProveItLink\" href=\"../../../../../../_theory_nbs_/theory.ipynb\">proveit</a>.<a class=\"ProveItLink\" href=\"../../../../../_theory_nbs_/theory.ipynb\">numbers</a>.<a class=\"ProveItLink\" href=\"../../../../_theory_nbs_/theory.ipynb\">numerals</a>.<a class=\"ProveItLink\" href=\"../../theory.ipynb\">decimals</a>.<a class=\"ProveItLink\" href=\"../../theorems.ipynb#mult_0_4\">mult_0_4</a> theorem\n",
    "========"
   ]
  },
  {
   "cell_type": "code",
   "execution_count": 1,
   "metadata": {},
   "outputs": [],
   "source": [
    "import proveit\n",
    "theory = proveit.Theory() # the theorem's theory"
   ]
  },
  {
   "cell_type": "code",
   "execution_count": 2,
   "metadata": {},
   "outputs": [
    {
     "data": {
      "text/html": [
       "With these <a href=\"allowed_presumptions.txt\">allowed</a>/<a href=\"disallowed_presumptions.txt\">disallowed</a> theorem/theory presumptions (e.g., to avoid circular dependencies), we begin our proof of<br><strong id=\"mult_0_4\">mult_0_4:</strong> <a class=\"ProveItLink\" href=\"../../../__pv_it/theorems/3a6a71a496f3bcef22ba029227cc74c287c107e60/expr.ipynb\"><img src=\"data:image/png;base64,iVBORw0KGgoAAAANSUhEUgAAAFcAAAAVBAMAAADBdm84AAAAMFBMVEX///8AAAAAAAAAAAAAAAAA\n",
       "AAAAAAAAAAAAAAAAAAAAAAAAAAAAAAAAAAAAAAAAAAAv3aB7AAAAD3RSTlMAInZUiRDNmWbv3US7\n",
       "qzJazP2FAAAACXBIWXMAAA7EAAAOxAGVKw4bAAABaUlEQVQoz3WTMUvDUBSFT5ukSZOSOruYToIg\n",
       "ZBDXhuKo0E0UoQURHCMUEae4KLrYXZRKN0EQ/4DRWbF/oNrZRdGKLoL3trRpXl7u9Pj4ODk3eQEw\n",
       "hcRI0HCybpLdpskLgFrZmQC2j2yQ0JZm6XFaHdjE+sSDzQ6wJbo5V7sE9ABGC2oY8TmSj0T5BFgG\n",
       "8kChA+U7anFIcr4qyE9AuYpFoOjD/hpjNUdyTiz9A7y7aAA1kn/HuMSy2om7GssBtoEZD/bnCGcC\n",
       "lo06n/eveK6Z9kl20B7K/XELsKw048kD2cMZ1fBgcXKN4w4Gsv0h1CD5zmGZFlR4QdOnCGcgW83k\n",
       "gmWXaxRCGKNXZ3W7r+celFa8Mx6B0yoeaJsm9HoUkucFQyH5GNgFVujUxlov4kUSdU+QTVe7AN7o\n",
       "tFp5ibD+/OfAvBFkrTFPeWZPdhWn5TfU8GV0L+U+30tYJkyRNySskPZf0WdITEmu/gMUB1fViNK8\n",
       "3AAAAABJRU5ErkJggg==\n",
       "\" style=\"display:inline;vertical-align:middle;\" /></a><br>(see <a class=\"ProveItLink\" href=\"../../../__pv_it/theorems/43a4aa92bbd35a1ee88b3047e246f443fe139ed10/dependencies.ipynb\">dependencies</a>)<br>"
      ],
      "text/plain": [
       "<IPython.core.display.HTML object>"
      ]
     },
     "metadata": {},
     "output_type": "display_data"
    },
    {
     "name": "stdout",
     "output_type": "stream",
     "text": [
      "mult_0_4 may now be readily provable (assuming required theorems are usable).  Simply execute \"%qed\".\n"
     ]
    }
   ],
   "source": [
    "%proving mult_0_4"
   ]
  },
  {
   "cell_type": "code",
   "execution_count": null,
   "metadata": {},
   "outputs": [],
   "source": []
  }
 ],
 "metadata": {
  "kernelspec": {
   "display_name": "Python 3",
   "language": "python",
   "name": "python3"
  }
 },
 "nbformat": 4,
 "nbformat_minor": 0
}