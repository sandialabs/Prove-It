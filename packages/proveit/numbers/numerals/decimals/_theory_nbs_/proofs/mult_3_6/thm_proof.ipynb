{
 "cells": [
  {
   "cell_type": "markdown",
   "metadata": {},
   "source": [
    "Proof of <a class=\"ProveItLink\" href=\"../../../../../../_theory_nbs_/theory.ipynb\">proveit</a>.<a class=\"ProveItLink\" href=\"../../../../../_theory_nbs_/theory.ipynb\">numbers</a>.<a class=\"ProveItLink\" href=\"../../../../_theory_nbs_/theory.ipynb\">numerals</a>.<a class=\"ProveItLink\" href=\"../../theory.ipynb\">decimals</a>.<a class=\"ProveItLink\" href=\"../../theorems.ipynb#mult_3_6\">mult_3_6</a> theorem\n",
    "========"
   ]
  },
  {
   "cell_type": "code",
   "execution_count": 1,
   "metadata": {},
   "outputs": [],
   "source": [
    "import proveit\n",
    "theory = proveit.Theory() # the theorem's theory"
   ]
  },
  {
   "cell_type": "code",
   "execution_count": 2,
   "metadata": {},
   "outputs": [
    {
     "data": {
      "text/html": [
       "With these <a href=\"allowed_presumptions.txt\">allowed</a>/<a href=\"disallowed_presumptions.txt\">disallowed</a> theorem/theory presumptions (e.g., to avoid circular dependencies), we begin our proof of<br><strong id=\"mult_3_6\">mult_3_6:</strong> <a class=\"ProveItLink\" href=\"../../../__pv_it/theorems/58e29019b44a5a15b6104b32d1fb771ddd13d7470/expr.ipynb\"><img src=\"data:image/png;base64,iVBORw0KGgoAAAANSUhEUgAAAGEAAAAVBAMAAACkm51HAAAAMFBMVEX///8AAAAAAAAAAAAAAAAA\n",
       "AAAAAAAAAAAAAAAAAAAAAAAAAAAAAAAAAAAAAAAAAAAv3aB7AAAAD3RSTlMAInZUiRDNmWbv3US7\n",
       "qzJazP2FAAAACXBIWXMAAA7EAAAOxAGVKw4bAAABiklEQVQ4y32TO0gDQRCGvzxO8zaFlY2xSiVY\n",
       "iG0UhFTKVVaKNoJgk0KMCuJho52KaGMjiCCCECy0jYKFDzBg4aOQFFZWSkhAG529wzPklptiYf7d\n",
       "7+af2T0gjSc0UlME+7zaqS/RD5352/88PDxK0PIcSx2CMZwvyTqFUSDnFgrM8gLTrcDEfB3a4UFW\n",
       "i2CNyam/rbYMd7DmNS/EOoxBFOJ7dLhEzlRr1NQRIzYx4JxzjV87lSwdkbtiAeZUGj9yd3bfstJd\n",
       "uKIjkj9Z6XdGzaH31d1pWGxDxHa5dKzixCVY+ZabOnBc/c3K+IFFk9CmrkZo6L4Ge3YeVV9QAzO+\n",
       "YaNE6kNHrBH6MhWRqpIQllhBuRLCIq6tsQPdfcpVR90h7Lixa4T2NX0YUjhpcSmWKo4rpyPpQzov\n",
       "62psQSKtbiViNd1HYtCQWbUPthLhTzgzWYV3yc6LTS8xv1yVlkotQPK58UTqsSh6rKp70F0+jz1S\n",
       "0KkLfv/HhUYLlP2IcY2W8P1tAxmv1uNz/hdHEWYpNwUjnQAAAABJRU5ErkJggg==\n",
       "\" style=\"display:inline;vertical-align:middle;\" /></a><br>(see <a class=\"ProveItLink\" href=\"../../../__pv_it/theorems/9fea526130c6279af704d1b8e50a33dbf3d80f540/dependencies.ipynb\">dependencies</a>)<br>"
      ],
      "text/plain": [
       "<IPython.core.display.HTML object>"
      ]
     },
     "metadata": {},
     "output_type": "display_data"
    },
    {
     "name": "stdout",
     "output_type": "stream",
     "text": [
      "mult_3_6 may now be readily provable (assuming required theorems are usable).  Simply execute \"%qed\".\n"
     ]
    }
   ],
   "source": [
    "%proving mult_3_6"
   ]
  },
  {
   "cell_type": "code",
   "execution_count": null,
   "metadata": {},
   "outputs": [],
   "source": []
  }
 ],
 "metadata": {
  "kernelspec": {
   "display_name": "Python 3",
   "language": "python",
   "name": "python3"
  }
 },
 "nbformat": 4,
 "nbformat_minor": 0
}