{
 "cells": [
  {
   "cell_type": "markdown",
   "metadata": {},
   "source": [
    "Proof of <a class=\"ProveItLink\" href=\"../../../../../../_theory_nbs_/theory.ipynb\">proveit</a>.<a class=\"ProveItLink\" href=\"../../../../../_theory_nbs_/theory.ipynb\">numbers</a>.<a class=\"ProveItLink\" href=\"../../../../_theory_nbs_/theory.ipynb\">numerals</a>.<a class=\"ProveItLink\" href=\"../../theory.ipynb\">decimals</a>.<a class=\"ProveItLink\" href=\"../../theorems.ipynb#add_4_8\">add_4_8</a> theorem\n",
    "========"
   ]
  },
  {
   "cell_type": "code",
   "execution_count": 1,
   "metadata": {},
   "outputs": [],
   "source": [
    "import proveit\n",
    "theory = proveit.Theory() # the theorem's theory"
   ]
  },
  {
   "cell_type": "code",
   "execution_count": 2,
   "metadata": {},
   "outputs": [
    {
     "data": {
      "text/html": [
       "With these <a href=\"allowed_presumptions.txt\">allowed</a>/<a href=\"disallowed_presumptions.txt\">disallowed</a> theorem/theory presumptions (e.g., to avoid circular dependencies), we begin our proof of<br><strong id=\"add_4_8\">add_4_8:</strong> <a class=\"ProveItLink\" href=\"../../../__pv_it/theorems/658c91ced8adff1e025e9c626261d8f03fd8b72a0/expr.ipynb\"><img src=\"data:image/png;base64,iVBORw0KGgoAAAANSUhEUgAAAGwAAAAVBAMAAABRZRb3AAAAMFBMVEX///8AAAAAAAAAAAAAAAAA\n",
       "AAAAAAAAAAAAAAAAAAAAAAAAAAAAAAAAAAAAAAAAAAAv3aB7AAAAD3RSTlMAInZUiRDNmWbv3US7\n",
       "qzJazP2FAAAACXBIWXMAAA7EAAAOxAGVKw4bAAABhElEQVQ4y2NgYBBgwA4YGfABJgMcEtwK+LSZ\n",
       "gIjnaIIhLtUMDBqYil8FMDCIl51jYGBNAHHXokkXMPAaMLAFoImyXs8PYGA8wOC/gYG9AeRQmLYd\n",
       "EIqjAWQcRwGGbfoBDLwCDJwTGDhBvBe5UGEjCMVyAeyKqdi0cX5l4P3IYAbiOaBpY/4TAHJFBlbb\n",
       "FjDw/mMoAblRAE0bw/1PxUDSF5s2IOD6ADZRggFdG/v/hUCyDcxcBQYXkLS9V2BYDHIjhjYTmf/A\n",
       "6LTEYRswAGcDw00Aoq1q1aqZq1aBAhUYhvbA8HiPXRv7AbA2IQZ02ziB0fOZgWEndm29QAx05N67\n",
       "d39eQdEWD8Q3GBissPqN2YFBkOEQmDsXzTZg8j7IwNCD1bYnDAyq0ED+g6qNO5WBA5iQSzC0+Qsw\n",
       "MC4vL1/A8ArEq/l/CTUk35YDkzLDanRdd+fnNnD9//8/gYHrAbK4EUqGW4A736Cm1x3IHHAqxwUO\n",
       "4pSRwZdNY8gwEOQDXHmfSQC3JgDxfmKNlSPWlgAAAABJRU5ErkJggg==\n",
       "\" style=\"display:inline;vertical-align:middle;\" /></a><br>(see <a class=\"ProveItLink\" href=\"../../../__pv_it/theorems/0cd2c11fa2625f54dc34d94c18c738922e2302910/dependencies.ipynb\">dependencies</a>)<br>"
      ],
      "text/plain": [
       "<IPython.core.display.HTML object>"
      ]
     },
     "metadata": {},
     "output_type": "display_data"
    },
    {
     "name": "stdout",
     "output_type": "stream",
     "text": [
      "add_4_8 may now be readily provable (assuming required theorems are usable).  Simply execute \"%qed\".\n"
     ]
    }
   ],
   "source": [
    "%proving add_4_8"
   ]
  },
  {
   "cell_type": "code",
   "execution_count": null,
   "metadata": {},
   "outputs": [],
   "source": []
  }
 ],
 "metadata": {
  "kernelspec": {
   "display_name": "Python 3",
   "language": "python",
   "name": "python3"
  }
 },
 "nbformat": 4,
 "nbformat_minor": 0
}