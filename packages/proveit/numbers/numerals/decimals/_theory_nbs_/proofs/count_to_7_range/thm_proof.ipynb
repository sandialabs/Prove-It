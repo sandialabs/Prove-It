{
 "cells": [
  {
   "cell_type": "markdown",
   "metadata": {},
   "source": [
    "Proof of <a class=\"ProveItLink\" href=\"../../../../../../_theory_nbs_/theory.ipynb\">proveit</a>.<a class=\"ProveItLink\" href=\"../../../../../_theory_nbs_/theory.ipynb\">numbers</a>.<a class=\"ProveItLink\" href=\"../../../../_theory_nbs_/theory.ipynb\">numerals</a>.<a class=\"ProveItLink\" href=\"../../theory.ipynb\">decimals</a>.<a class=\"ProveItLink\" href=\"../../theorems.ipynb#count_to_7_range\">count_to_7_range</a> theorem\n",
    "========"
   ]
  },
  {
   "cell_type": "code",
   "execution_count": 1,
   "metadata": {},
   "outputs": [],
   "source": [
    "import proveit\n",
    "theory = proveit.Theory() # the theorem's theory"
   ]
  },
  {
   "cell_type": "code",
   "execution_count": 2,
   "metadata": {},
   "outputs": [
    {
     "data": {
      "text/html": [
       "With these <a href=\"allowed_presumptions.txt\">allowed</a>/<a href=\"disallowed_presumptions.txt\">disallowed</a> theorem/theory presumptions (e.g., to avoid circular dependencies), we begin our proof of<br><strong id=\"count_to_7_range\">count_to_7_range:</strong> <a class=\"ProveItLink\" href=\"../../../__pv_it/theorems/bf3e532ac622969f3f61fd6347120aa2568713ab0/expr.ipynb\"><img src=\"data:image/png;base64,iVBORw0KGgoAAAANSUhEUgAAAQ4AAAAVBAMAAABF+R16AAAAMFBMVEX///8AAAAAAAAAAAAAAAAA\n",
       "AAAAAAAAAAAAAAAAAAAAAAAAAAAAAAAAAAAAAAAAAAAv3aB7AAAAD3RSTlMAInZUiRDNmWbv3US7\n",
       "qzJazP2FAAAACXBIWXMAAA7EAAAOxAGVKw4bAAADGklEQVRIx6WWT0hUQRzHf8/17bq7rm4QSNDh\n",
       "dYgiiDyUUJfdQ+TJfHU28ihFtAfx0SF6BXlKCsQObaGwhWEJ3aLb6qHoD+XNCjb34MmLhblRodv8\n",
       "+c282ZlZU5zDvC8z8z7zfTO/+c0DgCzssji2xuxOAS3d2x3eAXBOJ9wmVdozx26XGgGO0xmeYHPX\n",
       "yEdUe3vfy/kL/JmsXRLjWk+fZc9YvV7/DYdNPqWu+AbVKBLgDgJcGFlHd2Xof8GUW4Cc+KTUAj4n\n",
       "HyPZuQxfuZ83QVCCuK/jCdVdvOrrVLNIQCKkq4g+MllI3uPrugYXB3HsEfSRkW/HPfjAMWSWArQV\n",
       "dDyjHvN1qsWHACRB8ZFch8wPptJF6EQfHaOGj5xYgBhvndDxjCp8RFTLvghAj+ojMwWZTTlZiJbj\n",
       "ho+3CokGypCO71F9NFDNwgHDqg8aBN9RpJ+iOCB93OqrcnV/+ZDYcLL5AH06e1j1oVItJ4YDhjQf\n",
       "q3gIO45+w3Gh8NHuO3+5qoUwjuMz1NAoi4kZVtjgIc3HqtfUBwJKmo/ZKAi6MZKED1Le8dNQB7iG\n",
       "k+yj1UkdXtJ8zDbfFgQUG30kylGs8cabqo8bLE26fwDu4sacYZ+rw4uNPhSqURCg+RgTuasK7Wts\n",
       "Wzzp4zXxwQOkRnxgFD+n1av/+BjbIqMioHFfYnnYw0TnOvpIVypLj/Ks7QHAktweXA93g9an9Pho\n",
       "3BdJtRQBmBc+XCqWAQ4CfT25QPeFg4hmncTNQ65yJD64Sv+i9R2dPi98+A1UzYIKYEeulaQZmj6d\n",
       "6SCYcsmqQ1tI8gdTZG3KPLd2QcsEV+15d5yr2E95TNXCqP1ZYISIyir6nhQSsEKPzpfaZ0iROyxF\n",
       "bp1BmKHWXwbknmMq8WnDo53gBIs+GwbQe73KlcPO7zPdB6VWJq+EjKBQp2kuKQihAlJV8e4JmWt9\n",
       "U8lOm3KmdB+SamNZAdEdlVfuHkPlt1KJUJ9BUm0sO2BORI1MeefBUFGnTe03p5hrzgI7YED8Qcl+\n",
       "z1RRp03NmT4GmrOaABxvt/+nLZZ/0R1RCeAfGlPqljCPJeEAAAAASUVORK5CYII=\n",
       "\" style=\"display:inline;vertical-align:middle;\" /></a><br>(see <a class=\"ProveItLink\" href=\"../../../__pv_it/theorems/5c887baa6cf8956a4eac3a8866458deaa9ea23200/dependencies.ipynb\">dependencies</a>)<br>"
      ],
      "text/plain": [
       "<IPython.core.display.HTML object>"
      ]
     },
     "metadata": {},
     "output_type": "display_data"
    }
   ],
   "source": [
    "%proving count_to_7_range"
   ]
  },
  {
   "cell_type": "code",
   "execution_count": null,
   "metadata": {},
   "outputs": [],
   "source": []
  }
 ],
 "metadata": {
  "kernelspec": {
   "display_name": "Python 3",
   "language": "python",
   "name": "python3"
  }
 },
 "nbformat": 4,
 "nbformat_minor": 0
}