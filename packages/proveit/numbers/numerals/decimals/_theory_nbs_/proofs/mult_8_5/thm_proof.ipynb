{
 "cells": [
  {
   "cell_type": "markdown",
   "metadata": {},
   "source": [
    "Proof of <a class=\"ProveItLink\" href=\"../../../../../../_theory_nbs_/theory.ipynb\">proveit</a>.<a class=\"ProveItLink\" href=\"../../../../../_theory_nbs_/theory.ipynb\">numbers</a>.<a class=\"ProveItLink\" href=\"../../../../_theory_nbs_/theory.ipynb\">numerals</a>.<a class=\"ProveItLink\" href=\"../../theory.ipynb\">decimals</a>.<a class=\"ProveItLink\" href=\"../../theorems.ipynb#mult_8_5\">mult_8_5</a> theorem\n",
    "========"
   ]
  },
  {
   "cell_type": "code",
   "execution_count": 1,
   "metadata": {},
   "outputs": [],
   "source": [
    "import proveit\n",
    "theory = proveit.Theory() # the theorem's theory"
   ]
  },
  {
   "cell_type": "code",
   "execution_count": 2,
   "metadata": {},
   "outputs": [
    {
     "data": {
      "text/html": [
       "With these <a href=\"allowed_presumptions.txt\">allowed</a>/<a href=\"disallowed_presumptions.txt\">disallowed</a> theorem/theory presumptions (e.g., to avoid circular dependencies), we begin our proof of<br><strong id=\"mult_8_5\">mult_8_5:</strong> <a class=\"ProveItLink\" href=\"../../../__pv_it/theorems/cb98f21632dd4458052f53ecc2db474cce48d9dd0/expr.ipynb\"><img src=\"data:image/png;base64,iVBORw0KGgoAAAANSUhEUgAAAGEAAAAVBAMAAACkm51HAAAAMFBMVEX///8AAAAAAAAAAAAAAAAA\n",
       "AAAAAAAAAAAAAAAAAAAAAAAAAAAAAAAAAAAAAAAAAAAv3aB7AAAAD3RSTlMAInZUiRDNmWbv3US7\n",
       "qzJazP2FAAAACXBIWXMAAA7EAAAOxAGVKw4bAAABo0lEQVQ4y32Tv0vDUBDHv6nNj6Y/7CaIQzoJ\n",
       "gpBBXJvB0UIER6EuBXEKWKzoYHRQdNHFxd9FXQRB/AdsHRxEMZsupZ0FUVR0UKmXtI1tXsgNIXfv\n",
       "fd597+49AEkw5hNqs5Da4SaAMVwEEkPA+MiC60Y+p08QMtl9CQMY6afs/CRgIO4mkg+OdSDHErIF\n",
       "QeWLgGhCMh2uYXHnu8oSAxbWgVFSAYQthojojKgVC3dAWscw0PWji2YnITCFhAULX8CLijx51bcZ\n",
       "dyW+nKk5aT2WEizeJkxMkSfWi+5KTOe+AclROX9q25n9y5mCxX0QoeDIbnBfvX0oNyR00ysKTULD\n",
       "Dh1oIL1F0Wyz/MUkEq8eYokInohLxSaoMdy73XGaEa6JqCHqycEpaFSeVm1VWQo9tta2qRGk6rCz\n",
       "jmilUt3TboENHVeUg0ZfbhEasEtCS8wEIxbWgFkgQwfkICmthR6EqCZRY4juEmSV3weeyHku/N9E\n",
       "rvBA85bPvYB4/6vw+UGalVzzu9C9AZddMvyic0Hvo+wT40pBxIRPLBb4bDmFjaUC9v8BNWplfIUF\n",
       "f2gAAAAASUVORK5CYII=\n",
       "\" style=\"display:inline;vertical-align:middle;\" /></a><br>(see <a class=\"ProveItLink\" href=\"../../../__pv_it/theorems/b3ccfb4194ee73862619eea7a1bfdea2fbe906090/dependencies.ipynb\">dependencies</a>)<br>"
      ],
      "text/plain": [
       "<IPython.core.display.HTML object>"
      ]
     },
     "metadata": {},
     "output_type": "display_data"
    },
    {
     "name": "stdout",
     "output_type": "stream",
     "text": [
      "mult_8_5 may now be readily provable (assuming required theorems are usable).  Simply execute \"%qed\".\n"
     ]
    }
   ],
   "source": [
    "%proving mult_8_5"
   ]
  },
  {
   "cell_type": "code",
   "execution_count": null,
   "metadata": {},
   "outputs": [],
   "source": []
  }
 ],
 "metadata": {
  "kernelspec": {
   "display_name": "Python 3",
   "language": "python",
   "name": "python3"
  }
 },
 "nbformat": 4,
 "nbformat_minor": 0
}