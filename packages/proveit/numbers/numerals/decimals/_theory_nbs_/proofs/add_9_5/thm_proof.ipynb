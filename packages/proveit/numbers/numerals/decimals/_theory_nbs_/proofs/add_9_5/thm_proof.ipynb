{
 "cells": [
  {
   "cell_type": "markdown",
   "metadata": {},
   "source": [
    "Proof of <a class=\"ProveItLink\" href=\"../../../../../../_theory_nbs_/theory.ipynb\">proveit</a>.<a class=\"ProveItLink\" href=\"../../../../../_theory_nbs_/theory.ipynb\">numbers</a>.<a class=\"ProveItLink\" href=\"../../../../_theory_nbs_/theory.ipynb\">numerals</a>.<a class=\"ProveItLink\" href=\"../../theory.ipynb\">decimals</a>.<a class=\"ProveItLink\" href=\"../../theorems.ipynb#add_9_5\">add_9_5</a> theorem\n",
    "========"
   ]
  },
  {
   "cell_type": "code",
   "execution_count": 1,
   "metadata": {},
   "outputs": [],
   "source": [
    "import proveit\n",
    "theory = proveit.Theory() # the theorem's theory"
   ]
  },
  {
   "cell_type": "code",
   "execution_count": 2,
   "metadata": {},
   "outputs": [
    {
     "data": {
      "text/html": [
       "With these <a href=\"allowed_presumptions.txt\">allowed</a>/<a href=\"disallowed_presumptions.txt\">disallowed</a> theorem/theory presumptions (e.g., to avoid circular dependencies), we begin our proof of<br><strong id=\"add_9_5\">add_9_5:</strong> <a class=\"ProveItLink\" href=\"../../../__pv_it/theorems/a7bbdc7161e704a1595d049181255d12ecb5ae850/expr.ipynb\"><img src=\"data:image/png;base64,iVBORw0KGgoAAAANSUhEUgAAAGwAAAAVBAMAAABRZRb3AAAAMFBMVEX///8AAAAAAAAAAAAAAAAA\n",
       "AAAAAAAAAAAAAAAAAAAAAAAAAAAAAAAAAAAAAAAAAAAv3aB7AAAAD3RSTlMAInZUiRDNmWbv3US7\n",
       "qzJazP2FAAAACXBIWXMAAA7EAAAOxAGVKw4bAAABiklEQVQ4y52TO0gDQRCG/5w5L9ELHjZaCFqk\n",
       "0Eo5RNAqhZbidTZCUolNMIUSEIVUVhY2KSRIQsTCk0DKWAhRECyDKNpErvMB4gvBF+rsXZTsZS+F\n",
       "U8zuzs43s48ZABrE4kMzkYYERguy1t7XDBsGlOSZy5idNQ30NzrfGkxfAXIMch43rpPuvE8ArYYL\n",
       "ks/nbVOBMqUQWodadjZKNYcKU4FEQ7ZBhkmEBYGOGPwvjlmvx5AWY9dxYASIliF9iLA5MRYhbMHJ\n",
       "9spjF+FL0pNCTNLidkR2tyceO0JvEVhlU8W0pfKHdYOwLXqgDO6eeQxQc8CoMFuEYRlaTIf1LxqW\n",
       "THPDNAuOg/II3IuwgPaLwf2SagwKBdoTYZ2oHZL5lTksmEPoARgT3W2/Wn07xSHQkkbU4jA/kRRo\n",
       "TfwB2LQfWdrGMTjMl8CAYX+OS6bsIvyk4qRhPFnkMXStLJLedVPVbDwFLH+foM2qt+tcw+W8+4av\n",
       "11L9gqrcWw48d3qatenMPwKyG3j1vqR5Qz9urGV5GzPWjwAAAABJRU5ErkJggg==\n",
       "\" style=\"display:inline;vertical-align:middle;\" /></a><br>(see <a class=\"ProveItLink\" href=\"../../../__pv_it/theorems/3009253ef7d7ab56fa495c5c67dc6b89e289f95f0/dependencies.ipynb\">dependencies</a>)<br>"
      ],
      "text/plain": [
       "<IPython.core.display.HTML object>"
      ]
     },
     "metadata": {},
     "output_type": "display_data"
    },
    {
     "name": "stdout",
     "output_type": "stream",
     "text": [
      "add_9_5 may now be readily provable (assuming required theorems are usable).  Simply execute \"%qed\".\n"
     ]
    }
   ],
   "source": [
    "%proving add_9_5"
   ]
  },
  {
   "cell_type": "code",
   "execution_count": null,
   "metadata": {},
   "outputs": [],
   "source": []
  }
 ],
 "metadata": {
  "kernelspec": {
   "display_name": "Python 3",
   "language": "python",
   "name": "python3"
  }
 },
 "nbformat": 4,
 "nbformat_minor": 0
}