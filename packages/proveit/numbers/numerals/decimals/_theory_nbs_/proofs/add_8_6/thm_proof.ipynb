{
 "cells": [
  {
   "cell_type": "markdown",
   "metadata": {},
   "source": [
    "Proof of <a class=\"ProveItLink\" href=\"../../../../../../_theory_nbs_/theory.ipynb\">proveit</a>.<a class=\"ProveItLink\" href=\"../../../../../_theory_nbs_/theory.ipynb\">numbers</a>.<a class=\"ProveItLink\" href=\"../../../../_theory_nbs_/theory.ipynb\">numerals</a>.<a class=\"ProveItLink\" href=\"../../theory.ipynb\">decimals</a>.<a class=\"ProveItLink\" href=\"../../theorems.ipynb#add_8_6\">add_8_6</a> theorem\n",
    "========"
   ]
  },
  {
   "cell_type": "code",
   "execution_count": 1,
   "metadata": {},
   "outputs": [],
   "source": [
    "import proveit\n",
    "theory = proveit.Theory() # the theorem's theory"
   ]
  },
  {
   "cell_type": "code",
   "execution_count": 2,
   "metadata": {},
   "outputs": [
    {
     "data": {
      "text/html": [
       "With these <a href=\"allowed_presumptions.txt\">allowed</a>/<a href=\"disallowed_presumptions.txt\">disallowed</a> theorem/theory presumptions (e.g., to avoid circular dependencies), we begin our proof of<br><strong id=\"add_8_6\">add_8_6:</strong> <a class=\"ProveItLink\" href=\"../../../__pv_it/theorems/0bb268af50b88898da13bc66ccb05183246de47a0/expr.ipynb\"><img src=\"data:image/png;base64,iVBORw0KGgoAAAANSUhEUgAAAGwAAAAVBAMAAABRZRb3AAAAMFBMVEX///8AAAAAAAAAAAAAAAAA\n",
       "AAAAAAAAAAAAAAAAAAAAAAAAAAAAAAAAAAAAAAAAAAAv3aB7AAAAD3RSTlMAInZUiRDNmWbv3US7\n",
       "qzJazP2FAAAACXBIWXMAAA7EAAAOxAGVKw4bAAABjElEQVQ4y2NgYBBgwA4YGfABJgMcEtwK+LSZ\n",
       "MDCEuFSji7q4PGDQwFT8KgBEPmdgYE1gYChg4EWzUmwD7wIGtgA0TazX88FCaxkY2BsYOBrAmkFg\n",
       "B1RBEgPPAQaOAgzb9EHamIDaOBkYWC7AtRlBKOavYGoqdm0vchkYzICK/gQA7UTWxjMBTGVg1+YA\n",
       "1FYCpO9/KmZA0caZ5wQKJF+s2pgEciEmsv9fiKqNP4OBExhIbSA2+yowuADXJsEA1LYYFAcy/w1Q\n",
       "tMV/YGAHeswSq20OIG2zGUAhZg/yfdWqVTNXrVoL0raAgeM3A8N7bNo4BKDaOAMYGD+jOjKBgeMH\n",
       "A8NObNqEGKCOjAfyb6CGJMQ2K2x+23v37s8rDIeAtgET80HUeAP6DRgHPdgjgGEuOJC5Uxk4FFC0\n",
       "MRxhiDSARA4q8Adnlz/AxAmk3pZXo0YAA0v5PSC5Gl3X3fm5wHRR8/8SA9cDZHEjlAy3AHe+QU2v\n",
       "O5A5sBSHFRzEKSODL5vGkGEgyAe48j6TAG5NAFgzYsBRq4uHAAAAAElFTkSuQmCC\n",
       "\" style=\"display:inline;vertical-align:middle;\" /></a><br>(see <a class=\"ProveItLink\" href=\"../../../__pv_it/theorems/2abc6c7f6a1cc81d741c2251fc8691f057e23a6d0/dependencies.ipynb\">dependencies</a>)<br>"
      ],
      "text/plain": [
       "<IPython.core.display.HTML object>"
      ]
     },
     "metadata": {},
     "output_type": "display_data"
    },
    {
     "name": "stdout",
     "output_type": "stream",
     "text": [
      "add_8_6 may now be readily provable (assuming required theorems are usable).  Simply execute \"%qed\".\n"
     ]
    }
   ],
   "source": [
    "%proving add_8_6"
   ]
  },
  {
   "cell_type": "code",
   "execution_count": null,
   "metadata": {},
   "outputs": [],
   "source": []
  }
 ],
 "metadata": {
  "kernelspec": {
   "display_name": "Python 3",
   "language": "python",
   "name": "python3"
  }
 },
 "nbformat": 4,
 "nbformat_minor": 0
}