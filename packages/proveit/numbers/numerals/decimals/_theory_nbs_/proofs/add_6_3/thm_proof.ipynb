{
 "cells": [
  {
   "cell_type": "markdown",
   "metadata": {},
   "source": [
    "Proof of <a class=\"ProveItLink\" href=\"../../../../../../_theory_nbs_/theory.ipynb\">proveit</a>.<a class=\"ProveItLink\" href=\"../../../../../_theory_nbs_/theory.ipynb\">numbers</a>.<a class=\"ProveItLink\" href=\"../../../../_theory_nbs_/theory.ipynb\">numerals</a>.<a class=\"ProveItLink\" href=\"../../theory.ipynb\">decimals</a>.<a class=\"ProveItLink\" href=\"../../theorems.ipynb#add_6_3\">add_6_3</a> theorem\n",
    "========"
   ]
  },
  {
   "cell_type": "code",
   "execution_count": 1,
   "metadata": {},
   "outputs": [],
   "source": [
    "import proveit\n",
    "theory = proveit.Theory() # the theorem's theory"
   ]
  },
  {
   "cell_type": "code",
   "execution_count": 2,
   "metadata": {},
   "outputs": [
    {
     "data": {
      "text/html": [
       "With these <a href=\"allowed_presumptions.txt\">allowed</a>/<a href=\"disallowed_presumptions.txt\">disallowed</a> theorem/theory presumptions (e.g., to avoid circular dependencies), we begin our proof of<br><strong id=\"add_6_3\">add_6_3:</strong> <a class=\"ProveItLink\" href=\"../../../__pv_it/theorems/03b4ec14a3c38a08b043d75f7f25f6ee0642778f0/expr.ipynb\"><img src=\"data:image/png;base64,iVBORw0KGgoAAAANSUhEUgAAAGEAAAAVBAMAAACkm51HAAAAMFBMVEX///8AAAAAAAAAAAAAAAAA\n",
       "AAAAAAAAAAAAAAAAAAAAAAAAAAAAAAAAAAAAAAAAAAAv3aB7AAAAD3RSTlMAInZUiRDNmWbv3US7\n",
       "qzJazP2FAAAACXBIWXMAAA7EAAAOxAGVKw4bAAABhklEQVQ4y3WTPUjDQBiG3zaNSdrYOjk41dWl\n",
       "oYjgJlpwEm+TimAQhE4iIlT8gW46xsFBpFhwCwjBqTpVcRTs6qAWRwcpiFJQ1C+JaO+aOwi5e797\n",
       "7vu7AzCA6CHTEbckhjMZMUpfodDitFhh20O80rO3vMMA1QYGvf4aZ5mD8gosi8B8Nr0PaHTSEsxG\n",
       "qNXDX85S34FdkbgDbgADUN7+tHz4O/dAhMEEgrRZhjHAdESCTukAfUIi6id597BOZ61MbonEBe1O\n",
       "NCN8VFACMiUYFk883VPxdNufam4wmmEet1mcAIttaAdiVFQrxRF8FL30o4UjImrQP0jYdN1D1z0N\n",
       "rccM6bZAqGtTuZZPZGzoHc7HC7m3kHJ6+021oqjMXx//xDfzCaUm5IGgH1cUL+XhcEQ1iEpvCA7G\n",
       "mfoFzNDsGkW+VntBP7QJgRhhJhX9mWaJ8gPfj1SZbiKSnkAkpv2+Jblbm+9eDEVfdn21e1XvXmxI\n",
       "3sel7OHEGhLDgowwZc82lpUYhqPlH53YYkSkdtORAAAAAElFTkSuQmCC\n",
       "\" style=\"display:inline;vertical-align:middle;\" /></a><br>(see <a class=\"ProveItLink\" href=\"../../../__pv_it/theorems/7a96df65d9307e33d2a7cf30c3c4e0d67fa8f0c60/dependencies.ipynb\">dependencies</a>)<br>"
      ],
      "text/plain": [
       "<IPython.core.display.HTML object>"
      ]
     },
     "metadata": {},
     "output_type": "display_data"
    },
    {
     "name": "stdout",
     "output_type": "stream",
     "text": [
      "add_6_3 may now be readily provable (assuming required theorems are usable).  Simply execute \"%qed\".\n"
     ]
    }
   ],
   "source": [
    "%proving add_6_3"
   ]
  },
  {
   "cell_type": "code",
   "execution_count": null,
   "metadata": {},
   "outputs": [],
   "source": []
  }
 ],
 "metadata": {
  "kernelspec": {
   "display_name": "Python 3",
   "language": "python",
   "name": "python3"
  }
 },
 "nbformat": 4,
 "nbformat_minor": 0
}