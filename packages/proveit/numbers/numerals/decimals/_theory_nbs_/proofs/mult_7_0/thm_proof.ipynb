{
 "cells": [
  {
   "cell_type": "markdown",
   "metadata": {},
   "source": [
    "Proof of <a class=\"ProveItLink\" href=\"../../../../../../_theory_nbs_/theory.ipynb\">proveit</a>.<a class=\"ProveItLink\" href=\"../../../../../_theory_nbs_/theory.ipynb\">numbers</a>.<a class=\"ProveItLink\" href=\"../../../../_theory_nbs_/theory.ipynb\">numerals</a>.<a class=\"ProveItLink\" href=\"../../theory.ipynb\">decimals</a>.<a class=\"ProveItLink\" href=\"../../theorems.ipynb#mult_7_0\">mult_7_0</a> theorem\n",
    "========"
   ]
  },
  {
   "cell_type": "code",
   "execution_count": 1,
   "metadata": {},
   "outputs": [],
   "source": [
    "import proveit\n",
    "theory = proveit.Theory() # the theorem's theory"
   ]
  },
  {
   "cell_type": "code",
   "execution_count": 2,
   "metadata": {},
   "outputs": [
    {
     "data": {
      "text/html": [
       "With these <a href=\"allowed_presumptions.txt\">allowed</a>/<a href=\"disallowed_presumptions.txt\">disallowed</a> theorem/theory presumptions (e.g., to avoid circular dependencies), we begin our proof of<br><strong id=\"mult_7_0\">mult_7_0:</strong> <a class=\"ProveItLink\" href=\"../../../__pv_it/theorems/c1b64a7c56046b541a2a58728e8d1f3426e55f620/expr.ipynb\"><img src=\"data:image/png;base64,iVBORw0KGgoAAAANSUhEUgAAAFcAAAAVBAMAAADBdm84AAAAMFBMVEX///8AAAAAAAAAAAAAAAAA\n",
       "AAAAAAAAAAAAAAAAAAAAAAAAAAAAAAAAAAAAAAAAAAAv3aB7AAAAD3RSTlMAInZUiRDNmWbv3US7\n",
       "qzJazP2FAAAACXBIWXMAAA7EAAAOxAGVKw4bAAABRklEQVQoz3XTPUvDQBgH8P/1ejVtrXTVKU5O\n",
       "wg3i2g7ipJIPULCL4JihWHHqIqKLBUdBFDdRKH4BUxcXC36Ezi46FIqDxHvJi7lcbnrulz/H8yQX\n",
       "AE3kloX0KnFyatpzUXgDNAzDn2S/tdZEaZCLSQbrovzW79/HWOHsDjgws5oXBigDxI/1AtgBzsyw\n",
       "5ipAgUaiE6DloeoZYc2bqt5LdA58cVTMpjX3ZEmCGJlU0dlHNhvxoawbo1jJTKgLpys3Jw9yPaWs\n",
       "XsMyMuE26DB7csTXst5Wsi+OY0JfXCx9G21oVuFHJTVfT9LiqA/zAwqWbbDfVN+BSw/0NttzxK+i\n",
       "qs/T8DlwBDiBcbLmXVHRWao1zm7Ed20bYc2fctarf6P01qfi2cgIRzy1XcUV+w11fJseF9znscVI\n",
       "UBDuWGyx6L8ibt5W7dE/7MtU8dj3utkAAAAASUVORK5CYII=\n",
       "\" style=\"display:inline;vertical-align:middle;\" /></a><br>(see <a class=\"ProveItLink\" href=\"../../../__pv_it/theorems/7d794fa1ba32246762ec6eecda63a344a343d48f0/dependencies.ipynb\">dependencies</a>)<br>"
      ],
      "text/plain": [
       "<IPython.core.display.HTML object>"
      ]
     },
     "metadata": {},
     "output_type": "display_data"
    },
    {
     "name": "stdout",
     "output_type": "stream",
     "text": [
      "mult_7_0 may now be readily provable (assuming required theorems are usable).  Simply execute \"%qed\".\n"
     ]
    }
   ],
   "source": [
    "%proving mult_7_0"
   ]
  },
  {
   "cell_type": "code",
   "execution_count": null,
   "metadata": {},
   "outputs": [],
   "source": []
  }
 ],
 "metadata": {
  "kernelspec": {
   "display_name": "Python 3",
   "language": "python",
   "name": "python3"
  }
 },
 "nbformat": 4,
 "nbformat_minor": 0
}