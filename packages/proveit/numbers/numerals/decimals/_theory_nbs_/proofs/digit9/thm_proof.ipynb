{
 "cells": [
  {
   "cell_type": "markdown",
   "metadata": {},
   "source": [
    "Proof of <a class=\"ProveItLink\" href=\"../../../../../../_theory_nbs_/theory.ipynb\">proveit</a>.<a class=\"ProveItLink\" href=\"../../../../../_theory_nbs_/theory.ipynb\">numbers</a>.<a class=\"ProveItLink\" href=\"../../../../_theory_nbs_/theory.ipynb\">numerals</a>.<a class=\"ProveItLink\" href=\"../../theory.ipynb\">decimals</a>.<a class=\"ProveItLink\" href=\"../../theorems.ipynb#digit9\">digit9</a> theorem\n",
    "========"
   ]
  },
  {
   "cell_type": "code",
   "execution_count": 1,
   "metadata": {},
   "outputs": [],
   "source": [
    "import proveit\n",
    "theory = proveit.Theory() # the theorem's theory"
   ]
  },
  {
   "cell_type": "code",
   "execution_count": 2,
   "metadata": {},
   "outputs": [
    {
     "data": {
      "text/html": [
       "With these <a href=\"allowed_presumptions.txt\">allowed</a>/<a href=\"disallowed_presumptions.txt\">disallowed</a> theorem/theory presumptions (e.g., to avoid circular dependencies), we begin our proof of<br><strong id=\"digit9\">digit9:</strong> <a class=\"ProveItLink\" href=\"../../../__pv_it/theorems/a8cd5960630c4d9a47e0fc32344a4452196890260/expr.ipynb\"><img src=\"data:image/png;base64,iVBORw0KGgoAAAANSUhEUgAAAEgAAAAUBAMAAADcj2b4AAAAMFBMVEX///8AAAAAAAAAAAAAAAAA\n",
       "AAAAAAAAAAAAAAAAAAAAAAAAAAAAAAAAAAAAAAAAAAAv3aB7AAAAD3RSTlMAmasQ3XYy7yK7zYlE\n",
       "ZlRwlz41AAAACXBIWXMAAA7EAAAOxAGVKw4bAAABVElEQVQoz2NgwAteNjBERzMQUBPAwLSBTwGv\n",
       "mpsXGBj4E5g/41MT+QBI9Dcw/MEiZ/JzlgHD9u8H0kFqGNgPsP1lYGAUVEZTNY9HgYH5AwPfbAMg\n",
       "h2ey7T8GZleG9AZURSoNexkYCoDyYFV2CT8YmAoYOCegKtKbwNXA4ABksCk2MLAZ8Dgw8C9g4IY4\n",
       "n3WKixeYoXGVYwFYEQOHkgHnBa4EBvsJDKxg5/MsNYCapMGUEA1RxMDBwHN3GwPYpL8gfhdMDYMG\n",
       "wwTOAw7IDgC56SuIsYIBoSiR2RlFEXMNQ9I/EGMBkiLeBy8LGDJnAgHU44bRT7+BfFLi4uLiCVXE\n",
       "oAy0ABWAfcc8AckkBiNmBzRFkHByQFbEFoASdnzFDPYJIEYoXGgaEIehKGJ1ZpgLZnA9gAmtA2LG\n",
       "BSiW7RY8APGm5mGIQNZ3oCnMC7AnH56d0GjBAAAD81Buwt1cvwAAAABJRU5ErkJggg==\n",
       "\" style=\"display:inline;vertical-align:middle;\" /></a><br>(see <a class=\"ProveItLink\" href=\"../../../__pv_it/theorems/8dcd486b33b0169f35cc119a1b3301cd991e28e40/dependencies.ipynb\">dependencies</a>)<br>"
      ],
      "text/plain": [
       "<IPython.core.display.HTML object>"
      ]
     },
     "metadata": {},
     "output_type": "display_data"
    }
   ],
   "source": [
    "%proving digit9"
   ]
  },
  {
   "cell_type": "code",
   "execution_count": null,
   "metadata": {},
   "outputs": [],
   "source": []
  }
 ],
 "metadata": {
  "kernelspec": {
   "display_name": "Python 3",
   "language": "python",
   "name": "python3"
  }
 },
 "nbformat": 4,
 "nbformat_minor": 0
}