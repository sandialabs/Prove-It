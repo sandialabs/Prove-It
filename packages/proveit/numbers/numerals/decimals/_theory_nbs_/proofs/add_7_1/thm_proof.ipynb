{
 "cells": [
  {
   "cell_type": "markdown",
   "metadata": {},
   "source": [
    "Proof of <a class=\"ProveItLink\" href=\"../../../../../../_theory_nbs_/theory.ipynb\">proveit</a>.<a class=\"ProveItLink\" href=\"../../../../../_theory_nbs_/theory.ipynb\">numbers</a>.<a class=\"ProveItLink\" href=\"../../../../_theory_nbs_/theory.ipynb\">numerals</a>.<a class=\"ProveItLink\" href=\"../../theory.ipynb\">decimals</a>.<a class=\"ProveItLink\" href=\"../../theorems.ipynb#add_7_1\">add_7_1</a> theorem\n",
    "========"
   ]
  },
  {
   "cell_type": "code",
   "execution_count": 1,
   "metadata": {},
   "outputs": [],
   "source": [
    "import proveit\n",
    "theory = proveit.Theory() # the theorem's theory"
   ]
  },
  {
   "cell_type": "code",
   "execution_count": 2,
   "metadata": {},
   "outputs": [
    {
     "data": {
      "text/html": [
       "With these <a href=\"allowed_presumptions.txt\">allowed</a>/<a href=\"disallowed_presumptions.txt\">disallowed</a> theorem/theory presumptions (e.g., to avoid circular dependencies), we begin our proof of<br><strong id=\"add_7_1\">add_7_1:</strong> <a class=\"ProveItLink\" href=\"../../../__pv_it/theorems/00a855b5bc78042e452817c7614b178de03da6d30/expr.ipynb\"><img src=\"data:image/png;base64,iVBORw0KGgoAAAANSUhEUgAAAGEAAAAVBAMAAACkm51HAAAAMFBMVEX///8AAAAAAAAAAAAAAAAA\n",
       "AAAAAAAAAAAAAAAAAAAAAAAAAAAAAAAAAAAAAAAAAAAv3aB7AAAAD3RSTlMAInZUiRDNmWbv3US7\n",
       "qzJazP2FAAAACXBIWXMAAA7EAAAOxAGVKw4bAAABV0lEQVQ4y2NgYBBgwA5wiTMwGTC2YpXYhEuH\n",
       "CQPz////f6IK8i0FGtWArpTVxX0DkExgYDleXr4YRSq27CuQTEXXwc7AcBlINjCwMDAwFkDEdsCc\n",
       "CtLRjq6jg4EhjIGBk4GBmYGBFypmhKyDMwBNhy9YhxmY7YdNBxu6R+yPMlQwMJSAmIwHsOlguYCm\n",
       "g/e/ugEDQwaYuQGbDo4EsHdXgQFYd/0vYCSBA0mSAZsO5glodjA7nv/MwDAbxHQDC1StWjVz1aq1\n",
       "cB18H9B0tDMw/wyA6FiD1Q5udDumMjDIG4BdxfoXu6sWoPqDFWgnbwPDIZBh37Hq4DiAZsdEBgYe\n",
       "AVCsMDB/QdfB8hFkugOajm0BDE0MDK9A0TEZTQfvzW83GBi4NqDp4LteDhTieoAsZoTMkcKe2DkK\n",
       "kHk7kDkVOPLHQVwZh/EADokYXDp4cGVbRgUcEorYhQELzFW9L2mB4gAAAABJRU5ErkJggg==\n",
       "\" style=\"display:inline;vertical-align:middle;\" /></a><br>(see <a class=\"ProveItLink\" href=\"../../../__pv_it/theorems/5f18672bcac7c10519960b8b080ff19726d9f9870/dependencies.ipynb\">dependencies</a>)<br>"
      ],
      "text/plain": [
       "<IPython.core.display.HTML object>"
      ]
     },
     "metadata": {},
     "output_type": "display_data"
    },
    {
     "name": "stdout",
     "output_type": "stream",
     "text": [
      "add_7_1 may now be readily provable (assuming required theorems are usable).  Simply execute \"%qed\".\n"
     ]
    }
   ],
   "source": [
    "%proving add_7_1"
   ]
  },
  {
   "cell_type": "code",
   "execution_count": null,
   "metadata": {},
   "outputs": [],
   "source": []
  }
 ],
 "metadata": {
  "kernelspec": {
   "display_name": "Python 3",
   "language": "python",
   "name": "python3"
  }
 },
 "nbformat": 4,
 "nbformat_minor": 0
}