{
 "cells": [
  {
   "cell_type": "markdown",
   "metadata": {},
   "source": [
    "Proof of <a class=\"ProveItLink\" href=\"../../../../../../_theory_nbs_/theory.ipynb\">proveit</a>.<a class=\"ProveItLink\" href=\"../../../../../_theory_nbs_/theory.ipynb\">numbers</a>.<a class=\"ProveItLink\" href=\"../../../../_theory_nbs_/theory.ipynb\">numerals</a>.<a class=\"ProveItLink\" href=\"../../theory.ipynb\">decimals</a>.<a class=\"ProveItLink\" href=\"../../theorems.ipynb#add_5_1\">add_5_1</a> theorem\n",
    "========"
   ]
  },
  {
   "cell_type": "code",
   "execution_count": 1,
   "metadata": {},
   "outputs": [],
   "source": [
    "import proveit\n",
    "theory = proveit.Theory() # the theorem's theory"
   ]
  },
  {
   "cell_type": "code",
   "execution_count": 2,
   "metadata": {},
   "outputs": [
    {
     "data": {
      "text/html": [
       "With these <a href=\"allowed_presumptions.txt\">allowed</a>/<a href=\"disallowed_presumptions.txt\">disallowed</a> theorem/theory presumptions (e.g., to avoid circular dependencies), we begin our proof of<br><strong id=\"add_5_1\">add_5_1:</strong> <a class=\"ProveItLink\" href=\"../../../__pv_it/theorems/09209d9cd25c7e42721f43e0c8ae79fe70a4f22f0/expr.ipynb\"><img src=\"data:image/png;base64,iVBORw0KGgoAAAANSUhEUgAAAGEAAAAVBAMAAACkm51HAAAAMFBMVEX///8AAAAAAAAAAAAAAAAA\n",
       "AAAAAAAAAAAAAAAAAAAAAAAAAAAAAAAAAAAAAAAAAAAv3aB7AAAAD3RSTlMAInZUiRDNmWbv3US7\n",
       "qzJazP2FAAAACXBIWXMAAA7EAAAOxAGVKw4bAAABXElEQVQ4y2NgYBBgwA5wiTMwGTA8YGDFIr0J\n",
       "lw4TBob5aasCUAX5lgKNasBQy+Lix8DAmsDAsPKXK6pMbNlXIJmKroExm+EWAwM70KQLcLEdMKeC\n",
       "dLSj62BTYDjDwMDJgKzDCFkHJ5pTGezBAma4dbChe+QkmCwB4hsq97DpYLmApmPaE/UNDAwZQNZR\n",
       "BvkNWHRwJICY7KvAAKT7WwPDZAaGxWAVPAuw6GCegGoF638GhsoAhtlgDvtHIFG1atXMVavWwnXw\n",
       "fUDT8YuBoX8DSAdPAgP7Pyx2cKPZwfANqKMB5CrOBQy8H7C5agGaP06B7TgEDBOgpgPYfH4APT6A\n",
       "/mBg8AVGfgGDZgCqDhaQv9gd0HTwOLACw+oVkCVeW4oaH7w3v91gYODagJ5M3GsfAIUfIAsZIXOk\n",
       "sCd2jgJk3g5kTgWO/HEQV8ZhPIBDIgaXDh5c2ZZRAYeEInZhADyrW4KLOwVWAAAAAElFTkSuQmCC\n",
       "\" style=\"display:inline;vertical-align:middle;\" /></a><br>(see <a class=\"ProveItLink\" href=\"../../../__pv_it/theorems/118f8a1590306ce1964704865143306bf00025fb0/dependencies.ipynb\">dependencies</a>)<br>"
      ],
      "text/plain": [
       "<IPython.core.display.HTML object>"
      ]
     },
     "metadata": {},
     "output_type": "display_data"
    },
    {
     "name": "stdout",
     "output_type": "stream",
     "text": [
      "add_5_1 may now be readily provable (assuming required theorems are usable).  Simply execute \"%qed\".\n"
     ]
    }
   ],
   "source": [
    "%proving add_5_1"
   ]
  },
  {
   "cell_type": "code",
   "execution_count": null,
   "metadata": {},
   "outputs": [],
   "source": []
  }
 ],
 "metadata": {
  "kernelspec": {
   "display_name": "Python 3",
   "language": "python",
   "name": "python3"
  }
 },
 "nbformat": 4,
 "nbformat_minor": 0
}