{
 "cells": [
  {
   "cell_type": "markdown",
   "metadata": {},
   "source": [
    "Proof of <a class=\"ProveItLink\" href=\"../../../../../../_theory_nbs_/theory.ipynb\">proveit</a>.<a class=\"ProveItLink\" href=\"../../../../../_theory_nbs_/theory.ipynb\">numbers</a>.<a class=\"ProveItLink\" href=\"../../../../_theory_nbs_/theory.ipynb\">numerals</a>.<a class=\"ProveItLink\" href=\"../../theory.ipynb\">decimals</a>.<a class=\"ProveItLink\" href=\"../../theorems.ipynb#add_8_0\">add_8_0</a> theorem\n",
    "========"
   ]
  },
  {
   "cell_type": "code",
   "execution_count": 1,
   "metadata": {},
   "outputs": [],
   "source": [
    "import proveit\n",
    "theory = proveit.Theory() # the theorem's theory"
   ]
  },
  {
   "cell_type": "code",
   "execution_count": 2,
   "metadata": {},
   "outputs": [
    {
     "data": {
      "text/html": [
       "With these <a href=\"allowed_presumptions.txt\">allowed</a>/<a href=\"disallowed_presumptions.txt\">disallowed</a> theorem/theory presumptions (e.g., to avoid circular dependencies), we begin our proof of<br><strong id=\"add_8_0\">add_8_0:</strong> <a class=\"ProveItLink\" href=\"../../../__pv_it/theorems/a9bafafeb1e32d1720d57f45e8d0ea44eb07d4ca0/expr.ipynb\"><img src=\"data:image/png;base64,iVBORw0KGgoAAAANSUhEUgAAAGEAAAAVBAMAAACkm51HAAAAMFBMVEX///8AAAAAAAAAAAAAAAAA\n",
       "AAAAAAAAAAAAAAAAAAAAAAAAAAAAAAAAAAAAAAAAAAAv3aB7AAAAD3RSTlMAInZUiRDNmWbv3US7\n",
       "qzJazP2FAAAACXBIWXMAAA7EAAAOxAGVKw4bAAABiUlEQVQ4y3WTP0jDQBTGvzSmTf/SWQTj1Ek4\n",
       "irimQsFFIYM4CboUHAsWW+xgcKm6qIODCGJxCwjFQbrZCm6KgoNudhZEsYIoQn2XguTO3hvu7r3L\n",
       "77733uUApDHYVHGEmGLjTEVMAHP5qhTMZ9IIufKnRn66QeMSUERSFAozow4UZCIC3NPownR9jluz\n",
       "P20DM0BNJjaBeSAKDN39Edn+dAPYDqKORMz6xCSg/zgRVyA+gVeGsFyIfYUKUKLV0/sKgoTBCZdr\n",
       "i5bsZajeZV5Rry4Q2gcRFkw/1Yjnm0+vf9MlnfAGj/TYPyIHfVfS0Kduu8AhYBZh71NgzfMOPO+U\n",
       "siLiwkLqTSJq0L8cTlBPtK5cuc0QlzXo2FHGs1ok51EgroEdB/qxWIdBmkkXl6RB5bQFYgtYpWxb\n",
       "ksYekEjzW4kXYFoCEWPGEZ2ek4hzBxvAM61eylWhuzBK4x3iGhKReihTKNYJxrJBZ3jwz06tDVgz\n",
       "6FQU76OtejhaS7GxoCISqmerWYqNscHhX7IKXvEjYbuFAAAAAElFTkSuQmCC\n",
       "\" style=\"display:inline;vertical-align:middle;\" /></a><br>(see <a class=\"ProveItLink\" href=\"../../../__pv_it/theorems/4d53fb8a71b52f4137779ca0510d81b0a12defc90/dependencies.ipynb\">dependencies</a>)<br>"
      ],
      "text/plain": [
       "<IPython.core.display.HTML object>"
      ]
     },
     "metadata": {},
     "output_type": "display_data"
    },
    {
     "name": "stdout",
     "output_type": "stream",
     "text": [
      "add_8_0 may now be readily provable (assuming required theorems are usable).  Simply execute \"%qed\".\n"
     ]
    }
   ],
   "source": [
    "%proving add_8_0"
   ]
  },
  {
   "cell_type": "code",
   "execution_count": null,
   "metadata": {},
   "outputs": [],
   "source": []
  }
 ],
 "metadata": {
  "kernelspec": {
   "display_name": "Python 3",
   "language": "python",
   "name": "python3"
  }
 },
 "nbformat": 4,
 "nbformat_minor": 0
}