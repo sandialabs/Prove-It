{
 "cells": [
  {
   "cell_type": "markdown",
   "metadata": {},
   "source": [
    "Proof of <a class=\"ProveItLink\" href=\"../../../../../../_theory_nbs_/theory.ipynb\">proveit</a>.<a class=\"ProveItLink\" href=\"../../../../../_theory_nbs_/theory.ipynb\">numbers</a>.<a class=\"ProveItLink\" href=\"../../../../_theory_nbs_/theory.ipynb\">numerals</a>.<a class=\"ProveItLink\" href=\"../../theory.ipynb\">decimals</a>.<a class=\"ProveItLink\" href=\"../../theorems.ipynb#add_2_8\">add_2_8</a> theorem\n",
    "========"
   ]
  },
  {
   "cell_type": "code",
   "execution_count": 1,
   "metadata": {},
   "outputs": [],
   "source": [
    "import proveit\n",
    "theory = proveit.Theory() # the theorem's theory"
   ]
  },
  {
   "cell_type": "code",
   "execution_count": 2,
   "metadata": {},
   "outputs": [
    {
     "data": {
      "text/html": [
       "With these <a href=\"allowed_presumptions.txt\">allowed</a>/<a href=\"disallowed_presumptions.txt\">disallowed</a> theorem/theory presumptions (e.g., to avoid circular dependencies), we begin our proof of<br><strong id=\"add_2_8\">add_2_8:</strong> <a class=\"ProveItLink\" href=\"../../../__pv_it/theorems/6b9027fa9e064c632534f40c44c26cc5dac3962f0/expr.ipynb\"><img src=\"data:image/png;base64,iVBORw0KGgoAAAANSUhEUgAAAGwAAAAVBAMAAABRZRb3AAAAMFBMVEX///8AAAAAAAAAAAAAAAAA\n",
       "AAAAAAAAAAAAAAAAAAAAAAAAAAAAAAAAAAAAAAAAAAAv3aB7AAAAD3RSTlMAInZUiRDNmWbv3US7\n",
       "qzJazP2FAAAACXBIWXMAAA7EAAAOxAGVKw4bAAABn0lEQVQ4y52TMUvDUBDH/2lam9qmxsmlYBfB\n",
       "zVKKoIuluEozCKIILYjgIlYsFnTp5KTQxUEcjHQQIoJj3VI/gHTTRe3gVJBqa8FBjPcShb426eBB\n",
       "3svd5Xf3cu8OgAJnETBIPDEXRzA6CEsAY7t3PcbF+X1gsv/jhgp4U9uALwvBQPqad+cgxzCk9kC+\n",
       "+y0yrWFFgb8IWUGgZDsq9iYVWTgp15dtSoWkwWsgAAQ6kN9tc9zevDWG4dgJC9UgdjANyBrkbw4T\n",
       "v1Q6BTacsJEcwm3kLXX4jcPw3NqhdcEJyxD2+RuxGeUxv3lO64H1qltS+8PGkwi3ULbUK/BYImLS\n",
       "dc44ZWPYB06tiAZb93T9RNdZBKrhHNWj6XjIJIItGzsCny2gQmgDNy4lEdvWIcUkRjksQ88DMOv0\n",
       "byEDUge3pLwAE3w2au8qcOh43SX4s6zIwkWhoHFYcB0S1Tbfh6UpXhnLdTTo0kzTzPKVfC1QK+Oy\n",
       "l3o82yxiKfVETL3bHucGTnOfG75fK90K6y9Xqbp6IoPGdPUfAdkfuM2+R3GHfgBGuWdux+sVBwAA\n",
       "AABJRU5ErkJggg==\n",
       "\" style=\"display:inline;vertical-align:middle;\" /></a><br>(see <a class=\"ProveItLink\" href=\"../../../__pv_it/theorems/82ab21d233f4a1cefcb74046c58c22bd6ae4e7270/dependencies.ipynb\">dependencies</a>)<br>"
      ],
      "text/plain": [
       "<IPython.core.display.HTML object>"
      ]
     },
     "metadata": {},
     "output_type": "display_data"
    },
    {
     "name": "stdout",
     "output_type": "stream",
     "text": [
      "add_2_8 may now be readily provable (assuming required theorems are usable).  Simply execute \"%qed\".\n"
     ]
    }
   ],
   "source": [
    "%proving add_2_8"
   ]
  },
  {
   "cell_type": "code",
   "execution_count": null,
   "metadata": {},
   "outputs": [],
   "source": []
  }
 ],
 "metadata": {
  "kernelspec": {
   "display_name": "Python 3",
   "language": "python",
   "name": "python3"
  }
 },
 "nbformat": 4,
 "nbformat_minor": 0
}