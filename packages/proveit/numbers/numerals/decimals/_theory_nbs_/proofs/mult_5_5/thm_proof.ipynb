{
 "cells": [
  {
   "cell_type": "markdown",
   "metadata": {},
   "source": [
    "Proof of <a class=\"ProveItLink\" href=\"../../../../../../_theory_nbs_/theory.ipynb\">proveit</a>.<a class=\"ProveItLink\" href=\"../../../../../_theory_nbs_/theory.ipynb\">numbers</a>.<a class=\"ProveItLink\" href=\"../../../../_theory_nbs_/theory.ipynb\">numerals</a>.<a class=\"ProveItLink\" href=\"../../theory.ipynb\">decimals</a>.<a class=\"ProveItLink\" href=\"../../theorems.ipynb#mult_5_5\">mult_5_5</a> theorem\n",
    "========"
   ]
  },
  {
   "cell_type": "code",
   "execution_count": 1,
   "metadata": {},
   "outputs": [],
   "source": [
    "import proveit\n",
    "theory = proveit.Theory() # the theorem's theory"
   ]
  },
  {
   "cell_type": "code",
   "execution_count": 2,
   "metadata": {},
   "outputs": [
    {
     "data": {
      "text/html": [
       "With these <a href=\"allowed_presumptions.txt\">allowed</a>/<a href=\"disallowed_presumptions.txt\">disallowed</a> theorem/theory presumptions (e.g., to avoid circular dependencies), we begin our proof of<br><strong id=\"mult_5_5\">mult_5_5:</strong> <a class=\"ProveItLink\" href=\"../../../__pv_it/theorems/541a0e2b13bb194d75fe58d06dd0532c15371be40/expr.ipynb\"><img src=\"data:image/png;base64,iVBORw0KGgoAAAANSUhEUgAAAGEAAAAVBAMAAACkm51HAAAAMFBMVEX///8AAAAAAAAAAAAAAAAA\n",
       "AAAAAAAAAAAAAAAAAAAAAAAAAAAAAAAAAAAAAAAAAAAv3aB7AAAAD3RSTlMAInZUiRDNmWbv3US7\n",
       "qzJazP2FAAAACXBIWXMAAA7EAAAOxAGVKw4bAAABd0lEQVQ4y32TvUvDQBjGn8TWNLUt2YQiqODi\n",
       "5lCcuzgW4i6YRRFx6KBUiqK4uLo4+AEtqEMLYvEviIIOTnFSHGxmJ3XoYMH6pneJ4e7IQY7L83uf\n",
       "977eA2BBagop1vQ5+EhHMQVgEbfq0CEDSkBjtW2Hqtlbv4K+LwZrtQ2fMaQdoPWzEKFs45LcK6Jj\n",
       "Aqk+Zwal82IoP+wPRcczcMKZCZXDtAVHw0bXYmxe6RgVN/IGdH3GNul7nXn/dxxUfCDlySd1w9ka\n",
       "jR8w2Qn1nK31gYwTjOvtoF3zo/3m7ILFNWPJnoCRI2mKrMfZ2fDX+KJu2WFsz0LhU3LshIwcOQfG\n",
       "b5ClSt0jqT7GpDkyXshoVWYT+SjnKR0Kraop7qMEzWLsng6GTG7oKAPnlNEVS6oM3WasQjVTxWx0\n",
       "Y+PQj2lfZcFRrNXqnH0EUbtbsZJ7IXe2I17GYNALma+q62LC88hUVep20ou6U2iam+RYUmi5xGer\n",
       "TcnadEL8H5XHYddtwAjUAAAAAElFTkSuQmCC\n",
       "\" style=\"display:inline;vertical-align:middle;\" /></a><br>(see <a class=\"ProveItLink\" href=\"../../../__pv_it/theorems/30f5bdab2a0636d1d4f2cae432f042caad718de70/dependencies.ipynb\">dependencies</a>)<br>"
      ],
      "text/plain": [
       "<IPython.core.display.HTML object>"
      ]
     },
     "metadata": {},
     "output_type": "display_data"
    },
    {
     "name": "stdout",
     "output_type": "stream",
     "text": [
      "mult_5_5 may now be readily provable (assuming required theorems are usable).  Simply execute \"%qed\".\n"
     ]
    }
   ],
   "source": [
    "%proving mult_5_5"
   ]
  },
  {
   "cell_type": "code",
   "execution_count": null,
   "metadata": {},
   "outputs": [],
   "source": []
  }
 ],
 "metadata": {
  "kernelspec": {
   "display_name": "Python 3",
   "language": "python",
   "name": "python3"
  }
 },
 "nbformat": 4,
 "nbformat_minor": 0
}