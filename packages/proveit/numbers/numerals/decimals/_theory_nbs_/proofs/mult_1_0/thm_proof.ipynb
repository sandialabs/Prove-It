{
 "cells": [
  {
   "cell_type": "markdown",
   "metadata": {},
   "source": [
    "Proof of <a class=\"ProveItLink\" href=\"../../../../../../_theory_nbs_/theory.ipynb\">proveit</a>.<a class=\"ProveItLink\" href=\"../../../../../_theory_nbs_/theory.ipynb\">numbers</a>.<a class=\"ProveItLink\" href=\"../../../../_theory_nbs_/theory.ipynb\">numerals</a>.<a class=\"ProveItLink\" href=\"../../theory.ipynb\">decimals</a>.<a class=\"ProveItLink\" href=\"../../theorems.ipynb#mult_1_0\">mult_1_0</a> theorem\n",
    "========"
   ]
  },
  {
   "cell_type": "code",
   "execution_count": 1,
   "metadata": {},
   "outputs": [],
   "source": [
    "import proveit\n",
    "theory = proveit.Theory() # the theorem's theory"
   ]
  },
  {
   "cell_type": "code",
   "execution_count": 2,
   "metadata": {},
   "outputs": [
    {
     "data": {
      "text/html": [
       "With these <a href=\"allowed_presumptions.txt\">allowed</a>/<a href=\"disallowed_presumptions.txt\">disallowed</a> theorem/theory presumptions (e.g., to avoid circular dependencies), we begin our proof of<br><strong id=\"mult_1_0\">mult_1_0:</strong> <a class=\"ProveItLink\" href=\"../../../__pv_it/theorems/5483d3023d5472396a0155196ab5913a5571cf090/expr.ipynb\"><img src=\"data:image/png;base64,iVBORw0KGgoAAAANSUhEUgAAAFcAAAAVBAMAAADBdm84AAAAMFBMVEX///8AAAAAAAAAAAAAAAAA\n",
       "AAAAAAAAAAAAAAAAAAAAAAAAAAAAAAAAAAAAAAAAAAAv3aB7AAAAD3RSTlMAInZUiRDNmWbv3US7\n",
       "qzJazP2FAAAACXBIWXMAAA7EAAAOxAGVKw4bAAABJ0lEQVQoz3WTMUsDMRTH/9ea9q6KdHY6Jydp\n",
       "BnFtB8eK9wEEuwguYoci0qmb2MXugm3pViiIX8DqXMHNSeh8iw5CVxPeYZqX3INA3i8/Hi/kBUAV\n",
       "TngQRUG67DlPPlArTUx+tFdFoedoGkO0ID6vjFySYgycc5dwWRepGbkPNIFbLhOOYMvvQD1BlDCZ\n",
       "8CGTV8C3RIk3Tbhjy0LTHjY+bDfDF7Yc/CoaI2zppDvVMTN44pEbKA7syhl+MPKZKicUfYmx/cPa\n",
       "ILwmV9p0k7rE5sC9oMKsDSyA+wTFkd1zht+YfAdcA+GcVSZ8rLcnZswqUjyqd20wmXCqdl/Dy/9H\n",
       "EJ39pTp7YnKGl75R3PFPaNj20ZuceX71sGCeI5962Fbevwpil+361T/kk1G+5KO7swAAAABJRU5E\n",
       "rkJggg==\n",
       "\" style=\"display:inline;vertical-align:middle;\" /></a><br>(see <a class=\"ProveItLink\" href=\"../../../__pv_it/theorems/c62efb1d7ff61d87f5c02ca4e3752da9c8fc2ed70/dependencies.ipynb\">dependencies</a>)<br>"
      ],
      "text/plain": [
       "<IPython.core.display.HTML object>"
      ]
     },
     "metadata": {},
     "output_type": "display_data"
    },
    {
     "name": "stdout",
     "output_type": "stream",
     "text": [
      "mult_1_0 may now be readily provable (assuming required theorems are usable).  Simply execute \"%qed\".\n"
     ]
    }
   ],
   "source": [
    "%proving mult_1_0"
   ]
  },
  {
   "cell_type": "code",
   "execution_count": null,
   "metadata": {},
   "outputs": [],
   "source": []
  }
 ],
 "metadata": {
  "kernelspec": {
   "display_name": "Python 3",
   "language": "python",
   "name": "python3"
  }
 },
 "nbformat": 4,
 "nbformat_minor": 0
}