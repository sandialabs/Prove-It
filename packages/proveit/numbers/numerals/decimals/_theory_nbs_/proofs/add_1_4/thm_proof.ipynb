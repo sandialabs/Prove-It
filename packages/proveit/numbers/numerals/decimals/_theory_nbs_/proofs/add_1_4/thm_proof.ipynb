{
 "cells": [
  {
   "cell_type": "markdown",
   "metadata": {},
   "source": [
    "Proof of <a class=\"ProveItLink\" href=\"../../../../../../_theory_nbs_/theory.ipynb\">proveit</a>.<a class=\"ProveItLink\" href=\"../../../../../_theory_nbs_/theory.ipynb\">numbers</a>.<a class=\"ProveItLink\" href=\"../../../../_theory_nbs_/theory.ipynb\">numerals</a>.<a class=\"ProveItLink\" href=\"../../theory.ipynb\">decimals</a>.<a class=\"ProveItLink\" href=\"../../theorems.ipynb#add_1_4\">add_1_4</a> theorem\n",
    "========"
   ]
  },
  {
   "cell_type": "code",
   "execution_count": 1,
   "metadata": {},
   "outputs": [],
   "source": [
    "import proveit\n",
    "theory = proveit.Theory() # the theorem's theory"
   ]
  },
  {
   "cell_type": "code",
   "execution_count": 2,
   "metadata": {},
   "outputs": [
    {
     "data": {
      "text/html": [
       "With these <a href=\"allowed_presumptions.txt\">allowed</a>/<a href=\"disallowed_presumptions.txt\">disallowed</a> theorem/theory presumptions (e.g., to avoid circular dependencies), we begin our proof of<br><strong id=\"add_1_4\">add_1_4:</strong> <a class=\"ProveItLink\" href=\"../../../__pv_it/theorems/f15d7209908fcc24c3e8c6c644f6ad2720f239a20/expr.ipynb\"><img src=\"data:image/png;base64,iVBORw0KGgoAAAANSUhEUgAAAGEAAAAVBAMAAACkm51HAAAAMFBMVEX///8AAAAAAAAAAAAAAAAA\n",
       "AAAAAAAAAAAAAAAAAAAAAAAAAAAAAAAAAAAAAAAAAAAv3aB7AAAAD3RSTlMAInZUiRDNmWbv3US7\n",
       "qzJazP2FAAAACXBIWXMAAA7EAAAOxAGVKw4bAAABSUlEQVQ4y2NgYBBgwA5wiTMwGeCQ2IQhwsfA\n",
       "EAikTID4VQCGZAEDUwO6IOe3rKUMDKwJDKzX8zF0cF1gYEjFEJy/BKiQHWSSPkzHDpikFlBHO7oO\n",
       "XohNDMg6jGCOagPq4AzAqsMMqw4WNqAOtgasOkqw6lAE6WC5gK6jyfcBA0MGNh2MDSAdHAkgNvsq\n",
       "MADp5glg/M3AsBibDhYGkA7mCZiRdIqBYTZCR9WqVTNXrVoLZDWCdfB9wNRRL4CsA24HowJYBze6\n",
       "HceAOh5gdRX33bv35zowMC9A88csBob7DAyHsIYVAyfI5wfQ7HBgYJjDwOALYvoLoOvgB6pmd0DT\n",
       "Ic7ANBWYCIGsu/NzG1B1sJ//q8DAtQFNB2P5daBjuB4gixkhc6Sw5wKOAmTeDmROBY6McxBXVmM8\n",
       "gEMiBpcOHlzZFhhd2IEidmEA+eBQxBRGVwIAAAAASUVORK5CYII=\n",
       "\" style=\"display:inline;vertical-align:middle;\" /></a><br>(see <a class=\"ProveItLink\" href=\"../../../__pv_it/theorems/3978d8ea4924c5cff683fbb039700d8ccb67731d0/dependencies.ipynb\">dependencies</a>)<br>"
      ],
      "text/plain": [
       "<IPython.core.display.HTML object>"
      ]
     },
     "metadata": {},
     "output_type": "display_data"
    },
    {
     "name": "stdout",
     "output_type": "stream",
     "text": [
      "add_1_4 may now be readily provable (assuming required theorems are usable).  Simply execute \"%qed\".\n"
     ]
    }
   ],
   "source": [
    "%proving add_1_4"
   ]
  },
  {
   "cell_type": "code",
   "execution_count": null,
   "metadata": {},
   "outputs": [],
   "source": []
  }
 ],
 "metadata": {
  "kernelspec": {
   "display_name": "Python 3",
   "language": "python",
   "name": "python3"
  }
 },
 "nbformat": 4,
 "nbformat_minor": 0
}