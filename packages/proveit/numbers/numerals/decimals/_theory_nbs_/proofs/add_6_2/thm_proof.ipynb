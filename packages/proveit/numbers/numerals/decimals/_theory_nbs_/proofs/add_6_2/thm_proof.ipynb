{
 "cells": [
  {
   "cell_type": "markdown",
   "metadata": {},
   "source": [
    "Proof of <a class=\"ProveItLink\" href=\"../../../../../../_theory_nbs_/theory.ipynb\">proveit</a>.<a class=\"ProveItLink\" href=\"../../../../../_theory_nbs_/theory.ipynb\">numbers</a>.<a class=\"ProveItLink\" href=\"../../../../_theory_nbs_/theory.ipynb\">numerals</a>.<a class=\"ProveItLink\" href=\"../../theory.ipynb\">decimals</a>.<a class=\"ProveItLink\" href=\"../../theorems.ipynb#add_6_2\">add_6_2</a> theorem\n",
    "========"
   ]
  },
  {
   "cell_type": "code",
   "execution_count": 1,
   "metadata": {},
   "outputs": [],
   "source": [
    "import proveit\n",
    "theory = proveit.Theory() # the theorem's theory"
   ]
  },
  {
   "cell_type": "code",
   "execution_count": 2,
   "metadata": {},
   "outputs": [
    {
     "data": {
      "text/html": [
       "With these <a href=\"allowed_presumptions.txt\">allowed</a>/<a href=\"disallowed_presumptions.txt\">disallowed</a> theorem/theory presumptions (e.g., to avoid circular dependencies), we begin our proof of<br><strong id=\"add_6_2\">add_6_2:</strong> <a class=\"ProveItLink\" href=\"../../../__pv_it/theorems/80d1065fd12d74a41f860281155b60436ad9493c0/expr.ipynb\"><img src=\"data:image/png;base64,iVBORw0KGgoAAAANSUhEUgAAAGEAAAAVBAMAAACkm51HAAAAMFBMVEX///8AAAAAAAAAAAAAAAAA\n",
       "AAAAAAAAAAAAAAAAAAAAAAAAAAAAAAAAAAAAAAAAAAAv3aB7AAAAD3RSTlMAInZUiRDNmWbv3US7\n",
       "qzJazP2FAAAACXBIWXMAAA7EAAAOxAGVKw4bAAABiklEQVQ4y3WTP0jDQBTGvzStTWvaZnIogjq5\n",
       "llJcrVJwEjIJgmAQhA4iDkJKFSwudayDQ3Gw4BaQFgfpWEVnFQfBwWZ2Korin6G+pCK5R+8gd7n3\n",
       "7nffe+/uABgY3mR2hDISx7mMyNFXKLiCTbE3XIQqfGmksNCi3gLGWomG4BpH+AdY50QUeKCedlqD\n",
       "3hnY2oPhHqgDVU4cAEtADFDf/23ZwXBiomsgZjJi0SdmAL3GiSeg62KEJzJ7gxKwTTKb8zsiQa0J\n",
       "hO8YkehPU2GLQKqIWIYRyVdAs/x0Hb/59N43HdIpsNpD9IgRcVqh1piGOnf7BhwT0YBGxUTZceqO\n",
       "c+Y7dz2dHiOqUL9Mj0hZ0D5FDc0LYpRrUCATGS8q/U8jQOSgGFAbYh4R0kxUcEXhUR41gUjmETKh\n",
       "dZjGIe1ueKeCayyLtUrbdpl2zzPiwsQ+8EJ/YftZPI9mv/9B9WoxIvlokyku3NpscJIeftm1reCs\n",
       "HZyUJO/jUvZwlI7EsSIjdNmzVSYljqnh5l+EdV2Q+yIJNAAAAABJRU5ErkJggg==\n",
       "\" style=\"display:inline;vertical-align:middle;\" /></a><br>(see <a class=\"ProveItLink\" href=\"../../../__pv_it/theorems/3e2e0cb158e883fa9fbfae5dacfce527ae8167480/dependencies.ipynb\">dependencies</a>)<br>"
      ],
      "text/plain": [
       "<IPython.core.display.HTML object>"
      ]
     },
     "metadata": {},
     "output_type": "display_data"
    },
    {
     "name": "stdout",
     "output_type": "stream",
     "text": [
      "add_6_2 may now be readily provable (assuming required theorems are usable).  Simply execute \"%qed\".\n"
     ]
    }
   ],
   "source": [
    "%proving add_6_2"
   ]
  },
  {
   "cell_type": "code",
   "execution_count": null,
   "metadata": {},
   "outputs": [],
   "source": []
  }
 ],
 "metadata": {
  "kernelspec": {
   "display_name": "Python 3",
   "language": "python",
   "name": "python3"
  }
 },
 "nbformat": 4,
 "nbformat_minor": 0
}