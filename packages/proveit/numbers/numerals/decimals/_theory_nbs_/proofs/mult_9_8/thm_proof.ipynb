{
 "cells": [
  {
   "cell_type": "markdown",
   "metadata": {},
   "source": [
    "Proof of <a class=\"ProveItLink\" href=\"../../../../../../_theory_nbs_/theory.ipynb\">proveit</a>.<a class=\"ProveItLink\" href=\"../../../../../_theory_nbs_/theory.ipynb\">numbers</a>.<a class=\"ProveItLink\" href=\"../../../../_theory_nbs_/theory.ipynb\">numerals</a>.<a class=\"ProveItLink\" href=\"../../theory.ipynb\">decimals</a>.<a class=\"ProveItLink\" href=\"../../theorems.ipynb#mult_9_8\">mult_9_8</a> theorem\n",
    "========"
   ]
  },
  {
   "cell_type": "code",
   "execution_count": 1,
   "metadata": {},
   "outputs": [],
   "source": [
    "import proveit\n",
    "theory = proveit.Theory() # the theorem's theory"
   ]
  },
  {
   "cell_type": "code",
   "execution_count": 2,
   "metadata": {},
   "outputs": [
    {
     "data": {
      "text/html": [
       "With these <a href=\"allowed_presumptions.txt\">allowed</a>/<a href=\"disallowed_presumptions.txt\">disallowed</a> theorem/theory presumptions (e.g., to avoid circular dependencies), we begin our proof of<br><strong id=\"mult_9_8\">mult_9_8:</strong> <a class=\"ProveItLink\" href=\"../../../__pv_it/theorems/f9b242b5bfa132b5fb354db8084107c1dda41f8b0/expr.ipynb\"><img src=\"data:image/png;base64,iVBORw0KGgoAAAANSUhEUgAAAGEAAAAVBAMAAACkm51HAAAAMFBMVEX///8AAAAAAAAAAAAAAAAA\n",
       "AAAAAAAAAAAAAAAAAAAAAAAAAAAAAAAAAAAAAAAAAAAv3aB7AAAAD3RSTlMAInZUiRDNmWbv3US7\n",
       "qzJazP2FAAAACXBIWXMAAA7EAAAOxAGVKw4bAAABp0lEQVQ4y31TPUjDQBT+8lPbxjZmU0tBBcG1\n",
       "iLhaoeCikEkXoV0EB4cOQkoRLC51rEMHcVAsLoK0OLgaBcHNioigQ7MqCKIoasH4kpAouZAb7u59\n",
       "733v794BUMCsAOjf4jMsdswgA+rffQKIareeGMnNtMBX/Iwp0zRrnLZikEUBkX08enlEgRtgyc+Y\n",
       "1bRyJg2xSxYVJGtI6K5qE5gHqn5GFujHNbANxIG+AsR3VzVnM+Kqj0HFtrGroqNgEsjr4Ltewhco\n",
       "AT1MIRAN3AMdA6tOjE9XkTTHyJ/YZhhpe28Cy7DrePU069/UhVjBupYPrXXk4A/WJpNdg9q1g+c3\n",
       "lyBMX9FdqPlDcDYiUewdOhdGx3/oyFuOqxC+VMgvTBl21DU4DDi9koq01YGhDHqZGJLV/5hVXsOW\n",
       "vfeIkPNkBcKev458254PTsE5JV1H3nB9bRFdQUz3xzilBOQseNV6Mf4Al57mRMUGTUKWGSxCUjQq\n",
       "wBNJOa3laeQ7S5BafsYgvVLTND9IZwR9gVTI94gVg9BS2I86C8A4PYyxGIAlQr8tN8xiIyH2v5Gv\n",
       "ZxFlMUo0AAAAAElFTkSuQmCC\n",
       "\" style=\"display:inline;vertical-align:middle;\" /></a><br>(see <a class=\"ProveItLink\" href=\"../../../__pv_it/theorems/596561867ef0a7593561d4815297b0f7571d47650/dependencies.ipynb\">dependencies</a>)<br>"
      ],
      "text/plain": [
       "<IPython.core.display.HTML object>"
      ]
     },
     "metadata": {},
     "output_type": "display_data"
    },
    {
     "name": "stdout",
     "output_type": "stream",
     "text": [
      "mult_9_8 may now be readily provable (assuming required theorems are usable).  Simply execute \"%qed\".\n"
     ]
    }
   ],
   "source": [
    "%proving mult_9_8"
   ]
  },
  {
   "cell_type": "code",
   "execution_count": null,
   "metadata": {},
   "outputs": [],
   "source": []
  }
 ],
 "metadata": {
  "kernelspec": {
   "display_name": "Python 3",
   "language": "python",
   "name": "python3"
  }
 },
 "nbformat": 4,
 "nbformat_minor": 0
}