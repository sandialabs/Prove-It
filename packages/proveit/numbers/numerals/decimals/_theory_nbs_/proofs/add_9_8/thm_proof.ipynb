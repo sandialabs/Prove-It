{
 "cells": [
  {
   "cell_type": "markdown",
   "metadata": {},
   "source": [
    "Proof of <a class=\"ProveItLink\" href=\"../../../../../../_theory_nbs_/theory.ipynb\">proveit</a>.<a class=\"ProveItLink\" href=\"../../../../../_theory_nbs_/theory.ipynb\">numbers</a>.<a class=\"ProveItLink\" href=\"../../../../_theory_nbs_/theory.ipynb\">numerals</a>.<a class=\"ProveItLink\" href=\"../../theory.ipynb\">decimals</a>.<a class=\"ProveItLink\" href=\"../../theorems.ipynb#add_9_8\">add_9_8</a> theorem\n",
    "========"
   ]
  },
  {
   "cell_type": "code",
   "execution_count": 1,
   "metadata": {},
   "outputs": [],
   "source": [
    "import proveit\n",
    "theory = proveit.Theory() # the theorem's theory"
   ]
  },
  {
   "cell_type": "code",
   "execution_count": 2,
   "metadata": {},
   "outputs": [
    {
     "data": {
      "text/html": [
       "With these <a href=\"allowed_presumptions.txt\">allowed</a>/<a href=\"disallowed_presumptions.txt\">disallowed</a> theorem/theory presumptions (e.g., to avoid circular dependencies), we begin our proof of<br><strong id=\"add_9_8\">add_9_8:</strong> <a class=\"ProveItLink\" href=\"../../../__pv_it/theorems/7f803cdb1047e3daa85d3a7158c821dcfe3455380/expr.ipynb\"><img src=\"data:image/png;base64,iVBORw0KGgoAAAANSUhEUgAAAG0AAAAVBAMAAAC+p33JAAAAMFBMVEX///8AAAAAAAAAAAAAAAAA\n",
       "AAAAAAAAAAAAAAAAAAAAAAAAAAAAAAAAAAAAAAAAAAAv3aB7AAAAD3RSTlMAInZUiRDNmWbv3US7\n",
       "qzJazP2FAAAACXBIWXMAAA7EAAAOxAGVKw4bAAABmklEQVQ4y52UO0gDQRCG/8vlTGI8TCukSGFh\n",
       "ZwhB0MYm2KlXCDZC0gg2YkDhQJs0WlkIkkJS+MLmVEgZu8RGyzSijZhWIQhRUfFxzt4azF72rnBg\n",
       "dicZvpnZ2dkDEINcFPhKIOnhiCbk4db5ngZC5pXLOZNZA4a6oQcDqm3b74CWg3aAe1exeehJ9Bgu\n",
       "SrteMhC8MM1DylWAvoW+KvdU+BYusHjhfFe+YeKoVHJEgP4cgi/8/xTfgnXGoSjjVEAnawTIVhH4\n",
       "EDj106A6sCDjSKZIV3i+N4HDXWuZ1kk5p7BDUUx2vpbIhex9Wjcc03Kk/sfpZVqoNVoJzSeRS8dt\n",
       "utZReb4BZpVIZwdT37StWtaOZZ2yfuYxTk15lHMTbQ7ufkYMKFTBmZw7Aa+TpH1/v1yW9AYYk55P\n",
       "+2LWOXW9iGxDzEfjUwM2pfmir+C9DhzhEgIXnUc44dyRS6YpoPrsTCppxiyLHJomzTWO3djt7mIB\n",
       "yjYzexudjpTwYvZ8np84vJXOH2zUvKXm6Yn7vve5f0R0TpHw+oDEfKgfhUxkLfHQJSEAAAAASUVO\n",
       "RK5CYII=\n",
       "\" style=\"display:inline;vertical-align:middle;\" /></a><br>(see <a class=\"ProveItLink\" href=\"../../../__pv_it/theorems/976e6855aea3b7691acdb92384b399634c4a02800/dependencies.ipynb\">dependencies</a>)<br>"
      ],
      "text/plain": [
       "<IPython.core.display.HTML object>"
      ]
     },
     "metadata": {},
     "output_type": "display_data"
    },
    {
     "name": "stdout",
     "output_type": "stream",
     "text": [
      "add_9_8 may now be readily provable (assuming required theorems are usable).  Simply execute \"%qed\".\n"
     ]
    }
   ],
   "source": [
    "%proving add_9_8"
   ]
  },
  {
   "cell_type": "code",
   "execution_count": null,
   "metadata": {},
   "outputs": [],
   "source": []
  }
 ],
 "metadata": {
  "kernelspec": {
   "display_name": "Python 3",
   "language": "python",
   "name": "python3"
  }
 },
 "nbformat": 4,
 "nbformat_minor": 0
}