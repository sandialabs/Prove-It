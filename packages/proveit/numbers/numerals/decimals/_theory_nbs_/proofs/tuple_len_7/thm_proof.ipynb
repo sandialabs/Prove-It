{
 "cells": [
  {
   "cell_type": "markdown",
   "metadata": {},
   "source": [
    "Proof of <a class=\"ProveItLink\" href=\"../../../../../../_theory_nbs_/theory.ipynb\">proveit</a>.<a class=\"ProveItLink\" href=\"../../../../../_theory_nbs_/theory.ipynb\">numbers</a>.<a class=\"ProveItLink\" href=\"../../../../_theory_nbs_/theory.ipynb\">numerals</a>.<a class=\"ProveItLink\" href=\"../../theory.ipynb\">decimals</a>.<a class=\"ProveItLink\" href=\"../../theorems.ipynb#tuple_len_7\">tuple_len_7</a> theorem\n",
    "========"
   ]
  },
  {
   "cell_type": "code",
   "execution_count": 1,
   "metadata": {},
   "outputs": [],
   "source": [
    "import proveit\n",
    "theory = proveit.Theory() # the theorem's theory"
   ]
  },
  {
   "cell_type": "code",
   "execution_count": 2,
   "metadata": {},
   "outputs": [
    {
     "data": {
      "text/html": [
       "With these <a href=\"allowed_presumptions.txt\">allowed</a>/<a href=\"disallowed_presumptions.txt\">disallowed</a> theorem/theory presumptions (e.g., to avoid circular dependencies), we begin our proof of<br><strong id=\"tuple_len_7\">tuple_len_7:</strong> <a class=\"ProveItLink\" href=\"../../../__pv_it/theorems/a3d3bc8366ee624c851e0db9feb59fa040b883c40/expr.ipynb\"><img src=\"data:image/png;base64,iVBORw0KGgoAAAANSUhEUgAAAUMAAAAWBAMAAACoKePEAAAAMFBMVEX///8AAAAAAAAAAAAAAAAA\n",
       "AAAAAAAAAAAAAAAAAAAAAAAAAAAAAAAAAAAAAAAAAAAv3aB7AAAAD3RSTlMAq1RmmUTNIjK7EInv\n",
       "3XZ/CtNrAAAACXBIWXMAAA7EAAAOxAGVKw4bAAAEZklEQVRIx71XXWgcVRQ+Ozu787Ozu4NQESNl\n",
       "RPCh/mShpVCFzUIqitK44IuKmkgLpaWUKe1LMdoRX1M26oMgIvNQChJwUjX+UIyhIkiL0orFWgmM\n",
       "TWnSVkJpaSt5aDzn3jt/mbuEbMCbzL3nnnvnzHfO/c6ZWYCem4t/1DRYZ9Mie9KHrKPVHJhiwqX1\n",
       "QiyFbJhaoT7oY/cGXjbNHunB8GPCqDKZUpqfnM3v1Pe1cjr1pJ9M5qQQ+5eXl2dqDYBnaLZ77QjN\n",
       "EWH0eEZdbkn21p2c6sRYSlf2ZRC/2759hwN7Ad4lMoyvHaLaEEYHV0MDMOznVKdeSemKLRlEPJ1D\n",
       "AFu4BxVn7RCtyOjMamgAvs/TbykzPS2D6DAWWj4UMRrlHqj4qDCqjKyCBtuunKaSpexOGUTc5SE2\n",
       "xPfL7OyZHiC+IIyqlC1a3zzPSnhz8T6xYXrO4yWlb+GmoO/0ZRHj4kPnBGeV6XnEcEIO8TDBxEg+\n",
       "B/BxDxB3CqPkJbzmGvzkzDt+wEvZ247KGR6vweueHmV/XXgEX8MobtsaQ9wxS+0cX9xA3uApHQDN\n",
       "jsvDngyMH7zU5Fg2L34TRqtIGfNHUPnJKUtg8af/JQRa41zQbkGtLe4+IizjfkL7uDSKGtFcwc7w\n",
       "K+1Y25fZcyQ9+fDlzNpPwqiFN6s3oMrjg2jqTFKjfEjWjHuLMYr+KOls6GDUO1KIFXJNv4Eww1S2\n",
       "/JzZczU9yeZgBqI1DgF3E9EMs/JgRXUsWavb+azqOPAPkUEKsUo2ShTKkSZ2E81vCPK9v4nQlbmQ\n",
       "qfYDG4ht8PAZenRxsSk56CCEgbgsvshSIojIlloLk6e/L8YBl4lPSLkYkE8KMegLLODmH/pdeu9e\n",
       "rFGmnddnmOpf4tIF/o4ssrBcjo1/Kowa+ODAgfsV1yQYHnKPCehXm4Rkjc7bAZ7Tv+JF0gCYt3DY\n",
       "Jo3icCt67ihCUFuECowGJZA6bnpMhTSAgv0Wi6JK+7UlXsKA14kpURSMUPldhQBvLTSMFhMwnSse\n",
       "Cckamj7mmndYItym5CcH3MKSqGB5iP2TUVEreMSoGsXK8lSb04upyAFrcBMne4NXgLvi/qPCqI4H\n",
       "YW789sACVC+i1Id5TwKc3HyNa+I1uL4ZIz5LwVPIeZJKG7+igzwvhThK1KpGuRy4xlN4Rx0sVNdd\n",
       "obrmRxNCTyHjwWZc9oTRC7HJTd2FRFIIompHEvvu0M7KSzerr/Eb1+285E9A1d8GE1Buw+QEqd5D\n",
       "leHApInBDnxcUeyCnXr1M6Nb0u/9bkIiVSj1yg6X9Aeh4/FPkm4Q42pcGnzySxhz9KEQe22w6Y85\n",
       "QmUONX39FMAY/jswdCVOy4+EUSP6MDbDrkJK+hyvP48LqXDa3C9edF0grvwIc3K9GBQeLEecN2uf\n",
       "CaNmZKQGXYWURFibzwoJqdjm3naDaGR/GZT8lX00vAofPECTo3Al8S+EBSa8s94fBjUOY0G2Np+d\n",
       "FnN9NDRgOqTJ4aefh/+9/QcuJUM3I30k0gAAAABJRU5ErkJggg==\n",
       "\" style=\"display:inline;vertical-align:middle;\" /></a><br>(see <a class=\"ProveItLink\" href=\"../../../__pv_it/theorems/6ae780ed5e6e33c84be807b3c23623f5e67c1c1c0/dependencies.ipynb\">dependencies</a>)<br>"
      ],
      "text/plain": [
       "<IPython.core.display.HTML object>"
      ]
     },
     "metadata": {},
     "output_type": "display_data"
    }
   ],
   "source": [
    "%proving tuple_len_7"
   ]
  },
  {
   "cell_type": "code",
   "execution_count": null,
   "metadata": {},
   "outputs": [],
   "source": []
  }
 ],
 "metadata": {
  "kernelspec": {
   "display_name": "Python 3",
   "language": "python",
   "name": "python3"
  }
 },
 "nbformat": 4,
 "nbformat_minor": 0
}