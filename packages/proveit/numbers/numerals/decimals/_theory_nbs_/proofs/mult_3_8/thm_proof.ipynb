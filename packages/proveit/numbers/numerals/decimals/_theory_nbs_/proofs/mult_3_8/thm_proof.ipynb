{
 "cells": [
  {
   "cell_type": "markdown",
   "metadata": {},
   "source": [
    "Proof of <a class=\"ProveItLink\" href=\"../../../../../../_theory_nbs_/theory.ipynb\">proveit</a>.<a class=\"ProveItLink\" href=\"../../../../../_theory_nbs_/theory.ipynb\">numbers</a>.<a class=\"ProveItLink\" href=\"../../../../_theory_nbs_/theory.ipynb\">numerals</a>.<a class=\"ProveItLink\" href=\"../../theory.ipynb\">decimals</a>.<a class=\"ProveItLink\" href=\"../../theorems.ipynb#mult_3_8\">mult_3_8</a> theorem\n",
    "========"
   ]
  },
  {
   "cell_type": "code",
   "execution_count": 1,
   "metadata": {},
   "outputs": [],
   "source": [
    "import proveit\n",
    "theory = proveit.Theory() # the theorem's theory"
   ]
  },
  {
   "cell_type": "code",
   "execution_count": 2,
   "metadata": {},
   "outputs": [
    {
     "data": {
      "text/html": [
       "With these <a href=\"allowed_presumptions.txt\">allowed</a>/<a href=\"disallowed_presumptions.txt\">disallowed</a> theorem/theory presumptions (e.g., to avoid circular dependencies), we begin our proof of<br><strong id=\"mult_3_8\">mult_3_8:</strong> <a class=\"ProveItLink\" href=\"../../../__pv_it/theorems/8dbf762682d2c317af71d19d3da9aab525d247d00/expr.ipynb\"><img src=\"data:image/png;base64,iVBORw0KGgoAAAANSUhEUgAAAGEAAAAVBAMAAACkm51HAAAAMFBMVEX///8AAAAAAAAAAAAAAAAA\n",
       "AAAAAAAAAAAAAAAAAAAAAAAAAAAAAAAAAAAAAAAAAAAv3aB7AAAAD3RSTlMAInZUiRDNmWbv3US7\n",
       "qzJazP2FAAAACXBIWXMAAA7EAAAOxAGVKw4bAAABoklEQVQ4y32TPUjDQBTH/0nTmn6lHZyqYDsJ\n",
       "gtChuLaC0EnI5CTYRXBw6CCkFMHoYB11cBARBRcRxOKgaxWcHBpxEITazE5iqaAi9V1i03IJecM9\n",
       "7t373b2vA5CESzxMQyJm3bYrXyIHjBYfnG1wrliHqPNegrZqklLK5FFCsIy889AI8AQs88Q4pB9S\n",
       "EYM8dIgdLJX6RzvAAlDjiUfggNQUEWEgeoiEQ8xbRFjliGMV7SSUbSJmLEPeCTx/jwoQ4hN5Adom\n",
       "pBARa2wfPXOO4r1Jykky3CW6BDKMWGEVmH4dHGx8UzdkK8rqOZML2658QNAZcWrH4tQqMNvs0Lrr\n",
       "eoLKJIERh9Y23KXFKlgNgS8VyruLWAc2+4RiItZht1B7sA9MZBF1vSEbENL4jyrRtQmr5XR5XEfg\n",
       "hM8jB2Gs1WofFXBHIRl2VJbsAbEk5Ab3hFKAqFqurGOyPtSPaxVbNAkFjkhpWpVUgm56I32jDSZR\n",
       "edbqlFKdb0av90kXNX/TiJheA53yGXa57GWt+P2PWw+b0PAjFj1sMd9vS31xScbH/w8Ti2ZPTrjU\n",
       "CwAAAABJRU5ErkJggg==\n",
       "\" style=\"display:inline;vertical-align:middle;\" /></a><br>(see <a class=\"ProveItLink\" href=\"../../../__pv_it/theorems/444d2b9d0a791991f73306ee51be4dc5f4c33c570/dependencies.ipynb\">dependencies</a>)<br>"
      ],
      "text/plain": [
       "<IPython.core.display.HTML object>"
      ]
     },
     "metadata": {},
     "output_type": "display_data"
    },
    {
     "name": "stdout",
     "output_type": "stream",
     "text": [
      "mult_3_8 may now be readily provable (assuming required theorems are usable).  Simply execute \"%qed\".\n"
     ]
    }
   ],
   "source": [
    "%proving mult_3_8"
   ]
  },
  {
   "cell_type": "code",
   "execution_count": null,
   "metadata": {},
   "outputs": [],
   "source": []
  }
 ],
 "metadata": {
  "kernelspec": {
   "display_name": "Python 3",
   "language": "python",
   "name": "python3"
  }
 },
 "nbformat": 4,
 "nbformat_minor": 0
}