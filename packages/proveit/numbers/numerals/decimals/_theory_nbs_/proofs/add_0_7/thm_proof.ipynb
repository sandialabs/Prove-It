{
 "cells": [
  {
   "cell_type": "markdown",
   "metadata": {},
   "source": [
    "Proof of <a class=\"ProveItLink\" href=\"../../../../../../_theory_nbs_/theory.ipynb\">proveit</a>.<a class=\"ProveItLink\" href=\"../../../../../_theory_nbs_/theory.ipynb\">numbers</a>.<a class=\"ProveItLink\" href=\"../../../../_theory_nbs_/theory.ipynb\">numerals</a>.<a class=\"ProveItLink\" href=\"../../theory.ipynb\">decimals</a>.<a class=\"ProveItLink\" href=\"../../theorems.ipynb#add_0_7\">add_0_7</a> theorem\n",
    "========"
   ]
  },
  {
   "cell_type": "code",
   "execution_count": 1,
   "metadata": {},
   "outputs": [],
   "source": [
    "import proveit\n",
    "theory = proveit.Theory() # the theorem's theory"
   ]
  },
  {
   "cell_type": "code",
   "execution_count": 2,
   "metadata": {},
   "outputs": [
    {
     "data": {
      "text/html": [
       "With these <a href=\"allowed_presumptions.txt\">allowed</a>/<a href=\"disallowed_presumptions.txt\">disallowed</a> theorem/theory presumptions (e.g., to avoid circular dependencies), we begin our proof of<br><strong id=\"add_0_7\">add_0_7:</strong> <a class=\"ProveItLink\" href=\"../../../__pv_it/theorems/490eb07ef83004364f4eb8150553242629ec52e20/expr.ipynb\"><img src=\"data:image/png;base64,iVBORw0KGgoAAAANSUhEUgAAAGIAAAAVBAMAAABPrCZEAAAAMFBMVEX///8AAAAAAAAAAAAAAAAA\n",
       "AAAAAAAAAAAAAAAAAAAAAAAAAAAAAAAAAAAAAAAAAAAv3aB7AAAAD3RSTlMAInZUiRDNmWbv3US7\n",
       "qzJazP2FAAAACXBIWXMAAA7EAAAOxAGVKw4bAAABWElEQVQ4y3WTPUvDUBSG3zTVxDZENz8Q1H9Q\n",
       "irg2dFboJorQgAiOEYRKp26uWcWl4BYQxKmb0V+QXZDOTuIHuMVz7gXJvTc3kI/7HJ6c84ZcACuo\n",
       "P2wcjY7J1gZ0eazHwC7Q7F+opV5ZlmljohsCYyEGTnGsjrA/Go07ONMNib0J/CmauWQzeYuAVeBa\n",
       "NyReAoIC7o9kXXmjaAWVBpoh8R6wnCD8UgyKNgcWjSACXwJDMn41Y5PLhWEwPge2IoSfmvFKpx/z\n",
       "k5eJo/jHd9L4Vg0npYub6i0EvqWpIrS5xzjLbrLsXszLrw8/jBixNCi5qyVv8dduGz0EpqmCHL76\n",
       "dTHksd2pnkPgF0qYwotV4ynh5LneQ+AD0edorhq9iN8eGT8Wk3c6D/tvUI11/qFbD7oh8byKutXF\n",
       "Rv328JPqalZdXFl21LNtqzm5pXBiMwLbtnW2LYWdevwHkFdWDcTdV70AAAAASUVORK5CYII=\n",
       "\" style=\"display:inline;vertical-align:middle;\" /></a><br>(see <a class=\"ProveItLink\" href=\"../../../__pv_it/theorems/7d0a9293ce03c525ae21fb0392a0e4177c946c750/dependencies.ipynb\">dependencies</a>)<br>"
      ],
      "text/plain": [
       "<IPython.core.display.HTML object>"
      ]
     },
     "metadata": {},
     "output_type": "display_data"
    },
    {
     "name": "stdout",
     "output_type": "stream",
     "text": [
      "add_0_7 may now be readily provable (assuming required theorems are usable).  Simply execute \"%qed\".\n"
     ]
    }
   ],
   "source": [
    "%proving add_0_7"
   ]
  },
  {
   "cell_type": "code",
   "execution_count": null,
   "metadata": {},
   "outputs": [],
   "source": []
  }
 ],
 "metadata": {
  "kernelspec": {
   "display_name": "Python 3",
   "language": "python",
   "name": "python3"
  }
 },
 "nbformat": 4,
 "nbformat_minor": 0
}