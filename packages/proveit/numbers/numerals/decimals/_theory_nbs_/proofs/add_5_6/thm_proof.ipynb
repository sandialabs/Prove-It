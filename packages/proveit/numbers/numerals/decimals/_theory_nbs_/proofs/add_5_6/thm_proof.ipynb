{
 "cells": [
  {
   "cell_type": "markdown",
   "metadata": {},
   "source": [
    "Proof of <a class=\"ProveItLink\" href=\"../../../../../../_theory_nbs_/theory.ipynb\">proveit</a>.<a class=\"ProveItLink\" href=\"../../../../../_theory_nbs_/theory.ipynb\">numbers</a>.<a class=\"ProveItLink\" href=\"../../../../_theory_nbs_/theory.ipynb\">numerals</a>.<a class=\"ProveItLink\" href=\"../../theory.ipynb\">decimals</a>.<a class=\"ProveItLink\" href=\"../../theorems.ipynb#add_5_6\">add_5_6</a> theorem\n",
    "========"
   ]
  },
  {
   "cell_type": "code",
   "execution_count": 1,
   "metadata": {},
   "outputs": [],
   "source": [
    "import proveit\n",
    "theory = proveit.Theory() # the theorem's theory"
   ]
  },
  {
   "cell_type": "code",
   "execution_count": 2,
   "metadata": {},
   "outputs": [
    {
     "data": {
      "text/html": [
       "With these <a href=\"allowed_presumptions.txt\">allowed</a>/<a href=\"disallowed_presumptions.txt\">disallowed</a> theorem/theory presumptions (e.g., to avoid circular dependencies), we begin our proof of<br><strong id=\"add_5_6\">add_5_6:</strong> <a class=\"ProveItLink\" href=\"../../../__pv_it/theorems/2926adbff9ea0964d408bc66259be4ac18ccd4cf0/expr.ipynb\"><img src=\"data:image/png;base64,iVBORw0KGgoAAAANSUhEUgAAAGsAAAAVBAMAAACzuQ2OAAAAMFBMVEX///8AAAAAAAAAAAAAAAAA\n",
       "AAAAAAAAAAAAAAAAAAAAAAAAAAAAAAAAAAAAAAAAAAAv3aB7AAAAD3RSTlMAInZUiRDNmWbv3US7\n",
       "qzJazP2FAAAACXBIWXMAAA7EAAAOxAGVKw4bAAABV0lEQVQ4y2NgYBBgwA4YGfABJgOGBwysWPRy\n",
       "K+DTZsLAMD9tVQCaqIvLAwYNTMWvAqAEawIDw8pfrmjSYht4FzCwoZvFej0/AEIwsDcwMFyAS+yA\n",
       "0kkMPAcYOAowbNMPgBKcDMjajCAU81cwNRW3NjNs2ngmgKkM3NpKgPQNlXuo2jjznKqBlC9ubSAT\n",
       "jzLIb0DRxp/BwGnAwNAGYrOvAoMLqNoWQ1y1AEVb/AcGdqDHLHHbNhvMZf8IJKpWrZq5atVakLYF\n",
       "DBy/GRje49XGk8DA/g/VkQkMHD8YGHbi1gZ0JOcCBt4PqCEJsc0Kt98OMTCwAHUeQI03oN+AcdCD\n",
       "2zZgIDMWMGgGoGhjOMIQaQCJHFTgLwAlXgFp8dpS1HhjYCkHxeRqdF135+c2QAiuB8jiRigZbgHu\n",
       "fIOaXncgc0CpHCc4iFNGBl82jSHDQJAPcOV9JgHcmgDV7l4d7Tw2hwAAAABJRU5ErkJggg==\n",
       "\" style=\"display:inline;vertical-align:middle;\" /></a><br>(see <a class=\"ProveItLink\" href=\"../../../__pv_it/theorems/a98e2bee651e04b1143beacdb3a09304eaea7bec0/dependencies.ipynb\">dependencies</a>)<br>"
      ],
      "text/plain": [
       "<IPython.core.display.HTML object>"
      ]
     },
     "metadata": {},
     "output_type": "display_data"
    },
    {
     "name": "stdout",
     "output_type": "stream",
     "text": [
      "add_5_6 may now be readily provable (assuming required theorems are usable).  Simply execute \"%qed\".\n"
     ]
    }
   ],
   "source": [
    "%proving add_5_6"
   ]
  },
  {
   "cell_type": "code",
   "execution_count": null,
   "metadata": {},
   "outputs": [],
   "source": []
  }
 ],
 "metadata": {
  "kernelspec": {
   "display_name": "Python 3",
   "language": "python",
   "name": "python3"
  }
 },
 "nbformat": 4,
 "nbformat_minor": 0
}