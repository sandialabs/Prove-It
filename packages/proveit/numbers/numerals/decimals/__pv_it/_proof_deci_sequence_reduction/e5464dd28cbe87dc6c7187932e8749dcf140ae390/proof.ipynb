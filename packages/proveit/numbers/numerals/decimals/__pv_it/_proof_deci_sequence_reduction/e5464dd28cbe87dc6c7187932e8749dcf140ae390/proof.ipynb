{
 "cells": [
  {
   "cell_type": "markdown",
   "metadata": {},
   "source": [
    "Show the Proof\n",
    "========"
   ]
  },
  {
   "cell_type": "code",
   "execution_count": 1,
   "metadata": {},
   "outputs": [
    {
     "data": {
      "text/html": [
       "<table><tr><th>&nbsp;</th><th>step type</th><th>requirements</th><th>statement</th></tr>\n",
       "<tr><td><a name=\"proveit.numbers.numerals.decimals._proof_deci_sequence_reduction.e5464dd28cbe87dc6c7187932e8749dcf140ae390_step0\">0</a></td><td>generalization</td><td><a href=\"#proveit.numbers.numerals.decimals._proof_deci_sequence_reduction.e5464dd28cbe87dc6c7187932e8749dcf140ae390_step1\">1</a></td><td><span style=\"font-size:20px;\"> <a class=\"ProveItLink\" href=\"proof.ipynb\" style=\"text-decoration: none\">&nbsp;&#x22A2;&nbsp;&nbsp;</a><a class=\"ProveItLink\" href=\"../../theorems/c48c8eb4fde878d7c8e674b4c5d52dd37ef33f660/expr.ipynb\"><img src=\"../../theorems/c48c8eb4fde878d7c8e674b4c5d52dd37ef33f660/expr.png\" style=\"display:inline;vertical-align:middle;\" /></a></span></td></tr>\n",
       "<tr><td><a name=\"proveit.numbers.numerals.decimals._proof_deci_sequence_reduction.e5464dd28cbe87dc6c7187932e8749dcf140ae390_step1\">1</a></td><td>instantiation</td><td><a href=\"#proveit.numbers.numerals.decimals._proof_deci_sequence_reduction.e5464dd28cbe87dc6c7187932e8749dcf140ae390_step2\">2</a>, <a href=\"#proveit.numbers.numerals.decimals._proof_deci_sequence_reduction.e5464dd28cbe87dc6c7187932e8749dcf140ae390_step3\">3</a></td><td><span style=\"font-size:20px;\"><a class=\"ProveItLink\" href=\"../../theorems/aaf74891030974649b2ab5ae1f66e1f3494182e50/expr.ipynb\"><img src=\"../../theorems/aaf74891030974649b2ab5ae1f66e1f3494182e50/expr.png\" style=\"display:inline;vertical-align:middle;\" /></a> <a class=\"ProveItLink\" href=\"../ca555ee0a4568c135f00d417d1bb4f21e3c734900/proof.ipynb\" style=\"text-decoration: none\">&nbsp;&#x22A2;&nbsp;&nbsp;</a><a class=\"ProveItLink\" href=\"../../theorems/3c215f19db2c313813ac827dbe1f16b3902eac0b0/expr.ipynb\"><img src=\"../../theorems/3c215f19db2c313813ac827dbe1f16b3902eac0b0/expr.png\" style=\"display:inline;vertical-align:middle;\" /></a></span></td></tr>\n",
       "<tr><td>&nbsp;</td><td colspan=4 style=\"text-align:left\"><span style=\"font-size:20px;\"><a class=\"ProveItLink\" href=\"../3e7f3569c18357d67af66f83da8ba5f81ce02a880/expr.ipynb\"><img src=\"../3e7f3569c18357d67af66f83da8ba5f81ce02a880/expr.png\" style=\"display:inline;vertical-align:middle;\" /></a> : <a class=\"ProveItLink\" href=\"../b6c096f1cf1c5873ad7393ecbbc0ff5df91083590/expr.ipynb\"><img src=\"../b6c096f1cf1c5873ad7393ecbbc0ff5df91083590/expr.png\" style=\"display:inline;vertical-align:middle;\" /></a>, <a class=\"ProveItLink\" href=\"../../../../../../__pv_it/common/a0d9d672aa5e272d907247690c152cc2c6daafb70/expr.ipynb\"><img src=\"../../../../../../__pv_it/common/a0d9d672aa5e272d907247690c152cc2c6daafb70/expr.png\" style=\"display:inline;vertical-align:middle;\" /></a> : <a class=\"ProveItLink\" href=\"../../theorems/21675d20a2155d803d462252a7be2b80e87685ce0/expr.ipynb\"><img src=\"../../theorems/21675d20a2155d803d462252a7be2b80e87685ce0/expr.png\" style=\"display:inline;vertical-align:middle;\" /></a>, <a class=\"ProveItLink\" href=\"../../../../../../__pv_it/common/ff7dba4ef0bbe791ab573bf2d9c220a304399ac80/expr.ipynb\"><img src=\"../../../../../../__pv_it/common/ff7dba4ef0bbe791ab573bf2d9c220a304399ac80/expr.png\" style=\"display:inline;vertical-align:middle;\" /></a> : <a class=\"ProveItLink\" href=\"../../../../../../__pv_it/common/ceef4280a2f1cc604b455b54e735507244cc62cd0/expr.ipynb\"><img src=\"../../../../../../__pv_it/common/ceef4280a2f1cc604b455b54e735507244cc62cd0/expr.png\" style=\"display:inline;vertical-align:middle;\" /></a></span></td></tr><tr><td><a name=\"proveit.numbers.numerals.decimals._proof_deci_sequence_reduction.e5464dd28cbe87dc6c7187932e8749dcf140ae390_step2\">2</a></td><td>axiom</td><td></td><td><span style=\"font-size:20px;\"> <a class=\"ProveItLink\" href=\"../../../../../../logic/equality/_theory_nbs_/axioms.ipynb#substitution\" style=\"text-decoration: none\">&nbsp;&#x22A2;&nbsp;&nbsp;</a><a class=\"ProveItLink\" href=\"../../../../../../logic/equality/__pv_it/axioms/b3647e5bced6c805148d96be1aa0946871a946d20/expr.ipynb\"><img src=\"../../../../../../logic/equality/__pv_it/axioms/b3647e5bced6c805148d96be1aa0946871a946d20/expr.png\" style=\"display:inline;vertical-align:middle;\" /></a></span></td></tr>\n",
       "<tr><td>&nbsp;</td><td colspan=4 style-\"text-align:left\"><a class=\"ProveItLink\" href=\"../../../../../../logic/equality/_theory_nbs_/axioms.ipynb#substitution\">proveit.logic.equality.substitution</a></td></tr><tr><td><a name=\"proveit.numbers.numerals.decimals._proof_deci_sequence_reduction.e5464dd28cbe87dc6c7187932e8749dcf140ae390_step3\">3</a></td><td>assumption</td><td></td><td><span style=\"font-size:20px;\"><a class=\"ProveItLink\" href=\"../../theorems/aaf74891030974649b2ab5ae1f66e1f3494182e50/expr.ipynb\"><img src=\"../../theorems/aaf74891030974649b2ab5ae1f66e1f3494182e50/expr.png\" style=\"display:inline;vertical-align:middle;\" /></a> <a class=\"ProveItLink\" href=\"../064ee710ab27a2e5823ebc0a808eb12241db199e0/proof.ipynb\" style=\"text-decoration: none\">&nbsp;&#x22A2;&nbsp;&nbsp;</a><a class=\"ProveItLink\" href=\"../../theorems/aaf74891030974649b2ab5ae1f66e1f3494182e50/expr.ipynb\"><img src=\"../../theorems/aaf74891030974649b2ab5ae1f66e1f3494182e50/expr.png\" style=\"display:inline;vertical-align:middle;\" /></a></span></td></tr>\n",
       "</table>"
      ],
      "text/plain": [
       "<proveit._core_.proof._ShowProof at 0x7f0c90091c88>"
      ]
     },
     "execution_count": 1,
     "metadata": {},
     "output_type": "execute_result"
    }
   ],
   "source": [
    "import proveit\n",
    "# Automation is not needed when only showing a stored proof:\n",
    "proveit.defaults.automation = False # This will speed things up.\n",
    "proveit.defaults.inline_pngs = False # Makes files smaller.\n",
    "%show_proof"
   ]
  },
  {
   "cell_type": "code",
   "execution_count": null,
   "metadata": {},
   "outputs": [],
   "source": []
  }
 ],
 "metadata": {
  "kernelspec": {
   "display_name": "Python 3",
   "language": "python",
   "name": "python3"
  }
 },
 "nbformat": 4,
 "nbformat_minor": 0
}