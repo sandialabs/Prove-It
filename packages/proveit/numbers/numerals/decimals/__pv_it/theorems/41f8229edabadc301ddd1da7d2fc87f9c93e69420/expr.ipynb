{
 "cells": [
  {
   "cell_type": "markdown",
   "metadata": {},
   "source": [
    "Expression of type <a class=\"ProveItLink\" href=\"../../../../../../../../doc/html/api/proveit.Conditional.html\">Conditional</a>\n",
    "=======================\n",
    "# from the theory of <a class=\"ProveItLink\" href=\"../../../_theory_nbs_/theory.ipynb\">proveit.numbers.numerals.decimals</a>"
   ]
  },
  {
   "cell_type": "code",
   "execution_count": 1,
   "metadata": {},
   "outputs": [],
   "source": [
    "import proveit\n",
    "# Automation is not needed when building an expression:\n",
    "proveit.defaults.automation = False # This will speed things up.\n",
    "proveit.defaults.inline_pngs = False # Makes files smaller.\n",
    "%load_expr # Load the stored expression as 'stored_expr'\n",
    "# import Expression classes needed to build the expression\n",
    "from proveit import Conditional, Function, f, i, j\n",
    "from proveit.core_expr_types import f_i_to_j\n",
    "from proveit.logic import Equals\n",
    "from proveit.numbers import Add, one, two"
   ]
  },
  {
   "cell_type": "code",
   "execution_count": 2,
   "metadata": {},
   "outputs": [
    {
     "data": {
      "text/html": [
       "<strong id=\"expr\">expr:</strong> <a class=\"ProveItLink\" href=\"expr.ipynb\"><img src=\"expr.png\" style=\"display:inline;vertical-align:middle;\" /></a><br>"
      ],
      "text/plain": [
       "<IPython.core.display.HTML object>"
      ]
     },
     "metadata": {},
     "output_type": "display_data"
    }
   ],
   "source": [
    "# build up the expression from sub-expressions\n",
    "sub_expr1 = Add(i, two)\n",
    "expr = Conditional(Equals([f_i_to_j], [Function(f, [i]), Function(f, [Add(i, one)]), Function(f, [sub_expr1])]), Equals(j, sub_expr1))"
   ]
  },
  {
   "cell_type": "code",
   "execution_count": 3,
   "metadata": {},
   "outputs": [
    {
     "name": "stdout",
     "output_type": "stream",
     "text": [
      "Passed sanity check: expr matches stored_expr\n"
     ]
    }
   ],
   "source": [
    "# check that the built expression is the same as the stored expression\n",
    "assert expr == stored_expr\n",
    "assert expr._style_id == stored_expr._style_id\n",
    "print(\"Passed sanity check: expr matches stored_expr\")"
   ]
  },
  {
   "cell_type": "code",
   "execution_count": 4,
   "metadata": {},
   "outputs": [
    {
     "name": "stdout",
     "output_type": "stream",
     "text": [
      "\\left\\{\\left(f\\left(i\\right), f\\left(i + 1\\right), \\ldots, f\\left(j\\right)\\right) = \\left(f\\left(i\\right), f\\left(i + 1\\right), f\\left(i + 2\\right)\\right) \\textrm{ if } j = \\left(i + 2\\right)\\right..\n"
     ]
    }
   ],
   "source": [
    "# Show the LaTeX representation of the expression for convenience if you need it.\n",
    "print(stored_expr.latex())"
   ]
  },
  {
   "cell_type": "code",
   "execution_count": 5,
   "metadata": {},
   "outputs": [
    {
     "data": {
      "text/html": [
       "<table>\n",
       "<tr><th>name</th><th>description</th><th>default</th><th>current value</th><th>related methods</th></tr><tr><td>condition_delimiter</td><td>'comma' or 'and'</td><td>comma</td><td>comma</td><td>('with_comma_delimiter', 'with_conjunction_delimiter')</td></tr>\n",
       "</table>\n"
      ],
      "text/plain": [
       "style name: condition_delimiter\n",
       "description: 'comma' or 'and'\n",
       "default: comma\n",
       "current value: comma\n",
       "related methods: ('with_comma_delimiter', 'with_conjunction_delimiter')"
      ]
     },
     "metadata": {},
     "output_type": "display_data"
    }
   ],
   "source": [
    "stored_expr.style_options()"
   ]
  },
  {
   "cell_type": "code",
   "execution_count": 6,
   "metadata": {},
   "outputs": [
    {
     "data": {
      "text/html": [
       "<table><tr><th>&nbsp;</th><th>core type</th><th>sub-expressions</th><th>expression</th></tr>\n",
       "<tr><td>0</td><td>Conditional</td><td>value:&nbsp;1<br>condition:&nbsp;2<br></td><td><a class=\"ProveItLink\" href=\"expr.ipynb\"><img src=\"expr.png\" style=\"display:inline;vertical-align:middle;\" /></a></td></tr>\n",
       "<tr><td>1</td><td>Operation</td><td>operator:&nbsp;4<br>operands:&nbsp;3<br></td><td><a class=\"ProveItLink\" href=\"../bfdef12ebc1ce57110adfc48075a3140a4cb5c580/expr.ipynb\"><img src=\"../bfdef12ebc1ce57110adfc48075a3140a4cb5c580/expr.png\" style=\"display:inline;vertical-align:middle;\" /></a></td></tr>\n",
       "<tr><td>2</td><td>Operation</td><td>operator:&nbsp;4<br>operands:&nbsp;5<br></td><td><a class=\"ProveItLink\" href=\"../f651ee1d7aaf2a015ad732000e147c2e9042ce440/expr.ipynb\"><img src=\"../f651ee1d7aaf2a015ad732000e147c2e9042ce440/expr.png\" style=\"display:inline;vertical-align:middle;\" /></a></td></tr>\n",
       "<tr><td>3</td><td>ExprTuple</td><td>6, 7</td><td><a class=\"ProveItLink\" href=\"../88e83bba83f9d2634029fdf6b58ff7999e1142f60/expr.ipynb\"><img src=\"../88e83bba83f9d2634029fdf6b58ff7999e1142f60/expr.png\" style=\"display:inline;vertical-align:middle;\" /></a></td></tr>\n",
       "<tr><td>4</td><td>Literal</td><td></td><td><a class=\"ProveItLink\" href=\"../../../../../../logic/equality/__pv_it/common/fb96dc12b2aa8801dda64d0132b396c63d1502bb0/expr.ipynb\"><img src=\"../../../../../../logic/equality/__pv_it/common/fb96dc12b2aa8801dda64d0132b396c63d1502bb0/expr.png\" style=\"display:inline;vertical-align:middle;\" /></a></td></tr>\n",
       "<tr><td>5</td><td>ExprTuple</td><td>13, 19</td><td><a class=\"ProveItLink\" href=\"../01f43d10e4272ebc73c221d09dc72e820f24c5f10/expr.ipynb\"><img src=\"../01f43d10e4272ebc73c221d09dc72e820f24c5f10/expr.png\" style=\"display:inline;vertical-align:middle;\" /></a></td></tr>\n",
       "<tr><td>6</td><td>ExprTuple</td><td>8</td><td><a class=\"ProveItLink\" href=\"../ca4fef6e8316ef2c0e82c2bd07277543e391687b0/expr.ipynb\"><img src=\"../ca4fef6e8316ef2c0e82c2bd07277543e391687b0/expr.png\" style=\"display:inline;vertical-align:middle;\" /></a></td></tr>\n",
       "<tr><td>7</td><td>ExprTuple</td><td>9, 10, 11</td><td><a class=\"ProveItLink\" href=\"../f96a0bbdeb0c29da8af46b2b2dca9269dff17a8c0/expr.ipynb\"><img src=\"../f96a0bbdeb0c29da8af46b2b2dca9269dff17a8c0/expr.png\" style=\"display:inline;vertical-align:middle;\" /></a></td></tr>\n",
       "<tr><td>8</td><td>ExprRange</td><td>lambda_map:&nbsp;12<br>start_index:&nbsp;27<br>end_index:&nbsp;13<br></td><td><a class=\"ProveItLink\" href=\"../../../../../../core_expr_types/__pv_it/common/253a5fe8886c2ac76e888f437ab1b15f51c1335e0/expr.ipynb\"><img src=\"../../../../../../core_expr_types/__pv_it/common/253a5fe8886c2ac76e888f437ab1b15f51c1335e0/expr.png\" style=\"display:inline;vertical-align:middle;\" /></a></td></tr>\n",
       "<tr><td>9</td><td>Operation</td><td>operator:&nbsp;20<br>operand:&nbsp;27<br></td><td><a class=\"ProveItLink\" href=\"../47417ab7f1e7f118867e6cd89ca650b18d19923f0/expr.ipynb\"><img src=\"../47417ab7f1e7f118867e6cd89ca650b18d19923f0/expr.png\" style=\"display:inline;vertical-align:middle;\" /></a></td></tr>\n",
       "<tr><td>10</td><td>Operation</td><td>operator:&nbsp;20<br>operand:&nbsp;18<br></td><td><a class=\"ProveItLink\" href=\"../93554b4e75307d4f00d300f7db61f5d46fd2b9d90/expr.ipynb\"><img src=\"../93554b4e75307d4f00d300f7db61f5d46fd2b9d90/expr.png\" style=\"display:inline;vertical-align:middle;\" /></a></td></tr>\n",
       "<tr><td>11</td><td>Operation</td><td>operator:&nbsp;20<br>operand:&nbsp;19<br></td><td><a class=\"ProveItLink\" href=\"../522d3600b100ac3eabcfad3db0c2f393d8f74f2f0/expr.ipynb\"><img src=\"../522d3600b100ac3eabcfad3db0c2f393d8f74f2f0/expr.png\" style=\"display:inline;vertical-align:middle;\" /></a></td></tr>\n",
       "<tr><td>12</td><td>Lambda</td><td>parameter:&nbsp;25<br>body:&nbsp;17<br></td><td><a class=\"ProveItLink\" href=\"../../../../../../core_expr_types/__pv_it/common/85a3534ef7cc0fae4ff216233b0408e0e4a3424b0/expr.ipynb\"><img src=\"../../../../../../core_expr_types/__pv_it/common/85a3534ef7cc0fae4ff216233b0408e0e4a3424b0/expr.png\" style=\"display:inline;vertical-align:middle;\" /></a></td></tr>\n",
       "<tr><td>13</td><td>Variable</td><td></td><td><a class=\"ProveItLink\" href=\"../../../../../../__pv_it/common/1ed21df18baca2f42b561a7ffbf30a2743d594650/expr.ipynb\"><img src=\"../../../../../../__pv_it/common/1ed21df18baca2f42b561a7ffbf30a2743d594650/expr.png\" style=\"display:inline;vertical-align:middle;\" /></a></td></tr>\n",
       "<tr><td>14</td><td>ExprTuple</td><td>27</td><td><a class=\"ProveItLink\" href=\"../0fc33550aa9740010879fdf30c320b63ba918eff0/expr.ipynb\"><img src=\"../0fc33550aa9740010879fdf30c320b63ba918eff0/expr.png\" style=\"display:inline;vertical-align:middle;\" /></a></td></tr>\n",
       "<tr><td>15</td><td>ExprTuple</td><td>18</td><td><a class=\"ProveItLink\" href=\"../c9799da28c37a9b544cd9f03ec0f18e6882c44730/expr.ipynb\"><img src=\"../c9799da28c37a9b544cd9f03ec0f18e6882c44730/expr.png\" style=\"display:inline;vertical-align:middle;\" /></a></td></tr>\n",
       "<tr><td>16</td><td>ExprTuple</td><td>19</td><td><a class=\"ProveItLink\" href=\"../b9350d2814b4b140833e3fb76e5f21b88bda12d40/expr.ipynb\"><img src=\"../b9350d2814b4b140833e3fb76e5f21b88bda12d40/expr.png\" style=\"display:inline;vertical-align:middle;\" /></a></td></tr>\n",
       "<tr><td>17</td><td>Operation</td><td>operator:&nbsp;20<br>operand:&nbsp;25<br></td><td><a class=\"ProveItLink\" href=\"../../../../../../core_expr_types/__pv_it/common/1fec0eaf1cfb24a7fd0f169d6d2b28f8410bcd7c0/expr.ipynb\"><img src=\"../../../../../../core_expr_types/__pv_it/common/1fec0eaf1cfb24a7fd0f169d6d2b28f8410bcd7c0/expr.png\" style=\"display:inline;vertical-align:middle;\" /></a></td></tr>\n",
       "<tr><td>18</td><td>Operation</td><td>operator:&nbsp;23<br>operands:&nbsp;22<br></td><td><a class=\"ProveItLink\" href=\"../a2e143af123f66da09e0988b76b1d4e48661786c0/expr.ipynb\"><img src=\"../a2e143af123f66da09e0988b76b1d4e48661786c0/expr.png\" style=\"display:inline;vertical-align:middle;\" /></a></td></tr>\n",
       "<tr><td>19</td><td>Operation</td><td>operator:&nbsp;23<br>operands:&nbsp;24<br></td><td><a class=\"ProveItLink\" href=\"../24128158ac3bbc68b8ee4a75afd24ed2fce98d980/expr.ipynb\"><img src=\"../24128158ac3bbc68b8ee4a75afd24ed2fce98d980/expr.png\" style=\"display:inline;vertical-align:middle;\" /></a></td></tr>\n",
       "<tr><td>20</td><td>Variable</td><td></td><td><a class=\"ProveItLink\" href=\"../../../../../../__pv_it/common/01b6dbb444a31fc38af4c2379badef6c75b363710/expr.ipynb\"><img src=\"../../../../../../__pv_it/common/01b6dbb444a31fc38af4c2379badef6c75b363710/expr.png\" style=\"display:inline;vertical-align:middle;\" /></a></td></tr>\n",
       "<tr><td>21</td><td>ExprTuple</td><td>25</td><td><a class=\"ProveItLink\" href=\"../../../../../../core_expr_types/__pv_it/common/4b0dd6be36d76552eda6a95d5b4a27f5a5b62f900/expr.ipynb\"><img src=\"../../../../../../core_expr_types/__pv_it/common/4b0dd6be36d76552eda6a95d5b4a27f5a5b62f900/expr.png\" style=\"display:inline;vertical-align:middle;\" /></a></td></tr>\n",
       "<tr><td>22</td><td>ExprTuple</td><td>27, 26</td><td><a class=\"ProveItLink\" href=\"../c89850952f9608f21aa2408d82ba7769fea41e400/expr.ipynb\"><img src=\"../c89850952f9608f21aa2408d82ba7769fea41e400/expr.png\" style=\"display:inline;vertical-align:middle;\" /></a></td></tr>\n",
       "<tr><td>23</td><td>Literal</td><td></td><td><a class=\"ProveItLink\" href=\"../../../../../addition/__pv_it/common/4b7effaab3619a1c2c38fe2dee8601df8ec714590/expr.ipynb\"><img src=\"../../../../../addition/__pv_it/common/4b7effaab3619a1c2c38fe2dee8601df8ec714590/expr.png\" style=\"display:inline;vertical-align:middle;\" /></a></td></tr>\n",
       "<tr><td>24</td><td>ExprTuple</td><td>27, 28</td><td><a class=\"ProveItLink\" href=\"../f6b83eb3317523dc13986de5fc52ed67a403af7b0/expr.ipynb\"><img src=\"../f6b83eb3317523dc13986de5fc52ed67a403af7b0/expr.png\" style=\"display:inline;vertical-align:middle;\" /></a></td></tr>\n",
       "<tr><td>25</td><td>Variable</td><td></td><td><a class=\"ProveItLink\" href=\"../../../../../../core_expr_types/__pv_it/common/006c465e50948aa2b52285e2de47974f741255cc0/expr.ipynb\"><img src=\"../../../../../../core_expr_types/__pv_it/common/006c465e50948aa2b52285e2de47974f741255cc0/expr.png\" style=\"display:inline;vertical-align:middle;\" /></a></td></tr>\n",
       "<tr><td>26</td><td>Literal</td><td></td><td><a class=\"ProveItLink\" href=\"../../../../__pv_it/common/682157d4892d216d9e5626ed533aff9b56b9506e0/expr.ipynb\"><img src=\"../../../../__pv_it/common/682157d4892d216d9e5626ed533aff9b56b9506e0/expr.png\" style=\"display:inline;vertical-align:middle;\" /></a></td></tr>\n",
       "<tr><td>27</td><td>Variable</td><td></td><td><a class=\"ProveItLink\" href=\"../../../../../../__pv_it/common/ae955345c83abf786c3aff8681cd5465beae262d0/expr.ipynb\"><img src=\"../../../../../../__pv_it/common/ae955345c83abf786c3aff8681cd5465beae262d0/expr.png\" style=\"display:inline;vertical-align:middle;\" /></a></td></tr>\n",
       "<tr><td>28</td><td>Literal</td><td></td><td><a class=\"ProveItLink\" href=\"../../../../__pv_it/common/af4aab8a07465db063742696e006d04670f30cf10/expr.ipynb\"><img src=\"../../../../__pv_it/common/af4aab8a07465db063742696e006d04670f30cf10/expr.png\" style=\"display:inline;vertical-align:middle;\" /></a></td></tr>\n",
       "</table>\n"
      ],
      "text/plain": [
       "0. {(f(i), f(i + 1), ..., f(j)) = (f(i), f(i + 1), f(i + 2)) if j = (i + 2).\n",
       "   core type: Conditional\n",
       "   value: 1\n",
       "   condition: 2\n",
       "1. (f(i), f(i + 1), ..., f(j)) = (f(i), f(i + 1), f(i + 2))\n",
       "   core type: Operation\n",
       "   operator: 4\n",
       "   operands: 3\n",
       "2. j = (i + 2)\n",
       "   core type: Operation\n",
       "   operator: 4\n",
       "   operands: 5\n",
       "3. ((f(i), f(i + 1), ..., f(j)), (f(i), f(i + 1), f(i + 2)))\n",
       "   core type: ExprTuple\n",
       "   sub-expressions: 6, 7\n",
       "4. =\n",
       "   core type: Literal\n",
       "   sub-expressions: \n",
       "5. (j, i + 2)\n",
       "   core type: ExprTuple\n",
       "   sub-expressions: 13, 19\n",
       "6. (f(i), f(i + 1), ..., f(j))\n",
       "   core type: ExprTuple\n",
       "   sub-expressions: 8\n",
       "7. (f(i), f(i + 1), f(i + 2))\n",
       "   core type: ExprTuple\n",
       "   sub-expressions: 9, 10, 11\n",
       "8. f(i), f(i + 1), ..., f(j)\n",
       "   core type: ExprRange\n",
       "   lambda_map: 12\n",
       "   start_index: 27\n",
       "   end_index: 13\n",
       "9. f(i)\n",
       "   core type: Operation\n",
       "   operator: 20\n",
       "   operand: 27\n",
       "10. f(i + 1)\n",
       "    core type: Operation\n",
       "    operator: 20\n",
       "    operand: 18\n",
       "11. f(i + 2)\n",
       "    core type: Operation\n",
       "    operator: 20\n",
       "    operand: 19\n",
       "12. _a -> f(_a)\n",
       "    core type: Lambda\n",
       "    parameter: 25\n",
       "    body: 17\n",
       "13. j\n",
       "    core type: Variable\n",
       "    sub-expressions: \n",
       "14. (i)\n",
       "    core type: ExprTuple\n",
       "    sub-expressions: 27\n",
       "15. (i + 1)\n",
       "    core type: ExprTuple\n",
       "    sub-expressions: 18\n",
       "16. (i + 2)\n",
       "    core type: ExprTuple\n",
       "    sub-expressions: 19\n",
       "17. f(_a)\n",
       "    core type: Operation\n",
       "    operator: 20\n",
       "    operand: 25\n",
       "18. i + 1\n",
       "    core type: Operation\n",
       "    operator: 23\n",
       "    operands: 22\n",
       "19. i + 2\n",
       "    core type: Operation\n",
       "    operator: 23\n",
       "    operands: 24\n",
       "20. f\n",
       "    core type: Variable\n",
       "    sub-expressions: \n",
       "21. (_a)\n",
       "    core type: ExprTuple\n",
       "    sub-expressions: 25\n",
       "22. (i, 1)\n",
       "    core type: ExprTuple\n",
       "    sub-expressions: 27, 26\n",
       "23. +\n",
       "    core type: Literal\n",
       "    sub-expressions: \n",
       "24. (i, 2)\n",
       "    core type: ExprTuple\n",
       "    sub-expressions: 27, 28\n",
       "25. _a\n",
       "    core type: Variable\n",
       "    sub-expressions: \n",
       "26. 1\n",
       "    core type: Literal\n",
       "    sub-expressions: \n",
       "27. i\n",
       "    core type: Variable\n",
       "    sub-expressions: \n",
       "28. 2\n",
       "    core type: Literal\n",
       "    sub-expressions: "
      ]
     },
     "metadata": {},
     "output_type": "display_data"
    }
   ],
   "source": [
    "# display the expression information\n",
    "stored_expr.expr_info()"
   ]
  },
  {
   "cell_type": "code",
   "execution_count": null,
   "metadata": {},
   "outputs": [],
   "source": []
  }
 ],
 "metadata": {
  "kernelspec": {
   "display_name": "Python 3",
   "language": "python",
   "name": "python3"
  }
 },
 "nbformat": 4,
 "nbformat_minor": 0
}