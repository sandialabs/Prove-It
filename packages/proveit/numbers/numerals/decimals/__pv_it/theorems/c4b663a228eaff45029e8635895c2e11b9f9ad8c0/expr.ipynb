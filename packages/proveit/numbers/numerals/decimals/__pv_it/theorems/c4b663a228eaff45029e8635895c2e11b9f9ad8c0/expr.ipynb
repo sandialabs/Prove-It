{
 "cells": [
  {
   "cell_type": "markdown",
   "metadata": {},
   "source": [
    "Expression of type <a class=\"ProveItLink\" href=\"../../../../../../../../doc/html/api/proveit.logic.And.html\">And</a>\n",
    "=======================\n",
    "# from the theory of <a class=\"ProveItLink\" href=\"../../../_theory_nbs_/theory.ipynb\">proveit.numbers.numerals.decimals</a>"
   ]
  },
  {
   "cell_type": "code",
   "execution_count": 1,
   "metadata": {},
   "outputs": [],
   "source": [
    "import proveit\n",
    "# Automation is not needed when building an expression:\n",
    "proveit.defaults.automation = False # This will speed things up.\n",
    "proveit.defaults.inline_pngs = False # Makes files smaller.\n",
    "%load_expr # Load the stored expression as 'stored_expr'\n",
    "# import Expression classes needed to build the expression\n",
    "from proveit import ExprRange, IndexedVar, Variable, a, b, c, d, k, m, n\n",
    "from proveit.logic import And, Equals, InSet\n",
    "from proveit.numbers import Digits, one"
   ]
  },
  {
   "cell_type": "code",
   "execution_count": 2,
   "metadata": {},
   "outputs": [
    {
     "data": {
      "text/html": [
       "<strong id=\"expr\">expr:</strong> <a class=\"ProveItLink\" href=\"expr.ipynb\"><img src=\"expr.png\" style=\"display:inline;vertical-align:middle;\" /></a><br>"
      ],
      "text/plain": [
       "<IPython.core.display.HTML object>"
      ]
     },
     "metadata": {},
     "output_type": "display_data"
    }
   ],
   "source": [
    "# build up the expression from sub-expressions\n",
    "sub_expr1 = Variable(\"_a\", latex_format = r\"{_{-}a}\")\n",
    "sub_expr2 = IndexedVar(c, sub_expr1)\n",
    "expr = And(ExprRange(sub_expr1, InSet(IndexedVar(a, sub_expr1), Digits), one, m), InSet(b, Digits), ExprRange(sub_expr1, InSet(sub_expr2, Digits), one, n), ExprRange(sub_expr1, InSet(IndexedVar(d, sub_expr1), Digits), one, k), Equals([ExprRange(sub_expr1, b, one, n)], [ExprRange(sub_expr1, sub_expr2, one, n)]))"
   ]
  },
  {
   "cell_type": "code",
   "execution_count": 3,
   "metadata": {},
   "outputs": [
    {
     "name": "stdout",
     "output_type": "stream",
     "text": [
      "Passed sanity check: expr matches stored_expr\n"
     ]
    }
   ],
   "source": [
    "# check that the built expression is the same as the stored expression\n",
    "assert expr == stored_expr\n",
    "assert expr._style_id == stored_expr._style_id\n",
    "print(\"Passed sanity check: expr matches stored_expr\")"
   ]
  },
  {
   "cell_type": "code",
   "execution_count": 4,
   "metadata": {},
   "outputs": [
    {
     "name": "stdout",
     "output_type": "stream",
     "text": [
      "\\left(a_{1} \\in \\mathbb{N}^{\\leq 9}\\right) \\land  \\left(a_{2} \\in \\mathbb{N}^{\\leq 9}\\right) \\land  \\ldots \\land  \\left(a_{m} \\in \\mathbb{N}^{\\leq 9}\\right) \\land \\left(b \\in \\mathbb{N}^{\\leq 9}\\right)\\land \\left(c_{1} \\in \\mathbb{N}^{\\leq 9}\\right) \\land  \\left(c_{2} \\in \\mathbb{N}^{\\leq 9}\\right) \\land  \\ldots \\land  \\left(c_{n} \\in \\mathbb{N}^{\\leq 9}\\right)\\land \\left(d_{1} \\in \\mathbb{N}^{\\leq 9}\\right) \\land  \\left(d_{2} \\in \\mathbb{N}^{\\leq 9}\\right) \\land  \\ldots \\land  \\left(d_{k} \\in \\mathbb{N}^{\\leq 9}\\right) \\land \\left(\\left(b, b, ..\\left(n - 3\\right) \\times.., b\\right) = \\left(c_{1}, c_{2}, \\ldots, c_{n}\\right)\\right)\n"
     ]
    }
   ],
   "source": [
    "# Show the LaTeX representation of the expression for convenience if you need it.\n",
    "print(stored_expr.latex())"
   ]
  },
  {
   "cell_type": "code",
   "execution_count": 5,
   "metadata": {},
   "outputs": [
    {
     "data": {
      "text/html": [
       "<table>\n",
       "<tr><th>name</th><th>description</th><th>default</th><th>current value</th><th>related methods</th></tr><tr><td>operation</td><td>'infix' or 'function' style formatting</td><td>infix</td><td>infix</td><td></td></tr>\n",
       "<tr><td>wrap_positions</td><td>position(s) at which wrapping is to occur; '2 n - 1' is after the nth operand, '2 n' is after the nth operation.</td><td>()</td><td>()</td><td>('with_wrapping_at', 'with_wrap_before_operator', 'with_wrap_after_operator', 'without_wrapping', 'wrap_positions')</td></tr>\n",
       "<tr><td>justification</td><td>if any wrap positions are set, justify to the 'left', 'center', or 'right'</td><td>center</td><td>center</td><td>('with_justification',)</td></tr>\n",
       "</table>\n"
      ],
      "text/plain": [
       "style name: operation\n",
       "description: 'infix' or 'function' style formatting\n",
       "default: infix\n",
       "current value: infix\n",
       "related methods: ()\n",
       "style name: wrap_positions\n",
       "description: position(s) at which wrapping is to occur; '2 n - 1' is after the nth operand, '2 n' is after the nth operation.\n",
       "default: ()\n",
       "current value: ()\n",
       "related methods: ('with_wrapping_at', 'with_wrap_before_operator', 'with_wrap_after_operator', 'without_wrapping', 'wrap_positions')\n",
       "style name: justification\n",
       "description: if any wrap positions are set, justify to the 'left', 'center', or 'right'\n",
       "default: center\n",
       "current value: center\n",
       "related methods: ('with_justification',)"
      ]
     },
     "metadata": {},
     "output_type": "display_data"
    }
   ],
   "source": [
    "stored_expr.style_options()"
   ]
  },
  {
   "cell_type": "code",
   "execution_count": 6,
   "metadata": {},
   "outputs": [
    {
     "data": {
      "text/html": [
       "<table><tr><th>&nbsp;</th><th>core type</th><th>sub-expressions</th><th>expression</th></tr>\n",
       "<tr><td>0</td><td>Operation</td><td>operator:&nbsp;1<br>operands:&nbsp;2<br></td><td><a class=\"ProveItLink\" href=\"expr.ipynb\"><img src=\"expr.png\" style=\"display:inline;vertical-align:middle;\" /></a></td></tr>\n",
       "<tr><td>1</td><td>Literal</td><td></td><td><a class=\"ProveItLink\" href=\"../../../../../../logic/booleans/conjunction/__pv_it/common/42118ff318bd65d98b1393f64ce7c2269feef76e0/expr.ipynb\"><img src=\"../../../../../../logic/booleans/conjunction/__pv_it/common/42118ff318bd65d98b1393f64ce7c2269feef76e0/expr.png\" style=\"display:inline;vertical-align:middle;\" /></a></td></tr>\n",
       "<tr><td>2</td><td>ExprTuple</td><td>3, 4, 5, 6, 7</td><td><a class=\"ProveItLink\" href=\"../2fa9a6e4458492ea9dd3365e9c4fc6a9a80b3d350/expr.ipynb\"><img src=\"../2fa9a6e4458492ea9dd3365e9c4fc6a9a80b3d350/expr.png\" style=\"display:inline;vertical-align:middle;\" /></a></td></tr>\n",
       "<tr><td>3</td><td>ExprRange</td><td>lambda_map:&nbsp;8<br>start_index:&nbsp;32<br>end_index:&nbsp;9<br></td><td><a class=\"ProveItLink\" href=\"../5d044db090716c674a8f84b14563c3464e8481600/expr.ipynb\"><img src=\"../5d044db090716c674a8f84b14563c3464e8481600/expr.png\" style=\"display:inline;vertical-align:middle;\" /></a></td></tr>\n",
       "<tr><td>4</td><td>Operation</td><td>operator:&nbsp;23<br>operands:&nbsp;10<br></td><td><a class=\"ProveItLink\" href=\"../6a949d28f4f15df41ce0f4b76544dd76e8872e410/expr.ipynb\"><img src=\"../6a949d28f4f15df41ce0f4b76544dd76e8872e410/expr.png\" style=\"display:inline;vertical-align:middle;\" /></a></td></tr>\n",
       "<tr><td>5</td><td>ExprRange</td><td>lambda_map:&nbsp;11<br>start_index:&nbsp;32<br>end_index:&nbsp;33<br></td><td><a class=\"ProveItLink\" href=\"../b10647497750c48c8767692c2b5319177e525e170/expr.ipynb\"><img src=\"../b10647497750c48c8767692c2b5319177e525e170/expr.png\" style=\"display:inline;vertical-align:middle;\" /></a></td></tr>\n",
       "<tr><td>6</td><td>ExprRange</td><td>lambda_map:&nbsp;12<br>start_index:&nbsp;32<br>end_index:&nbsp;13<br></td><td><a class=\"ProveItLink\" href=\"../de6e172da03f30fb4da6fd3d50a9cf9cf71a0b810/expr.ipynb\"><img src=\"../de6e172da03f30fb4da6fd3d50a9cf9cf71a0b810/expr.png\" style=\"display:inline;vertical-align:middle;\" /></a></td></tr>\n",
       "<tr><td>7</td><td>Operation</td><td>operator:&nbsp;14<br>operands:&nbsp;15<br></td><td><a class=\"ProveItLink\" href=\"../ab95d33fed9e3785d966f09fdf7504f3181f58680/expr.ipynb\"><img src=\"../ab95d33fed9e3785d966f09fdf7504f3181f58680/expr.png\" style=\"display:inline;vertical-align:middle;\" /></a></td></tr>\n",
       "<tr><td>8</td><td>Lambda</td><td>parameter:&nbsp;40<br>body:&nbsp;16<br></td><td><a class=\"ProveItLink\" href=\"../63aa8dbdcba6d2dd5132693b445a45ff1390ed040/expr.ipynb\"><img src=\"../63aa8dbdcba6d2dd5132693b445a45ff1390ed040/expr.png\" style=\"display:inline;vertical-align:middle;\" /></a></td></tr>\n",
       "<tr><td>9</td><td>Variable</td><td></td><td><a class=\"ProveItLink\" href=\"../../../../../../__pv_it/common/674a03b9c3ca221b3aabd5636837b31528ff33830/expr.ipynb\"><img src=\"../../../../../../__pv_it/common/674a03b9c3ca221b3aabd5636837b31528ff33830/expr.png\" style=\"display:inline;vertical-align:middle;\" /></a></td></tr>\n",
       "<tr><td>10</td><td>ExprTuple</td><td>36, 29</td><td><a class=\"ProveItLink\" href=\"../0881fd729781fcab562be48112a5cedb1af3600b0/expr.ipynb\"><img src=\"../0881fd729781fcab562be48112a5cedb1af3600b0/expr.png\" style=\"display:inline;vertical-align:middle;\" /></a></td></tr>\n",
       "<tr><td>11</td><td>Lambda</td><td>parameter:&nbsp;40<br>body:&nbsp;17<br></td><td><a class=\"ProveItLink\" href=\"../62ae512663285d5d8ca321d9423819c7ae05c4920/expr.ipynb\"><img src=\"../62ae512663285d5d8ca321d9423819c7ae05c4920/expr.png\" style=\"display:inline;vertical-align:middle;\" /></a></td></tr>\n",
       "<tr><td>12</td><td>Lambda</td><td>parameter:&nbsp;40<br>body:&nbsp;18<br></td><td><a class=\"ProveItLink\" href=\"../4975e9567d2769022c9074fb5ac31a59bc171fb70/expr.ipynb\"><img src=\"../4975e9567d2769022c9074fb5ac31a59bc171fb70/expr.png\" style=\"display:inline;vertical-align:middle;\" /></a></td></tr>\n",
       "<tr><td>13</td><td>Variable</td><td></td><td><a class=\"ProveItLink\" href=\"../../../../../../__pv_it/common/63b7c64bf9ec7a04ecc396c7a1670f3f12fb59490/expr.ipynb\"><img src=\"../../../../../../__pv_it/common/63b7c64bf9ec7a04ecc396c7a1670f3f12fb59490/expr.png\" style=\"display:inline;vertical-align:middle;\" /></a></td></tr>\n",
       "<tr><td>14</td><td>Literal</td><td></td><td><a class=\"ProveItLink\" href=\"../../../../../../logic/equality/__pv_it/common/fb96dc12b2aa8801dda64d0132b396c63d1502bb0/expr.ipynb\"><img src=\"../../../../../../logic/equality/__pv_it/common/fb96dc12b2aa8801dda64d0132b396c63d1502bb0/expr.png\" style=\"display:inline;vertical-align:middle;\" /></a></td></tr>\n",
       "<tr><td>15</td><td>ExprTuple</td><td>19, 20</td><td><a class=\"ProveItLink\" href=\"../4b331e8af7047d3bf395f72044c02f2ad905621b0/expr.ipynb\"><img src=\"../4b331e8af7047d3bf395f72044c02f2ad905621b0/expr.png\" style=\"display:inline;vertical-align:middle;\" /></a></td></tr>\n",
       "<tr><td>16</td><td>Operation</td><td>operator:&nbsp;23<br>operands:&nbsp;21<br></td><td><a class=\"ProveItLink\" href=\"../65f1c07dc4e3964ee224ee66580f4da3745560910/expr.ipynb\"><img src=\"../65f1c07dc4e3964ee224ee66580f4da3745560910/expr.png\" style=\"display:inline;vertical-align:middle;\" /></a></td></tr>\n",
       "<tr><td>17</td><td>Operation</td><td>operator:&nbsp;23<br>operands:&nbsp;22<br></td><td><a class=\"ProveItLink\" href=\"../4cbe2aac3905f58cf5c16143783beb55b971601e0/expr.ipynb\"><img src=\"../4cbe2aac3905f58cf5c16143783beb55b971601e0/expr.png\" style=\"display:inline;vertical-align:middle;\" /></a></td></tr>\n",
       "<tr><td>18</td><td>Operation</td><td>operator:&nbsp;23<br>operands:&nbsp;24<br></td><td><a class=\"ProveItLink\" href=\"../e2bceb54f1515c7a22152b35014185d59477e0570/expr.ipynb\"><img src=\"../e2bceb54f1515c7a22152b35014185d59477e0570/expr.png\" style=\"display:inline;vertical-align:middle;\" /></a></td></tr>\n",
       "<tr><td>19</td><td>ExprTuple</td><td>25</td><td><a class=\"ProveItLink\" href=\"../e5f6b5b3f788b005dab6cd3afd3fb3e377282b250/expr.ipynb\"><img src=\"../e5f6b5b3f788b005dab6cd3afd3fb3e377282b250/expr.png\" style=\"display:inline;vertical-align:middle;\" /></a></td></tr>\n",
       "<tr><td>20</td><td>ExprTuple</td><td>26</td><td><a class=\"ProveItLink\" href=\"../ade4ac067f7b8173d7b2ecc1094acc1cc85c071c0/expr.ipynb\"><img src=\"../ade4ac067f7b8173d7b2ecc1094acc1cc85c071c0/expr.png\" style=\"display:inline;vertical-align:middle;\" /></a></td></tr>\n",
       "<tr><td>21</td><td>ExprTuple</td><td>27, 29</td><td><a class=\"ProveItLink\" href=\"../a4bdc0cebb24f36185b5246cf56e5b25f033046c0/expr.ipynb\"><img src=\"../a4bdc0cebb24f36185b5246cf56e5b25f033046c0/expr.png\" style=\"display:inline;vertical-align:middle;\" /></a></td></tr>\n",
       "<tr><td>22</td><td>ExprTuple</td><td>37, 29</td><td><a class=\"ProveItLink\" href=\"../7584746f3b8225cb4c17e5d2c12504b45cc61cc50/expr.ipynb\"><img src=\"../7584746f3b8225cb4c17e5d2c12504b45cc61cc50/expr.png\" style=\"display:inline;vertical-align:middle;\" /></a></td></tr>\n",
       "<tr><td>23</td><td>Literal</td><td></td><td><a class=\"ProveItLink\" href=\"../../../../../../logic/sets/membership/__pv_it/common/477487d8796864d23d5810f83761435f25167f690/expr.ipynb\"><img src=\"../../../../../../logic/sets/membership/__pv_it/common/477487d8796864d23d5810f83761435f25167f690/expr.png\" style=\"display:inline;vertical-align:middle;\" /></a></td></tr>\n",
       "<tr><td>24</td><td>ExprTuple</td><td>28, 29</td><td><a class=\"ProveItLink\" href=\"../c37d7c7744427fc23cd2bb259c69b85f6c9d81480/expr.ipynb\"><img src=\"../c37d7c7744427fc23cd2bb259c69b85f6c9d81480/expr.png\" style=\"display:inline;vertical-align:middle;\" /></a></td></tr>\n",
       "<tr><td>25</td><td>ExprRange</td><td>lambda_map:&nbsp;30<br>start_index:&nbsp;32<br>end_index:&nbsp;33<br></td><td><a class=\"ProveItLink\" href=\"../ab359872539b5c235bd645a875329e74a5cbd59a0/expr.ipynb\"><img src=\"../ab359872539b5c235bd645a875329e74a5cbd59a0/expr.png\" style=\"display:inline;vertical-align:middle;\" /></a></td></tr>\n",
       "<tr><td>26</td><td>ExprRange</td><td>lambda_map:&nbsp;31<br>start_index:&nbsp;32<br>end_index:&nbsp;33<br></td><td><a class=\"ProveItLink\" href=\"../68709d9d4f9908ad07da6001b53993c6e8a500fe0/expr.ipynb\"><img src=\"../68709d9d4f9908ad07da6001b53993c6e8a500fe0/expr.png\" style=\"display:inline;vertical-align:middle;\" /></a></td></tr>\n",
       "<tr><td>27</td><td>IndexedVar</td><td>variable:&nbsp;34<br>index:&nbsp;40<br></td><td><a class=\"ProveItLink\" href=\"../../../../../../core_expr_types/__pv_it/common/3a62c13e156d62d52fe585fa37cc2172fcf685260/expr.ipynb\"><img src=\"../../../../../../core_expr_types/__pv_it/common/3a62c13e156d62d52fe585fa37cc2172fcf685260/expr.png\" style=\"display:inline;vertical-align:middle;\" /></a></td></tr>\n",
       "<tr><td>28</td><td>IndexedVar</td><td>variable:&nbsp;35<br>index:&nbsp;40<br></td><td><a class=\"ProveItLink\" href=\"../5b722e3e3345d439516029ba27da8928d6e1fad80/expr.ipynb\"><img src=\"../5b722e3e3345d439516029ba27da8928d6e1fad80/expr.png\" style=\"display:inline;vertical-align:middle;\" /></a></td></tr>\n",
       "<tr><td>29</td><td>Literal</td><td></td><td><a class=\"ProveItLink\" href=\"../../common/dc613b38f2e2437121f05ba71d28bbec8e41bedd0/expr.ipynb\"><img src=\"../../common/dc613b38f2e2437121f05ba71d28bbec8e41bedd0/expr.png\" style=\"display:inline;vertical-align:middle;\" /></a></td></tr>\n",
       "<tr><td>30</td><td>Lambda</td><td>parameter:&nbsp;40<br>body:&nbsp;36<br></td><td><a class=\"ProveItLink\" href=\"../3a93d63c5be13597bfc28c8435734d3a097dfc100/expr.ipynb\"><img src=\"../3a93d63c5be13597bfc28c8435734d3a097dfc100/expr.png\" style=\"display:inline;vertical-align:middle;\" /></a></td></tr>\n",
       "<tr><td>31</td><td>Lambda</td><td>parameter:&nbsp;40<br>body:&nbsp;37<br></td><td><a class=\"ProveItLink\" href=\"../a82277bbf8737575ef600f8fc76c549adc3c49d40/expr.ipynb\"><img src=\"../a82277bbf8737575ef600f8fc76c549adc3c49d40/expr.png\" style=\"display:inline;vertical-align:middle;\" /></a></td></tr>\n",
       "<tr><td>32</td><td>Literal</td><td></td><td><a class=\"ProveItLink\" href=\"../../../../__pv_it/common/682157d4892d216d9e5626ed533aff9b56b9506e0/expr.ipynb\"><img src=\"../../../../__pv_it/common/682157d4892d216d9e5626ed533aff9b56b9506e0/expr.png\" style=\"display:inline;vertical-align:middle;\" /></a></td></tr>\n",
       "<tr><td>33</td><td>Variable</td><td></td><td><a class=\"ProveItLink\" href=\"../../../../../../__pv_it/common/8968bb04eb3f7dfa02353397ce929b025bbd79c20/expr.ipynb\"><img src=\"../../../../../../__pv_it/common/8968bb04eb3f7dfa02353397ce929b025bbd79c20/expr.png\" style=\"display:inline;vertical-align:middle;\" /></a></td></tr>\n",
       "<tr><td>34</td><td>Variable</td><td></td><td><a class=\"ProveItLink\" href=\"../../../../../../__pv_it/common/c06c606ec12678c58933ac85412ecadc2ae28be60/expr.ipynb\"><img src=\"../../../../../../__pv_it/common/c06c606ec12678c58933ac85412ecadc2ae28be60/expr.png\" style=\"display:inline;vertical-align:middle;\" /></a></td></tr>\n",
       "<tr><td>35</td><td>Variable</td><td></td><td><a class=\"ProveItLink\" href=\"../../../../../../__pv_it/common/4f5c524ffda87296de1c79b96880123fe2efedd50/expr.ipynb\"><img src=\"../../../../../../__pv_it/common/4f5c524ffda87296de1c79b96880123fe2efedd50/expr.png\" style=\"display:inline;vertical-align:middle;\" /></a></td></tr>\n",
       "<tr><td>36</td><td>Variable</td><td></td><td><a class=\"ProveItLink\" href=\"../../../../../../__pv_it/common/195236b98c6c564a75b5dbada74b173bc52d5c3e0/expr.ipynb\"><img src=\"../../../../../../__pv_it/common/195236b98c6c564a75b5dbada74b173bc52d5c3e0/expr.png\" style=\"display:inline;vertical-align:middle;\" /></a></td></tr>\n",
       "<tr><td>37</td><td>IndexedVar</td><td>variable:&nbsp;38<br>index:&nbsp;40<br></td><td><a class=\"ProveItLink\" href=\"../c92deb116d7e810bff8c136e4bfe2e5d9daef1640/expr.ipynb\"><img src=\"../c92deb116d7e810bff8c136e4bfe2e5d9daef1640/expr.png\" style=\"display:inline;vertical-align:middle;\" /></a></td></tr>\n",
       "<tr><td>38</td><td>Variable</td><td></td><td><a class=\"ProveItLink\" href=\"../../../../../../__pv_it/common/ceef4280a2f1cc604b455b54e735507244cc62cd0/expr.ipynb\"><img src=\"../../../../../../__pv_it/common/ceef4280a2f1cc604b455b54e735507244cc62cd0/expr.png\" style=\"display:inline;vertical-align:middle;\" /></a></td></tr>\n",
       "<tr><td>39</td><td>ExprTuple</td><td>40</td><td><a class=\"ProveItLink\" href=\"../../../../../../core_expr_types/__pv_it/common/4b0dd6be36d76552eda6a95d5b4a27f5a5b62f900/expr.ipynb\"><img src=\"../../../../../../core_expr_types/__pv_it/common/4b0dd6be36d76552eda6a95d5b4a27f5a5b62f900/expr.png\" style=\"display:inline;vertical-align:middle;\" /></a></td></tr>\n",
       "<tr><td>40</td><td>Variable</td><td></td><td><a class=\"ProveItLink\" href=\"../../../../../../core_expr_types/__pv_it/common/006c465e50948aa2b52285e2de47974f741255cc0/expr.ipynb\"><img src=\"../../../../../../core_expr_types/__pv_it/common/006c465e50948aa2b52285e2de47974f741255cc0/expr.png\" style=\"display:inline;vertical-align:middle;\" /></a></td></tr>\n",
       "</table>\n"
      ],
      "text/plain": [
       "0. (a_{1} in Digits) and  (a_{2} in Digits) and  ... and  (a_{m} in Digits) and (b in Digits)and (c_{1} in Digits) and  (c_{2} in Digits) and  ... and  (c_{n} in Digits)and (d_{1} in Digits) and  (d_{2} in Digits) and  ... and  (d_{k} in Digits) and ((b, b, ..(n - 3) ×.., b) = (c_{1}, c_{2}, ..., c_{n}))\n",
       "   core type: Operation\n",
       "   operator: 1\n",
       "   operands: 2\n",
       "1. and\n",
       "   core type: Literal\n",
       "   sub-expressions: \n",
       "2. ((a_{1} in Digits), (a_{2} in Digits), ..., (a_{m} in Digits), b in Digits,(c_{1} in Digits), (c_{2} in Digits), ..., (c_{n} in Digits),(d_{1} in Digits), (d_{2} in Digits), ..., (d_{k} in Digits), (b, b, ..(n - 3) ×.., b) = (c_{1}, c_{2}, ..., c_{n}))\n",
       "   core type: ExprTuple\n",
       "   sub-expressions: 3, 4, 5, 6, 7\n",
       "3. (a_{1} in Digits), (a_{2} in Digits), ..., (a_{m} in Digits)\n",
       "   core type: ExprRange\n",
       "   lambda_map: 8\n",
       "   start_index: 32\n",
       "   end_index: 9\n",
       "4. b in Digits\n",
       "   core type: Operation\n",
       "   operator: 23\n",
       "   operands: 10\n",
       "5. (c_{1} in Digits), (c_{2} in Digits), ..., (c_{n} in Digits)\n",
       "   core type: ExprRange\n",
       "   lambda_map: 11\n",
       "   start_index: 32\n",
       "   end_index: 33\n",
       "6. (d_{1} in Digits), (d_{2} in Digits), ..., (d_{k} in Digits)\n",
       "   core type: ExprRange\n",
       "   lambda_map: 12\n",
       "   start_index: 32\n",
       "   end_index: 13\n",
       "7. (b, b, ..(n - 3) ×.., b) = (c_{1}, c_{2}, ..., c_{n})\n",
       "   core type: Operation\n",
       "   operator: 14\n",
       "   operands: 15\n",
       "8. _a -> (a_{_a} in Digits)\n",
       "   core type: Lambda\n",
       "   parameter: 40\n",
       "   body: 16\n",
       "9. m\n",
       "   core type: Variable\n",
       "   sub-expressions: \n",
       "10. (b, Digits)\n",
       "    core type: ExprTuple\n",
       "    sub-expressions: 36, 29\n",
       "11. _a -> (c_{_a} in Digits)\n",
       "    core type: Lambda\n",
       "    parameter: 40\n",
       "    body: 17\n",
       "12. _a -> (d_{_a} in Digits)\n",
       "    core type: Lambda\n",
       "    parameter: 40\n",
       "    body: 18\n",
       "13. k\n",
       "    core type: Variable\n",
       "    sub-expressions: \n",
       "14. =\n",
       "    core type: Literal\n",
       "    sub-expressions: \n",
       "15. ((b, b, ..(n - 3) ×.., b), (c_{1}, c_{2}, ..., c_{n}))\n",
       "    core type: ExprTuple\n",
       "    sub-expressions: 19, 20\n",
       "16. a_{_a} in Digits\n",
       "    core type: Operation\n",
       "    operator: 23\n",
       "    operands: 21\n",
       "17. c_{_a} in Digits\n",
       "    core type: Operation\n",
       "    operator: 23\n",
       "    operands: 22\n",
       "18. d_{_a} in Digits\n",
       "    core type: Operation\n",
       "    operator: 23\n",
       "    operands: 24\n",
       "19. (b, b, ..(n - 3) ×.., b)\n",
       "    core type: ExprTuple\n",
       "    sub-expressions: 25\n",
       "20. (c_{1}, c_{2}, ..., c_{n})\n",
       "    core type: ExprTuple\n",
       "    sub-expressions: 26\n",
       "21. (a_{_a}, Digits)\n",
       "    core type: ExprTuple\n",
       "    sub-expressions: 27, 29\n",
       "22. (c_{_a}, Digits)\n",
       "    core type: ExprTuple\n",
       "    sub-expressions: 37, 29\n",
       "23. in\n",
       "    core type: Literal\n",
       "    sub-expressions: \n",
       "24. (d_{_a}, Digits)\n",
       "    core type: ExprTuple\n",
       "    sub-expressions: 28, 29\n",
       "25. b, b, ..(n - 3) ×.., b\n",
       "    core type: ExprRange\n",
       "    lambda_map: 30\n",
       "    start_index: 32\n",
       "    end_index: 33\n",
       "26. c_{1}, c_{2}, ..., c_{n}\n",
       "    core type: ExprRange\n",
       "    lambda_map: 31\n",
       "    start_index: 32\n",
       "    end_index: 33\n",
       "27. a_{_a}\n",
       "    core type: IndexedVar\n",
       "variable: 34\n",
       "index: 40\n",
       "28. d_{_a}\n",
       "    core type: IndexedVar\n",
       "variable: 35\n",
       "index: 40\n",
       "29. Digits\n",
       "    core type: Literal\n",
       "    sub-expressions: \n",
       "30. _a -> b\n",
       "    core type: Lambda\n",
       "    parameter: 40\n",
       "    body: 36\n",
       "31. _a -> c_{_a}\n",
       "    core type: Lambda\n",
       "    parameter: 40\n",
       "    body: 37\n",
       "32. 1\n",
       "    core type: Literal\n",
       "    sub-expressions: \n",
       "33. n\n",
       "    core type: Variable\n",
       "    sub-expressions: \n",
       "34. a\n",
       "    core type: Variable\n",
       "    sub-expressions: \n",
       "35. d\n",
       "    core type: Variable\n",
       "    sub-expressions: \n",
       "36. b\n",
       "    core type: Variable\n",
       "    sub-expressions: \n",
       "37. c_{_a}\n",
       "    core type: IndexedVar\n",
       "variable: 38\n",
       "index: 40\n",
       "38. c\n",
       "    core type: Variable\n",
       "    sub-expressions: \n",
       "39. (_a)\n",
       "    core type: ExprTuple\n",
       "    sub-expressions: 40\n",
       "40. _a\n",
       "    core type: Variable\n",
       "    sub-expressions: "
      ]
     },
     "metadata": {},
     "output_type": "display_data"
    }
   ],
   "source": [
    "# display the expression information\n",
    "stored_expr.expr_info()"
   ]
  },
  {
   "cell_type": "code",
   "execution_count": null,
   "metadata": {},
   "outputs": [],
   "source": []
  }
 ],
 "metadata": {
  "kernelspec": {
   "display_name": "Python 3",
   "language": "python",
   "name": "python3"
  }
 },
 "nbformat": 4,
 "nbformat_minor": 0
}