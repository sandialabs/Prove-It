{
 "cells": [
  {
   "cell_type": "markdown",
   "metadata": {},
   "source": [
    "Theorem Dependencies\n",
    "=======================\n",
    "\n",
    "## <a class=\"ProveItLink\" href=\"../../../_theory_nbs_/theory.ipynb\">proveit.numbers.numerals.decimals</a>.<a class=\"ProveItLink\" href=\"../../../_theorems_.ipynb#posnat6\">posnat6</a> \n",
    "***see <a class=\"ProveItLink\" href=\"../../../_theory_nbs_/proofs/posnat6/thm_proof.ipynb\">proof</a>***"
   ]
  },
  {
   "cell_type": "code",
   "execution_count": 1,
   "metadata": {},
   "outputs": [],
   "source": [
    "import proveit\n",
    "# Automation is not needed when querying dependencies:\n",
    "proveit.defaults.automation = False # This will speed things up.\n",
    "proveit.defaults.inline_pngs = False # Makes files smaller.\n",
    "from proveit.numbers.numerals.decimals import posnat6"
   ]
  },
  {
   "cell_type": "code",
   "execution_count": 2,
   "metadata": {},
   "outputs": [
    {
     "data": {
      "text/html": [
       "<h3>Unproven conjectures required (directly or indirectly) to prove posnat6</h3>"
      ],
      "text/plain": [
       "<IPython.core.display.HTML object>"
      ]
     },
     "metadata": {},
     "output_type": "display_data"
    },
    {
     "data": {
      "text/html": [
       "<dl>"
      ],
      "text/plain": [
       "<IPython.core.display.HTML object>"
      ]
     },
     "metadata": {},
     "output_type": "display_data"
    },
    {
     "data": {
      "text/html": [
       "<dt><a class=\"ProveItLink\" href=\"../../../_theory_nbs_/proofs/posnat6/thm_proof.ipynb\">proveit.numbers.numerals.decimals.posnat6</a></dt><dd><a class=\"ProveItLink\" href=\"../bed4e9364b1ffbea8aaa747774445a8b7917b6d20/expr.ipynb\"><img src=\"../bed4e9364b1ffbea8aaa747774445a8b7917b6d20/expr.png\" style=\"display:inline;vertical-align:middle;\" /></a></dd>"
      ],
      "text/plain": [
       "<IPython.core.display.HTML object>"
      ]
     },
     "metadata": {},
     "output_type": "display_data"
    },
    {
     "data": {
      "text/html": [
       "</dl>"
      ],
      "text/plain": [
       "<IPython.core.display.HTML object>"
      ]
     },
     "metadata": {},
     "output_type": "display_data"
    },
    {
     "data": {
      "text/html": [
       "<h3>Theorems/conjectures that depend directly on posnat6</h3>"
      ],
      "text/plain": [
       "<IPython.core.display.HTML object>"
      ]
     },
     "metadata": {},
     "output_type": "display_data"
    },
    {
     "data": {
      "text/html": [
       "<dl>"
      ],
      "text/plain": [
       "<IPython.core.display.HTML object>"
      ]
     },
     "metadata": {},
     "output_type": "display_data"
    },
    {
     "data": {
      "text/html": [
       "<dt><a class=\"ProveItLink\" href=\"../../../../../../physics/quantum/QPE/_theory_nbs_/proofs/_Psi_output/thm_proof.ipynb\">proveit.physics.quantum.QPE._Psi_output</a></dt><dd><a class=\"ProveItLink\" href=\"../../../../../../physics/quantum/QPE/__pv_it/theorems/99863c4fa8e9ab08f0c60bc822b3a0ead524836a0/expr.ipynb\"><img src=\"../../../../../../physics/quantum/QPE/__pv_it/theorems/99863c4fa8e9ab08f0c60bc822b3a0ead524836a0/expr.png\" style=\"display:inline;vertical-align:middle;\" /></a></dd>"
      ],
      "text/plain": [
       "<IPython.core.display.HTML object>"
      ]
     },
     "metadata": {},
     "output_type": "display_data"
    },
    {
     "data": {
      "text/html": [
       "<dt><a class=\"ProveItLink\" href=\"../../../../../../physics/quantum/QPE/_theory_nbs_/proofs/_outcome_prob/thm_proof.ipynb\">proveit.physics.quantum.QPE._outcome_prob</a></dt><dd><a class=\"ProveItLink\" href=\"../../../../../../physics/quantum/QPE/__pv_it/theorems/d0d56450a6d40486eb99290519f11577a2da3f440/expr.ipynb\"><img src=\"../../../../../../physics/quantum/QPE/__pv_it/theorems/d0d56450a6d40486eb99290519f11577a2da3f440/expr.png\" style=\"display:inline;vertical-align:middle;\" /></a></dd>"
      ],
      "text/plain": [
       "<IPython.core.display.HTML object>"
      ]
     },
     "metadata": {},
     "output_type": "display_data"
    },
    {
     "data": {
      "text/html": [
       "</dl>"
      ],
      "text/plain": [
       "<IPython.core.display.HTML object>"
      ]
     },
     "metadata": {},
     "output_type": "display_data"
    }
   ],
   "source": [
    "%dependencies posnat6"
   ]
  }
 ],
 "metadata": {
  "kernelspec": {
   "display_name": "Python 3",
   "language": "python",
   "name": "python3"
  }
 },
 "nbformat": 4,
 "nbformat_minor": 0
}