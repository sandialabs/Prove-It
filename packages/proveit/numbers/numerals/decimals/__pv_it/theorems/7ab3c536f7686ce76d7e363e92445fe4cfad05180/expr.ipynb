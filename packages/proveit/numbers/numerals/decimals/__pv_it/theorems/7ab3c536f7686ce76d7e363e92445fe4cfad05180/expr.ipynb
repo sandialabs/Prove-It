{
 "cells": [
  {
   "cell_type": "markdown",
   "metadata": {},
   "source": [
    "Expression of type <a class=\"ProveItLink\" href=\"../../../../../../../../doc/html/api/proveit.ExprTuple.html\">ExprTuple</a>\n",
    "=======================\n",
    "# from the theory of <a class=\"ProveItLink\" href=\"../../../_theory_nbs_/theory.ipynb\">proveit.numbers.numerals.decimals</a>"
   ]
  },
  {
   "cell_type": "code",
   "execution_count": 1,
   "metadata": {},
   "outputs": [],
   "source": [
    "import proveit\n",
    "# Automation is not needed when building an expression:\n",
    "proveit.defaults.automation = False # This will speed things up.\n",
    "proveit.defaults.inline_pngs = False # Makes files smaller.\n",
    "%load_expr # Load the stored expression as 'stored_expr'\n",
    "# import Expression classes needed to build the expression\n",
    "from proveit import ExprTuple, Function, f, i\n",
    "from proveit.numbers import Add, eight, five, four, one, seven, six, three, two"
   ]
  },
  {
   "cell_type": "code",
   "execution_count": 2,
   "metadata": {},
   "outputs": [
    {
     "data": {
      "text/html": [
       "<strong id=\"expr\">expr:</strong> <a class=\"ProveItLink\" href=\"expr.ipynb\"><img src=\"expr.png\" style=\"display:inline;vertical-align:middle;\" /></a><br>"
      ],
      "text/plain": [
       "<IPython.core.display.HTML object>"
      ]
     },
     "metadata": {},
     "output_type": "display_data"
    }
   ],
   "source": [
    "# build up the expression from sub-expressions\n",
    "expr = ExprTuple(Function(f, [i]), Function(f, [Add(i, one)]), Function(f, [Add(i, two)]), Function(f, [Add(i, three)]), Function(f, [Add(i, four)]), Function(f, [Add(i, five)]), Function(f, [Add(i, six)]), Function(f, [Add(i, seven)]), Function(f, [Add(i, eight)]))"
   ]
  },
  {
   "cell_type": "code",
   "execution_count": 3,
   "metadata": {},
   "outputs": [
    {
     "name": "stdout",
     "output_type": "stream",
     "text": [
      "Passed sanity check: expr matches stored_expr\n"
     ]
    }
   ],
   "source": [
    "# check that the built expression is the same as the stored expression\n",
    "assert expr == stored_expr\n",
    "assert expr._style_id == stored_expr._style_id\n",
    "print(\"Passed sanity check: expr matches stored_expr\")"
   ]
  },
  {
   "cell_type": "code",
   "execution_count": 4,
   "metadata": {},
   "outputs": [
    {
     "name": "stdout",
     "output_type": "stream",
     "text": [
      "\\left(f\\left(i\\right), f\\left(i + 1\\right), f\\left(i + 2\\right), f\\left(i + 3\\right), f\\left(i + 4\\right), f\\left(i + 5\\right), f\\left(i + 6\\right), f\\left(i + 7\\right), f\\left(i + 8\\right)\\right)\n"
     ]
    }
   ],
   "source": [
    "# Show the LaTeX representation of the expression for convenience if you need it.\n",
    "print(stored_expr.latex())"
   ]
  },
  {
   "cell_type": "code",
   "execution_count": 5,
   "metadata": {},
   "outputs": [
    {
     "data": {
      "text/html": [
       "<table>\n",
       "<tr><th>name</th><th>description</th><th>default</th><th>current value</th><th>related methods</th></tr><tr><td>wrap_positions</td><td>position(s) at which wrapping is to occur; 'n' is after the nth comma.</td><td>()</td><td>()</td><td>('with_wrapping_at',)</td></tr>\n",
       "<tr><td>justification</td><td>if any wrap positions are set, justify to the 'left', 'center', or 'right'</td><td>left</td><td>left</td><td>('with_justification',)</td></tr>\n",
       "</table>\n"
      ],
      "text/plain": [
       "style name: wrap_positions\n",
       "description: position(s) at which wrapping is to occur; 'n' is after the nth comma.\n",
       "default: ()\n",
       "current value: ()\n",
       "related methods: ('with_wrapping_at',)\n",
       "style name: justification\n",
       "description: if any wrap positions are set, justify to the 'left', 'center', or 'right'\n",
       "default: left\n",
       "current value: left\n",
       "related methods: ('with_justification',)"
      ]
     },
     "metadata": {},
     "output_type": "display_data"
    }
   ],
   "source": [
    "stored_expr.style_options()"
   ]
  },
  {
   "cell_type": "code",
   "execution_count": 6,
   "metadata": {},
   "outputs": [
    {
     "data": {
      "text/html": [
       "<table><tr><th>&nbsp;</th><th>core type</th><th>sub-expressions</th><th>expression</th></tr>\n",
       "<tr><td>0</td><td>ExprTuple</td><td>1, 2, 3, 4, 5, 6, 7, 8, 9</td><td><a class=\"ProveItLink\" href=\"expr.ipynb\"><img src=\"expr.png\" style=\"display:inline;vertical-align:middle;\" /></a></td></tr>\n",
       "<tr><td>1</td><td>Operation</td><td>operator:&nbsp;18<br>operand:&nbsp;44<br></td><td><a class=\"ProveItLink\" href=\"../47417ab7f1e7f118867e6cd89ca650b18d19923f0/expr.ipynb\"><img src=\"../47417ab7f1e7f118867e6cd89ca650b18d19923f0/expr.png\" style=\"display:inline;vertical-align:middle;\" /></a></td></tr>\n",
       "<tr><td>2</td><td>Operation</td><td>operator:&nbsp;18<br>operand:&nbsp;20<br></td><td><a class=\"ProveItLink\" href=\"../93554b4e75307d4f00d300f7db61f5d46fd2b9d90/expr.ipynb\"><img src=\"../93554b4e75307d4f00d300f7db61f5d46fd2b9d90/expr.png\" style=\"display:inline;vertical-align:middle;\" /></a></td></tr>\n",
       "<tr><td>3</td><td>Operation</td><td>operator:&nbsp;18<br>operand:&nbsp;21<br></td><td><a class=\"ProveItLink\" href=\"../522d3600b100ac3eabcfad3db0c2f393d8f74f2f0/expr.ipynb\"><img src=\"../522d3600b100ac3eabcfad3db0c2f393d8f74f2f0/expr.png\" style=\"display:inline;vertical-align:middle;\" /></a></td></tr>\n",
       "<tr><td>4</td><td>Operation</td><td>operator:&nbsp;18<br>operand:&nbsp;22<br></td><td><a class=\"ProveItLink\" href=\"../2c77768b8dd3f61c87a5dfe89321b9f00f7970fc0/expr.ipynb\"><img src=\"../2c77768b8dd3f61c87a5dfe89321b9f00f7970fc0/expr.png\" style=\"display:inline;vertical-align:middle;\" /></a></td></tr>\n",
       "<tr><td>5</td><td>Operation</td><td>operator:&nbsp;18<br>operand:&nbsp;23<br></td><td><a class=\"ProveItLink\" href=\"../3b5ccd36d96fc30e567a5a885f5f659efd3d2f3a0/expr.ipynb\"><img src=\"../3b5ccd36d96fc30e567a5a885f5f659efd3d2f3a0/expr.png\" style=\"display:inline;vertical-align:middle;\" /></a></td></tr>\n",
       "<tr><td>6</td><td>Operation</td><td>operator:&nbsp;18<br>operand:&nbsp;24<br></td><td><a class=\"ProveItLink\" href=\"../3016ddd77c81e0e1febb19d8cea312c7f3413b4d0/expr.ipynb\"><img src=\"../3016ddd77c81e0e1febb19d8cea312c7f3413b4d0/expr.png\" style=\"display:inline;vertical-align:middle;\" /></a></td></tr>\n",
       "<tr><td>7</td><td>Operation</td><td>operator:&nbsp;18<br>operand:&nbsp;25<br></td><td><a class=\"ProveItLink\" href=\"../1c03ff0a909ea933d8e6263e6172c4d7bc5d439b0/expr.ipynb\"><img src=\"../1c03ff0a909ea933d8e6263e6172c4d7bc5d439b0/expr.png\" style=\"display:inline;vertical-align:middle;\" /></a></td></tr>\n",
       "<tr><td>8</td><td>Operation</td><td>operator:&nbsp;18<br>operand:&nbsp;26<br></td><td><a class=\"ProveItLink\" href=\"../738e04289757bf64516da839f2e8a8651ec5957d0/expr.ipynb\"><img src=\"../738e04289757bf64516da839f2e8a8651ec5957d0/expr.png\" style=\"display:inline;vertical-align:middle;\" /></a></td></tr>\n",
       "<tr><td>9</td><td>Operation</td><td>operator:&nbsp;18<br>operand:&nbsp;27<br></td><td><a class=\"ProveItLink\" href=\"../5cd3747ec9e260094d49af699f9bafe8d894d1f60/expr.ipynb\"><img src=\"../5cd3747ec9e260094d49af699f9bafe8d894d1f60/expr.png\" style=\"display:inline;vertical-align:middle;\" /></a></td></tr>\n",
       "<tr><td>10</td><td>ExprTuple</td><td>44</td><td><a class=\"ProveItLink\" href=\"../0fc33550aa9740010879fdf30c320b63ba918eff0/expr.ipynb\"><img src=\"../0fc33550aa9740010879fdf30c320b63ba918eff0/expr.png\" style=\"display:inline;vertical-align:middle;\" /></a></td></tr>\n",
       "<tr><td>11</td><td>ExprTuple</td><td>20</td><td><a class=\"ProveItLink\" href=\"../c9799da28c37a9b544cd9f03ec0f18e6882c44730/expr.ipynb\"><img src=\"../c9799da28c37a9b544cd9f03ec0f18e6882c44730/expr.png\" style=\"display:inline;vertical-align:middle;\" /></a></td></tr>\n",
       "<tr><td>12</td><td>ExprTuple</td><td>21</td><td><a class=\"ProveItLink\" href=\"../b9350d2814b4b140833e3fb76e5f21b88bda12d40/expr.ipynb\"><img src=\"../b9350d2814b4b140833e3fb76e5f21b88bda12d40/expr.png\" style=\"display:inline;vertical-align:middle;\" /></a></td></tr>\n",
       "<tr><td>13</td><td>ExprTuple</td><td>22</td><td><a class=\"ProveItLink\" href=\"../faa9d59a7cce57899a84d9e003ac057aa336f05c0/expr.ipynb\"><img src=\"../faa9d59a7cce57899a84d9e003ac057aa336f05c0/expr.png\" style=\"display:inline;vertical-align:middle;\" /></a></td></tr>\n",
       "<tr><td>14</td><td>ExprTuple</td><td>23</td><td><a class=\"ProveItLink\" href=\"../e8fee7440df199ae02c97c6d803e0590ae7fd0910/expr.ipynb\"><img src=\"../e8fee7440df199ae02c97c6d803e0590ae7fd0910/expr.png\" style=\"display:inline;vertical-align:middle;\" /></a></td></tr>\n",
       "<tr><td>15</td><td>ExprTuple</td><td>24</td><td><a class=\"ProveItLink\" href=\"../1fc4b5846412abb99660fe828d066f2dda58e5570/expr.ipynb\"><img src=\"../1fc4b5846412abb99660fe828d066f2dda58e5570/expr.png\" style=\"display:inline;vertical-align:middle;\" /></a></td></tr>\n",
       "<tr><td>16</td><td>ExprTuple</td><td>25</td><td><a class=\"ProveItLink\" href=\"../e9d00e99ce7ba1dacdae57783943a292109a4ee00/expr.ipynb\"><img src=\"../e9d00e99ce7ba1dacdae57783943a292109a4ee00/expr.png\" style=\"display:inline;vertical-align:middle;\" /></a></td></tr>\n",
       "<tr><td>17</td><td>ExprTuple</td><td>26</td><td><a class=\"ProveItLink\" href=\"../1e1ef45fa747ce67abd04be986f1f9e732aa321b0/expr.ipynb\"><img src=\"../1e1ef45fa747ce67abd04be986f1f9e732aa321b0/expr.png\" style=\"display:inline;vertical-align:middle;\" /></a></td></tr>\n",
       "<tr><td>18</td><td>Variable</td><td></td><td><a class=\"ProveItLink\" href=\"../../../../../../__pv_it/common/01b6dbb444a31fc38af4c2379badef6c75b363710/expr.ipynb\"><img src=\"../../../../../../__pv_it/common/01b6dbb444a31fc38af4c2379badef6c75b363710/expr.png\" style=\"display:inline;vertical-align:middle;\" /></a></td></tr>\n",
       "<tr><td>19</td><td>ExprTuple</td><td>27</td><td><a class=\"ProveItLink\" href=\"../12de2261c06b2b905333a2dca647d299a5b5bf2e0/expr.ipynb\"><img src=\"../12de2261c06b2b905333a2dca647d299a5b5bf2e0/expr.png\" style=\"display:inline;vertical-align:middle;\" /></a></td></tr>\n",
       "<tr><td>20</td><td>Operation</td><td>operator:&nbsp;35<br>operands:&nbsp;28<br></td><td><a class=\"ProveItLink\" href=\"../a2e143af123f66da09e0988b76b1d4e48661786c0/expr.ipynb\"><img src=\"../a2e143af123f66da09e0988b76b1d4e48661786c0/expr.png\" style=\"display:inline;vertical-align:middle;\" /></a></td></tr>\n",
       "<tr><td>21</td><td>Operation</td><td>operator:&nbsp;35<br>operands:&nbsp;29<br></td><td><a class=\"ProveItLink\" href=\"../24128158ac3bbc68b8ee4a75afd24ed2fce98d980/expr.ipynb\"><img src=\"../24128158ac3bbc68b8ee4a75afd24ed2fce98d980/expr.png\" style=\"display:inline;vertical-align:middle;\" /></a></td></tr>\n",
       "<tr><td>22</td><td>Operation</td><td>operator:&nbsp;35<br>operands:&nbsp;30<br></td><td><a class=\"ProveItLink\" href=\"../f508bd27b327306788d2dd9f530f11d70c41254e0/expr.ipynb\"><img src=\"../f508bd27b327306788d2dd9f530f11d70c41254e0/expr.png\" style=\"display:inline;vertical-align:middle;\" /></a></td></tr>\n",
       "<tr><td>23</td><td>Operation</td><td>operator:&nbsp;35<br>operands:&nbsp;31<br></td><td><a class=\"ProveItLink\" href=\"../a80dfd517f887dc5f9b93bd60a7e3f6c0ed2eec00/expr.ipynb\"><img src=\"../a80dfd517f887dc5f9b93bd60a7e3f6c0ed2eec00/expr.png\" style=\"display:inline;vertical-align:middle;\" /></a></td></tr>\n",
       "<tr><td>24</td><td>Operation</td><td>operator:&nbsp;35<br>operands:&nbsp;32<br></td><td><a class=\"ProveItLink\" href=\"../e06655989678c1c2fe85c1a12ae7bca28b2ed4130/expr.ipynb\"><img src=\"../e06655989678c1c2fe85c1a12ae7bca28b2ed4130/expr.png\" style=\"display:inline;vertical-align:middle;\" /></a></td></tr>\n",
       "<tr><td>25</td><td>Operation</td><td>operator:&nbsp;35<br>operands:&nbsp;33<br></td><td><a class=\"ProveItLink\" href=\"../baf7f381ef42e8ce426e22150fdbbe01cf9c9c960/expr.ipynb\"><img src=\"../baf7f381ef42e8ce426e22150fdbbe01cf9c9c960/expr.png\" style=\"display:inline;vertical-align:middle;\" /></a></td></tr>\n",
       "<tr><td>26</td><td>Operation</td><td>operator:&nbsp;35<br>operands:&nbsp;34<br></td><td><a class=\"ProveItLink\" href=\"../09c73dac7ca335f68309bebfeb8ac719a7e38f050/expr.ipynb\"><img src=\"../09c73dac7ca335f68309bebfeb8ac719a7e38f050/expr.png\" style=\"display:inline;vertical-align:middle;\" /></a></td></tr>\n",
       "<tr><td>27</td><td>Operation</td><td>operator:&nbsp;35<br>operands:&nbsp;36<br></td><td><a class=\"ProveItLink\" href=\"../94db167a921f13b97a37e68b22daba260a02a6740/expr.ipynb\"><img src=\"../94db167a921f13b97a37e68b22daba260a02a6740/expr.png\" style=\"display:inline;vertical-align:middle;\" /></a></td></tr>\n",
       "<tr><td>28</td><td>ExprTuple</td><td>44, 37</td><td><a class=\"ProveItLink\" href=\"../c89850952f9608f21aa2408d82ba7769fea41e400/expr.ipynb\"><img src=\"../c89850952f9608f21aa2408d82ba7769fea41e400/expr.png\" style=\"display:inline;vertical-align:middle;\" /></a></td></tr>\n",
       "<tr><td>29</td><td>ExprTuple</td><td>44, 38</td><td><a class=\"ProveItLink\" href=\"../f6b83eb3317523dc13986de5fc52ed67a403af7b0/expr.ipynb\"><img src=\"../f6b83eb3317523dc13986de5fc52ed67a403af7b0/expr.png\" style=\"display:inline;vertical-align:middle;\" /></a></td></tr>\n",
       "<tr><td>30</td><td>ExprTuple</td><td>44, 39</td><td><a class=\"ProveItLink\" href=\"../1b239d03320e6b55a7f4745615ee61682a92a62e0/expr.ipynb\"><img src=\"../1b239d03320e6b55a7f4745615ee61682a92a62e0/expr.png\" style=\"display:inline;vertical-align:middle;\" /></a></td></tr>\n",
       "<tr><td>31</td><td>ExprTuple</td><td>44, 40</td><td><a class=\"ProveItLink\" href=\"../afafc58f7f5d15038c45c8851b78cd323938625d0/expr.ipynb\"><img src=\"../afafc58f7f5d15038c45c8851b78cd323938625d0/expr.png\" style=\"display:inline;vertical-align:middle;\" /></a></td></tr>\n",
       "<tr><td>32</td><td>ExprTuple</td><td>44, 41</td><td><a class=\"ProveItLink\" href=\"../788359c5919b555b2b6f4c1aa1a3590e6f45310d0/expr.ipynb\"><img src=\"../788359c5919b555b2b6f4c1aa1a3590e6f45310d0/expr.png\" style=\"display:inline;vertical-align:middle;\" /></a></td></tr>\n",
       "<tr><td>33</td><td>ExprTuple</td><td>44, 42</td><td><a class=\"ProveItLink\" href=\"../cb1ffa8d71e4cc4236d5c2c5384805aee728cdc90/expr.ipynb\"><img src=\"../cb1ffa8d71e4cc4236d5c2c5384805aee728cdc90/expr.png\" style=\"display:inline;vertical-align:middle;\" /></a></td></tr>\n",
       "<tr><td>34</td><td>ExprTuple</td><td>44, 43</td><td><a class=\"ProveItLink\" href=\"../4ca5e1b42b72e64c2bd510012d03c35a87b774d20/expr.ipynb\"><img src=\"../4ca5e1b42b72e64c2bd510012d03c35a87b774d20/expr.png\" style=\"display:inline;vertical-align:middle;\" /></a></td></tr>\n",
       "<tr><td>35</td><td>Literal</td><td></td><td><a class=\"ProveItLink\" href=\"../../../../../addition/__pv_it/common/4b7effaab3619a1c2c38fe2dee8601df8ec714590/expr.ipynb\"><img src=\"../../../../../addition/__pv_it/common/4b7effaab3619a1c2c38fe2dee8601df8ec714590/expr.png\" style=\"display:inline;vertical-align:middle;\" /></a></td></tr>\n",
       "<tr><td>36</td><td>ExprTuple</td><td>44, 45</td><td><a class=\"ProveItLink\" href=\"../072164af04e8eda646dbefc53a8151f59d5bf3f50/expr.ipynb\"><img src=\"../072164af04e8eda646dbefc53a8151f59d5bf3f50/expr.png\" style=\"display:inline;vertical-align:middle;\" /></a></td></tr>\n",
       "<tr><td>37</td><td>Literal</td><td></td><td><a class=\"ProveItLink\" href=\"../../../../__pv_it/common/682157d4892d216d9e5626ed533aff9b56b9506e0/expr.ipynb\"><img src=\"../../../../__pv_it/common/682157d4892d216d9e5626ed533aff9b56b9506e0/expr.png\" style=\"display:inline;vertical-align:middle;\" /></a></td></tr>\n",
       "<tr><td>38</td><td>Literal</td><td></td><td><a class=\"ProveItLink\" href=\"../../../../__pv_it/common/af4aab8a07465db063742696e006d04670f30cf10/expr.ipynb\"><img src=\"../../../../__pv_it/common/af4aab8a07465db063742696e006d04670f30cf10/expr.png\" style=\"display:inline;vertical-align:middle;\" /></a></td></tr>\n",
       "<tr><td>39</td><td>Literal</td><td></td><td><a class=\"ProveItLink\" href=\"../../../../__pv_it/common/1943b60945420e340d305780feff5c1aff2740ff0/expr.ipynb\"><img src=\"../../../../__pv_it/common/1943b60945420e340d305780feff5c1aff2740ff0/expr.png\" style=\"display:inline;vertical-align:middle;\" /></a></td></tr>\n",
       "<tr><td>40</td><td>Literal</td><td></td><td><a class=\"ProveItLink\" href=\"../../../../__pv_it/common/48a1d915c1e9490b9a94e5c77a208938d3ee20ce0/expr.ipynb\"><img src=\"../../../../__pv_it/common/48a1d915c1e9490b9a94e5c77a208938d3ee20ce0/expr.png\" style=\"display:inline;vertical-align:middle;\" /></a></td></tr>\n",
       "<tr><td>41</td><td>Literal</td><td></td><td><a class=\"ProveItLink\" href=\"../../../../__pv_it/common/16e9923976ab933f6783588485130530d25dafab0/expr.ipynb\"><img src=\"../../../../__pv_it/common/16e9923976ab933f6783588485130530d25dafab0/expr.png\" style=\"display:inline;vertical-align:middle;\" /></a></td></tr>\n",
       "<tr><td>42</td><td>Literal</td><td></td><td><a class=\"ProveItLink\" href=\"../../../../__pv_it/common/3376a962e50366e1ce3b003524f11b59146ac6970/expr.ipynb\"><img src=\"../../../../__pv_it/common/3376a962e50366e1ce3b003524f11b59146ac6970/expr.png\" style=\"display:inline;vertical-align:middle;\" /></a></td></tr>\n",
       "<tr><td>43</td><td>Literal</td><td></td><td><a class=\"ProveItLink\" href=\"../../../../__pv_it/common/3dfdb143be8c2c1b027a0bc361bad6a4ea13be240/expr.ipynb\"><img src=\"../../../../__pv_it/common/3dfdb143be8c2c1b027a0bc361bad6a4ea13be240/expr.png\" style=\"display:inline;vertical-align:middle;\" /></a></td></tr>\n",
       "<tr><td>44</td><td>Variable</td><td></td><td><a class=\"ProveItLink\" href=\"../../../../../../__pv_it/common/ae955345c83abf786c3aff8681cd5465beae262d0/expr.ipynb\"><img src=\"../../../../../../__pv_it/common/ae955345c83abf786c3aff8681cd5465beae262d0/expr.png\" style=\"display:inline;vertical-align:middle;\" /></a></td></tr>\n",
       "<tr><td>45</td><td>Literal</td><td></td><td><a class=\"ProveItLink\" href=\"../../../../__pv_it/common/ceed6b354935ad1d236d250dc51c3b98bca3a8960/expr.ipynb\"><img src=\"../../../../__pv_it/common/ceed6b354935ad1d236d250dc51c3b98bca3a8960/expr.png\" style=\"display:inline;vertical-align:middle;\" /></a></td></tr>\n",
       "</table>\n"
      ],
      "text/plain": [
       "0. (f(i), f(i + 1), f(i + 2), f(i + 3), f(i + 4), f(i + 5), f(i + 6), f(i + 7), f(i + 8))\n",
       "   core type: ExprTuple\n",
       "   sub-expressions: 1, 2, 3, 4, 5, 6, 7, 8, 9\n",
       "1. f(i)\n",
       "   core type: Operation\n",
       "   operator: 18\n",
       "   operand: 44\n",
       "2. f(i + 1)\n",
       "   core type: Operation\n",
       "   operator: 18\n",
       "   operand: 20\n",
       "3. f(i + 2)\n",
       "   core type: Operation\n",
       "   operator: 18\n",
       "   operand: 21\n",
       "4. f(i + 3)\n",
       "   core type: Operation\n",
       "   operator: 18\n",
       "   operand: 22\n",
       "5. f(i + 4)\n",
       "   core type: Operation\n",
       "   operator: 18\n",
       "   operand: 23\n",
       "6. f(i + 5)\n",
       "   core type: Operation\n",
       "   operator: 18\n",
       "   operand: 24\n",
       "7. f(i + 6)\n",
       "   core type: Operation\n",
       "   operator: 18\n",
       "   operand: 25\n",
       "8. f(i + 7)\n",
       "   core type: Operation\n",
       "   operator: 18\n",
       "   operand: 26\n",
       "9. f(i + 8)\n",
       "   core type: Operation\n",
       "   operator: 18\n",
       "   operand: 27\n",
       "10. (i)\n",
       "    core type: ExprTuple\n",
       "    sub-expressions: 44\n",
       "11. (i + 1)\n",
       "    core type: ExprTuple\n",
       "    sub-expressions: 20\n",
       "12. (i + 2)\n",
       "    core type: ExprTuple\n",
       "    sub-expressions: 21\n",
       "13. (i + 3)\n",
       "    core type: ExprTuple\n",
       "    sub-expressions: 22\n",
       "14. (i + 4)\n",
       "    core type: ExprTuple\n",
       "    sub-expressions: 23\n",
       "15. (i + 5)\n",
       "    core type: ExprTuple\n",
       "    sub-expressions: 24\n",
       "16. (i + 6)\n",
       "    core type: ExprTuple\n",
       "    sub-expressions: 25\n",
       "17. (i + 7)\n",
       "    core type: ExprTuple\n",
       "    sub-expressions: 26\n",
       "18. f\n",
       "    core type: Variable\n",
       "    sub-expressions: \n",
       "19. (i + 8)\n",
       "    core type: ExprTuple\n",
       "    sub-expressions: 27\n",
       "20. i + 1\n",
       "    core type: Operation\n",
       "    operator: 35\n",
       "    operands: 28\n",
       "21. i + 2\n",
       "    core type: Operation\n",
       "    operator: 35\n",
       "    operands: 29\n",
       "22. i + 3\n",
       "    core type: Operation\n",
       "    operator: 35\n",
       "    operands: 30\n",
       "23. i + 4\n",
       "    core type: Operation\n",
       "    operator: 35\n",
       "    operands: 31\n",
       "24. i + 5\n",
       "    core type: Operation\n",
       "    operator: 35\n",
       "    operands: 32\n",
       "25. i + 6\n",
       "    core type: Operation\n",
       "    operator: 35\n",
       "    operands: 33\n",
       "26. i + 7\n",
       "    core type: Operation\n",
       "    operator: 35\n",
       "    operands: 34\n",
       "27. i + 8\n",
       "    core type: Operation\n",
       "    operator: 35\n",
       "    operands: 36\n",
       "28. (i, 1)\n",
       "    core type: ExprTuple\n",
       "    sub-expressions: 44, 37\n",
       "29. (i, 2)\n",
       "    core type: ExprTuple\n",
       "    sub-expressions: 44, 38\n",
       "30. (i, 3)\n",
       "    core type: ExprTuple\n",
       "    sub-expressions: 44, 39\n",
       "31. (i, 4)\n",
       "    core type: ExprTuple\n",
       "    sub-expressions: 44, 40\n",
       "32. (i, 5)\n",
       "    core type: ExprTuple\n",
       "    sub-expressions: 44, 41\n",
       "33. (i, 6)\n",
       "    core type: ExprTuple\n",
       "    sub-expressions: 44, 42\n",
       "34. (i, 7)\n",
       "    core type: ExprTuple\n",
       "    sub-expressions: 44, 43\n",
       "35. +\n",
       "    core type: Literal\n",
       "    sub-expressions: \n",
       "36. (i, 8)\n",
       "    core type: ExprTuple\n",
       "    sub-expressions: 44, 45\n",
       "37. 1\n",
       "    core type: Literal\n",
       "    sub-expressions: \n",
       "38. 2\n",
       "    core type: Literal\n",
       "    sub-expressions: \n",
       "39. 3\n",
       "    core type: Literal\n",
       "    sub-expressions: \n",
       "40. 4\n",
       "    core type: Literal\n",
       "    sub-expressions: \n",
       "41. 5\n",
       "    core type: Literal\n",
       "    sub-expressions: \n",
       "42. 6\n",
       "    core type: Literal\n",
       "    sub-expressions: \n",
       "43. 7\n",
       "    core type: Literal\n",
       "    sub-expressions: \n",
       "44. i\n",
       "    core type: Variable\n",
       "    sub-expressions: \n",
       "45. 8\n",
       "    core type: Literal\n",
       "    sub-expressions: "
      ]
     },
     "metadata": {},
     "output_type": "display_data"
    }
   ],
   "source": [
    "# display the expression information\n",
    "stored_expr.expr_info()"
   ]
  },
  {
   "cell_type": "code",
   "execution_count": null,
   "metadata": {},
   "outputs": [],
   "source": []
  }
 ],
 "metadata": {
  "kernelspec": {
   "display_name": "Python 3",
   "language": "python",
   "name": "python3"
  }
 },
 "nbformat": 4,
 "nbformat_minor": 0
}