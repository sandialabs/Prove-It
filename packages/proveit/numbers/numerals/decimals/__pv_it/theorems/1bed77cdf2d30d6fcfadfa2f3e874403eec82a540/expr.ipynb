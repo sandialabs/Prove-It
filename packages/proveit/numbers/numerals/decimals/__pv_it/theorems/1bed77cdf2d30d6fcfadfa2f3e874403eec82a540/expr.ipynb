{
 "cells": [
  {
   "cell_type": "markdown",
   "metadata": {},
   "source": [
    "Expression of type <a class=\"ProveItLink\" href=\"../../../../../../../../doc/html/api/proveit.logic.Equals.html\">Equals</a>\n",
    "=======================\n",
    "# from the theory of <a class=\"ProveItLink\" href=\"../../../_theory_nbs_/theory.ipynb\">proveit.numbers.numerals.decimals</a>"
   ]
  },
  {
   "cell_type": "code",
   "execution_count": 1,
   "metadata": {},
   "outputs": [],
   "source": [
    "import proveit\n",
    "# Automation is not needed when building an expression:\n",
    "proveit.defaults.automation = False # This will speed things up.\n",
    "proveit.defaults.inline_pngs = False # Makes files smaller.\n",
    "%load_expr # Load the stored expression as 'stored_expr'\n",
    "# import Expression classes needed to build the expression\n",
    "from proveit import Function, f, i\n",
    "from proveit.core_expr_types import f_i_to_j\n",
    "from proveit.logic import Equals\n",
    "from proveit.numbers import Add, five, four, one, seven, six, three, two"
   ]
  },
  {
   "cell_type": "code",
   "execution_count": 2,
   "metadata": {},
   "outputs": [
    {
     "data": {
      "text/html": [
       "<strong id=\"expr\">expr:</strong> <a class=\"ProveItLink\" href=\"expr.ipynb\"><img src=\"expr.png\" style=\"display:inline;vertical-align:middle;\" /></a><br>"
      ],
      "text/plain": [
       "<IPython.core.display.HTML object>"
      ]
     },
     "metadata": {},
     "output_type": "display_data"
    }
   ],
   "source": [
    "# build up the expression from sub-expressions\n",
    "expr = Equals([f_i_to_j], [Function(f, [i]), Function(f, [Add(i, one)]), Function(f, [Add(i, two)]), Function(f, [Add(i, three)]), Function(f, [Add(i, four)]), Function(f, [Add(i, five)]), Function(f, [Add(i, six)]), Function(f, [Add(i, seven)])])"
   ]
  },
  {
   "cell_type": "code",
   "execution_count": 3,
   "metadata": {},
   "outputs": [
    {
     "name": "stdout",
     "output_type": "stream",
     "text": [
      "Passed sanity check: expr matches stored_expr\n"
     ]
    }
   ],
   "source": [
    "# check that the built expression is the same as the stored expression\n",
    "assert expr == stored_expr\n",
    "assert expr._style_id == stored_expr._style_id\n",
    "print(\"Passed sanity check: expr matches stored_expr\")"
   ]
  },
  {
   "cell_type": "code",
   "execution_count": 4,
   "metadata": {},
   "outputs": [
    {
     "name": "stdout",
     "output_type": "stream",
     "text": [
      "\\left(f\\left(i\\right), f\\left(i + 1\\right), \\ldots, f\\left(j\\right)\\right) = \\left(f\\left(i\\right), f\\left(i + 1\\right), f\\left(i + 2\\right), f\\left(i + 3\\right), f\\left(i + 4\\right), f\\left(i + 5\\right), f\\left(i + 6\\right), f\\left(i + 7\\right)\\right)\n"
     ]
    }
   ],
   "source": [
    "# Show the LaTeX representation of the expression for convenience if you need it.\n",
    "print(stored_expr.latex())"
   ]
  },
  {
   "cell_type": "code",
   "execution_count": 5,
   "metadata": {},
   "outputs": [
    {
     "data": {
      "text/html": [
       "<table>\n",
       "<tr><th>name</th><th>description</th><th>default</th><th>current value</th><th>related methods</th></tr><tr><td>operation</td><td>'infix' or 'function' style formatting</td><td>infix</td><td>infix</td><td></td></tr>\n",
       "<tr><td>wrap_positions</td><td>position(s) at which wrapping is to occur; '2 n - 1' is after the nth operand, '2 n' is after the nth operation.</td><td>()</td><td>()</td><td>('with_wrapping_at', 'with_wrap_before_operator', 'with_wrap_after_operator', 'without_wrapping', 'wrap_positions')</td></tr>\n",
       "<tr><td>justification</td><td>if any wrap positions are set, justify to the 'left', 'center', or 'right'</td><td>center</td><td>center</td><td>('with_justification',)</td></tr>\n",
       "<tr><td>direction</td><td>Direction of the relation (normal or reversed)</td><td>normal</td><td>normal</td><td>('with_direction_reversed', 'is_reversed')</td></tr>\n",
       "</table>\n"
      ],
      "text/plain": [
       "style name: operation\n",
       "description: 'infix' or 'function' style formatting\n",
       "default: infix\n",
       "current value: infix\n",
       "related methods: ()\n",
       "style name: wrap_positions\n",
       "description: position(s) at which wrapping is to occur; '2 n - 1' is after the nth operand, '2 n' is after the nth operation.\n",
       "default: ()\n",
       "current value: ()\n",
       "related methods: ('with_wrapping_at', 'with_wrap_before_operator', 'with_wrap_after_operator', 'without_wrapping', 'wrap_positions')\n",
       "style name: justification\n",
       "description: if any wrap positions are set, justify to the 'left', 'center', or 'right'\n",
       "default: center\n",
       "current value: center\n",
       "related methods: ('with_justification',)\n",
       "style name: direction\n",
       "description: Direction of the relation (normal or reversed)\n",
       "default: normal\n",
       "current value: normal\n",
       "related methods: ('with_direction_reversed', 'is_reversed')"
      ]
     },
     "metadata": {},
     "output_type": "display_data"
    }
   ],
   "source": [
    "stored_expr.style_options()"
   ]
  },
  {
   "cell_type": "code",
   "execution_count": 6,
   "metadata": {},
   "outputs": [
    {
     "data": {
      "text/html": [
       "<table><tr><th>&nbsp;</th><th>core type</th><th>sub-expressions</th><th>expression</th></tr>\n",
       "<tr><td>0</td><td>Operation</td><td>operator:&nbsp;1<br>operands:&nbsp;2<br></td><td><a class=\"ProveItLink\" href=\"expr.ipynb\"><img src=\"expr.png\" style=\"display:inline;vertical-align:middle;\" /></a></td></tr>\n",
       "<tr><td>1</td><td>Literal</td><td></td><td><a class=\"ProveItLink\" href=\"../../../../../../logic/equality/__pv_it/common/fb96dc12b2aa8801dda64d0132b396c63d1502bb0/expr.ipynb\"><img src=\"../../../../../../logic/equality/__pv_it/common/fb96dc12b2aa8801dda64d0132b396c63d1502bb0/expr.png\" style=\"display:inline;vertical-align:middle;\" /></a></td></tr>\n",
       "<tr><td>2</td><td>ExprTuple</td><td>3, 4</td><td><a class=\"ProveItLink\" href=\"../0ee641f4bf9e622e9c61153753c016cb58fcb6e00/expr.ipynb\"><img src=\"../0ee641f4bf9e622e9c61153753c016cb58fcb6e00/expr.png\" style=\"display:inline;vertical-align:middle;\" /></a></td></tr>\n",
       "<tr><td>3</td><td>ExprTuple</td><td>5</td><td><a class=\"ProveItLink\" href=\"../ca4fef6e8316ef2c0e82c2bd07277543e391687b0/expr.ipynb\"><img src=\"../ca4fef6e8316ef2c0e82c2bd07277543e391687b0/expr.png\" style=\"display:inline;vertical-align:middle;\" /></a></td></tr>\n",
       "<tr><td>4</td><td>ExprTuple</td><td>6, 7, 8, 9, 10, 11, 12, 13</td><td><a class=\"ProveItLink\" href=\"../ad26c57fb0435c7e3310176ffe0c356847ec1dce0/expr.ipynb\"><img src=\"../ad26c57fb0435c7e3310176ffe0c356847ec1dce0/expr.png\" style=\"display:inline;vertical-align:middle;\" /></a></td></tr>\n",
       "<tr><td>5</td><td>ExprRange</td><td>lambda_map:&nbsp;14<br>start_index:&nbsp;49<br>end_index:&nbsp;15<br></td><td><a class=\"ProveItLink\" href=\"../../../../../../core_expr_types/__pv_it/common/253a5fe8886c2ac76e888f437ab1b15f51c1335e0/expr.ipynb\"><img src=\"../../../../../../core_expr_types/__pv_it/common/253a5fe8886c2ac76e888f437ab1b15f51c1335e0/expr.png\" style=\"display:inline;vertical-align:middle;\" /></a></td></tr>\n",
       "<tr><td>6</td><td>Operation</td><td>operator:&nbsp;32<br>operand:&nbsp;49<br></td><td><a class=\"ProveItLink\" href=\"../47417ab7f1e7f118867e6cd89ca650b18d19923f0/expr.ipynb\"><img src=\"../47417ab7f1e7f118867e6cd89ca650b18d19923f0/expr.png\" style=\"display:inline;vertical-align:middle;\" /></a></td></tr>\n",
       "<tr><td>7</td><td>Operation</td><td>operator:&nbsp;32<br>operand:&nbsp;25<br></td><td><a class=\"ProveItLink\" href=\"../93554b4e75307d4f00d300f7db61f5d46fd2b9d90/expr.ipynb\"><img src=\"../93554b4e75307d4f00d300f7db61f5d46fd2b9d90/expr.png\" style=\"display:inline;vertical-align:middle;\" /></a></td></tr>\n",
       "<tr><td>8</td><td>Operation</td><td>operator:&nbsp;32<br>operand:&nbsp;26<br></td><td><a class=\"ProveItLink\" href=\"../522d3600b100ac3eabcfad3db0c2f393d8f74f2f0/expr.ipynb\"><img src=\"../522d3600b100ac3eabcfad3db0c2f393d8f74f2f0/expr.png\" style=\"display:inline;vertical-align:middle;\" /></a></td></tr>\n",
       "<tr><td>9</td><td>Operation</td><td>operator:&nbsp;32<br>operand:&nbsp;27<br></td><td><a class=\"ProveItLink\" href=\"../2c77768b8dd3f61c87a5dfe89321b9f00f7970fc0/expr.ipynb\"><img src=\"../2c77768b8dd3f61c87a5dfe89321b9f00f7970fc0/expr.png\" style=\"display:inline;vertical-align:middle;\" /></a></td></tr>\n",
       "<tr><td>10</td><td>Operation</td><td>operator:&nbsp;32<br>operand:&nbsp;28<br></td><td><a class=\"ProveItLink\" href=\"../3b5ccd36d96fc30e567a5a885f5f659efd3d2f3a0/expr.ipynb\"><img src=\"../3b5ccd36d96fc30e567a5a885f5f659efd3d2f3a0/expr.png\" style=\"display:inline;vertical-align:middle;\" /></a></td></tr>\n",
       "<tr><td>11</td><td>Operation</td><td>operator:&nbsp;32<br>operand:&nbsp;29<br></td><td><a class=\"ProveItLink\" href=\"../3016ddd77c81e0e1febb19d8cea312c7f3413b4d0/expr.ipynb\"><img src=\"../3016ddd77c81e0e1febb19d8cea312c7f3413b4d0/expr.png\" style=\"display:inline;vertical-align:middle;\" /></a></td></tr>\n",
       "<tr><td>12</td><td>Operation</td><td>operator:&nbsp;32<br>operand:&nbsp;30<br></td><td><a class=\"ProveItLink\" href=\"../1c03ff0a909ea933d8e6263e6172c4d7bc5d439b0/expr.ipynb\"><img src=\"../1c03ff0a909ea933d8e6263e6172c4d7bc5d439b0/expr.png\" style=\"display:inline;vertical-align:middle;\" /></a></td></tr>\n",
       "<tr><td>13</td><td>Operation</td><td>operator:&nbsp;32<br>operand:&nbsp;31<br></td><td><a class=\"ProveItLink\" href=\"../738e04289757bf64516da839f2e8a8651ec5957d0/expr.ipynb\"><img src=\"../738e04289757bf64516da839f2e8a8651ec5957d0/expr.png\" style=\"display:inline;vertical-align:middle;\" /></a></td></tr>\n",
       "<tr><td>14</td><td>Lambda</td><td>parameter:&nbsp;42<br>body:&nbsp;24<br></td><td><a class=\"ProveItLink\" href=\"../../../../../../core_expr_types/__pv_it/common/85a3534ef7cc0fae4ff216233b0408e0e4a3424b0/expr.ipynb\"><img src=\"../../../../../../core_expr_types/__pv_it/common/85a3534ef7cc0fae4ff216233b0408e0e4a3424b0/expr.png\" style=\"display:inline;vertical-align:middle;\" /></a></td></tr>\n",
       "<tr><td>15</td><td>Variable</td><td></td><td><a class=\"ProveItLink\" href=\"../../../../../../__pv_it/common/1ed21df18baca2f42b561a7ffbf30a2743d594650/expr.ipynb\"><img src=\"../../../../../../__pv_it/common/1ed21df18baca2f42b561a7ffbf30a2743d594650/expr.png\" style=\"display:inline;vertical-align:middle;\" /></a></td></tr>\n",
       "<tr><td>16</td><td>ExprTuple</td><td>49</td><td><a class=\"ProveItLink\" href=\"../0fc33550aa9740010879fdf30c320b63ba918eff0/expr.ipynb\"><img src=\"../0fc33550aa9740010879fdf30c320b63ba918eff0/expr.png\" style=\"display:inline;vertical-align:middle;\" /></a></td></tr>\n",
       "<tr><td>17</td><td>ExprTuple</td><td>25</td><td><a class=\"ProveItLink\" href=\"../c9799da28c37a9b544cd9f03ec0f18e6882c44730/expr.ipynb\"><img src=\"../c9799da28c37a9b544cd9f03ec0f18e6882c44730/expr.png\" style=\"display:inline;vertical-align:middle;\" /></a></td></tr>\n",
       "<tr><td>18</td><td>ExprTuple</td><td>26</td><td><a class=\"ProveItLink\" href=\"../b9350d2814b4b140833e3fb76e5f21b88bda12d40/expr.ipynb\"><img src=\"../b9350d2814b4b140833e3fb76e5f21b88bda12d40/expr.png\" style=\"display:inline;vertical-align:middle;\" /></a></td></tr>\n",
       "<tr><td>19</td><td>ExprTuple</td><td>27</td><td><a class=\"ProveItLink\" href=\"../faa9d59a7cce57899a84d9e003ac057aa336f05c0/expr.ipynb\"><img src=\"../faa9d59a7cce57899a84d9e003ac057aa336f05c0/expr.png\" style=\"display:inline;vertical-align:middle;\" /></a></td></tr>\n",
       "<tr><td>20</td><td>ExprTuple</td><td>28</td><td><a class=\"ProveItLink\" href=\"../e8fee7440df199ae02c97c6d803e0590ae7fd0910/expr.ipynb\"><img src=\"../e8fee7440df199ae02c97c6d803e0590ae7fd0910/expr.png\" style=\"display:inline;vertical-align:middle;\" /></a></td></tr>\n",
       "<tr><td>21</td><td>ExprTuple</td><td>29</td><td><a class=\"ProveItLink\" href=\"../1fc4b5846412abb99660fe828d066f2dda58e5570/expr.ipynb\"><img src=\"../1fc4b5846412abb99660fe828d066f2dda58e5570/expr.png\" style=\"display:inline;vertical-align:middle;\" /></a></td></tr>\n",
       "<tr><td>22</td><td>ExprTuple</td><td>30</td><td><a class=\"ProveItLink\" href=\"../e9d00e99ce7ba1dacdae57783943a292109a4ee00/expr.ipynb\"><img src=\"../e9d00e99ce7ba1dacdae57783943a292109a4ee00/expr.png\" style=\"display:inline;vertical-align:middle;\" /></a></td></tr>\n",
       "<tr><td>23</td><td>ExprTuple</td><td>31</td><td><a class=\"ProveItLink\" href=\"../1e1ef45fa747ce67abd04be986f1f9e732aa321b0/expr.ipynb\"><img src=\"../1e1ef45fa747ce67abd04be986f1f9e732aa321b0/expr.png\" style=\"display:inline;vertical-align:middle;\" /></a></td></tr>\n",
       "<tr><td>24</td><td>Operation</td><td>operator:&nbsp;32<br>operand:&nbsp;42<br></td><td><a class=\"ProveItLink\" href=\"../../../../../../core_expr_types/__pv_it/common/1fec0eaf1cfb24a7fd0f169d6d2b28f8410bcd7c0/expr.ipynb\"><img src=\"../../../../../../core_expr_types/__pv_it/common/1fec0eaf1cfb24a7fd0f169d6d2b28f8410bcd7c0/expr.png\" style=\"display:inline;vertical-align:middle;\" /></a></td></tr>\n",
       "<tr><td>25</td><td>Operation</td><td>operator:&nbsp;40<br>operands:&nbsp;34<br></td><td><a class=\"ProveItLink\" href=\"../a2e143af123f66da09e0988b76b1d4e48661786c0/expr.ipynb\"><img src=\"../a2e143af123f66da09e0988b76b1d4e48661786c0/expr.png\" style=\"display:inline;vertical-align:middle;\" /></a></td></tr>\n",
       "<tr><td>26</td><td>Operation</td><td>operator:&nbsp;40<br>operands:&nbsp;35<br></td><td><a class=\"ProveItLink\" href=\"../24128158ac3bbc68b8ee4a75afd24ed2fce98d980/expr.ipynb\"><img src=\"../24128158ac3bbc68b8ee4a75afd24ed2fce98d980/expr.png\" style=\"display:inline;vertical-align:middle;\" /></a></td></tr>\n",
       "<tr><td>27</td><td>Operation</td><td>operator:&nbsp;40<br>operands:&nbsp;36<br></td><td><a class=\"ProveItLink\" href=\"../f508bd27b327306788d2dd9f530f11d70c41254e0/expr.ipynb\"><img src=\"../f508bd27b327306788d2dd9f530f11d70c41254e0/expr.png\" style=\"display:inline;vertical-align:middle;\" /></a></td></tr>\n",
       "<tr><td>28</td><td>Operation</td><td>operator:&nbsp;40<br>operands:&nbsp;37<br></td><td><a class=\"ProveItLink\" href=\"../a80dfd517f887dc5f9b93bd60a7e3f6c0ed2eec00/expr.ipynb\"><img src=\"../a80dfd517f887dc5f9b93bd60a7e3f6c0ed2eec00/expr.png\" style=\"display:inline;vertical-align:middle;\" /></a></td></tr>\n",
       "<tr><td>29</td><td>Operation</td><td>operator:&nbsp;40<br>operands:&nbsp;38<br></td><td><a class=\"ProveItLink\" href=\"../e06655989678c1c2fe85c1a12ae7bca28b2ed4130/expr.ipynb\"><img src=\"../e06655989678c1c2fe85c1a12ae7bca28b2ed4130/expr.png\" style=\"display:inline;vertical-align:middle;\" /></a></td></tr>\n",
       "<tr><td>30</td><td>Operation</td><td>operator:&nbsp;40<br>operands:&nbsp;39<br></td><td><a class=\"ProveItLink\" href=\"../baf7f381ef42e8ce426e22150fdbbe01cf9c9c960/expr.ipynb\"><img src=\"../baf7f381ef42e8ce426e22150fdbbe01cf9c9c960/expr.png\" style=\"display:inline;vertical-align:middle;\" /></a></td></tr>\n",
       "<tr><td>31</td><td>Operation</td><td>operator:&nbsp;40<br>operands:&nbsp;41<br></td><td><a class=\"ProveItLink\" href=\"../09c73dac7ca335f68309bebfeb8ac719a7e38f050/expr.ipynb\"><img src=\"../09c73dac7ca335f68309bebfeb8ac719a7e38f050/expr.png\" style=\"display:inline;vertical-align:middle;\" /></a></td></tr>\n",
       "<tr><td>32</td><td>Variable</td><td></td><td><a class=\"ProveItLink\" href=\"../../../../../../__pv_it/common/01b6dbb444a31fc38af4c2379badef6c75b363710/expr.ipynb\"><img src=\"../../../../../../__pv_it/common/01b6dbb444a31fc38af4c2379badef6c75b363710/expr.png\" style=\"display:inline;vertical-align:middle;\" /></a></td></tr>\n",
       "<tr><td>33</td><td>ExprTuple</td><td>42</td><td><a class=\"ProveItLink\" href=\"../../../../../../core_expr_types/__pv_it/common/4b0dd6be36d76552eda6a95d5b4a27f5a5b62f900/expr.ipynb\"><img src=\"../../../../../../core_expr_types/__pv_it/common/4b0dd6be36d76552eda6a95d5b4a27f5a5b62f900/expr.png\" style=\"display:inline;vertical-align:middle;\" /></a></td></tr>\n",
       "<tr><td>34</td><td>ExprTuple</td><td>49, 43</td><td><a class=\"ProveItLink\" href=\"../c89850952f9608f21aa2408d82ba7769fea41e400/expr.ipynb\"><img src=\"../c89850952f9608f21aa2408d82ba7769fea41e400/expr.png\" style=\"display:inline;vertical-align:middle;\" /></a></td></tr>\n",
       "<tr><td>35</td><td>ExprTuple</td><td>49, 44</td><td><a class=\"ProveItLink\" href=\"../f6b83eb3317523dc13986de5fc52ed67a403af7b0/expr.ipynb\"><img src=\"../f6b83eb3317523dc13986de5fc52ed67a403af7b0/expr.png\" style=\"display:inline;vertical-align:middle;\" /></a></td></tr>\n",
       "<tr><td>36</td><td>ExprTuple</td><td>49, 45</td><td><a class=\"ProveItLink\" href=\"../1b239d03320e6b55a7f4745615ee61682a92a62e0/expr.ipynb\"><img src=\"../1b239d03320e6b55a7f4745615ee61682a92a62e0/expr.png\" style=\"display:inline;vertical-align:middle;\" /></a></td></tr>\n",
       "<tr><td>37</td><td>ExprTuple</td><td>49, 46</td><td><a class=\"ProveItLink\" href=\"../afafc58f7f5d15038c45c8851b78cd323938625d0/expr.ipynb\"><img src=\"../afafc58f7f5d15038c45c8851b78cd323938625d0/expr.png\" style=\"display:inline;vertical-align:middle;\" /></a></td></tr>\n",
       "<tr><td>38</td><td>ExprTuple</td><td>49, 47</td><td><a class=\"ProveItLink\" href=\"../788359c5919b555b2b6f4c1aa1a3590e6f45310d0/expr.ipynb\"><img src=\"../788359c5919b555b2b6f4c1aa1a3590e6f45310d0/expr.png\" style=\"display:inline;vertical-align:middle;\" /></a></td></tr>\n",
       "<tr><td>39</td><td>ExprTuple</td><td>49, 48</td><td><a class=\"ProveItLink\" href=\"../cb1ffa8d71e4cc4236d5c2c5384805aee728cdc90/expr.ipynb\"><img src=\"../cb1ffa8d71e4cc4236d5c2c5384805aee728cdc90/expr.png\" style=\"display:inline;vertical-align:middle;\" /></a></td></tr>\n",
       "<tr><td>40</td><td>Literal</td><td></td><td><a class=\"ProveItLink\" href=\"../../../../../addition/__pv_it/common/4b7effaab3619a1c2c38fe2dee8601df8ec714590/expr.ipynb\"><img src=\"../../../../../addition/__pv_it/common/4b7effaab3619a1c2c38fe2dee8601df8ec714590/expr.png\" style=\"display:inline;vertical-align:middle;\" /></a></td></tr>\n",
       "<tr><td>41</td><td>ExprTuple</td><td>49, 50</td><td><a class=\"ProveItLink\" href=\"../4ca5e1b42b72e64c2bd510012d03c35a87b774d20/expr.ipynb\"><img src=\"../4ca5e1b42b72e64c2bd510012d03c35a87b774d20/expr.png\" style=\"display:inline;vertical-align:middle;\" /></a></td></tr>\n",
       "<tr><td>42</td><td>Variable</td><td></td><td><a class=\"ProveItLink\" href=\"../../../../../../core_expr_types/__pv_it/common/006c465e50948aa2b52285e2de47974f741255cc0/expr.ipynb\"><img src=\"../../../../../../core_expr_types/__pv_it/common/006c465e50948aa2b52285e2de47974f741255cc0/expr.png\" style=\"display:inline;vertical-align:middle;\" /></a></td></tr>\n",
       "<tr><td>43</td><td>Literal</td><td></td><td><a class=\"ProveItLink\" href=\"../../../../__pv_it/common/682157d4892d216d9e5626ed533aff9b56b9506e0/expr.ipynb\"><img src=\"../../../../__pv_it/common/682157d4892d216d9e5626ed533aff9b56b9506e0/expr.png\" style=\"display:inline;vertical-align:middle;\" /></a></td></tr>\n",
       "<tr><td>44</td><td>Literal</td><td></td><td><a class=\"ProveItLink\" href=\"../../../../__pv_it/common/af4aab8a07465db063742696e006d04670f30cf10/expr.ipynb\"><img src=\"../../../../__pv_it/common/af4aab8a07465db063742696e006d04670f30cf10/expr.png\" style=\"display:inline;vertical-align:middle;\" /></a></td></tr>\n",
       "<tr><td>45</td><td>Literal</td><td></td><td><a class=\"ProveItLink\" href=\"../../../../__pv_it/common/1943b60945420e340d305780feff5c1aff2740ff0/expr.ipynb\"><img src=\"../../../../__pv_it/common/1943b60945420e340d305780feff5c1aff2740ff0/expr.png\" style=\"display:inline;vertical-align:middle;\" /></a></td></tr>\n",
       "<tr><td>46</td><td>Literal</td><td></td><td><a class=\"ProveItLink\" href=\"../../../../__pv_it/common/48a1d915c1e9490b9a94e5c77a208938d3ee20ce0/expr.ipynb\"><img src=\"../../../../__pv_it/common/48a1d915c1e9490b9a94e5c77a208938d3ee20ce0/expr.png\" style=\"display:inline;vertical-align:middle;\" /></a></td></tr>\n",
       "<tr><td>47</td><td>Literal</td><td></td><td><a class=\"ProveItLink\" href=\"../../../../__pv_it/common/16e9923976ab933f6783588485130530d25dafab0/expr.ipynb\"><img src=\"../../../../__pv_it/common/16e9923976ab933f6783588485130530d25dafab0/expr.png\" style=\"display:inline;vertical-align:middle;\" /></a></td></tr>\n",
       "<tr><td>48</td><td>Literal</td><td></td><td><a class=\"ProveItLink\" href=\"../../../../__pv_it/common/3376a962e50366e1ce3b003524f11b59146ac6970/expr.ipynb\"><img src=\"../../../../__pv_it/common/3376a962e50366e1ce3b003524f11b59146ac6970/expr.png\" style=\"display:inline;vertical-align:middle;\" /></a></td></tr>\n",
       "<tr><td>49</td><td>Variable</td><td></td><td><a class=\"ProveItLink\" href=\"../../../../../../__pv_it/common/ae955345c83abf786c3aff8681cd5465beae262d0/expr.ipynb\"><img src=\"../../../../../../__pv_it/common/ae955345c83abf786c3aff8681cd5465beae262d0/expr.png\" style=\"display:inline;vertical-align:middle;\" /></a></td></tr>\n",
       "<tr><td>50</td><td>Literal</td><td></td><td><a class=\"ProveItLink\" href=\"../../../../__pv_it/common/3dfdb143be8c2c1b027a0bc361bad6a4ea13be240/expr.ipynb\"><img src=\"../../../../__pv_it/common/3dfdb143be8c2c1b027a0bc361bad6a4ea13be240/expr.png\" style=\"display:inline;vertical-align:middle;\" /></a></td></tr>\n",
       "</table>\n"
      ],
      "text/plain": [
       "0. (f(i), f(i + 1), ..., f(j)) = (f(i), f(i + 1), f(i + 2), f(i + 3), f(i + 4), f(i + 5), f(i + 6), f(i + 7))\n",
       "   core type: Operation\n",
       "   operator: 1\n",
       "   operands: 2\n",
       "1. =\n",
       "   core type: Literal\n",
       "   sub-expressions: \n",
       "2. ((f(i), f(i + 1), ..., f(j)), (f(i), f(i + 1), f(i + 2), f(i + 3), f(i + 4), f(i + 5), f(i + 6), f(i + 7)))\n",
       "   core type: ExprTuple\n",
       "   sub-expressions: 3, 4\n",
       "3. (f(i), f(i + 1), ..., f(j))\n",
       "   core type: ExprTuple\n",
       "   sub-expressions: 5\n",
       "4. (f(i), f(i + 1), f(i + 2), f(i + 3), f(i + 4), f(i + 5), f(i + 6), f(i + 7))\n",
       "   core type: ExprTuple\n",
       "   sub-expressions: 6, 7, 8, 9, 10, 11, 12, 13\n",
       "5. f(i), f(i + 1), ..., f(j)\n",
       "   core type: ExprRange\n",
       "   lambda_map: 14\n",
       "   start_index: 49\n",
       "   end_index: 15\n",
       "6. f(i)\n",
       "   core type: Operation\n",
       "   operator: 32\n",
       "   operand: 49\n",
       "7. f(i + 1)\n",
       "   core type: Operation\n",
       "   operator: 32\n",
       "   operand: 25\n",
       "8. f(i + 2)\n",
       "   core type: Operation\n",
       "   operator: 32\n",
       "   operand: 26\n",
       "9. f(i + 3)\n",
       "   core type: Operation\n",
       "   operator: 32\n",
       "   operand: 27\n",
       "10. f(i + 4)\n",
       "    core type: Operation\n",
       "    operator: 32\n",
       "    operand: 28\n",
       "11. f(i + 5)\n",
       "    core type: Operation\n",
       "    operator: 32\n",
       "    operand: 29\n",
       "12. f(i + 6)\n",
       "    core type: Operation\n",
       "    operator: 32\n",
       "    operand: 30\n",
       "13. f(i + 7)\n",
       "    core type: Operation\n",
       "    operator: 32\n",
       "    operand: 31\n",
       "14. _a -> f(_a)\n",
       "    core type: Lambda\n",
       "    parameter: 42\n",
       "    body: 24\n",
       "15. j\n",
       "    core type: Variable\n",
       "    sub-expressions: \n",
       "16. (i)\n",
       "    core type: ExprTuple\n",
       "    sub-expressions: 49\n",
       "17. (i + 1)\n",
       "    core type: ExprTuple\n",
       "    sub-expressions: 25\n",
       "18. (i + 2)\n",
       "    core type: ExprTuple\n",
       "    sub-expressions: 26\n",
       "19. (i + 3)\n",
       "    core type: ExprTuple\n",
       "    sub-expressions: 27\n",
       "20. (i + 4)\n",
       "    core type: ExprTuple\n",
       "    sub-expressions: 28\n",
       "21. (i + 5)\n",
       "    core type: ExprTuple\n",
       "    sub-expressions: 29\n",
       "22. (i + 6)\n",
       "    core type: ExprTuple\n",
       "    sub-expressions: 30\n",
       "23. (i + 7)\n",
       "    core type: ExprTuple\n",
       "    sub-expressions: 31\n",
       "24. f(_a)\n",
       "    core type: Operation\n",
       "    operator: 32\n",
       "    operand: 42\n",
       "25. i + 1\n",
       "    core type: Operation\n",
       "    operator: 40\n",
       "    operands: 34\n",
       "26. i + 2\n",
       "    core type: Operation\n",
       "    operator: 40\n",
       "    operands: 35\n",
       "27. i + 3\n",
       "    core type: Operation\n",
       "    operator: 40\n",
       "    operands: 36\n",
       "28. i + 4\n",
       "    core type: Operation\n",
       "    operator: 40\n",
       "    operands: 37\n",
       "29. i + 5\n",
       "    core type: Operation\n",
       "    operator: 40\n",
       "    operands: 38\n",
       "30. i + 6\n",
       "    core type: Operation\n",
       "    operator: 40\n",
       "    operands: 39\n",
       "31. i + 7\n",
       "    core type: Operation\n",
       "    operator: 40\n",
       "    operands: 41\n",
       "32. f\n",
       "    core type: Variable\n",
       "    sub-expressions: \n",
       "33. (_a)\n",
       "    core type: ExprTuple\n",
       "    sub-expressions: 42\n",
       "34. (i, 1)\n",
       "    core type: ExprTuple\n",
       "    sub-expressions: 49, 43\n",
       "35. (i, 2)\n",
       "    core type: ExprTuple\n",
       "    sub-expressions: 49, 44\n",
       "36. (i, 3)\n",
       "    core type: ExprTuple\n",
       "    sub-expressions: 49, 45\n",
       "37. (i, 4)\n",
       "    core type: ExprTuple\n",
       "    sub-expressions: 49, 46\n",
       "38. (i, 5)\n",
       "    core type: ExprTuple\n",
       "    sub-expressions: 49, 47\n",
       "39. (i, 6)\n",
       "    core type: ExprTuple\n",
       "    sub-expressions: 49, 48\n",
       "40. +\n",
       "    core type: Literal\n",
       "    sub-expressions: \n",
       "41. (i, 7)\n",
       "    core type: ExprTuple\n",
       "    sub-expressions: 49, 50\n",
       "42. _a\n",
       "    core type: Variable\n",
       "    sub-expressions: \n",
       "43. 1\n",
       "    core type: Literal\n",
       "    sub-expressions: \n",
       "44. 2\n",
       "    core type: Literal\n",
       "    sub-expressions: \n",
       "45. 3\n",
       "    core type: Literal\n",
       "    sub-expressions: \n",
       "46. 4\n",
       "    core type: Literal\n",
       "    sub-expressions: \n",
       "47. 5\n",
       "    core type: Literal\n",
       "    sub-expressions: \n",
       "48. 6\n",
       "    core type: Literal\n",
       "    sub-expressions: \n",
       "49. i\n",
       "    core type: Variable\n",
       "    sub-expressions: \n",
       "50. 7\n",
       "    core type: Literal\n",
       "    sub-expressions: "
      ]
     },
     "metadata": {},
     "output_type": "display_data"
    }
   ],
   "source": [
    "# display the expression information\n",
    "stored_expr.expr_info()"
   ]
  },
  {
   "cell_type": "code",
   "execution_count": null,
   "metadata": {},
   "outputs": [],
   "source": []
  }
 ],
 "metadata": {
  "kernelspec": {
   "display_name": "Python 3",
   "language": "python",
   "name": "python3"
  }
 },
 "nbformat": 4,
 "nbformat_minor": 0
}