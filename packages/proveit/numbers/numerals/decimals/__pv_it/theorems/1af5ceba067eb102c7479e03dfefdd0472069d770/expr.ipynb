{
 "cells": [
  {
   "cell_type": "markdown",
   "metadata": {},
   "source": [
    "Expression of type <a class=\"ProveItLink\" href=\"../../../../../../../../doc/html/api/proveit.Conditional.html\">Conditional</a>\n",
    "=======================\n",
    "# from the theory of <a class=\"ProveItLink\" href=\"../../../_theory_nbs_/theory.ipynb\">proveit.numbers.numerals.decimals</a>"
   ]
  },
  {
   "cell_type": "code",
   "execution_count": 1,
   "metadata": {},
   "outputs": [],
   "source": [
    "import proveit\n",
    "# Automation is not needed when building an expression:\n",
    "proveit.defaults.automation = False # This will speed things up.\n",
    "proveit.defaults.inline_pngs = False # Makes files smaller.\n",
    "%load_expr # Load the stored expression as 'stored_expr'\n",
    "# import Expression classes needed to build the expression\n",
    "from proveit import Conditional, ExprRange, IndexedVar, Variable, a, b, n\n",
    "from proveit.core_expr_types import b_1_to_n\n",
    "from proveit.logic import And, InSet\n",
    "from proveit.numbers import DecimalSequence, Digits, NaturalPos, greater, one, zero"
   ]
  },
  {
   "cell_type": "code",
   "execution_count": 2,
   "metadata": {},
   "outputs": [
    {
     "data": {
      "text/html": [
       "<strong id=\"expr\">expr:</strong> <a class=\"ProveItLink\" href=\"expr.ipynb\"><img src=\"expr.png\" style=\"display:inline;vertical-align:middle;\" /></a><br>"
      ],
      "text/plain": [
       "<IPython.core.display.HTML object>"
      ]
     },
     "metadata": {},
     "output_type": "display_data"
    }
   ],
   "source": [
    "# build up the expression from sub-expressions\n",
    "sub_expr1 = Variable(\"_a\", latex_format = r\"{_{-}a}\")\n",
    "expr = Conditional(InSet(DecimalSequence(a, b_1_to_n), NaturalPos), And(InSet(a, Digits), ExprRange(sub_expr1, InSet(IndexedVar(b, sub_expr1), Digits), one, n), greater(a, zero)))"
   ]
  },
  {
   "cell_type": "code",
   "execution_count": 3,
   "metadata": {},
   "outputs": [
    {
     "name": "stdout",
     "output_type": "stream",
     "text": [
      "Passed sanity check: expr matches stored_expr\n"
     ]
    }
   ],
   "source": [
    "# check that the built expression is the same as the stored expression\n",
    "assert expr == stored_expr\n",
    "assert expr._style_id == stored_expr._style_id\n",
    "print(\"Passed sanity check: expr matches stored_expr\")"
   ]
  },
  {
   "cell_type": "code",
   "execution_count": 4,
   "metadata": {},
   "outputs": [
    {
     "name": "stdout",
     "output_type": "stream",
     "text": [
      "\\left\\{\\texttt{\\#}(a ~ b_{1}, b_{2}, \\ldots, b_{n}) \\in \\mathbb{N}^+ \\textrm{ if } a \\in \\mathbb{N}^{\\leq 9}, \\left(b_{1} \\in \\mathbb{N}^{\\leq 9}\\right) ,  \\left(b_{2} \\in \\mathbb{N}^{\\leq 9}\\right) ,  \\ldots ,  \\left(b_{n} \\in \\mathbb{N}^{\\leq 9}\\right) ,  a > 0\\right..\n"
     ]
    }
   ],
   "source": [
    "# Show the LaTeX representation of the expression for convenience if you need it.\n",
    "print(stored_expr.latex())"
   ]
  },
  {
   "cell_type": "code",
   "execution_count": 5,
   "metadata": {},
   "outputs": [
    {
     "data": {
      "text/html": [
       "<table>\n",
       "<tr><th>name</th><th>description</th><th>default</th><th>current value</th><th>related methods</th></tr><tr><td>condition_delimiter</td><td>'comma' or 'and'</td><td>comma</td><td>comma</td><td>('with_comma_delimiter', 'with_conjunction_delimiter')</td></tr>\n",
       "</table>\n"
      ],
      "text/plain": [
       "style name: condition_delimiter\n",
       "description: 'comma' or 'and'\n",
       "default: comma\n",
       "current value: comma\n",
       "related methods: ('with_comma_delimiter', 'with_conjunction_delimiter')"
      ]
     },
     "metadata": {},
     "output_type": "display_data"
    }
   ],
   "source": [
    "stored_expr.style_options()"
   ]
  },
  {
   "cell_type": "code",
   "execution_count": 6,
   "metadata": {},
   "outputs": [
    {
     "data": {
      "text/html": [
       "<table><tr><th>&nbsp;</th><th>core type</th><th>sub-expressions</th><th>expression</th></tr>\n",
       "<tr><td>0</td><td>Conditional</td><td>value:&nbsp;1<br>condition:&nbsp;2<br></td><td><a class=\"ProveItLink\" href=\"expr.ipynb\"><img src=\"expr.png\" style=\"display:inline;vertical-align:middle;\" /></a></td></tr>\n",
       "<tr><td>1</td><td>Operation</td><td>operator:&nbsp;24<br>operands:&nbsp;3<br></td><td><a class=\"ProveItLink\" href=\"../189af874e4c98fad142e154c5a892d15069697120/expr.ipynb\"><img src=\"../189af874e4c98fad142e154c5a892d15069697120/expr.png\" style=\"display:inline;vertical-align:middle;\" /></a></td></tr>\n",
       "<tr><td>2</td><td>Operation</td><td>operator:&nbsp;4<br>operands:&nbsp;5<br></td><td><a class=\"ProveItLink\" href=\"../d0e845d4b86a8f4ff709eda76eba6614d0da44dd0/expr.ipynb\"><img src=\"../d0e845d4b86a8f4ff709eda76eba6614d0da44dd0/expr.png\" style=\"display:inline;vertical-align:middle;\" /></a></td></tr>\n",
       "<tr><td>3</td><td>ExprTuple</td><td>6, 7</td><td><a class=\"ProveItLink\" href=\"../b983007809da48581d03fa4d145d54bb522a711d0/expr.ipynb\"><img src=\"../b983007809da48581d03fa4d145d54bb522a711d0/expr.png\" style=\"display:inline;vertical-align:middle;\" /></a></td></tr>\n",
       "<tr><td>4</td><td>Literal</td><td></td><td><a class=\"ProveItLink\" href=\"../../../../../../logic/booleans/conjunction/__pv_it/common/42118ff318bd65d98b1393f64ce7c2269feef76e0/expr.ipynb\"><img src=\"../../../../../../logic/booleans/conjunction/__pv_it/common/42118ff318bd65d98b1393f64ce7c2269feef76e0/expr.png\" style=\"display:inline;vertical-align:middle;\" /></a></td></tr>\n",
       "<tr><td>5</td><td>ExprTuple</td><td>8, 9, 10</td><td><a class=\"ProveItLink\" href=\"../76ca96ccba168c486b121dcd3889f514c4c8008f0/expr.ipynb\"><img src=\"../76ca96ccba168c486b121dcd3889f514c4c8008f0/expr.png\" style=\"display:inline;vertical-align:middle;\" /></a></td></tr>\n",
       "<tr><td>6</td><td>Operation</td><td>operator:&nbsp;11<br>operands:&nbsp;12<br></td><td><a class=\"ProveItLink\" href=\"../354d850875b41879b945d72429f08b30e8f4028b0/expr.ipynb\"><img src=\"../354d850875b41879b945d72429f08b30e8f4028b0/expr.png\" style=\"display:inline;vertical-align:middle;\" /></a></td></tr>\n",
       "<tr><td>7</td><td>Literal</td><td></td><td><a class=\"ProveItLink\" href=\"../../../../../number_sets/natural_numbers/__pv_it/common/6111329435c43892c831c4793de96afbf80bdb3e0/expr.ipynb\"><img src=\"../../../../../number_sets/natural_numbers/__pv_it/common/6111329435c43892c831c4793de96afbf80bdb3e0/expr.png\" style=\"display:inline;vertical-align:middle;\" /></a></td></tr>\n",
       "<tr><td>8</td><td>Operation</td><td>operator:&nbsp;24<br>operands:&nbsp;13<br></td><td><a class=\"ProveItLink\" href=\"../e9f4c586adab5cb1b024a361fd4329d924dab6f60/expr.ipynb\"><img src=\"../e9f4c586adab5cb1b024a361fd4329d924dab6f60/expr.png\" style=\"display:inline;vertical-align:middle;\" /></a></td></tr>\n",
       "<tr><td>9</td><td>ExprRange</td><td>lambda_map:&nbsp;14<br>start_index:&nbsp;22<br>end_index:&nbsp;23<br></td><td><a class=\"ProveItLink\" href=\"../869d57a921df3b7b1cb8804a254be000e675c2250/expr.ipynb\"><img src=\"../869d57a921df3b7b1cb8804a254be000e675c2250/expr.png\" style=\"display:inline;vertical-align:middle;\" /></a></td></tr>\n",
       "<tr><td>10</td><td>Operation</td><td>operator:&nbsp;15<br>operands:&nbsp;16<br></td><td><a class=\"ProveItLink\" href=\"../fd1125d2a818357b6ff33184c8de1f690ccc89100/expr.ipynb\"><img src=\"../fd1125d2a818357b6ff33184c8de1f690ccc89100/expr.png\" style=\"display:inline;vertical-align:middle;\" /></a></td></tr>\n",
       "<tr><td>11</td><td>Literal</td><td></td><td><a class=\"ProveItLink\" href=\"../../common/1e4ac31e17772d15a8c2f39677f3067889fee3d20/expr.ipynb\"><img src=\"../../common/1e4ac31e17772d15a8c2f39677f3067889fee3d20/expr.png\" style=\"display:inline;vertical-align:middle;\" /></a></td></tr>\n",
       "<tr><td>12</td><td>ExprTuple</td><td>20, 17</td><td><a class=\"ProveItLink\" href=\"../74110d88939e4b23e92b06fa8dcc8d1113c59d960/expr.ipynb\"><img src=\"../74110d88939e4b23e92b06fa8dcc8d1113c59d960/expr.png\" style=\"display:inline;vertical-align:middle;\" /></a></td></tr>\n",
       "<tr><td>13</td><td>ExprTuple</td><td>20, 27</td><td><a class=\"ProveItLink\" href=\"../95301e35ed52016896e87cc772c1e456675fc5720/expr.ipynb\"><img src=\"../95301e35ed52016896e87cc772c1e456675fc5720/expr.png\" style=\"display:inline;vertical-align:middle;\" /></a></td></tr>\n",
       "<tr><td>14</td><td>Lambda</td><td>parameter:&nbsp;30<br>body:&nbsp;18<br></td><td><a class=\"ProveItLink\" href=\"../106c7251d704c8656ec9161b6c96f10f07ed7a0e0/expr.ipynb\"><img src=\"../106c7251d704c8656ec9161b6c96f10f07ed7a0e0/expr.png\" style=\"display:inline;vertical-align:middle;\" /></a></td></tr>\n",
       "<tr><td>15</td><td>Literal</td><td></td><td><a class=\"ProveItLink\" href=\"../../../../../ordering/__pv_it/common/fa503ed52033522c609eef1cf3e1b45796489da50/expr.ipynb\"><img src=\"../../../../../ordering/__pv_it/common/fa503ed52033522c609eef1cf3e1b45796489da50/expr.png\" style=\"display:inline;vertical-align:middle;\" /></a></td></tr>\n",
       "<tr><td>16</td><td>ExprTuple</td><td>19, 20</td><td><a class=\"ProveItLink\" href=\"../0dab089de41581ba807af51cc0f8887d0b1bb1d20/expr.ipynb\"><img src=\"../0dab089de41581ba807af51cc0f8887d0b1bb1d20/expr.png\" style=\"display:inline;vertical-align:middle;\" /></a></td></tr>\n",
       "<tr><td>17</td><td>ExprRange</td><td>lambda_map:&nbsp;21<br>start_index:&nbsp;22<br>end_index:&nbsp;23<br></td><td><a class=\"ProveItLink\" href=\"../../../../../../core_expr_types/__pv_it/common/e412a64d744f2b57ff9b13d3bf1075e35d4e6ad10/expr.ipynb\"><img src=\"../../../../../../core_expr_types/__pv_it/common/e412a64d744f2b57ff9b13d3bf1075e35d4e6ad10/expr.png\" style=\"display:inline;vertical-align:middle;\" /></a></td></tr>\n",
       "<tr><td>18</td><td>Operation</td><td>operator:&nbsp;24<br>operands:&nbsp;25<br></td><td><a class=\"ProveItLink\" href=\"../beb3de39926f19c6045dd4638f26f5452c32d3f10/expr.ipynb\"><img src=\"../beb3de39926f19c6045dd4638f26f5452c32d3f10/expr.png\" style=\"display:inline;vertical-align:middle;\" /></a></td></tr>\n",
       "<tr><td>19</td><td>Literal</td><td></td><td><a class=\"ProveItLink\" href=\"../../../../__pv_it/common/dd4e19e8b134dfb293470ea55fe3589b0ab9f8040/expr.ipynb\"><img src=\"../../../../__pv_it/common/dd4e19e8b134dfb293470ea55fe3589b0ab9f8040/expr.png\" style=\"display:inline;vertical-align:middle;\" /></a></td></tr>\n",
       "<tr><td>20</td><td>Variable</td><td></td><td><a class=\"ProveItLink\" href=\"../../../../../../__pv_it/common/c06c606ec12678c58933ac85412ecadc2ae28be60/expr.ipynb\"><img src=\"../../../../../../__pv_it/common/c06c606ec12678c58933ac85412ecadc2ae28be60/expr.png\" style=\"display:inline;vertical-align:middle;\" /></a></td></tr>\n",
       "<tr><td>21</td><td>Lambda</td><td>parameter:&nbsp;30<br>body:&nbsp;26<br></td><td><a class=\"ProveItLink\" href=\"../../../../../../core_expr_types/__pv_it/common/d763764ede9c88a33f4b750791da02d1a21cb6820/expr.ipynb\"><img src=\"../../../../../../core_expr_types/__pv_it/common/d763764ede9c88a33f4b750791da02d1a21cb6820/expr.png\" style=\"display:inline;vertical-align:middle;\" /></a></td></tr>\n",
       "<tr><td>22</td><td>Literal</td><td></td><td><a class=\"ProveItLink\" href=\"../../../../__pv_it/common/682157d4892d216d9e5626ed533aff9b56b9506e0/expr.ipynb\"><img src=\"../../../../__pv_it/common/682157d4892d216d9e5626ed533aff9b56b9506e0/expr.png\" style=\"display:inline;vertical-align:middle;\" /></a></td></tr>\n",
       "<tr><td>23</td><td>Variable</td><td></td><td><a class=\"ProveItLink\" href=\"../../../../../../__pv_it/common/8968bb04eb3f7dfa02353397ce929b025bbd79c20/expr.ipynb\"><img src=\"../../../../../../__pv_it/common/8968bb04eb3f7dfa02353397ce929b025bbd79c20/expr.png\" style=\"display:inline;vertical-align:middle;\" /></a></td></tr>\n",
       "<tr><td>24</td><td>Literal</td><td></td><td><a class=\"ProveItLink\" href=\"../../../../../../logic/sets/membership/__pv_it/common/477487d8796864d23d5810f83761435f25167f690/expr.ipynb\"><img src=\"../../../../../../logic/sets/membership/__pv_it/common/477487d8796864d23d5810f83761435f25167f690/expr.png\" style=\"display:inline;vertical-align:middle;\" /></a></td></tr>\n",
       "<tr><td>25</td><td>ExprTuple</td><td>26, 27</td><td><a class=\"ProveItLink\" href=\"../c2389b193115fe6838728041caede8854b5b48ba0/expr.ipynb\"><img src=\"../c2389b193115fe6838728041caede8854b5b48ba0/expr.png\" style=\"display:inline;vertical-align:middle;\" /></a></td></tr>\n",
       "<tr><td>26</td><td>IndexedVar</td><td>variable:&nbsp;28<br>index:&nbsp;30<br></td><td><a class=\"ProveItLink\" href=\"../../../../../../core_expr_types/__pv_it/common/8542342c36565a593724a99f9c08d995c1c21af20/expr.ipynb\"><img src=\"../../../../../../core_expr_types/__pv_it/common/8542342c36565a593724a99f9c08d995c1c21af20/expr.png\" style=\"display:inline;vertical-align:middle;\" /></a></td></tr>\n",
       "<tr><td>27</td><td>Literal</td><td></td><td><a class=\"ProveItLink\" href=\"../../common/dc613b38f2e2437121f05ba71d28bbec8e41bedd0/expr.ipynb\"><img src=\"../../common/dc613b38f2e2437121f05ba71d28bbec8e41bedd0/expr.png\" style=\"display:inline;vertical-align:middle;\" /></a></td></tr>\n",
       "<tr><td>28</td><td>Variable</td><td></td><td><a class=\"ProveItLink\" href=\"../../../../../../__pv_it/common/195236b98c6c564a75b5dbada74b173bc52d5c3e0/expr.ipynb\"><img src=\"../../../../../../__pv_it/common/195236b98c6c564a75b5dbada74b173bc52d5c3e0/expr.png\" style=\"display:inline;vertical-align:middle;\" /></a></td></tr>\n",
       "<tr><td>29</td><td>ExprTuple</td><td>30</td><td><a class=\"ProveItLink\" href=\"../../../../../../core_expr_types/__pv_it/common/4b0dd6be36d76552eda6a95d5b4a27f5a5b62f900/expr.ipynb\"><img src=\"../../../../../../core_expr_types/__pv_it/common/4b0dd6be36d76552eda6a95d5b4a27f5a5b62f900/expr.png\" style=\"display:inline;vertical-align:middle;\" /></a></td></tr>\n",
       "<tr><td>30</td><td>Variable</td><td></td><td><a class=\"ProveItLink\" href=\"../../../../../../core_expr_types/__pv_it/common/006c465e50948aa2b52285e2de47974f741255cc0/expr.ipynb\"><img src=\"../../../../../../core_expr_types/__pv_it/common/006c465e50948aa2b52285e2de47974f741255cc0/expr.png\" style=\"display:inline;vertical-align:middle;\" /></a></td></tr>\n",
       "</table>\n"
      ],
      "text/plain": [
       "0. {#(a ~ b_{1}, b_{2}, ..., b_{n}) in NaturalPos if a in Digits, (b_{1} in Digits) ,  (b_{2} in Digits) ,  ... ,  (b_{n} in Digits) ,  a > 0.\n",
       "   core type: Conditional\n",
       "   value: 1\n",
       "   condition: 2\n",
       "1. #(a ~ b_{1}, b_{2}, ..., b_{n}) in NaturalPos\n",
       "   core type: Operation\n",
       "   operator: 24\n",
       "   operands: 3\n",
       "2. (a in Digits)and (b_{1} in Digits) and  (b_{2} in Digits) and  ... and  (b_{n} in Digits) and (a > 0)\n",
       "   core type: Operation\n",
       "   operator: 4\n",
       "   operands: 5\n",
       "3. (#(a ~ b_{1}, b_{2}, ..., b_{n}), NaturalPos)\n",
       "   core type: ExprTuple\n",
       "   sub-expressions: 6, 7\n",
       "4. and\n",
       "   core type: Literal\n",
       "   sub-expressions: \n",
       "5. (a in Digits,(b_{1} in Digits), (b_{2} in Digits), ..., (b_{n} in Digits), a > 0)\n",
       "   core type: ExprTuple\n",
       "   sub-expressions: 8, 9, 10\n",
       "6. #(a ~ b_{1}, b_{2}, ..., b_{n})\n",
       "   core type: Operation\n",
       "   operator: 11\n",
       "   operands: 12\n",
       "7. NaturalPos\n",
       "   core type: Literal\n",
       "   sub-expressions: \n",
       "8. a in Digits\n",
       "   core type: Operation\n",
       "   operator: 24\n",
       "   operands: 13\n",
       "9. (b_{1} in Digits), (b_{2} in Digits), ..., (b_{n} in Digits)\n",
       "   core type: ExprRange\n",
       "   lambda_map: 14\n",
       "   start_index: 22\n",
       "   end_index: 23\n",
       "10. a > 0\n",
       "    core type: Operation\n",
       "    operator: 15\n",
       "    operands: 16\n",
       "11. Decimal\n",
       "    core type: Literal\n",
       "    sub-expressions: \n",
       "12. (a,b_{1}, b_{2}, ..., b_{n})\n",
       "    core type: ExprTuple\n",
       "    sub-expressions: 20, 17\n",
       "13. (a, Digits)\n",
       "    core type: ExprTuple\n",
       "    sub-expressions: 20, 27\n",
       "14. _a -> (b_{_a} in Digits)\n",
       "    core type: Lambda\n",
       "    parameter: 30\n",
       "    body: 18\n",
       "15. <\n",
       "    core type: Literal\n",
       "    sub-expressions: \n",
       "16. (0, a)\n",
       "    core type: ExprTuple\n",
       "    sub-expressions: 19, 20\n",
       "17. b_{1}, b_{2}, ..., b_{n}\n",
       "    core type: ExprRange\n",
       "    lambda_map: 21\n",
       "    start_index: 22\n",
       "    end_index: 23\n",
       "18. b_{_a} in Digits\n",
       "    core type: Operation\n",
       "    operator: 24\n",
       "    operands: 25\n",
       "19. 0\n",
       "    core type: Literal\n",
       "    sub-expressions: \n",
       "20. a\n",
       "    core type: Variable\n",
       "    sub-expressions: \n",
       "21. _a -> b_{_a}\n",
       "    core type: Lambda\n",
       "    parameter: 30\n",
       "    body: 26\n",
       "22. 1\n",
       "    core type: Literal\n",
       "    sub-expressions: \n",
       "23. n\n",
       "    core type: Variable\n",
       "    sub-expressions: \n",
       "24. in\n",
       "    core type: Literal\n",
       "    sub-expressions: \n",
       "25. (b_{_a}, Digits)\n",
       "    core type: ExprTuple\n",
       "    sub-expressions: 26, 27\n",
       "26. b_{_a}\n",
       "    core type: IndexedVar\n",
       "variable: 28\n",
       "index: 30\n",
       "27. Digits\n",
       "    core type: Literal\n",
       "    sub-expressions: \n",
       "28. b\n",
       "    core type: Variable\n",
       "    sub-expressions: \n",
       "29. (_a)\n",
       "    core type: ExprTuple\n",
       "    sub-expressions: 30\n",
       "30. _a\n",
       "    core type: Variable\n",
       "    sub-expressions: "
      ]
     },
     "metadata": {},
     "output_type": "display_data"
    }
   ],
   "source": [
    "# display the expression information\n",
    "stored_expr.expr_info()"
   ]
  },
  {
   "cell_type": "code",
   "execution_count": null,
   "metadata": {},
   "outputs": [],
   "source": []
  }
 ],
 "metadata": {
  "kernelspec": {
   "display_name": "Python 3",
   "language": "python",
   "name": "python3"
  }
 },
 "nbformat": 4,
 "nbformat_minor": 0
}