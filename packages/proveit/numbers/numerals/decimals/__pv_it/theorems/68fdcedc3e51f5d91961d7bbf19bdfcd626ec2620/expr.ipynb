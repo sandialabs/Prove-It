{
 "cells": [
  {
   "cell_type": "markdown",
   "metadata": {},
   "source": [
    "Expression of type <a class=\"ProveItLink\" href=\"../../../../../../../../doc/html/api/proveit.ExprTuple.html\">ExprTuple</a>\n",
    "=======================\n",
    "# from the theory of <a class=\"ProveItLink\" href=\"../../../_theory_nbs_/theory.ipynb\">proveit.numbers.numerals.decimals</a>"
   ]
  },
  {
   "cell_type": "code",
   "execution_count": 1,
   "metadata": {},
   "outputs": [],
   "source": [
    "import proveit\n",
    "# Automation is not needed when building an expression:\n",
    "proveit.defaults.automation = False # This will speed things up.\n",
    "proveit.defaults.inline_pngs = False # Makes files smaller.\n",
    "%load_expr # Load the stored expression as 'stored_expr'\n",
    "# import Expression classes needed to build the expression\n",
    "from proveit import ExprRange, ExprTuple, IndexedVar, Variable, a, b, c, d, k, m, n\n",
    "from proveit.core_expr_types import b_1_to_n\n",
    "from proveit.logic import Equals, InSet\n",
    "from proveit.numbers import Add, Digits, one"
   ]
  },
  {
   "cell_type": "code",
   "execution_count": 2,
   "metadata": {},
   "outputs": [
    {
     "data": {
      "text/html": [
       "<strong id=\"expr\">expr:</strong> <a class=\"ProveItLink\" href=\"expr.ipynb\"><img src=\"expr.png\" style=\"display:inline;vertical-align:middle;\" /></a><br>"
      ],
      "text/plain": [
       "<IPython.core.display.HTML object>"
      ]
     },
     "metadata": {},
     "output_type": "display_data"
    }
   ],
   "source": [
    "# build up the expression from sub-expressions\n",
    "sub_expr1 = Variable(\"_a\", latex_format = r\"{_{-}a}\")\n",
    "expr = ExprTuple(ExprRange(sub_expr1, InSet(IndexedVar(a, sub_expr1), Digits), one, m), ExprRange(sub_expr1, InSet(IndexedVar(b, sub_expr1), Digits), one, n), InSet(c, Digits), ExprRange(sub_expr1, InSet(IndexedVar(d, sub_expr1), Digits), one, k), Equals(Add(b_1_to_n), c))"
   ]
  },
  {
   "cell_type": "code",
   "execution_count": 3,
   "metadata": {},
   "outputs": [
    {
     "name": "stdout",
     "output_type": "stream",
     "text": [
      "Passed sanity check: expr matches stored_expr\n"
     ]
    }
   ],
   "source": [
    "# check that the built expression is the same as the stored expression\n",
    "assert expr == stored_expr\n",
    "assert expr._style_id == stored_expr._style_id\n",
    "print(\"Passed sanity check: expr matches stored_expr\")"
   ]
  },
  {
   "cell_type": "code",
   "execution_count": 4,
   "metadata": {},
   "outputs": [
    {
     "name": "stdout",
     "output_type": "stream",
     "text": [
      "\\left(\\left(a_{1} \\in \\mathbb{N}^{\\leq 9}\\right), \\left(a_{2} \\in \\mathbb{N}^{\\leq 9}\\right), \\ldots, \\left(a_{m} \\in \\mathbb{N}^{\\leq 9}\\right),\\left(b_{1} \\in \\mathbb{N}^{\\leq 9}\\right), \\left(b_{2} \\in \\mathbb{N}^{\\leq 9}\\right), \\ldots, \\left(b_{n} \\in \\mathbb{N}^{\\leq 9}\\right), c \\in \\mathbb{N}^{\\leq 9},\\left(d_{1} \\in \\mathbb{N}^{\\leq 9}\\right), \\left(d_{2} \\in \\mathbb{N}^{\\leq 9}\\right), \\ldots, \\left(d_{k} \\in \\mathbb{N}^{\\leq 9}\\right), \\left(b_{1} +  b_{2} +  \\ldots +  b_{n}\\right) = c\\right)\n"
     ]
    }
   ],
   "source": [
    "# Show the LaTeX representation of the expression for convenience if you need it.\n",
    "print(stored_expr.latex())"
   ]
  },
  {
   "cell_type": "code",
   "execution_count": 5,
   "metadata": {},
   "outputs": [
    {
     "data": {
      "text/html": [
       "<table>\n",
       "<tr><th>name</th><th>description</th><th>default</th><th>current value</th><th>related methods</th></tr><tr><td>wrap_positions</td><td>position(s) at which wrapping is to occur; 'n' is after the nth comma.</td><td>()</td><td>()</td><td>('with_wrapping_at',)</td></tr>\n",
       "<tr><td>justification</td><td>if any wrap positions are set, justify to the 'left', 'center', or 'right'</td><td>left</td><td>left</td><td>('with_justification',)</td></tr>\n",
       "</table>\n"
      ],
      "text/plain": [
       "style name: wrap_positions\n",
       "description: position(s) at which wrapping is to occur; 'n' is after the nth comma.\n",
       "default: ()\n",
       "current value: ()\n",
       "related methods: ('with_wrapping_at',)\n",
       "style name: justification\n",
       "description: if any wrap positions are set, justify to the 'left', 'center', or 'right'\n",
       "default: left\n",
       "current value: left\n",
       "related methods: ('with_justification',)"
      ]
     },
     "metadata": {},
     "output_type": "display_data"
    }
   ],
   "source": [
    "stored_expr.style_options()"
   ]
  },
  {
   "cell_type": "code",
   "execution_count": 6,
   "metadata": {},
   "outputs": [
    {
     "data": {
      "text/html": [
       "<table><tr><th>&nbsp;</th><th>core type</th><th>sub-expressions</th><th>expression</th></tr>\n",
       "<tr><td>0</td><td>ExprTuple</td><td>1, 2, 3, 4, 5</td><td><a class=\"ProveItLink\" href=\"expr.ipynb\"><img src=\"expr.png\" style=\"display:inline;vertical-align:middle;\" /></a></td></tr>\n",
       "<tr><td>1</td><td>ExprRange</td><td>lambda_map:&nbsp;6<br>start_index:&nbsp;32<br>end_index:&nbsp;7<br></td><td><a class=\"ProveItLink\" href=\"../5d044db090716c674a8f84b14563c3464e8481600/expr.ipynb\"><img src=\"../5d044db090716c674a8f84b14563c3464e8481600/expr.png\" style=\"display:inline;vertical-align:middle;\" /></a></td></tr>\n",
       "<tr><td>2</td><td>ExprRange</td><td>lambda_map:&nbsp;8<br>start_index:&nbsp;32<br>end_index:&nbsp;33<br></td><td><a class=\"ProveItLink\" href=\"../869d57a921df3b7b1cb8804a254be000e675c2250/expr.ipynb\"><img src=\"../869d57a921df3b7b1cb8804a254be000e675c2250/expr.png\" style=\"display:inline;vertical-align:middle;\" /></a></td></tr>\n",
       "<tr><td>3</td><td>Operation</td><td>operator:&nbsp;21<br>operands:&nbsp;9<br></td><td><a class=\"ProveItLink\" href=\"../2324b9edba4aca7cd959511ffbe52ae6b09c4c880/expr.ipynb\"><img src=\"../2324b9edba4aca7cd959511ffbe52ae6b09c4c880/expr.png\" style=\"display:inline;vertical-align:middle;\" /></a></td></tr>\n",
       "<tr><td>4</td><td>ExprRange</td><td>lambda_map:&nbsp;10<br>start_index:&nbsp;32<br>end_index:&nbsp;11<br></td><td><a class=\"ProveItLink\" href=\"../de6e172da03f30fb4da6fd3d50a9cf9cf71a0b810/expr.ipynb\"><img src=\"../de6e172da03f30fb4da6fd3d50a9cf9cf71a0b810/expr.png\" style=\"display:inline;vertical-align:middle;\" /></a></td></tr>\n",
       "<tr><td>5</td><td>Operation</td><td>operator:&nbsp;12<br>operands:&nbsp;13<br></td><td><a class=\"ProveItLink\" href=\"../aaf74891030974649b2ab5ae1f66e1f3494182e50/expr.ipynb\"><img src=\"../aaf74891030974649b2ab5ae1f66e1f3494182e50/expr.png\" style=\"display:inline;vertical-align:middle;\" /></a></td></tr>\n",
       "<tr><td>6</td><td>Lambda</td><td>parameter:&nbsp;37<br>body:&nbsp;14<br></td><td><a class=\"ProveItLink\" href=\"../63aa8dbdcba6d2dd5132693b445a45ff1390ed040/expr.ipynb\"><img src=\"../63aa8dbdcba6d2dd5132693b445a45ff1390ed040/expr.png\" style=\"display:inline;vertical-align:middle;\" /></a></td></tr>\n",
       "<tr><td>7</td><td>Variable</td><td></td><td><a class=\"ProveItLink\" href=\"../../../../../../__pv_it/common/674a03b9c3ca221b3aabd5636837b31528ff33830/expr.ipynb\"><img src=\"../../../../../../__pv_it/common/674a03b9c3ca221b3aabd5636837b31528ff33830/expr.png\" style=\"display:inline;vertical-align:middle;\" /></a></td></tr>\n",
       "<tr><td>8</td><td>Lambda</td><td>parameter:&nbsp;37<br>body:&nbsp;15<br></td><td><a class=\"ProveItLink\" href=\"../106c7251d704c8656ec9161b6c96f10f07ed7a0e0/expr.ipynb\"><img src=\"../106c7251d704c8656ec9161b6c96f10f07ed7a0e0/expr.png\" style=\"display:inline;vertical-align:middle;\" /></a></td></tr>\n",
       "<tr><td>9</td><td>ExprTuple</td><td>18, 27</td><td><a class=\"ProveItLink\" href=\"../410cf7f29cb8e5d77ef2bf62b5f50168ee9c6ce00/expr.ipynb\"><img src=\"../410cf7f29cb8e5d77ef2bf62b5f50168ee9c6ce00/expr.png\" style=\"display:inline;vertical-align:middle;\" /></a></td></tr>\n",
       "<tr><td>10</td><td>Lambda</td><td>parameter:&nbsp;37<br>body:&nbsp;16<br></td><td><a class=\"ProveItLink\" href=\"../4975e9567d2769022c9074fb5ac31a59bc171fb70/expr.ipynb\"><img src=\"../4975e9567d2769022c9074fb5ac31a59bc171fb70/expr.png\" style=\"display:inline;vertical-align:middle;\" /></a></td></tr>\n",
       "<tr><td>11</td><td>Variable</td><td></td><td><a class=\"ProveItLink\" href=\"../../../../../../__pv_it/common/63b7c64bf9ec7a04ecc396c7a1670f3f12fb59490/expr.ipynb\"><img src=\"../../../../../../__pv_it/common/63b7c64bf9ec7a04ecc396c7a1670f3f12fb59490/expr.png\" style=\"display:inline;vertical-align:middle;\" /></a></td></tr>\n",
       "<tr><td>12</td><td>Literal</td><td></td><td><a class=\"ProveItLink\" href=\"../../../../../../logic/equality/__pv_it/common/fb96dc12b2aa8801dda64d0132b396c63d1502bb0/expr.ipynb\"><img src=\"../../../../../../logic/equality/__pv_it/common/fb96dc12b2aa8801dda64d0132b396c63d1502bb0/expr.png\" style=\"display:inline;vertical-align:middle;\" /></a></td></tr>\n",
       "<tr><td>13</td><td>ExprTuple</td><td>17, 18</td><td><a class=\"ProveItLink\" href=\"../927c8b33e4e1552bdb2f3f52e7a9b47cad8885380/expr.ipynb\"><img src=\"../927c8b33e4e1552bdb2f3f52e7a9b47cad8885380/expr.png\" style=\"display:inline;vertical-align:middle;\" /></a></td></tr>\n",
       "<tr><td>14</td><td>Operation</td><td>operator:&nbsp;21<br>operands:&nbsp;19<br></td><td><a class=\"ProveItLink\" href=\"../65f1c07dc4e3964ee224ee66580f4da3745560910/expr.ipynb\"><img src=\"../65f1c07dc4e3964ee224ee66580f4da3745560910/expr.png\" style=\"display:inline;vertical-align:middle;\" /></a></td></tr>\n",
       "<tr><td>15</td><td>Operation</td><td>operator:&nbsp;21<br>operands:&nbsp;20<br></td><td><a class=\"ProveItLink\" href=\"../beb3de39926f19c6045dd4638f26f5452c32d3f10/expr.ipynb\"><img src=\"../beb3de39926f19c6045dd4638f26f5452c32d3f10/expr.png\" style=\"display:inline;vertical-align:middle;\" /></a></td></tr>\n",
       "<tr><td>16</td><td>Operation</td><td>operator:&nbsp;21<br>operands:&nbsp;22<br></td><td><a class=\"ProveItLink\" href=\"../e2bceb54f1515c7a22152b35014185d59477e0570/expr.ipynb\"><img src=\"../e2bceb54f1515c7a22152b35014185d59477e0570/expr.png\" style=\"display:inline;vertical-align:middle;\" /></a></td></tr>\n",
       "<tr><td>17</td><td>Operation</td><td>operator:&nbsp;23<br>operands:&nbsp;24<br></td><td><a class=\"ProveItLink\" href=\"../21675d20a2155d803d462252a7be2b80e87685ce0/expr.ipynb\"><img src=\"../21675d20a2155d803d462252a7be2b80e87685ce0/expr.png\" style=\"display:inline;vertical-align:middle;\" /></a></td></tr>\n",
       "<tr><td>18</td><td>Variable</td><td></td><td><a class=\"ProveItLink\" href=\"../../../../../../__pv_it/common/ceef4280a2f1cc604b455b54e735507244cc62cd0/expr.ipynb\"><img src=\"../../../../../../__pv_it/common/ceef4280a2f1cc604b455b54e735507244cc62cd0/expr.png\" style=\"display:inline;vertical-align:middle;\" /></a></td></tr>\n",
       "<tr><td>19</td><td>ExprTuple</td><td>25, 27</td><td><a class=\"ProveItLink\" href=\"../a4bdc0cebb24f36185b5246cf56e5b25f033046c0/expr.ipynb\"><img src=\"../a4bdc0cebb24f36185b5246cf56e5b25f033046c0/expr.png\" style=\"display:inline;vertical-align:middle;\" /></a></td></tr>\n",
       "<tr><td>20</td><td>ExprTuple</td><td>34, 27</td><td><a class=\"ProveItLink\" href=\"../c2389b193115fe6838728041caede8854b5b48ba0/expr.ipynb\"><img src=\"../c2389b193115fe6838728041caede8854b5b48ba0/expr.png\" style=\"display:inline;vertical-align:middle;\" /></a></td></tr>\n",
       "<tr><td>21</td><td>Literal</td><td></td><td><a class=\"ProveItLink\" href=\"../../../../../../logic/sets/membership/__pv_it/common/477487d8796864d23d5810f83761435f25167f690/expr.ipynb\"><img src=\"../../../../../../logic/sets/membership/__pv_it/common/477487d8796864d23d5810f83761435f25167f690/expr.png\" style=\"display:inline;vertical-align:middle;\" /></a></td></tr>\n",
       "<tr><td>22</td><td>ExprTuple</td><td>26, 27</td><td><a class=\"ProveItLink\" href=\"../c37d7c7744427fc23cd2bb259c69b85f6c9d81480/expr.ipynb\"><img src=\"../c37d7c7744427fc23cd2bb259c69b85f6c9d81480/expr.png\" style=\"display:inline;vertical-align:middle;\" /></a></td></tr>\n",
       "<tr><td>23</td><td>Literal</td><td></td><td><a class=\"ProveItLink\" href=\"../../../../../addition/__pv_it/common/4b7effaab3619a1c2c38fe2dee8601df8ec714590/expr.ipynb\"><img src=\"../../../../../addition/__pv_it/common/4b7effaab3619a1c2c38fe2dee8601df8ec714590/expr.png\" style=\"display:inline;vertical-align:middle;\" /></a></td></tr>\n",
       "<tr><td>24</td><td>ExprTuple</td><td>28</td><td><a class=\"ProveItLink\" href=\"../09ea756984994d26005093a041681646db233bf80/expr.ipynb\"><img src=\"../09ea756984994d26005093a041681646db233bf80/expr.png\" style=\"display:inline;vertical-align:middle;\" /></a></td></tr>\n",
       "<tr><td>25</td><td>IndexedVar</td><td>variable:&nbsp;29<br>index:&nbsp;37<br></td><td><a class=\"ProveItLink\" href=\"../../../../../../core_expr_types/__pv_it/common/3a62c13e156d62d52fe585fa37cc2172fcf685260/expr.ipynb\"><img src=\"../../../../../../core_expr_types/__pv_it/common/3a62c13e156d62d52fe585fa37cc2172fcf685260/expr.png\" style=\"display:inline;vertical-align:middle;\" /></a></td></tr>\n",
       "<tr><td>26</td><td>IndexedVar</td><td>variable:&nbsp;30<br>index:&nbsp;37<br></td><td><a class=\"ProveItLink\" href=\"../5b722e3e3345d439516029ba27da8928d6e1fad80/expr.ipynb\"><img src=\"../5b722e3e3345d439516029ba27da8928d6e1fad80/expr.png\" style=\"display:inline;vertical-align:middle;\" /></a></td></tr>\n",
       "<tr><td>27</td><td>Literal</td><td></td><td><a class=\"ProveItLink\" href=\"../../common/dc613b38f2e2437121f05ba71d28bbec8e41bedd0/expr.ipynb\"><img src=\"../../common/dc613b38f2e2437121f05ba71d28bbec8e41bedd0/expr.png\" style=\"display:inline;vertical-align:middle;\" /></a></td></tr>\n",
       "<tr><td>28</td><td>ExprRange</td><td>lambda_map:&nbsp;31<br>start_index:&nbsp;32<br>end_index:&nbsp;33<br></td><td><a class=\"ProveItLink\" href=\"../../../../../../core_expr_types/__pv_it/common/e412a64d744f2b57ff9b13d3bf1075e35d4e6ad10/expr.ipynb\"><img src=\"../../../../../../core_expr_types/__pv_it/common/e412a64d744f2b57ff9b13d3bf1075e35d4e6ad10/expr.png\" style=\"display:inline;vertical-align:middle;\" /></a></td></tr>\n",
       "<tr><td>29</td><td>Variable</td><td></td><td><a class=\"ProveItLink\" href=\"../../../../../../__pv_it/common/c06c606ec12678c58933ac85412ecadc2ae28be60/expr.ipynb\"><img src=\"../../../../../../__pv_it/common/c06c606ec12678c58933ac85412ecadc2ae28be60/expr.png\" style=\"display:inline;vertical-align:middle;\" /></a></td></tr>\n",
       "<tr><td>30</td><td>Variable</td><td></td><td><a class=\"ProveItLink\" href=\"../../../../../../__pv_it/common/4f5c524ffda87296de1c79b96880123fe2efedd50/expr.ipynb\"><img src=\"../../../../../../__pv_it/common/4f5c524ffda87296de1c79b96880123fe2efedd50/expr.png\" style=\"display:inline;vertical-align:middle;\" /></a></td></tr>\n",
       "<tr><td>31</td><td>Lambda</td><td>parameter:&nbsp;37<br>body:&nbsp;34<br></td><td><a class=\"ProveItLink\" href=\"../../../../../../core_expr_types/__pv_it/common/d763764ede9c88a33f4b750791da02d1a21cb6820/expr.ipynb\"><img src=\"../../../../../../core_expr_types/__pv_it/common/d763764ede9c88a33f4b750791da02d1a21cb6820/expr.png\" style=\"display:inline;vertical-align:middle;\" /></a></td></tr>\n",
       "<tr><td>32</td><td>Literal</td><td></td><td><a class=\"ProveItLink\" href=\"../../../../__pv_it/common/682157d4892d216d9e5626ed533aff9b56b9506e0/expr.ipynb\"><img src=\"../../../../__pv_it/common/682157d4892d216d9e5626ed533aff9b56b9506e0/expr.png\" style=\"display:inline;vertical-align:middle;\" /></a></td></tr>\n",
       "<tr><td>33</td><td>Variable</td><td></td><td><a class=\"ProveItLink\" href=\"../../../../../../__pv_it/common/8968bb04eb3f7dfa02353397ce929b025bbd79c20/expr.ipynb\"><img src=\"../../../../../../__pv_it/common/8968bb04eb3f7dfa02353397ce929b025bbd79c20/expr.png\" style=\"display:inline;vertical-align:middle;\" /></a></td></tr>\n",
       "<tr><td>34</td><td>IndexedVar</td><td>variable:&nbsp;35<br>index:&nbsp;37<br></td><td><a class=\"ProveItLink\" href=\"../../../../../../core_expr_types/__pv_it/common/8542342c36565a593724a99f9c08d995c1c21af20/expr.ipynb\"><img src=\"../../../../../../core_expr_types/__pv_it/common/8542342c36565a593724a99f9c08d995c1c21af20/expr.png\" style=\"display:inline;vertical-align:middle;\" /></a></td></tr>\n",
       "<tr><td>35</td><td>Variable</td><td></td><td><a class=\"ProveItLink\" href=\"../../../../../../__pv_it/common/195236b98c6c564a75b5dbada74b173bc52d5c3e0/expr.ipynb\"><img src=\"../../../../../../__pv_it/common/195236b98c6c564a75b5dbada74b173bc52d5c3e0/expr.png\" style=\"display:inline;vertical-align:middle;\" /></a></td></tr>\n",
       "<tr><td>36</td><td>ExprTuple</td><td>37</td><td><a class=\"ProveItLink\" href=\"../../../../../../core_expr_types/__pv_it/common/4b0dd6be36d76552eda6a95d5b4a27f5a5b62f900/expr.ipynb\"><img src=\"../../../../../../core_expr_types/__pv_it/common/4b0dd6be36d76552eda6a95d5b4a27f5a5b62f900/expr.png\" style=\"display:inline;vertical-align:middle;\" /></a></td></tr>\n",
       "<tr><td>37</td><td>Variable</td><td></td><td><a class=\"ProveItLink\" href=\"../../../../../../core_expr_types/__pv_it/common/006c465e50948aa2b52285e2de47974f741255cc0/expr.ipynb\"><img src=\"../../../../../../core_expr_types/__pv_it/common/006c465e50948aa2b52285e2de47974f741255cc0/expr.png\" style=\"display:inline;vertical-align:middle;\" /></a></td></tr>\n",
       "</table>\n"
      ],
      "text/plain": [
       "0. ((a_{1} in Digits), (a_{2} in Digits), ..., (a_{m} in Digits),(b_{1} in Digits), (b_{2} in Digits), ..., (b_{n} in Digits), c in Digits,(d_{1} in Digits), (d_{2} in Digits), ..., (d_{k} in Digits), (b_{1} +  b_{2} +  ... +  b_{n}) = c)\n",
       "   core type: ExprTuple\n",
       "   sub-expressions: 1, 2, 3, 4, 5\n",
       "1. (a_{1} in Digits), (a_{2} in Digits), ..., (a_{m} in Digits)\n",
       "   core type: ExprRange\n",
       "   lambda_map: 6\n",
       "   start_index: 32\n",
       "   end_index: 7\n",
       "2. (b_{1} in Digits), (b_{2} in Digits), ..., (b_{n} in Digits)\n",
       "   core type: ExprRange\n",
       "   lambda_map: 8\n",
       "   start_index: 32\n",
       "   end_index: 33\n",
       "3. c in Digits\n",
       "   core type: Operation\n",
       "   operator: 21\n",
       "   operands: 9\n",
       "4. (d_{1} in Digits), (d_{2} in Digits), ..., (d_{k} in Digits)\n",
       "   core type: ExprRange\n",
       "   lambda_map: 10\n",
       "   start_index: 32\n",
       "   end_index: 11\n",
       "5. (b_{1} +  b_{2} +  ... +  b_{n}) = c\n",
       "   core type: Operation\n",
       "   operator: 12\n",
       "   operands: 13\n",
       "6. _a -> (a_{_a} in Digits)\n",
       "   core type: Lambda\n",
       "   parameter: 37\n",
       "   body: 14\n",
       "7. m\n",
       "   core type: Variable\n",
       "   sub-expressions: \n",
       "8. _a -> (b_{_a} in Digits)\n",
       "   core type: Lambda\n",
       "   parameter: 37\n",
       "   body: 15\n",
       "9. (c, Digits)\n",
       "   core type: ExprTuple\n",
       "   sub-expressions: 18, 27\n",
       "10. _a -> (d_{_a} in Digits)\n",
       "    core type: Lambda\n",
       "    parameter: 37\n",
       "    body: 16\n",
       "11. k\n",
       "    core type: Variable\n",
       "    sub-expressions: \n",
       "12. =\n",
       "    core type: Literal\n",
       "    sub-expressions: \n",
       "13. (b_{1} +  b_{2} +  ... +  b_{n}, c)\n",
       "    core type: ExprTuple\n",
       "    sub-expressions: 17, 18\n",
       "14. a_{_a} in Digits\n",
       "    core type: Operation\n",
       "    operator: 21\n",
       "    operands: 19\n",
       "15. b_{_a} in Digits\n",
       "    core type: Operation\n",
       "    operator: 21\n",
       "    operands: 20\n",
       "16. d_{_a} in Digits\n",
       "    core type: Operation\n",
       "    operator: 21\n",
       "    operands: 22\n",
       "17. b_{1} +  b_{2} +  ... +  b_{n}\n",
       "    core type: Operation\n",
       "    operator: 23\n",
       "    operands: 24\n",
       "18. c\n",
       "    core type: Variable\n",
       "    sub-expressions: \n",
       "19. (a_{_a}, Digits)\n",
       "    core type: ExprTuple\n",
       "    sub-expressions: 25, 27\n",
       "20. (b_{_a}, Digits)\n",
       "    core type: ExprTuple\n",
       "    sub-expressions: 34, 27\n",
       "21. in\n",
       "    core type: Literal\n",
       "    sub-expressions: \n",
       "22. (d_{_a}, Digits)\n",
       "    core type: ExprTuple\n",
       "    sub-expressions: 26, 27\n",
       "23. +\n",
       "    core type: Literal\n",
       "    sub-expressions: \n",
       "24. (b_{1}, b_{2}, ..., b_{n})\n",
       "    core type: ExprTuple\n",
       "    sub-expressions: 28\n",
       "25. a_{_a}\n",
       "    core type: IndexedVar\n",
       "variable: 29\n",
       "index: 37\n",
       "26. d_{_a}\n",
       "    core type: IndexedVar\n",
       "variable: 30\n",
       "index: 37\n",
       "27. Digits\n",
       "    core type: Literal\n",
       "    sub-expressions: \n",
       "28. b_{1}, b_{2}, ..., b_{n}\n",
       "    core type: ExprRange\n",
       "    lambda_map: 31\n",
       "    start_index: 32\n",
       "    end_index: 33\n",
       "29. a\n",
       "    core type: Variable\n",
       "    sub-expressions: \n",
       "30. d\n",
       "    core type: Variable\n",
       "    sub-expressions: \n",
       "31. _a -> b_{_a}\n",
       "    core type: Lambda\n",
       "    parameter: 37\n",
       "    body: 34\n",
       "32. 1\n",
       "    core type: Literal\n",
       "    sub-expressions: \n",
       "33. n\n",
       "    core type: Variable\n",
       "    sub-expressions: \n",
       "34. b_{_a}\n",
       "    core type: IndexedVar\n",
       "variable: 35\n",
       "index: 37\n",
       "35. b\n",
       "    core type: Variable\n",
       "    sub-expressions: \n",
       "36. (_a)\n",
       "    core type: ExprTuple\n",
       "    sub-expressions: 37\n",
       "37. _a\n",
       "    core type: Variable\n",
       "    sub-expressions: "
      ]
     },
     "metadata": {},
     "output_type": "display_data"
    }
   ],
   "source": [
    "# display the expression information\n",
    "stored_expr.expr_info()"
   ]
  },
  {
   "cell_type": "code",
   "execution_count": null,
   "metadata": {},
   "outputs": [],
   "source": []
  }
 ],
 "metadata": {
  "kernelspec": {
   "display_name": "Python 3",
   "language": "python",
   "name": "python3"
  }
 },
 "nbformat": 4,
 "nbformat_minor": 0
}