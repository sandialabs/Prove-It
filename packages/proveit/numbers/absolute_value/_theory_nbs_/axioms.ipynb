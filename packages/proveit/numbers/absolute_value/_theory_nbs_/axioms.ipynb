{
 "cells": [
  {
   "cell_type": "markdown",
   "metadata": {},
   "source": [
    "Axioms for the theory of <a class=\"ProveItLink\" href=\"theory.ipynb\">proveit.numbers.absolute_value</a>\n",
    "========"
   ]
  },
  {
   "cell_type": "code",
   "execution_count": 1,
   "metadata": {},
   "outputs": [],
   "source": [
    "import proveit\n",
    "# Prepare this notebook for defining the axioms of a theory:\n",
    "%axioms_notebook # Keep this at the top following 'import proveit'.\n",
    "from proveit import x\n",
    "from proveit.logic import Equals, Forall\n",
    "from proveit.numbers import two, Abs, Exp, Real, sqrt"
   ]
  },
  {
   "cell_type": "code",
   "execution_count": 2,
   "metadata": {},
   "outputs": [
    {
     "name": "stdout",
     "output_type": "stream",
     "text": [
      "Defining axioms for theory 'proveit.numbers.absolute_value'\n",
      "Subsequent end-of-cell assignments will define axioms\n",
      "%end_axioms will finalize the definitions\n"
     ]
    }
   ],
   "source": [
    "%begin axioms"
   ]
  },
  {
   "cell_type": "code",
   "execution_count": 3,
   "metadata": {},
   "outputs": [
    {
     "data": {
      "text/html": [
       "<strong id=\"abs_val_def_sqrt\">abs_val_def_sqrt:</strong> <a class=\"ProveItLink\" href=\"../__pv_it/axioms/777c422b3a3490e31b5f77bf7af2bebec03f11f80/axiom_expr.ipynb\"><img src=\"data:image/png;base64,iVBORw0KGgoAAAANSUhEUgAAALgAAAAmBAMAAACFcUzHAAAAMFBMVEX///8AAAAAAAAAAAAAAAAA\n",
       "AAAAAAAAAAAAAAAAAAAAAAAAAAAAAAAAAAAAAAAAAAAv3aB7AAAAD3RSTlMAq1RmmUTNIjK7EInv\n",
       "3XZ/CtNrAAAACXBIWXMAAA7EAAAOxAGVKw4bAAADRElEQVRIx6WXX0gUQRzHv3p7t3e3d2s+FAQR\n",
       "C0EQEfoQPkTklf2jDA6DXoI88CHqITaI6sHI3qKSjnrIU7B7kEjKugQNEuKKIiiCq9c4OKFMfBAx\n",
       "RTHQ5u/qdbfOsg6MNzv7m8/OfH+/38wIKMoh+CrRix6MtE3+4OjOqm2afLIRUM8q/NkvHA+UFqGc\n",
       "F07NSmXBc6UuDVkv8Fv+vPXDkwI91Tr1BZXkS17Y4XTV7j6VmHSYLZ9sN6uu1ZfRsfqsaO9XwOsa\n",
       "yZ8R+TTiYnWVVNMSSkMr4Bxr3rTAZN/hMuy+7QW+mdTdcjpJfREmnRPiCRyhv+ddhjXDA1xPETVS\n",
       "MneyBA6W+1qKhZGedoFv8QLXiCJao/NoFIC9tGHOIEQi2bBc4O+8wJ+QGivfVGI0PWoXESDfDLk5\n",
       "9K8X+DCpO1dF6qWJTRcSngW+Fotf3OB/BPPF+NMxywUeJTLgJKTRFVwjUtAwiZLRx4FeF7Y+K+AJ\n",
       "czuJMAY/VaTlG+fS1bPQ6IAw0ntunyBuZf5dBi5DX7sL7Bk9eMlJPQEP2IGlmsbKmd9L0Iijre8Q\n",
       "RrGVlRkid16IGskaSQkbzyRNA6/lVhic5/AwDatKzWt3EQ6mafMjpBEH0ReYIyYlx5+HSR6bJvaV\n",
       "/ps5cX+pmkOD1CcFARdG/EVewJE6QL9/7KfN1CPwqUQFvN0m+lZojiJRIydkEUZ8TQWhOYZJPpn2\n",
       "1pA1yELf0PtlRugiWgaT22BUC8XmJOKM1w9pxPM0LWOtk/gzgP4wTjO41ufka3SZwxvutKKtGrwu\n",
       "LTaVV5BGPGlzMtbYjgmytTdlMhnLNI02Z/AHDh+Yrm2xqsG1Bb6NoBvSiJU4DZHwvOPfvI67bOZm\n",
       "8Kxztl1QZKg+F+T+iXeV9d9gwsuTptNIaSQomeZ4Ix2KVlX6Pw7xgyGQKOtukTsYX9+vt1PQ6Vl4\n",
       "ZiI3cNRxWFYBb68XjUdlC2Jei5Sf0M8ymWRZx0tLAY/LU3hwbW/Edo6xdUqErnZSPk2uc6/SS2t6\n",
       "f/NV2Yo7WR7+y6jqrjq/Afj7jX59nWIqVx3r8g2PWcqLcMo3fEJt0uGXrX9S2wzZPuFDlocJXPQJ\n",
       "f+jF6LrPf7hoqv8Dmx3tzDvWk4oAAAAASUVORK5CYII=\n",
       "\" style=\"display:inline;vertical-align:middle;\" /></a><br>"
      ],
      "text/plain": [
       "<IPython.core.display.HTML object>"
      ]
     },
     "metadata": {},
     "output_type": "display_data"
    }
   ],
   "source": [
    "# this axiom might be shifted to theorems once we have\n",
    "# the Conditional class to use for a piece-wise definition\n",
    "abs_val_def_sqrt = Forall(\n",
    "    x,\n",
    "    Equals(Abs(x), sqrt(Exp(x, two))),\n",
    "    domain = Real)"
   ]
  },
  {
   "cell_type": "code",
   "execution_count": 4,
   "metadata": {},
   "outputs": [
    {
     "name": "stdout",
     "output_type": "stream",
     "text": [
      "These axioms may now be imported from the theory package: proveit.numbers.absolute_value\n"
     ]
    }
   ],
   "source": [
    "%end axioms"
   ]
  }
 ],
 "metadata": {
  "kernelspec": {
   "display_name": "Python 3",
   "language": "python",
   "name": "python3"
  }
 },
 "nbformat": 4,
 "nbformat_minor": 0
}