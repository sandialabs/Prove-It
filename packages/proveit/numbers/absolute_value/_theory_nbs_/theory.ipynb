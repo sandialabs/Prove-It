{
 "cells": [
  {
   "cell_type": "markdown",
   "metadata": {},
   "source": [
    "Theory of <a class=\"ProveItLink\" href=\"../../../_theory_nbs_/theory.ipynb\">proveit</a>.<a class=\"ProveItLink\" href=\"../../_theory_nbs_/theory.ipynb\">numbers</a>.absolute_value\n",
    "========\n",
    "\n",
    "Provide description here."
   ]
  },
  {
   "cell_type": "code",
   "execution_count": 1,
   "metadata": {},
   "outputs": [
    {
     "data": {
      "text/html": [
       "<h3>Local content of this theory</h3>"
      ],
      "text/plain": [
       "<IPython.core.display.HTML object>"
      ]
     },
     "metadata": {},
     "output_type": "display_data"
    },
    {
     "data": {
      "text/html": [
       "<table><tr>\n",
       "<th><a class=\"ProveItLink\" href=\"common.ipynb\">common expressions</a></th>\n",
       "<th><a class=\"ProveItLink\" href=\"axioms.ipynb\">axioms</a></th>\n",
       "<th><a class=\"ProveItLink\" href=\"theorems.ipynb\">theorems</a></th>\n",
       "<th><a class=\"ProveItLink\" href=\"demonstrations.ipynb\">demonstrations</a></th>\n",
       "</tr></table>\n",
       "<h3>Sub-theories</h3>\n"
      ],
      "text/plain": [
       "<IPython.core.display.HTML object>"
      ]
     },
     "metadata": {},
     "output_type": "display_data"
    },
    {
     "data": {
      "text/html": [
       "<h3>All axioms contained within this theory</h3>"
      ],
      "text/plain": [
       "<IPython.core.display.HTML object>"
      ]
     },
     "metadata": {},
     "output_type": "display_data"
    },
    {
     "data": {
      "text/html": [
       "<dt><a class=\"ProveItLink\" href=\"axioms.ipynb#abs_val_def_sqrt\">proveit.numbers.absolute_value.abs_val_def_sqrt</a></dt><dd><a class=\"ProveItLink\" href=\"../__pv_it/axioms/183fe76d857d11096c0fef8577619b02def67a260/expr.ipynb\"><img src=\"data:image/png;base64,iVBORw0KGgoAAAANSUhEUgAAALgAAAAmBAMAAACFcUzHAAAAMFBMVEX///8AAAAAAAAAAAAAAAAA\n",
       "AAAAAAAAAAAAAAAAAAAAAAAAAAAAAAAAAAAAAAAAAAAv3aB7AAAAD3RSTlMAq1RmmUTNIjK7EInv\n",
       "3XZ/CtNrAAAACXBIWXMAAA7EAAAOxAGVKw4bAAADRElEQVRIx6WXX0gUQRzHv3p7t3e3d2s+FAQR\n",
       "C0EQEfoQPkTklf2jDA6DXoI88CHqITaI6sHI3qKSjnrIU7B7kEjKugQNEuKKIiiCq9c4OKFMfBAx\n",
       "RTHQ5u/qdbfOsg6MNzv7m8/OfH+/38wIKMoh+CrRix6MtE3+4OjOqm2afLIRUM8q/NkvHA+UFqGc\n",
       "F07NSmXBc6UuDVkv8Fv+vPXDkwI91Tr1BZXkS17Y4XTV7j6VmHSYLZ9sN6uu1ZfRsfqsaO9XwOsa\n",
       "yZ8R+TTiYnWVVNMSSkMr4Bxr3rTAZN/hMuy+7QW+mdTdcjpJfREmnRPiCRyhv+ddhjXDA1xPETVS\n",
       "MneyBA6W+1qKhZGedoFv8QLXiCJao/NoFIC9tGHOIEQi2bBc4O+8wJ+QGivfVGI0PWoXESDfDLk5\n",
       "9K8X+DCpO1dF6qWJTRcSngW+Fotf3OB/BPPF+NMxywUeJTLgJKTRFVwjUtAwiZLRx4FeF7Y+K+AJ\n",
       "czuJMAY/VaTlG+fS1bPQ6IAw0ntunyBuZf5dBi5DX7sL7Bk9eMlJPQEP2IGlmsbKmd9L0Iijre8Q\n",
       "RrGVlRkid16IGskaSQkbzyRNA6/lVhic5/AwDatKzWt3EQ6mafMjpBEH0ReYIyYlx5+HSR6bJvaV\n",
       "/ps5cX+pmkOD1CcFARdG/EVewJE6QL9/7KfN1CPwqUQFvN0m+lZojiJRIydkEUZ8TQWhOYZJPpn2\n",
       "1pA1yELf0PtlRugiWgaT22BUC8XmJOKM1w9pxPM0LWOtk/gzgP4wTjO41ufka3SZwxvutKKtGrwu\n",
       "LTaVV5BGPGlzMtbYjgmytTdlMhnLNI02Z/AHDh+Yrm2xqsG1Bb6NoBvSiJU4DZHwvOPfvI67bOZm\n",
       "8Kxztl1QZKg+F+T+iXeV9d9gwsuTptNIaSQomeZ4Ix2KVlX6Pw7xgyGQKOtukTsYX9+vt1PQ6Vl4\n",
       "ZiI3cNRxWFYBb68XjUdlC2Jei5Sf0M8ymWRZx0tLAY/LU3hwbW/Edo6xdUqErnZSPk2uc6/SS2t6\n",
       "f/NV2Yo7WR7+y6jqrjq/Afj7jX59nWIqVx3r8g2PWcqLcMo3fEJt0uGXrX9S2wzZPuFDlocJXPQJ\n",
       "f+jF6LrPf7hoqv8Dmx3tzDvWk4oAAAAASUVORK5CYII=\n",
       "\" style=\"display:inline;vertical-align:middle;\" /></a></dd>"
      ],
      "text/plain": [
       "<IPython.core.display.HTML object>"
      ]
     },
     "metadata": {},
     "output_type": "display_data"
    }
   ],
   "source": [
    "import proveit\n",
    "%theory # toggles between interactive and static modes"
   ]
  }
 ],
 "metadata": {
  "kernelspec": {
   "display_name": "Python 3",
   "language": "python",
   "name": "python3"
  }
 },
 "nbformat": 4,
 "nbformat_minor": 0
}