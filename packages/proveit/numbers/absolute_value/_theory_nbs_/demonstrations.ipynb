{
 "cells": [
  {
   "cell_type": "markdown",
   "metadata": {},
   "source": [
    "Demonstrations for the theory of <a class=\"ProveItLink\" href=\"theory.ipynb\">proveit.numbers.absolute_value</a>\n",
    "========"
   ]
  },
  {
   "cell_type": "code",
   "execution_count": 1,
   "metadata": {},
   "outputs": [],
   "source": [
    "import proveit\n",
    "from proveit import ExprRange, IndexedVar, used_vars, free_vars\n",
    "from proveit import a, b, c, k, n, r, x, y, theta\n",
    "from proveit.core_expr_types import x_1_to_n\n",
    "from proveit.logic import And, Equals, InSet, NotEquals\n",
    "from proveit.numbers import zero, one, two, three, e, i, pi\n",
    "from proveit.numbers import (Abs, Add, frac, Exp, greater,\n",
    "                            greater_eq, Less, LessEq, Mult, Neg)\n",
    "from proveit.numbers import (Complex, Integer, Natural, NaturalPos,\n",
    "                            Real, RealPos, RealNeg, RealNonNeg, RealNonPos)\n",
    "from proveit.numbers.absolute_value  import abs_val_def_sqrt\n",
    "%begin demonstrations"
   ]
  },
  {
   "cell_type": "markdown",
   "metadata": {},
   "source": [
    "# Absolute Value (and norm) $|a|$"
   ]
  },
  {
   "cell_type": "markdown",
   "metadata": {},
   "source": [
    "<div style=\"line-height:1.4; font-size:14pt\">\n",
    "\n",
    "<a href='#introduction'>Introduction</a><br>\n",
    "<a href='#simple_expressions'>Simple Expressions Involving Absolute Value $|a|$</a><br>\n",
    "<a href='#common_attributes'>Common Attributes of an Absolute Value Expression</a><br>\n",
    "<a href='#axioms'>Axioms</a><br>\n",
    "<a href='#theorems'>Theorems</a><br>\n",
    "<a href='#further_demonstrations'>Further Demonstrations</a><br>\n",
    "    <ol>\n",
    "        <li><a href='#demo01'>Simplifying $|x+1|$ and Deducing Number Sets</a></li>\n",
    "        <li><a href='#demo02'>Simplifying $|a+b+2+3|$ and Deducing Number Sets</a></li>\n",
    "        <li><a href='#demo03'>Simplifying $1 + |x+1|$</a></li>\n",
    "    </ol>\n",
    "<a href='#misc_testing'>Misc Testing (temporary)</a><br>\n",
    "</div>\n"
   ]
  },
  {
   "cell_type": "markdown",
   "metadata": {},
   "source": [
    "## Introduction <a id='introduction'></a>"
   ]
  },
  {
   "cell_type": "markdown",
   "metadata": {},
   "source": [
    "<font size=3>The concept of the absolute value of a real number, and its generalization to the norm if a complex number, is ubiquitous in mathematics and often serves a key role in various proofs. The absolute value of a real number $x$, or the norm of a complex number $x$, is captured with the operation `Abs(x)`, along with a standard axiomatic definition and a variety of related theorems.</font>"
   ]
  },
  {
   "cell_type": "markdown",
   "metadata": {},
   "source": [
    "## Simple Expressions Involving Absolute Value $|a|$ <a id='simple_expressions'></a>"
   ]
  },
  {
   "cell_type": "markdown",
   "metadata": {},
   "source": [
    "<font size=3>It is straightforward to construct absolute value expressions. Here are some basic examples of such expressions:</font>"
   ]
  },
  {
   "cell_type": "code",
   "execution_count": 2,
   "metadata": {},
   "outputs": [
    {
     "data": {
      "text/html": [
       "<strong id=\"abs_value_a\">abs_value_a:</strong> <a class=\"ProveItLink\" href=\"../__pv_it/demonstrations/dd71d8cd292572d95b868027769db810dcd116370/expr.ipynb\"><img src=\"data:image/png;base64,iVBORw0KGgoAAAANSUhEUgAAABMAAAAVBAMAAABWJ8jiAAAAMFBMVEX///8AAAAAAAAAAAAAAAAA\n",
       "AAAAAAAAAAAAAAAAAAAAAAAAAAAAAAAAAAAAAAAAAAAv3aB7AAAAD3RSTlMAIolEdjKr77sQZpnd\n",
       "VM0QaojEAAAACXBIWXMAAA7EAAAOxAGVKw4bAAAAV0lEQVQI12MQYIAARgYGZSiTyYACJmOSowOU\n",
       "aS7A8RPC5Kxi4D4AYXJ/YOBRgDDZGxjmG0CY8x0Y1kNNmH+BIY9XAMzkcOA9zQ01IUVVzJVU57hC\n",
       "mSwBAJV8EpHonlOiAAAAAElFTkSuQmCC\n",
       "\" style=\"display:inline;vertical-align:middle;\" /></a><br>"
      ],
      "text/plain": [
       "<IPython.core.display.HTML object>"
      ]
     },
     "metadata": {},
     "output_type": "display_data"
    }
   ],
   "source": [
    "# basic absolute value expression\n",
    "abs_value_a = Abs(a)"
   ]
  },
  {
   "cell_type": "code",
   "execution_count": 3,
   "metadata": {},
   "outputs": [
    {
     "data": {
      "text/html": [
       "<a class=\"ProveItLink\" href=\"../__pv_it/demonstrations/fb2f4406140c29ea38920eb8650681e703845a1e0/expr.ipynb\"><img src=\"data:image/png;base64,iVBORw0KGgoAAAANSUhEUgAAAKUAAAAVBAMAAADVzzOcAAAAMFBMVEX///8AAAAAAAAAAAAAAAAA\n",
       "AAAAAAAAAAAAAAAAAAAAAAAAAAAAAAAAAAAAAAAAAAAv3aB7AAAAD3RSTlMAIolEdjKr77sQZpnd\n",
       "VM0QaojEAAAACXBIWXMAAA7EAAAOxAGVKw4bAAAB9UlEQVQ4y5WUv0/CUBDHj99todCBsOjQBN0c\n",
       "GEwcKUZGE/wPCGHV4GaMA4OJo40DDhrpziAzMYEQiYl0wN0BB00cTEh0YdD42sdrebzXil2O3N33\n",
       "8+5x9w4U8PgCPJfjVLjJARzIejGDOca16zqz3GRkNj2Y4lmPx5RVHybRhA2POpNtiim/2OYG/Ook\n",
       "mveFYMjANjWaZ0pD3bYdlkkEyE80rQWmrGGb1+fk4T5GQo1lEgHyE01M5zM35np0cU+CY18m0SQN\n",
       "KxioFDQ65W1nn8ivHsmBcRWLMmtpHpNogmUruKUIUypF/NGbCmY2PtzGGbY2dAjnOst0NNIYBcVj\n",
       "iPeoFHkKMQ0zoy4zgZtwacAdp05HI9dQMD6BhGrdzTQfTkyzjH6NIaXO7r7i3D2Ws5ldgD5mugLk\n",
       "dzSRCQrG6tDMUceiI/Ijpkcz5hGIn5w6HU3IqrOpwS3ddzRqXZ2ZJXx38QukCYfpaOSexRzBgaxQ\n",
       "zBL6j5mZFzSb+Q3R8ROHSTRSHQUFTR7GqZSoIbSpt/lq68r23U/hud1mmY4GjRzqe3U9U6RnqdLh\n",
       "7JAIXhKN7b1qiTNLRJPI8d8Rf9cNfN8RMaseO4TPbPnuEGI6f+7ka9P6BrZHUJbYyYH6v/a8WF+C\n",
       "iQ6GohczXGJcaddZ5CYjUwD4BZy3jtZm+QAfAAAAAElFTkSuQmCC\n",
       "\" style=\"display:inline;vertical-align:middle;\" /></a>"
      ],
      "text/plain": [
       "|a + b| <= (|a| + |b|)"
      ]
     },
     "metadata": {},
     "output_type": "display_data"
    }
   ],
   "source": [
    "# a version of the triangle inequality, where Abs() occurs repeatedly\n",
    "# inside a larger expression\n",
    "LessEq(Abs(Add(a, b)), Add(Abs(a),Abs(b)))"
   ]
  },
  {
   "cell_type": "markdown",
   "metadata": {},
   "source": [
    "## Common Attributes of an Absolute Value `Abs` Expression <a id='common_attributes'></a>"
   ]
  },
  {
   "cell_type": "markdown",
   "metadata": {},
   "source": [
    "<font size=3>Let's define a simple absolute value expression, $|a+b|$, and look at some of its attributes.</font>"
   ]
  },
  {
   "cell_type": "code",
   "execution_count": 4,
   "metadata": {},
   "outputs": [
    {
     "data": {
      "text/html": [
       "<strong id=\"abs_value_a_plus_b\">abs_value_a_plus_b:</strong> <a class=\"ProveItLink\" href=\"../__pv_it/demonstrations/a00f412b29eef517678b05e1e976de5f2cef54060/expr.ipynb\"><img src=\"data:image/png;base64,iVBORw0KGgoAAAANSUhEUgAAADUAAAAVBAMAAAAUZLt1AAAAMFBMVEX///8AAAAAAAAAAAAAAAAA\n",
       "AAAAAAAAAAAAAAAAAAAAAAAAAAAAAAAAAAAAAAAAAAAv3aB7AAAAD3RSTlMAIolEdjKr77sQZpnd\n",
       "VM0QaojEAAAACXBIWXMAAA7EAAAOxAGVKw4bAAAAwUlEQVQoz2MQYMABGBkYlHHJMRlgleNsP4BT\n",
       "joFvA6Yc8wIIzX8BU47XAULbT8AtpwN3C2OSowOq3DOXXKicuQDHTxQ5zn8T5guA5TirGLgPoMjx\n",
       "/mRgdwDLcX9g4FEAinCfOXO85syZBCDrAQO/AliOvYFhvgGKPqBS+wtgufkODOtR3Qn03v4JELkL\n",
       "DHm8AihyAUA3gOU4HHhPc6PoY1vAsQEix5miKuaK6oekXbjDBVscwcIaT/wRI+eKS44lAAD3Oyz+\n",
       "cXbqVAAAAABJRU5ErkJggg==\n",
       "\" style=\"display:inline;vertical-align:middle;\" /></a><br>"
      ],
      "text/plain": [
       "<IPython.core.display.HTML object>"
      ]
     },
     "metadata": {},
     "output_type": "display_data"
    }
   ],
   "source": [
    "abs_value_a_plus_b = Abs(Add(a, b))"
   ]
  },
  {
   "cell_type": "markdown",
   "metadata": {},
   "source": [
    "<font size=3>We can use the `expr_info()` method to look at how the expression is constructed:</font>"
   ]
  },
  {
   "cell_type": "code",
   "execution_count": 5,
   "metadata": {},
   "outputs": [
    {
     "data": {
      "text/html": [
       "<table><tr><th>&nbsp;</th><th>core type</th><th>sub-expressions</th><th>expression</th></tr>\n",
       "<tr><td>0</td><td>Operation</td><td>operator:&nbsp;1<br>operand:&nbsp;3<br></td><td><a class=\"ProveItLink\" href=\"../__pv_it/demonstrations/a00f412b29eef517678b05e1e976de5f2cef54060/expr.ipynb\"><img src=\"data:image/png;base64,iVBORw0KGgoAAAANSUhEUgAAADUAAAAVBAMAAAAUZLt1AAAAMFBMVEX///8AAAAAAAAAAAAAAAAA\n",
       "AAAAAAAAAAAAAAAAAAAAAAAAAAAAAAAAAAAAAAAAAAAv3aB7AAAAD3RSTlMAIolEdjKr77sQZpnd\n",
       "VM0QaojEAAAACXBIWXMAAA7EAAAOxAGVKw4bAAAAwUlEQVQoz2MQYMABGBkYlHHJMRlgleNsP4BT\n",
       "joFvA6Yc8wIIzX8BU47XAULbT8AtpwN3C2OSowOq3DOXXKicuQDHTxQ5zn8T5guA5TirGLgPoMjx\n",
       "/mRgdwDLcX9g4FEAinCfOXO85syZBCDrAQO/AliOvYFhvgGKPqBS+wtgufkODOtR3Qn03v4JELkL\n",
       "DHm8AihyAUA3gOU4HHhPc6PoY1vAsQEix5miKuaK6oekXbjDBVscwcIaT/wRI+eKS44lAAD3Oyz+\n",
       "cXbqVAAAAABJRU5ErkJggg==\n",
       "\" style=\"display:inline;vertical-align:middle;\" /></a></td></tr>\n",
       "<tr><td>1</td><td>Literal</td><td></td><td><a class=\"ProveItLink\" href=\"../__pv_it/common/eea56c667bc0aad2dc76ed04b44c2bd98b94005f0/expr.ipynb\"><img src=\"data:image/png;base64,iVBORw0KGgoAAAANSUhEUgAAACIAAAAPBAMAAABzWwAZAAAAMFBMVEX///8AAAAAAAAAAAAAAAAA\n",
       "AAAAAAAAAAAAAAAAAAAAAAAAAAAAAAAAAAAAAAAAAAAv3aB7AAAAD3RSTlMAIs1UmauJMnZmRLsQ\n",
       "3e++988cAAAACXBIWXMAAA7EAAAOxAGVKw4bAAAAxklEQVQY012OsQ7BUBiFvyoiWioeAIvEIOEN\n",
       "dLBIJCQSq+sBhNHGWBM2O5uBQSIWjBIDj2C1YdWk7rVonOEfvv+cnANKSf5VAHN/9QHdkydg+0iw\n",
       "lQCr6CPtbg9Wxx/QhmP57/hDlCaQdRoQdqqKzBkIzNfxkmDLQhGbdB3dJT7UHuwkiGzKrTXBDJbQ\n",
       "3lNlOcnmKzHBqkjXE98QsZuaU5P9SxeisifwwOqZd7VAkpS0GU9CE8Mmh25z9vLoh5cwmxXoz0Z8\n",
       "AARKLmnMGmoSAAAAAElFTkSuQmCC\n",
       "\" style=\"display:inline;vertical-align:middle;\" /></a></td></tr>\n",
       "<tr><td>2</td><td>ExprTuple</td><td>3</td><td><a class=\"ProveItLink\" href=\"../__pv_it/demonstrations/9e76af431de2efe789688d6f87850b9b3a54d0250/expr.ipynb\"><img src=\"data:image/png;base64,iVBORw0KGgoAAAANSUhEUgAAADkAAAAVBAMAAAAOWFv7AAAAMFBMVEX///8AAAAAAAAAAAAAAAAA\n",
       "AAAAAAAAAAAAAAAAAAAAAAAAAAAAAAAAAAAAAAAAAAAv3aB7AAAAD3RSTlMAInZUiRDNmWbv3US7\n",
       "qzJazP2FAAAACXBIWXMAAA7EAAAOxAGVKw4bAAABGUlEQVQoz3WRoU/DQBTGv3KMW7fCqklIbvwB\n",
       "pIKgq0kg/QOWtIZkZskEAkcdkkkCpgmCULXgUCs43AILeho1MzTfFQQvuT7x7t373ffuvTsAIdxW\n",
       "5zeiBvpk3aEDtN4KynIGmUu3NaY7A3T+P9v92/XsdVeALzTK/K6zhM5PcOSkx3X5HOdcvEXfSDra\n",
       "/wA25xgyfg6DtaCt7yQN0c5wz/gGuhBUreEbqAnu2PYKnZg5XZaPt2U5Z5ShF2NnZalfIZ0KLQ/P\n",
       "InQntnJqcC175riXCVSBV9IInyoUdMle0K5wAgRGPWih3c4DPqWO8cWe30/3DuREiwt7+xSdpeut\n",
       "attl8bHrF2qz+peGz4dX0Q2aaGDH8EwD7QM/+yc2C9CUvZMAAAAASUVORK5CYII=\n",
       "\" style=\"display:inline;vertical-align:middle;\" /></a></td></tr>\n",
       "<tr><td>3</td><td>Operation</td><td>operator:&nbsp;4<br>operands:&nbsp;5<br></td><td><a class=\"ProveItLink\" href=\"../__pv_it/demonstrations/9df4b739076f4e12b1230310c3d5fc9349486de20/expr.ipynb\"><img src=\"data:image/png;base64,iVBORw0KGgoAAAANSUhEUgAAAC0AAAAQBAMAAABw0OvaAAAAMFBMVEX///8AAAAAAAAAAAAAAAAA\n",
       "AAAAAAAAAAAAAAAAAAAAAAAAAAAAAAAAAAAAAAAAAAAv3aB7AAAAD3RSTlMAIquJdkTvuxBmmd1U\n",
       "zTKBpmoTAAAACXBIWXMAAA7EAAAOxAGVKw4bAAAApUlEQVQY02NgwAAcZRsYsALeBah81gkQmv8A\n",
       "qjiPA4SOb8Aubg0mGZUdHVDFL7noAMkwAfYfKOIcfxv6BRg4Mhm4NqCI8/xgYHNg4PrAwG0A5HHt\n",
       "3r0te/duBSDrAgO/AQNbAUN/AIp6oLL4Awz9DgzzUd0DdP76Bob+Awy6PAIo4g+AdjKwO/Ds4kJR\n",
       "zzSBHRgQHCp2Qn6o7lReid2/6AAWbiAAAPUAI54ykipaAAAAAElFTkSuQmCC\n",
       "\" style=\"display:inline;vertical-align:middle;\" /></a></td></tr>\n",
       "<tr><td>4</td><td>Literal</td><td></td><td><a class=\"ProveItLink\" href=\"../../addition/__pv_it/common/4b7effaab3619a1c2c38fe2dee8601df8ec714590/expr.ipynb\"><img src=\"data:image/png;base64,iVBORw0KGgoAAAANSUhEUgAAAA4AAAAOBAMAAADtZjDiAAAAHlBMVEX///8AAAAAAAAAAAAAAAAA\n",
       "AAAAAAAAAAAAAAAAAACGjDitAAAACXRSTlMARGZUdpnd76sKo+zpAAAACXBIWXMAAA7EAAAOxAGV\n",
       "Kw4bAAAAH0lEQVQI12NgYGAQYoAAE2LosLS08rS0DKLVI9EgewAshQUueejZFAAAAABJRU5ErkJg\n",
       "gg==\n",
       "\" style=\"display:inline;vertical-align:middle;\" /></a></td></tr>\n",
       "<tr><td>5</td><td>ExprTuple</td><td>6, 7</td><td><a class=\"ProveItLink\" href=\"../../ordering/__pv_it/theorems/3dcd5ceea6334d8cb48fe14fdae236293aa9a6050/expr.ipynb\"><img src=\"data:image/png;base64,iVBORw0KGgoAAAANSUhEUgAAACkAAAAVBAMAAAAp9toTAAAAMFBMVEX///8AAAAAAAAAAAAAAAAA\n",
       "AAAAAAAAAAAAAAAAAAAAAAAAAAAAAAAAAAAAAAAAAAAv3aB7AAAAD3RSTlMAInZUiRDNmWbv3US7\n",
       "qzJazP2FAAAACXBIWXMAAA7EAAAOxAGVKw4bAAABD0lEQVQY012RMUvDQBTHf2msaWK0mQvC1Q8g\n",
       "GdQ5s6DkAwjJInQROji4mc3RjoJLQMS1uDk1urmJFufOTl3q7LtrT5Le8O7/fvf433t3QERzmbwV\n",
       "r9FnHQ5qoP1eSlkhIq/XbQ4lnINX1GlX292A3/CcpBL8lKMGPTY2BZeyOdO+WtKLvS/Y+GAg+iUK\n",
       "F8seftMsopPzIPoOrzTUXeAr3BH30sacIDHUy+km7Mw19SuysaFyOInZGmmHTHH73+51ilvyJjTm\n",
       "243ams7kDjoVJxAq98kjk9G3i1BG9hJ+pIfP0919gkdR0yvtPiaY2bkOreiJydAmiRW6/tW+7Wpo\n",
       "nErC2Spp2dJQf5Gj1n6oD38eezDBj+ZZogAAAABJRU5ErkJggg==\n",
       "\" style=\"display:inline;vertical-align:middle;\" /></a></td></tr>\n",
       "<tr><td>6</td><td>Variable</td><td></td><td><a class=\"ProveItLink\" href=\"../../../__pv_it/common/c06c606ec12678c58933ac85412ecadc2ae28be60/expr.ipynb\"><img src=\"data:image/png;base64,iVBORw0KGgoAAAANSUhEUgAAAAsAAAAJBAMAAAAWSsseAAAAMFBMVEX///8AAAAAAAAAAAAAAAAA\n",
       "AAAAAAAAAAAAAAAAAAAAAAAAAAAAAAAAAAAAAAAAAAAv3aB7AAAAD3RSTlMAIquJdkTvuxBmmd1U\n",
       "zTKBpmoTAAAACXBIWXMAAA7EAAAOxAGVKw4bAAAARUlEQVQI12NgYFR2dGBgYAgTYP/BwMCRycC1\n",
       "gYGB6wMDtwEDA1sBQ38AA0O/A8N8oIr+Awy6PAIM7A48u7iAKlXshPwYAE2lCqdX0eXEAAAAAElF\n",
       "TkSuQmCC\n",
       "\" style=\"display:inline;vertical-align:middle;\" /></a></td></tr>\n",
       "<tr><td>7</td><td>Variable</td><td></td><td><a class=\"ProveItLink\" href=\"../../../__pv_it/common/195236b98c6c564a75b5dbada74b173bc52d5c3e0/expr.ipynb\"><img src=\"data:image/png;base64,iVBORw0KGgoAAAANSUhEUgAAAAkAAAAOBAMAAAAPuiubAAAAMFBMVEX///8AAAAAAAAAAAAAAAAA\n",
       "AAAAAAAAAAAAAAAAAAAAAAAAAAAAAAAAAAAAAAAAAAAv3aB7AAAAD3RSTlMAELvv3c2ZVESJq3Yi\n",
       "MmZ3LnoBAAAACXBIWXMAAA7EAAAOxAGVKw4bAAAAT0lEQVQI12NgVHZgAALWBBDJXwAi+wVA5BQQ\n",
       "wRC1ezkDA+NXAfkDDOwfGZg3MLAFMPBPYGCZwNBfAFKeL8DAf4HRjoGB6wET0AjGlXkMDAAVqA7Q\n",
       "GyenWgAAAABJRU5ErkJggg==\n",
       "\" style=\"display:inline;vertical-align:middle;\" /></a></td></tr>\n",
       "</table>\n"
      ],
      "text/plain": [
       "0. |a + b|\n",
       "   core type: Operation\n",
       "   operator: 1\n",
       "   operand: 3\n",
       "1. Abs\n",
       "   core type: Literal\n",
       "   sub-expressions: \n",
       "2. (a + b)\n",
       "   core type: ExprTuple\n",
       "   sub-expressions: 3\n",
       "3. a + b\n",
       "   core type: Operation\n",
       "   operator: 4\n",
       "   operands: 5\n",
       "4. +\n",
       "   core type: Literal\n",
       "   sub-expressions: \n",
       "5. (a, b)\n",
       "   core type: ExprTuple\n",
       "   sub-expressions: 6, 7\n",
       "6. a\n",
       "   core type: Variable\n",
       "   sub-expressions: \n",
       "7. b\n",
       "   core type: Variable\n",
       "   sub-expressions: "
      ]
     },
     "metadata": {},
     "output_type": "display_data"
    }
   ],
   "source": [
    "abs_value_a_plus_b.expr_info()"
   ]
  },
  {
   "cell_type": "markdown",
   "metadata": {},
   "source": [
    "<font size=3>The string version of the absolute value operator is simply the `Abs` string:</font>"
   ]
  },
  {
   "cell_type": "code",
   "execution_count": 6,
   "metadata": {},
   "outputs": [
    {
     "data": {
      "text/html": [
       "<a class=\"ProveItLink\" href=\"../__pv_it/common/eea56c667bc0aad2dc76ed04b44c2bd98b94005f0/expr.ipynb\"><img src=\"data:image/png;base64,iVBORw0KGgoAAAANSUhEUgAAACIAAAAPBAMAAABzWwAZAAAAMFBMVEX///8AAAAAAAAAAAAAAAAA\n",
       "AAAAAAAAAAAAAAAAAAAAAAAAAAAAAAAAAAAAAAAAAAAv3aB7AAAAD3RSTlMAIs1UmauJMnZmRLsQ\n",
       "3e++988cAAAACXBIWXMAAA7EAAAOxAGVKw4bAAAAxklEQVQY012OsQ7BUBiFvyoiWioeAIvEIOEN\n",
       "dLBIJCQSq+sBhNHGWBM2O5uBQSIWjBIDj2C1YdWk7rVonOEfvv+cnANKSf5VAHN/9QHdkydg+0iw\n",
       "lQCr6CPtbg9Wxx/QhmP57/hDlCaQdRoQdqqKzBkIzNfxkmDLQhGbdB3dJT7UHuwkiGzKrTXBDJbQ\n",
       "3lNlOcnmKzHBqkjXE98QsZuaU5P9SxeisifwwOqZd7VAkpS0GU9CE8Mmh25z9vLoh5cwmxXoz0Z8\n",
       "AARKLmnMGmoSAAAAAElFTkSuQmCC\n",
       "\" style=\"display:inline;vertical-align:middle;\" /></a>"
      ],
      "text/plain": [
       "Abs"
      ]
     },
     "metadata": {},
     "output_type": "display_data"
    }
   ],
   "source": [
    "abs_value_a_plus_b.operator"
   ]
  },
  {
   "cell_type": "markdown",
   "metadata": {},
   "source": [
    "<font size=3>And we can test for instances of `Abs()` in the usual way, by testing for the `Abs` class:</font>"
   ]
  },
  {
   "cell_type": "code",
   "execution_count": 7,
   "metadata": {},
   "outputs": [
    {
     "name": "stdout",
     "output_type": "stream",
     "text": [
      "|a + b| is an instance of Abs\n"
     ]
    }
   ],
   "source": [
    "if isinstance(abs_value_a_plus_b, Abs):\n",
    "    print(\"{} is an instance of Abs\".format(abs_value_a_plus_b))"
   ]
  },
  {
   "cell_type": "markdown",
   "metadata": {},
   "source": [
    "<font size=3>We can obtain the operand (the expression inside the absolute value) apart from the `Abs()` expression. We can also get a list of the variables and a separate list of the *free* variables in the expression (of course, in this expression, all the variables are also free variables):</font>"
   ]
  },
  {
   "cell_type": "code",
   "execution_count": 8,
   "metadata": {},
   "outputs": [
    {
     "data": {
      "text/html": [
       "<a class=\"ProveItLink\" href=\"../__pv_it/demonstrations/9df4b739076f4e12b1230310c3d5fc9349486de20/expr.ipynb\"><img src=\"data:image/png;base64,iVBORw0KGgoAAAANSUhEUgAAAC0AAAAQBAMAAABw0OvaAAAAMFBMVEX///8AAAAAAAAAAAAAAAAA\n",
       "AAAAAAAAAAAAAAAAAAAAAAAAAAAAAAAAAAAAAAAAAAAv3aB7AAAAD3RSTlMAIquJdkTvuxBmmd1U\n",
       "zTKBpmoTAAAACXBIWXMAAA7EAAAOxAGVKw4bAAAApUlEQVQY02NgwAAcZRsYsALeBah81gkQmv8A\n",
       "qjiPA4SOb8Aubg0mGZUdHVDFL7noAMkwAfYfKOIcfxv6BRg4Mhm4NqCI8/xgYHNg4PrAwG0A5HHt\n",
       "3r0te/duBSDrAgO/AQNbAUN/AIp6oLL4Awz9DgzzUd0DdP76Bob+Awy6PAIo4g+AdjKwO/Ds4kJR\n",
       "zzSBHRgQHCp2Qn6o7lReid2/6AAWbiAAAPUAI54ykipaAAAAAElFTkSuQmCC\n",
       "\" style=\"display:inline;vertical-align:middle;\" /></a>"
      ],
      "text/plain": [
       "a + b"
      ]
     },
     "metadata": {},
     "output_type": "display_data"
    }
   ],
   "source": [
    "# the \"bare\" operand\n",
    "abs_value_a_plus_b.operand"
   ]
  },
  {
   "cell_type": "code",
   "execution_count": 9,
   "metadata": {},
   "outputs": [
    {
     "data": {
      "text/html": [
       "<a class=\"ProveItLink\" href=\"../__pv_it/demonstrations/9e76af431de2efe789688d6f87850b9b3a54d0250/expr.ipynb\"><img src=\"data:image/png;base64,iVBORw0KGgoAAAANSUhEUgAAADkAAAAVBAMAAAAOWFv7AAAAMFBMVEX///8AAAAAAAAAAAAAAAAA\n",
       "AAAAAAAAAAAAAAAAAAAAAAAAAAAAAAAAAAAAAAAAAAAv3aB7AAAAD3RSTlMAInZUiRDNmWbv3US7\n",
       "qzJazP2FAAAACXBIWXMAAA7EAAAOxAGVKw4bAAABGUlEQVQoz3WRoU/DQBTGv3KMW7fCqklIbvwB\n",
       "pIKgq0kg/QOWtIZkZskEAkcdkkkCpgmCULXgUCs43AILeho1MzTfFQQvuT7x7t373ffuvTsAIdxW\n",
       "5zeiBvpk3aEDtN4KynIGmUu3NaY7A3T+P9v92/XsdVeALzTK/K6zhM5PcOSkx3X5HOdcvEXfSDra\n",
       "/wA25xgyfg6DtaCt7yQN0c5wz/gGuhBUreEbqAnu2PYKnZg5XZaPt2U5Z5ShF2NnZalfIZ0KLQ/P\n",
       "InQntnJqcC175riXCVSBV9IInyoUdMle0K5wAgRGPWih3c4DPqWO8cWe30/3DuREiwt7+xSdpeut\n",
       "attl8bHrF2qz+peGz4dX0Q2aaGDH8EwD7QM/+yc2C9CUvZMAAAAASUVORK5CYII=\n",
       "\" style=\"display:inline;vertical-align:middle;\" /></a>"
      ],
      "text/plain": [
       "(a + b)"
      ]
     },
     "metadata": {},
     "output_type": "display_data"
    }
   ],
   "source": [
    "# the operand in a (1-element) tuple\n",
    "abs_value_a_plus_b.operands"
   ]
  },
  {
   "cell_type": "code",
   "execution_count": 10,
   "metadata": {},
   "outputs": [
    {
     "data": {
      "text/html": [
       "<a class=\"ProveItLink\" href=\"../../ordering/__pv_it/theorems/3dcd5ceea6334d8cb48fe14fdae236293aa9a6050/expr.ipynb\"><img src=\"data:image/png;base64,iVBORw0KGgoAAAANSUhEUgAAACkAAAAVBAMAAAAp9toTAAAAMFBMVEX///8AAAAAAAAAAAAAAAAA\n",
       "AAAAAAAAAAAAAAAAAAAAAAAAAAAAAAAAAAAAAAAAAAAv3aB7AAAAD3RSTlMAInZUiRDNmWbv3US7\n",
       "qzJazP2FAAAACXBIWXMAAA7EAAAOxAGVKw4bAAABD0lEQVQY012RMUvDQBTHf2msaWK0mQvC1Q8g\n",
       "GdQ5s6DkAwjJInQROji4mc3RjoJLQMS1uDk1urmJFufOTl3q7LtrT5Le8O7/fvf433t3QERzmbwV\n",
       "r9FnHQ5qoP1eSlkhIq/XbQ4lnINX1GlX292A3/CcpBL8lKMGPTY2BZeyOdO+WtKLvS/Y+GAg+iUK\n",
       "F8seftMsopPzIPoOrzTUXeAr3BH30sacIDHUy+km7Mw19SuysaFyOInZGmmHTHH73+51ilvyJjTm\n",
       "243ams7kDjoVJxAq98kjk9G3i1BG9hJ+pIfP0919gkdR0yvtPiaY2bkOreiJydAmiRW6/tW+7Wpo\n",
       "nErC2Spp2dJQf5Gj1n6oD38eezDBj+ZZogAAAABJRU5ErkJggg==\n",
       "\" style=\"display:inline;vertical-align:middle;\" /></a>"
      ],
      "text/plain": [
       "(a, b)"
      ]
     },
     "metadata": {},
     "output_type": "display_data"
    }
   ],
   "source": [
    "# the variables appearing in the expression\n",
    "used_vars(abs_value_a_plus_b)"
   ]
  },
  {
   "cell_type": "code",
   "execution_count": 11,
   "metadata": {},
   "outputs": [
    {
     "data": {
      "text/html": [
       "<a class=\"ProveItLink\" href=\"../../ordering/__pv_it/theorems/3dcd5ceea6334d8cb48fe14fdae236293aa9a6050/expr.ipynb\"><img src=\"data:image/png;base64,iVBORw0KGgoAAAANSUhEUgAAACkAAAAVBAMAAAAp9toTAAAAMFBMVEX///8AAAAAAAAAAAAAAAAA\n",
       "AAAAAAAAAAAAAAAAAAAAAAAAAAAAAAAAAAAAAAAAAAAv3aB7AAAAD3RSTlMAInZUiRDNmWbv3US7\n",
       "qzJazP2FAAAACXBIWXMAAA7EAAAOxAGVKw4bAAABD0lEQVQY012RMUvDQBTHf2msaWK0mQvC1Q8g\n",
       "GdQ5s6DkAwjJInQROji4mc3RjoJLQMS1uDk1urmJFufOTl3q7LtrT5Le8O7/fvf433t3QERzmbwV\n",
       "r9FnHQ5qoP1eSlkhIq/XbQ4lnINX1GlX292A3/CcpBL8lKMGPTY2BZeyOdO+WtKLvS/Y+GAg+iUK\n",
       "F8seftMsopPzIPoOrzTUXeAr3BH30sacIDHUy+km7Mw19SuysaFyOInZGmmHTHH73+51ilvyJjTm\n",
       "243ams7kDjoVJxAq98kjk9G3i1BG9hJ+pIfP0919gkdR0yvtPiaY2bkOreiJydAmiRW6/tW+7Wpo\n",
       "nErC2Spp2dJQf5Gj1n6oD38eezDBj+ZZogAAAABJRU5ErkJggg==\n",
       "\" style=\"display:inline;vertical-align:middle;\" /></a>"
      ],
      "text/plain": [
       "(a, b)"
      ]
     },
     "metadata": {},
     "output_type": "display_data"
    }
   ],
   "source": [
    "# the free variables appearing in the expression\n",
    "free_vars(abs_value_a_plus_b)"
   ]
  },
  {
   "cell_type": "markdown",
   "metadata": {},
   "source": [
    "<font size=3>And of course, we can reach into the expression and substitute for variables with other variables in the usual way:</font>"
   ]
  },
  {
   "cell_type": "code",
   "execution_count": 12,
   "metadata": {},
   "outputs": [
    {
     "data": {
      "text/html": [
       "<strong id=\"abs_value_c_plus_b\">abs_value_c_plus_b:</strong> <a class=\"ProveItLink\" href=\"../__pv_it/demonstrations/8bf7ce0714e5ca92f68d2068081636b7ba5cedac0/expr.ipynb\"><img src=\"data:image/png;base64,iVBORw0KGgoAAAANSUhEUgAAADMAAAAVBAMAAAAZessyAAAAMFBMVEX///8AAAAAAAAAAAAAAAAA\n",
       "AAAAAAAAAAAAAAAAAAAAAAAAAAAAAAAAAAAAAAAAAAAv3aB7AAAAD3RSTlMAIolEdjJm3VSZu+8Q\n",
       "q81nPxf8AAAACXBIWXMAAA7EAAAOxAGVKw4bAAAAs0lEQVQoz2MQYMAOGBkYlHFIMRlgk+JZXYBL\n",
       "ioFvAoYUcwKE5m/AkOJwgND2B3BKqSOcoeIWgCL11uUGVEq8gXMBshTPvwPnBSBSRQzcDshSHH+A\n",
       "AmApzj9gAc7y8urt5eUXgKwHDPwKYCnuBWjOYFdgsG8AS513QJMCemv+AbAUP9CjBihSATzbIC4E\n",
       "Oo8JxfG8CVwToI5XSvNBMZDn0jScoYElUmDBizu+iJByxSHFEgAAqcgnpjmNgiYAAAAASUVORK5C\n",
       "YII=\n",
       "\" style=\"display:inline;vertical-align:middle;\" /></a><br>"
      ],
      "text/plain": [
       "<IPython.core.display.HTML object>"
      ]
     },
     "metadata": {},
     "output_type": "display_data"
    }
   ],
   "source": [
    "abs_value_c_plus_b = abs_value_a_plus_b.basic_replaced({a:c})"
   ]
  },
  {
   "cell_type": "markdown",
   "metadata": {},
   "source": [
    "## Axioms <a id='axioms'></a>"
   ]
  },
  {
   "cell_type": "markdown",
   "metadata": {},
   "source": [
    "<font size=3>At this time, there is a single axiom for absolute value, defining $|x|=\\sqrt{x^2}$ for real-valued $x$:</font>"
   ]
  },
  {
   "cell_type": "code",
   "execution_count": 13,
   "metadata": {},
   "outputs": [
    {
     "data": {
      "text/html": [
       "<span style=\"font-size:20px;\"> <a class=\"ProveItLink\" href=\"axioms.ipynb#abs_val_def_sqrt\" style=\"text-decoration: none\">&nbsp;&#x22A2;&nbsp;&nbsp;</a><a class=\"ProveItLink\" href=\"../__pv_it/axioms/183fe76d857d11096c0fef8577619b02def67a260/expr.ipynb\"><img src=\"data:image/png;base64,iVBORw0KGgoAAAANSUhEUgAAALgAAAAmBAMAAACFcUzHAAAAMFBMVEX///8AAAAAAAAAAAAAAAAA\n",
       "AAAAAAAAAAAAAAAAAAAAAAAAAAAAAAAAAAAAAAAAAAAv3aB7AAAAD3RSTlMAq1RmmUTNIjK7EInv\n",
       "3XZ/CtNrAAAACXBIWXMAAA7EAAAOxAGVKw4bAAADRElEQVRIx6WXX0gUQRzHv3p7t3e3d2s+FAQR\n",
       "C0EQEfoQPkTklf2jDA6DXoI88CHqITaI6sHI3qKSjnrIU7B7kEjKugQNEuKKIiiCq9c4OKFMfBAx\n",
       "RTHQ5u/qdbfOsg6MNzv7m8/OfH+/38wIKMoh+CrRix6MtE3+4OjOqm2afLIRUM8q/NkvHA+UFqGc\n",
       "F07NSmXBc6UuDVkv8Fv+vPXDkwI91Tr1BZXkS17Y4XTV7j6VmHSYLZ9sN6uu1ZfRsfqsaO9XwOsa\n",
       "yZ8R+TTiYnWVVNMSSkMr4Bxr3rTAZN/hMuy+7QW+mdTdcjpJfREmnRPiCRyhv+ddhjXDA1xPETVS\n",
       "MneyBA6W+1qKhZGedoFv8QLXiCJao/NoFIC9tGHOIEQi2bBc4O+8wJ+QGivfVGI0PWoXESDfDLk5\n",
       "9K8X+DCpO1dF6qWJTRcSngW+Fotf3OB/BPPF+NMxywUeJTLgJKTRFVwjUtAwiZLRx4FeF7Y+K+AJ\n",
       "czuJMAY/VaTlG+fS1bPQ6IAw0ntunyBuZf5dBi5DX7sL7Bk9eMlJPQEP2IGlmsbKmd9L0Iijre8Q\n",
       "RrGVlRkid16IGskaSQkbzyRNA6/lVhic5/AwDatKzWt3EQ6mafMjpBEH0ReYIyYlx5+HSR6bJvaV\n",
       "/ps5cX+pmkOD1CcFARdG/EVewJE6QL9/7KfN1CPwqUQFvN0m+lZojiJRIydkEUZ8TQWhOYZJPpn2\n",
       "1pA1yELf0PtlRugiWgaT22BUC8XmJOKM1w9pxPM0LWOtk/gzgP4wTjO41ufka3SZwxvutKKtGrwu\n",
       "LTaVV5BGPGlzMtbYjgmytTdlMhnLNI02Z/AHDh+Yrm2xqsG1Bb6NoBvSiJU4DZHwvOPfvI67bOZm\n",
       "8Kxztl1QZKg+F+T+iXeV9d9gwsuTptNIaSQomeZ4Ix2KVlX6Pw7xgyGQKOtukTsYX9+vt1PQ6Vl4\n",
       "ZiI3cNRxWFYBb68XjUdlC2Jei5Sf0M8ymWRZx0tLAY/LU3hwbW/Edo6xdUqErnZSPk2uc6/SS2t6\n",
       "f/NV2Yo7WR7+y6jqrjq/Afj7jX59nWIqVx3r8g2PWcqLcMo3fEJt0uGXrX9S2wzZPuFDlocJXPQJ\n",
       "f+jF6LrPf7hoqv8Dmx3tzDvWk4oAAAAASUVORK5CYII=\n",
       "\" style=\"display:inline;vertical-align:middle;\" /></a></span>"
      ],
      "text/plain": [
       "|- forall_{x in Real} (|x| = sqrt((x^{2})))"
      ]
     },
     "metadata": {},
     "output_type": "display_data"
    }
   ],
   "source": [
    "abs_val_def_sqrt"
   ]
  },
  {
   "cell_type": "markdown",
   "metadata": {},
   "source": [
    "<font size=3>When the `Conditional` class has been established, the axiomatic definition will use the standard piece-wise definition, and the “square root of the square” could then be a theorem instead. The definition for $|a+bi|$, the norm of complex number $z=a+bi$, is still under development.</font>"
   ]
  },
  {
   "cell_type": "markdown",
   "metadata": {},
   "source": [
    "## Theorems <a id='axioms'></a>"
   ]
  },
  {
   "cell_type": "markdown",
   "metadata": {},
   "source": [
    "<font size=3>Some typical absolute value-related theorems are illustrated below. The full complement of theorems appears in the `proveit.numbers/absolute_value/_theorems_.ipynb` notebook.</font>"
   ]
  },
  {
   "cell_type": "code",
   "execution_count": 14,
   "metadata": {},
   "outputs": [],
   "source": [
    "from proveit.numbers.absolute_value import (\n",
    "        abs_nonzero_closure, abs_is_non_neg, abs_non_neg_elim, triangle_inequality)"
   ]
  },
  {
   "cell_type": "code",
   "execution_count": 15,
   "metadata": {},
   "outputs": [
    {
     "data": {
      "text/html": [
       "<span style=\"font-size:20px;\"> <a class=\"ProveItLink\" href=\"proofs/abs_nonzero_closure/thm_proof.ipynb\" style=\"text-decoration: none\">&nbsp;&#x22A2;&nbsp;&nbsp;</a><a class=\"ProveItLink\" href=\"../__pv_it/theorems/e2f72d79765d2822d85519c954bcb277c2f5ed420/expr.ipynb\"><img src=\"data:image/png;base64,iVBORw0KGgoAAAANSUhEUgAAAKUAAAAZCAMAAABn/R7mAAAAPFBMVEX///8AAAAAAAAAAAAAAAAA\n",
       "AAAAAAAAAAAAAAAAAAAAAAAAAAAAAAAAAAAAAAAAAAAAAAAAAAAAAAAAAAAo1xBWAAAAE3RSTlMA\n",
       "q1RmmUTNIjK7EInv3Xah18O1XjQ+CwAAAAlwSFlzAAAOxAAADsQBlSsOGwAAAo5JREFUWMO1l+ua\n",
       "oyAMhjmEQ8Jhdtf7v9cloKNFtE51+GFb+wgvX74kKMSzQ5tHpoHdlyeHemhWXL44fB6SbJu6u+0+\n",
       "pxQ6P06Jun6ELuzhzAbaRsTJpjg/3FGKROUi12jpu5Auip9TMpIrFEZqpAFlZkL4nsG6254Pn1KG\n",
       "+uErEJYR+dJUo6mwe/mcTydzhxKcsAMthWVaO8sc1F1IP9ElyoypDDugxBEl8A8929HeljIncYHS\n",
       "2ExDLSWRHFHm6vbIO0sx3KaU9oXKyZBd7imdpXHEPao1M7aUpoYIfL1P9+sQbilNLGtiXWFLOcjR\n",
       "QhltmtJGY3gxkq97Xi7XKjeL7rLKu+Ws3FBSZCdB6rW04+zRmo4s51pSsoxnaZgR5By7ZZsctt2s\n",
       "CTaUMNVboaP0zV9l4GvEkfRBvaZGqfJoiz5LRBYFZVFNYdgcJ4gNHelMy4jrAhtKwoNK5OHIdK5G\n",
       "nBH33RKaXcsSVP/TQQQA+PoDpQ84DmTyJ5Q08VN62uV4OqqX4A8qtp/cXCqXxKOgc+CbeZGftDeb\n",
       "I0MLatOyN6bELaVqWa/cK2XOB5RF5TyMuZnLsIuzCpRcQ18Do5xaaIqWf/8Ba1kNsjNJjpuIY6FR\n",
       "xanQ10urBpTQCjeOskMv00q/hJn9zfzfu9KkV7vQkh8lx7U72nTLcZmDdzL7npIkGtqdiZDLFtpp\n",
       "0AChLz/RzGcQbbEOJbw3q//gvKjGa33cBHzpkG+G1X3O8440kfBrJ5qzR9D714UPz0Rv6vPUSxPZ\n",
       "loZDvFYFF4BjGy6cmX38BUq96zcGtMpB13OcX5tNCT/4S51cPU+Z3GkjZF/+cPq5y+VuS9nfkPL5\n",
       "9x6hwsMT/sY75GPv411V+Q+4+RWsj0G/NAAAAABJRU5ErkJggg==\n",
       "\" style=\"display:inline;vertical-align:middle;\" /></a></span>"
      ],
      "text/plain": [
       "|- forall_{a in ComplexNonZero} (|a| in RealPos)"
      ]
     },
     "metadata": {},
     "output_type": "display_data"
    }
   ],
   "source": [
    "# abs value of a non-zero value is a positive real number\n",
    "abs_nonzero_closure"
   ]
  },
  {
   "cell_type": "code",
   "execution_count": 16,
   "metadata": {},
   "outputs": [
    {
     "data": {
      "text/html": [
       "<span style=\"font-size:20px;\"> <a class=\"ProveItLink\" href=\"proofs/abs_is_non_neg/thm_proof.ipynb\" style=\"text-decoration: none\">&nbsp;&#x22A2;&nbsp;&nbsp;</a><a class=\"ProveItLink\" href=\"../__pv_it/theorems/0c910be313edfb6680c9cba73afb7fb911772bd30/expr.ipynb\"><img src=\"data:image/png;base64,iVBORw0KGgoAAAANSUhEUgAAAH8AAAAVBAMAAACd/CwcAAAAMFBMVEX///8AAAAAAAAAAAAAAAAA\n",
       "AAAAAAAAAAAAAAAAAAAAAAAAAAAAAAAAAAAAAAAAAAAv3aB7AAAAD3RSTlMAq1RmmUTNIjK7EInv\n",
       "3XZ/CtNrAAAACXBIWXMAAA7EAAAOxAGVKw4bAAACHklEQVQ4y4WUwWvUQBTGv2a7m2S6G/YvKAEP\n",
       "e7LdQ/Gwal1YFUHEhV482S0KUk/pXZd4EIUe2kIPRkFHBEEqurSKiFB6a0sRehAqlJWtCApeiige\n",
       "BPHNJBnSzdhMCLzMy/tl3vfeC3DYMumKlqfze8hYnzHUjMzXOv9lusvCOKKPNzqHAN598eBUgTPi\n",
       "4Zoe8BR9AHZF+Qou2wGuA7dEqvN6QKMfgKVPse8k8BYYIxKnt1w9YC0FgLPLQ2MBGOUocuQojcJ/\n",
       "JGilAchFhJ/AnIsCRb/vdrf0gMFOCJhZbSdENK6K4jEBqGKIanAOuK8HCDwB8ut4xBNVyE/RGcw/\n",
       "BOghR4ecgVlOhjmLw+3QKrkS8LyKC8ky5qdjQAcGyWRzlae1FzTZgmc8CB+LTQm4COwmU5iSKRBg\n",
       "sgdrnzZ6SsPTPkW8AI4fAGyC/UqI+EGJOOoiTydAa1wUePyN7Cs8uY14AMIU2F/k9tNlDIBTHMY2\n",
       "mcvUTmzH+o1nwlGpqGTtngT8wECrkmqkE8BZOo9owRuk4WDdWsOEcNRqCiBqRCk8xNF6PdXKJZdt\n",
       "hJXGgC/Sdco4FgSBe/eSesfaloDH3+8M+6lhYuf3KK4U6//Ss2t8Vn6WRGTR7kdkjDNuxkbRm5vg\n",
       "ttDHfOVhNdodywQ0VHM0RlZg3pM6TS/6sYpe/zh35fLVH6tvjJeCoHkgz/mME9hZ/7Q2nPhr33T+\n",
       "r8A/APWPaGFvaMwAAAAASUVORK5CYII=\n",
       "\" style=\"display:inline;vertical-align:middle;\" /></a></span>"
      ],
      "text/plain": [
       "|- forall_{a in Complex} (|a| >= 0)"
      ]
     },
     "metadata": {},
     "output_type": "display_data"
    }
   ],
   "source": [
    "# abs value of any number is non-negative\n",
    "abs_is_non_neg"
   ]
  },
  {
   "cell_type": "code",
   "execution_count": 17,
   "metadata": {},
   "outputs": [
    {
     "data": {
      "text/html": [
       "<span style=\"font-size:20px;\"> <a class=\"ProveItLink\" href=\"proofs/abs_non_neg_elim/thm_proof.ipynb\" style=\"text-decoration: none\">&nbsp;&#x22A2;&nbsp;&nbsp;</a><a class=\"ProveItLink\" href=\"../__pv_it/theorems/de7f1f85b50f0f14614c489704dd5bd66a903a2a0/expr.ipynb\"><img src=\"data:image/png;base64,iVBORw0KGgoAAAANSUhEUgAAAJ8AAAAXBAMAAADn1oBmAAAAMFBMVEX///8AAAAAAAAAAAAAAAAA\n",
       "AAAAAAAAAAAAAAAAAAAAAAAAAAAAAAAAAAAAAAAAAAAv3aB7AAAAD3RSTlMAq1RmmUTNIjK7EInv\n",
       "3XZ/CtNrAAAACXBIWXMAAA7EAAAOxAGVKw4bAAACGklEQVQ4y2NgIAEUACGciV0BSYBPgWErjL0V\n",
       "q4o4IBYAMZSJMlCbgZCBfAYMDK4gRjox5nElEDSQIYuBoRFIsU8gxkAWA8IGmjAwsC1gYOBWIMZA\n",
       "HgbCBvIsYGAG2stGVBCqEWEgG9C0s3fvnibKQG+IOesertitgGEg1zup7k1AvwLj2IOBYRZCwgG3\n",
       "gckQAx345FguQAz0vQsCF8EBzPDwgS8DAzMw4goZ2AUQuhDR0xkApna/hglcAhvIXMD8i9EAw4Xm\n",
       "DPYLhBkYmA4wMHAu4A7AZiDXTlBUMT9ghQkdBRvIwcCSgCUMGxjcQBTHB6ChD5DjBDkBvQSGME8D\n",
       "w3cUA4FCD7BGyjkQwQp0IUOCHZB45/6kAGEglGf5gKF+AcMhFC8zMMQXcC3ACEMG1u8Mq4CuuwBk\n",
       "bgImb74CSTYFuIFwnk1B/wKGy1AD54ENXBkgw8CN4UKuqYwHGDYAQwikvwYYJ8wM8zgQXobxVk9l\n",
       "ABp4DqppI9hA/S4fhiAMA5l+LDnACnQDC9BQBsYGkNB3lDAE80okGEBe/gTV1As2cMk7JmcFTBf6\n",
       "PVAxAtK88PjlOMCOZCCYVyjBgBIpvA2Ec0otjFHDncCCMBDMW+gODs4HrLBUyuxA2EBneEnydN8r\n",
       "hIFg3iqIzO4nC2CKphM0EEuxha8gW0nQQM4Ckgxkf8DwAsZ+gVXFcwY8BnbOBAISax3K6y1MAAAG\n",
       "Op2JAMAlLAAAAABJRU5ErkJggg==\n",
       "\" style=\"display:inline;vertical-align:middle;\" /></a></span>"
      ],
      "text/plain": [
       "|- forall_{x | x >= 0} (|x| = x)"
      ]
     },
     "metadata": {},
     "output_type": "display_data"
    }
   ],
   "source": [
    "# we can eliminate the abs value wrapper around a non-negative real number\n",
    "abs_non_neg_elim"
   ]
  },
  {
   "cell_type": "code",
   "execution_count": 18,
   "metadata": {},
   "outputs": [
    {
     "data": {
      "text/html": [
       "<span style=\"font-size:20px;\"> <a class=\"ProveItLink\" href=\"proofs/triangle_inequality/thm_proof.ipynb\" style=\"text-decoration: none\">&nbsp;&#x22A2;&nbsp;&nbsp;</a><a class=\"ProveItLink\" href=\"../__pv_it/theorems/a55ee7f3e37c8c1ffc774ff2cdbc814bb081535a0/expr.ipynb\"><img src=\"data:image/png;base64,iVBORw0KGgoAAAANSUhEUgAAAPkAAAAWBAMAAADwcyf0AAAAMFBMVEX///8AAAAAAAAAAAAAAAAA\n",
       "AAAAAAAAAAAAAAAAAAAAAAAAAAAAAAAAAAAAAAAAAAAv3aB7AAAAD3RSTlMAq1RmmUTNIjK7EInv\n",
       "3XZ/CtNrAAAACXBIWXMAAA7EAAAOxAGVKw4bAAADIklEQVRIx72WTWgTQRTHX3bTJLvZfODBS6As\n",
       "CPYgyB6KYIQaiIIgaKAXD2KjHrSetuBRy3oQBBUjFDQqsqIIJWjiF3pRAiIIIhQtWNTI1kt6kp4U\n",
       "ehBn5u3sZrIfxosTHi878/7z252ZNzMAIxST/CJKOqwqHdGY9pwJEN2nWPI6PItqy9YCVd+9yuFG\n",
       "95m4I8RRK9LnLbH0bRBKV28thdGlTgyda/IGMNtLq0/EwdV6OB1SFQEgYS/3Ie7bueYUMDtHJ6IR\n",
       "R08aQ/QxA31BHwTIyzbz1SCdC8gz10wCsxTRZPU4ugZDdMlBP2MP0PNfEA7dIJ0LyDPXaDYzmbxX\n",
       "Knbat0bRXw4AWt94Yz2WzjUpA+19r/culr4f6elS3xE7O/pjEwfc++jNU4d1z6JD6FyTLaLtA7gR\n",
       "Sz+O9MOmsiF0pv602yYC7hzzl6LBKCw6SPc0ch1tDtJFLs3Mejm+MD7v/v3A6OprSC4JnUkboDkI\n",
       "SPj0HFtWGB2kexqpi6bYA4lRoq+w2qypV03pplv3htGT65Dr0JHt9b6SySIvnKxDoeNqT3sjr9Fh\n",
       "rWE0a/QFtJ5rMutokjOw6N4S22ORuIcAuwS61oC2+Cmk+xk9sOqQjtHBb/c0Y100qE9R9dRz+tm/\n",
       "V226BcHd8/4ujSPfdmC3uOZJ6h60AxmHI4/RQbqnkZbQ4DHZc9RPmV+0i8/5yiKNm5jwx+M20nXY\n",
       "LJkC3SKzG9htFIfRWXQInWvkBhqcoXNYydBhUAy5Pk3jymWf/ojRFUdaTgqdJQylIuy0JxmBplIN\n",
       "o4N0T0MTkxokLDpbebosNCtZ3NFsNvULh3z6ZVzz4y/m1sSMK1VDTpkMO0YwOiTjuCbnGittUymT\n",
       "gSuApl9kcWTVqTyHrIi9LvyEXYnd67g7C2i4Us0r03YLcvZOkoH03Hlqwis+oZWIUyacPhl7ynBX\n",
       "xfPIba9ufwKX9MwBB9LXWQbNLli88Rr87XbxoEfLCqtRzBFuF/RUHT5Z8ahrNZuiahH+5W6jNkag\n",
       "k1dkNjiidsTdzYG1yFuXFaia9yqHG91n4vrE9cVGGf53+QPgmgUHAeDiggAAAABJRU5ErkJggg==\n",
       "\" style=\"display:inline;vertical-align:middle;\" /></a></span>"
      ],
      "text/plain": [
       "|- forall_{a, b in Complex} (|a + b| <= (|a| + |b|))"
      ]
     },
     "metadata": {},
     "output_type": "display_data"
    }
   ],
   "source": [
    "# abs value version of a triangle inequality thm\n",
    "triangle_inequality"
   ]
  },
  {
   "cell_type": "markdown",
   "metadata": {},
   "source": [
    "## Demonstrations <a id='further_demonstrations'></a>"
   ]
  },
  {
   "cell_type": "markdown",
   "metadata": {},
   "source": [
    "<a id='demo01'></a><font size=4><b>1. Simplifying $|x+1|$ and Deducing Number Sets</b></font><br><br>\n",
    "<font size=3>Consider the very simple absolute value expression $|x+1|$, where the operand is a sum of a variable and known constant:</font>"
   ]
  },
  {
   "cell_type": "code",
   "execution_count": 19,
   "metadata": {},
   "outputs": [
    {
     "data": {
      "text/html": [
       "<strong id=\"demo_expr_01\">demo_expr_01:</strong> <a class=\"ProveItLink\" href=\"../__pv_it/demonstrations/c6e8dd775e1497e55bf6950c38dca48c360d7b1c0/expr.ipynb\"><img src=\"data:image/png;base64,iVBORw0KGgoAAAANSUhEUgAAADcAAAAVBAMAAAAQkWtIAAAAMFBMVEX///8AAAAAAAAAAAAAAAAA\n",
       "AAAAAAAAAAAAAAAAAAAAAAAAAAAAAAAAAAAAAAAAAAAv3aB7AAAAD3RSTlMAIolEdjIQq1SZ3WbN\n",
       "77uguLaDAAAACXBIWXMAAA7EAAAOxAGVKw4bAAAAjUlEQVQoz2MQYMAFGBkYlHFKMhngkGRdhlsy\n",
       "fc43TEnmDVAGCxZJDgfSJFPcU5UacElOYCnhXIBDkluA+xv7BhySrAycB0ACnKtWrb21alUBmoN4\n",
       "HfC41l6ALQGHZJ5BLQMTLp39YXMZLNAkmT5CJTNdOGY3oEqy1/6pxh1C2KIMHvB445MYSVeckiwB\n",
       "AEk+KyNVObnWAAAAAElFTkSuQmCC\n",
       "\" style=\"display:inline;vertical-align:middle;\" /></a><br>"
      ],
      "text/plain": [
       "<IPython.core.display.HTML object>"
      ]
     },
     "metadata": {},
     "output_type": "display_data"
    }
   ],
   "source": [
    "demo_expr_01 = Abs(Add(x, one))"
   ]
  },
  {
   "cell_type": "markdown",
   "metadata": {},
   "source": [
    "<font size=3>The general expression simplification() method can eliminate the absolute value wrapper under the right conditions &mdash; for example, when we know that $x$ is a positive real number:</font>"
   ]
  },
  {
   "cell_type": "code",
   "execution_count": 20,
   "metadata": {},
   "outputs": [
    {
     "data": {
      "text/html": [
       "<a class=\"ProveItLink\" href=\"../__pv_it/demonstrations/c6e8dd775e1497e55bf6950c38dca48c360d7b1c0/expr.ipynb\"><img src=\"data:image/png;base64,iVBORw0KGgoAAAANSUhEUgAAADcAAAAVBAMAAAAQkWtIAAAAMFBMVEX///8AAAAAAAAAAAAAAAAA\n",
       "AAAAAAAAAAAAAAAAAAAAAAAAAAAAAAAAAAAAAAAAAAAv3aB7AAAAD3RSTlMAIolEdjIQq1SZ3WbN\n",
       "77uguLaDAAAACXBIWXMAAA7EAAAOxAGVKw4bAAAAjUlEQVQoz2MQYMAFGBkYlHFKMhngkGRdhlsy\n",
       "fc43TEnmDVAGCxZJDgfSJFPcU5UacElOYCnhXIBDkluA+xv7BhySrAycB0ACnKtWrb21alUBmoN4\n",
       "HfC41l6ALQGHZJ5BLQMTLp39YXMZLNAkmT5CJTNdOGY3oEqy1/6pxh1C2KIMHvB445MYSVeckiwB\n",
       "AEk+KyNVObnWAAAAAElFTkSuQmCC\n",
       "\" style=\"display:inline;vertical-align:middle;\" /></a>"
      ],
      "text/plain": [
       "|x + 1|"
      ]
     },
     "metadata": {},
     "output_type": "display_data"
    }
   ],
   "source": [
    "demo_expr_01"
   ]
  },
  {
   "cell_type": "code",
   "execution_count": 21,
   "metadata": {},
   "outputs": [
    {
     "data": {
      "text/html": [
       "<span style=\"font-size:20px;\"><a class=\"ProveItLink\" href=\"../../number_sets/real_numbers/__pv_it/theorems/7697fc34c81296f04a039eeb9dd22e91165d63b70/expr.ipynb\"><img src=\"data:image/png;base64,iVBORw0KGgoAAAANSUhEUgAAAEAAAAATBAMAAADSXRa0AAAAMFBMVEX///8AAAAAAAAAAAAAAAAA\n",
       "AAAAAAAAAAAAAAAAAAAAAAAAAAAAAAAAAAAAAAAAAAAv3aB7AAAAD3RSTlMAEHarMolUmd1mIs3v\n",
       "RLtmgJDEAAAACXBIWXMAAA7EAAAOxAGVKw4bAAAA3UlEQVQoz2NgwAcKGAiAB+Qp4Nzz7nfPS3wm\n",
       "8HEZ8Fo+xKsggOGBMwP7u3fn3r3EpaCKG4sJeh0dG+AK+DAV3FZEMsFQGK5ASFkkNAFIc21EsoLl\n",
       "2S64ggImI/YGIM29AKHgdH+TACwkORdwfmSeAFKA5MjIiRvgPBYGdgjHpwMIHkCteDgTyXE8CmBK\n",
       "Dtmb7nwCCAX3FzCCeBzICti94D6Uu2DDwApiMCkgKWB8oAnj5TvWMFwDs7YhFBQwzOS7AOWJK7FV\n",
       "JoBZwm8FYLH5bwHf62+YcXD1RccGDEEANpdAkzJdUSAAAAAASUVORK5CYII=\n",
       "\" style=\"display:inline;vertical-align:middle;\" /></a> <a class=\"ProveItLink\" href=\"../__pv_it/demonstrations/1b950fdf347b4d54d91f907b7af1d625297a24780/proof.ipynb\" style=\"text-decoration: none\">&nbsp;&#x22A2;&nbsp;&nbsp;</a><a class=\"ProveItLink\" href=\"../__pv_it/demonstrations/aa50ecf4a8fa4c2e07ab7862950fdbcb4646d8bd0/expr.ipynb\"><img src=\"data:image/png;base64,iVBORw0KGgoAAAANSUhEUgAAAJMAAAAVBAMAAACwIsHjAAAAMFBMVEX///8AAAAAAAAAAAAAAAAA\n",
       "AAAAAAAAAAAAAAAAAAAAAAAAAAAAAAAAAAAAAAAAAAAv3aB7AAAAD3RSTlMAIolEdjIQq1SZ3WbN\n",
       "77uguLaDAAAACXBIWXMAAA7EAAAOxAGVKw4bAAABf0lEQVQ4y2MQYMAFGIkSggKQMco4ZZkMMIQ8\n",
       "cCo2wWkU6zJsRnEo4FTMsgGHUelzvmEzKocBp2KGY+hGWUNpFqxGzUbhMW9AUsywE92oFrxGXUD1\n",
       "rgOyUbwJpBjFcQCPUTwbQEaluKcqNRBhFCcw1NlcyoI0sBnFVAAyagJLCecCXEbNWgUCyxkgFjNw\n",
       "Mrg7zMJmFPcBoFHcAtzf2DcQ4SouoNM3MuxPqMZmFMcFoFGsDJyQQAA64C7UAViN4gUKBDDMgXh2\n",
       "1aq1t1atKoAbxfoBHOy8DkQFOy9Y4Ar2YGe+ADbKXoAtgYiwAnmQgfkjQxpWDy4AGpVnUMvARIyr\n",
       "+BwY2B6zX2BQwBrsD4BG9YfNZbBAM4rpIxajgPHN8TXzAnMDmlEgxaCUosyQ6cIxuwHVKPbaP9WY\n",
       "RrEuYGCb4tC5Ay2swIoZuAxwpHbshcxS7KkdDKRwZWfsRu3Enp1hWZ2Uoo8PT5H7gDSj2B7gVAyy\n",
       "xRWnLEsAhpAITsWODAwAMTFxyguOXYUAAAAASUVORK5CYII=\n",
       "\" style=\"display:inline;vertical-align:middle;\" /></a></span>"
      ],
      "text/plain": [
       "{x in RealPos} |- |x + 1| = (x + 1)"
      ]
     },
     "metadata": {},
     "output_type": "display_data"
    }
   ],
   "source": [
    "demo_expr_01.simplification(assumptions=[InSet(x, RealPos)])"
   ]
  },
  {
   "cell_type": "markdown",
   "metadata": {},
   "source": [
    "<font size=3>We can deduce that the absolute value expression is in a specific number set (given the right assumptions):</font>"
   ]
  },
  {
   "cell_type": "code",
   "execution_count": 22,
   "metadata": {},
   "outputs": [
    {
     "data": {
      "text/html": [
       "<span style=\"font-size:20px;\"><a class=\"ProveItLink\" href=\"../../ordering/__pv_it/theorems/d1323f34847310a404e8089c2c268d3c2eb89dbf0/expr.ipynb\"><img src=\"data:image/png;base64,iVBORw0KGgoAAAANSUhEUgAAADQAAAAQBAMAAACra0H4AAAAMFBMVEX///8AAAAAAAAAAAAAAAAA\n",
       "AAAAAAAAAAAAAAAAAAAAAAAAAAAAAAAAAAAAAAAAAAAv3aB7AAAAD3RSTlMAEHarMolUmd1mIs3v\n",
       "RLtmgJDEAAAACXBIWXMAAA7EAAAOxAGVKw4bAAAAyklEQVQY02NgwACce9797nnJgBXwcRnwWj7E\n",
       "IRXA8MAZp1QVN4qQXkfHBrgUH7LMbUUkXYbCQIaQskhoApDm2ohkIMuzXUBGAZMRewOQ5l6AkDrd\n",
       "3yQA9MUCzo/ME0BSSM6InAiylIWBHWw3g08HEDyAGvhwJliMRwFMySE73p1PAMS6v4ARRHMgS7F7\n",
       "AfXLXbBhYAUJMCkgSTE+0GRgyHesYbgGFtmGkCpgmMl3gUFcia0yASwi/FYAFvL/FvC9/oYcHFdf\n",
       "QAIKCgBACzQrtGfvLgAAAABJRU5ErkJggg==\n",
       "\" style=\"display:inline;vertical-align:middle;\" /></a> <a class=\"ProveItLink\" href=\"../__pv_it/demonstrations/4cf626afb62ccbef89d13cc30724d431c3ef5b270/proof.ipynb\" style=\"text-decoration: none\">&nbsp;&#x22A2;&nbsp;&nbsp;</a><a class=\"ProveItLink\" href=\"../__pv_it/demonstrations/f2cc84fd87debf892fbd251fcc1d3f24fd48dc5f0/expr.ipynb\"><img src=\"data:image/png;base64,iVBORw0KGgoAAAANSUhEUgAAAHYAAAAYBAMAAADddxQIAAAAMFBMVEX///8AAAAAAAAAAAAAAAAA\n",
       "AAAAAAAAAAAAAAAAAAAAAAAAAAAAAAAAAAAAAAAAAAAv3aB7AAAAD3RSTlMAIolEdjIQq1SZ3WbN\n",
       "77uguLaDAAAACXBIWXMAAA7EAAAOxAGVKw4bAAABiklEQVQ4y2NgIBXEGYApJScG0gGbXgOQ5HZg\n",
       "fkCGZga/DQwMvAEMHxkEcCphxCmzz4FBPoHhBoMyThVMBijcPffen7q3AcLeKxCfwLAah17WZRh6\n",
       "GR6IM5jvSwCxkh4zAPVewa43fc43LHqFGPhYC4AMyVIGkJt/oOplhrqJgQW7Xk6BAwwM4kCtkLBC\n",
       "0cvhgEWv36pVB+B6HzCkTwQrcGAuIKzXxg1hL3taAUMahKfkmQDSm+KeqtSASy/jMSQ3x/WgRClQ\n",
       "7wSWEs4FuPTywFU/kD31y40BVS+3APc39g049SKF1e4cUHp+BwQCUL2sDJzgsOBctWrtrVWrClD1\n",
       "xq4CggcQvXzZG9DsBQa4A+6wykOyl3XCMwy99gJsCbj0ciHH71Q5NL15BrUMTDjtZXFA0pvHsgFV\n",
       "b3/YXAYLNL1MH+HxewKuV5KBe8NjVL2ZLhyzG1D1stf+qYbpTX+cAMtHDxnenW9A8y9mukLOg0av\n",
       "IGkSE2DPC1jyLyG9+PI+lfW64pRhCSCgFQBc1nWqoNg1hwAAAABJRU5ErkJggg==\n",
       "\" style=\"display:inline;vertical-align:middle;\" /></a></span>"
      ],
      "text/plain": [
       "{x in Real} |- |x + 1| in RealNonNeg"
      ]
     },
     "metadata": {},
     "output_type": "display_data"
    }
   ],
   "source": [
    "demo_expr_01.deduce_in_number_set(RealNonNeg, assumptions=[InSet(x, Real)])"
   ]
  },
  {
   "cell_type": "markdown",
   "metadata": {},
   "source": [
    "<font size=3>Now when $x \\in \\mathbb{R}^{+}$, we should have $|x+1|>1$ and thus $|x+1| \\in \\mathbb{R}^{+}$. Interestingly, this requires a little more work before Prove-It agrees:</font>"
   ]
  },
  {
   "cell_type": "code",
   "execution_count": 23,
   "metadata": {},
   "outputs": [],
   "source": [
    "from proveit import InstantiationFailure\n",
    "try:\n",
    "    demo_expr_01.deduce_in_number_set(RealPos, assumptions=[InSet(x, RealPos)])\n",
    "except InstantiationFailure as _e:\n",
    "    print(\"SpecializationFailure: \" + str(_e))\n",
    "    "
   ]
  },
  {
   "cell_type": "markdown",
   "metadata": {},
   "source": [
    "<font size=3>We could include the information the system seems to want, <i>i.e.</i>, that $x+1 \\ne 0$, and Prove-It is happy:</font>"
   ]
  },
  {
   "cell_type": "code",
   "execution_count": 24,
   "metadata": {},
   "outputs": [
    {
     "data": {
      "text/html": [
       "<span style=\"font-size:20px;\"><a class=\"ProveItLink\" href=\"../../number_sets/real_numbers/__pv_it/theorems/7697fc34c81296f04a039eeb9dd22e91165d63b70/expr.ipynb\"><img src=\"data:image/png;base64,iVBORw0KGgoAAAANSUhEUgAAAEAAAAATBAMAAADSXRa0AAAAMFBMVEX///8AAAAAAAAAAAAAAAAA\n",
       "AAAAAAAAAAAAAAAAAAAAAAAAAAAAAAAAAAAAAAAAAAAv3aB7AAAAD3RSTlMAEHarMolUmd1mIs3v\n",
       "RLtmgJDEAAAACXBIWXMAAA7EAAAOxAGVKw4bAAAA3UlEQVQoz2NgwAcKGAiAB+Qp4Nzz7nfPS3wm\n",
       "8HEZ8Fo+xKsggOGBMwP7u3fn3r3EpaCKG4sJeh0dG+AK+DAV3FZEMsFQGK5ASFkkNAFIc21EsoLl\n",
       "2S64ggImI/YGIM29AKHgdH+TACwkORdwfmSeAFKA5MjIiRvgPBYGdgjHpwMIHkCteDgTyXE8CmBK\n",
       "Dtmb7nwCCAX3FzCCeBzICti94D6Uu2DDwApiMCkgKWB8oAnj5TvWMFwDs7YhFBQwzOS7AOWJK7FV\n",
       "JoBZwm8FYLH5bwHf62+YcXD1RccGDEEANpdAkzJdUSAAAAAASUVORK5CYII=\n",
       "\" style=\"display:inline;vertical-align:middle;\" /></a> <a class=\"ProveItLink\" href=\"../__pv_it/demonstrations/a66cbf007569a545c3e8394e613366a90f0bc0ea0/proof.ipynb\" style=\"text-decoration: none\">&nbsp;&#x22A2;&nbsp;&nbsp;</a><a class=\"ProveItLink\" href=\"../__pv_it/demonstrations/50687973e2ff86b197fc4aadf3a68fcf67f156ab0/expr.ipynb\"><img src=\"data:image/png;base64,iVBORw0KGgoAAAANSUhEUgAAAG4AAAAXBAMAAAAYWGfBAAAAMFBMVEX///8AAAAAAAAAAAAAAAAA\n",
       "AAAAAAAAAAAAAAAAAAAAAAAAAAAAAAAAAAAAAAAAAAAv3aB7AAAAD3RSTlMAIolEdjIQq1SZ3WbN\n",
       "77uguLaDAAAACXBIWXMAAA7EAAAOxAGVKw4bAAABPklEQVQ4y2NgIANMYCAPPABiAZyyjHj1KeOU\n",
       "ZTJA4XKfffdn7WsC+liXYehj4GMsYK5+hldf+pxv2PQpMDwIZ+B89+7eu9eo+pg3QBksOPRN5MFq\n",
       "H4cDFn1+q1YdgOvjI1qfjRuSfWXpSPpS3FOVGnDpYzyG5E7WFweR9E1gKeFcgEsfjwBC3531SxJg\n",
       "6UWZgVuA+xv7Bpz6kMJFe9sBOE+ZgZWBE8zlXLVq7a1VqwpQ9cWuAoIHUHc+242kj4GB1wF3uOQh\n",
       "x0MkXwKyPnsBtgRc+riQ9XEGPkDoyzOoZWDCaR+LA5I+tgfeCH39YXMZLND0MX2Ex98JhL4JDLv5\n",
       "DOD6Ml04Zjeg6mOv/VMN05f+OAGWH/4J8L35geQ/zPSCnI+MXq06gJn0sadrLPkPnz58+ZZK+lxx\n",
       "yrAE4NEGAGoxYayBLhBDAAAAAElFTkSuQmCC\n",
       "\" style=\"display:inline;vertical-align:middle;\" /></a></span>"
      ],
      "text/plain": [
       "{x in RealPos} |- |x + 1| in RealPos"
      ]
     },
     "metadata": {},
     "output_type": "display_data"
    }
   ],
   "source": [
    "demo_expr_01.deduce_in_number_set(\n",
    "    RealPos,\n",
    "    assumptions=[InSet(x, RealPos), NotEquals(Add(x, one), zero)])"
   ]
  },
  {
   "cell_type": "markdown",
   "metadata": {},
   "source": [
    "<font size=3>But that seems a little clunky, with that additional (and redundant) assumption appearing in the result. Instead we can nudge Prove-It by first having it prove that the operand $x+1$ is itself a positive real value, and then it has no problem proving that the absolute value expression $|x+1|$ itself is also a positive real value:</font>"
   ]
  },
  {
   "cell_type": "code",
   "execution_count": 25,
   "metadata": {},
   "outputs": [
    {
     "data": {
      "text/html": [
       "<span style=\"font-size:20px;\"><a class=\"ProveItLink\" href=\"../../number_sets/real_numbers/__pv_it/theorems/7697fc34c81296f04a039eeb9dd22e91165d63b70/expr.ipynb\"><img src=\"data:image/png;base64,iVBORw0KGgoAAAANSUhEUgAAAEAAAAATBAMAAADSXRa0AAAAMFBMVEX///8AAAAAAAAAAAAAAAAA\n",
       "AAAAAAAAAAAAAAAAAAAAAAAAAAAAAAAAAAAAAAAAAAAv3aB7AAAAD3RSTlMAEHarMolUmd1mIs3v\n",
       "RLtmgJDEAAAACXBIWXMAAA7EAAAOxAGVKw4bAAAA3UlEQVQoz2NgwAcKGAiAB+Qp4Nzz7nfPS3wm\n",
       "8HEZ8Fo+xKsggOGBMwP7u3fn3r3EpaCKG4sJeh0dG+AK+DAV3FZEMsFQGK5ASFkkNAFIc21EsoLl\n",
       "2S64ggImI/YGIM29AKHgdH+TACwkORdwfmSeAFKA5MjIiRvgPBYGdgjHpwMIHkCteDgTyXE8CmBK\n",
       "Dtmb7nwCCAX3FzCCeBzICti94D6Uu2DDwApiMCkgKWB8oAnj5TvWMFwDs7YhFBQwzOS7AOWJK7FV\n",
       "JoBZwm8FYLH5bwHf62+YcXD1RccGDEEANpdAkzJdUSAAAAAASUVORK5CYII=\n",
       "\" style=\"display:inline;vertical-align:middle;\" /></a> <a class=\"ProveItLink\" href=\"../__pv_it/demonstrations/a0385d850ab9f8ebbfd95cb1ae6c6d5b66301df70/proof.ipynb\" style=\"text-decoration: none\">&nbsp;&#x22A2;&nbsp;&nbsp;</a><a class=\"ProveItLink\" href=\"../__pv_it/demonstrations/d1567a1f5f8a4a0bd74c3857effa9d14e998655e0/expr.ipynb\"><img src=\"data:image/png;base64,iVBORw0KGgoAAAANSUhEUgAAAHIAAAAXBAMAAAAlyganAAAAMFBMVEX///8AAAAAAAAAAAAAAAAA\n",
       "AAAAAAAAAAAAAAAAAAAAAAAAAAAAAAAAAAAAAAAAAAAv3aB7AAAAD3RSTlMAInZUiRDNmWbv3US7\n",
       "qzJazP2FAAAACXBIWXMAAA7EAAAOxAGVKw4bAAABk0lEQVQ4y2NgIAsUMJALDoBJAVzSAgR0Mhng\n",
       "kt6ExufIPPNt5QmEThOsuviWAs1sQBPkYbzAfeMoTCdrAjaNsWVfgWQqhk4HhgNvGdjPnJlz5gQD\n",
       "O4rB3DAeE0hnOxadhWwwOzlR5JgVkHVyBkA4OqtWJcB18sB0muHRyQZxwTZVJDuvxsJ0lgBxkG6c\n",
       "iwEWnSwXQEzGVCTX8h1OhOnMAKUIpkvsC7Do5AC7kU0AoXPa+kUBsDS0GKhAgOMrbwMWncwTwDqR\n",
       "QsijFREVs4Fxx8AO5rOvWrVy1qpVF+A6+T6AmC9XAcEBqGuPdiDrBAaiAtYQ4gbbGYMcK895AmC8\n",
       "xSBivwBrADbXgj3PhayT/eEBGO8Q0NANNxlYsNnJAUnYCkg6WQ9owHi+DAz2TysZNqPpZPkI8rgD\n",
       "mJ2M0FnA0MGzAcp7xcAQrsRcYYCqk/fmtxtAd0IUxZ4OgOWVPwI8xz5DdXI9wJqGwEAKSm85tQpL\n",
       "vuAowJriwaACf8FwEKcM4wH8OmNwyvAI4NfJqIBLRhGvPgAXlWqjJpYOmQAAAABJRU5ErkJggg==\n",
       "\" style=\"display:inline;vertical-align:middle;\" /></a></span>"
      ],
      "text/plain": [
       "{x in RealPos} |- (x + 1) in RealPos"
      ]
     },
     "metadata": {},
     "output_type": "display_data"
    }
   ],
   "source": [
    "InSet(Add(x, one), RealPos).prove(assumptions=[InSet(x, RealPos)])"
   ]
  },
  {
   "cell_type": "code",
   "execution_count": 26,
   "metadata": {},
   "outputs": [
    {
     "data": {
      "text/html": [
       "<span style=\"font-size:20px;\"><a class=\"ProveItLink\" href=\"../../number_sets/real_numbers/__pv_it/theorems/7697fc34c81296f04a039eeb9dd22e91165d63b70/expr.ipynb\"><img src=\"data:image/png;base64,iVBORw0KGgoAAAANSUhEUgAAAEAAAAATBAMAAADSXRa0AAAAMFBMVEX///8AAAAAAAAAAAAAAAAA\n",
       "AAAAAAAAAAAAAAAAAAAAAAAAAAAAAAAAAAAAAAAAAAAv3aB7AAAAD3RSTlMAEHarMolUmd1mIs3v\n",
       "RLtmgJDEAAAACXBIWXMAAA7EAAAOxAGVKw4bAAAA3UlEQVQoz2NgwAcKGAiAB+Qp4Nzz7nfPS3wm\n",
       "8HEZ8Fo+xKsggOGBMwP7u3fn3r3EpaCKG4sJeh0dG+AK+DAV3FZEMsFQGK5ASFkkNAFIc21EsoLl\n",
       "2S64ggImI/YGIM29AKHgdH+TACwkORdwfmSeAFKA5MjIiRvgPBYGdgjHpwMIHkCteDgTyXE8CmBK\n",
       "Dtmb7nwCCAX3FzCCeBzICti94D6Uu2DDwApiMCkgKWB8oAnj5TvWMFwDs7YhFBQwzOS7AOWJK7FV\n",
       "JoBZwm8FYLH5bwHf62+YcXD1RccGDEEANpdAkzJdUSAAAAAASUVORK5CYII=\n",
       "\" style=\"display:inline;vertical-align:middle;\" /></a> <a class=\"ProveItLink\" href=\"../__pv_it/demonstrations/a66cbf007569a545c3e8394e613366a90f0bc0ea0/proof.ipynb\" style=\"text-decoration: none\">&nbsp;&#x22A2;&nbsp;&nbsp;</a><a class=\"ProveItLink\" href=\"../__pv_it/demonstrations/50687973e2ff86b197fc4aadf3a68fcf67f156ab0/expr.ipynb\"><img src=\"data:image/png;base64,iVBORw0KGgoAAAANSUhEUgAAAG4AAAAXBAMAAAAYWGfBAAAAMFBMVEX///8AAAAAAAAAAAAAAAAA\n",
       "AAAAAAAAAAAAAAAAAAAAAAAAAAAAAAAAAAAAAAAAAAAv3aB7AAAAD3RSTlMAIolEdjIQq1SZ3WbN\n",
       "77uguLaDAAAACXBIWXMAAA7EAAAOxAGVKw4bAAABPklEQVQ4y2NgIANMYCAPPABiAZyyjHj1KeOU\n",
       "ZTJA4XKfffdn7WsC+liXYehj4GMsYK5+hldf+pxv2PQpMDwIZ+B89+7eu9eo+pg3QBksOPRN5MFq\n",
       "H4cDFn1+q1YdgOvjI1qfjRuSfWXpSPpS3FOVGnDpYzyG5E7WFweR9E1gKeFcgEsfjwBC3531SxJg\n",
       "6UWZgVuA+xv7Bpz6kMJFe9sBOE+ZgZWBE8zlXLVq7a1VqwpQ9cWuAoIHUHc+242kj4GB1wF3uOQh\n",
       "x0MkXwKyPnsBtgRc+riQ9XEGPkDoyzOoZWDCaR+LA5I+tgfeCH39YXMZLND0MX2Ex98JhL4JDLv5\n",
       "DOD6Ml04Zjeg6mOv/VMN05f+OAGWH/4J8L35geQ/zPSCnI+MXq06gJn0sadrLPkPnz58+ZZK+lxx\n",
       "yrAE4NEGAGoxYayBLhBDAAAAAElFTkSuQmCC\n",
       "\" style=\"display:inline;vertical-align:middle;\" /></a></span>"
      ],
      "text/plain": [
       "{x in RealPos} |- |x + 1| in RealPos"
      ]
     },
     "metadata": {},
     "output_type": "display_data"
    }
   ],
   "source": [
    "InSet(demo_expr_01, RealPos).prove(assumptions=[InSet(x, RealPos)])"
   ]
  },
  {
   "cell_type": "markdown",
   "metadata": {},
   "source": [
    "<a id='demo02'></a><font size=4><b>2. Simplifying $|a+b+2+3|$ and Deducing Numbers Sets</b></font><br><br>\n",
    "<font size=3>Now consider a simple absolute value expression, where the operand is a sum of variables and known constants: $|a+b+2+3|$</font>"
   ]
  },
  {
   "cell_type": "code",
   "execution_count": 27,
   "metadata": {},
   "outputs": [
    {
     "data": {
      "text/html": [
       "<strong id=\"demo_expr_02\">demo_expr_02:</strong> <a class=\"ProveItLink\" href=\"../__pv_it/demonstrations/fa51483b5697a875cef84f31600e4cd45d515e240/expr.ipynb\"><img src=\"data:image/png;base64,iVBORw0KGgoAAAANSUhEUgAAAHwAAAAVBAMAAAB2y5cfAAAAMFBMVEX///8AAAAAAAAAAAAAAAAA\n",
       "AAAAAAAAAAAAAAAAAAAAAAAAAAAAAAAAAAAAAAAAAAAv3aB7AAAAD3RSTlMAIolEdjKr77sQZpnd\n",
       "VM0QaojEAAAACXBIWXMAAA7EAAAOxAGVKw4bAAABYElEQVQ4y2MQYKAACDAoU6JdGat2zvYDaCLS\n",
       "+1rRRIS0m3FpZ+DbgMpnbGDQN0C1YQPD/Qvo2q2gNP8FVAE2AQb2AhQRlr8M8x+ga78Cpe0noAqw\n",
       "/2Rg+4giwlzMwI9Tuw6aANsBBravqEoYGO4vgGgXUxFB0/7MJRddMc8HNBHmU5CgYy5k6J+AIsf5\n",
       "b8J8ATTt8Q6o2lndUiHapy9g2INqO+9PBnYHNO3HGDAcDwn5/QwMh0DcPWfOlJ85A1LG/YCBXwFZ\n",
       "ACjUgKoEEp4g7RUMnJ9RjeZRYLC/gGrXMrTAZA1g4PgL0s75hYHrA6ocMNr3T0DRzqvAIIiq5CdM\n",
       "+18GtgcXUeUCOKtQfRrEwOCJmhISYI5vYbizYQNqNC/gQBVgPL179wEUEa4FsHif5hSYEoAacUm7\n",
       "0ALj////D1DdY70bM8tcQc87GAKoIjiyDG4BVBFlWhQXJGh3pUS7KwDSkXod8MyGSAAAAABJRU5E\n",
       "rkJggg==\n",
       "\" style=\"display:inline;vertical-align:middle;\" /></a><br>"
      ],
      "text/plain": [
       "<IPython.core.display.HTML object>"
      ]
     },
     "metadata": {},
     "output_type": "display_data"
    }
   ],
   "source": [
    "demo_expr_02 = Abs(Add(a, b, two, three))"
   ]
  },
  {
   "cell_type": "markdown",
   "metadata": {},
   "source": [
    "<font size=3>We can obtain simplification equivalences, depending on our assumptions about the nature of the variables $a$ and $b$. If $a$ and $b$ are complex numbers or real numbers, for example, Prove-It simplifies the $2+3$ portion to $5$ and keeps the absolute value:</font>"
   ]
  },
  {
   "cell_type": "code",
   "execution_count": 28,
   "metadata": {},
   "outputs": [
    {
     "data": {
      "text/html": [
       "<span style=\"font-size:20px;\"><a class=\"ProveItLink\" href=\"../__pv_it/theorems/e9f87a0977d5044ea8daf1040d2f219396bb3d5b0/expr.ipynb\"><img src=\"data:image/png;base64,iVBORw0KGgoAAAANSUhEUgAAADMAAAAQBAMAAABJt1qBAAAAMFBMVEX///8AAAAAAAAAAAAAAAAA\n",
       "AAAAAAAAAAAAAAAAAAAAAAAAAAAAAAAAAAAAAAAAAAAv3aB7AAAAD3RSTlMAIquJdkTvuxBmmd1U\n",
       "zTKBpmoTAAAACXBIWXMAAA7EAAAOxAGVKw4bAAAA0ElEQVQY02NgwAKaq+86PsYmwcCiNoFjfRVW\n",
       "qSXBDAycWKX4FlQASS0UMffduy8AKaaGAiDZiSwT6wGh2RkXQEUYlR0dwPQNqIAQnwGUFSbA/gNE\n",
       "8wpABR6zToAwODIZuDaApWAGS7E6QBhcHxi4wQY82w0EBWC7oAayFTD0B4AY7TBd7GAXAkG/A8N8\n",
       "MIMbJsUK9hcrUOoAgy4PyAUsDvDQCAISa4HaHXh2cYFF7sDDsHYhx2mg3zhU7IT8wCJNpQ2wkC/7\n",
       "vRA18IKrwQEFAwCqvi28/xxvKQAAAABJRU5ErkJggg==\n",
       "\" style=\"display:inline;vertical-align:middle;\" /></a>, <a class=\"ProveItLink\" href=\"../__pv_it/theorems/a259ec76dfb0a5be60b7c83d797520fa82c1dba60/expr.ipynb\"><img src=\"data:image/png;base64,iVBORw0KGgoAAAANSUhEUgAAADEAAAAQBAMAAABNQoq8AAAAMFBMVEX///8AAAAAAAAAAAAAAAAA\n",
       "AAAAAAAAAAAAAAAAAAAAAAAAAAAAAAAAAAAAAAAAAAAv3aB7AAAAD3RSTlMAELvv3c2ZVESJq3Yi\n",
       "MmZ3LnoBAAAACXBIWXMAAA7EAAAOxAGVKw4bAAAA2UlEQVQY02NgwASSKqF7bjIwMCo7oElwL37A\n",
       "mK8GZLAmoMlkdzIw8IFk+AtQJXgTFIHkMiDuF4AKbXJxCQBSXAIKQFIOiKdAJVo3QmgmHpjxUbuX\n",
       "gyieQCj/FO8ECIPxq4D8AZBDDkBlbnI8gDDYPzIwbwDJwFxwjGMDhMEWwMAP0n7ZBQgUwPZATWOZ\n",
       "wNAPcrcQTA8T2G0Q7+SD3M0Ck+EA+4cDKHOB0Q4cJhvgYdAFJFKBHnvABHF/ODzcVHMYS4BijCvz\n",
       "IAJSGrDAkFT+koMSYJ0q4NCBAQD6uylQEVfDpgAAAABJRU5ErkJggg==\n",
       "\" style=\"display:inline;vertical-align:middle;\" /></a> <a class=\"ProveItLink\" href=\"../__pv_it/demonstrations/6afde56bd5f2a12bae077c35e0e4d0e499b0e6ef0/proof.ipynb\" style=\"text-decoration: none\">&nbsp;&#x22A2;&nbsp;&nbsp;</a><a class=\"ProveItLink\" href=\"../__pv_it/demonstrations/a22e5b3cb91d1b2d6e3d9454c4032e2c0203352f0/expr.ipynb\"><img src=\"data:image/png;base64,iVBORw0KGgoAAAANSUhEUgAAAPUAAAAVBAMAAABs27XUAAAAMFBMVEX///8AAAAAAAAAAAAAAAAA\n",
       "AAAAAAAAAAAAAAAAAAAAAAAAAAAAAAAAAAAAAAAAAAAv3aB7AAAAD3RSTlMAIolEdjKr77sQZpnd\n",
       "VM0QaojEAAAACXBIWXMAAA7EAAAOxAGVKw4bAAAB6ElEQVRIx82Wvy8DYRjHv1ctrWvlJpEwNITF\n",
       "0q2LoQZWN7AjjQHRRfxKk9oJZ0FiaAeTxSo5QQxEXNLGP2AlDChDJW1d24t4nt7LKx246e5z7/v9\n",
       "vHfve8970NDAoXCg/apvTyNuT4QBuTQfsFXp69p6N8kHad7pjHQfRSTddWktpccroRsP7LoDnjwl\n",
       "ewgVZZ+bpwVT50aduynjnBQZmAAWKRnJBUo/uIVpzc58kdahmNOowEDKQEIjJBrBT25h2rduzxkD\n",
       "s0BCJ8Q+e5d016V9cSuTgzF6sy0+nGMmZMHIQMbVLZHWvN+nO+6o5i/Q1un7wDMz+V6Ze3RKd9zH\n",
       "VuW4cNwSaX5DydfcgRWoZ7T1rYF55g6O8+d2X+dyaVivudUnBMP2pWpZl0nLqjhOgBcCgCOAEXsB\n",
       "urjl0nCqVd0tq0hH6EjP0VSkI20dZ+tlDNjMubhl0jZst151p2M4ZMFFqAXqvoFCv7Gy8ekm8y2T\n",
       "Zte5RO2dp3OYC9HgN+xkCPCF4TUIWRC8c5k0e06Wam5/LHSt0pFOY42CLtM8puRA8H3LpHXCu+ys\n",
       "83hv+xC9ud2foSBbLpdYsTLd9xKZNMWcMYR1TQwokatrwr7u1V8IKJHcS0R9/+Lf4T+4hxpxe9nP\n",
       "zG/SvPoHjCe9pUERdp0AAAAASUVORK5CYII=\n",
       "\" style=\"display:inline;vertical-align:middle;\" /></a></span>"
      ],
      "text/plain": [
       "{a in Complex, b in Complex} |- |a + b + 2 + 3| = |a + b + 5|"
      ]
     },
     "metadata": {},
     "output_type": "display_data"
    }
   ],
   "source": [
    "# variables a and b are complex, notated as a tuple\n",
    "demo_expr_02.simplification(assumptions=[InSet(a, Complex), InSet(b, Complex)])"
   ]
  },
  {
   "cell_type": "code",
   "execution_count": 29,
   "metadata": {},
   "outputs": [
    {
     "data": {
      "text/html": [
       "<span style=\"font-size:20px;\"><a class=\"ProveItLink\" href=\"../../ordering/__pv_it/theorems/4aa8d696b1f407d6126de9f51a052e8d90e0848c0/expr.ipynb\"><img src=\"data:image/png;base64,iVBORw0KGgoAAAANSUhEUgAAADMAAAAQBAMAAABJt1qBAAAAMFBMVEX///8AAAAAAAAAAAAAAAAA\n",
       "AAAAAAAAAAAAAAAAAAAAAAAAAAAAAAAAAAAAAAAAAAAv3aB7AAAAD3RSTlMAIquJdkTvuxBmmd1U\n",
       "zTKBpmoTAAAACXBIWXMAAA7EAAAOxAGVKw4bAAAAzElEQVQY02NgwABz0+tvp09gwAoKhBiCpjdg\n",
       "lxJmYOdTwCXFJXABRch99+4LcKkCZJlYD4Qupg6QgYzKjg4gAcYbSAY+PysAZIQJsP8ACfAKwKXE\n",
       "bv8GmcCRycC1ASyF5IyZvSCa6wMDtwGI8Ww3EBRApNg7QV5mK2DoDwAJtCPp4ltQAaT7HRjmgwW4\n",
       "kf21ThwkdYBBlwfkAhYHJKl2FqCJ7A48u7jAInfgUlIMnBNKgS5UsRPyA4s0lTbAQr6Qofz+AeTg\n",
       "CK7ejRxyAISENKeL/c93AAAAAElFTkSuQmCC\n",
       "\" style=\"display:inline;vertical-align:middle;\" /></a>, <a class=\"ProveItLink\" href=\"../../ordering/__pv_it/theorems/6e5cad5b2984ed0d75bd47bd0c542ec447a4f3570/expr.ipynb\"><img src=\"data:image/png;base64,iVBORw0KGgoAAAANSUhEUgAAADEAAAAQBAMAAABNQoq8AAAAMFBMVEX///8AAAAAAAAAAAAAAAAA\n",
       "AAAAAAAAAAAAAAAAAAAAAAAAAAAAAAAAAAAAAAAAAAAv3aB7AAAAD3RSTlMAELvv3c2ZVESJq3Yi\n",
       "MmZ3LnoBAAAACXBIWXMAAA7EAAAOxAGVKw4bAAAA1ElEQVQY02NgQAdPjfRDjB4AGYzKDmhSCqcY\n",
       "uh4JABmsCegyJxmYeBcAGfwFmDJsBwKAjH4BqMgmF5cAuIwCkDEFKtG6EaGHSxBkWtTu5SA+TyCS\n",
       "aZdKDwDd9lVA/gDIIQfgModDvoD0s39kYN4AkkFywTtREM0WwMA/AUhfdgECBYgMkxzIpywTGPpB\n",
       "7hZC0sOboAjxTj7I3SzI/sk9BJK5wGgH4nNvQJIR4gYax/WACRI84XCZYwx8DzSArl6ZBxGQ0hCA\n",
       "hbUOg1I8cph1qkBCBwoAxe43BugJR6MAAAAASUVORK5CYII=\n",
       "\" style=\"display:inline;vertical-align:middle;\" /></a> <a class=\"ProveItLink\" href=\"../__pv_it/demonstrations/2e70e7efbb96eb96405fc19f0191de7676c3e0160/proof.ipynb\" style=\"text-decoration: none\">&nbsp;&#x22A2;&nbsp;&nbsp;</a><a class=\"ProveItLink\" href=\"../__pv_it/demonstrations/a22e5b3cb91d1b2d6e3d9454c4032e2c0203352f0/expr.ipynb\"><img src=\"data:image/png;base64,iVBORw0KGgoAAAANSUhEUgAAAPUAAAAVBAMAAABs27XUAAAAMFBMVEX///8AAAAAAAAAAAAAAAAA\n",
       "AAAAAAAAAAAAAAAAAAAAAAAAAAAAAAAAAAAAAAAAAAAv3aB7AAAAD3RSTlMAIolEdjKr77sQZpnd\n",
       "VM0QaojEAAAACXBIWXMAAA7EAAAOxAGVKw4bAAAB6ElEQVRIx82Wvy8DYRjHv1ctrWvlJpEwNITF\n",
       "0q2LoQZWN7AjjQHRRfxKk9oJZ0FiaAeTxSo5QQxEXNLGP2AlDChDJW1d24t4nt7LKx246e5z7/v9\n",
       "vHfve8970NDAoXCg/apvTyNuT4QBuTQfsFXp69p6N8kHad7pjHQfRSTddWktpccroRsP7LoDnjwl\n",
       "ewgVZZ+bpwVT50aduynjnBQZmAAWKRnJBUo/uIVpzc58kdahmNOowEDKQEIjJBrBT25h2rduzxkD\n",
       "s0BCJ8Q+e5d016V9cSuTgzF6sy0+nGMmZMHIQMbVLZHWvN+nO+6o5i/Q1un7wDMz+V6Ze3RKd9zH\n",
       "VuW4cNwSaX5DydfcgRWoZ7T1rYF55g6O8+d2X+dyaVivudUnBMP2pWpZl0nLqjhOgBcCgCOAEXsB\n",
       "urjl0nCqVd0tq0hH6EjP0VSkI20dZ+tlDNjMubhl0jZst151p2M4ZMFFqAXqvoFCv7Gy8ekm8y2T\n",
       "Zte5RO2dp3OYC9HgN+xkCPCF4TUIWRC8c5k0e06Wam5/LHSt0pFOY42CLtM8puRA8H3LpHXCu+ys\n",
       "83hv+xC9ud2foSBbLpdYsTLd9xKZNMWcMYR1TQwokatrwr7u1V8IKJHcS0R9/+Lf4T+4hxpxe9nP\n",
       "zG/SvPoHjCe9pUERdp0AAAAASUVORK5CYII=\n",
       "\" style=\"display:inline;vertical-align:middle;\" /></a></span>"
      ],
      "text/plain": [
       "{a in Real, b in Real} |- |a + b + 2 + 3| = |a + b + 5|"
      ]
     },
     "metadata": {},
     "output_type": "display_data"
    }
   ],
   "source": [
    "# variables a and b are real, notated individually\n",
    "demo_expr_02.simplification(assumptions=[InSet(a, Real), InSet(b, Real)])"
   ]
  },
  {
   "cell_type": "markdown",
   "metadata": {},
   "source": [
    "<font size=3>We can simplify further if we know that $a$ and $b$ are non-negative reals, with `simplification()` combining the numerical constants *and* removing the absolute value:</font>"
   ]
  },
  {
   "cell_type": "code",
   "execution_count": 30,
   "metadata": {},
   "outputs": [
    {
     "data": {
      "text/html": [
       "<span style=\"font-size:20px;\"><a class=\"ProveItLink\" href=\"../__pv_it/demonstrations/4a4701c918ed0b49c63799c553f955d19a924f1a0/expr.ipynb\"><img src=\"data:image/png;base64,iVBORw0KGgoAAAANSUhEUgAAAEgAAAAUBAMAAADcj2b4AAAAMFBMVEX///8AAAAAAAAAAAAAAAAA\n",
       "AAAAAAAAAAAAAAAAAAAAAAAAAAAAAAAAAAAAAAAAAAAv3aB7AAAAD3RSTlMAIquJdkTvuxBmmd1U\n",
       "zTKBpmoTAAAACXBIWXMAAA7EAAAOxAGVKw4bAAABK0lEQVQoz2NgwAmeB4ApY2cGPIDD/ACQ5HRg\n",
       "LcCnisF9AgMD2wOGj3gVMUx3YJBvYMjBIjM3vf52+gQIe5rA+waGndj0FwgxBE1vALGaSxmAilKw\n",
       "KhJmYOdTADKk9BhA1v3BoYhL4AIDgxBQDYbD3XfvvgBXVMDQtBDEYXFgVUBSE+uBMImpQ4GhA8Iz\n",
       "9gI6j1HZ0QHEYbyBZN3zswIoLggTYP8BonnhwgVit397oAZ+JgPXBrAiJIfP7AXFXTkQQHRyfWDg\n",
       "NgAxnu0GggKIIvbOCSgmsRUw9IOjux3JJL4FFSiK+h0Y5oMZ3MjhtE4cVdEBBl0eAXCAIClqZ0Gx\n",
       "j92BZxcXmHUHrkiKgXNCKYrvVOyE/MCsptIGWCooZCi/fwB76gmuhkQLBgAA7rpMGB8itmIAAAAA\n",
       "SUVORK5CYII=\n",
       "\" style=\"display:inline;vertical-align:middle;\" /></a>, <a class=\"ProveItLink\" href=\"../../addition/__pv_it/theorems/5a49c1d91f28aca05c3a7748e24771596ea841e40/expr.ipynb\"><img src=\"data:image/png;base64,iVBORw0KGgoAAAANSUhEUgAAAEYAAAAUBAMAAADCRlZLAAAAMFBMVEX///8AAAAAAAAAAAAAAAAA\n",
       "AAAAAAAAAAAAAAAAAAAAAAAAAAAAAAAAAAAAAAAAAAAv3aB7AAAAD3RSTlMAELvv3c2ZVESJq3Yi\n",
       "MmZ3LnoBAAAACXBIWXMAAA7EAAAOxAGVKw4bAAABNklEQVQoz2NgwAUuNYCpmTsZcAPGSQVAkm8D\n",
       "hwIeRQybHjAwMF9g+INPDcOjDQznBRjMMSWeGumHGD2AsB8fuC/A4MfAqOyApkjhFEPXIwEQS1KD\n",
       "AajGmoGBNQFdzUkGJt4FQMaxtQwgu74zMPAXYKphOxDAwHAKqATq5n4BmDdcXALgahQYpHJAHO4N\n",
       "HEAjp0CVtG5EmMMluIBBEMKbuQ1oRtTu5SA2TyCSXZdKD6AE51cBeZAAK1xU4XDIl40oLmT/yMC8\n",
       "AaQGyc3vREHxpQQEEI1sAQz8E4D0ZRcgUICoYZJ7gGIOywSGfpDvhZDM4U1QRFEDDJ58kO9ZkMMn\n",
       "9xCqmguMdpCAQFIjxI1iGdcDJkhkhMPVHGPge6CB4veVeRCGlIYALN51GJTiC7Cmlk4VSFxgAAC+\n",
       "YVHp3c6+3AAAAABJRU5ErkJggg==\n",
       "\" style=\"display:inline;vertical-align:middle;\" /></a> <a class=\"ProveItLink\" href=\"../__pv_it/demonstrations/90d81feb752bd63feca6ea1f1f3832bf4dfc08b70/proof.ipynb\" style=\"text-decoration: none\">&nbsp;&#x22A2;&nbsp;&nbsp;</a><a class=\"ProveItLink\" href=\"../__pv_it/demonstrations/f2876b05e63407a585a5b0cbbe4ed87bb541f6d60/expr.ipynb\"><img src=\"data:image/png;base64,iVBORw0KGgoAAAANSUhEUgAAAPkAAAAVBAMAAAB251VaAAAAMFBMVEX///8AAAAAAAAAAAAAAAAA\n",
       "AAAAAAAAAAAAAAAAAAAAAAAAAAAAAAAAAAAAAAAAAAAv3aB7AAAAD3RSTlMAIolEdjKr77sQZpnd\n",
       "VM0QaojEAAAACXBIWXMAAA7EAAAOxAGVKw4bAAACdklEQVRIx62WPW/TUBSGX8dxbcdOYjEgJDpE\n",
       "QnQpQwckBoa6Eu3sH8AQqrLwFaQi8aFKDaISAwiZpe0WD2wMREyoQTTqgvhSrf4AkglRYChfg4ek\n",
       "XCcI5VyfIFephzh+kvM+vufeGwcORjicVOg/xSdGsSeLs2GaOg14jNND7Ob9pkSUxmePkiOT97ji\n",
       "HU62viQBvfvtDbLBkLEX6hI4hsxPeoN1tMJksdlmx/pVuraXt3xgV7KrQf9cDCVwAbhJSLaDWjtp\n",
       "twIuDh0JjPVen0r2vNs/T/sSWPZRcQaJuogiY9fBxamRBPp23eftp2RwBah4hACtIGn/yNozTdZe\n",
       "6AUo8zMu/fTTuauQXNiWiPqWWTTPwcUVFuZCan8yIcaSKccBZxwjIl83u37NkezaL5qozV38a7fe\n",
       "945y/P4LmDjUds3vBBi+IhZxLp468w6sJvl6PoLuSna7LHeDW/MfwMSh5eOG3MqH4uq6CLD2YJf6\n",
       "Y3i91BuD1UaxNAjE8QKQiB4l7Ytg4vAK+CEVY9OBticC9CpqU+RmRfU0nSjkynThaB6MDmtPxmEL\n",
       "aoeAR8LuQY3HXnPxjEaL7b7pU/sOFLISitE/++C8i84n48R2tyICxG9fRVw1Y3uIa3ka7YnJo2us\n",
       "hCy5H73Mdn4FTBx+Yy0gQMzMLdHPqggw3Pw7i8jGAqNO7eONxktCcgG73yfAxOESHlBwHNnbomml\n",
       "eM0vnDw6S3fc/IbUu+39/S4lZxvcU+Y8mDisTgYUKI3LopP2FP9bNxxQkrDb3gHixoc8ZYYDShL2\n",
       "XP0AcRuH/u/ibvpipXro9vX0xYbYGLOj2JPFipu6eAb4A3FEx+H7rMkjAAAAAElFTkSuQmCC\n",
       "\" style=\"display:inline;vertical-align:middle;\" /></a></span>"
      ],
      "text/plain": [
       "{a in RealNonNeg, b in RealNonNeg} |- |a + b + 2 + 3| = (a + b + 5)"
      ]
     },
     "metadata": {},
     "output_type": "display_data"
    }
   ],
   "source": [
    "demo_expr_02.simplification(\n",
    "    assumptions=[InSet(a, RealNonNeg), InSet(b, RealNonNeg)])"
   ]
  },
  {
   "cell_type": "markdown",
   "metadata": {},
   "source": [
    "<font size=3>Similarly, given the assumption that $a$ and $b$ are non-negative reals, we can explicitly deduce that the entire expression is also a non-negative real:</font>"
   ]
  },
  {
   "cell_type": "code",
   "execution_count": 31,
   "metadata": {},
   "outputs": [
    {
     "data": {
      "text/html": [
       "<span style=\"font-size:20px;\"><a class=\"ProveItLink\" href=\"../__pv_it/demonstrations/4a4701c918ed0b49c63799c553f955d19a924f1a0/expr.ipynb\"><img src=\"data:image/png;base64,iVBORw0KGgoAAAANSUhEUgAAAEgAAAAUBAMAAADcj2b4AAAAMFBMVEX///8AAAAAAAAAAAAAAAAA\n",
       "AAAAAAAAAAAAAAAAAAAAAAAAAAAAAAAAAAAAAAAAAAAv3aB7AAAAD3RSTlMAIquJdkTvuxBmmd1U\n",
       "zTKBpmoTAAAACXBIWXMAAA7EAAAOxAGVKw4bAAABK0lEQVQoz2NgwAmeB4ApY2cGPIDD/ACQ5HRg\n",
       "LcCnisF9AgMD2wOGj3gVMUx3YJBvYMjBIjM3vf52+gQIe5rA+waGndj0FwgxBE1vALGaSxmAilKw\n",
       "KhJmYOdTADKk9BhA1v3BoYhL4AIDgxBQDYbD3XfvvgBXVMDQtBDEYXFgVUBSE+uBMImpQ4GhA8Iz\n",
       "9gI6j1HZ0QHEYbyBZN3zswIoLggTYP8BonnhwgVit397oAZ+JgPXBrAiJIfP7AXFXTkQQHRyfWDg\n",
       "NgAxnu0GggKIIvbOCSgmsRUw9IOjux3JJL4FFSiK+h0Y5oMZ3MjhtE4cVdEBBl0eAXCAIClqZ0Gx\n",
       "j92BZxcXmHUHrkiKgXNCKYrvVOyE/MCsptIGWCooZCi/fwB76gmuhkQLBgAA7rpMGB8itmIAAAAA\n",
       "SUVORK5CYII=\n",
       "\" style=\"display:inline;vertical-align:middle;\" /></a>, <a class=\"ProveItLink\" href=\"../../addition/__pv_it/theorems/5a49c1d91f28aca05c3a7748e24771596ea841e40/expr.ipynb\"><img src=\"data:image/png;base64,iVBORw0KGgoAAAANSUhEUgAAAEYAAAAUBAMAAADCRlZLAAAAMFBMVEX///8AAAAAAAAAAAAAAAAA\n",
       "AAAAAAAAAAAAAAAAAAAAAAAAAAAAAAAAAAAAAAAAAAAv3aB7AAAAD3RSTlMAELvv3c2ZVESJq3Yi\n",
       "MmZ3LnoBAAAACXBIWXMAAA7EAAAOxAGVKw4bAAABNklEQVQoz2NgwAUuNYCpmTsZcAPGSQVAkm8D\n",
       "hwIeRQybHjAwMF9g+INPDcOjDQznBRjMMSWeGumHGD2AsB8fuC/A4MfAqOyApkjhFEPXIwEQS1KD\n",
       "AajGmoGBNQFdzUkGJt4FQMaxtQwgu74zMPAXYKphOxDAwHAKqATq5n4BmDdcXALgahQYpHJAHO4N\n",
       "HEAjp0CVtG5EmMMluIBBEMKbuQ1oRtTu5SA2TyCSXZdKD6AE51cBeZAAK1xU4XDIl40oLmT/yMC8\n",
       "AaQGyc3vREHxpQQEEI1sAQz8E4D0ZRcgUICoYZJ7gGIOywSGfpDvhZDM4U1QRFEDDJ58kO9ZkMMn\n",
       "9xCqmguMdpCAQFIjxI1iGdcDJkhkhMPVHGPge6CB4veVeRCGlIYALN51GJTiC7Cmlk4VSFxgAAC+\n",
       "YVHp3c6+3AAAAABJRU5ErkJggg==\n",
       "\" style=\"display:inline;vertical-align:middle;\" /></a> <a class=\"ProveItLink\" href=\"../__pv_it/demonstrations/7ae8884a56a300a57d2e537f4429237e90e4153f0/proof.ipynb\" style=\"text-decoration: none\">&nbsp;&#x22A2;&nbsp;&nbsp;</a><a class=\"ProveItLink\" href=\"../__pv_it/demonstrations/801c213ea7ae044572a1bdf7835888dfe68ab2090/expr.ipynb\"><img src=\"data:image/png;base64,iVBORw0KGgoAAAANSUhEUgAAALwAAAAYBAMAAACy6opgAAAAMFBMVEX///8AAAAAAAAAAAAAAAAA\n",
       "AAAAAAAAAAAAAAAAAAAAAAAAAAAAAAAAAAAAAAAAAAAv3aB7AAAAD3RSTlMAIolEdjKr77sQZpnd\n",
       "VM0QaojEAAAACXBIWXMAAA7EAAAOxAGVKw4bAAACV0lEQVRIx72VwWvTcBTHvzXNkjTrGnaog4mW\n",
       "DWGgh50m4mFRNlG85LibcTjwoO6g4BiKGT04QTB4EOfB5ubwoPUgiBXsTZnBBf8AV0HEw0BFLwW3\n",
       "+euapXmvLUNK/R2SX775vU9efu+bF6ALY2p0+zR0Al0Z2kggjilTcrrDxykPUCz8hNEJpX3wsokD\n",
       "Lm5guBM8C346d3d9zqvPHxtnXay0xGu3ykxJlL5ZVOk/lG/Cw8libNmtze7lIfBXW2ffV2TCAPb8\n",
       "ohkUsRY04/uhyraYDM6gtjkbdIUUvlkmYMI54BpRkhsoVFrhdaMCZAW9XlqyIm3Wz+MuE266mDXi\n",
       "inQFmQifvON/aOAd3H++rZqS3Rp/mAsXgVmLKMCaFwZLX9xG9j1LNpbqV0Nn3NqKxPRxk9K+TlwC\n",
       "g2GVKdLKTmn3u7HNmfpkMG8dMdQqidU23YLB8PJvipdPzuzgPzf2fu/6n9PMuto89DKJTVehmAzf\n",
       "a/P3iZxTiZX2yaNaz1kUwwjx+g/05sRM9/23131fYPQKMrm4IMZLgClKtY6XheK/C/HqQ49lrzgo\n",
       "jJLUxNPGA5pryqbFli2ooas1J5a9XLzN8AUTz2issP0bl+I/IkGqkalGeJTjvn8xwPEBLqdprCXq\n",
       "QQuZQ5I8ULGjzcFEHP8g6VG8aqbf64TW46lFit9XKr0mSspr+L4viPCD4kaeOef8wewkNeb0K/ZZ\n",
       "rW5tbVLlWClqadqFo1HHXMDi96BdT419RW0EqoTB0kjYFHZp2ZLH7jYJVBn+1z9CR7+T/4+f7AS/\n",
       "a/BfLcaom0wHv+4AAAAASUVORK5CYII=\n",
       "\" style=\"display:inline;vertical-align:middle;\" /></a></span>"
      ],
      "text/plain": [
       "{a in RealNonNeg, b in RealNonNeg} |- |a + b + 2 + 3| in RealNonNeg"
      ]
     },
     "metadata": {},
     "output_type": "display_data"
    }
   ],
   "source": [
    "demo_expr_02.deduce_in_number_set(\n",
    "        RealNonNeg,\n",
    "        assumptions=[InSet(a, RealNonNeg), InSet(b, RealNonNeg)])"
   ]
  },
  {
   "cell_type": "markdown",
   "metadata": {},
   "source": [
    "<font size=3>In fact, as long as we explicitly establish that $a$ and $b$ each belong to some defined subset of the complex numbers, the `deduce_in_number_set()` will be able to deduce that our absolute value expression is an element of the non-negative real numbers:</font>"
   ]
  },
  {
   "cell_type": "code",
   "execution_count": 32,
   "metadata": {},
   "outputs": [
    {
     "data": {
      "text/html": [
       "<span style=\"font-size:20px;\"><a class=\"ProveItLink\" href=\"../__pv_it/theorems/e9f87a0977d5044ea8daf1040d2f219396bb3d5b0/expr.ipynb\"><img src=\"data:image/png;base64,iVBORw0KGgoAAAANSUhEUgAAADMAAAAQBAMAAABJt1qBAAAAMFBMVEX///8AAAAAAAAAAAAAAAAA\n",
       "AAAAAAAAAAAAAAAAAAAAAAAAAAAAAAAAAAAAAAAAAAAv3aB7AAAAD3RSTlMAIquJdkTvuxBmmd1U\n",
       "zTKBpmoTAAAACXBIWXMAAA7EAAAOxAGVKw4bAAAA0ElEQVQY02NgwAKaq+86PsYmwcCiNoFjfRVW\n",
       "qSXBDAycWKX4FlQASS0UMffduy8AKaaGAiDZiSwT6wGh2RkXQEUYlR0dwPQNqIAQnwGUFSbA/gNE\n",
       "8wpABR6zToAwODIZuDaApWAGS7E6QBhcHxi4wQY82w0EBWC7oAayFTD0B4AY7TBd7GAXAkG/A8N8\n",
       "MIMbJsUK9hcrUOoAgy4PyAUsDvDQCAISa4HaHXh2cYFF7sDDsHYhx2mg3zhU7IT8wCJNpQ2wkC/7\n",
       "vRA18IKrwQEFAwCqvi28/xxvKQAAAABJRU5ErkJggg==\n",
       "\" style=\"display:inline;vertical-align:middle;\" /></a>, <a class=\"ProveItLink\" href=\"../__pv_it/demonstrations/885cc228aa47f4d61d07e1691f08d60a4b0eb17d0/expr.ipynb\"><img src=\"data:image/png;base64,iVBORw0KGgoAAAANSUhEUgAAAD0AAAAQBAMAAABXfmoyAAAAMFBMVEX///8AAAAAAAAAAAAAAAAA\n",
       "AAAAAAAAAAAAAAAAAAAAAAAAAAAAAAAAAAAAAAAAAAAv3aB7AAAAD3RSTlMAELvv3c2ZVESJq3Yi\n",
       "MmZ3LnoBAAAACXBIWXMAAA7EAAAOxAGVKw4bAAAA3klEQVQY02NgQAdPjfRDjB7AuYzKDmgKFE4x\n",
       "dD0SgHNZE9DlTzIw8S5guKQEBAcYGPgLMOXZDgTAuf0woza5uATA5RXg8lOgdOtGhH4uwQVw+ajd\n",
       "y0EUTyCS+ZdKD8Dd/1VAHsRhhYsoHA75shGunf0jA/MGkDyS+96JIlzLFsDAPwFIX3YBAgWIPJMc\n",
       "InxYJjD0g3wohKSfN0ERzgN6Px/kQxZk/+ceQshfYLQD0dwbkOSFuOEWcD1gggRwOFz+GAPfAw24\n",
       "/1bmQRhSGgKw+NNhUIovwIjYThWXAAxBAA29OSA7wr9HAAAAAElFTkSuQmCC\n",
       "\" style=\"display:inline;vertical-align:middle;\" /></a> <a class=\"ProveItLink\" href=\"../__pv_it/demonstrations/1f711b22de80bee2c525fe510cf9b86b39c729790/proof.ipynb\" style=\"text-decoration: none\">&nbsp;&#x22A2;&nbsp;&nbsp;</a><a class=\"ProveItLink\" href=\"../__pv_it/demonstrations/801c213ea7ae044572a1bdf7835888dfe68ab2090/expr.ipynb\"><img src=\"data:image/png;base64,iVBORw0KGgoAAAANSUhEUgAAALwAAAAYBAMAAACy6opgAAAAMFBMVEX///8AAAAAAAAAAAAAAAAA\n",
       "AAAAAAAAAAAAAAAAAAAAAAAAAAAAAAAAAAAAAAAAAAAv3aB7AAAAD3RSTlMAIolEdjKr77sQZpnd\n",
       "VM0QaojEAAAACXBIWXMAAA7EAAAOxAGVKw4bAAACV0lEQVRIx72VwWvTcBTHvzXNkjTrGnaog4mW\n",
       "DWGgh50m4mFRNlG85LibcTjwoO6g4BiKGT04QTB4EOfB5ubwoPUgiBXsTZnBBf8AV0HEw0BFLwW3\n",
       "+euapXmvLUNK/R2SX775vU9efu+bF6ALY2p0+zR0Al0Z2kggjilTcrrDxykPUCz8hNEJpX3wsokD\n",
       "Lm5guBM8C346d3d9zqvPHxtnXay0xGu3ykxJlL5ZVOk/lG/Cw8libNmtze7lIfBXW2ffV2TCAPb8\n",
       "ohkUsRY04/uhyraYDM6gtjkbdIUUvlkmYMI54BpRkhsoVFrhdaMCZAW9XlqyIm3Wz+MuE266mDXi\n",
       "inQFmQifvON/aOAd3H++rZqS3Rp/mAsXgVmLKMCaFwZLX9xG9j1LNpbqV0Nn3NqKxPRxk9K+TlwC\n",
       "g2GVKdLKTmn3u7HNmfpkMG8dMdQqidU23YLB8PJvipdPzuzgPzf2fu/6n9PMuto89DKJTVehmAzf\n",
       "a/P3iZxTiZX2yaNaz1kUwwjx+g/05sRM9/23131fYPQKMrm4IMZLgClKtY6XheK/C/HqQ49lrzgo\n",
       "jJLUxNPGA5pryqbFli2ooas1J5a9XLzN8AUTz2issP0bl+I/IkGqkalGeJTjvn8xwPEBLqdprCXq\n",
       "QQuZQ5I8ULGjzcFEHP8g6VG8aqbf64TW46lFit9XKr0mSspr+L4viPCD4kaeOef8wewkNeb0K/ZZ\n",
       "rW5tbVLlWClqadqFo1HHXMDi96BdT419RW0EqoTB0kjYFHZp2ZLH7jYJVBn+1z9CR7+T/4+f7AS/\n",
       "a/BfLcaom0wHv+4AAAAASUVORK5CYII=\n",
       "\" style=\"display:inline;vertical-align:middle;\" /></a></span>"
      ],
      "text/plain": [
       "{a in Complex, b in RealNeg} |- |a + b + 2 + 3| in RealNonNeg"
      ]
     },
     "metadata": {},
     "output_type": "display_data"
    }
   ],
   "source": [
    "demo_expr_02.deduce_in_number_set(\n",
    "        RealNonNeg,\n",
    "        assumptions=[InSet(a, Complex), InSet(b, RealNeg)])"
   ]
  },
  {
   "cell_type": "markdown",
   "metadata": {},
   "source": [
    "<font size=3>From this, it is straighforward to derive $|a + b + 2 + 3| \\geq 0$ exploiting some automation:</font>"
   ]
  },
  {
   "cell_type": "code",
   "execution_count": 33,
   "metadata": {},
   "outputs": [
    {
     "data": {
      "text/html": [
       "<strong id=\"demo_expr_02_ge_zero\">demo_expr_02_ge_zero:</strong> <span style=\"font-size:20px;\"><a class=\"ProveItLink\" href=\"../__pv_it/theorems/e9f87a0977d5044ea8daf1040d2f219396bb3d5b0/expr.ipynb\"><img src=\"data:image/png;base64,iVBORw0KGgoAAAANSUhEUgAAADMAAAAQBAMAAABJt1qBAAAAMFBMVEX///8AAAAAAAAAAAAAAAAA\n",
       "AAAAAAAAAAAAAAAAAAAAAAAAAAAAAAAAAAAAAAAAAAAv3aB7AAAAD3RSTlMAIquJdkTvuxBmmd1U\n",
       "zTKBpmoTAAAACXBIWXMAAA7EAAAOxAGVKw4bAAAA0ElEQVQY02NgwAKaq+86PsYmwcCiNoFjfRVW\n",
       "qSXBDAycWKX4FlQASS0UMffduy8AKaaGAiDZiSwT6wGh2RkXQEUYlR0dwPQNqIAQnwGUFSbA/gNE\n",
       "8wpABR6zToAwODIZuDaApWAGS7E6QBhcHxi4wQY82w0EBWC7oAayFTD0B4AY7TBd7GAXAkG/A8N8\n",
       "MIMbJsUK9hcrUOoAgy4PyAUsDvDQCAISa4HaHXh2cYFF7sDDsHYhx2mg3zhU7IT8wCJNpQ2wkC/7\n",
       "vRA18IKrwQEFAwCqvi28/xxvKQAAAABJRU5ErkJggg==\n",
       "\" style=\"display:inline;vertical-align:middle;\" /></a>, <a class=\"ProveItLink\" href=\"../__pv_it/demonstrations/885cc228aa47f4d61d07e1691f08d60a4b0eb17d0/expr.ipynb\"><img src=\"data:image/png;base64,iVBORw0KGgoAAAANSUhEUgAAAD0AAAAQBAMAAABXfmoyAAAAMFBMVEX///8AAAAAAAAAAAAAAAAA\n",
       "AAAAAAAAAAAAAAAAAAAAAAAAAAAAAAAAAAAAAAAAAAAv3aB7AAAAD3RSTlMAELvv3c2ZVESJq3Yi\n",
       "MmZ3LnoBAAAACXBIWXMAAA7EAAAOxAGVKw4bAAAA3klEQVQY02NgQAdPjfRDjB7AuYzKDmgKFE4x\n",
       "dD0SgHNZE9DlTzIw8S5guKQEBAcYGPgLMOXZDgTAuf0woza5uATA5RXg8lOgdOtGhH4uwQVw+ajd\n",
       "y0EUTyCS+ZdKD8Dd/1VAHsRhhYsoHA75shGunf0jA/MGkDyS+96JIlzLFsDAPwFIX3YBAgWIPJMc\n",
       "InxYJjD0g3wohKSfN0ERzgN6Px/kQxZk/+ceQshfYLQD0dwbkOSFuOEWcD1gggRwOFz+GAPfAw24\n",
       "/1bmQRhSGgKw+NNhUIovwIjYThWXAAxBAA29OSA7wr9HAAAAAElFTkSuQmCC\n",
       "\" style=\"display:inline;vertical-align:middle;\" /></a> <a class=\"ProveItLink\" href=\"../__pv_it/demonstrations/947fc85a8a86749629205dba10f0966f1e2ab68a0/proof.ipynb\" style=\"text-decoration: none\">&nbsp;&#x22A2;&nbsp;&nbsp;</a><a class=\"ProveItLink\" href=\"../__pv_it/demonstrations/25a9b83aa005531a3768f2bd7a2ec7c5e90915f30/expr.ipynb\"><img src=\"data:image/png;base64,iVBORw0KGgoAAAANSUhEUgAAAKMAAAAVBAMAAADY0UPbAAAAMFBMVEX///8AAAAAAAAAAAAAAAAA\n",
       "AAAAAAAAAAAAAAAAAAAAAAAAAAAAAAAAAAAAAAAAAAAv3aB7AAAAD3RSTlMAIolEdjKr77sQZpnd\n",
       "VM0QaojEAAAACXBIWXMAAA7EAAAOxAGVKw4bAAAB3klEQVQ4y7WUvUvDUBTFT6mmvtraKuLiUqyD\n",
       "oKCzDhXRgrhE/wFFdBQUEcVJ8HMzOOhoJ10Ei6MtbS3iYDNEcBTsVEQXP4citebVtMl9piAUszxy\n",
       "cs/v3fvuzYMfNTz25mAtyOCfVbadEpT2xKagtHSv25g7xvxVNmqK0nfHGnr76K5R3Gs/ZvZo+jR2\n",
       "ISD7jdWnUUHywzVPlLoCDrOGee+y7D8BugTkrbGGFCq48pBeiOJchK+MRF3aiN8C7hV7ZI8gSClI\n",
       "HzREN0cqZrfB/AQmS8fR1tkqIHPDcyLA8ywozmtLid4nPk+MI/lGzgXsKiSefSmHfgE5OUiR9eFZ\n",
       "66k5czrC8VqKC+IggjjN0puHa1BAXuFX4ZoV+VBGBnQ1CaS5GlfVZVXl1sYsfAGroEtrNOSnZ2bh\n",
       "uVLhOjLEs1wBe6MpeAIIaTSnI6Fh9TIaCmZ7MpX28NzZO9zPNF4fy6RCkN4AmmlI3oKsDNEOcKoP\n",
       "EStAyt7QeJmt0pObAEbppE6ZhZujfgwkeNM2cBeN0jGMNFDBkYnFUkRxRypzafkhPRpb4sj9ofEZ\n",
       "mQ7R9LlwuMViMUvzHojZXBvsLCxX+SGrC1T5w+XWL379JVAl+E9XMFNLj/yft/pILUhb8zdOuKRW\n",
       "bPcq6QAAAABJRU5ErkJggg==\n",
       "\" style=\"display:inline;vertical-align:middle;\" /></a></span><br>"
      ],
      "text/plain": [
       "<IPython.core.display.HTML object>"
      ]
     },
     "metadata": {},
     "output_type": "display_data"
    }
   ],
   "source": [
    "demo_expr_02_ge_zero = greater_eq(demo_expr_02, zero).prove(\n",
    "    assumptions=[InSet(a, Complex), InSet(b, RealNeg)])"
   ]
  },
  {
   "cell_type": "markdown",
   "metadata": {},
   "source": [
    "<font size=3>The detailed proof includes a number of steps that establish that all the sub-operands can be found in the complex numbers, but we see toward the top of the proof table the explicit use of the modus ponens-like `right_from_iff` theorem (cited in line 1) and the `in_real_non_neg_iff_nonNegative` theorem (cited in line 5), which we were nudging Prove-It toward by our few steps above:</font>"
   ]
  },
  {
   "cell_type": "code",
   "execution_count": 34,
   "metadata": {},
   "outputs": [
    {
     "data": {
      "text/html": [
       "<table><tr><th>&nbsp;</th><th>step type</th><th>requirements</th><th>statement</th></tr>\n",
       "<tr><td><a name=\"0x30e93881c6a29ff3_step0\">0</a></td><td>instantiation</td><td><a href=\"#0x30e93881c6a29ff3_step1\">1</a>, <a href=\"#0x30e93881c6a29ff3_step2\">2</a></td><td><span style=\"font-size:20px;\"><a class=\"ProveItLink\" href=\"../__pv_it/theorems/e9f87a0977d5044ea8daf1040d2f219396bb3d5b0/expr.ipynb\"><img src=\"data:image/png;base64,iVBORw0KGgoAAAANSUhEUgAAADMAAAAQBAMAAABJt1qBAAAAMFBMVEX///8AAAAAAAAAAAAAAAAA\n",
       "AAAAAAAAAAAAAAAAAAAAAAAAAAAAAAAAAAAAAAAAAAAv3aB7AAAAD3RSTlMAIquJdkTvuxBmmd1U\n",
       "zTKBpmoTAAAACXBIWXMAAA7EAAAOxAGVKw4bAAAA0ElEQVQY02NgwAKaq+86PsYmwcCiNoFjfRVW\n",
       "qSXBDAycWKX4FlQASS0UMffduy8AKaaGAiDZiSwT6wGh2RkXQEUYlR0dwPQNqIAQnwGUFSbA/gNE\n",
       "8wpABR6zToAwODIZuDaApWAGS7E6QBhcHxi4wQY82w0EBWC7oAayFTD0B4AY7TBd7GAXAkG/A8N8\n",
       "MIMbJsUK9hcrUOoAgy4PyAUsDvDQCAISa4HaHXh2cYFF7sDDsHYhx2mg3zhU7IT8wCJNpQ2wkC/7\n",
       "vRA18IKrwQEFAwCqvi28/xxvKQAAAABJRU5ErkJggg==\n",
       "\" style=\"display:inline;vertical-align:middle;\" /></a>, <a class=\"ProveItLink\" href=\"../__pv_it/demonstrations/885cc228aa47f4d61d07e1691f08d60a4b0eb17d0/expr.ipynb\"><img src=\"data:image/png;base64,iVBORw0KGgoAAAANSUhEUgAAAD0AAAAQBAMAAABXfmoyAAAAMFBMVEX///8AAAAAAAAAAAAAAAAA\n",
       "AAAAAAAAAAAAAAAAAAAAAAAAAAAAAAAAAAAAAAAAAAAv3aB7AAAAD3RSTlMAELvv3c2ZVESJq3Yi\n",
       "MmZ3LnoBAAAACXBIWXMAAA7EAAAOxAGVKw4bAAAA3klEQVQY02NgQAdPjfRDjB7AuYzKDmgKFE4x\n",
       "dD0SgHNZE9DlTzIw8S5guKQEBAcYGPgLMOXZDgTAuf0woza5uATA5RXg8lOgdOtGhH4uwQVw+ajd\n",
       "y0EUTyCS+ZdKD8Dd/1VAHsRhhYsoHA75shGunf0jA/MGkDyS+96JIlzLFsDAPwFIX3YBAgWIPJMc\n",
       "InxYJjD0g3wohKSfN0ERzgN6Px/kQxZk/+ceQshfYLQD0dwbkOSFuOEWcD1gggRwOFz+GAPfAw24\n",
       "/1bmQRhSGgKw+NNhUIovwIjYThWXAAxBAA29OSA7wr9HAAAAAElFTkSuQmCC\n",
       "\" style=\"display:inline;vertical-align:middle;\" /></a> <a class=\"ProveItLink\" href=\"../__pv_it/demonstrations/947fc85a8a86749629205dba10f0966f1e2ab68a0/proof.ipynb\" style=\"text-decoration: none\">&nbsp;&#x22A2;&nbsp;&nbsp;</a><a class=\"ProveItLink\" href=\"../__pv_it/demonstrations/25a9b83aa005531a3768f2bd7a2ec7c5e90915f30/expr.ipynb\"><img src=\"data:image/png;base64,iVBORw0KGgoAAAANSUhEUgAAAKMAAAAVBAMAAADY0UPbAAAAMFBMVEX///8AAAAAAAAAAAAAAAAA\n",
       "AAAAAAAAAAAAAAAAAAAAAAAAAAAAAAAAAAAAAAAAAAAv3aB7AAAAD3RSTlMAIolEdjKr77sQZpnd\n",
       "VM0QaojEAAAACXBIWXMAAA7EAAAOxAGVKw4bAAAB3klEQVQ4y7WUvUvDUBTFT6mmvtraKuLiUqyD\n",
       "oKCzDhXRgrhE/wFFdBQUEcVJ8HMzOOhoJ10Ei6MtbS3iYDNEcBTsVEQXP4citebVtMl9piAUszxy\n",
       "cs/v3fvuzYMfNTz25mAtyOCfVbadEpT2xKagtHSv25g7xvxVNmqK0nfHGnr76K5R3Gs/ZvZo+jR2\n",
       "ISD7jdWnUUHywzVPlLoCDrOGee+y7D8BugTkrbGGFCq48pBeiOJchK+MRF3aiN8C7hV7ZI8gSClI\n",
       "HzREN0cqZrfB/AQmS8fR1tkqIHPDcyLA8ywozmtLid4nPk+MI/lGzgXsKiSefSmHfgE5OUiR9eFZ\n",
       "66k5czrC8VqKC+IggjjN0puHa1BAXuFX4ZoV+VBGBnQ1CaS5GlfVZVXl1sYsfAGroEtrNOSnZ2bh\n",
       "uVLhOjLEs1wBe6MpeAIIaTSnI6Fh9TIaCmZ7MpX28NzZO9zPNF4fy6RCkN4AmmlI3oKsDNEOcKoP\n",
       "EStAyt7QeJmt0pObAEbppE6ZhZujfgwkeNM2cBeN0jGMNFDBkYnFUkRxRypzafkhPRpb4sj9ofEZ\n",
       "mQ7R9LlwuMViMUvzHojZXBvsLCxX+SGrC1T5w+XWL379JVAl+E9XMFNLj/yft/pILUhb8zdOuKRW\n",
       "bPcq6QAAAABJRU5ErkJggg==\n",
       "\" style=\"display:inline;vertical-align:middle;\" /></a></span></td></tr>\n",
       "<tr><td>&nbsp;</td><td colspan=4 style=\"text-align:left\"><span style=\"font-size:20px;\"><a class=\"ProveItLink\" href=\"../../../__pv_it/common/a0d9d672aa5e272d907247690c152cc2c6daafb70/expr.ipynb\"><img src=\"data:image/png;base64,iVBORw0KGgoAAAANSUhEUgAAAAsAAAAJBAMAAAAWSsseAAAAMFBMVEX///8AAAAAAAAAAAAAAAAA\n",
       "AAAAAAAAAAAAAAAAAAAAAAAAAAAAAAAAAAAAAAAAAAAv3aB7AAAAD3RSTlMAEHarMolUmd1mIs3v\n",
       "RLtmgJDEAAAACXBIWXMAAA7EAAAOxAGVKw4bAAAAQklEQVQI12NgEFIWCU1gYChgMmJvYOBcwPmR\n",
       "eQIDCwP7BgYQ4FEAU/cXMAowyF2wYWBlYMh3rGG4xsAgrsRWmcAAAFEjCyBvD0T9AAAAAElFTkSu\n",
       "QmCC\n",
       "\" style=\"display:inline;vertical-align:middle;\" /></a> : <a class=\"ProveItLink\" href=\"../__pv_it/demonstrations/fa51483b5697a875cef84f31600e4cd45d515e240/expr.ipynb\"><img src=\"data:image/png;base64,iVBORw0KGgoAAAANSUhEUgAAAHwAAAAVBAMAAAB2y5cfAAAAMFBMVEX///8AAAAAAAAAAAAAAAAA\n",
       "AAAAAAAAAAAAAAAAAAAAAAAAAAAAAAAAAAAAAAAAAAAv3aB7AAAAD3RSTlMAIolEdjKr77sQZpnd\n",
       "VM0QaojEAAAACXBIWXMAAA7EAAAOxAGVKw4bAAABYElEQVQ4y2MQYKAACDAoU6JdGat2zvYDaCLS\n",
       "+1rRRIS0m3FpZ+DbgMpnbGDQN0C1YQPD/Qvo2q2gNP8FVAE2AQb2AhQRlr8M8x+ga78Cpe0noAqw\n",
       "/2Rg+4giwlzMwI9Tuw6aANsBBravqEoYGO4vgGgXUxFB0/7MJRddMc8HNBHmU5CgYy5k6J+AIsf5\n",
       "b8J8ATTt8Q6o2lndUiHapy9g2INqO+9PBnYHNO3HGDAcDwn5/QwMh0DcPWfOlJ85A1LG/YCBXwFZ\n",
       "ACjUgKoEEp4g7RUMnJ9RjeZRYLC/gGrXMrTAZA1g4PgL0s75hYHrA6ocMNr3T0DRzqvAIIiq5CdM\n",
       "+18GtgcXUeUCOKtQfRrEwOCJmhISYI5vYbizYQNqNC/gQBVgPL179wEUEa4FsHif5hSYEoAacUm7\n",
       "0ALj////D1DdY70bM8tcQc87GAKoIjiyDG4BVBFlWhQXJGh3pUS7KwDSkXod8MyGSAAAAABJRU5E\n",
       "rkJggg==\n",
       "\" style=\"display:inline;vertical-align:middle;\" /></a></span></td></tr><tr><td><a name=\"0x30e93881c6a29ff3_step1\">1</a></td><td>conjecture</td><td></td><td><span style=\"font-size:20px;\"> <a class=\"ProveItLink\" href=\"../../number_sets/real_numbers/_theory_nbs_/proofs/nonneg_if_in_real_nonneg/thm_proof.ipynb\" style=\"text-decoration: none\">&nbsp;&#x22A2;&nbsp;&nbsp;</a><a class=\"ProveItLink\" href=\"../../number_sets/real_numbers/__pv_it/theorems/8a8ee12215b64bb91067eb674a5aa946111060970/expr.ipynb\"><img src=\"data:image/png;base64,iVBORw0KGgoAAAANSUhEUgAAAIkAAAAVBAMAAACArtDCAAAAMFBMVEX///8AAAAAAAAAAAAAAAAA\n",
       "AAAAAAAAAAAAAAAAAAAAAAAAAAAAAAAAAAAAAAAAAAAv3aB7AAAAD3RSTlMAq1RmmUTNIjK7EInv\n",
       "3XZ/CtNrAAAACXBIWXMAAA7EAAAOxAGVKw4bAAACNUlEQVQ4y41UTWjUUBD+uptssi/dR9GD2FOg\n",
       "0pt2kaIg1lbctmJRFgUvgt2b4EHivV3quQfrQTAtlByKoCIsRRQrSm6KouxF7GUhK6tCocWDUMGL\n",
       "M3Hz06zb7IPA995Mvsx88+UBvS2te8hCz+tr99B1egYYDKWRZGr/P3/VsiCLwCRvbqSxPIzjYghz\n",
       "pvgC3ATucNNLaSznYli89gI4BrwERonOAQwzjcXds9veaIN7wIiDfgdZqi+XKktl736sTfMLuGsi\n",
       "RxQfG40PaSwKiSt2BhfXg4Phab83ZinCoAmdB5bTWPhrCprexfDk6iDr+YdYPGSp0tvQBpJviRlS\n",
       "C9VjgaEKJNxJjDsHI5blgKWGDKmWd4xyjODo87O3KP7M4gkGcvRTxgKmoqzhQ/7HiGXWg/6TlPNC\n",
       "cfWmXZYGXrAKrbJw8T7GAnyK1L0QqjtiQuUJVs4EwdICICVOsR+0z1odm7GOoO7icWLSNqhNZOoE\n",
       "18l72JluWWxlZtmaoLJmHKrlbTs770Hc73NRS7juNLjNLJt2jsSV1uGc+YgD0tBWi1BZx0qoC80y\n",
       "83vNVc3EH1Awxbt/PkAf9ZHFqo4rPouysgRxgGF1KJiRXoe45B053jnLJr1ciKazC5ywbduU0rjc\n",
       "aZjN/dw0HyLd1bDo1yLVa45WKpUm44mjPf2qc0ZFIef4umBjoiMxH7vQnjZ4RdVFN4Ly7c0WtAds\n",
       "yu+1takOFrHP3ZFPXJlPbLvcJbXaneUH8BfesYbeWO3hTwAAAABJRU5ErkJggg==\n",
       "\" style=\"display:inline;vertical-align:middle;\" /></a></span></td></tr>\n",
       "<tr><td>&nbsp;</td><td colspan=4 style-\"text-align:left\"><a class=\"ProveItLink\" href=\"../../number_sets/real_numbers/_theory_nbs_/proofs/nonneg_if_in_real_nonneg/thm_proof.ipynb\">proveit.numbers.number_sets.real_numbers.nonneg_if_in_real_nonneg</a></td></tr><tr><td><a name=\"0x30e93881c6a29ff3_step2\">2</a></td><td>instantiation</td><td><a href=\"#0x30e93881c6a29ff3_step3\">3</a>, <a href=\"#0x30e93881c6a29ff3_step4\">4</a></td><td><span style=\"font-size:20px;\"><a class=\"ProveItLink\" href=\"../__pv_it/theorems/e9f87a0977d5044ea8daf1040d2f219396bb3d5b0/expr.ipynb\"><img src=\"data:image/png;base64,iVBORw0KGgoAAAANSUhEUgAAADMAAAAQBAMAAABJt1qBAAAAMFBMVEX///8AAAAAAAAAAAAAAAAA\n",
       "AAAAAAAAAAAAAAAAAAAAAAAAAAAAAAAAAAAAAAAAAAAv3aB7AAAAD3RSTlMAIquJdkTvuxBmmd1U\n",
       "zTKBpmoTAAAACXBIWXMAAA7EAAAOxAGVKw4bAAAA0ElEQVQY02NgwAKaq+86PsYmwcCiNoFjfRVW\n",
       "qSXBDAycWKX4FlQASS0UMffduy8AKaaGAiDZiSwT6wGh2RkXQEUYlR0dwPQNqIAQnwGUFSbA/gNE\n",
       "8wpABR6zToAwODIZuDaApWAGS7E6QBhcHxi4wQY82w0EBWC7oAayFTD0B4AY7TBd7GAXAkG/A8N8\n",
       "MIMbJsUK9hcrUOoAgy4PyAUsDvDQCAISa4HaHXh2cYFF7sDDsHYhx2mg3zhU7IT8wCJNpQ2wkC/7\n",
       "vRA18IKrwQEFAwCqvi28/xxvKQAAAABJRU5ErkJggg==\n",
       "\" style=\"display:inline;vertical-align:middle;\" /></a>, <a class=\"ProveItLink\" href=\"../__pv_it/demonstrations/885cc228aa47f4d61d07e1691f08d60a4b0eb17d0/expr.ipynb\"><img src=\"data:image/png;base64,iVBORw0KGgoAAAANSUhEUgAAAD0AAAAQBAMAAABXfmoyAAAAMFBMVEX///8AAAAAAAAAAAAAAAAA\n",
       "AAAAAAAAAAAAAAAAAAAAAAAAAAAAAAAAAAAAAAAAAAAv3aB7AAAAD3RSTlMAELvv3c2ZVESJq3Yi\n",
       "MmZ3LnoBAAAACXBIWXMAAA7EAAAOxAGVKw4bAAAA3klEQVQY02NgQAdPjfRDjB7AuYzKDmgKFE4x\n",
       "dD0SgHNZE9DlTzIw8S5guKQEBAcYGPgLMOXZDgTAuf0woza5uATA5RXg8lOgdOtGhH4uwQVw+ajd\n",
       "y0EUTyCS+ZdKD8Dd/1VAHsRhhYsoHA75shGunf0jA/MGkDyS+96JIlzLFsDAPwFIX3YBAgWIPJMc\n",
       "InxYJjD0g3wohKSfN0ERzgN6Px/kQxZk/+ceQshfYLQD0dwbkOSFuOEWcD1gggRwOFz+GAPfAw24\n",
       "/1bmQRhSGgKw+NNhUIovwIjYThWXAAxBAA29OSA7wr9HAAAAAElFTkSuQmCC\n",
       "\" style=\"display:inline;vertical-align:middle;\" /></a> <a class=\"ProveItLink\" href=\"../__pv_it/demonstrations/1f711b22de80bee2c525fe510cf9b86b39c729790/proof.ipynb\" style=\"text-decoration: none\">&nbsp;&#x22A2;&nbsp;&nbsp;</a><a class=\"ProveItLink\" href=\"../__pv_it/demonstrations/801c213ea7ae044572a1bdf7835888dfe68ab2090/expr.ipynb\"><img src=\"data:image/png;base64,iVBORw0KGgoAAAANSUhEUgAAALwAAAAYBAMAAACy6opgAAAAMFBMVEX///8AAAAAAAAAAAAAAAAA\n",
       "AAAAAAAAAAAAAAAAAAAAAAAAAAAAAAAAAAAAAAAAAAAv3aB7AAAAD3RSTlMAIolEdjKr77sQZpnd\n",
       "VM0QaojEAAAACXBIWXMAAA7EAAAOxAGVKw4bAAACV0lEQVRIx72VwWvTcBTHvzXNkjTrGnaog4mW\n",
       "DWGgh50m4mFRNlG85LibcTjwoO6g4BiKGT04QTB4EOfB5ubwoPUgiBXsTZnBBf8AV0HEw0BFLwW3\n",
       "+euapXmvLUNK/R2SX775vU9efu+bF6ALY2p0+zR0Al0Z2kggjilTcrrDxykPUCz8hNEJpX3wsokD\n",
       "Lm5guBM8C346d3d9zqvPHxtnXay0xGu3ykxJlL5ZVOk/lG/Cw8libNmtze7lIfBXW2ffV2TCAPb8\n",
       "ohkUsRY04/uhyraYDM6gtjkbdIUUvlkmYMI54BpRkhsoVFrhdaMCZAW9XlqyIm3Wz+MuE266mDXi\n",
       "inQFmQifvON/aOAd3H++rZqS3Rp/mAsXgVmLKMCaFwZLX9xG9j1LNpbqV0Nn3NqKxPRxk9K+TlwC\n",
       "g2GVKdLKTmn3u7HNmfpkMG8dMdQqidU23YLB8PJvipdPzuzgPzf2fu/6n9PMuto89DKJTVehmAzf\n",
       "a/P3iZxTiZX2yaNaz1kUwwjx+g/05sRM9/23131fYPQKMrm4IMZLgClKtY6XheK/C/HqQ49lrzgo\n",
       "jJLUxNPGA5pryqbFli2ooas1J5a9XLzN8AUTz2issP0bl+I/IkGqkalGeJTjvn8xwPEBLqdprCXq\n",
       "QQuZQ5I8ULGjzcFEHP8g6VG8aqbf64TW46lFit9XKr0mSspr+L4viPCD4kaeOef8wewkNeb0K/ZZ\n",
       "rW5tbVLlWClqadqFo1HHXMDi96BdT419RW0EqoTB0kjYFHZp2ZLH7jYJVBn+1z9CR7+T/4+f7AS/\n",
       "a/BfLcaom0wHv+4AAAAASUVORK5CYII=\n",
       "\" style=\"display:inline;vertical-align:middle;\" /></a></span></td></tr>\n",
       "<tr><td>&nbsp;</td><td colspan=4 style=\"text-align:left\"><span style=\"font-size:20px;\"><a class=\"ProveItLink\" href=\"../../../__pv_it/common/c06c606ec12678c58933ac85412ecadc2ae28be60/expr.ipynb\"><img src=\"data:image/png;base64,iVBORw0KGgoAAAANSUhEUgAAAAsAAAAJBAMAAAAWSsseAAAAMFBMVEX///8AAAAAAAAAAAAAAAAA\n",
       "AAAAAAAAAAAAAAAAAAAAAAAAAAAAAAAAAAAAAAAAAAAv3aB7AAAAD3RSTlMAIquJdkTvuxBmmd1U\n",
       "zTKBpmoTAAAACXBIWXMAAA7EAAAOxAGVKw4bAAAARUlEQVQI12NgYFR2dGBgYAgTYP/BwMCRycC1\n",
       "gYGB6wMDtwEDA1sBQ38AA0O/A8N8oIr+Awy6PAIM7A48u7iAKlXshPwYAE2lCqdX0eXEAAAAAElF\n",
       "TkSuQmCC\n",
       "\" style=\"display:inline;vertical-align:middle;\" /></a> : <a class=\"ProveItLink\" href=\"../__pv_it/demonstrations/b8d5843210f4c2c14a6480606040ebf846edb0de0/expr.ipynb\"><img src=\"data:image/png;base64,iVBORw0KGgoAAAANSUhEUgAAAHUAAAAQBAMAAADaEy1mAAAAMFBMVEX///8AAAAAAAAAAAAAAAAA\n",
       "AAAAAAAAAAAAAAAAAAAAAAAAAAAAAAAAAAAAAAAAAAAv3aB7AAAAD3RSTlMAIquJdkTvuxBmmd1U\n",
       "zTKBpmoTAAAACXBIWXMAAA7EAAAOxAGVKw4bAAABP0lEQVQoz2NgwATt2WgCjKuuP0ATMV4ewIAV\n",
       "3ELjizMwf0UV6WLg+YMiwDoByviDJqDIwJCGKuJ/gOMvil4eB6iCH2gC+Q0M+gIoImEBDNj1Mm9A\n",
       "E9BmYNB/gCICZP0EeVvZ0QFVKa+K0wE0lQz7GdBEokGuDxNg/4Eq0X+D4yOaSr4vaHqfKAEdwpHJ\n",
       "wLUBVeJ8A0MKml5uBXR7QeHM9YGB2wDI5tq9e1v27t0gNWsZGD6jCDAwLGdgQBMBBSBbAUN/AKqh\n",
       "mxlY/6DawqmAFnrvGBjqDzD0OzDMR5P4w8D1A1XvYQZG1Dj63wDWe4BBlwdV4h9D2wQUAT4DBpYG\n",
       "FJEksJvZHXh2caHaq8lQhSogvWrValSRmeD45VCxE/JDlWiymoAqsP///79oSW8VWl5ASgo4BLCI\n",
       "oOcFnAKoIgDmcl3wAEqBgwAAAABJRU5ErkJggg==\n",
       "\" style=\"display:inline;vertical-align:middle;\" /></a></span></td></tr><tr><td><a name=\"0x30e93881c6a29ff3_step3\">3</a></td><td>conjecture</td><td></td><td><span style=\"font-size:20px;\"> <a class=\"ProveItLink\" href=\"proofs/abs_complex_closure/thm_proof.ipynb\" style=\"text-decoration: none\">&nbsp;&#x22A2;&nbsp;&nbsp;</a><a class=\"ProveItLink\" href=\"../__pv_it/theorems/7766d7e541c55b09fa681415edf67c262db36e2c0/expr.ipynb\"><img src=\"data:image/png;base64,iVBORw0KGgoAAAANSUhEUgAAAJsAAAAaBAMAAABSozPCAAAAMFBMVEX///8AAAAAAAAAAAAAAAAA\n",
       "AAAAAAAAAAAAAAAAAAAAAAAAAAAAAAAAAAAAAAAAAAAv3aB7AAAAD3RSTlMAq1RmmUTNIjK7EInv\n",
       "3XZ/CtNrAAAACXBIWXMAAA7EAAAOxAGVKw4bAAACoElEQVRIx6WVS2gTURSG/+Y1jzx9IOiiBFxk\n",
       "pRSKLqKUFBUfII4URHFhtAuxuJjupY2gVFBI7EOdiHWCIEhFg1XETcjKKuJOcKHRiBsfVaSgYhbi\n",
       "mcydZGYy00nxwNzcuXPz3XvOf+49wP8ZP9P8CVfK3cze4jljblJrB3AEAc+5voz3irEpap4hLnMF\n",
       "r6m3Ac7oy26T/LPgGogkaYseRguHJdZ/ZGWcVn69nWL9Bb6BaB+iKpDQBjY607iqKw4ClwiuKWo9\n",
       "8YlEuEgdMWLt0kZOOuMC5eVwZRTOamsO5jRn40mIDaA54hLEuLQ8bneI/rsqx6QAhoEQORxOOuPy\n",
       "aifuc62WbeEEiGubEn3HQWr3Uhz7COmixDd04A59Me1uQwmiytJ4H7WL9Lys1V644NYx3GhljOG4\n",
       "EZOz/KQt5seIvQcouuAUHRdcwE1Vx4XkNu7p+3eqLTgUxlFwCUuWT/eOse5xHXe3D/vZ7kImKebT\n",
       "FEReIbvKxsbJE0FthYf/oEjiZdl3nb2/0nEHgDcMd6lGVmDOFvtt3twnkK/eWnInbTZ8D9hm3d1z\n",
       "iD8Z7o45Uc4JNmfHtZzJamdtbuAxYiQybp1vn1MdJ/6F/wfDRc24wIQtX/NaZB+QWuJr/re+dCrV\n",
       "/rxexy2hJ5vScbG6CScWPnYqizOkRCDDVzGkDaXT7c+LurOz2JTJsLw70cZl0C9IFtx2rekhjyMS\n",
       "nd+tJFLywmHraoQrfZ3ozTFcaUY1bpQ/snBlyYIbbGkiC2n1YjO/SQqRjUYczuzRG/ohc7JhoxOR\n",
       "80NqUyjuoYxKFzeKg2k3im7BHZvnwV1rXv6npnNGHlZXhPMnbGVEUayxXb0iXFT2rhUxY6ufPHGe\n",
       "tcLXVfU0SoFnJeuizppKASn5D7jWsZC5VBTcAAAAAElFTkSuQmCC\n",
       "\" style=\"display:inline;vertical-align:middle;\" /></a></span></td></tr>\n",
       "<tr><td>&nbsp;</td><td colspan=4 style-\"text-align:left\"><a class=\"ProveItLink\" href=\"proofs/abs_complex_closure/thm_proof.ipynb\">proveit.numbers.absolute_value.abs_complex_closure</a></td></tr><tr><td><a name=\"0x30e93881c6a29ff3_step4\">4</a></td><td>instantiation</td><td><a href=\"#0x30e93881c6a29ff3_step5\">5</a>, <a href=\"#0x30e93881c6a29ff3_step6\">6</a>, <a href=\"#0x30e93881c6a29ff3_step7\">7</a>, <a href=\"#0x30e93881c6a29ff3_step8\">8</a>, <a href=\"#0x30e93881c6a29ff3_step9\">9</a>, <a href=\"#0x30e93881c6a29ff3_step10\">10</a>, <a href=\"#0x30e93881c6a29ff3_step11\">11</a></td><td><span style=\"font-size:20px;\"><a class=\"ProveItLink\" href=\"../__pv_it/theorems/e9f87a0977d5044ea8daf1040d2f219396bb3d5b0/expr.ipynb\"><img src=\"data:image/png;base64,iVBORw0KGgoAAAANSUhEUgAAADMAAAAQBAMAAABJt1qBAAAAMFBMVEX///8AAAAAAAAAAAAAAAAA\n",
       "AAAAAAAAAAAAAAAAAAAAAAAAAAAAAAAAAAAAAAAAAAAv3aB7AAAAD3RSTlMAIquJdkTvuxBmmd1U\n",
       "zTKBpmoTAAAACXBIWXMAAA7EAAAOxAGVKw4bAAAA0ElEQVQY02NgwAKaq+86PsYmwcCiNoFjfRVW\n",
       "qSXBDAycWKX4FlQASS0UMffduy8AKaaGAiDZiSwT6wGh2RkXQEUYlR0dwPQNqIAQnwGUFSbA/gNE\n",
       "8wpABR6zToAwODIZuDaApWAGS7E6QBhcHxi4wQY82w0EBWC7oAayFTD0B4AY7TBd7GAXAkG/A8N8\n",
       "MIMbJsUK9hcrUOoAgy4PyAUsDvDQCAISa4HaHXh2cYFF7sDDsHYhx2mg3zhU7IT8wCJNpQ2wkC/7\n",
       "vRA18IKrwQEFAwCqvi28/xxvKQAAAABJRU5ErkJggg==\n",
       "\" style=\"display:inline;vertical-align:middle;\" /></a>, <a class=\"ProveItLink\" href=\"../__pv_it/demonstrations/885cc228aa47f4d61d07e1691f08d60a4b0eb17d0/expr.ipynb\"><img src=\"data:image/png;base64,iVBORw0KGgoAAAANSUhEUgAAAD0AAAAQBAMAAABXfmoyAAAAMFBMVEX///8AAAAAAAAAAAAAAAAA\n",
       "AAAAAAAAAAAAAAAAAAAAAAAAAAAAAAAAAAAAAAAAAAAv3aB7AAAAD3RSTlMAELvv3c2ZVESJq3Yi\n",
       "MmZ3LnoBAAAACXBIWXMAAA7EAAAOxAGVKw4bAAAA3klEQVQY02NgQAdPjfRDjB7AuYzKDmgKFE4x\n",
       "dD0SgHNZE9DlTzIw8S5guKQEBAcYGPgLMOXZDgTAuf0woza5uATA5RXg8lOgdOtGhH4uwQVw+ajd\n",
       "y0EUTyCS+ZdKD8Dd/1VAHsRhhYsoHA75shGunf0jA/MGkDyS+96JIlzLFsDAPwFIX3YBAgWIPJMc\n",
       "InxYJjD0g3wohKSfN0ERzgN6Px/kQxZk/+ceQshfYLQD0dwbkOSFuOEWcD1gggRwOFz+GAPfAw24\n",
       "/1bmQRhSGgKw+NNhUIovwIjYThWXAAxBAA29OSA7wr9HAAAAAElFTkSuQmCC\n",
       "\" style=\"display:inline;vertical-align:middle;\" /></a> <a class=\"ProveItLink\" href=\"../__pv_it/demonstrations/45009a25d81e13c75b07456f90833f054be14e010/proof.ipynb\" style=\"text-decoration: none\">&nbsp;&#x22A2;&nbsp;&nbsp;</a><a class=\"ProveItLink\" href=\"../__pv_it/demonstrations/f6513f144444d84051c07b39987270fb275fb1d40/expr.ipynb\"><img src=\"data:image/png;base64,iVBORw0KGgoAAAANSUhEUgAAAKsAAAAVBAMAAADLBgMvAAAAMFBMVEX///8AAAAAAAAAAAAAAAAA\n",
       "AAAAAAAAAAAAAAAAAAAAAAAAAAAAAAAAAAAAAAAAAAAv3aB7AAAAD3RSTlMAInZUiRDNmWbv3US7\n",
       "qzJazP2FAAAACXBIWXMAAA7EAAAOxAGVKw4bAAACRUlEQVQ4y6VVMWgTURj+LtfrXXJpkk0oFi6C\n",
       "m+gNxcEpQydBuaGgQyUFURwU0iKmSKHZ7KajVsSCg3hLgxRBQRoFldbBqEVRkAbpooMUpUF0iP+9\n",
       "uwv+v3eLecN7L9+9/3vfff9/fwCU8P8jPTbjDkB7/x9kcuNseZvW8YTTxvqyQLT6+Y5AJuabyDSk\n",
       "yA8NY+EFMUwnqRiuCWAvhn5z5AT0H8AZcW52FbCI1mT32dGvoiuA18ANjhxyjS5whbMWas9ofg9k\n",
       "Gaw74brmCeC2h60SQx42QbTZ6OAB3w9ee8Rr0XwSOJxIe1QCH4GtDkNo95PcCrU/2B9CeS1y72Lg\n",
       "/mbZ4SwX9r2FIMGKRB4R5VBbpS+2eKxQCTfngvcp5XdZjNH1qiVBUvguaD9/IvmWyvhwXL/bsfN3\n",
       "iOQ6zGUWo+8i6wjaXFuqDSpBv6ZoY2iPHT29ScWwg1yg3fT9e0u+T+HmNIqVvwEa84BAgjwWdoLN\n",
       "F59GS3lb6dNmW6g2mRS6Zc3l2qy2SOI34JULW6mditXmVSWEJlQdXOUxVLYLHqcdh8bd7nkBra7c\n",
       "y/XrXtWtDTwlWhfvdBZT7JDfjIQynOEX3VImWEpdpu/37GOaLgHHSLmj3zUZy0gjX+O0o/X6ZY4s\n",
       "qro1Qy9P93vC8xnjCMV+pUp4c3zsIC+wzTnh5Eqv1+WIXadWg1yYlFMv489ycv3XTGBLJ+krSwcE\n",
       "Mhqtqxs+61lWLanVpAMCmUvrxE8G6OLQWmlPpgahzaf+62jOALTlFPwPBlyQGqwkdeYAAAAASUVO\n",
       "RK5CYII=\n",
       "\" style=\"display:inline;vertical-align:middle;\" /></a></span></td></tr>\n",
       "<tr><td>&nbsp;</td><td colspan=4 style=\"text-align:left\"><span style=\"font-size:20px;\"><a class=\"ProveItLink\" href=\"../../../__pv_it/common/ae955345c83abf786c3aff8681cd5465beae262d0/expr.ipynb\"><img src=\"data:image/png;base64,iVBORw0KGgoAAAANSUhEUgAAAAcAAAAOBAMAAAARcxsoAAAALVBMVEX///8AAAAAAAAAAAAAAAAA\n",
       "AAAAAAAAAAAAAAAAAAAAAAAAAAAAAAAAAAAAAADAOrOgAAAADnRSTlMAdpndiRBmRO8yVM2rIuws\n",
       "s0IAAAAJcEhZcwAADsQAAA7EAZUrDhsAAAA6SURBVAjXY2BgEGIAAhMGdMAqlMDAwMLewMAwi2kD\n",
       "A0MAhwBQcF0AkNjDCpR9zsLAwPngGpB7LIEBALAvCJF4nqyTAAAAAElFTkSuQmCC\n",
       "\" style=\"display:inline;vertical-align:middle;\" /></a> : <a class=\"ProveItLink\" href=\"../../numerals/__pv_it/common/48a1d915c1e9490b9a94e5c77a208938d3ee20ce0/expr.ipynb\"><img src=\"data:image/png;base64,iVBORw0KGgoAAAANSUhEUgAAAAoAAAAOBAMAAADkjZCYAAAAKlBMVEX///8AAAAAAAAAAAAAAAAA\n",
       "AAAAAAAAAAAAAAAAAAAAAAAAAAAAAAAAAADmU0mKAAAADXRSTlMAMpndq3ZmzYkiRO+7EDr+BQAA\n",
       "AAlwSFlzAAAOxAAADsQBlSsOGwAAAD1JREFUCNdjYGBgEGIAARMQwQomxUpAZAOIZJ0AIqcxgMgG\n",
       "EMk2AUROZQCRS1xcbnuAlG4Bm3AHROjcdQUAhwAMRSL9jTgAAAAASUVORK5CYII=\n",
       "\" style=\"display:inline;vertical-align:middle;\" /></a>, <a class=\"ProveItLink\" href=\"../../../__pv_it/common/c06c606ec12678c58933ac85412ecadc2ae28be60/expr.ipynb\"><img src=\"data:image/png;base64,iVBORw0KGgoAAAANSUhEUgAAAAsAAAAJBAMAAAAWSsseAAAAMFBMVEX///8AAAAAAAAAAAAAAAAA\n",
       "AAAAAAAAAAAAAAAAAAAAAAAAAAAAAAAAAAAAAAAAAAAv3aB7AAAAD3RSTlMAIquJdkTvuxBmmd1U\n",
       "zTKBpmoTAAAACXBIWXMAAA7EAAAOxAGVKw4bAAAARUlEQVQI12NgYFR2dGBgYAgTYP/BwMCRycC1\n",
       "gYGB6wMDtwEDA1sBQ38AA0O/A8N8oIr+Awy6PAIM7A48u7iAKlXshPwYAE2lCqdX0eXEAAAAAElF\n",
       "TkSuQmCC\n",
       "\" style=\"display:inline;vertical-align:middle;\" /></a> : <a class=\"ProveItLink\" href=\"../__pv_it/demonstrations/e0048a4f667ec7a135922d7887b6b3b4704c18700/expr.ipynb\"><img src=\"data:image/png;base64,iVBORw0KGgoAAAANSUhEUgAAAFAAAAAVBAMAAAAjqnRBAAAAMFBMVEX///8AAAAAAAAAAAAAAAAA\n",
       "AAAAAAAAAAAAAAAAAAAAAAAAAAAAAAAAAAAAAAAAAAAv3aB7AAAAD3RSTlMAInZUiRDNmWbv3US7\n",
       "qzJazP2FAAAACXBIWXMAAA7EAAAOxAGVKw4bAAABnUlEQVQoz4WTMUgCYRTH/15enloq0RQFNzS0\n",
       "CAYW5KK0OAVHW5DoEjU03CAdSJBTU0tBQxkkVBA1OEZjLQ0NmVM0pK0tlaZLkL3vu+87uhy84X2/\n",
       "e9//3vve+94BiKDv42FGifUXBnUy8b+e5UMZw1pv2DSavgemADXn+nZVrOPwfnNQTSRjGDTgK7qE\n",
       "LbE+AgcclBayOWgm/O7DtAUcG6jzKoMlhCnpPmZdQm9ZwDNQF4dEkpKuIc9wYn7E9g3Wok4TKjLL\n",
       "OZkFkhLu4sHgzuyK+in2Q02xRl/IbuOE7FIRBZHFwJ4QBqoyNFWNOZSItoBT27cBfIntTefgfqrw\n",
       "nQuPoNpNI31QNEgTAUMNDJHrmqVWm9A+ZBt9okFxeHh7wm0uTOCWhC0M56bByvlh52UQSkExVJa3\n",
       "ylPvUN0gccI01Q7RE+7AYcyyCuxKoBV5H/N4I29m8rXWwAVFyqTJyaDS7XYQOKPNK4uGApcIyP5j\n",
       "wPgPmHEGssyuW15fDyAlgY3OjXxZ7AFVhzN1NKvyRe8BxQnNonn0/r+CEsEv4hJfUn9NWb8AAAAA\n",
       "SUVORK5CYII=\n",
       "\" style=\"display:inline;vertical-align:middle;\" /></a></span></td></tr><tr><td><a name=\"0x30e93881c6a29ff3_step5\">5</a></td><td>conjecture</td><td></td><td><span style=\"font-size:20px;\"> <a class=\"ProveItLink\" href=\"../../addition/_theory_nbs_/proofs/add_complex_closure/thm_proof.ipynb\" style=\"text-decoration: none\">&nbsp;&#x22A2;&nbsp;&nbsp;</a><a class=\"ProveItLink\" href=\"../../addition/__pv_it/theorems/2b0e4d9bb036ec8dea616e4327156d2a2172252a0/expr.ipynb\"><img src=\"data:image/png;base64,iVBORw0KGgoAAAANSUhEUgAAAaAAAAAWBAMAAAB0/FW2AAAAMFBMVEX///8AAAAAAAAAAAAAAAAA\n",
       "AAAAAAAAAAAAAAAAAAAAAAAAAAAAAAAAAAAAAAAAAAAv3aB7AAAAD3RSTlMAq1RmmUTNIjK7EInv\n",
       "3XZ/CtNrAAAACXBIWXMAAA7EAAAOxAGVKw4bAAAEhUlEQVRYw81XXWgcVRQ+2Z3d+dndmCfBCmFV\n",
       "NIGakActNEodqEJAisGICBVZrCD1wU7AB9PaukrFgjFdpaFOxTqtvpRos1GL9qEhUErRKk1L2kpl\n",
       "YIJKTUsgCFXsg/Hec+787OxcO2v3wQNnc+45NzPfd++dc84FkMryj3CrYgltq8geqN4M87FbfnVn\n",
       "mbS98lyTxzh+8eVX6zkPQXdxzz3JhOSxdLJWaHulcyDuWTwJn/5lws8I+jHueTGZkDyWSowKabvl\n",
       "pdhY+bUOsN6EvMNBv8FPXy2ZkDyWSpQB0piMJM8ekT2mKfBAbLxbZ0w6TMiaHDSnVSgnE5LHUklR\n",
       "aEz6k2f3yx7TFCg69HfJdXH/1+j8OLCV+46DzjIjL0kK8lgquU9ouwnladefvirGtVeEsQUz2Q+u\n",
       "e0aW5aSxVPK4UPXOK14CQIlbSmh0dhcZBUxWqv8pqV3vCGsGQQ8BHGA7ZiURoth/lS1Cn7X0GwkA\n",
       "JW4Zodxp+NhBnFk8aHkfsVb3v7J1CHqUUWSsabHUhWPwcFdAiGKtJdV93WIh4TypcRKUeTDWxQCS\n",
       "e2pmTUpCnw3AJsKZmUNCQUE1/cp0P4LWncIwjSfumIS7Co7iBITCWBrRFu1h4z0r86EYnyJVVqBU\n",
       "h4ll9G1y3e9d9xz4bpOjjLpjEgaeAPhJvGeF/467TDAF13aIyXsRdMYTXJUhXkY9sxAeuSCWSh6t\n",
       "shU8CvBQI6FiDabZsvTFVpzc1+H1arod+haM6+Lw4Q4dCSYc0P1DTO1NZQObswhYaKH33l0RQhiD\n",
       "qQ1f+/8bMUMRTqzgn7xFTVXkyE178Ag0EyL3YFpCxt+QXUGckJnnjlIw4Sleh4DWjIP+gqWLo7c5\n",
       "Bm5fb+Hw5gghHjMuaX/6tT80Iw2BcOKS9fSEgYOk02W4PWM1EyI3nEj3DRm/Q0elh+FkSQGRdnph\n",
       "p8A+dIVlivUE+jU23N4HOczuvWAuRQjxmGJqc6BitkPzyV8avyt0Qo0q+uBgGJgh1b3MgtK8Q8Kt\n",
       "XY7lij842YowIoGD0Gea2/lTlDo6ng9etPSCdXiBagQH3VHF6dmttv0+IzSVjxDiseJwZxe8ie9F\n",
       "c85YaSzc3MmTpm3b5T3PhIF3SY3ub0Z/ayYk3GNObIc4spIpjEjg0LW3u6u46yVa0EOTTtBtn13g\n",
       "SfxCeEUwblS1Ou1Qrj92fZi29EEHLgempc01EELnWg+wvPGkYIhAqUpK0pdYcFRTtVroFBhOgJ1i\n",
       "sPkjt6H1VedD0JmKSSX0QdaMxwgVrb0jSGhKmPowM426/4POu03AT1P9yoJZ8Y+8WeQaI9TQbI7t\n",
       "2e200JxynLDxX5rhYIe6LRhj5LWLFnTECOU29n8JnNB4mcwhbmqnYdziP+TUq6B+gClv675gU/YL\n",
       "5bJj22wSiLOrqy3dSBhOaf8/FruVGsftSfmNlR85arwLjuebEDg/zzAutt2YLo40lIt2iS67g++/\n",
       "yTX7RPR+PnGmDDk6HNtW532T7x9Z+tWkW75H2l65Imu6GNHlU608KZtkZuH/Jf8A2WRhiy2xNVwA\n",
       "AAAASUVORK5CYII=\n",
       "\" style=\"display:inline;vertical-align:middle;\" /></a></span></td></tr>\n",
       "<tr><td>&nbsp;</td><td colspan=4 style-\"text-align:left\"><a class=\"ProveItLink\" href=\"../../addition/_theory_nbs_/proofs/add_complex_closure/thm_proof.ipynb\">proveit.numbers.addition.add_complex_closure</a></td></tr><tr><td><a name=\"0x30e93881c6a29ff3_step6\">6</a></td><td>conjecture</td><td></td><td><span style=\"font-size:20px;\"> <a class=\"ProveItLink\" href=\"../../numerals/decimals/_theory_nbs_/proofs/nat4/thm_proof.ipynb\" style=\"text-decoration: none\">&nbsp;&#x22A2;&nbsp;&nbsp;</a><a class=\"ProveItLink\" href=\"../../numerals/decimals/__pv_it/theorems/5cf9097f623478f61147fb5f5c8bbd61d83cfe3a0/expr.ipynb\"><img src=\"data:image/png;base64,iVBORw0KGgoAAAANSUhEUgAAADMAAAAQBAMAAABJt1qBAAAAMFBMVEX///8AAAAAAAAAAAAAAAAA\n",
       "AAAAAAAAAAAAAAAAAAAAAAAAAAAAAAAAAAAAAAAAAAAv3aB7AAAAD3RSTlMAMpndq3ZmzYkiRO+7\n",
       "EFRAb64nAAAACXBIWXMAAA7EAAAOxAGVKw4bAAAA10lEQVQY02NgwACX/xy/wND9ewGILYQmd47L\n",
       "gYH3A5hpgiblPKGNgWEDiMWKLuV3gH0CgwGIJVYCEWE9bGwOZnimchZApBogUlylF6C6PFkEIsBS\n",
       "rBMgUtNhMgyeDAd4FoCkpjFApCoZEFJCvLYgqQaoVAGSFNuDN0AXsk2ASDFuNjY2toFKMfiyAKWm\n",
       "MkCkeA8g6WK4wgs0cImLy28PkIABshRjAETlFjAZCpc6CMSBEKk/YJL9AUyqDoiZwK7S+e8Ktsxn\n",
       "LURG/DdQB28BctBx9UADCgoA1ZQzj5cSOPwAAAAASUVORK5CYII=\n",
       "\" style=\"display:inline;vertical-align:middle;\" /></a></span></td></tr>\n",
       "<tr><td>&nbsp;</td><td colspan=4 style-\"text-align:left\"><a class=\"ProveItLink\" href=\"../../numerals/decimals/_theory_nbs_/proofs/nat4/thm_proof.ipynb\">proveit.numbers.numerals.decimals.nat4</a></td></tr><tr><td><a name=\"0x30e93881c6a29ff3_step7\">7</a></td><td>instantiation</td><td><a href=\"#0x30e93881c6a29ff3_step12\">12</a></td><td><span style=\"font-size:20px;\"> <a class=\"ProveItLink\" href=\"../__pv_it/demonstrations/e0bd06b6f3452ccf6978ae2373b493358d802bd10/proof.ipynb\" style=\"text-decoration: none\">&nbsp;&#x22A2;&nbsp;&nbsp;</a><a class=\"ProveItLink\" href=\"../__pv_it/demonstrations/b1afc536e21203dfe4bc19a8314a775327ce18c50/expr.ipynb\"><img src=\"data:image/png;base64,iVBORw0KGgoAAAANSUhEUgAAAPgAAAAVBAMAAACZJT5kAAAAMFBMVEX///8AAAAAAAAAAAAAAAAA\n",
       "AAAAAAAAAAAAAAAAAAAAAAAAAAAAAAAAAAAAAAAAAAAv3aB7AAAAD3RSTlMAIolEdjJUEM2ZZu/d\n",
       "u6v6CvZmAAAACXBIWXMAAA7EAAAOxAGVKw4bAAADD0lEQVRIx5WWTUhUURTH//P5nJnnMEGbQmOo\n",
       "Nm1yFu2MmAILWqRFLQpBc1OQ0Fu0KEKdnSRk0soRpVlmUEwUtOjDwagQREewRSst3BQxaukoRbzu\n",
       "53v3zXhHvTDv/b33nPt799xz7hUJ0ObD9k1jmfC8dtR80uUQe5/egcsx9vSnKrr5BMHOXcADaeHJ\n",
       "fMNJZajnjVT7hj+LTz04lkIwVwPeRX7tlrDO3m+rgb4MnFXhtz2j92R0imjiqDsIl4F+PdzIwPj+\n",
       "QMAb4f9dAz4D1FkKfMQzWhbveAKxPFOtncYmMK6HR2hUWgX8K/Bazw4SeHRIgec9O7IhRGwD8VWm\n",
       "mlMg8JilhcegwCcsLOvz78ogebxy4eGMOuovyJUXEF8XOvyHBCunhV9X4T+BZf2mJyl8wIVHaL4d\n",
       "OLyXj9YtnXNS11wR4jgB+xe18IcqnLRZfdQTFH7UhdMlBZ5jgTv39Rur0rSDFwUulshSohkHPjpN\n",
       "24wDH/DCQ2ta+H5Q+GMXbpKV3s1hlA/ftPBSyUwRdpKF4bx25R+9cHNRH3UGv+HCY2TCR8AkHx4G\n",
       "fgnLSNFxIlkUWtHCX3jhY1p2NMHgHV74WxiiOCcRkMX2TLwvAQudCOR3CI/qF07yisKbPWE31hBd\n",
       "kWUeEcVGDr49TNgWhYcL2j33hr0LPl2pnSiV/n4Dul14fRpGGfHMVVD3dbr/bJ4LwBmm3rGwR4va\n",
       "lc9LOLUOJRG0jGqw6CKT4akLpzU0j+6hIXqO4Qe+gAnfVDZbYOoJq3NWkVvDWek0JbhfQzY7ij5a\n",
       "GvTBupy/SPsnS5PDQySevafOL7Vhmnx57xFSeVSYtm1nmApkycUCM6WFt5NfaWIwx6xnbXsT5ie6\n",
       "n/QYnZKCdWHMXgLeK8frB6eirEqhqAb92W62VVlfq4670+UrKPBx52itEooa0cP5TeGxTm5V47KE\n",
       "cwq8XibnLVQKV/mKNe7zuUprI12dcE5Xo3qfG/IwcYZdV0fxL9TAeyqtg1sc646aE54tsva3bSf5\n",
       "DJX3FZ/Al97Fv1FBHuiW//PY05o0C24fAAAAAElFTkSuQmCC\n",
       "\" style=\"display:inline;vertical-align:middle;\" /></a></span></td></tr>\n",
       "<tr><td>&nbsp;</td><td colspan=4 style=\"text-align:left\"><span style=\"font-size:20px;\"><a class=\"ProveItLink\" href=\"../../../__pv_it/common/c06c606ec12678c58933ac85412ecadc2ae28be60/expr.ipynb\"><img src=\"data:image/png;base64,iVBORw0KGgoAAAANSUhEUgAAAAsAAAAJBAMAAAAWSsseAAAAMFBMVEX///8AAAAAAAAAAAAAAAAA\n",
       "AAAAAAAAAAAAAAAAAAAAAAAAAAAAAAAAAAAAAAAAAAAv3aB7AAAAD3RSTlMAIquJdkTvuxBmmd1U\n",
       "zTKBpmoTAAAACXBIWXMAAA7EAAAOxAGVKw4bAAAARUlEQVQI12NgYFR2dGBgYAgTYP/BwMCRycC1\n",
       "gYGB6wMDtwEDA1sBQ38AA0O/A8N8oIr+Awy6PAIM7A48u7iAKlXshPwYAE2lCqdX0eXEAAAAAElF\n",
       "TkSuQmCC\n",
       "\" style=\"display:inline;vertical-align:middle;\" /></a> : <a class=\"ProveItLink\" href=\"../../../__pv_it/common/c06c606ec12678c58933ac85412ecadc2ae28be60/expr.ipynb\"><img src=\"data:image/png;base64,iVBORw0KGgoAAAANSUhEUgAAAAsAAAAJBAMAAAAWSsseAAAAMFBMVEX///8AAAAAAAAAAAAAAAAA\n",
       "AAAAAAAAAAAAAAAAAAAAAAAAAAAAAAAAAAAAAAAAAAAv3aB7AAAAD3RSTlMAIquJdkTvuxBmmd1U\n",
       "zTKBpmoTAAAACXBIWXMAAA7EAAAOxAGVKw4bAAAARUlEQVQI12NgYFR2dGBgYAgTYP/BwMCRycC1\n",
       "gYGB6wMDtwEDA1sBQ38AA0O/A8N8oIr+Awy6PAIM7A48u7iAKlXshPwYAE2lCqdX0eXEAAAAAElF\n",
       "TkSuQmCC\n",
       "\" style=\"display:inline;vertical-align:middle;\" /></a>, <a class=\"ProveItLink\" href=\"../../../__pv_it/common/195236b98c6c564a75b5dbada74b173bc52d5c3e0/expr.ipynb\"><img src=\"data:image/png;base64,iVBORw0KGgoAAAANSUhEUgAAAAkAAAAOBAMAAAAPuiubAAAAMFBMVEX///8AAAAAAAAAAAAAAAAA\n",
       "AAAAAAAAAAAAAAAAAAAAAAAAAAAAAAAAAAAAAAAAAAAv3aB7AAAAD3RSTlMAELvv3c2ZVESJq3Yi\n",
       "MmZ3LnoBAAAACXBIWXMAAA7EAAAOxAGVKw4bAAAAT0lEQVQI12NgVHZgAALWBBDJXwAi+wVA5BQQ\n",
       "wRC1ezkDA+NXAfkDDOwfGZg3MLAFMPBPYGCZwNBfAFKeL8DAf4HRjoGB6wET0AjGlXkMDAAVqA7Q\n",
       "GyenWgAAAABJRU5ErkJggg==\n",
       "\" style=\"display:inline;vertical-align:middle;\" /></a> : <a class=\"ProveItLink\" href=\"../../../__pv_it/common/195236b98c6c564a75b5dbada74b173bc52d5c3e0/expr.ipynb\"><img src=\"data:image/png;base64,iVBORw0KGgoAAAANSUhEUgAAAAkAAAAOBAMAAAAPuiubAAAAMFBMVEX///8AAAAAAAAAAAAAAAAA\n",
       "AAAAAAAAAAAAAAAAAAAAAAAAAAAAAAAAAAAAAAAAAAAv3aB7AAAAD3RSTlMAELvv3c2ZVESJq3Yi\n",
       "MmZ3LnoBAAAACXBIWXMAAA7EAAAOxAGVKw4bAAAAT0lEQVQI12NgVHZgAALWBBDJXwAi+wVA5BQQ\n",
       "wRC1ezkDA+NXAfkDDOwfGZg3MLAFMPBPYGCZwNBfAFKeL8DAf4HRjoGB6wET0AjGlXkMDAAVqA7Q\n",
       "GyenWgAAAABJRU5ErkJggg==\n",
       "\" style=\"display:inline;vertical-align:middle;\" /></a>, <a class=\"ProveItLink\" href=\"../../../__pv_it/common/ceef4280a2f1cc604b455b54e735507244cc62cd0/expr.ipynb\"><img src=\"data:image/png;base64,iVBORw0KGgoAAAANSUhEUgAAAAkAAAAJBAMAAAASvxsjAAAAKlBMVEX///8AAAAAAAAAAAAAAAAA\n",
       "AAAAAAAAAAAAAAAAAAAAAAAAAAAAAAAAAADmU0mKAAAADXRSTlMAiXZmMiLdVJm77xBEs3/oGgAA\n",
       "AAlwSFlzAAAOxAAADsQBlSsOGwAAADZJREFUCNdjYGAQUnZgYAgr4JjAwJDIwKXAwHGbAQi4JoDI\n",
       "vQogkteAgeEAA1ABI1CloLE2AwDCNQb+PNXqTgAAAABJRU5ErkJggg==\n",
       "\" style=\"display:inline;vertical-align:middle;\" /></a> : <a class=\"ProveItLink\" href=\"../../numerals/__pv_it/common/af4aab8a07465db063742696e006d04670f30cf10/expr.ipynb\"><img src=\"data:image/png;base64,iVBORw0KGgoAAAANSUhEUgAAAAkAAAAOBAMAAAAPuiubAAAAMFBMVEX///8AAAAAAAAAAAAAAAAA\n",
       "AAAAAAAAAAAAAAAAAAAAAAAAAAAAAAAAAAAAAAAAAAAv3aB7AAAAD3RSTlMAIpnNuzKJRKvvEN12\n",
       "ZlQ4bmvwAAAACXBIWXMAAA7EAAAOxAGVKw4bAAAATklEQVQI12NgVDIJYGAQYWD7zsDQyMAwk4Fh\n",
       "/gKGfgGGbgaGfqAEA8N+EMH6B0RyN4BIFRDBC2Y+Y2AUYGBNYOBZwCCtpKQNVPz//2cGAEeID1mi\n",
       "/zO7AAAAAElFTkSuQmCC\n",
       "\" style=\"display:inline;vertical-align:middle;\" /></a>, <a class=\"ProveItLink\" href=\"../../../__pv_it/common/4f5c524ffda87296de1c79b96880123fe2efedd50/expr.ipynb\"><img src=\"data:image/png;base64,iVBORw0KGgoAAAANSUhEUgAAAAsAAAAOBAMAAAALT/umAAAAMFBMVEX///8AAAAAAAAAAAAAAAAA\n",
       "AAAAAAAAAAAAAAAAAAAAAAAAAAAAAAAAAAAAAAAAAAAv3aB7AAAAD3RSTlMAMs3vmVREEIndIqt2\n",
       "u2aBbGR5AAAACXBIWXMAAA7EAAAOxAGVKw4bAAAAWklEQVQI12NgYGBgVHZgAAH+ADCVXwCmOsEk\n",
       "gwoQc+04+BVIJS/g/c7AwG7HwKLAwMDygYGzgYGB+QJDfQIDQ/0BhvdAFfUBDJtYFzDwHmCdwgJU\n",
       "uadx9UEGAKwhEtVeQlhQAAAAAElFTkSuQmCC\n",
       "\" style=\"display:inline;vertical-align:middle;\" /></a> : <a class=\"ProveItLink\" href=\"../../numerals/__pv_it/common/1943b60945420e340d305780feff5c1aff2740ff0/expr.ipynb\"><img src=\"data:image/png;base64,iVBORw0KGgoAAAANSUhEUgAAAAoAAAAOBAMAAADkjZCYAAAAMFBMVEX///8AAAAAAAAAAAAAAAAA\n",
       "AAAAAAAAAAAAAAAAAAAAAAAAAAAAAAAAAAAAAAAAAAAv3aB7AAAAD3RSTlMAIomZu0QQVHbN72bd\n",
       "Mqv0UZE7AAAACXBIWXMAAA7EAAAOxAGVKw4bAAAATElEQVQI12NgEFJ2ZWBgM2CoL2Dg+M6QP4GB\n",
       "dSkD/wQGIKjfACRYTwMJ3r63DGCRAhDJ9Y2B9wIDy3cG/m8gkusBSIR7A1h9sLErAwDNcRLUUVUn\n",
       "vwAAAABJRU5ErkJggg==\n",
       "\" style=\"display:inline;vertical-align:middle;\" /></a></span></td></tr><tr><td><a name=\"0x30e93881c6a29ff3_step8\">8</a></td><td>assumption</td><td></td><td><span style=\"font-size:20px;\"><a class=\"ProveItLink\" href=\"../__pv_it/theorems/e9f87a0977d5044ea8daf1040d2f219396bb3d5b0/expr.ipynb\"><img src=\"data:image/png;base64,iVBORw0KGgoAAAANSUhEUgAAADMAAAAQBAMAAABJt1qBAAAAMFBMVEX///8AAAAAAAAAAAAAAAAA\n",
       "AAAAAAAAAAAAAAAAAAAAAAAAAAAAAAAAAAAAAAAAAAAv3aB7AAAAD3RSTlMAIquJdkTvuxBmmd1U\n",
       "zTKBpmoTAAAACXBIWXMAAA7EAAAOxAGVKw4bAAAA0ElEQVQY02NgwAKaq+86PsYmwcCiNoFjfRVW\n",
       "qSXBDAycWKX4FlQASS0UMffduy8AKaaGAiDZiSwT6wGh2RkXQEUYlR0dwPQNqIAQnwGUFSbA/gNE\n",
       "8wpABR6zToAwODIZuDaApWAGS7E6QBhcHxi4wQY82w0EBWC7oAayFTD0B4AY7TBd7GAXAkG/A8N8\n",
       "MIMbJsUK9hcrUOoAgy4PyAUsDvDQCAISa4HaHXh2cYFF7sDDsHYhx2mg3zhU7IT8wCJNpQ2wkC/7\n",
       "vRA18IKrwQEFAwCqvi28/xxvKQAAAABJRU5ErkJggg==\n",
       "\" style=\"display:inline;vertical-align:middle;\" /></a> <a class=\"ProveItLink\" href=\"../__pv_it/demonstrations/ad266309ae4de20a5c15077d716881c3932eebb40/proof.ipynb\" style=\"text-decoration: none\">&nbsp;&#x22A2;&nbsp;&nbsp;</a><a class=\"ProveItLink\" href=\"../__pv_it/theorems/e9f87a0977d5044ea8daf1040d2f219396bb3d5b0/expr.ipynb\"><img src=\"data:image/png;base64,iVBORw0KGgoAAAANSUhEUgAAADMAAAAQBAMAAABJt1qBAAAAMFBMVEX///8AAAAAAAAAAAAAAAAA\n",
       "AAAAAAAAAAAAAAAAAAAAAAAAAAAAAAAAAAAAAAAAAAAv3aB7AAAAD3RSTlMAIquJdkTvuxBmmd1U\n",
       "zTKBpmoTAAAACXBIWXMAAA7EAAAOxAGVKw4bAAAA0ElEQVQY02NgwAKaq+86PsYmwcCiNoFjfRVW\n",
       "qSXBDAycWKX4FlQASS0UMffduy8AKaaGAiDZiSwT6wGh2RkXQEUYlR0dwPQNqIAQnwGUFSbA/gNE\n",
       "8wpABR6zToAwODIZuDaApWAGS7E6QBhcHxi4wQY82w0EBWC7oAayFTD0B4AY7TBd7GAXAkG/A8N8\n",
       "MIMbJsUK9hcrUOoAgy4PyAUsDvDQCAISa4HaHXh2cYFF7sDDsHYhx2mg3zhU7IT8wCJNpQ2wkC/7\n",
       "vRA18IKrwQEFAwCqvi28/xxvKQAAAABJRU5ErkJggg==\n",
       "\" style=\"display:inline;vertical-align:middle;\" /></a></span></td></tr>\n",
       "<tr><td><a name=\"0x30e93881c6a29ff3_step9\">9</a></td><td>instantiation</td><td><a href=\"#0x30e93881c6a29ff3_step26\">26</a>, <a href=\"#0x30e93881c6a29ff3_step15\">15</a>, <a href=\"#0x30e93881c6a29ff3_step13\">13</a></td><td><span style=\"font-size:20px;\"><a class=\"ProveItLink\" href=\"../__pv_it/demonstrations/885cc228aa47f4d61d07e1691f08d60a4b0eb17d0/expr.ipynb\"><img src=\"data:image/png;base64,iVBORw0KGgoAAAANSUhEUgAAAD0AAAAQBAMAAABXfmoyAAAAMFBMVEX///8AAAAAAAAAAAAAAAAA\n",
       "AAAAAAAAAAAAAAAAAAAAAAAAAAAAAAAAAAAAAAAAAAAv3aB7AAAAD3RSTlMAELvv3c2ZVESJq3Yi\n",
       "MmZ3LnoBAAAACXBIWXMAAA7EAAAOxAGVKw4bAAAA3klEQVQY02NgQAdPjfRDjB7AuYzKDmgKFE4x\n",
       "dD0SgHNZE9DlTzIw8S5guKQEBAcYGPgLMOXZDgTAuf0woza5uATA5RXg8lOgdOtGhH4uwQVw+ajd\n",
       "y0EUTyCS+ZdKD8Dd/1VAHsRhhYsoHA75shGunf0jA/MGkDyS+96JIlzLFsDAPwFIX3YBAgWIPJMc\n",
       "InxYJjD0g3wohKSfN0ERzgN6Px/kQxZk/+ceQshfYLQD0dwbkOSFuOEWcD1gggRwOFz+GAPfAw24\n",
       "/1bmQRhSGgKw+NNhUIovwIjYThWXAAxBAA29OSA7wr9HAAAAAElFTkSuQmCC\n",
       "\" style=\"display:inline;vertical-align:middle;\" /></a> <a class=\"ProveItLink\" href=\"../__pv_it/demonstrations/89b00c1e74c7145c8d126dbab80d9e0530c1ceb60/proof.ipynb\" style=\"text-decoration: none\">&nbsp;&#x22A2;&nbsp;&nbsp;</a><a class=\"ProveItLink\" href=\"../__pv_it/theorems/a259ec76dfb0a5be60b7c83d797520fa82c1dba60/expr.ipynb\"><img src=\"data:image/png;base64,iVBORw0KGgoAAAANSUhEUgAAADEAAAAQBAMAAABNQoq8AAAAMFBMVEX///8AAAAAAAAAAAAAAAAA\n",
       "AAAAAAAAAAAAAAAAAAAAAAAAAAAAAAAAAAAAAAAAAAAv3aB7AAAAD3RSTlMAELvv3c2ZVESJq3Yi\n",
       "MmZ3LnoBAAAACXBIWXMAAA7EAAAOxAGVKw4bAAAA2UlEQVQY02NgwASSKqF7bjIwMCo7oElwL37A\n",
       "mK8GZLAmoMlkdzIw8IFk+AtQJXgTFIHkMiDuF4AKbXJxCQBSXAIKQFIOiKdAJVo3QmgmHpjxUbuX\n",
       "gyieQCj/FO8ECIPxq4D8AZBDDkBlbnI8gDDYPzIwbwDJwFxwjGMDhMEWwMAP0n7ZBQgUwPZATWOZ\n",
       "wNAPcrcQTA8T2G0Q7+SD3M0Ck+EA+4cDKHOB0Q4cJhvgYdAFJFKBHnvABHF/ODzcVHMYS4BijCvz\n",
       "IAJSGrDAkFT+koMSYJ0q4NCBAQD6uylQEVfDpgAAAABJRU5ErkJggg==\n",
       "\" style=\"display:inline;vertical-align:middle;\" /></a></span></td></tr>\n",
       "<tr><td>&nbsp;</td><td colspan=4 style=\"text-align:left\"><span style=\"font-size:20px;\"><a class=\"ProveItLink\" href=\"../../../__pv_it/common/09585084922504426caf1db2ff588a23a0932a960/expr.ipynb\"><img src=\"data:image/png;base64,iVBORw0KGgoAAAANSUhEUgAAAA8AAAAPBAMAAADJ+Ih5AAAAMFBMVEX///8AAAAAAAAAAAAAAAAA\n",
       "AAAAAAAAAAAAAAAAAAAAAAAAAAAAAAAAAAAAAAAAAAAv3aB7AAAAD3RSTlMAIs1UmauJMnZmRLsQ\n",
       "3e++988cAAAACXBIWXMAAA7EAAAOxAGVKw4bAAAAXklEQVQI12NgAAEhBijQh9LM/6EMlngBCCMx\n",
       "vwBMMzb0G0BkGOwngBmLGeoTwAwHBvkAEM2xxSV+A4hxgoGB/wJEhoH3AZDmAupg+gBkyAEx90cG\n",
       "htP/dRiY939KAABt3hLO6mcEjQAAAABJRU5ErkJggg==\n",
       "\" style=\"display:inline;vertical-align:middle;\" /></a> : <a class=\"ProveItLink\" href=\"../../number_sets/real_numbers/__pv_it/common/93cac87a1a47e613f7a83b23ef7891599a1a4cca0/expr.ipynb\"><img src=\"data:image/png;base64,iVBORw0KGgoAAAANSUhEUgAAAA8AAAAPBAMAAADJ+Ih5AAAAMFBMVEX///8AAAAAAAAAAAAAAAAA\n",
       "AAAAAAAAAAAAAAAAAAAAAAAAAAAAAAAAAAAAAAAAAAAv3aB7AAAAD3RSTlMAZs3vu90iq0QQiTKZ\n",
       "VHZ+Ip2vAAAACXBIWXMAAA7EAAAOxAGVKw4bAAAAX0lEQVQI12MQMvFXNRFgAAKHdIZ2kQkgRhYD\n",
       "C3cBhMGToABjOEAY7DOhUlsuJYAYyapfX4K1ZwlOYoAwWCZCDMziPuAJYTCcToEypvCB5BxyGBgF\n",
       "PBgYgLa7MbjoXwAAK2IYKL6KYFkAAAAASUVORK5CYII=\n",
       "\" style=\"display:inline;vertical-align:middle;\" /></a>, <a class=\"ProveItLink\" href=\"../../../__pv_it/common/a9162d1c3cc0470c02e5daf414500903a7a419230/expr.ipynb\"><img src=\"data:image/png;base64,iVBORw0KGgoAAAANSUhEUgAAABAAAAAOBAMAAADUAYG5AAAAMFBMVEX///8AAAAAAAAAAAAAAAAA\n",
       "AAAAAAAAAAAAAAAAAAAAAAAAAAAAAAAAAAAAAAAAAAAv3aB7AAAAD3RSTlMAZrurzTLvInZEmRDd\n",
       "VIkafcLnAAAACXBIWXMAAA7EAAAOxAGVKw4bAAAAb0lEQVQI12NgYBD6b2zsFMAABEkMDMxfgTT7\n",
       "DwYGzl9ABiOQxwjkMDB/YGBgSQcy2BQYuG1AiuM1OkwEQJr6Cxh4E0EMNSB+D5L6DMTyDQwMrB+B\n",
       "DPsJDAwc34GcL0AOSwIDwzRvoHH6n41NdBkYAF/iFeJ4bEa2AAAAAElFTkSuQmCC\n",
       "\" style=\"display:inline;vertical-align:middle;\" /></a> : <a class=\"ProveItLink\" href=\"../../number_sets/complex_numbers/__pv_it/common/d18a028138f659eda00de597c28a3447fe87eb100/expr.ipynb\"><img src=\"data:image/png;base64,iVBORw0KGgoAAAANSUhEUgAAAA8AAAAPBAMAAADJ+Ih5AAAAMFBMVEX///8AAAAAAAAAAAAAAAAA\n",
       "AAAAAAAAAAAAAAAAAAAAAAAAAAAAAAAAAAAAAAAAAAAv3aB7AAAAD3RSTlMAEIm73c12IjKr72aZ\n",
       "RFTgyeMAAAAACXBIWXMAAA7EAAAOxAGVKw4bAAAAZ0lEQVQI12NgYBAyCU1vYmBgYJu1gfG8DZBx\n",
       "7BIDAzeQwXHAEMibw8DAKWAAZEgzMDCzH2AAg0oOBQijiXcDhFHDmwBhMLNDpZjBuoCAF2wOL8jk\n",
       "m0DiKMgu0+OMT8BmCVl9Oc7AAAAdvxPWFwp0lAAAAABJRU5ErkJggg==\n",
       "\" style=\"display:inline;vertical-align:middle;\" /></a>, <a class=\"ProveItLink\" href=\"../../../__pv_it/common/a0d9d672aa5e272d907247690c152cc2c6daafb70/expr.ipynb\"><img src=\"data:image/png;base64,iVBORw0KGgoAAAANSUhEUgAAAAsAAAAJBAMAAAAWSsseAAAAMFBMVEX///8AAAAAAAAAAAAAAAAA\n",
       "AAAAAAAAAAAAAAAAAAAAAAAAAAAAAAAAAAAAAAAAAAAv3aB7AAAAD3RSTlMAEHarMolUmd1mIs3v\n",
       "RLtmgJDEAAAACXBIWXMAAA7EAAAOxAGVKw4bAAAAQklEQVQI12NgEFIWCU1gYChgMmJvYOBcwPmR\n",
       "eQIDCwP7BgYQ4FEAU/cXMAowyF2wYWBlYMh3rGG4xsAgrsRWmcAAAFEjCyBvD0T9AAAAAElFTkSu\n",
       "QmCC\n",
       "\" style=\"display:inline;vertical-align:middle;\" /></a> : <a class=\"ProveItLink\" href=\"../../../__pv_it/common/195236b98c6c564a75b5dbada74b173bc52d5c3e0/expr.ipynb\"><img src=\"data:image/png;base64,iVBORw0KGgoAAAANSUhEUgAAAAkAAAAOBAMAAAAPuiubAAAAMFBMVEX///8AAAAAAAAAAAAAAAAA\n",
       "AAAAAAAAAAAAAAAAAAAAAAAAAAAAAAAAAAAAAAAAAAAv3aB7AAAAD3RSTlMAELvv3c2ZVESJq3Yi\n",
       "MmZ3LnoBAAAACXBIWXMAAA7EAAAOxAGVKw4bAAAAT0lEQVQI12NgVHZgAALWBBDJXwAi+wVA5BQQ\n",
       "wRC1ezkDA+NXAfkDDOwfGZg3MLAFMPBPYGCZwNBfAFKeL8DAf4HRjoGB6wET0AjGlXkMDAAVqA7Q\n",
       "GyenWgAAAABJRU5ErkJggg==\n",
       "\" style=\"display:inline;vertical-align:middle;\" /></a></span></td></tr><tr><td><a name=\"0x30e93881c6a29ff3_step10\">10</a></td><td>instantiation</td><td><a href=\"#0x30e93881c6a29ff3_step26\">26</a>, <a href=\"#0x30e93881c6a29ff3_step15\">15</a>, <a href=\"#0x30e93881c6a29ff3_step14\">14</a></td><td><span style=\"font-size:20px;\"> <a class=\"ProveItLink\" href=\"../__pv_it/demonstrations/aad2ff8ce4765e98e89cbc7d3607ca96dbd9edfe0/proof.ipynb\" style=\"text-decoration: none\">&nbsp;&#x22A2;&nbsp;&nbsp;</a><a class=\"ProveItLink\" href=\"../__pv_it/demonstrations/2c4bd2670ea1c897df5369ee136bb00ac765f0ee0/expr.ipynb\"><img src=\"data:image/png;base64,iVBORw0KGgoAAAANSUhEUgAAADIAAAAQBAMAAACmdTG/AAAAMFBMVEX///8AAAAAAAAAAAAAAAAA\n",
       "AAAAAAAAAAAAAAAAAAAAAAAAAAAAAAAAAAAAAAAAAAAv3aB7AAAAD3RSTlMAIpnNuzKJRKvvEN12\n",
       "ZlQ4bmvwAAAACXBIWXMAAA7EAAAOxAGVKw4bAAAA2klEQVQY02NgwARcKZttRBMYGJVMAtBkTsxl\n",
       "WPRFgUGEge07qgTT8QQGhisKDI0MDDNRZYJYFjAwcCgwzF/A0C8AFjmye7cBiO5iAdl1gaGbgaEf\n",
       "bFHxKageByG49v0ggtEKymNsCINJsP4BkcwCMG5CLUyGuwEsA+MyKtTAmCpgMnI3EDiA7RGDSvCC\n",
       "tTAsgVvrxQJlPGNgBFnBDZcpAvmHoQBoIQMPiMVzABEGQFOYDBiklZS0wQJ2cE1HjATWbQJ65v//\n",
       "z2D+CvcF8LCev0kAObzKvCGhAwUAiQ4v3OpNKIIAAAAASUVORK5CYII=\n",
       "\" style=\"display:inline;vertical-align:middle;\" /></a></span></td></tr>\n",
       "<tr><td>&nbsp;</td><td colspan=4 style=\"text-align:left\"><span style=\"font-size:20px;\"><a class=\"ProveItLink\" href=\"../../../__pv_it/common/09585084922504426caf1db2ff588a23a0932a960/expr.ipynb\"><img src=\"data:image/png;base64,iVBORw0KGgoAAAANSUhEUgAAAA8AAAAPBAMAAADJ+Ih5AAAAMFBMVEX///8AAAAAAAAAAAAAAAAA\n",
       "AAAAAAAAAAAAAAAAAAAAAAAAAAAAAAAAAAAAAAAAAAAv3aB7AAAAD3RSTlMAIs1UmauJMnZmRLsQ\n",
       "3e++988cAAAACXBIWXMAAA7EAAAOxAGVKw4bAAAAXklEQVQI12NgAAEhBijQh9LM/6EMlngBCCMx\n",
       "vwBMMzb0G0BkGOwngBmLGeoTwAwHBvkAEM2xxSV+A4hxgoGB/wJEhoH3AZDmAupg+gBkyAEx90cG\n",
       "htP/dRiY939KAABt3hLO6mcEjQAAAABJRU5ErkJggg==\n",
       "\" style=\"display:inline;vertical-align:middle;\" /></a> : <a class=\"ProveItLink\" href=\"../../number_sets/real_numbers/__pv_it/common/93cac87a1a47e613f7a83b23ef7891599a1a4cca0/expr.ipynb\"><img src=\"data:image/png;base64,iVBORw0KGgoAAAANSUhEUgAAAA8AAAAPBAMAAADJ+Ih5AAAAMFBMVEX///8AAAAAAAAAAAAAAAAA\n",
       "AAAAAAAAAAAAAAAAAAAAAAAAAAAAAAAAAAAAAAAAAAAv3aB7AAAAD3RSTlMAZs3vu90iq0QQiTKZ\n",
       "VHZ+Ip2vAAAACXBIWXMAAA7EAAAOxAGVKw4bAAAAX0lEQVQI12MQMvFXNRFgAAKHdIZ2kQkgRhYD\n",
       "C3cBhMGToABjOEAY7DOhUlsuJYAYyapfX4K1ZwlOYoAwWCZCDMziPuAJYTCcToEypvCB5BxyGBgF\n",
       "PBgYgLa7MbjoXwAAK2IYKL6KYFkAAAAASUVORK5CYII=\n",
       "\" style=\"display:inline;vertical-align:middle;\" /></a>, <a class=\"ProveItLink\" href=\"../../../__pv_it/common/a9162d1c3cc0470c02e5daf414500903a7a419230/expr.ipynb\"><img src=\"data:image/png;base64,iVBORw0KGgoAAAANSUhEUgAAABAAAAAOBAMAAADUAYG5AAAAMFBMVEX///8AAAAAAAAAAAAAAAAA\n",
       "AAAAAAAAAAAAAAAAAAAAAAAAAAAAAAAAAAAAAAAAAAAv3aB7AAAAD3RSTlMAZrurzTLvInZEmRDd\n",
       "VIkafcLnAAAACXBIWXMAAA7EAAAOxAGVKw4bAAAAb0lEQVQI12NgYBD6b2zsFMAABEkMDMxfgTT7\n",
       "DwYGzl9ABiOQxwjkMDB/YGBgSQcy2BQYuG1AiuM1OkwEQJr6Cxh4E0EMNSB+D5L6DMTyDQwMrB+B\n",
       "DPsJDAwc34GcL0AOSwIDwzRvoHH6n41NdBkYAF/iFeJ4bEa2AAAAAElFTkSuQmCC\n",
       "\" style=\"display:inline;vertical-align:middle;\" /></a> : <a class=\"ProveItLink\" href=\"../../number_sets/complex_numbers/__pv_it/common/d18a028138f659eda00de597c28a3447fe87eb100/expr.ipynb\"><img src=\"data:image/png;base64,iVBORw0KGgoAAAANSUhEUgAAAA8AAAAPBAMAAADJ+Ih5AAAAMFBMVEX///8AAAAAAAAAAAAAAAAA\n",
       "AAAAAAAAAAAAAAAAAAAAAAAAAAAAAAAAAAAAAAAAAAAv3aB7AAAAD3RSTlMAEIm73c12IjKr72aZ\n",
       "RFTgyeMAAAAACXBIWXMAAA7EAAAOxAGVKw4bAAAAZ0lEQVQI12NgYBAyCU1vYmBgYJu1gfG8DZBx\n",
       "7BIDAzeQwXHAEMibw8DAKWAAZEgzMDCzH2AAg0oOBQijiXcDhFHDmwBhMLNDpZjBuoCAF2wOL8jk\n",
       "m0DiKMgu0+OMT8BmCVl9Oc7AAAAdvxPWFwp0lAAAAABJRU5ErkJggg==\n",
       "\" style=\"display:inline;vertical-align:middle;\" /></a>, <a class=\"ProveItLink\" href=\"../../../__pv_it/common/a0d9d672aa5e272d907247690c152cc2c6daafb70/expr.ipynb\"><img src=\"data:image/png;base64,iVBORw0KGgoAAAANSUhEUgAAAAsAAAAJBAMAAAAWSsseAAAAMFBMVEX///8AAAAAAAAAAAAAAAAA\n",
       "AAAAAAAAAAAAAAAAAAAAAAAAAAAAAAAAAAAAAAAAAAAv3aB7AAAAD3RSTlMAEHarMolUmd1mIs3v\n",
       "RLtmgJDEAAAACXBIWXMAAA7EAAAOxAGVKw4bAAAAQklEQVQI12NgEFIWCU1gYChgMmJvYOBcwPmR\n",
       "eQIDCwP7BgYQ4FEAU/cXMAowyF2wYWBlYMh3rGG4xsAgrsRWmcAAAFEjCyBvD0T9AAAAAElFTkSu\n",
       "QmCC\n",
       "\" style=\"display:inline;vertical-align:middle;\" /></a> : <a class=\"ProveItLink\" href=\"../../numerals/__pv_it/common/af4aab8a07465db063742696e006d04670f30cf10/expr.ipynb\"><img src=\"data:image/png;base64,iVBORw0KGgoAAAANSUhEUgAAAAkAAAAOBAMAAAAPuiubAAAAMFBMVEX///8AAAAAAAAAAAAAAAAA\n",
       "AAAAAAAAAAAAAAAAAAAAAAAAAAAAAAAAAAAAAAAAAAAv3aB7AAAAD3RSTlMAIpnNuzKJRKvvEN12\n",
       "ZlQ4bmvwAAAACXBIWXMAAA7EAAAOxAGVKw4bAAAATklEQVQI12NgVDIJYGAQYWD7zsDQyMAwk4Fh\n",
       "/gKGfgGGbgaGfqAEA8N+EMH6B0RyN4BIFRDBC2Y+Y2AUYGBNYOBZwCCtpKQNVPz//2cGAEeID1mi\n",
       "/zO7AAAAAElFTkSuQmCC\n",
       "\" style=\"display:inline;vertical-align:middle;\" /></a></span></td></tr><tr><td><a name=\"0x30e93881c6a29ff3_step11\">11</a></td><td>instantiation</td><td><a href=\"#0x30e93881c6a29ff3_step26\">26</a>, <a href=\"#0x30e93881c6a29ff3_step15\">15</a>, <a href=\"#0x30e93881c6a29ff3_step16\">16</a></td><td><span style=\"font-size:20px;\"> <a class=\"ProveItLink\" href=\"../__pv_it/demonstrations/593c68854409100f9a1daf0926843552ef7da3f20/proof.ipynb\" style=\"text-decoration: none\">&nbsp;&#x22A2;&nbsp;&nbsp;</a><a class=\"ProveItLink\" href=\"../__pv_it/demonstrations/b7c0ab46a80fa49f5f87317ac1bbf9cb271ca9e60/expr.ipynb\"><img src=\"data:image/png;base64,iVBORw0KGgoAAAANSUhEUgAAADMAAAAQBAMAAABJt1qBAAAAMFBMVEX///8AAAAAAAAAAAAAAAAA\n",
       "AAAAAAAAAAAAAAAAAAAAAAAAAAAAAAAAAAAAAAAAAAAv3aB7AAAAD3RSTlMAIomZu0QQVHbN72bd\n",
       "Mqv0UZE7AAAACXBIWXMAAA7EAAAOxAGVKw4bAAAA3ElEQVQY02NgwAKSfGY2XgLSQsquaDIcrzaw\n",
       "2TszMLAZMNQXoEpZBDEwcAOlOL4z5E9AkeE1cAOSjxkYWJcy8EOkOHzOnATRfAkOQDIbLFa/AUSy\n",
       "zkiA6GJhNIAZwHoaTElCZRjkeBVgRve9BdMTYUovsW6A2wtxIdwtwqwNcCmubyDNa86cOXMEYhfU\n",
       "QN4LDCzfgTSbA0wlSwKUyf8NIsVwAO4ssL9YgaY9gBjI0IEIjTggYQkMkQ1Qf3HCg4vD05CtBuS3\n",
       "YGNI8LI9CYOHvNcfQ5SwY1WBBBQMAACnUzAZQnh95wAAAABJRU5ErkJggg==\n",
       "\" style=\"display:inline;vertical-align:middle;\" /></a></span></td></tr>\n",
       "<tr><td>&nbsp;</td><td colspan=4 style=\"text-align:left\"><span style=\"font-size:20px;\"><a class=\"ProveItLink\" href=\"../../../__pv_it/common/09585084922504426caf1db2ff588a23a0932a960/expr.ipynb\"><img src=\"data:image/png;base64,iVBORw0KGgoAAAANSUhEUgAAAA8AAAAPBAMAAADJ+Ih5AAAAMFBMVEX///8AAAAAAAAAAAAAAAAA\n",
       "AAAAAAAAAAAAAAAAAAAAAAAAAAAAAAAAAAAAAAAAAAAv3aB7AAAAD3RSTlMAIs1UmauJMnZmRLsQ\n",
       "3e++988cAAAACXBIWXMAAA7EAAAOxAGVKw4bAAAAXklEQVQI12NgAAEhBijQh9LM/6EMlngBCCMx\n",
       "vwBMMzb0G0BkGOwngBmLGeoTwAwHBvkAEM2xxSV+A4hxgoGB/wJEhoH3AZDmAupg+gBkyAEx90cG\n",
       "htP/dRiY939KAABt3hLO6mcEjQAAAABJRU5ErkJggg==\n",
       "\" style=\"display:inline;vertical-align:middle;\" /></a> : <a class=\"ProveItLink\" href=\"../../number_sets/real_numbers/__pv_it/common/93cac87a1a47e613f7a83b23ef7891599a1a4cca0/expr.ipynb\"><img src=\"data:image/png;base64,iVBORw0KGgoAAAANSUhEUgAAAA8AAAAPBAMAAADJ+Ih5AAAAMFBMVEX///8AAAAAAAAAAAAAAAAA\n",
       "AAAAAAAAAAAAAAAAAAAAAAAAAAAAAAAAAAAAAAAAAAAv3aB7AAAAD3RSTlMAZs3vu90iq0QQiTKZ\n",
       "VHZ+Ip2vAAAACXBIWXMAAA7EAAAOxAGVKw4bAAAAX0lEQVQI12MQMvFXNRFgAAKHdIZ2kQkgRhYD\n",
       "C3cBhMGToABjOEAY7DOhUlsuJYAYyapfX4K1ZwlOYoAwWCZCDMziPuAJYTCcToEypvCB5BxyGBgF\n",
       "PBgYgLa7MbjoXwAAK2IYKL6KYFkAAAAASUVORK5CYII=\n",
       "\" style=\"display:inline;vertical-align:middle;\" /></a>, <a class=\"ProveItLink\" href=\"../../../__pv_it/common/a9162d1c3cc0470c02e5daf414500903a7a419230/expr.ipynb\"><img src=\"data:image/png;base64,iVBORw0KGgoAAAANSUhEUgAAABAAAAAOBAMAAADUAYG5AAAAMFBMVEX///8AAAAAAAAAAAAAAAAA\n",
       "AAAAAAAAAAAAAAAAAAAAAAAAAAAAAAAAAAAAAAAAAAAv3aB7AAAAD3RSTlMAZrurzTLvInZEmRDd\n",
       "VIkafcLnAAAACXBIWXMAAA7EAAAOxAGVKw4bAAAAb0lEQVQI12NgYBD6b2zsFMAABEkMDMxfgTT7\n",
       "DwYGzl9ABiOQxwjkMDB/YGBgSQcy2BQYuG1AiuM1OkwEQJr6Cxh4E0EMNSB+D5L6DMTyDQwMrB+B\n",
       "DPsJDAwc34GcL0AOSwIDwzRvoHH6n41NdBkYAF/iFeJ4bEa2AAAAAElFTkSuQmCC\n",
       "\" style=\"display:inline;vertical-align:middle;\" /></a> : <a class=\"ProveItLink\" href=\"../../number_sets/complex_numbers/__pv_it/common/d18a028138f659eda00de597c28a3447fe87eb100/expr.ipynb\"><img src=\"data:image/png;base64,iVBORw0KGgoAAAANSUhEUgAAAA8AAAAPBAMAAADJ+Ih5AAAAMFBMVEX///8AAAAAAAAAAAAAAAAA\n",
       "AAAAAAAAAAAAAAAAAAAAAAAAAAAAAAAAAAAAAAAAAAAv3aB7AAAAD3RSTlMAEIm73c12IjKr72aZ\n",
       "RFTgyeMAAAAACXBIWXMAAA7EAAAOxAGVKw4bAAAAZ0lEQVQI12NgYBAyCU1vYmBgYJu1gfG8DZBx\n",
       "7BIDAzeQwXHAEMibw8DAKWAAZEgzMDCzH2AAg0oOBQijiXcDhFHDmwBhMLNDpZjBuoCAF2wOL8jk\n",
       "m0DiKMgu0+OMT8BmCVl9Oc7AAAAdvxPWFwp0lAAAAABJRU5ErkJggg==\n",
       "\" style=\"display:inline;vertical-align:middle;\" /></a>, <a class=\"ProveItLink\" href=\"../../../__pv_it/common/a0d9d672aa5e272d907247690c152cc2c6daafb70/expr.ipynb\"><img src=\"data:image/png;base64,iVBORw0KGgoAAAANSUhEUgAAAAsAAAAJBAMAAAAWSsseAAAAMFBMVEX///8AAAAAAAAAAAAAAAAA\n",
       "AAAAAAAAAAAAAAAAAAAAAAAAAAAAAAAAAAAAAAAAAAAv3aB7AAAAD3RSTlMAEHarMolUmd1mIs3v\n",
       "RLtmgJDEAAAACXBIWXMAAA7EAAAOxAGVKw4bAAAAQklEQVQI12NgEFIWCU1gYChgMmJvYOBcwPmR\n",
       "eQIDCwP7BgYQ4FEAU/cXMAowyF2wYWBlYMh3rGG4xsAgrsRWmcAAAFEjCyBvD0T9AAAAAElFTkSu\n",
       "QmCC\n",
       "\" style=\"display:inline;vertical-align:middle;\" /></a> : <a class=\"ProveItLink\" href=\"../../numerals/__pv_it/common/1943b60945420e340d305780feff5c1aff2740ff0/expr.ipynb\"><img src=\"data:image/png;base64,iVBORw0KGgoAAAANSUhEUgAAAAoAAAAOBAMAAADkjZCYAAAAMFBMVEX///8AAAAAAAAAAAAAAAAA\n",
       "AAAAAAAAAAAAAAAAAAAAAAAAAAAAAAAAAAAAAAAAAAAv3aB7AAAAD3RSTlMAIomZu0QQVHbN72bd\n",
       "Mqv0UZE7AAAACXBIWXMAAA7EAAAOxAGVKw4bAAAATElEQVQI12NgEFJ2ZWBgM2CoL2Dg+M6QP4GB\n",
       "dSkD/wQGIKjfACRYTwMJ3r63DGCRAhDJ9Y2B9wIDy3cG/m8gkusBSIR7A1h9sLErAwDNcRLUUVUn\n",
       "vwAAAABJRU5ErkJggg==\n",
       "\" style=\"display:inline;vertical-align:middle;\" /></a></span></td></tr><tr><td><a name=\"0x30e93881c6a29ff3_step12\">12</a></td><td>conjecture</td><td></td><td><span style=\"font-size:20px;\"> <a class=\"ProveItLink\" href=\"../../numerals/decimals/_theory_nbs_/proofs/tuple_len_4_typical_eq/thm_proof.ipynb\" style=\"text-decoration: none\">&nbsp;&#x22A2;&nbsp;&nbsp;</a><a class=\"ProveItLink\" href=\"../../numerals/decimals/__pv_it/theorems/1e5f5f56d23c5d2fa392d75922cfebe52e53ebbd0/expr.ipynb\"><img src=\"data:image/png;base64,iVBORw0KGgoAAAANSUhEUgAAAU8AAAAWBAMAAACyFQNKAAAAMFBMVEX///8AAAAAAAAAAAAAAAAA\n",
       "AAAAAAAAAAAAAAAAAAAAAAAAAAAAAAAAAAAAAAAAAAAv3aB7AAAAD3RSTlMAq1RmmUTNIjK7EInv\n",
       "3XZ/CtNrAAAACXBIWXMAAA7EAAAOxAGVKw4bAAAD6ElEQVRIx81XX4hMURj/9s7duXfu3js7S/Gw\n",
       "2CnlwZambMTDmtolEqa8ihElksajsoy8rsybkrhelLbMIFHCSkohEhFtLh52bdFSljxY33f+7Z17\n",
       "5+yMN9/W2V/f+c7v++053/nuWYCWrIQ/ArQQS2a16G6JqdTqinQWbkjQ1HaysaMQcXOCj/8iVDER\n",
       "yBBe2mRFr8zTG3I6557HI+2D+XROL9SoYchb4bEG95f1Oe08KCYC6wnvm1unUxR5CMxaMt8gtjML\n",
       "B/RCLwFc3PBbeI5Axw99Ug+3UDEhOEF/WmVuoWZO5DFzEU1x2+VDn17oAJWPFLoQ4Ik+6RcUqpgQ\n",
       "JH2ETSrPlXncqKa43cEoXyt0NCz0mQ892mtir8qEmBAkcJOSTUp0mcyzLKopbnuRLqcTahTDQhcD\n",
       "9GiLtCOZCTEReDo29riJ0M1SKAGrezzg7t1f54mAu594Qqt74jsyZ3RCzVpYKNp7bc5xEqqYCGwE\n",
       "ONtE6B4plMCOUopncqb9Kj+5oazJq5zPJYpSqDnGLCOFsh0KCbX/6FJaORKqmAgcBiujFu6vi74n\n",
       "DuaFFIrAeQAmb0vGb3D53r4TgOaQ0RjV7aiXrRfqZbQnDyRUMRFI+SHO7rro4+L3QykUgTkFXo33\n",
       "giJ0MmTKzGLOntIJdQv1QjdpD3E1E6qYCBhB6C49qov+3ECoW4Eq14CadrF24cruJubaR1sUmtBu\n",
       "qBUwoYqJgWI/DiP9N1nNfGAN4VPAXIcgfvTVANapNrqNNaiquFxyzniuq9HI0feCpWlP7V1dPfdr\n",
       "s0wMXMO277y2fxLH2zR9bV7Zo8z1Syw7L4UiqGZhgVFySGgZa5IBvCIFAnwOEhXdjqYCIdRhN6IG\n",
       "ad+Jq+Tt2aXLJJkYOIoeM0/aIJWj62VWnDJzTYmVV6XQq5TLeGlCFcPacqk8A3jlO8oE+BxvQg2F\n",
       "8naDW0LRMDQ4uIUjGpzpMMA/vxJiYqCtTMWTJg63bGZEJZFL1t4pKRSBs+TW4Qnw8GHhdOMHkQDc\n",
       "XjnJPWwOvIJOqI0n2LZoej5f9n5mZpojj87xpQRjtKXmhW/BLJMn2aql1Fqc7gQXq6izJFyT4hvp\n",
       "lYVQT31IlusBDOm/9W/i0ctjR2/4MaYh9TUvnd7uj4Dnr4ERSBagNkKuk2JFIi/yJNR7qaYH7OWh\n",
       "EdoXj6416KExpgF1ywZWXIfhrL01wNEa6PeHs8wl7Ix8j56RD79AC8RbrLHQVCkaPYuUXYkxRZ93\n",
       "2dgo7LIUelk++UELhJjGQp1KNDodv/VBjClV38Xa/egY6r8TEjS1cS4g+i7iBMf+5V8RxTRe70/E\n",
       "xv/I/gJA/DPJmTyfawAAAABJRU5ErkJggg==\n",
       "\" style=\"display:inline;vertical-align:middle;\" /></a></span></td></tr>\n",
       "<tr><td>&nbsp;</td><td colspan=4 style-\"text-align:left\"><a class=\"ProveItLink\" href=\"../../numerals/decimals/_theory_nbs_/proofs/tuple_len_4_typical_eq/thm_proof.ipynb\">proveit.numbers.numerals.decimals.tuple_len_4_typical_eq</a></td></tr><tr><td><a name=\"0x30e93881c6a29ff3_step13\">13</a></td><td>instantiation</td><td><a href=\"#0x30e93881c6a29ff3_step26\">26</a>, <a href=\"#0x30e93881c6a29ff3_step17\">17</a>, <a href=\"#0x30e93881c6a29ff3_step18\">18</a></td><td><span style=\"font-size:20px;\"><a class=\"ProveItLink\" href=\"../__pv_it/demonstrations/885cc228aa47f4d61d07e1691f08d60a4b0eb17d0/expr.ipynb\"><img src=\"data:image/png;base64,iVBORw0KGgoAAAANSUhEUgAAAD0AAAAQBAMAAABXfmoyAAAAMFBMVEX///8AAAAAAAAAAAAAAAAA\n",
       "AAAAAAAAAAAAAAAAAAAAAAAAAAAAAAAAAAAAAAAAAAAv3aB7AAAAD3RSTlMAELvv3c2ZVESJq3Yi\n",
       "MmZ3LnoBAAAACXBIWXMAAA7EAAAOxAGVKw4bAAAA3klEQVQY02NgQAdPjfRDjB7AuYzKDmgKFE4x\n",
       "dD0SgHNZE9DlTzIw8S5guKQEBAcYGPgLMOXZDgTAuf0woza5uATA5RXg8lOgdOtGhH4uwQVw+ajd\n",
       "y0EUTyCS+ZdKD8Dd/1VAHsRhhYsoHA75shGunf0jA/MGkDyS+96JIlzLFsDAPwFIX3YBAgWIPJMc\n",
       "InxYJjD0g3wohKSfN0ERzgN6Px/kQxZk/+ceQshfYLQD0dwbkOSFuOEWcD1gggRwOFz+GAPfAw24\n",
       "/1bmQRhSGgKw+NNhUIovwIjYThWXAAxBAA29OSA7wr9HAAAAAElFTkSuQmCC\n",
       "\" style=\"display:inline;vertical-align:middle;\" /></a> <a class=\"ProveItLink\" href=\"../__pv_it/demonstrations/865ef6ad25977605ae39f5247ba7a82c8eb9c2430/proof.ipynb\" style=\"text-decoration: none\">&nbsp;&#x22A2;&nbsp;&nbsp;</a><a class=\"ProveItLink\" href=\"../../ordering/__pv_it/theorems/6e5cad5b2984ed0d75bd47bd0c542ec447a4f3570/expr.ipynb\"><img src=\"data:image/png;base64,iVBORw0KGgoAAAANSUhEUgAAADEAAAAQBAMAAABNQoq8AAAAMFBMVEX///8AAAAAAAAAAAAAAAAA\n",
       "AAAAAAAAAAAAAAAAAAAAAAAAAAAAAAAAAAAAAAAAAAAv3aB7AAAAD3RSTlMAELvv3c2ZVESJq3Yi\n",
       "MmZ3LnoBAAAACXBIWXMAAA7EAAAOxAGVKw4bAAAA1ElEQVQY02NgQAdPjfRDjB4AGYzKDmhSCqcY\n",
       "uh4JABmsCegyJxmYeBcAGfwFmDJsBwKAjH4BqMgmF5cAuIwCkDEFKtG6EaGHSxBkWtTu5SA+TyCS\n",
       "aZdKDwDd9lVA/gDIIQfgModDvoD0s39kYN4AkkFywTtREM0WwMA/AUhfdgECBYgMkxzIpywTGPpB\n",
       "7hZC0sOboAjxTj7I3SzI/sk9BJK5wGgH4nNvQJIR4gYax/WACRI84XCZYwx8DzSArl6ZBxGQ0hCA\n",
       "hbUOg1I8cph1qkBCBwoAxe43BugJR6MAAAAASUVORK5CYII=\n",
       "\" style=\"display:inline;vertical-align:middle;\" /></a></span></td></tr>\n",
       "<tr><td>&nbsp;</td><td colspan=4 style=\"text-align:left\"><span style=\"font-size:20px;\"><a class=\"ProveItLink\" href=\"../../../__pv_it/common/09585084922504426caf1db2ff588a23a0932a960/expr.ipynb\"><img src=\"data:image/png;base64,iVBORw0KGgoAAAANSUhEUgAAAA8AAAAPBAMAAADJ+Ih5AAAAMFBMVEX///8AAAAAAAAAAAAAAAAA\n",
       "AAAAAAAAAAAAAAAAAAAAAAAAAAAAAAAAAAAAAAAAAAAv3aB7AAAAD3RSTlMAIs1UmauJMnZmRLsQ\n",
       "3e++988cAAAACXBIWXMAAA7EAAAOxAGVKw4bAAAAXklEQVQI12NgAAEhBijQh9LM/6EMlngBCCMx\n",
       "vwBMMzb0G0BkGOwngBmLGeoTwAwHBvkAEM2xxSV+A4hxgoGB/wJEhoH3AZDmAupg+gBkyAEx90cG\n",
       "htP/dRiY939KAABt3hLO6mcEjQAAAABJRU5ErkJggg==\n",
       "\" style=\"display:inline;vertical-align:middle;\" /></a> : <a class=\"ProveItLink\" href=\"../../number_sets/real_numbers/__pv_it/common/22049b0ceade1b5eb1b88ec78deb486d547c9b580/expr.ipynb\"><img src=\"data:image/png;base64,iVBORw0KGgoAAAANSUhEUgAAABsAAAAPBAMAAADnvanrAAAAMFBMVEX///8AAAAAAAAAAAAAAAAA\n",
       "AAAAAAAAAAAAAAAAAAAAAAAAAAAAAAAAAAAAAAAAAAAv3aB7AAAAD3RSTlMAZs3vu90iq0QQiTKZ\n",
       "VHZ+Ip2vAAAACXBIWXMAAA7EAAAOxAGVKw4bAAAAaklEQVQI12MQMvFXNRFggAOHdIZ2kQkIbhYD\n",
       "C3cBwxYXIEgAc3kSFJBleRIckLnsMwuQuVsuJSC4yapfXyJZlCU4iQGZyzIR2RlZ3Ac8kbkMp1NQ\n",
       "uFP4EKodchgYBTxgPKCP3Bhc9C9AeAAanhpMGIeInwAAAABJRU5ErkJggg==\n",
       "\" style=\"display:inline;vertical-align:middle;\" /></a>, <a class=\"ProveItLink\" href=\"../../../__pv_it/common/a9162d1c3cc0470c02e5daf414500903a7a419230/expr.ipynb\"><img src=\"data:image/png;base64,iVBORw0KGgoAAAANSUhEUgAAABAAAAAOBAMAAADUAYG5AAAAMFBMVEX///8AAAAAAAAAAAAAAAAA\n",
       "AAAAAAAAAAAAAAAAAAAAAAAAAAAAAAAAAAAAAAAAAAAv3aB7AAAAD3RSTlMAZrurzTLvInZEmRDd\n",
       "VIkafcLnAAAACXBIWXMAAA7EAAAOxAGVKw4bAAAAb0lEQVQI12NgYBD6b2zsFMAABEkMDMxfgTT7\n",
       "DwYGzl9ABiOQxwjkMDB/YGBgSQcy2BQYuG1AiuM1OkwEQJr6Cxh4E0EMNSB+D5L6DMTyDQwMrB+B\n",
       "DPsJDAwc34GcL0AOSwIDwzRvoHH6n41NdBkYAF/iFeJ4bEa2AAAAAElFTkSuQmCC\n",
       "\" style=\"display:inline;vertical-align:middle;\" /></a> : <a class=\"ProveItLink\" href=\"../../number_sets/real_numbers/__pv_it/common/93cac87a1a47e613f7a83b23ef7891599a1a4cca0/expr.ipynb\"><img src=\"data:image/png;base64,iVBORw0KGgoAAAANSUhEUgAAAA8AAAAPBAMAAADJ+Ih5AAAAMFBMVEX///8AAAAAAAAAAAAAAAAA\n",
       "AAAAAAAAAAAAAAAAAAAAAAAAAAAAAAAAAAAAAAAAAAAv3aB7AAAAD3RSTlMAZs3vu90iq0QQiTKZ\n",
       "VHZ+Ip2vAAAACXBIWXMAAA7EAAAOxAGVKw4bAAAAX0lEQVQI12MQMvFXNRFgAAKHdIZ2kQkgRhYD\n",
       "C3cBhMGToABjOEAY7DOhUlsuJYAYyapfX4K1ZwlOYoAwWCZCDMziPuAJYTCcToEypvCB5BxyGBgF\n",
       "PBgYgLa7MbjoXwAAK2IYKL6KYFkAAAAASUVORK5CYII=\n",
       "\" style=\"display:inline;vertical-align:middle;\" /></a>, <a class=\"ProveItLink\" href=\"../../../__pv_it/common/a0d9d672aa5e272d907247690c152cc2c6daafb70/expr.ipynb\"><img src=\"data:image/png;base64,iVBORw0KGgoAAAANSUhEUgAAAAsAAAAJBAMAAAAWSsseAAAAMFBMVEX///8AAAAAAAAAAAAAAAAA\n",
       "AAAAAAAAAAAAAAAAAAAAAAAAAAAAAAAAAAAAAAAAAAAv3aB7AAAAD3RSTlMAEHarMolUmd1mIs3v\n",
       "RLtmgJDEAAAACXBIWXMAAA7EAAAOxAGVKw4bAAAAQklEQVQI12NgEFIWCU1gYChgMmJvYOBcwPmR\n",
       "eQIDCwP7BgYQ4FEAU/cXMAowyF2wYWBlYMh3rGG4xsAgrsRWmcAAAFEjCyBvD0T9AAAAAElFTkSu\n",
       "QmCC\n",
       "\" style=\"display:inline;vertical-align:middle;\" /></a> : <a class=\"ProveItLink\" href=\"../../../__pv_it/common/195236b98c6c564a75b5dbada74b173bc52d5c3e0/expr.ipynb\"><img src=\"data:image/png;base64,iVBORw0KGgoAAAANSUhEUgAAAAkAAAAOBAMAAAAPuiubAAAAMFBMVEX///8AAAAAAAAAAAAAAAAA\n",
       "AAAAAAAAAAAAAAAAAAAAAAAAAAAAAAAAAAAAAAAAAAAv3aB7AAAAD3RSTlMAELvv3c2ZVESJq3Yi\n",
       "MmZ3LnoBAAAACXBIWXMAAA7EAAAOxAGVKw4bAAAAT0lEQVQI12NgVHZgAALWBBDJXwAi+wVA5BQQ\n",
       "wRC1ezkDA+NXAfkDDOwfGZg3MLAFMPBPYGCZwNBfAFKeL8DAf4HRjoGB6wET0AjGlXkMDAAVqA7Q\n",
       "GyenWgAAAABJRU5ErkJggg==\n",
       "\" style=\"display:inline;vertical-align:middle;\" /></a></span></td></tr><tr><td><a name=\"0x30e93881c6a29ff3_step14\">14</a></td><td>instantiation</td><td><a href=\"#0x30e93881c6a29ff3_step26\">26</a>, <a href=\"#0x30e93881c6a29ff3_step20\">20</a>, <a href=\"#0x30e93881c6a29ff3_step19\">19</a></td><td><span style=\"font-size:20px;\"> <a class=\"ProveItLink\" href=\"../__pv_it/demonstrations/0d855b34ee0212d43f05abe2f7d3ebf4f9bd31340/proof.ipynb\" style=\"text-decoration: none\">&nbsp;&#x22A2;&nbsp;&nbsp;</a><a class=\"ProveItLink\" href=\"../__pv_it/demonstrations/371d48b3894e95e20b50c9d70ca5e18a2adb54990/expr.ipynb\"><img src=\"data:image/png;base64,iVBORw0KGgoAAAANSUhEUgAAADIAAAAQBAMAAACmdTG/AAAAMFBMVEX///8AAAAAAAAAAAAAAAAA\n",
       "AAAAAAAAAAAAAAAAAAAAAAAAAAAAAAAAAAAAAAAAAAAv3aB7AAAAD3RSTlMAIpnNuzKJRKvvEN12\n",
       "ZlQ4bmvwAAAACXBIWXMAAA7EAAAOxAGVKw4bAAAA2ElEQVQY02NgQAe8li6fd/oCGYxKJgGoUiyM\n",
       "Dey9XgwMIgxs39FlEhgcIhgYGhkYZmLKKDIzMMxfwNAvABY5snu3AVyGhYGhm4GhH2xR8SkkPV0r\n",
       "wMz9IILRCsk0Vj9DEIv1D4hkFkDITN6/ZwGIxd0AlkFyQe4tsIUMKmAycjcQOEBN87oL9jNYC8MS\n",
       "ZFcHsYBMe8bACLKCG1mGKRComzWBgQekgOcAkgyXw1kGBmklJW2wgB1CRoHhLksBw/7//z+DBVa4\n",
       "L4CF9RcBFud/SOFV5g0JHSgAAFzjMhP8qnJ+AAAAAElFTkSuQmCC\n",
       "\" style=\"display:inline;vertical-align:middle;\" /></a></span></td></tr>\n",
       "<tr><td>&nbsp;</td><td colspan=4 style=\"text-align:left\"><span style=\"font-size:20px;\"><a class=\"ProveItLink\" href=\"../../../__pv_it/common/09585084922504426caf1db2ff588a23a0932a960/expr.ipynb\"><img src=\"data:image/png;base64,iVBORw0KGgoAAAANSUhEUgAAAA8AAAAPBAMAAADJ+Ih5AAAAMFBMVEX///8AAAAAAAAAAAAAAAAA\n",
       "AAAAAAAAAAAAAAAAAAAAAAAAAAAAAAAAAAAAAAAAAAAv3aB7AAAAD3RSTlMAIs1UmauJMnZmRLsQ\n",
       "3e++988cAAAACXBIWXMAAA7EAAAOxAGVKw4bAAAAXklEQVQI12NgAAEhBijQh9LM/6EMlngBCCMx\n",
       "vwBMMzb0G0BkGOwngBmLGeoTwAwHBvkAEM2xxSV+A4hxgoGB/wJEhoH3AZDmAupg+gBkyAEx90cG\n",
       "htP/dRiY939KAABt3hLO6mcEjQAAAABJRU5ErkJggg==\n",
       "\" style=\"display:inline;vertical-align:middle;\" /></a> : <a class=\"ProveItLink\" href=\"../../number_sets/rational_numbers/__pv_it/common/3de3e316334b6ece430a3f1aee01ae68b192ecb30/expr.ipynb\"><img src=\"data:image/png;base64,iVBORw0KGgoAAAANSUhEUgAAABAAAAASBAMAAACgFUNZAAAAMFBMVEX///8AAAAAAAAAAAAAAAAA\n",
       "AAAAAAAAAAAAAAAAAAAAAAAAAAAAAAAAAAAAAAAAAAAv3aB7AAAAD3RSTlMAEIm7mSJ2q+8y3WZE\n",
       "zVRISQrpAAAACXBIWXMAAA7EAAAOxAGVKw4bAAAAh0lEQVQI12NgYBAyNnZlAAK2igmsyxWADG1t\n",
       "BoYjhxkYOBUuMDAwcycwMAsWMDAwTbjAIMyZwMDA98CTYRLPBgYGng37GI5xPwAqTHjNEMQHFslh\n",
       "YIaocWRgFoXq4oGYA1ToDTT5ONBkBiaQXQ4gW0P+3vdkAINKoE1gwJ6Q/vIAmPXctnkDAHEUIwom\n",
       "ORJuAAAAAElFTkSuQmCC\n",
       "\" style=\"display:inline;vertical-align:middle;\" /></a>, <a class=\"ProveItLink\" href=\"../../../__pv_it/common/a9162d1c3cc0470c02e5daf414500903a7a419230/expr.ipynb\"><img src=\"data:image/png;base64,iVBORw0KGgoAAAANSUhEUgAAABAAAAAOBAMAAADUAYG5AAAAMFBMVEX///8AAAAAAAAAAAAAAAAA\n",
       "AAAAAAAAAAAAAAAAAAAAAAAAAAAAAAAAAAAAAAAAAAAv3aB7AAAAD3RSTlMAZrurzTLvInZEmRDd\n",
       "VIkafcLnAAAACXBIWXMAAA7EAAAOxAGVKw4bAAAAb0lEQVQI12NgYBD6b2zsFMAABEkMDMxfgTT7\n",
       "DwYGzl9ABiOQxwjkMDB/YGBgSQcy2BQYuG1AiuM1OkwEQJr6Cxh4E0EMNSB+D5L6DMTyDQwMrB+B\n",
       "DPsJDAwc34GcL0AOSwIDwzRvoHH6n41NdBkYAF/iFeJ4bEa2AAAAAElFTkSuQmCC\n",
       "\" style=\"display:inline;vertical-align:middle;\" /></a> : <a class=\"ProveItLink\" href=\"../../number_sets/real_numbers/__pv_it/common/93cac87a1a47e613f7a83b23ef7891599a1a4cca0/expr.ipynb\"><img src=\"data:image/png;base64,iVBORw0KGgoAAAANSUhEUgAAAA8AAAAPBAMAAADJ+Ih5AAAAMFBMVEX///8AAAAAAAAAAAAAAAAA\n",
       "AAAAAAAAAAAAAAAAAAAAAAAAAAAAAAAAAAAAAAAAAAAv3aB7AAAAD3RSTlMAZs3vu90iq0QQiTKZ\n",
       "VHZ+Ip2vAAAACXBIWXMAAA7EAAAOxAGVKw4bAAAAX0lEQVQI12MQMvFXNRFgAAKHdIZ2kQkgRhYD\n",
       "C3cBhMGToABjOEAY7DOhUlsuJYAYyapfX4K1ZwlOYoAwWCZCDMziPuAJYTCcToEypvCB5BxyGBgF\n",
       "PBgYgLa7MbjoXwAAK2IYKL6KYFkAAAAASUVORK5CYII=\n",
       "\" style=\"display:inline;vertical-align:middle;\" /></a>, <a class=\"ProveItLink\" href=\"../../../__pv_it/common/a0d9d672aa5e272d907247690c152cc2c6daafb70/expr.ipynb\"><img src=\"data:image/png;base64,iVBORw0KGgoAAAANSUhEUgAAAAsAAAAJBAMAAAAWSsseAAAAMFBMVEX///8AAAAAAAAAAAAAAAAA\n",
       "AAAAAAAAAAAAAAAAAAAAAAAAAAAAAAAAAAAAAAAAAAAv3aB7AAAAD3RSTlMAEHarMolUmd1mIs3v\n",
       "RLtmgJDEAAAACXBIWXMAAA7EAAAOxAGVKw4bAAAAQklEQVQI12NgEFIWCU1gYChgMmJvYOBcwPmR\n",
       "eQIDCwP7BgYQ4FEAU/cXMAowyF2wYWBlYMh3rGG4xsAgrsRWmcAAAFEjCyBvD0T9AAAAAElFTkSu\n",
       "QmCC\n",
       "\" style=\"display:inline;vertical-align:middle;\" /></a> : <a class=\"ProveItLink\" href=\"../../numerals/__pv_it/common/af4aab8a07465db063742696e006d04670f30cf10/expr.ipynb\"><img src=\"data:image/png;base64,iVBORw0KGgoAAAANSUhEUgAAAAkAAAAOBAMAAAAPuiubAAAAMFBMVEX///8AAAAAAAAAAAAAAAAA\n",
       "AAAAAAAAAAAAAAAAAAAAAAAAAAAAAAAAAAAAAAAAAAAv3aB7AAAAD3RSTlMAIpnNuzKJRKvvEN12\n",
       "ZlQ4bmvwAAAACXBIWXMAAA7EAAAOxAGVKw4bAAAATklEQVQI12NgVDIJYGAQYWD7zsDQyMAwk4Fh\n",
       "/gKGfgGGbgaGfqAEA8N+EMH6B0RyN4BIFRDBC2Y+Y2AUYGBNYOBZwCCtpKQNVPz//2cGAEeID1mi\n",
       "/zO7AAAAAElFTkSuQmCC\n",
       "\" style=\"display:inline;vertical-align:middle;\" /></a></span></td></tr><tr><td><a name=\"0x30e93881c6a29ff3_step15\">15</a></td><td>conjecture</td><td></td><td><span style=\"font-size:20px;\"> <a class=\"ProveItLink\" href=\"../../number_sets/complex_numbers/_theory_nbs_/proofs/real_within_complex/thm_proof.ipynb\" style=\"text-decoration: none\">&nbsp;&#x22A2;&nbsp;&nbsp;</a><a class=\"ProveItLink\" href=\"../../number_sets/complex_numbers/__pv_it/theorems/38989098df56675752c00127b89e7c6d9bdcbcf90/expr.ipynb\"><img src=\"data:image/png;base64,iVBORw0KGgoAAAANSUhEUgAAADoAAAAQBAMAAAC1onFLAAAAMFBMVEX///8AAAAAAAAAAAAAAAAA\n",
       "AAAAAAAAAAAAAAAAAAAAAAAAAAAAAAAAAAAAAAAAAAAv3aB7AAAAD3RSTlMAZs3vu90iq0QQiTKZ\n",
       "VHZ+Ip2vAAAACXBIWXMAAA7EAAAOxAGVKw4bAAAA6klEQVQY02MQMvFXNRFgQAecS4L0shcwMDik\n",
       "M7SLTECXfW7IMOfLAaBsFgMLdwGaJM8LoD4RiCxPggKa7B4WoGnsMFkHiOCT0NDQaBCjkgVktwBY\n",
       "ln0mxORNy2B6HXJgjCyGLZcSwO4Mg0myFeyCySarfn0JZrE3wGS5FzTC9QpOgrCY4I5iO9AHl2WZ\n",
       "CAmN7Qg3A62DMbgPeIJZ6QhZTxaEstMpYBYrQrYH5F+GBrDsFD6w0TwCSGEF9COPAthrjAIeYDEN\n",
       "hOYnOglzYxgYgHHkxuCifwEkNKViAiKO7GMS0IK3yxUaklAAAIryOMbRZchkAAAAAElFTkSuQmCC\n",
       "\" style=\"display:inline;vertical-align:middle;\" /></a></span></td></tr>\n",
       "<tr><td>&nbsp;</td><td colspan=4 style-\"text-align:left\"><a class=\"ProveItLink\" href=\"../../number_sets/complex_numbers/_theory_nbs_/proofs/real_within_complex/thm_proof.ipynb\">proveit.numbers.number_sets.complex_numbers.real_within_complex</a></td></tr><tr><td><a name=\"0x30e93881c6a29ff3_step16\">16</a></td><td>instantiation</td><td><a href=\"#0x30e93881c6a29ff3_step26\">26</a>, <a href=\"#0x30e93881c6a29ff3_step20\">20</a>, <a href=\"#0x30e93881c6a29ff3_step21\">21</a></td><td><span style=\"font-size:20px;\"> <a class=\"ProveItLink\" href=\"../__pv_it/demonstrations/5a256eaaf6b9ac17886e38557d07f115942f4ef80/proof.ipynb\" style=\"text-decoration: none\">&nbsp;&#x22A2;&nbsp;&nbsp;</a><a class=\"ProveItLink\" href=\"../__pv_it/demonstrations/461319c14ad605ae443f7641bdd5329eb9aaaa9e0/expr.ipynb\"><img src=\"data:image/png;base64,iVBORw0KGgoAAAANSUhEUgAAADMAAAAQBAMAAABJt1qBAAAAMFBMVEX///8AAAAAAAAAAAAAAAAA\n",
       "AAAAAAAAAAAAAAAAAAAAAAAAAAAAAAAAAAAAAAAAAAAv3aB7AAAAD3RSTlMAIomZu0QQVHbN72bd\n",
       "Mqv0UZE7AAAACXBIWXMAAA7EAAAOxAGVKw4bAAAA1klEQVQY02NgwAA7l/jPWbIBxBJSdkWTc5Bj\n",
       "iNuSwMDAZsBQX4AmJcTAwvuAgYHjO0P+BAwpZgGgGOtSBn6IFIfPmZMIKQcwsx5sJ+uMBIQuvrQH\n",
       "YLHTYAHJBCQDr1QKABm8fW/BAhMRdknN+dMGYUJcOAHJGbszoUyubyDNa86cOXMEKsWSDbKe9wID\n",
       "y3cgzeaApIvXwA1I83+DSDEcQPaXrQjItAcQAxk6kKVSOIAmcm+A+osTHlwOwkBRUMAGG0OCl+1J\n",
       "GDzkHRlc5iMHLKsKNKCgAAD1NDiww7nWBQAAAABJRU5ErkJggg==\n",
       "\" style=\"display:inline;vertical-align:middle;\" /></a></span></td></tr>\n",
       "<tr><td>&nbsp;</td><td colspan=4 style=\"text-align:left\"><span style=\"font-size:20px;\"><a class=\"ProveItLink\" href=\"../../../__pv_it/common/09585084922504426caf1db2ff588a23a0932a960/expr.ipynb\"><img src=\"data:image/png;base64,iVBORw0KGgoAAAANSUhEUgAAAA8AAAAPBAMAAADJ+Ih5AAAAMFBMVEX///8AAAAAAAAAAAAAAAAA\n",
       "AAAAAAAAAAAAAAAAAAAAAAAAAAAAAAAAAAAAAAAAAAAv3aB7AAAAD3RSTlMAIs1UmauJMnZmRLsQ\n",
       "3e++988cAAAACXBIWXMAAA7EAAAOxAGVKw4bAAAAXklEQVQI12NgAAEhBijQh9LM/6EMlngBCCMx\n",
       "vwBMMzb0G0BkGOwngBmLGeoTwAwHBvkAEM2xxSV+A4hxgoGB/wJEhoH3AZDmAupg+gBkyAEx90cG\n",
       "htP/dRiY939KAABt3hLO6mcEjQAAAABJRU5ErkJggg==\n",
       "\" style=\"display:inline;vertical-align:middle;\" /></a> : <a class=\"ProveItLink\" href=\"../../number_sets/rational_numbers/__pv_it/common/3de3e316334b6ece430a3f1aee01ae68b192ecb30/expr.ipynb\"><img src=\"data:image/png;base64,iVBORw0KGgoAAAANSUhEUgAAABAAAAASBAMAAACgFUNZAAAAMFBMVEX///8AAAAAAAAAAAAAAAAA\n",
       "AAAAAAAAAAAAAAAAAAAAAAAAAAAAAAAAAAAAAAAAAAAv3aB7AAAAD3RSTlMAEIm7mSJ2q+8y3WZE\n",
       "zVRISQrpAAAACXBIWXMAAA7EAAAOxAGVKw4bAAAAh0lEQVQI12NgYBAyNnZlAAK2igmsyxWADG1t\n",
       "BoYjhxkYOBUuMDAwcycwMAsWMDAwTbjAIMyZwMDA98CTYRLPBgYGng37GI5xPwAqTHjNEMQHFslh\n",
       "YIaocWRgFoXq4oGYA1ToDTT5ONBkBiaQXQ4gW0P+3vdkAINKoE1gwJ6Q/vIAmPXctnkDAHEUIwom\n",
       "ORJuAAAAAElFTkSuQmCC\n",
       "\" style=\"display:inline;vertical-align:middle;\" /></a>, <a class=\"ProveItLink\" href=\"../../../__pv_it/common/a9162d1c3cc0470c02e5daf414500903a7a419230/expr.ipynb\"><img src=\"data:image/png;base64,iVBORw0KGgoAAAANSUhEUgAAABAAAAAOBAMAAADUAYG5AAAAMFBMVEX///8AAAAAAAAAAAAAAAAA\n",
       "AAAAAAAAAAAAAAAAAAAAAAAAAAAAAAAAAAAAAAAAAAAv3aB7AAAAD3RSTlMAZrurzTLvInZEmRDd\n",
       "VIkafcLnAAAACXBIWXMAAA7EAAAOxAGVKw4bAAAAb0lEQVQI12NgYBD6b2zsFMAABEkMDMxfgTT7\n",
       "DwYGzl9ABiOQxwjkMDB/YGBgSQcy2BQYuG1AiuM1OkwEQJr6Cxh4E0EMNSB+D5L6DMTyDQwMrB+B\n",
       "DPsJDAwc34GcL0AOSwIDwzRvoHH6n41NdBkYAF/iFeJ4bEa2AAAAAElFTkSuQmCC\n",
       "\" style=\"display:inline;vertical-align:middle;\" /></a> : <a class=\"ProveItLink\" href=\"../../number_sets/real_numbers/__pv_it/common/93cac87a1a47e613f7a83b23ef7891599a1a4cca0/expr.ipynb\"><img src=\"data:image/png;base64,iVBORw0KGgoAAAANSUhEUgAAAA8AAAAPBAMAAADJ+Ih5AAAAMFBMVEX///8AAAAAAAAAAAAAAAAA\n",
       "AAAAAAAAAAAAAAAAAAAAAAAAAAAAAAAAAAAAAAAAAAAv3aB7AAAAD3RSTlMAZs3vu90iq0QQiTKZ\n",
       "VHZ+Ip2vAAAACXBIWXMAAA7EAAAOxAGVKw4bAAAAX0lEQVQI12MQMvFXNRFgAAKHdIZ2kQkgRhYD\n",
       "C3cBhMGToABjOEAY7DOhUlsuJYAYyapfX4K1ZwlOYoAwWCZCDMziPuAJYTCcToEypvCB5BxyGBgF\n",
       "PBgYgLa7MbjoXwAAK2IYKL6KYFkAAAAASUVORK5CYII=\n",
       "\" style=\"display:inline;vertical-align:middle;\" /></a>, <a class=\"ProveItLink\" href=\"../../../__pv_it/common/a0d9d672aa5e272d907247690c152cc2c6daafb70/expr.ipynb\"><img src=\"data:image/png;base64,iVBORw0KGgoAAAANSUhEUgAAAAsAAAAJBAMAAAAWSsseAAAAMFBMVEX///8AAAAAAAAAAAAAAAAA\n",
       "AAAAAAAAAAAAAAAAAAAAAAAAAAAAAAAAAAAAAAAAAAAv3aB7AAAAD3RSTlMAEHarMolUmd1mIs3v\n",
       "RLtmgJDEAAAACXBIWXMAAA7EAAAOxAGVKw4bAAAAQklEQVQI12NgEFIWCU1gYChgMmJvYOBcwPmR\n",
       "eQIDCwP7BgYQ4FEAU/cXMAowyF2wYWBlYMh3rGG4xsAgrsRWmcAAAFEjCyBvD0T9AAAAAElFTkSu\n",
       "QmCC\n",
       "\" style=\"display:inline;vertical-align:middle;\" /></a> : <a class=\"ProveItLink\" href=\"../../numerals/__pv_it/common/1943b60945420e340d305780feff5c1aff2740ff0/expr.ipynb\"><img src=\"data:image/png;base64,iVBORw0KGgoAAAANSUhEUgAAAAoAAAAOBAMAAADkjZCYAAAAMFBMVEX///8AAAAAAAAAAAAAAAAA\n",
       "AAAAAAAAAAAAAAAAAAAAAAAAAAAAAAAAAAAAAAAAAAAv3aB7AAAAD3RSTlMAIomZu0QQVHbN72bd\n",
       "Mqv0UZE7AAAACXBIWXMAAA7EAAAOxAGVKw4bAAAATElEQVQI12NgEFJ2ZWBgM2CoL2Dg+M6QP4GB\n",
       "dSkD/wQGIKjfACRYTwMJ3r63DGCRAhDJ9Y2B9wIDy3cG/m8gkusBSIR7A1h9sLErAwDNcRLUUVUn\n",
       "vwAAAABJRU5ErkJggg==\n",
       "\" style=\"display:inline;vertical-align:middle;\" /></a></span></td></tr><tr><td><a name=\"0x30e93881c6a29ff3_step17\">17</a></td><td>conjecture</td><td></td><td><span style=\"font-size:20px;\"> <a class=\"ProveItLink\" href=\"../../number_sets/real_numbers/_theory_nbs_/proofs/real_neg_within_real/thm_proof.ipynb\" style=\"text-decoration: none\">&nbsp;&#x22A2;&nbsp;&nbsp;</a><a class=\"ProveItLink\" href=\"../../number_sets/real_numbers/__pv_it/theorems/60b0a65eec5d1057a84ba2045c9a2537540b1c380/expr.ipynb\"><img src=\"data:image/png;base64,iVBORw0KGgoAAAANSUhEUgAAAEgAAAAQBAMAAABHHiTuAAAAMFBMVEX///8AAAAAAAAAAAAAAAAA\n",
       "AAAAAAAAAAAAAAAAAAAAAAAAAAAAAAAAAAAAAAAAAAAv3aB7AAAAD3RSTlMAZs3vu90iq0QQiTKZ\n",
       "VHZ+Ip2vAAAACXBIWXMAAA7EAAAOxAGVKw4bAAAA8klEQVQoz2MQMvFXNRFgwAoYlV0+BTuCWA7p\n",
       "DO0iE7CrYmEr4Cj0BCnKYmDhLmDY4gIECRiKFjA4bIco4klQwGXSAoZjTDBFDihyT0JDQ6Philgg\n",
       "ithnFiCr2bQM2aTK6RBFWy4hO4YzDNk6bl81kKJk1a8vkQ1ib0BSZBQfNwFskuAkFBcxITt8oSTY\n",
       "Tw5ZLBNRAnM7iu88BSGKuA94IitKR1G0hwViHcPpFGRFrCiKeLY5QBRN4UO2j0cAWRGnw0OQohwG\n",
       "RgEPZKM0kBQdYBBkaWAApgI3Bhf9C0iKplRMgKeCLwksTn+xRlmXKzRaoAAAVpk7fc4KS20AAAAA\n",
       "SUVORK5CYII=\n",
       "\" style=\"display:inline;vertical-align:middle;\" /></a></span></td></tr>\n",
       "<tr><td>&nbsp;</td><td colspan=4 style-\"text-align:left\"><a class=\"ProveItLink\" href=\"../../number_sets/real_numbers/_theory_nbs_/proofs/real_neg_within_real/thm_proof.ipynb\">proveit.numbers.number_sets.real_numbers.real_neg_within_real</a></td></tr><tr><td><a name=\"0x30e93881c6a29ff3_step18\">18</a></td><td>assumption</td><td></td><td><span style=\"font-size:20px;\"><a class=\"ProveItLink\" href=\"../__pv_it/demonstrations/885cc228aa47f4d61d07e1691f08d60a4b0eb17d0/expr.ipynb\"><img src=\"data:image/png;base64,iVBORw0KGgoAAAANSUhEUgAAAD0AAAAQBAMAAABXfmoyAAAAMFBMVEX///8AAAAAAAAAAAAAAAAA\n",
       "AAAAAAAAAAAAAAAAAAAAAAAAAAAAAAAAAAAAAAAAAAAv3aB7AAAAD3RSTlMAELvv3c2ZVESJq3Yi\n",
       "MmZ3LnoBAAAACXBIWXMAAA7EAAAOxAGVKw4bAAAA3klEQVQY02NgQAdPjfRDjB7AuYzKDmgKFE4x\n",
       "dD0SgHNZE9DlTzIw8S5guKQEBAcYGPgLMOXZDgTAuf0woza5uATA5RXg8lOgdOtGhH4uwQVw+ajd\n",
       "y0EUTyCS+ZdKD8Dd/1VAHsRhhYsoHA75shGunf0jA/MGkDyS+96JIlzLFsDAPwFIX3YBAgWIPJMc\n",
       "InxYJjD0g3wohKSfN0ERzgN6Px/kQxZk/+ceQshfYLQD0dwbkOSFuOEWcD1gggRwOFz+GAPfAw24\n",
       "/1bmQRhSGgKw+NNhUIovwIjYThWXAAxBAA29OSA7wr9HAAAAAElFTkSuQmCC\n",
       "\" style=\"display:inline;vertical-align:middle;\" /></a> <a class=\"ProveItLink\" href=\"../__pv_it/demonstrations/7ef68e31c65dd8a2f4c02136d3d5fdbad2c5b1190/proof.ipynb\" style=\"text-decoration: none\">&nbsp;&#x22A2;&nbsp;&nbsp;</a><a class=\"ProveItLink\" href=\"../__pv_it/demonstrations/885cc228aa47f4d61d07e1691f08d60a4b0eb17d0/expr.ipynb\"><img src=\"data:image/png;base64,iVBORw0KGgoAAAANSUhEUgAAAD0AAAAQBAMAAABXfmoyAAAAMFBMVEX///8AAAAAAAAAAAAAAAAA\n",
       "AAAAAAAAAAAAAAAAAAAAAAAAAAAAAAAAAAAAAAAAAAAv3aB7AAAAD3RSTlMAELvv3c2ZVESJq3Yi\n",
       "MmZ3LnoBAAAACXBIWXMAAA7EAAAOxAGVKw4bAAAA3klEQVQY02NgQAdPjfRDjB7AuYzKDmgKFE4x\n",
       "dD0SgHNZE9DlTzIw8S5guKQEBAcYGPgLMOXZDgTAuf0woza5uATA5RXg8lOgdOtGhH4uwQVw+ajd\n",
       "y0EUTyCS+ZdKD8Dd/1VAHsRhhYsoHA75shGunf0jA/MGkDyS+96JIlzLFsDAPwFIX3YBAgWIPJMc\n",
       "InxYJjD0g3wohKSfN0ERzgN6Px/kQxZk/+ceQshfYLQD0dwbkOSFuOEWcD1gggRwOFz+GAPfAw24\n",
       "/1bmQRhSGgKw+NNhUIovwIjYThWXAAxBAA29OSA7wr9HAAAAAElFTkSuQmCC\n",
       "\" style=\"display:inline;vertical-align:middle;\" /></a></span></td></tr>\n",
       "<tr><td><a name=\"0x30e93881c6a29ff3_step19\">19</a></td><td>instantiation</td><td><a href=\"#0x30e93881c6a29ff3_step26\">26</a>, <a href=\"#0x30e93881c6a29ff3_step23\">23</a>, <a href=\"#0x30e93881c6a29ff3_step22\">22</a></td><td><span style=\"font-size:20px;\"> <a class=\"ProveItLink\" href=\"../__pv_it/demonstrations/65b3940948d41d20a3439fa181e29998369e49ad0/proof.ipynb\" style=\"text-decoration: none\">&nbsp;&#x22A2;&nbsp;&nbsp;</a><a class=\"ProveItLink\" href=\"../__pv_it/demonstrations/9fcd7e1f9f79a43396482feffbef8cf6ef083bbd0/expr.ipynb\"><img src=\"data:image/png;base64,iVBORw0KGgoAAAANSUhEUgAAADMAAAASBAMAAAAEf/uKAAAAMFBMVEX///8AAAAAAAAAAAAAAAAA\n",
       "AAAAAAAAAAAAAAAAAAAAAAAAAAAAAAAAAAAAAAAAAAAv3aB7AAAAD3RSTlMAIpnNuzKJRKvvEN12\n",
       "ZlQ4bmvwAAAACXBIWXMAAA7EAAAOxAGVKw4bAAABAklEQVQY02NgwARcKS5OAkCaUckkAE3qxFQG\n",
       "6TYgLcLA9h1Vhu3aBQZ2dQcGhkYGhpmoUmHMQMLhDgPD/AUM/QJgoSO7dxuAaK8VQCIVKN/NwNAP\n",
       "tqz4FNQRDjFA8h0TWHA/iGC0gprHmlALJGt5H4DYf0AizAJQKfYD94BkDN8FIMndAJaCuYIx4S1I\n",
       "F08BkFQBi0TuBgIHEAtq1wIGBl6wJoYlcMd7SUBdyPCMgRFkDTdcqgzsr3sgBzHwAPUy8ByASTGB\n",
       "QqMdaLa0kpI2WMQOri0DGIZNIE/9//8ZLLDCfQHMjfrGn1CDvMwbElAMDBwBdxhwgR6evnAcUnwt\n",
       "lr4MAECIOxjlwmF1AAAAAElFTkSuQmCC\n",
       "\" style=\"display:inline;vertical-align:middle;\" /></a></span></td></tr>\n",
       "<tr><td>&nbsp;</td><td colspan=4 style=\"text-align:left\"><span style=\"font-size:20px;\"><a class=\"ProveItLink\" href=\"../../../__pv_it/common/09585084922504426caf1db2ff588a23a0932a960/expr.ipynb\"><img src=\"data:image/png;base64,iVBORw0KGgoAAAANSUhEUgAAAA8AAAAPBAMAAADJ+Ih5AAAAMFBMVEX///8AAAAAAAAAAAAAAAAA\n",
       "AAAAAAAAAAAAAAAAAAAAAAAAAAAAAAAAAAAAAAAAAAAv3aB7AAAAD3RSTlMAIs1UmauJMnZmRLsQ\n",
       "3e++988cAAAACXBIWXMAAA7EAAAOxAGVKw4bAAAAXklEQVQI12NgAAEhBijQh9LM/6EMlngBCCMx\n",
       "vwBMMzb0G0BkGOwngBmLGeoTwAwHBvkAEM2xxSV+A4hxgoGB/wJEhoH3AZDmAupg+gBkyAEx90cG\n",
       "htP/dRiY939KAABt3hLO6mcEjQAAAABJRU5ErkJggg==\n",
       "\" style=\"display:inline;vertical-align:middle;\" /></a> : <a class=\"ProveItLink\" href=\"../../number_sets/integers/__pv_it/common/e6b4e90f9467053e055a4fd2f735c0bb79cb79300/expr.ipynb\"><img src=\"data:image/png;base64,iVBORw0KGgoAAAANSUhEUgAAAA4AAAAPBAMAAAAmOuNHAAAAMFBMVEX///8AAAAAAAAAAAAAAAAA\n",
       "AAAAAAAAAAAAAAAAAAAAAAAAAAAAAAAAAAAAAAAAAAAv3aB7AAAAD3RSTlMAVM3vu91mdqsymYki\n",
       "EESqKsraAAAACXBIWXMAAA7EAAAOxAGVKw4bAAAAcElEQVQI12NgVP6sEuqcwMDuMYFBgYmBgWsB\n",
       "A3vCRgYGjgMMV3gdGBh4GRhWckxgAALOhlkgioHlgi+YlmYrANMgXUDALrCPgeECA8MVHqCuHgaG\n",
       "TqAJvB8YOBe8AhoWANSly8Dj6MDw2MnExd5kAwAL3Bb91imKgQAAAABJRU5ErkJggg==\n",
       "\" style=\"display:inline;vertical-align:middle;\" /></a>, <a class=\"ProveItLink\" href=\"../../../__pv_it/common/a9162d1c3cc0470c02e5daf414500903a7a419230/expr.ipynb\"><img src=\"data:image/png;base64,iVBORw0KGgoAAAANSUhEUgAAABAAAAAOBAMAAADUAYG5AAAAMFBMVEX///8AAAAAAAAAAAAAAAAA\n",
       "AAAAAAAAAAAAAAAAAAAAAAAAAAAAAAAAAAAAAAAAAAAv3aB7AAAAD3RSTlMAZrurzTLvInZEmRDd\n",
       "VIkafcLnAAAACXBIWXMAAA7EAAAOxAGVKw4bAAAAb0lEQVQI12NgYBD6b2zsFMAABEkMDMxfgTT7\n",
       "DwYGzl9ABiOQxwjkMDB/YGBgSQcy2BQYuG1AiuM1OkwEQJr6Cxh4E0EMNSB+D5L6DMTyDQwMrB+B\n",
       "DPsJDAwc34GcL0AOSwIDwzRvoHH6n41NdBkYAF/iFeJ4bEa2AAAAAElFTkSuQmCC\n",
       "\" style=\"display:inline;vertical-align:middle;\" /></a> : <a class=\"ProveItLink\" href=\"../../number_sets/rational_numbers/__pv_it/common/3de3e316334b6ece430a3f1aee01ae68b192ecb30/expr.ipynb\"><img src=\"data:image/png;base64,iVBORw0KGgoAAAANSUhEUgAAABAAAAASBAMAAACgFUNZAAAAMFBMVEX///8AAAAAAAAAAAAAAAAA\n",
       "AAAAAAAAAAAAAAAAAAAAAAAAAAAAAAAAAAAAAAAAAAAv3aB7AAAAD3RSTlMAEIm7mSJ2q+8y3WZE\n",
       "zVRISQrpAAAACXBIWXMAAA7EAAAOxAGVKw4bAAAAh0lEQVQI12NgYBAyNnZlAAK2igmsyxWADG1t\n",
       "BoYjhxkYOBUuMDAwcycwMAsWMDAwTbjAIMyZwMDA98CTYRLPBgYGng37GI5xPwAqTHjNEMQHFslh\n",
       "YIaocWRgFoXq4oGYA1ToDTT5ONBkBiaQXQ4gW0P+3vdkAINKoE1gwJ6Q/vIAmPXctnkDAHEUIwom\n",
       "ORJuAAAAAElFTkSuQmCC\n",
       "\" style=\"display:inline;vertical-align:middle;\" /></a>, <a class=\"ProveItLink\" href=\"../../../__pv_it/common/a0d9d672aa5e272d907247690c152cc2c6daafb70/expr.ipynb\"><img src=\"data:image/png;base64,iVBORw0KGgoAAAANSUhEUgAAAAsAAAAJBAMAAAAWSsseAAAAMFBMVEX///8AAAAAAAAAAAAAAAAA\n",
       "AAAAAAAAAAAAAAAAAAAAAAAAAAAAAAAAAAAAAAAAAAAv3aB7AAAAD3RSTlMAEHarMolUmd1mIs3v\n",
       "RLtmgJDEAAAACXBIWXMAAA7EAAAOxAGVKw4bAAAAQklEQVQI12NgEFIWCU1gYChgMmJvYOBcwPmR\n",
       "eQIDCwP7BgYQ4FEAU/cXMAowyF2wYWBlYMh3rGG4xsAgrsRWmcAAAFEjCyBvD0T9AAAAAElFTkSu\n",
       "QmCC\n",
       "\" style=\"display:inline;vertical-align:middle;\" /></a> : <a class=\"ProveItLink\" href=\"../../numerals/__pv_it/common/af4aab8a07465db063742696e006d04670f30cf10/expr.ipynb\"><img src=\"data:image/png;base64,iVBORw0KGgoAAAANSUhEUgAAAAkAAAAOBAMAAAAPuiubAAAAMFBMVEX///8AAAAAAAAAAAAAAAAA\n",
       "AAAAAAAAAAAAAAAAAAAAAAAAAAAAAAAAAAAAAAAAAAAv3aB7AAAAD3RSTlMAIpnNuzKJRKvvEN12\n",
       "ZlQ4bmvwAAAACXBIWXMAAA7EAAAOxAGVKw4bAAAATklEQVQI12NgVDIJYGAQYWD7zsDQyMAwk4Fh\n",
       "/gKGfgGGbgaGfqAEA8N+EMH6B0RyN4BIFRDBC2Y+Y2AUYGBNYOBZwCCtpKQNVPz//2cGAEeID1mi\n",
       "/zO7AAAAAElFTkSuQmCC\n",
       "\" style=\"display:inline;vertical-align:middle;\" /></a></span></td></tr><tr><td><a name=\"0x30e93881c6a29ff3_step20\">20</a></td><td>conjecture</td><td></td><td><span style=\"font-size:20px;\"> <a class=\"ProveItLink\" href=\"../../number_sets/real_numbers/_theory_nbs_/proofs/rational_within_real/thm_proof.ipynb\" style=\"text-decoration: none\">&nbsp;&#x22A2;&nbsp;&nbsp;</a><a class=\"ProveItLink\" href=\"../../number_sets/real_numbers/__pv_it/theorems/e682cd49905f8b52fcd025dd4d0c53b5fa6a75840/expr.ipynb\"><img src=\"data:image/png;base64,iVBORw0KGgoAAAANSUhEUgAAADsAAAASBAMAAAAXqLt+AAAAMFBMVEX///8AAAAAAAAAAAAAAAAA\n",
       "AAAAAAAAAAAAAAAAAAAAAAAAAAAAAAAAAAAAAAAAAAAv3aB7AAAAD3RSTlMAEIm7mSJ2q+8y3WZE\n",
       "zVRISQrpAAAACXBIWXMAAA7EAAAOxAGVKw4bAAABDUlEQVQoz2NgYBAyNnZlQAN7m+1vNW8Asdgq\n",
       "JrAuV0CXNwhnOL5ZAMjQ1mZgOHIYQzqIgZmzgIGBU+ECAwMzdwKmNEsASEYQqIZpwgWwIJvVqlWr\n",
       "JsClDRgYhDmBGvkeeILEOC8FIOlmB2mcxAN0IM+GfSAxqQBkwye/BXKPcT8Aakt4DRKrQbI74tav\n",
       "RCAdxAfWnQMSu4DstN2yIJoZYrcjyOoCZGlmaVCwMIvCXc6KIs3pYAikeSD+fgASW4Dib89gEMMb\n",
       "GGrHIaHmjSItzAYynQkU5g5gMd4DCOkQBu4NNiBWyN/7nhAxRvODiBgzZTC+D7ayEh7iPMqwQEUC\n",
       "7AnpLw8w4AbPbSFRjwkApNtJpbpIiBIAAAAASUVORK5CYII=\n",
       "\" style=\"display:inline;vertical-align:middle;\" /></a></span></td></tr>\n",
       "<tr><td>&nbsp;</td><td colspan=4 style-\"text-align:left\"><a class=\"ProveItLink\" href=\"../../number_sets/real_numbers/_theory_nbs_/proofs/rational_within_real/thm_proof.ipynb\">proveit.numbers.number_sets.real_numbers.rational_within_real</a></td></tr><tr><td><a name=\"0x30e93881c6a29ff3_step21\">21</a></td><td>instantiation</td><td><a href=\"#0x30e93881c6a29ff3_step26\">26</a>, <a href=\"#0x30e93881c6a29ff3_step23\">23</a>, <a href=\"#0x30e93881c6a29ff3_step24\">24</a></td><td><span style=\"font-size:20px;\"> <a class=\"ProveItLink\" href=\"../__pv_it/demonstrations/077950f31f0ff7317de7b41217c9627280193e3e0/proof.ipynb\" style=\"text-decoration: none\">&nbsp;&#x22A2;&nbsp;&nbsp;</a><a class=\"ProveItLink\" href=\"../__pv_it/demonstrations/ed2f86edfb234bf186ff915d4457a63e8d1b9b820/expr.ipynb\"><img src=\"data:image/png;base64,iVBORw0KGgoAAAANSUhEUgAAADQAAAASBAMAAADmo+DzAAAAMFBMVEX///8AAAAAAAAAAAAAAAAA\n",
       "AAAAAAAAAAAAAAAAAAAAAAAAAAAAAAAAAAAAAAAAAAAv3aB7AAAAD3RSTlMAIomZu0QQVHbN72bd\n",
       "Mqv0UZE7AAAACXBIWXMAAA7EAAAOxAGVKw4bAAABAElEQVQY02NgwAKSXFwMQbSQsiuaDMerC4zn\n",
       "FBgY2AwY6gtQpbS1GRiCQ4BKvjPkT0CR4VUA8lm4GxhYlzLwQ6Q4fM6cBNEsaQ8YGJgugAXrN4BI\n",
       "1hkJEF0pvA0MDOwFtiCx02ARSagMwyVWoFLWDduBRve9BYtMhNkVwQ10Fm9DNdhAsAvhbhFiB+tq\n",
       "BbG5voHctebMmTNHwM6A2GXGwHuBgeU7UIDNAaaLJRHqQv5vECmGAzApVoi/Chi4HkAMZOiA+9ka\n",
       "GBpxwNDg3gD1Fyc8uJhAYWgAZAQbQ4KX7UkYTE7453xblLBjVYEEFBC8BYYgDsDX0FcbgEOuznPJ\n",
       "BgA9YEHBOeDJFQAAAABJRU5ErkJggg==\n",
       "\" style=\"display:inline;vertical-align:middle;\" /></a></span></td></tr>\n",
       "<tr><td>&nbsp;</td><td colspan=4 style=\"text-align:left\"><span style=\"font-size:20px;\"><a class=\"ProveItLink\" href=\"../../../__pv_it/common/09585084922504426caf1db2ff588a23a0932a960/expr.ipynb\"><img src=\"data:image/png;base64,iVBORw0KGgoAAAANSUhEUgAAAA8AAAAPBAMAAADJ+Ih5AAAAMFBMVEX///8AAAAAAAAAAAAAAAAA\n",
       "AAAAAAAAAAAAAAAAAAAAAAAAAAAAAAAAAAAAAAAAAAAv3aB7AAAAD3RSTlMAIs1UmauJMnZmRLsQ\n",
       "3e++988cAAAACXBIWXMAAA7EAAAOxAGVKw4bAAAAXklEQVQI12NgAAEhBijQh9LM/6EMlngBCCMx\n",
       "vwBMMzb0G0BkGOwngBmLGeoTwAwHBvkAEM2xxSV+A4hxgoGB/wJEhoH3AZDmAupg+gBkyAEx90cG\n",
       "htP/dRiY939KAABt3hLO6mcEjQAAAABJRU5ErkJggg==\n",
       "\" style=\"display:inline;vertical-align:middle;\" /></a> : <a class=\"ProveItLink\" href=\"../../number_sets/integers/__pv_it/common/e6b4e90f9467053e055a4fd2f735c0bb79cb79300/expr.ipynb\"><img src=\"data:image/png;base64,iVBORw0KGgoAAAANSUhEUgAAAA4AAAAPBAMAAAAmOuNHAAAAMFBMVEX///8AAAAAAAAAAAAAAAAA\n",
       "AAAAAAAAAAAAAAAAAAAAAAAAAAAAAAAAAAAAAAAAAAAv3aB7AAAAD3RSTlMAVM3vu91mdqsymYki\n",
       "EESqKsraAAAACXBIWXMAAA7EAAAOxAGVKw4bAAAAcElEQVQI12NgVP6sEuqcwMDuMYFBgYmBgWsB\n",
       "A3vCRgYGjgMMV3gdGBh4GRhWckxgAALOhlkgioHlgi+YlmYrANMgXUDALrCPgeECA8MVHqCuHgaG\n",
       "TqAJvB8YOBe8AhoWANSly8Dj6MDw2MnExd5kAwAL3Bb91imKgQAAAABJRU5ErkJggg==\n",
       "\" style=\"display:inline;vertical-align:middle;\" /></a>, <a class=\"ProveItLink\" href=\"../../../__pv_it/common/a9162d1c3cc0470c02e5daf414500903a7a419230/expr.ipynb\"><img src=\"data:image/png;base64,iVBORw0KGgoAAAANSUhEUgAAABAAAAAOBAMAAADUAYG5AAAAMFBMVEX///8AAAAAAAAAAAAAAAAA\n",
       "AAAAAAAAAAAAAAAAAAAAAAAAAAAAAAAAAAAAAAAAAAAv3aB7AAAAD3RSTlMAZrurzTLvInZEmRDd\n",
       "VIkafcLnAAAACXBIWXMAAA7EAAAOxAGVKw4bAAAAb0lEQVQI12NgYBD6b2zsFMAABEkMDMxfgTT7\n",
       "DwYGzl9ABiOQxwjkMDB/YGBgSQcy2BQYuG1AiuM1OkwEQJr6Cxh4E0EMNSB+D5L6DMTyDQwMrB+B\n",
       "DPsJDAwc34GcL0AOSwIDwzRvoHH6n41NdBkYAF/iFeJ4bEa2AAAAAElFTkSuQmCC\n",
       "\" style=\"display:inline;vertical-align:middle;\" /></a> : <a class=\"ProveItLink\" href=\"../../number_sets/rational_numbers/__pv_it/common/3de3e316334b6ece430a3f1aee01ae68b192ecb30/expr.ipynb\"><img src=\"data:image/png;base64,iVBORw0KGgoAAAANSUhEUgAAABAAAAASBAMAAACgFUNZAAAAMFBMVEX///8AAAAAAAAAAAAAAAAA\n",
       "AAAAAAAAAAAAAAAAAAAAAAAAAAAAAAAAAAAAAAAAAAAv3aB7AAAAD3RSTlMAEIm7mSJ2q+8y3WZE\n",
       "zVRISQrpAAAACXBIWXMAAA7EAAAOxAGVKw4bAAAAh0lEQVQI12NgYBAyNnZlAAK2igmsyxWADG1t\n",
       "BoYjhxkYOBUuMDAwcycwMAsWMDAwTbjAIMyZwMDA98CTYRLPBgYGng37GI5xPwAqTHjNEMQHFslh\n",
       "YIaocWRgFoXq4oGYA1ToDTT5ONBkBiaQXQ4gW0P+3vdkAINKoE1gwJ6Q/vIAmPXctnkDAHEUIwom\n",
       "ORJuAAAAAElFTkSuQmCC\n",
       "\" style=\"display:inline;vertical-align:middle;\" /></a>, <a class=\"ProveItLink\" href=\"../../../__pv_it/common/a0d9d672aa5e272d907247690c152cc2c6daafb70/expr.ipynb\"><img src=\"data:image/png;base64,iVBORw0KGgoAAAANSUhEUgAAAAsAAAAJBAMAAAAWSsseAAAAMFBMVEX///8AAAAAAAAAAAAAAAAA\n",
       "AAAAAAAAAAAAAAAAAAAAAAAAAAAAAAAAAAAAAAAAAAAv3aB7AAAAD3RSTlMAEHarMolUmd1mIs3v\n",
       "RLtmgJDEAAAACXBIWXMAAA7EAAAOxAGVKw4bAAAAQklEQVQI12NgEFIWCU1gYChgMmJvYOBcwPmR\n",
       "eQIDCwP7BgYQ4FEAU/cXMAowyF2wYWBlYMh3rGG4xsAgrsRWmcAAAFEjCyBvD0T9AAAAAElFTkSu\n",
       "QmCC\n",
       "\" style=\"display:inline;vertical-align:middle;\" /></a> : <a class=\"ProveItLink\" href=\"../../numerals/__pv_it/common/1943b60945420e340d305780feff5c1aff2740ff0/expr.ipynb\"><img src=\"data:image/png;base64,iVBORw0KGgoAAAANSUhEUgAAAAoAAAAOBAMAAADkjZCYAAAAMFBMVEX///8AAAAAAAAAAAAAAAAA\n",
       "AAAAAAAAAAAAAAAAAAAAAAAAAAAAAAAAAAAAAAAAAAAv3aB7AAAAD3RSTlMAIomZu0QQVHbN72bd\n",
       "Mqv0UZE7AAAACXBIWXMAAA7EAAAOxAGVKw4bAAAATElEQVQI12NgEFJ2ZWBgM2CoL2Dg+M6QP4GB\n",
       "dSkD/wQGIKjfACRYTwMJ3r63DGCRAhDJ9Y2B9wIDy3cG/m8gkusBSIR7A1h9sLErAwDNcRLUUVUn\n",
       "vwAAAABJRU5ErkJggg==\n",
       "\" style=\"display:inline;vertical-align:middle;\" /></a></span></td></tr><tr><td><a name=\"0x30e93881c6a29ff3_step22\">22</a></td><td>instantiation</td><td><a href=\"#0x30e93881c6a29ff3_step26\">26</a>, <a href=\"#0x30e93881c6a29ff3_step27\">27</a>, <a href=\"#0x30e93881c6a29ff3_step25\">25</a></td><td><span style=\"font-size:20px;\"> <a class=\"ProveItLink\" href=\"../__pv_it/demonstrations/288cb3dc7727810780b63ee223c41777e904a1d30/proof.ipynb\" style=\"text-decoration: none\">&nbsp;&#x22A2;&nbsp;&nbsp;</a><a class=\"ProveItLink\" href=\"../__pv_it/demonstrations/bac10758646a1685ada3fe39e190d9fb360007460/expr.ipynb\"><img src=\"data:image/png;base64,iVBORw0KGgoAAAANSUhEUgAAADEAAAAQBAMAAABNQoq8AAAAMFBMVEX///8AAAAAAAAAAAAAAAAA\n",
       "AAAAAAAAAAAAAAAAAAAAAAAAAAAAAAAAAAAAAAAAAAAv3aB7AAAAD3RSTlMAIpnNuzKJRKvvEN12\n",
       "ZlQ4bmvwAAAACXBIWXMAAA7EAAAOxAGVKw4bAAAA6ElEQVQY02NgwACP50/23jKXgYFRySQAVeZI\n",
       "KwMzgwEDgwgD23dUGSUGhrNsDxgYGhkYZqLKNDJwOSwB0vMXMPQLQEzZvdsARC9gYApoBdLdDAz9\n",
       "YIuKT8F1RbAqQBj7QQSjFcI8L5YFYJr1D4hkFoBL8CXcgTC4G8AyCC1gN4OACpiM3A0EDmDmObYC\n",
       "Bi4gzQvWwrAEroXLQYSBgQNo+DMGRpAV3HAZjgCgH9cD7U9g4AG5hOcATCaIXQHsGWklJW2wgB3c\n",
       "zcwLGESeAD3z//9nsMAKd4gn2KdYunj+dEMOrzLv3QZIXAD9XDFvtfFLvQAAAABJRU5ErkJggg==\n",
       "\" style=\"display:inline;vertical-align:middle;\" /></a></span></td></tr>\n",
       "<tr><td>&nbsp;</td><td colspan=4 style=\"text-align:left\"><span style=\"font-size:20px;\"><a class=\"ProveItLink\" href=\"../../../__pv_it/common/09585084922504426caf1db2ff588a23a0932a960/expr.ipynb\"><img src=\"data:image/png;base64,iVBORw0KGgoAAAANSUhEUgAAAA8AAAAPBAMAAADJ+Ih5AAAAMFBMVEX///8AAAAAAAAAAAAAAAAA\n",
       "AAAAAAAAAAAAAAAAAAAAAAAAAAAAAAAAAAAAAAAAAAAv3aB7AAAAD3RSTlMAIs1UmauJMnZmRLsQ\n",
       "3e++988cAAAACXBIWXMAAA7EAAAOxAGVKw4bAAAAXklEQVQI12NgAAEhBijQh9LM/6EMlngBCCMx\n",
       "vwBMMzb0G0BkGOwngBmLGeoTwAwHBvkAEM2xxSV+A4hxgoGB/wJEhoH3AZDmAupg+gBkyAEx90cG\n",
       "htP/dRiY939KAABt3hLO6mcEjQAAAABJRU5ErkJggg==\n",
       "\" style=\"display:inline;vertical-align:middle;\" /></a> : <a class=\"ProveItLink\" href=\"../../number_sets/natural_numbers/__pv_it/common/8b7c321957f52ed3b05b36af612eeae4fa4783bc0/expr.ipynb\"><img src=\"data:image/png;base64,iVBORw0KGgoAAAANSUhEUgAAAA8AAAAPBAMAAADJ+Ih5AAAAMFBMVEX///8AAAAAAAAAAAAAAAAA\n",
       "AAAAAAAAAAAAAAAAAAAAAAAAAAAAAAAAAAAAAAAAAAAv3aB7AAAAD3RSTlMAEN27zYnvRFSrImZ2\n",
       "MpmnAiL6AAAACXBIWXMAAA7EAAAOxAGVKw4bAAAAaUlEQVQI12MQ+mwiwBD2rYCBwYJ9AgPjBwYG\n",
       "hkkLohkYEoCMGQYsCxgUgIxZe7gcIAzOC0chDAYD5gII4x6jIoTB3dCcAGYwTOSEMiQZIVIMvAcM\n",
       "gAxbID4LYngAMZ8DA8OVb0AeowMDAHMQGYAvWUcMAAAAAElFTkSuQmCC\n",
       "\" style=\"display:inline;vertical-align:middle;\" /></a>, <a class=\"ProveItLink\" href=\"../../../__pv_it/common/a9162d1c3cc0470c02e5daf414500903a7a419230/expr.ipynb\"><img src=\"data:image/png;base64,iVBORw0KGgoAAAANSUhEUgAAABAAAAAOBAMAAADUAYG5AAAAMFBMVEX///8AAAAAAAAAAAAAAAAA\n",
       "AAAAAAAAAAAAAAAAAAAAAAAAAAAAAAAAAAAAAAAAAAAv3aB7AAAAD3RSTlMAZrurzTLvInZEmRDd\n",
       "VIkafcLnAAAACXBIWXMAAA7EAAAOxAGVKw4bAAAAb0lEQVQI12NgYBD6b2zsFMAABEkMDMxfgTT7\n",
       "DwYGzl9ABiOQxwjkMDB/YGBgSQcy2BQYuG1AiuM1OkwEQJr6Cxh4E0EMNSB+D5L6DMTyDQwMrB+B\n",
       "DPsJDAwc34GcL0AOSwIDwzRvoHH6n41NdBkYAF/iFeJ4bEa2AAAAAElFTkSuQmCC\n",
       "\" style=\"display:inline;vertical-align:middle;\" /></a> : <a class=\"ProveItLink\" href=\"../../number_sets/integers/__pv_it/common/e6b4e90f9467053e055a4fd2f735c0bb79cb79300/expr.ipynb\"><img src=\"data:image/png;base64,iVBORw0KGgoAAAANSUhEUgAAAA4AAAAPBAMAAAAmOuNHAAAAMFBMVEX///8AAAAAAAAAAAAAAAAA\n",
       "AAAAAAAAAAAAAAAAAAAAAAAAAAAAAAAAAAAAAAAAAAAv3aB7AAAAD3RSTlMAVM3vu91mdqsymYki\n",
       "EESqKsraAAAACXBIWXMAAA7EAAAOxAGVKw4bAAAAcElEQVQI12NgVP6sEuqcwMDuMYFBgYmBgWsB\n",
       "A3vCRgYGjgMMV3gdGBh4GRhWckxgAALOhlkgioHlgi+YlmYrANMgXUDALrCPgeECA8MVHqCuHgaG\n",
       "TqAJvB8YOBe8AhoWANSly8Dj6MDw2MnExd5kAwAL3Bb91imKgQAAAABJRU5ErkJggg==\n",
       "\" style=\"display:inline;vertical-align:middle;\" /></a>, <a class=\"ProveItLink\" href=\"../../../__pv_it/common/a0d9d672aa5e272d907247690c152cc2c6daafb70/expr.ipynb\"><img src=\"data:image/png;base64,iVBORw0KGgoAAAANSUhEUgAAAAsAAAAJBAMAAAAWSsseAAAAMFBMVEX///8AAAAAAAAAAAAAAAAA\n",
       "AAAAAAAAAAAAAAAAAAAAAAAAAAAAAAAAAAAAAAAAAAAv3aB7AAAAD3RSTlMAEHarMolUmd1mIs3v\n",
       "RLtmgJDEAAAACXBIWXMAAA7EAAAOxAGVKw4bAAAAQklEQVQI12NgEFIWCU1gYChgMmJvYOBcwPmR\n",
       "eQIDCwP7BgYQ4FEAU/cXMAowyF2wYWBlYMh3rGG4xsAgrsRWmcAAAFEjCyBvD0T9AAAAAElFTkSu\n",
       "QmCC\n",
       "\" style=\"display:inline;vertical-align:middle;\" /></a> : <a class=\"ProveItLink\" href=\"../../numerals/__pv_it/common/af4aab8a07465db063742696e006d04670f30cf10/expr.ipynb\"><img src=\"data:image/png;base64,iVBORw0KGgoAAAANSUhEUgAAAAkAAAAOBAMAAAAPuiubAAAAMFBMVEX///8AAAAAAAAAAAAAAAAA\n",
       "AAAAAAAAAAAAAAAAAAAAAAAAAAAAAAAAAAAAAAAAAAAv3aB7AAAAD3RSTlMAIpnNuzKJRKvvEN12\n",
       "ZlQ4bmvwAAAACXBIWXMAAA7EAAAOxAGVKw4bAAAATklEQVQI12NgVDIJYGAQYWD7zsDQyMAwk4Fh\n",
       "/gKGfgGGbgaGfqAEA8N+EMH6B0RyN4BIFRDBC2Y+Y2AUYGBNYOBZwCCtpKQNVPz//2cGAEeID1mi\n",
       "/zO7AAAAAElFTkSuQmCC\n",
       "\" style=\"display:inline;vertical-align:middle;\" /></a></span></td></tr><tr><td><a name=\"0x30e93881c6a29ff3_step23\">23</a></td><td>conjecture</td><td></td><td><span style=\"font-size:20px;\"> <a class=\"ProveItLink\" href=\"../../number_sets/rational_numbers/_theory_nbs_/proofs/int_within_rational/thm_proof.ipynb\" style=\"text-decoration: none\">&nbsp;&#x22A2;&nbsp;&nbsp;</a><a class=\"ProveItLink\" href=\"../../number_sets/rational_numbers/__pv_it/theorems/f82654afbc103bcf8089d3e3a9860276c55562410/expr.ipynb\"><img src=\"data:image/png;base64,iVBORw0KGgoAAAANSUhEUgAAADkAAAASBAMAAAATXWtDAAAAMFBMVEX///8AAAAAAAAAAAAAAAAA\n",
       "AAAAAAAAAAAAAAAAAAAAAAAAAAAAAAAAAAAAAAAAAAAv3aB7AAAAD3RSTlMAVM3vu91mdqsymYki\n",
       "EESqKsraAAAACXBIWXMAAA7EAAAOxAGVKw4bAAABHUlEQVQoz2NgVP6sEuqcwIAKeLe4eB0A0uwe\n",
       "ExgUmNAkGSosGY52A2muBQzsCRvRJLmzExj41jkwMHAcYLjC64AmOxtkmEM60AYGhpUcEyCCJaGh\n",
       "oZEghu8NILETbB9nwyyI5KQ9MDc5TAeSglwgTSwXfCFiMTCDOTc8A5LP2ASApDRbAViM4wFMlq8g\n",
       "EUhOZwT5E+YfhLd4NoiB9LIDlbML7GNguADkzUC4GWovUPQKD9A/PUDeCYSs7wmYmzuBPub9AGSw\n",
       "ImRfg/0LtJxzwSuggwJAoYYIbC5QWPU5gPyjy8DjCA4sPYTmHcBw7gLSj51MXOxNNoCErvRdgLt6\n",
       "vdKvCWjB+9oVGpJAuyakM+AB7eyN83DLMrYouzEAAFryQoQ5NsiXAAAAAElFTkSuQmCC\n",
       "\" style=\"display:inline;vertical-align:middle;\" /></a></span></td></tr>\n",
       "<tr><td>&nbsp;</td><td colspan=4 style-\"text-align:left\"><a class=\"ProveItLink\" href=\"../../number_sets/rational_numbers/_theory_nbs_/proofs/int_within_rational/thm_proof.ipynb\">proveit.numbers.number_sets.rational_numbers.int_within_rational</a></td></tr><tr><td><a name=\"0x30e93881c6a29ff3_step24\">24</a></td><td>instantiation</td><td><a href=\"#0x30e93881c6a29ff3_step26\">26</a>, <a href=\"#0x30e93881c6a29ff3_step27\">27</a>, <a href=\"#0x30e93881c6a29ff3_step28\">28</a></td><td><span style=\"font-size:20px;\"> <a class=\"ProveItLink\" href=\"../__pv_it/demonstrations/336698de6242ba2d36d141cc01881c804067f6eb0/proof.ipynb\" style=\"text-decoration: none\">&nbsp;&#x22A2;&nbsp;&nbsp;</a><a class=\"ProveItLink\" href=\"../__pv_it/demonstrations/0f3013e202906f9e4df2f20e44ea5ef8f7131b290/expr.ipynb\"><img src=\"data:image/png;base64,iVBORw0KGgoAAAANSUhEUgAAADIAAAAQBAMAAACmdTG/AAAAMFBMVEX///8AAAAAAAAAAAAAAAAA\n",
       "AAAAAAAAAAAAAAAAAAAAAAAAAAAAAAAAAAAAAAAAAAAv3aB7AAAAD3RSTlMAIomZu0QQVHbN72bd\n",
       "Mqv0UZE7AAAACXBIWXMAAA7EAAAOxAGVKw4bAAAA6klEQVQY02NgwADss35NOeO1gYFBSNkVVYbD\n",
       "7wLDBE4GBjYDhvoCFBlmAwaODepAFd8Z8iegyPAJMKSwOTAwsC5l4IfIcPicOQmi2RgYbPkugIXq\n",
       "N4BI1hkJMF28Dy6DadbTYEoSLsHAkuAGVtD3FsydiLCpiLsBwoC4DckZIDeDAdc3kNY1Z86cOQJx\n",
       "SoEqA0MCA+8FBpbvIBc5wLWkMALZDxn4v0FkGA7AZd4CfcT2gYHrAcQ0hg64mw2Cgd49wMC9Aeof\n",
       "zgK4m6cxMLoDDQw2hoQo25MwiEyU5xKX9UsUkMKLVQUSOlAAAKJNN0u9eQ+gAAAAAElFTkSuQmCC\n",
       "\" style=\"display:inline;vertical-align:middle;\" /></a></span></td></tr>\n",
       "<tr><td>&nbsp;</td><td colspan=4 style=\"text-align:left\"><span style=\"font-size:20px;\"><a class=\"ProveItLink\" href=\"../../../__pv_it/common/09585084922504426caf1db2ff588a23a0932a960/expr.ipynb\"><img src=\"data:image/png;base64,iVBORw0KGgoAAAANSUhEUgAAAA8AAAAPBAMAAADJ+Ih5AAAAMFBMVEX///8AAAAAAAAAAAAAAAAA\n",
       "AAAAAAAAAAAAAAAAAAAAAAAAAAAAAAAAAAAAAAAAAAAv3aB7AAAAD3RSTlMAIs1UmauJMnZmRLsQ\n",
       "3e++988cAAAACXBIWXMAAA7EAAAOxAGVKw4bAAAAXklEQVQI12NgAAEhBijQh9LM/6EMlngBCCMx\n",
       "vwBMMzb0G0BkGOwngBmLGeoTwAwHBvkAEM2xxSV+A4hxgoGB/wJEhoH3AZDmAupg+gBkyAEx90cG\n",
       "htP/dRiY939KAABt3hLO6mcEjQAAAABJRU5ErkJggg==\n",
       "\" style=\"display:inline;vertical-align:middle;\" /></a> : <a class=\"ProveItLink\" href=\"../../number_sets/natural_numbers/__pv_it/common/8b7c321957f52ed3b05b36af612eeae4fa4783bc0/expr.ipynb\"><img src=\"data:image/png;base64,iVBORw0KGgoAAAANSUhEUgAAAA8AAAAPBAMAAADJ+Ih5AAAAMFBMVEX///8AAAAAAAAAAAAAAAAA\n",
       "AAAAAAAAAAAAAAAAAAAAAAAAAAAAAAAAAAAAAAAAAAAv3aB7AAAAD3RSTlMAEN27zYnvRFSrImZ2\n",
       "MpmnAiL6AAAACXBIWXMAAA7EAAAOxAGVKw4bAAAAaUlEQVQI12MQ+mwiwBD2rYCBwYJ9AgPjBwYG\n",
       "hkkLohkYEoCMGQYsCxgUgIxZe7gcIAzOC0chDAYD5gII4x6jIoTB3dCcAGYwTOSEMiQZIVIMvAcM\n",
       "gAxbID4LYngAMZ8DA8OVb0AeowMDAHMQGYAvWUcMAAAAAElFTkSuQmCC\n",
       "\" style=\"display:inline;vertical-align:middle;\" /></a>, <a class=\"ProveItLink\" href=\"../../../__pv_it/common/a9162d1c3cc0470c02e5daf414500903a7a419230/expr.ipynb\"><img src=\"data:image/png;base64,iVBORw0KGgoAAAANSUhEUgAAABAAAAAOBAMAAADUAYG5AAAAMFBMVEX///8AAAAAAAAAAAAAAAAA\n",
       "AAAAAAAAAAAAAAAAAAAAAAAAAAAAAAAAAAAAAAAAAAAv3aB7AAAAD3RSTlMAZrurzTLvInZEmRDd\n",
       "VIkafcLnAAAACXBIWXMAAA7EAAAOxAGVKw4bAAAAb0lEQVQI12NgYBD6b2zsFMAABEkMDMxfgTT7\n",
       "DwYGzl9ABiOQxwjkMDB/YGBgSQcy2BQYuG1AiuM1OkwEQJr6Cxh4E0EMNSB+D5L6DMTyDQwMrB+B\n",
       "DPsJDAwc34GcL0AOSwIDwzRvoHH6n41NdBkYAF/iFeJ4bEa2AAAAAElFTkSuQmCC\n",
       "\" style=\"display:inline;vertical-align:middle;\" /></a> : <a class=\"ProveItLink\" href=\"../../number_sets/integers/__pv_it/common/e6b4e90f9467053e055a4fd2f735c0bb79cb79300/expr.ipynb\"><img src=\"data:image/png;base64,iVBORw0KGgoAAAANSUhEUgAAAA4AAAAPBAMAAAAmOuNHAAAAMFBMVEX///8AAAAAAAAAAAAAAAAA\n",
       "AAAAAAAAAAAAAAAAAAAAAAAAAAAAAAAAAAAAAAAAAAAv3aB7AAAAD3RSTlMAVM3vu91mdqsymYki\n",
       "EESqKsraAAAACXBIWXMAAA7EAAAOxAGVKw4bAAAAcElEQVQI12NgVP6sEuqcwMDuMYFBgYmBgWsB\n",
       "A3vCRgYGjgMMV3gdGBh4GRhWckxgAALOhlkgioHlgi+YlmYrANMgXUDALrCPgeECA8MVHqCuHgaG\n",
       "TqAJvB8YOBe8AhoWANSly8Dj6MDw2MnExd5kAwAL3Bb91imKgQAAAABJRU5ErkJggg==\n",
       "\" style=\"display:inline;vertical-align:middle;\" /></a>, <a class=\"ProveItLink\" href=\"../../../__pv_it/common/a0d9d672aa5e272d907247690c152cc2c6daafb70/expr.ipynb\"><img src=\"data:image/png;base64,iVBORw0KGgoAAAANSUhEUgAAAAsAAAAJBAMAAAAWSsseAAAAMFBMVEX///8AAAAAAAAAAAAAAAAA\n",
       "AAAAAAAAAAAAAAAAAAAAAAAAAAAAAAAAAAAAAAAAAAAv3aB7AAAAD3RSTlMAEHarMolUmd1mIs3v\n",
       "RLtmgJDEAAAACXBIWXMAAA7EAAAOxAGVKw4bAAAAQklEQVQI12NgEFIWCU1gYChgMmJvYOBcwPmR\n",
       "eQIDCwP7BgYQ4FEAU/cXMAowyF2wYWBlYMh3rGG4xsAgrsRWmcAAAFEjCyBvD0T9AAAAAElFTkSu\n",
       "QmCC\n",
       "\" style=\"display:inline;vertical-align:middle;\" /></a> : <a class=\"ProveItLink\" href=\"../../numerals/__pv_it/common/1943b60945420e340d305780feff5c1aff2740ff0/expr.ipynb\"><img src=\"data:image/png;base64,iVBORw0KGgoAAAANSUhEUgAAAAoAAAAOBAMAAADkjZCYAAAAMFBMVEX///8AAAAAAAAAAAAAAAAA\n",
       "AAAAAAAAAAAAAAAAAAAAAAAAAAAAAAAAAAAAAAAAAAAv3aB7AAAAD3RSTlMAIomZu0QQVHbN72bd\n",
       "Mqv0UZE7AAAACXBIWXMAAA7EAAAOxAGVKw4bAAAATElEQVQI12NgEFJ2ZWBgM2CoL2Dg+M6QP4GB\n",
       "dSkD/wQGIKjfACRYTwMJ3r63DGCRAhDJ9Y2B9wIDy3cG/m8gkusBSIR7A1h9sLErAwDNcRLUUVUn\n",
       "vwAAAABJRU5ErkJggg==\n",
       "\" style=\"display:inline;vertical-align:middle;\" /></a></span></td></tr><tr><td><a name=\"0x30e93881c6a29ff3_step25\">25</a></td><td>conjecture</td><td></td><td><span style=\"font-size:20px;\"> <a class=\"ProveItLink\" href=\"../../numerals/decimals/_theory_nbs_/proofs/nat2/thm_proof.ipynb\" style=\"text-decoration: none\">&nbsp;&#x22A2;&nbsp;&nbsp;</a><a class=\"ProveItLink\" href=\"../../numerals/decimals/__pv_it/theorems/c5da86d5508e181a625c8aa785bd1ba0345b9e710/expr.ipynb\"><img src=\"data:image/png;base64,iVBORw0KGgoAAAANSUhEUgAAADIAAAAQBAMAAACmdTG/AAAAMFBMVEX///8AAAAAAAAAAAAAAAAA\n",
       "AAAAAAAAAAAAAAAAAAAAAAAAAAAAAAAAAAAAAAAAAAAv3aB7AAAAD3RSTlMAIpnNuzKJRKvvEN12\n",
       "ZlQ4bmvwAAAACXBIWXMAAA7EAAAOxAGVKw4bAAAA6UlEQVQY02NgQAdc+12sGNjmT2dgVDIJQJVi\n",
       "eVDBwLCegUGEge07qgzHRrYLDJwMDI0MDDPRZJ4wGDJwMzDMX8DQLwAWObJ7twFYRvaAMEimm4Gh\n",
       "H2xR8SmYHoFWngRuMHM/iGC0gpsmwMLgDpZh/QMimQUQMqwKq1eDWNwNYBmECwQY7vF5glgqYH7k\n",
       "biBwgMpwLOgEMnjBWhiWIOvhagCZ9oyBEWQFN7IMQwwL0P4EBp4FQD7PAXjoAD3BE8LAIK2kpA0W\n",
       "sIPJMD8AEspAz/z//xkssMJ9AZhmtZ8CJBcjh1eZNyR0oAAAgjkuwI39QLgAAAAASUVORK5CYII=\n",
       "\" style=\"display:inline;vertical-align:middle;\" /></a></span></td></tr>\n",
       "<tr><td>&nbsp;</td><td colspan=4 style-\"text-align:left\"><a class=\"ProveItLink\" href=\"../../numerals/decimals/_theory_nbs_/proofs/nat2/thm_proof.ipynb\">proveit.numbers.numerals.decimals.nat2</a></td></tr><tr><td><a name=\"0x30e93881c6a29ff3_step26\">26</a></td><td>theorem</td><td></td><td><span style=\"font-size:20px;\"> <a class=\"ProveItLink\" href=\"../../../logic/sets/inclusion/_theory_nbs_/proofs/superset_membership_from_proper_subset/thm_proof.ipynb\" style=\"text-decoration: none\">&nbsp;&#x22A2;&nbsp;&nbsp;</a><a class=\"ProveItLink\" href=\"../../../logic/sets/inclusion/__pv_it/theorems/8c2c4c3c91efdbf0b7e86e4a2d99545aea54db000/expr.ipynb\"><img src=\"data:image/png;base64,iVBORw0KGgoAAAANSUhEUgAAAPcAAAAXBAMAAAAl5sTiAAAAMFBMVEX///8AAAAAAAAAAAAAAAAA\n",
       "AAAAAAAAAAAAAAAAAAAAAAAAAAAAAAAAAAAAAAAAAAAv3aB7AAAAD3RSTlMAq1RmmUTNIjK7EInv\n",
       "3XZ/CtNrAAAACXBIWXMAAA7EAAAOxAGVKw4bAAADd0lEQVRIx7WWX0gUQRzHv/d37/bsPEmkgvCo\n",
       "6DGOlKIH80IqxTIhCMmoS4jQl85HqXR7jKQO4aCTyhMkKBJOsSDuodMeKqIQ6qEHF7YMpAhTMz0M\n",
       "qtmZ2925013lwIG7nZ3fb+cz8/s3AxTZ/LJkrSBYCaMbmMCi+ZrXUfhiJTzPZgio/d3FwG3qwx4y\n",
       "kdtTaw4f+ldW1i7BH6Lwo+rQ5WLgTnXv7qiJ/KHJ+BvAlgU6KPyG6p5YMXCParQuM3mdSST8BVyL\n",
       "QDWFu5PkESzK52T1GDWTZ/LevslyhHYcZNcOsoCSpDqDg1jfXVzAVZFHxMzleYIz37WebY7gXpFf\n",
       "iIbsO1l+Wxy8RJanUiZiJxGIsztuUcsIHfp4SQziTpJjvgCF1wP9dDxZ8LnWEc3gTgnego90XbIz\n",
       "MsNn5STyo/LOg9kKNUEcEQrvhEDTTXxNpTcX0w00+72a/hO9GHgGGsfuGnDyXWfBknTdLSSMDqI2\n",
       "uZXCDYWfUdhfqm7JULg3yeqFb4FFxCT8mTz4CzKPZySRIMuvAX5wRaYfTzWl29vjmi4zLxFLOMZe\n",
       "emXSWEbdU5XICj1zdAa7whbW8p5FRBiOOR7u6lWARrajcqCWg+/T481Zb+jqcIBNiUfGzufJr5Yo\n",
       "udjOETlMh5WL7KsghkM83O8O6Lk4AfEDB3c7yDT+r93HMW3oGmaHaxmP6YvO9vwif5XqlicZfJTG\n",
       "oj9no57p6m3g4YozgkGtQlQdkTi4by+JtxlbrE2MGbqseRWIcVsGNBv8in4cLZMFLKnejTH4Nbra\n",
       "lpw3ayCW83CXRELgNLR4GAxzcGGcdEJeRXKFDN2cOAB7dijjYiZr05OAyM91sFSkcBvdTGO6Mplz\n",
       "a08zB3emR1awC1o8CL/5U43aqDQKR3si0ZfTzdl3EmKTsmc/exuMs5S0DcyXVfRRTzRz56KfMCXm\n",
       "VlzgU02BkMVVaPHgyq46UnsR9aQM3Vz7lJeCrffl/Fp4nZ+BGLY0KKYgrED8yJldNegCvKxK9CQx\n",
       "HC6AC5lnCLMyxXRzrdq6QNZxcOc4xFOXPBM48CfdEOTgJwIYWmoWaWlxXEmP9a26TDS1zibRJem6\n",
       "WsRFLa85sdXXETvX9+YV0wQtMqY3GfF5Il5QaC2PaXVphfCzZvA1avt6V7BuK+EMibKpAnho4/DN\n",
       "bcLmI/4DAvPgMMgumckAAAAASUVORK5CYII=\n",
       "\" style=\"display:inline;vertical-align:middle;\" /></a></span></td></tr>\n",
       "<tr><td>&nbsp;</td><td colspan=4 style-\"text-align:left\"><a class=\"ProveItLink\" href=\"../../../logic/sets/inclusion/_theory_nbs_/proofs/superset_membership_from_proper_subset/thm_proof.ipynb\">proveit.logic.sets.inclusion.superset_membership_from_proper_subset</a></td></tr><tr><td><a name=\"0x30e93881c6a29ff3_step27\">27</a></td><td>conjecture</td><td></td><td><span style=\"font-size:20px;\"> <a class=\"ProveItLink\" href=\"../../number_sets/integers/_theory_nbs_/proofs/nat_within_int/thm_proof.ipynb\" style=\"text-decoration: none\">&nbsp;&#x22A2;&nbsp;&nbsp;</a><a class=\"ProveItLink\" href=\"../../number_sets/integers/__pv_it/theorems/1cd0ce5701331e1608ae0251ff814274d551a8fa0/expr.ipynb\"><img src=\"data:image/png;base64,iVBORw0KGgoAAAANSUhEUgAAADkAAAAQBAMAAABelcpIAAAAMFBMVEX///8AAAAAAAAAAAAAAAAA\n",
       "AAAAAAAAAAAAAAAAAAAAAAAAAAAAAAAAAAAAAAAAAAAv3aB7AAAAD3RSTlMAEN27zYnvRFSrImZ2\n",
       "MpmnAiL6AAAACXBIWXMAAA7EAAAOxAGVKw4bAAAA/klEQVQY02MQ+mwiwBD2rYABBbTkpxgpZwMZ\n",
       "FuwTGBg/oEoyHJ7LwMLgAGRMWhDNwJCAJvuOgeE0awOQMcOAZQGDAprsLAZGA2EwYw+XA0z2sJKS\n",
       "ki6IIcDAd2EuWJbzwlGo7JUohO6bvA8ghhgwF4BlGbWQzDZkFoDI3mNUBMtyInmLI2AP1AHcDc1g\n",
       "N7MgaYX4ByTLMJETLHsTSfYEawEDI0RWkhFs8kqEJKPBYqBNC8CyvAcMQEJMCFnOC0BheSDDFojP\n",
       "gmX5NsBl77ED/TMJyPAAiUOc4I7wD4sAw+JmYAh8A+pjhMgKTxeASLInuxmbfTNFC95SI2hIQgEA\n",
       "ReU3Hj/DorcAAAAASUVORK5CYII=\n",
       "\" style=\"display:inline;vertical-align:middle;\" /></a></span></td></tr>\n",
       "<tr><td>&nbsp;</td><td colspan=4 style-\"text-align:left\"><a class=\"ProveItLink\" href=\"../../number_sets/integers/_theory_nbs_/proofs/nat_within_int/thm_proof.ipynb\">proveit.numbers.number_sets.integers.nat_within_int</a></td></tr><tr><td><a name=\"0x30e93881c6a29ff3_step28\">28</a></td><td>conjecture</td><td></td><td><span style=\"font-size:20px;\"> <a class=\"ProveItLink\" href=\"../../numerals/decimals/_theory_nbs_/proofs/nat3/thm_proof.ipynb\" style=\"text-decoration: none\">&nbsp;&#x22A2;&nbsp;&nbsp;</a><a class=\"ProveItLink\" href=\"../../numerals/decimals/__pv_it/theorems/460c23cdbd64b08ccacdbdc6b3661919426e237f0/expr.ipynb\"><img src=\"data:image/png;base64,iVBORw0KGgoAAAANSUhEUgAAADMAAAAQBAMAAABJt1qBAAAAMFBMVEX///8AAAAAAAAAAAAAAAAA\n",
       "AAAAAAAAAAAAAAAAAAAAAAAAAAAAAAAAAAAAAAAAAAAv3aB7AAAAD3RSTlMAIomZu0QQVHbN72bd\n",
       "Mqv0UZE7AAAACXBIWXMAAA7EAAAOxAGVKw4bAAAA7ElEQVQY02NgwAA5XzwTGLR+BTAwCCm7osm5\n",
       "sz5gYPvAwMBmwFBfgCr1RkCbgWEBAwPHd4b8CahSzx04BRgOMDCwLmXgh0hx+Jw5CWY83ME4ASQF\n",
       "BPUbQCTrjASorod8F5ogUqynwQKSMBmGhwwOLAEgKd6+t2CBiQwIqctsx6AGgl04AUmKu6BkAZjJ\n",
       "9Q2kec2ZM2eOQKUYnvEBpXgvMLB8B/LZHJB0MeSxAQ3k/waRgroWKsXbAFTJ9QBiIEMHXMoXiHuB\n",
       "UtwboP7ihAfXdCBmBrkq2BgSvGxPwiAyN38BdbChBB6rCjSgoAAA9idClfoHlG4AAAAASUVORK5C\n",
       "YII=\n",
       "\" style=\"display:inline;vertical-align:middle;\" /></a></span></td></tr>\n",
       "<tr><td>&nbsp;</td><td colspan=4 style-\"text-align:left\"><a class=\"ProveItLink\" href=\"../../numerals/decimals/_theory_nbs_/proofs/nat3/thm_proof.ipynb\">proveit.numbers.numerals.decimals.nat3</a></td></tr></table>"
      ],
      "text/plain": [
       "\tstep type\trequirements\tstatement\n",
       "0\tinstantiation\t1, 2\t{a in Complex, b in RealNeg} |- |a + b + 2 + 3| >= 0\n",
       "\tx : |a + b + 2 + 3|\n",
       "1\tconjecture\t\t|- forall_{x in RealNonNeg} (x >= 0)\n",
       "\tproveit.numbers.number_sets.real_numbers.nonneg_if_in_real_nonneg\n",
       "2\tinstantiation\t3, 4\t{a in Complex, b in RealNeg} |- |a + b + 2 + 3| in RealNonNeg\n",
       "\ta : a + b + 2 + 3\n",
       "3\tconjecture\t\t|- forall_{a in Complex} (|a| in RealNonNeg)\n",
       "\tproveit.numbers.absolute_value.abs_complex_closure\n",
       "4\tinstantiation\t5, 6, 7, 8, 9, 10, 11\t{a in Complex, b in RealNeg} |- (a + b + 2 + 3) in Complex\n",
       "\ti : 4, a : (a, b, 2, 3)\n",
       "5\tconjecture\t\t|- forall_{i in Natural} [forall_{a_{1}, a_{2}, ..., a_{i} in Complex} ((a_{1} +  a_{2} +  ... +  a_{i}) in Complex)]\n",
       "\tproveit.numbers.addition.add_complex_closure\n",
       "6\tconjecture\t\t|- 4 in Natural\n",
       "\tproveit.numbers.numerals.decimals.nat4\n",
       "7\tinstantiation\t12\t|- |(a, b, 2, 3)| = |(1, 2, ..., 4)|\n",
       "\ta : a, b : b, c : 2, d : 3\n",
       "8\tassumption\t\t{a in Complex} |- a in Complex\n",
       "9\tinstantiation\t26, 15, 13\t{b in RealNeg} |- b in Complex\n",
       "\tA : Real, B : Complex, x : b\n",
       "10\tinstantiation\t26, 15, 14\t|- 2 in Complex\n",
       "\tA : Real, B : Complex, x : 2\n",
       "11\tinstantiation\t26, 15, 16\t|- 3 in Complex\n",
       "\tA : Real, B : Complex, x : 3\n",
       "12\tconjecture\t\t|- forall_{a, b, c, d} (|(a, b, c, d)| = |(1, 2, ..., 4)|)\n",
       "\tproveit.numbers.numerals.decimals.tuple_len_4_typical_eq\n",
       "13\tinstantiation\t26, 17, 18\t{b in RealNeg} |- b in Real\n",
       "\tA : RealNeg, B : Real, x : b\n",
       "14\tinstantiation\t26, 20, 19\t|- 2 in Real\n",
       "\tA : Rational, B : Real, x : 2\n",
       "15\tconjecture\t\t|- Real proper_subset Complex\n",
       "\tproveit.numbers.number_sets.complex_numbers.real_within_complex\n",
       "16\tinstantiation\t26, 20, 21\t|- 3 in Real\n",
       "\tA : Rational, B : Real, x : 3\n",
       "17\tconjecture\t\t|- RealNeg proper_subset Real\n",
       "\tproveit.numbers.number_sets.real_numbers.real_neg_within_real\n",
       "18\tassumption\t\t{b in RealNeg} |- b in RealNeg\n",
       "19\tinstantiation\t26, 23, 22\t|- 2 in Rational\n",
       "\tA : Integer, B : Rational, x : 2\n",
       "20\tconjecture\t\t|- Rational proper_subset Real\n",
       "\tproveit.numbers.number_sets.real_numbers.rational_within_real\n",
       "21\tinstantiation\t26, 23, 24\t|- 3 in Rational\n",
       "\tA : Integer, B : Rational, x : 3\n",
       "22\tinstantiation\t26, 27, 25\t|- 2 in Integer\n",
       "\tA : Natural, B : Integer, x : 2\n",
       "23\tconjecture\t\t|- Integer proper_subset Rational\n",
       "\tproveit.numbers.number_sets.rational_numbers.int_within_rational\n",
       "24\tinstantiation\t26, 27, 28\t|- 3 in Integer\n",
       "\tA : Natural, B : Integer, x : 3\n",
       "25\tconjecture\t\t|- 2 in Natural\n",
       "\tproveit.numbers.numerals.decimals.nat2\n",
       "26\ttheorem\t\t|- forall_{A, B | A proper_subset B} [forall_{x in A} (x in B)]\n",
       "\tproveit.logic.sets.inclusion.superset_membership_from_proper_subset\n",
       "27\tconjecture\t\t|- Natural proper_subset Integer\n",
       "\tproveit.numbers.number_sets.integers.nat_within_int\n",
       "28\tconjecture\t\t|- 3 in Natural\n",
       "\tproveit.numbers.numerals.decimals.nat3"
      ]
     },
     "metadata": {},
     "output_type": "display_data"
    }
   ],
   "source": [
    "demo_expr_02_ge_zero.proof()"
   ]
  },
  {
   "cell_type": "markdown",
   "metadata": {},
   "source": [
    "<a id='demo03'></a><font size=4><br><b>3. Simplifying $1 + |x+1|$</b></font><br><br>\n",
    "<font size=3>Consider the simple expression $1 + |x+1|$ involving the sum of a constant and an absolute value expression.</font>"
   ]
  },
  {
   "cell_type": "code",
   "execution_count": 35,
   "metadata": {},
   "outputs": [
    {
     "data": {
      "text/html": [
       "<strong id=\"demo_expr_03\">demo_expr_03:</strong> <a class=\"ProveItLink\" href=\"../__pv_it/demonstrations/71867c97d7e49b28612272c8544a2696f609c5380/expr.ipynb\"><img src=\"data:image/png;base64,iVBORw0KGgoAAAANSUhEUgAAAFwAAAAVBAMAAAA5lpTPAAAAMFBMVEX///8AAAAAAAAAAAAAAAAA\n",
       "AAAAAAAAAAAAAAAAAAAAAAAAAAAAAAAAAAAAAAAAAAAv3aB7AAAAD3RSTlMAMt0Qq5nNdoki72ZE\n",
       "VLtVShrrAAAACXBIWXMAAA7EAAAOxAGVKw4bAAAAwElEQVQoz2NgwACcDDjBBCxiHAdwKu9hYGBU\n",
       "Jk65kAFIuUnYZ2KUM7vmg5UzsMOU82zApvw0jFGPppy3AJvy69RXzlzuLNFLvHJWhpKCIOKV72TY\n",
       "b+CNTzmrkpLWIiUlB4hyAYYwsJIgJaVVSkoqhL26nKSQ4fnJYEy0cuY3LAsYGrAr5/iJoZz3o+kC\n",
       "ngtoyvsngJSzeH3zxjA9vODqXjS3u6xP2QAyHQ4IxCo0AcMBgSSGrpy47EGpcnYBnMoLAVv+VlZW\n",
       "/JtcAAAAAElFTkSuQmCC\n",
       "\" style=\"display:inline;vertical-align:middle;\" /></a><br>"
      ],
      "text/plain": [
       "<IPython.core.display.HTML object>"
      ]
     },
     "metadata": {},
     "output_type": "display_data"
    }
   ],
   "source": [
    "demo_expr_03 = Add(one, Abs(Add(x, one)))"
   ]
  },
  {
   "cell_type": "markdown",
   "metadata": {},
   "source": [
    "<font size=3>If we know that $x\\in \\mathbb{R}^{+}$, simplification should be able to eliminate the absolute value and commute and combine the known constants:</font>"
   ]
  },
  {
   "cell_type": "code",
   "execution_count": 36,
   "metadata": {},
   "outputs": [
    {
     "data": {
      "text/html": [
       "<span style=\"font-size:20px;\"><a class=\"ProveItLink\" href=\"../../number_sets/real_numbers/__pv_it/theorems/7697fc34c81296f04a039eeb9dd22e91165d63b70/expr.ipynb\"><img src=\"data:image/png;base64,iVBORw0KGgoAAAANSUhEUgAAAEAAAAATBAMAAADSXRa0AAAAMFBMVEX///8AAAAAAAAAAAAAAAAA\n",
       "AAAAAAAAAAAAAAAAAAAAAAAAAAAAAAAAAAAAAAAAAAAv3aB7AAAAD3RSTlMAEHarMolUmd1mIs3v\n",
       "RLtmgJDEAAAACXBIWXMAAA7EAAAOxAGVKw4bAAAA3UlEQVQoz2NgwAcKGAiAB+Qp4Nzz7nfPS3wm\n",
       "8HEZ8Fo+xKsggOGBMwP7u3fn3r3EpaCKG4sJeh0dG+AK+DAV3FZEMsFQGK5ASFkkNAFIc21EsoLl\n",
       "2S64ggImI/YGIM29AKHgdH+TACwkORdwfmSeAFKA5MjIiRvgPBYGdgjHpwMIHkCteDgTyXE8CmBK\n",
       "Dtmb7nwCCAX3FzCCeBzICti94D6Uu2DDwApiMCkgKWB8oAnj5TvWMFwDs7YhFBQwzOS7AOWJK7FV\n",
       "JoBZwm8FYLH5bwHf62+YcXD1RccGDEEANpdAkzJdUSAAAAAASUVORK5CYII=\n",
       "\" style=\"display:inline;vertical-align:middle;\" /></a> <a class=\"ProveItLink\" href=\"../__pv_it/demonstrations/6814ad4cfb3d61dceff04f8f1ba70a737e1958570/proof.ipynb\" style=\"text-decoration: none\">&nbsp;&#x22A2;&nbsp;&nbsp;</a><a class=\"ProveItLink\" href=\"../__pv_it/demonstrations/1462cc78b87275d6cf59782091114404dfa811b50/expr.ipynb\"><img src=\"data:image/png;base64,iVBORw0KGgoAAAANSUhEUgAAAMcAAAAVBAMAAAAA3efRAAAAMFBMVEX///8AAAAAAAAAAAAAAAAA\n",
       "AAAAAAAAAAAAAAAAAAAAAAAAAAAAAAAAAAAAAAAAAAAv3aB7AAAAD3RSTlMAInZUiRDNmWbv3US7\n",
       "qzJazP2FAAAACXBIWXMAAA7EAAAOxAGVKw4bAAACOElEQVRIx52VP2gTURzHv3eX8y5JE4JjcbjW\n",
       "uSVI0dGAbiIcQtulLV0EB4cipYnBIeLQ0cOtOlgQBw+0wS5uTbu6REFouzSDXTq1QrsIbd/7eaH3\n",
       "3v1eaP1BEu697+/7+b0/+R2ACrLBjf0Li5+0jAmktqvMzANjTq6Nr8zwTWMCqSfEp/zxUhApExC7\n",
       "lZlxarDqT3tcklS788Ds0vFlICQTEDzOTE0BN5D7y5Ym1J4sy+5Dii0O8q1fVAJZzhg1gB/AimqS\n",
       "hFDnkYY4AQe5pUHyoQ6JgPch9iqKSRJCffs/INf0Q3HEnu8Cez0OItSLJsijsbn7VR6S62oQr0Y/\n",
       "a6qJO/rr9z1SPzFBFuyf3ioP8eflUzOW8TkpVl6+P6qJh7GgSeoPBohf8Y9LLR7iRNpKCrTkQlc1\n",
       "eYnX4Tap311AvDj+9DaOuwQpw6N6ZcErScF9SPlQg+Tb8vuFZtLDEi3wMA3RDj4fmA6+GHEQv6uZ\n",
       "AG/oRkfG7QI2Km5o2K5V7UxouyZgaVe4eIRJUm8ZIDPtHeQMK/E72kqGRFq5BjtMm7jfSxFqpH5I\n",
       "Xe8oA7m7/xzrGkTKJCS5samuKXZquF5vKibO6XRUrJL6QDyWdk62dcj0qNOoqhCSSUihrXdOsX9r\n",
       "Z2cnion7LLjzCqQuKK1z8D8+afUYzvSuL5xJEkLtL6QHBjfIPqSRgSxzJhfNE5u46kvL6mRGhwa8\n",
       "SqV65soQxtHtGBNIbQXMzLgxx+5hhBm+bkwQ6nMW26aVMMAB6AAAAABJRU5ErkJggg==\n",
       "\" style=\"display:inline;vertical-align:middle;\" /></a></span>"
      ],
      "text/plain": [
       "{x in RealPos} |- (1 + |x + 1|) = (2 + x)"
      ]
     },
     "metadata": {},
     "output_type": "display_data"
    }
   ],
   "source": [
    "demo_expr_03.simplification(assumptions=[InSet(x, RealPos)])"
   ]
  },
  {
   "cell_type": "markdown",
   "metadata": {},
   "source": [
    "## Misc Testing\n",
    "<font size=3>The material below was developed to test various absolute_value methods. Some of this material could be integrated into the `_demonstrations_` page eventually and/or deleted as development continues.</font>"
   ]
  },
  {
   "cell_type": "markdown",
   "metadata": {},
   "source": [
    "### Some Example `Abs` Expressions For Testing"
   ]
  },
  {
   "cell_type": "code",
   "execution_count": 37,
   "metadata": {},
   "outputs": [
    {
     "data": {
      "text/html": [
       "<strong id=\"abs_value_1_plus_2\">abs_value_1_plus_2:</strong> <a class=\"ProveItLink\" href=\"../__pv_it/demonstrations/9da6ee63b3e544b3c139152be255039e61f96c740/expr.ipynb\"><img src=\"data:image/png;base64,iVBORw0KGgoAAAANSUhEUgAAADUAAAAVBAMAAAAUZLt1AAAAMFBMVEX///8AAAAAAAAAAAAAAAAA\n",
       "AAAAAAAAAAAAAAAAAAAAAAAAAAAAAAAAAAAAAAAAAAAv3aB7AAAAD3RSTlMAIolEdjLdEKuZze9m\n",
       "VLvSN3mcAAAACXBIWXMAAA7EAAAOxAGVKw4bAAAAnUlEQVQoz2MQYMABGBkYlHHJMRmA5cIK0LTM\n",
       "XBcAkWPvXI8mJ8fA9Bmmzx8mZwOhGhkYdmPIXYFQ+wsY+gVwyLUxMPQH4JADgnwGnHKsX3DLsTWg\n",
       "yk1LS9udlpYBlpvHgFMfTwNuuUsMjLj8wKrAwFIAldMXQJUTmzlzGtTMjv0rDqDI5f///wtmHxxc\n",
       "wYwjOLDBI8dAvJwrLjmWAAA1szGr/6hdrQAAAABJRU5ErkJggg==\n",
       "\" style=\"display:inline;vertical-align:middle;\" /></a><br>"
      ],
      "text/plain": [
       "<IPython.core.display.HTML object>"
      ]
     },
     "metadata": {},
     "output_type": "display_data"
    }
   ],
   "source": [
    "abs_value_1_plus_2 = Abs(Add(one, two))"
   ]
  },
  {
   "cell_type": "code",
   "execution_count": 38,
   "metadata": {},
   "outputs": [
    {
     "data": {
      "text/html": [
       "<strong id=\"abs_value_a_plus_b\">abs_value_a_plus_b:</strong> <a class=\"ProveItLink\" href=\"../__pv_it/demonstrations/a00f412b29eef517678b05e1e976de5f2cef54060/expr.ipynb\"><img src=\"data:image/png;base64,iVBORw0KGgoAAAANSUhEUgAAADUAAAAVBAMAAAAUZLt1AAAAMFBMVEX///8AAAAAAAAAAAAAAAAA\n",
       "AAAAAAAAAAAAAAAAAAAAAAAAAAAAAAAAAAAAAAAAAAAv3aB7AAAAD3RSTlMAIolEdjKr77sQZpnd\n",
       "VM0QaojEAAAACXBIWXMAAA7EAAAOxAGVKw4bAAAAwUlEQVQoz2MQYMABGBkYlHHJMRlgleNsP4BT\n",
       "joFvA6Yc8wIIzX8BU47XAULbT8AtpwN3C2OSowOq3DOXXKicuQDHTxQ5zn8T5guA5TirGLgPoMjx\n",
       "/mRgdwDLcX9g4FEAinCfOXO85syZBCDrAQO/AliOvYFhvgGKPqBS+wtgufkODOtR3Qn03v4JELkL\n",
       "DHm8AihyAUA3gOU4HHhPc6PoY1vAsQEix5miKuaK6oekXbjDBVscwcIaT/wRI+eKS44lAAD3Oyz+\n",
       "cXbqVAAAAABJRU5ErkJggg==\n",
       "\" style=\"display:inline;vertical-align:middle;\" /></a><br>"
      ],
      "text/plain": [
       "<IPython.core.display.HTML object>"
      ]
     },
     "metadata": {},
     "output_type": "display_data"
    }
   ],
   "source": [
    "abs_value_a_plus_b = Abs(Add(a, b))"
   ]
  },
  {
   "cell_type": "code",
   "execution_count": 39,
   "metadata": {},
   "outputs": [
    {
     "data": {
      "text/html": [
       "<strong id=\"abs_value_a_plus_2\">abs_value_a_plus_2:</strong> <a class=\"ProveItLink\" href=\"../__pv_it/demonstrations/9484f5f7ff34612c5e80af6a2721879f6d73a8070/expr.ipynb\"><img src=\"data:image/png;base64,iVBORw0KGgoAAAANSUhEUgAAADYAAAAVBAMAAAD/UwB2AAAAMFBMVEX///8AAAAAAAAAAAAAAAAA\n",
       "AAAAAAAAAAAAAAAAAAAAAAAAAAAAAAAAAAAAAAAAAAAv3aB7AAAAD3RSTlMAIolEdjKr77sQZpnd\n",
       "VM0QaojEAAAACXBIWXMAAA7EAAAOxAGVKw4bAAAAvklEQVQoz2MQYMAFBBiUccopY5eT3teKS46x\n",
       "gUHfAF3OCkKxCTCwF6DLXYFQ7D8Z2D7ikGM7wMD2FSInpiKCKgcEPB/AcsyFDP0T0OXiHcBy0xcw\n",
       "7MHQdwzih/0MDIdA3D1nzpSfOXMMLMXdAJGrYOD8jK5vGSRcOL8wcH1Ak+NVYBAEy/1lYHtwEVUu\n",
       "iIHBE2xmC8OdDRtQ5BhP7959ACw3zSkwJQBFjuf///8PcIQL1jiyIiL+iJBzxSnnCgBPVjaJI03D\n",
       "wAAAAABJRU5ErkJggg==\n",
       "\" style=\"display:inline;vertical-align:middle;\" /></a><br>"
      ],
      "text/plain": [
       "<IPython.core.display.HTML object>"
      ]
     },
     "metadata": {},
     "output_type": "display_data"
    }
   ],
   "source": [
    "abs_value_a_plus_2 = Abs(Add(a, two))"
   ]
  },
  {
   "cell_type": "code",
   "execution_count": 40,
   "metadata": {},
   "outputs": [
    {
     "data": {
      "text/html": [
       "<strong id=\"abs_value_a_times_b\">abs_value_a_times_b:</strong> <a class=\"ProveItLink\" href=\"../__pv_it/demonstrations/37e71984c583d0e95189e1a5af517ee2962756640/expr.ipynb\"><img src=\"data:image/png;base64,iVBORw0KGgoAAAANSUhEUgAAACoAAAAVBAMAAADCwWEQAAAAMFBMVEX///8AAAAAAAAAAAAAAAAA\n",
       "AAAAAAAAAAAAAAAAAAAAAAAAAAAAAAAAAAAAAAAAAAAv3aB7AAAAD3RSTlMAIolEdjKr77sQZpnd\n",
       "VM0QaojEAAAACXBIWXMAAA7EAAAOxAGVKw4bAAAApklEQVQY02MQYMAEAgzKWESV0UVn1GATZXiN\n",
       "VfQvNlHmn9hEmQ7ARMVUROCifCluF8CizIUM/RNgovNfcn4Ei05fwLAHrvb+BIYSsOh+BoZDYGUP\n",
       "gMQ+BoZPYNEKBs7PIFGeDQwgeea/IFHOLwxcH5Ccy/0TLPqXge3BRZjoV5A1IBNaGO5s2AATzWLo\n",
       "hrh3mlNgSgBMdJr2AmzhgDUkyRB1xSLqCgD8SizOQ7JwAQAAAABJRU5ErkJggg==\n",
       "\" style=\"display:inline;vertical-align:middle;\" /></a><br>"
      ],
      "text/plain": [
       "<IPython.core.display.HTML object>"
      ]
     },
     "metadata": {},
     "output_type": "display_data"
    }
   ],
   "source": [
    "abs_value_a_times_b = Abs(Mult(a, b))"
   ]
  },
  {
   "cell_type": "code",
   "execution_count": 41,
   "metadata": {},
   "outputs": [
    {
     "data": {
      "text/html": [
       "<strong id=\"abs_value_a_div_b\">abs_value_a_div_b:</strong> <a class=\"ProveItLink\" href=\"../__pv_it/demonstrations/8c72df236a921990eed0e29a8fc3784a0468cfa00/expr.ipynb\"><img src=\"data:image/png;base64,iVBORw0KGgoAAAANSUhEUgAAABgAAAAnCAMAAAAihXiyAAAAOVBMVEX///8AAAAAAAAAAAAAAAAA\n",
       "AAAAAAAAAAAAAAAAAAAAAAAAAAAAAAAAAAAAAAAAAAAAAAAAAAAAAAACXHtMAAAAEnRSTlMAme8y\n",
       "+fOvIquJdkS7EGbdVM2TJaUhAAAACXBIWXMAAA7EAAAOxAGVKw4bAAAAvklEQVQoz73T2w7DIAgA\n",
       "UNB24q0q//+xU7PWRmyyl80H03iCgFVAWA4EtQY1wJB1xknwygAEjjNEdbSdk4hAbnOyAlRoYexn\n",
       "iNzSHgwScp2pQDbTVqFG5ISAoipyVhtyWjY4d76tYYN9DfsXh/hz4DH+n3wBr89XDCrd4HWLKPiw\n",
       "Vf+7C/DXZZvApoeqCjlHWULkEutkBOSeQjkBWHplVkC/z/4qeUBfQvk+gPX5SCaguhbw1sd5WSNZ\n",
       "PEaD+g1JSAZWmmHkogAAAABJRU5ErkJggg==\n",
       "\" style=\"display:inline;vertical-align:middle;\" /></a><br>"
      ],
      "text/plain": [
       "<IPython.core.display.HTML object>"
      ]
     },
     "metadata": {},
     "output_type": "display_data"
    }
   ],
   "source": [
    "abs_value_a_div_b = Abs(frac(a,b))"
   ]
  },
  {
   "cell_type": "code",
   "execution_count": 42,
   "metadata": {},
   "outputs": [
    {
     "data": {
      "text/html": [
       "<strong id=\"abs_value_sin_x\">abs_value_sin_x:</strong> <a class=\"ProveItLink\" href=\"../__pv_it/demonstrations/c6dc86fa0053d2938c2e253623f79d3a09735cf40/expr.ipynb\"><img src=\"data:image/png;base64,iVBORw0KGgoAAAANSUhEUgAAADAAAAAVBAMAAADyTXAxAAAAMFBMVEX///8AAAAAAAAAAAAAAAAA\n",
       "AAAAAAAAAAAAAAAAAAAAAAAAAAAAAAAAAAAAAAAAAAAv3aB7AAAAD3RSTlMAIolEdjJmzRC73e+Z\n",
       "VKsux0h9AAAACXBIWXMAAA7EAAAOxAGVKw4bAAAAy0lEQVQoz2MQYMAKBBiUsUsoQyWkE3BI2B/A\n",
       "IcGByygGkiRCUtwZqx+wVh90eQISavFrVboAkuCYwMDFwP6AgestQzzIUwdYnvAsAEkw72BgYeB8\n",
       "wMC5gYEf6Gg2AbYffAlgo9ZPEQBLTGDgd2BgYGXgKYDa0bT+D5IEAwO3A0SCsYEhPwBZwl6AowEk\n",
       "wevAwJeAkOg0eM3ABNbBu4OBUwAoyg6RuB9xmsEWLMGs4qLM+npf6/t9sfP3MTD0uPAeu0BukJAq\n",
       "4YpdwhUAjRc1QIi4wAwAAAAASUVORK5CYII=\n",
       "\" style=\"display:inline;vertical-align:middle;\" /></a><br>"
      ],
      "text/plain": [
       "<IPython.core.display.HTML object>"
      ]
     },
     "metadata": {},
     "output_type": "display_data"
    }
   ],
   "source": [
    "from proveit.trigonometry import Sin\n",
    "abs_value_sin_x = Abs(Sin(x))"
   ]
  },
  {
   "cell_type": "code",
   "execution_count": 43,
   "metadata": {},
   "outputs": [
    {
     "data": {
      "text/html": [
       "<strong id=\"abs_value_cos_x\">abs_value_cos_x:</strong> <a class=\"ProveItLink\" href=\"../__pv_it/demonstrations/434319fa1c51df9854889a678810b9963878b1690/expr.ipynb\"><img src=\"data:image/png;base64,iVBORw0KGgoAAAANSUhEUgAAADMAAAAVBAMAAAAZessyAAAAMFBMVEX///8AAAAAAAAAAAAAAAAA\n",
       "AAAAAAAAAAAAAAAAAAAAAAAAAAAAAAAAAAAAAAAAAAAv3aB7AAAAD3RSTlMAIolEdjIQmVTvzWbd\n",
       "u6sFjbCZAAAACXBIWXMAAA7EAAAOxAGVKw4bAAAA1ElEQVQoz2MQYMAOGBkYlHFIMRkMIql0JQ0G\n",
       "thJ3A4aQLV5AQTaXZ0EaECnGGQyWATECDFfYLjDwAKXYGfwcaiBSXAsYOgUOMTDEB09jYAFKbWTY\n",
       "n/AaIpWvwMDA+oOBgV/h/BVQ2AQwVMHsindgYOD4DJS6kHT+O9gJU2BS+QVQXYUJDPsDgKLMHxnS\n",
       "4HYxNExnYLC3cGDg28DAdplvAoMC1IWzGZgEIgMYFnFMY+AVYOD4mj6BuQHmrxJHBsYiPQNmFRcg\n",
       "j63EoX0H3YPXFYcUSwAAMjAy97fOMFoAAAAASUVORK5CYII=\n",
       "\" style=\"display:inline;vertical-align:middle;\" /></a><br>"
      ],
      "text/plain": [
       "<IPython.core.display.HTML object>"
      ]
     },
     "metadata": {},
     "output_type": "display_data"
    }
   ],
   "source": [
    "from proveit.trigonometry import Cos\n",
    "abs_value_cos_x = Abs(Cos(x))"
   ]
  },
  {
   "cell_type": "code",
   "execution_count": null,
   "metadata": {},
   "outputs": [],
   "source": []
  },
  {
   "cell_type": "markdown",
   "metadata": {},
   "source": [
    "### Testing the `deduce_in_number_set()` method"
   ]
  },
  {
   "cell_type": "code",
   "execution_count": 44,
   "metadata": {},
   "outputs": [
    {
     "data": {
      "text/html": [
       "<span style=\"font-size:20px;\"> <a class=\"ProveItLink\" href=\"../__pv_it/demonstrations/57b36ce9ae7d98fd71771a103d586a5c5978867a0/proof.ipynb\" style=\"text-decoration: none\">&nbsp;&#x22A2;&nbsp;&nbsp;</a><a class=\"ProveItLink\" href=\"../__pv_it/demonstrations/8bbd2920d69ccfd096b3ac43a798b551fb27ce140/expr.ipynb\"><img src=\"data:image/png;base64,iVBORw0KGgoAAAANSUhEUgAAAGAAAAAVBAMAAABLWfZ5AAAAMFBMVEX///8AAAAAAAAAAAAAAAAA\n",
       "AAAAAAAAAAAAAAAAAAAAAAAAAAAAAAAAAAAAAAAAAAAv3aB7AAAAD3RSTlMAIolEdjLdEKuZze9m\n",
       "VLvSN3mcAAAACXBIWXMAAA7EAAAOxAGVKw4bAAABNUlEQVQ4y2MQYMABGHGIK+PSwGSAwuVZ/e5X\n",
       "9huIBtZ0dMNnrgtA18DAx9jA3PMcpKFi1nc0DXIMTJ+xaFBgeBABtoEFpoH5AIRuZGDYjVXDRC5U\n",
       "DbwOEHp/AUO/AEyDX1raArgGPuwa2hgY+gOgGqzckWxor8CuAQjyoU5iXI7kJNa3C3FpYP0C1cAl\n",
       "gNCwKz+lAJcGtgaYBiRP6xxfwICkgTMtLXtbWloDWHYeLOKi04DgAdRJz88w4LCBpwGmoQ45WCP5\n",
       "cDnpEgMjNFjZkDVwBj7AroFVgYGlAKKBxQFJA/sDH7AGpo9oGsRmzpwGi+m1CA0TGM7wGQA1cHT/\n",
       "6kHVkP///y+YhorHBbDU+k+A79VflOSNFHGI5G30DJI0sOUHWOLDlh9IzkDka3DFpYElAKswAGZe\n",
       "Viel10gzAAAAAElFTkSuQmCC\n",
       "\" style=\"display:inline;vertical-align:middle;\" /></a></span>"
      ],
      "text/plain": [
       "|- |1 + 2| in Real"
      ]
     },
     "metadata": {},
     "output_type": "display_data"
    }
   ],
   "source": [
    "abs_value_1_plus_2.deduce_in_number_set(Real)"
   ]
  },
  {
   "cell_type": "code",
   "execution_count": 45,
   "metadata": {},
   "outputs": [
    {
     "data": {
      "text/html": [
       "<span style=\"font-size:20px;\"> <a class=\"ProveItLink\" href=\"../__pv_it/demonstrations/187f5a57b3877c9df654e51bab49ea5bbf2ee4c70/proof.ipynb\" style=\"text-decoration: none\">&nbsp;&#x22A2;&nbsp;&nbsp;</a><a class=\"ProveItLink\" href=\"../__pv_it/demonstrations/e8c0a7db10e5da929941e904bcbbb34adfd420dd0/expr.ipynb\"><img src=\"data:image/png;base64,iVBORw0KGgoAAAANSUhEUgAAAGwAAAAXBAMAAAAcrbf8AAAAMFBMVEX///8AAAAAAAAAAAAAAAAA\n",
       "AAAAAAAAAAAAAAAAAAAAAAAAAAAAAAAAAAAAAAAAAAAv3aB7AAAAD3RSTlMAIolEdjLdEKuZze9m\n",
       "VLvSN3mcAAAACXBIWXMAAA7EAAAOxAGVKw4bAAABS0lEQVQ4y2NgIB1MYCALPABiAVySjHi1KeOS\n",
       "ZDJA4fKsfvcr+w2KtrACNItmrgtA18bAx9jA3PMcoY29cz2aNjkGps9YtCkwPIhg4Hz3bt+7N2Db\n",
       "/GHabCBUIwPDbqzaJnIhOxKu7QqE2l/A0C8A0+aXlrYAro0Pn7Y2Bob+AKg2K3ck29or8GkDgnyo\n",
       "IxmXIzmS9e1C/NpYv0C1cQkgtO3KTymApRLs2tgaYNqQgkTn+AI4D6FtWlra7rS0DLDoPFh0R6cB\n",
       "wQOoI5+fwaINyTaeBpi2OuQIiOQrwKvtEgMjNALYkLVxBj7Ap41VgYGlAKKNxQFJG/sDH2Rt+gKo\n",
       "2sRmzpwGSyVrEdomMJzhM0Bo69i/4gCKtvz//3/BtFU8LoDlgH8CfK/+ItkGB1ewZByjZ2kLMLMV\n",
       "ijYb3PkNnzYGWmtzxSXBEoBHFwBYA2UcYwIdbAAAAABJRU5ErkJggg==\n",
       "\" style=\"display:inline;vertical-align:middle;\" /></a></span>"
      ],
      "text/plain": [
       "|- |1 + 2| in RealPos"
      ]
     },
     "metadata": {},
     "output_type": "display_data"
    }
   ],
   "source": [
    "abs_value_1_plus_2.deduce_in_number_set(RealPos)"
   ]
  },
  {
   "cell_type": "code",
   "execution_count": 46,
   "metadata": {},
   "outputs": [
    {
     "data": {
      "text/html": [
       "<span style=\"font-size:20px;\"><a class=\"ProveItLink\" href=\"../../addition/__pv_it/theorems/a6c5109834da253e63c0a4ff791bacc177a5dc8c0/expr.ipynb\"><img src=\"data:image/png;base64,iVBORw0KGgoAAAANSUhEUgAAAGQAAAAVBAMAAABCslYDAAAAMFBMVEX///8AAAAAAAAAAAAAAAAA\n",
       "AAAAAAAAAAAAAAAAAAAAAAAAAAAAAAAAAAAAAAAAAAAv3aB7AAAAD3RSTlMAInZUiRDNmWbv3US7\n",
       "qzJazP2FAAAACXBIWXMAAA7EAAAOxAGVKw4bAAABq0lEQVQ4y3VTPUjDQBT+0timrWmbQRAEJRWc\n",
       "rFJEnDuLSsDBpdKiiC5CBofiYjcXQceKgwXBQkAoIv5MrYKDuhStzh0E0alLnRx8uaSRq7kHl3d5\n",
       "77573/s5ABr8RWQHAmmB4/yfJTh3ujKSAaZ9TgcfynRXsdc8UcLSj4lg3i9CyKTPWo9RGacIeyYU\n",
       "7q5rVydstrs9kA/VAGImIpx1ytU1ciJiOD8py2JUXlWbcxEzvpBZxs4hcDnmGuuDjt6iJTWTOg/Z\n",
       "HH0B+hr2VuqmJDXenc0GrRtN7XCQ4LeR0xBmdELd/sQzbqYndKAEpcxB5A4iOuQDBumSlky3U0dU\n",
       "vDaiVD5sW9ahZZ3Z5cwjkUG8bR/4tEjqLJcBDxKpI1flotANtTT6WZSsV5t71SOW07HPV4zasmNA\n",
       "ZmyjHuTK7guquCNIGm+yxkFalB/CjE5A/+t+g3GeB1RdrihclFhRpYlRMuxn1QuTWtcWK8AXVex5\n",
       "YXiSL3KzYFNyElx+MrxJPq4Qm2jLr/tMhlx98Whxsxs2/caSSUH0xG5FDqku8mRFDlX4kiVd4EgK\n",
       "7L9BCVjGIG++iQAAAABJRU5ErkJggg==\n",
       "\" style=\"display:inline;vertical-align:middle;\" /></a> <a class=\"ProveItLink\" href=\"../__pv_it/demonstrations/70a6417357a1efdabcf975b1b51430a8b8471d330/proof.ipynb\" style=\"text-decoration: none\">&nbsp;&#x22A2;&nbsp;&nbsp;</a><a class=\"ProveItLink\" href=\"../__pv_it/demonstrations/d7e95babb6a79210dcd10844e53a46d7308a8cce0/expr.ipynb\"><img src=\"data:image/png;base64,iVBORw0KGgoAAAANSUhEUgAAAF8AAAAVBAMAAADSoS/MAAAAMFBMVEX///8AAAAAAAAAAAAAAAAA\n",
       "AAAAAAAAAAAAAAAAAAAAAAAAAAAAAAAAAAAAAAAAAAAv3aB7AAAAD3RSTlMAIolEdjKr77sQZpnd\n",
       "VM0QaojEAAAACXBIWXMAAA7EAAAOxAGVKw4bAAABVElEQVQ4y2MQYMABGHGIK+PSwGSAwl1X0f+m\n",
       "YgEODZztBzA0MDSIMZitmIDDBr4NWDQIMXCwJqBpsILS/BewauAWeICm4QqUtp+A0OBx5swDuIYG\n",
       "HBp0EJ6280TYwDYT4iTGJEcHVA3PXHKhGhhfIjkp4p4AWIO5AMdPFA2c/ybMF4Bo4IPHU4P4mz+e\n",
       "4GDlrGLgPoCigfcnA7sDVAOSp1fNg0Qc9wcGHgUga8+ZM+VnzhwDsrgfMPArQDSEnwGCBogGjlmQ\n",
       "iGNvYJhvgGIDUL/9BYiGGUg2sG7oBGuY78CwHjWUgNGwfwJEAw9yPGyVgGi4wJDHK4CiIQDoL4gG\n",
       "FgckDTNYFoA0cDjwnuZGsYFtAccGWDy8hWuQZuBa0AwOpRRVMVfUYE3aBY+4ac0TYKm1kaHj/QXs\n",
       "MY2cvI16IEkDa36wwp0fSM5A5GtwxaWBJQCrMAD2pV8nA6ERNQAAAABJRU5ErkJggg==\n",
       "\" style=\"display:inline;vertical-align:middle;\" /></a></span>"
      ],
      "text/plain": [
       "{(a + b) in Complex} |- |a + b| in Real"
      ]
     },
     "metadata": {},
     "output_type": "display_data"
    }
   ],
   "source": [
    "# Abs(x) is real when x is complex\n",
    "abs_value_a_plus_b.deduce_in_number_set(\n",
    "    Real, assumptions=[InSet(Add(a,b), Complex)])"
   ]
  },
  {
   "cell_type": "code",
   "execution_count": 47,
   "metadata": {},
   "outputs": [
    {
     "data": {
      "text/html": [
       "<span style=\"font-size:20px;\"><a class=\"ProveItLink\" href=\"../../ordering/__pv_it/theorems/4aa8d696b1f407d6126de9f51a052e8d90e0848c0/expr.ipynb\"><img src=\"data:image/png;base64,iVBORw0KGgoAAAANSUhEUgAAADMAAAAQBAMAAABJt1qBAAAAMFBMVEX///8AAAAAAAAAAAAAAAAA\n",
       "AAAAAAAAAAAAAAAAAAAAAAAAAAAAAAAAAAAAAAAAAAAv3aB7AAAAD3RSTlMAIquJdkTvuxBmmd1U\n",
       "zTKBpmoTAAAACXBIWXMAAA7EAAAOxAGVKw4bAAAAzElEQVQY02NgwABz0+tvp09gwAoKhBiCpjdg\n",
       "lxJmYOdTwCXFJXABRch99+4LcKkCZJlYD4Qupg6QgYzKjg4gAcYbSAY+PysAZIQJsP8ACfAKwKXE\n",
       "bv8GmcCRycC1ASyF5IyZvSCa6wMDtwGI8Ww3EBRApNg7QV5mK2DoDwAJtCPp4ltQAaT7HRjmgwW4\n",
       "kf21ThwkdYBBlwfkAhYHJKl2FqCJ7A48u7jAInfgUlIMnBNKgS5UsRPyA4s0lTbAQr6Qofz+AeTg\n",
       "CK7ejRxyAISENKeL/c93AAAAAElFTkSuQmCC\n",
       "\" style=\"display:inline;vertical-align:middle;\" /></a>, <a class=\"ProveItLink\" href=\"../__pv_it/demonstrations/338bea1169aca2a51c9e3cdb908726f9096b30730/expr.ipynb\"><img src=\"data:image/png;base64,iVBORw0KGgoAAAANSUhEUgAAAD0AAAATBAMAAADR6hicAAAAMFBMVEX///8AAAAAAAAAAAAAAAAA\n",
       "AAAAAAAAAAAAAAAAAAAAAAAAAAAAAAAAAAAAAAAAAAAv3aB7AAAAD3RSTlMAELvv3c2ZVESJq3Yi\n",
       "MmZ3LnoBAAAACXBIWXMAAA7EAAAOxAGVKw4bAAAA+ElEQVQoz2NgwA3YGPADJrLkRT6pCjBM/twA\n",
       "lWdUdkBToM6xgIHxA1w/awKa/JID8xgYDBiSlJSVlB4wMPAXoMkvV2A9wOAA198vABXf5OISAKLX\n",
       "vOYJQJKfApVu3QhlrOG6sBNJPmr3chDFEwgzfw2DAlMDXJ7xq4D8AZAzDyDkrzE6OsDCj/0jA/MG\n",
       "kDwDQp6voMgAHsgBDPwTgPRlFyBQgMgzLOSCy7NMYOgH+VAIST+DFCM80IDezwf5kAVZnneDAlz+\n",
       "AqMdiObeABPRBeK9cHmuB0yQAA6HiYRDXAUFjCvzIAwpDUhAXv0M1MsYgBmxnSoumKIAyg80ctEW\n",
       "W0oAAAAASUVORK5CYII=\n",
       "\" style=\"display:inline;vertical-align:middle;\" /></a> <a class=\"ProveItLink\" href=\"../__pv_it/demonstrations/b29b6b4078ea063dfb5f3e51887d169c7b3073be0/proof.ipynb\" style=\"text-decoration: none\">&nbsp;&#x22A2;&nbsp;&nbsp;</a><a class=\"ProveItLink\" href=\"../__pv_it/demonstrations/d7e95babb6a79210dcd10844e53a46d7308a8cce0/expr.ipynb\"><img src=\"data:image/png;base64,iVBORw0KGgoAAAANSUhEUgAAAF8AAAAVBAMAAADSoS/MAAAAMFBMVEX///8AAAAAAAAAAAAAAAAA\n",
       "AAAAAAAAAAAAAAAAAAAAAAAAAAAAAAAAAAAAAAAAAAAv3aB7AAAAD3RSTlMAIolEdjKr77sQZpnd\n",
       "VM0QaojEAAAACXBIWXMAAA7EAAAOxAGVKw4bAAABVElEQVQ4y2MQYMABGHGIK+PSwGSAwl1X0f+m\n",
       "YgEODZztBzA0MDSIMZitmIDDBr4NWDQIMXCwJqBpsILS/BewauAWeICm4QqUtp+A0OBx5swDuIYG\n",
       "HBp0EJ6280TYwDYT4iTGJEcHVA3PXHKhGhhfIjkp4p4AWIO5AMdPFA2c/ybMF4Bo4IPHU4P4mz+e\n",
       "4GDlrGLgPoCigfcnA7sDVAOSp1fNg0Qc9wcGHgUga8+ZM+VnzhwDsrgfMPArQDSEnwGCBogGjlmQ\n",
       "iGNvYJhvgGIDUL/9BYiGGUg2sG7oBGuY78CwHjWUgNGwfwJEAw9yPGyVgGi4wJDHK4CiIQDoL4gG\n",
       "FgckDTNYFoA0cDjwnuZGsYFtAccGWDy8hWuQZuBa0AwOpRRVMVfUYE3aBY+4ac0TYKm1kaHj/QXs\n",
       "MY2cvI16IEkDa36wwp0fSM5A5GtwxaWBJQCrMAD2pV8nA6ERNQAAAABJRU5ErkJggg==\n",
       "\" style=\"display:inline;vertical-align:middle;\" /></a></span>"
      ],
      "text/plain": [
       "{a in Real, b in NaturalPos} |- |a + b| in Real"
      ]
     },
     "metadata": {},
     "output_type": "display_data"
    }
   ],
   "source": [
    "# Abs(a+b) is real if a is real and b a positive natural, etc\n",
    "abs_value_a_plus_b.deduce_in_number_set(\n",
    "    Real, assumptions=[InSet(a, Real), InSet(b, NaturalPos)])"
   ]
  },
  {
   "cell_type": "code",
   "execution_count": 48,
   "metadata": {},
   "outputs": [
    {
     "data": {
      "text/html": [
       "<span style=\"font-size:20px;\"><a class=\"ProveItLink\" href=\"../../ordering/__pv_it/theorems/4aa8d696b1f407d6126de9f51a052e8d90e0848c0/expr.ipynb\"><img src=\"data:image/png;base64,iVBORw0KGgoAAAANSUhEUgAAADMAAAAQBAMAAABJt1qBAAAAMFBMVEX///8AAAAAAAAAAAAAAAAA\n",
       "AAAAAAAAAAAAAAAAAAAAAAAAAAAAAAAAAAAAAAAAAAAv3aB7AAAAD3RSTlMAIquJdkTvuxBmmd1U\n",
       "zTKBpmoTAAAACXBIWXMAAA7EAAAOxAGVKw4bAAAAzElEQVQY02NgwABz0+tvp09gwAoKhBiCpjdg\n",
       "lxJmYOdTwCXFJXABRch99+4LcKkCZJlYD4Qupg6QgYzKjg4gAcYbSAY+PysAZIQJsP8ACfAKwKXE\n",
       "bv8GmcCRycC1ASyF5IyZvSCa6wMDtwGI8Ww3EBRApNg7QV5mK2DoDwAJtCPp4ltQAaT7HRjmgwW4\n",
       "kf21ThwkdYBBlwfkAhYHJKl2FqCJ7A48u7jAInfgUlIMnBNKgS5UsRPyA4s0lTbAQr6Qofz+AeTg\n",
       "CK7ejRxyAISENKeL/c93AAAAAElFTkSuQmCC\n",
       "\" style=\"display:inline;vertical-align:middle;\" /></a> <a class=\"ProveItLink\" href=\"../__pv_it/demonstrations/0e4774d42153635972a15b9760406c5da9dea1eb0/proof.ipynb\" style=\"text-decoration: none\">&nbsp;&#x22A2;&nbsp;&nbsp;</a><a class=\"ProveItLink\" href=\"../__pv_it/demonstrations/4f82ddcfcd134098ca9ce6156bba8eaaa45f49a20/expr.ipynb\"><img src=\"data:image/png;base64,iVBORw0KGgoAAAANSUhEUgAAAGEAAAAVBAMAAACkm51HAAAAMFBMVEX///8AAAAAAAAAAAAAAAAA\n",
       "AAAAAAAAAAAAAAAAAAAAAAAAAAAAAAAAAAAAAAAAAAAv3aB7AAAAD3RSTlMAIolEdjKr77sQZpnd\n",
       "VM0QaojEAAAACXBIWXMAAA7EAAAOxAGVKw4bAAABXklEQVQ4y2MQYMAFGHGIK+PUwWSAwl1X0f+m\n",
       "YgEuHYy7XwSg62BoEGMwWzEBhw4JBqbPmDqEGDhYE9B0MC+A0IkMDOXYdHALPEDTwesAoesnMOQL\n",
       "QHWw9Jw5h9DRgENHDgNDfgBEB/OTCQg72GZCXMWY5OiAqgMIzkNdJTcByVUR9wTAOswFOH6i62D9\n",
       "AtXxEOEP8Td/PMGhy1nFwH0AXQdPAlTHAySfr5oHiUHuDww8CkAW95kzx2vOnEkAS++AxiArUOTM\n",
       "CagOjlmQGGRvYJhvgGYHVwJUB2cDkh2sGzrBOuY7MKxHCyuGSwyM0NA9gBwfWyUgOi4w5PEKoOhg\n",
       "VWBgmQDR4YKsYwbLApAODgfe09yodsjs3r0H6nO+C3Ad0gxcC5rBYZWiKuaKquP8////oDo4Myzh\n",
       "abeRoeP9BexxjpzamTWgqQRr/oClRGz5g/QcRYEOV5w6WAKwCgMAiUhaz8g21f4AAAAASUVORK5C\n",
       "YII=\n",
       "\" style=\"display:inline;vertical-align:middle;\" /></a></span>"
      ],
      "text/plain": [
       "{a in Real} |- |a + 2| in Real"
      ]
     },
     "metadata": {},
     "output_type": "display_data"
    }
   ],
   "source": [
    "# Abs(a+2) is real if a is real\n",
    "abs_value_a_plus_2.deduce_in_number_set(\n",
    "    Real, assumptions=[InSet(a, Real)])"
   ]
  },
  {
   "cell_type": "code",
   "execution_count": 49,
   "metadata": {},
   "outputs": [
    {
     "data": {
      "text/html": [
       "<span style=\"font-size:20px;\"><a class=\"ProveItLink\" href=\"../__pv_it/theorems/e9f87a0977d5044ea8daf1040d2f219396bb3d5b0/expr.ipynb\"><img src=\"data:image/png;base64,iVBORw0KGgoAAAANSUhEUgAAADMAAAAQBAMAAABJt1qBAAAAMFBMVEX///8AAAAAAAAAAAAAAAAA\n",
       "AAAAAAAAAAAAAAAAAAAAAAAAAAAAAAAAAAAAAAAAAAAv3aB7AAAAD3RSTlMAIquJdkTvuxBmmd1U\n",
       "zTKBpmoTAAAACXBIWXMAAA7EAAAOxAGVKw4bAAAA0ElEQVQY02NgwAKaq+86PsYmwcCiNoFjfRVW\n",
       "qSXBDAycWKX4FlQASS0UMffduy8AKaaGAiDZiSwT6wGh2RkXQEUYlR0dwPQNqIAQnwGUFSbA/gNE\n",
       "8wpABR6zToAwODIZuDaApWAGS7E6QBhcHxi4wQY82w0EBWC7oAayFTD0B4AY7TBd7GAXAkG/A8N8\n",
       "MIMbJsUK9hcrUOoAgy4PyAUsDvDQCAISa4HaHXh2cYFF7sDDsHYhx2mg3zhU7IT8wCJNpQ2wkC/7\n",
       "vRA18IKrwQEFAwCqvi28/xxvKQAAAABJRU5ErkJggg==\n",
       "\" style=\"display:inline;vertical-align:middle;\" /></a>, <a class=\"ProveItLink\" href=\"../__pv_it/theorems/a259ec76dfb0a5be60b7c83d797520fa82c1dba60/expr.ipynb\"><img src=\"data:image/png;base64,iVBORw0KGgoAAAANSUhEUgAAADEAAAAQBAMAAABNQoq8AAAAMFBMVEX///8AAAAAAAAAAAAAAAAA\n",
       "AAAAAAAAAAAAAAAAAAAAAAAAAAAAAAAAAAAAAAAAAAAv3aB7AAAAD3RSTlMAELvv3c2ZVESJq3Yi\n",
       "MmZ3LnoBAAAACXBIWXMAAA7EAAAOxAGVKw4bAAAA2UlEQVQY02NgwASSKqF7bjIwMCo7oElwL37A\n",
       "mK8GZLAmoMlkdzIw8IFk+AtQJXgTFIHkMiDuF4AKbXJxCQBSXAIKQFIOiKdAJVo3QmgmHpjxUbuX\n",
       "gyieQCj/FO8ECIPxq4D8AZBDDkBlbnI8gDDYPzIwbwDJwFxwjGMDhMEWwMAP0n7ZBQgUwPZATWOZ\n",
       "wNAPcrcQTA8T2G0Q7+SD3M0Ck+EA+4cDKHOB0Q4cJhvgYdAFJFKBHnvABHF/ODzcVHMYS4BijCvz\n",
       "IAJSGrDAkFT+koMSYJ0q4NCBAQD6uylQEVfDpgAAAABJRU5ErkJggg==\n",
       "\" style=\"display:inline;vertical-align:middle;\" /></a>, <a class=\"ProveItLink\" href=\"../__pv_it/demonstrations/0bf288f776388558e13fc2105fec0159587992fa0/expr.ipynb\"><img src=\"data:image/png;base64,iVBORw0KGgoAAAANSUhEUgAAAGEAAAAVCAMAAABha3BGAAAAPFBMVEX///8AAAAAAAAAAAAAAAAA\n",
       "AAAAAAAAAAAAAAAAAAAAAAAAAAAAAAAAAAAAAAAAAAAAAAAAAAAAAAAAAAAo1xBWAAAAE3RSTlMA\n",
       "InZUiRDNmWbv3US7qzLn9enz+YF6hwAAAAlwSFlzAAAOxAAADsQBlSsOGwAAAY1JREFUSMeVVeu6\n",
       "rCAINYW8u8/Zvv+7bsScrGmY8kdfGbDWAkSlaC3q2Xpqr7R56BD1hx8WL7cN3AyMyYeNk7s0KGn+\n",
       "AtCW1eJ6n/xqx8sl2VRmW8oMhgZhnZCO07868unslYQ8fTiWC02VFzibY8JjfVH3FyLS3AGJ4Qx5\n",
       "mPU+AoQ9B+/KYz7IZZWFVNtR5yWDXrSIsGatc08U5PcizRJwILgXmejJIFUUELBSgbFyILdLt4HX\n",
       "z7/2HMBLhY6gVeic0Ds2ljQYxve8Z7woYUcA5WMnUtszwJGY92EiZpn3cD1X4dhd2M0iadgQfOLt\n",
       "KGlg/Ng7NnpRwqi0IeueJawtlqtiL3Fs20tlwrEO/3/DLJdKyufbkXXSHaF551WZRUAoo17kmk4S\n",
       "zufD+ZHYre0akAlWWUFDpuBpM7DHYWbez3hLDnoiVbpczBrKknWRujXDa8SEKEsgaws6c7hQbp/p\n",
       "qRnDg/F8OcQ+TL69uu6bhI8D6+Yld6yzg28Xy2OEE6mA3xjpp9fuSXWRjP8AD8ELp2KABKkAAAAA\n",
       "SUVORK5CYII=\n",
       "\" style=\"display:inline;vertical-align:middle;\" /></a> <a class=\"ProveItLink\" href=\"../__pv_it/demonstrations/bb8a7e35d74864ac6762d568be99546ef6a1a7f00/proof.ipynb\" style=\"text-decoration: none\">&nbsp;&#x22A2;&nbsp;&nbsp;</a><a class=\"ProveItLink\" href=\"../__pv_it/demonstrations/fafc93e43469634550597ec99cf1f3f5f71eafc40/expr.ipynb\"><img src=\"data:image/png;base64,iVBORw0KGgoAAAANSUhEUgAAAGsAAAAXBAMAAAD+cayFAAAAMFBMVEX///8AAAAAAAAAAAAAAAAA\n",
       "AAAAAAAAAAAAAAAAAAAAAAAAAAAAAAAAAAAAAAAAAAAv3aB7AAAAD3RSTlMAIolEdjKr77sQZpnd\n",
       "VM0QaojEAAAACXBIWXMAAA7EAAAOxAGVKw4bAAABcklEQVQ4y2NgIBlwM5AFOECEAC5ZRrzalHHJ\n",
       "MhmgcNdV9L+pWIBXG2f7AQxtDA1iDGYrJuC1jW8DFm1CDBysCQw7Oto7OhagamNeAKH5L2DVxi3w\n",
       "AKttvA4Q2n4CQpvHmTMP4Noa8GrTQQSJnSfCNraZCUjaGJMcHVC1PXPJhWpjfInkyIh7AkjazAU4\n",
       "fqJo4/w3Yb4ARBsfPF4bxN/88YSnEmUGzioG7gMo2nh/MrA7QLUhBcmqeQjvKDNwf2DgUQCZcubM\n",
       "8ZozZ4DO537AwK8A0RZ+BggaINo4Zi1A0sbewDDfAMU2oCn2FyDaZiDZxrqhE0nbfAeG9aghCYy2\n",
       "/RMg2niQ422rBLK2Cwx5vAIo2gKA/oVoY3FA0jaDZQFCG4cD72luFNvYFnBsgMXbW7g2aQauBc0I\n",
       "bZwpqmKuqBGQtAse3dOaJ8ByQCNDx/sLcG1YUglyxjHqgSQuVIA1KWPJb/i04cmm1NHmikuCJQCP\n",
       "LgCpal2u9cf0HQAAAABJRU5ErkJggg==\n",
       "\" style=\"display:inline;vertical-align:middle;\" /></a></span>"
      ],
      "text/plain": [
       "{a in Complex, b in Complex, (a + b) != 0} |- |a + b| in RealPos"
      ]
     },
     "metadata": {},
     "output_type": "display_data"
    }
   ],
   "source": [
    "abs_value_a_plus_b.deduce_in_number_set(RealPos,\n",
    "    assumptions=[InSet(a, Complex),\n",
    "                 InSet(b, Complex),\n",
    "                 NotEquals(Add(a,b), zero)])"
   ]
  },
  {
   "cell_type": "code",
   "execution_count": 50,
   "metadata": {},
   "outputs": [
    {
     "data": {
      "text/html": [
       "<span style=\"font-size:20px;\"> <a class=\"ProveItLink\" href=\"../__pv_it/demonstrations/a7eedbde342c90606b52cfb549afe3c6938ef8970/proof.ipynb\" style=\"text-decoration: none\">&nbsp;&#x22A2;&nbsp;&nbsp;</a><a class=\"ProveItLink\" href=\"../__pv_it/demonstrations/2dc04fdf243b8207f8c4af88e8762baffc5566b70/expr.ipynb\"><img src=\"data:image/png;base64,iVBORw0KGgoAAAANSUhEUgAAAHUAAAAYBAMAAAA2QK8LAAAAMFBMVEX///8AAAAAAAAAAAAAAAAA\n",
       "AAAAAAAAAAAAAAAAAAAAAAAAAAAAAAAAAAAAAAAAAAAv3aB7AAAAD3RSTlMAIolEdjLdEKuZze9m\n",
       "VLvSN3mcAAAACXBIWXMAAA7EAAAOxAGVKw4bAAABmElEQVQ4y2NgIBGwPgZTTCoKDKSDorcg8giD\n",
       "HRl6GVjeAImtDPwCDAK4lDDi1MzzhIHxOwP3BQZlXCqYDFA1rH73K/sNlL2R9TsD2wGQXtZ0dCtn\n",
       "rgtA18vAx9jA3PMcxGLXMwDq5XYA6q2Y9R1NrxwD02csehUYHkSATJ4RAHIzP9jNLDC9zAcgdCMD\n",
       "w26seidyAbV2BMDCClkvrwOE3l/A0C8A0+uXlrYArpePgb0THLouDBYMWPW2MTD0B0D1Wrkj2dte\n",
       "wcBeAE0b07HrBYJ8qJsZlyO5mfXtQhRvYNfL+gWql0sAoXdXfkoBEXrZGmB6kcJK5zjQ46zvgOAh\n",
       "ml7OtLTsbWlpDWDRebC0EZ0GBA+gbn5+hoGwvTwNML11yHEUyUeEmy8xMELjiA1ZL2fgA4J6WRUY\n",
       "WAogelkckPSyP/BB18v0EU2v2MyZ02Dpai1C7wSGM3wGqHo5un/1oOrN////F0xvxeMCWD76J8D3\n",
       "6i+avXCAlDYQedDoGSRNYgHIemF5AVv+JaQXX96ntl5XnEVaACGtANImbcMZR95EAAAAAElFTkSu\n",
       "QmCC\n",
       "\" style=\"display:inline;vertical-align:middle;\" /></a></span>"
      ],
      "text/plain": [
       "|- |1 + 2| in RealNonNeg"
      ]
     },
     "metadata": {},
     "output_type": "display_data"
    }
   ],
   "source": [
    "abs_value_1_plus_2.deduce_in_number_set(RealNonNeg)"
   ]
  },
  {
   "cell_type": "code",
   "execution_count": 51,
   "metadata": {},
   "outputs": [
    {
     "data": {
      "text/html": [
       "<span style=\"font-size:20px;\"><a class=\"ProveItLink\" href=\"../__pv_it/theorems/e9f87a0977d5044ea8daf1040d2f219396bb3d5b0/expr.ipynb\"><img src=\"data:image/png;base64,iVBORw0KGgoAAAANSUhEUgAAADMAAAAQBAMAAABJt1qBAAAAMFBMVEX///8AAAAAAAAAAAAAAAAA\n",
       "AAAAAAAAAAAAAAAAAAAAAAAAAAAAAAAAAAAAAAAAAAAv3aB7AAAAD3RSTlMAIquJdkTvuxBmmd1U\n",
       "zTKBpmoTAAAACXBIWXMAAA7EAAAOxAGVKw4bAAAA0ElEQVQY02NgwAKaq+86PsYmwcCiNoFjfRVW\n",
       "qSXBDAycWKX4FlQASS0UMffduy8AKaaGAiDZiSwT6wGh2RkXQEUYlR0dwPQNqIAQnwGUFSbA/gNE\n",
       "8wpABR6zToAwODIZuDaApWAGS7E6QBhcHxi4wQY82w0EBWC7oAayFTD0B4AY7TBd7GAXAkG/A8N8\n",
       "MIMbJsUK9hcrUOoAgy4PyAUsDvDQCAISa4HaHXh2cYFF7sDDsHYhx2mg3zhU7IT8wCJNpQ2wkC/7\n",
       "vRA18IKrwQEFAwCqvi28/xxvKQAAAABJRU5ErkJggg==\n",
       "\" style=\"display:inline;vertical-align:middle;\" /></a>, <a class=\"ProveItLink\" href=\"../__pv_it/theorems/a259ec76dfb0a5be60b7c83d797520fa82c1dba60/expr.ipynb\"><img src=\"data:image/png;base64,iVBORw0KGgoAAAANSUhEUgAAADEAAAAQBAMAAABNQoq8AAAAMFBMVEX///8AAAAAAAAAAAAAAAAA\n",
       "AAAAAAAAAAAAAAAAAAAAAAAAAAAAAAAAAAAAAAAAAAAv3aB7AAAAD3RSTlMAELvv3c2ZVESJq3Yi\n",
       "MmZ3LnoBAAAACXBIWXMAAA7EAAAOxAGVKw4bAAAA2UlEQVQY02NgwASSKqF7bjIwMCo7oElwL37A\n",
       "mK8GZLAmoMlkdzIw8IFk+AtQJXgTFIHkMiDuF4AKbXJxCQBSXAIKQFIOiKdAJVo3QmgmHpjxUbuX\n",
       "gyieQCj/FO8ECIPxq4D8AZBDDkBlbnI8gDDYPzIwbwDJwFxwjGMDhMEWwMAP0n7ZBQgUwPZATWOZ\n",
       "wNAPcrcQTA8T2G0Q7+SD3M0Ck+EA+4cDKHOB0Q4cJhvgYdAFJFKBHnvABHF/ODzcVHMYS4BijCvz\n",
       "IAJSGrDAkFT+koMSYJ0q4NCBAQD6uylQEVfDpgAAAABJRU5ErkJggg==\n",
       "\" style=\"display:inline;vertical-align:middle;\" /></a> <a class=\"ProveItLink\" href=\"../__pv_it/demonstrations/cf129d5fbc6e4defbb105dd6fe87d2c6fc1a1dfa0/proof.ipynb\" style=\"text-decoration: none\">&nbsp;&#x22A2;&nbsp;&nbsp;</a><a class=\"ProveItLink\" href=\"../__pv_it/demonstrations/d36c4f0e6920af3c220c1cc260d317a5dc40cf610/expr.ipynb\"><img src=\"data:image/png;base64,iVBORw0KGgoAAAANSUhEUgAAAHQAAAAYBAMAAADZgsQ1AAAAMFBMVEX///8AAAAAAAAAAAAAAAAA\n",
       "AAAAAAAAAAAAAAAAAAAAAAAAAAAAAAAAAAAAAAAAAAAv3aB7AAAAD3RSTlMAIolEdjKr77sQZpnd\n",
       "VM0QaojEAAAACXBIWXMAAA7EAAAOxAGVKw4bAAABuklEQVQ4y2NgIBFEGIApJScGkgGnxgUgyeXA\n",
       "3EC6XgaPBQwM7AEMHxkEcKlgxKl3hQOD/ASGWgZlXAqYDFC46yr631QsgLCXC8RPYDiFVStn+wEM\n",
       "rQwNYgxmKyaAWJOaGYBaS7DbyrcBi1YhBg7WBCBDOpUB5OC/qFqtoDT/BaxauQUeMDCIAXVCgglF\n",
       "6xUobT8BodXjzJkHcK0NDNM2gjgsDswJ2LXqIILJzhNhK9vMBIaZEJ6S9wSQVsYkRwdUrc9ccqFa\n",
       "GV8iOTjiHkpUArWaC3D8RNHK+W/CfAGIVj644gbxN388GVC1clYxcB9A0cr7k4HdAaoVKZhWzQOl\n",
       "4Q4gEIBq5f7AwKMAZO05c6b8zJljQBb3AwZ+BYjW8DNA0ADRyjFrAZqt7A0M8w1QbAWaZH8BonUG\n",
       "kq2sGzrRtM53YFiPGsLAaN0/AaKVBzlet0qga73AkMcrgKI1AOh/iFYWByStM1gWoGrlcOA9zY1i\n",
       "K9sCjg2weH0L1yrNwLWgGS2EU1TFXFEjJ2kXPElMa54AyzmNDB3vL6DGK2ZqQs50Rj2QhIgJsCZ/\n",
       "LPmVkFYGeml1xSXBEkBAJwADVHUIRXxy/gAAAABJRU5ErkJggg==\n",
       "\" style=\"display:inline;vertical-align:middle;\" /></a></span>"
      ],
      "text/plain": [
       "{a in Complex, b in Complex} |- |a + b| in RealNonNeg"
      ]
     },
     "metadata": {},
     "output_type": "display_data"
    }
   ],
   "source": [
    "abs_value_a_plus_b.deduce_in_number_set(RealNonNeg,\n",
    "    assumptions=[InSet(a, Complex), InSet(b, Complex)])"
   ]
  },
  {
   "cell_type": "code",
   "execution_count": 52,
   "metadata": {},
   "outputs": [
    {
     "name": "stdout",
     "output_type": "stream",
     "text": [
      "Expected Exception:  Proof step failed assuming {(a + b) in Complex}:\n",
      "Attempting to instantiate |- forall_{a in Real | a < 0} (a in RealNeg) with {a: |a + b|}:\n",
      "Unsatisfied condition: |a + b| < 0. For debugging purposes, this is accessible via Instantiation.unsatisfied_condition with applicable assumptions in Instantiation.condition_assumptions.\n"
     ]
    }
   ],
   "source": [
    "# what happens if we try to deduce into an incorrect set?\n",
    "try:\n",
    "    abs_value_a_plus_b.deduce_in_number_set(RealNeg,\n",
    "        assumptions=[InSet(Add(a,b), Complex)])\n",
    "    assert False\n",
    "except Exception as _e:\n",
    "    print(\"Expected Exception: \", _e)"
   ]
  },
  {
   "cell_type": "code",
   "execution_count": 53,
   "metadata": {},
   "outputs": [
    {
     "data": {
      "text/html": [
       "<span style=\"font-size:20px;\"><a class=\"ProveItLink\" href=\"../../addition/__pv_it/theorems/a6c5109834da253e63c0a4ff791bacc177a5dc8c0/expr.ipynb\"><img src=\"data:image/png;base64,iVBORw0KGgoAAAANSUhEUgAAAGQAAAAVBAMAAABCslYDAAAAMFBMVEX///8AAAAAAAAAAAAAAAAA\n",
       "AAAAAAAAAAAAAAAAAAAAAAAAAAAAAAAAAAAAAAAAAAAv3aB7AAAAD3RSTlMAInZUiRDNmWbv3US7\n",
       "qzJazP2FAAAACXBIWXMAAA7EAAAOxAGVKw4bAAABq0lEQVQ4y3VTPUjDQBT+0timrWmbQRAEJRWc\n",
       "rFJEnDuLSsDBpdKiiC5CBofiYjcXQceKgwXBQkAoIv5MrYKDuhStzh0E0alLnRx8uaSRq7kHl3d5\n",
       "77573/s5ABr8RWQHAmmB4/yfJTh3ujKSAaZ9TgcfynRXsdc8UcLSj4lg3i9CyKTPWo9RGacIeyYU\n",
       "7q5rVydstrs9kA/VAGImIpx1ytU1ciJiOD8py2JUXlWbcxEzvpBZxs4hcDnmGuuDjt6iJTWTOg/Z\n",
       "HH0B+hr2VuqmJDXenc0GrRtN7XCQ4LeR0xBmdELd/sQzbqYndKAEpcxB5A4iOuQDBumSlky3U0dU\n",
       "vDaiVD5sW9ahZZ3Z5cwjkUG8bR/4tEjqLJcBDxKpI1flotANtTT6WZSsV5t71SOW07HPV4zasmNA\n",
       "ZmyjHuTK7guquCNIGm+yxkFalB/CjE5A/+t+g3GeB1RdrihclFhRpYlRMuxn1QuTWtcWK8AXVex5\n",
       "YXiSL3KzYFNyElx+MrxJPq4Qm2jLr/tMhlx98Whxsxs2/caSSUH0xG5FDqku8mRFDlX4kiVd4EgK\n",
       "7L9BCVjGIG++iQAAAABJRU5ErkJggg==\n",
       "\" style=\"display:inline;vertical-align:middle;\" /></a> <a class=\"ProveItLink\" href=\"../__pv_it/demonstrations/ee4ece8fcbd19d87141be9322827e2b30e1279020/proof.ipynb\" style=\"text-decoration: none\">&nbsp;&#x22A2;&nbsp;&nbsp;</a><a class=\"ProveItLink\" href=\"../__pv_it/demonstrations/3ff525b12d2538bd0feab4af8292e545ac7b489e0/expr.ipynb\"><img src=\"data:image/png;base64,iVBORw0KGgoAAAANSUhEUgAAAF8AAAAVBAMAAADSoS/MAAAAMFBMVEX///8AAAAAAAAAAAAAAAAA\n",
       "AAAAAAAAAAAAAAAAAAAAAAAAAAAAAAAAAAAAAAAAAAAv3aB7AAAAD3RSTlMAIolEdjKr77sQZpnd\n",
       "VM0QaojEAAAACXBIWXMAAA7EAAAOxAGVKw4bAAABV0lEQVQ4y2MQYMABGHGIK+PSwGSAJjCp551j\n",
       "EHYNnO0HMDWwpC/g3N+Nwwa+DZgathgxMHCha7CC0vwXMDSwbugEktloGq5AafsJCA0eZ848AFJs\n",
       "ExqA5CwcGnQQnrbzhAhxMG6AhxJjkqMDqoZnLrlQDYwvoUJirApwDeYCHD9RNHD+mzBfAKKBDxZP\n",
       "QcwLYBo4qxi4D6Bo4P3JwO4A1QBzrTSzA0wD9wcGHpB1e86cKT9z5hiQxf2AgV8BoiH8DBA0gP0A\n",
       "dxJ7A8N8AxQbgPrtL0A0zIDZwAEOJbCG+Q4M61FDCRgN+ydANPDANDCD44EZrOECQx6vAIqGAKC/\n",
       "IBpYHOAxbQYk9oE0cDjwnuZGsYFtAccGWDy8haelvo2cdzaAQylFVcwVNViTdsEjblrzBFhqbf+z\n",
       "kQFHTCMnb6MecNLAnh+s8OUHkjMQuRpccWlgCcAqDACVilZuszlsTQAAAABJRU5ErkJggg==\n",
       "\" style=\"display:inline;vertical-align:middle;\" /></a></span>"
      ],
      "text/plain": [
       "{(a + b) in Complex} |- |a + b| in Complex"
      ]
     },
     "metadata": {},
     "output_type": "display_data"
    }
   ],
   "source": [
    "# but of course, the Complex numbers contain the non-negative Real numbers …\n",
    "# so it would be nice to be able to be able to deduce_in_number_set(X) if\n",
    "# X contains a set Y for which deduce_in_number_set(Y) is possible …\n",
    "abs_value_a_plus_b.deduce_in_number_set(Complex,\n",
    "    assumptions=[InSet(Add(a,b), Complex)])"
   ]
  },
  {
   "cell_type": "markdown",
   "metadata": {},
   "source": [
    "### Testing the `Abs.deduce_not_equal()` method"
   ]
  },
  {
   "cell_type": "code",
   "execution_count": 54,
   "metadata": {},
   "outputs": [
    {
     "data": {
      "text/html": [
       "<a class=\"ProveItLink\" href=\"../__pv_it/demonstrations/a00f412b29eef517678b05e1e976de5f2cef54060/expr.ipynb\"><img src=\"data:image/png;base64,iVBORw0KGgoAAAANSUhEUgAAADUAAAAVBAMAAAAUZLt1AAAAMFBMVEX///8AAAAAAAAAAAAAAAAA\n",
       "AAAAAAAAAAAAAAAAAAAAAAAAAAAAAAAAAAAAAAAAAAAv3aB7AAAAD3RSTlMAIolEdjKr77sQZpnd\n",
       "VM0QaojEAAAACXBIWXMAAA7EAAAOxAGVKw4bAAAAwUlEQVQoz2MQYMABGBkYlHHJMRlgleNsP4BT\n",
       "joFvA6Yc8wIIzX8BU47XAULbT8AtpwN3C2OSowOq3DOXXKicuQDHTxQ5zn8T5guA5TirGLgPoMjx\n",
       "/mRgdwDLcX9g4FEAinCfOXO85syZBCDrAQO/AliOvYFhvgGKPqBS+wtgufkODOtR3Qn03v4JELkL\n",
       "DHm8AihyAUA3gOU4HHhPc6PoY1vAsQEix5miKuaK6oekXbjDBVscwcIaT/wRI+eKS44lAAD3Oyz+\n",
       "cXbqVAAAAABJRU5ErkJggg==\n",
       "\" style=\"display:inline;vertical-align:middle;\" /></a>"
      ],
      "text/plain": [
       "|a + b|"
      ]
     },
     "metadata": {},
     "output_type": "display_data"
    }
   ],
   "source": [
    "# recall our Abs(Add(a, b)) expression\n",
    "abs_value_a_plus_b"
   ]
  },
  {
   "cell_type": "code",
   "execution_count": 55,
   "metadata": {},
   "outputs": [
    {
     "data": {
      "text/html": [
       "<span style=\"font-size:20px;\"><a class=\"ProveItLink\" href=\"../__pv_it/theorems/e9f87a0977d5044ea8daf1040d2f219396bb3d5b0/expr.ipynb\"><img src=\"data:image/png;base64,iVBORw0KGgoAAAANSUhEUgAAADMAAAAQBAMAAABJt1qBAAAAMFBMVEX///8AAAAAAAAAAAAAAAAA\n",
       "AAAAAAAAAAAAAAAAAAAAAAAAAAAAAAAAAAAAAAAAAAAv3aB7AAAAD3RSTlMAIquJdkTvuxBmmd1U\n",
       "zTKBpmoTAAAACXBIWXMAAA7EAAAOxAGVKw4bAAAA0ElEQVQY02NgwAKaq+86PsYmwcCiNoFjfRVW\n",
       "qSXBDAycWKX4FlQASS0UMffduy8AKaaGAiDZiSwT6wGh2RkXQEUYlR0dwPQNqIAQnwGUFSbA/gNE\n",
       "8wpABR6zToAwODIZuDaApWAGS7E6QBhcHxi4wQY82w0EBWC7oAayFTD0B4AY7TBd7GAXAkG/A8N8\n",
       "MIMbJsUK9hcrUOoAgy4PyAUsDvDQCAISa4HaHXh2cYFF7sDDsHYhx2mg3zhU7IT8wCJNpQ2wkC/7\n",
       "vRA18IKrwQEFAwCqvi28/xxvKQAAAABJRU5ErkJggg==\n",
       "\" style=\"display:inline;vertical-align:middle;\" /></a>, <a class=\"ProveItLink\" href=\"../__pv_it/theorems/a259ec76dfb0a5be60b7c83d797520fa82c1dba60/expr.ipynb\"><img src=\"data:image/png;base64,iVBORw0KGgoAAAANSUhEUgAAADEAAAAQBAMAAABNQoq8AAAAMFBMVEX///8AAAAAAAAAAAAAAAAA\n",
       "AAAAAAAAAAAAAAAAAAAAAAAAAAAAAAAAAAAAAAAAAAAv3aB7AAAAD3RSTlMAELvv3c2ZVESJq3Yi\n",
       "MmZ3LnoBAAAACXBIWXMAAA7EAAAOxAGVKw4bAAAA2UlEQVQY02NgwASSKqF7bjIwMCo7oElwL37A\n",
       "mK8GZLAmoMlkdzIw8IFk+AtQJXgTFIHkMiDuF4AKbXJxCQBSXAIKQFIOiKdAJVo3QmgmHpjxUbuX\n",
       "gyieQCj/FO8ECIPxq4D8AZBDDkBlbnI8gDDYPzIwbwDJwFxwjGMDhMEWwMAP0n7ZBQgUwPZATWOZ\n",
       "wNAPcrcQTA8T2G0Q7+SD3M0Ck+EA+4cDKHOB0Q4cJhvgYdAFJFKBHnvABHF/ODzcVHMYS4BijCvz\n",
       "IAJSGrDAkFT+koMSYJ0q4NCBAQD6uylQEVfDpgAAAABJRU5ErkJggg==\n",
       "\" style=\"display:inline;vertical-align:middle;\" /></a>, <a class=\"ProveItLink\" href=\"../__pv_it/demonstrations/0bf288f776388558e13fc2105fec0159587992fa0/expr.ipynb\"><img src=\"data:image/png;base64,iVBORw0KGgoAAAANSUhEUgAAAGEAAAAVCAMAAABha3BGAAAAPFBMVEX///8AAAAAAAAAAAAAAAAA\n",
       "AAAAAAAAAAAAAAAAAAAAAAAAAAAAAAAAAAAAAAAAAAAAAAAAAAAAAAAAAAAo1xBWAAAAE3RSTlMA\n",
       "InZUiRDNmWbv3US7qzLn9enz+YF6hwAAAAlwSFlzAAAOxAAADsQBlSsOGwAAAY1JREFUSMeVVeu6\n",
       "rCAINYW8u8/Zvv+7bsScrGmY8kdfGbDWAkSlaC3q2Xpqr7R56BD1hx8WL7cN3AyMyYeNk7s0KGn+\n",
       "AtCW1eJ6n/xqx8sl2VRmW8oMhgZhnZCO07868unslYQ8fTiWC02VFzibY8JjfVH3FyLS3AGJ4Qx5\n",
       "mPU+AoQ9B+/KYz7IZZWFVNtR5yWDXrSIsGatc08U5PcizRJwILgXmejJIFUUELBSgbFyILdLt4HX\n",
       "z7/2HMBLhY6gVeic0Ds2ljQYxve8Z7woYUcA5WMnUtszwJGY92EiZpn3cD1X4dhd2M0iadgQfOLt\n",
       "KGlg/Ng7NnpRwqi0IeueJawtlqtiL3Fs20tlwrEO/3/DLJdKyufbkXXSHaF551WZRUAoo17kmk4S\n",
       "zufD+ZHYre0akAlWWUFDpuBpM7DHYWbez3hLDnoiVbpczBrKknWRujXDa8SEKEsgaws6c7hQbp/p\n",
       "qRnDg/F8OcQ+TL69uu6bhI8D6+Yld6yzg28Xy2OEE6mA3xjpp9fuSXWRjP8AD8ELp2KABKkAAAAA\n",
       "SUVORK5CYII=\n",
       "\" style=\"display:inline;vertical-align:middle;\" /></a> <a class=\"ProveItLink\" href=\"../__pv_it/demonstrations/f328cfd1d9926bdfe2697b454ee490360a9e203a0/proof.ipynb\" style=\"text-decoration: none\">&nbsp;&#x22A2;&nbsp;&nbsp;</a><a class=\"ProveItLink\" href=\"../__pv_it/demonstrations/02cb6aa760e1bdcf1326c0b3bde8023b889bbb4b0/expr.ipynb\"><img src=\"data:image/png;base64,iVBORw0KGgoAAAANSUhEUgAAAF0AAAAVCAMAAAATpBLwAAAAPFBMVEX///8AAAAAAAAAAAAAAAAA\n",
       "AAAAAAAAAAAAAAAAAAAAAAAAAAAAAAAAAAAAAAAAAAAAAAAAAAAAAAAAAAAo1xBWAAAAE3RSTlMA\n",
       "IolEdjKr77sQZpndVM3n9enz5kdchQAAAAlwSFlzAAAOxAAADsQBlSsOGwAAAVVJREFUOMu1leuS\n",
       "hiAIhhOPiLoH7/9eV6lms4z52p3PH85Y8PgKiItaHo8HLqAf0+cuhP+hY/BJcLFhoIIh9Ux7IYEe\n",
       "7NEyNzVJiXQdx3XN93TrDovIh4Qg0rMZN6t4Tw/HVAfeKjf71+mQ7lOl3XBIDqFtZ91MlQOjjEgv\n",
       "zhiX5/RylI47PW6m2rffoaJAx1qwTWOqKPH4+Ozzrl9VWOlmNUUf2VTSnnlvb2baB+m/dFhNqfZl\n",
       "glGS9+kgiQqHFCZ0TePNWOl61+4Df9SSdt5b96q80MupN6xxz1tWsXZOrGLNcLVTD8857l/f6XjI\n",
       "lkC+t3GrSGRPV5asBLrd83PWXs4dJvo9lGwaGicnWkjQ7ho40KTeM10KNPVO4O1mis6AVc5YqSId\n",
       "UJzdpnJtjkhgnF2edIKbtprhb/393MXmLgXf+HpEeOfblCTpyymTr4zBRXT/AYgKC4KWzoWMAAAA\n",
       "AElFTkSuQmCC\n",
       "\" style=\"display:inline;vertical-align:middle;\" /></a></span>"
      ],
      "text/plain": [
       "{a in Complex, b in Complex, (a + b) != 0} |- |a + b| != 0"
      ]
     },
     "metadata": {},
     "output_type": "display_data"
    }
   ],
   "source": [
    "abs_value_a_plus_b.deduce_not_equal(\n",
    "    zero,\n",
    "    assumptions=[InSet(a, Complex),\n",
    "                 InSet(b, Complex),\n",
    "                 NotEquals(Add(a,b), zero)])"
   ]
  },
  {
   "cell_type": "code",
   "execution_count": 56,
   "metadata": {},
   "outputs": [
    {
     "data": {
      "text/html": [
       "<span style=\"font-size:20px;\"><a class=\"ProveItLink\" href=\"../__pv_it/demonstrations/4265b9df5555db7a3cbf7b7f81d95c1d73815cbf0/expr.ipynb\"><img src=\"data:image/png;base64,iVBORw0KGgoAAAANSUhEUgAAAGQAAAAVBAMAAABCslYDAAAAMFBMVEX///8AAAAAAAAAAAAAAAAA\n",
       "AAAAAAAAAAAAAAAAAAAAAAAAAAAAAAAAAAAAAAAAAAAv3aB7AAAAD3RSTlMAInZUiRDNmWbv3US7\n",
       "qzJazP2FAAAACXBIWXMAAA7EAAAOxAGVKw4bAAABqElEQVQ4y3VTzytEURT+3jwz7814zFsr9Shl\n",
       "IU2S9Syl6P0BM81IioUaZTHZsBE7ViKbiYXckkkSKw+RX4uJIcuxEqWUWFk4776Hd3n3LO4995zz\n",
       "nfPdc88FYCJcZHYgkpI4tv+c9dGrj40zV+sOiY6elyjX9B+roVTq70/Imw+rECvQMvwPkobzAmhC\n",
       "rj1/T7psZ0Mg4zEgLli7/P3ApiVue4cOxvI/EAPoCYX0cXYegd22QJXbLDBBulJtsUTIWOsNUFdx\n",
       "VWU4QKzxeBAYIX3fNN4FSPTDzpnQOZ2Y+QtZ3FolsmsUsAStJEDUd8QtqAscErh+74ybZYWa9opE\n",
       "mtRJxpYZ2yRNyyOZRuOrG/jESByf2MmcB4k7yJWFKpThIIV6XiUTbPKj4RHLWZgXO0bPMmVD5WwT\n",
       "QYj2QPWOCJLCnWoKkBrdDzqnE7ECkKjTDvSTaqnrmlClYdqgidHS/DD0CylgzijjmTp2PdDcKTa5\n",
       "WnQpeRfMXtrfk/xpGqdvSNTCXp9Lk7/vXDBhdvVC2FhyKcq+2KHMoTgyT0bmMKQ/WbEkjhaJ/Qtc\n",
       "il9+STsuZQAAAABJRU5ErkJggg==\n",
       "\" style=\"display:inline;vertical-align:middle;\" /></a>, <a class=\"ProveItLink\" href=\"../__pv_it/demonstrations/0bf288f776388558e13fc2105fec0159587992fa0/expr.ipynb\"><img src=\"data:image/png;base64,iVBORw0KGgoAAAANSUhEUgAAAGEAAAAVCAMAAABha3BGAAAAPFBMVEX///8AAAAAAAAAAAAAAAAA\n",
       "AAAAAAAAAAAAAAAAAAAAAAAAAAAAAAAAAAAAAAAAAAAAAAAAAAAAAAAAAAAo1xBWAAAAE3RSTlMA\n",
       "InZUiRDNmWbv3US7qzLn9enz+YF6hwAAAAlwSFlzAAAOxAAADsQBlSsOGwAAAY1JREFUSMeVVeu6\n",
       "rCAINYW8u8/Zvv+7bsScrGmY8kdfGbDWAkSlaC3q2Xpqr7R56BD1hx8WL7cN3AyMyYeNk7s0KGn+\n",
       "AtCW1eJ6n/xqx8sl2VRmW8oMhgZhnZCO07868unslYQ8fTiWC02VFzibY8JjfVH3FyLS3AGJ4Qx5\n",
       "mPU+AoQ9B+/KYz7IZZWFVNtR5yWDXrSIsGatc08U5PcizRJwILgXmejJIFUUELBSgbFyILdLt4HX\n",
       "z7/2HMBLhY6gVeic0Ds2ljQYxve8Z7woYUcA5WMnUtszwJGY92EiZpn3cD1X4dhd2M0iadgQfOLt\n",
       "KGlg/Ng7NnpRwqi0IeueJawtlqtiL3Fs20tlwrEO/3/DLJdKyufbkXXSHaF551WZRUAoo17kmk4S\n",
       "zufD+ZHYre0akAlWWUFDpuBpM7DHYWbez3hLDnoiVbpczBrKknWRujXDa8SEKEsgaws6c7hQbp/p\n",
       "qRnDg/F8OcQ+TL69uu6bhI8D6+Yld6yzg28Xy2OEE6mA3xjpp9fuSXWRjP8AD8ELp2KABKkAAAAA\n",
       "SUVORK5CYII=\n",
       "\" style=\"display:inline;vertical-align:middle;\" /></a> <a class=\"ProveItLink\" href=\"../__pv_it/demonstrations/513c6cad2f81ff7c0a13bd1011e5fa08f84c06b30/proof.ipynb\" style=\"text-decoration: none\">&nbsp;&#x22A2;&nbsp;&nbsp;</a><a class=\"ProveItLink\" href=\"../__pv_it/demonstrations/02cb6aa760e1bdcf1326c0b3bde8023b889bbb4b0/expr.ipynb\"><img src=\"data:image/png;base64,iVBORw0KGgoAAAANSUhEUgAAAF0AAAAVCAMAAAATpBLwAAAAPFBMVEX///8AAAAAAAAAAAAAAAAA\n",
       "AAAAAAAAAAAAAAAAAAAAAAAAAAAAAAAAAAAAAAAAAAAAAAAAAAAAAAAAAAAo1xBWAAAAE3RSTlMA\n",
       "IolEdjKr77sQZpndVM3n9enz5kdchQAAAAlwSFlzAAAOxAAADsQBlSsOGwAAAVVJREFUOMu1leuS\n",
       "hiAIhhOPiLoH7/9eV6lms4z52p3PH85Y8PgKiItaHo8HLqAf0+cuhP+hY/BJcLFhoIIh9Ux7IYEe\n",
       "7NEyNzVJiXQdx3XN93TrDovIh4Qg0rMZN6t4Tw/HVAfeKjf71+mQ7lOl3XBIDqFtZ91MlQOjjEgv\n",
       "zhiX5/RylI47PW6m2rffoaJAx1qwTWOqKPH4+Ozzrl9VWOlmNUUf2VTSnnlvb2baB+m/dFhNqfZl\n",
       "glGS9+kgiQqHFCZ0TePNWOl61+4Df9SSdt5b96q80MupN6xxz1tWsXZOrGLNcLVTD8857l/f6XjI\n",
       "lkC+t3GrSGRPV5asBLrd83PWXs4dJvo9lGwaGicnWkjQ7ho40KTeM10KNPVO4O1mis6AVc5YqSId\n",
       "UJzdpnJtjkhgnF2edIKbtprhb/393MXmLgXf+HpEeOfblCTpyymTr4zBRXT/AYgKC4KWzoWMAAAA\n",
       "AElFTkSuQmCC\n",
       "\" style=\"display:inline;vertical-align:middle;\" /></a></span>"
      ],
      "text/plain": [
       "{(a + b) in Real, (a + b) != 0} |- |a + b| != 0"
      ]
     },
     "metadata": {},
     "output_type": "display_data"
    }
   ],
   "source": [
    "# And automation will generally be able to prove\n",
    "# Abs(x) ≠ 0 when x in a defined set with x ≠ 0.\n",
    "NotEquals(abs_value_a_plus_b, zero).prove(\n",
    "    assumptions=[InSet(Add(a,b), Real), NotEquals(Add(a,b), zero)])"
   ]
  },
  {
   "cell_type": "markdown",
   "metadata": {},
   "source": [
    "### Testing the `Abs.abs_elimination()` method"
   ]
  },
  {
   "cell_type": "code",
   "execution_count": 57,
   "metadata": {},
   "outputs": [],
   "source": [
    "# abs_elimination() by itself often needs some\n",
    "# pre-processing of the expression operand\n",
    "try:\n",
    "    abs_value_1_plus_2.abs_elimination()\n",
    "except Exception as _e:\n",
    "    print(\"EXCEPTION: \", _e)"
   ]
  },
  {
   "cell_type": "code",
   "execution_count": 58,
   "metadata": {},
   "outputs": [
    {
     "data": {
      "text/html": [
       "<span style=\"font-size:20px;\"> <a class=\"ProveItLink\" href=\"../__pv_it/demonstrations/26c05bd646c3aeae9644c18fd73db50705b511da0/proof.ipynb\" style=\"text-decoration: none\">&nbsp;&#x22A2;&nbsp;&nbsp;</a><a class=\"ProveItLink\" href=\"../__pv_it/demonstrations/7cad93de1780aa689ab679520542108900453c120/expr.ipynb\"><img src=\"data:image/png;base64,iVBORw0KGgoAAAANSUhEUgAAAHAAAAAXBAMAAAAhP9aaAAAAMFBMVEX///8AAAAAAAAAAAAAAAAA\n",
       "AAAAAAAAAAAAAAAAAAAAAAAAAAAAAAAAAAAAAAAAAAAv3aB7AAAAD3RSTlMAInZUiRDNmWbv3US7\n",
       "qzJazP2FAAAACXBIWXMAAA7EAAAOxAGVKw4bAAABpElEQVQ4y2NgIAcUMJAJDoBJARyyAgQ0Mhng\n",
       "kN2ExufIPPNt5QmERhMgfhWAqoaxPOcBA1MDmk4exgvcN47CNLImMLBez0fTKMPA8puBIRVDowPD\n",
       "gbcM7GfOzDlzgoEdZK4+TOMOCHWRgWEmA0M7Fo2FbDAbORmQNRpBqPkBDPcFGDihokynVi2Da+SB\n",
       "aTTDpvEWA8P9BwxsEE9yJwUgbLwaC9NYgk0jEKxnYGC5AGaJBSCcync4EaYxA7tGvk/A8E8AMxMR\n",
       "fpy2flEALOUsxq6RC2gb8wQwMwGh0aMVzmGYjdBYtWrVzFWr1oKFa0C2fgDbPWvVqlVroE492oFN\n",
       "I5KNHCDvcYNtZD2AFB3PeeAxjt2pJgyMAgzMC8DsBUga2R/CjTmETSOfAwNTAAMHRJESkkbWAxow\n",
       "ni+I8BdA1ShVXl7FwMDuAOawGcA1FjB08GyA8l4B8d35uQ0oGtf///8NGLIQNax3tsJyxx8BnmOf\n",
       "YeH+ADk5GiFzpKA0tw8kyaHlMpRiYAcypwJ/MXAQlwTjAfwaY3BJ8Ajg18iogENCEa82ABNFbI6f\n",
       "FjI5AAAAAElFTkSuQmCC\n",
       "\" style=\"display:inline;vertical-align:middle;\" /></a></span>"
      ],
      "text/plain": [
       "|- (1 + 2) in RealPos"
      ]
     },
     "metadata": {},
     "output_type": "display_data"
    }
   ],
   "source": [
    "# So prove 1+2 is non-negative real first\n",
    "InSet(Add(one, two), RealPos).prove()"
   ]
  },
  {
   "cell_type": "code",
   "execution_count": 59,
   "metadata": {},
   "outputs": [
    {
     "data": {
      "text/html": [
       "<span style=\"font-size:20px;\"> <a class=\"ProveItLink\" href=\"../__pv_it/demonstrations/b97cb4338fcef10b31229f4328cca13f7b3fd2b50/proof.ipynb\" style=\"text-decoration: none\">&nbsp;&#x22A2;&nbsp;&nbsp;</a><a class=\"ProveItLink\" href=\"../__pv_it/demonstrations/1da51e342aaa8623ebfe203c115e57a197ca675f0/expr.ipynb\"><img src=\"data:image/png;base64,iVBORw0KGgoAAAANSUhEUgAAAI8AAAAVBAMAAACNsKCFAAAAMFBMVEX///8AAAAAAAAAAAAAAAAA\n",
       "AAAAAAAAAAAAAAAAAAAAAAAAAAAAAAAAAAAAAAAAAAAv3aB7AAAAD3RSTlMAIolEdjLdEKuZze9m\n",
       "VLvSN3mcAAAACXBIWXMAAA7EAAAOxAGVKw4bAAABhklEQVQ4y5XUPUvDQBgH8H/TJLUvKRmkoxT8\n",
       "AGZw7FAHRzGTcxej4NCM4hQXURS6FSoi3XTSTC4dmrWbSD9AP4KiIHSpubyUS+65Yg9Kksuf3z1X\n",
       "Lg9MSEbhX1PxYMi27KViCVMHsuxuAh25uZUHLzYBGU1AOwGRVQMGlW5ec9AWlG8CugDO739BZPEU\n",
       "V3SYQq34cgmMCOgh/KkpVAy4LCY5aBpfxi56pgj5PGS0uSyqLgldAT1bgIwhBUVZVAISCkdX3Fq5\n",
       "SUFRFoongbSfBOo7bJyy20pAQ2EWtaEE0j2xIv2dhsIsDJ+DwsVHyeJ4JA5k1VpCZcc5e3McL81C\n",
       "+6QrqnmrIb4ilkXRp6EPFEzhP5JsjWVhdEhIa0J1hYrqbQqKsqjNImjHzEKNwaAvbk1he1C+clCU\n",
       "ZUcjhK7Hz0EG6i4WcxHSOsDG7fwuC0VZ6Fa2jUxXtpHjzDlv80+NXD9qrYQm/EP60S6/5zUaW13e\n",
       "TWdrQaWZLMuW2Je9VG1halOW3QP+AK5xdHWd2cnCAAAAAElFTkSuQmCC\n",
       "\" style=\"display:inline;vertical-align:middle;\" /></a></span>"
      ],
      "text/plain": [
       "|- |1 + 2| = (1 + 2)"
      ]
     },
     "metadata": {},
     "output_type": "display_data"
    }
   ],
   "source": [
    "# And then we should be able to use the basic Abs.abs_elimination()\n",
    "abs_value_1_plus_2.abs_elimination()"
   ]
  },
  {
   "cell_type": "code",
   "execution_count": 60,
   "metadata": {},
   "outputs": [
    {
     "data": {
      "text/html": [
       "<span style=\"font-size:20px;\"><a class=\"ProveItLink\" href=\"../../addition/__pv_it/theorems/96d3bc490053a9cc7159a4a275658c0676aaf4e60/expr.ipynb\"><img src=\"data:image/png;base64,iVBORw0KGgoAAAANSUhEUgAAAHAAAAAXBAMAAAAhP9aaAAAAMFBMVEX///8AAAAAAAAAAAAAAAAA\n",
       "AAAAAAAAAAAAAAAAAAAAAAAAAAAAAAAAAAAAAAAAAAAv3aB7AAAAD3RSTlMAInZUiRDNmWbv3US7\n",
       "qzJazP2FAAAACXBIWXMAAA7EAAAOxAGVKw4bAAABvklEQVQ4y2NgIAcUMJAJDoBJARyyAgQ0Mhng\n",
       "kN2ExufIPPNt5QmERhMselhPLgCa2IAmysN4gfvGUZhG1gRstrGBvJ+KodGB4cBbBvYzZ+acOcHA\n",
       "jmIuN5THD3J/OxaNhWwwGzlR5JgVIPT+AJBUAISjs2pVAlwjD0yjGVaNXmD3Qqzfpopk49VYmMYS\n",
       "IGa8oqiAqjFX6TIDA8sFEJMxFcmpfIcTYRozgHinAM9XFI2s3wLiBRg4wA5kE0BonLZ+UQAs5SwG\n",
       "KpvBwL4ARSPzVwZOBQbmCWCNSIHj0YqIg9kMDOwfGLgcgEz2VatWzlq1CuhA9gQGfgcGvg8gBS9X\n",
       "AcEBqFOPdiBr5DzAEL8BxUagOfsNGLjBNsYgR8dzngAYD+jUeAWGftRQBUZjfQADM9j9XMga2R8e\n",
       "gPEOATUaMFxjFkDR+ADobwYOSFpWQNLIekADxvMFCigwL2dHsZG3gQcYcOwOYE4yQmMBQwcP1FMM\n",
       "r4CheslPVg81Oq5UgBwJURN7OgCWO/4I8Bz7DNXI9QBbygEDKSi95dQqLDmBowBbIgeDCvzFwEFc\n",
       "EowH8GuMwSXBI4BfI6MCDglFvNoA3XppiEyPk9cAAAAASUVORK5CYII=\n",
       "\" style=\"display:inline;vertical-align:middle;\" /></a> <a class=\"ProveItLink\" href=\"../__pv_it/demonstrations/e00f886cf2163124922826051d496c0f5b4fa9fe0/proof.ipynb\" style=\"text-decoration: none\">&nbsp;&#x22A2;&nbsp;&nbsp;</a><a class=\"ProveItLink\" href=\"../__pv_it/demonstrations/bd891d2ef2966d747ddcedb0fc0af3077e04bea10/expr.ipynb\"><img src=\"data:image/png;base64,iVBORw0KGgoAAAANSUhEUgAAAI4AAAAVBAMAAABicsu7AAAAMFBMVEX///8AAAAAAAAAAAAAAAAA\n",
       "AAAAAAAAAAAAAAAAAAAAAAAAAAAAAAAAAAAAAAAAAAAv3aB7AAAAD3RSTlMAIolEdjKr77sQZpnd\n",
       "VM0QaojEAAAACXBIWXMAAA7EAAAOxAGVKw4bAAABu0lEQVQ4y5WUv0vDQBTHX39gG9O0mcSxIHbR\n",
       "oVvBpRGsg1P/AEEpnQRdFETpoCA4uGTSbunopMVRRIOCDkYIIriIdhLURQWHDhXftTm5M++EHuSO\n",
       "XL588r137z0wQTEi4S3zH+mIihPN/92J+wppzKI52rZLcW4pRr2G04zCT7pJcLQWaeaN6W2ZMxGs\n",
       "GZ/g6A3pLPytg89gU+bcBWvRJjgJ6c2wAl6bzWs0Z5yK8yPJibpsfmWcSGXSkjnPU4thzhGIUs5J\n",
       "V6cxCDnGKZjJtsTRvm3H7HJ0rzvme/8UpZzjvGgfAAfI0dZBdyWO0YaEFfJzA6KUc55sWAG4R47+\n",
       "Dqks7px43qrnXTIXLchkQ5xl+JWizataz+YpwCfAHHISG+DkJT+oLfoUR5ByP+cQw5svIMex4FC+\n",
       "L0yfMzsUHzyXIOWcDugYsQfG8WHJMCVOGQMR8rMFopRzvmAPM3IfOUnLuNYlPwONZDPMyYEo5ZwF\n",
       "2OnmBN5XdXSoJN975ZjIw1kQpZyzO8YK5ILOZ7JvpMpUPvcakEvXKcnBYqTqNCjhPvrYpkoKw331\n",
       "w7qSg38oqb7Fy6E2bKmkJvwArdd8rXzht6YAAAAASUVORK5CYII=\n",
       "\" style=\"display:inline;vertical-align:middle;\" /></a></span>"
      ],
      "text/plain": [
       "{(a + b) in RealPos} |- |a + b| = (a + b)"
      ]
     },
     "metadata": {},
     "output_type": "display_data"
    }
   ],
   "source": [
    "abs_value_a_plus_b.abs_elimination(\n",
    "    assumptions = [InSet(Add(a,b), RealPos)])"
   ]
  },
  {
   "cell_type": "markdown",
   "metadata": {},
   "source": [
    "### Testing the `Abs.deduce_greater_than_equals_zero()` method"
   ]
  },
  {
   "cell_type": "code",
   "execution_count": 61,
   "metadata": {},
   "outputs": [
    {
     "data": {
      "text/html": [
       "<span style=\"font-size:20px;\"> <a class=\"ProveItLink\" href=\"../__pv_it/demonstrations/3ed62ed6ffcc06537e5679224b0d68dd252e9fe00/proof.ipynb\" style=\"text-decoration: none\">&nbsp;&#x22A2;&nbsp;&nbsp;</a><a class=\"ProveItLink\" href=\"../__pv_it/demonstrations/67f6b1df90ebab01c7f4238bf02ab4b96b80e2ee0/expr.ipynb\"><img src=\"data:image/png;base64,iVBORw0KGgoAAAANSUhEUgAAAGEAAAAVBAMAAACkm51HAAAAMFBMVEX///8AAAAAAAAAAAAAAAAA\n",
       "AAAAAAAAAAAAAAAAAAAAAAAAAAAAAAAAAAAAAAAAAAAv3aB7AAAAD3RSTlMAInZUiRDNmWbv3US7\n",
       "qzJazP2FAAAACXBIWXMAAA7EAAAOxAGVKw4bAAABfElEQVQ4y3WTPUjDUBDH/0n6atpKyVwc6uQk\n",
       "hlJc28FRMYOjQxexQ4sOxUpx6Ca66FoE6xcIAak4dfNjVtBJEKSZXRQRHRzqJWnS1/jeg/Du7t3v\n",
       "3d3LHQAD4iWzQzUlB1cyIk/fmzVqU+oVB2rzn+/cFAVmJbDntQgxgdgvsOLJrBya4yY7Bsbcm2YC\n",
       "outvT0AL2PaVpZOA2AXmgQR4IudvbQs9A4mBVT0bCA9AwcKsiHgBeg7iQSH6APkB3k3URAStDhB7\n",
       "DBRt1X1q5hJNlMVE+pOuLoV8qkoeyhcRWZyKiSTdr+0PiUpAFHEwJBq23bLtC89ly43zEWZV9bIi\n",
       "4jrLE1wM3S0hFcTQz8PKC6YkqzwUA9pR5HXvgT0LdyIiXYRqQb+J/MEdYANYcMVFY5TI1OsNaodi\n",
       "pEuSJjukJiTptV1tjhCdfv+bHC4jjchq0w6ZHd6W45WMuNn1dV7r8sqmZD5uZYOj+IUz21tcKssy\n",
       "Ylw2tkpWcjApNv8BPYhb0hniMuoAAAAASUVORK5CYII=\n",
       "\" style=\"display:inline;vertical-align:middle;\" /></a></span>"
      ],
      "text/plain": [
       "|- (1 + 2) >= 0"
      ]
     },
     "metadata": {},
     "output_type": "display_data"
    }
   ],
   "source": [
    "abs_value_1_plus_2.deduce_greater_than_equals_zero()"
   ]
  },
  {
   "cell_type": "code",
   "execution_count": 62,
   "metadata": {},
   "outputs": [
    {
     "data": {
      "text/html": [
       "<span style=\"font-size:20px;\"><a class=\"ProveItLink\" href=\"../../addition/__pv_it/theorems/a6c5109834da253e63c0a4ff791bacc177a5dc8c0/expr.ipynb\"><img src=\"data:image/png;base64,iVBORw0KGgoAAAANSUhEUgAAAGQAAAAVBAMAAABCslYDAAAAMFBMVEX///8AAAAAAAAAAAAAAAAA\n",
       "AAAAAAAAAAAAAAAAAAAAAAAAAAAAAAAAAAAAAAAAAAAv3aB7AAAAD3RSTlMAInZUiRDNmWbv3US7\n",
       "qzJazP2FAAAACXBIWXMAAA7EAAAOxAGVKw4bAAABq0lEQVQ4y3VTPUjDQBT+0timrWmbQRAEJRWc\n",
       "rFJEnDuLSsDBpdKiiC5CBofiYjcXQceKgwXBQkAoIv5MrYKDuhStzh0E0alLnRx8uaSRq7kHl3d5\n",
       "77573/s5ABr8RWQHAmmB4/yfJTh3ujKSAaZ9TgcfynRXsdc8UcLSj4lg3i9CyKTPWo9RGacIeyYU\n",
       "7q5rVydstrs9kA/VAGImIpx1ytU1ciJiOD8py2JUXlWbcxEzvpBZxs4hcDnmGuuDjt6iJTWTOg/Z\n",
       "HH0B+hr2VuqmJDXenc0GrRtN7XCQ4LeR0xBmdELd/sQzbqYndKAEpcxB5A4iOuQDBumSlky3U0dU\n",
       "vDaiVD5sW9ahZZ3Z5cwjkUG8bR/4tEjqLJcBDxKpI1flotANtTT6WZSsV5t71SOW07HPV4zasmNA\n",
       "ZmyjHuTK7guquCNIGm+yxkFalB/CjE5A/+t+g3GeB1RdrihclFhRpYlRMuxn1QuTWtcWK8AXVex5\n",
       "YXiSL3KzYFNyElx+MrxJPq4Qm2jLr/tMhlx98Whxsxs2/caSSUH0xG5FDqku8mRFDlX4kiVd4EgK\n",
       "7L9BCVjGIG++iQAAAABJRU5ErkJggg==\n",
       "\" style=\"display:inline;vertical-align:middle;\" /></a> <a class=\"ProveItLink\" href=\"../__pv_it/demonstrations/bda3460cfb192e4bacb0604cbb00c3efd08b46d20/proof.ipynb\" style=\"text-decoration: none\">&nbsp;&#x22A2;&nbsp;&nbsp;</a><a class=\"ProveItLink\" href=\"../__pv_it/demonstrations/f2695d0ec11c6fe2672222673f3a1c2b57ba28630/expr.ipynb\"><img src=\"data:image/png;base64,iVBORw0KGgoAAAANSUhEUgAAAF0AAAAVBAMAAADWVP/xAAAAMFBMVEX///8AAAAAAAAAAAAAAAAA\n",
       "AAAAAAAAAAAAAAAAAAAAAAAAAAAAAAAAAAAAAAAAAAAv3aB7AAAAD3RSTlMAIolEdjKr77sQZpnd\n",
       "VM0QaojEAAAACXBIWXMAAA7EAAAOxAGVKw4bAAABQ0lEQVQoz2MQYMABGLELK+NSz2RAtHrO9gPY\n",
       "1Ct5C+Awn28DTP28BQjBC5wH0dQzQ2X5L8DUc+o4wCTXMDBooKnnhUraT0C4x0cTKtnGwHB/Anb1\n",
       "Osj+XQPV8JuBIf4CSD1jkqMDqvpnLrlI/r23EewykPoFIPXmAhw/UdRz/pswXwApfOwyQfHxCaje\n",
       "Aaies4qB+wCKet6fDOwOyOo7YeoVgOq5PzDwKAAFuM+cOV5z5kwCkPWAgV8ByT2JYEuB6u1B5rM3\n",
       "MMw3QDEfqN3+AsK/O+H+vQ/y73wHhvWo4QMM/v0TMMKzg4FhPSg8519gyOMVQFEfAPQTRnwtZ2DY\n",
       "B4ovDgfe09wo5rMt4NiAmR54LnCWgtRzpqiKuaKGZ9IuLOmNc5NbAI70QGx6Zl5AVvpHUj/nDAgc\n",
       "JT9/ueJSzxKATRQABQVTOzwLnaIAAAAASUVORK5CYII=\n",
       "\" style=\"display:inline;vertical-align:middle;\" /></a></span>"
      ],
      "text/plain": [
       "{(a + b) in Complex} |- |a + b| >= 0"
      ]
     },
     "metadata": {},
     "output_type": "display_data"
    }
   ],
   "source": [
    "abs_value_a_plus_b.deduce_greater_than_equals_zero(\n",
    "    assumptions=[InSet(Add(a,b), Complex)])"
   ]
  },
  {
   "cell_type": "markdown",
   "metadata": {},
   "source": [
    "### Testing the `Abs.distribution()` method over products and fractions"
   ]
  },
  {
   "cell_type": "code",
   "execution_count": 63,
   "metadata": {},
   "outputs": [
    {
     "data": {
      "text/html": [
       "<a class=\"ProveItLink\" href=\"../__pv_it/demonstrations/37e71984c583d0e95189e1a5af517ee2962756640/expr.ipynb\"><img src=\"data:image/png;base64,iVBORw0KGgoAAAANSUhEUgAAACoAAAAVBAMAAADCwWEQAAAAMFBMVEX///8AAAAAAAAAAAAAAAAA\n",
       "AAAAAAAAAAAAAAAAAAAAAAAAAAAAAAAAAAAAAAAAAAAv3aB7AAAAD3RSTlMAIolEdjKr77sQZpnd\n",
       "VM0QaojEAAAACXBIWXMAAA7EAAAOxAGVKw4bAAAApklEQVQY02MQYMAEAgzKWESV0UVn1GATZXiN\n",
       "VfQvNlHmn9hEmQ7ARMVUROCifCluF8CizIUM/RNgovNfcn4Ei05fwLAHrvb+BIYSsOh+BoZDYGUP\n",
       "gMQ+BoZPYNEKBs7PIFGeDQwgeea/IFHOLwxcH5Ccy/0TLPqXge3BRZjoV5A1IBNaGO5s2AATzWLo\n",
       "hrh3mlNgSgBMdJr2AmzhgDUkyRB1xSLqCgD8SizOQ7JwAQAAAABJRU5ErkJggg==\n",
       "\" style=\"display:inline;vertical-align:middle;\" /></a>"
      ],
      "text/plain": [
       "|a * b|"
      ]
     },
     "metadata": {},
     "output_type": "display_data"
    }
   ],
   "source": [
    "abs_value_a_times_b"
   ]
  },
  {
   "cell_type": "code",
   "execution_count": 64,
   "metadata": {},
   "outputs": [
    {
     "data": {
      "text/html": [
       "<a class=\"ProveItLink\" href=\"../__pv_it/demonstrations/8c72df236a921990eed0e29a8fc3784a0468cfa00/expr.ipynb\"><img src=\"data:image/png;base64,iVBORw0KGgoAAAANSUhEUgAAABgAAAAnCAMAAAAihXiyAAAAOVBMVEX///8AAAAAAAAAAAAAAAAA\n",
       "AAAAAAAAAAAAAAAAAAAAAAAAAAAAAAAAAAAAAAAAAAAAAAAAAAAAAAACXHtMAAAAEnRSTlMAme8y\n",
       "+fOvIquJdkS7EGbdVM2TJaUhAAAACXBIWXMAAA7EAAAOxAGVKw4bAAAAvklEQVQoz73T2w7DIAgA\n",
       "UNB24q0q//+xU7PWRmyyl80H03iCgFVAWA4EtQY1wJB1xknwygAEjjNEdbSdk4hAbnOyAlRoYexn\n",
       "iNzSHgwScp2pQDbTVqFG5ISAoipyVhtyWjY4d76tYYN9DfsXh/hz4DH+n3wBr89XDCrd4HWLKPiw\n",
       "Vf+7C/DXZZvApoeqCjlHWULkEutkBOSeQjkBWHplVkC/z/4qeUBfQvk+gPX5SCaguhbw1sd5WSNZ\n",
       "PEaD+g1JSAZWmmHkogAAAABJRU5ErkJggg==\n",
       "\" style=\"display:inline;vertical-align:middle;\" /></a>"
      ],
      "text/plain": [
       "|a / b|"
      ]
     },
     "metadata": {},
     "output_type": "display_data"
    }
   ],
   "source": [
    "abs_value_a_div_b"
   ]
  },
  {
   "cell_type": "code",
   "execution_count": 65,
   "metadata": {},
   "outputs": [
    {
     "data": {
      "text/html": [
       "<span style=\"font-size:20px;\"><a class=\"ProveItLink\" href=\"../__pv_it/theorems/e9f87a0977d5044ea8daf1040d2f219396bb3d5b0/expr.ipynb\"><img src=\"data:image/png;base64,iVBORw0KGgoAAAANSUhEUgAAADMAAAAQBAMAAABJt1qBAAAAMFBMVEX///8AAAAAAAAAAAAAAAAA\n",
       "AAAAAAAAAAAAAAAAAAAAAAAAAAAAAAAAAAAAAAAAAAAv3aB7AAAAD3RSTlMAIquJdkTvuxBmmd1U\n",
       "zTKBpmoTAAAACXBIWXMAAA7EAAAOxAGVKw4bAAAA0ElEQVQY02NgwAKaq+86PsYmwcCiNoFjfRVW\n",
       "qSXBDAycWKX4FlQASS0UMffduy8AKaaGAiDZiSwT6wGh2RkXQEUYlR0dwPQNqIAQnwGUFSbA/gNE\n",
       "8wpABR6zToAwODIZuDaApWAGS7E6QBhcHxi4wQY82w0EBWC7oAayFTD0B4AY7TBd7GAXAkG/A8N8\n",
       "MIMbJsUK9hcrUOoAgy4PyAUsDvDQCAISa4HaHXh2cYFF7sDDsHYhx2mg3zhU7IT8wCJNpQ2wkC/7\n",
       "vRA18IKrwQEFAwCqvi28/xxvKQAAAABJRU5ErkJggg==\n",
       "\" style=\"display:inline;vertical-align:middle;\" /></a>, <a class=\"ProveItLink\" href=\"../__pv_it/theorems/a259ec76dfb0a5be60b7c83d797520fa82c1dba60/expr.ipynb\"><img src=\"data:image/png;base64,iVBORw0KGgoAAAANSUhEUgAAADEAAAAQBAMAAABNQoq8AAAAMFBMVEX///8AAAAAAAAAAAAAAAAA\n",
       "AAAAAAAAAAAAAAAAAAAAAAAAAAAAAAAAAAAAAAAAAAAv3aB7AAAAD3RSTlMAELvv3c2ZVESJq3Yi\n",
       "MmZ3LnoBAAAACXBIWXMAAA7EAAAOxAGVKw4bAAAA2UlEQVQY02NgwASSKqF7bjIwMCo7oElwL37A\n",
       "mK8GZLAmoMlkdzIw8IFk+AtQJXgTFIHkMiDuF4AKbXJxCQBSXAIKQFIOiKdAJVo3QmgmHpjxUbuX\n",
       "gyieQCj/FO8ECIPxq4D8AZBDDkBlbnI8gDDYPzIwbwDJwFxwjGMDhMEWwMAP0n7ZBQgUwPZATWOZ\n",
       "wNAPcrcQTA8T2G0Q7+SD3M0Ck+EA+4cDKHOB0Q4cJhvgYdAFJFKBHnvABHF/ODzcVHMYS4BijCvz\n",
       "IAJSGrDAkFT+koMSYJ0q4NCBAQD6uylQEVfDpgAAAABJRU5ErkJggg==\n",
       "\" style=\"display:inline;vertical-align:middle;\" /></a> <a class=\"ProveItLink\" href=\"../__pv_it/demonstrations/bbf3b60c77abbe9784c8f672b591a64088a106d20/proof.ipynb\" style=\"text-decoration: none\">&nbsp;&#x22A2;&nbsp;&nbsp;</a><a class=\"ProveItLink\" href=\"../__pv_it/demonstrations/f8e3db7fc278aa510902e0aa3daefceb09ed20d40/expr.ipynb\"><img src=\"data:image/png;base64,iVBORw0KGgoAAAANSUhEUgAAAJAAAAAVBAMAAABbFXrgAAAAMFBMVEX///8AAAAAAAAAAAAAAAAA\n",
       "AAAAAAAAAAAAAAAAAAAAAAAAAAAAAAAAAAAAAAAAAAAv3aB7AAAAD3RSTlMAIolEdjKr77sQZpnd\n",
       "VM0QaojEAAAACXBIWXMAAA7EAAAOxAGVKw4bAAABqklEQVQ4y42UP0zCQBSHfwUilALpYIijCcri\n",
       "wsZaTXBwwt1EY5gcTIwOahw0YXOQCdno6KQNs1Gio5qgiwtRVnXBfwMDiderfbG9q7TDy+W97313\n",
       "9JWDDvHRZSk3qVBOoZq9yklEYi7WoWSkAN8qh6ghNDX2pKIHyEUuviA2vclEai9A5OKZmtA0lIk0\n",
       "M0j0iyctf1N0IBPFESAifMffFGnLRE9BIsJf7ZidGqeWTGW+I4paDq6szhpeEeF5e3YbOKq5xeaL\n",
       "+u6ItFv+rIDvx0VFPTHwigg/ZfHYxDnt/VzDlniiOy5Sd6G1vSLCH1m8BK74YdiMcQF8iKJNLtL6\n",
       "SE06Is6yFeHLLG5D/bTplAVbGR0GieL7aBYcEWfZivAicuoXkv0/n5E2EN+R89OaBs58UyO8y0RD\n",
       "jPXu3eK3/cqEE1UdUQfrad0jIvyExSq6luUW13Ao+Y7yXJQw0jea90SEt1iszy1Wym6xPmNKREvO\n",
       "1CrT2ZJXRPh1uGskVca/1wiUdjgR+0/+L9LMkBfbwQjRRNgbsjFCxDYqSURiTjEoGaPBuKsSYjp+\n",
       "ADnKffG2euIeAAAAAElFTkSuQmCC\n",
       "\" style=\"display:inline;vertical-align:middle;\" /></a></span>"
      ],
      "text/plain": [
       "{a in Complex, b in Complex} |- |a * b| = (|a| * |b|)"
      ]
     },
     "metadata": {},
     "output_type": "display_data"
    }
   ],
   "source": [
    "abs_value_a_times_b.distribution(\n",
    "     assumptions=[InSet(a, Complex), InSet(b, Complex)])"
   ]
  },
  {
   "cell_type": "code",
   "execution_count": 66,
   "metadata": {},
   "outputs": [
    {
     "data": {
      "text/html": [
       "<span style=\"font-size:20px;\"><a class=\"ProveItLink\" href=\"../__pv_it/theorems/e9f87a0977d5044ea8daf1040d2f219396bb3d5b0/expr.ipynb\"><img src=\"data:image/png;base64,iVBORw0KGgoAAAANSUhEUgAAADMAAAAQBAMAAABJt1qBAAAAMFBMVEX///8AAAAAAAAAAAAAAAAA\n",
       "AAAAAAAAAAAAAAAAAAAAAAAAAAAAAAAAAAAAAAAAAAAv3aB7AAAAD3RSTlMAIquJdkTvuxBmmd1U\n",
       "zTKBpmoTAAAACXBIWXMAAA7EAAAOxAGVKw4bAAAA0ElEQVQY02NgwAKaq+86PsYmwcCiNoFjfRVW\n",
       "qSXBDAycWKX4FlQASS0UMffduy8AKaaGAiDZiSwT6wGh2RkXQEUYlR0dwPQNqIAQnwGUFSbA/gNE\n",
       "8wpABR6zToAwODIZuDaApWAGS7E6QBhcHxi4wQY82w0EBWC7oAayFTD0B4AY7TBd7GAXAkG/A8N8\n",
       "MIMbJsUK9hcrUOoAgy4PyAUsDvDQCAISa4HaHXh2cYFF7sDDsHYhx2mg3zhU7IT8wCJNpQ2wkC/7\n",
       "vRA18IKrwQEFAwCqvi28/xxvKQAAAABJRU5ErkJggg==\n",
       "\" style=\"display:inline;vertical-align:middle;\" /></a>, <a class=\"ProveItLink\" href=\"../__pv_it/theorems/a259ec76dfb0a5be60b7c83d797520fa82c1dba60/expr.ipynb\"><img src=\"data:image/png;base64,iVBORw0KGgoAAAANSUhEUgAAADEAAAAQBAMAAABNQoq8AAAAMFBMVEX///8AAAAAAAAAAAAAAAAA\n",
       "AAAAAAAAAAAAAAAAAAAAAAAAAAAAAAAAAAAAAAAAAAAv3aB7AAAAD3RSTlMAELvv3c2ZVESJq3Yi\n",
       "MmZ3LnoBAAAACXBIWXMAAA7EAAAOxAGVKw4bAAAA2UlEQVQY02NgwASSKqF7bjIwMCo7oElwL37A\n",
       "mK8GZLAmoMlkdzIw8IFk+AtQJXgTFIHkMiDuF4AKbXJxCQBSXAIKQFIOiKdAJVo3QmgmHpjxUbuX\n",
       "gyieQCj/FO8ECIPxq4D8AZBDDkBlbnI8gDDYPzIwbwDJwFxwjGMDhMEWwMAP0n7ZBQgUwPZATWOZ\n",
       "wNAPcrcQTA8T2G0Q7+SD3M0Ck+EA+4cDKHOB0Q4cJhvgYdAFJFKBHnvABHF/ODzcVHMYS4BijCvz\n",
       "IAJSGrDAkFT+koMSYJ0q4NCBAQD6uylQEVfDpgAAAABJRU5ErkJggg==\n",
       "\" style=\"display:inline;vertical-align:middle;\" /></a>, <a class=\"ProveItLink\" href=\"../__pv_it/theorems/1157e8bc07ff5d23e5b8809064b9e77def3bc8980/expr.ipynb\"><img src=\"data:image/png;base64,iVBORw0KGgoAAAANSUhEUgAAAC8AAAAUCAMAAAAqRJTwAAAAPFBMVEX///8AAAAAAAAAAAAAAAAA\n",
       "AAAAAAAAAAAAAAAAAAAAAAAAAAAAAAAAAAAAAAAAAAAAAAAAAAAAAAAAAAAo1xBWAAAAE3RSTlMA\n",
       "ELvv3c2ZVESJq3YiMmbn9enzVleb9QAAAAlwSFlzAAAOxAAADsQBlSsOGwAAANlJREFUKM+VkusS\n",
       "xBAMhcUlGspevP+7LjG6bK0ZfmhSn+OICPF/IMz+glR6igfZZ0QezxoanPIydImxWVnXDclO5V2X\n",
       "RLZAfOKRpj7l2Se82TJJU/tHLy8SWw7sxDjv3c2S6eWh8bHEBvLUllHzeDzL3M44E1XeN1PKL+S/\n",
       "fP6gYYM0uh9LDHX5KPqaOLIL+XZfWygm8aop+3+96y2uGkmufCxUys8IKo7yvy8SFWsV6y6jcrRr\n",
       "7w2iSz+o0iHgCKNYy2cKybsw72NLYmsY2MLjprzekxdhtfgBfooGZl93KjkAAAAASUVORK5CYII=\n",
       "\" style=\"display:inline;vertical-align:middle;\" /></a> <a class=\"ProveItLink\" href=\"../__pv_it/demonstrations/8c271f67f860edd84adf5e39ccb74cfb445464470/proof.ipynb\" style=\"text-decoration: none\">&nbsp;&#x22A2;&nbsp;&nbsp;</a><a class=\"ProveItLink\" href=\"../__pv_it/theorems/ec4fd589725677f600cee796b185a2ef67ef81dd0/expr.ipynb\"><img src=\"data:image/png;base64,iVBORw0KGgoAAAANSUhEUgAAAFAAAAAyCAMAAAD886zOAAAANlBMVEX///8AAAAAAAAAAAAAAAAA\n",
       "AAAAAAAAAAAAAAAAAAAAAAAAAAAAAAAAAAAAAAAAAAAAAAAAAABHL6OuAAAAEXRSTlMAme8y+fMi\n",
       "q4l2RLsQZt1UzTcbbZUAAAAJcEhZcwAADsQAAA7EAZUrDhsAAAFmSURBVEjH7ZfZroMgEEAFWzYR\n",
       "5P9/9iIKDFObOmhyH9p5IIFwjgyL4jD0h/jYQAxlPjX8hH1CdtyZdQt5XXSptNB7hZ8XVq4VGh63\n",
       "0RQsVQi4Rmj5vGbqqCOEXCNkYS2dogoh1wj5tD4uGKoQclBowzqtcxiIwoZrhT6Wchm8IAoB16Q8\n",
       "xSd5x/IGPJ0y5NpVllqNQuqRusqAQxu7CX7DSblJ+Dju/OgWPo87P/8j5byAbcMFIYkEzcyBkDcI\n",
       "bx9hnzDUOCkMx/HFc9glFEfVC2cZn72tWg6tnbijneX9hVi4TQhyWxgx5X2EmXsRps9DhzBzWGjy\n",
       "rYEoLBwWKjd0CQuHhYvUWnq6sHBIaMNiYyGowsohoU9TwTVVWDkkZEtaMUUVVg4J0wXK5C1wXlg5\n",
       "JEwqRrlwbobKYeGYb49EYeE2YfkUytg2lcM3nhZWDr0rrFRs7vivqNzV35Q3r6+fkBTotpSqf9Cv\n",
       "EvVGkKrGAAAAAElFTkSuQmCC\n",
       "\" style=\"display:inline;vertical-align:middle;\" /></a></span>"
      ],
      "text/plain": [
       "{a in Complex, b in Complex, b != 0} |- |a / b| = (|a| / |b|)"
      ]
     },
     "metadata": {},
     "output_type": "display_data"
    }
   ],
   "source": [
    "# distribution over a fraction works fine\n",
    "abs_value_a_div_b.distribution(\n",
    "    assumptions=[InSet(a, Complex),\n",
    "                 InSet(b, Complex),\n",
    "                 NotEquals(b, zero)])"
   ]
  },
  {
   "cell_type": "code",
   "execution_count": 67,
   "metadata": {},
   "outputs": [
    {
     "data": {
      "text/html": [
       "<span style=\"font-size:20px;\"><a class=\"ProveItLink\" href=\"../../ordering/__pv_it/theorems/d1323f34847310a404e8089c2c268d3c2eb89dbf0/expr.ipynb\"><img src=\"data:image/png;base64,iVBORw0KGgoAAAANSUhEUgAAADQAAAAQBAMAAACra0H4AAAAMFBMVEX///8AAAAAAAAAAAAAAAAA\n",
       "AAAAAAAAAAAAAAAAAAAAAAAAAAAAAAAAAAAAAAAAAAAv3aB7AAAAD3RSTlMAEHarMolUmd1mIs3v\n",
       "RLtmgJDEAAAACXBIWXMAAA7EAAAOxAGVKw4bAAAAyklEQVQY02NgwACce9797nnJgBXwcRnwWj7E\n",
       "IRXA8MAZp1QVN4qQXkfHBrgUH7LMbUUkXYbCQIaQskhoApDm2ohkIMuzXUBGAZMRewOQ5l6AkDrd\n",
       "3yQA9MUCzo/ME0BSSM6InAiylIWBHWw3g08HEDyAGvhwJliMRwFMySE73p1PAMS6v4ARRHMgS7F7\n",
       "AfXLXbBhYAUJMCkgSTE+0GRgyHesYbgGFtmGkCpgmMl3gUFcia0yASwi/FYAFvL/FvC9/oYcHFdf\n",
       "QAIKCgBACzQrtGfvLgAAAABJRU5ErkJggg==\n",
       "\" style=\"display:inline;vertical-align:middle;\" /></a> <a class=\"ProveItLink\" href=\"../__pv_it/demonstrations/37014b83f8a49109cdeb9966a32b9a3eb3c5bb7a0/proof.ipynb\" style=\"text-decoration: none\">&nbsp;&#x22A2;&nbsp;&nbsp;</a><a class=\"ProveItLink\" href=\"../__pv_it/demonstrations/8f8ea4280a681a46f52787e1588cc28fcf81fdcb0/expr.ipynb\"><img src=\"data:image/png;base64,iVBORw0KGgoAAAANSUhEUgAAAIAAAAAVBAMAAAB8u/sIAAAAMFBMVEX///8AAAAAAAAAAAAAAAAA\n",
       "AAAAAAAAAAAAAAAAAAAAAAAAAAAAAAAAAAAAAAAAAAAv3aB7AAAAD3RSTlMAIolEdjJmzRC73e+Z\n",
       "VKsux0h9AAAACXBIWXMAAA7EAAAOxAGVKw4bAAABd0lEQVQ4y2MQYMAKcAhjSAswKGNXoYzfAGUE\n",
       "A8KUTiDCAMZtuA2wP0CEAcx/cBvAQZQXGnAbQHEYUGRASIo7Y/UD1uqDLk9AQi1+rUoXMAxgdXMp\n",
       "EN/HEL5HxM8BYgBMnTLHBAYuBvYHDFxvGeJB0XuA5QnPAogBPKvA4AGQ2cnAsIChjoFh3QXWjxAD\n",
       "YOqUmXcwsDBwPmDg3MDAD4xMNgG2H3wJGC6wbmBwYJjHwDCbgeEb2AC4OmWG9VMEwAZMYOAHuo6V\n",
       "gacASxhw/XRkABkwk4HhC1gark6ZoWn9HyQDGBi4HbAYwKH1/wCKAXB1yowNDPkByAbYC3A0YISB\n",
       "BAPbVzQDoOqUeR0Y+BIQBnQavGZgwnTBFQaGZygGwNUp8+5g4BQA6maHGHA/4jSDLaYBtxsYJoJ0\n",
       "V8IMgKtTZlZxUWZ9va/1/b7Y+fsYGHpceI9dwDTAyMXJIG73i7jfT2/+fgCShqsbDEl5oA1wxa7C\n",
       "Fb8BcGlXANhfeoX0ewUhAAAAAElFTkSuQmCC\n",
       "\" style=\"display:inline;vertical-align:middle;\" /></a></span>"
      ],
      "text/plain": [
       "{x in Real} |- |sin(x)| = sin(|x|)"
      ]
     },
     "metadata": {},
     "output_type": "display_data"
    }
   ],
   "source": [
    "abs_value_sin_x.distribution(assumptions=[InSet(x, Real)])"
   ]
  },
  {
   "cell_type": "code",
   "execution_count": 68,
   "metadata": {},
   "outputs": [
    {
     "data": {
      "text/html": [
       "<span style=\"font-size:20px;\"><a class=\"ProveItLink\" href=\"../__pv_it/demonstrations/e7ea3ade6561bbbb858c02aa3be91f7305b5ebb50/expr.ipynb\"><img src=\"data:image/png;base64,iVBORw0KGgoAAAANSUhEUgAAADMAAAAQBAMAAABJt1qBAAAAMFBMVEX///8AAAAAAAAAAAAAAAAA\n",
       "AAAAAAAAAAAAAAAAAAAAAAAAAAAAAAAAAAAAAAAAAAAv3aB7AAAAD3RSTlMAEHarMolUmd1mIs3v\n",
       "RLtmgJDEAAAACXBIWXMAAA7EAAAOxAGVKw4bAAAA3UlEQVQY02NgwATZ50+/6DvJgA3omTBwM2zA\n",
       "KlXOwKDJmoBVyoqB8YEcqhDTi45uEC3AwO5ggiLDu0kAxnRmKQBRQsoioWCDV8NlGB7ygdkFTEbs\n",
       "DSDGLrgMW8AkEMW5gPMj8wQQC+FcqNNZGNghYiwnOjo6+sBMNdYLDIwgBo8CmM/4AKaJ8cE6Bgbm\n",
       "BUDW/QWMYEsbYFLMDlYMDPIMDHIXbBhYwSJKMCl3XqDTLRgY8h1rGK5BLIeFzUNuAYZ1eQwM4kps\n",
       "lRAxRruLEK+f2/PuzZ+nqMERBwkoKAAA5a8vMuYfrScAAAAASUVORK5CYII=\n",
       "\" style=\"display:inline;vertical-align:middle;\" /></a> <a class=\"ProveItLink\" href=\"../__pv_it/demonstrations/e7539233f3c41e641b1ee740d7ccf90aa130e7cf0/proof.ipynb\" style=\"text-decoration: none\">&nbsp;&#x22A2;&nbsp;&nbsp;</a><a class=\"ProveItLink\" href=\"../__pv_it/demonstrations/ffb2c19693b2d402cb7211d2d571d66727e6b2f70/expr.ipynb\"><img src=\"data:image/png;base64,iVBORw0KGgoAAAANSUhEUgAAAIYAAAAVBAMAAABxpYtPAAAAMFBMVEX///8AAAAAAAAAAAAAAAAA\n",
       "AAAAAAAAAAAAAAAAAAAAAAAAAAAAAAAAAAAAAAAAAAAv3aB7AAAAD3RSTlMAIolEdjIQmVTvzWbd\n",
       "u6sFjbCZAAAACXBIWXMAAA7EAAAOxAGVKw4bAAABqklEQVQ4y+3TvUvDQBgG8CdNc4221psUt9g6\n",
       "OIgEJzsZJSIoSFARBKFB1Exi1YKoHTII4tQKfoFLcXRScHCzOotV7H+gCOLkR62L6CWNOiSlk5s3\n",
       "HJf3Lj/ePFxA4T04VBn0dxGtcMQnVzGiv4t/408MI9IKkuyTMXLcz2pEvR9qdRtkPmLCUBcgDKjZ\n",
       "sjE5OMVqlsHtIqaNUxTIFUJsM4BBJeUYqQtrXFrLJpPfEs5Qp8wAubKR8N8FcrZRm8U6PQfiw9vw\n",
       "s80jnOqP7j4OIG6EJAjFmA7FNoI0+BY+tI1ZCRDegXopX7Aun4ZljzzIM5viJvAc+uguxyAgkHXy\n",
       "iDNVfGHG1US+ZJ/f9DCEVzalWfGDtH0mnExrFMeYTTh9zOk41ViRf8K0Kw9ScvooNSBYdIwuSvTv\n",
       "PGDusEKnAvZ55CacgeSVB8SaBPiXVeDRNmbkB/jKfXB78NExDfviNuooxKKR4U230XSIZmELtdK6\n",
       "jmvbSI8uofP7fiS7wc23y3yLyp5IUlk78bhjZFGlaIzcokPtkW3DUMUV8/+fcxu9FY74tSrGz4u9\n",
       "Xx8Ub8UAiNa1AAAAAElFTkSuQmCC\n",
       "\" style=\"display:inline;vertical-align:middle;\" /></a></span>"
      ],
      "text/plain": [
       "{x in Integer} |- |cos(x)| = cos(|x|)"
      ]
     },
     "metadata": {},
     "output_type": "display_data"
    }
   ],
   "source": [
    "abs_value_cos_x.distribution(assumptions=[InSet(x, Integer)])"
   ]
  },
  {
   "cell_type": "markdown",
   "metadata": {},
   "source": [
    "### Absolute value is an even function which is exploited in its canonical form"
   ]
  },
  {
   "cell_type": "code",
   "execution_count": 69,
   "metadata": {},
   "outputs": [
    {
     "data": {
      "text/plain": [
       "True"
      ]
     },
     "metadata": {},
     "output_type": "display_data"
    }
   ],
   "source": [
    "Abs(Add(a, Neg(b), Neg(c))).canonical_form() == Abs(Add(b, c, Neg(a))).canonical_form() "
   ]
  },
  {
   "cell_type": "code",
   "execution_count": 70,
   "metadata": {},
   "outputs": [
    {
     "data": {
      "text/html": [
       "<span style=\"font-size:20px;\"><a class=\"ProveItLink\" href=\"../__pv_it/theorems/e9f87a0977d5044ea8daf1040d2f219396bb3d5b0/expr.ipynb\"><img src=\"data:image/png;base64,iVBORw0KGgoAAAANSUhEUgAAADMAAAAQBAMAAABJt1qBAAAAMFBMVEX///8AAAAAAAAAAAAAAAAA\n",
       "AAAAAAAAAAAAAAAAAAAAAAAAAAAAAAAAAAAAAAAAAAAv3aB7AAAAD3RSTlMAIquJdkTvuxBmmd1U\n",
       "zTKBpmoTAAAACXBIWXMAAA7EAAAOxAGVKw4bAAAA0ElEQVQY02NgwAKaq+86PsYmwcCiNoFjfRVW\n",
       "qSXBDAycWKX4FlQASS0UMffduy8AKaaGAiDZiSwT6wGh2RkXQEUYlR0dwPQNqIAQnwGUFSbA/gNE\n",
       "8wpABR6zToAwODIZuDaApWAGS7E6QBhcHxi4wQY82w0EBWC7oAayFTD0B4AY7TBd7GAXAkG/A8N8\n",
       "MIMbJsUK9hcrUOoAgy4PyAUsDvDQCAISa4HaHXh2cYFF7sDDsHYhx2mg3zhU7IT8wCJNpQ2wkC/7\n",
       "vRA18IKrwQEFAwCqvi28/xxvKQAAAABJRU5ErkJggg==\n",
       "\" style=\"display:inline;vertical-align:middle;\" /></a>, <a class=\"ProveItLink\" href=\"../__pv_it/theorems/a259ec76dfb0a5be60b7c83d797520fa82c1dba60/expr.ipynb\"><img src=\"data:image/png;base64,iVBORw0KGgoAAAANSUhEUgAAADEAAAAQBAMAAABNQoq8AAAAMFBMVEX///8AAAAAAAAAAAAAAAAA\n",
       "AAAAAAAAAAAAAAAAAAAAAAAAAAAAAAAAAAAAAAAAAAAv3aB7AAAAD3RSTlMAELvv3c2ZVESJq3Yi\n",
       "MmZ3LnoBAAAACXBIWXMAAA7EAAAOxAGVKw4bAAAA2UlEQVQY02NgwASSKqF7bjIwMCo7oElwL37A\n",
       "mK8GZLAmoMlkdzIw8IFk+AtQJXgTFIHkMiDuF4AKbXJxCQBSXAIKQFIOiKdAJVo3QmgmHpjxUbuX\n",
       "gyieQCj/FO8ECIPxq4D8AZBDDkBlbnI8gDDYPzIwbwDJwFxwjGMDhMEWwMAP0n7ZBQgUwPZATWOZ\n",
       "wNAPcrcQTA8T2G0Q7+SD3M0Ck+EA+4cDKHOB0Q4cJhvgYdAFJFKBHnvABHF/ODzcVHMYS4BijCvz\n",
       "IAJSGrDAkFT+koMSYJ0q4NCBAQD6uylQEVfDpgAAAABJRU5ErkJggg==\n",
       "\" style=\"display:inline;vertical-align:middle;\" /></a>, <a class=\"ProveItLink\" href=\"../../addition/subtraction/__pv_it/theorems/b66b5547fa9b0b910f79351152926c658c2718190/expr.ipynb\"><img src=\"data:image/png;base64,iVBORw0KGgoAAAANSUhEUgAAADEAAAAQBAMAAABNQoq8AAAAMFBMVEX///8AAAAAAAAAAAAAAAAA\n",
       "AAAAAAAAAAAAAAAAAAAAAAAAAAAAAAAAAAAAAAAAAAAv3aB7AAAAD3RSTlMAiXZmMiLdVJm77xBE\n",
       "zatgdeJyAAAACXBIWXMAAA7EAAAOxAGVKw4bAAAAw0lEQVQY02NgwAQbp91VdcQizsD0yoC7fwY2\n",
       "maaDDAzM2GRYGmYDyRfIQpppaReAFN+GCUByM5LEWW0IzcnaABMSUnYAkqy3odw4FgEoK6yAA6Sd\n",
       "NwDKd+QxgLISGbgUQDIwIyJ4FCAMjt8Q2isNCCaA7YGaxjUBQu+E6eHcABXZD9XLBpPhAfuHh4GB\n",
       "H2jfAVCYKMDD4ByQ6AXaM4GBEeRqhuvwcJvbyl0G8pOgMcSL++ZsgIX1rG+tKAF2cBo4dGAAAHWD\n",
       "KgtwTxl0AAAAAElFTkSuQmCC\n",
       "\" style=\"display:inline;vertical-align:middle;\" /></a> <a class=\"ProveItLink\" href=\"../__pv_it/demonstrations/07e564b62d62f31e4a2ed6ba6492c6ec3a6721390/proof.ipynb\" style=\"text-decoration: none\">&nbsp;&#x22A2;&nbsp;&nbsp;</a><a class=\"ProveItLink\" href=\"../__pv_it/demonstrations/945bfe5d821dad7bc2c8f2db4c0fd99d9f46bc5d0/expr.ipynb\"><img src=\"data:image/png;base64,iVBORw0KGgoAAAANSUhEUgAAAM4AAAAVBAMAAAD8yMwbAAAAMFBMVEX///8AAAAAAAAAAAAAAAAA\n",
       "AAAAAAAAAAAAAAAAAAAAAAAAAAAAAAAAAAAAAAAAAAAv3aB7AAAAD3RSTlMAIolEdjKr77sQZpnd\n",
       "VM0QaojEAAAACXBIWXMAAA7EAAAOxAGVKw4bAAABu0lEQVRIx72Vv0vDQBTHX1NpG8/YDtLJodh2\n",
       "EYdujo3SDjrF/0BKVwXBoYhDB8HRTrqZDrq42LFIoSKogxHq7tDJyaFglwiKl18XXrzQa0BvKq+f\n",
       "3CeP+94LZEB0xSYWwlcG8sKsVJpUCF95rkc+vhXz8EFhD8x3BPvhguKe9EDQw8B4O4qn3BL0MFBR\n",
       "o3hWRHPAQBFPrLYWoN4qOwGwsKnxPAxkHqlyialsYcH1rGZSJs7bd0vH92pxQJqOp2dY68HNGwM9\n",
       "T+wZuujJ+B6ctGyPfAAEx1MxIYk7vKMFTj8+6HnmcrCPoLM29Jx+yMj6F+DcftN7+osMIZ1DBZN/\n",
       "Pi5IDOPx0DC2aa1vB0N+tx/VrIL1krYn2QQdb0G1ZZRsinA9Puj10wgmoAHyh+PRVbj+dX36KNm6\n",
       "yjzofHzQ9cjj4GgZw+zI9QxgV0HHntbomaECvYUlTj8+6PXzSU8eeb4gMXyxPSlVeSJog0Q7hecJ\n",
       "aYLEy7UPeh4atiKCjuC103HyVi9mq7jZ2k1gy6WrDe4cZaDnkZYv8Cw5Xd+qa2HzYPrvQrS5M70n\n",
       "2hz9p+/cX3iqwuyMNqkQvqo/+K2BjmaFGe8AAAAASUVORK5CYII=\n",
       "\" style=\"display:inline;vertical-align:middle;\" /></a></span>"
      ],
      "text/plain": [
       "{a in Complex, b in Complex, c in Complex} |- |a - b - c| = |b + c - a|"
      ]
     },
     "metadata": {},
     "output_type": "display_data"
    }
   ],
   "source": [
    "Equals(Abs(Add(a, Neg(b), Neg(c))), Abs(Add(b, c, Neg(a)))).prove(\n",
    "    assumptions=[InSet(a, Complex), InSet(b, Complex), InSet(c, Complex)])"
   ]
  },
  {
   "cell_type": "markdown",
   "metadata": {},
   "source": [
    "### Testing Expression simplification() on Abs() Objects"
   ]
  },
  {
   "cell_type": "code",
   "execution_count": 71,
   "metadata": {},
   "outputs": [
    {
     "data": {
      "text/html": [
       "<a class=\"ProveItLink\" href=\"../__pv_it/demonstrations/9da6ee63b3e544b3c139152be255039e61f96c740/expr.ipynb\"><img src=\"data:image/png;base64,iVBORw0KGgoAAAANSUhEUgAAADUAAAAVBAMAAAAUZLt1AAAAMFBMVEX///8AAAAAAAAAAAAAAAAA\n",
       "AAAAAAAAAAAAAAAAAAAAAAAAAAAAAAAAAAAAAAAAAAAv3aB7AAAAD3RSTlMAIolEdjLdEKuZze9m\n",
       "VLvSN3mcAAAACXBIWXMAAA7EAAAOxAGVKw4bAAAAnUlEQVQoz2MQYMABGBkYlHHJMRmA5cIK0LTM\n",
       "XBcAkWPvXI8mJ8fA9Bmmzx8mZwOhGhkYdmPIXYFQ+wsY+gVwyLUxMPQH4JADgnwGnHKsX3DLsTWg\n",
       "yk1LS9udlpYBlpvHgFMfTwNuuUsMjLj8wKrAwFIAldMXQJUTmzlzGtTMjv0rDqDI5f///wtmHxxc\n",
       "wYwjOLDBI8dAvJwrLjmWAAA1szGr/6hdrQAAAABJRU5ErkJggg==\n",
       "\" style=\"display:inline;vertical-align:middle;\" /></a>"
      ],
      "text/plain": [
       "|1 + 2|"
      ]
     },
     "metadata": {},
     "output_type": "display_data"
    }
   ],
   "source": [
    "abs_value_1_plus_2"
   ]
  },
  {
   "cell_type": "code",
   "execution_count": 72,
   "metadata": {},
   "outputs": [
    {
     "data": {
      "text/html": [
       "<span style=\"font-size:20px;\"> <a class=\"ProveItLink\" href=\"../__pv_it/demonstrations/c7871e72aeafe023cb0af08479417691214fbc700/proof.ipynb\" style=\"text-decoration: none\">&nbsp;&#x22A2;&nbsp;&nbsp;</a><a class=\"ProveItLink\" href=\"../__pv_it/demonstrations/80c188fa57b7e4d17032edb25b42c700cb28aaf20/expr.ipynb\"><img src=\"data:image/png;base64,iVBORw0KGgoAAAANSUhEUgAAAF0AAAAVBAMAAADWVP/xAAAAMFBMVEX///8AAAAAAAAAAAAAAAAA\n",
       "AAAAAAAAAAAAAAAAAAAAAAAAAAAAAAAAAAAAAAAAAAAv3aB7AAAAD3RSTlMAIolEdjLdEKuZze9m\n",
       "VLvSN3mcAAAACXBIWXMAAA7EAAAOxAGVKw4bAAAA60lEQVQoz2MQYMABGLELK+NSz2SAU31YAZrR\n",
       "M9cFYKpnVJpnAFLP3rkeTb0cA9NnTPWVDLx/Ieb7w9TbQKhGBobdmOr9L7D/QlN/BULtL2DoF8BQ\n",
       "b23AgEN9GwNDfwAW//L+wa4eCPKxhY/ZAVzqWb9A1U9LA4EMsGBIRwAu9WwN2MxHDR+gUbthRs3D\n",
       "Hl/AgMBqPk8DFvWhDAzvL2BXf4mBUQDD/f8LcKlnVWBgKcAwfwfcPfoCqOrFZs6chumeM7Dw79i/\n",
       "4gCK+vz//39hqmeeCUlvSOAKcekZDmxIVM9AffWuuNSzBGATBQDbvU1omM1tawAAAABJRU5ErkJg\n",
       "gg==\n",
       "\" style=\"display:inline;vertical-align:middle;\" /></a></span>"
      ],
      "text/plain": [
       "|- |1 + 2| = 3"
      ]
     },
     "metadata": {},
     "output_type": "display_data"
    }
   ],
   "source": [
    "abs_value_1_plus_2.simplification()"
   ]
  },
  {
   "cell_type": "code",
   "execution_count": 73,
   "metadata": {},
   "outputs": [
    {
     "data": {
      "text/html": [
       "<strong id=\"abs_value_neg_three\">abs_value_neg_three:</strong> <a class=\"ProveItLink\" href=\"../__pv_it/demonstrations/cd3b773d6957f98455b414628268021ee0ef57f00/expr.ipynb\"><img src=\"data:image/png;base64,iVBORw0KGgoAAAANSUhEUgAAACEAAAAVBAMAAAA6IZrnAAAAMFBMVEX///8AAAAAAAAAAAAAAAAA\n",
       "AAAAAAAAAAAAAAAAAAAAAAAAAAAAAAAAAAAAAAAAAAAv3aB7AAAAD3RSTlMAIolEdjIQzd2Zu1Tv\n",
       "Zqsr3aOxAAAACXBIWXMAAA7EAAAOxAGVKw4bAAAAaklEQVQY02MQYEABjAwMyqgiTAZIIoxKswxQ\n",
       "RTIZuH+jivhvYPuOKmJjwIAmwsDA/RddxOICmkjIuwAMXVC70jtAoBUkdD4BRU0oA8P6DSgi/xPQ\n",
       "Rc5h6LqL4R7mmeg+xQwNUkRcUUVYAgA1gR/andBUpwAAAABJRU5ErkJggg==\n",
       "\" style=\"display:inline;vertical-align:middle;\" /></a><br>"
      ],
      "text/plain": [
       "<IPython.core.display.HTML object>"
      ]
     },
     "metadata": {},
     "output_type": "display_data"
    }
   ],
   "source": [
    "abs_value_neg_three = Abs(Neg(three))"
   ]
  },
  {
   "cell_type": "code",
   "execution_count": 74,
   "metadata": {},
   "outputs": [
    {
     "data": {
      "text/html": [
       "<span style=\"font-size:20px;\"> <a class=\"ProveItLink\" href=\"../__pv_it/demonstrations/725a929ffa7c4a2c13554fc5cf5d3e117a99ceb70/proof.ipynb\" style=\"text-decoration: none\">&nbsp;&#x22A2;&nbsp;&nbsp;</a><a class=\"ProveItLink\" href=\"../__pv_it/demonstrations/63a663211961c56dbdf8bfed2fad9270ced7901a0/expr.ipynb\"><img src=\"data:image/png;base64,iVBORw0KGgoAAAANSUhEUgAAAEkAAAAVBAMAAAD4Ed5jAAAAMFBMVEX///8AAAAAAAAAAAAAAAAA\n",
       "AAAAAAAAAAAAAAAAAAAAAAAAAAAAAAAAAAAAAAAAAAAv3aB7AAAAD3RSTlMAIolEdjIQzd2Zu1Tv\n",
       "Zqsr3aOxAAAACXBIWXMAAA7EAAAOxAGVKw4bAAAAqklEQVQoz2MQYEABjAxYgTIql8mAgCpGpVkG\n",
       "mKrAokiqMhm4f2OqAosiqfLfwPYdUxVYFEmVjQEDFlVgURTXc//F5nqgKIoqiwvYVAFFkVWFvAuA\n",
       "qprRAQJ9cFFUG39jtRHsx3SwxlaQwPkEbKF6PgHJrFAGhvUbMFSBRZFU/U+Aq0JyF1gUSdU5rDae\n",
       "Q7PxLtbwuosWXswzscU2WJTklEMvVa6oXJYAbIoAO288wtQHRVAAAAAASUVORK5CYII=\n",
       "\" style=\"display:inline;vertical-align:middle;\" /></a></span>"
      ],
      "text/plain": [
       "|- |-3| = 3"
      ]
     },
     "metadata": {},
     "output_type": "display_data"
    }
   ],
   "source": [
    "# an example suggesting we modify the do_reduced_simplification()\n",
    "# to be on the lookout for double negation results?\n",
    "abs_value_neg_three.simplification()"
   ]
  },
  {
   "cell_type": "code",
   "execution_count": 75,
   "metadata": {},
   "outputs": [
    {
     "data": {
      "text/html": [
       "<span style=\"font-size:20px;\"> <a class=\"ProveItLink\" href=\"../__pv_it/demonstrations/725a929ffa7c4a2c13554fc5cf5d3e117a99ceb70/proof.ipynb\" style=\"text-decoration: none\">&nbsp;&#x22A2;&nbsp;&nbsp;</a><a class=\"ProveItLink\" href=\"../__pv_it/demonstrations/63a663211961c56dbdf8bfed2fad9270ced7901a0/expr.ipynb\"><img src=\"data:image/png;base64,iVBORw0KGgoAAAANSUhEUgAAAEkAAAAVBAMAAAD4Ed5jAAAAMFBMVEX///8AAAAAAAAAAAAAAAAA\n",
       "AAAAAAAAAAAAAAAAAAAAAAAAAAAAAAAAAAAAAAAAAAAv3aB7AAAAD3RSTlMAIolEdjIQzd2Zu1Tv\n",
       "Zqsr3aOxAAAACXBIWXMAAA7EAAAOxAGVKw4bAAAAqklEQVQoz2MQYEABjAxYgTIql8mAgCpGpVkG\n",
       "mKrAokiqMhm4f2OqAosiqfLfwPYdUxVYFEmVjQEDFlVgURTXc//F5nqgKIoqiwvYVAFFkVWFvAuA\n",
       "qprRAQJ9cFFUG39jtRHsx3SwxlaQwPkEbKF6PgHJrFAGhvUbMFSBRZFU/U+Aq0JyF1gUSdU5rDae\n",
       "Q7PxLtbwuosWXswzscU2WJTklEMvVa6oXJYAbIoAO288wtQHRVAAAAAASUVORK5CYII=\n",
       "\" style=\"display:inline;vertical-align:middle;\" /></a></span>"
      ],
      "text/plain": [
       "|- |-3| = 3"
      ]
     },
     "metadata": {},
     "output_type": "display_data"
    }
   ],
   "source": [
    "# we can simplify the double negation manually with a little work\n",
    "abs_value_neg_three.simplification().inner_expr().rhs.simplify()"
   ]
  },
  {
   "cell_type": "code",
   "execution_count": 76,
   "metadata": {},
   "outputs": [
    {
     "data": {
      "text/html": [
       "<span style=\"font-size:20px;\"> <a class=\"ProveItLink\" href=\"../__pv_it/demonstrations/725a929ffa7c4a2c13554fc5cf5d3e117a99ceb70/proof.ipynb\" style=\"text-decoration: none\">&nbsp;&#x22A2;&nbsp;&nbsp;</a><a class=\"ProveItLink\" href=\"../__pv_it/demonstrations/63a663211961c56dbdf8bfed2fad9270ced7901a0/expr.ipynb\"><img src=\"data:image/png;base64,iVBORw0KGgoAAAANSUhEUgAAAEkAAAAVBAMAAAD4Ed5jAAAAMFBMVEX///8AAAAAAAAAAAAAAAAA\n",
       "AAAAAAAAAAAAAAAAAAAAAAAAAAAAAAAAAAAAAAAAAAAv3aB7AAAAD3RSTlMAIolEdjIQzd2Zu1Tv\n",
       "Zqsr3aOxAAAACXBIWXMAAA7EAAAOxAGVKw4bAAAAqklEQVQoz2MQYEABjAxYgTIql8mAgCpGpVkG\n",
       "mKrAokiqMhm4f2OqAosiqfLfwPYdUxVYFEmVjQEDFlVgURTXc//F5nqgKIoqiwvYVAFFkVWFvAuA\n",
       "qprRAQJ9cFFUG39jtRHsx3SwxlaQwPkEbKF6PgHJrFAGhvUbMFSBRZFU/U+Aq0JyF1gUSdU5rDae\n",
       "Q7PxLtbwuosWXswzscU2WJTklEMvVa6oXJYAbIoAO288wtQHRVAAAAAASUVORK5CYII=\n",
       "\" style=\"display:inline;vertical-align:middle;\" /></a></span>"
      ],
      "text/plain": [
       "|- |-3| = 3"
      ]
     },
     "metadata": {},
     "output_type": "display_data"
    }
   ],
   "source": [
    "# after which the system now knows:\n",
    "abs_value_neg_three.simplification()"
   ]
  },
  {
   "cell_type": "code",
   "execution_count": 77,
   "metadata": {},
   "outputs": [
    {
     "data": {
      "text/html": [
       "<span style=\"font-size:20px;\"><a class=\"ProveItLink\" href=\"../__pv_it/demonstrations/695db39f491ebc02b33408c30a8bc4c5e55a1c4c0/expr.ipynb\"><img src=\"data:image/png;base64,iVBORw0KGgoAAAANSUhEUgAAAGEAAAAVBAMAAACkm51HAAAAMFBMVEX///8AAAAAAAAAAAAAAAAA\n",
       "AAAAAAAAAAAAAAAAAAAAAAAAAAAAAAAAAAAAAAAAAAAv3aB7AAAAD3RSTlMAInZUiRDNmWbv3US7\n",
       "qzJazP2FAAAACXBIWXMAAA7EAAAOxAGVKw4bAAABlklEQVQ4y3VTPUjDQBT+Yoxp2mgzC8LVRSgo\n",
       "GaRrM+hSVDI5iNAugovQQpVudhO7tKMoSMVBzCQOglOr4CAo+FOdO7vYwerqS9qkXJu74b277933\n",
       "/u4dAAPhS4RjzBQYrkWMxRBMeayTq/IIvjRHgZVcmJuJPImtEdRUzgCV8xTrn+JuqgfDjAqwAmgc\n",
       "JrOebtgkNFdgfeDyGUjbSIUyMl4S3l0lw3zrH/Btokg7qZVgPGNn9h0Yf+kdksv9friMMrZpe2vo\n",
       "XY6h/NpZAxG/KZVdT0k/xGA4J/sR1DrHkLvQGOSan06qEDAsnFC7OohahKiOc3nsOJSLmkPcwlQn\n",
       "qO/mw41MjAZzGVoT2SsuBjlomIjVBoyHfuVp080qy1Dle0XPsW9DrgdZvXrqCajauCeGiU/Z4Bht\n",
       "qg2Rpl95oacPgT1gFdCZfKFyMSbLOo2JavHdRdRUToEvquhtbWaB726r5F7wilOSwQsqxfk2we2w\n",
       "N/fWtCc3hkc4kg+bRG+VBP/jTvRxpKbAsCli6KJvKzGBIREO/wOfdVSCWt0TmgAAAABJRU5ErkJg\n",
       "gg==\n",
       "\" style=\"display:inline;vertical-align:middle;\" /></a> <a class=\"ProveItLink\" href=\"../__pv_it/demonstrations/8282533a05ed4d31016d74640bc3e2fa0ac25b020/proof.ipynb\" style=\"text-decoration: none\">&nbsp;&#x22A2;&nbsp;&nbsp;</a><a class=\"ProveItLink\" href=\"../__pv_it/demonstrations/bd891d2ef2966d747ddcedb0fc0af3077e04bea10/expr.ipynb\"><img src=\"data:image/png;base64,iVBORw0KGgoAAAANSUhEUgAAAI4AAAAVBAMAAABicsu7AAAAMFBMVEX///8AAAAAAAAAAAAAAAAA\n",
       "AAAAAAAAAAAAAAAAAAAAAAAAAAAAAAAAAAAAAAAAAAAv3aB7AAAAD3RSTlMAIolEdjKr77sQZpnd\n",
       "VM0QaojEAAAACXBIWXMAAA7EAAAOxAGVKw4bAAABu0lEQVQ4y5WUv0vDQBTHX39gG9O0mcSxIHbR\n",
       "oVvBpRGsg1P/AEEpnQRdFETpoCA4uGTSbunopMVRRIOCDkYIIriIdhLURQWHDhXftTm5M++EHuSO\n",
       "XL588r137z0wQTEi4S3zH+mIihPN/92J+wppzKI52rZLcW4pRr2G04zCT7pJcLQWaeaN6W2ZMxGs\n",
       "GZ/g6A3pLPytg89gU+bcBWvRJjgJ6c2wAl6bzWs0Z5yK8yPJibpsfmWcSGXSkjnPU4thzhGIUs5J\n",
       "V6cxCDnGKZjJtsTRvm3H7HJ0rzvme/8UpZzjvGgfAAfI0dZBdyWO0YaEFfJzA6KUc55sWAG4R47+\n",
       "Dqks7px43qrnXTIXLchkQ5xl+JWizataz+YpwCfAHHISG+DkJT+oLfoUR5ByP+cQw5svIMex4FC+\n",
       "L0yfMzsUHzyXIOWcDugYsQfG8WHJMCVOGQMR8rMFopRzvmAPM3IfOUnLuNYlPwONZDPMyYEo5ZwF\n",
       "2OnmBN5XdXSoJN975ZjIw1kQpZyzO8YK5ILOZ7JvpMpUPvcakEvXKcnBYqTqNCjhPvrYpkoKw331\n",
       "w7qSg38oqb7Fy6E2bKmkJvwArdd8rXzht6YAAAAASUVORK5CYII=\n",
       "\" style=\"display:inline;vertical-align:middle;\" /></a></span>"
      ],
      "text/plain": [
       "{(a + b) > 0} |- |a + b| = (a + b)"
      ]
     },
     "metadata": {},
     "output_type": "display_data"
    }
   ],
   "source": [
    "# see if we can catch these in the do_reduced_simplification …\n",
    "# add a greater(x, zero) or greater_eq(x, zero) to the routine\n",
    "abs_value_a_plus_b.simplification(\n",
    "    assumptions=[InSet(Add(a, b), Real), greater(Add(a, b), zero)])"
   ]
  },
  {
   "cell_type": "code",
   "execution_count": 78,
   "metadata": {},
   "outputs": [
    {
     "data": {
      "text/html": [
       "<span style=\"font-size:20px;\"><a class=\"ProveItLink\" href=\"../../addition/__pv_it/theorems/5a0c211ed8c0f89e15d717d80d4627baae693acb0/expr.ipynb\"><img src=\"data:image/png;base64,iVBORw0KGgoAAAANSUhEUgAAAD8AAAATBAMAAADVH8ihAAAAMFBMVEX///8AAAAAAAAAAAAAAAAA\n",
       "AAAAAAAAAAAAAAAAAAAAAAAAAAAAAAAAAAAAAAAAAAAv3aB7AAAAD3RSTlMAIquJdkTvuxBmmd1U\n",
       "zTKBpmoTAAAACXBIWXMAAA7EAAAOxAGVKw4bAAAA3UlEQVQoz2NgwAO4GAgAdjIVzE2vv50+AZ8J\n",
       "BUIMQdMb8CkQZmDnU2BYXl5WXj4BhwIugQtYTHDfvfsCXEEBpoJYD4QJTB0KcAWMyo4OYPoGkhXP\n",
       "zwrAFYQJsP8A0bwCcAVit397wEOSI5OBawNYAZIjZ/YihfcHBm4DEOPZbiAogChg70R4j62AoT8A\n",
       "xGhHMoFvQQWc1+/AMB/M4EYOh3XiCAUHGHR5QO5jcUBS0M4Ct4PdgWcXJN7vwBVIMXBOKIXxOFTs\n",
       "hPzArKbSBlhsFjKU3z+AGQfB1ZCgRgEAfyQ4BfovW/4AAAAASUVORK5CYII=\n",
       "\" style=\"display:inline;vertical-align:middle;\" /></a>, <a class=\"ProveItLink\" href=\"../../addition/__pv_it/theorems/b9cae19a628b9412bdeba3850806ec1015c9b6ae0/expr.ipynb\"><img src=\"data:image/png;base64,iVBORw0KGgoAAAANSUhEUgAAAD0AAAATBAMAAADR6hicAAAAMFBMVEX///8AAAAAAAAAAAAAAAAA\n",
       "AAAAAAAAAAAAAAAAAAAAAAAAAAAAAAAAAAAAAAAAAAAv3aB7AAAAD3RSTlMAELvv3c2ZVESJq3Yi\n",
       "MmZ3LnoBAAAACXBIWXMAAA7EAAAOxAGVKw4bAAAA6ElEQVQoz2NgwA3YGPADJrLknxrphxg9gMsz\n",
       "KjugKVA4xdD1SACunzUBXf4kAxPvAoYkJWUlJaA5/AWY8mwHAuD6+wWg4ptcXALg8gpw+SlQ6daN\n",
       "CP1cggvg8lG7l4MonkAk8y+VHoC7/6uAPIjDegAufzjky0Z4+LF/ZGDeAJJHct87UaRADmDgnwCk\n",
       "L7sAgQJEnknuAVyeZQJDP8iHQkj6eRMU4Tyg9/NBPmRB9n/uIYT8BUY7EM29AUleiBtuAdcDJkgA\n",
       "h8PljzHwPdCA8RhX5kEYUhoCsPjTYVCKL8CI2E4VSPiiAAC5IjjtCVE78gAAAABJRU5ErkJggg==\n",
       "\" style=\"display:inline;vertical-align:middle;\" /></a> <a class=\"ProveItLink\" href=\"../__pv_it/demonstrations/9c673bae8638db232fc7d997ec03ff76bb63d0010/proof.ipynb\" style=\"text-decoration: none\">&nbsp;&#x22A2;&nbsp;&nbsp;</a><a class=\"ProveItLink\" href=\"../__pv_it/demonstrations/bd891d2ef2966d747ddcedb0fc0af3077e04bea10/expr.ipynb\"><img src=\"data:image/png;base64,iVBORw0KGgoAAAANSUhEUgAAAI4AAAAVBAMAAABicsu7AAAAMFBMVEX///8AAAAAAAAAAAAAAAAA\n",
       "AAAAAAAAAAAAAAAAAAAAAAAAAAAAAAAAAAAAAAAAAAAv3aB7AAAAD3RSTlMAIolEdjKr77sQZpnd\n",
       "VM0QaojEAAAACXBIWXMAAA7EAAAOxAGVKw4bAAABu0lEQVQ4y5WUv0vDQBTHX39gG9O0mcSxIHbR\n",
       "oVvBpRGsg1P/AEEpnQRdFETpoCA4uGTSbunopMVRRIOCDkYIIriIdhLURQWHDhXftTm5M++EHuSO\n",
       "XL588r137z0wQTEi4S3zH+mIihPN/92J+wppzKI52rZLcW4pRr2G04zCT7pJcLQWaeaN6W2ZMxGs\n",
       "GZ/g6A3pLPytg89gU+bcBWvRJjgJ6c2wAl6bzWs0Z5yK8yPJibpsfmWcSGXSkjnPU4thzhGIUs5J\n",
       "V6cxCDnGKZjJtsTRvm3H7HJ0rzvme/8UpZzjvGgfAAfI0dZBdyWO0YaEFfJzA6KUc55sWAG4R47+\n",
       "Dqks7px43qrnXTIXLchkQ5xl+JWizataz+YpwCfAHHISG+DkJT+oLfoUR5ByP+cQw5svIMex4FC+\n",
       "L0yfMzsUHzyXIOWcDugYsQfG8WHJMCVOGQMR8rMFopRzvmAPM3IfOUnLuNYlPwONZDPMyYEo5ZwF\n",
       "2OnmBN5XdXSoJN975ZjIw1kQpZyzO8YK5ILOZ7JvpMpUPvcakEvXKcnBYqTqNCjhPvrYpkoKw331\n",
       "w7qSg38oqb7Fy6E2bKmkJvwArdd8rXzht6YAAAAASUVORK5CYII=\n",
       "\" style=\"display:inline;vertical-align:middle;\" /></a></span>"
      ],
      "text/plain": [
       "{a in RealPos, b in RealPos} |- |a + b| = (a + b)"
      ]
     },
     "metadata": {},
     "output_type": "display_data"
    }
   ],
   "source": [
    "abs_value_a_plus_b.simplification(\n",
    "    assumptions=[InSet(a, RealPos), InSet(b, RealPos)])"
   ]
  },
  {
   "cell_type": "code",
   "execution_count": 79,
   "metadata": {},
   "outputs": [
    {
     "data": {
      "text/html": [
       "<span style=\"font-size:20px;\"><a class=\"ProveItLink\" href=\"../../addition/__pv_it/theorems/96d3bc490053a9cc7159a4a275658c0676aaf4e60/expr.ipynb\"><img src=\"data:image/png;base64,iVBORw0KGgoAAAANSUhEUgAAAHAAAAAXBAMAAAAhP9aaAAAAMFBMVEX///8AAAAAAAAAAAAAAAAA\n",
       "AAAAAAAAAAAAAAAAAAAAAAAAAAAAAAAAAAAAAAAAAAAv3aB7AAAAD3RSTlMAInZUiRDNmWbv3US7\n",
       "qzJazP2FAAAACXBIWXMAAA7EAAAOxAGVKw4bAAABvklEQVQ4y2NgIAcUMJAJDoBJARyyAgQ0Mhng\n",
       "kN2ExufIPPNt5QmERhMselhPLgCa2IAmysN4gfvGUZhG1gRstrGBvJ+KodGB4cBbBvYzZ+acOcHA\n",
       "jmIuN5THD3J/OxaNhWwwGzlR5JgVIPT+AJBUAISjs2pVAlwjD0yjGVaNXmD3Qqzfpopk49VYmMYS\n",
       "IGa8oqiAqjFX6TIDA8sFEJMxFcmpfIcTYRozgHinAM9XFI2s3wLiBRg4wA5kE0BonLZ+UQAs5SwG\n",
       "KpvBwL4ARSPzVwZOBQbmCWCNSIHj0YqIg9kMDOwfGLgcgEz2VatWzlq1CuhA9gQGfgcGvg8gBS9X\n",
       "AcEBqFOPdiBr5DzAEL8BxUagOfsNGLjBNsYgR8dzngAYD+jUeAWGftRQBUZjfQADM9j9XMga2R8e\n",
       "gPEOATUaMFxjFkDR+ADobwYOSFpWQNLIekADxvMFCigwL2dHsZG3gQcYcOwOYE4yQmMBQwcP1FMM\n",
       "r4CheslPVg81Oq5UgBwJURN7OgCWO/4I8Bz7DNXI9QBbygEDKSi95dQqLDmBowBbIgeDCvzFwEFc\n",
       "EowH8GuMwSXBI4BfI6MCDglFvNoA3XppiEyPk9cAAAAASUVORK5CYII=\n",
       "\" style=\"display:inline;vertical-align:middle;\" /></a> <a class=\"ProveItLink\" href=\"../__pv_it/demonstrations/e00f886cf2163124922826051d496c0f5b4fa9fe0/proof.ipynb\" style=\"text-decoration: none\">&nbsp;&#x22A2;&nbsp;&nbsp;</a><a class=\"ProveItLink\" href=\"../__pv_it/demonstrations/bd891d2ef2966d747ddcedb0fc0af3077e04bea10/expr.ipynb\"><img src=\"data:image/png;base64,iVBORw0KGgoAAAANSUhEUgAAAI4AAAAVBAMAAABicsu7AAAAMFBMVEX///8AAAAAAAAAAAAAAAAA\n",
       "AAAAAAAAAAAAAAAAAAAAAAAAAAAAAAAAAAAAAAAAAAAv3aB7AAAAD3RSTlMAIolEdjKr77sQZpnd\n",
       "VM0QaojEAAAACXBIWXMAAA7EAAAOxAGVKw4bAAABu0lEQVQ4y5WUv0vDQBTHX39gG9O0mcSxIHbR\n",
       "oVvBpRGsg1P/AEEpnQRdFETpoCA4uGTSbunopMVRRIOCDkYIIriIdhLURQWHDhXftTm5M++EHuSO\n",
       "XL588r137z0wQTEi4S3zH+mIihPN/92J+wppzKI52rZLcW4pRr2G04zCT7pJcLQWaeaN6W2ZMxGs\n",
       "GZ/g6A3pLPytg89gU+bcBWvRJjgJ6c2wAl6bzWs0Z5yK8yPJibpsfmWcSGXSkjnPU4thzhGIUs5J\n",
       "V6cxCDnGKZjJtsTRvm3H7HJ0rzvme/8UpZzjvGgfAAfI0dZBdyWO0YaEFfJzA6KUc55sWAG4R47+\n",
       "Dqks7px43qrnXTIXLchkQ5xl+JWizataz+YpwCfAHHISG+DkJT+oLfoUR5ByP+cQw5svIMex4FC+\n",
       "L0yfMzsUHzyXIOWcDugYsQfG8WHJMCVOGQMR8rMFopRzvmAPM3IfOUnLuNYlPwONZDPMyYEo5ZwF\n",
       "2OnmBN5XdXSoJN975ZjIw1kQpZyzO8YK5ILOZ7JvpMpUPvcakEvXKcnBYqTqNCjhPvrYpkoKw331\n",
       "w7qSg38oqb7Fy6E2bKmkJvwArdd8rXzht6YAAAAASUVORK5CYII=\n",
       "\" style=\"display:inline;vertical-align:middle;\" /></a></span>"
      ],
      "text/plain": [
       "{(a + b) in RealPos} |- |a + b| = (a + b)"
      ]
     },
     "metadata": {},
     "output_type": "display_data"
    }
   ],
   "source": [
    "abs_value_a_plus_b.simplification(\n",
    "    assumptions=[InSet(Add(a,b), RealPos)])"
   ]
  },
  {
   "cell_type": "code",
   "execution_count": 80,
   "metadata": {},
   "outputs": [
    {
     "data": {
      "text/html": [
       "<a class=\"ProveItLink\" href=\"../__pv_it/demonstrations/37e71984c583d0e95189e1a5af517ee2962756640/expr.ipynb\"><img src=\"data:image/png;base64,iVBORw0KGgoAAAANSUhEUgAAACoAAAAVBAMAAADCwWEQAAAAMFBMVEX///8AAAAAAAAAAAAAAAAA\n",
       "AAAAAAAAAAAAAAAAAAAAAAAAAAAAAAAAAAAAAAAAAAAv3aB7AAAAD3RSTlMAIolEdjKr77sQZpnd\n",
       "VM0QaojEAAAACXBIWXMAAA7EAAAOxAGVKw4bAAAApklEQVQY02MQYMAEAgzKWESV0UVn1GATZXiN\n",
       "VfQvNlHmn9hEmQ7ARMVUROCifCluF8CizIUM/RNgovNfcn4Ei05fwLAHrvb+BIYSsOh+BoZDYGUP\n",
       "gMQ+BoZPYNEKBs7PIFGeDQwgeea/IFHOLwxcH5Ccy/0TLPqXge3BRZjoV5A1IBNaGO5s2AATzWLo\n",
       "hrh3mlNgSgBMdJr2AmzhgDUkyRB1xSLqCgD8SizOQ7JwAQAAAABJRU5ErkJggg==\n",
       "\" style=\"display:inline;vertical-align:middle;\" /></a>"
      ],
      "text/plain": [
       "|a * b|"
      ]
     },
     "metadata": {},
     "output_type": "display_data"
    }
   ],
   "source": [
    "abs_value_a_times_b"
   ]
  },
  {
   "cell_type": "code",
   "execution_count": 81,
   "metadata": {},
   "outputs": [
    {
     "data": {
      "text/html": [
       "<span style=\"font-size:20px;\"><a class=\"ProveItLink\" href=\"../__pv_it/demonstrations/3ed34b3b1ec21e2c8d5cb4b30cba49d6c3fcaec60/expr.ipynb\"><img src=\"data:image/png;base64,iVBORw0KGgoAAAANSUhEUgAAAGYAAAAXBAMAAAALjyc1AAAAMFBMVEX///8AAAAAAAAAAAAAAAAA\n",
       "AAAAAAAAAAAAAAAAAAAAAAAAAAAAAAAAAAAAAAAAAAAv3aB7AAAAD3RSTlMAInZUiRDNmWbv3US7\n",
       "qzJazP2FAAAACXBIWXMAAA7EAAAOxAGVKw4bAAABqUlEQVQ4y2NgIBEUMJAODoBJAUwJAQJ6mAww\n",
       "JTah8Tkyz3xbeQKhxwRVmvXkAqA5DWiaeBgvcN84CtPDmoAmzQbyZSqGHgeGA28Z2M+cmXPmBAM7\n",
       "upH8ILe2Y9FTyAazhxPdL/sDQKIBEI7OqlUJcD08MD1m6Hq8wA6E2L5NFcmeq7EwPSVAzHhFUQGu\n",
       "J1fpMgMDywUQkzEVyW18hxNhejKAeKcAz1d4uH0LiBdg4AC7iE0AoWfa+kUBsHSwGKhsBgP7Apgs\n",
       "81cGTgUG5glgPUhh4NGKCODZDAzsHxi4HMBWAAn2BAZ+Bwa+DyC5l6uA4ADUbUc7kPVwHmCI3wBi\n",
       "LwdioO79BgzcYHtikMP6OU8AjAd0W7wCQz9y9NQHMDCD3cqFrIf94QEY7xBQjwHDNWaYd/kfAL3H\n",
       "wAFJigpIelgPaMB4vkABBebl7DA+bwMPMGjYHcCcZISeAoYOng1Q3iug3y/5yerBw/pKBchVEOnY\n",
       "0wGwdP1HgOfYZ6gargfYcokUlN5yalUCpiwH1sxagT+zHsQixngAv54YLGI8Avj1MCpgiini1QEA\n",
       "VRlj0eKHGVsAAAAASUVORK5CYII=\n",
       "\" style=\"display:inline;vertical-align:middle;\" /></a> <a class=\"ProveItLink\" href=\"../__pv_it/demonstrations/a3fed7fb3e3601938e4b58b1b4513662e75d6a840/proof.ipynb\" style=\"text-decoration: none\">&nbsp;&#x22A2;&nbsp;&nbsp;</a><a class=\"ProveItLink\" href=\"../__pv_it/demonstrations/fe935a771c114d0eb523f2ae8a32c688e8db831a0/expr.ipynb\"><img src=\"data:image/png;base64,iVBORw0KGgoAAAANSUhEUgAAAHkAAAAVBAMAAACQ4lxbAAAAMFBMVEX///8AAAAAAAAAAAAAAAAA\n",
       "AAAAAAAAAAAAAAAAAAAAAAAAAAAAAAAAAAAAAAAAAAAv3aB7AAAAD3RSTlMAIolEdjKr77sQZpnd\n",
       "VM0QaojEAAAACXBIWXMAAA7EAAAOxAGVKw4bAAABS0lEQVQ4y42UPUvDUBSG39RovptMTg4B0cmh\n",
       "g+DYFOzeH+BQiqsiuDlFEFwzuiW7g8Wxi9mrEPwBkknQqWsX8d5Ag3jeIReyvDxPTu45uRcR5DJk\n",
       "FPFon9i9wf/ErCR1LG3nvmT2O6HMQtbuz4nt1ITCl7TDitheQSg8SnuYEdsCoWBlwj5iXfsAodAv\n",
       "tG3MRkmbf55eSPsZhEJvqu2TyF63/fnJ8qixvddmTXX6DULBrZXt3MArN3mwhpWI2m8gFIIrZXsr\n",
       "+HHzQl2xRhgL+xqEwvZK2VaKvMGX6lHEsGK2pLCla+cJnv4O8iUT+1ZfLikEpbYrXAabUxBO1AZF\n",
       "7TsQCm6qbDsJlt6G2ynsubQPQSh4se75+cHuuJ3FbEH+ljMQCv6g2wn1J4TCXsfz7c6Zveh6O9yy\n",
       "Gyjtaj8QylYTGJPcFNs0EkmNgF8La2RHla6yaQAAAABJRU5ErkJggg==\n",
       "\" style=\"display:inline;vertical-align:middle;\" /></a></span>"
      ],
      "text/plain": [
       "{(a * b) in RealPos} |- |a * b| = (a * b)"
      ]
     },
     "metadata": {},
     "output_type": "display_data"
    }
   ],
   "source": [
    "abs_value_a_times_b.simplification(\n",
    "    assumptions=[InSet(Mult(a,b), RealPos)])"
   ]
  },
  {
   "cell_type": "code",
   "execution_count": 82,
   "metadata": {},
   "outputs": [
    {
     "data": {
      "text/html": [
       "<span style=\"font-size:20px;\"><a class=\"ProveItLink\" href=\"../../addition/__pv_it/theorems/5a0c211ed8c0f89e15d717d80d4627baae693acb0/expr.ipynb\"><img src=\"data:image/png;base64,iVBORw0KGgoAAAANSUhEUgAAAD8AAAATBAMAAADVH8ihAAAAMFBMVEX///8AAAAAAAAAAAAAAAAA\n",
       "AAAAAAAAAAAAAAAAAAAAAAAAAAAAAAAAAAAAAAAAAAAv3aB7AAAAD3RSTlMAIquJdkTvuxBmmd1U\n",
       "zTKBpmoTAAAACXBIWXMAAA7EAAAOxAGVKw4bAAAA3UlEQVQoz2NgwAO4GAgAdjIVzE2vv50+AZ8J\n",
       "BUIMQdMb8CkQZmDnU2BYXl5WXj4BhwIugQtYTHDfvfsCXEEBpoJYD4QJTB0KcAWMyo4OYPoGkhXP\n",
       "zwrAFYQJsP8A0bwCcAVit397wEOSI5OBawNYAZIjZ/YihfcHBm4DEOPZbiAogChg70R4j62AoT8A\n",
       "xGhHMoFvQQWc1+/AMB/M4EYOh3XiCAUHGHR5QO5jcUBS0M4Ct4PdgWcXJN7vwBVIMXBOKIXxOFTs\n",
       "hPzArKbSBlhsFjKU3z+AGQfB1ZCgRgEAfyQ4BfovW/4AAAAASUVORK5CYII=\n",
       "\" style=\"display:inline;vertical-align:middle;\" /></a>, <a class=\"ProveItLink\" href=\"../../addition/__pv_it/theorems/b9cae19a628b9412bdeba3850806ec1015c9b6ae0/expr.ipynb\"><img src=\"data:image/png;base64,iVBORw0KGgoAAAANSUhEUgAAAD0AAAATBAMAAADR6hicAAAAMFBMVEX///8AAAAAAAAAAAAAAAAA\n",
       "AAAAAAAAAAAAAAAAAAAAAAAAAAAAAAAAAAAAAAAAAAAv3aB7AAAAD3RSTlMAELvv3c2ZVESJq3Yi\n",
       "MmZ3LnoBAAAACXBIWXMAAA7EAAAOxAGVKw4bAAAA6ElEQVQoz2NgwA3YGPADJrLknxrphxg9gMsz\n",
       "KjugKVA4xdD1SACunzUBXf4kAxPvAoYkJWUlJaA5/AWY8mwHAuD6+wWg4ptcXALg8gpw+SlQ6daN\n",
       "CP1cggvg8lG7l4MonkAk8y+VHoC7/6uAPIjDegAufzjky0Z4+LF/ZGDeAJJHct87UaRADmDgnwCk\n",
       "L7sAgQJEnknuAVyeZQJDP8iHQkj6eRMU4Tyg9/NBPmRB9n/uIYT8BUY7EM29AUleiBtuAdcDJkgA\n",
       "h8PljzHwPdCA8RhX5kEYUhoCsPjTYVCKL8CI2E4VSPiiAAC5IjjtCVE78gAAAABJRU5ErkJggg==\n",
       "\" style=\"display:inline;vertical-align:middle;\" /></a> <a class=\"ProveItLink\" href=\"../__pv_it/demonstrations/8a6726123a2f364645efe8b4c37f847d7014d9af0/proof.ipynb\" style=\"text-decoration: none\">&nbsp;&#x22A2;&nbsp;&nbsp;</a><a class=\"ProveItLink\" href=\"../__pv_it/demonstrations/fe935a771c114d0eb523f2ae8a32c688e8db831a0/expr.ipynb\"><img src=\"data:image/png;base64,iVBORw0KGgoAAAANSUhEUgAAAHkAAAAVBAMAAACQ4lxbAAAAMFBMVEX///8AAAAAAAAAAAAAAAAA\n",
       "AAAAAAAAAAAAAAAAAAAAAAAAAAAAAAAAAAAAAAAAAAAv3aB7AAAAD3RSTlMAIolEdjKr77sQZpnd\n",
       "VM0QaojEAAAACXBIWXMAAA7EAAAOxAGVKw4bAAABS0lEQVQ4y42UPUvDUBSG39RovptMTg4B0cmh\n",
       "g+DYFOzeH+BQiqsiuDlFEFwzuiW7g8Wxi9mrEPwBkknQqWsX8d5Ag3jeIReyvDxPTu45uRcR5DJk\n",
       "FPFon9i9wf/ErCR1LG3nvmT2O6HMQtbuz4nt1ITCl7TDitheQSg8SnuYEdsCoWBlwj5iXfsAodAv\n",
       "tG3MRkmbf55eSPsZhEJvqu2TyF63/fnJ8qixvddmTXX6DULBrZXt3MArN3mwhpWI2m8gFIIrZXsr\n",
       "+HHzQl2xRhgL+xqEwvZK2VaKvMGX6lHEsGK2pLCla+cJnv4O8iUT+1ZfLikEpbYrXAabUxBO1AZF\n",
       "7TsQCm6qbDsJlt6G2ynsubQPQSh4se75+cHuuJ3FbEH+ljMQCv6g2wn1J4TCXsfz7c6Zveh6O9yy\n",
       "Gyjtaj8QylYTGJPcFNs0EkmNgF8La2RHla6yaQAAAABJRU5ErkJggg==\n",
       "\" style=\"display:inline;vertical-align:middle;\" /></a></span>"
      ],
      "text/plain": [
       "{a in RealPos, b in RealPos} |- |a * b| = (a * b)"
      ]
     },
     "metadata": {},
     "output_type": "display_data"
    }
   ],
   "source": [
    "abs_value_a_times_b.simplification(\n",
    "    assumptions=[InSet(a, RealPos), InSet(b, RealPos)])"
   ]
  },
  {
   "cell_type": "code",
   "execution_count": 83,
   "metadata": {},
   "outputs": [
    {
     "name": "stdout",
     "output_type": "stream",
     "text": [
      "Expected exception: Proof step failed:\n",
      "Attempting to instantiate |- forall_{n in NaturalPos} [forall_{x_{1}, x_{2}, ..., x_{n} in Complex} (|x_{1} *  x_{2} *  ... *  x_{n}| = (|x_{1}| *  |x_{2}| *  ... *  |x_{n}|))] with {n: 2, x: (a, b)}:\n",
      "Unsatisfied condition: a in Complex. For debugging purposes, this is accessible via Instantiation.unsatisfied_condition with applicable assumptions in Instantiation.condition_assumptions.\n"
     ]
    }
   ],
   "source": [
    "# But if we don't know anything about a and b, 'simplication' will raise an exception.\n",
    "from proveit import InstantiationFailure\n",
    "try:\n",
    "    abs_value_a_times_b.simplification()\n",
    "    assert False\n",
    "except InstantiationFailure as _e:\n",
    "    print(\"Expected exception:\", _e)"
   ]
  },
  {
   "cell_type": "code",
   "execution_count": 84,
   "metadata": {},
   "outputs": [
    {
     "data": {
      "text/html": [
       "<span style=\"font-size:20px;\"><a class=\"ProveItLink\" href=\"../__pv_it/demonstrations/d812cc14384eaa75250d79770b5a732609b7433a0/expr.ipynb\"><img src=\"data:image/png;base64,iVBORw0KGgoAAAANSUhEUgAAAFkAAAAVBAMAAADfv1+LAAAAMFBMVEX///8AAAAAAAAAAAAAAAAA\n",
       "AAAAAAAAAAAAAAAAAAAAAAAAAAAAAAAAAAAAAAAAAAAv3aB7AAAAD3RSTlMAInZUiRDNmWbv3US7\n",
       "qzJazP2FAAAACXBIWXMAAA7EAAAOxAGVKw4bAAABnklEQVQoz3WTPUjDQBiG3xjTpG3aZhaEVHST\n",
       "kkGcHDqqoGSWlhaK4CJ0cOhmcXG0o+BSEClkKiKCU6OCoIK0tjo4dVJ06lKh4OCXS5O2aXJwl7v3\n",
       "nnx/dwdAwVTzkYZtRpvWLj3rnb8HHRuDOrAyuSE8VslC2YPfR5sQerSb92yEijTsesQPZR2oAKLX\n",
       "TMKK7Ngjts2QAnIa9sbc0GkI6/Zi2TCY79YRl7foVS+9ycKxPV4vDcVWrLto0Qc05zpJ1aX3F9rA\n",
       "bNOacm74LZhyneg9mt8oct+tya+eUyAx/yFlRH8JF0SfE3AKserofB9hFXyF0RjRkrZG2hmVpYdI\n",
       "mpmlQcwjkUa8ZzHfBjXTpvEWs+mwiVzd0mrU6b+GhiiznRmzjaxgR5JTcTJe7kMdPIssMk7HVfJy\n",
       "R7SGd95JKNGlNCAx/zNupV6op0jbAmSVr4mOHivLdPRimi0KjlqwM8IPZfe6PZ9yK9gpWTGwPJB9\n",
       "ts/0c2DaNyrS9bvGc8Pv1ZMxceukoh9dCnoNtz4aZwbRGR9NDnxqnDqtJQPYf/KqX8JMSc47AAAA\n",
       "AElFTkSuQmCC\n",
       "\" style=\"display:inline;vertical-align:middle;\" /></a> <a class=\"ProveItLink\" href=\"../__pv_it/demonstrations/6b533f66ce04938e4744b3699e70ab0c2268bee00/proof.ipynb\" style=\"text-decoration: none\">&nbsp;&#x22A2;&nbsp;&nbsp;</a><a class=\"ProveItLink\" href=\"../__pv_it/demonstrations/fe935a771c114d0eb523f2ae8a32c688e8db831a0/expr.ipynb\"><img src=\"data:image/png;base64,iVBORw0KGgoAAAANSUhEUgAAAHkAAAAVBAMAAACQ4lxbAAAAMFBMVEX///8AAAAAAAAAAAAAAAAA\n",
       "AAAAAAAAAAAAAAAAAAAAAAAAAAAAAAAAAAAAAAAAAAAv3aB7AAAAD3RSTlMAIolEdjKr77sQZpnd\n",
       "VM0QaojEAAAACXBIWXMAAA7EAAAOxAGVKw4bAAABS0lEQVQ4y42UPUvDUBSG39RovptMTg4B0cmh\n",
       "g+DYFOzeH+BQiqsiuDlFEFwzuiW7g8Wxi9mrEPwBkknQqWsX8d5Ag3jeIReyvDxPTu45uRcR5DJk\n",
       "FPFon9i9wf/ErCR1LG3nvmT2O6HMQtbuz4nt1ITCl7TDitheQSg8SnuYEdsCoWBlwj5iXfsAodAv\n",
       "tG3MRkmbf55eSPsZhEJvqu2TyF63/fnJ8qixvddmTXX6DULBrZXt3MArN3mwhpWI2m8gFIIrZXsr\n",
       "+HHzQl2xRhgL+xqEwvZK2VaKvMGX6lHEsGK2pLCla+cJnv4O8iUT+1ZfLikEpbYrXAabUxBO1AZF\n",
       "7TsQCm6qbDsJlt6G2ynsubQPQSh4se75+cHuuJ3FbEH+ljMQCv6g2wn1J4TCXsfz7c6Zveh6O9yy\n",
       "Gyjtaj8QylYTGJPcFNs0EkmNgF8La2RHla6yaQAAAABJRU5ErkJggg==\n",
       "\" style=\"display:inline;vertical-align:middle;\" /></a></span>"
      ],
      "text/plain": [
       "{(a * b) in Natural} |- |a * b| = (a * b)"
      ]
     },
     "metadata": {},
     "output_type": "display_data"
    }
   ],
   "source": [
    "abs_value_a_times_b.simplification(\n",
    "    assumptions=[InSet(Mult(a,b), Natural)])"
   ]
  },
  {
   "cell_type": "code",
   "execution_count": 85,
   "metadata": {},
   "outputs": [
    {
     "data": {
      "text/html": [
       "<span style=\"font-size:20px;\"><a class=\"ProveItLink\" href=\"../__pv_it/demonstrations/4a4701c918ed0b49c63799c553f955d19a924f1a0/expr.ipynb\"><img src=\"data:image/png;base64,iVBORw0KGgoAAAANSUhEUgAAAEgAAAAUBAMAAADcj2b4AAAAMFBMVEX///8AAAAAAAAAAAAAAAAA\n",
       "AAAAAAAAAAAAAAAAAAAAAAAAAAAAAAAAAAAAAAAAAAAv3aB7AAAAD3RSTlMAIquJdkTvuxBmmd1U\n",
       "zTKBpmoTAAAACXBIWXMAAA7EAAAOxAGVKw4bAAABK0lEQVQoz2NgwAmeB4ApY2cGPIDD/ACQ5HRg\n",
       "LcCnisF9AgMD2wOGj3gVMUx3YJBvYMjBIjM3vf52+gQIe5rA+waGndj0FwgxBE1vALGaSxmAilKw\n",
       "KhJmYOdTADKk9BhA1v3BoYhL4AIDgxBQDYbD3XfvvgBXVMDQtBDEYXFgVUBSE+uBMImpQ4GhA8Iz\n",
       "9gI6j1HZ0QHEYbyBZN3zswIoLggTYP8BonnhwgVit397oAZ+JgPXBrAiJIfP7AXFXTkQQHRyfWDg\n",
       "NgAxnu0GggKIIvbOCSgmsRUw9IOjux3JJL4FFSiK+h0Y5oMZ3MjhtE4cVdEBBl0eAXCAIClqZ0Gx\n",
       "j92BZxcXmHUHrkiKgXNCKYrvVOyE/MCsptIGWCooZCi/fwB76gmuhkQLBgAA7rpMGB8itmIAAAAA\n",
       "SUVORK5CYII=\n",
       "\" style=\"display:inline;vertical-align:middle;\" /></a>, <a class=\"ProveItLink\" href=\"../../addition/__pv_it/theorems/5a49c1d91f28aca05c3a7748e24771596ea841e40/expr.ipynb\"><img src=\"data:image/png;base64,iVBORw0KGgoAAAANSUhEUgAAAEYAAAAUBAMAAADCRlZLAAAAMFBMVEX///8AAAAAAAAAAAAAAAAA\n",
       "AAAAAAAAAAAAAAAAAAAAAAAAAAAAAAAAAAAAAAAAAAAv3aB7AAAAD3RSTlMAELvv3c2ZVESJq3Yi\n",
       "MmZ3LnoBAAAACXBIWXMAAA7EAAAOxAGVKw4bAAABNklEQVQoz2NgwAUuNYCpmTsZcAPGSQVAkm8D\n",
       "hwIeRQybHjAwMF9g+INPDcOjDQznBRjMMSWeGumHGD2AsB8fuC/A4MfAqOyApkjhFEPXIwEQS1KD\n",
       "AajGmoGBNQFdzUkGJt4FQMaxtQwgu74zMPAXYKphOxDAwHAKqATq5n4BmDdcXALgahQYpHJAHO4N\n",
       "HEAjp0CVtG5EmMMluIBBEMKbuQ1oRtTu5SA2TyCSXZdKD6AE51cBeZAAK1xU4XDIl40oLmT/yMC8\n",
       "AaQGyc3vREHxpQQEEI1sAQz8E4D0ZRcgUICoYZJ7gGIOywSGfpDvhZDM4U1QRFEDDJ58kO9ZkMMn\n",
       "9xCqmguMdpCAQFIjxI1iGdcDJkhkhMPVHGPge6CB4veVeRCGlIYALN51GJTiC7Cmlk4VSFxgAAC+\n",
       "YVHp3c6+3AAAAABJRU5ErkJggg==\n",
       "\" style=\"display:inline;vertical-align:middle;\" /></a> <a class=\"ProveItLink\" href=\"../__pv_it/demonstrations/51d115245cdd156688f8cb056e5fcd0949b66d490/proof.ipynb\" style=\"text-decoration: none\">&nbsp;&#x22A2;&nbsp;&nbsp;</a><a class=\"ProveItLink\" href=\"../__pv_it/demonstrations/fe935a771c114d0eb523f2ae8a32c688e8db831a0/expr.ipynb\"><img src=\"data:image/png;base64,iVBORw0KGgoAAAANSUhEUgAAAHkAAAAVBAMAAACQ4lxbAAAAMFBMVEX///8AAAAAAAAAAAAAAAAA\n",
       "AAAAAAAAAAAAAAAAAAAAAAAAAAAAAAAAAAAAAAAAAAAv3aB7AAAAD3RSTlMAIolEdjKr77sQZpnd\n",
       "VM0QaojEAAAACXBIWXMAAA7EAAAOxAGVKw4bAAABS0lEQVQ4y42UPUvDUBSG39RovptMTg4B0cmh\n",
       "g+DYFOzeH+BQiqsiuDlFEFwzuiW7g8Wxi9mrEPwBkknQqWsX8d5Ag3jeIReyvDxPTu45uRcR5DJk\n",
       "FPFon9i9wf/ErCR1LG3nvmT2O6HMQtbuz4nt1ITCl7TDitheQSg8SnuYEdsCoWBlwj5iXfsAodAv\n",
       "tG3MRkmbf55eSPsZhEJvqu2TyF63/fnJ8qixvddmTXX6DULBrZXt3MArN3mwhpWI2m8gFIIrZXsr\n",
       "+HHzQl2xRhgL+xqEwvZK2VaKvMGX6lHEsGK2pLCla+cJnv4O8iUT+1ZfLikEpbYrXAabUxBO1AZF\n",
       "7TsQCm6qbDsJlt6G2ynsubQPQSh4se75+cHuuJ3FbEH+ljMQCv6g2wn1J4TCXsfz7c6Zveh6O9yy\n",
       "Gyjtaj8QylYTGJPcFNs0EkmNgF8La2RHla6yaQAAAABJRU5ErkJggg==\n",
       "\" style=\"display:inline;vertical-align:middle;\" /></a></span>"
      ],
      "text/plain": [
       "{a in RealNonNeg, b in RealNonNeg} |- |a * b| = (a * b)"
      ]
     },
     "metadata": {},
     "output_type": "display_data"
    }
   ],
   "source": [
    "abs_value_a_times_b.simplification(\n",
    "    assumptions=[InSet(a, RealNonNeg), InSet(b, RealNonNeg)])"
   ]
  },
  {
   "cell_type": "code",
   "execution_count": 86,
   "metadata": {},
   "outputs": [
    {
     "data": {
      "text/html": [
       "<span style=\"font-size:20px;\"><a class=\"ProveItLink\" href=\"../../ordering/__pv_it/theorems/27094ede24067904bb8353fa305df8461a3a4be40/expr.ipynb\"><img src=\"data:image/png;base64,iVBORw0KGgoAAAANSUhEUgAAADMAAAAQBAMAAABJt1qBAAAAMFBMVEX///8AAAAAAAAAAAAAAAAA\n",
       "AAAAAAAAAAAAAAAAAAAAAAAAAAAAAAAAAAAAAAAAAAAv3aB7AAAAD3RSTlMAIquJdkTvuxBmmd1U\n",
       "zTKBpmoTAAAACXBIWXMAAA7EAAAOxAGVKw4bAAAA3ElEQVQY02NgwADd32sbGMy+BTBgATWsCgwc\n",
       "H7DJMGgLWDIwJGCV0ingFWDYgCLkvnv3BRCtOIXxAqpUrAeUocj0wBksxajs6AASYLwBU6PIUMAe\n",
       "AJIKE2D/ARIAmg+XesWxAyjFkcnABTaXlwEhxXngONCFXB8YuA1AAs92A0EBRIpBgwkoxVbA0A/2\n",
       "eDuSLoYmDqBJ/Q4M88EC3MhSfA5A/f0HGHR5QC5gcYBJ1QGxH1CK3YFnFxdY5A5MCsTgAnqeQ8VO\n",
       "yA8s0lTaAKbffgPq4LiAElDB1buRBQCzkDPDLBuujwAAAABJRU5ErkJggg==\n",
       "\" style=\"display:inline;vertical-align:middle;\" /></a>, <a class=\"ProveItLink\" href=\"../../ordering/__pv_it/theorems/5d56aa038eb34c97b005be8161434236efec38e90/expr.ipynb\"><img src=\"data:image/png;base64,iVBORw0KGgoAAAANSUhEUgAAADEAAAAQBAMAAABNQoq8AAAAMFBMVEX///8AAAAAAAAAAAAAAAAA\n",
       "AAAAAAAAAAAAAAAAAAAAAAAAAAAAAAAAAAAAAAAAAAAv3aB7AAAAD3RSTlMAELvv3c2ZVESJq3Yi\n",
       "MmZ3LnoBAAAACXBIWXMAAA7EAAAOxAGVKw4bAAAA5UlEQVQY02NgQAcin1QFGCZ/bmBgVHZAk1Ln\n",
       "WMDA+AHIYE1Ak1lyYB4DgwGQwV+AJrNcgfUAA8igfgGoyCYXlwAQveY1TwBYZgpUonUjlLGG68JO\n",
       "sEzU7uUgPk8gzLQ1DApMDUAZxq8C8gdADjmAkLnG6AiUYf/IwLwBJMOAkOErKAK6jS2AgX8CkH/Z\n",
       "BQgUIDIMC7mAMiwTGPpB7hZC0sMgxegA9k4+yN0syDK8G4C6+S8w2oH43BtgMrpAvBcow/WACRI8\n",
       "4TAZEANoOwPjyjyIgJQGJDCufgaqZwxADq9OFRdkPgBHFjKLuGzoKQAAAABJRU5ErkJggg==\n",
       "\" style=\"display:inline;vertical-align:middle;\" /></a> <a class=\"ProveItLink\" href=\"../__pv_it/demonstrations/902712e11385d1e704a8532991163861cd3e86e30/proof.ipynb\" style=\"text-decoration: none\">&nbsp;&#x22A2;&nbsp;&nbsp;</a><a class=\"ProveItLink\" href=\"../__pv_it/demonstrations/fe935a771c114d0eb523f2ae8a32c688e8db831a0/expr.ipynb\"><img src=\"data:image/png;base64,iVBORw0KGgoAAAANSUhEUgAAAHkAAAAVBAMAAACQ4lxbAAAAMFBMVEX///8AAAAAAAAAAAAAAAAA\n",
       "AAAAAAAAAAAAAAAAAAAAAAAAAAAAAAAAAAAAAAAAAAAv3aB7AAAAD3RSTlMAIolEdjKr77sQZpnd\n",
       "VM0QaojEAAAACXBIWXMAAA7EAAAOxAGVKw4bAAABS0lEQVQ4y42UPUvDUBSG39RovptMTg4B0cmh\n",
       "g+DYFOzeH+BQiqsiuDlFEFwzuiW7g8Wxi9mrEPwBkknQqWsX8d5Ag3jeIReyvDxPTu45uRcR5DJk\n",
       "FPFon9i9wf/ErCR1LG3nvmT2O6HMQtbuz4nt1ITCl7TDitheQSg8SnuYEdsCoWBlwj5iXfsAodAv\n",
       "tG3MRkmbf55eSPsZhEJvqu2TyF63/fnJ8qixvddmTXX6DULBrZXt3MArN3mwhpWI2m8gFIIrZXsr\n",
       "+HHzQl2xRhgL+xqEwvZK2VaKvMGX6lHEsGK2pLCla+cJnv4O8iUT+1ZfLikEpbYrXAabUxBO1AZF\n",
       "7TsQCm6qbDsJlt6G2ynsubQPQSh4se75+cHuuJ3FbEH+ljMQCv6g2wn1J4TCXsfz7c6Zveh6O9yy\n",
       "Gyjtaj8QylYTGJPcFNs0EkmNgF8La2RHla6yaQAAAABJRU5ErkJggg==\n",
       "\" style=\"display:inline;vertical-align:middle;\" /></a></span>"
      ],
      "text/plain": [
       "{a in Natural, b in Natural} |- |a * b| = (a * b)"
      ]
     },
     "metadata": {},
     "output_type": "display_data"
    }
   ],
   "source": [
    "abs_value_a_times_b.simplification(\n",
    "    assumptions=[InSet(a, Natural), InSet(b, Natural)])"
   ]
  },
  {
   "cell_type": "code",
   "execution_count": 87,
   "metadata": {},
   "outputs": [
    {
     "data": {
      "text/html": [
       "<span style=\"font-size:20px;\"><a class=\"ProveItLink\" href=\"../__pv_it/demonstrations/4a4701c918ed0b49c63799c553f955d19a924f1a0/expr.ipynb\"><img src=\"data:image/png;base64,iVBORw0KGgoAAAANSUhEUgAAAEgAAAAUBAMAAADcj2b4AAAAMFBMVEX///8AAAAAAAAAAAAAAAAA\n",
       "AAAAAAAAAAAAAAAAAAAAAAAAAAAAAAAAAAAAAAAAAAAv3aB7AAAAD3RSTlMAIquJdkTvuxBmmd1U\n",
       "zTKBpmoTAAAACXBIWXMAAA7EAAAOxAGVKw4bAAABK0lEQVQoz2NgwAmeB4ApY2cGPIDD/ACQ5HRg\n",
       "LcCnisF9AgMD2wOGj3gVMUx3YJBvYMjBIjM3vf52+gQIe5rA+waGndj0FwgxBE1vALGaSxmAilKw\n",
       "KhJmYOdTADKk9BhA1v3BoYhL4AIDgxBQDYbD3XfvvgBXVMDQtBDEYXFgVUBSE+uBMImpQ4GhA8Iz\n",
       "9gI6j1HZ0QHEYbyBZN3zswIoLggTYP8BonnhwgVit397oAZ+JgPXBrAiJIfP7AXFXTkQQHRyfWDg\n",
       "NgAxnu0GggKIIvbOCSgmsRUw9IOjux3JJL4FFSiK+h0Y5oMZ3MjhtE4cVdEBBl0eAXCAIClqZ0Gx\n",
       "j92BZxcXmHUHrkiKgXNCKYrvVOyE/MCsptIGWCooZCi/fwB76gmuhkQLBgAA7rpMGB8itmIAAAAA\n",
       "SUVORK5CYII=\n",
       "\" style=\"display:inline;vertical-align:middle;\" /></a>, <a class=\"ProveItLink\" href=\"../../ordering/__pv_it/theorems/5d56aa038eb34c97b005be8161434236efec38e90/expr.ipynb\"><img src=\"data:image/png;base64,iVBORw0KGgoAAAANSUhEUgAAADEAAAAQBAMAAABNQoq8AAAAMFBMVEX///8AAAAAAAAAAAAAAAAA\n",
       "AAAAAAAAAAAAAAAAAAAAAAAAAAAAAAAAAAAAAAAAAAAv3aB7AAAAD3RSTlMAELvv3c2ZVESJq3Yi\n",
       "MmZ3LnoBAAAACXBIWXMAAA7EAAAOxAGVKw4bAAAA5UlEQVQY02NgQAcin1QFGCZ/bmBgVHZAk1Ln\n",
       "WMDA+AHIYE1Ak1lyYB4DgwGQwV+AJrNcgfUAA8igfgGoyCYXlwAQveY1TwBYZgpUonUjlLGG68JO\n",
       "sEzU7uUgPk8gzLQ1DApMDUAZxq8C8gdADjmAkLnG6AiUYf/IwLwBJMOAkOErKAK6jS2AgX8CkH/Z\n",
       "BQgUIDIMC7mAMiwTGPpB7hZC0sMgxegA9k4+yN0syDK8G4C6+S8w2oH43BtgMrpAvBcow/WACRI8\n",
       "4TAZEANoOwPjyjyIgJQGJDCufgaqZwxADq9OFRdkPgBHFjKLuGzoKQAAAABJRU5ErkJggg==\n",
       "\" style=\"display:inline;vertical-align:middle;\" /></a> <a class=\"ProveItLink\" href=\"../__pv_it/demonstrations/8dc5fad4ce37c63572e1286543299241a30e06c30/proof.ipynb\" style=\"text-decoration: none\">&nbsp;&#x22A2;&nbsp;&nbsp;</a><a class=\"ProveItLink\" href=\"../__pv_it/demonstrations/fe935a771c114d0eb523f2ae8a32c688e8db831a0/expr.ipynb\"><img src=\"data:image/png;base64,iVBORw0KGgoAAAANSUhEUgAAAHkAAAAVBAMAAACQ4lxbAAAAMFBMVEX///8AAAAAAAAAAAAAAAAA\n",
       "AAAAAAAAAAAAAAAAAAAAAAAAAAAAAAAAAAAAAAAAAAAv3aB7AAAAD3RSTlMAIolEdjKr77sQZpnd\n",
       "VM0QaojEAAAACXBIWXMAAA7EAAAOxAGVKw4bAAABS0lEQVQ4y42UPUvDUBSG39RovptMTg4B0cmh\n",
       "g+DYFOzeH+BQiqsiuDlFEFwzuiW7g8Wxi9mrEPwBkknQqWsX8d5Ag3jeIReyvDxPTu45uRcR5DJk\n",
       "FPFon9i9wf/ErCR1LG3nvmT2O6HMQtbuz4nt1ITCl7TDitheQSg8SnuYEdsCoWBlwj5iXfsAodAv\n",
       "tG3MRkmbf55eSPsZhEJvqu2TyF63/fnJ8qixvddmTXX6DULBrZXt3MArN3mwhpWI2m8gFIIrZXsr\n",
       "+HHzQl2xRhgL+xqEwvZK2VaKvMGX6lHEsGK2pLCla+cJnv4O8iUT+1ZfLikEpbYrXAabUxBO1AZF\n",
       "7TsQCm6qbDsJlt6G2ynsubQPQSh4se75+cHuuJ3FbEH+ljMQCv6g2wn1J4TCXsfz7c6Zveh6O9yy\n",
       "Gyjtaj8QylYTGJPcFNs0EkmNgF8La2RHla6yaQAAAABJRU5ErkJggg==\n",
       "\" style=\"display:inline;vertical-align:middle;\" /></a></span>"
      ],
      "text/plain": [
       "{a in RealNonNeg, b in Natural} |- |a * b| = (a * b)"
      ]
     },
     "metadata": {},
     "output_type": "display_data"
    }
   ],
   "source": [
    "abs_value_a_times_b.simplification(\n",
    "    assumptions=[InSet(a, RealNonNeg), InSet(b, Natural)])"
   ]
  },
  {
   "cell_type": "code",
   "execution_count": 88,
   "metadata": {},
   "outputs": [
    {
     "data": {
      "text/html": [
       "<strong id=\"test_neg\">test_neg:</strong> <a class=\"ProveItLink\" href=\"../__pv_it/demonstrations/a6c948e632936ae78a08814c51c59199163f90120/expr.ipynb\"><img src=\"data:image/png;base64,iVBORw0KGgoAAAANSUhEUgAAAGYAAAAVBAMAAABGR4Y+AAAAMFBMVEX///8AAAAAAAAAAAAAAAAA\n",
       "AAAAAAAAAAAAAAAAAAAAAAAAAAAAAAAAAAAAAAAAAAAv3aB7AAAAD3RSTlMAIolEdjIQzd1UmWbv\n",
       "u6tTHlnHAAAACXBIWXMAAA7EAAAOxAGVKw4bAAABVklEQVQ4y33Tv0vDQBQH8G+aHzZNIzd0cFEC\n",
       "9Q/I4B9QhQ5u8T/I5iKSSVyEIggZhKqTY8cSETN3ipuD0gzuVnBwa6EFcaqXuyDNXdKX4Y57fO49\n",
       "khcQrIZCnzyKiZUzgnbh8BA1N9+2S8weTxRSplNplOjCgxbL5hiVZhu1OXAmmwfZqDFfP4FXYCSb\n",
       "RDZmh69jH1OCpi8aM6g238DUw0YsmobDzc5uSzI0+jQ7EU12CzXqMz582egLwApEU79h5iTGsKRO\n",
       "ndYwE26M8zALD2i6zDwBl9w0wvD6JQwnzDxmtWZindy8wZjLdaxMqkl5b8YC1kw2d1AIzJ5o7A4z\n",
       "v9gMbkWjO9B8WKlosjdJe3vH/WAgmq0oGvKvUTR6j5nTg6MvTzT95fKHdu9Ks3NVPQd5NXneRtUz\n",
       "+j/EorHJ+n9OSWVjpOuNTViiWzhsQfPybbfE7LPEH+WZUKWbnjuwAAAAAElFTkSuQmCC\n",
       "\" style=\"display:inline;vertical-align:middle;\" /></a><br>"
      ],
      "text/plain": [
       "<IPython.core.display.HTML object>"
      ]
     },
     "metadata": {},
     "output_type": "display_data"
    }
   ],
   "source": [
    "# an extra test expression, slightly more interesting\n",
    "test_neg = Abs(Neg(Add(Abs(a), two)))"
   ]
  },
  {
   "cell_type": "code",
   "execution_count": 89,
   "metadata": {},
   "outputs": [
    {
     "data": {
      "text/html": [
       "<strong id=\"test_neg_simp01\">test_neg_simp01:</strong> <span style=\"font-size:20px;\"><a class=\"ProveItLink\" href=\"../../addition/__pv_it/theorems/5a0c211ed8c0f89e15d717d80d4627baae693acb0/expr.ipynb\"><img src=\"data:image/png;base64,iVBORw0KGgoAAAANSUhEUgAAAD8AAAATBAMAAADVH8ihAAAAMFBMVEX///8AAAAAAAAAAAAAAAAA\n",
       "AAAAAAAAAAAAAAAAAAAAAAAAAAAAAAAAAAAAAAAAAAAv3aB7AAAAD3RSTlMAIquJdkTvuxBmmd1U\n",
       "zTKBpmoTAAAACXBIWXMAAA7EAAAOxAGVKw4bAAAA3UlEQVQoz2NgwAO4GAgAdjIVzE2vv50+AZ8J\n",
       "BUIMQdMb8CkQZmDnU2BYXl5WXj4BhwIugQtYTHDfvfsCXEEBpoJYD4QJTB0KcAWMyo4OYPoGkhXP\n",
       "zwrAFYQJsP8A0bwCcAVit397wEOSI5OBawNYAZIjZ/YihfcHBm4DEOPZbiAogChg70R4j62AoT8A\n",
       "xGhHMoFvQQWc1+/AMB/M4EYOh3XiCAUHGHR5QO5jcUBS0M4Ct4PdgWcXJN7vwBVIMXBOKIXxOFTs\n",
       "hPzArKbSBlhsFjKU3z+AGQfB1ZCgRgEAfyQ4BfovW/4AAAAASUVORK5CYII=\n",
       "\" style=\"display:inline;vertical-align:middle;\" /></a> <a class=\"ProveItLink\" href=\"../__pv_it/demonstrations/7ab61f4d44c0508814174c10c78ad51e6f3e95690/proof.ipynb\" style=\"text-decoration: none\">&nbsp;&#x22A2;&nbsp;&nbsp;</a><a class=\"ProveItLink\" href=\"../__pv_it/demonstrations/47ac6a570295322596a8b58d6906821445c4e45a0/expr.ipynb\"><img src=\"data:image/png;base64,iVBORw0KGgoAAAANSUhEUgAAAL8AAAAVBAMAAADlQyK9AAAAMFBMVEX///8AAAAAAAAAAAAAAAAA\n",
       "AAAAAAAAAAAAAAAAAAAAAAAAAAAAAAAAAAAAAAAAAAAv3aB7AAAAD3RSTlMAIolEdjIQzd1UmWbv\n",
       "u6tTHlnHAAAACXBIWXMAAA7EAAAOxAGVKw4bAAACAElEQVQ4y32VvUsDMRyG37Mf9sPKDQ4uSqH+\n",
       "AR3cXKrg4Fb/g25dRDq5CUUo3CB+4eDoWFrEzp3q5qDYwd0KDm4WWhCnmlxyaXK/pL9yXC/3PnmS\n",
       "+8jBh14e+8kyT8zbPNpsaZrnS0bLAZbK8m/JAmyzTQV0ylHb8X6yRafA65xWkezZBIyyzCrKG/3U\n",
       "4RRsYGkCnNgEddvgVd7op0sFiZ7YfwIvQN8m6BpHO7G8IRhQQbYi9m81/PhYqVkEA+PoNpbXBdmG\n",
       "W/AN/FSx3KMCTlGByuuCXFEINrfWiIDVJTs7ogJOCUQXqLwuWBYPSeIJHzUqSE2BfEMK2gGvi4gS\n",
       "iCmQeV2QuQoFRz20LTPIjNjRgM6AUwIxBTJfQj0cTIs1rZRDwSNwJgS5IDh/DoJRCDzwUY2pgFMC\n",
       "CSf2IicW5UuxKONfkZ7QGeS5JjGwCwRizCDK00uUniI/poIbeD6yTXoPGCURQxDldUGhEgr+sNq4\n",
       "jgtSRSRryA/pDBglEV2g8rqAPVScf8fd/X1csN7ptMNHkgg4JRBdoPK6INUMBcd7h1/VuOByNvtl\n",
       "l6NMBZwSiC5QeWOpaLnfZDku21rUsr3JKm8I+u7Fjq6GOkUXO5U3BAV/8QfHG9oEBd/1weF5o5/0\n",
       "cLGAd0UFjHIUz+8bLWtIynsVOyFql20qoFOOYvl/BuicAiiKfV4AAAAASUVORK5CYII=\n",
       "\" style=\"display:inline;vertical-align:middle;\" /></a></span><br>"
      ],
      "text/plain": [
       "<IPython.core.display.HTML object>"
      ]
     },
     "metadata": {},
     "output_type": "display_data"
    }
   ],
   "source": [
    "# this one is interesting: reaching down inside an Abs to\n",
    "# simplify another Abs, but not clear how it knows to do that\n",
    "test_neg_simp01 = test_neg.simplification(\n",
    "    assumptions=[InSet(a, RealPos)])"
   ]
  },
  {
   "cell_type": "code",
   "execution_count": 90,
   "metadata": {},
   "outputs": [
    {
     "data": {
      "text/html": [
       "<strong id=\"test_neg_simp02\">test_neg_simp02:</strong> <span style=\"font-size:20px;\"><a class=\"ProveItLink\" href=\"../__pv_it/demonstrations/4a4701c918ed0b49c63799c553f955d19a924f1a0/expr.ipynb\"><img src=\"data:image/png;base64,iVBORw0KGgoAAAANSUhEUgAAAEgAAAAUBAMAAADcj2b4AAAAMFBMVEX///8AAAAAAAAAAAAAAAAA\n",
       "AAAAAAAAAAAAAAAAAAAAAAAAAAAAAAAAAAAAAAAAAAAv3aB7AAAAD3RSTlMAIquJdkTvuxBmmd1U\n",
       "zTKBpmoTAAAACXBIWXMAAA7EAAAOxAGVKw4bAAABK0lEQVQoz2NgwAmeB4ApY2cGPIDD/ACQ5HRg\n",
       "LcCnisF9AgMD2wOGj3gVMUx3YJBvYMjBIjM3vf52+gQIe5rA+waGndj0FwgxBE1vALGaSxmAilKw\n",
       "KhJmYOdTADKk9BhA1v3BoYhL4AIDgxBQDYbD3XfvvgBXVMDQtBDEYXFgVUBSE+uBMImpQ4GhA8Iz\n",
       "9gI6j1HZ0QHEYbyBZN3zswIoLggTYP8BonnhwgVit397oAZ+JgPXBrAiJIfP7AXFXTkQQHRyfWDg\n",
       "NgAxnu0GggKIIvbOCSgmsRUw9IOjux3JJL4FFSiK+h0Y5oMZ3MjhtE4cVdEBBl0eAXCAIClqZ0Gx\n",
       "j92BZxcXmHUHrkiKgXNCKYrvVOyE/MCsptIGWCooZCi/fwB76gmuhkQLBgAA7rpMGB8itmIAAAAA\n",
       "SUVORK5CYII=\n",
       "\" style=\"display:inline;vertical-align:middle;\" /></a>, <a class=\"ProveItLink\" href=\"../__pv_it/demonstrations/54811f013bc59fbeea36022d4e9742328dadd5e70/expr.ipynb\"><img src=\"data:image/png;base64,iVBORw0KGgoAAAANSUhEUgAAAHoAAAAYBAMAAADHS/SGAAAAMFBMVEX///8AAAAAAAAAAAAAAAAA\n",
       "AAAAAAAAAAAAAAAAAAAAAAAAAAAAAAAAAAAAAAAAAAAv3aB7AAAAD3RSTlMAInZUiRDNmWbv3US7\n",
       "qzJazP2FAAAACXBIWXMAAA7EAAAOxAGVKw4bAAACDElEQVQ4y52UP0gbURzHv96hl8vlwhUEKRi8\n",
       "gtIOUjKI0E4OjlZvUOkQMSCCuGhBzCaZRCGlpUUQdQh0SD0RMojgIJxCl0baIOIoDi6KEKW4dGj6\n",
       "e3mavndeWpsf3N3v/fm83+/9/hzw/3KZr3x621GPNPbF6R2yDa8uHJ1pQD/FNalWjS0Nf8EzNtoc\n",
       "fASUeI0dhu2bmF/7PrmW5vqiVXLwGegKIltmvwHP/LNeDLsZh2mDBRD9AY3JIKc9DOTR5PjpZkSi\n",
       "RXb4CZjnP6ClJW/5yLSgv0do+j6tWWQtRjCPmi6tq/yu+g1MCujSXYhdN1mlPYy8YQPFNoroDqLN\n",
       "LMxfwASf3O74Y9scKmKIj3qfOphh1zx6Yks0SfgKeMWDMC54ftktJZidv2NFbvx0ibT5itZU3e89\n",
       "nvzZIfn6iSpvGVrWT2/S84LTQtQWhlmdH5DwI1cB7QrhHlI1111fcV2WEmishkuVHecuicfpyGsp\n",
       "RYzWPYzmfbbfstdORU0ItqPTX/yej9p4J8ccag8eAS95/MR8z7VK9D7RcRyrlkSfARSeDHhiBTqh\n",
       "SK5TViK2mtMk2w25VIriOMMnx6p0C0LpgkhfUMwP+2PPJTpcLpepujb45EjBueuxPRxMiT0ZPg2o\n",
       "tdteuU0jtr66yeAullvBEG8lN1Cw7NVcaX3APypRx7nC7ewaC4r1T/Y3wFh+E/T8hF0AAAAASUVO\n",
       "RK5CYII=\n",
       "\" style=\"display:inline;vertical-align:middle;\" /></a> <a class=\"ProveItLink\" href=\"../__pv_it/demonstrations/02fabb5ec0a9a943e930ed2588474a9e06ddfe080/proof.ipynb\" style=\"text-decoration: none\">&nbsp;&#x22A2;&nbsp;&nbsp;</a><a class=\"ProveItLink\" href=\"../__pv_it/demonstrations/47ac6a570295322596a8b58d6906821445c4e45a0/expr.ipynb\"><img src=\"data:image/png;base64,iVBORw0KGgoAAAANSUhEUgAAAL8AAAAVBAMAAADlQyK9AAAAMFBMVEX///8AAAAAAAAAAAAAAAAA\n",
       "AAAAAAAAAAAAAAAAAAAAAAAAAAAAAAAAAAAAAAAAAAAv3aB7AAAAD3RSTlMAIolEdjIQzd1UmWbv\n",
       "u6tTHlnHAAAACXBIWXMAAA7EAAAOxAGVKw4bAAACAElEQVQ4y32VvUsDMRyG37Mf9sPKDQ4uSqH+\n",
       "AR3cXKrg4Fb/g25dRDq5CUUo3CB+4eDoWFrEzp3q5qDYwd0KDm4WWhCnmlxyaXK/pL9yXC/3PnmS\n",
       "+8jBh14e+8kyT8zbPNpsaZrnS0bLAZbK8m/JAmyzTQV0ylHb8X6yRafA65xWkezZBIyyzCrKG/3U\n",
       "4RRsYGkCnNgEddvgVd7op0sFiZ7YfwIvQN8m6BpHO7G8IRhQQbYi9m81/PhYqVkEA+PoNpbXBdmG\n",
       "W/AN/FSx3KMCTlGByuuCXFEINrfWiIDVJTs7ogJOCUQXqLwuWBYPSeIJHzUqSE2BfEMK2gGvi4gS\n",
       "iCmQeV2QuQoFRz20LTPIjNjRgM6AUwIxBTJfQj0cTIs1rZRDwSNwJgS5IDh/DoJRCDzwUY2pgFMC\n",
       "CSf2IicW5UuxKONfkZ7QGeS5JjGwCwRizCDK00uUniI/poIbeD6yTXoPGCURQxDldUGhEgr+sNq4\n",
       "jgtSRSRryA/pDBglEV2g8rqAPVScf8fd/X1csN7ptMNHkgg4JRBdoPK6INUMBcd7h1/VuOByNvtl\n",
       "l6NMBZwSiC5QeWOpaLnfZDku21rUsr3JKm8I+u7Fjq6GOkUXO5U3BAV/8QfHG9oEBd/1weF5o5/0\n",
       "cLGAd0UFjHIUz+8bLWtIynsVOyFql20qoFOOYvl/BuicAiiKfV4AAAAASUVORK5CYII=\n",
       "\" style=\"display:inline;vertical-align:middle;\" /></a></span><br>"
      ],
      "text/plain": [
       "<IPython.core.display.HTML object>"
      ]
     },
     "metadata": {},
     "output_type": "display_data"
    }
   ],
   "source": [
    "test_neg_simp02 = test_neg.simplification(\n",
    "    assumptions=[InSet(a, RealNonNeg),\n",
    "                 InSet(Add(a, two),\n",
    "                 RealNonNeg)])"
   ]
  },
  {
   "cell_type": "code",
   "execution_count": 91,
   "metadata": {},
   "outputs": [
    {
     "data": {
      "text/html": [
       "<span style=\"font-size:20px;\"><a class=\"ProveItLink\" href=\"../__pv_it/demonstrations/4a4701c918ed0b49c63799c553f955d19a924f1a0/expr.ipynb\"><img src=\"data:image/png;base64,iVBORw0KGgoAAAANSUhEUgAAAEgAAAAUBAMAAADcj2b4AAAAMFBMVEX///8AAAAAAAAAAAAAAAAA\n",
       "AAAAAAAAAAAAAAAAAAAAAAAAAAAAAAAAAAAAAAAAAAAv3aB7AAAAD3RSTlMAIquJdkTvuxBmmd1U\n",
       "zTKBpmoTAAAACXBIWXMAAA7EAAAOxAGVKw4bAAABK0lEQVQoz2NgwAmeB4ApY2cGPIDD/ACQ5HRg\n",
       "LcCnisF9AgMD2wOGj3gVMUx3YJBvYMjBIjM3vf52+gQIe5rA+waGndj0FwgxBE1vALGaSxmAilKw\n",
       "KhJmYOdTADKk9BhA1v3BoYhL4AIDgxBQDYbD3XfvvgBXVMDQtBDEYXFgVUBSE+uBMImpQ4GhA8Iz\n",
       "9gI6j1HZ0QHEYbyBZN3zswIoLggTYP8BonnhwgVit397oAZ+JgPXBrAiJIfP7AXFXTkQQHRyfWDg\n",
       "NgAxnu0GggKIIvbOCSgmsRUw9IOjux3JJL4FFSiK+h0Y5oMZ3MjhtE4cVdEBBl0eAXCAIClqZ0Gx\n",
       "j92BZxcXmHUHrkiKgXNCKYrvVOyE/MCsptIGWCooZCi/fwB76gmuhkQLBgAA7rpMGB8itmIAAAAA\n",
       "SUVORK5CYII=\n",
       "\" style=\"display:inline;vertical-align:middle;\" /></a>, <a class=\"ProveItLink\" href=\"../__pv_it/demonstrations/54811f013bc59fbeea36022d4e9742328dadd5e70/expr.ipynb\"><img src=\"data:image/png;base64,iVBORw0KGgoAAAANSUhEUgAAAHoAAAAYBAMAAADHS/SGAAAAMFBMVEX///8AAAAAAAAAAAAAAAAA\n",
       "AAAAAAAAAAAAAAAAAAAAAAAAAAAAAAAAAAAAAAAAAAAv3aB7AAAAD3RSTlMAInZUiRDNmWbv3US7\n",
       "qzJazP2FAAAACXBIWXMAAA7EAAAOxAGVKw4bAAACDElEQVQ4y52UP0gbURzHv96hl8vlwhUEKRi8\n",
       "gtIOUjKI0E4OjlZvUOkQMSCCuGhBzCaZRCGlpUUQdQh0SD0RMojgIJxCl0baIOIoDi6KEKW4dGj6\n",
       "e3mavndeWpsf3N3v/fm83+/9/hzw/3KZr3x621GPNPbF6R2yDa8uHJ1pQD/FNalWjS0Nf8EzNtoc\n",
       "fASUeI0dhu2bmF/7PrmW5vqiVXLwGegKIltmvwHP/LNeDLsZh2mDBRD9AY3JIKc9DOTR5PjpZkSi\n",
       "RXb4CZjnP6ClJW/5yLSgv0do+j6tWWQtRjCPmi6tq/yu+g1MCujSXYhdN1mlPYy8YQPFNoroDqLN\n",
       "LMxfwASf3O74Y9scKmKIj3qfOphh1zx6Yks0SfgKeMWDMC54ftktJZidv2NFbvx0ibT5itZU3e89\n",
       "nvzZIfn6iSpvGVrWT2/S84LTQtQWhlmdH5DwI1cB7QrhHlI1111fcV2WEmishkuVHecuicfpyGsp\n",
       "RYzWPYzmfbbfstdORU0ItqPTX/yej9p4J8ccag8eAS95/MR8z7VK9D7RcRyrlkSfARSeDHhiBTqh\n",
       "SK5TViK2mtMk2w25VIriOMMnx6p0C0LpgkhfUMwP+2PPJTpcLpepujb45EjBueuxPRxMiT0ZPg2o\n",
       "tdteuU0jtr66yeAullvBEG8lN1Cw7NVcaX3APypRx7nC7ewaC4r1T/Y3wFh+E/T8hF0AAAAASUVO\n",
       "RK5CYII=\n",
       "\" style=\"display:inline;vertical-align:middle;\" /></a> <a class=\"ProveItLink\" href=\"../__pv_it/demonstrations/02fabb5ec0a9a943e930ed2588474a9e06ddfe080/proof.ipynb\" style=\"text-decoration: none\">&nbsp;&#x22A2;&nbsp;&nbsp;</a><a class=\"ProveItLink\" href=\"../__pv_it/demonstrations/47ac6a570295322596a8b58d6906821445c4e45a0/expr.ipynb\"><img src=\"data:image/png;base64,iVBORw0KGgoAAAANSUhEUgAAAL8AAAAVBAMAAADlQyK9AAAAMFBMVEX///8AAAAAAAAAAAAAAAAA\n",
       "AAAAAAAAAAAAAAAAAAAAAAAAAAAAAAAAAAAAAAAAAAAv3aB7AAAAD3RSTlMAIolEdjIQzd1UmWbv\n",
       "u6tTHlnHAAAACXBIWXMAAA7EAAAOxAGVKw4bAAACAElEQVQ4y32VvUsDMRyG37Mf9sPKDQ4uSqH+\n",
       "AR3cXKrg4Fb/g25dRDq5CUUo3CB+4eDoWFrEzp3q5qDYwd0KDm4WWhCnmlxyaXK/pL9yXC/3PnmS\n",
       "+8jBh14e+8kyT8zbPNpsaZrnS0bLAZbK8m/JAmyzTQV0ylHb8X6yRafA65xWkezZBIyyzCrKG/3U\n",
       "4RRsYGkCnNgEddvgVd7op0sFiZ7YfwIvQN8m6BpHO7G8IRhQQbYi9m81/PhYqVkEA+PoNpbXBdmG\n",
       "W/AN/FSx3KMCTlGByuuCXFEINrfWiIDVJTs7ogJOCUQXqLwuWBYPSeIJHzUqSE2BfEMK2gGvi4gS\n",
       "iCmQeV2QuQoFRz20LTPIjNjRgM6AUwIxBTJfQj0cTIs1rZRDwSNwJgS5IDh/DoJRCDzwUY2pgFMC\n",
       "CSf2IicW5UuxKONfkZ7QGeS5JjGwCwRizCDK00uUniI/poIbeD6yTXoPGCURQxDldUGhEgr+sNq4\n",
       "jgtSRSRryA/pDBglEV2g8rqAPVScf8fd/X1csN7ptMNHkgg4JRBdoPK6INUMBcd7h1/VuOByNvtl\n",
       "l6NMBZwSiC5QeWOpaLnfZDku21rUsr3JKm8I+u7Fjq6GOkUXO5U3BAV/8QfHG9oEBd/1weF5o5/0\n",
       "cLGAd0UFjHIUz+8bLWtIynsVOyFql20qoFOOYvl/BuicAiiKfV4AAAAASUVORK5CYII=\n",
       "\" style=\"display:inline;vertical-align:middle;\" /></a></span>"
      ],
      "text/plain": [
       "{a in RealNonNeg, (a + 2) in RealNonNeg} |- |-(|a| + 2)| = (a + 2)"
      ]
     },
     "metadata": {},
     "output_type": "display_data"
    }
   ],
   "source": [
    "# then it takes a little work to then eliminate the double negative\n",
    "test_neg_simp02.inner_expr().rhs.simplify(\n",
    "    assumptions=[InSet(a, RealNonNeg)])"
   ]
  },
  {
   "cell_type": "code",
   "execution_count": 92,
   "metadata": {},
   "outputs": [
    {
     "data": {
      "text/html": [
       "<span style=\"font-size:20px;\"><a class=\"ProveItLink\" href=\"../__pv_it/demonstrations/86864e4bc25973dc96fd9982130a63d33fdaaaea0/expr.ipynb\"><img src=\"data:image/png;base64,iVBORw0KGgoAAAANSUhEUgAAAEAAAAATBAMAAADSXRa0AAAAMFBMVEX///8AAAAAAAAAAAAAAAAA\n",
       "AAAAAAAAAAAAAAAAAAAAAAAAAAAAAAAAAAAAAAAAAAAv3aB7AAAAD3RSTlMAEHarMolUmd1mIs3v\n",
       "RLtmgJDEAAAACXBIWXMAAA7EAAAOxAGVKw4bAAAA7klEQVQoz2NgwAcKGAiAB+QpYOx/t5GB9fxZ\n",
       "3CbwJVxmYJDHYwVzF+sEBh4G9nfvzr17iVVBHsMuBg4sJuh1dGwAK1ipsBqbgtuKMBMWmDAFIBQI\n",
       "KYuEJgBpro1wKxbwMbxFKChgMmJvANLcCxAKWAokJGAhybmA8yPzBJAChCMXMExjewPjsTCwg13G\n",
       "4NMBBA+gCpgFbBCO41EAU3LIJjAaSCAU3F/AKACkOJAVMDjxwXhyF2wYWEEMJgV4UDsAeX4wXr5j\n",
       "DcM1MGsbTIgb5OtqGE9cia0yAcwSfisAcfb+c0BSGkscXH0BCWoUAACz1jmMfap6cwAAAABJRU5E\n",
       "rkJggg==\n",
       "\" style=\"display:inline;vertical-align:middle;\" /></a> <a class=\"ProveItLink\" href=\"../__pv_it/demonstrations/0680b66b7eef202536ebd8b1bed27ef9a0bf85f00/proof.ipynb\" style=\"text-decoration: none\">&nbsp;&#x22A2;&nbsp;&nbsp;</a><a class=\"ProveItLink\" href=\"../__pv_it/demonstrations/cdf5349aa99040decf1527a22867e97908c3953d0/expr.ipynb\"><img src=\"data:image/png;base64,iVBORw0KGgoAAAANSUhEUgAAAHYAAAAVBAMAAABh6QfWAAAAMFBMVEX///8AAAAAAAAAAAAAAAAA\n",
       "AAAAAAAAAAAAAAAAAAAAAAAAAAAAAAAAAAAAAAAAAAAv3aB7AAAAD3RSTlMAIolEdjJmzRC73e+Z\n",
       "VKsux0h9AAAACXBIWXMAAA7EAAAOxAGVKw4bAAABDElEQVQ4y2MQYMAKGBmIAMrYhZkMiNbLuI0I\n",
       "vRiKIHqZ/xChF0MR1M0NxLi5ger+JVcvq5tLgfg+hvA9In4OQAEOlxdBuhh6sSpSZuhkYFjAUMfA\n",
       "sO4C60egMA+Dn8MpiF6eVWDwAMjEqkiZwbqBwYFhHgPDbAaGb0DhRIb8hmcY9mJVpMzA9dORASQ8\n",
       "k4HhC1A4gOE4Fv9iVaTMwKH1/wCSMAPDFix6sSpSZpBgYPuKLMz8kaEDw79YFSkzXGFgeIYQ5pjM\n",
       "t4FBAcNerIqUGW43MEwEiVWChXm/9mxgvoChF6siZQYjFyeDuN0v4n4/vfn7AQPHEYc7uZj+xapo\n",
       "4NLkwOh1xS7MEkBYKwCwj36uAUya+wAAAABJRU5ErkJggg==\n",
       "\" style=\"display:inline;vertical-align:middle;\" /></a></span>"
      ],
      "text/plain": [
       "{x in NaturalPos} |- |sin(x)| = sin(x)"
      ]
     },
     "metadata": {},
     "output_type": "display_data"
    }
   ],
   "source": [
    "abs_value_sin_x.simplification(assumptions=[InSet(x, NaturalPos)])"
   ]
  },
  {
   "cell_type": "code",
   "execution_count": 93,
   "metadata": {},
   "outputs": [
    {
     "data": {
      "text/html": [
       "<span style=\"font-size:20px;\"><a class=\"ProveItLink\" href=\"../../ordering/__pv_it/theorems/d1323f34847310a404e8089c2c268d3c2eb89dbf0/expr.ipynb\"><img src=\"data:image/png;base64,iVBORw0KGgoAAAANSUhEUgAAADQAAAAQBAMAAACra0H4AAAAMFBMVEX///8AAAAAAAAAAAAAAAAA\n",
       "AAAAAAAAAAAAAAAAAAAAAAAAAAAAAAAAAAAAAAAAAAAv3aB7AAAAD3RSTlMAEHarMolUmd1mIs3v\n",
       "RLtmgJDEAAAACXBIWXMAAA7EAAAOxAGVKw4bAAAAyklEQVQY02NgwACce9797nnJgBXwcRnwWj7E\n",
       "IRXA8MAZp1QVN4qQXkfHBrgUH7LMbUUkXYbCQIaQskhoApDm2ohkIMuzXUBGAZMRewOQ5l6AkDrd\n",
       "3yQA9MUCzo/ME0BSSM6InAiylIWBHWw3g08HEDyAGvhwJliMRwFMySE73p1PAMS6v4ARRHMgS7F7\n",
       "AfXLXbBhYAUJMCkgSTE+0GRgyHesYbgGFtmGkCpgmMl3gUFcia0yASwi/FYAFvL/FvC9/oYcHFdf\n",
       "QAIKCgBACzQrtGfvLgAAAABJRU5ErkJggg==\n",
       "\" style=\"display:inline;vertical-align:middle;\" /></a> <a class=\"ProveItLink\" href=\"../__pv_it/demonstrations/37014b83f8a49109cdeb9966a32b9a3eb3c5bb7a0/proof.ipynb\" style=\"text-decoration: none\">&nbsp;&#x22A2;&nbsp;&nbsp;</a><a class=\"ProveItLink\" href=\"../__pv_it/demonstrations/8f8ea4280a681a46f52787e1588cc28fcf81fdcb0/expr.ipynb\"><img src=\"data:image/png;base64,iVBORw0KGgoAAAANSUhEUgAAAIAAAAAVBAMAAAB8u/sIAAAAMFBMVEX///8AAAAAAAAAAAAAAAAA\n",
       "AAAAAAAAAAAAAAAAAAAAAAAAAAAAAAAAAAAAAAAAAAAv3aB7AAAAD3RSTlMAIolEdjJmzRC73e+Z\n",
       "VKsux0h9AAAACXBIWXMAAA7EAAAOxAGVKw4bAAABd0lEQVQ4y2MQYMAKcAhjSAswKGNXoYzfAGUE\n",
       "A8KUTiDCAMZtuA2wP0CEAcx/cBvAQZQXGnAbQHEYUGRASIo7Y/UD1uqDLk9AQi1+rUoXMAxgdXMp\n",
       "EN/HEL5HxM8BYgBMnTLHBAYuBvYHDFxvGeJB0XuA5QnPAogBPKvA4AGQ2cnAsIChjoFh3QXWjxAD\n",
       "YOqUmXcwsDBwPmDg3MDAD4xMNgG2H3wJGC6wbmBwYJjHwDCbgeEb2AC4OmWG9VMEwAZMYOAHuo6V\n",
       "gacASxhw/XRkABkwk4HhC1gark6ZoWn9HyQDGBi4HbAYwKH1/wCKAXB1yowNDPkByAbYC3A0YISB\n",
       "BAPbVzQDoOqUeR0Y+BIQBnQavGZgwnTBFQaGZygGwNUp8+5g4BQA6maHGHA/4jSDLaYBtxsYJoJ0\n",
       "V8IMgKtTZlZxUWZ9va/1/b7Y+fsYGHpceI9dwDTAyMXJIG73i7jfT2/+fgCShqsbDEl5oA1wxa7C\n",
       "Fb8BcGlXANhfeoX0ewUhAAAAAElFTkSuQmCC\n",
       "\" style=\"display:inline;vertical-align:middle;\" /></a></span>"
      ],
      "text/plain": [
       "{x in Real} |- |sin(x)| = sin(|x|)"
      ]
     },
     "metadata": {},
     "output_type": "display_data"
    }
   ],
   "source": [
    "abs_value_sin_x.simplification(assumptions=[InSet(x, Real)])"
   ]
  },
  {
   "cell_type": "code",
   "execution_count": 94,
   "metadata": {},
   "outputs": [
    {
     "data": {
      "text/html": [
       "<span style=\"font-size:20px;\"><a class=\"ProveItLink\" href=\"../__pv_it/demonstrations/b7153c0033e407b6f25af7375428bbdcf12a6b600/expr.ipynb\"><img src=\"data:image/png;base64,iVBORw0KGgoAAAANSUhEUgAAADQAAAAQBAMAAACra0H4AAAAMFBMVEX///8AAAAAAAAAAAAAAAAA\n",
       "AAAAAAAAAAAAAAAAAAAAAAAAAAAAAAAAAAAAAAAAAAAv3aB7AAAAD3RSTlMAEHarMolUmd1mIs3v\n",
       "RLtmgJDEAAAACXBIWXMAAA7EAAAOxAGVKw4bAAAA3klEQVQY02NgwACM/e82MrCeP8uABfAlXGZg\n",
       "kMcmw8DcxTqBgQe7VB7DLgYOFCG9jo4NYKmVCqtRpW4rwnQtMGEKAEkJKYuEJgBpro1wAxfwMbwF\n",
       "SRUwGbE3AGnuBQgplgIJCQYGzgWcH5kngKQQzljAMI3tDQMDCwM72G4Gnw4geACVYhawAbF4FMBS\n",
       "csi6GA0kQKz7CxgFgBQHshSDEx9Q8QUbBlaQAJMCPKAcgDw/BoZ8xxqGa2CRbTApbpBfqhkYxJXY\n",
       "KhPAIsJvBcA0y/5zQFIaJaCuvoAEFBQAAFKNLSS7ExREAAAAAElFTkSuQmCC\n",
       "\" style=\"display:inline;vertical-align:middle;\" /></a> <a class=\"ProveItLink\" href=\"../__pv_it/demonstrations/7c4a0854b5805c91ccd71494c10ee2f0650cc71a0/proof.ipynb\" style=\"text-decoration: none\">&nbsp;&#x22A2;&nbsp;&nbsp;</a><a class=\"ProveItLink\" href=\"../__pv_it/demonstrations/bdc086ba20714a55f0e92cc62938e6746fd47be30/expr.ipynb\"><img src=\"data:image/png;base64,iVBORw0KGgoAAAANSUhEUgAAAHsAAAAVBAMAAACUF4xmAAAAMFBMVEX///8AAAAAAAAAAAAAAAAA\n",
       "AAAAAAAAAAAAAAAAAAAAAAAAAAAAAAAAAAAAAAAAAAAv3aB7AAAAD3RSTlMAIolEdjIQmVTvzWbd\n",
       "u6sFjbCZAAAACXBIWXMAAA7EAAAOxAGVKw4bAAABOElEQVQ4y2MQYMAOGBmIAso4xJkMRrXTXHu6\n",
       "kgYDW4m7AUPIFi+gCJvLsyANTO1oqhhS/FKVGoDaGWcwWAbECDBcYbvAwAMUZ2fwc6iBaGc/AwYP\n",
       "QOkATRVDAcsT9gNA7VwLGDoFDjEwxAdPY2ABim9k2J/wGsN2dFXcAtzf+DYAtecrMDCw/mBg4Fc4\n",
       "fwWUBgMYqrD4HV0VKwP7ArDf4x0YGDg+AyUuJJ3/DlY6BYt2TFWcDmDt+QVQcwsTGPYHAIWYPzKk\n",
       "YfgdQxWDvQBbAsTvDA3TgVwLBwagb9gu801gUMDmd2RVDLkGLxmYQLYzzmZgEogMYFjEMY2BV4CB\n",
       "42v6BOYGDO1oqhj6wyoZLCDxXuLIwFikZ8Cs4gLksZU4tO/AkmxQVTGku3BUN4zsLOOKQ5wlgBjd\n",
       "AJ47aEUhFVoSAAAAAElFTkSuQmCC\n",
       "\" style=\"display:inline;vertical-align:middle;\" /></a></span>"
      ],
      "text/plain": [
       "{x in Natural} |- |cos(x)| = cos(x)"
      ]
     },
     "metadata": {},
     "output_type": "display_data"
    }
   ],
   "source": [
    "abs_value_cos_x.simplification(assumptions=[InSet(x, Natural)])"
   ]
  },
  {
   "cell_type": "code",
   "execution_count": 95,
   "metadata": {},
   "outputs": [
    {
     "data": {
      "text/html": [
       "<span style=\"font-size:20px;\"><a class=\"ProveItLink\" href=\"../../number_sets/real_numbers/__pv_it/theorems/41afbdfa99a88a03fa8266d6b83a02fc90cd2c0f0/expr.ipynb\"><img src=\"data:image/png;base64,iVBORw0KGgoAAAANSUhEUgAAAEAAAAAQBAMAAABUyWQaAAAAMFBMVEX///8AAAAAAAAAAAAAAAAA\n",
       "AAAAAAAAAAAAAAAAAAAAAAAAAAAAAAAAAAAAAAAAAAAv3aB7AAAAD3RSTlMAEHarMolUmd1mIs3v\n",
       "RLtmgJDEAAAACXBIWXMAAA7EAAAOxAGVKw4bAAAA00lEQVQoz2NgwACce9797nnJgAfwcRnwWj7E\n",
       "qyCA4YEzA8s7IHiFS0EVNxYJvY6ODXAFfJjytxWRTDAUhosLKYuEJgBpro1IVrA82wVXUMBkxN4A\n",
       "pLkXIBSc7m8SgPt6AedH5gkgBUiOjJy4Ac5jYWCHcHw6gOAB1IqHM5Ecx6MApuSQvenOJ4BQcH8B\n",
       "I4jHgayA3esBjCd3wYaBFcRgUkBSwPhAE8bLd6xhuAZmbUMoKGCYyXcByhNXYqtMALOE3wrAYvPf\n",
       "Ar7X3zCD8uqLjg0YggAeBjjR9gM6SQAAAABJRU5ErkJggg==\n",
       "\" style=\"display:inline;vertical-align:middle;\" /></a> <a class=\"ProveItLink\" href=\"../__pv_it/demonstrations/25051407f5ad9ee4ee443acdf2c50c8742c7233a0/proof.ipynb\" style=\"text-decoration: none\">&nbsp;&#x22A2;&nbsp;&nbsp;</a><a class=\"ProveItLink\" href=\"../__pv_it/demonstrations/375e2100e256e49d8b611feb3db59aea455261e50/expr.ipynb\"><img src=\"data:image/png;base64,iVBORw0KGgoAAAANSUhEUgAAAJkAAAAVBAMAAACnAFEqAAAAMFBMVEX///8AAAAAAAAAAAAAAAAA\n",
       "AAAAAAAAAAAAAAAAAAAAAAAAAAAAAAAAAAAAAAAAAAAv3aB7AAAAD3RSTlMAIolEdjIQmVTvzWbd\n",
       "u6sFjbCZAAAACXBIWXMAAA7EAAAOxAGVKw4bAAABqElEQVQ4y6WUvUvDQBjGn/QjTT/N4OgQ1KGT\n",
       "ZHDQyRQqioMEdRGEFgcLXfygkzp0E7cM0gouwcG5glC3FqGb0ID9Azq5uCgiOnqXK/24Syk073bv\n",
       "+zy/vLl776DCOyRMCl5BSQtjtAF9Em2TWy/7oSkalwjVfNCKQubBB+1CyNR90CwhE81PTVNsIRWr\n",
       "UVphPg25tKFj72mLJOXs+05apHGqyNAhMAcCXUKTbrFqHqjoyA4SVIdt45LRIq9udOl0cSrSSD+Y\n",
       "A3Gb0GI2rtUXILdbQYjUHtHIfwi98apEeVBjDigWoR2TnsN/wIzW7tB5NnHusW+8KkrqRbfzVs+B\n",
       "8Ceh5QyC/SY657D96zpvPGi8KjpSpw4E3d5Oel89zaNh0uwXjoR941XDf8ocUJps31CuAmsrBlI1\n",
       "yG8pC5rXvg2rkDQGR8ociDv0TO8QUPdN3CsVJFUoPwUrWBZonIqOQ3/0mIMODZ23UgbS2ZIeXMyS\n",
       "lVwyrp49pndUhXBz0BtzIKFPf7NaQmbOxz2te70DU9OS/KstOT5o5IaJ+PUx4pA56SWf5dYZ4B98\n",
       "hIPeICCuCAAAAABJRU5ErkJggg==\n",
       "\" style=\"display:inline;vertical-align:middle;\" /></a></span>"
      ],
      "text/plain": [
       "{x in RealNeg} |- |cos(x)| = cos(-x)"
      ]
     },
     "metadata": {},
     "output_type": "display_data"
    }
   ],
   "source": [
    "abs_value_cos_x.simplification(assumptions=[InSet(x, RealNeg)])"
   ]
  },
  {
   "cell_type": "markdown",
   "metadata": {},
   "source": [
    "### Bounding an absolute value"
   ]
  },
  {
   "cell_type": "code",
   "execution_count": 96,
   "metadata": {},
   "outputs": [
    {
     "data": {
      "text/html": [
       "<span style=\"font-size:20px;\"><a class=\"ProveItLink\" href=\"../__pv_it/demonstrations/9fdd19d7c1b7f1f35070900a674f7861978f51770/expr.ipynb\"><img src=\"data:image/png;base64,iVBORw0KGgoAAAANSUhEUgAAAFAAAAAVBAMAAAAjqnRBAAAAMFBMVEX///8AAAAAAAAAAAAAAAAA\n",
       "AAAAAAAAAAAAAAAAAAAAAAAAAAAAAAAAAAAAAAAAAAAv3aB7AAAAD3RSTlMAInZUiRDNmWbv3US7\n",
       "qzJazP2FAAAACXBIWXMAAA7EAAAOxAGVKw4bAAABQElEQVQoz2NgYBBgQAFoXARgMkDlb8Kl0ARd\n",
       "YwN2dawJ6CKp2BWyYxjQjl0hJ6ZIAJzJnIgQNsNQyAa3g2M5Qg9DCZJz1RsYYhkYWC7AvLUEoo5V\n",
       "6eoTZ4YMhEIW5gkM/UBzoN4LWQTzBoOuQhXDYoTCx+wLGO4AHTYBzBNfARNvZOgPuMEwG2h01ioQ\n",
       "eBDAqcAwiYGB7wNIljcZbsADhjIgORvJG/sD+P4xMHBPQFPIANKObDVQIxNQEfMCNKsZuD8yhDIc\n",
       "QlJ4loEH6GOOA6ieYT3NO4HBgcEXSWEtw35gGLI7QLlBi8DBw/wvfAK3AcMrJIWxTvXARMa1AR7g\n",
       "4IBkLVIwbwYKP0COFTcglkJwOZCikKMAEeAJrJOBVAWO9HgQzuJS4AU6j/EADoUxiLTSVA0keXDl\n",
       "BUYFVL4idmUAW6w/hWnpkr0AAAAASUVORK5CYII=\n",
       "\" style=\"display:inline;vertical-align:middle;\" /></a>, <a class=\"ProveItLink\" href=\"../../ordering/__pv_it/theorems/44d10bba886cb9c03d8c1d01224b9827d41c27660/expr.ipynb\"><img src=\"data:image/png;base64,iVBORw0KGgoAAAANSUhEUgAAADMAAAAQBAMAAABJt1qBAAAAMFBMVEX///8AAAAAAAAAAAAAAAAA\n",
       "AAAAAAAAAAAAAAAAAAAAAAAAAAAAAAAAAAAAAAAAAAAv3aB7AAAAD3RSTlMAEHarMolUmd1mIs3v\n",
       "RLtmgJDEAAAACXBIWXMAAA7EAAAOxAGVKw4bAAAAuklEQVQY02NgIBpkL8AlM6MQmSekLBKaAGVr\n",
       "BIIpRvUJDMJAuoDJiL0BIhKhAFHBynaAYT4DA+cCzo/ME0ACXBUToJrdgGrtGBhYGNg3QASsYcYy\n",
       "CPAoMBwCMXgU0KUY7guwfAHTCxgFUA1kqGZgOsDAIHfBhoGVAdUZDI8Z+AwYGPIdaxiuQUUYNRQh\n",
       "jGKG+0ATxJXYKhGWzIB4TDioHjNUZkOFonEEF+sGxmM4pDgUmANwSLFNqgWSAET3I7cK1lG8AAAA\n",
       "AElFTkSuQmCC\n",
       "\" style=\"display:inline;vertical-align:middle;\" /></a> <a class=\"ProveItLink\" href=\"../__pv_it/demonstrations/2e697123e2840683032c87dd2de64c8ba65d185e0/proof.ipynb\" style=\"text-decoration: none\">&nbsp;&#x22A2;&nbsp;&nbsp;</a><a class=\"ProveItLink\" href=\"../__pv_it/demonstrations/b473307caefca1f11a675dc961488f2a46cd08060/expr.ipynb\"><img src=\"data:image/png;base64,iVBORw0KGgoAAAANSUhEUgAAADwAAAAVBAMAAADocZC/AAAAMFBMVEX///8AAAAAAAAAAAAAAAAA\n",
       "AAAAAAAAAAAAAAAAAAAAAAAAAAAAAAAAAAAAAAAAAAAv3aB7AAAAD3RSTlMAIolEdjIQq1SZ3WbN\n",
       "77uguLaDAAAACXBIWXMAAA7EAAAOxAGVKw4bAAAA00lEQVQoz2MQYIAARgasQBlKMxkMCmmOg/ik\n",
       "uVcmIEuzuZQFaSCkWRZBZFNmM7AVAKU5GdwdZsGlk5ZAlSn0MnB/AEpvZNifUA2TllwNlWVtmMXA\n",
       "/gAoHcAwB243+wmYpWwMVxh4HcBOu4JFmoH5G0N8AEia+SNDGobhDJwHGHyBLmd7zH6BQQHTaXwF\n",
       "DM+B0hxfMy8wNyA8lrIE4jHOAubfIN1THDp3oAQLxONsRZ4fsQYqNzRQmQ7giRIdhtwGPNJLGIrw\n",
       "RWi3J0jEFRYTAdiiGwCKaDJYl1LsxwAAAABJRU5ErkJggg==\n",
       "\" style=\"display:inline;vertical-align:middle;\" /></a></span>"
      ],
      "text/plain": [
       "{(-y) < x, x < y} |- |x| < y"
      ]
     },
     "metadata": {},
     "output_type": "display_data"
    }
   ],
   "source": [
    "Abs(x).deduce_strict_upper_bound(y, assumptions=[Less(Neg(y), x), Less(x, y), ])"
   ]
  },
  {
   "cell_type": "code",
   "execution_count": 97,
   "metadata": {},
   "outputs": [
    {
     "data": {
      "text/html": [
       "<span style=\"font-size:20px;\"><a class=\"ProveItLink\" href=\"../__pv_it/demonstrations/3d05ac32934c5ff1eb8cd8143b3625fac7e720840/expr.ipynb\"><img src=\"data:image/png;base64,iVBORw0KGgoAAAANSUhEUgAAAFAAAAAVBAMAAAAjqnRBAAAAMFBMVEX///8AAAAAAAAAAAAAAAAA\n",
       "AAAAAAAAAAAAAAAAAAAAAAAAAAAAAAAAAAAAAAAAAAAv3aB7AAAAD3RSTlMAInZUiRDNmWbv3US7\n",
       "qzJazP2FAAAACXBIWXMAAA7EAAAOxAGVKw4bAAABQklEQVQoz2NgYBBgQAFoXARgMkDlb8Kl0ARd\n",
       "YwN2dawJ6CKpCCZzIoLNjmFAO5zFsTwAIcyJYQcnTJZpCZI6BjMMhWxQO0IWoQiXIDlXvYEhloGB\n",
       "5QKYF74CLq509YkzQwZCIQvzBIZ+oMvA3otNRniDQVehimExQuFj9gUMd4BenQDi8CIUNjL0B9xg\n",
       "mA00OmsVCDwI4FRgmMTAwPcBLC0Ot/oBQxmQnI3k3v0BfP8YGLgnYHgGqB3ZaqBGJqAi5gXowcP9\n",
       "kSGU4RCSwrMMPEAfcxxADXDW07wTGBwYfJEU1jLsB4YhuwMiCvNAxL/wCdwGDK+QFMY61QMTGdcG\n",
       "tNRQpGDeDBR+gCzoBsRS2FMPRwEiwBNYJwOpChzp8SCcxaXAC3QeI8QvUeCwXYekMAbh9KZqIMmD\n",
       "Ky8wKqDyFbErAwC+CkQsVLzW3gAAAABJRU5ErkJggg==\n",
       "\" style=\"display:inline;vertical-align:middle;\" /></a>, <a class=\"ProveItLink\" href=\"../../ordering/__pv_it/theorems/aba6340e84a2dc194f2dc2e8029d9090c42823300/expr.ipynb\"><img src=\"data:image/png;base64,iVBORw0KGgoAAAANSUhEUgAAADMAAAARBAMAAACC64kkAAAAMFBMVEX///8AAAAAAAAAAAAAAAAA\n",
       "AAAAAAAAAAAAAAAAAAAAAAAAAAAAAAAAAAAAAAAAAAAv3aB7AAAAD3RSTlMAEHarMolUmd1mIs3v\n",
       "RLtmgJDEAAAACXBIWXMAAA7EAAAOxAGVKw4bAAAAuklEQVQY02NgQAXZCxhwgBmFuGQ0AnFIMEYo\n",
       "oAoIKYuEJoBlKibA1KhPYBAG0gVMRuwNIL51Akw1K9sBhvkMDJwLOD8yg5UjpNyAau0YGFgY2DdA\n",
       "BLjgBgrwKDAcAjF4FDCccV+A5QuYXsAogOb4agamAwwMchdsGFjRvfyYgc+AgSHfsYbhGlJAOYDI\n",
       "Yob7QHvFldgqE9A9LxxUjzMsGaJxiLNuYDyGEoIdYACyi0OBOQCHLrZJtUASAKK5Jt8THS4EAAAA\n",
       "AElFTkSuQmCC\n",
       "\" style=\"display:inline;vertical-align:middle;\" /></a> <a class=\"ProveItLink\" href=\"../__pv_it/demonstrations/ee3c0c496d45219ae411b5a55eeaff356ee181e10/proof.ipynb\" style=\"text-decoration: none\">&nbsp;&#x22A2;&nbsp;&nbsp;</a><a class=\"ProveItLink\" href=\"../__pv_it/demonstrations/ba617b7ad2a4f3ef2b1c42f784f954aa26c113790/expr.ipynb\"><img src=\"data:image/png;base64,iVBORw0KGgoAAAANSUhEUgAAADwAAAAVBAMAAADocZC/AAAAMFBMVEX///8AAAAAAAAAAAAAAAAA\n",
       "AAAAAAAAAAAAAAAAAAAAAAAAAAAAAAAAAAAAAAAAAAAv3aB7AAAAD3RSTlMAIolEdjIQq1SZ3WbN\n",
       "77uguLaDAAAACXBIWXMAAA7EAAAOxAGVKw4bAAAA2ElEQVQoz2MQYIAARgasQBlKMxlQSZrjID5p\n",
       "7pUJeKRZFiXgMTxpCZrdbC5lQRow6czVMImU2QxsBUBpTgZ3h1lQ6fQTcH0KvQzcH4DSGxn2J1RD\n",
       "pdnh0qwNsxjYHwClAxjmIOyWhBnOxnCFgdcB7LQr2JzG/I0hPgAkzfyRIQ3TY5wHGHyBLmd7zH6B\n",
       "QQEzWPgKGJ4DpTm+Zl5gbkAJ1KNg3QXMv0G6pzh07sASJWxFnh/xxhjTATzSOgy5DejSWatAYCmI\n",
       "uYShCF9y6PYEibjCvBuALbEAAEh2Nw9gx0tnAAAAAElFTkSuQmCC\n",
       "\" style=\"display:inline;vertical-align:middle;\" /></a></span>"
      ],
      "text/plain": [
       "{(-y) <= x, x <= y} |- |x| <= y"
      ]
     },
     "metadata": {},
     "output_type": "display_data"
    }
   ],
   "source": [
    "Abs(x).deduce_weak_upper_bound(y, assumptions=[LessEq(Neg(y), x), LessEq(x, y)])"
   ]
  },
  {
   "cell_type": "markdown",
   "metadata": {},
   "source": [
    "### Absolute values involving complex numbers in polar form"
   ]
  },
  {
   "cell_type": "code",
   "execution_count": 98,
   "metadata": {},
   "outputs": [
    {
     "data": {
      "text/html": [
       "<span style=\"font-size:20px;\"><a class=\"ProveItLink\" href=\"../../../trigonometry/__pv_it/theorems/a1b9429f96070e6b5c8221ff574453af02bbc1490/expr.ipynb\"><img src=\"data:image/png;base64,iVBORw0KGgoAAAANSUhEUgAAAEgAAAAUBAMAAADcj2b4AAAAMFBMVEX///8AAAAAAAAAAAAAAAAA\n",
       "AAAAAAAAAAAAAAAAAAAAAAAAAAAAAAAAAAAAAAAAAAAv3aB7AAAAD3RSTlMAMom7Iplm783dEER2\n",
       "VKthCJTuAAAACXBIWXMAAA7EAAAOxAGVKw4bAAABIElEQVQoz2NgwAmEN4AppUMMeACX8gUgyXaA\n",
       "2wCfKobDCQwM7AIMX/AqYkg+wOC/gKEWi0xGsX1ncQKEne4gv4BhGjb9Bn4M+5IXgFiLrBmAimqw\n",
       "KnJiYGZ8AGS4PmQAWfcXhyJWhwYGBj+gGnSH81jOnIFQZMCwLgQseoD7AUINd88ChEl8qx4wrILw\n",
       "lI4uYGBUZgkCe8VjAZJ1wjcckB3AxBzEVABitCDc5N758xSKK904JrAqgBgNSA5PWwGKO2MggBgo\n",
       "xQ8JN8bKmTNnToYqYl6WgOrh/RC3cBkgmcQYYIWqKBJKT0AOp0BnVEWToPQZZEWLeVDsY/kNZXBc\n",
       "gCtyZWBLsEZWxA2zhuvxLngqMGEw7r+ANfFwK0OjBQMAAP5FRMzyvmhIAAAAAElFTkSuQmCC\n",
       "\" style=\"display:inline;vertical-align:middle;\" /></a>, <a class=\"ProveItLink\" href=\"../../number_sets/complex_numbers/__pv_it/theorems/5c9b98ec381ed1eef8437437430dde6add03b8720/expr.ipynb\"><img src=\"data:image/png;base64,iVBORw0KGgoAAAANSUhEUgAAADMAAAAQBAMAAABJt1qBAAAAMFBMVEX///8AAAAAAAAAAAAAAAAA\n",
       "AAAAAAAAAAAAAAAAAAAAAAAAAAAAAAAAAAAAAAAAAAAv3aB7AAAAD3RSTlMAdokyu2YQ3URUqyLN\n",
       "75mYuQMGAAAACXBIWXMAAA7EAAAOxAGVKw4bAAAA5UlEQVQY02NgwAAxV/yPXwkAMxmVDFDlHHYx\n",
       "dIUkgFiubAVoUpsYWJgXABlMDgyfMaT4NhwAMuwbGH5CDHYvr0FIOQAZyxnYvoIEOA4mIHRxpQEN\n",
       "ZPvIwPEDJLAnAclAkzkbgMZ8ZmD8DRI4jbBr7/HvYkCa59eq9RdAAgeQnBGaA6L5HRjyBYA08/Xy\n",
       "8vISqBRLKsjLQPF4kC1sDki6mB+4gaQaGOrAAgXI/nq8BWRgA+c1sIAgslQKI9BErgnpkCDkmQCX\n",
       "2sfAGuABtOPha4gA25I2eMh7M7icn4AUdBwq0ICCAgBvTUGfeJd/4AAAAABJRU5ErkJggg==\n",
       "\" style=\"display:inline;vertical-align:middle;\" /></a> <a class=\"ProveItLink\" href=\"../__pv_it/demonstrations/f5bb2f104105b5441e96f12b1fc52e4e424cf73d0/proof.ipynb\" style=\"text-decoration: none\">&nbsp;&#x22A2;&nbsp;&nbsp;</a><a class=\"ProveItLink\" href=\"../__pv_it/demonstrations/6ec752b8d928b25e5f39b04c50addd55a962da8f0/expr.ipynb\"><img src=\"data:image/png;base64,iVBORw0KGgoAAAANSUhEUgAAAGUAAAAbCAMAAABSirFMAAAANlBMVEX///8AAAAAAAAAAAAAAAAA\n",
       "AAAAAAAAAAAAAAAAAAAAAAAAAAAAAAAAAAAAAAAAAAAAAAAAAABHL6OuAAAAEXRSTlMAme8y+fOJ\n",
       "uyJmzd0QRKtUdh10pl4AAAAJcEhZcwAADsQAAA7EAZUrDhsAAAEZSURBVEjH7ZbRjoQgDEVbnClC\n",
       "QeH/f3YBFdyoUZjhabcJRpP2HlqpFeCZqQE+MXzmJijfjuhcTWgKr92WkQa0qQytpkgV1tyHotVW\n",
       "Lx+felNQhosf+lFMPAEsiSYP/SiDGEMaYSFC54rFNCKtLyUcYpzhyxQzCcY9xRLN0EYZSIaWJnWE\n",
       "CJ6VmBrLUGSTK4FEAjqGTZxaxNxRkHeWN1VkX1FGgQ5ySAchr7Z2P7HXTSo72XfMzKxya5m83lL2\n",
       "i9GpyvuuYEV2Sdv+KgpjpsxjNNN4PLOsWOt67ubds+N5/l6K7OLKdDF9RNrM2JhLlhXLh9ZetAsL\n",
       "ZR27NkqRTa6Wr2cpe+0a+6XIVk+xpgH4T/nLlA/+GZ+H/gCE7wjGkyh2xQAAAABJRU5ErkJggg==\n",
       "\" style=\"display:inline;vertical-align:middle;\" /></a></span>"
      ],
      "text/plain": [
       "{r in RealNonNeg, theta in Real} |- |r * e^{i * theta}| = r"
      ]
     },
     "metadata": {},
     "output_type": "display_data"
    }
   ],
   "source": [
    "Abs(Mult(r, Exp(e, Mult(i, theta)))).simplification(assumptions=[InSet(r, RealNonNeg), InSet(theta, Real)])"
   ]
  },
  {
   "cell_type": "code",
   "execution_count": 99,
   "metadata": {},
   "outputs": [
    {
     "data": {
      "text/html": [
       "<span style=\"font-size:20px;\"><a class=\"ProveItLink\" href=\"../../../trigonometry/__pv_it/theorems/a1b9429f96070e6b5c8221ff574453af02bbc1490/expr.ipynb\"><img src=\"data:image/png;base64,iVBORw0KGgoAAAANSUhEUgAAAEgAAAAUBAMAAADcj2b4AAAAMFBMVEX///8AAAAAAAAAAAAAAAAA\n",
       "AAAAAAAAAAAAAAAAAAAAAAAAAAAAAAAAAAAAAAAAAAAv3aB7AAAAD3RSTlMAMom7Iplm783dEER2\n",
       "VKthCJTuAAAACXBIWXMAAA7EAAAOxAGVKw4bAAABIElEQVQoz2NgwAmEN4AppUMMeACX8gUgyXaA\n",
       "2wCfKobDCQwM7AIMX/AqYkg+wOC/gKEWi0xGsX1ncQKEne4gv4BhGjb9Bn4M+5IXgFiLrBmAimqw\n",
       "KnJiYGZ8AGS4PmQAWfcXhyJWhwYGBj+gGnSH81jOnIFQZMCwLgQseoD7AUINd88ChEl8qx4wrILw\n",
       "lI4uYGBUZgkCe8VjAZJ1wjcckB3AxBzEVABitCDc5N758xSKK904JrAqgBgNSA5PWwGKO2MggBgo\n",
       "xQ8JN8bKmTNnToYqYl6WgOrh/RC3cBkgmcQYYIWqKBJKT0AOp0BnVEWToPQZZEWLeVDsY/kNZXBc\n",
       "gCtyZWBLsEZWxA2zhuvxLngqMGEw7r+ANfFwK0OjBQMAAP5FRMzyvmhIAAAAAElFTkSuQmCC\n",
       "\" style=\"display:inline;vertical-align:middle;\" /></a>, <a class=\"ProveItLink\" href=\"../../number_sets/complex_numbers/__pv_it/theorems/5c9b98ec381ed1eef8437437430dde6add03b8720/expr.ipynb\"><img src=\"data:image/png;base64,iVBORw0KGgoAAAANSUhEUgAAADMAAAAQBAMAAABJt1qBAAAAMFBMVEX///8AAAAAAAAAAAAAAAAA\n",
       "AAAAAAAAAAAAAAAAAAAAAAAAAAAAAAAAAAAAAAAAAAAv3aB7AAAAD3RSTlMAdokyu2YQ3URUqyLN\n",
       "75mYuQMGAAAACXBIWXMAAA7EAAAOxAGVKw4bAAAA5UlEQVQY02NgwAAxV/yPXwkAMxmVDFDlHHYx\n",
       "dIUkgFiubAVoUpsYWJgXABlMDgyfMaT4NhwAMuwbGH5CDHYvr0FIOQAZyxnYvoIEOA4mIHRxpQEN\n",
       "ZPvIwPEDJLAnAclAkzkbgMZ8ZmD8DRI4jbBr7/HvYkCa59eq9RdAAgeQnBGaA6L5HRjyBYA08/Xy\n",
       "8vISqBRLKsjLQPF4kC1sDki6mB+4gaQaGOrAAgXI/nq8BWRgA+c1sIAgslQKI9BErgnpkCDkmQCX\n",
       "2sfAGuABtOPha4gA25I2eMh7M7icn4AUdBwq0ICCAgBvTUGfeJd/4AAAAABJRU5ErkJggg==\n",
       "\" style=\"display:inline;vertical-align:middle;\" /></a> <a class=\"ProveItLink\" href=\"../__pv_it/demonstrations/dfaa2b18d6805475d4d74b75b519a8344744ecb80/proof.ipynb\" style=\"text-decoration: none\">&nbsp;&#x22A2;&nbsp;&nbsp;</a><a class=\"ProveItLink\" href=\"../__pv_it/demonstrations/b471875eeed0d0040f4ac385e5555b3f9eef2b6c0/expr.ipynb\"><img src=\"data:image/png;base64,iVBORw0KGgoAAAANSUhEUgAAAH8AAAAnCAMAAAARvme7AAAAOVBMVEX///8AAAAAAAAAAAAAAAAA\n",
       "AAAAAAAAAAAAAAAAAAAAAAAAAAAAAAAAAAAAAAAAAAAAAAAAAAAAAAACXHtMAAAAEnRSTlMAme8y\n",
       "+fOvibsiZs3dEESrVHa5Sm7qAAAACXBIWXMAAA7EAAAOxAGVKw4bAAABd0lEQVRYw+2W25KDIAxA\n",
       "uWwbQEDh/z92iYpowa52kYeOmdExGDnkIoFQcoGcmJRdwWc3/8v5gySKv4y5dnxlw5ewqJI6ty77\n",
       "q/mm36rCkM4QYqERn9qNKlS4hvCAi2jB13jrVIy+Rw35MDThy27DpyLcPFbjQJvwrYh8gxnXAqD3\n",
       "6cWpSX+OmXERRQY3+8jnLKg+XJROVqcmRXl84D8Xm/ij67iOFP9H0/oLVU+nwnOudv5Nz3TeTTEJ\n",
       "iW8h1v04/gGfgwh7GKgcz/SgWJ8VIJQXK44GNQFHUyCCAoH8s16P/7fJNiBZ3JZkzqd6JYsjCYim\n",
       "UpEugGjulVdxf3sRMOWmcMz/FRBNuZlBcxh9F8PkJymE27wb+ou/Ak6mdhPipeK4HySKqd7/FyCb\n",
       "s1Q28+6/549y/hNwMtWw0+jYuExZ3X+9adXS253fXzNlnXa1+Qk4mlq93+q17xypzU/A5xXnz2fN\n",
       "VN3n75t/82/+zf9GPr+Cf3zSX4OFDDt2TIOfAAAAAElFTkSuQmCC\n",
       "\" style=\"display:inline;vertical-align:middle;\" /></a></span>"
      ],
      "text/plain": [
       "{r in RealNonNeg, theta in Real} |- |r * e^{-(i * theta)}| = r"
      ]
     },
     "metadata": {},
     "output_type": "display_data"
    }
   ],
   "source": [
    "Abs(Mult(r, Exp(e, Neg(Mult(i, theta))))).simplification(assumptions=[InSet(r, RealNonNeg), InSet(theta, Real)])"
   ]
  },
  {
   "cell_type": "code",
   "execution_count": 100,
   "metadata": {},
   "outputs": [
    {
     "data": {
      "text/html": [
       "<span style=\"font-size:20px;\"><a class=\"ProveItLink\" href=\"../../number_sets/complex_numbers/__pv_it/theorems/5c9b98ec381ed1eef8437437430dde6add03b8720/expr.ipynb\"><img src=\"data:image/png;base64,iVBORw0KGgoAAAANSUhEUgAAADMAAAAQBAMAAABJt1qBAAAAMFBMVEX///8AAAAAAAAAAAAAAAAA\n",
       "AAAAAAAAAAAAAAAAAAAAAAAAAAAAAAAAAAAAAAAAAAAv3aB7AAAAD3RSTlMAdokyu2YQ3URUqyLN\n",
       "75mYuQMGAAAACXBIWXMAAA7EAAAOxAGVKw4bAAAA5UlEQVQY02NgwAAxV/yPXwkAMxmVDFDlHHYx\n",
       "dIUkgFiubAVoUpsYWJgXABlMDgyfMaT4NhwAMuwbGH5CDHYvr0FIOQAZyxnYvoIEOA4mIHRxpQEN\n",
       "ZPvIwPEDJLAnAclAkzkbgMZ8ZmD8DRI4jbBr7/HvYkCa59eq9RdAAgeQnBGaA6L5HRjyBYA08/Xy\n",
       "8vISqBRLKsjLQPF4kC1sDki6mB+4gaQaGOrAAgXI/nq8BWRgA+c1sIAgslQKI9BErgnpkCDkmQCX\n",
       "2sfAGuABtOPha4gA25I2eMh7M7icn4AUdBwq0ICCAgBvTUGfeJd/4AAAAABJRU5ErkJggg==\n",
       "\" style=\"display:inline;vertical-align:middle;\" /></a>, <a class=\"ProveItLink\" href=\"../../../trigonometry/__pv_it/theorems/a1b9429f96070e6b5c8221ff574453af02bbc1490/expr.ipynb\"><img src=\"data:image/png;base64,iVBORw0KGgoAAAANSUhEUgAAAEgAAAAUBAMAAADcj2b4AAAAMFBMVEX///8AAAAAAAAAAAAAAAAA\n",
       "AAAAAAAAAAAAAAAAAAAAAAAAAAAAAAAAAAAAAAAAAAAv3aB7AAAAD3RSTlMAMom7Iplm783dEER2\n",
       "VKthCJTuAAAACXBIWXMAAA7EAAAOxAGVKw4bAAABIElEQVQoz2NgwAmEN4AppUMMeACX8gUgyXaA\n",
       "2wCfKobDCQwM7AIMX/AqYkg+wOC/gKEWi0xGsX1ncQKEne4gv4BhGjb9Bn4M+5IXgFiLrBmAimqw\n",
       "KnJiYGZ8AGS4PmQAWfcXhyJWhwYGBj+gGnSH81jOnIFQZMCwLgQseoD7AUINd88ChEl8qx4wrILw\n",
       "lI4uYGBUZgkCe8VjAZJ1wjcckB3AxBzEVABitCDc5N758xSKK904JrAqgBgNSA5PWwGKO2MggBgo\n",
       "xQ8JN8bKmTNnToYqYl6WgOrh/RC3cBkgmcQYYIWqKBJKT0AOp0BnVEWToPQZZEWLeVDsY/kNZXBc\n",
       "gCtyZWBLsEZWxA2zhuvxLngqMGEw7r+ANfFwK0OjBQMAAP5FRMzyvmhIAAAAAElFTkSuQmCC\n",
       "\" style=\"display:inline;vertical-align:middle;\" /></a> <a class=\"ProveItLink\" href=\"../__pv_it/demonstrations/f0031576b5980bbc2b95e18fdf3ed00bf788c24f0/proof.ipynb\" style=\"text-decoration: none\">&nbsp;&#x22A2;&nbsp;&nbsp;</a><a class=\"ProveItLink\" href=\"../__pv_it/demonstrations/90e594fe8cacac869ce3c5e9d0e6df196e625fa00/expr.ipynb\"><img src=\"data:image/png;base64,iVBORw0KGgoAAAANSUhEUgAAAH8AAAAnCAMAAAARvme7AAAAOVBMVEX///8AAAAAAAAAAAAAAAAA\n",
       "AAAAAAAAAAAAAAAAAAAAAAAAAAAAAAAAAAAAAAAAAAAAAAAAAAAAAAACXHtMAAAAEnRSTlMAme8y\n",
       "+fOvibsiZs3dEESrVHa5Sm7qAAAACXBIWXMAAA7EAAAOxAGVKw4bAAABd0lEQVRYw+2W667EEBCA\n",
       "DWfXpUPx/g97aKvao5I2h/2xMUk3wqxvbgYCpIM82JT24NPB/zK+Ynls5bWO68inPJtiilUJzh3L\n",
       "vmf89VxOCU0mTYjhH+BD6b5Q4bNhEI3ow59UGmEZfR8VIp/b7nw5lRER4cfHArXQk69jeo0o1lBw\n",
       "PscY7IsP+D/3+YyGg2eX8mMiSZjy4QNYpx9tGuX1MP6s9D+6TpeekOL/+mj9haqHtfCca51/PVOE\n",
       "E18U3c/wVPdp7SmfcRF6GFclnqJVdD7T6saKu0HNwEWVEwGc8PJvMy7nW5+Om6y2JlnyAQ+yO5KB\n",
       "UVUqMgUQlJ55lfrbQbiu3FHmblEdgFGV6Q20hdGnHsP8Kn8Mq/D17aI+AFdVcwoxws63Mopufv/v\n",
       "QLpl6VrNu/++P67zn4GrKlaKGuhipmzuP56uaulNJaVIlXHoWvMzcFE1WL/u0U+OtOZn4LvH+/Pd\n",
       "MlXj/T34gz/4g/+NfNaDf3/TX5IODDsqTWGJAAAAAElFTkSuQmCC\n",
       "\" style=\"display:inline;vertical-align:middle;\" /></a></span>"
      ],
      "text/plain": [
       "{theta in Real, r in RealNonNeg} |- |r * e^{i * (-theta)}| = r"
      ]
     },
     "metadata": {},
     "output_type": "display_data"
    }
   ],
   "source": [
    "Abs(Mult(r, Exp(e, Mult(i, Neg(theta))))).simplification(assumptions=[InSet(r, RealNonNeg), InSet(theta, Real)])"
   ]
  },
  {
   "cell_type": "code",
   "execution_count": 101,
   "metadata": {},
   "outputs": [
    {
     "data": {
      "text/html": [
       "<span style=\"font-size:20px;\"><a class=\"ProveItLink\" href=\"../../number_sets/complex_numbers/__pv_it/theorems/5c9b98ec381ed1eef8437437430dde6add03b8720/expr.ipynb\"><img src=\"data:image/png;base64,iVBORw0KGgoAAAANSUhEUgAAADMAAAAQBAMAAABJt1qBAAAAMFBMVEX///8AAAAAAAAAAAAAAAAA\n",
       "AAAAAAAAAAAAAAAAAAAAAAAAAAAAAAAAAAAAAAAAAAAv3aB7AAAAD3RSTlMAdokyu2YQ3URUqyLN\n",
       "75mYuQMGAAAACXBIWXMAAA7EAAAOxAGVKw4bAAAA5UlEQVQY02NgwAAxV/yPXwkAMxmVDFDlHHYx\n",
       "dIUkgFiubAVoUpsYWJgXABlMDgyfMaT4NhwAMuwbGH5CDHYvr0FIOQAZyxnYvoIEOA4mIHRxpQEN\n",
       "ZPvIwPEDJLAnAclAkzkbgMZ8ZmD8DRI4jbBr7/HvYkCa59eq9RdAAgeQnBGaA6L5HRjyBYA08/Xy\n",
       "8vISqBRLKsjLQPF4kC1sDki6mB+4gaQaGOrAAgXI/nq8BWRgA+c1sIAgslQKI9BErgnpkCDkmQCX\n",
       "2sfAGuABtOPha4gA25I2eMh7M7icn4AUdBwq0ICCAgBvTUGfeJd/4AAAAABJRU5ErkJggg==\n",
       "\" style=\"display:inline;vertical-align:middle;\" /></a>, <a class=\"ProveItLink\" href=\"../../../trigonometry/__pv_it/theorems/a1b9429f96070e6b5c8221ff574453af02bbc1490/expr.ipynb\"><img src=\"data:image/png;base64,iVBORw0KGgoAAAANSUhEUgAAAEgAAAAUBAMAAADcj2b4AAAAMFBMVEX///8AAAAAAAAAAAAAAAAA\n",
       "AAAAAAAAAAAAAAAAAAAAAAAAAAAAAAAAAAAAAAAAAAAv3aB7AAAAD3RSTlMAMom7Iplm783dEER2\n",
       "VKthCJTuAAAACXBIWXMAAA7EAAAOxAGVKw4bAAABIElEQVQoz2NgwAmEN4AppUMMeACX8gUgyXaA\n",
       "2wCfKobDCQwM7AIMX/AqYkg+wOC/gKEWi0xGsX1ncQKEne4gv4BhGjb9Bn4M+5IXgFiLrBmAimqw\n",
       "KnJiYGZ8AGS4PmQAWfcXhyJWhwYGBj+gGnSH81jOnIFQZMCwLgQseoD7AUINd88ChEl8qx4wrILw\n",
       "lI4uYGBUZgkCe8VjAZJ1wjcckB3AxBzEVABitCDc5N758xSKK904JrAqgBgNSA5PWwGKO2MggBgo\n",
       "xQ8JN8bKmTNnToYqYl6WgOrh/RC3cBkgmcQYYIWqKBJKT0AOp0BnVEWToPQZZEWLeVDsY/kNZXBc\n",
       "gCtyZWBLsEZWxA2zhuvxLngqMGEw7r+ANfFwK0OjBQMAAP5FRMzyvmhIAAAAAElFTkSuQmCC\n",
       "\" style=\"display:inline;vertical-align:middle;\" /></a> <a class=\"ProveItLink\" href=\"../__pv_it/demonstrations/220298149ceed1190961391c7a22f0f28ea102f90/proof.ipynb\" style=\"text-decoration: none\">&nbsp;&#x22A2;&nbsp;&nbsp;</a><a class=\"ProveItLink\" href=\"../__pv_it/demonstrations/81c715c44ea3c5de9dce27e36bbb7a5f2bed0cc10/expr.ipynb\"><img src=\"data:image/png;base64,iVBORw0KGgoAAAANSUhEUgAAAH8AAAAnCAMAAAARvme7AAAAOVBMVEX///8AAAAAAAAAAAAAAAAA\n",
       "AAAAAAAAAAAAAAAAAAAAAAAAAAAAAAAAAAAAAAAAAAAAAAAAAAAAAAACXHtMAAAAEnRSTlMAme8y\n",
       "+fOvibsiZs3dEESrVHa5Sm7qAAAACXBIWXMAAA7EAAAOxAGVKw4bAAABdUlEQVRYw+2W67LDEBCA\n",
       "WW0XQfD+D3tcUkmPmCY9cX507EwyhuWzFwuhpIOcWBR68GHwv49vRWPArU3JuvGlqboEde413QF7\n",
       "8fVcd3FNJh0aBvv7n9bmcxk+G1tpF335qva+j+TER7v0TbITX0y1R3j4+ZRwlvbmG157hCPOvoxq\n",
       "/Ih/O3j4Uvox/pRwFn34aDacBT4DUfi34/z7MTVW2x9Nh1wTfvv//h/5F5KeLnnnXK/46xlUMo5X\n",
       "1c9gSfsy+CGfIQ/FDGWNB2UlzHs15qUQnXXqCkyqSDhFgvW0WaWDHssLFe3aJNp8qjZSaugKjKpC\n",
       "kimAaG2il89CF+bowzfDO/s3wKjK9AJa3OmfxYb5LHljLb4+ndQbYFY1fruIooVvRRR9+f1fgLBE\n",
       "aV/Nu7++P/bjvwKzqmpkN4W0TXG5/QUI+SozjdAqkMYpdzV/BSZVo9pnS/nJkav5K/DR4/35uDJU\n",
       "4/09+IM/+IP/jXzWg3980R+ZDgw74gnsYAAAAABJRU5ErkJggg==\n",
       "\" style=\"display:inline;vertical-align:middle;\" /></a></span>"
      ],
      "text/plain": [
       "{theta in Real, r in RealNonNeg} |- |r * e^{(-theta) * i}| = r"
      ]
     },
     "metadata": {},
     "output_type": "display_data"
    }
   ],
   "source": [
    "Abs(Mult(r, Exp(e, Mult(Neg(theta), i)))).simplification(assumptions=[InSet(r, RealNonNeg), InSet(theta, Real)])"
   ]
  },
  {
   "cell_type": "code",
   "execution_count": 102,
   "metadata": {},
   "outputs": [
    {
     "data": {
      "text/html": [
       "<span style=\"font-size:20px;\"><a class=\"ProveItLink\" href=\"../../number_sets/complex_numbers/__pv_it/theorems/5c9b98ec381ed1eef8437437430dde6add03b8720/expr.ipynb\"><img src=\"data:image/png;base64,iVBORw0KGgoAAAANSUhEUgAAADMAAAAQBAMAAABJt1qBAAAAMFBMVEX///8AAAAAAAAAAAAAAAAA\n",
       "AAAAAAAAAAAAAAAAAAAAAAAAAAAAAAAAAAAAAAAAAAAv3aB7AAAAD3RSTlMAdokyu2YQ3URUqyLN\n",
       "75mYuQMGAAAACXBIWXMAAA7EAAAOxAGVKw4bAAAA5UlEQVQY02NgwAAxV/yPXwkAMxmVDFDlHHYx\n",
       "dIUkgFiubAVoUpsYWJgXABlMDgyfMaT4NhwAMuwbGH5CDHYvr0FIOQAZyxnYvoIEOA4mIHRxpQEN\n",
       "ZPvIwPEDJLAnAclAkzkbgMZ8ZmD8DRI4jbBr7/HvYkCa59eq9RdAAgeQnBGaA6L5HRjyBYA08/Xy\n",
       "8vISqBRLKsjLQPF4kC1sDki6mB+4gaQaGOrAAgXI/nq8BWRgA+c1sIAgslQKI9BErgnpkCDkmQCX\n",
       "2sfAGuABtOPha4gA25I2eMh7M7icn4AUdBwq0ICCAgBvTUGfeJd/4AAAAABJRU5ErkJggg==\n",
       "\" style=\"display:inline;vertical-align:middle;\" /></a>, <a class=\"ProveItLink\" href=\"../../../trigonometry/__pv_it/theorems/a1b9429f96070e6b5c8221ff574453af02bbc1490/expr.ipynb\"><img src=\"data:image/png;base64,iVBORw0KGgoAAAANSUhEUgAAAEgAAAAUBAMAAADcj2b4AAAAMFBMVEX///8AAAAAAAAAAAAAAAAA\n",
       "AAAAAAAAAAAAAAAAAAAAAAAAAAAAAAAAAAAAAAAAAAAv3aB7AAAAD3RSTlMAMom7Iplm783dEER2\n",
       "VKthCJTuAAAACXBIWXMAAA7EAAAOxAGVKw4bAAABIElEQVQoz2NgwAmEN4AppUMMeACX8gUgyXaA\n",
       "2wCfKobDCQwM7AIMX/AqYkg+wOC/gKEWi0xGsX1ncQKEne4gv4BhGjb9Bn4M+5IXgFiLrBmAimqw\n",
       "KnJiYGZ8AGS4PmQAWfcXhyJWhwYGBj+gGnSH81jOnIFQZMCwLgQseoD7AUINd88ChEl8qx4wrILw\n",
       "lI4uYGBUZgkCe8VjAZJ1wjcckB3AxBzEVABitCDc5N758xSKK904JrAqgBgNSA5PWwGKO2MggBgo\n",
       "xQ8JN8bKmTNnToYqYl6WgOrh/RC3cBkgmcQYYIWqKBJKT0AOp0BnVEWToPQZZEWLeVDsY/kNZXBc\n",
       "gCtyZWBLsEZWxA2zhuvxLngqMGEw7r+ANfFwK0OjBQMAAP5FRMzyvmhIAAAAAElFTkSuQmCC\n",
       "\" style=\"display:inline;vertical-align:middle;\" /></a> <a class=\"ProveItLink\" href=\"../__pv_it/demonstrations/60ade1bf9f2a3de273e1c00626c9e002916697c70/proof.ipynb\" style=\"text-decoration: none\">&nbsp;&#x22A2;&nbsp;&nbsp;</a><a class=\"ProveItLink\" href=\"../__pv_it/demonstrations/cfd2e0ffa6a185b1ad7ef073eca9c07507440ef80/expr.ipynb\"><img src=\"data:image/png;base64,iVBORw0KGgoAAAANSUhEUgAAAJ8AAAAnCAMAAAAmXGrKAAAAOVBMVEX///8AAAAAAAAAAAAAAAAA\n",
       "AAAAAAAAAAAAAAAAAAAAAAAAAAAAAAAAAAAAAAAAAAAAAAAAAAAAAAACXHtMAAAAEnRSTlMAme8y\n",
       "+fOvInZUiRDNZt1Eu6vDPFbtAAAACXBIWXMAAA7EAAAOxAGVKw4bAAAB+klEQVRYw+2Y2bKDIAyG\n",
       "WdqyL/L+D3uguNAaQatnuJEZOx1IyUdIfqQIow7tgFPSg4/cfDff1XyCbQzw5auh3fiMW/cxzPlH\n",
       "uRLZi08NQJ9XSCuEnOy/vxgInzfxEfFLgjzNx2pmrDWPBX4TElrik2Ls0uZnPi5qZo7Xp2EaCKmP\n",
       "HyFVhMCn+YSs23FTHXYeCKmXcgjTqJI/8T3GVNYtw+8c+hKXXB7UTy0mRIgPxrk7PoTNfI/9fM9x\n",
       "L0xTP6qHOgXil0JH3on7vb/Pw/u7I+JEHayPGHGck5rzk/kndNtSG1D2iH0Hx68r3MmpbufBX/kw\n",
       "XB1U+ngGyDyphBSYWGHIgAAN/tDpo6K7OCbbsYlIyEdymW0MEOPBvnUu7TzelsjVUMGHbdGGteNs\n",
       "akHxYwZpOwdXAKsOZjon4pxq98ncil/hOJsSN6pMsRiKqBoBcszDvF9BT1255QVs8anDh2rh+INv\n",
       "neJhmdwts1o88QmWmrr8/W92XNvflB2FBAMSEvjZ91M4/xbH2dRv+LFFVRpAgnEWRXZ5/GbHZFM7\n",
       "3pVZ7DukQcoS47jlV/MtjrMptXAWlN3WwRkQNEdX8y2OX6Nz2lySve5+9Dq8FNO80rffIP71/uYb\n",
       "Oc583/ulavj3rC8fYtUs51fi3f8f3Hw3381387Ub7cG33+kfiu0Q7oQ0XBIAAAAASUVORK5CYII=\n",
       "\" style=\"display:inline;vertical-align:middle;\" /></a></span>"
      ],
      "text/plain": [
       "{theta in Real, r in RealNonNeg} |- |(-r) * e^{(-theta) * i}| = r"
      ]
     },
     "metadata": {},
     "output_type": "display_data"
    }
   ],
   "source": [
    "Abs(Mult(Neg(r), Exp(e, Mult(Neg(theta), i)))).simplification(\n",
    "    assumptions=[InSet(r, RealNonNeg), InSet(theta, Real)])"
   ]
  },
  {
   "cell_type": "code",
   "execution_count": 103,
   "metadata": {},
   "outputs": [
    {
     "data": {
      "text/html": [
       "<span style=\"font-size:20px;\"><a class=\"ProveItLink\" href=\"../__pv_it/demonstrations/feb6907de8c994bc6b795116fefe6ced2ad9fc9b0/expr.ipynb\"><img src=\"data:image/png;base64,iVBORw0KGgoAAAANSUhEUgAAAEgAAAAUBAMAAADcj2b4AAAAMFBMVEX///8AAAAAAAAAAAAAAAAA\n",
       "AAAAAAAAAAAAAAAAAAAAAAAAAAAAAAAAAAAAAAAAAAAv3aB7AAAAD3RSTlMAMom7Iplm783dEER2\n",
       "VKthCJTuAAAACXBIWXMAAA7EAAAOxAGVKw4bAAABHklEQVQoz2NgwAsuOzAoHWIgoOYAA9sBbgO8\n",
       "apITGBjYBRi+4FNz+AKQ8F/AUItFLqPYvrMYaIY4SA2D/AKGadhMMPBj2Je8gIHXaAFEUQ1WRU4M\n",
       "zIwPGBi4QaqA1v3FoYjVoQHIYHzqgO5wHsuZMxCKwP5mebeA5wD3A4Qa7p4FCJP4VkFkWBgYlI4u\n",
       "YGBUZglKAPE9FiBZJ3zDAdkBTMxBTAUgRgvCTe6dP0+huNKNYwKrAojRgOTwtBVAStgYCCAGSvGD\n",
       "LWNgrJw5c+ZkqCLmZQmoHt4PcQuXAZJJjAFWqIoiofQE5HAKdEZVNAlKn0FWtJgHxT6W31AGxwW4\n",
       "IlcGtgRrZEXcMGu4Hu+CpwITBuP+C1iTD7cyNFowAABhpkWcYupqmwAAAABJRU5ErkJggg==\n",
       "\" style=\"display:inline;vertical-align:middle;\" /></a>, <a class=\"ProveItLink\" href=\"../../number_sets/complex_numbers/__pv_it/theorems/5c9b98ec381ed1eef8437437430dde6add03b8720/expr.ipynb\"><img src=\"data:image/png;base64,iVBORw0KGgoAAAANSUhEUgAAADMAAAAQBAMAAABJt1qBAAAAMFBMVEX///8AAAAAAAAAAAAAAAAA\n",
       "AAAAAAAAAAAAAAAAAAAAAAAAAAAAAAAAAAAAAAAAAAAv3aB7AAAAD3RSTlMAdokyu2YQ3URUqyLN\n",
       "75mYuQMGAAAACXBIWXMAAA7EAAAOxAGVKw4bAAAA5UlEQVQY02NgwAAxV/yPXwkAMxmVDFDlHHYx\n",
       "dIUkgFiubAVoUpsYWJgXABlMDgyfMaT4NhwAMuwbGH5CDHYvr0FIOQAZyxnYvoIEOA4mIHRxpQEN\n",
       "ZPvIwPEDJLAnAclAkzkbgMZ8ZmD8DRI4jbBr7/HvYkCa59eq9RdAAgeQnBGaA6L5HRjyBYA08/Xy\n",
       "8vISqBRLKsjLQPF4kC1sDki6mB+4gaQaGOrAAgXI/nq8BWRgA+c1sIAgslQKI9BErgnpkCDkmQCX\n",
       "2sfAGuABtOPha4gA25I2eMh7M7icn4AUdBwq0ICCAgBvTUGfeJd/4AAAAABJRU5ErkJggg==\n",
       "\" style=\"display:inline;vertical-align:middle;\" /></a> <a class=\"ProveItLink\" href=\"../__pv_it/demonstrations/581bb78cacd381cfdbe3672b61ff13779828a60d0/proof.ipynb\" style=\"text-decoration: none\">&nbsp;&#x22A2;&nbsp;&nbsp;</a><a class=\"ProveItLink\" href=\"../__pv_it/demonstrations/02f974e84fabf8d9560ffa74dd81c2b52458c7470/expr.ipynb\"><img src=\"data:image/png;base64,iVBORw0KGgoAAAANSUhEUgAAAIMAAAAbCAMAAABodsx6AAAANlBMVEX///8AAAAAAAAAAAAAAAAA\n",
       "AAAAAAAAAAAAAAAAAAAAAAAAAAAAAAAAAAAAAAAAAAAAAAAAAABHL6OuAAAAEXRSTlMAme8y+fOJ\n",
       "uyJmzd0QRKtUdh10pl4AAAAJcEhZcwAADsQAAA7EAZUrDhsAAAGMSURBVEjHxVaLjsMgDCOw8Uoo\n",
       "8P8/e7B1U7nSEXpXLVKnToBtnJAiBC+cEtcF8KZJ/X61kNLMUgb47AIyJDydWvpvGowrT/yGBu9e\n",
       "mcj1H1+DZYzOagBTfrLiLk3x43BIkxqo1iUarZfMlR/1SKOb06BksS6XB4CpgfwYmOZzUS2Q3DSC\n",
       "GzcemNdQdEPkljMHXNJoGi0SYashaB25DNHzdvcAUtqU9qf3zpHE6ORycpfQr8iWTS9PIC1Mma/3\n",
       "oAs+WgKNNABuYtklsI2WzXlxqyROeOzKzu7VGjtxG/mA3ebwiy1Kca/m0Eq2JiC/8qjyM/qe3ofl\n",
       "FtYTujFJ/WZTeTU0NHYjvMejrUHn6mHVsO+OW7YgVyDA/uyceCevXw940KgbtogrEB70VJB0/OEZ\n",
       "+mAOdtCwOfMEsvnANULpQsJ0ToPuH+qWrdTmAyjg8RnH7NPJ/qD6sC0bhr9cRMZLcXwLtSiu1eDG\n",
       "V876WbtUgzB2ZIMRV2sgwxF5rQZh0+drlBXXa2CF+srSJn4AiTsMPIoNizEAAAAASUVORK5CYII=\n",
       "\" style=\"display:inline;vertical-align:middle;\" /></a></span>"
      ],
      "text/plain": [
       "{r in RealNonPos, theta in Real} |- |r * e^{i * theta}| = (-r)"
      ]
     },
     "metadata": {},
     "output_type": "display_data"
    }
   ],
   "source": [
    "Abs(Mult(r, Exp(e, Mult(i, theta)))).simplification(assumptions=[InSet(r, RealNonPos), InSet(theta, Real)])"
   ]
  },
  {
   "cell_type": "code",
   "execution_count": 104,
   "metadata": {},
   "outputs": [
    {
     "data": {
      "text/html": [
       "<span style=\"font-size:20px;\"><a class=\"ProveItLink\" href=\"../../addition/__pv_it/theorems/5a0c211ed8c0f89e15d717d80d4627baae693acb0/expr.ipynb\"><img src=\"data:image/png;base64,iVBORw0KGgoAAAANSUhEUgAAAD8AAAATBAMAAADVH8ihAAAAMFBMVEX///8AAAAAAAAAAAAAAAAA\n",
       "AAAAAAAAAAAAAAAAAAAAAAAAAAAAAAAAAAAAAAAAAAAv3aB7AAAAD3RSTlMAIquJdkTvuxBmmd1U\n",
       "zTKBpmoTAAAACXBIWXMAAA7EAAAOxAGVKw4bAAAA3UlEQVQoz2NgwAO4GAgAdjIVzE2vv50+AZ8J\n",
       "BUIMQdMb8CkQZmDnU2BYXl5WXj4BhwIugQtYTHDfvfsCXEEBpoJYD4QJTB0KcAWMyo4OYPoGkhXP\n",
       "zwrAFYQJsP8A0bwCcAVit397wEOSI5OBawNYAZIjZ/YihfcHBm4DEOPZbiAogChg70R4j62AoT8A\n",
       "xGhHMoFvQQWc1+/AMB/M4EYOh3XiCAUHGHR5QO5jcUBS0M4Ct4PdgWcXJN7vwBVIMXBOKIXxOFTs\n",
       "hPzArKbSBlhsFjKU3z+AGQfB1ZCgRgEAfyQ4BfovW/4AAAAASUVORK5CYII=\n",
       "\" style=\"display:inline;vertical-align:middle;\" /></a>, <a class=\"ProveItLink\" href=\"../../number_sets/complex_numbers/__pv_it/theorems/5c9b98ec381ed1eef8437437430dde6add03b8720/expr.ipynb\"><img src=\"data:image/png;base64,iVBORw0KGgoAAAANSUhEUgAAADMAAAAQBAMAAABJt1qBAAAAMFBMVEX///8AAAAAAAAAAAAAAAAA\n",
       "AAAAAAAAAAAAAAAAAAAAAAAAAAAAAAAAAAAAAAAAAAAv3aB7AAAAD3RSTlMAdokyu2YQ3URUqyLN\n",
       "75mYuQMGAAAACXBIWXMAAA7EAAAOxAGVKw4bAAAA5UlEQVQY02NgwAAxV/yPXwkAMxmVDFDlHHYx\n",
       "dIUkgFiubAVoUpsYWJgXABlMDgyfMaT4NhwAMuwbGH5CDHYvr0FIOQAZyxnYvoIEOA4mIHRxpQEN\n",
       "ZPvIwPEDJLAnAclAkzkbgMZ8ZmD8DRI4jbBr7/HvYkCa59eq9RdAAgeQnBGaA6L5HRjyBYA08/Xy\n",
       "8vISqBRLKsjLQPF4kC1sDki6mB+4gaQaGOrAAgXI/nq8BWRgA+c1sIAgslQKI9BErgnpkCDkmQCX\n",
       "2sfAGuABtOPha4gA25I2eMh7M7icn4AUdBwq0ICCAgBvTUGfeJd/4AAAAABJRU5ErkJggg==\n",
       "\" style=\"display:inline;vertical-align:middle;\" /></a>, <a class=\"ProveItLink\" href=\"../../addition/__pv_it/theorems/b9cae19a628b9412bdeba3850806ec1015c9b6ae0/expr.ipynb\"><img src=\"data:image/png;base64,iVBORw0KGgoAAAANSUhEUgAAAD0AAAATBAMAAADR6hicAAAAMFBMVEX///8AAAAAAAAAAAAAAAAA\n",
       "AAAAAAAAAAAAAAAAAAAAAAAAAAAAAAAAAAAAAAAAAAAv3aB7AAAAD3RSTlMAELvv3c2ZVESJq3Yi\n",
       "MmZ3LnoBAAAACXBIWXMAAA7EAAAOxAGVKw4bAAAA6ElEQVQoz2NgwA3YGPADJrLknxrphxg9gMsz\n",
       "KjugKVA4xdD1SACunzUBXf4kAxPvAoYkJWUlJaA5/AWY8mwHAuD6+wWg4ptcXALg8gpw+SlQ6daN\n",
       "CP1cggvg8lG7l4MonkAk8y+VHoC7/6uAPIjDegAufzjky0Z4+LF/ZGDeAJJHct87UaRADmDgnwCk\n",
       "L7sAgQJEnknuAVyeZQJDP8iHQkj6eRMU4Tyg9/NBPmRB9n/uIYT8BUY7EM29AUleiBtuAdcDJkgA\n",
       "h8PljzHwPdCA8RhX5kEYUhoCsPjTYVCKL8CI2E4VSPiiAAC5IjjtCVE78gAAAABJRU5ErkJggg==\n",
       "\" style=\"display:inline;vertical-align:middle;\" /></a> <a class=\"ProveItLink\" href=\"../__pv_it/demonstrations/ca115c14734c16453ccb67adbc153c044e7a27cf0/proof.ipynb\" style=\"text-decoration: none\">&nbsp;&#x22A2;&nbsp;&nbsp;</a><a class=\"ProveItLink\" href=\"../__pv_it/demonstrations/73e624afba86e747d02ae465e3aa41c46411c3900/expr.ipynb\"><img src=\"data:image/png;base64,iVBORw0KGgoAAAANSUhEUgAAAKUAAAAbCAMAAAAqNb/tAAAANlBMVEX///8AAAAAAAAAAAAAAAAA\n",
       "AAAAAAAAAAAAAAAAAAAAAAAAAAAAAAAAAAAAAAAAAAAAAAAAAABHL6OuAAAAEXRSTlMAme8y+fMi\n",
       "q4l2RLsQZt1UzTcbbZUAAAAJcEhZcwAADsQAAA7EAZUrDhsAAAICSURBVFjDzViLroMgDC248abI\n",
       "///sBRQlGY66uXhJXNhSzjm0pcUBEIef4MbBiHZcbVPBtL4Ekz746RXOOpjdtZjXq7Q+PeF/qpx9\n",
       "jXfM375XKWi84jOVzKaPOH2rUgcar9FnVbp8gtAqJWMvXTnSVQY1Sv6Kpv1JlRNP/o/pYd1TPDOy\n",
       "SjePCStaPqmnI57dyLtJFQNZJfNDkw3Nsw9Upq2xbk6Z6MgqxxY7GnA3tHeSI2tVGqX6ia+QrCGM\n",
       "A76jZeoVUUilRaejOI7Bc0nyttRaBpJKtp2dI94GDZRcEU3ONBtfO4rEUiIdoSXFlAsun61WJcNm\n",
       "yJf0OeRt0MDP8Fg85gtiJ4d9bTfDKBYunv3yGNliqJE64m3QIHB4lh2X+odq38g6m+Iy1BsPVq+V\n",
       "SbF8Dg+PWdcc8bZoScQSHW6Ljdn2yjaVQeRxHPHNtHCZUj84VeUhb4uW0qIgupg962OvamnqhaAg\n",
       "siVQo7xcI/6Od0eDgKvK/JucIbxUa8Yd8WqQW/uSZ2NfWr2qPORt0MDbBTGvCsndr43PIfdGI8Gj\n",
       "Ml/oGK1eKrmr7fM2aLlu8aV0azUJqXs3HYZxpoTdSVX73lDlhHXNEW+DBmh+cGOl9D888RYlEG5S\n",
       "6U+8GmWf3qMSrCC70sJtKp0lv2aJ+1SCIBZiLeBGlefGL/6yuBzzD4JVE6Lmqw25AAAAAElFTkSu\n",
       "QmCC\n",
       "\" style=\"display:inline;vertical-align:middle;\" /></a></span>"
      ],
      "text/plain": [
       "{a in RealPos, theta in Real, b in RealPos} |- |a * e^{i * theta} * b| = (a * b)"
      ]
     },
     "metadata": {},
     "output_type": "display_data"
    }
   ],
   "source": [
    "Abs(Mult(a, Exp(e, Mult(i, theta)), b)).simplification(\n",
    "    assumptions=[InSet(a, RealPos), InSet(b, RealPos), InSet(theta, Real)])"
   ]
  },
  {
   "cell_type": "code",
   "execution_count": 105,
   "metadata": {},
   "outputs": [
    {
     "data": {
      "text/html": [
       "<span style=\"font-size:20px;\"><a class=\"ProveItLink\" href=\"../../ordering/__pv_it/theorems/4aa8d696b1f407d6126de9f51a052e8d90e0848c0/expr.ipynb\"><img src=\"data:image/png;base64,iVBORw0KGgoAAAANSUhEUgAAADMAAAAQBAMAAABJt1qBAAAAMFBMVEX///8AAAAAAAAAAAAAAAAA\n",
       "AAAAAAAAAAAAAAAAAAAAAAAAAAAAAAAAAAAAAAAAAAAv3aB7AAAAD3RSTlMAIquJdkTvuxBmmd1U\n",
       "zTKBpmoTAAAACXBIWXMAAA7EAAAOxAGVKw4bAAAAzElEQVQY02NgwABz0+tvp09gwAoKhBiCpjdg\n",
       "lxJmYOdTwCXFJXABRch99+4LcKkCZJlYD4Qupg6QgYzKjg4gAcYbSAY+PysAZIQJsP8ACfAKwKXE\n",
       "bv8GmcCRycC1ASyF5IyZvSCa6wMDtwGI8Ww3EBRApNg7QV5mK2DoDwAJtCPp4ltQAaT7HRjmgwW4\n",
       "kf21ThwkdYBBlwfkAhYHJKl2FqCJ7A48u7jAInfgUlIMnBNKgS5UsRPyA4s0lTbAQr6Qofz+AeTg\n",
       "CK7ejRxyAISENKeL/c93AAAAAElFTkSuQmCC\n",
       "\" style=\"display:inline;vertical-align:middle;\" /></a>, <a class=\"ProveItLink\" href=\"../../addition/__pv_it/theorems/b9cae19a628b9412bdeba3850806ec1015c9b6ae0/expr.ipynb\"><img src=\"data:image/png;base64,iVBORw0KGgoAAAANSUhEUgAAAD0AAAATBAMAAADR6hicAAAAMFBMVEX///8AAAAAAAAAAAAAAAAA\n",
       "AAAAAAAAAAAAAAAAAAAAAAAAAAAAAAAAAAAAAAAAAAAv3aB7AAAAD3RSTlMAELvv3c2ZVESJq3Yi\n",
       "MmZ3LnoBAAAACXBIWXMAAA7EAAAOxAGVKw4bAAAA6ElEQVQoz2NgwA3YGPADJrLknxrphxg9gMsz\n",
       "KjugKVA4xdD1SACunzUBXf4kAxPvAoYkJWUlJaA5/AWY8mwHAuD6+wWg4ptcXALg8gpw+SlQ6daN\n",
       "CP1cggvg8lG7l4MonkAk8y+VHoC7/6uAPIjDegAufzjky0Z4+LF/ZGDeAJJHct87UaRADmDgnwCk\n",
       "L7sAgQJEnknuAVyeZQJDP8iHQkj6eRMU4Tyg9/NBPmRB9n/uIYT8BUY7EM29AUleiBtuAdcDJkgA\n",
       "h8PljzHwPdCA8RhX5kEYUhoCsPjTYVCKL8CI2E4VSPiiAAC5IjjtCVE78gAAAABJRU5ErkJggg==\n",
       "\" style=\"display:inline;vertical-align:middle;\" /></a>, <a class=\"ProveItLink\" href=\"../../number_sets/complex_numbers/__pv_it/theorems/5c9b98ec381ed1eef8437437430dde6add03b8720/expr.ipynb\"><img src=\"data:image/png;base64,iVBORw0KGgoAAAANSUhEUgAAADMAAAAQBAMAAABJt1qBAAAAMFBMVEX///8AAAAAAAAAAAAAAAAA\n",
       "AAAAAAAAAAAAAAAAAAAAAAAAAAAAAAAAAAAAAAAAAAAv3aB7AAAAD3RSTlMAdokyu2YQ3URUqyLN\n",
       "75mYuQMGAAAACXBIWXMAAA7EAAAOxAGVKw4bAAAA5UlEQVQY02NgwAAxV/yPXwkAMxmVDFDlHHYx\n",
       "dIUkgFiubAVoUpsYWJgXABlMDgyfMaT4NhwAMuwbGH5CDHYvr0FIOQAZyxnYvoIEOA4mIHRxpQEN\n",
       "ZPvIwPEDJLAnAclAkzkbgMZ8ZmD8DRI4jbBr7/HvYkCa59eq9RdAAgeQnBGaA6L5HRjyBYA08/Xy\n",
       "8vISqBRLKsjLQPF4kC1sDki6mB+4gaQaGOrAAgXI/nq8BWRgA+c1sIAgslQKI9BErgnpkCDkmQCX\n",
       "2sfAGuABtOPha4gA25I2eMh7M7icn4AUdBwq0ICCAgBvTUGfeJd/4AAAAABJRU5ErkJggg==\n",
       "\" style=\"display:inline;vertical-align:middle;\" /></a>, <a class=\"ProveItLink\" href=\"../__pv_it/demonstrations/8c5864665d603ebc7e84fdb786d604e60f56fcc70/expr.ipynb\"><img src=\"data:image/png;base64,iVBORw0KGgoAAAANSUhEUgAAAD0AAAATBAMAAADR6hicAAAAMFBMVEX///8AAAAAAAAAAAAAAAAA\n",
       "AAAAAAAAAAAAAAAAAAAAAAAAAAAAAAAAAAAAAAAAAAAv3aB7AAAAD3RSTlMAiXZmMiLdVJm77xBE\n",
       "zatgdeJyAAAACXBIWXMAAA7EAAAOxAGVKw4bAAAA0ElEQVQoz2NgwA04GPADTrLkbVfOv7bSAI/+\n",
       "CXEM5yw34JEPZOBkecDQOXPWzJkG2OU5Ai5g6tdMS7sAl5+AIX9WG6Gfb/cDhLyQsgOQZL2NZL5n\n",
       "bQBcPqyAA2QYbwBcPuraN21E+CUycCmA5JHcZ7wXKZB/Q2ivNCCYAJHn3IzwF9cECL0TST9Lw2w4\n",
       "b78ChGZD9n9LJJzHDzTqAJBmUkCS38kEtwDoeEaQ/xiuw+UjGJgN5sANEDSGBMy+ORtg8TeVYeb9\n",
       "AoxwPzgNEr4oAABdmzkc2vbi6QAAAABJRU5ErkJggg==\n",
       "\" style=\"display:inline;vertical-align:middle;\" /></a> <a class=\"ProveItLink\" href=\"../__pv_it/demonstrations/72eb52fb43a7aa32fa7637c4e0d4a8eb144ad0e40/proof.ipynb\" style=\"text-decoration: none\">&nbsp;&#x22A2;&nbsp;&nbsp;</a><a class=\"ProveItLink\" href=\"../__pv_it/demonstrations/2ec7296004ab63207cfbaa7399175cd7e3e709490/expr.ipynb\"><img src=\"data:image/png;base64,iVBORw0KGgoAAAANSUhEUgAAAOAAAAAbCAMAAABSpnMJAAAANlBMVEX///8AAAAAAAAAAAAAAAAA\n",
       "AAAAAAAAAAAAAAAAAAAAAAAAAAAAAAAAAAAAAAAAAAAAAAAAAABHL6OuAAAAEXRSTlMAme8y+fMi\n",
       "q4l2RLsQZt1UzTcbbZUAAAAJcEhZcwAADsQAAA7EAZUrDhsAAAJ2SURBVFjD3ZiLcoQgDEUDthDk\n",
       "Jf//sxXUNbvCkK22dcqMna11ufeQkGABTg4/wL2HOPl9iY+PShjzo1rfM3jZTM46mNzvaP0JoPXz\n",
       "Ff8d4OS3BE35twsA1Xodbr471LWAws4/0nAa0OQ1wvHl7uEGY4yGIeqsDF1AlwtNsIg6nc6WiMAE\n",
       "7FoD4zmik+gCDnLOhjRfQpwFdBMAO4JTryznmtcVTZGXojl4Up0FFP4NwI61uUmLvuiYHA9wXi0R\n",
       "Txc0CXzAnrU8neuKYiPPnZZBUMARMcJZwDi9AYiBUwJXUaXRqNo5ZNLG6KNzJ0P0UvPKGRpTTnR9\n",
       "QIFPPLurGmDDGhEE1KvomHePrYTcpTn1XDrsLR1K63MMPBXi2kQIoAhk6EPCLzzEVa2KNqwRQfAT\n",
       "fCzx8EW0kjNlenmIbfLb4aU7Am4zfPSfjQSQuqoAtqwRQYgSPst6pscftsXZVrp8SPhyf0jLwGa5\n",
       "32fYw/zZrzEjAaSuHoBda1Rw9rmkjbTlkX2VgqCrMT7q8XZ/SFHl0U7Rxwxlbm6ReQKkrvYI9qxR\n",
       "wTnJi6hLOZ4+tVqNOO61ZLjvGOTJ/h6kKfrkqpKiDWtUEGJYAfOzeoJ42LH5cLnshZdyJx3zDLzs\n",
       "VhhZEbSGAhJXNcCGNSII3i6ied44x/h49NH5HahyInJB+tEERhyXcoa8NoGapCh1VQFsWSOCue3I\n",
       "pWsbHJQ2Q6Wfo6iXShHSxMpTRO+N4+3BIdAqSlzV2kTL2i4IYfzVl1CGVhjeOIsyWjDcDdCLKwFz\n",
       "hG8GCFZdB6gs3A/Q2esAy2LdDRDK4fpQ7sw3/v1qFNwR8Oox/FOtbXwBK10ZfPvJlRwAAAAASUVO\n",
       "RK5CYII=\n",
       "\" style=\"display:inline;vertical-align:middle;\" /></a></span>"
      ],
      "text/plain": [
       "{a in Real, b in RealPos, theta in Real, c in RealPos} |- |a * b * e^{i * theta} * c| = (|a| * b * c)"
      ]
     },
     "metadata": {},
     "output_type": "display_data"
    }
   ],
   "source": [
    "# Since we don't know the sign of 'a', we must take the absolute value.\n",
    "Abs(Mult(a, b, Exp(e, Mult(i, theta)), c)).simplification(\n",
    "    assumptions=[InSet(a, Real), InSet(b, RealPos), InSet(c, RealPos), InSet(theta, Real)])"
   ]
  },
  {
   "cell_type": "markdown",
   "metadata": {},
   "source": [
    "### Triangle inequality"
   ]
  },
  {
   "cell_type": "code",
   "execution_count": 106,
   "metadata": {},
   "outputs": [
    {
     "data": {
      "text/html": [
       "<span style=\"font-size:20px;\"><a class=\"ProveItLink\" href=\"../__pv_it/theorems/e9f87a0977d5044ea8daf1040d2f219396bb3d5b0/expr.ipynb\"><img src=\"data:image/png;base64,iVBORw0KGgoAAAANSUhEUgAAADMAAAAQBAMAAABJt1qBAAAAMFBMVEX///8AAAAAAAAAAAAAAAAA\n",
       "AAAAAAAAAAAAAAAAAAAAAAAAAAAAAAAAAAAAAAAAAAAv3aB7AAAAD3RSTlMAIquJdkTvuxBmmd1U\n",
       "zTKBpmoTAAAACXBIWXMAAA7EAAAOxAGVKw4bAAAA0ElEQVQY02NgwAKaq+86PsYmwcCiNoFjfRVW\n",
       "qSXBDAycWKX4FlQASS0UMffduy8AKaaGAiDZiSwT6wGh2RkXQEUYlR0dwPQNqIAQnwGUFSbA/gNE\n",
       "8wpABR6zToAwODIZuDaApWAGS7E6QBhcHxi4wQY82w0EBWC7oAayFTD0B4AY7TBd7GAXAkG/A8N8\n",
       "MIMbJsUK9hcrUOoAgy4PyAUsDvDQCAISa4HaHXh2cYFF7sDDsHYhx2mg3zhU7IT8wCJNpQ2wkC/7\n",
       "vRA18IKrwQEFAwCqvi28/xxvKQAAAABJRU5ErkJggg==\n",
       "\" style=\"display:inline;vertical-align:middle;\" /></a>, <a class=\"ProveItLink\" href=\"../__pv_it/theorems/a259ec76dfb0a5be60b7c83d797520fa82c1dba60/expr.ipynb\"><img src=\"data:image/png;base64,iVBORw0KGgoAAAANSUhEUgAAADEAAAAQBAMAAABNQoq8AAAAMFBMVEX///8AAAAAAAAAAAAAAAAA\n",
       "AAAAAAAAAAAAAAAAAAAAAAAAAAAAAAAAAAAAAAAAAAAv3aB7AAAAD3RSTlMAELvv3c2ZVESJq3Yi\n",
       "MmZ3LnoBAAAACXBIWXMAAA7EAAAOxAGVKw4bAAAA2UlEQVQY02NgwASSKqF7bjIwMCo7oElwL37A\n",
       "mK8GZLAmoMlkdzIw8IFk+AtQJXgTFIHkMiDuF4AKbXJxCQBSXAIKQFIOiKdAJVo3QmgmHpjxUbuX\n",
       "gyieQCj/FO8ECIPxq4D8AZBDDkBlbnI8gDDYPzIwbwDJwFxwjGMDhMEWwMAP0n7ZBQgUwPZATWOZ\n",
       "wNAPcrcQTA8T2G0Q7+SD3M0Ck+EA+4cDKHOB0Q4cJhvgYdAFJFKBHnvABHF/ODzcVHMYS4BijCvz\n",
       "IAJSGrDAkFT+koMSYJ0q4NCBAQD6uylQEVfDpgAAAABJRU5ErkJggg==\n",
       "\" style=\"display:inline;vertical-align:middle;\" /></a> <a class=\"ProveItLink\" href=\"../__pv_it/demonstrations/5de2eae48b9d4ba893b946284de27d406a07b80b0/proof.ipynb\" style=\"text-decoration: none\">&nbsp;&#x22A2;&nbsp;&nbsp;</a><a class=\"ProveItLink\" href=\"../__pv_it/demonstrations/fb2f4406140c29ea38920eb8650681e703845a1e0/expr.ipynb\"><img src=\"data:image/png;base64,iVBORw0KGgoAAAANSUhEUgAAAKUAAAAVBAMAAADVzzOcAAAAMFBMVEX///8AAAAAAAAAAAAAAAAA\n",
       "AAAAAAAAAAAAAAAAAAAAAAAAAAAAAAAAAAAAAAAAAAAv3aB7AAAAD3RSTlMAIolEdjKr77sQZpnd\n",
       "VM0QaojEAAAACXBIWXMAAA7EAAAOxAGVKw4bAAAB9UlEQVQ4y5WUv0/CUBDHj99todCBsOjQBN0c\n",
       "GEwcKUZGE/wPCGHV4GaMA4OJo40DDhrpziAzMYEQiYl0wN0BB00cTEh0YdD42sdrebzXil2O3N33\n",
       "8+5x9w4U8PgCPJfjVLjJARzIejGDOca16zqz3GRkNj2Y4lmPx5RVHybRhA2POpNtiim/2OYG/Ook\n",
       "mveFYMjANjWaZ0pD3bYdlkkEyE80rQWmrGGb1+fk4T5GQo1lEgHyE01M5zM35np0cU+CY18m0SQN\n",
       "KxioFDQ65W1nn8ivHsmBcRWLMmtpHpNogmUruKUIUypF/NGbCmY2PtzGGbY2dAjnOst0NNIYBcVj\n",
       "iPeoFHkKMQ0zoy4zgZtwacAdp05HI9dQMD6BhGrdzTQfTkyzjH6NIaXO7r7i3D2Ws5ldgD5mugLk\n",
       "dzSRCQrG6tDMUceiI/Ijpkcz5hGIn5w6HU3IqrOpwS3ddzRqXZ2ZJXx38QukCYfpaOSexRzBgaxQ\n",
       "zBL6j5mZFzSb+Q3R8ROHSTRSHQUFTR7GqZSoIbSpt/lq68r23U/hud1mmY4GjRzqe3U9U6RnqdLh\n",
       "7JAIXhKN7b1qiTNLRJPI8d8Rf9cNfN8RMaseO4TPbPnuEGI6f+7ka9P6BrZHUJbYyYH6v/a8WF+C\n",
       "iQ6GohczXGJcaddZ5CYjUwD4BZy3jtZm+QAfAAAAAElFTkSuQmCC\n",
       "\" style=\"display:inline;vertical-align:middle;\" /></a></span>"
      ],
      "text/plain": [
       "{a in Complex, b in Complex} |- |a + b| <= (|a| + |b|)"
      ]
     },
     "metadata": {},
     "output_type": "display_data"
    }
   ],
   "source": [
    "Abs(Add(a, b)).deduce_triangle_bound(assumptions=[InSet(a, Complex), InSet(b, Complex)])"
   ]
  },
  {
   "cell_type": "code",
   "execution_count": 107,
   "metadata": {},
   "outputs": [
    {
     "data": {
      "text/html": [
       "<span style=\"font-size:20px;\"><a class=\"ProveItLink\" href=\"../../number_sets/natural_numbers/__pv_it/theorems/1a8a7907b709bbd24c48a9933f16dbe96429f5cc0/expr.ipynb\"><img src=\"data:image/png;base64,iVBORw0KGgoAAAANSUhEUgAAADUAAAAQBAMAAABEqSrGAAAAMFBMVEX///8AAAAAAAAAAAAAAAAA\n",
       "AAAAAAAAAAAAAAAAAAAAAAAAAAAAAAAAAAAAAAAAAAAv3aB7AAAAD3RSTlMARHarECKJu90yVM1m\n",
       "75kejotwAAAACXBIWXMAAA7EAAAOxAGVKw4bAAAA5ElEQVQY02NgwAQe36sdGHL/CjBgA1WMBgws\n",
       "H7BKMVgE5DAwXMAuZ1XAHcDQgCqm3tGxAUSbHmLdgCYnrQJlmDJPUAPJMSq7JhWBRVi3wBSZMhSw\n",
       "CwDl2NiNGPwDQCLcAQi5eSwtQDlBjgKG+AlgOQaEHM+C5UB3OvgLMKx3AInM7QCCAogcgwkzyA/r\n",
       "GRiswardkfQxOLOA3AmU+MMCEuFAluNUAJlwjYHrCxtIhEkBJlcJxJpAOdafDEwbToKFdsHkQAw+\n",
       "YCgwNjCw2CwACzkXgt3EMPsvUA/LBtQwE6voQBYBAAF6MQMvLZecAAAAAElFTkSuQmCC\n",
       "\" style=\"display:inline;vertical-align:middle;\" /></a>, <a class=\"ProveItLink\" href=\"../__pv_it/theorems/e9f87a0977d5044ea8daf1040d2f219396bb3d5b0/expr.ipynb\"><img src=\"data:image/png;base64,iVBORw0KGgoAAAANSUhEUgAAADMAAAAQBAMAAABJt1qBAAAAMFBMVEX///8AAAAAAAAAAAAAAAAA\n",
       "AAAAAAAAAAAAAAAAAAAAAAAAAAAAAAAAAAAAAAAAAAAv3aB7AAAAD3RSTlMAIquJdkTvuxBmmd1U\n",
       "zTKBpmoTAAAACXBIWXMAAA7EAAAOxAGVKw4bAAAA0ElEQVQY02NgwAKaq+86PsYmwcCiNoFjfRVW\n",
       "qSXBDAycWKX4FlQASS0UMffduy8AKaaGAiDZiSwT6wGh2RkXQEUYlR0dwPQNqIAQnwGUFSbA/gNE\n",
       "8wpABR6zToAwODIZuDaApWAGS7E6QBhcHxi4wQY82w0EBWC7oAayFTD0B4AY7TBd7GAXAkG/A8N8\n",
       "MIMbJsUK9hcrUOoAgy4PyAUsDvDQCAISa4HaHXh2cYFF7sDDsHYhx2mg3zhU7IT8wCJNpQ2wkC/7\n",
       "vRA18IKrwQEFAwCqvi28/xxvKQAAAABJRU5ErkJggg==\n",
       "\" style=\"display:inline;vertical-align:middle;\" /></a>, <a class=\"ProveItLink\" href=\"../__pv_it/theorems/a259ec76dfb0a5be60b7c83d797520fa82c1dba60/expr.ipynb\"><img src=\"data:image/png;base64,iVBORw0KGgoAAAANSUhEUgAAADEAAAAQBAMAAABNQoq8AAAAMFBMVEX///8AAAAAAAAAAAAAAAAA\n",
       "AAAAAAAAAAAAAAAAAAAAAAAAAAAAAAAAAAAAAAAAAAAv3aB7AAAAD3RSTlMAELvv3c2ZVESJq3Yi\n",
       "MmZ3LnoBAAAACXBIWXMAAA7EAAAOxAGVKw4bAAAA2UlEQVQY02NgwASSKqF7bjIwMCo7oElwL37A\n",
       "mK8GZLAmoMlkdzIw8IFk+AtQJXgTFIHkMiDuF4AKbXJxCQBSXAIKQFIOiKdAJVo3QmgmHpjxUbuX\n",
       "gyieQCj/FO8ECIPxq4D8AZBDDkBlbnI8gDDYPzIwbwDJwFxwjGMDhMEWwMAP0n7ZBQgUwPZATWOZ\n",
       "wNAPcrcQTA8T2G0Q7+SD3M0Ck+EA+4cDKHOB0Q4cJhvgYdAFJFKBHnvABHF/ODzcVHMYS4BijCvz\n",
       "IAJSGrDAkFT+koMSYJ0q4NCBAQD6uylQEVfDpgAAAABJRU5ErkJggg==\n",
       "\" style=\"display:inline;vertical-align:middle;\" /></a>, <a class=\"ProveItLink\" href=\"../__pv_it/theorems/2de9369b45a908c70ce51ac54a63f9ba591079430/expr.ipynb\"><img src=\"data:image/png;base64,iVBORw0KGgoAAAANSUhEUgAAASUAAAAVBAMAAADyROVdAAAAMFBMVEX///8AAAAAAAAAAAAAAAAA\n",
       "AAAAAAAAAAAAAAAAAAAAAAAAAAAAAAAAAAAAAAAAAAAv3aB7AAAAD3RSTlMAInZUiRDNmWbv3US7\n",
       "qzJazP2FAAAACXBIWXMAAA7EAAAOxAGVKw4bAAADFElEQVRIx5WWTWjUQBTH/8l+djfdrqAURGVb\n",
       "/AIt9KCCPegeiieFUAvtwY+iVD2mxY96ck966aEXQRC0IFpYQZZa1B7EVViLFWQpiPQgiFTEHrQH\n",
       "9SBinZnMR7aZZJsHzb7O/P4vb15mXgIgj3AzvP9EgjXWTO8CZnfgfOLogzPbitmCGokEayxEj/75\n",
       "cx1LmKbuvmCq6xYG/jrYrUYiwRoL0ZuLpcS1OZglsryhQCq1pwiMO0jashZRYF0tg/UYnQHSc8Aw\n",
       "iVUKpL5aJH6rg7QjbxwF1iUerM85NXL9ANwAWvzTe8tltp73Fl0aCXNTzESCNabRiwCtdpVcBwlj\n",
       "44APerKDO9V27lwQU5Fgjfn1MoBl8AInS7hIfvq6TvXKA2EMC6e+xL1jYi4SrDGfXgXYmiu6TrzO\n",
       "luWYC6lJQSVFC8kVn3HvOjw1WDesMZ9eBVjK8r2WHsI9cs2nf7WWMOgeiqRcgjPNvYNiSMKJ3o92\n",
       "M1hj6mYyJ+G0i84Wm8BtskakSDq5Tjf7b2ViVbZFNnL+hxBKOAV3rWGwxqRemgxgGfzZ5VYoRvY6\n",
       "zTHm5nRC8jWLO7OemC7cVjH+NYP1OfGbCZMBLHbuiGUnaDmBF/mELXLKSP4pbTmoAD2e2rtw2nZz\n",
       "CoP1z47rxz7varxblvWnLCvNK5JrZRFxWSezoFpzHazS47T10BEFIz4ZAsPfzO0G/eBsqSXfGGD0\n",
       "OblcJhuuSo/u4S9X8VjmhLOqnZ3PH5/iR/j0kHvOOYxlOwRO/OaKRkfpN+1E25oA5uuRRA/pUaki\n",
       "loGBzthYt8rp5FtbvurvTtHVPKRFvk8TkbBRC4NRJqMZ2gRplsyhIx79gth3KkD/mz8jlK4g80kk\n",
       "KnLCzHy54V1psIn9lJdwOzaEwTHfw2MjSn8HV3L6AJvheWfGJkPfnPSoSth49/1SGBz3jbMRpV/B\n",
       "o0P6AGPk76XAjvwM+B7bwh4NmxRwy+rqSgiMPt+4OyL02Tq2678RjGpDiwkyFshc07xCYfhXV1in\n",
       "3qJ70ig0oUzPN3QkWFeFZnp0AP8BtTnuFTq+9W4AAAAASUVORK5CYII=\n",
       "\" style=\"display:inline;vertical-align:middle;\" /></a>, <a class=\"ProveItLink\" href=\"../../addition/subtraction/__pv_it/theorems/b66b5547fa9b0b910f79351152926c658c2718190/expr.ipynb\"><img src=\"data:image/png;base64,iVBORw0KGgoAAAANSUhEUgAAADEAAAAQBAMAAABNQoq8AAAAMFBMVEX///8AAAAAAAAAAAAAAAAA\n",
       "AAAAAAAAAAAAAAAAAAAAAAAAAAAAAAAAAAAAAAAAAAAv3aB7AAAAD3RSTlMAiXZmMiLdVJm77xBE\n",
       "zatgdeJyAAAACXBIWXMAAA7EAAAOxAGVKw4bAAAAw0lEQVQY02NgwAQbp91VdcQizsD0yoC7fwY2\n",
       "maaDDAzM2GRYGmYDyRfIQpppaReAFN+GCUByM5LEWW0IzcnaABMSUnYAkqy3odw4FgEoK6yAA6Sd\n",
       "NwDKd+QxgLISGbgUQDIwIyJ4FCAMjt8Q2isNCCaA7YGaxjUBQu+E6eHcABXZD9XLBpPhAfuHh4GB\n",
       "H2jfAVCYKMDD4ByQ6AXaM4GBEeRqhuvwcJvbyl0G8pOgMcSL++ZsgIX1rG+tKAF2cBo4dGAAAHWD\n",
       "KgtwTxl0AAAAAElFTkSuQmCC\n",
       "\" style=\"display:inline;vertical-align:middle;\" /></a> <a class=\"ProveItLink\" href=\"../__pv_it/demonstrations/6d8f5009a3661ec7ce3350577cea20f68cd626d30/proof.ipynb\" style=\"text-decoration: none\">&nbsp;&#x22A2;&nbsp;&nbsp;</a><a class=\"ProveItLink\" href=\"../__pv_it/demonstrations/81f85d72ca3ffffe0ed504bd5429b7824f91f3450/expr.ipynb\"><img src=\"data:image/png;base64,iVBORw0KGgoAAAANSUhEUgAAApYAAAAVBAMAAAAOZ7NmAAAAMFBMVEX///8AAAAAAAAAAAAAAAAA\n",
       "AAAAAAAAAAAAAAAAAAAAAAAAAAAAAAAAAAAAAAAAAAAv3aB7AAAAD3RSTlMAIolEdjKr77sQZpnd\n",
       "VM0QaojEAAAACXBIWXMAAA7EAAAOxAGVKw4bAAAEiklEQVRYw82ZQYgcRRSGX+9MZu2ZnU0jInvL\n",
       "4sQFYyI5KQRkB5ndg+TQih5ERZEFSUDZ4IIxBEQMePBgIzGu5rAjGlDU2ATBGBZ3iKBIOjBKwIND\n",
       "MifB5KBJzGGENVZX9VT3q1dVTuWSqUP1zP+qX/37dfV011sIYFxaoJMCQzDQyp4tofd/s2mbB6Pk\n",
       "DPinxtiwpE7KXSk29IMVeWK3JaE1aGz4LFPOBpSa+pz+W52xYPkLWFiuHh4rlvCoIed0fHtZXuS3\n",
       "kt+3sYQr48VyOsLBPdlxa1cRlFZqu8jmANJzJ198yw+1NmW5J/++SWU9rlGCRmt6lmqUydUYs7yQ\n",
       "HecjRVBavekimwNIl0723ieOk0BZXpDfSwMq63GNEjRa07NUo6n8mp7lTrh9LP2dQ/GileVEZ8xY\n",
       "Xk77u7ffpST+vfUSFo4uvndPl07kt/Y9vsuBpTI+P2GidSKz6a/L+/6UMMntUZbTS4tdDa7CFC5B\n",
       "G8uiaw3Lofe59GY5AO9EKLH/b7QWoJni8lKtQyeqwWJz3YGlMl7q3nk4LWz6L+eX7LK4l7k9ynLt\n",
       "D/+qBldhCpegjWXRNWUpvZ9k/fttWMeJ6wOYbBaFalAdVNp0oo/gq2i/A0tlvNSnZmEls1lgeZ57\n",
       "F/Yoy0uRPKeIqzCFS9DGsuiaspTef2X9BsDZVF9PkleT5Id0+fRh62xR2JJKAB/2+eJKkh8PJ8nz\n",
       "7GMI37H+3bl9WMaNjKf6RiRtevk9/goXhb0Gdsi+s0zXVJn9aWIK/ySAMcj9qglNluVZOUscld6f\n",
       "Y/1B8K/ji8RQz3fxVUvX6ZZWhyzAlfQHYLiuR3j2rGj1g9pnj2Ap7NF1eRZKm9rHSzrFE3sNzx7p\n",
       "1+nZs2J59kjvD0HD/xuqf+HE7PVyI8IzzQd+BHXCsnQVPoDrsC0ckSUfT3RmQfdOxO/xzB5luQm1\n",
       "gQ6XmKKnZ5n7dWFZcE1Y5t57zOwmVPo/Y5ahfwgJq7tfhAkgLP03K8swC5+NyjIb//mJVowt/cP8\n",
       "0nf1I5ylsEdZ3kh/SQmubAo9y6Lf0Vki13RdSu+fsv4I9OIYJa6078DCpae+gYcpy/qN48ulbv4+\n",
       "OpxhrZ++C0DWqeP9jw/BAXzCaYB70R6SX5s5zkPYoyz3w9saXENLWpZFv0qQO5W+ES3kmrKU3k+x\n",
       "/tgjjy2FOPELZ/BMx1v1M13Nuvy6+duX6aPpJ+WxnF6JczDslPHe0T4MFEs7PonoDvkZzkPYoyyP\n",
       "3d/WLb3Mkn5dFvyqCc8h32hdFl1TltL79/p9j0Ggv5eizURO+55Ks7Rs20MO21Ro2/fYtzY9WzD1\n",
       "67zvEa7N+x6vo69tGATJEtcqvNgLXGobk2EtDm21jaxVY2ttw1q+6FmC3K9zbUO4Ntc2am2nWnBd\n",
       "X9acefLpyKW4tg2mng0NNTc/4U2E34BbrgX3LEHu17nmJlyba24zTnV174Fr2pv49Zs3nQqVD0J5\n",
       "x0i14NVbZnnnn9vNQe7XmaVwbWbJLvzC2PyPgjrxmlJc0A9W5HJoSWgNGhs+y5RzAcoB/AdEV9tX\n",
       "0hWGqQAAAABJRU5ErkJggg==\n",
       "\" style=\"display:inline;vertical-align:middle;\" /></a></span>"
      ],
      "text/plain": [
       "{n in Natural, a in Complex, b in Complex,(x_{1} in Complex), (x_{2} in Complex), ..., (x_{n} in Complex), c in Complex} |- |a + b+ x_{1} +  x_{2} +  ... +  x_{n} + c| <= (|a| + |b|+ |x_{1}| +  |x_{2}| +  ... +  |x_{n}| + |c|)"
      ]
     },
     "metadata": {},
     "output_type": "display_data"
    }
   ],
   "source": [
    "Abs(Add(a, b, x_1_to_n, c)).deduce_triangle_bound(\n",
    "    assumptions=[InSet(a, Complex), InSet(b, Complex), InSet(c, Complex),\n",
    "                 ExprRange(k, InSet(IndexedVar(x, k), Complex), one, n), \n",
    "                 InSet(n, Natural)])"
   ]
  },
  {
   "cell_type": "code",
   "execution_count": 108,
   "metadata": {},
   "outputs": [],
   "source": [
    "%end demonstrations"
   ]
  },
  {
   "cell_type": "code",
   "execution_count": null,
   "metadata": {},
   "outputs": [],
   "source": []
  }
 ],
 "metadata": {
  "kernelspec": {
   "display_name": "Python 3",
   "language": "python",
   "name": "python3"
  }
 },
 "nbformat": 4,
 "nbformat_minor": 0
}