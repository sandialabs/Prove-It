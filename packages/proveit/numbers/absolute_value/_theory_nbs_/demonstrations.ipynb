{
 "cells": [
  {
   "cell_type": "markdown",
   "metadata": {},
   "source": [
    "Demonstrations for the theory of <a class=\"ProveItLink\" href=\"theory.ipynb\">proveit.numbers.absolute_value</a>\n",
    "========"
   ]
  },
  {
   "cell_type": "code",
   "execution_count": null,
   "metadata": {},
   "outputs": [],
   "source": [
    "import proveit\n",
    "from proveit import ExprRange, IndexedVar, used_vars, free_vars\n",
    "from proveit import a, b, c, k, n, r, x, y, theta\n",
    "from proveit.core_expr_types import x_1_to_n\n",
    "from proveit.logic import And, Equals, InSet, NotEquals\n",
    "from proveit.numbers import zero, one, two, three, e, i, pi\n",
    "from proveit.numbers import (Abs, Add, frac, Exp, greater,\n",
    "                            greater_eq, Less, LessEq, Mult, Neg)\n",
    "from proveit.numbers import (Complex, Integer, Natural, NaturalPos,\n",
    "                            Real, RealPos, RealNeg, RealNonNeg, RealNonPos)\n",
    "from proveit.numbers.absolute_value  import abs_val_def_sqrt\n",
    "%begin demonstrations"
   ]
  },
  {
   "cell_type": "markdown",
   "metadata": {},
   "source": [
    "# Absolute Value (and norm) $|a|$"
   ]
  },
  {
   "cell_type": "markdown",
   "metadata": {},
   "source": [
    "<div style=\"line-height:1.4; font-size:14pt\">\n",
    "\n",
    "<a href='#introduction'>Introduction</a><br>\n",
    "<a href='#simple_expressions'>Simple Expressions Involving Absolute Value $|a|$</a><br>\n",
    "<a href='#common_attributes'>Common Attributes of an Absolute Value Expression</a><br>\n",
    "<a href='#axioms'>Axioms</a><br>\n",
    "<a href='#theorems'>Theorems</a><br>\n",
    "<a href='#further_demonstrations'>Further Demonstrations</a><br>\n",
    "    <ol>\n",
    "        <li><a href='#demo01'>Simplifying $|x+1|$ and Deducing Number Sets</a></li>\n",
    "        <li><a href='#demo02'>Simplifying $|a+b+2+3|$ and Deducing Number Sets</a></li>\n",
    "        <li><a href='#demo03'>Simplifying $1 + |x+1|$</a></li>\n",
    "    </ol>\n",
    "<a href='#misc_testing'>Misc Testing (temporary)</a><br>\n",
    "</div>\n"
   ]
  },
  {
   "cell_type": "markdown",
   "metadata": {},
   "source": [
    "## Introduction <a id='introduction'></a>"
   ]
  },
  {
   "cell_type": "markdown",
   "metadata": {},
   "source": [
    "<font size=3>The concept of the absolute value of a real number, and its generalization to the norm if a complex number, is ubiquitous in mathematics and often serves a key role in various proofs. The absolute value of a real number $x$, or the norm of a complex number $x$, is captured with the operation `Abs(x)`, along with a standard axiomatic definition and a variety of related theorems.</font>"
   ]
  },
  {
   "cell_type": "markdown",
   "metadata": {},
   "source": [
    "## Simple Expressions Involving Absolute Value $|a|$ <a id='simple_expressions'></a>"
   ]
  },
  {
   "cell_type": "markdown",
   "metadata": {},
   "source": [
    "<font size=3>It is straightforward to construct absolute value expressions. Here are some basic examples of such expressions:</font>"
   ]
  },
  {
   "cell_type": "code",
   "execution_count": null,
   "metadata": {},
   "outputs": [],
   "source": [
    "# basic absolute value expression\n",
    "abs_value_a = Abs(a)"
   ]
  },
  {
   "cell_type": "code",
   "execution_count": null,
   "metadata": {},
   "outputs": [],
   "source": [
    "# a version of the triangle inequality, where Abs() occurs repeatedly\n",
    "# inside a larger expression\n",
    "LessEq(Abs(Add(a, b)), Add(Abs(a),Abs(b)))"
   ]
  },
  {
   "cell_type": "markdown",
   "metadata": {},
   "source": [
    "## Common Attributes of an Absolute Value `Abs` Expression <a id='common_attributes'></a>"
   ]
  },
  {
   "cell_type": "markdown",
   "metadata": {},
   "source": [
    "<font size=3>Let's define a simple absolute value expression, $|a+b|$, and look at some of its attributes.</font>"
   ]
  },
  {
   "cell_type": "code",
   "execution_count": null,
   "metadata": {},
   "outputs": [],
   "source": [
    "abs_value_a_plus_b = Abs(Add(a, b))"
   ]
  },
  {
   "cell_type": "markdown",
   "metadata": {},
   "source": [
    "<font size=3>We can use the `expr_info()` method to look at how the expression is constructed:</font>"
   ]
  },
  {
   "cell_type": "code",
   "execution_count": null,
   "metadata": {},
   "outputs": [],
   "source": [
    "abs_value_a_plus_b.expr_info()"
   ]
  },
  {
   "cell_type": "markdown",
   "metadata": {},
   "source": [
    "<font size=3>The string version of the absolute value operator is simply the `Abs` string:</font>"
   ]
  },
  {
   "cell_type": "code",
   "execution_count": null,
   "metadata": {},
   "outputs": [],
   "source": [
    "abs_value_a_plus_b.operator"
   ]
  },
  {
   "cell_type": "markdown",
   "metadata": {},
   "source": [
    "<font size=3>And we can test for instances of `Abs()` in the usual way, by testing for the `Abs` class:</font>"
   ]
  },
  {
   "cell_type": "code",
   "execution_count": null,
   "metadata": {},
   "outputs": [],
   "source": [
    "if isinstance(abs_value_a_plus_b, Abs):\n",
    "    print(\"{} is an instance of Abs\".format(abs_value_a_plus_b))"
   ]
  },
  {
   "cell_type": "markdown",
   "metadata": {},
   "source": [
    "<font size=3>We can obtain the operand (the expression inside the absolute value) apart from the `Abs()` expression. We can also get a list of the variables and a separate list of the *free* variables in the expression (of course, in this expression, all the variables are also free variables):</font>"
   ]
  },
  {
   "cell_type": "code",
   "execution_count": null,
   "metadata": {},
   "outputs": [],
   "source": [
    "# the \"bare\" operand\n",
    "abs_value_a_plus_b.operand"
   ]
  },
  {
   "cell_type": "code",
   "execution_count": null,
   "metadata": {},
   "outputs": [],
   "source": [
    "# the operand in a (1-element) tuple\n",
    "abs_value_a_plus_b.operands"
   ]
  },
  {
   "cell_type": "code",
   "execution_count": null,
   "metadata": {},
   "outputs": [],
   "source": [
    "# the variables appearing in the expression\n",
    "used_vars(abs_value_a_plus_b)"
   ]
  },
  {
   "cell_type": "code",
   "execution_count": null,
   "metadata": {},
   "outputs": [],
   "source": [
    "# the free variables appearing in the expression\n",
    "free_vars(abs_value_a_plus_b, err_inclusively=True)"
   ]
  },
  {
   "cell_type": "markdown",
   "metadata": {},
   "source": [
    "<font size=3>And of course, we can reach into the expression and substitute for variables with other variables in the usual way:</font>"
   ]
  },
  {
   "cell_type": "code",
   "execution_count": null,
   "metadata": {},
   "outputs": [],
   "source": [
    "abs_value_c_plus_b = abs_value_a_plus_b.replaced({a:c})"
   ]
  },
  {
   "cell_type": "markdown",
   "metadata": {},
   "source": [
    "## Axioms <a id='axioms'></a>"
   ]
  },
  {
   "cell_type": "markdown",
   "metadata": {},
   "source": [
    "<font size=3>At this time, there is a single axiom for absolute value, defining $|x|=\\sqrt{x^2}$ for real-valued $x$:</font>"
   ]
  },
  {
   "cell_type": "code",
   "execution_count": null,
   "metadata": {},
   "outputs": [],
   "source": [
    "abs_val_def_sqrt"
   ]
  },
  {
   "cell_type": "markdown",
   "metadata": {},
   "source": [
    "<font size=3>When the `Conditional` class has been established, the axiomatic definition will use the standard piece-wise definition, and the “square root of the square” could then be a theorem instead. The definition for $|a+bi|$, the norm of complex number $z=a+bi$, is still under development.</font>"
   ]
  },
  {
   "cell_type": "markdown",
   "metadata": {},
   "source": [
    "## Theorems <a id='axioms'></a>"
   ]
  },
  {
   "cell_type": "markdown",
   "metadata": {},
   "source": [
    "<font size=3>Some typical absolute value-related theorems are illustrated below. The full complement of theorems appears in the `proveit.numbers/absolute_value/_theorems_.ipynb` notebook.</font>"
   ]
  },
  {
   "cell_type": "code",
   "execution_count": null,
   "metadata": {},
   "outputs": [],
   "source": [
    "from proveit.numbers.absolute_value import (\n",
    "        abs_nonzero_closure, abs_is_non_neg, abs_non_neg_elim, triangle_inequality)"
   ]
  },
  {
   "cell_type": "code",
   "execution_count": null,
   "metadata": {},
   "outputs": [],
   "source": [
    "# abs value of a non-zero value is a positive real number\n",
    "abs_nonzero_closure"
   ]
  },
  {
   "cell_type": "code",
   "execution_count": null,
   "metadata": {},
   "outputs": [],
   "source": [
    "# abs value of any number is non-negative\n",
    "abs_is_non_neg"
   ]
  },
  {
   "cell_type": "code",
   "execution_count": null,
   "metadata": {},
   "outputs": [],
   "source": [
    "# we can eliminate the abs value wrapper around a non-negative real number\n",
    "abs_non_neg_elim"
   ]
  },
  {
   "cell_type": "code",
   "execution_count": null,
   "metadata": {},
   "outputs": [],
   "source": [
    "# abs value version of a triangle inequality thm\n",
    "triangle_inequality"
   ]
  },
  {
   "cell_type": "markdown",
   "metadata": {},
   "source": [
    "## Demonstrations <a id='further_demonstrations'></a>"
   ]
  },
  {
   "cell_type": "markdown",
   "metadata": {},
   "source": [
    "<a id='demo01'></a><font size=4><b>1. Simplifying $|x+1|$ and Deducing Number Sets</b></font><br><br>\n",
    "<font size=3>Consider the very simple absolute value expression $|x+1|$, where the operand is a sum of a variable and known constant:</font>"
   ]
  },
  {
   "cell_type": "code",
   "execution_count": null,
   "metadata": {},
   "outputs": [],
   "source": [
    "demo_expr_01 = Abs(Add(x, one))"
   ]
  },
  {
   "cell_type": "markdown",
   "metadata": {},
   "source": [
    "<font size=3>The general expression simplification() method can eliminate the absolute value wrapper under the right conditions &mdash; for example, when we know that $x$ is a positive real number:</font>"
   ]
  },
  {
   "cell_type": "code",
   "execution_count": null,
   "metadata": {},
   "outputs": [],
   "source": [
    "demo_expr_01.simplification(assumptions=[InSet(x, RealPos)])"
   ]
  },
  {
   "cell_type": "markdown",
   "metadata": {},
   "source": [
    "<font size=3>We can deduce that the absolute value expression is in a specific number set (given the right assumptions):</font>"
   ]
  },
  {
   "cell_type": "code",
   "execution_count": null,
   "metadata": {},
   "outputs": [],
   "source": [
    "demo_expr_01.deduce_in_number_set(RealNonNeg, assumptions=[InSet(x, Real)])"
   ]
  },
  {
   "cell_type": "markdown",
   "metadata": {},
   "source": [
    "<font size=3>Now when $x \\in \\mathbb{R}^{+}$, we should have $|x+1|>1$ and thus $|x+1| \\in \\mathbb{R}^{+}$. Interestingly, this requires a little more work before Prove-It agrees:</font>"
   ]
  },
  {
   "cell_type": "code",
   "execution_count": null,
   "metadata": {},
   "outputs": [],
   "source": [
    "from proveit import InstantiationFailure\n",
    "try:\n",
    "    demo_expr_01.deduce_in_number_set(RealPos, assumptions=[InSet(x, RealPos)])\n",
    "except InstantiationFailure as _e:\n",
    "    print(\"SpecializationFailure: \" + str(_e))\n",
    "    "
   ]
  },
  {
   "cell_type": "markdown",
   "metadata": {},
   "source": [
    "<font size=3>We could include the information the system seems to want, <i>i.e.</i>, that $x+1 \\ne 0$, and Prove-It is happy:</font>"
   ]
  },
  {
   "cell_type": "code",
   "execution_count": null,
   "metadata": {},
   "outputs": [],
   "source": [
    "demo_expr_01.deduce_in_number_set(\n",
    "    RealPos,\n",
    "    assumptions=[InSet(x, RealPos), NotEquals(Add(x, one), zero)])"
   ]
  },
  {
   "cell_type": "markdown",
   "metadata": {},
   "source": [
    "<font size=3>But that seems a little clunky, with that additional (and redundant) assumption appearing in the result. Instead we can nudge Prove-It by first having it prove that the operand $x+1$ is itself a positive real value, and then it has no problem proving that the absolute value expression $|x+1|$ itself is also a positive real value:</font>"
   ]
  },
  {
   "cell_type": "code",
   "execution_count": null,
   "metadata": {},
   "outputs": [],
   "source": [
    "InSet(Add(x, one), RealPos).prove(assumptions=[InSet(x, RealPos)])"
   ]
  },
  {
   "cell_type": "code",
   "execution_count": null,
   "metadata": {},
   "outputs": [],
   "source": [
    "InSet(demo_expr_01, RealPos).prove(assumptions=[InSet(x, RealPos)])"
   ]
  },
  {
   "cell_type": "markdown",
   "metadata": {},
   "source": [
    "<a id='demo02'></a><font size=4><b>2. Simplifying $|a+b+2+3|$ and Deducing Numbers Sets</b></font><br><br>\n",
    "<font size=3>Now consider a simple absolute value expression, where the operand is a sum of variables and known constants: $|a+b+2+3|$</font>"
   ]
  },
  {
   "cell_type": "code",
   "execution_count": null,
   "metadata": {},
   "outputs": [],
   "source": [
    "demo_expr_02 = Abs(Add(a, b, two, three))"
   ]
  },
  {
   "cell_type": "markdown",
   "metadata": {},
   "source": [
    "<font size=3>We can obtain simplification equivalences, depending on our assumptions about the nature of the variables $a$ and $b$. If $a$ and $b$ are complex numbers or real numbers, for example, Prove-It simplifies the $2+3$ portion to $5$ and keeps the absolute value:</font>"
   ]
  },
  {
   "cell_type": "code",
   "execution_count": null,
   "metadata": {},
   "outputs": [],
   "source": [
    "# variables a and b are complex, notated as a tuple\n",
    "demo_expr_02.simplification(assumptions=[InSet(a, Complex), InSet(b, Complex)])"
   ]
  },
  {
   "cell_type": "code",
   "execution_count": null,
   "metadata": {},
   "outputs": [],
   "source": [
    "# variables a and b are real, notated individually\n",
    "demo_expr_02.simplification(assumptions=[InSet(a, Real), InSet(b, Real)])"
   ]
  },
  {
   "cell_type": "markdown",
   "metadata": {},
   "source": [
    "<font size=3>We can simplify further if we know that $a$ and $b$ are non-negative reals, with `simplification()` combining the numerical constants *and* removing the absolute value:</font>"
   ]
  },
  {
   "cell_type": "code",
   "execution_count": null,
   "metadata": {},
   "outputs": [],
   "source": [
    "demo_expr_02.simplification(\n",
    "    assumptions=[InSet(a, RealNonNeg), InSet(b, RealNonNeg)])"
   ]
  },
  {
   "cell_type": "markdown",
   "metadata": {},
   "source": [
    "<font size=3>Similarly, given the assumption that $a$ and $b$ are non-negative reals, we can explicitly deduce that the entire expression is also a non-negative real:</font>"
   ]
  },
  {
   "cell_type": "code",
   "execution_count": null,
   "metadata": {},
   "outputs": [],
   "source": [
    "demo_expr_02.deduce_in_number_set(\n",
    "        RealNonNeg,\n",
    "        assumptions=[InSet(a, RealNonNeg), InSet(b, RealNonNeg)])"
   ]
  },
  {
   "cell_type": "markdown",
   "metadata": {},
   "source": [
    "<font size=3>In fact, as long as we explicitly establish that $a$ and $b$ each belong to some defined subset of the complex numbers, the `deduce_in_number_set()` will be able to deduce that our absolute value expression is an element of the non-negative real numbers:</font>"
   ]
  },
  {
   "cell_type": "code",
   "execution_count": null,
   "metadata": {},
   "outputs": [],
   "source": [
    "demo_expr_02.deduce_in_number_set(\n",
    "        RealNonNeg,\n",
    "        assumptions=[InSet(a, Complex), InSet(b, RealNeg)])"
   ]
  },
  {
   "cell_type": "markdown",
   "metadata": {},
   "source": [
    "<font size=3>From this, it is straighforward to derive $|a + b + 2 + 3| \\geq 0$ exploiting some automation:</font>"
   ]
  },
  {
   "cell_type": "code",
   "execution_count": null,
   "metadata": {},
   "outputs": [],
   "source": [
    "demo_expr_02_ge_zero = greater_eq(demo_expr_02, zero).prove([InSet(a, Complex), InSet(b, RealNeg)])"
   ]
  },
  {
   "cell_type": "markdown",
   "metadata": {},
   "source": [
    "<font size=3>The detailed proof includes a number of steps that establish that all the sub-operands can be found in the complex numbers, but we see toward the top of the proof table the explicit use of the modus ponens-like `right_from_iff` theorem (cited in line 1) and the `in_real_non_neg_iff_nonNegative` theorem (cited in line 5), which we were nudging Prove-It toward by our few steps above:</font>"
   ]
  },
  {
   "cell_type": "code",
   "execution_count": null,
   "metadata": {},
   "outputs": [],
   "source": [
    "demo_expr_02_ge_zero.proof()"
   ]
  },
  {
   "cell_type": "markdown",
   "metadata": {},
   "source": [
    "<a id='demo03'></a><font size=4><br><b>3. Simplifying $1 + |x+1|$</b></font><br><br>\n",
    "<font size=3>Consider the simple expression $1 + |x+1|$ involving the sum of a constant and an absolute value expression.</font>"
   ]
  },
  {
   "cell_type": "code",
   "execution_count": null,
   "metadata": {},
   "outputs": [],
   "source": [
    "demo_expr_03 = Add(one, Abs(Add(x, one)))"
   ]
  },
  {
   "cell_type": "markdown",
   "metadata": {},
   "source": [
    "<font size=3>If we know that $x\\in \\mathbb{R}^{+}$, simplification should be able to eliminate the absolute value and commute and combine the known constants:</font>"
   ]
  },
  {
   "cell_type": "code",
   "execution_count": null,
   "metadata": {},
   "outputs": [],
   "source": [
    "demo_expr_03.simplification(assumptions=[InSet(x, RealPos)])"
   ]
  },
  {
   "cell_type": "markdown",
   "metadata": {},
   "source": [
    "## Misc Testing\n",
    "<font size=3>The material below was developed to test various absolute_value methods. Some of this material could be integrated into the `_demonstrations_` page eventually and/or deleted as development continues.</font>"
   ]
  },
  {
   "cell_type": "markdown",
   "metadata": {},
   "source": [
    "### Some Example `Abs` Expressions For Testing"
   ]
  },
  {
   "cell_type": "code",
   "execution_count": null,
   "metadata": {},
   "outputs": [],
   "source": [
    "abs_value_1_plus_2 = Abs(Add(one, two))"
   ]
  },
  {
   "cell_type": "code",
   "execution_count": null,
   "metadata": {},
   "outputs": [],
   "source": [
    "abs_value_a_plus_b = Abs(Add(a, b))"
   ]
  },
  {
   "cell_type": "code",
   "execution_count": null,
   "metadata": {},
   "outputs": [],
   "source": [
    "abs_value_a_plus_2 = Abs(Add(a, two))"
   ]
  },
  {
   "cell_type": "code",
   "execution_count": null,
   "metadata": {},
   "outputs": [],
   "source": [
    "abs_value_a_times_b = Abs(Mult(a, b))"
   ]
  },
  {
   "cell_type": "code",
   "execution_count": null,
   "metadata": {},
   "outputs": [],
   "source": [
    "abs_value_a_div_b = Abs(frac(a,b))"
   ]
  },
  {
   "cell_type": "code",
   "execution_count": null,
   "metadata": {},
   "outputs": [],
   "source": [
    "e"
   ]
  },
  {
   "cell_type": "markdown",
   "metadata": {},
   "source": [
    "### Testing the `deduce_in_number_set()` method"
   ]
  },
  {
   "cell_type": "code",
   "execution_count": null,
   "metadata": {},
   "outputs": [],
   "source": [
    "abs_value_1_plus_2.deduce_in_number_set(Real)"
   ]
  },
  {
   "cell_type": "code",
   "execution_count": null,
   "metadata": {},
   "outputs": [],
   "source": [
    "# Prove-It does not automatically know that 1 + 2 ≠ 0\n",
    "# so we don't automatically know |1+2| is a positive real\n",
    "try:\n",
    "    abs_value_1_plus_2.deduce_in_number_set(RealPos)\n",
    "except Exception as _e:\n",
    "    print(\"EXCEPTION: \", _e)"
   ]
  },
  {
   "cell_type": "code",
   "execution_count": null,
   "metadata": {},
   "outputs": [],
   "source": [
    "# This and the next cell combine to produce a puzzle\n",
    "# The deduce_in_number_set in the next cell does not automatically\n",
    "# find that 1 + 2 ≠ 0, but even when we do that manually first\n",
    "# as in this cell, the next cell initially fails, but will then\n",
    "# go through if manually entered a second time.\n",
    "result01, result02 = (\n",
    "    Add(one, two).evaluation(),\n",
    "    NotEquals(three, zero).prove())"
   ]
  },
  {
   "cell_type": "code",
   "execution_count": null,
   "metadata": {},
   "outputs": [],
   "source": [
    "success = False\n",
    "try:\n",
    "    print(abs_value_1_plus_2.deduce_in_number_set(RealPos))\n",
    "except:\n",
    "    print(\"Initial attempt failed.\")\n",
    "    print(abs_value_1_plus_2.deduce_in_number_set(RealPos))"
   ]
  },
  {
   "cell_type": "code",
   "execution_count": null,
   "metadata": {},
   "outputs": [],
   "source": []
  },
  {
   "cell_type": "code",
   "execution_count": null,
   "metadata": {},
   "outputs": [],
   "source": [
    "# Abs(x) is real when x is complex\n",
    "abs_value_a_plus_b.deduce_in_number_set(\n",
    "    Real, assumptions=[InSet(Add(a,b), Complex)])"
   ]
  },
  {
   "cell_type": "code",
   "execution_count": null,
   "metadata": {},
   "outputs": [],
   "source": [
    "# Abs(a+b) is real if a is real and b a positive natural, etc\n",
    "abs_value_a_plus_b.deduce_in_number_set(\n",
    "    Real, assumptions=[InSet(a, Real), InSet(b, NaturalPos)])"
   ]
  },
  {
   "cell_type": "code",
   "execution_count": null,
   "metadata": {},
   "outputs": [],
   "source": [
    "# Abs(a+2) is real if a is real\n",
    "abs_value_a_plus_2.deduce_in_number_set(\n",
    "    Real, assumptions=[InSet(a, Real)])"
   ]
  },
  {
   "cell_type": "code",
   "execution_count": null,
   "metadata": {},
   "outputs": [],
   "source": [
    "abs_value_a_plus_b.deduce_in_number_set(RealPos,\n",
    "    assumptions=[InSet(a, Complex),\n",
    "                 InSet(b, Complex),\n",
    "                 NotEquals(Add(a,b), zero)])"
   ]
  },
  {
   "cell_type": "code",
   "execution_count": null,
   "metadata": {},
   "outputs": [],
   "source": [
    "abs_value_1_plus_2.deduce_in_number_set(RealNonNeg)"
   ]
  },
  {
   "cell_type": "code",
   "execution_count": null,
   "metadata": {},
   "outputs": [],
   "source": [
    "abs_value_a_plus_b.deduce_in_number_set(RealNonNeg,\n",
    "    assumptions=[InSet(a, Complex), InSet(b, Complex)])"
   ]
  },
  {
   "cell_type": "code",
   "execution_count": null,
   "metadata": {},
   "outputs": [],
   "source": [
    "# what happens if we try to deduce into an incorrect set?\n",
    "try:\n",
    "    abs_value_a_plus_b.deduce_in_number_set(RealNeg,\n",
    "    assumptions=[InSet(Add(a,b), Complex)])\n",
    "except Exception as _e:\n",
    "    print(\"EXCEPTION: \", _e)"
   ]
  },
  {
   "cell_type": "code",
   "execution_count": null,
   "metadata": {},
   "outputs": [],
   "source": [
    "# but of course, the Complex numbers contain the non-negative Real numbers …\n",
    "# so it would be nice to be able to be able to deduce_in_number_set(X) if\n",
    "# X contains a set Y for which deduce_in_number_set(Y) is possible …\n",
    "abs_value_a_plus_b.deduce_in_number_set(Complex,\n",
    "    assumptions=[InSet(Add(a,b), Complex)])"
   ]
  },
  {
   "cell_type": "markdown",
   "metadata": {},
   "source": [
    "### Testing the `Abs.not_equal()` method"
   ]
  },
  {
   "cell_type": "code",
   "execution_count": null,
   "metadata": {},
   "outputs": [],
   "source": [
    "# recall our Abs(Add(a, b)) expression\n",
    "abs_value_a_plus_b"
   ]
  },
  {
   "cell_type": "code",
   "execution_count": null,
   "metadata": {},
   "outputs": [],
   "source": [
    "abs_value_a_plus_b.not_equal(\n",
    "    zero,\n",
    "    assumptions=[InSet(a, Complex),\n",
    "                 InSet(b, Complex),\n",
    "                 NotEquals(Add(a,b), zero)])"
   ]
  },
  {
   "cell_type": "code",
   "execution_count": null,
   "metadata": {},
   "outputs": [],
   "source": [
    "# And automation will generally be able to prove\n",
    "# Abs(x) ≠ 0 when x in a defined set with x ≠ 0.\n",
    "NotEquals(abs_value_a_plus_b, zero).prove(\n",
    "    assumptions=[InSet(Add(a,b), Real), NotEquals(Add(a,b), zero)])"
   ]
  },
  {
   "cell_type": "markdown",
   "metadata": {},
   "source": [
    "### Testing the `Abs.abs_elimination()` method"
   ]
  },
  {
   "cell_type": "code",
   "execution_count": null,
   "metadata": {},
   "outputs": [],
   "source": [
    "# abs_elimination() by itself often needs some\n",
    "# pre-processing of the expression operand\n",
    "try:\n",
    "    abs_value_1_plus_2.abs_elimination()\n",
    "except Exception as _e:\n",
    "    print(\"EXCEPTION: \", _e)"
   ]
  },
  {
   "cell_type": "code",
   "execution_count": null,
   "metadata": {},
   "outputs": [],
   "source": [
    "# So prove 1+2 is non-negative real first\n",
    "InSet(Add(one, two), RealPos).prove()"
   ]
  },
  {
   "cell_type": "code",
   "execution_count": null,
   "metadata": {},
   "outputs": [],
   "source": [
    "# And then we should be able to use the basic Abs.abs_elimination()\n",
    "abs_value_1_plus_2.abs_elimination()"
   ]
  },
  {
   "cell_type": "code",
   "execution_count": null,
   "metadata": {},
   "outputs": [],
   "source": [
    "abs_value_a_plus_b.abs_elimination(\n",
    "    assumptions = [InSet(Add(a,b), RealPos)])"
   ]
  },
  {
   "cell_type": "markdown",
   "metadata": {},
   "source": [
    "### Testing the `Abs.deduce_greater_than_equals_zero()` method"
   ]
  },
  {
   "cell_type": "code",
   "execution_count": null,
   "metadata": {},
   "outputs": [],
   "source": [
    "abs_value_1_plus_2.deduce_greater_than_equals_zero()"
   ]
  },
  {
   "cell_type": "code",
   "execution_count": null,
   "metadata": {},
   "outputs": [],
   "source": [
    "abs_value_a_plus_b.deduce_greater_than_equals_zero(\n",
    "    assumptions=[InSet(Add(a,b), Complex)])"
   ]
  },
  {
   "cell_type": "markdown",
   "metadata": {},
   "source": [
    "### Testing the `Abs.distribution()` method over products and fractions"
   ]
  },
  {
   "cell_type": "code",
   "execution_count": null,
   "metadata": {},
   "outputs": [],
   "source": [
    "abs_value_a_times_b"
   ]
  },
  {
   "cell_type": "code",
   "execution_count": null,
   "metadata": {},
   "outputs": [],
   "source": [
    "abs_value_a_div_b"
   ]
  },
  {
   "cell_type": "code",
   "execution_count": null,
   "metadata": {},
   "outputs": [],
   "source": [
    "abs_value_a_times_b.distribution(\n",
    "     assumptions=[InSet(a, Complex), InSet(b, Complex)])"
   ]
  },
  {
   "cell_type": "code",
   "execution_count": null,
   "metadata": {},
   "outputs": [],
   "source": [
    "# distribution over a fraction works fine\n",
    "abs_value_a_div_b.distribution(\n",
    "    assumptions=[InSet(a, Complex),\n",
    "                 InSet(b, Complex),\n",
    "                 NotEquals(b, zero)])"
   ]
  },
  {
   "cell_type": "markdown",
   "metadata": {},
   "source": [
    "### Testing Expression simplification() on Abs() Objects"
   ]
  },
  {
   "cell_type": "code",
   "execution_count": null,
   "metadata": {},
   "outputs": [],
   "source": [
    "abs_value_1_plus_2"
   ]
  },
  {
   "cell_type": "code",
   "execution_count": null,
   "metadata": {},
   "outputs": [],
   "source": [
    "abs_value_1_plus_2.simplification()"
   ]
  },
  {
   "cell_type": "code",
   "execution_count": null,
   "metadata": {},
   "outputs": [],
   "source": [
    "abs_value_neg_three = Abs(Neg(three))"
   ]
  },
  {
   "cell_type": "code",
   "execution_count": null,
   "metadata": {},
   "outputs": [],
   "source": [
    "# an example suggesting we modify the do_reduced_simplification()\n",
    "# to be on the lookout for double negation results?\n",
    "abs_value_neg_three.simplification()"
   ]
  },
  {
   "cell_type": "code",
   "execution_count": null,
   "metadata": {},
   "outputs": [],
   "source": [
    "# we can simplify the double negation manually with a little work\n",
    "abs_value_neg_three.simplification().inner_expr().rhs.simplify()"
   ]
  },
  {
   "cell_type": "code",
   "execution_count": null,
   "metadata": {},
   "outputs": [],
   "source": [
    "# after which the system now knows:\n",
    "abs_value_neg_three.simplification()"
   ]
  },
  {
   "cell_type": "code",
   "execution_count": null,
   "metadata": {},
   "outputs": [],
   "source": [
    "# see if we can catch these in the do_reduced_simplification …\n",
    "# add a greater(x, zero) or greater_eq(x, zero) to the routine\n",
    "abs_value_a_plus_b.simplification(\n",
    "    assumptions=[InSet(Add(a, b), Real), greater(Add(a, b), zero)])"
   ]
  },
  {
   "cell_type": "code",
   "execution_count": null,
   "metadata": {},
   "outputs": [],
   "source": [
    "abs_value_a_plus_b.simplification(\n",
    "    assumptions=[InSet(a, RealPos), InSet(b, RealPos)])"
   ]
  },
  {
   "cell_type": "code",
   "execution_count": null,
   "metadata": {},
   "outputs": [],
   "source": [
    "abs_value_a_plus_b.simplification(\n",
    "    assumptions=[InSet(Add(a,b), RealPos)])"
   ]
  },
  {
   "cell_type": "code",
   "execution_count": null,
   "metadata": {},
   "outputs": [],
   "source": [
    "abs_value_a_times_b"
   ]
  },
  {
   "cell_type": "code",
   "execution_count": null,
   "metadata": {},
   "outputs": [],
   "source": [
    "abs_value_a_times_b.simplification(\n",
    "    assumptions=[InSet(Mult(a,b), RealPos)])"
   ]
  },
  {
   "cell_type": "code",
   "execution_count": null,
   "metadata": {},
   "outputs": [],
   "source": [
    "abs_value_a_times_b.simplification(\n",
    "    assumptions=[InSet(a, RealPos), InSet(b, RealPos)])"
   ]
  },
  {
   "cell_type": "code",
   "execution_count": null,
   "metadata": {},
   "outputs": [],
   "source": [
    "# but if we don't know anything about a and b,\n",
    "# no error, just return itself\n",
    "abs_value_a_times_b.simplification()"
   ]
  },
  {
   "cell_type": "code",
   "execution_count": null,
   "metadata": {},
   "outputs": [],
   "source": [
    "abs_value_a_times_b.simplification(\n",
    "    assumptions=[InSet(Mult(a,b), Natural)])"
   ]
  },
  {
   "cell_type": "code",
   "execution_count": null,
   "metadata": {},
   "outputs": [],
   "source": [
    "abs_value_a_times_b.simplification(\n",
    "    assumptions=[InSet(a, RealNonNeg), InSet(b, RealNonNeg)])"
   ]
  },
  {
   "cell_type": "code",
   "execution_count": null,
   "metadata": {},
   "outputs": [],
   "source": [
    "abs_value_a_times_b.simplification(\n",
    "    assumptions=[InSet(a, Natural), InSet(b, Natural)])"
   ]
  },
  {
   "cell_type": "code",
   "execution_count": null,
   "metadata": {},
   "outputs": [],
   "source": [
    "abs_value_a_times_b.simplification(\n",
    "    assumptions=[InSet(a, RealNonNeg), InSet(b, Natural)])"
   ]
  },
  {
   "cell_type": "code",
   "execution_count": null,
   "metadata": {},
   "outputs": [],
   "source": [
    "# an extra test expression, slightly more interesting\n",
    "test_neg = Abs(Neg(Add(Abs(a), two)))"
   ]
  },
  {
   "cell_type": "code",
   "execution_count": null,
   "metadata": {},
   "outputs": [],
   "source": [
    "# this one is interesting: reaching down inside an Abs to\n",
    "# simplify another Abs, but not clear how it knows to do that\n",
    "test_neg_simp01 = test_neg.simplification(\n",
    "    assumptions=[InSet(a, RealPos)])"
   ]
  },
  {
   "cell_type": "code",
   "execution_count": null,
   "metadata": {},
   "outputs": [],
   "source": [
    "test_neg_simp02 = test_neg.simplification(\n",
    "    assumptions=[InSet(a, RealNonNeg),\n",
    "                 InSet(Add(a, two),\n",
    "                 RealNonNeg)])"
   ]
  },
  {
   "cell_type": "code",
   "execution_count": null,
   "metadata": {},
   "outputs": [],
   "source": [
    "# then it takes a little work to then eliminate the double negative\n",
    "test_neg_simp02.inner_expr().rhs.simplify(\n",
    "    assumptions=[InSet(a, RealNonNeg)])"
   ]
  },
  {
   "cell_type": "markdown",
   "metadata": {},
   "source": [
    "### Bounding an absolute value"
   ]
  },
  {
   "cell_type": "code",
   "execution_count": null,
   "metadata": {},
   "outputs": [],
   "source": [
    "Abs(x).deduce_strict_upper_bound(y, assumptions=[Less(Neg(y), x), Less(x, y), ])"
   ]
  },
  {
   "cell_type": "code",
   "execution_count": null,
   "metadata": {},
   "outputs": [],
   "source": [
    "Abs(x).deduce_weak_upper_bound(y, assumptions=[LessEq(Neg(y), x), LessEq(x, y)])"
   ]
  },
  {
   "cell_type": "markdown",
   "metadata": {},
   "source": [
    "### Absolute values involving complex numbers in polar form"
   ]
  },
  {
   "cell_type": "code",
   "execution_count": null,
   "metadata": {},
   "outputs": [],
   "source": [
    "Abs(Mult(r, Exp(e, Mult(i, theta)))).simplification(assumptions=[InSet(r, RealNonNeg), InSet(theta, Real)])"
   ]
  },
  {
   "cell_type": "code",
   "execution_count": null,
   "metadata": {},
   "outputs": [],
   "source": [
    "Abs(Mult(r, Exp(e, Neg(Mult(i, theta))))).simplification(assumptions=[InSet(r, RealNonNeg), InSet(theta, Real)])"
   ]
  },
  {
   "cell_type": "code",
   "execution_count": null,
   "metadata": {},
   "outputs": [],
   "source": [
    "Abs(Mult(r, Exp(e, Mult(i, Neg(theta))))).simplification(assumptions=[InSet(r, RealNonNeg), InSet(theta, Real)])"
   ]
  },
  {
   "cell_type": "code",
   "execution_count": null,
   "metadata": {},
   "outputs": [],
   "source": [
    "Abs(Mult(r, Exp(e, Mult(Neg(theta), i)))).simplification(assumptions=[InSet(r, RealNonNeg), InSet(theta, Real)])"
   ]
  },
  {
   "cell_type": "code",
   "execution_count": null,
   "metadata": {},
   "outputs": [],
   "source": [
    "Abs(Mult(Neg(r), Exp(e, Mult(Neg(theta), i)))).simplification(\n",
    "    assumptions=[InSet(r, RealNonNeg), InSet(theta, Real)])"
   ]
  },
  {
   "cell_type": "code",
   "execution_count": null,
   "metadata": {},
   "outputs": [],
   "source": [
    "Abs(Mult(r, Exp(e, Mult(i, theta)))).simplification(assumptions=[InSet(r, RealNonPos), InSet(theta, Real)])"
   ]
  },
  {
   "cell_type": "code",
   "execution_count": null,
   "metadata": {},
   "outputs": [],
   "source": [
    "Abs(Mult(a, Exp(e, Mult(i, theta)), b)).simplification(\n",
    "    assumptions=[InSet(a, RealPos), InSet(b, RealPos), InSet(theta, Real)])"
   ]
  },
  {
   "cell_type": "code",
   "execution_count": null,
   "metadata": {},
   "outputs": [],
   "source": [
    "# Since we don't know the sign of 'a', we must take the absolute value.\n",
    "Abs(Mult(a, b, Exp(e, Mult(i, theta)), c)).simplification(\n",
    "    assumptions=[InSet(a, Real), InSet(b, RealPos), InSet(c, RealPos), InSet(theta, Real)])"
   ]
  },
  {
   "cell_type": "markdown",
   "metadata": {},
   "source": [
    "### Triangle inequality"
   ]
  },
  {
   "cell_type": "code",
   "execution_count": null,
   "metadata": {},
   "outputs": [],
   "source": [
    "Abs(Add(a, b)).deduce_triangle_bound(assumptions=[InSet(a, Complex), InSet(b, Complex)])"
   ]
  },
  {
   "cell_type": "code",
   "execution_count": null,
   "metadata": {},
   "outputs": [],
   "source": [
    "Abs(Add(a, b, x_1_to_n, c)).deduce_triangle_bound(\n",
    "    assumptions=[InSet(a, Complex), InSet(b, Complex), InSet(c, Complex),\n",
    "                 ExprRange(k, InSet(IndexedVar(x, k), Complex), one, n), \n",
    "                 InSet(n, Natural)])"
   ]
  },
  {
   "cell_type": "code",
   "execution_count": null,
   "metadata": {},
   "outputs": [],
   "source": [
    "%end demonstrations"
   ]
  },
  {
   "cell_type": "code",
   "execution_count": null,
   "metadata": {},
   "outputs": [],
   "source": []
  }
 ],
 "metadata": {
  "kernelspec": {
   "display_name": "Python 3",
   "language": "python",
   "name": "python3"
  }
 },
 "nbformat": 4,
 "nbformat_minor": 0
}
