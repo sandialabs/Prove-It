{
 "cells": [
  {
   "cell_type": "markdown",
   "metadata": {},
   "source": [
    "Theorems (or conjectures) for the theory of <a class=\"ProveItLink\" href=\"theory.ipynb\">proveit.numbers.absolute_value</a>\n",
    "========"
   ]
  },
  {
   "cell_type": "code",
   "execution_count": null,
   "metadata": {},
   "outputs": [],
   "source": [
    "import proveit\n",
    "# Prepare this notebook for defining the theorems of a theory:\n",
    "%theorems_notebook # Keep this at the top following 'import proveit'.\n",
    "from proveit import IndexedVar, ExprRange\n",
    "from proveit import a, b, c, k, n, r, x, y, theta\n",
    "from proveit.logic import And, Equals, Forall, Iff, InSet, NotEquals\n",
    "from proveit.numbers import (Abs, Add, subtract, frac, Mult, Neg, Exp, Sum,\n",
    "                             Less, LessEq, greater, greater_eq, number_ordering)\n",
    "from proveit.numbers import (zero, one, e, i, Complex, NaturalPos, \n",
    "                             Rational, RationalNonZero, RationalNonNeg, RationalPos,\n",
    "                             Real, RealNeg, RealNonNeg, RealPos)\n",
    "from proveit.core_expr_types import x_1_to_n\n"
   ]
  },
  {
   "cell_type": "code",
   "execution_count": null,
   "metadata": {},
   "outputs": [],
   "source": [
    "%begin theorems"
   ]
  },
  {
   "cell_type": "markdown",
   "metadata": {},
   "source": [
    "<p style=\"font-size:12pt;font-weight:bold\">Basic closure theorems</p>"
   ]
  },
  {
   "cell_type": "code",
   "execution_count": null,
   "metadata": {},
   "outputs": [],
   "source": [
    "abs_rational_closure = Forall(\n",
    "    a,\n",
    "    InSet(Abs(a), RationalNonNeg),\n",
    "    domain=Rational)"
   ]
  },
  {
   "cell_type": "code",
   "execution_count": null,
   "metadata": {},
   "outputs": [],
   "source": [
    "abs_rational_non_zero_closure = Forall(\n",
    "    a,\n",
    "    InSet(Abs(a), RationalPos),\n",
    "    domain=RationalNonZero)"
   ]
  },
  {
   "cell_type": "code",
   "execution_count": null,
   "metadata": {},
   "outputs": [],
   "source": [
    "abs_complex_closure = Forall(\n",
    "    a,\n",
    "    InSet(Abs(a), Real),\n",
    "    domain=Complex)"
   ]
  },
  {
   "cell_type": "code",
   "execution_count": null,
   "metadata": {},
   "outputs": [],
   "source": [
    "abs_complex_closure_non_neg_real = Forall(\n",
    "    a,\n",
    "    InSet(Abs(a), RealNonNeg),\n",
    "    domain=Complex)"
   ]
  },
  {
   "cell_type": "code",
   "execution_count": null,
   "metadata": {},
   "outputs": [],
   "source": [
    "abs_nonzero_closure = Forall(\n",
    "    a,\n",
    "    InSet(Abs(a), RealPos),\n",
    "    domain=Complex,\n",
    "    conditions=[NotEquals(a, zero)])"
   ]
  },
  {
   "cell_type": "markdown",
   "metadata": {},
   "source": [
    "<p style=\"font-size:12pt;font-weight:bold\">Non-Negativity, Non-Zero, & Positive Definiteness Theorems</p>"
   ]
  },
  {
   "cell_type": "code",
   "execution_count": null,
   "metadata": {},
   "outputs": [],
   "source": [
    "abs_is_non_neg = Forall(\n",
    "    a,\n",
    "    greater_eq(Abs(a), zero),\n",
    "    domain=Complex)"
   ]
  },
  {
   "cell_type": "code",
   "execution_count": null,
   "metadata": {},
   "outputs": [],
   "source": [
    "abs_not_eq_zero = Forall(\n",
    "    a,\n",
    "    NotEquals(Abs(a), zero),\n",
    "    domain=Complex,\n",
    "    conditions=[NotEquals(a, zero)])"
   ]
  },
  {
   "cell_type": "code",
   "execution_count": null,
   "metadata": {},
   "outputs": [],
   "source": [
    "abs_pos_def = Forall(\n",
    "    a,\n",
    "    Iff(Equals(Abs(a), zero), Equals(a, zero)),\n",
    "    domain=Complex)"
   ]
  },
  {
   "cell_type": "markdown",
   "metadata": {},
   "source": [
    "<p style=\"font-size:12pt;font-weight:bold\">Evenness</p>"
   ]
  },
  {
   "cell_type": "code",
   "execution_count": null,
   "metadata": {},
   "outputs": [],
   "source": [
    "abs_even = Forall(\n",
    "    x,\n",
    "    Equals(Abs(Neg(x)), Abs(x)),\n",
    "    domain = Complex)"
   ]
  },
  {
   "cell_type": "code",
   "execution_count": null,
   "metadata": {},
   "outputs": [],
   "source": [
    "abs_non_neg_elim = Forall(\n",
    "    x,\n",
    "    Equals(Abs(x), x),\n",
    "    domain = RealNonNeg)"
   ]
  },
  {
   "cell_type": "code",
   "execution_count": null,
   "metadata": {},
   "outputs": [],
   "source": [
    "abs_neg_elim = Forall(\n",
    "    x,\n",
    "    Equals(Abs(x), Neg(x)),\n",
    "    domain = RealNeg)"
   ]
  },
  {
   "cell_type": "code",
   "execution_count": null,
   "metadata": {},
   "outputs": [],
   "source": [
    "abs_diff_reversal = Forall(\n",
    "    (a, b), Equals(Abs(subtract(a, b)), Abs(subtract(b, a))),\n",
    "    domain = Complex)"
   ]
  },
  {
   "cell_type": "code",
   "execution_count": null,
   "metadata": {},
   "outputs": [],
   "source": [
    "double_abs_elem = Forall(\n",
    "    x,\n",
    "    Equals(Abs(Abs(x)), Abs(x)),\n",
    "    domain = Complex)"
   ]
  },
  {
   "cell_type": "code",
   "execution_count": null,
   "metadata": {},
   "outputs": [],
   "source": [
    "abs_ineq = Forall(\n",
    "    (x, y),\n",
    "    Iff(LessEq(Abs(x), y),\n",
    "        And(LessEq(Neg(y), x), LessEq(x, y))),\n",
    "    domain = Real,\n",
    "    conditions = [greater_eq(y, zero)])"
   ]
  },
  {
   "cell_type": "markdown",
   "metadata": {},
   "source": [
    "### Bounding the absolute value"
   ]
  },
  {
   "cell_type": "code",
   "execution_count": null,
   "metadata": {},
   "outputs": [],
   "source": [
    "strict_upper_bound = Forall((a, c), Less(Abs(a), c), \n",
    "       conditions=number_ordering(Less(Neg(c), a), Less(a, c)))"
   ]
  },
  {
   "cell_type": "code",
   "execution_count": null,
   "metadata": {},
   "outputs": [],
   "source": [
    "weak_upper_bound = Forall((a, c), LessEq(Abs(a), c), \n",
    "       conditions=number_ordering(LessEq(Neg(c), a), LessEq(a, c)))"
   ]
  },
  {
   "cell_type": "markdown",
   "metadata": {},
   "source": [
    "<p style=\"font-size:12pt;font-weight:bold\">Absolute values of complex numbers in polar form</p>"
   ]
  },
  {
   "cell_type": "code",
   "execution_count": null,
   "metadata": {},
   "outputs": [],
   "source": [
    "complex_unit_length = Forall(\n",
    "    theta, Equals(Abs(Exp(e, Mult(i, theta))), one),\n",
    "    domain=Real)"
   ]
  },
  {
   "cell_type": "code",
   "execution_count": null,
   "metadata": {},
   "outputs": [],
   "source": [
    "complex_polar_mag_using_abs = Forall(\n",
    "    (r, theta), Equals(Abs(Mult(r, Exp(e, Mult(i, theta)))), Abs(r)),\n",
    "    domain=Real)"
   ]
  },
  {
   "cell_type": "markdown",
   "metadata": {},
   "source": [
    "<p style=\"font-size:12pt;font-weight:bold\">Triangle Inequality</p>"
   ]
  },
  {
   "cell_type": "code",
   "execution_count": null,
   "metadata": {},
   "outputs": [],
   "source": [
    "triangle_inequality = Forall(\n",
    "    (a, b),\n",
    "    LessEq(Abs(Add(a,b)), Add(Abs(a), Abs(b))),\n",
    "    domain=Complex)"
   ]
  },
  {
   "cell_type": "markdown",
   "metadata": {},
   "source": [
    "**Prove the generalized triangle inequality using induction on the triangle inequality**"
   ]
  },
  {
   "cell_type": "code",
   "execution_count": null,
   "metadata": {},
   "outputs": [],
   "source": [
    "generalized_triangle_inequality = Forall(\n",
    "    n, Forall(x_1_to_n, LessEq(Abs(Add(x_1_to_n)), \n",
    "                               Add(ExprRange(k, Abs(IndexedVar(x, k)), one, n))),\n",
    "              domain=Complex),\n",
    "    domain=NaturalPos)"
   ]
  },
  {
   "cell_type": "markdown",
   "metadata": {},
   "source": [
    "<p style=\"font-size:12pt;font-weight:bold\">Multiplicativity (and Preservation of Division)</p>"
   ]
  },
  {
   "cell_type": "code",
   "execution_count": null,
   "metadata": {},
   "outputs": [],
   "source": [
    "abs_prod = Forall(\n",
    "    n,\n",
    "    Forall(x_1_to_n,\n",
    "           Equals(Abs(Mult(x_1_to_n)), \n",
    "                  Mult(ExprRange(k, Abs(IndexedVar(x, k)), one, n))),\n",
    "           domain = Complex),\n",
    "    domain = NaturalPos)"
   ]
  },
  {
   "cell_type": "code",
   "execution_count": null,
   "metadata": {},
   "outputs": [],
   "source": [
    "abs_frac = Forall(\n",
    "    (a, b),\n",
    "    Equals(Abs(frac(a, b)), frac(Abs(a), Abs(b))),\n",
    "    domain = Complex,\n",
    "    conditions=[NotEquals(b, zero)])"
   ]
  },
  {
   "cell_type": "markdown",
   "metadata": {},
   "source": [
    "<p style=\"font-size:12pt;font-weight:bold\">See the proveit.trigonometry theory package for facts related to absolute values of complex numbers in polar form.</p>"
   ]
  },
  {
   "cell_type": "code",
   "execution_count": null,
   "metadata": {},
   "outputs": [],
   "source": [
    "%end theorems"
   ]
  },
  {
   "cell_type": "code",
   "execution_count": null,
   "metadata": {},
   "outputs": [],
   "source": []
  }
 ],
 "metadata": {
  "kernelspec": {
   "display_name": "Python 3",
   "language": "python",
   "name": "python3"
  }
 },
 "nbformat": 4,
 "nbformat_minor": 0
}
