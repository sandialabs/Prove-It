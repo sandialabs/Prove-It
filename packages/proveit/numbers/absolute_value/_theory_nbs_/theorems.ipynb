{
 "cells": [
  {
   "cell_type": "markdown",
   "metadata": {},
   "source": [
    "Theorems (or conjectures) for the theory of <a class=\"ProveItLink\" href=\"theory.ipynb\">proveit.numbers.absolute_value</a>\n",
    "========"
   ]
  },
  {
   "cell_type": "code",
   "execution_count": 1,
   "metadata": {},
   "outputs": [],
   "source": [
    "import proveit\n",
    "# Prepare this notebook for defining the theorems of a theory:\n",
    "%theorems_notebook # Keep this at the top following 'import proveit'.\n",
    "from proveit import IndexedVar, ExprRange\n",
    "from proveit import a, b, c, k, n, r, x, y, theta\n",
    "from proveit.logic import And, Equals, Forall, Iff, InSet, NotEquals\n",
    "from proveit.numbers import (Abs, Add, subtract, frac, Mult, Neg, Exp, Sum,\n",
    "                             Less, LessEq, greater, greater_eq, number_ordering)\n",
    "from proveit.numbers import (zero, one, e, i, \n",
    "                             ZeroSet, Natural, NaturalPos, Integer, IntegerNonZero, IntegerNonPos,\n",
    "                             Rational, RationalNonZero, RationalNonNeg, RationalPos, RationalNonPos,\n",
    "                             Real, RealNeg, RealNonNeg, RealPos, RealNonPos, \n",
    "                             Complex, ComplexNonZero)\n",
    "from proveit.core_expr_types import x_1_to_n\n"
   ]
  },
  {
   "cell_type": "code",
   "execution_count": 2,
   "metadata": {},
   "outputs": [
    {
     "name": "stdout",
     "output_type": "stream",
     "text": [
      "Defining theorems for theory 'proveit.numbers.absolute_value'\n",
      "Subsequent end-of-cell assignments will define theorems\n",
      "'%end theorems' will finalize the definitions\n"
     ]
    }
   ],
   "source": [
    "%begin theorems"
   ]
  },
  {
   "cell_type": "markdown",
   "metadata": {},
   "source": [
    "<p style=\"font-size:12pt;font-weight:bold\">Basic closure theorems</p>"
   ]
  },
  {
   "cell_type": "code",
   "execution_count": 3,
   "metadata": {},
   "outputs": [
    {
     "data": {
      "text/html": [
       "<strong id=\"abs_zero_closure\"><a class=\"ProveItLink\" href=\"proofs/abs_zero_closure/thm_proof.ipynb\">abs_zero_closure</a> (conjecture without proof):<br></strong> <a class=\"ProveItLink\" href=\"../__pv_it/theorems/f6b338ae0382635a5cba11e2f294e13fbcfce18b0/theorem_expr.ipynb\"><img src=\"data:image/png;base64,iVBORw0KGgoAAAANSUhEUgAAAKEAAAAXBAMAAACR7DLtAAAAMFBMVEX///8AAAAAAAAAAAAAAAAA\n",
       "AAAAAAAAAAAAAAAAAAAAAAAAAAAAAAAAAAAAAAAAAAAv3aB7AAAAD3RSTlMAq1RmmUTNIjK7EInv\n",
       "3XZ/CtNrAAAACXBIWXMAAA7EAAAOxAGVKw4bAAACtElEQVQ4y62VTWgTQRTHn8kms7tJluihIIIs\n",
       "CL0INgfxoLWtVEXoJVDwouhSEaGHsvWq0hVKLyqJB9EtKNODh1Ih8VspQrEIgihBhZ4CWxBaPw5F\n",
       "hEK9+OZrs+nWbRFfyOzMzsxvZt7/zVuArZiLP2Ek1ne/LJ4XXT5wa2bZ8FRWc+X1feepqOg7sXIG\n",
       "K0XW2pNM3At/J3Yx4OwX3JyBKKsEcIy9vpAINJ0E4iv8Z21zAbsaWB0GuMqcU00kaqVNiIcBXkri\n",
       "fuTjrnN2IjEPceLXZtMJiTf54TkxTyGNG8gmu7EzTjz5LbrHXwAVWxCziHvfbL5LJg4IItm1FEgi\n",
       "GY6e2mTEkiDmUJ4TAJNtgEMlHgxPqHpxThBPu8aaJGZbcXcc+b+RGIA1h800+mIUSDEK1LFj9rtY\n",
       "TdhHTjTnQWsoYjiazEtiHchPbKdwtkFD/fRFvwwpB9JBpsqe0t5worYChbokXm+isQAhHdg2kXg2\n",
       "AJgaQsQKUoNwxaMeW8WBvAerMWK+CrWyJE6HexyfFMp0Ybg8w74MO7rTg8VMz3Me8Jw4RuF1hChO\n",
       "XQugV2ldaDkJIwd8gF4KqTU2m8nzCIUzF/RVuTL6tkLhE2QaatI9QbShI+UKohW0RXg3FyjHlWG+\n",
       "uIwSaH0oyCAfMuEx4geAESX2Q040gtRnTcXjUBuxYJtv5Z3R6lhsQ+/ly1YRDvi+b+vbKTs16tap\n",
       "NnJDaL37xeiyIk7dohGiObDoSWJBqVxzjYP0mkhPRaEMmVPbKHjxW3jqbuQWyi5GvBJeXbcySA0q\n",
       "lbGCTDGiTLpvk0wRIfarVqZ/32MgdyQR8x2NEOF2AvFHK0U58Sw244sIB0WWNp1AHAvz1gMMPmOj\n",
       "z4KKmgiRBLCsPgLeuuHkiERe2oHF0oapZkQ8Jmz4X6ZzFPH+cfofH2rCpVzPe2wAAAAASUVORK5C\n",
       "YII=\n",
       "\" style=\"display:inline;vertical-align:middle;\" /></a><br>"
      ],
      "text/plain": [
       "<IPython.core.display.HTML object>"
      ]
     },
     "metadata": {},
     "output_type": "display_data"
    }
   ],
   "source": [
    "abs_zero_closure = Forall(a, InSet(Abs(a), ZeroSet), domain=ZeroSet)"
   ]
  },
  {
   "cell_type": "code",
   "execution_count": 4,
   "metadata": {},
   "outputs": [
    {
     "data": {
      "text/html": [
       "<strong id=\"abs_integer_closure\"><a class=\"ProveItLink\" href=\"proofs/abs_integer_closure/thm_proof.ipynb\">abs_integer_closure</a> (conjecture without proof):<br></strong> <a class=\"ProveItLink\" href=\"../__pv_it/theorems/ffe5cc463753b4e8528bcceb7d83a595cd2e57e50/theorem_expr.ipynb\"><img src=\"data:image/png;base64,iVBORw0KGgoAAAANSUhEUgAAAIIAAAAVBAMAAAB4Tis1AAAAMFBMVEX///8AAAAAAAAAAAAAAAAA\n",
       "AAAAAAAAAAAAAAAAAAAAAAAAAAAAAAAAAAAAAAAAAAAv3aB7AAAAD3RSTlMAq1RmmUTNIjK7EInv\n",
       "3XZ/CtNrAAAACXBIWXMAAA7EAAAOxAGVKw4bAAACNElEQVQ4y4WUS2jUQBjH/93Nbl6bEC8iKBLw\n",
       "oqASRQp6qIGqCF5WCl7sYdGD0ItTC4JQZPUmit1L1fiAeBG0tLs+QOmpIB6qiHtQ6iUY9eDr4k3w\n",
       "5DfJTLp1k+4XJvnP5Msv8z0SYD1T6ZCqwGGAfYFZT5W8CjM+BRMw372qxIDDF7blA0qdIgJ09zjQ\n",
       "Br4Ch/n8TD7hAQoJQyumhxpQDXGJR9PKJ4yuQ9hBr7WAss8hMN18wlI/4UcUNRLCVHyeE/AaZY+2\n",
       "UpCGRh/hxE+5B7bJ7nDCaeBtFL3JJyid5El187dYENSJLAqmY5YTHgNHgdv5hKqXEMaZ/lcQqmyV\n",
       "oPnz8ySGgUmoTm+Klp/d8VNpuZxgvITSlYRVN4a9pbskdlJlwyzP2uegbjFzIUyntTonKL9hyb64\n",
       "FpG1BGEo3EJihvIVZ+RDTSoPLk+hl1BroV0XhIe9ezAcHsU4jcYIneZGnsP2kpu+CEJE0Y5xUNbC\n",
       "6iXguk5iF40nlGBjRfsj3lA+15SdGycEFxtLLCXYcdbV5GRfIbGfxjQlUvG1JYwl9xZM6WU6nKDH\n",
       "pfeK7IdTWZ14Ex6hcYxvqMlDth0MB0HgorOIRyKx3aQWW19MfpeE+7NplrWzy+l3gw8C2Wb6gfAq\n",
       "V5XtHhbF6sf+rj55L+3q7AfRlWlnM2Ohzvmmgopc3Vf8ZWV96wlRGd39FOotUns2/LohO0xnAwkX\n",
       "1k7ngmCNo9EaSLg54C93EbYorbz+ZzbDP2Q6hRRqU7JOAAAAAElFTkSuQmCC\n",
       "\" style=\"display:inline;vertical-align:middle;\" /></a><br>"
      ],
      "text/plain": [
       "<IPython.core.display.HTML object>"
      ]
     },
     "metadata": {},
     "output_type": "display_data"
    }
   ],
   "source": [
    "abs_integer_closure = Forall(\n",
    "    a,\n",
    "    InSet(Abs(a), Natural),\n",
    "    domain=Integer)"
   ]
  },
  {
   "cell_type": "code",
   "execution_count": 5,
   "metadata": {},
   "outputs": [
    {
     "data": {
      "text/html": [
       "<strong id=\"abs_integer_nonzero_closure\"><a class=\"ProveItLink\" href=\"proofs/abs_integer_nonzero_closure/thm_proof.ipynb\">abs_integer_nonzero_closure</a> (conjecture without proof):<br></strong> <a class=\"ProveItLink\" href=\"../__pv_it/theorems/33e917fef293ebecc42686e24f32ef9050a448070/theorem_expr.ipynb\"><img src=\"data:image/png;base64,iVBORw0KGgoAAAANSUhEUgAAAKUAAAAZCAMAAABn/R7mAAAAPFBMVEX///8AAAAAAAAAAAAAAAAA\n",
       "AAAAAAAAAAAAAAAAAAAAAAAAAAAAAAAAAAAAAAAAAAAAAAAAAAAAAAAAAAAo1xBWAAAAE3RSTlMA\n",
       "q1RmmUTNIjK7EInv3Xah18O1XjQ+CwAAAAlwSFlzAAAOxAAADsQBlSsOGwAAAqFJREFUWMO1l4mW\n",
       "pCAMRdlDWNIz4///6xDQUhFr0+b08VRT3eHyeElQiHuHtreEMYcPdw51U1RcPgDeDxlcjdxPw/eU\n",
       "QtPtlKj5GftTj89sEPKE6AL/WZqS7SlF5q/kelr6KiQk8TllQVLCVowwHbUUxF+ZRwQHlz0fv6KU\n",
       "GUSsEvEuDZaR+NFUC1MR08v7fDrZ7ygVzhrlgZbCMW21BIdSVyH9FN6hJMxluA0llBQBd0Zp+Bc9\n",
       "29FdlpKyeE1pHYVeSxDSC4onlFTdnnhrOcXLlNLtoEBGAuoowYXj/0HFQjumtPWIjK/z4Xodwi2l\n",
       "Tbx4XWFDOUpRpvSmlKSQRy3HT77ueXm8V7lZdCBFh/Wc3FCGxE4yudNy5CumFFoJhWlY31pSsozn\n",
       "aSgTRlN+dtvkczssmM2G0tTal+Oe0jd7lYEdpZChLDWUpVEqGu3Rk8RiFVGKmYjhYXndhGI/h2da\n",
       "JlwXWCkDnmkpghTrie+19PMxHLulaXYtWAVYAR9fNMb8/DGlDwCHy/4JZZg4op76HM+nlEUWgeMC\n",
       "B3OpXDIvRE2RJ0nv7lHdTapp2RtT4pZStaxXsKOkweUB5+2SH1LauQxDkkvnh4a+OxkNqsYpWv79\n",
       "Z1jLapCDSShtThwLjsptf1vTu2PzeEyZYc3Wi1ulX46ZDc78GykDiaWWhkXTkuMazjbdclxS9CDJ\n",
       "d5RBot0Z2rsp4fbid/BeX3744lTvINphHbzLWJKnRKil9XlRTW/1cRtx3yFfDKf7nOdCrAuQXzuR\n",
       "Vb6mTnj9uvDlnehFfZ56aRLb0uqwbUWxWsvmd64b6Rco9aHfWKMV1aseLImnpSwOQ/dWb5LqfsoM\n",
       "Txsh+/LD8M3+1BfSw8QnUt7/3iNUvDngb7xD3vY+viZkzY//lMsU4vnKRBEAAAAASUVORK5CYII=\n",
       "\" style=\"display:inline;vertical-align:middle;\" /></a><br>"
      ],
      "text/plain": [
       "<IPython.core.display.HTML object>"
      ]
     },
     "metadata": {},
     "output_type": "display_data"
    }
   ],
   "source": [
    "abs_integer_nonzero_closure = Forall(\n",
    "    a,\n",
    "    InSet(Abs(a), NaturalPos),\n",
    "    domain=IntegerNonZero)"
   ]
  },
  {
   "cell_type": "code",
   "execution_count": 6,
   "metadata": {},
   "outputs": [
    {
     "data": {
      "text/html": [
       "<strong id=\"abs_rational_closure\"><a class=\"ProveItLink\" href=\"proofs/abs_rational_closure/thm_proof.ipynb\">abs_rational_closure</a> (conjecture without proof):<br></strong> <a class=\"ProveItLink\" href=\"../__pv_it/theorems/e6e5392bac31d05959f35158f5a0daf982e260520/theorem_expr.ipynb\"><img src=\"data:image/png;base64,iVBORw0KGgoAAAANSUhEUgAAAJ0AAAAaBAMAAABfvUOFAAAAMFBMVEX///8AAAAAAAAAAAAAAAAA\n",
       "AAAAAAAAAAAAAAAAAAAAAAAAAAAAAAAAAAAAAAAAAAAv3aB7AAAAD3RSTlMAq1RmmUTNIjK7EInv\n",
       "3XZ/CtNrAAAACXBIWXMAAA7EAAAOxAGVKw4bAAAC0UlEQVRIx6WVTWgTQRTH/83XfiVpCiKKIisR\n",
       "FAQJCiJFaksVawVJqQcropEeBA+6FfFioREvQsUWvyMoe5PaQ4JBahGkIKIiQoWieAhMD2IPUryo\n",
       "kJNvZme32cRtIg5kMnl585v3OQP851DviC/jZakV7XC2qcr0TT53YQiR5rwtLZyZvEXTW7RbymQz\n",
       "VT0HWHKtBDvxCEoVcZOMbDK0DPBMro1616cLhYMS+EatIpFBwgZSXJAO4I0imJfcmFc+iiTos1ni\n",
       "xRmSBDvAJWcCeIdX4ZXLwNEhHoiePPe33YReBa5wSVAgfwbz1BLFVgszKB15mQ9gGIiRz4YZUFvV\n",
       "Rl7yYeWTCO0Tcs7I5/Q1ImHLGKD5EMWSQh4LqoT5Bl70nO38nFIZEDL7dFvWcz/N3+nzoVJ5H8Br\n",
       "yzk8ZcM3JnmXJA7jUTIkmtnp23CK/u0DHgSVy6TDO2FpVcnzMncyTEFSmb8yJiiUI1BSvrK63eGW\n",
       "cCwlePorROYlL+eqXQ4J+76qBRr3pHCMdDTby5y6WMgqL2C4TiS6BS/yA4mSw1MpOpUvwnYnfv0+\n",
       "+4qkE2JeOvaTucYF6Lssn33xSa4oeLpXWdpjJ78+3hgvnRxvu+muGSTJA1zbCjDm4xUZ9rn5nXe3\n",
       "Rp3681faBDfk6Vk697P6G1Nc1JlZ4bU5+SiaWBuyHN6yt7eX+mNgCA35xShZEelW5zDIRZzF5N2Y\n",
       "nBM8jYUWItK+mGeQwfu328/bK6wgp+NZ6uXdlCnzWI2/Uac/9E3PR5YkT19/3N188df5vroC6/ES\n",
       "Y2md9rg4tiYfeN3Yb9FZp99orAuzOt6wu4hbE4O2ZouagZFu5X4hx9jiNp+Q3y/Ss94dZSj3RT0v\n",
       "nM674uur8rD57ruM76JONdy4tGnm6ooF5qq8+pGw/iaNpI9ka96PJfeyyTflBbwfN/Z4y+3/8hQ3\n",
       "f99aeX9rHKN8/gEYPLt+39qS/wAAAABJRU5ErkJggg==\n",
       "\" style=\"display:inline;vertical-align:middle;\" /></a><br>"
      ],
      "text/plain": [
       "<IPython.core.display.HTML object>"
      ]
     },
     "metadata": {},
     "output_type": "display_data"
    }
   ],
   "source": [
    "abs_rational_closure = Forall(\n",
    "    a,\n",
    "    InSet(Abs(a), RationalNonNeg),\n",
    "    domain=Rational)"
   ]
  },
  {
   "cell_type": "code",
   "execution_count": 7,
   "metadata": {},
   "outputs": [
    {
     "data": {
      "text/html": [
       "<strong id=\"abs_rational_nonzero_closure\"><a class=\"ProveItLink\" href=\"proofs/abs_rational_nonzero_closure/thm_proof.ipynb\">abs_rational_nonzero_closure</a> (conjecture without proof):<br></strong> <a class=\"ProveItLink\" href=\"../__pv_it/theorems/2f7ad6e3d68ea370da1bd059e1742a41a48d34740/theorem_expr.ipynb\"><img src=\"data:image/png;base64,iVBORw0KGgoAAAANSUhEUgAAAKcAAAAZCAMAAABjCM7bAAAAPFBMVEX///8AAAAAAAAAAAAAAAAA\n",
       "AAAAAAAAAAAAAAAAAAAAAAAAAAAAAAAAAAAAAAAAAAAAAAAAAAAAAAAAAAAo1xBWAAAAE3RSTlMA\n",
       "q1RmmUTNIjK7EInv3Xah18O1XjQ+CwAAAAlwSFlzAAAOxAAADsQBlSsOGwAAAr5JREFUWMO1l9m6\n",
       "qyAMhRnCFDBn8P3f9TBWBNu61cOFu/XbhZ+VZAUYe3hI9cw8MH14dIinpnXtg3H/ARN1nnp8bW5w\n",
       "MknPczqZnn6Mvf+WDOhdHGCOONmC8cG3kMnbmCawS5zEg42/Xrg/4qTECK8ptLmf/P4Sp5c+a6RA\n",
       "JTxI2ob0KMrhGgW1/MF8XdUVTuuZbiK+krGn0YlXY51L3Ma0K57iJLfEoV8hRqxieduId5yQvsia\n",
       "lvq+nLSwE5xKE+5qyDFbVRSCgZ05Kad9SJtbgr/PyfUOy3BPhkZOo3EKu6paxb9SzJwqx6nswOED\n",
       "ruR6ThViYbq8RM85lauiF1zUtbkO7PLJ5m23x0kvT8obEjT5g+YdJ4a0IiyjnlN+Gf+Ci3rSQcmZ\n",
       "Up9Jyg8VGT0YODf7zpuCN624QMcJa37lB05b0iwOt1lln58HccXCKeioiixx51Tars8WJ/qDBqbM\n",
       "DvhJz+C2FTpOnO3PoZnrfa+nraGYeyi0wvMmEaKUhnkA+PUbYmswKZyL/cCJa5pSrlO9LxOG6v1T\n",
       "HPqdqdbZahC9JJ9eUmui1or8T8Soy++i55ig3PWcojhA+nnPSfOxAlo/4uqw2ajqyyZUIXAxBX6L\n",
       "jsRCnDijnn/+QtIzCzCFqPhcxXKRR8SMhdE/9SyZb/39+FQoQxPCtmCnRC+F19auOkbKtJE2Uax3\n",
       "ad7tu9Q7J28NJztyIndqzGwDq9Yr2DfHhtGMgqqnE6ldHoKpXdzhs8uGc/1dedf3zSbV24OmlmP9\n",
       "J2eWiKlHvNbY6ujrpeLieamARiW4sOrIlkZ1QkpPJbFvTzYL7E+dTm24zskEdzq4g2Xk1IMUSEG5\n",
       "9oyzm88voLk91+HFdc63YzFfbwI134w9edYv9yMaN0X2BuYP7kcgJNApTcQDx67BCn5yfrckT0ry\n",
       "1P190yhXyj+rXBYjC+ZoxQAAAABJRU5ErkJggg==\n",
       "\" style=\"display:inline;vertical-align:middle;\" /></a><br>"
      ],
      "text/plain": [
       "<IPython.core.display.HTML object>"
      ]
     },
     "metadata": {},
     "output_type": "display_data"
    }
   ],
   "source": [
    "abs_rational_nonzero_closure = Forall(\n",
    "    a,\n",
    "    InSet(Abs(a), RationalPos),\n",
    "    domain=RationalNonZero)"
   ]
  },
  {
   "cell_type": "code",
   "execution_count": 8,
   "metadata": {},
   "outputs": [
    {
     "data": {
      "text/html": [
       "<strong id=\"abs_complex_closure\"><a class=\"ProveItLink\" href=\"proofs/abs_complex_closure/thm_proof.ipynb\">abs_complex_closure</a> (conjecture without proof):<br></strong> <a class=\"ProveItLink\" href=\"../__pv_it/theorems/8e8cb0f0e043cb9cdc42f593900dd5391ba2b7070/theorem_expr.ipynb\"><img src=\"data:image/png;base64,iVBORw0KGgoAAAANSUhEUgAAAJsAAAAaBAMAAABSozPCAAAAMFBMVEX///8AAAAAAAAAAAAAAAAA\n",
       "AAAAAAAAAAAAAAAAAAAAAAAAAAAAAAAAAAAAAAAAAAAv3aB7AAAAD3RSTlMAq1RmmUTNIjK7EInv\n",
       "3XZ/CtNrAAAACXBIWXMAAA7EAAAOxAGVKw4bAAACoElEQVRIx6WVS2gTURSG/+Y1jzx9IOiiBFxk\n",
       "pRSKLqKUFBUfII4URHFhtAuxuJjupY2gVFBI7EOdiHWCIEhFg1XETcjKKuJOcKHRiBsfVaSgYhbi\n",
       "mcydZGYy00nxwNzcuXPz3XvOf+49wP8ZP9P8CVfK3cze4jljblJrB3AEAc+5voz3irEpap4hLnMF\n",
       "r6m3Ac7oy26T/LPgGogkaYseRguHJdZ/ZGWcVn69nWL9Bb6BaB+iKpDQBjY607iqKw4ClwiuKWo9\n",
       "8YlEuEgdMWLt0kZOOuMC5eVwZRTOamsO5jRn40mIDaA54hLEuLQ8bneI/rsqx6QAhoEQORxOOuPy\n",
       "aifuc62WbeEEiGubEn3HQWr3Uhz7COmixDd04A59Me1uQwmiytJ4H7WL9Lys1V644NYx3GhljOG4\n",
       "EZOz/KQt5seIvQcouuAUHRdcwE1Vx4XkNu7p+3eqLTgUxlFwCUuWT/eOse5xHXe3D/vZ7kImKebT\n",
       "FEReIbvKxsbJE0FthYf/oEjiZdl3nb2/0nEHgDcMd6lGVmDOFvtt3twnkK/eWnInbTZ8D9hm3d1z\n",
       "iD8Z7o45Uc4JNmfHtZzJamdtbuAxYiQybp1vn1MdJ/6F/wfDRc24wIQtX/NaZB+QWuJr/re+dCrV\n",
       "/rxexy2hJ5vScbG6CScWPnYqizOkRCDDVzGkDaXT7c+LurOz2JTJsLw70cZl0C9IFtx2rekhjyMS\n",
       "nd+tJFLywmHraoQrfZ3ozTFcaUY1bpQ/snBlyYIbbGkiC2n1YjO/SQqRjUYczuzRG/ohc7JhoxOR\n",
       "80NqUyjuoYxKFzeKg2k3im7BHZvnwV1rXv6npnNGHlZXhPMnbGVEUayxXb0iXFT2rhUxY6ufPHGe\n",
       "tcLXVfU0SoFnJeuizppKASn5D7jWsZC5VBTcAAAAAElFTkSuQmCC\n",
       "\" style=\"display:inline;vertical-align:middle;\" /></a><br>"
      ],
      "text/plain": [
       "<IPython.core.display.HTML object>"
      ]
     },
     "metadata": {},
     "output_type": "display_data"
    }
   ],
   "source": [
    "abs_complex_closure = Forall(\n",
    "    a,\n",
    "    InSet(Abs(a), RealNonNeg),\n",
    "    domain=Complex)"
   ]
  },
  {
   "cell_type": "code",
   "execution_count": 9,
   "metadata": {},
   "outputs": [
    {
     "data": {
      "text/html": [
       "<strong id=\"abs_nonzero_closure\"><a class=\"ProveItLink\" href=\"proofs/abs_nonzero_closure/thm_proof.ipynb\">abs_nonzero_closure</a> (conjecture without proof):<br></strong> <a class=\"ProveItLink\" href=\"../__pv_it/theorems/34ae69aa2a9324a2659cdc151adf51d44b48ea930/theorem_expr.ipynb\"><img src=\"data:image/png;base64,iVBORw0KGgoAAAANSUhEUgAAAKUAAAAZCAMAAABn/R7mAAAAPFBMVEX///8AAAAAAAAAAAAAAAAA\n",
       "AAAAAAAAAAAAAAAAAAAAAAAAAAAAAAAAAAAAAAAAAAAAAAAAAAAAAAAAAAAo1xBWAAAAE3RSTlMA\n",
       "q1RmmUTNIjK7EInv3Xah18O1XjQ+CwAAAAlwSFlzAAAOxAAADsQBlSsOGwAAAo5JREFUWMO1l+ua\n",
       "oyAMhjmEQ8Jhdtf7v9cloKNFtE51+GFb+wgvX74kKMSzQ5tHpoHdlyeHemhWXL44fB6SbJu6u+0+\n",
       "pxQ6P06Jun6ELuzhzAbaRsTJpjg/3FGKROUi12jpu5Auip9TMpIrFEZqpAFlZkL4nsG6254Pn1KG\n",
       "+uErEJYR+dJUo6mwe/mcTydzhxKcsAMthWVaO8sc1F1IP9ElyoypDDugxBEl8A8929HeljIncYHS\n",
       "2ExDLSWRHFHm6vbIO0sx3KaU9oXKyZBd7imdpXHEPao1M7aUpoYIfL1P9+sQbilNLGtiXWFLOcjR\n",
       "QhltmtJGY3gxkq97Xi7XKjeL7rLKu+Ws3FBSZCdB6rW04+zRmo4s51pSsoxnaZgR5By7ZZsctt2s\n",
       "CTaUMNVboaP0zV9l4GvEkfRBvaZGqfJoiz5LRBYFZVFNYdgcJ4gNHelMy4jrAhtKwoNK5OHIdK5G\n",
       "nBH33RKaXcsSVP/TQQQA+PoDpQ84DmTyJ5Q08VN62uV4OqqX4A8qtp/cXCqXxKOgc+CbeZGftDeb\n",
       "I0MLatOyN6bELaVqWa/cK2XOB5RF5TyMuZnLsIuzCpRcQ18Do5xaaIqWf/8Ba1kNsjNJjpuIY6FR\n",
       "xanQ10urBpTQCjeOskMv00q/hJn9zfzfu9KkV7vQkh8lx7U72nTLcZmDdzL7npIkGtqdiZDLFtpp\n",
       "0AChLz/RzGcQbbEOJbw3q//gvKjGa33cBHzpkG+G1X3O8440kfBrJ5qzR9D714UPz0Rv6vPUSxPZ\n",
       "loZDvFYFF4BjGy6cmX38BUq96zcGtMpB13OcX5tNCT/4S51cPU+Z3GkjZF/+cPq5y+VuS9nfkPL5\n",
       "9x6hwsMT/sY75GPv411V+Q+4+RWsj0G/NAAAAABJRU5ErkJggg==\n",
       "\" style=\"display:inline;vertical-align:middle;\" /></a><br>"
      ],
      "text/plain": [
       "<IPython.core.display.HTML object>"
      ]
     },
     "metadata": {},
     "output_type": "display_data"
    }
   ],
   "source": [
    "abs_nonzero_closure = Forall(\n",
    "    a,\n",
    "    InSet(Abs(a), RealPos),\n",
    "    domain=ComplexNonZero)"
   ]
  },
  {
   "cell_type": "markdown",
   "metadata": {},
   "source": [
    "<p style=\"font-size:12pt;font-weight:bold\">Non-Negativity, Non-Zero, & Positive Definiteness Theorems</p>"
   ]
  },
  {
   "cell_type": "code",
   "execution_count": 10,
   "metadata": {},
   "outputs": [
    {
     "data": {
      "text/html": [
       "<strong id=\"abs_is_non_neg\"><a class=\"ProveItLink\" href=\"proofs/abs_is_non_neg/thm_proof.ipynb\">abs_is_non_neg</a> (conjecture without proof):<br></strong> <a class=\"ProveItLink\" href=\"../__pv_it/theorems/76bf703d95d3de793ab1127f6827b1e89a75e4550/theorem_expr.ipynb\"><img src=\"data:image/png;base64,iVBORw0KGgoAAAANSUhEUgAAAH8AAAAVBAMAAACd/CwcAAAAMFBMVEX///8AAAAAAAAAAAAAAAAA\n",
       "AAAAAAAAAAAAAAAAAAAAAAAAAAAAAAAAAAAAAAAAAAAv3aB7AAAAD3RSTlMAq1RmmUTNIjK7EInv\n",
       "3XZ/CtNrAAAACXBIWXMAAA7EAAAOxAGVKw4bAAACHklEQVQ4y4WUwWvUQBTGv2a7m2S6G/YvKAEP\n",
       "e7LdQ/Gwal1YFUHEhV482S0KUk/pXZd4EIUe2kIPRkFHBEEqurSKiFB6a0sRehAqlJWtCApeiige\n",
       "BPHNJBnSzdhMCLzMy/tl3vfeC3DYMumKlqfze8hYnzHUjMzXOv9lusvCOKKPNzqHAN598eBUgTPi\n",
       "4Zoe8BR9AHZF+Qou2wGuA7dEqvN6QKMfgKVPse8k8BYYIxKnt1w9YC0FgLPLQ2MBGOUocuQojcJ/\n",
       "JGilAchFhJ/AnIsCRb/vdrf0gMFOCJhZbSdENK6K4jEBqGKIanAOuK8HCDwB8ut4xBNVyE/RGcw/\n",
       "BOghR4ecgVlOhjmLw+3QKrkS8LyKC8ky5qdjQAcGyWRzlae1FzTZgmc8CB+LTQm4COwmU5iSKRBg\n",
       "sgdrnzZ6SsPTPkW8AI4fAGyC/UqI+EGJOOoiTydAa1wUePyN7Cs8uY14AMIU2F/k9tNlDIBTHMY2\n",
       "mcvUTmzH+o1nwlGpqGTtngT8wECrkmqkE8BZOo9owRuk4WDdWsOEcNRqCiBqRCk8xNF6PdXKJZdt\n",
       "hJXGgC/Sdco4FgSBe/eSesfaloDH3+8M+6lhYuf3KK4U6//Ss2t8Vn6WRGTR7kdkjDNuxkbRm5vg\n",
       "ttDHfOVhNdodywQ0VHM0RlZg3pM6TS/6sYpe/zh35fLVH6tvjJeCoHkgz/mME9hZ/7Q2nPhr33T+\n",
       "r8A/APWPaGFvaMwAAAAASUVORK5CYII=\n",
       "\" style=\"display:inline;vertical-align:middle;\" /></a><br>"
      ],
      "text/plain": [
       "<IPython.core.display.HTML object>"
      ]
     },
     "metadata": {},
     "output_type": "display_data"
    }
   ],
   "source": [
    "abs_is_non_neg = Forall(\n",
    "    a,\n",
    "    greater_eq(Abs(a), zero),\n",
    "    domain=Complex)"
   ]
  },
  {
   "cell_type": "code",
   "execution_count": 11,
   "metadata": {},
   "outputs": [
    {
     "data": {
      "text/html": [
       "<strong id=\"abs_not_eq_zero\"><a class=\"ProveItLink\" href=\"proofs/abs_not_eq_zero/thm_proof.ipynb\">abs_not_eq_zero</a> (conjecture without proof):<br></strong> <a class=\"ProveItLink\" href=\"../__pv_it/theorems/6962e0e7129e2c397797db591046d66812ee92bf0/theorem_expr.ipynb\"><img src=\"data:image/png;base64,iVBORw0KGgoAAAANSUhEUgAAALEAAAAXCAMAAABzsl4EAAAARVBMVEX///8AAAAAAAAAAAAAAAAA\n",
       "AAAAAAAAAAAAAAAAAAAAAAAAAAAAAAAAAAAAAAAAAAAAAAAAAAAAAAAAAAAAAAAAAAAAAAAeYafp\n",
       "AAAAFnRSTlMAq1RmmUTNIjK7EInv3Xbt5cnn9enzas/lfgAAAAlwSFlzAAAOxAAADsQBlSsOGwAA\n",
       "AqpJREFUSMfNl4mSpSAMRdkhbD2r//+pQ4Ii8tDndJU9Y9WzS9ro4ZLcIGNfedj1N479RfjXHlmU\n",
       "U9DHwfG6HspPBnXGM2/XQj4MLAK7S+zgcEvIivTNiKhagHlYdG/YbWJw3YUpS+MT0ZkivdtEtvCw\n",
       "xEreJna8u5CJbiM8qVZsGhIPE0d2mxj65QbCFwtxxnKWa/qap7PY3CbWvcRsUST7QooapI0Jjxie\n",
       "TorQE1oess0nxIeK8hsxKRtwMoqyHPz9d1/W19k/jOyIdSxQQAvdESvSLv34iedWX0uoxDQ/aWi6\n",
       "2+nMRkHxVZCaWBfA9f3Fjl6WLIn9Dh/JptJc46NpNWL6I+Im72ucyxwAnw68PEFAuENcJy7L7PR4\n",
       "V9Q7sVpoDlN/Zvq4hr6i6qqxo0iRJ3Wn1GqJwdfluEXMSZ6IoYs9J45AKHpKPPaFmseiVp6Oq03I\n",
       "dc19kDnYrbvQiHR6aOo9cQuo8oS6jpifUZxmhSe95DJ6BeXxr981m1uaQnXi6m4irVa8mjJ2Fofi\n",
       "+EYlrBh7YUfcAhTg8VF+sgzg09LQ9CF3xEjPDcNHjxqbsXYlyapqFsj6chv5lgolU/AG3V4nvfTn\n",
       "xC2AsX1hKnHMQ03yPSuQXiRFrjMQi1cnwtXx0R08krs91zInEyHNQDDntDsnbgEkOGzVjcTLkBUu\n",
       "dV7Bc3CWZ/dKbF7t0auQN8Kkh7JEl5TeM7fX2Vp5ndHCJACz4tt3oKyYVx5L7kbPE9eNzKbRgTAr\n",
       "NabB3lBsoJ1emPrxHtBvX3IeO23bxbwjNv7Obqq3QilykLSTc7sdlBRRbpoVe8Cha+KG1p/sby6J\n",
       "5RuJr5qXD7jE0++DeZjIbzfI8JY4XUsMn9zCz4lv7P2o0+ehkA/X7vqr67PfHFNiodn/e9h/+vY/\n",
       "YA4XPx4ZfkIAAAAASUVORK5CYII=\n",
       "\" style=\"display:inline;vertical-align:middle;\" /></a><br>"
      ],
      "text/plain": [
       "<IPython.core.display.HTML object>"
      ]
     },
     "metadata": {},
     "output_type": "display_data"
    }
   ],
   "source": [
    "abs_not_eq_zero = Forall(\n",
    "    a,\n",
    "    NotEquals(Abs(a), zero),\n",
    "    domain=Complex,\n",
    "    conditions=[NotEquals(a, zero)])"
   ]
  },
  {
   "cell_type": "code",
   "execution_count": 12,
   "metadata": {},
   "outputs": [
    {
     "data": {
      "text/html": [
       "<strong id=\"abs_pos_def\"><a class=\"ProveItLink\" href=\"proofs/abs_pos_def/thm_proof.ipynb\">abs_pos_def</a> (conjecture without proof):<br></strong> <a class=\"ProveItLink\" href=\"../__pv_it/theorems/92bd3b098daecb9cbb068adf20b50944f59df17e0/theorem_expr.ipynb\"><img src=\"data:image/png;base64,iVBORw0KGgoAAAANSUhEUgAAAPIAAAAVBAMAAACOB66tAAAAMFBMVEX///8AAAAAAAAAAAAAAAAA\n",
       "AAAAAAAAAAAAAAAAAAAAAAAAAAAAAAAAAAAAAAAAAAAv3aB7AAAAD3RSTlMAq1RmmUTNIjK7EInv\n",
       "3XZ/CtNrAAAACXBIWXMAAA7EAAAOxAGVKw4bAAADYklEQVRIx4VWX0hTURj/ebe5uztne4pAkEGQ\n",
       "D2X6IEJWOjArEGngSw9SUg+RT9eXIChbD1ES4QShVmA3ikC0nJVUBMOIqKxgRaFQwqxAoxexIjCQ\n",
       "vu+e4+Z2z10Xvss5536/8/v+ne9coNTjF2LKqemmo3hM101Nd1D++SJkUk4nVTq+rGq1MuK66SEJ\n",
       "CvNks1pHSwlxZQ6m9wFfVdCt6h2ffDNRWQ8b1MYLx9R6t6W4Mh/BHRPllhNpdCs3LI8YM0APjyyc\n",
       "5agn1MytUtyYPRkEE/BEnUhvvXLD3cBjoIGhUdvioEtSpqS4MQfC0FaAaTklP/WwGFaoNxwE6ixU\n",
       "cJCm4SHryl3S3C3ElXlDFPoycFQWFft5RYy3qHf8BQxEUM6KBHo7N/daredNCWHG3nSfk3mcmH8C\n",
       "E2LWb5eGSHo757BqoajsDWauR5ADQ6D9wFU1M9tm2zcJ3wtctwSzd85+GH0mBX0VaLS19Te8/LnH\n",
       "nnAYuszACo87bP13bMtfYs7Cw3EkUC/84YKTOFTdJ0ahiBBiHKtHh9NnZqbNttmT78Lbfrtm3pOD\n",
       "z+DNFDUdZk5B49ohUMAKxuQXfT4ZMwZN7Zosk5gQYjwAfFJEOwUf+TzA4zFpvvGU388pNksIpYqi\n",
       "TcyHs9CXYIO0bK7A9sSpzu8COx3Mr2D8VlaYRhXWZftTJdZOpCRzRQLjMWeF1UXgY58Z1N1Mr9Hm\n",
       "h6I4b57LddV8tI1VeJbgyHOADjOlslYcbrE+Cxnt8SxaUJhnJIEWCxongUH3qCiMGf0PRvhjTU3+\n",
       "uGaFEPMyyrprnJ1kCl6qlh1i1mBXpbgphok5go1a0b2xC9hLMG5cDDpF5nuj+hQ6+WNTU74rh4UQ\n",
       "4zBqo1Fn93yPsbg4QvSUcWzbxHiCbdY+eIv0QxHjpTypDCqLczorw2hMJpORCwdzenpGCDHe+HG+\n",
       "Ou5kvpXeRO+P+V691ocv0bT6Ue9icTtvnyeyUCwPwrgZaLIu2o5ShRlydVZKyVsS/sy6i1feHqF4\n",
       "ibv39HpQhTnQaQUY5n9gIo185hr+y6y6HVS3SMFFlAP5Wrffh99uuqPHh9YMDphCSjOfVC1eLvGj\n",
       "k3CCRpPJghNoJISUZlaSjLgzsy+lLLOfPiFrhbKo/O9R/51lXTddEKB/TBr+jJ50O4sAAAAASUVO\n",
       "RK5CYII=\n",
       "\" style=\"display:inline;vertical-align:middle;\" /></a><br>"
      ],
      "text/plain": [
       "<IPython.core.display.HTML object>"
      ]
     },
     "metadata": {},
     "output_type": "display_data"
    }
   ],
   "source": [
    "abs_pos_def = Forall(\n",
    "    a,\n",
    "    Iff(Equals(Abs(a), zero), Equals(a, zero)),\n",
    "    domain=Complex)"
   ]
  },
  {
   "cell_type": "markdown",
   "metadata": {},
   "source": [
    "#### Equality"
   ]
  },
  {
   "cell_type": "code",
   "execution_count": 13,
   "metadata": {},
   "outputs": [
    {
     "data": {
      "text/html": [
       "<strong id=\"abs_eq\"><a class=\"ProveItLink\" href=\"proofs/abs_eq/thm_proof.ipynb\">abs_eq</a> (conjecture without proof):<br></strong> <a class=\"ProveItLink\" href=\"../__pv_it/theorems/9763e0bdf84de5caa20dbbe6745749c7e51ed2f40/theorem_expr.ipynb\"><img src=\"data:image/png;base64,iVBORw0KGgoAAAANSUhEUgAAAM0AAAAXBAMAAABaN9YTAAAAMFBMVEX///8AAAAAAAAAAAAAAAAA\n",
       "AAAAAAAAAAAAAAAAAAAAAAAAAAAAAAAAAAAAAAAAAAAv3aB7AAAAD3RSTlMAq1RmmUTNIjK7EInv\n",
       "3XZ/CtNrAAAACXBIWXMAAA7EAAAOxAGVKw4bAAACuUlEQVRIx7WWT2jTcBTHv2mSNk27LleZlMDE\n",
       "HVTsQQQnjEKVCTopDkQQtqIH0VO8jjnqQRCd2LGhVmEEFXRUShW3izB6EQRRpiB4qaRQ2fzDGHgY\n",
       "9OT7/ZKmtgtdifoKyeP3/eV98n6/93sp8Fdm0M91Wy3kMcevxXQsNvzFNi2SdoUxumrM7ffJ2YOu\n",
       "OLEEcJS5F/xh1Ex3HFwCrrKlzPnjSIkuOQeAoElDuj9OFF1yoiZEeqegz+3Z3S0nSJB3lcpbn5zj\n",
       "dpRi9ekr3YtTTEHVmBChajsG3O+0Bx208zYnGYtLKzZnpMLsg8Mp7YW4wQSRCuYyQprX0ZiLT7F7\n",
       "uAPnI+eIhlgXEh75KPoIhBwTAmUKZLor6ZhSzafVGSPwYDvOa85RIGU890fFe0QtJigbxLLay+BI\n",
       "lmYVgcPdccCCedaBXMftLBNkygeZIbqsD9eoC8lVCPz04tE1p0PZnFhtath5fkyD1rJuwLihml77\n",
       "Q3n+5DMCKzTwgk5rzNgRpENU7DWnscBmDQw4sWzOqpA7J+XJZlWrrpQdbZ5zFtI7EfHMJ6xhhgsi\n",
       "awST9Hoi5hVyJ/bhG0bZrMHBFk4ibGWdNvxwJdZoH885Z/+NEzjlyZE0+RcXpBINCDzCJhf7EMdB\n",
       "em39+pkWDnrd3i6UBMtxb3HO4/VASvfkqH21TS70uJWmlPlufMIb3OSzqA7UPzjTMOx1o2eiTmro\n",
       "yW7XDyJ2p73SGJyMZCQUgM/yBhU6W56XBpZdTqi8hKQbfLzxlJjszFnCMzvRlHvqvy5/x7SOXYcy\n",
       "CN1jI4WLc9lmPifPrpvO1EDqjhvrbmfOF9oHJrR/D3TVCFNRF/L55sndcn6eYNb1Fzpz+mtpLoRb\n",
       "P9yyKVin28Nu4cTlTPM/gIW1hr/W3riyrrDaqoiQh0rbckZ/4H9Y6N+E+Q0tIsgJnS2w8gAAAABJ\n",
       "RU5ErkJggg==\n",
       "\" style=\"display:inline;vertical-align:middle;\" /></a><br>"
      ],
      "text/plain": [
       "<IPython.core.display.HTML object>"
      ]
     },
     "metadata": {},
     "output_type": "display_data"
    }
   ],
   "source": [
    "abs_eq = Forall((x, y), Equals(Abs(x), Abs(y)), condition=Equals(x, y), domain=Complex)"
   ]
  },
  {
   "cell_type": "markdown",
   "metadata": {},
   "source": [
    "#### Evenness"
   ]
  },
  {
   "cell_type": "code",
   "execution_count": 14,
   "metadata": {},
   "outputs": [
    {
     "data": {
      "text/html": [
       "<strong id=\"abs_even\"><a class=\"ProveItLink\" href=\"proofs/abs_even/thm_proof.ipynb\">abs_even</a> (conjecture without proof):<br></strong> <a class=\"ProveItLink\" href=\"../__pv_it/theorems/68594ab9f47db38dc652763068eb1de5ae1a7bae0/theorem_expr.ipynb\"><img src=\"data:image/png;base64,iVBORw0KGgoAAAANSUhEUgAAAJ8AAAAVBAMAAACqHiFtAAAAMFBMVEX///8AAAAAAAAAAAAAAAAA\n",
       "AAAAAAAAAAAAAAAAAAAAAAAAAAAAAAAAAAAAAAAAAAAv3aB7AAAAD3RSTlMAq1RmmUTNIjK7EInv\n",
       "3XZ/CtNrAAAACXBIWXMAAA7EAAAOxAGVKw4bAAACB0lEQVQ4y2NgwAsKgBBDCIcAOxY5dMCnwLAV\n",
       "XQynAHcAQxyQEgCxlXEYqM1AmoF8BgwMriB2OnbzuBJINJAhi4GhEeT7CdgNZDEg1UATBga2BUCm\n",
       "AnYDeRhINZBnAQMz0BVsOIJQjWQD2YCmnb179zQOA71R9a97uGI31mjneifVvQlsIDcwjj0YGGbh\n",
       "MDAZ1UAHPjmWCxABlrtgIAAxkIXh4QNfsIHMwGgsZGAXQEl7U+TqoMxLKAYyFzD/YjTA5kJzBvsF\n",
       "wmADmQ4wMHAuALHAgOPhzACuiQVMs6H8oxAP5YJd08DBwJKAPQwbGNygYcjxAWjoA3icuDQAhdcx\n",
       "MFijGIgU6w9wRco5qIGsQBcyJNgBiXfuTwpA6ZxhcSs4V2LxMgNDfAHXAmxhyMD6nWEVxMsXgAKb\n",
       "gMmbr0CSTWElSFpdHWHAPBQDVwbIMHBjcyHXVMYDDBsgkQLKIjVAe5gZ5nEwBIOkrawQSjeiGKjf\n",
       "5cMQhM1Aph9LDrAqgA1k2QAUYGwACX9nYDCbOXOmQkcEQmkvioFL3jE5K2B1od8DFSNIGPLC4peB\n",
       "4wA7Qzc4vQMjhQsqyNtAak6phQnWcCewABMQqKDYUsCwD5byHEg10Blerjzd94qBfQaIuTpzSgNM\n",
       "eDqJBqIXW6tnzgxAEVhJooGchOoA9gcML9DFcArwNTA8Z2AAADxin57S+if5AAAAAElFTkSuQmCC\n",
       "\" style=\"display:inline;vertical-align:middle;\" /></a><br>"
      ],
      "text/plain": [
       "<IPython.core.display.HTML object>"
      ]
     },
     "metadata": {},
     "output_type": "display_data"
    }
   ],
   "source": [
    "abs_even = Forall(\n",
    "    x,\n",
    "    Equals(Abs(Neg(x)), Abs(x)),\n",
    "    domain = Complex)"
   ]
  },
  {
   "cell_type": "code",
   "execution_count": 15,
   "metadata": {},
   "outputs": [
    {
     "data": {
      "text/html": [
       "<strong id=\"abs_even_rev\"><a class=\"ProveItLink\" href=\"proofs/abs_even_rev/thm_proof.ipynb\">abs_even_rev</a> (conjecture without proof):<br></strong> <a class=\"ProveItLink\" href=\"../__pv_it/theorems/5ec1e09a251343c1f05038cee7a778558f1e39a90/theorem_expr.ipynb\"><img src=\"data:image/png;base64,iVBORw0KGgoAAAANSUhEUgAAAJ8AAAAVBAMAAACqHiFtAAAAMFBMVEX///8AAAAAAAAAAAAAAAAA\n",
       "AAAAAAAAAAAAAAAAAAAAAAAAAAAAAAAAAAAAAAAAAAAv3aB7AAAAD3RSTlMAq1RmmUTNIjK7EInv\n",
       "3XZ/CtNrAAAACXBIWXMAAA7EAAAOxAGVKw4bAAACBklEQVQ4y2NgwAsKgBDORAXsDJgCBQwEAJ8C\n",
       "w1YYeyuaHHcApkAckBIAsZVxGKjNQJqBfAYMDK4gdjp287gSSDSQIYuBoRHk+wnYDWQxINVAEwYG\n",
       "tgVApgJ2A3kYSDWQZwEDM9AVbDiCUI1kA9mApp29e/c0DgO9Iease7hitwI+A7neSXVvAgtwA+PY\n",
       "g4FhFg4DkyEGOvDJsVyAGMhyFwwEUA1kYXj4wBcswAyMxkIGdgGUtDdFrg7KvAQ2kLmA+RejAT4X\n",
       "mjPYLxAGCzAdYGDgXACX4ng4M4BrYgHTbCj/KNhADgaWBOxhuAzs3BsMDQxuUBs4PgANfQCPE5cG\n",
       "oPA6BgZrFAOBcfeAUKScgwqwAl3IkGAHJN65PykApXOGxa2IbHoJak58AdcCfGHIwPqdYRXEyxeA\n",
       "vE3A5M1XIMmmsBIkp66OUDcPbODKABkGbnwu5JrKeIBhAyRSQFmkBmgfM8M8DoZgkKyVFULPRrCB\n",
       "+l0+DEH4DGT6seQAqwJYgGUDkM/YABL9zsBgNnPmTIWOCISeXrCBS94xOSvgdaHfAxUjiAAvXJDj\n",
       "ADtDN1gdMFK4oIK8DaTmlFoYp4Y7gQWYgEAFxZYChn1QUWYHUg10hqf1p/teMbDPADFXZ05pgAlP\n",
       "J9FA9GJr9cyZqKpWkmggJ6E6gP0BwwsY+wV69dCAKfCcgQEAtviYtEOFEsYAAAAASUVORK5CYII=\n",
       "\" style=\"display:inline;vertical-align:middle;\" /></a><br>"
      ],
      "text/plain": [
       "<IPython.core.display.HTML object>"
      ]
     },
     "metadata": {},
     "output_type": "display_data"
    }
   ],
   "source": [
    "abs_even_rev = Forall(\n",
    "    x,\n",
    "    Equals(Abs(x), Abs(Neg(x))),\n",
    "    domain = Complex)"
   ]
  },
  {
   "cell_type": "code",
   "execution_count": 16,
   "metadata": {},
   "outputs": [
    {
     "data": {
      "text/html": [
       "<strong id=\"abs_non_neg_elim\"><a class=\"ProveItLink\" href=\"proofs/abs_non_neg_elim/thm_proof.ipynb\">abs_non_neg_elim</a> (conjecture without proof):<br></strong> <a class=\"ProveItLink\" href=\"../__pv_it/theorems/cd8a13f996fd1e4bfbcab090273aa113bfd342950/theorem_expr.ipynb\"><img src=\"data:image/png;base64,iVBORw0KGgoAAAANSUhEUgAAAJ8AAAAXBAMAAADn1oBmAAAAMFBMVEX///8AAAAAAAAAAAAAAAAA\n",
       "AAAAAAAAAAAAAAAAAAAAAAAAAAAAAAAAAAAAAAAAAAAv3aB7AAAAD3RSTlMAq1RmmUTNIjK7EInv\n",
       "3XZ/CtNrAAAACXBIWXMAAA7EAAAOxAGVKw4bAAACGklEQVQ4y2NgIAEUACGciV0BSYBPgWErjL0V\n",
       "q4o4IBYAMZSJMlCbgZCBfAYMDK4gRjox5nElEDSQIYuBoRFIsU8gxkAWA8IGmjAwsC1gYOBWIMZA\n",
       "HgbCBvIsYGAG2stGVBCqEWEgG9C0s3fvnibKQG+IOesertitgGEg1zup7k1AvwLj2IOBYRZCwgG3\n",
       "gckQAx345FguQAz0vQsCF8EBzPDwgS8DAzMw4goZ2AUQuhDR0xkApna/hglcAhvIXMD8i9EAw4Xm\n",
       "DPYLhBkYmA4wMHAu4A7AZiDXTlBUMT9ghQkdBRvIwcCSgCUMGxjcQBTHB6ChD5DjBDkBvQSGME8D\n",
       "w3cUA4FCD7BGyjkQwQp0IUOCHZB45/6kAGEglGf5gKF+AcMhFC8zMMQXcC3ACEMG1u8Mq4CuuwBk\n",
       "bgImb74CSTYFuIFwnk1B/wKGy1AD54ENXBkgw8CN4UKuqYwHGDYAQwikvwYYJ8wM8zgQXobxVk9l\n",
       "ABp4DqppI9hA/S4fhiAMA5l+LDnACnQDC9BQBsYGkNB3lDAE80okGEBe/gTV1As2cMk7JmcFTBf6\n",
       "PVAxAtK88PjlOMCOZCCYVyjBgBIpvA2Ec0otjFHDncCCMBDMW+gODs4HrLBUyuxA2EBneEnydN8r\n",
       "hIFg3iqIzO4nC2CKphM0EEuxha8gW0nQQM4Ckgxkf8DwAsZ+gVXFcwY8BnbOBAISax3K6y1MAAAG\n",
       "Op2JAMAlLAAAAABJRU5ErkJggg==\n",
       "\" style=\"display:inline;vertical-align:middle;\" /></a><br>"
      ],
      "text/plain": [
       "<IPython.core.display.HTML object>"
      ]
     },
     "metadata": {},
     "output_type": "display_data"
    }
   ],
   "source": [
    "abs_non_neg_elim = Forall(\n",
    "    x,\n",
    "    Equals(Abs(x), x),\n",
    "    condition = greater_eq(x, zero))"
   ]
  },
  {
   "cell_type": "code",
   "execution_count": 17,
   "metadata": {},
   "outputs": [
    {
     "data": {
      "text/html": [
       "<strong id=\"abs_neg_elim\"><a class=\"ProveItLink\" href=\"proofs/abs_neg_elim/thm_proof.ipynb\">abs_neg_elim</a> (conjecture without proof):<br></strong> <a class=\"ProveItLink\" href=\"../__pv_it/theorems/6be05392bd3b19c68e5200244e8f386a77faadd50/theorem_expr.ipynb\"><img src=\"data:image/png;base64,iVBORw0KGgoAAAANSUhEUgAAAL8AAAAXBAMAAACoi4O2AAAAMFBMVEX///8AAAAAAAAAAAAAAAAA\n",
       "AAAAAAAAAAAAAAAAAAAAAAAAAAAAAAAAAAAAAAAAAAAv3aB7AAAAD3RSTlMAq1RmmUTNIjK7EInv\n",
       "3XZ/CtNrAAAACXBIWXMAAA7EAAAOxAGVKw4bAAACY0lEQVRIx62Wz2vUQBTH3+bHJrvZLlvaiyIS\n",
       "UITiwUUKpRddKP4ArSz+ARrwIHiK96rrsf7AvRRRocyhFOtBtNDTggTBk1hWvfSyMJWKVWERLyue\n",
       "nB9JJpvJDlnwLd+Ql3nJZ957k8kCjGE++cWnabOk4KwopVVd2IrOt6TRLyn/SqgadY7kAhwHBUB7\n",
       "lZ5OnesMda7neX7ZUwHWpfgbXHdp+dp5AEZdBViQ4me5igjAcfMAKqACBHI8YtLJvIq5WnBMBdA8\n",
       "Kb5Y5/rQ673PBbjAn/ty93nHlQBGosfl/sH7m6QuNa7zAE/FYGM04BoHNKqHjS4HLPaofYymG8Ng\n",
       "Fy8C6B7XTbBqYnC43TM+dH5GzicG0H39b6EuZTCRaOMcnEZTpGoBVwk5zRGAGQw6NqNL7xjABsPL\n",
       "6EGFPGOdJbQDLThLL9m/uDSc7HESME/SrrRgMAQgl/AIgLBtejADLvBOkUP/3J4vAMz7TrO+g+Dt\n",
       "UIkArvplJPUgWSIwB/CCzLzLBZvkdav6B4puDGDeA+Y/QvA5vG2VATaah8CRMyhhsYhWCgGQRaW3\n",
       "uWCJ9FiHVVuUiHnaM8QB2+GNrxngxL2LcFkGOGKhaH/WAtPlK5et3kKLXh4M9YB6JiWQEv0Ob3zI\n",
       "AGt9bcGVAXZXZHAJHz1Jq9bkCgMCKwHgnj3tJ5s80VJtFTvSe3MrFLMlxzMEIPKsSVTFZpS83lAB\n",
       "ZiFr+4u3QOPrmx8CEHskj84eioIeqwCl9NeLbtEZ27Rq495QAcrtDGLJHwtgYdiPzvel0dsp/1uo\n",
       "kYDlJ8TG/Grn+uPwn+0fCGW3MAzUzNcAAAAASUVORK5CYII=\n",
       "\" style=\"display:inline;vertical-align:middle;\" /></a><br>"
      ],
      "text/plain": [
       "<IPython.core.display.HTML object>"
      ]
     },
     "metadata": {},
     "output_type": "display_data"
    }
   ],
   "source": [
    "abs_neg_elim = Forall(\n",
    "    x,\n",
    "    Equals(Abs(x), Neg(x)),\n",
    "    condition = LessEq(x, zero))"
   ]
  },
  {
   "cell_type": "code",
   "execution_count": 18,
   "metadata": {},
   "outputs": [
    {
     "data": {
      "text/html": [
       "<strong id=\"abs_diff_reversal\"><a class=\"ProveItLink\" href=\"proofs/abs_diff_reversal/thm_proof.ipynb\">abs_diff_reversal</a> (conjecture without proof):<br></strong> <a class=\"ProveItLink\" href=\"../__pv_it/theorems/69ae5f21f1d5ab8cc8fa9daa24a613dce1b826580/theorem_expr.ipynb\"><img src=\"data:image/png;base64,iVBORw0KGgoAAAANSUhEUgAAAN0AAAAWBAMAAAC2xYReAAAAMFBMVEX///8AAAAAAAAAAAAAAAAA\n",
       "AAAAAAAAAAAAAAAAAAAAAAAAAAAAAAAAAAAAAAAAAAAv3aB7AAAAD3RSTlMAq1RmmUTNIjK7EInv\n",
       "3XZ/CtNrAAAACXBIWXMAAA7EAAAOxAGVKw4bAAACt0lEQVRIx7WWTWgTQRTHX7Kbj91sPvDgJRAW\n",
       "BHMQJQcRjFAXqiBIbaAXD2IjHqSCsLlrWQ+ioGKFgq5KXRGEEjH1C720CCIqIqgIihLYnloQJAgq\n",
       "9FB8bzYfnXRmEYkTEpb/vH2/efv+MxuAvxg2fiQjsT72H7LwI2PCY9lcqtInSCNx5jD+5uhyUyhv\n",
       "iziLfuOdkMd0IS9TAthLl8fCcHpVsuq4Ja6PdCEPjgOcpiZMhfHUkoSXNcU80sW87bgYD28yw3iG\n",
       "rCvjnphHuphneKDg6uOh7dss481L/DIv8wvEEfa22XwTytsfxCbySz4/ceT7BiGPdH7UFibZTArd\n",
       "uQ/gWijvaJDlkK2t8D765TXsgDfSpPG+7U/SucjYS7jpUQ4FrVeDRK4zkZzo7rnpwmT78kOQ5Tmo\n",
       "vM+jK2D4gvqYzml3SzDC1hx9BqB5a+7JE3TRreiX7ej1tvaCZVFbkJ7DqzuslM/k2ypk5wQ8pmP5\n",
       "J1ikg9oowFfGS7aQ6a+xyyv87sGQ1D2AXRzPmIIGnxvx46aAx3ROew36T8aLYX1QHcKf+tATKm11\n",
       "0aNDAG6f6R2NwfNs+LB73fYb9QT9YzrX6FVQWsHzpI48wF2vf0r+pq59yVizFFIs9sJnAp4JG6Oc\n",
       "DbIO9lRQH9M53g+IVIvML3SwnES7qFaSStVKSnWMQsrlXvh9lkXzox9VLk2kpFkiHtO5MQNbLYt4\n",
       "Kjkggv0yKhkyqeGouR2u65rnDvaiLwb+LDytLfPLzg+Lz2vSuXHr29mCQ7x0J7pha2V85lkwzPPs\n",
       "NYN+0Tu+cGBA7yM41T0j7UtjXh3S3k7cH3SCP7JhoT2nWAPjdQuPDW97CBfM5AEfEldJqE9MO53J\n",
       "K4Pi9b+Hgl1Td10+yeygeFrfMedJ/qP4sCz9r+H0CdJInFniBQX+//gDstDTWY/u8VMAAAAASUVO\n",
       "RK5CYII=\n",
       "\" style=\"display:inline;vertical-align:middle;\" /></a><br>"
      ],
      "text/plain": [
       "<IPython.core.display.HTML object>"
      ]
     },
     "metadata": {},
     "output_type": "display_data"
    }
   ],
   "source": [
    "abs_diff_reversal = Forall(\n",
    "    (a, b), Equals(Abs(subtract(a, b)), Abs(subtract(b, a))),\n",
    "    domain = Complex)"
   ]
  },
  {
   "cell_type": "code",
   "execution_count": 19,
   "metadata": {},
   "outputs": [
    {
     "data": {
      "text/html": [
       "<strong id=\"double_abs_elem\"><a class=\"ProveItLink\" href=\"proofs/double_abs_elem/thm_proof.ipynb\">double_abs_elem</a> (conjecture without proof):<br></strong> <a class=\"ProveItLink\" href=\"../__pv_it/theorems/d9e8e78a95d9d074e6a790aa5f7d5f91401e930a0/theorem_expr.ipynb\"><img src=\"data:image/png;base64,iVBORw0KGgoAAAANSUhEUgAAAJoAAAAVBAMAAABMN+opAAAAMFBMVEX///8AAAAAAAAAAAAAAAAA\n",
       "AAAAAAAAAAAAAAAAAAAAAAAAAAAAAAAAAAAAAAAAAAAv3aB7AAAAD3RSTlMAq1RmmUTNIjK7EInv\n",
       "3XZ/CtNrAAAACXBIWXMAAA7EAAAOxAGVKw4bAAACB0lEQVQ4y5WUT0gbQRTGv2Q32XSTLgFPioSF\n",
       "ijnUUvGgqFCF2j9QlaAXD4UGPBQ9bY+CyHoQRClVsNhtIQTqoakgNTQnQXLxoigieAxs0IJ4yNXS\n",
       "U2c2M7tEMsq8ZZZvZt7+Zva9NwPcaRZ5NN7REOjAwRca7jHDRAnxDOsR4WtupUBEXCBJ5SMB7TEk\n",
       "aLgAXlD5vjlMz0rRonks0oCsNaep3VI0ZZgCETeb0xKQouEQClk/KghbpyRtGjiuVI4EtDecptfa\n",
       "Vosi2k71x57p0XaB18BXAW2a01RU3TGfplY8SzLasJFSTz1aL/ABWrKhxjZSC0yecVofhvItgr0p\n",
       "lvIv1O3RuoAHed8lVnUy+roV/sb6B5xm46UwbjGoWRa3T0DY9ZMwYpNPdoDB2zTg5I4sJFwm3pKW\n",
       "fUZetVeXlkHSi+9LwWn0/xSRG/wUxQ3vLD3viSekFWdJsKzWqFmg0+l0sHCO0fTPoTJ+CfZWyLQj\n",
       "Xsf2kzZPFlGQi2GSTg8MBK67jBb+u1WOmALa05VRTNRptKJCNh2+IQl2HMdcngpcP/K9jbsdPaK4\n",
       "bdXCz8067ZyPxsoaVr2CJ1nQ2eBDW+osaKdMz8ezKqkVegP8trDPRskxlqHRS6J+W/zZv4b2hcrt\n",
       "mQ2bu2xK0eYap7Ydp9G7IEXbvOcm11xcweBbJcLX3K4CYVj4D2N4qE4f+TB3AAAAAElFTkSuQmCC\n",
       "\" style=\"display:inline;vertical-align:middle;\" /></a><br>"
      ],
      "text/plain": [
       "<IPython.core.display.HTML object>"
      ]
     },
     "metadata": {},
     "output_type": "display_data"
    }
   ],
   "source": [
    "double_abs_elem = Forall(\n",
    "    x,\n",
    "    Equals(Abs(Abs(x)), Abs(x)),\n",
    "    domain = Complex)"
   ]
  },
  {
   "cell_type": "code",
   "execution_count": 20,
   "metadata": {},
   "outputs": [
    {
     "data": {
      "text/html": [
       "<strong id=\"abs_ineq\"><a class=\"ProveItLink\" href=\"proofs/abs_ineq/thm_proof.ipynb\">abs_ineq</a> (conjecture without proof):<br></strong> <a class=\"ProveItLink\" href=\"../__pv_it/theorems/f2b457c7acc779e3831d5bebfe6b62ba528dc6f70/theorem_expr.ipynb\"><img src=\"data:image/png;base64,iVBORw0KGgoAAAANSUhEUgAAAb4AAAAXBAMAAACGxzdIAAAAMFBMVEX///8AAAAAAAAAAAAAAAAA\n",
       "AAAAAAAAAAAAAAAAAAAAAAAAAAAAAAAAAAAAAAAAAAAv3aB7AAAAD3RSTlMAq1RmmUTNIjK7EInv\n",
       "3XZ/CtNrAAAACXBIWXMAAA7EAAAOxAGVKw4bAAAFVElEQVRYw91YXWgcVRQ+M7uzO3snu4moxTYS\n",
       "Flp8anGRovTBNCWm/kZXRUGQZqlCtYKsIEK0ltW3arF/xBgfykRC/EkTxkILrRiiLxb/WNBAsKZM\n",
       "mojWn1DwoSVPnvu3c+fOnWjjkx74Zjsn53xzv7nnnnunAP/G8gx5eVs3BtVXSYUoOXKnhf+zyHTu\n",
       "a7eLDF5V3J4yBu1aJZVDMSc0Pynpv5g+LBos0UEdG9cmzw4Y/kZfqZKeyhCzxZRnLRoIUm0xQh+9\n",
       "37M2feMcJn23KFW5Nz2VIWY530wi/V45IogL3hMPFniN1unhtenr5TDou/M+JWxreipDzDI9ZhLp\n",
       "n6xFBLG87/14sACVKd/JtdoMR1LfH2fVsDbxZByZ2xFPZYjbl2YS6V+8MSJQF8F5Xw/myODqyK1x\n",
       "+dU4dH3k03gzyFWidfhOPNWuJVifMpNIf/NAi0CxiQvJYIFv5ue/Wpu+bMCB+qYWPvikLPSRftlQ\n",
       "yFIFRvHvfNLYwMb9WGpW6RJTvUAw8mONRHALvx3k6pKALG948yTzjn1nIBG4B+Dd1USk/4nOCwXq\n",
       "6yl1ZZtcH1nXqnbPnoHtuArYu3a/nkf7cW8sNaf01mAzZC4D3K6RCG7uh1zd7pEEWVgI++nN6G4T\n",
       "icALkO9Ilt75p9fx+ii0fO4QH/S0fOfFModXzdQzK1ZFzF80tNdxXOuRjK2VS3zmDpTV1GIkwy33\n",
       "g4WNbrNGIriFH9vhD5LgDtjuX09vrN0mEoGC31o/wt5aPwRh4L2i6YOJo/TaDU/IvlHl8KouZGut\n",
       "9ZdvlZbfFsK3+FB8oXBCvETymZpKMU7ndX6OYCjGwyGNRHAL/00Ay5KgATtFzIuyPlUSATvU2ksW\n",
       "KxbCMDOl64PSMbycg/a6rg8YabK/DPjuVTxG0PnLd3LXS4Gur3XqWIFDDYAnE/2FcXM/QamTkgDo\n",
       "y9P6i0IiUevGy/LdSzhqZwEsflIIw9KYom9XBzvoZI5DfgXaynp9opI68ZP7w04ooTa7yepsns8T\n",
       "pNQnnabf8WdLYn9g3NxPd7JsWRCAcwU+0vYHhUTiJC75Un19DjOm2v2DhG32YTC4GOkj4YrLFlHm\n",
       "C3cFiqJ0CiGHV/2wejN4hv39CBTwtWQOR9s8736t1IKyCWDoEfzZppEIbu4v0kqocQIyZM1AoO3v\n",
       "ConEPjoEOO7iP1/eApccNvrw3jMQ6cu/1yzRQZIzVdTXJgZF+z5D9dY3HoBH4uezBr3ugIFKaxOw\n",
       "aEn1aalKa8t2OH/iz/0aieDmflpqbA/FRPvq2IwTzb/9jEYiYbGhXGFBndCVeXZk5CjW56myUp9W\n",
       "YKGo/I4Grc92Qeo2Obzq2LLdWzacr0enH8L5KvJFRteOPAnKVLcZBZPOJTqIWY1DcHP/Btb/OAF5\n",
       "MNx0m/5EhWRWJXNn2MfSLJxzA77+Hjur6CtW21DadY1Yf4E5jtW+H04jXlU+BP14KsypwR59A82U\n",
       "bzrNP5e2K0sSCWb7vFoWJjDLucx3e9wf1P5SbAwAuYHpWoaH1YPz1lX0eTXyuekMHaWqZ+/TcIJ2\n",
       "j0rKOaOSJADT+5QkEjz7p+lf4WAZNm2rwSDOkvP8c+SuWqTP7n0biC/299axvlBniOsjvE/SqS6G\n",
       "VpDydSJSGYRdALqFDIJGImzQQCBtMurMEclgMqlM6oUKNpGRIYWHXd+HY4ZB0laLSJ0/u7tPG4me\n",
       "CiQSv3GJ8gynlN2wgcBgEclwIsnxrfDxxItm1y6nZmLbz1CSr/kX4yN/hvRUDvUIYf7fGoN/f/rB\n",
       "mAZLqJ+I4HQHZn2P/oYtaARtGP5nlv9vD/8vbrCwYU797cYAAAAASUVORK5CYII=\n",
       "\" style=\"display:inline;vertical-align:middle;\" /></a><br>"
      ],
      "text/plain": [
       "<IPython.core.display.HTML object>"
      ]
     },
     "metadata": {},
     "output_type": "display_data"
    }
   ],
   "source": [
    "abs_ineq = Forall(\n",
    "    (x, y),\n",
    "    Iff(LessEq(Abs(x), y),\n",
    "        And(LessEq(Neg(y), x), LessEq(x, y))),\n",
    "    domain = Real,\n",
    "    conditions = [greater_eq(y, zero)])"
   ]
  },
  {
   "cell_type": "markdown",
   "metadata": {},
   "source": [
    "### Bounding the absolute value"
   ]
  },
  {
   "cell_type": "code",
   "execution_count": 21,
   "metadata": {},
   "outputs": [
    {
     "data": {
      "text/html": [
       "<strong id=\"strict_upper_bound\"><a class=\"ProveItLink\" href=\"proofs/strict_upper_bound/thm_proof.ipynb\">strict_upper_bound</a> (conjecture without proof):<br></strong> <a class=\"ProveItLink\" href=\"../__pv_it/theorems/caaacf7e910470c6a89bb2cf9c6db846e49d67b60/theorem_expr.ipynb\"><img src=\"data:image/png;base64,iVBORw0KGgoAAAANSUhEUgAAANQAAAAXBAMAAACBjHwxAAAAMFBMVEX///8AAAAAAAAAAAAAAAAA\n",
       "AAAAAAAAAAAAAAAAAAAAAAAAAAAAAAAAAAAAAAAAAAAv3aB7AAAAD3RSTlMAq1RmmUTNIjK7EInv\n",
       "3XZ/CtNrAAAACXBIWXMAAA7EAAAOxAGVKw4bAAACpUlEQVRIx7WWTWgTQRTH/0022WQ3SevFiyAR\n",
       "QRA/KIhiPcRIkVo8uOBJ7KFYRPC0hSIUPNSjUGkOQlBB9qgUTLQH60UE8aCilNriQVoWevDjIIIH\n",
       "wYM4M29mdjZZEnDrg828yXs7v9k3771dYJvEhy01O8lsY9ukUoXrkarGmORCYIgre1OjDqA3ClvA\n",
       "aT5eSUtyJvuh8gFu8EA20qKs4X6obJ3T4FbTokpIRGWMcL1Blu0nn/qo9iWismtB5DIFvNvYeJsa\n",
       "dZYQ9q7PYYSqfJIk9/tx4DFwBrjbGXn5+L6RzL1RU4Sa8Iu/NWpxU9XUKsaBY8A07KGOG4s0HDX/\n",
       "q/dErQqU8xLWikLNfFDGchvvgYNs3aArZQjlxHZwUWa1keCG9ZVAWT/4srTcwCVtPCfiuMDCFHZl\n",
       "BaEsr6MueCxO6YM2VIUqNdDyulGvxe8EuyZrPLC1p+IAt0KNKkcrPa9RQRR2+MpVqOSuA9gKcRJd\n",
       "AXT+iOEQu55cZdOPhV98vl54oVHXNKnszSPDDit321euQpXuTO4TqoqdGb8rLX4yd2CEadfZmVh1\n",
       "cZPVcOY06oJGjeMBcg3k7vGQCVepkjtEJjNUMcysWVGyP9oM5O1YpnoYYO4lr8KToOQZZ7WHRekO\n",
       "k6Y4iUID86KpCFelqs3cogzcvTz9xSxhKix3qcbGdflnyy+eYNNB30Dd1E/FY8sC6DyrKldSB3Xh\n",
       "lecSG1M2akz2iuph/sL5YBF5D+2EtLgMFxWeAF+HpSup0p2aaZ92yxsyvblGDy+xqNij/FElqqj3\n",
       "PHPkm5yNDJMrqdKdS7MfajY+rcbqKtc2bQ9p2B81K0MV5t6oZvylHMQb05hpHOvdBO0QFZmNaox/\n",
       "EPjxt1dHD3SNdpD18F9Efd4EyQ3vH+UvJw6hHRo7Ct0AAAAASUVORK5CYII=\n",
       "\" style=\"display:inline;vertical-align:middle;\" /></a><br>"
      ],
      "text/plain": [
       "<IPython.core.display.HTML object>"
      ]
     },
     "metadata": {},
     "output_type": "display_data"
    }
   ],
   "source": [
    "strict_upper_bound = Forall((a, c), Less(Abs(a), c), \n",
    "       conditions=number_ordering(Less(Neg(c), a), Less(a, c)))"
   ]
  },
  {
   "cell_type": "code",
   "execution_count": 22,
   "metadata": {},
   "outputs": [
    {
     "data": {
      "text/html": [
       "<strong id=\"weak_upper_bound\"><a class=\"ProveItLink\" href=\"proofs/weak_upper_bound/thm_proof.ipynb\">weak_upper_bound</a> (conjecture without proof):<br></strong> <a class=\"ProveItLink\" href=\"../__pv_it/theorems/49aebfae857b3ee2692dda05a6dcdd522baf7b6a0/theorem_expr.ipynb\"><img src=\"data:image/png;base64,iVBORw0KGgoAAAANSUhEUgAAANQAAAAXBAMAAACBjHwxAAAAMFBMVEX///8AAAAAAAAAAAAAAAAA\n",
       "AAAAAAAAAAAAAAAAAAAAAAAAAAAAAAAAAAAAAAAAAAAv3aB7AAAAD3RSTlMAq1RmmUTNIjK7EInv\n",
       "3XZ/CtNrAAAACXBIWXMAAA7EAAAOxAGVKw4bAAACr0lEQVRIx62WTWgTQRTH/91susluklYQL4JE\n",
       "BEH8oCCKeoiBIrV4cMGT2EOxiOJpC6UgeKjHQqW5BRVkBQ+WIon2YE8iiAcVpdQWBYks9ODHQQQP\n",
       "ggdxZt7s7Gx2SQ7bgc28l/nP+83OvHkJsE3NgyUtK23Ywra1ShWOS2bYx1o+AIa5sS8z6iB6o7AF\n",
       "nOH91awkezIVZUSBB33c4hvZyIoyR9JQuQ1fKXJ1ToNTzYoqIQVV+exrkjfIsfUMZj6q/Smo5S8x\n",
       "yRTwrtN5mxl1jhDW7q9BiHr4QY06P08AT4CzwN3unZeH6mnJ3Bs1RagJr/hXoh5cju7UOsaB48A0\n",
       "rOGuiUXqjunf1ak7EOE1E+sCZb+EuSZRAxGq3MZ74BCL6ycuAqHs2AouUfggIgXa6CuBMn/xsDLc\n",
       "jNrA8yI7Ftk2BYmsIJQZWwHPVJwcUb5mKlSpgZabTIvX4nOCPZM1/n3tmTjArUChylGk5zVxIb6L\n",
       "SyGkZJJcbWArwOlkstv/hHeYPU+vM/dj4Q/3NwsvFGo22mx3AUYdCyK8kJIp5azdJ1QVuwwvcYV/\n",
       "sxLItoFZN9mZmHUxyWzYcwp1UaHG8Qj5Box7fKaQSpPkEJnMUMXA2DBjhekaTccq3YcBJi+5FZ4E\n",
       "JVc7q71A4Q5rTXESBVa88hxAUmmGMW9TBu5Znf6WLLfOSo2JN6XX8oqnmDvkaah5peV7a/BsL+z0\n",
       "Qik3h1S6l+f6VXZrLaxh3uIFfxmDLtopaXEFDioiAawdvpCSKeVUTPugzDBj86NHVthZW6P8VSWq\n",
       "qNY8c/RH6FkkJVPKeWt2ox53ePukUDfi5GrsXuXb+thS78q01O+tmvEfZT9emMb0wbHeKCtARWZj\n",
       "2Mf/EHgxN9dVAx3t5ybHljrP85GmaGa2Fv690VB29qj/AdtVrgcCzw3rAAAAAElFTkSuQmCC\n",
       "\" style=\"display:inline;vertical-align:middle;\" /></a><br>"
      ],
      "text/plain": [
       "<IPython.core.display.HTML object>"
      ]
     },
     "metadata": {},
     "output_type": "display_data"
    }
   ],
   "source": [
    "weak_upper_bound = Forall((a, c), LessEq(Abs(a), c), \n",
    "       conditions=number_ordering(LessEq(Neg(c), a), LessEq(a, c)))"
   ]
  },
  {
   "cell_type": "code",
   "execution_count": 23,
   "metadata": {},
   "outputs": [
    {
     "data": {
      "text/html": [
       "<strong id=\"strict_upper_bound_asym_interval\"><a class=\"ProveItLink\" href=\"proofs/strict_upper_bound_asym_interval/thm_proof.ipynb\">strict_upper_bound_asym_interval</a> (conjecture without proof):<br></strong> <a class=\"ProveItLink\" href=\"../__pv_it/theorems/9f44bb20098a1537ae392c215561b96b84f67e380/theorem_expr.ipynb\"><img src=\"data:image/png;base64,iVBORw0KGgoAAAANSUhEUgAAAUUAAAAXBAMAAABua0AmAAAAMFBMVEX///8AAAAAAAAAAAAAAAAA\n",
       "AAAAAAAAAAAAAAAAAAAAAAAAAAAAAAAAAAAAAAAAAAAv3aB7AAAAD3RSTlMAq1RmmUTNIjK7EInv\n",
       "3XZ/CtNrAAAACXBIWXMAAA7EAAAOxAGVKw4bAAAEP0lEQVRIx8WWXYgTVxSAzyaZzGQmuYn6IFhd\n",
       "BvpQKuhOcRHXhzWyVQSpDVr6UmiCCKIPMoIPfVCJvvig4DyIGBWdgi1IxIS2W6nFdfvQ2h+UBRXF\n",
       "xWVWxZ8Vf1jaXVl/77l3fu6EiW5KwBvOzJm559zz5d5z7lyANjaZ/txmtuxiNrjKXDOhve0WaAVX\n",
       "7W/ZxfdwFfr+a3pDyeHzh21BjNWbMsrzXuAt/XJ2lMvJi9GMxAAmK/B5Y1sYv4fm8ygfp7Hgk8lo\n",
       "lw3RjLAZmOzCAay2MPa9hVF9VKLXO1PRLuNNGLuBSdKmj3pbGAcjGWNskdTHdAqVL6YiXaSpJoxp\n",
       "m0mcrkGyPelYimKMX7EZ49i/NLcSU5Eu2lATxqTB5eLNm/+0hTFR5wNvHdgZRCTDNl9rZy7lRcbe\n",
       "h2eh57VR/KPsuyQ7R/Uw48DtMg6l5bisAjj8zvj5aTDiH8aFuwDHbS9idcTLR6eow3zKGLsAKwHO\n",
       "28lC4FLbrE6GGHfoCQsZ4yUuW0HOed3KplDUBT8v38I1K6K3sWV0FvCUAZ9587jtsl8zTsYChzMW\n",
       "TUhaSwSXLhsuhRiHIe0gY2yQS8r2kwjgA19TRisFosGZesDo9apCuQqM6QIL+DmG4BE71geGDpmU\n",
       "CywfvztvgvqbIbjQiX0uMjIzpFKecok5Qsn86Wuf0nQhBJY6AiPvlZfb/q4XqH7Av0D9L4pRfU5Y\n",
       "8BMzu+j3rasguAyDNC4ypi2XURrkAqVeTJzeMzh5r0YxqHbbwe0dGcfywlqzXmWG6ZujSo3FtVZf\n",
       "Qfxp1FrD0Tgyxn6H/dRr9d/CWo9jh8BYc1zG2BAX+IHu5Oo1BT8B5AZBpqvK4ElWlJp8zAgYWa90\n",
       "wPTMmYrGfOyUwxjHoaP0UUTNQHEOomTzUPzG1OyDgQs8wyTu91KnH7I0aIHVjMUFttOSSeRZpJSB\n",
       "VZSw1PI6BpU4Ygk1g73SEZxoZu6q1Njd0HIs4DFYkM/7s3J6hGeDlMMV7JhExie7zQGo5QOXWXCA\n",
       "z3ytxPPRAo3tPbg3oUBHGRODYHGny4kcz5LFlUpFJ0RbKzBi7z6d5xE191S/yoZYwG8f7uksC3s4\n",
       "2yDloxMGKZC5E7OVzoXVkXMTsGzCCVx+Mjhj5gav618XjbG1zrjCWs1MLaVjZSFNA2fpEu5l80ik\n",
       "r+yAEXvVX3TPnKvZ4IB3PfJbGH/bgUVwYR7zw9+ZHcCF16S5f51dhYzdA1Wg22s9ZbN8hLNCzWAv\n",
       "wAPDNecqGruDdEPL58fuBsZ6mLGPHzt4k/oW/kgXT1nj0Kvc12vLh+jbL+/WT6wU6noNq+Aeg5tz\n",
       "FY3dQVJmy4yCSz+vLJERz2ONZzJduFYrlWBrh5Dhx2aUSiNYLTMKLuhBwmcK+g+YCE2yg2tDm94B\n",
       "cycQt8bh/jQPIoGL7+Eq9P09ersXto8L1//F+H6b+T6DvwF6jGKdi2LERAAAAABJRU5ErkJggg==\n",
       "\" style=\"display:inline;vertical-align:middle;\" /></a><br>"
      ],
      "text/plain": [
       "<IPython.core.display.HTML object>"
      ]
     },
     "metadata": {},
     "output_type": "display_data"
    }
   ],
   "source": [
    "from proveit.numbers import Max\n",
    "strict_upper_bound_asym_interval = (\n",
    "        Forall((a, b, c),\n",
    "               Less(Abs(a), Max(Abs(b), Abs(c))),\n",
    "               domain = Real,\n",
    "               conditions=[number_ordering(Less(b, a), Less(a, c))]))"
   ]
  },
  {
   "cell_type": "code",
   "execution_count": 24,
   "metadata": {},
   "outputs": [
    {
     "data": {
      "text/html": [
       "<strong id=\"weak_upper_bound_asym_interval\"><a class=\"ProveItLink\" href=\"proofs/weak_upper_bound_asym_interval/thm_proof.ipynb\">weak_upper_bound_asym_interval</a> (conjecture without proof):<br></strong> <a class=\"ProveItLink\" href=\"../__pv_it/theorems/a24f05f4e8edf152db30d2236b7ab17a49642d3c0/theorem_expr.ipynb\"><img src=\"data:image/png;base64,iVBORw0KGgoAAAANSUhEUgAAAUUAAAAXBAMAAABua0AmAAAAMFBMVEX///8AAAAAAAAAAAAAAAAA\n",
       "AAAAAAAAAAAAAAAAAAAAAAAAAAAAAAAAAAAAAAAAAAAv3aB7AAAAD3RSTlMAq1RmmUTNIjK7EInv\n",
       "3XZ/CtNrAAAACXBIWXMAAA7EAAAOxAGVKw4bAAAESklEQVRIx82WXYgTVxSAz+ZvJjPJTaqC0OoS\n",
       "6ENR0J3iUro+bCPbilDUUEtfCk0QwZ+HMoIPfVBJfSmi4DyU0qjoCNuCxJLgLyhdtw+t/cGyoKK4\n",
       "rMxq8WdFK0u7K2ur3nPu3cxNdtJuIKA3nJmTuefc882995y5AG1sGv/JZrfsYje4akKzob3tJpg5\n",
       "qZ5q2aXmIRX+/BN+Q0nj/9fbghiqNmXUFv6Dt8S/84Ncjl4MZmQWkLyH/ze2hfFbCGIM0eDaYR4L\n",
       "3pwMdtkQzAhbgORzHMBpC2NfEGP4sos340GBX/+YCnYZb8LYDSQxPoSZaQvjYAAjGyZEMB7yKdQ/\n",
       "nAp0iU41YUy4JGG+BrH2bMfCTMbyDfnfGPuLA0emAl3MoSaMMUvIxZGR39rCGKmKgbcO7JwO1H9p\n",
       "utPwFvB1R8be+2eh55mV/6lYc4l1jmbqGQduFXEoMy1kFcD+/42fnQUjvjAu3AU47IqIR9aDz5jP\n",
       "wGLOGLoAKwHOu7Gc71LZYkzWMe7IRBxkDBeEbAUtPd2tb66LuuT0ik+F5qi9i/y6qqiQzFDAYxas\n",
       "lvPYoTImHfAEY96GmPO24tLlwu91jMOQ8JAxNCgk7tY2EcBrNU0fLeWYCWeqPqPsXeT5iJ7yRokc\n",
       "BVyLIWTEbcpas0ktR/vxm/M2GD9Yiguf2CcqI5khlf5ISMhTUubnmvYu3y6MwXJPYaTeHqtmo6h+\n",
       "wF/A+DsgZzzjCaPg/XO6+OR35RSXYYiOq4wJRzJGB4VAoRcH6z2Dk/d0FEuFecvD8o6MY1llrbH3\n",
       "HtUpMhcqN1bX2ngK4UcBtceDg2FkDP0I+zjj+78qaz2OHQpjxZOMoSEhcJxXcuOqjp8Adp0h0xV9\n",
       "8CgFMLVDls+IvXuJi8yFisZi7LhHjOPQUXhjZg33IP8qoqSykP/MNt2vfBd4jJsYPQzBmOJBc5Qz\n",
       "jhDYzlMmkqVIcQuzKOIYxXUEFTngKDmDvaEDGJLMpcqNZUFLU8BDsCSbVb+Fm/AaTeMKdkwi45+7\n",
       "7AGoZH2XufClmPlKQexHB0yqPVibUKCjiBuDYXInipG02CVvlUqlDGPmBwoj9UaRTJhLtZZlQxTw\n",
       "yP0vOoszzhQHJyyWYwsm5uudS8s3vp+AdyY83+WkJRiT10Ven1s2RmudlEKtYseX84ApSPAFTPH9\n",
       "sofmkUU/dn1G0avPs6fNUU351ecatHw2U1zIY3H9d2YHCBE5ae9b55Yh6fZAGXh5rcZd2o9wVskZ\n",
       "7MU5ecUlc6GisRyku3XG7gbGaj1jnzh2iBbtW3qCJ4G+xuNXra/X1b7mTz+6Xe1fqeT1Gk+ekMlc\n",
       "HqO5sRwkbjcwfjeC7dp/MCoup0RmqYx4Hms8k2WUa7lU8ks7zOrwZjgtz6Pigh6s/kzB34BEaVHX\n",
       "vza02R0wdwKTOQ53Z3kQ8V1qHlLhz+/w2516+7Bybca4m+d7yW5UX4r2QlGeA36jb4cbSwkAAAAA\n",
       "AElFTkSuQmCC\n",
       "\" style=\"display:inline;vertical-align:middle;\" /></a><br>"
      ],
      "text/plain": [
       "<IPython.core.display.HTML object>"
      ]
     },
     "metadata": {},
     "output_type": "display_data"
    }
   ],
   "source": [
    "from proveit.numbers import Max\n",
    "weak_upper_bound_asym_interval = (\n",
    "        Forall((a, b, c),\n",
    "               LessEq(Abs(a), Max(Abs(b), Abs(c))),\n",
    "               domain = Real,\n",
    "               conditions = [number_ordering(LessEq(b, a), LessEq(a, c))]))"
   ]
  },
  {
   "cell_type": "markdown",
   "metadata": {},
   "source": [
    "<p style=\"font-size:12pt;font-weight:bold\">Absolute values of complex numbers in polar form</p>"
   ]
  },
  {
   "cell_type": "code",
   "execution_count": 25,
   "metadata": {},
   "outputs": [
    {
     "data": {
      "text/html": [
       "<strong id=\"complex_unit_length\"><a class=\"ProveItLink\" href=\"proofs/complex_unit_length/thm_proof.ipynb\">complex_unit_length</a> (conjecture without proof):<br></strong> <a class=\"ProveItLink\" href=\"../__pv_it/theorems/56b60867ac3d1b611c3683c6d6279a65cadde0d80/theorem_expr.ipynb\"><img src=\"data:image/png;base64,iVBORw0KGgoAAAANSUhEUgAAAJQAAAAbCAMAAACtBFbrAAAANlBMVEX///8AAAAAAAAAAAAAAAAA\n",
       "AAAAAAAAAAAAAAAAAAAAAAAAAAAAAAAAAAAAAAAAAAAAAAAAAABHL6OuAAAAEXRSTlMAq1RmmUTN\n",
       "IjK7EInv3Xb58znApaUAAAAJcEhZcwAADsQAAA7EAZUrDhsAAAIqSURBVEjHzZeJssIgDEVZwg5R\n",
       "/v9nH1DA7harMy9OnVaZ9EBubyghXw6uyX8IWFx5108VIO6M+HFwUTAO/rXGEmnPRryb4CfBphRH\n",
       "tzQ8HWwMSpmbTFaSHSjJW/6YrwahCMd7UIafQkGedNSDUCTkgtNXNfgQk2q32kLZLPZgnKORXITS\n",
       "BSYFZiAQPZ0ae+jcIZT2KVVMB8AlKEtBxgpl84mmH2osCnJavrxIXl1dKWxQUwJZrxwbYtI9ywFU\n",
       "yguMjEMVLfKaRY4tFAaygLLUB5hDCdenOQSFZbQPOWZOfCmoXEBZHxj3dH/sEJQoZ1AeW2MHDcEs\n",
       "bklDsSb7BgrCLOgulC42omj7mver5hPBSaBya2myp3wUWfO5da3iMbJSanqC8iI5sepXGqkx6Uck\n",
       "qa5ObYobept6lulNsa+B5wiUnaAYdpn3fgVQtyCYPoRbPF4pX6CYymHva0pNXSAR1ZbT+xX2OhQo\n",
       "tHAOReJZzxrUlKoWVc2q9Sv7MtJcPmVwIxa6FDr4kkF96+nLbaxCt34l+AwKjNsxe/RLSwieCwz4\n",
       "KZSLbT68jaZVQK1fcWlKsKl8TmzdXqwdHUKU+KFPUeqjpNNKwNrsWr/Sjsw1JYTbKtiLy+swsnV5\n",
       "tQSy7lcvK50sYSv0o13CXSi7MeDer5SpBRUSpSMWYNMatf8JFKcnwC5rSpwKgf0CKozt6q7t0W9C\n",
       "3d2jE+a+DnX7baa9971/Jb7+0gxF5X/hvBPQf+HEXQAAAABJRU5ErkJggg==\n",
       "\" style=\"display:inline;vertical-align:middle;\" /></a><br>"
      ],
      "text/plain": [
       "<IPython.core.display.HTML object>"
      ]
     },
     "metadata": {},
     "output_type": "display_data"
    }
   ],
   "source": [
    "complex_unit_length = Forall(\n",
    "    theta, Equals(Abs(Exp(e, Mult(i, theta))), one),\n",
    "    domain=Real)"
   ]
  },
  {
   "cell_type": "code",
   "execution_count": 26,
   "metadata": {},
   "outputs": [
    {
     "data": {
      "text/html": [
       "<strong id=\"complex_polar_mag_using_abs\"><a class=\"ProveItLink\" href=\"proofs/complex_polar_mag_using_abs/thm_proof.ipynb\">complex_polar_mag_using_abs</a> (conjecture without proof):<br></strong> <a class=\"ProveItLink\" href=\"../__pv_it/theorems/2526f4cca28caa5a52b4291507c3f56da4bee6a20/theorem_expr.ipynb\"><img src=\"data:image/png;base64,iVBORw0KGgoAAAANSUhEUgAAAMUAAAAbCAMAAAD70rudAAAANlBMVEX///8AAAAAAAAAAAAAAAAA\n",
       "AAAAAAAAAAAAAAAAAAAAAAAAAAAAAAAAAAAAAAAAAAAAAAAAAABHL6OuAAAAEXRSTlMAq1RmmUTN\n",
       "IjK7EInv3Xb58znApaUAAAAJcEhZcwAADsQAAA7EAZUrDhsAAAKnSURBVFjDzZiJcqwgEEVZmn1J\n",
       "+P+ffYCAGHQiOFN5pCYVM9L2gV4uIvQXg0r0Pw+4d5s17U8B3s9M/fDysuze7DStNOJ6aeoH2Mlm\n",
       "btoVReOHrFMI9UYIzdEMBafViZCu7lGI02vq30eh6BoFpKUM8tZUw06vXYpHvAcFXYYQ1YUJCp0y\n",
       "3CljcEBPKHwigPYdF+ulycxTSBufF+IH4BGFDnEzJH5DngSG1iIqbYMVjyg2Y1udi/8kyxAy6EWK\n",
       "+HAg6BlFzi1aLPL1rfAO3aPQ2DroKZhpi7dM4fNM69Lo2un0wPxAIY2KLdmMxUJbR6jFF/38FkVn\n",
       "u1KwHAmQC53SD+qsOrhikIrpbka3sMstQv9CAa4b+EjR2a4UMldqgeuvn/WzSpxaip3hgPnYZnib\n",
       "/JWmUcRdV7e6IkD73vJjfN3Zi952pRBbbUnb8DPoDhJHeqxUvMHHpUBGDO65pma+0926uFvMBN6K\n",
       "wDbOY/f7DkVvu7qsNwriT3O7SRyAIqR9/EFU++u9sF2kDowyEJGGfpAXne19L2QpT0WNECDUgzhK\n",
       "HN8WNlN4Db9RgLtoK680z7286GzveSFKqyhNgzJLizhrEkfv3TBFlFB+iGt8zG7kLuodWH0m66b2\n",
       "Yrd9rFFJBm3EUtAYWSV8qsRhtKMAZU5avLcHV0RgF+3CWcq88w8oOtuVgtaZuJ4g8f6EKnEoV3mQ\n",
       "LaIMG3s8O/Zu5q4FlwvcP+kXne3Wu4fyavdVrBJHGtTnBWNmzE47qaMeRNSFjjp0iE0kZ9HcJM7e\n",
       "D7dKO2b3tKZ9J4UeumgRuNKSTuIIVeKNcc8N0gBDWZb27ygovj5GH5LSpLxgL5UU+TMKd3ksYrOi\n",
       "avLcvUTh5dn1i3P3/NmVmI9TfP4dSH0f9eCd39pUyFHzD2qlF7wifFUaAAAAAElFTkSuQmCC\n",
       "\" style=\"display:inline;vertical-align:middle;\" /></a><br>"
      ],
      "text/plain": [
       "<IPython.core.display.HTML object>"
      ]
     },
     "metadata": {},
     "output_type": "display_data"
    }
   ],
   "source": [
    "complex_polar_mag_using_abs = Forall(\n",
    "    (r, theta), Equals(Abs(Mult(r, Exp(e, Mult(i, theta)))), Abs(r)),\n",
    "    domain=Real)"
   ]
  },
  {
   "cell_type": "markdown",
   "metadata": {},
   "source": [
    "<p style=\"font-size:12pt;font-weight:bold\">Triangle Inequality</p>"
   ]
  },
  {
   "cell_type": "code",
   "execution_count": 27,
   "metadata": {},
   "outputs": [
    {
     "data": {
      "text/html": [
       "<strong id=\"triangle_inequality\"><a class=\"ProveItLink\" href=\"proofs/triangle_inequality/thm_proof.ipynb\">triangle_inequality</a> (conjecture without proof):<br></strong> <a class=\"ProveItLink\" href=\"../__pv_it/theorems/3b8663d8ac9e36640107134f29ec51a0e03184ac0/theorem_expr.ipynb\"><img src=\"data:image/png;base64,iVBORw0KGgoAAAANSUhEUgAAAPkAAAAWBAMAAADwcyf0AAAAMFBMVEX///8AAAAAAAAAAAAAAAAA\n",
       "AAAAAAAAAAAAAAAAAAAAAAAAAAAAAAAAAAAAAAAAAAAv3aB7AAAAD3RSTlMAq1RmmUTNIjK7EInv\n",
       "3XZ/CtNrAAAACXBIWXMAAA7EAAAOxAGVKw4bAAADIklEQVRIx72WTWgTQRTHX3bTJLvZfODBS6As\n",
       "CPYgyB6KYIQaiIIgaKAXD2KjHrSetuBRy3oQBBUjFDQqsqIIJWjiF3pRAiIIIhQtWNTI1kt6kp4U\n",
       "ehBn5u3sZrIfxosTHi878/7z252ZNzMAIxST/CJKOqwqHdGY9pwJEN2nWPI6PItqy9YCVd+9yuFG\n",
       "95m4I8RRK9LnLbH0bRBKV28thdGlTgyda/IGMNtLq0/EwdV6OB1SFQEgYS/3Ie7bueYUMDtHJ6IR\n",
       "R08aQ/QxA31BHwTIyzbz1SCdC8gz10wCsxTRZPU4ugZDdMlBP2MP0PNfEA7dIJ0LyDPXaDYzmbxX\n",
       "Knbat0bRXw4AWt94Yz2WzjUpA+19r/culr4f6elS3xE7O/pjEwfc++jNU4d1z6JD6FyTLaLtA7gR\n",
       "Sz+O9MOmsiF0pv602yYC7hzzl6LBKCw6SPc0ch1tDtJFLs3Mejm+MD7v/v3A6OprSC4JnUkboDkI\n",
       "SPj0HFtWGB2kexqpi6bYA4lRoq+w2qypV03pplv3htGT65Dr0JHt9b6SySIvnKxDoeNqT3sjr9Fh\n",
       "rWE0a/QFtJ5rMutokjOw6N4S22ORuIcAuwS61oC2+Cmk+xk9sOqQjtHBb/c0Y100qE9R9dRz+tm/\n",
       "V226BcHd8/4ujSPfdmC3uOZJ6h60AxmHI4/RQbqnkZbQ4DHZc9RPmV+0i8/5yiKNm5jwx+M20nXY\n",
       "LJkC3SKzG9htFIfRWXQInWvkBhqcoXNYydBhUAy5Pk3jymWf/ojRFUdaTgqdJQylIuy0JxmBplIN\n",
       "o4N0T0MTkxokLDpbebosNCtZ3NFsNvULh3z6ZVzz4y/m1sSMK1VDTpkMO0YwOiTjuCbnGittUymT\n",
       "gSuApl9kcWTVqTyHrIi9LvyEXYnd67g7C2i4Us0r03YLcvZOkoH03Hlqwis+oZWIUyacPhl7ynBX\n",
       "xfPIba9ufwKX9MwBB9LXWQbNLli88Rr87XbxoEfLCqtRzBFuF/RUHT5Z8ahrNZuiahH+5W6jNkag\n",
       "k1dkNjiidsTdzYG1yFuXFaia9yqHG91n4vrE9cVGGf53+QPgmgUHAeDiggAAAABJRU5ErkJggg==\n",
       "\" style=\"display:inline;vertical-align:middle;\" /></a><br>"
      ],
      "text/plain": [
       "<IPython.core.display.HTML object>"
      ]
     },
     "metadata": {},
     "output_type": "display_data"
    }
   ],
   "source": [
    "triangle_inequality = Forall(\n",
    "    (a, b),\n",
    "    LessEq(Abs(Add(a,b)), Add(Abs(a), Abs(b))),\n",
    "    domain=Complex)"
   ]
  },
  {
   "cell_type": "markdown",
   "metadata": {},
   "source": [
    "**Prove the generalized triangle inequality using induction on the triangle inequality**"
   ]
  },
  {
   "cell_type": "code",
   "execution_count": 28,
   "metadata": {},
   "outputs": [
    {
     "data": {
      "text/html": [
       "<strong id=\"generalized_triangle_inequality\"><a class=\"ProveItLink\" href=\"proofs/generalized_triangle_inequality/thm_proof.ipynb\">generalized_triangle_inequality</a> (conjecture without proof):<br></strong> <a class=\"ProveItLink\" href=\"../__pv_it/theorems/2e6cfde1ea02c61146457bfafca3d8557e1c2d740/theorem_expr.ipynb\"><img src=\"data:image/png;base64,iVBORw0KGgoAAAANSUhEUgAAAoMAAAAXBAMAAACCKFjBAAAAMFBMVEX///8AAAAAAAAAAAAAAAAA\n",
       "AAAAAAAAAAAAAAAAAAAAAAAAAAAAAAAAAAAAAAAAAAAv3aB7AAAAD3RSTlMAq1RmmUTNIjK7EInv\n",
       "3XZ/CtNrAAAACXBIWXMAAA7EAAAOxAGVKw4bAAAFqElEQVRYw+2ZX2gcRRzHf7d7d7u3d7lEfLAW\n",
       "KRG1pEjiUVsVET1JYoOactg3W+qhD/55cSsFidV4gkLRtgQhaPIgqwliDNprNAFblLMgCv47NUjQ\n",
       "nmy0mAQ15EUtisT5zez/mb279UxedMLs/ZiZ/f2++9mZnT8BaJiytRK0nnTytwFJERUpgch17tCb\n",
       "lh/wobPC5uCkC//Co2Y7YXYjEArEfR8onK13R7OiZoM+DpKfg8zswKIr6quM4Y+Ua+VRr4bNQiiV\n",
       "NwVhluDATMx+LLq/vso4Rk22MhC14sYjlNhTvAqbghAeApqJ+RQO7ZH6KlXsqkOtPGk8J1K7T9w4\n",
       "Edbf99VDKM8b9Lc3hJLttW5lqBYe4S6gmZhJEjjd2eBFI/GZVhBmhC+8R9xYMkO89NRBmP2WEYRK\n",
       "CCXba93KUC08woxBMzFlgjnZaKxcS36KrSDcvtEIp7+zby5uEsJkjmY0P63VPm6EMFOrnSu3gvAO\n",
       "qkJb3frcjADJm4uvnemMgNDT3gIy+ZXzySjTQk8THqFHRwSEgajpDprRHAAYb4QwXoKU0QrC+6iK\n",
       "OCyagwIk+ey2eDUCQk97hvDle502STZLeprwCD06IiAMRJWLNKN5CJQOwb1lL0LS4lBLE+eXVMX1\n",
       "cItxMY9E1uU/YrnmEXrbM4QxF2FbJxZ6m/AIPTqaRxiMKlVoRjNl+L4Oyvws3ESY5n0Df/yfLElW\n",
       "bl2ylX1AVZTgNlzgXEeLBmu1T2q1L4ilQpy8Ue3MRdjR4+SbQb4t/FsNtvcN5MPOQM4U6BqCNZko\n",
       "WpQ8XskdTMf0qa1cZWAd4VbMclHVNZopTdOdTU5cOgqXp424EUTYE3E2QUdTl8COsg8hwGdY9ws3\n",
       "PWQI6jjYw6TxdJIxQ6cThpA1UVerIdMJ6sjDYLTpxB81UaGZuive7FAfwJ2KmU9DEGFSNiMtA9HR\n",
       "aRPksm8gQ+J3eB2gm0Nyj64Z7QXlQrMIsX3IooYNZKuJFIKQ6vgVnixFQuiPir5JpgJmyKpP7j1x\n",
       "HuAHrO66ajgNb/fN9xU8CNPbyc3Z88N7bMGu6dkHO4XoSLuh4O7OX0IV2misgt/YIMKpwmWQBtlo\n",
       "FqHVnkrmltYpEwtZkxCElo4boyEMRpVHaKYCHidjfeJALqNrdJPSlX5lP9cLlfeJsRQbsT/bHtNN\n",
       "TiF1JD3i2RGeQhXShclKopNHeM2zd8JdGMg/kLXf7MvJoqA9lezb4D1A1eJao2C5FCO0dcC7XCVG\n",
       "8oV0EQaj4uopbu3HYyWAx36EdoNtZrogv8IhhC0k51JmCYbou0Yz0dPvR0jrnV2RPOFZBh2nvXCv\n",
       "eeVO4BFOrkq9+ETHDb/sefvSlhe0p5L5Ywa1iootlyG90NKhfsNV0kjekC7CYNQ2ll0B2+AAyA+O\n",
       "jT1PEE4neYQ0teugdhu2mYGTAfntVr+jjtRnPCdpbSXPAr9bvNtQxqPtTlCy4KRmwVMY9i1kCXtD\n",
       "5N2JE/UJoNl19xH0qWqZ9cJET3BdaKVj5NvWZtimQi7+RArl/p1lYI7IdAJ2R5TzIoT+Y4PD8Gik\n",
       "YwaULEC4KwQhd8yg5BU9+jGDE7U3cKShrMFCF9ul7AZYFG5Dlcoc6ZsEoVZmJowSE6btCy2UVqBq\n",
       "bXeO7IG083JfECH0d8IXj94e6byaSmbi3qhhWqDlKV2MkOsRQ0efNiIfdjlR8XQLs+Mu0QE/5WCI\n",
       "DDf1ax1i4ph7968aiFA9y0yy7SPmMV39EC9W4RaFfIjREWhzYwOOkylXxZGH3xMe5qyvr0VByCTz\n",
       "vVAbcV/63J9mOMLP19ejnxc6UcmbojkgQHtnbFSwR/b9ewAHssTM01nHBMeqZncbAkeKCcsbceSa\n",
       "5f91MRwoXK53R7OiloM+lnAJQqxzkf8tov48A3A329Cv/2WbmJildUhvwf+pYcqJzNx/lcbfaEIm\n",
       "NjmsJ8MAAAAASUVORK5CYII=\n",
       "\" style=\"display:inline;vertical-align:middle;\" /></a><br>"
      ],
      "text/plain": [
       "<IPython.core.display.HTML object>"
      ]
     },
     "metadata": {},
     "output_type": "display_data"
    }
   ],
   "source": [
    "generalized_triangle_inequality = Forall(\n",
    "    n, Forall(x_1_to_n, LessEq(Abs(Add(x_1_to_n)), \n",
    "                               Add(ExprRange(k, Abs(IndexedVar(x, k)), one, n))),\n",
    "              domain=Complex),\n",
    "    domain=NaturalPos)"
   ]
  },
  {
   "cell_type": "markdown",
   "metadata": {},
   "source": [
    "<p style=\"font-size:12pt;font-weight:bold\">Multiplicativity (and Preservation of Division)</p>"
   ]
  },
  {
   "cell_type": "code",
   "execution_count": 29,
   "metadata": {},
   "outputs": [
    {
     "data": {
      "text/html": [
       "<strong id=\"abs_prod\"><a class=\"ProveItLink\" href=\"proofs/abs_prod/thm_proof.ipynb\">abs_prod</a> (conjecture without proof):<br></strong> <a class=\"ProveItLink\" href=\"../__pv_it/theorems/6771b2d7e2f8638ad9b4ef127038acde122ed7f60/theorem_expr.ipynb\"><img src=\"data:image/png;base64,iVBORw0KGgoAAAANSUhEUgAAAkQAAAAXBAMAAAAYS00ZAAAAMFBMVEX///8AAAAAAAAAAAAAAAAA\n",
       "AAAAAAAAAAAAAAAAAAAAAAAAAAAAAAAAAAAAAAAAAAAv3aB7AAAAD3RSTlMAq1RmmUTNIjK7EInv\n",
       "3XZ/CtNrAAAACXBIWXMAAA7EAAAOxAGVKw4bAAAFKUlEQVRYw+1YXWgcVRQ++5eZzGzSiA/SImVF\n",
       "hUibukhaq4iOJNqgRtb6pgUXfBB96SiixJZ2LQpFawxC0PRBRlPEGmi21S1oaVkQabGoK6wSAoGJ\n",
       "jdoqWfKiKfVhvfee+bkzc3fviLsv4lnOcDj3nG/O/ebec2cWQCqrC/DvRSE/6AiOFNoUWOLM1qMm\n",
       "cyhxZ1/pxNR+Ar3QCRwBShi6Iq68/f1DoxXI2MCUmAPUc3N7iuQxMkmWu0ZRBLozFMElQK3AA9Tz\n",
       "THuK5DEy+Qi6RlEEukMU9VioFXiV7rmp9hTJY2Qy0j2KRrpEUcpArTCi9Fx7iuQxMql2j6JqlyiC\n",
       "r1ErkMqT9SRp1/IYWSsqdo2iKHSnKHoalZjfLC1dlJ1o0hiJpMusCK2x6c1TgYGoRyQnlj8+k2sx\n",
       "UQeaCwlQ5PulFPG1UIyTqMQcAzgqo0gaI5GePCsiDcv2eHCCEY9IjP7N6RpP0fgSle85aC4kQJHv\n",
       "l1LE10IxdqAS83lQBgQ5Zf5GLWJiS1+OFXEn3GddHxiIegSSMlPXEvkWqwih+RCeIs4vpYivhWJs\n",
       "RSVmrxVIVuoVuIfwYfAUhWJiypX7f7XRyhZYESV4kG6uHWyL/Umv6Jk7ucnzBIX5VEgXW3YUhHZC\n",
       "ZovO9BCr4qRqZ66zMFN0j/kicNX5FL2NSsyk7XfiyY3TcJNupa0QRXxMLKFAx2+A28oBigC+pWOr\n",
       "zFfHIeoxYJzzBAR9WVtCEYaojZq7iuruRKk/DWSzYabgHn0GcNX5FO1BpWbxXq8zjNG3aNvQIUQR\n",
       "FxOvPVOgL2xIlQMbDTLr8AnAEBfJPH/AwVJbvKdMzWrRi1xoFpKsRU406t9QUK7GONGwOi9zCJWa\n",
       "p54j231kcgXft2Hw1gM6fDZaHy1w4TQGGrtW3A9DzvTFd1IgbWfB+5DstWkR2nSiSnucT5Hjubs9\n",
       "RccLN4LulBiZKEJjSJQiJ9WKQZFTy/DOhoEYd6FScz/pPLN78llTYy/Qg/qHT0ZWEY3pNzf2OOcq\n",
       "Z/riOxlQ8gWfRH2AFpG8eqyayfEUuR44G+gMrGPMe/3n9jcegd1YYnSiCI0hUYocP+g1LtOHn+d6\n",
       "HNaibf8SziPGw6jUTJAn+MovsMHKsNY/CMaVCEU0JgXvq6Cww5+Zu1eC5TIn7h4KlJq1vCG1xp7T\n",
       "o/Ytd0BgFTkedTHYGequweRYIzmSwxKjFCE0hkQpcvzwViDTg/fv4VannCjCNcT4AdWD20w6U+rZ\n",
       "mZl3CEVzPRGKUNYBDi16ZlVbC5W77pJFgdTXuc2zwG+Rocgyn7BiNDhaomC78NCCXoTH9NHYb9cJ\n",
       "O1NlmUoN1QO5AKOqWsZVlNkWfi9yHlhVAVj0TFOthh4ocQ4/voUYLJm0a3CnPtyWIsVQTDlFtETB\n",
       "RIdjUPQivByXomwpbZRoZjqP6oIoa7AwiG/Q2wGWhX+p7deLaUbRnGP2Foipld0Lc26b6gPnVXzf\n",
       "LtDdw7rXbEfRxOHX5MsIS4xOlIduQZHy3uGH4lJ0EPoOMYomANUFyQzA73mYIFtD/dGEhJCi9M/n\n",
       "fmMUHcmhOUZN9TwcMekFnYnSSxSa7jHt9MyY13Sm/CL27T0Xqu+7ZlO+iLDE6EQ5aOX0X7aIomyz\n",
       "uRaXoseg/1OW+S6gBv901T6fmY5mnw38e0s3mvNdaNmuCZ6zDy49IQI6AP2lTnzpC1DC0JcFljiz\n",
       "9ehlcj4D09Wv/mmJkxdzkMFdsbdZc036kNH6ALbk4X9JiczUf3a6fwPOfeBgE78c/gAAAABJRU5E\n",
       "rkJggg==\n",
       "\" style=\"display:inline;vertical-align:middle;\" /></a><br>"
      ],
      "text/plain": [
       "<IPython.core.display.HTML object>"
      ]
     },
     "metadata": {},
     "output_type": "display_data"
    }
   ],
   "source": [
    "abs_prod = Forall(\n",
    "    n,\n",
    "    Forall(x_1_to_n,\n",
    "           Equals(Abs(Mult(x_1_to_n)), \n",
    "                  Mult(ExprRange(k, Abs(IndexedVar(x, k)), one, n))),\n",
    "           domain = Complex),\n",
    "    domain = NaturalPos)"
   ]
  },
  {
   "cell_type": "code",
   "execution_count": 30,
   "metadata": {},
   "outputs": [
    {
     "data": {
      "text/html": [
       "<strong id=\"abs_frac\"><a class=\"ProveItLink\" href=\"proofs/abs_frac/thm_proof.ipynb\">abs_frac</a> (conjecture without proof):<br></strong> <a class=\"ProveItLink\" href=\"../__pv_it/theorems/cf428abf0b643005dbc8328f04e5a0f9276cd25a0/theorem_expr.ipynb\"><img src=\"data:image/png;base64,iVBORw0KGgoAAAANSUhEUgAAAOEAAAAyCAMAAACdx0zJAAAAQlBMVEX///8AAAAAAAAAAAAAAAAA\n",
       "AAAAAAAAAAAAAAAAAAAAAAAAAAAAAAAAAAAAAAAAAAAAAAAAAAAAAAAAAAAAAAAAAACGKEuzAAAA\n",
       "FXRSTlMAq1RmmUTNIjK7EInv3Xbt5cmv+fNf8ZbKAAAACXBIWXMAAA7EAAAOxAGVKw4bAAAERElE\n",
       "QVRo3s2aibKbIBRAWWWn7Wv5/18toCKbicZEwkw70XB9ntyVCwAMHYJffADrX0shwVcMiK8+QdH+\n",
       "NTdfgQgV+BQhQOYLAPEEPkcIFBwOyDT7JCEweDShsesn0p9ArhEiPdgVsU4fdX+GvkYIJjKWUKsW\n",
       "hUFlmT1PuMnlhNSxkYDWyYaQBs8U6YvDhJlcodNpaLAxsDFHqUNsIOasDnO5ghC5gZ7IHW8IiYvo\n",
       "6ixhLlcQSmcHJnvdhhQt4lvRs4S5XBl5xMC0r2FDOP/i2J2NpYVcSYjHxRrucIcQBeVOALGThJlc\n",
       "SSjdsKxvix93QRE2lJMkZfqjVprLVflRD4umQndSu4RWcQYtPxtLM7mKMDjiBolu1GgMDp+uacKl\n",
       "906Sbk33eaV05B5C7CMsX5XIxJ2BpkhUP/1ZP9cJ4x+alryv0H2EyKF7dBiNBS/uN90YaLDjbyK0\n",
       "/PG1CyaqTRha3UhYJosrhM+GC75HIvatzSlVlsRPCYnJxqkUp6e4uFr/e2U8WGXu/2bkJOGFJYxZ\n",
       "1Vd7bAxEUxterSAwW6R64d358yOVsq39Q9dBcds4Suj6IyeMD0F2J86kbh+3UIhQPQjoHQgJ1SUs\n",
       "u4OzVWD/bCoOEX5Gh3oJo7i7kNJLYCJk+aBknId3CHUeyCBLt5oKn9zmh7OV+lS4JkWpsFVsS5cW\n",
       "+i/sWs5JzGdjZn0rXebPHYn4K7CIolETae6KpXo2TraW4NIw/57rX7dGAku8aaZEzVBT2WWEy3wi\n",
       "wvjl/2H/sEDYdC7t2/JhtXHB9tahMJmj10R6sH/D0Jem6f2wxPIB4TJ/ZsCLWqMO7ccyfhUim4Dp\n",
       "qliv/QQLc7ci0L90VIpAgHPKHxAu86MxLLdnK3WoqdqKN/m7eoHQpnP7+fIpydWE0qnqOnTlsFwU\n",
       "5WYX4tukJdLkmS4jXOYHK/39R0Qr3Yk05RIf/Nv6f6R7+6kOV7makNe9KB3ckHpTlIHKuxUWRbnD\n",
       "FAkvq/r5cJ0PtgULsCFbtNFvb/VUaPuEla5yNSGqzYcSjKzCwRn9N5xYO6+rkm1K5U2W8L6VrvOL\n",
       "EtBnfNIWN2bqEtIiixwnTHI1oX3QisrZpQo2R/v9iJ7s0zYl1F1CZV6LNEmuJqxKi0KbRwvxHuHz\n",
       "hRjuK2uCPqOi84RJribU+8v6wz2bziMQPbDI7zmcdL7ykMmwDhNuchUhe0fT+8XmTqcjvO4zpOx5\n",
       "mHCTa9o043afSKerD0g075TCDhNuchUhHNjVp3nOX1Hi5gpNBnyYcJOrCEfuzABDWsLIRk7tH0am\n",
       "Ta7ethi5z407O6ShWp03A08SJrmS0Iw9jtHZ5Q4HiAQ5nw83uYJw8C53rsS1RpJQkSxN8aOEm1xB\n",
       "KEafqJne0r/cXz1RN/rgF3/HiaEHhAaB0cOKTxJ+wamvt5zc2yWkE/iGMV03pHKjIl3x6UsOmF4+\n",
       "Qbsz5Ab4H+XIK6il9bN1AAAAAElFTkSuQmCC\n",
       "\" style=\"display:inline;vertical-align:middle;\" /></a><br>"
      ],
      "text/plain": [
       "<IPython.core.display.HTML object>"
      ]
     },
     "metadata": {},
     "output_type": "display_data"
    }
   ],
   "source": [
    "abs_frac = Forall(\n",
    "    (a, b),\n",
    "    Equals(Abs(frac(a, b)), frac(Abs(a), Abs(b))),\n",
    "    domain = Complex,\n",
    "    conditions=[NotEquals(b, zero)])"
   ]
  },
  {
   "cell_type": "markdown",
   "metadata": {},
   "source": [
    "<p style=\"font-size:12pt;font-weight:bold\">See the proveit.trigonometry theory package for facts related to absolute values of complex numbers in polar form.</p>"
   ]
  },
  {
   "cell_type": "code",
   "execution_count": 31,
   "metadata": {},
   "outputs": [
    {
     "name": "stdout",
     "output_type": "stream",
     "text": [
      "These theorems may now be imported from the theory package: proveit.numbers.absolute_value\n"
     ]
    }
   ],
   "source": [
    "%end theorems"
   ]
  },
  {
   "cell_type": "code",
   "execution_count": null,
   "metadata": {},
   "outputs": [],
   "source": []
  }
 ],
 "metadata": {
  "kernelspec": {
   "display_name": "Python 3",
   "language": "python",
   "name": "python3"
  }
 },
 "nbformat": 4,
 "nbformat_minor": 0
}