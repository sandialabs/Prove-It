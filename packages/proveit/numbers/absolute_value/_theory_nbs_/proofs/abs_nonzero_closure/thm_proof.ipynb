{
 "cells": [
  {
   "cell_type": "markdown",
   "metadata": {},
   "source": [
    "Proof of <a class=\"ProveItLink\" href=\"../../../../../_theory_nbs_/theory.ipynb\">proveit</a>.<a class=\"ProveItLink\" href=\"../../../../_theory_nbs_/theory.ipynb\">numbers</a>.<a class=\"ProveItLink\" href=\"../../theory.ipynb\">absolute_value</a>.<a class=\"ProveItLink\" href=\"../../theorems.ipynb#abs_nonzero_closure\">abs_nonzero_closure</a> theorem\n",
    "========"
   ]
  },
  {
   "cell_type": "code",
   "execution_count": 1,
   "metadata": {},
   "outputs": [],
   "source": [
    "import proveit\n",
    "theory = proveit.Theory() # the theorem's theory"
   ]
  },
  {
   "cell_type": "code",
   "execution_count": 2,
   "metadata": {},
   "outputs": [
    {
     "data": {
      "text/html": [
       "With these <a href=\"allowed_presumptions.txt\">allowed</a>/<a href=\"disallowed_presumptions.txt\">disallowed</a> theorem/theory presumptions (e.g., to avoid circular dependencies), we begin our proof of<br><strong id=\"abs_nonzero_closure\">abs_nonzero_closure:</strong> <a class=\"ProveItLink\" href=\"../../../__pv_it/theorems/e2f72d79765d2822d85519c954bcb277c2f5ed420/expr.ipynb\"><img src=\"data:image/png;base64,iVBORw0KGgoAAAANSUhEUgAAAKUAAAAZCAMAAABn/R7mAAAAPFBMVEX///8AAAAAAAAAAAAAAAAA\n",
       "AAAAAAAAAAAAAAAAAAAAAAAAAAAAAAAAAAAAAAAAAAAAAAAAAAAAAAAAAAAo1xBWAAAAE3RSTlMA\n",
       "q1RmmUTNIjK7EInv3Xah18O1XjQ+CwAAAAlwSFlzAAAOxAAADsQBlSsOGwAAAo5JREFUWMO1l+ua\n",
       "oyAMhjmEQ8Jhdtf7v9cloKNFtE51+GFb+wgvX74kKMSzQ5tHpoHdlyeHemhWXL44fB6SbJu6u+0+\n",
       "pxQ6P06Jun6ELuzhzAbaRsTJpjg/3FGKROUi12jpu5Auip9TMpIrFEZqpAFlZkL4nsG6254Pn1KG\n",
       "+uErEJYR+dJUo6mwe/mcTydzhxKcsAMthWVaO8sc1F1IP9ElyoypDDugxBEl8A8929HeljIncYHS\n",
       "2ExDLSWRHFHm6vbIO0sx3KaU9oXKyZBd7imdpXHEPao1M7aUpoYIfL1P9+sQbilNLGtiXWFLOcjR\n",
       "QhltmtJGY3gxkq97Xi7XKjeL7rLKu+Ws3FBSZCdB6rW04+zRmo4s51pSsoxnaZgR5By7ZZsctt2s\n",
       "CTaUMNVboaP0zV9l4GvEkfRBvaZGqfJoiz5LRBYFZVFNYdgcJ4gNHelMy4jrAhtKwoNK5OHIdK5G\n",
       "nBH33RKaXcsSVP/TQQQA+PoDpQ84DmTyJ5Q08VN62uV4OqqX4A8qtp/cXCqXxKOgc+CbeZGftDeb\n",
       "I0MLatOyN6bELaVqWa/cK2XOB5RF5TyMuZnLsIuzCpRcQ18Do5xaaIqWf/8Ba1kNsjNJjpuIY6FR\n",
       "xanQ10urBpTQCjeOskMv00q/hJn9zfzfu9KkV7vQkh8lx7U72nTLcZmDdzL7npIkGtqdiZDLFtpp\n",
       "0AChLz/RzGcQbbEOJbw3q//gvKjGa33cBHzpkG+G1X3O8440kfBrJ5qzR9D714UPz0Rv6vPUSxPZ\n",
       "loZDvFYFF4BjGy6cmX38BUq96zcGtMpB13OcX5tNCT/4S51cPU+Z3GkjZF/+cPq5y+VuS9nfkPL5\n",
       "9x6hwsMT/sY75GPv411V+Q+4+RWsj0G/NAAAAABJRU5ErkJggg==\n",
       "\" style=\"display:inline;vertical-align:middle;\" /></a><br>(see <a class=\"ProveItLink\" href=\"../../../__pv_it/theorems/34ae69aa2a9324a2659cdc151adf51d44b48ea930/dependencies.ipynb\">dependencies</a>)<br>"
      ],
      "text/plain": [
       "<IPython.core.display.HTML object>"
      ]
     },
     "metadata": {},
     "output_type": "display_data"
    },
    {
     "name": "stdout",
     "output_type": "stream",
     "text": [
      "abs_nonzero_closure may now be readily provable (assuming required theorems are usable).  Simply execute \"%qed\".\n"
     ]
    }
   ],
   "source": [
    "%proving abs_nonzero_closure"
   ]
  },
  {
   "cell_type": "code",
   "execution_count": null,
   "metadata": {},
   "outputs": [],
   "source": []
  }
 ],
 "metadata": {
  "kernelspec": {
   "display_name": "Python 3",
   "language": "python",
   "name": "python3"
  }
 },
 "nbformat": 4,
 "nbformat_minor": 0
}