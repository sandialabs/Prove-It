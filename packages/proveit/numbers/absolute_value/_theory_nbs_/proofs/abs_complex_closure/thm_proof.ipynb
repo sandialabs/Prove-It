{
 "cells": [
  {
   "cell_type": "markdown",
   "metadata": {},
   "source": [
    "Proof of <a class=\"ProveItLink\" href=\"../../../../../_theory_nbs_/theory.ipynb\">proveit</a>.<a class=\"ProveItLink\" href=\"../../../../_theory_nbs_/theory.ipynb\">numbers</a>.<a class=\"ProveItLink\" href=\"../../theory.ipynb\">absolute_value</a>.<a class=\"ProveItLink\" href=\"../../theorems.ipynb#abs_complex_closure\">abs_complex_closure</a> theorem\n",
    "========"
   ]
  },
  {
   "cell_type": "code",
   "execution_count": 1,
   "metadata": {},
   "outputs": [],
   "source": [
    "import proveit\n",
    "theory = proveit.Theory() # the theorem's theory"
   ]
  },
  {
   "cell_type": "code",
   "execution_count": 2,
   "metadata": {},
   "outputs": [
    {
     "data": {
      "text/html": [
       "With these <a href=\"allowed_presumptions.txt\">allowed</a>/<a href=\"disallowed_presumptions.txt\">disallowed</a> theorem/theory presumptions (e.g., to avoid circular dependencies), we begin our proof of<br><strong id=\"abs_complex_closure\">abs_complex_closure:</strong> <a class=\"ProveItLink\" href=\"../../../__pv_it/theorems/7766d7e541c55b09fa681415edf67c262db36e2c0/expr.ipynb\"><img src=\"data:image/png;base64,iVBORw0KGgoAAAANSUhEUgAAAJsAAAAaBAMAAABSozPCAAAAMFBMVEX///8AAAAAAAAAAAAAAAAA\n",
       "AAAAAAAAAAAAAAAAAAAAAAAAAAAAAAAAAAAAAAAAAAAv3aB7AAAAD3RSTlMAq1RmmUTNIjK7EInv\n",
       "3XZ/CtNrAAAACXBIWXMAAA7EAAAOxAGVKw4bAAACoElEQVRIx6WVS2gTURSG/+Y1jzx9IOiiBFxk\n",
       "pRSKLqKUFBUfII4URHFhtAuxuJjupY2gVFBI7EOdiHWCIEhFg1XETcjKKuJOcKHRiBsfVaSgYhbi\n",
       "mcydZGYy00nxwNzcuXPz3XvOf+49wP8ZP9P8CVfK3cze4jljblJrB3AEAc+5voz3irEpap4hLnMF\n",
       "r6m3Ac7oy26T/LPgGogkaYseRguHJdZ/ZGWcVn69nWL9Bb6BaB+iKpDQBjY607iqKw4ClwiuKWo9\n",
       "8YlEuEgdMWLt0kZOOuMC5eVwZRTOamsO5jRn40mIDaA54hLEuLQ8bneI/rsqx6QAhoEQORxOOuPy\n",
       "aifuc62WbeEEiGubEn3HQWr3Uhz7COmixDd04A59Me1uQwmiytJ4H7WL9Lys1V644NYx3GhljOG4\n",
       "EZOz/KQt5seIvQcouuAUHRdcwE1Vx4XkNu7p+3eqLTgUxlFwCUuWT/eOse5xHXe3D/vZ7kImKebT\n",
       "FEReIbvKxsbJE0FthYf/oEjiZdl3nb2/0nEHgDcMd6lGVmDOFvtt3twnkK/eWnInbTZ8D9hm3d1z\n",
       "iD8Z7o45Uc4JNmfHtZzJamdtbuAxYiQybp1vn1MdJ/6F/wfDRc24wIQtX/NaZB+QWuJr/re+dCrV\n",
       "/rxexy2hJ5vScbG6CScWPnYqizOkRCDDVzGkDaXT7c+LurOz2JTJsLw70cZl0C9IFtx2rekhjyMS\n",
       "nd+tJFLywmHraoQrfZ3ozTFcaUY1bpQ/snBlyYIbbGkiC2n1YjO/SQqRjUYczuzRG/ohc7JhoxOR\n",
       "80NqUyjuoYxKFzeKg2k3im7BHZvnwV1rXv6npnNGHlZXhPMnbGVEUayxXb0iXFT2rhUxY6ufPHGe\n",
       "tcLXVfU0SoFnJeuizppKASn5D7jWsZC5VBTcAAAAAElFTkSuQmCC\n",
       "\" style=\"display:inline;vertical-align:middle;\" /></a><br>(see <a class=\"ProveItLink\" href=\"../../../__pv_it/theorems/8e8cb0f0e043cb9cdc42f593900dd5391ba2b7070/dependencies.ipynb\">dependencies</a>)<br>"
      ],
      "text/plain": [
       "<IPython.core.display.HTML object>"
      ]
     },
     "metadata": {},
     "output_type": "display_data"
    },
    {
     "name": "stdout",
     "output_type": "stream",
     "text": [
      "abs_complex_closure may now be readily provable (assuming required theorems are usable).  Simply execute \"%qed\".\n"
     ]
    }
   ],
   "source": [
    "%proving abs_complex_closure"
   ]
  },
  {
   "cell_type": "code",
   "execution_count": null,
   "metadata": {},
   "outputs": [],
   "source": []
  }
 ],
 "metadata": {
  "kernelspec": {
   "display_name": "Python 3",
   "language": "python",
   "name": "python3"
  }
 },
 "nbformat": 4,
 "nbformat_minor": 0
}