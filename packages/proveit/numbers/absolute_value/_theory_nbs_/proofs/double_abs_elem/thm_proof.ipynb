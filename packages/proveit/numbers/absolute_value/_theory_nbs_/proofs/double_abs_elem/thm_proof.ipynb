{
 "cells": [
  {
   "cell_type": "markdown",
   "metadata": {},
   "source": [
    "Proof of <a class=\"ProveItLink\" href=\"../../../../../_theory_nbs_/theory.ipynb\">proveit</a>.<a class=\"ProveItLink\" href=\"../../../../_theory_nbs_/theory.ipynb\">numbers</a>.<a class=\"ProveItLink\" href=\"../../theory.ipynb\">absolute_value</a>.<a class=\"ProveItLink\" href=\"../../theorems.ipynb#double_abs_elem\">double_abs_elem</a> theorem\n",
    "========"
   ]
  },
  {
   "cell_type": "code",
   "execution_count": 1,
   "metadata": {},
   "outputs": [],
   "source": [
    "import proveit\n",
    "theory = proveit.Theory() # the theorem's theory"
   ]
  },
  {
   "cell_type": "code",
   "execution_count": 2,
   "metadata": {},
   "outputs": [
    {
     "data": {
      "text/html": [
       "With these <a href=\"allowed_presumptions.txt\">allowed</a>/<a href=\"disallowed_presumptions.txt\">disallowed</a> theorem/theory presumptions (e.g., to avoid circular dependencies), we begin our proof of<br><strong id=\"double_abs_elem\">double_abs_elem:</strong> <a class=\"ProveItLink\" href=\"../../../__pv_it/theorems/da27a6209b12c1ed87abd824a52b90a7b1ae08cb0/expr.ipynb\"><img src=\"data:image/png;base64,iVBORw0KGgoAAAANSUhEUgAAAJoAAAAVBAMAAABMN+opAAAAMFBMVEX///8AAAAAAAAAAAAAAAAA\n",
       "AAAAAAAAAAAAAAAAAAAAAAAAAAAAAAAAAAAAAAAAAAAv3aB7AAAAD3RSTlMAq1RmmUTNIjK7EInv\n",
       "3XZ/CtNrAAAACXBIWXMAAA7EAAAOxAGVKw4bAAACB0lEQVQ4y5WUT0gbQRTGv2Q32XSTLgFPioSF\n",
       "ijnUUvGgqFCF2j9QlaAXD4UGPBQ9bY+CyHoQRClVsNhtIQTqoakgNTQnQXLxoigieAxs0IJ4yNXS\n",
       "U2c2M7tEMsq8ZZZvZt7+Zva9NwPcaRZ5NN7REOjAwRca7jHDRAnxDOsR4WtupUBEXCBJ5SMB7TEk\n",
       "aLgAXlD5vjlMz0rRonks0oCsNaep3VI0ZZgCETeb0xKQouEQClk/KghbpyRtGjiuVI4EtDecptfa\n",
       "Vosi2k71x57p0XaB18BXAW2a01RU3TGfplY8SzLasJFSTz1aL/ABWrKhxjZSC0yecVofhvItgr0p\n",
       "lvIv1O3RuoAHed8lVnUy+roV/sb6B5xm46UwbjGoWRa3T0DY9ZMwYpNPdoDB2zTg5I4sJFwm3pKW\n",
       "fUZetVeXlkHSi+9LwWn0/xSRG/wUxQ3vLD3viSekFWdJsKzWqFmg0+l0sHCO0fTPoTJ+CfZWyLQj\n",
       "Xsf2kzZPFlGQi2GSTg8MBK67jBb+u1WOmALa05VRTNRptKJCNh2+IQl2HMdcngpcP/K9jbsdPaK4\n",
       "bdXCz8067ZyPxsoaVr2CJ1nQ2eBDW+osaKdMz8ezKqkVegP8trDPRskxlqHRS6J+W/zZv4b2hcrt\n",
       "mQ2bu2xK0eYap7Ydp9G7IEXbvOcm11xcweBbJcLX3K4CYVj4D2N4qE4f+TB3AAAAAElFTkSuQmCC\n",
       "\" style=\"display:inline;vertical-align:middle;\" /></a><br>(see <a class=\"ProveItLink\" href=\"../../../__pv_it/theorems/d9e8e78a95d9d074e6a790aa5f7d5f91401e930a0/dependencies.ipynb\">dependencies</a>)<br>"
      ],
      "text/plain": [
       "<IPython.core.display.HTML object>"
      ]
     },
     "metadata": {},
     "output_type": "display_data"
    }
   ],
   "source": [
    "%proving double_abs_elem"
   ]
  },
  {
   "cell_type": "code",
   "execution_count": null,
   "metadata": {},
   "outputs": [],
   "source": []
  }
 ],
 "metadata": {
  "kernelspec": {
   "display_name": "Python 3",
   "language": "python",
   "name": "python3"
  }
 },
 "nbformat": 4,
 "nbformat_minor": 0
}