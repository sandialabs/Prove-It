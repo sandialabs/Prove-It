{
 "cells": [
  {
   "cell_type": "markdown",
   "metadata": {},
   "source": [
    "Proof of <a class=\"ProveItLink\" href=\"../../../../../_theory_nbs_/theory.ipynb\">proveit</a>.<a class=\"ProveItLink\" href=\"../../../../_theory_nbs_/theory.ipynb\">numbers</a>.<a class=\"ProveItLink\" href=\"../../theory.ipynb\">absolute_value</a>.<a class=\"ProveItLink\" href=\"../../theorems.ipynb#abs_non_neg_elim\">abs_non_neg_elim</a> theorem\n",
    "========"
   ]
  },
  {
   "cell_type": "code",
   "execution_count": 1,
   "metadata": {},
   "outputs": [],
   "source": [
    "import proveit\n",
    "theory = proveit.Theory() # the theorem's theory"
   ]
  },
  {
   "cell_type": "code",
   "execution_count": 2,
   "metadata": {},
   "outputs": [
    {
     "data": {
      "text/html": [
       "With these <a href=\"allowed_presumptions.txt\">allowed</a>/<a href=\"disallowed_presumptions.txt\">disallowed</a> theorem/theory presumptions (e.g., to avoid circular dependencies), we begin our proof of<br><strong id=\"abs_non_neg_elim\">abs_non_neg_elim:</strong> <a class=\"ProveItLink\" href=\"../../../__pv_it/theorems/de7f1f85b50f0f14614c489704dd5bd66a903a2a0/expr.ipynb\"><img src=\"data:image/png;base64,iVBORw0KGgoAAAANSUhEUgAAAJ8AAAAXBAMAAADn1oBmAAAAMFBMVEX///8AAAAAAAAAAAAAAAAA\n",
       "AAAAAAAAAAAAAAAAAAAAAAAAAAAAAAAAAAAAAAAAAAAv3aB7AAAAD3RSTlMAq1RmmUTNIjK7EInv\n",
       "3XZ/CtNrAAAACXBIWXMAAA7EAAAOxAGVKw4bAAACGklEQVQ4y2NgIAEUACGciV0BSYBPgWErjL0V\n",
       "q4o4IBYAMZSJMlCbgZCBfAYMDK4gRjox5nElEDSQIYuBoRFIsU8gxkAWA8IGmjAwsC1gYOBWIMZA\n",
       "HgbCBvIsYGAG2stGVBCqEWEgG9C0s3fvnibKQG+IOesertitgGEg1zup7k1AvwLj2IOBYRZCwgG3\n",
       "gckQAx345FguQAz0vQsCF8EBzPDwgS8DAzMw4goZ2AUQuhDR0xkApna/hglcAhvIXMD8i9EAw4Xm\n",
       "DPYLhBkYmA4wMHAu4A7AZiDXTlBUMT9ghQkdBRvIwcCSgCUMGxjcQBTHB6ChD5DjBDkBvQSGME8D\n",
       "w3cUA4FCD7BGyjkQwQp0IUOCHZB45/6kAGEglGf5gKF+AcMhFC8zMMQXcC3ACEMG1u8Mq4CuuwBk\n",
       "bgImb74CSTYFuIFwnk1B/wKGy1AD54ENXBkgw8CN4UKuqYwHGDYAQwikvwYYJ8wM8zgQXobxVk9l\n",
       "ABp4DqppI9hA/S4fhiAMA5l+LDnACnQDC9BQBsYGkNB3lDAE80okGEBe/gTV1As2cMk7JmcFTBf6\n",
       "PVAxAtK88PjlOMCOZCCYVyjBgBIpvA2Ec0otjFHDncCCMBDMW+gODs4HrLBUyuxA2EBneEnydN8r\n",
       "hIFg3iqIzO4nC2CKphM0EEuxha8gW0nQQM4Ckgxkf8DwAsZ+gVXFcwY8BnbOBAISax3K6y1MAAAG\n",
       "Op2JAMAlLAAAAABJRU5ErkJggg==\n",
       "\" style=\"display:inline;vertical-align:middle;\" /></a><br>(see <a class=\"ProveItLink\" href=\"../../../__pv_it/theorems/cd8a13f996fd1e4bfbcab090273aa113bfd342950/dependencies.ipynb\">dependencies</a>)<br>"
      ],
      "text/plain": [
       "<IPython.core.display.HTML object>"
      ]
     },
     "metadata": {},
     "output_type": "display_data"
    }
   ],
   "source": [
    "%proving abs_non_neg_elim"
   ]
  },
  {
   "cell_type": "code",
   "execution_count": null,
   "metadata": {},
   "outputs": [],
   "source": []
  }
 ],
 "metadata": {
  "kernelspec": {
   "display_name": "Python 3",
   "language": "python",
   "name": "python3"
  }
 },
 "nbformat": 4,
 "nbformat_minor": 0
}