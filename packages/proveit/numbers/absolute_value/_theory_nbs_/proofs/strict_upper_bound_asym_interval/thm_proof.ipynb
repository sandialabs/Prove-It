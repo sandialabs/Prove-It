{
 "cells": [
  {
   "cell_type": "markdown",
   "metadata": {},
   "source": [
    "Proof of <a class=\"ProveItLink\" href=\"../../../../../_theory_nbs_/theory.ipynb\">proveit</a>.<a class=\"ProveItLink\" href=\"../../../../_theory_nbs_/theory.ipynb\">numbers</a>.<a class=\"ProveItLink\" href=\"../../theory.ipynb\">absolute_value</a>.<a class=\"ProveItLink\" href=\"../../theorems.ipynb#strict_upper_bound_asym_interval\">strict_upper_bound_asym_interval</a> theorem\n",
    "========"
   ]
  },
  {
   "cell_type": "code",
   "execution_count": 1,
   "metadata": {},
   "outputs": [],
   "source": [
    "import proveit\n",
    "theory = proveit.Theory() # the theorem's theory"
   ]
  },
  {
   "cell_type": "code",
   "execution_count": 2,
   "metadata": {},
   "outputs": [
    {
     "data": {
      "text/html": [
       "With these <a href=\"allowed_presumptions.txt\">allowed</a>/<a href=\"disallowed_presumptions.txt\">disallowed</a> theorem/theory presumptions (e.g., to avoid circular dependencies), we begin our proof of<br><strong id=\"strict_upper_bound_asym_interval\">strict_upper_bound_asym_interval:</strong> <a class=\"ProveItLink\" href=\"../../../__pv_it/theorems/8b817157c94d45506eae57340dabff084bcc2d3b0/expr.ipynb\"><img src=\"data:image/png;base64,iVBORw0KGgoAAAANSUhEUgAAAUUAAAAXBAMAAABua0AmAAAAMFBMVEX///8AAAAAAAAAAAAAAAAA\n",
       "AAAAAAAAAAAAAAAAAAAAAAAAAAAAAAAAAAAAAAAAAAAv3aB7AAAAD3RSTlMAq1RmmUTNIjK7EInv\n",
       "3XZ/CtNrAAAACXBIWXMAAA7EAAAOxAGVKw4bAAAEP0lEQVRIx8WWXYgTVxSAzyaZzGQmuYn6IFhd\n",
       "BvpQKuhOcRHXhzWyVQSpDVr6UmiCCKIPMoIPfVCJvvig4DyIGBWdgi1IxIS2W6nFdfvQ2h+UBRXF\n",
       "xWVWxZ8Vf1jaXVl/77l3fu6EiW5KwBvOzJm559zz5d5z7lyANjaZ/txmtuxiNrjKXDOhve0WaAVX\n",
       "7W/ZxfdwFfr+a3pDyeHzh21BjNWbMsrzXuAt/XJ2lMvJi9GMxAAmK/B5Y1sYv4fm8ygfp7Hgk8lo\n",
       "lw3RjLAZmOzCAay2MPa9hVF9VKLXO1PRLuNNGLuBSdKmj3pbGAcjGWNskdTHdAqVL6YiXaSpJoxp\n",
       "m0mcrkGyPelYimKMX7EZ49i/NLcSU5Eu2lATxqTB5eLNm/+0hTFR5wNvHdgZRCTDNl9rZy7lRcbe\n",
       "h2eh57VR/KPsuyQ7R/Uw48DtMg6l5bisAjj8zvj5aTDiH8aFuwDHbS9idcTLR6eow3zKGLsAKwHO\n",
       "28lC4FLbrE6GGHfoCQsZ4yUuW0HOed3KplDUBT8v38I1K6K3sWV0FvCUAZ9587jtsl8zTsYChzMW\n",
       "TUhaSwSXLhsuhRiHIe0gY2yQS8r2kwjgA19TRisFosGZesDo9apCuQqM6QIL+DmG4BE71geGDpmU\n",
       "CywfvztvgvqbIbjQiX0uMjIzpFKecok5Qsn86Wuf0nQhBJY6AiPvlZfb/q4XqH7Av0D9L4pRfU5Y\n",
       "8BMzu+j3rasguAyDNC4ypi2XURrkAqVeTJzeMzh5r0YxqHbbwe0dGcfywlqzXmWG6ZujSo3FtVZf\n",
       "Qfxp1FrD0Tgyxn6H/dRr9d/CWo9jh8BYc1zG2BAX+IHu5Oo1BT8B5AZBpqvK4ElWlJp8zAgYWa90\n",
       "wPTMmYrGfOyUwxjHoaP0UUTNQHEOomTzUPzG1OyDgQs8wyTu91KnH7I0aIHVjMUFttOSSeRZpJSB\n",
       "VZSw1PI6BpU4Ygk1g73SEZxoZu6q1Njd0HIs4DFYkM/7s3J6hGeDlMMV7JhExie7zQGo5QOXWXCA\n",
       "z3ytxPPRAo3tPbg3oUBHGRODYHGny4kcz5LFlUpFJ0RbKzBi7z6d5xE191S/yoZYwG8f7uksC3s4\n",
       "2yDloxMGKZC5E7OVzoXVkXMTsGzCCVx+Mjhj5gav618XjbG1zrjCWs1MLaVjZSFNA2fpEu5l80ik\n",
       "r+yAEXvVX3TPnKvZ4IB3PfJbGH/bgUVwYR7zw9+ZHcCF16S5f51dhYzdA1Wg22s9ZbN8hLNCzWAv\n",
       "wAPDNecqGruDdEPL58fuBsZ6mLGPHzt4k/oW/kgXT1nj0Kvc12vLh+jbL+/WT6wU6noNq+Aeg5tz\n",
       "FY3dQVJmy4yCSz+vLJERz2ONZzJduFYrlWBrh5Dhx2aUSiNYLTMKLuhBwmcK+g+YCE2yg2tDm94B\n",
       "cycQt8bh/jQPIoGL7+Eq9P09ersXto8L1//F+H6b+T6DvwF6jGKdi2LERAAAAABJRU5ErkJggg==\n",
       "\" style=\"display:inline;vertical-align:middle;\" /></a><br>(see <a class=\"ProveItLink\" href=\"../../../__pv_it/theorems/9f44bb20098a1537ae392c215561b96b84f67e380/dependencies.ipynb\">dependencies</a>)<br>"
      ],
      "text/plain": [
       "<IPython.core.display.HTML object>"
      ]
     },
     "metadata": {},
     "output_type": "display_data"
    }
   ],
   "source": [
    "%proving strict_upper_bound_asym_interval"
   ]
  },
  {
   "cell_type": "code",
   "execution_count": null,
   "metadata": {},
   "outputs": [],
   "source": []
  }
 ],
 "metadata": {
  "kernelspec": {
   "display_name": "Python 3",
   "language": "python",
   "name": "python3"
  }
 },
 "nbformat": 4,
 "nbformat_minor": 0
}