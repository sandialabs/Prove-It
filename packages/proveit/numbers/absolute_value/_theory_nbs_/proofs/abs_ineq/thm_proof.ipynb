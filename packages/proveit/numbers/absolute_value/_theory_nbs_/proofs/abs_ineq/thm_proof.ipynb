{
 "cells": [
  {
   "cell_type": "markdown",
   "metadata": {},
   "source": [
    "Proof of <a class=\"ProveItLink\" href=\"../../../../../_theory_nbs_/theory.ipynb\">proveit</a>.<a class=\"ProveItLink\" href=\"../../../../_theory_nbs_/theory.ipynb\">numbers</a>.<a class=\"ProveItLink\" href=\"../../theory.ipynb\">absolute_value</a>.<a class=\"ProveItLink\" href=\"../../theorems.ipynb#abs_ineq\">abs_ineq</a> theorem\n",
    "========"
   ]
  },
  {
   "cell_type": "code",
   "execution_count": 1,
   "metadata": {},
   "outputs": [],
   "source": [
    "import proveit\n",
    "theory = proveit.Theory() # the theorem's theory"
   ]
  },
  {
   "cell_type": "code",
   "execution_count": 2,
   "metadata": {},
   "outputs": [
    {
     "data": {
      "text/html": [
       "With these <a href=\"allowed_presumptions.txt\">allowed</a>/<a href=\"disallowed_presumptions.txt\">disallowed</a> theorem/theory presumptions (e.g., to avoid circular dependencies), we begin our proof of<br><strong id=\"abs_ineq\">abs_ineq:</strong> <a class=\"ProveItLink\" href=\"../../../__pv_it/theorems/3bb1592715726e2a135515547bb57a84b00bb4c80/expr.ipynb\"><img src=\"data:image/png;base64,iVBORw0KGgoAAAANSUhEUgAAAb4AAAAXBAMAAACGxzdIAAAAMFBMVEX///8AAAAAAAAAAAAAAAAA\n",
       "AAAAAAAAAAAAAAAAAAAAAAAAAAAAAAAAAAAAAAAAAAAv3aB7AAAAD3RSTlMAq1RmmUTNIjK7EInv\n",
       "3XZ/CtNrAAAACXBIWXMAAA7EAAAOxAGVKw4bAAAFVElEQVRYw91YXWgcVRQ+M7uzO3snu4moxTYS\n",
       "Flp8anGRovTBNCWm/kZXRUGQZqlCtYKsIEK0ltW3arF/xBgfykRC/EkTxkILrRiiLxb/WNBAsKZM\n",
       "mojWn1DwoSVPnvu3c+fOnWjjkx74Zjsn53xzv7nnnnunAP/G8gx5eVs3BtVXSYUoOXKnhf+zyHTu\n",
       "a7eLDF5V3J4yBu1aJZVDMSc0Pynpv5g+LBos0UEdG9cmzw4Y/kZfqZKeyhCzxZRnLRoIUm0xQh+9\n",
       "37M2feMcJn23KFW5Nz2VIWY530wi/V45IogL3hMPFniN1unhtenr5TDou/M+JWxreipDzDI9ZhLp\n",
       "n6xFBLG87/14sACVKd/JtdoMR1LfH2fVsDbxZByZ2xFPZYjbl2YS6V+8MSJQF8F5Xw/myODqyK1x\n",
       "+dU4dH3k03gzyFWidfhOPNWuJVifMpNIf/NAi0CxiQvJYIFv5ue/Wpu+bMCB+qYWPvikLPSRftlQ\n",
       "yFIFRvHvfNLYwMb9WGpW6RJTvUAw8mONRHALvx3k6pKALG948yTzjn1nIBG4B+Dd1USk/4nOCwXq\n",
       "6yl1ZZtcH1nXqnbPnoHtuArYu3a/nkf7cW8sNaf01mAzZC4D3K6RCG7uh1zd7pEEWVgI++nN6G4T\n",
       "icALkO9Ilt75p9fx+ii0fO4QH/S0fOfFModXzdQzK1ZFzF80tNdxXOuRjK2VS3zmDpTV1GIkwy33\n",
       "g4WNbrNGIriFH9vhD5LgDtjuX09vrN0mEoGC31o/wt5aPwRh4L2i6YOJo/TaDU/IvlHl8KouZGut\n",
       "9ZdvlZbfFsK3+FB8oXBCvETymZpKMU7ndX6OYCjGwyGNRHAL/00Ay5KgATtFzIuyPlUSATvU2ksW\n",
       "KxbCMDOl64PSMbycg/a6rg8YabK/DPjuVTxG0PnLd3LXS4Gur3XqWIFDDYAnE/2FcXM/QamTkgDo\n",
       "y9P6i0IiUevGy/LdSzhqZwEsflIIw9KYom9XBzvoZI5DfgXaynp9opI68ZP7w04ooTa7yepsns8T\n",
       "pNQnnabf8WdLYn9g3NxPd7JsWRCAcwU+0vYHhUTiJC75Un19DjOm2v2DhG32YTC4GOkj4YrLFlHm\n",
       "C3cFiqJ0CiGHV/2wejN4hv39CBTwtWQOR9s8736t1IKyCWDoEfzZppEIbu4v0kqocQIyZM1AoO3v\n",
       "ConEPjoEOO7iP1/eApccNvrw3jMQ6cu/1yzRQZIzVdTXJgZF+z5D9dY3HoBH4uezBr3ugIFKaxOw\n",
       "aEn1aalKa8t2OH/iz/0aieDmflpqbA/FRPvq2IwTzb/9jEYiYbGhXGFBndCVeXZk5CjW56myUp9W\n",
       "YKGo/I4Grc92Qeo2Obzq2LLdWzacr0enH8L5KvJFRteOPAnKVLcZBZPOJTqIWY1DcHP/Btb/OAF5\n",
       "MNx0m/5EhWRWJXNn2MfSLJxzA77+Hjur6CtW21DadY1Yf4E5jtW+H04jXlU+BP14KsypwR59A82U\n",
       "bzrNP5e2K0sSCWb7vFoWJjDLucx3e9wf1P5SbAwAuYHpWoaH1YPz1lX0eTXyuekMHaWqZ+/TcIJ2\n",
       "j0rKOaOSJADT+5QkEjz7p+lf4WAZNm2rwSDOkvP8c+SuWqTP7n0biC/299axvlBniOsjvE/SqS6G\n",
       "VpDydSJSGYRdALqFDIJGImzQQCBtMurMEclgMqlM6oUKNpGRIYWHXd+HY4ZB0laLSJ0/u7tPG4me\n",
       "CiQSv3GJ8gynlN2wgcBgEclwIsnxrfDxxItm1y6nZmLbz1CSr/kX4yN/hvRUDvUIYf7fGoN/f/rB\n",
       "mAZLqJ+I4HQHZn2P/oYtaARtGP5nlv9vD/8vbrCwYU797cYAAAAASUVORK5CYII=\n",
       "\" style=\"display:inline;vertical-align:middle;\" /></a><br>(see <a class=\"ProveItLink\" href=\"../../../__pv_it/theorems/f2b457c7acc779e3831d5bebfe6b62ba528dc6f70/dependencies.ipynb\">dependencies</a>)<br>"
      ],
      "text/plain": [
       "<IPython.core.display.HTML object>"
      ]
     },
     "metadata": {},
     "output_type": "display_data"
    }
   ],
   "source": [
    "%proving abs_ineq"
   ]
  },
  {
   "cell_type": "code",
   "execution_count": null,
   "metadata": {},
   "outputs": [],
   "source": []
  }
 ],
 "metadata": {
  "kernelspec": {
   "display_name": "Python 3",
   "language": "python",
   "name": "python3"
  }
 },
 "nbformat": 4,
 "nbformat_minor": 0
}