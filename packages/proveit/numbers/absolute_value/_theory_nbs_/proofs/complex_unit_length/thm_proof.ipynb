{
 "cells": [
  {
   "cell_type": "markdown",
   "metadata": {},
   "source": [
    "Proof of <a class=\"ProveItLink\" href=\"../../../../../_theory_nbs_/theory.ipynb\">proveit</a>.<a class=\"ProveItLink\" href=\"../../../../_theory_nbs_/theory.ipynb\">numbers</a>.<a class=\"ProveItLink\" href=\"../../theory.ipynb\">absolute_value</a>.<a class=\"ProveItLink\" href=\"../../theorems.ipynb#complex_unit_length\">complex_unit_length</a> theorem\n",
    "========"
   ]
  },
  {
   "cell_type": "code",
   "execution_count": 1,
   "metadata": {},
   "outputs": [],
   "source": [
    "import proveit\n",
    "theory = proveit.Theory() # the theorem's theory"
   ]
  },
  {
   "cell_type": "code",
   "execution_count": 2,
   "metadata": {},
   "outputs": [
    {
     "data": {
      "text/html": [
       "With these <a href=\"allowed_presumptions.txt\">allowed</a>/<a href=\"disallowed_presumptions.txt\">disallowed</a> theorem/theory presumptions (e.g., to avoid circular dependencies), we begin our proof of<br><strong id=\"complex_unit_length\">complex_unit_length:</strong> <a class=\"ProveItLink\" href=\"../../../__pv_it/theorems/3d92b76efa45b0f87fe7800bafcd8a3b2a24d1c10/expr.ipynb\"><img src=\"data:image/png;base64,iVBORw0KGgoAAAANSUhEUgAAAJQAAAAbCAMAAACtBFbrAAAANlBMVEX///8AAAAAAAAAAAAAAAAA\n",
       "AAAAAAAAAAAAAAAAAAAAAAAAAAAAAAAAAAAAAAAAAAAAAAAAAABHL6OuAAAAEXRSTlMAq1RmmUTN\n",
       "IjK7EInv3Xb58znApaUAAAAJcEhZcwAADsQAAA7EAZUrDhsAAAIqSURBVEjHzZeJssIgDEVZwg5R\n",
       "/v9nH1DA7harMy9OnVaZ9EBubyghXw6uyX8IWFx5108VIO6M+HFwUTAO/rXGEmnPRryb4CfBphRH\n",
       "tzQ8HWwMSpmbTFaSHSjJW/6YrwahCMd7UIafQkGedNSDUCTkgtNXNfgQk2q32kLZLPZgnKORXITS\n",
       "BSYFZiAQPZ0ae+jcIZT2KVVMB8AlKEtBxgpl84mmH2osCnJavrxIXl1dKWxQUwJZrxwbYtI9ywFU\n",
       "yguMjEMVLfKaRY4tFAaygLLUB5hDCdenOQSFZbQPOWZOfCmoXEBZHxj3dH/sEJQoZ1AeW2MHDcEs\n",
       "bklDsSb7BgrCLOgulC42omj7mver5hPBSaBya2myp3wUWfO5da3iMbJSanqC8iI5sepXGqkx6Uck\n",
       "qa5ObYobept6lulNsa+B5wiUnaAYdpn3fgVQtyCYPoRbPF4pX6CYymHva0pNXSAR1ZbT+xX2OhQo\n",
       "tHAOReJZzxrUlKoWVc2q9Sv7MtJcPmVwIxa6FDr4kkF96+nLbaxCt34l+AwKjNsxe/RLSwieCwz4\n",
       "KZSLbT68jaZVQK1fcWlKsKl8TmzdXqwdHUKU+KFPUeqjpNNKwNrsWr/Sjsw1JYTbKtiLy+swsnV5\n",
       "tQSy7lcvK50sYSv0o13CXSi7MeDer5SpBRUSpSMWYNMatf8JFKcnwC5rSpwKgf0CKozt6q7t0W9C\n",
       "3d2jE+a+DnX7baa9971/Jb7+0gxF5X/hvBPQf+HEXQAAAABJRU5ErkJggg==\n",
       "\" style=\"display:inline;vertical-align:middle;\" /></a><br>(see <a class=\"ProveItLink\" href=\"../../../__pv_it/theorems/56b60867ac3d1b611c3683c6d6279a65cadde0d80/dependencies.ipynb\">dependencies</a>)<br>"
      ],
      "text/plain": [
       "<IPython.core.display.HTML object>"
      ]
     },
     "metadata": {},
     "output_type": "display_data"
    }
   ],
   "source": [
    "%proving complex_unit_length"
   ]
  },
  {
   "cell_type": "code",
   "execution_count": null,
   "metadata": {},
   "outputs": [],
   "source": []
  }
 ],
 "metadata": {
  "kernelspec": {
   "display_name": "Python 3",
   "language": "python",
   "name": "python3"
  }
 },
 "nbformat": 4,
 "nbformat_minor": 0
}