{
 "cells": [
  {
   "cell_type": "markdown",
   "metadata": {},
   "source": [
    "Proof of <a class=\"ProveItLink\" href=\"../../../../../_theory_nbs_/theory.ipynb\">proveit</a>.<a class=\"ProveItLink\" href=\"../../../../_theory_nbs_/theory.ipynb\">numbers</a>.<a class=\"ProveItLink\" href=\"../../theory.ipynb\">absolute_value</a>.<a class=\"ProveItLink\" href=\"../../theorems.ipynb#abs_even\">abs_even</a> theorem\n",
    "========"
   ]
  },
  {
   "cell_type": "code",
   "execution_count": 1,
   "metadata": {},
   "outputs": [],
   "source": [
    "import proveit\n",
    "theory = proveit.Theory() # the theorem's theory"
   ]
  },
  {
   "cell_type": "code",
   "execution_count": 2,
   "metadata": {},
   "outputs": [
    {
     "data": {
      "text/html": [
       "With these <a href=\"allowed_presumptions.txt\">allowed</a>/<a href=\"disallowed_presumptions.txt\">disallowed</a> theorem/theory presumptions (e.g., to avoid circular dependencies), we begin our proof of<br><strong id=\"abs_even\">abs_even:</strong> <a class=\"ProveItLink\" href=\"../../../__pv_it/theorems/1eab668427e31220f2aae39f9c3765d474b1fbf50/expr.ipynb\"><img src=\"data:image/png;base64,iVBORw0KGgoAAAANSUhEUgAAAJ8AAAAVBAMAAACqHiFtAAAAMFBMVEX///8AAAAAAAAAAAAAAAAA\n",
       "AAAAAAAAAAAAAAAAAAAAAAAAAAAAAAAAAAAAAAAAAAAv3aB7AAAAD3RSTlMAq1RmmUTNIjK7EInv\n",
       "3XZ/CtNrAAAACXBIWXMAAA7EAAAOxAGVKw4bAAACB0lEQVQ4y2NgwAsKgBBDCIcAOxY5dMCnwLAV\n",
       "XQynAHcAQxyQEgCxlXEYqM1AmoF8BgwMriB2OnbzuBJINJAhi4GhEeT7CdgNZDEg1UATBga2BUCm\n",
       "AnYDeRhINZBnAQMz0BVsOIJQjWQD2YCmnb179zQOA71R9a97uGI31mjneifVvQlsIDcwjj0YGGbh\n",
       "MDAZ1UAHPjmWCxABlrtgIAAxkIXh4QNfsIHMwGgsZGAXQEl7U+TqoMxLKAYyFzD/YjTA5kJzBvsF\n",
       "wmADmQ4wMHAuALHAgOPhzACuiQVMs6H8oxAP5YJd08DBwJKAPQwbGNygYcjxAWjoA3icuDQAhdcx\n",
       "MFijGIgU6w9wRco5qIGsQBcyJNgBiXfuTwpA6ZxhcSs4V2LxMgNDfAHXAmxhyMD6nWEVxMsXgAKb\n",
       "gMmbr0CSTWElSFpdHWHAPBQDVwbIMHBjcyHXVMYDDBsgkQLKIjVAe5gZ5nEwBIOkrawQSjeiGKjf\n",
       "5cMQhM1Aph9LDrAqgA1k2QAUYGwACX9nYDCbOXOmQkcEQmkvioFL3jE5K2B1od8DFSNIGPLC4peB\n",
       "4wA7Qzc4vQMjhQsqyNtAak6phQnWcCewABMQqKDYUsCwD5byHEg10Blerjzd94qBfQaIuTpzSgNM\n",
       "eDqJBqIXW6tnzgxAEVhJooGchOoA9gcML9DFcArwNTA8Z2AAADxin57S+if5AAAAAElFTkSuQmCC\n",
       "\" style=\"display:inline;vertical-align:middle;\" /></a><br>(see <a class=\"ProveItLink\" href=\"../../../__pv_it/theorems/68594ab9f47db38dc652763068eb1de5ae1a7bae0/dependencies.ipynb\">dependencies</a>)<br>"
      ],
      "text/plain": [
       "<IPython.core.display.HTML object>"
      ]
     },
     "metadata": {},
     "output_type": "display_data"
    },
    {
     "name": "stdout",
     "output_type": "stream",
     "text": [
      "abs_even may now be readily provable (assuming required theorems are usable).  Simply execute \"%qed\".\n"
     ]
    }
   ],
   "source": [
    "%proving abs_even"
   ]
  },
  {
   "cell_type": "code",
   "execution_count": null,
   "metadata": {},
   "outputs": [],
   "source": []
  }
 ],
 "metadata": {
  "kernelspec": {
   "display_name": "Python 3",
   "language": "python",
   "name": "python3"
  }
 },
 "nbformat": 4,
 "nbformat_minor": 0
}