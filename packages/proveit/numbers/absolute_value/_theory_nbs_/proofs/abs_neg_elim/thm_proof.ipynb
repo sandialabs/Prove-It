{
 "cells": [
  {
   "cell_type": "markdown",
   "metadata": {},
   "source": [
    "Proof of <a class=\"ProveItLink\" href=\"../../../../../_theory_nbs_/theory.ipynb\">proveit</a>.<a class=\"ProveItLink\" href=\"../../../../_theory_nbs_/theory.ipynb\">numbers</a>.<a class=\"ProveItLink\" href=\"../../theory.ipynb\">absolute_value</a>.<a class=\"ProveItLink\" href=\"../../theorems.ipynb#abs_neg_elim\">abs_neg_elim</a> theorem\n",
    "========"
   ]
  },
  {
   "cell_type": "code",
   "execution_count": 1,
   "metadata": {},
   "outputs": [],
   "source": [
    "import proveit\n",
    "theory = proveit.Theory() # the theorem's theory"
   ]
  },
  {
   "cell_type": "code",
   "execution_count": 2,
   "metadata": {},
   "outputs": [
    {
     "data": {
      "text/html": [
       "With these <a href=\"allowed_presumptions.txt\">allowed</a>/<a href=\"disallowed_presumptions.txt\">disallowed</a> theorem/theory presumptions (e.g., to avoid circular dependencies), we begin our proof of<br><strong id=\"abs_neg_elim\">abs_neg_elim:</strong> <a class=\"ProveItLink\" href=\"../../../__pv_it/theorems/4bffb1d84cbc185670c9b7e9b55e42908c32082b0/expr.ipynb\"><img src=\"data:image/png;base64,iVBORw0KGgoAAAANSUhEUgAAAL8AAAAXBAMAAACoi4O2AAAAMFBMVEX///8AAAAAAAAAAAAAAAAA\n",
       "AAAAAAAAAAAAAAAAAAAAAAAAAAAAAAAAAAAAAAAAAAAv3aB7AAAAD3RSTlMAq1RmmUTNIjK7EInv\n",
       "3XZ/CtNrAAAACXBIWXMAAA7EAAAOxAGVKw4bAAACY0lEQVRIx62Wz2vUQBTH3+bHJrvZLlvaiyIS\n",
       "UITiwUUKpRddKP4ArSz+ARrwIHiK96rrsf7AvRRRocyhFOtBtNDTggTBk1hWvfSyMJWKVWERLyue\n",
       "nB9JJpvJDlnwLd+Ql3nJZ957k8kCjGE++cWnabOk4KwopVVd2IrOt6TRLyn/SqgadY7kAhwHBUB7\n",
       "lZ5OnesMda7neX7ZUwHWpfgbXHdp+dp5AEZdBViQ4me5igjAcfMAKqACBHI8YtLJvIq5WnBMBdA8\n",
       "Kb5Y5/rQ673PBbjAn/ty93nHlQBGosfl/sH7m6QuNa7zAE/FYGM04BoHNKqHjS4HLPaofYymG8Ng\n",
       "Fy8C6B7XTbBqYnC43TM+dH5GzicG0H39b6EuZTCRaOMcnEZTpGoBVwk5zRGAGQw6NqNL7xjABsPL\n",
       "6EGFPGOdJbQDLThLL9m/uDSc7HESME/SrrRgMAQgl/AIgLBtejADLvBOkUP/3J4vAMz7TrO+g+Dt\n",
       "UIkArvplJPUgWSIwB/CCzLzLBZvkdav6B4puDGDeA+Y/QvA5vG2VATaah8CRMyhhsYhWCgGQRaW3\n",
       "uWCJ9FiHVVuUiHnaM8QB2+GNrxngxL2LcFkGOGKhaH/WAtPlK5et3kKLXh4M9YB6JiWQEv0Ob3zI\n",
       "AGt9bcGVAXZXZHAJHz1Jq9bkCgMCKwHgnj3tJ5s80VJtFTvSe3MrFLMlxzMEIPKsSVTFZpS83lAB\n",
       "ZiFr+4u3QOPrmx8CEHskj84eioIeqwCl9NeLbtEZ27Rq495QAcrtDGLJHwtgYdiPzvel0dsp/1uo\n",
       "kYDlJ8TG/Grn+uPwn+0fCGW3MAzUzNcAAAAASUVORK5CYII=\n",
       "\" style=\"display:inline;vertical-align:middle;\" /></a><br>(see <a class=\"ProveItLink\" href=\"../../../__pv_it/theorems/6be05392bd3b19c68e5200244e8f386a77faadd50/dependencies.ipynb\">dependencies</a>)<br>"
      ],
      "text/plain": [
       "<IPython.core.display.HTML object>"
      ]
     },
     "metadata": {},
     "output_type": "display_data"
    }
   ],
   "source": [
    "%proving abs_neg_elim"
   ]
  },
  {
   "cell_type": "code",
   "execution_count": null,
   "metadata": {},
   "outputs": [],
   "source": []
  }
 ],
 "metadata": {
  "kernelspec": {
   "display_name": "Python 3",
   "language": "python",
   "name": "python3"
  }
 },
 "nbformat": 4,
 "nbformat_minor": 0
}