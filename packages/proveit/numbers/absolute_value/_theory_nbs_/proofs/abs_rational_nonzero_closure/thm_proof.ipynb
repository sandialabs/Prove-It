{
 "cells": [
  {
   "cell_type": "markdown",
   "metadata": {},
   "source": [
    "Proof of <a class=\"ProveItLink\" href=\"../../../../../_theory_nbs_/theory.ipynb\">proveit</a>.<a class=\"ProveItLink\" href=\"../../../../_theory_nbs_/theory.ipynb\">numbers</a>.<a class=\"ProveItLink\" href=\"../../theory.ipynb\">absolute_value</a>.<a class=\"ProveItLink\" href=\"../../theorems.ipynb#abs_rational_nonzero_closure\">abs_rational_nonzero_closure</a> theorem\n",
    "========"
   ]
  },
  {
   "cell_type": "code",
   "execution_count": 1,
   "metadata": {},
   "outputs": [],
   "source": [
    "import proveit\n",
    "theory = proveit.Theory() # the theorem's theory"
   ]
  },
  {
   "cell_type": "code",
   "execution_count": 2,
   "metadata": {},
   "outputs": [
    {
     "data": {
      "text/html": [
       "With these <a href=\"allowed_presumptions.txt\">allowed</a>/<a href=\"disallowed_presumptions.txt\">disallowed</a> theorem/theory presumptions (e.g., to avoid circular dependencies), we begin our proof of<br><strong id=\"abs_rational_nonzero_closure\">abs_rational_nonzero_closure:</strong> <a class=\"ProveItLink\" href=\"../../../__pv_it/theorems/92a4fe415cf50b762a892552142c89891b6188a00/expr.ipynb\"><img src=\"data:image/png;base64,iVBORw0KGgoAAAANSUhEUgAAAKcAAAAZCAMAAABjCM7bAAAAPFBMVEX///8AAAAAAAAAAAAAAAAA\n",
       "AAAAAAAAAAAAAAAAAAAAAAAAAAAAAAAAAAAAAAAAAAAAAAAAAAAAAAAAAAAo1xBWAAAAE3RSTlMA\n",
       "q1RmmUTNIjK7EInv3Xah18O1XjQ+CwAAAAlwSFlzAAAOxAAADsQBlSsOGwAAAr5JREFUWMO1l9m6\n",
       "qyAMhRnCFDBn8P3f9TBWBNu61cOFu/XbhZ+VZAUYe3hI9cw8MH14dIinpnXtg3H/ARN1nnp8bW5w\n",
       "MknPczqZnn6Mvf+WDOhdHGCOONmC8cG3kMnbmCawS5zEg42/Xrg/4qTECK8ptLmf/P4Sp5c+a6RA\n",
       "JTxI2ob0KMrhGgW1/MF8XdUVTuuZbiK+krGn0YlXY51L3Ma0K57iJLfEoV8hRqxieduId5yQvsia\n",
       "lvq+nLSwE5xKE+5qyDFbVRSCgZ05Kad9SJtbgr/PyfUOy3BPhkZOo3EKu6paxb9SzJwqx6nswOED\n",
       "ruR6ThViYbq8RM85lauiF1zUtbkO7PLJ5m23x0kvT8obEjT5g+YdJ4a0IiyjnlN+Gf+Ci3rSQcmZ\n",
       "Up9Jyg8VGT0YODf7zpuCN624QMcJa37lB05b0iwOt1lln58HccXCKeioiixx51Tars8WJ/qDBqbM\n",
       "DvhJz+C2FTpOnO3PoZnrfa+nraGYeyi0wvMmEaKUhnkA+PUbYmswKZyL/cCJa5pSrlO9LxOG6v1T\n",
       "HPqdqdbZahC9JJ9eUmui1or8T8Soy++i55ig3PWcojhA+nnPSfOxAlo/4uqw2ajqyyZUIXAxBX6L\n",
       "jsRCnDijnn/+QtIzCzCFqPhcxXKRR8SMhdE/9SyZb/39+FQoQxPCtmCnRC+F19auOkbKtJE2Uax3\n",
       "ad7tu9Q7J28NJztyIndqzGwDq9Yr2DfHhtGMgqqnE6ldHoKpXdzhs8uGc/1dedf3zSbV24OmlmP9\n",
       "J2eWiKlHvNbY6ujrpeLieamARiW4sOrIlkZ1QkpPJbFvTzYL7E+dTm24zskEdzq4g2Xk1IMUSEG5\n",
       "9oyzm88voLk91+HFdc63YzFfbwI134w9edYv9yMaN0X2BuYP7kcgJNApTcQDx67BCn5yfrckT0ry\n",
       "1P190yhXyj+rXBYjC+ZoxQAAAABJRU5ErkJggg==\n",
       "\" style=\"display:inline;vertical-align:middle;\" /></a><br>(see <a class=\"ProveItLink\" href=\"../../../__pv_it/theorems/2f7ad6e3d68ea370da1bd059e1742a41a48d34740/dependencies.ipynb\">dependencies</a>)<br>"
      ],
      "text/plain": [
       "<IPython.core.display.HTML object>"
      ]
     },
     "metadata": {},
     "output_type": "display_data"
    },
    {
     "name": "stdout",
     "output_type": "stream",
     "text": [
      "abs_rational_nonzero_closure may now be readily provable (assuming required theorems are usable).  Simply execute \"%qed\".\n"
     ]
    }
   ],
   "source": [
    "%proving abs_rational_nonzero_closure"
   ]
  },
  {
   "cell_type": "code",
   "execution_count": null,
   "metadata": {},
   "outputs": [],
   "source": []
  }
 ],
 "metadata": {
  "kernelspec": {
   "display_name": "Python 3",
   "language": "python",
   "name": "python3"
  }
 },
 "nbformat": 4,
 "nbformat_minor": 0
}