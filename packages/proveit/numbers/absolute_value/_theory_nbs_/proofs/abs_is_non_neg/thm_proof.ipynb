{
 "cells": [
  {
   "cell_type": "markdown",
   "metadata": {},
   "source": [
    "Proof of <a class=\"ProveItLink\" href=\"../../../../../_theory_nbs_/theory.ipynb\">proveit</a>.<a class=\"ProveItLink\" href=\"../../../../_theory_nbs_/theory.ipynb\">numbers</a>.<a class=\"ProveItLink\" href=\"../../theory.ipynb\">absolute_value</a>.<a class=\"ProveItLink\" href=\"../../theorems.ipynb#abs_is_non_neg\">abs_is_non_neg</a> theorem\n",
    "========"
   ]
  },
  {
   "cell_type": "code",
   "execution_count": 1,
   "metadata": {},
   "outputs": [],
   "source": [
    "import proveit\n",
    "theory = proveit.Theory() # the theorem's theory"
   ]
  },
  {
   "cell_type": "code",
   "execution_count": 2,
   "metadata": {},
   "outputs": [
    {
     "data": {
      "text/html": [
       "With these <a href=\"allowed_presumptions.txt\">allowed</a>/<a href=\"disallowed_presumptions.txt\">disallowed</a> theorem/theory presumptions (e.g., to avoid circular dependencies), we begin our proof of<br><strong id=\"abs_is_non_neg\">abs_is_non_neg:</strong> <a class=\"ProveItLink\" href=\"../../../__pv_it/theorems/0c910be313edfb6680c9cba73afb7fb911772bd30/expr.ipynb\"><img src=\"data:image/png;base64,iVBORw0KGgoAAAANSUhEUgAAAH8AAAAVBAMAAACd/CwcAAAAMFBMVEX///8AAAAAAAAAAAAAAAAA\n",
       "AAAAAAAAAAAAAAAAAAAAAAAAAAAAAAAAAAAAAAAAAAAv3aB7AAAAD3RSTlMAq1RmmUTNIjK7EInv\n",
       "3XZ/CtNrAAAACXBIWXMAAA7EAAAOxAGVKw4bAAACHklEQVQ4y4WUwWvUQBTGv2a7m2S6G/YvKAEP\n",
       "e7LdQ/Gwal1YFUHEhV482S0KUk/pXZd4EIUe2kIPRkFHBEEqurSKiFB6a0sRehAqlJWtCApeiige\n",
       "BPHNJBnSzdhMCLzMy/tl3vfeC3DYMumKlqfze8hYnzHUjMzXOv9lusvCOKKPNzqHAN598eBUgTPi\n",
       "4Zoe8BR9AHZF+Qou2wGuA7dEqvN6QKMfgKVPse8k8BYYIxKnt1w9YC0FgLPLQ2MBGOUocuQojcJ/\n",
       "JGilAchFhJ/AnIsCRb/vdrf0gMFOCJhZbSdENK6K4jEBqGKIanAOuK8HCDwB8ut4xBNVyE/RGcw/\n",
       "BOghR4ecgVlOhjmLw+3QKrkS8LyKC8ky5qdjQAcGyWRzlae1FzTZgmc8CB+LTQm4COwmU5iSKRBg\n",
       "sgdrnzZ6SsPTPkW8AI4fAGyC/UqI+EGJOOoiTydAa1wUePyN7Cs8uY14AMIU2F/k9tNlDIBTHMY2\n",
       "mcvUTmzH+o1nwlGpqGTtngT8wECrkmqkE8BZOo9owRuk4WDdWsOEcNRqCiBqRCk8xNF6PdXKJZdt\n",
       "hJXGgC/Sdco4FgSBe/eSesfaloDH3+8M+6lhYuf3KK4U6//Ss2t8Vn6WRGTR7kdkjDNuxkbRm5vg\n",
       "ttDHfOVhNdodywQ0VHM0RlZg3pM6TS/6sYpe/zh35fLVH6tvjJeCoHkgz/mME9hZ/7Q2nPhr33T+\n",
       "r8A/APWPaGFvaMwAAAAASUVORK5CYII=\n",
       "\" style=\"display:inline;vertical-align:middle;\" /></a><br>(see <a class=\"ProveItLink\" href=\"../../../__pv_it/theorems/76bf703d95d3de793ab1127f6827b1e89a75e4550/dependencies.ipynb\">dependencies</a>)<br>"
      ],
      "text/plain": [
       "<IPython.core.display.HTML object>"
      ]
     },
     "metadata": {},
     "output_type": "display_data"
    },
    {
     "name": "stdout",
     "output_type": "stream",
     "text": [
      "abs_is_non_neg may now be readily provable (assuming required theorems are usable).  Simply execute \"%qed\".\n"
     ]
    }
   ],
   "source": [
    "%proving abs_is_non_neg"
   ]
  },
  {
   "cell_type": "code",
   "execution_count": null,
   "metadata": {},
   "outputs": [],
   "source": []
  }
 ],
 "metadata": {
  "kernelspec": {
   "display_name": "Python 3",
   "language": "python",
   "name": "python3"
  }
 },
 "nbformat": 4,
 "nbformat_minor": 0
}