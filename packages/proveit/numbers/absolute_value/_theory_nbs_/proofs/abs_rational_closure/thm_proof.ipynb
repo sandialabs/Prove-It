{
 "cells": [
  {
   "cell_type": "markdown",
   "metadata": {},
   "source": [
    "Proof of <a class=\"ProveItLink\" href=\"../../../../../_theory_nbs_/theory.ipynb\">proveit</a>.<a class=\"ProveItLink\" href=\"../../../../_theory_nbs_/theory.ipynb\">numbers</a>.<a class=\"ProveItLink\" href=\"../../theory.ipynb\">absolute_value</a>.<a class=\"ProveItLink\" href=\"../../theorems.ipynb#abs_rational_closure\">abs_rational_closure</a> theorem\n",
    "========"
   ]
  },
  {
   "cell_type": "code",
   "execution_count": 1,
   "metadata": {},
   "outputs": [],
   "source": [
    "import proveit\n",
    "theory = proveit.Theory() # the theorem's theory"
   ]
  },
  {
   "cell_type": "code",
   "execution_count": 2,
   "metadata": {},
   "outputs": [
    {
     "data": {
      "text/html": [
       "With these <a href=\"allowed_presumptions.txt\">allowed</a>/<a href=\"disallowed_presumptions.txt\">disallowed</a> theorem/theory presumptions (e.g., to avoid circular dependencies), we begin our proof of<br><strong id=\"abs_rational_closure\">abs_rational_closure:</strong> <a class=\"ProveItLink\" href=\"../../../__pv_it/theorems/24c71474d6c68a53104bc0df85781f9960fba0a20/expr.ipynb\"><img src=\"data:image/png;base64,iVBORw0KGgoAAAANSUhEUgAAAJ0AAAAaBAMAAABfvUOFAAAAMFBMVEX///8AAAAAAAAAAAAAAAAA\n",
       "AAAAAAAAAAAAAAAAAAAAAAAAAAAAAAAAAAAAAAAAAAAv3aB7AAAAD3RSTlMAq1RmmUTNIjK7EInv\n",
       "3XZ/CtNrAAAACXBIWXMAAA7EAAAOxAGVKw4bAAAC0UlEQVRIx6WVTWgTQRTH/83XfiVpCiKKIisR\n",
       "FAQJCiJFaksVawVJqQcropEeBA+6FfFioREvQsUWvyMoe5PaQ4JBahGkIKIiQoWieAhMD2IPUryo\n",
       "kJNvZme32cRtIg5kMnl585v3OQP851DviC/jZakV7XC2qcr0TT53YQiR5rwtLZyZvEXTW7RbymQz\n",
       "VT0HWHKtBDvxCEoVcZOMbDK0DPBMro1616cLhYMS+EatIpFBwgZSXJAO4I0imJfcmFc+iiTos1ni\n",
       "xRmSBDvAJWcCeIdX4ZXLwNEhHoiePPe33YReBa5wSVAgfwbz1BLFVgszKB15mQ9gGIiRz4YZUFvV\n",
       "Rl7yYeWTCO0Tcs7I5/Q1ImHLGKD5EMWSQh4LqoT5Bl70nO38nFIZEDL7dFvWcz/N3+nzoVJ5H8Br\n",
       "yzk8ZcM3JnmXJA7jUTIkmtnp23CK/u0DHgSVy6TDO2FpVcnzMncyTEFSmb8yJiiUI1BSvrK63eGW\n",
       "cCwlePorROYlL+eqXQ4J+76qBRr3pHCMdDTby5y6WMgqL2C4TiS6BS/yA4mSw1MpOpUvwnYnfv0+\n",
       "+4qkE2JeOvaTucYF6Lssn33xSa4oeLpXWdpjJ78+3hgvnRxvu+muGSTJA1zbCjDm4xUZ9rn5nXe3\n",
       "Rp3681faBDfk6Vk697P6G1Nc1JlZ4bU5+SiaWBuyHN6yt7eX+mNgCA35xShZEelW5zDIRZzF5N2Y\n",
       "nBM8jYUWItK+mGeQwfu328/bK6wgp+NZ6uXdlCnzWI2/Uac/9E3PR5YkT19/3N188df5vroC6/ES\n",
       "Y2md9rg4tiYfeN3Yb9FZp99orAuzOt6wu4hbE4O2ZouagZFu5X4hx9jiNp+Q3y/Ss94dZSj3RT0v\n",
       "nM674uur8rD57ruM76JONdy4tGnm6ooF5qq8+pGw/iaNpI9ka96PJfeyyTflBbwfN/Z4y+3/8hQ3\n",
       "f99aeX9rHKN8/gEYPLt+39qS/wAAAABJRU5ErkJggg==\n",
       "\" style=\"display:inline;vertical-align:middle;\" /></a><br>(see <a class=\"ProveItLink\" href=\"../../../__pv_it/theorems/e6e5392bac31d05959f35158f5a0daf982e260520/dependencies.ipynb\">dependencies</a>)<br>"
      ],
      "text/plain": [
       "<IPython.core.display.HTML object>"
      ]
     },
     "metadata": {},
     "output_type": "display_data"
    },
    {
     "name": "stdout",
     "output_type": "stream",
     "text": [
      "abs_rational_closure may now be readily provable (assuming required theorems are usable).  Simply execute \"%qed\".\n"
     ]
    }
   ],
   "source": [
    "%proving abs_rational_closure"
   ]
  },
  {
   "cell_type": "code",
   "execution_count": null,
   "metadata": {},
   "outputs": [],
   "source": []
  }
 ],
 "metadata": {
  "kernelspec": {
   "display_name": "Python 3",
   "language": "python",
   "name": "python3"
  }
 },
 "nbformat": 4,
 "nbformat_minor": 0
}