{
 "cells": [
  {
   "cell_type": "markdown",
   "metadata": {},
   "source": [
    "Proof of <a class=\"ProveItLink\" href=\"../../../../../_theory_nbs_/theory.ipynb\">proveit</a>.<a class=\"ProveItLink\" href=\"../../../../_theory_nbs_/theory.ipynb\">numbers</a>.<a class=\"ProveItLink\" href=\"../../theory.ipynb\">absolute_value</a>.<a class=\"ProveItLink\" href=\"../../theorems.ipynb#abs_frac\">abs_frac</a> theorem\n",
    "========"
   ]
  },
  {
   "cell_type": "code",
   "execution_count": 1,
   "metadata": {},
   "outputs": [],
   "source": [
    "import proveit\n",
    "theory = proveit.Theory() # the theorem's theory"
   ]
  },
  {
   "cell_type": "code",
   "execution_count": 2,
   "metadata": {},
   "outputs": [
    {
     "data": {
      "text/html": [
       "With these <a href=\"allowed_presumptions.txt\">allowed</a>/<a href=\"disallowed_presumptions.txt\">disallowed</a> theorem/theory presumptions (e.g., to avoid circular dependencies), we begin our proof of<br><strong id=\"abs_frac\">abs_frac:</strong> <a class=\"ProveItLink\" href=\"../../../__pv_it/theorems/edc9a6817eb5ddeb72b8f9cd8b6f918df4fe39b40/expr.ipynb\"><img src=\"data:image/png;base64,iVBORw0KGgoAAAANSUhEUgAAAOEAAAAyCAMAAACdx0zJAAAAQlBMVEX///8AAAAAAAAAAAAAAAAA\n",
       "AAAAAAAAAAAAAAAAAAAAAAAAAAAAAAAAAAAAAAAAAAAAAAAAAAAAAAAAAAAAAAAAAACGKEuzAAAA\n",
       "FXRSTlMAq1RmmUTNIjK7EInv3Xbt5cmv+fNf8ZbKAAAACXBIWXMAAA7EAAAOxAGVKw4bAAAERElE\n",
       "QVRo3s2aibKbIBRAWWWn7Wv5/18toCKbicZEwkw70XB9ntyVCwAMHYJffADrX0shwVcMiK8+QdH+\n",
       "NTdfgQgV+BQhQOYLAPEEPkcIFBwOyDT7JCEweDShsesn0p9ArhEiPdgVsU4fdX+GvkYIJjKWUKsW\n",
       "hUFlmT1PuMnlhNSxkYDWyYaQBs8U6YvDhJlcodNpaLAxsDFHqUNsIOasDnO5ghC5gZ7IHW8IiYvo\n",
       "6ixhLlcQSmcHJnvdhhQt4lvRs4S5XBl5xMC0r2FDOP/i2J2NpYVcSYjHxRrucIcQBeVOALGThJlc\n",
       "SSjdsKxvix93QRE2lJMkZfqjVprLVflRD4umQndSu4RWcQYtPxtLM7mKMDjiBolu1GgMDp+uacKl\n",
       "906Sbk33eaV05B5C7CMsX5XIxJ2BpkhUP/1ZP9cJ4x+alryv0H2EyKF7dBiNBS/uN90YaLDjbyK0\n",
       "/PG1CyaqTRha3UhYJosrhM+GC75HIvatzSlVlsRPCYnJxqkUp6e4uFr/e2U8WGXu/2bkJOGFJYxZ\n",
       "1Vd7bAxEUxterSAwW6R64d358yOVsq39Q9dBcds4Suj6IyeMD0F2J86kbh+3UIhQPQjoHQgJ1SUs\n",
       "u4OzVWD/bCoOEX5Gh3oJo7i7kNJLYCJk+aBknId3CHUeyCBLt5oKn9zmh7OV+lS4JkWpsFVsS5cW\n",
       "+i/sWs5JzGdjZn0rXebPHYn4K7CIolETae6KpXo2TraW4NIw/57rX7dGAku8aaZEzVBT2WWEy3wi\n",
       "wvjl/2H/sEDYdC7t2/JhtXHB9tahMJmj10R6sH/D0Jem6f2wxPIB4TJ/ZsCLWqMO7ccyfhUim4Dp\n",
       "qliv/QQLc7ci0L90VIpAgHPKHxAu86MxLLdnK3WoqdqKN/m7eoHQpnP7+fIpydWE0qnqOnTlsFwU\n",
       "5WYX4tukJdLkmS4jXOYHK/39R0Qr3Yk05RIf/Nv6f6R7+6kOV7makNe9KB3ckHpTlIHKuxUWRbnD\n",
       "FAkvq/r5cJ0PtgULsCFbtNFvb/VUaPuEla5yNSGqzYcSjKzCwRn9N5xYO6+rkm1K5U2W8L6VrvOL\n",
       "EtBnfNIWN2bqEtIiixwnTHI1oX3QisrZpQo2R/v9iJ7s0zYl1F1CZV6LNEmuJqxKi0KbRwvxHuHz\n",
       "hRjuK2uCPqOi84RJribU+8v6wz2bziMQPbDI7zmcdL7ykMmwDhNuchUhe0fT+8XmTqcjvO4zpOx5\n",
       "mHCTa9o043afSKerD0g075TCDhNuchUhHNjVp3nOX1Hi5gpNBnyYcJOrCEfuzABDWsLIRk7tH0am\n",
       "Ta7ethi5z407O6ShWp03A08SJrmS0Iw9jtHZ5Q4HiAQ5nw83uYJw8C53rsS1RpJQkSxN8aOEm1xB\n",
       "KEafqJne0r/cXz1RN/rgF3/HiaEHhAaB0cOKTxJ+wamvt5zc2yWkE/iGMV03pHKjIl3x6UsOmF4+\n",
       "Qbsz5Ab4H+XIK6il9bN1AAAAAElFTkSuQmCC\n",
       "\" style=\"display:inline;vertical-align:middle;\" /></a><br>(see <a class=\"ProveItLink\" href=\"../../../__pv_it/theorems/cf428abf0b643005dbc8328f04e5a0f9276cd25a0/dependencies.ipynb\">dependencies</a>)<br>"
      ],
      "text/plain": [
       "<IPython.core.display.HTML object>"
      ]
     },
     "metadata": {},
     "output_type": "display_data"
    }
   ],
   "source": [
    "%proving abs_frac"
   ]
  },
  {
   "cell_type": "code",
   "execution_count": null,
   "metadata": {},
   "outputs": [],
   "source": []
  }
 ],
 "metadata": {
  "kernelspec": {
   "display_name": "Python 3",
   "language": "python",
   "name": "python3"
  }
 },
 "nbformat": 4,
 "nbformat_minor": 0
}