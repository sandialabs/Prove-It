{
 "cells": [
  {
   "cell_type": "markdown",
   "metadata": {},
   "source": [
    "Proof of <a class=\"ProveItLink\" href=\"../../../../../_theory_nbs_/theory.ipynb\">proveit</a>.<a class=\"ProveItLink\" href=\"../../../../_theory_nbs_/theory.ipynb\">numbers</a>.<a class=\"ProveItLink\" href=\"../../theory.ipynb\">absolute_value</a>.<a class=\"ProveItLink\" href=\"../../theorems.ipynb#triangle_inequality\">triangle_inequality</a> theorem\n",
    "========"
   ]
  },
  {
   "cell_type": "code",
   "execution_count": 1,
   "metadata": {},
   "outputs": [],
   "source": [
    "import proveit\n",
    "theory = proveit.Theory() # the theorem's theory"
   ]
  },
  {
   "cell_type": "code",
   "execution_count": 2,
   "metadata": {},
   "outputs": [
    {
     "data": {
      "text/html": [
       "With these <a href=\"allowed_presumptions.txt\">allowed</a>/<a href=\"disallowed_presumptions.txt\">disallowed</a> theorem/theory presumptions (e.g., to avoid circular dependencies), we begin our proof of<br><strong id=\"triangle_inequality\">triangle_inequality:</strong> <a class=\"ProveItLink\" href=\"../../../__pv_it/theorems/a55ee7f3e37c8c1ffc774ff2cdbc814bb081535a0/expr.ipynb\"><img src=\"data:image/png;base64,iVBORw0KGgoAAAANSUhEUgAAAPkAAAAWBAMAAADwcyf0AAAAMFBMVEX///8AAAAAAAAAAAAAAAAA\n",
       "AAAAAAAAAAAAAAAAAAAAAAAAAAAAAAAAAAAAAAAAAAAv3aB7AAAAD3RSTlMAq1RmmUTNIjK7EInv\n",
       "3XZ/CtNrAAAACXBIWXMAAA7EAAAOxAGVKw4bAAADIklEQVRIx72WTWgTQRTHX3bTJLvZfODBS6As\n",
       "CPYgyB6KYIQaiIIgaKAXD2KjHrSetuBRy3oQBBUjFDQqsqIIJWjiF3pRAiIIIhQtWNTI1kt6kp4U\n",
       "ehBn5u3sZrIfxosTHi878/7z252ZNzMAIxST/CJKOqwqHdGY9pwJEN2nWPI6PItqy9YCVd+9yuFG\n",
       "95m4I8RRK9LnLbH0bRBKV28thdGlTgyda/IGMNtLq0/EwdV6OB1SFQEgYS/3Ie7bueYUMDtHJ6IR\n",
       "R08aQ/QxA31BHwTIyzbz1SCdC8gz10wCsxTRZPU4ugZDdMlBP2MP0PNfEA7dIJ0LyDPXaDYzmbxX\n",
       "Knbat0bRXw4AWt94Yz2WzjUpA+19r/culr4f6elS3xE7O/pjEwfc++jNU4d1z6JD6FyTLaLtA7gR\n",
       "Sz+O9MOmsiF0pv602yYC7hzzl6LBKCw6SPc0ch1tDtJFLs3Mejm+MD7v/v3A6OprSC4JnUkboDkI\n",
       "SPj0HFtWGB2kexqpi6bYA4lRoq+w2qypV03pplv3htGT65Dr0JHt9b6SySIvnKxDoeNqT3sjr9Fh\n",
       "rWE0a/QFtJ5rMutokjOw6N4S22ORuIcAuwS61oC2+Cmk+xk9sOqQjtHBb/c0Y100qE9R9dRz+tm/\n",
       "V226BcHd8/4ujSPfdmC3uOZJ6h60AxmHI4/RQbqnkZbQ4DHZc9RPmV+0i8/5yiKNm5jwx+M20nXY\n",
       "LJkC3SKzG9htFIfRWXQInWvkBhqcoXNYydBhUAy5Pk3jymWf/ojRFUdaTgqdJQylIuy0JxmBplIN\n",
       "o4N0T0MTkxokLDpbebosNCtZ3NFsNvULh3z6ZVzz4y/m1sSMK1VDTpkMO0YwOiTjuCbnGittUymT\n",
       "gSuApl9kcWTVqTyHrIi9LvyEXYnd67g7C2i4Us0r03YLcvZOkoH03Hlqwis+oZWIUyacPhl7ynBX\n",
       "xfPIba9ufwKX9MwBB9LXWQbNLli88Rr87XbxoEfLCqtRzBFuF/RUHT5Z8ahrNZuiahH+5W6jNkag\n",
       "k1dkNjiidsTdzYG1yFuXFaia9yqHG91n4vrE9cVGGf53+QPgmgUHAeDiggAAAABJRU5ErkJggg==\n",
       "\" style=\"display:inline;vertical-align:middle;\" /></a><br>(see <a class=\"ProveItLink\" href=\"../../../__pv_it/theorems/3b8663d8ac9e36640107134f29ec51a0e03184ac0/dependencies.ipynb\">dependencies</a>)<br>"
      ],
      "text/plain": [
       "<IPython.core.display.HTML object>"
      ]
     },
     "metadata": {},
     "output_type": "display_data"
    }
   ],
   "source": [
    "%proving triangle_inequality"
   ]
  },
  {
   "cell_type": "code",
   "execution_count": null,
   "metadata": {},
   "outputs": [],
   "source": []
  }
 ],
 "metadata": {
  "kernelspec": {
   "display_name": "Python 3",
   "language": "python",
   "name": "python3"
  }
 },
 "nbformat": 4,
 "nbformat_minor": 0
}