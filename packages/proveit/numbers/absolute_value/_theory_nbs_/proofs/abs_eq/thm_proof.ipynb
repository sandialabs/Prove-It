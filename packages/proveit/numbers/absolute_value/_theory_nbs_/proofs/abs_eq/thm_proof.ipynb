{
 "cells": [
  {
   "cell_type": "markdown",
   "metadata": {},
   "source": [
    "Proof of <a class=\"ProveItLink\" href=\"../../../../../_theory_nbs_/theory.ipynb\">proveit</a>.<a class=\"ProveItLink\" href=\"../../../../_theory_nbs_/theory.ipynb\">numbers</a>.<a class=\"ProveItLink\" href=\"../../theory.ipynb\">absolute_value</a>.<a class=\"ProveItLink\" href=\"../../theorems.ipynb#abs_eq\">abs_eq</a> theorem\n",
    "========"
   ]
  },
  {
   "cell_type": "code",
   "execution_count": 1,
   "metadata": {},
   "outputs": [],
   "source": [
    "import proveit\n",
    "theory = proveit.Theory() # the theorem's theory"
   ]
  },
  {
   "cell_type": "code",
   "execution_count": 2,
   "metadata": {},
   "outputs": [
    {
     "data": {
      "text/html": [
       "With these <a href=\"allowed_presumptions.txt\">allowed</a>/<a href=\"disallowed_presumptions.txt\">disallowed</a> theorem/theory presumptions (e.g., to avoid circular dependencies), we begin our proof of<br><strong id=\"abs_eq\">abs_eq:</strong> <a class=\"ProveItLink\" href=\"../../../__pv_it/theorems/ddf4164bdcf6f16109fa7644b07c22a0ad9bc49f0/expr.ipynb\"><img src=\"data:image/png;base64,iVBORw0KGgoAAAANSUhEUgAAAM0AAAAXBAMAAABaN9YTAAAAMFBMVEX///8AAAAAAAAAAAAAAAAA\n",
       "AAAAAAAAAAAAAAAAAAAAAAAAAAAAAAAAAAAAAAAAAAAv3aB7AAAAD3RSTlMAq1RmmUTNIjK7EInv\n",
       "3XZ/CtNrAAAACXBIWXMAAA7EAAAOxAGVKw4bAAACuUlEQVRIx7WWT2jTcBTHv2mSNk27LleZlMDE\n",
       "HVTsQQQnjEKVCTopDkQQtqIH0VO8jjnqQRCd2LGhVmEEFXRUShW3izB6EQRRpiB4qaRQ2fzDGHgY\n",
       "9OT7/ZKmtgtdifoKyeP3/eV98n6/93sp8Fdm0M91Wy3kMcevxXQsNvzFNi2SdoUxumrM7ffJ2YOu\n",
       "OLEEcJS5F/xh1Ex3HFwCrrKlzPnjSIkuOQeAoElDuj9OFF1yoiZEeqegz+3Z3S0nSJB3lcpbn5zj\n",
       "dpRi9ekr3YtTTEHVmBChajsG3O+0Bx208zYnGYtLKzZnpMLsg8Mp7YW4wQSRCuYyQprX0ZiLT7F7\n",
       "uAPnI+eIhlgXEh75KPoIhBwTAmUKZLor6ZhSzafVGSPwYDvOa85RIGU890fFe0QtJigbxLLay+BI\n",
       "lmYVgcPdccCCedaBXMftLBNkygeZIbqsD9eoC8lVCPz04tE1p0PZnFhtath5fkyD1rJuwLihml77\n",
       "Q3n+5DMCKzTwgk5rzNgRpENU7DWnscBmDQw4sWzOqpA7J+XJZlWrrpQdbZ5zFtI7EfHMJ6xhhgsi\n",
       "awST9Hoi5hVyJ/bhG0bZrMHBFk4ibGWdNvxwJdZoH885Z/+NEzjlyZE0+RcXpBINCDzCJhf7EMdB\n",
       "em39+pkWDnrd3i6UBMtxb3HO4/VASvfkqH21TS70uJWmlPlufMIb3OSzqA7UPzjTMOx1o2eiTmro\n",
       "yW7XDyJ2p73SGJyMZCQUgM/yBhU6W56XBpZdTqi8hKQbfLzxlJjszFnCMzvRlHvqvy5/x7SOXYcy\n",
       "CN1jI4WLc9lmPifPrpvO1EDqjhvrbmfOF9oHJrR/D3TVCFNRF/L55sndcn6eYNb1Fzpz+mtpLoRb\n",
       "P9yyKVin28Nu4cTlTPM/gIW1hr/W3riyrrDaqoiQh0rbckZ/4H9Y6N+E+Q0tIsgJnS2w8gAAAABJ\n",
       "RU5ErkJggg==\n",
       "\" style=\"display:inline;vertical-align:middle;\" /></a><br>(see <a class=\"ProveItLink\" href=\"../../../__pv_it/theorems/9763e0bdf84de5caa20dbbe6745749c7e51ed2f40/dependencies.ipynb\">dependencies</a>)<br>"
      ],
      "text/plain": [
       "<IPython.core.display.HTML object>"
      ]
     },
     "metadata": {},
     "output_type": "display_data"
    }
   ],
   "source": [
    "%proving abs_eq"
   ]
  },
  {
   "cell_type": "code",
   "execution_count": null,
   "metadata": {},
   "outputs": [],
   "source": []
  }
 ],
 "metadata": {
  "kernelspec": {
   "display_name": "Python 3",
   "language": "python",
   "name": "python3"
  }
 },
 "nbformat": 4,
 "nbformat_minor": 0
}