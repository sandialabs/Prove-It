{
 "cells": [
  {
   "cell_type": "markdown",
   "metadata": {},
   "source": [
    "Proof of <a class=\"ProveItLink\" href=\"../../../../../_theory_nbs_/theory.ipynb\">proveit</a>.<a class=\"ProveItLink\" href=\"../../../../_theory_nbs_/theory.ipynb\">numbers</a>.<a class=\"ProveItLink\" href=\"../../theory.ipynb\">absolute_value</a>.<a class=\"ProveItLink\" href=\"../../theorems.ipynb#strict_upper_bound\">strict_upper_bound</a> theorem\n",
    "========"
   ]
  },
  {
   "cell_type": "code",
   "execution_count": 1,
   "metadata": {},
   "outputs": [],
   "source": [
    "import proveit\n",
    "theory = proveit.Theory() # the theorem's theory"
   ]
  },
  {
   "cell_type": "code",
   "execution_count": 2,
   "metadata": {},
   "outputs": [
    {
     "data": {
      "text/html": [
       "With these <a href=\"allowed_presumptions.txt\">allowed</a>/<a href=\"disallowed_presumptions.txt\">disallowed</a> theorem/theory presumptions (e.g., to avoid circular dependencies), we begin our proof of<br><strong id=\"strict_upper_bound\">strict_upper_bound:</strong> <a class=\"ProveItLink\" href=\"../../../__pv_it/theorems/49f48e9989e086c21865fa6968f0ff9bebdc16030/expr.ipynb\"><img src=\"data:image/png;base64,iVBORw0KGgoAAAANSUhEUgAAAOIAAAAXBAMAAADkYY5OAAAAMFBMVEX///8AAAAAAAAAAAAAAAAA\n",
       "AAAAAAAAAAAAAAAAAAAAAAAAAAAAAAAAAAAAAAAAAAAv3aB7AAAAD3RSTlMAq1RmmUTNIjK7EInv\n",
       "3XZ/CtNrAAAACXBIWXMAAA7EAAAOxAGVKw4bAAACtElEQVRIx62WTWgTQRTH/0022WQ3SevFiyAR\n",
       "QRA/KIhiPcRIkVo8uOBJ7KFYRPC0hSIIHuJRqDQHIagge1QKJlrEehFBPKgopbZ4kJaFHqweRPAg\n",
       "eBBn5s3MftIU3AmbN/Pmzfx237z3doFsm8t+1My0aRNZt1odz2TXdlLmCz4wxDt7syIewNZEbACn\n",
       "ubySEdCa7EcserjJvdvOiGgM9yPmmxwKu54RsYJUYi7kw3fIs9sqZnWM+1KJ+RUvMJkCPqytvc+K\n",
       "eJaI5q6vfkCsfZFA+8dx4AlwBrgXPw7pDDcU9tsiThFxwi3/0cT5dZWLyxgHjgHTMIdiC8skjoZ1\n",
       "ze0QlwXReg1jSRFnPqnJag8fgYNsey8RVUS0IjdyUcZ/MiNC/TeCaPzku9OuA5f05Dnh3DnmOz8R\n",
       "OEQ0nFgicc+c8uJ1K6whYqWNrpMkvhX/E+yabHBvN56Lw93wNbEa7PSyQRlU2uFqUxJCQ6u0V7s+\n",
       "TiLhVeuvEIfY9fQqG34u/ebj1dIrTbymgVVnFjl2kIU7rjYlITRyFWsPiFjHzpybiJxfzBwYYb0b\n",
       "7LyMplhktK2WJl7QxHE8RKGNwn3uQGXKhdTQKojQZ8Syn1sxgux4vO7JXbBICTTAzCtOjcdJxQmd\n",
       "4x7ms7usdcTxlNqYFaVJmzKhNOrWblOs7l6c3gxXAEpIe6HB5KpUdt3yCTYcdEPEW/oZuReZV60X\n",
       "9cBUCNIM6ryttlKrXD6ocuaSKoju3HlvHkUHvZTIuQwbNR4c34a1qRCkkauoTvep5LzW05ty9PAC\n",
       "85E5yh9cEsv61meOfJejkWFlKgRp5CreOv2I16PDeiQfC73w3CMS+92oaaBRVlsTO9FPAi9a5cbC\n",
       "k2PppvF64GNTVeJW2leJG31bxuqqHdo276SbZtTUF5eXXj3/r/0Dd3y03LvTJLoAAAAASUVORK5C\n",
       "YII=\n",
       "\" style=\"display:inline;vertical-align:middle;\" /></a><br>(see <a class=\"ProveItLink\" href=\"../../../__pv_it/theorems/caaacf7e910470c6a89bb2cf9c6db846e49d67b60/dependencies.ipynb\">dependencies</a>)<br>"
      ],
      "text/plain": [
       "<IPython.core.display.HTML object>"
      ]
     },
     "metadata": {},
     "output_type": "display_data"
    }
   ],
   "source": [
    "%proving strict_upper_bound"
   ]
  },
  {
   "cell_type": "code",
   "execution_count": null,
   "metadata": {},
   "outputs": [],
   "source": []
  }
 ],
 "metadata": {
  "kernelspec": {
   "display_name": "Python 3",
   "language": "python",
   "name": "python3"
  }
 },
 "nbformat": 4,
 "nbformat_minor": 0
}