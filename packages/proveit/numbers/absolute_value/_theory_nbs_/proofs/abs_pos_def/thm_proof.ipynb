{
 "cells": [
  {
   "cell_type": "markdown",
   "metadata": {},
   "source": [
    "Proof of <a class=\"ProveItLink\" href=\"../../../../../_theory_nbs_/theory.ipynb\">proveit</a>.<a class=\"ProveItLink\" href=\"../../../../_theory_nbs_/theory.ipynb\">numbers</a>.<a class=\"ProveItLink\" href=\"../../theory.ipynb\">absolute_value</a>.<a class=\"ProveItLink\" href=\"../../theorems.ipynb#abs_pos_def\">abs_pos_def</a> theorem\n",
    "========"
   ]
  },
  {
   "cell_type": "code",
   "execution_count": 1,
   "metadata": {},
   "outputs": [],
   "source": [
    "import proveit\n",
    "theory = proveit.Theory() # the theorem's theory"
   ]
  },
  {
   "cell_type": "code",
   "execution_count": 2,
   "metadata": {},
   "outputs": [
    {
     "data": {
      "text/html": [
       "With these <a href=\"allowed_presumptions.txt\">allowed</a>/<a href=\"disallowed_presumptions.txt\">disallowed</a> theorem/theory presumptions (e.g., to avoid circular dependencies), we begin our proof of<br><strong id=\"abs_pos_def\">abs_pos_def:</strong> <a class=\"ProveItLink\" href=\"../../../__pv_it/theorems/8167247901a95c1d30a12b1b36f9ee61fa4b0f8d0/expr.ipynb\"><img src=\"data:image/png;base64,iVBORw0KGgoAAAANSUhEUgAAAPIAAAAVBAMAAACOB66tAAAAMFBMVEX///8AAAAAAAAAAAAAAAAA\n",
       "AAAAAAAAAAAAAAAAAAAAAAAAAAAAAAAAAAAAAAAAAAAv3aB7AAAAD3RSTlMAq1RmmUTNIjK7EInv\n",
       "3XZ/CtNrAAAACXBIWXMAAA7EAAAOxAGVKw4bAAADYklEQVRIx4VWX0hTURj/ebe5uztne4pAkEGQ\n",
       "D2X6IEJWOjArEGngSw9SUg+RT9eXIChbD1ES4QShVmA3ikC0nJVUBMOIqKxgRaFQwqxAoxexIjCQ\n",
       "vu+e4+Z2z10Xvss5536/8/v+ne9coNTjF2LKqemmo3hM101Nd1D++SJkUk4nVTq+rGq1MuK66SEJ\n",
       "CvNks1pHSwlxZQ6m9wFfVdCt6h2ffDNRWQ8b1MYLx9R6t6W4Mh/BHRPllhNpdCs3LI8YM0APjyyc\n",
       "5agn1MytUtyYPRkEE/BEnUhvvXLD3cBjoIGhUdvioEtSpqS4MQfC0FaAaTklP/WwGFaoNxwE6ixU\n",
       "cJCm4SHryl3S3C3ElXlDFPoycFQWFft5RYy3qHf8BQxEUM6KBHo7N/daredNCWHG3nSfk3mcmH8C\n",
       "E2LWb5eGSHo757BqoajsDWauR5ADQ6D9wFU1M9tm2zcJ3wtctwSzd85+GH0mBX0VaLS19Te8/LnH\n",
       "nnAYuszACo87bP13bMtfYs7Cw3EkUC/84YKTOFTdJ0ahiBBiHKtHh9NnZqbNttmT78Lbfrtm3pOD\n",
       "z+DNFDUdZk5B49ohUMAKxuQXfT4ZMwZN7Zosk5gQYjwAfFJEOwUf+TzA4zFpvvGU388pNksIpYqi\n",
       "TcyHs9CXYIO0bK7A9sSpzu8COx3Mr2D8VlaYRhXWZftTJdZOpCRzRQLjMWeF1UXgY58Z1N1Mr9Hm\n",
       "h6I4b57LddV8tI1VeJbgyHOADjOlslYcbrE+Cxnt8SxaUJhnJIEWCxongUH3qCiMGf0PRvhjTU3+\n",
       "uGaFEPMyyrprnJ1kCl6qlh1i1mBXpbgphok5go1a0b2xC9hLMG5cDDpF5nuj+hQ6+WNTU74rh4UQ\n",
       "4zBqo1Fn93yPsbg4QvSUcWzbxHiCbdY+eIv0QxHjpTypDCqLczorw2hMJpORCwdzenpGCDHe+HG+\n",
       "Ou5kvpXeRO+P+V691ocv0bT6Ue9icTtvnyeyUCwPwrgZaLIu2o5ShRlydVZKyVsS/sy6i1feHqF4\n",
       "ibv39HpQhTnQaQUY5n9gIo185hr+y6y6HVS3SMFFlAP5Wrffh99uuqPHh9YMDphCSjOfVC1eLvGj\n",
       "k3CCRpPJghNoJISUZlaSjLgzsy+lLLOfPiFrhbKo/O9R/51lXTddEKB/TBr+jJ50O4sAAAAASUVO\n",
       "RK5CYII=\n",
       "\" style=\"display:inline;vertical-align:middle;\" /></a><br>(see <a class=\"ProveItLink\" href=\"../../../__pv_it/theorems/92bd3b098daecb9cbb068adf20b50944f59df17e0/dependencies.ipynb\">dependencies</a>)<br>"
      ],
      "text/plain": [
       "<IPython.core.display.HTML object>"
      ]
     },
     "metadata": {},
     "output_type": "display_data"
    }
   ],
   "source": [
    "%proving abs_pos_def"
   ]
  },
  {
   "cell_type": "code",
   "execution_count": null,
   "metadata": {},
   "outputs": [],
   "source": []
  }
 ],
 "metadata": {
  "kernelspec": {
   "display_name": "Python 3",
   "language": "python",
   "name": "python3"
  }
 },
 "nbformat": 4,
 "nbformat_minor": 0
}