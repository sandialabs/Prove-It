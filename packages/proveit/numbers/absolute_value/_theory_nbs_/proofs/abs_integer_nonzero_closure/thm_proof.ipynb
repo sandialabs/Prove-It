{
 "cells": [
  {
   "cell_type": "markdown",
   "metadata": {},
   "source": [
    "Proof of <a class=\"ProveItLink\" href=\"../../../../../_theory_nbs_/theory.ipynb\">proveit</a>.<a class=\"ProveItLink\" href=\"../../../../_theory_nbs_/theory.ipynb\">numbers</a>.<a class=\"ProveItLink\" href=\"../../theory.ipynb\">absolute_value</a>.<a class=\"ProveItLink\" href=\"../../theorems.ipynb#abs_integer_nonzero_closure\">abs_integer_nonzero_closure</a> theorem\n",
    "========"
   ]
  },
  {
   "cell_type": "code",
   "execution_count": 1,
   "metadata": {},
   "outputs": [],
   "source": [
    "import proveit\n",
    "theory = proveit.Theory() # the theorem's theory"
   ]
  },
  {
   "cell_type": "code",
   "execution_count": 2,
   "metadata": {},
   "outputs": [
    {
     "data": {
      "text/html": [
       "With these <a href=\"allowed_presumptions.txt\">allowed</a>/<a href=\"disallowed_presumptions.txt\">disallowed</a> theorem/theory presumptions (e.g., to avoid circular dependencies), we begin our proof of<br><strong id=\"abs_integer_nonzero_closure\">abs_integer_nonzero_closure:</strong> <a class=\"ProveItLink\" href=\"../../../__pv_it/theorems/c5bee8d9f94acc14a7e466e8d0ba29b7e0a329410/expr.ipynb\"><img src=\"data:image/png;base64,iVBORw0KGgoAAAANSUhEUgAAAKUAAAAZCAMAAABn/R7mAAAAPFBMVEX///8AAAAAAAAAAAAAAAAA\n",
       "AAAAAAAAAAAAAAAAAAAAAAAAAAAAAAAAAAAAAAAAAAAAAAAAAAAAAAAAAAAo1xBWAAAAE3RSTlMA\n",
       "q1RmmUTNIjK7EInv3Xah18O1XjQ+CwAAAAlwSFlzAAAOxAAADsQBlSsOGwAAAqFJREFUWMO1l4mW\n",
       "pCAMRdlDWNIz4///6xDQUhFr0+b08VRT3eHyeElQiHuHtreEMYcPdw51U1RcPgDeDxlcjdxPw/eU\n",
       "QtPtlKj5GftTj89sEPKE6AL/WZqS7SlF5q/kelr6KiQk8TllQVLCVowwHbUUxF+ZRwQHlz0fv6KU\n",
       "GUSsEvEuDZaR+NFUC1MR08v7fDrZ7ygVzhrlgZbCMW21BIdSVyH9FN6hJMxluA0llBQBd0Zp+Bc9\n",
       "29FdlpKyeE1pHYVeSxDSC4onlFTdnnhrOcXLlNLtoEBGAuoowYXj/0HFQjumtPWIjK/z4Xodwi2l\n",
       "Tbx4XWFDOUpRpvSmlKSQRy3HT77ueXm8V7lZdCBFh/Wc3FCGxE4yudNy5CumFFoJhWlY31pSsozn\n",
       "aSgTRlN+dtvkczssmM2G0tTal+Oe0jd7lYEdpZChLDWUpVEqGu3Rk8RiFVGKmYjhYXndhGI/h2da\n",
       "JlwXWCkDnmkpghTrie+19PMxHLulaXYtWAVYAR9fNMb8/DGlDwCHy/4JZZg4op76HM+nlEUWgeMC\n",
       "B3OpXDIvRE2RJ0nv7lHdTapp2RtT4pZStaxXsKOkweUB5+2SH1LauQxDkkvnh4a+OxkNqsYpWv79\n",
       "Z1jLapCDSShtThwLjsptf1vTu2PzeEyZYc3Wi1ulX46ZDc78GykDiaWWhkXTkuMazjbdclxS9CDJ\n",
       "d5RBot0Z2rsp4fbid/BeX3744lTvINphHbzLWJKnRKil9XlRTW/1cRtx3yFfDKf7nOdCrAuQXzuR\n",
       "Vb6mTnj9uvDlnehFfZ56aRLb0uqwbUWxWsvmd64b6Rco9aHfWKMV1aseLImnpSwOQ/dWb5LqfsoM\n",
       "Txsh+/LD8M3+1BfSw8QnUt7/3iNUvDngb7xD3vY+viZkzY//lMsU4vnKRBEAAAAASUVORK5CYII=\n",
       "\" style=\"display:inline;vertical-align:middle;\" /></a><br>(see <a class=\"ProveItLink\" href=\"../../../__pv_it/theorems/33e917fef293ebecc42686e24f32ef9050a448070/dependencies.ipynb\">dependencies</a>)<br>"
      ],
      "text/plain": [
       "<IPython.core.display.HTML object>"
      ]
     },
     "metadata": {},
     "output_type": "display_data"
    },
    {
     "name": "stdout",
     "output_type": "stream",
     "text": [
      "abs_integer_nonzero_closure may now be readily provable (assuming required theorems are usable).  Simply execute \"%qed\".\n"
     ]
    }
   ],
   "source": [
    "%proving abs_integer_nonzero_closure"
   ]
  },
  {
   "cell_type": "code",
   "execution_count": null,
   "metadata": {},
   "outputs": [],
   "source": []
  }
 ],
 "metadata": {
  "kernelspec": {
   "display_name": "Python 3",
   "language": "python",
   "name": "python3"
  }
 },
 "nbformat": 4,
 "nbformat_minor": 0
}