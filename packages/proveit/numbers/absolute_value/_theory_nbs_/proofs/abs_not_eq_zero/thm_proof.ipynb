{
 "cells": [
  {
   "cell_type": "markdown",
   "metadata": {},
   "source": [
    "Proof of <a class=\"ProveItLink\" href=\"../../../../../_theory_nbs_/theory.ipynb\">proveit</a>.<a class=\"ProveItLink\" href=\"../../../../_theory_nbs_/theory.ipynb\">numbers</a>.<a class=\"ProveItLink\" href=\"../../theory.ipynb\">absolute_value</a>.<a class=\"ProveItLink\" href=\"../../theorems.ipynb#abs_not_eq_zero\">abs_not_eq_zero</a> theorem\n",
    "========"
   ]
  },
  {
   "cell_type": "code",
   "execution_count": 1,
   "metadata": {},
   "outputs": [],
   "source": [
    "import proveit\n",
    "theory = proveit.Theory() # the theorem's theory"
   ]
  },
  {
   "cell_type": "code",
   "execution_count": 2,
   "metadata": {},
   "outputs": [
    {
     "data": {
      "text/html": [
       "With these <a href=\"allowed_presumptions.txt\">allowed</a>/<a href=\"disallowed_presumptions.txt\">disallowed</a> theorem/theory presumptions (e.g., to avoid circular dependencies), we begin our proof of<br><strong id=\"abs_not_eq_zero\">abs_not_eq_zero:</strong> <a class=\"ProveItLink\" href=\"../../../__pv_it/theorems/b8284622d38a2cfb89e1612f03a1304160b97f390/expr.ipynb\"><img src=\"data:image/png;base64,iVBORw0KGgoAAAANSUhEUgAAALEAAAAXCAMAAABzsl4EAAAARVBMVEX///8AAAAAAAAAAAAAAAAA\n",
       "AAAAAAAAAAAAAAAAAAAAAAAAAAAAAAAAAAAAAAAAAAAAAAAAAAAAAAAAAAAAAAAAAAAAAAAeYafp\n",
       "AAAAFnRSTlMAq1RmmUTNIjK7EInv3Xbt5cnn9enzas/lfgAAAAlwSFlzAAAOxAAADsQBlSsOGwAA\n",
       "AqpJREFUSMfNl4mSpSAMRdkhbD2r//+pQ4Ii8tDndJU9Y9WzS9ro4ZLcIGNfedj1N479RfjXHlmU\n",
       "U9DHwfG6HspPBnXGM2/XQj4MLAK7S+zgcEvIivTNiKhagHlYdG/YbWJw3YUpS+MT0ZkivdtEtvCw\n",
       "xEreJna8u5CJbiM8qVZsGhIPE0d2mxj65QbCFwtxxnKWa/qap7PY3CbWvcRsUST7QooapI0Jjxie\n",
       "TorQE1oess0nxIeK8hsxKRtwMoqyHPz9d1/W19k/jOyIdSxQQAvdESvSLv34iedWX0uoxDQ/aWi6\n",
       "2+nMRkHxVZCaWBfA9f3Fjl6WLIn9Dh/JptJc46NpNWL6I+Im72ucyxwAnw68PEFAuENcJy7L7PR4\n",
       "V9Q7sVpoDlN/Zvq4hr6i6qqxo0iRJ3Wn1GqJwdfluEXMSZ6IoYs9J45AKHpKPPaFmseiVp6Oq03I\n",
       "dc19kDnYrbvQiHR6aOo9cQuo8oS6jpifUZxmhSe95DJ6BeXxr981m1uaQnXi6m4irVa8mjJ2Fofi\n",
       "+EYlrBh7YUfcAhTg8VF+sgzg09LQ9CF3xEjPDcNHjxqbsXYlyapqFsj6chv5lgolU/AG3V4nvfTn\n",
       "xC2AsX1hKnHMQ03yPSuQXiRFrjMQi1cnwtXx0R08krs91zInEyHNQDDntDsnbgEkOGzVjcTLkBUu\n",
       "dV7Bc3CWZ/dKbF7t0auQN8Kkh7JEl5TeM7fX2Vp5ndHCJACz4tt3oKyYVx5L7kbPE9eNzKbRgTAr\n",
       "NabB3lBsoJ1emPrxHtBvX3IeO23bxbwjNv7Obqq3QilykLSTc7sdlBRRbpoVe8Cha+KG1p/sby6J\n",
       "5RuJr5qXD7jE0++DeZjIbzfI8JY4XUsMn9zCz4lv7P2o0+ehkA/X7vqr67PfHFNiodn/e9h/+vY/\n",
       "YA4XPx4ZfkIAAAAASUVORK5CYII=\n",
       "\" style=\"display:inline;vertical-align:middle;\" /></a><br>(see <a class=\"ProveItLink\" href=\"../../../__pv_it/theorems/6962e0e7129e2c397797db591046d66812ee92bf0/dependencies.ipynb\">dependencies</a>)<br>"
      ],
      "text/plain": [
       "<IPython.core.display.HTML object>"
      ]
     },
     "metadata": {},
     "output_type": "display_data"
    }
   ],
   "source": [
    "%proving abs_not_eq_zero"
   ]
  },
  {
   "cell_type": "code",
   "execution_count": null,
   "metadata": {},
   "outputs": [],
   "source": []
  }
 ],
 "metadata": {
  "kernelspec": {
   "display_name": "Python 3",
   "language": "python",
   "name": "python3"
  }
 },
 "nbformat": 4,
 "nbformat_minor": 0
}