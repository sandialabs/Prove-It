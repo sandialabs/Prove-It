{
 "cells": [
  {
   "cell_type": "markdown",
   "metadata": {},
   "source": [
    "Proof of <a class=\"ProveItLink\" href=\"../../../../../_theory_nbs_/theory.ipynb\">proveit</a>.<a class=\"ProveItLink\" href=\"../../../../_theory_nbs_/theory.ipynb\">numbers</a>.<a class=\"ProveItLink\" href=\"../../theory.ipynb\">absolute_value</a>.<a class=\"ProveItLink\" href=\"../../theorems.ipynb#abs_zero_closure\">abs_zero_closure</a> theorem\n",
    "========"
   ]
  },
  {
   "cell_type": "code",
   "execution_count": 1,
   "metadata": {},
   "outputs": [],
   "source": [
    "import proveit\n",
    "theory = proveit.Theory() # the theorem's theory"
   ]
  },
  {
   "cell_type": "code",
   "execution_count": 2,
   "metadata": {},
   "outputs": [
    {
     "data": {
      "text/html": [
       "With these <a href=\"allowed_presumptions.txt\">allowed</a>/<a href=\"disallowed_presumptions.txt\">disallowed</a> theorem/theory presumptions (e.g., to avoid circular dependencies), we begin our proof of<br><strong id=\"abs_zero_closure\">abs_zero_closure:</strong> <a class=\"ProveItLink\" href=\"../../../__pv_it/theorems/4fec33a1e52e674479bcb2cdfb9385b124baaa800/expr.ipynb\"><img src=\"data:image/png;base64,iVBORw0KGgoAAAANSUhEUgAAAKEAAAAXBAMAAACR7DLtAAAAMFBMVEX///8AAAAAAAAAAAAAAAAA\n",
       "AAAAAAAAAAAAAAAAAAAAAAAAAAAAAAAAAAAAAAAAAAAv3aB7AAAAD3RSTlMAq1RmmUTNIjK7EInv\n",
       "3XZ/CtNrAAAACXBIWXMAAA7EAAAOxAGVKw4bAAACtElEQVQ4y62VTWgTQRTHn8kms7tJluihIIIs\n",
       "CL0INgfxoLWtVEXoJVDwouhSEaGHsvWq0hVKLyqJB9EtKNODh1Ih8VspQrEIgihBhZ4CWxBaPw5F\n",
       "hEK9+OZrs+nWbRFfyOzMzsxvZt7/zVuArZiLP2Ek1ne/LJ4XXT5wa2bZ8FRWc+X1feepqOg7sXIG\n",
       "K0XW2pNM3At/J3Yx4OwX3JyBKKsEcIy9vpAINJ0E4iv8Z21zAbsaWB0GuMqcU00kaqVNiIcBXkri\n",
       "fuTjrnN2IjEPceLXZtMJiTf54TkxTyGNG8gmu7EzTjz5LbrHXwAVWxCziHvfbL5LJg4IItm1FEgi\n",
       "GY6e2mTEkiDmUJ4TAJNtgEMlHgxPqHpxThBPu8aaJGZbcXcc+b+RGIA1h800+mIUSDEK1LFj9rtY\n",
       "TdhHTjTnQWsoYjiazEtiHchPbKdwtkFD/fRFvwwpB9JBpsqe0t5worYChbokXm+isQAhHdg2kXg2\n",
       "AJgaQsQKUoNwxaMeW8WBvAerMWK+CrWyJE6HexyfFMp0Ybg8w74MO7rTg8VMz3Me8Jw4RuF1hChO\n",
       "XQugV2ldaDkJIwd8gF4KqTU2m8nzCIUzF/RVuTL6tkLhE2QaatI9QbShI+UKohW0RXg3FyjHlWG+\n",
       "uIwSaH0oyCAfMuEx4geAESX2Q040gtRnTcXjUBuxYJtv5Z3R6lhsQ+/ly1YRDvi+b+vbKTs16tap\n",
       "NnJDaL37xeiyIk7dohGiObDoSWJBqVxzjYP0mkhPRaEMmVPbKHjxW3jqbuQWyi5GvBJeXbcySA0q\n",
       "lbGCTDGiTLpvk0wRIfarVqZ/32MgdyQR8x2NEOF2AvFHK0U58Sw244sIB0WWNp1AHAvz1gMMPmOj\n",
       "z4KKmgiRBLCsPgLeuuHkiERe2oHF0oapZkQ8Jmz4X6ZzFPH+cfofH2rCpVzPe2wAAAAASUVORK5C\n",
       "YII=\n",
       "\" style=\"display:inline;vertical-align:middle;\" /></a><br>(see <a class=\"ProveItLink\" href=\"../../../__pv_it/theorems/f6b338ae0382635a5cba11e2f294e13fbcfce18b0/dependencies.ipynb\">dependencies</a>)<br>"
      ],
      "text/plain": [
       "<IPython.core.display.HTML object>"
      ]
     },
     "metadata": {},
     "output_type": "display_data"
    }
   ],
   "source": [
    "%proving abs_zero_closure"
   ]
  },
  {
   "cell_type": "code",
   "execution_count": null,
   "metadata": {},
   "outputs": [],
   "source": []
  }
 ],
 "metadata": {
  "kernelspec": {
   "display_name": "Python 3",
   "language": "python",
   "name": "python3"
  }
 },
 "nbformat": 4,
 "nbformat_minor": 0
}