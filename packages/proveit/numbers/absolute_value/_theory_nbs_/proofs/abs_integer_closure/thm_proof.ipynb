{
 "cells": [
  {
   "cell_type": "markdown",
   "metadata": {},
   "source": [
    "Proof of <a class=\"ProveItLink\" href=\"../../../../../_theory_nbs_/theory.ipynb\">proveit</a>.<a class=\"ProveItLink\" href=\"../../../../_theory_nbs_/theory.ipynb\">numbers</a>.<a class=\"ProveItLink\" href=\"../../theory.ipynb\">absolute_value</a>.<a class=\"ProveItLink\" href=\"../../theorems.ipynb#abs_integer_closure\">abs_integer_closure</a> theorem\n",
    "========"
   ]
  },
  {
   "cell_type": "code",
   "execution_count": 1,
   "metadata": {},
   "outputs": [],
   "source": [
    "import proveit\n",
    "theory = proveit.Theory() # the theorem's theory"
   ]
  },
  {
   "cell_type": "code",
   "execution_count": 2,
   "metadata": {},
   "outputs": [
    {
     "data": {
      "text/html": [
       "With these <a href=\"allowed_presumptions.txt\">allowed</a>/<a href=\"disallowed_presumptions.txt\">disallowed</a> theorem/theory presumptions (e.g., to avoid circular dependencies), we begin our proof of<br><strong id=\"abs_integer_closure\">abs_integer_closure:</strong> <a class=\"ProveItLink\" href=\"../../../__pv_it/theorems/95684f60da3ad5669414578cf5815027ba9042da0/expr.ipynb\"><img src=\"data:image/png;base64,iVBORw0KGgoAAAANSUhEUgAAAIIAAAAVBAMAAAB4Tis1AAAAMFBMVEX///8AAAAAAAAAAAAAAAAA\n",
       "AAAAAAAAAAAAAAAAAAAAAAAAAAAAAAAAAAAAAAAAAAAv3aB7AAAAD3RSTlMAq1RmmUTNIjK7EInv\n",
       "3XZ/CtNrAAAACXBIWXMAAA7EAAAOxAGVKw4bAAACNElEQVQ4y4WUS2jUQBjH/93Nbl6bEC8iKBLw\n",
       "oqASRQp6qIGqCF5WCl7sYdGD0ItTC4JQZPUmit1L1fiAeBG0tLs+QOmpIB6qiHtQ6iUY9eDr4k3w\n",
       "5DfJTLp1k+4XJvnP5Msv8z0SYD1T6ZCqwGGAfYFZT5W8CjM+BRMw372qxIDDF7blA0qdIgJ09zjQ\n",
       "Br4Ch/n8TD7hAQoJQyumhxpQDXGJR9PKJ4yuQ9hBr7WAss8hMN18wlI/4UcUNRLCVHyeE/AaZY+2\n",
       "UpCGRh/hxE+5B7bJ7nDCaeBtFL3JJyid5El187dYENSJLAqmY5YTHgNHgdv5hKqXEMaZ/lcQqmyV\n",
       "oPnz8ySGgUmoTm+Klp/d8VNpuZxgvITSlYRVN4a9pbskdlJlwyzP2uegbjFzIUyntTonKL9hyb64\n",
       "FpG1BGEo3EJihvIVZ+RDTSoPLk+hl1BroV0XhIe9ezAcHsU4jcYIneZGnsP2kpu+CEJE0Y5xUNbC\n",
       "6iXguk5iF40nlGBjRfsj3lA+15SdGycEFxtLLCXYcdbV5GRfIbGfxjQlUvG1JYwl9xZM6WU6nKDH\n",
       "pfeK7IdTWZ14Ex6hcYxvqMlDth0MB0HgorOIRyKx3aQWW19MfpeE+7NplrWzy+l3gw8C2Wb6gfAq\n",
       "V5XtHhbF6sf+rj55L+3q7AfRlWlnM2Ohzvmmgopc3Vf8ZWV96wlRGd39FOotUns2/LohO0xnAwkX\n",
       "1k7ngmCNo9EaSLg54C93EbYorbz+ZzbDP2Q6hRRqU7JOAAAAAElFTkSuQmCC\n",
       "\" style=\"display:inline;vertical-align:middle;\" /></a><br>(see <a class=\"ProveItLink\" href=\"../../../__pv_it/theorems/ffe5cc463753b4e8528bcceb7d83a595cd2e57e50/dependencies.ipynb\">dependencies</a>)<br>"
      ],
      "text/plain": [
       "<IPython.core.display.HTML object>"
      ]
     },
     "metadata": {},
     "output_type": "display_data"
    },
    {
     "name": "stdout",
     "output_type": "stream",
     "text": [
      "abs_integer_closure may now be readily provable (assuming required theorems are usable).  Simply execute \"%qed\".\n"
     ]
    }
   ],
   "source": [
    "%proving abs_integer_closure"
   ]
  },
  {
   "cell_type": "code",
   "execution_count": null,
   "metadata": {},
   "outputs": [],
   "source": []
  }
 ],
 "metadata": {
  "kernelspec": {
   "display_name": "Python 3",
   "language": "python",
   "name": "python3"
  }
 },
 "nbformat": 4,
 "nbformat_minor": 0
}