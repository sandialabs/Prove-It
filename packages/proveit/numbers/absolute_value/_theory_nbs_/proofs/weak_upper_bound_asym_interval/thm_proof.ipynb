{
 "cells": [
  {
   "cell_type": "markdown",
   "metadata": {},
   "source": [
    "Proof of <a class=\"ProveItLink\" href=\"../../../../../_theory_nbs_/theory.ipynb\">proveit</a>.<a class=\"ProveItLink\" href=\"../../../../_theory_nbs_/theory.ipynb\">numbers</a>.<a class=\"ProveItLink\" href=\"../../theory.ipynb\">absolute_value</a>.<a class=\"ProveItLink\" href=\"../../theorems.ipynb#weak_upper_bound_asym_interval\">weak_upper_bound_asym_interval</a> theorem\n",
    "========"
   ]
  },
  {
   "cell_type": "code",
   "execution_count": 1,
   "metadata": {},
   "outputs": [],
   "source": [
    "import proveit\n",
    "theory = proveit.Theory() # the theorem's theory"
   ]
  },
  {
   "cell_type": "code",
   "execution_count": 2,
   "metadata": {},
   "outputs": [
    {
     "data": {
      "text/html": [
       "With these <a href=\"allowed_presumptions.txt\">allowed</a>/<a href=\"disallowed_presumptions.txt\">disallowed</a> theorem/theory presumptions (e.g., to avoid circular dependencies), we begin our proof of<br><strong id=\"weak_upper_bound_asym_interval\">weak_upper_bound_asym_interval:</strong> <a class=\"ProveItLink\" href=\"../../../__pv_it/theorems/2d3781f778f0d5f2e9a519046404b15050c548f80/expr.ipynb\"><img src=\"data:image/png;base64,iVBORw0KGgoAAAANSUhEUgAAAUUAAAAXBAMAAABua0AmAAAAMFBMVEX///8AAAAAAAAAAAAAAAAA\n",
       "AAAAAAAAAAAAAAAAAAAAAAAAAAAAAAAAAAAAAAAAAAAv3aB7AAAAD3RSTlMAq1RmmUTNIjK7EInv\n",
       "3XZ/CtNrAAAACXBIWXMAAA7EAAAOxAGVKw4bAAAESklEQVRIx82WXYgTVxSAz+ZvJjPJTaqC0OoS\n",
       "6ENR0J3iUro+bCPbilDUUEtfCk0QwZ+HMoIPfVBJfSmi4DyU0qjoCNuCxJLgLyhdtw+t/cGyoKK4\n",
       "rMxq8WdFK0u7K2ur3nPu3cxNdtJuIKA3nJmTuefc882995y5AG1sGv/JZrfsYje4akKzob3tJpg5\n",
       "qZ5q2aXmIRX+/BN+Q0nj/9fbghiqNmXUFv6Dt8S/84Ncjl4MZmQWkLyH/ze2hfFbCGIM0eDaYR4L\n",
       "3pwMdtkQzAhbgORzHMBpC2NfEGP4sos340GBX/+YCnYZb8LYDSQxPoSZaQvjYAAjGyZEMB7yKdQ/\n",
       "nAp0iU41YUy4JGG+BrH2bMfCTMbyDfnfGPuLA0emAl3MoSaMMUvIxZGR39rCGKmKgbcO7JwO1H9p\n",
       "utPwFvB1R8be+2eh55mV/6lYc4l1jmbqGQduFXEoMy1kFcD+/42fnQUjvjAu3AU47IqIR9aDz5jP\n",
       "wGLOGLoAKwHOu7Gc71LZYkzWMe7IRBxkDBeEbAUtPd2tb66LuuT0ik+F5qi9i/y6qqiQzFDAYxas\n",
       "lvPYoTImHfAEY96GmPO24tLlwu91jMOQ8JAxNCgk7tY2EcBrNU0fLeWYCWeqPqPsXeT5iJ7yRokc\n",
       "BVyLIWTEbcpas0ktR/vxm/M2GD9Yiguf2CcqI5khlf5ISMhTUubnmvYu3y6MwXJPYaTeHqtmo6h+\n",
       "wF/A+DsgZzzjCaPg/XO6+OR35RSXYYiOq4wJRzJGB4VAoRcH6z2Dk/d0FEuFecvD8o6MY1llrbH3\n",
       "HtUpMhcqN1bX2ngK4UcBtceDg2FkDP0I+zjj+78qaz2OHQpjxZOMoSEhcJxXcuOqjp8Adp0h0xV9\n",
       "8CgFMLVDls+IvXuJi8yFisZi7LhHjOPQUXhjZg33IP8qoqSykP/MNt2vfBd4jJsYPQzBmOJBc5Qz\n",
       "jhDYzlMmkqVIcQuzKOIYxXUEFTngKDmDvaEDGJLMpcqNZUFLU8BDsCSbVb+Fm/AaTeMKdkwi45+7\n",
       "7AGoZH2XufClmPlKQexHB0yqPVibUKCjiBuDYXInipG02CVvlUqlDGPmBwoj9UaRTJhLtZZlQxTw\n",
       "yP0vOoszzhQHJyyWYwsm5uudS8s3vp+AdyY83+WkJRiT10Ven1s2RmudlEKtYseX84ApSPAFTPH9\n",
       "sofmkUU/dn1G0avPs6fNUU351ecatHw2U1zIY3H9d2YHCBE5ae9b55Yh6fZAGXh5rcZd2o9wVskZ\n",
       "7MU5ecUlc6GisRyku3XG7gbGaj1jnzh2iBbtW3qCJ4G+xuNXra/X1b7mTz+6Xe1fqeT1Gk+ekMlc\n",
       "HqO5sRwkbjcwfjeC7dp/MCoup0RmqYx4Hms8k2WUa7lU8ks7zOrwZjgtz6Pigh6s/kzB34BEaVHX\n",
       "vza02R0wdwKTOQ53Z3kQ8V1qHlLhz+/w2516+7Bybca4m+d7yW5UX4r2QlGeA36jb4cbSwkAAAAA\n",
       "AElFTkSuQmCC\n",
       "\" style=\"display:inline;vertical-align:middle;\" /></a><br>(see <a class=\"ProveItLink\" href=\"../../../__pv_it/theorems/a24f05f4e8edf152db30d2236b7ab17a49642d3c0/dependencies.ipynb\">dependencies</a>)<br>"
      ],
      "text/plain": [
       "<IPython.core.display.HTML object>"
      ]
     },
     "metadata": {},
     "output_type": "display_data"
    }
   ],
   "source": [
    "%proving weak_upper_bound_asym_interval"
   ]
  },
  {
   "cell_type": "code",
   "execution_count": null,
   "metadata": {},
   "outputs": [],
   "source": []
  }
 ],
 "metadata": {
  "kernelspec": {
   "display_name": "Python 3",
   "language": "python",
   "name": "python3"
  }
 },
 "nbformat": 4,
 "nbformat_minor": 0
}