{
 "cells": [
  {
   "cell_type": "markdown",
   "metadata": {},
   "source": [
    "Proof of <a class=\"ProveItLink\" href=\"../../../../../_theory_nbs_/theory.ipynb\">proveit</a>.<a class=\"ProveItLink\" href=\"../../../../_theory_nbs_/theory.ipynb\">numbers</a>.<a class=\"ProveItLink\" href=\"../../theory.ipynb\">absolute_value</a>.<a class=\"ProveItLink\" href=\"../../theorems.ipynb#abs_even_rev\">abs_even_rev</a> theorem\n",
    "========"
   ]
  },
  {
   "cell_type": "code",
   "execution_count": 1,
   "metadata": {},
   "outputs": [],
   "source": [
    "import proveit\n",
    "theory = proveit.Theory() # the theorem's theory"
   ]
  },
  {
   "cell_type": "code",
   "execution_count": 2,
   "metadata": {},
   "outputs": [
    {
     "data": {
      "text/html": [
       "With these <a href=\"allowed_presumptions.txt\">allowed</a>/<a href=\"disallowed_presumptions.txt\">disallowed</a> theorem/theory presumptions (e.g., to avoid circular dependencies), we begin our proof of<br><strong id=\"abs_even_rev\">abs_even_rev:</strong> <a class=\"ProveItLink\" href=\"../../../__pv_it/theorems/c179750ee4fdc2bddbef3f8eba96a7a33da416190/expr.ipynb\"><img src=\"data:image/png;base64,iVBORw0KGgoAAAANSUhEUgAAAJ8AAAAVBAMAAACqHiFtAAAAMFBMVEX///8AAAAAAAAAAAAAAAAA\n",
       "AAAAAAAAAAAAAAAAAAAAAAAAAAAAAAAAAAAAAAAAAAAv3aB7AAAAD3RSTlMAq1RmmUTNIjK7EInv\n",
       "3XZ/CtNrAAAACXBIWXMAAA7EAAAOxAGVKw4bAAACBklEQVQ4y2NgwAsKgBDORAXsDJgCBQwEAJ8C\n",
       "w1YYeyuaHHcApkAckBIAsZVxGKjNQJqBfAYMDK4gdjp287gSSDSQIYuBoRHk+wnYDWQxINVAEwYG\n",
       "tgVApgJ2A3kYSDWQZwEDM9AVbDiCUI1kA9mApp29e/c0DgO9Iease7hitwI+A7neSXVvAgtwA+PY\n",
       "g4FhFg4DkyEGOvDJsVyAGMhyFwwEUA1kYXj4wBcswAyMxkIGdgGUtDdFrg7KvAQ2kLmA+RejAT4X\n",
       "mjPYLxAGCzAdYGDgXACX4ng4M4BrYgHTbCj/KNhADgaWBOxhuAzs3BsMDQxuUBs4PgANfQCPE5cG\n",
       "oPA6BgZrFAOBcfeAUKScgwqwAl3IkGAHJN65PykApXOGxa2IbHoJak58AdcCfGHIwPqdYRXEyxeA\n",
       "vE3A5M1XIMmmsBIkp66OUDcPbODKABkGbnwu5JrKeIBhAyRSQFmkBmgfM8M8DoZgkKyVFULPRrCB\n",
       "+l0+DEH4DGT6seQAqwJYgGUDkM/YABL9zsBgNnPmTIWOCISeXrCBS94xOSvgdaHfAxUjiAAvXJDj\n",
       "ADtDN1gdMFK4oIK8DaTmlFoYp4Y7gQWYgEAFxZYChn1QUWYHUg10hqf1p/teMbDPADFXZ05pgAlP\n",
       "J9FA9GJr9cyZqKpWkmggJ6E6gP0BwwsY+wV69dCAKfCcgQEAtviYtEOFEsYAAAAASUVORK5CYII=\n",
       "\" style=\"display:inline;vertical-align:middle;\" /></a><br>(see <a class=\"ProveItLink\" href=\"../../../__pv_it/theorems/5ec1e09a251343c1f05038cee7a778558f1e39a90/dependencies.ipynb\">dependencies</a>)<br>"
      ],
      "text/plain": [
       "<IPython.core.display.HTML object>"
      ]
     },
     "metadata": {},
     "output_type": "display_data"
    },
    {
     "name": "stdout",
     "output_type": "stream",
     "text": [
      "abs_even_rev may now be readily provable (assuming required theorems are usable).  Simply execute \"%qed\".\n"
     ]
    }
   ],
   "source": [
    "%proving abs_even_rev"
   ]
  },
  {
   "cell_type": "code",
   "execution_count": null,
   "metadata": {},
   "outputs": [],
   "source": []
  }
 ],
 "metadata": {
  "kernelspec": {
   "display_name": "Python 3",
   "language": "python",
   "name": "python3"
  }
 },
 "nbformat": 4,
 "nbformat_minor": 0
}