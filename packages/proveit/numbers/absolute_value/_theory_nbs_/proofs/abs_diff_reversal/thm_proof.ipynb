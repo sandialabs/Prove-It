{
 "cells": [
  {
   "cell_type": "markdown",
   "metadata": {},
   "source": [
    "Proof of <a class=\"ProveItLink\" href=\"../../../../../_theory_nbs_/theory.ipynb\">proveit</a>.<a class=\"ProveItLink\" href=\"../../../../_theory_nbs_/theory.ipynb\">numbers</a>.<a class=\"ProveItLink\" href=\"../../theory.ipynb\">absolute_value</a>.<a class=\"ProveItLink\" href=\"../../theorems.ipynb#abs_diff_reversal\">abs_diff_reversal</a> theorem\n",
    "========"
   ]
  },
  {
   "cell_type": "code",
   "execution_count": 1,
   "metadata": {},
   "outputs": [],
   "source": [
    "import proveit\n",
    "theory = proveit.Theory() # the theorem's theory"
   ]
  },
  {
   "cell_type": "code",
   "execution_count": 2,
   "metadata": {},
   "outputs": [
    {
     "data": {
      "text/html": [
       "With these <a href=\"allowed_presumptions.txt\">allowed</a>/<a href=\"disallowed_presumptions.txt\">disallowed</a> theorem/theory presumptions (e.g., to avoid circular dependencies), we begin our proof of<br><strong id=\"abs_diff_reversal\">abs_diff_reversal:</strong> <a class=\"ProveItLink\" href=\"../../../__pv_it/theorems/b390d1a8aa6a7e66d95127c5f57edfc076d85fba0/expr.ipynb\"><img src=\"data:image/png;base64,iVBORw0KGgoAAAANSUhEUgAAAN0AAAAWBAMAAAC2xYReAAAAMFBMVEX///8AAAAAAAAAAAAAAAAA\n",
       "AAAAAAAAAAAAAAAAAAAAAAAAAAAAAAAAAAAAAAAAAAAv3aB7AAAAD3RSTlMAq1RmmUTNIjK7EInv\n",
       "3XZ/CtNrAAAACXBIWXMAAA7EAAAOxAGVKw4bAAACt0lEQVRIx7WWTWgTQRTHX7Kbj91sPvDgJRAW\n",
       "BHMQJQcRjFAXqiBIbaAXD2IjHqSCsLlrWQ+ioGKFgq5KXRGEEjH1C720CCIqIqgIihLYnloQJAgq\n",
       "9FB8bzYfnXRmEYkTEpb/vH2/efv+MxuAvxg2fiQjsT72H7LwI2PCY9lcqtInSCNx5jD+5uhyUyhv\n",
       "iziLfuOdkMd0IS9TAthLl8fCcHpVsuq4Ja6PdCEPjgOcpiZMhfHUkoSXNcU80sW87bgYD28yw3iG\n",
       "rCvjnphHuphneKDg6uOh7dss481L/DIv8wvEEfa22XwTytsfxCbySz4/ceT7BiGPdH7UFibZTArd\n",
       "uQ/gWijvaJDlkK2t8D765TXsgDfSpPG+7U/SucjYS7jpUQ4FrVeDRK4zkZzo7rnpwmT78kOQ5Tmo\n",
       "vM+jK2D4gvqYzml3SzDC1hx9BqB5a+7JE3TRreiX7ej1tvaCZVFbkJ7DqzuslM/k2ypk5wQ8pmP5\n",
       "J1ikg9oowFfGS7aQ6a+xyyv87sGQ1D2AXRzPmIIGnxvx46aAx3ROew36T8aLYX1QHcKf+tATKm11\n",
       "0aNDAG6f6R2NwfNs+LB73fYb9QT9YzrX6FVQWsHzpI48wF2vf0r+pq59yVizFFIs9sJnAp4JG6Oc\n",
       "DbIO9lRQH9M53g+IVIvML3SwnES7qFaSStVKSnWMQsrlXvh9lkXzox9VLk2kpFkiHtO5MQNbLYt4\n",
       "Kjkggv0yKhkyqeGouR2u65rnDvaiLwb+LDytLfPLzg+Lz2vSuXHr29mCQ7x0J7pha2V85lkwzPPs\n",
       "NYN+0Tu+cGBA7yM41T0j7UtjXh3S3k7cH3SCP7JhoT2nWAPjdQuPDW97CBfM5AEfEldJqE9MO53J\n",
       "K4Pi9b+Hgl1Td10+yeygeFrfMedJ/qP4sCz9r+H0CdJInFniBQX+//gDstDTWY/u8VMAAAAASUVO\n",
       "RK5CYII=\n",
       "\" style=\"display:inline;vertical-align:middle;\" /></a><br>(see <a class=\"ProveItLink\" href=\"../../../__pv_it/theorems/69ae5f21f1d5ab8cc8fa9daa24a613dce1b826580/dependencies.ipynb\">dependencies</a>)<br>"
      ],
      "text/plain": [
       "<IPython.core.display.HTML object>"
      ]
     },
     "metadata": {},
     "output_type": "display_data"
    },
    {
     "name": "stdout",
     "output_type": "stream",
     "text": [
      "abs_diff_reversal may now be readily provable (assuming required theorems are usable).  Simply execute \"%qed\".\n"
     ]
    }
   ],
   "source": [
    "%proving abs_diff_reversal"
   ]
  },
  {
   "cell_type": "code",
   "execution_count": null,
   "metadata": {},
   "outputs": [],
   "source": []
  }
 ],
 "metadata": {
  "kernelspec": {
   "display_name": "Python 3",
   "language": "python",
   "name": "python3"
  }
 },
 "nbformat": 4,
 "nbformat_minor": 0
}