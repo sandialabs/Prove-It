{
 "cells": [
  {
   "cell_type": "markdown",
   "metadata": {},
   "source": [
    "Proof of <a class=\"ProveItLink\" href=\"../../../../../_theory_nbs_/theory.ipynb\">proveit</a>.<a class=\"ProveItLink\" href=\"../../../../_theory_nbs_/theory.ipynb\">numbers</a>.<a class=\"ProveItLink\" href=\"../../theory.ipynb\">absolute_value</a>.<a class=\"ProveItLink\" href=\"../../theorems.ipynb#generalized_triangle_inequality\">generalized_triangle_inequality</a> theorem\n",
    "========"
   ]
  },
  {
   "cell_type": "code",
   "execution_count": 1,
   "metadata": {},
   "outputs": [],
   "source": [
    "import proveit\n",
    "theory = proveit.Theory() # the theorem's theory"
   ]
  },
  {
   "cell_type": "code",
   "execution_count": 2,
   "metadata": {},
   "outputs": [
    {
     "data": {
      "text/html": [
       "With these <a href=\"allowed_presumptions.txt\">allowed</a>/<a href=\"disallowed_presumptions.txt\">disallowed</a> theorem/theory presumptions (e.g., to avoid circular dependencies), we begin our proof of<br><strong id=\"generalized_triangle_inequality\">generalized_triangle_inequality:</strong> <a class=\"ProveItLink\" href=\"../../../__pv_it/theorems/45fcefab23ac4893f6e8a0f5c8494b7b4b03861c0/expr.ipynb\"><img src=\"data:image/png;base64,iVBORw0KGgoAAAANSUhEUgAAAoMAAAAXBAMAAACCKFjBAAAAMFBMVEX///8AAAAAAAAAAAAAAAAA\n",
       "AAAAAAAAAAAAAAAAAAAAAAAAAAAAAAAAAAAAAAAAAAAv3aB7AAAAD3RSTlMAq1RmmUTNIjK7EInv\n",
       "3XZ/CtNrAAAACXBIWXMAAA7EAAAOxAGVKw4bAAAFqElEQVRYw+2ZX2gcRRzHf7d7d7u3d7lEfLAW\n",
       "KRG1pEjiUVsVET1JYoOactg3W+qhD/55cSsFidV4gkLRtgQhaPIgqwliDNprNAFblLMgCv47NUjQ\n",
       "nmy0mAQ15EUtisT5zez/mb279UxedMLs/ZiZ/f2++9mZnT8BaJiytRK0nnTytwFJERUpgch17tCb\n",
       "lh/wobPC5uCkC//Co2Y7YXYjEArEfR8onK13R7OiZoM+DpKfg8zswKIr6quM4Y+Ua+VRr4bNQiiV\n",
       "NwVhluDATMx+LLq/vso4Rk22MhC14sYjlNhTvAqbghAeApqJ+RQO7ZH6KlXsqkOtPGk8J1K7T9w4\n",
       "Edbf99VDKM8b9Lc3hJLttW5lqBYe4S6gmZhJEjjd2eBFI/GZVhBmhC+8R9xYMkO89NRBmP2WEYRK\n",
       "CCXba93KUC08woxBMzFlgjnZaKxcS36KrSDcvtEIp7+zby5uEsJkjmY0P63VPm6EMFOrnSu3gvAO\n",
       "qkJb3frcjADJm4uvnemMgNDT3gIy+ZXzySjTQk8THqFHRwSEgajpDprRHAAYb4QwXoKU0QrC+6iK\n",
       "OCyagwIk+ey2eDUCQk97hvDle502STZLeprwCD06IiAMRJWLNKN5CJQOwb1lL0LS4lBLE+eXVMX1\n",
       "cItxMY9E1uU/YrnmEXrbM4QxF2FbJxZ6m/AIPTqaRxiMKlVoRjNl+L4Oyvws3ESY5n0Df/yfLElW\n",
       "bl2ylX1AVZTgNlzgXEeLBmu1T2q1L4ilQpy8Ue3MRdjR4+SbQb4t/FsNtvcN5MPOQM4U6BqCNZko\n",
       "WpQ8XskdTMf0qa1cZWAd4VbMclHVNZopTdOdTU5cOgqXp424EUTYE3E2QUdTl8COsg8hwGdY9ws3\n",
       "PWQI6jjYw6TxdJIxQ6cThpA1UVerIdMJ6sjDYLTpxB81UaGZuive7FAfwJ2KmU9DEGFSNiMtA9HR\n",
       "aRPksm8gQ+J3eB2gm0Nyj64Z7QXlQrMIsX3IooYNZKuJFIKQ6vgVnixFQuiPir5JpgJmyKpP7j1x\n",
       "HuAHrO66ajgNb/fN9xU8CNPbyc3Z88N7bMGu6dkHO4XoSLuh4O7OX0IV2misgt/YIMKpwmWQBtlo\n",
       "FqHVnkrmltYpEwtZkxCElo4boyEMRpVHaKYCHidjfeJALqNrdJPSlX5lP9cLlfeJsRQbsT/bHtNN\n",
       "TiF1JD3i2RGeQhXShclKopNHeM2zd8JdGMg/kLXf7MvJoqA9lezb4D1A1eJao2C5FCO0dcC7XCVG\n",
       "8oV0EQaj4uopbu3HYyWAx36EdoNtZrogv8IhhC0k51JmCYbou0Yz0dPvR0jrnV2RPOFZBh2nvXCv\n",
       "eeVO4BFOrkq9+ETHDb/sefvSlhe0p5L5Ywa1iootlyG90NKhfsNV0kjekC7CYNQ2ll0B2+AAyA+O\n",
       "jT1PEE4neYQ0teugdhu2mYGTAfntVr+jjtRnPCdpbSXPAr9bvNtQxqPtTlCy4KRmwVMY9i1kCXtD\n",
       "5N2JE/UJoNl19xH0qWqZ9cJET3BdaKVj5NvWZtimQi7+RArl/p1lYI7IdAJ2R5TzIoT+Y4PD8Gik\n",
       "YwaULEC4KwQhd8yg5BU9+jGDE7U3cKShrMFCF9ul7AZYFG5Dlcoc6ZsEoVZmJowSE6btCy2UVqBq\n",
       "bXeO7IG083JfECH0d8IXj94e6byaSmbi3qhhWqDlKV2MkOsRQ0efNiIfdjlR8XQLs+Mu0QE/5WCI\n",
       "DDf1ax1i4ph7968aiFA9y0yy7SPmMV39EC9W4RaFfIjREWhzYwOOkylXxZGH3xMe5qyvr0VByCTz\n",
       "vVAbcV/63J9mOMLP19ejnxc6UcmbojkgQHtnbFSwR/b9ewAHssTM01nHBMeqZncbAkeKCcsbceSa\n",
       "5f91MRwoXK53R7OiloM+lnAJQqxzkf8tov48A3A329Cv/2WbmJildUhvwf+pYcqJzNx/lcbfaEIm\n",
       "NjmsJ8MAAAAASUVORK5CYII=\n",
       "\" style=\"display:inline;vertical-align:middle;\" /></a><br>(see <a class=\"ProveItLink\" href=\"../../../__pv_it/theorems/2e6cfde1ea02c61146457bfafca3d8557e1c2d740/dependencies.ipynb\">dependencies</a>)<br>"
      ],
      "text/plain": [
       "<IPython.core.display.HTML object>"
      ]
     },
     "metadata": {},
     "output_type": "display_data"
    }
   ],
   "source": [
    "%proving generalized_triangle_inequality"
   ]
  },
  {
   "cell_type": "code",
   "execution_count": null,
   "metadata": {},
   "outputs": [],
   "source": []
  }
 ],
 "metadata": {
  "kernelspec": {
   "display_name": "Python 3",
   "language": "python",
   "name": "python3"
  }
 },
 "nbformat": 4,
 "nbformat_minor": 0
}