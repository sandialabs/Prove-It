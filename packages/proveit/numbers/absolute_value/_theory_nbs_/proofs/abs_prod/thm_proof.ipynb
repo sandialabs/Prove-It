{
 "cells": [
  {
   "cell_type": "markdown",
   "metadata": {},
   "source": [
    "Proof of <a class=\"ProveItLink\" href=\"../../../../../_theory_nbs_/theory.ipynb\">proveit</a>.<a class=\"ProveItLink\" href=\"../../../../_theory_nbs_/theory.ipynb\">numbers</a>.<a class=\"ProveItLink\" href=\"../../theory.ipynb\">absolute_value</a>.<a class=\"ProveItLink\" href=\"../../theorems.ipynb#abs_prod\">abs_prod</a> theorem\n",
    "========"
   ]
  },
  {
   "cell_type": "code",
   "execution_count": 1,
   "metadata": {},
   "outputs": [],
   "source": [
    "import proveit\n",
    "theory = proveit.Theory() # the theorem's theory"
   ]
  },
  {
   "cell_type": "code",
   "execution_count": 2,
   "metadata": {},
   "outputs": [
    {
     "data": {
      "text/html": [
       "With these <a href=\"allowed_presumptions.txt\">allowed</a>/<a href=\"disallowed_presumptions.txt\">disallowed</a> theorem/theory presumptions (e.g., to avoid circular dependencies), we begin our proof of<br><strong id=\"abs_prod\">abs_prod:</strong> <a class=\"ProveItLink\" href=\"../../../__pv_it/theorems/dbfe1699d1745a98e5f950133ac5d138f8c576410/expr.ipynb\"><img src=\"data:image/png;base64,iVBORw0KGgoAAAANSUhEUgAAAkQAAAAXBAMAAAAYS00ZAAAAMFBMVEX///8AAAAAAAAAAAAAAAAA\n",
       "AAAAAAAAAAAAAAAAAAAAAAAAAAAAAAAAAAAAAAAAAAAv3aB7AAAAD3RSTlMAq1RmmUTNIjK7EInv\n",
       "3XZ/CtNrAAAACXBIWXMAAA7EAAAOxAGVKw4bAAAFKUlEQVRYw+1YXWgcVRQ++5eZzGzSiA/SImVF\n",
       "hUibukhaq4iOJNqgRtb6pgUXfBB96SiixJZ2LQpFawxC0PRBRlPEGmi21S1oaVkQabGoK6wSAoGJ\n",
       "jdoqWfKiKfVhvfee+bkzc3fviLsv4lnOcDj3nG/O/ebec2cWQCqrC/DvRSE/6AiOFNoUWOLM1qMm\n",
       "cyhxZ1/pxNR+Ar3QCRwBShi6Iq68/f1DoxXI2MCUmAPUc3N7iuQxMkmWu0ZRBLozFMElQK3AA9Tz\n",
       "THuK5DEy+Qi6RlEEukMU9VioFXiV7rmp9hTJY2Qy0j2KRrpEUcpArTCi9Fx7iuQxMql2j6JqlyiC\n",
       "r1ErkMqT9SRp1/IYWSsqdo2iKHSnKHoalZjfLC1dlJ1o0hiJpMusCK2x6c1TgYGoRyQnlj8+k2sx\n",
       "UQeaCwlQ5PulFPG1UIyTqMQcAzgqo0gaI5GePCsiDcv2eHCCEY9IjP7N6RpP0fgSle85aC4kQJHv\n",
       "l1LE10IxdqAS83lQBgQ5Zf5GLWJiS1+OFXEn3GddHxiIegSSMlPXEvkWqwih+RCeIs4vpYivhWJs\n",
       "RSVmrxVIVuoVuIfwYfAUhWJiypX7f7XRyhZYESV4kG6uHWyL/Umv6Jk7ucnzBIX5VEgXW3YUhHZC\n",
       "ZovO9BCr4qRqZ66zMFN0j/kicNX5FL2NSsyk7XfiyY3TcJNupa0QRXxMLKFAx2+A28oBigC+pWOr\n",
       "zFfHIeoxYJzzBAR9WVtCEYaojZq7iuruRKk/DWSzYabgHn0GcNX5FO1BpWbxXq8zjNG3aNvQIUQR\n",
       "FxOvPVOgL2xIlQMbDTLr8AnAEBfJPH/AwVJbvKdMzWrRi1xoFpKsRU406t9QUK7GONGwOi9zCJWa\n",
       "p54j231kcgXft2Hw1gM6fDZaHy1w4TQGGrtW3A9DzvTFd1IgbWfB+5DstWkR2nSiSnucT5Hjubs9\n",
       "RccLN4LulBiZKEJjSJQiJ9WKQZFTy/DOhoEYd6FScz/pPLN78llTYy/Qg/qHT0ZWEY3pNzf2OOcq\n",
       "Z/riOxlQ8gWfRH2AFpG8eqyayfEUuR44G+gMrGPMe/3n9jcegd1YYnSiCI0hUYocP+g1LtOHn+d6\n",
       "HNaibf8SziPGw6jUTJAn+MovsMHKsNY/CMaVCEU0JgXvq6Cww5+Zu1eC5TIn7h4KlJq1vCG1xp7T\n",
       "o/Ytd0BgFTkedTHYGequweRYIzmSwxKjFCE0hkQpcvzwViDTg/fv4VannCjCNcT4AdWD20w6U+rZ\n",
       "mZl3CEVzPRGKUNYBDi16ZlVbC5W77pJFgdTXuc2zwG+Rocgyn7BiNDhaomC78NCCXoTH9NHYb9cJ\n",
       "O1NlmUoN1QO5AKOqWsZVlNkWfi9yHlhVAVj0TFOthh4ocQ4/voUYLJm0a3CnPtyWIsVQTDlFtETB\n",
       "RIdjUPQivByXomwpbZRoZjqP6oIoa7AwiG/Q2wGWhX+p7deLaUbRnGP2Foipld0Lc26b6gPnVXzf\n",
       "LtDdw7rXbEfRxOHX5MsIS4xOlIduQZHy3uGH4lJ0EPoOMYomANUFyQzA73mYIFtD/dGEhJCi9M/n\n",
       "fmMUHcmhOUZN9TwcMekFnYnSSxSa7jHt9MyY13Sm/CL27T0Xqu+7ZlO+iLDE6EQ5aOX0X7aIomyz\n",
       "uRaXoseg/1OW+S6gBv901T6fmY5mnw38e0s3mvNdaNmuCZ6zDy49IQI6AP2lTnzpC1DC0JcFljiz\n",
       "9ehlcj4D09Wv/mmJkxdzkMFdsbdZc036kNH6ALbk4X9JiczUf3a6fwPOfeBgE78c/gAAAABJRU5E\n",
       "rkJggg==\n",
       "\" style=\"display:inline;vertical-align:middle;\" /></a><br>(see <a class=\"ProveItLink\" href=\"../../../__pv_it/theorems/6771b2d7e2f8638ad9b4ef127038acde122ed7f60/dependencies.ipynb\">dependencies</a>)<br>"
      ],
      "text/plain": [
       "<IPython.core.display.HTML object>"
      ]
     },
     "metadata": {},
     "output_type": "display_data"
    }
   ],
   "source": [
    "%proving abs_prod"
   ]
  },
  {
   "cell_type": "code",
   "execution_count": null,
   "metadata": {},
   "outputs": [],
   "source": []
  }
 ],
 "metadata": {
  "kernelspec": {
   "display_name": "Python 3",
   "language": "python",
   "name": "python3"
  }
 },
 "nbformat": 4,
 "nbformat_minor": 0
}