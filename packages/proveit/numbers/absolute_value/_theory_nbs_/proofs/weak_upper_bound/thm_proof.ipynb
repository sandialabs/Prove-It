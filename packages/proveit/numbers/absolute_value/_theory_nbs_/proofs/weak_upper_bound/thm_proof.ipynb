{
 "cells": [
  {
   "cell_type": "markdown",
   "metadata": {},
   "source": [
    "Proof of <a class=\"ProveItLink\" href=\"../../../../../_theory_nbs_/theory.ipynb\">proveit</a>.<a class=\"ProveItLink\" href=\"../../../../_theory_nbs_/theory.ipynb\">numbers</a>.<a class=\"ProveItLink\" href=\"../../theory.ipynb\">absolute_value</a>.<a class=\"ProveItLink\" href=\"../../theorems.ipynb#weak_upper_bound\">weak_upper_bound</a> theorem\n",
    "========"
   ]
  },
  {
   "cell_type": "code",
   "execution_count": 1,
   "metadata": {},
   "outputs": [],
   "source": [
    "import proveit\n",
    "theory = proveit.Theory() # the theorem's theory"
   ]
  },
  {
   "cell_type": "code",
   "execution_count": 2,
   "metadata": {},
   "outputs": [
    {
     "data": {
      "text/html": [
       "With these <a href=\"allowed_presumptions.txt\">allowed</a>/<a href=\"disallowed_presumptions.txt\">disallowed</a> theorem/theory presumptions (e.g., to avoid circular dependencies), we begin our proof of<br><strong id=\"weak_upper_bound\">weak_upper_bound:</strong> <a class=\"ProveItLink\" href=\"../../../__pv_it/theorems/ba34cd027028c0cd9c3bd0fdef5f71e090d109370/expr.ipynb\"><img src=\"data:image/png;base64,iVBORw0KGgoAAAANSUhEUgAAAOIAAAAXBAMAAADkYY5OAAAAMFBMVEX///8AAAAAAAAAAAAAAAAA\n",
       "AAAAAAAAAAAAAAAAAAAAAAAAAAAAAAAAAAAAAAAAAAAv3aB7AAAAD3RSTlMAq1RmmUTNIjK7EInv\n",
       "3XZ/CtNrAAAACXBIWXMAAA7EAAAOxAGVKw4bAAACv0lEQVRIx62WTWgTQRTH/93sZrO7SVpBvAgS\n",
       "EQTxg4JU1EMMFKnFgwuexB6KRRRPWyiC4CEeC5XmFlSQFTxYiiRaxJ5EEA8qSqktChJZ6MHqQQQP\n",
       "ggdxvnZ29gNTcF9J3s6bN+83mXnvdYF8xSN/XMysaRN5S7WGJ+LRcTPmjQAYog978iLux7+J2ABO\n",
       "Un0pJ6A9mUnUovhFHzfo6bZyIurDWcTCmi89Cg0KhVPLiVhGBrH6yVdcXqNAtlXM6xr3ZhAXP8dc\n",
       "poC3vd6bvIinOdHc+SUIifffy1nn+1HgEXAKuJ28DnHhnpL2WyJOceKEZ/0WxHsXolpcxThwBJiG\n",
       "OZRYaHE1otoaXO3zkhTVssqI9gvoK4I4EBErXbwDDpDwfqpyONGObeQ8Dx+kgKrlJSPqP2h0EXVG\n",
       "nuoZlkDz5OyCVOJwoh7bCM1pHBtOusYtnFhuoeOmM+cV+54gn8k6tdefssvdCCSxEkV6VmcV9JVV\n",
       "kXBlilv4KnmqnQAn0tVh/2Gjg+Tz+AoZfij9ouP10nNJvBrdgDsHrYE5Fl64MsUtYhWRu5xYww7N\n",
       "S3WAn6StkkMhT9fJfekNtkhv2U1JPCeJ43gAowXtDl0ZulIlLHwVWOoTohVoa3qsy13mUbDMC2iA\n",
       "uJfdKs2Tsqvc426gdItIm11PiXRCgwKkK1XCEoa+yXN11/L0ZrqTO0t14rwuRh3POk6Gg55CnJW+\n",
       "9BQ1Wh6l7V7oKhS1DMr6qDT7/e8wV8KG6M2f9RdRdNHNyJyLcFBlyWFu84UrU9wiVvE+3Yeoh7lt\n",
       "jB5aInlgjtIfLoiW3PrM4W/hyAxdmeIWsYpKO0l82KPyURKvxTdQi9Wj0VXnFrJdE7LQ7ze2468E\n",
       "frzLjamTY9muyWsKsBmWYTPrrSTeJAuJvuooYQtkx7M0cz3VVbH8n4RvXArRzu3l6y+tbMHGcnBk\n",
       "QgAAAABJRU5ErkJggg==\n",
       "\" style=\"display:inline;vertical-align:middle;\" /></a><br>(see <a class=\"ProveItLink\" href=\"../../../__pv_it/theorems/49aebfae857b3ee2692dda05a6dcdd522baf7b6a0/dependencies.ipynb\">dependencies</a>)<br>"
      ],
      "text/plain": [
       "<IPython.core.display.HTML object>"
      ]
     },
     "metadata": {},
     "output_type": "display_data"
    }
   ],
   "source": [
    "%proving weak_upper_bound"
   ]
  },
  {
   "cell_type": "code",
   "execution_count": null,
   "metadata": {},
   "outputs": [],
   "source": []
  }
 ],
 "metadata": {
  "kernelspec": {
   "display_name": "Python 3",
   "language": "python",
   "name": "python3"
  }
 },
 "nbformat": 4,
 "nbformat_minor": 0
}