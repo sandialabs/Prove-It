{
 "cells": [
  {
   "cell_type": "markdown",
   "metadata": {},
   "source": [
    "Proof of <a class=\"ProveItLink\" href=\"../../../../../_theory_nbs_/theory.ipynb\">proveit</a>.<a class=\"ProveItLink\" href=\"../../../../_theory_nbs_/theory.ipynb\">numbers</a>.<a class=\"ProveItLink\" href=\"../../theory.ipynb\">absolute_value</a>.<a class=\"ProveItLink\" href=\"../../theorems.ipynb#complex_polar_mag_using_abs\">complex_polar_mag_using_abs</a> theorem\n",
    "========"
   ]
  },
  {
   "cell_type": "code",
   "execution_count": 1,
   "metadata": {},
   "outputs": [],
   "source": [
    "import proveit\n",
    "theory = proveit.Theory() # the theorem's theory"
   ]
  },
  {
   "cell_type": "code",
   "execution_count": 2,
   "metadata": {},
   "outputs": [
    {
     "data": {
      "text/html": [
       "With these <a href=\"allowed_presumptions.txt\">allowed</a>/<a href=\"disallowed_presumptions.txt\">disallowed</a> theorem/theory presumptions (e.g., to avoid circular dependencies), we begin our proof of<br><strong id=\"complex_polar_mag_using_abs\">complex_polar_mag_using_abs:</strong> <a class=\"ProveItLink\" href=\"../../../__pv_it/theorems/9870fbd29dd31228784e813a935c78f94a4d34f30/expr.ipynb\"><img src=\"data:image/png;base64,iVBORw0KGgoAAAANSUhEUgAAAMUAAAAbCAMAAAD70rudAAAANlBMVEX///8AAAAAAAAAAAAAAAAA\n",
       "AAAAAAAAAAAAAAAAAAAAAAAAAAAAAAAAAAAAAAAAAAAAAAAAAABHL6OuAAAAEXRSTlMAq1RmmUTN\n",
       "IjK7EInv3Xb58znApaUAAAAJcEhZcwAADsQAAA7EAZUrDhsAAAKnSURBVFjDzZiJcqwgEEVZmn1J\n",
       "+P+ffYCAGHQiOFN5pCYVM9L2gV4uIvQXg0r0Pw+4d5s17U8B3s9M/fDysuze7DStNOJ6aeoH2Mlm\n",
       "btoVReOHrFMI9UYIzdEMBafViZCu7lGI02vq30eh6BoFpKUM8tZUw06vXYpHvAcFXYYQ1YUJCp0y\n",
       "3CljcEBPKHwigPYdF+ulycxTSBufF+IH4BGFDnEzJH5DngSG1iIqbYMVjyg2Y1udi/8kyxAy6EWK\n",
       "+HAg6BlFzi1aLPL1rfAO3aPQ2DroKZhpi7dM4fNM69Lo2un0wPxAIY2KLdmMxUJbR6jFF/38FkVn\n",
       "u1KwHAmQC53SD+qsOrhikIrpbka3sMstQv9CAa4b+EjR2a4UMldqgeuvn/WzSpxaip3hgPnYZnib\n",
       "/JWmUcRdV7e6IkD73vJjfN3Zi952pRBbbUnb8DPoDhJHeqxUvMHHpUBGDO65pma+0926uFvMBN6K\n",
       "wDbOY/f7DkVvu7qsNwriT3O7SRyAIqR9/EFU++u9sF2kDowyEJGGfpAXne19L2QpT0WNECDUgzhK\n",
       "HN8WNlN4Db9RgLtoK680z7286GzveSFKqyhNgzJLizhrEkfv3TBFlFB+iGt8zG7kLuodWH0m66b2\n",
       "Yrd9rFFJBm3EUtAYWSV8qsRhtKMAZU5avLcHV0RgF+3CWcq88w8oOtuVgtaZuJ4g8f6EKnEoV3mQ\n",
       "LaIMG3s8O/Zu5q4FlwvcP+kXne3Wu4fyavdVrBJHGtTnBWNmzE47qaMeRNSFjjp0iE0kZ9HcJM7e\n",
       "D7dKO2b3tKZ9J4UeumgRuNKSTuIIVeKNcc8N0gBDWZb27ygovj5GH5LSpLxgL5UU+TMKd3ksYrOi\n",
       "avLcvUTh5dn1i3P3/NmVmI9TfP4dSH0f9eCd39pUyFHzD2qlF7wifFUaAAAAAElFTkSuQmCC\n",
       "\" style=\"display:inline;vertical-align:middle;\" /></a><br>(see <a class=\"ProveItLink\" href=\"../../../__pv_it/theorems/2526f4cca28caa5a52b4291507c3f56da4bee6a20/dependencies.ipynb\">dependencies</a>)<br>"
      ],
      "text/plain": [
       "<IPython.core.display.HTML object>"
      ]
     },
     "metadata": {},
     "output_type": "display_data"
    }
   ],
   "source": [
    "%proving complex_polar_mag_using_abs"
   ]
  },
  {
   "cell_type": "code",
   "execution_count": null,
   "metadata": {},
   "outputs": [],
   "source": []
  }
 ],
 "metadata": {
  "kernelspec": {
   "display_name": "Python 3",
   "language": "python",
   "name": "python3"
  }
 },
 "nbformat": 4,
 "nbformat_minor": 0
}