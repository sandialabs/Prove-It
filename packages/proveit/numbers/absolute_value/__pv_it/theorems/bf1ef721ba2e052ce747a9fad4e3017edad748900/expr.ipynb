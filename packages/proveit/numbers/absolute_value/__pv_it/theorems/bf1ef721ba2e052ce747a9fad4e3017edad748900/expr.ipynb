{
 "cells": [
  {
   "cell_type": "markdown",
   "metadata": {},
   "source": [
    "Expression of type <a class=\"ProveItLink\" href=\"../../../../../../../doc/html/api/proveit.ExprTuple.html\">ExprTuple</a>\n",
    "=======================\n",
    "# from the theory of <a class=\"ProveItLink\" href=\"../../../_theory_nbs_/theory.ipynb\">proveit.numbers.absolute_value</a>"
   ]
  },
  {
   "cell_type": "code",
   "execution_count": 1,
   "metadata": {},
   "outputs": [],
   "source": [
    "import proveit\n",
    "# Automation is not needed when building an expression:\n",
    "proveit.defaults.automation = False # This will speed things up.\n",
    "proveit.defaults.inline_pngs = False # Makes files smaller.\n",
    "%load_expr # Load the stored expression as 'stored_expr'\n",
    "# import Expression classes needed to build the expression\n",
    "from proveit import Conditional, ExprRange, ExprTuple, IndexedVar, Lambda, Variable, n, x\n",
    "from proveit.core_expr_types import x_1_to_n\n",
    "from proveit.logic import And, InSet\n",
    "from proveit.numbers import Abs, Add, Complex, LessEq, one"
   ]
  },
  {
   "cell_type": "code",
   "execution_count": 2,
   "metadata": {},
   "outputs": [
    {
     "data": {
      "text/html": [
       "<strong id=\"expr\">expr:</strong> <a class=\"ProveItLink\" href=\"expr.ipynb\"><img src=\"expr.png\" style=\"display:inline;vertical-align:middle;\" /></a><br>"
      ],
      "text/plain": [
       "<IPython.core.display.HTML object>"
      ]
     },
     "metadata": {},
     "output_type": "display_data"
    }
   ],
   "source": [
    "# build up the expression from sub-expressions\n",
    "sub_expr1 = Variable(\"_a\", latex_format = r\"{_{-}a}\")\n",
    "sub_expr2 = IndexedVar(x, sub_expr1)\n",
    "expr = ExprTuple(Lambda([x_1_to_n], Conditional(LessEq(Abs(Add(x_1_to_n)), Add(ExprRange(sub_expr1, Abs(sub_expr2), one, n))), And(ExprRange(sub_expr1, InSet(sub_expr2, Complex), one, n)))))"
   ]
  },
  {
   "cell_type": "code",
   "execution_count": 3,
   "metadata": {},
   "outputs": [
    {
     "name": "stdout",
     "output_type": "stream",
     "text": [
      "Passed sanity check: expr matches stored_expr\n"
     ]
    }
   ],
   "source": [
    "# check that the built expression is the same as the stored expression\n",
    "assert expr == stored_expr\n",
    "assert expr._style_id == stored_expr._style_id\n",
    "print(\"Passed sanity check: expr matches stored_expr\")"
   ]
  },
  {
   "cell_type": "code",
   "execution_count": 4,
   "metadata": {},
   "outputs": [
    {
     "name": "stdout",
     "output_type": "stream",
     "text": [
      "\\left(\\left(x_{1}, x_{2}, \\ldots, x_{n}\\right) \\mapsto \\left\\{\\left|x_{1} +  x_{2} +  \\ldots +  x_{n}\\right| \\leq \\left(\\left|x_{1}\\right| +  \\left|x_{2}\\right| +  \\ldots +  \\left|x_{n}\\right|\\right) \\textrm{ if } \\left(x_{1} \\in \\mathbb{C}\\right) \\land  \\left(x_{2} \\in \\mathbb{C}\\right) \\land  \\ldots \\land  \\left(x_{n} \\in \\mathbb{C}\\right)\\right..\\right)\n"
     ]
    }
   ],
   "source": [
    "# Show the LaTeX representation of the expression for convenience if you need it.\n",
    "print(stored_expr.latex())"
   ]
  },
  {
   "cell_type": "code",
   "execution_count": 5,
   "metadata": {},
   "outputs": [
    {
     "data": {
      "text/html": [
       "no style options"
      ],
      "text/plain": [
       "no style options"
      ]
     },
     "metadata": {},
     "output_type": "display_data"
    }
   ],
   "source": [
    "stored_expr.style_options()"
   ]
  },
  {
   "cell_type": "code",
   "execution_count": 6,
   "metadata": {},
   "outputs": [
    {
     "data": {
      "text/html": [
       "<table><tr><th>&nbsp;</th><th>core type</th><th>sub-expressions</th><th>expression</th></tr>\n",
       "<tr><td>0</td><td>ExprTuple</td><td>1</td><td><a class=\"ProveItLink\" href=\"expr.ipynb\"><img src=\"expr.png\" style=\"display:inline;vertical-align:middle;\" /></a></td></tr>\n",
       "<tr><td>1</td><td>Lambda</td><td>parameters:&nbsp;19<br>body:&nbsp;2<br></td><td><a class=\"ProveItLink\" href=\"../50df5d4c96fba6d7d408c59ccc52049096419d6e0/expr.ipynb\"><img src=\"../50df5d4c96fba6d7d408c59ccc52049096419d6e0/expr.png\" style=\"display:inline;vertical-align:middle;\" /></a></td></tr>\n",
       "<tr><td>2</td><td>Conditional</td><td>value:&nbsp;3<br>condition:&nbsp;4<br></td><td><a class=\"ProveItLink\" href=\"../1181e2322b2939b9b105779dab72d1b7dd5318ad0/expr.ipynb\"><img src=\"../1181e2322b2939b9b105779dab72d1b7dd5318ad0/expr.png\" style=\"display:inline;vertical-align:middle;\" /></a></td></tr>\n",
       "<tr><td>3</td><td>Operation</td><td>operator:&nbsp;5<br>operands:&nbsp;6<br></td><td><a class=\"ProveItLink\" href=\"../0f28fc409c2a5cc48c319ef0c68ba7122a0e109c0/expr.ipynb\"><img src=\"../0f28fc409c2a5cc48c319ef0c68ba7122a0e109c0/expr.png\" style=\"display:inline;vertical-align:middle;\" /></a></td></tr>\n",
       "<tr><td>4</td><td>Operation</td><td>operator:&nbsp;7<br>operands:&nbsp;8<br></td><td><a class=\"ProveItLink\" href=\"../36a9f7cde0c96549106bc52c5a8313bd6910cf7e0/expr.ipynb\"><img src=\"../36a9f7cde0c96549106bc52c5a8313bd6910cf7e0/expr.png\" style=\"display:inline;vertical-align:middle;\" /></a></td></tr>\n",
       "<tr><td>5</td><td>Literal</td><td></td><td><a class=\"ProveItLink\" href=\"../../../../ordering/__pv_it/common/68379698d72b4689bbda4b5c5cca29ee599d70280/expr.ipynb\"><img src=\"../../../../ordering/__pv_it/common/68379698d72b4689bbda4b5c5cca29ee599d70280/expr.png\" style=\"display:inline;vertical-align:middle;\" /></a></td></tr>\n",
       "<tr><td>6</td><td>ExprTuple</td><td>9, 10</td><td><a class=\"ProveItLink\" href=\"../cd527191e472920327b211ee0ef771369eaf301e0/expr.ipynb\"><img src=\"../cd527191e472920327b211ee0ef771369eaf301e0/expr.png\" style=\"display:inline;vertical-align:middle;\" /></a></td></tr>\n",
       "<tr><td>7</td><td>Literal</td><td></td><td><a class=\"ProveItLink\" href=\"../../../../../logic/booleans/conjunction/__pv_it/common/42118ff318bd65d98b1393f64ce7c2269feef76e0/expr.ipynb\"><img src=\"../../../../../logic/booleans/conjunction/__pv_it/common/42118ff318bd65d98b1393f64ce7c2269feef76e0/expr.png\" style=\"display:inline;vertical-align:middle;\" /></a></td></tr>\n",
       "<tr><td>8</td><td>ExprTuple</td><td>11</td><td><a class=\"ProveItLink\" href=\"../6acab1405dac3e7550296c66f24888b7c48eadf80/expr.ipynb\"><img src=\"../6acab1405dac3e7550296c66f24888b7c48eadf80/expr.png\" style=\"display:inline;vertical-align:middle;\" /></a></td></tr>\n",
       "<tr><td>9</td><td>Operation</td><td>operator:&nbsp;29<br>operand:&nbsp;15<br></td><td><a class=\"ProveItLink\" href=\"../5a8668111fecc89b54c55d1d8cdca59f550ed83f0/expr.ipynb\"><img src=\"../5a8668111fecc89b54c55d1d8cdca59f550ed83f0/expr.png\" style=\"display:inline;vertical-align:middle;\" /></a></td></tr>\n",
       "<tr><td>10</td><td>Operation</td><td>operator:&nbsp;18<br>operands:&nbsp;13<br></td><td><a class=\"ProveItLink\" href=\"../a53d48b73a0ef8b31f610fa4858a92f1f1ed6eec0/expr.ipynb\"><img src=\"../a53d48b73a0ef8b31f610fa4858a92f1f1ed6eec0/expr.png\" style=\"display:inline;vertical-align:middle;\" /></a></td></tr>\n",
       "<tr><td>11</td><td>ExprRange</td><td>lambda_map:&nbsp;14<br>start_index:&nbsp;27<br>end_index:&nbsp;28<br></td><td><a class=\"ProveItLink\" href=\"../2de9369b45a908c70ce51ac54a63f9ba591079430/expr.ipynb\"><img src=\"../2de9369b45a908c70ce51ac54a63f9ba591079430/expr.png\" style=\"display:inline;vertical-align:middle;\" /></a></td></tr>\n",
       "<tr><td>12</td><td>ExprTuple</td><td>15</td><td><a class=\"ProveItLink\" href=\"../87940f845e4a6a1b0a6bc9522f1a9169933c6e350/expr.ipynb\"><img src=\"../87940f845e4a6a1b0a6bc9522f1a9169933c6e350/expr.png\" style=\"display:inline;vertical-align:middle;\" /></a></td></tr>\n",
       "<tr><td>13</td><td>ExprTuple</td><td>16</td><td><a class=\"ProveItLink\" href=\"../46c8dc91bf5408ed8b9b8e4653223225501219560/expr.ipynb\"><img src=\"../46c8dc91bf5408ed8b9b8e4653223225501219560/expr.png\" style=\"display:inline;vertical-align:middle;\" /></a></td></tr>\n",
       "<tr><td>14</td><td>Lambda</td><td>parameter:&nbsp;34<br>body:&nbsp;17<br></td><td><a class=\"ProveItLink\" href=\"../ab4411f29e7ed51e7ebbb4f3e0900ecb60f90bdd0/expr.ipynb\"><img src=\"../ab4411f29e7ed51e7ebbb4f3e0900ecb60f90bdd0/expr.png\" style=\"display:inline;vertical-align:middle;\" /></a></td></tr>\n",
       "<tr><td>15</td><td>Operation</td><td>operator:&nbsp;18<br>operands:&nbsp;19<br></td><td><a class=\"ProveItLink\" href=\"../ed7c4c030739d9d34c3d12f7ff851cc6c34ae4c80/expr.ipynb\"><img src=\"../ed7c4c030739d9d34c3d12f7ff851cc6c34ae4c80/expr.png\" style=\"display:inline;vertical-align:middle;\" /></a></td></tr>\n",
       "<tr><td>16</td><td>ExprRange</td><td>lambda_map:&nbsp;20<br>start_index:&nbsp;27<br>end_index:&nbsp;28<br></td><td><a class=\"ProveItLink\" href=\"../0d69e9b63d117c1cf6646811e62531df4042ddfa0/expr.ipynb\"><img src=\"../0d69e9b63d117c1cf6646811e62531df4042ddfa0/expr.png\" style=\"display:inline;vertical-align:middle;\" /></a></td></tr>\n",
       "<tr><td>17</td><td>Operation</td><td>operator:&nbsp;21<br>operands:&nbsp;22<br></td><td><a class=\"ProveItLink\" href=\"../d611efc6fe9c76d0f56638c84ffa73d0055fd2030/expr.ipynb\"><img src=\"../d611efc6fe9c76d0f56638c84ffa73d0055fd2030/expr.png\" style=\"display:inline;vertical-align:middle;\" /></a></td></tr>\n",
       "<tr><td>18</td><td>Literal</td><td></td><td><a class=\"ProveItLink\" href=\"../../../../addition/__pv_it/common/4b7effaab3619a1c2c38fe2dee8601df8ec714590/expr.ipynb\"><img src=\"../../../../addition/__pv_it/common/4b7effaab3619a1c2c38fe2dee8601df8ec714590/expr.png\" style=\"display:inline;vertical-align:middle;\" /></a></td></tr>\n",
       "<tr><td>19</td><td>ExprTuple</td><td>23</td><td><a class=\"ProveItLink\" href=\"../e29d2811b42e43e69e77c1c44413b65518ecad320/expr.ipynb\"><img src=\"../e29d2811b42e43e69e77c1c44413b65518ecad320/expr.png\" style=\"display:inline;vertical-align:middle;\" /></a></td></tr>\n",
       "<tr><td>20</td><td>Lambda</td><td>parameter:&nbsp;34<br>body:&nbsp;24<br></td><td><a class=\"ProveItLink\" href=\"../f7fbaf3774facd95a5c5921ea705f38fc667ae080/expr.ipynb\"><img src=\"../f7fbaf3774facd95a5c5921ea705f38fc667ae080/expr.png\" style=\"display:inline;vertical-align:middle;\" /></a></td></tr>\n",
       "<tr><td>21</td><td>Literal</td><td></td><td><a class=\"ProveItLink\" href=\"../../../../../logic/sets/membership/__pv_it/common/477487d8796864d23d5810f83761435f25167f690/expr.ipynb\"><img src=\"../../../../../logic/sets/membership/__pv_it/common/477487d8796864d23d5810f83761435f25167f690/expr.png\" style=\"display:inline;vertical-align:middle;\" /></a></td></tr>\n",
       "<tr><td>22</td><td>ExprTuple</td><td>31, 25</td><td><a class=\"ProveItLink\" href=\"../03742928b5d35a45febd8f0078a10fe1844f10720/expr.ipynb\"><img src=\"../03742928b5d35a45febd8f0078a10fe1844f10720/expr.png\" style=\"display:inline;vertical-align:middle;\" /></a></td></tr>\n",
       "<tr><td>23</td><td>ExprRange</td><td>lambda_map:&nbsp;26<br>start_index:&nbsp;27<br>end_index:&nbsp;28<br></td><td><a class=\"ProveItLink\" href=\"../../../../../core_expr_types/__pv_it/common/d50f819f834d55ea1b9fad150926a94bf07ad8fc0/expr.ipynb\"><img src=\"../../../../../core_expr_types/__pv_it/common/d50f819f834d55ea1b9fad150926a94bf07ad8fc0/expr.png\" style=\"display:inline;vertical-align:middle;\" /></a></td></tr>\n",
       "<tr><td>24</td><td>Operation</td><td>operator:&nbsp;29<br>operand:&nbsp;31<br></td><td><a class=\"ProveItLink\" href=\"../88757e291a0bea7504bcd31a22332f8ffc721ddb0/expr.ipynb\"><img src=\"../88757e291a0bea7504bcd31a22332f8ffc721ddb0/expr.png\" style=\"display:inline;vertical-align:middle;\" /></a></td></tr>\n",
       "<tr><td>25</td><td>Literal</td><td></td><td><a class=\"ProveItLink\" href=\"../../../../number_sets/complex_numbers/__pv_it/common/d18a028138f659eda00de597c28a3447fe87eb100/expr.ipynb\"><img src=\"../../../../number_sets/complex_numbers/__pv_it/common/d18a028138f659eda00de597c28a3447fe87eb100/expr.png\" style=\"display:inline;vertical-align:middle;\" /></a></td></tr>\n",
       "<tr><td>26</td><td>Lambda</td><td>parameter:&nbsp;34<br>body:&nbsp;31<br></td><td><a class=\"ProveItLink\" href=\"../../../../../core_expr_types/__pv_it/common/f8f30fee5e5b4e37951ff8886b574795bf35d80c0/expr.ipynb\"><img src=\"../../../../../core_expr_types/__pv_it/common/f8f30fee5e5b4e37951ff8886b574795bf35d80c0/expr.png\" style=\"display:inline;vertical-align:middle;\" /></a></td></tr>\n",
       "<tr><td>27</td><td>Literal</td><td></td><td><a class=\"ProveItLink\" href=\"../../../../numerals/__pv_it/common/682157d4892d216d9e5626ed533aff9b56b9506e0/expr.ipynb\"><img src=\"../../../../numerals/__pv_it/common/682157d4892d216d9e5626ed533aff9b56b9506e0/expr.png\" style=\"display:inline;vertical-align:middle;\" /></a></td></tr>\n",
       "<tr><td>28</td><td>Variable</td><td></td><td><a class=\"ProveItLink\" href=\"../../../../../__pv_it/common/8968bb04eb3f7dfa02353397ce929b025bbd79c20/expr.ipynb\"><img src=\"../../../../../__pv_it/common/8968bb04eb3f7dfa02353397ce929b025bbd79c20/expr.png\" style=\"display:inline;vertical-align:middle;\" /></a></td></tr>\n",
       "<tr><td>29</td><td>Literal</td><td></td><td><a class=\"ProveItLink\" href=\"../../common/eea56c667bc0aad2dc76ed04b44c2bd98b94005f0/expr.ipynb\"><img src=\"../../common/eea56c667bc0aad2dc76ed04b44c2bd98b94005f0/expr.png\" style=\"display:inline;vertical-align:middle;\" /></a></td></tr>\n",
       "<tr><td>30</td><td>ExprTuple</td><td>31</td><td><a class=\"ProveItLink\" href=\"../c3fb258b21dd7b94a146f8c3ae39c8c158e119dd0/expr.ipynb\"><img src=\"../c3fb258b21dd7b94a146f8c3ae39c8c158e119dd0/expr.png\" style=\"display:inline;vertical-align:middle;\" /></a></td></tr>\n",
       "<tr><td>31</td><td>IndexedVar</td><td>variable:&nbsp;32<br>index:&nbsp;34<br></td><td><a class=\"ProveItLink\" href=\"../../../../../core_expr_types/__pv_it/common/b7a46615d4e67a28ab963909b818c72af8e8e7c60/expr.ipynb\"><img src=\"../../../../../core_expr_types/__pv_it/common/b7a46615d4e67a28ab963909b818c72af8e8e7c60/expr.png\" style=\"display:inline;vertical-align:middle;\" /></a></td></tr>\n",
       "<tr><td>32</td><td>Variable</td><td></td><td><a class=\"ProveItLink\" href=\"../../../../../__pv_it/common/a0d9d672aa5e272d907247690c152cc2c6daafb70/expr.ipynb\"><img src=\"../../../../../__pv_it/common/a0d9d672aa5e272d907247690c152cc2c6daafb70/expr.png\" style=\"display:inline;vertical-align:middle;\" /></a></td></tr>\n",
       "<tr><td>33</td><td>ExprTuple</td><td>34</td><td><a class=\"ProveItLink\" href=\"../../../../../core_expr_types/__pv_it/common/4b0dd6be36d76552eda6a95d5b4a27f5a5b62f900/expr.ipynb\"><img src=\"../../../../../core_expr_types/__pv_it/common/4b0dd6be36d76552eda6a95d5b4a27f5a5b62f900/expr.png\" style=\"display:inline;vertical-align:middle;\" /></a></td></tr>\n",
       "<tr><td>34</td><td>Variable</td><td></td><td><a class=\"ProveItLink\" href=\"../../../../../core_expr_types/__pv_it/common/006c465e50948aa2b52285e2de47974f741255cc0/expr.ipynb\"><img src=\"../../../../../core_expr_types/__pv_it/common/006c465e50948aa2b52285e2de47974f741255cc0/expr.png\" style=\"display:inline;vertical-align:middle;\" /></a></td></tr>\n",
       "</table>\n"
      ],
      "text/plain": [
       "0. ((x_{1}, x_{2}, ..., x_{n}) -> {|x_{1} +  x_{2} +  ... +  x_{n}| <= (|x_{1}| +  |x_{2}| +  ... +  |x_{n}|) if (x_{1} in Complex) and  (x_{2} in Complex) and  ... and  (x_{n} in Complex).)\n",
       "   core type: ExprTuple\n",
       "   sub-expressions: 1\n",
       "1. (x_{1}, x_{2}, ..., x_{n}) -> {|x_{1} +  x_{2} +  ... +  x_{n}| <= (|x_{1}| +  |x_{2}| +  ... +  |x_{n}|) if (x_{1} in Complex) and  (x_{2} in Complex) and  ... and  (x_{n} in Complex).\n",
       "   core type: Lambda\n",
       "   parameters: 19\\n   body: 2\n",
       "2. {|x_{1} +  x_{2} +  ... +  x_{n}| <= (|x_{1}| +  |x_{2}| +  ... +  |x_{n}|) if (x_{1} in Complex) and  (x_{2} in Complex) and  ... and  (x_{n} in Complex).\n",
       "   core type: Conditional\n",
       "   value: 3\n",
       "   condition: 4\n",
       "3. |x_{1} +  x_{2} +  ... +  x_{n}| <= (|x_{1}| +  |x_{2}| +  ... +  |x_{n}|)\n",
       "   core type: Operation\n",
       "   operator: 5\n",
       "   operands: 6\n",
       "4. (x_{1} in Complex) and  (x_{2} in Complex) and  ... and  (x_{n} in Complex)\n",
       "   core type: Operation\n",
       "   operator: 7\n",
       "   operands: 8\n",
       "5. <=\n",
       "   core type: Literal\n",
       "   sub-expressions: \n",
       "6. (|x_{1} +  x_{2} +  ... +  x_{n}|, |x_{1}| +  |x_{2}| +  ... +  |x_{n}|)\n",
       "   core type: ExprTuple\n",
       "   sub-expressions: 9, 10\n",
       "7. and\n",
       "   core type: Literal\n",
       "   sub-expressions: \n",
       "8. ((x_{1} in Complex), (x_{2} in Complex), ..., (x_{n} in Complex))\n",
       "   core type: ExprTuple\n",
       "   sub-expressions: 11\n",
       "9. |x_{1} +  x_{2} +  ... +  x_{n}|\n",
       "   core type: Operation\n",
       "   operator: 29\n",
       "   operand: 15\n",
       "10. |x_{1}| +  |x_{2}| +  ... +  |x_{n}|\n",
       "    core type: Operation\n",
       "    operator: 18\n",
       "    operands: 13\n",
       "11. (x_{1} in Complex), (x_{2} in Complex), ..., (x_{n} in Complex)\n",
       "    core type: ExprRange\n",
       "    lambda_map: 14\n",
       "    start_index: 27\n",
       "    end_index: 28\n",
       "12. (x_{1} +  x_{2} +  ... +  x_{n})\n",
       "    core type: ExprTuple\n",
       "    sub-expressions: 15\n",
       "13. (|x_{1}|, |x_{2}|, ..., |x_{n}|)\n",
       "    core type: ExprTuple\n",
       "    sub-expressions: 16\n",
       "14. _a -> (x_{_a} in Complex)\n",
       "    core type: Lambda\n",
       "    parameter: 34\n",
       "    body: 17\n",
       "15. x_{1} +  x_{2} +  ... +  x_{n}\n",
       "    core type: Operation\n",
       "    operator: 18\n",
       "    operands: 19\n",
       "16. |x_{1}|, |x_{2}|, ..., |x_{n}|\n",
       "    core type: ExprRange\n",
       "    lambda_map: 20\n",
       "    start_index: 27\n",
       "    end_index: 28\n",
       "17. x_{_a} in Complex\n",
       "    core type: Operation\n",
       "    operator: 21\n",
       "    operands: 22\n",
       "18. +\n",
       "    core type: Literal\n",
       "    sub-expressions: \n",
       "19. (x_{1}, x_{2}, ..., x_{n})\n",
       "    core type: ExprTuple\n",
       "    sub-expressions: 23\n",
       "20. _a -> |x_{_a}|\n",
       "    core type: Lambda\n",
       "    parameter: 34\n",
       "    body: 24\n",
       "21. in\n",
       "    core type: Literal\n",
       "    sub-expressions: \n",
       "22. (x_{_a}, Complex)\n",
       "    core type: ExprTuple\n",
       "    sub-expressions: 31, 25\n",
       "23. x_{1}, x_{2}, ..., x_{n}\n",
       "    core type: ExprRange\n",
       "    lambda_map: 26\n",
       "    start_index: 27\n",
       "    end_index: 28\n",
       "24. |x_{_a}|\n",
       "    core type: Operation\n",
       "    operator: 29\n",
       "    operand: 31\n",
       "25. Complex\n",
       "    core type: Literal\n",
       "    sub-expressions: \n",
       "26. _a -> x_{_a}\n",
       "    core type: Lambda\n",
       "    parameter: 34\n",
       "    body: 31\n",
       "27. 1\n",
       "    core type: Literal\n",
       "    sub-expressions: \n",
       "28. n\n",
       "    core type: Variable\n",
       "    sub-expressions: \n",
       "29. Abs\n",
       "    core type: Literal\n",
       "    sub-expressions: \n",
       "30. (x_{_a})\n",
       "    core type: ExprTuple\n",
       "    sub-expressions: 31\n",
       "31. x_{_a}\n",
       "    core type: IndexedVar\n",
       "variable: 32\n",
       "index: 34\n",
       "32. x\n",
       "    core type: Variable\n",
       "    sub-expressions: \n",
       "33. (_a)\n",
       "    core type: ExprTuple\n",
       "    sub-expressions: 34\n",
       "34. _a\n",
       "    core type: Variable\n",
       "    sub-expressions: "
      ]
     },
     "metadata": {},
     "output_type": "display_data"
    }
   ],
   "source": [
    "# display the expression information\n",
    "stored_expr.expr_info()"
   ]
  },
  {
   "cell_type": "code",
   "execution_count": null,
   "metadata": {},
   "outputs": [],
   "source": []
  }
 ],
 "metadata": {
  "kernelspec": {
   "display_name": "Python 3",
   "language": "python",
   "name": "python3"
  }
 },
 "nbformat": 4,
 "nbformat_minor": 0
}