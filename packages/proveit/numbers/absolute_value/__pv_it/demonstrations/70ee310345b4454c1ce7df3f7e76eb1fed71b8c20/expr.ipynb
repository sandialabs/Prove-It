{
 "cells": [
  {
   "cell_type": "markdown",
   "metadata": {},
   "source": [
    "Expression of type <a class=\"ProveItLink\" href=\"../../../../../../../doc/html/api/proveit.ExprTuple.html\">ExprTuple</a>\n",
    "=======================\n",
    "# from the theory of <a class=\"ProveItLink\" href=\"../../../_theory_nbs_/theory.ipynb\">proveit.numbers.absolute_value</a>"
   ]
  },
  {
   "cell_type": "code",
   "execution_count": 1,
   "metadata": {},
   "outputs": [],
   "source": [
    "import proveit\n",
    "# Automation is not needed when building an expression:\n",
    "proveit.defaults.automation = False # This will speed things up.\n",
    "proveit.defaults.inline_pngs = False # Makes files smaller.\n",
    "%load_expr # Load the stored expression as 'stored_expr'\n",
    "# import Expression classes needed to build the expression\n",
    "from proveit import ExprTuple, r, theta\n",
    "from proveit.numbers import Abs, Exp, Mult, Neg, e, i"
   ]
  },
  {
   "cell_type": "code",
   "execution_count": 2,
   "metadata": {},
   "outputs": [
    {
     "data": {
      "text/html": [
       "<strong id=\"expr\">expr:</strong> <a class=\"ProveItLink\" href=\"expr.ipynb\"><img src=\"expr.png\" style=\"display:inline;vertical-align:middle;\" /></a><br>"
      ],
      "text/plain": [
       "<IPython.core.display.HTML object>"
      ]
     },
     "metadata": {},
     "output_type": "display_data"
    }
   ],
   "source": [
    "# build up the expression from sub-expressions\n",
    "expr = ExprTuple(Abs(Mult(Neg(r), Exp(e, Mult(Neg(theta), i)))), Abs(Neg(Mult(r, Exp(e, Neg(Mult(theta, i)))))))"
   ]
  },
  {
   "cell_type": "code",
   "execution_count": 3,
   "metadata": {},
   "outputs": [
    {
     "name": "stdout",
     "output_type": "stream",
     "text": [
      "Passed sanity check: expr matches stored_expr\n"
     ]
    }
   ],
   "source": [
    "# check that the built expression is the same as the stored expression\n",
    "assert expr == stored_expr\n",
    "assert expr._style_id == stored_expr._style_id\n",
    "print(\"Passed sanity check: expr matches stored_expr\")"
   ]
  },
  {
   "cell_type": "code",
   "execution_count": 4,
   "metadata": {},
   "outputs": [
    {
     "name": "stdout",
     "output_type": "stream",
     "text": [
      "\\left(\\left|\\left(-r\\right) \\cdot \\mathsf{e}^{\\left(-\\theta\\right) \\cdot \\mathsf{i}}\\right|, \\left|-\\left(r \\cdot \\mathsf{e}^{-\\left(\\theta \\cdot \\mathsf{i}\\right)}\\right)\\right|\\right)\n"
     ]
    }
   ],
   "source": [
    "# Show the LaTeX representation of the expression for convenience if you need it.\n",
    "print(stored_expr.latex())"
   ]
  },
  {
   "cell_type": "code",
   "execution_count": 5,
   "metadata": {},
   "outputs": [
    {
     "data": {
      "text/html": [
       "<table>\n",
       "<tr><th>name</th><th>description</th><th>default</th><th>current value</th><th>related methods</th></tr><tr><td>wrap_positions</td><td>position(s) at which wrapping is to occur; 'n' is after the nth comma.</td><td>()</td><td>()</td><td>('with_wrapping_at',)</td></tr>\n",
       "<tr><td>justification</td><td>if any wrap positions are set, justify to the 'left', 'center', or 'right'</td><td>left</td><td>left</td><td>('with_justification',)</td></tr>\n",
       "</table>\n"
      ],
      "text/plain": [
       "style name: wrap_positions\n",
       "description: position(s) at which wrapping is to occur; 'n' is after the nth comma.\n",
       "default: ()\n",
       "current value: ()\n",
       "related methods: ('with_wrapping_at',)\n",
       "style name: justification\n",
       "description: if any wrap positions are set, justify to the 'left', 'center', or 'right'\n",
       "default: left\n",
       "current value: left\n",
       "related methods: ('with_justification',)"
      ]
     },
     "metadata": {},
     "output_type": "display_data"
    }
   ],
   "source": [
    "stored_expr.style_options()"
   ]
  },
  {
   "cell_type": "code",
   "execution_count": 6,
   "metadata": {},
   "outputs": [
    {
     "data": {
      "text/html": [
       "<table><tr><th>&nbsp;</th><th>core type</th><th>sub-expressions</th><th>expression</th></tr>\n",
       "<tr><td>0</td><td>ExprTuple</td><td>1, 2</td><td><a class=\"ProveItLink\" href=\"expr.ipynb\"><img src=\"expr.png\" style=\"display:inline;vertical-align:middle;\" /></a></td></tr>\n",
       "<tr><td>1</td><td>Operation</td><td>operator:&nbsp;4<br>operand:&nbsp;6<br></td><td><a class=\"ProveItLink\" href=\"../26973ca66d00bde99008770adb26aacb61dbe0050/expr.ipynb\"><img src=\"../26973ca66d00bde99008770adb26aacb61dbe0050/expr.png\" style=\"display:inline;vertical-align:middle;\" /></a></td></tr>\n",
       "<tr><td>2</td><td>Operation</td><td>operator:&nbsp;4<br>operand:&nbsp;7<br></td><td><a class=\"ProveItLink\" href=\"../ef16afccdb71b731b83bf64807b086bdc453e4850/expr.ipynb\"><img src=\"../ef16afccdb71b731b83bf64807b086bdc453e4850/expr.png\" style=\"display:inline;vertical-align:middle;\" /></a></td></tr>\n",
       "<tr><td>3</td><td>ExprTuple</td><td>6</td><td><a class=\"ProveItLink\" href=\"../f3742a31325c1e4a6a60c168a3bb0da2fcef60100/expr.ipynb\"><img src=\"../f3742a31325c1e4a6a60c168a3bb0da2fcef60100/expr.png\" style=\"display:inline;vertical-align:middle;\" /></a></td></tr>\n",
       "<tr><td>4</td><td>Literal</td><td></td><td><a class=\"ProveItLink\" href=\"../../common/eea56c667bc0aad2dc76ed04b44c2bd98b94005f0/expr.ipynb\"><img src=\"../../common/eea56c667bc0aad2dc76ed04b44c2bd98b94005f0/expr.png\" style=\"display:inline;vertical-align:middle;\" /></a></td></tr>\n",
       "<tr><td>5</td><td>ExprTuple</td><td>7</td><td><a class=\"ProveItLink\" href=\"../e418438ec157e78258e7fafa515757de9dd52d1d0/expr.ipynb\"><img src=\"../e418438ec157e78258e7fafa515757de9dd52d1d0/expr.png\" style=\"display:inline;vertical-align:middle;\" /></a></td></tr>\n",
       "<tr><td>6</td><td>Operation</td><td>operator:&nbsp;29<br>operands:&nbsp;8<br></td><td><a class=\"ProveItLink\" href=\"../b74b4f40e75846d3522b08fd174cbccca5872bfa0/expr.ipynb\"><img src=\"../b74b4f40e75846d3522b08fd174cbccca5872bfa0/expr.png\" style=\"display:inline;vertical-align:middle;\" /></a></td></tr>\n",
       "<tr><td>7</td><td>Operation</td><td>operator:&nbsp;26<br>operand:&nbsp;12<br></td><td><a class=\"ProveItLink\" href=\"../9da74d8a997feac571421defb9ed43b16d61a16f0/expr.ipynb\"><img src=\"../9da74d8a997feac571421defb9ed43b16d61a16f0/expr.png\" style=\"display:inline;vertical-align:middle;\" /></a></td></tr>\n",
       "<tr><td>8</td><td>ExprTuple</td><td>10, 11</td><td><a class=\"ProveItLink\" href=\"../97d2ea0b68f26d662ee6105f6b4602b41973eb110/expr.ipynb\"><img src=\"../97d2ea0b68f26d662ee6105f6b4602b41973eb110/expr.png\" style=\"display:inline;vertical-align:middle;\" /></a></td></tr>\n",
       "<tr><td>9</td><td>ExprTuple</td><td>12</td><td><a class=\"ProveItLink\" href=\"../23e3da6641a6aa81039a5d1026066964bd06ef8f0/expr.ipynb\"><img src=\"../23e3da6641a6aa81039a5d1026066964bd06ef8f0/expr.png\" style=\"display:inline;vertical-align:middle;\" /></a></td></tr>\n",
       "<tr><td>10</td><td>Operation</td><td>operator:&nbsp;26<br>operand:&nbsp;17<br></td><td><a class=\"ProveItLink\" href=\"../../../../number_sets/complex_numbers/__pv_it/theorems/5283edfebbd0a5f7e52a45ee0d6a915657a1b68b0/expr.ipynb\"><img src=\"../../../../number_sets/complex_numbers/__pv_it/theorems/5283edfebbd0a5f7e52a45ee0d6a915657a1b68b0/expr.png\" style=\"display:inline;vertical-align:middle;\" /></a></td></tr>\n",
       "<tr><td>11</td><td>Operation</td><td>operator:&nbsp;20<br>operands:&nbsp;14<br></td><td><a class=\"ProveItLink\" href=\"../970dc93a6e3d9cff953dfab98ffee14726a27ddc0/expr.ipynb\"><img src=\"../970dc93a6e3d9cff953dfab98ffee14726a27ddc0/expr.png\" style=\"display:inline;vertical-align:middle;\" /></a></td></tr>\n",
       "<tr><td>12</td><td>Operation</td><td>operator:&nbsp;29<br>operands:&nbsp;15<br></td><td><a class=\"ProveItLink\" href=\"../e2713f98b86e86a33ba787798a7505438813d7cf0/expr.ipynb\"><img src=\"../e2713f98b86e86a33ba787798a7505438813d7cf0/expr.png\" style=\"display:inline;vertical-align:middle;\" /></a></td></tr>\n",
       "<tr><td>13</td><td>ExprTuple</td><td>17</td><td><a class=\"ProveItLink\" href=\"../../../../number_sets/complex_numbers/__pv_it/theorems/383971f177f555479e56ab9efa344819f22777b60/expr.ipynb\"><img src=\"../../../../number_sets/complex_numbers/__pv_it/theorems/383971f177f555479e56ab9efa344819f22777b60/expr.png\" style=\"display:inline;vertical-align:middle;\" /></a></td></tr>\n",
       "<tr><td>14</td><td>ExprTuple</td><td>23, 16</td><td><a class=\"ProveItLink\" href=\"../244717f79244dd931d9b6435d38bbeab636af6810/expr.ipynb\"><img src=\"../244717f79244dd931d9b6435d38bbeab636af6810/expr.png\" style=\"display:inline;vertical-align:middle;\" /></a></td></tr>\n",
       "<tr><td>15</td><td>ExprTuple</td><td>17, 18</td><td><a class=\"ProveItLink\" href=\"../668722e75bc5f1666847374d36fa9fdccd4247a10/expr.ipynb\"><img src=\"../668722e75bc5f1666847374d36fa9fdccd4247a10/expr.png\" style=\"display:inline;vertical-align:middle;\" /></a></td></tr>\n",
       "<tr><td>16</td><td>Operation</td><td>operator:&nbsp;29<br>operands:&nbsp;19<br></td><td><a class=\"ProveItLink\" href=\"../921a6898040cbd3959f945eb53489562f9222ba20/expr.ipynb\"><img src=\"../921a6898040cbd3959f945eb53489562f9222ba20/expr.png\" style=\"display:inline;vertical-align:middle;\" /></a></td></tr>\n",
       "<tr><td>17</td><td>Variable</td><td></td><td><a class=\"ProveItLink\" href=\"../../../../../__pv_it/common/c3df45f28d41d286d2eebe2be9be7af76c74d56b0/expr.ipynb\"><img src=\"../../../../../__pv_it/common/c3df45f28d41d286d2eebe2be9be7af76c74d56b0/expr.png\" style=\"display:inline;vertical-align:middle;\" /></a></td></tr>\n",
       "<tr><td>18</td><td>Operation</td><td>operator:&nbsp;20<br>operands:&nbsp;21<br></td><td><a class=\"ProveItLink\" href=\"../bc2713da72b491922fca9da18b9e9a837cb31d740/expr.ipynb\"><img src=\"../bc2713da72b491922fca9da18b9e9a837cb31d740/expr.png\" style=\"display:inline;vertical-align:middle;\" /></a></td></tr>\n",
       "<tr><td>19</td><td>ExprTuple</td><td>22, 32</td><td><a class=\"ProveItLink\" href=\"../d2d1a6ec456205dc67e153fdc387f477f067d2a30/expr.ipynb\"><img src=\"../d2d1a6ec456205dc67e153fdc387f477f067d2a30/expr.png\" style=\"display:inline;vertical-align:middle;\" /></a></td></tr>\n",
       "<tr><td>20</td><td>Literal</td><td></td><td><a class=\"ProveItLink\" href=\"../../../../exponentiation/__pv_it/common/0ac37aca1e54c35c5cda09672df32d4f69f1f3020/expr.ipynb\"><img src=\"../../../../exponentiation/__pv_it/common/0ac37aca1e54c35c5cda09672df32d4f69f1f3020/expr.png\" style=\"display:inline;vertical-align:middle;\" /></a></td></tr>\n",
       "<tr><td>21</td><td>ExprTuple</td><td>23, 24</td><td><a class=\"ProveItLink\" href=\"../e211729a4c3a8038bfd4a7deb928c757c121fdba0/expr.ipynb\"><img src=\"../e211729a4c3a8038bfd4a7deb928c757c121fdba0/expr.png\" style=\"display:inline;vertical-align:middle;\" /></a></td></tr>\n",
       "<tr><td>22</td><td>Operation</td><td>operator:&nbsp;26<br>operand:&nbsp;31<br></td><td><a class=\"ProveItLink\" href=\"../7b5cc29bc0b4487d872d2c53582668beba4fde6c0/expr.ipynb\"><img src=\"../7b5cc29bc0b4487d872d2c53582668beba4fde6c0/expr.png\" style=\"display:inline;vertical-align:middle;\" /></a></td></tr>\n",
       "<tr><td>23</td><td>Literal</td><td></td><td><a class=\"ProveItLink\" href=\"../../../../number_sets/real_numbers/__pv_it/common/e531ffa54fd897084533764a4a14f19f590674f80/expr.ipynb\"><img src=\"../../../../number_sets/real_numbers/__pv_it/common/e531ffa54fd897084533764a4a14f19f590674f80/expr.png\" style=\"display:inline;vertical-align:middle;\" /></a></td></tr>\n",
       "<tr><td>24</td><td>Operation</td><td>operator:&nbsp;26<br>operand:&nbsp;28<br></td><td><a class=\"ProveItLink\" href=\"../820c2e08d00b84a3169c472588c4e0a28072ac3e0/expr.ipynb\"><img src=\"../820c2e08d00b84a3169c472588c4e0a28072ac3e0/expr.png\" style=\"display:inline;vertical-align:middle;\" /></a></td></tr>\n",
       "<tr><td>25</td><td>ExprTuple</td><td>31</td><td><a class=\"ProveItLink\" href=\"../../../../number_sets/complex_numbers/__pv_it/theorems/b552db72f8405cd45673f8b4dbbabc4eec4feb090/expr.ipynb\"><img src=\"../../../../number_sets/complex_numbers/__pv_it/theorems/b552db72f8405cd45673f8b4dbbabc4eec4feb090/expr.png\" style=\"display:inline;vertical-align:middle;\" /></a></td></tr>\n",
       "<tr><td>26</td><td>Literal</td><td></td><td><a class=\"ProveItLink\" href=\"../../../../negation/__pv_it/common/221b3c4d1770ee9051b7c044c3f9ec61196fc34b0/expr.ipynb\"><img src=\"../../../../negation/__pv_it/common/221b3c4d1770ee9051b7c044c3f9ec61196fc34b0/expr.png\" style=\"display:inline;vertical-align:middle;\" /></a></td></tr>\n",
       "<tr><td>27</td><td>ExprTuple</td><td>28</td><td><a class=\"ProveItLink\" href=\"../64d12cd7a33ddf4e41ae05655033dc6638e47ded0/expr.ipynb\"><img src=\"../64d12cd7a33ddf4e41ae05655033dc6638e47ded0/expr.png\" style=\"display:inline;vertical-align:middle;\" /></a></td></tr>\n",
       "<tr><td>28</td><td>Operation</td><td>operator:&nbsp;29<br>operands:&nbsp;30<br></td><td><a class=\"ProveItLink\" href=\"../27aaf124162b409b144cf2ad77423309d9f43af60/expr.ipynb\"><img src=\"../27aaf124162b409b144cf2ad77423309d9f43af60/expr.png\" style=\"display:inline;vertical-align:middle;\" /></a></td></tr>\n",
       "<tr><td>29</td><td>Literal</td><td></td><td><a class=\"ProveItLink\" href=\"../../../../multiplication/__pv_it/common/ed719cef37831779c16481533a4d380a2f95ab270/expr.ipynb\"><img src=\"../../../../multiplication/__pv_it/common/ed719cef37831779c16481533a4d380a2f95ab270/expr.png\" style=\"display:inline;vertical-align:middle;\" /></a></td></tr>\n",
       "<tr><td>30</td><td>ExprTuple</td><td>31, 32</td><td><a class=\"ProveItLink\" href=\"../6c92dc6dc4fefcead5c495d876f9878e642d390a0/expr.ipynb\"><img src=\"../6c92dc6dc4fefcead5c495d876f9878e642d390a0/expr.png\" style=\"display:inline;vertical-align:middle;\" /></a></td></tr>\n",
       "<tr><td>31</td><td>Variable</td><td></td><td><a class=\"ProveItLink\" href=\"../../../../../__pv_it/common/b011a4fec64a1c824cf176959ebc716edbf098a10/expr.ipynb\"><img src=\"../../../../../__pv_it/common/b011a4fec64a1c824cf176959ebc716edbf098a10/expr.png\" style=\"display:inline;vertical-align:middle;\" /></a></td></tr>\n",
       "<tr><td>32</td><td>Literal</td><td></td><td><a class=\"ProveItLink\" href=\"../../../../number_sets/complex_numbers/__pv_it/common/6c9cc69d472f352324c298b2318df233e9a7e0250/expr.ipynb\"><img src=\"../../../../number_sets/complex_numbers/__pv_it/common/6c9cc69d472f352324c298b2318df233e9a7e0250/expr.png\" style=\"display:inline;vertical-align:middle;\" /></a></td></tr>\n",
       "</table>\n"
      ],
      "text/plain": [
       "0. (|(-r) * e^{(-theta) * i}|, |-(r * e^{-(theta * i)})|)\n",
       "   core type: ExprTuple\n",
       "   sub-expressions: 1, 2\n",
       "1. |(-r) * e^{(-theta) * i}|\n",
       "   core type: Operation\n",
       "   operator: 4\n",
       "   operand: 6\n",
       "2. |-(r * e^{-(theta * i)})|\n",
       "   core type: Operation\n",
       "   operator: 4\n",
       "   operand: 7\n",
       "3. ((-r) * e^{(-theta) * i})\n",
       "   core type: ExprTuple\n",
       "   sub-expressions: 6\n",
       "4. Abs\n",
       "   core type: Literal\n",
       "   sub-expressions: \n",
       "5. (-(r * e^{-(theta * i)}))\n",
       "   core type: ExprTuple\n",
       "   sub-expressions: 7\n",
       "6. (-r) * e^{(-theta) * i}\n",
       "   core type: Operation\n",
       "   operator: 29\n",
       "   operands: 8\n",
       "7. -(r * e^{-(theta * i)})\n",
       "   core type: Operation\n",
       "   operator: 26\n",
       "   operand: 12\n",
       "8. (-r, e^{(-theta) * i})\n",
       "   core type: ExprTuple\n",
       "   sub-expressions: 10, 11\n",
       "9. (r * e^{-(theta * i)})\n",
       "   core type: ExprTuple\n",
       "   sub-expressions: 12\n",
       "10. -r\n",
       "    core type: Operation\n",
       "    operator: 26\n",
       "    operand: 17\n",
       "11. e^{(-theta) * i}\n",
       "    core type: Operation\n",
       "    operator: 20\n",
       "    operands: 14\n",
       "12. r * e^{-(theta * i)}\n",
       "    core type: Operation\n",
       "    operator: 29\n",
       "    operands: 15\n",
       "13. (r)\n",
       "    core type: ExprTuple\n",
       "    sub-expressions: 17\n",
       "14. (e, (-theta) * i)\n",
       "    core type: ExprTuple\n",
       "    sub-expressions: 23, 16\n",
       "15. (r, e^{-(theta * i)})\n",
       "    core type: ExprTuple\n",
       "    sub-expressions: 17, 18\n",
       "16. (-theta) * i\n",
       "    core type: Operation\n",
       "    operator: 29\n",
       "    operands: 19\n",
       "17. r\n",
       "    core type: Variable\n",
       "    sub-expressions: \n",
       "18. e^{-(theta * i)}\n",
       "    core type: Operation\n",
       "    operator: 20\n",
       "    operands: 21\n",
       "19. (-theta, i)\n",
       "    core type: ExprTuple\n",
       "    sub-expressions: 22, 32\n",
       "20. Exp\n",
       "    core type: Literal\n",
       "    sub-expressions: \n",
       "21. (e, -(theta * i))\n",
       "    core type: ExprTuple\n",
       "    sub-expressions: 23, 24\n",
       "22. -theta\n",
       "    core type: Operation\n",
       "    operator: 26\n",
       "    operand: 31\n",
       "23. e\n",
       "    core type: Literal\n",
       "    sub-expressions: \n",
       "24. -(theta * i)\n",
       "    core type: Operation\n",
       "    operator: 26\n",
       "    operand: 28\n",
       "25. (theta)\n",
       "    core type: ExprTuple\n",
       "    sub-expressions: 31\n",
       "26. -\n",
       "    core type: Literal\n",
       "    sub-expressions: \n",
       "27. (theta * i)\n",
       "    core type: ExprTuple\n",
       "    sub-expressions: 28\n",
       "28. theta * i\n",
       "    core type: Operation\n",
       "    operator: 29\n",
       "    operands: 30\n",
       "29. *\n",
       "    core type: Literal\n",
       "    sub-expressions: \n",
       "30. (theta, i)\n",
       "    core type: ExprTuple\n",
       "    sub-expressions: 31, 32\n",
       "31. theta\n",
       "    core type: Variable\n",
       "    sub-expressions: \n",
       "32. i\n",
       "    core type: Literal\n",
       "    sub-expressions: "
      ]
     },
     "metadata": {},
     "output_type": "display_data"
    }
   ],
   "source": [
    "# display the expression information\n",
    "stored_expr.expr_info()"
   ]
  },
  {
   "cell_type": "code",
   "execution_count": null,
   "metadata": {},
   "outputs": [],
   "source": []
  }
 ],
 "metadata": {
  "kernelspec": {
   "display_name": "Python 3",
   "language": "python",
   "name": "python3"
  }
 },
 "nbformat": 4,
 "nbformat_minor": 0
}