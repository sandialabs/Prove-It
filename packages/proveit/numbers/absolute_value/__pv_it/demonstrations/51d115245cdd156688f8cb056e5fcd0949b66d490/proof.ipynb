{
 "cells": [
  {
   "cell_type": "markdown",
   "metadata": {},
   "source": [
    "Show the Proof\n",
    "========"
   ]
  },
  {
   "cell_type": "code",
   "execution_count": 1,
   "metadata": {},
   "outputs": [
    {
     "data": {
      "text/html": [
       "<table><tr><th>&nbsp;</th><th>step type</th><th>requirements</th><th>statement</th></tr>\n",
       "<tr><td><a name=\"proveit.numbers.absolute_value.demonstrations.51d115245cdd156688f8cb056e5fcd0949b66d490_step0\">0</a></td><td>instantiation</td><td><a href=\"#proveit.numbers.absolute_value.demonstrations.51d115245cdd156688f8cb056e5fcd0949b66d490_step1\">1</a>, <a href=\"#proveit.numbers.absolute_value.demonstrations.51d115245cdd156688f8cb056e5fcd0949b66d490_step2\">2</a></td><td><span style=\"font-size:20px;\"><a class=\"ProveItLink\" href=\"../4a4701c918ed0b49c63799c553f955d19a924f1a0/expr.ipynb\"><img src=\"../4a4701c918ed0b49c63799c553f955d19a924f1a0/expr.png\" style=\"display:inline;vertical-align:middle;\" /></a>, <a class=\"ProveItLink\" href=\"../../../../addition/__pv_it/theorems/5a49c1d91f28aca05c3a7748e24771596ea841e40/expr.ipynb\"><img src=\"../../../../addition/__pv_it/theorems/5a49c1d91f28aca05c3a7748e24771596ea841e40/expr.png\" style=\"display:inline;vertical-align:middle;\" /></a> <a class=\"ProveItLink\" href=\"proof.ipynb\" style=\"text-decoration: none\">&nbsp;&#x22A2;&nbsp;&nbsp;</a><a class=\"ProveItLink\" href=\"../fe935a771c114d0eb523f2ae8a32c688e8db831a0/expr.ipynb\"><img src=\"../fe935a771c114d0eb523f2ae8a32c688e8db831a0/expr.png\" style=\"display:inline;vertical-align:middle;\" /></a></span></td></tr>\n",
       "<tr><td>&nbsp;</td><td colspan=4 style=\"text-align:left\"><span style=\"font-size:20px;\"><a class=\"ProveItLink\" href=\"../../../../../__pv_it/common/a0d9d672aa5e272d907247690c152cc2c6daafb70/expr.ipynb\"><img src=\"../../../../../__pv_it/common/a0d9d672aa5e272d907247690c152cc2c6daafb70/expr.png\" style=\"display:inline;vertical-align:middle;\" /></a> : <a class=\"ProveItLink\" href=\"../0513cc7a6a7fe73172297dfd022a09214151969e0/expr.ipynb\"><img src=\"../0513cc7a6a7fe73172297dfd022a09214151969e0/expr.png\" style=\"display:inline;vertical-align:middle;\" /></a></span></td></tr><tr><td><a name=\"proveit.numbers.absolute_value.demonstrations.51d115245cdd156688f8cb056e5fcd0949b66d490_step1\">1</a></td><td>theorem</td><td></td><td><span style=\"font-size:20px;\"> <a class=\"ProveItLink\" href=\"../../../_theory_nbs_/proofs/abs_non_neg_elim/thm_proof.ipynb\" style=\"text-decoration: none\">&nbsp;&#x22A2;&nbsp;&nbsp;</a><a class=\"ProveItLink\" href=\"../../theorems/de7f1f85b50f0f14614c489704dd5bd66a903a2a0/expr.ipynb\"><img src=\"../../theorems/de7f1f85b50f0f14614c489704dd5bd66a903a2a0/expr.png\" style=\"display:inline;vertical-align:middle;\" /></a></span></td></tr>\n",
       "<tr><td>&nbsp;</td><td colspan=4 style-\"text-align:left\"><a class=\"ProveItLink\" href=\"../../../_theory_nbs_/proofs/abs_non_neg_elim/thm_proof.ipynb\">proveit.numbers.absolute_value.abs_non_neg_elim</a></td></tr><tr><td><a name=\"proveit.numbers.absolute_value.demonstrations.51d115245cdd156688f8cb056e5fcd0949b66d490_step2\">2</a></td><td>instantiation</td><td><a href=\"#proveit.numbers.absolute_value.demonstrations.51d115245cdd156688f8cb056e5fcd0949b66d490_step3\">3</a>, <a href=\"#proveit.numbers.absolute_value.demonstrations.51d115245cdd156688f8cb056e5fcd0949b66d490_step4\">4</a></td><td><span style=\"font-size:20px;\"><a class=\"ProveItLink\" href=\"../4a4701c918ed0b49c63799c553f955d19a924f1a0/expr.ipynb\"><img src=\"../4a4701c918ed0b49c63799c553f955d19a924f1a0/expr.png\" style=\"display:inline;vertical-align:middle;\" /></a>, <a class=\"ProveItLink\" href=\"../../../../addition/__pv_it/theorems/5a49c1d91f28aca05c3a7748e24771596ea841e40/expr.ipynb\"><img src=\"../../../../addition/__pv_it/theorems/5a49c1d91f28aca05c3a7748e24771596ea841e40/expr.png\" style=\"display:inline;vertical-align:middle;\" /></a> <a class=\"ProveItLink\" href=\"../b5c0b30dd70ed596d698d40c561b55824d6d68770/proof.ipynb\" style=\"text-decoration: none\">&nbsp;&#x22A2;&nbsp;&nbsp;</a><a class=\"ProveItLink\" href=\"../ebf7d4086d271966841a52b1a25f6c2f326d13820/expr.ipynb\"><img src=\"../ebf7d4086d271966841a52b1a25f6c2f326d13820/expr.png\" style=\"display:inline;vertical-align:middle;\" /></a></span></td></tr>\n",
       "<tr><td>&nbsp;</td><td colspan=4 style=\"text-align:left\"><span style=\"font-size:20px;\"><a class=\"ProveItLink\" href=\"../../../../../__pv_it/common/a0d9d672aa5e272d907247690c152cc2c6daafb70/expr.ipynb\"><img src=\"../../../../../__pv_it/common/a0d9d672aa5e272d907247690c152cc2c6daafb70/expr.png\" style=\"display:inline;vertical-align:middle;\" /></a> : <a class=\"ProveItLink\" href=\"../0513cc7a6a7fe73172297dfd022a09214151969e0/expr.ipynb\"><img src=\"../0513cc7a6a7fe73172297dfd022a09214151969e0/expr.png\" style=\"display:inline;vertical-align:middle;\" /></a></span></td></tr><tr><td><a name=\"proveit.numbers.absolute_value.demonstrations.51d115245cdd156688f8cb056e5fcd0949b66d490_step3\">3</a></td><td>theorem</td><td></td><td><span style=\"font-size:20px;\"> <a class=\"ProveItLink\" href=\"../../../../number_sets/real_numbers/_theory_nbs_/proofs/nonneg_if_in_real_nonneg/thm_proof.ipynb\" style=\"text-decoration: none\">&nbsp;&#x22A2;&nbsp;&nbsp;</a><a class=\"ProveItLink\" href=\"../../../../number_sets/real_numbers/__pv_it/theorems/8a8ee12215b64bb91067eb674a5aa946111060970/expr.ipynb\"><img src=\"../../../../number_sets/real_numbers/__pv_it/theorems/8a8ee12215b64bb91067eb674a5aa946111060970/expr.png\" style=\"display:inline;vertical-align:middle;\" /></a></span></td></tr>\n",
       "<tr><td>&nbsp;</td><td colspan=4 style-\"text-align:left\"><a class=\"ProveItLink\" href=\"../../../../number_sets/real_numbers/_theory_nbs_/proofs/nonneg_if_in_real_nonneg/thm_proof.ipynb\">proveit.numbers.number_sets.real_numbers.nonneg_if_in_real_nonneg</a></td></tr><tr><td><a name=\"proveit.numbers.absolute_value.demonstrations.51d115245cdd156688f8cb056e5fcd0949b66d490_step4\">4</a></td><td>instantiation</td><td><a href=\"#proveit.numbers.absolute_value.demonstrations.51d115245cdd156688f8cb056e5fcd0949b66d490_step5\">5</a>, <a href=\"#proveit.numbers.absolute_value.demonstrations.51d115245cdd156688f8cb056e5fcd0949b66d490_step6\">6</a>, <a href=\"#proveit.numbers.absolute_value.demonstrations.51d115245cdd156688f8cb056e5fcd0949b66d490_step7\">7</a></td><td><span style=\"font-size:20px;\"><a class=\"ProveItLink\" href=\"../4a4701c918ed0b49c63799c553f955d19a924f1a0/expr.ipynb\"><img src=\"../4a4701c918ed0b49c63799c553f955d19a924f1a0/expr.png\" style=\"display:inline;vertical-align:middle;\" /></a>, <a class=\"ProveItLink\" href=\"../../../../addition/__pv_it/theorems/5a49c1d91f28aca05c3a7748e24771596ea841e40/expr.ipynb\"><img src=\"../../../../addition/__pv_it/theorems/5a49c1d91f28aca05c3a7748e24771596ea841e40/expr.png\" style=\"display:inline;vertical-align:middle;\" /></a> <a class=\"ProveItLink\" href=\"../6f032f7d9dd46f34c06ee3c7b2e0bdae00e89f7f0/proof.ipynb\" style=\"text-decoration: none\">&nbsp;&#x22A2;&nbsp;&nbsp;</a><a class=\"ProveItLink\" href=\"../../../../multiplication/__pv_it/theorems/ea6b7cba9639ea56a0efdde700bc5b7e91e4ba1d0/expr.ipynb\"><img src=\"../../../../multiplication/__pv_it/theorems/ea6b7cba9639ea56a0efdde700bc5b7e91e4ba1d0/expr.png\" style=\"display:inline;vertical-align:middle;\" /></a></span></td></tr>\n",
       "<tr><td>&nbsp;</td><td colspan=4 style=\"text-align:left\"><span style=\"font-size:20px;\"><a class=\"ProveItLink\" href=\"../../../../../__pv_it/common/c06c606ec12678c58933ac85412ecadc2ae28be60/expr.ipynb\"><img src=\"../../../../../__pv_it/common/c06c606ec12678c58933ac85412ecadc2ae28be60/expr.png\" style=\"display:inline;vertical-align:middle;\" /></a> : <a class=\"ProveItLink\" href=\"../../../../../__pv_it/common/c06c606ec12678c58933ac85412ecadc2ae28be60/expr.ipynb\"><img src=\"../../../../../__pv_it/common/c06c606ec12678c58933ac85412ecadc2ae28be60/expr.png\" style=\"display:inline;vertical-align:middle;\" /></a>, <a class=\"ProveItLink\" href=\"../../../../../__pv_it/common/195236b98c6c564a75b5dbada74b173bc52d5c3e0/expr.ipynb\"><img src=\"../../../../../__pv_it/common/195236b98c6c564a75b5dbada74b173bc52d5c3e0/expr.png\" style=\"display:inline;vertical-align:middle;\" /></a> : <a class=\"ProveItLink\" href=\"../../../../../__pv_it/common/195236b98c6c564a75b5dbada74b173bc52d5c3e0/expr.ipynb\"><img src=\"../../../../../__pv_it/common/195236b98c6c564a75b5dbada74b173bc52d5c3e0/expr.png\" style=\"display:inline;vertical-align:middle;\" /></a></span></td></tr><tr><td><a name=\"proveit.numbers.absolute_value.demonstrations.51d115245cdd156688f8cb056e5fcd0949b66d490_step5\">5</a></td><td>theorem</td><td></td><td><span style=\"font-size:20px;\"> <a class=\"ProveItLink\" href=\"../../../../multiplication/_theory_nbs_/proofs/mult_real_nonneg_closure_bin/thm_proof.ipynb\" style=\"text-decoration: none\">&nbsp;&#x22A2;&nbsp;&nbsp;</a><a class=\"ProveItLink\" href=\"../../../../multiplication/__pv_it/theorems/21e860a61dc876977428eaeafd951ee4ee623dcb0/expr.ipynb\"><img src=\"../../../../multiplication/__pv_it/theorems/21e860a61dc876977428eaeafd951ee4ee623dcb0/expr.png\" style=\"display:inline;vertical-align:middle;\" /></a></span></td></tr>\n",
       "<tr><td>&nbsp;</td><td colspan=4 style-\"text-align:left\"><a class=\"ProveItLink\" href=\"../../../../multiplication/_theory_nbs_/proofs/mult_real_nonneg_closure_bin/thm_proof.ipynb\">proveit.numbers.multiplication.mult_real_nonneg_closure_bin</a></td></tr><tr><td><a name=\"proveit.numbers.absolute_value.demonstrations.51d115245cdd156688f8cb056e5fcd0949b66d490_step6\">6</a></td><td>assumption</td><td></td><td><span style=\"font-size:20px;\"><a class=\"ProveItLink\" href=\"../4a4701c918ed0b49c63799c553f955d19a924f1a0/expr.ipynb\"><img src=\"../4a4701c918ed0b49c63799c553f955d19a924f1a0/expr.png\" style=\"display:inline;vertical-align:middle;\" /></a> <a class=\"ProveItLink\" href=\"../164c03857bdf1ea1bdec3096808aa76ea53337d90/proof.ipynb\" style=\"text-decoration: none\">&nbsp;&#x22A2;&nbsp;&nbsp;</a><a class=\"ProveItLink\" href=\"../4a4701c918ed0b49c63799c553f955d19a924f1a0/expr.ipynb\"><img src=\"../4a4701c918ed0b49c63799c553f955d19a924f1a0/expr.png\" style=\"display:inline;vertical-align:middle;\" /></a></span></td></tr>\n",
       "<tr><td><a name=\"proveit.numbers.absolute_value.demonstrations.51d115245cdd156688f8cb056e5fcd0949b66d490_step7\">7</a></td><td>assumption</td><td></td><td><span style=\"font-size:20px;\"><a class=\"ProveItLink\" href=\"../../../../addition/__pv_it/theorems/5a49c1d91f28aca05c3a7748e24771596ea841e40/expr.ipynb\"><img src=\"../../../../addition/__pv_it/theorems/5a49c1d91f28aca05c3a7748e24771596ea841e40/expr.png\" style=\"display:inline;vertical-align:middle;\" /></a> <a class=\"ProveItLink\" href=\"../b2662f0631efb9ae0d4cf613619ee3a2637ad4770/proof.ipynb\" style=\"text-decoration: none\">&nbsp;&#x22A2;&nbsp;&nbsp;</a><a class=\"ProveItLink\" href=\"../../../../addition/__pv_it/theorems/5a49c1d91f28aca05c3a7748e24771596ea841e40/expr.ipynb\"><img src=\"../../../../addition/__pv_it/theorems/5a49c1d91f28aca05c3a7748e24771596ea841e40/expr.png\" style=\"display:inline;vertical-align:middle;\" /></a></span></td></tr>\n",
       "</table>"
      ],
      "text/plain": [
       "<proveit._core_.proof._ShowProof at 0x7ff9e3cb2e48>"
      ]
     },
     "execution_count": 1,
     "metadata": {},
     "output_type": "execute_result"
    }
   ],
   "source": [
    "import proveit\n",
    "# Automation is not needed when only showing a stored proof:\n",
    "proveit.defaults.automation = False # This will speed things up.\n",
    "proveit.defaults.inline_pngs = False # Makes files smaller.\n",
    "%show_proof"
   ]
  },
  {
   "cell_type": "code",
   "execution_count": null,
   "metadata": {},
   "outputs": [],
   "source": []
  }
 ],
 "metadata": {
  "kernelspec": {
   "display_name": "Python 3",
   "language": "python",
   "name": "python3"
  }
 },
 "nbformat": 4,
 "nbformat_minor": 0
}