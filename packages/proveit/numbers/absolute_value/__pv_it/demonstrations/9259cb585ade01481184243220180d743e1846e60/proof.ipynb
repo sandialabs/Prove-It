{
 "cells": [
  {
   "cell_type": "markdown",
   "metadata": {},
   "source": [
    "Show the Proof\n",
    "========"
   ]
  },
  {
   "cell_type": "code",
   "execution_count": 1,
   "metadata": {},
   "outputs": [
    {
     "data": {
      "text/html": [
       "<table><tr><th>&nbsp;</th><th>step type</th><th>requirements</th><th>statement</th></tr>\n",
       "<tr><td><a name=\"proveit.numbers.absolute_value.demonstrations.9259cb585ade01481184243220180d743e1846e60_step0\">0</a></td><td>instantiation</td><td><a href=\"#proveit.numbers.absolute_value.demonstrations.9259cb585ade01481184243220180d743e1846e60_step1\">1</a>, <a href=\"#proveit.numbers.absolute_value.demonstrations.9259cb585ade01481184243220180d743e1846e60_step2\">2</a></td><td><span style=\"font-size:20px;\"><a class=\"ProveItLink\" href=\"../../../../../trigonometry/__pv_it/theorems/a1b9429f96070e6b5c8221ff574453af02bbc1490/expr.ipynb\"><img src=\"../../../../../trigonometry/__pv_it/theorems/a1b9429f96070e6b5c8221ff574453af02bbc1490/expr.png\" style=\"display:inline;vertical-align:middle;\" /></a> <a class=\"ProveItLink\" href=\"proof.ipynb\" style=\"text-decoration: none\">&nbsp;&#x22A2;&nbsp;&nbsp;</a><a class=\"ProveItLink\" href=\"../ceb2d14f78c448fe02261edd5eb78b8090d070ec0/expr.ipynb\"><img src=\"../ceb2d14f78c448fe02261edd5eb78b8090d070ec0/expr.png\" style=\"display:inline;vertical-align:middle;\" /></a></span></td></tr>\n",
       "<tr><td>&nbsp;</td><td colspan=4 style=\"text-align:left\"><span style=\"font-size:20px;\"><a class=\"ProveItLink\" href=\"../../../../../__pv_it/common/a0d9d672aa5e272d907247690c152cc2c6daafb70/expr.ipynb\"><img src=\"../../../../../__pv_it/common/a0d9d672aa5e272d907247690c152cc2c6daafb70/expr.png\" style=\"display:inline;vertical-align:middle;\" /></a> : <a class=\"ProveItLink\" href=\"../../../../../__pv_it/common/c3df45f28d41d286d2eebe2be9be7af76c74d56b0/expr.ipynb\"><img src=\"../../../../../__pv_it/common/c3df45f28d41d286d2eebe2be9be7af76c74d56b0/expr.png\" style=\"display:inline;vertical-align:middle;\" /></a></span></td></tr><tr><td><a name=\"proveit.numbers.absolute_value.demonstrations.9259cb585ade01481184243220180d743e1846e60_step1\">1</a></td><td>theorem</td><td></td><td><span style=\"font-size:20px;\"> <a class=\"ProveItLink\" href=\"../../../../number_sets/real_numbers/_theory_nbs_/proofs/nonneg_if_in_real_nonneg/thm_proof.ipynb\" style=\"text-decoration: none\">&nbsp;&#x22A2;&nbsp;&nbsp;</a><a class=\"ProveItLink\" href=\"../../../../number_sets/real_numbers/__pv_it/theorems/8a8ee12215b64bb91067eb674a5aa946111060970/expr.ipynb\"><img src=\"../../../../number_sets/real_numbers/__pv_it/theorems/8a8ee12215b64bb91067eb674a5aa946111060970/expr.png\" style=\"display:inline;vertical-align:middle;\" /></a></span></td></tr>\n",
       "<tr><td>&nbsp;</td><td colspan=4 style-\"text-align:left\"><a class=\"ProveItLink\" href=\"../../../../number_sets/real_numbers/_theory_nbs_/proofs/nonneg_if_in_real_nonneg/thm_proof.ipynb\">proveit.numbers.number_sets.real_numbers.nonneg_if_in_real_nonneg</a></td></tr><tr><td><a name=\"proveit.numbers.absolute_value.demonstrations.9259cb585ade01481184243220180d743e1846e60_step2\">2</a></td><td>assumption</td><td></td><td><span style=\"font-size:20px;\"><a class=\"ProveItLink\" href=\"../../../../../trigonometry/__pv_it/theorems/a1b9429f96070e6b5c8221ff574453af02bbc1490/expr.ipynb\"><img src=\"../../../../../trigonometry/__pv_it/theorems/a1b9429f96070e6b5c8221ff574453af02bbc1490/expr.png\" style=\"display:inline;vertical-align:middle;\" /></a> <a class=\"ProveItLink\" href=\"../d88b37cc8dcbbf827656ac8e9bc9aa54441689dd0/proof.ipynb\" style=\"text-decoration: none\">&nbsp;&#x22A2;&nbsp;&nbsp;</a><a class=\"ProveItLink\" href=\"../../../../../trigonometry/__pv_it/theorems/a1b9429f96070e6b5c8221ff574453af02bbc1490/expr.ipynb\"><img src=\"../../../../../trigonometry/__pv_it/theorems/a1b9429f96070e6b5c8221ff574453af02bbc1490/expr.png\" style=\"display:inline;vertical-align:middle;\" /></a></span></td></tr>\n",
       "</table>"
      ],
      "text/plain": [
       "<proveit._core_.proof._ShowProof at 0x7ff9c1d93c18>"
      ]
     },
     "execution_count": 1,
     "metadata": {},
     "output_type": "execute_result"
    }
   ],
   "source": [
    "import proveit\n",
    "# Automation is not needed when only showing a stored proof:\n",
    "proveit.defaults.automation = False # This will speed things up.\n",
    "proveit.defaults.inline_pngs = False # Makes files smaller.\n",
    "%show_proof"
   ]
  },
  {
   "cell_type": "code",
   "execution_count": null,
   "metadata": {},
   "outputs": [],
   "source": []
  }
 ],
 "metadata": {
  "kernelspec": {
   "display_name": "Python 3",
   "language": "python",
   "name": "python3"
  }
 },
 "nbformat": 4,
 "nbformat_minor": 0
}