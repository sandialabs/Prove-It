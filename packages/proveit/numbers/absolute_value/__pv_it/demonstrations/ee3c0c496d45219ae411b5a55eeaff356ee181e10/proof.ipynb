{
 "cells": [
  {
   "cell_type": "markdown",
   "metadata": {},
   "source": [
    "Show the Proof\n",
    "========"
   ]
  },
  {
   "cell_type": "code",
   "execution_count": 1,
   "metadata": {},
   "outputs": [
    {
     "data": {
      "text/html": [
       "<table><tr><th>&nbsp;</th><th>step type</th><th>requirements</th><th>statement</th></tr>\n",
       "<tr><td><a name=\"proveit.numbers.absolute_value.demonstrations.ee3c0c496d45219ae411b5a55eeaff356ee181e10_step0\">0</a></td><td>instantiation</td><td><a href=\"#proveit.numbers.absolute_value.demonstrations.ee3c0c496d45219ae411b5a55eeaff356ee181e10_step1\">1</a>, <a href=\"#proveit.numbers.absolute_value.demonstrations.ee3c0c496d45219ae411b5a55eeaff356ee181e10_step2\">2</a>, <a href=\"#proveit.numbers.absolute_value.demonstrations.ee3c0c496d45219ae411b5a55eeaff356ee181e10_step3\">3</a></td><td><span style=\"font-size:20px;\"><a class=\"ProveItLink\" href=\"../3d05ac32934c5ff1eb8cd8143b3625fac7e720840/expr.ipynb\"><img src=\"../3d05ac32934c5ff1eb8cd8143b3625fac7e720840/expr.png\" style=\"display:inline;vertical-align:middle;\" /></a>, <a class=\"ProveItLink\" href=\"../../../../ordering/__pv_it/theorems/aba6340e84a2dc194f2dc2e8029d9090c42823300/expr.ipynb\"><img src=\"../../../../ordering/__pv_it/theorems/aba6340e84a2dc194f2dc2e8029d9090c42823300/expr.png\" style=\"display:inline;vertical-align:middle;\" /></a> <a class=\"ProveItLink\" href=\"proof.ipynb\" style=\"text-decoration: none\">&nbsp;&#x22A2;&nbsp;&nbsp;</a><a class=\"ProveItLink\" href=\"../ba617b7ad2a4f3ef2b1c42f784f954aa26c113790/expr.ipynb\"><img src=\"../ba617b7ad2a4f3ef2b1c42f784f954aa26c113790/expr.png\" style=\"display:inline;vertical-align:middle;\" /></a></span></td></tr>\n",
       "<tr><td>&nbsp;</td><td colspan=4 style=\"text-align:left\"><span style=\"font-size:20px;\"><a class=\"ProveItLink\" href=\"../../../../../__pv_it/common/c06c606ec12678c58933ac85412ecadc2ae28be60/expr.ipynb\"><img src=\"../../../../../__pv_it/common/c06c606ec12678c58933ac85412ecadc2ae28be60/expr.png\" style=\"display:inline;vertical-align:middle;\" /></a> : <a class=\"ProveItLink\" href=\"../../../../../__pv_it/common/a0d9d672aa5e272d907247690c152cc2c6daafb70/expr.ipynb\"><img src=\"../../../../../__pv_it/common/a0d9d672aa5e272d907247690c152cc2c6daafb70/expr.png\" style=\"display:inline;vertical-align:middle;\" /></a>, <a class=\"ProveItLink\" href=\"../../../../../__pv_it/common/ceef4280a2f1cc604b455b54e735507244cc62cd0/expr.ipynb\"><img src=\"../../../../../__pv_it/common/ceef4280a2f1cc604b455b54e735507244cc62cd0/expr.png\" style=\"display:inline;vertical-align:middle;\" /></a> : <a class=\"ProveItLink\" href=\"../../../../../__pv_it/common/ff7dba4ef0bbe791ab573bf2d9c220a304399ac80/expr.ipynb\"><img src=\"../../../../../__pv_it/common/ff7dba4ef0bbe791ab573bf2d9c220a304399ac80/expr.png\" style=\"display:inline;vertical-align:middle;\" /></a></span></td></tr><tr><td><a name=\"proveit.numbers.absolute_value.demonstrations.ee3c0c496d45219ae411b5a55eeaff356ee181e10_step1\">1</a></td><td>theorem</td><td></td><td><span style=\"font-size:20px;\"> <a class=\"ProveItLink\" href=\"../../../_theory_nbs_/proofs/weak_upper_bound/thm_proof.ipynb\" style=\"text-decoration: none\">&nbsp;&#x22A2;&nbsp;&nbsp;</a><a class=\"ProveItLink\" href=\"../../theorems/ba34cd027028c0cd9c3bd0fdef5f71e090d109370/expr.ipynb\"><img src=\"../../theorems/ba34cd027028c0cd9c3bd0fdef5f71e090d109370/expr.png\" style=\"display:inline;vertical-align:middle;\" /></a></span></td></tr>\n",
       "<tr><td>&nbsp;</td><td colspan=4 style-\"text-align:left\"><a class=\"ProveItLink\" href=\"../../../_theory_nbs_/proofs/weak_upper_bound/thm_proof.ipynb\">proveit.numbers.absolute_value.weak_upper_bound</a></td></tr><tr><td><a name=\"proveit.numbers.absolute_value.demonstrations.ee3c0c496d45219ae411b5a55eeaff356ee181e10_step2\">2</a></td><td>assumption</td><td></td><td><span style=\"font-size:20px;\"><a class=\"ProveItLink\" href=\"../3d05ac32934c5ff1eb8cd8143b3625fac7e720840/expr.ipynb\"><img src=\"../3d05ac32934c5ff1eb8cd8143b3625fac7e720840/expr.png\" style=\"display:inline;vertical-align:middle;\" /></a> <a class=\"ProveItLink\" href=\"../93aa330d322e516665593c762686141475bc13200/proof.ipynb\" style=\"text-decoration: none\">&nbsp;&#x22A2;&nbsp;&nbsp;</a><a class=\"ProveItLink\" href=\"../3d05ac32934c5ff1eb8cd8143b3625fac7e720840/expr.ipynb\"><img src=\"../3d05ac32934c5ff1eb8cd8143b3625fac7e720840/expr.png\" style=\"display:inline;vertical-align:middle;\" /></a></span></td></tr>\n",
       "<tr><td><a name=\"proveit.numbers.absolute_value.demonstrations.ee3c0c496d45219ae411b5a55eeaff356ee181e10_step3\">3</a></td><td>assumption</td><td></td><td><span style=\"font-size:20px;\"><a class=\"ProveItLink\" href=\"../../../../ordering/__pv_it/theorems/aba6340e84a2dc194f2dc2e8029d9090c42823300/expr.ipynb\"><img src=\"../../../../ordering/__pv_it/theorems/aba6340e84a2dc194f2dc2e8029d9090c42823300/expr.png\" style=\"display:inline;vertical-align:middle;\" /></a> <a class=\"ProveItLink\" href=\"../b565eee7f0a4515007c748329d8dca309c5f7b700/proof.ipynb\" style=\"text-decoration: none\">&nbsp;&#x22A2;&nbsp;&nbsp;</a><a class=\"ProveItLink\" href=\"../../../../ordering/__pv_it/theorems/aba6340e84a2dc194f2dc2e8029d9090c42823300/expr.ipynb\"><img src=\"../../../../ordering/__pv_it/theorems/aba6340e84a2dc194f2dc2e8029d9090c42823300/expr.png\" style=\"display:inline;vertical-align:middle;\" /></a></span></td></tr>\n",
       "</table>"
      ],
      "text/plain": [
       "<proveit._core_.proof._ShowProof at 0x7f6e7b3d6e10>"
      ]
     },
     "execution_count": 1,
     "metadata": {},
     "output_type": "execute_result"
    }
   ],
   "source": [
    "import proveit\n",
    "# Automation is not needed when only showing a stored proof:\n",
    "proveit.defaults.automation = False # This will speed things up.\n",
    "proveit.defaults.inline_pngs = False # Makes files smaller.\n",
    "%show_proof"
   ]
  },
  {
   "cell_type": "code",
   "execution_count": null,
   "metadata": {},
   "outputs": [],
   "source": []
  }
 ],
 "metadata": {
  "kernelspec": {
   "display_name": "Python 3",
   "language": "python",
   "name": "python3"
  }
 },
 "nbformat": 4,
 "nbformat_minor": 0
}