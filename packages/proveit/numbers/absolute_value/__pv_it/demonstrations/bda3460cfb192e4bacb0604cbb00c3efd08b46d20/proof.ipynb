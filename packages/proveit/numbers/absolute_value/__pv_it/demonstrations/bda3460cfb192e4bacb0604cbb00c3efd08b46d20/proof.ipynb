{
 "cells": [
  {
   "cell_type": "markdown",
   "metadata": {},
   "source": [
    "Show the Proof\n",
    "========"
   ]
  },
  {
   "cell_type": "code",
   "execution_count": 1,
   "metadata": {},
   "outputs": [
    {
     "data": {
      "text/html": [
       "<table><tr><th>&nbsp;</th><th>step type</th><th>requirements</th><th>statement</th></tr>\n",
       "<tr><td><a name=\"proveit.numbers.absolute_value.demonstrations.bda3460cfb192e4bacb0604cbb00c3efd08b46d20_step0\">0</a></td><td>instantiation</td><td><a href=\"#proveit.numbers.absolute_value.demonstrations.bda3460cfb192e4bacb0604cbb00c3efd08b46d20_step1\">1</a>, <a href=\"#proveit.numbers.absolute_value.demonstrations.bda3460cfb192e4bacb0604cbb00c3efd08b46d20_step2\">2</a></td><td><span style=\"font-size:20px;\"><a class=\"ProveItLink\" href=\"../../../../addition/__pv_it/theorems/a6c5109834da253e63c0a4ff791bacc177a5dc8c0/expr.ipynb\"><img src=\"../../../../addition/__pv_it/theorems/a6c5109834da253e63c0a4ff791bacc177a5dc8c0/expr.png\" style=\"display:inline;vertical-align:middle;\" /></a> <a class=\"ProveItLink\" href=\"proof.ipynb\" style=\"text-decoration: none\">&nbsp;&#x22A2;&nbsp;&nbsp;</a><a class=\"ProveItLink\" href=\"../f2695d0ec11c6fe2672222673f3a1c2b57ba28630/expr.ipynb\"><img src=\"../f2695d0ec11c6fe2672222673f3a1c2b57ba28630/expr.png\" style=\"display:inline;vertical-align:middle;\" /></a></span></td></tr>\n",
       "<tr><td>&nbsp;</td><td colspan=4 style=\"text-align:left\"><span style=\"font-size:20px;\"><a class=\"ProveItLink\" href=\"../../../../../__pv_it/common/c06c606ec12678c58933ac85412ecadc2ae28be60/expr.ipynb\"><img src=\"../../../../../__pv_it/common/c06c606ec12678c58933ac85412ecadc2ae28be60/expr.png\" style=\"display:inline;vertical-align:middle;\" /></a> : <a class=\"ProveItLink\" href=\"../9df4b739076f4e12b1230310c3d5fc9349486de20/expr.ipynb\"><img src=\"../9df4b739076f4e12b1230310c3d5fc9349486de20/expr.png\" style=\"display:inline;vertical-align:middle;\" /></a></span></td></tr><tr><td><a name=\"proveit.numbers.absolute_value.demonstrations.bda3460cfb192e4bacb0604cbb00c3efd08b46d20_step1\">1</a></td><td>theorem</td><td></td><td><span style=\"font-size:20px;\"> <a class=\"ProveItLink\" href=\"../../../_theory_nbs_/proofs/abs_is_non_neg/thm_proof.ipynb\" style=\"text-decoration: none\">&nbsp;&#x22A2;&nbsp;&nbsp;</a><a class=\"ProveItLink\" href=\"../../theorems/0c910be313edfb6680c9cba73afb7fb911772bd30/expr.ipynb\"><img src=\"../../theorems/0c910be313edfb6680c9cba73afb7fb911772bd30/expr.png\" style=\"display:inline;vertical-align:middle;\" /></a></span></td></tr>\n",
       "<tr><td>&nbsp;</td><td colspan=4 style-\"text-align:left\"><a class=\"ProveItLink\" href=\"../../../_theory_nbs_/proofs/abs_is_non_neg/thm_proof.ipynb\">proveit.numbers.absolute_value.abs_is_non_neg</a></td></tr><tr><td><a name=\"proveit.numbers.absolute_value.demonstrations.bda3460cfb192e4bacb0604cbb00c3efd08b46d20_step2\">2</a></td><td>assumption</td><td></td><td><span style=\"font-size:20px;\"><a class=\"ProveItLink\" href=\"../../../../addition/__pv_it/theorems/a6c5109834da253e63c0a4ff791bacc177a5dc8c0/expr.ipynb\"><img src=\"../../../../addition/__pv_it/theorems/a6c5109834da253e63c0a4ff791bacc177a5dc8c0/expr.png\" style=\"display:inline;vertical-align:middle;\" /></a> <a class=\"ProveItLink\" href=\"../cfd169e6ba67bc7a7f53f6e0294ccc4ef50563040/proof.ipynb\" style=\"text-decoration: none\">&nbsp;&#x22A2;&nbsp;&nbsp;</a><a class=\"ProveItLink\" href=\"../../../../addition/__pv_it/theorems/a6c5109834da253e63c0a4ff791bacc177a5dc8c0/expr.ipynb\"><img src=\"../../../../addition/__pv_it/theorems/a6c5109834da253e63c0a4ff791bacc177a5dc8c0/expr.png\" style=\"display:inline;vertical-align:middle;\" /></a></span></td></tr>\n",
       "</table>"
      ],
      "text/plain": [
       "<proveit._core_.proof._ShowProof at 0x7fa29a347f60>"
      ]
     },
     "execution_count": 1,
     "metadata": {},
     "output_type": "execute_result"
    }
   ],
   "source": [
    "import proveit\n",
    "# Automation is not needed when only showing a stored proof:\n",
    "proveit.defaults.automation = False # This will speed things up.\n",
    "proveit.defaults.inline_pngs = False # Makes files smaller.\n",
    "%show_proof"
   ]
  },
  {
   "cell_type": "code",
   "execution_count": null,
   "metadata": {},
   "outputs": [],
   "source": []
  }
 ],
 "metadata": {
  "kernelspec": {
   "display_name": "Python 3",
   "language": "python",
   "name": "python3"
  }
 },
 "nbformat": 4,
 "nbformat_minor": 0
}