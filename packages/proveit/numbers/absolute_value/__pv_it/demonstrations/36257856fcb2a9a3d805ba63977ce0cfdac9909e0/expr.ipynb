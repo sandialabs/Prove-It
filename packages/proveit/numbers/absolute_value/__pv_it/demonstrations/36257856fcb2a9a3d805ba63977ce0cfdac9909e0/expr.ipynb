{
 "cells": [
  {
   "cell_type": "markdown",
   "metadata": {},
   "source": [
    "Expression of type <a class=\"ProveItLink\" href=\"../../../../../../../doc/html/api/proveit.ExprTuple.html\">ExprTuple</a>\n",
    "=======================\n",
    "# from the theory of <a class=\"ProveItLink\" href=\"../../../_theory_nbs_/theory.ipynb\">proveit.numbers.absolute_value</a>"
   ]
  },
  {
   "cell_type": "code",
   "execution_count": 1,
   "metadata": {},
   "outputs": [],
   "source": [
    "import proveit\n",
    "# Automation is not needed when building an expression:\n",
    "proveit.defaults.automation = False # This will speed things up.\n",
    "proveit.defaults.inline_pngs = False # Makes files smaller.\n",
    "%load_expr # Load the stored expression as 'stored_expr'\n",
    "# import Expression classes needed to build the expression\n",
    "from proveit import ExprTuple, r, theta\n",
    "from proveit.numbers import Abs, Exp, Mult, Neg, e, i"
   ]
  },
  {
   "cell_type": "code",
   "execution_count": 2,
   "metadata": {},
   "outputs": [
    {
     "data": {
      "text/html": [
       "<strong id=\"expr\">expr:</strong> <a class=\"ProveItLink\" href=\"expr.ipynb\"><img src=\"expr.png\" style=\"display:inline;vertical-align:middle;\" /></a><br>"
      ],
      "text/plain": [
       "<IPython.core.display.HTML object>"
      ]
     },
     "metadata": {},
     "output_type": "display_data"
    }
   ],
   "source": [
    "# build up the expression from sub-expressions\n",
    "expr = ExprTuple(Abs(Mult(r, Exp(e, Mult(Neg(theta), i)))), Abs(Mult(r, Exp(e, Neg(Mult(theta, i))))))"
   ]
  },
  {
   "cell_type": "code",
   "execution_count": 3,
   "metadata": {},
   "outputs": [
    {
     "name": "stdout",
     "output_type": "stream",
     "text": [
      "Passed sanity check: expr matches stored_expr\n"
     ]
    }
   ],
   "source": [
    "# check that the built expression is the same as the stored expression\n",
    "assert expr == stored_expr\n",
    "assert expr._style_id == stored_expr._style_id\n",
    "print(\"Passed sanity check: expr matches stored_expr\")"
   ]
  },
  {
   "cell_type": "code",
   "execution_count": 4,
   "metadata": {},
   "outputs": [
    {
     "name": "stdout",
     "output_type": "stream",
     "text": [
      "\\left(\\left|r \\cdot \\mathsf{e}^{\\left(-\\theta\\right) \\cdot \\mathsf{i}}\\right|, \\left|r \\cdot \\mathsf{e}^{-\\left(\\theta \\cdot \\mathsf{i}\\right)}\\right|\\right)\n"
     ]
    }
   ],
   "source": [
    "# Show the LaTeX representation of the expression for convenience if you need it.\n",
    "print(stored_expr.latex())"
   ]
  },
  {
   "cell_type": "code",
   "execution_count": 5,
   "metadata": {},
   "outputs": [
    {
     "data": {
      "text/html": [
       "<table>\n",
       "<tr><th>name</th><th>description</th><th>default</th><th>current value</th><th>related methods</th></tr><tr><td>wrap_positions</td><td>position(s) at which wrapping is to occur; 'n' is after the nth comma.</td><td>()</td><td>()</td><td>('with_wrapping_at',)</td></tr>\n",
       "<tr><td>justification</td><td>if any wrap positions are set, justify to the 'left', 'center', or 'right'</td><td>left</td><td>left</td><td>('with_justification',)</td></tr>\n",
       "</table>\n"
      ],
      "text/plain": [
       "style name: wrap_positions\n",
       "description: position(s) at which wrapping is to occur; 'n' is after the nth comma.\n",
       "default: ()\n",
       "current value: ()\n",
       "related methods: ('with_wrapping_at',)\n",
       "style name: justification\n",
       "description: if any wrap positions are set, justify to the 'left', 'center', or 'right'\n",
       "default: left\n",
       "current value: left\n",
       "related methods: ('with_justification',)"
      ]
     },
     "metadata": {},
     "output_type": "display_data"
    }
   ],
   "source": [
    "stored_expr.style_options()"
   ]
  },
  {
   "cell_type": "code",
   "execution_count": 6,
   "metadata": {},
   "outputs": [
    {
     "data": {
      "text/html": [
       "<table><tr><th>&nbsp;</th><th>core type</th><th>sub-expressions</th><th>expression</th></tr>\n",
       "<tr><td>0</td><td>ExprTuple</td><td>1, 2</td><td><a class=\"ProveItLink\" href=\"expr.ipynb\"><img src=\"expr.png\" style=\"display:inline;vertical-align:middle;\" /></a></td></tr>\n",
       "<tr><td>1</td><td>Operation</td><td>operator:&nbsp;4<br>operand:&nbsp;6<br></td><td><a class=\"ProveItLink\" href=\"../03d96f4802b11acab60e3345506308e12274cce10/expr.ipynb\"><img src=\"../03d96f4802b11acab60e3345506308e12274cce10/expr.png\" style=\"display:inline;vertical-align:middle;\" /></a></td></tr>\n",
       "<tr><td>2</td><td>Operation</td><td>operator:&nbsp;4<br>operand:&nbsp;7<br></td><td><a class=\"ProveItLink\" href=\"../b0754b8e47e3f8b07abedcc4fbe3393694cb3a270/expr.ipynb\"><img src=\"../b0754b8e47e3f8b07abedcc4fbe3393694cb3a270/expr.png\" style=\"display:inline;vertical-align:middle;\" /></a></td></tr>\n",
       "<tr><td>3</td><td>ExprTuple</td><td>6</td><td><a class=\"ProveItLink\" href=\"../7cd5fddf3fcdf62d1b0316f100897f7ec511b87e0/expr.ipynb\"><img src=\"../7cd5fddf3fcdf62d1b0316f100897f7ec511b87e0/expr.png\" style=\"display:inline;vertical-align:middle;\" /></a></td></tr>\n",
       "<tr><td>4</td><td>Literal</td><td></td><td><a class=\"ProveItLink\" href=\"../../common/eea56c667bc0aad2dc76ed04b44c2bd98b94005f0/expr.ipynb\"><img src=\"../../common/eea56c667bc0aad2dc76ed04b44c2bd98b94005f0/expr.png\" style=\"display:inline;vertical-align:middle;\" /></a></td></tr>\n",
       "<tr><td>5</td><td>ExprTuple</td><td>7</td><td><a class=\"ProveItLink\" href=\"../23e3da6641a6aa81039a5d1026066964bd06ef8f0/expr.ipynb\"><img src=\"../23e3da6641a6aa81039a5d1026066964bd06ef8f0/expr.png\" style=\"display:inline;vertical-align:middle;\" /></a></td></tr>\n",
       "<tr><td>6</td><td>Operation</td><td>operator:&nbsp;25<br>operands:&nbsp;8<br></td><td><a class=\"ProveItLink\" href=\"../5f098532519e66f115cffae065e4ea3bff266e280/expr.ipynb\"><img src=\"../5f098532519e66f115cffae065e4ea3bff266e280/expr.png\" style=\"display:inline;vertical-align:middle;\" /></a></td></tr>\n",
       "<tr><td>7</td><td>Operation</td><td>operator:&nbsp;25<br>operands:&nbsp;9<br></td><td><a class=\"ProveItLink\" href=\"../e2713f98b86e86a33ba787798a7505438813d7cf0/expr.ipynb\"><img src=\"../e2713f98b86e86a33ba787798a7505438813d7cf0/expr.png\" style=\"display:inline;vertical-align:middle;\" /></a></td></tr>\n",
       "<tr><td>8</td><td>ExprTuple</td><td>11, 10</td><td><a class=\"ProveItLink\" href=\"../a29cff4bd35ec0a1d0fe40708dc7e3c77139dafe0/expr.ipynb\"><img src=\"../a29cff4bd35ec0a1d0fe40708dc7e3c77139dafe0/expr.png\" style=\"display:inline;vertical-align:middle;\" /></a></td></tr>\n",
       "<tr><td>9</td><td>ExprTuple</td><td>11, 12</td><td><a class=\"ProveItLink\" href=\"../668722e75bc5f1666847374d36fa9fdccd4247a10/expr.ipynb\"><img src=\"../668722e75bc5f1666847374d36fa9fdccd4247a10/expr.png\" style=\"display:inline;vertical-align:middle;\" /></a></td></tr>\n",
       "<tr><td>10</td><td>Operation</td><td>operator:&nbsp;14<br>operands:&nbsp;13<br></td><td><a class=\"ProveItLink\" href=\"../970dc93a6e3d9cff953dfab98ffee14726a27ddc0/expr.ipynb\"><img src=\"../970dc93a6e3d9cff953dfab98ffee14726a27ddc0/expr.png\" style=\"display:inline;vertical-align:middle;\" /></a></td></tr>\n",
       "<tr><td>11</td><td>Variable</td><td></td><td><a class=\"ProveItLink\" href=\"../../../../../__pv_it/common/c3df45f28d41d286d2eebe2be9be7af76c74d56b0/expr.ipynb\"><img src=\"../../../../../__pv_it/common/c3df45f28d41d286d2eebe2be9be7af76c74d56b0/expr.png\" style=\"display:inline;vertical-align:middle;\" /></a></td></tr>\n",
       "<tr><td>12</td><td>Operation</td><td>operator:&nbsp;14<br>operands:&nbsp;15<br></td><td><a class=\"ProveItLink\" href=\"../bc2713da72b491922fca9da18b9e9a837cb31d740/expr.ipynb\"><img src=\"../bc2713da72b491922fca9da18b9e9a837cb31d740/expr.png\" style=\"display:inline;vertical-align:middle;\" /></a></td></tr>\n",
       "<tr><td>13</td><td>ExprTuple</td><td>17, 16</td><td><a class=\"ProveItLink\" href=\"../244717f79244dd931d9b6435d38bbeab636af6810/expr.ipynb\"><img src=\"../244717f79244dd931d9b6435d38bbeab636af6810/expr.png\" style=\"display:inline;vertical-align:middle;\" /></a></td></tr>\n",
       "<tr><td>14</td><td>Literal</td><td></td><td><a class=\"ProveItLink\" href=\"../../../../exponentiation/__pv_it/common/0ac37aca1e54c35c5cda09672df32d4f69f1f3020/expr.ipynb\"><img src=\"../../../../exponentiation/__pv_it/common/0ac37aca1e54c35c5cda09672df32d4f69f1f3020/expr.png\" style=\"display:inline;vertical-align:middle;\" /></a></td></tr>\n",
       "<tr><td>15</td><td>ExprTuple</td><td>17, 18</td><td><a class=\"ProveItLink\" href=\"../e211729a4c3a8038bfd4a7deb928c757c121fdba0/expr.ipynb\"><img src=\"../e211729a4c3a8038bfd4a7deb928c757c121fdba0/expr.png\" style=\"display:inline;vertical-align:middle;\" /></a></td></tr>\n",
       "<tr><td>16</td><td>Operation</td><td>operator:&nbsp;25<br>operands:&nbsp;19<br></td><td><a class=\"ProveItLink\" href=\"../921a6898040cbd3959f945eb53489562f9222ba20/expr.ipynb\"><img src=\"../921a6898040cbd3959f945eb53489562f9222ba20/expr.png\" style=\"display:inline;vertical-align:middle;\" /></a></td></tr>\n",
       "<tr><td>17</td><td>Literal</td><td></td><td><a class=\"ProveItLink\" href=\"../../../../number_sets/real_numbers/__pv_it/common/e531ffa54fd897084533764a4a14f19f590674f80/expr.ipynb\"><img src=\"../../../../number_sets/real_numbers/__pv_it/common/e531ffa54fd897084533764a4a14f19f590674f80/expr.png\" style=\"display:inline;vertical-align:middle;\" /></a></td></tr>\n",
       "<tr><td>18</td><td>Operation</td><td>operator:&nbsp;23<br>operand:&nbsp;22<br></td><td><a class=\"ProveItLink\" href=\"../820c2e08d00b84a3169c472588c4e0a28072ac3e0/expr.ipynb\"><img src=\"../820c2e08d00b84a3169c472588c4e0a28072ac3e0/expr.png\" style=\"display:inline;vertical-align:middle;\" /></a></td></tr>\n",
       "<tr><td>19</td><td>ExprTuple</td><td>21, 28</td><td><a class=\"ProveItLink\" href=\"../d2d1a6ec456205dc67e153fdc387f477f067d2a30/expr.ipynb\"><img src=\"../d2d1a6ec456205dc67e153fdc387f477f067d2a30/expr.png\" style=\"display:inline;vertical-align:middle;\" /></a></td></tr>\n",
       "<tr><td>20</td><td>ExprTuple</td><td>22</td><td><a class=\"ProveItLink\" href=\"../64d12cd7a33ddf4e41ae05655033dc6638e47ded0/expr.ipynb\"><img src=\"../64d12cd7a33ddf4e41ae05655033dc6638e47ded0/expr.png\" style=\"display:inline;vertical-align:middle;\" /></a></td></tr>\n",
       "<tr><td>21</td><td>Operation</td><td>operator:&nbsp;23<br>operand:&nbsp;27<br></td><td><a class=\"ProveItLink\" href=\"../7b5cc29bc0b4487d872d2c53582668beba4fde6c0/expr.ipynb\"><img src=\"../7b5cc29bc0b4487d872d2c53582668beba4fde6c0/expr.png\" style=\"display:inline;vertical-align:middle;\" /></a></td></tr>\n",
       "<tr><td>22</td><td>Operation</td><td>operator:&nbsp;25<br>operands:&nbsp;26<br></td><td><a class=\"ProveItLink\" href=\"../27aaf124162b409b144cf2ad77423309d9f43af60/expr.ipynb\"><img src=\"../27aaf124162b409b144cf2ad77423309d9f43af60/expr.png\" style=\"display:inline;vertical-align:middle;\" /></a></td></tr>\n",
       "<tr><td>23</td><td>Literal</td><td></td><td><a class=\"ProveItLink\" href=\"../../../../negation/__pv_it/common/221b3c4d1770ee9051b7c044c3f9ec61196fc34b0/expr.ipynb\"><img src=\"../../../../negation/__pv_it/common/221b3c4d1770ee9051b7c044c3f9ec61196fc34b0/expr.png\" style=\"display:inline;vertical-align:middle;\" /></a></td></tr>\n",
       "<tr><td>24</td><td>ExprTuple</td><td>27</td><td><a class=\"ProveItLink\" href=\"../../../../number_sets/complex_numbers/__pv_it/theorems/b552db72f8405cd45673f8b4dbbabc4eec4feb090/expr.ipynb\"><img src=\"../../../../number_sets/complex_numbers/__pv_it/theorems/b552db72f8405cd45673f8b4dbbabc4eec4feb090/expr.png\" style=\"display:inline;vertical-align:middle;\" /></a></td></tr>\n",
       "<tr><td>25</td><td>Literal</td><td></td><td><a class=\"ProveItLink\" href=\"../../../../multiplication/__pv_it/common/ed719cef37831779c16481533a4d380a2f95ab270/expr.ipynb\"><img src=\"../../../../multiplication/__pv_it/common/ed719cef37831779c16481533a4d380a2f95ab270/expr.png\" style=\"display:inline;vertical-align:middle;\" /></a></td></tr>\n",
       "<tr><td>26</td><td>ExprTuple</td><td>27, 28</td><td><a class=\"ProveItLink\" href=\"../6c92dc6dc4fefcead5c495d876f9878e642d390a0/expr.ipynb\"><img src=\"../6c92dc6dc4fefcead5c495d876f9878e642d390a0/expr.png\" style=\"display:inline;vertical-align:middle;\" /></a></td></tr>\n",
       "<tr><td>27</td><td>Variable</td><td></td><td><a class=\"ProveItLink\" href=\"../../../../../__pv_it/common/b011a4fec64a1c824cf176959ebc716edbf098a10/expr.ipynb\"><img src=\"../../../../../__pv_it/common/b011a4fec64a1c824cf176959ebc716edbf098a10/expr.png\" style=\"display:inline;vertical-align:middle;\" /></a></td></tr>\n",
       "<tr><td>28</td><td>Literal</td><td></td><td><a class=\"ProveItLink\" href=\"../../../../number_sets/complex_numbers/__pv_it/common/6c9cc69d472f352324c298b2318df233e9a7e0250/expr.ipynb\"><img src=\"../../../../number_sets/complex_numbers/__pv_it/common/6c9cc69d472f352324c298b2318df233e9a7e0250/expr.png\" style=\"display:inline;vertical-align:middle;\" /></a></td></tr>\n",
       "</table>\n"
      ],
      "text/plain": [
       "0. (|r * e^{(-theta) * i}|, |r * e^{-(theta * i)}|)\n",
       "   core type: ExprTuple\n",
       "   sub-expressions: 1, 2\n",
       "1. |r * e^{(-theta) * i}|\n",
       "   core type: Operation\n",
       "   operator: 4\n",
       "   operand: 6\n",
       "2. |r * e^{-(theta * i)}|\n",
       "   core type: Operation\n",
       "   operator: 4\n",
       "   operand: 7\n",
       "3. (r * e^{(-theta) * i})\n",
       "   core type: ExprTuple\n",
       "   sub-expressions: 6\n",
       "4. Abs\n",
       "   core type: Literal\n",
       "   sub-expressions: \n",
       "5. (r * e^{-(theta * i)})\n",
       "   core type: ExprTuple\n",
       "   sub-expressions: 7\n",
       "6. r * e^{(-theta) * i}\n",
       "   core type: Operation\n",
       "   operator: 25\n",
       "   operands: 8\n",
       "7. r * e^{-(theta * i)}\n",
       "   core type: Operation\n",
       "   operator: 25\n",
       "   operands: 9\n",
       "8. (r, e^{(-theta) * i})\n",
       "   core type: ExprTuple\n",
       "   sub-expressions: 11, 10\n",
       "9. (r, e^{-(theta * i)})\n",
       "   core type: ExprTuple\n",
       "   sub-expressions: 11, 12\n",
       "10. e^{(-theta) * i}\n",
       "    core type: Operation\n",
       "    operator: 14\n",
       "    operands: 13\n",
       "11. r\n",
       "    core type: Variable\n",
       "    sub-expressions: \n",
       "12. e^{-(theta * i)}\n",
       "    core type: Operation\n",
       "    operator: 14\n",
       "    operands: 15\n",
       "13. (e, (-theta) * i)\n",
       "    core type: ExprTuple\n",
       "    sub-expressions: 17, 16\n",
       "14. Exp\n",
       "    core type: Literal\n",
       "    sub-expressions: \n",
       "15. (e, -(theta * i))\n",
       "    core type: ExprTuple\n",
       "    sub-expressions: 17, 18\n",
       "16. (-theta) * i\n",
       "    core type: Operation\n",
       "    operator: 25\n",
       "    operands: 19\n",
       "17. e\n",
       "    core type: Literal\n",
       "    sub-expressions: \n",
       "18. -(theta * i)\n",
       "    core type: Operation\n",
       "    operator: 23\n",
       "    operand: 22\n",
       "19. (-theta, i)\n",
       "    core type: ExprTuple\n",
       "    sub-expressions: 21, 28\n",
       "20. (theta * i)\n",
       "    core type: ExprTuple\n",
       "    sub-expressions: 22\n",
       "21. -theta\n",
       "    core type: Operation\n",
       "    operator: 23\n",
       "    operand: 27\n",
       "22. theta * i\n",
       "    core type: Operation\n",
       "    operator: 25\n",
       "    operands: 26\n",
       "23. -\n",
       "    core type: Literal\n",
       "    sub-expressions: \n",
       "24. (theta)\n",
       "    core type: ExprTuple\n",
       "    sub-expressions: 27\n",
       "25. *\n",
       "    core type: Literal\n",
       "    sub-expressions: \n",
       "26. (theta, i)\n",
       "    core type: ExprTuple\n",
       "    sub-expressions: 27, 28\n",
       "27. theta\n",
       "    core type: Variable\n",
       "    sub-expressions: \n",
       "28. i\n",
       "    core type: Literal\n",
       "    sub-expressions: "
      ]
     },
     "metadata": {},
     "output_type": "display_data"
    }
   ],
   "source": [
    "# display the expression information\n",
    "stored_expr.expr_info()"
   ]
  },
  {
   "cell_type": "code",
   "execution_count": null,
   "metadata": {},
   "outputs": [],
   "source": []
  }
 ],
 "metadata": {
  "kernelspec": {
   "display_name": "Python 3",
   "language": "python",
   "name": "python3"
  }
 },
 "nbformat": 4,
 "nbformat_minor": 0
}