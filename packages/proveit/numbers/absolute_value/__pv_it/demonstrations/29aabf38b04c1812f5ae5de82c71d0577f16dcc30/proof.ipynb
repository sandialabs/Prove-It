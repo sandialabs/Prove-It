{
 "cells": [
  {
   "cell_type": "markdown",
   "metadata": {},
   "source": [
    "Show the Proof\n",
    "========"
   ]
  },
  {
   "cell_type": "code",
   "execution_count": 1,
   "metadata": {},
   "outputs": [
    {
     "data": {
      "text/html": [
       "<table><tr><th>&nbsp;</th><th>step type</th><th>requirements</th><th>statement</th></tr>\n",
       "<tr><td><a name=\"proveit.numbers.absolute_value.demonstrations.29aabf38b04c1812f5ae5de82c71d0577f16dcc30_step0\">0</a></td><td>instantiation</td><td><a href=\"#proveit.numbers.absolute_value.demonstrations.29aabf38b04c1812f5ae5de82c71d0577f16dcc30_step1\">1</a>, <a href=\"#proveit.numbers.absolute_value.demonstrations.29aabf38b04c1812f5ae5de82c71d0577f16dcc30_step2\">2</a></td><td><span style=\"font-size:20px;\"><a class=\"ProveItLink\" href=\"../4a4701c918ed0b49c63799c553f955d19a924f1a0/expr.ipynb\"><img src=\"../4a4701c918ed0b49c63799c553f955d19a924f1a0/expr.png\" style=\"display:inline;vertical-align:middle;\" /></a> <a class=\"ProveItLink\" href=\"proof.ipynb\" style=\"text-decoration: none\">&nbsp;&#x22A2;&nbsp;&nbsp;</a><a class=\"ProveItLink\" href=\"../b3b328cee1fabb3f8b5d1952f2e9f79ae3f3ccec0/expr.ipynb\"><img src=\"../b3b328cee1fabb3f8b5d1952f2e9f79ae3f3ccec0/expr.png\" style=\"display:inline;vertical-align:middle;\" /></a></span></td></tr>\n",
       "<tr><td>&nbsp;</td><td colspan=4 style=\"text-align:left\"><span style=\"font-size:20px;\"><a class=\"ProveItLink\" href=\"../../../../../__pv_it/common/a0d9d672aa5e272d907247690c152cc2c6daafb70/expr.ipynb\"><img src=\"../../../../../__pv_it/common/a0d9d672aa5e272d907247690c152cc2c6daafb70/expr.png\" style=\"display:inline;vertical-align:middle;\" /></a> : <a class=\"ProveItLink\" href=\"../../../../../__pv_it/common/c06c606ec12678c58933ac85412ecadc2ae28be60/expr.ipynb\"><img src=\"../../../../../__pv_it/common/c06c606ec12678c58933ac85412ecadc2ae28be60/expr.png\" style=\"display:inline;vertical-align:middle;\" /></a></span></td></tr><tr><td><a name=\"proveit.numbers.absolute_value.demonstrations.29aabf38b04c1812f5ae5de82c71d0577f16dcc30_step1\">1</a></td><td>theorem</td><td></td><td><span style=\"font-size:20px;\"> <a class=\"ProveItLink\" href=\"../../../_theory_nbs_/proofs/abs_non_neg_elim/thm_proof.ipynb\" style=\"text-decoration: none\">&nbsp;&#x22A2;&nbsp;&nbsp;</a><a class=\"ProveItLink\" href=\"../../theorems/de7f1f85b50f0f14614c489704dd5bd66a903a2a0/expr.ipynb\"><img src=\"../../theorems/de7f1f85b50f0f14614c489704dd5bd66a903a2a0/expr.png\" style=\"display:inline;vertical-align:middle;\" /></a></span></td></tr>\n",
       "<tr><td>&nbsp;</td><td colspan=4 style-\"text-align:left\"><a class=\"ProveItLink\" href=\"../../../_theory_nbs_/proofs/abs_non_neg_elim/thm_proof.ipynb\">proveit.numbers.absolute_value.abs_non_neg_elim</a></td></tr><tr><td><a name=\"proveit.numbers.absolute_value.demonstrations.29aabf38b04c1812f5ae5de82c71d0577f16dcc30_step2\">2</a></td><td>instantiation</td><td><a href=\"#proveit.numbers.absolute_value.demonstrations.29aabf38b04c1812f5ae5de82c71d0577f16dcc30_step3\">3</a>, <a href=\"#proveit.numbers.absolute_value.demonstrations.29aabf38b04c1812f5ae5de82c71d0577f16dcc30_step4\">4</a></td><td><span style=\"font-size:20px;\"><a class=\"ProveItLink\" href=\"../4a4701c918ed0b49c63799c553f955d19a924f1a0/expr.ipynb\"><img src=\"../4a4701c918ed0b49c63799c553f955d19a924f1a0/expr.png\" style=\"display:inline;vertical-align:middle;\" /></a> <a class=\"ProveItLink\" href=\"../79c9faca9e64662657ae34a1a9258967cdd4e8aa0/proof.ipynb\" style=\"text-decoration: none\">&nbsp;&#x22A2;&nbsp;&nbsp;</a><a class=\"ProveItLink\" href=\"../../../../number_sets/integers/__pv_it/theorems/8bffac13138cf3e884aed130af095c683140cde00/expr.ipynb\"><img src=\"../../../../number_sets/integers/__pv_it/theorems/8bffac13138cf3e884aed130af095c683140cde00/expr.png\" style=\"display:inline;vertical-align:middle;\" /></a></span></td></tr>\n",
       "<tr><td>&nbsp;</td><td colspan=4 style=\"text-align:left\"><span style=\"font-size:20px;\"><a class=\"ProveItLink\" href=\"../../../../../__pv_it/common/a0d9d672aa5e272d907247690c152cc2c6daafb70/expr.ipynb\"><img src=\"../../../../../__pv_it/common/a0d9d672aa5e272d907247690c152cc2c6daafb70/expr.png\" style=\"display:inline;vertical-align:middle;\" /></a> : <a class=\"ProveItLink\" href=\"../../../../../__pv_it/common/c06c606ec12678c58933ac85412ecadc2ae28be60/expr.ipynb\"><img src=\"../../../../../__pv_it/common/c06c606ec12678c58933ac85412ecadc2ae28be60/expr.png\" style=\"display:inline;vertical-align:middle;\" /></a></span></td></tr><tr><td><a name=\"proveit.numbers.absolute_value.demonstrations.29aabf38b04c1812f5ae5de82c71d0577f16dcc30_step3\">3</a></td><td>theorem</td><td></td><td><span style=\"font-size:20px;\"> <a class=\"ProveItLink\" href=\"../../../../number_sets/real_numbers/_theory_nbs_/proofs/nonneg_if_in_real_nonneg/thm_proof.ipynb\" style=\"text-decoration: none\">&nbsp;&#x22A2;&nbsp;&nbsp;</a><a class=\"ProveItLink\" href=\"../../../../number_sets/real_numbers/__pv_it/theorems/8a8ee12215b64bb91067eb674a5aa946111060970/expr.ipynb\"><img src=\"../../../../number_sets/real_numbers/__pv_it/theorems/8a8ee12215b64bb91067eb674a5aa946111060970/expr.png\" style=\"display:inline;vertical-align:middle;\" /></a></span></td></tr>\n",
       "<tr><td>&nbsp;</td><td colspan=4 style-\"text-align:left\"><a class=\"ProveItLink\" href=\"../../../../number_sets/real_numbers/_theory_nbs_/proofs/nonneg_if_in_real_nonneg/thm_proof.ipynb\">proveit.numbers.number_sets.real_numbers.nonneg_if_in_real_nonneg</a></td></tr><tr><td><a name=\"proveit.numbers.absolute_value.demonstrations.29aabf38b04c1812f5ae5de82c71d0577f16dcc30_step4\">4</a></td><td>assumption</td><td></td><td><span style=\"font-size:20px;\"><a class=\"ProveItLink\" href=\"../4a4701c918ed0b49c63799c553f955d19a924f1a0/expr.ipynb\"><img src=\"../4a4701c918ed0b49c63799c553f955d19a924f1a0/expr.png\" style=\"display:inline;vertical-align:middle;\" /></a> <a class=\"ProveItLink\" href=\"../164c03857bdf1ea1bdec3096808aa76ea53337d90/proof.ipynb\" style=\"text-decoration: none\">&nbsp;&#x22A2;&nbsp;&nbsp;</a><a class=\"ProveItLink\" href=\"../4a4701c918ed0b49c63799c553f955d19a924f1a0/expr.ipynb\"><img src=\"../4a4701c918ed0b49c63799c553f955d19a924f1a0/expr.png\" style=\"display:inline;vertical-align:middle;\" /></a></span></td></tr>\n",
       "</table>"
      ],
      "text/plain": [
       "<proveit._core_.proof._ShowProof at 0x7f213361f710>"
      ]
     },
     "execution_count": 1,
     "metadata": {},
     "output_type": "execute_result"
    }
   ],
   "source": [
    "import proveit\n",
    "# Automation is not needed when only showing a stored proof:\n",
    "proveit.defaults.automation = False # This will speed things up.\n",
    "proveit.defaults.inline_pngs = False # Makes files smaller.\n",
    "%show_proof"
   ]
  },
  {
   "cell_type": "code",
   "execution_count": null,
   "metadata": {},
   "outputs": [],
   "source": []
  }
 ],
 "metadata": {
  "kernelspec": {
   "display_name": "Python 3",
   "language": "python",
   "name": "python3"
  }
 },
 "nbformat": 4,
 "nbformat_minor": 0
}