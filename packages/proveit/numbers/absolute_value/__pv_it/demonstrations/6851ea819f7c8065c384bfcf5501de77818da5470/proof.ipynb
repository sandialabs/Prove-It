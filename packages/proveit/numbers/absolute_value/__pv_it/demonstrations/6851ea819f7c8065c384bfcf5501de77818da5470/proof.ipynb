{
 "cells": [
  {
   "cell_type": "markdown",
   "metadata": {},
   "source": [
    "Show the Proof\n",
    "========"
   ]
  },
  {
   "cell_type": "code",
   "execution_count": 1,
   "metadata": {},
   "outputs": [
    {
     "data": {
      "text/html": [
       "<table><tr><th>&nbsp;</th><th>step type</th><th>requirements</th><th>statement</th></tr>\n",
       "<tr><td><a name=\"proveit.numbers.absolute_value.demonstrations.6851ea819f7c8065c384bfcf5501de77818da5470_step0\">0</a></td><td>instantiation</td><td><a href=\"#proveit.numbers.absolute_value.demonstrations.6851ea819f7c8065c384bfcf5501de77818da5470_step1\">1</a>, <a href=\"#proveit.numbers.absolute_value.demonstrations.6851ea819f7c8065c384bfcf5501de77818da5470_step2\">2</a></td><td><span style=\"font-size:20px;\"><a class=\"ProveItLink\" href=\"../../../../number_sets/complex_numbers/__pv_it/theorems/5c9b98ec381ed1eef8437437430dde6add03b8720/expr.ipynb\"><img src=\"../../../../number_sets/complex_numbers/__pv_it/theorems/5c9b98ec381ed1eef8437437430dde6add03b8720/expr.png\" style=\"display:inline;vertical-align:middle;\" /></a> <a class=\"ProveItLink\" href=\"proof.ipynb\" style=\"text-decoration: none\">&nbsp;&#x22A2;&nbsp;&nbsp;</a><a class=\"ProveItLink\" href=\"../../theorems/4bde0785dc8fc60d6b800b448ffbab71293c3e920/expr.ipynb\"><img src=\"../../theorems/4bde0785dc8fc60d6b800b448ffbab71293c3e920/expr.png\" style=\"display:inline;vertical-align:middle;\" /></a></span></td></tr>\n",
       "<tr><td>&nbsp;</td><td colspan=4 style=\"text-align:left\"><span style=\"font-size:20px;\"><a class=\"ProveItLink\" href=\"../../../../../__pv_it/common/b011a4fec64a1c824cf176959ebc716edbf098a10/expr.ipynb\"><img src=\"../../../../../__pv_it/common/b011a4fec64a1c824cf176959ebc716edbf098a10/expr.png\" style=\"display:inline;vertical-align:middle;\" /></a> : <a class=\"ProveItLink\" href=\"../../../../../__pv_it/common/b011a4fec64a1c824cf176959ebc716edbf098a10/expr.ipynb\"><img src=\"../../../../../__pv_it/common/b011a4fec64a1c824cf176959ebc716edbf098a10/expr.png\" style=\"display:inline;vertical-align:middle;\" /></a></span></td></tr><tr><td><a name=\"proveit.numbers.absolute_value.demonstrations.6851ea819f7c8065c384bfcf5501de77818da5470_step1\">1</a></td><td>theorem</td><td></td><td><span style=\"font-size:20px;\"> <a class=\"ProveItLink\" href=\"../../../_theory_nbs_/proofs/complex_unit_length/thm_proof.ipynb\" style=\"text-decoration: none\">&nbsp;&#x22A2;&nbsp;&nbsp;</a><a class=\"ProveItLink\" href=\"../../theorems/3d92b76efa45b0f87fe7800bafcd8a3b2a24d1c10/expr.ipynb\"><img src=\"../../theorems/3d92b76efa45b0f87fe7800bafcd8a3b2a24d1c10/expr.png\" style=\"display:inline;vertical-align:middle;\" /></a></span></td></tr>\n",
       "<tr><td>&nbsp;</td><td colspan=4 style-\"text-align:left\"><a class=\"ProveItLink\" href=\"../../../_theory_nbs_/proofs/complex_unit_length/thm_proof.ipynb\">proveit.numbers.absolute_value.complex_unit_length</a></td></tr><tr><td><a name=\"proveit.numbers.absolute_value.demonstrations.6851ea819f7c8065c384bfcf5501de77818da5470_step2\">2</a></td><td>assumption</td><td></td><td><span style=\"font-size:20px;\"><a class=\"ProveItLink\" href=\"../../../../number_sets/complex_numbers/__pv_it/theorems/5c9b98ec381ed1eef8437437430dde6add03b8720/expr.ipynb\"><img src=\"../../../../number_sets/complex_numbers/__pv_it/theorems/5c9b98ec381ed1eef8437437430dde6add03b8720/expr.png\" style=\"display:inline;vertical-align:middle;\" /></a> <a class=\"ProveItLink\" href=\"../910bb5c7f1dea13a9ed266601e20705740f6853f0/proof.ipynb\" style=\"text-decoration: none\">&nbsp;&#x22A2;&nbsp;&nbsp;</a><a class=\"ProveItLink\" href=\"../../../../number_sets/complex_numbers/__pv_it/theorems/5c9b98ec381ed1eef8437437430dde6add03b8720/expr.ipynb\"><img src=\"../../../../number_sets/complex_numbers/__pv_it/theorems/5c9b98ec381ed1eef8437437430dde6add03b8720/expr.png\" style=\"display:inline;vertical-align:middle;\" /></a></span></td></tr>\n",
       "</table>"
      ],
      "text/plain": [
       "<proveit._core_.proof._ShowProof at 0x7f0c7e7ea898>"
      ]
     },
     "execution_count": 1,
     "metadata": {},
     "output_type": "execute_result"
    }
   ],
   "source": [
    "import proveit\n",
    "# Automation is not needed when only showing a stored proof:\n",
    "proveit.defaults.automation = False # This will speed things up.\n",
    "proveit.defaults.inline_pngs = False # Makes files smaller.\n",
    "%show_proof"
   ]
  },
  {
   "cell_type": "code",
   "execution_count": null,
   "metadata": {},
   "outputs": [],
   "source": []
  }
 ],
 "metadata": {
  "kernelspec": {
   "display_name": "Python 3",
   "language": "python",
   "name": "python3"
  }
 },
 "nbformat": 4,
 "nbformat_minor": 0
}