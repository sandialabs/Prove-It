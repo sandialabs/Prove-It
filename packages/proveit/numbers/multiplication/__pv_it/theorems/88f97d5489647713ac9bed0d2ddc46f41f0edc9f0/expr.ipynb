{
 "cells": [
  {
   "cell_type": "markdown",
   "metadata": {},
   "source": [
    "Expression of type <a class=\"ProveItLink\" href=\"../../../../../../../doc/html/api/proveit.logic.Forall.html\">Forall</a>\n",
    "=======================\n",
    "# from the theory of <a class=\"ProveItLink\" href=\"../../../_theory_nbs_/theory.ipynb\">proveit.numbers.multiplication</a>"
   ]
  },
  {
   "cell_type": "code",
   "execution_count": 1,
   "metadata": {},
   "outputs": [],
   "source": [
    "import proveit\n",
    "# Automation is not needed when building an expression:\n",
    "proveit.defaults.automation = False # This will speed things up.\n",
    "proveit.defaults.inline_pngs = False # Makes files smaller.\n",
    "%load_expr # Load the stored expression as 'stored_expr'\n",
    "# import Expression classes needed to build the expression\n",
    "from proveit.core_expr_types import a_1_to_n\n",
    "from proveit.logic import Forall, InSet\n",
    "from proveit.numbers import ComplexNonZero, Mult"
   ]
  },
  {
   "cell_type": "code",
   "execution_count": 2,
   "metadata": {},
   "outputs": [
    {
     "data": {
      "text/html": [
       "<strong id=\"expr\">expr:</strong> <a class=\"ProveItLink\" href=\"expr.ipynb\"><img src=\"expr.png\" style=\"display:inline;vertical-align:middle;\" /></a><br>"
      ],
      "text/plain": [
       "<IPython.core.display.HTML object>"
      ]
     },
     "metadata": {},
     "output_type": "display_data"
    }
   ],
   "source": [
    "# build up the expression from sub-expressions\n",
    "expr = Forall(instance_param_or_params = [a_1_to_n], instance_expr = InSet(Mult(a_1_to_n), ComplexNonZero), domain = ComplexNonZero)"
   ]
  },
  {
   "cell_type": "code",
   "execution_count": 3,
   "metadata": {},
   "outputs": [
    {
     "name": "stdout",
     "output_type": "stream",
     "text": [
      "Passed sanity check: expr matches stored_expr\n"
     ]
    }
   ],
   "source": [
    "# check that the built expression is the same as the stored expression\n",
    "assert expr == stored_expr\n",
    "assert expr._style_id == stored_expr._style_id\n",
    "print(\"Passed sanity check: expr matches stored_expr\")"
   ]
  },
  {
   "cell_type": "code",
   "execution_count": 4,
   "metadata": {},
   "outputs": [
    {
     "name": "stdout",
     "output_type": "stream",
     "text": [
      "\\forall_{a_{1}, a_{2}, \\ldots, a_{n} \\in \\mathbb{C}^{\\neq 0}}~\\left(\\left(a_{1} \\cdot  a_{2} \\cdot  \\ldots \\cdot  a_{n}\\right) \\in \\mathbb{C}^{\\neq 0}\\right)\n"
     ]
    }
   ],
   "source": [
    "# Show the LaTeX representation of the expression for convenience if you need it.\n",
    "print(stored_expr.latex())"
   ]
  },
  {
   "cell_type": "code",
   "execution_count": 5,
   "metadata": {},
   "outputs": [
    {
     "data": {
      "text/html": [
       "<table>\n",
       "<tr><th>name</th><th>description</th><th>default</th><th>current value</th><th>related methods</th></tr><tr><td>with_wrapping</td><td>If 'True', wrap the Expression after the parameters</td><td>None</td><td>None/False</td><td>('with_wrapping',)</td></tr>\n",
       "<tr><td>condition_wrapping</td><td>Wrap 'before' or 'after' the condition (or None).</td><td>None</td><td>None/False</td><td>('with_wrap_after_condition', 'with_wrap_before_condition')</td></tr>\n",
       "<tr><td>wrap_params</td><td>If 'True', wraps every two parameters AND wraps the Expression after the parameters</td><td>None</td><td>None/False</td><td>('with_params',)</td></tr>\n",
       "<tr><td>justification</td><td>justify to the 'left', 'center', or 'right' in the array cells</td><td>center</td><td>center</td><td>('with_justification',)</td></tr>\n",
       "</table>\n"
      ],
      "text/plain": [
       "style name: with_wrapping\n",
       "description: If 'True', wrap the Expression after the parameters\n",
       "default: None\n",
       "current value: None/False\n",
       "related methods: ('with_wrapping',)\n",
       "style name: condition_wrapping\n",
       "description: Wrap 'before' or 'after' the condition (or None).\n",
       "default: None\n",
       "current value: None/False\n",
       "related methods: ('with_wrap_after_condition', 'with_wrap_before_condition')\n",
       "style name: wrap_params\n",
       "description: If 'True', wraps every two parameters AND wraps the Expression after the parameters\n",
       "default: None\n",
       "current value: None/False\n",
       "related methods: ('with_params',)\n",
       "style name: justification\n",
       "description: justify to the 'left', 'center', or 'right' in the array cells\n",
       "default: center\n",
       "current value: center\n",
       "related methods: ('with_justification',)"
      ]
     },
     "metadata": {},
     "output_type": "display_data"
    }
   ],
   "source": [
    "stored_expr.style_options()"
   ]
  },
  {
   "cell_type": "code",
   "execution_count": 6,
   "metadata": {},
   "outputs": [
    {
     "data": {
      "text/html": [
       "<table><tr><th>&nbsp;</th><th>core type</th><th>sub-expressions</th><th>expression</th></tr>\n",
       "<tr><td>0</td><td>Operation</td><td>operator:&nbsp;1<br>operand:&nbsp;3<br></td><td><a class=\"ProveItLink\" href=\"expr.ipynb\"><img src=\"expr.png\" style=\"display:inline;vertical-align:middle;\" /></a></td></tr>\n",
       "<tr><td>1</td><td>Literal</td><td></td><td><a class=\"ProveItLink\" href=\"../../../../../logic/booleans/quantification/universality/__pv_it/common/083d2baa0b8ecab1d230f9ec29a15aa1355809fb0/expr.ipynb\"><img src=\"../../../../../logic/booleans/quantification/universality/__pv_it/common/083d2baa0b8ecab1d230f9ec29a15aa1355809fb0/expr.png\" style=\"display:inline;vertical-align:middle;\" /></a></td></tr>\n",
       "<tr><td>2</td><td>ExprTuple</td><td>3</td><td><a class=\"ProveItLink\" href=\"../951cca0ce34c57556355c5e4a0965e0346aac2c30/expr.ipynb\"><img src=\"../951cca0ce34c57556355c5e4a0965e0346aac2c30/expr.png\" style=\"display:inline;vertical-align:middle;\" /></a></td></tr>\n",
       "<tr><td>3</td><td>Lambda</td><td>parameters:&nbsp;13<br>body:&nbsp;4<br></td><td><a class=\"ProveItLink\" href=\"../45d47a3870c6c87cb897fd4aaef75b1d440bcca90/expr.ipynb\"><img src=\"../45d47a3870c6c87cb897fd4aaef75b1d440bcca90/expr.png\" style=\"display:inline;vertical-align:middle;\" /></a></td></tr>\n",
       "<tr><td>4</td><td>Conditional</td><td>value:&nbsp;5<br>condition:&nbsp;6<br></td><td><a class=\"ProveItLink\" href=\"../6f09b3289a50ea26b64eed7a3dd3c2541189e2d30/expr.ipynb\"><img src=\"../6f09b3289a50ea26b64eed7a3dd3c2541189e2d30/expr.png\" style=\"display:inline;vertical-align:middle;\" /></a></td></tr>\n",
       "<tr><td>5</td><td>Operation</td><td>operator:&nbsp;20<br>operands:&nbsp;7<br></td><td><a class=\"ProveItLink\" href=\"../d7b6df3c52ba1b08ea18682c500f8187c0c34bbc0/expr.ipynb\"><img src=\"../d7b6df3c52ba1b08ea18682c500f8187c0c34bbc0/expr.png\" style=\"display:inline;vertical-align:middle;\" /></a></td></tr>\n",
       "<tr><td>6</td><td>Operation</td><td>operator:&nbsp;8<br>operands:&nbsp;9<br></td><td><a class=\"ProveItLink\" href=\"../71bb2c821643ae184903ce669139da5e99c2dba00/expr.ipynb\"><img src=\"../71bb2c821643ae184903ce669139da5e99c2dba00/expr.png\" style=\"display:inline;vertical-align:middle;\" /></a></td></tr>\n",
       "<tr><td>7</td><td>ExprTuple</td><td>10, 23</td><td><a class=\"ProveItLink\" href=\"../2b176b8544849840f4483db91ae41c5fadce9a600/expr.ipynb\"><img src=\"../2b176b8544849840f4483db91ae41c5fadce9a600/expr.png\" style=\"display:inline;vertical-align:middle;\" /></a></td></tr>\n",
       "<tr><td>8</td><td>Literal</td><td></td><td><a class=\"ProveItLink\" href=\"../../../../../logic/booleans/conjunction/__pv_it/common/42118ff318bd65d98b1393f64ce7c2269feef76e0/expr.ipynb\"><img src=\"../../../../../logic/booleans/conjunction/__pv_it/common/42118ff318bd65d98b1393f64ce7c2269feef76e0/expr.png\" style=\"display:inline;vertical-align:middle;\" /></a></td></tr>\n",
       "<tr><td>9</td><td>ExprTuple</td><td>11</td><td><a class=\"ProveItLink\" href=\"../be3b893209297fa950cd40ecc899a5a8cd8d289b0/expr.ipynb\"><img src=\"../be3b893209297fa950cd40ecc899a5a8cd8d289b0/expr.png\" style=\"display:inline;vertical-align:middle;\" /></a></td></tr>\n",
       "<tr><td>10</td><td>Operation</td><td>operator:&nbsp;12<br>operands:&nbsp;13<br></td><td><a class=\"ProveItLink\" href=\"../a2b6912493c4d5eb73f39fef02f757fe50209a820/expr.ipynb\"><img src=\"../a2b6912493c4d5eb73f39fef02f757fe50209a820/expr.png\" style=\"display:inline;vertical-align:middle;\" /></a></td></tr>\n",
       "<tr><td>11</td><td>ExprRange</td><td>lambda_map:&nbsp;14<br>start_index:&nbsp;18<br>end_index:&nbsp;19<br></td><td><a class=\"ProveItLink\" href=\"../820c36ebfc2a29e393ea35d922acf618e0de5c820/expr.ipynb\"><img src=\"../820c36ebfc2a29e393ea35d922acf618e0de5c820/expr.png\" style=\"display:inline;vertical-align:middle;\" /></a></td></tr>\n",
       "<tr><td>12</td><td>Literal</td><td></td><td><a class=\"ProveItLink\" href=\"../../common/ed719cef37831779c16481533a4d380a2f95ab270/expr.ipynb\"><img src=\"../../common/ed719cef37831779c16481533a4d380a2f95ab270/expr.png\" style=\"display:inline;vertical-align:middle;\" /></a></td></tr>\n",
       "<tr><td>13</td><td>ExprTuple</td><td>15</td><td><a class=\"ProveItLink\" href=\"../7b420e2a84f53537bd285f3baa95d83c0ea120860/expr.ipynb\"><img src=\"../7b420e2a84f53537bd285f3baa95d83c0ea120860/expr.png\" style=\"display:inline;vertical-align:middle;\" /></a></td></tr>\n",
       "<tr><td>14</td><td>Lambda</td><td>parameter:&nbsp;26<br>body:&nbsp;16<br></td><td><a class=\"ProveItLink\" href=\"../2160aa9fdaffcacfb08f2da33e272c8005d6c9740/expr.ipynb\"><img src=\"../2160aa9fdaffcacfb08f2da33e272c8005d6c9740/expr.png\" style=\"display:inline;vertical-align:middle;\" /></a></td></tr>\n",
       "<tr><td>15</td><td>ExprRange</td><td>lambda_map:&nbsp;17<br>start_index:&nbsp;18<br>end_index:&nbsp;19<br></td><td><a class=\"ProveItLink\" href=\"../../../../../core_expr_types/__pv_it/common/7ee2dd28754734e63298daa7955625a3d904698e0/expr.ipynb\"><img src=\"../../../../../core_expr_types/__pv_it/common/7ee2dd28754734e63298daa7955625a3d904698e0/expr.png\" style=\"display:inline;vertical-align:middle;\" /></a></td></tr>\n",
       "<tr><td>16</td><td>Operation</td><td>operator:&nbsp;20<br>operands:&nbsp;21<br></td><td><a class=\"ProveItLink\" href=\"../4ecadffcfbb340a839670256267397d7552a5b830/expr.ipynb\"><img src=\"../4ecadffcfbb340a839670256267397d7552a5b830/expr.png\" style=\"display:inline;vertical-align:middle;\" /></a></td></tr>\n",
       "<tr><td>17</td><td>Lambda</td><td>parameter:&nbsp;26<br>body:&nbsp;22<br></td><td><a class=\"ProveItLink\" href=\"../../../../../core_expr_types/__pv_it/common/1527ad383e12f9c6ed6b371c9a7dd1892d80da1b0/expr.ipynb\"><img src=\"../../../../../core_expr_types/__pv_it/common/1527ad383e12f9c6ed6b371c9a7dd1892d80da1b0/expr.png\" style=\"display:inline;vertical-align:middle;\" /></a></td></tr>\n",
       "<tr><td>18</td><td>Literal</td><td></td><td><a class=\"ProveItLink\" href=\"../../../../numerals/__pv_it/common/682157d4892d216d9e5626ed533aff9b56b9506e0/expr.ipynb\"><img src=\"../../../../numerals/__pv_it/common/682157d4892d216d9e5626ed533aff9b56b9506e0/expr.png\" style=\"display:inline;vertical-align:middle;\" /></a></td></tr>\n",
       "<tr><td>19</td><td>Variable</td><td></td><td><a class=\"ProveItLink\" href=\"../../../../../__pv_it/common/8968bb04eb3f7dfa02353397ce929b025bbd79c20/expr.ipynb\"><img src=\"../../../../../__pv_it/common/8968bb04eb3f7dfa02353397ce929b025bbd79c20/expr.png\" style=\"display:inline;vertical-align:middle;\" /></a></td></tr>\n",
       "<tr><td>20</td><td>Literal</td><td></td><td><a class=\"ProveItLink\" href=\"../../../../../logic/sets/membership/__pv_it/common/477487d8796864d23d5810f83761435f25167f690/expr.ipynb\"><img src=\"../../../../../logic/sets/membership/__pv_it/common/477487d8796864d23d5810f83761435f25167f690/expr.png\" style=\"display:inline;vertical-align:middle;\" /></a></td></tr>\n",
       "<tr><td>21</td><td>ExprTuple</td><td>22, 23</td><td><a class=\"ProveItLink\" href=\"../ffced487859cd97ee4bf801c6263cea93d0a56710/expr.ipynb\"><img src=\"../ffced487859cd97ee4bf801c6263cea93d0a56710/expr.png\" style=\"display:inline;vertical-align:middle;\" /></a></td></tr>\n",
       "<tr><td>22</td><td>IndexedVar</td><td>variable:&nbsp;24<br>index:&nbsp;26<br></td><td><a class=\"ProveItLink\" href=\"../../../../../core_expr_types/__pv_it/common/3a62c13e156d62d52fe585fa37cc2172fcf685260/expr.ipynb\"><img src=\"../../../../../core_expr_types/__pv_it/common/3a62c13e156d62d52fe585fa37cc2172fcf685260/expr.png\" style=\"display:inline;vertical-align:middle;\" /></a></td></tr>\n",
       "<tr><td>23</td><td>Literal</td><td></td><td><a class=\"ProveItLink\" href=\"../../../../number_sets/complex_numbers/__pv_it/common/8ab52a5fa82bbe01e674c56b4ac8573af71c37d10/expr.ipynb\"><img src=\"../../../../number_sets/complex_numbers/__pv_it/common/8ab52a5fa82bbe01e674c56b4ac8573af71c37d10/expr.png\" style=\"display:inline;vertical-align:middle;\" /></a></td></tr>\n",
       "<tr><td>24</td><td>Variable</td><td></td><td><a class=\"ProveItLink\" href=\"../../../../../__pv_it/common/c06c606ec12678c58933ac85412ecadc2ae28be60/expr.ipynb\"><img src=\"../../../../../__pv_it/common/c06c606ec12678c58933ac85412ecadc2ae28be60/expr.png\" style=\"display:inline;vertical-align:middle;\" /></a></td></tr>\n",
       "<tr><td>25</td><td>ExprTuple</td><td>26</td><td><a class=\"ProveItLink\" href=\"../../../../../core_expr_types/__pv_it/common/4b0dd6be36d76552eda6a95d5b4a27f5a5b62f900/expr.ipynb\"><img src=\"../../../../../core_expr_types/__pv_it/common/4b0dd6be36d76552eda6a95d5b4a27f5a5b62f900/expr.png\" style=\"display:inline;vertical-align:middle;\" /></a></td></tr>\n",
       "<tr><td>26</td><td>Variable</td><td></td><td><a class=\"ProveItLink\" href=\"../../../../../core_expr_types/__pv_it/common/006c465e50948aa2b52285e2de47974f741255cc0/expr.ipynb\"><img src=\"../../../../../core_expr_types/__pv_it/common/006c465e50948aa2b52285e2de47974f741255cc0/expr.png\" style=\"display:inline;vertical-align:middle;\" /></a></td></tr>\n",
       "</table>\n"
      ],
      "text/plain": [
       "0. forall_{a_{1}, a_{2}, ..., a_{n} in ComplexNonZero} ((a_{1} *  a_{2} *  ... *  a_{n}) in ComplexNonZero)\n",
       "   core type: Operation\n",
       "   operator: 1\n",
       "   operand: 3\n",
       "1. forall\n",
       "   core type: Literal\n",
       "   sub-expressions: \n",
       "2. ((a_{1}, a_{2}, ..., a_{n}) -> {(a_{1} *  a_{2} *  ... *  a_{n}) in ComplexNonZero if (a_{1} in ComplexNonZero) and  (a_{2} in ComplexNonZero) and  ... and  (a_{n} in ComplexNonZero).)\n",
       "   core type: ExprTuple\n",
       "   sub-expressions: 3\n",
       "3. (a_{1}, a_{2}, ..., a_{n}) -> {(a_{1} *  a_{2} *  ... *  a_{n}) in ComplexNonZero if (a_{1} in ComplexNonZero) and  (a_{2} in ComplexNonZero) and  ... and  (a_{n} in ComplexNonZero).\n",
       "   core type: Lambda\n",
       "   parameters: 13\\n   body: 4\n",
       "4. {(a_{1} *  a_{2} *  ... *  a_{n}) in ComplexNonZero if (a_{1} in ComplexNonZero) and  (a_{2} in ComplexNonZero) and  ... and  (a_{n} in ComplexNonZero).\n",
       "   core type: Conditional\n",
       "   value: 5\n",
       "   condition: 6\n",
       "5. (a_{1} *  a_{2} *  ... *  a_{n}) in ComplexNonZero\n",
       "   core type: Operation\n",
       "   operator: 20\n",
       "   operands: 7\n",
       "6. (a_{1} in ComplexNonZero) and  (a_{2} in ComplexNonZero) and  ... and  (a_{n} in ComplexNonZero)\n",
       "   core type: Operation\n",
       "   operator: 8\n",
       "   operands: 9\n",
       "7. (a_{1} *  a_{2} *  ... *  a_{n}, ComplexNonZero)\n",
       "   core type: ExprTuple\n",
       "   sub-expressions: 10, 23\n",
       "8. and\n",
       "   core type: Literal\n",
       "   sub-expressions: \n",
       "9. ((a_{1} in ComplexNonZero), (a_{2} in ComplexNonZero), ..., (a_{n} in ComplexNonZero))\n",
       "   core type: ExprTuple\n",
       "   sub-expressions: 11\n",
       "10. a_{1} *  a_{2} *  ... *  a_{n}\n",
       "    core type: Operation\n",
       "    operator: 12\n",
       "    operands: 13\n",
       "11. (a_{1} in ComplexNonZero), (a_{2} in ComplexNonZero), ..., (a_{n} in ComplexNonZero)\n",
       "    core type: ExprRange\n",
       "    lambda_map: 14\n",
       "    start_index: 18\n",
       "    end_index: 19\n",
       "12. *\n",
       "    core type: Literal\n",
       "    sub-expressions: \n",
       "13. (a_{1}, a_{2}, ..., a_{n})\n",
       "    core type: ExprTuple\n",
       "    sub-expressions: 15\n",
       "14. _a -> (a_{_a} in ComplexNonZero)\n",
       "    core type: Lambda\n",
       "    parameter: 26\n",
       "    body: 16\n",
       "15. a_{1}, a_{2}, ..., a_{n}\n",
       "    core type: ExprRange\n",
       "    lambda_map: 17\n",
       "    start_index: 18\n",
       "    end_index: 19\n",
       "16. a_{_a} in ComplexNonZero\n",
       "    core type: Operation\n",
       "    operator: 20\n",
       "    operands: 21\n",
       "17. _a -> a_{_a}\n",
       "    core type: Lambda\n",
       "    parameter: 26\n",
       "    body: 22\n",
       "18. 1\n",
       "    core type: Literal\n",
       "    sub-expressions: \n",
       "19. n\n",
       "    core type: Variable\n",
       "    sub-expressions: \n",
       "20. in\n",
       "    core type: Literal\n",
       "    sub-expressions: \n",
       "21. (a_{_a}, ComplexNonZero)\n",
       "    core type: ExprTuple\n",
       "    sub-expressions: 22, 23\n",
       "22. a_{_a}\n",
       "    core type: IndexedVar\n",
       "variable: 24\n",
       "index: 26\n",
       "23. ComplexNonZero\n",
       "    core type: Literal\n",
       "    sub-expressions: \n",
       "24. a\n",
       "    core type: Variable\n",
       "    sub-expressions: \n",
       "25. (_a)\n",
       "    core type: ExprTuple\n",
       "    sub-expressions: 26\n",
       "26. _a\n",
       "    core type: Variable\n",
       "    sub-expressions: "
      ]
     },
     "metadata": {},
     "output_type": "display_data"
    }
   ],
   "source": [
    "# display the expression information\n",
    "stored_expr.expr_info()"
   ]
  },
  {
   "cell_type": "code",
   "execution_count": null,
   "metadata": {},
   "outputs": [],
   "source": []
  }
 ],
 "metadata": {
  "kernelspec": {
   "display_name": "Python 3",
   "language": "python",
   "name": "python3"
  }
 },
 "nbformat": 4,
 "nbformat_minor": 0
}