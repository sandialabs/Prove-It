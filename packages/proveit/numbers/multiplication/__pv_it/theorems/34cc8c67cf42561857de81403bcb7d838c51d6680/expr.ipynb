{
 "cells": [
  {
   "cell_type": "markdown",
   "metadata": {},
   "source": [
    "Expression of type <a class=\"ProveItLink\" href=\"../../../../../../../doc/html/api/proveit.ExprTuple.html\">ExprTuple</a>\n",
    "=======================\n",
    "# from the theory of <a class=\"ProveItLink\" href=\"../../../_theory_nbs_/theory.ipynb\">proveit.numbers.multiplication</a>"
   ]
  },
  {
   "cell_type": "code",
   "execution_count": 1,
   "metadata": {},
   "outputs": [],
   "source": [
    "import proveit\n",
    "# Automation is not needed when building an expression:\n",
    "proveit.defaults.automation = False # This will speed things up.\n",
    "proveit.defaults.inline_pngs = False # Makes files smaller.\n",
    "%load_expr # Load the stored expression as 'stored_expr'\n",
    "# import Expression classes needed to build the expression\n",
    "from proveit import Conditional, ExprRange, ExprTuple, IndexedVar, Lambda, Variable, b, j\n",
    "from proveit.core_expr_types import a_1_to_i, b_1_to_j, c_1_to_k\n",
    "from proveit.logic import And, Equals, InSet\n",
    "from proveit.numbers import Abs, Add, Complex, Mult, one"
   ]
  },
  {
   "cell_type": "code",
   "execution_count": 2,
   "metadata": {},
   "outputs": [
    {
     "data": {
      "text/html": [
       "<strong id=\"expr\">expr:</strong> <a class=\"ProveItLink\" href=\"expr.ipynb\"><img src=\"expr.png\" style=\"display:inline;vertical-align:middle;\" /></a><br>"
      ],
      "text/plain": [
       "<IPython.core.display.HTML object>"
      ]
     },
     "metadata": {},
     "output_type": "display_data"
    }
   ],
   "source": [
    "# build up the expression from sub-expressions\n",
    "sub_expr1 = Variable(\"_b\", latex_format = r\"{_{-}b}\")\n",
    "sub_expr2 = Variable(\"_a\", latex_format = r\"{_{-}a}\")\n",
    "expr = ExprTuple(Lambda([b_1_to_j], Conditional(Equals(Mult(a_1_to_i, Abs(Add(b_1_to_j)), c_1_to_k), Abs(Add(ExprRange(sub_expr1, Mult(a_1_to_i, IndexedVar(b, sub_expr1), c_1_to_k), one, j)))).with_wrapping_at(2), And(ExprRange(sub_expr2, InSet(IndexedVar(b, sub_expr2), Complex), one, j)))))"
   ]
  },
  {
   "cell_type": "code",
   "execution_count": 3,
   "metadata": {},
   "outputs": [
    {
     "name": "stdout",
     "output_type": "stream",
     "text": [
      "Passed sanity check: expr matches stored_expr\n"
     ]
    }
   ],
   "source": [
    "# check that the built expression is the same as the stored expression\n",
    "assert expr == stored_expr\n",
    "assert expr._style_id == stored_expr._style_id\n",
    "print(\"Passed sanity check: expr matches stored_expr\")"
   ]
  },
  {
   "cell_type": "code",
   "execution_count": 4,
   "metadata": {},
   "outputs": [
    {
     "name": "stdout",
     "output_type": "stream",
     "text": [
      "\\left(\\left(b_{1}, b_{2}, \\ldots, b_{j}\\right) \\mapsto \\left\\{\\begin{array}{c} \\begin{array}{l} \\left(a_{1} \\cdot  a_{2} \\cdot  \\ldots \\cdot  a_{i} \\cdot \\left|b_{1} +  b_{2} +  \\ldots +  b_{j}\\right|\\cdot c_{1} \\cdot  c_{2} \\cdot  \\ldots \\cdot  c_{k}\\right) =  \\\\ \\left|\\left(a_{1} \\cdot  a_{2} \\cdot  \\ldots \\cdot  a_{i} \\cdot b_{1}\\cdot c_{1} \\cdot  c_{2} \\cdot  \\ldots \\cdot  c_{k}\\right) +  \\left(a_{1} \\cdot  a_{2} \\cdot  \\ldots \\cdot  a_{i} \\cdot b_{2}\\cdot c_{1} \\cdot  c_{2} \\cdot  \\ldots \\cdot  c_{k}\\right) +  \\ldots +  \\left(a_{1} \\cdot  a_{2} \\cdot  \\ldots \\cdot  a_{i} \\cdot b_{j}\\cdot c_{1} \\cdot  c_{2} \\cdot  \\ldots \\cdot  c_{k}\\right)\\right| \\end{array} \\end{array} \\textrm{ if } \\left(b_{1} \\in \\mathbb{C}\\right) \\land  \\left(b_{2} \\in \\mathbb{C}\\right) \\land  \\ldots \\land  \\left(b_{j} \\in \\mathbb{C}\\right)\\right..\\right)\n"
     ]
    }
   ],
   "source": [
    "# Show the LaTeX representation of the expression for convenience if you need it.\n",
    "print(stored_expr.latex())"
   ]
  },
  {
   "cell_type": "code",
   "execution_count": 5,
   "metadata": {},
   "outputs": [
    {
     "data": {
      "text/html": [
       "no style options"
      ],
      "text/plain": [
       "no style options"
      ]
     },
     "metadata": {},
     "output_type": "display_data"
    }
   ],
   "source": [
    "stored_expr.style_options()"
   ]
  },
  {
   "cell_type": "code",
   "execution_count": 6,
   "metadata": {},
   "outputs": [
    {
     "data": {
      "text/html": [
       "<table><tr><th>&nbsp;</th><th>core type</th><th>sub-expressions</th><th>expression</th></tr>\n",
       "<tr><td>0</td><td>ExprTuple</td><td>1</td><td><a class=\"ProveItLink\" href=\"expr.ipynb\"><img src=\"expr.png\" style=\"display:inline;vertical-align:middle;\" /></a></td></tr>\n",
       "<tr><td>1</td><td>Lambda</td><td>parameters:&nbsp;27<br>body:&nbsp;2<br></td><td><a class=\"ProveItLink\" href=\"../7007899f1a7cb32240a305aa378cbaf9453200550/expr.ipynb\"><img src=\"../7007899f1a7cb32240a305aa378cbaf9453200550/expr.png\" style=\"display:inline;vertical-align:middle;\" /></a></td></tr>\n",
       "<tr><td>2</td><td>Conditional</td><td>value:&nbsp;3<br>condition:&nbsp;4<br></td><td><a class=\"ProveItLink\" href=\"../2ca09eed1217d630c882e75f3e186331afffd2380/expr.ipynb\"><img src=\"../2ca09eed1217d630c882e75f3e186331afffd2380/expr.png\" style=\"display:inline;vertical-align:middle;\" /></a></td></tr>\n",
       "<tr><td>3</td><td>Operation</td><td>operator:&nbsp;5<br>operands:&nbsp;6<br></td><td><a class=\"ProveItLink\" href=\"../3f5e8948b1add00a93fb5f843bddf30a2566d3300/expr.ipynb\"><img src=\"../3f5e8948b1add00a93fb5f843bddf30a2566d3300/expr.png\" style=\"display:inline;vertical-align:middle;\" /></a></td></tr>\n",
       "<tr><td>4</td><td>Operation</td><td>operator:&nbsp;7<br>operands:&nbsp;8<br></td><td><a class=\"ProveItLink\" href=\"../794ad6512223e7238ed63f7a41543f051339d5060/expr.ipynb\"><img src=\"../794ad6512223e7238ed63f7a41543f051339d5060/expr.png\" style=\"display:inline;vertical-align:middle;\" /></a></td></tr>\n",
       "<tr><td>5</td><td>Literal</td><td></td><td><a class=\"ProveItLink\" href=\"../../../../../logic/equality/__pv_it/common/fb96dc12b2aa8801dda64d0132b396c63d1502bb0/expr.ipynb\"><img src=\"../../../../../logic/equality/__pv_it/common/fb96dc12b2aa8801dda64d0132b396c63d1502bb0/expr.png\" style=\"display:inline;vertical-align:middle;\" /></a></td></tr>\n",
       "<tr><td>6</td><td>ExprTuple</td><td>9, 10</td><td><a class=\"ProveItLink\" href=\"../3be95135cf43134a753f1c44e6e2170637edb97b0/expr.ipynb\"><img src=\"../3be95135cf43134a753f1c44e6e2170637edb97b0/expr.png\" style=\"display:inline;vertical-align:middle;\" /></a></td></tr>\n",
       "<tr><td>7</td><td>Literal</td><td></td><td><a class=\"ProveItLink\" href=\"../../../../../logic/booleans/conjunction/__pv_it/common/42118ff318bd65d98b1393f64ce7c2269feef76e0/expr.ipynb\"><img src=\"../../../../../logic/booleans/conjunction/__pv_it/common/42118ff318bd65d98b1393f64ce7c2269feef76e0/expr.png\" style=\"display:inline;vertical-align:middle;\" /></a></td></tr>\n",
       "<tr><td>8</td><td>ExprTuple</td><td>11</td><td><a class=\"ProveItLink\" href=\"../3f9570a18e41e6100c91a7a35a78a1ff435cedd30/expr.ipynb\"><img src=\"../3f9570a18e41e6100c91a7a35a78a1ff435cedd30/expr.png\" style=\"display:inline;vertical-align:middle;\" /></a></td></tr>\n",
       "<tr><td>9</td><td>Operation</td><td>operator:&nbsp;33<br>operands:&nbsp;12<br></td><td><a class=\"ProveItLink\" href=\"../d136a473b18f2b575ef4ea8406f12615aa8fe6670/expr.ipynb\"><img src=\"../d136a473b18f2b575ef4ea8406f12615aa8fe6670/expr.png\" style=\"display:inline;vertical-align:middle;\" /></a></td></tr>\n",
       "<tr><td>10</td><td>Operation</td><td>operator:&nbsp;18<br>operand:&nbsp;16<br></td><td><a class=\"ProveItLink\" href=\"../7a2898e1b7cf8fb400e0ab1507913d186ff81b610/expr.ipynb\"><img src=\"../7a2898e1b7cf8fb400e0ab1507913d186ff81b610/expr.png\" style=\"display:inline;vertical-align:middle;\" /></a></td></tr>\n",
       "<tr><td>11</td><td>ExprRange</td><td>lambda_map:&nbsp;14<br>start_index:&nbsp;44<br>end_index:&nbsp;32<br></td><td><a class=\"ProveItLink\" href=\"../8554ff688580ecf3cdabf4396430770529b5fd780/expr.ipynb\"><img src=\"../8554ff688580ecf3cdabf4396430770529b5fd780/expr.png\" style=\"display:inline;vertical-align:middle;\" /></a></td></tr>\n",
       "<tr><td>12</td><td>ExprTuple</td><td>36, 15, 38</td><td><a class=\"ProveItLink\" href=\"../30832676d8c9d9a09f72f8bac636bc780eb625a80/expr.ipynb\"><img src=\"../30832676d8c9d9a09f72f8bac636bc780eb625a80/expr.png\" style=\"display:inline;vertical-align:middle;\" /></a></td></tr>\n",
       "<tr><td>13</td><td>ExprTuple</td><td>16</td><td><a class=\"ProveItLink\" href=\"../4233c3c55e84ce476e6fd779b4fc30aecbc70f040/expr.ipynb\"><img src=\"../4233c3c55e84ce476e6fd779b4fc30aecbc70f040/expr.png\" style=\"display:inline;vertical-align:middle;\" /></a></td></tr>\n",
       "<tr><td>14</td><td>Lambda</td><td>parameter:&nbsp;52<br>body:&nbsp;17<br></td><td><a class=\"ProveItLink\" href=\"../69a1846558bce37804861263b5618785c29985c20/expr.ipynb\"><img src=\"../69a1846558bce37804861263b5618785c29985c20/expr.png\" style=\"display:inline;vertical-align:middle;\" /></a></td></tr>\n",
       "<tr><td>15</td><td>Operation</td><td>operator:&nbsp;18<br>operand:&nbsp;23<br></td><td><a class=\"ProveItLink\" href=\"../d67d02c65f0e9db87852c1f7b452045cd3487e8a0/expr.ipynb\"><img src=\"../d67d02c65f0e9db87852c1f7b452045cd3487e8a0/expr.png\" style=\"display:inline;vertical-align:middle;\" /></a></td></tr>\n",
       "<tr><td>16</td><td>Operation</td><td>operator:&nbsp;26<br>operands:&nbsp;20<br></td><td><a class=\"ProveItLink\" href=\"../da4395aa0c05dbc9d79998afc28e7c7f24ed52660/expr.ipynb\"><img src=\"../da4395aa0c05dbc9d79998afc28e7c7f24ed52660/expr.png\" style=\"display:inline;vertical-align:middle;\" /></a></td></tr>\n",
       "<tr><td>17</td><td>Operation</td><td>operator:&nbsp;21<br>operands:&nbsp;22<br></td><td><a class=\"ProveItLink\" href=\"../a00476dd5f09ecff900ade543e9cb4c5b7fa6f610/expr.ipynb\"><img src=\"../a00476dd5f09ecff900ade543e9cb4c5b7fa6f610/expr.png\" style=\"display:inline;vertical-align:middle;\" /></a></td></tr>\n",
       "<tr><td>18</td><td>Literal</td><td></td><td><a class=\"ProveItLink\" href=\"../../../../absolute_value/__pv_it/common/eea56c667bc0aad2dc76ed04b44c2bd98b94005f0/expr.ipynb\"><img src=\"../../../../absolute_value/__pv_it/common/eea56c667bc0aad2dc76ed04b44c2bd98b94005f0/expr.png\" style=\"display:inline;vertical-align:middle;\" /></a></td></tr>\n",
       "<tr><td>19</td><td>ExprTuple</td><td>23</td><td><a class=\"ProveItLink\" href=\"../5b0576adfb8e8911f3f00da5652d3c6daad959590/expr.ipynb\"><img src=\"../5b0576adfb8e8911f3f00da5652d3c6daad959590/expr.png\" style=\"display:inline;vertical-align:middle;\" /></a></td></tr>\n",
       "<tr><td>20</td><td>ExprTuple</td><td>24</td><td><a class=\"ProveItLink\" href=\"../3901b1ddd73b7c45a41f9c06642654a4642e1b8f0/expr.ipynb\"><img src=\"../3901b1ddd73b7c45a41f9c06642654a4642e1b8f0/expr.png\" style=\"display:inline;vertical-align:middle;\" /></a></td></tr>\n",
       "<tr><td>21</td><td>Literal</td><td></td><td><a class=\"ProveItLink\" href=\"../../../../../logic/sets/membership/__pv_it/common/477487d8796864d23d5810f83761435f25167f690/expr.ipynb\"><img src=\"../../../../../logic/sets/membership/__pv_it/common/477487d8796864d23d5810f83761435f25167f690/expr.png\" style=\"display:inline;vertical-align:middle;\" /></a></td></tr>\n",
       "<tr><td>22</td><td>ExprTuple</td><td>35, 25</td><td><a class=\"ProveItLink\" href=\"../feeb23765192335eba8432eeba56d920b3546e1d0/expr.ipynb\"><img src=\"../feeb23765192335eba8432eeba56d920b3546e1d0/expr.png\" style=\"display:inline;vertical-align:middle;\" /></a></td></tr>\n",
       "<tr><td>23</td><td>Operation</td><td>operator:&nbsp;26<br>operands:&nbsp;27<br></td><td><a class=\"ProveItLink\" href=\"../27c663c7b90415fac24dcaabb1c2f80ed9d879150/expr.ipynb\"><img src=\"../27c663c7b90415fac24dcaabb1c2f80ed9d879150/expr.png\" style=\"display:inline;vertical-align:middle;\" /></a></td></tr>\n",
       "<tr><td>24</td><td>ExprRange</td><td>lambda_map:&nbsp;28<br>start_index:&nbsp;44<br>end_index:&nbsp;32<br></td><td><a class=\"ProveItLink\" href=\"../212d173b2d239274c4aef913cc31bc622959bb9c0/expr.ipynb\"><img src=\"../212d173b2d239274c4aef913cc31bc622959bb9c0/expr.png\" style=\"display:inline;vertical-align:middle;\" /></a></td></tr>\n",
       "<tr><td>25</td><td>Literal</td><td></td><td><a class=\"ProveItLink\" href=\"../../../../number_sets/complex_numbers/__pv_it/common/d18a028138f659eda00de597c28a3447fe87eb100/expr.ipynb\"><img src=\"../../../../number_sets/complex_numbers/__pv_it/common/d18a028138f659eda00de597c28a3447fe87eb100/expr.png\" style=\"display:inline;vertical-align:middle;\" /></a></td></tr>\n",
       "<tr><td>26</td><td>Literal</td><td></td><td><a class=\"ProveItLink\" href=\"../../../../addition/__pv_it/common/4b7effaab3619a1c2c38fe2dee8601df8ec714590/expr.ipynb\"><img src=\"../../../../addition/__pv_it/common/4b7effaab3619a1c2c38fe2dee8601df8ec714590/expr.png\" style=\"display:inline;vertical-align:middle;\" /></a></td></tr>\n",
       "<tr><td>27</td><td>ExprTuple</td><td>29</td><td><a class=\"ProveItLink\" href=\"../../../../summation/__pv_it/common/012c9f5d21ff973afec8993018a8748215a3332a0/expr.ipynb\"><img src=\"../../../../summation/__pv_it/common/012c9f5d21ff973afec8993018a8748215a3332a0/expr.png\" style=\"display:inline;vertical-align:middle;\" /></a></td></tr>\n",
       "<tr><td>28</td><td>Lambda</td><td>parameter:&nbsp;47<br>body:&nbsp;30<br></td><td><a class=\"ProveItLink\" href=\"../51780bd988884e0b7b745ec1d43b6fd11cfacbe70/expr.ipynb\"><img src=\"../51780bd988884e0b7b745ec1d43b6fd11cfacbe70/expr.png\" style=\"display:inline;vertical-align:middle;\" /></a></td></tr>\n",
       "<tr><td>29</td><td>ExprRange</td><td>lambda_map:&nbsp;31<br>start_index:&nbsp;44<br>end_index:&nbsp;32<br></td><td><a class=\"ProveItLink\" href=\"../../../../../core_expr_types/__pv_it/common/d0e70829681f7e0560cecc174fdf76cb311d43400/expr.ipynb\"><img src=\"../../../../../core_expr_types/__pv_it/common/d0e70829681f7e0560cecc174fdf76cb311d43400/expr.png\" style=\"display:inline;vertical-align:middle;\" /></a></td></tr>\n",
       "<tr><td>30</td><td>Operation</td><td>operator:&nbsp;33<br>operands:&nbsp;34<br></td><td><a class=\"ProveItLink\" href=\"../c28c78990fe3f7dedb2983a5eb4c1ccc5fe8327e0/expr.ipynb\"><img src=\"../c28c78990fe3f7dedb2983a5eb4c1ccc5fe8327e0/expr.png\" style=\"display:inline;vertical-align:middle;\" /></a></td></tr>\n",
       "<tr><td>31</td><td>Lambda</td><td>parameter:&nbsp;52<br>body:&nbsp;35<br></td><td><a class=\"ProveItLink\" href=\"../../../../../core_expr_types/__pv_it/common/d763764ede9c88a33f4b750791da02d1a21cb6820/expr.ipynb\"><img src=\"../../../../../core_expr_types/__pv_it/common/d763764ede9c88a33f4b750791da02d1a21cb6820/expr.png\" style=\"display:inline;vertical-align:middle;\" /></a></td></tr>\n",
       "<tr><td>32</td><td>Variable</td><td></td><td><a class=\"ProveItLink\" href=\"../../../../../__pv_it/common/1ed21df18baca2f42b561a7ffbf30a2743d594650/expr.ipynb\"><img src=\"../../../../../__pv_it/common/1ed21df18baca2f42b561a7ffbf30a2743d594650/expr.png\" style=\"display:inline;vertical-align:middle;\" /></a></td></tr>\n",
       "<tr><td>33</td><td>Literal</td><td></td><td><a class=\"ProveItLink\" href=\"../../common/ed719cef37831779c16481533a4d380a2f95ab270/expr.ipynb\"><img src=\"../../common/ed719cef37831779c16481533a4d380a2f95ab270/expr.png\" style=\"display:inline;vertical-align:middle;\" /></a></td></tr>\n",
       "<tr><td>34</td><td>ExprTuple</td><td>36, 37, 38</td><td><a class=\"ProveItLink\" href=\"../7cf31e9c646cd1c91afabd57b3d36957e70ff2d40/expr.ipynb\"><img src=\"../7cf31e9c646cd1c91afabd57b3d36957e70ff2d40/expr.png\" style=\"display:inline;vertical-align:middle;\" /></a></td></tr>\n",
       "<tr><td>35</td><td>IndexedVar</td><td>variable:&nbsp;41<br>index:&nbsp;52<br></td><td><a class=\"ProveItLink\" href=\"../../../../../core_expr_types/__pv_it/common/8542342c36565a593724a99f9c08d995c1c21af20/expr.ipynb\"><img src=\"../../../../../core_expr_types/__pv_it/common/8542342c36565a593724a99f9c08d995c1c21af20/expr.png\" style=\"display:inline;vertical-align:middle;\" /></a></td></tr>\n",
       "<tr><td>36</td><td>ExprRange</td><td>lambda_map:&nbsp;39<br>start_index:&nbsp;44<br>end_index:&nbsp;40<br></td><td><a class=\"ProveItLink\" href=\"../../../../../core_expr_types/__pv_it/common/7230c683fcd56948c826ac1be71b01b6fb2913950/expr.ipynb\"><img src=\"../../../../../core_expr_types/__pv_it/common/7230c683fcd56948c826ac1be71b01b6fb2913950/expr.png\" style=\"display:inline;vertical-align:middle;\" /></a></td></tr>\n",
       "<tr><td>37</td><td>IndexedVar</td><td>variable:&nbsp;41<br>index:&nbsp;47<br></td><td><a class=\"ProveItLink\" href=\"../145e9b9617e48ccba4d6d4045710832f30f68a9d0/expr.ipynb\"><img src=\"../145e9b9617e48ccba4d6d4045710832f30f68a9d0/expr.png\" style=\"display:inline;vertical-align:middle;\" /></a></td></tr>\n",
       "<tr><td>38</td><td>ExprRange</td><td>lambda_map:&nbsp;43<br>start_index:&nbsp;44<br>end_index:&nbsp;45<br></td><td><a class=\"ProveItLink\" href=\"../../../../../core_expr_types/__pv_it/common/847fd9e18bcb1cd068c4b44622f3fd12a6ad6a150/expr.ipynb\"><img src=\"../../../../../core_expr_types/__pv_it/common/847fd9e18bcb1cd068c4b44622f3fd12a6ad6a150/expr.png\" style=\"display:inline;vertical-align:middle;\" /></a></td></tr>\n",
       "<tr><td>39</td><td>Lambda</td><td>parameter:&nbsp;52<br>body:&nbsp;46<br></td><td><a class=\"ProveItLink\" href=\"../../../../../core_expr_types/__pv_it/common/1527ad383e12f9c6ed6b371c9a7dd1892d80da1b0/expr.ipynb\"><img src=\"../../../../../core_expr_types/__pv_it/common/1527ad383e12f9c6ed6b371c9a7dd1892d80da1b0/expr.png\" style=\"display:inline;vertical-align:middle;\" /></a></td></tr>\n",
       "<tr><td>40</td><td>Variable</td><td></td><td><a class=\"ProveItLink\" href=\"../../../../../__pv_it/common/ae955345c83abf786c3aff8681cd5465beae262d0/expr.ipynb\"><img src=\"../../../../../__pv_it/common/ae955345c83abf786c3aff8681cd5465beae262d0/expr.png\" style=\"display:inline;vertical-align:middle;\" /></a></td></tr>\n",
       "<tr><td>41</td><td>Variable</td><td></td><td><a class=\"ProveItLink\" href=\"../../../../../__pv_it/common/195236b98c6c564a75b5dbada74b173bc52d5c3e0/expr.ipynb\"><img src=\"../../../../../__pv_it/common/195236b98c6c564a75b5dbada74b173bc52d5c3e0/expr.png\" style=\"display:inline;vertical-align:middle;\" /></a></td></tr>\n",
       "<tr><td>42</td><td>ExprTuple</td><td>47</td><td><a class=\"ProveItLink\" href=\"../18f7318b68e45ff8356043b6e71619fa8450fb200/expr.ipynb\"><img src=\"../18f7318b68e45ff8356043b6e71619fa8450fb200/expr.png\" style=\"display:inline;vertical-align:middle;\" /></a></td></tr>\n",
       "<tr><td>43</td><td>Lambda</td><td>parameter:&nbsp;52<br>body:&nbsp;48<br></td><td><a class=\"ProveItLink\" href=\"../../../../../core_expr_types/__pv_it/common/89a29b5b02ce6c37577f6352274a3d503dcdde3e0/expr.ipynb\"><img src=\"../../../../../core_expr_types/__pv_it/common/89a29b5b02ce6c37577f6352274a3d503dcdde3e0/expr.png\" style=\"display:inline;vertical-align:middle;\" /></a></td></tr>\n",
       "<tr><td>44</td><td>Literal</td><td></td><td><a class=\"ProveItLink\" href=\"../../../../numerals/__pv_it/common/682157d4892d216d9e5626ed533aff9b56b9506e0/expr.ipynb\"><img src=\"../../../../numerals/__pv_it/common/682157d4892d216d9e5626ed533aff9b56b9506e0/expr.png\" style=\"display:inline;vertical-align:middle;\" /></a></td></tr>\n",
       "<tr><td>45</td><td>Variable</td><td></td><td><a class=\"ProveItLink\" href=\"../../../../../__pv_it/common/63b7c64bf9ec7a04ecc396c7a1670f3f12fb59490/expr.ipynb\"><img src=\"../../../../../__pv_it/common/63b7c64bf9ec7a04ecc396c7a1670f3f12fb59490/expr.png\" style=\"display:inline;vertical-align:middle;\" /></a></td></tr>\n",
       "<tr><td>46</td><td>IndexedVar</td><td>variable:&nbsp;49<br>index:&nbsp;52<br></td><td><a class=\"ProveItLink\" href=\"../../../../../core_expr_types/__pv_it/common/3a62c13e156d62d52fe585fa37cc2172fcf685260/expr.ipynb\"><img src=\"../../../../../core_expr_types/__pv_it/common/3a62c13e156d62d52fe585fa37cc2172fcf685260/expr.png\" style=\"display:inline;vertical-align:middle;\" /></a></td></tr>\n",
       "<tr><td>47</td><td>Variable</td><td></td><td><a class=\"ProveItLink\" href=\"../9a18d67b443cf8d92289c655ed91ec78766170a90/expr.ipynb\"><img src=\"../9a18d67b443cf8d92289c655ed91ec78766170a90/expr.png\" style=\"display:inline;vertical-align:middle;\" /></a></td></tr>\n",
       "<tr><td>48</td><td>IndexedVar</td><td>variable:&nbsp;50<br>index:&nbsp;52<br></td><td><a class=\"ProveItLink\" href=\"../../../../../core_expr_types/__pv_it/common/8ffbefe913f7c934b2e3a2a12315d5900822d9d00/expr.ipynb\"><img src=\"../../../../../core_expr_types/__pv_it/common/8ffbefe913f7c934b2e3a2a12315d5900822d9d00/expr.png\" style=\"display:inline;vertical-align:middle;\" /></a></td></tr>\n",
       "<tr><td>49</td><td>Variable</td><td></td><td><a class=\"ProveItLink\" href=\"../../../../../__pv_it/common/c06c606ec12678c58933ac85412ecadc2ae28be60/expr.ipynb\"><img src=\"../../../../../__pv_it/common/c06c606ec12678c58933ac85412ecadc2ae28be60/expr.png\" style=\"display:inline;vertical-align:middle;\" /></a></td></tr>\n",
       "<tr><td>50</td><td>Variable</td><td></td><td><a class=\"ProveItLink\" href=\"../../../../../__pv_it/common/ceef4280a2f1cc604b455b54e735507244cc62cd0/expr.ipynb\"><img src=\"../../../../../__pv_it/common/ceef4280a2f1cc604b455b54e735507244cc62cd0/expr.png\" style=\"display:inline;vertical-align:middle;\" /></a></td></tr>\n",
       "<tr><td>51</td><td>ExprTuple</td><td>52</td><td><a class=\"ProveItLink\" href=\"../../../../../core_expr_types/__pv_it/common/4b0dd6be36d76552eda6a95d5b4a27f5a5b62f900/expr.ipynb\"><img src=\"../../../../../core_expr_types/__pv_it/common/4b0dd6be36d76552eda6a95d5b4a27f5a5b62f900/expr.png\" style=\"display:inline;vertical-align:middle;\" /></a></td></tr>\n",
       "<tr><td>52</td><td>Variable</td><td></td><td><a class=\"ProveItLink\" href=\"../../../../../core_expr_types/__pv_it/common/006c465e50948aa2b52285e2de47974f741255cc0/expr.ipynb\"><img src=\"../../../../../core_expr_types/__pv_it/common/006c465e50948aa2b52285e2de47974f741255cc0/expr.png\" style=\"display:inline;vertical-align:middle;\" /></a></td></tr>\n",
       "</table>\n"
      ],
      "text/plain": [
       "0. ((b_{1}, b_{2}, ..., b_{j}) -> {(a_{1} *  a_{2} *  ... *  a_{i} * |b_{1} +  b_{2} +  ... +  b_{j}|* c_{1} *  c_{2} *  ... *  c_{k}) =  \\\\ |(a_{1} *  a_{2} *  ... *  a_{i} * b_{1}* c_{1} *  c_{2} *  ... *  c_{k}) +  (a_{1} *  a_{2} *  ... *  a_{i} * b_{2}* c_{1} *  c_{2} *  ... *  c_{k}) +  ... +  (a_{1} *  a_{2} *  ... *  a_{i} * b_{j}* c_{1} *  c_{2} *  ... *  c_{k})| if (b_{1} in Complex) and  (b_{2} in Complex) and  ... and  (b_{j} in Complex).)\n",
       "   core type: ExprTuple\n",
       "   sub-expressions: 1\n",
       "1. (b_{1}, b_{2}, ..., b_{j}) -> {(a_{1} *  a_{2} *  ... *  a_{i} * |b_{1} +  b_{2} +  ... +  b_{j}|* c_{1} *  c_{2} *  ... *  c_{k}) =  \\\\ |(a_{1} *  a_{2} *  ... *  a_{i} * b_{1}* c_{1} *  c_{2} *  ... *  c_{k}) +  (a_{1} *  a_{2} *  ... *  a_{i} * b_{2}* c_{1} *  c_{2} *  ... *  c_{k}) +  ... +  (a_{1} *  a_{2} *  ... *  a_{i} * b_{j}* c_{1} *  c_{2} *  ... *  c_{k})| if (b_{1} in Complex) and  (b_{2} in Complex) and  ... and  (b_{j} in Complex).\n",
       "   core type: Lambda\n",
       "   parameters: 27\\n   body: 2\n",
       "2. {(a_{1} *  a_{2} *  ... *  a_{i} * |b_{1} +  b_{2} +  ... +  b_{j}|* c_{1} *  c_{2} *  ... *  c_{k}) =  \\\\ |(a_{1} *  a_{2} *  ... *  a_{i} * b_{1}* c_{1} *  c_{2} *  ... *  c_{k}) +  (a_{1} *  a_{2} *  ... *  a_{i} * b_{2}* c_{1} *  c_{2} *  ... *  c_{k}) +  ... +  (a_{1} *  a_{2} *  ... *  a_{i} * b_{j}* c_{1} *  c_{2} *  ... *  c_{k})| if (b_{1} in Complex) and  (b_{2} in Complex) and  ... and  (b_{j} in Complex).\n",
       "   core type: Conditional\n",
       "   value: 3\n",
       "   condition: 4\n",
       "3. (a_{1} *  a_{2} *  ... *  a_{i} * |b_{1} +  b_{2} +  ... +  b_{j}|* c_{1} *  c_{2} *  ... *  c_{k}) =  \\\\ |(a_{1} *  a_{2} *  ... *  a_{i} * b_{1}* c_{1} *  c_{2} *  ... *  c_{k}) +  (a_{1} *  a_{2} *  ... *  a_{i} * b_{2}* c_{1} *  c_{2} *  ... *  c_{k}) +  ... +  (a_{1} *  a_{2} *  ... *  a_{i} * b_{j}* c_{1} *  c_{2} *  ... *  c_{k})|\n",
       "   core type: Operation\n",
       "   operator: 5\n",
       "   operands: 6\n",
       "4. (b_{1} in Complex) and  (b_{2} in Complex) and  ... and  (b_{j} in Complex)\n",
       "   core type: Operation\n",
       "   operator: 7\n",
       "   operands: 8\n",
       "5. =\n",
       "   core type: Literal\n",
       "   sub-expressions: \n",
       "6. (a_{1} *  a_{2} *  ... *  a_{i} * |b_{1} +  b_{2} +  ... +  b_{j}|* c_{1} *  c_{2} *  ... *  c_{k}, |(a_{1} *  a_{2} *  ... *  a_{i} * b_{1}* c_{1} *  c_{2} *  ... *  c_{k}) +  (a_{1} *  a_{2} *  ... *  a_{i} * b_{2}* c_{1} *  c_{2} *  ... *  c_{k}) +  ... +  (a_{1} *  a_{2} *  ... *  a_{i} * b_{j}* c_{1} *  c_{2} *  ... *  c_{k})|)\n",
       "   core type: ExprTuple\n",
       "   sub-expressions: 9, 10\n",
       "7. and\n",
       "   core type: Literal\n",
       "   sub-expressions: \n",
       "8. ((b_{1} in Complex), (b_{2} in Complex), ..., (b_{j} in Complex))\n",
       "   core type: ExprTuple\n",
       "   sub-expressions: 11\n",
       "9. a_{1} *  a_{2} *  ... *  a_{i} * |b_{1} +  b_{2} +  ... +  b_{j}|* c_{1} *  c_{2} *  ... *  c_{k}\n",
       "   core type: Operation\n",
       "   operator: 33\n",
       "   operands: 12\n",
       "10. |(a_{1} *  a_{2} *  ... *  a_{i} * b_{1}* c_{1} *  c_{2} *  ... *  c_{k}) +  (a_{1} *  a_{2} *  ... *  a_{i} * b_{2}* c_{1} *  c_{2} *  ... *  c_{k}) +  ... +  (a_{1} *  a_{2} *  ... *  a_{i} * b_{j}* c_{1} *  c_{2} *  ... *  c_{k})|\n",
       "    core type: Operation\n",
       "    operator: 18\n",
       "    operand: 16\n",
       "11. (b_{1} in Complex), (b_{2} in Complex), ..., (b_{j} in Complex)\n",
       "    core type: ExprRange\n",
       "    lambda_map: 14\n",
       "    start_index: 44\n",
       "    end_index: 32\n",
       "12. (a_{1}, a_{2}, ..., a_{i}, |b_{1} +  b_{2} +  ... +  b_{j}|,c_{1}, c_{2}, ..., c_{k})\n",
       "    core type: ExprTuple\n",
       "    sub-expressions: 36, 15, 38\n",
       "13. ((a_{1} *  a_{2} *  ... *  a_{i} * b_{1}* c_{1} *  c_{2} *  ... *  c_{k}) +  (a_{1} *  a_{2} *  ... *  a_{i} * b_{2}* c_{1} *  c_{2} *  ... *  c_{k}) +  ... +  (a_{1} *  a_{2} *  ... *  a_{i} * b_{j}* c_{1} *  c_{2} *  ... *  c_{k}))\n",
       "    core type: ExprTuple\n",
       "    sub-expressions: 16\n",
       "14. _a -> (b_{_a} in Complex)\n",
       "    core type: Lambda\n",
       "    parameter: 52\n",
       "    body: 17\n",
       "15. |b_{1} +  b_{2} +  ... +  b_{j}|\n",
       "    core type: Operation\n",
       "    operator: 18\n",
       "    operand: 23\n",
       "16. (a_{1} *  a_{2} *  ... *  a_{i} * b_{1}* c_{1} *  c_{2} *  ... *  c_{k}) +  (a_{1} *  a_{2} *  ... *  a_{i} * b_{2}* c_{1} *  c_{2} *  ... *  c_{k}) +  ... +  (a_{1} *  a_{2} *  ... *  a_{i} * b_{j}* c_{1} *  c_{2} *  ... *  c_{k})\n",
       "    core type: Operation\n",
       "    operator: 26\n",
       "    operands: 20\n",
       "17. b_{_a} in Complex\n",
       "    core type: Operation\n",
       "    operator: 21\n",
       "    operands: 22\n",
       "18. Abs\n",
       "    core type: Literal\n",
       "    sub-expressions: \n",
       "19. (b_{1} +  b_{2} +  ... +  b_{j})\n",
       "    core type: ExprTuple\n",
       "    sub-expressions: 23\n",
       "20. ((a_{1} *  a_{2} *  ... *  a_{i} * b_{1}* c_{1} *  c_{2} *  ... *  c_{k}), (a_{1} *  a_{2} *  ... *  a_{i} * b_{2}* c_{1} *  c_{2} *  ... *  c_{k}), ..., (a_{1} *  a_{2} *  ... *  a_{i} * b_{j}* c_{1} *  c_{2} *  ... *  c_{k}))\n",
       "    core type: ExprTuple\n",
       "    sub-expressions: 24\n",
       "21. in\n",
       "    core type: Literal\n",
       "    sub-expressions: \n",
       "22. (b_{_a}, Complex)\n",
       "    core type: ExprTuple\n",
       "    sub-expressions: 35, 25\n",
       "23. b_{1} +  b_{2} +  ... +  b_{j}\n",
       "    core type: Operation\n",
       "    operator: 26\n",
       "    operands: 27\n",
       "24. (a_{1} *  a_{2} *  ... *  a_{i} * b_{1}* c_{1} *  c_{2} *  ... *  c_{k}), (a_{1} *  a_{2} *  ... *  a_{i} * b_{2}* c_{1} *  c_{2} *  ... *  c_{k}), ..., (a_{1} *  a_{2} *  ... *  a_{i} * b_{j}* c_{1} *  c_{2} *  ... *  c_{k})\n",
       "    core type: ExprRange\n",
       "    lambda_map: 28\n",
       "    start_index: 44\n",
       "    end_index: 32\n",
       "25. Complex\n",
       "    core type: Literal\n",
       "    sub-expressions: \n",
       "26. +\n",
       "    core type: Literal\n",
       "    sub-expressions: \n",
       "27. (b_{1}, b_{2}, ..., b_{j})\n",
       "    core type: ExprTuple\n",
       "    sub-expressions: 29\n",
       "28. _b -> (a_{1} *  a_{2} *  ... *  a_{i} * b_{_b}* c_{1} *  c_{2} *  ... *  c_{k})\n",
       "    core type: Lambda\n",
       "    parameter: 47\n",
       "    body: 30\n",
       "29. b_{1}, b_{2}, ..., b_{j}\n",
       "    core type: ExprRange\n",
       "    lambda_map: 31\n",
       "    start_index: 44\n",
       "    end_index: 32\n",
       "30. a_{1} *  a_{2} *  ... *  a_{i} * b_{_b}* c_{1} *  c_{2} *  ... *  c_{k}\n",
       "    core type: Operation\n",
       "    operator: 33\n",
       "    operands: 34\n",
       "31. _a -> b_{_a}\n",
       "    core type: Lambda\n",
       "    parameter: 52\n",
       "    body: 35\n",
       "32. j\n",
       "    core type: Variable\n",
       "    sub-expressions: \n",
       "33. *\n",
       "    core type: Literal\n",
       "    sub-expressions: \n",
       "34. (a_{1}, a_{2}, ..., a_{i}, b_{_b},c_{1}, c_{2}, ..., c_{k})\n",
       "    core type: ExprTuple\n",
       "    sub-expressions: 36, 37, 38\n",
       "35. b_{_a}\n",
       "    core type: IndexedVar\n",
       "variable: 41\n",
       "index: 52\n",
       "36. a_{1}, a_{2}, ..., a_{i}\n",
       "    core type: ExprRange\n",
       "    lambda_map: 39\n",
       "    start_index: 44\n",
       "    end_index: 40\n",
       "37. b_{_b}\n",
       "    core type: IndexedVar\n",
       "variable: 41\n",
       "index: 47\n",
       "38. c_{1}, c_{2}, ..., c_{k}\n",
       "    core type: ExprRange\n",
       "    lambda_map: 43\n",
       "    start_index: 44\n",
       "    end_index: 45\n",
       "39. _a -> a_{_a}\n",
       "    core type: Lambda\n",
       "    parameter: 52\n",
       "    body: 46\n",
       "40. i\n",
       "    core type: Variable\n",
       "    sub-expressions: \n",
       "41. b\n",
       "    core type: Variable\n",
       "    sub-expressions: \n",
       "42. (_b)\n",
       "    core type: ExprTuple\n",
       "    sub-expressions: 47\n",
       "43. _a -> c_{_a}\n",
       "    core type: Lambda\n",
       "    parameter: 52\n",
       "    body: 48\n",
       "44. 1\n",
       "    core type: Literal\n",
       "    sub-expressions: \n",
       "45. k\n",
       "    core type: Variable\n",
       "    sub-expressions: \n",
       "46. a_{_a}\n",
       "    core type: IndexedVar\n",
       "variable: 49\n",
       "index: 52\n",
       "47. _b\n",
       "    core type: Variable\n",
       "    sub-expressions: \n",
       "48. c_{_a}\n",
       "    core type: IndexedVar\n",
       "variable: 50\n",
       "index: 52\n",
       "49. a\n",
       "    core type: Variable\n",
       "    sub-expressions: \n",
       "50. c\n",
       "    core type: Variable\n",
       "    sub-expressions: \n",
       "51. (_a)\n",
       "    core type: ExprTuple\n",
       "    sub-expressions: 52\n",
       "52. _a\n",
       "    core type: Variable\n",
       "    sub-expressions: "
      ]
     },
     "metadata": {},
     "output_type": "display_data"
    }
   ],
   "source": [
    "# display the expression information\n",
    "stored_expr.expr_info()"
   ]
  },
  {
   "cell_type": "code",
   "execution_count": null,
   "metadata": {},
   "outputs": [],
   "source": []
  }
 ],
 "metadata": {
  "kernelspec": {
   "display_name": "Python 3",
   "language": "python",
   "name": "python3"
  }
 },
 "nbformat": 4,
 "nbformat_minor": 0
}