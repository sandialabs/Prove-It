{
 "cells": [
  {
   "cell_type": "markdown",
   "metadata": {},
   "source": [
    "Expression of type <a class=\"ProveItLink\" href=\"../../../../../../../doc/html/api/proveit.logic.Forall.html\">Forall</a>\n",
    "=======================\n",
    "# from the theory of <a class=\"ProveItLink\" href=\"../../../_theory_nbs_/theory.ipynb\">proveit.numbers.multiplication</a>"
   ]
  },
  {
   "cell_type": "code",
   "execution_count": 1,
   "metadata": {},
   "outputs": [],
   "source": [
    "import proveit\n",
    "# Automation is not needed when building an expression:\n",
    "proveit.defaults.automation = False # This will speed things up.\n",
    "proveit.defaults.inline_pngs = False # Makes files smaller.\n",
    "%load_expr # Load the stored expression as 'stored_expr'\n",
    "# import Expression classes needed to build the expression\n",
    "from proveit import n\n",
    "from proveit.core_expr_types import a_1_to_n\n",
    "from proveit.logic import Forall, InSet\n",
    "from proveit.numbers import Mult, Natural, RealNonZero"
   ]
  },
  {
   "cell_type": "code",
   "execution_count": 2,
   "metadata": {},
   "outputs": [
    {
     "data": {
      "text/html": [
       "<strong id=\"expr\">expr:</strong> <a class=\"ProveItLink\" href=\"expr.ipynb\"><img src=\"expr.png\" style=\"display:inline;vertical-align:middle;\" /></a><br>"
      ],
      "text/plain": [
       "<IPython.core.display.HTML object>"
      ]
     },
     "metadata": {},
     "output_type": "display_data"
    }
   ],
   "source": [
    "# build up the expression from sub-expressions\n",
    "expr = Forall(instance_param_or_params = [n], instance_expr = Forall(instance_param_or_params = [a_1_to_n], instance_expr = InSet(Mult(a_1_to_n), RealNonZero), domain = RealNonZero), domain = Natural)"
   ]
  },
  {
   "cell_type": "code",
   "execution_count": 3,
   "metadata": {},
   "outputs": [
    {
     "name": "stdout",
     "output_type": "stream",
     "text": [
      "Passed sanity check: expr matches stored_expr\n"
     ]
    }
   ],
   "source": [
    "# check that the built expression is the same as the stored expression\n",
    "assert expr == stored_expr\n",
    "assert expr._style_id == stored_expr._style_id\n",
    "print(\"Passed sanity check: expr matches stored_expr\")"
   ]
  },
  {
   "cell_type": "code",
   "execution_count": 4,
   "metadata": {},
   "outputs": [
    {
     "name": "stdout",
     "output_type": "stream",
     "text": [
      "\\forall_{n \\in \\mathbb{N}}~\\left[\\forall_{a_{1}, a_{2}, \\ldots, a_{n} \\in \\mathbb{R}^{\\neq 0}}~\\left(\\left(a_{1} \\cdot  a_{2} \\cdot  \\ldots \\cdot  a_{n}\\right) \\in \\mathbb{R}^{\\neq 0}\\right)\\right]\n"
     ]
    }
   ],
   "source": [
    "# Show the LaTeX representation of the expression for convenience if you need it.\n",
    "print(stored_expr.latex())"
   ]
  },
  {
   "cell_type": "code",
   "execution_count": 5,
   "metadata": {},
   "outputs": [
    {
     "data": {
      "text/html": [
       "<table>\n",
       "<tr><th>name</th><th>description</th><th>default</th><th>current value</th><th>related methods</th></tr><tr><td>with_wrapping</td><td>If 'True', wrap the Expression after the parameters</td><td>None</td><td>None/False</td><td>('with_wrapping',)</td></tr>\n",
       "<tr><td>condition_wrapping</td><td>Wrap 'before' or 'after' the condition (or None).</td><td>None</td><td>None/False</td><td>('with_wrap_after_condition', 'with_wrap_before_condition')</td></tr>\n",
       "<tr><td>wrap_params</td><td>If 'True', wraps every two parameters AND wraps the Expression after the parameters</td><td>None</td><td>None/False</td><td>('with_params',)</td></tr>\n",
       "<tr><td>justification</td><td>justify to the 'left', 'center', or 'right' in the array cells</td><td>center</td><td>center</td><td>('with_justification',)</td></tr>\n",
       "</table>\n"
      ],
      "text/plain": [
       "style name: with_wrapping\n",
       "description: If 'True', wrap the Expression after the parameters\n",
       "default: None\n",
       "current value: None/False\n",
       "related methods: ('with_wrapping',)\n",
       "style name: condition_wrapping\n",
       "description: Wrap 'before' or 'after' the condition (or None).\n",
       "default: None\n",
       "current value: None/False\n",
       "related methods: ('with_wrap_after_condition', 'with_wrap_before_condition')\n",
       "style name: wrap_params\n",
       "description: If 'True', wraps every two parameters AND wraps the Expression after the parameters\n",
       "default: None\n",
       "current value: None/False\n",
       "related methods: ('with_params',)\n",
       "style name: justification\n",
       "description: justify to the 'left', 'center', or 'right' in the array cells\n",
       "default: center\n",
       "current value: center\n",
       "related methods: ('with_justification',)"
      ]
     },
     "metadata": {},
     "output_type": "display_data"
    }
   ],
   "source": [
    "stored_expr.style_options()"
   ]
  },
  {
   "cell_type": "code",
   "execution_count": 6,
   "metadata": {},
   "outputs": [
    {
     "data": {
      "text/html": [
       "<table><tr><th>&nbsp;</th><th>core type</th><th>sub-expressions</th><th>expression</th></tr>\n",
       "<tr><td>0</td><td>Operation</td><td>operator:&nbsp;7<br>operand:&nbsp;2<br></td><td><a class=\"ProveItLink\" href=\"expr.ipynb\"><img src=\"expr.png\" style=\"display:inline;vertical-align:middle;\" /></a></td></tr>\n",
       "<tr><td>1</td><td>ExprTuple</td><td>2</td><td><a class=\"ProveItLink\" href=\"../a7536937ce7725abb670bb09f69455ba2c5e1f920/expr.ipynb\"><img src=\"../a7536937ce7725abb670bb09f69455ba2c5e1f920/expr.png\" style=\"display:inline;vertical-align:middle;\" /></a></td></tr>\n",
       "<tr><td>2</td><td>Lambda</td><td>parameter:&nbsp;27<br>body:&nbsp;4<br></td><td><a class=\"ProveItLink\" href=\"../9ebe147b77bba1a4dec911149e2feb472c49e3470/expr.ipynb\"><img src=\"../9ebe147b77bba1a4dec911149e2feb472c49e3470/expr.png\" style=\"display:inline;vertical-align:middle;\" /></a></td></tr>\n",
       "<tr><td>3</td><td>ExprTuple</td><td>27</td><td><a class=\"ProveItLink\" href=\"../ca565dff2751ea9a3b48fe855133b9e0c2eca83f0/expr.ipynb\"><img src=\"../ca565dff2751ea9a3b48fe855133b9e0c2eca83f0/expr.png\" style=\"display:inline;vertical-align:middle;\" /></a></td></tr>\n",
       "<tr><td>4</td><td>Conditional</td><td>value:&nbsp;5<br>condition:&nbsp;6<br></td><td><a class=\"ProveItLink\" href=\"../65fbae8098ca711a717ff7cc6d336be4e43f6f300/expr.ipynb\"><img src=\"../65fbae8098ca711a717ff7cc6d336be4e43f6f300/expr.png\" style=\"display:inline;vertical-align:middle;\" /></a></td></tr>\n",
       "<tr><td>5</td><td>Operation</td><td>operator:&nbsp;7<br>operand:&nbsp;10<br></td><td><a class=\"ProveItLink\" href=\"../697ca7a7c8e3e961a92d3a5ce3e2b14e5706d7440/expr.ipynb\"><img src=\"../697ca7a7c8e3e961a92d3a5ce3e2b14e5706d7440/expr.png\" style=\"display:inline;vertical-align:middle;\" /></a></td></tr>\n",
       "<tr><td>6</td><td>Operation</td><td>operator:&nbsp;28<br>operands:&nbsp;9<br></td><td><a class=\"ProveItLink\" href=\"../a4c62904f3a87ce48a16b43526806be1316ce7cc0/expr.ipynb\"><img src=\"../a4c62904f3a87ce48a16b43526806be1316ce7cc0/expr.png\" style=\"display:inline;vertical-align:middle;\" /></a></td></tr>\n",
       "<tr><td>7</td><td>Literal</td><td></td><td><a class=\"ProveItLink\" href=\"../../../../../logic/booleans/quantification/universality/__pv_it/common/083d2baa0b8ecab1d230f9ec29a15aa1355809fb0/expr.ipynb\"><img src=\"../../../../../logic/booleans/quantification/universality/__pv_it/common/083d2baa0b8ecab1d230f9ec29a15aa1355809fb0/expr.png\" style=\"display:inline;vertical-align:middle;\" /></a></td></tr>\n",
       "<tr><td>8</td><td>ExprTuple</td><td>10</td><td><a class=\"ProveItLink\" href=\"../ff110bc13ea23985bcd3fb885ffaa54920c8a4350/expr.ipynb\"><img src=\"../ff110bc13ea23985bcd3fb885ffaa54920c8a4350/expr.png\" style=\"display:inline;vertical-align:middle;\" /></a></td></tr>\n",
       "<tr><td>9</td><td>ExprTuple</td><td>27, 11</td><td><a class=\"ProveItLink\" href=\"../ecc3c58a9897ba541ec19be82e54ee986957c4200/expr.ipynb\"><img src=\"../ecc3c58a9897ba541ec19be82e54ee986957c4200/expr.png\" style=\"display:inline;vertical-align:middle;\" /></a></td></tr>\n",
       "<tr><td>10</td><td>Lambda</td><td>parameters:&nbsp;21<br>body:&nbsp;12<br></td><td><a class=\"ProveItLink\" href=\"../ec2ce7437c3f4f97807c01a2d678b0f64e0349890/expr.ipynb\"><img src=\"../ec2ce7437c3f4f97807c01a2d678b0f64e0349890/expr.png\" style=\"display:inline;vertical-align:middle;\" /></a></td></tr>\n",
       "<tr><td>11</td><td>Literal</td><td></td><td><a class=\"ProveItLink\" href=\"../../../../number_sets/natural_numbers/__pv_it/common/8b7c321957f52ed3b05b36af612eeae4fa4783bc0/expr.ipynb\"><img src=\"../../../../number_sets/natural_numbers/__pv_it/common/8b7c321957f52ed3b05b36af612eeae4fa4783bc0/expr.png\" style=\"display:inline;vertical-align:middle;\" /></a></td></tr>\n",
       "<tr><td>12</td><td>Conditional</td><td>value:&nbsp;13<br>condition:&nbsp;14<br></td><td><a class=\"ProveItLink\" href=\"../54bfabbb62ae13669393e113e131a1511d38ac720/expr.ipynb\"><img src=\"../54bfabbb62ae13669393e113e131a1511d38ac720/expr.png\" style=\"display:inline;vertical-align:middle;\" /></a></td></tr>\n",
       "<tr><td>13</td><td>Operation</td><td>operator:&nbsp;28<br>operands:&nbsp;15<br></td><td><a class=\"ProveItLink\" href=\"../c233b752a89b5f2ee6a3272c683317216e79110c0/expr.ipynb\"><img src=\"../c233b752a89b5f2ee6a3272c683317216e79110c0/expr.png\" style=\"display:inline;vertical-align:middle;\" /></a></td></tr>\n",
       "<tr><td>14</td><td>Operation</td><td>operator:&nbsp;16<br>operands:&nbsp;17<br></td><td><a class=\"ProveItLink\" href=\"../45cac4edba88d1fc190be5b697ce1c6ddd570bde0/expr.ipynb\"><img src=\"../45cac4edba88d1fc190be5b697ce1c6ddd570bde0/expr.png\" style=\"display:inline;vertical-align:middle;\" /></a></td></tr>\n",
       "<tr><td>15</td><td>ExprTuple</td><td>18, 31</td><td><a class=\"ProveItLink\" href=\"../5943177864c8ac9f4533da2d3b5717605db711ad0/expr.ipynb\"><img src=\"../5943177864c8ac9f4533da2d3b5717605db711ad0/expr.png\" style=\"display:inline;vertical-align:middle;\" /></a></td></tr>\n",
       "<tr><td>16</td><td>Literal</td><td></td><td><a class=\"ProveItLink\" href=\"../../../../../logic/booleans/conjunction/__pv_it/common/42118ff318bd65d98b1393f64ce7c2269feef76e0/expr.ipynb\"><img src=\"../../../../../logic/booleans/conjunction/__pv_it/common/42118ff318bd65d98b1393f64ce7c2269feef76e0/expr.png\" style=\"display:inline;vertical-align:middle;\" /></a></td></tr>\n",
       "<tr><td>17</td><td>ExprTuple</td><td>19</td><td><a class=\"ProveItLink\" href=\"../ac92e978a68de97bfbfd1ba3356108f84feebd7d0/expr.ipynb\"><img src=\"../ac92e978a68de97bfbfd1ba3356108f84feebd7d0/expr.png\" style=\"display:inline;vertical-align:middle;\" /></a></td></tr>\n",
       "<tr><td>18</td><td>Operation</td><td>operator:&nbsp;20<br>operands:&nbsp;21<br></td><td><a class=\"ProveItLink\" href=\"../a2b6912493c4d5eb73f39fef02f757fe50209a820/expr.ipynb\"><img src=\"../a2b6912493c4d5eb73f39fef02f757fe50209a820/expr.png\" style=\"display:inline;vertical-align:middle;\" /></a></td></tr>\n",
       "<tr><td>19</td><td>ExprRange</td><td>lambda_map:&nbsp;22<br>start_index:&nbsp;26<br>end_index:&nbsp;27<br></td><td><a class=\"ProveItLink\" href=\"../65756bf39017f8d1c7f8108338f657e92a0c718f0/expr.ipynb\"><img src=\"../65756bf39017f8d1c7f8108338f657e92a0c718f0/expr.png\" style=\"display:inline;vertical-align:middle;\" /></a></td></tr>\n",
       "<tr><td>20</td><td>Literal</td><td></td><td><a class=\"ProveItLink\" href=\"../../common/ed719cef37831779c16481533a4d380a2f95ab270/expr.ipynb\"><img src=\"../../common/ed719cef37831779c16481533a4d380a2f95ab270/expr.png\" style=\"display:inline;vertical-align:middle;\" /></a></td></tr>\n",
       "<tr><td>21</td><td>ExprTuple</td><td>23</td><td><a class=\"ProveItLink\" href=\"../7b420e2a84f53537bd285f3baa95d83c0ea120860/expr.ipynb\"><img src=\"../7b420e2a84f53537bd285f3baa95d83c0ea120860/expr.png\" style=\"display:inline;vertical-align:middle;\" /></a></td></tr>\n",
       "<tr><td>22</td><td>Lambda</td><td>parameter:&nbsp;34<br>body:&nbsp;24<br></td><td><a class=\"ProveItLink\" href=\"../b62b0c16b467d03a6f9345c3e5268765009d39990/expr.ipynb\"><img src=\"../b62b0c16b467d03a6f9345c3e5268765009d39990/expr.png\" style=\"display:inline;vertical-align:middle;\" /></a></td></tr>\n",
       "<tr><td>23</td><td>ExprRange</td><td>lambda_map:&nbsp;25<br>start_index:&nbsp;26<br>end_index:&nbsp;27<br></td><td><a class=\"ProveItLink\" href=\"../../../../../core_expr_types/__pv_it/common/7ee2dd28754734e63298daa7955625a3d904698e0/expr.ipynb\"><img src=\"../../../../../core_expr_types/__pv_it/common/7ee2dd28754734e63298daa7955625a3d904698e0/expr.png\" style=\"display:inline;vertical-align:middle;\" /></a></td></tr>\n",
       "<tr><td>24</td><td>Operation</td><td>operator:&nbsp;28<br>operands:&nbsp;29<br></td><td><a class=\"ProveItLink\" href=\"../020400e048f670e750eac94af4f8f067a6e275270/expr.ipynb\"><img src=\"../020400e048f670e750eac94af4f8f067a6e275270/expr.png\" style=\"display:inline;vertical-align:middle;\" /></a></td></tr>\n",
       "<tr><td>25</td><td>Lambda</td><td>parameter:&nbsp;34<br>body:&nbsp;30<br></td><td><a class=\"ProveItLink\" href=\"../../../../../core_expr_types/__pv_it/common/1527ad383e12f9c6ed6b371c9a7dd1892d80da1b0/expr.ipynb\"><img src=\"../../../../../core_expr_types/__pv_it/common/1527ad383e12f9c6ed6b371c9a7dd1892d80da1b0/expr.png\" style=\"display:inline;vertical-align:middle;\" /></a></td></tr>\n",
       "<tr><td>26</td><td>Literal</td><td></td><td><a class=\"ProveItLink\" href=\"../../../../numerals/__pv_it/common/682157d4892d216d9e5626ed533aff9b56b9506e0/expr.ipynb\"><img src=\"../../../../numerals/__pv_it/common/682157d4892d216d9e5626ed533aff9b56b9506e0/expr.png\" style=\"display:inline;vertical-align:middle;\" /></a></td></tr>\n",
       "<tr><td>27</td><td>Variable</td><td></td><td><a class=\"ProveItLink\" href=\"../../../../../__pv_it/common/8968bb04eb3f7dfa02353397ce929b025bbd79c20/expr.ipynb\"><img src=\"../../../../../__pv_it/common/8968bb04eb3f7dfa02353397ce929b025bbd79c20/expr.png\" style=\"display:inline;vertical-align:middle;\" /></a></td></tr>\n",
       "<tr><td>28</td><td>Literal</td><td></td><td><a class=\"ProveItLink\" href=\"../../../../../logic/sets/membership/__pv_it/common/477487d8796864d23d5810f83761435f25167f690/expr.ipynb\"><img src=\"../../../../../logic/sets/membership/__pv_it/common/477487d8796864d23d5810f83761435f25167f690/expr.png\" style=\"display:inline;vertical-align:middle;\" /></a></td></tr>\n",
       "<tr><td>29</td><td>ExprTuple</td><td>30, 31</td><td><a class=\"ProveItLink\" href=\"../290b3f19e9d0d6f16bafc49698098791f85c9a620/expr.ipynb\"><img src=\"../290b3f19e9d0d6f16bafc49698098791f85c9a620/expr.png\" style=\"display:inline;vertical-align:middle;\" /></a></td></tr>\n",
       "<tr><td>30</td><td>IndexedVar</td><td>variable:&nbsp;32<br>index:&nbsp;34<br></td><td><a class=\"ProveItLink\" href=\"../../../../../core_expr_types/__pv_it/common/3a62c13e156d62d52fe585fa37cc2172fcf685260/expr.ipynb\"><img src=\"../../../../../core_expr_types/__pv_it/common/3a62c13e156d62d52fe585fa37cc2172fcf685260/expr.png\" style=\"display:inline;vertical-align:middle;\" /></a></td></tr>\n",
       "<tr><td>31</td><td>Literal</td><td></td><td><a class=\"ProveItLink\" href=\"../../../../number_sets/real_numbers/__pv_it/common/20bbf1edf92c40729160816f93bf2c7151ba1b200/expr.ipynb\"><img src=\"../../../../number_sets/real_numbers/__pv_it/common/20bbf1edf92c40729160816f93bf2c7151ba1b200/expr.png\" style=\"display:inline;vertical-align:middle;\" /></a></td></tr>\n",
       "<tr><td>32</td><td>Variable</td><td></td><td><a class=\"ProveItLink\" href=\"../../../../../__pv_it/common/c06c606ec12678c58933ac85412ecadc2ae28be60/expr.ipynb\"><img src=\"../../../../../__pv_it/common/c06c606ec12678c58933ac85412ecadc2ae28be60/expr.png\" style=\"display:inline;vertical-align:middle;\" /></a></td></tr>\n",
       "<tr><td>33</td><td>ExprTuple</td><td>34</td><td><a class=\"ProveItLink\" href=\"../../../../../core_expr_types/__pv_it/common/4b0dd6be36d76552eda6a95d5b4a27f5a5b62f900/expr.ipynb\"><img src=\"../../../../../core_expr_types/__pv_it/common/4b0dd6be36d76552eda6a95d5b4a27f5a5b62f900/expr.png\" style=\"display:inline;vertical-align:middle;\" /></a></td></tr>\n",
       "<tr><td>34</td><td>Variable</td><td></td><td><a class=\"ProveItLink\" href=\"../../../../../core_expr_types/__pv_it/common/006c465e50948aa2b52285e2de47974f741255cc0/expr.ipynb\"><img src=\"../../../../../core_expr_types/__pv_it/common/006c465e50948aa2b52285e2de47974f741255cc0/expr.png\" style=\"display:inline;vertical-align:middle;\" /></a></td></tr>\n",
       "</table>\n"
      ],
      "text/plain": [
       "0. forall_{n in Natural} [forall_{a_{1}, a_{2}, ..., a_{n} in RealNonZero} ((a_{1} *  a_{2} *  ... *  a_{n}) in RealNonZero)]\n",
       "   core type: Operation\n",
       "   operator: 7\n",
       "   operand: 2\n",
       "1. (n -> {forall_{a_{1}, a_{2}, ..., a_{n} in RealNonZero} ((a_{1} *  a_{2} *  ... *  a_{n}) in RealNonZero) if n in Natural.)\n",
       "   core type: ExprTuple\n",
       "   sub-expressions: 2\n",
       "2. n -> {forall_{a_{1}, a_{2}, ..., a_{n} in RealNonZero} ((a_{1} *  a_{2} *  ... *  a_{n}) in RealNonZero) if n in Natural.\n",
       "   core type: Lambda\n",
       "   parameter: 27\n",
       "   body: 4\n",
       "3. (n)\n",
       "   core type: ExprTuple\n",
       "   sub-expressions: 27\n",
       "4. {forall_{a_{1}, a_{2}, ..., a_{n} in RealNonZero} ((a_{1} *  a_{2} *  ... *  a_{n}) in RealNonZero) if n in Natural.\n",
       "   core type: Conditional\n",
       "   value: 5\n",
       "   condition: 6\n",
       "5. forall_{a_{1}, a_{2}, ..., a_{n} in RealNonZero} ((a_{1} *  a_{2} *  ... *  a_{n}) in RealNonZero)\n",
       "   core type: Operation\n",
       "   operator: 7\n",
       "   operand: 10\n",
       "6. n in Natural\n",
       "   core type: Operation\n",
       "   operator: 28\n",
       "   operands: 9\n",
       "7. forall\n",
       "   core type: Literal\n",
       "   sub-expressions: \n",
       "8. ((a_{1}, a_{2}, ..., a_{n}) -> {(a_{1} *  a_{2} *  ... *  a_{n}) in RealNonZero if (a_{1} in RealNonZero) and  (a_{2} in RealNonZero) and  ... and  (a_{n} in RealNonZero).)\n",
       "   core type: ExprTuple\n",
       "   sub-expressions: 10\n",
       "9. (n, Natural)\n",
       "   core type: ExprTuple\n",
       "   sub-expressions: 27, 11\n",
       "10. (a_{1}, a_{2}, ..., a_{n}) -> {(a_{1} *  a_{2} *  ... *  a_{n}) in RealNonZero if (a_{1} in RealNonZero) and  (a_{2} in RealNonZero) and  ... and  (a_{n} in RealNonZero).\n",
       "    core type: Lambda\n",
       "    parameters: 21\\n    body: 12\n",
       "11. Natural\n",
       "    core type: Literal\n",
       "    sub-expressions: \n",
       "12. {(a_{1} *  a_{2} *  ... *  a_{n}) in RealNonZero if (a_{1} in RealNonZero) and  (a_{2} in RealNonZero) and  ... and  (a_{n} in RealNonZero).\n",
       "    core type: Conditional\n",
       "    value: 13\n",
       "    condition: 14\n",
       "13. (a_{1} *  a_{2} *  ... *  a_{n}) in RealNonZero\n",
       "    core type: Operation\n",
       "    operator: 28\n",
       "    operands: 15\n",
       "14. (a_{1} in RealNonZero) and  (a_{2} in RealNonZero) and  ... and  (a_{n} in RealNonZero)\n",
       "    core type: Operation\n",
       "    operator: 16\n",
       "    operands: 17\n",
       "15. (a_{1} *  a_{2} *  ... *  a_{n}, RealNonZero)\n",
       "    core type: ExprTuple\n",
       "    sub-expressions: 18, 31\n",
       "16. and\n",
       "    core type: Literal\n",
       "    sub-expressions: \n",
       "17. ((a_{1} in RealNonZero), (a_{2} in RealNonZero), ..., (a_{n} in RealNonZero))\n",
       "    core type: ExprTuple\n",
       "    sub-expressions: 19\n",
       "18. a_{1} *  a_{2} *  ... *  a_{n}\n",
       "    core type: Operation\n",
       "    operator: 20\n",
       "    operands: 21\n",
       "19. (a_{1} in RealNonZero), (a_{2} in RealNonZero), ..., (a_{n} in RealNonZero)\n",
       "    core type: ExprRange\n",
       "    lambda_map: 22\n",
       "    start_index: 26\n",
       "    end_index: 27\n",
       "20. *\n",
       "    core type: Literal\n",
       "    sub-expressions: \n",
       "21. (a_{1}, a_{2}, ..., a_{n})\n",
       "    core type: ExprTuple\n",
       "    sub-expressions: 23\n",
       "22. _a -> (a_{_a} in RealNonZero)\n",
       "    core type: Lambda\n",
       "    parameter: 34\n",
       "    body: 24\n",
       "23. a_{1}, a_{2}, ..., a_{n}\n",
       "    core type: ExprRange\n",
       "    lambda_map: 25\n",
       "    start_index: 26\n",
       "    end_index: 27\n",
       "24. a_{_a} in RealNonZero\n",
       "    core type: Operation\n",
       "    operator: 28\n",
       "    operands: 29\n",
       "25. _a -> a_{_a}\n",
       "    core type: Lambda\n",
       "    parameter: 34\n",
       "    body: 30\n",
       "26. 1\n",
       "    core type: Literal\n",
       "    sub-expressions: \n",
       "27. n\n",
       "    core type: Variable\n",
       "    sub-expressions: \n",
       "28. in\n",
       "    core type: Literal\n",
       "    sub-expressions: \n",
       "29. (a_{_a}, RealNonZero)\n",
       "    core type: ExprTuple\n",
       "    sub-expressions: 30, 31\n",
       "30. a_{_a}\n",
       "    core type: IndexedVar\n",
       "variable: 32\n",
       "index: 34\n",
       "31. RealNonZero\n",
       "    core type: Literal\n",
       "    sub-expressions: \n",
       "32. a\n",
       "    core type: Variable\n",
       "    sub-expressions: \n",
       "33. (_a)\n",
       "    core type: ExprTuple\n",
       "    sub-expressions: 34\n",
       "34. _a\n",
       "    core type: Variable\n",
       "    sub-expressions: "
      ]
     },
     "metadata": {},
     "output_type": "display_data"
    }
   ],
   "source": [
    "# display the expression information\n",
    "stored_expr.expr_info()"
   ]
  },
  {
   "cell_type": "code",
   "execution_count": null,
   "metadata": {},
   "outputs": [],
   "source": []
  }
 ],
 "metadata": {
  "kernelspec": {
   "display_name": "Python 3",
   "language": "python",
   "name": "python3"
  }
 },
 "nbformat": 4,
 "nbformat_minor": 0
}