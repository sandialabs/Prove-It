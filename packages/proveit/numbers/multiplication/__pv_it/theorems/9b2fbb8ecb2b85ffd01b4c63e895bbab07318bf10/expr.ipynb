{
 "cells": [
  {
   "cell_type": "markdown",
   "metadata": {},
   "source": [
    "Expression of type <a class=\"ProveItLink\" href=\"../../../../../../../doc/html/api/proveit.logic.Forall.html\">Forall</a>\n",
    "=======================\n",
    "# from the theory of <a class=\"ProveItLink\" href=\"../../../_theory_nbs_/theory.ipynb\">proveit.numbers.multiplication</a>"
   ]
  },
  {
   "cell_type": "code",
   "execution_count": 1,
   "metadata": {},
   "outputs": [],
   "source": [
    "import proveit\n",
    "# Automation is not needed when building an expression:\n",
    "proveit.defaults.automation = False # This will speed things up.\n",
    "proveit.defaults.inline_pngs = False # Makes files smaller.\n",
    "%load_expr # Load the stored expression as 'stored_expr'\n",
    "# import Expression classes needed to build the expression\n",
    "from proveit import x, y\n",
    "from proveit.core_expr_types import a_1_to_i, b_1_to_j\n",
    "from proveit.logic import Forall\n",
    "from proveit.numbers import LessEq, Mult, RealNonNeg"
   ]
  },
  {
   "cell_type": "code",
   "execution_count": 2,
   "metadata": {},
   "outputs": [
    {
     "data": {
      "text/html": [
       "<strong id=\"expr\">expr:</strong> <a class=\"ProveItLink\" href=\"expr.ipynb\"><img src=\"expr.png\" style=\"display:inline;vertical-align:middle;\" /></a><br>"
      ],
      "text/plain": [
       "<IPython.core.display.HTML object>"
      ]
     },
     "metadata": {},
     "output_type": "display_data"
    }
   ],
   "source": [
    "# build up the expression from sub-expressions\n",
    "expr = Forall(instance_param_or_params = [x, y], instance_expr = Forall(instance_param_or_params = [a_1_to_i, b_1_to_j], instance_expr = LessEq(Mult(a_1_to_i, x, b_1_to_j), Mult(a_1_to_i, y, b_1_to_j)), domain = RealNonNeg, condition = LessEq(x, y)))"
   ]
  },
  {
   "cell_type": "code",
   "execution_count": 3,
   "metadata": {},
   "outputs": [
    {
     "name": "stdout",
     "output_type": "stream",
     "text": [
      "Passed sanity check: expr matches stored_expr\n"
     ]
    }
   ],
   "source": [
    "# check that the built expression is the same as the stored expression\n",
    "assert expr == stored_expr\n",
    "assert expr._style_id == stored_expr._style_id\n",
    "print(\"Passed sanity check: expr matches stored_expr\")"
   ]
  },
  {
   "cell_type": "code",
   "execution_count": 4,
   "metadata": {},
   "outputs": [
    {
     "name": "stdout",
     "output_type": "stream",
     "text": [
      "\\forall_{x, y}~\\left[\\forall_{a_{1}, a_{2}, \\ldots, a_{i}, b_{1}, b_{2}, \\ldots, b_{j} \\in \\mathbb{R}^{\\ge 0}~|~x \\leq y}~\\left(\\left(a_{1} \\cdot  a_{2} \\cdot  \\ldots \\cdot  a_{i} \\cdot x\\cdot b_{1} \\cdot  b_{2} \\cdot  \\ldots \\cdot  b_{j}\\right) \\leq \\left(a_{1} \\cdot  a_{2} \\cdot  \\ldots \\cdot  a_{i} \\cdot y\\cdot b_{1} \\cdot  b_{2} \\cdot  \\ldots \\cdot  b_{j}\\right)\\right)\\right]\n"
     ]
    }
   ],
   "source": [
    "# Show the LaTeX representation of the expression for convenience if you need it.\n",
    "print(stored_expr.latex())"
   ]
  },
  {
   "cell_type": "code",
   "execution_count": 5,
   "metadata": {},
   "outputs": [
    {
     "data": {
      "text/html": [
       "<table>\n",
       "<tr><th>name</th><th>description</th><th>default</th><th>current value</th><th>related methods</th></tr><tr><td>with_wrapping</td><td>If 'True', wrap the Expression after the parameters</td><td>None</td><td>None/False</td><td>('with_wrapping',)</td></tr>\n",
       "<tr><td>condition_wrapping</td><td>Wrap 'before' or 'after' the condition (or None).</td><td>None</td><td>None/False</td><td>('with_wrap_after_condition', 'with_wrap_before_condition')</td></tr>\n",
       "<tr><td>wrap_params</td><td>If 'True', wraps every two parameters AND wraps the Expression after the parameters</td><td>None</td><td>None/False</td><td>('with_params',)</td></tr>\n",
       "<tr><td>justification</td><td>justify to the 'left', 'center', or 'right' in the array cells</td><td>center</td><td>center</td><td>('with_justification',)</td></tr>\n",
       "</table>\n"
      ],
      "text/plain": [
       "style name: with_wrapping\n",
       "description: If 'True', wrap the Expression after the parameters\n",
       "default: None\n",
       "current value: None/False\n",
       "related methods: ('with_wrapping',)\n",
       "style name: condition_wrapping\n",
       "description: Wrap 'before' or 'after' the condition (or None).\n",
       "default: None\n",
       "current value: None/False\n",
       "related methods: ('with_wrap_after_condition', 'with_wrap_before_condition')\n",
       "style name: wrap_params\n",
       "description: If 'True', wraps every two parameters AND wraps the Expression after the parameters\n",
       "default: None\n",
       "current value: None/False\n",
       "related methods: ('with_params',)\n",
       "style name: justification\n",
       "description: justify to the 'left', 'center', or 'right' in the array cells\n",
       "default: center\n",
       "current value: center\n",
       "related methods: ('with_justification',)"
      ]
     },
     "metadata": {},
     "output_type": "display_data"
    }
   ],
   "source": [
    "stored_expr.style_options()"
   ]
  },
  {
   "cell_type": "code",
   "execution_count": 6,
   "metadata": {},
   "outputs": [
    {
     "data": {
      "text/html": [
       "<table><tr><th>&nbsp;</th><th>core type</th><th>sub-expressions</th><th>expression</th></tr>\n",
       "<tr><td>0</td><td>Operation</td><td>operator:&nbsp;4<br>operand:&nbsp;2<br></td><td><a class=\"ProveItLink\" href=\"expr.ipynb\"><img src=\"expr.png\" style=\"display:inline;vertical-align:middle;\" /></a></td></tr>\n",
       "<tr><td>1</td><td>ExprTuple</td><td>2</td><td><a class=\"ProveItLink\" href=\"../17d5a1241350cf01478133cc193f991abfd3017b0/expr.ipynb\"><img src=\"../17d5a1241350cf01478133cc193f991abfd3017b0/expr.png\" style=\"display:inline;vertical-align:middle;\" /></a></td></tr>\n",
       "<tr><td>2</td><td>Lambda</td><td>parameters:&nbsp;25<br>body:&nbsp;3<br></td><td><a class=\"ProveItLink\" href=\"../0c9fbe3f8fb062445974f612ff7d16f67083fc000/expr.ipynb\"><img src=\"../0c9fbe3f8fb062445974f612ff7d16f67083fc000/expr.png\" style=\"display:inline;vertical-align:middle;\" /></a></td></tr>\n",
       "<tr><td>3</td><td>Operation</td><td>operator:&nbsp;4<br>operand:&nbsp;6<br></td><td><a class=\"ProveItLink\" href=\"../3e1926863b2db7b05e2a351be30da36877b843050/expr.ipynb\"><img src=\"../3e1926863b2db7b05e2a351be30da36877b843050/expr.png\" style=\"display:inline;vertical-align:middle;\" /></a></td></tr>\n",
       "<tr><td>4</td><td>Literal</td><td></td><td><a class=\"ProveItLink\" href=\"../../../../../logic/booleans/quantification/universality/__pv_it/common/083d2baa0b8ecab1d230f9ec29a15aa1355809fb0/expr.ipynb\"><img src=\"../../../../../logic/booleans/quantification/universality/__pv_it/common/083d2baa0b8ecab1d230f9ec29a15aa1355809fb0/expr.png\" style=\"display:inline;vertical-align:middle;\" /></a></td></tr>\n",
       "<tr><td>5</td><td>ExprTuple</td><td>6</td><td><a class=\"ProveItLink\" href=\"../09facb6e5e66a2ceef450e9a1a75dbb50b0869a50/expr.ipynb\"><img src=\"../09facb6e5e66a2ceef450e9a1a75dbb50b0869a50/expr.png\" style=\"display:inline;vertical-align:middle;\" /></a></td></tr>\n",
       "<tr><td>6</td><td>Lambda</td><td>parameters:&nbsp;7<br>body:&nbsp;8<br></td><td><a class=\"ProveItLink\" href=\"../f70ef472c8ed05009435a1d3187bfd236fa0a8820/expr.ipynb\"><img src=\"../f70ef472c8ed05009435a1d3187bfd236fa0a8820/expr.png\" style=\"display:inline;vertical-align:middle;\" /></a></td></tr>\n",
       "<tr><td>7</td><td>ExprTuple</td><td>26, 27</td><td><a class=\"ProveItLink\" href=\"../c5089ea885d0d039c1b86cae9247f045689fa2030/expr.ipynb\"><img src=\"../c5089ea885d0d039c1b86cae9247f045689fa2030/expr.png\" style=\"display:inline;vertical-align:middle;\" /></a></td></tr>\n",
       "<tr><td>8</td><td>Conditional</td><td>value:&nbsp;9<br>condition:&nbsp;10<br></td><td><a class=\"ProveItLink\" href=\"../61027fbc88e20aa888992a06a7b4d888a7ba033a0/expr.ipynb\"><img src=\"../61027fbc88e20aa888992a06a7b4d888a7ba033a0/expr.png\" style=\"display:inline;vertical-align:middle;\" /></a></td></tr>\n",
       "<tr><td>9</td><td>Operation</td><td>operator:&nbsp;24<br>operands:&nbsp;11<br></td><td><a class=\"ProveItLink\" href=\"../10420a168ec855cac43eff135c9a28a07171cabe0/expr.ipynb\"><img src=\"../10420a168ec855cac43eff135c9a28a07171cabe0/expr.png\" style=\"display:inline;vertical-align:middle;\" /></a></td></tr>\n",
       "<tr><td>10</td><td>Operation</td><td>operator:&nbsp;12<br>operands:&nbsp;13<br></td><td><a class=\"ProveItLink\" href=\"../801c86d989bad2c9f0bbf3164b986679de2ac7cb0/expr.ipynb\"><img src=\"../801c86d989bad2c9f0bbf3164b986679de2ac7cb0/expr.png\" style=\"display:inline;vertical-align:middle;\" /></a></td></tr>\n",
       "<tr><td>11</td><td>ExprTuple</td><td>14, 15</td><td><a class=\"ProveItLink\" href=\"../a2dfeb3850bca13eba1e55b3bf1b3a4a6a5b98760/expr.ipynb\"><img src=\"../a2dfeb3850bca13eba1e55b3bf1b3a4a6a5b98760/expr.png\" style=\"display:inline;vertical-align:middle;\" /></a></td></tr>\n",
       "<tr><td>12</td><td>Literal</td><td></td><td><a class=\"ProveItLink\" href=\"../../../../../logic/booleans/conjunction/__pv_it/common/42118ff318bd65d98b1393f64ce7c2269feef76e0/expr.ipynb\"><img src=\"../../../../../logic/booleans/conjunction/__pv_it/common/42118ff318bd65d98b1393f64ce7c2269feef76e0/expr.png\" style=\"display:inline;vertical-align:middle;\" /></a></td></tr>\n",
       "<tr><td>13</td><td>ExprTuple</td><td>16, 17, 18</td><td><a class=\"ProveItLink\" href=\"../df922d26ae092d93c9ff4e228f26eb8749755ea80/expr.ipynb\"><img src=\"../df922d26ae092d93c9ff4e228f26eb8749755ea80/expr.png\" style=\"display:inline;vertical-align:middle;\" /></a></td></tr>\n",
       "<tr><td>14</td><td>Operation</td><td>operator:&nbsp;20<br>operands:&nbsp;19<br></td><td><a class=\"ProveItLink\" href=\"../50cd9b13e60470022d064d1109f78b9dd607f6bc0/expr.ipynb\"><img src=\"../50cd9b13e60470022d064d1109f78b9dd607f6bc0/expr.png\" style=\"display:inline;vertical-align:middle;\" /></a></td></tr>\n",
       "<tr><td>15</td><td>Operation</td><td>operator:&nbsp;20<br>operands:&nbsp;21<br></td><td><a class=\"ProveItLink\" href=\"../c156ed2e893a9cfc7767b7715c23f7f9fe33aadf0/expr.ipynb\"><img src=\"../c156ed2e893a9cfc7767b7715c23f7f9fe33aadf0/expr.png\" style=\"display:inline;vertical-align:middle;\" /></a></td></tr>\n",
       "<tr><td>16</td><td>ExprRange</td><td>lambda_map:&nbsp;22<br>start_index:&nbsp;35<br>end_index:&nbsp;33<br></td><td><a class=\"ProveItLink\" href=\"../19078960dc87a46c3addee1da1af5472048186970/expr.ipynb\"><img src=\"../19078960dc87a46c3addee1da1af5472048186970/expr.png\" style=\"display:inline;vertical-align:middle;\" /></a></td></tr>\n",
       "<tr><td>17</td><td>ExprRange</td><td>lambda_map:&nbsp;23<br>start_index:&nbsp;35<br>end_index:&nbsp;36<br></td><td><a class=\"ProveItLink\" href=\"../21976e024aac20e05dc92e614b5a382d5e8fc2fb0/expr.ipynb\"><img src=\"../21976e024aac20e05dc92e614b5a382d5e8fc2fb0/expr.png\" style=\"display:inline;vertical-align:middle;\" /></a></td></tr>\n",
       "<tr><td>18</td><td>Operation</td><td>operator:&nbsp;24<br>operands:&nbsp;25<br></td><td><a class=\"ProveItLink\" href=\"../189359405c55ba932e335515a38c5f31be3935960/expr.ipynb\"><img src=\"../189359405c55ba932e335515a38c5f31be3935960/expr.png\" style=\"display:inline;vertical-align:middle;\" /></a></td></tr>\n",
       "<tr><td>19</td><td>ExprTuple</td><td>26, 30, 27</td><td><a class=\"ProveItLink\" href=\"../6bed4a1ed7e5e8976be24b6e5434d616c0c414cf0/expr.ipynb\"><img src=\"../6bed4a1ed7e5e8976be24b6e5434d616c0c414cf0/expr.png\" style=\"display:inline;vertical-align:middle;\" /></a></td></tr>\n",
       "<tr><td>20</td><td>Literal</td><td></td><td><a class=\"ProveItLink\" href=\"../../common/ed719cef37831779c16481533a4d380a2f95ab270/expr.ipynb\"><img src=\"../../common/ed719cef37831779c16481533a4d380a2f95ab270/expr.png\" style=\"display:inline;vertical-align:middle;\" /></a></td></tr>\n",
       "<tr><td>21</td><td>ExprTuple</td><td>26, 31, 27</td><td><a class=\"ProveItLink\" href=\"../32e3eb1a7626dc97ddad5fe2e154a0f9ccb8b09b0/expr.ipynb\"><img src=\"../32e3eb1a7626dc97ddad5fe2e154a0f9ccb8b09b0/expr.png\" style=\"display:inline;vertical-align:middle;\" /></a></td></tr>\n",
       "<tr><td>22</td><td>Lambda</td><td>parameter:&nbsp;46<br>body:&nbsp;28<br></td><td><a class=\"ProveItLink\" href=\"../6e78357f49536d368174593e6cac527a3faa6e340/expr.ipynb\"><img src=\"../6e78357f49536d368174593e6cac527a3faa6e340/expr.png\" style=\"display:inline;vertical-align:middle;\" /></a></td></tr>\n",
       "<tr><td>23</td><td>Lambda</td><td>parameter:&nbsp;46<br>body:&nbsp;29<br></td><td><a class=\"ProveItLink\" href=\"../7a9b5711392f4363e0bd8c2e84987b21959a65aa0/expr.ipynb\"><img src=\"../7a9b5711392f4363e0bd8c2e84987b21959a65aa0/expr.png\" style=\"display:inline;vertical-align:middle;\" /></a></td></tr>\n",
       "<tr><td>24</td><td>Literal</td><td></td><td><a class=\"ProveItLink\" href=\"../../../../ordering/__pv_it/common/68379698d72b4689bbda4b5c5cca29ee599d70280/expr.ipynb\"><img src=\"../../../../ordering/__pv_it/common/68379698d72b4689bbda4b5c5cca29ee599d70280/expr.png\" style=\"display:inline;vertical-align:middle;\" /></a></td></tr>\n",
       "<tr><td>25</td><td>ExprTuple</td><td>30, 31</td><td><a class=\"ProveItLink\" href=\"../bbaa48af4605eceb7fbc4af345a1eb6de480e1c50/expr.ipynb\"><img src=\"../bbaa48af4605eceb7fbc4af345a1eb6de480e1c50/expr.png\" style=\"display:inline;vertical-align:middle;\" /></a></td></tr>\n",
       "<tr><td>26</td><td>ExprRange</td><td>lambda_map:&nbsp;32<br>start_index:&nbsp;35<br>end_index:&nbsp;33<br></td><td><a class=\"ProveItLink\" href=\"../../../../../core_expr_types/__pv_it/common/7230c683fcd56948c826ac1be71b01b6fb2913950/expr.ipynb\"><img src=\"../../../../../core_expr_types/__pv_it/common/7230c683fcd56948c826ac1be71b01b6fb2913950/expr.png\" style=\"display:inline;vertical-align:middle;\" /></a></td></tr>\n",
       "<tr><td>27</td><td>ExprRange</td><td>lambda_map:&nbsp;34<br>start_index:&nbsp;35<br>end_index:&nbsp;36<br></td><td><a class=\"ProveItLink\" href=\"../../../../../core_expr_types/__pv_it/common/d0e70829681f7e0560cecc174fdf76cb311d43400/expr.ipynb\"><img src=\"../../../../../core_expr_types/__pv_it/common/d0e70829681f7e0560cecc174fdf76cb311d43400/expr.png\" style=\"display:inline;vertical-align:middle;\" /></a></td></tr>\n",
       "<tr><td>28</td><td>Operation</td><td>operator:&nbsp;38<br>operands:&nbsp;37<br></td><td><a class=\"ProveItLink\" href=\"../999ae93fa201f638b32ecfeee14018013d8f93340/expr.ipynb\"><img src=\"../999ae93fa201f638b32ecfeee14018013d8f93340/expr.png\" style=\"display:inline;vertical-align:middle;\" /></a></td></tr>\n",
       "<tr><td>29</td><td>Operation</td><td>operator:&nbsp;38<br>operands:&nbsp;39<br></td><td><a class=\"ProveItLink\" href=\"../a6acb32481fab942ceee98746b18df46912d21240/expr.ipynb\"><img src=\"../a6acb32481fab942ceee98746b18df46912d21240/expr.png\" style=\"display:inline;vertical-align:middle;\" /></a></td></tr>\n",
       "<tr><td>30</td><td>Variable</td><td></td><td><a class=\"ProveItLink\" href=\"../../../../../__pv_it/common/a0d9d672aa5e272d907247690c152cc2c6daafb70/expr.ipynb\"><img src=\"../../../../../__pv_it/common/a0d9d672aa5e272d907247690c152cc2c6daafb70/expr.png\" style=\"display:inline;vertical-align:middle;\" /></a></td></tr>\n",
       "<tr><td>31</td><td>Variable</td><td></td><td><a class=\"ProveItLink\" href=\"../../../../../__pv_it/common/ff7dba4ef0bbe791ab573bf2d9c220a304399ac80/expr.ipynb\"><img src=\"../../../../../__pv_it/common/ff7dba4ef0bbe791ab573bf2d9c220a304399ac80/expr.png\" style=\"display:inline;vertical-align:middle;\" /></a></td></tr>\n",
       "<tr><td>32</td><td>Lambda</td><td>parameter:&nbsp;46<br>body:&nbsp;40<br></td><td><a class=\"ProveItLink\" href=\"../../../../../core_expr_types/__pv_it/common/1527ad383e12f9c6ed6b371c9a7dd1892d80da1b0/expr.ipynb\"><img src=\"../../../../../core_expr_types/__pv_it/common/1527ad383e12f9c6ed6b371c9a7dd1892d80da1b0/expr.png\" style=\"display:inline;vertical-align:middle;\" /></a></td></tr>\n",
       "<tr><td>33</td><td>Variable</td><td></td><td><a class=\"ProveItLink\" href=\"../../../../../__pv_it/common/ae955345c83abf786c3aff8681cd5465beae262d0/expr.ipynb\"><img src=\"../../../../../__pv_it/common/ae955345c83abf786c3aff8681cd5465beae262d0/expr.png\" style=\"display:inline;vertical-align:middle;\" /></a></td></tr>\n",
       "<tr><td>34</td><td>Lambda</td><td>parameter:&nbsp;46<br>body:&nbsp;41<br></td><td><a class=\"ProveItLink\" href=\"../../../../../core_expr_types/__pv_it/common/d763764ede9c88a33f4b750791da02d1a21cb6820/expr.ipynb\"><img src=\"../../../../../core_expr_types/__pv_it/common/d763764ede9c88a33f4b750791da02d1a21cb6820/expr.png\" style=\"display:inline;vertical-align:middle;\" /></a></td></tr>\n",
       "<tr><td>35</td><td>Literal</td><td></td><td><a class=\"ProveItLink\" href=\"../../../../numerals/__pv_it/common/682157d4892d216d9e5626ed533aff9b56b9506e0/expr.ipynb\"><img src=\"../../../../numerals/__pv_it/common/682157d4892d216d9e5626ed533aff9b56b9506e0/expr.png\" style=\"display:inline;vertical-align:middle;\" /></a></td></tr>\n",
       "<tr><td>36</td><td>Variable</td><td></td><td><a class=\"ProveItLink\" href=\"../../../../../__pv_it/common/1ed21df18baca2f42b561a7ffbf30a2743d594650/expr.ipynb\"><img src=\"../../../../../__pv_it/common/1ed21df18baca2f42b561a7ffbf30a2743d594650/expr.png\" style=\"display:inline;vertical-align:middle;\" /></a></td></tr>\n",
       "<tr><td>37</td><td>ExprTuple</td><td>40, 42</td><td><a class=\"ProveItLink\" href=\"../63610c996c664091c7caf290fd18054a41fd14e80/expr.ipynb\"><img src=\"../63610c996c664091c7caf290fd18054a41fd14e80/expr.png\" style=\"display:inline;vertical-align:middle;\" /></a></td></tr>\n",
       "<tr><td>38</td><td>Literal</td><td></td><td><a class=\"ProveItLink\" href=\"../../../../../logic/sets/membership/__pv_it/common/477487d8796864d23d5810f83761435f25167f690/expr.ipynb\"><img src=\"../../../../../logic/sets/membership/__pv_it/common/477487d8796864d23d5810f83761435f25167f690/expr.png\" style=\"display:inline;vertical-align:middle;\" /></a></td></tr>\n",
       "<tr><td>39</td><td>ExprTuple</td><td>41, 42</td><td><a class=\"ProveItLink\" href=\"../89f0b2e83a9bca777140a117d19402c2285a2f680/expr.ipynb\"><img src=\"../89f0b2e83a9bca777140a117d19402c2285a2f680/expr.png\" style=\"display:inline;vertical-align:middle;\" /></a></td></tr>\n",
       "<tr><td>40</td><td>IndexedVar</td><td>variable:&nbsp;43<br>index:&nbsp;46<br></td><td><a class=\"ProveItLink\" href=\"../../../../../core_expr_types/__pv_it/common/3a62c13e156d62d52fe585fa37cc2172fcf685260/expr.ipynb\"><img src=\"../../../../../core_expr_types/__pv_it/common/3a62c13e156d62d52fe585fa37cc2172fcf685260/expr.png\" style=\"display:inline;vertical-align:middle;\" /></a></td></tr>\n",
       "<tr><td>41</td><td>IndexedVar</td><td>variable:&nbsp;44<br>index:&nbsp;46<br></td><td><a class=\"ProveItLink\" href=\"../../../../../core_expr_types/__pv_it/common/8542342c36565a593724a99f9c08d995c1c21af20/expr.ipynb\"><img src=\"../../../../../core_expr_types/__pv_it/common/8542342c36565a593724a99f9c08d995c1c21af20/expr.png\" style=\"display:inline;vertical-align:middle;\" /></a></td></tr>\n",
       "<tr><td>42</td><td>Literal</td><td></td><td><a class=\"ProveItLink\" href=\"../../../../number_sets/real_numbers/__pv_it/common/e6ce8d0e09d7926fae58282b7d1defa502e2c9ba0/expr.ipynb\"><img src=\"../../../../number_sets/real_numbers/__pv_it/common/e6ce8d0e09d7926fae58282b7d1defa502e2c9ba0/expr.png\" style=\"display:inline;vertical-align:middle;\" /></a></td></tr>\n",
       "<tr><td>43</td><td>Variable</td><td></td><td><a class=\"ProveItLink\" href=\"../../../../../__pv_it/common/c06c606ec12678c58933ac85412ecadc2ae28be60/expr.ipynb\"><img src=\"../../../../../__pv_it/common/c06c606ec12678c58933ac85412ecadc2ae28be60/expr.png\" style=\"display:inline;vertical-align:middle;\" /></a></td></tr>\n",
       "<tr><td>44</td><td>Variable</td><td></td><td><a class=\"ProveItLink\" href=\"../../../../../__pv_it/common/195236b98c6c564a75b5dbada74b173bc52d5c3e0/expr.ipynb\"><img src=\"../../../../../__pv_it/common/195236b98c6c564a75b5dbada74b173bc52d5c3e0/expr.png\" style=\"display:inline;vertical-align:middle;\" /></a></td></tr>\n",
       "<tr><td>45</td><td>ExprTuple</td><td>46</td><td><a class=\"ProveItLink\" href=\"../../../../../core_expr_types/__pv_it/common/4b0dd6be36d76552eda6a95d5b4a27f5a5b62f900/expr.ipynb\"><img src=\"../../../../../core_expr_types/__pv_it/common/4b0dd6be36d76552eda6a95d5b4a27f5a5b62f900/expr.png\" style=\"display:inline;vertical-align:middle;\" /></a></td></tr>\n",
       "<tr><td>46</td><td>Variable</td><td></td><td><a class=\"ProveItLink\" href=\"../../../../../core_expr_types/__pv_it/common/006c465e50948aa2b52285e2de47974f741255cc0/expr.ipynb\"><img src=\"../../../../../core_expr_types/__pv_it/common/006c465e50948aa2b52285e2de47974f741255cc0/expr.png\" style=\"display:inline;vertical-align:middle;\" /></a></td></tr>\n",
       "</table>\n"
      ],
      "text/plain": [
       "0. forall_{x, y} [forall_{a_{1}, a_{2}, ..., a_{i}, b_{1}, b_{2}, ..., b_{j} in RealNonNeg | x <= y} ((a_{1} *  a_{2} *  ... *  a_{i} * x* b_{1} *  b_{2} *  ... *  b_{j}) <= (a_{1} *  a_{2} *  ... *  a_{i} * y* b_{1} *  b_{2} *  ... *  b_{j}))]\n",
       "   core type: Operation\n",
       "   operator: 4\n",
       "   operand: 2\n",
       "1. ((x, y) -> [forall_{a_{1}, a_{2}, ..., a_{i}, b_{1}, b_{2}, ..., b_{j} in RealNonNeg | x <= y} ((a_{1} *  a_{2} *  ... *  a_{i} * x* b_{1} *  b_{2} *  ... *  b_{j}) <= (a_{1} *  a_{2} *  ... *  a_{i} * y* b_{1} *  b_{2} *  ... *  b_{j}))])\n",
       "   core type: ExprTuple\n",
       "   sub-expressions: 2\n",
       "2. (x, y) -> [forall_{a_{1}, a_{2}, ..., a_{i}, b_{1}, b_{2}, ..., b_{j} in RealNonNeg | x <= y} ((a_{1} *  a_{2} *  ... *  a_{i} * x* b_{1} *  b_{2} *  ... *  b_{j}) <= (a_{1} *  a_{2} *  ... *  a_{i} * y* b_{1} *  b_{2} *  ... *  b_{j}))]\n",
       "   core type: Lambda\n",
       "   parameters: 25\\n   body: 3\n",
       "3. forall_{a_{1}, a_{2}, ..., a_{i}, b_{1}, b_{2}, ..., b_{j} in RealNonNeg | x <= y} ((a_{1} *  a_{2} *  ... *  a_{i} * x* b_{1} *  b_{2} *  ... *  b_{j}) <= (a_{1} *  a_{2} *  ... *  a_{i} * y* b_{1} *  b_{2} *  ... *  b_{j}))\n",
       "   core type: Operation\n",
       "   operator: 4\n",
       "   operand: 6\n",
       "4. forall\n",
       "   core type: Literal\n",
       "   sub-expressions: \n",
       "5. ((a_{1}, a_{2}, ..., a_{i}, b_{1}, b_{2}, ..., b_{j}) -> {(a_{1} *  a_{2} *  ... *  a_{i} * x* b_{1} *  b_{2} *  ... *  b_{j}) <= (a_{1} *  a_{2} *  ... *  a_{i} * y* b_{1} *  b_{2} *  ... *  b_{j}) if (a_{1} in RealNonNeg) ,  (a_{2} in RealNonNeg) ,  ... ,  (a_{i} in RealNonNeg), (b_{1} in RealNonNeg) ,  (b_{2} in RealNonNeg) ,  ... ,  (b_{j} in RealNonNeg) ,  x <= y.)\n",
       "   core type: ExprTuple\n",
       "   sub-expressions: 6\n",
       "6. (a_{1}, a_{2}, ..., a_{i}, b_{1}, b_{2}, ..., b_{j}) -> {(a_{1} *  a_{2} *  ... *  a_{i} * x* b_{1} *  b_{2} *  ... *  b_{j}) <= (a_{1} *  a_{2} *  ... *  a_{i} * y* b_{1} *  b_{2} *  ... *  b_{j}) if (a_{1} in RealNonNeg) ,  (a_{2} in RealNonNeg) ,  ... ,  (a_{i} in RealNonNeg), (b_{1} in RealNonNeg) ,  (b_{2} in RealNonNeg) ,  ... ,  (b_{j} in RealNonNeg) ,  x <= y.\n",
       "   core type: Lambda\n",
       "   parameters: 7\\n   body: 8\n",
       "7. (a_{1}, a_{2}, ..., a_{i},b_{1}, b_{2}, ..., b_{j})\n",
       "   core type: ExprTuple\n",
       "   sub-expressions: 26, 27\n",
       "8. {(a_{1} *  a_{2} *  ... *  a_{i} * x* b_{1} *  b_{2} *  ... *  b_{j}) <= (a_{1} *  a_{2} *  ... *  a_{i} * y* b_{1} *  b_{2} *  ... *  b_{j}) if (a_{1} in RealNonNeg) ,  (a_{2} in RealNonNeg) ,  ... ,  (a_{i} in RealNonNeg), (b_{1} in RealNonNeg) ,  (b_{2} in RealNonNeg) ,  ... ,  (b_{j} in RealNonNeg) ,  x <= y.\n",
       "   core type: Conditional\n",
       "   value: 9\n",
       "   condition: 10\n",
       "9. (a_{1} *  a_{2} *  ... *  a_{i} * x* b_{1} *  b_{2} *  ... *  b_{j}) <= (a_{1} *  a_{2} *  ... *  a_{i} * y* b_{1} *  b_{2} *  ... *  b_{j})\n",
       "   core type: Operation\n",
       "   operator: 24\n",
       "   operands: 11\n",
       "10. (a_{1} in RealNonNeg) and  (a_{2} in RealNonNeg) and  ... and  (a_{i} in RealNonNeg)and (b_{1} in RealNonNeg) and  (b_{2} in RealNonNeg) and  ... and  (b_{j} in RealNonNeg) and (x <= y)\n",
       "    core type: Operation\n",
       "    operator: 12\n",
       "    operands: 13\n",
       "11. (a_{1} *  a_{2} *  ... *  a_{i} * x* b_{1} *  b_{2} *  ... *  b_{j}, a_{1} *  a_{2} *  ... *  a_{i} * y* b_{1} *  b_{2} *  ... *  b_{j})\n",
       "    core type: ExprTuple\n",
       "    sub-expressions: 14, 15\n",
       "12. and\n",
       "    core type: Literal\n",
       "    sub-expressions: \n",
       "13. ((a_{1} in RealNonNeg), (a_{2} in RealNonNeg), ..., (a_{i} in RealNonNeg),(b_{1} in RealNonNeg), (b_{2} in RealNonNeg), ..., (b_{j} in RealNonNeg), x <= y)\n",
       "    core type: ExprTuple\n",
       "    sub-expressions: 16, 17, 18\n",
       "14. a_{1} *  a_{2} *  ... *  a_{i} * x* b_{1} *  b_{2} *  ... *  b_{j}\n",
       "    core type: Operation\n",
       "    operator: 20\n",
       "    operands: 19\n",
       "15. a_{1} *  a_{2} *  ... *  a_{i} * y* b_{1} *  b_{2} *  ... *  b_{j}\n",
       "    core type: Operation\n",
       "    operator: 20\n",
       "    operands: 21\n",
       "16. (a_{1} in RealNonNeg), (a_{2} in RealNonNeg), ..., (a_{i} in RealNonNeg)\n",
       "    core type: ExprRange\n",
       "    lambda_map: 22\n",
       "    start_index: 35\n",
       "    end_index: 33\n",
       "17. (b_{1} in RealNonNeg), (b_{2} in RealNonNeg), ..., (b_{j} in RealNonNeg)\n",
       "    core type: ExprRange\n",
       "    lambda_map: 23\n",
       "    start_index: 35\n",
       "    end_index: 36\n",
       "18. x <= y\n",
       "    core type: Operation\n",
       "    operator: 24\n",
       "    operands: 25\n",
       "19. (a_{1}, a_{2}, ..., a_{i}, x,b_{1}, b_{2}, ..., b_{j})\n",
       "    core type: ExprTuple\n",
       "    sub-expressions: 26, 30, 27\n",
       "20. *\n",
       "    core type: Literal\n",
       "    sub-expressions: \n",
       "21. (a_{1}, a_{2}, ..., a_{i}, y,b_{1}, b_{2}, ..., b_{j})\n",
       "    core type: ExprTuple\n",
       "    sub-expressions: 26, 31, 27\n",
       "22. _a -> (a_{_a} in RealNonNeg)\n",
       "    core type: Lambda\n",
       "    parameter: 46\n",
       "    body: 28\n",
       "23. _a -> (b_{_a} in RealNonNeg)\n",
       "    core type: Lambda\n",
       "    parameter: 46\n",
       "    body: 29\n",
       "24. <=\n",
       "    core type: Literal\n",
       "    sub-expressions: \n",
       "25. (x, y)\n",
       "    core type: ExprTuple\n",
       "    sub-expressions: 30, 31\n",
       "26. a_{1}, a_{2}, ..., a_{i}\n",
       "    core type: ExprRange\n",
       "    lambda_map: 32\n",
       "    start_index: 35\n",
       "    end_index: 33\n",
       "27. b_{1}, b_{2}, ..., b_{j}\n",
       "    core type: ExprRange\n",
       "    lambda_map: 34\n",
       "    start_index: 35\n",
       "    end_index: 36\n",
       "28. a_{_a} in RealNonNeg\n",
       "    core type: Operation\n",
       "    operator: 38\n",
       "    operands: 37\n",
       "29. b_{_a} in RealNonNeg\n",
       "    core type: Operation\n",
       "    operator: 38\n",
       "    operands: 39\n",
       "30. x\n",
       "    core type: Variable\n",
       "    sub-expressions: \n",
       "31. y\n",
       "    core type: Variable\n",
       "    sub-expressions: \n",
       "32. _a -> a_{_a}\n",
       "    core type: Lambda\n",
       "    parameter: 46\n",
       "    body: 40\n",
       "33. i\n",
       "    core type: Variable\n",
       "    sub-expressions: \n",
       "34. _a -> b_{_a}\n",
       "    core type: Lambda\n",
       "    parameter: 46\n",
       "    body: 41\n",
       "35. 1\n",
       "    core type: Literal\n",
       "    sub-expressions: \n",
       "36. j\n",
       "    core type: Variable\n",
       "    sub-expressions: \n",
       "37. (a_{_a}, RealNonNeg)\n",
       "    core type: ExprTuple\n",
       "    sub-expressions: 40, 42\n",
       "38. in\n",
       "    core type: Literal\n",
       "    sub-expressions: \n",
       "39. (b_{_a}, RealNonNeg)\n",
       "    core type: ExprTuple\n",
       "    sub-expressions: 41, 42\n",
       "40. a_{_a}\n",
       "    core type: IndexedVar\n",
       "variable: 43\n",
       "index: 46\n",
       "41. b_{_a}\n",
       "    core type: IndexedVar\n",
       "variable: 44\n",
       "index: 46\n",
       "42. RealNonNeg\n",
       "    core type: Literal\n",
       "    sub-expressions: \n",
       "43. a\n",
       "    core type: Variable\n",
       "    sub-expressions: \n",
       "44. b\n",
       "    core type: Variable\n",
       "    sub-expressions: \n",
       "45. (_a)\n",
       "    core type: ExprTuple\n",
       "    sub-expressions: 46\n",
       "46. _a\n",
       "    core type: Variable\n",
       "    sub-expressions: "
      ]
     },
     "metadata": {},
     "output_type": "display_data"
    }
   ],
   "source": [
    "# display the expression information\n",
    "stored_expr.expr_info()"
   ]
  },
  {
   "cell_type": "code",
   "execution_count": null,
   "metadata": {},
   "outputs": [],
   "source": []
  }
 ],
 "metadata": {
  "kernelspec": {
   "display_name": "Python 3",
   "language": "python",
   "name": "python3"
  }
 },
 "nbformat": 4,
 "nbformat_minor": 0
}