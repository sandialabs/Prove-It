{
 "cells": [
  {
   "cell_type": "markdown",
   "metadata": {},
   "source": [
    "Expression of type <a class=\"ProveItLink\" href=\"../../../../../../../doc/html/api/proveit.logic.Equals.html\">Equals</a>\n",
    "=======================\n",
    "# from the theory of <a class=\"ProveItLink\" href=\"../../../_theory_nbs_/theory.ipynb\">proveit.numbers.multiplication</a>"
   ]
  },
  {
   "cell_type": "code",
   "execution_count": 1,
   "metadata": {},
   "outputs": [],
   "source": [
    "import proveit\n",
    "# Automation is not needed when building an expression:\n",
    "proveit.defaults.automation = False # This will speed things up.\n",
    "proveit.defaults.inline_pngs = False # Makes files smaller.\n",
    "%load_expr # Load the stored expression as 'stored_expr'\n",
    "# import Expression classes needed to build the expression\n",
    "from proveit import Function, Q, f\n",
    "from proveit.core_expr_types import a_1_to_i, b_1_to_j, c_1_to_k\n",
    "from proveit.logic import Equals\n",
    "from proveit.numbers import Mult, Sum\n",
    "from proveit.numbers.summation import summation_b1toj_fQ"
   ]
  },
  {
   "cell_type": "code",
   "execution_count": 2,
   "metadata": {},
   "outputs": [
    {
     "data": {
      "text/html": [
       "<strong id=\"expr\">expr:</strong> <a class=\"ProveItLink\" href=\"expr.ipynb\"><img src=\"expr.png\" style=\"display:inline;vertical-align:middle;\" /></a><br>"
      ],
      "text/plain": [
       "<IPython.core.display.HTML object>"
      ]
     },
     "metadata": {},
     "output_type": "display_data"
    }
   ],
   "source": [
    "# build up the expression from sub-expressions\n",
    "sub_expr1 = [b_1_to_j]\n",
    "expr = Equals(Mult(a_1_to_i, summation_b1toj_fQ, c_1_to_k), Sum(index_or_indices = sub_expr1, summand = Mult(a_1_to_i, Function(f, sub_expr1), c_1_to_k), condition = Function(Q, sub_expr1))).with_wrapping_at(2)"
   ]
  },
  {
   "cell_type": "code",
   "execution_count": 3,
   "metadata": {},
   "outputs": [
    {
     "name": "stdout",
     "output_type": "stream",
     "text": [
      "Passed sanity check: expr matches stored_expr\n"
     ]
    }
   ],
   "source": [
    "# check that the built expression is the same as the stored expression\n",
    "assert expr == stored_expr\n",
    "assert expr._style_id == stored_expr._style_id\n",
    "print(\"Passed sanity check: expr matches stored_expr\")"
   ]
  },
  {
   "cell_type": "code",
   "execution_count": 4,
   "metadata": {},
   "outputs": [
    {
     "name": "stdout",
     "output_type": "stream",
     "text": [
      "\\begin{array}{c} \\begin{array}{l} \\left(a_{1} \\cdot  a_{2} \\cdot  \\ldots \\cdot  a_{i} \\cdot \\left[\\sum_{b_{1}, b_{2}, \\ldots, b_{j}~|~Q\\left(b_{1}, b_{2}, \\ldots, b_{j}\\right)}~f\\left(b_{1}, b_{2}, \\ldots, b_{j}\\right)\\right]\\cdot c_{1} \\cdot  c_{2} \\cdot  \\ldots \\cdot  c_{k}\\right) =  \\\\ \\left[\\sum_{b_{1}, b_{2}, \\ldots, b_{j}~|~Q\\left(b_{1}, b_{2}, \\ldots, b_{j}\\right)}~\\left(a_{1} \\cdot  a_{2} \\cdot  \\ldots \\cdot  a_{i} \\cdot f\\left(b_{1}, b_{2}, \\ldots, b_{j}\\right)\\cdot c_{1} \\cdot  c_{2} \\cdot  \\ldots \\cdot  c_{k}\\right)\\right] \\end{array} \\end{array}\n"
     ]
    }
   ],
   "source": [
    "# Show the LaTeX representation of the expression for convenience if you need it.\n",
    "print(stored_expr.latex())"
   ]
  },
  {
   "cell_type": "code",
   "execution_count": 5,
   "metadata": {},
   "outputs": [
    {
     "data": {
      "text/html": [
       "<table>\n",
       "<tr><th>name</th><th>description</th><th>default</th><th>current value</th><th>related methods</th></tr><tr><td>operation</td><td>'infix' or 'function' style formatting</td><td>infix</td><td>infix</td><td></td></tr>\n",
       "<tr><td>wrap_positions</td><td>position(s) at which wrapping is to occur; '2 n - 1' is after the nth operand, '2 n' is after the nth operation.</td><td>()</td><td>(2)</td><td>('with_wrapping_at', 'with_wrap_before_operator', 'with_wrap_after_operator', 'without_wrapping', 'wrap_positions')</td></tr>\n",
       "<tr><td>justification</td><td>if any wrap positions are set, justify to the 'left', 'center', or 'right'</td><td>center</td><td>center</td><td>('with_justification',)</td></tr>\n",
       "<tr><td>direction</td><td>Direction of the relation (normal or reversed)</td><td>normal</td><td>normal</td><td>('with_direction_reversed', 'is_reversed')</td></tr>\n",
       "</table>\n"
      ],
      "text/plain": [
       "style name: operation\n",
       "description: 'infix' or 'function' style formatting\n",
       "default: infix\n",
       "current value: infix\n",
       "related methods: ()\n",
       "style name: wrap_positions\n",
       "description: position(s) at which wrapping is to occur; '2 n - 1' is after the nth operand, '2 n' is after the nth operation.\n",
       "default: ()\n",
       "current value: (2)\n",
       "related methods: ('with_wrapping_at', 'with_wrap_before_operator', 'with_wrap_after_operator', 'without_wrapping', 'wrap_positions')\n",
       "style name: justification\n",
       "description: if any wrap positions are set, justify to the 'left', 'center', or 'right'\n",
       "default: center\n",
       "current value: center\n",
       "related methods: ('with_justification',)\n",
       "style name: direction\n",
       "description: Direction of the relation (normal or reversed)\n",
       "default: normal\n",
       "current value: normal\n",
       "related methods: ('with_direction_reversed', 'is_reversed')"
      ]
     },
     "metadata": {},
     "output_type": "display_data"
    }
   ],
   "source": [
    "stored_expr.style_options()"
   ]
  },
  {
   "cell_type": "code",
   "execution_count": 6,
   "metadata": {},
   "outputs": [
    {
     "data": {
      "text/html": [
       "<table><tr><th>&nbsp;</th><th>core type</th><th>sub-expressions</th><th>expression</th></tr>\n",
       "<tr><td>0</td><td>Operation</td><td>operator:&nbsp;1<br>operands:&nbsp;2<br></td><td><a class=\"ProveItLink\" href=\"expr.ipynb\"><img src=\"expr.png\" style=\"display:inline;vertical-align:middle;\" /></a></td></tr>\n",
       "<tr><td>1</td><td>Literal</td><td></td><td><a class=\"ProveItLink\" href=\"../../../../../logic/equality/__pv_it/common/fb96dc12b2aa8801dda64d0132b396c63d1502bb0/expr.ipynb\"><img src=\"../../../../../logic/equality/__pv_it/common/fb96dc12b2aa8801dda64d0132b396c63d1502bb0/expr.png\" style=\"display:inline;vertical-align:middle;\" /></a></td></tr>\n",
       "<tr><td>2</td><td>ExprTuple</td><td>3, 4</td><td><a class=\"ProveItLink\" href=\"../c77882abfdeffd2ebb85e1b4d17eb66ec877f6a20/expr.ipynb\"><img src=\"../c77882abfdeffd2ebb85e1b4d17eb66ec877f6a20/expr.png\" style=\"display:inline;vertical-align:middle;\" /></a></td></tr>\n",
       "<tr><td>3</td><td>Operation</td><td>operator:&nbsp;15<br>operands:&nbsp;5<br></td><td><a class=\"ProveItLink\" href=\"../ce2f754feb4cace2e35e28774d4067854b4fb5e70/expr.ipynb\"><img src=\"../ce2f754feb4cace2e35e28774d4067854b4fb5e70/expr.png\" style=\"display:inline;vertical-align:middle;\" /></a></td></tr>\n",
       "<tr><td>4</td><td>Operation</td><td>operator:&nbsp;9<br>operand:&nbsp;8<br></td><td><a class=\"ProveItLink\" href=\"../a08b7e1f8da6cbb66f56169f8bf78d078e513b170/expr.ipynb\"><img src=\"../a08b7e1f8da6cbb66f56169f8bf78d078e513b170/expr.png\" style=\"display:inline;vertical-align:middle;\" /></a></td></tr>\n",
       "<tr><td>5</td><td>ExprTuple</td><td>18, 7, 20</td><td><a class=\"ProveItLink\" href=\"../38e1be4e692f0e6b56a316dc3ca79a44d8cc15ce0/expr.ipynb\"><img src=\"../38e1be4e692f0e6b56a316dc3ca79a44d8cc15ce0/expr.png\" style=\"display:inline;vertical-align:middle;\" /></a></td></tr>\n",
       "<tr><td>6</td><td>ExprTuple</td><td>8</td><td><a class=\"ProveItLink\" href=\"../ab7055270bb2ecfe4b8e04936e717db5467a19a70/expr.ipynb\"><img src=\"../ab7055270bb2ecfe4b8e04936e717db5467a19a70/expr.png\" style=\"display:inline;vertical-align:middle;\" /></a></td></tr>\n",
       "<tr><td>7</td><td>Operation</td><td>operator:&nbsp;9<br>operand:&nbsp;12<br></td><td><a class=\"ProveItLink\" href=\"../../../../summation/__pv_it/common/d71f6d5f5f5c8fd11cced29abc8bd46cc924bc1c0/expr.ipynb\"><img src=\"../../../../summation/__pv_it/common/d71f6d5f5f5c8fd11cced29abc8bd46cc924bc1c0/expr.png\" style=\"display:inline;vertical-align:middle;\" /></a></td></tr>\n",
       "<tr><td>8</td><td>Lambda</td><td>parameters:&nbsp;25<br>body:&nbsp;11<br></td><td><a class=\"ProveItLink\" href=\"../2866f152275673e0a3b73620f3d82c7f44ca7b270/expr.ipynb\"><img src=\"../2866f152275673e0a3b73620f3d82c7f44ca7b270/expr.png\" style=\"display:inline;vertical-align:middle;\" /></a></td></tr>\n",
       "<tr><td>9</td><td>Literal</td><td></td><td><a class=\"ProveItLink\" href=\"../../../../summation/__pv_it/common/14fe61cccc388f91dfd83d3ca31cf27448cc070a0/expr.ipynb\"><img src=\"../../../../summation/__pv_it/common/14fe61cccc388f91dfd83d3ca31cf27448cc070a0/expr.png\" style=\"display:inline;vertical-align:middle;\" /></a></td></tr>\n",
       "<tr><td>10</td><td>ExprTuple</td><td>12</td><td><a class=\"ProveItLink\" href=\"../../../../summation/__pv_it/common/45946bd1ebd7886673df310b46237fd3b329b69f0/expr.ipynb\"><img src=\"../../../../summation/__pv_it/common/45946bd1ebd7886673df310b46237fd3b329b69f0/expr.png\" style=\"display:inline;vertical-align:middle;\" /></a></td></tr>\n",
       "<tr><td>11</td><td>Conditional</td><td>value:&nbsp;13<br>condition:&nbsp;17<br></td><td><a class=\"ProveItLink\" href=\"../effbbbed60262f3f7e95f37b24a49e226d59f0cd0/expr.ipynb\"><img src=\"../effbbbed60262f3f7e95f37b24a49e226d59f0cd0/expr.png\" style=\"display:inline;vertical-align:middle;\" /></a></td></tr>\n",
       "<tr><td>12</td><td>Lambda</td><td>parameters:&nbsp;25<br>body:&nbsp;14<br></td><td><a class=\"ProveItLink\" href=\"../../../../summation/__pv_it/common/16792c0186c8a40d7593bf77b8f3c413c0d71b7c0/expr.ipynb\"><img src=\"../../../../summation/__pv_it/common/16792c0186c8a40d7593bf77b8f3c413c0d71b7c0/expr.png\" style=\"display:inline;vertical-align:middle;\" /></a></td></tr>\n",
       "<tr><td>13</td><td>Operation</td><td>operator:&nbsp;15<br>operands:&nbsp;16<br></td><td><a class=\"ProveItLink\" href=\"../979d237859967d0e0da043879ee92170aa4594b40/expr.ipynb\"><img src=\"../979d237859967d0e0da043879ee92170aa4594b40/expr.png\" style=\"display:inline;vertical-align:middle;\" /></a></td></tr>\n",
       "<tr><td>14</td><td>Conditional</td><td>value:&nbsp;19<br>condition:&nbsp;17<br></td><td><a class=\"ProveItLink\" href=\"../../../../summation/__pv_it/common/30465670dddf17542ab6365d127631de40aa4f200/expr.ipynb\"><img src=\"../../../../summation/__pv_it/common/30465670dddf17542ab6365d127631de40aa4f200/expr.png\" style=\"display:inline;vertical-align:middle;\" /></a></td></tr>\n",
       "<tr><td>15</td><td>Literal</td><td></td><td><a class=\"ProveItLink\" href=\"../../common/ed719cef37831779c16481533a4d380a2f95ab270/expr.ipynb\"><img src=\"../../common/ed719cef37831779c16481533a4d380a2f95ab270/expr.png\" style=\"display:inline;vertical-align:middle;\" /></a></td></tr>\n",
       "<tr><td>16</td><td>ExprTuple</td><td>18, 19, 20</td><td><a class=\"ProveItLink\" href=\"../b4158770be9087e00da92e01d705675589ee561f0/expr.ipynb\"><img src=\"../b4158770be9087e00da92e01d705675589ee561f0/expr.png\" style=\"display:inline;vertical-align:middle;\" /></a></td></tr>\n",
       "<tr><td>17</td><td>Operation</td><td>operator:&nbsp;21<br>operands:&nbsp;25<br></td><td><a class=\"ProveItLink\" href=\"../../../../summation/__pv_it/common/b7a05d15a57d1e4b084e994131dfb32cfe0fdac30/expr.ipynb\"><img src=\"../../../../summation/__pv_it/common/b7a05d15a57d1e4b084e994131dfb32cfe0fdac30/expr.png\" style=\"display:inline;vertical-align:middle;\" /></a></td></tr>\n",
       "<tr><td>18</td><td>ExprRange</td><td>lambda_map:&nbsp;22<br>start_index:&nbsp;33<br>end_index:&nbsp;23<br></td><td><a class=\"ProveItLink\" href=\"../../../../../core_expr_types/__pv_it/common/7230c683fcd56948c826ac1be71b01b6fb2913950/expr.ipynb\"><img src=\"../../../../../core_expr_types/__pv_it/common/7230c683fcd56948c826ac1be71b01b6fb2913950/expr.png\" style=\"display:inline;vertical-align:middle;\" /></a></td></tr>\n",
       "<tr><td>19</td><td>Operation</td><td>operator:&nbsp;24<br>operands:&nbsp;25<br></td><td><a class=\"ProveItLink\" href=\"../../../../summation/__pv_it/common/7bcf8af6554fa7d4e5743914f31215556feaa98c0/expr.ipynb\"><img src=\"../../../../summation/__pv_it/common/7bcf8af6554fa7d4e5743914f31215556feaa98c0/expr.png\" style=\"display:inline;vertical-align:middle;\" /></a></td></tr>\n",
       "<tr><td>20</td><td>ExprRange</td><td>lambda_map:&nbsp;26<br>start_index:&nbsp;33<br>end_index:&nbsp;27<br></td><td><a class=\"ProveItLink\" href=\"../../../../../core_expr_types/__pv_it/common/847fd9e18bcb1cd068c4b44622f3fd12a6ad6a150/expr.ipynb\"><img src=\"../../../../../core_expr_types/__pv_it/common/847fd9e18bcb1cd068c4b44622f3fd12a6ad6a150/expr.png\" style=\"display:inline;vertical-align:middle;\" /></a></td></tr>\n",
       "<tr><td>21</td><td>Variable</td><td></td><td><a class=\"ProveItLink\" href=\"../../../../../__pv_it/common/d72bb8b07403efe79afab564c36a28e21330e5f90/expr.ipynb\"><img src=\"../../../../../__pv_it/common/d72bb8b07403efe79afab564c36a28e21330e5f90/expr.png\" style=\"display:inline;vertical-align:middle;\" /></a></td></tr>\n",
       "<tr><td>22</td><td>Lambda</td><td>parameter:&nbsp;39<br>body:&nbsp;28<br></td><td><a class=\"ProveItLink\" href=\"../../../../../core_expr_types/__pv_it/common/1527ad383e12f9c6ed6b371c9a7dd1892d80da1b0/expr.ipynb\"><img src=\"../../../../../core_expr_types/__pv_it/common/1527ad383e12f9c6ed6b371c9a7dd1892d80da1b0/expr.png\" style=\"display:inline;vertical-align:middle;\" /></a></td></tr>\n",
       "<tr><td>23</td><td>Variable</td><td></td><td><a class=\"ProveItLink\" href=\"../../../../../__pv_it/common/ae955345c83abf786c3aff8681cd5465beae262d0/expr.ipynb\"><img src=\"../../../../../__pv_it/common/ae955345c83abf786c3aff8681cd5465beae262d0/expr.png\" style=\"display:inline;vertical-align:middle;\" /></a></td></tr>\n",
       "<tr><td>24</td><td>Variable</td><td></td><td><a class=\"ProveItLink\" href=\"../../../../../__pv_it/common/01b6dbb444a31fc38af4c2379badef6c75b363710/expr.ipynb\"><img src=\"../../../../../__pv_it/common/01b6dbb444a31fc38af4c2379badef6c75b363710/expr.png\" style=\"display:inline;vertical-align:middle;\" /></a></td></tr>\n",
       "<tr><td>25</td><td>ExprTuple</td><td>29</td><td><a class=\"ProveItLink\" href=\"../../../../summation/__pv_it/common/012c9f5d21ff973afec8993018a8748215a3332a0/expr.ipynb\"><img src=\"../../../../summation/__pv_it/common/012c9f5d21ff973afec8993018a8748215a3332a0/expr.png\" style=\"display:inline;vertical-align:middle;\" /></a></td></tr>\n",
       "<tr><td>26</td><td>Lambda</td><td>parameter:&nbsp;39<br>body:&nbsp;30<br></td><td><a class=\"ProveItLink\" href=\"../../../../../core_expr_types/__pv_it/common/89a29b5b02ce6c37577f6352274a3d503dcdde3e0/expr.ipynb\"><img src=\"../../../../../core_expr_types/__pv_it/common/89a29b5b02ce6c37577f6352274a3d503dcdde3e0/expr.png\" style=\"display:inline;vertical-align:middle;\" /></a></td></tr>\n",
       "<tr><td>27</td><td>Variable</td><td></td><td><a class=\"ProveItLink\" href=\"../../../../../__pv_it/common/63b7c64bf9ec7a04ecc396c7a1670f3f12fb59490/expr.ipynb\"><img src=\"../../../../../__pv_it/common/63b7c64bf9ec7a04ecc396c7a1670f3f12fb59490/expr.png\" style=\"display:inline;vertical-align:middle;\" /></a></td></tr>\n",
       "<tr><td>28</td><td>IndexedVar</td><td>variable:&nbsp;31<br>index:&nbsp;39<br></td><td><a class=\"ProveItLink\" href=\"../../../../../core_expr_types/__pv_it/common/3a62c13e156d62d52fe585fa37cc2172fcf685260/expr.ipynb\"><img src=\"../../../../../core_expr_types/__pv_it/common/3a62c13e156d62d52fe585fa37cc2172fcf685260/expr.png\" style=\"display:inline;vertical-align:middle;\" /></a></td></tr>\n",
       "<tr><td>29</td><td>ExprRange</td><td>lambda_map:&nbsp;32<br>start_index:&nbsp;33<br>end_index:&nbsp;34<br></td><td><a class=\"ProveItLink\" href=\"../../../../../core_expr_types/__pv_it/common/d0e70829681f7e0560cecc174fdf76cb311d43400/expr.ipynb\"><img src=\"../../../../../core_expr_types/__pv_it/common/d0e70829681f7e0560cecc174fdf76cb311d43400/expr.png\" style=\"display:inline;vertical-align:middle;\" /></a></td></tr>\n",
       "<tr><td>30</td><td>IndexedVar</td><td>variable:&nbsp;35<br>index:&nbsp;39<br></td><td><a class=\"ProveItLink\" href=\"../../../../../core_expr_types/__pv_it/common/8ffbefe913f7c934b2e3a2a12315d5900822d9d00/expr.ipynb\"><img src=\"../../../../../core_expr_types/__pv_it/common/8ffbefe913f7c934b2e3a2a12315d5900822d9d00/expr.png\" style=\"display:inline;vertical-align:middle;\" /></a></td></tr>\n",
       "<tr><td>31</td><td>Variable</td><td></td><td><a class=\"ProveItLink\" href=\"../../../../../__pv_it/common/c06c606ec12678c58933ac85412ecadc2ae28be60/expr.ipynb\"><img src=\"../../../../../__pv_it/common/c06c606ec12678c58933ac85412ecadc2ae28be60/expr.png\" style=\"display:inline;vertical-align:middle;\" /></a></td></tr>\n",
       "<tr><td>32</td><td>Lambda</td><td>parameter:&nbsp;39<br>body:&nbsp;36<br></td><td><a class=\"ProveItLink\" href=\"../../../../../core_expr_types/__pv_it/common/d763764ede9c88a33f4b750791da02d1a21cb6820/expr.ipynb\"><img src=\"../../../../../core_expr_types/__pv_it/common/d763764ede9c88a33f4b750791da02d1a21cb6820/expr.png\" style=\"display:inline;vertical-align:middle;\" /></a></td></tr>\n",
       "<tr><td>33</td><td>Literal</td><td></td><td><a class=\"ProveItLink\" href=\"../../../../numerals/__pv_it/common/682157d4892d216d9e5626ed533aff9b56b9506e0/expr.ipynb\"><img src=\"../../../../numerals/__pv_it/common/682157d4892d216d9e5626ed533aff9b56b9506e0/expr.png\" style=\"display:inline;vertical-align:middle;\" /></a></td></tr>\n",
       "<tr><td>34</td><td>Variable</td><td></td><td><a class=\"ProveItLink\" href=\"../../../../../__pv_it/common/1ed21df18baca2f42b561a7ffbf30a2743d594650/expr.ipynb\"><img src=\"../../../../../__pv_it/common/1ed21df18baca2f42b561a7ffbf30a2743d594650/expr.png\" style=\"display:inline;vertical-align:middle;\" /></a></td></tr>\n",
       "<tr><td>35</td><td>Variable</td><td></td><td><a class=\"ProveItLink\" href=\"../../../../../__pv_it/common/ceef4280a2f1cc604b455b54e735507244cc62cd0/expr.ipynb\"><img src=\"../../../../../__pv_it/common/ceef4280a2f1cc604b455b54e735507244cc62cd0/expr.png\" style=\"display:inline;vertical-align:middle;\" /></a></td></tr>\n",
       "<tr><td>36</td><td>IndexedVar</td><td>variable:&nbsp;37<br>index:&nbsp;39<br></td><td><a class=\"ProveItLink\" href=\"../../../../../core_expr_types/__pv_it/common/8542342c36565a593724a99f9c08d995c1c21af20/expr.ipynb\"><img src=\"../../../../../core_expr_types/__pv_it/common/8542342c36565a593724a99f9c08d995c1c21af20/expr.png\" style=\"display:inline;vertical-align:middle;\" /></a></td></tr>\n",
       "<tr><td>37</td><td>Variable</td><td></td><td><a class=\"ProveItLink\" href=\"../../../../../__pv_it/common/195236b98c6c564a75b5dbada74b173bc52d5c3e0/expr.ipynb\"><img src=\"../../../../../__pv_it/common/195236b98c6c564a75b5dbada74b173bc52d5c3e0/expr.png\" style=\"display:inline;vertical-align:middle;\" /></a></td></tr>\n",
       "<tr><td>38</td><td>ExprTuple</td><td>39</td><td><a class=\"ProveItLink\" href=\"../../../../../core_expr_types/__pv_it/common/4b0dd6be36d76552eda6a95d5b4a27f5a5b62f900/expr.ipynb\"><img src=\"../../../../../core_expr_types/__pv_it/common/4b0dd6be36d76552eda6a95d5b4a27f5a5b62f900/expr.png\" style=\"display:inline;vertical-align:middle;\" /></a></td></tr>\n",
       "<tr><td>39</td><td>Variable</td><td></td><td><a class=\"ProveItLink\" href=\"../../../../../core_expr_types/__pv_it/common/006c465e50948aa2b52285e2de47974f741255cc0/expr.ipynb\"><img src=\"../../../../../core_expr_types/__pv_it/common/006c465e50948aa2b52285e2de47974f741255cc0/expr.png\" style=\"display:inline;vertical-align:middle;\" /></a></td></tr>\n",
       "</table>\n"
      ],
      "text/plain": [
       "0. (a_{1} *  a_{2} *  ... *  a_{i} * [Sum_{b_{1}, b_{2}, ..., b_{j} | Q(b_{1}, b_{2}, ..., b_{j})} f(b_{1}, b_{2}, ..., b_{j})]* c_{1} *  c_{2} *  ... *  c_{k}) =  \\\\ [Sum_{b_{1}, b_{2}, ..., b_{j} | Q(b_{1}, b_{2}, ..., b_{j})} (a_{1} *  a_{2} *  ... *  a_{i} * f(b_{1}, b_{2}, ..., b_{j})* c_{1} *  c_{2} *  ... *  c_{k})]\n",
       "   core type: Operation\n",
       "   operator: 1\n",
       "   operands: 2\n",
       "1. =\n",
       "   core type: Literal\n",
       "   sub-expressions: \n",
       "2. (a_{1} *  a_{2} *  ... *  a_{i} * [Sum_{b_{1}, b_{2}, ..., b_{j} | Q(b_{1}, b_{2}, ..., b_{j})} f(b_{1}, b_{2}, ..., b_{j})]* c_{1} *  c_{2} *  ... *  c_{k}, Sum_{b_{1}, b_{2}, ..., b_{j} | Q(b_{1}, b_{2}, ..., b_{j})} (a_{1} *  a_{2} *  ... *  a_{i} * f(b_{1}, b_{2}, ..., b_{j})* c_{1} *  c_{2} *  ... *  c_{k}))\n",
       "   core type: ExprTuple\n",
       "   sub-expressions: 3, 4\n",
       "3. a_{1} *  a_{2} *  ... *  a_{i} * [Sum_{b_{1}, b_{2}, ..., b_{j} | Q(b_{1}, b_{2}, ..., b_{j})} f(b_{1}, b_{2}, ..., b_{j})]* c_{1} *  c_{2} *  ... *  c_{k}\n",
       "   core type: Operation\n",
       "   operator: 15\n",
       "   operands: 5\n",
       "4. Sum_{b_{1}, b_{2}, ..., b_{j} | Q(b_{1}, b_{2}, ..., b_{j})} (a_{1} *  a_{2} *  ... *  a_{i} * f(b_{1}, b_{2}, ..., b_{j})* c_{1} *  c_{2} *  ... *  c_{k})\n",
       "   core type: Operation\n",
       "   operator: 9\n",
       "   operand: 8\n",
       "5. (a_{1}, a_{2}, ..., a_{i}, Sum_{b_{1}, b_{2}, ..., b_{j} | Q(b_{1}, b_{2}, ..., b_{j})} f(b_{1}, b_{2}, ..., b_{j}),c_{1}, c_{2}, ..., c_{k})\n",
       "   core type: ExprTuple\n",
       "   sub-expressions: 18, 7, 20\n",
       "6. ((b_{1}, b_{2}, ..., b_{j}) -> {a_{1} *  a_{2} *  ... *  a_{i} * f(b_{1}, b_{2}, ..., b_{j})* c_{1} *  c_{2} *  ... *  c_{k} if Q(b_{1}, b_{2}, ..., b_{j}).)\n",
       "   core type: ExprTuple\n",
       "   sub-expressions: 8\n",
       "7. Sum_{b_{1}, b_{2}, ..., b_{j} | Q(b_{1}, b_{2}, ..., b_{j})} f(b_{1}, b_{2}, ..., b_{j})\n",
       "   core type: Operation\n",
       "   operator: 9\n",
       "   operand: 12\n",
       "8. (b_{1}, b_{2}, ..., b_{j}) -> {a_{1} *  a_{2} *  ... *  a_{i} * f(b_{1}, b_{2}, ..., b_{j})* c_{1} *  c_{2} *  ... *  c_{k} if Q(b_{1}, b_{2}, ..., b_{j}).\n",
       "   core type: Lambda\n",
       "   parameters: 25\\n   body: 11\n",
       "9. Sum\n",
       "   core type: Literal\n",
       "   sub-expressions: \n",
       "10. ((b_{1}, b_{2}, ..., b_{j}) -> {f(b_{1}, b_{2}, ..., b_{j}) if Q(b_{1}, b_{2}, ..., b_{j}).)\n",
       "    core type: ExprTuple\n",
       "    sub-expressions: 12\n",
       "11. {a_{1} *  a_{2} *  ... *  a_{i} * f(b_{1}, b_{2}, ..., b_{j})* c_{1} *  c_{2} *  ... *  c_{k} if Q(b_{1}, b_{2}, ..., b_{j}).\n",
       "    core type: Conditional\n",
       "    value: 13\n",
       "    condition: 17\n",
       "12. (b_{1}, b_{2}, ..., b_{j}) -> {f(b_{1}, b_{2}, ..., b_{j}) if Q(b_{1}, b_{2}, ..., b_{j}).\n",
       "    core type: Lambda\n",
       "    parameters: 25\\n    body: 14\n",
       "13. a_{1} *  a_{2} *  ... *  a_{i} * f(b_{1}, b_{2}, ..., b_{j})* c_{1} *  c_{2} *  ... *  c_{k}\n",
       "    core type: Operation\n",
       "    operator: 15\n",
       "    operands: 16\n",
       "14. {f(b_{1}, b_{2}, ..., b_{j}) if Q(b_{1}, b_{2}, ..., b_{j}).\n",
       "    core type: Conditional\n",
       "    value: 19\n",
       "    condition: 17\n",
       "15. *\n",
       "    core type: Literal\n",
       "    sub-expressions: \n",
       "16. (a_{1}, a_{2}, ..., a_{i}, f(b_{1}, b_{2}, ..., b_{j}),c_{1}, c_{2}, ..., c_{k})\n",
       "    core type: ExprTuple\n",
       "    sub-expressions: 18, 19, 20\n",
       "17. Q(b_{1}, b_{2}, ..., b_{j})\n",
       "    core type: Operation\n",
       "    operator: 21\n",
       "    operands: 25\n",
       "18. a_{1}, a_{2}, ..., a_{i}\n",
       "    core type: ExprRange\n",
       "    lambda_map: 22\n",
       "    start_index: 33\n",
       "    end_index: 23\n",
       "19. f(b_{1}, b_{2}, ..., b_{j})\n",
       "    core type: Operation\n",
       "    operator: 24\n",
       "    operands: 25\n",
       "20. c_{1}, c_{2}, ..., c_{k}\n",
       "    core type: ExprRange\n",
       "    lambda_map: 26\n",
       "    start_index: 33\n",
       "    end_index: 27\n",
       "21. Q\n",
       "    core type: Variable\n",
       "    sub-expressions: \n",
       "22. _a -> a_{_a}\n",
       "    core type: Lambda\n",
       "    parameter: 39\n",
       "    body: 28\n",
       "23. i\n",
       "    core type: Variable\n",
       "    sub-expressions: \n",
       "24. f\n",
       "    core type: Variable\n",
       "    sub-expressions: \n",
       "25. (b_{1}, b_{2}, ..., b_{j})\n",
       "    core type: ExprTuple\n",
       "    sub-expressions: 29\n",
       "26. _a -> c_{_a}\n",
       "    core type: Lambda\n",
       "    parameter: 39\n",
       "    body: 30\n",
       "27. k\n",
       "    core type: Variable\n",
       "    sub-expressions: \n",
       "28. a_{_a}\n",
       "    core type: IndexedVar\n",
       "variable: 31\n",
       "index: 39\n",
       "29. b_{1}, b_{2}, ..., b_{j}\n",
       "    core type: ExprRange\n",
       "    lambda_map: 32\n",
       "    start_index: 33\n",
       "    end_index: 34\n",
       "30. c_{_a}\n",
       "    core type: IndexedVar\n",
       "variable: 35\n",
       "index: 39\n",
       "31. a\n",
       "    core type: Variable\n",
       "    sub-expressions: \n",
       "32. _a -> b_{_a}\n",
       "    core type: Lambda\n",
       "    parameter: 39\n",
       "    body: 36\n",
       "33. 1\n",
       "    core type: Literal\n",
       "    sub-expressions: \n",
       "34. j\n",
       "    core type: Variable\n",
       "    sub-expressions: \n",
       "35. c\n",
       "    core type: Variable\n",
       "    sub-expressions: \n",
       "36. b_{_a}\n",
       "    core type: IndexedVar\n",
       "variable: 37\n",
       "index: 39\n",
       "37. b\n",
       "    core type: Variable\n",
       "    sub-expressions: \n",
       "38. (_a)\n",
       "    core type: ExprTuple\n",
       "    sub-expressions: 39\n",
       "39. _a\n",
       "    core type: Variable\n",
       "    sub-expressions: "
      ]
     },
     "metadata": {},
     "output_type": "display_data"
    }
   ],
   "source": [
    "# display the expression information\n",
    "stored_expr.expr_info()"
   ]
  },
  {
   "cell_type": "code",
   "execution_count": null,
   "metadata": {},
   "outputs": [],
   "source": []
  }
 ],
 "metadata": {
  "kernelspec": {
   "display_name": "Python 3",
   "language": "python",
   "name": "python3"
  }
 },
 "nbformat": 4,
 "nbformat_minor": 0
}