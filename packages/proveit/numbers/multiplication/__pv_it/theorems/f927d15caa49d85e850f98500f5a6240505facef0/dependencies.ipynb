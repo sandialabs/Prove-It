{
 "cells": [
  {
   "cell_type": "markdown",
   "metadata": {},
   "source": [
    "Theorem Dependencies\n",
    "=======================\n",
    "\n",
    "## <a class=\"ProveItLink\" href=\"../../../_theory_nbs_/theory.ipynb\">proveit.numbers.multiplication</a>.<a class=\"ProveItLink\" href=\"../../../_theorems_.ipynb#mult_real_nonneg_closure\">mult_real_nonneg_closure</a> \n",
    "***see <a class=\"ProveItLink\" href=\"../../../_theory_nbs_/proofs/mult_real_nonneg_closure/thm_proof.ipynb\">proof</a>***"
   ]
  },
  {
   "cell_type": "code",
   "execution_count": 1,
   "metadata": {},
   "outputs": [],
   "source": [
    "import proveit\n",
    "# Automation is not needed when querying dependencies:\n",
    "proveit.defaults.automation = False # This will speed things up.\n",
    "proveit.defaults.inline_pngs = False # Makes files smaller.\n",
    "from proveit.numbers.multiplication import mult_real_nonneg_closure"
   ]
  },
  {
   "cell_type": "code",
   "execution_count": 2,
   "metadata": {},
   "outputs": [
    {
     "data": {
      "text/html": [
       "<h3>Unproven conjectures required (directly or indirectly) to prove mult_real_nonneg_closure</h3>"
      ],
      "text/plain": [
       "<IPython.core.display.HTML object>"
      ]
     },
     "metadata": {},
     "output_type": "display_data"
    },
    {
     "data": {
      "text/html": [
       "<dl>"
      ],
      "text/plain": [
       "<IPython.core.display.HTML object>"
      ]
     },
     "metadata": {},
     "output_type": "display_data"
    },
    {
     "data": {
      "text/html": [
       "<dt><a class=\"ProveItLink\" href=\"../../../_theory_nbs_/proofs/mult_real_nonneg_closure/thm_proof.ipynb\">proveit.numbers.multiplication.mult_real_nonneg_closure</a></dt><dd><a class=\"ProveItLink\" href=\"../a78d485818b17e787f02c2482bce7d7eb188a79e0/expr.ipynb\"><img src=\"../a78d485818b17e787f02c2482bce7d7eb188a79e0/expr.png\" style=\"display:inline;vertical-align:middle;\" /></a></dd>"
      ],
      "text/plain": [
       "<IPython.core.display.HTML object>"
      ]
     },
     "metadata": {},
     "output_type": "display_data"
    },
    {
     "data": {
      "text/html": [
       "</dl>"
      ],
      "text/plain": [
       "<IPython.core.display.HTML object>"
      ]
     },
     "metadata": {},
     "output_type": "display_data"
    },
    {
     "data": {
      "text/html": [
       "<h3>Theorems/conjectures that depend directly on mult_real_nonneg_closure</h3>"
      ],
      "text/plain": [
       "<IPython.core.display.HTML object>"
      ]
     },
     "metadata": {},
     "output_type": "display_data"
    },
    {
     "data": {
      "text/html": [
       "<dl>"
      ],
      "text/plain": [
       "<IPython.core.display.HTML object>"
      ]
     },
     "metadata": {},
     "output_type": "display_data"
    },
    {
     "data": {
      "text/html": [
       "<dt><a class=\"ProveItLink\" href=\"../../../../../physics/quantum/QPE/_theory_nbs_/proofs/_best_guarantee_delta_nonzero/thm_proof.ipynb\">proveit.physics.quantum.QPE._best_guarantee_delta_nonzero</a></dt><dd><a class=\"ProveItLink\" href=\"../../../../../physics/quantum/QPE/__pv_it/theorems/71aa283d054a9028fe068383446a7aec129884730/expr.ipynb\"><img src=\"../../../../../physics/quantum/QPE/__pv_it/theorems/71aa283d054a9028fe068383446a7aec129884730/expr.png\" style=\"display:inline;vertical-align:middle;\" /></a></dd>"
      ],
      "text/plain": [
       "<IPython.core.display.HTML object>"
      ]
     },
     "metadata": {},
     "output_type": "display_data"
    },
    {
     "data": {
      "text/html": [
       "</dl>"
      ],
      "text/plain": [
       "<IPython.core.display.HTML object>"
      ]
     },
     "metadata": {},
     "output_type": "display_data"
    }
   ],
   "source": [
    "%dependencies mult_real_nonneg_closure"
   ]
  }
 ],
 "metadata": {
  "kernelspec": {
   "display_name": "Python 3",
   "language": "python",
   "name": "python3"
  }
 },
 "nbformat": 4,
 "nbformat_minor": 0
}