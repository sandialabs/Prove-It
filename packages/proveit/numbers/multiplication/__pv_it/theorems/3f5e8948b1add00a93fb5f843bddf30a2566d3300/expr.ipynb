{
 "cells": [
  {
   "cell_type": "markdown",
   "metadata": {},
   "source": [
    "Expression of type <a class=\"ProveItLink\" href=\"../../../../../../../doc/html/api/proveit.logic.Equals.html\">Equals</a>\n",
    "=======================\n",
    "# from the theory of <a class=\"ProveItLink\" href=\"../../../_theory_nbs_/theory.ipynb\">proveit.numbers.multiplication</a>"
   ]
  },
  {
   "cell_type": "code",
   "execution_count": 1,
   "metadata": {},
   "outputs": [],
   "source": [
    "import proveit\n",
    "# Automation is not needed when building an expression:\n",
    "proveit.defaults.automation = False # This will speed things up.\n",
    "proveit.defaults.inline_pngs = False # Makes files smaller.\n",
    "%load_expr # Load the stored expression as 'stored_expr'\n",
    "# import Expression classes needed to build the expression\n",
    "from proveit import ExprRange, IndexedVar, Variable, b, j\n",
    "from proveit.core_expr_types import a_1_to_i, b_1_to_j, c_1_to_k\n",
    "from proveit.logic import Equals\n",
    "from proveit.numbers import Abs, Add, Mult, one"
   ]
  },
  {
   "cell_type": "code",
   "execution_count": 2,
   "metadata": {},
   "outputs": [
    {
     "data": {
      "text/html": [
       "<strong id=\"expr\">expr:</strong> <a class=\"ProveItLink\" href=\"expr.ipynb\"><img src=\"expr.png\" style=\"display:inline;vertical-align:middle;\" /></a><br>"
      ],
      "text/plain": [
       "<IPython.core.display.HTML object>"
      ]
     },
     "metadata": {},
     "output_type": "display_data"
    }
   ],
   "source": [
    "# build up the expression from sub-expressions\n",
    "sub_expr1 = Variable(\"_b\", latex_format = r\"{_{-}b}\")\n",
    "expr = Equals(Mult(a_1_to_i, Abs(Add(b_1_to_j)), c_1_to_k), Abs(Add(ExprRange(sub_expr1, Mult(a_1_to_i, IndexedVar(b, sub_expr1), c_1_to_k), one, j)))).with_wrapping_at(2)"
   ]
  },
  {
   "cell_type": "code",
   "execution_count": 3,
   "metadata": {},
   "outputs": [
    {
     "name": "stdout",
     "output_type": "stream",
     "text": [
      "Passed sanity check: expr matches stored_expr\n"
     ]
    }
   ],
   "source": [
    "# check that the built expression is the same as the stored expression\n",
    "assert expr == stored_expr\n",
    "assert expr._style_id == stored_expr._style_id\n",
    "print(\"Passed sanity check: expr matches stored_expr\")"
   ]
  },
  {
   "cell_type": "code",
   "execution_count": 4,
   "metadata": {},
   "outputs": [
    {
     "name": "stdout",
     "output_type": "stream",
     "text": [
      "\\begin{array}{c} \\begin{array}{l} \\left(a_{1} \\cdot  a_{2} \\cdot  \\ldots \\cdot  a_{i} \\cdot \\left|b_{1} +  b_{2} +  \\ldots +  b_{j}\\right|\\cdot c_{1} \\cdot  c_{2} \\cdot  \\ldots \\cdot  c_{k}\\right) =  \\\\ \\left|\\left(a_{1} \\cdot  a_{2} \\cdot  \\ldots \\cdot  a_{i} \\cdot b_{1}\\cdot c_{1} \\cdot  c_{2} \\cdot  \\ldots \\cdot  c_{k}\\right) +  \\left(a_{1} \\cdot  a_{2} \\cdot  \\ldots \\cdot  a_{i} \\cdot b_{2}\\cdot c_{1} \\cdot  c_{2} \\cdot  \\ldots \\cdot  c_{k}\\right) +  \\ldots +  \\left(a_{1} \\cdot  a_{2} \\cdot  \\ldots \\cdot  a_{i} \\cdot b_{j}\\cdot c_{1} \\cdot  c_{2} \\cdot  \\ldots \\cdot  c_{k}\\right)\\right| \\end{array} \\end{array}\n"
     ]
    }
   ],
   "source": [
    "# Show the LaTeX representation of the expression for convenience if you need it.\n",
    "print(stored_expr.latex())"
   ]
  },
  {
   "cell_type": "code",
   "execution_count": 5,
   "metadata": {},
   "outputs": [
    {
     "data": {
      "text/html": [
       "<table>\n",
       "<tr><th>name</th><th>description</th><th>default</th><th>current value</th><th>related methods</th></tr><tr><td>operation</td><td>'infix' or 'function' style formatting</td><td>infix</td><td>infix</td><td></td></tr>\n",
       "<tr><td>wrap_positions</td><td>position(s) at which wrapping is to occur; '2 n - 1' is after the nth operand, '2 n' is after the nth operation.</td><td>()</td><td>(2)</td><td>('with_wrapping_at', 'with_wrap_before_operator', 'with_wrap_after_operator', 'without_wrapping', 'wrap_positions')</td></tr>\n",
       "<tr><td>justification</td><td>if any wrap positions are set, justify to the 'left', 'center', or 'right'</td><td>center</td><td>center</td><td>('with_justification',)</td></tr>\n",
       "<tr><td>direction</td><td>Direction of the relation (normal or reversed)</td><td>normal</td><td>normal</td><td>('with_direction_reversed', 'is_reversed')</td></tr>\n",
       "</table>\n"
      ],
      "text/plain": [
       "style name: operation\n",
       "description: 'infix' or 'function' style formatting\n",
       "default: infix\n",
       "current value: infix\n",
       "related methods: ()\n",
       "style name: wrap_positions\n",
       "description: position(s) at which wrapping is to occur; '2 n - 1' is after the nth operand, '2 n' is after the nth operation.\n",
       "default: ()\n",
       "current value: (2)\n",
       "related methods: ('with_wrapping_at', 'with_wrap_before_operator', 'with_wrap_after_operator', 'without_wrapping', 'wrap_positions')\n",
       "style name: justification\n",
       "description: if any wrap positions are set, justify to the 'left', 'center', or 'right'\n",
       "default: center\n",
       "current value: center\n",
       "related methods: ('with_justification',)\n",
       "style name: direction\n",
       "description: Direction of the relation (normal or reversed)\n",
       "default: normal\n",
       "current value: normal\n",
       "related methods: ('with_direction_reversed', 'is_reversed')"
      ]
     },
     "metadata": {},
     "output_type": "display_data"
    }
   ],
   "source": [
    "stored_expr.style_options()"
   ]
  },
  {
   "cell_type": "code",
   "execution_count": 6,
   "metadata": {},
   "outputs": [
    {
     "data": {
      "text/html": [
       "<table><tr><th>&nbsp;</th><th>core type</th><th>sub-expressions</th><th>expression</th></tr>\n",
       "<tr><td>0</td><td>Operation</td><td>operator:&nbsp;1<br>operands:&nbsp;2<br></td><td><a class=\"ProveItLink\" href=\"expr.ipynb\"><img src=\"expr.png\" style=\"display:inline;vertical-align:middle;\" /></a></td></tr>\n",
       "<tr><td>1</td><td>Literal</td><td></td><td><a class=\"ProveItLink\" href=\"../../../../../logic/equality/__pv_it/common/fb96dc12b2aa8801dda64d0132b396c63d1502bb0/expr.ipynb\"><img src=\"../../../../../logic/equality/__pv_it/common/fb96dc12b2aa8801dda64d0132b396c63d1502bb0/expr.png\" style=\"display:inline;vertical-align:middle;\" /></a></td></tr>\n",
       "<tr><td>2</td><td>ExprTuple</td><td>3, 4</td><td><a class=\"ProveItLink\" href=\"../3be95135cf43134a753f1c44e6e2170637edb97b0/expr.ipynb\"><img src=\"../3be95135cf43134a753f1c44e6e2170637edb97b0/expr.png\" style=\"display:inline;vertical-align:middle;\" /></a></td></tr>\n",
       "<tr><td>3</td><td>Operation</td><td>operator:&nbsp;21<br>operands:&nbsp;5<br></td><td><a class=\"ProveItLink\" href=\"../d136a473b18f2b575ef4ea8406f12615aa8fe6670/expr.ipynb\"><img src=\"../d136a473b18f2b575ef4ea8406f12615aa8fe6670/expr.png\" style=\"display:inline;vertical-align:middle;\" /></a></td></tr>\n",
       "<tr><td>4</td><td>Operation</td><td>operator:&nbsp;9<br>operand:&nbsp;8<br></td><td><a class=\"ProveItLink\" href=\"../7a2898e1b7cf8fb400e0ab1507913d186ff81b610/expr.ipynb\"><img src=\"../7a2898e1b7cf8fb400e0ab1507913d186ff81b610/expr.png\" style=\"display:inline;vertical-align:middle;\" /></a></td></tr>\n",
       "<tr><td>5</td><td>ExprTuple</td><td>24, 7, 26</td><td><a class=\"ProveItLink\" href=\"../30832676d8c9d9a09f72f8bac636bc780eb625a80/expr.ipynb\"><img src=\"../30832676d8c9d9a09f72f8bac636bc780eb625a80/expr.png\" style=\"display:inline;vertical-align:middle;\" /></a></td></tr>\n",
       "<tr><td>6</td><td>ExprTuple</td><td>8</td><td><a class=\"ProveItLink\" href=\"../4233c3c55e84ce476e6fd779b4fc30aecbc70f040/expr.ipynb\"><img src=\"../4233c3c55e84ce476e6fd779b4fc30aecbc70f040/expr.png\" style=\"display:inline;vertical-align:middle;\" /></a></td></tr>\n",
       "<tr><td>7</td><td>Operation</td><td>operator:&nbsp;9<br>operand:&nbsp;12<br></td><td><a class=\"ProveItLink\" href=\"../d67d02c65f0e9db87852c1f7b452045cd3487e8a0/expr.ipynb\"><img src=\"../d67d02c65f0e9db87852c1f7b452045cd3487e8a0/expr.png\" style=\"display:inline;vertical-align:middle;\" /></a></td></tr>\n",
       "<tr><td>8</td><td>Operation</td><td>operator:&nbsp;14<br>operands:&nbsp;11<br></td><td><a class=\"ProveItLink\" href=\"../da4395aa0c05dbc9d79998afc28e7c7f24ed52660/expr.ipynb\"><img src=\"../da4395aa0c05dbc9d79998afc28e7c7f24ed52660/expr.png\" style=\"display:inline;vertical-align:middle;\" /></a></td></tr>\n",
       "<tr><td>9</td><td>Literal</td><td></td><td><a class=\"ProveItLink\" href=\"../../../../absolute_value/__pv_it/common/eea56c667bc0aad2dc76ed04b44c2bd98b94005f0/expr.ipynb\"><img src=\"../../../../absolute_value/__pv_it/common/eea56c667bc0aad2dc76ed04b44c2bd98b94005f0/expr.png\" style=\"display:inline;vertical-align:middle;\" /></a></td></tr>\n",
       "<tr><td>10</td><td>ExprTuple</td><td>12</td><td><a class=\"ProveItLink\" href=\"../5b0576adfb8e8911f3f00da5652d3c6daad959590/expr.ipynb\"><img src=\"../5b0576adfb8e8911f3f00da5652d3c6daad959590/expr.png\" style=\"display:inline;vertical-align:middle;\" /></a></td></tr>\n",
       "<tr><td>11</td><td>ExprTuple</td><td>13</td><td><a class=\"ProveItLink\" href=\"../3901b1ddd73b7c45a41f9c06642654a4642e1b8f0/expr.ipynb\"><img src=\"../3901b1ddd73b7c45a41f9c06642654a4642e1b8f0/expr.png\" style=\"display:inline;vertical-align:middle;\" /></a></td></tr>\n",
       "<tr><td>12</td><td>Operation</td><td>operator:&nbsp;14<br>operands:&nbsp;15<br></td><td><a class=\"ProveItLink\" href=\"../27c663c7b90415fac24dcaabb1c2f80ed9d879150/expr.ipynb\"><img src=\"../27c663c7b90415fac24dcaabb1c2f80ed9d879150/expr.png\" style=\"display:inline;vertical-align:middle;\" /></a></td></tr>\n",
       "<tr><td>13</td><td>ExprRange</td><td>lambda_map:&nbsp;16<br>start_index:&nbsp;32<br>end_index:&nbsp;20<br></td><td><a class=\"ProveItLink\" href=\"../212d173b2d239274c4aef913cc31bc622959bb9c0/expr.ipynb\"><img src=\"../212d173b2d239274c4aef913cc31bc622959bb9c0/expr.png\" style=\"display:inline;vertical-align:middle;\" /></a></td></tr>\n",
       "<tr><td>14</td><td>Literal</td><td></td><td><a class=\"ProveItLink\" href=\"../../../../addition/__pv_it/common/4b7effaab3619a1c2c38fe2dee8601df8ec714590/expr.ipynb\"><img src=\"../../../../addition/__pv_it/common/4b7effaab3619a1c2c38fe2dee8601df8ec714590/expr.png\" style=\"display:inline;vertical-align:middle;\" /></a></td></tr>\n",
       "<tr><td>15</td><td>ExprTuple</td><td>17</td><td><a class=\"ProveItLink\" href=\"../../../../summation/__pv_it/common/012c9f5d21ff973afec8993018a8748215a3332a0/expr.ipynb\"><img src=\"../../../../summation/__pv_it/common/012c9f5d21ff973afec8993018a8748215a3332a0/expr.png\" style=\"display:inline;vertical-align:middle;\" /></a></td></tr>\n",
       "<tr><td>16</td><td>Lambda</td><td>parameter:&nbsp;35<br>body:&nbsp;18<br></td><td><a class=\"ProveItLink\" href=\"../51780bd988884e0b7b745ec1d43b6fd11cfacbe70/expr.ipynb\"><img src=\"../51780bd988884e0b7b745ec1d43b6fd11cfacbe70/expr.png\" style=\"display:inline;vertical-align:middle;\" /></a></td></tr>\n",
       "<tr><td>17</td><td>ExprRange</td><td>lambda_map:&nbsp;19<br>start_index:&nbsp;32<br>end_index:&nbsp;20<br></td><td><a class=\"ProveItLink\" href=\"../../../../../core_expr_types/__pv_it/common/d0e70829681f7e0560cecc174fdf76cb311d43400/expr.ipynb\"><img src=\"../../../../../core_expr_types/__pv_it/common/d0e70829681f7e0560cecc174fdf76cb311d43400/expr.png\" style=\"display:inline;vertical-align:middle;\" /></a></td></tr>\n",
       "<tr><td>18</td><td>Operation</td><td>operator:&nbsp;21<br>operands:&nbsp;22<br></td><td><a class=\"ProveItLink\" href=\"../c28c78990fe3f7dedb2983a5eb4c1ccc5fe8327e0/expr.ipynb\"><img src=\"../c28c78990fe3f7dedb2983a5eb4c1ccc5fe8327e0/expr.png\" style=\"display:inline;vertical-align:middle;\" /></a></td></tr>\n",
       "<tr><td>19</td><td>Lambda</td><td>parameter:&nbsp;40<br>body:&nbsp;23<br></td><td><a class=\"ProveItLink\" href=\"../../../../../core_expr_types/__pv_it/common/d763764ede9c88a33f4b750791da02d1a21cb6820/expr.ipynb\"><img src=\"../../../../../core_expr_types/__pv_it/common/d763764ede9c88a33f4b750791da02d1a21cb6820/expr.png\" style=\"display:inline;vertical-align:middle;\" /></a></td></tr>\n",
       "<tr><td>20</td><td>Variable</td><td></td><td><a class=\"ProveItLink\" href=\"../../../../../__pv_it/common/1ed21df18baca2f42b561a7ffbf30a2743d594650/expr.ipynb\"><img src=\"../../../../../__pv_it/common/1ed21df18baca2f42b561a7ffbf30a2743d594650/expr.png\" style=\"display:inline;vertical-align:middle;\" /></a></td></tr>\n",
       "<tr><td>21</td><td>Literal</td><td></td><td><a class=\"ProveItLink\" href=\"../../common/ed719cef37831779c16481533a4d380a2f95ab270/expr.ipynb\"><img src=\"../../common/ed719cef37831779c16481533a4d380a2f95ab270/expr.png\" style=\"display:inline;vertical-align:middle;\" /></a></td></tr>\n",
       "<tr><td>22</td><td>ExprTuple</td><td>24, 25, 26</td><td><a class=\"ProveItLink\" href=\"../7cf31e9c646cd1c91afabd57b3d36957e70ff2d40/expr.ipynb\"><img src=\"../7cf31e9c646cd1c91afabd57b3d36957e70ff2d40/expr.png\" style=\"display:inline;vertical-align:middle;\" /></a></td></tr>\n",
       "<tr><td>23</td><td>IndexedVar</td><td>variable:&nbsp;29<br>index:&nbsp;40<br></td><td><a class=\"ProveItLink\" href=\"../../../../../core_expr_types/__pv_it/common/8542342c36565a593724a99f9c08d995c1c21af20/expr.ipynb\"><img src=\"../../../../../core_expr_types/__pv_it/common/8542342c36565a593724a99f9c08d995c1c21af20/expr.png\" style=\"display:inline;vertical-align:middle;\" /></a></td></tr>\n",
       "<tr><td>24</td><td>ExprRange</td><td>lambda_map:&nbsp;27<br>start_index:&nbsp;32<br>end_index:&nbsp;28<br></td><td><a class=\"ProveItLink\" href=\"../../../../../core_expr_types/__pv_it/common/7230c683fcd56948c826ac1be71b01b6fb2913950/expr.ipynb\"><img src=\"../../../../../core_expr_types/__pv_it/common/7230c683fcd56948c826ac1be71b01b6fb2913950/expr.png\" style=\"display:inline;vertical-align:middle;\" /></a></td></tr>\n",
       "<tr><td>25</td><td>IndexedVar</td><td>variable:&nbsp;29<br>index:&nbsp;35<br></td><td><a class=\"ProveItLink\" href=\"../145e9b9617e48ccba4d6d4045710832f30f68a9d0/expr.ipynb\"><img src=\"../145e9b9617e48ccba4d6d4045710832f30f68a9d0/expr.png\" style=\"display:inline;vertical-align:middle;\" /></a></td></tr>\n",
       "<tr><td>26</td><td>ExprRange</td><td>lambda_map:&nbsp;31<br>start_index:&nbsp;32<br>end_index:&nbsp;33<br></td><td><a class=\"ProveItLink\" href=\"../../../../../core_expr_types/__pv_it/common/847fd9e18bcb1cd068c4b44622f3fd12a6ad6a150/expr.ipynb\"><img src=\"../../../../../core_expr_types/__pv_it/common/847fd9e18bcb1cd068c4b44622f3fd12a6ad6a150/expr.png\" style=\"display:inline;vertical-align:middle;\" /></a></td></tr>\n",
       "<tr><td>27</td><td>Lambda</td><td>parameter:&nbsp;40<br>body:&nbsp;34<br></td><td><a class=\"ProveItLink\" href=\"../../../../../core_expr_types/__pv_it/common/1527ad383e12f9c6ed6b371c9a7dd1892d80da1b0/expr.ipynb\"><img src=\"../../../../../core_expr_types/__pv_it/common/1527ad383e12f9c6ed6b371c9a7dd1892d80da1b0/expr.png\" style=\"display:inline;vertical-align:middle;\" /></a></td></tr>\n",
       "<tr><td>28</td><td>Variable</td><td></td><td><a class=\"ProveItLink\" href=\"../../../../../__pv_it/common/ae955345c83abf786c3aff8681cd5465beae262d0/expr.ipynb\"><img src=\"../../../../../__pv_it/common/ae955345c83abf786c3aff8681cd5465beae262d0/expr.png\" style=\"display:inline;vertical-align:middle;\" /></a></td></tr>\n",
       "<tr><td>29</td><td>Variable</td><td></td><td><a class=\"ProveItLink\" href=\"../../../../../__pv_it/common/195236b98c6c564a75b5dbada74b173bc52d5c3e0/expr.ipynb\"><img src=\"../../../../../__pv_it/common/195236b98c6c564a75b5dbada74b173bc52d5c3e0/expr.png\" style=\"display:inline;vertical-align:middle;\" /></a></td></tr>\n",
       "<tr><td>30</td><td>ExprTuple</td><td>35</td><td><a class=\"ProveItLink\" href=\"../18f7318b68e45ff8356043b6e71619fa8450fb200/expr.ipynb\"><img src=\"../18f7318b68e45ff8356043b6e71619fa8450fb200/expr.png\" style=\"display:inline;vertical-align:middle;\" /></a></td></tr>\n",
       "<tr><td>31</td><td>Lambda</td><td>parameter:&nbsp;40<br>body:&nbsp;36<br></td><td><a class=\"ProveItLink\" href=\"../../../../../core_expr_types/__pv_it/common/89a29b5b02ce6c37577f6352274a3d503dcdde3e0/expr.ipynb\"><img src=\"../../../../../core_expr_types/__pv_it/common/89a29b5b02ce6c37577f6352274a3d503dcdde3e0/expr.png\" style=\"display:inline;vertical-align:middle;\" /></a></td></tr>\n",
       "<tr><td>32</td><td>Literal</td><td></td><td><a class=\"ProveItLink\" href=\"../../../../numerals/__pv_it/common/682157d4892d216d9e5626ed533aff9b56b9506e0/expr.ipynb\"><img src=\"../../../../numerals/__pv_it/common/682157d4892d216d9e5626ed533aff9b56b9506e0/expr.png\" style=\"display:inline;vertical-align:middle;\" /></a></td></tr>\n",
       "<tr><td>33</td><td>Variable</td><td></td><td><a class=\"ProveItLink\" href=\"../../../../../__pv_it/common/63b7c64bf9ec7a04ecc396c7a1670f3f12fb59490/expr.ipynb\"><img src=\"../../../../../__pv_it/common/63b7c64bf9ec7a04ecc396c7a1670f3f12fb59490/expr.png\" style=\"display:inline;vertical-align:middle;\" /></a></td></tr>\n",
       "<tr><td>34</td><td>IndexedVar</td><td>variable:&nbsp;37<br>index:&nbsp;40<br></td><td><a class=\"ProveItLink\" href=\"../../../../../core_expr_types/__pv_it/common/3a62c13e156d62d52fe585fa37cc2172fcf685260/expr.ipynb\"><img src=\"../../../../../core_expr_types/__pv_it/common/3a62c13e156d62d52fe585fa37cc2172fcf685260/expr.png\" style=\"display:inline;vertical-align:middle;\" /></a></td></tr>\n",
       "<tr><td>35</td><td>Variable</td><td></td><td><a class=\"ProveItLink\" href=\"../9a18d67b443cf8d92289c655ed91ec78766170a90/expr.ipynb\"><img src=\"../9a18d67b443cf8d92289c655ed91ec78766170a90/expr.png\" style=\"display:inline;vertical-align:middle;\" /></a></td></tr>\n",
       "<tr><td>36</td><td>IndexedVar</td><td>variable:&nbsp;38<br>index:&nbsp;40<br></td><td><a class=\"ProveItLink\" href=\"../../../../../core_expr_types/__pv_it/common/8ffbefe913f7c934b2e3a2a12315d5900822d9d00/expr.ipynb\"><img src=\"../../../../../core_expr_types/__pv_it/common/8ffbefe913f7c934b2e3a2a12315d5900822d9d00/expr.png\" style=\"display:inline;vertical-align:middle;\" /></a></td></tr>\n",
       "<tr><td>37</td><td>Variable</td><td></td><td><a class=\"ProveItLink\" href=\"../../../../../__pv_it/common/c06c606ec12678c58933ac85412ecadc2ae28be60/expr.ipynb\"><img src=\"../../../../../__pv_it/common/c06c606ec12678c58933ac85412ecadc2ae28be60/expr.png\" style=\"display:inline;vertical-align:middle;\" /></a></td></tr>\n",
       "<tr><td>38</td><td>Variable</td><td></td><td><a class=\"ProveItLink\" href=\"../../../../../__pv_it/common/ceef4280a2f1cc604b455b54e735507244cc62cd0/expr.ipynb\"><img src=\"../../../../../__pv_it/common/ceef4280a2f1cc604b455b54e735507244cc62cd0/expr.png\" style=\"display:inline;vertical-align:middle;\" /></a></td></tr>\n",
       "<tr><td>39</td><td>ExprTuple</td><td>40</td><td><a class=\"ProveItLink\" href=\"../../../../../core_expr_types/__pv_it/common/4b0dd6be36d76552eda6a95d5b4a27f5a5b62f900/expr.ipynb\"><img src=\"../../../../../core_expr_types/__pv_it/common/4b0dd6be36d76552eda6a95d5b4a27f5a5b62f900/expr.png\" style=\"display:inline;vertical-align:middle;\" /></a></td></tr>\n",
       "<tr><td>40</td><td>Variable</td><td></td><td><a class=\"ProveItLink\" href=\"../../../../../core_expr_types/__pv_it/common/006c465e50948aa2b52285e2de47974f741255cc0/expr.ipynb\"><img src=\"../../../../../core_expr_types/__pv_it/common/006c465e50948aa2b52285e2de47974f741255cc0/expr.png\" style=\"display:inline;vertical-align:middle;\" /></a></td></tr>\n",
       "</table>\n"
      ],
      "text/plain": [
       "0. (a_{1} *  a_{2} *  ... *  a_{i} * |b_{1} +  b_{2} +  ... +  b_{j}|* c_{1} *  c_{2} *  ... *  c_{k}) =  \\\\ |(a_{1} *  a_{2} *  ... *  a_{i} * b_{1}* c_{1} *  c_{2} *  ... *  c_{k}) +  (a_{1} *  a_{2} *  ... *  a_{i} * b_{2}* c_{1} *  c_{2} *  ... *  c_{k}) +  ... +  (a_{1} *  a_{2} *  ... *  a_{i} * b_{j}* c_{1} *  c_{2} *  ... *  c_{k})|\n",
       "   core type: Operation\n",
       "   operator: 1\n",
       "   operands: 2\n",
       "1. =\n",
       "   core type: Literal\n",
       "   sub-expressions: \n",
       "2. (a_{1} *  a_{2} *  ... *  a_{i} * |b_{1} +  b_{2} +  ... +  b_{j}|* c_{1} *  c_{2} *  ... *  c_{k}, |(a_{1} *  a_{2} *  ... *  a_{i} * b_{1}* c_{1} *  c_{2} *  ... *  c_{k}) +  (a_{1} *  a_{2} *  ... *  a_{i} * b_{2}* c_{1} *  c_{2} *  ... *  c_{k}) +  ... +  (a_{1} *  a_{2} *  ... *  a_{i} * b_{j}* c_{1} *  c_{2} *  ... *  c_{k})|)\n",
       "   core type: ExprTuple\n",
       "   sub-expressions: 3, 4\n",
       "3. a_{1} *  a_{2} *  ... *  a_{i} * |b_{1} +  b_{2} +  ... +  b_{j}|* c_{1} *  c_{2} *  ... *  c_{k}\n",
       "   core type: Operation\n",
       "   operator: 21\n",
       "   operands: 5\n",
       "4. |(a_{1} *  a_{2} *  ... *  a_{i} * b_{1}* c_{1} *  c_{2} *  ... *  c_{k}) +  (a_{1} *  a_{2} *  ... *  a_{i} * b_{2}* c_{1} *  c_{2} *  ... *  c_{k}) +  ... +  (a_{1} *  a_{2} *  ... *  a_{i} * b_{j}* c_{1} *  c_{2} *  ... *  c_{k})|\n",
       "   core type: Operation\n",
       "   operator: 9\n",
       "   operand: 8\n",
       "5. (a_{1}, a_{2}, ..., a_{i}, |b_{1} +  b_{2} +  ... +  b_{j}|,c_{1}, c_{2}, ..., c_{k})\n",
       "   core type: ExprTuple\n",
       "   sub-expressions: 24, 7, 26\n",
       "6. ((a_{1} *  a_{2} *  ... *  a_{i} * b_{1}* c_{1} *  c_{2} *  ... *  c_{k}) +  (a_{1} *  a_{2} *  ... *  a_{i} * b_{2}* c_{1} *  c_{2} *  ... *  c_{k}) +  ... +  (a_{1} *  a_{2} *  ... *  a_{i} * b_{j}* c_{1} *  c_{2} *  ... *  c_{k}))\n",
       "   core type: ExprTuple\n",
       "   sub-expressions: 8\n",
       "7. |b_{1} +  b_{2} +  ... +  b_{j}|\n",
       "   core type: Operation\n",
       "   operator: 9\n",
       "   operand: 12\n",
       "8. (a_{1} *  a_{2} *  ... *  a_{i} * b_{1}* c_{1} *  c_{2} *  ... *  c_{k}) +  (a_{1} *  a_{2} *  ... *  a_{i} * b_{2}* c_{1} *  c_{2} *  ... *  c_{k}) +  ... +  (a_{1} *  a_{2} *  ... *  a_{i} * b_{j}* c_{1} *  c_{2} *  ... *  c_{k})\n",
       "   core type: Operation\n",
       "   operator: 14\n",
       "   operands: 11\n",
       "9. Abs\n",
       "   core type: Literal\n",
       "   sub-expressions: \n",
       "10. (b_{1} +  b_{2} +  ... +  b_{j})\n",
       "    core type: ExprTuple\n",
       "    sub-expressions: 12\n",
       "11. ((a_{1} *  a_{2} *  ... *  a_{i} * b_{1}* c_{1} *  c_{2} *  ... *  c_{k}), (a_{1} *  a_{2} *  ... *  a_{i} * b_{2}* c_{1} *  c_{2} *  ... *  c_{k}), ..., (a_{1} *  a_{2} *  ... *  a_{i} * b_{j}* c_{1} *  c_{2} *  ... *  c_{k}))\n",
       "    core type: ExprTuple\n",
       "    sub-expressions: 13\n",
       "12. b_{1} +  b_{2} +  ... +  b_{j}\n",
       "    core type: Operation\n",
       "    operator: 14\n",
       "    operands: 15\n",
       "13. (a_{1} *  a_{2} *  ... *  a_{i} * b_{1}* c_{1} *  c_{2} *  ... *  c_{k}), (a_{1} *  a_{2} *  ... *  a_{i} * b_{2}* c_{1} *  c_{2} *  ... *  c_{k}), ..., (a_{1} *  a_{2} *  ... *  a_{i} * b_{j}* c_{1} *  c_{2} *  ... *  c_{k})\n",
       "    core type: ExprRange\n",
       "    lambda_map: 16\n",
       "    start_index: 32\n",
       "    end_index: 20\n",
       "14. +\n",
       "    core type: Literal\n",
       "    sub-expressions: \n",
       "15. (b_{1}, b_{2}, ..., b_{j})\n",
       "    core type: ExprTuple\n",
       "    sub-expressions: 17\n",
       "16. _b -> (a_{1} *  a_{2} *  ... *  a_{i} * b_{_b}* c_{1} *  c_{2} *  ... *  c_{k})\n",
       "    core type: Lambda\n",
       "    parameter: 35\n",
       "    body: 18\n",
       "17. b_{1}, b_{2}, ..., b_{j}\n",
       "    core type: ExprRange\n",
       "    lambda_map: 19\n",
       "    start_index: 32\n",
       "    end_index: 20\n",
       "18. a_{1} *  a_{2} *  ... *  a_{i} * b_{_b}* c_{1} *  c_{2} *  ... *  c_{k}\n",
       "    core type: Operation\n",
       "    operator: 21\n",
       "    operands: 22\n",
       "19. _a -> b_{_a}\n",
       "    core type: Lambda\n",
       "    parameter: 40\n",
       "    body: 23\n",
       "20. j\n",
       "    core type: Variable\n",
       "    sub-expressions: \n",
       "21. *\n",
       "    core type: Literal\n",
       "    sub-expressions: \n",
       "22. (a_{1}, a_{2}, ..., a_{i}, b_{_b},c_{1}, c_{2}, ..., c_{k})\n",
       "    core type: ExprTuple\n",
       "    sub-expressions: 24, 25, 26\n",
       "23. b_{_a}\n",
       "    core type: IndexedVar\n",
       "variable: 29\n",
       "index: 40\n",
       "24. a_{1}, a_{2}, ..., a_{i}\n",
       "    core type: ExprRange\n",
       "    lambda_map: 27\n",
       "    start_index: 32\n",
       "    end_index: 28\n",
       "25. b_{_b}\n",
       "    core type: IndexedVar\n",
       "variable: 29\n",
       "index: 35\n",
       "26. c_{1}, c_{2}, ..., c_{k}\n",
       "    core type: ExprRange\n",
       "    lambda_map: 31\n",
       "    start_index: 32\n",
       "    end_index: 33\n",
       "27. _a -> a_{_a}\n",
       "    core type: Lambda\n",
       "    parameter: 40\n",
       "    body: 34\n",
       "28. i\n",
       "    core type: Variable\n",
       "    sub-expressions: \n",
       "29. b\n",
       "    core type: Variable\n",
       "    sub-expressions: \n",
       "30. (_b)\n",
       "    core type: ExprTuple\n",
       "    sub-expressions: 35\n",
       "31. _a -> c_{_a}\n",
       "    core type: Lambda\n",
       "    parameter: 40\n",
       "    body: 36\n",
       "32. 1\n",
       "    core type: Literal\n",
       "    sub-expressions: \n",
       "33. k\n",
       "    core type: Variable\n",
       "    sub-expressions: \n",
       "34. a_{_a}\n",
       "    core type: IndexedVar\n",
       "variable: 37\n",
       "index: 40\n",
       "35. _b\n",
       "    core type: Variable\n",
       "    sub-expressions: \n",
       "36. c_{_a}\n",
       "    core type: IndexedVar\n",
       "variable: 38\n",
       "index: 40\n",
       "37. a\n",
       "    core type: Variable\n",
       "    sub-expressions: \n",
       "38. c\n",
       "    core type: Variable\n",
       "    sub-expressions: \n",
       "39. (_a)\n",
       "    core type: ExprTuple\n",
       "    sub-expressions: 40\n",
       "40. _a\n",
       "    core type: Variable\n",
       "    sub-expressions: "
      ]
     },
     "metadata": {},
     "output_type": "display_data"
    }
   ],
   "source": [
    "# display the expression information\n",
    "stored_expr.expr_info()"
   ]
  },
  {
   "cell_type": "code",
   "execution_count": null,
   "metadata": {},
   "outputs": [],
   "source": []
  }
 ],
 "metadata": {
  "kernelspec": {
   "display_name": "Python 3",
   "language": "python",
   "name": "python3"
  }
 },
 "nbformat": 4,
 "nbformat_minor": 0
}