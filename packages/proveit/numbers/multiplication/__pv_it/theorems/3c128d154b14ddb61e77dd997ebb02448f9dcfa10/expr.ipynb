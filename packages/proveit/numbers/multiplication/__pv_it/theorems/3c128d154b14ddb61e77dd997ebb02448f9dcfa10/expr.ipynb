{
 "cells": [
  {
   "cell_type": "markdown",
   "metadata": {},
   "source": [
    "Expression of type <a class=\"ProveItLink\" href=\"../../../../../../../doc/html/api/proveit.logic.Equals.html\">Equals</a>\n",
    "=======================\n",
    "# from the theory of <a class=\"ProveItLink\" href=\"../../../_theory_nbs_/theory.ipynb\">proveit.numbers.multiplication</a>"
   ]
  },
  {
   "cell_type": "code",
   "execution_count": 1,
   "metadata": {},
   "outputs": [],
   "source": [
    "import proveit\n",
    "# Automation is not needed when building an expression:\n",
    "proveit.defaults.automation = False # This will speed things up.\n",
    "proveit.defaults.inline_pngs = False # Makes files smaller.\n",
    "%load_expr # Load the stored expression as 'stored_expr'\n",
    "# import Expression classes needed to build the expression\n",
    "from proveit import b\n",
    "from proveit.core_expr_types import a_1_to_i, c_1_to_j\n",
    "from proveit.logic import Equals\n",
    "from proveit.numbers import Mult, Neg"
   ]
  },
  {
   "cell_type": "code",
   "execution_count": 2,
   "metadata": {},
   "outputs": [
    {
     "data": {
      "text/html": [
       "<strong id=\"expr\">expr:</strong> <a class=\"ProveItLink\" href=\"expr.ipynb\"><img src=\"expr.png\" style=\"display:inline;vertical-align:middle;\" /></a><br>"
      ],
      "text/plain": [
       "<IPython.core.display.HTML object>"
      ]
     },
     "metadata": {},
     "output_type": "display_data"
    }
   ],
   "source": [
    "# build up the expression from sub-expressions\n",
    "expr = Equals(Neg(Mult(a_1_to_i, Neg(b), c_1_to_j)), Mult(a_1_to_i, b, c_1_to_j))"
   ]
  },
  {
   "cell_type": "code",
   "execution_count": 3,
   "metadata": {},
   "outputs": [
    {
     "name": "stdout",
     "output_type": "stream",
     "text": [
      "Passed sanity check: expr matches stored_expr\n"
     ]
    }
   ],
   "source": [
    "# check that the built expression is the same as the stored expression\n",
    "assert expr == stored_expr\n",
    "assert expr._style_id == stored_expr._style_id\n",
    "print(\"Passed sanity check: expr matches stored_expr\")"
   ]
  },
  {
   "cell_type": "code",
   "execution_count": 4,
   "metadata": {},
   "outputs": [
    {
     "name": "stdout",
     "output_type": "stream",
     "text": [
      "\\left(-\\left(a_{1} \\cdot  a_{2} \\cdot  \\ldots \\cdot  a_{i} \\cdot \\left(-b\\right)\\cdot c_{1} \\cdot  c_{2} \\cdot  \\ldots \\cdot  c_{j}\\right)\\right) = \\left(a_{1} \\cdot  a_{2} \\cdot  \\ldots \\cdot  a_{i} \\cdot b\\cdot c_{1} \\cdot  c_{2} \\cdot  \\ldots \\cdot  c_{j}\\right)\n"
     ]
    }
   ],
   "source": [
    "# Show the LaTeX representation of the expression for convenience if you need it.\n",
    "print(stored_expr.latex())"
   ]
  },
  {
   "cell_type": "code",
   "execution_count": 5,
   "metadata": {},
   "outputs": [
    {
     "data": {
      "text/html": [
       "<table>\n",
       "<tr><th>name</th><th>description</th><th>default</th><th>current value</th><th>related methods</th></tr><tr><td>operation</td><td>'infix' or 'function' style formatting</td><td>infix</td><td>infix</td><td></td></tr>\n",
       "<tr><td>wrap_positions</td><td>position(s) at which wrapping is to occur; '2 n - 1' is after the nth operand, '2 n' is after the nth operation.</td><td>()</td><td>()</td><td>('with_wrapping_at', 'with_wrap_before_operator', 'with_wrap_after_operator', 'without_wrapping', 'wrap_positions')</td></tr>\n",
       "<tr><td>justification</td><td>if any wrap positions are set, justify to the 'left', 'center', or 'right'</td><td>center</td><td>center</td><td>('with_justification',)</td></tr>\n",
       "<tr><td>direction</td><td>Direction of the relation (normal or reversed)</td><td>normal</td><td>normal</td><td>('with_direction_reversed', 'is_reversed')</td></tr>\n",
       "</table>\n"
      ],
      "text/plain": [
       "style name: operation\n",
       "description: 'infix' or 'function' style formatting\n",
       "default: infix\n",
       "current value: infix\n",
       "related methods: ()\n",
       "style name: wrap_positions\n",
       "description: position(s) at which wrapping is to occur; '2 n - 1' is after the nth operand, '2 n' is after the nth operation.\n",
       "default: ()\n",
       "current value: ()\n",
       "related methods: ('with_wrapping_at', 'with_wrap_before_operator', 'with_wrap_after_operator', 'without_wrapping', 'wrap_positions')\n",
       "style name: justification\n",
       "description: if any wrap positions are set, justify to the 'left', 'center', or 'right'\n",
       "default: center\n",
       "current value: center\n",
       "related methods: ('with_justification',)\n",
       "style name: direction\n",
       "description: Direction of the relation (normal or reversed)\n",
       "default: normal\n",
       "current value: normal\n",
       "related methods: ('with_direction_reversed', 'is_reversed')"
      ]
     },
     "metadata": {},
     "output_type": "display_data"
    }
   ],
   "source": [
    "stored_expr.style_options()"
   ]
  },
  {
   "cell_type": "code",
   "execution_count": 6,
   "metadata": {},
   "outputs": [
    {
     "data": {
      "text/html": [
       "<table><tr><th>&nbsp;</th><th>core type</th><th>sub-expressions</th><th>expression</th></tr>\n",
       "<tr><td>0</td><td>Operation</td><td>operator:&nbsp;1<br>operands:&nbsp;2<br></td><td><a class=\"ProveItLink\" href=\"expr.ipynb\"><img src=\"expr.png\" style=\"display:inline;vertical-align:middle;\" /></a></td></tr>\n",
       "<tr><td>1</td><td>Literal</td><td></td><td><a class=\"ProveItLink\" href=\"../../../../../logic/equality/__pv_it/common/fb96dc12b2aa8801dda64d0132b396c63d1502bb0/expr.ipynb\"><img src=\"../../../../../logic/equality/__pv_it/common/fb96dc12b2aa8801dda64d0132b396c63d1502bb0/expr.png\" style=\"display:inline;vertical-align:middle;\" /></a></td></tr>\n",
       "<tr><td>2</td><td>ExprTuple</td><td>3, 4</td><td><a class=\"ProveItLink\" href=\"../be8ca6472458cf4da375ec6f8bec9118f66391f00/expr.ipynb\"><img src=\"../be8ca6472458cf4da375ec6f8bec9118f66391f00/expr.png\" style=\"display:inline;vertical-align:middle;\" /></a></td></tr>\n",
       "<tr><td>3</td><td>Operation</td><td>operator:&nbsp;15<br>operand:&nbsp;7<br></td><td><a class=\"ProveItLink\" href=\"../a92828d923f122de94b425d0889373e5c8b792290/expr.ipynb\"><img src=\"../a92828d923f122de94b425d0889373e5c8b792290/expr.png\" style=\"display:inline;vertical-align:middle;\" /></a></td></tr>\n",
       "<tr><td>4</td><td>Operation</td><td>operator:&nbsp;8<br>operands:&nbsp;6<br></td><td><a class=\"ProveItLink\" href=\"../8e59676d1419f4f08f2cbf4c28e23a49ee0cca770/expr.ipynb\"><img src=\"../8e59676d1419f4f08f2cbf4c28e23a49ee0cca770/expr.png\" style=\"display:inline;vertical-align:middle;\" /></a></td></tr>\n",
       "<tr><td>5</td><td>ExprTuple</td><td>7</td><td><a class=\"ProveItLink\" href=\"../a2e423d3669dccd926e6b32767b1785af5d108b70/expr.ipynb\"><img src=\"../a2e423d3669dccd926e6b32767b1785af5d108b70/expr.png\" style=\"display:inline;vertical-align:middle;\" /></a></td></tr>\n",
       "<tr><td>6</td><td>ExprTuple</td><td>10, 21, 12</td><td><a class=\"ProveItLink\" href=\"../d84a0b397d95592bd7106c405306a567e64b1ad30/expr.ipynb\"><img src=\"../d84a0b397d95592bd7106c405306a567e64b1ad30/expr.png\" style=\"display:inline;vertical-align:middle;\" /></a></td></tr>\n",
       "<tr><td>7</td><td>Operation</td><td>operator:&nbsp;8<br>operands:&nbsp;9<br></td><td><a class=\"ProveItLink\" href=\"../fa20d8e85555b97981af2da5dbbac20947ca08cb0/expr.ipynb\"><img src=\"../fa20d8e85555b97981af2da5dbbac20947ca08cb0/expr.png\" style=\"display:inline;vertical-align:middle;\" /></a></td></tr>\n",
       "<tr><td>8</td><td>Literal</td><td></td><td><a class=\"ProveItLink\" href=\"../../common/ed719cef37831779c16481533a4d380a2f95ab270/expr.ipynb\"><img src=\"../../common/ed719cef37831779c16481533a4d380a2f95ab270/expr.png\" style=\"display:inline;vertical-align:middle;\" /></a></td></tr>\n",
       "<tr><td>9</td><td>ExprTuple</td><td>10, 11, 12</td><td><a class=\"ProveItLink\" href=\"../1433c088d0cb4814b0fd29f412c4262706ec01850/expr.ipynb\"><img src=\"../1433c088d0cb4814b0fd29f412c4262706ec01850/expr.png\" style=\"display:inline;vertical-align:middle;\" /></a></td></tr>\n",
       "<tr><td>10</td><td>ExprRange</td><td>lambda_map:&nbsp;13<br>start_index:&nbsp;18<br>end_index:&nbsp;14<br></td><td><a class=\"ProveItLink\" href=\"../../../../../core_expr_types/__pv_it/common/7230c683fcd56948c826ac1be71b01b6fb2913950/expr.ipynb\"><img src=\"../../../../../core_expr_types/__pv_it/common/7230c683fcd56948c826ac1be71b01b6fb2913950/expr.png\" style=\"display:inline;vertical-align:middle;\" /></a></td></tr>\n",
       "<tr><td>11</td><td>Operation</td><td>operator:&nbsp;15<br>operand:&nbsp;21<br></td><td><a class=\"ProveItLink\" href=\"../c216ece09f1f63dbbdaff75b3e8b87340ddef1330/expr.ipynb\"><img src=\"../c216ece09f1f63dbbdaff75b3e8b87340ddef1330/expr.png\" style=\"display:inline;vertical-align:middle;\" /></a></td></tr>\n",
       "<tr><td>12</td><td>ExprRange</td><td>lambda_map:&nbsp;17<br>start_index:&nbsp;18<br>end_index:&nbsp;19<br></td><td><a class=\"ProveItLink\" href=\"../../../../../core_expr_types/__pv_it/common/197f625500e1374c769a9a88f526b5b80f714d350/expr.ipynb\"><img src=\"../../../../../core_expr_types/__pv_it/common/197f625500e1374c769a9a88f526b5b80f714d350/expr.png\" style=\"display:inline;vertical-align:middle;\" /></a></td></tr>\n",
       "<tr><td>13</td><td>Lambda</td><td>parameter:&nbsp;26<br>body:&nbsp;20<br></td><td><a class=\"ProveItLink\" href=\"../../../../../core_expr_types/__pv_it/common/1527ad383e12f9c6ed6b371c9a7dd1892d80da1b0/expr.ipynb\"><img src=\"../../../../../core_expr_types/__pv_it/common/1527ad383e12f9c6ed6b371c9a7dd1892d80da1b0/expr.png\" style=\"display:inline;vertical-align:middle;\" /></a></td></tr>\n",
       "<tr><td>14</td><td>Variable</td><td></td><td><a class=\"ProveItLink\" href=\"../../../../../__pv_it/common/ae955345c83abf786c3aff8681cd5465beae262d0/expr.ipynb\"><img src=\"../../../../../__pv_it/common/ae955345c83abf786c3aff8681cd5465beae262d0/expr.png\" style=\"display:inline;vertical-align:middle;\" /></a></td></tr>\n",
       "<tr><td>15</td><td>Literal</td><td></td><td><a class=\"ProveItLink\" href=\"../../../../negation/__pv_it/common/221b3c4d1770ee9051b7c044c3f9ec61196fc34b0/expr.ipynb\"><img src=\"../../../../negation/__pv_it/common/221b3c4d1770ee9051b7c044c3f9ec61196fc34b0/expr.png\" style=\"display:inline;vertical-align:middle;\" /></a></td></tr>\n",
       "<tr><td>16</td><td>ExprTuple</td><td>21</td><td><a class=\"ProveItLink\" href=\"../2172b6b5a562721cf67ce94593b8be1eb7f26c660/expr.ipynb\"><img src=\"../2172b6b5a562721cf67ce94593b8be1eb7f26c660/expr.png\" style=\"display:inline;vertical-align:middle;\" /></a></td></tr>\n",
       "<tr><td>17</td><td>Lambda</td><td>parameter:&nbsp;26<br>body:&nbsp;22<br></td><td><a class=\"ProveItLink\" href=\"../../../../../core_expr_types/__pv_it/common/89a29b5b02ce6c37577f6352274a3d503dcdde3e0/expr.ipynb\"><img src=\"../../../../../core_expr_types/__pv_it/common/89a29b5b02ce6c37577f6352274a3d503dcdde3e0/expr.png\" style=\"display:inline;vertical-align:middle;\" /></a></td></tr>\n",
       "<tr><td>18</td><td>Literal</td><td></td><td><a class=\"ProveItLink\" href=\"../../../../numerals/__pv_it/common/682157d4892d216d9e5626ed533aff9b56b9506e0/expr.ipynb\"><img src=\"../../../../numerals/__pv_it/common/682157d4892d216d9e5626ed533aff9b56b9506e0/expr.png\" style=\"display:inline;vertical-align:middle;\" /></a></td></tr>\n",
       "<tr><td>19</td><td>Variable</td><td></td><td><a class=\"ProveItLink\" href=\"../../../../../__pv_it/common/1ed21df18baca2f42b561a7ffbf30a2743d594650/expr.ipynb\"><img src=\"../../../../../__pv_it/common/1ed21df18baca2f42b561a7ffbf30a2743d594650/expr.png\" style=\"display:inline;vertical-align:middle;\" /></a></td></tr>\n",
       "<tr><td>20</td><td>IndexedVar</td><td>variable:&nbsp;23<br>index:&nbsp;26<br></td><td><a class=\"ProveItLink\" href=\"../../../../../core_expr_types/__pv_it/common/3a62c13e156d62d52fe585fa37cc2172fcf685260/expr.ipynb\"><img src=\"../../../../../core_expr_types/__pv_it/common/3a62c13e156d62d52fe585fa37cc2172fcf685260/expr.png\" style=\"display:inline;vertical-align:middle;\" /></a></td></tr>\n",
       "<tr><td>21</td><td>Variable</td><td></td><td><a class=\"ProveItLink\" href=\"../../../../../__pv_it/common/195236b98c6c564a75b5dbada74b173bc52d5c3e0/expr.ipynb\"><img src=\"../../../../../__pv_it/common/195236b98c6c564a75b5dbada74b173bc52d5c3e0/expr.png\" style=\"display:inline;vertical-align:middle;\" /></a></td></tr>\n",
       "<tr><td>22</td><td>IndexedVar</td><td>variable:&nbsp;24<br>index:&nbsp;26<br></td><td><a class=\"ProveItLink\" href=\"../../../../../core_expr_types/__pv_it/common/8ffbefe913f7c934b2e3a2a12315d5900822d9d00/expr.ipynb\"><img src=\"../../../../../core_expr_types/__pv_it/common/8ffbefe913f7c934b2e3a2a12315d5900822d9d00/expr.png\" style=\"display:inline;vertical-align:middle;\" /></a></td></tr>\n",
       "<tr><td>23</td><td>Variable</td><td></td><td><a class=\"ProveItLink\" href=\"../../../../../__pv_it/common/c06c606ec12678c58933ac85412ecadc2ae28be60/expr.ipynb\"><img src=\"../../../../../__pv_it/common/c06c606ec12678c58933ac85412ecadc2ae28be60/expr.png\" style=\"display:inline;vertical-align:middle;\" /></a></td></tr>\n",
       "<tr><td>24</td><td>Variable</td><td></td><td><a class=\"ProveItLink\" href=\"../../../../../__pv_it/common/ceef4280a2f1cc604b455b54e735507244cc62cd0/expr.ipynb\"><img src=\"../../../../../__pv_it/common/ceef4280a2f1cc604b455b54e735507244cc62cd0/expr.png\" style=\"display:inline;vertical-align:middle;\" /></a></td></tr>\n",
       "<tr><td>25</td><td>ExprTuple</td><td>26</td><td><a class=\"ProveItLink\" href=\"../../../../../core_expr_types/__pv_it/common/4b0dd6be36d76552eda6a95d5b4a27f5a5b62f900/expr.ipynb\"><img src=\"../../../../../core_expr_types/__pv_it/common/4b0dd6be36d76552eda6a95d5b4a27f5a5b62f900/expr.png\" style=\"display:inline;vertical-align:middle;\" /></a></td></tr>\n",
       "<tr><td>26</td><td>Variable</td><td></td><td><a class=\"ProveItLink\" href=\"../../../../../core_expr_types/__pv_it/common/006c465e50948aa2b52285e2de47974f741255cc0/expr.ipynb\"><img src=\"../../../../../core_expr_types/__pv_it/common/006c465e50948aa2b52285e2de47974f741255cc0/expr.png\" style=\"display:inline;vertical-align:middle;\" /></a></td></tr>\n",
       "</table>\n"
      ],
      "text/plain": [
       "0. (-(a_{1} *  a_{2} *  ... *  a_{i} * (-b)* c_{1} *  c_{2} *  ... *  c_{j})) = (a_{1} *  a_{2} *  ... *  a_{i} * b* c_{1} *  c_{2} *  ... *  c_{j})\n",
       "   core type: Operation\n",
       "   operator: 1\n",
       "   operands: 2\n",
       "1. =\n",
       "   core type: Literal\n",
       "   sub-expressions: \n",
       "2. (-(a_{1} *  a_{2} *  ... *  a_{i} * (-b)* c_{1} *  c_{2} *  ... *  c_{j}), a_{1} *  a_{2} *  ... *  a_{i} * b* c_{1} *  c_{2} *  ... *  c_{j})\n",
       "   core type: ExprTuple\n",
       "   sub-expressions: 3, 4\n",
       "3. -(a_{1} *  a_{2} *  ... *  a_{i} * (-b)* c_{1} *  c_{2} *  ... *  c_{j})\n",
       "   core type: Operation\n",
       "   operator: 15\n",
       "   operand: 7\n",
       "4. a_{1} *  a_{2} *  ... *  a_{i} * b* c_{1} *  c_{2} *  ... *  c_{j}\n",
       "   core type: Operation\n",
       "   operator: 8\n",
       "   operands: 6\n",
       "5. (a_{1} *  a_{2} *  ... *  a_{i} * (-b)* c_{1} *  c_{2} *  ... *  c_{j})\n",
       "   core type: ExprTuple\n",
       "   sub-expressions: 7\n",
       "6. (a_{1}, a_{2}, ..., a_{i}, b,c_{1}, c_{2}, ..., c_{j})\n",
       "   core type: ExprTuple\n",
       "   sub-expressions: 10, 21, 12\n",
       "7. a_{1} *  a_{2} *  ... *  a_{i} * (-b)* c_{1} *  c_{2} *  ... *  c_{j}\n",
       "   core type: Operation\n",
       "   operator: 8\n",
       "   operands: 9\n",
       "8. *\n",
       "   core type: Literal\n",
       "   sub-expressions: \n",
       "9. (a_{1}, a_{2}, ..., a_{i}, -b,c_{1}, c_{2}, ..., c_{j})\n",
       "   core type: ExprTuple\n",
       "   sub-expressions: 10, 11, 12\n",
       "10. a_{1}, a_{2}, ..., a_{i}\n",
       "    core type: ExprRange\n",
       "    lambda_map: 13\n",
       "    start_index: 18\n",
       "    end_index: 14\n",
       "11. -b\n",
       "    core type: Operation\n",
       "    operator: 15\n",
       "    operand: 21\n",
       "12. c_{1}, c_{2}, ..., c_{j}\n",
       "    core type: ExprRange\n",
       "    lambda_map: 17\n",
       "    start_index: 18\n",
       "    end_index: 19\n",
       "13. _a -> a_{_a}\n",
       "    core type: Lambda\n",
       "    parameter: 26\n",
       "    body: 20\n",
       "14. i\n",
       "    core type: Variable\n",
       "    sub-expressions: \n",
       "15. -\n",
       "    core type: Literal\n",
       "    sub-expressions: \n",
       "16. (b)\n",
       "    core type: ExprTuple\n",
       "    sub-expressions: 21\n",
       "17. _a -> c_{_a}\n",
       "    core type: Lambda\n",
       "    parameter: 26\n",
       "    body: 22\n",
       "18. 1\n",
       "    core type: Literal\n",
       "    sub-expressions: \n",
       "19. j\n",
       "    core type: Variable\n",
       "    sub-expressions: \n",
       "20. a_{_a}\n",
       "    core type: IndexedVar\n",
       "variable: 23\n",
       "index: 26\n",
       "21. b\n",
       "    core type: Variable\n",
       "    sub-expressions: \n",
       "22. c_{_a}\n",
       "    core type: IndexedVar\n",
       "variable: 24\n",
       "index: 26\n",
       "23. a\n",
       "    core type: Variable\n",
       "    sub-expressions: \n",
       "24. c\n",
       "    core type: Variable\n",
       "    sub-expressions: \n",
       "25. (_a)\n",
       "    core type: ExprTuple\n",
       "    sub-expressions: 26\n",
       "26. _a\n",
       "    core type: Variable\n",
       "    sub-expressions: "
      ]
     },
     "metadata": {},
     "output_type": "display_data"
    }
   ],
   "source": [
    "# display the expression information\n",
    "stored_expr.expr_info()"
   ]
  },
  {
   "cell_type": "code",
   "execution_count": null,
   "metadata": {},
   "outputs": [],
   "source": []
  }
 ],
 "metadata": {
  "kernelspec": {
   "display_name": "Python 3",
   "language": "python",
   "name": "python3"
  }
 },
 "nbformat": 4,
 "nbformat_minor": 0
}