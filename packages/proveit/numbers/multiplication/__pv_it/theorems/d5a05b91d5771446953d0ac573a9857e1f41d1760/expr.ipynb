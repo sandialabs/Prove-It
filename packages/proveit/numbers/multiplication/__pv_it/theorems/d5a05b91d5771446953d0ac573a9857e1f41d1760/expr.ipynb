{
 "cells": [
  {
   "cell_type": "markdown",
   "metadata": {},
   "source": [
    "Expression of type <a class=\"ProveItLink\" href=\"../../../../../../../doc/html/api/proveit.Lambda.html\">Lambda</a>\n",
    "=======================\n",
    "# from the theory of <a class=\"ProveItLink\" href=\"../../../_theory_nbs_/theory.ipynb\">proveit.numbers.multiplication</a>"
   ]
  },
  {
   "cell_type": "code",
   "execution_count": 1,
   "metadata": {},
   "outputs": [],
   "source": [
    "import proveit\n",
    "# Automation is not needed when building an expression:\n",
    "proveit.defaults.automation = False # This will speed things up.\n",
    "proveit.defaults.inline_pngs = False # Makes files smaller.\n",
    "%load_expr # Load the stored expression as 'stored_expr'\n",
    "# import Expression classes needed to build the expression\n",
    "from proveit import Conditional, Lambda, i, j, x, y\n",
    "from proveit.core_expr_types import a_1_to_i, b_1_to_j\n",
    "from proveit.logic import And, Forall, InSet\n",
    "from proveit.numbers import Less, Mult, Natural, RealPos"
   ]
  },
  {
   "cell_type": "code",
   "execution_count": 2,
   "metadata": {},
   "outputs": [
    {
     "data": {
      "text/html": [
       "<strong id=\"expr\">expr:</strong> <a class=\"ProveItLink\" href=\"expr.ipynb\"><img src=\"expr.png\" style=\"display:inline;vertical-align:middle;\" /></a><br>"
      ],
      "text/plain": [
       "<IPython.core.display.HTML object>"
      ]
     },
     "metadata": {},
     "output_type": "display_data"
    }
   ],
   "source": [
    "# build up the expression from sub-expressions\n",
    "expr = Lambda([i, j], Conditional(Forall(instance_param_or_params = [x, y], instance_expr = Forall(instance_param_or_params = [a_1_to_i, b_1_to_j], instance_expr = Less(Mult(a_1_to_i, x, b_1_to_j), Mult(a_1_to_i, y, b_1_to_j)), domain = RealPos, condition = Less(x, y))), And(InSet(i, Natural), InSet(j, Natural))))"
   ]
  },
  {
   "cell_type": "code",
   "execution_count": 3,
   "metadata": {},
   "outputs": [
    {
     "name": "stdout",
     "output_type": "stream",
     "text": [
      "Passed sanity check: expr matches stored_expr\n"
     ]
    }
   ],
   "source": [
    "# check that the built expression is the same as the stored expression\n",
    "assert expr == stored_expr\n",
    "assert expr._style_id == stored_expr._style_id\n",
    "print(\"Passed sanity check: expr matches stored_expr\")"
   ]
  },
  {
   "cell_type": "code",
   "execution_count": 4,
   "metadata": {},
   "outputs": [
    {
     "name": "stdout",
     "output_type": "stream",
     "text": [
      "\\left(i, j\\right) \\mapsto \\left\\{\\forall_{x, y}~\\left[\\forall_{a_{1}, a_{2}, \\ldots, a_{i}, b_{1}, b_{2}, \\ldots, b_{j} \\in \\mathbb{R}^+~|~x < y}~\\left(\\left(a_{1} \\cdot  a_{2} \\cdot  \\ldots \\cdot  a_{i} \\cdot x\\cdot b_{1} \\cdot  b_{2} \\cdot  \\ldots \\cdot  b_{j}\\right) < \\left(a_{1} \\cdot  a_{2} \\cdot  \\ldots \\cdot  a_{i} \\cdot y\\cdot b_{1} \\cdot  b_{2} \\cdot  \\ldots \\cdot  b_{j}\\right)\\right)\\right] \\textrm{ if } i \\in \\mathbb{N} ,  j \\in \\mathbb{N}\\right..\n"
     ]
    }
   ],
   "source": [
    "# Show the LaTeX representation of the expression for convenience if you need it.\n",
    "print(stored_expr.latex())"
   ]
  },
  {
   "cell_type": "code",
   "execution_count": 5,
   "metadata": {},
   "outputs": [
    {
     "data": {
      "text/html": [
       "no style options"
      ],
      "text/plain": [
       "no style options"
      ]
     },
     "metadata": {},
     "output_type": "display_data"
    }
   ],
   "source": [
    "stored_expr.style_options()"
   ]
  },
  {
   "cell_type": "code",
   "execution_count": 6,
   "metadata": {},
   "outputs": [
    {
     "data": {
      "text/html": [
       "<table><tr><th>&nbsp;</th><th>core type</th><th>sub-expressions</th><th>expression</th></tr>\n",
       "<tr><td>0</td><td>Lambda</td><td>parameters:&nbsp;1<br>body:&nbsp;2<br></td><td><a class=\"ProveItLink\" href=\"expr.ipynb\"><img src=\"expr.png\" style=\"display:inline;vertical-align:middle;\" /></a></td></tr>\n",
       "<tr><td>1</td><td>ExprTuple</td><td>43, 46</td><td><a class=\"ProveItLink\" href=\"../fd5db4d3d282981293a7ef32c5ae50e0675f01460/expr.ipynb\"><img src=\"../fd5db4d3d282981293a7ef32c5ae50e0675f01460/expr.png\" style=\"display:inline;vertical-align:middle;\" /></a></td></tr>\n",
       "<tr><td>2</td><td>Conditional</td><td>value:&nbsp;3<br>condition:&nbsp;4<br></td><td><a class=\"ProveItLink\" href=\"../638eeb6f4f33facbabbb7656f26f73a19607499b0/expr.ipynb\"><img src=\"../638eeb6f4f33facbabbb7656f26f73a19607499b0/expr.png\" style=\"display:inline;vertical-align:middle;\" /></a></td></tr>\n",
       "<tr><td>3</td><td>Operation</td><td>operator:&nbsp;13<br>operand:&nbsp;7<br></td><td><a class=\"ProveItLink\" href=\"../d1dcccebd10dd7ba63d5c5f17dbdf48d184a7a7a0/expr.ipynb\"><img src=\"../d1dcccebd10dd7ba63d5c5f17dbdf48d184a7a7a0/expr.png\" style=\"display:inline;vertical-align:middle;\" /></a></td></tr>\n",
       "<tr><td>4</td><td>Operation</td><td>operator:&nbsp;22<br>operands:&nbsp;6<br></td><td><a class=\"ProveItLink\" href=\"../f5d9619703604b55666a74ce8b6b93818bc634bb0/expr.ipynb\"><img src=\"../f5d9619703604b55666a74ce8b6b93818bc634bb0/expr.png\" style=\"display:inline;vertical-align:middle;\" /></a></td></tr>\n",
       "<tr><td>5</td><td>ExprTuple</td><td>7</td><td><a class=\"ProveItLink\" href=\"../2303967e83c360aeef1e12790ce146365bc6235f0/expr.ipynb\"><img src=\"../2303967e83c360aeef1e12790ce146365bc6235f0/expr.png\" style=\"display:inline;vertical-align:middle;\" /></a></td></tr>\n",
       "<tr><td>6</td><td>ExprTuple</td><td>8, 9</td><td><a class=\"ProveItLink\" href=\"../ee48d8077493fceb1212e72214d6f918e35080800/expr.ipynb\"><img src=\"../ee48d8077493fceb1212e72214d6f918e35080800/expr.png\" style=\"display:inline;vertical-align:middle;\" /></a></td></tr>\n",
       "<tr><td>7</td><td>Lambda</td><td>parameters:&nbsp;35<br>body:&nbsp;10<br></td><td><a class=\"ProveItLink\" href=\"../b0bea7335e5f923cf821df3cedf4d20ce56c67a30/expr.ipynb\"><img src=\"../b0bea7335e5f923cf821df3cedf4d20ce56c67a30/expr.png\" style=\"display:inline;vertical-align:middle;\" /></a></td></tr>\n",
       "<tr><td>8</td><td>Operation</td><td>operator:&nbsp;48<br>operands:&nbsp;11<br></td><td><a class=\"ProveItLink\" href=\"../10cfe086dee5530e9b3b60486d89c6cb824c41920/expr.ipynb\"><img src=\"../10cfe086dee5530e9b3b60486d89c6cb824c41920/expr.png\" style=\"display:inline;vertical-align:middle;\" /></a></td></tr>\n",
       "<tr><td>9</td><td>Operation</td><td>operator:&nbsp;48<br>operands:&nbsp;12<br></td><td><a class=\"ProveItLink\" href=\"../a66b1fb5d205d2e8007a39dfc31bf38e465e0de50/expr.ipynb\"><img src=\"../a66b1fb5d205d2e8007a39dfc31bf38e465e0de50/expr.png\" style=\"display:inline;vertical-align:middle;\" /></a></td></tr>\n",
       "<tr><td>10</td><td>Operation</td><td>operator:&nbsp;13<br>operand:&nbsp;16<br></td><td><a class=\"ProveItLink\" href=\"../543bda2eacf337a7477f1f4a86187ffe3acf9f4d0/expr.ipynb\"><img src=\"../543bda2eacf337a7477f1f4a86187ffe3acf9f4d0/expr.png\" style=\"display:inline;vertical-align:middle;\" /></a></td></tr>\n",
       "<tr><td>11</td><td>ExprTuple</td><td>43, 15</td><td><a class=\"ProveItLink\" href=\"../1e0eb14b674d1cdf4a94a1df57c3bb998311774a0/expr.ipynb\"><img src=\"../1e0eb14b674d1cdf4a94a1df57c3bb998311774a0/expr.png\" style=\"display:inline;vertical-align:middle;\" /></a></td></tr>\n",
       "<tr><td>12</td><td>ExprTuple</td><td>46, 15</td><td><a class=\"ProveItLink\" href=\"../7a128213361f018e3a5fb4107c35c71018499dc90/expr.ipynb\"><img src=\"../7a128213361f018e3a5fb4107c35c71018499dc90/expr.png\" style=\"display:inline;vertical-align:middle;\" /></a></td></tr>\n",
       "<tr><td>13</td><td>Literal</td><td></td><td><a class=\"ProveItLink\" href=\"../../../../../logic/booleans/quantification/universality/__pv_it/common/083d2baa0b8ecab1d230f9ec29a15aa1355809fb0/expr.ipynb\"><img src=\"../../../../../logic/booleans/quantification/universality/__pv_it/common/083d2baa0b8ecab1d230f9ec29a15aa1355809fb0/expr.png\" style=\"display:inline;vertical-align:middle;\" /></a></td></tr>\n",
       "<tr><td>14</td><td>ExprTuple</td><td>16</td><td><a class=\"ProveItLink\" href=\"../f17fb3680bd955930f1e65635d3a3b4cc4f7daba0/expr.ipynb\"><img src=\"../f17fb3680bd955930f1e65635d3a3b4cc4f7daba0/expr.png\" style=\"display:inline;vertical-align:middle;\" /></a></td></tr>\n",
       "<tr><td>15</td><td>Literal</td><td></td><td><a class=\"ProveItLink\" href=\"../../../../number_sets/natural_numbers/__pv_it/common/8b7c321957f52ed3b05b36af612eeae4fa4783bc0/expr.ipynb\"><img src=\"../../../../number_sets/natural_numbers/__pv_it/common/8b7c321957f52ed3b05b36af612eeae4fa4783bc0/expr.png\" style=\"display:inline;vertical-align:middle;\" /></a></td></tr>\n",
       "<tr><td>16</td><td>Lambda</td><td>parameters:&nbsp;17<br>body:&nbsp;18<br></td><td><a class=\"ProveItLink\" href=\"../4b20dfd797e06524ac984622c8efc24aadd5d06c0/expr.ipynb\"><img src=\"../4b20dfd797e06524ac984622c8efc24aadd5d06c0/expr.png\" style=\"display:inline;vertical-align:middle;\" /></a></td></tr>\n",
       "<tr><td>17</td><td>ExprTuple</td><td>36, 37</td><td><a class=\"ProveItLink\" href=\"../c5089ea885d0d039c1b86cae9247f045689fa2030/expr.ipynb\"><img src=\"../c5089ea885d0d039c1b86cae9247f045689fa2030/expr.png\" style=\"display:inline;vertical-align:middle;\" /></a></td></tr>\n",
       "<tr><td>18</td><td>Conditional</td><td>value:&nbsp;19<br>condition:&nbsp;20<br></td><td><a class=\"ProveItLink\" href=\"../cd98977562e22314766de4e5f28e52084c6a14570/expr.ipynb\"><img src=\"../cd98977562e22314766de4e5f28e52084c6a14570/expr.png\" style=\"display:inline;vertical-align:middle;\" /></a></td></tr>\n",
       "<tr><td>19</td><td>Operation</td><td>operator:&nbsp;34<br>operands:&nbsp;21<br></td><td><a class=\"ProveItLink\" href=\"../398b4ba0cc4825f1d866a444ea6315fab7b26f280/expr.ipynb\"><img src=\"../398b4ba0cc4825f1d866a444ea6315fab7b26f280/expr.png\" style=\"display:inline;vertical-align:middle;\" /></a></td></tr>\n",
       "<tr><td>20</td><td>Operation</td><td>operator:&nbsp;22<br>operands:&nbsp;23<br></td><td><a class=\"ProveItLink\" href=\"../f36b9ab6d4798ad484301d230b6ade61d61d9d180/expr.ipynb\"><img src=\"../f36b9ab6d4798ad484301d230b6ade61d61d9d180/expr.png\" style=\"display:inline;vertical-align:middle;\" /></a></td></tr>\n",
       "<tr><td>21</td><td>ExprTuple</td><td>24, 25</td><td><a class=\"ProveItLink\" href=\"../a2dfeb3850bca13eba1e55b3bf1b3a4a6a5b98760/expr.ipynb\"><img src=\"../a2dfeb3850bca13eba1e55b3bf1b3a4a6a5b98760/expr.png\" style=\"display:inline;vertical-align:middle;\" /></a></td></tr>\n",
       "<tr><td>22</td><td>Literal</td><td></td><td><a class=\"ProveItLink\" href=\"../../../../../logic/booleans/conjunction/__pv_it/common/42118ff318bd65d98b1393f64ce7c2269feef76e0/expr.ipynb\"><img src=\"../../../../../logic/booleans/conjunction/__pv_it/common/42118ff318bd65d98b1393f64ce7c2269feef76e0/expr.png\" style=\"display:inline;vertical-align:middle;\" /></a></td></tr>\n",
       "<tr><td>23</td><td>ExprTuple</td><td>26, 27, 28</td><td><a class=\"ProveItLink\" href=\"../3c7d436c5b274b976621de2094ac81f683c8929e0/expr.ipynb\"><img src=\"../3c7d436c5b274b976621de2094ac81f683c8929e0/expr.png\" style=\"display:inline;vertical-align:middle;\" /></a></td></tr>\n",
       "<tr><td>24</td><td>Operation</td><td>operator:&nbsp;30<br>operands:&nbsp;29<br></td><td><a class=\"ProveItLink\" href=\"../50cd9b13e60470022d064d1109f78b9dd607f6bc0/expr.ipynb\"><img src=\"../50cd9b13e60470022d064d1109f78b9dd607f6bc0/expr.png\" style=\"display:inline;vertical-align:middle;\" /></a></td></tr>\n",
       "<tr><td>25</td><td>Operation</td><td>operator:&nbsp;30<br>operands:&nbsp;31<br></td><td><a class=\"ProveItLink\" href=\"../c156ed2e893a9cfc7767b7715c23f7f9fe33aadf0/expr.ipynb\"><img src=\"../c156ed2e893a9cfc7767b7715c23f7f9fe33aadf0/expr.png\" style=\"display:inline;vertical-align:middle;\" /></a></td></tr>\n",
       "<tr><td>26</td><td>ExprRange</td><td>lambda_map:&nbsp;32<br>start_index:&nbsp;45<br>end_index:&nbsp;43<br></td><td><a class=\"ProveItLink\" href=\"../c8a6cddeb15c34929b7b74f68c473a5b3f3512130/expr.ipynb\"><img src=\"../c8a6cddeb15c34929b7b74f68c473a5b3f3512130/expr.png\" style=\"display:inline;vertical-align:middle;\" /></a></td></tr>\n",
       "<tr><td>27</td><td>ExprRange</td><td>lambda_map:&nbsp;33<br>start_index:&nbsp;45<br>end_index:&nbsp;46<br></td><td><a class=\"ProveItLink\" href=\"../d877099374a2fd854cacadec695342afc5d2db390/expr.ipynb\"><img src=\"../d877099374a2fd854cacadec695342afc5d2db390/expr.png\" style=\"display:inline;vertical-align:middle;\" /></a></td></tr>\n",
       "<tr><td>28</td><td>Operation</td><td>operator:&nbsp;34<br>operands:&nbsp;35<br></td><td><a class=\"ProveItLink\" href=\"../8846042a23bd4715f8e6849c9188a77fefec509b0/expr.ipynb\"><img src=\"../8846042a23bd4715f8e6849c9188a77fefec509b0/expr.png\" style=\"display:inline;vertical-align:middle;\" /></a></td></tr>\n",
       "<tr><td>29</td><td>ExprTuple</td><td>36, 40, 37</td><td><a class=\"ProveItLink\" href=\"../6bed4a1ed7e5e8976be24b6e5434d616c0c414cf0/expr.ipynb\"><img src=\"../6bed4a1ed7e5e8976be24b6e5434d616c0c414cf0/expr.png\" style=\"display:inline;vertical-align:middle;\" /></a></td></tr>\n",
       "<tr><td>30</td><td>Literal</td><td></td><td><a class=\"ProveItLink\" href=\"../../common/ed719cef37831779c16481533a4d380a2f95ab270/expr.ipynb\"><img src=\"../../common/ed719cef37831779c16481533a4d380a2f95ab270/expr.png\" style=\"display:inline;vertical-align:middle;\" /></a></td></tr>\n",
       "<tr><td>31</td><td>ExprTuple</td><td>36, 41, 37</td><td><a class=\"ProveItLink\" href=\"../32e3eb1a7626dc97ddad5fe2e154a0f9ccb8b09b0/expr.ipynb\"><img src=\"../32e3eb1a7626dc97ddad5fe2e154a0f9ccb8b09b0/expr.png\" style=\"display:inline;vertical-align:middle;\" /></a></td></tr>\n",
       "<tr><td>32</td><td>Lambda</td><td>parameter:&nbsp;56<br>body:&nbsp;38<br></td><td><a class=\"ProveItLink\" href=\"../a5096e9161ef7cac2b699b87d36bb8f00e1fb9960/expr.ipynb\"><img src=\"../a5096e9161ef7cac2b699b87d36bb8f00e1fb9960/expr.png\" style=\"display:inline;vertical-align:middle;\" /></a></td></tr>\n",
       "<tr><td>33</td><td>Lambda</td><td>parameter:&nbsp;56<br>body:&nbsp;39<br></td><td><a class=\"ProveItLink\" href=\"../0fcf533623f33c0d4455d091fd066d59bf1591c20/expr.ipynb\"><img src=\"../0fcf533623f33c0d4455d091fd066d59bf1591c20/expr.png\" style=\"display:inline;vertical-align:middle;\" /></a></td></tr>\n",
       "<tr><td>34</td><td>Literal</td><td></td><td><a class=\"ProveItLink\" href=\"../../../../ordering/__pv_it/common/fa503ed52033522c609eef1cf3e1b45796489da50/expr.ipynb\"><img src=\"../../../../ordering/__pv_it/common/fa503ed52033522c609eef1cf3e1b45796489da50/expr.png\" style=\"display:inline;vertical-align:middle;\" /></a></td></tr>\n",
       "<tr><td>35</td><td>ExprTuple</td><td>40, 41</td><td><a class=\"ProveItLink\" href=\"../bbaa48af4605eceb7fbc4af345a1eb6de480e1c50/expr.ipynb\"><img src=\"../bbaa48af4605eceb7fbc4af345a1eb6de480e1c50/expr.png\" style=\"display:inline;vertical-align:middle;\" /></a></td></tr>\n",
       "<tr><td>36</td><td>ExprRange</td><td>lambda_map:&nbsp;42<br>start_index:&nbsp;45<br>end_index:&nbsp;43<br></td><td><a class=\"ProveItLink\" href=\"../../../../../core_expr_types/__pv_it/common/7230c683fcd56948c826ac1be71b01b6fb2913950/expr.ipynb\"><img src=\"../../../../../core_expr_types/__pv_it/common/7230c683fcd56948c826ac1be71b01b6fb2913950/expr.png\" style=\"display:inline;vertical-align:middle;\" /></a></td></tr>\n",
       "<tr><td>37</td><td>ExprRange</td><td>lambda_map:&nbsp;44<br>start_index:&nbsp;45<br>end_index:&nbsp;46<br></td><td><a class=\"ProveItLink\" href=\"../../../../../core_expr_types/__pv_it/common/d0e70829681f7e0560cecc174fdf76cb311d43400/expr.ipynb\"><img src=\"../../../../../core_expr_types/__pv_it/common/d0e70829681f7e0560cecc174fdf76cb311d43400/expr.png\" style=\"display:inline;vertical-align:middle;\" /></a></td></tr>\n",
       "<tr><td>38</td><td>Operation</td><td>operator:&nbsp;48<br>operands:&nbsp;47<br></td><td><a class=\"ProveItLink\" href=\"../3a7d95da32c2e7fe26d84073f12bec6c019a5cf40/expr.ipynb\"><img src=\"../3a7d95da32c2e7fe26d84073f12bec6c019a5cf40/expr.png\" style=\"display:inline;vertical-align:middle;\" /></a></td></tr>\n",
       "<tr><td>39</td><td>Operation</td><td>operator:&nbsp;48<br>operands:&nbsp;49<br></td><td><a class=\"ProveItLink\" href=\"../430a57caf36bba92632aa794ff48b5377f8ae84a0/expr.ipynb\"><img src=\"../430a57caf36bba92632aa794ff48b5377f8ae84a0/expr.png\" style=\"display:inline;vertical-align:middle;\" /></a></td></tr>\n",
       "<tr><td>40</td><td>Variable</td><td></td><td><a class=\"ProveItLink\" href=\"../../../../../__pv_it/common/a0d9d672aa5e272d907247690c152cc2c6daafb70/expr.ipynb\"><img src=\"../../../../../__pv_it/common/a0d9d672aa5e272d907247690c152cc2c6daafb70/expr.png\" style=\"display:inline;vertical-align:middle;\" /></a></td></tr>\n",
       "<tr><td>41</td><td>Variable</td><td></td><td><a class=\"ProveItLink\" href=\"../../../../../__pv_it/common/ff7dba4ef0bbe791ab573bf2d9c220a304399ac80/expr.ipynb\"><img src=\"../../../../../__pv_it/common/ff7dba4ef0bbe791ab573bf2d9c220a304399ac80/expr.png\" style=\"display:inline;vertical-align:middle;\" /></a></td></tr>\n",
       "<tr><td>42</td><td>Lambda</td><td>parameter:&nbsp;56<br>body:&nbsp;50<br></td><td><a class=\"ProveItLink\" href=\"../../../../../core_expr_types/__pv_it/common/1527ad383e12f9c6ed6b371c9a7dd1892d80da1b0/expr.ipynb\"><img src=\"../../../../../core_expr_types/__pv_it/common/1527ad383e12f9c6ed6b371c9a7dd1892d80da1b0/expr.png\" style=\"display:inline;vertical-align:middle;\" /></a></td></tr>\n",
       "<tr><td>43</td><td>Variable</td><td></td><td><a class=\"ProveItLink\" href=\"../../../../../__pv_it/common/ae955345c83abf786c3aff8681cd5465beae262d0/expr.ipynb\"><img src=\"../../../../../__pv_it/common/ae955345c83abf786c3aff8681cd5465beae262d0/expr.png\" style=\"display:inline;vertical-align:middle;\" /></a></td></tr>\n",
       "<tr><td>44</td><td>Lambda</td><td>parameter:&nbsp;56<br>body:&nbsp;51<br></td><td><a class=\"ProveItLink\" href=\"../../../../../core_expr_types/__pv_it/common/d763764ede9c88a33f4b750791da02d1a21cb6820/expr.ipynb\"><img src=\"../../../../../core_expr_types/__pv_it/common/d763764ede9c88a33f4b750791da02d1a21cb6820/expr.png\" style=\"display:inline;vertical-align:middle;\" /></a></td></tr>\n",
       "<tr><td>45</td><td>Literal</td><td></td><td><a class=\"ProveItLink\" href=\"../../../../numerals/__pv_it/common/682157d4892d216d9e5626ed533aff9b56b9506e0/expr.ipynb\"><img src=\"../../../../numerals/__pv_it/common/682157d4892d216d9e5626ed533aff9b56b9506e0/expr.png\" style=\"display:inline;vertical-align:middle;\" /></a></td></tr>\n",
       "<tr><td>46</td><td>Variable</td><td></td><td><a class=\"ProveItLink\" href=\"../../../../../__pv_it/common/1ed21df18baca2f42b561a7ffbf30a2743d594650/expr.ipynb\"><img src=\"../../../../../__pv_it/common/1ed21df18baca2f42b561a7ffbf30a2743d594650/expr.png\" style=\"display:inline;vertical-align:middle;\" /></a></td></tr>\n",
       "<tr><td>47</td><td>ExprTuple</td><td>50, 52</td><td><a class=\"ProveItLink\" href=\"../09eb600a5b41b2f8a2704ef9265f06b77163487b0/expr.ipynb\"><img src=\"../09eb600a5b41b2f8a2704ef9265f06b77163487b0/expr.png\" style=\"display:inline;vertical-align:middle;\" /></a></td></tr>\n",
       "<tr><td>48</td><td>Literal</td><td></td><td><a class=\"ProveItLink\" href=\"../../../../../logic/sets/membership/__pv_it/common/477487d8796864d23d5810f83761435f25167f690/expr.ipynb\"><img src=\"../../../../../logic/sets/membership/__pv_it/common/477487d8796864d23d5810f83761435f25167f690/expr.png\" style=\"display:inline;vertical-align:middle;\" /></a></td></tr>\n",
       "<tr><td>49</td><td>ExprTuple</td><td>51, 52</td><td><a class=\"ProveItLink\" href=\"../3cf6ddfb8470ba25809d8dff4eeed5a2a3b6346e0/expr.ipynb\"><img src=\"../3cf6ddfb8470ba25809d8dff4eeed5a2a3b6346e0/expr.png\" style=\"display:inline;vertical-align:middle;\" /></a></td></tr>\n",
       "<tr><td>50</td><td>IndexedVar</td><td>variable:&nbsp;53<br>index:&nbsp;56<br></td><td><a class=\"ProveItLink\" href=\"../../../../../core_expr_types/__pv_it/common/3a62c13e156d62d52fe585fa37cc2172fcf685260/expr.ipynb\"><img src=\"../../../../../core_expr_types/__pv_it/common/3a62c13e156d62d52fe585fa37cc2172fcf685260/expr.png\" style=\"display:inline;vertical-align:middle;\" /></a></td></tr>\n",
       "<tr><td>51</td><td>IndexedVar</td><td>variable:&nbsp;54<br>index:&nbsp;56<br></td><td><a class=\"ProveItLink\" href=\"../../../../../core_expr_types/__pv_it/common/8542342c36565a593724a99f9c08d995c1c21af20/expr.ipynb\"><img src=\"../../../../../core_expr_types/__pv_it/common/8542342c36565a593724a99f9c08d995c1c21af20/expr.png\" style=\"display:inline;vertical-align:middle;\" /></a></td></tr>\n",
       "<tr><td>52</td><td>Literal</td><td></td><td><a class=\"ProveItLink\" href=\"../../../../number_sets/real_numbers/__pv_it/common/174917e13d50b91c585b7f765a2896383a3ae8010/expr.ipynb\"><img src=\"../../../../number_sets/real_numbers/__pv_it/common/174917e13d50b91c585b7f765a2896383a3ae8010/expr.png\" style=\"display:inline;vertical-align:middle;\" /></a></td></tr>\n",
       "<tr><td>53</td><td>Variable</td><td></td><td><a class=\"ProveItLink\" href=\"../../../../../__pv_it/common/c06c606ec12678c58933ac85412ecadc2ae28be60/expr.ipynb\"><img src=\"../../../../../__pv_it/common/c06c606ec12678c58933ac85412ecadc2ae28be60/expr.png\" style=\"display:inline;vertical-align:middle;\" /></a></td></tr>\n",
       "<tr><td>54</td><td>Variable</td><td></td><td><a class=\"ProveItLink\" href=\"../../../../../__pv_it/common/195236b98c6c564a75b5dbada74b173bc52d5c3e0/expr.ipynb\"><img src=\"../../../../../__pv_it/common/195236b98c6c564a75b5dbada74b173bc52d5c3e0/expr.png\" style=\"display:inline;vertical-align:middle;\" /></a></td></tr>\n",
       "<tr><td>55</td><td>ExprTuple</td><td>56</td><td><a class=\"ProveItLink\" href=\"../../../../../core_expr_types/__pv_it/common/4b0dd6be36d76552eda6a95d5b4a27f5a5b62f900/expr.ipynb\"><img src=\"../../../../../core_expr_types/__pv_it/common/4b0dd6be36d76552eda6a95d5b4a27f5a5b62f900/expr.png\" style=\"display:inline;vertical-align:middle;\" /></a></td></tr>\n",
       "<tr><td>56</td><td>Variable</td><td></td><td><a class=\"ProveItLink\" href=\"../../../../../core_expr_types/__pv_it/common/006c465e50948aa2b52285e2de47974f741255cc0/expr.ipynb\"><img src=\"../../../../../core_expr_types/__pv_it/common/006c465e50948aa2b52285e2de47974f741255cc0/expr.png\" style=\"display:inline;vertical-align:middle;\" /></a></td></tr>\n",
       "</table>\n"
      ],
      "text/plain": [
       "0. (i, j) -> {forall_{x, y} [forall_{a_{1}, a_{2}, ..., a_{i}, b_{1}, b_{2}, ..., b_{j} in RealPos | x < y} ((a_{1} *  a_{2} *  ... *  a_{i} * x* b_{1} *  b_{2} *  ... *  b_{j}) < (a_{1} *  a_{2} *  ... *  a_{i} * y* b_{1} *  b_{2} *  ... *  b_{j}))] if i in Natural ,  j in Natural.\n",
       "   core type: Lambda\n",
       "   parameters: 1\\n   body: 2\n",
       "1. (i, j)\n",
       "   core type: ExprTuple\n",
       "   sub-expressions: 43, 46\n",
       "2. {forall_{x, y} [forall_{a_{1}, a_{2}, ..., a_{i}, b_{1}, b_{2}, ..., b_{j} in RealPos | x < y} ((a_{1} *  a_{2} *  ... *  a_{i} * x* b_{1} *  b_{2} *  ... *  b_{j}) < (a_{1} *  a_{2} *  ... *  a_{i} * y* b_{1} *  b_{2} *  ... *  b_{j}))] if i in Natural ,  j in Natural.\n",
       "   core type: Conditional\n",
       "   value: 3\n",
       "   condition: 4\n",
       "3. forall_{x, y} [forall_{a_{1}, a_{2}, ..., a_{i}, b_{1}, b_{2}, ..., b_{j} in RealPos | x < y} ((a_{1} *  a_{2} *  ... *  a_{i} * x* b_{1} *  b_{2} *  ... *  b_{j}) < (a_{1} *  a_{2} *  ... *  a_{i} * y* b_{1} *  b_{2} *  ... *  b_{j}))]\n",
       "   core type: Operation\n",
       "   operator: 13\n",
       "   operand: 7\n",
       "4. (i in Natural) and (j in Natural)\n",
       "   core type: Operation\n",
       "   operator: 22\n",
       "   operands: 6\n",
       "5. ((x, y) -> [forall_{a_{1}, a_{2}, ..., a_{i}, b_{1}, b_{2}, ..., b_{j} in RealPos | x < y} ((a_{1} *  a_{2} *  ... *  a_{i} * x* b_{1} *  b_{2} *  ... *  b_{j}) < (a_{1} *  a_{2} *  ... *  a_{i} * y* b_{1} *  b_{2} *  ... *  b_{j}))])\n",
       "   core type: ExprTuple\n",
       "   sub-expressions: 7\n",
       "6. (i in Natural, j in Natural)\n",
       "   core type: ExprTuple\n",
       "   sub-expressions: 8, 9\n",
       "7. (x, y) -> [forall_{a_{1}, a_{2}, ..., a_{i}, b_{1}, b_{2}, ..., b_{j} in RealPos | x < y} ((a_{1} *  a_{2} *  ... *  a_{i} * x* b_{1} *  b_{2} *  ... *  b_{j}) < (a_{1} *  a_{2} *  ... *  a_{i} * y* b_{1} *  b_{2} *  ... *  b_{j}))]\n",
       "   core type: Lambda\n",
       "   parameters: 35\\n   body: 10\n",
       "8. i in Natural\n",
       "   core type: Operation\n",
       "   operator: 48\n",
       "   operands: 11\n",
       "9. j in Natural\n",
       "   core type: Operation\n",
       "   operator: 48\n",
       "   operands: 12\n",
       "10. forall_{a_{1}, a_{2}, ..., a_{i}, b_{1}, b_{2}, ..., b_{j} in RealPos | x < y} ((a_{1} *  a_{2} *  ... *  a_{i} * x* b_{1} *  b_{2} *  ... *  b_{j}) < (a_{1} *  a_{2} *  ... *  a_{i} * y* b_{1} *  b_{2} *  ... *  b_{j}))\n",
       "    core type: Operation\n",
       "    operator: 13\n",
       "    operand: 16\n",
       "11. (i, Natural)\n",
       "    core type: ExprTuple\n",
       "    sub-expressions: 43, 15\n",
       "12. (j, Natural)\n",
       "    core type: ExprTuple\n",
       "    sub-expressions: 46, 15\n",
       "13. forall\n",
       "    core type: Literal\n",
       "    sub-expressions: \n",
       "14. ((a_{1}, a_{2}, ..., a_{i}, b_{1}, b_{2}, ..., b_{j}) -> {(a_{1} *  a_{2} *  ... *  a_{i} * x* b_{1} *  b_{2} *  ... *  b_{j}) < (a_{1} *  a_{2} *  ... *  a_{i} * y* b_{1} *  b_{2} *  ... *  b_{j}) if (a_{1} in RealPos) ,  (a_{2} in RealPos) ,  ... ,  (a_{i} in RealPos), (b_{1} in RealPos) ,  (b_{2} in RealPos) ,  ... ,  (b_{j} in RealPos) ,  x < y.)\n",
       "    core type: ExprTuple\n",
       "    sub-expressions: 16\n",
       "15. Natural\n",
       "    core type: Literal\n",
       "    sub-expressions: \n",
       "16. (a_{1}, a_{2}, ..., a_{i}, b_{1}, b_{2}, ..., b_{j}) -> {(a_{1} *  a_{2} *  ... *  a_{i} * x* b_{1} *  b_{2} *  ... *  b_{j}) < (a_{1} *  a_{2} *  ... *  a_{i} * y* b_{1} *  b_{2} *  ... *  b_{j}) if (a_{1} in RealPos) ,  (a_{2} in RealPos) ,  ... ,  (a_{i} in RealPos), (b_{1} in RealPos) ,  (b_{2} in RealPos) ,  ... ,  (b_{j} in RealPos) ,  x < y.\n",
       "    core type: Lambda\n",
       "    parameters: 17\\n    body: 18\n",
       "17. (a_{1}, a_{2}, ..., a_{i},b_{1}, b_{2}, ..., b_{j})\n",
       "    core type: ExprTuple\n",
       "    sub-expressions: 36, 37\n",
       "18. {(a_{1} *  a_{2} *  ... *  a_{i} * x* b_{1} *  b_{2} *  ... *  b_{j}) < (a_{1} *  a_{2} *  ... *  a_{i} * y* b_{1} *  b_{2} *  ... *  b_{j}) if (a_{1} in RealPos) ,  (a_{2} in RealPos) ,  ... ,  (a_{i} in RealPos), (b_{1} in RealPos) ,  (b_{2} in RealPos) ,  ... ,  (b_{j} in RealPos) ,  x < y.\n",
       "    core type: Conditional\n",
       "    value: 19\n",
       "    condition: 20\n",
       "19. (a_{1} *  a_{2} *  ... *  a_{i} * x* b_{1} *  b_{2} *  ... *  b_{j}) < (a_{1} *  a_{2} *  ... *  a_{i} * y* b_{1} *  b_{2} *  ... *  b_{j})\n",
       "    core type: Operation\n",
       "    operator: 34\n",
       "    operands: 21\n",
       "20. (a_{1} in RealPos) and  (a_{2} in RealPos) and  ... and  (a_{i} in RealPos)and (b_{1} in RealPos) and  (b_{2} in RealPos) and  ... and  (b_{j} in RealPos) and (x < y)\n",
       "    core type: Operation\n",
       "    operator: 22\n",
       "    operands: 23\n",
       "21. (a_{1} *  a_{2} *  ... *  a_{i} * x* b_{1} *  b_{2} *  ... *  b_{j}, a_{1} *  a_{2} *  ... *  a_{i} * y* b_{1} *  b_{2} *  ... *  b_{j})\n",
       "    core type: ExprTuple\n",
       "    sub-expressions: 24, 25\n",
       "22. and\n",
       "    core type: Literal\n",
       "    sub-expressions: \n",
       "23. ((a_{1} in RealPos), (a_{2} in RealPos), ..., (a_{i} in RealPos),(b_{1} in RealPos), (b_{2} in RealPos), ..., (b_{j} in RealPos), x < y)\n",
       "    core type: ExprTuple\n",
       "    sub-expressions: 26, 27, 28\n",
       "24. a_{1} *  a_{2} *  ... *  a_{i} * x* b_{1} *  b_{2} *  ... *  b_{j}\n",
       "    core type: Operation\n",
       "    operator: 30\n",
       "    operands: 29\n",
       "25. a_{1} *  a_{2} *  ... *  a_{i} * y* b_{1} *  b_{2} *  ... *  b_{j}\n",
       "    core type: Operation\n",
       "    operator: 30\n",
       "    operands: 31\n",
       "26. (a_{1} in RealPos), (a_{2} in RealPos), ..., (a_{i} in RealPos)\n",
       "    core type: ExprRange\n",
       "    lambda_map: 32\n",
       "    start_index: 45\n",
       "    end_index: 43\n",
       "27. (b_{1} in RealPos), (b_{2} in RealPos), ..., (b_{j} in RealPos)\n",
       "    core type: ExprRange\n",
       "    lambda_map: 33\n",
       "    start_index: 45\n",
       "    end_index: 46\n",
       "28. x < y\n",
       "    core type: Operation\n",
       "    operator: 34\n",
       "    operands: 35\n",
       "29. (a_{1}, a_{2}, ..., a_{i}, x,b_{1}, b_{2}, ..., b_{j})\n",
       "    core type: ExprTuple\n",
       "    sub-expressions: 36, 40, 37\n",
       "30. *\n",
       "    core type: Literal\n",
       "    sub-expressions: \n",
       "31. (a_{1}, a_{2}, ..., a_{i}, y,b_{1}, b_{2}, ..., b_{j})\n",
       "    core type: ExprTuple\n",
       "    sub-expressions: 36, 41, 37\n",
       "32. _a -> (a_{_a} in RealPos)\n",
       "    core type: Lambda\n",
       "    parameter: 56\n",
       "    body: 38\n",
       "33. _a -> (b_{_a} in RealPos)\n",
       "    core type: Lambda\n",
       "    parameter: 56\n",
       "    body: 39\n",
       "34. <\n",
       "    core type: Literal\n",
       "    sub-expressions: \n",
       "35. (x, y)\n",
       "    core type: ExprTuple\n",
       "    sub-expressions: 40, 41\n",
       "36. a_{1}, a_{2}, ..., a_{i}\n",
       "    core type: ExprRange\n",
       "    lambda_map: 42\n",
       "    start_index: 45\n",
       "    end_index: 43\n",
       "37. b_{1}, b_{2}, ..., b_{j}\n",
       "    core type: ExprRange\n",
       "    lambda_map: 44\n",
       "    start_index: 45\n",
       "    end_index: 46\n",
       "38. a_{_a} in RealPos\n",
       "    core type: Operation\n",
       "    operator: 48\n",
       "    operands: 47\n",
       "39. b_{_a} in RealPos\n",
       "    core type: Operation\n",
       "    operator: 48\n",
       "    operands: 49\n",
       "40. x\n",
       "    core type: Variable\n",
       "    sub-expressions: \n",
       "41. y\n",
       "    core type: Variable\n",
       "    sub-expressions: \n",
       "42. _a -> a_{_a}\n",
       "    core type: Lambda\n",
       "    parameter: 56\n",
       "    body: 50\n",
       "43. i\n",
       "    core type: Variable\n",
       "    sub-expressions: \n",
       "44. _a -> b_{_a}\n",
       "    core type: Lambda\n",
       "    parameter: 56\n",
       "    body: 51\n",
       "45. 1\n",
       "    core type: Literal\n",
       "    sub-expressions: \n",
       "46. j\n",
       "    core type: Variable\n",
       "    sub-expressions: \n",
       "47. (a_{_a}, RealPos)\n",
       "    core type: ExprTuple\n",
       "    sub-expressions: 50, 52\n",
       "48. in\n",
       "    core type: Literal\n",
       "    sub-expressions: \n",
       "49. (b_{_a}, RealPos)\n",
       "    core type: ExprTuple\n",
       "    sub-expressions: 51, 52\n",
       "50. a_{_a}\n",
       "    core type: IndexedVar\n",
       "variable: 53\n",
       "index: 56\n",
       "51. b_{_a}\n",
       "    core type: IndexedVar\n",
       "variable: 54\n",
       "index: 56\n",
       "52. RealPos\n",
       "    core type: Literal\n",
       "    sub-expressions: \n",
       "53. a\n",
       "    core type: Variable\n",
       "    sub-expressions: \n",
       "54. b\n",
       "    core type: Variable\n",
       "    sub-expressions: \n",
       "55. (_a)\n",
       "    core type: ExprTuple\n",
       "    sub-expressions: 56\n",
       "56. _a\n",
       "    core type: Variable\n",
       "    sub-expressions: "
      ]
     },
     "metadata": {},
     "output_type": "display_data"
    }
   ],
   "source": [
    "# display the expression information\n",
    "stored_expr.expr_info()"
   ]
  },
  {
   "cell_type": "code",
   "execution_count": null,
   "metadata": {},
   "outputs": [],
   "source": []
  }
 ],
 "metadata": {
  "kernelspec": {
   "display_name": "Python 3",
   "language": "python",
   "name": "python3"
  }
 },
 "nbformat": 4,
 "nbformat_minor": 0
}