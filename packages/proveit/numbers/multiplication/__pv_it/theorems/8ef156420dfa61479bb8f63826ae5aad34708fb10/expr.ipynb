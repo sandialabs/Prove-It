{
 "cells": [
  {
   "cell_type": "markdown",
   "metadata": {},
   "source": [
    "Expression of type <a class=\"ProveItLink\" href=\"../../../../../../../doc/html/api/proveit.Lambda.html\">Lambda</a>\n",
    "=======================\n",
    "# from the theory of <a class=\"ProveItLink\" href=\"../../../_theory_nbs_/theory.ipynb\">proveit.numbers.multiplication</a>"
   ]
  },
  {
   "cell_type": "code",
   "execution_count": 1,
   "metadata": {},
   "outputs": [],
   "source": [
    "import proveit\n",
    "# Automation is not needed when building an expression:\n",
    "proveit.defaults.automation = False # This will speed things up.\n",
    "proveit.defaults.inline_pngs = False # Makes files smaller.\n",
    "%load_expr # Load the stored expression as 'stored_expr'\n",
    "# import Expression classes needed to build the expression\n",
    "from proveit import Conditional, Lambda, i, j\n",
    "from proveit.core_expr_types import a_1_to_i, b_1_to_j\n",
    "from proveit.logic import And, Equals, Forall, InSet\n",
    "from proveit.numbers import Complex, Mult, Natural, one"
   ]
  },
  {
   "cell_type": "code",
   "execution_count": 2,
   "metadata": {},
   "outputs": [
    {
     "data": {
      "text/html": [
       "<strong id=\"expr\">expr:</strong> <a class=\"ProveItLink\" href=\"expr.ipynb\"><img src=\"expr.png\" style=\"display:inline;vertical-align:middle;\" /></a><br>"
      ],
      "text/plain": [
       "<IPython.core.display.HTML object>"
      ]
     },
     "metadata": {},
     "output_type": "display_data"
    }
   ],
   "source": [
    "# build up the expression from sub-expressions\n",
    "expr = Lambda([i, j], Conditional(Forall(instance_param_or_params = [a_1_to_i, b_1_to_j], instance_expr = Equals(Mult(a_1_to_i, one, b_1_to_j), Mult(a_1_to_i, b_1_to_j)), domain = Complex), And(InSet(i, Natural), InSet(j, Natural))))"
   ]
  },
  {
   "cell_type": "code",
   "execution_count": 3,
   "metadata": {},
   "outputs": [
    {
     "name": "stdout",
     "output_type": "stream",
     "text": [
      "Passed sanity check: expr matches stored_expr\n"
     ]
    }
   ],
   "source": [
    "# check that the built expression is the same as the stored expression\n",
    "assert expr == stored_expr\n",
    "assert expr._style_id == stored_expr._style_id\n",
    "print(\"Passed sanity check: expr matches stored_expr\")"
   ]
  },
  {
   "cell_type": "code",
   "execution_count": 4,
   "metadata": {},
   "outputs": [
    {
     "name": "stdout",
     "output_type": "stream",
     "text": [
      "\\left(i, j\\right) \\mapsto \\left\\{\\forall_{a_{1}, a_{2}, \\ldots, a_{i}, b_{1}, b_{2}, \\ldots, b_{j} \\in \\mathbb{C}}~\\left(\\left(a_{1} \\cdot  a_{2} \\cdot  \\ldots \\cdot  a_{i} \\cdot 1\\cdot b_{1} \\cdot  b_{2} \\cdot  \\ldots \\cdot  b_{j}\\right) = \\left(a_{1} \\cdot  a_{2} \\cdot  \\ldots \\cdot  a_{i}\\cdot b_{1} \\cdot  b_{2} \\cdot  \\ldots \\cdot  b_{j}\\right)\\right) \\textrm{ if } i \\in \\mathbb{N} ,  j \\in \\mathbb{N}\\right..\n"
     ]
    }
   ],
   "source": [
    "# Show the LaTeX representation of the expression for convenience if you need it.\n",
    "print(stored_expr.latex())"
   ]
  },
  {
   "cell_type": "code",
   "execution_count": 5,
   "metadata": {},
   "outputs": [
    {
     "data": {
      "text/html": [
       "no style options"
      ],
      "text/plain": [
       "no style options"
      ]
     },
     "metadata": {},
     "output_type": "display_data"
    }
   ],
   "source": [
    "stored_expr.style_options()"
   ]
  },
  {
   "cell_type": "code",
   "execution_count": 6,
   "metadata": {},
   "outputs": [
    {
     "data": {
      "text/html": [
       "<table><tr><th>&nbsp;</th><th>core type</th><th>sub-expressions</th><th>expression</th></tr>\n",
       "<tr><td>0</td><td>Lambda</td><td>parameters:&nbsp;1<br>body:&nbsp;2<br></td><td><a class=\"ProveItLink\" href=\"expr.ipynb\"><img src=\"expr.png\" style=\"display:inline;vertical-align:middle;\" /></a></td></tr>\n",
       "<tr><td>1</td><td>ExprTuple</td><td>35, 38</td><td><a class=\"ProveItLink\" href=\"../fd5db4d3d282981293a7ef32c5ae50e0675f01460/expr.ipynb\"><img src=\"../fd5db4d3d282981293a7ef32c5ae50e0675f01460/expr.png\" style=\"display:inline;vertical-align:middle;\" /></a></td></tr>\n",
       "<tr><td>2</td><td>Conditional</td><td>value:&nbsp;3<br>condition:&nbsp;4<br></td><td><a class=\"ProveItLink\" href=\"../5826c637fe1106fdaec43ee267a51e44d20346b00/expr.ipynb\"><img src=\"../5826c637fe1106fdaec43ee267a51e44d20346b00/expr.png\" style=\"display:inline;vertical-align:middle;\" /></a></td></tr>\n",
       "<tr><td>3</td><td>Operation</td><td>operator:&nbsp;5<br>operand:&nbsp;8<br></td><td><a class=\"ProveItLink\" href=\"../db53b9a976681829889674063c7d10a1801c09500/expr.ipynb\"><img src=\"../db53b9a976681829889674063c7d10a1801c09500/expr.png\" style=\"display:inline;vertical-align:middle;\" /></a></td></tr>\n",
       "<tr><td>4</td><td>Operation</td><td>operator:&nbsp;19<br>operands:&nbsp;7<br></td><td><a class=\"ProveItLink\" href=\"../f5d9619703604b55666a74ce8b6b93818bc634bb0/expr.ipynb\"><img src=\"../f5d9619703604b55666a74ce8b6b93818bc634bb0/expr.png\" style=\"display:inline;vertical-align:middle;\" /></a></td></tr>\n",
       "<tr><td>5</td><td>Literal</td><td></td><td><a class=\"ProveItLink\" href=\"../../../../../logic/booleans/quantification/universality/__pv_it/common/083d2baa0b8ecab1d230f9ec29a15aa1355809fb0/expr.ipynb\"><img src=\"../../../../../logic/booleans/quantification/universality/__pv_it/common/083d2baa0b8ecab1d230f9ec29a15aa1355809fb0/expr.png\" style=\"display:inline;vertical-align:middle;\" /></a></td></tr>\n",
       "<tr><td>6</td><td>ExprTuple</td><td>8</td><td><a class=\"ProveItLink\" href=\"../2a23dcbb92dd32c243f9f3bf10eff47daf3825c10/expr.ipynb\"><img src=\"../2a23dcbb92dd32c243f9f3bf10eff47daf3825c10/expr.png\" style=\"display:inline;vertical-align:middle;\" /></a></td></tr>\n",
       "<tr><td>7</td><td>ExprTuple</td><td>9, 10</td><td><a class=\"ProveItLink\" href=\"../ee48d8077493fceb1212e72214d6f918e35080800/expr.ipynb\"><img src=\"../ee48d8077493fceb1212e72214d6f918e35080800/expr.png\" style=\"display:inline;vertical-align:middle;\" /></a></td></tr>\n",
       "<tr><td>8</td><td>Lambda</td><td>parameters:&nbsp;27<br>body:&nbsp;11<br></td><td><a class=\"ProveItLink\" href=\"../aedc61184f04a86cecec080af066e8baabcfca810/expr.ipynb\"><img src=\"../aedc61184f04a86cecec080af066e8baabcfca810/expr.png\" style=\"display:inline;vertical-align:middle;\" /></a></td></tr>\n",
       "<tr><td>9</td><td>Operation</td><td>operator:&nbsp;40<br>operands:&nbsp;12<br></td><td><a class=\"ProveItLink\" href=\"../10cfe086dee5530e9b3b60486d89c6cb824c41920/expr.ipynb\"><img src=\"../10cfe086dee5530e9b3b60486d89c6cb824c41920/expr.png\" style=\"display:inline;vertical-align:middle;\" /></a></td></tr>\n",
       "<tr><td>10</td><td>Operation</td><td>operator:&nbsp;40<br>operands:&nbsp;13<br></td><td><a class=\"ProveItLink\" href=\"../a66b1fb5d205d2e8007a39dfc31bf38e465e0de50/expr.ipynb\"><img src=\"../a66b1fb5d205d2e8007a39dfc31bf38e465e0de50/expr.png\" style=\"display:inline;vertical-align:middle;\" /></a></td></tr>\n",
       "<tr><td>11</td><td>Conditional</td><td>value:&nbsp;14<br>condition:&nbsp;15<br></td><td><a class=\"ProveItLink\" href=\"../425daae7d07b614eb666a5c004109c44e50db7b30/expr.ipynb\"><img src=\"../425daae7d07b614eb666a5c004109c44e50db7b30/expr.png\" style=\"display:inline;vertical-align:middle;\" /></a></td></tr>\n",
       "<tr><td>12</td><td>ExprTuple</td><td>35, 16</td><td><a class=\"ProveItLink\" href=\"../1e0eb14b674d1cdf4a94a1df57c3bb998311774a0/expr.ipynb\"><img src=\"../1e0eb14b674d1cdf4a94a1df57c3bb998311774a0/expr.png\" style=\"display:inline;vertical-align:middle;\" /></a></td></tr>\n",
       "<tr><td>13</td><td>ExprTuple</td><td>38, 16</td><td><a class=\"ProveItLink\" href=\"../7a128213361f018e3a5fb4107c35c71018499dc90/expr.ipynb\"><img src=\"../7a128213361f018e3a5fb4107c35c71018499dc90/expr.png\" style=\"display:inline;vertical-align:middle;\" /></a></td></tr>\n",
       "<tr><td>14</td><td>Operation</td><td>operator:&nbsp;17<br>operands:&nbsp;18<br></td><td><a class=\"ProveItLink\" href=\"../93ec607221aec49af78b8602900dd08ea86419d00/expr.ipynb\"><img src=\"../93ec607221aec49af78b8602900dd08ea86419d00/expr.png\" style=\"display:inline;vertical-align:middle;\" /></a></td></tr>\n",
       "<tr><td>15</td><td>Operation</td><td>operator:&nbsp;19<br>operands:&nbsp;20<br></td><td><a class=\"ProveItLink\" href=\"../89954c003f3c5e146e59cc66504e9d4d2633f7ea0/expr.ipynb\"><img src=\"../89954c003f3c5e146e59cc66504e9d4d2633f7ea0/expr.png\" style=\"display:inline;vertical-align:middle;\" /></a></td></tr>\n",
       "<tr><td>16</td><td>Literal</td><td></td><td><a class=\"ProveItLink\" href=\"../../../../number_sets/natural_numbers/__pv_it/common/8b7c321957f52ed3b05b36af612eeae4fa4783bc0/expr.ipynb\"><img src=\"../../../../number_sets/natural_numbers/__pv_it/common/8b7c321957f52ed3b05b36af612eeae4fa4783bc0/expr.png\" style=\"display:inline;vertical-align:middle;\" /></a></td></tr>\n",
       "<tr><td>17</td><td>Literal</td><td></td><td><a class=\"ProveItLink\" href=\"../../../../../logic/equality/__pv_it/common/fb96dc12b2aa8801dda64d0132b396c63d1502bb0/expr.ipynb\"><img src=\"../../../../../logic/equality/__pv_it/common/fb96dc12b2aa8801dda64d0132b396c63d1502bb0/expr.png\" style=\"display:inline;vertical-align:middle;\" /></a></td></tr>\n",
       "<tr><td>18</td><td>ExprTuple</td><td>21, 22</td><td><a class=\"ProveItLink\" href=\"../cb9b65e0e8e6e4624b69a4cc8b06d6a28918a2a70/expr.ipynb\"><img src=\"../cb9b65e0e8e6e4624b69a4cc8b06d6a28918a2a70/expr.png\" style=\"display:inline;vertical-align:middle;\" /></a></td></tr>\n",
       "<tr><td>19</td><td>Literal</td><td></td><td><a class=\"ProveItLink\" href=\"../../../../../logic/booleans/conjunction/__pv_it/common/42118ff318bd65d98b1393f64ce7c2269feef76e0/expr.ipynb\"><img src=\"../../../../../logic/booleans/conjunction/__pv_it/common/42118ff318bd65d98b1393f64ce7c2269feef76e0/expr.png\" style=\"display:inline;vertical-align:middle;\" /></a></td></tr>\n",
       "<tr><td>20</td><td>ExprTuple</td><td>23, 24</td><td><a class=\"ProveItLink\" href=\"../26493ba19d87e0a75bdbf4bfedd085dcd9503ad70/expr.ipynb\"><img src=\"../26493ba19d87e0a75bdbf4bfedd085dcd9503ad70/expr.png\" style=\"display:inline;vertical-align:middle;\" /></a></td></tr>\n",
       "<tr><td>21</td><td>Operation</td><td>operator:&nbsp;26<br>operands:&nbsp;25<br></td><td><a class=\"ProveItLink\" href=\"../4d2dacfb5e1577fbf2a775eb83aa2d49afc550390/expr.ipynb\"><img src=\"../4d2dacfb5e1577fbf2a775eb83aa2d49afc550390/expr.png\" style=\"display:inline;vertical-align:middle;\" /></a></td></tr>\n",
       "<tr><td>22</td><td>Operation</td><td>operator:&nbsp;26<br>operands:&nbsp;27<br></td><td><a class=\"ProveItLink\" href=\"../3ed71806cb83feddfd7433a4a856ddf2498ab2540/expr.ipynb\"><img src=\"../3ed71806cb83feddfd7433a4a856ddf2498ab2540/expr.png\" style=\"display:inline;vertical-align:middle;\" /></a></td></tr>\n",
       "<tr><td>23</td><td>ExprRange</td><td>lambda_map:&nbsp;28<br>start_index:&nbsp;37<br>end_index:&nbsp;35<br></td><td><a class=\"ProveItLink\" href=\"../83e0886a839848a5168b74bc25206f516aa617dd0/expr.ipynb\"><img src=\"../83e0886a839848a5168b74bc25206f516aa617dd0/expr.png\" style=\"display:inline;vertical-align:middle;\" /></a></td></tr>\n",
       "<tr><td>24</td><td>ExprRange</td><td>lambda_map:&nbsp;29<br>start_index:&nbsp;37<br>end_index:&nbsp;38<br></td><td><a class=\"ProveItLink\" href=\"../8554ff688580ecf3cdabf4396430770529b5fd780/expr.ipynb\"><img src=\"../8554ff688580ecf3cdabf4396430770529b5fd780/expr.png\" style=\"display:inline;vertical-align:middle;\" /></a></td></tr>\n",
       "<tr><td>25</td><td>ExprTuple</td><td>30, 37, 31</td><td><a class=\"ProveItLink\" href=\"../0e71c9fdb1ef5893fec35c3613fbd3db9364373d0/expr.ipynb\"><img src=\"../0e71c9fdb1ef5893fec35c3613fbd3db9364373d0/expr.png\" style=\"display:inline;vertical-align:middle;\" /></a></td></tr>\n",
       "<tr><td>26</td><td>Literal</td><td></td><td><a class=\"ProveItLink\" href=\"../../common/ed719cef37831779c16481533a4d380a2f95ab270/expr.ipynb\"><img src=\"../../common/ed719cef37831779c16481533a4d380a2f95ab270/expr.png\" style=\"display:inline;vertical-align:middle;\" /></a></td></tr>\n",
       "<tr><td>27</td><td>ExprTuple</td><td>30, 31</td><td><a class=\"ProveItLink\" href=\"../c5089ea885d0d039c1b86cae9247f045689fa2030/expr.ipynb\"><img src=\"../c5089ea885d0d039c1b86cae9247f045689fa2030/expr.png\" style=\"display:inline;vertical-align:middle;\" /></a></td></tr>\n",
       "<tr><td>28</td><td>Lambda</td><td>parameter:&nbsp;48<br>body:&nbsp;32<br></td><td><a class=\"ProveItLink\" href=\"../5c5d2db4e62eeb1316594489c9dc78d764404c220/expr.ipynb\"><img src=\"../5c5d2db4e62eeb1316594489c9dc78d764404c220/expr.png\" style=\"display:inline;vertical-align:middle;\" /></a></td></tr>\n",
       "<tr><td>29</td><td>Lambda</td><td>parameter:&nbsp;48<br>body:&nbsp;33<br></td><td><a class=\"ProveItLink\" href=\"../69a1846558bce37804861263b5618785c29985c20/expr.ipynb\"><img src=\"../69a1846558bce37804861263b5618785c29985c20/expr.png\" style=\"display:inline;vertical-align:middle;\" /></a></td></tr>\n",
       "<tr><td>30</td><td>ExprRange</td><td>lambda_map:&nbsp;34<br>start_index:&nbsp;37<br>end_index:&nbsp;35<br></td><td><a class=\"ProveItLink\" href=\"../../../../../core_expr_types/__pv_it/common/7230c683fcd56948c826ac1be71b01b6fb2913950/expr.ipynb\"><img src=\"../../../../../core_expr_types/__pv_it/common/7230c683fcd56948c826ac1be71b01b6fb2913950/expr.png\" style=\"display:inline;vertical-align:middle;\" /></a></td></tr>\n",
       "<tr><td>31</td><td>ExprRange</td><td>lambda_map:&nbsp;36<br>start_index:&nbsp;37<br>end_index:&nbsp;38<br></td><td><a class=\"ProveItLink\" href=\"../../../../../core_expr_types/__pv_it/common/d0e70829681f7e0560cecc174fdf76cb311d43400/expr.ipynb\"><img src=\"../../../../../core_expr_types/__pv_it/common/d0e70829681f7e0560cecc174fdf76cb311d43400/expr.png\" style=\"display:inline;vertical-align:middle;\" /></a></td></tr>\n",
       "<tr><td>32</td><td>Operation</td><td>operator:&nbsp;40<br>operands:&nbsp;39<br></td><td><a class=\"ProveItLink\" href=\"../99217926884f96534bb8eb1bd6e3cfdfb7161e620/expr.ipynb\"><img src=\"../99217926884f96534bb8eb1bd6e3cfdfb7161e620/expr.png\" style=\"display:inline;vertical-align:middle;\" /></a></td></tr>\n",
       "<tr><td>33</td><td>Operation</td><td>operator:&nbsp;40<br>operands:&nbsp;41<br></td><td><a class=\"ProveItLink\" href=\"../a00476dd5f09ecff900ade543e9cb4c5b7fa6f610/expr.ipynb\"><img src=\"../a00476dd5f09ecff900ade543e9cb4c5b7fa6f610/expr.png\" style=\"display:inline;vertical-align:middle;\" /></a></td></tr>\n",
       "<tr><td>34</td><td>Lambda</td><td>parameter:&nbsp;48<br>body:&nbsp;42<br></td><td><a class=\"ProveItLink\" href=\"../../../../../core_expr_types/__pv_it/common/1527ad383e12f9c6ed6b371c9a7dd1892d80da1b0/expr.ipynb\"><img src=\"../../../../../core_expr_types/__pv_it/common/1527ad383e12f9c6ed6b371c9a7dd1892d80da1b0/expr.png\" style=\"display:inline;vertical-align:middle;\" /></a></td></tr>\n",
       "<tr><td>35</td><td>Variable</td><td></td><td><a class=\"ProveItLink\" href=\"../../../../../__pv_it/common/ae955345c83abf786c3aff8681cd5465beae262d0/expr.ipynb\"><img src=\"../../../../../__pv_it/common/ae955345c83abf786c3aff8681cd5465beae262d0/expr.png\" style=\"display:inline;vertical-align:middle;\" /></a></td></tr>\n",
       "<tr><td>36</td><td>Lambda</td><td>parameter:&nbsp;48<br>body:&nbsp;43<br></td><td><a class=\"ProveItLink\" href=\"../../../../../core_expr_types/__pv_it/common/d763764ede9c88a33f4b750791da02d1a21cb6820/expr.ipynb\"><img src=\"../../../../../core_expr_types/__pv_it/common/d763764ede9c88a33f4b750791da02d1a21cb6820/expr.png\" style=\"display:inline;vertical-align:middle;\" /></a></td></tr>\n",
       "<tr><td>37</td><td>Literal</td><td></td><td><a class=\"ProveItLink\" href=\"../../../../numerals/__pv_it/common/682157d4892d216d9e5626ed533aff9b56b9506e0/expr.ipynb\"><img src=\"../../../../numerals/__pv_it/common/682157d4892d216d9e5626ed533aff9b56b9506e0/expr.png\" style=\"display:inline;vertical-align:middle;\" /></a></td></tr>\n",
       "<tr><td>38</td><td>Variable</td><td></td><td><a class=\"ProveItLink\" href=\"../../../../../__pv_it/common/1ed21df18baca2f42b561a7ffbf30a2743d594650/expr.ipynb\"><img src=\"../../../../../__pv_it/common/1ed21df18baca2f42b561a7ffbf30a2743d594650/expr.png\" style=\"display:inline;vertical-align:middle;\" /></a></td></tr>\n",
       "<tr><td>39</td><td>ExprTuple</td><td>42, 44</td><td><a class=\"ProveItLink\" href=\"../ce93d50dac6e6e7831954e956696a52de96f364a0/expr.ipynb\"><img src=\"../ce93d50dac6e6e7831954e956696a52de96f364a0/expr.png\" style=\"display:inline;vertical-align:middle;\" /></a></td></tr>\n",
       "<tr><td>40</td><td>Literal</td><td></td><td><a class=\"ProveItLink\" href=\"../../../../../logic/sets/membership/__pv_it/common/477487d8796864d23d5810f83761435f25167f690/expr.ipynb\"><img src=\"../../../../../logic/sets/membership/__pv_it/common/477487d8796864d23d5810f83761435f25167f690/expr.png\" style=\"display:inline;vertical-align:middle;\" /></a></td></tr>\n",
       "<tr><td>41</td><td>ExprTuple</td><td>43, 44</td><td><a class=\"ProveItLink\" href=\"../feeb23765192335eba8432eeba56d920b3546e1d0/expr.ipynb\"><img src=\"../feeb23765192335eba8432eeba56d920b3546e1d0/expr.png\" style=\"display:inline;vertical-align:middle;\" /></a></td></tr>\n",
       "<tr><td>42</td><td>IndexedVar</td><td>variable:&nbsp;45<br>index:&nbsp;48<br></td><td><a class=\"ProveItLink\" href=\"../../../../../core_expr_types/__pv_it/common/3a62c13e156d62d52fe585fa37cc2172fcf685260/expr.ipynb\"><img src=\"../../../../../core_expr_types/__pv_it/common/3a62c13e156d62d52fe585fa37cc2172fcf685260/expr.png\" style=\"display:inline;vertical-align:middle;\" /></a></td></tr>\n",
       "<tr><td>43</td><td>IndexedVar</td><td>variable:&nbsp;46<br>index:&nbsp;48<br></td><td><a class=\"ProveItLink\" href=\"../../../../../core_expr_types/__pv_it/common/8542342c36565a593724a99f9c08d995c1c21af20/expr.ipynb\"><img src=\"../../../../../core_expr_types/__pv_it/common/8542342c36565a593724a99f9c08d995c1c21af20/expr.png\" style=\"display:inline;vertical-align:middle;\" /></a></td></tr>\n",
       "<tr><td>44</td><td>Literal</td><td></td><td><a class=\"ProveItLink\" href=\"../../../../number_sets/complex_numbers/__pv_it/common/d18a028138f659eda00de597c28a3447fe87eb100/expr.ipynb\"><img src=\"../../../../number_sets/complex_numbers/__pv_it/common/d18a028138f659eda00de597c28a3447fe87eb100/expr.png\" style=\"display:inline;vertical-align:middle;\" /></a></td></tr>\n",
       "<tr><td>45</td><td>Variable</td><td></td><td><a class=\"ProveItLink\" href=\"../../../../../__pv_it/common/c06c606ec12678c58933ac85412ecadc2ae28be60/expr.ipynb\"><img src=\"../../../../../__pv_it/common/c06c606ec12678c58933ac85412ecadc2ae28be60/expr.png\" style=\"display:inline;vertical-align:middle;\" /></a></td></tr>\n",
       "<tr><td>46</td><td>Variable</td><td></td><td><a class=\"ProveItLink\" href=\"../../../../../__pv_it/common/195236b98c6c564a75b5dbada74b173bc52d5c3e0/expr.ipynb\"><img src=\"../../../../../__pv_it/common/195236b98c6c564a75b5dbada74b173bc52d5c3e0/expr.png\" style=\"display:inline;vertical-align:middle;\" /></a></td></tr>\n",
       "<tr><td>47</td><td>ExprTuple</td><td>48</td><td><a class=\"ProveItLink\" href=\"../../../../../core_expr_types/__pv_it/common/4b0dd6be36d76552eda6a95d5b4a27f5a5b62f900/expr.ipynb\"><img src=\"../../../../../core_expr_types/__pv_it/common/4b0dd6be36d76552eda6a95d5b4a27f5a5b62f900/expr.png\" style=\"display:inline;vertical-align:middle;\" /></a></td></tr>\n",
       "<tr><td>48</td><td>Variable</td><td></td><td><a class=\"ProveItLink\" href=\"../../../../../core_expr_types/__pv_it/common/006c465e50948aa2b52285e2de47974f741255cc0/expr.ipynb\"><img src=\"../../../../../core_expr_types/__pv_it/common/006c465e50948aa2b52285e2de47974f741255cc0/expr.png\" style=\"display:inline;vertical-align:middle;\" /></a></td></tr>\n",
       "</table>\n"
      ],
      "text/plain": [
       "0. (i, j) -> {forall_{a_{1}, a_{2}, ..., a_{i}, b_{1}, b_{2}, ..., b_{j} in Complex} ((a_{1} *  a_{2} *  ... *  a_{i} * 1* b_{1} *  b_{2} *  ... *  b_{j}) = (a_{1} *  a_{2} *  ... *  a_{i}* b_{1} *  b_{2} *  ... *  b_{j})) if i in Natural ,  j in Natural.\n",
       "   core type: Lambda\n",
       "   parameters: 1\\n   body: 2\n",
       "1. (i, j)\n",
       "   core type: ExprTuple\n",
       "   sub-expressions: 35, 38\n",
       "2. {forall_{a_{1}, a_{2}, ..., a_{i}, b_{1}, b_{2}, ..., b_{j} in Complex} ((a_{1} *  a_{2} *  ... *  a_{i} * 1* b_{1} *  b_{2} *  ... *  b_{j}) = (a_{1} *  a_{2} *  ... *  a_{i}* b_{1} *  b_{2} *  ... *  b_{j})) if i in Natural ,  j in Natural.\n",
       "   core type: Conditional\n",
       "   value: 3\n",
       "   condition: 4\n",
       "3. forall_{a_{1}, a_{2}, ..., a_{i}, b_{1}, b_{2}, ..., b_{j} in Complex} ((a_{1} *  a_{2} *  ... *  a_{i} * 1* b_{1} *  b_{2} *  ... *  b_{j}) = (a_{1} *  a_{2} *  ... *  a_{i}* b_{1} *  b_{2} *  ... *  b_{j}))\n",
       "   core type: Operation\n",
       "   operator: 5\n",
       "   operand: 8\n",
       "4. (i in Natural) and (j in Natural)\n",
       "   core type: Operation\n",
       "   operator: 19\n",
       "   operands: 7\n",
       "5. forall\n",
       "   core type: Literal\n",
       "   sub-expressions: \n",
       "6. ((a_{1}, a_{2}, ..., a_{i}, b_{1}, b_{2}, ..., b_{j}) -> {(a_{1} *  a_{2} *  ... *  a_{i} * 1* b_{1} *  b_{2} *  ... *  b_{j}) = (a_{1} *  a_{2} *  ... *  a_{i}* b_{1} *  b_{2} *  ... *  b_{j}) if (a_{1} in Complex) ,  (a_{2} in Complex) ,  ... ,  (a_{i} in Complex), (b_{1} in Complex) ,  (b_{2} in Complex) ,  ... ,  (b_{j} in Complex).)\n",
       "   core type: ExprTuple\n",
       "   sub-expressions: 8\n",
       "7. (i in Natural, j in Natural)\n",
       "   core type: ExprTuple\n",
       "   sub-expressions: 9, 10\n",
       "8. (a_{1}, a_{2}, ..., a_{i}, b_{1}, b_{2}, ..., b_{j}) -> {(a_{1} *  a_{2} *  ... *  a_{i} * 1* b_{1} *  b_{2} *  ... *  b_{j}) = (a_{1} *  a_{2} *  ... *  a_{i}* b_{1} *  b_{2} *  ... *  b_{j}) if (a_{1} in Complex) ,  (a_{2} in Complex) ,  ... ,  (a_{i} in Complex), (b_{1} in Complex) ,  (b_{2} in Complex) ,  ... ,  (b_{j} in Complex).\n",
       "   core type: Lambda\n",
       "   parameters: 27\\n   body: 11\n",
       "9. i in Natural\n",
       "   core type: Operation\n",
       "   operator: 40\n",
       "   operands: 12\n",
       "10. j in Natural\n",
       "    core type: Operation\n",
       "    operator: 40\n",
       "    operands: 13\n",
       "11. {(a_{1} *  a_{2} *  ... *  a_{i} * 1* b_{1} *  b_{2} *  ... *  b_{j}) = (a_{1} *  a_{2} *  ... *  a_{i}* b_{1} *  b_{2} *  ... *  b_{j}) if (a_{1} in Complex) ,  (a_{2} in Complex) ,  ... ,  (a_{i} in Complex), (b_{1} in Complex) ,  (b_{2} in Complex) ,  ... ,  (b_{j} in Complex).\n",
       "    core type: Conditional\n",
       "    value: 14\n",
       "    condition: 15\n",
       "12. (i, Natural)\n",
       "    core type: ExprTuple\n",
       "    sub-expressions: 35, 16\n",
       "13. (j, Natural)\n",
       "    core type: ExprTuple\n",
       "    sub-expressions: 38, 16\n",
       "14. (a_{1} *  a_{2} *  ... *  a_{i} * 1* b_{1} *  b_{2} *  ... *  b_{j}) = (a_{1} *  a_{2} *  ... *  a_{i}* b_{1} *  b_{2} *  ... *  b_{j})\n",
       "    core type: Operation\n",
       "    operator: 17\n",
       "    operands: 18\n",
       "15. (a_{1} in Complex) and  (a_{2} in Complex) and  ... and  (a_{i} in Complex)and (b_{1} in Complex) and  (b_{2} in Complex) and  ... and  (b_{j} in Complex)\n",
       "    core type: Operation\n",
       "    operator: 19\n",
       "    operands: 20\n",
       "16. Natural\n",
       "    core type: Literal\n",
       "    sub-expressions: \n",
       "17. =\n",
       "    core type: Literal\n",
       "    sub-expressions: \n",
       "18. (a_{1} *  a_{2} *  ... *  a_{i} * 1* b_{1} *  b_{2} *  ... *  b_{j}, a_{1} *  a_{2} *  ... *  a_{i}* b_{1} *  b_{2} *  ... *  b_{j})\n",
       "    core type: ExprTuple\n",
       "    sub-expressions: 21, 22\n",
       "19. and\n",
       "    core type: Literal\n",
       "    sub-expressions: \n",
       "20. ((a_{1} in Complex), (a_{2} in Complex), ..., (a_{i} in Complex),(b_{1} in Complex), (b_{2} in Complex), ..., (b_{j} in Complex))\n",
       "    core type: ExprTuple\n",
       "    sub-expressions: 23, 24\n",
       "21. a_{1} *  a_{2} *  ... *  a_{i} * 1* b_{1} *  b_{2} *  ... *  b_{j}\n",
       "    core type: Operation\n",
       "    operator: 26\n",
       "    operands: 25\n",
       "22. a_{1} *  a_{2} *  ... *  a_{i}* b_{1} *  b_{2} *  ... *  b_{j}\n",
       "    core type: Operation\n",
       "    operator: 26\n",
       "    operands: 27\n",
       "23. (a_{1} in Complex), (a_{2} in Complex), ..., (a_{i} in Complex)\n",
       "    core type: ExprRange\n",
       "    lambda_map: 28\n",
       "    start_index: 37\n",
       "    end_index: 35\n",
       "24. (b_{1} in Complex), (b_{2} in Complex), ..., (b_{j} in Complex)\n",
       "    core type: ExprRange\n",
       "    lambda_map: 29\n",
       "    start_index: 37\n",
       "    end_index: 38\n",
       "25. (a_{1}, a_{2}, ..., a_{i}, 1,b_{1}, b_{2}, ..., b_{j})\n",
       "    core type: ExprTuple\n",
       "    sub-expressions: 30, 37, 31\n",
       "26. *\n",
       "    core type: Literal\n",
       "    sub-expressions: \n",
       "27. (a_{1}, a_{2}, ..., a_{i},b_{1}, b_{2}, ..., b_{j})\n",
       "    core type: ExprTuple\n",
       "    sub-expressions: 30, 31\n",
       "28. _a -> (a_{_a} in Complex)\n",
       "    core type: Lambda\n",
       "    parameter: 48\n",
       "    body: 32\n",
       "29. _a -> (b_{_a} in Complex)\n",
       "    core type: Lambda\n",
       "    parameter: 48\n",
       "    body: 33\n",
       "30. a_{1}, a_{2}, ..., a_{i}\n",
       "    core type: ExprRange\n",
       "    lambda_map: 34\n",
       "    start_index: 37\n",
       "    end_index: 35\n",
       "31. b_{1}, b_{2}, ..., b_{j}\n",
       "    core type: ExprRange\n",
       "    lambda_map: 36\n",
       "    start_index: 37\n",
       "    end_index: 38\n",
       "32. a_{_a} in Complex\n",
       "    core type: Operation\n",
       "    operator: 40\n",
       "    operands: 39\n",
       "33. b_{_a} in Complex\n",
       "    core type: Operation\n",
       "    operator: 40\n",
       "    operands: 41\n",
       "34. _a -> a_{_a}\n",
       "    core type: Lambda\n",
       "    parameter: 48\n",
       "    body: 42\n",
       "35. i\n",
       "    core type: Variable\n",
       "    sub-expressions: \n",
       "36. _a -> b_{_a}\n",
       "    core type: Lambda\n",
       "    parameter: 48\n",
       "    body: 43\n",
       "37. 1\n",
       "    core type: Literal\n",
       "    sub-expressions: \n",
       "38. j\n",
       "    core type: Variable\n",
       "    sub-expressions: \n",
       "39. (a_{_a}, Complex)\n",
       "    core type: ExprTuple\n",
       "    sub-expressions: 42, 44\n",
       "40. in\n",
       "    core type: Literal\n",
       "    sub-expressions: \n",
       "41. (b_{_a}, Complex)\n",
       "    core type: ExprTuple\n",
       "    sub-expressions: 43, 44\n",
       "42. a_{_a}\n",
       "    core type: IndexedVar\n",
       "variable: 45\n",
       "index: 48\n",
       "43. b_{_a}\n",
       "    core type: IndexedVar\n",
       "variable: 46\n",
       "index: 48\n",
       "44. Complex\n",
       "    core type: Literal\n",
       "    sub-expressions: \n",
       "45. a\n",
       "    core type: Variable\n",
       "    sub-expressions: \n",
       "46. b\n",
       "    core type: Variable\n",
       "    sub-expressions: \n",
       "47. (_a)\n",
       "    core type: ExprTuple\n",
       "    sub-expressions: 48\n",
       "48. _a\n",
       "    core type: Variable\n",
       "    sub-expressions: "
      ]
     },
     "metadata": {},
     "output_type": "display_data"
    }
   ],
   "source": [
    "# display the expression information\n",
    "stored_expr.expr_info()"
   ]
  },
  {
   "cell_type": "code",
   "execution_count": null,
   "metadata": {},
   "outputs": [],
   "source": []
  }
 ],
 "metadata": {
  "kernelspec": {
   "display_name": "Python 3",
   "language": "python",
   "name": "python3"
  }
 },
 "nbformat": 4,
 "nbformat_minor": 0
}