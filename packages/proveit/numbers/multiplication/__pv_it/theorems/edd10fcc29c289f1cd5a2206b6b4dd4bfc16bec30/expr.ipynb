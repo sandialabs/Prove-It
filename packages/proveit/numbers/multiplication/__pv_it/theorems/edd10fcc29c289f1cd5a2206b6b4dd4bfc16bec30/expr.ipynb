{
 "cells": [
  {
   "cell_type": "markdown",
   "metadata": {},
   "source": [
    "Expression of type <a class=\"ProveItLink\" href=\"../../../../../../../doc/html/api/proveit.Lambda.html\">Lambda</a>\n",
    "=======================\n",
    "# from the theory of <a class=\"ProveItLink\" href=\"../../../_theory_nbs_/theory.ipynb\">proveit.numbers.multiplication</a>"
   ]
  },
  {
   "cell_type": "code",
   "execution_count": 1,
   "metadata": {},
   "outputs": [],
   "source": [
    "import proveit\n",
    "# Automation is not needed when building an expression:\n",
    "proveit.defaults.automation = False # This will speed things up.\n",
    "proveit.defaults.inline_pngs = False # Makes files smaller.\n",
    "%load_expr # Load the stored expression as 'stored_expr'\n",
    "# import Expression classes needed to build the expression\n",
    "from proveit import Conditional, ExprRange, IndexedVar, Lambda, Variable, a, n\n",
    "from proveit.core_expr_types import a_1_to_n\n",
    "from proveit.logic import Equals, Forall, InSet, Or\n",
    "from proveit.numbers import Complex, Mult, Natural, ZeroSet, one, zero"
   ]
  },
  {
   "cell_type": "code",
   "execution_count": 2,
   "metadata": {},
   "outputs": [
    {
     "data": {
      "text/html": [
       "<strong id=\"expr\">expr:</strong> <a class=\"ProveItLink\" href=\"expr.ipynb\"><img src=\"expr.png\" style=\"display:inline;vertical-align:middle;\" /></a><br>"
      ],
      "text/plain": [
       "<IPython.core.display.HTML object>"
      ]
     },
     "metadata": {},
     "output_type": "display_data"
    }
   ],
   "source": [
    "# build up the expression from sub-expressions\n",
    "sub_expr1 = Variable(\"_a\", latex_format = r\"{_{-}a}\")\n",
    "expr = Lambda(n, Conditional(Forall(instance_param_or_params = [a_1_to_n], instance_expr = InSet(Mult(a_1_to_n), ZeroSet), domain = Complex, condition = Or(ExprRange(sub_expr1, Equals(IndexedVar(a, sub_expr1), zero), one, n))), InSet(n, Natural)))"
   ]
  },
  {
   "cell_type": "code",
   "execution_count": 3,
   "metadata": {},
   "outputs": [
    {
     "name": "stdout",
     "output_type": "stream",
     "text": [
      "Passed sanity check: expr matches stored_expr\n"
     ]
    }
   ],
   "source": [
    "# check that the built expression is the same as the stored expression\n",
    "assert expr == stored_expr\n",
    "assert expr._style_id == stored_expr._style_id\n",
    "print(\"Passed sanity check: expr matches stored_expr\")"
   ]
  },
  {
   "cell_type": "code",
   "execution_count": 4,
   "metadata": {},
   "outputs": [
    {
     "name": "stdout",
     "output_type": "stream",
     "text": [
      "n \\mapsto \\left\\{\\forall_{a_{1}, a_{2}, \\ldots, a_{n} \\in \\mathbb{C}~|~\\left(a_{1} = 0\\right) \\lor  \\left(a_{2} = 0\\right) \\lor  \\ldots \\lor  \\left(a_{n} = 0\\right)}~\\left(\\left(a_{1} \\cdot  a_{2} \\cdot  \\ldots \\cdot  a_{n}\\right) \\in \\left\\{0\\right\\}\\right) \\textrm{ if } n \\in \\mathbb{N}\\right..\n"
     ]
    }
   ],
   "source": [
    "# Show the LaTeX representation of the expression for convenience if you need it.\n",
    "print(stored_expr.latex())"
   ]
  },
  {
   "cell_type": "code",
   "execution_count": 5,
   "metadata": {},
   "outputs": [
    {
     "data": {
      "text/html": [
       "no style options"
      ],
      "text/plain": [
       "no style options"
      ]
     },
     "metadata": {},
     "output_type": "display_data"
    }
   ],
   "source": [
    "stored_expr.style_options()"
   ]
  },
  {
   "cell_type": "code",
   "execution_count": 6,
   "metadata": {},
   "outputs": [
    {
     "data": {
      "text/html": [
       "<table><tr><th>&nbsp;</th><th>core type</th><th>sub-expressions</th><th>expression</th></tr>\n",
       "<tr><td>0</td><td>Lambda</td><td>parameter:&nbsp;35<br>body:&nbsp;2<br></td><td><a class=\"ProveItLink\" href=\"expr.ipynb\"><img src=\"expr.png\" style=\"display:inline;vertical-align:middle;\" /></a></td></tr>\n",
       "<tr><td>1</td><td>ExprTuple</td><td>35</td><td><a class=\"ProveItLink\" href=\"../ca565dff2751ea9a3b48fe855133b9e0c2eca83f0/expr.ipynb\"><img src=\"../ca565dff2751ea9a3b48fe855133b9e0c2eca83f0/expr.png\" style=\"display:inline;vertical-align:middle;\" /></a></td></tr>\n",
       "<tr><td>2</td><td>Conditional</td><td>value:&nbsp;3<br>condition:&nbsp;4<br></td><td><a class=\"ProveItLink\" href=\"../b053a537972f72ab543c7cdbb5cae76a9d464d5a0/expr.ipynb\"><img src=\"../b053a537972f72ab543c7cdbb5cae76a9d464d5a0/expr.png\" style=\"display:inline;vertical-align:middle;\" /></a></td></tr>\n",
       "<tr><td>3</td><td>Operation</td><td>operator:&nbsp;5<br>operand:&nbsp;8<br></td><td><a class=\"ProveItLink\" href=\"../bc5418a7d6b8d56935ed424ffb241069208931100/expr.ipynb\"><img src=\"../bc5418a7d6b8d56935ed424ffb241069208931100/expr.png\" style=\"display:inline;vertical-align:middle;\" /></a></td></tr>\n",
       "<tr><td>4</td><td>Operation</td><td>operator:&nbsp;31<br>operands:&nbsp;7<br></td><td><a class=\"ProveItLink\" href=\"../a4c62904f3a87ce48a16b43526806be1316ce7cc0/expr.ipynb\"><img src=\"../a4c62904f3a87ce48a16b43526806be1316ce7cc0/expr.png\" style=\"display:inline;vertical-align:middle;\" /></a></td></tr>\n",
       "<tr><td>5</td><td>Literal</td><td></td><td><a class=\"ProveItLink\" href=\"../../../../../logic/booleans/quantification/universality/__pv_it/common/083d2baa0b8ecab1d230f9ec29a15aa1355809fb0/expr.ipynb\"><img src=\"../../../../../logic/booleans/quantification/universality/__pv_it/common/083d2baa0b8ecab1d230f9ec29a15aa1355809fb0/expr.png\" style=\"display:inline;vertical-align:middle;\" /></a></td></tr>\n",
       "<tr><td>6</td><td>ExprTuple</td><td>8</td><td><a class=\"ProveItLink\" href=\"../fefdfcd1fb0db7c2c16e4b07c72288604b54ce930/expr.ipynb\"><img src=\"../fefdfcd1fb0db7c2c16e4b07c72288604b54ce930/expr.png\" style=\"display:inline;vertical-align:middle;\" /></a></td></tr>\n",
       "<tr><td>7</td><td>ExprTuple</td><td>35, 9</td><td><a class=\"ProveItLink\" href=\"../ecc3c58a9897ba541ec19be82e54ee986957c4200/expr.ipynb\"><img src=\"../ecc3c58a9897ba541ec19be82e54ee986957c4200/expr.png\" style=\"display:inline;vertical-align:middle;\" /></a></td></tr>\n",
       "<tr><td>8</td><td>Lambda</td><td>parameters:&nbsp;21<br>body:&nbsp;10<br></td><td><a class=\"ProveItLink\" href=\"../7a16fe81c54e8650b3884221f765f60fb7a2ebfb0/expr.ipynb\"><img src=\"../7a16fe81c54e8650b3884221f765f60fb7a2ebfb0/expr.png\" style=\"display:inline;vertical-align:middle;\" /></a></td></tr>\n",
       "<tr><td>9</td><td>Literal</td><td></td><td><a class=\"ProveItLink\" href=\"../../../../number_sets/natural_numbers/__pv_it/common/8b7c321957f52ed3b05b36af612eeae4fa4783bc0/expr.ipynb\"><img src=\"../../../../number_sets/natural_numbers/__pv_it/common/8b7c321957f52ed3b05b36af612eeae4fa4783bc0/expr.png\" style=\"display:inline;vertical-align:middle;\" /></a></td></tr>\n",
       "<tr><td>10</td><td>Conditional</td><td>value:&nbsp;11<br>condition:&nbsp;12<br></td><td><a class=\"ProveItLink\" href=\"../d3ab6146a6b615d2645946711e789d994c6411000/expr.ipynb\"><img src=\"../d3ab6146a6b615d2645946711e789d994c6411000/expr.png\" style=\"display:inline;vertical-align:middle;\" /></a></td></tr>\n",
       "<tr><td>11</td><td>Operation</td><td>operator:&nbsp;31<br>operands:&nbsp;13<br></td><td><a class=\"ProveItLink\" href=\"../be17fa1a5290ae55002faa331fdbb434661959380/expr.ipynb\"><img src=\"../be17fa1a5290ae55002faa331fdbb434661959380/expr.png\" style=\"display:inline;vertical-align:middle;\" /></a></td></tr>\n",
       "<tr><td>12</td><td>Operation</td><td>operator:&nbsp;14<br>operands:&nbsp;15<br></td><td><a class=\"ProveItLink\" href=\"../abf78ed5e3df0baea44720d7d78d485f72cff2190/expr.ipynb\"><img src=\"../abf78ed5e3df0baea44720d7d78d485f72cff2190/expr.png\" style=\"display:inline;vertical-align:middle;\" /></a></td></tr>\n",
       "<tr><td>13</td><td>ExprTuple</td><td>16, 17</td><td><a class=\"ProveItLink\" href=\"../38e42f49a3415364137b4f1fe9b203be91de28e70/expr.ipynb\"><img src=\"../38e42f49a3415364137b4f1fe9b203be91de28e70/expr.png\" style=\"display:inline;vertical-align:middle;\" /></a></td></tr>\n",
       "<tr><td>14</td><td>Literal</td><td></td><td><a class=\"ProveItLink\" href=\"../../../../../logic/booleans/conjunction/__pv_it/common/42118ff318bd65d98b1393f64ce7c2269feef76e0/expr.ipynb\"><img src=\"../../../../../logic/booleans/conjunction/__pv_it/common/42118ff318bd65d98b1393f64ce7c2269feef76e0/expr.png\" style=\"display:inline;vertical-align:middle;\" /></a></td></tr>\n",
       "<tr><td>15</td><td>ExprTuple</td><td>18, 19</td><td><a class=\"ProveItLink\" href=\"../bdcdc937d502224e9f835ce1db07dfcdd5924a530/expr.ipynb\"><img src=\"../bdcdc937d502224e9f835ce1db07dfcdd5924a530/expr.png\" style=\"display:inline;vertical-align:middle;\" /></a></td></tr>\n",
       "<tr><td>16</td><td>Operation</td><td>operator:&nbsp;20<br>operands:&nbsp;21<br></td><td><a class=\"ProveItLink\" href=\"../a2b6912493c4d5eb73f39fef02f757fe50209a820/expr.ipynb\"><img src=\"../a2b6912493c4d5eb73f39fef02f757fe50209a820/expr.png\" style=\"display:inline;vertical-align:middle;\" /></a></td></tr>\n",
       "<tr><td>17</td><td>Operation</td><td>operator:&nbsp;22<br>operand:&nbsp;41<br></td><td><a class=\"ProveItLink\" href=\"../../../../number_sets/natural_numbers/__pv_it/common/a1a2359b1c680b0d2839472dabd98a8ebdf044800/expr.ipynb\"><img src=\"../../../../number_sets/natural_numbers/__pv_it/common/a1a2359b1c680b0d2839472dabd98a8ebdf044800/expr.png\" style=\"display:inline;vertical-align:middle;\" /></a></td></tr>\n",
       "<tr><td>18</td><td>ExprRange</td><td>lambda_map:&nbsp;24<br>start_index:&nbsp;34<br>end_index:&nbsp;35<br></td><td><a class=\"ProveItLink\" href=\"../47c9da5a76bc9f6adaa8683e62b23c00962632280/expr.ipynb\"><img src=\"../47c9da5a76bc9f6adaa8683e62b23c00962632280/expr.png\" style=\"display:inline;vertical-align:middle;\" /></a></td></tr>\n",
       "<tr><td>19</td><td>Operation</td><td>operator:&nbsp;25<br>operands:&nbsp;26<br></td><td><a class=\"ProveItLink\" href=\"../960381f8207fbaef482381d7434d2d28ff902a8d0/expr.ipynb\"><img src=\"../960381f8207fbaef482381d7434d2d28ff902a8d0/expr.png\" style=\"display:inline;vertical-align:middle;\" /></a></td></tr>\n",
       "<tr><td>20</td><td>Literal</td><td></td><td><a class=\"ProveItLink\" href=\"../../common/ed719cef37831779c16481533a4d380a2f95ab270/expr.ipynb\"><img src=\"../../common/ed719cef37831779c16481533a4d380a2f95ab270/expr.png\" style=\"display:inline;vertical-align:middle;\" /></a></td></tr>\n",
       "<tr><td>21</td><td>ExprTuple</td><td>27</td><td><a class=\"ProveItLink\" href=\"../7b420e2a84f53537bd285f3baa95d83c0ea120860/expr.ipynb\"><img src=\"../7b420e2a84f53537bd285f3baa95d83c0ea120860/expr.png\" style=\"display:inline;vertical-align:middle;\" /></a></td></tr>\n",
       "<tr><td>22</td><td>Literal</td><td></td><td><a class=\"ProveItLink\" href=\"../../../../../logic/sets/enumeration/__pv_it/common/0ead90ccbf4f17bc585a51f8aa904bb77916ae6e0/expr.ipynb\"><img src=\"../../../../../logic/sets/enumeration/__pv_it/common/0ead90ccbf4f17bc585a51f8aa904bb77916ae6e0/expr.png\" style=\"display:inline;vertical-align:middle;\" /></a></td></tr>\n",
       "<tr><td>23</td><td>ExprTuple</td><td>41</td><td><a class=\"ProveItLink\" href=\"../../../../number_sets/natural_numbers/__pv_it/common/2048ac4936a0fdafec65dc88dd04b24596ab2f8b0/expr.ipynb\"><img src=\"../../../../number_sets/natural_numbers/__pv_it/common/2048ac4936a0fdafec65dc88dd04b24596ab2f8b0/expr.png\" style=\"display:inline;vertical-align:middle;\" /></a></td></tr>\n",
       "<tr><td>24</td><td>Lambda</td><td>parameter:&nbsp;44<br>body:&nbsp;28<br></td><td><a class=\"ProveItLink\" href=\"../5c5d2db4e62eeb1316594489c9dc78d764404c220/expr.ipynb\"><img src=\"../5c5d2db4e62eeb1316594489c9dc78d764404c220/expr.png\" style=\"display:inline;vertical-align:middle;\" /></a></td></tr>\n",
       "<tr><td>25</td><td>Literal</td><td></td><td><a class=\"ProveItLink\" href=\"../../../../../logic/booleans/disjunction/__pv_it/common/ef8e59262ff8e0133aa1ca984dd6b3a41bf69d5b0/expr.ipynb\"><img src=\"../../../../../logic/booleans/disjunction/__pv_it/common/ef8e59262ff8e0133aa1ca984dd6b3a41bf69d5b0/expr.png\" style=\"display:inline;vertical-align:middle;\" /></a></td></tr>\n",
       "<tr><td>26</td><td>ExprTuple</td><td>29</td><td><a class=\"ProveItLink\" href=\"../d40c76414705d4d8b468a5c04445acc8c773c1340/expr.ipynb\"><img src=\"../d40c76414705d4d8b468a5c04445acc8c773c1340/expr.png\" style=\"display:inline;vertical-align:middle;\" /></a></td></tr>\n",
       "<tr><td>27</td><td>ExprRange</td><td>lambda_map:&nbsp;30<br>start_index:&nbsp;34<br>end_index:&nbsp;35<br></td><td><a class=\"ProveItLink\" href=\"../../../../../core_expr_types/__pv_it/common/7ee2dd28754734e63298daa7955625a3d904698e0/expr.ipynb\"><img src=\"../../../../../core_expr_types/__pv_it/common/7ee2dd28754734e63298daa7955625a3d904698e0/expr.png\" style=\"display:inline;vertical-align:middle;\" /></a></td></tr>\n",
       "<tr><td>28</td><td>Operation</td><td>operator:&nbsp;31<br>operands:&nbsp;32<br></td><td><a class=\"ProveItLink\" href=\"../99217926884f96534bb8eb1bd6e3cfdfb7161e620/expr.ipynb\"><img src=\"../99217926884f96534bb8eb1bd6e3cfdfb7161e620/expr.png\" style=\"display:inline;vertical-align:middle;\" /></a></td></tr>\n",
       "<tr><td>29</td><td>ExprRange</td><td>lambda_map:&nbsp;33<br>start_index:&nbsp;34<br>end_index:&nbsp;35<br></td><td><a class=\"ProveItLink\" href=\"../69321033d76c2e7f132c8834a7a667cc4d27f01f0/expr.ipynb\"><img src=\"../69321033d76c2e7f132c8834a7a667cc4d27f01f0/expr.png\" style=\"display:inline;vertical-align:middle;\" /></a></td></tr>\n",
       "<tr><td>30</td><td>Lambda</td><td>parameter:&nbsp;44<br>body:&nbsp;40<br></td><td><a class=\"ProveItLink\" href=\"../../../../../core_expr_types/__pv_it/common/1527ad383e12f9c6ed6b371c9a7dd1892d80da1b0/expr.ipynb\"><img src=\"../../../../../core_expr_types/__pv_it/common/1527ad383e12f9c6ed6b371c9a7dd1892d80da1b0/expr.png\" style=\"display:inline;vertical-align:middle;\" /></a></td></tr>\n",
       "<tr><td>31</td><td>Literal</td><td></td><td><a class=\"ProveItLink\" href=\"../../../../../logic/sets/membership/__pv_it/common/477487d8796864d23d5810f83761435f25167f690/expr.ipynb\"><img src=\"../../../../../logic/sets/membership/__pv_it/common/477487d8796864d23d5810f83761435f25167f690/expr.png\" style=\"display:inline;vertical-align:middle;\" /></a></td></tr>\n",
       "<tr><td>32</td><td>ExprTuple</td><td>40, 36</td><td><a class=\"ProveItLink\" href=\"../ce93d50dac6e6e7831954e956696a52de96f364a0/expr.ipynb\"><img src=\"../ce93d50dac6e6e7831954e956696a52de96f364a0/expr.png\" style=\"display:inline;vertical-align:middle;\" /></a></td></tr>\n",
       "<tr><td>33</td><td>Lambda</td><td>parameter:&nbsp;44<br>body:&nbsp;37<br></td><td><a class=\"ProveItLink\" href=\"../00b7776177bce6317ffbe8cfdf11e4bd8f2f10c10/expr.ipynb\"><img src=\"../00b7776177bce6317ffbe8cfdf11e4bd8f2f10c10/expr.png\" style=\"display:inline;vertical-align:middle;\" /></a></td></tr>\n",
       "<tr><td>34</td><td>Literal</td><td></td><td><a class=\"ProveItLink\" href=\"../../../../numerals/__pv_it/common/682157d4892d216d9e5626ed533aff9b56b9506e0/expr.ipynb\"><img src=\"../../../../numerals/__pv_it/common/682157d4892d216d9e5626ed533aff9b56b9506e0/expr.png\" style=\"display:inline;vertical-align:middle;\" /></a></td></tr>\n",
       "<tr><td>35</td><td>Variable</td><td></td><td><a class=\"ProveItLink\" href=\"../../../../../__pv_it/common/8968bb04eb3f7dfa02353397ce929b025bbd79c20/expr.ipynb\"><img src=\"../../../../../__pv_it/common/8968bb04eb3f7dfa02353397ce929b025bbd79c20/expr.png\" style=\"display:inline;vertical-align:middle;\" /></a></td></tr>\n",
       "<tr><td>36</td><td>Literal</td><td></td><td><a class=\"ProveItLink\" href=\"../../../../number_sets/complex_numbers/__pv_it/common/d18a028138f659eda00de597c28a3447fe87eb100/expr.ipynb\"><img src=\"../../../../number_sets/complex_numbers/__pv_it/common/d18a028138f659eda00de597c28a3447fe87eb100/expr.png\" style=\"display:inline;vertical-align:middle;\" /></a></td></tr>\n",
       "<tr><td>37</td><td>Operation</td><td>operator:&nbsp;38<br>operands:&nbsp;39<br></td><td><a class=\"ProveItLink\" href=\"../8c747d780d0fc1be001a53ffdb08aeb13e8b4f740/expr.ipynb\"><img src=\"../8c747d780d0fc1be001a53ffdb08aeb13e8b4f740/expr.png\" style=\"display:inline;vertical-align:middle;\" /></a></td></tr>\n",
       "<tr><td>38</td><td>Literal</td><td></td><td><a class=\"ProveItLink\" href=\"../../../../../logic/equality/__pv_it/common/fb96dc12b2aa8801dda64d0132b396c63d1502bb0/expr.ipynb\"><img src=\"../../../../../logic/equality/__pv_it/common/fb96dc12b2aa8801dda64d0132b396c63d1502bb0/expr.png\" style=\"display:inline;vertical-align:middle;\" /></a></td></tr>\n",
       "<tr><td>39</td><td>ExprTuple</td><td>40, 41</td><td><a class=\"ProveItLink\" href=\"../8f52bea6ae7df8d1f4e62b86a0c1dc6e1b8016dd0/expr.ipynb\"><img src=\"../8f52bea6ae7df8d1f4e62b86a0c1dc6e1b8016dd0/expr.png\" style=\"display:inline;vertical-align:middle;\" /></a></td></tr>\n",
       "<tr><td>40</td><td>IndexedVar</td><td>variable:&nbsp;42<br>index:&nbsp;44<br></td><td><a class=\"ProveItLink\" href=\"../../../../../core_expr_types/__pv_it/common/3a62c13e156d62d52fe585fa37cc2172fcf685260/expr.ipynb\"><img src=\"../../../../../core_expr_types/__pv_it/common/3a62c13e156d62d52fe585fa37cc2172fcf685260/expr.png\" style=\"display:inline;vertical-align:middle;\" /></a></td></tr>\n",
       "<tr><td>41</td><td>Literal</td><td></td><td><a class=\"ProveItLink\" href=\"../../../../numerals/__pv_it/common/dd4e19e8b134dfb293470ea55fe3589b0ab9f8040/expr.ipynb\"><img src=\"../../../../numerals/__pv_it/common/dd4e19e8b134dfb293470ea55fe3589b0ab9f8040/expr.png\" style=\"display:inline;vertical-align:middle;\" /></a></td></tr>\n",
       "<tr><td>42</td><td>Variable</td><td></td><td><a class=\"ProveItLink\" href=\"../../../../../__pv_it/common/c06c606ec12678c58933ac85412ecadc2ae28be60/expr.ipynb\"><img src=\"../../../../../__pv_it/common/c06c606ec12678c58933ac85412ecadc2ae28be60/expr.png\" style=\"display:inline;vertical-align:middle;\" /></a></td></tr>\n",
       "<tr><td>43</td><td>ExprTuple</td><td>44</td><td><a class=\"ProveItLink\" href=\"../../../../../core_expr_types/__pv_it/common/4b0dd6be36d76552eda6a95d5b4a27f5a5b62f900/expr.ipynb\"><img src=\"../../../../../core_expr_types/__pv_it/common/4b0dd6be36d76552eda6a95d5b4a27f5a5b62f900/expr.png\" style=\"display:inline;vertical-align:middle;\" /></a></td></tr>\n",
       "<tr><td>44</td><td>Variable</td><td></td><td><a class=\"ProveItLink\" href=\"../../../../../core_expr_types/__pv_it/common/006c465e50948aa2b52285e2de47974f741255cc0/expr.ipynb\"><img src=\"../../../../../core_expr_types/__pv_it/common/006c465e50948aa2b52285e2de47974f741255cc0/expr.png\" style=\"display:inline;vertical-align:middle;\" /></a></td></tr>\n",
       "</table>\n"
      ],
      "text/plain": [
       "0. n -> {forall_{a_{1}, a_{2}, ..., a_{n} in Complex | (a_{1} = 0) or  (a_{2} = 0) or  ... or  (a_{n} = 0)} ((a_{1} *  a_{2} *  ... *  a_{n}) in {0}) if n in Natural.\n",
       "   core type: Lambda\n",
       "   parameter: 35\n",
       "   body: 2\n",
       "1. (n)\n",
       "   core type: ExprTuple\n",
       "   sub-expressions: 35\n",
       "2. {forall_{a_{1}, a_{2}, ..., a_{n} in Complex | (a_{1} = 0) or  (a_{2} = 0) or  ... or  (a_{n} = 0)} ((a_{1} *  a_{2} *  ... *  a_{n}) in {0}) if n in Natural.\n",
       "   core type: Conditional\n",
       "   value: 3\n",
       "   condition: 4\n",
       "3. forall_{a_{1}, a_{2}, ..., a_{n} in Complex | (a_{1} = 0) or  (a_{2} = 0) or  ... or  (a_{n} = 0)} ((a_{1} *  a_{2} *  ... *  a_{n}) in {0})\n",
       "   core type: Operation\n",
       "   operator: 5\n",
       "   operand: 8\n",
       "4. n in Natural\n",
       "   core type: Operation\n",
       "   operator: 31\n",
       "   operands: 7\n",
       "5. forall\n",
       "   core type: Literal\n",
       "   sub-expressions: \n",
       "6. ((a_{1}, a_{2}, ..., a_{n}) -> {(a_{1} *  a_{2} *  ... *  a_{n}) in {0} if (a_{1} in Complex) ,  (a_{2} in Complex) ,  ... ,  (a_{n} in Complex) ,  (a_{1} = 0) or  (a_{2} = 0) or  ... or  (a_{n} = 0).)\n",
       "   core type: ExprTuple\n",
       "   sub-expressions: 8\n",
       "7. (n, Natural)\n",
       "   core type: ExprTuple\n",
       "   sub-expressions: 35, 9\n",
       "8. (a_{1}, a_{2}, ..., a_{n}) -> {(a_{1} *  a_{2} *  ... *  a_{n}) in {0} if (a_{1} in Complex) ,  (a_{2} in Complex) ,  ... ,  (a_{n} in Complex) ,  (a_{1} = 0) or  (a_{2} = 0) or  ... or  (a_{n} = 0).\n",
       "   core type: Lambda\n",
       "   parameters: 21\\n   body: 10\n",
       "9. Natural\n",
       "   core type: Literal\n",
       "   sub-expressions: \n",
       "10. {(a_{1} *  a_{2} *  ... *  a_{n}) in {0} if (a_{1} in Complex) ,  (a_{2} in Complex) ,  ... ,  (a_{n} in Complex) ,  (a_{1} = 0) or  (a_{2} = 0) or  ... or  (a_{n} = 0).\n",
       "    core type: Conditional\n",
       "    value: 11\n",
       "    condition: 12\n",
       "11. (a_{1} *  a_{2} *  ... *  a_{n}) in {0}\n",
       "    core type: Operation\n",
       "    operator: 31\n",
       "    operands: 13\n",
       "12. (a_{1} in Complex) and  (a_{2} in Complex) and  ... and  (a_{n} in Complex) and ((a_{1} = 0) or  (a_{2} = 0) or  ... or  (a_{n} = 0))\n",
       "    core type: Operation\n",
       "    operator: 14\n",
       "    operands: 15\n",
       "13. (a_{1} *  a_{2} *  ... *  a_{n}, {0})\n",
       "    core type: ExprTuple\n",
       "    sub-expressions: 16, 17\n",
       "14. and\n",
       "    core type: Literal\n",
       "    sub-expressions: \n",
       "15. ((a_{1} in Complex), (a_{2} in Complex), ..., (a_{n} in Complex), (a_{1} = 0) or  (a_{2} = 0) or  ... or  (a_{n} = 0))\n",
       "    core type: ExprTuple\n",
       "    sub-expressions: 18, 19\n",
       "16. a_{1} *  a_{2} *  ... *  a_{n}\n",
       "    core type: Operation\n",
       "    operator: 20\n",
       "    operands: 21\n",
       "17. {0}\n",
       "    core type: Operation\n",
       "    operator: 22\n",
       "    operand: 41\n",
       "18. (a_{1} in Complex), (a_{2} in Complex), ..., (a_{n} in Complex)\n",
       "    core type: ExprRange\n",
       "    lambda_map: 24\n",
       "    start_index: 34\n",
       "    end_index: 35\n",
       "19. (a_{1} = 0) or  (a_{2} = 0) or  ... or  (a_{n} = 0)\n",
       "    core type: Operation\n",
       "    operator: 25\n",
       "    operands: 26\n",
       "20. *\n",
       "    core type: Literal\n",
       "    sub-expressions: \n",
       "21. (a_{1}, a_{2}, ..., a_{n})\n",
       "    core type: ExprTuple\n",
       "    sub-expressions: 27\n",
       "22. Set\n",
       "    core type: Literal\n",
       "    sub-expressions: \n",
       "23. (0)\n",
       "    core type: ExprTuple\n",
       "    sub-expressions: 41\n",
       "24. _a -> (a_{_a} in Complex)\n",
       "    core type: Lambda\n",
       "    parameter: 44\n",
       "    body: 28\n",
       "25. or\n",
       "    core type: Literal\n",
       "    sub-expressions: \n",
       "26. ((a_{1} = 0), (a_{2} = 0), ..., (a_{n} = 0))\n",
       "    core type: ExprTuple\n",
       "    sub-expressions: 29\n",
       "27. a_{1}, a_{2}, ..., a_{n}\n",
       "    core type: ExprRange\n",
       "    lambda_map: 30\n",
       "    start_index: 34\n",
       "    end_index: 35\n",
       "28. a_{_a} in Complex\n",
       "    core type: Operation\n",
       "    operator: 31\n",
       "    operands: 32\n",
       "29. (a_{1} = 0), (a_{2} = 0), ..., (a_{n} = 0)\n",
       "    core type: ExprRange\n",
       "    lambda_map: 33\n",
       "    start_index: 34\n",
       "    end_index: 35\n",
       "30. _a -> a_{_a}\n",
       "    core type: Lambda\n",
       "    parameter: 44\n",
       "    body: 40\n",
       "31. in\n",
       "    core type: Literal\n",
       "    sub-expressions: \n",
       "32. (a_{_a}, Complex)\n",
       "    core type: ExprTuple\n",
       "    sub-expressions: 40, 36\n",
       "33. _a -> (a_{_a} = 0)\n",
       "    core type: Lambda\n",
       "    parameter: 44\n",
       "    body: 37\n",
       "34. 1\n",
       "    core type: Literal\n",
       "    sub-expressions: \n",
       "35. n\n",
       "    core type: Variable\n",
       "    sub-expressions: \n",
       "36. Complex\n",
       "    core type: Literal\n",
       "    sub-expressions: \n",
       "37. a_{_a} = 0\n",
       "    core type: Operation\n",
       "    operator: 38\n",
       "    operands: 39\n",
       "38. =\n",
       "    core type: Literal\n",
       "    sub-expressions: \n",
       "39. (a_{_a}, 0)\n",
       "    core type: ExprTuple\n",
       "    sub-expressions: 40, 41\n",
       "40. a_{_a}\n",
       "    core type: IndexedVar\n",
       "variable: 42\n",
       "index: 44\n",
       "41. 0\n",
       "    core type: Literal\n",
       "    sub-expressions: \n",
       "42. a\n",
       "    core type: Variable\n",
       "    sub-expressions: \n",
       "43. (_a)\n",
       "    core type: ExprTuple\n",
       "    sub-expressions: 44\n",
       "44. _a\n",
       "    core type: Variable\n",
       "    sub-expressions: "
      ]
     },
     "metadata": {},
     "output_type": "display_data"
    }
   ],
   "source": [
    "# display the expression information\n",
    "stored_expr.expr_info()"
   ]
  },
  {
   "cell_type": "code",
   "execution_count": null,
   "metadata": {},
   "outputs": [],
   "source": []
  }
 ],
 "metadata": {
  "kernelspec": {
   "display_name": "Python 3",
   "language": "python",
   "name": "python3"
  }
 },
 "nbformat": 4,
 "nbformat_minor": 0
}