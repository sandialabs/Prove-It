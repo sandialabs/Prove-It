{
 "cells": [
  {
   "cell_type": "markdown",
   "metadata": {},
   "source": [
    "Expression of type <a class=\"ProveItLink\" href=\"../../../../../../../doc/html/api/proveit.ExprTuple.html\">ExprTuple</a>\n",
    "=======================\n",
    "# from the theory of <a class=\"ProveItLink\" href=\"../../../_theory_nbs_/theory.ipynb\">proveit.numbers.multiplication</a>"
   ]
  },
  {
   "cell_type": "code",
   "execution_count": 1,
   "metadata": {},
   "outputs": [],
   "source": [
    "import proveit\n",
    "# Automation is not needed when building an expression:\n",
    "proveit.defaults.automation = False # This will speed things up.\n",
    "proveit.defaults.inline_pngs = False # Makes files smaller.\n",
    "%load_expr # Load the stored expression as 'stored_expr'\n",
    "# import Expression classes needed to build the expression\n",
    "from proveit import Conditional, ExprRange, ExprTuple, IndexedVar, Lambda, Variable, a, b, c, i, j, k\n",
    "from proveit.core_expr_types import a_1_to_i, b_1_to_j, c_1_to_k\n",
    "from proveit.logic import And, Equals, InSet\n",
    "from proveit.numbers import Complex, Mult, one"
   ]
  },
  {
   "cell_type": "code",
   "execution_count": 2,
   "metadata": {},
   "outputs": [
    {
     "data": {
      "text/html": [
       "<strong id=\"expr\">expr:</strong> <a class=\"ProveItLink\" href=\"expr.ipynb\"><img src=\"expr.png\" style=\"display:inline;vertical-align:middle;\" /></a><br>"
      ],
      "text/plain": [
       "<IPython.core.display.HTML object>"
      ]
     },
     "metadata": {},
     "output_type": "display_data"
    }
   ],
   "source": [
    "# build up the expression from sub-expressions\n",
    "sub_expr1 = Variable(\"_a\", latex_format = r\"{_{-}a}\")\n",
    "expr = ExprTuple(Lambda([a_1_to_i, b_1_to_j, c_1_to_k], Conditional(Equals(Mult(a_1_to_i, Mult(b_1_to_j), c_1_to_k), Mult(a_1_to_i, b_1_to_j, c_1_to_k)).with_wrapping_at(2), And(ExprRange(sub_expr1, InSet(IndexedVar(a, sub_expr1), Complex), one, i), ExprRange(sub_expr1, InSet(IndexedVar(b, sub_expr1), Complex), one, j), ExprRange(sub_expr1, InSet(IndexedVar(c, sub_expr1), Complex), one, k)))))"
   ]
  },
  {
   "cell_type": "code",
   "execution_count": 3,
   "metadata": {},
   "outputs": [
    {
     "name": "stdout",
     "output_type": "stream",
     "text": [
      "Passed sanity check: expr matches stored_expr\n"
     ]
    }
   ],
   "source": [
    "# check that the built expression is the same as the stored expression\n",
    "assert expr == stored_expr\n",
    "assert expr._style_id == stored_expr._style_id\n",
    "print(\"Passed sanity check: expr matches stored_expr\")"
   ]
  },
  {
   "cell_type": "code",
   "execution_count": 4,
   "metadata": {},
   "outputs": [
    {
     "name": "stdout",
     "output_type": "stream",
     "text": [
      "\\left(\\left(a_{1}, a_{2}, \\ldots, a_{i}, b_{1}, b_{2}, \\ldots, b_{j}, c_{1}, c_{2}, \\ldots, c_{k}\\right) \\mapsto \\left\\{\\begin{array}{c} \\begin{array}{l} \\left(a_{1} \\cdot  a_{2} \\cdot  \\ldots \\cdot  a_{i} \\cdot \\left(b_{1} \\cdot  b_{2} \\cdot  \\ldots \\cdot  b_{j}\\right)\\cdot c_{1} \\cdot  c_{2} \\cdot  \\ldots \\cdot  c_{k}\\right) =  \\\\ \\left(a_{1} \\cdot  a_{2} \\cdot  \\ldots \\cdot  a_{i}\\cdot b_{1} \\cdot  b_{2} \\cdot  \\ldots \\cdot  b_{j}\\cdot c_{1} \\cdot  c_{2} \\cdot  \\ldots \\cdot  c_{k}\\right) \\end{array} \\end{array} \\textrm{ if } \\left(a_{1} \\in \\mathbb{C}\\right) ,  \\left(a_{2} \\in \\mathbb{C}\\right) ,  \\ldots ,  \\left(a_{i} \\in \\mathbb{C}\\right), \\left(b_{1} \\in \\mathbb{C}\\right) ,  \\left(b_{2} \\in \\mathbb{C}\\right) ,  \\ldots ,  \\left(b_{j} \\in \\mathbb{C}\\right), \\left(c_{1} \\in \\mathbb{C}\\right) ,  \\left(c_{2} \\in \\mathbb{C}\\right) ,  \\ldots ,  \\left(c_{k} \\in \\mathbb{C}\\right)\\right..\\right)\n"
     ]
    }
   ],
   "source": [
    "# Show the LaTeX representation of the expression for convenience if you need it.\n",
    "print(stored_expr.latex())"
   ]
  },
  {
   "cell_type": "code",
   "execution_count": 5,
   "metadata": {},
   "outputs": [
    {
     "data": {
      "text/html": [
       "no style options"
      ],
      "text/plain": [
       "no style options"
      ]
     },
     "metadata": {},
     "output_type": "display_data"
    }
   ],
   "source": [
    "stored_expr.style_options()"
   ]
  },
  {
   "cell_type": "code",
   "execution_count": 6,
   "metadata": {},
   "outputs": [
    {
     "data": {
      "text/html": [
       "<table><tr><th>&nbsp;</th><th>core type</th><th>sub-expressions</th><th>expression</th></tr>\n",
       "<tr><td>0</td><td>ExprTuple</td><td>1</td><td><a class=\"ProveItLink\" href=\"expr.ipynb\"><img src=\"expr.png\" style=\"display:inline;vertical-align:middle;\" /></a></td></tr>\n",
       "<tr><td>1</td><td>Lambda</td><td>parameters:&nbsp;15<br>body:&nbsp;2<br></td><td><a class=\"ProveItLink\" href=\"../9e6cff752b30a7130286b59b850e50d6d9f45a1a0/expr.ipynb\"><img src=\"../9e6cff752b30a7130286b59b850e50d6d9f45a1a0/expr.png\" style=\"display:inline;vertical-align:middle;\" /></a></td></tr>\n",
       "<tr><td>2</td><td>Conditional</td><td>value:&nbsp;3<br>condition:&nbsp;4<br></td><td><a class=\"ProveItLink\" href=\"../9d317b2a04b7ba001da6100353c6cf730b502a910/expr.ipynb\"><img src=\"../9d317b2a04b7ba001da6100353c6cf730b502a910/expr.png\" style=\"display:inline;vertical-align:middle;\" /></a></td></tr>\n",
       "<tr><td>3</td><td>Operation</td><td>operator:&nbsp;5<br>operands:&nbsp;6<br></td><td><a class=\"ProveItLink\" href=\"../93fa21277ca1d54668be2b30c651e6ad3e0c212b0/expr.ipynb\"><img src=\"../93fa21277ca1d54668be2b30c651e6ad3e0c212b0/expr.png\" style=\"display:inline;vertical-align:middle;\" /></a></td></tr>\n",
       "<tr><td>4</td><td>Operation</td><td>operator:&nbsp;7<br>operands:&nbsp;8<br></td><td><a class=\"ProveItLink\" href=\"../b6f5251e4ff966f14a786c73e124ce8c38c0e1eb0/expr.ipynb\"><img src=\"../b6f5251e4ff966f14a786c73e124ce8c38c0e1eb0/expr.png\" style=\"display:inline;vertical-align:middle;\" /></a></td></tr>\n",
       "<tr><td>5</td><td>Literal</td><td></td><td><a class=\"ProveItLink\" href=\"../../../../../logic/equality/__pv_it/common/fb96dc12b2aa8801dda64d0132b396c63d1502bb0/expr.ipynb\"><img src=\"../../../../../logic/equality/__pv_it/common/fb96dc12b2aa8801dda64d0132b396c63d1502bb0/expr.png\" style=\"display:inline;vertical-align:middle;\" /></a></td></tr>\n",
       "<tr><td>6</td><td>ExprTuple</td><td>9, 10</td><td><a class=\"ProveItLink\" href=\"../db688d041fc59b58702bcc14826bb5d1cde691340/expr.ipynb\"><img src=\"../db688d041fc59b58702bcc14826bb5d1cde691340/expr.png\" style=\"display:inline;vertical-align:middle;\" /></a></td></tr>\n",
       "<tr><td>7</td><td>Literal</td><td></td><td><a class=\"ProveItLink\" href=\"../../../../../logic/booleans/conjunction/__pv_it/common/42118ff318bd65d98b1393f64ce7c2269feef76e0/expr.ipynb\"><img src=\"../../../../../logic/booleans/conjunction/__pv_it/common/42118ff318bd65d98b1393f64ce7c2269feef76e0/expr.png\" style=\"display:inline;vertical-align:middle;\" /></a></td></tr>\n",
       "<tr><td>8</td><td>ExprTuple</td><td>11, 12, 13</td><td><a class=\"ProveItLink\" href=\"../d42d33968c6d075e25b0985e4358eae10a83b7370/expr.ipynb\"><img src=\"../d42d33968c6d075e25b0985e4358eae10a83b7370/expr.png\" style=\"display:inline;vertical-align:middle;\" /></a></td></tr>\n",
       "<tr><td>9</td><td>Operation</td><td>operator:&nbsp;25<br>operands:&nbsp;14<br></td><td><a class=\"ProveItLink\" href=\"../fd4e9d2b2663e0d62de0b3d74a571ff4e2f922c90/expr.ipynb\"><img src=\"../fd4e9d2b2663e0d62de0b3d74a571ff4e2f922c90/expr.png\" style=\"display:inline;vertical-align:middle;\" /></a></td></tr>\n",
       "<tr><td>10</td><td>Operation</td><td>operator:&nbsp;25<br>operands:&nbsp;15<br></td><td><a class=\"ProveItLink\" href=\"../5d32d6e420524e15080631d5bfd6dbeff8d683660/expr.ipynb\"><img src=\"../5d32d6e420524e15080631d5bfd6dbeff8d683660/expr.png\" style=\"display:inline;vertical-align:middle;\" /></a></td></tr>\n",
       "<tr><td>11</td><td>ExprRange</td><td>lambda_map:&nbsp;16<br>start_index:&nbsp;40<br>end_index:&nbsp;28<br></td><td><a class=\"ProveItLink\" href=\"../83e0886a839848a5168b74bc25206f516aa617dd0/expr.ipynb\"><img src=\"../83e0886a839848a5168b74bc25206f516aa617dd0/expr.png\" style=\"display:inline;vertical-align:middle;\" /></a></td></tr>\n",
       "<tr><td>12</td><td>ExprRange</td><td>lambda_map:&nbsp;17<br>start_index:&nbsp;40<br>end_index:&nbsp;41<br></td><td><a class=\"ProveItLink\" href=\"../8554ff688580ecf3cdabf4396430770529b5fd780/expr.ipynb\"><img src=\"../8554ff688580ecf3cdabf4396430770529b5fd780/expr.png\" style=\"display:inline;vertical-align:middle;\" /></a></td></tr>\n",
       "<tr><td>13</td><td>ExprRange</td><td>lambda_map:&nbsp;18<br>start_index:&nbsp;40<br>end_index:&nbsp;30<br></td><td><a class=\"ProveItLink\" href=\"../18bd626e02425501c65cc7d53379f17f6b83221c0/expr.ipynb\"><img src=\"../18bd626e02425501c65cc7d53379f17f6b83221c0/expr.png\" style=\"display:inline;vertical-align:middle;\" /></a></td></tr>\n",
       "<tr><td>14</td><td>ExprTuple</td><td>20, 19, 21</td><td><a class=\"ProveItLink\" href=\"../fa08e41a9e73e56039207f30c89b901386f4e88b0/expr.ipynb\"><img src=\"../fa08e41a9e73e56039207f30c89b901386f4e88b0/expr.png\" style=\"display:inline;vertical-align:middle;\" /></a></td></tr>\n",
       "<tr><td>15</td><td>ExprTuple</td><td>20, 35, 21</td><td><a class=\"ProveItLink\" href=\"../262e49ab7c5ef0e7432bee3e87adaa93dae86ca60/expr.ipynb\"><img src=\"../262e49ab7c5ef0e7432bee3e87adaa93dae86ca60/expr.png\" style=\"display:inline;vertical-align:middle;\" /></a></td></tr>\n",
       "<tr><td>16</td><td>Lambda</td><td>parameter:&nbsp;47<br>body:&nbsp;22<br></td><td><a class=\"ProveItLink\" href=\"../5c5d2db4e62eeb1316594489c9dc78d764404c220/expr.ipynb\"><img src=\"../5c5d2db4e62eeb1316594489c9dc78d764404c220/expr.png\" style=\"display:inline;vertical-align:middle;\" /></a></td></tr>\n",
       "<tr><td>17</td><td>Lambda</td><td>parameter:&nbsp;47<br>body:&nbsp;23<br></td><td><a class=\"ProveItLink\" href=\"../69a1846558bce37804861263b5618785c29985c20/expr.ipynb\"><img src=\"../69a1846558bce37804861263b5618785c29985c20/expr.png\" style=\"display:inline;vertical-align:middle;\" /></a></td></tr>\n",
       "<tr><td>18</td><td>Lambda</td><td>parameter:&nbsp;47<br>body:&nbsp;24<br></td><td><a class=\"ProveItLink\" href=\"../11769ff4b60e8d0510fad7c63fa8ffa59b9075310/expr.ipynb\"><img src=\"../11769ff4b60e8d0510fad7c63fa8ffa59b9075310/expr.png\" style=\"display:inline;vertical-align:middle;\" /></a></td></tr>\n",
       "<tr><td>19</td><td>Operation</td><td>operator:&nbsp;25<br>operands:&nbsp;26<br></td><td><a class=\"ProveItLink\" href=\"../c464e1bf4f6ade885465860485f47b901db08ae00/expr.ipynb\"><img src=\"../c464e1bf4f6ade885465860485f47b901db08ae00/expr.png\" style=\"display:inline;vertical-align:middle;\" /></a></td></tr>\n",
       "<tr><td>20</td><td>ExprRange</td><td>lambda_map:&nbsp;27<br>start_index:&nbsp;40<br>end_index:&nbsp;28<br></td><td><a class=\"ProveItLink\" href=\"../../../../../core_expr_types/__pv_it/common/7230c683fcd56948c826ac1be71b01b6fb2913950/expr.ipynb\"><img src=\"../../../../../core_expr_types/__pv_it/common/7230c683fcd56948c826ac1be71b01b6fb2913950/expr.png\" style=\"display:inline;vertical-align:middle;\" /></a></td></tr>\n",
       "<tr><td>21</td><td>ExprRange</td><td>lambda_map:&nbsp;29<br>start_index:&nbsp;40<br>end_index:&nbsp;30<br></td><td><a class=\"ProveItLink\" href=\"../../../../../core_expr_types/__pv_it/common/847fd9e18bcb1cd068c4b44622f3fd12a6ad6a150/expr.ipynb\"><img src=\"../../../../../core_expr_types/__pv_it/common/847fd9e18bcb1cd068c4b44622f3fd12a6ad6a150/expr.png\" style=\"display:inline;vertical-align:middle;\" /></a></td></tr>\n",
       "<tr><td>22</td><td>Operation</td><td>operator:&nbsp;33<br>operands:&nbsp;31<br></td><td><a class=\"ProveItLink\" href=\"../99217926884f96534bb8eb1bd6e3cfdfb7161e620/expr.ipynb\"><img src=\"../99217926884f96534bb8eb1bd6e3cfdfb7161e620/expr.png\" style=\"display:inline;vertical-align:middle;\" /></a></td></tr>\n",
       "<tr><td>23</td><td>Operation</td><td>operator:&nbsp;33<br>operands:&nbsp;32<br></td><td><a class=\"ProveItLink\" href=\"../a00476dd5f09ecff900ade543e9cb4c5b7fa6f610/expr.ipynb\"><img src=\"../a00476dd5f09ecff900ade543e9cb4c5b7fa6f610/expr.png\" style=\"display:inline;vertical-align:middle;\" /></a></td></tr>\n",
       "<tr><td>24</td><td>Operation</td><td>operator:&nbsp;33<br>operands:&nbsp;34<br></td><td><a class=\"ProveItLink\" href=\"../9d50e77f5b4c4c8329ad6612f7e834bd2ea1b1ac0/expr.ipynb\"><img src=\"../9d50e77f5b4c4c8329ad6612f7e834bd2ea1b1ac0/expr.png\" style=\"display:inline;vertical-align:middle;\" /></a></td></tr>\n",
       "<tr><td>25</td><td>Literal</td><td></td><td><a class=\"ProveItLink\" href=\"../../common/ed719cef37831779c16481533a4d380a2f95ab270/expr.ipynb\"><img src=\"../../common/ed719cef37831779c16481533a4d380a2f95ab270/expr.png\" style=\"display:inline;vertical-align:middle;\" /></a></td></tr>\n",
       "<tr><td>26</td><td>ExprTuple</td><td>35</td><td><a class=\"ProveItLink\" href=\"../../../../summation/__pv_it/common/012c9f5d21ff973afec8993018a8748215a3332a0/expr.ipynb\"><img src=\"../../../../summation/__pv_it/common/012c9f5d21ff973afec8993018a8748215a3332a0/expr.png\" style=\"display:inline;vertical-align:middle;\" /></a></td></tr>\n",
       "<tr><td>27</td><td>Lambda</td><td>parameter:&nbsp;47<br>body:&nbsp;36<br></td><td><a class=\"ProveItLink\" href=\"../../../../../core_expr_types/__pv_it/common/1527ad383e12f9c6ed6b371c9a7dd1892d80da1b0/expr.ipynb\"><img src=\"../../../../../core_expr_types/__pv_it/common/1527ad383e12f9c6ed6b371c9a7dd1892d80da1b0/expr.png\" style=\"display:inline;vertical-align:middle;\" /></a></td></tr>\n",
       "<tr><td>28</td><td>Variable</td><td></td><td><a class=\"ProveItLink\" href=\"../../../../../__pv_it/common/ae955345c83abf786c3aff8681cd5465beae262d0/expr.ipynb\"><img src=\"../../../../../__pv_it/common/ae955345c83abf786c3aff8681cd5465beae262d0/expr.png\" style=\"display:inline;vertical-align:middle;\" /></a></td></tr>\n",
       "<tr><td>29</td><td>Lambda</td><td>parameter:&nbsp;47<br>body:&nbsp;37<br></td><td><a class=\"ProveItLink\" href=\"../../../../../core_expr_types/__pv_it/common/89a29b5b02ce6c37577f6352274a3d503dcdde3e0/expr.ipynb\"><img src=\"../../../../../core_expr_types/__pv_it/common/89a29b5b02ce6c37577f6352274a3d503dcdde3e0/expr.png\" style=\"display:inline;vertical-align:middle;\" /></a></td></tr>\n",
       "<tr><td>30</td><td>Variable</td><td></td><td><a class=\"ProveItLink\" href=\"../../../../../__pv_it/common/63b7c64bf9ec7a04ecc396c7a1670f3f12fb59490/expr.ipynb\"><img src=\"../../../../../__pv_it/common/63b7c64bf9ec7a04ecc396c7a1670f3f12fb59490/expr.png\" style=\"display:inline;vertical-align:middle;\" /></a></td></tr>\n",
       "<tr><td>31</td><td>ExprTuple</td><td>36, 38</td><td><a class=\"ProveItLink\" href=\"../ce93d50dac6e6e7831954e956696a52de96f364a0/expr.ipynb\"><img src=\"../ce93d50dac6e6e7831954e956696a52de96f364a0/expr.png\" style=\"display:inline;vertical-align:middle;\" /></a></td></tr>\n",
       "<tr><td>32</td><td>ExprTuple</td><td>44, 38</td><td><a class=\"ProveItLink\" href=\"../feeb23765192335eba8432eeba56d920b3546e1d0/expr.ipynb\"><img src=\"../feeb23765192335eba8432eeba56d920b3546e1d0/expr.png\" style=\"display:inline;vertical-align:middle;\" /></a></td></tr>\n",
       "<tr><td>33</td><td>Literal</td><td></td><td><a class=\"ProveItLink\" href=\"../../../../../logic/sets/membership/__pv_it/common/477487d8796864d23d5810f83761435f25167f690/expr.ipynb\"><img src=\"../../../../../logic/sets/membership/__pv_it/common/477487d8796864d23d5810f83761435f25167f690/expr.png\" style=\"display:inline;vertical-align:middle;\" /></a></td></tr>\n",
       "<tr><td>34</td><td>ExprTuple</td><td>37, 38</td><td><a class=\"ProveItLink\" href=\"../fce1cda8ada7efc19adda949cb59f381c00290830/expr.ipynb\"><img src=\"../fce1cda8ada7efc19adda949cb59f381c00290830/expr.png\" style=\"display:inline;vertical-align:middle;\" /></a></td></tr>\n",
       "<tr><td>35</td><td>ExprRange</td><td>lambda_map:&nbsp;39<br>start_index:&nbsp;40<br>end_index:&nbsp;41<br></td><td><a class=\"ProveItLink\" href=\"../../../../../core_expr_types/__pv_it/common/d0e70829681f7e0560cecc174fdf76cb311d43400/expr.ipynb\"><img src=\"../../../../../core_expr_types/__pv_it/common/d0e70829681f7e0560cecc174fdf76cb311d43400/expr.png\" style=\"display:inline;vertical-align:middle;\" /></a></td></tr>\n",
       "<tr><td>36</td><td>IndexedVar</td><td>variable:&nbsp;42<br>index:&nbsp;47<br></td><td><a class=\"ProveItLink\" href=\"../../../../../core_expr_types/__pv_it/common/3a62c13e156d62d52fe585fa37cc2172fcf685260/expr.ipynb\"><img src=\"../../../../../core_expr_types/__pv_it/common/3a62c13e156d62d52fe585fa37cc2172fcf685260/expr.png\" style=\"display:inline;vertical-align:middle;\" /></a></td></tr>\n",
       "<tr><td>37</td><td>IndexedVar</td><td>variable:&nbsp;43<br>index:&nbsp;47<br></td><td><a class=\"ProveItLink\" href=\"../../../../../core_expr_types/__pv_it/common/8ffbefe913f7c934b2e3a2a12315d5900822d9d00/expr.ipynb\"><img src=\"../../../../../core_expr_types/__pv_it/common/8ffbefe913f7c934b2e3a2a12315d5900822d9d00/expr.png\" style=\"display:inline;vertical-align:middle;\" /></a></td></tr>\n",
       "<tr><td>38</td><td>Literal</td><td></td><td><a class=\"ProveItLink\" href=\"../../../../number_sets/complex_numbers/__pv_it/common/d18a028138f659eda00de597c28a3447fe87eb100/expr.ipynb\"><img src=\"../../../../number_sets/complex_numbers/__pv_it/common/d18a028138f659eda00de597c28a3447fe87eb100/expr.png\" style=\"display:inline;vertical-align:middle;\" /></a></td></tr>\n",
       "<tr><td>39</td><td>Lambda</td><td>parameter:&nbsp;47<br>body:&nbsp;44<br></td><td><a class=\"ProveItLink\" href=\"../../../../../core_expr_types/__pv_it/common/d763764ede9c88a33f4b750791da02d1a21cb6820/expr.ipynb\"><img src=\"../../../../../core_expr_types/__pv_it/common/d763764ede9c88a33f4b750791da02d1a21cb6820/expr.png\" style=\"display:inline;vertical-align:middle;\" /></a></td></tr>\n",
       "<tr><td>40</td><td>Literal</td><td></td><td><a class=\"ProveItLink\" href=\"../../../../numerals/__pv_it/common/682157d4892d216d9e5626ed533aff9b56b9506e0/expr.ipynb\"><img src=\"../../../../numerals/__pv_it/common/682157d4892d216d9e5626ed533aff9b56b9506e0/expr.png\" style=\"display:inline;vertical-align:middle;\" /></a></td></tr>\n",
       "<tr><td>41</td><td>Variable</td><td></td><td><a class=\"ProveItLink\" href=\"../../../../../__pv_it/common/1ed21df18baca2f42b561a7ffbf30a2743d594650/expr.ipynb\"><img src=\"../../../../../__pv_it/common/1ed21df18baca2f42b561a7ffbf30a2743d594650/expr.png\" style=\"display:inline;vertical-align:middle;\" /></a></td></tr>\n",
       "<tr><td>42</td><td>Variable</td><td></td><td><a class=\"ProveItLink\" href=\"../../../../../__pv_it/common/c06c606ec12678c58933ac85412ecadc2ae28be60/expr.ipynb\"><img src=\"../../../../../__pv_it/common/c06c606ec12678c58933ac85412ecadc2ae28be60/expr.png\" style=\"display:inline;vertical-align:middle;\" /></a></td></tr>\n",
       "<tr><td>43</td><td>Variable</td><td></td><td><a class=\"ProveItLink\" href=\"../../../../../__pv_it/common/ceef4280a2f1cc604b455b54e735507244cc62cd0/expr.ipynb\"><img src=\"../../../../../__pv_it/common/ceef4280a2f1cc604b455b54e735507244cc62cd0/expr.png\" style=\"display:inline;vertical-align:middle;\" /></a></td></tr>\n",
       "<tr><td>44</td><td>IndexedVar</td><td>variable:&nbsp;45<br>index:&nbsp;47<br></td><td><a class=\"ProveItLink\" href=\"../../../../../core_expr_types/__pv_it/common/8542342c36565a593724a99f9c08d995c1c21af20/expr.ipynb\"><img src=\"../../../../../core_expr_types/__pv_it/common/8542342c36565a593724a99f9c08d995c1c21af20/expr.png\" style=\"display:inline;vertical-align:middle;\" /></a></td></tr>\n",
       "<tr><td>45</td><td>Variable</td><td></td><td><a class=\"ProveItLink\" href=\"../../../../../__pv_it/common/195236b98c6c564a75b5dbada74b173bc52d5c3e0/expr.ipynb\"><img src=\"../../../../../__pv_it/common/195236b98c6c564a75b5dbada74b173bc52d5c3e0/expr.png\" style=\"display:inline;vertical-align:middle;\" /></a></td></tr>\n",
       "<tr><td>46</td><td>ExprTuple</td><td>47</td><td><a class=\"ProveItLink\" href=\"../../../../../core_expr_types/__pv_it/common/4b0dd6be36d76552eda6a95d5b4a27f5a5b62f900/expr.ipynb\"><img src=\"../../../../../core_expr_types/__pv_it/common/4b0dd6be36d76552eda6a95d5b4a27f5a5b62f900/expr.png\" style=\"display:inline;vertical-align:middle;\" /></a></td></tr>\n",
       "<tr><td>47</td><td>Variable</td><td></td><td><a class=\"ProveItLink\" href=\"../../../../../core_expr_types/__pv_it/common/006c465e50948aa2b52285e2de47974f741255cc0/expr.ipynb\"><img src=\"../../../../../core_expr_types/__pv_it/common/006c465e50948aa2b52285e2de47974f741255cc0/expr.png\" style=\"display:inline;vertical-align:middle;\" /></a></td></tr>\n",
       "</table>\n"
      ],
      "text/plain": [
       "0. ((a_{1}, a_{2}, ..., a_{i}, b_{1}, b_{2}, ..., b_{j}, c_{1}, c_{2}, ..., c_{k}) -> {(a_{1} *  a_{2} *  ... *  a_{i} * (b_{1} *  b_{2} *  ... *  b_{j})* c_{1} *  c_{2} *  ... *  c_{k}) =  \\\\ (a_{1} *  a_{2} *  ... *  a_{i}* b_{1} *  b_{2} *  ... *  b_{j}* c_{1} *  c_{2} *  ... *  c_{k}) if (a_{1} in Complex) ,  (a_{2} in Complex) ,  ... ,  (a_{i} in Complex), (b_{1} in Complex) ,  (b_{2} in Complex) ,  ... ,  (b_{j} in Complex), (c_{1} in Complex) ,  (c_{2} in Complex) ,  ... ,  (c_{k} in Complex).)\n",
       "   core type: ExprTuple\n",
       "   sub-expressions: 1\n",
       "1. (a_{1}, a_{2}, ..., a_{i}, b_{1}, b_{2}, ..., b_{j}, c_{1}, c_{2}, ..., c_{k}) -> {(a_{1} *  a_{2} *  ... *  a_{i} * (b_{1} *  b_{2} *  ... *  b_{j})* c_{1} *  c_{2} *  ... *  c_{k}) =  \\\\ (a_{1} *  a_{2} *  ... *  a_{i}* b_{1} *  b_{2} *  ... *  b_{j}* c_{1} *  c_{2} *  ... *  c_{k}) if (a_{1} in Complex) ,  (a_{2} in Complex) ,  ... ,  (a_{i} in Complex), (b_{1} in Complex) ,  (b_{2} in Complex) ,  ... ,  (b_{j} in Complex), (c_{1} in Complex) ,  (c_{2} in Complex) ,  ... ,  (c_{k} in Complex).\n",
       "   core type: Lambda\n",
       "   parameters: 15\\n   body: 2\n",
       "2. {(a_{1} *  a_{2} *  ... *  a_{i} * (b_{1} *  b_{2} *  ... *  b_{j})* c_{1} *  c_{2} *  ... *  c_{k}) =  \\\\ (a_{1} *  a_{2} *  ... *  a_{i}* b_{1} *  b_{2} *  ... *  b_{j}* c_{1} *  c_{2} *  ... *  c_{k}) if (a_{1} in Complex) ,  (a_{2} in Complex) ,  ... ,  (a_{i} in Complex), (b_{1} in Complex) ,  (b_{2} in Complex) ,  ... ,  (b_{j} in Complex), (c_{1} in Complex) ,  (c_{2} in Complex) ,  ... ,  (c_{k} in Complex).\n",
       "   core type: Conditional\n",
       "   value: 3\n",
       "   condition: 4\n",
       "3. (a_{1} *  a_{2} *  ... *  a_{i} * (b_{1} *  b_{2} *  ... *  b_{j})* c_{1} *  c_{2} *  ... *  c_{k}) =  \\\\ (a_{1} *  a_{2} *  ... *  a_{i}* b_{1} *  b_{2} *  ... *  b_{j}* c_{1} *  c_{2} *  ... *  c_{k})\n",
       "   core type: Operation\n",
       "   operator: 5\n",
       "   operands: 6\n",
       "4. (a_{1} in Complex) and  (a_{2} in Complex) and  ... and  (a_{i} in Complex)and (b_{1} in Complex) and  (b_{2} in Complex) and  ... and  (b_{j} in Complex)and (c_{1} in Complex) and  (c_{2} in Complex) and  ... and  (c_{k} in Complex)\n",
       "   core type: Operation\n",
       "   operator: 7\n",
       "   operands: 8\n",
       "5. =\n",
       "   core type: Literal\n",
       "   sub-expressions: \n",
       "6. (a_{1} *  a_{2} *  ... *  a_{i} * (b_{1} *  b_{2} *  ... *  b_{j})* c_{1} *  c_{2} *  ... *  c_{k}, a_{1} *  a_{2} *  ... *  a_{i}* b_{1} *  b_{2} *  ... *  b_{j}* c_{1} *  c_{2} *  ... *  c_{k})\n",
       "   core type: ExprTuple\n",
       "   sub-expressions: 9, 10\n",
       "7. and\n",
       "   core type: Literal\n",
       "   sub-expressions: \n",
       "8. ((a_{1} in Complex), (a_{2} in Complex), ..., (a_{i} in Complex),(b_{1} in Complex), (b_{2} in Complex), ..., (b_{j} in Complex),(c_{1} in Complex), (c_{2} in Complex), ..., (c_{k} in Complex))\n",
       "   core type: ExprTuple\n",
       "   sub-expressions: 11, 12, 13\n",
       "9. a_{1} *  a_{2} *  ... *  a_{i} * (b_{1} *  b_{2} *  ... *  b_{j})* c_{1} *  c_{2} *  ... *  c_{k}\n",
       "   core type: Operation\n",
       "   operator: 25\n",
       "   operands: 14\n",
       "10. a_{1} *  a_{2} *  ... *  a_{i}* b_{1} *  b_{2} *  ... *  b_{j}* c_{1} *  c_{2} *  ... *  c_{k}\n",
       "    core type: Operation\n",
       "    operator: 25\n",
       "    operands: 15\n",
       "11. (a_{1} in Complex), (a_{2} in Complex), ..., (a_{i} in Complex)\n",
       "    core type: ExprRange\n",
       "    lambda_map: 16\n",
       "    start_index: 40\n",
       "    end_index: 28\n",
       "12. (b_{1} in Complex), (b_{2} in Complex), ..., (b_{j} in Complex)\n",
       "    core type: ExprRange\n",
       "    lambda_map: 17\n",
       "    start_index: 40\n",
       "    end_index: 41\n",
       "13. (c_{1} in Complex), (c_{2} in Complex), ..., (c_{k} in Complex)\n",
       "    core type: ExprRange\n",
       "    lambda_map: 18\n",
       "    start_index: 40\n",
       "    end_index: 30\n",
       "14. (a_{1}, a_{2}, ..., a_{i}, b_{1} *  b_{2} *  ... *  b_{j},c_{1}, c_{2}, ..., c_{k})\n",
       "    core type: ExprTuple\n",
       "    sub-expressions: 20, 19, 21\n",
       "15. (a_{1}, a_{2}, ..., a_{i},b_{1}, b_{2}, ..., b_{j},c_{1}, c_{2}, ..., c_{k})\n",
       "    core type: ExprTuple\n",
       "    sub-expressions: 20, 35, 21\n",
       "16. _a -> (a_{_a} in Complex)\n",
       "    core type: Lambda\n",
       "    parameter: 47\n",
       "    body: 22\n",
       "17. _a -> (b_{_a} in Complex)\n",
       "    core type: Lambda\n",
       "    parameter: 47\n",
       "    body: 23\n",
       "18. _a -> (c_{_a} in Complex)\n",
       "    core type: Lambda\n",
       "    parameter: 47\n",
       "    body: 24\n",
       "19. b_{1} *  b_{2} *  ... *  b_{j}\n",
       "    core type: Operation\n",
       "    operator: 25\n",
       "    operands: 26\n",
       "20. a_{1}, a_{2}, ..., a_{i}\n",
       "    core type: ExprRange\n",
       "    lambda_map: 27\n",
       "    start_index: 40\n",
       "    end_index: 28\n",
       "21. c_{1}, c_{2}, ..., c_{k}\n",
       "    core type: ExprRange\n",
       "    lambda_map: 29\n",
       "    start_index: 40\n",
       "    end_index: 30\n",
       "22. a_{_a} in Complex\n",
       "    core type: Operation\n",
       "    operator: 33\n",
       "    operands: 31\n",
       "23. b_{_a} in Complex\n",
       "    core type: Operation\n",
       "    operator: 33\n",
       "    operands: 32\n",
       "24. c_{_a} in Complex\n",
       "    core type: Operation\n",
       "    operator: 33\n",
       "    operands: 34\n",
       "25. *\n",
       "    core type: Literal\n",
       "    sub-expressions: \n",
       "26. (b_{1}, b_{2}, ..., b_{j})\n",
       "    core type: ExprTuple\n",
       "    sub-expressions: 35\n",
       "27. _a -> a_{_a}\n",
       "    core type: Lambda\n",
       "    parameter: 47\n",
       "    body: 36\n",
       "28. i\n",
       "    core type: Variable\n",
       "    sub-expressions: \n",
       "29. _a -> c_{_a}\n",
       "    core type: Lambda\n",
       "    parameter: 47\n",
       "    body: 37\n",
       "30. k\n",
       "    core type: Variable\n",
       "    sub-expressions: \n",
       "31. (a_{_a}, Complex)\n",
       "    core type: ExprTuple\n",
       "    sub-expressions: 36, 38\n",
       "32. (b_{_a}, Complex)\n",
       "    core type: ExprTuple\n",
       "    sub-expressions: 44, 38\n",
       "33. in\n",
       "    core type: Literal\n",
       "    sub-expressions: \n",
       "34. (c_{_a}, Complex)\n",
       "    core type: ExprTuple\n",
       "    sub-expressions: 37, 38\n",
       "35. b_{1}, b_{2}, ..., b_{j}\n",
       "    core type: ExprRange\n",
       "    lambda_map: 39\n",
       "    start_index: 40\n",
       "    end_index: 41\n",
       "36. a_{_a}\n",
       "    core type: IndexedVar\n",
       "variable: 42\n",
       "index: 47\n",
       "37. c_{_a}\n",
       "    core type: IndexedVar\n",
       "variable: 43\n",
       "index: 47\n",
       "38. Complex\n",
       "    core type: Literal\n",
       "    sub-expressions: \n",
       "39. _a -> b_{_a}\n",
       "    core type: Lambda\n",
       "    parameter: 47\n",
       "    body: 44\n",
       "40. 1\n",
       "    core type: Literal\n",
       "    sub-expressions: \n",
       "41. j\n",
       "    core type: Variable\n",
       "    sub-expressions: \n",
       "42. a\n",
       "    core type: Variable\n",
       "    sub-expressions: \n",
       "43. c\n",
       "    core type: Variable\n",
       "    sub-expressions: \n",
       "44. b_{_a}\n",
       "    core type: IndexedVar\n",
       "variable: 45\n",
       "index: 47\n",
       "45. b\n",
       "    core type: Variable\n",
       "    sub-expressions: \n",
       "46. (_a)\n",
       "    core type: ExprTuple\n",
       "    sub-expressions: 47\n",
       "47. _a\n",
       "    core type: Variable\n",
       "    sub-expressions: "
      ]
     },
     "metadata": {},
     "output_type": "display_data"
    }
   ],
   "source": [
    "# display the expression information\n",
    "stored_expr.expr_info()"
   ]
  },
  {
   "cell_type": "code",
   "execution_count": null,
   "metadata": {},
   "outputs": [],
   "source": []
  }
 ],
 "metadata": {
  "kernelspec": {
   "display_name": "Python 3",
   "language": "python",
   "name": "python3"
  }
 },
 "nbformat": 4,
 "nbformat_minor": 0
}