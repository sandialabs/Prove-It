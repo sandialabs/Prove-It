{
 "cells": [
  {
   "cell_type": "markdown",
   "metadata": {},
   "source": [
    "Expression of type <a class=\"ProveItLink\" href=\"../../../../../../../doc/html/api/proveit.logic.Equals.html\">Equals</a>\n",
    "=======================\n",
    "# from the theory of <a class=\"ProveItLink\" href=\"../../../_theory_nbs_/theory.ipynb\">proveit.numbers.multiplication</a>"
   ]
  },
  {
   "cell_type": "code",
   "execution_count": 1,
   "metadata": {},
   "outputs": [],
   "source": [
    "import proveit\n",
    "# Automation is not needed when building an expression:\n",
    "proveit.defaults.automation = False # This will speed things up.\n",
    "proveit.defaults.inline_pngs = False # Makes files smaller.\n",
    "%load_expr # Load the stored expression as 'stored_expr'\n",
    "# import Expression classes needed to build the expression\n",
    "from proveit import a, b, delta, k, theta\n",
    "from proveit.logic import Equals\n",
    "from proveit.numbers import Add, Exp, Mult, e, i, pi, two"
   ]
  },
  {
   "cell_type": "code",
   "execution_count": 2,
   "metadata": {},
   "outputs": [
    {
     "data": {
      "text/html": [
       "<strong id=\"expr\">expr:</strong> <a class=\"ProveItLink\" href=\"expr.ipynb\"><img src=\"expr.png\" style=\"display:inline;vertical-align:middle;\" /></a><br>"
      ],
      "text/plain": [
       "<IPython.core.display.HTML object>"
      ]
     },
     "metadata": {},
     "output_type": "display_data"
    }
   ],
   "source": [
    "# build up the expression from sub-expressions\n",
    "sub_expr1 = Add(a, b)\n",
    "sub_expr2 = Exp(e, Mult(two, pi, i, k, delta))\n",
    "sub_expr3 = Exp(e, Mult(two, pi, i, theta, k))\n",
    "sub_expr4 = Exp(e, Mult(two, pi, i, b))\n",
    "expr = Equals(Mult(sub_expr1, sub_expr2, sub_expr3, sub_expr4), Mult(sub_expr1, Mult(sub_expr2, sub_expr3), sub_expr4)).with_wrapping_at(2)"
   ]
  },
  {
   "cell_type": "code",
   "execution_count": 3,
   "metadata": {},
   "outputs": [
    {
     "name": "stdout",
     "output_type": "stream",
     "text": [
      "Passed sanity check: expr matches stored_expr\n"
     ]
    }
   ],
   "source": [
    "# check that the built expression is the same as the stored expression\n",
    "assert expr == stored_expr\n",
    "assert expr._style_id == stored_expr._style_id\n",
    "print(\"Passed sanity check: expr matches stored_expr\")"
   ]
  },
  {
   "cell_type": "code",
   "execution_count": 4,
   "metadata": {},
   "outputs": [
    {
     "name": "stdout",
     "output_type": "stream",
     "text": [
      "\\begin{array}{c} \\begin{array}{l} \\left(\\left(a + b\\right) \\cdot \\mathsf{e}^{2 \\cdot \\pi \\cdot \\mathsf{i} \\cdot k \\cdot \\delta} \\cdot \\mathsf{e}^{2 \\cdot \\pi \\cdot \\mathsf{i} \\cdot \\theta \\cdot k} \\cdot \\mathsf{e}^{2 \\cdot \\pi \\cdot \\mathsf{i} \\cdot b}\\right) =  \\\\ \\left(\\left(a + b\\right) \\cdot \\left(\\mathsf{e}^{2 \\cdot \\pi \\cdot \\mathsf{i} \\cdot k \\cdot \\delta} \\cdot \\mathsf{e}^{2 \\cdot \\pi \\cdot \\mathsf{i} \\cdot \\theta \\cdot k}\\right) \\cdot \\mathsf{e}^{2 \\cdot \\pi \\cdot \\mathsf{i} \\cdot b}\\right) \\end{array} \\end{array}\n"
     ]
    }
   ],
   "source": [
    "# Show the LaTeX representation of the expression for convenience if you need it.\n",
    "print(stored_expr.latex())"
   ]
  },
  {
   "cell_type": "code",
   "execution_count": 5,
   "metadata": {},
   "outputs": [
    {
     "data": {
      "text/html": [
       "<table>\n",
       "<tr><th>name</th><th>description</th><th>default</th><th>current value</th><th>related methods</th></tr><tr><td>operation</td><td>'infix' or 'function' style formatting</td><td>infix</td><td>infix</td><td></td></tr>\n",
       "<tr><td>wrap_positions</td><td>position(s) at which wrapping is to occur; '2 n - 1' is after the nth operand, '2 n' is after the nth operation.</td><td>()</td><td>(2)</td><td>('with_wrapping_at', 'with_wrap_before_operator', 'with_wrap_after_operator', 'without_wrapping', 'wrap_positions')</td></tr>\n",
       "<tr><td>justification</td><td>if any wrap positions are set, justify to the 'left', 'center', or 'right'</td><td>center</td><td>center</td><td>('with_justification',)</td></tr>\n",
       "<tr><td>direction</td><td>Direction of the relation (normal or reversed)</td><td>normal</td><td>normal</td><td>('with_direction_reversed', 'is_reversed')</td></tr>\n",
       "</table>\n"
      ],
      "text/plain": [
       "style name: operation\n",
       "description: 'infix' or 'function' style formatting\n",
       "default: infix\n",
       "current value: infix\n",
       "related methods: ()\n",
       "style name: wrap_positions\n",
       "description: position(s) at which wrapping is to occur; '2 n - 1' is after the nth operand, '2 n' is after the nth operation.\n",
       "default: ()\n",
       "current value: (2)\n",
       "related methods: ('with_wrapping_at', 'with_wrap_before_operator', 'with_wrap_after_operator', 'without_wrapping', 'wrap_positions')\n",
       "style name: justification\n",
       "description: if any wrap positions are set, justify to the 'left', 'center', or 'right'\n",
       "default: center\n",
       "current value: center\n",
       "related methods: ('with_justification',)\n",
       "style name: direction\n",
       "description: Direction of the relation (normal or reversed)\n",
       "default: normal\n",
       "current value: normal\n",
       "related methods: ('with_direction_reversed', 'is_reversed')"
      ]
     },
     "metadata": {},
     "output_type": "display_data"
    }
   ],
   "source": [
    "stored_expr.style_options()"
   ]
  },
  {
   "cell_type": "code",
   "execution_count": 6,
   "metadata": {},
   "outputs": [
    {
     "data": {
      "text/html": [
       "<table><tr><th>&nbsp;</th><th>core type</th><th>sub-expressions</th><th>expression</th></tr>\n",
       "<tr><td>0</td><td>Operation</td><td>operator:&nbsp;1<br>operands:&nbsp;2<br></td><td><a class=\"ProveItLink\" href=\"expr.ipynb\"><img src=\"expr.png\" style=\"display:inline;vertical-align:middle;\" /></a></td></tr>\n",
       "<tr><td>1</td><td>Literal</td><td></td><td><a class=\"ProveItLink\" href=\"../../../../../logic/equality/__pv_it/common/fb96dc12b2aa8801dda64d0132b396c63d1502bb0/expr.ipynb\"><img src=\"../../../../../logic/equality/__pv_it/common/fb96dc12b2aa8801dda64d0132b396c63d1502bb0/expr.png\" style=\"display:inline;vertical-align:middle;\" /></a></td></tr>\n",
       "<tr><td>2</td><td>ExprTuple</td><td>3, 4</td><td><a class=\"ProveItLink\" href=\"../d555ccc25e25436bb6edd49e21c0017e8e797fb00/expr.ipynb\"><img src=\"../d555ccc25e25436bb6edd49e21c0017e8e797fb00/expr.png\" style=\"display:inline;vertical-align:middle;\" /></a></td></tr>\n",
       "<tr><td>3</td><td>Operation</td><td>operator:&nbsp;27<br>operands:&nbsp;5<br></td><td><a class=\"ProveItLink\" href=\"../c9a943c0c61fc78805a3ca607318fbfa7402f89e0/expr.ipynb\"><img src=\"../c9a943c0c61fc78805a3ca607318fbfa7402f89e0/expr.png\" style=\"display:inline;vertical-align:middle;\" /></a></td></tr>\n",
       "<tr><td>4</td><td>Operation</td><td>operator:&nbsp;27<br>operands:&nbsp;6<br></td><td><a class=\"ProveItLink\" href=\"../97c449fd1ad7161bb82ebc8ca3333d980adeb96d0/expr.ipynb\"><img src=\"../97c449fd1ad7161bb82ebc8ca3333d980adeb96d0/expr.png\" style=\"display:inline;vertical-align:middle;\" /></a></td></tr>\n",
       "<tr><td>5</td><td>ExprTuple</td><td>7, 15, 16, 9</td><td><a class=\"ProveItLink\" href=\"../f412fa351f9fe4e41e6c80650191f3d0c11973d80/expr.ipynb\"><img src=\"../f412fa351f9fe4e41e6c80650191f3d0c11973d80/expr.png\" style=\"display:inline;vertical-align:middle;\" /></a></td></tr>\n",
       "<tr><td>6</td><td>ExprTuple</td><td>7, 8, 9</td><td><a class=\"ProveItLink\" href=\"../1f2e638b04de96e242e519c5771747a3f4da55b50/expr.ipynb\"><img src=\"../1f2e638b04de96e242e519c5771747a3f4da55b50/expr.png\" style=\"display:inline;vertical-align:middle;\" /></a></td></tr>\n",
       "<tr><td>7</td><td>Operation</td><td>operator:&nbsp;10<br>operands:&nbsp;11<br></td><td><a class=\"ProveItLink\" href=\"../../../../addition/__pv_it/theorems/89a168a13153c99bc04f669d338e1591180cde600/expr.ipynb\"><img src=\"../../../../addition/__pv_it/theorems/89a168a13153c99bc04f669d338e1591180cde600/expr.png\" style=\"display:inline;vertical-align:middle;\" /></a></td></tr>\n",
       "<tr><td>8</td><td>Operation</td><td>operator:&nbsp;27<br>operands:&nbsp;12<br></td><td><a class=\"ProveItLink\" href=\"../dc1bc073e3b84271d46683d25b29f8b0bc2da6ac0/expr.ipynb\"><img src=\"../dc1bc073e3b84271d46683d25b29f8b0bc2da6ac0/expr.png\" style=\"display:inline;vertical-align:middle;\" /></a></td></tr>\n",
       "<tr><td>9</td><td>Operation</td><td>operator:&nbsp;19<br>operands:&nbsp;13<br></td><td><a class=\"ProveItLink\" href=\"../0fdff9b547809d18f56f573a4c88165967063ea50/expr.ipynb\"><img src=\"../0fdff9b547809d18f56f573a4c88165967063ea50/expr.png\" style=\"display:inline;vertical-align:middle;\" /></a></td></tr>\n",
       "<tr><td>10</td><td>Literal</td><td></td><td><a class=\"ProveItLink\" href=\"../../../../addition/__pv_it/common/4b7effaab3619a1c2c38fe2dee8601df8ec714590/expr.ipynb\"><img src=\"../../../../addition/__pv_it/common/4b7effaab3619a1c2c38fe2dee8601df8ec714590/expr.png\" style=\"display:inline;vertical-align:middle;\" /></a></td></tr>\n",
       "<tr><td>11</td><td>ExprTuple</td><td>14, 25</td><td><a class=\"ProveItLink\" href=\"../../../../addition/__pv_it/theorems/3dcd5ceea6334d8cb48fe14fdae236293aa9a6050/expr.ipynb\"><img src=\"../../../../addition/__pv_it/theorems/3dcd5ceea6334d8cb48fe14fdae236293aa9a6050/expr.png\" style=\"display:inline;vertical-align:middle;\" /></a></td></tr>\n",
       "<tr><td>12</td><td>ExprTuple</td><td>15, 16</td><td><a class=\"ProveItLink\" href=\"../f1791ae35cc1e4f1796be8907b5c57bb5954331e0/expr.ipynb\"><img src=\"../f1791ae35cc1e4f1796be8907b5c57bb5954331e0/expr.png\" style=\"display:inline;vertical-align:middle;\" /></a></td></tr>\n",
       "<tr><td>13</td><td>ExprTuple</td><td>23, 17</td><td><a class=\"ProveItLink\" href=\"../12fb03a3563909d9d0cd85d28d9eb229c448ca550/expr.ipynb\"><img src=\"../12fb03a3563909d9d0cd85d28d9eb229c448ca550/expr.png\" style=\"display:inline;vertical-align:middle;\" /></a></td></tr>\n",
       "<tr><td>14</td><td>Variable</td><td></td><td><a class=\"ProveItLink\" href=\"../../../../../__pv_it/common/c06c606ec12678c58933ac85412ecadc2ae28be60/expr.ipynb\"><img src=\"../../../../../__pv_it/common/c06c606ec12678c58933ac85412ecadc2ae28be60/expr.png\" style=\"display:inline;vertical-align:middle;\" /></a></td></tr>\n",
       "<tr><td>15</td><td>Operation</td><td>operator:&nbsp;19<br>operands:&nbsp;18<br></td><td><a class=\"ProveItLink\" href=\"../e001124a8a8e38db649d350b5e76d68cc2f90c6b0/expr.ipynb\"><img src=\"../e001124a8a8e38db649d350b5e76d68cc2f90c6b0/expr.png\" style=\"display:inline;vertical-align:middle;\" /></a></td></tr>\n",
       "<tr><td>16</td><td>Operation</td><td>operator:&nbsp;19<br>operands:&nbsp;20<br></td><td><a class=\"ProveItLink\" href=\"../c5389691cd629b05787315059a2db7fd31dae4c80/expr.ipynb\"><img src=\"../c5389691cd629b05787315059a2db7fd31dae4c80/expr.png\" style=\"display:inline;vertical-align:middle;\" /></a></td></tr>\n",
       "<tr><td>17</td><td>Operation</td><td>operator:&nbsp;27<br>operands:&nbsp;21<br></td><td><a class=\"ProveItLink\" href=\"../f377209c9fbad7f2ed1ef8fd03465c9b0083a7b20/expr.ipynb\"><img src=\"../f377209c9fbad7f2ed1ef8fd03465c9b0083a7b20/expr.png\" style=\"display:inline;vertical-align:middle;\" /></a></td></tr>\n",
       "<tr><td>18</td><td>ExprTuple</td><td>23, 22</td><td><a class=\"ProveItLink\" href=\"../290d91a6dde1c2b30f013710cea20045d28b757a0/expr.ipynb\"><img src=\"../290d91a6dde1c2b30f013710cea20045d28b757a0/expr.png\" style=\"display:inline;vertical-align:middle;\" /></a></td></tr>\n",
       "<tr><td>19</td><td>Literal</td><td></td><td><a class=\"ProveItLink\" href=\"../../../../exponentiation/__pv_it/common/0ac37aca1e54c35c5cda09672df32d4f69f1f3020/expr.ipynb\"><img src=\"../../../../exponentiation/__pv_it/common/0ac37aca1e54c35c5cda09672df32d4f69f1f3020/expr.png\" style=\"display:inline;vertical-align:middle;\" /></a></td></tr>\n",
       "<tr><td>20</td><td>ExprTuple</td><td>23, 24</td><td><a class=\"ProveItLink\" href=\"../30602344a0ae65fea19948656008a4b4cf8b9d6b0/expr.ipynb\"><img src=\"../30602344a0ae65fea19948656008a4b4cf8b9d6b0/expr.png\" style=\"display:inline;vertical-align:middle;\" /></a></td></tr>\n",
       "<tr><td>21</td><td>ExprTuple</td><td>30, 31, 32, 25</td><td><a class=\"ProveItLink\" href=\"../0f0c33400d9a47a1c2dbe1478d459264354dd7160/expr.ipynb\"><img src=\"../0f0c33400d9a47a1c2dbe1478d459264354dd7160/expr.png\" style=\"display:inline;vertical-align:middle;\" /></a></td></tr>\n",
       "<tr><td>22</td><td>Operation</td><td>operator:&nbsp;27<br>operands:&nbsp;26<br></td><td><a class=\"ProveItLink\" href=\"../db204bdd995163e0ffec746e5656c9e4db6827db0/expr.ipynb\"><img src=\"../db204bdd995163e0ffec746e5656c9e4db6827db0/expr.png\" style=\"display:inline;vertical-align:middle;\" /></a></td></tr>\n",
       "<tr><td>23</td><td>Literal</td><td></td><td><a class=\"ProveItLink\" href=\"../../../../number_sets/real_numbers/__pv_it/common/e531ffa54fd897084533764a4a14f19f590674f80/expr.ipynb\"><img src=\"../../../../number_sets/real_numbers/__pv_it/common/e531ffa54fd897084533764a4a14f19f590674f80/expr.png\" style=\"display:inline;vertical-align:middle;\" /></a></td></tr>\n",
       "<tr><td>24</td><td>Operation</td><td>operator:&nbsp;27<br>operands:&nbsp;28<br></td><td><a class=\"ProveItLink\" href=\"../65633d5ce7c58900f42b37df032c62ce91395f0f0/expr.ipynb\"><img src=\"../65633d5ce7c58900f42b37df032c62ce91395f0f0/expr.png\" style=\"display:inline;vertical-align:middle;\" /></a></td></tr>\n",
       "<tr><td>25</td><td>Variable</td><td></td><td><a class=\"ProveItLink\" href=\"../../../../../__pv_it/common/195236b98c6c564a75b5dbada74b173bc52d5c3e0/expr.ipynb\"><img src=\"../../../../../__pv_it/common/195236b98c6c564a75b5dbada74b173bc52d5c3e0/expr.png\" style=\"display:inline;vertical-align:middle;\" /></a></td></tr>\n",
       "<tr><td>26</td><td>ExprTuple</td><td>30, 31, 32, 34, 29</td><td><a class=\"ProveItLink\" href=\"../c9ba0813eedceb0345a4097118373d3ea37e9ad40/expr.ipynb\"><img src=\"../c9ba0813eedceb0345a4097118373d3ea37e9ad40/expr.png\" style=\"display:inline;vertical-align:middle;\" /></a></td></tr>\n",
       "<tr><td>27</td><td>Literal</td><td></td><td><a class=\"ProveItLink\" href=\"../../common/ed719cef37831779c16481533a4d380a2f95ab270/expr.ipynb\"><img src=\"../../common/ed719cef37831779c16481533a4d380a2f95ab270/expr.png\" style=\"display:inline;vertical-align:middle;\" /></a></td></tr>\n",
       "<tr><td>28</td><td>ExprTuple</td><td>30, 31, 32, 33, 34</td><td><a class=\"ProveItLink\" href=\"../ae64e2a7ad01cda78499715e59eefb85ae10ca690/expr.ipynb\"><img src=\"../ae64e2a7ad01cda78499715e59eefb85ae10ca690/expr.png\" style=\"display:inline;vertical-align:middle;\" /></a></td></tr>\n",
       "<tr><td>29</td><td>Variable</td><td></td><td><a class=\"ProveItLink\" href=\"../../../../../__pv_it/common/0743d8a4f4ff93fd50a3189c2a5134398a7bd9d60/expr.ipynb\"><img src=\"../../../../../__pv_it/common/0743d8a4f4ff93fd50a3189c2a5134398a7bd9d60/expr.png\" style=\"display:inline;vertical-align:middle;\" /></a></td></tr>\n",
       "<tr><td>30</td><td>Literal</td><td></td><td><a class=\"ProveItLink\" href=\"../../../../numerals/__pv_it/common/af4aab8a07465db063742696e006d04670f30cf10/expr.ipynb\"><img src=\"../../../../numerals/__pv_it/common/af4aab8a07465db063742696e006d04670f30cf10/expr.png\" style=\"display:inline;vertical-align:middle;\" /></a></td></tr>\n",
       "<tr><td>31</td><td>Literal</td><td></td><td><a class=\"ProveItLink\" href=\"../../../../number_sets/real_numbers/__pv_it/common/246c206266ac5b48800e508d580f91767b24c2df0/expr.ipynb\"><img src=\"../../../../number_sets/real_numbers/__pv_it/common/246c206266ac5b48800e508d580f91767b24c2df0/expr.png\" style=\"display:inline;vertical-align:middle;\" /></a></td></tr>\n",
       "<tr><td>32</td><td>Literal</td><td></td><td><a class=\"ProveItLink\" href=\"../../../../number_sets/complex_numbers/__pv_it/common/6c9cc69d472f352324c298b2318df233e9a7e0250/expr.ipynb\"><img src=\"../../../../number_sets/complex_numbers/__pv_it/common/6c9cc69d472f352324c298b2318df233e9a7e0250/expr.png\" style=\"display:inline;vertical-align:middle;\" /></a></td></tr>\n",
       "<tr><td>33</td><td>Variable</td><td></td><td><a class=\"ProveItLink\" href=\"../../../../../__pv_it/common/b011a4fec64a1c824cf176959ebc716edbf098a10/expr.ipynb\"><img src=\"../../../../../__pv_it/common/b011a4fec64a1c824cf176959ebc716edbf098a10/expr.png\" style=\"display:inline;vertical-align:middle;\" /></a></td></tr>\n",
       "<tr><td>34</td><td>Variable</td><td></td><td><a class=\"ProveItLink\" href=\"../../../../../__pv_it/common/63b7c64bf9ec7a04ecc396c7a1670f3f12fb59490/expr.ipynb\"><img src=\"../../../../../__pv_it/common/63b7c64bf9ec7a04ecc396c7a1670f3f12fb59490/expr.png\" style=\"display:inline;vertical-align:middle;\" /></a></td></tr>\n",
       "</table>\n"
      ],
      "text/plain": [
       "0. ((a + b) * e^{2 * pi * i * k * delta} * e^{2 * pi * i * theta * k} * e^{2 * pi * i * b}) =  \\\\ ((a + b) * (e^{2 * pi * i * k * delta} * e^{2 * pi * i * theta * k}) * e^{2 * pi * i * b})\n",
       "   core type: Operation\n",
       "   operator: 1\n",
       "   operands: 2\n",
       "1. =\n",
       "   core type: Literal\n",
       "   sub-expressions: \n",
       "2. ((a + b) * e^{2 * pi * i * k * delta} * e^{2 * pi * i * theta * k} * e^{2 * pi * i * b}, (a + b) * (e^{2 * pi * i * k * delta} * e^{2 * pi * i * theta * k}) * e^{2 * pi * i * b})\n",
       "   core type: ExprTuple\n",
       "   sub-expressions: 3, 4\n",
       "3. (a + b) * e^{2 * pi * i * k * delta} * e^{2 * pi * i * theta * k} * e^{2 * pi * i * b}\n",
       "   core type: Operation\n",
       "   operator: 27\n",
       "   operands: 5\n",
       "4. (a + b) * (e^{2 * pi * i * k * delta} * e^{2 * pi * i * theta * k}) * e^{2 * pi * i * b}\n",
       "   core type: Operation\n",
       "   operator: 27\n",
       "   operands: 6\n",
       "5. (a + b, e^{2 * pi * i * k * delta}, e^{2 * pi * i * theta * k}, e^{2 * pi * i * b})\n",
       "   core type: ExprTuple\n",
       "   sub-expressions: 7, 15, 16, 9\n",
       "6. (a + b, e^{2 * pi * i * k * delta} * e^{2 * pi * i * theta * k}, e^{2 * pi * i * b})\n",
       "   core type: ExprTuple\n",
       "   sub-expressions: 7, 8, 9\n",
       "7. a + b\n",
       "   core type: Operation\n",
       "   operator: 10\n",
       "   operands: 11\n",
       "8. e^{2 * pi * i * k * delta} * e^{2 * pi * i * theta * k}\n",
       "   core type: Operation\n",
       "   operator: 27\n",
       "   operands: 12\n",
       "9. e^{2 * pi * i * b}\n",
       "   core type: Operation\n",
       "   operator: 19\n",
       "   operands: 13\n",
       "10. +\n",
       "    core type: Literal\n",
       "    sub-expressions: \n",
       "11. (a, b)\n",
       "    core type: ExprTuple\n",
       "    sub-expressions: 14, 25\n",
       "12. (e^{2 * pi * i * k * delta}, e^{2 * pi * i * theta * k})\n",
       "    core type: ExprTuple\n",
       "    sub-expressions: 15, 16\n",
       "13. (e, 2 * pi * i * b)\n",
       "    core type: ExprTuple\n",
       "    sub-expressions: 23, 17\n",
       "14. a\n",
       "    core type: Variable\n",
       "    sub-expressions: \n",
       "15. e^{2 * pi * i * k * delta}\n",
       "    core type: Operation\n",
       "    operator: 19\n",
       "    operands: 18\n",
       "16. e^{2 * pi * i * theta * k}\n",
       "    core type: Operation\n",
       "    operator: 19\n",
       "    operands: 20\n",
       "17. 2 * pi * i * b\n",
       "    core type: Operation\n",
       "    operator: 27\n",
       "    operands: 21\n",
       "18. (e, 2 * pi * i * k * delta)\n",
       "    core type: ExprTuple\n",
       "    sub-expressions: 23, 22\n",
       "19. Exp\n",
       "    core type: Literal\n",
       "    sub-expressions: \n",
       "20. (e, 2 * pi * i * theta * k)\n",
       "    core type: ExprTuple\n",
       "    sub-expressions: 23, 24\n",
       "21. (2, pi, i, b)\n",
       "    core type: ExprTuple\n",
       "    sub-expressions: 30, 31, 32, 25\n",
       "22. 2 * pi * i * k * delta\n",
       "    core type: Operation\n",
       "    operator: 27\n",
       "    operands: 26\n",
       "23. e\n",
       "    core type: Literal\n",
       "    sub-expressions: \n",
       "24. 2 * pi * i * theta * k\n",
       "    core type: Operation\n",
       "    operator: 27\n",
       "    operands: 28\n",
       "25. b\n",
       "    core type: Variable\n",
       "    sub-expressions: \n",
       "26. (2, pi, i, k, delta)\n",
       "    core type: ExprTuple\n",
       "    sub-expressions: 30, 31, 32, 34, 29\n",
       "27. *\n",
       "    core type: Literal\n",
       "    sub-expressions: \n",
       "28. (2, pi, i, theta, k)\n",
       "    core type: ExprTuple\n",
       "    sub-expressions: 30, 31, 32, 33, 34\n",
       "29. delta\n",
       "    core type: Variable\n",
       "    sub-expressions: \n",
       "30. 2\n",
       "    core type: Literal\n",
       "    sub-expressions: \n",
       "31. pi\n",
       "    core type: Literal\n",
       "    sub-expressions: \n",
       "32. i\n",
       "    core type: Literal\n",
       "    sub-expressions: \n",
       "33. theta\n",
       "    core type: Variable\n",
       "    sub-expressions: \n",
       "34. k\n",
       "    core type: Variable\n",
       "    sub-expressions: "
      ]
     },
     "metadata": {},
     "output_type": "display_data"
    }
   ],
   "source": [
    "# display the expression information\n",
    "stored_expr.expr_info()"
   ]
  },
  {
   "cell_type": "code",
   "execution_count": null,
   "metadata": {},
   "outputs": [],
   "source": []
  }
 ],
 "metadata": {
  "kernelspec": {
   "display_name": "Python 3",
   "language": "python",
   "name": "python3"
  }
 },
 "nbformat": 4,
 "nbformat_minor": 0
}