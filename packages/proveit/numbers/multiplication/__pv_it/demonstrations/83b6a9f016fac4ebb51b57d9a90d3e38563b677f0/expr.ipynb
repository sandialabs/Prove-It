{
 "cells": [
  {
   "cell_type": "markdown",
   "metadata": {},
   "source": [
    "Expression of type <a class=\"ProveItLink\" href=\"../../../../../../../doc/html/api/proveit.logic.Equals.html\">Equals</a>\n",
    "=======================\n",
    "# from the theory of <a class=\"ProveItLink\" href=\"../../../_theory_nbs_/theory.ipynb\">proveit.numbers.multiplication</a>"
   ]
  },
  {
   "cell_type": "code",
   "execution_count": 1,
   "metadata": {},
   "outputs": [],
   "source": [
    "import proveit\n",
    "# Automation is not needed when building an expression:\n",
    "proveit.defaults.automation = False # This will speed things up.\n",
    "proveit.defaults.inline_pngs = False # Makes files smaller.\n",
    "%load_expr # Load the stored expression as 'stored_expr'\n",
    "# import Expression classes needed to build the expression\n",
    "from proveit import a, b, c, d\n",
    "from proveit.logic import Equals\n",
    "from proveit.numbers import Exp, Mult, four, frac, one, sqrt, three, two"
   ]
  },
  {
   "cell_type": "code",
   "execution_count": 2,
   "metadata": {},
   "outputs": [
    {
     "data": {
      "text/html": [
       "<strong id=\"expr\">expr:</strong> <a class=\"ProveItLink\" href=\"expr.ipynb\"><img src=\"expr.png\" style=\"display:inline;vertical-align:middle;\" /></a><br>"
      ],
      "text/plain": [
       "<IPython.core.display.HTML object>"
      ]
     },
     "metadata": {},
     "output_type": "display_data"
    }
   ],
   "source": [
    "# build up the expression from sub-expressions\n",
    "sub_expr1 = sqrt(b)\n",
    "expr = Equals(Mult(a, sub_expr1, two, Exp(d, two), frac(two, three), c), frac(Mult(d, b, four, a, frac(one, three), d, c), sub_expr1))"
   ]
  },
  {
   "cell_type": "code",
   "execution_count": 3,
   "metadata": {},
   "outputs": [
    {
     "name": "stdout",
     "output_type": "stream",
     "text": [
      "Passed sanity check: expr matches stored_expr\n"
     ]
    }
   ],
   "source": [
    "# check that the built expression is the same as the stored expression\n",
    "assert expr == stored_expr\n",
    "assert expr._style_id == stored_expr._style_id\n",
    "print(\"Passed sanity check: expr matches stored_expr\")"
   ]
  },
  {
   "cell_type": "code",
   "execution_count": 4,
   "metadata": {},
   "outputs": [
    {
     "name": "stdout",
     "output_type": "stream",
     "text": [
      "\\left(a \\cdot \\sqrt{b} \\cdot 2 \\cdot d^{2} \\cdot \\frac{2}{3} \\cdot c\\right) = \\frac{d \\cdot b \\cdot 4 \\cdot a \\cdot \\frac{1}{3} \\cdot d \\cdot c}{\\sqrt{b}}\n"
     ]
    }
   ],
   "source": [
    "# Show the LaTeX representation of the expression for convenience if you need it.\n",
    "print(stored_expr.latex())"
   ]
  },
  {
   "cell_type": "code",
   "execution_count": 5,
   "metadata": {},
   "outputs": [
    {
     "data": {
      "text/html": [
       "<table>\n",
       "<tr><th>name</th><th>description</th><th>default</th><th>current value</th><th>related methods</th></tr><tr><td>operation</td><td>'infix' or 'function' style formatting</td><td>infix</td><td>infix</td><td></td></tr>\n",
       "<tr><td>wrap_positions</td><td>position(s) at which wrapping is to occur; '2 n - 1' is after the nth operand, '2 n' is after the nth operation.</td><td>()</td><td>()</td><td>('with_wrapping_at', 'with_wrap_before_operator', 'with_wrap_after_operator', 'without_wrapping', 'wrap_positions')</td></tr>\n",
       "<tr><td>justification</td><td>if any wrap positions are set, justify to the 'left', 'center', or 'right'</td><td>center</td><td>center</td><td>('with_justification',)</td></tr>\n",
       "<tr><td>direction</td><td>Direction of the relation (normal or reversed)</td><td>normal</td><td>normal</td><td>('with_direction_reversed', 'is_reversed')</td></tr>\n",
       "</table>\n"
      ],
      "text/plain": [
       "style name: operation\n",
       "description: 'infix' or 'function' style formatting\n",
       "default: infix\n",
       "current value: infix\n",
       "related methods: ()\n",
       "style name: wrap_positions\n",
       "description: position(s) at which wrapping is to occur; '2 n - 1' is after the nth operand, '2 n' is after the nth operation.\n",
       "default: ()\n",
       "current value: ()\n",
       "related methods: ('with_wrapping_at', 'with_wrap_before_operator', 'with_wrap_after_operator', 'without_wrapping', 'wrap_positions')\n",
       "style name: justification\n",
       "description: if any wrap positions are set, justify to the 'left', 'center', or 'right'\n",
       "default: center\n",
       "current value: center\n",
       "related methods: ('with_justification',)\n",
       "style name: direction\n",
       "description: Direction of the relation (normal or reversed)\n",
       "default: normal\n",
       "current value: normal\n",
       "related methods: ('with_direction_reversed', 'is_reversed')"
      ]
     },
     "metadata": {},
     "output_type": "display_data"
    }
   ],
   "source": [
    "stored_expr.style_options()"
   ]
  },
  {
   "cell_type": "code",
   "execution_count": 6,
   "metadata": {},
   "outputs": [
    {
     "data": {
      "text/html": [
       "<table><tr><th>&nbsp;</th><th>core type</th><th>sub-expressions</th><th>expression</th></tr>\n",
       "<tr><td>0</td><td>Operation</td><td>operator:&nbsp;1<br>operands:&nbsp;2<br></td><td><a class=\"ProveItLink\" href=\"expr.ipynb\"><img src=\"expr.png\" style=\"display:inline;vertical-align:middle;\" /></a></td></tr>\n",
       "<tr><td>1</td><td>Literal</td><td></td><td><a class=\"ProveItLink\" href=\"../../../../../logic/equality/__pv_it/common/fb96dc12b2aa8801dda64d0132b396c63d1502bb0/expr.ipynb\"><img src=\"../../../../../logic/equality/__pv_it/common/fb96dc12b2aa8801dda64d0132b396c63d1502bb0/expr.png\" style=\"display:inline;vertical-align:middle;\" /></a></td></tr>\n",
       "<tr><td>2</td><td>ExprTuple</td><td>3, 4</td><td><a class=\"ProveItLink\" href=\"../83a7b82252956a7673dafa92001fb489ed31f63f0/expr.ipynb\"><img src=\"../83a7b82252956a7673dafa92001fb489ed31f63f0/expr.png\" style=\"display:inline;vertical-align:middle;\" /></a></td></tr>\n",
       "<tr><td>3</td><td>Operation</td><td>operator:&nbsp;13<br>operands:&nbsp;5<br></td><td><a class=\"ProveItLink\" href=\"../c2e748543e3f95b7337e8f81e20a97f09e5201950/expr.ipynb\"><img src=\"../c2e748543e3f95b7337e8f81e20a97f09e5201950/expr.png\" style=\"display:inline;vertical-align:middle;\" /></a></td></tr>\n",
       "<tr><td>4</td><td>Operation</td><td>operator:&nbsp;25<br>operands:&nbsp;6<br></td><td><a class=\"ProveItLink\" href=\"../55f88dec1f4e07c66d0514b2c3898a045d2df7920/expr.ipynb\"><img src=\"../55f88dec1f4e07c66d0514b2c3898a045d2df7920/expr.png\" style=\"display:inline;vertical-align:middle;\" /></a></td></tr>\n",
       "<tr><td>5</td><td>ExprTuple</td><td>18, 10, 29, 7, 8, 21</td><td><a class=\"ProveItLink\" href=\"../f2bdd4f392f9e7ac459ac12f78aec9cb834252590/expr.ipynb\"><img src=\"../f2bdd4f392f9e7ac459ac12f78aec9cb834252590/expr.png\" style=\"display:inline;vertical-align:middle;\" /></a></td></tr>\n",
       "<tr><td>6</td><td>ExprTuple</td><td>9, 10</td><td><a class=\"ProveItLink\" href=\"../43cc1094e3bac0fcf18836ac49bdf5f492c2c47d0/expr.ipynb\"><img src=\"../43cc1094e3bac0fcf18836ac49bdf5f492c2c47d0/expr.png\" style=\"display:inline;vertical-align:middle;\" /></a></td></tr>\n",
       "<tr><td>7</td><td>Operation</td><td>operator:&nbsp;15<br>operands:&nbsp;11<br></td><td><a class=\"ProveItLink\" href=\"../446dc05fb154e2d524f09d4bf35a43f36b04d54c0/expr.ipynb\"><img src=\"../446dc05fb154e2d524f09d4bf35a43f36b04d54c0/expr.png\" style=\"display:inline;vertical-align:middle;\" /></a></td></tr>\n",
       "<tr><td>8</td><td>Operation</td><td>operator:&nbsp;25<br>operands:&nbsp;12<br></td><td><a class=\"ProveItLink\" href=\"../797359ffce6176f57b6d13918112e826175e90bf0/expr.ipynb\"><img src=\"../797359ffce6176f57b6d13918112e826175e90bf0/expr.png\" style=\"display:inline;vertical-align:middle;\" /></a></td></tr>\n",
       "<tr><td>9</td><td>Operation</td><td>operator:&nbsp;13<br>operands:&nbsp;14<br></td><td><a class=\"ProveItLink\" href=\"../fe195501c749c3d479c380867a797334943027910/expr.ipynb\"><img src=\"../fe195501c749c3d479c380867a797334943027910/expr.png\" style=\"display:inline;vertical-align:middle;\" /></a></td></tr>\n",
       "<tr><td>10</td><td>Operation</td><td>operator:&nbsp;15<br>operands:&nbsp;16<br></td><td><a class=\"ProveItLink\" href=\"../164471126082bca47bd19dc17bae72ffd9c674c40/expr.ipynb\"><img src=\"../164471126082bca47bd19dc17bae72ffd9c674c40/expr.png\" style=\"display:inline;vertical-align:middle;\" /></a></td></tr>\n",
       "<tr><td>11</td><td>ExprTuple</td><td>20, 29</td><td><a class=\"ProveItLink\" href=\"../396f525a34da698e9449367f54e4cef00697fd8a0/expr.ipynb\"><img src=\"../396f525a34da698e9449367f54e4cef00697fd8a0/expr.png\" style=\"display:inline;vertical-align:middle;\" /></a></td></tr>\n",
       "<tr><td>12</td><td>ExprTuple</td><td>29, 27</td><td><a class=\"ProveItLink\" href=\"../../../../numerals/decimals/__pv_it/theorems/507125bf20ae8af40b63f375b7417e5dd7fd6bd00/expr.ipynb\"><img src=\"../../../../numerals/decimals/__pv_it/theorems/507125bf20ae8af40b63f375b7417e5dd7fd6bd00/expr.png\" style=\"display:inline;vertical-align:middle;\" /></a></td></tr>\n",
       "<tr><td>13</td><td>Literal</td><td></td><td><a class=\"ProveItLink\" href=\"../../common/ed719cef37831779c16481533a4d380a2f95ab270/expr.ipynb\"><img src=\"../../common/ed719cef37831779c16481533a4d380a2f95ab270/expr.png\" style=\"display:inline;vertical-align:middle;\" /></a></td></tr>\n",
       "<tr><td>14</td><td>ExprTuple</td><td>20, 22, 17, 18, 19, 20, 21</td><td><a class=\"ProveItLink\" href=\"../1497f01a2746d9dde6ffba02d53028dedd8930ce0/expr.ipynb\"><img src=\"../1497f01a2746d9dde6ffba02d53028dedd8930ce0/expr.png\" style=\"display:inline;vertical-align:middle;\" /></a></td></tr>\n",
       "<tr><td>15</td><td>Literal</td><td></td><td><a class=\"ProveItLink\" href=\"../../../../exponentiation/__pv_it/common/0ac37aca1e54c35c5cda09672df32d4f69f1f3020/expr.ipynb\"><img src=\"../../../../exponentiation/__pv_it/common/0ac37aca1e54c35c5cda09672df32d4f69f1f3020/expr.png\" style=\"display:inline;vertical-align:middle;\" /></a></td></tr>\n",
       "<tr><td>16</td><td>ExprTuple</td><td>22, 23</td><td><a class=\"ProveItLink\" href=\"../a6963edf153e303349197850bd9a2209c9cc23650/expr.ipynb\"><img src=\"../a6963edf153e303349197850bd9a2209c9cc23650/expr.png\" style=\"display:inline;vertical-align:middle;\" /></a></td></tr>\n",
       "<tr><td>17</td><td>Literal</td><td></td><td><a class=\"ProveItLink\" href=\"../../../../numerals/__pv_it/common/48a1d915c1e9490b9a94e5c77a208938d3ee20ce0/expr.ipynb\"><img src=\"../../../../numerals/__pv_it/common/48a1d915c1e9490b9a94e5c77a208938d3ee20ce0/expr.png\" style=\"display:inline;vertical-align:middle;\" /></a></td></tr>\n",
       "<tr><td>18</td><td>Variable</td><td></td><td><a class=\"ProveItLink\" href=\"../../../../../__pv_it/common/c06c606ec12678c58933ac85412ecadc2ae28be60/expr.ipynb\"><img src=\"../../../../../__pv_it/common/c06c606ec12678c58933ac85412ecadc2ae28be60/expr.png\" style=\"display:inline;vertical-align:middle;\" /></a></td></tr>\n",
       "<tr><td>19</td><td>Operation</td><td>operator:&nbsp;25<br>operands:&nbsp;24<br></td><td><a class=\"ProveItLink\" href=\"../7a12c56a91c67dbc2617abb167f4df1b8965f8700/expr.ipynb\"><img src=\"../7a12c56a91c67dbc2617abb167f4df1b8965f8700/expr.png\" style=\"display:inline;vertical-align:middle;\" /></a></td></tr>\n",
       "<tr><td>20</td><td>Variable</td><td></td><td><a class=\"ProveItLink\" href=\"../../../../../__pv_it/common/4f5c524ffda87296de1c79b96880123fe2efedd50/expr.ipynb\"><img src=\"../../../../../__pv_it/common/4f5c524ffda87296de1c79b96880123fe2efedd50/expr.png\" style=\"display:inline;vertical-align:middle;\" /></a></td></tr>\n",
       "<tr><td>21</td><td>Variable</td><td></td><td><a class=\"ProveItLink\" href=\"../../../../../__pv_it/common/ceef4280a2f1cc604b455b54e735507244cc62cd0/expr.ipynb\"><img src=\"../../../../../__pv_it/common/ceef4280a2f1cc604b455b54e735507244cc62cd0/expr.png\" style=\"display:inline;vertical-align:middle;\" /></a></td></tr>\n",
       "<tr><td>22</td><td>Variable</td><td></td><td><a class=\"ProveItLink\" href=\"../../../../../__pv_it/common/195236b98c6c564a75b5dbada74b173bc52d5c3e0/expr.ipynb\"><img src=\"../../../../../__pv_it/common/195236b98c6c564a75b5dbada74b173bc52d5c3e0/expr.png\" style=\"display:inline;vertical-align:middle;\" /></a></td></tr>\n",
       "<tr><td>23</td><td>Operation</td><td>operator:&nbsp;25<br>operands:&nbsp;26<br></td><td><a class=\"ProveItLink\" href=\"../5d739c7b854085e82005ef3d1866586e857984a60/expr.ipynb\"><img src=\"../5d739c7b854085e82005ef3d1866586e857984a60/expr.png\" style=\"display:inline;vertical-align:middle;\" /></a></td></tr>\n",
       "<tr><td>24</td><td>ExprTuple</td><td>28, 27</td><td><a class=\"ProveItLink\" href=\"../7818a612e3a13034f9173d608653609e4f92ad0f0/expr.ipynb\"><img src=\"../7818a612e3a13034f9173d608653609e4f92ad0f0/expr.png\" style=\"display:inline;vertical-align:middle;\" /></a></td></tr>\n",
       "<tr><td>25</td><td>Literal</td><td></td><td><a class=\"ProveItLink\" href=\"../../../../division/__pv_it/common/a2a633e1e3c749fb1f2692466b287b6348c5de840/expr.ipynb\"><img src=\"../../../../division/__pv_it/common/a2a633e1e3c749fb1f2692466b287b6348c5de840/expr.png\" style=\"display:inline;vertical-align:middle;\" /></a></td></tr>\n",
       "<tr><td>26</td><td>ExprTuple</td><td>28, 29</td><td><a class=\"ProveItLink\" href=\"../../../../numerals/decimals/__pv_it/theorems/df23a04353373623cccbfda09b61e0f594aa791a0/expr.ipynb\"><img src=\"../../../../numerals/decimals/__pv_it/theorems/df23a04353373623cccbfda09b61e0f594aa791a0/expr.png\" style=\"display:inline;vertical-align:middle;\" /></a></td></tr>\n",
       "<tr><td>27</td><td>Literal</td><td></td><td><a class=\"ProveItLink\" href=\"../../../../numerals/__pv_it/common/1943b60945420e340d305780feff5c1aff2740ff0/expr.ipynb\"><img src=\"../../../../numerals/__pv_it/common/1943b60945420e340d305780feff5c1aff2740ff0/expr.png\" style=\"display:inline;vertical-align:middle;\" /></a></td></tr>\n",
       "<tr><td>28</td><td>Literal</td><td></td><td><a class=\"ProveItLink\" href=\"../../../../numerals/__pv_it/common/682157d4892d216d9e5626ed533aff9b56b9506e0/expr.ipynb\"><img src=\"../../../../numerals/__pv_it/common/682157d4892d216d9e5626ed533aff9b56b9506e0/expr.png\" style=\"display:inline;vertical-align:middle;\" /></a></td></tr>\n",
       "<tr><td>29</td><td>Literal</td><td></td><td><a class=\"ProveItLink\" href=\"../../../../numerals/__pv_it/common/af4aab8a07465db063742696e006d04670f30cf10/expr.ipynb\"><img src=\"../../../../numerals/__pv_it/common/af4aab8a07465db063742696e006d04670f30cf10/expr.png\" style=\"display:inline;vertical-align:middle;\" /></a></td></tr>\n",
       "</table>\n"
      ],
      "text/plain": [
       "0. (a * sqrt(b) * 2 * d^{2} * (2 / 3) * c) = ((d * b * 4 * a * (1 / 3) * d * c) / sqrt(b))\n",
       "   core type: Operation\n",
       "   operator: 1\n",
       "   operands: 2\n",
       "1. =\n",
       "   core type: Literal\n",
       "   sub-expressions: \n",
       "2. (a * sqrt(b) * 2 * d^{2} * (2 / 3) * c, (d * b * 4 * a * (1 / 3) * d * c) / sqrt(b))\n",
       "   core type: ExprTuple\n",
       "   sub-expressions: 3, 4\n",
       "3. a * sqrt(b) * 2 * d^{2} * (2 / 3) * c\n",
       "   core type: Operation\n",
       "   operator: 13\n",
       "   operands: 5\n",
       "4. (d * b * 4 * a * (1 / 3) * d * c) / sqrt(b)\n",
       "   core type: Operation\n",
       "   operator: 25\n",
       "   operands: 6\n",
       "5. (a, sqrt(b), 2, d^{2}, 2 / 3, c)\n",
       "   core type: ExprTuple\n",
       "   sub-expressions: 18, 10, 29, 7, 8, 21\n",
       "6. (d * b * 4 * a * (1 / 3) * d * c, sqrt(b))\n",
       "   core type: ExprTuple\n",
       "   sub-expressions: 9, 10\n",
       "7. d^{2}\n",
       "   core type: Operation\n",
       "   operator: 15\n",
       "   operands: 11\n",
       "8. 2 / 3\n",
       "   core type: Operation\n",
       "   operator: 25\n",
       "   operands: 12\n",
       "9. d * b * 4 * a * (1 / 3) * d * c\n",
       "   core type: Operation\n",
       "   operator: 13\n",
       "   operands: 14\n",
       "10. sqrt(b)\n",
       "    core type: Operation\n",
       "    operator: 15\n",
       "    operands: 16\n",
       "11. (d, 2)\n",
       "    core type: ExprTuple\n",
       "    sub-expressions: 20, 29\n",
       "12. (2, 3)\n",
       "    core type: ExprTuple\n",
       "    sub-expressions: 29, 27\n",
       "13. *\n",
       "    core type: Literal\n",
       "    sub-expressions: \n",
       "14. (d, b, 4, a, 1 / 3, d, c)\n",
       "    core type: ExprTuple\n",
       "    sub-expressions: 20, 22, 17, 18, 19, 20, 21\n",
       "15. Exp\n",
       "    core type: Literal\n",
       "    sub-expressions: \n",
       "16. (b, 1 / 2)\n",
       "    core type: ExprTuple\n",
       "    sub-expressions: 22, 23\n",
       "17. 4\n",
       "    core type: Literal\n",
       "    sub-expressions: \n",
       "18. a\n",
       "    core type: Variable\n",
       "    sub-expressions: \n",
       "19. 1 / 3\n",
       "    core type: Operation\n",
       "    operator: 25\n",
       "    operands: 24\n",
       "20. d\n",
       "    core type: Variable\n",
       "    sub-expressions: \n",
       "21. c\n",
       "    core type: Variable\n",
       "    sub-expressions: \n",
       "22. b\n",
       "    core type: Variable\n",
       "    sub-expressions: \n",
       "23. 1 / 2\n",
       "    core type: Operation\n",
       "    operator: 25\n",
       "    operands: 26\n",
       "24. (1, 3)\n",
       "    core type: ExprTuple\n",
       "    sub-expressions: 28, 27\n",
       "25. /\n",
       "    core type: Literal\n",
       "    sub-expressions: \n",
       "26. (1, 2)\n",
       "    core type: ExprTuple\n",
       "    sub-expressions: 28, 29\n",
       "27. 3\n",
       "    core type: Literal\n",
       "    sub-expressions: \n",
       "28. 1\n",
       "    core type: Literal\n",
       "    sub-expressions: \n",
       "29. 2\n",
       "    core type: Literal\n",
       "    sub-expressions: "
      ]
     },
     "metadata": {},
     "output_type": "display_data"
    }
   ],
   "source": [
    "# display the expression information\n",
    "stored_expr.expr_info()"
   ]
  },
  {
   "cell_type": "code",
   "execution_count": null,
   "metadata": {},
   "outputs": [],
   "source": []
  }
 ],
 "metadata": {
  "kernelspec": {
   "display_name": "Python 3",
   "language": "python",
   "name": "python3"
  }
 },
 "nbformat": 4,
 "nbformat_minor": 0
}