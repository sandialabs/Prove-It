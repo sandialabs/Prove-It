{
 "cells": [
  {
   "cell_type": "markdown",
   "metadata": {},
   "source": [
    "Expression of type <a class=\"ProveItLink\" href=\"../../../../../../../doc/html/api/proveit.ExprTuple.html\">ExprTuple</a>\n",
    "=======================\n",
    "# from the theory of <a class=\"ProveItLink\" href=\"../../../_theory_nbs_/theory.ipynb\">proveit.numbers.multiplication</a>"
   ]
  },
  {
   "cell_type": "code",
   "execution_count": 1,
   "metadata": {},
   "outputs": [],
   "source": [
    "import proveit\n",
    "# Automation is not needed when building an expression:\n",
    "proveit.defaults.automation = False # This will speed things up.\n",
    "proveit.defaults.inline_pngs = False # Makes files smaller.\n",
    "%load_expr # Load the stored expression as 'stored_expr'\n",
    "# import Expression classes needed to build the expression\n",
    "from proveit import ExprTuple\n",
    "from proveit.numbers import Mult, Neg, five, frac, three, two"
   ]
  },
  {
   "cell_type": "code",
   "execution_count": 2,
   "metadata": {},
   "outputs": [
    {
     "data": {
      "text/html": [
       "<strong id=\"expr\">expr:</strong> <a class=\"ProveItLink\" href=\"expr.ipynb\"><img src=\"expr.png\" style=\"display:inline;vertical-align:middle;\" /></a><br>"
      ],
      "text/plain": [
       "<IPython.core.display.HTML object>"
      ]
     },
     "metadata": {},
     "output_type": "display_data"
    }
   ],
   "source": [
    "# build up the expression from sub-expressions\n",
    "sub_expr1 = frac(five, three)\n",
    "expr = ExprTuple(Mult(frac(Neg(two), three), sub_expr1), Mult(Neg(frac(two, three)), sub_expr1))"
   ]
  },
  {
   "cell_type": "code",
   "execution_count": 3,
   "metadata": {},
   "outputs": [
    {
     "name": "stdout",
     "output_type": "stream",
     "text": [
      "Passed sanity check: expr matches stored_expr\n"
     ]
    }
   ],
   "source": [
    "# check that the built expression is the same as the stored expression\n",
    "assert expr == stored_expr\n",
    "assert expr._style_id == stored_expr._style_id\n",
    "print(\"Passed sanity check: expr matches stored_expr\")"
   ]
  },
  {
   "cell_type": "code",
   "execution_count": 4,
   "metadata": {},
   "outputs": [
    {
     "name": "stdout",
     "output_type": "stream",
     "text": [
      "\\left(\\frac{-2}{3} \\cdot \\frac{5}{3}, \\left(-\\frac{2}{3}\\right) \\cdot \\frac{5}{3}\\right)\n"
     ]
    }
   ],
   "source": [
    "# Show the LaTeX representation of the expression for convenience if you need it.\n",
    "print(stored_expr.latex())"
   ]
  },
  {
   "cell_type": "code",
   "execution_count": 5,
   "metadata": {},
   "outputs": [
    {
     "data": {
      "text/html": [
       "<table>\n",
       "<tr><th>name</th><th>description</th><th>default</th><th>current value</th><th>related methods</th></tr><tr><td>wrap_positions</td><td>position(s) at which wrapping is to occur; 'n' is after the nth comma.</td><td>()</td><td>()</td><td>('with_wrapping_at',)</td></tr>\n",
       "<tr><td>justification</td><td>if any wrap positions are set, justify to the 'left', 'center', or 'right'</td><td>left</td><td>left</td><td>('with_justification',)</td></tr>\n",
       "</table>\n"
      ],
      "text/plain": [
       "style name: wrap_positions\n",
       "description: position(s) at which wrapping is to occur; 'n' is after the nth comma.\n",
       "default: ()\n",
       "current value: ()\n",
       "related methods: ('with_wrapping_at',)\n",
       "style name: justification\n",
       "description: if any wrap positions are set, justify to the 'left', 'center', or 'right'\n",
       "default: left\n",
       "current value: left\n",
       "related methods: ('with_justification',)"
      ]
     },
     "metadata": {},
     "output_type": "display_data"
    }
   ],
   "source": [
    "stored_expr.style_options()"
   ]
  },
  {
   "cell_type": "code",
   "execution_count": 6,
   "metadata": {},
   "outputs": [
    {
     "data": {
      "text/html": [
       "<table><tr><th>&nbsp;</th><th>core type</th><th>sub-expressions</th><th>expression</th></tr>\n",
       "<tr><td>0</td><td>ExprTuple</td><td>1, 2</td><td><a class=\"ProveItLink\" href=\"expr.ipynb\"><img src=\"expr.png\" style=\"display:inline;vertical-align:middle;\" /></a></td></tr>\n",
       "<tr><td>1</td><td>Operation</td><td>operator:&nbsp;4<br>operands:&nbsp;3<br></td><td><a class=\"ProveItLink\" href=\"../412d9d9697ae2c4207c328ce36e4fd2436c5fa3b0/expr.ipynb\"><img src=\"../412d9d9697ae2c4207c328ce36e4fd2436c5fa3b0/expr.png\" style=\"display:inline;vertical-align:middle;\" /></a></td></tr>\n",
       "<tr><td>2</td><td>Operation</td><td>operator:&nbsp;4<br>operands:&nbsp;5<br></td><td><a class=\"ProveItLink\" href=\"../617edfcfada17bbd958c4c12f4cf79a927473a910/expr.ipynb\"><img src=\"../617edfcfada17bbd958c4c12f4cf79a927473a910/expr.png\" style=\"display:inline;vertical-align:middle;\" /></a></td></tr>\n",
       "<tr><td>3</td><td>ExprTuple</td><td>6, 8</td><td><a class=\"ProveItLink\" href=\"../73ca6846ac223089b8634241b719a69fa7b81ee80/expr.ipynb\"><img src=\"../73ca6846ac223089b8634241b719a69fa7b81ee80/expr.png\" style=\"display:inline;vertical-align:middle;\" /></a></td></tr>\n",
       "<tr><td>4</td><td>Literal</td><td></td><td><a class=\"ProveItLink\" href=\"../../common/ed719cef37831779c16481533a4d380a2f95ab270/expr.ipynb\"><img src=\"../../common/ed719cef37831779c16481533a4d380a2f95ab270/expr.png\" style=\"display:inline;vertical-align:middle;\" /></a></td></tr>\n",
       "<tr><td>5</td><td>ExprTuple</td><td>7, 8</td><td><a class=\"ProveItLink\" href=\"../49d319a28cb2d91735cd8e6cd9860350af63e7070/expr.ipynb\"><img src=\"../49d319a28cb2d91735cd8e6cd9860350af63e7070/expr.png\" style=\"display:inline;vertical-align:middle;\" /></a></td></tr>\n",
       "<tr><td>6</td><td>Operation</td><td>operator:&nbsp;17<br>operands:&nbsp;9<br></td><td><a class=\"ProveItLink\" href=\"../28a2d0277ef78b899ff617dbbdd28d6ed1e4f12b0/expr.ipynb\"><img src=\"../28a2d0277ef78b899ff617dbbdd28d6ed1e4f12b0/expr.png\" style=\"display:inline;vertical-align:middle;\" /></a></td></tr>\n",
       "<tr><td>7</td><td>Operation</td><td>operator:&nbsp;15<br>operand:&nbsp;13<br></td><td><a class=\"ProveItLink\" href=\"../a4c840b12b6788a0d689b3ce30363439848cd3690/expr.ipynb\"><img src=\"../a4c840b12b6788a0d689b3ce30363439848cd3690/expr.png\" style=\"display:inline;vertical-align:middle;\" /></a></td></tr>\n",
       "<tr><td>8</td><td>Operation</td><td>operator:&nbsp;17<br>operands:&nbsp;11<br></td><td><a class=\"ProveItLink\" href=\"../4bd9b2e689c6d9d3bc8f8a8b3279605e4ddb019f0/expr.ipynb\"><img src=\"../4bd9b2e689c6d9d3bc8f8a8b3279605e4ddb019f0/expr.png\" style=\"display:inline;vertical-align:middle;\" /></a></td></tr>\n",
       "<tr><td>9</td><td>ExprTuple</td><td>12, 20</td><td><a class=\"ProveItLink\" href=\"../1e28f04b0adf5a78cfd970094bfb2f62fe567ef60/expr.ipynb\"><img src=\"../1e28f04b0adf5a78cfd970094bfb2f62fe567ef60/expr.png\" style=\"display:inline;vertical-align:middle;\" /></a></td></tr>\n",
       "<tr><td>10</td><td>ExprTuple</td><td>13</td><td><a class=\"ProveItLink\" href=\"../27e1b4c33c6aac8d785089d36639c50caf33bf840/expr.ipynb\"><img src=\"../27e1b4c33c6aac8d785089d36639c50caf33bf840/expr.png\" style=\"display:inline;vertical-align:middle;\" /></a></td></tr>\n",
       "<tr><td>11</td><td>ExprTuple</td><td>14, 20</td><td><a class=\"ProveItLink\" href=\"../4dd094b088ae0f3524521bac1a33667634764e340/expr.ipynb\"><img src=\"../4dd094b088ae0f3524521bac1a33667634764e340/expr.png\" style=\"display:inline;vertical-align:middle;\" /></a></td></tr>\n",
       "<tr><td>12</td><td>Operation</td><td>operator:&nbsp;15<br>operand:&nbsp;19<br></td><td><a class=\"ProveItLink\" href=\"../16bf7762f473cc2cfad370a096ed5f2eb39b6b2c0/expr.ipynb\"><img src=\"../16bf7762f473cc2cfad370a096ed5f2eb39b6b2c0/expr.png\" style=\"display:inline;vertical-align:middle;\" /></a></td></tr>\n",
       "<tr><td>13</td><td>Operation</td><td>operator:&nbsp;17<br>operands:&nbsp;18<br></td><td><a class=\"ProveItLink\" href=\"../797359ffce6176f57b6d13918112e826175e90bf0/expr.ipynb\"><img src=\"../797359ffce6176f57b6d13918112e826175e90bf0/expr.png\" style=\"display:inline;vertical-align:middle;\" /></a></td></tr>\n",
       "<tr><td>14</td><td>Literal</td><td></td><td><a class=\"ProveItLink\" href=\"../../../../numerals/__pv_it/common/16e9923976ab933f6783588485130530d25dafab0/expr.ipynb\"><img src=\"../../../../numerals/__pv_it/common/16e9923976ab933f6783588485130530d25dafab0/expr.png\" style=\"display:inline;vertical-align:middle;\" /></a></td></tr>\n",
       "<tr><td>15</td><td>Literal</td><td></td><td><a class=\"ProveItLink\" href=\"../../../../negation/__pv_it/common/221b3c4d1770ee9051b7c044c3f9ec61196fc34b0/expr.ipynb\"><img src=\"../../../../negation/__pv_it/common/221b3c4d1770ee9051b7c044c3f9ec61196fc34b0/expr.png\" style=\"display:inline;vertical-align:middle;\" /></a></td></tr>\n",
       "<tr><td>16</td><td>ExprTuple</td><td>19</td><td><a class=\"ProveItLink\" href=\"../56953b0728fa2850398ae7a13d530612ae194a390/expr.ipynb\"><img src=\"../56953b0728fa2850398ae7a13d530612ae194a390/expr.png\" style=\"display:inline;vertical-align:middle;\" /></a></td></tr>\n",
       "<tr><td>17</td><td>Literal</td><td></td><td><a class=\"ProveItLink\" href=\"../../../../division/__pv_it/common/a2a633e1e3c749fb1f2692466b287b6348c5de840/expr.ipynb\"><img src=\"../../../../division/__pv_it/common/a2a633e1e3c749fb1f2692466b287b6348c5de840/expr.png\" style=\"display:inline;vertical-align:middle;\" /></a></td></tr>\n",
       "<tr><td>18</td><td>ExprTuple</td><td>19, 20</td><td><a class=\"ProveItLink\" href=\"../../../../numerals/decimals/__pv_it/theorems/507125bf20ae8af40b63f375b7417e5dd7fd6bd00/expr.ipynb\"><img src=\"../../../../numerals/decimals/__pv_it/theorems/507125bf20ae8af40b63f375b7417e5dd7fd6bd00/expr.png\" style=\"display:inline;vertical-align:middle;\" /></a></td></tr>\n",
       "<tr><td>19</td><td>Literal</td><td></td><td><a class=\"ProveItLink\" href=\"../../../../numerals/__pv_it/common/af4aab8a07465db063742696e006d04670f30cf10/expr.ipynb\"><img src=\"../../../../numerals/__pv_it/common/af4aab8a07465db063742696e006d04670f30cf10/expr.png\" style=\"display:inline;vertical-align:middle;\" /></a></td></tr>\n",
       "<tr><td>20</td><td>Literal</td><td></td><td><a class=\"ProveItLink\" href=\"../../../../numerals/__pv_it/common/1943b60945420e340d305780feff5c1aff2740ff0/expr.ipynb\"><img src=\"../../../../numerals/__pv_it/common/1943b60945420e340d305780feff5c1aff2740ff0/expr.png\" style=\"display:inline;vertical-align:middle;\" /></a></td></tr>\n",
       "</table>\n"
      ],
      "text/plain": [
       "0. (((-2) / 3) * (5 / 3), (-(2 / 3)) * (5 / 3))\n",
       "   core type: ExprTuple\n",
       "   sub-expressions: 1, 2\n",
       "1. ((-2) / 3) * (5 / 3)\n",
       "   core type: Operation\n",
       "   operator: 4\n",
       "   operands: 3\n",
       "2. (-(2 / 3)) * (5 / 3)\n",
       "   core type: Operation\n",
       "   operator: 4\n",
       "   operands: 5\n",
       "3. ((-2) / 3, 5 / 3)\n",
       "   core type: ExprTuple\n",
       "   sub-expressions: 6, 8\n",
       "4. *\n",
       "   core type: Literal\n",
       "   sub-expressions: \n",
       "5. (-(2 / 3), 5 / 3)\n",
       "   core type: ExprTuple\n",
       "   sub-expressions: 7, 8\n",
       "6. (-2) / 3\n",
       "   core type: Operation\n",
       "   operator: 17\n",
       "   operands: 9\n",
       "7. -(2 / 3)\n",
       "   core type: Operation\n",
       "   operator: 15\n",
       "   operand: 13\n",
       "8. 5 / 3\n",
       "   core type: Operation\n",
       "   operator: 17\n",
       "   operands: 11\n",
       "9. (-2, 3)\n",
       "   core type: ExprTuple\n",
       "   sub-expressions: 12, 20\n",
       "10. (2 / 3)\n",
       "    core type: ExprTuple\n",
       "    sub-expressions: 13\n",
       "11. (5, 3)\n",
       "    core type: ExprTuple\n",
       "    sub-expressions: 14, 20\n",
       "12. -2\n",
       "    core type: Operation\n",
       "    operator: 15\n",
       "    operand: 19\n",
       "13. 2 / 3\n",
       "    core type: Operation\n",
       "    operator: 17\n",
       "    operands: 18\n",
       "14. 5\n",
       "    core type: Literal\n",
       "    sub-expressions: \n",
       "15. -\n",
       "    core type: Literal\n",
       "    sub-expressions: \n",
       "16. (2)\n",
       "    core type: ExprTuple\n",
       "    sub-expressions: 19\n",
       "17. /\n",
       "    core type: Literal\n",
       "    sub-expressions: \n",
       "18. (2, 3)\n",
       "    core type: ExprTuple\n",
       "    sub-expressions: 19, 20\n",
       "19. 2\n",
       "    core type: Literal\n",
       "    sub-expressions: \n",
       "20. 3\n",
       "    core type: Literal\n",
       "    sub-expressions: "
      ]
     },
     "metadata": {},
     "output_type": "display_data"
    }
   ],
   "source": [
    "# display the expression information\n",
    "stored_expr.expr_info()"
   ]
  },
  {
   "cell_type": "code",
   "execution_count": null,
   "metadata": {},
   "outputs": [],
   "source": []
  }
 ],
 "metadata": {
  "kernelspec": {
   "display_name": "Python 3",
   "language": "python",
   "name": "python3"
  }
 },
 "nbformat": 4,
 "nbformat_minor": 0
}