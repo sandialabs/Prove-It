{
 "cells": [
  {
   "cell_type": "markdown",
   "metadata": {},
   "source": [
    "Expression of type <a class=\"ProveItLink\" href=\"../../../../../../../doc/html/api/proveit.ExprTuple.html\">ExprTuple</a>\n",
    "=======================\n",
    "# from the theory of <a class=\"ProveItLink\" href=\"../../../_theory_nbs_/theory.ipynb\">proveit.numbers.multiplication</a>"
   ]
  },
  {
   "cell_type": "code",
   "execution_count": 1,
   "metadata": {},
   "outputs": [],
   "source": [
    "import proveit\n",
    "# Automation is not needed when building an expression:\n",
    "proveit.defaults.automation = False # This will speed things up.\n",
    "proveit.defaults.inline_pngs = False # Makes files smaller.\n",
    "%load_expr # Load the stored expression as 'stored_expr'\n",
    "# import Expression classes needed to build the expression\n",
    "from proveit import ExprTuple, a, b, k, theta\n",
    "from proveit.numbers import Add, Exp, Mult, e, i, pi, two"
   ]
  },
  {
   "cell_type": "code",
   "execution_count": 2,
   "metadata": {},
   "outputs": [
    {
     "data": {
      "text/html": [
       "<strong id=\"expr\">expr:</strong> <a class=\"ProveItLink\" href=\"expr.ipynb\"><img src=\"expr.png\" style=\"display:inline;vertical-align:middle;\" /></a><br>"
      ],
      "text/plain": [
       "<IPython.core.display.HTML object>"
      ]
     },
     "metadata": {},
     "output_type": "display_data"
    }
   ],
   "source": [
    "# build up the expression from sub-expressions\n",
    "sub_expr1 = Exp(a, k)\n",
    "sub_expr2 = Exp(e, Mult(two, pi, i, theta, k))\n",
    "sub_expr3 = Exp(Add(a, b), k)\n",
    "sub_expr4 = Exp(e, Mult(two, pi, i, b))\n",
    "expr = ExprTuple(Mult(sub_expr1, sub_expr2, sub_expr3, sub_expr4), Mult(sub_expr1, Mult(sub_expr2, sub_expr3), sub_expr4))"
   ]
  },
  {
   "cell_type": "code",
   "execution_count": 3,
   "metadata": {},
   "outputs": [
    {
     "name": "stdout",
     "output_type": "stream",
     "text": [
      "Passed sanity check: expr matches stored_expr\n"
     ]
    }
   ],
   "source": [
    "# check that the built expression is the same as the stored expression\n",
    "assert expr == stored_expr\n",
    "assert expr._style_id == stored_expr._style_id\n",
    "print(\"Passed sanity check: expr matches stored_expr\")"
   ]
  },
  {
   "cell_type": "code",
   "execution_count": 4,
   "metadata": {},
   "outputs": [
    {
     "name": "stdout",
     "output_type": "stream",
     "text": [
      "\\left(a^{k} \\cdot \\mathsf{e}^{2 \\cdot \\pi \\cdot \\mathsf{i} \\cdot \\theta \\cdot k} \\cdot \\left(a + b\\right)^{k} \\cdot \\mathsf{e}^{2 \\cdot \\pi \\cdot \\mathsf{i} \\cdot b}, a^{k} \\cdot \\left(\\mathsf{e}^{2 \\cdot \\pi \\cdot \\mathsf{i} \\cdot \\theta \\cdot k} \\cdot \\left(a + b\\right)^{k}\\right) \\cdot \\mathsf{e}^{2 \\cdot \\pi \\cdot \\mathsf{i} \\cdot b}\\right)\n"
     ]
    }
   ],
   "source": [
    "# Show the LaTeX representation of the expression for convenience if you need it.\n",
    "print(stored_expr.latex())"
   ]
  },
  {
   "cell_type": "code",
   "execution_count": 5,
   "metadata": {},
   "outputs": [
    {
     "data": {
      "text/html": [
       "<table>\n",
       "<tr><th>name</th><th>description</th><th>default</th><th>current value</th><th>related methods</th></tr><tr><td>wrap_positions</td><td>position(s) at which wrapping is to occur; 'n' is after the nth comma.</td><td>()</td><td>()</td><td>('with_wrapping_at',)</td></tr>\n",
       "<tr><td>justification</td><td>if any wrap positions are set, justify to the 'left', 'center', or 'right'</td><td>left</td><td>left</td><td>('with_justification',)</td></tr>\n",
       "</table>\n"
      ],
      "text/plain": [
       "style name: wrap_positions\n",
       "description: position(s) at which wrapping is to occur; 'n' is after the nth comma.\n",
       "default: ()\n",
       "current value: ()\n",
       "related methods: ('with_wrapping_at',)\n",
       "style name: justification\n",
       "description: if any wrap positions are set, justify to the 'left', 'center', or 'right'\n",
       "default: left\n",
       "current value: left\n",
       "related methods: ('with_justification',)"
      ]
     },
     "metadata": {},
     "output_type": "display_data"
    }
   ],
   "source": [
    "stored_expr.style_options()"
   ]
  },
  {
   "cell_type": "code",
   "execution_count": 6,
   "metadata": {},
   "outputs": [
    {
     "data": {
      "text/html": [
       "<table><tr><th>&nbsp;</th><th>core type</th><th>sub-expressions</th><th>expression</th></tr>\n",
       "<tr><td>0</td><td>ExprTuple</td><td>1, 2</td><td><a class=\"ProveItLink\" href=\"expr.ipynb\"><img src=\"expr.png\" style=\"display:inline;vertical-align:middle;\" /></a></td></tr>\n",
       "<tr><td>1</td><td>Operation</td><td>operator:&nbsp;21<br>operands:&nbsp;3<br></td><td><a class=\"ProveItLink\" href=\"../d07cb630f47575427ea1195c67b9ebc65bf5f23c0/expr.ipynb\"><img src=\"../d07cb630f47575427ea1195c67b9ebc65bf5f23c0/expr.png\" style=\"display:inline;vertical-align:middle;\" /></a></td></tr>\n",
       "<tr><td>2</td><td>Operation</td><td>operator:&nbsp;21<br>operands:&nbsp;4<br></td><td><a class=\"ProveItLink\" href=\"../ab46b0c2540719314af9b64b40e752eb94a6de430/expr.ipynb\"><img src=\"../ab46b0c2540719314af9b64b40e752eb94a6de430/expr.png\" style=\"display:inline;vertical-align:middle;\" /></a></td></tr>\n",
       "<tr><td>3</td><td>ExprTuple</td><td>5, 11, 12, 7</td><td><a class=\"ProveItLink\" href=\"../8f08e9cde0fc89a9c50eb94b60babfac7dd6fa9c0/expr.ipynb\"><img src=\"../8f08e9cde0fc89a9c50eb94b60babfac7dd6fa9c0/expr.png\" style=\"display:inline;vertical-align:middle;\" /></a></td></tr>\n",
       "<tr><td>4</td><td>ExprTuple</td><td>5, 6, 7</td><td><a class=\"ProveItLink\" href=\"../0b9fdd3b991980c9de0f5828213407552b0627c80/expr.ipynb\"><img src=\"../0b9fdd3b991980c9de0f5828213407552b0627c80/expr.png\" style=\"display:inline;vertical-align:middle;\" /></a></td></tr>\n",
       "<tr><td>5</td><td>Operation</td><td>operator:&nbsp;15<br>operands:&nbsp;8<br></td><td><a class=\"ProveItLink\" href=\"../8ffeb9c3123bbaf31f60cafe6f71317a4fb57db60/expr.ipynb\"><img src=\"../8ffeb9c3123bbaf31f60cafe6f71317a4fb57db60/expr.png\" style=\"display:inline;vertical-align:middle;\" /></a></td></tr>\n",
       "<tr><td>6</td><td>Operation</td><td>operator:&nbsp;21<br>operands:&nbsp;9<br></td><td><a class=\"ProveItLink\" href=\"../76ec61f3c36bea44e0a432561e85a55ce93a93650/expr.ipynb\"><img src=\"../76ec61f3c36bea44e0a432561e85a55ce93a93650/expr.png\" style=\"display:inline;vertical-align:middle;\" /></a></td></tr>\n",
       "<tr><td>7</td><td>Operation</td><td>operator:&nbsp;15<br>operands:&nbsp;10<br></td><td><a class=\"ProveItLink\" href=\"../0fdff9b547809d18f56f573a4c88165967063ea50/expr.ipynb\"><img src=\"../0fdff9b547809d18f56f573a4c88165967063ea50/expr.png\" style=\"display:inline;vertical-align:middle;\" /></a></td></tr>\n",
       "<tr><td>8</td><td>ExprTuple</td><td>30, 29</td><td><a class=\"ProveItLink\" href=\"../26414ded4dee6382ad17ad8abea3809f59a396120/expr.ipynb\"><img src=\"../26414ded4dee6382ad17ad8abea3809f59a396120/expr.png\" style=\"display:inline;vertical-align:middle;\" /></a></td></tr>\n",
       "<tr><td>9</td><td>ExprTuple</td><td>11, 12</td><td><a class=\"ProveItLink\" href=\"../0a060e69c82e6bf72ef75c6f9eaea3bfe0f825c30/expr.ipynb\"><img src=\"../0a060e69c82e6bf72ef75c6f9eaea3bfe0f825c30/expr.png\" style=\"display:inline;vertical-align:middle;\" /></a></td></tr>\n",
       "<tr><td>10</td><td>ExprTuple</td><td>18, 13</td><td><a class=\"ProveItLink\" href=\"../12fb03a3563909d9d0cd85d28d9eb229c448ca550/expr.ipynb\"><img src=\"../12fb03a3563909d9d0cd85d28d9eb229c448ca550/expr.png\" style=\"display:inline;vertical-align:middle;\" /></a></td></tr>\n",
       "<tr><td>11</td><td>Operation</td><td>operator:&nbsp;15<br>operands:&nbsp;14<br></td><td><a class=\"ProveItLink\" href=\"../c5389691cd629b05787315059a2db7fd31dae4c80/expr.ipynb\"><img src=\"../c5389691cd629b05787315059a2db7fd31dae4c80/expr.png\" style=\"display:inline;vertical-align:middle;\" /></a></td></tr>\n",
       "<tr><td>12</td><td>Operation</td><td>operator:&nbsp;15<br>operands:&nbsp;16<br></td><td><a class=\"ProveItLink\" href=\"../02bec857ba3608ed7f4412c0883d25c8f02c95c10/expr.ipynb\"><img src=\"../02bec857ba3608ed7f4412c0883d25c8f02c95c10/expr.png\" style=\"display:inline;vertical-align:middle;\" /></a></td></tr>\n",
       "<tr><td>13</td><td>Operation</td><td>operator:&nbsp;21<br>operands:&nbsp;17<br></td><td><a class=\"ProveItLink\" href=\"../f377209c9fbad7f2ed1ef8fd03465c9b0083a7b20/expr.ipynb\"><img src=\"../f377209c9fbad7f2ed1ef8fd03465c9b0083a7b20/expr.png\" style=\"display:inline;vertical-align:middle;\" /></a></td></tr>\n",
       "<tr><td>14</td><td>ExprTuple</td><td>18, 19</td><td><a class=\"ProveItLink\" href=\"../30602344a0ae65fea19948656008a4b4cf8b9d6b0/expr.ipynb\"><img src=\"../30602344a0ae65fea19948656008a4b4cf8b9d6b0/expr.png\" style=\"display:inline;vertical-align:middle;\" /></a></td></tr>\n",
       "<tr><td>15</td><td>Literal</td><td></td><td><a class=\"ProveItLink\" href=\"../../../../exponentiation/__pv_it/common/0ac37aca1e54c35c5cda09672df32d4f69f1f3020/expr.ipynb\"><img src=\"../../../../exponentiation/__pv_it/common/0ac37aca1e54c35c5cda09672df32d4f69f1f3020/expr.png\" style=\"display:inline;vertical-align:middle;\" /></a></td></tr>\n",
       "<tr><td>16</td><td>ExprTuple</td><td>20, 29</td><td><a class=\"ProveItLink\" href=\"../f6ab10b958faa658c0e8653533e05b3fa9d86e990/expr.ipynb\"><img src=\"../f6ab10b958faa658c0e8653533e05b3fa9d86e990/expr.png\" style=\"display:inline;vertical-align:middle;\" /></a></td></tr>\n",
       "<tr><td>17</td><td>ExprTuple</td><td>25, 26, 27, 31</td><td><a class=\"ProveItLink\" href=\"../0f0c33400d9a47a1c2dbe1478d459264354dd7160/expr.ipynb\"><img src=\"../0f0c33400d9a47a1c2dbe1478d459264354dd7160/expr.png\" style=\"display:inline;vertical-align:middle;\" /></a></td></tr>\n",
       "<tr><td>18</td><td>Literal</td><td></td><td><a class=\"ProveItLink\" href=\"../../../../number_sets/real_numbers/__pv_it/common/e531ffa54fd897084533764a4a14f19f590674f80/expr.ipynb\"><img src=\"../../../../number_sets/real_numbers/__pv_it/common/e531ffa54fd897084533764a4a14f19f590674f80/expr.png\" style=\"display:inline;vertical-align:middle;\" /></a></td></tr>\n",
       "<tr><td>19</td><td>Operation</td><td>operator:&nbsp;21<br>operands:&nbsp;22<br></td><td><a class=\"ProveItLink\" href=\"../65633d5ce7c58900f42b37df032c62ce91395f0f0/expr.ipynb\"><img src=\"../65633d5ce7c58900f42b37df032c62ce91395f0f0/expr.png\" style=\"display:inline;vertical-align:middle;\" /></a></td></tr>\n",
       "<tr><td>20</td><td>Operation</td><td>operator:&nbsp;23<br>operands:&nbsp;24<br></td><td><a class=\"ProveItLink\" href=\"../../../../addition/__pv_it/theorems/89a168a13153c99bc04f669d338e1591180cde600/expr.ipynb\"><img src=\"../../../../addition/__pv_it/theorems/89a168a13153c99bc04f669d338e1591180cde600/expr.png\" style=\"display:inline;vertical-align:middle;\" /></a></td></tr>\n",
       "<tr><td>21</td><td>Literal</td><td></td><td><a class=\"ProveItLink\" href=\"../../common/ed719cef37831779c16481533a4d380a2f95ab270/expr.ipynb\"><img src=\"../../common/ed719cef37831779c16481533a4d380a2f95ab270/expr.png\" style=\"display:inline;vertical-align:middle;\" /></a></td></tr>\n",
       "<tr><td>22</td><td>ExprTuple</td><td>25, 26, 27, 28, 29</td><td><a class=\"ProveItLink\" href=\"../ae64e2a7ad01cda78499715e59eefb85ae10ca690/expr.ipynb\"><img src=\"../ae64e2a7ad01cda78499715e59eefb85ae10ca690/expr.png\" style=\"display:inline;vertical-align:middle;\" /></a></td></tr>\n",
       "<tr><td>23</td><td>Literal</td><td></td><td><a class=\"ProveItLink\" href=\"../../../../addition/__pv_it/common/4b7effaab3619a1c2c38fe2dee8601df8ec714590/expr.ipynb\"><img src=\"../../../../addition/__pv_it/common/4b7effaab3619a1c2c38fe2dee8601df8ec714590/expr.png\" style=\"display:inline;vertical-align:middle;\" /></a></td></tr>\n",
       "<tr><td>24</td><td>ExprTuple</td><td>30, 31</td><td><a class=\"ProveItLink\" href=\"../../../../addition/__pv_it/theorems/3dcd5ceea6334d8cb48fe14fdae236293aa9a6050/expr.ipynb\"><img src=\"../../../../addition/__pv_it/theorems/3dcd5ceea6334d8cb48fe14fdae236293aa9a6050/expr.png\" style=\"display:inline;vertical-align:middle;\" /></a></td></tr>\n",
       "<tr><td>25</td><td>Literal</td><td></td><td><a class=\"ProveItLink\" href=\"../../../../numerals/__pv_it/common/af4aab8a07465db063742696e006d04670f30cf10/expr.ipynb\"><img src=\"../../../../numerals/__pv_it/common/af4aab8a07465db063742696e006d04670f30cf10/expr.png\" style=\"display:inline;vertical-align:middle;\" /></a></td></tr>\n",
       "<tr><td>26</td><td>Literal</td><td></td><td><a class=\"ProveItLink\" href=\"../../../../number_sets/real_numbers/__pv_it/common/246c206266ac5b48800e508d580f91767b24c2df0/expr.ipynb\"><img src=\"../../../../number_sets/real_numbers/__pv_it/common/246c206266ac5b48800e508d580f91767b24c2df0/expr.png\" style=\"display:inline;vertical-align:middle;\" /></a></td></tr>\n",
       "<tr><td>27</td><td>Literal</td><td></td><td><a class=\"ProveItLink\" href=\"../../../../number_sets/complex_numbers/__pv_it/common/6c9cc69d472f352324c298b2318df233e9a7e0250/expr.ipynb\"><img src=\"../../../../number_sets/complex_numbers/__pv_it/common/6c9cc69d472f352324c298b2318df233e9a7e0250/expr.png\" style=\"display:inline;vertical-align:middle;\" /></a></td></tr>\n",
       "<tr><td>28</td><td>Variable</td><td></td><td><a class=\"ProveItLink\" href=\"../../../../../__pv_it/common/b011a4fec64a1c824cf176959ebc716edbf098a10/expr.ipynb\"><img src=\"../../../../../__pv_it/common/b011a4fec64a1c824cf176959ebc716edbf098a10/expr.png\" style=\"display:inline;vertical-align:middle;\" /></a></td></tr>\n",
       "<tr><td>29</td><td>Variable</td><td></td><td><a class=\"ProveItLink\" href=\"../../../../../__pv_it/common/63b7c64bf9ec7a04ecc396c7a1670f3f12fb59490/expr.ipynb\"><img src=\"../../../../../__pv_it/common/63b7c64bf9ec7a04ecc396c7a1670f3f12fb59490/expr.png\" style=\"display:inline;vertical-align:middle;\" /></a></td></tr>\n",
       "<tr><td>30</td><td>Variable</td><td></td><td><a class=\"ProveItLink\" href=\"../../../../../__pv_it/common/c06c606ec12678c58933ac85412ecadc2ae28be60/expr.ipynb\"><img src=\"../../../../../__pv_it/common/c06c606ec12678c58933ac85412ecadc2ae28be60/expr.png\" style=\"display:inline;vertical-align:middle;\" /></a></td></tr>\n",
       "<tr><td>31</td><td>Variable</td><td></td><td><a class=\"ProveItLink\" href=\"../../../../../__pv_it/common/195236b98c6c564a75b5dbada74b173bc52d5c3e0/expr.ipynb\"><img src=\"../../../../../__pv_it/common/195236b98c6c564a75b5dbada74b173bc52d5c3e0/expr.png\" style=\"display:inline;vertical-align:middle;\" /></a></td></tr>\n",
       "</table>\n"
      ],
      "text/plain": [
       "0. (a^{k} * e^{2 * pi * i * theta * k} * (a + b)^{k} * e^{2 * pi * i * b}, a^{k} * (e^{2 * pi * i * theta * k} * (a + b)^{k}) * e^{2 * pi * i * b})\n",
       "   core type: ExprTuple\n",
       "   sub-expressions: 1, 2\n",
       "1. a^{k} * e^{2 * pi * i * theta * k} * (a + b)^{k} * e^{2 * pi * i * b}\n",
       "   core type: Operation\n",
       "   operator: 21\n",
       "   operands: 3\n",
       "2. a^{k} * (e^{2 * pi * i * theta * k} * (a + b)^{k}) * e^{2 * pi * i * b}\n",
       "   core type: Operation\n",
       "   operator: 21\n",
       "   operands: 4\n",
       "3. (a^{k}, e^{2 * pi * i * theta * k}, (a + b)^{k}, e^{2 * pi * i * b})\n",
       "   core type: ExprTuple\n",
       "   sub-expressions: 5, 11, 12, 7\n",
       "4. (a^{k}, e^{2 * pi * i * theta * k} * (a + b)^{k}, e^{2 * pi * i * b})\n",
       "   core type: ExprTuple\n",
       "   sub-expressions: 5, 6, 7\n",
       "5. a^{k}\n",
       "   core type: Operation\n",
       "   operator: 15\n",
       "   operands: 8\n",
       "6. e^{2 * pi * i * theta * k} * (a + b)^{k}\n",
       "   core type: Operation\n",
       "   operator: 21\n",
       "   operands: 9\n",
       "7. e^{2 * pi * i * b}\n",
       "   core type: Operation\n",
       "   operator: 15\n",
       "   operands: 10\n",
       "8. (a, k)\n",
       "   core type: ExprTuple\n",
       "   sub-expressions: 30, 29\n",
       "9. (e^{2 * pi * i * theta * k}, (a + b)^{k})\n",
       "   core type: ExprTuple\n",
       "   sub-expressions: 11, 12\n",
       "10. (e, 2 * pi * i * b)\n",
       "    core type: ExprTuple\n",
       "    sub-expressions: 18, 13\n",
       "11. e^{2 * pi * i * theta * k}\n",
       "    core type: Operation\n",
       "    operator: 15\n",
       "    operands: 14\n",
       "12. (a + b)^{k}\n",
       "    core type: Operation\n",
       "    operator: 15\n",
       "    operands: 16\n",
       "13. 2 * pi * i * b\n",
       "    core type: Operation\n",
       "    operator: 21\n",
       "    operands: 17\n",
       "14. (e, 2 * pi * i * theta * k)\n",
       "    core type: ExprTuple\n",
       "    sub-expressions: 18, 19\n",
       "15. Exp\n",
       "    core type: Literal\n",
       "    sub-expressions: \n",
       "16. (a + b, k)\n",
       "    core type: ExprTuple\n",
       "    sub-expressions: 20, 29\n",
       "17. (2, pi, i, b)\n",
       "    core type: ExprTuple\n",
       "    sub-expressions: 25, 26, 27, 31\n",
       "18. e\n",
       "    core type: Literal\n",
       "    sub-expressions: \n",
       "19. 2 * pi * i * theta * k\n",
       "    core type: Operation\n",
       "    operator: 21\n",
       "    operands: 22\n",
       "20. a + b\n",
       "    core type: Operation\n",
       "    operator: 23\n",
       "    operands: 24\n",
       "21. *\n",
       "    core type: Literal\n",
       "    sub-expressions: \n",
       "22. (2, pi, i, theta, k)\n",
       "    core type: ExprTuple\n",
       "    sub-expressions: 25, 26, 27, 28, 29\n",
       "23. +\n",
       "    core type: Literal\n",
       "    sub-expressions: \n",
       "24. (a, b)\n",
       "    core type: ExprTuple\n",
       "    sub-expressions: 30, 31\n",
       "25. 2\n",
       "    core type: Literal\n",
       "    sub-expressions: \n",
       "26. pi\n",
       "    core type: Literal\n",
       "    sub-expressions: \n",
       "27. i\n",
       "    core type: Literal\n",
       "    sub-expressions: \n",
       "28. theta\n",
       "    core type: Variable\n",
       "    sub-expressions: \n",
       "29. k\n",
       "    core type: Variable\n",
       "    sub-expressions: \n",
       "30. a\n",
       "    core type: Variable\n",
       "    sub-expressions: \n",
       "31. b\n",
       "    core type: Variable\n",
       "    sub-expressions: "
      ]
     },
     "metadata": {},
     "output_type": "display_data"
    }
   ],
   "source": [
    "# display the expression information\n",
    "stored_expr.expr_info()"
   ]
  },
  {
   "cell_type": "code",
   "execution_count": null,
   "metadata": {},
   "outputs": [],
   "source": []
  }
 ],
 "metadata": {
  "kernelspec": {
   "display_name": "Python 3",
   "language": "python",
   "name": "python3"
  }
 },
 "nbformat": 4,
 "nbformat_minor": 0
}