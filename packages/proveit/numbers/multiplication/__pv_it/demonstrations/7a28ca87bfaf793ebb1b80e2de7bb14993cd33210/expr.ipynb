{
 "cells": [
  {
   "cell_type": "markdown",
   "metadata": {},
   "source": [
    "Expression of type <a class=\"ProveItLink\" href=\"../../../../../../../doc/html/api/proveit.ExprTuple.html\">ExprTuple</a>\n",
    "=======================\n",
    "# from the theory of <a class=\"ProveItLink\" href=\"../../../_theory_nbs_/theory.ipynb\">proveit.numbers.multiplication</a>"
   ]
  },
  {
   "cell_type": "code",
   "execution_count": 1,
   "metadata": {},
   "outputs": [],
   "source": [
    "import proveit\n",
    "# Automation is not needed when building an expression:\n",
    "proveit.defaults.automation = False # This will speed things up.\n",
    "proveit.defaults.inline_pngs = False # Makes files smaller.\n",
    "%load_expr # Load the stored expression as 'stored_expr'\n",
    "# import Expression classes needed to build the expression\n",
    "from proveit import ExprTuple, n\n",
    "from proveit.numbers import Add, Exp, Mult, five, four, frac, one, three, two"
   ]
  },
  {
   "cell_type": "code",
   "execution_count": 2,
   "metadata": {},
   "outputs": [
    {
     "data": {
      "text/html": [
       "<strong id=\"expr\">expr:</strong> <a class=\"ProveItLink\" href=\"expr.ipynb\"><img src=\"expr.png\" style=\"display:inline;vertical-align:middle;\" /></a><br>"
      ],
      "text/plain": [
       "<IPython.core.display.HTML object>"
      ]
     },
     "metadata": {},
     "output_type": "display_data"
    }
   ],
   "source": [
    "# build up the expression from sub-expressions\n",
    "sub_expr1 = frac(one, five)\n",
    "expr = ExprTuple(Mult(four, Exp(three, n), Exp(four, n), two, three, sub_expr1), Mult(Exp(four, Add(one, n)), Exp(three, Add(n, one)), two, sub_expr1))"
   ]
  },
  {
   "cell_type": "code",
   "execution_count": 3,
   "metadata": {},
   "outputs": [
    {
     "name": "stdout",
     "output_type": "stream",
     "text": [
      "Passed sanity check: expr matches stored_expr\n"
     ]
    }
   ],
   "source": [
    "# check that the built expression is the same as the stored expression\n",
    "assert expr == stored_expr\n",
    "assert expr._style_id == stored_expr._style_id\n",
    "print(\"Passed sanity check: expr matches stored_expr\")"
   ]
  },
  {
   "cell_type": "code",
   "execution_count": 4,
   "metadata": {},
   "outputs": [
    {
     "name": "stdout",
     "output_type": "stream",
     "text": [
      "\\left(4 \\cdot 3^{n} \\cdot 4^{n} \\cdot 2 \\cdot 3 \\cdot \\frac{1}{5}, 4^{1 + n} \\cdot 3^{n + 1} \\cdot 2 \\cdot \\frac{1}{5}\\right)\n"
     ]
    }
   ],
   "source": [
    "# Show the LaTeX representation of the expression for convenience if you need it.\n",
    "print(stored_expr.latex())"
   ]
  },
  {
   "cell_type": "code",
   "execution_count": 5,
   "metadata": {},
   "outputs": [
    {
     "data": {
      "text/html": [
       "<table>\n",
       "<tr><th>name</th><th>description</th><th>default</th><th>current value</th><th>related methods</th></tr><tr><td>wrap_positions</td><td>position(s) at which wrapping is to occur; 'n' is after the nth comma.</td><td>()</td><td>()</td><td>('with_wrapping_at',)</td></tr>\n",
       "<tr><td>justification</td><td>if any wrap positions are set, justify to the 'left', 'center', or 'right'</td><td>left</td><td>left</td><td>('with_justification',)</td></tr>\n",
       "</table>\n"
      ],
      "text/plain": [
       "style name: wrap_positions\n",
       "description: position(s) at which wrapping is to occur; 'n' is after the nth comma.\n",
       "default: ()\n",
       "current value: ()\n",
       "related methods: ('with_wrapping_at',)\n",
       "style name: justification\n",
       "description: if any wrap positions are set, justify to the 'left', 'center', or 'right'\n",
       "default: left\n",
       "current value: left\n",
       "related methods: ('with_justification',)"
      ]
     },
     "metadata": {},
     "output_type": "display_data"
    }
   ],
   "source": [
    "stored_expr.style_options()"
   ]
  },
  {
   "cell_type": "code",
   "execution_count": 6,
   "metadata": {},
   "outputs": [
    {
     "data": {
      "text/html": [
       "<table><tr><th>&nbsp;</th><th>core type</th><th>sub-expressions</th><th>expression</th></tr>\n",
       "<tr><td>0</td><td>ExprTuple</td><td>1, 2</td><td><a class=\"ProveItLink\" href=\"expr.ipynb\"><img src=\"expr.png\" style=\"display:inline;vertical-align:middle;\" /></a></td></tr>\n",
       "<tr><td>1</td><td>Operation</td><td>operator:&nbsp;4<br>operands:&nbsp;3<br></td><td><a class=\"ProveItLink\" href=\"../4ffd70d2a98ba12abc33e07d1c482d1790c8812f0/expr.ipynb\"><img src=\"../4ffd70d2a98ba12abc33e07d1c482d1790c8812f0/expr.png\" style=\"display:inline;vertical-align:middle;\" /></a></td></tr>\n",
       "<tr><td>2</td><td>Operation</td><td>operator:&nbsp;4<br>operands:&nbsp;5<br></td><td><a class=\"ProveItLink\" href=\"../f2f114b9d83d4194cd48b34042cb10e89f2bf0850/expr.ipynb\"><img src=\"../f2f114b9d83d4194cd48b34042cb10e89f2bf0850/expr.png\" style=\"display:inline;vertical-align:middle;\" /></a></td></tr>\n",
       "<tr><td>3</td><td>ExprTuple</td><td>19, 6, 7, 10, 21, 11</td><td><a class=\"ProveItLink\" href=\"../f20156d9baed283090bcd28e90ae3fd5e631e2ec0/expr.ipynb\"><img src=\"../f20156d9baed283090bcd28e90ae3fd5e631e2ec0/expr.png\" style=\"display:inline;vertical-align:middle;\" /></a></td></tr>\n",
       "<tr><td>4</td><td>Literal</td><td></td><td><a class=\"ProveItLink\" href=\"../../common/ed719cef37831779c16481533a4d380a2f95ab270/expr.ipynb\"><img src=\"../../common/ed719cef37831779c16481533a4d380a2f95ab270/expr.png\" style=\"display:inline;vertical-align:middle;\" /></a></td></tr>\n",
       "<tr><td>5</td><td>ExprTuple</td><td>8, 9, 10, 11</td><td><a class=\"ProveItLink\" href=\"../fb769786d2ff086ffa8575b547c93d6695ef69a10/expr.ipynb\"><img src=\"../fb769786d2ff086ffa8575b547c93d6695ef69a10/expr.png\" style=\"display:inline;vertical-align:middle;\" /></a></td></tr>\n",
       "<tr><td>6</td><td>Operation</td><td>operator:&nbsp;15<br>operands:&nbsp;12<br></td><td><a class=\"ProveItLink\" href=\"../a87ac4e860797e5761f6a8ad5eb838a95625186c0/expr.ipynb\"><img src=\"../a87ac4e860797e5761f6a8ad5eb838a95625186c0/expr.png\" style=\"display:inline;vertical-align:middle;\" /></a></td></tr>\n",
       "<tr><td>7</td><td>Operation</td><td>operator:&nbsp;15<br>operands:&nbsp;13<br></td><td><a class=\"ProveItLink\" href=\"../2d01bec738ce93157d81c114dcfcee8690cff2ea0/expr.ipynb\"><img src=\"../2d01bec738ce93157d81c114dcfcee8690cff2ea0/expr.png\" style=\"display:inline;vertical-align:middle;\" /></a></td></tr>\n",
       "<tr><td>8</td><td>Operation</td><td>operator:&nbsp;15<br>operands:&nbsp;14<br></td><td><a class=\"ProveItLink\" href=\"../d9e54413ee4ffb8cc860efd66b61a6d231a661f40/expr.ipynb\"><img src=\"../d9e54413ee4ffb8cc860efd66b61a6d231a661f40/expr.png\" style=\"display:inline;vertical-align:middle;\" /></a></td></tr>\n",
       "<tr><td>9</td><td>Operation</td><td>operator:&nbsp;15<br>operands:&nbsp;16<br></td><td><a class=\"ProveItLink\" href=\"../8a26fcba16d1a82c47ab338202fa991cf7c9f2840/expr.ipynb\"><img src=\"../8a26fcba16d1a82c47ab338202fa991cf7c9f2840/expr.png\" style=\"display:inline;vertical-align:middle;\" /></a></td></tr>\n",
       "<tr><td>10</td><td>Literal</td><td></td><td><a class=\"ProveItLink\" href=\"../../../../numerals/__pv_it/common/af4aab8a07465db063742696e006d04670f30cf10/expr.ipynb\"><img src=\"../../../../numerals/__pv_it/common/af4aab8a07465db063742696e006d04670f30cf10/expr.png\" style=\"display:inline;vertical-align:middle;\" /></a></td></tr>\n",
       "<tr><td>11</td><td>Operation</td><td>operator:&nbsp;17<br>operands:&nbsp;18<br></td><td><a class=\"ProveItLink\" href=\"../e85639b9ef6349708e828134eeb71b36a89631d90/expr.ipynb\"><img src=\"../e85639b9ef6349708e828134eeb71b36a89631d90/expr.png\" style=\"display:inline;vertical-align:middle;\" /></a></td></tr>\n",
       "<tr><td>12</td><td>ExprTuple</td><td>21, 27</td><td><a class=\"ProveItLink\" href=\"../8ee902bbd21f3b46fd61ba473edc7ce1da42e70c0/expr.ipynb\"><img src=\"../8ee902bbd21f3b46fd61ba473edc7ce1da42e70c0/expr.png\" style=\"display:inline;vertical-align:middle;\" /></a></td></tr>\n",
       "<tr><td>13</td><td>ExprTuple</td><td>19, 27</td><td><a class=\"ProveItLink\" href=\"../3e9083ca25f7786ac9993f17b989f675dcd55ff70/expr.ipynb\"><img src=\"../3e9083ca25f7786ac9993f17b989f675dcd55ff70/expr.png\" style=\"display:inline;vertical-align:middle;\" /></a></td></tr>\n",
       "<tr><td>14</td><td>ExprTuple</td><td>19, 20</td><td><a class=\"ProveItLink\" href=\"../132d65dc712bffba5e38f4520953e9239d02e8c60/expr.ipynb\"><img src=\"../132d65dc712bffba5e38f4520953e9239d02e8c60/expr.png\" style=\"display:inline;vertical-align:middle;\" /></a></td></tr>\n",
       "<tr><td>15</td><td>Literal</td><td></td><td><a class=\"ProveItLink\" href=\"../../../../exponentiation/__pv_it/common/0ac37aca1e54c35c5cda09672df32d4f69f1f3020/expr.ipynb\"><img src=\"../../../../exponentiation/__pv_it/common/0ac37aca1e54c35c5cda09672df32d4f69f1f3020/expr.png\" style=\"display:inline;vertical-align:middle;\" /></a></td></tr>\n",
       "<tr><td>16</td><td>ExprTuple</td><td>21, 22</td><td><a class=\"ProveItLink\" href=\"../25c578fe50c4e7775451815bd1d9cea1e91518940/expr.ipynb\"><img src=\"../25c578fe50c4e7775451815bd1d9cea1e91518940/expr.png\" style=\"display:inline;vertical-align:middle;\" /></a></td></tr>\n",
       "<tr><td>17</td><td>Literal</td><td></td><td><a class=\"ProveItLink\" href=\"../../../../division/__pv_it/common/a2a633e1e3c749fb1f2692466b287b6348c5de840/expr.ipynb\"><img src=\"../../../../division/__pv_it/common/a2a633e1e3c749fb1f2692466b287b6348c5de840/expr.png\" style=\"display:inline;vertical-align:middle;\" /></a></td></tr>\n",
       "<tr><td>18</td><td>ExprTuple</td><td>28, 23</td><td><a class=\"ProveItLink\" href=\"../../../../numerals/decimals/__pv_it/theorems/fe74b2da44e678d08ddb2a49361dab2016e075350/expr.ipynb\"><img src=\"../../../../numerals/decimals/__pv_it/theorems/fe74b2da44e678d08ddb2a49361dab2016e075350/expr.png\" style=\"display:inline;vertical-align:middle;\" /></a></td></tr>\n",
       "<tr><td>19</td><td>Literal</td><td></td><td><a class=\"ProveItLink\" href=\"../../../../numerals/__pv_it/common/48a1d915c1e9490b9a94e5c77a208938d3ee20ce0/expr.ipynb\"><img src=\"../../../../numerals/__pv_it/common/48a1d915c1e9490b9a94e5c77a208938d3ee20ce0/expr.png\" style=\"display:inline;vertical-align:middle;\" /></a></td></tr>\n",
       "<tr><td>20</td><td>Operation</td><td>operator:&nbsp;25<br>operands:&nbsp;24<br></td><td><a class=\"ProveItLink\" href=\"../35c7ffa7e22aadb023aaaab2f534e35845c37e400/expr.ipynb\"><img src=\"../35c7ffa7e22aadb023aaaab2f534e35845c37e400/expr.png\" style=\"display:inline;vertical-align:middle;\" /></a></td></tr>\n",
       "<tr><td>21</td><td>Literal</td><td></td><td><a class=\"ProveItLink\" href=\"../../../../numerals/__pv_it/common/1943b60945420e340d305780feff5c1aff2740ff0/expr.ipynb\"><img src=\"../../../../numerals/__pv_it/common/1943b60945420e340d305780feff5c1aff2740ff0/expr.png\" style=\"display:inline;vertical-align:middle;\" /></a></td></tr>\n",
       "<tr><td>22</td><td>Operation</td><td>operator:&nbsp;25<br>operands:&nbsp;26<br></td><td><a class=\"ProveItLink\" href=\"../da9454a8f6582aff67171697f6638aec8e79b2450/expr.ipynb\"><img src=\"../da9454a8f6582aff67171697f6638aec8e79b2450/expr.png\" style=\"display:inline;vertical-align:middle;\" /></a></td></tr>\n",
       "<tr><td>23</td><td>Literal</td><td></td><td><a class=\"ProveItLink\" href=\"../../../../numerals/__pv_it/common/16e9923976ab933f6783588485130530d25dafab0/expr.ipynb\"><img src=\"../../../../numerals/__pv_it/common/16e9923976ab933f6783588485130530d25dafab0/expr.png\" style=\"display:inline;vertical-align:middle;\" /></a></td></tr>\n",
       "<tr><td>24</td><td>ExprTuple</td><td>28, 27</td><td><a class=\"ProveItLink\" href=\"../../../../number_sets/natural_numbers/__pv_it/theorems/4f7d3c072172c3f447b9b177a80380c4a58dfbaa0/expr.ipynb\"><img src=\"../../../../number_sets/natural_numbers/__pv_it/theorems/4f7d3c072172c3f447b9b177a80380c4a58dfbaa0/expr.png\" style=\"display:inline;vertical-align:middle;\" /></a></td></tr>\n",
       "<tr><td>25</td><td>Literal</td><td></td><td><a class=\"ProveItLink\" href=\"../../../../addition/__pv_it/common/4b7effaab3619a1c2c38fe2dee8601df8ec714590/expr.ipynb\"><img src=\"../../../../addition/__pv_it/common/4b7effaab3619a1c2c38fe2dee8601df8ec714590/expr.png\" style=\"display:inline;vertical-align:middle;\" /></a></td></tr>\n",
       "<tr><td>26</td><td>ExprTuple</td><td>27, 28</td><td><a class=\"ProveItLink\" href=\"../a3b4d93edb08a2579aa592b54f8896fd10b24c2f0/expr.ipynb\"><img src=\"../a3b4d93edb08a2579aa592b54f8896fd10b24c2f0/expr.png\" style=\"display:inline;vertical-align:middle;\" /></a></td></tr>\n",
       "<tr><td>27</td><td>Variable</td><td></td><td><a class=\"ProveItLink\" href=\"../../../../../__pv_it/common/8968bb04eb3f7dfa02353397ce929b025bbd79c20/expr.ipynb\"><img src=\"../../../../../__pv_it/common/8968bb04eb3f7dfa02353397ce929b025bbd79c20/expr.png\" style=\"display:inline;vertical-align:middle;\" /></a></td></tr>\n",
       "<tr><td>28</td><td>Literal</td><td></td><td><a class=\"ProveItLink\" href=\"../../../../numerals/__pv_it/common/682157d4892d216d9e5626ed533aff9b56b9506e0/expr.ipynb\"><img src=\"../../../../numerals/__pv_it/common/682157d4892d216d9e5626ed533aff9b56b9506e0/expr.png\" style=\"display:inline;vertical-align:middle;\" /></a></td></tr>\n",
       "</table>\n"
      ],
      "text/plain": [
       "0. (4 * 3^{n} * 4^{n} * 2 * 3 * (1 / 5), 4^{1 + n} * 3^{n + 1} * 2 * (1 / 5))\n",
       "   core type: ExprTuple\n",
       "   sub-expressions: 1, 2\n",
       "1. 4 * 3^{n} * 4^{n} * 2 * 3 * (1 / 5)\n",
       "   core type: Operation\n",
       "   operator: 4\n",
       "   operands: 3\n",
       "2. 4^{1 + n} * 3^{n + 1} * 2 * (1 / 5)\n",
       "   core type: Operation\n",
       "   operator: 4\n",
       "   operands: 5\n",
       "3. (4, 3^{n}, 4^{n}, 2, 3, 1 / 5)\n",
       "   core type: ExprTuple\n",
       "   sub-expressions: 19, 6, 7, 10, 21, 11\n",
       "4. *\n",
       "   core type: Literal\n",
       "   sub-expressions: \n",
       "5. (4^{1 + n}, 3^{n + 1}, 2, 1 / 5)\n",
       "   core type: ExprTuple\n",
       "   sub-expressions: 8, 9, 10, 11\n",
       "6. 3^{n}\n",
       "   core type: Operation\n",
       "   operator: 15\n",
       "   operands: 12\n",
       "7. 4^{n}\n",
       "   core type: Operation\n",
       "   operator: 15\n",
       "   operands: 13\n",
       "8. 4^{1 + n}\n",
       "   core type: Operation\n",
       "   operator: 15\n",
       "   operands: 14\n",
       "9. 3^{n + 1}\n",
       "   core type: Operation\n",
       "   operator: 15\n",
       "   operands: 16\n",
       "10. 2\n",
       "    core type: Literal\n",
       "    sub-expressions: \n",
       "11. 1 / 5\n",
       "    core type: Operation\n",
       "    operator: 17\n",
       "    operands: 18\n",
       "12. (3, n)\n",
       "    core type: ExprTuple\n",
       "    sub-expressions: 21, 27\n",
       "13. (4, n)\n",
       "    core type: ExprTuple\n",
       "    sub-expressions: 19, 27\n",
       "14. (4, 1 + n)\n",
       "    core type: ExprTuple\n",
       "    sub-expressions: 19, 20\n",
       "15. Exp\n",
       "    core type: Literal\n",
       "    sub-expressions: \n",
       "16. (3, n + 1)\n",
       "    core type: ExprTuple\n",
       "    sub-expressions: 21, 22\n",
       "17. /\n",
       "    core type: Literal\n",
       "    sub-expressions: \n",
       "18. (1, 5)\n",
       "    core type: ExprTuple\n",
       "    sub-expressions: 28, 23\n",
       "19. 4\n",
       "    core type: Literal\n",
       "    sub-expressions: \n",
       "20. 1 + n\n",
       "    core type: Operation\n",
       "    operator: 25\n",
       "    operands: 24\n",
       "21. 3\n",
       "    core type: Literal\n",
       "    sub-expressions: \n",
       "22. n + 1\n",
       "    core type: Operation\n",
       "    operator: 25\n",
       "    operands: 26\n",
       "23. 5\n",
       "    core type: Literal\n",
       "    sub-expressions: \n",
       "24. (1, n)\n",
       "    core type: ExprTuple\n",
       "    sub-expressions: 28, 27\n",
       "25. +\n",
       "    core type: Literal\n",
       "    sub-expressions: \n",
       "26. (n, 1)\n",
       "    core type: ExprTuple\n",
       "    sub-expressions: 27, 28\n",
       "27. n\n",
       "    core type: Variable\n",
       "    sub-expressions: \n",
       "28. 1\n",
       "    core type: Literal\n",
       "    sub-expressions: "
      ]
     },
     "metadata": {},
     "output_type": "display_data"
    }
   ],
   "source": [
    "# display the expression information\n",
    "stored_expr.expr_info()"
   ]
  },
  {
   "cell_type": "code",
   "execution_count": null,
   "metadata": {},
   "outputs": [],
   "source": []
  }
 ],
 "metadata": {
  "kernelspec": {
   "display_name": "Python 3",
   "language": "python",
   "name": "python3"
  }
 },
 "nbformat": 4,
 "nbformat_minor": 0
}