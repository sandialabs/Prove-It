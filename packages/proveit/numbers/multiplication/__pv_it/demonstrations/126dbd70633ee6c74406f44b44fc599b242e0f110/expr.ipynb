{
 "cells": [
  {
   "cell_type": "markdown",
   "metadata": {},
   "source": [
    "Expression of type <a class=\"ProveItLink\" href=\"../../../../../../../doc/html/api/proveit.ExprTuple.html\">ExprTuple</a>\n",
    "=======================\n",
    "# from the theory of <a class=\"ProveItLink\" href=\"../../../_theory_nbs_/theory.ipynb\">proveit.numbers.multiplication</a>"
   ]
  },
  {
   "cell_type": "code",
   "execution_count": 1,
   "metadata": {},
   "outputs": [],
   "source": [
    "import proveit\n",
    "# Automation is not needed when building an expression:\n",
    "proveit.defaults.automation = False # This will speed things up.\n",
    "proveit.defaults.inline_pngs = False # Makes files smaller.\n",
    "%load_expr # Load the stored expression as 'stored_expr'\n",
    "# import Expression classes needed to build the expression\n",
    "from proveit import ExprTuple, a, b, delta, k, theta\n",
    "from proveit.numbers import Add, Exp, Mult, e, i, pi, two"
   ]
  },
  {
   "cell_type": "code",
   "execution_count": 2,
   "metadata": {},
   "outputs": [
    {
     "data": {
      "text/html": [
       "<strong id=\"expr\">expr:</strong> <a class=\"ProveItLink\" href=\"expr.ipynb\"><img src=\"expr.png\" style=\"display:inline;vertical-align:middle;\" /></a><br>"
      ],
      "text/plain": [
       "<IPython.core.display.HTML object>"
      ]
     },
     "metadata": {},
     "output_type": "display_data"
    }
   ],
   "source": [
    "# build up the expression from sub-expressions\n",
    "sub_expr1 = Mult(two, pi, i, delta)\n",
    "sub_expr2 = Mult(two, pi, i, theta)\n",
    "sub_expr3 = Exp(e, Mult(two, pi, i, a))\n",
    "sub_expr4 = Exp(e, Mult(two, pi, i, b))\n",
    "expr = ExprTuple(Mult(sub_expr3, Exp(Mult(Exp(e, sub_expr1), Exp(e, sub_expr2)), k), sub_expr4), Mult(sub_expr3, Exp(e, Mult(Add(sub_expr1, sub_expr2), k)), sub_expr4))"
   ]
  },
  {
   "cell_type": "code",
   "execution_count": 3,
   "metadata": {},
   "outputs": [
    {
     "name": "stdout",
     "output_type": "stream",
     "text": [
      "Passed sanity check: expr matches stored_expr\n"
     ]
    }
   ],
   "source": [
    "# check that the built expression is the same as the stored expression\n",
    "assert expr == stored_expr\n",
    "assert expr._style_id == stored_expr._style_id\n",
    "print(\"Passed sanity check: expr matches stored_expr\")"
   ]
  },
  {
   "cell_type": "code",
   "execution_count": 4,
   "metadata": {},
   "outputs": [
    {
     "name": "stdout",
     "output_type": "stream",
     "text": [
      "\\left(\\mathsf{e}^{2 \\cdot \\pi \\cdot \\mathsf{i} \\cdot a} \\cdot \\left(\\mathsf{e}^{2 \\cdot \\pi \\cdot \\mathsf{i} \\cdot \\delta} \\cdot \\mathsf{e}^{2 \\cdot \\pi \\cdot \\mathsf{i} \\cdot \\theta}\\right)^{k} \\cdot \\mathsf{e}^{2 \\cdot \\pi \\cdot \\mathsf{i} \\cdot b}, \\mathsf{e}^{2 \\cdot \\pi \\cdot \\mathsf{i} \\cdot a} \\cdot \\mathsf{e}^{\\left(\\left(2 \\cdot \\pi \\cdot \\mathsf{i} \\cdot \\delta\\right) + \\left(2 \\cdot \\pi \\cdot \\mathsf{i} \\cdot \\theta\\right)\\right) \\cdot k} \\cdot \\mathsf{e}^{2 \\cdot \\pi \\cdot \\mathsf{i} \\cdot b}\\right)\n"
     ]
    }
   ],
   "source": [
    "# Show the LaTeX representation of the expression for convenience if you need it.\n",
    "print(stored_expr.latex())"
   ]
  },
  {
   "cell_type": "code",
   "execution_count": 5,
   "metadata": {},
   "outputs": [
    {
     "data": {
      "text/html": [
       "<table>\n",
       "<tr><th>name</th><th>description</th><th>default</th><th>current value</th><th>related methods</th></tr><tr><td>wrap_positions</td><td>position(s) at which wrapping is to occur; 'n' is after the nth comma.</td><td>()</td><td>()</td><td>('with_wrapping_at',)</td></tr>\n",
       "<tr><td>justification</td><td>if any wrap positions are set, justify to the 'left', 'center', or 'right'</td><td>left</td><td>left</td><td>('with_justification',)</td></tr>\n",
       "</table>\n"
      ],
      "text/plain": [
       "style name: wrap_positions\n",
       "description: position(s) at which wrapping is to occur; 'n' is after the nth comma.\n",
       "default: ()\n",
       "current value: ()\n",
       "related methods: ('with_wrapping_at',)\n",
       "style name: justification\n",
       "description: if any wrap positions are set, justify to the 'left', 'center', or 'right'\n",
       "default: left\n",
       "current value: left\n",
       "related methods: ('with_justification',)"
      ]
     },
     "metadata": {},
     "output_type": "display_data"
    }
   ],
   "source": [
    "stored_expr.style_options()"
   ]
  },
  {
   "cell_type": "code",
   "execution_count": 6,
   "metadata": {},
   "outputs": [
    {
     "data": {
      "text/html": [
       "<table><tr><th>&nbsp;</th><th>core type</th><th>sub-expressions</th><th>expression</th></tr>\n",
       "<tr><td>0</td><td>ExprTuple</td><td>1, 2</td><td><a class=\"ProveItLink\" href=\"expr.ipynb\"><img src=\"expr.png\" style=\"display:inline;vertical-align:middle;\" /></a></td></tr>\n",
       "<tr><td>1</td><td>Operation</td><td>operator:&nbsp;36<br>operands:&nbsp;3<br></td><td><a class=\"ProveItLink\" href=\"../4a3492f3eb5b9c90e3ed873d0d6dc425dfd0cad20/expr.ipynb\"><img src=\"../4a3492f3eb5b9c90e3ed873d0d6dc425dfd0cad20/expr.png\" style=\"display:inline;vertical-align:middle;\" /></a></td></tr>\n",
       "<tr><td>2</td><td>Operation</td><td>operator:&nbsp;36<br>operands:&nbsp;4<br></td><td><a class=\"ProveItLink\" href=\"../51bb85b4f203382464a90ee96e1899211d774a370/expr.ipynb\"><img src=\"../51bb85b4f203382464a90ee96e1899211d774a370/expr.png\" style=\"display:inline;vertical-align:middle;\" /></a></td></tr>\n",
       "<tr><td>3</td><td>ExprTuple</td><td>6, 5, 8</td><td><a class=\"ProveItLink\" href=\"../fa98a640e41d38c8d2baa6f3adc78709905221f70/expr.ipynb\"><img src=\"../fa98a640e41d38c8d2baa6f3adc78709905221f70/expr.png\" style=\"display:inline;vertical-align:middle;\" /></a></td></tr>\n",
       "<tr><td>4</td><td>ExprTuple</td><td>6, 7, 8</td><td><a class=\"ProveItLink\" href=\"../04db754a69533d1337e99aa4d6aa1cee1a224d530/expr.ipynb\"><img src=\"../04db754a69533d1337e99aa4d6aa1cee1a224d530/expr.png\" style=\"display:inline;vertical-align:middle;\" /></a></td></tr>\n",
       "<tr><td>5</td><td>Operation</td><td>operator:&nbsp;28<br>operands:&nbsp;9<br></td><td><a class=\"ProveItLink\" href=\"../35c1785374c30c800ae3575afda5167c29a00f660/expr.ipynb\"><img src=\"../35c1785374c30c800ae3575afda5167c29a00f660/expr.png\" style=\"display:inline;vertical-align:middle;\" /></a></td></tr>\n",
       "<tr><td>6</td><td>Operation</td><td>operator:&nbsp;28<br>operands:&nbsp;10<br></td><td><a class=\"ProveItLink\" href=\"../ffbb02cebd4cfbc23acedf7a777914d3002d4d0c0/expr.ipynb\"><img src=\"../ffbb02cebd4cfbc23acedf7a777914d3002d4d0c0/expr.png\" style=\"display:inline;vertical-align:middle;\" /></a></td></tr>\n",
       "<tr><td>7</td><td>Operation</td><td>operator:&nbsp;28<br>operands:&nbsp;11<br></td><td><a class=\"ProveItLink\" href=\"../2cab486dc14e5c4ac73515b8af6caf87aa7b2bc90/expr.ipynb\"><img src=\"../2cab486dc14e5c4ac73515b8af6caf87aa7b2bc90/expr.png\" style=\"display:inline;vertical-align:middle;\" /></a></td></tr>\n",
       "<tr><td>8</td><td>Operation</td><td>operator:&nbsp;28<br>operands:&nbsp;12<br></td><td><a class=\"ProveItLink\" href=\"../0fdff9b547809d18f56f573a4c88165967063ea50/expr.ipynb\"><img src=\"../0fdff9b547809d18f56f573a4c88165967063ea50/expr.png\" style=\"display:inline;vertical-align:middle;\" /></a></td></tr>\n",
       "<tr><td>9</td><td>ExprTuple</td><td>13, 25</td><td><a class=\"ProveItLink\" href=\"../cade0dc1851de6af8bdd012da219912a2c7b425e0/expr.ipynb\"><img src=\"../cade0dc1851de6af8bdd012da219912a2c7b425e0/expr.png\" style=\"display:inline;vertical-align:middle;\" /></a></td></tr>\n",
       "<tr><td>10</td><td>ExprTuple</td><td>32, 14</td><td><a class=\"ProveItLink\" href=\"../1ce5286069095bd36ee040b131d13bdd4ef5de580/expr.ipynb\"><img src=\"../1ce5286069095bd36ee040b131d13bdd4ef5de580/expr.png\" style=\"display:inline;vertical-align:middle;\" /></a></td></tr>\n",
       "<tr><td>11</td><td>ExprTuple</td><td>32, 15</td><td><a class=\"ProveItLink\" href=\"../16a20ed9d57992e3f8b1eed64b4750093f436ec80/expr.ipynb\"><img src=\"../16a20ed9d57992e3f8b1eed64b4750093f436ec80/expr.png\" style=\"display:inline;vertical-align:middle;\" /></a></td></tr>\n",
       "<tr><td>12</td><td>ExprTuple</td><td>32, 16</td><td><a class=\"ProveItLink\" href=\"../12fb03a3563909d9d0cd85d28d9eb229c448ca550/expr.ipynb\"><img src=\"../12fb03a3563909d9d0cd85d28d9eb229c448ca550/expr.png\" style=\"display:inline;vertical-align:middle;\" /></a></td></tr>\n",
       "<tr><td>13</td><td>Operation</td><td>operator:&nbsp;36<br>operands:&nbsp;17<br></td><td><a class=\"ProveItLink\" href=\"../7afd88e5444485eb92fb1ae5f2374a398ceaa4c70/expr.ipynb\"><img src=\"../7afd88e5444485eb92fb1ae5f2374a398ceaa4c70/expr.png\" style=\"display:inline;vertical-align:middle;\" /></a></td></tr>\n",
       "<tr><td>14</td><td>Operation</td><td>operator:&nbsp;36<br>operands:&nbsp;18<br></td><td><a class=\"ProveItLink\" href=\"../7ca762a030324c7470da16efbc818b72f9444d120/expr.ipynb\"><img src=\"../7ca762a030324c7470da16efbc818b72f9444d120/expr.png\" style=\"display:inline;vertical-align:middle;\" /></a></td></tr>\n",
       "<tr><td>15</td><td>Operation</td><td>operator:&nbsp;36<br>operands:&nbsp;19<br></td><td><a class=\"ProveItLink\" href=\"../7d1105d069fe84fb88687c7a200e9f9217786bff0/expr.ipynb\"><img src=\"../7d1105d069fe84fb88687c7a200e9f9217786bff0/expr.png\" style=\"display:inline;vertical-align:middle;\" /></a></td></tr>\n",
       "<tr><td>16</td><td>Operation</td><td>operator:&nbsp;36<br>operands:&nbsp;20<br></td><td><a class=\"ProveItLink\" href=\"../f377209c9fbad7f2ed1ef8fd03465c9b0083a7b20/expr.ipynb\"><img src=\"../f377209c9fbad7f2ed1ef8fd03465c9b0083a7b20/expr.png\" style=\"display:inline;vertical-align:middle;\" /></a></td></tr>\n",
       "<tr><td>17</td><td>ExprTuple</td><td>21, 22</td><td><a class=\"ProveItLink\" href=\"../fc39be5b505d31a1ccd734b9b50ac90867af90d10/expr.ipynb\"><img src=\"../fc39be5b505d31a1ccd734b9b50ac90867af90d10/expr.png\" style=\"display:inline;vertical-align:middle;\" /></a></td></tr>\n",
       "<tr><td>18</td><td>ExprTuple</td><td>39, 40, 41, 23</td><td><a class=\"ProveItLink\" href=\"../092692de54b77439c8dc461c22157547fcc498ee0/expr.ipynb\"><img src=\"../092692de54b77439c8dc461c22157547fcc498ee0/expr.png\" style=\"display:inline;vertical-align:middle;\" /></a></td></tr>\n",
       "<tr><td>19</td><td>ExprTuple</td><td>24, 25</td><td><a class=\"ProveItLink\" href=\"../e303d2b935c057ee29e9d1eb2d9f689b21b49c560/expr.ipynb\"><img src=\"../e303d2b935c057ee29e9d1eb2d9f689b21b49c560/expr.png\" style=\"display:inline;vertical-align:middle;\" /></a></td></tr>\n",
       "<tr><td>20</td><td>ExprTuple</td><td>39, 40, 41, 26</td><td><a class=\"ProveItLink\" href=\"../0f0c33400d9a47a1c2dbe1478d459264354dd7160/expr.ipynb\"><img src=\"../0f0c33400d9a47a1c2dbe1478d459264354dd7160/expr.png\" style=\"display:inline;vertical-align:middle;\" /></a></td></tr>\n",
       "<tr><td>21</td><td>Operation</td><td>operator:&nbsp;28<br>operands:&nbsp;27<br></td><td><a class=\"ProveItLink\" href=\"../76e2b00d2118859cd9a5ba3da279684dae9b887f0/expr.ipynb\"><img src=\"../76e2b00d2118859cd9a5ba3da279684dae9b887f0/expr.png\" style=\"display:inline;vertical-align:middle;\" /></a></td></tr>\n",
       "<tr><td>22</td><td>Operation</td><td>operator:&nbsp;28<br>operands:&nbsp;29<br></td><td><a class=\"ProveItLink\" href=\"../ea01f6efbf64daaf08ecd96899c946116ab92ce20/expr.ipynb\"><img src=\"../ea01f6efbf64daaf08ecd96899c946116ab92ce20/expr.png\" style=\"display:inline;vertical-align:middle;\" /></a></td></tr>\n",
       "<tr><td>23</td><td>Variable</td><td></td><td><a class=\"ProveItLink\" href=\"../../../../../__pv_it/common/c06c606ec12678c58933ac85412ecadc2ae28be60/expr.ipynb\"><img src=\"../../../../../__pv_it/common/c06c606ec12678c58933ac85412ecadc2ae28be60/expr.png\" style=\"display:inline;vertical-align:middle;\" /></a></td></tr>\n",
       "<tr><td>24</td><td>Operation</td><td>operator:&nbsp;30<br>operands:&nbsp;31<br></td><td><a class=\"ProveItLink\" href=\"../b4c1f72e441931071fb1b212ea5b0689985d47090/expr.ipynb\"><img src=\"../b4c1f72e441931071fb1b212ea5b0689985d47090/expr.png\" style=\"display:inline;vertical-align:middle;\" /></a></td></tr>\n",
       "<tr><td>25</td><td>Variable</td><td></td><td><a class=\"ProveItLink\" href=\"../../../../../__pv_it/common/63b7c64bf9ec7a04ecc396c7a1670f3f12fb59490/expr.ipynb\"><img src=\"../../../../../__pv_it/common/63b7c64bf9ec7a04ecc396c7a1670f3f12fb59490/expr.png\" style=\"display:inline;vertical-align:middle;\" /></a></td></tr>\n",
       "<tr><td>26</td><td>Variable</td><td></td><td><a class=\"ProveItLink\" href=\"../../../../../__pv_it/common/195236b98c6c564a75b5dbada74b173bc52d5c3e0/expr.ipynb\"><img src=\"../../../../../__pv_it/common/195236b98c6c564a75b5dbada74b173bc52d5c3e0/expr.png\" style=\"display:inline;vertical-align:middle;\" /></a></td></tr>\n",
       "<tr><td>27</td><td>ExprTuple</td><td>32, 33</td><td><a class=\"ProveItLink\" href=\"../fe6fb865c16d9bc92f90366a6ac1447ca72d88d70/expr.ipynb\"><img src=\"../fe6fb865c16d9bc92f90366a6ac1447ca72d88d70/expr.png\" style=\"display:inline;vertical-align:middle;\" /></a></td></tr>\n",
       "<tr><td>28</td><td>Literal</td><td></td><td><a class=\"ProveItLink\" href=\"../../../../exponentiation/__pv_it/common/0ac37aca1e54c35c5cda09672df32d4f69f1f3020/expr.ipynb\"><img src=\"../../../../exponentiation/__pv_it/common/0ac37aca1e54c35c5cda09672df32d4f69f1f3020/expr.png\" style=\"display:inline;vertical-align:middle;\" /></a></td></tr>\n",
       "<tr><td>29</td><td>ExprTuple</td><td>32, 34</td><td><a class=\"ProveItLink\" href=\"../e25e8946ca5c92105c558267a4af1e51678110e70/expr.ipynb\"><img src=\"../e25e8946ca5c92105c558267a4af1e51678110e70/expr.png\" style=\"display:inline;vertical-align:middle;\" /></a></td></tr>\n",
       "<tr><td>30</td><td>Literal</td><td></td><td><a class=\"ProveItLink\" href=\"../../../../addition/__pv_it/common/4b7effaab3619a1c2c38fe2dee8601df8ec714590/expr.ipynb\"><img src=\"../../../../addition/__pv_it/common/4b7effaab3619a1c2c38fe2dee8601df8ec714590/expr.png\" style=\"display:inline;vertical-align:middle;\" /></a></td></tr>\n",
       "<tr><td>31</td><td>ExprTuple</td><td>33, 34</td><td><a class=\"ProveItLink\" href=\"../75231b28368969f529d62760a68998141fcbd2b00/expr.ipynb\"><img src=\"../75231b28368969f529d62760a68998141fcbd2b00/expr.png\" style=\"display:inline;vertical-align:middle;\" /></a></td></tr>\n",
       "<tr><td>32</td><td>Literal</td><td></td><td><a class=\"ProveItLink\" href=\"../../../../number_sets/real_numbers/__pv_it/common/e531ffa54fd897084533764a4a14f19f590674f80/expr.ipynb\"><img src=\"../../../../number_sets/real_numbers/__pv_it/common/e531ffa54fd897084533764a4a14f19f590674f80/expr.png\" style=\"display:inline;vertical-align:middle;\" /></a></td></tr>\n",
       "<tr><td>33</td><td>Operation</td><td>operator:&nbsp;36<br>operands:&nbsp;35<br></td><td><a class=\"ProveItLink\" href=\"../fe02c9826b885f40ef6caf0782171014ae5fc7550/expr.ipynb\"><img src=\"../fe02c9826b885f40ef6caf0782171014ae5fc7550/expr.png\" style=\"display:inline;vertical-align:middle;\" /></a></td></tr>\n",
       "<tr><td>34</td><td>Operation</td><td>operator:&nbsp;36<br>operands:&nbsp;37<br></td><td><a class=\"ProveItLink\" href=\"../a30f33fbf3970cf14b1413a1b6eddcd6bf7877f10/expr.ipynb\"><img src=\"../a30f33fbf3970cf14b1413a1b6eddcd6bf7877f10/expr.png\" style=\"display:inline;vertical-align:middle;\" /></a></td></tr>\n",
       "<tr><td>35</td><td>ExprTuple</td><td>39, 40, 41, 38</td><td><a class=\"ProveItLink\" href=\"../b09d4c1cdead62093514622e57923ab8251577600/expr.ipynb\"><img src=\"../b09d4c1cdead62093514622e57923ab8251577600/expr.png\" style=\"display:inline;vertical-align:middle;\" /></a></td></tr>\n",
       "<tr><td>36</td><td>Literal</td><td></td><td><a class=\"ProveItLink\" href=\"../../common/ed719cef37831779c16481533a4d380a2f95ab270/expr.ipynb\"><img src=\"../../common/ed719cef37831779c16481533a4d380a2f95ab270/expr.png\" style=\"display:inline;vertical-align:middle;\" /></a></td></tr>\n",
       "<tr><td>37</td><td>ExprTuple</td><td>39, 40, 41, 42</td><td><a class=\"ProveItLink\" href=\"../fbd2262aede6a0518d1cdb5bb27a7db3aeecffb30/expr.ipynb\"><img src=\"../fbd2262aede6a0518d1cdb5bb27a7db3aeecffb30/expr.png\" style=\"display:inline;vertical-align:middle;\" /></a></td></tr>\n",
       "<tr><td>38</td><td>Variable</td><td></td><td><a class=\"ProveItLink\" href=\"../../../../../__pv_it/common/0743d8a4f4ff93fd50a3189c2a5134398a7bd9d60/expr.ipynb\"><img src=\"../../../../../__pv_it/common/0743d8a4f4ff93fd50a3189c2a5134398a7bd9d60/expr.png\" style=\"display:inline;vertical-align:middle;\" /></a></td></tr>\n",
       "<tr><td>39</td><td>Literal</td><td></td><td><a class=\"ProveItLink\" href=\"../../../../numerals/__pv_it/common/af4aab8a07465db063742696e006d04670f30cf10/expr.ipynb\"><img src=\"../../../../numerals/__pv_it/common/af4aab8a07465db063742696e006d04670f30cf10/expr.png\" style=\"display:inline;vertical-align:middle;\" /></a></td></tr>\n",
       "<tr><td>40</td><td>Literal</td><td></td><td><a class=\"ProveItLink\" href=\"../../../../number_sets/real_numbers/__pv_it/common/246c206266ac5b48800e508d580f91767b24c2df0/expr.ipynb\"><img src=\"../../../../number_sets/real_numbers/__pv_it/common/246c206266ac5b48800e508d580f91767b24c2df0/expr.png\" style=\"display:inline;vertical-align:middle;\" /></a></td></tr>\n",
       "<tr><td>41</td><td>Literal</td><td></td><td><a class=\"ProveItLink\" href=\"../../../../number_sets/complex_numbers/__pv_it/common/6c9cc69d472f352324c298b2318df233e9a7e0250/expr.ipynb\"><img src=\"../../../../number_sets/complex_numbers/__pv_it/common/6c9cc69d472f352324c298b2318df233e9a7e0250/expr.png\" style=\"display:inline;vertical-align:middle;\" /></a></td></tr>\n",
       "<tr><td>42</td><td>Variable</td><td></td><td><a class=\"ProveItLink\" href=\"../../../../../__pv_it/common/b011a4fec64a1c824cf176959ebc716edbf098a10/expr.ipynb\"><img src=\"../../../../../__pv_it/common/b011a4fec64a1c824cf176959ebc716edbf098a10/expr.png\" style=\"display:inline;vertical-align:middle;\" /></a></td></tr>\n",
       "</table>\n"
      ],
      "text/plain": [
       "0. (e^{2 * pi * i * a} * (e^{2 * pi * i * delta} * e^{2 * pi * i * theta})^{k} * e^{2 * pi * i * b}, e^{2 * pi * i * a} * e^{((2 * pi * i * delta) + (2 * pi * i * theta)) * k} * e^{2 * pi * i * b})\n",
       "   core type: ExprTuple\n",
       "   sub-expressions: 1, 2\n",
       "1. e^{2 * pi * i * a} * (e^{2 * pi * i * delta} * e^{2 * pi * i * theta})^{k} * e^{2 * pi * i * b}\n",
       "   core type: Operation\n",
       "   operator: 36\n",
       "   operands: 3\n",
       "2. e^{2 * pi * i * a} * e^{((2 * pi * i * delta) + (2 * pi * i * theta)) * k} * e^{2 * pi * i * b}\n",
       "   core type: Operation\n",
       "   operator: 36\n",
       "   operands: 4\n",
       "3. (e^{2 * pi * i * a}, (e^{2 * pi * i * delta} * e^{2 * pi * i * theta})^{k}, e^{2 * pi * i * b})\n",
       "   core type: ExprTuple\n",
       "   sub-expressions: 6, 5, 8\n",
       "4. (e^{2 * pi * i * a}, e^{((2 * pi * i * delta) + (2 * pi * i * theta)) * k}, e^{2 * pi * i * b})\n",
       "   core type: ExprTuple\n",
       "   sub-expressions: 6, 7, 8\n",
       "5. (e^{2 * pi * i * delta} * e^{2 * pi * i * theta})^{k}\n",
       "   core type: Operation\n",
       "   operator: 28\n",
       "   operands: 9\n",
       "6. e^{2 * pi * i * a}\n",
       "   core type: Operation\n",
       "   operator: 28\n",
       "   operands: 10\n",
       "7. e^{((2 * pi * i * delta) + (2 * pi * i * theta)) * k}\n",
       "   core type: Operation\n",
       "   operator: 28\n",
       "   operands: 11\n",
       "8. e^{2 * pi * i * b}\n",
       "   core type: Operation\n",
       "   operator: 28\n",
       "   operands: 12\n",
       "9. (e^{2 * pi * i * delta} * e^{2 * pi * i * theta}, k)\n",
       "   core type: ExprTuple\n",
       "   sub-expressions: 13, 25\n",
       "10. (e, 2 * pi * i * a)\n",
       "    core type: ExprTuple\n",
       "    sub-expressions: 32, 14\n",
       "11. (e, ((2 * pi * i * delta) + (2 * pi * i * theta)) * k)\n",
       "    core type: ExprTuple\n",
       "    sub-expressions: 32, 15\n",
       "12. (e, 2 * pi * i * b)\n",
       "    core type: ExprTuple\n",
       "    sub-expressions: 32, 16\n",
       "13. e^{2 * pi * i * delta} * e^{2 * pi * i * theta}\n",
       "    core type: Operation\n",
       "    operator: 36\n",
       "    operands: 17\n",
       "14. 2 * pi * i * a\n",
       "    core type: Operation\n",
       "    operator: 36\n",
       "    operands: 18\n",
       "15. ((2 * pi * i * delta) + (2 * pi * i * theta)) * k\n",
       "    core type: Operation\n",
       "    operator: 36\n",
       "    operands: 19\n",
       "16. 2 * pi * i * b\n",
       "    core type: Operation\n",
       "    operator: 36\n",
       "    operands: 20\n",
       "17. (e^{2 * pi * i * delta}, e^{2 * pi * i * theta})\n",
       "    core type: ExprTuple\n",
       "    sub-expressions: 21, 22\n",
       "18. (2, pi, i, a)\n",
       "    core type: ExprTuple\n",
       "    sub-expressions: 39, 40, 41, 23\n",
       "19. ((2 * pi * i * delta) + (2 * pi * i * theta), k)\n",
       "    core type: ExprTuple\n",
       "    sub-expressions: 24, 25\n",
       "20. (2, pi, i, b)\n",
       "    core type: ExprTuple\n",
       "    sub-expressions: 39, 40, 41, 26\n",
       "21. e^{2 * pi * i * delta}\n",
       "    core type: Operation\n",
       "    operator: 28\n",
       "    operands: 27\n",
       "22. e^{2 * pi * i * theta}\n",
       "    core type: Operation\n",
       "    operator: 28\n",
       "    operands: 29\n",
       "23. a\n",
       "    core type: Variable\n",
       "    sub-expressions: \n",
       "24. (2 * pi * i * delta) + (2 * pi * i * theta)\n",
       "    core type: Operation\n",
       "    operator: 30\n",
       "    operands: 31\n",
       "25. k\n",
       "    core type: Variable\n",
       "    sub-expressions: \n",
       "26. b\n",
       "    core type: Variable\n",
       "    sub-expressions: \n",
       "27. (e, 2 * pi * i * delta)\n",
       "    core type: ExprTuple\n",
       "    sub-expressions: 32, 33\n",
       "28. Exp\n",
       "    core type: Literal\n",
       "    sub-expressions: \n",
       "29. (e, 2 * pi * i * theta)\n",
       "    core type: ExprTuple\n",
       "    sub-expressions: 32, 34\n",
       "30. +\n",
       "    core type: Literal\n",
       "    sub-expressions: \n",
       "31. (2 * pi * i * delta, 2 * pi * i * theta)\n",
       "    core type: ExprTuple\n",
       "    sub-expressions: 33, 34\n",
       "32. e\n",
       "    core type: Literal\n",
       "    sub-expressions: \n",
       "33. 2 * pi * i * delta\n",
       "    core type: Operation\n",
       "    operator: 36\n",
       "    operands: 35\n",
       "34. 2 * pi * i * theta\n",
       "    core type: Operation\n",
       "    operator: 36\n",
       "    operands: 37\n",
       "35. (2, pi, i, delta)\n",
       "    core type: ExprTuple\n",
       "    sub-expressions: 39, 40, 41, 38\n",
       "36. *\n",
       "    core type: Literal\n",
       "    sub-expressions: \n",
       "37. (2, pi, i, theta)\n",
       "    core type: ExprTuple\n",
       "    sub-expressions: 39, 40, 41, 42\n",
       "38. delta\n",
       "    core type: Variable\n",
       "    sub-expressions: \n",
       "39. 2\n",
       "    core type: Literal\n",
       "    sub-expressions: \n",
       "40. pi\n",
       "    core type: Literal\n",
       "    sub-expressions: \n",
       "41. i\n",
       "    core type: Literal\n",
       "    sub-expressions: \n",
       "42. theta\n",
       "    core type: Variable\n",
       "    sub-expressions: "
      ]
     },
     "metadata": {},
     "output_type": "display_data"
    }
   ],
   "source": [
    "# display the expression information\n",
    "stored_expr.expr_info()"
   ]
  },
  {
   "cell_type": "code",
   "execution_count": null,
   "metadata": {},
   "outputs": [],
   "source": []
  }
 ],
 "metadata": {
  "kernelspec": {
   "display_name": "Python 3",
   "language": "python",
   "name": "python3"
  }
 },
 "nbformat": 4,
 "nbformat_minor": 0
}