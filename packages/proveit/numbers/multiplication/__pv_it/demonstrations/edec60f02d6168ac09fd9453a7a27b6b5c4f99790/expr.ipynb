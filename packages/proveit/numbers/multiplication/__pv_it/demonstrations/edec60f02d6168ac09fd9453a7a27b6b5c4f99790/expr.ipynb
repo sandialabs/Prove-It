{
 "cells": [
  {
   "cell_type": "markdown",
   "metadata": {},
   "source": [
    "Expression of type <a class=\"ProveItLink\" href=\"../../../../../../../doc/html/api/proveit.ExprTuple.html\">ExprTuple</a>\n",
    "=======================\n",
    "# from the theory of <a class=\"ProveItLink\" href=\"../../../_theory_nbs_/theory.ipynb\">proveit.numbers.multiplication</a>"
   ]
  },
  {
   "cell_type": "code",
   "execution_count": 1,
   "metadata": {},
   "outputs": [],
   "source": [
    "import proveit\n",
    "# Automation is not needed when building an expression:\n",
    "proveit.defaults.automation = False # This will speed things up.\n",
    "proveit.defaults.inline_pngs = False # Makes files smaller.\n",
    "%load_expr # Load the stored expression as 'stored_expr'\n",
    "# import Expression classes needed to build the expression\n",
    "from proveit import ExprTuple, a, b, delta, k, theta\n",
    "from proveit.numbers import Add, Exp, Mult, e, i, pi, two"
   ]
  },
  {
   "cell_type": "code",
   "execution_count": 2,
   "metadata": {},
   "outputs": [
    {
     "data": {
      "text/html": [
       "<strong id=\"expr\">expr:</strong> <a class=\"ProveItLink\" href=\"expr.ipynb\"><img src=\"expr.png\" style=\"display:inline;vertical-align:middle;\" /></a><br>"
      ],
      "text/plain": [
       "<IPython.core.display.HTML object>"
      ]
     },
     "metadata": {},
     "output_type": "display_data"
    }
   ],
   "source": [
    "# build up the expression from sub-expressions\n",
    "sub_expr1 = Add(a, b)\n",
    "sub_expr2 = Mult(two, pi, i, b)\n",
    "sub_expr3 = Mult(Add(Mult(two, pi, i, delta), Mult(two, pi, i, theta)), k)\n",
    "expr = ExprTuple(Mult(sub_expr1, Exp(e, sub_expr3), Exp(e, sub_expr2)), Mult(sub_expr1, Exp(e, Add(sub_expr3, sub_expr2))))"
   ]
  },
  {
   "cell_type": "code",
   "execution_count": 3,
   "metadata": {},
   "outputs": [
    {
     "name": "stdout",
     "output_type": "stream",
     "text": [
      "Passed sanity check: expr matches stored_expr\n"
     ]
    }
   ],
   "source": [
    "# check that the built expression is the same as the stored expression\n",
    "assert expr == stored_expr\n",
    "assert expr._style_id == stored_expr._style_id\n",
    "print(\"Passed sanity check: expr matches stored_expr\")"
   ]
  },
  {
   "cell_type": "code",
   "execution_count": 4,
   "metadata": {},
   "outputs": [
    {
     "name": "stdout",
     "output_type": "stream",
     "text": [
      "\\left(\\left(a + b\\right) \\cdot \\mathsf{e}^{\\left(\\left(2 \\cdot \\pi \\cdot \\mathsf{i} \\cdot \\delta\\right) + \\left(2 \\cdot \\pi \\cdot \\mathsf{i} \\cdot \\theta\\right)\\right) \\cdot k} \\cdot \\mathsf{e}^{2 \\cdot \\pi \\cdot \\mathsf{i} \\cdot b}, \\left(a + b\\right) \\cdot \\mathsf{e}^{\\left(\\left(\\left(2 \\cdot \\pi \\cdot \\mathsf{i} \\cdot \\delta\\right) + \\left(2 \\cdot \\pi \\cdot \\mathsf{i} \\cdot \\theta\\right)\\right) \\cdot k\\right) + \\left(2 \\cdot \\pi \\cdot \\mathsf{i} \\cdot b\\right)}\\right)\n"
     ]
    }
   ],
   "source": [
    "# Show the LaTeX representation of the expression for convenience if you need it.\n",
    "print(stored_expr.latex())"
   ]
  },
  {
   "cell_type": "code",
   "execution_count": 5,
   "metadata": {},
   "outputs": [
    {
     "data": {
      "text/html": [
       "<table>\n",
       "<tr><th>name</th><th>description</th><th>default</th><th>current value</th><th>related methods</th></tr><tr><td>wrap_positions</td><td>position(s) at which wrapping is to occur; 'n' is after the nth comma.</td><td>()</td><td>()</td><td>('with_wrapping_at',)</td></tr>\n",
       "<tr><td>justification</td><td>if any wrap positions are set, justify to the 'left', 'center', or 'right'</td><td>left</td><td>left</td><td>('with_justification',)</td></tr>\n",
       "</table>\n"
      ],
      "text/plain": [
       "style name: wrap_positions\n",
       "description: position(s) at which wrapping is to occur; 'n' is after the nth comma.\n",
       "default: ()\n",
       "current value: ()\n",
       "related methods: ('with_wrapping_at',)\n",
       "style name: justification\n",
       "description: if any wrap positions are set, justify to the 'left', 'center', or 'right'\n",
       "default: left\n",
       "current value: left\n",
       "related methods: ('with_justification',)"
      ]
     },
     "metadata": {},
     "output_type": "display_data"
    }
   ],
   "source": [
    "stored_expr.style_options()"
   ]
  },
  {
   "cell_type": "code",
   "execution_count": 6,
   "metadata": {},
   "outputs": [
    {
     "data": {
      "text/html": [
       "<table><tr><th>&nbsp;</th><th>core type</th><th>sub-expressions</th><th>expression</th></tr>\n",
       "<tr><td>0</td><td>ExprTuple</td><td>1, 2</td><td><a class=\"ProveItLink\" href=\"expr.ipynb\"><img src=\"expr.png\" style=\"display:inline;vertical-align:middle;\" /></a></td></tr>\n",
       "<tr><td>1</td><td>Operation</td><td>operator:&nbsp;30<br>operands:&nbsp;3<br></td><td><a class=\"ProveItLink\" href=\"../3a63fec87b861b1b0d6335cf16f4c57169fd6f600/expr.ipynb\"><img src=\"../3a63fec87b861b1b0d6335cf16f4c57169fd6f600/expr.png\" style=\"display:inline;vertical-align:middle;\" /></a></td></tr>\n",
       "<tr><td>2</td><td>Operation</td><td>operator:&nbsp;30<br>operands:&nbsp;4<br></td><td><a class=\"ProveItLink\" href=\"../b4ded78968705f971e48dacda5848e9abae449150/expr.ipynb\"><img src=\"../b4ded78968705f971e48dacda5848e9abae449150/expr.png\" style=\"display:inline;vertical-align:middle;\" /></a></td></tr>\n",
       "<tr><td>3</td><td>ExprTuple</td><td>7, 5, 6</td><td><a class=\"ProveItLink\" href=\"../2f15b8d93817ad821853be408e5074d131d772900/expr.ipynb\"><img src=\"../2f15b8d93817ad821853be408e5074d131d772900/expr.png\" style=\"display:inline;vertical-align:middle;\" /></a></td></tr>\n",
       "<tr><td>4</td><td>ExprTuple</td><td>7, 8</td><td><a class=\"ProveItLink\" href=\"../eec961f2b36104cdd9462f30f6abe041a3e75b8c0/expr.ipynb\"><img src=\"../eec961f2b36104cdd9462f30f6abe041a3e75b8c0/expr.png\" style=\"display:inline;vertical-align:middle;\" /></a></td></tr>\n",
       "<tr><td>5</td><td>Operation</td><td>operator:&nbsp;12<br>operands:&nbsp;9<br></td><td><a class=\"ProveItLink\" href=\"../2cab486dc14e5c4ac73515b8af6caf87aa7b2bc90/expr.ipynb\"><img src=\"../2cab486dc14e5c4ac73515b8af6caf87aa7b2bc90/expr.png\" style=\"display:inline;vertical-align:middle;\" /></a></td></tr>\n",
       "<tr><td>6</td><td>Operation</td><td>operator:&nbsp;12<br>operands:&nbsp;10<br></td><td><a class=\"ProveItLink\" href=\"../0fdff9b547809d18f56f573a4c88165967063ea50/expr.ipynb\"><img src=\"../0fdff9b547809d18f56f573a4c88165967063ea50/expr.png\" style=\"display:inline;vertical-align:middle;\" /></a></td></tr>\n",
       "<tr><td>7</td><td>Operation</td><td>operator:&nbsp;25<br>operands:&nbsp;11<br></td><td><a class=\"ProveItLink\" href=\"../../../../addition/__pv_it/theorems/89a168a13153c99bc04f669d338e1591180cde600/expr.ipynb\"><img src=\"../../../../addition/__pv_it/theorems/89a168a13153c99bc04f669d338e1591180cde600/expr.png\" style=\"display:inline;vertical-align:middle;\" /></a></td></tr>\n",
       "<tr><td>8</td><td>Operation</td><td>operator:&nbsp;12<br>operands:&nbsp;13<br></td><td><a class=\"ProveItLink\" href=\"../20537ca17b4da23ac8b03122f0e03a1d129f8b9c0/expr.ipynb\"><img src=\"../20537ca17b4da23ac8b03122f0e03a1d129f8b9c0/expr.png\" style=\"display:inline;vertical-align:middle;\" /></a></td></tr>\n",
       "<tr><td>9</td><td>ExprTuple</td><td>15, 18</td><td><a class=\"ProveItLink\" href=\"../16a20ed9d57992e3f8b1eed64b4750093f436ec80/expr.ipynb\"><img src=\"../16a20ed9d57992e3f8b1eed64b4750093f436ec80/expr.png\" style=\"display:inline;vertical-align:middle;\" /></a></td></tr>\n",
       "<tr><td>10</td><td>ExprTuple</td><td>15, 19</td><td><a class=\"ProveItLink\" href=\"../12fb03a3563909d9d0cd85d28d9eb229c448ca550/expr.ipynb\"><img src=\"../12fb03a3563909d9d0cd85d28d9eb229c448ca550/expr.png\" style=\"display:inline;vertical-align:middle;\" /></a></td></tr>\n",
       "<tr><td>11</td><td>ExprTuple</td><td>14, 24</td><td><a class=\"ProveItLink\" href=\"../../../../addition/__pv_it/theorems/3dcd5ceea6334d8cb48fe14fdae236293aa9a6050/expr.ipynb\"><img src=\"../../../../addition/__pv_it/theorems/3dcd5ceea6334d8cb48fe14fdae236293aa9a6050/expr.png\" style=\"display:inline;vertical-align:middle;\" /></a></td></tr>\n",
       "<tr><td>12</td><td>Literal</td><td></td><td><a class=\"ProveItLink\" href=\"../../../../exponentiation/__pv_it/common/0ac37aca1e54c35c5cda09672df32d4f69f1f3020/expr.ipynb\"><img src=\"../../../../exponentiation/__pv_it/common/0ac37aca1e54c35c5cda09672df32d4f69f1f3020/expr.png\" style=\"display:inline;vertical-align:middle;\" /></a></td></tr>\n",
       "<tr><td>13</td><td>ExprTuple</td><td>15, 16</td><td><a class=\"ProveItLink\" href=\"../f6b41e0c380c4509e750bf01fcf8710177d1104b0/expr.ipynb\"><img src=\"../f6b41e0c380c4509e750bf01fcf8710177d1104b0/expr.png\" style=\"display:inline;vertical-align:middle;\" /></a></td></tr>\n",
       "<tr><td>14</td><td>Variable</td><td></td><td><a class=\"ProveItLink\" href=\"../../../../../__pv_it/common/c06c606ec12678c58933ac85412ecadc2ae28be60/expr.ipynb\"><img src=\"../../../../../__pv_it/common/c06c606ec12678c58933ac85412ecadc2ae28be60/expr.png\" style=\"display:inline;vertical-align:middle;\" /></a></td></tr>\n",
       "<tr><td>15</td><td>Literal</td><td></td><td><a class=\"ProveItLink\" href=\"../../../../number_sets/real_numbers/__pv_it/common/e531ffa54fd897084533764a4a14f19f590674f80/expr.ipynb\"><img src=\"../../../../number_sets/real_numbers/__pv_it/common/e531ffa54fd897084533764a4a14f19f590674f80/expr.png\" style=\"display:inline;vertical-align:middle;\" /></a></td></tr>\n",
       "<tr><td>16</td><td>Operation</td><td>operator:&nbsp;25<br>operands:&nbsp;17<br></td><td><a class=\"ProveItLink\" href=\"../8c26abf819f6b2fd4ad88068e3ec43f2bb8139df0/expr.ipynb\"><img src=\"../8c26abf819f6b2fd4ad88068e3ec43f2bb8139df0/expr.png\" style=\"display:inline;vertical-align:middle;\" /></a></td></tr>\n",
       "<tr><td>17</td><td>ExprTuple</td><td>18, 19</td><td><a class=\"ProveItLink\" href=\"../68e9ccf9145abfae0b8dcea6480a6b8d583d6f2a0/expr.ipynb\"><img src=\"../68e9ccf9145abfae0b8dcea6480a6b8d583d6f2a0/expr.png\" style=\"display:inline;vertical-align:middle;\" /></a></td></tr>\n",
       "<tr><td>18</td><td>Operation</td><td>operator:&nbsp;30<br>operands:&nbsp;20<br></td><td><a class=\"ProveItLink\" href=\"../7d1105d069fe84fb88687c7a200e9f9217786bff0/expr.ipynb\"><img src=\"../7d1105d069fe84fb88687c7a200e9f9217786bff0/expr.png\" style=\"display:inline;vertical-align:middle;\" /></a></td></tr>\n",
       "<tr><td>19</td><td>Operation</td><td>operator:&nbsp;30<br>operands:&nbsp;21<br></td><td><a class=\"ProveItLink\" href=\"../f377209c9fbad7f2ed1ef8fd03465c9b0083a7b20/expr.ipynb\"><img src=\"../f377209c9fbad7f2ed1ef8fd03465c9b0083a7b20/expr.png\" style=\"display:inline;vertical-align:middle;\" /></a></td></tr>\n",
       "<tr><td>20</td><td>ExprTuple</td><td>22, 23</td><td><a class=\"ProveItLink\" href=\"../e303d2b935c057ee29e9d1eb2d9f689b21b49c560/expr.ipynb\"><img src=\"../e303d2b935c057ee29e9d1eb2d9f689b21b49c560/expr.png\" style=\"display:inline;vertical-align:middle;\" /></a></td></tr>\n",
       "<tr><td>21</td><td>ExprTuple</td><td>33, 34, 35, 24</td><td><a class=\"ProveItLink\" href=\"../0f0c33400d9a47a1c2dbe1478d459264354dd7160/expr.ipynb\"><img src=\"../0f0c33400d9a47a1c2dbe1478d459264354dd7160/expr.png\" style=\"display:inline;vertical-align:middle;\" /></a></td></tr>\n",
       "<tr><td>22</td><td>Operation</td><td>operator:&nbsp;25<br>operands:&nbsp;26<br></td><td><a class=\"ProveItLink\" href=\"../b4c1f72e441931071fb1b212ea5b0689985d47090/expr.ipynb\"><img src=\"../b4c1f72e441931071fb1b212ea5b0689985d47090/expr.png\" style=\"display:inline;vertical-align:middle;\" /></a></td></tr>\n",
       "<tr><td>23</td><td>Variable</td><td></td><td><a class=\"ProveItLink\" href=\"../../../../../__pv_it/common/63b7c64bf9ec7a04ecc396c7a1670f3f12fb59490/expr.ipynb\"><img src=\"../../../../../__pv_it/common/63b7c64bf9ec7a04ecc396c7a1670f3f12fb59490/expr.png\" style=\"display:inline;vertical-align:middle;\" /></a></td></tr>\n",
       "<tr><td>24</td><td>Variable</td><td></td><td><a class=\"ProveItLink\" href=\"../../../../../__pv_it/common/195236b98c6c564a75b5dbada74b173bc52d5c3e0/expr.ipynb\"><img src=\"../../../../../__pv_it/common/195236b98c6c564a75b5dbada74b173bc52d5c3e0/expr.png\" style=\"display:inline;vertical-align:middle;\" /></a></td></tr>\n",
       "<tr><td>25</td><td>Literal</td><td></td><td><a class=\"ProveItLink\" href=\"../../../../addition/__pv_it/common/4b7effaab3619a1c2c38fe2dee8601df8ec714590/expr.ipynb\"><img src=\"../../../../addition/__pv_it/common/4b7effaab3619a1c2c38fe2dee8601df8ec714590/expr.png\" style=\"display:inline;vertical-align:middle;\" /></a></td></tr>\n",
       "<tr><td>26</td><td>ExprTuple</td><td>27, 28</td><td><a class=\"ProveItLink\" href=\"../75231b28368969f529d62760a68998141fcbd2b00/expr.ipynb\"><img src=\"../75231b28368969f529d62760a68998141fcbd2b00/expr.png\" style=\"display:inline;vertical-align:middle;\" /></a></td></tr>\n",
       "<tr><td>27</td><td>Operation</td><td>operator:&nbsp;30<br>operands:&nbsp;29<br></td><td><a class=\"ProveItLink\" href=\"../fe02c9826b885f40ef6caf0782171014ae5fc7550/expr.ipynb\"><img src=\"../fe02c9826b885f40ef6caf0782171014ae5fc7550/expr.png\" style=\"display:inline;vertical-align:middle;\" /></a></td></tr>\n",
       "<tr><td>28</td><td>Operation</td><td>operator:&nbsp;30<br>operands:&nbsp;31<br></td><td><a class=\"ProveItLink\" href=\"../a30f33fbf3970cf14b1413a1b6eddcd6bf7877f10/expr.ipynb\"><img src=\"../a30f33fbf3970cf14b1413a1b6eddcd6bf7877f10/expr.png\" style=\"display:inline;vertical-align:middle;\" /></a></td></tr>\n",
       "<tr><td>29</td><td>ExprTuple</td><td>33, 34, 35, 32</td><td><a class=\"ProveItLink\" href=\"../b09d4c1cdead62093514622e57923ab8251577600/expr.ipynb\"><img src=\"../b09d4c1cdead62093514622e57923ab8251577600/expr.png\" style=\"display:inline;vertical-align:middle;\" /></a></td></tr>\n",
       "<tr><td>30</td><td>Literal</td><td></td><td><a class=\"ProveItLink\" href=\"../../common/ed719cef37831779c16481533a4d380a2f95ab270/expr.ipynb\"><img src=\"../../common/ed719cef37831779c16481533a4d380a2f95ab270/expr.png\" style=\"display:inline;vertical-align:middle;\" /></a></td></tr>\n",
       "<tr><td>31</td><td>ExprTuple</td><td>33, 34, 35, 36</td><td><a class=\"ProveItLink\" href=\"../fbd2262aede6a0518d1cdb5bb27a7db3aeecffb30/expr.ipynb\"><img src=\"../fbd2262aede6a0518d1cdb5bb27a7db3aeecffb30/expr.png\" style=\"display:inline;vertical-align:middle;\" /></a></td></tr>\n",
       "<tr><td>32</td><td>Variable</td><td></td><td><a class=\"ProveItLink\" href=\"../../../../../__pv_it/common/0743d8a4f4ff93fd50a3189c2a5134398a7bd9d60/expr.ipynb\"><img src=\"../../../../../__pv_it/common/0743d8a4f4ff93fd50a3189c2a5134398a7bd9d60/expr.png\" style=\"display:inline;vertical-align:middle;\" /></a></td></tr>\n",
       "<tr><td>33</td><td>Literal</td><td></td><td><a class=\"ProveItLink\" href=\"../../../../numerals/__pv_it/common/af4aab8a07465db063742696e006d04670f30cf10/expr.ipynb\"><img src=\"../../../../numerals/__pv_it/common/af4aab8a07465db063742696e006d04670f30cf10/expr.png\" style=\"display:inline;vertical-align:middle;\" /></a></td></tr>\n",
       "<tr><td>34</td><td>Literal</td><td></td><td><a class=\"ProveItLink\" href=\"../../../../number_sets/real_numbers/__pv_it/common/246c206266ac5b48800e508d580f91767b24c2df0/expr.ipynb\"><img src=\"../../../../number_sets/real_numbers/__pv_it/common/246c206266ac5b48800e508d580f91767b24c2df0/expr.png\" style=\"display:inline;vertical-align:middle;\" /></a></td></tr>\n",
       "<tr><td>35</td><td>Literal</td><td></td><td><a class=\"ProveItLink\" href=\"../../../../number_sets/complex_numbers/__pv_it/common/6c9cc69d472f352324c298b2318df233e9a7e0250/expr.ipynb\"><img src=\"../../../../number_sets/complex_numbers/__pv_it/common/6c9cc69d472f352324c298b2318df233e9a7e0250/expr.png\" style=\"display:inline;vertical-align:middle;\" /></a></td></tr>\n",
       "<tr><td>36</td><td>Variable</td><td></td><td><a class=\"ProveItLink\" href=\"../../../../../__pv_it/common/b011a4fec64a1c824cf176959ebc716edbf098a10/expr.ipynb\"><img src=\"../../../../../__pv_it/common/b011a4fec64a1c824cf176959ebc716edbf098a10/expr.png\" style=\"display:inline;vertical-align:middle;\" /></a></td></tr>\n",
       "</table>\n"
      ],
      "text/plain": [
       "0. ((a + b) * e^{((2 * pi * i * delta) + (2 * pi * i * theta)) * k} * e^{2 * pi * i * b}, (a + b) * e^{(((2 * pi * i * delta) + (2 * pi * i * theta)) * k) + (2 * pi * i * b)})\n",
       "   core type: ExprTuple\n",
       "   sub-expressions: 1, 2\n",
       "1. (a + b) * e^{((2 * pi * i * delta) + (2 * pi * i * theta)) * k} * e^{2 * pi * i * b}\n",
       "   core type: Operation\n",
       "   operator: 30\n",
       "   operands: 3\n",
       "2. (a + b) * e^{(((2 * pi * i * delta) + (2 * pi * i * theta)) * k) + (2 * pi * i * b)}\n",
       "   core type: Operation\n",
       "   operator: 30\n",
       "   operands: 4\n",
       "3. (a + b, e^{((2 * pi * i * delta) + (2 * pi * i * theta)) * k}, e^{2 * pi * i * b})\n",
       "   core type: ExprTuple\n",
       "   sub-expressions: 7, 5, 6\n",
       "4. (a + b, e^{(((2 * pi * i * delta) + (2 * pi * i * theta)) * k) + (2 * pi * i * b)})\n",
       "   core type: ExprTuple\n",
       "   sub-expressions: 7, 8\n",
       "5. e^{((2 * pi * i * delta) + (2 * pi * i * theta)) * k}\n",
       "   core type: Operation\n",
       "   operator: 12\n",
       "   operands: 9\n",
       "6. e^{2 * pi * i * b}\n",
       "   core type: Operation\n",
       "   operator: 12\n",
       "   operands: 10\n",
       "7. a + b\n",
       "   core type: Operation\n",
       "   operator: 25\n",
       "   operands: 11\n",
       "8. e^{(((2 * pi * i * delta) + (2 * pi * i * theta)) * k) + (2 * pi * i * b)}\n",
       "   core type: Operation\n",
       "   operator: 12\n",
       "   operands: 13\n",
       "9. (e, ((2 * pi * i * delta) + (2 * pi * i * theta)) * k)\n",
       "   core type: ExprTuple\n",
       "   sub-expressions: 15, 18\n",
       "10. (e, 2 * pi * i * b)\n",
       "    core type: ExprTuple\n",
       "    sub-expressions: 15, 19\n",
       "11. (a, b)\n",
       "    core type: ExprTuple\n",
       "    sub-expressions: 14, 24\n",
       "12. Exp\n",
       "    core type: Literal\n",
       "    sub-expressions: \n",
       "13. (e, (((2 * pi * i * delta) + (2 * pi * i * theta)) * k) + (2 * pi * i * b))\n",
       "    core type: ExprTuple\n",
       "    sub-expressions: 15, 16\n",
       "14. a\n",
       "    core type: Variable\n",
       "    sub-expressions: \n",
       "15. e\n",
       "    core type: Literal\n",
       "    sub-expressions: \n",
       "16. (((2 * pi * i * delta) + (2 * pi * i * theta)) * k) + (2 * pi * i * b)\n",
       "    core type: Operation\n",
       "    operator: 25\n",
       "    operands: 17\n",
       "17. (((2 * pi * i * delta) + (2 * pi * i * theta)) * k, 2 * pi * i * b)\n",
       "    core type: ExprTuple\n",
       "    sub-expressions: 18, 19\n",
       "18. ((2 * pi * i * delta) + (2 * pi * i * theta)) * k\n",
       "    core type: Operation\n",
       "    operator: 30\n",
       "    operands: 20\n",
       "19. 2 * pi * i * b\n",
       "    core type: Operation\n",
       "    operator: 30\n",
       "    operands: 21\n",
       "20. ((2 * pi * i * delta) + (2 * pi * i * theta), k)\n",
       "    core type: ExprTuple\n",
       "    sub-expressions: 22, 23\n",
       "21. (2, pi, i, b)\n",
       "    core type: ExprTuple\n",
       "    sub-expressions: 33, 34, 35, 24\n",
       "22. (2 * pi * i * delta) + (2 * pi * i * theta)\n",
       "    core type: Operation\n",
       "    operator: 25\n",
       "    operands: 26\n",
       "23. k\n",
       "    core type: Variable\n",
       "    sub-expressions: \n",
       "24. b\n",
       "    core type: Variable\n",
       "    sub-expressions: \n",
       "25. +\n",
       "    core type: Literal\n",
       "    sub-expressions: \n",
       "26. (2 * pi * i * delta, 2 * pi * i * theta)\n",
       "    core type: ExprTuple\n",
       "    sub-expressions: 27, 28\n",
       "27. 2 * pi * i * delta\n",
       "    core type: Operation\n",
       "    operator: 30\n",
       "    operands: 29\n",
       "28. 2 * pi * i * theta\n",
       "    core type: Operation\n",
       "    operator: 30\n",
       "    operands: 31\n",
       "29. (2, pi, i, delta)\n",
       "    core type: ExprTuple\n",
       "    sub-expressions: 33, 34, 35, 32\n",
       "30. *\n",
       "    core type: Literal\n",
       "    sub-expressions: \n",
       "31. (2, pi, i, theta)\n",
       "    core type: ExprTuple\n",
       "    sub-expressions: 33, 34, 35, 36\n",
       "32. delta\n",
       "    core type: Variable\n",
       "    sub-expressions: \n",
       "33. 2\n",
       "    core type: Literal\n",
       "    sub-expressions: \n",
       "34. pi\n",
       "    core type: Literal\n",
       "    sub-expressions: \n",
       "35. i\n",
       "    core type: Literal\n",
       "    sub-expressions: \n",
       "36. theta\n",
       "    core type: Variable\n",
       "    sub-expressions: "
      ]
     },
     "metadata": {},
     "output_type": "display_data"
    }
   ],
   "source": [
    "# display the expression information\n",
    "stored_expr.expr_info()"
   ]
  },
  {
   "cell_type": "code",
   "execution_count": null,
   "metadata": {},
   "outputs": [],
   "source": []
  }
 ],
 "metadata": {
  "kernelspec": {
   "display_name": "Python 3",
   "language": "python",
   "name": "python3"
  }
 },
 "nbformat": 4,
 "nbformat_minor": 0
}