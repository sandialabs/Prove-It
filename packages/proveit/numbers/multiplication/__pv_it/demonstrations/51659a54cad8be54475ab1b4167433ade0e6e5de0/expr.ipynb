{
 "cells": [
  {
   "cell_type": "markdown",
   "metadata": {},
   "source": [
    "Expression of type <a class=\"ProveItLink\" href=\"../../../../../../../doc/html/api/proveit.ExprTuple.html\">ExprTuple</a>\n",
    "=======================\n",
    "# from the theory of <a class=\"ProveItLink\" href=\"../../../_theory_nbs_/theory.ipynb\">proveit.numbers.multiplication</a>"
   ]
  },
  {
   "cell_type": "code",
   "execution_count": 1,
   "metadata": {},
   "outputs": [],
   "source": [
    "import proveit\n",
    "# Automation is not needed when building an expression:\n",
    "proveit.defaults.automation = False # This will speed things up.\n",
    "proveit.defaults.inline_pngs = False # Makes files smaller.\n",
    "%load_expr # Load the stored expression as 'stored_expr'\n",
    "# import Expression classes needed to build the expression\n",
    "from proveit import ExprTuple, b, d, x, y\n",
    "from proveit.numbers import Mult, subtract"
   ]
  },
  {
   "cell_type": "code",
   "execution_count": 2,
   "metadata": {},
   "outputs": [
    {
     "data": {
      "text/html": [
       "<strong id=\"expr\">expr:</strong> <a class=\"ProveItLink\" href=\"expr.ipynb\"><img src=\"expr.png\" style=\"display:inline;vertical-align:middle;\" /></a><br>"
      ],
      "text/plain": [
       "<IPython.core.display.HTML object>"
      ]
     },
     "metadata": {},
     "output_type": "display_data"
    }
   ],
   "source": [
    "# build up the expression from sub-expressions\n",
    "expr = ExprTuple(Mult(b, subtract(x, y), d), subtract(Mult(b, x, d), Mult(b, y, d)))"
   ]
  },
  {
   "cell_type": "code",
   "execution_count": 3,
   "metadata": {},
   "outputs": [
    {
     "name": "stdout",
     "output_type": "stream",
     "text": [
      "Passed sanity check: expr matches stored_expr\n"
     ]
    }
   ],
   "source": [
    "# check that the built expression is the same as the stored expression\n",
    "assert expr == stored_expr\n",
    "assert expr._style_id == stored_expr._style_id\n",
    "print(\"Passed sanity check: expr matches stored_expr\")"
   ]
  },
  {
   "cell_type": "code",
   "execution_count": 4,
   "metadata": {},
   "outputs": [
    {
     "name": "stdout",
     "output_type": "stream",
     "text": [
      "\\left(b \\cdot \\left(x - y\\right) \\cdot d, \\left(b \\cdot x \\cdot d\\right) - \\left(b \\cdot y \\cdot d\\right)\\right)\n"
     ]
    }
   ],
   "source": [
    "# Show the LaTeX representation of the expression for convenience if you need it.\n",
    "print(stored_expr.latex())"
   ]
  },
  {
   "cell_type": "code",
   "execution_count": 5,
   "metadata": {},
   "outputs": [
    {
     "data": {
      "text/html": [
       "<table>\n",
       "<tr><th>name</th><th>description</th><th>default</th><th>current value</th><th>related methods</th></tr><tr><td>wrap_positions</td><td>position(s) at which wrapping is to occur; 'n' is after the nth comma.</td><td>()</td><td>()</td><td>('with_wrapping_at',)</td></tr>\n",
       "<tr><td>justification</td><td>if any wrap positions are set, justify to the 'left', 'center', or 'right'</td><td>left</td><td>left</td><td>('with_justification',)</td></tr>\n",
       "</table>\n"
      ],
      "text/plain": [
       "style name: wrap_positions\n",
       "description: position(s) at which wrapping is to occur; 'n' is after the nth comma.\n",
       "default: ()\n",
       "current value: ()\n",
       "related methods: ('with_wrapping_at',)\n",
       "style name: justification\n",
       "description: if any wrap positions are set, justify to the 'left', 'center', or 'right'\n",
       "default: left\n",
       "current value: left\n",
       "related methods: ('with_justification',)"
      ]
     },
     "metadata": {},
     "output_type": "display_data"
    }
   ],
   "source": [
    "stored_expr.style_options()"
   ]
  },
  {
   "cell_type": "code",
   "execution_count": 6,
   "metadata": {},
   "outputs": [
    {
     "data": {
      "text/html": [
       "<table><tr><th>&nbsp;</th><th>core type</th><th>sub-expressions</th><th>expression</th></tr>\n",
       "<tr><td>0</td><td>ExprTuple</td><td>1, 2</td><td><a class=\"ProveItLink\" href=\"expr.ipynb\"><img src=\"expr.png\" style=\"display:inline;vertical-align:middle;\" /></a></td></tr>\n",
       "<tr><td>1</td><td>Operation</td><td>operator:&nbsp;17<br>operands:&nbsp;3<br></td><td><a class=\"ProveItLink\" href=\"../f15bd391e70a660db26f2fe2a23092394eb1d15f0/expr.ipynb\"><img src=\"../f15bd391e70a660db26f2fe2a23092394eb1d15f0/expr.png\" style=\"display:inline;vertical-align:middle;\" /></a></td></tr>\n",
       "<tr><td>2</td><td>Operation</td><td>operator:&nbsp;8<br>operands:&nbsp;4<br></td><td><a class=\"ProveItLink\" href=\"../48418ea57cbdda14d65118f1973357153ba61eca0/expr.ipynb\"><img src=\"../48418ea57cbdda14d65118f1973357153ba61eca0/expr.png\" style=\"display:inline;vertical-align:middle;\" /></a></td></tr>\n",
       "<tr><td>3</td><td>ExprTuple</td><td>19, 5, 21</td><td><a class=\"ProveItLink\" href=\"../3fe5cc3bd3370077c58703b48c9977a2394ce1ae0/expr.ipynb\"><img src=\"../3fe5cc3bd3370077c58703b48c9977a2394ce1ae0/expr.png\" style=\"display:inline;vertical-align:middle;\" /></a></td></tr>\n",
       "<tr><td>4</td><td>ExprTuple</td><td>6, 7</td><td><a class=\"ProveItLink\" href=\"../532016ee929cbcc765ce7a3b8c6f3625e73eedcb0/expr.ipynb\"><img src=\"../532016ee929cbcc765ce7a3b8c6f3625e73eedcb0/expr.png\" style=\"display:inline;vertical-align:middle;\" /></a></td></tr>\n",
       "<tr><td>5</td><td>Operation</td><td>operator:&nbsp;8<br>operands:&nbsp;9<br></td><td><a class=\"ProveItLink\" href=\"../../theorems/d53880254fcf8f27e725a455efc285f171faad850/expr.ipynb\"><img src=\"../../theorems/d53880254fcf8f27e725a455efc285f171faad850/expr.png\" style=\"display:inline;vertical-align:middle;\" /></a></td></tr>\n",
       "<tr><td>6</td><td>Operation</td><td>operator:&nbsp;17<br>operands:&nbsp;10<br></td><td><a class=\"ProveItLink\" href=\"../3d83eba7f15f6e0aa8b0d84f16ae542986d78bd10/expr.ipynb\"><img src=\"../3d83eba7f15f6e0aa8b0d84f16ae542986d78bd10/expr.png\" style=\"display:inline;vertical-align:middle;\" /></a></td></tr>\n",
       "<tr><td>7</td><td>Operation</td><td>operator:&nbsp;15<br>operand:&nbsp;14<br></td><td><a class=\"ProveItLink\" href=\"../2ebc0f5c2e740b976989aae2eb6d40675f7d29100/expr.ipynb\"><img src=\"../2ebc0f5c2e740b976989aae2eb6d40675f7d29100/expr.png\" style=\"display:inline;vertical-align:middle;\" /></a></td></tr>\n",
       "<tr><td>8</td><td>Literal</td><td></td><td><a class=\"ProveItLink\" href=\"../../../../addition/__pv_it/common/4b7effaab3619a1c2c38fe2dee8601df8ec714590/expr.ipynb\"><img src=\"../../../../addition/__pv_it/common/4b7effaab3619a1c2c38fe2dee8601df8ec714590/expr.png\" style=\"display:inline;vertical-align:middle;\" /></a></td></tr>\n",
       "<tr><td>9</td><td>ExprTuple</td><td>13, 12</td><td><a class=\"ProveItLink\" href=\"../../theorems/2b2b8ed3e540d542604db8f9dfc894166db266d70/expr.ipynb\"><img src=\"../../theorems/2b2b8ed3e540d542604db8f9dfc894166db266d70/expr.png\" style=\"display:inline;vertical-align:middle;\" /></a></td></tr>\n",
       "<tr><td>10</td><td>ExprTuple</td><td>19, 13, 21</td><td><a class=\"ProveItLink\" href=\"../fb17456d8dbc3bb600866e548438c72768b3d1670/expr.ipynb\"><img src=\"../fb17456d8dbc3bb600866e548438c72768b3d1670/expr.png\" style=\"display:inline;vertical-align:middle;\" /></a></td></tr>\n",
       "<tr><td>11</td><td>ExprTuple</td><td>14</td><td><a class=\"ProveItLink\" href=\"../9af64b24bd7d231a41d9d23c776453c13ac23e2d0/expr.ipynb\"><img src=\"../9af64b24bd7d231a41d9d23c776453c13ac23e2d0/expr.png\" style=\"display:inline;vertical-align:middle;\" /></a></td></tr>\n",
       "<tr><td>12</td><td>Operation</td><td>operator:&nbsp;15<br>operand:&nbsp;20<br></td><td><a class=\"ProveItLink\" href=\"../../theorems/0a7cbf2fc5de552bc7ef54920ebff976c4d732640/expr.ipynb\"><img src=\"../../theorems/0a7cbf2fc5de552bc7ef54920ebff976c4d732640/expr.png\" style=\"display:inline;vertical-align:middle;\" /></a></td></tr>\n",
       "<tr><td>13</td><td>Variable</td><td></td><td><a class=\"ProveItLink\" href=\"../../../../../__pv_it/common/a0d9d672aa5e272d907247690c152cc2c6daafb70/expr.ipynb\"><img src=\"../../../../../__pv_it/common/a0d9d672aa5e272d907247690c152cc2c6daafb70/expr.png\" style=\"display:inline;vertical-align:middle;\" /></a></td></tr>\n",
       "<tr><td>14</td><td>Operation</td><td>operator:&nbsp;17<br>operands:&nbsp;18<br></td><td><a class=\"ProveItLink\" href=\"../dc93aa7376ae1951daae5cf3741feca8b3fd246c0/expr.ipynb\"><img src=\"../dc93aa7376ae1951daae5cf3741feca8b3fd246c0/expr.png\" style=\"display:inline;vertical-align:middle;\" /></a></td></tr>\n",
       "<tr><td>15</td><td>Literal</td><td></td><td><a class=\"ProveItLink\" href=\"../../../../negation/__pv_it/common/221b3c4d1770ee9051b7c044c3f9ec61196fc34b0/expr.ipynb\"><img src=\"../../../../negation/__pv_it/common/221b3c4d1770ee9051b7c044c3f9ec61196fc34b0/expr.png\" style=\"display:inline;vertical-align:middle;\" /></a></td></tr>\n",
       "<tr><td>16</td><td>ExprTuple</td><td>20</td><td><a class=\"ProveItLink\" href=\"../../theorems/c60c4da4d0e362e1aae93eaa5e9af5fbed84db960/expr.ipynb\"><img src=\"../../theorems/c60c4da4d0e362e1aae93eaa5e9af5fbed84db960/expr.png\" style=\"display:inline;vertical-align:middle;\" /></a></td></tr>\n",
       "<tr><td>17</td><td>Literal</td><td></td><td><a class=\"ProveItLink\" href=\"../../common/ed719cef37831779c16481533a4d380a2f95ab270/expr.ipynb\"><img src=\"../../common/ed719cef37831779c16481533a4d380a2f95ab270/expr.png\" style=\"display:inline;vertical-align:middle;\" /></a></td></tr>\n",
       "<tr><td>18</td><td>ExprTuple</td><td>19, 20, 21</td><td><a class=\"ProveItLink\" href=\"../4c91cafedd70bc968707d6023afc3065cff02def0/expr.ipynb\"><img src=\"../4c91cafedd70bc968707d6023afc3065cff02def0/expr.png\" style=\"display:inline;vertical-align:middle;\" /></a></td></tr>\n",
       "<tr><td>19</td><td>Variable</td><td></td><td><a class=\"ProveItLink\" href=\"../../../../../__pv_it/common/195236b98c6c564a75b5dbada74b173bc52d5c3e0/expr.ipynb\"><img src=\"../../../../../__pv_it/common/195236b98c6c564a75b5dbada74b173bc52d5c3e0/expr.png\" style=\"display:inline;vertical-align:middle;\" /></a></td></tr>\n",
       "<tr><td>20</td><td>Variable</td><td></td><td><a class=\"ProveItLink\" href=\"../../../../../__pv_it/common/ff7dba4ef0bbe791ab573bf2d9c220a304399ac80/expr.ipynb\"><img src=\"../../../../../__pv_it/common/ff7dba4ef0bbe791ab573bf2d9c220a304399ac80/expr.png\" style=\"display:inline;vertical-align:middle;\" /></a></td></tr>\n",
       "<tr><td>21</td><td>Variable</td><td></td><td><a class=\"ProveItLink\" href=\"../../../../../__pv_it/common/4f5c524ffda87296de1c79b96880123fe2efedd50/expr.ipynb\"><img src=\"../../../../../__pv_it/common/4f5c524ffda87296de1c79b96880123fe2efedd50/expr.png\" style=\"display:inline;vertical-align:middle;\" /></a></td></tr>\n",
       "</table>\n"
      ],
      "text/plain": [
       "0. (b * (x - y) * d, (b * x * d) - (b * y * d))\n",
       "   core type: ExprTuple\n",
       "   sub-expressions: 1, 2\n",
       "1. b * (x - y) * d\n",
       "   core type: Operation\n",
       "   operator: 17\n",
       "   operands: 3\n",
       "2. (b * x * d) - (b * y * d)\n",
       "   core type: Operation\n",
       "   operator: 8\n",
       "   operands: 4\n",
       "3. (b, x - y, d)\n",
       "   core type: ExprTuple\n",
       "   sub-expressions: 19, 5, 21\n",
       "4. (b * x * d, -(b * y * d))\n",
       "   core type: ExprTuple\n",
       "   sub-expressions: 6, 7\n",
       "5. x - y\n",
       "   core type: Operation\n",
       "   operator: 8\n",
       "   operands: 9\n",
       "6. b * x * d\n",
       "   core type: Operation\n",
       "   operator: 17\n",
       "   operands: 10\n",
       "7. -(b * y * d)\n",
       "   core type: Operation\n",
       "   operator: 15\n",
       "   operand: 14\n",
       "8. +\n",
       "   core type: Literal\n",
       "   sub-expressions: \n",
       "9. (x, -y)\n",
       "   core type: ExprTuple\n",
       "   sub-expressions: 13, 12\n",
       "10. (b, x, d)\n",
       "    core type: ExprTuple\n",
       "    sub-expressions: 19, 13, 21\n",
       "11. (b * y * d)\n",
       "    core type: ExprTuple\n",
       "    sub-expressions: 14\n",
       "12. -y\n",
       "    core type: Operation\n",
       "    operator: 15\n",
       "    operand: 20\n",
       "13. x\n",
       "    core type: Variable\n",
       "    sub-expressions: \n",
       "14. b * y * d\n",
       "    core type: Operation\n",
       "    operator: 17\n",
       "    operands: 18\n",
       "15. -\n",
       "    core type: Literal\n",
       "    sub-expressions: \n",
       "16. (y)\n",
       "    core type: ExprTuple\n",
       "    sub-expressions: 20\n",
       "17. *\n",
       "    core type: Literal\n",
       "    sub-expressions: \n",
       "18. (b, y, d)\n",
       "    core type: ExprTuple\n",
       "    sub-expressions: 19, 20, 21\n",
       "19. b\n",
       "    core type: Variable\n",
       "    sub-expressions: \n",
       "20. y\n",
       "    core type: Variable\n",
       "    sub-expressions: \n",
       "21. d\n",
       "    core type: Variable\n",
       "    sub-expressions: "
      ]
     },
     "metadata": {},
     "output_type": "display_data"
    }
   ],
   "source": [
    "# display the expression information\n",
    "stored_expr.expr_info()"
   ]
  },
  {
   "cell_type": "code",
   "execution_count": null,
   "metadata": {},
   "outputs": [],
   "source": []
  }
 ],
 "metadata": {
  "kernelspec": {
   "display_name": "Python 3",
   "language": "python",
   "name": "python3"
  }
 },
 "nbformat": 4,
 "nbformat_minor": 0
}