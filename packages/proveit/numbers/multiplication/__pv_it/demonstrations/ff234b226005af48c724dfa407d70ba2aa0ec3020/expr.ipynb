{
 "cells": [
  {
   "cell_type": "markdown",
   "metadata": {},
   "source": [
    "Expression of type <a class=\"ProveItLink\" href=\"../../../../../../../doc/html/api/proveit.ExprTuple.html\">ExprTuple</a>\n",
    "=======================\n",
    "# from the theory of <a class=\"ProveItLink\" href=\"../../../_theory_nbs_/theory.ipynb\">proveit.numbers.multiplication</a>"
   ]
  },
  {
   "cell_type": "code",
   "execution_count": 1,
   "metadata": {},
   "outputs": [],
   "source": [
    "import proveit\n",
    "# Automation is not needed when building an expression:\n",
    "proveit.defaults.automation = False # This will speed things up.\n",
    "proveit.defaults.inline_pngs = False # Makes files smaller.\n",
    "%load_expr # Load the stored expression as 'stored_expr'\n",
    "# import Expression classes needed to build the expression\n",
    "from proveit import ExprTuple, delta, k, theta\n",
    "from proveit.numbers import Exp, Mult, e, i, pi, two"
   ]
  },
  {
   "cell_type": "code",
   "execution_count": 2,
   "metadata": {},
   "outputs": [
    {
     "data": {
      "text/html": [
       "<strong id=\"expr\">expr:</strong> <a class=\"ProveItLink\" href=\"expr.ipynb\"><img src=\"expr.png\" style=\"display:inline;vertical-align:middle;\" /></a><br>"
      ],
      "text/plain": [
       "<IPython.core.display.HTML object>"
      ]
     },
     "metadata": {},
     "output_type": "display_data"
    }
   ],
   "source": [
    "# build up the expression from sub-expressions\n",
    "expr = ExprTuple(Mult(Exp(e, Mult(two, pi, i, k, delta)), Exp(e, Mult(two, pi, i, theta, k))), Exp(Mult(Exp(e, Mult(two, pi, i, delta)), Exp(e, Mult(two, pi, i, theta))), k))"
   ]
  },
  {
   "cell_type": "code",
   "execution_count": 3,
   "metadata": {},
   "outputs": [
    {
     "name": "stdout",
     "output_type": "stream",
     "text": [
      "Passed sanity check: expr matches stored_expr\n"
     ]
    }
   ],
   "source": [
    "# check that the built expression is the same as the stored expression\n",
    "assert expr == stored_expr\n",
    "assert expr._style_id == stored_expr._style_id\n",
    "print(\"Passed sanity check: expr matches stored_expr\")"
   ]
  },
  {
   "cell_type": "code",
   "execution_count": 4,
   "metadata": {},
   "outputs": [
    {
     "name": "stdout",
     "output_type": "stream",
     "text": [
      "\\left(\\mathsf{e}^{2 \\cdot \\pi \\cdot \\mathsf{i} \\cdot k \\cdot \\delta} \\cdot \\mathsf{e}^{2 \\cdot \\pi \\cdot \\mathsf{i} \\cdot \\theta \\cdot k}, \\left(\\mathsf{e}^{2 \\cdot \\pi \\cdot \\mathsf{i} \\cdot \\delta} \\cdot \\mathsf{e}^{2 \\cdot \\pi \\cdot \\mathsf{i} \\cdot \\theta}\\right)^{k}\\right)\n"
     ]
    }
   ],
   "source": [
    "# Show the LaTeX representation of the expression for convenience if you need it.\n",
    "print(stored_expr.latex())"
   ]
  },
  {
   "cell_type": "code",
   "execution_count": 5,
   "metadata": {},
   "outputs": [
    {
     "data": {
      "text/html": [
       "<table>\n",
       "<tr><th>name</th><th>description</th><th>default</th><th>current value</th><th>related methods</th></tr><tr><td>wrap_positions</td><td>position(s) at which wrapping is to occur; 'n' is after the nth comma.</td><td>()</td><td>()</td><td>('with_wrapping_at',)</td></tr>\n",
       "<tr><td>justification</td><td>if any wrap positions are set, justify to the 'left', 'center', or 'right'</td><td>left</td><td>left</td><td>('with_justification',)</td></tr>\n",
       "</table>\n"
      ],
      "text/plain": [
       "style name: wrap_positions\n",
       "description: position(s) at which wrapping is to occur; 'n' is after the nth comma.\n",
       "default: ()\n",
       "current value: ()\n",
       "related methods: ('with_wrapping_at',)\n",
       "style name: justification\n",
       "description: if any wrap positions are set, justify to the 'left', 'center', or 'right'\n",
       "default: left\n",
       "current value: left\n",
       "related methods: ('with_justification',)"
      ]
     },
     "metadata": {},
     "output_type": "display_data"
    }
   ],
   "source": [
    "stored_expr.style_options()"
   ]
  },
  {
   "cell_type": "code",
   "execution_count": 6,
   "metadata": {},
   "outputs": [
    {
     "data": {
      "text/html": [
       "<table><tr><th>&nbsp;</th><th>core type</th><th>sub-expressions</th><th>expression</th></tr>\n",
       "<tr><td>0</td><td>ExprTuple</td><td>1, 2</td><td><a class=\"ProveItLink\" href=\"expr.ipynb\"><img src=\"expr.png\" style=\"display:inline;vertical-align:middle;\" /></a></td></tr>\n",
       "<tr><td>1</td><td>Operation</td><td>operator:&nbsp;25<br>operands:&nbsp;3<br></td><td><a class=\"ProveItLink\" href=\"../dc1bc073e3b84271d46683d25b29f8b0bc2da6ac0/expr.ipynb\"><img src=\"../dc1bc073e3b84271d46683d25b29f8b0bc2da6ac0/expr.png\" style=\"display:inline;vertical-align:middle;\" /></a></td></tr>\n",
       "<tr><td>2</td><td>Operation</td><td>operator:&nbsp;18<br>operands:&nbsp;4<br></td><td><a class=\"ProveItLink\" href=\"../35c1785374c30c800ae3575afda5167c29a00f660/expr.ipynb\"><img src=\"../35c1785374c30c800ae3575afda5167c29a00f660/expr.png\" style=\"display:inline;vertical-align:middle;\" /></a></td></tr>\n",
       "<tr><td>3</td><td>ExprTuple</td><td>5, 6</td><td><a class=\"ProveItLink\" href=\"../f1791ae35cc1e4f1796be8907b5c57bb5954331e0/expr.ipynb\"><img src=\"../f1791ae35cc1e4f1796be8907b5c57bb5954331e0/expr.png\" style=\"display:inline;vertical-align:middle;\" /></a></td></tr>\n",
       "<tr><td>4</td><td>ExprTuple</td><td>7, 20</td><td><a class=\"ProveItLink\" href=\"../cade0dc1851de6af8bdd012da219912a2c7b425e0/expr.ipynb\"><img src=\"../cade0dc1851de6af8bdd012da219912a2c7b425e0/expr.png\" style=\"display:inline;vertical-align:middle;\" /></a></td></tr>\n",
       "<tr><td>5</td><td>Operation</td><td>operator:&nbsp;18<br>operands:&nbsp;8<br></td><td><a class=\"ProveItLink\" href=\"../e001124a8a8e38db649d350b5e76d68cc2f90c6b0/expr.ipynb\"><img src=\"../e001124a8a8e38db649d350b5e76d68cc2f90c6b0/expr.png\" style=\"display:inline;vertical-align:middle;\" /></a></td></tr>\n",
       "<tr><td>6</td><td>Operation</td><td>operator:&nbsp;18<br>operands:&nbsp;9<br></td><td><a class=\"ProveItLink\" href=\"../c5389691cd629b05787315059a2db7fd31dae4c80/expr.ipynb\"><img src=\"../c5389691cd629b05787315059a2db7fd31dae4c80/expr.png\" style=\"display:inline;vertical-align:middle;\" /></a></td></tr>\n",
       "<tr><td>7</td><td>Operation</td><td>operator:&nbsp;25<br>operands:&nbsp;10<br></td><td><a class=\"ProveItLink\" href=\"../7afd88e5444485eb92fb1ae5f2374a398ceaa4c70/expr.ipynb\"><img src=\"../7afd88e5444485eb92fb1ae5f2374a398ceaa4c70/expr.png\" style=\"display:inline;vertical-align:middle;\" /></a></td></tr>\n",
       "<tr><td>8</td><td>ExprTuple</td><td>22, 11</td><td><a class=\"ProveItLink\" href=\"../290d91a6dde1c2b30f013710cea20045d28b757a0/expr.ipynb\"><img src=\"../290d91a6dde1c2b30f013710cea20045d28b757a0/expr.png\" style=\"display:inline;vertical-align:middle;\" /></a></td></tr>\n",
       "<tr><td>9</td><td>ExprTuple</td><td>22, 12</td><td><a class=\"ProveItLink\" href=\"../30602344a0ae65fea19948656008a4b4cf8b9d6b0/expr.ipynb\"><img src=\"../30602344a0ae65fea19948656008a4b4cf8b9d6b0/expr.png\" style=\"display:inline;vertical-align:middle;\" /></a></td></tr>\n",
       "<tr><td>10</td><td>ExprTuple</td><td>13, 14</td><td><a class=\"ProveItLink\" href=\"../fc39be5b505d31a1ccd734b9b50ac90867af90d10/expr.ipynb\"><img src=\"../fc39be5b505d31a1ccd734b9b50ac90867af90d10/expr.png\" style=\"display:inline;vertical-align:middle;\" /></a></td></tr>\n",
       "<tr><td>11</td><td>Operation</td><td>operator:&nbsp;25<br>operands:&nbsp;15<br></td><td><a class=\"ProveItLink\" href=\"../db204bdd995163e0ffec746e5656c9e4db6827db0/expr.ipynb\"><img src=\"../db204bdd995163e0ffec746e5656c9e4db6827db0/expr.png\" style=\"display:inline;vertical-align:middle;\" /></a></td></tr>\n",
       "<tr><td>12</td><td>Operation</td><td>operator:&nbsp;25<br>operands:&nbsp;16<br></td><td><a class=\"ProveItLink\" href=\"../65633d5ce7c58900f42b37df032c62ce91395f0f0/expr.ipynb\"><img src=\"../65633d5ce7c58900f42b37df032c62ce91395f0f0/expr.png\" style=\"display:inline;vertical-align:middle;\" /></a></td></tr>\n",
       "<tr><td>13</td><td>Operation</td><td>operator:&nbsp;18<br>operands:&nbsp;17<br></td><td><a class=\"ProveItLink\" href=\"../76e2b00d2118859cd9a5ba3da279684dae9b887f0/expr.ipynb\"><img src=\"../76e2b00d2118859cd9a5ba3da279684dae9b887f0/expr.png\" style=\"display:inline;vertical-align:middle;\" /></a></td></tr>\n",
       "<tr><td>14</td><td>Operation</td><td>operator:&nbsp;18<br>operands:&nbsp;19<br></td><td><a class=\"ProveItLink\" href=\"../ea01f6efbf64daaf08ecd96899c946116ab92ce20/expr.ipynb\"><img src=\"../ea01f6efbf64daaf08ecd96899c946116ab92ce20/expr.png\" style=\"display:inline;vertical-align:middle;\" /></a></td></tr>\n",
       "<tr><td>15</td><td>ExprTuple</td><td>28, 29, 30, 20, 27</td><td><a class=\"ProveItLink\" href=\"../c9ba0813eedceb0345a4097118373d3ea37e9ad40/expr.ipynb\"><img src=\"../c9ba0813eedceb0345a4097118373d3ea37e9ad40/expr.png\" style=\"display:inline;vertical-align:middle;\" /></a></td></tr>\n",
       "<tr><td>16</td><td>ExprTuple</td><td>28, 29, 30, 31, 20</td><td><a class=\"ProveItLink\" href=\"../ae64e2a7ad01cda78499715e59eefb85ae10ca690/expr.ipynb\"><img src=\"../ae64e2a7ad01cda78499715e59eefb85ae10ca690/expr.png\" style=\"display:inline;vertical-align:middle;\" /></a></td></tr>\n",
       "<tr><td>17</td><td>ExprTuple</td><td>22, 21</td><td><a class=\"ProveItLink\" href=\"../fe6fb865c16d9bc92f90366a6ac1447ca72d88d70/expr.ipynb\"><img src=\"../fe6fb865c16d9bc92f90366a6ac1447ca72d88d70/expr.png\" style=\"display:inline;vertical-align:middle;\" /></a></td></tr>\n",
       "<tr><td>18</td><td>Literal</td><td></td><td><a class=\"ProveItLink\" href=\"../../../../exponentiation/__pv_it/common/0ac37aca1e54c35c5cda09672df32d4f69f1f3020/expr.ipynb\"><img src=\"../../../../exponentiation/__pv_it/common/0ac37aca1e54c35c5cda09672df32d4f69f1f3020/expr.png\" style=\"display:inline;vertical-align:middle;\" /></a></td></tr>\n",
       "<tr><td>19</td><td>ExprTuple</td><td>22, 23</td><td><a class=\"ProveItLink\" href=\"../e25e8946ca5c92105c558267a4af1e51678110e70/expr.ipynb\"><img src=\"../e25e8946ca5c92105c558267a4af1e51678110e70/expr.png\" style=\"display:inline;vertical-align:middle;\" /></a></td></tr>\n",
       "<tr><td>20</td><td>Variable</td><td></td><td><a class=\"ProveItLink\" href=\"../../../../../__pv_it/common/63b7c64bf9ec7a04ecc396c7a1670f3f12fb59490/expr.ipynb\"><img src=\"../../../../../__pv_it/common/63b7c64bf9ec7a04ecc396c7a1670f3f12fb59490/expr.png\" style=\"display:inline;vertical-align:middle;\" /></a></td></tr>\n",
       "<tr><td>21</td><td>Operation</td><td>operator:&nbsp;25<br>operands:&nbsp;24<br></td><td><a class=\"ProveItLink\" href=\"../fe02c9826b885f40ef6caf0782171014ae5fc7550/expr.ipynb\"><img src=\"../fe02c9826b885f40ef6caf0782171014ae5fc7550/expr.png\" style=\"display:inline;vertical-align:middle;\" /></a></td></tr>\n",
       "<tr><td>22</td><td>Literal</td><td></td><td><a class=\"ProveItLink\" href=\"../../../../number_sets/real_numbers/__pv_it/common/e531ffa54fd897084533764a4a14f19f590674f80/expr.ipynb\"><img src=\"../../../../number_sets/real_numbers/__pv_it/common/e531ffa54fd897084533764a4a14f19f590674f80/expr.png\" style=\"display:inline;vertical-align:middle;\" /></a></td></tr>\n",
       "<tr><td>23</td><td>Operation</td><td>operator:&nbsp;25<br>operands:&nbsp;26<br></td><td><a class=\"ProveItLink\" href=\"../a30f33fbf3970cf14b1413a1b6eddcd6bf7877f10/expr.ipynb\"><img src=\"../a30f33fbf3970cf14b1413a1b6eddcd6bf7877f10/expr.png\" style=\"display:inline;vertical-align:middle;\" /></a></td></tr>\n",
       "<tr><td>24</td><td>ExprTuple</td><td>28, 29, 30, 27</td><td><a class=\"ProveItLink\" href=\"../b09d4c1cdead62093514622e57923ab8251577600/expr.ipynb\"><img src=\"../b09d4c1cdead62093514622e57923ab8251577600/expr.png\" style=\"display:inline;vertical-align:middle;\" /></a></td></tr>\n",
       "<tr><td>25</td><td>Literal</td><td></td><td><a class=\"ProveItLink\" href=\"../../common/ed719cef37831779c16481533a4d380a2f95ab270/expr.ipynb\"><img src=\"../../common/ed719cef37831779c16481533a4d380a2f95ab270/expr.png\" style=\"display:inline;vertical-align:middle;\" /></a></td></tr>\n",
       "<tr><td>26</td><td>ExprTuple</td><td>28, 29, 30, 31</td><td><a class=\"ProveItLink\" href=\"../fbd2262aede6a0518d1cdb5bb27a7db3aeecffb30/expr.ipynb\"><img src=\"../fbd2262aede6a0518d1cdb5bb27a7db3aeecffb30/expr.png\" style=\"display:inline;vertical-align:middle;\" /></a></td></tr>\n",
       "<tr><td>27</td><td>Variable</td><td></td><td><a class=\"ProveItLink\" href=\"../../../../../__pv_it/common/0743d8a4f4ff93fd50a3189c2a5134398a7bd9d60/expr.ipynb\"><img src=\"../../../../../__pv_it/common/0743d8a4f4ff93fd50a3189c2a5134398a7bd9d60/expr.png\" style=\"display:inline;vertical-align:middle;\" /></a></td></tr>\n",
       "<tr><td>28</td><td>Literal</td><td></td><td><a class=\"ProveItLink\" href=\"../../../../numerals/__pv_it/common/af4aab8a07465db063742696e006d04670f30cf10/expr.ipynb\"><img src=\"../../../../numerals/__pv_it/common/af4aab8a07465db063742696e006d04670f30cf10/expr.png\" style=\"display:inline;vertical-align:middle;\" /></a></td></tr>\n",
       "<tr><td>29</td><td>Literal</td><td></td><td><a class=\"ProveItLink\" href=\"../../../../number_sets/real_numbers/__pv_it/common/246c206266ac5b48800e508d580f91767b24c2df0/expr.ipynb\"><img src=\"../../../../number_sets/real_numbers/__pv_it/common/246c206266ac5b48800e508d580f91767b24c2df0/expr.png\" style=\"display:inline;vertical-align:middle;\" /></a></td></tr>\n",
       "<tr><td>30</td><td>Literal</td><td></td><td><a class=\"ProveItLink\" href=\"../../../../number_sets/complex_numbers/__pv_it/common/6c9cc69d472f352324c298b2318df233e9a7e0250/expr.ipynb\"><img src=\"../../../../number_sets/complex_numbers/__pv_it/common/6c9cc69d472f352324c298b2318df233e9a7e0250/expr.png\" style=\"display:inline;vertical-align:middle;\" /></a></td></tr>\n",
       "<tr><td>31</td><td>Variable</td><td></td><td><a class=\"ProveItLink\" href=\"../../../../../__pv_it/common/b011a4fec64a1c824cf176959ebc716edbf098a10/expr.ipynb\"><img src=\"../../../../../__pv_it/common/b011a4fec64a1c824cf176959ebc716edbf098a10/expr.png\" style=\"display:inline;vertical-align:middle;\" /></a></td></tr>\n",
       "</table>\n"
      ],
      "text/plain": [
       "0. (e^{2 * pi * i * k * delta} * e^{2 * pi * i * theta * k}, (e^{2 * pi * i * delta} * e^{2 * pi * i * theta})^{k})\n",
       "   core type: ExprTuple\n",
       "   sub-expressions: 1, 2\n",
       "1. e^{2 * pi * i * k * delta} * e^{2 * pi * i * theta * k}\n",
       "   core type: Operation\n",
       "   operator: 25\n",
       "   operands: 3\n",
       "2. (e^{2 * pi * i * delta} * e^{2 * pi * i * theta})^{k}\n",
       "   core type: Operation\n",
       "   operator: 18\n",
       "   operands: 4\n",
       "3. (e^{2 * pi * i * k * delta}, e^{2 * pi * i * theta * k})\n",
       "   core type: ExprTuple\n",
       "   sub-expressions: 5, 6\n",
       "4. (e^{2 * pi * i * delta} * e^{2 * pi * i * theta}, k)\n",
       "   core type: ExprTuple\n",
       "   sub-expressions: 7, 20\n",
       "5. e^{2 * pi * i * k * delta}\n",
       "   core type: Operation\n",
       "   operator: 18\n",
       "   operands: 8\n",
       "6. e^{2 * pi * i * theta * k}\n",
       "   core type: Operation\n",
       "   operator: 18\n",
       "   operands: 9\n",
       "7. e^{2 * pi * i * delta} * e^{2 * pi * i * theta}\n",
       "   core type: Operation\n",
       "   operator: 25\n",
       "   operands: 10\n",
       "8. (e, 2 * pi * i * k * delta)\n",
       "   core type: ExprTuple\n",
       "   sub-expressions: 22, 11\n",
       "9. (e, 2 * pi * i * theta * k)\n",
       "   core type: ExprTuple\n",
       "   sub-expressions: 22, 12\n",
       "10. (e^{2 * pi * i * delta}, e^{2 * pi * i * theta})\n",
       "    core type: ExprTuple\n",
       "    sub-expressions: 13, 14\n",
       "11. 2 * pi * i * k * delta\n",
       "    core type: Operation\n",
       "    operator: 25\n",
       "    operands: 15\n",
       "12. 2 * pi * i * theta * k\n",
       "    core type: Operation\n",
       "    operator: 25\n",
       "    operands: 16\n",
       "13. e^{2 * pi * i * delta}\n",
       "    core type: Operation\n",
       "    operator: 18\n",
       "    operands: 17\n",
       "14. e^{2 * pi * i * theta}\n",
       "    core type: Operation\n",
       "    operator: 18\n",
       "    operands: 19\n",
       "15. (2, pi, i, k, delta)\n",
       "    core type: ExprTuple\n",
       "    sub-expressions: 28, 29, 30, 20, 27\n",
       "16. (2, pi, i, theta, k)\n",
       "    core type: ExprTuple\n",
       "    sub-expressions: 28, 29, 30, 31, 20\n",
       "17. (e, 2 * pi * i * delta)\n",
       "    core type: ExprTuple\n",
       "    sub-expressions: 22, 21\n",
       "18. Exp\n",
       "    core type: Literal\n",
       "    sub-expressions: \n",
       "19. (e, 2 * pi * i * theta)\n",
       "    core type: ExprTuple\n",
       "    sub-expressions: 22, 23\n",
       "20. k\n",
       "    core type: Variable\n",
       "    sub-expressions: \n",
       "21. 2 * pi * i * delta\n",
       "    core type: Operation\n",
       "    operator: 25\n",
       "    operands: 24\n",
       "22. e\n",
       "    core type: Literal\n",
       "    sub-expressions: \n",
       "23. 2 * pi * i * theta\n",
       "    core type: Operation\n",
       "    operator: 25\n",
       "    operands: 26\n",
       "24. (2, pi, i, delta)\n",
       "    core type: ExprTuple\n",
       "    sub-expressions: 28, 29, 30, 27\n",
       "25. *\n",
       "    core type: Literal\n",
       "    sub-expressions: \n",
       "26. (2, pi, i, theta)\n",
       "    core type: ExprTuple\n",
       "    sub-expressions: 28, 29, 30, 31\n",
       "27. delta\n",
       "    core type: Variable\n",
       "    sub-expressions: \n",
       "28. 2\n",
       "    core type: Literal\n",
       "    sub-expressions: \n",
       "29. pi\n",
       "    core type: Literal\n",
       "    sub-expressions: \n",
       "30. i\n",
       "    core type: Literal\n",
       "    sub-expressions: \n",
       "31. theta\n",
       "    core type: Variable\n",
       "    sub-expressions: "
      ]
     },
     "metadata": {},
     "output_type": "display_data"
    }
   ],
   "source": [
    "# display the expression information\n",
    "stored_expr.expr_info()"
   ]
  },
  {
   "cell_type": "code",
   "execution_count": null,
   "metadata": {},
   "outputs": [],
   "source": []
  }
 ],
 "metadata": {
  "kernelspec": {
   "display_name": "Python 3",
   "language": "python",
   "name": "python3"
  }
 },
 "nbformat": 4,
 "nbformat_minor": 0
}