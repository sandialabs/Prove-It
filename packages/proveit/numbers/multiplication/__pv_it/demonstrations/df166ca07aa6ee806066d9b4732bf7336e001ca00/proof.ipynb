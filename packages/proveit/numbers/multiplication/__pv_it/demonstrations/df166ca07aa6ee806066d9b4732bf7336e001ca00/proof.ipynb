{
 "cells": [
  {
   "cell_type": "markdown",
   "metadata": {},
   "source": [
    "Show the Proof\n",
    "========"
   ]
  },
  {
   "cell_type": "code",
   "execution_count": 1,
   "metadata": {},
   "outputs": [
    {
     "data": {
      "text/html": [
       "<table><tr><th>&nbsp;</th><th>step type</th><th>requirements</th><th>statement</th></tr>\n",
       "<tr><td><a name=\"proveit.numbers.multiplication.demonstrations.df166ca07aa6ee806066d9b4732bf7336e001ca00_step0\">0</a></td><td>instantiation</td><td><a href=\"#proveit.numbers.multiplication.demonstrations.df166ca07aa6ee806066d9b4732bf7336e001ca00_step1\">1</a>, <a href=\"#proveit.numbers.multiplication.demonstrations.df166ca07aa6ee806066d9b4732bf7336e001ca00_step2\">2</a></td><td><span style=\"font-size:20px;\"><a class=\"ProveItLink\" href=\"../38be8260be263ca8b59e57b7b7d03d561faffd580/expr.ipynb\"><img src=\"../38be8260be263ca8b59e57b7b7d03d561faffd580/expr.png\" style=\"display:inline;vertical-align:middle;\" /></a>, <a class=\"ProveItLink\" href=\"../70c0ce96202ce28a2e9c2a43dc9603d2926fcf150/expr.ipynb\"><img src=\"../70c0ce96202ce28a2e9c2a43dc9603d2926fcf150/expr.png\" style=\"display:inline;vertical-align:middle;\" /></a> <a class=\"ProveItLink\" href=\"proof.ipynb\" style=\"text-decoration: none\">&nbsp;&#x22A2;&nbsp;&nbsp;</a><a class=\"ProveItLink\" href=\"../584812ba6361863af9c862120356fb24de5452ae0/expr.ipynb\"><img src=\"../584812ba6361863af9c862120356fb24de5452ae0/expr.png\" style=\"display:inline;vertical-align:middle;\" /></a></span></td></tr>\n",
       "<tr><td>&nbsp;</td><td colspan=4 style=\"text-align:left\"><span style=\"font-size:20px;\"><a class=\"ProveItLink\" href=\"../240163a5cdd87b01485b8a5a6a0c76635a8fddb60/expr.ipynb\"><img src=\"../240163a5cdd87b01485b8a5a6a0c76635a8fddb60/expr.png\" style=\"display:inline;vertical-align:middle;\" /></a> : <a class=\"ProveItLink\" href=\"../4cfe42f1ded08b720c8ea53e3f516fe22d4e13130/expr.ipynb\"><img src=\"../4cfe42f1ded08b720c8ea53e3f516fe22d4e13130/expr.png\" style=\"display:inline;vertical-align:middle;\" /></a>, <a class=\"ProveItLink\" href=\"../../../../../__pv_it/common/a0d9d672aa5e272d907247690c152cc2c6daafb70/expr.ipynb\"><img src=\"../../../../../__pv_it/common/a0d9d672aa5e272d907247690c152cc2c6daafb70/expr.png\" style=\"display:inline;vertical-align:middle;\" /></a> : <a class=\"ProveItLink\" href=\"../../../../division/__pv_it/theorems/1eb6e51626d9d861f0780032df08307527355e880/expr.ipynb\"><img src=\"../../../../division/__pv_it/theorems/1eb6e51626d9d861f0780032df08307527355e880/expr.png\" style=\"display:inline;vertical-align:middle;\" /></a>, <a class=\"ProveItLink\" href=\"../../../../../__pv_it/common/ff7dba4ef0bbe791ab573bf2d9c220a304399ac80/expr.ipynb\"><img src=\"../../../../../__pv_it/common/ff7dba4ef0bbe791ab573bf2d9c220a304399ac80/expr.png\" style=\"display:inline;vertical-align:middle;\" /></a> : <a class=\"ProveItLink\" href=\"../41c90159740f9039725db85ee84e47df5842e4c70/expr.ipynb\"><img src=\"../41c90159740f9039725db85ee84e47df5842e4c70/expr.png\" style=\"display:inline;vertical-align:middle;\" /></a></span></td></tr><tr><td><a name=\"proveit.numbers.multiplication.demonstrations.df166ca07aa6ee806066d9b4732bf7336e001ca00_step1\">1</a></td><td>axiom</td><td></td><td><span style=\"font-size:20px;\"> <a class=\"ProveItLink\" href=\"../../../../../logic/equality/_theory_nbs_/axioms.ipynb#substitution\" style=\"text-decoration: none\">&nbsp;&#x22A2;&nbsp;&nbsp;</a><a class=\"ProveItLink\" href=\"../../../../../logic/equality/__pv_it/axioms/b3647e5bced6c805148d96be1aa0946871a946d20/expr.ipynb\"><img src=\"../../../../../logic/equality/__pv_it/axioms/b3647e5bced6c805148d96be1aa0946871a946d20/expr.png\" style=\"display:inline;vertical-align:middle;\" /></a></span></td></tr>\n",
       "<tr><td>&nbsp;</td><td colspan=4 style-\"text-align:left\"><a class=\"ProveItLink\" href=\"../../../../../logic/equality/_theory_nbs_/axioms.ipynb#substitution\">proveit.logic.equality.substitution</a></td></tr><tr><td><a name=\"proveit.numbers.multiplication.demonstrations.df166ca07aa6ee806066d9b4732bf7336e001ca00_step2\">2</a></td><td>instantiation</td><td><a href=\"#proveit.numbers.multiplication.demonstrations.df166ca07aa6ee806066d9b4732bf7336e001ca00_step3\">3</a>, <a href=\"#proveit.numbers.multiplication.demonstrations.df166ca07aa6ee806066d9b4732bf7336e001ca00_step4\">4</a>, <a href=\"#proveit.numbers.multiplication.demonstrations.df166ca07aa6ee806066d9b4732bf7336e001ca00_step5\">5</a></td><td><span style=\"font-size:20px;\"><a class=\"ProveItLink\" href=\"../38be8260be263ca8b59e57b7b7d03d561faffd580/expr.ipynb\"><img src=\"../38be8260be263ca8b59e57b7b7d03d561faffd580/expr.png\" style=\"display:inline;vertical-align:middle;\" /></a>, <a class=\"ProveItLink\" href=\"../70c0ce96202ce28a2e9c2a43dc9603d2926fcf150/expr.ipynb\"><img src=\"../70c0ce96202ce28a2e9c2a43dc9603d2926fcf150/expr.png\" style=\"display:inline;vertical-align:middle;\" /></a> <a class=\"ProveItLink\" href=\"../79fb63b6581c4aa781e49ab6995873b16fe4bb5a0/proof.ipynb\" style=\"text-decoration: none\">&nbsp;&#x22A2;&nbsp;&nbsp;</a><a class=\"ProveItLink\" href=\"../2a87eb6c7a033f3b08893951bf81d1e72302ccee0/expr.ipynb\"><img src=\"../2a87eb6c7a033f3b08893951bf81d1e72302ccee0/expr.png\" style=\"display:inline;vertical-align:middle;\" /></a></span></td></tr>\n",
       "<tr><td>&nbsp;</td><td colspan=4 style=\"text-align:left\"><span style=\"font-size:20px;\"><a class=\"ProveItLink\" href=\"../../../../../__pv_it/common/c06c606ec12678c58933ac85412ecadc2ae28be60/expr.ipynb\"><img src=\"../../../../../__pv_it/common/c06c606ec12678c58933ac85412ecadc2ae28be60/expr.png\" style=\"display:inline;vertical-align:middle;\" /></a> : <a class=\"ProveItLink\" href=\"../../../../../__pv_it/common/95a8f6b9b9f29b83f192ad7fd05708d6be097a3f0/expr.ipynb\"><img src=\"../../../../../__pv_it/common/95a8f6b9b9f29b83f192ad7fd05708d6be097a3f0/expr.png\" style=\"display:inline;vertical-align:middle;\" /></a>, <a class=\"ProveItLink\" href=\"../../../../../__pv_it/common/195236b98c6c564a75b5dbada74b173bc52d5c3e0/expr.ipynb\"><img src=\"../../../../../__pv_it/common/195236b98c6c564a75b5dbada74b173bc52d5c3e0/expr.png\" style=\"display:inline;vertical-align:middle;\" /></a> : <a class=\"ProveItLink\" href=\"../../../../../__pv_it/common/d365663894822dede40e6e04c77860068334d0820/expr.ipynb\"><img src=\"../../../../../__pv_it/common/d365663894822dede40e6e04c77860068334d0820/expr.png\" style=\"display:inline;vertical-align:middle;\" /></a></span></td></tr><tr><td><a name=\"proveit.numbers.multiplication.demonstrations.df166ca07aa6ee806066d9b4732bf7336e001ca00_step3\">3</a></td><td>theorem</td><td></td><td><span style=\"font-size:20px;\"> <a class=\"ProveItLink\" href=\"../../../_theory_nbs_/proofs/commutation/thm_proof.ipynb\" style=\"text-decoration: none\">&nbsp;&#x22A2;&nbsp;&nbsp;</a><a class=\"ProveItLink\" href=\"../../theorems/0a0123d3fbec63701d64ff1653dd57fc1f98f5750/expr.ipynb\"><img src=\"../../theorems/0a0123d3fbec63701d64ff1653dd57fc1f98f5750/expr.png\" style=\"display:inline;vertical-align:middle;\" /></a></span></td></tr>\n",
       "<tr><td>&nbsp;</td><td colspan=4 style-\"text-align:left\"><a class=\"ProveItLink\" href=\"../../../_theory_nbs_/proofs/commutation/thm_proof.ipynb\">proveit.numbers.multiplication.commutation</a></td></tr><tr><td><a name=\"proveit.numbers.multiplication.demonstrations.df166ca07aa6ee806066d9b4732bf7336e001ca00_step4\">4</a></td><td>assumption</td><td></td><td><span style=\"font-size:20px;\"><a class=\"ProveItLink\" href=\"../38be8260be263ca8b59e57b7b7d03d561faffd580/expr.ipynb\"><img src=\"../38be8260be263ca8b59e57b7b7d03d561faffd580/expr.png\" style=\"display:inline;vertical-align:middle;\" /></a> <a class=\"ProveItLink\" href=\"../5114a92ab0bb892378eec9ff727e24e672f5e0b20/proof.ipynb\" style=\"text-decoration: none\">&nbsp;&#x22A2;&nbsp;&nbsp;</a><a class=\"ProveItLink\" href=\"../38be8260be263ca8b59e57b7b7d03d561faffd580/expr.ipynb\"><img src=\"../38be8260be263ca8b59e57b7b7d03d561faffd580/expr.png\" style=\"display:inline;vertical-align:middle;\" /></a></span></td></tr>\n",
       "<tr><td><a name=\"proveit.numbers.multiplication.demonstrations.df166ca07aa6ee806066d9b4732bf7336e001ca00_step5\">5</a></td><td>assumption</td><td></td><td><span style=\"font-size:20px;\"><a class=\"ProveItLink\" href=\"../70c0ce96202ce28a2e9c2a43dc9603d2926fcf150/expr.ipynb\"><img src=\"../70c0ce96202ce28a2e9c2a43dc9603d2926fcf150/expr.png\" style=\"display:inline;vertical-align:middle;\" /></a> <a class=\"ProveItLink\" href=\"../4c2f46f748a95e41027143f2d0e77110bfbdb4750/proof.ipynb\" style=\"text-decoration: none\">&nbsp;&#x22A2;&nbsp;&nbsp;</a><a class=\"ProveItLink\" href=\"../70c0ce96202ce28a2e9c2a43dc9603d2926fcf150/expr.ipynb\"><img src=\"../70c0ce96202ce28a2e9c2a43dc9603d2926fcf150/expr.png\" style=\"display:inline;vertical-align:middle;\" /></a></span></td></tr>\n",
       "</table>"
      ],
      "text/plain": [
       "<proveit._core_.proof._ShowProof at 0x7f3e45dca588>"
      ]
     },
     "execution_count": 1,
     "metadata": {},
     "output_type": "execute_result"
    }
   ],
   "source": [
    "import proveit\n",
    "# Automation is not needed when only showing a stored proof:\n",
    "proveit.defaults.automation = False # This will speed things up.\n",
    "proveit.defaults.inline_pngs = False # Makes files smaller.\n",
    "%show_proof"
   ]
  },
  {
   "cell_type": "code",
   "execution_count": null,
   "metadata": {},
   "outputs": [],
   "source": []
  }
 ],
 "metadata": {
  "kernelspec": {
   "display_name": "Python 3",
   "language": "python",
   "name": "python3"
  }
 },
 "nbformat": 4,
 "nbformat_minor": 0
}