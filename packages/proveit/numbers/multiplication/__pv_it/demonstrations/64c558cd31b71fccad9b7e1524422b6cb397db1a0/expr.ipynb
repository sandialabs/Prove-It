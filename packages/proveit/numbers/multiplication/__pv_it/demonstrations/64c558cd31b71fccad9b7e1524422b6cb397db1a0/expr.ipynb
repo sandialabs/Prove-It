{
 "cells": [
  {
   "cell_type": "markdown",
   "metadata": {},
   "source": [
    "Expression of type <a class=\"ProveItLink\" href=\"../../../../../../../doc/html/api/proveit.ExprTuple.html\">ExprTuple</a>\n",
    "=======================\n",
    "# from the theory of <a class=\"ProveItLink\" href=\"../../../_theory_nbs_/theory.ipynb\">proveit.numbers.multiplication</a>"
   ]
  },
  {
   "cell_type": "code",
   "execution_count": 1,
   "metadata": {},
   "outputs": [],
   "source": [
    "import proveit\n",
    "# Automation is not needed when building an expression:\n",
    "proveit.defaults.automation = False # This will speed things up.\n",
    "proveit.defaults.inline_pngs = False # Makes files smaller.\n",
    "%load_expr # Load the stored expression as 'stored_expr'\n",
    "# import Expression classes needed to build the expression\n",
    "from proveit import ExprTuple, a, b\n",
    "from proveit.numbers import Mult, frac, one"
   ]
  },
  {
   "cell_type": "code",
   "execution_count": 2,
   "metadata": {},
   "outputs": [
    {
     "data": {
      "text/html": [
       "<strong id=\"expr\">expr:</strong> <a class=\"ProveItLink\" href=\"expr.ipynb\"><img src=\"expr.png\" style=\"display:inline;vertical-align:middle;\" /></a><br>"
      ],
      "text/plain": [
       "<IPython.core.display.HTML object>"
      ]
     },
     "metadata": {},
     "output_type": "display_data"
    }
   ],
   "source": [
    "# build up the expression from sub-expressions\n",
    "expr = ExprTuple(Mult(Mult(b, a), frac(one, a)), Mult(frac(b, one), frac(one, one)))"
   ]
  },
  {
   "cell_type": "code",
   "execution_count": 3,
   "metadata": {},
   "outputs": [
    {
     "name": "stdout",
     "output_type": "stream",
     "text": [
      "Passed sanity check: expr matches stored_expr\n"
     ]
    }
   ],
   "source": [
    "# check that the built expression is the same as the stored expression\n",
    "assert expr == stored_expr\n",
    "assert expr._style_id == stored_expr._style_id\n",
    "print(\"Passed sanity check: expr matches stored_expr\")"
   ]
  },
  {
   "cell_type": "code",
   "execution_count": 4,
   "metadata": {},
   "outputs": [
    {
     "name": "stdout",
     "output_type": "stream",
     "text": [
      "\\left(\\left(b \\cdot a\\right) \\cdot \\frac{1}{a}, \\frac{b}{1} \\cdot \\frac{1}{1}\\right)\n"
     ]
    }
   ],
   "source": [
    "# Show the LaTeX representation of the expression for convenience if you need it.\n",
    "print(stored_expr.latex())"
   ]
  },
  {
   "cell_type": "code",
   "execution_count": 5,
   "metadata": {},
   "outputs": [
    {
     "data": {
      "text/html": [
       "<table>\n",
       "<tr><th>name</th><th>description</th><th>default</th><th>current value</th><th>related methods</th></tr><tr><td>wrap_positions</td><td>position(s) at which wrapping is to occur; 'n' is after the nth comma.</td><td>()</td><td>()</td><td>('with_wrapping_at',)</td></tr>\n",
       "<tr><td>justification</td><td>if any wrap positions are set, justify to the 'left', 'center', or 'right'</td><td>left</td><td>left</td><td>('with_justification',)</td></tr>\n",
       "</table>\n"
      ],
      "text/plain": [
       "style name: wrap_positions\n",
       "description: position(s) at which wrapping is to occur; 'n' is after the nth comma.\n",
       "default: ()\n",
       "current value: ()\n",
       "related methods: ('with_wrapping_at',)\n",
       "style name: justification\n",
       "description: if any wrap positions are set, justify to the 'left', 'center', or 'right'\n",
       "default: left\n",
       "current value: left\n",
       "related methods: ('with_justification',)"
      ]
     },
     "metadata": {},
     "output_type": "display_data"
    }
   ],
   "source": [
    "stored_expr.style_options()"
   ]
  },
  {
   "cell_type": "code",
   "execution_count": 6,
   "metadata": {},
   "outputs": [
    {
     "data": {
      "text/html": [
       "<table><tr><th>&nbsp;</th><th>core type</th><th>sub-expressions</th><th>expression</th></tr>\n",
       "<tr><td>0</td><td>ExprTuple</td><td>1, 2</td><td><a class=\"ProveItLink\" href=\"expr.ipynb\"><img src=\"expr.png\" style=\"display:inline;vertical-align:middle;\" /></a></td></tr>\n",
       "<tr><td>1</td><td>Operation</td><td>operator:&nbsp;9<br>operands:&nbsp;3<br></td><td><a class=\"ProveItLink\" href=\"../d3ab478b049ffe2497b20f0276d3a07957bece230/expr.ipynb\"><img src=\"../d3ab478b049ffe2497b20f0276d3a07957bece230/expr.png\" style=\"display:inline;vertical-align:middle;\" /></a></td></tr>\n",
       "<tr><td>2</td><td>Operation</td><td>operator:&nbsp;9<br>operands:&nbsp;4<br></td><td><a class=\"ProveItLink\" href=\"../49cccb039befbb8ea0b9d358b6ba019dde715d300/expr.ipynb\"><img src=\"../49cccb039befbb8ea0b9d358b6ba019dde715d300/expr.png\" style=\"display:inline;vertical-align:middle;\" /></a></td></tr>\n",
       "<tr><td>3</td><td>ExprTuple</td><td>5, 6</td><td><a class=\"ProveItLink\" href=\"../68448d9d8a6369716581b7944711e6a668bdb7e30/expr.ipynb\"><img src=\"../68448d9d8a6369716581b7944711e6a668bdb7e30/expr.png\" style=\"display:inline;vertical-align:middle;\" /></a></td></tr>\n",
       "<tr><td>4</td><td>ExprTuple</td><td>7, 8</td><td><a class=\"ProveItLink\" href=\"../8a722a7e96e241d2fc2a05d97bf8def2e3dba28c0/expr.ipynb\"><img src=\"../8a722a7e96e241d2fc2a05d97bf8def2e3dba28c0/expr.png\" style=\"display:inline;vertical-align:middle;\" /></a></td></tr>\n",
       "<tr><td>5</td><td>Operation</td><td>operator:&nbsp;9<br>operands:&nbsp;10<br></td><td><a class=\"ProveItLink\" href=\"../../theorems/c8c98bce753d5a1c538a787a95858b99708292e60/expr.ipynb\"><img src=\"../../theorems/c8c98bce753d5a1c538a787a95858b99708292e60/expr.png\" style=\"display:inline;vertical-align:middle;\" /></a></td></tr>\n",
       "<tr><td>6</td><td>Operation</td><td>operator:&nbsp;13<br>operands:&nbsp;11<br></td><td><a class=\"ProveItLink\" href=\"../216446721c01b3120126c0bd68a6357d62bf678f0/expr.ipynb\"><img src=\"../216446721c01b3120126c0bd68a6357d62bf678f0/expr.png\" style=\"display:inline;vertical-align:middle;\" /></a></td></tr>\n",
       "<tr><td>7</td><td>Operation</td><td>operator:&nbsp;13<br>operands:&nbsp;12<br></td><td><a class=\"ProveItLink\" href=\"../00034b50810df695f8c1d3af95e5ddfaf639a2bc0/expr.ipynb\"><img src=\"../00034b50810df695f8c1d3af95e5ddfaf639a2bc0/expr.png\" style=\"display:inline;vertical-align:middle;\" /></a></td></tr>\n",
       "<tr><td>8</td><td>Operation</td><td>operator:&nbsp;13<br>operands:&nbsp;14<br></td><td><a class=\"ProveItLink\" href=\"../31bd643a69455bb7390e964eda2b2de386ab22820/expr.ipynb\"><img src=\"../31bd643a69455bb7390e964eda2b2de386ab22820/expr.png\" style=\"display:inline;vertical-align:middle;\" /></a></td></tr>\n",
       "<tr><td>9</td><td>Literal</td><td></td><td><a class=\"ProveItLink\" href=\"../../common/ed719cef37831779c16481533a4d380a2f95ab270/expr.ipynb\"><img src=\"../../common/ed719cef37831779c16481533a4d380a2f95ab270/expr.png\" style=\"display:inline;vertical-align:middle;\" /></a></td></tr>\n",
       "<tr><td>10</td><td>ExprTuple</td><td>16, 15</td><td><a class=\"ProveItLink\" href=\"../../theorems/cb8a0f010497603ed946ad30fd4266f3ff7bab730/expr.ipynb\"><img src=\"../../theorems/cb8a0f010497603ed946ad30fd4266f3ff7bab730/expr.png\" style=\"display:inline;vertical-align:middle;\" /></a></td></tr>\n",
       "<tr><td>11</td><td>ExprTuple</td><td>17, 15</td><td><a class=\"ProveItLink\" href=\"../c6d85f532ec5cb789b4fa75a0272e267fe9ddca70/expr.ipynb\"><img src=\"../c6d85f532ec5cb789b4fa75a0272e267fe9ddca70/expr.png\" style=\"display:inline;vertical-align:middle;\" /></a></td></tr>\n",
       "<tr><td>12</td><td>ExprTuple</td><td>16, 17</td><td><a class=\"ProveItLink\" href=\"../785f25e3398d9efe89e724aefea92dc0142fbb340/expr.ipynb\"><img src=\"../785f25e3398d9efe89e724aefea92dc0142fbb340/expr.png\" style=\"display:inline;vertical-align:middle;\" /></a></td></tr>\n",
       "<tr><td>13</td><td>Literal</td><td></td><td><a class=\"ProveItLink\" href=\"../../../../division/__pv_it/common/a2a633e1e3c749fb1f2692466b287b6348c5de840/expr.ipynb\"><img src=\"../../../../division/__pv_it/common/a2a633e1e3c749fb1f2692466b287b6348c5de840/expr.png\" style=\"display:inline;vertical-align:middle;\" /></a></td></tr>\n",
       "<tr><td>14</td><td>ExprTuple</td><td>17, 17</td><td><a class=\"ProveItLink\" href=\"../63ccaf78288b178cb813bdb55498aa1097f155420/expr.ipynb\"><img src=\"../63ccaf78288b178cb813bdb55498aa1097f155420/expr.png\" style=\"display:inline;vertical-align:middle;\" /></a></td></tr>\n",
       "<tr><td>15</td><td>Variable</td><td></td><td><a class=\"ProveItLink\" href=\"../../../../../__pv_it/common/c06c606ec12678c58933ac85412ecadc2ae28be60/expr.ipynb\"><img src=\"../../../../../__pv_it/common/c06c606ec12678c58933ac85412ecadc2ae28be60/expr.png\" style=\"display:inline;vertical-align:middle;\" /></a></td></tr>\n",
       "<tr><td>16</td><td>Variable</td><td></td><td><a class=\"ProveItLink\" href=\"../../../../../__pv_it/common/195236b98c6c564a75b5dbada74b173bc52d5c3e0/expr.ipynb\"><img src=\"../../../../../__pv_it/common/195236b98c6c564a75b5dbada74b173bc52d5c3e0/expr.png\" style=\"display:inline;vertical-align:middle;\" /></a></td></tr>\n",
       "<tr><td>17</td><td>Literal</td><td></td><td><a class=\"ProveItLink\" href=\"../../../../numerals/__pv_it/common/682157d4892d216d9e5626ed533aff9b56b9506e0/expr.ipynb\"><img src=\"../../../../numerals/__pv_it/common/682157d4892d216d9e5626ed533aff9b56b9506e0/expr.png\" style=\"display:inline;vertical-align:middle;\" /></a></td></tr>\n",
       "</table>\n"
      ],
      "text/plain": [
       "0. ((b * a) * (1 / a), (b / 1) * (1 / 1))\n",
       "   core type: ExprTuple\n",
       "   sub-expressions: 1, 2\n",
       "1. (b * a) * (1 / a)\n",
       "   core type: Operation\n",
       "   operator: 9\n",
       "   operands: 3\n",
       "2. (b / 1) * (1 / 1)\n",
       "   core type: Operation\n",
       "   operator: 9\n",
       "   operands: 4\n",
       "3. (b * a, 1 / a)\n",
       "   core type: ExprTuple\n",
       "   sub-expressions: 5, 6\n",
       "4. (b / 1, 1 / 1)\n",
       "   core type: ExprTuple\n",
       "   sub-expressions: 7, 8\n",
       "5. b * a\n",
       "   core type: Operation\n",
       "   operator: 9\n",
       "   operands: 10\n",
       "6. 1 / a\n",
       "   core type: Operation\n",
       "   operator: 13\n",
       "   operands: 11\n",
       "7. b / 1\n",
       "   core type: Operation\n",
       "   operator: 13\n",
       "   operands: 12\n",
       "8. 1 / 1\n",
       "   core type: Operation\n",
       "   operator: 13\n",
       "   operands: 14\n",
       "9. *\n",
       "   core type: Literal\n",
       "   sub-expressions: \n",
       "10. (b, a)\n",
       "    core type: ExprTuple\n",
       "    sub-expressions: 16, 15\n",
       "11. (1, a)\n",
       "    core type: ExprTuple\n",
       "    sub-expressions: 17, 15\n",
       "12. (b, 1)\n",
       "    core type: ExprTuple\n",
       "    sub-expressions: 16, 17\n",
       "13. /\n",
       "    core type: Literal\n",
       "    sub-expressions: \n",
       "14. (1, 1)\n",
       "    core type: ExprTuple\n",
       "    sub-expressions: 17, 17\n",
       "15. a\n",
       "    core type: Variable\n",
       "    sub-expressions: \n",
       "16. b\n",
       "    core type: Variable\n",
       "    sub-expressions: \n",
       "17. 1\n",
       "    core type: Literal\n",
       "    sub-expressions: "
      ]
     },
     "metadata": {},
     "output_type": "display_data"
    }
   ],
   "source": [
    "# display the expression information\n",
    "stored_expr.expr_info()"
   ]
  },
  {
   "cell_type": "code",
   "execution_count": null,
   "metadata": {},
   "outputs": [],
   "source": []
  }
 ],
 "metadata": {
  "kernelspec": {
   "display_name": "Python 3",
   "language": "python",
   "name": "python3"
  }
 },
 "nbformat": 4,
 "nbformat_minor": 0
}