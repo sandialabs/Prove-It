{
 "cells": [
  {
   "cell_type": "markdown",
   "metadata": {},
   "source": [
    "Axioms for the theory of <a class=\"ProveItLink\" href=\"theory.ipynb\">proveit.numbers.multiplication</a>\n",
    "========"
   ]
  },
  {
   "cell_type": "code",
   "execution_count": null,
   "metadata": {},
   "outputs": [],
   "source": [
    "import proveit\n",
    "# Prepare this notebook for defining the axioms of a theory:\n",
    "%axioms_notebook # Keep this at the top following 'import proveit'.\n",
    "from proveit import ExprRange\n",
    "from proveit.logic import Forall, Equals, Set\n",
    "from proveit import a, b, k, n, x\n",
    "from proveit.core_expr_types import a_1_to_n\n",
    "from proveit.numbers import one, two, Mult, Add, Complex, Natural, Exp"
   ]
  },
  {
   "cell_type": "code",
   "execution_count": null,
   "metadata": {},
   "outputs": [],
   "source": [
    "%begin axioms"
   ]
  },
  {
   "cell_type": "code",
   "execution_count": null,
   "metadata": {},
   "outputs": [],
   "source": [
    "mult_def = \\\n",
    "    Forall((n, x), Equals(Mult(n, x), Add(ExprRange(k, x, one, n))),\n",
    "           domains=(Natural, Complex))"
   ]
  },
  {
   "cell_type": "code",
   "execution_count": null,
   "metadata": {},
   "outputs": [],
   "source": [
    "empty_mult = Equals(Mult(), one)"
   ]
  },
  {
   "cell_type": "code",
   "execution_count": null,
   "metadata": {},
   "outputs": [],
   "source": [
    "multi_mult_def = \\\n",
    "    Forall(n, Forall((a_1_to_n, b), \n",
    "                     Equals(Mult(a_1_to_n, b), Mult(Mult(a_1_to_n), b)),\n",
    "                     domain=Complex),\n",
    "           domain=Natural)"
   ]
  },
  {
   "cell_type": "code",
   "execution_count": null,
   "metadata": {},
   "outputs": [],
   "source": [
    "%end axioms"
   ]
  },
  {
   "cell_type": "code",
   "execution_count": null,
   "metadata": {},
   "outputs": [],
   "source": []
  }
 ],
 "metadata": {
  "kernelspec": {
   "display_name": "Python 3",
   "language": "python",
   "name": "python3"
  }
 },
 "nbformat": 4,
 "nbformat_minor": 0
}
