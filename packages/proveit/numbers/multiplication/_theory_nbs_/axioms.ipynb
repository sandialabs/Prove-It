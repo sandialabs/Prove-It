{
 "cells": [
  {
   "cell_type": "markdown",
   "metadata": {},
   "source": [
    "Axioms for the theory of <a class=\"ProveItLink\" href=\"theory.ipynb\">proveit.numbers.multiplication</a>\n",
    "========"
   ]
  },
  {
   "cell_type": "code",
   "execution_count": 1,
   "metadata": {},
   "outputs": [],
   "source": [
    "import proveit\n",
    "# Prepare this notebook for defining the axioms of a theory:\n",
    "%axioms_notebook # Keep this at the top following 'import proveit'.\n",
    "from proveit import ExprRange\n",
    "from proveit.logic import Forall, Equals, Set\n",
    "from proveit import a, b, k, n, x\n",
    "from proveit.core_expr_types import a_1_to_n\n",
    "from proveit.numbers import one, two, Mult, Add, Complex, Natural, Exp"
   ]
  },
  {
   "cell_type": "code",
   "execution_count": 2,
   "metadata": {},
   "outputs": [
    {
     "name": "stdout",
     "output_type": "stream",
     "text": [
      "Defining axioms for theory 'proveit.numbers.multiplication'\n",
      "Subsequent end-of-cell assignments will define axioms\n",
      "%end_axioms will finalize the definitions\n"
     ]
    }
   ],
   "source": [
    "%begin axioms"
   ]
  },
  {
   "cell_type": "code",
   "execution_count": 3,
   "metadata": {},
   "outputs": [
    {
     "data": {
      "text/html": [
       "<strong id=\"mult_def\">mult_def:</strong> <a class=\"ProveItLink\" href=\"../__pv_it/axioms/e8a98c4d45fbb6b38a411cde9fe5c4819bf86f110/axiom_expr.ipynb\"><img src=\"data:image/png;base64,iVBORw0KGgoAAAANSUhEUgAAAbAAAAAWBAMAAABTUtReAAAAMFBMVEX///8AAAAAAAAAAAAAAAAA\n",
       "AAAAAAAAAAAAAAAAAAAAAAAAAAAAAAAAAAAAAAAAAAAv3aB7AAAAD3RSTlMAq1RmmUTNIjK7EInv\n",
       "3XZ/CtNrAAAACXBIWXMAAA7EAAAOxAGVKw4bAAAEkElEQVRYw9VYXWgUVxQ+Ozub2cwmcYtPSgkr\n",
       "/TFgG4N/pbbUhaTW0loWfSk02oAPYkEYH9OadPtQkFo1ikGnhXSqUpoG7CrtgwiyPghFa40hygou\n",
       "bPxFhTS0VMUXe86d2bl3Z+5dZ/rWw55lZs7dc7/v3HPOvbMAMcVCNWQGQzU6jhhN543swoDY0pHD\n",
       "rxsyS6qmGB1Hbigtm6O6IBykWbp5IfLMS1C1ktR0Uz46jsg9G6ffLUBHT1QnN119m663Rv2ROYBf\n",
       "P8htLY50dByRez4G2l8An0R1QjhQv6CQjET9kU5x65XbknnpaJ4j4ZhvDNzLPf+ZMx8CrFCj2hjC\n",
       "gUr8MpFLoY2+ygrjeelonmfhIuwO3Ms99xcAibU5SlTdYRznIYlxbImcKy8TQFWCbZGNjkNM6Vn7\n",
       "G0GyBU9YkgTrDuNAvVitXohM7D1KMKzwzQs/u8dxHp/58TQu+gnZaM8mEDNnF+4+KUUU9uzJJiSV\n",
       "YW3OqAAMFRXEBByo6wC+iUyMgkGhK+2vmY/8p/mOTn0SYBUDV2WSrY/2bAIxHWZq66XEwp5d2fsc\n",
       "Ukm6yzlUJG5yYgIO1B1gZMXeOv0rvJlt3I0Odg57l1Oo7TlIFa6B8divViv5JIGYXglOOMVtArHX\n",
       "YI0zX0os5NlPReyKmluARiW0YHU3Ig7UVidT8EOzYBQWZRzdr9P0jF0w91vat979OWoJBTDNf0B7\n",
       "Qmn1kAaBzqK5LzjhOW7Dhbx+0V3IIqxl1vXV6u/V6mWx2Yiet7OV90hcciA9514OBRaMuxFx7KNA\n",
       "+r1DX0ebdS2f8X/Vh44zxwHeaCQG2hwkmJNpFxFbjH4JsbqtoXn8oaj6Bs9cdgF8h2tZlhMT3XAc\n",
       "pANv4Sr27r3lnR26XhpmxGbfuWWx7f7ol/zw5aUizT2vh/ffjy0Tb14N1tgUt4nEUo/gJ1UqBj2T\n",
       "PHWImDb5rFQUcZCexD39aH9Pm2WyNtqVOfIRFZa1oCU3Tg8WL+YuxlBbEWBbCZY69fPPeOF5oFi8\n",
       "HpxwjNs4MXM0UYaSlFjIsytnWSomR57VPEQcpDsxup/egXmOezTogvw9qkQYS7tb+urV3AV1Uuq7\n",
       "nxfhTrIeuaVfvQ8bvO7eICe4jRPTHh8rp3INiLBSWbGGPLuynO1jeqmx3f88QB/RjYiDNEHjOjEr\n",
       "k9ts+wASm3CLDpvuKtu2c7s+5HPsoRrFnNgE8P0y/yw3q/US0itBYnu4TVixD2ovLgvk0LRbrCHP\n",
       "Xur24SEY2lmLI7AG49Oep4/oRsThY/kN+tLpkrtiKTYwXTZgN11Q8zDrVUBBqChehCaDT9qLMY9U\n",
       "lSZb6BBEPFIRDh+LMQeVLnejXgkwAxOwMzOg41ZAtl8sOCMedFc0OSA3ORZHOAQ3Oeiqjt5hN4TD\n",
       "x5LKwoMeGMQIp69akICvc/rtM/fBOEzGiW0H/dAfohqXv80Ohh8divna0qp+T47+BjIYxmKeske9\n",
       "S68uJmy70DCE+qQpn0PCYjwmMXPkv3CW4FBGNKV6RzCoUIalfxpYitFxZFhpuRv5zwtLjsWrDvi/\n",
       "y7+H5FQWoGeNzQAAAABJRU5ErkJggg==\n",
       "\" style=\"display:inline;vertical-align:middle;\" /></a><br>"
      ],
      "text/plain": [
       "<IPython.core.display.HTML object>"
      ]
     },
     "metadata": {},
     "output_type": "display_data"
    }
   ],
   "source": [
    "mult_def = \\\n",
    "    Forall((n, x), Equals(Mult(n, x), Add(ExprRange(k, x, one, n))),\n",
    "           domains=(Natural, Complex))"
   ]
  },
  {
   "cell_type": "code",
   "execution_count": 4,
   "metadata": {},
   "outputs": [
    {
     "data": {
      "text/html": [
       "<strong id=\"empty_mult\">empty_mult:</strong> <a class=\"ProveItLink\" href=\"../__pv_it/axioms/1220fd7dbe6643ac79835116707c6ccef97b2a1e0/axiom_expr.ipynb\"><img src=\"data:image/png;base64,iVBORw0KGgoAAAANSUhEUgAAAEgAAAAVBAMAAAAX07VdAAAAMFBMVEX///8AAAAAAAAAAAAAAAAA\n",
       "AAAAAAAAAAAAAAAAAAAAAAAAAAAAAAAAAAAAAAAAAAAv3aB7AAAAD3RSTlMAdt0yiUQQzZnvIlRm\n",
       "u6udCZk7AAAACXBIWXMAAA7EAAAOxAGVKw4bAAAAyUlEQVQoz2MQUmZgYAATDAxcDAsYsAJXJFKa\n",
       "IZCgIm4HBsYDGAqY1VAUpQNxGbqavPZvKIp6gPgEhkmMqIomADFnAn5F3AVAgv0AfkUcDkCC5QF+\n",
       "RWBDeEDGMTQpgYAeFkVMG0B2TsBuEtt3iCLOAFCofMBhnQaSItYJ+N0EsU4Bv5t4BUAOv4DfJLDv\n",
       "weGAAlh+IStiBtnEFICmhu/l9zfI0QJKVIsIJZUT0EjGq4h3AQPXBUKK2C6A1GEDTuA0PhXMXsgg\n",
       "hVUNAK/QNPltHbNmAAAAAElFTkSuQmCC\n",
       "\" style=\"display:inline;vertical-align:middle;\" /></a><br>"
      ],
      "text/plain": [
       "<IPython.core.display.HTML object>"
      ]
     },
     "metadata": {},
     "output_type": "display_data"
    }
   ],
   "source": [
    "empty_mult = Equals(Mult(), one)"
   ]
  },
  {
   "cell_type": "code",
   "execution_count": 5,
   "metadata": {},
   "outputs": [
    {
     "data": {
      "text/html": [
       "<strong id=\"multi_mult_def\">multi_mult_def:</strong> <a class=\"ProveItLink\" href=\"../__pv_it/axioms/361844083a513a1da78470e17afcd66fcba8701d0/axiom_expr.ipynb\"><img src=\"data:image/png;base64,iVBORw0KGgoAAAANSUhEUgAAAmAAAAAXBAMAAABe/e6zAAAAMFBMVEX///8AAAAAAAAAAAAAAAAA\n",
       "AAAAAAAAAAAAAAAAAAAAAAAAAAAAAAAAAAAAAAAAAAAv3aB7AAAAD3RSTlMAq1RmmUTNIjK7EInv\n",
       "3XZ/CtNrAAAACXBIWXMAAA7EAAAOxAGVKw4bAAAFAUlEQVRYw+1Yb2hbVRQ/aV76kpcmjQiCDEJE\n",
       "tIW1NR+2YqvMwKYUixrtF9F8CFQY3Ze9gihVmXEgDtzaKh0zCvrqPpXK0roFFbEUxqh2TIq0c3QU\n",
       "Ujr8w6iEgW5UWL3n3vfnvpeXl0RuvogHzuO8c//83v3d98459wF4yPY1ECWqrgJFbiKO7HIv12ak\n",
       "KGxx0QRTkRIoNQ/HOTfeU18RYnj/YDXCvFobkb26ipKZK+Sy1UScLResLUrJk+g7XI0wr9YGRMky\n",
       "FSevEG3VmofDz21goRbhHfw6J6sR5tXagEhJpuLkFlF/qnk4/NwGFmqR0hZOVCPMq7UBadNVXPza\n",
       "wetyE3GWXbCWkRI/2ZDWqkHfq7UBeVhXYRJewetwE3GGXbCGaR68srFxuXqW9GhtQAZ1lff86kg/\n",
       "owvH6kjyFcNa45vkvZ9vIs68C9Y8pWQA4OPqhHm0NrhdqBk1tGP/tJbgM63m8IphUDii3AbopXFr\n",
       "g0pMME6vC1YvpWQU5Fh1wjxaG5CfmCoXQVqxNXyRhGdq59iKYfCIBj8CdDURp8sFq4tSEtLCaf61\n",
       "XC3C4zGTMEdrbQmOmEXkVNz4DC4xlcoQmQOFbV4B0/9zANdB+fYe3H3lL5c1oI8NMzccxz0F8DfA\n",
       "hLP7v8ahnWw4Ey5YE5SSlpIV1cfvPw0PhDVJMwnjW+uTPcjaZj6tfKC2fGJfSNskFNIwvk19EUzc\n",
       "P4DyJ0j6xq66zIY+NswQOu46BEiyz1QhrHEc2smGk3HByrDDT/aAWcYMYF1fSoW5o5HVWqd8T/RQ\n",
       "jiSXcwCP2T+VQgmeIFa39QLdBX8Z2tPyHa8Z9WH2Mkza0SfiY5hAnG4XrG5GyZdHSE12cPyGfh7o\n",
       "fOgYTxi2wuyBr4zhnGkJ5wze3dSiWDuefdc6w37KtJCA+1pUfiG3wJft8Gs1FkKH7Xv0D6uYvINR\n",
       "CfqcPQXi9Llg9TFK3iKbczaTbFMVWtJ3hj9/mSMMW5Wfg7cNaMvkIg3njK5HUzNodHRYHfScHCq1\n",
       "rEr85pHVdadSRqljRhMaZQrmEYcOU/ZfhCWz170wpVcQNhGIM+iCNcgo8ZHv541foF0L0ENFJ6R+\n",
       "5wjDVikVXASZlhfUfOGGPRFQp4Ga9GeH0OjvtzqcYqrEvx79zbaQ6ZvvxQnAKc0eTVYNg+0HDpPP\n",
       "ZcEqFaYv4LOuOQkTiLPmgrXG/cCJk4jmH8nnPySEzbY6fu+0paMxOL5umotK2X4iQadh56RYbz6f\n",
       "T5x4kYupOabO8GBk5npKPV8psOgYtlIRu4XhOOfGe9SiFaoPBYNz7A0L9DgIK6ihfg3WTVMN2h+d\n",
       "OvcN0f8q7dCWeJ+eKEjQV7ijrHWcrVjIq/B6HefRnJTKVRy1K4/MYnCccxvHeoMSuQzXOllNvx9g\n",
       "0/mGqRNDlLBZ3QylianMGRfq7JmMYIeI1keKN5zyggoLBt4ZXV0XIn904unaC3kbIsfthI1VdhKG\n",
       "45x7TFeDkkAMbiZhjDxQ8KoKPgdhgYM95wEJO5lg5gCawSU4qeKFOX2516j32RJ5Mpo6R6bMBc7o\n",
       "ivLm0QXHnu7ulmsv5HmInq9kx/ljURTOmSo7Yf8JrXyTP83ff2f7g42fJPvTE9ZKhgmmMwJbLxn2\n",
       "bD5vTwtyialIibr8uxeF45wb71G3L9U/x/jlBARYljm6u2KY+P4xaxr2Jjnv/0KDqpvpd+/wH5V/\n",
       "AJWP5fZr9aD7AAAAAElFTkSuQmCC\n",
       "\" style=\"display:inline;vertical-align:middle;\" /></a><br>"
      ],
      "text/plain": [
       "<IPython.core.display.HTML object>"
      ]
     },
     "metadata": {},
     "output_type": "display_data"
    }
   ],
   "source": [
    "multi_mult_def = \\\n",
    "    Forall(n, Forall((a_1_to_n, b), \n",
    "                     Equals(Mult(a_1_to_n, b), Mult(Mult(a_1_to_n), b)),\n",
    "                     domain=Complex),\n",
    "           domain=Natural)"
   ]
  },
  {
   "cell_type": "code",
   "execution_count": 6,
   "metadata": {},
   "outputs": [
    {
     "name": "stdout",
     "output_type": "stream",
     "text": [
      "These axioms may now be imported from the theory package: proveit.numbers.multiplication\n"
     ]
    }
   ],
   "source": [
    "%end axioms"
   ]
  },
  {
   "cell_type": "code",
   "execution_count": null,
   "metadata": {},
   "outputs": [],
   "source": []
  }
 ],
 "metadata": {
  "kernelspec": {
   "display_name": "Python 3",
   "language": "python",
   "name": "python3"
  }
 },
 "nbformat": 4,
 "nbformat_minor": 0
}