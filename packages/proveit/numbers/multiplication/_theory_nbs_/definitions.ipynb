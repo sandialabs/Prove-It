{
 "cells": [
  {
   "cell_type": "markdown",
   "metadata": {},
   "source": [
    "Conservative definitions for the theory of <a class=\"ProveItLink\" href=\"theory.ipynb\">proveit.numbers.multiplication</a>\n",
    "========"
   ]
  },
  {
   "cell_type": "code",
   "execution_count": null,
   "metadata": {},
   "outputs": [],
   "source": [
    "import proveit\n",
    "# Prepare this notebook for defining the conservative definitions of a theory:\n",
    "%definitions_notebook # Keep this at the top following 'import proveit'.\n",
    "\n",
    "from proveit import a, b, c, m\n",
    "from proveit.logic import Forall, Equals\n",
    "from proveit.core_expr_types import a_1_to_m\n",
    "from proveit.numbers import one, Mult, Complex\n",
    "from proveit.numbers.number_sets.complex_numbers import ComplexMult"
   ]
  },
  {
   "cell_type": "code",
   "execution_count": null,
   "metadata": {},
   "outputs": [],
   "source": [
    "%begin defining_properties"
   ]
  },
  {
   "cell_type": "code",
   "execution_count": null,
   "metadata": {},
   "outputs": [],
   "source": [
    "empty_mult_def = Equals(Mult(), one)\n",
    "unary_mult_def = Forall(a, Equals(Mult(a), a), domain=Complex)\n",
    "binary_mult_def = Forall((a, b), Equals(Mult(a, b), ComplexMult(a, b)),\n",
    "       domain=Complex)\n",
    "multi_mult_def = Forall(\n",
    "    m, Forall(\n",
    "        (a_1_to_m, b),\n",
    "        Equals(Mult(a_1_to_m, b), Mult(Mult(a_1_to_m), b))),\n",
    "    domain=Complex)"
   ]
  },
  {
   "cell_type": "code",
   "execution_count": null,
   "metadata": {},
   "outputs": [],
   "source": [
    "%end defining_properties"
   ]
  }
 ],
 "metadata": {
  "kernelspec": {
   "display_name": "Python 3 (ipykernel)",
   "language": "python",
   "name": "python3"
  }
 },
 "nbformat": 4,
 "nbformat_minor": 0
}
