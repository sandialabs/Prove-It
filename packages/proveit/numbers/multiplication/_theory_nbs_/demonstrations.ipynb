{
 "cells": [
  {
   "cell_type": "markdown",
   "metadata": {},
   "source": [
    "Demonstrations for the theory of <a class=\"ProveItLink\" href=\"theory.ipynb\">proveit.numbers.multiplication</a>\n",
    "========"
   ]
  },
  {
   "cell_type": "code",
   "execution_count": null,
   "metadata": {},
   "outputs": [],
   "source": [
    "import proveit\n",
    "from proveit import a, b, c, d, f, j, k, m, n, w, x, y, z\n",
    "from proveit.core_expr_types import b_1_to_m\n",
    "from proveit.logic import InSet, NotEquals, Equals\n",
    "from proveit.numbers import Natural, NaturalPos, Integer, Interval, Real, RealPos, RealNeg, RealNonNeg, Complex\n",
    "from proveit.numbers import zero, one, two, three, four, e, i, pi\n",
    "from proveit.numbers import Add, Exp, frac, Less, LessEq, Mult, num, subtract, Sum\n",
    "from proveit.numbers.exponentiation import products_of_complex_powers\n",
    "from proveit.physics.quantum.QPE import delta_, phase_\n",
    "%begin demonstrations"
   ]
  },
  {
   "cell_type": "code",
   "execution_count": null,
   "metadata": {},
   "outputs": [],
   "source": []
  },
  {
   "cell_type": "code",
   "execution_count": null,
   "metadata": {},
   "outputs": [],
   "source": [
    "Mult(four, a).conversion_to_addition(assumptions=[InSet(a, Complex)])"
   ]
  },
  {
   "cell_type": "code",
   "execution_count": null,
   "metadata": {},
   "outputs": [],
   "source": [
    "complex_assumptions = \\\n",
    "    [InSet(a, Complex), InSet(b, Complex), InSet(c, Complex), InSet(d, Complex), InSet(f, Complex)]"
   ]
  },
  {
   "cell_type": "code",
   "execution_count": null,
   "metadata": {},
   "outputs": [],
   "source": [
    "Mult(a,b,c,d,f).association(0,2, assumptions=complex_assumptions)"
   ]
  },
  {
   "cell_type": "code",
   "execution_count": null,
   "metadata": {},
   "outputs": [],
   "source": [
    "naturals_assumptions = \\\n",
    "    [InSet(a, Natural), InSet(b, Natural), InSet(c, Natural), InSet(d, Natural), InSet(f, Natural)]"
   ]
  },
  {
   "cell_type": "code",
   "execution_count": null,
   "metadata": {},
   "outputs": [],
   "source": [
    "InSet(Mult(a,b),Natural).prove(assumptions=naturals_assumptions)"
   ]
  },
  {
   "cell_type": "code",
   "execution_count": null,
   "metadata": {},
   "outputs": [],
   "source": [
    "naturals_pos_assumptions = \\\n",
    "    [InSet(a, NaturalPos), InSet(b, NaturalPos), InSet(c, NaturalPos), InSet(d, NaturalPos), InSet(f, NaturalPos)]"
   ]
  },
  {
   "cell_type": "code",
   "execution_count": null,
   "metadata": {},
   "outputs": [],
   "source": [
    "InSet(Mult(a,b),NaturalPos).prove(assumptions=naturals_pos_assumptions)"
   ]
  },
  {
   "cell_type": "code",
   "execution_count": null,
   "metadata": {},
   "outputs": [],
   "source": [
    "integers_assumptions = \\\n",
    "    [InSet(a, Integer), InSet(b, Integer), InSet(c, Integer), InSet(d, Integer), InSet(f, Integer)]"
   ]
  },
  {
   "cell_type": "code",
   "execution_count": null,
   "metadata": {},
   "outputs": [],
   "source": [
    "InSet(Mult(a,b,c,d,f),Integer).prove(assumptions=integers_assumptions)"
   ]
  },
  {
   "cell_type": "code",
   "execution_count": null,
   "metadata": {},
   "outputs": [],
   "source": [
    "reals_assumptions = \\\n",
    "    [InSet(a, Real), InSet(b, Real), InSet(c, Real), InSet(d, Real), InSet(f, Real)]"
   ]
  },
  {
   "cell_type": "code",
   "execution_count": null,
   "metadata": {},
   "outputs": [],
   "source": [
    "InSet(Mult(a,b,c,d,f),Real).prove(assumptions=reals_assumptions)"
   ]
  },
  {
   "cell_type": "code",
   "execution_count": null,
   "metadata": {},
   "outputs": [],
   "source": [
    "reals_pos_assumptions = \\\n",
    "    [InSet(a, RealPos), InSet(b, RealPos), InSet(c, RealPos), InSet(d, RealPos), InSet(f, RealPos)]"
   ]
  },
  {
   "cell_type": "code",
   "execution_count": null,
   "metadata": {},
   "outputs": [],
   "source": [
    "InSet(Mult(a,b,c,d,f),RealPos).prove(assumptions=reals_pos_assumptions)"
   ]
  },
  {
   "cell_type": "markdown",
   "metadata": {},
   "source": [
    "*Broken demonstrations below need to be fixed*<br/>\n",
    "*Shown as markdown instead of code temporarily*"
   ]
  },
  {
   "cell_type": "markdown",
   "metadata": {},
   "source": [
    "## Distribution"
   ]
  },
  {
   "cell_type": "code",
   "execution_count": null,
   "metadata": {},
   "outputs": [],
   "source": [
    "assumptions = [InSet(var, Complex) for var in [c, d, w, x, y, z]]\n",
    "assumptions = assumptions + [InSet(var, Integer) for var in [a, b]]"
   ]
  },
  {
   "cell_type": "code",
   "execution_count": null,
   "metadata": {},
   "outputs": [],
   "source": [
    "expr = Mult(a, b, Add(x, y, z), c, d)"
   ]
  },
  {
   "cell_type": "code",
   "execution_count": null,
   "metadata": {},
   "outputs": [],
   "source": [
    "expr.distribution(2, assumptions=assumptions)"
   ]
  },
  {
   "cell_type": "code",
   "execution_count": null,
   "metadata": {},
   "outputs": [],
   "source": [
    "expr = Mult(a, b, subtract(x, y), c, d)"
   ]
  },
  {
   "cell_type": "code",
   "execution_count": null,
   "metadata": {},
   "outputs": [],
   "source": [
    "expr.distribution(2, assumptions=assumptions)"
   ]
  },
  {
   "cell_type": "markdown",
   "metadata": {},
   "source": [
    "### Mult.distribution must be updated for the Sum case."
   ]
  },
  {
   "cell_type": "code",
   "execution_count": null,
   "metadata": {},
   "outputs": [],
   "source": [
    "expr = Mult(Add(a, b), Sum(k, k, domain=Interval(a, b)), frac(a, b))"
   ]
  },
  {
   "cell_type": "code",
   "execution_count": null,
   "metadata": {},
   "outputs": [],
   "source": [
    "assumptions = [InSet(var, Integer) for var in [a, b]] + [NotEquals(b, num(0))]"
   ]
  },
  {
   "cell_type": "markdown",
   "metadata": {},
   "source": [
    "InSet(k, Integer).prove(assumptions=[InSet(k, Interval(a, b))]).generalize(k, domain=Interval(a, b))"
   ]
  },
  {
   "cell_type": "markdown",
   "metadata": {},
   "source": [
    "InSet(Sum(k, k, domain=Interval(a, b)), Complex).prove()"
   ]
  },
  {
   "cell_type": "markdown",
   "metadata": {},
   "source": [
    "expr.distribute(0, assumptions)"
   ]
  },
  {
   "cell_type": "markdown",
   "metadata": {},
   "source": [
    "expr.distribute(1, assumptions)"
   ]
  },
  {
   "cell_type": "markdown",
   "metadata": {},
   "source": [
    "expr.distribute(2, assumptions)"
   ]
  },
  {
   "cell_type": "code",
   "execution_count": null,
   "metadata": {},
   "outputs": [],
   "source": [
    "expr = Mult(z, y, Sum(x, x, domain=Interval(a, b)), z, y)"
   ]
  },
  {
   "cell_type": "markdown",
   "metadata": {},
   "source": [
    "expr.distribution(2, assumptions=assumptions)"
   ]
  },
  {
   "cell_type": "markdown",
   "metadata": {},
   "source": [
    "## Factoring"
   ]
  },
  {
   "cell_type": "code",
   "execution_count": null,
   "metadata": {},
   "outputs": [],
   "source": [
    "assumptions = [InSet(var, Complex) for var in [c, d, w, x, y, z]]\n",
    "assumptions = assumptions + [InSet(var, Integer) for var in [a, b]]"
   ]
  },
  {
   "cell_type": "code",
   "execution_count": null,
   "metadata": {},
   "outputs": [],
   "source": [
    "expr = Mult(x, y)"
   ]
  },
  {
   "cell_type": "code",
   "execution_count": null,
   "metadata": {},
   "outputs": [],
   "source": [
    "expr.factorization(x, 'left', assumptions=assumptions)"
   ]
  },
  {
   "cell_type": "code",
   "execution_count": null,
   "metadata": {},
   "outputs": [],
   "source": [
    "expr.factorization(x, 'right', assumptions=assumptions)"
   ]
  },
  {
   "cell_type": "code",
   "execution_count": null,
   "metadata": {},
   "outputs": [],
   "source": [
    "expr.factorization(y, 'left', assumptions=assumptions)"
   ]
  },
  {
   "cell_type": "code",
   "execution_count": null,
   "metadata": {},
   "outputs": [],
   "source": [
    "expr.factorization(y, 'right', assumptions=assumptions)"
   ]
  },
  {
   "cell_type": "code",
   "execution_count": null,
   "metadata": {},
   "outputs": [],
   "source": [
    "expr = Mult(x, y, z)"
   ]
  },
  {
   "cell_type": "code",
   "execution_count": null,
   "metadata": {},
   "outputs": [],
   "source": [
    "expr.factorization(x, 'left', assumptions=assumptions)"
   ]
  },
  {
   "cell_type": "code",
   "execution_count": null,
   "metadata": {},
   "outputs": [],
   "source": [
    "expr.factorization(x, 'left', group_remainder=True, assumptions=assumptions)"
   ]
  },
  {
   "cell_type": "code",
   "execution_count": null,
   "metadata": {},
   "outputs": [],
   "source": [
    "expr.factorization(x, 'right', assumptions=assumptions)"
   ]
  },
  {
   "cell_type": "code",
   "execution_count": null,
   "metadata": {},
   "outputs": [],
   "source": [
    "expr.factorization(x, 'right', group_remainder=True, assumptions=assumptions)"
   ]
  },
  {
   "cell_type": "code",
   "execution_count": null,
   "metadata": {},
   "outputs": [],
   "source": [
    "expr.factorization(y, 'left', assumptions=assumptions)"
   ]
  },
  {
   "cell_type": "code",
   "execution_count": null,
   "metadata": {},
   "outputs": [],
   "source": [
    "expr.factorization(y, 'right', assumptions=assumptions)"
   ]
  },
  {
   "cell_type": "code",
   "execution_count": null,
   "metadata": {},
   "outputs": [],
   "source": [
    "expr.factorization(z, 'left', assumptions=assumptions)"
   ]
  },
  {
   "cell_type": "code",
   "execution_count": null,
   "metadata": {},
   "outputs": [],
   "source": [
    "expr.factorization(z, 'right', assumptions=assumptions)"
   ]
  },
  {
   "cell_type": "code",
   "execution_count": null,
   "metadata": {},
   "outputs": [],
   "source": [
    "expr.factorization(Mult(x, y), 'left', assumptions=assumptions)"
   ]
  },
  {
   "cell_type": "code",
   "execution_count": null,
   "metadata": {},
   "outputs": [],
   "source": [
    "expr.factorization(Mult(x, y), 'right', assumptions=assumptions)"
   ]
  },
  {
   "cell_type": "code",
   "execution_count": null,
   "metadata": {},
   "outputs": [],
   "source": [
    "expr.factorization(Mult(y, z), 'left', assumptions=assumptions)"
   ]
  },
  {
   "cell_type": "code",
   "execution_count": null,
   "metadata": {},
   "outputs": [],
   "source": [
    "expr.factorization(Mult(y, z), 'right', assumptions=assumptions)"
   ]
  },
  {
   "cell_type": "code",
   "execution_count": null,
   "metadata": {},
   "outputs": [],
   "source": [
    "expr = Mult(x, y, z, w)"
   ]
  },
  {
   "cell_type": "code",
   "execution_count": null,
   "metadata": {},
   "outputs": [],
   "source": [
    "expr.factorization(Mult(x, y), 'left', assumptions=assumptions)"
   ]
  },
  {
   "cell_type": "code",
   "execution_count": null,
   "metadata": {},
   "outputs": [],
   "source": [
    "expr.factorization(Mult(x, y), 'right', assumptions=assumptions)"
   ]
  },
  {
   "cell_type": "code",
   "execution_count": null,
   "metadata": {},
   "outputs": [],
   "source": [
    "expr.factorization(Mult(y, z), 'left', assumptions=assumptions)"
   ]
  },
  {
   "cell_type": "code",
   "execution_count": null,
   "metadata": {},
   "outputs": [],
   "source": [
    "expr.factorization(Mult(y, z), 'right', assumptions=assumptions)"
   ]
  },
  {
   "cell_type": "markdown",
   "metadata": {},
   "source": [
    "### Canceling Factors Appearing in Numerator/Denominator: `Mult.cancelations()`"
   ]
  },
  {
   "cell_type": "code",
   "execution_count": null,
   "metadata": {},
   "outputs": [],
   "source": [
    "mult_3_factors_01 = Mult(a, Mult(b, frac(c, a)))"
   ]
  },
  {
   "cell_type": "code",
   "execution_count": null,
   "metadata": {},
   "outputs": [],
   "source": [
    "mult_3_factors_02 = Mult(Mult(a, b), frac(c, a))"
   ]
  },
  {
   "cell_type": "code",
   "execution_count": null,
   "metadata": {},
   "outputs": [],
   "source": [
    "mult_3_factors_03 = Mult(Mult(a, b), frac(one, a))"
   ]
  },
  {
   "cell_type": "code",
   "execution_count": null,
   "metadata": {},
   "outputs": [],
   "source": [
    "temp_assumptions_for_cancelation = (\n",
    "    [InSet(a, Real), InSet(b, Real), InSet(c, Real), NotEquals(a, zero)])"
   ]
  },
  {
   "cell_type": "code",
   "execution_count": null,
   "metadata": {},
   "outputs": [],
   "source": [
    "mult_3_factors_01.cancelations(assumptions=temp_assumptions_for_cancelation)"
   ]
  },
  {
   "cell_type": "code",
   "execution_count": null,
   "metadata": {},
   "outputs": [],
   "source": [
    "mult_3_factors_01.simplification(assumptions=temp_assumptions_for_cancelation)"
   ]
  },
  {
   "cell_type": "code",
   "execution_count": null,
   "metadata": {},
   "outputs": [],
   "source": [
    "mult_3_factors_02.cancelations(assumptions=temp_assumptions_for_cancelation)"
   ]
  },
  {
   "cell_type": "code",
   "execution_count": null,
   "metadata": {},
   "outputs": [],
   "source": [
    "mult_3_factors_02.simplification(assumptions=temp_assumptions_for_cancelation)"
   ]
  },
  {
   "cell_type": "code",
   "execution_count": null,
   "metadata": {},
   "outputs": [],
   "source": [
    "mult_3_factors_03.cancelations(assumptions=temp_assumptions_for_cancelation)"
   ]
  },
  {
   "cell_type": "code",
   "execution_count": null,
   "metadata": {},
   "outputs": [],
   "source": [
    "mult_3_factors_03.simplification(assumptions=temp_assumptions_for_cancelation)"
   ]
  },
  {
   "cell_type": "markdown",
   "metadata": {},
   "source": [
    "###  `Mult.exponent_combination()`: Combining Exponential Factors with the Same Base"
   ]
  },
  {
   "cell_type": "code",
   "execution_count": null,
   "metadata": {},
   "outputs": [],
   "source": [
    "# some example products of exponentials\n",
    "mult_exps_01, mult_exps_02, mult_exps_03, mult_exps_04 = (\n",
    "    Mult(Exp(two, three), Exp(two, four)),\n",
    "    Mult(Exp(a, b), Exp(a, c)),\n",
    "    Mult(Exp(a, b), Exp(a, c), Exp(a, b)),\n",
    "    Mult(Exp(a, b), Exp(a, c), Exp(a, b), Exp(a, d)))"
   ]
  },
  {
   "cell_type": "code",
   "execution_count": null,
   "metadata": {},
   "outputs": [],
   "source": [
    "# some useful assumptions for the testing\n",
    "temp_assumptions = [InSet(a, RealPos), InSet(b, Real), InSet(c, Real), InSet(d, Real)]"
   ]
  },
  {
   "cell_type": "code",
   "execution_count": null,
   "metadata": {},
   "outputs": [],
   "source": [
    "mult_exps_01.exponent_combination()"
   ]
  },
  {
   "cell_type": "code",
   "execution_count": null,
   "metadata": {},
   "outputs": [],
   "source": [
    "mult_exps_02.exponent_combination(assumptions=temp_assumptions)"
   ]
  },
  {
   "cell_type": "code",
   "execution_count": null,
   "metadata": {},
   "outputs": [],
   "source": [
    "# here notice: the combo of 3 operands and the simplification\n",
    "mult_exps_03.exponent_combination(assumptions=temp_assumptions)"
   ]
  },
  {
   "cell_type": "code",
   "execution_count": null,
   "metadata": {},
   "outputs": [],
   "source": [
    "# here notice: the combo of 4 operands and the simplification\n",
    "mult_exps_04.exponent_combination(assumptions=temp_assumptions)"
   ]
  },
  {
   "cell_type": "code",
   "execution_count": null,
   "metadata": {},
   "outputs": [],
   "source": [
    "# define a product with a non-matching base\n",
    "mult_of_exps_with_non_exp = Mult(Exp(a, b), Exp(a, c), Exp(a, b), Exp(a, d), b)"
   ]
  },
  {
   "cell_type": "code",
   "execution_count": null,
   "metadata": {},
   "outputs": [],
   "source": [
    "# without specifying what to combine, we have an error:\n",
    "try:\n",
    "    mult_of_exps_with_non_exp.exponent_combination(assumptions=temp_assumptions)\n",
    "except Exception as the_exception:\n",
    "    print(\"Error: {}\".format(the_exception))"
   ]
  },
  {
   "cell_type": "code",
   "execution_count": null,
   "metadata": {},
   "outputs": [],
   "source": [
    "# But if we specify the factors to combine:\n",
    "mult_of_exps_with_non_exp.exponent_combination(start_idx = 1, end_idx=3, assumptions=temp_assumptions)"
   ]
  },
  {
   "cell_type": "markdown",
   "metadata": {},
   "source": [
    "Trying the newly-coded method (in progress):"
   ]
  },
  {
   "cell_type": "code",
   "execution_count": null,
   "metadata": {},
   "outputs": [],
   "source": [
    "# special case where only start index is specified\n",
    "mult_exps_04.exponent_combination(start_idx = 0, assumptions=temp_assumptions)"
   ]
  },
  {
   "cell_type": "code",
   "execution_count": null,
   "metadata": {},
   "outputs": [],
   "source": [
    "# special case where only end index is specified\n",
    "mult_exps_04.exponent_combination(end_idx=2, assumptions=temp_assumptions)"
   ]
  },
  {
   "cell_type": "code",
   "execution_count": null,
   "metadata": {},
   "outputs": [],
   "source": [
    "# using start and end indices\n",
    "mult_exps_04.exponent_combination(start_idx = 1, end_idx=3, assumptions=temp_assumptions)"
   ]
  },
  {
   "cell_type": "code",
   "execution_count": null,
   "metadata": {},
   "outputs": [],
   "source": [
    "# an example expression with all numeric values\n",
    "mult_exps_pows_of_2 = Mult(Exp(two, one), Exp(two, two), Exp(two, three))"
   ]
  },
  {
   "cell_type": "code",
   "execution_count": null,
   "metadata": {},
   "outputs": [],
   "source": [
    "# by default, combine all exponentials into a single exponential\n",
    "# and simplify the resulting exponent\n",
    "mult_exps_pows_of_2.exponent_combination()"
   ]
  },
  {
   "cell_type": "code",
   "execution_count": null,
   "metadata": {},
   "outputs": [],
   "source": [
    "# special case of same bases but one without an exponent\n",
    "mult_exps_left_without_exp = Mult(two, Exp(two, two))"
   ]
  },
  {
   "cell_type": "code",
   "execution_count": null,
   "metadata": {},
   "outputs": [],
   "source": [
    "# combine exponents for the special case\n",
    "mult_exps_left_without_exp.exponent_combination()"
   ]
  },
  {
   "cell_type": "code",
   "execution_count": null,
   "metadata": {},
   "outputs": [],
   "source": [
    "# special case of same bases but one without an exponent\n",
    "mult_exps_right_without_exp = Mult(Exp(three, two), three)"
   ]
  },
  {
   "cell_type": "code",
   "execution_count": null,
   "metadata": {},
   "outputs": [],
   "source": [
    "# combine exponents for the special case\n",
    "mult_exps_right_without_exp.exponent_combination()"
   ]
  },
  {
   "cell_type": "code",
   "execution_count": null,
   "metadata": {},
   "outputs": [],
   "source": [
    "# variable version of a special case\n",
    "mult_exps_right_without_exp_var = Mult(Exp(a, b), a)"
   ]
  },
  {
   "cell_type": "code",
   "execution_count": null,
   "metadata": {},
   "outputs": [],
   "source": [
    "mult_exps_right_without_exp_var.exponent_combination(assumptions=temp_assumptions)"
   ]
  },
  {
   "cell_type": "code",
   "execution_count": null,
   "metadata": {},
   "outputs": [],
   "source": [
    "# Recall this from earlier:\n",
    "mult_exps_03.exponent_combination(assumptions=temp_assumptions)"
   ]
  },
  {
   "cell_type": "code",
   "execution_count": null,
   "metadata": {},
   "outputs": [],
   "source": [
    "# and the same thing, but now disallow the simplification of the resulting exponent\n",
    "mult_exps_03.exponent_combination(auto_simplify=False, assumptions=temp_assumptions)"
   ]
  },
  {
   "cell_type": "markdown",
   "metadata": {},
   "source": [
    "### `Mult.exponent_combination()`: Combining Exponential Factors with the Same Exponent"
   ]
  },
  {
   "cell_type": "code",
   "execution_count": null,
   "metadata": {},
   "outputs": [],
   "source": [
    "# some example products of exponentials\n",
    "mult_exps_05, mult_exps_06, mult_exps_07 = (\n",
    "    Mult(Exp(two, three), Exp(three, three)),\n",
    "    Mult(Exp(a, d), Exp(b, d)),\n",
    "    Mult(Exp(a, d), Exp(b, d), Exp(c, d)))"
   ]
  },
  {
   "cell_type": "code",
   "execution_count": null,
   "metadata": {},
   "outputs": [],
   "source": [
    "# some useful assumptions for the testing\n",
    "temp_assumptions_02 = [InSet(a, RealPos), InSet(b, RealPos), InSet(c, RealPos), InSet(d, RealPos)]"
   ]
  },
  {
   "cell_type": "code",
   "execution_count": null,
   "metadata": {},
   "outputs": [],
   "source": [
    "# automatic reductions of the new base are not performed (but see next cell)\n",
    "example_exponent_combination = mult_exps_05.exponent_combination(\n",
    "    assumptions=temp_assumptions_02)"
   ]
  },
  {
   "cell_type": "code",
   "execution_count": null,
   "metadata": {},
   "outputs": [],
   "source": [
    "# We can dig into the inner_expr, though, to simplify/evaluate:\n",
    "example_exponent_combination.inner_expr().rhs.base.evaluate()"
   ]
  },
  {
   "cell_type": "code",
   "execution_count": null,
   "metadata": {},
   "outputs": [],
   "source": [
    "mult_exps_06.exponent_combination(assumptions=temp_assumptions_02)"
   ]
  },
  {
   "cell_type": "code",
   "execution_count": null,
   "metadata": {},
   "outputs": [],
   "source": [
    "mult_exps_07.exponent_combination(assumptions=temp_assumptions_02)"
   ]
  },
  {
   "cell_type": "markdown",
   "metadata": {},
   "source": [
    "### common_power_extraction()"
   ]
  },
  {
   "cell_type": "code",
   "execution_count": null,
   "metadata": {},
   "outputs": [],
   "source": [
    "mult_exps_08 = Mult(Exp(a, Mult(i, j)), Exp(b, Mult(j, k)))"
   ]
  },
  {
   "cell_type": "code",
   "execution_count": null,
   "metadata": {},
   "outputs": [],
   "source": [
    "mult_exps_08.common_power_extraction(\n",
    "        exp_factor = j,\n",
    "        assumptions=[NotEquals(a, zero), InSet(a, Real),\n",
    "                     NotEquals(b, zero), InSet(b, Real),\n",
    "                     InSet(j, Integer), InSet(k, Integer)])"
   ]
  },
  {
   "cell_type": "code",
   "execution_count": null,
   "metadata": {},
   "outputs": [],
   "source": [
    "mult_exps_08.inner_expr().operands[0].factorization(\n",
    "        j,\n",
    "        assumptions=[NotEquals(a, zero), InSet(a, Real),\n",
    "                     InSet(j, Integer), InSet(k, Integer)])"
   ]
  },
  {
   "cell_type": "code",
   "execution_count": null,
   "metadata": {},
   "outputs": [],
   "source": [
    "temp_expr = mult_exps_08\n",
    "the_exp_factor = j\n",
    "from proveit import TransRelUpdater\n",
    "eq = TransRelUpdater(mult_exps_08, assumptions=[NotEquals(a, zero), InSet(a, Real),\n",
    "                     InSet(j, Integer), InSet(k, Integer)])\n",
    "print(\"eq.relation = {}\".format(eq.relation))\n",
    "eq.update(temp_expr.inner_expr().operands[0].factorization(\n",
    "        the_exp_factor,\n",
    "        assumptions=[NotEquals(a, zero), InSet(a, Real), InSet(i, Integer),\n",
    "                     InSet(j, Integer), InSet(k, Integer)]))\n",
    "eq.relation"
   ]
  },
  {
   "cell_type": "code",
   "execution_count": null,
   "metadata": {},
   "outputs": [],
   "source": [
    "temp_expr = mult_exps_08\n",
    "the_exp_factor = j\n",
    "from proveit import TransRelUpdater\n",
    "eq = TransRelUpdater(mult_exps_08, assumptions=[NotEquals(a, zero), InSet(a, Real),\n",
    "                     InSet(j, Integer), InSet(k, Integer)])\n",
    "print(\"eq.relation = {}\".format(eq.relation))\n",
    "eq.update(temp_expr.inner_expr().operands[0].factorization(\n",
    "        the_exp_factor,\n",
    "        assumptions=[NotEquals(a, zero), InSet(a, Real), InSet(i, Integer),\n",
    "                     InSet(j, Integer), InSet(k, Integer)]))\n",
    "eq.relation"
   ]
  },
  {
   "cell_type": "code",
   "execution_count": null,
   "metadata": {},
   "outputs": [],
   "source": [
    "temp_expr = mult_exps_08\n",
    "the_exp_factor = j\n",
    "from proveit import TransRelUpdater\n",
    "eq = TransRelUpdater(temp_expr, assumptions=[NotEquals(a, zero), InSet(a, Real),\n",
    "                     NotEquals(b, zero), InSet(b, Real),\n",
    "                     InSet(j, Integer), InSet(k, Integer)])\n",
    "print(\"eq.relation = {}\".format(eq.relation))\n",
    "for idx in range(0, mult_exps_08.factors.num_elements().as_int()):\n",
    "    the_factor = mult_exps_08.factors[idx]\n",
    "    print(\"the_factor = {}\".format(the_factor))\n",
    "    temp_expr = eq.update(temp_expr.inner_expr().operands[idx].factorization(\n",
    "        the_exp_factor,\n",
    "        assumptions=[NotEquals(a, zero), InSet(a, Real),\n",
    "                     NotEquals(b, zero), InSet(b, Real),\n",
    "                     InSet(j, Integer), InSet(k, Integer)]))\n",
    "print(\"eq.relation = {}\".format(eq.relation))\n",
    "# then use distribution in reverse\n",
    "# (1) gather the desired factors:\n",
    "factor_bases = [factor.base for factor in eq.relation.rhs.factors]\n",
    "print(\"factor_bases = {}\".format(factor_bases))\n",
    "_new_prod = Mult(*factor_bases)\n",
    "print(\"_new_prod = {}\".format(_new_prod))\n",
    "_new_exp = Exp(_new_prod, the_exp_factor)\n",
    "print(\"_new_exp = {}\".format(_new_exp))\n",
    "_new_exp.distribution(\n",
    "        assumptions=[InSet(factor_bases[0], RealPos),\n",
    "                     InSet(factor_bases[1], RealPos),\n",
    "                     InSet(j, Complex)]).derive_reversed()"
   ]
  },
  {
   "cell_type": "code",
   "execution_count": null,
   "metadata": {},
   "outputs": [],
   "source": [
    "mult_exps_09 = Exp(a, j)"
   ]
  },
  {
   "cell_type": "code",
   "execution_count": null,
   "metadata": {},
   "outputs": [],
   "source": [
    "# not surprising we have an error here;\n",
    "# why would we want to write a^j = (a)^j?\n",
    "# but could be problematic in the general case like a^j b^{c j} = (a b^c)^j\n",
    "try:\n",
    "    mult_exps_09.factorization(j,\n",
    "        assumptions=[NotEquals(a, zero), InSet(a, Real),\n",
    "                     NotEquals(b, zero), InSet(b, Real),\n",
    "                     InSet(j, Integer), InSet(k, Integer)])\n",
    "except ValueError as the_error:\n",
    "    print(\"ValueError: {}\".format(the_error))"
   ]
  },
  {
   "cell_type": "markdown",
   "metadata": {},
   "source": [
    "An example expression similar to one found in the QPE package:"
   ]
  },
  {
   "cell_type": "code",
   "execution_count": null,
   "metadata": {},
   "outputs": [],
   "source": [
    "mult_exps_10 = Mult(Exp(e, Mult(two, pi, i, k, delta_)), Exp(e, Mult(two, pi, i, phase_, k)))"
   ]
  },
  {
   "cell_type": "code",
   "execution_count": null,
   "metadata": {},
   "outputs": [],
   "source": [
    "mult_exps_10.common_power_extraction(\n",
    "        exp_factor = k,\n",
    "        assumptions=[InSet(k, Integer), InSet(delta_, Integer), InSet(phase_, RealPos)])"
   ]
  },
  {
   "cell_type": "code",
   "execution_count": null,
   "metadata": {},
   "outputs": [],
   "source": [
    "# here we specify the factors we want to extract from\n",
    "# in this case consisting of the entire expression\n",
    "mult_exps_10.common_power_extraction(\n",
    "        start_idx=0, end_idx=1,\n",
    "        exp_factor = k,\n",
    "        assumptions=[InSet(k, Integer), InSet(delta_, Integer), InSet(phase_, RealPos)])"
   ]
  },
  {
   "cell_type": "markdown",
   "metadata": {},
   "source": [
    "Another one, this time with common exponent factor in just a subset of the exponential multiplicands (_i.e._ at indices 1 and 2):"
   ]
  },
  {
   "cell_type": "code",
   "execution_count": null,
   "metadata": {},
   "outputs": [],
   "source": [
    "mult_exps_11 = Mult(\n",
    "        Exp(e, Mult(two, pi, i, a)),\n",
    "        Exp(e, Mult(two, pi, i, k, delta_)),\n",
    "        Exp(e, Mult(two, pi, i, phase_, k)),\n",
    "        Exp(e, Mult(two, pi, i, b)))"
   ]
  },
  {
   "cell_type": "code",
   "execution_count": null,
   "metadata": {},
   "outputs": [],
   "source": [
    "mult_exps_11.common_power_extraction(\n",
    "        start_idx=1, end_idx=2,\n",
    "        exp_factor = k,\n",
    "        assumptions=[InSet(k, Integer), InSet(delta_, Integer),\n",
    "                     InSet(phase_, RealPos), InSet(a, Real), InSet(b, Real)])"
   ]
  },
  {
   "cell_type": "code",
   "execution_count": null,
   "metadata": {},
   "outputs": [],
   "source": [
    "# and a potential error case, where the Mult has non-Exp operands:\n",
    "mult_exps_12 = Mult(\n",
    "        Add(a, b),\n",
    "        Exp(e, Mult(two, pi, i, k, delta_)),\n",
    "        Exp(e, Mult(two, pi, i, phase_, k)),\n",
    "        Exp(e, Mult(two, pi, i, b)))"
   ]
  },
  {
   "cell_type": "code",
   "execution_count": null,
   "metadata": {},
   "outputs": [],
   "source": [
    "# specifying multiplicands that are not Exps should give\n",
    "# an informative error message\n",
    "try:\n",
    "    mult_exps_12.common_power_extraction(\n",
    "            start_idx=0, end_idx=2,\n",
    "            exp_factor = k,\n",
    "            assumptions=[InSet(k, Integer), InSet(delta_, Integer),\n",
    "                         InSet(phase_, RealPos), InSet(a, Real), InSet(b, Real)])\n",
    "except ValueError as the_error:\n",
    "    print(\"ValueError: {}\".format(the_error))"
   ]
  },
  {
   "cell_type": "code",
   "execution_count": null,
   "metadata": {},
   "outputs": [],
   "source": [
    "# but still works if Mult contains non-Exp multiplicands\n",
    "# but index-specified pieces are indeed Exps\n",
    "mult_exps_12.common_power_extraction(\n",
    "            start_idx=1, end_idx=2,\n",
    "            exp_factor = k,\n",
    "            assumptions=[InSet(k, Integer), InSet(delta_, Integer),\n",
    "                         InSet(phase_, RealPos), InSet(a, Real), InSet(b, Real)])"
   ]
  },
  {
   "cell_type": "markdown",
   "metadata": {},
   "source": [
    "## Deduce bounds"
   ]
  },
  {
   "cell_type": "code",
   "execution_count": null,
   "metadata": {},
   "outputs": [],
   "source": [
    "relations = [Less(a, x), Less(b, y), Less(c, z)]\n",
    "assumptions = relations + [InSet(_x, RealPos) for _x in (a, b, c, x, y, z)]\n",
    "Mult(a, b, c).deduce_bound(relations, assumptions=assumptions)"
   ]
  },
  {
   "cell_type": "code",
   "execution_count": null,
   "metadata": {},
   "outputs": [],
   "source": [
    "relations = [Less(a, x), LessEq(b, y), Less(c, z)]\n",
    "assumptions = relations + [InSet(_x, RealNonNeg) for _x in (a, b, c, x, y, z)]\n",
    "Mult(a, b, c).deduce_bound(relations, assumptions=assumptions)"
   ]
  },
  {
   "cell_type": "code",
   "execution_count": null,
   "metadata": {},
   "outputs": [],
   "source": [
    "relations = [Less(a, x)]\n",
    "assumptions = relations + [InSet(a, Real), InSet(b, RealNeg), InSet(x, Real)]\n",
    "Mult(a, b).deduce_bound(relations, assumptions=assumptions)"
   ]
  },
  {
   "cell_type": "code",
   "execution_count": null,
   "metadata": {},
   "outputs": [],
   "source": [
    "%end demonstrations"
   ]
  },
  {
   "cell_type": "code",
   "execution_count": null,
   "metadata": {},
   "outputs": [],
   "source": []
  }
 ],
 "metadata": {
  "kernelspec": {
   "display_name": "Python 3",
   "language": "python",
   "name": "python3"
  }
 },
 "nbformat": 4,
 "nbformat_minor": 0
}
