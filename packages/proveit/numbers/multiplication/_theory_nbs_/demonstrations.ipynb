{
 "cells": [
  {
   "cell_type": "markdown",
   "metadata": {},
   "source": [
    "Demonstrations for the theory of <a class=\"ProveItLink\" href=\"theory.ipynb\">proveit.numbers.multiplication</a>\n",
    "========"
   ]
  },
  {
   "cell_type": "code",
   "execution_count": 1,
   "metadata": {},
   "outputs": [],
   "source": [
    "import proveit\n",
    "from proveit import defaults\n",
    "from proveit import a, b, c, d, f, j, k, m, n, w, x, y, z, delta, theta\n",
    "from proveit.core_expr_types import b_1_to_m\n",
    "from proveit.logic import InSet, NotEquals, Equals\n",
    "from proveit.numbers import (\n",
    "    Natural, NaturalPos, Integer, IntegerNeg, IntegerNonPos, Interval,\n",
    "    Rational, RationalPos, RationalNeg, RationalNonNeg, RationalNonPos,\n",
    "    Real, RealPos, RealNeg, RealNonNeg, Complex)\n",
    "from proveit.numbers import zero, one, two, three, four, five, e, i, pi\n",
    "from proveit.numbers import (Add, Neg, Exp, frac, Less, LessEq, Mult, \n",
    "                             sqrt, sqrd, num, subtract, Sum)\n",
    "from proveit.numbers.exponentiation import products_of_complex_powers\n",
    "%begin demonstrations"
   ]
  },
  {
   "cell_type": "markdown",
   "metadata": {},
   "source": [
    "## Basic arithmetic with numerals"
   ]
  },
  {
   "cell_type": "code",
   "execution_count": 2,
   "metadata": {},
   "outputs": [
    {
     "data": {
      "text/html": [
       "<span style=\"font-size:20px;\"> <a class=\"ProveItLink\" href=\"../../numerals/decimals/_theory_nbs_/proofs/mult_2_5/thm_proof.ipynb\" style=\"text-decoration: none\">&nbsp;&#x22A2;&nbsp;&nbsp;</a><a class=\"ProveItLink\" href=\"../../numerals/decimals/__pv_it/theorems/ed432a65d10478f3066bdf088f57aa66bd7f3e760/expr.ipynb\"><img src=\"data:image/png;base64,iVBORw0KGgoAAAANSUhEUgAAAGEAAAAVBAMAAACkm51HAAAAMFBMVEX///8AAAAAAAAAAAAAAAAA\n",
       "AAAAAAAAAAAAAAAAAAAAAAAAAAAAAAAAAAAAAAAAAAAv3aB7AAAAD3RSTlMAInZUiRDNmWbv3US7\n",
       "qzJazP2FAAAACXBIWXMAAA7EAAAOxAGVKw4bAAABiUlEQVQ4y32Tv0vDUBDHv69t+iM2pU4FpzqI\n",
       "k5BBXJvB0WLcFbMI4tShtOJicBEFsYuLila0CEKh+A8YHRxExU2d7ODk0gq2DoL1kvBK2zzzCMe7\n",
       "+94nd8d7D0ASniUI9ayA2ucmgDlc+hKTQKrw2HVj7ZUKAqYnLVEhMz1O1SUDzMJsjSvy8ZkOLA0C\n",
       "C4UWEFalEyBiQkkiVuKS4thNb/NEbAMz1AV9LSif/URMFxEPQEbHFCWVofz2E2FTRHwDDRV5t/tm\n",
       "l9jI1oHQk4CQbMLEsuM30lyJ6+wHiBr2fu3CXlVOsC8n8dTxq72/uwOCJUENh9BwYLsRy7aLhiuu\n",
       "J5Foiroi4irtEjvuMDkyt0TUMVT6Z/KM6nQV1DDMlX3gjSJlwRy4B3Z13JD3DoxxQgMOaXJLVGML\n",
       "KABZgJ0Xi2WupBDYo8G0QSJEZyyr0hHwQZtOp2NwhRWf6bzl2gCgvLZfIOUn6KzkuuhCj/hc9mhO\n",
       "FF31ex/Xghiz/Ih5QSzu+2xZ2hsb9cn/AxdGZGaikapEAAAAAElFTkSuQmCC\n",
       "\" style=\"display:inline;vertical-align:middle;\" /></a></span>"
      ],
      "text/plain": [
       "|- (2 * 5) = 10"
      ]
     },
     "metadata": {},
     "output_type": "display_data"
    }
   ],
   "source": [
    "Mult(num(2), num(5)).evaluation()"
   ]
  },
  {
   "cell_type": "code",
   "execution_count": 3,
   "metadata": {},
   "outputs": [
    {
     "data": {
      "text/html": [
       "<span style=\"font-size:20px;\"> <a class=\"ProveItLink\" href=\"../__pv_it/demonstrations/b5f8f4b6c179dd00aa91c2032d29ac65ca3f394a0/proof.ipynb\" style=\"text-decoration: none\">&nbsp;&#x22A2;&nbsp;&nbsp;</a><a class=\"ProveItLink\" href=\"../__pv_it/demonstrations/320b98ee5d2a87ef3e6c89b02f8a335c6e97b0470/expr.ipynb\"><img src=\"data:image/png;base64,iVBORw0KGgoAAAANSUhEUgAAAKAAAAAVBAMAAAAz5vjYAAAAMFBMVEX///8AAAAAAAAAAAAAAAAA\n",
       "AAAAAAAAAAAAAAAAAAAAAAAAAAAAAAAAAAAAAAAAAAAv3aB7AAAAD3RSTlMAInZUiRDNmWbv3US7\n",
       "qzJazP2FAAAACXBIWXMAAA7EAAAOxAGVKw4bAAACEUlEQVQ4y4VVMUtbURT+osTkpU3zlEI7dMhS\n",
       "6CI6SCBddHMK5gcIZgyFUIfQLB0ydarg4iRiIINFEbqJgxBdBREROkUchBYXWySFQml67rkvybnn\n",
       "PvTAubzzve989573zr0XQAjrI0tAmQfAyxnxxmatC3uSV0QPgJcz4s1FHtnzxVPgjUP7rgE2kYPb\n",
       "MvDiwxnzkhXrkSVXMT+LibJM3YcCmChyvr0vI9HB0lfDSzXBPijkHisVpFdlbSToAGwiB5gpIxsi\n",
       "WDe8gOJAfIVN5GjuDcH+UYMLsAVwBYMesr8Mr0BxwaHO09xVES8YwaoWLCjBbAvZf4ZXp7ju/Kkv\n",
       "NJRExWHNBazVlSBZ5qfhVdX0z6avaPw0Al6iNgBSu2zn0Eu2gnd5w2vTU9stmRqsKCpmwaJeYdsX\n",
       "3GfeJo3kyXc8+bX53D2ajNvhNw3pkAXvtKCTw4KpDvMiwWHF13h6DxxysEM+BRY8jBFUK1wD81TJ\n",
       "uR4Lvh0CR93un8sIkN/QK3l8AZOGd0LxiWivcy75s6RvQQFwc6zgDfDa8EpuT6Sb3IdOU/zVXQLd\n",
       "R0shEjuNRsvwbs3eFu8OGnQ4YE8gH/sXLmDPA/Hc3a41M/1+v2J4GfpJxt1zrfUY4OcMeGbbe1vf\n",
       "2fmxQMxxMeAdw7q0V3gM8HOGvOXIHyTHZC/HCRpeIm9dnoD6uhiLuz/iroUQ/wEUKonAPGAiXwAA\n",
       "AABJRU5ErkJggg==\n",
       "\" style=\"display:inline;vertical-align:middle;\" /></a></span>"
      ],
      "text/plain": [
       "|- ((-3) * 4) = (-12)"
      ]
     },
     "metadata": {},
     "output_type": "display_data"
    }
   ],
   "source": [
    "Mult(num(-3), num(4)).evaluation()"
   ]
  },
  {
   "cell_type": "code",
   "execution_count": 4,
   "metadata": {},
   "outputs": [
    {
     "data": {
      "text/html": [
       "<span style=\"font-size:20px;\"> <a class=\"ProveItLink\" href=\"../__pv_it/demonstrations/14aabe1dd13e101653a0f786b1477e9b3842fbfe0/proof.ipynb\" style=\"text-decoration: none\">&nbsp;&#x22A2;&nbsp;&nbsp;</a><a class=\"ProveItLink\" href=\"../__pv_it/demonstrations/34dd1524704c9a6474daf76b25840b5aaf3fb0220/expr.ipynb\"><img src=\"data:image/png;base64,iVBORw0KGgoAAAANSUhEUgAAAKAAAAAVBAMAAAAz5vjYAAAAMFBMVEX///8AAAAAAAAAAAAAAAAA\n",
       "AAAAAAAAAAAAAAAAAAAAAAAAAAAAAAAAAAAAAAAAAAAv3aB7AAAAD3RSTlMAInZUiRDNmWbv3US7\n",
       "qzJazP2FAAAACXBIWXMAAA7EAAAOxAGVKw4bAAAB90lEQVQ4y4WUvUtjQRTFz4vEfKzRpwhrYWEj\n",
       "2IgWEtBGOysxf0BASxHEFGHTWKSyUrCxEjGQQlEEO7EQNK0gIoJVJIWwkkZFUiwsm507M8mbe1+I\n",
       "B86D3Pm98+bOTAaADyFe8KzRHWuziEyLqij8GDNGd6zNYgYYXrxzqjMu8huYgLGQi9UzwM9f95qL\n",
       "riKaw3zwOVVwdA70Zoy5HCz6vJmBd4PlC+JiRUS+sBIMq4LTlwqM54y5GDaVQcpHYo+4hOr8AANB\n",
       "YMJ97W1DPfatmRimAhMNpD6JS+vKfPC9tEsuUOCaNVNaBKZKSP0jLq935yQYzLsd+xS4ZM2UF4FK\n",
       "yQ/i6NP9ky/BoDuXEVDgtjVip1oPErOB72PElU3LwS6X3Y514Kw1UzkceK65A7PEDfUwW60K0XU9\n",
       "k1rc14Hv1kwOZgNjN5pTA/019H3RGuQs2dIQdOCVtQwUM9yF5tTUBxomMNTLdbX65wmYgzFbw1DL\n",
       "PQsYJK6i+n0wLRtV2EQOlXesmSoy8BUYJ06dh3jRPYf8gPy1JyQvAxm27MM7LhRKxNXV78uCcznU\n",
       "XXKr+QicwZjJxapHG8Vks9lcJS5ZE2So4JWMv8FabOhvHyrQNcCugs5Ym72VRVkYtf4Ga7NZWcx2\n",
       "eLPD29lOgcR58noXhYhvjO5Yi/0Pu/2JV7mxmn8AAAAASUVORK5CYII=\n",
       "\" style=\"display:inline;vertical-align:middle;\" /></a></span>"
      ],
      "text/plain": [
       "|- (3 * (-4)) = (-12)"
      ]
     },
     "metadata": {},
     "output_type": "display_data"
    }
   ],
   "source": [
    "Mult(num(3), num(-4)).evaluation()"
   ]
  },
  {
   "cell_type": "code",
   "execution_count": 5,
   "metadata": {},
   "outputs": [
    {
     "data": {
      "text/html": [
       "<span style=\"font-size:20px;\"> <a class=\"ProveItLink\" href=\"../__pv_it/demonstrations/bc3bc6db4d0246599e4ea16e37248f6673c170690/proof.ipynb\" style=\"text-decoration: none\">&nbsp;&#x22A2;&nbsp;&nbsp;</a><a class=\"ProveItLink\" href=\"../__pv_it/demonstrations/6a4852498e749660a61d6ad74974667f034d0d810/expr.ipynb\"><img src=\"data:image/png;base64,iVBORw0KGgoAAAANSUhEUgAAAJkAAAAVBAMAAACnAFEqAAAAMFBMVEX///8AAAAAAAAAAAAAAAAA\n",
       "AAAAAAAAAAAAAAAAAAAAAAAAAAAAAAAAAAAAAAAAAAAv3aB7AAAAD3RSTlMAInZUiRDNmWbv3US7\n",
       "qzJazP2FAAAACXBIWXMAAA7EAAAOxAGVKw4bAAACLUlEQVQ4y41UPUgcQRT+7tbVOz3OI6QKKU7S\n",
       "SCC4hQjaKCRgJdkqogi5JiBWEoST/MBVJoWFFlYScmCRkBBZ0ohWp62CthYmR0oLFURJEZK8N3vu\n",
       "mzcr4ge3N/PeN+9/BkAJQAYKpRt2mbTIQjagzwMt+54iCLrKLsFGP/28EXH95E2EbM0htHB3dBfo\n",
       "ZQ+1lJ3q2xDwK7R6JsJxeOfACxEYQms5i+EA7XTKJsSYLBeXgQ72Mi/SvsC/BN6JoEPCyJ7jeQW5\n",
       "WShCjENgD8jzckmkmxHIWj5MBHmrZKvopkhXoAgx6NDTEANctoot934D7RLQgDo0TIppKEJchD+U\n",
       "VoQ5TmbEVmwRse0g2c6phn6mzxgUQWKrpR39OmoCOYl22tIVH/2g7wKuCK++ML616rZfxhqtOtVE\n",
       "cU89qeSazpSog1CEGBNR8WeAVS5pRENi3Kyz4mOI4hnX4pJ3RPBnjLLJ1AvglKM8c6z5Lx/3NRNr\n",
       "VzihiAN0GdefWtaSRJsoUOCbXMCl9D2gnrqZ/gvZmle/LtPuC2NtiDOtO3WDmbcd+iuU5cQHk2mu\n",
       "kQh2RJc/MJkuchcaTmCDof833e73Zt6smRkTXa5m5i09VISHYYFUx1yPujVRVbr16JRKHltHNqp0\n",
       "6/EVihCjbfQ1i7lT625B78nSENQDV9cEG9ff4XmHYMN9JxS2uQ3OW5ppOAQb912CjSkePUeprE/d\n",
       "wr3EweNxR8t6UgTrYS+5BMF/+3yIxqG6F7sAAAAASUVORK5CYII=\n",
       "\" style=\"display:inline;vertical-align:middle;\" /></a></span>"
      ],
      "text/plain": [
       "|- ((-3) * (-3)) = 9"
      ]
     },
     "metadata": {},
     "output_type": "display_data"
    }
   ],
   "source": [
    "Mult(num(-3), num(-3)).evaluation()"
   ]
  },
  {
   "cell_type": "code",
   "execution_count": 6,
   "metadata": {},
   "outputs": [
    {
     "name": "stdout",
     "output_type": "stream",
     "text": [
      "Evaluation of 12 * (-3) under assumptions {} is not known\n",
      "because multi-digit multiplication is not implemented\n"
     ]
    }
   ],
   "source": [
    "# multi-digit multiplication is not yet implemented\n",
    "from proveit.logic import EvaluationError\n",
    "try:\n",
    "    Mult(num(12), num(-3)).evaluation()\n",
    "except EvaluationError as _e:\n",
    "    print(_e)\n",
    "    print('because multi-digit multiplication is not implemented')"
   ]
  },
  {
   "cell_type": "code",
   "execution_count": 7,
   "metadata": {},
   "outputs": [
    {
     "data": {
      "text/html": [
       "<span style=\"font-size:20px;\"> <a class=\"ProveItLink\" href=\"../__pv_it/demonstrations/f8b70743306cc24ec5a35d8c097e9e0a54f5d6220/proof.ipynb\" style=\"text-decoration: none\">&nbsp;&#x22A2;&nbsp;&nbsp;</a><a class=\"ProveItLink\" href=\"../__pv_it/demonstrations/86b44d371b83874819e5ed035b41513d4b3587750/expr.ipynb\"><img src=\"data:image/png;base64,iVBORw0KGgoAAAANSUhEUgAAAGwAAAAyBAMAAABLzCN5AAAAMFBMVEX///8AAAAAAAAAAAAAAAAA\n",
       "AAAAAAAAAAAAAAAAAAAAAAAAAAAAAAAAAAAAAAAAAAAv3aB7AAAAD3RSTlMAuzKrZonNIu/ddhCZ\n",
       "VERetuGgAAAACXBIWXMAAA7EAAAOxAGVKw4bAAACi0lEQVRIx41WQWgTQRR92aRNNummRU8i1CAo\n",
       "6KVBC7anFBTxlkDxJqSeVYgHEUGwELSCYAN6sCgY8eihAa9C20tRWLAXz8lRQWjUmkBiGndnJjqz\n",
       "O382A5m/+cPb+X/e/28W8EYsB+3IHIdpzFMLZxoGVLwEJN3rypZ3rs16s1MzwC57v9uYOJTD20Zz\n",
       "z7PLNCq55k0XgMeSLz3A1opn7SUSZte9ab2BQuW/L/sU0z7MeULCrvjTIlBQz7PJNrpJwh4K+1rx\n",
       "Zp8zs18hUOk+t1ZP9lpvzzE7madSy6v2X5D+ScLpE7A5kdJOwJ9igEyPgC1wk1A2s3KIDdjTMQJW\n",
       "5eYLklL20/0RrKg/E+uAmxLSUgGm8iJIbOkJT3eZuee6nyRvYknw5r9AN2KrnLThsCO7v7uzYl1f\n",
       "zakZY09hoh3O66UX+7YZljgMet7velnP1c0wq6etK14M9Mj80cKKOTMMv7SwzUoE7IcWVm5EwB6x\n",
       "eWqDjfwI9jkKtqHdrcBrcOgPVky+FoD95Yy9MMCk9gvyqIeNGWQwt3JlrCMJERDFWzVcpt0x6A5V\n",
       "SXyhM49mi0vz1Z2WvHZ/94gort96BeLd+AHOQBb4GZRbVCkzxviBb+5l5DaNV5Di/au8TeKJ0Yuv\n",
       "LXRUtYt3ZdEIJbgqHpwD2VtD/Cd/auu7dyS73wISZbdNomGJ2M+eDzAh2v5B3UxnMPdnMMkrPo4e\n",
       "1pXqnBLBLRJVsM/4OQmcUFTlorDU1cE7ZdhQYU4Jd5UT0x9lNRDkKeCd7tYLXMKXVN6Sr1y3ZryE\n",
       "UfR3ybpKKdueJrDyOUp2xmSJ7ppsn5brNRpmGzT7Db20HPGpRsS4Yur7W9TCaaOskZ+hNyjEXwly\n",
       "t7znBzuHAAAAAElFTkSuQmCC\n",
       "\" style=\"display:inline;vertical-align:middle;\" /></a></span>"
      ],
      "text/plain": [
       "|- ((2 / 3) * (3 / 2)) = 1"
      ]
     },
     "metadata": {},
     "output_type": "display_data"
    }
   ],
   "source": [
    "Mult(frac(num(2), num(3)), frac(num(3), num(2))).evaluation()"
   ]
  },
  {
   "cell_type": "code",
   "execution_count": 8,
   "metadata": {},
   "outputs": [
    {
     "data": {
      "text/html": [
       "<span style=\"font-size:20px;\"> <a class=\"ProveItLink\" href=\"../__pv_it/demonstrations/9c15341f50b13fdfcf3159019819380b39ab5d000/proof.ipynb\" style=\"text-decoration: none\">&nbsp;&#x22A2;&nbsp;&nbsp;</a><a class=\"ProveItLink\" href=\"../__pv_it/demonstrations/a601e1438d291d7df2d8fbfa7e33ad89074d36640/expr.ipynb\"><img src=\"data:image/png;base64,iVBORw0KGgoAAAANSUhEUgAAAHsAAAAyBAMAAACOvrnoAAAAMFBMVEX///8AAAAAAAAAAAAAAAAA\n",
       "AAAAAAAAAAAAAAAAAAAAAAAAAAAAAAAAAAAAAAAAAAAv3aB7AAAAD3RSTlMAuzKrZonNIu/ddhCZ\n",
       "VERetuGgAAAACXBIWXMAAA7EAAAOxAGVKw4bAAADA0lEQVRIx6VXzWsTQRR/u9k0H5uv6kkKmouC\n",
       "p4bqQUFoQBBvCfRWKwkIXrS4F/FSaKHUHgQb0EMDChERFA/JsQUhgYKKBu3RW/oHCI0ftZi1xvna\n",
       "zU52ZnbBB9mdN+/9dmbe17wAINLyICRzCsLQef9UHkwL4GwrBDpSRo+lt8e8cxs36wiarokR+LPR\n",
       "+XeUuYJ+sRxU9jwKm7+v4dec8EyX7iD4ImxbmIut4x1YEF/xqBToK1EUrt5sgVGDaI6oNNAjbkPk\n",
       "0A9PP5DBtQKkbTy+Ss5fg8h3Pxxuy+DZDuhHeLzG5hJ9rzNezJD3viWBtxH8JxombTY33fAoTMEy\n",
       "seREQQJfLoM+wIs6Co94FY04LW0r4Ad4URZyqRyvkiKWNAeyzZchg2UX2NRlbukqpKglT8hNl8am\n",
       "W2UuKsO9kTyOHEEtWbIkjsuBgQ5GzIfoNMDrkTyKvkAP0y5KwmYFUlVkeBossSfdrifAYx14SdMl\n",
       "LjJ9BW3pKWwhq2k0VBPD4bDqUVja+eh1AE/nNm4U4c08jox4Tp2O0b5SjKJHScZfpZiLNQHpA6W4\n",
       "t6uGm3+U4lI+oBb9UEqbVgD8m1JaCaqG92kG1An5guBzELyulM7S1xATdnG7yrGoaPogQ5f6Dtyl\n",
       "xHgcbCpXD7l52dkrVijTSR0X5PfV/wsbddT12NV0d+Gkd9plzQMhrLtDbTZNq4nZ4aJ/xIpTZruh\n",
       "r5NBljoqecQ8DmMsqYc+QvV1kvqZamUeQtYDH7HJQxH8lxPtEfde7fFFkbERUbUxUR41idEM5xrJ\n",
       "POY0HFZczPDq5PM6O5v+fIYrMg673JCc/VSDD4uxusNY4TUBW3v6LJW/d28W/jZk7EVxCftwnYXr\n",
       "PjGBngfN46IROwioMzRDszYHd1nDlsEnWSG32V3k3bzLJoTtAXxpmU4rQ5oTo8j53WXFzQm8ammO\n",
       "dokc4muXSxmHPS65uhY+OcOJsjwfM3ZgT8pyR0iJ3eCe9plcNBe2JRbvvRqmIV+UCc6Eacjlfwdu\n",
       "BSH/ATYu7SZpZHA7AAAAAElFTkSuQmCC\n",
       "\" style=\"display:inline;vertical-align:middle;\" /></a></span>"
      ],
      "text/plain": [
       "|- ((2 / 3) * (5 / 3)) = (10 / 9)"
      ]
     },
     "metadata": {},
     "output_type": "display_data"
    }
   ],
   "source": [
    "Mult(frac(num(2), num(3)), frac(num(5), num(3))).evaluation()"
   ]
  },
  {
   "cell_type": "code",
   "execution_count": 9,
   "metadata": {},
   "outputs": [
    {
     "data": {
      "text/html": [
       "<span style=\"font-size:20px;\"> <a class=\"ProveItLink\" href=\"../__pv_it/demonstrations/33484406267c783ecd4dd795d082eb8b86e389570/proof.ipynb\" style=\"text-decoration: none\">&nbsp;&#x22A2;&nbsp;&nbsp;</a><a class=\"ProveItLink\" href=\"../__pv_it/demonstrations/759aaf9fbd3fc7b85fe815d531cee080a5aaf2ca0/expr.ipynb\"><img src=\"data:image/png;base64,iVBORw0KGgoAAAANSUhEUgAAALkAAAAyBAMAAADy9Gd0AAAAMFBMVEX///8AAAAAAAAAAAAAAAAA\n",
       "AAAAAAAAAAAAAAAAAAAAAAAAAAAAAAAAAAAAAAAAAAAv3aB7AAAAD3RSTlMAuzKrZonNIu/ddhCZ\n",
       "VERetuGgAAAACXBIWXMAAA7EAAAOxAGVKw4bAAAD60lEQVRYw5VYTWgTQRR+u0ma7OZvERG9aFCE\n",
       "6iWlVShYaEAR8ZIF6aUIKRQPRcRcRA8FU4oUKbSFqmB/oCKePGS9+AOFxIs/EGiO6iU9iYLQEmoD\n",
       "pm3c7G52387MdjZzSPbtzvftzHvfvDezAHoTUnB4e6N5PzvCQ1zwxooA7/TfZc8OgQwbZyMCKro9\n",
       "+ck1mMjuRLvfd0/2i9g4p484NPoZMOIqeh5WILeJbGn+aXuOoT4P8uCYcx0duqv3vQMf8ggRnsET\n",
       "zUOkgG3r/4kH+4M8tooaBBcgpCCEtIY90YRAg8H+zSOuS0CwC30QbyLENVeQFiBQZ7D3lNmOKZDs\n",
       "yTKI+wjxiEBI25j9+g1DrokGkz2ikuwlnX3HQchNApHGnhK08IFxMc5kL2qk+VAF8Z+DkEg5LBL2\n",
       "CeO3xnT8IrDY/zqItDHz6MTzdtOvYwrBsGHIorTGWjN1ir2kQsIcu4EYJBCXXdYxnd14vbDAWqgF\n",
       "YEQ1vg82YtrdIa7CfWQ+Bhg21cEKa6SPYhcUCDZthBlgp50FeI1MXRNT5kLcYbCnMxS7rtHYmI2Q\n",
       "3WMKr1Qq2AeTIM+aV9MsyeTddk63V+F9ykYIbtdJrVZrDL+tMqRh6bjbcbc5MD+egfXRfkdsEQX8\n",
       "tRzj3hQPUSr7ZM9uUreiezxEes0nO6OjtSgPQdSqPtkZk7SEfQgim/LJnqQLSLDOQ5Ci8u5Lh19u\n",
       "8BA5zSd7xBTqVyMfmdkr1OQhNvyyS3SiiTV5CDOLQAu3dvmI7hqTM2yzb4FOYtuu9OomMBDDXm9e\n",
       "IUfixe499kLXnsF+53sml+8uqriFGjxE0a/eI7Te5ToP4X81lbteTWWooeR07+ZJskd45KPVoaTS\n",
       "meCAFmnlkpMJVFxeomU666zbyYSVxah6FV2C3jzKYmjC8j6UyNAVq6bwgZnu9hhlXLAzho6QHL7E\n",
       "HCRJ9l+bsMuucu32jHL1GEoPOsK9aajRe/24NX3Wshukkq4Csh0MHRHEKyLB2Ej/znhXuazGGPsO\n",
       "qosiqgDiy36K4PyAKdkwqw6lqwy/dzoaCNdOghE6SzO+dksQnYMzneEaiC/gPhxQbV6zNvZ0i1GZ\n",
       "bf3Vj7pzFADYspeTmAKBrJSnAU4Z80myqnuCXk6OZgyEZAs+2aTZW5rFntX8pOn25lTBIXdEo3uR\n",
       "8sx0xzOL7C0L8c74LJRSrr29fbIJZmi9X7H07u9kA/IyHO14rUG8/0+FymKJipnFBPaBNUjOdaTS\n",
       "CaOF6FF95N8tjxJ2i4cQZ3ywr3rc783zEC/45J4neVnhIQJ81/z09xWCibjDIxdvez7qqfIQ3K8/\n",
       "b7v++mMi/gN1L0YYNLhzUAAAAABJRU5ErkJggg==\n",
       "\" style=\"display:inline;vertical-align:middle;\" /></a></span>"
      ],
      "text/plain": [
       "|- (((-2) / 3) * (5 / 3)) = (-(10 / 9))"
      ]
     },
     "metadata": {},
     "output_type": "display_data"
    }
   ],
   "source": [
    "Mult(frac(num(-2), num(3)), frac(num(5), num(3))).evaluation()"
   ]
  },
  {
   "cell_type": "code",
   "execution_count": 10,
   "metadata": {},
   "outputs": [
    {
     "data": {
      "text/html": [
       "<span style=\"font-size:20px;\"> <a class=\"ProveItLink\" href=\"../__pv_it/demonstrations/088711354e7d1962715166c7d1110945af830c0a0/proof.ipynb\" style=\"text-decoration: none\">&nbsp;&#x22A2;&nbsp;&nbsp;</a><a class=\"ProveItLink\" href=\"../__pv_it/demonstrations/e80fc2d264689bd920ee97d32e3bb8f9786e098d0/expr.ipynb\"><img src=\"data:image/png;base64,iVBORw0KGgoAAAANSUhEUgAAAJIAAAAyBAMAAABFSZ9TAAAAMFBMVEX///8AAAAAAAAAAAAAAAAA\n",
       "AAAAAAAAAAAAAAAAAAAAAAAAAAAAAAAAAAAAAAAAAAAv3aB7AAAAD3RSTlMAuzKrZonNIu/ddhCZ\n",
       "VERetuGgAAAACXBIWXMAAA7EAAAOxAGVKw4bAAADC0lEQVRIx6VXzWsTQRR/2U2bTTZfKApS0FwU\n",
       "PFVaDwpCA0IVLwmEXlRIEBHqB+RivQSqBC1SsAEVEvQQEVHxYG56S0AQwaD5D9o/QGi0VbFrGycz\n",
       "m92Z2Zn9qO+yO/NmfzPz3u99LACSUAZ8iT7hteI4+JSjLXe9mqcGlY97HAvm5sxDJ2oSCKWDH7PU\n",
       "VCQNxTVu2cKaOkIoSJCix/DHS/T5yqDd5pZdhVB69EVWjPQaI0Wb1JRmgPqbXZUwqPdl8eVmMdJZ\n",
       "xmY1UH+wy0L0Ga8LkcbGMdJd/s59dqxdOv/FGqyXRUgvMVLM4KYnm+w4dRm03mhANuckksXTUV73\n",
       "kBu3+xBfFhnNvhzZYBJzRZ9vDAW9x9M8Ug3COxbNtwRIZwjSCW76NL8uVYLwpjU6ILhckyBVOZ/n\n",
       "4RbnO/pMkHOaPDk9PVPNg7LJTh8GeMNhIzvZRGgLuamhM8VYHkaedrt8cO2D9z3mG6ek0hzvkCcH\n",
       "g0GJd013irmrU+KHNpqgpSGQjPVlmnYnGBJlfA9Ge4myJdOs9oIh6X9lmlwmGBJsyBRvywGRvssU\n",
       "xVZApHvE7zhMGzS5vgZFasgUM+QxoGVImXZJOA1QdxIca0dIzmoh41lddqZd3k5gp2J5VxYXsSAo\n",
       "n6r/ycwM6ObhBRxXAN6haKFq982LB2VIK1caxKD6T0Ge+zX/BEWwnQP1jjwK638uyCM4uvIYbZOy\n",
       "vR3bNlkkEMtJiW1Bs0Pw7G+TD4Z1xAOJy9YUkspk39WsF5LalyGF6aKafCRt+16YuVyUrdVzBcQA\n",
       "hbq38nxKhjQBi8TJi4IcG2pFdnimuWRQs6jkxDExLM2fgG3E2FxrtQsQJ6Y+KQlftMG6RU0lA6Ft\n",
       "yYFKECcNmqgg7EdIGTp9pAwpklYznRYWdT33SZqzdahQa4akXo6cFhUVc9SF32G6w3BWyqdIB161\n",
       "pN1hBWK4VctZue5bVxrBlQ+f8XOvcJ/uKYwxnvefnJKGa31e8o8Uda/Yz/wjFQL8AblfruSx4IZf\n",
       "pCNehcj3n+I1F+U/6xjXMuBdS9AAAAAASUVORK5CYII=\n",
       "\" style=\"display:inline;vertical-align:middle;\" /></a></span>"
      ],
      "text/plain": [
       "|- (((-2) / 3) * (6 / (-5))) = (4 / 5)"
      ]
     },
     "metadata": {},
     "output_type": "display_data"
    }
   ],
   "source": [
    "Mult(frac(num(-2), num(3)), frac(num(6), num(-5))).evaluation()"
   ]
  },
  {
   "cell_type": "code",
   "execution_count": 11,
   "metadata": {},
   "outputs": [
    {
     "data": {
      "text/html": [
       "<strong id=\"expr\">expr:</strong> <a class=\"ProveItLink\" href=\"../__pv_it/demonstrations/4ffd70d2a98ba12abc33e07d1c482d1790c8812f0/expr.ipynb\"><img src=\"data:image/png;base64,iVBORw0KGgoAAAANSUhEUgAAAKMAAAAqBAMAAAAt/fajAAAAMFBMVEX///8AAAAAAAAAAAAAAAAA\n",
       "AAAAAAAAAAAAAAAAAAAAAAAAAAAAAAAAAAAAAAAAAAAv3aB7AAAAD3RSTlMAMpndq3ZmzYkiRO+7\n",
       "EFRAb64nAAAACXBIWXMAAA7EAAAOxAGVKw4bAAABx0lEQVRIx2NgoCoQvkBd8xh4neqpbSQDQ/yo\n",
       "kaNGjhpJJuifgFWYTU00iJAIDuCyvyQBzBBCiM1oOsVwbXUCN7JlQmginEo1AigasAATRFGiwPD+\n",
       "wdxwBv4LKNKoInMYOH6haMA0kRVhJOs/hvsFDK4Mq9GkUUQ8GRh2o2rAAGIlcCbXLgb+AoaNDEqM\n",
       "qNIoIvsvMPhPQNGAARpKkHnvEzg/MBg+RJFGFXFmYPAXQNaA6e8JyEZymTFwOTBEJKBIo4oAgT2K\n",
       "BgwwjQHJSMYQR3zSMFVf8WgAeQxVD3oENmAxktkBjwZgMp4A0QOLOO6/8ATyHUkaAqCKdODSMA0Q\n",
       "if8g8IFhKgNED7MCyBsCDDz/4AYYATFMGuo8BbArHODSMA0QCShY4uLy2wPG4f+LbCSGNBS8YOCc\n",
       "gFMDBGyBs7gdkDyOKQ2NkQYG1gv4NADBH0TAJmBJZn/Q+JOVlJTxagAG9n9XOHuR0il80pBE+f//\n",
       "dxwaBBh4J1C5uNxfbkztMtj6cy+1C3UHqlcTQ8RItwhHaht5lmH+Aqq7k8eA6kYy/aSyEwsYmD5S\n",
       "10huAwaWD9Q1kgNo6gHqGsmpwBBN7Tw+SUWXgQEAAGiRoL1aQSgAAAAASUVORK5CYII=\n",
       "\" style=\"display:inline;vertical-align:middle;\" /></a><br>"
      ],
      "text/plain": [
       "<IPython.core.display.HTML object>"
      ]
     },
     "metadata": {},
     "output_type": "display_data"
    }
   ],
   "source": [
    "expr = Mult(four, Exp(three, n), Exp(four, n), two, three, frac(one, five))"
   ]
  },
  {
   "cell_type": "code",
   "execution_count": 12,
   "metadata": {},
   "outputs": [
    {
     "data": {
      "text/html": [
       "<span style=\"font-size:20px;\"><a class=\"ProveItLink\" href=\"../../number_sets/natural_numbers/__pv_it/theorems/132c57ec1224a4beaf274a23bd799047020206590/expr.ipynb\"><img src=\"data:image/png;base64,iVBORw0KGgoAAAANSUhEUgAAAEEAAAATBAMAAAA9n32KAAAAMFBMVEX///8AAAAAAAAAAAAAAAAA\n",
       "AAAAAAAAAAAAAAAAAAAAAAAAAAAAAAAAAAAAAAAAAAAv3aB7AAAAD3RSTlMARHarECKJu90yVM1m\n",
       "75kejotwAAAACXBIWXMAAA7EAAAOxAGVKw4bAAAA90lEQVQoz2NgwAf4GAgBdrJVeHyvdmDI/SuA\n",
       "x4wqRgMGlg/4bLEIyGFguMDwvLy2vPwAVhVWBdwBDA3YzFDv6NgAok0PsW7AqkJaBcowZZ6ghlDB\n",
       "qOyaVAQWZ90CU2rKUMAuAFfBxm7E4B8AYnEHIFTMY2lpgIWpIEcBQ/wEsAoGhAqeBcsvwHgO/gIM\n",
       "6x1ArLkdQFAAUcFgwgxXwbCegcEazHBHMoPBmaUBzgVK/2EBMTiQVXAqFMC51xi4vrCBGEwKMKFK\n",
       "INaEq2D9ycC04SSYuQsmBmLwbYDxGBsYWGwWgJnOhWAXM8z+C9TPsgFbfIhVdGCKAwDDkzTgOh63\n",
       "3AAAAABJRU5ErkJggg==\n",
       "\" style=\"display:inline;vertical-align:middle;\" /></a> <a class=\"ProveItLink\" href=\"../__pv_it/demonstrations/a2085e358c5a8c018fd17092e20fc218a67f036d0/proof.ipynb\" style=\"text-decoration: none\">&nbsp;&#x22A2;&nbsp;&nbsp;</a><a class=\"ProveItLink\" href=\"../__pv_it/demonstrations/7ce238cd694b85addae6e76aacdd899c5ccc14620/expr.ipynb\"><img src=\"data:image/png;base64,iVBORw0KGgoAAAANSUhEUgAAAXgAAAAyBAMAAACkB90rAAAAMFBMVEX///8AAAAAAAAAAAAAAAAA\n",
       "AAAAAAAAAAAAAAAAAAAAAAAAAAAAAAAAAAAAAAAAAAAv3aB7AAAAD3RSTlMAuzKrZonNIu/ddhCZ\n",
       "VERetuGgAAAACXBIWXMAAA7EAAAOxAGVKw4bAAAFn0lEQVRo3rWaf2gcRRTH3+3eZfd+5C5REaXQ\n",
       "HqKiQUloEohFyKHSioh3EPUPFXIQFETF/cOiaCCtUYsINhiVRiNEpGqrkBOLggh3RSmKBw3+pX+l\n",
       "UJAIQlJrU02annMzs7szO2/SNLs7cLd7+zYzn5158953ZgNASqIIkZevanrbNaFrz+7wTgeiZwfj\n",
       "Q63JLIWv/na3b8xKHNy/a+2D5DN+Klz3d07xk73Rsn99ar19SPVp7MkqgNUFo2dCtTLCDtahiD0m\n",
       "Q+HhXY35JYcMtgP2gVCNpJnvpefigf9NM2U/IB97HcyL4fzmLXq4H+KB72jgXtPucXMKzL/DtfIs\n",
       "/X49Jvg83rU2Dw/plXCtLDt+U9HDwxhqnefe1BvSWzvaASHdFxf8Iur004Hjtp2+3UpvMS74Ota3\n",
       "Bnf1XFfYJLtGvoYgLvjEFJZeeYS8V7GcqG6RmuelG8lnMjb4JDZjbealnRV4MTAkx+mzNjatum3t\n",
       "OcbOyw4Y/8QGn8Wq7mXJ5RaAL9CMv7k3dQnCo16CDB7Qkj/2fBm49OA9xxtbgk+5VWKDOu/QrD7b\n",
       "bE5p4dWWXBwRnoxhAs/SJ5ZKtiO72kOvwZaEhDm0OuB7ZbDcwIJ8q9Wq6uCRllwcEZ5MKZuPk+E/\n",
       "6/4ndsIrn0JBjHRGw/quCkJKEGWh9chJVGWNItcO4k98hwAfaEnEEeFTK1Dn0H64zzZgcQH2wJKk\n",
       "g/rAnMv7oyTJwu+hcwMjKquPlL2Ew09T+Fx398Hu6+SWfBxudeGTl71Ed8yDz2xAvQqvQtMQKidm\n",
       "u5hreDlBkoXzC9lVjAhJosYaPsenRZ+XWpJwxJ4nVZGnomd7Pfj821CoWivwzq9Cm8Q8Aek7vSol\n",
       "Wbh0BlD4ujrB8SGCm8dEeKklCUeEJ4NYZnelOkSVsFjK98FRYbXWNp+FzMP+rJRlYScacAuq8kji\n",
       "WrIyBtajF+Y4ntSShNO27n/+MXb5PA9d8JkIn1fWEZIZVFn4J7osLahBG4/MGWdMiuRyEXAk6zkY\n",
       "pTHFKgl0xie7A38umRGP7ulHBZLNouHPM+3ChFgK1bAv+ApU9TQRR7K+AacpfApkt1kIpB1A4Kev\n",
       "6MppVdzkUPiKRj5rcHiZgWF63Mfo3KBhe02wK/tE+HpVkIX8BxyuufcWWu3C4NUEaDJfo/esuPUn\n",
       "HRxexZHKEQZvzXG62fYwFSHhd+SsaGZIDUEW0h83Aexa4PdKPa+FB6n+l3ULFxVHhqduk+/vH550\n",
       "d28K68G7JbPrKIIsbNUYvMZtRJ9H3eZsf/+/gzqfUXF8txl1JKnKztRxsoM+L8rCSeY2ugmLirZA\n",
       "0QtzFIdP2PliMKwlSySwXinqSbLwPk2ct9VZntHsGZzTwqM4/IF5ksrtOu9Fvr+aO5UgIZhVWZhv\n",
       "isKMpPFv+RM3tEmqCFlRtJ5s7dHSIzisXILFcLtuWH+vPs03WevqJmjnZR6dnpqphV3EXnBXNhGW\n",
       "9OH39Lsb7sLtyH+Ph22HCLNCI2p4c9PkwiVxBPstJDGmq/HBzzuq9f3I4IlMMg/EBz+MWIcigyf5\n",
       "Lhn5bp/5wEhRv+Qrs/kwcHR36MDQBcZG1PCJmsVCioWtmnrZPNgBE2HD3MRcHJtO7rbBZptOmv20\n",
       "qyllMqN+igH+tMNXW2rJuXMsdzFkI3eRz3LUWep6Ak+dvoBttOapSyWqkAv5cgHWfIUbXXnTDTPl\n",
       "mk7mgj2liuOrLDTSRB5uKm6YwXfg6SOlwNvt2nYip5Mn6tc645ChL7s2e61jNeDzkNqGvtbRjO72\n",
       "i9W8m9aY6NMPN4z/8EvIZq6l3x0ViKUsazrlyUhqzzNvNw7FA/+R5vptTiTalYu+j2Nh176+z3RF\n",
       "Uf2IK0Zi8Zs/tJbBKLzGE8PPxcBuPKM1dSyEr/5Wb0IlitHDfxPvPwvRrvkf29qeZ4NHdscAAAAA\n",
       "SUVORK5CYII=\n",
       "\" style=\"display:inline;vertical-align:middle;\" /></a></span>"
      ],
      "text/plain": [
       "{n in NaturalPos} |- (4 * 3^{n} * 4^{n} * 2 * 3 * (1 / 5)) = ((2 / 5) * 4^{1 + n} * 3^{n + 1})"
      ]
     },
     "metadata": {},
     "output_type": "display_data"
    }
   ],
   "source": [
    "expr.simplification(assumptions=[InSet(n, NaturalPos)])"
   ]
  },
  {
   "cell_type": "code",
   "execution_count": 13,
   "metadata": {},
   "outputs": [
    {
     "data": {
      "text/html": [
       "<span style=\"font-size:20px;\"><a class=\"ProveItLink\" href=\"../../number_sets/natural_numbers/__pv_it/theorems/132c57ec1224a4beaf274a23bd799047020206590/expr.ipynb\"><img src=\"data:image/png;base64,iVBORw0KGgoAAAANSUhEUgAAAEEAAAATBAMAAAA9n32KAAAAMFBMVEX///8AAAAAAAAAAAAAAAAA\n",
       "AAAAAAAAAAAAAAAAAAAAAAAAAAAAAAAAAAAAAAAAAAAv3aB7AAAAD3RSTlMARHarECKJu90yVM1m\n",
       "75kejotwAAAACXBIWXMAAA7EAAAOxAGVKw4bAAAA90lEQVQoz2NgwAf4GAgBdrJVeHyvdmDI/SuA\n",
       "x4wqRgMGlg/4bLEIyGFguMDwvLy2vPwAVhVWBdwBDA3YzFDv6NgAok0PsW7AqkJaBcowZZ6ghlDB\n",
       "qOyaVAQWZ90CU2rKUMAuAFfBxm7E4B8AYnEHIFTMY2lpgIWpIEcBQ/wEsAoGhAqeBcsvwHgO/gIM\n",
       "6x1ArLkdQFAAUcFgwgxXwbCegcEazHBHMoPBmaUBzgVK/2EBMTiQVXAqFMC51xi4vrCBGEwKMKFK\n",
       "INaEq2D9ycC04SSYuQsmBmLwbYDxGBsYWGwWgJnOhWAXM8z+C9TPsgFbfIhVdGCKAwDDkzTgOh63\n",
       "3AAAAABJRU5ErkJggg==\n",
       "\" style=\"display:inline;vertical-align:middle;\" /></a> <a class=\"ProveItLink\" href=\"../__pv_it/demonstrations/a2085e358c5a8c018fd17092e20fc218a67f036d0/proof.ipynb\" style=\"text-decoration: none\">&nbsp;&#x22A2;&nbsp;&nbsp;</a><a class=\"ProveItLink\" href=\"../__pv_it/demonstrations/7ce238cd694b85addae6e76aacdd899c5ccc14620/expr.ipynb\"><img src=\"data:image/png;base64,iVBORw0KGgoAAAANSUhEUgAAAXgAAAAyBAMAAACkB90rAAAAMFBMVEX///8AAAAAAAAAAAAAAAAA\n",
       "AAAAAAAAAAAAAAAAAAAAAAAAAAAAAAAAAAAAAAAAAAAv3aB7AAAAD3RSTlMAuzKrZonNIu/ddhCZ\n",
       "VERetuGgAAAACXBIWXMAAA7EAAAOxAGVKw4bAAAFn0lEQVRo3rWaf2gcRRTH3+3eZfd+5C5REaXQ\n",
       "HqKiQUloEohFyKHSioh3EPUPFXIQFETF/cOiaCCtUYsINhiVRiNEpGqrkBOLggh3RSmKBw3+pX+l\n",
       "UJAIQlJrU02annMzs7szO2/SNLs7cLd7+zYzn5158953ZgNASqIIkZevanrbNaFrz+7wTgeiZwfj\n",
       "Q63JLIWv/na3b8xKHNy/a+2D5DN+Klz3d07xk73Rsn99ar19SPVp7MkqgNUFo2dCtTLCDtahiD0m\n",
       "Q+HhXY35JYcMtgP2gVCNpJnvpefigf9NM2U/IB97HcyL4fzmLXq4H+KB72jgXtPucXMKzL/DtfIs\n",
       "/X49Jvg83rU2Dw/plXCtLDt+U9HDwxhqnefe1BvSWzvaASHdFxf8Iur004Hjtp2+3UpvMS74Ota3\n",
       "Bnf1XFfYJLtGvoYgLvjEFJZeeYS8V7GcqG6RmuelG8lnMjb4JDZjbealnRV4MTAkx+mzNjatum3t\n",
       "OcbOyw4Y/8QGn8Wq7mXJ5RaAL9CMv7k3dQnCo16CDB7Qkj/2fBm49OA9xxtbgk+5VWKDOu/QrD7b\n",
       "bE5p4dWWXBwRnoxhAs/SJ5ZKtiO72kOvwZaEhDm0OuB7ZbDcwIJ8q9Wq6uCRllwcEZ5MKZuPk+E/\n",
       "6/4ndsIrn0JBjHRGw/quCkJKEGWh9chJVGWNItcO4k98hwAfaEnEEeFTK1Dn0H64zzZgcQH2wJKk\n",
       "g/rAnMv7oyTJwu+hcwMjKquPlL2Ew09T+Fx398Hu6+SWfBxudeGTl71Ed8yDz2xAvQqvQtMQKidm\n",
       "u5hreDlBkoXzC9lVjAhJosYaPsenRZ+XWpJwxJ4nVZGnomd7Pfj821CoWivwzq9Cm8Q8Aek7vSol\n",
       "Wbh0BlD4ujrB8SGCm8dEeKklCUeEJ4NYZnelOkSVsFjK98FRYbXWNp+FzMP+rJRlYScacAuq8kji\n",
       "WrIyBtajF+Y4ntSShNO27n/+MXb5PA9d8JkIn1fWEZIZVFn4J7osLahBG4/MGWdMiuRyEXAk6zkY\n",
       "pTHFKgl0xie7A38umRGP7ulHBZLNouHPM+3ChFgK1bAv+ApU9TQRR7K+AacpfApkt1kIpB1A4Kev\n",
       "6MppVdzkUPiKRj5rcHiZgWF63Mfo3KBhe02wK/tE+HpVkIX8BxyuufcWWu3C4NUEaDJfo/esuPUn\n",
       "HRxexZHKEQZvzXG62fYwFSHhd+SsaGZIDUEW0h83Aexa4PdKPa+FB6n+l3ULFxVHhqduk+/vH550\n",
       "d28K68G7JbPrKIIsbNUYvMZtRJ9H3eZsf/+/gzqfUXF8txl1JKnKztRxsoM+L8rCSeY2ugmLirZA\n",
       "0QtzFIdP2PliMKwlSySwXinqSbLwPk2ct9VZntHsGZzTwqM4/IF5ksrtOu9Fvr+aO5UgIZhVWZhv\n",
       "isKMpPFv+RM3tEmqCFlRtJ5s7dHSIzisXILFcLtuWH+vPs03WevqJmjnZR6dnpqphV3EXnBXNhGW\n",
       "9OH39Lsb7sLtyH+Ph22HCLNCI2p4c9PkwiVxBPstJDGmq/HBzzuq9f3I4IlMMg/EBz+MWIcigyf5\n",
       "Lhn5bp/5wEhRv+Qrs/kwcHR36MDQBcZG1PCJmsVCioWtmnrZPNgBE2HD3MRcHJtO7rbBZptOmv20\n",
       "qyllMqN+igH+tMNXW2rJuXMsdzFkI3eRz3LUWep6Ak+dvoBttOapSyWqkAv5cgHWfIUbXXnTDTPl\n",
       "mk7mgj2liuOrLDTSRB5uKm6YwXfg6SOlwNvt2nYip5Mn6tc645ChL7s2e61jNeDzkNqGvtbRjO72\n",
       "i9W8m9aY6NMPN4z/8EvIZq6l3x0ViKUsazrlyUhqzzNvNw7FA/+R5vptTiTalYu+j2Nh176+z3RF\n",
       "Uf2IK0Zi8Zs/tJbBKLzGE8PPxcBuPKM1dSyEr/5Wb0IlitHDfxPvPwvRrvkf29qeZ4NHdscAAAAA\n",
       "SUVORK5CYII=\n",
       "\" style=\"display:inline;vertical-align:middle;\" /></a></span>"
      ],
      "text/plain": [
       "{n in NaturalPos} |- (4 * 3^{n} * 4^{n} * 2 * 3 * (1 / 5)) = ((2 / 5) * 4^{1 + n} * 3^{n + 1})"
      ]
     },
     "metadata": {},
     "output_type": "display_data"
    }
   ],
   "source": [
    "expr.simplification(assumptions=[InSet(n, NaturalPos)])"
   ]
  },
  {
   "cell_type": "code",
   "execution_count": 14,
   "metadata": {},
   "outputs": [
    {
     "data": {
      "text/html": [
       "<span style=\"font-size:20px;\"><a class=\"ProveItLink\" href=\"../../number_sets/natural_numbers/__pv_it/theorems/132c57ec1224a4beaf274a23bd799047020206590/expr.ipynb\"><img src=\"data:image/png;base64,iVBORw0KGgoAAAANSUhEUgAAAEEAAAATBAMAAAA9n32KAAAAMFBMVEX///8AAAAAAAAAAAAAAAAA\n",
       "AAAAAAAAAAAAAAAAAAAAAAAAAAAAAAAAAAAAAAAAAAAv3aB7AAAAD3RSTlMARHarECKJu90yVM1m\n",
       "75kejotwAAAACXBIWXMAAA7EAAAOxAGVKw4bAAAA90lEQVQoz2NgwAf4GAgBdrJVeHyvdmDI/SuA\n",
       "x4wqRgMGlg/4bLEIyGFguMDwvLy2vPwAVhVWBdwBDA3YzFDv6NgAok0PsW7AqkJaBcowZZ6ghlDB\n",
       "qOyaVAQWZ90CU2rKUMAuAFfBxm7E4B8AYnEHIFTMY2lpgIWpIEcBQ/wEsAoGhAqeBcsvwHgO/gIM\n",
       "6x1ArLkdQFAAUcFgwgxXwbCegcEazHBHMoPBmaUBzgVK/2EBMTiQVXAqFMC51xi4vrCBGEwKMKFK\n",
       "INaEq2D9ycC04SSYuQsmBmLwbYDxGBsYWGwWgJnOhWAXM8z+C9TPsgFbfIhVdGCKAwDDkzTgOh63\n",
       "3AAAAABJRU5ErkJggg==\n",
       "\" style=\"display:inline;vertical-align:middle;\" /></a> <a class=\"ProveItLink\" href=\"../__pv_it/demonstrations/23608de6525b955e6310978060b1d44db82576420/proof.ipynb\" style=\"text-decoration: none\">&nbsp;&#x22A2;&nbsp;&nbsp;</a><a class=\"ProveItLink\" href=\"../__pv_it/demonstrations/3b19e9463bc17119562207da062e0dbbc59dcbb30/expr.ipynb\"><img src=\"data:image/png;base64,iVBORw0KGgoAAAANSUhEUgAAAZEAAAAyBAMAAABv8PuQAAAAMFBMVEX///8AAAAAAAAAAAAAAAAA\n",
       "AAAAAAAAAAAAAAAAAAAAAAAAAAAAAAAAAAAAAAAAAAAv3aB7AAAAD3RSTlMAuzKrZonNIu/ddhCZ\n",
       "VERetuGgAAAACXBIWXMAAA7EAAAOxAGVKw4bAAAFfUlEQVRo3r1ab2hbVRQ/eS/ty78m7RBRhC2I\n",
       "ghalZVmhjEGDkyoiNuCfDyo0EBREZPngULSwzCpFBFvsFKcVKjJ1U2jEoSBC31CGYmDFT/pphYFU\n",
       "EFbrbHVZrTf33fdy77vnZnHvXs+Htjkn5/7ur+/c8+cmAERiedAun9XVtl3GoPbpJwLWu0qTXTQF\n",
       "ZZdMrPyz0j4iaW6vRwIMoMb1Evn8bLP1q2dYYY+XQ4r0gUPRmPhQzozmwEpRJnBMYX6+KqmWojHx\n",
       "oZKLZpj8pNjeO6CdCYO6F8ww6XXx4KrpZ8KgXjHEJLuFWhMl/Uw8KIarnwlUUCu266hMPKjksCkm\n",
       "59H9zYMBJhRqKG+KyTKWSqwNE0wo1CiYYhKbwwp8rSsmp8vdYaXH21DTxpjEsSOfGO6GiXWK/hfc\n",
       "jjgt6+DJAMq6ZIxJGlt6qNjVM+mjTPo74vS3O5UWVArPlXD/Xafcq2lUzYO/JPa4l6qIcrKqZiLD\n",
       "xr8d/DTEpAUVq+Hx98DLMHMVjarVHd1kzfWNiPUGRFeYrRRVTBDY02vFRDXEhEAl2BO02sSdh8+s\n",
       "Ol+VgS80lhvSTJ3dJThgnCYR3VHJW5Y7OCYh2MOP74YXP4RcPcSEQC0zBlxZ+Rr6tsFezPJPi5gF\n",
       "jdMPk6uCAyITMr/0FckbLTmESWZg4OjAdSJs2oXzK7Af1nyrz4RADbGkf7LNZGklvQmJfMblKg0x\n",
       "Cxq7Coma4ICdbrmgWJclbzljzPPnRIBNbcNyGV6ChhV6JgSKUKQI420ma6uwCUcgeWebScssaBJN\n",
       "sLcEB6xeyRnCe3iCtyS3VHgmAmz2dciVnXV448cQEwI14b2rp5fP832X4AKkHuLSETELGnsO7A3B\n",
       "AZGcXDviG4h3SEoVcB75c5HtVdwIaUyK2WE4UWTWw4ce9aFYVvxIYPJrOJWIZnZ01js4eMvL9SBI\n",
       "+rx36C3VilAxQm3vMcCsBGqSFiWnyG91sBDqxUSzfAokBxaCXsvx/fGWeJ1jT1N9hpg8226i5ei0\n",
       "PtgLmJVAnaNMekCMrlAqCpnlphbPXUm58co0O7TELLgU44AfXSsKqDH6xz3eVoMUNBu0D8vltpnT\n",
       "kD31cy+og+ed22mJt7ycn2wWVLw3dVj34eNVnImPlEDnKQJFmTiLbKsLrR83A+wJiCddzhxoiBxs\n",
       "v/AdFuTlVUwO8ksF0lrgBcWIRt9r5SG2rWBCoytbKIxNB1PpTp1jApKZxVMJnlM6iNHFnxMWXbx3\n",
       "SC4UCn+NqEIr11QxmQuaN67bnuajS9WM3wrwSScH7sQj3SXvLYt60CDbwKOLQC3lpYx5N1IewgnV\n",
       "WWg05jo5KGaR1IbkLcvvSku8SOqJAopVxsyeP4K0mG1IDSFv9p4mOaRl3IE0El8y+q6iMgreAHlI\n",
       "8239mZ39Siq/NXbjYUcaslXdg1Zi8yl25bwsXwj1/YN4zD55PPIgX8JnuEiSnH2zru4gsTB8++/H\n",
       "ooISqJyrm4ndsYhdQTw03FMRqGTZHBNs0n3LDBMCZdfMMRlDrKNmmBCouPbLVPu+B/P8pBuaI5Gz\n",
       "ve/E3qigBMra1s0kVne8BOVcxo4mcnZugiMRMyiF0n9z51+qdH9zh19X/gehUN8ZYHKuyiZDWTLo\n",
       "ucxsRYzoFtRF3aXxesKEHpQcNkxl5dIYK0NmIxomhUrqLiiv+klrAi3cC3LAzQXN/rUKhdKevEp+\n",
       "0ppXg4Ym0uD+8FrFg9L96dwUpF6jcdTtp3OOCx9H67sY1ERdLxOncYCuGMMLHhIDU9/8EDHxe1C9\n",
       "mr8i4ctFxX/oCWNQ1owZJu8p9LdVjUG9b4SI8tseqX5jULaR8PpFaRkxB/WMASLW00pT74oxqFhe\n",
       "P5Mv/r9vqnlQ/wLH7rgY2RMpXAAAAABJRU5ErkJggg==\n",
       "\" style=\"display:inline;vertical-align:middle;\" /></a></span>"
      ],
      "text/plain": [
       "{n in NaturalPos} |- (4 * 3^{n} * 4^{n} * 2 * 3 * (1 / 5)) = (2 * (1 / 5) * 4^{1 + n} * 3^{n + 1})"
      ]
     },
     "metadata": {},
     "output_type": "display_data"
    }
   ],
   "source": [
    "with Mult.temporary_simplification_directives() as tmp_directives:\n",
    "    tmp_directives.combine_numeric_rationals=False\n",
    "    display(expr.simplification(assumptions=[InSet(n, NaturalPos)]))"
   ]
  },
  {
   "cell_type": "code",
   "execution_count": 15,
   "metadata": {},
   "outputs": [
    {
     "data": {
      "text/html": [
       "<span style=\"font-size:20px;\"><a class=\"ProveItLink\" href=\"../../number_sets/natural_numbers/__pv_it/theorems/132c57ec1224a4beaf274a23bd799047020206590/expr.ipynb\"><img src=\"data:image/png;base64,iVBORw0KGgoAAAANSUhEUgAAAEEAAAATBAMAAAA9n32KAAAAMFBMVEX///8AAAAAAAAAAAAAAAAA\n",
       "AAAAAAAAAAAAAAAAAAAAAAAAAAAAAAAAAAAAAAAAAAAv3aB7AAAAD3RSTlMARHarECKJu90yVM1m\n",
       "75kejotwAAAACXBIWXMAAA7EAAAOxAGVKw4bAAAA90lEQVQoz2NgwAf4GAgBdrJVeHyvdmDI/SuA\n",
       "x4wqRgMGlg/4bLEIyGFguMDwvLy2vPwAVhVWBdwBDA3YzFDv6NgAok0PsW7AqkJaBcowZZ6ghlDB\n",
       "qOyaVAQWZ90CU2rKUMAuAFfBxm7E4B8AYnEHIFTMY2lpgIWpIEcBQ/wEsAoGhAqeBcsvwHgO/gIM\n",
       "6x1ArLkdQFAAUcFgwgxXwbCegcEazHBHMoPBmaUBzgVK/2EBMTiQVXAqFMC51xi4vrCBGEwKMKFK\n",
       "INaEq2D9ycC04SSYuQsmBmLwbYDxGBsYWGwWgJnOhWAXM8z+C9TPsgFbfIhVdGCKAwDDkzTgOh63\n",
       "3AAAAABJRU5ErkJggg==\n",
       "\" style=\"display:inline;vertical-align:middle;\" /></a> <a class=\"ProveItLink\" href=\"../__pv_it/demonstrations/23608de6525b955e6310978060b1d44db82576420/proof.ipynb\" style=\"text-decoration: none\">&nbsp;&#x22A2;&nbsp;&nbsp;</a><a class=\"ProveItLink\" href=\"../__pv_it/demonstrations/3b19e9463bc17119562207da062e0dbbc59dcbb30/expr.ipynb\"><img src=\"data:image/png;base64,iVBORw0KGgoAAAANSUhEUgAAAZEAAAAyBAMAAABv8PuQAAAAMFBMVEX///8AAAAAAAAAAAAAAAAA\n",
       "AAAAAAAAAAAAAAAAAAAAAAAAAAAAAAAAAAAAAAAAAAAv3aB7AAAAD3RSTlMAuzKrZonNIu/ddhCZ\n",
       "VERetuGgAAAACXBIWXMAAA7EAAAOxAGVKw4bAAAFfUlEQVRo3r1ab2hbVRQ/eS/ty78m7RBRhC2I\n",
       "ghalZVmhjEGDkyoiNuCfDyo0EBREZPngULSwzCpFBFvsFKcVKjJ1U2jEoSBC31CGYmDFT/pphYFU\n",
       "EFbrbHVZrTf33fdy77vnZnHvXs+Htjkn5/7ur+/c8+cmAERiedAun9XVtl3GoPbpJwLWu0qTXTQF\n",
       "ZZdMrPyz0j4iaW6vRwIMoMb1Evn8bLP1q2dYYY+XQ4r0gUPRmPhQzozmwEpRJnBMYX6+KqmWojHx\n",
       "oZKLZpj8pNjeO6CdCYO6F8ww6XXx4KrpZ8KgXjHEJLuFWhMl/Uw8KIarnwlUUCu266hMPKjksCkm\n",
       "59H9zYMBJhRqKG+KyTKWSqwNE0wo1CiYYhKbwwp8rSsmp8vdYaXH21DTxpjEsSOfGO6GiXWK/hfc\n",
       "jjgt6+DJAMq6ZIxJGlt6qNjVM+mjTPo74vS3O5UWVArPlXD/Xafcq2lUzYO/JPa4l6qIcrKqZiLD\n",
       "xr8d/DTEpAUVq+Hx98DLMHMVjarVHd1kzfWNiPUGRFeYrRRVTBDY02vFRDXEhEAl2BO02sSdh8+s\n",
       "Ol+VgS80lhvSTJ3dJThgnCYR3VHJW5Y7OCYh2MOP74YXP4RcPcSEQC0zBlxZ+Rr6tsFezPJPi5gF\n",
       "jdMPk6uCAyITMr/0FckbLTmESWZg4OjAdSJs2oXzK7Af1nyrz4RADbGkf7LNZGklvQmJfMblKg0x\n",
       "Cxq7Coma4ICdbrmgWJclbzljzPPnRIBNbcNyGV6ChhV6JgSKUKQI420ma6uwCUcgeWebScssaBJN\n",
       "sLcEB6xeyRnCe3iCtyS3VHgmAmz2dciVnXV448cQEwI14b2rp5fP832X4AKkHuLSETELGnsO7A3B\n",
       "AZGcXDviG4h3SEoVcB75c5HtVdwIaUyK2WE4UWTWw4ce9aFYVvxIYPJrOJWIZnZ01js4eMvL9SBI\n",
       "+rx36C3VilAxQm3vMcCsBGqSFiWnyG91sBDqxUSzfAokBxaCXsvx/fGWeJ1jT1N9hpg8226i5ei0\n",
       "PtgLmJVAnaNMekCMrlAqCpnlphbPXUm58co0O7TELLgU44AfXSsKqDH6xz3eVoMUNBu0D8vltpnT\n",
       "kD31cy+og+ed22mJt7ycn2wWVLw3dVj34eNVnImPlEDnKQJFmTiLbKsLrR83A+wJiCddzhxoiBxs\n",
       "v/AdFuTlVUwO8ksF0lrgBcWIRt9r5SG2rWBCoytbKIxNB1PpTp1jApKZxVMJnlM6iNHFnxMWXbx3\n",
       "SC4UCn+NqEIr11QxmQuaN67bnuajS9WM3wrwSScH7sQj3SXvLYt60CDbwKOLQC3lpYx5N1IewgnV\n",
       "WWg05jo5KGaR1IbkLcvvSku8SOqJAopVxsyeP4K0mG1IDSFv9p4mOaRl3IE0El8y+q6iMgreAHlI\n",
       "8239mZ39Siq/NXbjYUcaslXdg1Zi8yl25bwsXwj1/YN4zD55PPIgX8JnuEiSnH2zru4gsTB8++/H\n",
       "ooISqJyrm4ndsYhdQTw03FMRqGTZHBNs0n3LDBMCZdfMMRlDrKNmmBCouPbLVPu+B/P8pBuaI5Gz\n",
       "ve/E3qigBMra1s0kVne8BOVcxo4mcnZugiMRMyiF0n9z51+qdH9zh19X/gehUN8ZYHKuyiZDWTLo\n",
       "ucxsRYzoFtRF3aXxesKEHpQcNkxl5dIYK0NmIxomhUrqLiiv+klrAi3cC3LAzQXN/rUKhdKevEp+\n",
       "0ppXg4Ym0uD+8FrFg9L96dwUpF6jcdTtp3OOCx9H67sY1ERdLxOncYCuGMMLHhIDU9/8EDHxe1C9\n",
       "mr8i4ctFxX/oCWNQ1owZJu8p9LdVjUG9b4SI8tseqX5jULaR8PpFaRkxB/WMASLW00pT74oxqFhe\n",
       "P5Mv/r9vqnlQ/wLH7rgY2RMpXAAAAABJRU5ErkJggg==\n",
       "\" style=\"display:inline;vertical-align:middle;\" /></a></span>"
      ],
      "text/plain": [
       "{n in NaturalPos} |- (4 * 3^{n} * 4^{n} * 2 * 3 * (1 / 5)) = (2 * (1 / 5) * 4^{1 + n} * 3^{n + 1})"
      ]
     },
     "metadata": {},
     "output_type": "display_data"
    }
   ],
   "source": [
    "with Mult.temporary_simplification_directives() as mult_directives:\n",
    "    mult_directives.combine_numeric_rationals=False\n",
    "    mult_directives.combine_all_exponents=True\n",
    "    with Exp.temporary_simplification_directives() as exp_directives:\n",
    "        exp_directives.factor_numeric_rational=False\n",
    "        expr.simplification(assumptions=[InSet(n, NaturalPos)])"
   ]
  },
  {
   "cell_type": "markdown",
   "metadata": {},
   "source": [
    "## Deduce in a number set"
   ]
  },
  {
   "cell_type": "code",
   "execution_count": 16,
   "metadata": {},
   "outputs": [
    {
     "data": {
      "text/html": [
       "<span style=\"font-size:20px;\"><a class=\"ProveItLink\" href=\"../../number_sets/integers/__pv_it/theorems/d848ea4cca362c5030c34cd42ba44608433755680/expr.ipynb\"><img src=\"data:image/png;base64,iVBORw0KGgoAAAANSUhEUgAAAD4AAAAQBAMAAAC8SdExAAAAMFBMVEX///8AAAAAAAAAAAAAAAAA\n",
       "AAAAAAAAAAAAAAAAAAAAAAAAAAAAAAAAAAAAAAAAAAAv3aB7AAAAD3RSTlMAIquJdkTvuxBmmd1U\n",
       "zTKBpmoTAAAACXBIWXMAAA7EAAAOxAGVKw4bAAAA5UlEQVQY02NgwAA8175d3102gQEXYCl6wHCB\n",
       "F6c0A9cCBpYJNgx85UBQiEWeSYChnaMAi7nVu/eCaA4GhnVMDzCkWa80wJh8Cq8Q4ozKjg4gWhYu\n",
       "zcDeUIGQDxNg/wGiLyKEDnM6wNkcmQxcG0CMCwh5ZN9xfWDgNgDZmb179+7tEIceMGVggNnGVsDQ\n",
       "HwAyB+GjdkYgWxHK6XdgmA9mbIDL6wFDgOMDTP4Agy6PAJDhAvfdgihgIMGUszvw7OICMXgPwH13\n",
       "g4GxBmYdh4qdkB+YoR4B9XBtenl+ugFmAJpDwhcFAABrQDOylpV3HQAAAABJRU5ErkJggg==\n",
       "\" style=\"display:inline;vertical-align:middle;\" /></a>, <a class=\"ProveItLink\" href=\"../__pv_it/theorems/338bea1169aca2a51c9e3cdb908726f9096b30730/expr.ipynb\"><img src=\"data:image/png;base64,iVBORw0KGgoAAAANSUhEUgAAAD0AAAATBAMAAADR6hicAAAAMFBMVEX///8AAAAAAAAAAAAAAAAA\n",
       "AAAAAAAAAAAAAAAAAAAAAAAAAAAAAAAAAAAAAAAAAAAv3aB7AAAAD3RSTlMAELvv3c2ZVESJq3Yi\n",
       "MmZ3LnoBAAAACXBIWXMAAA7EAAAOxAGVKw4bAAAA+ElEQVQoz2NgwA3YGPADJrLkRT6pCjBM/twA\n",
       "lWdUdkBToM6xgIHxA1w/awKa/JID8xgYDBiSlJSVlB4wMPAXoMkvV2A9wOAA198vABXf5OISAKLX\n",
       "vOYJQJKfApVu3QhlrOG6sBNJPmr3chDFEwgzfw2DAlMDXJ7xq4D8AZAzDyDkrzE6OsDCj/0jA/MG\n",
       "kDwDQp6voMgAHsgBDPwTgPRlFyBQgMgzLOSCy7NMYOgH+VAIST+DFCM80IDezwf5kAVZnneDAlz+\n",
       "AqMdiObeABPRBeK9cHmuB0yQAA6HiYRDXAUFjCvzIAwpDUhAXv0M1MsYgBmxnSoumKIAyg80ctEW\n",
       "W0oAAAAASUVORK5CYII=\n",
       "\" style=\"display:inline;vertical-align:middle;\" /></a> <a class=\"ProveItLink\" href=\"../__pv_it/demonstrations/0f50aa8ea20e561cfbe61cdc0211ec94488755d90/proof.ipynb\" style=\"text-decoration: none\">&nbsp;&#x22A2;&nbsp;&nbsp;</a><a class=\"ProveItLink\" href=\"../__pv_it/theorems/b95fa19825462832f7487b3b4176f7765b4f81970/expr.ipynb\"><img src=\"data:image/png;base64,iVBORw0KGgoAAAANSUhEUgAAAGQAAAAVBAMAAABCslYDAAAAMFBMVEX///8AAAAAAAAAAAAAAAAA\n",
       "AAAAAAAAAAAAAAAAAAAAAAAAAAAAAAAAAAAAAAAAAAAv3aB7AAAAD3RSTlMAInZUiRDNmWbv3US7\n",
       "qzJazP2FAAAACXBIWXMAAA7EAAAOxAGVKw4bAAABr0lEQVQ4y31TPUvDUBQ9Mdak35kcBCHtD5AO\n",
       "xbng5hf5AYVUoaCgkMGhk3Zz1FG0YEFQCA5FEOnUVlGoVKhanES6CU5dKrh5X9q8tGnIgyT3ntyP\n",
       "8859D4CCieUBja6p1CR24/LF7b8ds1m03fT430CzTGWKrrIvXeRmeEjOVXHGoFd+HJMMqrKEWItW\n",
       "A5KrIOKM6OE4FlWQDdRtL+jeR01jqDYg9GxeWlSA/WjXjlh0pyxb7Kze4U3NRmPtbx6xR4/QSagc\n",
       "2E2+A9NtZs7yDES0R25v0VNVIn0ux6+mK5AtUTac3mnZKXpBUSeQynwEfQRViMfMHhHTkRg4Iwl7\n",
       "CGXI1FmIlEM8g1iP8T81TfN6OO8VQHNSgnXoFTJDbCKUXEshzLo4siIrkP3qENNVHI2O5UCDaBHl\n",
       "bPFFkwn0hs49paTwIdonMd6lrUG2GiS5xMYdzdOusEYCquKVxAddjBA/KWNNJ8UlzkN4sHn+EOe3\n",
       "9fkFLnKnwHZUsezP2wFYfSq1zkuZYUio63Uj5gaf8OrgwIwv2fBKKfhesYYHJtR9U7IeWMT/Jgvq\n",
       "JJbwS/gHEBda1Q8LObwAAAAASUVORK5CYII=\n",
       "\" style=\"display:inline;vertical-align:middle;\" /></a></span>"
      ],
      "text/plain": [
       "{a in IntegerNeg, b in NaturalPos} |- (a * b) in IntegerNeg"
      ]
     },
     "metadata": {},
     "output_type": "display_data"
    }
   ],
   "source": [
    "InSet(Mult(a, b), IntegerNeg).prove(assumptions=[InSet(a, IntegerNeg), \n",
    "                                                 InSet(b, NaturalPos)])"
   ]
  },
  {
   "cell_type": "code",
   "execution_count": 17,
   "metadata": {},
   "outputs": [
    {
     "data": {
      "text/html": [
       "<span style=\"font-size:20px;\"><a class=\"ProveItLink\" href=\"../__pv_it/theorems/c466b12b4db001d3d173b799a64ef69d49ed2e7a0/expr.ipynb\"><img src=\"data:image/png;base64,iVBORw0KGgoAAAANSUhEUgAAAEoAAAAWBAMAAACVshfOAAAAMFBMVEX///8AAAAAAAAAAAAAAAAA\n",
       "AAAAAAAAAAAAAAAAAAAAAAAAAAAAAAAAAAAAAAAAAAAv3aB7AAAAD3RSTlMAIquJdkTvuxBmmd1U\n",
       "zTKBpmoTAAAACXBIWXMAAA7EAAAOxAGVKw4bAAABVElEQVQoz2NgwA2eB4ApY2cGfIDD/ACQ5HRg\n",
       "LcCrjMF9AgMD2wOGj/hVMUx3YJBvYMjBYVV5lQCEOU3gfQPDTqyqnPIYpJXBrOZSBqCqFGyKmCdP\n",
       "YGBdCnKylB4DyMY/2FQ95gUSBVMYGISAijBc77579wUQXdEEJOx4GZoWgngsDqwKSIpiPaBuL3gC\n",
       "JM9wPeiA8I29GhgYGJUdHUAcxhtQ1XwGkUAykvMAsj1hAuw/QDQv1O8MrA5zgOQTngnIYZPJwLUB\n",
       "rAomwmhwEmQWS8DzciCA6OX6wMBtAGI82w0E4BiDuqsBySy2AoZ+cNy3w4UqhCB+RAL9DgzzwQxu\n",
       "uFAwOLzmoKg6wKDLIwAOF5gQFyjsVVGSC7sDzy4uMOsOXMwIGI9aqPGvYifkB2Y1lcLcy7j+7q8H\n",
       "uBJTcDUkhhgYmB5MYSACqLDoPCWsikf9WiUSFwBXpE+6o+nU/wAAAABJRU5ErkJggg==\n",
       "\" style=\"display:inline;vertical-align:middle;\" /></a>, <a class=\"ProveItLink\" href=\"../__pv_it/demonstrations/1336308b4bf2bd3616e3ce7244f5cfb38dc9c8230/expr.ipynb\"><img src=\"data:image/png;base64,iVBORw0KGgoAAAANSUhEUgAAAD8AAAASBAMAAAAeQxsEAAAAMFBMVEX///8AAAAAAAAAAAAAAAAA\n",
       "AAAAAAAAAAAAAAAAAAAAAAAAAAAAAAAAAAAAAAAAAAAv3aB7AAAAD3RSTlMAELvv3c2ZVESJq3Yi\n",
       "MmZ3LnoBAAAACXBIWXMAAA7EAAAOxAGVKw4bAAABCklEQVQoz2NgwASMk5TUDiB4yg7oCnbZMhxZ\n",
       "ieCyJqDJc758wMCRocBwSQkIgCbxF6ApuMkKJBRew/n9AlDGJheXABCtKAUk5rLCFUyB0q0boY5S\n",
       "uA0ky9kuwBRE7V4OongCoXzeCX1Aso8PZjPjVwF5kJ9YYR7j2PAcSN5mfwDls39kYN4AUgAzkWdC\n",
       "HcgE7gYony2AgX8CkL7sAgQKIBGoG2BuZ5nA0A+yTgjuasVTKL4ABkM+SDELXEEnOByewxVcYLQD\n",
       "0dwbYCJsoJBcoQDjcj1ggoR1ONyIWcC4WIaIrJV5EIaUBsxZPPmh3y5gieVOFUhQA0298JoBP1jN\n",
       "vfwGXgXsi4L1oEwA5HI+Dr6IHKAAAAAASUVORK5CYII=\n",
       "\" style=\"display:inline;vertical-align:middle;\" /></a> <a class=\"ProveItLink\" href=\"../__pv_it/demonstrations/26c3863d08eea7342b1b816e1f621bcb3ffe5ae30/proof.ipynb\" style=\"text-decoration: none\">&nbsp;&#x22A2;&nbsp;&nbsp;</a><a class=\"ProveItLink\" href=\"../__pv_it/theorems/099b8b61f07801fc21b2ea8b1d91aa16b10fad110/expr.ipynb\"><img src=\"data:image/png;base64,iVBORw0KGgoAAAANSUhEUgAAAHAAAAAYBAMAAADQaWRPAAAAMFBMVEX///8AAAAAAAAAAAAAAAAA\n",
       "AAAAAAAAAAAAAAAAAAAAAAAAAAAAAAAAAAAAAAAAAAAv3aB7AAAAD3RSTlMAInZUiRDNmWbv3US7\n",
       "qzJazP2FAAAACXBIWXMAAA7EAAAOxAGVKw4bAAACGUlEQVQ4y2NgIBnYCDC4qDCQoU+BgUOB+wDJ\n",
       "+noaGBg4HzB8BDIFMGUFcOrTMQAS8gEMkxkYmAwwpTdhiLD6nDkONO4lWPH7AIYVDAwmaCpOLgAa\n",
       "1oCuUXceg9QVBgbmIwEQjZMYWBPQlLAVAIlUNEGWlgYG7mpgiHCDdAKd+pmBHd1wfpBr2tEEn7AB\n",
       "iQNNQILvugAkcDjRHbUf5BjOAGhYrFoFdtHRWCDhB9LNwHg3gEmB+wKDGbpGL7B7Ie7Ypgr1+IFH\n",
       "QNKY/QFYJwODi3oAQwmIeUVRAa4xV+ky0E8XwEpgXuVz2AEkd3AgR0AGEO8U4PkKD9VvAfECDBxg\n",
       "B7LB4pNboRlIPmJGDo/FQLUzGNgXwPjMXxk4FRiYJ4A1wgQZHSxANjJteHMGCCDGzWZgYP/AwOUA\n",
       "tgxIsCcw8Dsw8H0Ayb1cBQTgVAn1YwCSjUCNnAcY4jeA2MuBGGjEfgMGbrCNMXBVR2XhoYrk1HgF\n",
       "hn7kaKwPYGAGO50LLroFHI/NyBoPATUaMFxjhoUD/wOglxk4wA5kgoc1Oyjl3EbJS74MDDwKzMvZ\n",
       "YXzeBh5gmmN3AHOSEcqAafU6Sny/AgbKJT9ZPXh0XKkAORLsZ4bY07DgYKxP+/4ARSPXA2zZTgrm\n",
       "t1OroJmA90ETqhKOAmwaKzCFLjFdfo0icBCLPkYsRQrzncwTKAIxWDTyCBBR+jAqYIopEtYGAFPd\n",
       "emN9sqA/AAAAAElFTkSuQmCC\n",
       "\" style=\"display:inline;vertical-align:middle;\" /></a></span>"
      ],
      "text/plain": [
       "{a in RationalNonNeg, b in RationalNeg} |- (a * b) in RationalNonPos"
      ]
     },
     "metadata": {},
     "output_type": "display_data"
    }
   ],
   "source": [
    "InSet(Mult(a, b), RationalNonPos).prove(assumptions=[InSet(a, RationalNonNeg), \n",
    "                                                     InSet(b, RationalNeg)])"
   ]
  },
  {
   "cell_type": "code",
   "execution_count": 18,
   "metadata": {},
   "outputs": [
    {
     "data": {
      "text/html": [
       "<span style=\"font-size:20px;\"><a class=\"ProveItLink\" href=\"../__pv_it/demonstrations/7b465b91174eab3efce4596854b41da41b17f7520/expr.ipynb\"><img src=\"data:image/png;base64,iVBORw0KGgoAAAANSUhEUgAAAEEAAAASBAMAAAD2w64vAAAAMFBMVEX///8AAAAAAAAAAAAAAAAA\n",
       "AAAAAAAAAAAAAAAAAAAAAAAAAAAAAAAAAAAAAAAAAAAv3aB7AAAAD3RSTlMAIquJdkTvuxBmmd1U\n",
       "zTKBpmoTAAAACXBIWXMAAA7EAAAOxAGVKw4bAAAA/klEQVQoz2NgwAI4zMurBBjwAac8BmllfAqY\n",
       "J09gYF1awPC8HAiwmvWYF0gUTMEi47579wUQXdEEJOx4MRXEekDdWfAESJ7hegCTYFR2dADTN6AC\n",
       "fAaRQDKS8wBMRZgA+w8QzQtzE6vDHCD5hGcCzO+ZDFwbwCrghhqcBJnBEgDlc31g4DYAMZ7tBoIC\n",
       "EAvqjgaoCrYChn6w6na4kyuEUPzS78AwH8zghqsIBofHHLiKAwy6PCBHsjjAhLhAYapaAOOyO/Ds\n",
       "4gKz7sANMQLGixYiHlXshPzArKZSmNsY19/99QBbfARXQ0KdgYHpwRQGAkCFRecpfhU86tcqoUwA\n",
       "+g07HCZLK0YAAAAASUVORK5CYII=\n",
       "\" style=\"display:inline;vertical-align:middle;\" /></a>, <a class=\"ProveItLink\" href=\"../__pv_it/theorems/338bea1169aca2a51c9e3cdb908726f9096b30730/expr.ipynb\"><img src=\"data:image/png;base64,iVBORw0KGgoAAAANSUhEUgAAAD0AAAATBAMAAADR6hicAAAAMFBMVEX///8AAAAAAAAAAAAAAAAA\n",
       "AAAAAAAAAAAAAAAAAAAAAAAAAAAAAAAAAAAAAAAAAAAv3aB7AAAAD3RSTlMAELvv3c2ZVESJq3Yi\n",
       "MmZ3LnoBAAAACXBIWXMAAA7EAAAOxAGVKw4bAAAA+ElEQVQoz2NgwA3YGPADJrLkRT6pCjBM/twA\n",
       "lWdUdkBToM6xgIHxA1w/awKa/JID8xgYDBiSlJSVlB4wMPAXoMkvV2A9wOAA198vABXf5OISAKLX\n",
       "vOYJQJKfApVu3QhlrOG6sBNJPmr3chDFEwgzfw2DAlMDXJ7xq4D8AZAzDyDkrzE6OsDCj/0jA/MG\n",
       "kDwDQp6voMgAHsgBDPwTgPRlFyBQgMgzLOSCy7NMYOgH+VAIST+DFCM80IDezwf5kAVZnneDAlz+\n",
       "AqMdiObeABPRBeK9cHmuB0yQAA6HiYRDXAUFjCvzIAwpDUhAXv0M1MsYgBmxnSoumKIAyg80ctEW\n",
       "W0oAAAAASUVORK5CYII=\n",
       "\" style=\"display:inline;vertical-align:middle;\" /></a>, <a class=\"ProveItLink\" href=\"../__pv_it/demonstrations/df4ba87d0862a9c4d9cbe7b9e8408418cad6a1720/expr.ipynb\"><img src=\"data:image/png;base64,iVBORw0KGgoAAAANSUhEUgAAAD8AAAASBAMAAAAeQxsEAAAAMFBMVEX///8AAAAAAAAAAAAAAAAA\n",
       "AAAAAAAAAAAAAAAAAAAAAAAAAAAAAAAAAAAAAAAAAAAv3aB7AAAAD3RSTlMAiXZmMiLdVJm77xBE\n",
       "zatgdeJyAAAACXBIWXMAAA7EAAAOxAGVKw4bAAAA8klEQVQoz2NgwATckjNnBDDgAXpLGMIe4pFn\n",
       "NDRg4OmZwOA5EwiwmeTICyQmGGFKaKalXQDRs/cBCRFeDPmz2lAnTnACkuUcDnAZIWUQm/U2lMsi\n",
       "cBhIHmYugMmHFXBMAFK8MOfwKJgDSSd2A5iCRAYuBZACGJ9VoBhkAtMBKJ/jN4T2SgMCkFEMUDds\n",
       "gCrgmgChd8LdNDsOxRf7FSA0G1zBQXA4mMO4/EDHgKxjUoCJcIBC8s0EOHcCAyPYy9fhRsgB4+IF\n",
       "IoAEjSEhtG8OzFms/Xd/OGCJg4PTIEHNwMDnYMSAHzxieu6DVwH7y1uToUwA/EU1eXp7EmEAAAAA\n",
       "SUVORK5CYII=\n",
       "\" style=\"display:inline;vertical-align:middle;\" /></a>, <a class=\"ProveItLink\" href=\"../__pv_it/demonstrations/47bc8cc554bef16e22bc6aac513e386b62872e270/expr.ipynb\"><img src=\"data:image/png;base64,iVBORw0KGgoAAAANSUhEUgAAAD8AAAATBAMAAADVH8ihAAAAMFBMVEX///8AAAAAAAAAAAAAAAAA\n",
       "AAAAAAAAAAAAAAAAAAAAAAAAAAAAAAAAAAAAAAAAAAAv3aB7AAAAD3RSTlMAMs3vmVREEIndIqt2\n",
       "u2aBbGR5AAAACXBIWXMAAA7EAAAOxAGVKw4bAAAA80lEQVQoz2NgwANYGAgAXjIVPLK9r2n7AFkB\n",
       "o7IDiooLqxmy3xYgm8AfgKpgBQMv4wYG37uX794Fm8SQX4CugGWBArIJnRDq7MyZCnAFF5AVqIDJ\n",
       "pOMIE7jLN8AVcO04+BVMqyNZIRu0AK4geQHvdxDNtACuYLHmz+PwkGS3Y2AB28yE5Mh3RUjh/YGB\n",
       "swHEEJ4JBBcgCnjrHsAVMF9gqE8AMWqRTGB0uA7n1R9geA9mcCKHg+NahIIAhk2sIPfxHEBSUMsD\n",
       "t4P3AOsUSLyrwhUsYeB7cA3GY9/TuPogmFV9rQAWm7cY7uoHYMZzxk1IUKMAALvkT+IOeAJ3AAAA\n",
       "AElFTkSuQmCC\n",
       "\" style=\"display:inline;vertical-align:middle;\" /></a> <a class=\"ProveItLink\" href=\"../__pv_it/demonstrations/731a34eea003868b4709912b64f844408e7be2350/proof.ipynb\" style=\"text-decoration: none\">&nbsp;&#x22A2;&nbsp;&nbsp;</a><a class=\"ProveItLink\" href=\"../__pv_it/demonstrations/59ba801be19a2007d89879ba3750f98edf1d76410/expr.ipynb\"><img src=\"data:image/png;base64,iVBORw0KGgoAAAANSUhEUgAAAJcAAAAXBAMAAAD0AcCSAAAAMFBMVEX///8AAAAAAAAAAAAAAAAA\n",
       "AAAAAAAAAAAAAAAAAAAAAAAAAAAAAAAAAAAAAAAAAAAv3aB7AAAAD3RSTlMAInZUiRDNmWbv3US7\n",
       "qzJazP2FAAAACXBIWXMAAA7EAAAOxAGVKw4bAAACAElEQVQ4y2NgoBJgZ6Ai4IFQAiRoESBgGJMB\n",
       "CYZtQuO3zTmfNacBYZgJqjTryQW4TOLLLGBqQBM7IMuwtycAZhhrApo0WwFOd/EbMKSiGybCwMN3\n",
       "gaHmzMkzZxoY2BswdeAC+wMY2jENYxdIgLmME4sOXMALqBwqq7NqVQLcsAMww8yw6MAF0oGBAPHI\n",
       "NlWEy3hDL8AMKwFixiuKCnAduUqXEdqdNB7AmIxX9D4zMLBcALNTkbz5xkwAZlgGEO8U4PkKj81v\n",
       "AfHw1CRlwH4AxoYo4gB7jg2u4oBk1i9VeA5YDNQ/g4Ednh6YvzJwwp25BMEGKQIaxDwBbBhSBHSE\n",
       "ITwyG2joBwYuB7CjQDYkMPA7wNhfoY5lgCvi+wASebkKCA5ADOOJaEA2jPMAQ/wGEHs5EAN17DeA\n",
       "sjmhfoSyQYq4wS6LQXIZX8FROA/ozXgFhn7kZFYPSxzxiGiBKWIGhwcXcjqrk4HzDgHVGTBcY4YF\n",
       "Kf8DYOjA2EAPbIAZBlHEAXYskwKSYTGIPOYLjFUF5uXw4oi3gQeen4BRyQJLGlBF7A5gXjLcMHEG\n",
       "jobTMN4rYABf8pPVgyeNKxUIv7l0qMLFIYq4IC6NPR0AKzUOMpzJh+VArgcklYFSUHrLqVUJmLIc\n",
       "BSQZVoFf+iApZjEewC8fQ1JJT6CMZ1QgwTBFvLIAKbh9fNF+ArcAAAAASUVORK5CYII=\n",
       "\" style=\"display:inline;vertical-align:middle;\" /></a></span>"
      ],
      "text/plain": [
       "{a in RationalNeg, b in NaturalPos, c in RationalNeg, d in RealPos} |- (a * b * c * d) in RealPos"
      ]
     },
     "metadata": {},
     "output_type": "display_data"
    }
   ],
   "source": [
    "InSet(Mult(a, b, c, d), RealPos).prove(assumptions=[InSet(a, RationalNeg), \n",
    "                                                    InSet(b, NaturalPos),\n",
    "                                                    InSet(c, RationalNeg),\n",
    "                                                    InSet(d, RealPos)])"
   ]
  },
  {
   "cell_type": "markdown",
   "metadata": {},
   "source": [
    "## Miscellaneous examples that need to be organized better"
   ]
  },
  {
   "cell_type": "code",
   "execution_count": 19,
   "metadata": {},
   "outputs": [
    {
     "data": {
      "text/html": [
       "<span style=\"font-size:20px;\"><a class=\"ProveItLink\" href=\"../../negation/__pv_it/theorems/e9f87a0977d5044ea8daf1040d2f219396bb3d5b0/expr.ipynb\"><img src=\"data:image/png;base64,iVBORw0KGgoAAAANSUhEUgAAADMAAAAQBAMAAABJt1qBAAAAMFBMVEX///8AAAAAAAAAAAAAAAAA\n",
       "AAAAAAAAAAAAAAAAAAAAAAAAAAAAAAAAAAAAAAAAAAAv3aB7AAAAD3RSTlMAIquJdkTvuxBmmd1U\n",
       "zTKBpmoTAAAACXBIWXMAAA7EAAAOxAGVKw4bAAAA0ElEQVQY02NgwAKaq+86PsYmwcCiNoFjfRVW\n",
       "qSXBDAycWKX4FlQASS0UMffduy8AKaaGAiDZiSwT6wGh2RkXQEUYlR0dwPQNqIAQnwGUFSbA/gNE\n",
       "8wpABR6zToAwODIZuDaApWAGS7E6QBhcHxi4wQY82w0EBWC7oAayFTD0B4AY7TBd7GAXAkG/A8N8\n",
       "MIMbJsUK9hcrUOoAgy4PyAUsDvDQCAISa4HaHXh2cYFF7sDDsHYhx2mg3zhU7IT8wCJNpQ2wkC/7\n",
       "vRA18IKrwQEFAwCqvi28/xxvKQAAAABJRU5ErkJggg==\n",
       "\" style=\"display:inline;vertical-align:middle;\" /></a> <a class=\"ProveItLink\" href=\"../__pv_it/demonstrations/f2ede72e494129b6d9233906bcb7adda09a0e9310/proof.ipynb\" style=\"text-decoration: none\">&nbsp;&#x22A2;&nbsp;&nbsp;</a><a class=\"ProveItLink\" href=\"../__pv_it/demonstrations/e760cd23207d830b9f7e4d8430bc7ddb6814fb340/expr.ipynb\"><img src=\"data:image/png;base64,iVBORw0KGgoAAAANSUhEUgAAAQQAAAAVBAMAAABS242zAAAAMFBMVEX///8AAAAAAAAAAAAAAAAA\n",
       "AAAAAAAAAAAAAAAAAAAAAAAAAAAAAAAAAAAAAAAAAAAv3aB7AAAAD3RSTlMAInZUiRDNmWbv3US7\n",
       "qzJazP2FAAAACXBIWXMAAA7EAAAOxAGVKw4bAAACXklEQVRIx7VWv0scQRR+m3Nz3vmDxUKCKGwg\n",
       "RapggghaSfqEtAHlLG2EKySFBHJVqkBIISRRQdAgWYmkNEUg5h9QDxEtFK2UNNEEBTGQvDeXnZ33\n",
       "Zva8U+6xe7Pz5tv5vnvz3swCQACWeeCwABpgiulGrz3QEto+F+76ppj66OlQjNy1wX11Td3+oUYg\n",
       "Mvmj9PBJDNx8IqEVXK028uy0RiQyZUsUZCmhuSihCqdtxY5oiS9bugSORKYctUfjEjclHTnWe2BN\n",
       "nAlrlSCQU9BPzZAlYUw6+q8kYQPv7urIMZggfGBI6HnYgb+PJAXhvM3bIZeQeNwSuvbBW06TEDPR\n",
       "370FiYSWN7CGufhSrX+kbD0Oy5eg9ZRLSDxuCciPKtwSNNM8rYMh4WkJJrEZkFFAnP8WsnNMguFJ\n",
       "yYWug+W0JdNM05iUQUVCgeruBcACNj/li4jLHkN+CB8no+hdFFERxR4M18f3/8PFJXgRD4KB1Ew4\n",
       "Na6IkpCnSpwB/4Ii7JCQ+waFzywKhiclClKCgdRMGOCvu7vnm/EO9Auaj7EdlLmAuEIIr3lFGJ66\n",
       "FyJh+q76s3oT/A1to/cBXskXEVfoha1MwCQknrrTMWGqVN8fg2qwWKzUIDPEtYaZxSyLguGJJWBC\n",
       "UU41nfCi9M/oYkjN9IN6z/+W9e5+56CMupekBMT55cc993hFJJ54YkwovNp2zrapt4d3p/IvqstE\n",
       "aqb8vvMYn5Mejrt0d6xiHIlM9oFkH0r2wXXpMVXtE6EkmVZdsG7btQoNMWIadg04+IYbI4GYPNdH\n",
       "mut7MmyEAmT6B8GBr2n6qtj8AAAAAElFTkSuQmCC\n",
       "\" style=\"display:inline;vertical-align:middle;\" /></a></span>"
      ],
      "text/plain": [
       "{a in Complex} |- (4 * a) = (a +  a +  ..1 ×.. +  a)"
      ]
     },
     "metadata": {},
     "output_type": "display_data"
    }
   ],
   "source": [
    "Mult(four, a).conversion_to_addition(assumptions=[InSet(a, Complex)])"
   ]
  },
  {
   "cell_type": "code",
   "execution_count": 20,
   "metadata": {},
   "outputs": [
    {
     "data": {
      "text/html": [
       "<strong id=\"complex_assumptions\">complex_assumptions:</strong> <a class=\"ProveItLink\" href=\"../__pv_it/demonstrations/e081016a96087554642fb89b25803a2fd54c8d170/expr.ipynb\"><img src=\"data:image/png;base64,iVBORw0KGgoAAAANSUhEUgAAAS8AAAAVBAMAAADlZnWUAAAAMFBMVEX///8AAAAAAAAAAAAAAAAA\n",
       "AAAAAAAAAAAAAAAAAAAAAAAAAAAAAAAAAAAAAAAAAAAv3aB7AAAAD3RSTlMAInZUiRDNmWbv3US7\n",
       "qzJazP2FAAAACXBIWXMAAA7EAAAOxAGVKw4bAAADLElEQVRIx82WTWgTQRiG302ySZrdxh7EglDd\n",
       "FsSDtuSgHvRgLqKUWhYtqGBJbKnVWypFPCgNXrz4U/RSqmCh2kLwEEr9O4hRiGK9hFL/QMRDQfRU\n",
       "rYqIFL+d3ezsZme3kpMDyczuk/edyXzffLsAmvDfNbakUEqE5K6pvg1pH10gRM/c8dZF1EctPGMM\n",
       "twl/0D6GQ39ybHh0PAB6W+hdXh55Xr1KnswFUAzvEYpDefr3WZF7bAttyEXLczAIetqpWSDOp16T\n",
       "CqCRD9fE4gGaJS9y/6TqQKM193IQrG3JXJm+39jXj/UA2rCrLBZfIOYiWwsFtoOvVCOVzDUrP6r7\n",
       "PFeYqoU8CBZs1Ev0fdi+3+kyrqHVVXvEDTp2ON3vbbIGpWZ+MzJh9kqf7oXVZkNVcm/loMu4hnb6\n",
       "iaN5DFMnLbRqxqU0YAmkiuPgROfbWZ6s0wUQkbbLToiWpOO4Sgsdyy5jF8WlcTOoXnGkghPUPWxS\n",
       "Wbii1ZKWTD/g8syA/NXoj4mgNImzTohFxRFjj7GLAt/MziuOZzFJ6TKGGAtX1J4uN8PVu3VcNfqs\n",
       "CCbSbohmReP1joyzLmMnJacVs/eKw6O4TgdzyfCn9rlArcTSaC2Xnwa+Gxs1TvBOLRwxo8ChKvFg\n",
       "eY2dlKZf8hMnl4yFNZSQKbJSakvKKpffgmIkilwSwRvW3thQ1e2hwNhJ7WMlECujRigzGq6YcbEl\n",
       "941ShaJVxmIsUSYEULayhEOFlSLFzE6PsZPSOip+4vAEnpI+hddhIz1DGi/upKH8MFawgiMsJdtE\n",
       "8Jc1TRsv3o9Y+GUIjR2UdtS67REjXsJ+WrgWno6x+/280g42HZyG/JOGb2E+QqIpAaQj2e2GoWdD\n",
       "8s4cMlmhsYMCG4uAUIxYGl8oHvPdLR3sfu9L3X6BuDlN/7VA1717zTMsv7/rhZF953U3RM+L30MU\n",
       "vdtiY07pvFf9asVIFJH46Cwss3MF10M97HzSKV3mg+OfILYjyJjRc77i9RTNXNAbW6RuiPRqNFzp\n",
       "98Vn6PMkSH+gbihrq9FEOeuHpZKreAmaVjcMYTUa3+z7Uq8aRNL+v3f+VuAvZrYOJJr6wZsAAAAA\n",
       "SUVORK5CYII=\n",
       "\" style=\"display:inline;vertical-align:middle;\" /></a><br>"
      ],
      "text/plain": [
       "<IPython.core.display.HTML object>"
      ]
     },
     "metadata": {},
     "output_type": "display_data"
    }
   ],
   "source": [
    "complex_assumptions = \\\n",
    "    [InSet(a, Complex), InSet(b, Complex), InSet(c, Complex), InSet(d, Complex), InSet(f, Complex)]"
   ]
  },
  {
   "cell_type": "code",
   "execution_count": 21,
   "metadata": {},
   "outputs": [
    {
     "data": {
      "text/html": [
       "<span style=\"font-size:20px;\"><a class=\"ProveItLink\" href=\"../../negation/__pv_it/theorems/e9f87a0977d5044ea8daf1040d2f219396bb3d5b0/expr.ipynb\"><img src=\"data:image/png;base64,iVBORw0KGgoAAAANSUhEUgAAADMAAAAQBAMAAABJt1qBAAAAMFBMVEX///8AAAAAAAAAAAAAAAAA\n",
       "AAAAAAAAAAAAAAAAAAAAAAAAAAAAAAAAAAAAAAAAAAAv3aB7AAAAD3RSTlMAIquJdkTvuxBmmd1U\n",
       "zTKBpmoTAAAACXBIWXMAAA7EAAAOxAGVKw4bAAAA0ElEQVQY02NgwAKaq+86PsYmwcCiNoFjfRVW\n",
       "qSXBDAycWKX4FlQASS0UMffduy8AKaaGAiDZiSwT6wGh2RkXQEUYlR0dwPQNqIAQnwGUFSbA/gNE\n",
       "8wpABR6zToAwODIZuDaApWAGS7E6QBhcHxi4wQY82w0EBWC7oAayFTD0B4AY7TBd7GAXAkG/A8N8\n",
       "MIMbJsUK9hcrUOoAgy4PyAUsDvDQCAISa4HaHXh2cYFF7sDDsHYhx2mg3zhU7IT8wCJNpQ2wkC/7\n",
       "vRA18IKrwQEFAwCqvi28/xxvKQAAAABJRU5ErkJggg==\n",
       "\" style=\"display:inline;vertical-align:middle;\" /></a>, <a class=\"ProveItLink\" href=\"../__pv_it/theorems/a259ec76dfb0a5be60b7c83d797520fa82c1dba60/expr.ipynb\"><img src=\"data:image/png;base64,iVBORw0KGgoAAAANSUhEUgAAADEAAAAQBAMAAABNQoq8AAAAMFBMVEX///8AAAAAAAAAAAAAAAAA\n",
       "AAAAAAAAAAAAAAAAAAAAAAAAAAAAAAAAAAAAAAAAAAAv3aB7AAAAD3RSTlMAELvv3c2ZVESJq3Yi\n",
       "MmZ3LnoBAAAACXBIWXMAAA7EAAAOxAGVKw4bAAAA2UlEQVQY02NgwASSKqF7bjIwMCo7oElwL37A\n",
       "mK8GZLAmoMlkdzIw8IFk+AtQJXgTFIHkMiDuF4AKbXJxCQBSXAIKQFIOiKdAJVo3QmgmHpjxUbuX\n",
       "gyieQCj/FO8ECIPxq4D8AZBDDkBlbnI8gDDYPzIwbwDJwFxwjGMDhMEWwMAP0n7ZBQgUwPZATWOZ\n",
       "wNAPcrcQTA8T2G0Q7+SD3M0Ck+EA+4cDKHOB0Q4cJhvgYdAFJFKBHnvABHF/ODzcVHMYS4BijCvz\n",
       "IAJSGrDAkFT+koMSYJ0q4NCBAQD6uylQEVfDpgAAAABJRU5ErkJggg==\n",
       "\" style=\"display:inline;vertical-align:middle;\" /></a>, <a class=\"ProveItLink\" href=\"../../addition/__pv_it/theorems/b66b5547fa9b0b910f79351152926c658c2718190/expr.ipynb\"><img src=\"data:image/png;base64,iVBORw0KGgoAAAANSUhEUgAAADEAAAAQBAMAAABNQoq8AAAAMFBMVEX///8AAAAAAAAAAAAAAAAA\n",
       "AAAAAAAAAAAAAAAAAAAAAAAAAAAAAAAAAAAAAAAAAAAv3aB7AAAAD3RSTlMAiXZmMiLdVJm77xBE\n",
       "zatgdeJyAAAACXBIWXMAAA7EAAAOxAGVKw4bAAAAw0lEQVQY02NgwAQbp91VdcQizsD0yoC7fwY2\n",
       "maaDDAzM2GRYGmYDyRfIQpppaReAFN+GCUByM5LEWW0IzcnaABMSUnYAkqy3odw4FgEoK6yAA6Sd\n",
       "NwDKd+QxgLISGbgUQDIwIyJ4FCAMjt8Q2isNCCaA7YGaxjUBQu+E6eHcABXZD9XLBpPhAfuHh4GB\n",
       "H2jfAVCYKMDD4ByQ6AXaM4GBEeRqhuvwcJvbyl0G8pOgMcSL++ZsgIX1rG+tKAF2cBo4dGAAAHWD\n",
       "KgtwTxl0AAAAAElFTkSuQmCC\n",
       "\" style=\"display:inline;vertical-align:middle;\" /></a>, <a class=\"ProveItLink\" href=\"../../division/__pv_it/theorems/d6724abdc9486f838f4cf63bc1115e85255ce4c00/expr.ipynb\"><img src=\"data:image/png;base64,iVBORw0KGgoAAAANSUhEUgAAADMAAAAQBAMAAABJt1qBAAAAMFBMVEX///8AAAAAAAAAAAAAAAAA\n",
       "AAAAAAAAAAAAAAAAAAAAAAAAAAAAAAAAAAAAAAAAAAAv3aB7AAAAD3RSTlMAMs3vmVREEIndIqt2\n",
       "u2aBbGR5AAAACXBIWXMAAA7EAAAOxAGVKw4bAAAA4UlEQVQY02NgwAIqbiqdkgCzGJUdUGR4Nj9g\n",
       "978CYfMHoEj5ZDAw8EGl8guQZRgdrgPJLRBOJ4Q6O3OmApDiLrgAJOsgYipgMuk4hMfLBbOaa8fB\n",
       "r2BaHSqwmrEBykpewPsdRDMtgApIsD2AMNjtGFgUwFIwZyxhOwBhsHxg4AQbIDwTCC6A7YIayHyB\n",
       "oT4BxKiF6eIFuxAI6g8wvAczOGFSbGB/sQGlAhg2sYJcwHMAHhrZQMIJqP0A6xQWsIgqPAwvebFH\n",
       "Av3Gvqdx9UGwSPU1WHhVXP7phRoXGTfBAQUDAJ+SNfXA0lXRAAAAAElFTkSuQmCC\n",
       "\" style=\"display:inline;vertical-align:middle;\" /></a>, <a class=\"ProveItLink\" href=\"../__pv_it/demonstrations/5877c4f18966fce44fcf8f5d9907fbb188f1751d0/expr.ipynb\"><img src=\"data:image/png;base64,iVBORw0KGgoAAAANSUhEUgAAADQAAAATBAMAAAAt/zNWAAAAMFBMVEX///8AAAAAAAAAAAAAAAAA\n",
       "AAAAAAAAAAAAAAAAAAAAAAAAAAAAAAAAAAAAAAAAAAAv3aB7AAAAD3RSTlMAmYkQqzLvVES73WZ2\n",
       "Is1wFLxSAAAACXBIWXMAAA7EAAAOxAGVKw4bAAAA3klEQVQoz2NgwAKYNde9uaoAYjEqGaBKHclm\n",
       "MPwpAGKphBWgyDCeAOrYCZZK70TVFcgJ5LOApDg+Q4VOrlr1AEQ7c4Ls2wAkmBZAZPoOQ5VMuAhl\n",
       "cLstARvL+xgqwOsQBDOa/wCY4rsA5bMqdMOk7gdApGB8XoEeGLMeQoWtAoIJYLsuwaS0IJQl3PGT\n",
       "OWGsKRCKCy7VCPIXQwMQ50AEeA4gQsMBSAC9yPsDKvIcru3kwwvmC4E0+weogMkMA3jI5y8EeYXR\n",
       "Aaa4aRYkoGCghK+AAQdYaYdLhmGPLC4ZAK4oMzLOcnldAAAAAElFTkSuQmCC\n",
       "\" style=\"display:inline;vertical-align:middle;\" /></a> <a class=\"ProveItLink\" href=\"../__pv_it/demonstrations/df5fbe8566e266ea4ed8108b0fa18443e3d971e90/proof.ipynb\" style=\"text-decoration: none\">&nbsp;&#x22A2;&nbsp;&nbsp;</a><a class=\"ProveItLink\" href=\"../__pv_it/demonstrations/2c011312d81e5f322a18e407e78569e9ff4ba2540/expr.ipynb\"><img src=\"data:image/png;base64,iVBORw0KGgoAAAANSUhEUgAAAJMAAAAuBAMAAADenzaNAAAAMFBMVEX///8AAAAAAAAAAAAAAAAA\n",
       "AAAAAAAAAAAAAAAAAAAAAAAAAAAAAAAAAAAAAAAAAAAv3aB7AAAAD3RSTlMAInZUiRDNmWbv3US7\n",
       "qzJazP2FAAAACXBIWXMAAA7EAAAOxAGVKw4bAAACyklEQVRIx+2WPWgUQRTH396etx9Zc1cHJRdB\n",
       "TBW2CIIG8ZDYCJGtrAIbEPEshBNSpBEPC7WIJBgCYpqAgmAUDrsDIRchhYWw6KHYyLWmyaGcjSDO\n",
       "zGa+lpnbva2dYvbtzH/ezsx7M78FgArkLEayoeDndTVWTTTMyq/HPmzrho7favAXaz6A6cTQpcSA\n",
       "UkM7jbKwgIUfPpQCqdtqDtEnyq4wdONdALb8VWeYPlGuCPs0wPWm1H12iD5ZbnKzSHa0LnUv46h2\n",
       "p3gwbp/6zHsvTfdY6Lszv1i7/e0NXtyC5Ao7ble8AQvD7yBkmTbhWx1qiyK0o+TbD8huvyIlgudo\n",
       "9FOwWAaYA3DYFF9wG4uEYE+S2Z6TZrWF3PbBrSEzxFKkL9eoHU8jtkURwEVSHyZdOR0IW8h08fKR\n",
       "ftc/sp14ddTmIhqctuQKLTCswpqYVvdoOoTCyZBEAB9JfV7aq/dI5cMXk251uYd2hdoofVvUlSgC\n",
       "eELqVWlWKJ5e1Xxp0ffjTY/lMApfkSaDJALjD8skXg5QcD5dPTnDkqG7wjvnH51m7aIIzD557Eiu\n",
       "3F6e+8WKyNzkS8Ru5PB0oeSrroK9HK5eXyOPE4nmxRyu7t9RzsKo5r2QC7mp8L/ESK2om0dEK0aq\n",
       "CqtvR0frrAarhWYmtMLyZYpWjFQ1Vm9kQmvx+wZFKz5Haqw+zIRWZ26fnmNHi1UnyIDWWLrJkKrG\n",
       "aqmZAa2xtM4uQjVWi1E6WuHxs68MrXUtVm0eDD1a4SdDKyaOBqvmOqSj1fjL0bqlxep4H9LRGl/y\n",
       "h6IrBVbH1iEdrfEfTVtcoAKr5jako9WLGFoxUjVYtTsZ0Brv4SpFqgarVi0drTDZ4mg90GLVbaWj\n",
       "9eiPZochVY3ViSwXzF0BrfgoqrG6ku7IjK6LaN3TYNXopLty95dEtC5qsOpluJHtMxURrRipKqxO\n",
       "jYrWf2Rj0hhz1ki6AAAAAElFTkSuQmCC\n",
       "\" style=\"display:inline;vertical-align:middle;\" /></a></span>"
      ],
      "text/plain": [
       "{a in Complex, b in Complex, c in Complex, d in Complex, f in Complex} |- (a * b * c * d * f) =  \\\\ ((a * b) * c * d * f)"
      ]
     },
     "metadata": {},
     "output_type": "display_data"
    }
   ],
   "source": [
    "Mult(a,b,c,d,f).association(0,2, assumptions=complex_assumptions)"
   ]
  },
  {
   "cell_type": "code",
   "execution_count": 22,
   "metadata": {},
   "outputs": [
    {
     "data": {
      "text/html": [
       "<strong id=\"naturals_assumptions\">naturals_assumptions:</strong> <a class=\"ProveItLink\" href=\"../__pv_it/demonstrations/009d7054f84c2b48b6b301acbe284188119377b00/expr.ipynb\"><img src=\"data:image/png;base64,iVBORw0KGgoAAAANSUhEUgAAAS8AAAAVBAMAAADlZnWUAAAAMFBMVEX///8AAAAAAAAAAAAAAAAA\n",
       "AAAAAAAAAAAAAAAAAAAAAAAAAAAAAAAAAAAAAAAAAAAv3aB7AAAAD3RSTlMAInZUiRDNmWbv3US7\n",
       "qzJazP2FAAAACXBIWXMAAA7EAAAOxAGVKw4bAAADPElEQVRIx82WTWjUQBTH/9kk+71rTkUEMS2K\n",
       "Fy17UC8W3ItYi5bgQbC07NayqCd7KOJBcakHT2rRi1TBSq3CIriICh7EqFSxFdnW+omU4kFRPKxW\n",
       "xYIUJ8kkO9lMUtlTB0Ly5pf3fzN5b2YCQMGya+aQQhkvkG8+L0C6fJHrFQjR9feJhp0L5Uaog28Z\n",
       "xibeG8nMfSBnPXcPB0Bve5yoQK7aVvpQfwDFwHauc6hI5p/nqaeuSEXEqHEgCHrae6UdGHLMFZkA\n",
       "Ks2e5zsXgEiRO7A29CJOjfkg6Gkv9bCCEcd8oAXQ2NZxvvMp1M18Q6lkfsHUSrXJjp34RWFoonSt\n",
       "HjrNhpgaFPLMwDrcwm5qj9rjHNOwhVW/u87+KMpsKEtjS1QnsV/zQrs5EFOpubXMwA64hd20w885\n",
       "XMQAMYWZZtXoFgpOtpQkJmns8PRGs06aNA6E1HLGBTEFPVmmoYWZ1nm3MEtxevgN+M5SBQeJeU9J\n",
       "mukKK7WBpfu7uqznXEH+btx7eVAYxTEXJNqf5TEa2ivMUuCHdfM6R/MYJQvzAiLmu+FafSs4KT6z\n",
       "nrdpOGfc8zwYz9ZBoh3NtFnrzhDOu4UZSma1aN29zuIQyD4ZqRr6pH0pkabT2CntnfXyEeCnsSMN\n",
       "E3ijHp6wslCDRBuvUlZojjBDSfiqn3O6agwspiNn7sXd7BeTKzRbV5EwCkXWefASPQ10ZtLoka1k\n",
       "cYQZ6iwrjnNiyEhlTsVZKy/swPAxaW9jEbNQRjhQplXCLEOinVatUBxhhpIjpOLnLI7gEfHP4LVo\n",
       "lGdIdU6dOWJ9A4xELWKfuQm38OAfMjsXxAtyteqQwRVmKPmitNvjjKiO3SSQKl6PmP199gvhjFlc\n",
       "8m9ye4untb56SJZkpwuaGqTkc3muMEOBNWWA64xIFl9JPqY7V7ea/T2TtJYPG7WzFygRu2eHdWrJ\n",
       "H+54odQ+qLEQnxZ08wCOj/GEWUrWu/2/Uu+MeBnxOXYDvz1Rch3qInvSJXbRg+N/IDYjSNikx32d\n",
       "V5Fs9gf9sUkNQ2SXomKlzxcfJdfDIP89DUNZXYrGx/N+WNBdewynqQ3DEJai0fW+P/VJgwjq8vvn\n",
       "bwb+ASClMGY1Q3kyAAAAAElFTkSuQmCC\n",
       "\" style=\"display:inline;vertical-align:middle;\" /></a><br>"
      ],
      "text/plain": [
       "<IPython.core.display.HTML object>"
      ]
     },
     "metadata": {},
     "output_type": "display_data"
    }
   ],
   "source": [
    "naturals_assumptions = \\\n",
    "    [InSet(a, Natural), InSet(b, Natural), InSet(c, Natural), InSet(d, Natural), InSet(f, Natural)]"
   ]
  },
  {
   "cell_type": "code",
   "execution_count": 23,
   "metadata": {},
   "outputs": [
    {
     "data": {
      "text/html": [
       "<span style=\"font-size:20px;\"><a class=\"ProveItLink\" href=\"../../ordering/__pv_it/theorems/27094ede24067904bb8353fa305df8461a3a4be40/expr.ipynb\"><img src=\"data:image/png;base64,iVBORw0KGgoAAAANSUhEUgAAADMAAAAQBAMAAABJt1qBAAAAMFBMVEX///8AAAAAAAAAAAAAAAAA\n",
       "AAAAAAAAAAAAAAAAAAAAAAAAAAAAAAAAAAAAAAAAAAAv3aB7AAAAD3RSTlMAIquJdkTvuxBmmd1U\n",
       "zTKBpmoTAAAACXBIWXMAAA7EAAAOxAGVKw4bAAAA3ElEQVQY02NgwADd32sbGMy+BTBgATWsCgwc\n",
       "H7DJMGgLWDIwJGCV0ingFWDYgCLkvnv3BRCtOIXxAqpUrAeUocj0wBksxajs6AASYLwBU6PIUMAe\n",
       "AJIKE2D/ARIAmg+XesWxAyjFkcnABTaXlwEhxXngONCFXB8YuA1AAs92A0EBRIpBgwkoxVbA0A/2\n",
       "eDuSLoYmDqBJ/Q4M88EC3MhSfA5A/f0HGHR5QC5gcYBJ1QGxH1CK3YFnFxdY5A5MCsTgAnqeQ8VO\n",
       "yA8s0lTaAKbffgPq4LiAElDB1buRBQCzkDPDLBuujwAAAABJRU5ErkJggg==\n",
       "\" style=\"display:inline;vertical-align:middle;\" /></a>, <a class=\"ProveItLink\" href=\"../../ordering/__pv_it/theorems/5d56aa038eb34c97b005be8161434236efec38e90/expr.ipynb\"><img src=\"data:image/png;base64,iVBORw0KGgoAAAANSUhEUgAAADEAAAAQBAMAAABNQoq8AAAAMFBMVEX///8AAAAAAAAAAAAAAAAA\n",
       "AAAAAAAAAAAAAAAAAAAAAAAAAAAAAAAAAAAAAAAAAAAv3aB7AAAAD3RSTlMAELvv3c2ZVESJq3Yi\n",
       "MmZ3LnoBAAAACXBIWXMAAA7EAAAOxAGVKw4bAAAA5UlEQVQY02NgQAcin1QFGCZ/bmBgVHZAk1Ln\n",
       "WMDA+AHIYE1Ak1lyYB4DgwGQwV+AJrNcgfUAA8igfgGoyCYXlwAQveY1TwBYZgpUonUjlLGG68JO\n",
       "sEzU7uUgPk8gzLQ1DApMDUAZxq8C8gdADjmAkLnG6AiUYf/IwLwBJMOAkOErKAK6jS2AgX8CkH/Z\n",
       "BQgUIDIMC7mAMiwTGPpB7hZC0sMgxegA9k4+yN0syDK8G4C6+S8w2oH43BtgMrpAvBcow/WACRI8\n",
       "4TAZEANoOwPjyjyIgJQGJDCufgaqZwxADq9OFRdkPgBHFjKLuGzoKQAAAABJRU5ErkJggg==\n",
       "\" style=\"display:inline;vertical-align:middle;\" /></a> <a class=\"ProveItLink\" href=\"../__pv_it/demonstrations/3ef54ba17a5d66ea33b9e2549aafb5140ae29d1c0/proof.ipynb\" style=\"text-decoration: none\">&nbsp;&#x22A2;&nbsp;&nbsp;</a><a class=\"ProveItLink\" href=\"../__pv_it/theorems/e8440a3d81af82294aabab26555e6dc0c65dcb480/expr.ipynb\"><img src=\"data:image/png;base64,iVBORw0KGgoAAAANSUhEUgAAAFkAAAAVBAMAAADfv1+LAAAAMFBMVEX///8AAAAAAAAAAAAAAAAA\n",
       "AAAAAAAAAAAAAAAAAAAAAAAAAAAAAAAAAAAAAAAAAAAv3aB7AAAAD3RSTlMAInZUiRDNmWbv3US7\n",
       "qzJazP2FAAAACXBIWXMAAA7EAAAOxAGVKw4bAAABnklEQVQoz3WTPUjDQBiG3xjTpG3aZhaEVHST\n",
       "kkGcHDqqoGSWlhaK4CJ0cOhmcXG0o+BSEClkKiKCU6OCoIK0tjo4dVJ06lKh4OCXS5O2aXJwl7v3\n",
       "nnx/dwdAwVTzkYZtRpvWLj3rnb8HHRuDOrAyuSE8VslC2YPfR5sQerSb92yEijTsesQPZR2oAKLX\n",
       "TMKK7Ngjts2QAnIa9sbc0GkI6/Zi2TCY79YRl7foVS+9ycKxPV4vDcVWrLto0Qc05zpJ1aX3F9rA\n",
       "bNOacm74LZhyneg9mt8oct+tya+eUyAx/yFlRH8JF0SfE3AKserofB9hFXyF0RjRkrZG2hmVpYdI\n",
       "mpmlQcwjkUa8ZzHfBjXTpvEWs+mwiVzd0mrU6b+GhiiznRmzjaxgR5JTcTJe7kMdPIssMk7HVfJy\n",
       "R7SGd95JKNGlNCAx/zNupV6op0jbAmSVr4mOHivLdPRimi0KjlqwM8IPZfe6PZ9yK9gpWTGwPJB9\n",
       "ts/0c2DaNyrS9bvGc8Pv1ZMxceukoh9dCnoNtz4aZwbRGR9NDnxqnDqtJQPYf/KqX8JMSc47AAAA\n",
       "AElFTkSuQmCC\n",
       "\" style=\"display:inline;vertical-align:middle;\" /></a></span>"
      ],
      "text/plain": [
       "{a in Natural, b in Natural} |- (a * b) in Natural"
      ]
     },
     "metadata": {},
     "output_type": "display_data"
    }
   ],
   "source": [
    "InSet(Mult(a,b),Natural).prove(assumptions=naturals_assumptions)"
   ]
  },
  {
   "cell_type": "code",
   "execution_count": 24,
   "metadata": {},
   "outputs": [
    {
     "data": {
      "text/html": [
       "<strong id=\"naturals_pos_assumptions\">naturals_pos_assumptions:</strong> <a class=\"ProveItLink\" href=\"../__pv_it/demonstrations/62380c4634412d81b52f50cd3989d1be2071af850/expr.ipynb\"><img src=\"data:image/png;base64,iVBORw0KGgoAAAANSUhEUgAAAXYAAAAZBAMAAADXpRhtAAAAMFBMVEX///8AAAAAAAAAAAAAAAAA\n",
       "AAAAAAAAAAAAAAAAAAAAAAAAAAAAAAAAAAAAAAAAAAAv3aB7AAAAD3RSTlMAZkRUmRDNuyLviTJ2\n",
       "3asqG0tJAAAACXBIWXMAAA7EAAAOxAGVKw4bAAADbklEQVRYw9WYS2gTURSG/yQzzTsNurTUbFy4\n",
       "0SBI3YjZ2IKgzUoRTBNoCxVE46OGouK4qRupURdxYTEFRaQWuhB1ITgLN7a1BGy1FIIRta22Qm2o\n",
       "trYL70ySaW4ec2aRRXshc+cm35zz33NfZwJgG/RKAHQxwgioFZSjVJ8Wfc9RA8aMMFbUCspRN5XL\n",
       "cWxJ7SaZXc5X+FX8HOuE4+FdPV1GGIT+Xg7i6apPV5YhqIyaBGzxil3z7wHCXExP9NNMeblozkBc\n",
       "LAmp83SAhnDksa6pcTbxk5VceqYcXtghxGKJWGFgOgwwZeWXNADE0RLricW82rf1fhpyzN/TNRUO\n",
       "ot5XUXsTuuDmY5o1wJSVr9E6CanSkO4N0pB9X7euqTov3nBmXNfSH1VdN+TeEl3mZZops4O5Bluk\n",
       "XPuQAajQv2qUEMX7YpvmM/kHPNK8K8nrcqRopswO5jzDI+XaOwxAQ4QpVxwzSt337Jba7i1wHsmK\n",
       "C7yuuoVxP8XAMbaDYzCHqNXHy7L9HM2SEBr7v0GXYvMgplT3cV1FurS5LDkDoRB3ZoY7xRWKsX1A\n",
       "C8cwh8/FyRR3ZO6WrMskBKznqqqUcw1nWXXSi6NqO7KhC9stPdw8OBTEA4pxJ0sY5tDkb+K2YfEO\n",
       "hAgFsTCsAbqUbQkTrGoFptWu9KfT6U95XZ7gD85YM/CPYlpzA7zBMIf47uFkCYtKFwmIpSqLhClx\n",
       "SY17QrlRmtGimIqZEGdsGuYsxSTyZqNFwUKbmCpm7FGEfRSkbQ3VKZs6Z8R1mHK9TBXpwmv+hM5C\n",
       "WCYYMT9HNxjFoVPm9qGwjJ0kxBZkhjDlXMEsc5mFJ3JAaY9pTw6zTeilxilTYU1ZFgTzm617jsEV\n",
       "9hnVHIqKdj9mLBIBseGRc61qlLLPvGPVVRwMqHtFXeGsVm+aNWt/2OULLoFi2CYzyDFoV2a4tt7C\n",
       "7M4qWyYECgJu+wA9Cqa4eny1jbxaGFYFzO7Kjce5BJcdpxXoUS7V0GMcAw3BYgYvVlmgRM2hmyV/\n",
       "4sJg3ygFsW2tEJMqFIQM7Fw+Y36SP4BLFn2wNgz2wyh0jKJYPlM5jywpjhoxSBqELJl2imJ5pDNu\n",
       "wNqpGjGibBByd0corFFJLQ2Yk2vEuGAQMr2VKGyKfl/drEV9X7Ukt6R29X8C4v+ZzVoOA/8B8jdr\n",
       "r84lJ7wAAAAASUVORK5CYII=\n",
       "\" style=\"display:inline;vertical-align:middle;\" /></a><br>"
      ],
      "text/plain": [
       "<IPython.core.display.HTML object>"
      ]
     },
     "metadata": {},
     "output_type": "display_data"
    }
   ],
   "source": [
    "naturals_pos_assumptions = \\\n",
    "    [InSet(a, NaturalPos), InSet(b, NaturalPos), InSet(c, NaturalPos), InSet(d, NaturalPos), InSet(f, NaturalPos)]"
   ]
  },
  {
   "cell_type": "code",
   "execution_count": 25,
   "metadata": {},
   "outputs": [
    {
     "data": {
      "text/html": [
       "<span style=\"font-size:20px;\"><a class=\"ProveItLink\" href=\"../../addition/subtraction/__pv_it/theorems/3491a039698971b62ff4e02bff8d5580af19c47d0/expr.ipynb\"><img src=\"data:image/png;base64,iVBORw0KGgoAAAANSUhEUgAAAD8AAAATBAMAAADVH8ihAAAAMFBMVEX///8AAAAAAAAAAAAAAAAA\n",
       "AAAAAAAAAAAAAAAAAAAAAAAAAAAAAAAAAAAAAAAAAAAv3aB7AAAAD3RSTlMAIquJdkTvuxBmmd1U\n",
       "zTKBpmoTAAAACXBIWXMAAA7EAAAOxAGVKw4bAAAA7UlEQVQoz2NgwAO4GAgAdjIVdH+vbWAw+xaA\n",
       "24QaVgUGjg94rNAWsGRgSGBYXl5WXj4BmwKdAl4Bhg1YTHDfvfsCiFacwngBm4JYDyhDkemBM5IC\n",
       "RmVHBzB9A6ZSkaGAPQChIEyA/QeIBtoLV/CKY8cGWEhyZDJwbQArYEAo4DxwPAEe3h8YuA1AjGe7\n",
       "gaAAooBBgwmugK2AoT8AxGhHMoGhiWMDjNfvwDAfzOBGVsDnUABXcIBBlwfkPhYHmFAdEPvBFbA7\n",
       "8OyCxPsdmBCIwXUBxuNQsRPyA7OaShvA9NtvQN0cF7DEQXD1bkxhAO9GNyFbmCdHAAAAAElFTkSu\n",
       "QmCC\n",
       "\" style=\"display:inline;vertical-align:middle;\" /></a>, <a class=\"ProveItLink\" href=\"../__pv_it/theorems/338bea1169aca2a51c9e3cdb908726f9096b30730/expr.ipynb\"><img src=\"data:image/png;base64,iVBORw0KGgoAAAANSUhEUgAAAD0AAAATBAMAAADR6hicAAAAMFBMVEX///8AAAAAAAAAAAAAAAAA\n",
       "AAAAAAAAAAAAAAAAAAAAAAAAAAAAAAAAAAAAAAAAAAAv3aB7AAAAD3RSTlMAELvv3c2ZVESJq3Yi\n",
       "MmZ3LnoBAAAACXBIWXMAAA7EAAAOxAGVKw4bAAAA+ElEQVQoz2NgwA3YGPADJrLkRT6pCjBM/twA\n",
       "lWdUdkBToM6xgIHxA1w/awKa/JID8xgYDBiSlJSVlB4wMPAXoMkvV2A9wOAA198vABXf5OISAKLX\n",
       "vOYJQJKfApVu3QhlrOG6sBNJPmr3chDFEwgzfw2DAlMDXJ7xq4D8AZAzDyDkrzE6OsDCj/0jA/MG\n",
       "kDwDQp6voMgAHsgBDPwTgPRlFyBQgMgzLOSCy7NMYOgH+VAIST+DFCM80IDezwf5kAVZnneDAlz+\n",
       "AqMdiObeABPRBeK9cHmuB0yQAA6HiYRDXAUFjCvzIAwpDUhAXv0M1MsYgBmxnSoumKIAyg80ctEW\n",
       "W0oAAAAASUVORK5CYII=\n",
       "\" style=\"display:inline;vertical-align:middle;\" /></a> <a class=\"ProveItLink\" href=\"../__pv_it/demonstrations/b7282d37af7c422bcdf1b7104c47e75c12b7ce300/proof.ipynb\" style=\"text-decoration: none\">&nbsp;&#x22A2;&nbsp;&nbsp;</a><a class=\"ProveItLink\" href=\"../__pv_it/theorems/afa2cdfb999cb77685e0ae8f0144f4ef8b87ee750/expr.ipynb\"><img src=\"data:image/png;base64,iVBORw0KGgoAAAANSUhEUgAAAGYAAAAXBAMAAAALjyc1AAAAMFBMVEX///8AAAAAAAAAAAAAAAAA\n",
       "AAAAAAAAAAAAAAAAAAAAAAAAAAAAAAAAAAAAAAAAAAAv3aB7AAAAD3RSTlMAInZUiRDNmWbv3US7\n",
       "qzJazP2FAAAACXBIWXMAAA7EAAAOxAGVKw4bAAABtUlEQVQ4y2NgIBEUMJAODoBJAUwJAQJ6mAww\n",
       "JTah8VnXn0llYJk/G6bHBE365AKgOQ1omngM9jIwxMPsYU1Ak2YD+TIVTZB3IUsDAycD+5kzc86c\n",
       "YGBHN5If5NZ2dD02DIkMXDB7ONH9sj8AJBoA4eisWgV2B6+EghhCjxm6Hi+wAyG2b1OF2SNwj8kB\n",
       "rqcEiBmvKCrA9eQqXWZgYLkAYjLCvcUrwMNwGq4nA4h3CvB8hYfbt4B4AQYOsIvYBBB6+AqiomDp\n",
       "YDFQ2QwG9gUwWeavDJwKDMwTwHoQYSDA0Mx8EsYDxhP7BwYuB7AVQII9gYHfgYHvA0ju5SogOADV\n",
       "wxtwE0kP5wGG+A0g9nIgBureb8DADbYnBtke1gtRMB7QbfEKDP3I0VMfwMAMdisXsh6GRzww3iGg\n",
       "HgOGa8ww7/I/AHqPgQOSFOGhyfMAyHsD4/kCBRSYl7PDTWzgAQYNuwOYkwxPUKDEUQbjvQL6/ZKf\n",
       "rB48rK9UgFwF9h9D7GlIeuDLnwMkw2BquB5gyyVSUHrLqVUJmLIcWDNrBf7MehCLGOMB/HpisIjx\n",
       "CODXw6iAKaaIVwcAULBa6jrTtN8AAAAASUVORK5CYII=\n",
       "\" style=\"display:inline;vertical-align:middle;\" /></a></span>"
      ],
      "text/plain": [
       "{a in NaturalPos, b in NaturalPos} |- (a * b) in NaturalPos"
      ]
     },
     "metadata": {},
     "output_type": "display_data"
    }
   ],
   "source": [
    "InSet(Mult(a,b),NaturalPos).prove(assumptions=naturals_pos_assumptions)"
   ]
  },
  {
   "cell_type": "code",
   "execution_count": 26,
   "metadata": {},
   "outputs": [
    {
     "data": {
      "text/html": [
       "<strong id=\"integers_assumptions\">integers_assumptions:</strong> <a class=\"ProveItLink\" href=\"../__pv_it/demonstrations/24fa37361cea299fec51a6ffc5bbe62131b1db040/expr.ipynb\"><img src=\"data:image/png;base64,iVBORw0KGgoAAAANSUhEUgAAASkAAAAVBAMAAADoeAXTAAAAMFBMVEX///8AAAAAAAAAAAAAAAAA\n",
       "AAAAAAAAAAAAAAAAAAAAAAAAAAAAAAAAAAAAAAAAAAAv3aB7AAAAD3RSTlMAInZUiRDNmWbv3US7\n",
       "qzJazP2FAAAACXBIWXMAAA7EAAAOxAGVKw4bAAADL0lEQVRIx81WS2gTQRj+k83m3bQnD1JxWxE9\n",
       "SMmh7UXBgAjioyyeK1ktRQMKORT04KP04kktClJqoIGiwtJDEB946vqo0FohalEQCbkVBaEoLfYi\n",
       "/jOb3ZndzozSU//LDPPt980/8z9mAaADtpZRf6J5AdI/dXdhZkLM0krr5+35UTGoIv4n+ojMe0Uf\n",
       "7GtAHCw61eerQSz6rglWXKLMEdFypbIChZHDIjSKB9YtkfhFgL2x1iXGg8qQKCPxkMQrnojWnleg\n",
       "scYdITqMewhD8R50Z1CsDG0dMKg7Eq94ItqsqUBT++eE6HWEgpdo2/TuTEg0GyHl6IL9gIYU4Gpb\n",
       "M+SNB/JEtKNy2Y3CHpoyoZ/Xfrrbn/7IlYPKmTP+uXP15ZBTHMiIaGflsiJhF42PwggOkaUugyxG\n",
       "hpneXNb79kL3RzJsY8HImv7Vx7pvhkBGjCz1/JLLwo3JzyDkxupwDofnHdlVmtesdWmFsdZMXzOL\n",
       "ZP00k+5NGt7G03AZAiAjqmXRfrrDBm7SgmncdwIStPq5cmcFrK1CijjB1SrrC+kC3IYAyIhE1pLK\n",
       "4on+tNTCqDYO97AMV4g62jcbza2uXbEaSWvSCCxoRzQ3idiMm535YyQ1iV1zBw7kiEpZ3HxFws2t\n",
       "EK9SDhRrZJUVre500hbgXsdsnqz44GDEIWVMrOJ9LiCqZTF9qhJuZpxEsGjALTcerCc1cdei167o\n",
       "jbAO30CmTg+qt1KDgRxRLYs1U5dwtSq8xEkePmnkAFEviWE5gyX6hV52e1OnL1e33xfKz1ChSmP4\n",
       "Gws7AHJEtSy42SrgQtKBE+i0oT1M0PUhv0TjJnQegCJmX9tolraYeN7vC8MQeeXoazjHAhwIgBxR\n",
       "LQuws9bK8RAXEgX4jnH4MLCjh66feutmb6ZSWpxffw3p+4guXXKj/vVJq+DfVBanKgWw8dvYkTGT\n",
       "BwNEpSzAQS+dQlxI1yAdeDseL9iB17qP79/H3YfB7y6mAuyDf8pekXG3YxDLqj+wggKLbZZIUa0+\n",
       "JENJbF4o2LqhAE9ulkjR9JwlQUnf4brJRouqtI3NEima3CP7M88SIGJssf/2LoC/1+MdVnp3CmcA\n",
       "AAAASUVORK5CYII=\n",
       "\" style=\"display:inline;vertical-align:middle;\" /></a><br>"
      ],
      "text/plain": [
       "<IPython.core.display.HTML object>"
      ]
     },
     "metadata": {},
     "output_type": "display_data"
    }
   ],
   "source": [
    "integers_assumptions = \\\n",
    "    [InSet(a, Integer), InSet(b, Integer), InSet(c, Integer), InSet(d, Integer), InSet(f, Integer)]"
   ]
  },
  {
   "cell_type": "code",
   "execution_count": 27,
   "metadata": {},
   "outputs": [
    {
     "data": {
      "text/html": [
       "<span style=\"font-size:20px;\"><a class=\"ProveItLink\" href=\"../../ordering/__pv_it/theorems/d8d02d2a77383d238ed10b8fda7965dfafa87db90/expr.ipynb\"><img src=\"data:image/png;base64,iVBORw0KGgoAAAANSUhEUgAAADIAAAAQBAMAAACmdTG/AAAAMFBMVEX///8AAAAAAAAAAAAAAAAA\n",
       "AAAAAAAAAAAAAAAAAAAAAAAAAAAAAAAAAAAAAAAAAAAv3aB7AAAAD3RSTlMAIquJdkTvuxBmmd1U\n",
       "zTKBpmoTAAAACXBIWXMAAA7EAAAOxAGVKw4bAAAA3klEQVQY02NgwAA8175d3102AVOCgaXoAcMF\n",
       "XiwSDFwLGFgm2GCTYRJgaOcoQDGlevdeEM3BwLCO6QGSBOuVBhiTT+EViGJUdnQA0bJwCQb2hgoQ\n",
       "FSbA/gNEX0RoP8wJUsuRycC1AcS9gJCBuJnrAwO3Acjs7N27d2+HOOWAKQNDAwNbAUN/AEgvwp3t\n",
       "jEC2IkO/A8N8MH8DXEYP6COODwz9Bxh0eQSAfBe4mxdEAb27gYHdgWcXF0iA9wDczTcYGGsKGDhU\n",
       "7IT8wF5Xj4DIhNWml+enGyAHgjkkdKAAAEfmMVewssrcAAAAAElFTkSuQmCC\n",
       "\" style=\"display:inline;vertical-align:middle;\" /></a>, <a class=\"ProveItLink\" href=\"../../ordering/__pv_it/theorems/035e0ae7bd8c0fe127ee5d2062443d6c874adcdd0/expr.ipynb\"><img src=\"data:image/png;base64,iVBORw0KGgoAAAANSUhEUgAAADAAAAAQBAMAAACigOGCAAAAMFBMVEX///8AAAAAAAAAAAAAAAAA\n",
       "AAAAAAAAAAAAAAAAAAAAAAAAAAAAAAAAAAAAAAAAAAAv3aB7AAAAD3RSTlMAELvv3c2ZVESJq3Yi\n",
       "MmZ3LnoBAAAACXBIWXMAAA7EAAAOxAGVKw4bAAAA50lEQVQY02NgQAfswZ+DXJQfMDAqO6BKcGtd\n",
       "YAhgBTJYE1Al2BIYuB9MBzL4C1AluA4wCDEqABn9AlAjVFxcQTQjA0Mu1wUgYwpEnCNaAKaHd8E1\n",
       "EBW1ezmIOgoXZ2ASUATp/CogfwBIxyBsqeTbAHL2RwZmEB2AkAA7loEtgIF/AtBcExcXFyeIKwpm\n",
       "MDAIMLBMYOgHOhjsQAgQ4gGy14C8kQ+yF+H/tUCfMH5g4L/AaAfi7oY7NqEN6EsHBq4HTOAwYS2A\n",
       "OzaQgUddgYFxZR6Yz7ioESLRrGqkZG80AeFIjkmQIIECANNVKrcrbsjPAAAAAElFTkSuQmCC\n",
       "\" style=\"display:inline;vertical-align:middle;\" /></a>, <a class=\"ProveItLink\" href=\"../__pv_it/demonstrations/ab9efd361cdf04a40e51b5b0d3fd587cd7505e5a0/expr.ipynb\"><img src=\"data:image/png;base64,iVBORw0KGgoAAAANSUhEUgAAADAAAAAQBAMAAACigOGCAAAAMFBMVEX///8AAAAAAAAAAAAAAAAA\n",
       "AAAAAAAAAAAAAAAAAAAAAAAAAAAAAAAAAAAAAAAAAAAv3aB7AAAAD3RSTlMAiXZmMiLdVJm77xBE\n",
       "zatgdeJyAAAACXBIWXMAAA7EAAAOxAGVKw4bAAAAzElEQVQY02NgQAfst37dTJtlgCHOwDTPgeEC\n",
       "L6Y4A0cDA5OBOBYJvgCGndwTkI2YlpYLorkZGFr4HBDiPJc2wJgsDzzAtJAySD4WLs7AuWE2iAor\n",
       "4ACZeBWhuZBZAUQlMnCB6AsICYhjOX5DzF2WlpaWCXFFgQwDwwYGLojLkBy4kxXIfsqwXwHCTYBL\n",
       "PAH6hPsDAz8wVA4AuUpwxzacAPoygQHoJEaQc3kL4I69zcA6HWiaoLE22JKXpyESp+aunLl+pQCS\n",
       "1yUhQQIFAA/aLo4ZZrU0AAAAAElFTkSuQmCC\n",
       "\" style=\"display:inline;vertical-align:middle;\" /></a>, <a class=\"ProveItLink\" href=\"../__pv_it/demonstrations/281ba5ce706314e3783f416248e235040ec067e70/expr.ipynb\"><img src=\"data:image/png;base64,iVBORw0KGgoAAAANSUhEUgAAADIAAAAQBAMAAACmdTG/AAAAMFBMVEX///8AAAAAAAAAAAAAAAAA\n",
       "AAAAAAAAAAAAAAAAAAAAAAAAAAAAAAAAAAAAAAAAAAAv3aB7AAAAD3RSTlMAMs3vmVREEIndIqt2\n",
       "u2aBbGR5AAAACXBIWXMAAA7EAAAOxAGVKw4bAAAA70lEQVQY02NgwACsyp91Z15+AGIyKjsgy/Dc\n",
       "FmBQYIKw+QOQZVgcGHgetELY+QXIMtwLGGrZL0DYnRBTbs6cBKLZGRgcuQUgMioggk0HrpNxgwiI\n",
       "4tpx8CuIXoQwkrfgOohKXsD7HURrIWyK4DsAMtWOgUUBxFVAyEDczPKBgbMBZLblzJkz50KcEtDG\n",
       "wFDAwHyBoT4BpPcCXEstF5C9i6H+AMN7MH8CXGYj0EfsHxjqAxg2sS4A8s/A3eyQAvTuBAbeA6xT\n",
       "WEACTAFwN6szcF29wMC+p3H1QbDX96ZDZJIv2d61t21ACi+2XkjoQAEAkGM3rHcIm38AAAAASUVO\n",
       "RK5CYII=\n",
       "\" style=\"display:inline;vertical-align:middle;\" /></a>, <a class=\"ProveItLink\" href=\"../__pv_it/demonstrations/d6343d637cca489e2c0e71c108c0dc2132ae003e0/expr.ipynb\"><img src=\"data:image/png;base64,iVBORw0KGgoAAAANSUhEUgAAADMAAAATBAMAAADPIygvAAAAMFBMVEX///8AAAAAAAAAAAAAAAAA\n",
       "AAAAAAAAAAAAAAAAAAAAAAAAAAAAAAAAAAAAAAAAAAAv3aB7AAAAD3RSTlMAmYkQqzLvVES73WZ2\n",
       "Is1wFLxSAAAACXBIWXMAAA7EAAAOxAGVKw4bAAAA6UlEQVQoz2NgwAR1+XmzVmaDmYxKBihSJ10Z\n",
       "+BgegJkqYQUoUoIMDKeZIELpnai6fBmYJ1iCWRyfYQatWgU2xoCBMcAVLMK0ACLTdxiuL4RVAERx\n",
       "uy0B07yPEUZO5oRYwX8ATPFdgMuwK+yBMO4HQKQQmmBOZ6iHUGGrgGACmHmcqYGBGcTQgkhZwjUx\n",
       "T7jJwMACMn8KRIALLsUS4MvAYA9i5UAEeA7ApAI5gE72Ajn6B1TkOdzpfAYMNytBLv0AFTGZAfEM\n",
       "R+azmdO+TQKFuwNMddOsVQ+Qw7KEr4ABB1hph0uGYY8sLhkALRQzbjfqL+UAAAAASUVORK5CYII=\n",
       "\" style=\"display:inline;vertical-align:middle;\" /></a> <a class=\"ProveItLink\" href=\"../__pv_it/demonstrations/5d539f59d9f19ee46641a1c73638d0a832f5b64e0/proof.ipynb\" style=\"text-decoration: none\">&nbsp;&#x22A2;&nbsp;&nbsp;</a><a class=\"ProveItLink\" href=\"../__pv_it/demonstrations/d34bf8febcd32d3ac805d38128028f3607d490950/expr.ipynb\"><img src=\"data:image/png;base64,iVBORw0KGgoAAAANSUhEUgAAAKYAAAAVBAMAAAA++IifAAAAMFBMVEX///8AAAAAAAAAAAAAAAAA\n",
       "AAAAAAAAAAAAAAAAAAAAAAAAAAAAAAAAAAAAAAAAAAAv3aB7AAAAD3RSTlMAInZUiRDNmWbv3US7\n",
       "qzJazP2FAAAACXBIWXMAAA7EAAAOxAGVKw4bAAACPElEQVQ4y2NgYBBgIBMw4pRhMiDXTG4FNAHm\n",
       "zJ85q042MDCYoIqznlyAywy+zAIkXokrgwa6884+YEhgA5qRgCbBVoDTYfxIXmK5N5mBLQBVnr2A\n",
       "ganBGUg34NGIBvYjmcFpfZSBA816XgGGGNYDQDl8GtGAF7qyqVA/n1q1DBxuDAx1vA8YGMzwaUQD\n",
       "6ejKMiBxlQR3Bt+F56CgBiWKK4qIKMxVuozQ6aTxAJ5yruh9Rkj0zroOJH3BbDGEz3gCjkKt2inA\n",
       "8xUe798C4uEpVsqA/QCMjawICD6BiDYwMxEhasIBctxioDEzGNjhCYj5KwMn3NFLEGyQIqQkwvgP\n",
       "RFqC2UjCoJTEwDAbGPUfGLgcwE4EpYcEBn4HGPsr1OkMCEXxEBOYP4DI9+AwnLVq1ao10PzjzcAQ\n",
       "ADKT8wBD/AaQ0HIgBmrcbwBlc0I9DmWDFXFB0g8L2GM7wVbCg4chhhHIvgjye7wCQz9y8qyHhXk8\n",
       "UuZDUQSMjAsg0grMRmS8e8AUyvqB4RBQuQHDNWZYvPA/AIYcjA3MDxtgZiIrYoCGcw+YrQRPSQXb\n",
       "gQl/ASg58CgwL2eH54UGHnjuAEY6CywtoShiYJAH21UCyc0G8JSUysB4+ADDK2CAXPKT1YOnpSsV\n",
       "CJ0uHapwcWRFDAz2YHI1ROrOVmhyOzbnzPw5DgxcD8gq52rBCQoaktw+kLwJAxwFZJjIfCEZHDYN\n",
       "OOQPkmEm11FwKpXBJR9Dhpkc6gJ4ncOoQG7dwYSjJgMAXUWCP2yThpoAAAAASUVORK5CYII=\n",
       "\" style=\"display:inline;vertical-align:middle;\" /></a></span>"
      ],
      "text/plain": [
       "{a in Integer, b in Integer, c in Integer, d in Integer, f in Integer} |- (a * b * c * d * f) in Integer"
      ]
     },
     "metadata": {},
     "output_type": "display_data"
    }
   ],
   "source": [
    "InSet(Mult(a,b,c,d,f),Integer).prove(assumptions=integers_assumptions)"
   ]
  },
  {
   "cell_type": "code",
   "execution_count": 28,
   "metadata": {},
   "outputs": [
    {
     "data": {
      "text/html": [
       "<strong id=\"reals_assumptions\">reals_assumptions:</strong> <a class=\"ProveItLink\" href=\"../__pv_it/demonstrations/151168365f068c9825d341a882a786d6aa6a80fd0/expr.ipynb\"><img src=\"data:image/png;base64,iVBORw0KGgoAAAANSUhEUgAAAS8AAAAVBAMAAADlZnWUAAAAMFBMVEX///8AAAAAAAAAAAAAAAAA\n",
       "AAAAAAAAAAAAAAAAAAAAAAAAAAAAAAAAAAAAAAAAAAAv3aB7AAAAD3RSTlMAInZUiRDNmWbv3US7\n",
       "qzJazP2FAAAACXBIWXMAAA7EAAAOxAGVKw4bAAADM0lEQVRIx82WTWgTQRTH//nYJE3WmIMoisVt\n",
       "QfSgJQftxYO5iKVoWQRFoSVbS6ntxQhFPPgRBLUHP4qCSO2hWD8wCAZRwYO4VaLSFgylag8iehJF\n",
       "oVotIlKc2Z1NZrOzG8mpA2F35pf3nzfz3rwdAAksuma45E86QaR3cv72SxcrT4jTw6/6hrO10RK+\n",
       "RzubRP+QfcXYTMF8bx/ygM6m1+PxWdXqxXszHhT924TGfuKcpIkdS0H/xjo9XtDp2DLI8WKpuzTp\n",
       "QYPvL4mNu4Fw1s2xQyHWmfOCIsfCifJqn6getG5LQWx8hjAb2JDLaaW5ZXMs9otB/3juZiUsNQua\n",
       "2nppvNUubKeW1w7jOhXNvPrDtdymvO5g+z3CHNyvOqHVSpBqL9ldDmWPXdhOW92MQ1n0k65vukGh\n",
       "w75uLlrxZ53me2hqo5Eny1UBRLDxvA1S7a/NrAT5ppvm7MI8xbmhtxAbB4s4QLqPErIRrlCi7Njl\n",
       "u9fY39Pd0nf67BRB3yiO2iD0lX1/rP1xCvMU+GE+nMYRDaPkYF5B2AhXiMvvllNWim5VcZE+NRGM\n",
       "piogWfTAHvZKhTW7MEfJqhbMp9M4MIir5GDOUn3SPudI01m0CgPsz4eBn7QiDRF4pxKeMHeuDIm2\n",
       "vJeddIEwR8n0s27G8VnqWJ2OdN4opXxF+CSzaF1HjCaKpIvgMNsbnVt0PMOKgECYo6VjJTCODdJQ\n",
       "phVcMOPCOxb+qFtlLGwkyogASixLypDm7/HVLDudwhwlQkU348AInhL7JN4EaHr6FW5uSV8P0H1Z\n",
       "wD5j8xtF8DdZnQ1S7XbySZEgFOYo2VE27DBGRMdOMpESuBU2xrvKc2cwIOelefI+gxdm2UgKIDmS\n",
       "bTYIfQUi2QmkNaEwR4E1eUBojHAKX0g8ptrqm4zxjgnVukD8TcjP55Aj/Y7tZrZK7x44YbDlpMpD\n",
       "ekEYw+TBZPSGSJin5Lxbp7fSGNE8oh/4An5/PGf7qAf4L11sB/tw/A/EZngJG/SYq/Eqsv6M140t\n",
       "WDNEqhoNFLtc8RHyG/Oy31UzlJRqNFrQ3LBPt9UYQVNqhn5Uo5F1rpd6mRKfsvju/A3APz9sOTpx\n",
       "cQA6AAAAAElFTkSuQmCC\n",
       "\" style=\"display:inline;vertical-align:middle;\" /></a><br>"
      ],
      "text/plain": [
       "<IPython.core.display.HTML object>"
      ]
     },
     "metadata": {},
     "output_type": "display_data"
    }
   ],
   "source": [
    "reals_assumptions = \\\n",
    "    [InSet(a, Real), InSet(b, Real), InSet(c, Real), InSet(d, Real), InSet(f, Real)]"
   ]
  },
  {
   "cell_type": "code",
   "execution_count": 29,
   "metadata": {},
   "outputs": [
    {
     "data": {
      "text/html": [
       "<span style=\"font-size:20px;\"><a class=\"ProveItLink\" href=\"../../ordering/__pv_it/theorems/4aa8d696b1f407d6126de9f51a052e8d90e0848c0/expr.ipynb\"><img src=\"data:image/png;base64,iVBORw0KGgoAAAANSUhEUgAAADMAAAAQBAMAAABJt1qBAAAAMFBMVEX///8AAAAAAAAAAAAAAAAA\n",
       "AAAAAAAAAAAAAAAAAAAAAAAAAAAAAAAAAAAAAAAAAAAv3aB7AAAAD3RSTlMAIquJdkTvuxBmmd1U\n",
       "zTKBpmoTAAAACXBIWXMAAA7EAAAOxAGVKw4bAAAAzElEQVQY02NgwABz0+tvp09gwAoKhBiCpjdg\n",
       "lxJmYOdTwCXFJXABRch99+4LcKkCZJlYD4Qupg6QgYzKjg4gAcYbSAY+PysAZIQJsP8ACfAKwKXE\n",
       "bv8GmcCRycC1ASyF5IyZvSCa6wMDtwGI8Ww3EBRApNg7QV5mK2DoDwAJtCPp4ltQAaT7HRjmgwW4\n",
       "kf21ThwkdYBBlwfkAhYHJKl2FqCJ7A48u7jAInfgUlIMnBNKgS5UsRPyA4s0lTbAQr6Qofz+AeTg\n",
       "CK7ejRxyAISENKeL/c93AAAAAElFTkSuQmCC\n",
       "\" style=\"display:inline;vertical-align:middle;\" /></a>, <a class=\"ProveItLink\" href=\"../../ordering/__pv_it/theorems/6e5cad5b2984ed0d75bd47bd0c542ec447a4f3570/expr.ipynb\"><img src=\"data:image/png;base64,iVBORw0KGgoAAAANSUhEUgAAADEAAAAQBAMAAABNQoq8AAAAMFBMVEX///8AAAAAAAAAAAAAAAAA\n",
       "AAAAAAAAAAAAAAAAAAAAAAAAAAAAAAAAAAAAAAAAAAAv3aB7AAAAD3RSTlMAELvv3c2ZVESJq3Yi\n",
       "MmZ3LnoBAAAACXBIWXMAAA7EAAAOxAGVKw4bAAAA1ElEQVQY02NgQAdPjfRDjB4AGYzKDmhSCqcY\n",
       "uh4JABmsCegyJxmYeBcAGfwFmDJsBwKAjH4BqMgmF5cAuIwCkDEFKtG6EaGHSxBkWtTu5SA+TyCS\n",
       "aZdKDwDd9lVA/gDIIQfgModDvoD0s39kYN4AkkFywTtREM0WwMA/AUhfdgECBYgMkxzIpywTGPpB\n",
       "7hZC0sOboAjxTj7I3SzI/sk9BJK5wGgH4nNvQJIR4gYax/WACRI84XCZYwx8DzSArl6ZBxGQ0hCA\n",
       "hbUOg1I8cph1qkBCBwoAxe43BugJR6MAAAAASUVORK5CYII=\n",
       "\" style=\"display:inline;vertical-align:middle;\" /></a>, <a class=\"ProveItLink\" href=\"../__pv_it/demonstrations/d550e8309ef79ca46e4c9fb5617a392ea678789b0/expr.ipynb\"><img src=\"data:image/png;base64,iVBORw0KGgoAAAANSUhEUgAAADEAAAAQBAMAAABNQoq8AAAAMFBMVEX///8AAAAAAAAAAAAAAAAA\n",
       "AAAAAAAAAAAAAAAAAAAAAAAAAAAAAAAAAAAAAAAAAAAv3aB7AAAAD3RSTlMAiXZmMiLdVJm77xBE\n",
       "zatgdeJyAAAACXBIWXMAAA7EAAAOxAGVKw4bAAAAvUlEQVQY02NgQAe2K+dfW2nAgA1MiGM4Z7kB\n",
       "q0wgAyfLAxwyHAEXkEU009IuwGUmIEmc1Ubo4dsNNk1I2QFIst5GMs2zNgDICCvgAGnlDYDLRF37\n",
       "BtafyMClAJJBcoHxXhDN8RvC90oDggkQGc7NIJ9yQV2xE0kPS8NsIL1fAcJnQ/ZPSySQ5gdqPACk\n",
       "mRSQZHYyAUWBDmMEuZrhOlwmgoHZYA6QIWgM8eK+ORtgYT2VYeb9AqRAODgtDTm0ALktNaaWdOV1\n",
       "AAAAAElFTkSuQmCC\n",
       "\" style=\"display:inline;vertical-align:middle;\" /></a>, <a class=\"ProveItLink\" href=\"../__pv_it/demonstrations/41c3ad9f29c40b69fd61c49f41684c1b813e9e850/expr.ipynb\"><img src=\"data:image/png;base64,iVBORw0KGgoAAAANSUhEUgAAADMAAAAQBAMAAABJt1qBAAAAMFBMVEX///8AAAAAAAAAAAAAAAAA\n",
       "AAAAAAAAAAAAAAAAAAAAAAAAAAAAAAAAAAAAAAAAAAAv3aB7AAAAD3RSTlMAMs3vmVREEIndIqt2\n",
       "u2aBbGR5AAAACXBIWXMAAA7EAAAOxAGVKw4bAAAA3klEQVQY02NgwACPbO9r2j6AsBmVHVDkLqxm\n",
       "yH5bAGHzB6BKrWDgZdwAYecXoEuxLFCAsDsh1NmZMxXgUhcgYipgMuk4Qhd3OchArh0Hv4IEuNSR\n",
       "DJQNWgBkJC/g/Q4SYFoAl1qs+RNkArsdAwvYBiYkZ7wrAtEsHxg4G0AM4ZlAcAEixVsH8jLzBYb6\n",
       "BJBALZIuRofrQLr+AMN7sAAnsr8c14KkAhg2sYJcwHMASaqWB2gi7wHWKSxgEVW41BIGvgfXgC7c\n",
       "07j6IFik+loBLORvMdzVRwnXjJszFZC4AHM6StvnxMwUAAAAAElFTkSuQmCC\n",
       "\" style=\"display:inline;vertical-align:middle;\" /></a>, <a class=\"ProveItLink\" href=\"../__pv_it/demonstrations/43462719e9cd53d7943bf9d012670db2b04e1e660/expr.ipynb\"><img src=\"data:image/png;base64,iVBORw0KGgoAAAANSUhEUgAAADQAAAATBAMAAAAt/zNWAAAAMFBMVEX///8AAAAAAAAAAAAAAAAA\n",
       "AAAAAAAAAAAAAAAAAAAAAAAAAAAAAAAAAAAAAAAAAAAv3aB7AAAAD3RSTlMAmYkQqzLvVES73WZ2\n",
       "Is1wFLxSAAAACXBIWXMAAA7EAAAOxAGVKw4bAAAA20lEQVQoz2NgwADcz2b+WzYbwmZUMkCR4+R1\n",
       "4PCeDGaqhBWgSSkwTAgBM9M7DTCkZPlALI7PUKGTq1Y9gEtxglhMCyAyfYeRdDmbgBzktkQAJMD7\n",
       "GMlA1ulvQSz+A2ABvgsIqbz1a8DW3w+ASCE5Q3sz2FKGeohA2CogmAA1cPJusJgWRMoS2fGBnGAD\n",
       "p0AEuJClGGPB+nMgAjwHkKSYJ5wGOfoHVOQ5QkqAYTdnAwMD+weoiMkMA1jI/7zAOe87MNwdYKqb\n",
       "ZkECCgZK+AoYcICVdrhkGPbI4pIBALSQNWh/XdnsAAAAAElFTkSuQmCC\n",
       "\" style=\"display:inline;vertical-align:middle;\" /></a> <a class=\"ProveItLink\" href=\"../__pv_it/demonstrations/64c6b5e2afc0fbf9f5c3b901ec65df2e35546d7a0/proof.ipynb\" style=\"text-decoration: none\">&nbsp;&#x22A2;&nbsp;&nbsp;</a><a class=\"ProveItLink\" href=\"../__pv_it/demonstrations/9190f4171e03cef293b827739fecf1aa9ff8cc130/expr.ipynb\"><img src=\"data:image/png;base64,iVBORw0KGgoAAAANSUhEUgAAAKcAAAAVBAMAAADROuOhAAAAMFBMVEX///8AAAAAAAAAAAAAAAAA\n",
       "AAAAAAAAAAAAAAAAAAAAAAAAAAAAAAAAAAAAAAAAAAAv3aB7AAAAD3RSTlMAInZUiRDNmWbv3US7\n",
       "qzJazP2FAAAACXBIWXMAAA7EAAAOxAGVKw4bAAACTUlEQVQ4y2NgYBBgIBfg1slkQLahm9D4bXPO\n",
       "Z81pALFMUCVYTy7AZQZfZgESr8SVgakBTcUBWYa9PQFAQxLQJNgKcLqMH8lTLPcmMzCkohsqwsDD\n",
       "d4GBgb0Bj040sD8Awea0PsrA0I5pKLsA0JWc+HSiAS90ZZwQtUynVi1DGHqAgcEMn040kI6ujA3s\n",
       "Te6kAIRLeUOB3i8BcWSdhOCqc5UuI7Q6aTyAMRmv6H1GSPTOug4K2AsgtlgAkvffmAETWgbIqokM\n",
       "52ESrN8C4uHpT8qA/QCMvVOA5yuSSz+BCA5wLCciwlQy65cqkF4MxJENDFUwceavDJwKMM4SBJt1\n",
       "BgM7UkJh/AdWPAFEJiBFVEcYiJ4NxPUg7SBHAgmgTn4HGPsr1PEg9gcGLgcYB2jcB3DKBZF8s1at\n",
       "WrUGaihPRAPU0DkMrL9BYsuBGKhzvwGUzQn1O5QdvwHGAYYmOItwg1zKegDJpXwFRyHeZ/3EwPEB\n",
       "KZnWw8I3XgHhXyC7HylIecBRxAw2egFyOq2TAdKHgIZ+ZuBNMIQZ+gAYejA20CsbYIYaMFxjRpQg\n",
       "kLDmADtSCdnQGFDe9QUbbFUAy5y8DTzwfAqMehZYkuJRYF7OjnCpPNgydgdwaoXnwQPiDBwNpxkY\n",
       "XgHZsSoPL8E0s16pQGh16VCFFzSX/GT1EDL2YJILbDTrna3wUuogw5l8AwauB2SVerWQdAzhcPtA\n",
       "sykMcBSQYSTzhWQwXYFLwUEyDOU6Ck7wjAdwKYghw1AOdXA64MFZnzAqkF2dKOIQBwAJa4xHSAaN\n",
       "iAAAAABJRU5ErkJggg==\n",
       "\" style=\"display:inline;vertical-align:middle;\" /></a></span>"
      ],
      "text/plain": [
       "{a in Real, b in Real, c in Real, d in Real, f in Real} |- (a * b * c * d * f) in Real"
      ]
     },
     "metadata": {},
     "output_type": "display_data"
    }
   ],
   "source": [
    "InSet(Mult(a,b,c,d,f),Real).prove(assumptions=reals_assumptions)"
   ]
  },
  {
   "cell_type": "code",
   "execution_count": 30,
   "metadata": {},
   "outputs": [
    {
     "data": {
      "text/html": [
       "<strong id=\"reals_pos_assumptions\">reals_pos_assumptions:</strong> <a class=\"ProveItLink\" href=\"../__pv_it/demonstrations/830256fe279d5da5aba452d02ed2aece151a89740/expr.ipynb\"><img src=\"data:image/png;base64,iVBORw0KGgoAAAANSUhEUgAAAXYAAAAZBAMAAADXpRhtAAAAMFBMVEX///8AAAAAAAAAAAAAAAAA\n",
       "AAAAAAAAAAAAAAAAAAAAAAAAAAAAAAAAAAAAAAAAAAAv3aB7AAAAD3RSTlMAZkRUmRDNuyLviTJ2\n",
       "3asqG0tJAAAACXBIWXMAAA7EAAAOxAGVKw4bAAADYklEQVRYw9WXTUgUYRjH/7s746zuqqtQHQrz\n",
       "0qFLSVB0ifZSRlFOh5IgdCEDhayxsiko3EMkRZgRtB0SVig6mNAhyFNtUIfSRMi+pKWVSqE8mIsm\n",
       "adD7zuzXux/zzGEPObDz+q4//s//fd6vZwFUw+rxg37sMBKKBZmUEdNlHVmzIWaHUVAsyKS6+esw\n",
       "VqR3R4S9OvL819GmL3zqsPZlh8HqUFd7yEfYsgXlUO8Ad2/eobljzslOwVdjH83kmZIebFqjZtny\n",
       "tPlpCHvvW0qNsoUfzu89DO0pJF0P6cmJabHB5Hq/BsUTQ71+Qdd9qW8r62io7OctS6lmFZW1hbzv\n",
       "KRFzGrfB5PMuBQPZKd2s0lDplk5LqRIfngky3kvR9ylfiuDLOU8zOTpmQC3b+6ANKDm+QpSk4U2m\n",
       "pvOEms7p9ybBV9kYzeTo8IAVh2LZ3ltsQIOElLcXU7zteXjd6F9R0+vBc6ZV8FUyM1pHMSgbWSsw\n",
       "POCTbUHBlvvHcJyEUNP3DZYUWwc6b+6gy0Ba02v59pfPqnBnNh+XFynG/Rb1AgPtavvfl+KVuTGo\n",
       "zJMQsGw2BSnPEk6y5ogP+41+IO2rf1VAXAc7VdylmPJwFsOSVZV1+ck3IQUoiKVhCbCk3HMYZ00D\n",
       "MGEMpS8ajX5IrIfOKlFsN/CHYhrMCU4zLKBy0CdWI7N8iATESpVZQkqeM/Ie4n/wrpZx/j1WxINs\n",
       "As44xYQSslpGsjx+8awr1dBcS0Gpo6Ew5TbWjLwMhznKsQxf0pB4fMQhzROMnFijaYZvsH3dgk5z\n",
       "BOtJiKnHCCnPIqZZyDgqAtt5fyTDl6w9T3E8u0t8WxDML7bvBYYHbPSmZlrm3usw5QoSEJueiNkr\n",
       "RPFz5hVrLmKH3zgrSupSvvyoUpJXrrzAXpM4C4phh8yAwEC7DIfvdCrnbOcpEde4REHAjYRwIQqO\n",
       "XuP6ano9NPPIMDC9IVkj/g4q51JVQJRD98wxWzFl/evUTIYXf+ehn0rGL2fFnzwz0DNMQexYS+ak\n",
       "AAUphlKhnnE+SFzAWZteLQ6DrbALHaAoVs/kryOzN32RGIRtQq7YMYpidaSn14ba0SIxcsQmVN4Z\n",
       "oLAa9vlqQy5SJMYLm5DjRZDCPtK/V//Xx/i96gqvSO/mLVW9Ir3vAv4BQm9jK5uw45gAAAAASUVO\n",
       "RK5CYII=\n",
       "\" style=\"display:inline;vertical-align:middle;\" /></a><br>"
      ],
      "text/plain": [
       "<IPython.core.display.HTML object>"
      ]
     },
     "metadata": {},
     "output_type": "display_data"
    }
   ],
   "source": [
    "reals_pos_assumptions = \\\n",
    "    [InSet(a, RealPos), InSet(b, RealPos), InSet(c, RealPos), InSet(d, RealPos), InSet(f, RealPos)]"
   ]
  },
  {
   "cell_type": "code",
   "execution_count": 31,
   "metadata": {},
   "outputs": [
    {
     "data": {
      "text/html": [
       "<span style=\"font-size:20px;\"><a class=\"ProveItLink\" href=\"../../exponentiation/__pv_it/theorems/5a0c211ed8c0f89e15d717d80d4627baae693acb0/expr.ipynb\"><img src=\"data:image/png;base64,iVBORw0KGgoAAAANSUhEUgAAAD8AAAATBAMAAADVH8ihAAAAMFBMVEX///8AAAAAAAAAAAAAAAAA\n",
       "AAAAAAAAAAAAAAAAAAAAAAAAAAAAAAAAAAAAAAAAAAAv3aB7AAAAD3RSTlMAIquJdkTvuxBmmd1U\n",
       "zTKBpmoTAAAACXBIWXMAAA7EAAAOxAGVKw4bAAAA3UlEQVQoz2NgwAO4GAgAdjIVzE2vv50+AZ8J\n",
       "BUIMQdMb8CkQZmDnU2BYXl5WXj4BhwIugQtYTHDfvfsCXEEBpoJYD4QJTB0KcAWMyo4OYPoGkhXP\n",
       "zwrAFYQJsP8A0bwCcAVit397wEOSI5OBawNYAZIjZ/YihfcHBm4DEOPZbiAogChg70R4j62AoT8A\n",
       "xGhHMoFvQQWc1+/AMB/M4EYOh3XiCAUHGHR5QO5jcUBS0M4Ct4PdgWcXJN7vwBVIMXBOKIXxOFTs\n",
       "hPzArKbSBlhsFjKU3z+AGQfB1ZCgRgEAfyQ4BfovW/4AAAAASUVORK5CYII=\n",
       "\" style=\"display:inline;vertical-align:middle;\" /></a>, <a class=\"ProveItLink\" href=\"../__pv_it/theorems/b9cae19a628b9412bdeba3850806ec1015c9b6ae0/expr.ipynb\"><img src=\"data:image/png;base64,iVBORw0KGgoAAAANSUhEUgAAAD0AAAATBAMAAADR6hicAAAAMFBMVEX///8AAAAAAAAAAAAAAAAA\n",
       "AAAAAAAAAAAAAAAAAAAAAAAAAAAAAAAAAAAAAAAAAAAv3aB7AAAAD3RSTlMAELvv3c2ZVESJq3Yi\n",
       "MmZ3LnoBAAAACXBIWXMAAA7EAAAOxAGVKw4bAAAA6ElEQVQoz2NgwA3YGPADJrLknxrphxg9gMsz\n",
       "KjugKVA4xdD1SACunzUBXf4kAxPvAoYkJWUlJaA5/AWY8mwHAuD6+wWg4ptcXALg8gpw+SlQ6daN\n",
       "CP1cggvg8lG7l4MonkAk8y+VHoC7/6uAPIjDegAufzjky0Z4+LF/ZGDeAJJHct87UaRADmDgnwCk\n",
       "L7sAgQJEnknuAVyeZQJDP8iHQkj6eRMU4Tyg9/NBPmRB9n/uIYT8BUY7EM29AUleiBtuAdcDJkgA\n",
       "h8PljzHwPdCA8RhX5kEYUhoCsPjTYVCKL8CI2E4VSPiiAAC5IjjtCVE78gAAAABJRU5ErkJggg==\n",
       "\" style=\"display:inline;vertical-align:middle;\" /></a>, <a class=\"ProveItLink\" href=\"../__pv_it/demonstrations/8c5864665d603ebc7e84fdb786d604e60f56fcc70/expr.ipynb\"><img src=\"data:image/png;base64,iVBORw0KGgoAAAANSUhEUgAAAD0AAAATBAMAAADR6hicAAAAMFBMVEX///8AAAAAAAAAAAAAAAAA\n",
       "AAAAAAAAAAAAAAAAAAAAAAAAAAAAAAAAAAAAAAAAAAAv3aB7AAAAD3RSTlMAiXZmMiLdVJm77xBE\n",
       "zatgdeJyAAAACXBIWXMAAA7EAAAOxAGVKw4bAAAA0ElEQVQoz2NgwA04GPADTrLkbVfOv7bSAI/+\n",
       "CXEM5yw34JEPZOBkecDQOXPWzJkG2OU5Ai5g6tdMS7sAl5+AIX9WG6Gfb/cDhLyQsgOQZL2NZL5n\n",
       "bQBcPqyAA2QYbwBcPuraN21E+CUycCmA5JHcZ7wXKZB/Q2ivNCCYAJHn3IzwF9cECL0TST9Lw2w4\n",
       "b78ChGZD9n9LJJzHDzTqAJBmUkCS38kEtwDoeEaQ/xiuw+UjGJgN5sANEDSGBMy+ORtg8TeVYeb9\n",
       "AoxwPzgNEr4oAABdmzkc2vbi6QAAAABJRU5ErkJggg==\n",
       "\" style=\"display:inline;vertical-align:middle;\" /></a>, <a class=\"ProveItLink\" href=\"../__pv_it/demonstrations/47bc8cc554bef16e22bc6aac513e386b62872e270/expr.ipynb\"><img src=\"data:image/png;base64,iVBORw0KGgoAAAANSUhEUgAAAD8AAAATBAMAAADVH8ihAAAAMFBMVEX///8AAAAAAAAAAAAAAAAA\n",
       "AAAAAAAAAAAAAAAAAAAAAAAAAAAAAAAAAAAAAAAAAAAv3aB7AAAAD3RSTlMAMs3vmVREEIndIqt2\n",
       "u2aBbGR5AAAACXBIWXMAAA7EAAAOxAGVKw4bAAAA80lEQVQoz2NgwANYGAgAXjIVPLK9r2n7AFkB\n",
       "o7IDiooLqxmy3xYgm8AfgKpgBQMv4wYG37uX794Fm8SQX4CugGWBArIJnRDq7MyZCnAFF5AVqIDJ\n",
       "pOMIE7jLN8AVcO04+BVMqyNZIRu0AK4geQHvdxDNtACuYLHmz+PwkGS3Y2AB28yE5Mh3RUjh/YGB\n",
       "swHEEJ4JBBcgCnjrHsAVMF9gqE8AMWqRTGB0uA7n1R9geA9mcCKHg+NahIIAhk2sIPfxHEBSUMsD\n",
       "t4P3AOsUSLyrwhUsYeB7cA3GY9/TuPogmFV9rQAWm7cY7uoHYMZzxk1IUKMAALvkT+IOeAJ3AAAA\n",
       "AElFTkSuQmCC\n",
       "\" style=\"display:inline;vertical-align:middle;\" /></a>, <a class=\"ProveItLink\" href=\"../__pv_it/demonstrations/0b90dabf8c4ac9e5ca24da81ca103bb88b4b29e20/expr.ipynb\"><img src=\"data:image/png;base64,iVBORw0KGgoAAAANSUhEUgAAAEAAAAAWBAMAAACCkIcHAAAAMFBMVEX///8AAAAAAAAAAAAAAAAA\n",
       "AAAAAAAAAAAAAAAAAAAAAAAAAAAAAAAAAAAAAAAAAAAv3aB7AAAAD3RSTlMAmYkQqzLvVES73WZ2\n",
       "Is1wFLxSAAAACXBIWXMAAA7EAAAOxAGVKw4bAAAA8UlEQVQoz2NgwAcEGAiACeQp4H4289+y2cgK\n",
       "GJUMUFRw8jpweE9GUqASVoCmQIFhQggD48yZmTPBJqV3GmAokOVDmMDxGSrBM2vVOrgCToQCpgUQ\n",
       "eY43BggTnE3gCrjdlkDC454BwgrW6W8RJvAfgIi/Rbghb/0aA0RI3g+AiD9AKNDe/ADJ0fUQijVr\n",
       "1apVK6FWTN6NpEALQjFPQPJmICeSz6dA6QVIChhjkaIhB0qfQVLAPOE0XJ73B5TBVwBXIMCwm7MB\n",
       "poD9A5TB7NkMi82fFzjnfYcpYHSAsTg0IUGNCkr4CvAnmpV2BFLVHln88gDjpDtw1RPH8wAAAABJ\n",
       "RU5ErkJggg==\n",
       "\" style=\"display:inline;vertical-align:middle;\" /></a> <a class=\"ProveItLink\" href=\"../__pv_it/demonstrations/7a3d6628e160cde38cafb8baa9ae7d049a55170c0/proof.ipynb\" style=\"text-decoration: none\">&nbsp;&#x22A2;&nbsp;&nbsp;</a><a class=\"ProveItLink\" href=\"../__pv_it/demonstrations/0e18c544fbc04a0dba7ae71a151e6292e2b9c23d0/expr.ipynb\"><img src=\"data:image/png;base64,iVBORw0KGgoAAAANSUhEUgAAALIAAAAXBAMAAABddQgGAAAAMFBMVEX///8AAAAAAAAAAAAAAAAA\n",
       "AAAAAAAAAAAAAAAAAAAAAAAAAAAAAAAAAAAAAAAAAAAv3aB7AAAAD3RSTlMAInZUiRDNmWbv3US7\n",
       "qzJazP2FAAAACXBIWXMAAA7EAAAOxAGVKw4bAAACYElEQVRIx2NgoAkoYKAVOAAmBcjVzkjAZCYD\n",
       "ck3mVkDlc2Se+bbyBMJkE1Rp1pMLcJn0bDoSh90lgEEDTQEP4wXuG0dhJrMmoEmz4Q79z0hs35cG\n",
       "DGwB6CY7MBx4y8B+5sycMycY2BvQtPPjDB3ur0icyXsCGDgKME0uZIO5mRNd//4AXCazLEC3ZSqE\n",
       "o7NqVQLcZB6YyWbo+r1wBgZyOEFsyQCzt6kiuflqLMzkElDyuaKIiOZcpcsI/Up9cLas03tEOHHc\n",
       "XAuyxhec+FKRQoPvcCLMZJC1OwV44EHI+i0gHpbCGRcz1MC9P5HhPFI48YOd0gb2igDC5GnrFwXA\n",
       "8uBioGEzGNjhQcj8lYET5gEuB4ZJMPHIBoYypJCRfwAiLcEmI8WgRysiqc0GJs0PIDMYGOJBouwJ\n",
       "DPwOUHY9xJEQNgPDEjiHgcEeTL4HES9XAcEBaGgc7UA2mfMAQ/wGkBMLIO7cbwBlz4E6HcJm/Q3n\n",
       "wOJ5J4iIQU51z3ngQQYMjXgFhn7k5Ax1KgPrJ6Ss+YmB4wNSaJwFk1Zgu5BNZn94AMY7BDTZgOEa\n",
       "Mywa+B8Agx0KfgAjDmbyZwbeBEOEyZDw7wEXPApIJrMegGd5YMLhUWBezg7j8zbwwJMtMGH4IVxg\n",
       "VYBIz4zgkAEnWQaGZITJBQwdPBugvFdA91zyk9WDe/tKBSI5ezTBQy1W5eGlB3AZZkjIrIZInQ6A\n",
       "lXV/BHiOwUoXrgfkFKDsF8Auh6bVLadWJWCq4SCnYrFlA2dHjNIMFRwkw+Q1YWBKBr+qGDJMbiok\n",
       "xlGMCuTWVkx4a1AAqQKROER0KqIAAAAASUVORK5CYII=\n",
       "\" style=\"display:inline;vertical-align:middle;\" /></a></span>"
      ],
      "text/plain": [
       "{a in RealPos, b in RealPos, c in RealPos, d in RealPos, f in RealPos} |- (a * b * c * d * f) in RealPos"
      ]
     },
     "metadata": {},
     "output_type": "display_data"
    }
   ],
   "source": [
    "InSet(Mult(a,b,c,d,f),RealPos).prove(assumptions=reals_pos_assumptions)"
   ]
  },
  {
   "cell_type": "markdown",
   "metadata": {},
   "source": [
    "## Distribution"
   ]
  },
  {
   "cell_type": "code",
   "execution_count": 32,
   "metadata": {},
   "outputs": [
    {
     "data": {
      "text/html": [
       "<strong id=\"assumptions\">assumptions:</strong> <a class=\"ProveItLink\" href=\"../__pv_it/demonstrations/471f23f658edbb9158c51abb9275ede95a25c0d80/expr.ipynb\"><img src=\"data:image/png;base64,iVBORw0KGgoAAAANSUhEUgAAAeYAAAAVBAMAAABhzFD/AAAAMFBMVEX///8AAAAAAAAAAAAAAAAA\n",
       "AAAAAAAAAAAAAAAAAAAAAAAAAAAAAAAAAAAAAAAAAAAv3aB7AAAAD3RSTlMAInZUiRDNmWbv3US7\n",
       "qzJazP2FAAAACXBIWXMAAA7EAAAOxAGVKw4bAAAEeElEQVRYw+WXX2gcRRzHv7t3e3vJ3q1HUSti\n",
       "5VqUtrQpC/7B9KVHrX+oUZZYrIWLuVZiLPqwLUWrD3pP4kNBEIRSKz20NnD6ELRag4hrbVoaDZwh\n",
       "rRZE7qFS9CUpNeI/xJndvb2d2Z3ZcL7pPlxm7pPP3G9mfzO/XQAl/J8uhX6oVgLZMfPU6stCTxs6\n",
       "sefWimTgf6XLZRnN7P392eb5uhQaZdK+M4Grl+ray+c6PXOvw+KBw9j5lyOeMqvHLrkul6VUnW2j\n",
       "lvPb1SMCuI4sei1B3n8SyHdHvo5NBX0DuUmHJHPmdO5K0eWylOoO1Pq9QWdcAHM29IRUMJ1p8vlt\n",
       "2P/cZvCVAukXxXPmde6S63JZToslVDU36FwTwLyDvuj3G5tNetuLNhUfD7/ezlBcKNBNGV8rdaZ5\n",
       "Agk6h5N1uZwydBCZBrxUbPtfGUucGsI3cHdE/fh2/29BYe/COEPhrkxcZWOPnaxzOFGXyylDh5HB\n",
       "bF0JWtkGp4bwaRygf7auowugjAVwlRk5VZX5TV6ahFRpRc7N4QdJvmXepc0b7SR9eOCJbVYUs/pB\n",
       "aC2xbDbbN4mpMr+6zERG1sSeDlq5uQHmZ7vwYTJr4GZLpymT61Tqy0Yk86ZKBS9NQmpWPunSyiCK\n",
       "rvEnbe5Gku6oc3ojink9vyiWH7vtTEtMY5GRIpQvB63RMe0qo4bwFbxDPo+jj/ZyHbjSKHeL6WHo\n",
       "3i4OqeJ80L0R1ovU9QauJen5Un6pWI9iXi+6Qhk3IGsLKY2swUSGsFIBW2y8zqghHMSb5BQPtvtP\n",
       "TXK53q7pZpC+iP4KQ+Fe3/1dMvBCG3STmUcIfx+cbgYrFsGc7i13skz+4T4IaUJkqvUQ4Cfzc8Av\n",
       "jBrCBTrnvuB4r3YT3w1HJnB0kqGYLkSebpawHqBhh0WC0eHPKYqjOjldF9oSeQXnpkRWVQj+xmse\n",
       "h3GNUUM4RXN7NMiX/jASrwoa/r4o4zWW4hQtsJj0F7uGWZheu5Gkk+Je0mwGc/p6iGWye20hTYjs\n",
       "B1KEtcWgPPvp24jBzThNHrPqfghquFf2f+Zlh0ZHtnAxU2KovqHlRUvDKbTIima9r9cgQa9OXuIx\n",
       "p8+KZdwBtIQ0HpnpnCIlvOGN/Dd21Rm1A3GInNwgh3bWq+RPho8AZ/dpmx2Mkq1YKGcmdDAUG8dL\n",
       "j05A+5WWQdd4C5/61cFK0Lf8+AI+5HBE11vGb2LZPHN6e1tI45EV7DEoX7reyN/hHDtwAEGq88+k\n",
       "u+1Vv6iPfNUpZjvO/7GPJA2pu9rcI6s2cVQbOjZBFrhJ+89vHTng1w/t+48Q03euyRy0OBzRtfm1\n",
       "V8VyFoPPiGk8sqmzR78+drTijTzyABdVB+I99LcjR8bJmSbzynEX87jD04zNPS0N+U95Ap3Hvp6t\n",
       "LUdOGZqLjAmMV5UGfeQWXxXp63c27f08Xb8fu6ye5ErPgdGXqi/EWCtLf3c4ZcrL0N/GfE+ynEoD\n",
       "u4WpbvEXJfmcyilzXoZ+z9rJnmS198DoPVbSQv9vXWoJ/wCWO67ASDR1GgAAAABJRU5ErkJggg==\n",
       "\" style=\"display:inline;vertical-align:middle;\" /></a><br>"
      ],
      "text/plain": [
       "<IPython.core.display.HTML object>"
      ]
     },
     "metadata": {},
     "output_type": "display_data"
    }
   ],
   "source": [
    "assumptions = [InSet(var, Complex) for var in [c, d, w, x, y, z]]\n",
    "assumptions = assumptions + [InSet(var, Integer) for var in [a, b]]"
   ]
  },
  {
   "cell_type": "code",
   "execution_count": 33,
   "metadata": {},
   "outputs": [
    {
     "data": {
      "text/html": [
       "<strong id=\"expr\">expr:</strong> <a class=\"ProveItLink\" href=\"../__pv_it/demonstrations/484053d7021ba914f77886efe66186b418a3e3bc0/expr.ipynb\"><img src=\"data:image/png;base64,iVBORw0KGgoAAAANSUhEUgAAAMgAAAAVBAMAAADx1rxcAAAAMFBMVEX///8AAAAAAAAAAAAAAAAA\n",
       "AAAAAAAAAAAAAAAAAAAAAAAAAAAAAAAAAAAAAAAAAAAv3aB7AAAAD3RSTlMAIquJdkTvuxBmmd1U\n",
       "zTKBpmoTAAAACXBIWXMAAA7EAAAOxAGVKw4bAAACaUlEQVRIx2NgwAMEGIgGjAxkApYDxKtldSBa\n",
       "KUfZBiTeYVJc5IlT5m0WmgDvAiQbL5BiCW8DTqk/aHx+pBDimoASHhMwQghFhHMBzpD8gSYQj+Qe\n",
       "NhQZHoxARxPJwGUJ8wY0AWsk9lnSLLmJMyCBfmRUdkSovuSiA2cvBuIWpz7jAyhGtqxk4FBAteT1\n",
       "PkZgyBkhud1lHpwtZPIeaECYADs80Dj+NvQLIDttAYsK1wYUIw2OMXB+QBHhuGIOsmAuIs/sYVgO\n",
       "j5BEhvoGBo5MBi54oPH8YGCDe2sPMDYFOH8wTUA2ku/AagamAhRLGBsYLIDUMbgl3AYMKTB22wSG\n",
       "tcA09AEkyMDQD0qwXBcY+A2gbIZUoJEgEZD47t3bsnfvBgYTB1A/yB0IESBoBiWX9+CQAHHXNzAg\n",
       "2AwMm4FpqIChPwBk/QKIG+IPQNkgSxgQHoO5G5gg3z9AjRNGMCMMROwCEekQYSib4yvQ1Q4M85Gz\n",
       "yfoGpOACpmkBjgYUI4Fec0NLXZFA/zEwnIZH7BekDP0FHIP9Bxh0eWCRzf8AGEUwUMLA0B6gxsCM\n",
       "aiS7AkMRqgjPAQYmIDUdrvEn0L8wS/4wMF04yMDuwLOLCybNNIEdkXGBSeb8i2UMMahGcimw/kQV\n",
       "eW7uvA+a4iEAmLTsEC49vWABA4eKnZAf3HfKKxFefc3A0OXCs/IAqpEcyl4fUUUMeHJBkboVkU0s\n",
       "p8DDvMn5ocoDPEUe9wPs+Zv5ArYcz7iBrOoEtciDFYe2DG0HsBWQXBPIq7QKsQluYVDGqliczJqx\n",
       "HZvgSa8A4l1ETL1NfJXKwIKvPQAAOVaSID0e5O8AAAAASUVORK5CYII=\n",
       "\" style=\"display:inline;vertical-align:middle;\" /></a><br>"
      ],
      "text/plain": [
       "<IPython.core.display.HTML object>"
      ]
     },
     "metadata": {},
     "output_type": "display_data"
    }
   ],
   "source": [
    "expr = Mult(a, b, Add(x, y, z), c, d)"
   ]
  },
  {
   "cell_type": "code",
   "execution_count": 34,
   "metadata": {},
   "outputs": [
    {
     "data": {
      "text/html": [
       "<span style=\"font-size:20px;\"><a class=\"ProveItLink\" href=\"../../ordering/__pv_it/theorems/d8d02d2a77383d238ed10b8fda7965dfafa87db90/expr.ipynb\"><img src=\"data:image/png;base64,iVBORw0KGgoAAAANSUhEUgAAADIAAAAQBAMAAACmdTG/AAAAMFBMVEX///8AAAAAAAAAAAAAAAAA\n",
       "AAAAAAAAAAAAAAAAAAAAAAAAAAAAAAAAAAAAAAAAAAAv3aB7AAAAD3RSTlMAIquJdkTvuxBmmd1U\n",
       "zTKBpmoTAAAACXBIWXMAAA7EAAAOxAGVKw4bAAAA3klEQVQY02NgwAA8175d3102AVOCgaXoAcMF\n",
       "XiwSDFwLGFgm2GCTYRJgaOcoQDGlevdeEM3BwLCO6QGSBOuVBhiTT+EViGJUdnQA0bJwCQb2hgoQ\n",
       "FSbA/gNEX0RoP8wJUsuRycC1AcS9gJCBuJnrAwO3Acjs7N27d2+HOOWAKQNDAwNbAUN/AEgvwp3t\n",
       "jEC2IkO/A8N8MH8DXEYP6COODwz9Bxh0eQSAfBe4mxdEAb27gYHdgWcXF0iA9wDczTcYGGsKGDhU\n",
       "7IT8wF5Xj4DIhNWml+enGyAHgjkkdKAAAEfmMVewssrcAAAAAElFTkSuQmCC\n",
       "\" style=\"display:inline;vertical-align:middle;\" /></a>, <a class=\"ProveItLink\" href=\"../../ordering/__pv_it/theorems/035e0ae7bd8c0fe127ee5d2062443d6c874adcdd0/expr.ipynb\"><img src=\"data:image/png;base64,iVBORw0KGgoAAAANSUhEUgAAADAAAAAQBAMAAACigOGCAAAAMFBMVEX///8AAAAAAAAAAAAAAAAA\n",
       "AAAAAAAAAAAAAAAAAAAAAAAAAAAAAAAAAAAAAAAAAAAv3aB7AAAAD3RSTlMAELvv3c2ZVESJq3Yi\n",
       "MmZ3LnoBAAAACXBIWXMAAA7EAAAOxAGVKw4bAAAA50lEQVQY02NgQAfswZ+DXJQfMDAqO6BKcGtd\n",
       "YAhgBTJYE1Al2BIYuB9MBzL4C1AluA4wCDEqABn9AlAjVFxcQTQjA0Mu1wUgYwpEnCNaAKaHd8E1\n",
       "EBW1ezmIOgoXZ2ASUATp/CogfwBIxyBsqeTbAHL2RwZmEB2AkAA7loEtgIF/AtBcExcXFyeIKwpm\n",
       "MDAIMLBMYOgHOhjsQAgQ4gGy14C8kQ+yF+H/tUCfMH5g4L/AaAfi7oY7NqEN6EsHBq4HTOAwYS2A\n",
       "OzaQgUddgYFxZR6Yz7ioESLRrGqkZG80AeFIjkmQIIECANNVKrcrbsjPAAAAAElFTkSuQmCC\n",
       "\" style=\"display:inline;vertical-align:middle;\" /></a>, <a class=\"ProveItLink\" href=\"../__pv_it/theorems/6bf1a18c2e3498be826f1c5ef7caab578b7ee8c80/expr.ipynb\"><img src=\"data:image/png;base64,iVBORw0KGgoAAAANSUhEUgAAADQAAAAQBAMAAACra0H4AAAAMFBMVEX///8AAAAAAAAAAAAAAAAA\n",
       "AAAAAAAAAAAAAAAAAAAAAAAAAAAAAAAAAAAAAAAAAAAv3aB7AAAAD3RSTlMAEHarMolUmd1mIs3v\n",
       "RLtmgJDEAAAACXBIWXMAAA7EAAAOxAGVKw4bAAAA0klEQVQY02NgwAIY47o3LQnAJsOgfJJB/F8B\n",
       "Nhl2XaCOeVil3PkEGBiYUaT0Ojo2gGhDPpB9E5BkbitCGQ+WQxlCyiKhCUCaayNUgMvAFcoqYDJi\n",
       "bwDS3AugAiwBNyEMzgWcH5lB5nLDDOYquARVw8AOtpvBpwMIHoDtWgpTxaMApuTg7nnIB2PdX8AI\n",
       "9AcDB1zqOshfDBcY5C7YMLCCBJgUEKFhwACyJt+xhuEaWGQbwu/bF4i1MzCIK7FVJoAFhN8KwEP+\n",
       "fPsClLC7+gISUFAAAPAALk9BTu5+AAAAAElFTkSuQmCC\n",
       "\" style=\"display:inline;vertical-align:middle;\" /></a>, <a class=\"ProveItLink\" href=\"../__pv_it/theorems/e7a733f6071838c624bab1a2ecdcd3efaa06f4b40/expr.ipynb\"><img src=\"data:image/png;base64,iVBORw0KGgoAAAANSUhEUgAAADMAAAATBAMAAADPIygvAAAAMFBMVEX///8AAAAAAAAAAAAAAAAA\n",
       "AAAAAAAAAAAAAAAAAAAAAAAAAAAAAAAAAAAAAAAAAAAv3aB7AAAAD3RSTlMAEHaZZquJVO8y3btE\n",
       "zSKD2s2pAAAACXBIWXMAAA7EAAAOxAGVKw4bAAAA5UlEQVQoz2NgwALEdt3Vm4ZNgoEpwoHRfjNW\n",
       "KaNjDAwsWKU4DTYCyWAUMe1Vqy4AKVaBDUBSBFnmrCKE5uYzgDAYlR0YREEMvotQJU85EyAMNvYG\n",
       "Bn8Qg/cBVGoajwOEMZ15AUM0WApm8GMeBQhDgEOBoQnEmLEKCDaA7YIayHBegPMniJaG6eIGuxAE\n",
       "bBmYGkA0F0yKB+wvHiDeysAdAA4eBXhoHAXrYGAwZTgPcdF1eBjutWOsAvlNNMke4mzRPQKwkN/x\n",
       "yw7CyoWKHNsFDig4YLvA2M6AHXApsCbgkGJ3ssEhAwCM+y13eiDJfgAAAABJRU5ErkJggg==\n",
       "\" style=\"display:inline;vertical-align:middle;\" /></a>, <a class=\"ProveItLink\" href=\"../__pv_it/demonstrations/38be8260be263ca8b59e57b7b7d03d561faffd580/expr.ipynb\"><img src=\"data:image/png;base64,iVBORw0KGgoAAAANSUhEUgAAADMAAAAQBAMAAABJt1qBAAAAMFBMVEX///8AAAAAAAAAAAAAAAAA\n",
       "AAAAAAAAAAAAAAAAAAAAAAAAAAAAAAAAAAAAAAAAAAAv3aB7AAAAD3RSTlMAMt0iZhDNdom7q0RU\n",
       "75mOI7qcAAAACXBIWXMAAA7EAAAOxAGVKw4bAAAAxklEQVQY02NgwAIiJqUVS2CTYGBf68D6fh5W\n",
       "qec7GBhYsEoxPpgKJNehiFUqKSUAKa6ACUAyBFlmWymE5mR+ANOvJGACoplToQJWjA1QVljFjAUg\n",
       "ms0AKiDB7QBlmTJwBIClYAbbcRfAmKytYEpWCQgmgO2CGchgDqEiYXxOsAtBAGgy2EAmmBQ32F/c\n",
       "QHyGgQHsDHa4Dc93AYlnQLfPmN4kABbJgYfhtMesh4B+42A4mw0RiZodAAv5uZ8eowbejknggIIB\n",
       "AAVvKXRyQEWZAAAAAElFTkSuQmCC\n",
       "\" style=\"display:inline;vertical-align:middle;\" /></a>, <a class=\"ProveItLink\" href=\"../../addition/__pv_it/theorems/b66b5547fa9b0b910f79351152926c658c2718190/expr.ipynb\"><img src=\"data:image/png;base64,iVBORw0KGgoAAAANSUhEUgAAADEAAAAQBAMAAABNQoq8AAAAMFBMVEX///8AAAAAAAAAAAAAAAAA\n",
       "AAAAAAAAAAAAAAAAAAAAAAAAAAAAAAAAAAAAAAAAAAAv3aB7AAAAD3RSTlMAiXZmMiLdVJm77xBE\n",
       "zatgdeJyAAAACXBIWXMAAA7EAAAOxAGVKw4bAAAAw0lEQVQY02NgwAQbp91VdcQizsD0yoC7fwY2\n",
       "maaDDAzM2GRYGmYDyRfIQpppaReAFN+GCUByM5LEWW0IzcnaABMSUnYAkqy3odw4FgEoK6yAA6Sd\n",
       "NwDKd+QxgLISGbgUQDIwIyJ4FCAMjt8Q2isNCCaA7YGaxjUBQu+E6eHcABXZD9XLBpPhAfuHh4GB\n",
       "H2jfAVCYKMDD4ByQ6AXaM4GBEeRqhuvwcJvbyl0G8pOgMcSL++ZsgIX1rG+tKAF2cBo4dGAAAHWD\n",
       "KgtwTxl0AAAAAElFTkSuQmCC\n",
       "\" style=\"display:inline;vertical-align:middle;\" /></a>, <a class=\"ProveItLink\" href=\"../../division/__pv_it/theorems/d6724abdc9486f838f4cf63bc1115e85255ce4c00/expr.ipynb\"><img src=\"data:image/png;base64,iVBORw0KGgoAAAANSUhEUgAAADMAAAAQBAMAAABJt1qBAAAAMFBMVEX///8AAAAAAAAAAAAAAAAA\n",
       "AAAAAAAAAAAAAAAAAAAAAAAAAAAAAAAAAAAAAAAAAAAv3aB7AAAAD3RSTlMAMs3vmVREEIndIqt2\n",
       "u2aBbGR5AAAACXBIWXMAAA7EAAAOxAGVKw4bAAAA4UlEQVQY02NgwAIqbiqdkgCzGJUdUGR4Nj9g\n",
       "978CYfMHoEj5ZDAw8EGl8guQZRgdrgPJLRBOJ4Q6O3OmApDiLrgAJOsgYipgMuk4hMfLBbOaa8fB\n",
       "r2BaHSqwmrEBykpewPsdRDMtgApIsD2AMNjtGFgUwFIwZyxhOwBhsHxg4AQbIDwTCC6A7YIayHyB\n",
       "oT4BxKiF6eIFuxAI6g8wvAczOGFSbGB/sQGlAhg2sYJcwHMAHhrZQMIJqP0A6xQWsIgqPAwvebFH\n",
       "Av3Gvqdx9UGwSPU1WHhVXP7phRoXGTfBAQUDAJ+SNfXA0lXRAAAAAElFTkSuQmCC\n",
       "\" style=\"display:inline;vertical-align:middle;\" /></a> <a class=\"ProveItLink\" href=\"../__pv_it/demonstrations/488eb2e31e0211c5d95597080ac2b2f1705d5d7d0/proof.ipynb\" style=\"text-decoration: none\">&nbsp;&#x22A2;&nbsp;&nbsp;</a><a class=\"ProveItLink\" href=\"../__pv_it/demonstrations/ead586c600bc882e5d6207382a305b0365f4dca40/expr.ipynb\"><img src=\"data:image/png;base64,iVBORw0KGgoAAAANSUhEUgAAAbsAAAAuBAMAAABDm6ppAAAAMFBMVEX///8AAAAAAAAAAAAAAAAA\n",
       "AAAAAAAAAAAAAAAAAAAAAAAAAAAAAAAAAAAAAAAAAAAv3aB7AAAAD3RSTlMAInZUiRDNmWbv3US7\n",
       "qzJazP2FAAAACXBIWXMAAA7EAAAOxAGVKw4bAAAE+ElEQVRo3u2aT2gUVxzHf5vJZP8ni8eisEbB\n",
       "9qCMRUrNxaX0H2JlEGkRUncRxF6EPZSyDQWXHuqltGmh/2wPSxXELYalvejJtZfSQ+mShqK3eNBD\n",
       "EBJNU4RC6Xtv3t/Znd9md7IzUvK95M18d37zfm/e3w8BgAIgQk1TiaHNUWrMGdb0KVsc1hylDpmX\n",
       "9q+NYBPXs4HOg68Qc6SyK74bE1XERDXhBlrrmDlKJeu+G1NOkJmtdz19Q79IVQO75gZijlRp/41b\n",
       "bpBpdY+f542rL4JeMt5AzJHqBf+No4Fm3/TeCey2VcQcqd6ls/bSblXz89N/GOaJ/adfdoz0TtTA\n",
       "7pjprSwkSM99Q/te05/I8q6XVh3DjFC0UW8WchtyNvnbLRd0szq2mGwY6ZUOQ2rNSM8+c4zW/iO1\n",
       "zF2GD+TA+wx+d7mZbDJ1IkvvMqnc15CUq4G1AemiZqYKqY18XU9v0pmDfNtIL+HCK+TPYRk1U4LP\n",
       "RflUHd4zzCj1LWnSNVod+uFo+1ZgilyUK9ycpHe8dr92ibW7TWrOWmCu2fym2bzOwpykE9IqLbEn\n",
       "L3jzk1cGuCLMONJLt6HcouWrXrvfIiMlU+UmqI8pOieZ5leXzbGXYNZN9uHok9/xj+iV7X+EGblI\n",
       "/ysX4VN92bvgaiZZKQq2a6RHPudzvpnzBvmmADNyAD/WtgaPvZE6E8vY+5mk58CflphOppbJUNTM\n",
       "2dZdGDe/Xq4Dv5npWQ7kyZ+P5YNPyDcW6a1DvnJQN6MUmfFyRetqUlzn67mqbh65/z78ZKaX7GSf\n",
       "mOk9PLZ3ga8jnsi0eVy10Uy1qptRaoW07+LxXQdkX1qqGeZb01bNMdOzl/Y9MtMrWV/SwfuDWvZe\n",
       "/1D28Lf33ltc1s0olVnetKl2LeOVXruWRAM78DViSQ/d6pqm2FK/CqecXlvqZH2QrXtEuj2w+T0s\n",
       "9fzxTizSzpiOs7MDmy/ua21RQ0WgRHFY0w8uCsOa29rWtv6HKsBAtNY392zqVjyxWFKU1A5Ca30M\n",
       "rHtq3fO0xPqRFg5BH5SLqBeetUq+pfNSXLHG6h6pRVEuqh549k3/b87FFuustxdEUS7aBRSelYy3\n",
       "1v2quGJd9EgtinIxaXhWHifmu18VV6y0y0gtinIxaXhWVMmq9HhVTLEm6uwQjaJchXHZC4LwrDzK\n",
       "l5izQ71qcb98XAPAoWNxdIzFGu+wBkNRrsK4EIxnVZVIiwnHU/msLc72OgAOHYujYyxWqsJgGIZy\n",
       "NYwLGJ4VVco4zJmTbz7iykd0ABw2lkDHWCxrnqHMAJTLygLjsgvOCHlZ4VnFeCHdko5Hccmr/uJl\n",
       "AYC3IhZwdIzFmlwT6fVCuawsMS674HiWl3U8K1qcVok7HsW9Atl1URYAeCtiibMoEis7LzpnMMpV\n",
       "GBfBs0aHEo5YqpJyUGsAOHQsjo6xWFaDkloU5WoYFzA8KxlvUTqe/qWDgUsDwKFjcXSMxUq12VyM\n",
       "oVwN4wKGZ0WVyGQsHE934BeFyxQADh2Lo2MsFllYVvqgXA3jonhWVGmyIR3+s9fU6qQB4NCxODrG\n",
       "YmVajNSiKLffwarh20gt4NulytbF6luvZzxSG+a/FsR2XG6DLyI/1gBw6FibqFeNA8gQELILz+aQ\n",
       "k38QAB4mVv96Jdqc1M4On15Xy9jt4B8HAeBhYvWvF2scujoOQmv74tkdT0us3QD/Ad6I4eaHGO9t\n",
       "AAAAAElFTkSuQmCC\n",
       "\" style=\"display:inline;vertical-align:middle;\" /></a></span>"
      ],
      "text/plain": [
       "{a in Integer, b in Integer, x in Complex, y in Complex, z in Complex, c in Complex, d in Complex} |- (a * b * (x + y + z) * c * d) =  \\\\ ((a * b * x * c * d) + (a * b * y * c * d) + (a * b * z * c * d))"
      ]
     },
     "metadata": {},
     "output_type": "display_data"
    }
   ],
   "source": [
    "expr.distribution(2, assumptions=assumptions)"
   ]
  },
  {
   "cell_type": "code",
   "execution_count": 35,
   "metadata": {},
   "outputs": [
    {
     "data": {
      "text/html": [
       "<strong id=\"expr\">expr:</strong> <a class=\"ProveItLink\" href=\"../__pv_it/demonstrations/5ee8d6785b256f0faf63afbb183d6a96fd830a040/expr.ipynb\"><img src=\"data:image/png;base64,iVBORw0KGgoAAAANSUhEUgAAAKQAAAAVBAMAAAA6DViiAAAAMFBMVEX///8AAAAAAAAAAAAAAAAA\n",
       "AAAAAAAAAAAAAAAAAAAAAAAAAAAAAAAAAAAAAAAAAAAv3aB7AAAAD3RSTlMAIquJdkTvuxBmmd1U\n",
       "zTKBpmoTAAAACXBIWXMAAA7EAAAOxAGVKw4bAAACE0lEQVQ4y2NgwAMEcEkwMpAJWA7gkmF1INoQ\n",
       "jrINSLzDuBV64pR5m4UmwLsAyfwLuI3kbcAp9QeNz4/kV64JuI3kXIAzTH6gCcQj2c6GL4gycEkw\n",
       "b0ATsEZin8Vn5E2cQQJ0P6OyIyL+LrnowNmLgbjFqc8YNd5bVjJwKDAwGCG5y2UenC1k8h6oPEyA\n",
       "He59jr8N/QLIDlnAosKF6hODYwycHxgY5iLS6B6G5fCATGSob2DgyGRAaOL5wcAGd/IeYCwIcP5g\n",
       "QoklvgOrGZgKGBiOwUW4DRhSYOy2CQxrgfH6ASTIwNAPSjJcFxj4DaBshlSgASARkOtv7waBB0AW\n",
       "UD/I1vcMMD3rGyD+A5HrGRg2A+O1gKE/AGTZAoiN8QegbJCRDEiORiSS90CjwxhgetIh4rsYwGyO\n",
       "r0CbHBjmIyfL9Q1IHgemKgEO1FQNdLYbkDoND/4vSJnjCzic+w8w6PLAooT/ATBoYaCEgaE9QI2B\n",
       "GdWV7AoMRUBqOlzgJ9DlMCP/MDBdOMjA7sCziwsmzTSBHZEtgOnk/ItlDDGoRnIpsP6EpjAIAEa3\n",
       "HcIVpxcsYOBQsRPyg7tceSVC82sGhi4XnpVoxRGHstdHILUVkSwtp8CDpsn5ocoDPBmEG4ckMzCe\n",
       "GTeQVVxiLxpsGdoO4C9S8IFCbIJbGJSBpDiZpXo7NsGTXgG4bCMCMOKsDlgE8GgDAHw2fMhBKgvc\n",
       "AAAAAElFTkSuQmCC\n",
       "\" style=\"display:inline;vertical-align:middle;\" /></a><br>"
      ],
      "text/plain": [
       "<IPython.core.display.HTML object>"
      ]
     },
     "metadata": {},
     "output_type": "display_data"
    }
   ],
   "source": [
    "expr = Mult(a, b, subtract(x, y), c, d)"
   ]
  },
  {
   "cell_type": "code",
   "execution_count": 36,
   "metadata": {},
   "outputs": [
    {
     "data": {
      "text/html": [
       "<span style=\"font-size:20px;\"><a class=\"ProveItLink\" href=\"../../ordering/__pv_it/theorems/d8d02d2a77383d238ed10b8fda7965dfafa87db90/expr.ipynb\"><img src=\"data:image/png;base64,iVBORw0KGgoAAAANSUhEUgAAADIAAAAQBAMAAACmdTG/AAAAMFBMVEX///8AAAAAAAAAAAAAAAAA\n",
       "AAAAAAAAAAAAAAAAAAAAAAAAAAAAAAAAAAAAAAAAAAAv3aB7AAAAD3RSTlMAIquJdkTvuxBmmd1U\n",
       "zTKBpmoTAAAACXBIWXMAAA7EAAAOxAGVKw4bAAAA3klEQVQY02NgwAA8175d3102AVOCgaXoAcMF\n",
       "XiwSDFwLGFgm2GCTYRJgaOcoQDGlevdeEM3BwLCO6QGSBOuVBhiTT+EViGJUdnQA0bJwCQb2hgoQ\n",
       "FSbA/gNEX0RoP8wJUsuRycC1AcS9gJCBuJnrAwO3Acjs7N27d2+HOOWAKQNDAwNbAUN/AEgvwp3t\n",
       "jEC2IkO/A8N8MH8DXEYP6COODwz9Bxh0eQSAfBe4mxdEAb27gYHdgWcXF0iA9wDczTcYGGsKGDhU\n",
       "7IT8wF5Xj4DIhNWml+enGyAHgjkkdKAAAEfmMVewssrcAAAAAElFTkSuQmCC\n",
       "\" style=\"display:inline;vertical-align:middle;\" /></a>, <a class=\"ProveItLink\" href=\"../../ordering/__pv_it/theorems/035e0ae7bd8c0fe127ee5d2062443d6c874adcdd0/expr.ipynb\"><img src=\"data:image/png;base64,iVBORw0KGgoAAAANSUhEUgAAADAAAAAQBAMAAACigOGCAAAAMFBMVEX///8AAAAAAAAAAAAAAAAA\n",
       "AAAAAAAAAAAAAAAAAAAAAAAAAAAAAAAAAAAAAAAAAAAv3aB7AAAAD3RSTlMAELvv3c2ZVESJq3Yi\n",
       "MmZ3LnoBAAAACXBIWXMAAA7EAAAOxAGVKw4bAAAA50lEQVQY02NgQAfswZ+DXJQfMDAqO6BKcGtd\n",
       "YAhgBTJYE1Al2BIYuB9MBzL4C1AluA4wCDEqABn9AlAjVFxcQTQjA0Mu1wUgYwpEnCNaAKaHd8E1\n",
       "EBW1ezmIOgoXZ2ASUATp/CogfwBIxyBsqeTbAHL2RwZmEB2AkAA7loEtgIF/AtBcExcXFyeIKwpm\n",
       "MDAIMLBMYOgHOhjsQAgQ4gGy14C8kQ+yF+H/tUCfMH5g4L/AaAfi7oY7NqEN6EsHBq4HTOAwYS2A\n",
       "OzaQgUddgYFxZR6Yz7ioESLRrGqkZG80AeFIjkmQIIECANNVKrcrbsjPAAAAAElFTkSuQmCC\n",
       "\" style=\"display:inline;vertical-align:middle;\" /></a>, <a class=\"ProveItLink\" href=\"../__pv_it/theorems/6bf1a18c2e3498be826f1c5ef7caab578b7ee8c80/expr.ipynb\"><img src=\"data:image/png;base64,iVBORw0KGgoAAAANSUhEUgAAADQAAAAQBAMAAACra0H4AAAAMFBMVEX///8AAAAAAAAAAAAAAAAA\n",
       "AAAAAAAAAAAAAAAAAAAAAAAAAAAAAAAAAAAAAAAAAAAv3aB7AAAAD3RSTlMAEHarMolUmd1mIs3v\n",
       "RLtmgJDEAAAACXBIWXMAAA7EAAAOxAGVKw4bAAAA0klEQVQY02NgwAIY47o3LQnAJsOgfJJB/F8B\n",
       "Nhl2XaCOeVil3PkEGBiYUaT0Ojo2gGhDPpB9E5BkbitCGQ+WQxlCyiKhCUCaayNUgMvAFcoqYDJi\n",
       "bwDS3AugAiwBNyEMzgWcH5lB5nLDDOYquARVw8AOtpvBpwMIHoDtWgpTxaMApuTg7nnIB2PdX8AI\n",
       "9AcDB1zqOshfDBcY5C7YMLCCBJgUEKFhwACyJt+xhuEaWGQbwu/bF4i1MzCIK7FVJoAFhN8KwEP+\n",
       "fPsClLC7+gISUFAAAPAALk9BTu5+AAAAAElFTkSuQmCC\n",
       "\" style=\"display:inline;vertical-align:middle;\" /></a>, <a class=\"ProveItLink\" href=\"../__pv_it/theorems/e7a733f6071838c624bab1a2ecdcd3efaa06f4b40/expr.ipynb\"><img src=\"data:image/png;base64,iVBORw0KGgoAAAANSUhEUgAAADMAAAATBAMAAADPIygvAAAAMFBMVEX///8AAAAAAAAAAAAAAAAA\n",
       "AAAAAAAAAAAAAAAAAAAAAAAAAAAAAAAAAAAAAAAAAAAv3aB7AAAAD3RSTlMAEHaZZquJVO8y3btE\n",
       "zSKD2s2pAAAACXBIWXMAAA7EAAAOxAGVKw4bAAAA5UlEQVQoz2NgwALEdt3Vm4ZNgoEpwoHRfjNW\n",
       "KaNjDAwsWKU4DTYCyWAUMe1Vqy4AKVaBDUBSBFnmrCKE5uYzgDAYlR0YREEMvotQJU85EyAMNvYG\n",
       "Bn8Qg/cBVGoajwOEMZ15AUM0WApm8GMeBQhDgEOBoQnEmLEKCDaA7YIayHBegPMniJaG6eIGuxAE\n",
       "bBmYGkA0F0yKB+wvHiDeysAdAA4eBXhoHAXrYGAwZTgPcdF1eBjutWOsAvlNNMke4mzRPQKwkN/x\n",
       "yw7CyoWKHNsFDig4YLvA2M6AHXApsCbgkGJ3ssEhAwCM+y13eiDJfgAAAABJRU5ErkJggg==\n",
       "\" style=\"display:inline;vertical-align:middle;\" /></a>, <a class=\"ProveItLink\" href=\"../../addition/__pv_it/theorems/b66b5547fa9b0b910f79351152926c658c2718190/expr.ipynb\"><img src=\"data:image/png;base64,iVBORw0KGgoAAAANSUhEUgAAADEAAAAQBAMAAABNQoq8AAAAMFBMVEX///8AAAAAAAAAAAAAAAAA\n",
       "AAAAAAAAAAAAAAAAAAAAAAAAAAAAAAAAAAAAAAAAAAAv3aB7AAAAD3RSTlMAiXZmMiLdVJm77xBE\n",
       "zatgdeJyAAAACXBIWXMAAA7EAAAOxAGVKw4bAAAAw0lEQVQY02NgwAQbp91VdcQizsD0yoC7fwY2\n",
       "maaDDAzM2GRYGmYDyRfIQpppaReAFN+GCUByM5LEWW0IzcnaABMSUnYAkqy3odw4FgEoK6yAA6Sd\n",
       "NwDKd+QxgLISGbgUQDIwIyJ4FCAMjt8Q2isNCCaA7YGaxjUBQu+E6eHcABXZD9XLBpPhAfuHh4GB\n",
       "H2jfAVCYKMDD4ByQ6AXaM4GBEeRqhuvwcJvbyl0G8pOgMcSL++ZsgIX1rG+tKAF2cBo4dGAAAHWD\n",
       "KgtwTxl0AAAAAElFTkSuQmCC\n",
       "\" style=\"display:inline;vertical-align:middle;\" /></a>, <a class=\"ProveItLink\" href=\"../../division/__pv_it/theorems/d6724abdc9486f838f4cf63bc1115e85255ce4c00/expr.ipynb\"><img src=\"data:image/png;base64,iVBORw0KGgoAAAANSUhEUgAAADMAAAAQBAMAAABJt1qBAAAAMFBMVEX///8AAAAAAAAAAAAAAAAA\n",
       "AAAAAAAAAAAAAAAAAAAAAAAAAAAAAAAAAAAAAAAAAAAv3aB7AAAAD3RSTlMAMs3vmVREEIndIqt2\n",
       "u2aBbGR5AAAACXBIWXMAAA7EAAAOxAGVKw4bAAAA4UlEQVQY02NgwAIqbiqdkgCzGJUdUGR4Nj9g\n",
       "978CYfMHoEj5ZDAw8EGl8guQZRgdrgPJLRBOJ4Q6O3OmApDiLrgAJOsgYipgMuk4hMfLBbOaa8fB\n",
       "r2BaHSqwmrEBykpewPsdRDMtgApIsD2AMNjtGFgUwFIwZyxhOwBhsHxg4AQbIDwTCC6A7YIayHyB\n",
       "oT4BxKiF6eIFuxAI6g8wvAczOGFSbGB/sQGlAhg2sYJcwHMAHhrZQMIJqP0A6xQWsIgqPAwvebFH\n",
       "Av3Gvqdx9UGwSPU1WHhVXP7phRoXGTfBAQUDAJ+SNfXA0lXRAAAAAElFTkSuQmCC\n",
       "\" style=\"display:inline;vertical-align:middle;\" /></a> <a class=\"ProveItLink\" href=\"../__pv_it/demonstrations/60afefa52601e99b1b4b8bdfe9d0d0e15bacf9820/proof.ipynb\" style=\"text-decoration: none\">&nbsp;&#x22A2;&nbsp;&nbsp;</a><a class=\"ProveItLink\" href=\"../__pv_it/demonstrations/f4c80913406673ff355236b0e4346e266b1f9fa00/expr.ipynb\"><img src=\"data:image/png;base64,iVBORw0KGgoAAAANSUhEUgAAASQAAAAuBAMAAABzO3kNAAAAMFBMVEX///8AAAAAAAAAAAAAAAAA\n",
       "AAAAAAAAAAAAAAAAAAAAAAAAAAAAAAAAAAAAAAAAAAAv3aB7AAAAD3RSTlMAInZUiRDNmWbv3US7\n",
       "qzJazP2FAAAACXBIWXMAAA7EAAAOxAGVKw4bAAAEEklEQVRYw+2YTWgTQRiGvzRZk7RJG3puIVah\n",
       "9VBZoYjtpUFERWgJPSiFanIRiyDsoUgsQoOHein+QVHUQ7CFggUJeOqprRfxIIYYRG/xoAcv/TOl\n",
       "IIgzuzO7M9vdb7NJ8dQXtjuZd+ebn52ZnacAkABErmYAK4Wa3mpRGzLbkkgx1PTWgPxT+VBwN0X1\n",
       "uTo/nyJmHVKytowjGmKKz6VdrR3M9FY4b8voUBFTUERzfW01xKxDUXvGahoxRc27GaECYtah0/aM\n",
       "S5gpatL1lWqIWYem6JqtHLWWyK2ez5I51n/tnLzuxnKglABGhHHpeWCmu89uqJLpW7Q7K4lYzZzR\n",
       "u+lMQjS1lnK4IBVJDUJkE2DW2oYW4K45kR7DpzQzw691lXw2aYG04hlYlQZrEE0KZiQRqcWlWd6u\n",
       "TkN8DWDQzGlNwROeHs/DbRBN/3pBOrNJgwJk6JIPZ6EjxdLUbKc5dPRu6j2ukhSpn7Z6A3iZGWNF\n",
       "GGmARWBm402KrkGmSDurGT1eVVmamiAMmrXIN0jTVoCXeckGy0grf4CZDYq8m0wSHorb0kxaMMmu\n",
       "kFDkjY8M2wlyGzKn37awuW7r88wwG5xL70iTVPgS5FO6o0qmlmBOFL9BSC4SK8FHcpszM/bIyPEm\n",
       "7UA8e0o0/Yus1lgyuBTmv+P5mCaawz/uwFvbhl9q22M7hCGy3EatXgxpmmj61y/Ss/Jo90lz5Cs5\n",
       "ybzSE8zZjgNKpXeL3JatbeniPfPVXj3+vVwVTf9qrTZghsjaChSwA1OhiSahH0hn8zyMq/gnGTc9\n",
       "te7bfAUV8rcLK9fV1BFuwrd5prfYUFfqViDZkNmCHdlR81CH+o9KgAde+oTIQDOxApweUbxE5QCR\n",
       "x5qJpccb8MJLRE4QGUzZtrbnvmL1GfSI4iUqB4i8bH/mhq9Y5KJfIxQv0aF2gMjc/qr8xCJX1Asv\n",
       "MTlB5KP9VfmKNa/TI4qXmBwgMph1qMpPrEn9+IfipYyWnhAZTulOp1VVuV+1QSkaa4Q1DMFLCS3d\n",
       "IFLobN50DGWuK1s2KEVjzeoQguGljJbeENmq6s60mTGcNotwKEVjDeqoJuClsmvDSxMtqcF4iqUt\n",
       "iLS4E6JF0zECkKp+syIcStFYG7xJHC9hyY6XfMCowSGSpZ0gkjaJOUaARWjb4UUYlKKxVviLc8dL\n",
       "ES1dIVJ6cdzh21K4ZoNSNNYQpUcUL2W09IbIWNJ0DP2lE0WGUjTWHFt37ngpo6U3RIZKpmPoK7y3\n",
       "Qykaa4rSI4qXMlp6Q2R7wXTYYxfydihFYy3r9Ijipdchx745v8E/G1mPWORin7qD+4/wfeRhA0rR\n",
       "WPRabw679kFkDDmhGlCKxupi9DhxgLCsrLk/bEApGmud0SOKl6gcILKzmVjk+gf+HGVFRZzFgwAA\n",
       "AABJRU5ErkJggg==\n",
       "\" style=\"display:inline;vertical-align:middle;\" /></a></span>"
      ],
      "text/plain": [
       "{a in Integer, b in Integer, x in Complex, y in Complex, c in Complex, d in Complex} |- (a * b * (x - y) * c * d) =  \\\\ ((a * b * x * c * d) - (a * b * y * c * d))"
      ]
     },
     "metadata": {},
     "output_type": "display_data"
    }
   ],
   "source": [
    "expr.distribution(2, assumptions=assumptions)"
   ]
  },
  {
   "cell_type": "markdown",
   "metadata": {},
   "source": [
    "### We can specify specific factors to distribute on the left and right\n",
    "\n",
    "via expressions:"
   ]
  },
  {
   "cell_type": "code",
   "execution_count": 37,
   "metadata": {},
   "outputs": [
    {
     "data": {
      "text/html": [
       "<span style=\"font-size:20px;\"><a class=\"ProveItLink\" href=\"../../ordering/__pv_it/theorems/d8d02d2a77383d238ed10b8fda7965dfafa87db90/expr.ipynb\"><img src=\"data:image/png;base64,iVBORw0KGgoAAAANSUhEUgAAADIAAAAQBAMAAACmdTG/AAAAMFBMVEX///8AAAAAAAAAAAAAAAAA\n",
       "AAAAAAAAAAAAAAAAAAAAAAAAAAAAAAAAAAAAAAAAAAAv3aB7AAAAD3RSTlMAIquJdkTvuxBmmd1U\n",
       "zTKBpmoTAAAACXBIWXMAAA7EAAAOxAGVKw4bAAAA3klEQVQY02NgwAA8175d3102AVOCgaXoAcMF\n",
       "XiwSDFwLGFgm2GCTYRJgaOcoQDGlevdeEM3BwLCO6QGSBOuVBhiTT+EViGJUdnQA0bJwCQb2hgoQ\n",
       "FSbA/gNEX0RoP8wJUsuRycC1AcS9gJCBuJnrAwO3Acjs7N27d2+HOOWAKQNDAwNbAUN/AEgvwp3t\n",
       "jEC2IkO/A8N8MH8DXEYP6COODwz9Bxh0eQSAfBe4mxdEAb27gYHdgWcXF0iA9wDczTcYGGsKGDhU\n",
       "7IT8wF5Xj4DIhNWml+enGyAHgjkkdKAAAEfmMVewssrcAAAAAElFTkSuQmCC\n",
       "\" style=\"display:inline;vertical-align:middle;\" /></a>, <a class=\"ProveItLink\" href=\"../../ordering/__pv_it/theorems/035e0ae7bd8c0fe127ee5d2062443d6c874adcdd0/expr.ipynb\"><img src=\"data:image/png;base64,iVBORw0KGgoAAAANSUhEUgAAADAAAAAQBAMAAACigOGCAAAAMFBMVEX///8AAAAAAAAAAAAAAAAA\n",
       "AAAAAAAAAAAAAAAAAAAAAAAAAAAAAAAAAAAAAAAAAAAv3aB7AAAAD3RSTlMAELvv3c2ZVESJq3Yi\n",
       "MmZ3LnoBAAAACXBIWXMAAA7EAAAOxAGVKw4bAAAA50lEQVQY02NgQAfswZ+DXJQfMDAqO6BKcGtd\n",
       "YAhgBTJYE1Al2BIYuB9MBzL4C1AluA4wCDEqABn9AlAjVFxcQTQjA0Mu1wUgYwpEnCNaAKaHd8E1\n",
       "EBW1ezmIOgoXZ2ASUATp/CogfwBIxyBsqeTbAHL2RwZmEB2AkAA7loEtgIF/AtBcExcXFyeIKwpm\n",
       "MDAIMLBMYOgHOhjsQAgQ4gGy14C8kQ+yF+H/tUCfMH5g4L/AaAfi7oY7NqEN6EsHBq4HTOAwYS2A\n",
       "OzaQgUddgYFxZR6Yz7ioESLRrGqkZG80AeFIjkmQIIECANNVKrcrbsjPAAAAAElFTkSuQmCC\n",
       "\" style=\"display:inline;vertical-align:middle;\" /></a>, <a class=\"ProveItLink\" href=\"../__pv_it/theorems/6bf1a18c2e3498be826f1c5ef7caab578b7ee8c80/expr.ipynb\"><img src=\"data:image/png;base64,iVBORw0KGgoAAAANSUhEUgAAADQAAAAQBAMAAACra0H4AAAAMFBMVEX///8AAAAAAAAAAAAAAAAA\n",
       "AAAAAAAAAAAAAAAAAAAAAAAAAAAAAAAAAAAAAAAAAAAv3aB7AAAAD3RSTlMAEHarMolUmd1mIs3v\n",
       "RLtmgJDEAAAACXBIWXMAAA7EAAAOxAGVKw4bAAAA0klEQVQY02NgwAIY47o3LQnAJsOgfJJB/F8B\n",
       "Nhl2XaCOeVil3PkEGBiYUaT0Ojo2gGhDPpB9E5BkbitCGQ+WQxlCyiKhCUCaayNUgMvAFcoqYDJi\n",
       "bwDS3AugAiwBNyEMzgWcH5lB5nLDDOYquARVw8AOtpvBpwMIHoDtWgpTxaMApuTg7nnIB2PdX8AI\n",
       "9AcDB1zqOshfDBcY5C7YMLCCBJgUEKFhwACyJt+xhuEaWGQbwu/bF4i1MzCIK7FVJoAFhN8KwEP+\n",
       "fPsClLC7+gISUFAAAPAALk9BTu5+AAAAAElFTkSuQmCC\n",
       "\" style=\"display:inline;vertical-align:middle;\" /></a>, <a class=\"ProveItLink\" href=\"../__pv_it/theorems/e7a733f6071838c624bab1a2ecdcd3efaa06f4b40/expr.ipynb\"><img src=\"data:image/png;base64,iVBORw0KGgoAAAANSUhEUgAAADMAAAATBAMAAADPIygvAAAAMFBMVEX///8AAAAAAAAAAAAAAAAA\n",
       "AAAAAAAAAAAAAAAAAAAAAAAAAAAAAAAAAAAAAAAAAAAv3aB7AAAAD3RSTlMAEHaZZquJVO8y3btE\n",
       "zSKD2s2pAAAACXBIWXMAAA7EAAAOxAGVKw4bAAAA5UlEQVQoz2NgwALEdt3Vm4ZNgoEpwoHRfjNW\n",
       "KaNjDAwsWKU4DTYCyWAUMe1Vqy4AKVaBDUBSBFnmrCKE5uYzgDAYlR0YREEMvotQJU85EyAMNvYG\n",
       "Bn8Qg/cBVGoajwOEMZ15AUM0WApm8GMeBQhDgEOBoQnEmLEKCDaA7YIayHBegPMniJaG6eIGuxAE\n",
       "bBmYGkA0F0yKB+wvHiDeysAdAA4eBXhoHAXrYGAwZTgPcdF1eBjutWOsAvlNNMke4mzRPQKwkN/x\n",
       "yw7CyoWKHNsFDig4YLvA2M6AHXApsCbgkGJ3ssEhAwCM+y13eiDJfgAAAABJRU5ErkJggg==\n",
       "\" style=\"display:inline;vertical-align:middle;\" /></a>, <a class=\"ProveItLink\" href=\"../../addition/__pv_it/theorems/b66b5547fa9b0b910f79351152926c658c2718190/expr.ipynb\"><img src=\"data:image/png;base64,iVBORw0KGgoAAAANSUhEUgAAADEAAAAQBAMAAABNQoq8AAAAMFBMVEX///8AAAAAAAAAAAAAAAAA\n",
       "AAAAAAAAAAAAAAAAAAAAAAAAAAAAAAAAAAAAAAAAAAAv3aB7AAAAD3RSTlMAiXZmMiLdVJm77xBE\n",
       "zatgdeJyAAAACXBIWXMAAA7EAAAOxAGVKw4bAAAAw0lEQVQY02NgwAQbp91VdcQizsD0yoC7fwY2\n",
       "maaDDAzM2GRYGmYDyRfIQpppaReAFN+GCUByM5LEWW0IzcnaABMSUnYAkqy3odw4FgEoK6yAA6Sd\n",
       "NwDKd+QxgLISGbgUQDIwIyJ4FCAMjt8Q2isNCCaA7YGaxjUBQu+E6eHcABXZD9XLBpPhAfuHh4GB\n",
       "H2jfAVCYKMDD4ByQ6AXaM4GBEeRqhuvwcJvbyl0G8pOgMcSL++ZsgIX1rG+tKAF2cBo4dGAAAHWD\n",
       "KgtwTxl0AAAAAElFTkSuQmCC\n",
       "\" style=\"display:inline;vertical-align:middle;\" /></a>, <a class=\"ProveItLink\" href=\"../../division/__pv_it/theorems/d6724abdc9486f838f4cf63bc1115e85255ce4c00/expr.ipynb\"><img src=\"data:image/png;base64,iVBORw0KGgoAAAANSUhEUgAAADMAAAAQBAMAAABJt1qBAAAAMFBMVEX///8AAAAAAAAAAAAAAAAA\n",
       "AAAAAAAAAAAAAAAAAAAAAAAAAAAAAAAAAAAAAAAAAAAv3aB7AAAAD3RSTlMAMs3vmVREEIndIqt2\n",
       "u2aBbGR5AAAACXBIWXMAAA7EAAAOxAGVKw4bAAAA4UlEQVQY02NgwAIqbiqdkgCzGJUdUGR4Nj9g\n",
       "978CYfMHoEj5ZDAw8EGl8guQZRgdrgPJLRBOJ4Q6O3OmApDiLrgAJOsgYipgMuk4hMfLBbOaa8fB\n",
       "r2BaHSqwmrEBykpewPsdRDMtgApIsD2AMNjtGFgUwFIwZyxhOwBhsHxg4AQbIDwTCC6A7YIayHyB\n",
       "oT4BxKiF6eIFuxAI6g8wvAczOGFSbGB/sQGlAhg2sYJcwHMAHhrZQMIJqP0A6xQWsIgqPAwvebFH\n",
       "Av3Gvqdx9UGwSPU1WHhVXP7phRoXGTfBAQUDAJ+SNfXA0lXRAAAAAElFTkSuQmCC\n",
       "\" style=\"display:inline;vertical-align:middle;\" /></a> <a class=\"ProveItLink\" href=\"../__pv_it/demonstrations/84e21cb3cea3bb0dde832a9aeca11a9968849e320/proof.ipynb\" style=\"text-decoration: none\">&nbsp;&#x22A2;&nbsp;&nbsp;</a><a class=\"ProveItLink\" href=\"../__pv_it/demonstrations/d0ceb11c7a3112d903ba1522ef7477e1912006f70/expr.ipynb\"><img src=\"data:image/png;base64,iVBORw0KGgoAAAANSUhEUgAAAdIAAAAVBAMAAAAA1HK9AAAAMFBMVEX///8AAAAAAAAAAAAAAAAA\n",
       "AAAAAAAAAAAAAAAAAAAAAAAAAAAAAAAAAAAAAAAAAAAv3aB7AAAAD3RSTlMAInZUiRDNmWbv3US7\n",
       "qzJazP2FAAAACXBIWXMAAA7EAAAOxAGVKw4bAAAEaUlEQVRYw5WYTWhUVxTHz2TyMjOZSTJ0KQpJ\n",
       "LGgXygghmGwcpFQRIoOLijA22QRtQZhFKKMIDi7MRlpbEIt2MZhAoIEy2JWrjG6ki9IhDlJ36aJd\n",
       "uElqGhEE6Tn3vnffvefed5898DJv/uee8zv3870MAJTBY4nOjC8q80GpypACd/szKSEZR5iIGah4\n",
       "opKdxXFPmMtppSLBCyd7ZEsHU0II/shV0JSpBb+2tW9TyQkPJ3r+vudyTrmEKcYzbfTLxkCLi9kq\n",
       "1O9DCtwKQy1YYNpQQ+v2QnLKoVqia9fhtFKRQJfO4zZWgUWufY7XJc+USviiXW2uZWdXZjk1yydW\n",
       "WNxzOK1UJNA15lnAGzVY5lpT9AZS4Mt2tQVHdmUF3364m+QYbDucBZdQYDxuZ7AJd98RvYEUuBV2\n",
       "F6Yd2ZVN+3p6OXFdNxzOaZcwzXjccJUOsbWQXZC9SYHzMNSW6AzuT8SH5ZXJ5+qenOeOfPGpucDO\n",
       "NSHoAcxpAzn5jbo/cHK7YjjjVAZnKbx0nsHK9I/iKh3ssUVfxW5sHqmwYjhcDxPVzYnBf1wuqfUQ\n",
       "vKnNl/Vpawxs5swxrM5AfgfgVvy0WoHrap98B7/XQmfuJ2G9KJXOEcJlxjNYsnWenWQ0WfOLwT+s\n",
       "GA7XwmR1t2AFYT9AnD+7BwU18OjMl/N7I8ZSGK1cg5EuwIxShqvwfXR/oQVfg+6MUxkcEujSeQaL\n",
       "WmO52TtmnmGcsxM1xYuK4XAtTFY3Aw9w6HfoGw4VjQNmH6uG9+QcFTwEfyXmZwvvMJCK24Yo5obc\n",
       "/vIeYBVCp26cQ4IQNZ5ivQHVenTHgEOhA9Sbf8NWUTHiiwaXYVIU1W0TrNCF+Q51viFHYKMS3otq\n",
       "tCmOD/JthD6GKObHcPDkffAOQifrqcGJemrwItYaqNZFNqfU01Uo7oatomLklxguw0JR7AVaQPPj\n",
       "8K3+OL1R01cYbJQD88jGgf8EP2bV1n6tvQ+8lttmlu9TzolWr8HTWWHrbNtevbuQ22PFcHgcFlY3\n",
       "C08xZwVeZKNTYWwLN0hk6Kx3XsKgCSv14Df8uK2EtziGUd5dGFk4pjvjVAaHBLp0nsEKW+e7DI6z\n",
       "/p42pFkMh2thsrrbdCKXxrNruUgfaZXi9xt0nvjrKvzCDvpe8W34iJCGR9vZuAOzjYbujFMZHPEc\n",
       "mjN5BitsTU8V480AV8gf8IwXw+FamKxuCV7hUGyePXBUjUu/GadF5/nJbJO9rwX9Q3TIr8f00zfV\n",
       "Arz48Z+bW7ozTmVwSBCixjNYYevhDnvrx2V58VSLF8PhWpisbh2GtzzvKEnOQTwiM23f/4jt1FQk\n",
       "eOHS9nHhZ1cxFnyfreU9/0okOD+DCxX/27/DaaUiwQuPX+gNW3YVY8GbDu2Jj+N0PoQ+/t3vi9v/\n",
       "AameQApczEWXK6WyoxgOt8KooLoP5HQeP9SB/z9CdZdQT+tpyfp5Jeg6iuFwK4wKyvh+Jkl2Dvh+\n",
       "AXI5rVQkeOFkE7b0UUoIwSds7T8/g1xKJDQ8LwAAAABJRU5ErkJggg==\n",
       "\" style=\"display:inline;vertical-align:middle;\" /></a></span>"
      ],
      "text/plain": [
       "{a in Integer, b in Integer, x in Complex, y in Complex, c in Complex, d in Complex} |- (a * b * (x - y) * c * d) = (a * ((b * x * d) - (b * y * d)) * c)"
      ]
     },
     "metadata": {},
     "output_type": "display_data"
    }
   ],
   "source": [
    "expr.distribution(2, left_factors=[b], right_factors=[d], assumptions=assumptions)"
   ]
  },
  {
   "cell_type": "markdown",
   "metadata": {},
   "source": [
    "or via indices:"
   ]
  },
  {
   "cell_type": "code",
   "execution_count": 38,
   "metadata": {},
   "outputs": [
    {
     "data": {
      "text/html": [
       "<span style=\"font-size:20px;\"><a class=\"ProveItLink\" href=\"../../ordering/__pv_it/theorems/d8d02d2a77383d238ed10b8fda7965dfafa87db90/expr.ipynb\"><img src=\"data:image/png;base64,iVBORw0KGgoAAAANSUhEUgAAADIAAAAQBAMAAACmdTG/AAAAMFBMVEX///8AAAAAAAAAAAAAAAAA\n",
       "AAAAAAAAAAAAAAAAAAAAAAAAAAAAAAAAAAAAAAAAAAAv3aB7AAAAD3RSTlMAIquJdkTvuxBmmd1U\n",
       "zTKBpmoTAAAACXBIWXMAAA7EAAAOxAGVKw4bAAAA3klEQVQY02NgwAA8175d3102AVOCgaXoAcMF\n",
       "XiwSDFwLGFgm2GCTYRJgaOcoQDGlevdeEM3BwLCO6QGSBOuVBhiTT+EViGJUdnQA0bJwCQb2hgoQ\n",
       "FSbA/gNEX0RoP8wJUsuRycC1AcS9gJCBuJnrAwO3Acjs7N27d2+HOOWAKQNDAwNbAUN/AEgvwp3t\n",
       "jEC2IkO/A8N8MH8DXEYP6COODwz9Bxh0eQSAfBe4mxdEAb27gYHdgWcXF0iA9wDczTcYGGsKGDhU\n",
       "7IT8wF5Xj4DIhNWml+enGyAHgjkkdKAAAEfmMVewssrcAAAAAElFTkSuQmCC\n",
       "\" style=\"display:inline;vertical-align:middle;\" /></a>, <a class=\"ProveItLink\" href=\"../../ordering/__pv_it/theorems/035e0ae7bd8c0fe127ee5d2062443d6c874adcdd0/expr.ipynb\"><img src=\"data:image/png;base64,iVBORw0KGgoAAAANSUhEUgAAADAAAAAQBAMAAACigOGCAAAAMFBMVEX///8AAAAAAAAAAAAAAAAA\n",
       "AAAAAAAAAAAAAAAAAAAAAAAAAAAAAAAAAAAAAAAAAAAv3aB7AAAAD3RSTlMAELvv3c2ZVESJq3Yi\n",
       "MmZ3LnoBAAAACXBIWXMAAA7EAAAOxAGVKw4bAAAA50lEQVQY02NgQAfswZ+DXJQfMDAqO6BKcGtd\n",
       "YAhgBTJYE1Al2BIYuB9MBzL4C1AluA4wCDEqABn9AlAjVFxcQTQjA0Mu1wUgYwpEnCNaAKaHd8E1\n",
       "EBW1ezmIOgoXZ2ASUATp/CogfwBIxyBsqeTbAHL2RwZmEB2AkAA7loEtgIF/AtBcExcXFyeIKwpm\n",
       "MDAIMLBMYOgHOhjsQAgQ4gGy14C8kQ+yF+H/tUCfMH5g4L/AaAfi7oY7NqEN6EsHBq4HTOAwYS2A\n",
       "OzaQgUddgYFxZR6Yz7ioESLRrGqkZG80AeFIjkmQIIECANNVKrcrbsjPAAAAAElFTkSuQmCC\n",
       "\" style=\"display:inline;vertical-align:middle;\" /></a>, <a class=\"ProveItLink\" href=\"../__pv_it/theorems/6bf1a18c2e3498be826f1c5ef7caab578b7ee8c80/expr.ipynb\"><img src=\"data:image/png;base64,iVBORw0KGgoAAAANSUhEUgAAADQAAAAQBAMAAACra0H4AAAAMFBMVEX///8AAAAAAAAAAAAAAAAA\n",
       "AAAAAAAAAAAAAAAAAAAAAAAAAAAAAAAAAAAAAAAAAAAv3aB7AAAAD3RSTlMAEHarMolUmd1mIs3v\n",
       "RLtmgJDEAAAACXBIWXMAAA7EAAAOxAGVKw4bAAAA0klEQVQY02NgwAIY47o3LQnAJsOgfJJB/F8B\n",
       "Nhl2XaCOeVil3PkEGBiYUaT0Ojo2gGhDPpB9E5BkbitCGQ+WQxlCyiKhCUCaayNUgMvAFcoqYDJi\n",
       "bwDS3AugAiwBNyEMzgWcH5lB5nLDDOYquARVw8AOtpvBpwMIHoDtWgpTxaMApuTg7nnIB2PdX8AI\n",
       "9AcDB1zqOshfDBcY5C7YMLCCBJgUEKFhwACyJt+xhuEaWGQbwu/bF4i1MzCIK7FVJoAFhN8KwEP+\n",
       "fPsClLC7+gISUFAAAPAALk9BTu5+AAAAAElFTkSuQmCC\n",
       "\" style=\"display:inline;vertical-align:middle;\" /></a>, <a class=\"ProveItLink\" href=\"../__pv_it/theorems/e7a733f6071838c624bab1a2ecdcd3efaa06f4b40/expr.ipynb\"><img src=\"data:image/png;base64,iVBORw0KGgoAAAANSUhEUgAAADMAAAATBAMAAADPIygvAAAAMFBMVEX///8AAAAAAAAAAAAAAAAA\n",
       "AAAAAAAAAAAAAAAAAAAAAAAAAAAAAAAAAAAAAAAAAAAv3aB7AAAAD3RSTlMAEHaZZquJVO8y3btE\n",
       "zSKD2s2pAAAACXBIWXMAAA7EAAAOxAGVKw4bAAAA5UlEQVQoz2NgwALEdt3Vm4ZNgoEpwoHRfjNW\n",
       "KaNjDAwsWKU4DTYCyWAUMe1Vqy4AKVaBDUBSBFnmrCKE5uYzgDAYlR0YREEMvotQJU85EyAMNvYG\n",
       "Bn8Qg/cBVGoajwOEMZ15AUM0WApm8GMeBQhDgEOBoQnEmLEKCDaA7YIayHBegPMniJaG6eIGuxAE\n",
       "bBmYGkA0F0yKB+wvHiDeysAdAA4eBXhoHAXrYGAwZTgPcdF1eBjutWOsAvlNNMke4mzRPQKwkN/x\n",
       "yw7CyoWKHNsFDig4YLvA2M6AHXApsCbgkGJ3ssEhAwCM+y13eiDJfgAAAABJRU5ErkJggg==\n",
       "\" style=\"display:inline;vertical-align:middle;\" /></a>, <a class=\"ProveItLink\" href=\"../../addition/__pv_it/theorems/b66b5547fa9b0b910f79351152926c658c2718190/expr.ipynb\"><img src=\"data:image/png;base64,iVBORw0KGgoAAAANSUhEUgAAADEAAAAQBAMAAABNQoq8AAAAMFBMVEX///8AAAAAAAAAAAAAAAAA\n",
       "AAAAAAAAAAAAAAAAAAAAAAAAAAAAAAAAAAAAAAAAAAAv3aB7AAAAD3RSTlMAiXZmMiLdVJm77xBE\n",
       "zatgdeJyAAAACXBIWXMAAA7EAAAOxAGVKw4bAAAAw0lEQVQY02NgwAQbp91VdcQizsD0yoC7fwY2\n",
       "maaDDAzM2GRYGmYDyRfIQpppaReAFN+GCUByM5LEWW0IzcnaABMSUnYAkqy3odw4FgEoK6yAA6Sd\n",
       "NwDKd+QxgLISGbgUQDIwIyJ4FCAMjt8Q2isNCCaA7YGaxjUBQu+E6eHcABXZD9XLBpPhAfuHh4GB\n",
       "H2jfAVCYKMDD4ByQ6AXaM4GBEeRqhuvwcJvbyl0G8pOgMcSL++ZsgIX1rG+tKAF2cBo4dGAAAHWD\n",
       "KgtwTxl0AAAAAElFTkSuQmCC\n",
       "\" style=\"display:inline;vertical-align:middle;\" /></a>, <a class=\"ProveItLink\" href=\"../../division/__pv_it/theorems/d6724abdc9486f838f4cf63bc1115e85255ce4c00/expr.ipynb\"><img src=\"data:image/png;base64,iVBORw0KGgoAAAANSUhEUgAAADMAAAAQBAMAAABJt1qBAAAAMFBMVEX///8AAAAAAAAAAAAAAAAA\n",
       "AAAAAAAAAAAAAAAAAAAAAAAAAAAAAAAAAAAAAAAAAAAv3aB7AAAAD3RSTlMAMs3vmVREEIndIqt2\n",
       "u2aBbGR5AAAACXBIWXMAAA7EAAAOxAGVKw4bAAAA4UlEQVQY02NgwAIqbiqdkgCzGJUdUGR4Nj9g\n",
       "978CYfMHoEj5ZDAw8EGl8guQZRgdrgPJLRBOJ4Q6O3OmApDiLrgAJOsgYipgMuk4hMfLBbOaa8fB\n",
       "r2BaHSqwmrEBykpewPsdRDMtgApIsD2AMNjtGFgUwFIwZyxhOwBhsHxg4AQbIDwTCC6A7YIayHyB\n",
       "oT4BxKiF6eIFuxAI6g8wvAczOGFSbGB/sQGlAhg2sYJcwHMAHhrZQMIJqP0A6xQWsIgqPAwvebFH\n",
       "Av3Gvqdx9UGwSPU1WHhVXP7phRoXGTfBAQUDAJ+SNfXA0lXRAAAAAElFTkSuQmCC\n",
       "\" style=\"display:inline;vertical-align:middle;\" /></a> <a class=\"ProveItLink\" href=\"../__pv_it/demonstrations/2d13484e5bca60581a44de6b767a8d60b9f482cd0/proof.ipynb\" style=\"text-decoration: none\">&nbsp;&#x22A2;&nbsp;&nbsp;</a><a class=\"ProveItLink\" href=\"../__pv_it/demonstrations/60f58f7ac351a9bd264f8ef80c0e5a0b3f2a715f0/expr.ipynb\"><img src=\"data:image/png;base64,iVBORw0KGgoAAAANSUhEUgAAAekAAAAVBAMAAACQxwtyAAAAMFBMVEX///8AAAAAAAAAAAAAAAAA\n",
       "AAAAAAAAAAAAAAAAAAAAAAAAAAAAAAAAAAAAAAAAAAAv3aB7AAAAD3RSTlMAInZUiRDNmWbv3US7\n",
       "qzJazP2FAAAACXBIWXMAAA7EAAAOxAGVKw4bAAAEKUlEQVRYw51YT0hUQRj/1t3n7ur+o6MoqBXa\n",
       "IdlAJL20iEQEyuKhELbWS/QHgj1IbBEoHapDlAVRUIclA6Egljp5cu3WIVpMgm7boQ5dNEURujTz\n",
       "3sy8+Wbmza4NfO74+833/b6Z+ebNvgWADFhaIBmyeYVaCpWBJuLNcwkd0F1ItmUtI4PJzl6Lm4nU\n",
       "QlHAKq629zp0+IDu3GAYc86nivTfcHCQwUDm1zMTOWwCXDB1tWQKgzOhy7SgDgnnmF6r7tycWWV0\n",
       "u5SCRsrj8oHUjoHUQlGAgWnzjreri3FJHXGO67XsziyqLqCcgkZKLVYKrO9dA6mFogADV80LqC3G\n",
       "PXVEmeu17M4srg6WU4jbzsnTICJSMZBxE8DAs+Y42mLEVWBR6LXqzmxEHSynMGKb9ZXA2i8ZyBET\n",
       "wMDL5jjaYrQr9RKeNZeyxZ3ZHH3+b/T5D93r/V9Fn5LTxy9O4FqZLoNTB5iUdrf/oej3jG9mEemH\n",
       "QjpzAhzyzyUSkzOB8cEGROrKIckJPZSZxZ0Z3ZSVTEIcDWcvX8zI21lqW4/iEsqNQmwL4K5/ay7B\n",
       "bXGoH8OXPCOjb9xW56FkHRfQQFkMZdKVjdYgNqtvHtNDmVncmS0R/jn48wrvQlxsCCFjmdhuElVW\n",
       "KnsLkjWAUYF05OAJ788swA2QST8U0qEAB8VkkBjK5DXthxdxzI6s0EOZWdyZvSBbskXzBihSdZJC\n",
       "Osf6lEyxpJxr7r41SI9MkcbbBO4z7y2216cSjJSbqkMBDRRie34mXt8th9QWSgTiVaHnjuKZWdyZ\n",
       "EeF4DYpVunQlb99Ws6zvZiatmH8zbRLRFeA+L9nSe33nLzBSmTXS4bPGIBdb9jNx+3F3BzuVvaaz\n",
       "ZnruKJ6ZxZ0ZKbJiLzySb7n5vFyFsJpx8B1AVvEY+RgTj4Jt6bvHtneyxtRzrerwCsegLCZnUnQX\n",
       "I1zRKpzrocws7sw+EiwL38L84Kcb5KTxRshC9TtEsFiiDp/JxwMB7JP147PegeTsCZn0QyEdCmgg\n",
       "EpMzSZPDXoVYTUmkV+ihzCzuzCapc3g5ygckFxL+9UfIUz9vwgflwqh37rNrx2vkAT7lT2asVJJJ\n",
       "PxTSce82FURicibkCRxpeDeV/HWoLvRQZhZ3Zr/J/qxP9QyJEt0o+2EJeb4/XFa+2jkbA3/Ix1tf\n",
       "/cwdcQYuHPmx3pBJPxTSoYAGIjGUycT9o6SiqzhmqiL0UGYWd2YdDcvXryAyQp60oYrtBbvSNBQF\n",
       "rOJ661KBd8bMbO7Mgl8iAt8wTsNM1v5mYiC1UBSwiuutDE1eR7zMbO7c1mw6RvIVbJC/3Ta/7hZC\n",
       "rTUT1wqopiKJjCkzizs3KNiEjOTJgep/rFbBBBQOMuuE9hOSUzNlZnHnBiHbT0HBZJvtFy8TqYWi\n",
       "gFVcbX06dOiA7sz+AeRxaMjx4eGKAAAAAElFTkSuQmCC\n",
       "\" style=\"display:inline;vertical-align:middle;\" /></a></span>"
      ],
      "text/plain": [
       "{a in Integer, b in Integer, x in Complex, y in Complex, c in Complex, d in Complex} |- (a * b * (x - y) * c * d) = (a * ((d * x * b * c) - (d * y * b * c)))"
      ]
     },
     "metadata": {},
     "output_type": "display_data"
    }
   ],
   "source": [
    "expr.distribution(2, left_factors=[4], right_factors=[1, 3], assumptions=assumptions)"
   ]
  },
  {
   "cell_type": "code",
   "execution_count": 39,
   "metadata": {},
   "outputs": [
    {
     "data": {
      "text/html": [
       "<span style=\"font-size:20px;\"><a class=\"ProveItLink\" href=\"../../ordering/__pv_it/theorems/d8d02d2a77383d238ed10b8fda7965dfafa87db90/expr.ipynb\"><img src=\"data:image/png;base64,iVBORw0KGgoAAAANSUhEUgAAADIAAAAQBAMAAACmdTG/AAAAMFBMVEX///8AAAAAAAAAAAAAAAAA\n",
       "AAAAAAAAAAAAAAAAAAAAAAAAAAAAAAAAAAAAAAAAAAAv3aB7AAAAD3RSTlMAIquJdkTvuxBmmd1U\n",
       "zTKBpmoTAAAACXBIWXMAAA7EAAAOxAGVKw4bAAAA3klEQVQY02NgwAA8175d3102AVOCgaXoAcMF\n",
       "XiwSDFwLGFgm2GCTYRJgaOcoQDGlevdeEM3BwLCO6QGSBOuVBhiTT+EViGJUdnQA0bJwCQb2hgoQ\n",
       "FSbA/gNEX0RoP8wJUsuRycC1AcS9gJCBuJnrAwO3Acjs7N27d2+HOOWAKQNDAwNbAUN/AEgvwp3t\n",
       "jEC2IkO/A8N8MH8DXEYP6COODwz9Bxh0eQSAfBe4mxdEAb27gYHdgWcXF0iA9wDczTcYGGsKGDhU\n",
       "7IT8wF5Xj4DIhNWml+enGyAHgjkkdKAAAEfmMVewssrcAAAAAElFTkSuQmCC\n",
       "\" style=\"display:inline;vertical-align:middle;\" /></a>, <a class=\"ProveItLink\" href=\"../../ordering/__pv_it/theorems/035e0ae7bd8c0fe127ee5d2062443d6c874adcdd0/expr.ipynb\"><img src=\"data:image/png;base64,iVBORw0KGgoAAAANSUhEUgAAADAAAAAQBAMAAACigOGCAAAAMFBMVEX///8AAAAAAAAAAAAAAAAA\n",
       "AAAAAAAAAAAAAAAAAAAAAAAAAAAAAAAAAAAAAAAAAAAv3aB7AAAAD3RSTlMAELvv3c2ZVESJq3Yi\n",
       "MmZ3LnoBAAAACXBIWXMAAA7EAAAOxAGVKw4bAAAA50lEQVQY02NgQAfswZ+DXJQfMDAqO6BKcGtd\n",
       "YAhgBTJYE1Al2BIYuB9MBzL4C1AluA4wCDEqABn9AlAjVFxcQTQjA0Mu1wUgYwpEnCNaAKaHd8E1\n",
       "EBW1ezmIOgoXZ2ASUATp/CogfwBIxyBsqeTbAHL2RwZmEB2AkAA7loEtgIF/AtBcExcXFyeIKwpm\n",
       "MDAIMLBMYOgHOhjsQAgQ4gGy14C8kQ+yF+H/tUCfMH5g4L/AaAfi7oY7NqEN6EsHBq4HTOAwYS2A\n",
       "OzaQgUddgYFxZR6Yz7ioESLRrGqkZG80AeFIjkmQIIECANNVKrcrbsjPAAAAAElFTkSuQmCC\n",
       "\" style=\"display:inline;vertical-align:middle;\" /></a>, <a class=\"ProveItLink\" href=\"../__pv_it/theorems/6bf1a18c2e3498be826f1c5ef7caab578b7ee8c80/expr.ipynb\"><img src=\"data:image/png;base64,iVBORw0KGgoAAAANSUhEUgAAADQAAAAQBAMAAACra0H4AAAAMFBMVEX///8AAAAAAAAAAAAAAAAA\n",
       "AAAAAAAAAAAAAAAAAAAAAAAAAAAAAAAAAAAAAAAAAAAv3aB7AAAAD3RSTlMAEHarMolUmd1mIs3v\n",
       "RLtmgJDEAAAACXBIWXMAAA7EAAAOxAGVKw4bAAAA0klEQVQY02NgwAIY47o3LQnAJsOgfJJB/F8B\n",
       "Nhl2XaCOeVil3PkEGBiYUaT0Ojo2gGhDPpB9E5BkbitCGQ+WQxlCyiKhCUCaayNUgMvAFcoqYDJi\n",
       "bwDS3AugAiwBNyEMzgWcH5lB5nLDDOYquARVw8AOtpvBpwMIHoDtWgpTxaMApuTg7nnIB2PdX8AI\n",
       "9AcDB1zqOshfDBcY5C7YMLCCBJgUEKFhwACyJt+xhuEaWGQbwu/bF4i1MzCIK7FVJoAFhN8KwEP+\n",
       "fPsClLC7+gISUFAAAPAALk9BTu5+AAAAAElFTkSuQmCC\n",
       "\" style=\"display:inline;vertical-align:middle;\" /></a>, <a class=\"ProveItLink\" href=\"../__pv_it/theorems/e7a733f6071838c624bab1a2ecdcd3efaa06f4b40/expr.ipynb\"><img src=\"data:image/png;base64,iVBORw0KGgoAAAANSUhEUgAAADMAAAATBAMAAADPIygvAAAAMFBMVEX///8AAAAAAAAAAAAAAAAA\n",
       "AAAAAAAAAAAAAAAAAAAAAAAAAAAAAAAAAAAAAAAAAAAv3aB7AAAAD3RSTlMAEHaZZquJVO8y3btE\n",
       "zSKD2s2pAAAACXBIWXMAAA7EAAAOxAGVKw4bAAAA5UlEQVQoz2NgwALEdt3Vm4ZNgoEpwoHRfjNW\n",
       "KaNjDAwsWKU4DTYCyWAUMe1Vqy4AKVaBDUBSBFnmrCKE5uYzgDAYlR0YREEMvotQJU85EyAMNvYG\n",
       "Bn8Qg/cBVGoajwOEMZ15AUM0WApm8GMeBQhDgEOBoQnEmLEKCDaA7YIayHBegPMniJaG6eIGuxAE\n",
       "bBmYGkA0F0yKB+wvHiDeysAdAA4eBXhoHAXrYGAwZTgPcdF1eBjutWOsAvlNNMke4mzRPQKwkN/x\n",
       "yw7CyoWKHNsFDig4YLvA2M6AHXApsCbgkGJ3ssEhAwCM+y13eiDJfgAAAABJRU5ErkJggg==\n",
       "\" style=\"display:inline;vertical-align:middle;\" /></a>, <a class=\"ProveItLink\" href=\"../../addition/__pv_it/theorems/b66b5547fa9b0b910f79351152926c658c2718190/expr.ipynb\"><img src=\"data:image/png;base64,iVBORw0KGgoAAAANSUhEUgAAADEAAAAQBAMAAABNQoq8AAAAMFBMVEX///8AAAAAAAAAAAAAAAAA\n",
       "AAAAAAAAAAAAAAAAAAAAAAAAAAAAAAAAAAAAAAAAAAAv3aB7AAAAD3RSTlMAiXZmMiLdVJm77xBE\n",
       "zatgdeJyAAAACXBIWXMAAA7EAAAOxAGVKw4bAAAAw0lEQVQY02NgwAQbp91VdcQizsD0yoC7fwY2\n",
       "maaDDAzM2GRYGmYDyRfIQpppaReAFN+GCUByM5LEWW0IzcnaABMSUnYAkqy3odw4FgEoK6yAA6Sd\n",
       "NwDKd+QxgLISGbgUQDIwIyJ4FCAMjt8Q2isNCCaA7YGaxjUBQu+E6eHcABXZD9XLBpPhAfuHh4GB\n",
       "H2jfAVCYKMDD4ByQ6AXaM4GBEeRqhuvwcJvbyl0G8pOgMcSL++ZsgIX1rG+tKAF2cBo4dGAAAHWD\n",
       "KgtwTxl0AAAAAElFTkSuQmCC\n",
       "\" style=\"display:inline;vertical-align:middle;\" /></a>, <a class=\"ProveItLink\" href=\"../../division/__pv_it/theorems/d6724abdc9486f838f4cf63bc1115e85255ce4c00/expr.ipynb\"><img src=\"data:image/png;base64,iVBORw0KGgoAAAANSUhEUgAAADMAAAAQBAMAAABJt1qBAAAAMFBMVEX///8AAAAAAAAAAAAAAAAA\n",
       "AAAAAAAAAAAAAAAAAAAAAAAAAAAAAAAAAAAAAAAAAAAv3aB7AAAAD3RSTlMAMs3vmVREEIndIqt2\n",
       "u2aBbGR5AAAACXBIWXMAAA7EAAAOxAGVKw4bAAAA4UlEQVQY02NgwAIqbiqdkgCzGJUdUGR4Nj9g\n",
       "978CYfMHoEj5ZDAw8EGl8guQZRgdrgPJLRBOJ4Q6O3OmApDiLrgAJOsgYipgMuk4hMfLBbOaa8fB\n",
       "r2BaHSqwmrEBykpewPsdRDMtgApIsD2AMNjtGFgUwFIwZyxhOwBhsHxg4AQbIDwTCC6A7YIayHyB\n",
       "oT4BxKiF6eIFuxAI6g8wvAczOGFSbGB/sQGlAhg2sYJcwHMAHhrZQMIJqP0A6xQWsIgqPAwvebFH\n",
       "Av3Gvqdx9UGwSPU1WHhVXP7phRoXGTfBAQUDAJ+SNfXA0lXRAAAAAElFTkSuQmCC\n",
       "\" style=\"display:inline;vertical-align:middle;\" /></a> <a class=\"ProveItLink\" href=\"../__pv_it/demonstrations/ba116912fb008da5ef80d059656d30a40402dd110/proof.ipynb\" style=\"text-decoration: none\">&nbsp;&#x22A2;&nbsp;&nbsp;</a><a class=\"ProveItLink\" href=\"../__pv_it/demonstrations/0633a794adfe844a836c4e966349b8730d4f713e0/expr.ipynb\"><img src=\"data:image/png;base64,iVBORw0KGgoAAAANSUhEUgAAAewAAAAVBAMAAAB27sA2AAAAMFBMVEX///8AAAAAAAAAAAAAAAAA\n",
       "AAAAAAAAAAAAAAAAAAAAAAAAAAAAAAAAAAAAAAAAAAAv3aB7AAAAD3RSTlMAInZUiRDNmWbv3US7\n",
       "qzJazP2FAAAACXBIWXMAAA7EAAAOxAGVKw4bAAAEO0lEQVRYw5VYS0hUURj+x5nbPBx1cCkGowXV\n",
       "ophAJN00REQEibQoAks30QOCWUiYBEoL3UgvkIJaDBkIBTHYqpVTuxbRYEPQzha1aKMZRtCm87jn\n",
       "3PP/59yjc+B37jnf+b/vu+dxz70CQAE8JRZM+LIScVQF2EFvF/qJVvMLLoK2kicrHmwvetJcIKdS\n",
       "sfuyYjftazV/xeVuALcFH6pGbSCe8GAs8uOxCxwwApfO6xUXjXDSNkubk2WXoC/f4mDuggnStsfw\n",
       "YIFmv9FY6LcD5FQqaOlyLwDh5AptPe8U9OZfsa2nZz0eLNAomUrsEt92gJxKBS2r7hEUTuZp65RT\n",
       "0Js/b1vP+jxkfdtmMQ5IVR1g1ghazrh5hJMsHZIHbkFfvsWxCIM+D4O+274Wu/wrDnDQCFquunmE\n",
       "kz1kdSQnYlazJ59yMHeT/Ine7IsevTf7P+trDp47fPkk3nvnpiBoAJw1hrv/nr7ee2KjhMCISgXS\n",
       "SzSPRFsTiQknqQbZLGWh0Q1EEFkj+SaHsHpWTMvbQl7vjuDP6HjBnNBK21oaL6LyEGQ2AeYi50tw\n",
       "R++zh/BpNATTL0VpKCoVph6umGLSSYbMLp+5UAMJImsk3+CQVudgieFPILqx5DZk9VQwMFPIbHeg\n",
       "RdJZmoaOOsCQbsmV4ZG6vjgLt8AEIyoVSI9XtCskJp0kyV7OlYTGNBBBZI3kGxzS6hA8ZZOyyWsA\n",
       "41yeeegqh9cc7AxdBTfEzK2zK5bIR2YDVM6MHG15DfACQtAsT6PAemZFi/3RTjo3kThka1pD9EIV\n",
       "ZY3kSw7ZW1jd4DaydRiv8ZGoyOFYLYXXwqcx+dF5scEcvAWV8ywcSXkd/IMQjLltpIcqWmxZO2kn\n",
       "s81vO9QQvXAltEbyJUfYW2wsvujGi3DfPOxmRs2VCauFAB8AbBgPsZ9hvU63jLeSLbm5huneNhY5\n",
       "0kMVJCadJKvWIlcaSBBZI/kRR2h1GN4z5RJ8SarHWNc6222qMHCs9hVSWDnfgI/sZ0E3/GUDqnh/\n",
       "Q8fEUROMqFQgPVRBYtJJpk7Ei1oDCSJrJN/gkFYX+EmTLyaX06q9YzYfnYIMPP79NrwhZ0ij/W94\n",
       "FMnCno0j0e0NVyomGFGpQHqogsSkkzR5BeeHUaiBBJE1km9wSKuT8JMN2NrI3iN6GTSNtz8GXuhP\n",
       "TpFX5qB54Bf7eRVZOX1Xb4NL+7+trZtgRKUC65kVJCad5Grku6WqNZAgskbyDQ5p9RXk1j0vYnFg\n",
       "ij1vE1XfB3fVRaWildJDG177+6cm7Pwe2138F0Xs58YpuFjyf6Y4QE6lopVifXnM+3pLazR/yuHu\n",
       "nY/GCT6HJvvb68vrdVO9gx307GVTpy15339npDWSb3Fwd2M+VSd47EANWh+uMSN2X+ybDOqe7tIa\n",
       "ybc4uLuE779D8WCbb9BdIKdSsfvSZzd1t5rfZ7v7D8qva0ZM/LaPAAAAAElFTkSuQmCC\n",
       "\" style=\"display:inline;vertical-align:middle;\" /></a></span>"
      ],
      "text/plain": [
       "{a in Integer, b in Integer, x in Complex, y in Complex, c in Complex, d in Complex} |- (a * b * (x - y) * c * d) = (((a * d * x * b) - (a * d * y * b)) * c)"
      ]
     },
     "metadata": {},
     "output_type": "display_data"
    }
   ],
   "source": [
    "expr.distribution(2, left_factors=[0, 4], right_factors=[1], assumptions=assumptions)"
   ]
  },
  {
   "cell_type": "code",
   "execution_count": 40,
   "metadata": {},
   "outputs": [
    {
     "data": {
      "text/html": [
       "<span style=\"font-size:20px;\"><a class=\"ProveItLink\" href=\"../../ordering/__pv_it/theorems/d8d02d2a77383d238ed10b8fda7965dfafa87db90/expr.ipynb\"><img src=\"data:image/png;base64,iVBORw0KGgoAAAANSUhEUgAAADIAAAAQBAMAAACmdTG/AAAAMFBMVEX///8AAAAAAAAAAAAAAAAA\n",
       "AAAAAAAAAAAAAAAAAAAAAAAAAAAAAAAAAAAAAAAAAAAv3aB7AAAAD3RSTlMAIquJdkTvuxBmmd1U\n",
       "zTKBpmoTAAAACXBIWXMAAA7EAAAOxAGVKw4bAAAA3klEQVQY02NgwAA8175d3102AVOCgaXoAcMF\n",
       "XiwSDFwLGFgm2GCTYRJgaOcoQDGlevdeEM3BwLCO6QGSBOuVBhiTT+EViGJUdnQA0bJwCQb2hgoQ\n",
       "FSbA/gNEX0RoP8wJUsuRycC1AcS9gJCBuJnrAwO3Acjs7N27d2+HOOWAKQNDAwNbAUN/AEgvwp3t\n",
       "jEC2IkO/A8N8MH8DXEYP6COODwz9Bxh0eQSAfBe4mxdEAb27gYHdgWcXF0iA9wDczTcYGGsKGDhU\n",
       "7IT8wF5Xj4DIhNWml+enGyAHgjkkdKAAAEfmMVewssrcAAAAAElFTkSuQmCC\n",
       "\" style=\"display:inline;vertical-align:middle;\" /></a>, <a class=\"ProveItLink\" href=\"../../ordering/__pv_it/theorems/035e0ae7bd8c0fe127ee5d2062443d6c874adcdd0/expr.ipynb\"><img src=\"data:image/png;base64,iVBORw0KGgoAAAANSUhEUgAAADAAAAAQBAMAAACigOGCAAAAMFBMVEX///8AAAAAAAAAAAAAAAAA\n",
       "AAAAAAAAAAAAAAAAAAAAAAAAAAAAAAAAAAAAAAAAAAAv3aB7AAAAD3RSTlMAELvv3c2ZVESJq3Yi\n",
       "MmZ3LnoBAAAACXBIWXMAAA7EAAAOxAGVKw4bAAAA50lEQVQY02NgQAfswZ+DXJQfMDAqO6BKcGtd\n",
       "YAhgBTJYE1Al2BIYuB9MBzL4C1AluA4wCDEqABn9AlAjVFxcQTQjA0Mu1wUgYwpEnCNaAKaHd8E1\n",
       "EBW1ezmIOgoXZ2ASUATp/CogfwBIxyBsqeTbAHL2RwZmEB2AkAA7loEtgIF/AtBcExcXFyeIKwpm\n",
       "MDAIMLBMYOgHOhjsQAgQ4gGy14C8kQ+yF+H/tUCfMH5g4L/AaAfi7oY7NqEN6EsHBq4HTOAwYS2A\n",
       "OzaQgUddgYFxZR6Yz7ioESLRrGqkZG80AeFIjkmQIIECANNVKrcrbsjPAAAAAElFTkSuQmCC\n",
       "\" style=\"display:inline;vertical-align:middle;\" /></a>, <a class=\"ProveItLink\" href=\"../__pv_it/theorems/6bf1a18c2e3498be826f1c5ef7caab578b7ee8c80/expr.ipynb\"><img src=\"data:image/png;base64,iVBORw0KGgoAAAANSUhEUgAAADQAAAAQBAMAAACra0H4AAAAMFBMVEX///8AAAAAAAAAAAAAAAAA\n",
       "AAAAAAAAAAAAAAAAAAAAAAAAAAAAAAAAAAAAAAAAAAAv3aB7AAAAD3RSTlMAEHarMolUmd1mIs3v\n",
       "RLtmgJDEAAAACXBIWXMAAA7EAAAOxAGVKw4bAAAA0klEQVQY02NgwAIY47o3LQnAJsOgfJJB/F8B\n",
       "Nhl2XaCOeVil3PkEGBiYUaT0Ojo2gGhDPpB9E5BkbitCGQ+WQxlCyiKhCUCaayNUgMvAFcoqYDJi\n",
       "bwDS3AugAiwBNyEMzgWcH5lB5nLDDOYquARVw8AOtpvBpwMIHoDtWgpTxaMApuTg7nnIB2PdX8AI\n",
       "9AcDB1zqOshfDBcY5C7YMLCCBJgUEKFhwACyJt+xhuEaWGQbwu/bF4i1MzCIK7FVJoAFhN8KwEP+\n",
       "fPsClLC7+gISUFAAAPAALk9BTu5+AAAAAElFTkSuQmCC\n",
       "\" style=\"display:inline;vertical-align:middle;\" /></a>, <a class=\"ProveItLink\" href=\"../__pv_it/theorems/e7a733f6071838c624bab1a2ecdcd3efaa06f4b40/expr.ipynb\"><img src=\"data:image/png;base64,iVBORw0KGgoAAAANSUhEUgAAADMAAAATBAMAAADPIygvAAAAMFBMVEX///8AAAAAAAAAAAAAAAAA\n",
       "AAAAAAAAAAAAAAAAAAAAAAAAAAAAAAAAAAAAAAAAAAAv3aB7AAAAD3RSTlMAEHaZZquJVO8y3btE\n",
       "zSKD2s2pAAAACXBIWXMAAA7EAAAOxAGVKw4bAAAA5UlEQVQoz2NgwALEdt3Vm4ZNgoEpwoHRfjNW\n",
       "KaNjDAwsWKU4DTYCyWAUMe1Vqy4AKVaBDUBSBFnmrCKE5uYzgDAYlR0YREEMvotQJU85EyAMNvYG\n",
       "Bn8Qg/cBVGoajwOEMZ15AUM0WApm8GMeBQhDgEOBoQnEmLEKCDaA7YIayHBegPMniJaG6eIGuxAE\n",
       "bBmYGkA0F0yKB+wvHiDeysAdAA4eBXhoHAXrYGAwZTgPcdF1eBjutWOsAvlNNMke4mzRPQKwkN/x\n",
       "yw7CyoWKHNsFDig4YLvA2M6AHXApsCbgkGJ3ssEhAwCM+y13eiDJfgAAAABJRU5ErkJggg==\n",
       "\" style=\"display:inline;vertical-align:middle;\" /></a>, <a class=\"ProveItLink\" href=\"../../addition/__pv_it/theorems/b66b5547fa9b0b910f79351152926c658c2718190/expr.ipynb\"><img src=\"data:image/png;base64,iVBORw0KGgoAAAANSUhEUgAAADEAAAAQBAMAAABNQoq8AAAAMFBMVEX///8AAAAAAAAAAAAAAAAA\n",
       "AAAAAAAAAAAAAAAAAAAAAAAAAAAAAAAAAAAAAAAAAAAv3aB7AAAAD3RSTlMAiXZmMiLdVJm77xBE\n",
       "zatgdeJyAAAACXBIWXMAAA7EAAAOxAGVKw4bAAAAw0lEQVQY02NgwAQbp91VdcQizsD0yoC7fwY2\n",
       "maaDDAzM2GRYGmYDyRfIQpppaReAFN+GCUByM5LEWW0IzcnaABMSUnYAkqy3odw4FgEoK6yAA6Sd\n",
       "NwDKd+QxgLISGbgUQDIwIyJ4FCAMjt8Q2isNCCaA7YGaxjUBQu+E6eHcABXZD9XLBpPhAfuHh4GB\n",
       "H2jfAVCYKMDD4ByQ6AXaM4GBEeRqhuvwcJvbyl0G8pOgMcSL++ZsgIX1rG+tKAF2cBo4dGAAAHWD\n",
       "KgtwTxl0AAAAAElFTkSuQmCC\n",
       "\" style=\"display:inline;vertical-align:middle;\" /></a>, <a class=\"ProveItLink\" href=\"../../division/__pv_it/theorems/d6724abdc9486f838f4cf63bc1115e85255ce4c00/expr.ipynb\"><img src=\"data:image/png;base64,iVBORw0KGgoAAAANSUhEUgAAADMAAAAQBAMAAABJt1qBAAAAMFBMVEX///8AAAAAAAAAAAAAAAAA\n",
       "AAAAAAAAAAAAAAAAAAAAAAAAAAAAAAAAAAAAAAAAAAAv3aB7AAAAD3RSTlMAMs3vmVREEIndIqt2\n",
       "u2aBbGR5AAAACXBIWXMAAA7EAAAOxAGVKw4bAAAA4UlEQVQY02NgwAIqbiqdkgCzGJUdUGR4Nj9g\n",
       "978CYfMHoEj5ZDAw8EGl8guQZRgdrgPJLRBOJ4Q6O3OmApDiLrgAJOsgYipgMuk4hMfLBbOaa8fB\n",
       "r2BaHSqwmrEBykpewPsdRDMtgApIsD2AMNjtGFgUwFIwZyxhOwBhsHxg4AQbIDwTCC6A7YIayHyB\n",
       "oT4BxKiF6eIFuxAI6g8wvAczOGFSbGB/sQGlAhg2sYJcwHMAHhrZQMIJqP0A6xQWsIgqPAwvebFH\n",
       "Av3Gvqdx9UGwSPU1WHhVXP7phRoXGTfBAQUDAJ+SNfXA0lXRAAAAAElFTkSuQmCC\n",
       "\" style=\"display:inline;vertical-align:middle;\" /></a> <a class=\"ProveItLink\" href=\"../__pv_it/demonstrations/d10c039255fb4ee4b066c6ded9bcd4c97f832a7b0/proof.ipynb\" style=\"text-decoration: none\">&nbsp;&#x22A2;&nbsp;&nbsp;</a><a class=\"ProveItLink\" href=\"../__pv_it/demonstrations/9e8b8cc899254fed0a7e6e7e82765abd716513450/expr.ipynb\"><img src=\"data:image/png;base64,iVBORw0KGgoAAAANSUhEUgAAAfMAAAAVBAMAAACgSxpTAAAAMFBMVEX///8AAAAAAAAAAAAAAAAA\n",
       "AAAAAAAAAAAAAAAAAAAAAAAAAAAAAAAAAAAAAAAAAAAv3aB7AAAAD3RSTlMAInZUiRDNmWbv3US7\n",
       "qzJazP2FAAAACXBIWXMAAA7EAAAOxAGVKw4bAAAEI0lEQVRYw6VYS2hTQRS9afKaT9skdFlaqFVR\n",
       "F5YIpdhuDEVEBCW4UIRqshE/IGQhUotgcGFdiD8QBV0EKwgKEnTlqtGdCzHUILiLC124aVUqghvv\n",
       "zHtv3tx5826jHbjJzJzJOWfuzLxPACAPTIkEY9yvYlFUrNY/+ohthEvy9RSYUdFg3yjzMxsoqFgt\n",
       "trwId23eCJfkm6D9ztu61pqIJtgeiXy9ZwMnrHTZM1UbBXUhElczh8SLNuFuuUQ4FWNkr+YlBOrj\n",
       "SpHQTwsoqGx0OftG6DUzctIcccQq3DUXRrLGeAmBWklVI7f7mgUUVDa6JXsGQxlZMEfMWYW75sJI\n",
       "c17S3JG5GwUk6hYwHUF3wM4Rykja7LhlF+6WC2OS8zLJTf105FGoWsDJCLpTdo5QRnqNHROvdLGz\n",
       "GS6M8+I20d4UXJLPjX1QdQEe3nliL90xh+fAaQEc1NI9dkPVR2ZWCgQMqEJasfZ4cDyJkO4CZrZ3\n",
       "INEyDlBRag2CIUwsMlwYYnle5fvVKXF+lcp5fWGrPctJupGKU5BaBbgazGARLqnzdhvelzww+VSW\n",
       "lk9latGGLkRcDBWSTUhVwivnaRFhYpHhwlhE7D4Ek4uvQVotC4KpfGptgGy2bGEeBpoAU6onU4Q7\n",
       "fv1YDS6ADgZUIS3RUDMiQsTFY1GPG2c7U5Ba82AIE4sMF8YDXJxVYV6kR6xUBXLYKEtLCGY9d85Z\n",
       "uYIdrOE8BdeK6JbjLrvZduuC3gP18sANX0uOJQ0lpLlw63JjZFeJCUg3lJYcRRq+RYYLA+2km1Bu\n",
       "iK4n7gouYUIzVd+vlrLgHrKC6q9k8sW4h95CuHXnD3igZeq+lhxLGkpIcyHrabl8fcaqi6l7WnIU\n",
       "bXgWGS4M3ITlUbip3wQvl/RdCkt5h94dMI078Gta7dsf2pPLD/eQTZtn3dvwRIs0iJDuoiwzEq+H\n",
       "NryvRYSJRYYL4w22C/Ax7l8Ich08gX5BcLbxCRJUtb8F7/Druur4jUn0HfyEgcouHQyoQlqkQYR0\n",
       "Fzm8ADQg1TRMjCotIkwsMlwYBwVL/EnSBwdq/cHdEcE9Xy7CS+O+0ur77d2q3IKX90PBFKerVR0M\n",
       "qEJapEGEdBd4SU503JuZ/vjSUlpEmFhkuDC+YcKWD42Mq43T1p4QETw6Fp8zHgSd9rbv+PUssLH/\n",
       "ijoSx7d8Xu7oYEAV1tIbRIi42HttK27whvHeU1daRJhYZLgwMh3mgS0KTOC1OFbnXtjrNipWa50y\n",
       "ZHY858cnKjzXEPcWEvmKsg+OFfhXGwsoqFitdUrobWWBG+1a5LhEvOYorOAjaOPnMPe7YTvV6/+e\n",
       "eaxp9vRz//i4FhkuyTfLKVrB3dsa/5Gy2fW02BKeqNNkhrsWGS7JF+P+aYoGe7ik20BBxWqxZVO4\n",
       "a3AjXBh/AXe1ZYHWL7yjAAAAAElFTkSuQmCC\n",
       "\" style=\"display:inline;vertical-align:middle;\" /></a></span>"
      ],
      "text/plain": [
       "{a in Integer, b in Integer, x in Complex, y in Complex, c in Complex, d in Complex} |- (a * b * (x - y) * c * d) = ((a * d * x * b * c) - (a * d * y * b * c))"
      ]
     },
     "metadata": {},
     "output_type": "display_data"
    }
   ],
   "source": [
    "expr.distribution(2, left_factors=[0, 4], right_factors=[1, 3], assumptions=assumptions)"
   ]
  },
  {
   "cell_type": "markdown",
   "metadata": {},
   "source": [
    "### Mult.distribution must be updated for the Sum case."
   ]
  },
  {
   "cell_type": "code",
   "execution_count": 41,
   "metadata": {},
   "outputs": [
    {
     "data": {
      "text/html": [
       "<strong id=\"expr\">expr:</strong> <a class=\"ProveItLink\" href=\"../__pv_it/demonstrations/124db486718040fbc6fe1a0a3cdbd05ea60bd44c0/expr.ipynb\"><img src=\"data:image/png;base64,iVBORw0KGgoAAAANSUhEUgAAALUAAAA/BAMAAABUVpQkAAAAMFBMVEX///8AAAAAAAAAAAAAAAAA\n",
       "AAAAAAAAAAAAAAAAAAAAAAAAAAAAAAAAAAAAAAAAAAAv3aB7AAAAD3RSTlMAInZUiRDNmWbv3US7\n",
       "qzJazP2FAAAACXBIWXMAAA7EAAAOxAGVKw4bAAAEg0lEQVRYw6VYTWwTRxR+9nq9XnvjWO2Nqtih\n",
       "XDgEUkR7jU+0RYL60kopVJse+BEqihu1BXGoLaGqQkJyQEINIJGoLUKy1Aa1h8LJ6Y9UKiERpRHi\n",
       "hq/lYpMfGkjLdv/G8956duXVzMGemTf77cyb733zZgFilOmQ/vcrIFuSk95//uOgYVEau1XwKytB\n",
       "y++y0Oosq10PmibGJLE13yWQXx0NOFi5LIndaTP33khWA7abktinWMWoZyYDtvGCFLTyhNX0trYU\n",
       "MKblmJLtPT4MenDvlBdy7u7hZSsX+qxfS2E/6tXy06U+a02K3f9Ex1VdAjsT7VF9UgLb6EYH1hMJ\n",
       "7OFolimbpJlYGSnFEKpypDnxH2neKRgbg2PXbkXbrwRkTZsfHHvKlacpi5dVYr+P5UvrQrY8OPZz\n",
       "TzcsT7DUV0bnnhH7Hhyq+iKYtwaGTvzr/g1ZvaVmFkjgj2NpNEvQiKFUfugs8D3TCHM6uGWOwQPF\n",
       "kcYweST9Sd+7HYsH4Cd4gIn3zigpNzXnqbDz6EcSG2v+OyweJBnCfxxb6vKhV3fb//tE4vGnPYsk\n",
       "lgiDhfz95/0jXXEU8FkVCkHa2ZmjuINNd8Kq9o/EA/BiiYDdZit0HPUVZhWbVs5ao1rgu9TYEggY\n",
       "ae1lEe5Egl4RufPdZ+SQb/mtobV+7DeF2AfcZdZF2GmLePEdCMf+lKgWwz614y+A1JIIW51bp6f/\n",
       "vs9c3272Y58gquVjq08rZgFwpmByirG490ZuKq/PhmF/S1TLx1Y2QC+BMoOweV2zLuPM4qf8R04l\n",
       "tdqPfY2r1tlm80qz+b2Xng2XId91lxDEhgUEo836i/CxTXetrk52HWykWv687Ve1xiA3w9MxjF1E\n",
       "4Z09/gXBzlapT5Bq7e2RtlYBZV4c0rsKWJVa3sRF/v4VqRbHbjsJcWZRiJ3DJ36jYo6VwrAPctXi\n",
       "2EN1w16bVhZid7C4PQCzXQ7j92OuWoiDK2cc36GjQ+f8voQf/w2S05Uw7GxbFJdu2YaHbQTFKZi/\n",
       "kNzoyFVXhKsirXLLGeGj90LSXKqDx93fX0KPSHxKaUzmtBs8bojm0bzL89CR0CwNH2pJRoPzvPcc\n",
       "0doZ3Mp5LkyEJVcjJNVc7yOgQtCKJNdJxch8IOef78UeAdUa2akWuaakl0cHvxb6ssIJ+PIjizCs\n",
       "QZZvHlVjJLYL3nyeHnNLc86y6KFcI28ar8ClGLmmu4c1lA/SIJ8irc8B1gfHbtQHyRdZ+Q5ya4Nj\n",
       "F6uR5vx6gN5ajPxbj2ZVkl6HXsBEjMtVKnoeBiE7PIQ/YhA8sRppNukt/MO3Yt0Jj0VvdVvm8tpw\n",
       "SJj5JsR6UurObZb9tEDosU25zz7ObiVCbrCprtznKmczM4svsUNUfXtnAV9wpMou51QceeOids8u\n",
       "d+GDQodjn5X8ppS156a/BowQp+Fv7u4tSeycrZrF022e7I32TENLsh8I9wNcyM0XPJ/Y+nz3PWY5\n",
       "L/3R1CjBcn6e7eXF/NaXzCXXZaFB/cFOCh4yp/x8bieL63RdGhu2h/QfFnf/D57eTIHvGupqAAAA\n",
       "AElFTkSuQmCC\n",
       "\" style=\"display:inline;vertical-align:middle;\" /></a><br>"
      ],
      "text/plain": [
       "<IPython.core.display.HTML object>"
      ]
     },
     "metadata": {},
     "output_type": "display_data"
    }
   ],
   "source": [
    "expr = Mult(Add(a, b), Sum(k, k, domain=Interval(a, b)), frac(a, b))"
   ]
  },
  {
   "cell_type": "code",
   "execution_count": 42,
   "metadata": {},
   "outputs": [
    {
     "data": {
      "text/html": [
       "<strong id=\"assumptions\">assumptions:</strong> <a class=\"ProveItLink\" href=\"../__pv_it/demonstrations/1d6c344d3aac50baef13c03ddfd707cf7c6e51c80/expr.ipynb\"><img src=\"data:image/png;base64,iVBORw0KGgoAAAANSUhEUgAAAK8AAAAVCAMAAAAHHU5UAAAAPFBMVEX///8AAAAAAAAAAAAAAAAA\n",
       "AAAAAAAAAAAAAAAAAAAAAAAAAAAAAAAAAAAAAAAAAAAAAAAAAAAAAAAAAAAo1xBWAAAAE3RSTlMA\n",
       "InZUiRDNmWbv3US7qzLn9enz+YF6hwAAAAlwSFlzAAAOxAAADsQBlSsOGwAAAlFJREFUSMfVlumy\n",
       "qyAMgNnCZuAuvP+7Hgii1KKljn9OxmmnlE+yB8aycPYbZNNSyDlAapecRu/R2e+O+pY0MFhcxPoy\n",
       "NXmqwBDzl6ZnF0DnnyUj9r+UEoZ8K8hW0LNeMmal1CEg2jxLYuy3ZAQ8KayL2810bAMnn5TnVZJ8\n",
       "lIyh+2EpAopAW6xzV2H0WTb/U1KZyEI8JFaCa/ALktzb1z+S8rJudJBL4UzbRQsY2R6PMVR+Apwi\n",
       "Kx5eIkBMrIHQlplWbTwowUXXPvTQdijPIQmDEEF+AGfIdbF3LzR9KWtVKCpXq1zehl189Kgr515i\n",
       "xWENUlYQEr8EJ0jjSf78LZ/Nxzypqi+xVjNfzQNqjKaLzzBP9GC95pYTl+AUOTB305e+pGNuqcal\n",
       "8un3VhydX6Wr6TxZ1LIVUGtWpEdSV+AUWeNsDiFQtTBFVbvp65D+XLpe/u6jvMZxb1CrkJHL1plG\n",
       "4Bw5zKaav7JuWtyaD0D629RtHJRubkf1OEjHHmr2zB/V/AxJ+fvvf43N1iOwdt66SXqGor6moEEz\n",
       "ud8qxFtHMi1awXeRTbGl/xk4S7YR1ot1e+Ywi6VFkBmiaG+YeR2Ex45Er+MokYp79V0+EA27AKdJ\n",
       "Jt/nc0kAcHXQ5OYba/ggCBV5EN0AgoBLb+3iUDtEzFctLInnPaz71OtMP4LzJBu0bjBKtLnoc335\n",
       "eDqPF4UvY/XYjuAmeEp+uCpy3y4Rt0Sxp0kN19c8+3a9+EJA3FX3jLQf3IvnDXPm+n7bvWekv3Zv\n",
       "cyy/f/KzEq+tLOr+AMYtFpORfHoIAAAAAElFTkSuQmCC\n",
       "\" style=\"display:inline;vertical-align:middle;\" /></a><br>"
      ],
      "text/plain": [
       "<IPython.core.display.HTML object>"
      ]
     },
     "metadata": {},
     "output_type": "display_data"
    }
   ],
   "source": [
    "assumptions = [InSet(var, Integer) for var in [a, b]] + [NotEquals(b, num(0))]"
   ]
  },
  {
   "cell_type": "markdown",
   "metadata": {},
   "source": [
    "*Broken demonstrations below need to be fixed*<br/>\n",
    "*Shown as markdown instead of code temporarily*"
   ]
  },
  {
   "cell_type": "markdown",
   "metadata": {},
   "source": [
    "InSet(k, Integer).prove(assumptions=[InSet(k, Interval(a, b))]).generalize(k, domain=Interval(a, b))"
   ]
  },
  {
   "cell_type": "markdown",
   "metadata": {},
   "source": [
    "InSet(Sum(k, k, domain=Interval(a, b)), Complex).prove()"
   ]
  },
  {
   "cell_type": "markdown",
   "metadata": {},
   "source": [
    "expr.distribute(0, assumptions)"
   ]
  },
  {
   "cell_type": "markdown",
   "metadata": {},
   "source": [
    "expr.distribute(1, assumptions)"
   ]
  },
  {
   "cell_type": "markdown",
   "metadata": {},
   "source": [
    "expr.distribute(2, assumptions)"
   ]
  },
  {
   "cell_type": "code",
   "execution_count": 43,
   "metadata": {},
   "outputs": [
    {
     "data": {
      "text/html": [
       "<strong id=\"expr\">expr:</strong> <a class=\"ProveItLink\" href=\"../__pv_it/demonstrations/ea8f6d9cac03f8ca6db4828f9dddea63937a40270/expr.ipynb\"><img src=\"data:image/png;base64,iVBORw0KGgoAAAANSUhEUgAAALYAAAA/BAMAAAC/YS8nAAAAMFBMVEX///8AAAAAAAAAAAAAAAAA\n",
       "AAAAAAAAAAAAAAAAAAAAAAAAAAAAAAAAAAAAAAAAAAAv3aB7AAAAD3RSTlMAMt0iZhDNdom7q0RU\n",
       "75mOI7qcAAAACXBIWXMAAA7EAAAOxAGVKw4bAAADzUlEQVRYw6WYS2gTQRjHv81mm81rGwQFDzWt\n",
       "IMWDmoPSY4OgJ6WxYqtIm9CDHhQTFEwomAbRYr3YQ6HVS3MReyn2IOhBTA6exNLUoh58tFRRFGrT\n",
       "R7Satutm37OvwMwckkm+md9OZv7fYwJQp3EpG0NXDEjbdfl917DB4BkmRfvX5I4vZzSNkbJ7onIn\n",
       "GDKZioTsb0onnH5oMAXekqGpFaV3NZY1Gg+SsRvySm8EjhuNMxEitjZ9Fn6aHkymlP1qrwwfjcbA\n",
       "CtF2b6rdfW7zKj+TsH1ltbsnbTYvk7DjC47mQpSA3RFyNAcTBOzxOnFsjYD919kcWCcIVBvOdvof\n",
       "Ppur1hnwicDjK+Irr2tophjHzw+NzeKu8rL/nX46yZeQAQP4YbZdcsXHq+o3RzfRcLOAH6mkqS5e\n",
       "jYbwAxkQxo9WA9LuUrymNQ6Jq/FmbPayvJ0DvEZE3LyxjO+Wsst7eZv1uSrY7KS8XGZ+20ak+E4/\n",
       "r8i3wFuLzVvFZvNKh+Wtc7pvk5wNyd9YbGpv6LDS7/4KTN6K3cPry6ru/lN3xE3i9IFwRwsdNYC6\n",
       "MmMqLjcNbk1WjMZW/V5sC55HXLORzVwcugsG0BFglSOjiovg01yN2dJJfUsLS+6Iu+ITl8j+0QXc\n",
       "GNwGI4gRv4oL+YmB9xBMyR9QtksXASng5GQms6XhcDZmArVJk2uxw1+BcEj5gLDpVSRRphC2NJxO\n",
       "mUD+KKg/V1jPDUudgGcOSfARJmY6yyfCcg2g1wDqWXrz8MCaXdBl/HNTk8CCkR0ogg9QEDU2elOd\n",
       "x+X965ZsSi/kmZ1L8Nyk791DmRZAQSxMX9KUMZHVR4h5Td/6XNabDnwtmti5wLspO5B8Ovpy5pB6\n",
       "EFes/c5rX22yxrpoEL1oKDEWvDb5xWUXBwfNN5ZWmEByg/IjFzXHQaYE7XKDAVRrL7NTSE6T44Nb\n",
       "E6AbYTeWbNgGkFWpmTMJcBotBPDzZUESPq2poXfbagBW+Z1ABUi/4lFhdKSw2S7pqJIXxNZ3QKjZ\n",
       "0E1YDuHXmqLEOH09iN4Ukvi1prtefb2Kz6a366TDDYJ7wxtns4fkgnnPub72lgjY7c4ai+cJ2A0J\n",
       "kitiHaE413t9JPdixlEI9DoJG5Zqasi2fVGedSujq+3ZMhE7LhzmNd/wZe6+0EagMxKOoEaC5hFU\n",
       "FvWmlDP7BU064yLhf2GttQygrvUD9Ou2u0rILgjcJohIe8KswcgZrUDOE7LZBF0aBOUaOUdVj6mm\n",
       "k8R/mo7C92dphfLiREYNsvQsKRo67XyvIUrMpu3Y5+tO/Q8cxStWVr49VgAAAABJRU5ErkJggg==\n",
       "\" style=\"display:inline;vertical-align:middle;\" /></a><br>"
      ],
      "text/plain": [
       "<IPython.core.display.HTML object>"
      ]
     },
     "metadata": {},
     "output_type": "display_data"
    }
   ],
   "source": [
    "expr = Mult(z, y, Sum(x, x, domain=Interval(a, b)), z, y)"
   ]
  },
  {
   "cell_type": "markdown",
   "metadata": {},
   "source": [
    "expr.distribution(2, assumptions=assumptions)"
   ]
  },
  {
   "cell_type": "markdown",
   "metadata": {},
   "source": [
    "## Factoring"
   ]
  },
  {
   "cell_type": "code",
   "execution_count": 44,
   "metadata": {},
   "outputs": [
    {
     "data": {
      "text/html": [
       "<strong id=\"assumptions\">assumptions:</strong> <a class=\"ProveItLink\" href=\"../__pv_it/demonstrations/471f23f658edbb9158c51abb9275ede95a25c0d80/expr.ipynb\"><img src=\"data:image/png;base64,iVBORw0KGgoAAAANSUhEUgAAAeYAAAAVBAMAAABhzFD/AAAAMFBMVEX///8AAAAAAAAAAAAAAAAA\n",
       "AAAAAAAAAAAAAAAAAAAAAAAAAAAAAAAAAAAAAAAAAAAv3aB7AAAAD3RSTlMAInZUiRDNmWbv3US7\n",
       "qzJazP2FAAAACXBIWXMAAA7EAAAOxAGVKw4bAAAEeElEQVRYw+WXX2gcRRzHv7t3e3vJ3q1HUSti\n",
       "5VqUtrQpC/7B9KVHrX+oUZZYrIWLuVZiLPqwLUWrD3pP4kNBEIRSKz20NnD6ELRag4hrbVoaDZwh\n",
       "rRZE7qFS9CUpNeI/xJndvb2d2Z3ZcL7pPlxm7pPP3G9mfzO/XQAl/J8uhX6oVgLZMfPU6stCTxs6\n",
       "sefWimTgf6XLZRnN7P392eb5uhQaZdK+M4Grl+ray+c6PXOvw+KBw9j5lyOeMqvHLrkul6VUnW2j\n",
       "lvPb1SMCuI4sei1B3n8SyHdHvo5NBX0DuUmHJHPmdO5K0eWylOoO1Pq9QWdcAHM29IRUMJ1p8vlt\n",
       "2P/cZvCVAukXxXPmde6S63JZToslVDU36FwTwLyDvuj3G5tNetuLNhUfD7/ezlBcKNBNGV8rdaZ5\n",
       "Agk6h5N1uZwydBCZBrxUbPtfGUucGsI3cHdE/fh2/29BYe/COEPhrkxcZWOPnaxzOFGXyylDh5HB\n",
       "bF0JWtkGp4bwaRygf7auowugjAVwlRk5VZX5TV6ahFRpRc7N4QdJvmXepc0b7SR9eOCJbVYUs/pB\n",
       "aC2xbDbbN4mpMr+6zERG1sSeDlq5uQHmZ7vwYTJr4GZLpymT61Tqy0Yk86ZKBS9NQmpWPunSyiCK\n",
       "rvEnbe5Gku6oc3ojink9vyiWH7vtTEtMY5GRIpQvB63RMe0qo4bwFbxDPo+jj/ZyHbjSKHeL6WHo\n",
       "3i4OqeJ80L0R1ovU9QauJen5Un6pWI9iXi+6Qhk3IGsLKY2swUSGsFIBW2y8zqghHMSb5BQPtvtP\n",
       "TXK53q7pZpC+iP4KQ+Fe3/1dMvBCG3STmUcIfx+cbgYrFsGc7i13skz+4T4IaUJkqvUQ4Cfzc8Av\n",
       "jBrCBTrnvuB4r3YT3w1HJnB0kqGYLkSebpawHqBhh0WC0eHPKYqjOjldF9oSeQXnpkRWVQj+xmse\n",
       "h3GNUUM4RXN7NMiX/jASrwoa/r4o4zWW4hQtsJj0F7uGWZheu5Gkk+Je0mwGc/p6iGWye20hTYjs\n",
       "B1KEtcWgPPvp24jBzThNHrPqfghquFf2f+Zlh0ZHtnAxU2KovqHlRUvDKbTIima9r9cgQa9OXuIx\n",
       "p8+KZdwBtIQ0HpnpnCIlvOGN/Dd21Rm1A3GInNwgh3bWq+RPho8AZ/dpmx2Mkq1YKGcmdDAUG8dL\n",
       "j05A+5WWQdd4C5/61cFK0Lf8+AI+5HBE11vGb2LZPHN6e1tI45EV7DEoX7reyN/hHDtwAEGq88+k\n",
       "u+1Vv6iPfNUpZjvO/7GPJA2pu9rcI6s2cVQbOjZBFrhJ+89vHTng1w/t+48Q03euyRy0OBzRtfm1\n",
       "V8VyFoPPiGk8sqmzR78+drTijTzyABdVB+I99LcjR8bJmSbzynEX87jD04zNPS0N+U95Ap3Hvp6t\n",
       "LUdOGZqLjAmMV5UGfeQWXxXp63c27f08Xb8fu6ye5ErPgdGXqi/EWCtLf3c4ZcrL0N/GfE+ynEoD\n",
       "u4WpbvEXJfmcyilzXoZ+z9rJnmS198DoPVbSQv9vXWoJ/wCWO67ASDR1GgAAAABJRU5ErkJggg==\n",
       "\" style=\"display:inline;vertical-align:middle;\" /></a><br>"
      ],
      "text/plain": [
       "<IPython.core.display.HTML object>"
      ]
     },
     "metadata": {},
     "output_type": "display_data"
    }
   ],
   "source": [
    "assumptions = [InSet(var, Complex) for var in [c, d, w, x, y, z]]\n",
    "assumptions = assumptions + [InSet(var, Integer) for var in [a, b]]"
   ]
  },
  {
   "cell_type": "code",
   "execution_count": 45,
   "metadata": {},
   "outputs": [
    {
     "data": {
      "text/html": [
       "<strong id=\"expr\">expr:</strong> <a class=\"ProveItLink\" href=\"../__pv_it/theorems/0b0cbe273b858d6a354446c3dc3c904a98be0fca0/expr.ipynb\"><img src=\"data:image/png;base64,iVBORw0KGgoAAAANSUhEUgAAACYAAAANBAMAAAA3eAFoAAAAMFBMVEX///8AAAAAAAAAAAAAAAAA\n",
       "AAAAAAAAAAAAAAAAAAAAAAAAAAAAAAAAAAAAAAAAAAAv3aB7AAAAD3RSTlMAEHarMolUmd1mIs3v\n",
       "RLtmgJDEAAAACXBIWXMAAA7EAAAOxAGVKw4bAAAAm0lEQVQY02NgEFIWCU1ggAKhSgZGAwaGAiYj\n",
       "9gaYWEAOA+cHBs4FnB+ZJ0CFWBIqGJgfMLAwsG8AcRl/gwiGQww8CkAGmGBgaAcRvB8Z/B2A9P0F\n",
       "jAIw84B6dBgY5C7YMLDChBj4DBgeMzDkO9YwXIOLsRvw/mRgEFdiq4Q7j4HRVP0XAwZg3YAuEs0g\n",
       "k4Au1sRgiqEzU/0CAwMANG0bihm80YMAAAAASUVORK5CYII=\n",
       "\" style=\"display:inline;vertical-align:middle;\" /></a><br>"
      ],
      "text/plain": [
       "<IPython.core.display.HTML object>"
      ]
     },
     "metadata": {},
     "output_type": "display_data"
    }
   ],
   "source": [
    "expr = Mult(x, y)"
   ]
  },
  {
   "cell_type": "code",
   "execution_count": 46,
   "metadata": {},
   "outputs": [
    {
     "data": {
      "text/html": [
       "<span style=\"font-size:20px;\"> <a class=\"ProveItLink\" href=\"../__pv_it/demonstrations/79029a9fe5a2722bfb4806b349c8eb0e724a49640/proof.ipynb\" style=\"text-decoration: none\">&nbsp;&#x22A2;&nbsp;&nbsp;</a><a class=\"ProveItLink\" href=\"../__pv_it/demonstrations/8515ea86641cb67f9660904a31e06377602bf8d70/expr.ipynb\"><img src=\"data:image/png;base64,iVBORw0KGgoAAAANSUhEUgAAAIMAAAAVBAMAAACXjEALAAAAMFBMVEX///8AAAAAAAAAAAAAAAAA\n",
       "AAAAAAAAAAAAAAAAAAAAAAAAAAAAAAAAAAAAAAAAAAAv3aB7AAAAD3RSTlMAInZUiRDNmWbv3US7\n",
       "qzJazP2FAAAACXBIWXMAAA7EAAAOxAGVKw4bAAABvUlEQVQ4y3WUMUgCYRTH/+pdnpriHA3WYg2B\n",
       "Q0S2JBFugbhEoOESNDpEWBFJQy1BYjS1SA1BLVJTk9YuHOESNAjR0qINRlP07kjN9717cN/H/b/f\n",
       "ve/d+977AIShmkvQRNDW3DFhJRBRNRG8s4ZZaUNMqZIIuouAnhNdjKS44gBuAN6iuGLkueIAHgM+\n",
       "yHbOBQfQl8Kcg4tNLjiAI0Vs0ZSeWV/upztdgG4CK5zloB4tIgtopr1b3v3srfTQRBxGBziy///G\n",
       "NrMX1n9Q85RwSknL4YrGsNEN9pIViu0iWAfiPAoOvpGzV4AcXdBX8NoHpn9ZA8rwUWG1uQsOpogq\n",
       "k9axVmB/Q3ZtF2YX7RbwILgYBmup0A/hJSs+egvr/VKijaZpWuC5UMBtuEv0IxU8AZnqC7T+bqMm\n",
       "GjSd8CgUsGGhMOrW4S2+7+B+UIVm4PvvDIdMAfdRo9R6E/gAVic9hUEX6s3oJ0233IUCZpcOqNX9\n",
       "VfhbSsFplHZXhasCmKRnTOinJNZiUlNxUMvpZzQV6Hlk6CWaNI6r3cBAfySYoGipCpFh5Hy0KjhW\n",
       "Qc/hnnV+1s3nikiXkXBPiuAE8At/r206UXRLKQAAAABJRU5ErkJggg==\n",
       "\" style=\"display:inline;vertical-align:middle;\" /></a></span>"
      ],
      "text/plain": [
       "|- (x * y) = (x * y)"
      ]
     },
     "metadata": {},
     "output_type": "display_data"
    }
   ],
   "source": [
    "expr.factorization(x, 'left', assumptions=assumptions)"
   ]
  },
  {
   "cell_type": "code",
   "execution_count": 47,
   "metadata": {},
   "outputs": [
    {
     "data": {
      "text/html": [
       "<span style=\"font-size:20px;\"><a class=\"ProveItLink\" href=\"../__pv_it/theorems/6bf1a18c2e3498be826f1c5ef7caab578b7ee8c80/expr.ipynb\"><img src=\"data:image/png;base64,iVBORw0KGgoAAAANSUhEUgAAADQAAAAQBAMAAACra0H4AAAAMFBMVEX///8AAAAAAAAAAAAAAAAA\n",
       "AAAAAAAAAAAAAAAAAAAAAAAAAAAAAAAAAAAAAAAAAAAv3aB7AAAAD3RSTlMAEHarMolUmd1mIs3v\n",
       "RLtmgJDEAAAACXBIWXMAAA7EAAAOxAGVKw4bAAAA0klEQVQY02NgwAIY47o3LQnAJsOgfJJB/F8B\n",
       "Nhl2XaCOeVil3PkEGBiYUaT0Ojo2gGhDPpB9E5BkbitCGQ+WQxlCyiKhCUCaayNUgMvAFcoqYDJi\n",
       "bwDS3AugAiwBNyEMzgWcH5lB5nLDDOYquARVw8AOtpvBpwMIHoDtWgpTxaMApuTg7nnIB2PdX8AI\n",
       "9AcDB1zqOshfDBcY5C7YMLCCBJgUEKFhwACyJt+xhuEaWGQbwu/bF4i1MzCIK7FVJoAFhN8KwEP+\n",
       "fPsClLC7+gISUFAAAPAALk9BTu5+AAAAAElFTkSuQmCC\n",
       "\" style=\"display:inline;vertical-align:middle;\" /></a>, <a class=\"ProveItLink\" href=\"../__pv_it/theorems/e7a733f6071838c624bab1a2ecdcd3efaa06f4b40/expr.ipynb\"><img src=\"data:image/png;base64,iVBORw0KGgoAAAANSUhEUgAAADMAAAATBAMAAADPIygvAAAAMFBMVEX///8AAAAAAAAAAAAAAAAA\n",
       "AAAAAAAAAAAAAAAAAAAAAAAAAAAAAAAAAAAAAAAAAAAv3aB7AAAAD3RSTlMAEHaZZquJVO8y3btE\n",
       "zSKD2s2pAAAACXBIWXMAAA7EAAAOxAGVKw4bAAAA5UlEQVQoz2NgwALEdt3Vm4ZNgoEpwoHRfjNW\n",
       "KaNjDAwsWKU4DTYCyWAUMe1Vqy4AKVaBDUBSBFnmrCKE5uYzgDAYlR0YREEMvotQJU85EyAMNvYG\n",
       "Bn8Qg/cBVGoajwOEMZ15AUM0WApm8GMeBQhDgEOBoQnEmLEKCDaA7YIayHBegPMniJaG6eIGuxAE\n",
       "bBmYGkA0F0yKB+wvHiDeysAdAA4eBXhoHAXrYGAwZTgPcdF1eBjutWOsAvlNNMke4mzRPQKwkN/x\n",
       "yw7CyoWKHNsFDig4YLvA2M6AHXApsCbgkGJ3ssEhAwCM+y13eiDJfgAAAABJRU5ErkJggg==\n",
       "\" style=\"display:inline;vertical-align:middle;\" /></a> <a class=\"ProveItLink\" href=\"../__pv_it/demonstrations/af35a0759380937880a52161d73c7841014e0ca50/proof.ipynb\" style=\"text-decoration: none\">&nbsp;&#x22A2;&nbsp;&nbsp;</a><a class=\"ProveItLink\" href=\"../__pv_it/demonstrations/4d13eee2c24078644ca90c652d3afb9e10d488840/expr.ipynb\"><img src=\"data:image/png;base64,iVBORw0KGgoAAAANSUhEUgAAAIQAAAAVBAMAAAB1UFtyAAAAMFBMVEX///8AAAAAAAAAAAAAAAAA\n",
       "AAAAAAAAAAAAAAAAAAAAAAAAAAAAAAAAAAAAAAAAAAAv3aB7AAAAD3RSTlMAInZUiRDNmWbv3US7\n",
       "qzJazP2FAAAACXBIWXMAAA7EAAAOxAGVKw4bAAABvElEQVQ4y3VUPUtCURh+1HvzW/wBDdJiDYFD\n",
       "RLoUEW6CuESg5djoIGFFJA1OQmI0tUgNQS5Ck5PZHlzCJWgQoqXFGoym6L1fRzof73DOvc/7PO89\n",
       "9/04AOIQzSPB1ERvSuIJJ0RMTVyRfRCLIqQk6mWpZy7PI2qivy71BCo8oiYGIbdLHlATVxWefR5Q\n",
       "E6u0FpZ3t1i6CzXoBpDjqUTUk3WUGOCoctbXKt5nf8f1bKQR+AQa1v/fWWY4x9J8LZyzEI6qgRvK\n",
       "SDwwjbrJiqWOEH0A0vwpiPhGkleWR0eVxhWp4LcKpn+bC9oIUr9M+BBEzJOjTY97Jt1VTUwPLA3Z\n",
       "rdVvU0zGQF8SAoN87Je2kF1xW9U3z0euuM5aiWIv0Zbhc2ESD+BtzYLaqgwegWLvBRpzRAw80dbk\n",
       "T0FEckQM991VNc3irb8f4n7WhUb4x67hfzOrfIIB61FXVcUHsL3gq82mUB8lv2jr8iGIiNLmKZt4\n",
       "V9VFaCz0m0aZ9nR41CZmhQujI85TFjsp2VARUSvrF7LpG3LYNUa0zovDMEQoEd3gUZNY5LC1ZA9i\n",
       "YIvoOzuWBKafkdxx8EruSRXxDw+Ray06FgvgAAAAAElFTkSuQmCC\n",
       "\" style=\"display:inline;vertical-align:middle;\" /></a></span>"
      ],
      "text/plain": [
       "{x in Complex, y in Complex} |- (x * y) = (y * x)"
      ]
     },
     "metadata": {},
     "output_type": "display_data"
    }
   ],
   "source": [
    "expr.factorization(x, 'right', assumptions=assumptions)"
   ]
  },
  {
   "cell_type": "code",
   "execution_count": 48,
   "metadata": {},
   "outputs": [
    {
     "data": {
      "text/html": [
       "<span style=\"font-size:20px;\"><a class=\"ProveItLink\" href=\"../__pv_it/theorems/6bf1a18c2e3498be826f1c5ef7caab578b7ee8c80/expr.ipynb\"><img src=\"data:image/png;base64,iVBORw0KGgoAAAANSUhEUgAAADQAAAAQBAMAAACra0H4AAAAMFBMVEX///8AAAAAAAAAAAAAAAAA\n",
       "AAAAAAAAAAAAAAAAAAAAAAAAAAAAAAAAAAAAAAAAAAAv3aB7AAAAD3RSTlMAEHarMolUmd1mIs3v\n",
       "RLtmgJDEAAAACXBIWXMAAA7EAAAOxAGVKw4bAAAA0klEQVQY02NgwAIY47o3LQnAJsOgfJJB/F8B\n",
       "Nhl2XaCOeVil3PkEGBiYUaT0Ojo2gGhDPpB9E5BkbitCGQ+WQxlCyiKhCUCaayNUgMvAFcoqYDJi\n",
       "bwDS3AugAiwBNyEMzgWcH5lB5nLDDOYquARVw8AOtpvBpwMIHoDtWgpTxaMApuTg7nnIB2PdX8AI\n",
       "9AcDB1zqOshfDBcY5C7YMLCCBJgUEKFhwACyJt+xhuEaWGQbwu/bF4i1MzCIK7FVJoAFhN8KwEP+\n",
       "fPsClLC7+gISUFAAAPAALk9BTu5+AAAAAElFTkSuQmCC\n",
       "\" style=\"display:inline;vertical-align:middle;\" /></a>, <a class=\"ProveItLink\" href=\"../__pv_it/theorems/e7a733f6071838c624bab1a2ecdcd3efaa06f4b40/expr.ipynb\"><img src=\"data:image/png;base64,iVBORw0KGgoAAAANSUhEUgAAADMAAAATBAMAAADPIygvAAAAMFBMVEX///8AAAAAAAAAAAAAAAAA\n",
       "AAAAAAAAAAAAAAAAAAAAAAAAAAAAAAAAAAAAAAAAAAAv3aB7AAAAD3RSTlMAEHaZZquJVO8y3btE\n",
       "zSKD2s2pAAAACXBIWXMAAA7EAAAOxAGVKw4bAAAA5UlEQVQoz2NgwALEdt3Vm4ZNgoEpwoHRfjNW\n",
       "KaNjDAwsWKU4DTYCyWAUMe1Vqy4AKVaBDUBSBFnmrCKE5uYzgDAYlR0YREEMvotQJU85EyAMNvYG\n",
       "Bn8Qg/cBVGoajwOEMZ15AUM0WApm8GMeBQhDgEOBoQnEmLEKCDaA7YIayHBegPMniJaG6eIGuxAE\n",
       "bBmYGkA0F0yKB+wvHiDeysAdAA4eBXhoHAXrYGAwZTgPcdF1eBjutWOsAvlNNMke4mzRPQKwkN/x\n",
       "yw7CyoWKHNsFDig4YLvA2M6AHXApsCbgkGJ3ssEhAwCM+y13eiDJfgAAAABJRU5ErkJggg==\n",
       "\" style=\"display:inline;vertical-align:middle;\" /></a> <a class=\"ProveItLink\" href=\"../__pv_it/demonstrations/af35a0759380937880a52161d73c7841014e0ca50/proof.ipynb\" style=\"text-decoration: none\">&nbsp;&#x22A2;&nbsp;&nbsp;</a><a class=\"ProveItLink\" href=\"../__pv_it/demonstrations/4d13eee2c24078644ca90c652d3afb9e10d488840/expr.ipynb\"><img src=\"data:image/png;base64,iVBORw0KGgoAAAANSUhEUgAAAIQAAAAVBAMAAAB1UFtyAAAAMFBMVEX///8AAAAAAAAAAAAAAAAA\n",
       "AAAAAAAAAAAAAAAAAAAAAAAAAAAAAAAAAAAAAAAAAAAv3aB7AAAAD3RSTlMAInZUiRDNmWbv3US7\n",
       "qzJazP2FAAAACXBIWXMAAA7EAAAOxAGVKw4bAAABvElEQVQ4y3VUPUtCURh+1HvzW/wBDdJiDYFD\n",
       "RLoUEW6CuESg5djoIGFFJA1OQmI0tUgNQS5Ck5PZHlzCJWgQoqXFGoym6L1fRzof73DOvc/7PO89\n",
       "9/04AOIQzSPB1ERvSuIJJ0RMTVyRfRCLIqQk6mWpZy7PI2qivy71BCo8oiYGIbdLHlATVxWefR5Q\n",
       "E6u0FpZ3t1i6CzXoBpDjqUTUk3WUGOCoctbXKt5nf8f1bKQR+AQa1v/fWWY4x9J8LZyzEI6qgRvK\n",
       "SDwwjbrJiqWOEH0A0vwpiPhGkleWR0eVxhWp4LcKpn+bC9oIUr9M+BBEzJOjTY97Jt1VTUwPLA3Z\n",
       "rdVvU0zGQF8SAoN87Je2kF1xW9U3z0euuM5aiWIv0Zbhc2ESD+BtzYLaqgwegWLvBRpzRAw80dbk\n",
       "T0FEckQM991VNc3irb8f4n7WhUb4x67hfzOrfIIB61FXVcUHsL3gq82mUB8lv2jr8iGIiNLmKZt4\n",
       "V9VFaCz0m0aZ9nR41CZmhQujI85TFjsp2VARUSvrF7LpG3LYNUa0zovDMEQoEd3gUZNY5LC1ZA9i\n",
       "YIvoOzuWBKafkdxx8EruSRXxDw+Ray06FgvgAAAAAElFTkSuQmCC\n",
       "\" style=\"display:inline;vertical-align:middle;\" /></a></span>"
      ],
      "text/plain": [
       "{x in Complex, y in Complex} |- (x * y) = (y * x)"
      ]
     },
     "metadata": {},
     "output_type": "display_data"
    }
   ],
   "source": [
    "expr.factorization(y, 'left', assumptions=assumptions)"
   ]
  },
  {
   "cell_type": "code",
   "execution_count": 49,
   "metadata": {},
   "outputs": [
    {
     "data": {
      "text/html": [
       "<span style=\"font-size:20px;\"> <a class=\"ProveItLink\" href=\"../__pv_it/demonstrations/79029a9fe5a2722bfb4806b349c8eb0e724a49640/proof.ipynb\" style=\"text-decoration: none\">&nbsp;&#x22A2;&nbsp;&nbsp;</a><a class=\"ProveItLink\" href=\"../__pv_it/demonstrations/8515ea86641cb67f9660904a31e06377602bf8d70/expr.ipynb\"><img src=\"data:image/png;base64,iVBORw0KGgoAAAANSUhEUgAAAIMAAAAVBAMAAACXjEALAAAAMFBMVEX///8AAAAAAAAAAAAAAAAA\n",
       "AAAAAAAAAAAAAAAAAAAAAAAAAAAAAAAAAAAAAAAAAAAv3aB7AAAAD3RSTlMAInZUiRDNmWbv3US7\n",
       "qzJazP2FAAAACXBIWXMAAA7EAAAOxAGVKw4bAAABvUlEQVQ4y3WUMUgCYRTH/+pdnpriHA3WYg2B\n",
       "Q0S2JBFugbhEoOESNDpEWBFJQy1BYjS1SA1BLVJTk9YuHOESNAjR0qINRlP07kjN9717cN/H/b/f\n",
       "ve/d+977AIShmkvQRNDW3DFhJRBRNRG8s4ZZaUNMqZIIuouAnhNdjKS44gBuAN6iuGLkueIAHgM+\n",
       "yHbOBQfQl8Kcg4tNLjiAI0Vs0ZSeWV/upztdgG4CK5zloB4tIgtopr1b3v3srfTQRBxGBziy///G\n",
       "NrMX1n9Q85RwSknL4YrGsNEN9pIViu0iWAfiPAoOvpGzV4AcXdBX8NoHpn9ZA8rwUWG1uQsOpogq\n",
       "k9axVmB/Q3ZtF2YX7RbwILgYBmup0A/hJSs+egvr/VKijaZpWuC5UMBtuEv0IxU8AZnqC7T+bqMm\n",
       "GjSd8CgUsGGhMOrW4S2+7+B+UIVm4PvvDIdMAfdRo9R6E/gAVic9hUEX6s3oJ0233IUCZpcOqNX9\n",
       "VfhbSsFplHZXhasCmKRnTOinJNZiUlNxUMvpZzQV6Hlk6CWaNI6r3cBAfySYoGipCpFh5Hy0KjhW\n",
       "Qc/hnnV+1s3nikiXkXBPiuAE8At/r206UXRLKQAAAABJRU5ErkJggg==\n",
       "\" style=\"display:inline;vertical-align:middle;\" /></a></span>"
      ],
      "text/plain": [
       "|- (x * y) = (x * y)"
      ]
     },
     "metadata": {},
     "output_type": "display_data"
    }
   ],
   "source": [
    "expr.factorization(y, 'right', assumptions=assumptions)"
   ]
  },
  {
   "cell_type": "code",
   "execution_count": 50,
   "metadata": {},
   "outputs": [
    {
     "data": {
      "text/html": [
       "<strong id=\"expr\">expr:</strong> <a class=\"ProveItLink\" href=\"../__pv_it/demonstrations/ec3bf199d91cebb073099af1f9502a06947f31b90/expr.ipynb\"><img src=\"data:image/png;base64,iVBORw0KGgoAAAANSUhEUgAAAD8AAAANBAMAAADsw6tKAAAAMFBMVEX///8AAAAAAAAAAAAAAAAA\n",
       "AAAAAAAAAAAAAAAAAAAAAAAAAAAAAAAAAAAAAAAAAAAv3aB7AAAAD3RSTlMAEHarMolUmd1mIs3v\n",
       "RLtmgJDEAAAACXBIWXMAAA7EAAAOxAGVKw4bAAAA0klEQVQY02NgEFIWCU1ggAKhSgZGAxiHwaOF\n",
       "awIDQwGTEXsDTCggh4HzA4zDuCkumIGBcwHnR+YJUCGWhAoG5gcwBVwCDIFAMQb2DWCuPJBiZDjE\n",
       "wKMApH9DlIgKgEiQCBBwFAAJ3o8M/g5Auh1iBETm/gJGAZipQNN04G5kuAk0kkHugg0DK1yIz4Dh\n",
       "MZzDlsDAzMCQ71jDcA0uxm7A+xPO8YtTbWFgEFdiq4QHAwOjqfovOCeA7fQFBgzAuoEBH4hmkEnA\n",
       "q6CJwRSvPEOmOrqtAAi/JN6siTUIAAAAAElFTkSuQmCC\n",
       "\" style=\"display:inline;vertical-align:middle;\" /></a><br>"
      ],
      "text/plain": [
       "<IPython.core.display.HTML object>"
      ]
     },
     "metadata": {},
     "output_type": "display_data"
    }
   ],
   "source": [
    "expr = Mult(x, y, z)"
   ]
  },
  {
   "cell_type": "code",
   "execution_count": 51,
   "metadata": {},
   "outputs": [
    {
     "data": {
      "text/html": [
       "<span style=\"font-size:20px;\"> <a class=\"ProveItLink\" href=\"../__pv_it/demonstrations/7525d769ee7205f04e75c40796eeb4664f0907230/proof.ipynb\" style=\"text-decoration: none\">&nbsp;&#x22A2;&nbsp;&nbsp;</a><a class=\"ProveItLink\" href=\"../__pv_it/demonstrations/bfc4cf582ef7dc38ed41edc4bc85f1925585fedb0/expr.ipynb\"><img src=\"data:image/png;base64,iVBORw0KGgoAAAANSUhEUgAAALcAAAAVBAMAAAD2lGJJAAAAMFBMVEX///8AAAAAAAAAAAAAAAAA\n",
       "AAAAAAAAAAAAAAAAAAAAAAAAAAAAAAAAAAAAAAAAAAAv3aB7AAAAD3RSTlMAInZUiRDNmWbv3US7\n",
       "qzJazP2FAAAACXBIWXMAAA7EAAAOxAGVKw4bAAACNElEQVQ4y42VPWgUURDH/3e7m/vKLYcQCGJx\n",
       "SuC0EA4U8WxyBE0hEZYgSiDRQxCENClELoq4WGgjeCQkTZpDCyFCOLTRKjGkDSySRkhxIDZBSCwi\n",
       "VuK8TXYuzlvyduDeY+bNb+59zMwCKMEgqTijkQod0lWTW6Gs28zUBzVchFHO6iYzlfYBp2EO3udJ\n",
       "SxLqPpDxzW7ZGWlJQr0EckggC9KQhMp5uJQk+ANpSEL1+XhI0/j5O1f59cebcAL22FlJ0Q3ckKCk\n",
       "nIqPKV51l7uDgB2Em5pJf820o5V6Ddk9frh7Yyrwi/Cel0MJoqMcpWyrhdcc/NbQBnllG3hLYym7\n",
       "X4xeyK0+RnGN68fDNZpqcueS+k5/s82rA7Apv+j/ligeMgeZdZcmB3PIlQ8VkpsqDXdl8COU85sG\n",
       "j5C5SKFJ7cjdU244iAbkVcoV9rHbjRSkwpXPMcGZeqeGVc/9ywpOhIXdUgekpZLDdUL7OdeL8omO\n",
       "AlyRd65Rj5Bu9fqFD3UtbawDk51vsHmlP8AmK1YVRZpeyZ1r1KbiIrkAqAddU1k2/GMWH3vFFxT+\n",
       "sPJzbGjlMPP+E416ilUuWndj/TpdbKaOHeD2GavZa3LOVuUXK3VrsUPTexlco6ZGnnETtlGbVo/W\n",
       "Qb6rlZYtu1KqLV1iqFFpOBnTlEYxUTW2KUnZDWde+jTp90XY3mBLup3SG4eg8uViXR5XVeKkMF6u\n",
       "dAyRoFPW8yfSo7/EZXLsNyXme2mmTgP/AEaVgneIpTV+AAAAAElFTkSuQmCC\n",
       "\" style=\"display:inline;vertical-align:middle;\" /></a></span>"
      ],
      "text/plain": [
       "|- (x * y * z) = (x * y * z)"
      ]
     },
     "metadata": {},
     "output_type": "display_data"
    }
   ],
   "source": [
    "expr.factorization(x, 'left', assumptions=assumptions)"
   ]
  },
  {
   "cell_type": "code",
   "execution_count": 52,
   "metadata": {},
   "outputs": [
    {
     "data": {
      "text/html": [
       "<span style=\"font-size:20px;\"><a class=\"ProveItLink\" href=\"../__pv_it/theorems/6bf1a18c2e3498be826f1c5ef7caab578b7ee8c80/expr.ipynb\"><img src=\"data:image/png;base64,iVBORw0KGgoAAAANSUhEUgAAADQAAAAQBAMAAACra0H4AAAAMFBMVEX///8AAAAAAAAAAAAAAAAA\n",
       "AAAAAAAAAAAAAAAAAAAAAAAAAAAAAAAAAAAAAAAAAAAv3aB7AAAAD3RSTlMAEHarMolUmd1mIs3v\n",
       "RLtmgJDEAAAACXBIWXMAAA7EAAAOxAGVKw4bAAAA0klEQVQY02NgwAIY47o3LQnAJsOgfJJB/F8B\n",
       "Nhl2XaCOeVil3PkEGBiYUaT0Ojo2gGhDPpB9E5BkbitCGQ+WQxlCyiKhCUCaayNUgMvAFcoqYDJi\n",
       "bwDS3AugAiwBNyEMzgWcH5lB5nLDDOYquARVw8AOtpvBpwMIHoDtWgpTxaMApuTg7nnIB2PdX8AI\n",
       "9AcDB1zqOshfDBcY5C7YMLCCBJgUEKFhwACyJt+xhuEaWGQbwu/bF4i1MzCIK7FVJoAFhN8KwEP+\n",
       "fPsClLC7+gISUFAAAPAALk9BTu5+AAAAAElFTkSuQmCC\n",
       "\" style=\"display:inline;vertical-align:middle;\" /></a>, <a class=\"ProveItLink\" href=\"../__pv_it/theorems/e7a733f6071838c624bab1a2ecdcd3efaa06f4b40/expr.ipynb\"><img src=\"data:image/png;base64,iVBORw0KGgoAAAANSUhEUgAAADMAAAATBAMAAADPIygvAAAAMFBMVEX///8AAAAAAAAAAAAAAAAA\n",
       "AAAAAAAAAAAAAAAAAAAAAAAAAAAAAAAAAAAAAAAAAAAv3aB7AAAAD3RSTlMAEHaZZquJVO8y3btE\n",
       "zSKD2s2pAAAACXBIWXMAAA7EAAAOxAGVKw4bAAAA5UlEQVQoz2NgwALEdt3Vm4ZNgoEpwoHRfjNW\n",
       "KaNjDAwsWKU4DTYCyWAUMe1Vqy4AKVaBDUBSBFnmrCKE5uYzgDAYlR0YREEMvotQJU85EyAMNvYG\n",
       "Bn8Qg/cBVGoajwOEMZ15AUM0WApm8GMeBQhDgEOBoQnEmLEKCDaA7YIayHBegPMniJaG6eIGuxAE\n",
       "bBmYGkA0F0yKB+wvHiDeysAdAA4eBXhoHAXrYGAwZTgPcdF1eBjutWOsAvlNNMke4mzRPQKwkN/x\n",
       "yw7CyoWKHNsFDig4YLvA2M6AHXApsCbgkGJ3ssEhAwCM+y13eiDJfgAAAABJRU5ErkJggg==\n",
       "\" style=\"display:inline;vertical-align:middle;\" /></a>, <a class=\"ProveItLink\" href=\"../__pv_it/demonstrations/38be8260be263ca8b59e57b7b7d03d561faffd580/expr.ipynb\"><img src=\"data:image/png;base64,iVBORw0KGgoAAAANSUhEUgAAADMAAAAQBAMAAABJt1qBAAAAMFBMVEX///8AAAAAAAAAAAAAAAAA\n",
       "AAAAAAAAAAAAAAAAAAAAAAAAAAAAAAAAAAAAAAAAAAAv3aB7AAAAD3RSTlMAMt0iZhDNdom7q0RU\n",
       "75mOI7qcAAAACXBIWXMAAA7EAAAOxAGVKw4bAAAAxklEQVQY02NgwAIiJqUVS2CTYGBf68D6fh5W\n",
       "qec7GBhYsEoxPpgKJNehiFUqKSUAKa6ACUAyBFlmWymE5mR+ANOvJGACoplToQJWjA1QVljFjAUg\n",
       "ms0AKiDB7QBlmTJwBIClYAbbcRfAmKytYEpWCQgmgO2CGchgDqEiYXxOsAtBAGgy2EAmmBQ32F/c\n",
       "QHyGgQHsDHa4Dc93AYlnQLfPmN4kABbJgYfhtMesh4B+42A4mw0RiZodAAv5uZ8eowbejknggIIB\n",
       "AAVvKXRyQEWZAAAAAElFTkSuQmCC\n",
       "\" style=\"display:inline;vertical-align:middle;\" /></a> <a class=\"ProveItLink\" href=\"../__pv_it/demonstrations/fa84bf720ffce6bfff3291e96a1c799e15e7f9d00/proof.ipynb\" style=\"text-decoration: none\">&nbsp;&#x22A2;&nbsp;&nbsp;</a><a class=\"ProveItLink\" href=\"../__pv_it/demonstrations/9e5ca3280d86fa16e7363c71a04f86f753116f270/expr.ipynb\"><img src=\"data:image/png;base64,iVBORw0KGgoAAAANSUhEUgAAAGIAAAAuBAMAAAAhEdEqAAAAMFBMVEX///8AAAAAAAAAAAAAAAAA\n",
       "AAAAAAAAAAAAAAAAAAAAAAAAAAAAAAAAAAAAAAAAAAAv3aB7AAAAD3RSTlMAInZUiRDNmWbv3US7\n",
       "qzJazP2FAAAACXBIWXMAAA7EAAAOxAGVKw4bAAABdUlEQVRIx2NgYBBgIADQFTAZENKxCY1vQkgD\n",
       "A1MDCpc1gaAOhlQUHnsDYR3tKDxOwhoYOAOQeWZE6GBDcUcJEAfpxrnAQyyogoH1Alz61TrGBgaW\n",
       "C8g6MoC4gOkS+wKYgIMlA8cHeLgk+fgyMHCAQ6dqFQisZVgMFBDg+MoLs5jPoIqB9wBMB2MAgysD\n",
       "A/MEZDtmAxUxsEOCOB5IsTJMYuBUANLfIPIhQF/zfUDTwQBWAgRcBUCC+yvD+wdAejnEEpAMN4od\n",
       "i0HEfgFWeAAC7dNESO8AWsrAvADZH4cYGGI23GRggavhucBwFs5hNmDgBXr0ALIdwKCwf1rJsBmR\n",
       "CC5w/4Bz3viorAMKOSDreMXAEK7EXIFIwKxX1D/COQ7M0zYA/bcBWQfXA4woZkFPnFIoPI4CNGk3\n",
       "hkj0HFOByj2IJr2I4QqaCOMBVH4MmryF+gY0ER60bMuoQCjpKjIMUzBawg3NEg6pLBnSJRwMjJZw\n",
       "g6qEAwDfQIR1KQ1xmQAAAABJRU5ErkJggg==\n",
       "\" style=\"display:inline;vertical-align:middle;\" /></a></span>"
      ],
      "text/plain": [
       "{x in Complex, y in Complex, z in Complex} |- (x * y * z) =  \\\\ (x * y * z)"
      ]
     },
     "metadata": {},
     "output_type": "display_data"
    }
   ],
   "source": [
    "expr.factorization(x, 'left', group_remainder=True, assumptions=assumptions)"
   ]
  },
  {
   "cell_type": "code",
   "execution_count": 53,
   "metadata": {},
   "outputs": [
    {
     "data": {
      "text/html": [
       "<span style=\"font-size:20px;\"><a class=\"ProveItLink\" href=\"../__pv_it/theorems/6bf1a18c2e3498be826f1c5ef7caab578b7ee8c80/expr.ipynb\"><img src=\"data:image/png;base64,iVBORw0KGgoAAAANSUhEUgAAADQAAAAQBAMAAACra0H4AAAAMFBMVEX///8AAAAAAAAAAAAAAAAA\n",
       "AAAAAAAAAAAAAAAAAAAAAAAAAAAAAAAAAAAAAAAAAAAv3aB7AAAAD3RSTlMAEHarMolUmd1mIs3v\n",
       "RLtmgJDEAAAACXBIWXMAAA7EAAAOxAGVKw4bAAAA0klEQVQY02NgwAIY47o3LQnAJsOgfJJB/F8B\n",
       "Nhl2XaCOeVil3PkEGBiYUaT0Ojo2gGhDPpB9E5BkbitCGQ+WQxlCyiKhCUCaayNUgMvAFcoqYDJi\n",
       "bwDS3AugAiwBNyEMzgWcH5lB5nLDDOYquARVw8AOtpvBpwMIHoDtWgpTxaMApuTg7nnIB2PdX8AI\n",
       "9AcDB1zqOshfDBcY5C7YMLCCBJgUEKFhwACyJt+xhuEaWGQbwu/bF4i1MzCIK7FVJoAFhN8KwEP+\n",
       "fPsClLC7+gISUFAAAPAALk9BTu5+AAAAAElFTkSuQmCC\n",
       "\" style=\"display:inline;vertical-align:middle;\" /></a>, <a class=\"ProveItLink\" href=\"../__pv_it/theorems/e7a733f6071838c624bab1a2ecdcd3efaa06f4b40/expr.ipynb\"><img src=\"data:image/png;base64,iVBORw0KGgoAAAANSUhEUgAAADMAAAATBAMAAADPIygvAAAAMFBMVEX///8AAAAAAAAAAAAAAAAA\n",
       "AAAAAAAAAAAAAAAAAAAAAAAAAAAAAAAAAAAAAAAAAAAv3aB7AAAAD3RSTlMAEHaZZquJVO8y3btE\n",
       "zSKD2s2pAAAACXBIWXMAAA7EAAAOxAGVKw4bAAAA5UlEQVQoz2NgwALEdt3Vm4ZNgoEpwoHRfjNW\n",
       "KaNjDAwsWKU4DTYCyWAUMe1Vqy4AKVaBDUBSBFnmrCKE5uYzgDAYlR0YREEMvotQJU85EyAMNvYG\n",
       "Bn8Qg/cBVGoajwOEMZ15AUM0WApm8GMeBQhDgEOBoQnEmLEKCDaA7YIayHBegPMniJaG6eIGuxAE\n",
       "bBmYGkA0F0yKB+wvHiDeysAdAA4eBXhoHAXrYGAwZTgPcdF1eBjutWOsAvlNNMke4mzRPQKwkN/x\n",
       "yw7CyoWKHNsFDig4YLvA2M6AHXApsCbgkGJ3ssEhAwCM+y13eiDJfgAAAABJRU5ErkJggg==\n",
       "\" style=\"display:inline;vertical-align:middle;\" /></a>, <a class=\"ProveItLink\" href=\"../__pv_it/demonstrations/38be8260be263ca8b59e57b7b7d03d561faffd580/expr.ipynb\"><img src=\"data:image/png;base64,iVBORw0KGgoAAAANSUhEUgAAADMAAAAQBAMAAABJt1qBAAAAMFBMVEX///8AAAAAAAAAAAAAAAAA\n",
       "AAAAAAAAAAAAAAAAAAAAAAAAAAAAAAAAAAAAAAAAAAAv3aB7AAAAD3RSTlMAMt0iZhDNdom7q0RU\n",
       "75mOI7qcAAAACXBIWXMAAA7EAAAOxAGVKw4bAAAAxklEQVQY02NgwAIiJqUVS2CTYGBf68D6fh5W\n",
       "qec7GBhYsEoxPpgKJNehiFUqKSUAKa6ACUAyBFlmWymE5mR+ANOvJGACoplToQJWjA1QVljFjAUg\n",
       "ms0AKiDB7QBlmTJwBIClYAbbcRfAmKytYEpWCQgmgO2CGchgDqEiYXxOsAtBAGgy2EAmmBQ32F/c\n",
       "QHyGgQHsDHa4Dc93AYlnQLfPmN4kABbJgYfhtMesh4B+42A4mw0RiZodAAv5uZ8eowbejknggIIB\n",
       "AAVvKXRyQEWZAAAAAElFTkSuQmCC\n",
       "\" style=\"display:inline;vertical-align:middle;\" /></a> <a class=\"ProveItLink\" href=\"../__pv_it/demonstrations/be1f416c7089d18758aeaa542b6d5002fd94f7070/proof.ipynb\" style=\"text-decoration: none\">&nbsp;&#x22A2;&nbsp;&nbsp;</a><a class=\"ProveItLink\" href=\"../__pv_it/demonstrations/e2e6ef86226f8613a0333b8531fba1083d2a21bc0/expr.ipynb\"><img src=\"data:image/png;base64,iVBORw0KGgoAAAANSUhEUgAAAGIAAAAuBAMAAAAhEdEqAAAAMFBMVEX///8AAAAAAAAAAAAAAAAA\n",
       "AAAAAAAAAAAAAAAAAAAAAAAAAAAAAAAAAAAAAAAAAAAv3aB7AAAAD3RSTlMAInZUiRDNmWbv3US7\n",
       "qzJazP2FAAAACXBIWXMAAA7EAAAOxAGVKw4bAAACTklEQVRIx92UP2gTcRTHv/ev+XNJCIIg4hCl\n",
       "EB2EgCLGxSC2g7RwFFGEVosgCC4ZiqSV0sNBF0Gp6OIS7CBULEEXnZKUrkKQLoJDQFyK0DpUnMSX\n",
       "pPfu93uFXG/1B3fH973fl3e/d+8+APKIWHKDWYpyvBf6bJQBpq9JZzbSgTuaSvjRjseaSkUbkPJU\n",
       "de4AjhHtPebomjp98zJ3bKoGp8PprTXDh91RHXfpqppfEvUgUCkjucN9uT0xCST73VlY7a13WKFA\n",
       "PrmbDQrnSgvItgKH4WEMsJ6pNV7RJiQGLb5FDwfLSBXo+XuQv0qnzu0IB/pbaKWrdHN3sd2l55tB\n",
       "kV7G1Wqs9G7NvMMNpHqnwvRHKgqrrp5jHZhufIXNezIdfGZhlZClg7bUGtSKiz/m8SEcgo77h8XP\n",
       "idE1ClVUxxZw/YRVCwfY2Sz+YlGxXjbofA3Vke7u+8S2HM6jmkpWRXocN+QfU9NlW6RfY1NEjJau\n",
       "p0X+fLEhIhnx2xqFqNE9jv90RRLOiE04txCXcDgZm3AjXlzC6bN3EMLhRVzC9RGlEs4p+pjhQG61\n",
       "e4TFHvsmhd0mHj3lwLXRjRCBe+x7JFjynYLfOHAYNrcmYF9Z8MojXC2DoeaMBbRj9m1LwjW93F8w\n",
       "1A6FtAvY90kS7j7MkHquD+WDDdh3QXUQ4YhomfCwZwAWAfueCMJhEU3+8rmN9SsMpIB9c4JwmLm0\n",
       "xCNvo3yPkwH73u4n3PjwH6QupsyedZ4PdYhpbSNdyFaGOo5JwlkPHwwfxHZcwpkaCf4BGHKBw35q\n",
       "tEMAAAAASUVORK5CYII=\n",
       "\" style=\"display:inline;vertical-align:middle;\" /></a></span>"
      ],
      "text/plain": [
       "{x in Complex, y in Complex, z in Complex} |- (x * y * z) =  \\\\ (y * z * x)"
      ]
     },
     "metadata": {},
     "output_type": "display_data"
    }
   ],
   "source": [
    "expr.factorization(x, 'right', assumptions=assumptions)"
   ]
  },
  {
   "cell_type": "code",
   "execution_count": 54,
   "metadata": {},
   "outputs": [
    {
     "data": {
      "text/html": [
       "<span style=\"font-size:20px;\"><a class=\"ProveItLink\" href=\"../__pv_it/theorems/6bf1a18c2e3498be826f1c5ef7caab578b7ee8c80/expr.ipynb\"><img src=\"data:image/png;base64,iVBORw0KGgoAAAANSUhEUgAAADQAAAAQBAMAAACra0H4AAAAMFBMVEX///8AAAAAAAAAAAAAAAAA\n",
       "AAAAAAAAAAAAAAAAAAAAAAAAAAAAAAAAAAAAAAAAAAAv3aB7AAAAD3RSTlMAEHarMolUmd1mIs3v\n",
       "RLtmgJDEAAAACXBIWXMAAA7EAAAOxAGVKw4bAAAA0klEQVQY02NgwAIY47o3LQnAJsOgfJJB/F8B\n",
       "Nhl2XaCOeVil3PkEGBiYUaT0Ojo2gGhDPpB9E5BkbitCGQ+WQxlCyiKhCUCaayNUgMvAFcoqYDJi\n",
       "bwDS3AugAiwBNyEMzgWcH5lB5nLDDOYquARVw8AOtpvBpwMIHoDtWgpTxaMApuTg7nnIB2PdX8AI\n",
       "9AcDB1zqOshfDBcY5C7YMLCCBJgUEKFhwACyJt+xhuEaWGQbwu/bF4i1MzCIK7FVJoAFhN8KwEP+\n",
       "fPsClLC7+gISUFAAAPAALk9BTu5+AAAAAElFTkSuQmCC\n",
       "\" style=\"display:inline;vertical-align:middle;\" /></a>, <a class=\"ProveItLink\" href=\"../__pv_it/theorems/e7a733f6071838c624bab1a2ecdcd3efaa06f4b40/expr.ipynb\"><img src=\"data:image/png;base64,iVBORw0KGgoAAAANSUhEUgAAADMAAAATBAMAAADPIygvAAAAMFBMVEX///8AAAAAAAAAAAAAAAAA\n",
       "AAAAAAAAAAAAAAAAAAAAAAAAAAAAAAAAAAAAAAAAAAAv3aB7AAAAD3RSTlMAEHaZZquJVO8y3btE\n",
       "zSKD2s2pAAAACXBIWXMAAA7EAAAOxAGVKw4bAAAA5UlEQVQoz2NgwALEdt3Vm4ZNgoEpwoHRfjNW\n",
       "KaNjDAwsWKU4DTYCyWAUMe1Vqy4AKVaBDUBSBFnmrCKE5uYzgDAYlR0YREEMvotQJU85EyAMNvYG\n",
       "Bn8Qg/cBVGoajwOEMZ15AUM0WApm8GMeBQhDgEOBoQnEmLEKCDaA7YIayHBegPMniJaG6eIGuxAE\n",
       "bBmYGkA0F0yKB+wvHiDeysAdAA4eBXhoHAXrYGAwZTgPcdF1eBjutWOsAvlNNMke4mzRPQKwkN/x\n",
       "yw7CyoWKHNsFDig4YLvA2M6AHXApsCbgkGJ3ssEhAwCM+y13eiDJfgAAAABJRU5ErkJggg==\n",
       "\" style=\"display:inline;vertical-align:middle;\" /></a>, <a class=\"ProveItLink\" href=\"../__pv_it/demonstrations/38be8260be263ca8b59e57b7b7d03d561faffd580/expr.ipynb\"><img src=\"data:image/png;base64,iVBORw0KGgoAAAANSUhEUgAAADMAAAAQBAMAAABJt1qBAAAAMFBMVEX///8AAAAAAAAAAAAAAAAA\n",
       "AAAAAAAAAAAAAAAAAAAAAAAAAAAAAAAAAAAAAAAAAAAv3aB7AAAAD3RSTlMAMt0iZhDNdom7q0RU\n",
       "75mOI7qcAAAACXBIWXMAAA7EAAAOxAGVKw4bAAAAxklEQVQY02NgwAIiJqUVS2CTYGBf68D6fh5W\n",
       "qec7GBhYsEoxPpgKJNehiFUqKSUAKa6ACUAyBFlmWymE5mR+ANOvJGACoplToQJWjA1QVljFjAUg\n",
       "ms0AKiDB7QBlmTJwBIClYAbbcRfAmKytYEpWCQgmgO2CGchgDqEiYXxOsAtBAGgy2EAmmBQ32F/c\n",
       "QHyGgQHsDHa4Dc93AYlnQLfPmN4kABbJgYfhtMesh4B+42A4mw0RiZodAAv5uZ8eowbejknggIIB\n",
       "AAVvKXRyQEWZAAAAAElFTkSuQmCC\n",
       "\" style=\"display:inline;vertical-align:middle;\" /></a> <a class=\"ProveItLink\" href=\"../__pv_it/demonstrations/be1f416c7089d18758aeaa542b6d5002fd94f7070/proof.ipynb\" style=\"text-decoration: none\">&nbsp;&#x22A2;&nbsp;&nbsp;</a><a class=\"ProveItLink\" href=\"../__pv_it/demonstrations/58cf6a1d70bd87b12abb63f1355c7d802aaa292a0/expr.ipynb\"><img src=\"data:image/png;base64,iVBORw0KGgoAAAANSUhEUgAAALcAAAAVBAMAAAD2lGJJAAAAMFBMVEX///8AAAAAAAAAAAAAAAAA\n",
       "AAAAAAAAAAAAAAAAAAAAAAAAAAAAAAAAAAAAAAAAAAAv3aB7AAAAD3RSTlMAInZUiRDNmWbv3US7\n",
       "qzJazP2FAAAACXBIWXMAAA7EAAAOxAGVKw4bAAACXklEQVQ4y41VTWjUQBT+dpM0u5vNsgiCiIdY\n",
       "CquHwoKirheD2h6kQihqEba6CILgpRQpa0WMCnoRGip68bLorUJZ9KKn/tCbCEEqKHgIqJcitD0U\n",
       "PBXfZJsJTpZMHiTDe/m+L29m3psBUIXEcv2CUlYIyNdlMMNKxuSsd+x1HFI7kgzJWXkX0Fpy8QFH\n",
       "jGRh3QR0Vw4rTImRLKynQBEZ7IUYyMIqOjiRRfyWGMjCGnBxh4bx4Wvn+e6Pt6H5HLGxmKMVuCgS\n",
       "iaXVXEzyQGUhOMA3ZPDrr3OA6odJTeW/6J3ok91AYYvjbowx4SfhOi+E5u9NRVU8zHHxK0NrPCMd\n",
       "w9Ys7VQLb+hdLeyY0Q5V6rMwl3n/OBihoSFmTqyflM8PHtgPlZfUQ8w53wD6+SvSg96rrOs0aJhH\n",
       "0dpzyC4xzqYoTiyHUPMxThuJFBBgJkxzi8HQUwNKrOSMHWwGkYNc+OVjH3EsOZVdjsO+WAHhT2F4\n",
       "bIKEq2p8UjSLo7HKB5oKcFpcc8aaQd6LjwgXcacZ27hMy9LBKtDsfofKv5R9fOaOUodJwzMxc2IR\n",
       "qhxX1TEgcrRPpgebtnKZVdmZ33fxPm4+3/jLnT9jQ4u9yvvfWAndxxLv08ra6oUgSmh3wjOosnUb\n",
       "G8DEoNKODzltvbbNHVt52aXhrShOLEyefcDPXRWN21xg2jr5mK1/F6Ug0VqqeCrlOiKkxxpN7dCD\n",
       "fQ6lUVytS48pYqkt7XmqeJueFSH2Gusi7FCSuYKSZdqp9xfrxKYQPFXrJpUS1oTy6F5q4uUqb5PU\n",
       "O6XPfSlnHQb+AUcHgys6DOwyAAAAAElFTkSuQmCC\n",
       "\" style=\"display:inline;vertical-align:middle;\" /></a></span>"
      ],
      "text/plain": [
       "{x in Complex, y in Complex, z in Complex} |- (x * y * z) = (y * z * x)"
      ]
     },
     "metadata": {},
     "output_type": "display_data"
    }
   ],
   "source": [
    "expr.factorization(x, 'right', group_remainder=True, assumptions=assumptions)"
   ]
  },
  {
   "cell_type": "code",
   "execution_count": 55,
   "metadata": {},
   "outputs": [
    {
     "data": {
      "text/html": [
       "<span style=\"font-size:20px;\"><a class=\"ProveItLink\" href=\"../__pv_it/theorems/6bf1a18c2e3498be826f1c5ef7caab578b7ee8c80/expr.ipynb\"><img src=\"data:image/png;base64,iVBORw0KGgoAAAANSUhEUgAAADQAAAAQBAMAAACra0H4AAAAMFBMVEX///8AAAAAAAAAAAAAAAAA\n",
       "AAAAAAAAAAAAAAAAAAAAAAAAAAAAAAAAAAAAAAAAAAAv3aB7AAAAD3RSTlMAEHarMolUmd1mIs3v\n",
       "RLtmgJDEAAAACXBIWXMAAA7EAAAOxAGVKw4bAAAA0klEQVQY02NgwAIY47o3LQnAJsOgfJJB/F8B\n",
       "Nhl2XaCOeVil3PkEGBiYUaT0Ojo2gGhDPpB9E5BkbitCGQ+WQxlCyiKhCUCaayNUgMvAFcoqYDJi\n",
       "bwDS3AugAiwBNyEMzgWcH5lB5nLDDOYquARVw8AOtpvBpwMIHoDtWgpTxaMApuTg7nnIB2PdX8AI\n",
       "9AcDB1zqOshfDBcY5C7YMLCCBJgUEKFhwACyJt+xhuEaWGQbwu/bF4i1MzCIK7FVJoAFhN8KwEP+\n",
       "fPsClLC7+gISUFAAAPAALk9BTu5+AAAAAElFTkSuQmCC\n",
       "\" style=\"display:inline;vertical-align:middle;\" /></a>, <a class=\"ProveItLink\" href=\"../__pv_it/theorems/e7a733f6071838c624bab1a2ecdcd3efaa06f4b40/expr.ipynb\"><img src=\"data:image/png;base64,iVBORw0KGgoAAAANSUhEUgAAADMAAAATBAMAAADPIygvAAAAMFBMVEX///8AAAAAAAAAAAAAAAAA\n",
       "AAAAAAAAAAAAAAAAAAAAAAAAAAAAAAAAAAAAAAAAAAAv3aB7AAAAD3RSTlMAEHaZZquJVO8y3btE\n",
       "zSKD2s2pAAAACXBIWXMAAA7EAAAOxAGVKw4bAAAA5UlEQVQoz2NgwALEdt3Vm4ZNgoEpwoHRfjNW\n",
       "KaNjDAwsWKU4DTYCyWAUMe1Vqy4AKVaBDUBSBFnmrCKE5uYzgDAYlR0YREEMvotQJU85EyAMNvYG\n",
       "Bn8Qg/cBVGoajwOEMZ15AUM0WApm8GMeBQhDgEOBoQnEmLEKCDaA7YIayHBegPMniJaG6eIGuxAE\n",
       "bBmYGkA0F0yKB+wvHiDeysAdAA4eBXhoHAXrYGAwZTgPcdF1eBjutWOsAvlNNMke4mzRPQKwkN/x\n",
       "yw7CyoWKHNsFDig4YLvA2M6AHXApsCbgkGJ3ssEhAwCM+y13eiDJfgAAAABJRU5ErkJggg==\n",
       "\" style=\"display:inline;vertical-align:middle;\" /></a>, <a class=\"ProveItLink\" href=\"../__pv_it/demonstrations/38be8260be263ca8b59e57b7b7d03d561faffd580/expr.ipynb\"><img src=\"data:image/png;base64,iVBORw0KGgoAAAANSUhEUgAAADMAAAAQBAMAAABJt1qBAAAAMFBMVEX///8AAAAAAAAAAAAAAAAA\n",
       "AAAAAAAAAAAAAAAAAAAAAAAAAAAAAAAAAAAAAAAAAAAv3aB7AAAAD3RSTlMAMt0iZhDNdom7q0RU\n",
       "75mOI7qcAAAACXBIWXMAAA7EAAAOxAGVKw4bAAAAxklEQVQY02NgwAIiJqUVS2CTYGBf68D6fh5W\n",
       "qec7GBhYsEoxPpgKJNehiFUqKSUAKa6ACUAyBFlmWymE5mR+ANOvJGACoplToQJWjA1QVljFjAUg\n",
       "ms0AKiDB7QBlmTJwBIClYAbbcRfAmKytYEpWCQgmgO2CGchgDqEiYXxOsAtBAGgy2EAmmBQ32F/c\n",
       "QHyGgQHsDHa4Dc93AYlnQLfPmN4kABbJgYfhtMesh4B+42A4mw0RiZodAAv5uZ8eowbejknggIIB\n",
       "AAVvKXRyQEWZAAAAAElFTkSuQmCC\n",
       "\" style=\"display:inline;vertical-align:middle;\" /></a> <a class=\"ProveItLink\" href=\"../__pv_it/demonstrations/87cf4610b539e56fe65b6472656d63a349f5b97d0/proof.ipynb\" style=\"text-decoration: none\">&nbsp;&#x22A2;&nbsp;&nbsp;</a><a class=\"ProveItLink\" href=\"../__pv_it/demonstrations/6bbb1bf2797454e64c63932302285ce3338bf5fa0/expr.ipynb\"><img src=\"data:image/png;base64,iVBORw0KGgoAAAANSUhEUgAAAGIAAAAuBAMAAAAhEdEqAAAAMFBMVEX///8AAAAAAAAAAAAAAAAA\n",
       "AAAAAAAAAAAAAAAAAAAAAAAAAAAAAAAAAAAAAAAAAAAv3aB7AAAAD3RSTlMAInZUiRDNmWbv3US7\n",
       "qzJazP2FAAAACXBIWXMAAA7EAAAOxAGVKw4bAAAB9klEQVRIx+2UO0gDQRCG/+TuzDuktooiBAsh\n",
       "hYhWBlGrCCEIIsQHgmCZQiRGxGBjqUSwsQlaCIIhaGOXaC8EsREsBLERQS0iVuLkcZvdPe5OEBtx\n",
       "4W75Z/Znbud2PwAh2Ax5gTNq5ziVdL+dAc6cILV5WwcWBeXK2Tu2BOWxN8CT4NXANxwdwncs05Ps\n",
       "mx1lHUtmoFVZ+qnoyEGt8o4letLOa1dBD8SG4H5lfVmITwDuRneyx/VxgkMKhNy1gF44GM0iUNEd\n",
       "jgTGAGWHr7FPi+BqtniOJg15eMI0vzfzk7Tr4KvkQGMJDW+aXr4aXu5pPmoWqWd8Qo3D+qsc0lgD\n",
       "qV5vO31ORaEU+H1cAqnSLVS2xl/FFRNKFAHaaIWvQa0YflzFWfsQVH0fTDzHe4oUivGOJ2CqW8m0\n",
       "D7B2E3ljIqbslWh/Jd7hvTf8YlU+nJ2Ccqel9Dim5RuTEeWFlD7AjRRxVESdkvKDkZIU8UvX1hG2\n",
       "O7pd+KPjn3C/SjgtksMMCwi4MyGcSjzaZgEBdzzhOJY80Io7dsN43JkRLkG4yqMFNR131oQrJ4Kf\n",
       "YFBr4c6ScCtwcjEedzzh9EGEI6L5WTdE3JkQDusos72KuDMhHGZGNtiJFnFnTrhxy39uIJw6r+1a\n",
       "OgyE84YDMSuDkXDK5ppliZ8S7gtAXYMNgffMcQAAAABJRU5ErkJggg==\n",
       "\" style=\"display:inline;vertical-align:middle;\" /></a></span>"
      ],
      "text/plain": [
       "{x in Complex, y in Complex, z in Complex} |- (x * y * z) =  \\\\ (y * x * z)"
      ]
     },
     "metadata": {},
     "output_type": "display_data"
    }
   ],
   "source": [
    "expr.factorization(y, 'left', assumptions=assumptions)"
   ]
  },
  {
   "cell_type": "code",
   "execution_count": 56,
   "metadata": {},
   "outputs": [
    {
     "data": {
      "text/html": [
       "<span style=\"font-size:20px;\"><a class=\"ProveItLink\" href=\"../__pv_it/theorems/6bf1a18c2e3498be826f1c5ef7caab578b7ee8c80/expr.ipynb\"><img src=\"data:image/png;base64,iVBORw0KGgoAAAANSUhEUgAAADQAAAAQBAMAAACra0H4AAAAMFBMVEX///8AAAAAAAAAAAAAAAAA\n",
       "AAAAAAAAAAAAAAAAAAAAAAAAAAAAAAAAAAAAAAAAAAAv3aB7AAAAD3RSTlMAEHarMolUmd1mIs3v\n",
       "RLtmgJDEAAAACXBIWXMAAA7EAAAOxAGVKw4bAAAA0klEQVQY02NgwAIY47o3LQnAJsOgfJJB/F8B\n",
       "Nhl2XaCOeVil3PkEGBiYUaT0Ojo2gGhDPpB9E5BkbitCGQ+WQxlCyiKhCUCaayNUgMvAFcoqYDJi\n",
       "bwDS3AugAiwBNyEMzgWcH5lB5nLDDOYquARVw8AOtpvBpwMIHoDtWgpTxaMApuTg7nnIB2PdX8AI\n",
       "9AcDB1zqOshfDBcY5C7YMLCCBJgUEKFhwACyJt+xhuEaWGQbwu/bF4i1MzCIK7FVJoAFhN8KwEP+\n",
       "fPsClLC7+gISUFAAAPAALk9BTu5+AAAAAElFTkSuQmCC\n",
       "\" style=\"display:inline;vertical-align:middle;\" /></a>, <a class=\"ProveItLink\" href=\"../__pv_it/theorems/e7a733f6071838c624bab1a2ecdcd3efaa06f4b40/expr.ipynb\"><img src=\"data:image/png;base64,iVBORw0KGgoAAAANSUhEUgAAADMAAAATBAMAAADPIygvAAAAMFBMVEX///8AAAAAAAAAAAAAAAAA\n",
       "AAAAAAAAAAAAAAAAAAAAAAAAAAAAAAAAAAAAAAAAAAAv3aB7AAAAD3RSTlMAEHaZZquJVO8y3btE\n",
       "zSKD2s2pAAAACXBIWXMAAA7EAAAOxAGVKw4bAAAA5UlEQVQoz2NgwALEdt3Vm4ZNgoEpwoHRfjNW\n",
       "KaNjDAwsWKU4DTYCyWAUMe1Vqy4AKVaBDUBSBFnmrCKE5uYzgDAYlR0YREEMvotQJU85EyAMNvYG\n",
       "Bn8Qg/cBVGoajwOEMZ15AUM0WApm8GMeBQhDgEOBoQnEmLEKCDaA7YIayHBegPMniJaG6eIGuxAE\n",
       "bBmYGkA0F0yKB+wvHiDeysAdAA4eBXhoHAXrYGAwZTgPcdF1eBjutWOsAvlNNMke4mzRPQKwkN/x\n",
       "yw7CyoWKHNsFDig4YLvA2M6AHXApsCbgkGJ3ssEhAwCM+y13eiDJfgAAAABJRU5ErkJggg==\n",
       "\" style=\"display:inline;vertical-align:middle;\" /></a>, <a class=\"ProveItLink\" href=\"../__pv_it/demonstrations/38be8260be263ca8b59e57b7b7d03d561faffd580/expr.ipynb\"><img src=\"data:image/png;base64,iVBORw0KGgoAAAANSUhEUgAAADMAAAAQBAMAAABJt1qBAAAAMFBMVEX///8AAAAAAAAAAAAAAAAA\n",
       "AAAAAAAAAAAAAAAAAAAAAAAAAAAAAAAAAAAAAAAAAAAv3aB7AAAAD3RSTlMAMt0iZhDNdom7q0RU\n",
       "75mOI7qcAAAACXBIWXMAAA7EAAAOxAGVKw4bAAAAxklEQVQY02NgwAIiJqUVS2CTYGBf68D6fh5W\n",
       "qec7GBhYsEoxPpgKJNehiFUqKSUAKa6ACUAyBFlmWymE5mR+ANOvJGACoplToQJWjA1QVljFjAUg\n",
       "ms0AKiDB7QBlmTJwBIClYAbbcRfAmKytYEpWCQgmgO2CGchgDqEiYXxOsAtBAGgy2EAmmBQ32F/c\n",
       "QHyGgQHsDHa4Dc93AYlnQLfPmN4kABbJgYfhtMesh4B+42A4mw0RiZodAAv5uZ8eowbejknggIIB\n",
       "AAVvKXRyQEWZAAAAAElFTkSuQmCC\n",
       "\" style=\"display:inline;vertical-align:middle;\" /></a> <a class=\"ProveItLink\" href=\"../__pv_it/demonstrations/799d2a8263168570c6ea0a873ff544a7540c2f0c0/proof.ipynb\" style=\"text-decoration: none\">&nbsp;&#x22A2;&nbsp;&nbsp;</a><a class=\"ProveItLink\" href=\"../__pv_it/demonstrations/cbe00caa64e495c654838d88ee13390a38cc466b0/expr.ipynb\"><img src=\"data:image/png;base64,iVBORw0KGgoAAAANSUhEUgAAAGIAAAAuBAMAAAAhEdEqAAAAMFBMVEX///8AAAAAAAAAAAAAAAAA\n",
       "AAAAAAAAAAAAAAAAAAAAAAAAAAAAAAAAAAAAAAAAAAAv3aB7AAAAD3RSTlMAInZUiRDNmWbv3US7\n",
       "qzJazP2FAAAACXBIWXMAAA7EAAAOxAGVKw4bAAAB8UlEQVRIx+2UP0hCQRzHv/p8+S/FuckikIbA\n",
       "IaKmJKrJQCKIICuCoNEhwozo0dKYGLS0SA5BUEgtbVp7IOESNAjRIkE2FE3RT++95905XEM0RD94\n",
       "7/je777+3v28+wAIQRHyAmdU5biQ9JDKAKchSH1Z6cCqoNyG2rEnKK/aAG+CV8PfcHQJ37FOz8zg\n",
       "4oTdsZk09Iqdrp87DLgqvGONnpTzzp23JmKj8DTsvqzEpwFPqzuZ02acoUATIc9bwCocjGYQKFsO\n",
       "RwKTgJblaxzRIrhZi5do0JGDN0zjO8vP0q6DDcmB1hIKX4pe/je81Gg8YUWaGb9Qo9B8lUK63UCq\n",
       "N9BOX1FRaHl+HzfAQvEeLntNdwW3ttCiCNBGy3wNasXY0yYu24eg4v+wxXO8/5ymYryjDsz1aen2\n",
       "AdarkVdbxLTDIu2vyDt8tY6/2CUfzh5BeVJSegrz8o1Ji/JaSh+jKs04yqJekPIjkaI00y1dW0dY\n",
       "dXR78Ufjn3C/SDgGNXOTEQNJqAjHoGbeLSLVvkU4jiUC4UyosXikH3pQEc6EGiNcgkCWUxLOujAt\n",
       "wpUSwU8l4RjUzNiAM2sRzooOwjGomXHbBJ6KcAxqZmyjZCgJx6BmRnJ8J/QNwkn4UhJOpKN+oCac\n",
       "8AHhQExNOD603a0fINwX23qCpHE+uYgAAAAASUVORK5CYII=\n",
       "\" style=\"display:inline;vertical-align:middle;\" /></a></span>"
      ],
      "text/plain": [
       "{x in Complex, y in Complex, z in Complex} |- (x * y * z) =  \\\\ (x * z * y)"
      ]
     },
     "metadata": {},
     "output_type": "display_data"
    }
   ],
   "source": [
    "expr.factorization(y, 'right', assumptions=assumptions)"
   ]
  },
  {
   "cell_type": "code",
   "execution_count": 57,
   "metadata": {},
   "outputs": [
    {
     "data": {
      "text/html": [
       "<span style=\"font-size:20px;\"><a class=\"ProveItLink\" href=\"../__pv_it/theorems/6bf1a18c2e3498be826f1c5ef7caab578b7ee8c80/expr.ipynb\"><img src=\"data:image/png;base64,iVBORw0KGgoAAAANSUhEUgAAADQAAAAQBAMAAACra0H4AAAAMFBMVEX///8AAAAAAAAAAAAAAAAA\n",
       "AAAAAAAAAAAAAAAAAAAAAAAAAAAAAAAAAAAAAAAAAAAv3aB7AAAAD3RSTlMAEHarMolUmd1mIs3v\n",
       "RLtmgJDEAAAACXBIWXMAAA7EAAAOxAGVKw4bAAAA0klEQVQY02NgwAIY47o3LQnAJsOgfJJB/F8B\n",
       "Nhl2XaCOeVil3PkEGBiYUaT0Ojo2gGhDPpB9E5BkbitCGQ+WQxlCyiKhCUCaayNUgMvAFcoqYDJi\n",
       "bwDS3AugAiwBNyEMzgWcH5lB5nLDDOYquARVw8AOtpvBpwMIHoDtWgpTxaMApuTg7nnIB2PdX8AI\n",
       "9AcDB1zqOshfDBcY5C7YMLCCBJgUEKFhwACyJt+xhuEaWGQbwu/bF4i1MzCIK7FVJoAFhN8KwEP+\n",
       "fPsClLC7+gISUFAAAPAALk9BTu5+AAAAAElFTkSuQmCC\n",
       "\" style=\"display:inline;vertical-align:middle;\" /></a>, <a class=\"ProveItLink\" href=\"../__pv_it/theorems/e7a733f6071838c624bab1a2ecdcd3efaa06f4b40/expr.ipynb\"><img src=\"data:image/png;base64,iVBORw0KGgoAAAANSUhEUgAAADMAAAATBAMAAADPIygvAAAAMFBMVEX///8AAAAAAAAAAAAAAAAA\n",
       "AAAAAAAAAAAAAAAAAAAAAAAAAAAAAAAAAAAAAAAAAAAv3aB7AAAAD3RSTlMAEHaZZquJVO8y3btE\n",
       "zSKD2s2pAAAACXBIWXMAAA7EAAAOxAGVKw4bAAAA5UlEQVQoz2NgwALEdt3Vm4ZNgoEpwoHRfjNW\n",
       "KaNjDAwsWKU4DTYCyWAUMe1Vqy4AKVaBDUBSBFnmrCKE5uYzgDAYlR0YREEMvotQJU85EyAMNvYG\n",
       "Bn8Qg/cBVGoajwOEMZ15AUM0WApm8GMeBQhDgEOBoQnEmLEKCDaA7YIayHBegPMniJaG6eIGuxAE\n",
       "bBmYGkA0F0yKB+wvHiDeysAdAA4eBXhoHAXrYGAwZTgPcdF1eBjutWOsAvlNNMke4mzRPQKwkN/x\n",
       "yw7CyoWKHNsFDig4YLvA2M6AHXApsCbgkGJ3ssEhAwCM+y13eiDJfgAAAABJRU5ErkJggg==\n",
       "\" style=\"display:inline;vertical-align:middle;\" /></a>, <a class=\"ProveItLink\" href=\"../__pv_it/demonstrations/38be8260be263ca8b59e57b7b7d03d561faffd580/expr.ipynb\"><img src=\"data:image/png;base64,iVBORw0KGgoAAAANSUhEUgAAADMAAAAQBAMAAABJt1qBAAAAMFBMVEX///8AAAAAAAAAAAAAAAAA\n",
       "AAAAAAAAAAAAAAAAAAAAAAAAAAAAAAAAAAAAAAAAAAAv3aB7AAAAD3RSTlMAMt0iZhDNdom7q0RU\n",
       "75mOI7qcAAAACXBIWXMAAA7EAAAOxAGVKw4bAAAAxklEQVQY02NgwAIiJqUVS2CTYGBf68D6fh5W\n",
       "qec7GBhYsEoxPpgKJNehiFUqKSUAKa6ACUAyBFlmWymE5mR+ANOvJGACoplToQJWjA1QVljFjAUg\n",
       "ms0AKiDB7QBlmTJwBIClYAbbcRfAmKytYEpWCQgmgO2CGchgDqEiYXxOsAtBAGgy2EAmmBQ32F/c\n",
       "QHyGgQHsDHa4Dc93AYlnQLfPmN4kABbJgYfhtMesh4B+42A4mw0RiZodAAv5uZ8eowbejknggIIB\n",
       "AAVvKXRyQEWZAAAAAElFTkSuQmCC\n",
       "\" style=\"display:inline;vertical-align:middle;\" /></a> <a class=\"ProveItLink\" href=\"../__pv_it/demonstrations/4c402e2bd6a2df5f87e5745ec0fa939b392a73ab0/proof.ipynb\" style=\"text-decoration: none\">&nbsp;&#x22A2;&nbsp;&nbsp;</a><a class=\"ProveItLink\" href=\"../__pv_it/demonstrations/1396baa04eb2715172ec15bb7db9ea5965c2254f0/expr.ipynb\"><img src=\"data:image/png;base64,iVBORw0KGgoAAAANSUhEUgAAAGIAAAAuBAMAAAAhEdEqAAAAMFBMVEX///8AAAAAAAAAAAAAAAAA\n",
       "AAAAAAAAAAAAAAAAAAAAAAAAAAAAAAAAAAAAAAAAAAAv3aB7AAAAD3RSTlMAInZUiRDNmWbv3US7\n",
       "qzJazP2FAAAACXBIWXMAAA7EAAAOxAGVKw4bAAACEUlEQVRIx+2UTygEURzHv7szY3etnTal5LSk\n",
       "Nge1ReJkEw6iNomUfymlXPYgLZLJxZEoFxdxUIo2Lm675Ko2uSiHLblI4UBO8tvd5s17z9Rz4CKv\n",
       "Zl7f3+99+733mzcfAGEohrzAG1M5jiXdrDLAawnSmFA6MCUon6V2rAoqoDYgkOBVyzccZcI+Zunp\n",
       "bxzrZB3rT8HIsfTDkceCnuMd0/QkvVe+HTsQb4P/mfVlsrcP8Be7s3BQGIfYo0DY/xqyC5uxBYSy\n",
       "tsOTQBegrfM1tmkRfKUWj9NkYAOBCM1vpfwAndp8lhwoLqFRnqRX8BVPeZr3S0UKmaBQY6/wyoQN\n",
       "1kCq1+CkT6kotB3+HOfASPoGOltTkcMlE1oMITpolq9BrWi/n8eJcwlywXcmHnvrjygU5x0PwFCd\n",
       "lnIusHEdfWEirm2l6Xxp3lGe//KJdfly1gjKn5TS3RiW/5iUKM+k9C6upYgnK+oRKd8aTUuRCum3\n",
       "9URUV7cWf3T8E+53CWce5KtZgMedEbUwChfCDdZfODEedzqRas0mHM+SKuhspwLu7sh760I4qt5l\n",
       "A47hrki4BIFsw5VwlQ7gGO6KhMskzA83wgUtcP3jcTcH77pNOHsQ4dAEsJOLuLssAO8r4cyL8x7G\n",
       "IBF3S8hYLoTT0TbDtIi70Y7l8DcIJ+FLSTiRjsammnDCBiKhuJpw/NBWFn+AcJ9LaINne72TnwAA\n",
       "AABJRU5ErkJggg==\n",
       "\" style=\"display:inline;vertical-align:middle;\" /></a></span>"
      ],
      "text/plain": [
       "{x in Complex, y in Complex, z in Complex} |- (x * y * z) =  \\\\ (z * x * y)"
      ]
     },
     "metadata": {},
     "output_type": "display_data"
    }
   ],
   "source": [
    "expr.factorization(z, 'left', assumptions=assumptions)"
   ]
  },
  {
   "cell_type": "code",
   "execution_count": 58,
   "metadata": {},
   "outputs": [
    {
     "data": {
      "text/html": [
       "<span style=\"font-size:20px;\"> <a class=\"ProveItLink\" href=\"../__pv_it/demonstrations/7525d769ee7205f04e75c40796eeb4664f0907230/proof.ipynb\" style=\"text-decoration: none\">&nbsp;&#x22A2;&nbsp;&nbsp;</a><a class=\"ProveItLink\" href=\"../__pv_it/demonstrations/bfc4cf582ef7dc38ed41edc4bc85f1925585fedb0/expr.ipynb\"><img src=\"data:image/png;base64,iVBORw0KGgoAAAANSUhEUgAAALcAAAAVBAMAAAD2lGJJAAAAMFBMVEX///8AAAAAAAAAAAAAAAAA\n",
       "AAAAAAAAAAAAAAAAAAAAAAAAAAAAAAAAAAAAAAAAAAAv3aB7AAAAD3RSTlMAInZUiRDNmWbv3US7\n",
       "qzJazP2FAAAACXBIWXMAAA7EAAAOxAGVKw4bAAACNElEQVQ4y42VPWgUURDH/3e7m/vKLYcQCGJx\n",
       "SuC0EA4U8WxyBE0hEZYgSiDRQxCENClELoq4WGgjeCQkTZpDCyFCOLTRKjGkDSySRkhxIDZBSCwi\n",
       "VuK8TXYuzlvyduDeY+bNb+59zMwCKMEgqTijkQod0lWTW6Gs28zUBzVchFHO6iYzlfYBp2EO3udJ\n",
       "SxLqPpDxzW7ZGWlJQr0EckggC9KQhMp5uJQk+ANpSEL1+XhI0/j5O1f59cebcAL22FlJ0Q3ckKCk\n",
       "nIqPKV51l7uDgB2Em5pJf820o5V6Ddk9frh7Yyrwi/Cel0MJoqMcpWyrhdcc/NbQBnllG3hLYym7\n",
       "X4xeyK0+RnGN68fDNZpqcueS+k5/s82rA7Apv+j/ligeMgeZdZcmB3PIlQ8VkpsqDXdl8COU85sG\n",
       "j5C5SKFJ7cjdU244iAbkVcoV9rHbjRSkwpXPMcGZeqeGVc/9ywpOhIXdUgekpZLDdUL7OdeL8omO\n",
       "AlyRd65Rj5Bu9fqFD3UtbawDk51vsHmlP8AmK1YVRZpeyZ1r1KbiIrkAqAddU1k2/GMWH3vFFxT+\n",
       "sPJzbGjlMPP+E416ilUuWndj/TpdbKaOHeD2GavZa3LOVuUXK3VrsUPTexlco6ZGnnETtlGbVo/W\n",
       "Qb6rlZYtu1KqLV1iqFFpOBnTlEYxUTW2KUnZDWde+jTp90XY3mBLup3SG4eg8uViXR5XVeKkMF6u\n",
       "dAyRoFPW8yfSo7/EZXLsNyXme2mmTgP/AEaVgneIpTV+AAAAAElFTkSuQmCC\n",
       "\" style=\"display:inline;vertical-align:middle;\" /></a></span>"
      ],
      "text/plain": [
       "|- (x * y * z) = (x * y * z)"
      ]
     },
     "metadata": {},
     "output_type": "display_data"
    }
   ],
   "source": [
    "expr.factorization(z, 'right', assumptions=assumptions)"
   ]
  },
  {
   "cell_type": "markdown",
   "metadata": {},
   "source": [
    "### Factor multiple factors\n",
    "\n",
    "Note: the functionality is the same whether we provide the factors as an iterable or as a `Mult`."
   ]
  },
  {
   "cell_type": "code",
   "execution_count": 59,
   "metadata": {},
   "outputs": [
    {
     "data": {
      "text/html": [
       "<span style=\"font-size:20px;\"><a class=\"ProveItLink\" href=\"../__pv_it/theorems/6bf1a18c2e3498be826f1c5ef7caab578b7ee8c80/expr.ipynb\"><img src=\"data:image/png;base64,iVBORw0KGgoAAAANSUhEUgAAADQAAAAQBAMAAACra0H4AAAAMFBMVEX///8AAAAAAAAAAAAAAAAA\n",
       "AAAAAAAAAAAAAAAAAAAAAAAAAAAAAAAAAAAAAAAAAAAv3aB7AAAAD3RSTlMAEHarMolUmd1mIs3v\n",
       "RLtmgJDEAAAACXBIWXMAAA7EAAAOxAGVKw4bAAAA0klEQVQY02NgwAIY47o3LQnAJsOgfJJB/F8B\n",
       "Nhl2XaCOeVil3PkEGBiYUaT0Ojo2gGhDPpB9E5BkbitCGQ+WQxlCyiKhCUCaayNUgMvAFcoqYDJi\n",
       "bwDS3AugAiwBNyEMzgWcH5lB5nLDDOYquARVw8AOtpvBpwMIHoDtWgpTxaMApuTg7nnIB2PdX8AI\n",
       "9AcDB1zqOshfDBcY5C7YMLCCBJgUEKFhwACyJt+xhuEaWGQbwu/bF4i1MzCIK7FVJoAFhN8KwEP+\n",
       "fPsClLC7+gISUFAAAPAALk9BTu5+AAAAAElFTkSuQmCC\n",
       "\" style=\"display:inline;vertical-align:middle;\" /></a>, <a class=\"ProveItLink\" href=\"../__pv_it/theorems/e7a733f6071838c624bab1a2ecdcd3efaa06f4b40/expr.ipynb\"><img src=\"data:image/png;base64,iVBORw0KGgoAAAANSUhEUgAAADMAAAATBAMAAADPIygvAAAAMFBMVEX///8AAAAAAAAAAAAAAAAA\n",
       "AAAAAAAAAAAAAAAAAAAAAAAAAAAAAAAAAAAAAAAAAAAv3aB7AAAAD3RSTlMAEHaZZquJVO8y3btE\n",
       "zSKD2s2pAAAACXBIWXMAAA7EAAAOxAGVKw4bAAAA5UlEQVQoz2NgwALEdt3Vm4ZNgoEpwoHRfjNW\n",
       "KaNjDAwsWKU4DTYCyWAUMe1Vqy4AKVaBDUBSBFnmrCKE5uYzgDAYlR0YREEMvotQJU85EyAMNvYG\n",
       "Bn8Qg/cBVGoajwOEMZ15AUM0WApm8GMeBQhDgEOBoQnEmLEKCDaA7YIayHBegPMniJaG6eIGuxAE\n",
       "bBmYGkA0F0yKB+wvHiDeysAdAA4eBXhoHAXrYGAwZTgPcdF1eBjutWOsAvlNNMke4mzRPQKwkN/x\n",
       "yw7CyoWKHNsFDig4YLvA2M6AHXApsCbgkGJ3ssEhAwCM+y13eiDJfgAAAABJRU5ErkJggg==\n",
       "\" style=\"display:inline;vertical-align:middle;\" /></a>, <a class=\"ProveItLink\" href=\"../__pv_it/demonstrations/38be8260be263ca8b59e57b7b7d03d561faffd580/expr.ipynb\"><img src=\"data:image/png;base64,iVBORw0KGgoAAAANSUhEUgAAADMAAAAQBAMAAABJt1qBAAAAMFBMVEX///8AAAAAAAAAAAAAAAAA\n",
       "AAAAAAAAAAAAAAAAAAAAAAAAAAAAAAAAAAAAAAAAAAAv3aB7AAAAD3RSTlMAMt0iZhDNdom7q0RU\n",
       "75mOI7qcAAAACXBIWXMAAA7EAAAOxAGVKw4bAAAAxklEQVQY02NgwAIiJqUVS2CTYGBf68D6fh5W\n",
       "qec7GBhYsEoxPpgKJNehiFUqKSUAKa6ACUAyBFlmWymE5mR+ANOvJGACoplToQJWjA1QVljFjAUg\n",
       "ms0AKiDB7QBlmTJwBIClYAbbcRfAmKytYEpWCQgmgO2CGchgDqEiYXxOsAtBAGgy2EAmmBQ32F/c\n",
       "QHyGgQHsDHa4Dc93AYlnQLfPmN4kABbJgYfhtMesh4B+42A4mw0RiZodAAv5uZ8eowbejknggIIB\n",
       "AAVvKXRyQEWZAAAAAElFTkSuQmCC\n",
       "\" style=\"display:inline;vertical-align:middle;\" /></a> <a class=\"ProveItLink\" href=\"../__pv_it/demonstrations/fa84bf720ffce6bfff3291e96a1c799e15e7f9d00/proof.ipynb\" style=\"text-decoration: none\">&nbsp;&#x22A2;&nbsp;&nbsp;</a><a class=\"ProveItLink\" href=\"../__pv_it/demonstrations/9e5ca3280d86fa16e7363c71a04f86f753116f270/expr.ipynb\"><img src=\"data:image/png;base64,iVBORw0KGgoAAAANSUhEUgAAAGIAAAAuBAMAAAAhEdEqAAAAMFBMVEX///8AAAAAAAAAAAAAAAAA\n",
       "AAAAAAAAAAAAAAAAAAAAAAAAAAAAAAAAAAAAAAAAAAAv3aB7AAAAD3RSTlMAInZUiRDNmWbv3US7\n",
       "qzJazP2FAAAACXBIWXMAAA7EAAAOxAGVKw4bAAABdUlEQVRIx2NgYBBgIADQFTAZENKxCY1vQkgD\n",
       "A1MDCpc1gaAOhlQUHnsDYR3tKDxOwhoYOAOQeWZE6GBDcUcJEAfpxrnAQyyogoH1Alz61TrGBgaW\n",
       "C8g6MoC4gOkS+wKYgIMlA8cHeLgk+fgyMHCAQ6dqFQisZVgMFBDg+MoLs5jPoIqB9wBMB2MAgysD\n",
       "A/MEZDtmAxUxsEOCOB5IsTJMYuBUANLfIPIhQF/zfUDTwQBWAgRcBUCC+yvD+wdAejnEEpAMN4od\n",
       "i0HEfgFWeAAC7dNESO8AWsrAvADZH4cYGGI23GRggavhucBwFs5hNmDgBXr0ALIdwKCwf1rJsBmR\n",
       "CC5w/4Bz3viorAMKOSDreMXAEK7EXIFIwKxX1D/COQ7M0zYA/bcBWQfXA4woZkFPnFIoPI4CNGk3\n",
       "hkj0HFOByj2IJr2I4QqaCOMBVH4MmryF+gY0ER60bMuoQCjpKjIMUzBawg3NEg6pLBnSJRwMjJZw\n",
       "g6qEAwDfQIR1KQ1xmQAAAABJRU5ErkJggg==\n",
       "\" style=\"display:inline;vertical-align:middle;\" /></a></span>"
      ],
      "text/plain": [
       "{x in Complex, y in Complex, z in Complex} |- (x * y * z) =  \\\\ (x * y * z)"
      ]
     },
     "metadata": {},
     "output_type": "display_data"
    }
   ],
   "source": [
    "expr.factorization(Mult(x, y), 'left', assumptions=assumptions)"
   ]
  },
  {
   "cell_type": "code",
   "execution_count": 60,
   "metadata": {},
   "outputs": [
    {
     "data": {
      "text/html": [
       "<span style=\"font-size:20px;\"><a class=\"ProveItLink\" href=\"../__pv_it/theorems/6bf1a18c2e3498be826f1c5ef7caab578b7ee8c80/expr.ipynb\"><img src=\"data:image/png;base64,iVBORw0KGgoAAAANSUhEUgAAADQAAAAQBAMAAACra0H4AAAAMFBMVEX///8AAAAAAAAAAAAAAAAA\n",
       "AAAAAAAAAAAAAAAAAAAAAAAAAAAAAAAAAAAAAAAAAAAv3aB7AAAAD3RSTlMAEHarMolUmd1mIs3v\n",
       "RLtmgJDEAAAACXBIWXMAAA7EAAAOxAGVKw4bAAAA0klEQVQY02NgwAIY47o3LQnAJsOgfJJB/F8B\n",
       "Nhl2XaCOeVil3PkEGBiYUaT0Ojo2gGhDPpB9E5BkbitCGQ+WQxlCyiKhCUCaayNUgMvAFcoqYDJi\n",
       "bwDS3AugAiwBNyEMzgWcH5lB5nLDDOYquARVw8AOtpvBpwMIHoDtWgpTxaMApuTg7nnIB2PdX8AI\n",
       "9AcDB1zqOshfDBcY5C7YMLCCBJgUEKFhwACyJt+xhuEaWGQbwu/bF4i1MzCIK7FVJoAFhN8KwEP+\n",
       "fPsClLC7+gISUFAAAPAALk9BTu5+AAAAAElFTkSuQmCC\n",
       "\" style=\"display:inline;vertical-align:middle;\" /></a>, <a class=\"ProveItLink\" href=\"../__pv_it/theorems/e7a733f6071838c624bab1a2ecdcd3efaa06f4b40/expr.ipynb\"><img src=\"data:image/png;base64,iVBORw0KGgoAAAANSUhEUgAAADMAAAATBAMAAADPIygvAAAAMFBMVEX///8AAAAAAAAAAAAAAAAA\n",
       "AAAAAAAAAAAAAAAAAAAAAAAAAAAAAAAAAAAAAAAAAAAv3aB7AAAAD3RSTlMAEHaZZquJVO8y3btE\n",
       "zSKD2s2pAAAACXBIWXMAAA7EAAAOxAGVKw4bAAAA5UlEQVQoz2NgwALEdt3Vm4ZNgoEpwoHRfjNW\n",
       "KaNjDAwsWKU4DTYCyWAUMe1Vqy4AKVaBDUBSBFnmrCKE5uYzgDAYlR0YREEMvotQJU85EyAMNvYG\n",
       "Bn8Qg/cBVGoajwOEMZ15AUM0WApm8GMeBQhDgEOBoQnEmLEKCDaA7YIayHBegPMniJaG6eIGuxAE\n",
       "bBmYGkA0F0yKB+wvHiDeysAdAA4eBXhoHAXrYGAwZTgPcdF1eBjutWOsAvlNNMke4mzRPQKwkN/x\n",
       "yw7CyoWKHNsFDig4YLvA2M6AHXApsCbgkGJ3ssEhAwCM+y13eiDJfgAAAABJRU5ErkJggg==\n",
       "\" style=\"display:inline;vertical-align:middle;\" /></a>, <a class=\"ProveItLink\" href=\"../__pv_it/demonstrations/38be8260be263ca8b59e57b7b7d03d561faffd580/expr.ipynb\"><img src=\"data:image/png;base64,iVBORw0KGgoAAAANSUhEUgAAADMAAAAQBAMAAABJt1qBAAAAMFBMVEX///8AAAAAAAAAAAAAAAAA\n",
       "AAAAAAAAAAAAAAAAAAAAAAAAAAAAAAAAAAAAAAAAAAAv3aB7AAAAD3RSTlMAMt0iZhDNdom7q0RU\n",
       "75mOI7qcAAAACXBIWXMAAA7EAAAOxAGVKw4bAAAAxklEQVQY02NgwAIiJqUVS2CTYGBf68D6fh5W\n",
       "qec7GBhYsEoxPpgKJNehiFUqKSUAKa6ACUAyBFlmWymE5mR+ANOvJGACoplToQJWjA1QVljFjAUg\n",
       "ms0AKiDB7QBlmTJwBIClYAbbcRfAmKytYEpWCQgmgO2CGchgDqEiYXxOsAtBAGgy2EAmmBQ32F/c\n",
       "QHyGgQHsDHa4Dc93AYlnQLfPmN4kABbJgYfhtMesh4B+42A4mw0RiZodAAv5uZ8eowbejknggIIB\n",
       "AAVvKXRyQEWZAAAAAElFTkSuQmCC\n",
       "\" style=\"display:inline;vertical-align:middle;\" /></a> <a class=\"ProveItLink\" href=\"../__pv_it/demonstrations/4c402e2bd6a2df5f87e5745ec0fa939b392a73ab0/proof.ipynb\" style=\"text-decoration: none\">&nbsp;&#x22A2;&nbsp;&nbsp;</a><a class=\"ProveItLink\" href=\"../__pv_it/demonstrations/78b87b1e0653e48917601edfe4504a69ae4d05340/expr.ipynb\"><img src=\"data:image/png;base64,iVBORw0KGgoAAAANSUhEUgAAALcAAAAVBAMAAAD2lGJJAAAAMFBMVEX///8AAAAAAAAAAAAAAAAA\n",
       "AAAAAAAAAAAAAAAAAAAAAAAAAAAAAAAAAAAAAAAAAAAv3aB7AAAAD3RSTlMAInZUiRDNmWbv3US7\n",
       "qzJazP2FAAAACXBIWXMAAA7EAAAOxAGVKw4bAAACY0lEQVQ4y41VTWgTQRT+NrvbTbJuCIIg4mEt\n",
       "heihEFDUeDGo7UEqLEUtQqpFEAQvpUiJFXFV0IvQpaKXXoIehAol6EVPaUtvUghSQcHDgnopQttD\n",
       "xVPxzaY7S2aXzD7IDO/n+/LezHuzAIqQiJJklKKCgExZFmbacZsc9Z4tJyCVo3GTHJVxAX1CTt7n\n",
       "iJY0qFuA4crDspOiJQ3qGZBDCnkpGtKgcg5OpiG/LRrSoPpc3KVtdPD6BX77o3XobR6xsajQCVwS\n",
       "gQxVWPAP8jvo//rrPFdKLsYBrR0kNZn5YjRCV7WC7BaPuznCiJ8G57wQSDss5erAKk/CwKA9Eyqa\n",
       "6mGWbmoCb2gtZnes8IYK5RlYS3x+HAzRVhEzJxQOQONd9AizzrdQ+UmZ/gDoL+aJD0ans27QpmMO\n",
       "OXtPIbnMCDZF8vmgrKEQBB/TnUr/0uIQfo5otzphuc4M5lnLmTvY9EMFSuD5lEi+PwKBsTF5y5aW\n",
       "U9glIi8oEK2iziukKo5FLB+pFOCMeOYMZbqIhsvcxhWuTCPj0bE0sALUmt+hcc++Nta4opZh0fZc\n",
       "zJxQOA6EF6p/tjxUuXeNkSC7xLrs7O97+BANX9v8x5U/IwOLe53XJYQqrK5c9MMcdsc8M3rKHqBF\n",
       "/WFUsQGM9av1yKOvl7a5UlVfNWl7J5ITSkPlDsdM2aeeRN7xcw/pwc03kfdjo6WJr5LSEEMSUF0y\n",
       "TL9DCY/SMK6Vpc9U/CnrSk5/QVudfsuC6zXWxejDcYLlHuR526LLVdgk1gTX6VIzBVOtB7n6+D7r\n",
       "uiIfk57flITvpRx1BPgPRlyDlJm2kagAAAAASUVORK5CYII=\n",
       "\" style=\"display:inline;vertical-align:middle;\" /></a></span>"
      ],
      "text/plain": [
       "{x in Complex, y in Complex, z in Complex} |- (x * y * z) = (z * x * y)"
      ]
     },
     "metadata": {},
     "output_type": "display_data"
    }
   ],
   "source": [
    "expr.factorization((x, y), 'right', assumptions=assumptions)"
   ]
  },
  {
   "cell_type": "code",
   "execution_count": 61,
   "metadata": {},
   "outputs": [
    {
     "data": {
      "text/html": [
       "<span style=\"font-size:20px;\"><a class=\"ProveItLink\" href=\"../__pv_it/theorems/6bf1a18c2e3498be826f1c5ef7caab578b7ee8c80/expr.ipynb\"><img src=\"data:image/png;base64,iVBORw0KGgoAAAANSUhEUgAAADQAAAAQBAMAAACra0H4AAAAMFBMVEX///8AAAAAAAAAAAAAAAAA\n",
       "AAAAAAAAAAAAAAAAAAAAAAAAAAAAAAAAAAAAAAAAAAAv3aB7AAAAD3RSTlMAEHarMolUmd1mIs3v\n",
       "RLtmgJDEAAAACXBIWXMAAA7EAAAOxAGVKw4bAAAA0klEQVQY02NgwAIY47o3LQnAJsOgfJJB/F8B\n",
       "Nhl2XaCOeVil3PkEGBiYUaT0Ojo2gGhDPpB9E5BkbitCGQ+WQxlCyiKhCUCaayNUgMvAFcoqYDJi\n",
       "bwDS3AugAiwBNyEMzgWcH5lB5nLDDOYquARVw8AOtpvBpwMIHoDtWgpTxaMApuTg7nnIB2PdX8AI\n",
       "9AcDB1zqOshfDBcY5C7YMLCCBJgUEKFhwACyJt+xhuEaWGQbwu/bF4i1MzCIK7FVJoAFhN8KwEP+\n",
       "fPsClLC7+gISUFAAAPAALk9BTu5+AAAAAElFTkSuQmCC\n",
       "\" style=\"display:inline;vertical-align:middle;\" /></a>, <a class=\"ProveItLink\" href=\"../__pv_it/theorems/e7a733f6071838c624bab1a2ecdcd3efaa06f4b40/expr.ipynb\"><img src=\"data:image/png;base64,iVBORw0KGgoAAAANSUhEUgAAADMAAAATBAMAAADPIygvAAAAMFBMVEX///8AAAAAAAAAAAAAAAAA\n",
       "AAAAAAAAAAAAAAAAAAAAAAAAAAAAAAAAAAAAAAAAAAAv3aB7AAAAD3RSTlMAEHaZZquJVO8y3btE\n",
       "zSKD2s2pAAAACXBIWXMAAA7EAAAOxAGVKw4bAAAA5UlEQVQoz2NgwALEdt3Vm4ZNgoEpwoHRfjNW\n",
       "KaNjDAwsWKU4DTYCyWAUMe1Vqy4AKVaBDUBSBFnmrCKE5uYzgDAYlR0YREEMvotQJU85EyAMNvYG\n",
       "Bn8Qg/cBVGoajwOEMZ15AUM0WApm8GMeBQhDgEOBoQnEmLEKCDaA7YIayHBegPMniJaG6eIGuxAE\n",
       "bBmYGkA0F0yKB+wvHiDeysAdAA4eBXhoHAXrYGAwZTgPcdF1eBjutWOsAvlNNMke4mzRPQKwkN/x\n",
       "yw7CyoWKHNsFDig4YLvA2M6AHXApsCbgkGJ3ssEhAwCM+y13eiDJfgAAAABJRU5ErkJggg==\n",
       "\" style=\"display:inline;vertical-align:middle;\" /></a>, <a class=\"ProveItLink\" href=\"../__pv_it/demonstrations/38be8260be263ca8b59e57b7b7d03d561faffd580/expr.ipynb\"><img src=\"data:image/png;base64,iVBORw0KGgoAAAANSUhEUgAAADMAAAAQBAMAAABJt1qBAAAAMFBMVEX///8AAAAAAAAAAAAAAAAA\n",
       "AAAAAAAAAAAAAAAAAAAAAAAAAAAAAAAAAAAAAAAAAAAv3aB7AAAAD3RSTlMAMt0iZhDNdom7q0RU\n",
       "75mOI7qcAAAACXBIWXMAAA7EAAAOxAGVKw4bAAAAxklEQVQY02NgwAIiJqUVS2CTYGBf68D6fh5W\n",
       "qec7GBhYsEoxPpgKJNehiFUqKSUAKa6ACUAyBFlmWymE5mR+ANOvJGACoplToQJWjA1QVljFjAUg\n",
       "ms0AKiDB7QBlmTJwBIClYAbbcRfAmKytYEpWCQgmgO2CGchgDqEiYXxOsAtBAGgy2EAmmBQ32F/c\n",
       "QHyGgQHsDHa4Dc93AYlnQLfPmN4kABbJgYfhtMesh4B+42A4mw0RiZodAAv5uZ8eowbejknggIIB\n",
       "AAVvKXRyQEWZAAAAAElFTkSuQmCC\n",
       "\" style=\"display:inline;vertical-align:middle;\" /></a> <a class=\"ProveItLink\" href=\"../__pv_it/demonstrations/be1f416c7089d18758aeaa542b6d5002fd94f7070/proof.ipynb\" style=\"text-decoration: none\">&nbsp;&#x22A2;&nbsp;&nbsp;</a><a class=\"ProveItLink\" href=\"../__pv_it/demonstrations/58cf6a1d70bd87b12abb63f1355c7d802aaa292a0/expr.ipynb\"><img src=\"data:image/png;base64,iVBORw0KGgoAAAANSUhEUgAAALcAAAAVBAMAAAD2lGJJAAAAMFBMVEX///8AAAAAAAAAAAAAAAAA\n",
       "AAAAAAAAAAAAAAAAAAAAAAAAAAAAAAAAAAAAAAAAAAAv3aB7AAAAD3RSTlMAInZUiRDNmWbv3US7\n",
       "qzJazP2FAAAACXBIWXMAAA7EAAAOxAGVKw4bAAACXklEQVQ4y41VTWjUQBT+dpM0u5vNsgiCiIdY\n",
       "CquHwoKirheD2h6kQihqEba6CILgpRQpa0WMCnoRGip68bLorUJZ9KKn/tCbCEEqKHgIqJcitD0U\n",
       "PBXfZJsJTpZMHiTDe/m+L29m3psBUIXEcv2CUlYIyNdlMMNKxuSsd+x1HFI7kgzJWXkX0Fpy8QFH\n",
       "jGRh3QR0Vw4rTImRLKynQBEZ7IUYyMIqOjiRRfyWGMjCGnBxh4bx4Wvn+e6Pt6H5HLGxmKMVuCgS\n",
       "iaXVXEzyQGUhOMA3ZPDrr3OA6odJTeW/6J3ok91AYYvjbowx4SfhOi+E5u9NRVU8zHHxK0NrPCMd\n",
       "w9Ys7VQLb+hdLeyY0Q5V6rMwl3n/OBihoSFmTqyflM8PHtgPlZfUQ8w53wD6+SvSg96rrOs0aJhH\n",
       "0dpzyC4xzqYoTiyHUPMxThuJFBBgJkxzi8HQUwNKrOSMHWwGkYNc+OVjH3EsOZVdjsO+WAHhT2F4\n",
       "bIKEq2p8UjSLo7HKB5oKcFpcc8aaQd6LjwgXcacZ27hMy9LBKtDsfofKv5R9fOaOUodJwzMxc2IR\n",
       "qhxX1TEgcrRPpgebtnKZVdmZ33fxPm4+3/jLnT9jQ4u9yvvfWAndxxLv08ra6oUgSmh3wjOosnUb\n",
       "G8DEoNKODzltvbbNHVt52aXhrShOLEyefcDPXRWN21xg2jr5mK1/F6Ug0VqqeCrlOiKkxxpN7dCD\n",
       "fQ6lUVytS48pYqkt7XmqeJueFSH2Gusi7FCSuYKSZdqp9xfrxKYQPFXrJpUS1oTy6F5q4uUqb5PU\n",
       "O6XPfSlnHQb+AUcHgys6DOwyAAAAAElFTkSuQmCC\n",
       "\" style=\"display:inline;vertical-align:middle;\" /></a></span>"
      ],
      "text/plain": [
       "{x in Complex, y in Complex, z in Complex} |- (x * y * z) = (y * z * x)"
      ]
     },
     "metadata": {},
     "output_type": "display_data"
    }
   ],
   "source": [
    "expr.factorization((y, z), 'left', assumptions=assumptions)"
   ]
  },
  {
   "cell_type": "code",
   "execution_count": 62,
   "metadata": {},
   "outputs": [
    {
     "data": {
      "text/html": [
       "<span style=\"font-size:20px;\"><a class=\"ProveItLink\" href=\"../__pv_it/theorems/6bf1a18c2e3498be826f1c5ef7caab578b7ee8c80/expr.ipynb\"><img src=\"data:image/png;base64,iVBORw0KGgoAAAANSUhEUgAAADQAAAAQBAMAAACra0H4AAAAMFBMVEX///8AAAAAAAAAAAAAAAAA\n",
       "AAAAAAAAAAAAAAAAAAAAAAAAAAAAAAAAAAAAAAAAAAAv3aB7AAAAD3RSTlMAEHarMolUmd1mIs3v\n",
       "RLtmgJDEAAAACXBIWXMAAA7EAAAOxAGVKw4bAAAA0klEQVQY02NgwAIY47o3LQnAJsOgfJJB/F8B\n",
       "Nhl2XaCOeVil3PkEGBiYUaT0Ojo2gGhDPpB9E5BkbitCGQ+WQxlCyiKhCUCaayNUgMvAFcoqYDJi\n",
       "bwDS3AugAiwBNyEMzgWcH5lB5nLDDOYquARVw8AOtpvBpwMIHoDtWgpTxaMApuTg7nnIB2PdX8AI\n",
       "9AcDB1zqOshfDBcY5C7YMLCCBJgUEKFhwACyJt+xhuEaWGQbwu/bF4i1MzCIK7FVJoAFhN8KwEP+\n",
       "fPsClLC7+gISUFAAAPAALk9BTu5+AAAAAElFTkSuQmCC\n",
       "\" style=\"display:inline;vertical-align:middle;\" /></a>, <a class=\"ProveItLink\" href=\"../__pv_it/theorems/e7a733f6071838c624bab1a2ecdcd3efaa06f4b40/expr.ipynb\"><img src=\"data:image/png;base64,iVBORw0KGgoAAAANSUhEUgAAADMAAAATBAMAAADPIygvAAAAMFBMVEX///8AAAAAAAAAAAAAAAAA\n",
       "AAAAAAAAAAAAAAAAAAAAAAAAAAAAAAAAAAAAAAAAAAAv3aB7AAAAD3RSTlMAEHaZZquJVO8y3btE\n",
       "zSKD2s2pAAAACXBIWXMAAA7EAAAOxAGVKw4bAAAA5UlEQVQoz2NgwALEdt3Vm4ZNgoEpwoHRfjNW\n",
       "KaNjDAwsWKU4DTYCyWAUMe1Vqy4AKVaBDUBSBFnmrCKE5uYzgDAYlR0YREEMvotQJU85EyAMNvYG\n",
       "Bn8Qg/cBVGoajwOEMZ15AUM0WApm8GMeBQhDgEOBoQnEmLEKCDaA7YIayHBegPMniJaG6eIGuxAE\n",
       "bBmYGkA0F0yKB+wvHiDeysAdAA4eBXhoHAXrYGAwZTgPcdF1eBjutWOsAvlNNMke4mzRPQKwkN/x\n",
       "yw7CyoWKHNsFDig4YLvA2M6AHXApsCbgkGJ3ssEhAwCM+y13eiDJfgAAAABJRU5ErkJggg==\n",
       "\" style=\"display:inline;vertical-align:middle;\" /></a>, <a class=\"ProveItLink\" href=\"../__pv_it/demonstrations/38be8260be263ca8b59e57b7b7d03d561faffd580/expr.ipynb\"><img src=\"data:image/png;base64,iVBORw0KGgoAAAANSUhEUgAAADMAAAAQBAMAAABJt1qBAAAAMFBMVEX///8AAAAAAAAAAAAAAAAA\n",
       "AAAAAAAAAAAAAAAAAAAAAAAAAAAAAAAAAAAAAAAAAAAv3aB7AAAAD3RSTlMAMt0iZhDNdom7q0RU\n",
       "75mOI7qcAAAACXBIWXMAAA7EAAAOxAGVKw4bAAAAxklEQVQY02NgwAIiJqUVS2CTYGBf68D6fh5W\n",
       "qec7GBhYsEoxPpgKJNehiFUqKSUAKa6ACUAyBFlmWymE5mR+ANOvJGACoplToQJWjA1QVljFjAUg\n",
       "ms0AKiDB7QBlmTJwBIClYAbbcRfAmKytYEpWCQgmgO2CGchgDqEiYXxOsAtBAGgy2EAmmBQ32F/c\n",
       "QHyGgQHsDHa4Dc93AYlnQLfPmN4kABbJgYfhtMesh4B+42A4mw0RiZodAAv5uZ8eowbejknggIIB\n",
       "AAVvKXRyQEWZAAAAAElFTkSuQmCC\n",
       "\" style=\"display:inline;vertical-align:middle;\" /></a> <a class=\"ProveItLink\" href=\"../__pv_it/demonstrations/fa84bf720ffce6bfff3291e96a1c799e15e7f9d00/proof.ipynb\" style=\"text-decoration: none\">&nbsp;&#x22A2;&nbsp;&nbsp;</a><a class=\"ProveItLink\" href=\"../__pv_it/demonstrations/9e5ca3280d86fa16e7363c71a04f86f753116f270/expr.ipynb\"><img src=\"data:image/png;base64,iVBORw0KGgoAAAANSUhEUgAAAGIAAAAuBAMAAAAhEdEqAAAAMFBMVEX///8AAAAAAAAAAAAAAAAA\n",
       "AAAAAAAAAAAAAAAAAAAAAAAAAAAAAAAAAAAAAAAAAAAv3aB7AAAAD3RSTlMAInZUiRDNmWbv3US7\n",
       "qzJazP2FAAAACXBIWXMAAA7EAAAOxAGVKw4bAAABdUlEQVRIx2NgYBBgIADQFTAZENKxCY1vQkgD\n",
       "A1MDCpc1gaAOhlQUHnsDYR3tKDxOwhoYOAOQeWZE6GBDcUcJEAfpxrnAQyyogoH1Alz61TrGBgaW\n",
       "C8g6MoC4gOkS+wKYgIMlA8cHeLgk+fgyMHCAQ6dqFQisZVgMFBDg+MoLs5jPoIqB9wBMB2MAgysD\n",
       "A/MEZDtmAxUxsEOCOB5IsTJMYuBUANLfIPIhQF/zfUDTwQBWAgRcBUCC+yvD+wdAejnEEpAMN4od\n",
       "i0HEfgFWeAAC7dNESO8AWsrAvADZH4cYGGI23GRggavhucBwFs5hNmDgBXr0ALIdwKCwf1rJsBmR\n",
       "CC5w/4Bz3viorAMKOSDreMXAEK7EXIFIwKxX1D/COQ7M0zYA/bcBWQfXA4woZkFPnFIoPI4CNGk3\n",
       "hkj0HFOByj2IJr2I4QqaCOMBVH4MmryF+gY0ER60bMuoQCjpKjIMUzBawg3NEg6pLBnSJRwMjJZw\n",
       "g6qEAwDfQIR1KQ1xmQAAAABJRU5ErkJggg==\n",
       "\" style=\"display:inline;vertical-align:middle;\" /></a></span>"
      ],
      "text/plain": [
       "{x in Complex, y in Complex, z in Complex} |- (x * y * z) =  \\\\ (x * y * z)"
      ]
     },
     "metadata": {},
     "output_type": "display_data"
    }
   ],
   "source": [
    "expr.factorization(Mult(y, z), 'right', assumptions=assumptions)"
   ]
  },
  {
   "cell_type": "code",
   "execution_count": 63,
   "metadata": {},
   "outputs": [
    {
     "data": {
      "text/html": [
       "<span style=\"font-size:20px;\"><a class=\"ProveItLink\" href=\"../__pv_it/theorems/6bf1a18c2e3498be826f1c5ef7caab578b7ee8c80/expr.ipynb\"><img src=\"data:image/png;base64,iVBORw0KGgoAAAANSUhEUgAAADQAAAAQBAMAAACra0H4AAAAMFBMVEX///8AAAAAAAAAAAAAAAAA\n",
       "AAAAAAAAAAAAAAAAAAAAAAAAAAAAAAAAAAAAAAAAAAAv3aB7AAAAD3RSTlMAEHarMolUmd1mIs3v\n",
       "RLtmgJDEAAAACXBIWXMAAA7EAAAOxAGVKw4bAAAA0klEQVQY02NgwAIY47o3LQnAJsOgfJJB/F8B\n",
       "Nhl2XaCOeVil3PkEGBiYUaT0Ojo2gGhDPpB9E5BkbitCGQ+WQxlCyiKhCUCaayNUgMvAFcoqYDJi\n",
       "bwDS3AugAiwBNyEMzgWcH5lB5nLDDOYquARVw8AOtpvBpwMIHoDtWgpTxaMApuTg7nnIB2PdX8AI\n",
       "9AcDB1zqOshfDBcY5C7YMLCCBJgUEKFhwACyJt+xhuEaWGQbwu/bF4i1MzCIK7FVJoAFhN8KwEP+\n",
       "fPsClLC7+gISUFAAAPAALk9BTu5+AAAAAElFTkSuQmCC\n",
       "\" style=\"display:inline;vertical-align:middle;\" /></a>, <a class=\"ProveItLink\" href=\"../__pv_it/theorems/e7a733f6071838c624bab1a2ecdcd3efaa06f4b40/expr.ipynb\"><img src=\"data:image/png;base64,iVBORw0KGgoAAAANSUhEUgAAADMAAAATBAMAAADPIygvAAAAMFBMVEX///8AAAAAAAAAAAAAAAAA\n",
       "AAAAAAAAAAAAAAAAAAAAAAAAAAAAAAAAAAAAAAAAAAAv3aB7AAAAD3RSTlMAEHaZZquJVO8y3btE\n",
       "zSKD2s2pAAAACXBIWXMAAA7EAAAOxAGVKw4bAAAA5UlEQVQoz2NgwALEdt3Vm4ZNgoEpwoHRfjNW\n",
       "KaNjDAwsWKU4DTYCyWAUMe1Vqy4AKVaBDUBSBFnmrCKE5uYzgDAYlR0YREEMvotQJU85EyAMNvYG\n",
       "Bn8Qg/cBVGoajwOEMZ15AUM0WApm8GMeBQhDgEOBoQnEmLEKCDaA7YIayHBegPMniJaG6eIGuxAE\n",
       "bBmYGkA0F0yKB+wvHiDeysAdAA4eBXhoHAXrYGAwZTgPcdF1eBjutWOsAvlNNMke4mzRPQKwkN/x\n",
       "yw7CyoWKHNsFDig4YLvA2M6AHXApsCbgkGJ3ssEhAwCM+y13eiDJfgAAAABJRU5ErkJggg==\n",
       "\" style=\"display:inline;vertical-align:middle;\" /></a>, <a class=\"ProveItLink\" href=\"../__pv_it/demonstrations/38be8260be263ca8b59e57b7b7d03d561faffd580/expr.ipynb\"><img src=\"data:image/png;base64,iVBORw0KGgoAAAANSUhEUgAAADMAAAAQBAMAAABJt1qBAAAAMFBMVEX///8AAAAAAAAAAAAAAAAA\n",
       "AAAAAAAAAAAAAAAAAAAAAAAAAAAAAAAAAAAAAAAAAAAv3aB7AAAAD3RSTlMAMt0iZhDNdom7q0RU\n",
       "75mOI7qcAAAACXBIWXMAAA7EAAAOxAGVKw4bAAAAxklEQVQY02NgwAIiJqUVS2CTYGBf68D6fh5W\n",
       "qec7GBhYsEoxPpgKJNehiFUqKSUAKa6ACUAyBFlmWymE5mR+ANOvJGACoplToQJWjA1QVljFjAUg\n",
       "ms0AKiDB7QBlmTJwBIClYAbbcRfAmKytYEpWCQgmgO2CGchgDqEiYXxOsAtBAGgy2EAmmBQ32F/c\n",
       "QHyGgQHsDHa4Dc93AYlnQLfPmN4kABbJgYfhtMesh4B+42A4mw0RiZodAAv5uZ8eowbejknggIIB\n",
       "AAVvKXRyQEWZAAAAAElFTkSuQmCC\n",
       "\" style=\"display:inline;vertical-align:middle;\" /></a> <a class=\"ProveItLink\" href=\"../__pv_it/demonstrations/799d2a8263168570c6ea0a873ff544a7540c2f0c0/proof.ipynb\" style=\"text-decoration: none\">&nbsp;&#x22A2;&nbsp;&nbsp;</a><a class=\"ProveItLink\" href=\"../__pv_it/demonstrations/66b45d1e6453a90203676de911d9697519950e7f0/expr.ipynb\"><img src=\"data:image/png;base64,iVBORw0KGgoAAAANSUhEUgAAALcAAAAVBAMAAAD2lGJJAAAAMFBMVEX///8AAAAAAAAAAAAAAAAA\n",
       "AAAAAAAAAAAAAAAAAAAAAAAAAAAAAAAAAAAAAAAAAAAv3aB7AAAAD3RSTlMAInZUiRDNmWbv3US7\n",
       "qzJazP2FAAAACXBIWXMAAA7EAAAOxAGVKw4bAAACNklEQVQ4y41VTUgbURD+kt01f00IQqGUHlIR\n",
       "Ug9CwCKNl4ZSPRQLi5SKEK0IhYIXD0VipXTpQS+CIaIXL6E9CAoS2kt78gevwiJeBA+B0osI2oOl\n",
       "J3HexrxtZpe8Hdh9zM/37cx7M28BpKGQkJ9RiXICwjlVWCLjtalR38TrMZTyyGtSo8IWYEyqyTtM\n",
       "bgmCegtELHVYdIZbgqAWgRgCyCo3BEHFTPQHIX/HDUFQHRbe0zLSO/Fcnv5ICYYtI862Q7QDLznQ\n",
       "g0pt1u/JA8laGAd020lqJnwUqTZdhTyilzJualgQLzj7vOmI3SylBfW6+0BmpGtlLNNJTeIrvdPR\n",
       "q2TzhFK5D0juyvkxMUhLnmfOUbgLXbbUL/rmKUCfWCc+RBqd9YYWAxXEMrcKySuBueDk/6GMv40a\n",
       "B6ViEr5CAZciDA02IC5aLnGFi3pTQcjx/PQhl6gN590JV9kxU9dEVBYFkpY2ZFGUT4/L8oNKAQb4\n",
       "nntQCQvupM0iXKZtqWIfKNZOoEvPHRuHUtFySNKyxDP3oPoAt8UOBQmiu6LLnv6ew3d3+OzEP6mc\n",
       "D3dv33Zei3BU6mD/RV16P2KHTjpSwBkw2qWV3EvOOM7+kUpBW6vRssXJOUpHftr1jj/7RBduvIZ4\n",
       "3TNaOr+VQlUe4oNqkSF67vtcSkMYyymvKe9V1pKcsUJLiZ495vqCYx79wEuw14Y8nkkWqFwxiUXm\n",
       "epKtBWAqtiHXPs+LrkvLMWn7T/H5X6pRD4Eb9N6Cd228GTcAAAAASUVORK5CYII=\n",
       "\" style=\"display:inline;vertical-align:middle;\" /></a></span>"
      ],
      "text/plain": [
       "{x in Complex, y in Complex, z in Complex} |- (x * y * z) = (x * z * y)"
      ]
     },
     "metadata": {},
     "output_type": "display_data"
    }
   ],
   "source": [
    "expr.factorization(Mult(x, z), 'left', assumptions=assumptions)"
   ]
  },
  {
   "cell_type": "code",
   "execution_count": 64,
   "metadata": {},
   "outputs": [
    {
     "data": {
      "text/html": [
       "<span style=\"font-size:20px;\"><a class=\"ProveItLink\" href=\"../__pv_it/theorems/6bf1a18c2e3498be826f1c5ef7caab578b7ee8c80/expr.ipynb\"><img src=\"data:image/png;base64,iVBORw0KGgoAAAANSUhEUgAAADQAAAAQBAMAAACra0H4AAAAMFBMVEX///8AAAAAAAAAAAAAAAAA\n",
       "AAAAAAAAAAAAAAAAAAAAAAAAAAAAAAAAAAAAAAAAAAAv3aB7AAAAD3RSTlMAEHarMolUmd1mIs3v\n",
       "RLtmgJDEAAAACXBIWXMAAA7EAAAOxAGVKw4bAAAA0klEQVQY02NgwAIY47o3LQnAJsOgfJJB/F8B\n",
       "Nhl2XaCOeVil3PkEGBiYUaT0Ojo2gGhDPpB9E5BkbitCGQ+WQxlCyiKhCUCaayNUgMvAFcoqYDJi\n",
       "bwDS3AugAiwBNyEMzgWcH5lB5nLDDOYquARVw8AOtpvBpwMIHoDtWgpTxaMApuTg7nnIB2PdX8AI\n",
       "9AcDB1zqOshfDBcY5C7YMLCCBJgUEKFhwACyJt+xhuEaWGQbwu/bF4i1MzCIK7FVJoAFhN8KwEP+\n",
       "fPsClLC7+gISUFAAAPAALk9BTu5+AAAAAElFTkSuQmCC\n",
       "\" style=\"display:inline;vertical-align:middle;\" /></a>, <a class=\"ProveItLink\" href=\"../__pv_it/theorems/e7a733f6071838c624bab1a2ecdcd3efaa06f4b40/expr.ipynb\"><img src=\"data:image/png;base64,iVBORw0KGgoAAAANSUhEUgAAADMAAAATBAMAAADPIygvAAAAMFBMVEX///8AAAAAAAAAAAAAAAAA\n",
       "AAAAAAAAAAAAAAAAAAAAAAAAAAAAAAAAAAAAAAAAAAAv3aB7AAAAD3RSTlMAEHaZZquJVO8y3btE\n",
       "zSKD2s2pAAAACXBIWXMAAA7EAAAOxAGVKw4bAAAA5UlEQVQoz2NgwALEdt3Vm4ZNgoEpwoHRfjNW\n",
       "KaNjDAwsWKU4DTYCyWAUMe1Vqy4AKVaBDUBSBFnmrCKE5uYzgDAYlR0YREEMvotQJU85EyAMNvYG\n",
       "Bn8Qg/cBVGoajwOEMZ15AUM0WApm8GMeBQhDgEOBoQnEmLEKCDaA7YIayHBegPMniJaG6eIGuxAE\n",
       "bBmYGkA0F0yKB+wvHiDeysAdAA4eBXhoHAXrYGAwZTgPcdF1eBjutWOsAvlNNMke4mzRPQKwkN/x\n",
       "yw7CyoWKHNsFDig4YLvA2M6AHXApsCbgkGJ3ssEhAwCM+y13eiDJfgAAAABJRU5ErkJggg==\n",
       "\" style=\"display:inline;vertical-align:middle;\" /></a>, <a class=\"ProveItLink\" href=\"../__pv_it/demonstrations/38be8260be263ca8b59e57b7b7d03d561faffd580/expr.ipynb\"><img src=\"data:image/png;base64,iVBORw0KGgoAAAANSUhEUgAAADMAAAAQBAMAAABJt1qBAAAAMFBMVEX///8AAAAAAAAAAAAAAAAA\n",
       "AAAAAAAAAAAAAAAAAAAAAAAAAAAAAAAAAAAAAAAAAAAv3aB7AAAAD3RSTlMAMt0iZhDNdom7q0RU\n",
       "75mOI7qcAAAACXBIWXMAAA7EAAAOxAGVKw4bAAAAxklEQVQY02NgwAIiJqUVS2CTYGBf68D6fh5W\n",
       "qec7GBhYsEoxPpgKJNehiFUqKSUAKa6ACUAyBFlmWymE5mR+ANOvJGACoplToQJWjA1QVljFjAUg\n",
       "ms0AKiDB7QBlmTJwBIClYAbbcRfAmKytYEpWCQgmgO2CGchgDqEiYXxOsAtBAGgy2EAmmBQ32F/c\n",
       "QHyGgQHsDHa4Dc93AYlnQLfPmN4kABbJgYfhtMesh4B+42A4mw0RiZodAAv5uZ8eowbejknggIIB\n",
       "AAVvKXRyQEWZAAAAAElFTkSuQmCC\n",
       "\" style=\"display:inline;vertical-align:middle;\" /></a> <a class=\"ProveItLink\" href=\"../__pv_it/demonstrations/87cf4610b539e56fe65b6472656d63a349f5b97d0/proof.ipynb\" style=\"text-decoration: none\">&nbsp;&#x22A2;&nbsp;&nbsp;</a><a class=\"ProveItLink\" href=\"../__pv_it/demonstrations/77e44804d8b0ecb759f922a5136715fe83f4a7fb0/expr.ipynb\"><img src=\"data:image/png;base64,iVBORw0KGgoAAAANSUhEUgAAALcAAAAVBAMAAAD2lGJJAAAAMFBMVEX///8AAAAAAAAAAAAAAAAA\n",
       "AAAAAAAAAAAAAAAAAAAAAAAAAAAAAAAAAAAAAAAAAAAv3aB7AAAAD3RSTlMAInZUiRDNmWbv3US7\n",
       "qzJazP2FAAAACXBIWXMAAA7EAAAOxAGVKw4bAAACRUlEQVQ4y41VTWgTQRT+kt1t/pcgCFI8RClE\n",
       "D0KgIsaLQWwPpcJSpCKkGoSC0EsPpaSKuHjQi2Co2EsvQQ9CCyXoRU/9odfCIr0IHgLipQhtDy2e\n",
       "pG92uy/d2bCzDzLDvP2+L2/mvTcDoAiFJfo5lSwXkKyoYLlS2KdmfRHDdSjtStilZiVtwGioxQcs\n",
       "2ROHNQ2kbDUsPSt74rDeABnEsA+yIw4rY+FGHPGnsiMOa8DGHE0T1x7d5exPNGE4jNhbS9AJ3JOJ\n",
       "xDLKNqbYEZAwV7oXAN1xg5pN/ki1/S+1KtIHnLgn40L4tXvOK645p1vRtRbesXhAYnJom1DpBj7R\n",
       "WEwfFfwMmZVnKGxw/1gYoakqR06s3yT2i1N+VgLnoVN90Z8vkx5SXmU9psnAIjKl0wXZfVGG+7I4\n",
       "sSxCLfo4X8I49jYsIjIPBAyeGpAVJZc7wn7XXyDhfvneRxzrlvmfcb7EZ3c85zZ2S2yQcEWD+4RC\n",
       "uNpT+UZbAW7JZy5Y80i2esCzEjkb4lja2ALqnZ/QGZV3sMMLrYICTW/lyIlFqDxXVVBiGBAJ3RBV\n",
       "dvvPAr72ms/J/ePF3/GhNa/ygiZK6AXWOYUBCXN7a4wONlXDHvDgstbsXXLGbvmQFzVtqUPTqixO\n",
       "LEzdecn3bkBCR3VGJKODbDfUWrp8KyXaMsRjjUZ26GCfS2kUDyvKa4pYesN4HynepN+m5PuIXRl2\n",
       "MczcRLZUqEW+X6IT65LzZrkTVgpZHdqr55GB54vcJpFvSp/3Us26BJwABBGCDj4XetIAAAAASUVO\n",
       "RK5CYII=\n",
       "\" style=\"display:inline;vertical-align:middle;\" /></a></span>"
      ],
      "text/plain": [
       "{x in Complex, y in Complex, z in Complex} |- (x * y * z) = (y * x * z)"
      ]
     },
     "metadata": {},
     "output_type": "display_data"
    }
   ],
   "source": [
    "expr.factorization((x, z), 'right', assumptions=assumptions)"
   ]
  },
  {
   "cell_type": "code",
   "execution_count": 65,
   "metadata": {},
   "outputs": [
    {
     "data": {
      "text/html": [
       "<strong id=\"expr\">expr:</strong> <a class=\"ProveItLink\" href=\"../__pv_it/demonstrations/e2402eef051c7125a46eb23d05894c74880a5e0d0/expr.ipynb\"><img src=\"data:image/png;base64,iVBORw0KGgoAAAANSUhEUgAAAF0AAAANBAMAAAA50X8HAAAAMFBMVEX///8AAAAAAAAAAAAAAAAA\n",
       "AAAAAAAAAAAAAAAAAAAAAAAAAAAAAAAAAAAAAAAAAAAv3aB7AAAAD3RSTlMAEHarMolUmd1mIs3v\n",
       "RLtmgJDEAAAACXBIWXMAAA7EAAAOxAGVKw4bAAABGElEQVQoz2NgEFIWCU1ggAKhSgZGAxiHwaOF\n",
       "awKUyag6gcGdIUOAgaGAyYi9AaYiIIeB8wOMw7gpLhjGZmU7wGDHcP8CA+cCzo/MMFNYEioYmB/A\n",
       "1HAJMATC2G5AMw8xcC9gYGFg3wA27DeIAIrxKEA5QCAqAJMR4FFg+cLADhIEKQCCdhDB+5HB3wHG\n",
       "YeBCkskXYDrAwARi3V/AKACzFmiXDty7DDeBFsJANQOfAYMvA4PcBRsGVrgoUOwxnMOWwMAM5zxm\n",
       "4AhgCADa41jDcA0uym7A+xPO8YtTbYFz4hjuGPBeYGAQV2KrhAc/A6Op+i84J4Dt9AWESaWK5pEM\n",
       "mIB1AwMJIJpBJoEU9U0MpqQoZ8hUv4BfAQA7bTWH7g1MzQAAAABJRU5ErkJggg==\n",
       "\" style=\"display:inline;vertical-align:middle;\" /></a><br>"
      ],
      "text/plain": [
       "<IPython.core.display.HTML object>"
      ]
     },
     "metadata": {},
     "output_type": "display_data"
    }
   ],
   "source": [
    "expr = Mult(x, y, z, w)"
   ]
  },
  {
   "cell_type": "code",
   "execution_count": 66,
   "metadata": {},
   "outputs": [
    {
     "data": {
      "text/html": [
       "<span style=\"font-size:20px;\"><a class=\"ProveItLink\" href=\"../__pv_it/theorems/6bf1a18c2e3498be826f1c5ef7caab578b7ee8c80/expr.ipynb\"><img src=\"data:image/png;base64,iVBORw0KGgoAAAANSUhEUgAAADQAAAAQBAMAAACra0H4AAAAMFBMVEX///8AAAAAAAAAAAAAAAAA\n",
       "AAAAAAAAAAAAAAAAAAAAAAAAAAAAAAAAAAAAAAAAAAAv3aB7AAAAD3RSTlMAEHarMolUmd1mIs3v\n",
       "RLtmgJDEAAAACXBIWXMAAA7EAAAOxAGVKw4bAAAA0klEQVQY02NgwAIY47o3LQnAJsOgfJJB/F8B\n",
       "Nhl2XaCOeVil3PkEGBiYUaT0Ojo2gGhDPpB9E5BkbitCGQ+WQxlCyiKhCUCaayNUgMvAFcoqYDJi\n",
       "bwDS3AugAiwBNyEMzgWcH5lB5nLDDOYquARVw8AOtpvBpwMIHoDtWgpTxaMApuTg7nnIB2PdX8AI\n",
       "9AcDB1zqOshfDBcY5C7YMLCCBJgUEKFhwACyJt+xhuEaWGQbwu/bF4i1MzCIK7FVJoAFhN8KwEP+\n",
       "fPsClLC7+gISUFAAAPAALk9BTu5+AAAAAElFTkSuQmCC\n",
       "\" style=\"display:inline;vertical-align:middle;\" /></a>, <a class=\"ProveItLink\" href=\"../__pv_it/theorems/e7a733f6071838c624bab1a2ecdcd3efaa06f4b40/expr.ipynb\"><img src=\"data:image/png;base64,iVBORw0KGgoAAAANSUhEUgAAADMAAAATBAMAAADPIygvAAAAMFBMVEX///8AAAAAAAAAAAAAAAAA\n",
       "AAAAAAAAAAAAAAAAAAAAAAAAAAAAAAAAAAAAAAAAAAAv3aB7AAAAD3RSTlMAEHaZZquJVO8y3btE\n",
       "zSKD2s2pAAAACXBIWXMAAA7EAAAOxAGVKw4bAAAA5UlEQVQoz2NgwALEdt3Vm4ZNgoEpwoHRfjNW\n",
       "KaNjDAwsWKU4DTYCyWAUMe1Vqy4AKVaBDUBSBFnmrCKE5uYzgDAYlR0YREEMvotQJU85EyAMNvYG\n",
       "Bn8Qg/cBVGoajwOEMZ15AUM0WApm8GMeBQhDgEOBoQnEmLEKCDaA7YIayHBegPMniJaG6eIGuxAE\n",
       "bBmYGkA0F0yKB+wvHiDeysAdAA4eBXhoHAXrYGAwZTgPcdF1eBjutWOsAvlNNMke4mzRPQKwkN/x\n",
       "yw7CyoWKHNsFDig4YLvA2M6AHXApsCbgkGJ3ssEhAwCM+y13eiDJfgAAAABJRU5ErkJggg==\n",
       "\" style=\"display:inline;vertical-align:middle;\" /></a>, <a class=\"ProveItLink\" href=\"../__pv_it/demonstrations/38be8260be263ca8b59e57b7b7d03d561faffd580/expr.ipynb\"><img src=\"data:image/png;base64,iVBORw0KGgoAAAANSUhEUgAAADMAAAAQBAMAAABJt1qBAAAAMFBMVEX///8AAAAAAAAAAAAAAAAA\n",
       "AAAAAAAAAAAAAAAAAAAAAAAAAAAAAAAAAAAAAAAAAAAv3aB7AAAAD3RSTlMAMt0iZhDNdom7q0RU\n",
       "75mOI7qcAAAACXBIWXMAAA7EAAAOxAGVKw4bAAAAxklEQVQY02NgwAIiJqUVS2CTYGBf68D6fh5W\n",
       "qec7GBhYsEoxPpgKJNehiFUqKSUAKa6ACUAyBFlmWymE5mR+ANOvJGACoplToQJWjA1QVljFjAUg\n",
       "ms0AKiDB7QBlmTJwBIClYAbbcRfAmKytYEpWCQgmgO2CGchgDqEiYXxOsAtBAGgy2EAmmBQ32F/c\n",
       "QHyGgQHsDHa4Dc93AYlnQLfPmN4kABbJgYfhtMesh4B+42A4mw0RiZodAAv5uZ8eowbejknggIIB\n",
       "AAVvKXRyQEWZAAAAAElFTkSuQmCC\n",
       "\" style=\"display:inline;vertical-align:middle;\" /></a>, <a class=\"ProveItLink\" href=\"../__pv_it/demonstrations/70c0ce96202ce28a2e9c2a43dc9603d2926fcf150/expr.ipynb\"><img src=\"data:image/png;base64,iVBORw0KGgoAAAANSUhEUgAAADgAAAAQBAMAAACxV6F2AAAAMFBMVEX///8AAAAAAAAAAAAAAAAA\n",
       "AAAAAAAAAAAAAAAAAAAAAAAAAAAAAAAAAAAAAAAAAAAv3aB7AAAAD3RSTlMAEHaJZjKZVN3vq7tE\n",
       "zSL5cm/iAAAACXBIWXMAAA7EAAAOxAGVKw4bAAAA40lEQVQY02NgwAoYrXsvPTXALsegNYVB7HcC\n",
       "djk2HaAubxySYdwCDAxcaJLaHR0XQPRCbpC9DihyZxWhjA3PoO5SdmAIY6gAGsPAdxEqx7cgGMJg\n",
       "Zp/AsJrh/AEgk/cBVJLV4AiEEc7WwDAJIs4LM54v4RCEIcCpwPqVgQ3EjOwAgg1gOx9DldULME1g\n",
       "YAKxpOEu28gNZeQycC9giAGxOOCSx0D+ZAC6YxcDhwEDOBiZFBAhtABIAL1szXByAc8BsNh1RGhc\n",
       "eyDeBlKVrLjMBCIktUcAHivz2x6ghenhHZDggwIAlQIy1L/YH3QAAAAASUVORK5CYII=\n",
       "\" style=\"display:inline;vertical-align:middle;\" /></a> <a class=\"ProveItLink\" href=\"../__pv_it/demonstrations/58cfb53cd59677ba99cee071ac165abb937cc7a60/proof.ipynb\" style=\"text-decoration: none\">&nbsp;&#x22A2;&nbsp;&nbsp;</a><a class=\"ProveItLink\" href=\"../__pv_it/demonstrations/8cf723be2426b40d45c90993fca3d8a1a39eaa650/expr.ipynb\"><img src=\"data:image/png;base64,iVBORw0KGgoAAAANSUhEUgAAAPMAAAAVBAMAAABhxcWTAAAAMFBMVEX///8AAAAAAAAAAAAAAAAA\n",
       "AAAAAAAAAAAAAAAAAAAAAAAAAAAAAAAAAAAAAAAAAAAv3aB7AAAAD3RSTlMAInZUiRDNmWbv3US7\n",
       "qzJazP2FAAAACXBIWXMAAA7EAAAOxAGVKw4bAAACh0lEQVRIx52WTWgTQRTH/9mPfOwmIQiCiIco\n",
       "kehBCChieukitohEWIooQqpFEAQvPRSJirh40ItgUPTiJehBqFAWvdhT2tJrYZGCCD0ERIQqtB4q\n",
       "nsS3m+7sZmZpmDxIZt57835vZnbnzQIoQU5SSUZZSDBeqUlGmWXRJg354P+dgqwcE03SEMUB9Bnp\n",
       "1Gmbt4wAuQlkHOmo7CxvGQHyBMhBXl7yhhEgORunR0h9izeMAEk7mKNm6sS1c+wVnWpB99iIzYVU\n",
       "uJl6xcEPjNGDvshzBEhxvneAvQhVB9PgIZoXrGBW+ZzphE6rjuw2G3mjwfJoahsb6LrA4+D5zgfi\n",
       "hdswALlcWfXicc8ESHYGb+m1KWV3CuHairV7KCyx8mFjIux/I/JzpKkY1PlV8xDsh2bH4zYECE3h\n",
       "NWVDpn84rlOjkydHRUP/0x97yUcEip0rF/8hQ70tPnUMshunTyAWR0weUtz2oxDkIjH8U2PuYKtH\n",
       "7bv+svueQBm3lTYU6iwmpGaQftw+RErXpmw8xGz7e0XOks72hyZ/PIJ+om0I5Q7yHn5SZ4x/1gLE\n",
       "dGDH4igbD1E7WAGa7ldozEeeNaaoNRSYsgbDgkWdp/yqBchJwIvF5T0Bkl3yD8r497v4GFUmz/zL\n",
       "lF+NygJTGlj0THf3LA0IDymurlzoMe8DdB0BkrGwCVw5oraim0dfr/5miqW+cqNJzR39ct7vvOdT\n",
       "8xAN9duRd/rsw5IAMVwYPaHQaEMug1SHtyRABmRSNB1MuAsmcXXI5SteFuKFMrAS/YVobdFvmbO9\n",
       "wfqQ8ntINC3vMdwoFyxx5/yq1eSMZ6rukNQJeZp7DFcf3ReN+VJUNCQ+MBK+w6Qhh4H/wYGppNls\n",
       "x04AAAAASUVORK5CYII=\n",
       "\" style=\"display:inline;vertical-align:middle;\" /></a></span>"
      ],
      "text/plain": [
       "{x in Complex, y in Complex, z in Complex, w in Complex} |- (x * y * z * w) = (x * z * y * w)"
      ]
     },
     "metadata": {},
     "output_type": "display_data"
    }
   ],
   "source": [
    "expr.factorization((x, z), 'left', assumptions=assumptions)"
   ]
  },
  {
   "cell_type": "code",
   "execution_count": 67,
   "metadata": {},
   "outputs": [
    {
     "data": {
      "text/html": [
       "<span style=\"font-size:20px;\"><a class=\"ProveItLink\" href=\"../__pv_it/theorems/6bf1a18c2e3498be826f1c5ef7caab578b7ee8c80/expr.ipynb\"><img src=\"data:image/png;base64,iVBORw0KGgoAAAANSUhEUgAAADQAAAAQBAMAAACra0H4AAAAMFBMVEX///8AAAAAAAAAAAAAAAAA\n",
       "AAAAAAAAAAAAAAAAAAAAAAAAAAAAAAAAAAAAAAAAAAAv3aB7AAAAD3RSTlMAEHarMolUmd1mIs3v\n",
       "RLtmgJDEAAAACXBIWXMAAA7EAAAOxAGVKw4bAAAA0klEQVQY02NgwAIY47o3LQnAJsOgfJJB/F8B\n",
       "Nhl2XaCOeVil3PkEGBiYUaT0Ojo2gGhDPpB9E5BkbitCGQ+WQxlCyiKhCUCaayNUgMvAFcoqYDJi\n",
       "bwDS3AugAiwBNyEMzgWcH5lB5nLDDOYquARVw8AOtpvBpwMIHoDtWgpTxaMApuTg7nnIB2PdX8AI\n",
       "9AcDB1zqOshfDBcY5C7YMLCCBJgUEKFhwACyJt+xhuEaWGQbwu/bF4i1MzCIK7FVJoAFhN8KwEP+\n",
       "fPsClLC7+gISUFAAAPAALk9BTu5+AAAAAElFTkSuQmCC\n",
       "\" style=\"display:inline;vertical-align:middle;\" /></a>, <a class=\"ProveItLink\" href=\"../__pv_it/theorems/e7a733f6071838c624bab1a2ecdcd3efaa06f4b40/expr.ipynb\"><img src=\"data:image/png;base64,iVBORw0KGgoAAAANSUhEUgAAADMAAAATBAMAAADPIygvAAAAMFBMVEX///8AAAAAAAAAAAAAAAAA\n",
       "AAAAAAAAAAAAAAAAAAAAAAAAAAAAAAAAAAAAAAAAAAAv3aB7AAAAD3RSTlMAEHaZZquJVO8y3btE\n",
       "zSKD2s2pAAAACXBIWXMAAA7EAAAOxAGVKw4bAAAA5UlEQVQoz2NgwALEdt3Vm4ZNgoEpwoHRfjNW\n",
       "KaNjDAwsWKU4DTYCyWAUMe1Vqy4AKVaBDUBSBFnmrCKE5uYzgDAYlR0YREEMvotQJU85EyAMNvYG\n",
       "Bn8Qg/cBVGoajwOEMZ15AUM0WApm8GMeBQhDgEOBoQnEmLEKCDaA7YIayHBegPMniJaG6eIGuxAE\n",
       "bBmYGkA0F0yKB+wvHiDeysAdAA4eBXhoHAXrYGAwZTgPcdF1eBjutWOsAvlNNMke4mzRPQKwkN/x\n",
       "yw7CyoWKHNsFDig4YLvA2M6AHXApsCbgkGJ3ssEhAwCM+y13eiDJfgAAAABJRU5ErkJggg==\n",
       "\" style=\"display:inline;vertical-align:middle;\" /></a>, <a class=\"ProveItLink\" href=\"../__pv_it/demonstrations/38be8260be263ca8b59e57b7b7d03d561faffd580/expr.ipynb\"><img src=\"data:image/png;base64,iVBORw0KGgoAAAANSUhEUgAAADMAAAAQBAMAAABJt1qBAAAAMFBMVEX///8AAAAAAAAAAAAAAAAA\n",
       "AAAAAAAAAAAAAAAAAAAAAAAAAAAAAAAAAAAAAAAAAAAv3aB7AAAAD3RSTlMAMt0iZhDNdom7q0RU\n",
       "75mOI7qcAAAACXBIWXMAAA7EAAAOxAGVKw4bAAAAxklEQVQY02NgwAIiJqUVS2CTYGBf68D6fh5W\n",
       "qec7GBhYsEoxPpgKJNehiFUqKSUAKa6ACUAyBFlmWymE5mR+ANOvJGACoplToQJWjA1QVljFjAUg\n",
       "ms0AKiDB7QBlmTJwBIClYAbbcRfAmKytYEpWCQgmgO2CGchgDqEiYXxOsAtBAGgy2EAmmBQ32F/c\n",
       "QHyGgQHsDHa4Dc93AYlnQLfPmN4kABbJgYfhtMesh4B+42A4mw0RiZodAAv5uZ8eowbejknggIIB\n",
       "AAVvKXRyQEWZAAAAAElFTkSuQmCC\n",
       "\" style=\"display:inline;vertical-align:middle;\" /></a>, <a class=\"ProveItLink\" href=\"../__pv_it/demonstrations/70c0ce96202ce28a2e9c2a43dc9603d2926fcf150/expr.ipynb\"><img src=\"data:image/png;base64,iVBORw0KGgoAAAANSUhEUgAAADgAAAAQBAMAAACxV6F2AAAAMFBMVEX///8AAAAAAAAAAAAAAAAA\n",
       "AAAAAAAAAAAAAAAAAAAAAAAAAAAAAAAAAAAAAAAAAAAv3aB7AAAAD3RSTlMAEHaJZjKZVN3vq7tE\n",
       "zSL5cm/iAAAACXBIWXMAAA7EAAAOxAGVKw4bAAAA40lEQVQY02NgwAoYrXsvPTXALsegNYVB7HcC\n",
       "djk2HaAubxySYdwCDAxcaJLaHR0XQPRCbpC9DihyZxWhjA3PoO5SdmAIY6gAGsPAdxEqx7cgGMJg\n",
       "Zp/AsJrh/AEgk/cBVJLV4AiEEc7WwDAJIs4LM54v4RCEIcCpwPqVgQ3EjOwAgg1gOx9DldULME1g\n",
       "YAKxpOEu28gNZeQycC9giAGxOOCSx0D+ZAC6YxcDhwEDOBiZFBAhtABIAL1szXByAc8BsNh1RGhc\n",
       "eyDeBlKVrLjMBCIktUcAHivz2x6ghenhHZDggwIAlQIy1L/YH3QAAAAASUVORK5CYII=\n",
       "\" style=\"display:inline;vertical-align:middle;\" /></a> <a class=\"ProveItLink\" href=\"../__pv_it/demonstrations/91537def0657fad0bb8964dae4efbc9092422bcc0/proof.ipynb\" style=\"text-decoration: none\">&nbsp;&#x22A2;&nbsp;&nbsp;</a><a class=\"ProveItLink\" href=\"../__pv_it/demonstrations/d5c473119629efcd36430c98faa5cc37d597f9740/expr.ipynb\"><img src=\"data:image/png;base64,iVBORw0KGgoAAAANSUhEUgAAAPMAAAAVBAMAAABhxcWTAAAAMFBMVEX///8AAAAAAAAAAAAAAAAA\n",
       "AAAAAAAAAAAAAAAAAAAAAAAAAAAAAAAAAAAAAAAAAAAv3aB7AAAAD3RSTlMAInZUiRDNmWbv3US7\n",
       "qzJazP2FAAAACXBIWXMAAA7EAAAOxAGVKw4bAAACRElEQVRIx52WP2jUcBTHv5dcLrlL77hZHGqp\n",
       "VAfhBhHbpRm0OJwQSkGEwxah4NihyOl0ky4Oh2CXLocOgkIJdrFTW/dCkEIpOBREhCq0HSpOxZfE\n",
       "vFx/v6ThlwdJfu/93vu83/9fADShJqU0oyok9NdailH2qGxThnwKXjehKtdkkzJE6wHGgnLqiita\n",
       "CkAWAbOnHGUtiZYCkJdAFeryRjQUgFRd3CqQ+oloKACp9LBMn9kbj+7wEp3twvDZ43CtFA+mMd7D\n",
       "T0zRRN8XOSIkcc1klv2wB0vaV3MQVziTsI55/Txuc56y3sc3bHrAi3B+P4Tix8MwDElcM5nWAt7R\n",
       "u2md1uO+NVrPUd/i48PF3bj8ncivUaHDYFLstQhJXDOZ1LhVqoEZbY55+hgUU6VDw/gTOc4FoxYq\n",
       "bnW0cQaTSkdi6iGI4BqqaczGcRCF0E5SC3aNfYqjA/q+j5oY1YTKtKv1oVFhIyU1Q867RmoK0+4H\n",
       "YwVsNg1eEtT46wn0MzU5lqcY8fGLClPiXEsQds1k6gN8ATrePspcQTE7rOgt1FnZQc2BQ4VXYq8l\n",
       "CLtmMq2tYKNM/3iG9aSFvv2Xld/t8TVW2tjwbe//XjonEoRdM5mmg0PgwZjeTW4eY3fihBVHXxkC\n",
       "LF/duxcUPoqpJQi7ZjJrHmoH0kFTzrkMSgPRkgLJY15KuQtm8DDn8pUvC/lCyWV26dkWbG+xm9OD\n",
       "y7Jp++IImVkKTpiOYLw94eWkTsnTuThCZo40k0ND4Qcj5T9MGXIF+Ad+jKqyOjoXVgAAAABJRU5E\n",
       "rkJggg==\n",
       "\" style=\"display:inline;vertical-align:middle;\" /></a></span>"
      ],
      "text/plain": [
       "{x in Complex, y in Complex, z in Complex, w in Complex} |- (x * y * z * w) = (x * w * y * z)"
      ]
     },
     "metadata": {},
     "output_type": "display_data"
    }
   ],
   "source": [
    "expr.factorization((x, w), 'left', assumptions=assumptions, group_remainder=True)"
   ]
  },
  {
   "cell_type": "code",
   "execution_count": 68,
   "metadata": {},
   "outputs": [
    {
     "data": {
      "text/html": [
       "<span style=\"font-size:20px;\"><a class=\"ProveItLink\" href=\"../__pv_it/theorems/6bf1a18c2e3498be826f1c5ef7caab578b7ee8c80/expr.ipynb\"><img src=\"data:image/png;base64,iVBORw0KGgoAAAANSUhEUgAAADQAAAAQBAMAAACra0H4AAAAMFBMVEX///8AAAAAAAAAAAAAAAAA\n",
       "AAAAAAAAAAAAAAAAAAAAAAAAAAAAAAAAAAAAAAAAAAAv3aB7AAAAD3RSTlMAEHarMolUmd1mIs3v\n",
       "RLtmgJDEAAAACXBIWXMAAA7EAAAOxAGVKw4bAAAA0klEQVQY02NgwAIY47o3LQnAJsOgfJJB/F8B\n",
       "Nhl2XaCOeVil3PkEGBiYUaT0Ojo2gGhDPpB9E5BkbitCGQ+WQxlCyiKhCUCaayNUgMvAFcoqYDJi\n",
       "bwDS3AugAiwBNyEMzgWcH5lB5nLDDOYquARVw8AOtpvBpwMIHoDtWgpTxaMApuTg7nnIB2PdX8AI\n",
       "9AcDB1zqOshfDBcY5C7YMLCCBJgUEKFhwACyJt+xhuEaWGQbwu/bF4i1MzCIK7FVJoAFhN8KwEP+\n",
       "fPsClLC7+gISUFAAAPAALk9BTu5+AAAAAElFTkSuQmCC\n",
       "\" style=\"display:inline;vertical-align:middle;\" /></a>, <a class=\"ProveItLink\" href=\"../__pv_it/theorems/e7a733f6071838c624bab1a2ecdcd3efaa06f4b40/expr.ipynb\"><img src=\"data:image/png;base64,iVBORw0KGgoAAAANSUhEUgAAADMAAAATBAMAAADPIygvAAAAMFBMVEX///8AAAAAAAAAAAAAAAAA\n",
       "AAAAAAAAAAAAAAAAAAAAAAAAAAAAAAAAAAAAAAAAAAAv3aB7AAAAD3RSTlMAEHaZZquJVO8y3btE\n",
       "zSKD2s2pAAAACXBIWXMAAA7EAAAOxAGVKw4bAAAA5UlEQVQoz2NgwALEdt3Vm4ZNgoEpwoHRfjNW\n",
       "KaNjDAwsWKU4DTYCyWAUMe1Vqy4AKVaBDUBSBFnmrCKE5uYzgDAYlR0YREEMvotQJU85EyAMNvYG\n",
       "Bn8Qg/cBVGoajwOEMZ15AUM0WApm8GMeBQhDgEOBoQnEmLEKCDaA7YIayHBegPMniJaG6eIGuxAE\n",
       "bBmYGkA0F0yKB+wvHiDeysAdAA4eBXhoHAXrYGAwZTgPcdF1eBjutWOsAvlNNMke4mzRPQKwkN/x\n",
       "yw7CyoWKHNsFDig4YLvA2M6AHXApsCbgkGJ3ssEhAwCM+y13eiDJfgAAAABJRU5ErkJggg==\n",
       "\" style=\"display:inline;vertical-align:middle;\" /></a>, <a class=\"ProveItLink\" href=\"../__pv_it/demonstrations/38be8260be263ca8b59e57b7b7d03d561faffd580/expr.ipynb\"><img src=\"data:image/png;base64,iVBORw0KGgoAAAANSUhEUgAAADMAAAAQBAMAAABJt1qBAAAAMFBMVEX///8AAAAAAAAAAAAAAAAA\n",
       "AAAAAAAAAAAAAAAAAAAAAAAAAAAAAAAAAAAAAAAAAAAv3aB7AAAAD3RSTlMAMt0iZhDNdom7q0RU\n",
       "75mOI7qcAAAACXBIWXMAAA7EAAAOxAGVKw4bAAAAxklEQVQY02NgwAIiJqUVS2CTYGBf68D6fh5W\n",
       "qec7GBhYsEoxPpgKJNehiFUqKSUAKa6ACUAyBFlmWymE5mR+ANOvJGACoplToQJWjA1QVljFjAUg\n",
       "ms0AKiDB7QBlmTJwBIClYAbbcRfAmKytYEpWCQgmgO2CGchgDqEiYXxOsAtBAGgy2EAmmBQ32F/c\n",
       "QHyGgQHsDHa4Dc93AYlnQLfPmN4kABbJgYfhtMesh4B+42A4mw0RiZodAAv5uZ8eowbejknggIIB\n",
       "AAVvKXRyQEWZAAAAAElFTkSuQmCC\n",
       "\" style=\"display:inline;vertical-align:middle;\" /></a>, <a class=\"ProveItLink\" href=\"../__pv_it/demonstrations/70c0ce96202ce28a2e9c2a43dc9603d2926fcf150/expr.ipynb\"><img src=\"data:image/png;base64,iVBORw0KGgoAAAANSUhEUgAAADgAAAAQBAMAAACxV6F2AAAAMFBMVEX///8AAAAAAAAAAAAAAAAA\n",
       "AAAAAAAAAAAAAAAAAAAAAAAAAAAAAAAAAAAAAAAAAAAv3aB7AAAAD3RSTlMAEHaJZjKZVN3vq7tE\n",
       "zSL5cm/iAAAACXBIWXMAAA7EAAAOxAGVKw4bAAAA40lEQVQY02NgwAoYrXsvPTXALsegNYVB7HcC\n",
       "djk2HaAubxySYdwCDAxcaJLaHR0XQPRCbpC9DihyZxWhjA3PoO5SdmAIY6gAGsPAdxEqx7cgGMJg\n",
       "Zp/AsJrh/AEgk/cBVJLV4AiEEc7WwDAJIs4LM54v4RCEIcCpwPqVgQ3EjOwAgg1gOx9DldULME1g\n",
       "YAKxpOEu28gNZeQycC9giAGxOOCSx0D+ZAC6YxcDhwEDOBiZFBAhtABIAL1szXByAc8BsNh1RGhc\n",
       "eyDeBlKVrLjMBCIktUcAHivz2x6ghenhHZDggwIAlQIy1L/YH3QAAAAASUVORK5CYII=\n",
       "\" style=\"display:inline;vertical-align:middle;\" /></a> <a class=\"ProveItLink\" href=\"../__pv_it/demonstrations/76f09b0990d57f3eea1a0f01daec05d59efe1b670/proof.ipynb\" style=\"text-decoration: none\">&nbsp;&#x22A2;&nbsp;&nbsp;</a><a class=\"ProveItLink\" href=\"../__pv_it/demonstrations/c2636800fc93d695ca6c0a81b5b1f62ebd87fdb50/expr.ipynb\"><img src=\"data:image/png;base64,iVBORw0KGgoAAAANSUhEUgAAAPMAAAAVBAMAAABhxcWTAAAAMFBMVEX///8AAAAAAAAAAAAAAAAA\n",
       "AAAAAAAAAAAAAAAAAAAAAAAAAAAAAAAAAAAAAAAAAAAv3aB7AAAAD3RSTlMAInZUiRDNmWbv3US7\n",
       "qzJazP2FAAAACXBIWXMAAA7EAAAOxAGVKw4bAAAChUlEQVRIx52WT2gTQRTGv2Sz+Z+wZ/EQpRI9\n",
       "CDmI2F66iBYPEZYiiJBqEASPPRSJinTxoBfBoOill2AOgkJZ9GJPaXovLFIQoYeCiFCF1kPFk/h2\n",
       "Znd2MxMIkwfJzrx57/ftzO68WQAW9Cw1zqkLYfHphmZWqab6tCEfgr9z0LXTqksbknYBs60tnXVk\n",
       "zxSQO0DO1c7KL8ueKSBPgQL07ZXsmAJScHB+Cum7smMKSNbFCl0Wz968JF7RxQ5MX0Tsr6eixTRn\n",
       "XPzAHD3oqzKHIGbdxRKU0JCZFODMjM9msJz+nOtFA/Ys8oeCcbspdDJGF7sYeMAT9nzfMfPDZQhG\n",
       "n6uh3EYEODPfRp/+rfxRJZpbtfEAlU1RPhxcjtrfKPsFslQMZuVZ9/norhrK38ukQMikm1sjNeT4\n",
       "5rhFF5NyClQ0zD888FqwaqzjFGrVf8hR60CWXmOjlMkZiVCWGQkkmdXDIAtMi6wY7JrSEQ726PqW\n",
       "3yIfYZ15J91FmhobY6QxcEgtZMShIaaQwHBmqRusFaVZpngl6AbPxNBPtAyR3UPZx09qzMnPus9G\n",
       "SU0JDS0pwJlGD1tAy/uKjBignG3RMRqoiM42ijZsajyTZ73FRsu+GspsVIAz85vBRpn/fh8f48rk\n",
       "l/6Kzq/mzLroNLHhlzy+l0Yt2AWPMHDVUGajApyZs7EPXD9pdOJdZ+7Uf4uObbz24ptaOfXlStB4\n",
       "L0sTBEsXVy01lNmoAGcWPRT3lEKTmXAYpHqyh0MWdKrZsTFnwQJuTDh81cOCIJm2+VJHukO/oeR7\n",
       "g50JWcdV1xDFWsXW+dQJqlZLcl6oexPShqqrBePxQ51Jl624aGh8YIz5DtOGnAD+AzzBqHj0+0un\n",
       "AAAAAElFTkSuQmCC\n",
       "\" style=\"display:inline;vertical-align:middle;\" /></a></span>"
      ],
      "text/plain": [
       "{x in Complex, y in Complex, z in Complex, w in Complex} |- (x * y * z * w) = (y * w * x * z)"
      ]
     },
     "metadata": {},
     "output_type": "display_data"
    }
   ],
   "source": [
    "expr.factorization((y, w), 'left', assumptions=assumptions, group_factors=False)"
   ]
  },
  {
   "cell_type": "code",
   "execution_count": 69,
   "metadata": {},
   "outputs": [
    {
     "data": {
      "text/html": [
       "<span style=\"font-size:20px;\"><a class=\"ProveItLink\" href=\"../__pv_it/theorems/6bf1a18c2e3498be826f1c5ef7caab578b7ee8c80/expr.ipynb\"><img src=\"data:image/png;base64,iVBORw0KGgoAAAANSUhEUgAAADQAAAAQBAMAAACra0H4AAAAMFBMVEX///8AAAAAAAAAAAAAAAAA\n",
       "AAAAAAAAAAAAAAAAAAAAAAAAAAAAAAAAAAAAAAAAAAAv3aB7AAAAD3RSTlMAEHarMolUmd1mIs3v\n",
       "RLtmgJDEAAAACXBIWXMAAA7EAAAOxAGVKw4bAAAA0klEQVQY02NgwAIY47o3LQnAJsOgfJJB/F8B\n",
       "Nhl2XaCOeVil3PkEGBiYUaT0Ojo2gGhDPpB9E5BkbitCGQ+WQxlCyiKhCUCaayNUgMvAFcoqYDJi\n",
       "bwDS3AugAiwBNyEMzgWcH5lB5nLDDOYquARVw8AOtpvBpwMIHoDtWgpTxaMApuTg7nnIB2PdX8AI\n",
       "9AcDB1zqOshfDBcY5C7YMLCCBJgUEKFhwACyJt+xhuEaWGQbwu/bF4i1MzCIK7FVJoAFhN8KwEP+\n",
       "fPsClLC7+gISUFAAAPAALk9BTu5+AAAAAElFTkSuQmCC\n",
       "\" style=\"display:inline;vertical-align:middle;\" /></a>, <a class=\"ProveItLink\" href=\"../__pv_it/theorems/e7a733f6071838c624bab1a2ecdcd3efaa06f4b40/expr.ipynb\"><img src=\"data:image/png;base64,iVBORw0KGgoAAAANSUhEUgAAADMAAAATBAMAAADPIygvAAAAMFBMVEX///8AAAAAAAAAAAAAAAAA\n",
       "AAAAAAAAAAAAAAAAAAAAAAAAAAAAAAAAAAAAAAAAAAAv3aB7AAAAD3RSTlMAEHaZZquJVO8y3btE\n",
       "zSKD2s2pAAAACXBIWXMAAA7EAAAOxAGVKw4bAAAA5UlEQVQoz2NgwALEdt3Vm4ZNgoEpwoHRfjNW\n",
       "KaNjDAwsWKU4DTYCyWAUMe1Vqy4AKVaBDUBSBFnmrCKE5uYzgDAYlR0YREEMvotQJU85EyAMNvYG\n",
       "Bn8Qg/cBVGoajwOEMZ15AUM0WApm8GMeBQhDgEOBoQnEmLEKCDaA7YIayHBegPMniJaG6eIGuxAE\n",
       "bBmYGkA0F0yKB+wvHiDeysAdAA4eBXhoHAXrYGAwZTgPcdF1eBjutWOsAvlNNMke4mzRPQKwkN/x\n",
       "yw7CyoWKHNsFDig4YLvA2M6AHXApsCbgkGJ3ssEhAwCM+y13eiDJfgAAAABJRU5ErkJggg==\n",
       "\" style=\"display:inline;vertical-align:middle;\" /></a>, <a class=\"ProveItLink\" href=\"../__pv_it/demonstrations/38be8260be263ca8b59e57b7b7d03d561faffd580/expr.ipynb\"><img src=\"data:image/png;base64,iVBORw0KGgoAAAANSUhEUgAAADMAAAAQBAMAAABJt1qBAAAAMFBMVEX///8AAAAAAAAAAAAAAAAA\n",
       "AAAAAAAAAAAAAAAAAAAAAAAAAAAAAAAAAAAAAAAAAAAv3aB7AAAAD3RSTlMAMt0iZhDNdom7q0RU\n",
       "75mOI7qcAAAACXBIWXMAAA7EAAAOxAGVKw4bAAAAxklEQVQY02NgwAIiJqUVS2CTYGBf68D6fh5W\n",
       "qec7GBhYsEoxPpgKJNehiFUqKSUAKa6ACUAyBFlmWymE5mR+ANOvJGACoplToQJWjA1QVljFjAUg\n",
       "ms0AKiDB7QBlmTJwBIClYAbbcRfAmKytYEpWCQgmgO2CGchgDqEiYXxOsAtBAGgy2EAmmBQ32F/c\n",
       "QHyGgQHsDHa4Dc93AYlnQLfPmN4kABbJgYfhtMesh4B+42A4mw0RiZodAAv5uZ8eowbejknggIIB\n",
       "AAVvKXRyQEWZAAAAAElFTkSuQmCC\n",
       "\" style=\"display:inline;vertical-align:middle;\" /></a>, <a class=\"ProveItLink\" href=\"../__pv_it/demonstrations/70c0ce96202ce28a2e9c2a43dc9603d2926fcf150/expr.ipynb\"><img src=\"data:image/png;base64,iVBORw0KGgoAAAANSUhEUgAAADgAAAAQBAMAAACxV6F2AAAAMFBMVEX///8AAAAAAAAAAAAAAAAA\n",
       "AAAAAAAAAAAAAAAAAAAAAAAAAAAAAAAAAAAAAAAAAAAv3aB7AAAAD3RSTlMAEHaJZjKZVN3vq7tE\n",
       "zSL5cm/iAAAACXBIWXMAAA7EAAAOxAGVKw4bAAAA40lEQVQY02NgwAoYrXsvPTXALsegNYVB7HcC\n",
       "djk2HaAubxySYdwCDAxcaJLaHR0XQPRCbpC9DihyZxWhjA3PoO5SdmAIY6gAGsPAdxEqx7cgGMJg\n",
       "Zp/AsJrh/AEgk/cBVJLV4AiEEc7WwDAJIs4LM54v4RCEIcCpwPqVgQ3EjOwAgg1gOx9DldULME1g\n",
       "YAKxpOEu28gNZeQycC9giAGxOOCSx0D+ZAC6YxcDhwEDOBiZFBAhtABIAL1szXByAc8BsNh1RGhc\n",
       "eyDeBlKVrLjMBCIktUcAHivz2x6ghenhHZDggwIAlQIy1L/YH3QAAAAASUVORK5CYII=\n",
       "\" style=\"display:inline;vertical-align:middle;\" /></a> <a class=\"ProveItLink\" href=\"../__pv_it/demonstrations/76f09b0990d57f3eea1a0f01daec05d59efe1b670/proof.ipynb\" style=\"text-decoration: none\">&nbsp;&#x22A2;&nbsp;&nbsp;</a><a class=\"ProveItLink\" href=\"../__pv_it/demonstrations/c2636800fc93d695ca6c0a81b5b1f62ebd87fdb50/expr.ipynb\"><img src=\"data:image/png;base64,iVBORw0KGgoAAAANSUhEUgAAAPMAAAAVBAMAAABhxcWTAAAAMFBMVEX///8AAAAAAAAAAAAAAAAA\n",
       "AAAAAAAAAAAAAAAAAAAAAAAAAAAAAAAAAAAAAAAAAAAv3aB7AAAAD3RSTlMAInZUiRDNmWbv3US7\n",
       "qzJazP2FAAAACXBIWXMAAA7EAAAOxAGVKw4bAAAChUlEQVRIx52WT2gTQRTGv2Sz+Z+wZ/EQpRI9\n",
       "CDmI2F66iBYPEZYiiJBqEASPPRSJinTxoBfBoOill2AOgkJZ9GJPaXovLFIQoYeCiFCF1kPFk/h2\n",
       "Znd2MxMIkwfJzrx57/ftzO68WQAW9Cw1zqkLYfHphmZWqab6tCEfgr9z0LXTqksbknYBs60tnXVk\n",
       "zxSQO0DO1c7KL8ueKSBPgQL07ZXsmAJScHB+Cum7smMKSNbFCl0Wz968JF7RxQ5MX0Tsr6eixTRn\n",
       "XPzAHD3oqzKHIGbdxRKU0JCZFODMjM9msJz+nOtFA/Ys8oeCcbspdDJGF7sYeMAT9nzfMfPDZQhG\n",
       "n6uh3EYEODPfRp/+rfxRJZpbtfEAlU1RPhxcjtrfKPsFslQMZuVZ9/norhrK38ukQMikm1sjNeT4\n",
       "5rhFF5NyClQ0zD888FqwaqzjFGrVf8hR60CWXmOjlMkZiVCWGQkkmdXDIAtMi6wY7JrSEQ726PqW\n",
       "3yIfYZ15J91FmhobY6QxcEgtZMShIaaQwHBmqRusFaVZpngl6AbPxNBPtAyR3UPZx09qzMnPus9G\n",
       "SU0JDS0pwJlGD1tAy/uKjBignG3RMRqoiM42ijZsajyTZ73FRsu+GspsVIAz85vBRpn/fh8f48rk\n",
       "l/6Kzq/mzLroNLHhlzy+l0Yt2AWPMHDVUGajApyZs7EPXD9pdOJdZ+7Uf4uObbz24ptaOfXlStB4\n",
       "L0sTBEsXVy01lNmoAGcWPRT3lEKTmXAYpHqyh0MWdKrZsTFnwQJuTDh81cOCIJm2+VJHukO/oeR7\n",
       "g50JWcdV1xDFWsXW+dQJqlZLcl6oexPShqqrBePxQ51Jl624aGh8YIz5DtOGnAD+AzzBqHj0+0un\n",
       "AAAAAElFTkSuQmCC\n",
       "\" style=\"display:inline;vertical-align:middle;\" /></a></span>"
      ],
      "text/plain": [
       "{x in Complex, y in Complex, z in Complex, w in Complex} |- (x * y * z * w) = (y * w * x * z)"
      ]
     },
     "metadata": {},
     "output_type": "display_data"
    }
   ],
   "source": [
    "expr.factorization((x, z), 'right', assumptions=assumptions)"
   ]
  },
  {
   "cell_type": "code",
   "execution_count": 70,
   "metadata": {},
   "outputs": [
    {
     "data": {
      "text/html": [
       "<span style=\"font-size:20px;\"><a class=\"ProveItLink\" href=\"../__pv_it/theorems/6bf1a18c2e3498be826f1c5ef7caab578b7ee8c80/expr.ipynb\"><img src=\"data:image/png;base64,iVBORw0KGgoAAAANSUhEUgAAADQAAAAQBAMAAACra0H4AAAAMFBMVEX///8AAAAAAAAAAAAAAAAA\n",
       "AAAAAAAAAAAAAAAAAAAAAAAAAAAAAAAAAAAAAAAAAAAv3aB7AAAAD3RSTlMAEHarMolUmd1mIs3v\n",
       "RLtmgJDEAAAACXBIWXMAAA7EAAAOxAGVKw4bAAAA0klEQVQY02NgwAIY47o3LQnAJsOgfJJB/F8B\n",
       "Nhl2XaCOeVil3PkEGBiYUaT0Ojo2gGhDPpB9E5BkbitCGQ+WQxlCyiKhCUCaayNUgMvAFcoqYDJi\n",
       "bwDS3AugAiwBNyEMzgWcH5lB5nLDDOYquARVw8AOtpvBpwMIHoDtWgpTxaMApuTg7nnIB2PdX8AI\n",
       "9AcDB1zqOshfDBcY5C7YMLCCBJgUEKFhwACyJt+xhuEaWGQbwu/bF4i1MzCIK7FVJoAFhN8KwEP+\n",
       "fPsClLC7+gISUFAAAPAALk9BTu5+AAAAAElFTkSuQmCC\n",
       "\" style=\"display:inline;vertical-align:middle;\" /></a>, <a class=\"ProveItLink\" href=\"../__pv_it/theorems/e7a733f6071838c624bab1a2ecdcd3efaa06f4b40/expr.ipynb\"><img src=\"data:image/png;base64,iVBORw0KGgoAAAANSUhEUgAAADMAAAATBAMAAADPIygvAAAAMFBMVEX///8AAAAAAAAAAAAAAAAA\n",
       "AAAAAAAAAAAAAAAAAAAAAAAAAAAAAAAAAAAAAAAAAAAv3aB7AAAAD3RSTlMAEHaZZquJVO8y3btE\n",
       "zSKD2s2pAAAACXBIWXMAAA7EAAAOxAGVKw4bAAAA5UlEQVQoz2NgwALEdt3Vm4ZNgoEpwoHRfjNW\n",
       "KaNjDAwsWKU4DTYCyWAUMe1Vqy4AKVaBDUBSBFnmrCKE5uYzgDAYlR0YREEMvotQJU85EyAMNvYG\n",
       "Bn8Qg/cBVGoajwOEMZ15AUM0WApm8GMeBQhDgEOBoQnEmLEKCDaA7YIayHBegPMniJaG6eIGuxAE\n",
       "bBmYGkA0F0yKB+wvHiDeysAdAA4eBXhoHAXrYGAwZTgPcdF1eBjutWOsAvlNNMke4mzRPQKwkN/x\n",
       "yw7CyoWKHNsFDig4YLvA2M6AHXApsCbgkGJ3ssEhAwCM+y13eiDJfgAAAABJRU5ErkJggg==\n",
       "\" style=\"display:inline;vertical-align:middle;\" /></a>, <a class=\"ProveItLink\" href=\"../__pv_it/demonstrations/38be8260be263ca8b59e57b7b7d03d561faffd580/expr.ipynb\"><img src=\"data:image/png;base64,iVBORw0KGgoAAAANSUhEUgAAADMAAAAQBAMAAABJt1qBAAAAMFBMVEX///8AAAAAAAAAAAAAAAAA\n",
       "AAAAAAAAAAAAAAAAAAAAAAAAAAAAAAAAAAAAAAAAAAAv3aB7AAAAD3RSTlMAMt0iZhDNdom7q0RU\n",
       "75mOI7qcAAAACXBIWXMAAA7EAAAOxAGVKw4bAAAAxklEQVQY02NgwAIiJqUVS2CTYGBf68D6fh5W\n",
       "qec7GBhYsEoxPpgKJNehiFUqKSUAKa6ACUAyBFlmWymE5mR+ANOvJGACoplToQJWjA1QVljFjAUg\n",
       "ms0AKiDB7QBlmTJwBIClYAbbcRfAmKytYEpWCQgmgO2CGchgDqEiYXxOsAtBAGgy2EAmmBQ32F/c\n",
       "QHyGgQHsDHa4Dc93AYlnQLfPmN4kABbJgYfhtMesh4B+42A4mw0RiZodAAv5uZ8eowbejknggIIB\n",
       "AAVvKXRyQEWZAAAAAElFTkSuQmCC\n",
       "\" style=\"display:inline;vertical-align:middle;\" /></a>, <a class=\"ProveItLink\" href=\"../__pv_it/demonstrations/70c0ce96202ce28a2e9c2a43dc9603d2926fcf150/expr.ipynb\"><img src=\"data:image/png;base64,iVBORw0KGgoAAAANSUhEUgAAADgAAAAQBAMAAACxV6F2AAAAMFBMVEX///8AAAAAAAAAAAAAAAAA\n",
       "AAAAAAAAAAAAAAAAAAAAAAAAAAAAAAAAAAAAAAAAAAAv3aB7AAAAD3RSTlMAEHaJZjKZVN3vq7tE\n",
       "zSL5cm/iAAAACXBIWXMAAA7EAAAOxAGVKw4bAAAA40lEQVQY02NgwAoYrXsvPTXALsegNYVB7HcC\n",
       "djk2HaAubxySYdwCDAxcaJLaHR0XQPRCbpC9DihyZxWhjA3PoO5SdmAIY6gAGsPAdxEqx7cgGMJg\n",
       "Zp/AsJrh/AEgk/cBVJLV4AiEEc7WwDAJIs4LM54v4RCEIcCpwPqVgQ3EjOwAgg1gOx9DldULME1g\n",
       "YAKxpOEu28gNZeQycC9giAGxOOCSx0D+ZAC6YxcDhwEDOBiZFBAhtABIAL1szXByAc8BsNh1RGhc\n",
       "eyDeBlKVrLjMBCIktUcAHivz2x6ghenhHZDggwIAlQIy1L/YH3QAAAAASUVORK5CYII=\n",
       "\" style=\"display:inline;vertical-align:middle;\" /></a> <a class=\"ProveItLink\" href=\"../__pv_it/demonstrations/58cfb53cd59677ba99cee071ac165abb937cc7a60/proof.ipynb\" style=\"text-decoration: none\">&nbsp;&#x22A2;&nbsp;&nbsp;</a><a class=\"ProveItLink\" href=\"../__pv_it/demonstrations/8cf723be2426b40d45c90993fca3d8a1a39eaa650/expr.ipynb\"><img src=\"data:image/png;base64,iVBORw0KGgoAAAANSUhEUgAAAPMAAAAVBAMAAABhxcWTAAAAMFBMVEX///8AAAAAAAAAAAAAAAAA\n",
       "AAAAAAAAAAAAAAAAAAAAAAAAAAAAAAAAAAAAAAAAAAAv3aB7AAAAD3RSTlMAInZUiRDNmWbv3US7\n",
       "qzJazP2FAAAACXBIWXMAAA7EAAAOxAGVKw4bAAACh0lEQVRIx52WTWgTQRTH/9mPfOwmIQiCiIco\n",
       "kehBCChieukitohEWIooQqpFEAQvPRSJirh40ItgUPTiJehBqFAWvdhT2tJrYZGCCD0ERIQqtB4q\n",
       "nsS3m+7sZmZpmDxIZt57835vZnbnzQIoQU5SSUZZSDBeqUlGmWXRJg354P+dgqwcE03SEMUB9Bnp\n",
       "1Gmbt4wAuQlkHOmo7CxvGQHyBMhBXl7yhhEgORunR0h9izeMAEk7mKNm6sS1c+wVnWpB99iIzYVU\n",
       "uJl6xcEPjNGDvshzBEhxvneAvQhVB9PgIZoXrGBW+ZzphE6rjuw2G3mjwfJoahsb6LrA4+D5zgfi\n",
       "hdswALlcWfXicc8ESHYGb+m1KWV3CuHairV7KCyx8mFjIux/I/JzpKkY1PlV8xDsh2bH4zYECE3h\n",
       "NWVDpn84rlOjkydHRUP/0x97yUcEip0rF/8hQ70tPnUMshunTyAWR0weUtz2oxDkIjH8U2PuYKtH\n",
       "7bv+svueQBm3lTYU6iwmpGaQftw+RErXpmw8xGz7e0XOks72hyZ/PIJ+om0I5Q7yHn5SZ4x/1gLE\n",
       "dGDH4igbD1E7WAGa7ldozEeeNaaoNRSYsgbDgkWdp/yqBchJwIvF5T0Bkl3yD8r497v4GFUmz/zL\n",
       "lF+NygJTGlj0THf3LA0IDymurlzoMe8DdB0BkrGwCVw5oraim0dfr/5miqW+cqNJzR39ct7vvOdT\n",
       "8xAN9duRd/rsw5IAMVwYPaHQaEMug1SHtyRABmRSNB1MuAsmcXXI5SteFuKFMrAS/YVobdFvmbO9\n",
       "wfqQ8ntINC3vMdwoFyxx5/yq1eSMZ6rukNQJeZp7DFcf3ReN+VJUNCQ+MBK+w6Qhh4H/wYGppNls\n",
       "x04AAAAASUVORK5CYII=\n",
       "\" style=\"display:inline;vertical-align:middle;\" /></a></span>"
      ],
      "text/plain": [
       "{x in Complex, y in Complex, z in Complex, w in Complex} |- (x * y * z * w) = (x * z * y * w)"
      ]
     },
     "metadata": {},
     "output_type": "display_data"
    }
   ],
   "source": [
    "expr.factorization(Mult(y, w), 'right', assumptions=assumptions, group_remainder=True)"
   ]
  },
  {
   "cell_type": "code",
   "execution_count": 71,
   "metadata": {},
   "outputs": [
    {
     "data": {
      "text/html": [
       "<span style=\"font-size:20px;\"><a class=\"ProveItLink\" href=\"../__pv_it/theorems/6bf1a18c2e3498be826f1c5ef7caab578b7ee8c80/expr.ipynb\"><img src=\"data:image/png;base64,iVBORw0KGgoAAAANSUhEUgAAADQAAAAQBAMAAACra0H4AAAAMFBMVEX///8AAAAAAAAAAAAAAAAA\n",
       "AAAAAAAAAAAAAAAAAAAAAAAAAAAAAAAAAAAAAAAAAAAv3aB7AAAAD3RSTlMAEHarMolUmd1mIs3v\n",
       "RLtmgJDEAAAACXBIWXMAAA7EAAAOxAGVKw4bAAAA0klEQVQY02NgwAIY47o3LQnAJsOgfJJB/F8B\n",
       "Nhl2XaCOeVil3PkEGBiYUaT0Ojo2gGhDPpB9E5BkbitCGQ+WQxlCyiKhCUCaayNUgMvAFcoqYDJi\n",
       "bwDS3AugAiwBNyEMzgWcH5lB5nLDDOYquARVw8AOtpvBpwMIHoDtWgpTxaMApuTg7nnIB2PdX8AI\n",
       "9AcDB1zqOshfDBcY5C7YMLCCBJgUEKFhwACyJt+xhuEaWGQbwu/bF4i1MzCIK7FVJoAFhN8KwEP+\n",
       "fPsClLC7+gISUFAAAPAALk9BTu5+AAAAAElFTkSuQmCC\n",
       "\" style=\"display:inline;vertical-align:middle;\" /></a>, <a class=\"ProveItLink\" href=\"../__pv_it/theorems/e7a733f6071838c624bab1a2ecdcd3efaa06f4b40/expr.ipynb\"><img src=\"data:image/png;base64,iVBORw0KGgoAAAANSUhEUgAAADMAAAATBAMAAADPIygvAAAAMFBMVEX///8AAAAAAAAAAAAAAAAA\n",
       "AAAAAAAAAAAAAAAAAAAAAAAAAAAAAAAAAAAAAAAAAAAv3aB7AAAAD3RSTlMAEHaZZquJVO8y3btE\n",
       "zSKD2s2pAAAACXBIWXMAAA7EAAAOxAGVKw4bAAAA5UlEQVQoz2NgwALEdt3Vm4ZNgoEpwoHRfjNW\n",
       "KaNjDAwsWKU4DTYCyWAUMe1Vqy4AKVaBDUBSBFnmrCKE5uYzgDAYlR0YREEMvotQJU85EyAMNvYG\n",
       "Bn8Qg/cBVGoajwOEMZ15AUM0WApm8GMeBQhDgEOBoQnEmLEKCDaA7YIayHBegPMniJaG6eIGuxAE\n",
       "bBmYGkA0F0yKB+wvHiDeysAdAA4eBXhoHAXrYGAwZTgPcdF1eBjutWOsAvlNNMke4mzRPQKwkN/x\n",
       "yw7CyoWKHNsFDig4YLvA2M6AHXApsCbgkGJ3ssEhAwCM+y13eiDJfgAAAABJRU5ErkJggg==\n",
       "\" style=\"display:inline;vertical-align:middle;\" /></a>, <a class=\"ProveItLink\" href=\"../__pv_it/demonstrations/38be8260be263ca8b59e57b7b7d03d561faffd580/expr.ipynb\"><img src=\"data:image/png;base64,iVBORw0KGgoAAAANSUhEUgAAADMAAAAQBAMAAABJt1qBAAAAMFBMVEX///8AAAAAAAAAAAAAAAAA\n",
       "AAAAAAAAAAAAAAAAAAAAAAAAAAAAAAAAAAAAAAAAAAAv3aB7AAAAD3RSTlMAMt0iZhDNdom7q0RU\n",
       "75mOI7qcAAAACXBIWXMAAA7EAAAOxAGVKw4bAAAAxklEQVQY02NgwAIiJqUVS2CTYGBf68D6fh5W\n",
       "qec7GBhYsEoxPpgKJNehiFUqKSUAKa6ACUAyBFlmWymE5mR+ANOvJGACoplToQJWjA1QVljFjAUg\n",
       "ms0AKiDB7QBlmTJwBIClYAbbcRfAmKytYEpWCQgmgO2CGchgDqEiYXxOsAtBAGgy2EAmmBQ32F/c\n",
       "QHyGgQHsDHa4Dc93AYlnQLfPmN4kABbJgYfhtMesh4B+42A4mw0RiZodAAv5uZ8eowbejknggIIB\n",
       "AAVvKXRyQEWZAAAAAElFTkSuQmCC\n",
       "\" style=\"display:inline;vertical-align:middle;\" /></a>, <a class=\"ProveItLink\" href=\"../__pv_it/demonstrations/70c0ce96202ce28a2e9c2a43dc9603d2926fcf150/expr.ipynb\"><img src=\"data:image/png;base64,iVBORw0KGgoAAAANSUhEUgAAADgAAAAQBAMAAACxV6F2AAAAMFBMVEX///8AAAAAAAAAAAAAAAAA\n",
       "AAAAAAAAAAAAAAAAAAAAAAAAAAAAAAAAAAAAAAAAAAAv3aB7AAAAD3RSTlMAEHaJZjKZVN3vq7tE\n",
       "zSL5cm/iAAAACXBIWXMAAA7EAAAOxAGVKw4bAAAA40lEQVQY02NgwAoYrXsvPTXALsegNYVB7HcC\n",
       "djk2HaAubxySYdwCDAxcaJLaHR0XQPRCbpC9DihyZxWhjA3PoO5SdmAIY6gAGsPAdxEqx7cgGMJg\n",
       "Zp/AsJrh/AEgk/cBVJLV4AiEEc7WwDAJIs4LM54v4RCEIcCpwPqVgQ3EjOwAgg1gOx9DldULME1g\n",
       "YAKxpOEu28gNZeQycC9giAGxOOCSx0D+ZAC6YxcDhwEDOBiZFBAhtABIAL1szXByAc8BsNh1RGhc\n",
       "eyDeBlKVrLjMBCIktUcAHivz2x6ghenhHZDggwIAlQIy1L/YH3QAAAAASUVORK5CYII=\n",
       "\" style=\"display:inline;vertical-align:middle;\" /></a> <a class=\"ProveItLink\" href=\"../__pv_it/demonstrations/a09d2dbe200289e7dbd253df7dbe01153fbce7830/proof.ipynb\" style=\"text-decoration: none\">&nbsp;&#x22A2;&nbsp;&nbsp;</a><a class=\"ProveItLink\" href=\"../__pv_it/demonstrations/4c22974d804d34c0a2a12c59d3259556790e0ea10/expr.ipynb\"><img src=\"data:image/png;base64,iVBORw0KGgoAAAANSUhEUgAAAPMAAAAVBAMAAABhxcWTAAAAMFBMVEX///8AAAAAAAAAAAAAAAAA\n",
       "AAAAAAAAAAAAAAAAAAAAAAAAAAAAAAAAAAAAAAAAAAAv3aB7AAAAD3RSTlMAInZUiRDNmWbv3US7\n",
       "qzJazP2FAAAACXBIWXMAAA7EAAAOxAGVKw4bAAACt0lEQVRIx52WT2gTQRTGv2R3mz+bhCAIIh5i\n",
       "iUQPhYCippcuaotIhKWoRUg1CILgpUgpsSKuCnoRGhS99BLMQahQFr3YU5rQmxQWqajQQ0BFqELb\n",
       "Q8VT8e1ud5bMBsJkINl539v3ezOzO28WQBpiLdRNFIU494fzglFqJqgJQ97Zfycg2o4GJWFI2ACU\n",
       "snDqAZ1X+oDcBCKGcFR0ilf6gDwFYhBvL3mhD0hMx8k+Ut/ihT4gAwam6TI+dO0ce0XHK1AsdsfG\n",
       "YshbTCVr4BeG6UFf5DkEUXIGJpmQWmgfYC/C4OcfZ8FDZMuZwVT4U6TmObUColvszhtFlkeWqlhH\n",
       "wwSeOM93wWnW3jLY3jmW+kp2hQ0/gqHMbAASLaNOr006upP05pbKzyK5zMqHjlGv/52G9xwDVAwK\n",
       "/KzrrnedCfshs23wEHP61wCEhjBP2RBxN8d1uijkiVHRUP66916yEY6hxzKpXZoDsMmnnne8FOky\n",
       "7IhRD4g2ZlypA5LasqPg5KIWt3eNuoPNNl3fuNN2PY4xooerCFNnqUtqNHRi7jGAfT4QzpB4iFq1\n",
       "14rC0gpbH1qBYz70Ay2D12aQsPCbOsP8s647XmKyYmvArzvqNi4HIFINLaBkfoPMfORZZYaUR5IZ\n",
       "q4hr0KjzjJ91y/Em/I1xHPAM5WOy6kR1QqLL9kYZ+XkX7/3KZKn/mPGnmF1kRhFLlmq6e6mz2bvg\n",
       "PhqspqVWWhfa3uh3J6pqPgCJaNgAJgaliu9T1nLbzNCkV6Y/qOkjX87bnbd8aoJg8swDdnLKKNxm\n",
       "vDuZU48RgMRNxNuBQiP3OAxCNV5xIWMi1exgl7NgDFd7HL7Bw4Igcll5IZK6Qr8mp73GWo+oQ0Gp\n",
       "iXgmqYl86thVq8SJp3Nmj7BmUCpBenRPZNKJtF80BD4wunyHCUMOA/8BDVWqWMPgBBgAAAAASUVO\n",
       "RK5CYII=\n",
       "\" style=\"display:inline;vertical-align:middle;\" /></a></span>"
      ],
      "text/plain": [
       "{x in Complex, y in Complex, z in Complex, w in Complex} |- (x * y * z * w) = (y * z * x * w)"
      ]
     },
     "metadata": {},
     "output_type": "display_data"
    }
   ],
   "source": [
    "expr.factorization(Mult(x, w), 'right', assumptions=assumptions, group_factors=False, group_remainder=True)"
   ]
  },
  {
   "cell_type": "markdown",
   "metadata": {},
   "source": [
    "### Recursive factorization"
   ]
  },
  {
   "cell_type": "code",
   "execution_count": 72,
   "metadata": {},
   "outputs": [
    {
     "data": {
      "text/plain": [
       "True"
      ]
     },
     "metadata": {},
     "output_type": "display_data"
    }
   ],
   "source": [
    "Mult(x, y, Add(Mult(z, w), Mult(y, z))).readily_factorable(z)"
   ]
  },
  {
   "cell_type": "code",
   "execution_count": 73,
   "metadata": {},
   "outputs": [
    {
     "data": {
      "text/plain": [
       "False"
      ]
     },
     "metadata": {},
     "output_type": "display_data"
    }
   ],
   "source": [
    "Mult(x, y, Add(Mult(z, w), Mult(y, z)), w).readily_factorable(Mult(x, z, w))"
   ]
  },
  {
   "cell_type": "code",
   "execution_count": 74,
   "metadata": {},
   "outputs": [
    {
     "data": {
      "text/html": [
       "<span style=\"font-size:20px;\"><a class=\"ProveItLink\" href=\"../__pv_it/demonstrations/38be8260be263ca8b59e57b7b7d03d561faffd580/expr.ipynb\"><img src=\"data:image/png;base64,iVBORw0KGgoAAAANSUhEUgAAADMAAAAQBAMAAABJt1qBAAAAMFBMVEX///8AAAAAAAAAAAAAAAAA\n",
       "AAAAAAAAAAAAAAAAAAAAAAAAAAAAAAAAAAAAAAAAAAAv3aB7AAAAD3RSTlMAMt0iZhDNdom7q0RU\n",
       "75mOI7qcAAAACXBIWXMAAA7EAAAOxAGVKw4bAAAAxklEQVQY02NgwAIiJqUVS2CTYGBf68D6fh5W\n",
       "qec7GBhYsEoxPpgKJNehiFUqKSUAKa6ACUAyBFlmWymE5mR+ANOvJGACoplToQJWjA1QVljFjAUg\n",
       "ms0AKiDB7QBlmTJwBIClYAbbcRfAmKytYEpWCQgmgO2CGchgDqEiYXxOsAtBAGgy2EAmmBQ32F/c\n",
       "QHyGgQHsDHa4Dc93AYlnQLfPmN4kABbJgYfhtMesh4B+42A4mw0RiZodAAv5uZ8eowbejknggIIB\n",
       "AAVvKXRyQEWZAAAAAElFTkSuQmCC\n",
       "\" style=\"display:inline;vertical-align:middle;\" /></a>, <a class=\"ProveItLink\" href=\"../__pv_it/demonstrations/70c0ce96202ce28a2e9c2a43dc9603d2926fcf150/expr.ipynb\"><img src=\"data:image/png;base64,iVBORw0KGgoAAAANSUhEUgAAADgAAAAQBAMAAACxV6F2AAAAMFBMVEX///8AAAAAAAAAAAAAAAAA\n",
       "AAAAAAAAAAAAAAAAAAAAAAAAAAAAAAAAAAAAAAAAAAAv3aB7AAAAD3RSTlMAEHaJZjKZVN3vq7tE\n",
       "zSL5cm/iAAAACXBIWXMAAA7EAAAOxAGVKw4bAAAA40lEQVQY02NgwAoYrXsvPTXALsegNYVB7HcC\n",
       "djk2HaAubxySYdwCDAxcaJLaHR0XQPRCbpC9DihyZxWhjA3PoO5SdmAIY6gAGsPAdxEqx7cgGMJg\n",
       "Zp/AsJrh/AEgk/cBVJLV4AiEEc7WwDAJIs4LM54v4RCEIcCpwPqVgQ3EjOwAgg1gOx9DldULME1g\n",
       "YAKxpOEu28gNZeQycC9giAGxOOCSx0D+ZAC6YxcDhwEDOBiZFBAhtABIAL1szXByAc8BsNh1RGhc\n",
       "eyDeBlKVrLjMBCIktUcAHivz2x6ghenhHZDggwIAlQIy1L/YH3QAAAAASUVORK5CYII=\n",
       "\" style=\"display:inline;vertical-align:middle;\" /></a>, <a class=\"ProveItLink\" href=\"../__pv_it/theorems/e7a733f6071838c624bab1a2ecdcd3efaa06f4b40/expr.ipynb\"><img src=\"data:image/png;base64,iVBORw0KGgoAAAANSUhEUgAAADMAAAATBAMAAADPIygvAAAAMFBMVEX///8AAAAAAAAAAAAAAAAA\n",
       "AAAAAAAAAAAAAAAAAAAAAAAAAAAAAAAAAAAAAAAAAAAv3aB7AAAAD3RSTlMAEHaZZquJVO8y3btE\n",
       "zSKD2s2pAAAACXBIWXMAAA7EAAAOxAGVKw4bAAAA5UlEQVQoz2NgwALEdt3Vm4ZNgoEpwoHRfjNW\n",
       "KaNjDAwsWKU4DTYCyWAUMe1Vqy4AKVaBDUBSBFnmrCKE5uYzgDAYlR0YREEMvotQJU85EyAMNvYG\n",
       "Bn8Qg/cBVGoajwOEMZ15AUM0WApm8GMeBQhDgEOBoQnEmLEKCDaA7YIayHBegPMniJaG6eIGuxAE\n",
       "bBmYGkA0F0yKB+wvHiDeysAdAA4eBXhoHAXrYGAwZTgPcdF1eBjutWOsAvlNNMke4mzRPQKwkN/x\n",
       "yw7CyoWKHNsFDig4YLvA2M6AHXApsCbgkGJ3ssEhAwCM+y13eiDJfgAAAABJRU5ErkJggg==\n",
       "\" style=\"display:inline;vertical-align:middle;\" /></a>, <a class=\"ProveItLink\" href=\"../__pv_it/theorems/6bf1a18c2e3498be826f1c5ef7caab578b7ee8c80/expr.ipynb\"><img src=\"data:image/png;base64,iVBORw0KGgoAAAANSUhEUgAAADQAAAAQBAMAAACra0H4AAAAMFBMVEX///8AAAAAAAAAAAAAAAAA\n",
       "AAAAAAAAAAAAAAAAAAAAAAAAAAAAAAAAAAAAAAAAAAAv3aB7AAAAD3RSTlMAEHarMolUmd1mIs3v\n",
       "RLtmgJDEAAAACXBIWXMAAA7EAAAOxAGVKw4bAAAA0klEQVQY02NgwAIY47o3LQnAJsOgfJJB/F8B\n",
       "Nhl2XaCOeVil3PkEGBiYUaT0Ojo2gGhDPpB9E5BkbitCGQ+WQxlCyiKhCUCaayNUgMvAFcoqYDJi\n",
       "bwDS3AugAiwBNyEMzgWcH5lB5nLDDOYquARVw8AOtpvBpwMIHoDtWgpTxaMApuTg7nnIB2PdX8AI\n",
       "9AcDB1zqOshfDBcY5C7YMLCCBJgUEKFhwACyJt+xhuEaWGQbwu/bF4i1MzCIK7FVJoAFhN8KwEP+\n",
       "fPsClLC7+gISUFAAAPAALk9BTu5+AAAAAElFTkSuQmCC\n",
       "\" style=\"display:inline;vertical-align:middle;\" /></a> <a class=\"ProveItLink\" href=\"../__pv_it/demonstrations/362014a9a809397f2c29cb1cae3be35484fef49a0/proof.ipynb\" style=\"text-decoration: none\">&nbsp;&#x22A2;&nbsp;&nbsp;</a><a class=\"ProveItLink\" href=\"../__pv_it/demonstrations/5cae30d0f5b858e939e5cdb84171ed862f461cb70/expr.ipynb\"><img src=\"data:image/png;base64,iVBORw0KGgoAAAANSUhEUgAAAdMAAAAVBAMAAADvFhmDAAAAMFBMVEX///8AAAAAAAAAAAAAAAAA\n",
       "AAAAAAAAAAAAAAAAAAAAAAAAAAAAAAAAAAAAAAAAAAAv3aB7AAAAD3RSTlMAInZUiRDNmWbv3US7\n",
       "qzJazP2FAAAACXBIWXMAAA7EAAAOxAGVKw4bAAAEj0lEQVRYw41YXWgcVRT+dmcn+zPZZSkIIn3Y\n",
       "1kjah8JSS9vkpUvVUCSFJahFSDQKhYIvQYJuI8WoUF8KXSoVpAiLVYQWQ6gvCT5kU/omgUUqKvRh\n",
       "oYpQhbQPkUKheO7cu/fe3J/ZOXB2Mud833fOnTtz504AVJFkGeHujGnV9ALVlLHkgumYIp+tJ2Ke\n",
       "F25bVLNCLi0Gc0BxC6noRis+uzVkqHH+SCIkaHB32QErcsQHO+AY13I6+q5WvOZQs/LhfCLkDeEu\n",
       "G2kaAbcWg1lQsrNIRd/Vit/ODplWyueTL0dLuMsKC+KPNXF0azGYhGr2uRlI0Ypua8lqdrViMqIt\n",
       "3GlXxfGwOBb9sKt2uGjOdIpWdDucrGZXO5r8fMxzd9s5o+hRP+yc48Y2J3F4KwlDHRnysFJ+kQ4z\n",
       "h956WS5+My2EPXlPNbjjwUpGas2cQmUh+A44bRQlrXB8GXNSv3Kj/yyHnYbFzvWMblgr4f5f/3zJ\n",
       "24rkalVFRaUWji3jb0yqWY57pzy73AvZX/KdQaIxgcJD/VoxD9+dVs0SotyNngAXjaGSVi5o47Ja\n",
       "Scbu9Djsos0uxNO0dIPZD4PZz+NQbcnbiuRqVUXFgpx0FriHjVU59Lh3yl+n32phpzyYs0p9ieQG\n",
       "sFKde6aJV6AhijW8A0wYQyWt+3TN7slhPYNck8MmbHZgPnxExye43Pzd14rialVFRaXGAlcwIjcV\n",
       "vHfKXyNJ5PkleZsOIcGKNXGC4ip34DV2Q4T/gSO2+6A1dVtMy1diWkirSdwrAzZh2QXaFi71Obvy\n",
       "0Bgq0dHHB/5WFFerKirGanF/FKg8pdtDnIreKX8tXp74bqbERKIdJidO5FAzHPF9vEDs4CBAgXVj\n",
       "VpnWRpPqCDawh/2sC+dByY7ajqEivlC+ViRXr8orcrW4vxPNbBtZecp7p/z1GF0N5VNMM3wQ5g1M\n",
       "L7EQGmILFao8ad/ANClZNYRoGU0Om7TZQcd4VuNWokd43duK5OpVecVALjYUGO3hH/0FHMb528Ds\n",
       "6h/IyQTBttRJjXtQR1lHfBsTLhlDJS3ijqqV9UWgx2GXbHaha8wq0cOfy200/K0MuHpVXlFT20Kp\n",
       "oURE75SnxenEX+fxo7rqveixPGFLOPN/p8dWVLAbfY2fxNtBL8oW6QvYkG+lyp3br/Y5bNFm5809\n",
       "LdGDp2faUd3fyoCrV+UVNbVprPciuQCL3in/ADizP2ipb4rw7vgj9WLscG8EXyouPjw5t8jGc9Mo\n",
       "SlqYO/mxXPtymHhPwG7a7NKqMVSih+/Xjn3mb0Vy9aq8oqaWX3zht1NKlvdO+VLf2ljktH3JinDn\n",
       "92PHKMq1phywTMemP2cGUrTi3i1NudTsatZGfApv1nfvon07abk9X1Mb+9x8+IUD5trJt7yfD/5W\n",
       "HNt9UbE1ZKgsv2nEvsFd7Wy0yt1le63IJkq1csMB2+u4J7oO+rBWHMYrOtTsarNG8Pi4/gyFXe4u\n",
       "27Qiswg+/cgFs6Guzoe34voMiCuODvmPS5zP1BIxewYbAfvD3lZ3aTGYA4p9SEU3WvHZviH3L+X/\n",
       "BxbKU9r/CTyUAAAAAElFTkSuQmCC\n",
       "\" style=\"display:inline;vertical-align:middle;\" /></a></span>"
      ],
      "text/plain": [
       "{z in Complex, w in Complex, y in Complex, x in Complex} |- (x * y * ((z * w) + (y * z)) * w) = (x * y * (w + y) * w * z)"
      ]
     },
     "metadata": {},
     "output_type": "display_data"
    }
   ],
   "source": [
    "Mult(x, y, Add(Mult(z, w), Mult(y, z)), w).factorization(\n",
    "    z, 'right', assumptions=assumptions)"
   ]
  },
  {
   "cell_type": "code",
   "execution_count": 75,
   "metadata": {},
   "outputs": [
    {
     "data": {
      "text/html": [
       "<span style=\"font-size:20px;\"><a class=\"ProveItLink\" href=\"../__pv_it/demonstrations/38be8260be263ca8b59e57b7b7d03d561faffd580/expr.ipynb\"><img src=\"data:image/png;base64,iVBORw0KGgoAAAANSUhEUgAAADMAAAAQBAMAAABJt1qBAAAAMFBMVEX///8AAAAAAAAAAAAAAAAA\n",
       "AAAAAAAAAAAAAAAAAAAAAAAAAAAAAAAAAAAAAAAAAAAv3aB7AAAAD3RSTlMAMt0iZhDNdom7q0RU\n",
       "75mOI7qcAAAACXBIWXMAAA7EAAAOxAGVKw4bAAAAxklEQVQY02NgwAIiJqUVS2CTYGBf68D6fh5W\n",
       "qec7GBhYsEoxPpgKJNehiFUqKSUAKa6ACUAyBFlmWymE5mR+ANOvJGACoplToQJWjA1QVljFjAUg\n",
       "ms0AKiDB7QBlmTJwBIClYAbbcRfAmKytYEpWCQgmgO2CGchgDqEiYXxOsAtBAGgy2EAmmBQ32F/c\n",
       "QHyGgQHsDHa4Dc93AYlnQLfPmN4kABbJgYfhtMesh4B+42A4mw0RiZodAAv5uZ8eowbejknggIIB\n",
       "AAVvKXRyQEWZAAAAAElFTkSuQmCC\n",
       "\" style=\"display:inline;vertical-align:middle;\" /></a>, <a class=\"ProveItLink\" href=\"../__pv_it/demonstrations/70c0ce96202ce28a2e9c2a43dc9603d2926fcf150/expr.ipynb\"><img src=\"data:image/png;base64,iVBORw0KGgoAAAANSUhEUgAAADgAAAAQBAMAAACxV6F2AAAAMFBMVEX///8AAAAAAAAAAAAAAAAA\n",
       "AAAAAAAAAAAAAAAAAAAAAAAAAAAAAAAAAAAAAAAAAAAv3aB7AAAAD3RSTlMAEHaJZjKZVN3vq7tE\n",
       "zSL5cm/iAAAACXBIWXMAAA7EAAAOxAGVKw4bAAAA40lEQVQY02NgwAoYrXsvPTXALsegNYVB7HcC\n",
       "djk2HaAubxySYdwCDAxcaJLaHR0XQPRCbpC9DihyZxWhjA3PoO5SdmAIY6gAGsPAdxEqx7cgGMJg\n",
       "Zp/AsJrh/AEgk/cBVJLV4AiEEc7WwDAJIs4LM54v4RCEIcCpwPqVgQ3EjOwAgg1gOx9DldULME1g\n",
       "YAKxpOEu28gNZeQycC9giAGxOOCSx0D+ZAC6YxcDhwEDOBiZFBAhtABIAL1szXByAc8BsNh1RGhc\n",
       "eyDeBlKVrLjMBCIktUcAHivz2x6ghenhHZDggwIAlQIy1L/YH3QAAAAASUVORK5CYII=\n",
       "\" style=\"display:inline;vertical-align:middle;\" /></a>, <a class=\"ProveItLink\" href=\"../__pv_it/theorems/e7a733f6071838c624bab1a2ecdcd3efaa06f4b40/expr.ipynb\"><img src=\"data:image/png;base64,iVBORw0KGgoAAAANSUhEUgAAADMAAAATBAMAAADPIygvAAAAMFBMVEX///8AAAAAAAAAAAAAAAAA\n",
       "AAAAAAAAAAAAAAAAAAAAAAAAAAAAAAAAAAAAAAAAAAAv3aB7AAAAD3RSTlMAEHaZZquJVO8y3btE\n",
       "zSKD2s2pAAAACXBIWXMAAA7EAAAOxAGVKw4bAAAA5UlEQVQoz2NgwALEdt3Vm4ZNgoEpwoHRfjNW\n",
       "KaNjDAwsWKU4DTYCyWAUMe1Vqy4AKVaBDUBSBFnmrCKE5uYzgDAYlR0YREEMvotQJU85EyAMNvYG\n",
       "Bn8Qg/cBVGoajwOEMZ15AUM0WApm8GMeBQhDgEOBoQnEmLEKCDaA7YIayHBegPMniJaG6eIGuxAE\n",
       "bBmYGkA0F0yKB+wvHiDeysAdAA4eBXhoHAXrYGAwZTgPcdF1eBjutWOsAvlNNMke4mzRPQKwkN/x\n",
       "yw7CyoWKHNsFDig4YLvA2M6AHXApsCbgkGJ3ssEhAwCM+y13eiDJfgAAAABJRU5ErkJggg==\n",
       "\" style=\"display:inline;vertical-align:middle;\" /></a>, <a class=\"ProveItLink\" href=\"../__pv_it/theorems/6bf1a18c2e3498be826f1c5ef7caab578b7ee8c80/expr.ipynb\"><img src=\"data:image/png;base64,iVBORw0KGgoAAAANSUhEUgAAADQAAAAQBAMAAACra0H4AAAAMFBMVEX///8AAAAAAAAAAAAAAAAA\n",
       "AAAAAAAAAAAAAAAAAAAAAAAAAAAAAAAAAAAAAAAAAAAv3aB7AAAAD3RSTlMAEHarMolUmd1mIs3v\n",
       "RLtmgJDEAAAACXBIWXMAAA7EAAAOxAGVKw4bAAAA0klEQVQY02NgwAIY47o3LQnAJsOgfJJB/F8B\n",
       "Nhl2XaCOeVil3PkEGBiYUaT0Ojo2gGhDPpB9E5BkbitCGQ+WQxlCyiKhCUCaayNUgMvAFcoqYDJi\n",
       "bwDS3AugAiwBNyEMzgWcH5lB5nLDDOYquARVw8AOtpvBpwMIHoDtWgpTxaMApuTg7nnIB2PdX8AI\n",
       "9AcDB1zqOshfDBcY5C7YMLCCBJgUEKFhwACyJt+xhuEaWGQbwu/bF4i1MzCIK7FVJoAFhN8KwEP+\n",
       "fPsClLC7+gISUFAAAPAALk9BTu5+AAAAAElFTkSuQmCC\n",
       "\" style=\"display:inline;vertical-align:middle;\" /></a> <a class=\"ProveItLink\" href=\"../__pv_it/demonstrations/362014a9a809397f2c29cb1cae3be35484fef49a0/proof.ipynb\" style=\"text-decoration: none\">&nbsp;&#x22A2;&nbsp;&nbsp;</a><a class=\"ProveItLink\" href=\"../__pv_it/demonstrations/5cae30d0f5b858e939e5cdb84171ed862f461cb70/expr.ipynb\"><img src=\"data:image/png;base64,iVBORw0KGgoAAAANSUhEUgAAAdMAAAAVBAMAAADvFhmDAAAAMFBMVEX///8AAAAAAAAAAAAAAAAA\n",
       "AAAAAAAAAAAAAAAAAAAAAAAAAAAAAAAAAAAAAAAAAAAv3aB7AAAAD3RSTlMAInZUiRDNmWbv3US7\n",
       "qzJazP2FAAAACXBIWXMAAA7EAAAOxAGVKw4bAAAEj0lEQVRYw41YXWgcVRT+dmcn+zPZZSkIIn3Y\n",
       "1kjah8JSS9vkpUvVUCSFJahFSDQKhYIvQYJuI8WoUF8KXSoVpAiLVYQWQ6gvCT5kU/omgUUqKvRh\n",
       "oYpQhbQPkUKheO7cu/fe3J/ZOXB2Mud833fOnTtz504AVJFkGeHujGnV9ALVlLHkgumYIp+tJ2Ke\n",
       "F25bVLNCLi0Gc0BxC6noRis+uzVkqHH+SCIkaHB32QErcsQHO+AY13I6+q5WvOZQs/LhfCLkDeEu\n",
       "G2kaAbcWg1lQsrNIRd/Vit/ODplWyueTL0dLuMsKC+KPNXF0azGYhGr2uRlI0Ypua8lqdrViMqIt\n",
       "3GlXxfGwOBb9sKt2uGjOdIpWdDucrGZXO5r8fMxzd9s5o+hRP+yc48Y2J3F4KwlDHRnysFJ+kQ4z\n",
       "h956WS5+My2EPXlPNbjjwUpGas2cQmUh+A44bRQlrXB8GXNSv3Kj/yyHnYbFzvWMblgr4f5f/3zJ\n",
       "24rkalVFRaUWji3jb0yqWY57pzy73AvZX/KdQaIxgcJD/VoxD9+dVs0SotyNngAXjaGSVi5o47Ja\n",
       "Scbu9Djsos0uxNO0dIPZD4PZz+NQbcnbiuRqVUXFgpx0FriHjVU59Lh3yl+n32phpzyYs0p9ieQG\n",
       "sFKde6aJV6AhijW8A0wYQyWt+3TN7slhPYNck8MmbHZgPnxExye43Pzd14rialVFRaXGAlcwIjcV\n",
       "vHfKXyNJ5PkleZsOIcGKNXGC4ip34DV2Q4T/gSO2+6A1dVtMy1diWkirSdwrAzZh2QXaFi71Obvy\n",
       "0Bgq0dHHB/5WFFerKirGanF/FKg8pdtDnIreKX8tXp74bqbERKIdJidO5FAzHPF9vEDs4CBAgXVj\n",
       "VpnWRpPqCDawh/2sC+dByY7ajqEivlC+ViRXr8orcrW4vxPNbBtZecp7p/z1GF0N5VNMM3wQ5g1M\n",
       "L7EQGmILFao8ad/ANClZNYRoGU0Om7TZQcd4VuNWokd43duK5OpVecVALjYUGO3hH/0FHMb528Ds\n",
       "6h/IyQTBttRJjXtQR1lHfBsTLhlDJS3ijqqV9UWgx2GXbHaha8wq0cOfy200/K0MuHpVXlFT20Kp\n",
       "oURE75SnxenEX+fxo7rqveixPGFLOPN/p8dWVLAbfY2fxNtBL8oW6QvYkG+lyp3br/Y5bNFm5809\n",
       "LdGDp2faUd3fyoCrV+UVNbVprPciuQCL3in/ADizP2ipb4rw7vgj9WLscG8EXyouPjw5t8jGc9Mo\n",
       "SlqYO/mxXPtymHhPwG7a7NKqMVSih+/Xjn3mb0Vy9aq8oqaWX3zht1NKlvdO+VLf2ljktH3JinDn\n",
       "92PHKMq1phywTMemP2cGUrTi3i1NudTsatZGfApv1nfvon07abk9X1Mb+9x8+IUD5trJt7yfD/5W\n",
       "HNt9UbE1ZKgsv2nEvsFd7Wy0yt1le63IJkq1csMB2+u4J7oO+rBWHMYrOtTsarNG8Pi4/gyFXe4u\n",
       "27Qiswg+/cgFs6Guzoe34voMiCuODvmPS5zP1BIxewYbAfvD3lZ3aTGYA4p9SEU3WvHZviH3L+X/\n",
       "BxbKU9r/CTyUAAAAAElFTkSuQmCC\n",
       "\" style=\"display:inline;vertical-align:middle;\" /></a></span>"
      ],
      "text/plain": [
       "{z in Complex, w in Complex, y in Complex, x in Complex} |- (x * y * ((z * w) + (y * z)) * w) = (x * y * (w + y) * w * z)"
      ]
     },
     "metadata": {},
     "output_type": "display_data"
    }
   ],
   "source": [
    "Mult(x, y, Add(Mult(z, w), Mult(y, z)), w).factorization(\n",
    "    z, 'right', assumptions=assumptions, group_remainder=True)"
   ]
  },
  {
   "cell_type": "code",
   "execution_count": 76,
   "metadata": {},
   "outputs": [
    {
     "data": {
      "text/html": [
       "<span style=\"font-size:20px;\"><a class=\"ProveItLink\" href=\"../__pv_it/theorems/e7a733f6071838c624bab1a2ecdcd3efaa06f4b40/expr.ipynb\"><img src=\"data:image/png;base64,iVBORw0KGgoAAAANSUhEUgAAADMAAAATBAMAAADPIygvAAAAMFBMVEX///8AAAAAAAAAAAAAAAAA\n",
       "AAAAAAAAAAAAAAAAAAAAAAAAAAAAAAAAAAAAAAAAAAAv3aB7AAAAD3RSTlMAEHaZZquJVO8y3btE\n",
       "zSKD2s2pAAAACXBIWXMAAA7EAAAOxAGVKw4bAAAA5UlEQVQoz2NgwALEdt3Vm4ZNgoEpwoHRfjNW\n",
       "KaNjDAwsWKU4DTYCyWAUMe1Vqy4AKVaBDUBSBFnmrCKE5uYzgDAYlR0YREEMvotQJU85EyAMNvYG\n",
       "Bn8Qg/cBVGoajwOEMZ15AUM0WApm8GMeBQhDgEOBoQnEmLEKCDaA7YIayHBegPMniJaG6eIGuxAE\n",
       "bBmYGkA0F0yKB+wvHiDeysAdAA4eBXhoHAXrYGAwZTgPcdF1eBjutWOsAvlNNMke4mzRPQKwkN/x\n",
       "yw7CyoWKHNsFDig4YLvA2M6AHXApsCbgkGJ3ssEhAwCM+y13eiDJfgAAAABJRU5ErkJggg==\n",
       "\" style=\"display:inline;vertical-align:middle;\" /></a>, <a class=\"ProveItLink\" href=\"../__pv_it/demonstrations/38be8260be263ca8b59e57b7b7d03d561faffd580/expr.ipynb\"><img src=\"data:image/png;base64,iVBORw0KGgoAAAANSUhEUgAAADMAAAAQBAMAAABJt1qBAAAAMFBMVEX///8AAAAAAAAAAAAAAAAA\n",
       "AAAAAAAAAAAAAAAAAAAAAAAAAAAAAAAAAAAAAAAAAAAv3aB7AAAAD3RSTlMAMt0iZhDNdom7q0RU\n",
       "75mOI7qcAAAACXBIWXMAAA7EAAAOxAGVKw4bAAAAxklEQVQY02NgwAIiJqUVS2CTYGBf68D6fh5W\n",
       "qec7GBhYsEoxPpgKJNehiFUqKSUAKa6ACUAyBFlmWymE5mR+ANOvJGACoplToQJWjA1QVljFjAUg\n",
       "ms0AKiDB7QBlmTJwBIClYAbbcRfAmKytYEpWCQgmgO2CGchgDqEiYXxOsAtBAGgy2EAmmBQ32F/c\n",
       "QHyGgQHsDHa4Dc93AYlnQLfPmN4kABbJgYfhtMesh4B+42A4mw0RiZodAAv5uZ8eowbejknggIIB\n",
       "AAVvKXRyQEWZAAAAAElFTkSuQmCC\n",
       "\" style=\"display:inline;vertical-align:middle;\" /></a>, <a class=\"ProveItLink\" href=\"../__pv_it/demonstrations/70c0ce96202ce28a2e9c2a43dc9603d2926fcf150/expr.ipynb\"><img src=\"data:image/png;base64,iVBORw0KGgoAAAANSUhEUgAAADgAAAAQBAMAAACxV6F2AAAAMFBMVEX///8AAAAAAAAAAAAAAAAA\n",
       "AAAAAAAAAAAAAAAAAAAAAAAAAAAAAAAAAAAAAAAAAAAv3aB7AAAAD3RSTlMAEHaJZjKZVN3vq7tE\n",
       "zSL5cm/iAAAACXBIWXMAAA7EAAAOxAGVKw4bAAAA40lEQVQY02NgwAoYrXsvPTXALsegNYVB7HcC\n",
       "djk2HaAubxySYdwCDAxcaJLaHR0XQPRCbpC9DihyZxWhjA3PoO5SdmAIY6gAGsPAdxEqx7cgGMJg\n",
       "Zp/AsJrh/AEgk/cBVJLV4AiEEc7WwDAJIs4LM54v4RCEIcCpwPqVgQ3EjOwAgg1gOx9DldULME1g\n",
       "YAKxpOEu28gNZeQycC9giAGxOOCSx0D+ZAC6YxcDhwEDOBiZFBAhtABIAL1szXByAc8BsNh1RGhc\n",
       "eyDeBlKVrLjMBCIktUcAHivz2x6ghenhHZDggwIAlQIy1L/YH3QAAAAASUVORK5CYII=\n",
       "\" style=\"display:inline;vertical-align:middle;\" /></a>, <a class=\"ProveItLink\" href=\"../__pv_it/theorems/6bf1a18c2e3498be826f1c5ef7caab578b7ee8c80/expr.ipynb\"><img src=\"data:image/png;base64,iVBORw0KGgoAAAANSUhEUgAAADQAAAAQBAMAAACra0H4AAAAMFBMVEX///8AAAAAAAAAAAAAAAAA\n",
       "AAAAAAAAAAAAAAAAAAAAAAAAAAAAAAAAAAAAAAAAAAAv3aB7AAAAD3RSTlMAEHarMolUmd1mIs3v\n",
       "RLtmgJDEAAAACXBIWXMAAA7EAAAOxAGVKw4bAAAA0klEQVQY02NgwAIY47o3LQnAJsOgfJJB/F8B\n",
       "Nhl2XaCOeVil3PkEGBiYUaT0Ojo2gGhDPpB9E5BkbitCGQ+WQxlCyiKhCUCaayNUgMvAFcoqYDJi\n",
       "bwDS3AugAiwBNyEMzgWcH5lB5nLDDOYquARVw8AOtpvBpwMIHoDtWgpTxaMApuTg7nnIB2PdX8AI\n",
       "9AcDB1zqOshfDBcY5C7YMLCCBJgUEKFhwACyJt+xhuEaWGQbwu/bF4i1MzCIK7FVJoAFhN8KwEP+\n",
       "fPsClLC7+gISUFAAAPAALk9BTu5+AAAAAElFTkSuQmCC\n",
       "\" style=\"display:inline;vertical-align:middle;\" /></a> <a class=\"ProveItLink\" href=\"../__pv_it/demonstrations/f56ffb6a465f1fba3f33e2d95500ed4a695937e30/proof.ipynb\" style=\"text-decoration: none\">&nbsp;&#x22A2;&nbsp;&nbsp;</a><a class=\"ProveItLink\" href=\"../__pv_it/demonstrations/91818be8ac8c8f95e428ac58bae19725941f4f1c0/expr.ipynb\"><img src=\"data:image/png;base64,iVBORw0KGgoAAAANSUhEUgAAAdMAAAAVBAMAAADvFhmDAAAAMFBMVEX///8AAAAAAAAAAAAAAAAA\n",
       "AAAAAAAAAAAAAAAAAAAAAAAAAAAAAAAAAAAAAAAAAAAv3aB7AAAAD3RSTlMAInZUiRDNmWbv3US7\n",
       "qzJazP2FAAAACXBIWXMAAA7EAAAOxAGVKw4bAAAEXElEQVRYw5VXXWgUVxg9u7OT/UuWRSiUkoe1\n",
       "pkQfCkuUYPKSRWwQibAEsRSSNhYEwZc8BF2V4tIHfQk0WFIoIiyNIiiGxb4k+JBVfA0sRSgFHwKl\n",
       "FKwQ+5BSKIj3b+7cvfebm+0HXyZz5nznO3fuzN07AMrwRUolfcWOcv8C5T4xj6+kKCdA6apX8pBK\n",
       "N4oVB6K0OI2g4gn6Kvf5SoonCdAxr2JQk0nFYQc5lkQ7TIyr2V95sq/EIKQ5FC54Jc+ppGKgbgG0\n",
       "Fqc5VBYX0Fd5sq/kuEBC2aa3qKGSityi+mdDHWktTtNUI27ZwD5WHF9mbPilBZT3S66oJGNVHcfU\n",
       "MZ9MW3XhvD3T+f5H6nga80sLaNz/SizIpOOi1Wc8mXaReLDtSRz/H6/qgneoA02q2xI7zH765Um9\n",
       "+M02EHb1M1WTidfrKV0+ewqlxeA+cMbqw7TC0SbmtX7p4c6HknYGTnWma7nhVnobeX1pIcOCah9L\n",
       "hyNN/InJOof47V5M/5JtRRdrE8i9NW8Pz/DrmdgsYwx1iv8BN62hMq1MsILv4sVj5EVX0m661Tkx\n",
       "M9ce8ngczX5PI78vLWRYUO1zetI58ApbbQ6tsQvl3N5QdCtL1WtMIWIWqjJTdXwGg5Gv4DwwYQ2V\n",
       "af3OvL3SXj9Api5pE251YL9va+ht5PcVCxkWVPtYmgO3MVDm0B2mgqy8C1+xQ8iu5CvqBPm2TOAs\n",
       "f9PDfyAZuztga+qumpYf1bQwrTqrvR1VMy73vatS68vq0ltrqHfQ24j0Ja5wT7GQYUG1F9LCAgNK\n",
       "75AVkNDPy91MgdcV97iCOtFDTUnGA7Em7OEIwIBNa1a51ladSatq4AD/s6lSgrq6uEIN1WxE+nqg\n",
       "hhoLmRZkeyEtLUzV0ytIC2hNEMqhXp7ZnTwC+wFmv1shDMY2SqzZpPsA4zLS8RCKTdQlbdKtDlrW\n",
       "u7oGq5HflxYyLcj2gX7DGTDYxV8Ceg7MtX9DRl9jV7bjk4rMoIohk3FPFCxbQ2VarHYwXlmPAl1J\n",
       "W3arcx1rVnm52Wg/X5GQaUG2N6S3UaihJiC23k39cRU/x3e9W/xXn/BVm+ebmZH1GOwU7+Jp9Otg\n",
       "9OFr5zfY0j8WpRfPT+9I2pJbnbW3sbzcbLSfr0jItCDbG9Iz2OwW2wJ6DXz+cdCIvynCl6N/xz+M\n",
       "LZm14Id27OnKifklPp5HVh+mhfkTN/Q3VAYTlxTtkVtdaFtD5eVmo318aSHTgmxvSGeXPvn1lOxW\n",
       "2HE2FhljK7KukvxkbFl9pNY0QUu13PKPbICw4vVF75amKWkBORvxaXxR7d0430porbfnG/HGPrMQ\n",
       "fk/QqJ18I/HzgQzXF7HdV+0bdLdnFvYTXhpng2WZVAw7yDMUKkM1gjZMPBMdotwTri8iZHtCWkBz\n",
       "Fnh81HyHwo5MKlxncwi+vU7RiEEQZud8Q3V9UZ8Boj0hLaBUxfuCHIg2Au6HvStIaXEaQcVB9FXu\n",
       "85UUB0noPc7EUlQfl+J/AAAAAElFTkSuQmCC\n",
       "\" style=\"display:inline;vertical-align:middle;\" /></a></span>"
      ],
      "text/plain": [
       "{y in Complex, z in Complex, w in Complex, x in Complex} |- (x * y * ((z * w) + (y * z)) * w) = (z * x * y * (w + y) * w)"
      ]
     },
     "metadata": {},
     "output_type": "display_data"
    }
   ],
   "source": [
    "Mult(x, y, Add(Mult(z, w), Mult(y, z)), w).factorization(\n",
    "    z, 'left', assumptions=assumptions, group_remainder=True)"
   ]
  },
  {
   "cell_type": "code",
   "execution_count": 77,
   "metadata": {},
   "outputs": [
    {
     "data": {
      "text/html": [
       "<span style=\"font-size:20px;\"><a class=\"ProveItLink\" href=\"../__pv_it/theorems/6bf1a18c2e3498be826f1c5ef7caab578b7ee8c80/expr.ipynb\"><img src=\"data:image/png;base64,iVBORw0KGgoAAAANSUhEUgAAADQAAAAQBAMAAACra0H4AAAAMFBMVEX///8AAAAAAAAAAAAAAAAA\n",
       "AAAAAAAAAAAAAAAAAAAAAAAAAAAAAAAAAAAAAAAAAAAv3aB7AAAAD3RSTlMAEHarMolUmd1mIs3v\n",
       "RLtmgJDEAAAACXBIWXMAAA7EAAAOxAGVKw4bAAAA0klEQVQY02NgwAIY47o3LQnAJsOgfJJB/F8B\n",
       "Nhl2XaCOeVil3PkEGBiYUaT0Ojo2gGhDPpB9E5BkbitCGQ+WQxlCyiKhCUCaayNUgMvAFcoqYDJi\n",
       "bwDS3AugAiwBNyEMzgWcH5lB5nLDDOYquARVw8AOtpvBpwMIHoDtWgpTxaMApuTg7nnIB2PdX8AI\n",
       "9AcDB1zqOshfDBcY5C7YMLCCBJgUEKFhwACyJt+xhuEaWGQbwu/bF4i1MzCIK7FVJoAFhN8KwEP+\n",
       "fPsClLC7+gISUFAAAPAALk9BTu5+AAAAAElFTkSuQmCC\n",
       "\" style=\"display:inline;vertical-align:middle;\" /></a>, <a class=\"ProveItLink\" href=\"../__pv_it/theorems/e7a733f6071838c624bab1a2ecdcd3efaa06f4b40/expr.ipynb\"><img src=\"data:image/png;base64,iVBORw0KGgoAAAANSUhEUgAAADMAAAATBAMAAADPIygvAAAAMFBMVEX///8AAAAAAAAAAAAAAAAA\n",
       "AAAAAAAAAAAAAAAAAAAAAAAAAAAAAAAAAAAAAAAAAAAv3aB7AAAAD3RSTlMAEHaZZquJVO8y3btE\n",
       "zSKD2s2pAAAACXBIWXMAAA7EAAAOxAGVKw4bAAAA5UlEQVQoz2NgwALEdt3Vm4ZNgoEpwoHRfjNW\n",
       "KaNjDAwsWKU4DTYCyWAUMe1Vqy4AKVaBDUBSBFnmrCKE5uYzgDAYlR0YREEMvotQJU85EyAMNvYG\n",
       "Bn8Qg/cBVGoajwOEMZ15AUM0WApm8GMeBQhDgEOBoQnEmLEKCDaA7YIayHBegPMniJaG6eIGuxAE\n",
       "bBmYGkA0F0yKB+wvHiDeysAdAA4eBXhoHAXrYGAwZTgPcdF1eBjutWOsAvlNNMke4mzRPQKwkN/x\n",
       "yw7CyoWKHNsFDig4YLvA2M6AHXApsCbgkGJ3ssEhAwCM+y13eiDJfgAAAABJRU5ErkJggg==\n",
       "\" style=\"display:inline;vertical-align:middle;\" /></a>, <a class=\"ProveItLink\" href=\"../__pv_it/demonstrations/38be8260be263ca8b59e57b7b7d03d561faffd580/expr.ipynb\"><img src=\"data:image/png;base64,iVBORw0KGgoAAAANSUhEUgAAADMAAAAQBAMAAABJt1qBAAAAMFBMVEX///8AAAAAAAAAAAAAAAAA\n",
       "AAAAAAAAAAAAAAAAAAAAAAAAAAAAAAAAAAAAAAAAAAAv3aB7AAAAD3RSTlMAMt0iZhDNdom7q0RU\n",
       "75mOI7qcAAAACXBIWXMAAA7EAAAOxAGVKw4bAAAAxklEQVQY02NgwAIiJqUVS2CTYGBf68D6fh5W\n",
       "qec7GBhYsEoxPpgKJNehiFUqKSUAKa6ACUAyBFlmWymE5mR+ANOvJGACoplToQJWjA1QVljFjAUg\n",
       "ms0AKiDB7QBlmTJwBIClYAbbcRfAmKytYEpWCQgmgO2CGchgDqEiYXxOsAtBAGgy2EAmmBQ32F/c\n",
       "QHyGgQHsDHa4Dc93AYlnQLfPmN4kABbJgYfhtMesh4B+42A4mw0RiZodAAv5uZ8eowbejknggIIB\n",
       "AAVvKXRyQEWZAAAAAElFTkSuQmCC\n",
       "\" style=\"display:inline;vertical-align:middle;\" /></a>, <a class=\"ProveItLink\" href=\"../__pv_it/demonstrations/70c0ce96202ce28a2e9c2a43dc9603d2926fcf150/expr.ipynb\"><img src=\"data:image/png;base64,iVBORw0KGgoAAAANSUhEUgAAADgAAAAQBAMAAACxV6F2AAAAMFBMVEX///8AAAAAAAAAAAAAAAAA\n",
       "AAAAAAAAAAAAAAAAAAAAAAAAAAAAAAAAAAAAAAAAAAAv3aB7AAAAD3RSTlMAEHaJZjKZVN3vq7tE\n",
       "zSL5cm/iAAAACXBIWXMAAA7EAAAOxAGVKw4bAAAA40lEQVQY02NgwAoYrXsvPTXALsegNYVB7HcC\n",
       "djk2HaAubxySYdwCDAxcaJLaHR0XQPRCbpC9DihyZxWhjA3PoO5SdmAIY6gAGsPAdxEqx7cgGMJg\n",
       "Zp/AsJrh/AEgk/cBVJLV4AiEEc7WwDAJIs4LM54v4RCEIcCpwPqVgQ3EjOwAgg1gOx9DldULME1g\n",
       "YAKxpOEu28gNZeQycC9giAGxOOCSx0D+ZAC6YxcDhwEDOBiZFBAhtABIAL1szXByAc8BsNh1RGhc\n",
       "eyDeBlKVrLjMBCIktUcAHivz2x6ghenhHZDggwIAlQIy1L/YH3QAAAAASUVORK5CYII=\n",
       "\" style=\"display:inline;vertical-align:middle;\" /></a> <a class=\"ProveItLink\" href=\"../__pv_it/demonstrations/b8f627b18815a1725f539ae05af4e1223fb67f920/proof.ipynb\" style=\"text-decoration: none\">&nbsp;&#x22A2;&nbsp;&nbsp;</a><a class=\"ProveItLink\" href=\"../__pv_it/demonstrations/146e5309f412ea696af891b47dc232382901c9b00/expr.ipynb\"><img src=\"data:image/png;base64,iVBORw0KGgoAAAANSUhEUgAAAdMAAAAVBAMAAADvFhmDAAAAMFBMVEX///8AAAAAAAAAAAAAAAAA\n",
       "AAAAAAAAAAAAAAAAAAAAAAAAAAAAAAAAAAAAAAAAAAAv3aB7AAAAD3RSTlMAInZUiRDNmWbv3US7\n",
       "qzJazP2FAAAACXBIWXMAAA7EAAAOxAGVKw4bAAAEMUlEQVRYw51XT0hUQRj/1rcv948uixBEeFhL\n",
       "sA7BYiLppSVKIhQWiSLQsiAIunhYyoxIOtglSAqDkECyCJRE6mJ0aBOvwRJdgg5CdJHAOhhBEH2z\n",
       "8715szPfzr784Ldv38zv932/efPevHkAkAVXxAh8jxnZ6AmyEduiRczRlw0yN+WdOfYT7EjnrCYu\n",
       "l6AxVHgFkeQRY7+j71VQrceZwitIcHHAaumpRzvAjGsqmjxS1LOoKgn4Y84cZwhc7CoaDXwuQbOo\n",
       "GJchkjxSnHH2XpZonnKyJghcJMbpzyod+VyCpqha3DUbGlhpZFOPVasSIunOMUNgY5aO3XRM1qfN\n",
       "2s1Jc6aTOx6pZbHbqoTodT8DYxJ8XDES99anXWFubHMSe3f+qI45hyoqIUr4d/jQ+eNq8RueAL+i\n",
       "7qmCBGwux5Sz4ZOQGfeeAwwZiTGX3zUFo6pGZnFjj6QNgaWOVwx/Jb2Xoqau02aNkhyRG1EJIS73\n",
       "eNPH5vlAVuiDxA/jeoB/aTA0i4zWcvoPwLQxVMwV92bgfrhadK5XJG3aVieqUzG5KOJlMPuql7zq\n",
       "dd02a5TkiNyISogF/M0mtluDa5fJT6IkyJHKS8SKcAI0RjIHFwH6jKFirq9o5osytxviRUnrs9We\n",
       "+YAt6L20M9Dqum3WKskRuRGVEHMog2Z5r1/Agw8PhESeQHJFAuC0WET8XyAZWxuAa+oWTctjmhbM\n",
       "VUTtg0CNXGF0i6DyS3XmhzHUOb03yBDWddvUlKEjciMqIeaqS5TczaQEMb0tJHSihhqTjBfVRWAb\n",
       "DgJgwxtjVkWud8XM30AN0CZ+3hBko1KnZ+yhhr2UQa/rthkqNUfSjaiEWKi2ZH218uOlOwjmDYwv\n",
       "Kh80xgfIYPZ++waGa9AUDiE9BUVJ67fV3rzxrC7oveoFGdZ126xRBo6kG1EJsQYwsvIZ4krWUkGJ\n",
       "OslJeHlo1RnPqoJ7xlAxF2pbwpX1MEBF0u7Z6kTZmNU1vZfeIlrdRjZ1ZeBIuhGVELjAHf12A16H\n",
       "V72S/q1OaJmG74Ody2FjOf0E3tLbQU8sFstb8E69HTLra6c2JK1kq5vNfeuQ3itDr9vIpq4MHEk3\n",
       "9MrcBDi7z5sIvyn8T10/wxfjvETBexTeVHD92GhJjGfJSIy5YPTYbfUpFoe+q0RbstWpFWOom3ov\n",
       "vVK0ug1s1igDR9KNqIRIbVh7j7i291gmsN+I80ZimWuAoSmqFnvNBsaKK0yb/G5pgCrtZTbiA3Au\n",
       "b+2U2VDb89VwYx8f8x8yNG4nP1H38yFK2DaZ7T65Cb5Z3husp/BJO2vJSnDRbrW8h1SutcDQ2pl7\n",
       "oszIo4dtkwnpRlSqVhsxuo906c+QX5bgwnY2At6dmxyNGQTjbuQ/hmrb5D4Dqm7UdMVyzpRtwUbA\n",
       "/ri3vXK5BI2hQgdEkkeMNkdfh8Q/dDZRNx42LfsAAAAASUVORK5CYII=\n",
       "\" style=\"display:inline;vertical-align:middle;\" /></a></span>"
      ],
      "text/plain": [
       "{x in Complex, y in Complex, z in Complex, w in Complex} |- (x * y * ((z * w) + (y * z)) * w) = (w * z * x * y * (w + y))"
      ]
     },
     "metadata": {},
     "output_type": "display_data"
    }
   ],
   "source": [
    "Mult(x, y, Add(Mult(z, w), Mult(y, z)), w).factorization(\n",
    "    Mult(w, z, x), 'left', assumptions=assumptions)"
   ]
  },
  {
   "cell_type": "code",
   "execution_count": 78,
   "metadata": {},
   "outputs": [
    {
     "data": {
      "text/html": [
       "<span style=\"font-size:20px;\"><a class=\"ProveItLink\" href=\"../__pv_it/demonstrations/38be8260be263ca8b59e57b7b7d03d561faffd580/expr.ipynb\"><img src=\"data:image/png;base64,iVBORw0KGgoAAAANSUhEUgAAADMAAAAQBAMAAABJt1qBAAAAMFBMVEX///8AAAAAAAAAAAAAAAAA\n",
       "AAAAAAAAAAAAAAAAAAAAAAAAAAAAAAAAAAAAAAAAAAAv3aB7AAAAD3RSTlMAMt0iZhDNdom7q0RU\n",
       "75mOI7qcAAAACXBIWXMAAA7EAAAOxAGVKw4bAAAAxklEQVQY02NgwAIiJqUVS2CTYGBf68D6fh5W\n",
       "qec7GBhYsEoxPpgKJNehiFUqKSUAKa6ACUAyBFlmWymE5mR+ANOvJGACoplToQJWjA1QVljFjAUg\n",
       "ms0AKiDB7QBlmTJwBIClYAbbcRfAmKytYEpWCQgmgO2CGchgDqEiYXxOsAtBAGgy2EAmmBQ32F/c\n",
       "QHyGgQHsDHa4Dc93AYlnQLfPmN4kABbJgYfhtMesh4B+42A4mw0RiZodAAv5uZ8eowbejknggIIB\n",
       "AAVvKXRyQEWZAAAAAElFTkSuQmCC\n",
       "\" style=\"display:inline;vertical-align:middle;\" /></a>, <a class=\"ProveItLink\" href=\"../__pv_it/demonstrations/70c0ce96202ce28a2e9c2a43dc9603d2926fcf150/expr.ipynb\"><img src=\"data:image/png;base64,iVBORw0KGgoAAAANSUhEUgAAADgAAAAQBAMAAACxV6F2AAAAMFBMVEX///8AAAAAAAAAAAAAAAAA\n",
       "AAAAAAAAAAAAAAAAAAAAAAAAAAAAAAAAAAAAAAAAAAAv3aB7AAAAD3RSTlMAEHaJZjKZVN3vq7tE\n",
       "zSL5cm/iAAAACXBIWXMAAA7EAAAOxAGVKw4bAAAA40lEQVQY02NgwAoYrXsvPTXALsegNYVB7HcC\n",
       "djk2HaAubxySYdwCDAxcaJLaHR0XQPRCbpC9DihyZxWhjA3PoO5SdmAIY6gAGsPAdxEqx7cgGMJg\n",
       "Zp/AsJrh/AEgk/cBVJLV4AiEEc7WwDAJIs4LM54v4RCEIcCpwPqVgQ3EjOwAgg1gOx9DldULME1g\n",
       "YAKxpOEu28gNZeQycC9giAGxOOCSx0D+ZAC6YxcDhwEDOBiZFBAhtABIAL1szXByAc8BsNh1RGhc\n",
       "eyDeBlKVrLjMBCIktUcAHivz2x6ghenhHZDggwIAlQIy1L/YH3QAAAAASUVORK5CYII=\n",
       "\" style=\"display:inline;vertical-align:middle;\" /></a>, <a class=\"ProveItLink\" href=\"../__pv_it/theorems/e7a733f6071838c624bab1a2ecdcd3efaa06f4b40/expr.ipynb\"><img src=\"data:image/png;base64,iVBORw0KGgoAAAANSUhEUgAAADMAAAATBAMAAADPIygvAAAAMFBMVEX///8AAAAAAAAAAAAAAAAA\n",
       "AAAAAAAAAAAAAAAAAAAAAAAAAAAAAAAAAAAAAAAAAAAv3aB7AAAAD3RSTlMAEHaZZquJVO8y3btE\n",
       "zSKD2s2pAAAACXBIWXMAAA7EAAAOxAGVKw4bAAAA5UlEQVQoz2NgwALEdt3Vm4ZNgoEpwoHRfjNW\n",
       "KaNjDAwsWKU4DTYCyWAUMe1Vqy4AKVaBDUBSBFnmrCKE5uYzgDAYlR0YREEMvotQJU85EyAMNvYG\n",
       "Bn8Qg/cBVGoajwOEMZ15AUM0WApm8GMeBQhDgEOBoQnEmLEKCDaA7YIayHBegPMniJaG6eIGuxAE\n",
       "bBmYGkA0F0yKB+wvHiDeysAdAA4eBXhoHAXrYGAwZTgPcdF1eBjutWOsAvlNNMke4mzRPQKwkN/x\n",
       "yw7CyoWKHNsFDig4YLvA2M6AHXApsCbgkGJ3ssEhAwCM+y13eiDJfgAAAABJRU5ErkJggg==\n",
       "\" style=\"display:inline;vertical-align:middle;\" /></a>, <a class=\"ProveItLink\" href=\"../__pv_it/theorems/6bf1a18c2e3498be826f1c5ef7caab578b7ee8c80/expr.ipynb\"><img src=\"data:image/png;base64,iVBORw0KGgoAAAANSUhEUgAAADQAAAAQBAMAAACra0H4AAAAMFBMVEX///8AAAAAAAAAAAAAAAAA\n",
       "AAAAAAAAAAAAAAAAAAAAAAAAAAAAAAAAAAAAAAAAAAAv3aB7AAAAD3RSTlMAEHarMolUmd1mIs3v\n",
       "RLtmgJDEAAAACXBIWXMAAA7EAAAOxAGVKw4bAAAA0klEQVQY02NgwAIY47o3LQnAJsOgfJJB/F8B\n",
       "Nhl2XaCOeVil3PkEGBiYUaT0Ojo2gGhDPpB9E5BkbitCGQ+WQxlCyiKhCUCaayNUgMvAFcoqYDJi\n",
       "bwDS3AugAiwBNyEMzgWcH5lB5nLDDOYquARVw8AOtpvBpwMIHoDtWgpTxaMApuTg7nnIB2PdX8AI\n",
       "9AcDB1zqOshfDBcY5C7YMLCCBJgUEKFhwACyJt+xhuEaWGQbwu/bF4i1MzCIK7FVJoAFhN8KwEP+\n",
       "fPsClLC7+gISUFAAAPAALk9BTu5+AAAAAElFTkSuQmCC\n",
       "\" style=\"display:inline;vertical-align:middle;\" /></a> <a class=\"ProveItLink\" href=\"../__pv_it/demonstrations/4eba3800f2b0e4b688bf9cddff733fa41fcbb1ab0/proof.ipynb\" style=\"text-decoration: none\">&nbsp;&#x22A2;&nbsp;&nbsp;</a><a class=\"ProveItLink\" href=\"../__pv_it/demonstrations/b2287484daaf4455a43a616c9db5d982afd62f080/expr.ipynb\"><img src=\"data:image/png;base64,iVBORw0KGgoAAAANSUhEUgAAAdMAAAAVBAMAAADvFhmDAAAAMFBMVEX///8AAAAAAAAAAAAAAAAA\n",
       "AAAAAAAAAAAAAAAAAAAAAAAAAAAAAAAAAAAAAAAAAAAv3aB7AAAAD3RSTlMAInZUiRDNmWbv3US7\n",
       "qzJazP2FAAAACXBIWXMAAA7EAAAOxAGVKw4bAAAEZklEQVRYw5VYQWgbRxR98mprybKECBRK8EFN\n",
       "AnYOAeEEt86lIm1DCTEI0zYU5NYtFAy9mCJa1yHEbSG5BCJcUgghYKKWQEKMSS4OPUQ2uZWCKCm0\n",
       "0IOg7cUU7BxcAoHQmf2zs7MzXyvpw/dmv9777/+Z2dnZACgiyVLK+V9sK/afoNhPrJhcWP8WJBoq\n",
       "J2IOK3ctV3JCXC4JY6C4j970pNq4nN0tUDuRCPEq5JxNOJET3WATTF8rvemJtU0M0qpU8+cTIe8r\n",
       "5+ylqhXgc0mYAxX2KXrRk2vjcnY3oTa8kohYUs5ZZlH9Y1Nd+VwSpqGGXbYDDt0JbLLyfZlQyyYj\n",
       "GspZu6auk+qa7Q675oaz9qw4dCcwycr3ZUJtKvlRnSfnbcGqYKo7bIFZgPacOfSp5FYXBmlVqNXF\n",
       "ZfbYh2/pvW52CX5bL6EKOXbWU7qy2XdQWPR+BGasCkQuf3wFczp/4U7nFYLNwGGn21Y1dVu9bsIN\n",
       "IQVicsZ01QN/6Le/3wzU5NAsDv06vBb+VJlGZs8ceen+J2ejxAKRb+WeA5esVkWutNfA1WhTO/K4\n",
       "TbBLLjsTrJblO9LuhbMUU18w4YaQAjE5Y7pqtnCstByoNcXfYmY/H85ZobwsaCFupEyequJtGIhs\n",
       "CR8D01arItdfYsz+1JIvI10l2LTL9uw9oGmrN014JBSCmJwxXbKvcbX6e6B2QyAxTI/jR+LiY1XS\n",
       "6AbZDXLgXcn1/wMhdjsQ+9+umpbralpErqrgroZsgZUDtKtc5yd2Yc9q9UakHgiFAYJHQiGIyRnT\n",
       "pZsOvgiGY0+mA/Um5k+Cc/uSpm50qylC3A72qn0cBUTgoTWrMtejauFFyAYOyD8PlVNQs3MNt1Wt\n",
       "fjsMaLghpEBMzphueLMacBpykYj6ir6ecDHDR2EvYPFG82EgfkFBDMBJdwGLIRyKWsitoEqwky7b\n",
       "W7Oe1aat3jThhpACMTljuuHNU7wXqG0DtY0/kNa/jLYFTd+UyL0y8ibih4BwxWpV5BLc0WhnPQ60\n",
       "CXbFZWda1qxu2+rbJtwQUiAmZ0yXlvLP+QYqgZrYWN/45ys8iEaonXumb+QLQfq/Z4+sR8FW7iZ+\n",
       "Ui8Ds1W5SV/AI/1WKjzePtMhWN1lD9tH6xlbfcaEm7NKICZnTJdOBi/ONXLlQG0HOHfIW4o+Ifwn\n",
       "408j0hp5xfs+Wh748tRcXfZz12pV5MLcqYv6yyuN6c8U7K7LHtmwWt2x1XdMuCGkQEzOmC5hPy+9\n",
       "9i2pjXScg0XaOB6tK2e/GNesVinXaQamoYYdtANEN9Sd2ibNErmc3e0gc2g+jQ/K8TP55S5sfRrf\n",
       "jA7g6Xn/OwbGfQgscd8FMXWntk2zxB4fKozalhW7hSfG3WiRnLMxJ7KFkVK+wsDGmDXRYuiW+hYv\n",
       "TKCxQToN1GpW8PVx8xnyW+ScuYXU4H1znoMxNTMDWLPVa7wwgbYGaTVQSyX/x8UB/UJ2PuzdWrlc\n",
       "EsZA8Sp605NqGyoO0qpQ+x+MoFSOpvas/gAAAABJRU5ErkJggg==\n",
       "\" style=\"display:inline;vertical-align:middle;\" /></a></span>"
      ],
      "text/plain": [
       "{z in Complex, w in Complex, y in Complex, x in Complex} |- (x * y * ((z * w) + (y * z)) * w) = (y * (w + y) * w * z * x)"
      ]
     },
     "metadata": {},
     "output_type": "display_data"
    }
   ],
   "source": [
    "Mult(x, y, Add(Mult(z, w), Mult(y, z)), w).factorization(\n",
    "    Mult(w, z, x), 'right', assumptions=assumptions)"
   ]
  },
  {
   "cell_type": "code",
   "execution_count": 79,
   "metadata": {},
   "outputs": [
    {
     "data": {
      "text/html": [
       "<span style=\"font-size:20px;\"><a class=\"ProveItLink\" href=\"../__pv_it/theorems/e7a733f6071838c624bab1a2ecdcd3efaa06f4b40/expr.ipynb\"><img src=\"data:image/png;base64,iVBORw0KGgoAAAANSUhEUgAAADMAAAATBAMAAADPIygvAAAAMFBMVEX///8AAAAAAAAAAAAAAAAA\n",
       "AAAAAAAAAAAAAAAAAAAAAAAAAAAAAAAAAAAAAAAAAAAv3aB7AAAAD3RSTlMAEHaZZquJVO8y3btE\n",
       "zSKD2s2pAAAACXBIWXMAAA7EAAAOxAGVKw4bAAAA5UlEQVQoz2NgwALEdt3Vm4ZNgoEpwoHRfjNW\n",
       "KaNjDAwsWKU4DTYCyWAUMe1Vqy4AKVaBDUBSBFnmrCKE5uYzgDAYlR0YREEMvotQJU85EyAMNvYG\n",
       "Bn8Qg/cBVGoajwOEMZ15AUM0WApm8GMeBQhDgEOBoQnEmLEKCDaA7YIayHBegPMniJaG6eIGuxAE\n",
       "bBmYGkA0F0yKB+wvHiDeysAdAA4eBXhoHAXrYGAwZTgPcdF1eBjutWOsAvlNNMke4mzRPQKwkN/x\n",
       "yw7CyoWKHNsFDig4YLvA2M6AHXApsCbgkGJ3ssEhAwCM+y13eiDJfgAAAABJRU5ErkJggg==\n",
       "\" style=\"display:inline;vertical-align:middle;\" /></a>, <a class=\"ProveItLink\" href=\"../__pv_it/demonstrations/38be8260be263ca8b59e57b7b7d03d561faffd580/expr.ipynb\"><img src=\"data:image/png;base64,iVBORw0KGgoAAAANSUhEUgAAADMAAAAQBAMAAABJt1qBAAAAMFBMVEX///8AAAAAAAAAAAAAAAAA\n",
       "AAAAAAAAAAAAAAAAAAAAAAAAAAAAAAAAAAAAAAAAAAAv3aB7AAAAD3RSTlMAMt0iZhDNdom7q0RU\n",
       "75mOI7qcAAAACXBIWXMAAA7EAAAOxAGVKw4bAAAAxklEQVQY02NgwAIiJqUVS2CTYGBf68D6fh5W\n",
       "qec7GBhYsEoxPpgKJNehiFUqKSUAKa6ACUAyBFlmWymE5mR+ANOvJGACoplToQJWjA1QVljFjAUg\n",
       "ms0AKiDB7QBlmTJwBIClYAbbcRfAmKytYEpWCQgmgO2CGchgDqEiYXxOsAtBAGgy2EAmmBQ32F/c\n",
       "QHyGgQHsDHa4Dc93AYlnQLfPmN4kABbJgYfhtMesh4B+42A4mw0RiZodAAv5uZ8eowbejknggIIB\n",
       "AAVvKXRyQEWZAAAAAElFTkSuQmCC\n",
       "\" style=\"display:inline;vertical-align:middle;\" /></a>, <a class=\"ProveItLink\" href=\"../__pv_it/demonstrations/70c0ce96202ce28a2e9c2a43dc9603d2926fcf150/expr.ipynb\"><img src=\"data:image/png;base64,iVBORw0KGgoAAAANSUhEUgAAADgAAAAQBAMAAACxV6F2AAAAMFBMVEX///8AAAAAAAAAAAAAAAAA\n",
       "AAAAAAAAAAAAAAAAAAAAAAAAAAAAAAAAAAAAAAAAAAAv3aB7AAAAD3RSTlMAEHaJZjKZVN3vq7tE\n",
       "zSL5cm/iAAAACXBIWXMAAA7EAAAOxAGVKw4bAAAA40lEQVQY02NgwAoYrXsvPTXALsegNYVB7HcC\n",
       "djk2HaAubxySYdwCDAxcaJLaHR0XQPRCbpC9DihyZxWhjA3PoO5SdmAIY6gAGsPAdxEqx7cgGMJg\n",
       "Zp/AsJrh/AEgk/cBVJLV4AiEEc7WwDAJIs4LM54v4RCEIcCpwPqVgQ3EjOwAgg1gOx9DldULME1g\n",
       "YAKxpOEu28gNZeQycC9giAGxOOCSx0D+ZAC6YxcDhwEDOBiZFBAhtABIAL1szXByAc8BsNh1RGhc\n",
       "eyDeBlKVrLjMBCIktUcAHivz2x6ghenhHZDggwIAlQIy1L/YH3QAAAAASUVORK5CYII=\n",
       "\" style=\"display:inline;vertical-align:middle;\" /></a>, <a class=\"ProveItLink\" href=\"../__pv_it/theorems/6bf1a18c2e3498be826f1c5ef7caab578b7ee8c80/expr.ipynb\"><img src=\"data:image/png;base64,iVBORw0KGgoAAAANSUhEUgAAADQAAAAQBAMAAACra0H4AAAAMFBMVEX///8AAAAAAAAAAAAAAAAA\n",
       "AAAAAAAAAAAAAAAAAAAAAAAAAAAAAAAAAAAAAAAAAAAv3aB7AAAAD3RSTlMAEHarMolUmd1mIs3v\n",
       "RLtmgJDEAAAACXBIWXMAAA7EAAAOxAGVKw4bAAAA0klEQVQY02NgwAIY47o3LQnAJsOgfJJB/F8B\n",
       "Nhl2XaCOeVil3PkEGBiYUaT0Ojo2gGhDPpB9E5BkbitCGQ+WQxlCyiKhCUCaayNUgMvAFcoqYDJi\n",
       "bwDS3AugAiwBNyEMzgWcH5lB5nLDDOYquARVw8AOtpvBpwMIHoDtWgpTxaMApuTg7nnIB2PdX8AI\n",
       "9AcDB1zqOshfDBcY5C7YMLCCBJgUEKFhwACyJt+xhuEaWGQbwu/bF4i1MzCIK7FVJoAFhN8KwEP+\n",
       "fPsClLC7+gISUFAAAPAALk9BTu5+AAAAAElFTkSuQmCC\n",
       "\" style=\"display:inline;vertical-align:middle;\" /></a> <a class=\"ProveItLink\" href=\"../__pv_it/demonstrations/e3ef9996e8a937f7bef3b251dbed7d12a69831580/proof.ipynb\" style=\"text-decoration: none\">&nbsp;&#x22A2;&nbsp;&nbsp;</a><a class=\"ProveItLink\" href=\"../__pv_it/demonstrations/d5edfc365126756cc3866e441b84ff55f7416ab00/expr.ipynb\"><img src=\"data:image/png;base64,iVBORw0KGgoAAAANSUhEUgAAAdMAAAAVBAMAAADvFhmDAAAAMFBMVEX///8AAAAAAAAAAAAAAAAA\n",
       "AAAAAAAAAAAAAAAAAAAAAAAAAAAAAAAAAAAAAAAAAAAv3aB7AAAAD3RSTlMAInZUiRDNmWbv3US7\n",
       "qzJazP2FAAAACXBIWXMAAA7EAAAOxAGVKw4bAAAEk0lEQVRYw5VXXWgcVRg9u7OT/ZnsshQEkT5M\n",
       "ayTtQ2GpJW3y0qVqKJLCEtQiJBqFQsGXIEG3keKq0L4UulQqSBEWqwgthqW+JPiQTembBBapqNCH\n",
       "hSpCFdI+RASheP/2zp17v5muH3yZzJnzne/cuTN37wCoIi0yKukrdlRHF6iOiKX4SopqApStpUo+\n",
       "q9KNIHQgSovTCCpuYaTyNF9JcSsBOpKq6NVlUnHAQY4k0Q4Q42qNVp7sKzEIaQ75S6mSr6mkYqxh\n",
       "AbQWpzlUFmcwUnmyr+Q4Q0L5VmpRUyUVhWX1z7o60lqcpqlGXLSBJ1hxfJmxni4toGK6ZFslGVfV\n",
       "8bA6FpNpV124aM90cfSROp4Op0sLaCr9lViSScdZq89UMu0s8WDbkzj1P17VpdShjrWobivsMH/o\n",
       "jRf14jffhN/Xz1RdJh6sZXT5/ElUlr2vgVNWH6blT7awqPUrNwZPS9opONW5vuWGW/H3//TbC6SV\n",
       "mAXuSQsZFlT7SNqfaOEPzDQ4xG/3cvbHfGd4sT6NwkPz9vD0356LzDJGuRf8C1ywhsq0cl4bl6PF\n",
       "Y+JOX9IuuNUFMTOrN3h8O5z9PA6Fq6SVmAXuSQsZFlT7gp50DtzDZpdD19mFamG3PLxhldoqUxgy\n",
       "SzWZmQZegsEohngLmLaGyrTus3t2Tzt6CrmGpE271Z79vrFyfITLjV9IK6YF7ikSMiyo9pE0B65g\n",
       "rMqha0wSeXkX3mQHn10phuoExa5M4BX+pvt/QzJ2BmBr6o6als/VtDCtBqu9MqxmXO5uR6XWl9WV\n",
       "h9ZQWTkGeC/BimmBe4qEDAuqvZAWVQyoPGbPCoeuiUq5mynxumCXK6gTPdSMZHwj1oRdHAQYsGHN\n",
       "KtfabDBpVQ3s4X82VEpQVwdtYqgQN4qyErPAPWkh04JsL6Rl1fFGto2sgK4LQtXXyzOb4YOwH2D2\n",
       "u+XDYGyjwprNuA8wm5RsNISghYakzbjVXsd6V4WV4BFeJa3ELHBPWsi0INt7euVhwHgffwroNrDQ\n",
       "/RU5fY1d2Y5OQpleDWWT8ZUouGQNlWmx2vFo0Xwe6EvaJbe60LNmlZX7P5TbqJNW4hZCQ8i0INsb\n",
       "0tso1bkig9iqdvz3c/guuuv94B99wldtnn/NTaxFYC/4At+rXwezD18hz2NT/yRU7tx+eSBpK251\n",
       "3t7GsnLv8el2UCOtxC30DSHTgmxvSM9hox90BfQAOL3fa0bfFP7dyUfRD2NHZt37rBt5ev/E4gof\n",
       "z02rD9PC4okP9TdUDtPvKNpNt7rUtYbKyv13w6Of0FZiFrgnLWRakO0N6fzKcz+flN1KA2djkTO2\n",
       "ImsqyU/GjtVHas0StEzHLX/GBp5gJRZribulWUpaQM5GfBav1+Ib54sJ7fT2fD3a2OeW/E8JGrWT\n",
       "byZ+PtBWUjf068NbI9o36W5bFvYl7hpn41WZVOx1kC2UwnKdoO0lnokeUZ5mJRYJnmR7QlpACxZ4\n",
       "bNJ8h/yeTCq2HGQB3scfULStkcymW4l/29KeZHtCWkCZMPUbYs9wI+B+2LuClBanEVTsw0jlab6S\n",
       "Yh8J/Qe0x1NxIJe8TgAAAABJRU5ErkJggg==\n",
       "\" style=\"display:inline;vertical-align:middle;\" /></a></span>"
      ],
      "text/plain": [
       "{y in Complex, z in Complex, w in Complex, x in Complex} |- (x * y * ((z * w) + (y * z)) * w) = (x * y * z * (w + y) * w)"
      ]
     },
     "metadata": {},
     "output_type": "display_data"
    }
   ],
   "source": [
    "Mult(x, y, Add(Mult(z, w), Mult(y, z)), w).factorization(\n",
    "    Mult(x, y, z), 'left', group_remainder=True, assumptions=assumptions)"
   ]
  },
  {
   "cell_type": "code",
   "execution_count": 80,
   "metadata": {},
   "outputs": [
    {
     "data": {
      "text/html": [
       "<span style=\"font-size:20px;\"><a class=\"ProveItLink\" href=\"../__pv_it/theorems/6bf1a18c2e3498be826f1c5ef7caab578b7ee8c80/expr.ipynb\"><img src=\"data:image/png;base64,iVBORw0KGgoAAAANSUhEUgAAADQAAAAQBAMAAACra0H4AAAAMFBMVEX///8AAAAAAAAAAAAAAAAA\n",
       "AAAAAAAAAAAAAAAAAAAAAAAAAAAAAAAAAAAAAAAAAAAv3aB7AAAAD3RSTlMAEHarMolUmd1mIs3v\n",
       "RLtmgJDEAAAACXBIWXMAAA7EAAAOxAGVKw4bAAAA0klEQVQY02NgwAIY47o3LQnAJsOgfJJB/F8B\n",
       "Nhl2XaCOeVil3PkEGBiYUaT0Ojo2gGhDPpB9E5BkbitCGQ+WQxlCyiKhCUCaayNUgMvAFcoqYDJi\n",
       "bwDS3AugAiwBNyEMzgWcH5lB5nLDDOYquARVw8AOtpvBpwMIHoDtWgpTxaMApuTg7nnIB2PdX8AI\n",
       "9AcDB1zqOshfDBcY5C7YMLCCBJgUEKFhwACyJt+xhuEaWGQbwu/bF4i1MzCIK7FVJoAFhN8KwEP+\n",
       "fPsClLC7+gISUFAAAPAALk9BTu5+AAAAAElFTkSuQmCC\n",
       "\" style=\"display:inline;vertical-align:middle;\" /></a>, <a class=\"ProveItLink\" href=\"../__pv_it/theorems/e7a733f6071838c624bab1a2ecdcd3efaa06f4b40/expr.ipynb\"><img src=\"data:image/png;base64,iVBORw0KGgoAAAANSUhEUgAAADMAAAATBAMAAADPIygvAAAAMFBMVEX///8AAAAAAAAAAAAAAAAA\n",
       "AAAAAAAAAAAAAAAAAAAAAAAAAAAAAAAAAAAAAAAAAAAv3aB7AAAAD3RSTlMAEHaZZquJVO8y3btE\n",
       "zSKD2s2pAAAACXBIWXMAAA7EAAAOxAGVKw4bAAAA5UlEQVQoz2NgwALEdt3Vm4ZNgoEpwoHRfjNW\n",
       "KaNjDAwsWKU4DTYCyWAUMe1Vqy4AKVaBDUBSBFnmrCKE5uYzgDAYlR0YREEMvotQJU85EyAMNvYG\n",
       "Bn8Qg/cBVGoajwOEMZ15AUM0WApm8GMeBQhDgEOBoQnEmLEKCDaA7YIayHBegPMniJaG6eIGuxAE\n",
       "bBmYGkA0F0yKB+wvHiDeysAdAA4eBXhoHAXrYGAwZTgPcdF1eBjutWOsAvlNNMke4mzRPQKwkN/x\n",
       "yw7CyoWKHNsFDig4YLvA2M6AHXApsCbgkGJ3ssEhAwCM+y13eiDJfgAAAABJRU5ErkJggg==\n",
       "\" style=\"display:inline;vertical-align:middle;\" /></a>, <a class=\"ProveItLink\" href=\"../__pv_it/demonstrations/38be8260be263ca8b59e57b7b7d03d561faffd580/expr.ipynb\"><img src=\"data:image/png;base64,iVBORw0KGgoAAAANSUhEUgAAADMAAAAQBAMAAABJt1qBAAAAMFBMVEX///8AAAAAAAAAAAAAAAAA\n",
       "AAAAAAAAAAAAAAAAAAAAAAAAAAAAAAAAAAAAAAAAAAAv3aB7AAAAD3RSTlMAMt0iZhDNdom7q0RU\n",
       "75mOI7qcAAAACXBIWXMAAA7EAAAOxAGVKw4bAAAAxklEQVQY02NgwAIiJqUVS2CTYGBf68D6fh5W\n",
       "qec7GBhYsEoxPpgKJNehiFUqKSUAKa6ACUAyBFlmWymE5mR+ANOvJGACoplToQJWjA1QVljFjAUg\n",
       "ms0AKiDB7QBlmTJwBIClYAbbcRfAmKytYEpWCQgmgO2CGchgDqEiYXxOsAtBAGgy2EAmmBQ32F/c\n",
       "QHyGgQHsDHa4Dc93AYlnQLfPmN4kABbJgYfhtMesh4B+42A4mw0RiZodAAv5uZ8eowbejknggIIB\n",
       "AAVvKXRyQEWZAAAAAElFTkSuQmCC\n",
       "\" style=\"display:inline;vertical-align:middle;\" /></a>, <a class=\"ProveItLink\" href=\"../__pv_it/demonstrations/70c0ce96202ce28a2e9c2a43dc9603d2926fcf150/expr.ipynb\"><img src=\"data:image/png;base64,iVBORw0KGgoAAAANSUhEUgAAADgAAAAQBAMAAACxV6F2AAAAMFBMVEX///8AAAAAAAAAAAAAAAAA\n",
       "AAAAAAAAAAAAAAAAAAAAAAAAAAAAAAAAAAAAAAAAAAAv3aB7AAAAD3RSTlMAEHaJZjKZVN3vq7tE\n",
       "zSL5cm/iAAAACXBIWXMAAA7EAAAOxAGVKw4bAAAA40lEQVQY02NgwAoYrXsvPTXALsegNYVB7HcC\n",
       "djk2HaAubxySYdwCDAxcaJLaHR0XQPRCbpC9DihyZxWhjA3PoO5SdmAIY6gAGsPAdxEqx7cgGMJg\n",
       "Zp/AsJrh/AEgk/cBVJLV4AiEEc7WwDAJIs4LM54v4RCEIcCpwPqVgQ3EjOwAgg1gOx9DldULME1g\n",
       "YAKxpOEu28gNZeQycC9giAGxOOCSx0D+ZAC6YxcDhwEDOBiZFBAhtABIAL1szXByAc8BsNh1RGhc\n",
       "eyDeBlKVrLjMBCIktUcAHivz2x6ghenhHZDggwIAlQIy1L/YH3QAAAAASUVORK5CYII=\n",
       "\" style=\"display:inline;vertical-align:middle;\" /></a> <a class=\"ProveItLink\" href=\"../__pv_it/demonstrations/8041652ac0f1b6538391ec6f9af70dc99372d6250/proof.ipynb\" style=\"text-decoration: none\">&nbsp;&#x22A2;&nbsp;&nbsp;</a><a class=\"ProveItLink\" href=\"../__pv_it/demonstrations/a9ee802a12f77e98da8316a481fe669a193491420/expr.ipynb\"><img src=\"data:image/png;base64,iVBORw0KGgoAAAANSUhEUgAAAdMAAAAVBAMAAADvFhmDAAAAMFBMVEX///8AAAAAAAAAAAAAAAAA\n",
       "AAAAAAAAAAAAAAAAAAAAAAAAAAAAAAAAAAAAAAAAAAAv3aB7AAAAD3RSTlMAInZUiRDNmWbv3US7\n",
       "qzJazP2FAAAACXBIWXMAAA7EAAAOxAGVKw4bAAAEUElEQVRYw51YTWhVRxT+Xu67zftJHo+AUEoW\n",
       "qQrRhfBIQ2jc9CGtlGLgEcRSSGwqCEI3WYQ2VaTBhdkIBouFEgqhtghKQ9BNpIu8BLeFh7gRXARK\n",
       "N6EQu4gIBemZe2bmTmbOvb544ORm5n7n+865M3fuzANQR54VtMt3fKt3T1DP6Cvk5/KWlqj1NHIx\n",
       "R7SHVh0KuiQuBROgeAA5/Eh2LhJNl5aojeZCoia7ZMeCntEs2DGhrgUxPEssQ7FbU2rxTC7knHbJ\n",
       "3ml5HTKXggVQsouQws/lZSPRdGmk1ruQi5jXLllpVv+zrq8yl4JZqGOLfkcS7outi4oHN1Ir5yOW\n",
       "tIt2W19H9LWcDbsddpf9ISpDEBsRFQ9upDaW/6rOsMt2yUtnLBt2SZiN/hwYgyA2Iioe3Ehtji6T\n",
       "J85/bNfOyXnEHTunmuzYWS3YzCY/RW02+g2Y8NIhrnh4AdOWv3Zv+12GTSCILna8bOa0oEU43Dor\n",
       "gca0M2vg3ElNPafZnie9K+ZGcxylF+6TVx5fOJOqEKK/Xf0PuO6VSlzFaAk300Xt6OMOw66H0aVk\n",
       "AC/fU/a7GTIlZhEOt85KoNGWXQPnTmp36G+9tNdvxqzWuEwcBlZpsBda+AQOojyEr4Bxr1Ti+ov0\n",
       "nlv9Qyi2GDYeRkf+a3mHBVNEym2yEmj0gpVdA+dOast0B738hnxJlxi3FAc3UF5jB86qRSR+CUbs\n",
       "boMWw109LD/pYSGuFsXeMtGEVQ9oV7vl5+jaC6/UZRZMESm3yUqgYSlTg81QoZOGzp3UlpPlibch\n",
       "FRVZ3VMcumFLLTDibrJW7eE4QB2PvFFVXBut2msTDQyoP4+0c6eNri7JpaYIh1tnJdAYqbKToanh\n",
       "Lg+rukNqatZgox7blZ+eznH4E5g+bzEcxJ+oUU4nwwmMb9CTllBdQIthJ8PoaMV7V/UEThEOt85K\n",
       "oDGWWQPnTmpbwNTaMxTtjb4OcdjGEHvUQL+L+DUJuOGVSlwU25eufR8AHYbdCKNLbW9Ut4ygQTjc\n",
       "OiuBhi2nBs6d1Ghx+ujv7/AwfVyd6ivbUB8E5f+cObqadrarP+MP/XVwS1WL9FVs2K9S7fHWZ9sM\n",
       "mwuje/3d7oQRNAh3VDkrgYYtpwbOndR2gM8PR/PpkSR+Ovxv+mFcYW9GPzpz5dtT03OqnvteqcSF\n",
       "6VPf2+NZEeNfa9j9MLqy5pW6owUtwuHWWQk0bDk1cO6kVtkONhZFZ8eyql08Pq54pTLXaQFmoY69\n",
       "53ck4atZuyWVlUQjW3EmVAt20KfxRWP/nnwxg87u7tfT3XhxJv5BgEkHgXnx+LAob/c5qzecTTJq\n",
       "sGqbXt8veOq0+urskg0GPZuoDPU3BdigMCfaQnimGGc12OWY7q/Bqk15nR8Ou+9Q3GaXbDPomUJ0\n",
       "7YoEC6FSTVPIFOOsNrssdX8NVq2Q/yvGgNkIhAf7MFeJS8EEKN6HHD6Q81NC/a0PNqT2PzgSUc0I\n",
       "jKLCAAAAAElFTkSuQmCC\n",
       "\" style=\"display:inline;vertical-align:middle;\" /></a></span>"
      ],
      "text/plain": [
       "{x in Complex, y in Complex, z in Complex, w in Complex} |- (x * y * ((z * w) + (y * z)) * w) = ((w + y) * w * x * y * z)"
      ]
     },
     "metadata": {},
     "output_type": "display_data"
    }
   ],
   "source": [
    "Mult(x, y, Add(Mult(z, w), Mult(y, z)), w).factorization(\n",
    "    Mult(x, y, z), 'right', group_factors=False, assumptions=assumptions)"
   ]
  },
  {
   "cell_type": "markdown",
   "metadata": {},
   "source": [
    "### Canceling Factors Appearing in Numerator/Denominator: `Mult.cancelations()`"
   ]
  },
  {
   "cell_type": "code",
   "execution_count": 81,
   "metadata": {},
   "outputs": [
    {
     "data": {
      "text/html": [
       "<strong id=\"mult_3_factors_01\">mult_3_factors_01:</strong> <a class=\"ProveItLink\" href=\"../__pv_it/demonstrations/f489b1fb69b572638d555670fe886f12e65b0b8f0/expr.ipynb\"><img src=\"data:image/png;base64,iVBORw0KGgoAAAANSUhEUgAAAFgAAAAmBAMAAACyk0G2AAAAMFBMVEX///8AAAAAAAAAAAAAAAAA\n",
       "AAAAAAAAAAAAAAAAAAAAAAAAAAAAAAAAAAAAAAAAAAAv3aB7AAAAD3RSTlMAIquJdkTvuxBmmd1U\n",
       "zTKBpmoTAAAACXBIWXMAAA7EAAAOxAGVKw4bAAAB4klEQVQ4y3VVP0gCYRR/p6nnaSrSFpSQS4MQ\n",
       "5BQUVksNRVNrGUF/B6GWIkgcbGg4p6AhdGqpSHBzuuaG3LImmxtSVFAx675P8/J9797w3t3vfve9\n",
       "/3cAgtwDIXKRQkEJYCS8XAL4jFPkGwyMakoMwBkguJ5djOTAHtHNGUEensJhNbo2ScTxgjF7zCwX\n",
       "5hSJGulaqSKG3MCINwWwxi6OBLIlJpQyBtYSu7gC6hwk09dL3I5r+MmXT1cXB1QDXBmMpLl+J1tb\n",
       "wEiI6zZFHipjZIspW4MiuzsYqTJlzVJkj+5PmpiPGEiTtzy4oBFTqj9b9zkMrxKPVi3KFeLoGsh7\n",
       "oGQHXPH52CbIVVDK4GKDJn/z1OpMP/DYu4j3hwknt9hQqbz1eePkHNjaf8g/abGhSgMKo90fYhSz\n",
       "qkHI7esnyKvRgWSKIDfBEXHnFaM8NaYn4ZTg6pWSg3P+VQPZZyoxQx3sqWPkFUzFLeRxa04WhyAd\n",
       "NyU7hI1VNVOyuESOjCl5w4cR56ZA8odHuJ0V51Cojy0K5zyRQ9GZ8L7ezDu+VaJPsJcQ8Nj7StmJ\n",
       "1J14h3d6oa1QSb+hJGrgZGstRSny5WCF5DZYCk86TDZAQn+PY3jO6MU/oYs/NnibWPwIlkBm2/QL\n",
       "la93lTfUvQYAAAAASUVORK5CYII=\n",
       "\" style=\"display:inline;vertical-align:middle;\" /></a><br>"
      ],
      "text/plain": [
       "<IPython.core.display.HTML object>"
      ]
     },
     "metadata": {},
     "output_type": "display_data"
    }
   ],
   "source": [
    "mult_3_factors_01 = Mult(a, Mult(b, frac(c, a)))"
   ]
  },
  {
   "cell_type": "code",
   "execution_count": 82,
   "metadata": {},
   "outputs": [
    {
     "data": {
      "text/html": [
       "<strong id=\"mult_3_factors_02\">mult_3_factors_02:</strong> <a class=\"ProveItLink\" href=\"../__pv_it/demonstrations/684498f02fb2d17f871ccc9c5c6791be331f5a4a0/expr.ipynb\"><img src=\"data:image/png;base64,iVBORw0KGgoAAAANSUhEUgAAAE0AAAAlBAMAAAD1gHm0AAAAMFBMVEX///8AAAAAAAAAAAAAAAAA\n",
       "AAAAAAAAAAAAAAAAAAAAAAAAAAAAAAAAAAAAAAAAAAAv3aB7AAAAD3RSTlMAInZUiRDNmWbv3US7\n",
       "qzJazP2FAAAACXBIWXMAAA7EAAAOxAGVKw4bAAABcklEQVQ4y2NgIAxYlPqIUMXAuJihhhh1XA4M\n",
       "k4hRVx/AQBSYQ5wy1k/EqWP4wcDADaIFMKVQhICe9QNSTAaY6jahBJ9HE8gnJmjOObkAqLcB05kJ\n",
       "aAJsBUAiFUMdO7pWfpA72jHUcaIL7Ac5hhMjbM3QBbzAlmM4sAQU01cUFeACuUqXgX68gK4uA4h3\n",
       "CvB8hfvrW0C8AAMHuu8YFgOlZjCwL4Dxmb8ycCowME9AVzcb6OUPoLTDwBAPMoQ9gYHfgYHvA4zP\n",
       "8B8EPoDUcR5giN8ASmgFkNS234CBewKMj2RvvAJDP3LwARMc8wJ0ew8B1RkwXGOGRT3/A6BzGTgO\n",
       "oKvzZWDgUWBezg7j8zbwAK1jd0BX9wro30t+snrwcLlSAXLaBoxc8gBb2pTCEOEowKauAlPoILYs\n",
       "ewBTLAaLOh4seYFRAVNMkYEMgJKa8ADk1IQvnyOnJjwAlpoIAVhqIgRQUhM+dcipCQ9ASU34/AtO\n",
       "TQC3OEsc6I32FAAAAABJRU5ErkJggg==\n",
       "\" style=\"display:inline;vertical-align:middle;\" /></a><br>"
      ],
      "text/plain": [
       "<IPython.core.display.HTML object>"
      ]
     },
     "metadata": {},
     "output_type": "display_data"
    }
   ],
   "source": [
    "mult_3_factors_02 = Mult(Mult(a, b), frac(c, a))"
   ]
  },
  {
   "cell_type": "code",
   "execution_count": 83,
   "metadata": {},
   "outputs": [
    {
     "data": {
      "text/html": [
       "<strong id=\"mult_3_factors_03\">mult_3_factors_03:</strong> <a class=\"ProveItLink\" href=\"../__pv_it/demonstrations/35d636113b022b4e8cee22c3d22416a6296715b30/expr.ipynb\"><img src=\"data:image/png;base64,iVBORw0KGgoAAAANSUhEUgAAAE0AAAAqBAMAAAAE1sthAAAAMFBMVEX///8AAAAAAAAAAAAAAAAA\n",
       "AAAAAAAAAAAAAAAAAAAAAAAAAAAAAAAAAAAAAAAAAAAv3aB7AAAAD3RSTlMAInZUiRDNmWbv3US7\n",
       "qzJazP2FAAAACXBIWXMAAA7EAAAOxAGVKw4bAAABX0lEQVQ4y2NgIAz4ljIQA2LLvhKljoFpVB09\n",
       "1QlgyqAKsXwEqzbAVLcJmcN789sNIGWCqoT15AKg3gYMrawJaAJsBUAiFUMdO7pWfpA72jHUcaIL\n",
       "7A8AiQagC5uhC3iBLcdwYAkQM15RVIAL5CpdBgbFBXR1GUC8U4AHHuSs3wLiBRg40H3HsBgoNYOB\n",
       "fQGMz/yVgVOBgXkCurrZQC9/YOByADLjQYawJzDwOzDwfYDxGf6DwAeQOs4DDPEbgCJcoJAD6thv\n",
       "wMA9AcZHsjdegaEfOfjqAxiYF6DbewiozoDhGjMs6vkfAJ3LwHEAXZ0vAwOPAvNydnisN/AArWN3\n",
       "QFf3CujfS36yevBwuVIBctoGdHVcD7AlTSkMEY4CbOoqMIUOYlHGeABTLAaLOh4seYFRAVNMkYEM\n",
       "gJKa8ADk1IQHoKQmPACWmggBWGoiBFBSEz51yKkJD0BJTfj8C05NANGbUunOZ+60AAAAAElFTkSu\n",
       "QmCC\n",
       "\" style=\"display:inline;vertical-align:middle;\" /></a><br>"
      ],
      "text/plain": [
       "<IPython.core.display.HTML object>"
      ]
     },
     "metadata": {},
     "output_type": "display_data"
    }
   ],
   "source": [
    "mult_3_factors_03 = Mult(Mult(a, b), frac(one, a))"
   ]
  },
  {
   "cell_type": "code",
   "execution_count": 84,
   "metadata": {},
   "outputs": [
    {
     "data": {
      "text/html": [
       "<strong id=\"temp_assumptions_for_cancelation\">temp_assumptions_for_cancelation:</strong> <a class=\"ProveItLink\" href=\"../__pv_it/demonstrations/577b9072ef703b178e21b9fe3c81644740bdae4c0/expr.ipynb\"><img src=\"data:image/png;base64,iVBORw0KGgoAAAANSUhEUgAAAO8AAAAVCAMAAACZp0n0AAAAPFBMVEX///8AAAAAAAAAAAAAAAAA\n",
       "AAAAAAAAAAAAAAAAAAAAAAAAAAAAAAAAAAAAAAAAAAAAAAAAAAAAAAAAAAAo1xBWAAAAE3RSTlMA\n",
       "InZUiRDNmWbv3US7qzLn9enz+YF6hwAAAAlwSFlzAAAOxAAADsQBlSsOGwAAAqlJREFUWMPlmNty\n",
       "3CAMhjmfLEhbv/+7FpC9Adti13im7Uy5yE42fP51QshhLC/O/of18lLIzwBnPMBqggd3U2qenEOt\n",
       "vvhyEfgp1cfPAcZjBqOD7oEafJgjH4gOVoL2N6WErbkVNWLa3JJW9SPF/g/GzpIPRGkitabl6tWh\n",
       "OmxKwKy7LZ3DdQjSKmfJB6Jketu4uFp5qmbclax4GhQQ8jJX0tAfjVW/QSnygSgdoLb/QnVeooFe\n",
       "M0kGbTFCX4c6at2XlgrvUIp8IEo+otu21pOWsACNY3bvVjwqwUXTvo0mSiuBNP0VZqIQUY5Qisyx\n",
       "EsKlGdGTxbsx7Ta9+1tPrYrFZYyKz9ugqUvDL4+SN2ENhxzoNZupVz5ACZLxkMNkYUL0ZLENdX39\n",
       "KD/3HPNVob8CLzcWMC3au4o0YSJah3Onjo6nw4sBSpAsqHckhZ4tvgrZy9/6IT3zCwZnfalvTc6H\n",
       "bcGhtEC7Q0u31ZZVDVCK7BvdLdGjxVvW7aH0FDZUgW7v/nqof1yaGYK6GpJlh5u/ii6vO+kKJUjf\n",
       "b70jerL4+kTg+ZVo3OK3etbVf7e2TpBXoU0czrdvk6rwKYmyU6Jni+v5/fkL6+PVowFvXjROBgYC\n",
       "6WJyNEx+T9WCks5Z2Eaz3d+0HycSpUiElvuiFxa/Rqhu/vbfJ445KC26PlQU7y2z/SB2li4b8lGC\n",
       "pbZl/DpmQ8CyEUqQ2JlVmhC9sDh/cZ5rSwFrjwr58k1YQjoKlXgUzeSpIyz6/KpSphcAU8Ibgt52\n",
       "qn4qPaIkmYd559qL5o7oyeKL9OZ9Vom4bQo5YCHRk4qCfrQ7Lqln0XlygL571eNhH6Inl/oL5Ag1\n",
       "4zdGLEKY/veGFn+eHKHuTXqBvvQ+WvNGz5MjNOiP3pv4A/V/aqVxoIq7vwE8OR2hyV++WQAAAABJ\n",
       "RU5ErkJggg==\n",
       "\" style=\"display:inline;vertical-align:middle;\" /></a><br>"
      ],
      "text/plain": [
       "<IPython.core.display.HTML object>"
      ]
     },
     "metadata": {},
     "output_type": "display_data"
    }
   ],
   "source": [
    "temp_assumptions_for_cancelation = (\n",
    "    [InSet(a, Real), InSet(b, Real), InSet(c, Real), NotEquals(a, zero)])"
   ]
  },
  {
   "cell_type": "code",
   "execution_count": 85,
   "metadata": {},
   "outputs": [
    {
     "data": {
      "text/html": [
       "<span style=\"font-size:20px;\"> <a class=\"ProveItLink\" href=\"../__pv_it/demonstrations/fd6c25b35ed3f50c97d2145076e3284cc74707d80/proof.ipynb\" style=\"text-decoration: none\">&nbsp;&#x22A2;&nbsp;&nbsp;</a><a class=\"ProveItLink\" href=\"../__pv_it/demonstrations/fa83e70542967c0c77f45a73a0e553d73d5f645d0/expr.ipynb\"><img src=\"data:image/png;base64,iVBORw0KGgoAAAANSUhEUgAAAP0AAAAmBAMAAAD94oAjAAAAMFBMVEX///8AAAAAAAAAAAAAAAAA\n",
       "AAAAAAAAAAAAAAAAAAAAAAAAAAAAAAAAAAAAAAAAAAAv3aB7AAAAD3RSTlMAmVSrZs0y7xCJ3bsi\n",
       "RHYwvcNTAAAACXBIWXMAAA7EAAAOxAGVKw4bAAAEV0lEQVRYw5WXT2gUVxzHf5s/u7PObrI0lYIe\n",
       "MudSyCL1IEJYsDa3Zks9RLzsrVAK2igiKrJQRFBkUqhCPUhML7X0sLaF4sUuSBV6aHLrMQvV/gHR\n",
       "uESJkNjO+7158+a9933s9nf47ex3dj5v5v3+zRIRFSJy7A0CdrGtPTDAQWgKFsjgTAFU3VZuPmpR\n",
       "8RtxJD2wqSGk8tP3iT5p5zljTfe6w7bwa1ToEB3i40N4ecBxpMoK7U3kep7zsbufxTO2cptKPaKQ\n",
       "tzOM4PqA40i7luhC8vE95ThHXdT4kh2PLRm5M9o7dnQIaVre0KW25oxsudfN2Pdd6uTjOYWWBxxX\n",
       "Omek11S6JeTutmVxT36udrV3t3agFLxO02Bb046D8Dv3PdkgWhMhY2IIbhlxXGmTqCo+71LGOeii\n",
       "RjtOPXao3BIJfYIyb9nBYaQk+a+LzznKOJvudeJpLfvqvb954/rau482WCp/+QHvyWqkOMVtsJVJ\n",
       "XIKfllGW3cp5M2bbWLpyFmF21RRnbMM9O881WEMX7s55s9VseKQPYatuKs4o6H77OQiwyzzLeTNn\n",
       "mh4JxYomNhSnVHfPnhRuHY6ZmZb2ZoeoY6m6BZvFS0WbBLX0SrgbsMkdj7Q3c3YJS2WYRsW+oslc\n",
       "rxx40rPy9qOn+8CFcUN7UDP3b/5mSeOzf4BABpuKJivh926o94nLK3jRjkGbm+xpT3u+FfY1ZRVV\n",
       "PU8/67CxFC8EoMLotaLxVganqLBsbk7Su0s98mwz2GzmXGrQHktKRskF8oRYcNZFWy1syF4dc8ZW\n",
       "d2SFiFWCF/y7f4XxUU17w5gznY4OyWFpt1xLKozh1H9OKYdvMhlv8VrWFvj5k/tZj9xW412fOeco\n",
       "2NHthaXbVO3rhpOZuX4y3uat5EzKf7r9P+IvOMl4y7chRvfVu4Mn/qsiSeOI9o9k2VYRyTnZSpLC\n",
       "NxrAgBCcoJ/0nHcMiV6KpPCNhoTDkz3sjdwqmFN6tBGiBizLZdUtKebco7drNVN6l+4ATDrBEk5J\n",
       "/D6YvX7/T332MyEdeBP2nzXtzWYnOJ//8+lsy5K+QI9f3FG08Y579hh5Tb6ZzbiZATgIbb6ZJZwC\n",
       "eJd4y7/+DfL0ZsBBaPUesKw4YyA759veC3/IeXPYbg0jKQvrihOA+RhH3gs3fe86gBP0vZi0gAQH\n",
       "pCfMfLbqtvaW3RlKUt2ym3HmwF66gUsHW7mpvWVzw0hqzl6jjBO7tSSbqPHc6WArcWRKKD6A40pq\n",
       "zi5SxkEPc80W1GD7i7S3U7o5WFJzduJEjnPaZZXs9ys12OR9L8KYnh4sqTmbbuAi/q8N/jeng22C\n",
       "9YkmXP/wYEnN2ceU44yDBnnE+d/Gg+0hp+3DLlwfcGwpnbOV85TjBN+5rMtdu5LFYAtW+MsKrinA\n",
       "saV0zl6ODM4vbrurLJjf5WAL+XHChqeoAceS0jn7Ixmcivs2Tw/Mr3KwXeXjq76mAjiWJOdssKY5\n",
       "/wFbDFE524QobwAAAABJRU5ErkJggg==\n",
       "\" style=\"display:inline;vertical-align:middle;\" /></a></span>"
      ],
      "text/plain": [
       "|- (a * (b * (c / a))) = (a * (b * (c / a)))"
      ]
     },
     "metadata": {},
     "output_type": "display_data"
    }
   ],
   "source": [
    "mult_3_factors_01.cancelations(assumptions=temp_assumptions_for_cancelation)"
   ]
  },
  {
   "cell_type": "code",
   "execution_count": 86,
   "metadata": {},
   "outputs": [
    {
     "data": {
      "text/html": [
       "<span style=\"font-size:20px;\"><a class=\"ProveItLink\" href=\"../../ordering/__pv_it/theorems/4aa8d696b1f407d6126de9f51a052e8d90e0848c0/expr.ipynb\"><img src=\"data:image/png;base64,iVBORw0KGgoAAAANSUhEUgAAADMAAAAQBAMAAABJt1qBAAAAMFBMVEX///8AAAAAAAAAAAAAAAAA\n",
       "AAAAAAAAAAAAAAAAAAAAAAAAAAAAAAAAAAAAAAAAAAAv3aB7AAAAD3RSTlMAIquJdkTvuxBmmd1U\n",
       "zTKBpmoTAAAACXBIWXMAAA7EAAAOxAGVKw4bAAAAzElEQVQY02NgwABz0+tvp09gwAoKhBiCpjdg\n",
       "lxJmYOdTwCXFJXABRch99+4LcKkCZJlYD4Qupg6QgYzKjg4gAcYbSAY+PysAZIQJsP8ACfAKwKXE\n",
       "bv8GmcCRycC1ASyF5IyZvSCa6wMDtwGI8Ww3EBRApNg7QV5mK2DoDwAJtCPp4ltQAaT7HRjmgwW4\n",
       "kf21ThwkdYBBlwfkAhYHJKl2FqCJ7A48u7jAInfgUlIMnBNKgS5UsRPyA4s0lTbAQr6Qofz+AeTg\n",
       "CK7ejRxyAISENKeL/c93AAAAAElFTkSuQmCC\n",
       "\" style=\"display:inline;vertical-align:middle;\" /></a>, <a class=\"ProveItLink\" href=\"../../ordering/__pv_it/theorems/6e5cad5b2984ed0d75bd47bd0c542ec447a4f3570/expr.ipynb\"><img src=\"data:image/png;base64,iVBORw0KGgoAAAANSUhEUgAAADEAAAAQBAMAAABNQoq8AAAAMFBMVEX///8AAAAAAAAAAAAAAAAA\n",
       "AAAAAAAAAAAAAAAAAAAAAAAAAAAAAAAAAAAAAAAAAAAv3aB7AAAAD3RSTlMAELvv3c2ZVESJq3Yi\n",
       "MmZ3LnoBAAAACXBIWXMAAA7EAAAOxAGVKw4bAAAA1ElEQVQY02NgQAdPjfRDjB4AGYzKDmhSCqcY\n",
       "uh4JABmsCegyJxmYeBcAGfwFmDJsBwKAjH4BqMgmF5cAuIwCkDEFKtG6EaGHSxBkWtTu5SA+TyCS\n",
       "aZdKDwDd9lVA/gDIIQfgModDvoD0s39kYN4AkkFywTtREM0WwMA/AUhfdgECBYgMkxzIpywTGPpB\n",
       "7hZC0sOboAjxTj7I3SzI/sk9BJK5wGgH4nNvQJIR4gYax/WACRI84XCZYwx8DzSArl6ZBxGQ0hCA\n",
       "hbUOg1I8cph1qkBCBwoAxe43BugJR6MAAAAASUVORK5CYII=\n",
       "\" style=\"display:inline;vertical-align:middle;\" /></a>, <a class=\"ProveItLink\" href=\"../__pv_it/demonstrations/d550e8309ef79ca46e4c9fb5617a392ea678789b0/expr.ipynb\"><img src=\"data:image/png;base64,iVBORw0KGgoAAAANSUhEUgAAADEAAAAQBAMAAABNQoq8AAAAMFBMVEX///8AAAAAAAAAAAAAAAAA\n",
       "AAAAAAAAAAAAAAAAAAAAAAAAAAAAAAAAAAAAAAAAAAAv3aB7AAAAD3RSTlMAiXZmMiLdVJm77xBE\n",
       "zatgdeJyAAAACXBIWXMAAA7EAAAOxAGVKw4bAAAAvUlEQVQY02NgQAe2K+dfW2nAgA1MiGM4Z7kB\n",
       "q0wgAyfLAxwyHAEXkEU009IuwGUmIEmc1Ubo4dsNNk1I2QFIst5GMs2zNgDICCvgAGnlDYDLRF37\n",
       "BtafyMClAJJBcoHxXhDN8RvC90oDggkQGc7NIJ9yQV2xE0kPS8NsIL1fAcJnQ/ZPSySQ5gdqPACk\n",
       "mRSQZHYyAUWBDmMEuZrhOlwmgoHZYA6QIWgM8eK+ORtgYT2VYeb9AqRAODgtDTm0ALktNaaWdOV1\n",
       "AAAAAElFTkSuQmCC\n",
       "\" style=\"display:inline;vertical-align:middle;\" /></a>, <a class=\"ProveItLink\" href=\"../../number_sets/integers/__pv_it/theorems/1759e791f6052d2463eefaaf9e2fa309cc3375160/expr.ipynb\"><img src=\"data:image/png;base64,iVBORw0KGgoAAAANSUhEUgAAADEAAAAUCAMAAAATIyWrAAAAPFBMVEX///8AAAAAAAAAAAAAAAAA\n",
       "AAAAAAAAAAAAAAAAAAAAAAAAAAAAAAAAAAAAAAAAAAAAAAAAAAAAAAAAAAAo1xBWAAAAE3RSTlMA\n",
       "IquJdkTvuxBmmd1UzTLn9enzF+Xi+wAAAAlwSFlzAAAOxAAADsQBlSsOGwAAANlJREFUKM+VktkS\n",
       "wyAIRVGMCy5d/P9/rZBJY5qWTniIIfFyvAiAFhThWrQwZ4iOzB9FaFNSC0DMuqTZKUlZOEFHzAWD\n",
       "yEvXnC0zAjoJthdejEVn3ElRZ0TcFIlr+fEr7DjKErc7PzeO6bgqRuXok2xTEbtiLNT5NeOnCzqk\n",
       "cVUszPBBPiwqYnNehvPIKkh9Gg0+/+O5unn3K8hNpGE3Sr9shXIoWj/7nrxUqywejJIJDucudGp2\n",
       "5inxPDfROmzGuqYixj5CZ9uv6y54ccq/IfRIlxH5KgKa9vMF/x0G2+xofVIAAAAASUVORK5CYII=\n",
       "\" style=\"display:inline;vertical-align:middle;\" /></a> <a class=\"ProveItLink\" href=\"../__pv_it/demonstrations/1163a4cf8f9ffe5ab7422d1e2b796a68b803ed650/proof.ipynb\" style=\"text-decoration: none\">&nbsp;&#x22A2;&nbsp;&nbsp;</a><a class=\"ProveItLink\" href=\"../__pv_it/demonstrations/3836276d9cb45256de3137c20ef2c259a74731df0/expr.ipynb\"><img src=\"data:image/png;base64,iVBORw0KGgoAAAANSUhEUgAAALsAAAAmBAMAAABuRvfEAAAAMFBMVEX///8AAAAAAAAAAAAAAAAA\n",
       "AAAAAAAAAAAAAAAAAAAAAAAAAAAAAAAAAAAAAAAAAAAv3aB7AAAAD3RSTlMAmVSrZs0y7xCJ3bsi\n",
       "RHYwvcNTAAAACXBIWXMAAA7EAAAOxAGVKw4bAAADY0lEQVRIx5VXTWgTQRR+m+Zn0yRNQHtQD+bi\n",
       "QREaRA9FKCv+3TSih3rLTShCQxERW2VBpGCRVNSCPZS2JyseUhVEkBooIvRgcvNmAv5DqTW0pUKr\n",
       "vnkv6TY7s+7uwHY63+x++36+92YDAKClwT4UEIDeS9NtE3yNHR6g6NIpgD4iDj/2xR7MukPxadiD\n",
       "cIYWx33RXzLdofZRuInTM1rE0n7oL3qA9vL7hmnSr/lgD6x7gAYbGc84JctxoN+ukP6nkYINmsol\n",
       "7/T9pgdoBSAh5lcc/FHv9Ee9QCibMTGfZmHlFTwlNbIi3ylD0QdnyKMyiSZel5/pkOX0URTJhgQT\n",
       "NHJdmagUTVPyzv7WZL2cxDca6OiyXFQEnVPRa1xvnXLDsBViSNiBTaRNrlmG6ir6Djbmp/xeo3Wd\n",
       "FLE6BhDJSLcSlFhXFskaTV056RnbuipSFTEhKYuMoOikij7MPvVLedxnW49ThAxIklfzE++30Qso\n",
       "1PNJ0Vp0FlXBsG/sEn8mPm95dX7pEJqYYaklhuCNVUoEFXr1DYX5XL7JGsX7CQ2K7gW8FtJasWnG\n",
       "qlkoicZLfg4bsHtb0Qqoy6QeaR+/rfC1jGm8ZiBSs7oW/h/IQ7UiGqLYEyaTZgjqZCpG/opBovnF\n",
       "9Ck7/Q10hsVAT6CA0YTwMps6CPqmVTUEzUCibtXR1vgPfaRoVR42xWoaEnniwoa4vbqIvt60xlvs\n",
       "MTiFWovs8YgITEIZRaDXsZQOWqkVulgTCXFqR0lpa47BSpM+p1/B8i/yO+fgQMryl6DDMKtgbzSz\n",
       "sqTZ++hMEaJNYbYZMeTTRiEiaG/9uNxjFSJD91TGhzc5fBX7Rh9ej05836qP7p0iAxUIFSUOBWQ7\n",
       "Jruk86Y9p7h7AR2QjwYt70jfaBXjcpdNKe5GD4KyPoLrjvQxboDP5Z3XikQVSTVSY6k70jckozjh\n",
       "RhS2iNNQIZBZR/oqnZ8JRTeK1yRo0TqdW4YMxbsX6fGHnIGs9y+FQsUD9KEUo4QMsHJ9fAUqTJEg\n",
       "LEFNaKaDNfXNzzfmVXdIW+Yvt4bZA37oT7pD2AwpYF/4PM/6oQ8ZrhB2obMiwUO0elfyQ68/dYUK\n",
       "aTgSKMEdio0+7e/Hz1vTDYrVAlMawAteGP7o4zk3SO8Zm/8KOuv1rg/qf6vt3uxzKbBQAAAAAElF\n",
       "TkSuQmCC\n",
       "\" style=\"display:inline;vertical-align:middle;\" /></a></span>"
      ],
      "text/plain": [
       "{a in Real, b in Real, c in Real, a != 0} |- (a * (b * (c / a))) = (c * b)"
      ]
     },
     "metadata": {},
     "output_type": "display_data"
    }
   ],
   "source": [
    "mult_3_factors_01.simplification(assumptions=temp_assumptions_for_cancelation)"
   ]
  },
  {
   "cell_type": "code",
   "execution_count": 87,
   "metadata": {},
   "outputs": [
    {
     "data": {
      "text/html": [
       "<span style=\"font-size:20px;\"><a class=\"ProveItLink\" href=\"../../ordering/__pv_it/theorems/4aa8d696b1f407d6126de9f51a052e8d90e0848c0/expr.ipynb\"><img src=\"data:image/png;base64,iVBORw0KGgoAAAANSUhEUgAAADMAAAAQBAMAAABJt1qBAAAAMFBMVEX///8AAAAAAAAAAAAAAAAA\n",
       "AAAAAAAAAAAAAAAAAAAAAAAAAAAAAAAAAAAAAAAAAAAv3aB7AAAAD3RSTlMAIquJdkTvuxBmmd1U\n",
       "zTKBpmoTAAAACXBIWXMAAA7EAAAOxAGVKw4bAAAAzElEQVQY02NgwABz0+tvp09gwAoKhBiCpjdg\n",
       "lxJmYOdTwCXFJXABRch99+4LcKkCZJlYD4Qupg6QgYzKjg4gAcYbSAY+PysAZIQJsP8ACfAKwKXE\n",
       "bv8GmcCRycC1ASyF5IyZvSCa6wMDtwGI8Ww3EBRApNg7QV5mK2DoDwAJtCPp4ltQAaT7HRjmgwW4\n",
       "kf21ThwkdYBBlwfkAhYHJKl2FqCJ7A48u7jAInfgUlIMnBNKgS5UsRPyA4s0lTbAQr6Qofz+AeTg\n",
       "CK7ejRxyAISENKeL/c93AAAAAElFTkSuQmCC\n",
       "\" style=\"display:inline;vertical-align:middle;\" /></a>, <a class=\"ProveItLink\" href=\"../../ordering/__pv_it/theorems/6e5cad5b2984ed0d75bd47bd0c542ec447a4f3570/expr.ipynb\"><img src=\"data:image/png;base64,iVBORw0KGgoAAAANSUhEUgAAADEAAAAQBAMAAABNQoq8AAAAMFBMVEX///8AAAAAAAAAAAAAAAAA\n",
       "AAAAAAAAAAAAAAAAAAAAAAAAAAAAAAAAAAAAAAAAAAAv3aB7AAAAD3RSTlMAELvv3c2ZVESJq3Yi\n",
       "MmZ3LnoBAAAACXBIWXMAAA7EAAAOxAGVKw4bAAAA1ElEQVQY02NgQAdPjfRDjB4AGYzKDmhSCqcY\n",
       "uh4JABmsCegyJxmYeBcAGfwFmDJsBwKAjH4BqMgmF5cAuIwCkDEFKtG6EaGHSxBkWtTu5SA+TyCS\n",
       "aZdKDwDd9lVA/gDIIQfgModDvoD0s39kYN4AkkFywTtREM0WwMA/AUhfdgECBYgMkxzIpywTGPpB\n",
       "7hZC0sOboAjxTj7I3SzI/sk9BJK5wGgH4nNvQJIR4gYax/WACRI84XCZYwx8DzSArl6ZBxGQ0hCA\n",
       "hbUOg1I8cph1qkBCBwoAxe43BugJR6MAAAAASUVORK5CYII=\n",
       "\" style=\"display:inline;vertical-align:middle;\" /></a>, <a class=\"ProveItLink\" href=\"../__pv_it/demonstrations/d550e8309ef79ca46e4c9fb5617a392ea678789b0/expr.ipynb\"><img src=\"data:image/png;base64,iVBORw0KGgoAAAANSUhEUgAAADEAAAAQBAMAAABNQoq8AAAAMFBMVEX///8AAAAAAAAAAAAAAAAA\n",
       "AAAAAAAAAAAAAAAAAAAAAAAAAAAAAAAAAAAAAAAAAAAv3aB7AAAAD3RSTlMAiXZmMiLdVJm77xBE\n",
       "zatgdeJyAAAACXBIWXMAAA7EAAAOxAGVKw4bAAAAvUlEQVQY02NgQAe2K+dfW2nAgA1MiGM4Z7kB\n",
       "q0wgAyfLAxwyHAEXkEU009IuwGUmIEmc1Ubo4dsNNk1I2QFIst5GMs2zNgDICCvgAGnlDYDLRF37\n",
       "BtafyMClAJJBcoHxXhDN8RvC90oDggkQGc7NIJ9yQV2xE0kPS8NsIL1fAcJnQ/ZPSySQ5gdqPACk\n",
       "mRSQZHYyAUWBDmMEuZrhOlwmgoHZYA6QIWgM8eK+ORtgYT2VYeb9AqRAODgtDTm0ALktNaaWdOV1\n",
       "AAAAAElFTkSuQmCC\n",
       "\" style=\"display:inline;vertical-align:middle;\" /></a>, <a class=\"ProveItLink\" href=\"../../number_sets/integers/__pv_it/theorems/1759e791f6052d2463eefaaf9e2fa309cc3375160/expr.ipynb\"><img src=\"data:image/png;base64,iVBORw0KGgoAAAANSUhEUgAAADEAAAAUCAMAAAATIyWrAAAAPFBMVEX///8AAAAAAAAAAAAAAAAA\n",
       "AAAAAAAAAAAAAAAAAAAAAAAAAAAAAAAAAAAAAAAAAAAAAAAAAAAAAAAAAAAo1xBWAAAAE3RSTlMA\n",
       "IquJdkTvuxBmmd1UzTLn9enzF+Xi+wAAAAlwSFlzAAAOxAAADsQBlSsOGwAAANlJREFUKM+VktkS\n",
       "wyAIRVGMCy5d/P9/rZBJY5qWTniIIfFyvAiAFhThWrQwZ4iOzB9FaFNSC0DMuqTZKUlZOEFHzAWD\n",
       "yEvXnC0zAjoJthdejEVn3ElRZ0TcFIlr+fEr7DjKErc7PzeO6bgqRuXok2xTEbtiLNT5NeOnCzqk\n",
       "cVUszPBBPiwqYnNehvPIKkh9Gg0+/+O5unn3K8hNpGE3Sr9shXIoWj/7nrxUqywejJIJDucudGp2\n",
       "5inxPDfROmzGuqYixj5CZ9uv6y54ccq/IfRIlxH5KgKa9vMF/x0G2+xofVIAAAAASUVORK5CYII=\n",
       "\" style=\"display:inline;vertical-align:middle;\" /></a> <a class=\"ProveItLink\" href=\"../__pv_it/demonstrations/366ef12f17d06518c505650ded61a9bf88bc58610/proof.ipynb\" style=\"text-decoration: none\">&nbsp;&#x22A2;&nbsp;&nbsp;</a><a class=\"ProveItLink\" href=\"../__pv_it/demonstrations/a680ae05ee6dec9fc618d33df9f6a554241a4f010/expr.ipynb\"><img src=\"data:image/png;base64,iVBORw0KGgoAAAANSUhEUgAAALIAAAAmBAMAAACSU9wOAAAAMFBMVEX///8AAAAAAAAAAAAAAAAA\n",
       "AAAAAAAAAAAAAAAAAAAAAAAAAAAAAAAAAAAAAAAAAAAv3aB7AAAAD3RSTlMAmVSrZs0y7xCJ3bsi\n",
       "RHYwvcNTAAAACXBIWXMAAA7EAAAOxAGVKw4bAAAC+ElEQVRIx5VXTWgTQRR+G5Nm0yRNwHpoPTS3\n",
       "QhD0oAcRQnqIPRS0Qg/11psgQoKIFFukUEpBD4lUe5SoUKhYiOJFEA0UT0KaW44N9QcEkRhCUbDq\n",
       "vJnsdpJ54puBzO7Ofu/bmfe+92YCAOCkgNncWbBqR1moyLfzAFeXbIiD0xxU7DEcF9hTNsxXWPMY\n",
       "LMFtcXlhw3yZhRpT31+1cEfgBwu2oC6OhTvEMjmq+N119y8+c563vg5AHK+v+Mzn1FwINfQ8CWGs\n",
       "43US/of0Rzryds/Ex5s9cr5/QS5uh0irPdJ2QDou0Ofsu7dE95EMS9LUQEnh9SZsgy28WelHXxK/\n",
       "EBUBx8yrlS5eb8L2iEQO96PbmJxJgnmoZQwNd/E9iZ2EsBRood9PUuTzlPz3jaGCh9fbPCTQw4H+\n",
       "JUbK2M8QzANt41vTHl5vM5DIovOQfvth7dBNmQ9CA2tUynQMz5c8vF4V15SKQoI+vghv/ZAVZ12h\n",
       "mRwlDpWMo0+xPYGuscLrVTEHeWQeFN1qFkZ985NLWNnGKeafhg5THl6viuOwWxcPYdGNAWzK6aLP\n",
       "j0mGvP8Mf7BJWXzvZ0ZjhVdYVRXzas74cgHcAz8VNiEuItWgUoNkVniFVVWx4XtDFLNgS5OzI3SU\n",
       "ZvkZvaHwelVMww5qI9oEty2S5oRnvo9uh6l/FL3eJoy7eL0qTkER605EpMsbSCf9hZ+G56Ifoeqa\n",
       "oWc0Vni9Ko5AGNkGhNCXv1zLzHlvl+/hFLaoTDkwRsoeXq+KWxCq4NMGuV2XeZvbBm3ryJIxQTE7\n",
       "WerYYX5ugrYNyjlEq8Tb99TnouYWSxkLW1dGxK0QJK8p5oS5EMoYbVVQa0QlptYBu8Rojbad5G3E\n",
       "sbNf5b74gL93F+ssWKMalRG5zmeOsA6M7g1wUBVDBYtz3U0OyGmpw1Q4ZcGc44DCFeW2TzZn0VCW\n",
       "E40mXMQ4Ltowu884zCk4E6jCHRtnALxjnBmjzcAjB+Cl3f+U2BxjYZn17c/g1vmsfwF5VcB5kWsX\n",
       "UgAAAABJRU5ErkJggg==\n",
       "\" style=\"display:inline;vertical-align:middle;\" /></a></span>"
      ],
      "text/plain": [
       "{a in Real, b in Real, c in Real, a != 0} |- ((a * b) * (c / a)) = (b * c)"
      ]
     },
     "metadata": {},
     "output_type": "display_data"
    }
   ],
   "source": [
    "mult_3_factors_02.cancelations(assumptions=temp_assumptions_for_cancelation)"
   ]
  },
  {
   "cell_type": "code",
   "execution_count": 88,
   "metadata": {},
   "outputs": [
    {
     "data": {
      "text/html": [
       "<span style=\"font-size:20px;\"><a class=\"ProveItLink\" href=\"../../ordering/__pv_it/theorems/4aa8d696b1f407d6126de9f51a052e8d90e0848c0/expr.ipynb\"><img src=\"data:image/png;base64,iVBORw0KGgoAAAANSUhEUgAAADMAAAAQBAMAAABJt1qBAAAAMFBMVEX///8AAAAAAAAAAAAAAAAA\n",
       "AAAAAAAAAAAAAAAAAAAAAAAAAAAAAAAAAAAAAAAAAAAv3aB7AAAAD3RSTlMAIquJdkTvuxBmmd1U\n",
       "zTKBpmoTAAAACXBIWXMAAA7EAAAOxAGVKw4bAAAAzElEQVQY02NgwABz0+tvp09gwAoKhBiCpjdg\n",
       "lxJmYOdTwCXFJXABRch99+4LcKkCZJlYD4Qupg6QgYzKjg4gAcYbSAY+PysAZIQJsP8ACfAKwKXE\n",
       "bv8GmcCRycC1ASyF5IyZvSCa6wMDtwGI8Ww3EBRApNg7QV5mK2DoDwAJtCPp4ltQAaT7HRjmgwW4\n",
       "kf21ThwkdYBBlwfkAhYHJKl2FqCJ7A48u7jAInfgUlIMnBNKgS5UsRPyA4s0lTbAQr6Qofz+AeTg\n",
       "CK7ejRxyAISENKeL/c93AAAAAElFTkSuQmCC\n",
       "\" style=\"display:inline;vertical-align:middle;\" /></a>, <a class=\"ProveItLink\" href=\"../../ordering/__pv_it/theorems/6e5cad5b2984ed0d75bd47bd0c542ec447a4f3570/expr.ipynb\"><img src=\"data:image/png;base64,iVBORw0KGgoAAAANSUhEUgAAADEAAAAQBAMAAABNQoq8AAAAMFBMVEX///8AAAAAAAAAAAAAAAAA\n",
       "AAAAAAAAAAAAAAAAAAAAAAAAAAAAAAAAAAAAAAAAAAAv3aB7AAAAD3RSTlMAELvv3c2ZVESJq3Yi\n",
       "MmZ3LnoBAAAACXBIWXMAAA7EAAAOxAGVKw4bAAAA1ElEQVQY02NgQAdPjfRDjB4AGYzKDmhSCqcY\n",
       "uh4JABmsCegyJxmYeBcAGfwFmDJsBwKAjH4BqMgmF5cAuIwCkDEFKtG6EaGHSxBkWtTu5SA+TyCS\n",
       "aZdKDwDd9lVA/gDIIQfgModDvoD0s39kYN4AkkFywTtREM0WwMA/AUhfdgECBYgMkxzIpywTGPpB\n",
       "7hZC0sOboAjxTj7I3SzI/sk9BJK5wGgH4nNvQJIR4gYax/WACRI84XCZYwx8DzSArl6ZBxGQ0hCA\n",
       "hbUOg1I8cph1qkBCBwoAxe43BugJR6MAAAAASUVORK5CYII=\n",
       "\" style=\"display:inline;vertical-align:middle;\" /></a>, <a class=\"ProveItLink\" href=\"../__pv_it/demonstrations/d550e8309ef79ca46e4c9fb5617a392ea678789b0/expr.ipynb\"><img src=\"data:image/png;base64,iVBORw0KGgoAAAANSUhEUgAAADEAAAAQBAMAAABNQoq8AAAAMFBMVEX///8AAAAAAAAAAAAAAAAA\n",
       "AAAAAAAAAAAAAAAAAAAAAAAAAAAAAAAAAAAAAAAAAAAv3aB7AAAAD3RSTlMAiXZmMiLdVJm77xBE\n",
       "zatgdeJyAAAACXBIWXMAAA7EAAAOxAGVKw4bAAAAvUlEQVQY02NgQAe2K+dfW2nAgA1MiGM4Z7kB\n",
       "q0wgAyfLAxwyHAEXkEU009IuwGUmIEmc1Ubo4dsNNk1I2QFIst5GMs2zNgDICCvgAGnlDYDLRF37\n",
       "BtafyMClAJJBcoHxXhDN8RvC90oDggkQGc7NIJ9yQV2xE0kPS8NsIL1fAcJnQ/ZPSySQ5gdqPACk\n",
       "mRSQZHYyAUWBDmMEuZrhOlwmgoHZYA6QIWgM8eK+ORtgYT2VYeb9AqRAODgtDTm0ALktNaaWdOV1\n",
       "AAAAAElFTkSuQmCC\n",
       "\" style=\"display:inline;vertical-align:middle;\" /></a>, <a class=\"ProveItLink\" href=\"../../number_sets/integers/__pv_it/theorems/1759e791f6052d2463eefaaf9e2fa309cc3375160/expr.ipynb\"><img src=\"data:image/png;base64,iVBORw0KGgoAAAANSUhEUgAAADEAAAAUCAMAAAATIyWrAAAAPFBMVEX///8AAAAAAAAAAAAAAAAA\n",
       "AAAAAAAAAAAAAAAAAAAAAAAAAAAAAAAAAAAAAAAAAAAAAAAAAAAAAAAAAAAo1xBWAAAAE3RSTlMA\n",
       "IquJdkTvuxBmmd1UzTLn9enzF+Xi+wAAAAlwSFlzAAAOxAAADsQBlSsOGwAAANlJREFUKM+VktkS\n",
       "wyAIRVGMCy5d/P9/rZBJY5qWTniIIfFyvAiAFhThWrQwZ4iOzB9FaFNSC0DMuqTZKUlZOEFHzAWD\n",
       "yEvXnC0zAjoJthdejEVn3ElRZ0TcFIlr+fEr7DjKErc7PzeO6bgqRuXok2xTEbtiLNT5NeOnCzqk\n",
       "cVUszPBBPiwqYnNehvPIKkh9Gg0+/+O5unn3K8hNpGE3Sr9shXIoWj/7nrxUqywejJIJDucudGp2\n",
       "5inxPDfROmzGuqYixj5CZ9uv6y54ccq/IfRIlxH5KgKa9vMF/x0G2+xofVIAAAAASUVORK5CYII=\n",
       "\" style=\"display:inline;vertical-align:middle;\" /></a> <a class=\"ProveItLink\" href=\"../__pv_it/demonstrations/3a224e53e08e1f9da6d6d352cddaecab0c5760c20/proof.ipynb\" style=\"text-decoration: none\">&nbsp;&#x22A2;&nbsp;&nbsp;</a><a class=\"ProveItLink\" href=\"../__pv_it/demonstrations/99a2cda5f6ad5185d19f3292aaac30a18e45c6f70/expr.ipynb\"><img src=\"data:image/png;base64,iVBORw0KGgoAAAANSUhEUgAAALIAAAAmBAMAAACSU9wOAAAAMFBMVEX///8AAAAAAAAAAAAAAAAA\n",
       "AAAAAAAAAAAAAAAAAAAAAAAAAAAAAAAAAAAAAAAAAAAv3aB7AAAAD3RSTlMAmVSrZs0y7xCJ3bsi\n",
       "RHYwvcNTAAAACXBIWXMAAA7EAAAOxAGVKw4bAAAC2ElEQVRIx5VXTWgTQRR+G7PJpkmagPVgPTQ3\n",
       "oQh60IMUQnqoPQhawUO99SaIkCAiYooUSinoIRG1R4kKhYpCKl4E0UDxJKS59dhQf0AQiSEUBau+\n",
       "N9vdZnee9M1AZzM77/tm35vvvZkCAFg5EDZnGozaQZFV4vsZgCtzJsTRKYlV6gkcQdsTJsyXRd8x\n",
       "UIXb+HhpwnxJZDXirr9oEI7IT5FZ2X1YBuFANyWq+LMb7t9y5qLMvx5Amp6v5cxj7rcwagiMUBhL\n",
       "9JyE/Sz9Nz31c0u3T7cDcn5wTjm3zqTVFouNqcBFQsG+ewu7T+y2ZHUNVFlstEOjhbD1BfyzuR2w\n",
       "9Lxa4LEHlOVQ2LpLyZllmAc72qshHhtXAi2F46REfpOT/7b2qsRjMxSkSNjFRI36iwxzrKutNcVj\n",
       "MwUKHtGvPWr6s3b+I2rgPpcyPS3yVa8SBrFKRTbSp2fhnb9llWkHNTPBicNNxuFn1J7CLtithEFs\n",
       "kZgHsFsswLAPPz5Hle0ox/xL02HOr4QB7GYLB3HsRgBW1JIUtkOKoeiP4S81JYsfYWYFdr0NYNU3\n",
       "02QZnB0/FVYgjTu1waUGy1zuSyMP60UDi1m00ydJC7UzKoqzCwYNu07aSLbB6WLSHPNmtynscPY/\n",
       "RS/YEOxXwn5shepOAtPlLYxmfcdPwir2h7m6pumZwF4l7MfGiS2G4p7/ejU/483O3yNXXnCZsqO9\n",
       "qe1Vwn6sXafRMntc12SH2zKPtVTWj3PMVoG7dujLjfPYqPqGZIOZ/cAtl9SPWA6MWEftiFNnSN5w\n",
       "zBndEQ5M2FX1q8lUYs4P2GTeNnnspOwgTp3+ps7Fh/Kzu9ISmW00kmpHrsmZE6ILo3MdLFLFYMng\n",
       "XndDYmR13MtUPGfAPCExitfdsH02uYvaBclutOE87eOsCbPzXMKcg1ORBtwxCQbAe8GdMdmOPLYA\n",
       "Xpn9n5KaETiWX1r7Ak5LzvoPEpXAefFnkgMAAAAASUVORK5CYII=\n",
       "\" style=\"display:inline;vertical-align:middle;\" /></a></span>"
      ],
      "text/plain": [
       "{a in Real, b in Real, c in Real, a != 0} |- ((a * b) * (c / a)) = (c * b)"
      ]
     },
     "metadata": {},
     "output_type": "display_data"
    }
   ],
   "source": [
    "mult_3_factors_02.simplification(assumptions=temp_assumptions_for_cancelation)"
   ]
  },
  {
   "cell_type": "code",
   "execution_count": 89,
   "metadata": {},
   "outputs": [
    {
     "data": {
      "text/html": [
       "<span style=\"font-size:20px;\"><a class=\"ProveItLink\" href=\"../../ordering/__pv_it/theorems/4aa8d696b1f407d6126de9f51a052e8d90e0848c0/expr.ipynb\"><img src=\"data:image/png;base64,iVBORw0KGgoAAAANSUhEUgAAADMAAAAQBAMAAABJt1qBAAAAMFBMVEX///8AAAAAAAAAAAAAAAAA\n",
       "AAAAAAAAAAAAAAAAAAAAAAAAAAAAAAAAAAAAAAAAAAAv3aB7AAAAD3RSTlMAIquJdkTvuxBmmd1U\n",
       "zTKBpmoTAAAACXBIWXMAAA7EAAAOxAGVKw4bAAAAzElEQVQY02NgwABz0+tvp09gwAoKhBiCpjdg\n",
       "lxJmYOdTwCXFJXABRch99+4LcKkCZJlYD4Qupg6QgYzKjg4gAcYbSAY+PysAZIQJsP8ACfAKwKXE\n",
       "bv8GmcCRycC1ASyF5IyZvSCa6wMDtwGI8Ww3EBRApNg7QV5mK2DoDwAJtCPp4ltQAaT7HRjmgwW4\n",
       "kf21ThwkdYBBlwfkAhYHJKl2FqCJ7A48u7jAInfgUlIMnBNKgS5UsRPyA4s0lTbAQr6Qofz+AeTg\n",
       "CK7ejRxyAISENKeL/c93AAAAAElFTkSuQmCC\n",
       "\" style=\"display:inline;vertical-align:middle;\" /></a>, <a class=\"ProveItLink\" href=\"../../ordering/__pv_it/theorems/6e5cad5b2984ed0d75bd47bd0c542ec447a4f3570/expr.ipynb\"><img src=\"data:image/png;base64,iVBORw0KGgoAAAANSUhEUgAAADEAAAAQBAMAAABNQoq8AAAAMFBMVEX///8AAAAAAAAAAAAAAAAA\n",
       "AAAAAAAAAAAAAAAAAAAAAAAAAAAAAAAAAAAAAAAAAAAv3aB7AAAAD3RSTlMAELvv3c2ZVESJq3Yi\n",
       "MmZ3LnoBAAAACXBIWXMAAA7EAAAOxAGVKw4bAAAA1ElEQVQY02NgQAdPjfRDjB4AGYzKDmhSCqcY\n",
       "uh4JABmsCegyJxmYeBcAGfwFmDJsBwKAjH4BqMgmF5cAuIwCkDEFKtG6EaGHSxBkWtTu5SA+TyCS\n",
       "aZdKDwDd9lVA/gDIIQfgModDvoD0s39kYN4AkkFywTtREM0WwMA/AUhfdgECBYgMkxzIpywTGPpB\n",
       "7hZC0sOboAjxTj7I3SzI/sk9BJK5wGgH4nNvQJIR4gYax/WACRI84XCZYwx8DzSArl6ZBxGQ0hCA\n",
       "hbUOg1I8cph1qkBCBwoAxe43BugJR6MAAAAASUVORK5CYII=\n",
       "\" style=\"display:inline;vertical-align:middle;\" /></a>, <a class=\"ProveItLink\" href=\"../../number_sets/integers/__pv_it/theorems/1759e791f6052d2463eefaaf9e2fa309cc3375160/expr.ipynb\"><img src=\"data:image/png;base64,iVBORw0KGgoAAAANSUhEUgAAADEAAAAUCAMAAAATIyWrAAAAPFBMVEX///8AAAAAAAAAAAAAAAAA\n",
       "AAAAAAAAAAAAAAAAAAAAAAAAAAAAAAAAAAAAAAAAAAAAAAAAAAAAAAAAAAAo1xBWAAAAE3RSTlMA\n",
       "IquJdkTvuxBmmd1UzTLn9enzF+Xi+wAAAAlwSFlzAAAOxAAADsQBlSsOGwAAANlJREFUKM+VktkS\n",
       "wyAIRVGMCy5d/P9/rZBJY5qWTniIIfFyvAiAFhThWrQwZ4iOzB9FaFNSC0DMuqTZKUlZOEFHzAWD\n",
       "yEvXnC0zAjoJthdejEVn3ElRZ0TcFIlr+fEr7DjKErc7PzeO6bgqRuXok2xTEbtiLNT5NeOnCzqk\n",
       "cVUszPBBPiwqYnNehvPIKkh9Gg0+/+O5unn3K8hNpGE3Sr9shXIoWj/7nrxUqywejJIJDucudGp2\n",
       "5inxPDfROmzGuqYixj5CZ9uv6y54ccq/IfRIlxH5KgKa9vMF/x0G2+xofVIAAAAASUVORK5CYII=\n",
       "\" style=\"display:inline;vertical-align:middle;\" /></a> <a class=\"ProveItLink\" href=\"../__pv_it/demonstrations/d223043bfcc55770227a0488c78201a2c90b19ae0/proof.ipynb\" style=\"text-decoration: none\">&nbsp;&#x22A2;&nbsp;&nbsp;</a><a class=\"ProveItLink\" href=\"../__pv_it/demonstrations/134f351d5e483f57d1cbfff0277528c06a1435c90/expr.ipynb\"><img src=\"data:image/png;base64,iVBORw0KGgoAAAANSUhEUgAAAJEAAAAyBAMAAACufiRQAAAAMFBMVEX///8AAAAAAAAAAAAAAAAA\n",
       "AAAAAAAAAAAAAAAAAAAAAAAAAAAAAAAAAAAAAAAAAAAv3aB7AAAAD3RSTlMAuzKrZonNIu/ddhCZ\n",
       "VERetuGgAAAACXBIWXMAAA7EAAAOxAGVKw4bAAAC2klEQVRIx61XTWgTQRR+m7TbpLObBDyo6CEn\n",
       "wVMDWtGiGC/iQUiwJ0EwUG9VjHjzYqFqUQ+KIFgQiT8gCNKIIN42BxVv7lFPybG3xJ9aUKPOT3a7\n",
       "3Zk3zKBz2GTmvf125r3vfW8XgA6nDIaD7NDb94Lx2N3WWbN1cxD/ts7lqNG5Dp7n25nV+EwsmR1s\n",
       "hSPlq7hHvmWD5N/EPY6BDRKcxT2u2iH1m5jD5E87JLeChqlih+SjT54q2yGRH5jDfrBDgu2Yw6It\n",
       "Ug0JeeabLVKAcHNyfcR0Bfk3T0+P9pJDUuQsiN/nsqmwifx7bs2JzThIEedKIrcpPXhxnV6eKO8Y\n",
       "H0jVvY2BBx0+eZW2sqJwlWI09ltachnIlDjCm7RxyO7pKHMkE6oY0ks35P8X0jHiTFbWPfklLfXZ\n",
       "5muc4n4jHQwe1jPKQH2VVk5ylvDceizgE9NP42y5M49DTCA/Sytzzw5RlvCouizBq00nrs5gnqxj\n",
       "unyNX71lPhi5yPd20IQPQlPpBsgV8GKqdNtwA+CjEmk5vUDlIdeCw4JVPfqQAeTZIQMWs3cAazSx\n",
       "EM3hDxuCSffSSF4DivUEEuVo0GP7Y7m/CwXKg1WI5skhIdEN9MPE6YIW1BJ08mjMPmlOl4hTkcOI\n",
       "unRo0oIQ9vmRYnyB1zQJRzQRTxKzTGMMK5xP4xWG5t/3Nhr8Tnp9a6Zo2arTiZiZoUkjMycuPoqM\n",
       "L08xXjxQIkkcJ9Os2Lo9Prmj7M5K/SBrSEMQonNcZfOqhhUsoiVy7KjE+YLyDn+ItDtRu6SksG3V\n",
       "6rUU95GeXFLcom4i2YEaacy0mcdKkSshXWpoiBQrxeXWv3XODaXAOie8N0OKlALgAObS7xkhRUoB\n",
       "gL5h5DtGSLFS4CkyTF6sFJr3LbO3w1gp8LdDqLWNchcpxRbcx62DxShogpFZskHKhxrjQxuk2f/w\n",
       "BSQO19Caz5kj7dKnx+JLcR41/QVt+MIPuI/m9AAAAABJRU5ErkJggg==\n",
       "\" style=\"display:inline;vertical-align:middle;\" /></a></span>"
      ],
      "text/plain": [
       "{a in Real, b in Real, a != 0} |- ((a * b) * (1 / a)) = b"
      ]
     },
     "metadata": {},
     "output_type": "display_data"
    }
   ],
   "source": [
    "mult_3_factors_03.cancelations(assumptions=temp_assumptions_for_cancelation)"
   ]
  },
  {
   "cell_type": "code",
   "execution_count": 90,
   "metadata": {},
   "outputs": [
    {
     "data": {
      "text/html": [
       "<span style=\"font-size:20px;\"><a class=\"ProveItLink\" href=\"../../ordering/__pv_it/theorems/4aa8d696b1f407d6126de9f51a052e8d90e0848c0/expr.ipynb\"><img src=\"data:image/png;base64,iVBORw0KGgoAAAANSUhEUgAAADMAAAAQBAMAAABJt1qBAAAAMFBMVEX///8AAAAAAAAAAAAAAAAA\n",
       "AAAAAAAAAAAAAAAAAAAAAAAAAAAAAAAAAAAAAAAAAAAv3aB7AAAAD3RSTlMAIquJdkTvuxBmmd1U\n",
       "zTKBpmoTAAAACXBIWXMAAA7EAAAOxAGVKw4bAAAAzElEQVQY02NgwABz0+tvp09gwAoKhBiCpjdg\n",
       "lxJmYOdTwCXFJXABRch99+4LcKkCZJlYD4Qupg6QgYzKjg4gAcYbSAY+PysAZIQJsP8ACfAKwKXE\n",
       "bv8GmcCRycC1ASyF5IyZvSCa6wMDtwGI8Ww3EBRApNg7QV5mK2DoDwAJtCPp4ltQAaT7HRjmgwW4\n",
       "kf21ThwkdYBBlwfkAhYHJKl2FqCJ7A48u7jAInfgUlIMnBNKgS5UsRPyA4s0lTbAQr6Qofz+AeTg\n",
       "CK7ejRxyAISENKeL/c93AAAAAElFTkSuQmCC\n",
       "\" style=\"display:inline;vertical-align:middle;\" /></a>, <a class=\"ProveItLink\" href=\"../../ordering/__pv_it/theorems/6e5cad5b2984ed0d75bd47bd0c542ec447a4f3570/expr.ipynb\"><img src=\"data:image/png;base64,iVBORw0KGgoAAAANSUhEUgAAADEAAAAQBAMAAABNQoq8AAAAMFBMVEX///8AAAAAAAAAAAAAAAAA\n",
       "AAAAAAAAAAAAAAAAAAAAAAAAAAAAAAAAAAAAAAAAAAAv3aB7AAAAD3RSTlMAELvv3c2ZVESJq3Yi\n",
       "MmZ3LnoBAAAACXBIWXMAAA7EAAAOxAGVKw4bAAAA1ElEQVQY02NgQAdPjfRDjB4AGYzKDmhSCqcY\n",
       "uh4JABmsCegyJxmYeBcAGfwFmDJsBwKAjH4BqMgmF5cAuIwCkDEFKtG6EaGHSxBkWtTu5SA+TyCS\n",
       "aZdKDwDd9lVA/gDIIQfgModDvoD0s39kYN4AkkFywTtREM0WwMA/AUhfdgECBYgMkxzIpywTGPpB\n",
       "7hZC0sOboAjxTj7I3SzI/sk9BJK5wGgH4nNvQJIR4gYax/WACRI84XCZYwx8DzSArl6ZBxGQ0hCA\n",
       "hbUOg1I8cph1qkBCBwoAxe43BugJR6MAAAAASUVORK5CYII=\n",
       "\" style=\"display:inline;vertical-align:middle;\" /></a>, <a class=\"ProveItLink\" href=\"../../number_sets/integers/__pv_it/theorems/1759e791f6052d2463eefaaf9e2fa309cc3375160/expr.ipynb\"><img src=\"data:image/png;base64,iVBORw0KGgoAAAANSUhEUgAAADEAAAAUCAMAAAATIyWrAAAAPFBMVEX///8AAAAAAAAAAAAAAAAA\n",
       "AAAAAAAAAAAAAAAAAAAAAAAAAAAAAAAAAAAAAAAAAAAAAAAAAAAAAAAAAAAo1xBWAAAAE3RSTlMA\n",
       "IquJdkTvuxBmmd1UzTLn9enzF+Xi+wAAAAlwSFlzAAAOxAAADsQBlSsOGwAAANlJREFUKM+VktkS\n",
       "wyAIRVGMCy5d/P9/rZBJY5qWTniIIfFyvAiAFhThWrQwZ4iOzB9FaFNSC0DMuqTZKUlZOEFHzAWD\n",
       "yEvXnC0zAjoJthdejEVn3ElRZ0TcFIlr+fEr7DjKErc7PzeO6bgqRuXok2xTEbtiLNT5NeOnCzqk\n",
       "cVUszPBBPiwqYnNehvPIKkh9Gg0+/+O5unn3K8hNpGE3Sr9shXIoWj/7nrxUqywejJIJDucudGp2\n",
       "5inxPDfROmzGuqYixj5CZ9uv6y54ccq/IfRIlxH5KgKa9vMF/x0G2+xofVIAAAAASUVORK5CYII=\n",
       "\" style=\"display:inline;vertical-align:middle;\" /></a> <a class=\"ProveItLink\" href=\"../__pv_it/demonstrations/d223043bfcc55770227a0488c78201a2c90b19ae0/proof.ipynb\" style=\"text-decoration: none\">&nbsp;&#x22A2;&nbsp;&nbsp;</a><a class=\"ProveItLink\" href=\"../__pv_it/demonstrations/134f351d5e483f57d1cbfff0277528c06a1435c90/expr.ipynb\"><img src=\"data:image/png;base64,iVBORw0KGgoAAAANSUhEUgAAAJEAAAAyBAMAAACufiRQAAAAMFBMVEX///8AAAAAAAAAAAAAAAAA\n",
       "AAAAAAAAAAAAAAAAAAAAAAAAAAAAAAAAAAAAAAAAAAAv3aB7AAAAD3RSTlMAuzKrZonNIu/ddhCZ\n",
       "VERetuGgAAAACXBIWXMAAA7EAAAOxAGVKw4bAAAC2klEQVRIx61XTWgTQRR+m7TbpLObBDyo6CEn\n",
       "wVMDWtGiGC/iQUiwJ0EwUG9VjHjzYqFqUQ+KIFgQiT8gCNKIIN42BxVv7lFPybG3xJ9aUKPOT3a7\n",
       "3Zk3zKBz2GTmvf125r3vfW8XgA6nDIaD7NDb94Lx2N3WWbN1cxD/ts7lqNG5Dp7n25nV+EwsmR1s\n",
       "hSPlq7hHvmWD5N/EPY6BDRKcxT2u2iH1m5jD5E87JLeChqlih+SjT54q2yGRH5jDfrBDgu2Yw6It\n",
       "Ug0JeeabLVKAcHNyfcR0Bfk3T0+P9pJDUuQsiN/nsqmwifx7bs2JzThIEedKIrcpPXhxnV6eKO8Y\n",
       "H0jVvY2BBx0+eZW2sqJwlWI09ltachnIlDjCm7RxyO7pKHMkE6oY0ks35P8X0jHiTFbWPfklLfXZ\n",
       "5muc4n4jHQwe1jPKQH2VVk5ylvDceizgE9NP42y5M49DTCA/Sytzzw5RlvCouizBq00nrs5gnqxj\n",
       "unyNX71lPhi5yPd20IQPQlPpBsgV8GKqdNtwA+CjEmk5vUDlIdeCw4JVPfqQAeTZIQMWs3cAazSx\n",
       "EM3hDxuCSffSSF4DivUEEuVo0GP7Y7m/CwXKg1WI5skhIdEN9MPE6YIW1BJ08mjMPmlOl4hTkcOI\n",
       "unRo0oIQ9vmRYnyB1zQJRzQRTxKzTGMMK5xP4xWG5t/3Nhr8Tnp9a6Zo2arTiZiZoUkjMycuPoqM\n",
       "L08xXjxQIkkcJ9Os2Lo9Prmj7M5K/SBrSEMQonNcZfOqhhUsoiVy7KjE+YLyDn+ItDtRu6SksG3V\n",
       "6rUU95GeXFLcom4i2YEaacy0mcdKkSshXWpoiBQrxeXWv3XODaXAOie8N0OKlALgAObS7xkhRUoB\n",
       "gL5h5DtGSLFS4CkyTF6sFJr3LbO3w1gp8LdDqLWNchcpxRbcx62DxShogpFZskHKhxrjQxuk2f/w\n",
       "BSQO19Caz5kj7dKnx+JLcR41/QVt+MIPuI/m9AAAAABJRU5ErkJggg==\n",
       "\" style=\"display:inline;vertical-align:middle;\" /></a></span>"
      ],
      "text/plain": [
       "{a in Real, b in Real, a != 0} |- ((a * b) * (1 / a)) = b"
      ]
     },
     "metadata": {},
     "output_type": "display_data"
    }
   ],
   "source": [
    "mult_3_factors_03.simplification(assumptions=temp_assumptions_for_cancelation)"
   ]
  },
  {
   "cell_type": "markdown",
   "metadata": {},
   "source": [
    "###  `Mult.combining_exponents()`: Combining Exponential Factors with the Same Base"
   ]
  },
  {
   "cell_type": "code",
   "execution_count": 91,
   "metadata": {},
   "outputs": [
    {
     "data": {
      "text/html": [
       "<strong id=\"mult_exps_01\">mult_exps_01:</strong> <a class=\"ProveItLink\" href=\"../__pv_it/demonstrations/dc18ac9e527f32d7d0e92a8708910bd6beff9bf00/expr.ipynb\"><img src=\"data:image/png;base64,iVBORw0KGgoAAAANSUhEUgAAADMAAAATBAMAAADPIygvAAAAMFBMVEX///8AAAAAAAAAAAAAAAAA\n",
       "AAAAAAAAAAAAAAAAAAAAAAAAAAAAAAAAAAAAAAAAAAAv3aB7AAAAD3RSTlMAIpnNuzKJRKvvEN12\n",
       "ZlQ4bmvwAAAACXBIWXMAAA7EAAAOxAGVKw4bAAAAy0lEQVQoz2NgAAHZN60MaMAASrcxnEST4fkA\n",
       "ZYQyZKNJ1X2AM/eiynCdgksdPoBmHhdQilHJJACoygcuChZ4CJISYWD7DhSID4BJgQQYL4CkGhkY\n",
       "ZnJNZZC/AJMCCbCmJX17wDB/AUO/wC6GmwtgUmABBsZfDAzdDAz9AWFnGuF2gQUYbnx6AOLsRw8J\n",
       "uADrHzQZhAB3A5oUQkAFLrbeAFWAF6GJWwFV4BkDowCKeXAB1gQGngUojoALSCspaaNoQgjs////\n",
       "M6qnYAIAqYg7U4chOFcAAAAASUVORK5CYII=\n",
       "\" style=\"display:inline;vertical-align:middle;\" /></a><br>"
      ],
      "text/plain": [
       "<IPython.core.display.HTML object>"
      ]
     },
     "metadata": {},
     "output_type": "display_data"
    },
    {
     "data": {
      "text/html": [
       "<strong id=\"mult_exps_02\">mult_exps_02:</strong> <a class=\"ProveItLink\" href=\"../__pv_it/demonstrations/35f32caf1d23e78b1888b764e7c64d88e1f806d50/expr.ipynb\"><img src=\"data:image/png;base64,iVBORw0KGgoAAAANSUhEUgAAADUAAAATBAMAAADCPVhoAAAAMFBMVEX///8AAAAAAAAAAAAAAAAA\n",
       "AAAAAAAAAAAAAAAAAAAAAAAAAAAAAAAAAAAAAAAAAAAv3aB7AAAAD3RSTlMAIquJdkTvuxBmmd1U\n",
       "zTKBpmoTAAAACXBIWXMAAA7EAAAOxAGVKw4bAAAAq0lEQVQoz2NgAIO3BQw4AZMBbjm2B7jl3rto\n",
       "oImYTIGxvBu8UKW4A57BmJUMc1HlljP0wZh5DItQ5VIRzA8MOahyHxHMHZxoHrzKwAxjvnJBc6bU\n",
       "TA8gyajs6IAijCQQJsD+A0UOIcCRycC1AVkKSYDrAwM3LDA5/qIKsBUw9AfA9OxCFeh3YJiPYh2S\n",
       "QP8BBl0eAWQ5hAC7A88uLmR9SAIcKnZCfijuhAsAAGy8KDkGW28zAAAAAElFTkSuQmCC\n",
       "\" style=\"display:inline;vertical-align:middle;\" /></a><br>"
      ],
      "text/plain": [
       "<IPython.core.display.HTML object>"
      ]
     },
     "metadata": {},
     "output_type": "display_data"
    },
    {
     "data": {
      "text/html": [
       "<strong id=\"mult_exps_03\">mult_exps_03:</strong> <a class=\"ProveItLink\" href=\"../__pv_it/demonstrations/0a78487389c5cc93aef1c44c6aa6e9ee3ad27d320/expr.ipynb\"><img src=\"data:image/png;base64,iVBORw0KGgoAAAANSUhEUgAAAFYAAAATBAMAAAD47ecbAAAAMFBMVEX///8AAAAAAAAAAAAAAAAA\n",
       "AAAAAAAAAAAAAAAAAAAAAAAAAAAAAAAAAAAAAAAAAAAv3aB7AAAAD3RSTlMAIquJdkTvuxBmmd1U\n",
       "zTKBpmoTAAAACXBIWXMAAA7EAAAOxAGVKw4bAAAAw0lEQVQoz2NgAIO3BQwEAEIFkwEhtQgVbA8I\n",
       "qUWoeO+igSZnMgWVj1Dh3eCFKsUd8AxVAKGikmEuqtRyhj5UAYSKPIZFqFKp6O5FqPjAkIMq9RFd\n",
       "LULFDk60AL7KwIwqgFDxygXNGKmZHqgCYBWMyo4OKKJ4BMIE2H+gSOEW4Mhk4NqALINHgOsDAzcs\n",
       "qjn+4hdgK2DoD4AZsQu/QL8Dw3wU1+ER6D/AoMsjgCyFW4DdgWcXF7IxeAQ4VOyE/FC8jVMAANqf\n",
       "P2Rv0sFoAAAAAElFTkSuQmCC\n",
       "\" style=\"display:inline;vertical-align:middle;\" /></a><br>"
      ],
      "text/plain": [
       "<IPython.core.display.HTML object>"
      ]
     },
     "metadata": {},
     "output_type": "display_data"
    },
    {
     "data": {
      "text/html": [
       "<strong id=\"mult_exps_04\">mult_exps_04:</strong> <a class=\"ProveItLink\" href=\"../__pv_it/demonstrations/b839cb3128a0e8dc77437227b20fda69d8a22fb80/expr.ipynb\"><img src=\"data:image/png;base64,iVBORw0KGgoAAAANSUhEUgAAAHsAAAATBAMAAABCTm97AAAAMFBMVEX///8AAAAAAAAAAAAAAAAA\n",
       "AAAAAAAAAAAAAAAAAAAAAAAAAAAAAAAAAAAAAAAAAAAv3aB7AAAAD3RSTlMAIquJdkTvuxBmmd1U\n",
       "zTKBpmoTAAAACXBIWXMAAA7EAAAOxAGVKw4bAAABW0lEQVQ4y2NgAIO3BQwEAN91TDH7B1AGkwEh\n",
       "7QzKmELyMAbbA4La8zCF3GGM9y4aaFImU9Ac/8WpAVWkecoVGNO7wQtVjjvgGaoAyw6WBSgCHBv5\n",
       "/sHYlQxzUVUvZ+hDFWCfwHkBRYBrAd8HhMcWoapORfcn2wMuBVSBABZ4dH1gyEFV/RFdOz8D2wEU\n",
       "gX4Bdg9YaOzgRIv4qwzMaIHRMB3NOQLvX8K0v3JBs0xqpgdayC9xQBVgXXnEEkgxKjuiSmAIMAiZ\n",
       "iOAUCBNg/4EihyHAmshQ34BDgCOTgWsDSnyiCzC0TWBYjUuA6wMDNyzBc/zFJsCwnoFhMzy8L6AK\n",
       "sBUw9AfAJHdhE2BIZ+D4Co+ABagC/Q4M81HjE12A4wsD5wdcAv0HGHR5BJC1owtw/GFgunAQhwC7\n",
       "A88uLpTEjS7AUMJwesECHAIcKnZCfihOQxdgaHJ+qPIAuwAAlFNjKXJ0bAEAAAAASUVORK5CYII=\n",
       "\" style=\"display:inline;vertical-align:middle;\" /></a><br>"
      ],
      "text/plain": [
       "<IPython.core.display.HTML object>"
      ]
     },
     "metadata": {},
     "output_type": "display_data"
    }
   ],
   "source": [
    "# some example products of exponentials\n",
    "mult_exps_01, mult_exps_02, mult_exps_03, mult_exps_04 = (\n",
    "    Mult(Exp(two, three), Exp(two, four)),\n",
    "    Mult(Exp(a, b), Exp(a, c)),\n",
    "    Mult(Exp(a, b), Exp(a, c), Exp(a, b)),\n",
    "    Mult(Exp(a, b), Exp(a, c), Exp(a, b), Exp(a, d)))"
   ]
  },
  {
   "cell_type": "code",
   "execution_count": 92,
   "metadata": {},
   "outputs": [
    {
     "data": {
      "text/html": [
       "<strong id=\"temp_assumptions\">temp_assumptions:</strong> <a class=\"ProveItLink\" href=\"../__pv_it/demonstrations/6d3c51d76ac8c0f88016aa480af5a852646063620/expr.ipynb\"><img src=\"data:image/png;base64,iVBORw0KGgoAAAANSUhEUgAAAQAAAAAZBAMAAAAs8u2yAAAAMFBMVEX///8AAAAAAAAAAAAAAAAA\n",
       "AAAAAAAAAAAAAAAAAAAAAAAAAAAAAAAAAAAAAAAAAAAv3aB7AAAAD3RSTlMAZkRUmRDNuyLviTJ2\n",
       "3asqG0tJAAAACXBIWXMAAA7EAAAOxAGVKw4bAAAC8UlEQVRIx8VWTWgTQRh9TXaz225q04J6UNSL\n",
       "gh40F72aiz/gwfWgRZBmwRZasLqt1ngp5iAWPZR4MRcLKQgeijdBvWg8iEprKVh/MdgitlB6sA2t\n",
       "xSo4s9mfGTOzLYXSD7Kbmffy5s03M98EQBPCIoV1DEc8Gj6EvZ4G+ujjDDbOQE2RPLpEQEdm8XNX\n",
       "uAGGI4gt+eud+cSK6HtAz4kYmj4RmezhDDQPSDnCzPVj/1bTaxkdKSE6CigFsYEC7GdQMpl8xptl\n",
       "q5gjM3AbmjHhNxuSQjRtomGXzMDxGL8EZSlHYkDJWn7zgClEYwk855BXpZLli2ucgciClMNEvLf0\n",
       "IRgicP9QjCo23rI/3/OSmd2PFs5A3ZiUE0TkghnMcdPpYAlaxWg8hynS1Gde0/MAvY1Jr3G5nTMQ\n",
       "mx1NSjjU3sg2+rppMkl+fChb+a7PDJfFKElrhjT3ZjUnv7FsIH7321eTq4TpNnVJwiFDvMMx+m4P\n",
       "VvlW518vV55+NWos4yKg3oHi5DfGbLDBzRaf3cMm7kk59QUHhMVss0avxFF9S4zq8xgnO+EnFSDx\n",
       "tETCdtPb08gbOAr8lnJOVjJhDBDwozuEdsotRJ6+AFXnaQZqbaSdw9jMHrFHGn9yviBSlnLy7lxt\n",
       "Zo5Gyq1Snr4A1Z0lSBexs5JIVlx5wlfhMpQFGUf94/aNsSf9RJ+7ezz9atRYwjQhJDEVpXsrXmTE\n",
       "VfuFz6fzXMbZhJBDwTmyoWnfCDtEczwBFYx+FUpPwRuiVIyOK07/+UA8hUbNK5LqInlM4oqQ44Dk\n",
       "CAw529ivuPYN1CS6kbYY/SoUNTlaI9XZof5hp7+l2/Ruul9Z7apffEuku+V+QsyhYN3gdqdXnd7t\n",
       "33fXkLmUrCf3na9fhUKZQC13F+zrLVmCwh41QzgcGHngFlsvDiIMJXeB+Db8L+rWDCJcntyGRm4V\n",
       "Bs6tGVSLocI7yOf7KgwU1wzGw4U/rfyfcF3D+U8YLWycgUqlato4A0eAf92FFpSqYIejAAAAAElF\n",
       "TkSuQmCC\n",
       "\" style=\"display:inline;vertical-align:middle;\" /></a><br>"
      ],
      "text/plain": [
       "<IPython.core.display.HTML object>"
      ]
     },
     "metadata": {},
     "output_type": "display_data"
    }
   ],
   "source": [
    "# some useful assumptions for the testing\n",
    "temp_assumptions = [InSet(a, RealPos), InSet(b, Real), InSet(c, Real), InSet(d, Real)]"
   ]
  },
  {
   "cell_type": "code",
   "execution_count": 93,
   "metadata": {},
   "outputs": [
    {
     "data": {
      "text/html": [
       "<span style=\"font-size:20px;\"> <a class=\"ProveItLink\" href=\"../__pv_it/demonstrations/5f39c06541beb20ee3f4283584f10f0e7a6bea0e0/proof.ipynb\" style=\"text-decoration: none\">&nbsp;&#x22A2;&nbsp;&nbsp;</a><a class=\"ProveItLink\" href=\"../__pv_it/demonstrations/cd7b3c6b2b148698f807350fdcd50fa810f63b600/expr.ipynb\"><img src=\"data:image/png;base64,iVBORw0KGgoAAAANSUhEUgAAAIkAAAAaBAMAAABx+GIXAAAAMFBMVEX///8AAAAAAAAAAAAAAAAA\n",
       "AAAAAAAAAAAAAAAAAAAAAAAAAAAAAAAAAAAAAAAAAAAv3aB7AAAAD3RSTlMAZkRUmRDNuyLviTJ2\n",
       "3asqG0tJAAAACXBIWXMAAA7EAAAOxAGVKw4bAAAB8UlEQVQ4y42UsUsCURzHv6bG6amJ7SL0B9QY\n",
       "TQ5XTcFNRpNtLRHn5NDiENgSuEQ05dAUQTe31OLQkDgYtJRCUC2hSYZkcL17d++6e+88/IL69Pfx\n",
       "e7/3+/3eA2xJ800dnLYxSR6aYhm6TNUTNQ5N9IG8v4tN5xmGsAXKerzFoQskXPV3sWmNYSiwSDLt\n",
       "JaMNEg7dTtgTpTWGocTy3+U3FDXDD/4mFq0xTCL7O1jbJ183/x8rKTs6lqlLUzBw0aYLxSJ1SBqu\n",
       "cmSvYwesIj6Q0tSlqPLtYXSkXD4plyxsLodUBbHali59OuQ7cCpfnP8sAbNpvj0umuRiYTcqYkOk\n",
       "Rkk1dOyQZyp6FUhDsoxonIubpjETuyfuLaTG8mWz4pAfQE9H9ovkIkyRm6YuJvZq9a3P17Bjf84M\n",
       "fbrMaCfPMn2/4cdC/mULWvPIE1UXXtqZ7D36/iw8rstaMhBzEWi04S1h0TqC684Eiy5Cwe1csq4k\n",
       "aJahrjMeY+EvWfi6hOs49P66AsnumDzi6yLSwBt5XQMNb23rSKiTeiTQRHck6baieG+FI0XZsJch\n",
       "fl5EmmhRRdIwDO+11jGMb1bKLt89gTYHOodACefIV+RMB0o40/53Xy04nsVUegkOP07nUgiMTrx3\n",
       "OYUDC1PFlMoEBVensvgDsbeeL427wzgAAAAASUVORK5CYII=\n",
       "\" style=\"display:inline;vertical-align:middle;\" /></a></span>"
      ],
      "text/plain": [
       "|- (2^{3} * 2^{4}) = 2^{3 + 4}"
      ]
     },
     "metadata": {},
     "output_type": "display_data"
    }
   ],
   "source": [
    "mult_exps_01.combining_exponents(auto_simplify=False)"
   ]
  },
  {
   "cell_type": "code",
   "execution_count": 94,
   "metadata": {},
   "outputs": [
    {
     "data": {
      "text/html": [
       "<span style=\"font-size:20px;\"><a class=\"ProveItLink\" href=\"../../exponentiation/__pv_it/theorems/5a0c211ed8c0f89e15d717d80d4627baae693acb0/expr.ipynb\"><img src=\"data:image/png;base64,iVBORw0KGgoAAAANSUhEUgAAAD8AAAATBAMAAADVH8ihAAAAMFBMVEX///8AAAAAAAAAAAAAAAAA\n",
       "AAAAAAAAAAAAAAAAAAAAAAAAAAAAAAAAAAAAAAAAAAAv3aB7AAAAD3RSTlMAIquJdkTvuxBmmd1U\n",
       "zTKBpmoTAAAACXBIWXMAAA7EAAAOxAGVKw4bAAAA3UlEQVQoz2NgwAO4GAgAdjIVzE2vv50+AZ8J\n",
       "BUIMQdMb8CkQZmDnU2BYXl5WXj4BhwIugQtYTHDfvfsCXEEBpoJYD4QJTB0KcAWMyo4OYPoGkhXP\n",
       "zwrAFYQJsP8A0bwCcAVit397wEOSI5OBawNYAZIjZ/YihfcHBm4DEOPZbiAogChg70R4j62AoT8A\n",
       "xGhHMoFvQQWc1+/AMB/M4EYOh3XiCAUHGHR5QO5jcUBS0M4Ct4PdgWcXJN7vwBVIMXBOKIXxOFTs\n",
       "hPzArKbSBlhsFjKU3z+AGQfB1ZCgRgEAfyQ4BfovW/4AAAAASUVORK5CYII=\n",
       "\" style=\"display:inline;vertical-align:middle;\" /></a>, <a class=\"ProveItLink\" href=\"../../ordering/__pv_it/theorems/6e5cad5b2984ed0d75bd47bd0c542ec447a4f3570/expr.ipynb\"><img src=\"data:image/png;base64,iVBORw0KGgoAAAANSUhEUgAAADEAAAAQBAMAAABNQoq8AAAAMFBMVEX///8AAAAAAAAAAAAAAAAA\n",
       "AAAAAAAAAAAAAAAAAAAAAAAAAAAAAAAAAAAAAAAAAAAv3aB7AAAAD3RSTlMAELvv3c2ZVESJq3Yi\n",
       "MmZ3LnoBAAAACXBIWXMAAA7EAAAOxAGVKw4bAAAA1ElEQVQY02NgQAdPjfRDjB4AGYzKDmhSCqcY\n",
       "uh4JABmsCegyJxmYeBcAGfwFmDJsBwKAjH4BqMgmF5cAuIwCkDEFKtG6EaGHSxBkWtTu5SA+TyCS\n",
       "aZdKDwDd9lVA/gDIIQfgModDvoD0s39kYN4AkkFywTtREM0WwMA/AUhfdgECBYgMkxzIpywTGPpB\n",
       "7hZC0sOboAjxTj7I3SzI/sk9BJK5wGgH4nNvQJIR4gYax/WACRI84XCZYwx8DzSArl6ZBxGQ0hCA\n",
       "hbUOg1I8cph1qkBCBwoAxe43BugJR6MAAAAASUVORK5CYII=\n",
       "\" style=\"display:inline;vertical-align:middle;\" /></a>, <a class=\"ProveItLink\" href=\"../__pv_it/demonstrations/d550e8309ef79ca46e4c9fb5617a392ea678789b0/expr.ipynb\"><img src=\"data:image/png;base64,iVBORw0KGgoAAAANSUhEUgAAADEAAAAQBAMAAABNQoq8AAAAMFBMVEX///8AAAAAAAAAAAAAAAAA\n",
       "AAAAAAAAAAAAAAAAAAAAAAAAAAAAAAAAAAAAAAAAAAAv3aB7AAAAD3RSTlMAiXZmMiLdVJm77xBE\n",
       "zatgdeJyAAAACXBIWXMAAA7EAAAOxAGVKw4bAAAAvUlEQVQY02NgQAe2K+dfW2nAgA1MiGM4Z7kB\n",
       "q0wgAyfLAxwyHAEXkEU009IuwGUmIEmc1Ubo4dsNNk1I2QFIst5GMs2zNgDICCvgAGnlDYDLRF37\n",
       "BtafyMClAJJBcoHxXhDN8RvC90oDggkQGc7NIJ9yQV2xE0kPS8NsIL1fAcJnQ/ZPSySQ5gdqPACk\n",
       "mRSQZHYyAUWBDmMEuZrhOlwmgoHZYA6QIWgM8eK+ORtgYT2VYeb9AqRAODgtDTm0ALktNaaWdOV1\n",
       "AAAAAElFTkSuQmCC\n",
       "\" style=\"display:inline;vertical-align:middle;\" /></a> <a class=\"ProveItLink\" href=\"../__pv_it/demonstrations/705c136f6817ba30a649e7dcedbd8da5b16062af0/proof.ipynb\" style=\"text-decoration: none\">&nbsp;&#x22A2;&nbsp;&nbsp;</a><a class=\"ProveItLink\" href=\"../../exponentiation/__pv_it/theorems/59b709c3a163c380eb74e98aaf4267f16d77d5700/expr.ipynb\"><img src=\"data:image/png;base64,iVBORw0KGgoAAAANSUhEUgAAAIgAAAAaBAMAAACeOgkpAAAAMFBMVEX///8AAAAAAAAAAAAAAAAA\n",
       "AAAAAAAAAAAAAAAAAAAAAAAAAAAAAAAAAAAAAAAAAAAv3aB7AAAAD3RSTlMAZkRUmRDNuyLviTJ2\n",
       "3asqG0tJAAAACXBIWXMAAA7EAAAOxAGVKw4bAAAB50lEQVQ4y2NggIFtBQzEA+50NAEhCMW3AIti\n",
       "FlymvEKVZXaA0JwbsKjlwOW82SCCHc4Ng9L7zzxFU8h18ACDDA7v/DkXADUEpIqhECp+NuAImspL\n",
       "3BMYeAOwGsJzlccBaghIFccEqHghgxhaeBSwbmDgeYDVEHYBxgSIIWBVLAvgvvRDVcipACRYv2I1\n",
       "hHMDywP38srycgGwKn4FqPgHhsmoCvkbQGQiVkP4GTgNIC4Bq9oP8/RVRrSYYFNgALrSHashvAHi\n",
       "0NgBqzoLE99yBj16HWWAFpzEHjs+B6CGgFU9AzFenTiAqqhvTQ+UpY8RPQg5eDopB2LNBnbU8GOa\n",
       "wVAP1bwfnAZ974LAPTQ5eIrNA8bARAaWCyiGRAow+EKZ/QpoDkGSg4MrQAM/MPDCIpr1G4j0Z2C4\n",
       "BRWIRzcESY4BySWcBUhKr4CI6Qysn2AuQc9SSHLIhsQfYJBHEWP9w8D4AZalGlDDBFkODp4DDTFg\n",
       "eMbcgGzIZwa+BAvssYMsBwfAdMB+gPkKasFRw2DrAC0hJNFtRZKDA6BNrG9W951GEYw7teMNNCz8\n",
       "0A1BkkPNZnhAIjGlJcsCvNI4cjF6LpiAV5rxAVEF92O8srwNRBkShldWhrgqhBlfoHAQWxkJ4Qv2\n",
       "AGJMAADcEXs+kj/Y3AAAAABJRU5ErkJggg==\n",
       "\" style=\"display:inline;vertical-align:middle;\" /></a></span>"
      ],
      "text/plain": [
       "{a in RealPos, b in Real, c in Real} |- (a^{b} * a^{c}) = a^{b + c}"
      ]
     },
     "metadata": {},
     "output_type": "display_data"
    }
   ],
   "source": [
    "mult_exps_02.combining_exponents(assumptions=temp_assumptions)"
   ]
  },
  {
   "cell_type": "code",
   "execution_count": 95,
   "metadata": {},
   "outputs": [
    {
     "data": {
      "text/html": [
       "<span style=\"font-size:20px;\"><a class=\"ProveItLink\" href=\"../../exponentiation/__pv_it/theorems/5a0c211ed8c0f89e15d717d80d4627baae693acb0/expr.ipynb\"><img src=\"data:image/png;base64,iVBORw0KGgoAAAANSUhEUgAAAD8AAAATBAMAAADVH8ihAAAAMFBMVEX///8AAAAAAAAAAAAAAAAA\n",
       "AAAAAAAAAAAAAAAAAAAAAAAAAAAAAAAAAAAAAAAAAAAv3aB7AAAAD3RSTlMAIquJdkTvuxBmmd1U\n",
       "zTKBpmoTAAAACXBIWXMAAA7EAAAOxAGVKw4bAAAA3UlEQVQoz2NgwAO4GAgAdjIVzE2vv50+AZ8J\n",
       "BUIMQdMb8CkQZmDnU2BYXl5WXj4BhwIugQtYTHDfvfsCXEEBpoJYD4QJTB0KcAWMyo4OYPoGkhXP\n",
       "zwrAFYQJsP8A0bwCcAVit397wEOSI5OBawNYAZIjZ/YihfcHBm4DEOPZbiAogChg70R4j62AoT8A\n",
       "xGhHMoFvQQWc1+/AMB/M4EYOh3XiCAUHGHR5QO5jcUBS0M4Ct4PdgWcXJN7vwBVIMXBOKIXxOFTs\n",
       "hPzArKbSBlhsFjKU3z+AGQfB1ZCgRgEAfyQ4BfovW/4AAAAASUVORK5CYII=\n",
       "\" style=\"display:inline;vertical-align:middle;\" /></a>, <a class=\"ProveItLink\" href=\"../../ordering/__pv_it/theorems/6e5cad5b2984ed0d75bd47bd0c542ec447a4f3570/expr.ipynb\"><img src=\"data:image/png;base64,iVBORw0KGgoAAAANSUhEUgAAADEAAAAQBAMAAABNQoq8AAAAMFBMVEX///8AAAAAAAAAAAAAAAAA\n",
       "AAAAAAAAAAAAAAAAAAAAAAAAAAAAAAAAAAAAAAAAAAAv3aB7AAAAD3RSTlMAELvv3c2ZVESJq3Yi\n",
       "MmZ3LnoBAAAACXBIWXMAAA7EAAAOxAGVKw4bAAAA1ElEQVQY02NgQAdPjfRDjB4AGYzKDmhSCqcY\n",
       "uh4JABmsCegyJxmYeBcAGfwFmDJsBwKAjH4BqMgmF5cAuIwCkDEFKtG6EaGHSxBkWtTu5SA+TyCS\n",
       "aZdKDwDd9lVA/gDIIQfgModDvoD0s39kYN4AkkFywTtREM0WwMA/AUhfdgECBYgMkxzIpywTGPpB\n",
       "7hZC0sOboAjxTj7I3SzI/sk9BJK5wGgH4nNvQJIR4gYax/WACRI84XCZYwx8DzSArl6ZBxGQ0hCA\n",
       "hbUOg1I8cph1qkBCBwoAxe43BugJR6MAAAAASUVORK5CYII=\n",
       "\" style=\"display:inline;vertical-align:middle;\" /></a>, <a class=\"ProveItLink\" href=\"../__pv_it/demonstrations/d550e8309ef79ca46e4c9fb5617a392ea678789b0/expr.ipynb\"><img src=\"data:image/png;base64,iVBORw0KGgoAAAANSUhEUgAAADEAAAAQBAMAAABNQoq8AAAAMFBMVEX///8AAAAAAAAAAAAAAAAA\n",
       "AAAAAAAAAAAAAAAAAAAAAAAAAAAAAAAAAAAAAAAAAAAv3aB7AAAAD3RSTlMAiXZmMiLdVJm77xBE\n",
       "zatgdeJyAAAACXBIWXMAAA7EAAAOxAGVKw4bAAAAvUlEQVQY02NgQAe2K+dfW2nAgA1MiGM4Z7kB\n",
       "q0wgAyfLAxwyHAEXkEU009IuwGUmIEmc1Ubo4dsNNk1I2QFIst5GMs2zNgDICCvgAGnlDYDLRF37\n",
       "BtafyMClAJJBcoHxXhDN8RvC90oDggkQGc7NIJ9yQV2xE0kPS8NsIL1fAcJnQ/ZPSySQ5gdqPACk\n",
       "mRSQZHYyAUWBDmMEuZrhOlwmgoHZYA6QIWgM8eK+ORtgYT2VYeb9AqRAODgtDTm0ALktNaaWdOV1\n",
       "AAAAAElFTkSuQmCC\n",
       "\" style=\"display:inline;vertical-align:middle;\" /></a> <a class=\"ProveItLink\" href=\"../__pv_it/demonstrations/dd67010d0a2ad5f37faa7b0b6ec913b190b7b6d10/proof.ipynb\" style=\"text-decoration: none\">&nbsp;&#x22A2;&nbsp;&nbsp;</a><a class=\"ProveItLink\" href=\"../__pv_it/demonstrations/9400fd7027b8ed397e0f7653d2d1b3137e30b1720/expr.ipynb\"><img src=\"data:image/png;base64,iVBORw0KGgoAAAANSUhEUgAAAMUAAAAbBAMAAAA+IlacAAAAMFBMVEX///8AAAAAAAAAAAAAAAAA\n",
       "AAAAAAAAAAAAAAAAAAAAAAAAAAAAAAAAAAAAAAAAAAAv3aB7AAAAD3RSTlMAZkRUmRDNuyLviTJ2\n",
       "3asqG0tJAAAACXBIWXMAAA7EAAAOxAGVKw4bAAACj0lEQVRIx61WTWgTQRT+NrtLdm3SVkFFCLg3\n",
       "0Ys9eOhFCL14sXVPBSu0qSDeJDmlB8E9CL1If/TQggcD4skqORS1eEgOCv6k0kNyEZSAtELpIVQU\n",
       "D4W6OzuzmZndbdjggySb733vfTPz3sws8L9slHuux3BeFXtlGbh9hFOxMPVym7I02XvC/xms9Bzq\n",
       "bkQ0s2kgj3HKSpFc+cCp0kez2lPjMWDEzXYM2Mdi1Wfhlgd1qZP0t9bYlsLWctJaHXyxkYvR2AJO\n",
       "Eg3CehpokCQlStq034lRWWtDBDKtTB5ZO1LCKHjfLxjrEtMgSYwlyirhlBh2BTdEID2sFJBpR2qk\n",
       "vIQDLUz5rHNMgyTRKsFiT4hhD+U8ZlVrQ/8dqaF60vM2NhzCeg2tXF4pl/wkQxZldfBIDPsr5xmC\n",
       "OQLMRve1O2gjbziUFawVSVJj69tSpJa5iWNSgezTZPZxNZ9/u25TVoNpkCSbjLTekKLuH38vjfWq\n",
       "t38/RmvMAU8ODxlrjmmQJDteU+x+EHd/CMDC2gP6dDHUWMR3gUf0orA/yu7nvJMWKxkCUqu4R3PX\n",
       "yF4d/+bZ965Pczi6/yfY53dc1WVoW8IwZADXh/1zwrVFS5oG9T0LH0/Mmq5qB1nWwfofRAC4Bnyl\n",
       "wIysQX06B0nL6c7DLHKBTUQAWIG+z+Yhn2ucL8ZcjZk6zgpYCNAPoHTYueaI9eB9MfbTTTmCHZUv\n",
       "WQjQf2GwMBrdV7wvxtx2T9fVpnAvhADcxeU8bZMzcgbOF2PusPS95wufhaHJAKY/vdmjdZgI3U5d\n",
       "X4yZVsJ7ezb5Va9VkvFjzt2jXwSWkvGVdh/vLD+S0bNOHxqTyei5ft691EQFMYr9aMgHWI8WsZML\n",
       "/AMhMrVerjIthwAAAABJRU5ErkJggg==\n",
       "\" style=\"display:inline;vertical-align:middle;\" /></a></span>"
      ],
      "text/plain": [
       "{a in RealPos, b in Real, c in Real} |- (a^{b} * a^{c} * a^{b}) = a^{(2 * b) + c}"
      ]
     },
     "metadata": {},
     "output_type": "display_data"
    }
   ],
   "source": [
    "# here notice: the combo of 3 operands and the simplification\n",
    "mult_exps_03.combining_exponents(assumptions=temp_assumptions)"
   ]
  },
  {
   "cell_type": "code",
   "execution_count": 96,
   "metadata": {},
   "outputs": [
    {
     "data": {
      "text/html": [
       "<span style=\"font-size:20px;\"><a class=\"ProveItLink\" href=\"../../exponentiation/__pv_it/theorems/5a0c211ed8c0f89e15d717d80d4627baae693acb0/expr.ipynb\"><img src=\"data:image/png;base64,iVBORw0KGgoAAAANSUhEUgAAAD8AAAATBAMAAADVH8ihAAAAMFBMVEX///8AAAAAAAAAAAAAAAAA\n",
       "AAAAAAAAAAAAAAAAAAAAAAAAAAAAAAAAAAAAAAAAAAAv3aB7AAAAD3RSTlMAIquJdkTvuxBmmd1U\n",
       "zTKBpmoTAAAACXBIWXMAAA7EAAAOxAGVKw4bAAAA3UlEQVQoz2NgwAO4GAgAdjIVzE2vv50+AZ8J\n",
       "BUIMQdMb8CkQZmDnU2BYXl5WXj4BhwIugQtYTHDfvfsCXEEBpoJYD4QJTB0KcAWMyo4OYPoGkhXP\n",
       "zwrAFYQJsP8A0bwCcAVit397wEOSI5OBawNYAZIjZ/YihfcHBm4DEOPZbiAogChg70R4j62AoT8A\n",
       "xGhHMoFvQQWc1+/AMB/M4EYOh3XiCAUHGHR5QO5jcUBS0M4Ct4PdgWcXJN7vwBVIMXBOKIXxOFTs\n",
       "hPzArKbSBlhsFjKU3z+AGQfB1ZCgRgEAfyQ4BfovW/4AAAAASUVORK5CYII=\n",
       "\" style=\"display:inline;vertical-align:middle;\" /></a>, <a class=\"ProveItLink\" href=\"../../ordering/__pv_it/theorems/6e5cad5b2984ed0d75bd47bd0c542ec447a4f3570/expr.ipynb\"><img src=\"data:image/png;base64,iVBORw0KGgoAAAANSUhEUgAAADEAAAAQBAMAAABNQoq8AAAAMFBMVEX///8AAAAAAAAAAAAAAAAA\n",
       "AAAAAAAAAAAAAAAAAAAAAAAAAAAAAAAAAAAAAAAAAAAv3aB7AAAAD3RSTlMAELvv3c2ZVESJq3Yi\n",
       "MmZ3LnoBAAAACXBIWXMAAA7EAAAOxAGVKw4bAAAA1ElEQVQY02NgQAdPjfRDjB4AGYzKDmhSCqcY\n",
       "uh4JABmsCegyJxmYeBcAGfwFmDJsBwKAjH4BqMgmF5cAuIwCkDEFKtG6EaGHSxBkWtTu5SA+TyCS\n",
       "aZdKDwDd9lVA/gDIIQfgModDvoD0s39kYN4AkkFywTtREM0WwMA/AUhfdgECBYgMkxzIpywTGPpB\n",
       "7hZC0sOboAjxTj7I3SzI/sk9BJK5wGgH4nNvQJIR4gYax/WACRI84XCZYwx8DzSArl6ZBxGQ0hCA\n",
       "hbUOg1I8cph1qkBCBwoAxe43BugJR6MAAAAASUVORK5CYII=\n",
       "\" style=\"display:inline;vertical-align:middle;\" /></a>, <a class=\"ProveItLink\" href=\"../__pv_it/demonstrations/d550e8309ef79ca46e4c9fb5617a392ea678789b0/expr.ipynb\"><img src=\"data:image/png;base64,iVBORw0KGgoAAAANSUhEUgAAADEAAAAQBAMAAABNQoq8AAAAMFBMVEX///8AAAAAAAAAAAAAAAAA\n",
       "AAAAAAAAAAAAAAAAAAAAAAAAAAAAAAAAAAAAAAAAAAAv3aB7AAAAD3RSTlMAiXZmMiLdVJm77xBE\n",
       "zatgdeJyAAAACXBIWXMAAA7EAAAOxAGVKw4bAAAAvUlEQVQY02NgQAe2K+dfW2nAgA1MiGM4Z7kB\n",
       "q0wgAyfLAxwyHAEXkEU009IuwGUmIEmc1Ubo4dsNNk1I2QFIst5GMs2zNgDICCvgAGnlDYDLRF37\n",
       "BtafyMClAJJBcoHxXhDN8RvC90oDggkQGc7NIJ9yQV2xE0kPS8NsIL1fAcJnQ/ZPSySQ5gdqPACk\n",
       "mRSQZHYyAUWBDmMEuZrhOlwmgoHZYA6QIWgM8eK+ORtgYT2VYeb9AqRAODgtDTm0ALktNaaWdOV1\n",
       "AAAAAElFTkSuQmCC\n",
       "\" style=\"display:inline;vertical-align:middle;\" /></a>, <a class=\"ProveItLink\" href=\"../__pv_it/demonstrations/41c3ad9f29c40b69fd61c49f41684c1b813e9e850/expr.ipynb\"><img src=\"data:image/png;base64,iVBORw0KGgoAAAANSUhEUgAAADMAAAAQBAMAAABJt1qBAAAAMFBMVEX///8AAAAAAAAAAAAAAAAA\n",
       "AAAAAAAAAAAAAAAAAAAAAAAAAAAAAAAAAAAAAAAAAAAv3aB7AAAAD3RSTlMAMs3vmVREEIndIqt2\n",
       "u2aBbGR5AAAACXBIWXMAAA7EAAAOxAGVKw4bAAAA3klEQVQY02NgwACPbO9r2j6AsBmVHVDkLqxm\n",
       "yH5bAGHzB6BKrWDgZdwAYecXoEuxLFCAsDsh1NmZMxXgUhcgYipgMuk4Qhd3OchArh0Hv4IEuNSR\n",
       "DJQNWgBkJC/g/Q4SYFoAl1qs+RNkArsdAwvYBiYkZ7wrAtEsHxg4G0AM4ZlAcAEixVsH8jLzBYb6\n",
       "BJBALZIuRofrQLr+AMN7sAAnsr8c14KkAhg2sYJcwHMASaqWB2gi7wHWKSxgEVW41BIGvgfXgC7c\n",
       "07j6IFik+loBLORvMdzVRwnXjJszFZC4AHM6StvnxMwUAAAAAElFTkSuQmCC\n",
       "\" style=\"display:inline;vertical-align:middle;\" /></a> <a class=\"ProveItLink\" href=\"../__pv_it/demonstrations/0a9825d556d0017b1e76c5bf50f5f33731c795b70/proof.ipynb\" style=\"text-decoration: none\">&nbsp;&#x22A2;&nbsp;&nbsp;</a><a class=\"ProveItLink\" href=\"../__pv_it/demonstrations/524d691b4462a4cba1711f87a12bad0532433c440/expr.ipynb\"><img src=\"data:image/png;base64,iVBORw0KGgoAAAANSUhEUgAAAP4AAAAbBAMAAACuMS9TAAAAMFBMVEX///8AAAAAAAAAAAAAAAAA\n",
       "AAAAAAAAAAAAAAAAAAAAAAAAAAAAAAAAAAAAAAAAAAAv3aB7AAAAD3RSTlMAZkRUmRDNuyLviTJ2\n",
       "3asqG0tJAAAACXBIWXMAAA7EAAAOxAGVKw4bAAAC1klEQVRIx7VWTWgTQRh9aXbNpumaGCkiBMxB\n",
       "EL3YgwcvwiqCF6t7sWDFJhXEm2xP6aHgHoRepFEvLXgwIp6skoOgxUPiwb/6Q5H2IigFsULpIVSU\n",
       "QgvtzmYm2dmZzdYufrDh25f3vjc7883sAv8vjnvyeig7dW0njO71QHosj8GnP6lOkVJcdZbeLIcO\n",
       "UcLQGkoQewgw0E91XRWSGK0/DaoG4gy8F+ovYfRYmhXAPgWsolyluqsEalMtqgYG2OxufDZ9s/OK\n",
       "XzWRoT54U0cuwH8O6HX9Xd3Dlut0jmauGiPsSRZ6DL7Al9Rt/lkFxmW7VoVuSu21Ivl9wnTHmL+e\n",
       "n6GZq9aYRyITK3IFFEutcoDAwGnUnPKLUv8uYpFawGBTd4j5n8ElmrlqpUL5yarCF0rmfRUFBu7i\n",
       "rTONf6T+ccIdNzFju7rnUEqlydKIo2lnjjrNXNJI9nEF0ravosBQ1zB2ARiW71bnETVDs6muNf9r\n",
       "rP+a6hpbPd3cxxfYlUeFAwQGplLrvWRGg/pv/OUzk+o+Mv8r6KaZq/7UGu9Z3xmlnczxnSUwcHDv\n",
       "bAZ4L/cfBe5vbjLdKPO/uec1zVz1EsEnpm/x2nBAW37HRnNU2AAu+wi3VJZs/ztRIq06hRtcjXAA\n",
       "h+0E67uau036v5H43mYr3v5p3vjPPyeuO9fFTPOcbEU4oN6BMkfzsn+jUPYjD5QNOlPnnes88JXV\n",
       "/QseQKEoA5QGdNadBb8/ZaseyAzyJ88/CXXVOx4O0A0ZkLTatuWqr6aXHRaOv7qBWIOb3FAAhToO\n",
       "sLxm8+svsjvEL4f/G7uL3o+FcACFPizFbXn/i+wOQTbvGE4Y3JslHEjU4/Pszb/fX1Ngdwgy+KHZ\n",
       "FyvcGoYD6srjiQ80Pyd8efjZHUJ4y/x7DEcRK5Wo9gHvv22G7xtjBxFbjCT/EdVftyPJB6L656LJ\n",
       "4xEbIPD7d7uRjSZXzCjqLQGK4veP2I/dAAAAAElFTkSuQmCC\n",
       "\" style=\"display:inline;vertical-align:middle;\" /></a></span>"
      ],
      "text/plain": [
       "{a in RealPos, b in Real, c in Real, d in Real} |- (a^{b} * a^{c} * a^{b} * a^{d}) = a^{(2 * b) + c + d}"
      ]
     },
     "metadata": {},
     "output_type": "display_data"
    }
   ],
   "source": [
    "# here notice: the combo of 4 operands and the simplification\n",
    "mult_exps_04.combining_exponents(assumptions=temp_assumptions)"
   ]
  },
  {
   "cell_type": "code",
   "execution_count": 97,
   "metadata": {},
   "outputs": [
    {
     "data": {
      "text/html": [
       "<strong id=\"mult_of_exps_with_non_exp\">mult_of_exps_with_non_exp:</strong> <a class=\"ProveItLink\" href=\"../__pv_it/demonstrations/3e0234b396c2c5039cff25c00c342dfa167557030/expr.ipynb\"><img src=\"data:image/png;base64,iVBORw0KGgoAAAANSUhEUgAAAJQAAAATBAMAAACEpzmHAAAAMFBMVEX///8AAAAAAAAAAAAAAAAA\n",
       "AAAAAAAAAAAAAAAAAAAAAAAAAAAAAAAAAAAAAAAAAAAv3aB7AAAAD3RSTlMAIquJdkTvuxBmmd1U\n",
       "zTKBpmoTAAAACXBIWXMAAA7EAAAOxAGVKw4bAAABo0lEQVQ4y4XTTygEURwH8C92dmbHWpOcXCh7\n",
       "4KAc9sKB9aeI0p7cFUkkBxcuJoqb2cOWHGSSkiTkoj2tcnOwByKndVGUjFB7WJsd2z77+800+w7T\n",
       "e59+7/fe+703wF97W0CFFrp3Wm/GJbC6s1IqtDqp2S3On6mYat5JQ25x74NtTCIJdsCvfp3KWuLW\n",
       "LdWoPkKhNvZMwXfhMwkoZ6G8W6ol7FA4wCYFOR5IE1DNkCUGG7NlhdijM6ec1VRbKMR8Zdf+KHoW\n",
       "5ujMD56qHv4UAUOTh/+rlxO9iwB7WHeoYcXTt9g2tfcXkUrKCn8dZJto2h5mN7gfpSAdXnWJQc2p\n",
       "/a1q7aNBDkBDpLEC1IX7C8cf1+QsYQdIE1jRPQHGg/IBZQbqKXkvHLAex5E34EbHJFQLtaUfUPmx\n",
       "3wsHnADnYvk0g2LIMfAJ/wKMWMmT9s1wwDSUb3GRJoNiyDmkHIwodumxOShfCFieYD8rNQsjhY6g\n",
       "Vp6Kg5JDdfrSC4C8XT85Gkyq5GfjgEVcm6YnoB3LhSXCPQ1jZPscsDrwFM54Ala74/gFhSx3+yw2\n",
       "bx8AAAAASUVORK5CYII=\n",
       "\" style=\"display:inline;vertical-align:middle;\" /></a><br>"
      ],
      "text/plain": [
       "<IPython.core.display.HTML object>"
      ]
     },
     "metadata": {},
     "output_type": "display_data"
    }
   ],
   "source": [
    "# define a product with a non-matching base\n",
    "mult_of_exps_with_non_exp = Mult(Exp(a, b), Exp(a, c), Exp(a, b), Exp(a, d), b)"
   ]
  },
  {
   "cell_type": "code",
   "execution_count": 98,
   "metadata": {},
   "outputs": [
    {
     "name": "stdout",
     "output_type": "stream",
     "text": [
      "Error: Unable to combine exponents because exponential bases differ: a^{b} * a^{c} * a^{b} * a^{d} * b\n"
     ]
    }
   ],
   "source": [
    "# without specifying what to combine, we have an error:\n",
    "try:\n",
    "    mult_of_exps_with_non_exp.combining_exponents(assumptions=temp_assumptions)\n",
    "except Exception as the_exception:\n",
    "    print(\"Error: {}\".format(the_exception))"
   ]
  },
  {
   "cell_type": "code",
   "execution_count": 99,
   "metadata": {},
   "outputs": [
    {
     "data": {
      "text/html": [
       "<span style=\"font-size:20px;\"><a class=\"ProveItLink\" href=\"../../exponentiation/__pv_it/theorems/5a0c211ed8c0f89e15d717d80d4627baae693acb0/expr.ipynb\"><img src=\"data:image/png;base64,iVBORw0KGgoAAAANSUhEUgAAAD8AAAATBAMAAADVH8ihAAAAMFBMVEX///8AAAAAAAAAAAAAAAAA\n",
       "AAAAAAAAAAAAAAAAAAAAAAAAAAAAAAAAAAAAAAAAAAAv3aB7AAAAD3RSTlMAIquJdkTvuxBmmd1U\n",
       "zTKBpmoTAAAACXBIWXMAAA7EAAAOxAGVKw4bAAAA3UlEQVQoz2NgwAO4GAgAdjIVzE2vv50+AZ8J\n",
       "BUIMQdMb8CkQZmDnU2BYXl5WXj4BhwIugQtYTHDfvfsCXEEBpoJYD4QJTB0KcAWMyo4OYPoGkhXP\n",
       "zwrAFYQJsP8A0bwCcAVit397wEOSI5OBawNYAZIjZ/YihfcHBm4DEOPZbiAogChg70R4j62AoT8A\n",
       "xGhHMoFvQQWc1+/AMB/M4EYOh3XiCAUHGHR5QO5jcUBS0M4Ct4PdgWcXJN7vwBVIMXBOKIXxOFTs\n",
       "hPzArKbSBlhsFjKU3z+AGQfB1ZCgRgEAfyQ4BfovW/4AAAAASUVORK5CYII=\n",
       "\" style=\"display:inline;vertical-align:middle;\" /></a>, <a class=\"ProveItLink\" href=\"../../ordering/__pv_it/theorems/6e5cad5b2984ed0d75bd47bd0c542ec447a4f3570/expr.ipynb\"><img src=\"data:image/png;base64,iVBORw0KGgoAAAANSUhEUgAAADEAAAAQBAMAAABNQoq8AAAAMFBMVEX///8AAAAAAAAAAAAAAAAA\n",
       "AAAAAAAAAAAAAAAAAAAAAAAAAAAAAAAAAAAAAAAAAAAv3aB7AAAAD3RSTlMAELvv3c2ZVESJq3Yi\n",
       "MmZ3LnoBAAAACXBIWXMAAA7EAAAOxAGVKw4bAAAA1ElEQVQY02NgQAdPjfRDjB4AGYzKDmhSCqcY\n",
       "uh4JABmsCegyJxmYeBcAGfwFmDJsBwKAjH4BqMgmF5cAuIwCkDEFKtG6EaGHSxBkWtTu5SA+TyCS\n",
       "aZdKDwDd9lVA/gDIIQfgModDvoD0s39kYN4AkkFywTtREM0WwMA/AUhfdgECBYgMkxzIpywTGPpB\n",
       "7hZC0sOboAjxTj7I3SzI/sk9BJK5wGgH4nNvQJIR4gYax/WACRI84XCZYwx8DzSArl6ZBxGQ0hCA\n",
       "hbUOg1I8cph1qkBCBwoAxe43BugJR6MAAAAASUVORK5CYII=\n",
       "\" style=\"display:inline;vertical-align:middle;\" /></a>, <a class=\"ProveItLink\" href=\"../__pv_it/demonstrations/d550e8309ef79ca46e4c9fb5617a392ea678789b0/expr.ipynb\"><img src=\"data:image/png;base64,iVBORw0KGgoAAAANSUhEUgAAADEAAAAQBAMAAABNQoq8AAAAMFBMVEX///8AAAAAAAAAAAAAAAAA\n",
       "AAAAAAAAAAAAAAAAAAAAAAAAAAAAAAAAAAAAAAAAAAAv3aB7AAAAD3RSTlMAiXZmMiLdVJm77xBE\n",
       "zatgdeJyAAAACXBIWXMAAA7EAAAOxAGVKw4bAAAAvUlEQVQY02NgQAe2K+dfW2nAgA1MiGM4Z7kB\n",
       "q0wgAyfLAxwyHAEXkEU009IuwGUmIEmc1Ubo4dsNNk1I2QFIst5GMs2zNgDICCvgAGnlDYDLRF37\n",
       "BtafyMClAJJBcoHxXhDN8RvC90oDggkQGc7NIJ9yQV2xE0kPS8NsIL1fAcJnQ/ZPSySQ5gdqPACk\n",
       "mRSQZHYyAUWBDmMEuZrhOlwmgoHZYA6QIWgM8eK+ORtgYT2VYeb9AqRAODgtDTm0ALktNaaWdOV1\n",
       "AAAAAElFTkSuQmCC\n",
       "\" style=\"display:inline;vertical-align:middle;\" /></a>, <a class=\"ProveItLink\" href=\"../__pv_it/demonstrations/41c3ad9f29c40b69fd61c49f41684c1b813e9e850/expr.ipynb\"><img src=\"data:image/png;base64,iVBORw0KGgoAAAANSUhEUgAAADMAAAAQBAMAAABJt1qBAAAAMFBMVEX///8AAAAAAAAAAAAAAAAA\n",
       "AAAAAAAAAAAAAAAAAAAAAAAAAAAAAAAAAAAAAAAAAAAv3aB7AAAAD3RSTlMAMs3vmVREEIndIqt2\n",
       "u2aBbGR5AAAACXBIWXMAAA7EAAAOxAGVKw4bAAAA3klEQVQY02NgwACPbO9r2j6AsBmVHVDkLqxm\n",
       "yH5bAGHzB6BKrWDgZdwAYecXoEuxLFCAsDsh1NmZMxXgUhcgYipgMuk4Qhd3OchArh0Hv4IEuNSR\n",
       "DJQNWgBkJC/g/Q4SYFoAl1qs+RNkArsdAwvYBiYkZ7wrAtEsHxg4G0AM4ZlAcAEixVsH8jLzBYb6\n",
       "BJBALZIuRofrQLr+AMN7sAAnsr8c14KkAhg2sYJcwHMASaqWB2gi7wHWKSxgEVW41BIGvgfXgC7c\n",
       "07j6IFik+loBLORvMdzVRwnXjJszFZC4AHM6StvnxMwUAAAAAElFTkSuQmCC\n",
       "\" style=\"display:inline;vertical-align:middle;\" /></a> <a class=\"ProveItLink\" href=\"../__pv_it/demonstrations/768a2bc70b62672eb553612825d89add14e3af0e0/proof.ipynb\" style=\"text-decoration: none\">&nbsp;&#x22A2;&nbsp;&nbsp;</a><a class=\"ProveItLink\" href=\"../__pv_it/demonstrations/28b68636c0310a83c7b38a9943b7e322e487f26e0/expr.ipynb\"><img src=\"data:image/png;base64,iVBORw0KGgoAAAANSUhEUgAAALkAAAAzBAMAAAA5qLTRAAAAMFBMVEX///8AAAAAAAAAAAAAAAAA\n",
       "AAAAAAAAAAAAAAAAAAAAAAAAAAAAAAAAAAAAAAAAAAAv3aB7AAAAD3RSTlMAZkRUmRDNuyLviTJ2\n",
       "3asqG0tJAAAACXBIWXMAAA7EAAAOxAGVKw4bAAAD/UlEQVRYw62XTWgTQRTHX5LdbNJNmqCoCEVz\n",
       "8GIvzdGDYipqPWi7Fy0KNikoXqREUGKx4B4EPUhb9WChCinoxQ+MICKIJIJarbUUaaEIQqVYoRQp\n",
       "lkgxhTozyc7u200zocmDTWf+O/Nm583Mm18BYBMwU8+ByF4mHVJDAVVj9vceQ1kQem9MOyTfEqpe\n",
       "t78/YRSGhd79GYcUwNNx5WzvL5T+qqsTmm3Wb21ts+M/sSCPfOBN5N5J8jttm9qg8RXTAVvUvqqD\n",
       "WPiivcPCaT1rTsdLu0/gBpIRSyXsSuA3STljn+ZWLByErFkJRclPHM8/FOFBlWZxlCP2IA9DOxZu\n",
       "w6hZaaGOvWEcS2OwEPijeFzd7n0J7uCwr0DfcV57WpwwjiX96X9yE4LaNlOlgjcC5g70LXzMwbQr\n",
       "iYUhtbCFKz3jc2T18FLNk8c9BFc19ai5Q5jga20yg7hbV/LwYhywsGvzGI+E/FeL6+DOsxl8ZzYL\n",
       "KVI5GYZjaEiHIN8CabKiAJ48+HOg4rPbQ54OgG9GPZ4oJ0hLEEzzj7QJpSYJCKXB9wd5nyLPXZC5\n",
       "GIyVE/xJiEesXZDAmpDBWqKWfsa3y6vgQunCIUA8BzsrC3S7d2jgK6C4U+/L0JjYY/VuFyAehXmP\n",
       "XkmAUIasBagraMhf5OmDfTGUBRyCkvNMSRUFaAwrpEtxz3D7RJ6usVeL6NA7BHnxcf/nigLIC600\n",
       "SeL93qJBPU2YTWoyW56R0nX1bsuR9hxeo+2w1efq6n1mvXu1Hua4Vz31DLyDCQyeqYsdWv+V5ewH\n",
       "6jae8e2uiPzot1ZCrljZps/QAZaqcM5ZrIs0ZzcCRa5m3L1UGsCwkhR753vmAOEDlkApcnnpJBQz\n",
       "aRX/jOKuTWLvBovBJLg05p0iV0PU8MmIjJVONZ3nvTrv0wtDmKM4i/no9dUwWUIuFi+FExktyTPW\n",
       "S/MMXftZYVIztrubRvGNJqcZcrGawomMlWKq5cJapuPlRd45i3nIh/gugTrEkEtNQluqN5UK0xxq\n",
       "lCzAW7wlukXeOYsRf3ANbpSQi0emSGS0FNeV9zzQLITQJvLOWYysqu/Ka3rYKHIFciWfRSKjJb+e\n",
       "fc69excnosWLraJxFoPL4F9bo5GlyKXoJe9FIqMld+veETOPnyUQKb7YTBZrtsqdUG6/m7Zfg3sk\n",
       "rBmBd5PFJCtAHCl7Vk3yOgzwj5xd0bVpYbGHljxdoRsjr2/gJnsyHhF/u4FesgUfRMu1DBLZkwNV\n",
       "RMaJXmIr0MWCrC5oVpbFxPYDLlYDQ2VZTGxdDyi4bBc1q4nF2oX/P9fCYt1V58gNmDhH1sJiLmF+\n",
       "r4XFgrqwSQ0sVsW9unEWq4YJNs5iknAz/wfvfiGMh8T8PgAAAABJRU5ErkJggg==\n",
       "\" style=\"display:inline;vertical-align:middle;\" /></a></span>"
      ],
      "text/plain": [
       "{a in RealPos, b in Real, c in Real, d in Real} |- (a^{b} * a^{c} * a^{b} * a^{d} * b) =  \\\\ (a^{(2 * b) + c + d} * b)"
      ]
     },
     "metadata": {},
     "output_type": "display_data"
    }
   ],
   "source": [
    "# But if we specify the factors to combine:\n",
    "mult_of_exps_with_non_exp.combining_exponents(start_idx = 1, end_idx=3, assumptions=temp_assumptions)"
   ]
  },
  {
   "cell_type": "markdown",
   "metadata": {},
   "source": [
    "Trying the newly-coded method (in progress):"
   ]
  },
  {
   "cell_type": "code",
   "execution_count": 100,
   "metadata": {},
   "outputs": [
    {
     "data": {
      "text/html": [
       "<span style=\"font-size:20px;\"><a class=\"ProveItLink\" href=\"../../exponentiation/__pv_it/theorems/5a0c211ed8c0f89e15d717d80d4627baae693acb0/expr.ipynb\"><img src=\"data:image/png;base64,iVBORw0KGgoAAAANSUhEUgAAAD8AAAATBAMAAADVH8ihAAAAMFBMVEX///8AAAAAAAAAAAAAAAAA\n",
       "AAAAAAAAAAAAAAAAAAAAAAAAAAAAAAAAAAAAAAAAAAAv3aB7AAAAD3RSTlMAIquJdkTvuxBmmd1U\n",
       "zTKBpmoTAAAACXBIWXMAAA7EAAAOxAGVKw4bAAAA3UlEQVQoz2NgwAO4GAgAdjIVzE2vv50+AZ8J\n",
       "BUIMQdMb8CkQZmDnU2BYXl5WXj4BhwIugQtYTHDfvfsCXEEBpoJYD4QJTB0KcAWMyo4OYPoGkhXP\n",
       "zwrAFYQJsP8A0bwCcAVit397wEOSI5OBawNYAZIjZ/YihfcHBm4DEOPZbiAogChg70R4j62AoT8A\n",
       "xGhHMoFvQQWc1+/AMB/M4EYOh3XiCAUHGHR5QO5jcUBS0M4Ct4PdgWcXJN7vwBVIMXBOKIXxOFTs\n",
       "hPzArKbSBlhsFjKU3z+AGQfB1ZCgRgEAfyQ4BfovW/4AAAAASUVORK5CYII=\n",
       "\" style=\"display:inline;vertical-align:middle;\" /></a>, <a class=\"ProveItLink\" href=\"../../ordering/__pv_it/theorems/6e5cad5b2984ed0d75bd47bd0c542ec447a4f3570/expr.ipynb\"><img src=\"data:image/png;base64,iVBORw0KGgoAAAANSUhEUgAAADEAAAAQBAMAAABNQoq8AAAAMFBMVEX///8AAAAAAAAAAAAAAAAA\n",
       "AAAAAAAAAAAAAAAAAAAAAAAAAAAAAAAAAAAAAAAAAAAv3aB7AAAAD3RSTlMAELvv3c2ZVESJq3Yi\n",
       "MmZ3LnoBAAAACXBIWXMAAA7EAAAOxAGVKw4bAAAA1ElEQVQY02NgQAdPjfRDjB4AGYzKDmhSCqcY\n",
       "uh4JABmsCegyJxmYeBcAGfwFmDJsBwKAjH4BqMgmF5cAuIwCkDEFKtG6EaGHSxBkWtTu5SA+TyCS\n",
       "aZdKDwDd9lVA/gDIIQfgModDvoD0s39kYN4AkkFywTtREM0WwMA/AUhfdgECBYgMkxzIpywTGPpB\n",
       "7hZC0sOboAjxTj7I3SzI/sk9BJK5wGgH4nNvQJIR4gYax/WACRI84XCZYwx8DzSArl6ZBxGQ0hCA\n",
       "hbUOg1I8cph1qkBCBwoAxe43BugJR6MAAAAASUVORK5CYII=\n",
       "\" style=\"display:inline;vertical-align:middle;\" /></a>, <a class=\"ProveItLink\" href=\"../__pv_it/demonstrations/d550e8309ef79ca46e4c9fb5617a392ea678789b0/expr.ipynb\"><img src=\"data:image/png;base64,iVBORw0KGgoAAAANSUhEUgAAADEAAAAQBAMAAABNQoq8AAAAMFBMVEX///8AAAAAAAAAAAAAAAAA\n",
       "AAAAAAAAAAAAAAAAAAAAAAAAAAAAAAAAAAAAAAAAAAAv3aB7AAAAD3RSTlMAiXZmMiLdVJm77xBE\n",
       "zatgdeJyAAAACXBIWXMAAA7EAAAOxAGVKw4bAAAAvUlEQVQY02NgQAe2K+dfW2nAgA1MiGM4Z7kB\n",
       "q0wgAyfLAxwyHAEXkEU009IuwGUmIEmc1Ubo4dsNNk1I2QFIst5GMs2zNgDICCvgAGnlDYDLRF37\n",
       "BtafyMClAJJBcoHxXhDN8RvC90oDggkQGc7NIJ9yQV2xE0kPS8NsIL1fAcJnQ/ZPSySQ5gdqPACk\n",
       "mRSQZHYyAUWBDmMEuZrhOlwmgoHZYA6QIWgM8eK+ORtgYT2VYeb9AqRAODgtDTm0ALktNaaWdOV1\n",
       "AAAAAElFTkSuQmCC\n",
       "\" style=\"display:inline;vertical-align:middle;\" /></a>, <a class=\"ProveItLink\" href=\"../__pv_it/demonstrations/41c3ad9f29c40b69fd61c49f41684c1b813e9e850/expr.ipynb\"><img src=\"data:image/png;base64,iVBORw0KGgoAAAANSUhEUgAAADMAAAAQBAMAAABJt1qBAAAAMFBMVEX///8AAAAAAAAAAAAAAAAA\n",
       "AAAAAAAAAAAAAAAAAAAAAAAAAAAAAAAAAAAAAAAAAAAv3aB7AAAAD3RSTlMAMs3vmVREEIndIqt2\n",
       "u2aBbGR5AAAACXBIWXMAAA7EAAAOxAGVKw4bAAAA3klEQVQY02NgwACPbO9r2j6AsBmVHVDkLqxm\n",
       "yH5bAGHzB6BKrWDgZdwAYecXoEuxLFCAsDsh1NmZMxXgUhcgYipgMuk4Qhd3OchArh0Hv4IEuNSR\n",
       "DJQNWgBkJC/g/Q4SYFoAl1qs+RNkArsdAwvYBiYkZ7wrAtEsHxg4G0AM4ZlAcAEixVsH8jLzBYb6\n",
       "BJBALZIuRofrQLr+AMN7sAAnsr8c14KkAhg2sYJcwHMASaqWB2gi7wHWKSxgEVW41BIGvgfXgC7c\n",
       "07j6IFik+loBLORvMdzVRwnXjJszFZC4AHM6StvnxMwUAAAAAElFTkSuQmCC\n",
       "\" style=\"display:inline;vertical-align:middle;\" /></a> <a class=\"ProveItLink\" href=\"../__pv_it/demonstrations/0a9825d556d0017b1e76c5bf50f5f33731c795b70/proof.ipynb\" style=\"text-decoration: none\">&nbsp;&#x22A2;&nbsp;&nbsp;</a><a class=\"ProveItLink\" href=\"../__pv_it/demonstrations/43356efe9286ae582931245af638310bd1e593e00/expr.ipynb\"><img src=\"data:image/png;base64,iVBORw0KGgoAAAANSUhEUgAAAKQAAAArBAMAAAAEfT5/AAAAMFBMVEX///8AAAAAAAAAAAAAAAAA\n",
       "AAAAAAAAAAAAAAAAAAAAAAAAAAAAAAAAAAAAAAAAAAAv3aB7AAAAD3RSTlMAZkRUmRDNuyLviTJ2\n",
       "3asqG0tJAAAACXBIWXMAAA7EAAAOxAGVKw4bAAADE0lEQVRIx61WTWgTQRR+SXe72eymiR4UIeDe\n",
       "RC/NwYOISnqQFrG6N1HBpF68eIgHKaLgHoooSFP1YMFLvWqhK4haRBLB4l+VIi2IoPSih1IkVCpC\n",
       "C3VmMrvJm8mSbLcfJHn5ZvNl5r03Mx8AQMwChmclaAPjgsxNuYpM7uefPRPtJGFJpsqQkKaiFnmg\n",
       "u20lH8jUW4CsyGkZHlRmfwpDk8LDxvpnGzNnshcBUgIJt7zgk/0Gj6SsaUyYC2Yer/CrsUboRUHy\n",
       "mBdcgh14pB/OiguKFRGh5I0aEV4VJFcaiTqBR+6KOdJdBU9It0xamyEhP/5f1OAeHvonSqZBzyGi\n",
       "4GgzNl0Ozs8ceUssvavCQqzRDYw4D8nGc6OTt0kddmJCdypPiOR7LNlDs7PX0Vbh6WyDZcTIthmf\n",
       "iI/Ddds4XsVEvO/QQxL3spIPfqf4QVJOpqbeAWUOVVIk4HQGBgOJCu7obpJwpQYpb+uof6EFAScB\n",
       "vvkZLApE2cLNRzpNL0HBZ+ehBQH3QV1p/gkiCpY0y0IVduNKioS6DrFaIFF2US6ZZA5+dTnNkiKh\n",
       "/iF1PBBEVBxccVIerdo1j44oiYBrcDifDyJ68SY3x8hfLj8e/YiWJRJw7sOLZTeI2IX7Mr4KkSFs\n",
       "ZHknh8dQ0Em0aUgn0XRkyZh4XvbkokqmnKC7Z9OQ7h44GFFRviH9e3yzUOyWdPPuM2FLsB3UR79t\n",
       "bjnyLR+ZcsN11iIo9UOXWo59bDmNhXm2Ilw6LEhbiTVuObrpdLXGGeLbilCdRYpkM0lqOZI5Tyj5\n",
       "usojZivC4Ab7/Ry3HF15T/KLMVaP6rYiDPbQt1e2OsEsR7zEJZWS6vKI2YowOEI79jIY48xyGCXo\n",
       "H74yPJzRScd6kVkKJ/mcvEbgJrcc/sLTjlcebis63E7UV5DyJK6+PEq+UsthVrlQtwUT9Yjbis7A\n",
       "fIXmgL6xQbNFLYfmcMlEX9auR9xWdNbkzFfEkac+Ba36svMmr/uKgWZuoOXu6RjcVyTtrTuZPF/R\n",
       "JKlGPIIkXxEdsq+IfmFKviIq/gOMCt3tJ/TfYwAAAABJRU5ErkJggg==\n",
       "\" style=\"display:inline;vertical-align:middle;\" /></a></span>"
      ],
      "text/plain": [
       "{a in RealPos, b in Real, c in Real, d in Real} |- (a^{b} * a^{c} * a^{b} * a^{d}) =  \\\\ a^{(2 * b) + c + d}"
      ]
     },
     "metadata": {},
     "output_type": "display_data"
    }
   ],
   "source": [
    "# special case where only start index is specified\n",
    "mult_exps_04.combining_exponents(start_idx = 0, assumptions=temp_assumptions)"
   ]
  },
  {
   "cell_type": "code",
   "execution_count": 101,
   "metadata": {},
   "outputs": [
    {
     "data": {
      "text/html": [
       "<span style=\"font-size:20px;\"><a class=\"ProveItLink\" href=\"../../exponentiation/__pv_it/theorems/5a0c211ed8c0f89e15d717d80d4627baae693acb0/expr.ipynb\"><img src=\"data:image/png;base64,iVBORw0KGgoAAAANSUhEUgAAAD8AAAATBAMAAADVH8ihAAAAMFBMVEX///8AAAAAAAAAAAAAAAAA\n",
       "AAAAAAAAAAAAAAAAAAAAAAAAAAAAAAAAAAAAAAAAAAAv3aB7AAAAD3RSTlMAIquJdkTvuxBmmd1U\n",
       "zTKBpmoTAAAACXBIWXMAAA7EAAAOxAGVKw4bAAAA3UlEQVQoz2NgwAO4GAgAdjIVzE2vv50+AZ8J\n",
       "BUIMQdMb8CkQZmDnU2BYXl5WXj4BhwIugQtYTHDfvfsCXEEBpoJYD4QJTB0KcAWMyo4OYPoGkhXP\n",
       "zwrAFYQJsP8A0bwCcAVit397wEOSI5OBawNYAZIjZ/YihfcHBm4DEOPZbiAogChg70R4j62AoT8A\n",
       "xGhHMoFvQQWc1+/AMB/M4EYOh3XiCAUHGHR5QO5jcUBS0M4Ct4PdgWcXJN7vwBVIMXBOKIXxOFTs\n",
       "hPzArKbSBlhsFjKU3z+AGQfB1ZCgRgEAfyQ4BfovW/4AAAAASUVORK5CYII=\n",
       "\" style=\"display:inline;vertical-align:middle;\" /></a>, <a class=\"ProveItLink\" href=\"../../ordering/__pv_it/theorems/6e5cad5b2984ed0d75bd47bd0c542ec447a4f3570/expr.ipynb\"><img src=\"data:image/png;base64,iVBORw0KGgoAAAANSUhEUgAAADEAAAAQBAMAAABNQoq8AAAAMFBMVEX///8AAAAAAAAAAAAAAAAA\n",
       "AAAAAAAAAAAAAAAAAAAAAAAAAAAAAAAAAAAAAAAAAAAv3aB7AAAAD3RSTlMAELvv3c2ZVESJq3Yi\n",
       "MmZ3LnoBAAAACXBIWXMAAA7EAAAOxAGVKw4bAAAA1ElEQVQY02NgQAdPjfRDjB4AGYzKDmhSCqcY\n",
       "uh4JABmsCegyJxmYeBcAGfwFmDJsBwKAjH4BqMgmF5cAuIwCkDEFKtG6EaGHSxBkWtTu5SA+TyCS\n",
       "aZdKDwDd9lVA/gDIIQfgModDvoD0s39kYN4AkkFywTtREM0WwMA/AUhfdgECBYgMkxzIpywTGPpB\n",
       "7hZC0sOboAjxTj7I3SzI/sk9BJK5wGgH4nNvQJIR4gYax/WACRI84XCZYwx8DzSArl6ZBxGQ0hCA\n",
       "hbUOg1I8cph1qkBCBwoAxe43BugJR6MAAAAASUVORK5CYII=\n",
       "\" style=\"display:inline;vertical-align:middle;\" /></a>, <a class=\"ProveItLink\" href=\"../__pv_it/demonstrations/d550e8309ef79ca46e4c9fb5617a392ea678789b0/expr.ipynb\"><img src=\"data:image/png;base64,iVBORw0KGgoAAAANSUhEUgAAADEAAAAQBAMAAABNQoq8AAAAMFBMVEX///8AAAAAAAAAAAAAAAAA\n",
       "AAAAAAAAAAAAAAAAAAAAAAAAAAAAAAAAAAAAAAAAAAAv3aB7AAAAD3RSTlMAiXZmMiLdVJm77xBE\n",
       "zatgdeJyAAAACXBIWXMAAA7EAAAOxAGVKw4bAAAAvUlEQVQY02NgQAe2K+dfW2nAgA1MiGM4Z7kB\n",
       "q0wgAyfLAxwyHAEXkEU009IuwGUmIEmc1Ubo4dsNNk1I2QFIst5GMs2zNgDICCvgAGnlDYDLRF37\n",
       "BtafyMClAJJBcoHxXhDN8RvC90oDggkQGc7NIJ9yQV2xE0kPS8NsIL1fAcJnQ/ZPSySQ5gdqPACk\n",
       "mRSQZHYyAUWBDmMEuZrhOlwmgoHZYA6QIWgM8eK+ORtgYT2VYeb9AqRAODgtDTm0ALktNaaWdOV1\n",
       "AAAAAElFTkSuQmCC\n",
       "\" style=\"display:inline;vertical-align:middle;\" /></a>, <a class=\"ProveItLink\" href=\"../__pv_it/demonstrations/41c3ad9f29c40b69fd61c49f41684c1b813e9e850/expr.ipynb\"><img src=\"data:image/png;base64,iVBORw0KGgoAAAANSUhEUgAAADMAAAAQBAMAAABJt1qBAAAAMFBMVEX///8AAAAAAAAAAAAAAAAA\n",
       "AAAAAAAAAAAAAAAAAAAAAAAAAAAAAAAAAAAAAAAAAAAv3aB7AAAAD3RSTlMAMs3vmVREEIndIqt2\n",
       "u2aBbGR5AAAACXBIWXMAAA7EAAAOxAGVKw4bAAAA3klEQVQY02NgwACPbO9r2j6AsBmVHVDkLqxm\n",
       "yH5bAGHzB6BKrWDgZdwAYecXoEuxLFCAsDsh1NmZMxXgUhcgYipgMuk4Qhd3OchArh0Hv4IEuNSR\n",
       "DJQNWgBkJC/g/Q4SYFoAl1qs+RNkArsdAwvYBiYkZ7wrAtEsHxg4G0AM4ZlAcAEixVsH8jLzBYb6\n",
       "BJBALZIuRofrQLr+AMN7sAAnsr8c14KkAhg2sYJcwHMASaqWB2gi7wHWKSxgEVW41BIGvgfXgC7c\n",
       "07j6IFik+loBLORvMdzVRwnXjJszFZC4AHM6StvnxMwUAAAAAElFTkSuQmCC\n",
       "\" style=\"display:inline;vertical-align:middle;\" /></a> <a class=\"ProveItLink\" href=\"../__pv_it/demonstrations/0a9825d556d0017b1e76c5bf50f5f33731c795b70/proof.ipynb\" style=\"text-decoration: none\">&nbsp;&#x22A2;&nbsp;&nbsp;</a><a class=\"ProveItLink\" href=\"../__pv_it/demonstrations/43356efe9286ae582931245af638310bd1e593e00/expr.ipynb\"><img src=\"data:image/png;base64,iVBORw0KGgoAAAANSUhEUgAAAKQAAAArBAMAAAAEfT5/AAAAMFBMVEX///8AAAAAAAAAAAAAAAAA\n",
       "AAAAAAAAAAAAAAAAAAAAAAAAAAAAAAAAAAAAAAAAAAAv3aB7AAAAD3RSTlMAZkRUmRDNuyLviTJ2\n",
       "3asqG0tJAAAACXBIWXMAAA7EAAAOxAGVKw4bAAADE0lEQVRIx61WTWgTQRR+SXe72eymiR4UIeDe\n",
       "RC/NwYOISnqQFrG6N1HBpF68eIgHKaLgHoooSFP1YMFLvWqhK4haRBLB4l+VIi2IoPSih1IkVCpC\n",
       "C3VmMrvJm8mSbLcfJHn5ZvNl5r03Mx8AQMwChmclaAPjgsxNuYpM7uefPRPtJGFJpsqQkKaiFnmg\n",
       "u20lH8jUW4CsyGkZHlRmfwpDk8LDxvpnGzNnshcBUgIJt7zgk/0Gj6SsaUyYC2Yer/CrsUboRUHy\n",
       "mBdcgh14pB/OiguKFRGh5I0aEV4VJFcaiTqBR+6KOdJdBU9It0xamyEhP/5f1OAeHvonSqZBzyGi\n",
       "4GgzNl0Ozs8ceUssvavCQqzRDYw4D8nGc6OTt0kddmJCdypPiOR7LNlDs7PX0Vbh6WyDZcTIthmf\n",
       "iI/Ddds4XsVEvO/QQxL3spIPfqf4QVJOpqbeAWUOVVIk4HQGBgOJCu7obpJwpQYpb+uof6EFAScB\n",
       "vvkZLApE2cLNRzpNL0HBZ+ehBQH3QV1p/gkiCpY0y0IVduNKioS6DrFaIFF2US6ZZA5+dTnNkiKh\n",
       "/iF1PBBEVBxccVIerdo1j44oiYBrcDifDyJ68SY3x8hfLj8e/YiWJRJw7sOLZTeI2IX7Mr4KkSFs\n",
       "ZHknh8dQ0Em0aUgn0XRkyZh4XvbkokqmnKC7Z9OQ7h44GFFRviH9e3yzUOyWdPPuM2FLsB3UR79t\n",
       "bjnyLR+ZcsN11iIo9UOXWo59bDmNhXm2Ilw6LEhbiTVuObrpdLXGGeLbilCdRYpkM0lqOZI5Tyj5\n",
       "usojZivC4Ab7/Ry3HF15T/KLMVaP6rYiDPbQt1e2OsEsR7zEJZWS6vKI2YowOEI79jIY48xyGCXo\n",
       "H74yPJzRScd6kVkKJ/mcvEbgJrcc/sLTjlcebis63E7UV5DyJK6+PEq+UsthVrlQtwUT9Yjbis7A\n",
       "fIXmgL6xQbNFLYfmcMlEX9auR9xWdNbkzFfEkac+Ba36svMmr/uKgWZuoOXu6RjcVyTtrTuZPF/R\n",
       "JKlGPIIkXxEdsq+IfmFKviIq/gOMCt3tJ/TfYwAAAABJRU5ErkJggg==\n",
       "\" style=\"display:inline;vertical-align:middle;\" /></a></span>"
      ],
      "text/plain": [
       "{a in RealPos, b in Real, c in Real, d in Real} |- (a^{b} * a^{c} * a^{b} * a^{d}) =  \\\\ a^{(2 * b) + c + d}"
      ]
     },
     "metadata": {},
     "output_type": "display_data"
    }
   ],
   "source": [
    "# special case where only end index is specified\n",
    "mult_exps_04.combining_exponents(end_idx=2, assumptions=temp_assumptions)"
   ]
  },
  {
   "cell_type": "code",
   "execution_count": 102,
   "metadata": {},
   "outputs": [
    {
     "data": {
      "text/html": [
       "<span style=\"font-size:20px;\"><a class=\"ProveItLink\" href=\"../../exponentiation/__pv_it/theorems/5a0c211ed8c0f89e15d717d80d4627baae693acb0/expr.ipynb\"><img src=\"data:image/png;base64,iVBORw0KGgoAAAANSUhEUgAAAD8AAAATBAMAAADVH8ihAAAAMFBMVEX///8AAAAAAAAAAAAAAAAA\n",
       "AAAAAAAAAAAAAAAAAAAAAAAAAAAAAAAAAAAAAAAAAAAv3aB7AAAAD3RSTlMAIquJdkTvuxBmmd1U\n",
       "zTKBpmoTAAAACXBIWXMAAA7EAAAOxAGVKw4bAAAA3UlEQVQoz2NgwAO4GAgAdjIVzE2vv50+AZ8J\n",
       "BUIMQdMb8CkQZmDnU2BYXl5WXj4BhwIugQtYTHDfvfsCXEEBpoJYD4QJTB0KcAWMyo4OYPoGkhXP\n",
       "zwrAFYQJsP8A0bwCcAVit397wEOSI5OBawNYAZIjZ/YihfcHBm4DEOPZbiAogChg70R4j62AoT8A\n",
       "xGhHMoFvQQWc1+/AMB/M4EYOh3XiCAUHGHR5QO5jcUBS0M4Ct4PdgWcXJN7vwBVIMXBOKIXxOFTs\n",
       "hPzArKbSBlhsFjKU3z+AGQfB1ZCgRgEAfyQ4BfovW/4AAAAASUVORK5CYII=\n",
       "\" style=\"display:inline;vertical-align:middle;\" /></a>, <a class=\"ProveItLink\" href=\"../../ordering/__pv_it/theorems/6e5cad5b2984ed0d75bd47bd0c542ec447a4f3570/expr.ipynb\"><img src=\"data:image/png;base64,iVBORw0KGgoAAAANSUhEUgAAADEAAAAQBAMAAABNQoq8AAAAMFBMVEX///8AAAAAAAAAAAAAAAAA\n",
       "AAAAAAAAAAAAAAAAAAAAAAAAAAAAAAAAAAAAAAAAAAAv3aB7AAAAD3RSTlMAELvv3c2ZVESJq3Yi\n",
       "MmZ3LnoBAAAACXBIWXMAAA7EAAAOxAGVKw4bAAAA1ElEQVQY02NgQAdPjfRDjB4AGYzKDmhSCqcY\n",
       "uh4JABmsCegyJxmYeBcAGfwFmDJsBwKAjH4BqMgmF5cAuIwCkDEFKtG6EaGHSxBkWtTu5SA+TyCS\n",
       "aZdKDwDd9lVA/gDIIQfgModDvoD0s39kYN4AkkFywTtREM0WwMA/AUhfdgECBYgMkxzIpywTGPpB\n",
       "7hZC0sOboAjxTj7I3SzI/sk9BJK5wGgH4nNvQJIR4gYax/WACRI84XCZYwx8DzSArl6ZBxGQ0hCA\n",
       "hbUOg1I8cph1qkBCBwoAxe43BugJR6MAAAAASUVORK5CYII=\n",
       "\" style=\"display:inline;vertical-align:middle;\" /></a>, <a class=\"ProveItLink\" href=\"../__pv_it/demonstrations/d550e8309ef79ca46e4c9fb5617a392ea678789b0/expr.ipynb\"><img src=\"data:image/png;base64,iVBORw0KGgoAAAANSUhEUgAAADEAAAAQBAMAAABNQoq8AAAAMFBMVEX///8AAAAAAAAAAAAAAAAA\n",
       "AAAAAAAAAAAAAAAAAAAAAAAAAAAAAAAAAAAAAAAAAAAv3aB7AAAAD3RSTlMAiXZmMiLdVJm77xBE\n",
       "zatgdeJyAAAACXBIWXMAAA7EAAAOxAGVKw4bAAAAvUlEQVQY02NgQAe2K+dfW2nAgA1MiGM4Z7kB\n",
       "q0wgAyfLAxwyHAEXkEU009IuwGUmIEmc1Ubo4dsNNk1I2QFIst5GMs2zNgDICCvgAGnlDYDLRF37\n",
       "BtafyMClAJJBcoHxXhDN8RvC90oDggkQGc7NIJ9yQV2xE0kPS8NsIL1fAcJnQ/ZPSySQ5gdqPACk\n",
       "mRSQZHYyAUWBDmMEuZrhOlwmgoHZYA6QIWgM8eK+ORtgYT2VYeb9AqRAODgtDTm0ALktNaaWdOV1\n",
       "AAAAAElFTkSuQmCC\n",
       "\" style=\"display:inline;vertical-align:middle;\" /></a>, <a class=\"ProveItLink\" href=\"../__pv_it/demonstrations/41c3ad9f29c40b69fd61c49f41684c1b813e9e850/expr.ipynb\"><img src=\"data:image/png;base64,iVBORw0KGgoAAAANSUhEUgAAADMAAAAQBAMAAABJt1qBAAAAMFBMVEX///8AAAAAAAAAAAAAAAAA\n",
       "AAAAAAAAAAAAAAAAAAAAAAAAAAAAAAAAAAAAAAAAAAAv3aB7AAAAD3RSTlMAMs3vmVREEIndIqt2\n",
       "u2aBbGR5AAAACXBIWXMAAA7EAAAOxAGVKw4bAAAA3klEQVQY02NgwACPbO9r2j6AsBmVHVDkLqxm\n",
       "yH5bAGHzB6BKrWDgZdwAYecXoEuxLFCAsDsh1NmZMxXgUhcgYipgMuk4Qhd3OchArh0Hv4IEuNSR\n",
       "DJQNWgBkJC/g/Q4SYFoAl1qs+RNkArsdAwvYBiYkZ7wrAtEsHxg4G0AM4ZlAcAEixVsH8jLzBYb6\n",
       "BJBALZIuRofrQLr+AMN7sAAnsr8c14KkAhg2sYJcwHMASaqWB2gi7wHWKSxgEVW41BIGvgfXgC7c\n",
       "07j6IFik+loBLORvMdzVRwnXjJszFZC4AHM6StvnxMwUAAAAAElFTkSuQmCC\n",
       "\" style=\"display:inline;vertical-align:middle;\" /></a> <a class=\"ProveItLink\" href=\"../__pv_it/demonstrations/0a9825d556d0017b1e76c5bf50f5f33731c795b70/proof.ipynb\" style=\"text-decoration: none\">&nbsp;&#x22A2;&nbsp;&nbsp;</a><a class=\"ProveItLink\" href=\"../__pv_it/demonstrations/43356efe9286ae582931245af638310bd1e593e00/expr.ipynb\"><img src=\"data:image/png;base64,iVBORw0KGgoAAAANSUhEUgAAAKQAAAArBAMAAAAEfT5/AAAAMFBMVEX///8AAAAAAAAAAAAAAAAA\n",
       "AAAAAAAAAAAAAAAAAAAAAAAAAAAAAAAAAAAAAAAAAAAv3aB7AAAAD3RSTlMAZkRUmRDNuyLviTJ2\n",
       "3asqG0tJAAAACXBIWXMAAA7EAAAOxAGVKw4bAAADE0lEQVRIx61WTWgTQRR+SXe72eymiR4UIeDe\n",
       "RC/NwYOISnqQFrG6N1HBpF68eIgHKaLgHoooSFP1YMFLvWqhK4haRBLB4l+VIi2IoPSih1IkVCpC\n",
       "C3VmMrvJm8mSbLcfJHn5ZvNl5r03Mx8AQMwChmclaAPjgsxNuYpM7uefPRPtJGFJpsqQkKaiFnmg\n",
       "u20lH8jUW4CsyGkZHlRmfwpDk8LDxvpnGzNnshcBUgIJt7zgk/0Gj6SsaUyYC2Yer/CrsUboRUHy\n",
       "mBdcgh14pB/OiguKFRGh5I0aEV4VJFcaiTqBR+6KOdJdBU9It0xamyEhP/5f1OAeHvonSqZBzyGi\n",
       "4GgzNl0Ozs8ceUssvavCQqzRDYw4D8nGc6OTt0kddmJCdypPiOR7LNlDs7PX0Vbh6WyDZcTIthmf\n",
       "iI/Ddds4XsVEvO/QQxL3spIPfqf4QVJOpqbeAWUOVVIk4HQGBgOJCu7obpJwpQYpb+uof6EFAScB\n",
       "vvkZLApE2cLNRzpNL0HBZ+ehBQH3QV1p/gkiCpY0y0IVduNKioS6DrFaIFF2US6ZZA5+dTnNkiKh\n",
       "/iF1PBBEVBxccVIerdo1j44oiYBrcDifDyJ68SY3x8hfLj8e/YiWJRJw7sOLZTeI2IX7Mr4KkSFs\n",
       "ZHknh8dQ0Em0aUgn0XRkyZh4XvbkokqmnKC7Z9OQ7h44GFFRviH9e3yzUOyWdPPuM2FLsB3UR79t\n",
       "bjnyLR+ZcsN11iIo9UOXWo59bDmNhXm2Ilw6LEhbiTVuObrpdLXGGeLbilCdRYpkM0lqOZI5Tyj5\n",
       "usojZivC4Ab7/Ry3HF15T/KLMVaP6rYiDPbQt1e2OsEsR7zEJZWS6vKI2YowOEI79jIY48xyGCXo\n",
       "H74yPJzRScd6kVkKJ/mcvEbgJrcc/sLTjlcebis63E7UV5DyJK6+PEq+UsthVrlQtwUT9Yjbis7A\n",
       "fIXmgL6xQbNFLYfmcMlEX9auR9xWdNbkzFfEkac+Ba36svMmr/uKgWZuoOXu6RjcVyTtrTuZPF/R\n",
       "JKlGPIIkXxEdsq+IfmFKviIq/gOMCt3tJ/TfYwAAAABJRU5ErkJggg==\n",
       "\" style=\"display:inline;vertical-align:middle;\" /></a></span>"
      ],
      "text/plain": [
       "{a in RealPos, b in Real, c in Real, d in Real} |- (a^{b} * a^{c} * a^{b} * a^{d}) =  \\\\ a^{(2 * b) + c + d}"
      ]
     },
     "metadata": {},
     "output_type": "display_data"
    }
   ],
   "source": [
    "# using start and end indices\n",
    "mult_exps_04.combining_exponents(start_idx = 1, end_idx=3, assumptions=temp_assumptions)"
   ]
  },
  {
   "cell_type": "code",
   "execution_count": 103,
   "metadata": {},
   "outputs": [
    {
     "data": {
      "text/html": [
       "<strong id=\"mult_exps_pows_of_2\">mult_exps_pows_of_2:</strong> <a class=\"ProveItLink\" href=\"../__pv_it/demonstrations/00d4792d6077e947d1ba383d954eceefbabceedb0/expr.ipynb\"><img src=\"data:image/png;base64,iVBORw0KGgoAAAANSUhEUgAAAFcAAAATBAMAAAAXL4wlAAAAMFBMVEX///8AAAAAAAAAAAAAAAAA\n",
       "AAAAAAAAAAAAAAAAAAAAAAAAAAAAAAAAAAAAAAAAAAAv3aB7AAAAD3RSTlMAIpnNuzKJRKvvEN12\n",
       "ZlQ4bmvwAAAACXBIWXMAAA7EAAAOxAGVKw4bAAABOklEQVQoz2NgAAGuywyogCutYwGqiOybVigr\n",
       "5jSaYiYGpg2oIm0MJ2HM12iK+QsYv6KKhDJk41LMuwBdMQPDXlyKGRjY0JzBcPgAAwOjkkkAqmIh\n",
       "ZVcgGY3wIEQJlw8DgwgD23cUxYwODPkFDIxeCBGIEob4AIZGBoaZKIo5BBg4JzAIMQjCRUBKuKYy\n",
       "yF9gmL+AoV8AWTHnLwaOj4yuoVpwEbCSXQw3FzB0MzD0B4jZ5yBM3sDA8ZXz//8PcBGwkrAzjWDO\n",
       "fvSQ4P6ALgJXwvoHXSr+AJoAQgl3A7riHRhWwZWowMXWG0AShgM8PX1GU8KLMJhbAUzdQBi5CU3J\n",
       "MwZGARQ7+RKQwhhVCWsCAw9q0g1jYDiF6j24EmklJW0UKcZNSkqoiQihZP///59Rff7//38D1ECG\n",
       "KQEA5YVSh6ikTt8AAAAASUVORK5CYII=\n",
       "\" style=\"display:inline;vertical-align:middle;\" /></a><br>"
      ],
      "text/plain": [
       "<IPython.core.display.HTML object>"
      ]
     },
     "metadata": {},
     "output_type": "display_data"
    }
   ],
   "source": [
    "# an example expression with all numeric values\n",
    "mult_exps_pows_of_2 = Mult(Exp(two, one), Exp(two, two), Exp(two, three))"
   ]
  },
  {
   "cell_type": "code",
   "execution_count": 104,
   "metadata": {},
   "outputs": [
    {
     "data": {
      "text/html": [
       "<span style=\"font-size:20px;\"> <a class=\"ProveItLink\" href=\"../__pv_it/demonstrations/588e806367d7d0a9ec404881b180d83792992b460/proof.ipynb\" style=\"text-decoration: none\">&nbsp;&#x22A2;&nbsp;&nbsp;</a><a class=\"ProveItLink\" href=\"../__pv_it/demonstrations/0990b02d3e96095ad653626a299484cd5b2778290/expr.ipynb\"><img src=\"data:image/png;base64,iVBORw0KGgoAAAANSUhEUgAAAMEAAAAaBAMAAAD8lSVDAAAAMFBMVEX///8AAAAAAAAAAAAAAAAA\n",
       "AAAAAAAAAAAAAAAAAAAAAAAAAAAAAAAAAAAAAAAAAAAv3aB7AAAAD3RSTlMAZkRUmRDNuyLviTJ2\n",
       "3asqG0tJAAAACXBIWXMAAA7EAAAOxAGVKw4bAAACkklEQVRIx5WWzWsTQRjGn5ANnWSTNVQUCkXy\n",
       "H3gXhRyiOVXWS0UvtScv4sdBFqmHCIWKIMmliHhoTh6kag6ejJJcFAq1RGiPtgXxA0VbCy3FCuvM\n",
       "7GZ3ProJ88DObobfzDPvzjvvBujrwhXIuvzii9xBjq60kKTM8ejp2W83fLx3+ie7jfIf9nJPGVPG\n",
       "hNzhNPMNWAkObz6w1uKX1ePDgR9Yom26HCBp1WEHdXnJdivXA7mZYHGGNSP0OlIiB/TGuDae03YS\n",
       "CQ7HVAegUATGhzmk3MgB+EivW0kO4AsQlb/GXNwhDkCu13d436Xb1wBmz83IDqRylS7fXot7OIKL\n",
       "dEB+U507oAWHt27fIXOX7kuTvdqXJclhDrkd2sarDRDYNPzMruoQ0NSh6t3xvCLIbVie98hjb6fT\n",
       "ovsCp4ZsQ3L4DjwGKZNalEYMudQif+jztOrAaSGGWdwPYsg8Qb2IjovsLpx9yWHBxVZtrv0qCoIj\n",
       "BTc1T5+rqgOnYwcy0z4bvqU1jLmgaez04ByQp3+70ZhfwFZrwffjo8AQe3GFBbWkOnD6wY3F0CHr\n",
       "+9uhw+tlGt/XIA231WEbakeEnDwkmfr0SNwVnRuPt52uMsT+p04SIR1+SiY+Ma0rtCWWhFDXebuu\n",
       "rVjLyQiplzCcFrTKreNSMBUUwKraESNTukN1gEEQwwlhOTy61KbSISBaLRHpBId0k2ewoFOIz0JQ\n",
       "U2KkU1P3QaMlfWNJBbyT97mJvJwxAqLlkk5LotlNVisVuew9rFTkb4OIjKlTaLQsuqKC7/vyB27D\n",
       "9/fkZBGQ89phUGlZ2RIMNW3I09pqJr22DpHdMBwwODUP02dDvlAzdZg05MdNDdhZMlHif40BGjXL\n",
       "DNdw+v8JFsbsnzEsPQAAAABJRU5ErkJggg==\n",
       "\" style=\"display:inline;vertical-align:middle;\" /></a></span>"
      ],
      "text/plain": [
       "|- (2^{1} * 2^{2} * 2^{3}) = 2^{1 + 2 + 3}"
      ]
     },
     "metadata": {},
     "output_type": "display_data"
    }
   ],
   "source": [
    "# by default, combine all exponentials into a single exponential\n",
    "# and simplify the resulting exponent\n",
    "mult_exps_pows_of_2.combining_exponents(auto_simplify=False)"
   ]
  },
  {
   "cell_type": "code",
   "execution_count": 105,
   "metadata": {},
   "outputs": [
    {
     "data": {
      "text/html": [
       "<strong id=\"mult_exps_left_without_exp\">mult_exps_left_without_exp:</strong> <a class=\"ProveItLink\" href=\"../__pv_it/demonstrations/42d47e5dd1532707b8d7394c001eab11de523c380/expr.ipynb\"><img src=\"data:image/png;base64,iVBORw0KGgoAAAANSUhEUgAAACsAAAATBAMAAAD7WukzAAAAMFBMVEX///8AAAAAAAAAAAAAAAAA\n",
       "AAAAAAAAAAAAAAAAAAAAAAAAAAAAAAAAAAAAAAAAAAAv3aB7AAAAD3RSTlMAIpnNuzKJRKvvEN12\n",
       "ZlQ4bmvwAAAACXBIWXMAAA7EAAAOxAGVKw4bAAAAo0lEQVQY02NgwADLMroYsAAFBm1swt8Z5AOw\n",
       "CN/CLszAkM3AwKhkgpCDcFh3MTCIMLB9hwtDOCILGBgaGRhmwoXBHEYFRgGG+QsY+gVgwmCOSGjQ\n",
       "AoZuBoZ+uOFgzvz//8Gc/ciugHNY/yCJIjjcDUjCCI4KiOD6jMQBAV6I/CZkDhA8Y2CEOxDBYU1g\n",
       "4FkAtxDOkVZSQgQvgrP////PCEfDOAAPdir6nizIJwAAAABJRU5ErkJggg==\n",
       "\" style=\"display:inline;vertical-align:middle;\" /></a><br>"
      ],
      "text/plain": [
       "<IPython.core.display.HTML object>"
      ]
     },
     "metadata": {},
     "output_type": "display_data"
    }
   ],
   "source": [
    "# special case of same bases but one without an exponent\n",
    "mult_exps_left_without_exp = Mult(two, Exp(two, two))"
   ]
  },
  {
   "cell_type": "code",
   "execution_count": 106,
   "metadata": {},
   "outputs": [
    {
     "data": {
      "text/html": [
       "<span style=\"font-size:20px;\"> <a class=\"ProveItLink\" href=\"../__pv_it/demonstrations/258b6f53af6ebc67c0d587578c623e6efd9b564a0/proof.ipynb\" style=\"text-decoration: none\">&nbsp;&#x22A2;&nbsp;&nbsp;</a><a class=\"ProveItLink\" href=\"../__pv_it/demonstrations/a141cea15d440a3ddbacb3d0e3f4d29c13b58dc00/expr.ipynb\"><img src=\"data:image/png;base64,iVBORw0KGgoAAAANSUhEUgAAAIAAAAAaBAMAAACN7UndAAAAMFBMVEX///8AAAAAAAAAAAAAAAAA\n",
       "AAAAAAAAAAAAAAAAAAAAAAAAAAAAAAAAAAAAAAAAAAAv3aB7AAAAD3RSTlMAZkRUmRDNuyLviTJ2\n",
       "3asqG0tJAAAACXBIWXMAAA7EAAAOxAGVKw4bAAAB0UlEQVQ4y42Uu0sDQRDGPzEhl2gSsRAEkfsP\n",
       "7AXB4jRV5CpbtbLzUUgQmxSCIohprUwtgql9oI2FhZAirUlAUBsfCBFB4dzH7brug+QrluHmt98N\n",
       "M3MH2JQ8fg3hUnJEw4ZNJoFEnRx2XdxxJMbQP20yed/7hrfmcJiiR0pgmLcgfSHNjHUz4Ni6FcqQ\n",
       "2rJhFwOGeRXAC5ZrMr09u0XOS3J5sK1f5aBiQLBEFdhB5kMyazj14W3QJnd0Aw4Sg0Jps1QaYlje\n",
       "B56BQ8HkykhXsI1dEi/pBhz8q4BiV6TWoxBv5ZhJd5D78rbOZ0hc0A04KA0YRof6AryJJuTqyH2n\n",
       "o+idxLe6AQP3Vk9iA4Y98lRLwbLvcTBhGYMAU+JBiZ0DPwpzdS0CVlbxnqqJ/6Dc0xX+UnViTREc\n",
       "+EYBWWO0DXaydiU/ubdc4QXTwOgrr6CvrZiNy9xBzdjxtt1gEp4YI/qrbAdYD8p6D1Qw1hPtTBWD\n",
       "suFnwI1rCv/AWHTW+0FQlKvcCIJ6HI/q5aoglLe0ouhTtjmKosU4njOWQAGF0r7z32V+CzbRr9H1\n",
       "8+v0YjBQcaYsM7PpwZnJlnsymHdmxnq6TxfHLudfWdewq71hL7d/ATizhuHQ64z1AAAAAElFTkSu\n",
       "QmCC\n",
       "\" style=\"display:inline;vertical-align:middle;\" /></a></span>"
      ],
      "text/plain": [
       "|- (2 * 2^{2}) = 2^{1 + 2}"
      ]
     },
     "metadata": {},
     "output_type": "display_data"
    }
   ],
   "source": [
    "# combine exponents for the special case\n",
    "mult_exps_left_without_exp.combining_exponents(auto_simplify=False)"
   ]
  },
  {
   "cell_type": "code",
   "execution_count": 107,
   "metadata": {},
   "outputs": [
    {
     "data": {
      "text/html": [
       "<strong id=\"mult_exps_right_without_exp\">mult_exps_right_without_exp:</strong> <a class=\"ProveItLink\" href=\"../__pv_it/demonstrations/c1fc3234fda5c21f9b127e3f00cb1d741f6f501c0/expr.ipynb\"><img src=\"data:image/png;base64,iVBORw0KGgoAAAANSUhEUgAAAC0AAAATBAMAAAD2RJl0AAAAMFBMVEX///8AAAAAAAAAAAAAAAAA\n",
       "AAAAAAAAAAAAAAAAAAAAAAAAAAAAAAAAAAAAAAAAAAAv3aB7AAAAD3RSTlMAIomZu0QQVHbN72bd\n",
       "Mqv0UZE7AAAACXBIWXMAAA7EAAAOxAGVKw4bAAAAz0lEQVQY02NgAAE2pXcJDFgAMwPzAWzi/AGM\n",
       "f7GJcydgF2dgYMIwR0jZFUjeQdjLqGQSAHSKAUN9AQOjG0JhMgP7dwYGju8M+RMYhBkE4eL9BWw/\n",
       "GRhYlzLwT2D0vWsGF48KYPgJZtRv4Pr//wOSley/QSTraXSnxGwAErx9b9GEb7y7ADGnAE0C5B4g\n",
       "4PoG5bP9hDLWJzDwXmBg+Q5TeBhE3GVg8C9g4P+GJA4G/xNA4lwPEOZAwDqwOdwbgO5HEd8NcX+w\n",
       "sSuqa1iNgeEGAE0tNKSuKDy5AAAAAElFTkSuQmCC\n",
       "\" style=\"display:inline;vertical-align:middle;\" /></a><br>"
      ],
      "text/plain": [
       "<IPython.core.display.HTML object>"
      ]
     },
     "metadata": {},
     "output_type": "display_data"
    }
   ],
   "source": [
    "# special case of same bases but one without an exponent\n",
    "mult_exps_right_without_exp = Mult(Exp(three, two), three)"
   ]
  },
  {
   "cell_type": "code",
   "execution_count": 108,
   "metadata": {},
   "outputs": [
    {
     "data": {
      "text/html": [
       "<span style=\"font-size:20px;\"> <a class=\"ProveItLink\" href=\"../__pv_it/demonstrations/74bfb85dc15b4376fba8c8d27d5bcd2d9980f66d0/proof.ipynb\" style=\"text-decoration: none\">&nbsp;&#x22A2;&nbsp;&nbsp;</a><a class=\"ProveItLink\" href=\"../__pv_it/demonstrations/60a3b1b9660ea21b40d64241440bd9fc3856a8ae0/expr.ipynb\"><img src=\"data:image/png;base64,iVBORw0KGgoAAAANSUhEUgAAAH8AAAAaBAMAAABsqp7JAAAAMFBMVEX///8AAAAAAAAAAAAAAAAA\n",
       "AAAAAAAAAAAAAAAAAAAAAAAAAAAAAAAAAAAAAAAAAAAv3aB7AAAAD3RSTlMAZkRUmRDNuyLviTJ2\n",
       "3asqG0tJAAAACXBIWXMAAA7EAAAOxAGVKw4bAAAB10lEQVQ4y42Uz0sCQRTHn67iyipugofAwx66\n",
       "dIj8D9yDsCfDIDx0Uf+BqC7SKW9CF6U/QDtEh6Dw0M3ArkE/oY6FENUhCEr00MVmdt1x9s0O7IOd\n",
       "1fc++503780MgGub5+8QyDhwvUrHtPPHhKIXjEgEHJBGtZsHMiqm4/+FVs8Dqtv+Ag4Yoz8VKlCe\n",
       "+TNYALL+AhkksMMiZ4hMliSLoCATUNvkObUMsqLnOXJwvAuQGOIvOZAJRI4ANkAZATTnE0ZNyOcg\n",
       "OsYCDLTqe/W6bgukiOR9LjoB1VQbLpgYQYV0qIYFOJBlMCDzLhswgWb/gqUQPoQUEbCwAAcygVs7\n",
       "ovxAdzrl2bwOcC3Wj4FUQD35u4IP27+iIzD8SIZVsQ0MjLmeOh0uv9EW0O6+yDiwvcUXaq/gBdk+\n",
       "3XIyG+GpSBegZYhLEMAn59V1s61UnXec9LAiCsxBPoM+wH7O3X70aGg9iJGp8N72gLzAtIT8qbEt\n",
       "MGigGgggsU/ydHBm8aG9BKELHZ8l0F4v0PbyFtLtfbCICyCAs16HCxYq11KBHCZYw7AIkmwN+eVV\n",
       "C3LD0dMoMfE0+pnWloZCw0CX7Js0kmwEEihLI9lg17wiK4LsVhYsLStvKcjX/zhAhK2E4M7/AAAA\n",
       "AElFTkSuQmCC\n",
       "\" style=\"display:inline;vertical-align:middle;\" /></a></span>"
      ],
      "text/plain": [
       "|- (3^{2} * 3) = 3^{2 + 1}"
      ]
     },
     "metadata": {},
     "output_type": "display_data"
    }
   ],
   "source": [
    "# combine exponents for the special case\n",
    "mult_exps_right_without_exp.combining_exponents(auto_simplify=False)"
   ]
  },
  {
   "cell_type": "code",
   "execution_count": 109,
   "metadata": {},
   "outputs": [
    {
     "data": {
      "text/html": [
       "<strong id=\"mult_exps_right_without_exp_var\">mult_exps_right_without_exp_var:</strong> <a class=\"ProveItLink\" href=\"../__pv_it/demonstrations/fde2ca08f4092cae48d9cf2074c4eab93d4d78670/expr.ipynb\"><img src=\"data:image/png;base64,iVBORw0KGgoAAAANSUhEUgAAAC0AAAATBAMAAAD2RJl0AAAAMFBMVEX///8AAAAAAAAAAAAAAAAA\n",
       "AAAAAAAAAAAAAAAAAAAAAAAAAAAAAAAAAAAAAAAAAAAv3aB7AAAAD3RSTlMAIquJdkTvuxBmmd1U\n",
       "zTKBpmoTAAAACXBIWXMAAA7EAAAOxAGVKw4bAAAAjklEQVQY02NgAIO3BQxYAZMBdnG2B9jF37to\n",
       "YBX3bvDCKl7JMBereB7DIqziHxhysIrv4MTugVcuGEKMyo4O2ATCBNh/oIhDBDgyGbg2IAtDBbg+\n",
       "MHDDAofjLwNcgK2AoT8ApnYXA1yg34FhPorxUIH+Awy6PALI4hABdgeeXVzI6qECHCp2Qn4o7gEL\n",
       "AAC0lCHSuNKcUQAAAABJRU5ErkJggg==\n",
       "\" style=\"display:inline;vertical-align:middle;\" /></a><br>"
      ],
      "text/plain": [
       "<IPython.core.display.HTML object>"
      ]
     },
     "metadata": {},
     "output_type": "display_data"
    }
   ],
   "source": [
    "# variable version of a special case\n",
    "mult_exps_right_without_exp_var = Mult(Exp(a, b), a)"
   ]
  },
  {
   "cell_type": "code",
   "execution_count": 110,
   "metadata": {},
   "outputs": [
    {
     "data": {
      "text/html": [
       "<span style=\"font-size:20px;\"><a class=\"ProveItLink\" href=\"../../exponentiation/__pv_it/theorems/5a0c211ed8c0f89e15d717d80d4627baae693acb0/expr.ipynb\"><img src=\"data:image/png;base64,iVBORw0KGgoAAAANSUhEUgAAAD8AAAATBAMAAADVH8ihAAAAMFBMVEX///8AAAAAAAAAAAAAAAAA\n",
       "AAAAAAAAAAAAAAAAAAAAAAAAAAAAAAAAAAAAAAAAAAAv3aB7AAAAD3RSTlMAIquJdkTvuxBmmd1U\n",
       "zTKBpmoTAAAACXBIWXMAAA7EAAAOxAGVKw4bAAAA3UlEQVQoz2NgwAO4GAgAdjIVzE2vv50+AZ8J\n",
       "BUIMQdMb8CkQZmDnU2BYXl5WXj4BhwIugQtYTHDfvfsCXEEBpoJYD4QJTB0KcAWMyo4OYPoGkhXP\n",
       "zwrAFYQJsP8A0bwCcAVit397wEOSI5OBawNYAZIjZ/YihfcHBm4DEOPZbiAogChg70R4j62AoT8A\n",
       "xGhHMoFvQQWc1+/AMB/M4EYOh3XiCAUHGHR5QO5jcUBS0M4Ct4PdgWcXJN7vwBVIMXBOKIXxOFTs\n",
       "hPzArKbSBlhsFjKU3z+AGQfB1ZCgRgEAfyQ4BfovW/4AAAAASUVORK5CYII=\n",
       "\" style=\"display:inline;vertical-align:middle;\" /></a>, <a class=\"ProveItLink\" href=\"../../ordering/__pv_it/theorems/6e5cad5b2984ed0d75bd47bd0c542ec447a4f3570/expr.ipynb\"><img src=\"data:image/png;base64,iVBORw0KGgoAAAANSUhEUgAAADEAAAAQBAMAAABNQoq8AAAAMFBMVEX///8AAAAAAAAAAAAAAAAA\n",
       "AAAAAAAAAAAAAAAAAAAAAAAAAAAAAAAAAAAAAAAAAAAv3aB7AAAAD3RSTlMAELvv3c2ZVESJq3Yi\n",
       "MmZ3LnoBAAAACXBIWXMAAA7EAAAOxAGVKw4bAAAA1ElEQVQY02NgQAdPjfRDjB4AGYzKDmhSCqcY\n",
       "uh4JABmsCegyJxmYeBcAGfwFmDJsBwKAjH4BqMgmF5cAuIwCkDEFKtG6EaGHSxBkWtTu5SA+TyCS\n",
       "aZdKDwDd9lVA/gDIIQfgModDvoD0s39kYN4AkkFywTtREM0WwMA/AUhfdgECBYgMkxzIpywTGPpB\n",
       "7hZC0sOboAjxTj7I3SzI/sk9BJK5wGgH4nNvQJIR4gYax/WACRI84XCZYwx8DzSArl6ZBxGQ0hCA\n",
       "hbUOg1I8cph1qkBCBwoAxe43BugJR6MAAAAASUVORK5CYII=\n",
       "\" style=\"display:inline;vertical-align:middle;\" /></a> <a class=\"ProveItLink\" href=\"../__pv_it/demonstrations/187e2496a58b6c519bc53555009995ce26cd39900/proof.ipynb\" style=\"text-decoration: none\">&nbsp;&#x22A2;&nbsp;&nbsp;</a><a class=\"ProveItLink\" href=\"../__pv_it/demonstrations/131e15f0d575e6741312be33828662c4fb969d0a0/expr.ipynb\"><img src=\"data:image/png;base64,iVBORw0KGgoAAAANSUhEUgAAAH8AAAAaBAMAAABsqp7JAAAAMFBMVEX///8AAAAAAAAAAAAAAAAA\n",
       "AAAAAAAAAAAAAAAAAAAAAAAAAAAAAAAAAAAAAAAAAAAv3aB7AAAAD3RSTlMAZkRUmRDNuyLviTJ2\n",
       "3asqG0tJAAAACXBIWXMAAA7EAAAOxAGVKw4bAAAB0UlEQVQ4y2NggIFtBQzEAe50ODMwAUQKQTh8\n",
       "C9AUOuAy4RWIYAEZdeYCkGSGKuTcgKauHZcBs0EEO4hgBhkQBhXef+YpqjrGAzi88OdcALIBhVDx\n",
       "swFH0FRexW4Az1UeByQDOCZAxQsZxNBUnsNuALsAYwKSASwL4D7zQ1MZH4DVAM4NLA/cyyvLywXA\n",
       "BvArQMU/MExGU8kmgNUAfgZOAyQX7IdZc5URPSGwYE8ZvAHiyLFwFia+5QxGaE3AHgs+B6AGcCz7\n",
       "dYDhGYjx6gRqlEEEmL5iaO5b0wMLSphQORBrNrCjqoUIcP8Gc3zvgsA9EJNpBkM91MssMLV5DAys\n",
       "ExlYLiDrhwpwfEJ3QKQAgy+62BWgYR8YeGGRyfqNAS7AimGAPwPDLXQxoAs4CxjiFZAMhAlw/EZX\n",
       "PB2LoUAD4g8wyKOmIIgA9w+0MGD9w8D4Ad2A50D1BgzPmBuQDYAIYMQC62cGvgQLNMGTwBg5wHyF\n",
       "BSW1QwQYMdJBDYOtA3oxoR/AwPpmdd9pFJsgAiwP0A2IO7XjDXqxwamAs+zCkRfQE/wCnFI4ciN6\n",
       "yp6AU0qOuEL2MU6ZG8QZEIZLAleZiA6YcQVCO5H1BKxewACuROkGAMi2fFQisYQaAAAAAElFTkSu\n",
       "QmCC\n",
       "\" style=\"display:inline;vertical-align:middle;\" /></a></span>"
      ],
      "text/plain": [
       "{a in RealPos, b in Real} |- (a^{b} * a) = a^{b + 1}"
      ]
     },
     "metadata": {},
     "output_type": "display_data"
    }
   ],
   "source": [
    "mult_exps_right_without_exp_var.combining_exponents(assumptions=temp_assumptions)"
   ]
  },
  {
   "cell_type": "code",
   "execution_count": 111,
   "metadata": {},
   "outputs": [
    {
     "data": {
      "text/html": [
       "<span style=\"font-size:20px;\"><a class=\"ProveItLink\" href=\"../../exponentiation/__pv_it/theorems/5a0c211ed8c0f89e15d717d80d4627baae693acb0/expr.ipynb\"><img src=\"data:image/png;base64,iVBORw0KGgoAAAANSUhEUgAAAD8AAAATBAMAAADVH8ihAAAAMFBMVEX///8AAAAAAAAAAAAAAAAA\n",
       "AAAAAAAAAAAAAAAAAAAAAAAAAAAAAAAAAAAAAAAAAAAv3aB7AAAAD3RSTlMAIquJdkTvuxBmmd1U\n",
       "zTKBpmoTAAAACXBIWXMAAA7EAAAOxAGVKw4bAAAA3UlEQVQoz2NgwAO4GAgAdjIVzE2vv50+AZ8J\n",
       "BUIMQdMb8CkQZmDnU2BYXl5WXj4BhwIugQtYTHDfvfsCXEEBpoJYD4QJTB0KcAWMyo4OYPoGkhXP\n",
       "zwrAFYQJsP8A0bwCcAVit397wEOSI5OBawNYAZIjZ/YihfcHBm4DEOPZbiAogChg70R4j62AoT8A\n",
       "xGhHMoFvQQWc1+/AMB/M4EYOh3XiCAUHGHR5QO5jcUBS0M4Ct4PdgWcXJN7vwBVIMXBOKIXxOFTs\n",
       "hPzArKbSBlhsFjKU3z+AGQfB1ZCgRgEAfyQ4BfovW/4AAAAASUVORK5CYII=\n",
       "\" style=\"display:inline;vertical-align:middle;\" /></a>, <a class=\"ProveItLink\" href=\"../../ordering/__pv_it/theorems/6e5cad5b2984ed0d75bd47bd0c542ec447a4f3570/expr.ipynb\"><img src=\"data:image/png;base64,iVBORw0KGgoAAAANSUhEUgAAADEAAAAQBAMAAABNQoq8AAAAMFBMVEX///8AAAAAAAAAAAAAAAAA\n",
       "AAAAAAAAAAAAAAAAAAAAAAAAAAAAAAAAAAAAAAAAAAAv3aB7AAAAD3RSTlMAELvv3c2ZVESJq3Yi\n",
       "MmZ3LnoBAAAACXBIWXMAAA7EAAAOxAGVKw4bAAAA1ElEQVQY02NgQAdPjfRDjB4AGYzKDmhSCqcY\n",
       "uh4JABmsCegyJxmYeBcAGfwFmDJsBwKAjH4BqMgmF5cAuIwCkDEFKtG6EaGHSxBkWtTu5SA+TyCS\n",
       "aZdKDwDd9lVA/gDIIQfgModDvoD0s39kYN4AkkFywTtREM0WwMA/AUhfdgECBYgMkxzIpywTGPpB\n",
       "7hZC0sOboAjxTj7I3SzI/sk9BJK5wGgH4nNvQJIR4gYax/WACRI84XCZYwx8DzSArl6ZBxGQ0hCA\n",
       "hbUOg1I8cph1qkBCBwoAxe43BugJR6MAAAAASUVORK5CYII=\n",
       "\" style=\"display:inline;vertical-align:middle;\" /></a>, <a class=\"ProveItLink\" href=\"../__pv_it/demonstrations/d550e8309ef79ca46e4c9fb5617a392ea678789b0/expr.ipynb\"><img src=\"data:image/png;base64,iVBORw0KGgoAAAANSUhEUgAAADEAAAAQBAMAAABNQoq8AAAAMFBMVEX///8AAAAAAAAAAAAAAAAA\n",
       "AAAAAAAAAAAAAAAAAAAAAAAAAAAAAAAAAAAAAAAAAAAv3aB7AAAAD3RSTlMAiXZmMiLdVJm77xBE\n",
       "zatgdeJyAAAACXBIWXMAAA7EAAAOxAGVKw4bAAAAvUlEQVQY02NgQAe2K+dfW2nAgA1MiGM4Z7kB\n",
       "q0wgAyfLAxwyHAEXkEU009IuwGUmIEmc1Ubo4dsNNk1I2QFIst5GMs2zNgDICCvgAGnlDYDLRF37\n",
       "BtafyMClAJJBcoHxXhDN8RvC90oDggkQGc7NIJ9yQV2xE0kPS8NsIL1fAcJnQ/ZPSySQ5gdqPACk\n",
       "mRSQZHYyAUWBDmMEuZrhOlwmgoHZYA6QIWgM8eK+ORtgYT2VYeb9AqRAODgtDTm0ALktNaaWdOV1\n",
       "AAAAAElFTkSuQmCC\n",
       "\" style=\"display:inline;vertical-align:middle;\" /></a> <a class=\"ProveItLink\" href=\"../__pv_it/demonstrations/dd67010d0a2ad5f37faa7b0b6ec913b190b7b6d10/proof.ipynb\" style=\"text-decoration: none\">&nbsp;&#x22A2;&nbsp;&nbsp;</a><a class=\"ProveItLink\" href=\"../__pv_it/demonstrations/9400fd7027b8ed397e0f7653d2d1b3137e30b1720/expr.ipynb\"><img src=\"data:image/png;base64,iVBORw0KGgoAAAANSUhEUgAAAMUAAAAbBAMAAAA+IlacAAAAMFBMVEX///8AAAAAAAAAAAAAAAAA\n",
       "AAAAAAAAAAAAAAAAAAAAAAAAAAAAAAAAAAAAAAAAAAAv3aB7AAAAD3RSTlMAZkRUmRDNuyLviTJ2\n",
       "3asqG0tJAAAACXBIWXMAAA7EAAAOxAGVKw4bAAACj0lEQVRIx61WTWgTQRT+NrtLdm3SVkFFCLg3\n",
       "0Ys9eOhFCL14sXVPBSu0qSDeJDmlB8E9CL1If/TQggcD4skqORS1eEgOCv6k0kNyEZSAtELpIVQU\n",
       "D4W6OzuzmZndbdjggySb733vfTPz3sws8L9slHuux3BeFXtlGbh9hFOxMPVym7I02XvC/xms9Bzq\n",
       "bkQ0s2kgj3HKSpFc+cCp0kez2lPjMWDEzXYM2Mdi1Wfhlgd1qZP0t9bYlsLWctJaHXyxkYvR2AJO\n",
       "Eg3CehpokCQlStq034lRWWtDBDKtTB5ZO1LCKHjfLxjrEtMgSYwlyirhlBh2BTdEID2sFJBpR2qk\n",
       "vIQDLUz5rHNMgyTRKsFiT4hhD+U8ZlVrQ/8dqaF60vM2NhzCeg2tXF4pl/wkQxZldfBIDPsr5xmC\n",
       "OQLMRve1O2gjbziUFawVSVJj69tSpJa5iWNSgezTZPZxNZ9/u25TVoNpkCSbjLTekKLuH38vjfWq\n",
       "t38/RmvMAU8ODxlrjmmQJDteU+x+EHd/CMDC2gP6dDHUWMR3gUf0orA/yu7nvJMWKxkCUqu4R3PX\n",
       "yF4d/+bZ965Pczi6/yfY53dc1WVoW8IwZADXh/1zwrVFS5oG9T0LH0/Mmq5qB1nWwfofRAC4Bnyl\n",
       "wIysQX06B0nL6c7DLHKBTUQAWIG+z+Yhn2ucL8ZcjZk6zgpYCNAPoHTYueaI9eB9MfbTTTmCHZUv\n",
       "WQjQf2GwMBrdV7wvxtx2T9fVpnAvhADcxeU8bZMzcgbOF2PusPS95wufhaHJAKY/vdmjdZgI3U5d\n",
       "X4yZVsJ7ezb5Va9VkvFjzt2jXwSWkvGVdh/vLD+S0bNOHxqTyei5ft691EQFMYr9aMgHWI8WsZML\n",
       "/AMhMrVerjIthwAAAABJRU5ErkJggg==\n",
       "\" style=\"display:inline;vertical-align:middle;\" /></a></span>"
      ],
      "text/plain": [
       "{a in RealPos, b in Real, c in Real} |- (a^{b} * a^{c} * a^{b}) = a^{(2 * b) + c}"
      ]
     },
     "metadata": {},
     "output_type": "display_data"
    }
   ],
   "source": [
    "# Recall this from earlier:\n",
    "mult_exps_03.combining_exponents(assumptions=temp_assumptions)"
   ]
  },
  {
   "cell_type": "code",
   "execution_count": 112,
   "metadata": {},
   "outputs": [
    {
     "data": {
      "text/html": [
       "<span style=\"font-size:20px;\"><a class=\"ProveItLink\" href=\"../../exponentiation/__pv_it/theorems/5a0c211ed8c0f89e15d717d80d4627baae693acb0/expr.ipynb\"><img src=\"data:image/png;base64,iVBORw0KGgoAAAANSUhEUgAAAD8AAAATBAMAAADVH8ihAAAAMFBMVEX///8AAAAAAAAAAAAAAAAA\n",
       "AAAAAAAAAAAAAAAAAAAAAAAAAAAAAAAAAAAAAAAAAAAv3aB7AAAAD3RSTlMAIquJdkTvuxBmmd1U\n",
       "zTKBpmoTAAAACXBIWXMAAA7EAAAOxAGVKw4bAAAA3UlEQVQoz2NgwAO4GAgAdjIVzE2vv50+AZ8J\n",
       "BUIMQdMb8CkQZmDnU2BYXl5WXj4BhwIugQtYTHDfvfsCXEEBpoJYD4QJTB0KcAWMyo4OYPoGkhXP\n",
       "zwrAFYQJsP8A0bwCcAVit397wEOSI5OBawNYAZIjZ/YihfcHBm4DEOPZbiAogChg70R4j62AoT8A\n",
       "xGhHMoFvQQWc1+/AMB/M4EYOh3XiCAUHGHR5QO5jcUBS0M4Ct4PdgWcXJN7vwBVIMXBOKIXxOFTs\n",
       "hPzArKbSBlhsFjKU3z+AGQfB1ZCgRgEAfyQ4BfovW/4AAAAASUVORK5CYII=\n",
       "\" style=\"display:inline;vertical-align:middle;\" /></a>, <a class=\"ProveItLink\" href=\"../../ordering/__pv_it/theorems/6e5cad5b2984ed0d75bd47bd0c542ec447a4f3570/expr.ipynb\"><img src=\"data:image/png;base64,iVBORw0KGgoAAAANSUhEUgAAADEAAAAQBAMAAABNQoq8AAAAMFBMVEX///8AAAAAAAAAAAAAAAAA\n",
       "AAAAAAAAAAAAAAAAAAAAAAAAAAAAAAAAAAAAAAAAAAAv3aB7AAAAD3RSTlMAELvv3c2ZVESJq3Yi\n",
       "MmZ3LnoBAAAACXBIWXMAAA7EAAAOxAGVKw4bAAAA1ElEQVQY02NgQAdPjfRDjB4AGYzKDmhSCqcY\n",
       "uh4JABmsCegyJxmYeBcAGfwFmDJsBwKAjH4BqMgmF5cAuIwCkDEFKtG6EaGHSxBkWtTu5SA+TyCS\n",
       "aZdKDwDd9lVA/gDIIQfgModDvoD0s39kYN4AkkFywTtREM0WwMA/AUhfdgECBYgMkxzIpywTGPpB\n",
       "7hZC0sOboAjxTj7I3SzI/sk9BJK5wGgH4nNvQJIR4gYax/WACRI84XCZYwx8DzSArl6ZBxGQ0hCA\n",
       "hbUOg1I8cph1qkBCBwoAxe43BugJR6MAAAAASUVORK5CYII=\n",
       "\" style=\"display:inline;vertical-align:middle;\" /></a>, <a class=\"ProveItLink\" href=\"../__pv_it/demonstrations/d550e8309ef79ca46e4c9fb5617a392ea678789b0/expr.ipynb\"><img src=\"data:image/png;base64,iVBORw0KGgoAAAANSUhEUgAAADEAAAAQBAMAAABNQoq8AAAAMFBMVEX///8AAAAAAAAAAAAAAAAA\n",
       "AAAAAAAAAAAAAAAAAAAAAAAAAAAAAAAAAAAAAAAAAAAv3aB7AAAAD3RSTlMAiXZmMiLdVJm77xBE\n",
       "zatgdeJyAAAACXBIWXMAAA7EAAAOxAGVKw4bAAAAvUlEQVQY02NgQAe2K+dfW2nAgA1MiGM4Z7kB\n",
       "q0wgAyfLAxwyHAEXkEU009IuwGUmIEmc1Ubo4dsNNk1I2QFIst5GMs2zNgDICCvgAGnlDYDLRF37\n",
       "BtafyMClAJJBcoHxXhDN8RvC90oDggkQGc7NIJ9yQV2xE0kPS8NsIL1fAcJnQ/ZPSySQ5gdqPACk\n",
       "mRSQZHYyAUWBDmMEuZrhOlwmgoHZYA6QIWgM8eK+ORtgYT2VYeb9AqRAODgtDTm0ALktNaaWdOV1\n",
       "AAAAAElFTkSuQmCC\n",
       "\" style=\"display:inline;vertical-align:middle;\" /></a> <a class=\"ProveItLink\" href=\"../__pv_it/demonstrations/616dbd1355f5cf05c17dca4cebf49e27649d2f250/proof.ipynb\" style=\"text-decoration: none\">&nbsp;&#x22A2;&nbsp;&nbsp;</a><a class=\"ProveItLink\" href=\"../__pv_it/demonstrations/a187bdac839d8b1a0f6ace4b5c2df8383ba8a93b0/expr.ipynb\"><img src=\"data:image/png;base64,iVBORw0KGgoAAAANSUhEUgAAAL0AAAAaBAMAAAAQ4EBVAAAAMFBMVEX///8AAAAAAAAAAAAAAAAA\n",
       "AAAAAAAAAAAAAAAAAAAAAAAAAAAAAAAAAAAAAAAAAAAv3aB7AAAAD3RSTlMAZkRUmRDNuyLviTJ2\n",
       "3asqG0tJAAAACXBIWXMAAA7EAAAOxAGVKw4bAAACRklEQVRIx5VWP2gTYRT/xdx5uTZpooMiBLzV\n",
       "yY4uQjp1sfWmggj2z9JNrlMQBG9wlBp1aMElux0ySKlTIij4pxUp6VKwBIoVSoegKA4dvO/Pxe97\n",
       "98X4PTh49/u997t373v3EiC1zQgjbHzZjpPYeXE30Rylj2PA+Qenss4Ay9cE4rdG6j8HCtFwDvAG\n",
       "t94Am5NIe/srSdmokvc9/RSiOqQ/jBOqY687whPYiozYCd/oKaXglQ4U94o1lEKjPueE/u54Q3gc\n",
       "KzRkxAou6CnTuK0DXiW3gGLPqM85rupEbkt4HHOagwbO6ilPqYbfcnpwfxr1GTddv1evV/wgKU14\n",
       "LL4cyIg+nukpv6lGGf4ksGjUFxyruhyn58uxdtrPvRwZjSWMkQMJL/K2mUxwTPVsgKbwOLaTRrzc\n",
       "JikPz70lM3IjGQy8N88P55hqYaoqJ4ljRww6ftfRojMAVjceSe9qZoD+cmT+mdWT60rs6aeWAc6s\n",
       "44HUbfPvcOYLswPCke+X2V3AfQLns6qWAXCrghnpPg5I+QpnsG7yrD5K6ZS6v2AAcBPYl8A81Vc4\n",
       "gyX1+5GS1IUBwBrc72n9dE8pnFl/voPLGpYB3FPk+umeivX+q5zBviVykzjKx6o+BdwfmFi4Zp4f\n",
       "lTNYMs5eJ9/V9noGwH1cr8k9fokqKJzBknLckxerH7WSKIA7H7ZOZN9nqYLCmRZTADtbtAt3mnbx\n",
       "Q/bn8B/mhl18rmf5vod24aXYUn/OLrxqKY+81QEUIlv99P/Pf45DaCf+BzOnoR8lMtwCAAAAAElF\n",
       "TkSuQmCC\n",
       "\" style=\"display:inline;vertical-align:middle;\" /></a></span>"
      ],
      "text/plain": [
       "{a in RealPos, b in Real, c in Real} |- (a^{b} * a^{c} * a^{b}) = a^{b + c + b}"
      ]
     },
     "metadata": {},
     "output_type": "display_data"
    }
   ],
   "source": [
    "# and the same thing, but now disallow the simplification of the resulting exponent\n",
    "mult_exps_03.combining_exponents(auto_simplify=False, assumptions=temp_assumptions)"
   ]
  },
  {
   "cell_type": "markdown",
   "metadata": {},
   "source": [
    "### `Mult.common_power_extraction()`: Combining Exponential Factors with the Same Exponent"
   ]
  },
  {
   "cell_type": "code",
   "execution_count": 113,
   "metadata": {},
   "outputs": [
    {
     "data": {
      "text/html": [
       "<strong id=\"mult_exps_05\">mult_exps_05:</strong> <a class=\"ProveItLink\" href=\"../__pv_it/demonstrations/c18191922ad9fdf4951211d7351d57f9a86a0f2f0/expr.ipynb\"><img src=\"data:image/png;base64,iVBORw0KGgoAAAANSUhEUgAAADMAAAATBAMAAADPIygvAAAAMFBMVEX///8AAAAAAAAAAAAAAAAA\n",
       "AAAAAAAAAAAAAAAAAAAAAAAAAAAAAAAAAAAAAAAAAAAv3aB7AAAAD3RSTlMAIpnNuzKJRKvvEN12\n",
       "ZlQ4bmvwAAAACXBIWXMAAA7EAAAOxAGVKw4bAAAA2UlEQVQoz2NgAAHZN60MKAAh0MZwElUKIRDK\n",
       "kI0qhSywlwENwAUOH0CTAQkwKpkEMDBw+cAFGdNUCiACIgxs34EC8QEwqUUMfP8gAo0MDDO5pjLI\n",
       "X4BJnX/A9RkiMH8BQ7/ALoabC2BSlQUMnxnAAt0MDP0BYWcakZzA95cBJrAfzXXVcMNZ/6DKxHTA\n",
       "ncTdgKYL7EIwUIGLrTeA0POhbuJFaOJWAAcfg/8DCP8ZA6MAsnH/F8CkWBMYeBYgS82AGyitpKSN\n",
       "4oi7IH9BPPX//2cUKXYlUPACAQD+Rz7DhTwb/AAAAABJRU5ErkJggg==\n",
       "\" style=\"display:inline;vertical-align:middle;\" /></a><br>"
      ],
      "text/plain": [
       "<IPython.core.display.HTML object>"
      ]
     },
     "metadata": {},
     "output_type": "display_data"
    },
    {
     "data": {
      "text/html": [
       "<strong id=\"mult_exps_06\">mult_exps_06:</strong> <a class=\"ProveItLink\" href=\"../__pv_it/demonstrations/da7e6da17fd2871d34b9d67525039330c24a90250/expr.ipynb\"><img src=\"data:image/png;base64,iVBORw0KGgoAAAANSUhEUgAAADUAAAATBAMAAADCPVhoAAAAMFBMVEX///8AAAAAAAAAAAAAAAAA\n",
       "AAAAAAAAAAAAAAAAAAAAAAAAAAAAAAAAAAAAAAAAAAAv3aB7AAAAD3RSTlMAIquJdkTvuxBmmd1U\n",
       "zTKBpmoTAAAACXBIWXMAAA7EAAAOxAGVKw4bAAAA9UlEQVQoz2NggALmfwyowP4BnMn4AU1OHsFk\n",
       "KUCTc4cxOCx9HVBkmqdcgTG7Bd4/QJbi2MgHt38Vw3u4eHs2AwPXAj64/akI4xkYbjEwsAXA7ef4\n",
       "yFDSAZf7w8DQL8Du0QDlJvL9mwGTYv0B1Cfw/iVMLmqO8wR4KGwAyq88YgnytLIjqvN5VZwOQJlh\n",
       "Auw/UOT6bwCthzgjk4FrA4rc+QaGFAiL6wMDtwFcywUgsZaB4TOEy1bA0B8Ak+NeACQ2M7D+gSp1\n",
       "YJiPGsh/GLigDug/wKDLI4As94+hDeofdgeeXVwo+jQZqmDBpWIn5Ici12QF1QYA6QY6mCtRLs8A\n",
       "AAAASUVORK5CYII=\n",
       "\" style=\"display:inline;vertical-align:middle;\" /></a><br>"
      ],
      "text/plain": [
       "<IPython.core.display.HTML object>"
      ]
     },
     "metadata": {},
     "output_type": "display_data"
    },
    {
     "data": {
      "text/html": [
       "<strong id=\"mult_exps_07\">mult_exps_07:</strong> <a class=\"ProveItLink\" href=\"../__pv_it/demonstrations/9447d143c06a54b381c811a02629eb7c546e34390/expr.ipynb\"><img src=\"data:image/png;base64,iVBORw0KGgoAAAANSUhEUgAAAFcAAAATBAMAAAAXL4wlAAAAMFBMVEX///8AAAAAAAAAAAAAAAAA\n",
       "AAAAAAAAAAAAAAAAAAAAAAAAAAAAAAAAAAAAAAAAAAAv3aB7AAAAD3RSTlMAIquJdkTvuxBmmd1U\n",
       "zTKBpmoTAAAACXBIWXMAAA7EAAAOxAGVKw4bAAABL0lEQVQoz2NggALmfwyowP4BbgHGD2hy8gy4\n",
       "BVgK0OTcGXAJcFj6OqDINE+5woBLoFvgPYoTOTbyofoBWWAVw3u4eHs2AwPXAj5UPyALpCI78RYD\n",
       "A1sAmh+QBDg+MpR0wCX+MDD0C7B7NCArRhZI5Ps3AybO+gNokMD7lyiKkQWi5jhPgEfPBqCGlUcs\n",
       "UZwBFWBUdkQNNV4VpwOowcbsMg/KChNg/4Ei1X8D6AVkwLiHYTnUb5kMXBtQ5M43MKSgCHAbwAS4\n",
       "PoA4MEMvAIm1DAyfUQTWw73KVsDQHwA3YwGQ2MzA+gdFIB3hQgeG+aje+cPAheIJji8IxQcYdHkE\n",
       "kCX/MbRNQNH9ExhyEBa7A88uLhQ5TYYqVKuAQWEHtUTFTsgPRa7JagJaMFtOgXgRAJurUn3Z7mfj\n",
       "AAAAAElFTkSuQmCC\n",
       "\" style=\"display:inline;vertical-align:middle;\" /></a><br>"
      ],
      "text/plain": [
       "<IPython.core.display.HTML object>"
      ]
     },
     "metadata": {},
     "output_type": "display_data"
    }
   ],
   "source": [
    "# some example products of exponentials\n",
    "mult_exps_05, mult_exps_06, mult_exps_07 = (\n",
    "    Mult(Exp(two, three), Exp(three, three)),\n",
    "    Mult(Exp(a, d), Exp(b, d)),\n",
    "    Mult(Exp(a, d), Exp(b, d), Exp(c, d)))"
   ]
  },
  {
   "cell_type": "code",
   "execution_count": 114,
   "metadata": {},
   "outputs": [
    {
     "data": {
      "text/html": [
       "<strong id=\"temp_assumptions_02\">temp_assumptions_02:</strong> <a class=\"ProveItLink\" href=\"../__pv_it/demonstrations/b1c9afc9d80d2a12fe5803f59ef42d59c0b89ebd0/expr.ipynb\"><img src=\"data:image/png;base64,iVBORw0KGgoAAAANSUhEUgAAASoAAAAZBAMAAAB0jX6rAAAAMFBMVEX///8AAAAAAAAAAAAAAAAA\n",
       "AAAAAAAAAAAAAAAAAAAAAAAAAAAAAAAAAAAAAAAAAAAv3aB7AAAAD3RSTlMAZkRUmRDNuyLviTJ2\n",
       "3asqG0tJAAAACXBIWXMAAA7EAAAOxAGVKw4bAAAC7UlEQVRIx82WTWgTQRiG3yS72TRb221BPSja\n",
       "iwcvmpN4EXPRCiJdD1oEaXKo0ILVrRpXQWkOYlGkxIvxYCEFwUMVPAj2pPHgQVtLwfpXDKZIW5Ae\n",
       "akNrsQrOTNpkZ5vO7MXQgexkkiff++b75g9AI0QtCnnzwijwCrFoAXFMy0MwL4wGr1AvfZzEBnPl\n",
       "y5JHd4VvfZ324pdusaIXBlvSPV1pQ+LKDX0AQqmKpkN5/2SCU2ztlzMV0tiHPVtNlyu9MyqCRskE\n",
       "y1R2lYH1Aoptp+3VZLZ7YNa6ug1Nz6PZvmrbRunT+ogIipmob1rP1ZEgn4eCB6aSKyUZd1dwrymC\n",
       "ggZeckDt9dzHkqLGKfoX5MyaOEVBy+3qiRBSLLxz0v6zZjkPU22cYnhMzqyJQwXrTuTdrtqFUG0K\n",
       "07Tve3yHjW+a5eroFzs4xeDsaETGIDyyjWOo4PN9Sc5V6MdwQQiRqti0u48ehnSU58y9b19Nbt+O\n",
       "nVGXZEzoPZo5Btatrr+v+b19d1JbEEL6Ms6R7pSBY2wcLysObI7zVTlo4oGM2ZRxMSQNDa5tWr0L\n",
       "JS6EQvMYJ10LMMFM9udyuU8r1Uk08NEOA79lTEuxKGWGCGrHDf6sm6PmRZA6z3KVpm/o0HKs+mca\n",
       "v3wn4C/ImPRKWMuRBj2a4JgaC7EmIRRiFVT/wDfHxmMORWWIX1oFKAsShgQCH4dO5KO9XJxYFjvF\n",
       "kL6EGRKsgLr4fjoecSiq1qsSRzOyTKefhPlJVg7HUMHWWsPJxCKYDiQFEF2Db0h3DQeibB0FIyXF\n",
       "KBq01W1fXSSPSVyCjCELcJBjYN2Az7jgZLRsYFwRQOTcT7HNv+3t0OxT9rOZXav3gV9J7XLpjMlR\n",
       "6GHx34iY8MB208nQ68AV2OcjDkadHewbFkFQ8qjhzkH/o5VDgG8B8z8w60H0HKx8Z3C1cBUZdmfQ\n",
       "Ux6401VkgB3k9d0Dl60iA3yW39ur39i9PZDZYK6K+2njBnN1CPgHhV8iWJj/fXEAAAAASUVORK5C\n",
       "YII=\n",
       "\" style=\"display:inline;vertical-align:middle;\" /></a><br>"
      ],
      "text/plain": [
       "<IPython.core.display.HTML object>"
      ]
     },
     "metadata": {},
     "output_type": "display_data"
    }
   ],
   "source": [
    "# some useful assumptions for the testing\n",
    "temp_assumptions_02 = [InSet(a, RealPos), InSet(b, RealPos), InSet(c, RealPos), InSet(d, RealPos)]"
   ]
  },
  {
   "cell_type": "code",
   "execution_count": 115,
   "metadata": {},
   "outputs": [
    {
     "data": {
      "text/html": [
       "<strong id=\"example_exponent_combination\">example_exponent_combination:</strong> <span style=\"font-size:20px;\"> <a class=\"ProveItLink\" href=\"../__pv_it/demonstrations/212abb3d9435276f9c0dc32f3a7e970a03e8a80a0/proof.ipynb\" style=\"text-decoration: none\">&nbsp;&#x22A2;&nbsp;&nbsp;</a><a class=\"ProveItLink\" href=\"../__pv_it/demonstrations/37e4e828941da768cfc4bf96763b6b9444f786a00/expr.ipynb\"><img src=\"data:image/png;base64,iVBORw0KGgoAAAANSUhEUgAAAJ4AAAAcBAMAAABi0xubAAAAMFBMVEX///8AAAAAAAAAAAAAAAAA\n",
       "AAAAAAAAAAAAAAAAAAAAAAAAAAAAAAAAAAAAAAAAAAAv3aB7AAAAD3RSTlMAZkRUmRDNuyLviTJ2\n",
       "3asqG0tJAAAACXBIWXMAAA7EAAAOxAGVKw4bAAACVklEQVRIx61VP2jUUBz+0iSatJezVpeCSNaC\n",
       "YicH6XDC4YGD3CAtTr0ObiJ2qtCCJzi4yB1CJ0FvFlszVyW3KBa0VnqOloKgoiAtpaXQ4Xx5f5K8\n",
       "vNdAoB9cksv7vi/v/f68BxwfnDNrwTHaodwptXPMH078LeY3FAyuk9uIak7xB6uwijl6w4BZSZun\n",
       "8AZLcO4VsSvdIZfJtLmMr8A5na551KupLjCbNpfwgYx6dc00xtV3F9giD+GQqD26Ns/NRXJe1nzA\n",
       "XiDaLVV7RShS5BJZ3K3A2YHViYL02qfmAjdh7pJbGMDeU+zshlCkybejtRiLOOWj3ITbpuYCX8bt\n",
       "ffsZWuSjM4qfNcwUaTJwlkzo1VoTYR3uHsoH1FxgzMc+vmGUBK+m+LlgCokMlwf6Mym9dZQPqXkC\n",
       "cwcrn36Th1XF7zJXSGSc4NXxk9XKdkZ0URTPJSXB1xVFRB7kiZuj17Ara97+E80X0gfrOwXVzGQV\n",
       "lGw02J+79LqZnQTNb4SWnx3aUBQR2eT56dHPx20VpYriBV/ntOL3NFFMN2Ly0HZqfucTdo+1Lh7w\n",
       "JmgFWj+m8CoxeaCd+JkdPJYk/XrsFzaz8dvIKBjZ5LvJL/JbAd5Lfs+T9ar5XcgoGNngISP15fSq\n",
       "VXmvOk1LimJUqb/ljIKRSd+K73v9fr8hSQaqNZGGG4rfO8gKRva4wPXz90i1fz3tofNEdHcn106z\n",
       "vxgVHfGqOETauX6GZv+7rzsr4wr+kX/CaPb2KQ3vZMybzPXTnR9OV333MWm+vAAWO98YRnLGrHpB\n",
       "s/9GMK+LshPeAwAAAABJRU5ErkJggg==\n",
       "\" style=\"display:inline;vertical-align:middle;\" /></a></span><br>"
      ],
      "text/plain": [
       "<IPython.core.display.HTML object>"
      ]
     },
     "metadata": {},
     "output_type": "display_data"
    }
   ],
   "source": [
    "# automatic reductions of the new base are not performed (but see next cell)\n",
    "example_exponent_combination = mult_exps_05.common_power_extraction(\n",
    "    exp_factor=three, assumptions=temp_assumptions_02, auto_simplify=False)"
   ]
  },
  {
   "cell_type": "code",
   "execution_count": 116,
   "metadata": {},
   "outputs": [
    {
     "data": {
      "text/html": [
       "<span style=\"font-size:20px;\"> <a class=\"ProveItLink\" href=\"../__pv_it/demonstrations/d070adec41ca37fcc2f876ea8eb242065073fae80/proof.ipynb\" style=\"text-decoration: none\">&nbsp;&#x22A2;&nbsp;&nbsp;</a><a class=\"ProveItLink\" href=\"../__pv_it/demonstrations/7a5c36a0716220911f86a77287d1b95ed02453390/expr.ipynb\"><img src=\"data:image/png;base64,iVBORw0KGgoAAAANSUhEUgAAAHQAAAAaBAMAAACUSmU+AAAAMFBMVEX///8AAAAAAAAAAAAAAAAA\n",
       "AAAAAAAAAAAAAAAAAAAAAAAAAAAAAAAAAAAAAAAAAAAv3aB7AAAAD3RSTlMAZkRUmRDNuyLviTJ2\n",
       "3asqG0tJAAAACXBIWXMAAA7EAAAOxAGVKw4bAAAB+0lEQVQ4y32UPWjbQBTH//JHLH/FIpmyFA/d\n",
       "4zkUbIpKp4CnlExWpgwxJfUSKB3cJYZCqSl4KBnioZNxQXMyJFMhkAgXasgSbCi0pqUktnEopJA+\n",
       "nc5SdbLvDcc7/e5/9z7uBEzt9aNf8Jm6bJmYY5wtObOfOPPjxWaqjsJsKWMIc3qMT36cNBMd1GZL\n",
       "GcOGO/8iLkhrUE7nhEwML6aTz+KqVJmG7mylzVSKWdW3KenoK4+8+Vih8RltZgVlrZbJWKQJSigx\n",
       "ok8nbkGjBeRzlNEdUCqKyv3sYoexTBYYAB+iB3inueGMUTI2TXUILGiitIzYLmMntOthEdfVLlbc\n",
       "A0LvkTHSRaUBRHYFZXhiF8lmF+T8Bq7No/PB/yvyWrJtVSmAuiCN2R8Y++586AkLQtNOhSYCie+0\n",
       "HzventPiv0LLremttEtFYV8x65Ob2UI8x9Bzp8F9sRj5HL+tIwGUbhBpMO8rG596xOBx8UCjAWkH\n",
       "ysg7VfEOTRfYFUVszE+9E6QZA8rQk65BrfrwxJUm/wi5xtxTf9i4iZTv0sT7bsCBCocpV6dh9iN9\n",
       "q+vrPqxo1Ffuin3FS2w6JVyl43r397d+/FCvcC8SqH1C542LZyG14B12zX45Mgu+HO/e1OXSBxL2\n",
       "TS69lLANqXLuv4n1SZpsTbrxkgw+mY/+AQoqiPzQ0traAAAAAElFTkSuQmCC\n",
       "\" style=\"display:inline;vertical-align:middle;\" /></a></span>"
      ],
      "text/plain": [
       "|- (2^{3} * 3^{3}) = 6^{3}"
      ]
     },
     "metadata": {},
     "output_type": "display_data"
    }
   ],
   "source": [
    "# We can dig into the inner_expr, though, to simplify/evaluate:\n",
    "example_exponent_combination.inner_expr().rhs.base.evaluate()"
   ]
  },
  {
   "cell_type": "code",
   "execution_count": 117,
   "metadata": {},
   "outputs": [
    {
     "data": {
      "text/html": [
       "<span style=\"font-size:20px;\"><a class=\"ProveItLink\" href=\"../../exponentiation/__pv_it/theorems/5a0c211ed8c0f89e15d717d80d4627baae693acb0/expr.ipynb\"><img src=\"data:image/png;base64,iVBORw0KGgoAAAANSUhEUgAAAD8AAAATBAMAAADVH8ihAAAAMFBMVEX///8AAAAAAAAAAAAAAAAA\n",
       "AAAAAAAAAAAAAAAAAAAAAAAAAAAAAAAAAAAAAAAAAAAv3aB7AAAAD3RSTlMAIquJdkTvuxBmmd1U\n",
       "zTKBpmoTAAAACXBIWXMAAA7EAAAOxAGVKw4bAAAA3UlEQVQoz2NgwAO4GAgAdjIVzE2vv50+AZ8J\n",
       "BUIMQdMb8CkQZmDnU2BYXl5WXj4BhwIugQtYTHDfvfsCXEEBpoJYD4QJTB0KcAWMyo4OYPoGkhXP\n",
       "zwrAFYQJsP8A0bwCcAVit397wEOSI5OBawNYAZIjZ/YihfcHBm4DEOPZbiAogChg70R4j62AoT8A\n",
       "xGhHMoFvQQWc1+/AMB/M4EYOh3XiCAUHGHR5QO5jcUBS0M4Ct4PdgWcXJN7vwBVIMXBOKIXxOFTs\n",
       "hPzArKbSBlhsFjKU3z+AGQfB1ZCgRgEAfyQ4BfovW/4AAAAASUVORK5CYII=\n",
       "\" style=\"display:inline;vertical-align:middle;\" /></a>, <a class=\"ProveItLink\" href=\"../__pv_it/theorems/b9cae19a628b9412bdeba3850806ec1015c9b6ae0/expr.ipynb\"><img src=\"data:image/png;base64,iVBORw0KGgoAAAANSUhEUgAAAD0AAAATBAMAAADR6hicAAAAMFBMVEX///8AAAAAAAAAAAAAAAAA\n",
       "AAAAAAAAAAAAAAAAAAAAAAAAAAAAAAAAAAAAAAAAAAAv3aB7AAAAD3RSTlMAELvv3c2ZVESJq3Yi\n",
       "MmZ3LnoBAAAACXBIWXMAAA7EAAAOxAGVKw4bAAAA6ElEQVQoz2NgwA3YGPADJrLknxrphxg9gMsz\n",
       "KjugKVA4xdD1SACunzUBXf4kAxPvAoYkJWUlJaA5/AWY8mwHAuD6+wWg4ptcXALg8gpw+SlQ6daN\n",
       "CP1cggvg8lG7l4MonkAk8y+VHoC7/6uAPIjDegAufzjky0Z4+LF/ZGDeAJJHct87UaRADmDgnwCk\n",
       "L7sAgQJEnknuAVyeZQJDP8iHQkj6eRMU4Tyg9/NBPmRB9n/uIYT8BUY7EM29AUleiBtuAdcDJkgA\n",
       "h8PljzHwPdCA8RhX5kEYUhoCsPjTYVCKL8CI2E4VSPiiAAC5IjjtCVE78gAAAABJRU5ErkJggg==\n",
       "\" style=\"display:inline;vertical-align:middle;\" /></a>, <a class=\"ProveItLink\" href=\"../__pv_it/demonstrations/47bc8cc554bef16e22bc6aac513e386b62872e270/expr.ipynb\"><img src=\"data:image/png;base64,iVBORw0KGgoAAAANSUhEUgAAAD8AAAATBAMAAADVH8ihAAAAMFBMVEX///8AAAAAAAAAAAAAAAAA\n",
       "AAAAAAAAAAAAAAAAAAAAAAAAAAAAAAAAAAAAAAAAAAAv3aB7AAAAD3RSTlMAMs3vmVREEIndIqt2\n",
       "u2aBbGR5AAAACXBIWXMAAA7EAAAOxAGVKw4bAAAA80lEQVQoz2NgwANYGAgAXjIVPLK9r2n7AFkB\n",
       "o7IDiooLqxmy3xYgm8AfgKpgBQMv4wYG37uX794Fm8SQX4CugGWBArIJnRDq7MyZCnAFF5AVqIDJ\n",
       "pOMIE7jLN8AVcO04+BVMqyNZIRu0AK4geQHvdxDNtACuYLHmz+PwkGS3Y2AB28yE5Mh3RUjh/YGB\n",
       "swHEEJ4JBBcgCnjrHsAVMF9gqE8AMWqRTGB0uA7n1R9geA9mcCKHg+NahIIAhk2sIPfxHEBSUMsD\n",
       "t4P3AOsUSLyrwhUsYeB7cA3GY9/TuPogmFV9rQAWm7cY7uoHYMZzxk1IUKMAALvkT+IOeAJ3AAAA\n",
       "AElFTkSuQmCC\n",
       "\" style=\"display:inline;vertical-align:middle;\" /></a> <a class=\"ProveItLink\" href=\"../__pv_it/demonstrations/305290109d747f804c4fc4fb1f1e8c7112ef12bd0/proof.ipynb\" style=\"text-decoration: none\">&nbsp;&#x22A2;&nbsp;&nbsp;</a><a class=\"ProveItLink\" href=\"../__pv_it/demonstrations/c2761a7ac449d037c0c3210f1ab3fad4ab0473bc0/expr.ipynb\"><img src=\"data:image/png;base64,iVBORw0KGgoAAAANSUhEUgAAAJ4AAAAcBAMAAABi0xubAAAAMFBMVEX///8AAAAAAAAAAAAAAAAA\n",
       "AAAAAAAAAAAAAAAAAAAAAAAAAAAAAAAAAAAAAAAAAAAv3aB7AAAAD3RSTlMAZkRUmRDNuyLviTJ2\n",
       "3asqG0tJAAAACXBIWXMAAA7EAAAOxAGVKw4bAAACLklEQVRIx61Vv0scQRR+6+56t+6de/ij1SvS\n",
       "BASvsrC6QNLYeE20kj2LtGKqJGBxnZVysUp51mK4fyDcVfF3EFSwEQTBgKQ4AopwTWZn3swxbyYL\n",
       "Cw7scvft931v5s17MwAvOUb6L2oH+V6qe+ZwhXX2GrO7C6Cawc3f/dkFcKuaOwm3mcFvpdFpAyxp\n",
       "7jSc07UIG3boLXTY+6PmboS7smSpYmIz7NmBA5ajJiLCHaf25VwCv0ztPElbQi6UwH+GjffgtRDm\n",
       "7nIMVyUQ14y01wmQkOEDwLewPwlRGVncXY6oIoHhEvXzKBIl658AeDV+XIKOjM/d5ZitScCjmw4B\n",
       "BRIyBOhzJlHuLse+AgpNKp+jwD5fNIrvk7p9OCRlsXZ6h7+GHql8gSo4eeRW/PnEnteNnK7yn2ox\n",
       "FlnIe8674YNrVolCkB3cpTUGfAXvXPNzHyHA+Pm/dH4XRCHILublkgXvQbE1iJZMpw4RIr7htzNQ\n",
       "xHVFDntqfsE6xGVFZwES8iw2Qb5v8ZOKYlWRh5rKL+7CtFFRi7j/4TPN3wVRCLKL6//Nvlbg3tV6\n",
       "PGqzDP1vfzeIQpAdrNMjgFzXvfQ0yWgpJ08xx6i/70QhyLJvWXH7f/a2T/R6eXijuuuW+v0AXSHI\n",
       "RdyBoJx+SJr9W2zbeFsyfivdzzxfHOsdIBcUNtP9pkzos+1mU8fGXbrftQktW2g5VR9LqXa2+yNv\n",
       "wQ4HvZqawCz3G46xtI/vMpr9A59ap8YPyhUXAAAAAElFTkSuQmCC\n",
       "\" style=\"display:inline;vertical-align:middle;\" /></a></span>"
      ],
      "text/plain": [
       "{a in RealPos, b in RealPos, d in RealPos} |- (a^{d} * b^{d}) = (a * b)^{d}"
      ]
     },
     "metadata": {},
     "output_type": "display_data"
    }
   ],
   "source": [
    "mult_exps_06.common_power_extraction(exp_factor=d, \n",
    "                                     assumptions=temp_assumptions_02)"
   ]
  },
  {
   "cell_type": "code",
   "execution_count": 118,
   "metadata": {},
   "outputs": [
    {
     "data": {
      "text/html": [
       "<span style=\"font-size:20px;\"><a class=\"ProveItLink\" href=\"../../exponentiation/__pv_it/theorems/5a0c211ed8c0f89e15d717d80d4627baae693acb0/expr.ipynb\"><img src=\"data:image/png;base64,iVBORw0KGgoAAAANSUhEUgAAAD8AAAATBAMAAADVH8ihAAAAMFBMVEX///8AAAAAAAAAAAAAAAAA\n",
       "AAAAAAAAAAAAAAAAAAAAAAAAAAAAAAAAAAAAAAAAAAAv3aB7AAAAD3RSTlMAIquJdkTvuxBmmd1U\n",
       "zTKBpmoTAAAACXBIWXMAAA7EAAAOxAGVKw4bAAAA3UlEQVQoz2NgwAO4GAgAdjIVzE2vv50+AZ8J\n",
       "BUIMQdMb8CkQZmDnU2BYXl5WXj4BhwIugQtYTHDfvfsCXEEBpoJYD4QJTB0KcAWMyo4OYPoGkhXP\n",
       "zwrAFYQJsP8A0bwCcAVit397wEOSI5OBawNYAZIjZ/YihfcHBm4DEOPZbiAogChg70R4j62AoT8A\n",
       "xGhHMoFvQQWc1+/AMB/M4EYOh3XiCAUHGHR5QO5jcUBS0M4Ct4PdgWcXJN7vwBVIMXBOKIXxOFTs\n",
       "hPzArKbSBlhsFjKU3z+AGQfB1ZCgRgEAfyQ4BfovW/4AAAAASUVORK5CYII=\n",
       "\" style=\"display:inline;vertical-align:middle;\" /></a>, <a class=\"ProveItLink\" href=\"../__pv_it/theorems/b9cae19a628b9412bdeba3850806ec1015c9b6ae0/expr.ipynb\"><img src=\"data:image/png;base64,iVBORw0KGgoAAAANSUhEUgAAAD0AAAATBAMAAADR6hicAAAAMFBMVEX///8AAAAAAAAAAAAAAAAA\n",
       "AAAAAAAAAAAAAAAAAAAAAAAAAAAAAAAAAAAAAAAAAAAv3aB7AAAAD3RSTlMAELvv3c2ZVESJq3Yi\n",
       "MmZ3LnoBAAAACXBIWXMAAA7EAAAOxAGVKw4bAAAA6ElEQVQoz2NgwA3YGPADJrLknxrphxg9gMsz\n",
       "KjugKVA4xdD1SACunzUBXf4kAxPvAoYkJWUlJaA5/AWY8mwHAuD6+wWg4ptcXALg8gpw+SlQ6daN\n",
       "CP1cggvg8lG7l4MonkAk8y+VHoC7/6uAPIjDegAufzjky0Z4+LF/ZGDeAJJHct87UaRADmDgnwCk\n",
       "L7sAgQJEnknuAVyeZQJDP8iHQkj6eRMU4Tyg9/NBPmRB9n/uIYT8BUY7EM29AUleiBtuAdcDJkgA\n",
       "h8PljzHwPdCA8RhX5kEYUhoCsPjTYVCKL8CI2E4VSPiiAAC5IjjtCVE78gAAAABJRU5ErkJggg==\n",
       "\" style=\"display:inline;vertical-align:middle;\" /></a>, <a class=\"ProveItLink\" href=\"../__pv_it/demonstrations/8c5864665d603ebc7e84fdb786d604e60f56fcc70/expr.ipynb\"><img src=\"data:image/png;base64,iVBORw0KGgoAAAANSUhEUgAAAD0AAAATBAMAAADR6hicAAAAMFBMVEX///8AAAAAAAAAAAAAAAAA\n",
       "AAAAAAAAAAAAAAAAAAAAAAAAAAAAAAAAAAAAAAAAAAAv3aB7AAAAD3RSTlMAiXZmMiLdVJm77xBE\n",
       "zatgdeJyAAAACXBIWXMAAA7EAAAOxAGVKw4bAAAA0ElEQVQoz2NgwA04GPADTrLkbVfOv7bSAI/+\n",
       "CXEM5yw34JEPZOBkecDQOXPWzJkG2OU5Ai5g6tdMS7sAl5+AIX9WG6Gfb/cDhLyQsgOQZL2NZL5n\n",
       "bQBcPqyAA2QYbwBcPuraN21E+CUycCmA5JHcZ7wXKZB/Q2ivNCCYAJHn3IzwF9cECL0TST9Lw2w4\n",
       "b78ChGZD9n9LJJzHDzTqAJBmUkCS38kEtwDoeEaQ/xiuw+UjGJgN5sANEDSGBMy+ORtg8TeVYeb9\n",
       "AoxwPzgNEr4oAABdmzkc2vbi6QAAAABJRU5ErkJggg==\n",
       "\" style=\"display:inline;vertical-align:middle;\" /></a>, <a class=\"ProveItLink\" href=\"../__pv_it/demonstrations/47bc8cc554bef16e22bc6aac513e386b62872e270/expr.ipynb\"><img src=\"data:image/png;base64,iVBORw0KGgoAAAANSUhEUgAAAD8AAAATBAMAAADVH8ihAAAAMFBMVEX///8AAAAAAAAAAAAAAAAA\n",
       "AAAAAAAAAAAAAAAAAAAAAAAAAAAAAAAAAAAAAAAAAAAv3aB7AAAAD3RSTlMAMs3vmVREEIndIqt2\n",
       "u2aBbGR5AAAACXBIWXMAAA7EAAAOxAGVKw4bAAAA80lEQVQoz2NgwANYGAgAXjIVPLK9r2n7AFkB\n",
       "o7IDiooLqxmy3xYgm8AfgKpgBQMv4wYG37uX794Fm8SQX4CugGWBArIJnRDq7MyZCnAFF5AVqIDJ\n",
       "pOMIE7jLN8AVcO04+BVMqyNZIRu0AK4geQHvdxDNtACuYLHmz+PwkGS3Y2AB28yE5Mh3RUjh/YGB\n",
       "swHEEJ4JBBcgCnjrHsAVMF9gqE8AMWqRTGB0uA7n1R9geA9mcCKHg+NahIIAhk2sIPfxHEBSUMsD\n",
       "t4P3AOsUSLyrwhUsYeB7cA3GY9/TuPogmFV9rQAWm7cY7uoHYMZzxk1IUKMAALvkT+IOeAJ3AAAA\n",
       "AElFTkSuQmCC\n",
       "\" style=\"display:inline;vertical-align:middle;\" /></a> <a class=\"ProveItLink\" href=\"../__pv_it/demonstrations/0135af61dbd1865ac9910490a3f8156c7dce4f940/proof.ipynb\" style=\"text-decoration: none\">&nbsp;&#x22A2;&nbsp;&nbsp;</a><a class=\"ProveItLink\" href=\"../__pv_it/demonstrations/e6725e0b3e6569bbb588e0cf20be80bc42c9de350/expr.ipynb\"><img src=\"data:image/png;base64,iVBORw0KGgoAAAANSUhEUgAAANgAAAAcBAMAAADxd2x8AAAAMFBMVEX///8AAAAAAAAAAAAAAAAA\n",
       "AAAAAAAAAAAAAAAAAAAAAAAAAAAAAAAAAAAAAAAAAAAv3aB7AAAAD3RSTlMAZkRUmRDNuyLviTJ2\n",
       "3asqG0tJAAAACXBIWXMAAA7EAAAOxAGVKw4bAAACy0lEQVRIx71WQWsTQRj9trubZJNus1Y9CAVz\n",
       "8CIIyUlEFLYgCII2FysKuvHgTUo9qVBwf4BtYi/2mF611XjzIomHalsVCu1BBEEoVCg9BCUixIMz\n",
       "szOTndlplk2hA7vsvpn3vTfzzTe7AIfWst3D04JMW3h93YjxciBzw9PoNspfq/29YMAYVMpc/NAC\n",
       "0F0OfFR5EYHM9IBit/0mWrdJ9npr7L7CiwyMqSL5/YVw9yVoovsDFuprrqvwIgN2WZGNUn+xM+ia\n",
       "x+uWqVHEcHM8RebjDeYl1Agw/CMa7LyUHswWzDhg/oWZ62DUKWIVQilKudRLuBHA7ERzX5GAlCsB\n",
       "9wAWct3jkC9QwPPTK3yJ8iXqJRwzAO5GxAxHAvLysh4DOHV03YEmE7D85hsuVixTL+EWAJcjYpYM\n",
       "FOW8WhT4woCh8QuLvHcZqJdwC4C1iNhZGViWgRQNtINvc0tPxd6pz9vS+KX3jX1swxVc7rurLTUb\n",
       "E7N0Vz3Ek1qAJ0II80/ZE2tntmTQ7RPUg/GdNBIEZ/G0n+4o2YSo0S00ha6bDlwVQusdsMSC/saB\n",
       "akGe2SaK/wyMDSWbEHVaX1vomsAYt4V9VyDPSsLDrozehvciYvOovw12nQ8O2CEiq2A8s+dg/uJU\n",
       "rI6IRbZ9bVw0Vq8Eqw2FGOonJshgyg4Rh2pczPwHWlsulAkhiV5vUZu+nLNN0n9SyQ6IOl3in0js\n",
       "N4xUzgliDZQEAUB7t7DfbpxBMUuwo/sKdkDU6MKskdEXXeGEGXHS4omDdlSWLt+JSJ29Aki39C1D\n",
       "xQ6I7EzERu+sv90TMmHujksBXxxZoU/XImLvEGHv5dwnJZsQ7QI7fxN+BaNno92I48yyedYTft6j\n",
       "p77mxpHYTHO1ZGKa4nv2KO6/ihfOdjIxW/ELcCOGk+acyWRiqn+QTKs/Z7V3DiZK2sB/V7SNJhls\n",
       "lA+g9B/QHshFor4XAQAAAABJRU5ErkJggg==\n",
       "\" style=\"display:inline;vertical-align:middle;\" /></a></span>"
      ],
      "text/plain": [
       "{a in RealPos, b in RealPos, c in RealPos, d in RealPos} |- (a^{d} * b^{d} * c^{d}) = (a * b * c)^{d}"
      ]
     },
     "metadata": {},
     "output_type": "display_data"
    }
   ],
   "source": [
    "mult_exps_07.common_power_extraction(exp_factor=d, assumptions=temp_assumptions_02)"
   ]
  },
  {
   "cell_type": "code",
   "execution_count": 119,
   "metadata": {},
   "outputs": [
    {
     "data": {
      "text/html": [
       "<strong id=\"mult_exps_08\">mult_exps_08:</strong> <a class=\"ProveItLink\" href=\"../__pv_it/demonstrations/4291a5ae6106e49d4af296c2d1fc85aa743a22880/expr.ipynb\"><img src=\"data:image/png;base64,iVBORw0KGgoAAAANSUhEUgAAAEoAAAAUBAMAAADYerbFAAAAMFBMVEX///8AAAAAAAAAAAAAAAAA\n",
       "AAAAAAAAAAAAAAAAAAAAAAAAAAAAAAAAAAAAAAAAAAAv3aB7AAAAD3RSTlMAIquJdkTvuxBmmd1U\n",
       "zTKBpmoTAAAACXBIWXMAAA7EAAAOxAGVKw4bAAABF0lEQVQoz2NgAIN5YJKPARWg85PBJPcDVFEw\n",
       "n3MLAzEglRhFjB/gzJsgomUNqjyEz1kgYoCsasFZVFUQPpPjiUS4qmYGjgYruIL2bAYwn8OAgc2H\n",
       "4QFc1TMBqIkQcAsiypfIIL/qAYq7GD4iVP2B86ezbhBAVsWXAFfE+gPOV+HbgOJ6FgW4KuYNcH4h\n",
       "gybQSkZlRweIFO8EuCpeFacDyHyGMAH2H2DG1WcIwf4bHB+R+RyZDFwbwKwlKxCi5xsYUpD5XB8Y\n",
       "uA2Qw7L/ApBYy8DwGVmQrYChPwAlISwAEpsZWP+gaHVgmI8ZxX8YuH6gqDrAoMsjgK7qH0PbBGQ+\n",
       "uwPPLi4MszQZqlD4HCp2Qn4YqpqsUIwCAO8MSIM1PcKMAAAAAElFTkSuQmCC\n",
       "\" style=\"display:inline;vertical-align:middle;\" /></a><br>"
      ],
      "text/plain": [
       "<IPython.core.display.HTML object>"
      ]
     },
     "metadata": {},
     "output_type": "display_data"
    }
   ],
   "source": [
    "mult_exps_08 = Mult(Exp(a, Mult(i, j)), Exp(b, Mult(j, k)))"
   ]
  },
  {
   "cell_type": "code",
   "execution_count": 120,
   "metadata": {},
   "outputs": [
    {
     "data": {
      "text/html": [
       "<span style=\"font-size:20px;\"><a class=\"ProveItLink\" href=\"../__pv_it/demonstrations/3b73368031281d59ff93a70f2b4cba5069515ff80/expr.ipynb\"><img src=\"data:image/png;base64,iVBORw0KGgoAAAANSUhEUgAAADIAAAATBAMAAAAg4UMRAAAAMFBMVEX///8AAAAAAAAAAAAAAAAA\n",
       "AAAAAAAAAAAAAAAAAAAAAAAAAAAAAAAAAAAAAAAAAAAv3aB7AAAAD3RSTlMAMrsQds2rme9mIlTd\n",
       "iUQmv6lAAAAACXBIWXMAAA7EAAAOxAGVKw4bAAAA4klEQVQY02NgwADcET+CzmhMADEZlVFkWNQE\n",
       "GAJYIcwAFBn2AgaWCbcZsAC2BQxGzAooQk5nzoB0MzMwFLIJIEs8dYaxGBPEwbSJG5jiCoarYTKA\n",
       "uKmAA+xC1gVwmb2cDmCXLeDfAJZBmAt1MzPDfgMQLXEGCMBOYtlwj4EBLFYDVmEE12LEBVSQBWKd\n",
       "BfN54DKJQB8xfwA56h8kJBxgbi54DvTuASCL8wNEJBru5mAGLm2QjWzQkDDTA9vK8EK1Sam/6QKQ\n",
       "xQEz5q3OGeSwZdsw34ABK5DfcBq7BAO7+wPsEgBKniwbfzxyLwAAAABJRU5ErkJggg==\n",
       "\" style=\"display:inline;vertical-align:middle;\" /></a>, <a class=\"ProveItLink\" href=\"../../ordering/__pv_it/theorems/4aa8d696b1f407d6126de9f51a052e8d90e0848c0/expr.ipynb\"><img src=\"data:image/png;base64,iVBORw0KGgoAAAANSUhEUgAAADMAAAAQBAMAAABJt1qBAAAAMFBMVEX///8AAAAAAAAAAAAAAAAA\n",
       "AAAAAAAAAAAAAAAAAAAAAAAAAAAAAAAAAAAAAAAAAAAv3aB7AAAAD3RSTlMAIquJdkTvuxBmmd1U\n",
       "zTKBpmoTAAAACXBIWXMAAA7EAAAOxAGVKw4bAAAAzElEQVQY02NgwABz0+tvp09gwAoKhBiCpjdg\n",
       "lxJmYOdTwCXFJXABRch99+4LcKkCZJlYD4Qupg6QgYzKjg4gAcYbSAY+PysAZIQJsP8ACfAKwKXE\n",
       "bv8GmcCRycC1ASyF5IyZvSCa6wMDtwGI8Ww3EBRApNg7QV5mK2DoDwAJtCPp4ltQAaT7HRjmgwW4\n",
       "kf21ThwkdYBBlwfkAhYHJKl2FqCJ7A48u7jAInfgUlIMnBNKgS5UsRPyA4s0lTbAQr6Qofz+AeTg\n",
       "CK7ejRxyAISENKeL/c93AAAAAElFTkSuQmCC\n",
       "\" style=\"display:inline;vertical-align:middle;\" /></a>, <a class=\"ProveItLink\" href=\"../../number_sets/integers/__pv_it/theorems/1759e791f6052d2463eefaaf9e2fa309cc3375160/expr.ipynb\"><img src=\"data:image/png;base64,iVBORw0KGgoAAAANSUhEUgAAADEAAAAUCAMAAAATIyWrAAAAPFBMVEX///8AAAAAAAAAAAAAAAAA\n",
       "AAAAAAAAAAAAAAAAAAAAAAAAAAAAAAAAAAAAAAAAAAAAAAAAAAAAAAAAAAAo1xBWAAAAE3RSTlMA\n",
       "IquJdkTvuxBmmd1UzTLn9enzF+Xi+wAAAAlwSFlzAAAOxAAADsQBlSsOGwAAANlJREFUKM+VktkS\n",
       "wyAIRVGMCy5d/P9/rZBJY5qWTniIIfFyvAiAFhThWrQwZ4iOzB9FaFNSC0DMuqTZKUlZOEFHzAWD\n",
       "yEvXnC0zAjoJthdejEVn3ElRZ0TcFIlr+fEr7DjKErc7PzeO6bgqRuXok2xTEbtiLNT5NeOnCzqk\n",
       "cVUszPBBPiwqYnNehvPIKkh9Gg0+/+O5unn3K8hNpGE3Sr9shXIoWj/7nrxUqywejJIJDucudGp2\n",
       "5inxPDfROmzGuqYixj5CZ9uv6y54ccq/IfRIlxH5KgKa9vMF/x0G2+xofVIAAAAASUVORK5CYII=\n",
       "\" style=\"display:inline;vertical-align:middle;\" /></a>, <a class=\"ProveItLink\" href=\"../__pv_it/demonstrations/53b6b683a0dc02a803e4eae3af6ee6cd1da1ef180/expr.ipynb\"><img src=\"data:image/png;base64,iVBORw0KGgoAAAANSUhEUgAAADIAAAAQBAMAAACmdTG/AAAAMFBMVEX///8AAAAAAAAAAAAAAAAA\n",
       "AAAAAAAAAAAAAAAAAAAAAAAAAAAAAAAAAAAAAAAAAAAv3aB7AAAAD3RSTlMAELvv3c2ZVESJq2Yi\n",
       "MnY6gD36AAAACXBIWXMAAA7EAAAOxAGVKw4bAAAA6ElEQVQY02NgwADswZ+DXJQ3MDAqO6DJ8Gld\n",
       "YAhgBTJYE9Bk2BIY+DZMBzL4C9BkuA4wCDEqABn9AjChRy4uAUCKkYEhl+sCkDEZJtH6EMbiXXAN\n",
       "REUxVCaCaJ5AuHlMAoogvb/Za6xBXNYDcJlK7gcg1/9p540ByyDcAHYzA5v1BQj3sgsQKIA9VDCD\n",
       "gUGAgSUsFyIjBNcixANUsIZBvqAfookFLrMW6CPGDwz7BeQLHoDNeABzc0Ib0LsODEsZ5C9MAIuE\n",
       "w90cyMCjrsCgzsCXBwkFKQ0I3axqpGRvNAE5wDpVwKEDBQAK0i1Zmi7k2QAAAABJRU5ErkJggg==\n",
       "\" style=\"display:inline;vertical-align:middle;\" /></a>, <a class=\"ProveItLink\" href=\"../../ordering/__pv_it/theorems/6e5cad5b2984ed0d75bd47bd0c542ec447a4f3570/expr.ipynb\"><img src=\"data:image/png;base64,iVBORw0KGgoAAAANSUhEUgAAADEAAAAQBAMAAABNQoq8AAAAMFBMVEX///8AAAAAAAAAAAAAAAAA\n",
       "AAAAAAAAAAAAAAAAAAAAAAAAAAAAAAAAAAAAAAAAAAAv3aB7AAAAD3RSTlMAELvv3c2ZVESJq3Yi\n",
       "MmZ3LnoBAAAACXBIWXMAAA7EAAAOxAGVKw4bAAAA1ElEQVQY02NgQAdPjfRDjB4AGYzKDmhSCqcY\n",
       "uh4JABmsCegyJxmYeBcAGfwFmDJsBwKAjH4BqMgmF5cAuIwCkDEFKtG6EaGHSxBkWtTu5SA+TyCS\n",
       "aZdKDwDd9lVA/gDIIQfgModDvoD0s39kYN4AkkFywTtREM0WwMA/AUhfdgECBYgMkxzIpywTGPpB\n",
       "7hZC0sOboAjxTj7I3SzI/sk9BJK5wGgH4nNvQJIR4gYax/WACRI84XCZYwx8DzSArl6ZBxGQ0hCA\n",
       "hbUOg1I8cph1qkBCBwoAxe43BugJR6MAAAAASUVORK5CYII=\n",
       "\" style=\"display:inline;vertical-align:middle;\" /></a>, <a class=\"ProveItLink\" href=\"../../division/__pv_it/theorems/1157e8bc07ff5d23e5b8809064b9e77def3bc8980/expr.ipynb\"><img src=\"data:image/png;base64,iVBORw0KGgoAAAANSUhEUgAAAC8AAAAUCAMAAAAqRJTwAAAAPFBMVEX///8AAAAAAAAAAAAAAAAA\n",
       "AAAAAAAAAAAAAAAAAAAAAAAAAAAAAAAAAAAAAAAAAAAAAAAAAAAAAAAAAAAo1xBWAAAAE3RSTlMA\n",
       "ELvv3c2ZVESJq3YiMmbn9enzVleb9QAAAAlwSFlzAAAOxAAADsQBlSsOGwAAANlJREFUKM+VkusS\n",
       "xBAMhcUlGspevP+7LjG6bK0ZfmhSn+OICPF/IMz+glR6igfZZ0QezxoanPIydImxWVnXDclO5V2X\n",
       "RLZAfOKRpj7l2Se82TJJU/tHLy8SWw7sxDjv3c2S6eWh8bHEBvLUllHzeDzL3M44E1XeN1PKL+S/\n",
       "fP6gYYM0uh9LDHX5KPqaOLIL+XZfWygm8aop+3+96y2uGkmufCxUys8IKo7yvy8SFWsV6y6jcrRr\n",
       "7w2iSz+o0iHgCKNYy2cKybsw72NLYmsY2MLjprzekxdhtfgBfooGZl93KjkAAAAASUVORK5CYII=\n",
       "\" style=\"display:inline;vertical-align:middle;\" /></a> <a class=\"ProveItLink\" href=\"../__pv_it/demonstrations/2747a04afdc2509b5f2030976411628dfb7a45f00/proof.ipynb\" style=\"text-decoration: none\">&nbsp;&#x22A2;&nbsp;&nbsp;</a><a class=\"ProveItLink\" href=\"../__pv_it/demonstrations/022f263dbb36da28f97a14a7d167b7d223b566080/expr.ipynb\"><img src=\"data:image/png;base64,iVBORw0KGgoAAAANSUhEUgAAAMMAAAAgBAMAAABdgdG1AAAAMFBMVEX///8AAAAAAAAAAAAAAAAA\n",
       "AAAAAAAAAAAAAAAAAAAAAAAAAAAAAAAAAAAAAAAAAAAv3aB7AAAAD3RSTlMAZkRUmRDNuyLviTJ2\n",
       "3asqG0tJAAAACXBIWXMAAA7EAAAOxAGVKw4bAAAC5ElEQVRIx+1WTWgTQRR+ye4m2axNQi9Fqpir\n",
       "iGQvihcx4t9Ba/dipSBNInqVFAQVBBcET6WJXgxSYQ+9qZCjPUgD5lCrlhx6qj9YAhVKDsEYKerB\n",
       "N9nN7vxsk7305sDM7nvzffvNe/O3AHtcNNjzMlKF/yVAuXaGMkJ20vjUBUvl+G4d2eOUoVq9xycO\n",
       "Q+zQ52ESz1jzYM15UYxF8hgdPsgnWGXfHn+ymnbxBaxSdqhCrE2aok/PLuSSh9/BOuW4IykSWF1n\n",
       "sLYdKs5hFg/4fKtPLrDusdiqg9fK2MzSErKUZ7C2nVg5VsFNZIgSs/4SrYfTpo3f9w3jKbsSigVX\n",
       "4m7kyr0GEBu96luysAiaz2BZkLj6HJsFXXPwZOCy5UpoFScWx5Hte0tnydJVuoKES6aiuIHKPy86\n",
       "+OtL+JJM04mCpOlik3rfHgs3TDEbNJnq6pC5OxqznZfO4XPZYCSWPGzG6NstrUGGe0GQcMmeRBjH\n",
       "nqi9iVP4j8BIrHn8V659FzZJpt4JEi7Zk4jjDEbNxDiF3yLN/Ms5MeJbH5pscjLCkiLk2PZKjXJF\n",
       "Wms6h79DgqvAg54ZOVL2tsQvI/eIsjEtvfNq4gspX13yYTNKr4PcTWWHweNYsU6nYMJeIXVvoFIX\n",
       "1HqdHngpzUeBZOUxyA3KdcqABQ6/jnUSYINm5sh+k/OQtJgP5gQJJMttGLEo2nmA3xyeRPEUlB/M\n",
       "ZUh2BBIz7GlSqvpEoRbdT/VoGxDucHgS618ItcU1r8MkO7/LJj8XSM7V4BAN6oDcZfAA31GiA4n8\n",
       "CUGiimlmiriikJzTYUvy9iv8ITPL4snivQ8ns8KpnEhFOd9+IVIkR2vSOn2VbMJtHk+kZlZft4Q8\n",
       "K9unOc9lQQLJSuvF/HvKNbOY4vFqOvBVX/C93YbjZSuowqCTdiBeKweVCIn3xUCyh28G/nU0RV8z\n",
       "EH4qqMSgu3swXgo4Gf5/IFYg/GgwCdkI/h/F4P8Bdki708XEmuYAAAAASUVORK5CYII=\n",
       "\" style=\"display:inline;vertical-align:middle;\" /></a></span>"
      ],
      "text/plain": [
       "{j in Integer, a in Real, a != 0, k in Integer, b in Real, b != 0} |- (a^{i * j} * b^{j * k}) = (a^{i} * b^{k})^{j}"
      ]
     },
     "metadata": {},
     "output_type": "display_data"
    }
   ],
   "source": [
    "mult_exps_08.common_power_extraction(\n",
    "        exp_factor = j,\n",
    "        assumptions=[NotEquals(a, zero), InSet(a, Real),\n",
    "                     NotEquals(b, zero), InSet(b, Real),\n",
    "                     InSet(j, Integer), InSet(k, Integer)])"
   ]
  },
  {
   "cell_type": "code",
   "execution_count": 121,
   "metadata": {},
   "outputs": [
    {
     "data": {
      "text/html": [
       "<strong id=\"mult_exps_09\">mult_exps_09:</strong> <a class=\"ProveItLink\" href=\"../__pv_it/demonstrations/d19a3404e38a6871cccd79a6d4afa318ccc6d0bc0/expr.ipynb\"><img src=\"data:image/png;base64,iVBORw0KGgoAAAANSUhEUgAAABIAAAAUBAMAAAByuXB5AAAAMFBMVEX///8AAAAAAAAAAAAAAAAA\n",
       "AAAAAAAAAAAAAAAAAAAAAAAAAAAAAAAAAAAAAAAAAAAv3aB7AAAAD3RSTlMAIquJdkTvuxBmmd1U\n",
       "zTKBpmoTAAAACXBIWXMAAA7EAAAOxAGVKw4bAAAAcklEQVQI12NggIIHMAbDPgbcgMPrAJTFxXMB\n",
       "yupgXgCT5p0AY/ELwFjP4JqdgJhR2dGBgeEmkBUmwP6DNy4BaGYmA9cGLq8GoJkfGLgNwErZChj6\n",
       "A8CsfgeG+RDt/QcYdHnAxrI78OzigrhHxU7ID8QAAFIyE8RD/I/DAAAAAElFTkSuQmCC\n",
       "\" style=\"display:inline;vertical-align:middle;\" /></a><br>"
      ],
      "text/plain": [
       "<IPython.core.display.HTML object>"
      ]
     },
     "metadata": {},
     "output_type": "display_data"
    }
   ],
   "source": [
    "mult_exps_09 = Exp(a, j)"
   ]
  },
  {
   "cell_type": "markdown",
   "metadata": {},
   "source": [
    "An example expression similar to one found in the QPE package:"
   ]
  },
  {
   "cell_type": "code",
   "execution_count": 122,
   "metadata": {},
   "outputs": [
    {
     "data": {
      "text/html": [
       "<strong id=\"mult_exps_10\">mult_exps_10:</strong> <a class=\"ProveItLink\" href=\"../__pv_it/demonstrations/dc1bc073e3b84271d46683d25b29f8b0bc2da6ac0/expr.ipynb\"><img src=\"data:image/png;base64,iVBORw0KGgoAAAANSUhEUgAAAJkAAAAUBAMAAABsXIKPAAAAMFBMVEX///8AAAAAAAAAAAAAAAAA\n",
       "AAAAAAAAAAAAAAAAAAAAAAAAAAAAAAAAAAAAAAAAAAAv3aB7AAAAD3RSTlMAEKvv3ZlUZiK7Mol2\n",
       "RM0NpfRjAAAACXBIWXMAAA7EAAAOxAGVKw4bAAABq0lEQVQ4y2NgwARVyJycBAbcgH0BNlHpTYpI\n",
       "PGsQUXIAol5WEY9K5g0gsvUMkgYgCGAIQbeA+QKYYm1AFcaiknEinwBCAxD8ZehHd3M/hOJ1RBXG\n",
       "opKzgDMBoQEICsFqOPz///8B5D0HCVVynAZRHJaoWlFV8hWAjeFLQGgAgy1ALCpRAA4HsGk6bcIg\n",
       "T+5ZfwHNKcgqwaZFMvAvQGgAAS5HBmkGAZ7GDQyMG4CmSTMw2CRwASkeBb4NqIYhVAJpvgKgcs/d\n",
       "+jANUNApwLC4gYGTK4CBywJo2uIGjq9RDECKeQErmmkIlUCarwCo/AdDKEwDBHAEcIBc2cmrAPMp\n",
       "+4QrHEBKnoET1aeoKsE+/cBggdAAtnDVUlAkx/AawExjOrCEG0ixNPShOQ1FJdi0h6wJCA1CJgEM\n",
       "9v//gyQfMjjCTONsYAJlCY6YjQiTMFWCTbu9jQGugdEk3YiBKECMSiYHhn4BokwjRiV/ATAxE2Ua\n",
       "MSrX////fwNBT/4jUuX6jI4Owj51JVIl/wEGIgExKlkNGRgaiDKNGJWMzrVHiHMeUSpZ/d8Q6VXC\n",
       "KgFvn4jTQXRAYgAAAABJRU5ErkJggg==\n",
       "\" style=\"display:inline;vertical-align:middle;\" /></a><br>"
      ],
      "text/plain": [
       "<IPython.core.display.HTML object>"
      ]
     },
     "metadata": {},
     "output_type": "display_data"
    }
   ],
   "source": [
    "mult_exps_10 = Mult(Exp(e, Mult(two, pi, i, k, delta)), Exp(e, Mult(two, pi, i, theta, k)))"
   ]
  },
  {
   "cell_type": "code",
   "execution_count": 123,
   "metadata": {},
   "outputs": [
    {
     "data": {
      "text/html": [
       "<span style=\"font-size:20px;\"><a class=\"ProveItLink\" href=\"../__pv_it/demonstrations/53b6b683a0dc02a803e4eae3af6ee6cd1da1ef180/expr.ipynb\"><img src=\"data:image/png;base64,iVBORw0KGgoAAAANSUhEUgAAADIAAAAQBAMAAACmdTG/AAAAMFBMVEX///8AAAAAAAAAAAAAAAAA\n",
       "AAAAAAAAAAAAAAAAAAAAAAAAAAAAAAAAAAAAAAAAAAAv3aB7AAAAD3RSTlMAELvv3c2ZVESJq2Yi\n",
       "MnY6gD36AAAACXBIWXMAAA7EAAAOxAGVKw4bAAAA6ElEQVQY02NgwADswZ+DXJQ3MDAqO6DJ8Gld\n",
       "YAhgBTJYE9Bk2BIY+DZMBzL4C9BkuA4wCDEqABn9AjChRy4uAUCKkYEhl+sCkDEZJtH6EMbiXXAN\n",
       "REUxVCaCaJ5AuHlMAoogvb/Za6xBXNYDcJlK7gcg1/9p540ByyDcAHYzA5v1BQj3sgsQKIA9VDCD\n",
       "gUGAgSUsFyIjBNcixANUsIZBvqAfookFLrMW6CPGDwz7BeQLHoDNeABzc0Ib0LsODEsZ5C9MAIuE\n",
       "w90cyMCjrsCgzsCXBwkFKQ0I3axqpGRvNAE5wDpVwKEDBQAK0i1Zmi7k2QAAAABJRU5ErkJggg==\n",
       "\" style=\"display:inline;vertical-align:middle;\" /></a>, <a class=\"ProveItLink\" href=\"../__pv_it/demonstrations/6057a125e9ee4d903c197ec4ff76bc8e134e3a7a0/expr.ipynb\"><img src=\"data:image/png;base64,iVBORw0KGgoAAAANSUhEUgAAADEAAAAQBAMAAABNQoq8AAAAMFBMVEX///8AAAAAAAAAAAAAAAAA\n",
       "AAAAAAAAAAAAAAAAAAAAAAAAAAAAAAAAAAAAAAAAAAAv3aB7AAAAD3RSTlMAIpnN77uJRKsQdlRm\n",
       "Mt3eazepAAAACXBIWXMAAA7EAAAOxAGVKw4bAAAA7UlEQVQY02NgYBAyCWRABpv9neOe+oBYCeyd\n",
       "KDJLexmYGQxALFRxBgYlBoY1bBtArBVoMo0MnAFTwaz5GyAiXHHvHoPoCQxMF3rBIqw/wRS71QSY\n",
       "rhu8CiCKu/srmCsMl2CIZAWzDzP0g2lDuAR3wikQxfiRYf8FEMMALgN1M0cAw32QDK/fu3fvnoJl\n",
       "VrMVMHAyMPAfYLgP4nIGwLRwBogCNQgwzL8AtAkEHsBkOC40Ar0C1HOBwRossAomc4kd6OY+Bga2\n",
       "BdwNEHs3wNzMPIFBdCuQkbUManxrJcTHriahIV/CkMOLPRUSOlAAADeAN/YEAYFcAAAAAElFTkSu\n",
       "QmCC\n",
       "\" style=\"display:inline;vertical-align:middle;\" /></a>, <a class=\"ProveItLink\" href=\"../__pv_it/demonstrations/e6b70d495f8afdad31e7730973d3895699c64e380/expr.ipynb\"><img src=\"data:image/png;base64,iVBORw0KGgoAAAANSUhEUgAAAD8AAAATBAMAAADVH8ihAAAAMFBMVEX///8AAAAAAAAAAAAAAAAA\n",
       "AAAAAAAAAAAAAAAAAAAAAAAAAAAAAAAAAAAAAAAAAAAv3aB7AAAAD3RSTlMAdokyu2YQ3URUqyLN\n",
       "75mYuQMGAAAACXBIWXMAAA7EAAAOxAGVKw4bAAAA90lEQVQoz2NgwAP4GAgAFjIVxFzxP34lAEkB\n",
       "o5IBqgqHXQxdIQkIBa5sBWgKNjGwMC9geOLi6+ICNInJgeEzhgK+DQfgJtg3MPyESIiUlx+AK3CA\n",
       "K1jOwPYVzOgRQ5jAlbYApoDtIwPHDxCD+xiSFSZzNsAUMH5mYPwNYvBsgCvYe/y7GDwkeX6tWn8B\n",
       "zEByZGgOwsn8Dgz5AiCGbTkQOEAUsKQGwBUAZeNBgcKQgmQC8wM3hIIGhjowgx05HB5vQVjRwHkN\n",
       "EuICSApSGOF2cE1Ih0bFSbiCfQysAR4wHtvD11BWlkcCLDa9GVzOT8CM5yZ3SFCjAAAyfENlIMyr\n",
       "qgAAAABJRU5ErkJggg==\n",
       "\" style=\"display:inline;vertical-align:middle;\" /></a> <a class=\"ProveItLink\" href=\"../__pv_it/demonstrations/e582e852e316162b8f278d89e5335ede87f766560/proof.ipynb\" style=\"text-decoration: none\">&nbsp;&#x22A2;&nbsp;&nbsp;</a><a class=\"ProveItLink\" href=\"../__pv_it/demonstrations/a0611bd9bd0f82807e717c9e4054d624571351d40/expr.ipynb\"><img src=\"data:image/png;base64,iVBORw0KGgoAAAANSUhEUgAAAWsAAAAbBAMAAABIPbM+AAAAMFBMVEX///8AAAAAAAAAAAAAAAAA\n",
       "AAAAAAAAAAAAAAAAAAAAAAAAAAAAAAAAAAAAAAAAAAAv3aB7AAAAD3RSTlMAZkRUmRDNuyLviTJ2\n",
       "3asqG0tJAAAACXBIWXMAAA7EAAAOxAGVKw4bAAAEEElEQVRYw71WXYjUVhg9M5vMZjYzO8OCiEjL\n",
       "vEml2hVa8EEktC7YdoWLFH8W6rqIL6WUWClb9CXFnxlB2bVQLG2tAfFFrMyDsBSRDfiitpaBuqBg\n",
       "cUqxImjZai1ShfS7N8lMkrnRPIT54E7uzzknJ/d+994BpJFrhhoDl/GCWI50MWABa6XcdaNOFCaT\n",
       "L1FxelXVs3+xbqtoc++3vcaS1SwZiW/4jzbuhAjSGKHxmoyb23xXCcMmzt+VyRuAB3vFCfTAu5RW\n",
       "/E1feo+N0V4ZcivbHRAMuWu1DeyQchULeT5LgkkwA5tk8ivhw4o1sSreeyo17VkMrC16z1WRyZYh\n",
       "sQd7A0Jdbluhl70t5eYXAPHRpgd7hJmmRL7AfNiM6NriZzMTgsdc16XsKlR5l3lUfN4RM5r3ESSm\n",
       "PL+7AkLOkdouU2nJuNBOAKcD2wRbImxrd1z3aVh+aNSHLdWuiS/xY4iWTx37YojXhe3hK299zft/\n",
       "ehSzEEYKXcXEsw5hQWr7ML19p4yLc/M1vBnYPswrP1D5YFvVjsjzrBCwBwe2W9BmA+FLTLVVXJkA\n",
       "Jsi2aqN4GU16/IKPYha6SBqeInh53/lFnwDCy2IFZYMp45baBZuPerZ5RV+gblY6ZIflBXsFNfDd\n",
       "qE5fYgeZ/Bl0mivzAvCjVahSfWZDk3d9i/diOd9F0nOK4BVLMXwCMMlkttfTLmrLuMUmWZiDMj19\n",
       "YnoPh6HOqBuDuhGWh06256ih/fO+2GC+7kE0uCVzdSdJluZblIDqIj6NOoggxSpWULQ6BMHtiTmI\n",
       "F/dyJzEYShKCaYbGxer5dkQ+SJKcuUoD5v250fZfHONp5LzWsf1Ab/GluClyMjTZEaTQLbB30CEo\n",
       "ZvKWlHDLFuXzz6EtWb94gXsaz89G5EuOBxt2LtHGuM4Py/s3UHTdRYEos8D25/idL/rBa91V70UK\n",
       "3fzZUXQIpdm45R0nDQxafFzC1cbP8BHfNsFOuS5v7fb2dkfeE+DPYbo5/6Ta9l+XtdPd0GmQ+Sfx\n",
       "m+bkmu/FVbEyiaKage28nYTZGsBETFN5CO1JOttpkLq4UJTfRPCPHG5hhvG7VrESKN6AIbmSuxHl\n",
       "f0Ll79Dp/eJIg9Tix3ylisEqhigtziT/X+ncCSzhz10tArtB00N31n8vdTy5MyVSjdueJxatPflR\n",
       "EygsoR5WjQ7RbOuPG41DL7VdNlIie/51zK9tNBiyDZ4kz1Oj0yD1p7HcrjjIPO5ReZdBS4dOg+w5\n",
       "SZSvACtj21epfHj89dvp0GmQufi5rd4auZ71hL/Bs27Tv2llUyCVnpNdufNx1klSrGWtKP9PknEo\n",
       "dtaKk6wPtvXZrBVfRT/ij6wFb/bF9paM9XJOX2wPZJzcdfQnRrKVG+uH5/8BcV9cMeao4bsAAAAA\n",
       "SUVORK5CYII=\n",
       "\" style=\"display:inline;vertical-align:middle;\" /></a></span>"
      ],
      "text/plain": [
       "{k in Integer, delta in Integer, theta in RealPos} |- (e^{2 * pi * i * k * delta} * e^{2 * pi * i * theta * k}) = e^{((2 * pi * i * delta) + (2 * pi * i * theta)) * k}"
      ]
     },
     "metadata": {},
     "output_type": "display_data"
    }
   ],
   "source": [
    "mult_exps_10.common_power_extraction(\n",
    "        exp_factor = k,\n",
    "        assumptions=[InSet(k, Integer), InSet(delta, Integer), InSet(theta, RealPos)])"
   ]
  },
  {
   "cell_type": "code",
   "execution_count": 124,
   "metadata": {},
   "outputs": [
    {
     "data": {
      "text/html": [
       "<span style=\"font-size:20px;\"><a class=\"ProveItLink\" href=\"../__pv_it/demonstrations/53b6b683a0dc02a803e4eae3af6ee6cd1da1ef180/expr.ipynb\"><img src=\"data:image/png;base64,iVBORw0KGgoAAAANSUhEUgAAADIAAAAQBAMAAACmdTG/AAAAMFBMVEX///8AAAAAAAAAAAAAAAAA\n",
       "AAAAAAAAAAAAAAAAAAAAAAAAAAAAAAAAAAAAAAAAAAAv3aB7AAAAD3RSTlMAELvv3c2ZVESJq2Yi\n",
       "MnY6gD36AAAACXBIWXMAAA7EAAAOxAGVKw4bAAAA6ElEQVQY02NgwADswZ+DXJQ3MDAqO6DJ8Gld\n",
       "YAhgBTJYE9Bk2BIY+DZMBzL4C9BkuA4wCDEqABn9AjChRy4uAUCKkYEhl+sCkDEZJtH6EMbiXXAN\n",
       "REUxVCaCaJ5AuHlMAoogvb/Za6xBXNYDcJlK7gcg1/9p540ByyDcAHYzA5v1BQj3sgsQKIA9VDCD\n",
       "gUGAgSUsFyIjBNcixANUsIZBvqAfookFLrMW6CPGDwz7BeQLHoDNeABzc0Ib0LsODEsZ5C9MAIuE\n",
       "w90cyMCjrsCgzsCXBwkFKQ0I3axqpGRvNAE5wDpVwKEDBQAK0i1Zmi7k2QAAAABJRU5ErkJggg==\n",
       "\" style=\"display:inline;vertical-align:middle;\" /></a>, <a class=\"ProveItLink\" href=\"../__pv_it/demonstrations/6057a125e9ee4d903c197ec4ff76bc8e134e3a7a0/expr.ipynb\"><img src=\"data:image/png;base64,iVBORw0KGgoAAAANSUhEUgAAADEAAAAQBAMAAABNQoq8AAAAMFBMVEX///8AAAAAAAAAAAAAAAAA\n",
       "AAAAAAAAAAAAAAAAAAAAAAAAAAAAAAAAAAAAAAAAAAAv3aB7AAAAD3RSTlMAIpnN77uJRKsQdlRm\n",
       "Mt3eazepAAAACXBIWXMAAA7EAAAOxAGVKw4bAAAA7UlEQVQY02NgYBAyCWRABpv9neOe+oBYCeyd\n",
       "KDJLexmYGQxALFRxBgYlBoY1bBtArBVoMo0MnAFTwaz5GyAiXHHvHoPoCQxMF3rBIqw/wRS71QSY\n",
       "rhu8CiCKu/srmCsMl2CIZAWzDzP0g2lDuAR3wikQxfiRYf8FEMMALgN1M0cAw32QDK/fu3fvnoJl\n",
       "VrMVMHAyMPAfYLgP4nIGwLRwBogCNQgwzL8AtAkEHsBkOC40Ar0C1HOBwRossAomc4kd6OY+Bga2\n",
       "BdwNEHs3wNzMPIFBdCuQkbUManxrJcTHriahIV/CkMOLPRUSOlAAADeAN/YEAYFcAAAAAElFTkSu\n",
       "QmCC\n",
       "\" style=\"display:inline;vertical-align:middle;\" /></a>, <a class=\"ProveItLink\" href=\"../__pv_it/demonstrations/e6b70d495f8afdad31e7730973d3895699c64e380/expr.ipynb\"><img src=\"data:image/png;base64,iVBORw0KGgoAAAANSUhEUgAAAD8AAAATBAMAAADVH8ihAAAAMFBMVEX///8AAAAAAAAAAAAAAAAA\n",
       "AAAAAAAAAAAAAAAAAAAAAAAAAAAAAAAAAAAAAAAAAAAv3aB7AAAAD3RSTlMAdokyu2YQ3URUqyLN\n",
       "75mYuQMGAAAACXBIWXMAAA7EAAAOxAGVKw4bAAAA90lEQVQoz2NgwAP4GAgAFjIVxFzxP34lAEkB\n",
       "o5IBqgqHXQxdIQkIBa5sBWgKNjGwMC9geOLi6+ICNInJgeEzhgK+DQfgJtg3MPyESIiUlx+AK3CA\n",
       "K1jOwPYVzOgRQ5jAlbYApoDtIwPHDxCD+xiSFSZzNsAUMH5mYPwNYvBsgCvYe/y7GDwkeX6tWn8B\n",
       "zEByZGgOwsn8Dgz5AiCGbTkQOEAUsKQGwBUAZeNBgcKQgmQC8wM3hIIGhjowgx05HB5vQVjRwHkN\n",
       "EuICSApSGOF2cE1Ih0bFSbiCfQysAR4wHtvD11BWlkcCLDa9GVzOT8CM5yZ3SFCjAAAyfENlIMyr\n",
       "qgAAAABJRU5ErkJggg==\n",
       "\" style=\"display:inline;vertical-align:middle;\" /></a> <a class=\"ProveItLink\" href=\"../__pv_it/demonstrations/e582e852e316162b8f278d89e5335ede87f766560/proof.ipynb\" style=\"text-decoration: none\">&nbsp;&#x22A2;&nbsp;&nbsp;</a><a class=\"ProveItLink\" href=\"../__pv_it/demonstrations/a0611bd9bd0f82807e717c9e4054d624571351d40/expr.ipynb\"><img src=\"data:image/png;base64,iVBORw0KGgoAAAANSUhEUgAAAWsAAAAbBAMAAABIPbM+AAAAMFBMVEX///8AAAAAAAAAAAAAAAAA\n",
       "AAAAAAAAAAAAAAAAAAAAAAAAAAAAAAAAAAAAAAAAAAAv3aB7AAAAD3RSTlMAZkRUmRDNuyLviTJ2\n",
       "3asqG0tJAAAACXBIWXMAAA7EAAAOxAGVKw4bAAAEEElEQVRYw71WXYjUVhg9M5vMZjYzO8OCiEjL\n",
       "vEml2hVa8EEktC7YdoWLFH8W6rqIL6WUWClb9CXFnxlB2bVQLG2tAfFFrMyDsBSRDfiitpaBuqBg\n",
       "cUqxImjZai1ShfS7N8lMkrnRPIT54E7uzzknJ/d+994BpJFrhhoDl/GCWI50MWABa6XcdaNOFCaT\n",
       "L1FxelXVs3+xbqtoc++3vcaS1SwZiW/4jzbuhAjSGKHxmoyb23xXCcMmzt+VyRuAB3vFCfTAu5RW\n",
       "/E1feo+N0V4ZcivbHRAMuWu1DeyQchULeT5LgkkwA5tk8ivhw4o1sSreeyo17VkMrC16z1WRyZYh\n",
       "sQd7A0Jdbluhl70t5eYXAPHRpgd7hJmmRL7AfNiM6NriZzMTgsdc16XsKlR5l3lUfN4RM5r3ESSm\n",
       "PL+7AkLOkdouU2nJuNBOAKcD2wRbImxrd1z3aVh+aNSHLdWuiS/xY4iWTx37YojXhe3hK299zft/\n",
       "ehSzEEYKXcXEsw5hQWr7ML19p4yLc/M1vBnYPswrP1D5YFvVjsjzrBCwBwe2W9BmA+FLTLVVXJkA\n",
       "Jsi2aqN4GU16/IKPYha6SBqeInh53/lFnwDCy2IFZYMp45baBZuPerZ5RV+gblY6ZIflBXsFNfDd\n",
       "qE5fYgeZ/Bl0mivzAvCjVahSfWZDk3d9i/diOd9F0nOK4BVLMXwCMMlkttfTLmrLuMUmWZiDMj19\n",
       "YnoPh6HOqBuDuhGWh06256ih/fO+2GC+7kE0uCVzdSdJluZblIDqIj6NOoggxSpWULQ6BMHtiTmI\n",
       "F/dyJzEYShKCaYbGxer5dkQ+SJKcuUoD5v250fZfHONp5LzWsf1Ab/GluClyMjTZEaTQLbB30CEo\n",
       "ZvKWlHDLFuXzz6EtWb94gXsaz89G5EuOBxt2LtHGuM4Py/s3UHTdRYEos8D25/idL/rBa91V70UK\n",
       "3fzZUXQIpdm45R0nDQxafFzC1cbP8BHfNsFOuS5v7fb2dkfeE+DPYbo5/6Ta9l+XtdPd0GmQ+Sfx\n",
       "m+bkmu/FVbEyiaKage28nYTZGsBETFN5CO1JOttpkLq4UJTfRPCPHG5hhvG7VrESKN6AIbmSuxHl\n",
       "f0Ll79Dp/eJIg9Tix3ylisEqhigtziT/X+ncCSzhz10tArtB00N31n8vdTy5MyVSjdueJxatPflR\n",
       "EygsoR5WjQ7RbOuPG41DL7VdNlIie/51zK9tNBiyDZ4kz1Oj0yD1p7HcrjjIPO5ReZdBS4dOg+w5\n",
       "SZSvACtj21epfHj89dvp0GmQufi5rd4auZ71hL/Bs27Tv2llUyCVnpNdufNx1klSrGWtKP9PknEo\n",
       "dtaKk6wPtvXZrBVfRT/ij6wFb/bF9paM9XJOX2wPZJzcdfQnRrKVG+uH5/8BcV9cMeao4bsAAAAA\n",
       "SUVORK5CYII=\n",
       "\" style=\"display:inline;vertical-align:middle;\" /></a></span>"
      ],
      "text/plain": [
       "{k in Integer, delta in Integer, theta in RealPos} |- (e^{2 * pi * i * k * delta} * e^{2 * pi * i * theta * k}) = e^{((2 * pi * i * delta) + (2 * pi * i * theta)) * k}"
      ]
     },
     "metadata": {},
     "output_type": "display_data"
    }
   ],
   "source": [
    "# here we specify the factors we want to extract from\n",
    "# in this case consisting of the entire expression\n",
    "mult_exps_10.common_power_extraction(\n",
    "        start_idx=0, end_idx=1,\n",
    "        exp_factor = k,\n",
    "        assumptions=[InSet(k, Integer), InSet(delta, Integer), InSet(theta, RealPos)])"
   ]
  },
  {
   "cell_type": "markdown",
   "metadata": {},
   "source": [
    "Another one, this time with common exponent factor in just a subset of the exponential multiplicands (_i.e._ at indices 1 and 2):"
   ]
  },
  {
   "cell_type": "code",
   "execution_count": 125,
   "metadata": {},
   "outputs": [
    {
     "data": {
      "text/html": [
       "<strong id=\"mult_exps_11\">mult_exps_11:</strong> <a class=\"ProveItLink\" href=\"../__pv_it/demonstrations/0c4c66cdb44225af4399f5b59fd1ddd080cca15f0/expr.ipynb\"><img src=\"data:image/png;base64,iVBORw0KGgoAAAANSUhEUgAAASYAAAAUBAMAAADSL437AAAAMFBMVEX///8AAAAAAAAAAAAAAAAA\n",
       "AAAAAAAAAAAAAAAAAAAAAAAAAAAAAAAAAAAAAAAAAAAv3aB7AAAAD3RSTlMAEKvv3ZlUZiK7Mol2\n",
       "RM0NpfRjAAAACXBIWXMAAA7EAAAOxAGVKw4bAAAC3ElEQVRIx5WUTWgTQRTH3yZZMtk2yWorCEGa\n",
       "quCl4AdF4xcmSAWh0FSbg9JDPenBQ4oiVFC2YDUFMemp4qnQ5tKDWUX0UA9BqhTSQ/DjpAd7ysVD\n",
       "e1CD2q5vtptNdprd2R3Izs683/vnvXmzD2DnCM4Bd9xtXdwccyDdqLUjYy97W1Z+tZ2HlTlNH7fL\n",
       "21r7eoGnNrVKwUFGU1jaLzPk84KxSsMIN4s2jL+qT6LCJYWZCP3zs8y2CGKS2fI1DmQT8twTbsPk\n",
       "t6dwikuGsiGsL1lntqNV8ofNs+E6rquQIU2r4yqSpZm9qVjTtzI1ujVBKnQiJ8GB1NXyEMGYgoXH\n",
       "1msRlPWYHmiaphhkadUs/Cv87dmb1V10W7dSYkpiYfSY+h52UeZtqepA6mpXIIph+lauJRiyA2sn\n",
       "DD/qMMll+b1hklIQA7lzElViaBNUyMA8495k0FzDdzgzJuHUGY+odmRD7eLSYXz6PwBb1AVZUAVY\n",
       "iZnkLNw3TNMyzCsQktKAcyQrJfA6vmPcmwyaa/hOfl6luH9OVO3IhlodMvjMZ9iQyAwVg0LRJE/B\n",
       "JcOUJrQI0+F44wyFOszusrpbGFq7YOEzwakHQlUHUq/IOtCiTYSTzH2Yghx1KHxsIY8biS0W6ac6\n",
       "Gj5i2hLS5rg1eQtDY/KVF+g9CChPwIHU1dZE2lb7pKT1RMmzxWHaEsqfTDIVxAa1uz8N5zSNbq5B\n",
       "yrR9uVPJmr47GRpTSPHRdk5GX4ADqat9fU1fn8KhZvGEAwPg1zTaHiJyQG6QRWyuQv/1Y7zW5Ibx\n",
       "SkLXhVtxG5MvCXmZ4+6G8UrCQSAbNqZoFpssx90N45WE34DffftRwh6q2nv2fOczRtm2PJESkn/t\n",
       "YrqRyzmcdiDNZ4wx4ImUfuVyk3anXXZRkbLLe+uBhH/2JvEogMJxd8N4JeGyDMSuuOfvLfOSc8N4\n",
       "JaH7xLdB29SGfvDTd8F4JWFkyyb6/9Wx+sWGapo4AAAAAElFTkSuQmCC\n",
       "\" style=\"display:inline;vertical-align:middle;\" /></a><br>"
      ],
      "text/plain": [
       "<IPython.core.display.HTML object>"
      ]
     },
     "metadata": {},
     "output_type": "display_data"
    }
   ],
   "source": [
    "mult_exps_11 = Mult(\n",
    "        Exp(e, Mult(two, pi, i, a)),\n",
    "        Exp(e, Mult(two, pi, i, k, delta)),\n",
    "        Exp(e, Mult(two, pi, i, theta, k)),\n",
    "        Exp(e, Mult(two, pi, i, b)))"
   ]
  },
  {
   "cell_type": "code",
   "execution_count": 126,
   "metadata": {},
   "outputs": [
    {
     "data": {
      "text/html": [
       "<span style=\"font-size:20px;\"><a class=\"ProveItLink\" href=\"../../ordering/__pv_it/theorems/4aa8d696b1f407d6126de9f51a052e8d90e0848c0/expr.ipynb\"><img src=\"data:image/png;base64,iVBORw0KGgoAAAANSUhEUgAAADMAAAAQBAMAAABJt1qBAAAAMFBMVEX///8AAAAAAAAAAAAAAAAA\n",
       "AAAAAAAAAAAAAAAAAAAAAAAAAAAAAAAAAAAAAAAAAAAv3aB7AAAAD3RSTlMAIquJdkTvuxBmmd1U\n",
       "zTKBpmoTAAAACXBIWXMAAA7EAAAOxAGVKw4bAAAAzElEQVQY02NgwABz0+tvp09gwAoKhBiCpjdg\n",
       "lxJmYOdTwCXFJXABRch99+4LcKkCZJlYD4Qupg6QgYzKjg4gAcYbSAY+PysAZIQJsP8ACfAKwKXE\n",
       "bv8GmcCRycC1ASyF5IyZvSCa6wMDtwGI8Ww3EBRApNg7QV5mK2DoDwAJtCPp4ltQAaT7HRjmgwW4\n",
       "kf21ThwkdYBBlwfkAhYHJKl2FqCJ7A48u7jAInfgUlIMnBNKgS5UsRPyA4s0lTbAQr6Qofz+AeTg\n",
       "CK7ejRxyAISENKeL/c93AAAAAElFTkSuQmCC\n",
       "\" style=\"display:inline;vertical-align:middle;\" /></a>, <a class=\"ProveItLink\" href=\"../__pv_it/demonstrations/53b6b683a0dc02a803e4eae3af6ee6cd1da1ef180/expr.ipynb\"><img src=\"data:image/png;base64,iVBORw0KGgoAAAANSUhEUgAAADIAAAAQBAMAAACmdTG/AAAAMFBMVEX///8AAAAAAAAAAAAAAAAA\n",
       "AAAAAAAAAAAAAAAAAAAAAAAAAAAAAAAAAAAAAAAAAAAv3aB7AAAAD3RSTlMAELvv3c2ZVESJq2Yi\n",
       "MnY6gD36AAAACXBIWXMAAA7EAAAOxAGVKw4bAAAA6ElEQVQY02NgwADswZ+DXJQ3MDAqO6DJ8Gld\n",
       "YAhgBTJYE9Bk2BIY+DZMBzL4C9BkuA4wCDEqABn9AjChRy4uAUCKkYEhl+sCkDEZJtH6EMbiXXAN\n",
       "REUxVCaCaJ5AuHlMAoogvb/Za6xBXNYDcJlK7gcg1/9p540ByyDcAHYzA5v1BQj3sgsQKIA9VDCD\n",
       "gUGAgSUsFyIjBNcixANUsIZBvqAfookFLrMW6CPGDwz7BeQLHoDNeABzc0Ib0LsODEsZ5C9MAIuE\n",
       "w90cyMCjrsCgzsCXBwkFKQ0I3axqpGRvNAE5wDpVwKEDBQAK0i1Zmi7k2QAAAABJRU5ErkJggg==\n",
       "\" style=\"display:inline;vertical-align:middle;\" /></a>, <a class=\"ProveItLink\" href=\"../__pv_it/demonstrations/6057a125e9ee4d903c197ec4ff76bc8e134e3a7a0/expr.ipynb\"><img src=\"data:image/png;base64,iVBORw0KGgoAAAANSUhEUgAAADEAAAAQBAMAAABNQoq8AAAAMFBMVEX///8AAAAAAAAAAAAAAAAA\n",
       "AAAAAAAAAAAAAAAAAAAAAAAAAAAAAAAAAAAAAAAAAAAv3aB7AAAAD3RSTlMAIpnN77uJRKsQdlRm\n",
       "Mt3eazepAAAACXBIWXMAAA7EAAAOxAGVKw4bAAAA7UlEQVQY02NgYBAyCWRABpv9neOe+oBYCeyd\n",
       "KDJLexmYGQxALFRxBgYlBoY1bBtArBVoMo0MnAFTwaz5GyAiXHHvHoPoCQxMF3rBIqw/wRS71QSY\n",
       "rhu8CiCKu/srmCsMl2CIZAWzDzP0g2lDuAR3wikQxfiRYf8FEMMALgN1M0cAw32QDK/fu3fvnoJl\n",
       "VrMVMHAyMPAfYLgP4nIGwLRwBogCNQgwzL8AtAkEHsBkOC40Ar0C1HOBwRossAomc4kd6OY+Bga2\n",
       "BdwNEHs3wNzMPIFBdCuQkbUManxrJcTHriahIV/CkMOLPRUSOlAAADeAN/YEAYFcAAAAAElFTkSu\n",
       "QmCC\n",
       "\" style=\"display:inline;vertical-align:middle;\" /></a>, <a class=\"ProveItLink\" href=\"../__pv_it/demonstrations/e6b70d495f8afdad31e7730973d3895699c64e380/expr.ipynb\"><img src=\"data:image/png;base64,iVBORw0KGgoAAAANSUhEUgAAAD8AAAATBAMAAADVH8ihAAAAMFBMVEX///8AAAAAAAAAAAAAAAAA\n",
       "AAAAAAAAAAAAAAAAAAAAAAAAAAAAAAAAAAAAAAAAAAAv3aB7AAAAD3RSTlMAdokyu2YQ3URUqyLN\n",
       "75mYuQMGAAAACXBIWXMAAA7EAAAOxAGVKw4bAAAA90lEQVQoz2NgwAP4GAgAFjIVxFzxP34lAEkB\n",
       "o5IBqgqHXQxdIQkIBa5sBWgKNjGwMC9geOLi6+ICNInJgeEzhgK+DQfgJtg3MPyESIiUlx+AK3CA\n",
       "K1jOwPYVzOgRQ5jAlbYApoDtIwPHDxCD+xiSFSZzNsAUMH5mYPwNYvBsgCvYe/y7GDwkeX6tWn8B\n",
       "zEByZGgOwsn8Dgz5AiCGbTkQOEAUsKQGwBUAZeNBgcKQgmQC8wM3hIIGhjowgx05HB5vQVjRwHkN\n",
       "EuICSApSGOF2cE1Ih0bFSbiCfQysAR4wHtvD11BWlkcCLDa9GVzOT8CM5yZ3SFCjAAAyfENlIMyr\n",
       "qgAAAABJRU5ErkJggg==\n",
       "\" style=\"display:inline;vertical-align:middle;\" /></a>, <a class=\"ProveItLink\" href=\"../../ordering/__pv_it/theorems/6e5cad5b2984ed0d75bd47bd0c542ec447a4f3570/expr.ipynb\"><img src=\"data:image/png;base64,iVBORw0KGgoAAAANSUhEUgAAADEAAAAQBAMAAABNQoq8AAAAMFBMVEX///8AAAAAAAAAAAAAAAAA\n",
       "AAAAAAAAAAAAAAAAAAAAAAAAAAAAAAAAAAAAAAAAAAAv3aB7AAAAD3RSTlMAELvv3c2ZVESJq3Yi\n",
       "MmZ3LnoBAAAACXBIWXMAAA7EAAAOxAGVKw4bAAAA1ElEQVQY02NgQAdPjfRDjB4AGYzKDmhSCqcY\n",
       "uh4JABmsCegyJxmYeBcAGfwFmDJsBwKAjH4BqMgmF5cAuIwCkDEFKtG6EaGHSxBkWtTu5SA+TyCS\n",
       "aZdKDwDd9lVA/gDIIQfgModDvoD0s39kYN4AkkFywTtREM0WwMA/AUhfdgECBYgMkxzIpywTGPpB\n",
       "7hZC0sOboAjxTj7I3SzI/sk9BJK5wGgH4nNvQJIR4gYax/WACRI84XCZYwx8DzSArl6ZBxGQ0hCA\n",
       "hbUOg1I8cph1qkBCBwoAxe43BugJR6MAAAAASUVORK5CYII=\n",
       "\" style=\"display:inline;vertical-align:middle;\" /></a> <a class=\"ProveItLink\" href=\"../__pv_it/demonstrations/7da419f020c55023ec671a50c825ffba5baf9dac0/proof.ipynb\" style=\"text-decoration: none\">&nbsp;&#x22A2;&nbsp;&nbsp;</a><a class=\"ProveItLink\" href=\"../__pv_it/demonstrations/21650455bc750f1796a6291b0c696816077cd43d0/expr.ipynb\"><img src=\"data:image/png;base64,iVBORw0KGgoAAAANSUhEUgAAAU4AAAAsBAMAAAD4Nky/AAAAMFBMVEX///8AAAAAAAAAAAAAAAAA\n",
       "AAAAAAAAAAAAAAAAAAAAAAAAAAAAAAAAAAAAAAAAAAAv3aB7AAAAD3RSTlMAZkRUmRDNuyLviTJ2\n",
       "3asqG0tJAAAACXBIWXMAAA7EAAAOxAGVKw4bAAAFp0lEQVRYw82ZXWgcVRTHz25mdmczu5tlJYSS\n",
       "CisIwWLbFSoUKbJqi1ETGUSpDbRNkCKIDxNFEvRlxLZJQUktSIuxuqUUpGjZh0IIpWShLzXWELCB\n",
       "CtWuD32wVInRlGAD6z13vu7M3Dsz+zaHm52v3/nPmb13Z+b+AyCIfoiMVIPZ6LoWhsZQiyZTFfyU\n",
       "L/6lMTu/5JFeJlfH5NvmRu8OTUyaaspQk0lwYuTSXR+pvg0gBc++i35KIC1HXSyPOWUuBqPJ/doR\n",
       "JsGJGgz7yXvkovTAlzRKFz0V5WFUnRxGWTWX27UoEsbhfSbBiTWYafh2zZK/rf70bMnsfY0qf9Zu\n",
       "tw2yHKNdsvVb7wjxMBlMTOmfYvfDCT2EpGqkwLeYBCd6aZ3KnXZ7wyLVzSUNCpqvzhP2SjfpKXnf\n",
       "x910A3n5lrrhg1mG1lm8/vQZ3P/jWghJ1SQdHroJbHxP/l5/s1S3yfxKvgb5lo962V65qsl1Ga6P\n",
       "EP064UdAqqknfbDLjJA6CZe7Bg2yWIJ3hKSlVvjw0qqV4CXVFXJUyx+r22S2lBoFeT0wPqyR9gGo\n",
       "5Er1y4DLMZg3chX/RTHMvJEpkfWZvQ3cNeterkitxyDXbSZ4Y0ojRyGr1pzzNqSWNfKYqyF1y3/c\n",
       "BDgK06iv73B66rCR7XVGSZCh/d6XXiYDUF6F90BMUrUeyBlOghWHztZAqSm4YyrdYsgqwIveOvNk\n",
       "HB34eUtL+ejKPhxFzScc5Zyx8JhTZ5Chdd5Xl3Fc3VJGQUxStYz2ArgJ5hWdfeprmLpyGU8ylD5p\n",
       "kwWtj3z+4K2zSE7wJyjruXZ7laqZPzTk08/tOedwQYbWOQm/Yz8eXdRCSFPtYhXcBPPcyzCjfdNu\n",
       "4/oRWLFJlT4QdtLM4V8xfiO3JXJD+RtvbhERh+mU7CnZd0VOLHjHcaYFKrnL/SdWkx/gNYYzVhwe\n",
       "7YSEBYLWRcRMxbNZID+zf6anj4Vo3sQ6IxhHrAMSFnZPT2vCK6n4v0/YjNFHmxA34pM9zZCD5tPU\n",
       "GZ9Y50saKFGacZhOSekLAEM4Pr1HiuR3dPDzJ29HacZhOiXlX8o/Cb/Snd4Rkcfb1vCDZqRoHKZT\n",
       "UrrzrvDYFu9meh2SGa/yX3QTF2Oi96VkReB9aT6Zdab875/FaiLrLBj8+VHSIjA/gmeSWGZwvmnN\n",
       "3xMWEve532UIrI68h0FsN9fA2FNtitX6GTEXi5EQeFyUeVaH5QK4DLZUhWd1pF67K7FqQY+DuiE1\n",
       "2+d4tOlxPMoxTRG5JbRDttnFEoY0OMQlJQPSdYbkeBzohhAxE8tVIDLhno0wp6kI7ZAMfne6yZAG\n",
       "z3PJ9ApOHFyS43GgG4JiFJsxZxqhCbM2wtyruFaHfG7RgO6qJVagDZa5xolyGuA8uGTQ46BuCIpR\n",
       "rE9ZjEqgpsh5b53HuVbHQYO8AnbVLLHjtNFpZcDqgO8WKqadpttqfo+DuiEoRrH7nxwwIhKoKbLL\n",
       "W+cA1+rYi4/UtG6JDdBGNwNWR76VqZsiFhn0ONANodkDZAO+qqoQkUBNkQFvnc9yrY5TsETydWli\n",
       "4vTEODKkdbW4xklDqsMcuGTQ40A3hIgBweYN5d9XACISqCkyBx5LAjcDVoe8AeNvuP0+RxueiWOc\n",
       "QJbpd4JxPQ7D6feUvl2B6IQq0+/UkiADmWN1nFHXeiHf9P+OOFZHwSBD7Abzswh6HNQNQTHEis2r\n",
       "3VEJ1BS5AR5LImsAx+p4/JHFEmQNS4ys4PokcKwOZegCHnHJoMdB3RBTAJfF/qgEaopMei2JtHCy\n",
       "D/ttMcIgtk34XqszpFhM1jtIcGHLkhgU1jnoPDwHaZNE81jzQI3j1XvE3PwYCczJTEuiWwv9X4hp\n",
       "EJvYBQFZBpYUipU7SSgHLAlRnTKzrtEmC0hNsO4T0zpJ0GJaEkma1oVZEol6cQ6xJJIT/wN/g1BQ\n",
       "4xfOdQAAAABJRU5ErkJggg==\n",
       "\" style=\"display:inline;vertical-align:middle;\" /></a></span>"
      ],
      "text/plain": [
       "{a in Real, k in Integer, delta in Integer, theta in RealPos, b in Real} |- (e^{2 * pi * i * a} * e^{2 * pi * i * k * delta} * e^{2 * pi * i * theta * k} * e^{2 * pi * i * b}) =  \\\\ e^{(2 * pi * i * a) + (((2 * pi * i * delta) + (2 * pi * i * theta)) * k) + (2 * pi * i * b)}"
      ]
     },
     "metadata": {},
     "output_type": "display_data"
    }
   ],
   "source": [
    "mult_exps_11.common_power_extraction(\n",
    "        start_idx=1, end_idx=2,\n",
    "        exp_factor = k,\n",
    "        assumptions=[InSet(k, Integer), InSet(delta, Integer),\n",
    "                     InSet(theta, RealPos), InSet(a, Real), InSet(b, Real)])"
   ]
  },
  {
   "cell_type": "code",
   "execution_count": 127,
   "metadata": {},
   "outputs": [
    {
     "data": {
      "text/html": [
       "<strong id=\"mult_exps_12\">mult_exps_12:</strong> <a class=\"ProveItLink\" href=\"../__pv_it/demonstrations/c9a943c0c61fc78805a3ca607318fbfa7402f89e0/expr.ipynb\"><img src=\"data:image/png;base64,iVBORw0KGgoAAAANSUhEUgAAASkAAAAZBAMAAACfusWoAAAAMFBMVEX///8AAAAAAAAAAAAAAAAA\n",
       "AAAAAAAAAAAAAAAAAAAAAAAAAAAAAAAAAAAAAAAAAAAv3aB7AAAAD3RSTlMAInZUiRDNmWbv3US7\n",
       "qzJazP2FAAAACXBIWXMAAA7EAAAOxAGVKw4bAAADfklEQVRIx8VWXUgUURT+ZtfZcdbd2dnCDDF2\n",
       "tZ6CYpOKHpeyF8GYQAj7YSUQfChYJNEkal8iKimNArM/UUSSwkV6yCDcAqFeYjGNCqJ9E33wr7Qg\n",
       "aDp31NEZd5yxl70w984959t7vj1/d4D/HPmZNZvyiFPkxuPW5nlUV42v2YlRZrB7ye6pcTskisrY\n",
       "fCNsPJOv+Kas2d6lRzq3KVZxtKyTPdBmQbZF8iMeZl5MGsUChC4zdGxTrP4gZI4FN6stBb22SF/C\n",
       "x6IcMokDSe6v2c5jbZYtWJjlVzVb3ICqztHOk2ChS21h4eEe2iJD8DBWrdwuY84pGqtiVVWZuXoW\n",
       "wfk95FWXVaYOrpNU0nPieELLE82Wv/RAOy2HZ5J2yEsIMPeNbq0x/dk8iiDfuD1P2zBWrl5XHNif\n",
       "hRD/nrCuhEkq9aIaiquQbFWTLT4KcScy1XClPVE75LOK7/SKOxHJdOiUwkd5lJKOUPWE8SXya8HX\n",
       "ZvOTh+iiziQsUTApwyeRblL2JKR2hJoy9CpmhKgdcg5N9Mr9umzOzBGQFqkJsLV+6bQ0BINHXq5k\n",
       "IQvrNdMBcY55v6QgrceltaCLRDH4knbIWbRrefiKMx5ahCD7Qeq1HsEAxAhEA6h8eR3WylgxOmB6\n",
       "ggkaCtp0W6NSF3nJK2+DHbJOYP/TH57KM/L/MN3IGkR4SGflVVqBg1lZVerHLY0znXE8UVVoce3V\n",
       "lW/wmRVbw1HYIV8c0fqD7F9t3/yXPoiqypqLR/EqK6ykBuq0FxjjsdKwkdX5so9UHmn9gM5Dj5w1\n",
       "NedI1PRcT1vpGL0h2bdgYMUvKjEZ+Xoh+LsQUhyZco7EV3ALVroe4tCh9/1lVu4FiGG42/QWnKCC\n",
       "dWTKORK/gXdWOrrJhFl4WWm39Pff7+9/zrKvFoEopFnNbTTNUO+N2gbPMRIxioJEyJ8bsBJTiCUN\n",
       "viKSwxEslVAfs7UvGLSPi3OklxqZ9CMYLNwggrEwbhtrkNrVFQVu/ToPhJ1e4c6RmN9A95ZYRfDJ\n",
       "LRtYZSjXqOfpHxz3rC9x06eJYyQuKuCsdFXURcLuPsHgK3/CRz5evUf4pzd3O3OCcyROdgx2W+mm\n",
       "6KTRYzv2GjvDWDOL/uo9IgycdRgX50i0LFry92ay9XZtFCNnIz+e7XbWRnPuWNFdZjG4VA5ZnbZS\n",
       "+OQcsuKsUq40d5z+AT6t9/fOAzJsAAAAAElFTkSuQmCC\n",
       "\" style=\"display:inline;vertical-align:middle;\" /></a><br>"
      ],
      "text/plain": [
       "<IPython.core.display.HTML object>"
      ]
     },
     "metadata": {},
     "output_type": "display_data"
    }
   ],
   "source": [
    "# and a potential error case, where the Mult has non-Exp operands:\n",
    "mult_exps_12 = Mult(\n",
    "        Add(a, b),\n",
    "        Exp(e, Mult(two, pi, i, k, delta)),\n",
    "        Exp(e, Mult(two, pi, i, theta, k)),\n",
    "        Exp(e, Mult(two, pi, i, b)))"
   ]
  },
  {
   "cell_type": "code",
   "execution_count": 128,
   "metadata": {},
   "outputs": [
    {
     "name": "stdout",
     "output_type": "stream",
     "text": [
      "ValueError: 'Mult.common_power_extraction()' method works only when all the specified multiplicands are instances of Exp (i.e. each factor must be an exponential). The method was instead called on the expression (a + b) * e^{2 * pi * i * k * delta} * e^{2 * pi * i * theta * k}\n"
     ]
    }
   ],
   "source": [
    "# specifying multiplicands that are not Exps should give\n",
    "# an informative error message\n",
    "try:\n",
    "    mult_exps_12.common_power_extraction(\n",
    "            start_idx=0, end_idx=2,\n",
    "            exp_factor = k,\n",
    "            assumptions=[InSet(k, Integer), InSet(delta, Integer),\n",
    "                         InSet(theta, RealPos), InSet(a, Real), InSet(b, Real)])\n",
    "except ValueError as the_error:\n",
    "    print(\"ValueError: {}\".format(the_error))"
   ]
  },
  {
   "cell_type": "code",
   "execution_count": 129,
   "metadata": {},
   "outputs": [
    {
     "data": {
      "text/html": [
       "<span style=\"font-size:20px;\"><a class=\"ProveItLink\" href=\"../../ordering/__pv_it/theorems/4aa8d696b1f407d6126de9f51a052e8d90e0848c0/expr.ipynb\"><img src=\"data:image/png;base64,iVBORw0KGgoAAAANSUhEUgAAADMAAAAQBAMAAABJt1qBAAAAMFBMVEX///8AAAAAAAAAAAAAAAAA\n",
       "AAAAAAAAAAAAAAAAAAAAAAAAAAAAAAAAAAAAAAAAAAAv3aB7AAAAD3RSTlMAIquJdkTvuxBmmd1U\n",
       "zTKBpmoTAAAACXBIWXMAAA7EAAAOxAGVKw4bAAAAzElEQVQY02NgwABz0+tvp09gwAoKhBiCpjdg\n",
       "lxJmYOdTwCXFJXABRch99+4LcKkCZJlYD4Qupg6QgYzKjg4gAcYbSAY+PysAZIQJsP8ACfAKwKXE\n",
       "bv8GmcCRycC1ASyF5IyZvSCa6wMDtwGI8Ww3EBRApNg7QV5mK2DoDwAJtCPp4ltQAaT7HRjmgwW4\n",
       "kf21ThwkdYBBlwfkAhYHJKl2FqCJ7A48u7jAInfgUlIMnBNKgS5UsRPyA4s0lTbAQr6Qofz+AeTg\n",
       "CK7ejRxyAISENKeL/c93AAAAAElFTkSuQmCC\n",
       "\" style=\"display:inline;vertical-align:middle;\" /></a>, <a class=\"ProveItLink\" href=\"../../ordering/__pv_it/theorems/6e5cad5b2984ed0d75bd47bd0c542ec447a4f3570/expr.ipynb\"><img src=\"data:image/png;base64,iVBORw0KGgoAAAANSUhEUgAAADEAAAAQBAMAAABNQoq8AAAAMFBMVEX///8AAAAAAAAAAAAAAAAA\n",
       "AAAAAAAAAAAAAAAAAAAAAAAAAAAAAAAAAAAAAAAAAAAv3aB7AAAAD3RSTlMAELvv3c2ZVESJq3Yi\n",
       "MmZ3LnoBAAAACXBIWXMAAA7EAAAOxAGVKw4bAAAA1ElEQVQY02NgQAdPjfRDjB4AGYzKDmhSCqcY\n",
       "uh4JABmsCegyJxmYeBcAGfwFmDJsBwKAjH4BqMgmF5cAuIwCkDEFKtG6EaGHSxBkWtTu5SA+TyCS\n",
       "aZdKDwDd9lVA/gDIIQfgModDvoD0s39kYN4AkkFywTtREM0WwMA/AUhfdgECBYgMkxzIpywTGPpB\n",
       "7hZC0sOboAjxTj7I3SzI/sk9BJK5wGgH4nNvQJIR4gYax/WACRI84XCZYwx8DzSArl6ZBxGQ0hCA\n",
       "hbUOg1I8cph1qkBCBwoAxe43BugJR6MAAAAASUVORK5CYII=\n",
       "\" style=\"display:inline;vertical-align:middle;\" /></a>, <a class=\"ProveItLink\" href=\"../__pv_it/demonstrations/53b6b683a0dc02a803e4eae3af6ee6cd1da1ef180/expr.ipynb\"><img src=\"data:image/png;base64,iVBORw0KGgoAAAANSUhEUgAAADIAAAAQBAMAAACmdTG/AAAAMFBMVEX///8AAAAAAAAAAAAAAAAA\n",
       "AAAAAAAAAAAAAAAAAAAAAAAAAAAAAAAAAAAAAAAAAAAv3aB7AAAAD3RSTlMAELvv3c2ZVESJq2Yi\n",
       "MnY6gD36AAAACXBIWXMAAA7EAAAOxAGVKw4bAAAA6ElEQVQY02NgwADswZ+DXJQ3MDAqO6DJ8Gld\n",
       "YAhgBTJYE9Bk2BIY+DZMBzL4C9BkuA4wCDEqABn9AjChRy4uAUCKkYEhl+sCkDEZJtH6EMbiXXAN\n",
       "REUxVCaCaJ5AuHlMAoogvb/Za6xBXNYDcJlK7gcg1/9p540ByyDcAHYzA5v1BQj3sgsQKIA9VDCD\n",
       "gUGAgSUsFyIjBNcixANUsIZBvqAfookFLrMW6CPGDwz7BeQLHoDNeABzc0Ib0LsODEsZ5C9MAIuE\n",
       "w90cyMCjrsCgzsCXBwkFKQ0I3axqpGRvNAE5wDpVwKEDBQAK0i1Zmi7k2QAAAABJRU5ErkJggg==\n",
       "\" style=\"display:inline;vertical-align:middle;\" /></a>, <a class=\"ProveItLink\" href=\"../__pv_it/demonstrations/6057a125e9ee4d903c197ec4ff76bc8e134e3a7a0/expr.ipynb\"><img src=\"data:image/png;base64,iVBORw0KGgoAAAANSUhEUgAAADEAAAAQBAMAAABNQoq8AAAAMFBMVEX///8AAAAAAAAAAAAAAAAA\n",
       "AAAAAAAAAAAAAAAAAAAAAAAAAAAAAAAAAAAAAAAAAAAv3aB7AAAAD3RSTlMAIpnN77uJRKsQdlRm\n",
       "Mt3eazepAAAACXBIWXMAAA7EAAAOxAGVKw4bAAAA7UlEQVQY02NgYBAyCWRABpv9neOe+oBYCeyd\n",
       "KDJLexmYGQxALFRxBgYlBoY1bBtArBVoMo0MnAFTwaz5GyAiXHHvHoPoCQxMF3rBIqw/wRS71QSY\n",
       "rhu8CiCKu/srmCsMl2CIZAWzDzP0g2lDuAR3wikQxfiRYf8FEMMALgN1M0cAw32QDK/fu3fvnoJl\n",
       "VrMVMHAyMPAfYLgP4nIGwLRwBogCNQgwzL8AtAkEHsBkOC40Ar0C1HOBwRossAomc4kd6OY+Bga2\n",
       "BdwNEHs3wNzMPIFBdCuQkbUManxrJcTHriahIV/CkMOLPRUSOlAAADeAN/YEAYFcAAAAAElFTkSu\n",
       "QmCC\n",
       "\" style=\"display:inline;vertical-align:middle;\" /></a>, <a class=\"ProveItLink\" href=\"../__pv_it/demonstrations/e6b70d495f8afdad31e7730973d3895699c64e380/expr.ipynb\"><img src=\"data:image/png;base64,iVBORw0KGgoAAAANSUhEUgAAAD8AAAATBAMAAADVH8ihAAAAMFBMVEX///8AAAAAAAAAAAAAAAAA\n",
       "AAAAAAAAAAAAAAAAAAAAAAAAAAAAAAAAAAAAAAAAAAAv3aB7AAAAD3RSTlMAdokyu2YQ3URUqyLN\n",
       "75mYuQMGAAAACXBIWXMAAA7EAAAOxAGVKw4bAAAA90lEQVQoz2NgwAP4GAgAFjIVxFzxP34lAEkB\n",
       "o5IBqgqHXQxdIQkIBa5sBWgKNjGwMC9geOLi6+ICNInJgeEzhgK+DQfgJtg3MPyESIiUlx+AK3CA\n",
       "K1jOwPYVzOgRQ5jAlbYApoDtIwPHDxCD+xiSFSZzNsAUMH5mYPwNYvBsgCvYe/y7GDwkeX6tWn8B\n",
       "zEByZGgOwsn8Dgz5AiCGbTkQOEAUsKQGwBUAZeNBgcKQgmQC8wM3hIIGhjowgx05HB5vQVjRwHkN\n",
       "EuICSApSGOF2cE1Ih0bFSbiCfQysAR4wHtvD11BWlkcCLDa9GVzOT8CM5yZ3SFCjAAAyfENlIMyr\n",
       "qgAAAABJRU5ErkJggg==\n",
       "\" style=\"display:inline;vertical-align:middle;\" /></a> <a class=\"ProveItLink\" href=\"../__pv_it/demonstrations/4775a5868305a8a973b9360d6df2e3f481e9386d0/proof.ipynb\" style=\"text-decoration: none\">&nbsp;&#x22A2;&nbsp;&nbsp;</a><a class=\"ProveItLink\" href=\"../__pv_it/demonstrations/83f8bcb2a2c85357bddc5123d5e9981b15acfc2f0/expr.ipynb\"><img src=\"data:image/png;base64,iVBORw0KGgoAAAANSUhEUgAAAVQAAAA0BAMAAAAnP91oAAAAMFBMVEX///8AAAAAAAAAAAAAAAAA\n",
       "AAAAAAAAAAAAAAAAAAAAAAAAAAAAAAAAAAAAAAAAAAAv3aB7AAAAD3RSTlMAZkRUmRDNuyLviTJ2\n",
       "3asqG0tJAAAACXBIWXMAAA7EAAAOxAGVKw4bAAAGf0lEQVRo3tVZb2gcRRR/d9m928veJUewDVKU\n",
       "fCsGWyNUqGD1/FOt2uog0tiCSYoGQUSu/uHiH/DEthehmqhIi230oOZLqSUfglVKyUn8UGMSDk2g\n",
       "rZWmSBWlSkxsKU3hfG929+5mdieXJY05h8nu7ezvzf525s2bt78ALKasKr+4q2WhyHlLYEB9r8EH\n",
       "N/3wX6zs8hM63JSzHvHEBQG6/egFGWlsJmjgrNSpiIxk8fBlEiDhenoNNRkKanK7BlpexkSarFtp\n",
       "sTkBW2RkK+uk04dQEVmHfDMuNlvpMKygGsyJ1/VNxpyM6bGhk2LzDPTIU7kTXqbXn4aKyAg2BHLg\n",
       "sseRzXrQbO3DwzeSIzFO9b1CoUCDuIPaGo0RPgH7ROgKTsA4VyhcsZHI8RnqI7k3Ow8yFMfD0Cj6\n",
       "xKQ8xb3OyLrKs2TIpMZadAB949u1/IJTvfjONqJ9ZKhJgn6Bf08+Fc86SC0J9J51J+/YPw+SUx1j\n",
       "3wKMy95H9+8VJj1u/5ilIZCd+wTTszqc3I6Es0gAzwdbTDxFp0LS1JiT2Myiu7MOMvb60Wn8GRmG\n",
       "ARUSz6E4YnbCSoB2JnsfHnqFdWb7SPASHT+WJuFVMHFMkoNA5x3wddr451HAU2RAk6hmGDZD2Ew4\n",
       "yPq0lsCfPQ/InllC4jkUR8wBeMwe37IyhNRrOryo1uaLc2wFqt8nAHZBNxFOri06QCC5huJEO4RL\n",
       "DtDWlwAjYZBfZIJTDrIeItTSGMyn50FygtPwEXcYoYw5TvD+kb0i1dDFcQzqR4vIbT/eOGW8cXwj\n",
       "GeRuKVKty50gx42l95Requ/2TyFzfJAmcHOw10GG2P3ct818dh4kpzoZQJrRXpHqr/bd4H54iwlU\n",
       "2zt1XJEri8g/wbgUKRSm+UNjzCEQTtet4uG9vxQV89DDPisU6HentZAJGTzM97MuOD8wD5JTHRwt\n",
       "eqD2My844ikaEexiW9wJxA7VexgcBLizSOBvK7AtoNTHIRxfPNKUQviL9n7zOMAZ6x1O9/F3gAcB\n",
       "rqIv8wFGZzYxll6t+GxCwhBCsxX36MuVkMaMeD1hU90H+ow4qmcgiOGKO2UM16Y52929uyJVQsLQ\n",
       "+u5uVhE6UQmpz7hHFR1AvwaBaZHqLGjoLBuKyGsLTmrqc9cFae3hJV8lquEc6LNQ17FeoDpH/guN\n",
       "RcuHmTKrkbcVDMbpxSPNK+L1bxRBkfKbsCGREKieh1fw+EgR+fQHt55dYKp4umEst3ikFQFK5Tui\n",
       "j8G+beSriwMC1bbPaW3+UIJuubzQidXOvXAdkAEprt5GXv2T125l+Uselq1oUx6J8Q2e6QqHx5eP\n",
       "qpwD8E01rHTtzPIxdWVWJjmEnlTBu5aR6s1ywy902KtAR9PLSPWU57dVNRb3t1VNtkqpZhanA/yX\n",
       "ZeNiO8DNtyZN1UMSqRmGnID0FFiivDqlzEDudJUL4mtUA03coEHSWbgkAivWMq0cqRBYEo5yQrqM\n",
       "Vj69bgPzOQuS8K2uQBtGtimqXjrLJtw/smA/vk0psDQDVXv74QacCXbqYfCHBcn4VlfgPiTSRNVL\n",
       "Z1nD6LMDdxQbqRBYQsyWF3qs7xQsFNexUw+DAxaEhwNf6grgSMZ4FXUWaw98F594yKGaVwostS1U\n",
       "HV3mkEM15mVgXhtnHDLpV10x8HtkD6+izsKp1n6Pafs6m6rRoRRY0OW411m6zDqH6h4vg+hkNMEh\n",
       "437VlSD2uZrXcp3FlkTG4XnrVthGegssdAurrctYfRF4tZdBOB7o4HcwIfCnrtRgXnY3r+U6S1ES\n",
       "wTz8GDyUei2VihPSW2ABM0nV1mXQQEul9qV28k5dBpEBTAWPWfPmT13BR5Ah2Qo6CzmAPg0vlRyA\n",
       "kAqBxXEAS5cpOsAxhUELh6Dr+FNXSstK1Fm4r54i/xwtW1YKgSWao+roMqNly8ptEGONFiTa61Nd\n",
       "oaQQk1usos7Cqe4aYVbWGLbTR4XAYnXg6DJdDlVscxuYpMl3We7oU11p5hE5qExxeObLqTYrd7xW\n",
       "XssNOFVlpxxizvlVV0jx38Sr4nso7exWmjLVFewtWMJuV/dpzPhWV/pxvTGqFf9d069OIwJNXgaq\n",
       "ThtsqcWvuqLjH+PVs5S166r5FG4xb2NXn8bckqgrS1HMK0uirixFwQiwJOrKUnxp9VazuiJLLVWs\n",
       "rshSSxWrK7LUUsXqiktqqV51xSW1VK264pZaqlZd8VgzDf8Hqpgb/wv93n5zP93fRgAAAABJRU5E\n",
       "rkJggg==\n",
       "\" style=\"display:inline;vertical-align:middle;\" /></a></span>"
      ],
      "text/plain": [
       "{a in Real, b in Real, k in Integer, delta in Integer, theta in RealPos} |- ((a + b) * e^{2 * pi * i * k * delta} * e^{2 * pi * i * theta * k} * e^{2 * pi * i * b}) =  \\\\ ((a + b) * e^{(((2 * pi * i * delta) + (2 * pi * i * theta)) * k) + (2 * pi * i * b)})"
      ]
     },
     "metadata": {},
     "output_type": "display_data"
    }
   ],
   "source": [
    "# but still works if Mult contains non-Exp multiplicands\n",
    "# but index-specified pieces are indeed Exps\n",
    "mult_exps_12.common_power_extraction(\n",
    "            start_idx=1, end_idx=2,\n",
    "            exp_factor = k,\n",
    "            assumptions=[InSet(k, Integer), InSet(delta, Integer),\n",
    "                         InSet(theta, RealPos), InSet(a, Real), InSet(b, Real)])"
   ]
  },
  {
   "cell_type": "code",
   "execution_count": 130,
   "metadata": {},
   "outputs": [
    {
     "data": {
      "text/html": [
       "<strong id=\"mult_exps_13\">mult_exps_13:</strong> <a class=\"ProveItLink\" href=\"../__pv_it/demonstrations/d07cb630f47575427ea1195c67b9ebc65bf5f23c0/expr.ipynb\"><img src=\"data:image/png;base64,iVBORw0KGgoAAAANSUhEUgAAAQUAAAAaBAMAAABMT1RYAAAAMFBMVEX///8AAAAAAAAAAAAAAAAA\n",
       "AAAAAAAAAAAAAAAAAAAAAAAAAAAAAAAAAAAAAAAAAAAv3aB7AAAAD3RSTlMAIquJdkTvuxBmmd1U\n",
       "zTKBpmoTAAAACXBIWXMAAA7EAAAOxAGVKw4bAAADg0lEQVRIx71WX0hTURj/7v646/7cbSLMLFBy\n",
       "RBLR0J4qYmovkYRU+NKLK6NkUBN6sB7q5sCgiO2ljKIaJGVKNbBMtsj5EoUP+RCkPa0XHxRsooLF\n",
       "9Padm3fbObt3jrAd2PGec373Oz9/v+985wL8x/bQu4XBypP/9FpZW8Hlx8wmb5j1YMPu3GAe0lcf\n",
       "UUMWaDXMmG/cKeYMz+JP+JYdn2PgERhmI/I9NlEFWaD1cy3U2AzmKIupyzxxKWZpBWpY/U1hU0IF\n",
       "WaC5d/Q5csf2Nm6dxVzMehGo9FBL92UO3LgkLeLIFpaVtSXykJzG9vJ8Z0KgHRdlDtslSSLcZogX\n",
       "y82KPbqmTz4mykH83boRljeUOTwHezIP2arBwYhHgvv9ip3Woxf84Da9PCAcDGOGiJJ0rcBIL4xB\n",
       "EERDFXIIIgfeA+8a92FPI60elf1v+rE7SiQ7zco0L/IeHpqCyMSDHIJocPmUksFDrPsuEWYdYBKQ\n",
       "5azDFhZ8sAhD2NPIO6oifCfSiaDzzusZh3oAQ0BgDsjfGYxcljTXKhlsjDpodIQjEy5jbcaLFPjy\n",
       "kC8o/cMbD2nifQRMDh1TAqrBSWIHTmS8sENZQslgIUqr6lqYI7kyYOzIcJg2J/KQHbnvWDfKonGV\n",
       "9BdUEvXawiA5ot72DAeL2K+sdkN9VuJefwQuSRJ5nIaxDIeTh/KQ1ik1DvqoskNuddkVgzJJSsk2\n",
       "WUQFIQyQl7i6Jrqs8/7PZ4osAGYiScX+SpqDzd2MijXQ0L7392o147Q7TKvUhC4KNWJxHIg+Rh9c\n",
       "FykOoWkei8ojGroHuFWtMHwXW0DtYTwxxXGw4P/bF1bKusLhiwidAB9p6C+AK5pypsCSSTJ+Dbuf\n",
       "WMY8m+0uI+WL8TXACIkTj4/643Gi90uAJQyTwYYwawQMuqR5vwYglL1iY4TDhNO5uRcxhcN54Fdo\n",
       "HUbAiKezPasW1hgh7XRWacUKeeEJPWMv/ssDveCXoTxFc0iDGa2fpKHLBcKEErDXStUnM55sR3Ec\n",
       "TF7g06CbmqA4rJMcgX4a+kzUvN8wjDVmpq0evXusSCn0aP9lmIxEKA71cBX7pzT0dtcpza8f3n24\n",
       "4jiTpuNfi/RCwBPV2/LDnaQ49B4gx+otgx1e28qvy5z2Qa1O/q3LUShRe6B6Z8lihkvFwaSZvK5S\n",
       "UQA+oLXSXTIOUKkxb3AUH+MPx6vjyKvEFZUAAAAASUVORK5CYII=\n",
       "\" style=\"display:inline;vertical-align:middle;\" /></a><br>"
      ],
      "text/plain": [
       "<IPython.core.display.HTML object>"
      ]
     },
     "metadata": {},
     "output_type": "display_data"
    }
   ],
   "source": [
    "# another potential error case, where the Mult has Exp operands,\n",
    "# but one or more of those operands have the exp_factor alone as an exponent\n",
    "mult_exps_13 = Mult(\n",
    "        Exp(a, k),\n",
    "        Exp(e, Mult(two, pi, i, theta, k)),\n",
    "        Exp(Add(a, b), k),\n",
    "        Exp(e, Mult(two, pi, i, b)))"
   ]
  },
  {
   "cell_type": "code",
   "execution_count": 131,
   "metadata": {},
   "outputs": [
    {
     "data": {
      "text/html": [
       "<span style=\"font-size:20px;\"><a class=\"ProveItLink\" href=\"../../ordering/__pv_it/theorems/4aa8d696b1f407d6126de9f51a052e8d90e0848c0/expr.ipynb\"><img src=\"data:image/png;base64,iVBORw0KGgoAAAANSUhEUgAAADMAAAAQBAMAAABJt1qBAAAAMFBMVEX///8AAAAAAAAAAAAAAAAA\n",
       "AAAAAAAAAAAAAAAAAAAAAAAAAAAAAAAAAAAAAAAAAAAv3aB7AAAAD3RSTlMAIquJdkTvuxBmmd1U\n",
       "zTKBpmoTAAAACXBIWXMAAA7EAAAOxAGVKw4bAAAAzElEQVQY02NgwABz0+tvp09gwAoKhBiCpjdg\n",
       "lxJmYOdTwCXFJXABRch99+4LcKkCZJlYD4Qupg6QgYzKjg4gAcYbSAY+PysAZIQJsP8ACfAKwKXE\n",
       "bv8GmcCRycC1ASyF5IyZvSCa6wMDtwGI8Ww3EBRApNg7QV5mK2DoDwAJtCPp4ltQAaT7HRjmgwW4\n",
       "kf21ThwkdYBBlwfkAhYHJKl2FqCJ7A48u7jAInfgUlIMnBNKgS5UsRPyA4s0lTbAQr6Qofz+AeTg\n",
       "CK7ejRxyAISENKeL/c93AAAAAElFTkSuQmCC\n",
       "\" style=\"display:inline;vertical-align:middle;\" /></a>, <a class=\"ProveItLink\" href=\"../__pv_it/demonstrations/53b6b683a0dc02a803e4eae3af6ee6cd1da1ef180/expr.ipynb\"><img src=\"data:image/png;base64,iVBORw0KGgoAAAANSUhEUgAAADIAAAAQBAMAAACmdTG/AAAAMFBMVEX///8AAAAAAAAAAAAAAAAA\n",
       "AAAAAAAAAAAAAAAAAAAAAAAAAAAAAAAAAAAAAAAAAAAv3aB7AAAAD3RSTlMAELvv3c2ZVESJq2Yi\n",
       "MnY6gD36AAAACXBIWXMAAA7EAAAOxAGVKw4bAAAA6ElEQVQY02NgwADswZ+DXJQ3MDAqO6DJ8Gld\n",
       "YAhgBTJYE9Bk2BIY+DZMBzL4C9BkuA4wCDEqABn9AjChRy4uAUCKkYEhl+sCkDEZJtH6EMbiXXAN\n",
       "REUxVCaCaJ5AuHlMAoogvb/Za6xBXNYDcJlK7gcg1/9p540ByyDcAHYzA5v1BQj3sgsQKIA9VDCD\n",
       "gUGAgSUsFyIjBNcixANUsIZBvqAfookFLrMW6CPGDwz7BeQLHoDNeABzc0Ib0LsODEsZ5C9MAIuE\n",
       "w90cyMCjrsCgzsCXBwkFKQ0I3axqpGRvNAE5wDpVwKEDBQAK0i1Zmi7k2QAAAABJRU5ErkJggg==\n",
       "\" style=\"display:inline;vertical-align:middle;\" /></a>, <a class=\"ProveItLink\" href=\"../__pv_it/demonstrations/e6b70d495f8afdad31e7730973d3895699c64e380/expr.ipynb\"><img src=\"data:image/png;base64,iVBORw0KGgoAAAANSUhEUgAAAD8AAAATBAMAAADVH8ihAAAAMFBMVEX///8AAAAAAAAAAAAAAAAA\n",
       "AAAAAAAAAAAAAAAAAAAAAAAAAAAAAAAAAAAAAAAAAAAv3aB7AAAAD3RSTlMAdokyu2YQ3URUqyLN\n",
       "75mYuQMGAAAACXBIWXMAAA7EAAAOxAGVKw4bAAAA90lEQVQoz2NgwAP4GAgAFjIVxFzxP34lAEkB\n",
       "o5IBqgqHXQxdIQkIBa5sBWgKNjGwMC9geOLi6+ICNInJgeEzhgK+DQfgJtg3MPyESIiUlx+AK3CA\n",
       "K1jOwPYVzOgRQ5jAlbYApoDtIwPHDxCD+xiSFSZzNsAUMH5mYPwNYvBsgCvYe/y7GDwkeX6tWn8B\n",
       "zEByZGgOwsn8Dgz5AiCGbTkQOEAUsKQGwBUAZeNBgcKQgmQC8wM3hIIGhjowgx05HB5vQVjRwHkN\n",
       "EuICSApSGOF2cE1Ih0bFSbiCfQysAR4wHtvD11BWlkcCLDa9GVzOT8CM5yZ3SFCjAAAyfENlIMyr\n",
       "qgAAAABJRU5ErkJggg==\n",
       "\" style=\"display:inline;vertical-align:middle;\" /></a>, <a class=\"ProveItLink\" href=\"../../ordering/__pv_it/theorems/6e5cad5b2984ed0d75bd47bd0c542ec447a4f3570/expr.ipynb\"><img src=\"data:image/png;base64,iVBORw0KGgoAAAANSUhEUgAAADEAAAAQBAMAAABNQoq8AAAAMFBMVEX///8AAAAAAAAAAAAAAAAA\n",
       "AAAAAAAAAAAAAAAAAAAAAAAAAAAAAAAAAAAAAAAAAAAv3aB7AAAAD3RSTlMAELvv3c2ZVESJq3Yi\n",
       "MmZ3LnoBAAAACXBIWXMAAA7EAAAOxAGVKw4bAAAA1ElEQVQY02NgQAdPjfRDjB4AGYzKDmhSCqcY\n",
       "uh4JABmsCegyJxmYeBcAGfwFmDJsBwKAjH4BqMgmF5cAuIwCkDEFKtG6EaGHSxBkWtTu5SA+TyCS\n",
       "aZdKDwDd9lVA/gDIIQfgModDvoD0s39kYN4AkkFywTtREM0WwMA/AUhfdgECBYgMkxzIpywTGPpB\n",
       "7hZC0sOboAjxTj7I3SzI/sk9BJK5wGgH4nNvQJIR4gYax/WACRI84XCZYwx8DzSArl6ZBxGQ0hCA\n",
       "hbUOg1I8cph1qkBCBwoAxe43BugJR6MAAAAASUVORK5CYII=\n",
       "\" style=\"display:inline;vertical-align:middle;\" /></a>, <a class=\"ProveItLink\" href=\"../__pv_it/demonstrations/9c8c809d3a267eea2e68f4fa13dc7319847bfc670/expr.ipynb\"><img src=\"data:image/png;base64,iVBORw0KGgoAAAANSUhEUgAAAGEAAAAVCAMAAABha3BGAAAAPFBMVEX///8AAAAAAAAAAAAAAAAA\n",
       "AAAAAAAAAAAAAAAAAAAAAAAAAAAAAAAAAAAAAAAAAAAAAAAAAAAAAAAAAAAo1xBWAAAAE3RSTlMA\n",
       "InZUiRDNmWbv3US7qzLn9enz+YF6hwAAAAlwSFlzAAAOxAAADsQBlSsOGwAAAY1JREFUSMeVVeu6\n",
       "rCAINYW8u8/Zvv+7bsScrGmY8kdfGbDWAkSlaC3q2Xpqr7R56BD1hx8WL7cN3AyMyYeNk7s0KGn+\n",
       "AtCW1eJ6n/xqx8sl2VRmW8oMhgZhnZCO07868unslYQ8fTiWC02VFzibY8JjfVH3FyLS3AGJ4Qx5\n",
       "mPU+AoQ9B+/KYz7IZZWFVNtR5yWDXrSIsGatc08U5PcizRJwILgXmejJIFUUELBSgbFyILdLt4HX\n",
       "z7/2HMBLhY6gVeic0Ds2ljQYxve8Z7woYUcA5WMnUtszwJGY92EiZpn3cD1X4dhd2M0iadgQfOLt\n",
       "KGlg/Ng7NnpRwqi0IeueJawtlqtiL3Fs20tlwrEO/3/DLJdKyufbkXXSHaF551WZRUAoo17kmk4S\n",
       "zufD+ZHYre0akAlWWUFDpuBpM7DHYWbez3hLDnoiVbpczBrKknWRujXDa8SEKEsgaws6c7hQbp/p\n",
       "qRnDg/F8OcQ+TL69uu6bhI8D6+Yld6yzg28Xy2OEE6mA3xjpp9fuSXWRjP8AD8ELp2KABKkAAAAA\n",
       "SUVORK5CYII=\n",
       "\" style=\"display:inline;vertical-align:middle;\" /></a> <a class=\"ProveItLink\" href=\"../__pv_it/demonstrations/59ef62225b0939f571d7bea35484e116142948110/proof.ipynb\" style=\"text-decoration: none\">&nbsp;&#x22A2;&nbsp;&nbsp;</a><a class=\"ProveItLink\" href=\"../__pv_it/demonstrations/08351966ba3fdb0f128c7015bb30a7a9f9720c320/expr.ipynb\"><img src=\"data:image/png;base64,iVBORw0KGgoAAAANSUhEUgAAATEAAABLCAMAAAAvdUBJAAAAM1BMVEX///8AAAAAAAAAAAAAAAAA\n",
       "AAAAAAAAAAAAAAAAAAAAAAAAAAAAAAAAAAAAAAAAAAAAAADxgEwMAAAAEHRSTlMAmVSrZs0y7xCJ\n",
       "3bsiRHanaOJkSwAAAAlwSFlzAAAOxAAADsQBlSsOGwAABndJREFUeNrtm4vSnCwMhuUgICDl/q/2\n",
       "94jKQgCFdnd+mel0p90P40sSEni+rlsHwt075iF6kfU9RF6ttsFkjmS0f5U6xMjwHsbFL7+hNHUn\n",
       "VOkM1Q8/7RR8rJzKkg6EbW0Xo+wvCqZtbVOTWV0ON1xdDAMhMaX5MaNGxrQKn21a1WkzPDaV9epY\n",
       "Aw1nsaCLpVwdzX9k2sOV6Nx+XTt81kGMxoLrx6aSQ3UFpymi7ri6HecvJaNP0SOTwnPq0mB0a2um\n",
       "+dlzU/nxDcrhd6d3XJ2Kkxla2mXsb9HTs/A9zpjTlJbQo9kfgRCsRp6pzBqzx662GAxKfcfV5zFs\n",
       "ri6Q0LQ7aeHMQLP/7sZCc+Lc7Voovj3V0H0dRpn00LSpZqpcDdpTO4JWIBgrSVffq2MxPX36y2gx\n",
       "bGl2M2P5INWUde36GZpTFJTQ/f42a34kZjKkGx6bOucPV8kjyB7SB9NYytWn7yixVL/L8qqOoa0a\n",
       "1qsZy4fZfxFaP0NzIhqPPv+/XMTQ5YlqmpokypkcU+c05soKA6VcTsJpLOXqenqs1s6kbiQBV58f\n",
       "vMchNCeQabFXkozH1p7bquSbil2JCiyBHYJpLObqgvAlyLVijKHdZGS6kQfMmALHnYoA4YP7fMUG\n",
       "+fmYSMorMnWKW6qO5I7ztkpNBqMN5OqCS0xnt+TLjtOdUsqp53dmjMPgHg2EDxp8A+KK9WTa09ZJ\n",
       "BwI3O0WmsqPUnn7WUqDHONQc5wBSYM9E5PIzlduq3eyQAZ5iwk6vLNb9HT5yeWSqPT0VydMgZ/8T\n",
       "nCar41V7ResqJnHcAE+xtQnmyz9i3sxUG998R+taF2RjXea0sHt8r6PCYYeb82ifPAPWteV8W9vz\n",
       "vr8awGwzUy0CCljnY1wtTww1f3tFN31bz6NGVJ6qxE2xoAGejy16jqvRI29mapZiYoldarPju3ZU\n",
       "hg3wFFvMRWt2wrKZqUAe025XEIsxU0GLoXOAtQbSdRVTJm6Arxjb8113qgaqmwrsleJQc7YbT04N\n",
       "9VRCcjqa2gddW5kQNMBTjMyHIcgrSqqbCrbiHB0VnxmYJgbuOJC0fe3QZDJugF9dkMG1VDJ1hnfb\n",
       "VGaBqXvV/fshWXbNf3IE2cwe8CAf8S9QjKL8TjynfX+cJiR42vMNV2+qPEHrhsGhCFhJfgNAINTf\n",
       "ELnGVtkdO8+/Hbo0RZuGgo3wZRL9hkT2XWPoEw3e+GrkVVz4kaL/v2GSUcfZq1KJi70wlO9iGXL0\n",
       "9NXp2LV5xi4spH6Vclpk1ae6F69WW3maGW9/zKvV6mJzqZWBD7/k8HUk8eHf3yxr03wJfPi3yeGt\n",
       "hqrcuMD48I+Tw8vWZStPCOLD2P6+iyUJweIBpXZZ/CSaGwJtoevTMVUWIVhkJoAPB8lhMJPi84na\n",
       "Dei6Wigex5BJQrAYuAbw4SA5DGXSK1B4B7r237xUKbeuxjlEihAsB67j54bBE1ook16r4hvQtd/5\n",
       "3oWGD6wpTQiWA9fRO8swOQxkUn3V/gZ07cX4bWh4+kD2NJaCYcuB6yg+HAYtgEwauIkuhK6BGE+c\n",
       "sVyh4fn8eP2QA8MWA9cxfDhIDkOZ9POQOx+6Di0A0Pn6d5UeNNyVnVOVAtcxfDhIDgOZ9HNrLYCu\n",
       "Q88H3tG7Dw9Awyj/1q4YuI7hw0EkDcikZnftjcsth66vovT5igWg4eSR/A0zsfMNnNwqHbgLZNIt\n",
       "ih2XWw5dh7NiABr2FQtAw2OiXyk08wJcR/DhMDkMZFK1zui43HLo+qoCAA17ioWgYZYoGArNvADX\n",
       "EWavkByeF/rkms8RYgga9hQLQcM6cdnaAB8uI4ddlfKMyz3NF4aGg9RwCBoOX083xYfLyGHnYw8R\n",
       "4mM+CBr2fCwEDUfK+Jb4cCE5fERlpbYagoY9xULQMEv8gnI1fPic+YvIYde410KIIWjYVywADaf2\n",
       "ygb4cCE57CqgWggxBA17ioWg4RSY1AIfLiWH3arWQYghaNivLgLQcPoSrD4+XEwOV76DAKDhODXs\n",
       "oOGW/EPsNL+YHEZ171EAaDhODe++JlpeUcTw4WJymFVmGp9Aw7TlzXQMHy4nh0ld1PgJNNyUsIni\n",
       "w8XksKh8g34fGqYtaZE4PlxODuMvuRHWTX/dJQ673iCH6XewxqjpzTTAdr7kMFCpR9R8yeEiF3vJ\n",
       "4aCLwZq85PDHppJgOF5y+EOQVM35ksNejZoOOv0m/7OLAdXTf01iSK4eY+fpAAAAAElFTkSuQmCC\n",
       "\" style=\"display:inline;vertical-align:middle;\" /></a></span>"
      ],
      "text/plain": [
       "{a in Real, k in Integer, theta in RealPos, b in Real, (a + b) != 0} |- (a^{k} * e^{2 * pi * i * theta * k} * (a + b)^{k} * e^{2 * pi * i * b}) =  \\\\ (a^{k} * (e^{2 * pi * i * theta} * (a + b))^{k} * e^{2 * pi * i * b})"
      ]
     },
     "metadata": {},
     "output_type": "display_data"
    }
   ],
   "source": [
    "mult_exps_13.common_power_extraction(\n",
    "            start_idx=1, end_idx=2,\n",
    "            exp_factor = k,\n",
    "            assumptions=[InSet(k, Integer), InSet(delta, Integer), NotEquals(a, zero),\n",
    "                         NotEquals(Add(a, b), zero),\n",
    "                         InSet(theta, RealPos), InSet(a, Real), InSet(b, Real)])"
   ]
  },
  {
   "cell_type": "markdown",
   "metadata": {},
   "source": [
    "## Deduce bounds"
   ]
  },
  {
   "cell_type": "code",
   "execution_count": 132,
   "metadata": {},
   "outputs": [
    {
     "data": {
      "text/html": [
       "<span style=\"font-size:20px;\"><a class=\"ProveItLink\" href=\"../__pv_it/theorems/b9cae19a628b9412bdeba3850806ec1015c9b6ae0/expr.ipynb\"><img src=\"data:image/png;base64,iVBORw0KGgoAAAANSUhEUgAAAD0AAAATBAMAAADR6hicAAAAMFBMVEX///8AAAAAAAAAAAAAAAAA\n",
       "AAAAAAAAAAAAAAAAAAAAAAAAAAAAAAAAAAAAAAAAAAAv3aB7AAAAD3RSTlMAELvv3c2ZVESJq3Yi\n",
       "MmZ3LnoBAAAACXBIWXMAAA7EAAAOxAGVKw4bAAAA6ElEQVQoz2NgwA3YGPADJrLknxrphxg9gMsz\n",
       "KjugKVA4xdD1SACunzUBXf4kAxPvAoYkJWUlJaA5/AWY8mwHAuD6+wWg4ptcXALg8gpw+SlQ6daN\n",
       "CP1cggvg8lG7l4MonkAk8y+VHoC7/6uAPIjDegAufzjky0Z4+LF/ZGDeAJJHct87UaRADmDgnwCk\n",
       "L7sAgQJEnknuAVyeZQJDP8iHQkj6eRMU4Tyg9/NBPmRB9n/uIYT8BUY7EM29AUleiBtuAdcDJkgA\n",
       "h8PljzHwPdCA8RhX5kEYUhoCsPjTYVCKL8CI2E4VSPiiAAC5IjjtCVE78gAAAABJRU5ErkJggg==\n",
       "\" style=\"display:inline;vertical-align:middle;\" /></a>, <a class=\"ProveItLink\" href=\"../__pv_it/demonstrations/8c5864665d603ebc7e84fdb786d604e60f56fcc70/expr.ipynb\"><img src=\"data:image/png;base64,iVBORw0KGgoAAAANSUhEUgAAAD0AAAATBAMAAADR6hicAAAAMFBMVEX///8AAAAAAAAAAAAAAAAA\n",
       "AAAAAAAAAAAAAAAAAAAAAAAAAAAAAAAAAAAAAAAAAAAv3aB7AAAAD3RSTlMAiXZmMiLdVJm77xBE\n",
       "zatgdeJyAAAACXBIWXMAAA7EAAAOxAGVKw4bAAAA0ElEQVQoz2NgwA04GPADTrLkbVfOv7bSAI/+\n",
       "CXEM5yw34JEPZOBkecDQOXPWzJkG2OU5Ai5g6tdMS7sAl5+AIX9WG6Gfb/cDhLyQsgOQZL2NZL5n\n",
       "bQBcPqyAA2QYbwBcPuraN21E+CUycCmA5JHcZ7wXKZB/Q2ivNCCYAJHn3IzwF9cECL0TST9Lw2w4\n",
       "b78ChGZD9n9LJJzHDzTqAJBmUkCS38kEtwDoeEaQ/xiuw+UjGJgN5sANEDSGBMy+ORtg8TeVYeb9\n",
       "AoxwPzgNEr4oAABdmzkc2vbi6QAAAABJRU5ErkJggg==\n",
       "\" style=\"display:inline;vertical-align:middle;\" /></a>, <a class=\"ProveItLink\" href=\"../__pv_it/demonstrations/dca454e375a4fdb804cbe6e3b3b093b1e1eb58430/expr.ipynb\"><img src=\"data:image/png;base64,iVBORw0KGgoAAAANSUhEUgAAADIAAAAOBAMAAACfqVJUAAAAMFBMVEX///8AAAAAAAAAAAAAAAAA\n",
       "AAAAAAAAAAAAAAAAAAAAAAAAAAAAAAAAAAAAAAAAAAAv3aB7AAAAD3RSTlMAIquJdkTvuxBmmd1U\n",
       "zTKBpmoTAAAACXBIWXMAAA7EAAAOxAGVKw4bAAAAqElEQVQY02NgIBLwXMQhwbmrAYnHqOzoAGWy\n",
       "bIZIcLhoPLZhYAgTYP8BkWjeAlXBxeDksJqBI5OBawOYL7UTZsxEhvkNmgxcHxi4DUBcpjtwCx4w\n",
       "rAWSbAUM/QFoMgwMKUDc78AwnwHNNAbWjwwdDP0HGHR5BFBcwFHKlMBgwMDuwLOLC6q0ZQvY1Tz/\n",
       "uhJYDzBwqNgJ+cF9CvYQxxKHU3MwAuEiEUEIAJqZJcgWZ+RPAAAAAElFTkSuQmCC\n",
       "\" style=\"display:inline;vertical-align:middle;\" /></a>, <a class=\"ProveItLink\" href=\"../../number_sets/real_numbers/__pv_it/theorems/7697fc34c81296f04a039eeb9dd22e91165d63b70/expr.ipynb\"><img src=\"data:image/png;base64,iVBORw0KGgoAAAANSUhEUgAAAEAAAAATBAMAAADSXRa0AAAAMFBMVEX///8AAAAAAAAAAAAAAAAA\n",
       "AAAAAAAAAAAAAAAAAAAAAAAAAAAAAAAAAAAAAAAAAAAv3aB7AAAAD3RSTlMAEHarMolUmd1mIs3v\n",
       "RLtmgJDEAAAACXBIWXMAAA7EAAAOxAGVKw4bAAAA3UlEQVQoz2NgwAcKGAiAB+Qp4Nzz7nfPS3wm\n",
       "8HEZ8Fo+xKsggOGBMwP7u3fn3r3EpaCKG4sJeh0dG+AK+DAV3FZEMsFQGK5ASFkkNAFIc21EsoLl\n",
       "2S64ggImI/YGIM29AKHgdH+TACwkORdwfmSeAFKA5MjIiRvgPBYGdgjHpwMIHkCteDgTyXE8CmBK\n",
       "Dtmb7nwCCAX3FzCCeBzICti94D6Uu2DDwApiMCkgKWB8oAnj5TvWMFwDs7YhFBQwzOS7AOWJK7FV\n",
       "JoBZwm8FYLH5bwHf62+YcXD1RccGDEEANpdAkzJdUSAAAAAASUVORK5CYII=\n",
       "\" style=\"display:inline;vertical-align:middle;\" /></a>, <a class=\"ProveItLink\" href=\"../__pv_it/demonstrations/b8a7d6dcca5f94ebf9848daf16ba41b692ff77230/expr.ipynb\"><img src=\"data:image/png;base64,iVBORw0KGgoAAAANSUhEUgAAADAAAAASBAMAAADvSECJAAAAMFBMVEX///8AAAAAAAAAAAAAAAAA\n",
       "AAAAAAAAAAAAAAAAAAAAAAAAAAAAAAAAAAAAAAAAAAAv3aB7AAAAD3RSTlMAELvv3c2ZVESJq3Yi\n",
       "MmZ3LnoBAAAACXBIWXMAAA7EAAAOxAGVKw4bAAAAxElEQVQY02NgVHZgwA5YE3BI8BfgkOgXQLDZ\n",
       "Y5AkpiCYfG5Iihiidi+Hsrg9IeLSeQyMCxgYvwrIHwDzJb2hCiYUM/B9YGD/yMC8AcQ95gcV5y1I\n",
       "YeBSYGALYOCfAORyhcPMZmSwBqllmcDQX4AiwcDxkeH+BZA38gVQjAIZshnovwuMdgyoljMtYNAC\n",
       "GvGACRYm0t4Q57It4PgHtGplHsKDEI8wrtz2By14+KBBwhmANfSmMghjD1hvhpXYw7tuWwMDAwBZ\n",
       "tya353eD+AAAAABJRU5ErkJggg==\n",
       "\" style=\"display:inline;vertical-align:middle;\" /></a>, <a class=\"ProveItLink\" href=\"../__pv_it/demonstrations/f7520a13bd7584f005356ec359b6594d35c956560/expr.ipynb\"><img src=\"data:image/png;base64,iVBORw0KGgoAAAANSUhEUgAAAD8AAAAWBAMAAACF0lkSAAAAMFBMVEX///8AAAAAAAAAAAAAAAAA\n",
       "AAAAAAAAAAAAAAAAAAAAAAAAAAAAAAAAAAAAAAAAAAAv3aB7AAAAD3RSTlMAEHaZZquJVO8y3btE\n",
       "zSKD2s2pAAAACXBIWXMAAA7EAAAOxAGVKw4bAAAA9ElEQVQoz2NgwAOYGQgAbjIV+Hbvv9XtgM+E\n",
       "DU8ZjnoL4FPwjIGbM4DBeveO3bsdcChgfnABiwnaq1ZdgCvYgKngrCLCBFbBAJgCRmUHBlEQg+8i\n",
       "khWzax/AFLCxNzD4gxi8D+AKXtz6pQgPyenMCxiiwQqQHOkii7BZgEOBoQnEmLEKCDZAFHCLIHnv\n",
       "vADnTxAtjWQCp8FGhAJbBqYGEM2FHA6WrxEKtjJwg7zEwKSApECaCWGHKcN5COc6XMFjBhaHPXAF\n",
       "okn2EA+K7hGAxeY+ht33CxCW5ELpY7sgQY0K2C4wtuNNNVwKrAl4FbA72eCVBwDYdUhOmbP77gAA\n",
       "AABJRU5ErkJggg==\n",
       "\" style=\"display:inline;vertical-align:middle;\" /></a>, <a class=\"ProveItLink\" href=\"../__pv_it/demonstrations/4310be1dd983275b8d756f0da63f3cc32b871af60/expr.ipynb\"><img src=\"data:image/png;base64,iVBORw0KGgoAAAANSUhEUgAAAC8AAAAOBAMAAABN+VgMAAAAMFBMVEX///8AAAAAAAAAAAAAAAAA\n",
       "AAAAAAAAAAAAAAAAAAAAAAAAAAAAAAAAAAAAAAAAAAAv3aB7AAAAD3RSTlMAiXZmMiLdVJm77xBE\n",
       "zatgdeJyAAAACXBIWXMAAA7EAAAOxAGVKw4bAAAAkElEQVQY02NgIAqwX8UuzpyxAZkrpOwAYTAl\n",
       "QsXdUlgNGBjCCjgmgLkbk6AquS9JygGpRAYuBRA3IhlmBOsGBmkGBo7fEB7fdSTTNwLN5JqAKcEK\n",
       "MmK/ApSHMIrhMAM3AwM/0P4DqJazFzDwAe2YwMAIde6mJIhzPSUVU4CUoLE23IMQjwiwrz2A7vWr\n",
       "hIMNAKxrG0n2/E+eAAAAAElFTkSuQmCC\n",
       "\" style=\"display:inline;vertical-align:middle;\" /></a> <a class=\"ProveItLink\" href=\"../__pv_it/demonstrations/8ea5ccd0a6e8cf58d6fdacad9cda8c0c70af084f0/proof.ipynb\" style=\"text-decoration: none\">&nbsp;&#x22A2;&nbsp;&nbsp;</a><a class=\"ProveItLink\" href=\"../__pv_it/demonstrations/96e3ca7e36a10440e7afbb3755eda267a96315a10/expr.ipynb\"><img src=\"data:image/png;base64,iVBORw0KGgoAAAANSUhEUgAAALIAAAAVBAMAAAAQvakNAAAAMFBMVEX///8AAAAAAAAAAAAAAAAA\n",
       "AAAAAAAAAAAAAAAAAAAAAAAAAAAAAAAAAAAAAAAAAAAv3aB7AAAAD3RSTlMAInZUiRDNmWbv3US7\n",
       "qzJazP2FAAAACXBIWXMAAA7EAAAOxAGVKw4bAAACbUlEQVQ4y41VQWjUUBB92WyaZDe7m3NRSIvS\n",
       "WlByKMV6MUj1UFpZiiBCMUUQvAh7UNj24p6qlIJFUAQviwoehBL0Yk+N3jwIS10K3nLxUoTWw4pH\n",
       "5yebH/cnbHYgycxk3mTmz/s/AEwMFXNE34BI7Fawhwd9SLvyIEDZotvsoE/52hbStFK4WeTKNGVa\n",
       "E3xjDcFxV0SlIBkyVocqllQTW30sotRWfmatAV307dcFh5445sLR6RhBnmNOdC2mGuMlbj2M8o+S\n",
       "+R4eMI50Jyzuuj/5PXl/ZTpAsdM3Zq5GTwZZOX97gS/bShNKh2OOdiWqZZlyA3um0ePj+VN3OV3H\n",
       "bdWHFg1MWbR4OUCjcKByEjnz0E54gjtLy/TYxBvSXyKJknvQeQNvmS7vhNzf4ItCEM3UepXYUbU3\n",
       "UPH5JqmD9TaPVzTrE5QcMlxWnLqGmhPrYSfVsJzDhDIEqbI49DEKnkXVuJHvBhv5MQvTfbgeGSXG\n",
       "ZPrGvt3X9bCQ8k46M+LGwrhyD8dBbEAK3+yx1lwLT/+n86OYZm4YI7fTq0HkNBXORqr/XDL1T9QE\n",
       "cAlfKIGNQzmeWi2gZY91SuZB84UJEmTV+4Eiz2V08I0bso0KPbaJHTAs+Z0av6i0DL69iRjFAKrT\n",
       "H/rM2UghyOWf6/iYbMpO+S83fi2d2Q2peUSQg+unL3DSdJtJYwtPKFnJ4zslIjRBbk7KzWThle7U\n",
       "b2448gsGeI9SkLebxhN1M1yzDEhRPKSkNjs6cqSZcdoMyjXcsjNOrc95vwc/5RIhr9EVQ07RtZqT\n",
       "2Uj/mkTIxSkv6+OSNTzzREYbVt4KFkz8A7bCfmxal+jGAAAAAElFTkSuQmCC\n",
       "\" style=\"display:inline;vertical-align:middle;\" /></a></span>"
      ],
      "text/plain": [
       "{b in RealPos, c in RealPos, a < x, x in RealPos, b < y, y in RealPos, c < z} |- (a * b * c) < (x * y * z)"
      ]
     },
     "metadata": {},
     "output_type": "display_data"
    }
   ],
   "source": [
    "relations = [Less(a, x), Less(b, y), Less(c, z)]\n",
    "assumptions = relations + [InSet(_x, RealPos) for _x in (a, b, c, x, y, z)]\n",
    "Mult(a, b, c).deduce_bound(relations, assumptions=assumptions)"
   ]
  },
  {
   "cell_type": "code",
   "execution_count": 133,
   "metadata": {},
   "outputs": [
    {
     "data": {
      "text/html": [
       "<span style=\"font-size:20px;\"><a class=\"ProveItLink\" href=\"../__pv_it/demonstrations/5a49c1d91f28aca05c3a7748e24771596ea841e40/expr.ipynb\"><img src=\"data:image/png;base64,iVBORw0KGgoAAAANSUhEUgAAAEYAAAAUBAMAAADCRlZLAAAAMFBMVEX///8AAAAAAAAAAAAAAAAA\n",
       "AAAAAAAAAAAAAAAAAAAAAAAAAAAAAAAAAAAAAAAAAAAv3aB7AAAAD3RSTlMAELvv3c2ZVESJq3Yi\n",
       "MmZ3LnoBAAAACXBIWXMAAA7EAAAOxAGVKw4bAAABNklEQVQoz2NgwAUuNYCpmTsZcAPGSQVAkm8D\n",
       "hwIeRQybHjAwMF9g+INPDcOjDQznBRjMMSWeGumHGD2AsB8fuC/A4MfAqOyApkjhFEPXIwEQS1KD\n",
       "AajGmoGBNQFdzUkGJt4FQMaxtQwgu74zMPAXYKphOxDAwHAKqATq5n4BmDdcXALgahQYpHJAHO4N\n",
       "HEAjp0CVtG5EmMMluIBBEMKbuQ1oRtTu5SA2TyCSXZdKD6AE51cBeZAAK1xU4XDIl40oLmT/yMC8\n",
       "AaQGyc3vREHxpQQEEI1sAQz8E4D0ZRcgUICoYZJ7gGIOywSGfpDvhZDM4U1QRFEDDJ58kO9ZkMMn\n",
       "9xCqmguMdpCAQFIjxI1iGdcDJkhkhMPVHGPge6CB4veVeRCGlIYALN51GJTiC7Cmlk4VSFxgAAC+\n",
       "YVHp3c6+3AAAAABJRU5ErkJggg==\n",
       "\" style=\"display:inline;vertical-align:middle;\" /></a>, <a class=\"ProveItLink\" href=\"../__pv_it/demonstrations/84cbcf197510cc837caa3d8421cfcaf73391b1600/expr.ipynb\"><img src=\"data:image/png;base64,iVBORw0KGgoAAAANSUhEUgAAAEYAAAAUBAMAAADCRlZLAAAAMFBMVEX///8AAAAAAAAAAAAAAAAA\n",
       "AAAAAAAAAAAAAAAAAAAAAAAAAAAAAAAAAAAAAAAAAAAv3aB7AAAAD3RSTlMAiXZmMiLdVJm77xBE\n",
       "zatgdeJyAAAACXBIWXMAAA7EAAAOxAGVKw4bAAABH0lEQVQoz2NgwAU8D4ApQUUG3IBbsgBIMivw\n",
       "TMCjiEHTgIGBy4HhKz41DJYKDPEbGJZjStiunH9tpQGEbRXgv4EhGYvuCXEM5yw3gFgb5zAA1SzC\n",
       "piaQgZPlAZAR8YQBZNd37Go4Ai4wMMQBlaC7WTMt7QJczQSGfa0gDpMCzwOEkrPaCHP4dj9g2A3h\n",
       "CWqAnCak7AAkWW8j2eVZG4BifVgBBygkeeGiE6KufdNGdWIiA5cCSA2Sm433guJrJhBANHL8hsh4\n",
       "pQHBBIgazs0GKMZwQaNsJ5I5LA2zUdTsV4DQbMjh0xKJooYfaOwBcEAgqdnJhGIZ0FOMIL8zXIer\n",
       "iWBgNpiDYpCgMcSj++ZsgMX7VIaZ9wuwppaD0yBxgQEAtkNNaj8uTC4AAAAASUVORK5CYII=\n",
       "\" style=\"display:inline;vertical-align:middle;\" /></a>, <a class=\"ProveItLink\" href=\"../__pv_it/demonstrations/dca454e375a4fdb804cbe6e3b3b093b1e1eb58430/expr.ipynb\"><img src=\"data:image/png;base64,iVBORw0KGgoAAAANSUhEUgAAADIAAAAOBAMAAACfqVJUAAAAMFBMVEX///8AAAAAAAAAAAAAAAAA\n",
       "AAAAAAAAAAAAAAAAAAAAAAAAAAAAAAAAAAAAAAAAAAAv3aB7AAAAD3RSTlMAIquJdkTvuxBmmd1U\n",
       "zTKBpmoTAAAACXBIWXMAAA7EAAAOxAGVKw4bAAAAqElEQVQY02NgIBLwXMQhwbmrAYnHqOzoAGWy\n",
       "bIZIcLhoPLZhYAgTYP8BkWjeAlXBxeDksJqBI5OBawOYL7UTZsxEhvkNmgxcHxi4DUBcpjtwCx4w\n",
       "rAWSbAUM/QFoMgwMKUDc78AwnwHNNAbWjwwdDP0HGHR5BFBcwFHKlMBgwMDuwLOLC6q0ZQvY1Tz/\n",
       "uhJYDzBwqNgJ+cF9CvYQxxKHU3MwAuEiEUEIAJqZJcgWZ+RPAAAAAElFTkSuQmCC\n",
       "\" style=\"display:inline;vertical-align:middle;\" /></a>, <a class=\"ProveItLink\" href=\"../../number_sets/real_numbers/__pv_it/theorems/c34caf191836023a2e00a70eca44f5973ba282830/expr.ipynb\"><img src=\"data:image/png;base64,iVBORw0KGgoAAAANSUhEUgAAAEoAAAAUBAMAAADYerbFAAAAMFBMVEX///8AAAAAAAAAAAAAAAAA\n",
       "AAAAAAAAAAAAAAAAAAAAAAAAAAAAAAAAAAAAAAAAAAAv3aB7AAAAD3RSTlMAEHarMolUmd1mIs3v\n",
       "RLtmgJDEAAAACXBIWXMAAA7EAAAOxAGVKw4bAAABL0lEQVQoz2NgwA38LoCpUFUGfIAxLgFIcirw\n",
       "PsCrjEFvAgMDjwPDL/yqGOYpMKwXYDiGTWr2ufc7zk2AsOcs8Bdg6MRqwoPFDJfnCYBYom8ZgKoO\n",
       "YVe1lIGPxQDIWG7CALLxGy5V7As2MDAsBirCcD3Ti45uhKoHDMJVYFEFXgMkRbybBBBmMQsaMAhC\n",
       "eKHqQHEhZZFQUOgxrBZAstEvewGKIwqYjNgbQIxdCHet2fFDEUUR5wLOj8zgwNmA5PqZ0qB4fAcE\n",
       "ECNZGNgh0iwnOjo6+qCq+CQnoPmbRwEStw+QzGIpeIim6v4CRrC7G5DDq2Qdihq5CzYMrGCWErIq\n",
       "OSYUK/MdaxiugVncCXBVyxk4J7xFViWuxFYJkWa0uwhPE68Y3u1PwJ6YeOOgMYQBAHwnWgIrvHIs\n",
       "AAAAAElFTkSuQmCC\n",
       "\" style=\"display:inline;vertical-align:middle;\" /></a>, <a class=\"ProveItLink\" href=\"../__pv_it/demonstrations/86b04262cbd19fdc4a7e839d75e3bc91eb93a09a0/expr.ipynb\"><img src=\"data:image/png;base64,iVBORw0KGgoAAAANSUhEUgAAADAAAAASBAMAAADvSECJAAAAMFBMVEX///8AAAAAAAAAAAAAAAAA\n",
       "AAAAAAAAAAAAAAAAAAAAAAAAAAAAAAAAAAAAAAAAAAAv3aB7AAAAD3RSTlMAELvv3c2ZVESJq3Yi\n",
       "MmZ3LnoBAAAACXBIWXMAAA7EAAAOxAGVKw4bAAAAyElEQVQY02NgVHZgwA5YExBs9hgkCf4COJPP\n",
       "TQBJoh/O4fZEFmeYAmNIeqPaEbV7OZgW84OJSOcxMC5gYPwqIH8AyJMKhyudUMzA94GB/SMD8wYg\n",
       "jwsuwVuQwsClwMAWwMA/AcQ/BjOKkcEapJZlAkN/AarlHB8Z7l8AeSNfANW5QEM2A/13gdEOzYNM\n",
       "Cxi0gJY+YEKECXssWMcCjn9Aq1bmoYce48ptf3AELGcAVuGpDMKIgGUQcQEBXxDTm2EldoPqtjUw\n",
       "MAAA9Egnsezv4bgAAAAASUVORK5CYII=\n",
       "\" style=\"display:inline;vertical-align:middle;\" /></a>, <a class=\"ProveItLink\" href=\"../__pv_it/demonstrations/d9ee55b074c6e43951216a45eed094b5076ace2c0/expr.ipynb\"><img src=\"data:image/png;base64,iVBORw0KGgoAAAANSUhEUgAAAEgAAAAXBAMAAABaGxRWAAAAMFBMVEX///8AAAAAAAAAAAAAAAAA\n",
       "AAAAAAAAAAAAAAAAAAAAAAAAAAAAAAAAAAAAAAAAAAAv3aB7AAAAD3RSTlMAEHaZZquJVO8y3btE\n",
       "zSKD2s2pAAAACXBIWXMAAA7EAAAOxAGVKw4bAAABPklEQVQoz2NgwAlmHwBTaWoMeABjdgGQZFHg\n",
       "2YBPFYO2AwMDxwSGf3gVMXgrMLwXYGjHIuPbvf9WtwOE7fFgvgDDEmz6NzxlOOotAGKJ7WEAKmrC\n",
       "qugZAzdnAJDxOJIBZN13HIqYH1xgYHgKVIPhcO1Vqy7AFW1gELUDcZgUeAKQ1JxVRJjEKhjAIAjh\n",
       "pSkLMDAqOzCIgjh8F5Gsm137ANkONvYGBn8QgxcuvOHFrV+KKK6czryAIRqsCMnhLrKguNsNBBCd\n",
       "AhwKkICYsQoINkAUcYs4oHr4vADnTxAtjWQSp8FGVEW2DEwNIJoLOZwsX6Mq2srAHQAJECRF0kyo\n",
       "9pkynIcIXIcreszA4rAHRZFokj3EC6J7BGCpYB/D7vsFqBbmQuljuyDRggnYLjC2MxACXAqsCQQV\n",
       "sTvZEFQDAHeXXId9NHQRAAAAAElFTkSuQmCC\n",
       "\" style=\"display:inline;vertical-align:middle;\" /></a>, <a class=\"ProveItLink\" href=\"../__pv_it/demonstrations/4310be1dd983275b8d756f0da63f3cc32b871af60/expr.ipynb\"><img src=\"data:image/png;base64,iVBORw0KGgoAAAANSUhEUgAAAC8AAAAOBAMAAABN+VgMAAAAMFBMVEX///8AAAAAAAAAAAAAAAAA\n",
       "AAAAAAAAAAAAAAAAAAAAAAAAAAAAAAAAAAAAAAAAAAAv3aB7AAAAD3RSTlMAiXZmMiLdVJm77xBE\n",
       "zatgdeJyAAAACXBIWXMAAA7EAAAOxAGVKw4bAAAAkElEQVQY02NgIAqwX8UuzpyxAZkrpOwAYTAl\n",
       "QsXdUlgNGBjCCjgmgLkbk6AquS9JygGpRAYuBRA3IhlmBOsGBmkGBo7fEB7fdSTTNwLN5JqAKcEK\n",
       "MmK/ApSHMIrhMAM3AwM/0P4DqJazFzDwAe2YwMAIde6mJIhzPSUVU4CUoLE23IMQjwiwrz2A7vWr\n",
       "hIMNAKxrG0n2/E+eAAAAAElFTkSuQmCC\n",
       "\" style=\"display:inline;vertical-align:middle;\" /></a> <a class=\"ProveItLink\" href=\"../__pv_it/demonstrations/5bd31d5653c2724e3b7592211d62c3468f82de350/proof.ipynb\" style=\"text-decoration: none\">&nbsp;&#x22A2;&nbsp;&nbsp;</a><a class=\"ProveItLink\" href=\"../__pv_it/demonstrations/8673fa2812cee3e1959ff0426114063e07f122770/expr.ipynb\"><img src=\"data:image/png;base64,iVBORw0KGgoAAAANSUhEUgAAALIAAAAVBAMAAAAQvakNAAAAMFBMVEX///8AAAAAAAAAAAAAAAAA\n",
       "AAAAAAAAAAAAAAAAAAAAAAAAAAAAAAAAAAAAAAAAAAAv3aB7AAAAD3RSTlMAInZUiRDNmWbv3US7\n",
       "qzJazP2FAAAACXBIWXMAAA7EAAAOxAGVKw4bAAACd0lEQVQ4y41VT2jTUBj/pWmWpE3bnIdCNpRN\n",
       "QclhjM2LQaaHsUkZggjDDEHwIvSg0O1iTypDcAiKsEtxgqAwil7cadWbB6HMMvCWi5chbB4qHv3e\n",
       "S/PSvpSmHyT53pfv9+X783svAGwMFXtEW58o7JZxhzt9TJrSIEDeodtMv037VpfC1BK4GaTKNEVa\n",
       "k2xjFclwN1ZneRsSkAEyVoYup1SSS30itM2H/KHX0iMbFZiybb8sGczIcP5q14AR5CVmZdNiorAw\n",
       "RW3RiXoySuR7eMA40p5whOn+5I/4/ZXpANkWD7whesAgKxduL4i2rVShtQTmaFch12WKDezZVkdw\n",
       "42/ZF3Qdd/UmDDYw7dDtSQeoZA50QSJvHsaJCHBnaZkej7FD+mvEXmoHpijgLdPVLab2RCaIYRud\n",
       "QlRE0d1AoSk2SRlsHvPYplmfIOfRwmfJ6WsoeZHOKynydJS4GwQpMj90MRpehNn4oe0GG/kxczOb\n",
       "8Bu0yDEm0zf23a5u8kTyW9IEtzlBwhX3y3dwHEQLKPzNHivNd/C8l86PIpr53EetS6zb4eS0NUFP\n",
       "yv9cPPXPVARwCV8pgItDNZpaKaC2Rzo1oAGjKe0Ugqw2fiIrYlktfBcL1UWBHs+IHbAc9Z0evSjU\n",
       "LLG9iRjZALoX725WM4Nc/rWOT8Kst/L/xOL30pldTs0j6uDB9dMXBWna1biwhadnqXsNaRMQ5Oak\n",
       "Wo3JorWn/oiFp75igA/IBWm7aVw2DIBk5UNKqbOjI0WqA06bfrmGW/Ixxk6tL2m/Bz5A7T2XMFsZ\n",
       "8gZtGXWKrtWUyFby1yRD5qbkUfCPK87wyBMDynDSOpix8R/3AYQhR4kZlwAAAABJRU5ErkJggg==\n",
       "\" style=\"display:inline;vertical-align:middle;\" /></a></span>"
      ],
      "text/plain": [
       "{b in RealNonNeg, c in RealNonNeg, a < x, x in RealNonNeg, b <= y, y in RealNonNeg, c < z} |- (a * b * c) <= (x * y * z)"
      ]
     },
     "metadata": {},
     "output_type": "display_data"
    }
   ],
   "source": [
    "relations = [Less(a, x), LessEq(b, y), Less(c, z)]\n",
    "assumptions = relations + [InSet(_x, RealNonNeg) for _x in (a, b, c, x, y, z)]\n",
    "Mult(a, b, c).deduce_bound(relations, assumptions=assumptions)"
   ]
  },
  {
   "cell_type": "code",
   "execution_count": 134,
   "metadata": {},
   "outputs": [
    {
     "data": {
      "text/html": [
       "<span style=\"font-size:20px;\"><a class=\"ProveItLink\" href=\"../__pv_it/theorems/885cc228aa47f4d61d07e1691f08d60a4b0eb17d0/expr.ipynb\"><img src=\"data:image/png;base64,iVBORw0KGgoAAAANSUhEUgAAAD0AAAAQBAMAAABXfmoyAAAAMFBMVEX///8AAAAAAAAAAAAAAAAA\n",
       "AAAAAAAAAAAAAAAAAAAAAAAAAAAAAAAAAAAAAAAAAAAv3aB7AAAAD3RSTlMAELvv3c2ZVESJq3Yi\n",
       "MmZ3LnoBAAAACXBIWXMAAA7EAAAOxAGVKw4bAAAA3klEQVQY02NgQAdPjfRDjB7AuYzKDmgKFE4x\n",
       "dD0SgHNZE9DlTzIw8S5guKQEBAcYGPgLMOXZDgTAuf0woza5uATA5RXg8lOgdOtGhH4uwQVw+ajd\n",
       "y0EUTyCS+ZdKD8Dd/1VAHsRhhYsoHA75shGunf0jA/MGkDyS+96JIlzLFsDAPwFIX3YBAgWIPJMc\n",
       "InxYJjD0g3wohKSfN0ERzgN6Px/kQxZk/+ceQshfYLQD0dwbkOSFuOEWcD1gggRwOFz+GAPfAw24\n",
       "/1bmQRhSGgKw+NNhUIovwIjYThWXAAxBAA29OSA7wr9HAAAAAElFTkSuQmCC\n",
       "\" style=\"display:inline;vertical-align:middle;\" /></a>, <a class=\"ProveItLink\" href=\"../../ordering/__pv_it/theorems/4aa8d696b1f407d6126de9f51a052e8d90e0848c0/expr.ipynb\"><img src=\"data:image/png;base64,iVBORw0KGgoAAAANSUhEUgAAADMAAAAQBAMAAABJt1qBAAAAMFBMVEX///8AAAAAAAAAAAAAAAAA\n",
       "AAAAAAAAAAAAAAAAAAAAAAAAAAAAAAAAAAAAAAAAAAAv3aB7AAAAD3RSTlMAIquJdkTvuxBmmd1U\n",
       "zTKBpmoTAAAACXBIWXMAAA7EAAAOxAGVKw4bAAAAzElEQVQY02NgwABz0+tvp09gwAoKhBiCpjdg\n",
       "lxJmYOdTwCXFJXABRch99+4LcKkCZJlYD4Qupg6QgYzKjg4gAcYbSAY+PysAZIQJsP8ACfAKwKXE\n",
       "bv8GmcCRycC1ASyF5IyZvSCa6wMDtwGI8Ww3EBRApNg7QV5mK2DoDwAJtCPp4ltQAaT7HRjmgwW4\n",
       "kf21ThwkdYBBlwfkAhYHJKl2FqCJ7A48u7jAInfgUlIMnBNKgS5UsRPyA4s0lTbAQr6Qofz+AeTg\n",
       "CK7ejRxyAISENKeL/c93AAAAAElFTkSuQmCC\n",
       "\" style=\"display:inline;vertical-align:middle;\" /></a>, <a class=\"ProveItLink\" href=\"../../ordering/__pv_it/theorems/d1323f34847310a404e8089c2c268d3c2eb89dbf0/expr.ipynb\"><img src=\"data:image/png;base64,iVBORw0KGgoAAAANSUhEUgAAADQAAAAQBAMAAACra0H4AAAAMFBMVEX///8AAAAAAAAAAAAAAAAA\n",
       "AAAAAAAAAAAAAAAAAAAAAAAAAAAAAAAAAAAAAAAAAAAv3aB7AAAAD3RSTlMAEHarMolUmd1mIs3v\n",
       "RLtmgJDEAAAACXBIWXMAAA7EAAAOxAGVKw4bAAAAyklEQVQY02NgwACce9797nnJgBXwcRnwWj7E\n",
       "IRXA8MAZp1QVN4qQXkfHBrgUH7LMbUUkXYbCQIaQskhoApDm2ohkIMuzXUBGAZMRewOQ5l6AkDrd\n",
       "3yQA9MUCzo/ME0BSSM6InAiylIWBHWw3g08HEDyAGvhwJliMRwFMySE73p1PAMS6v4ARRHMgS7F7\n",
       "AfXLXbBhYAUJMCkgSTE+0GRgyHesYbgGFtmGkCpgmMl3gUFcia0yASwi/FYAFvL/FvC9/oYcHFdf\n",
       "QAIKCgBACzQrtGfvLgAAAABJRU5ErkJggg==\n",
       "\" style=\"display:inline;vertical-align:middle;\" /></a>, <a class=\"ProveItLink\" href=\"../__pv_it/demonstrations/dca454e375a4fdb804cbe6e3b3b093b1e1eb58430/expr.ipynb\"><img src=\"data:image/png;base64,iVBORw0KGgoAAAANSUhEUgAAADIAAAAOBAMAAACfqVJUAAAAMFBMVEX///8AAAAAAAAAAAAAAAAA\n",
       "AAAAAAAAAAAAAAAAAAAAAAAAAAAAAAAAAAAAAAAAAAAv3aB7AAAAD3RSTlMAIquJdkTvuxBmmd1U\n",
       "zTKBpmoTAAAACXBIWXMAAA7EAAAOxAGVKw4bAAAAqElEQVQY02NgIBLwXMQhwbmrAYnHqOzoAGWy\n",
       "bIZIcLhoPLZhYAgTYP8BkWjeAlXBxeDksJqBI5OBawOYL7UTZsxEhvkNmgxcHxi4DUBcpjtwCx4w\n",
       "rAWSbAUM/QFoMgwMKUDc78AwnwHNNAbWjwwdDP0HGHR5BFBcwFHKlMBgwMDuwLOLC6q0ZQvY1Tz/\n",
       "uhJYDzBwqNgJ+cF9CvYQxxKHU3MwAuEiEUEIAJqZJcgWZ+RPAAAAAElFTkSuQmCC\n",
       "\" style=\"display:inline;vertical-align:middle;\" /></a> <a class=\"ProveItLink\" href=\"../__pv_it/demonstrations/ccc27c3c42684c4712d228444c32ba1bf350658f0/proof.ipynb\" style=\"text-decoration: none\">&nbsp;&#x22A2;&nbsp;&nbsp;</a><a class=\"ProveItLink\" href=\"../__pv_it/demonstrations/4e89ded2b9929e048de0b27f8025cce4efc8d73b0/expr.ipynb\"><img src=\"data:image/png;base64,iVBORw0KGgoAAAANSUhEUgAAAH8AAAAVBAMAAACd/CwcAAAAMFBMVEX///8AAAAAAAAAAAAAAAAA\n",
       "AAAAAAAAAAAAAAAAAAAAAAAAAAAAAAAAAAAAAAAAAAAv3aB7AAAAD3RSTlMAInZUiRDNmWbv3US7\n",
       "qzJazP2FAAAACXBIWXMAAA7EAAAOxAGVKw4bAAABw0lEQVQ4y3WUPUjDQBTH/zXGNP0MjoKQ1q2g\n",
       "dJC6BsSloGRRQYR2EVyEKiriYsVBcGlxElwKDt2kOBScGgUHcfGjFccOTk51qKN4lzRn27vLcEne\n",
       "++V9/N9dABjgLoEJAUi4kTTvuBHAU5Bws4M29bFCghY5VrEknJofIscKZNngAqxAwmnDyeK0pVMu\n",
       "wAEknD7saNhk0W03a1/wsozLDDuybn3up2rWZBLkZdwunVAzwUhsJd+A0WfvJbXQs2pEQzXZ+pzn\n",
       "uE3yfGtEukzdHztnIOgnPNvrSUZK0jBtHnLcFXm+gFZhtXahm1BYy5lt9xYikh2jZH9w3CWJ3EHI\n",
       "coPSWvOIW4h1WKn1Fl31GtDGfi95P0cC6A5yNeqp0lQWGmmE/0WvP/gBgHPPNMCRFnImSv3jPbKh\n",
       "sJYyL6wFhL+xzHH3JEAa74p/fuJtIgmCji+iJwEiJtSnaBlsQzNukTqVquY7osVIwZvawBjJvJTf\n",
       "1XI4zXFfRJTXpckZNp4m3bQht2U1xbZHrAJ1x5w7AceF2oJjigl3XevbyteQcMGCyMEdHcHx8rk7\n",
       "0d/H4UwRQ8atCxwCWnVkXMDkHQkBPA4h9wexGGszv4wQswAAAABJRU5ErkJggg==\n",
       "\" style=\"display:inline;vertical-align:middle;\" /></a></span>"
      ],
      "text/plain": [
       "{b in RealNeg, a in Real, x in Real, a < x} |- (a * b) > (x * b)"
      ]
     },
     "metadata": {},
     "output_type": "display_data"
    }
   ],
   "source": [
    "relations = [Less(a, x)]\n",
    "assumptions = relations + [InSet(a, Real), InSet(b, RealNeg), InSet(x, Real)]\n",
    "Mult(a, b).deduce_bound(relations, assumptions=assumptions)"
   ]
  },
  {
   "cell_type": "markdown",
   "metadata": {},
   "source": [
    "### Automation via canonical forms\n",
    "\n",
    "Two expressions that have the same canonical form can be proven to be equal via automation."
   ]
  },
  {
   "cell_type": "code",
   "execution_count": 135,
   "metadata": {},
   "outputs": [
    {
     "data": {
      "text/html": [
       "<strong id=\"defaults.assumptions\">defaults.assumptions:</strong> <a class=\"ProveItLink\" href=\"../__pv_it/demonstrations/af43846789711ce2470ca872821e2f78fa383db50/expr.ipynb\"><img src=\"data:image/png;base64,iVBORw0KGgoAAAANSUhEUgAAARwAAAAZBAMAAAARYIzUAAAAMFBMVEX///8AAAAAAAAAAAAAAAAA\n",
       "AAAAAAAAAAAAAAAAAAAAAAAAAAAAAAAAAAAAAAAAAAAv3aB7AAAAD3RSTlMAZkRUmRDNuyLviTJ2\n",
       "3asqG0tJAAAACXBIWXMAAA7EAAAOxAGVKw4bAAADB0lEQVRIx82XTWgTQRTH/012s2mS2kRQD4p6\n",
       "UdCD5qJXc/EDPLgetAiSLNhCC1a31ZpeijmIRQ8lXuzFQgqCh+JNqF40HkSltQSsnxhMEVsoPdgW\n",
       "a7EKzsx+ZCbZ3a70koHs7sz77fzfzJt5swGwGQ1SUvQSTDWKO4P0crZRvEFTkVx6nAxd2ZVPPeu8\n",
       "7IPB1uHr3cNxv9Z3QDjvBCrhSmCmT2hqG1mfqS/6EA5sU61atCvlYcUUIBWc3SlAf4polpR+s63d\n",
       "B1Pvzm0o0YpdbU06WcdpFzkgo6J1t5s7J0Ji27IPxskdKafZ1YOqlzUUxzMBeFkua7aUIrwa+Gk+\n",
       "xAbK710Yu1iMIajb7Q89rZKON3wve19wI/+eFhQiJdOti6orY7tuMVRw05lqsNo9rbE8ZsktPP+K\n",
       "7jGEO7hARK90ChKhhSkW+JuqO4PI5HaBoYLjh3PGc3h+YtndagQgS277cgqLRChXdefu1y9inDMd\n",
       "8iq9d3ow4bc4LjDQb3X/tabcknG20o23hkuAfAcSi0SIW6ajWzRx4EdU3KN3zYNpKdQwZPwJK89S\n",
       "Gc3VykazhGmygn7Qfkh5UiZFNwPRlxCljgG/6QhGCPPBhTllTFaVIYLKaTPRWTLOVubwEp2dZh0Z\n",
       "tt3b+E38SBED8RkBGnlZ92CGzW51bvzRlJkqLRlnK5sdFqxMEbuMuebdkR7rNWlHYpEvuTPyH/Oh\n",
       "xGeWk4Pm4rNkHK1sVlcxR7gkZoN0FceKnJSsP7c5OgdrOMfmddKDWSS7Q2CoYFssDhmcTJ2V21mv\n",
       "Sb/F4LTE6heqUikkFCthyyvkMoOrxoZPujNkW40JDPQbaIr3IqNxMnVW+1TO07QtL4wNTbB6ule1\n",
       "TutfOeWafSyUSXP6vjEMeW6PKxMZ3aHyDD2z+5G9nGwhh7UtU2e1s3IFzcKZtX+grDlk2SC/YgMP\n",
       "zBT/P8whrN8DPbOcT/SaEtkw40eFnujRvA/u/EYZuejHnZ3k980HV9woE/P1dfqx8b6Vg4VGccdI\n",
       "iA3zP+so8A/ychhdJXBgpAAAAABJRU5ErkJggg==\n",
       "\" style=\"display:inline;vertical-align:middle;\" /></a><br>"
      ],
      "text/plain": [
       "<IPython.core.display.HTML object>"
      ]
     },
     "metadata": {},
     "output_type": "display_data"
    }
   ],
   "source": [
    "defaults.assumptions = [InSet(a, RealNeg), InSet(b, RealNeg), InSet(c, Real), InSet(d, RealNeg)]"
   ]
  },
  {
   "cell_type": "code",
   "execution_count": 136,
   "metadata": {},
   "outputs": [
    {
     "data": {
      "text/html": [
       "<a class=\"ProveItLink\" href=\"../__pv_it/demonstrations/c2e748543e3f95b7337e8f81e20a97f09e5201950/expr.ipynb\"><img src=\"data:image/png;base64,iVBORw0KGgoAAAANSUhEUgAAAKcAAAAqBAMAAAAkFlbZAAAAMFBMVEX///8AAAAAAAAAAAAAAAAA\n",
       "AAAAAAAAAAAAAAAAAAAAAAAAAAAAAAAAAAAAAAAAAAAv3aB7AAAAD3RSTlMAIquJdkTvuxBmmd1U\n",
       "zTKBpmoTAAAACXBIWXMAAA7EAAAOxAGVKw4bAAAChElEQVRIx7VVPYgTQRT+Nj+bze7mx7MQTsSo\n",
       "aUT0AneNV2g8QbSRVBZWCv6gFqZQEIsznKCFxQaxsXIbUVaOC9poGlfstMjZqFhFLEXv1Agpchdn\n",
       "JmZnIrq7wdlXZHfy3nyz773vfQP8t00uzkO2KVXsr8gGjeWhnpANqnYR+yb9SxuIrUO+GasRgK6U\n",
       "IwB9HAGmXg2XT59YaNDb4cICRkSb3l7jK7OEDSEwswH56NAbfPUJOByGegFjl6sonJlK03EaIUC3\n",
       "BPjTNQHUIOVfDgF6HzcvCIrhvGuL3i/ngXhjXIpo5OAPfLkJ8Z8j/h7wuTY271y2cWjbgDOiO9mF\n",
       "cmVsMt9iGz27WMNUXnCT1CdDkWjE9o7WbBcwJRY1YyvzXx8GKPeOA1wPTEomApgpzrlCzHP+OjGz\n",
       "4qr9/r91aeYI+YJj+RTP9RDpUYKcYb3XBOHNdnhBT+Kab5M2u0QKtHPCeGSvE/4Z5KVVwylBLwve\n",
       "6406Fn0TfwK1DH0VRonyaI2x6TtwhzzJxh/kYQ1Y/QBewBLd9tsGXqo9rBosQGdZq1VYbCqbLHAp\n",
       "j6fsvCQllWGzARp8KAs4C80j7cDLrTmAo8eVcU9wbLXNEuO3zgv9EsqQUloHad+7w2JNt1zsNjkN\n",
       "U90M7cM6Ld6w0CUkhr3Reogtv/DTGrKtglTZbOrCuHRe0cdOXOX9dJxH3uISXtu2/y0Qb0Mr7ps4\n",
       "Kvz79g39XZitc5L2+2veYuHgx2LbL//pu38R11Zh3AHcOHs5KCSTH1fTbLRc2Xdpojeks0RLnkZO\n",
       "OijtQ10+ZvKZfMzs3B5Ekb4bAajalZ59G6mebNBcNwJQtRBB+ul6FDw97vwpKL8Am0ineyL7im8A\n",
       "AAAASUVORK5CYII=\n",
       "\" style=\"display:inline;vertical-align:middle;\" /></a>"
      ],
      "text/plain": [
       "a * sqrt(b) * 2 * d^{2} * (2 / 3) * c"
      ]
     },
     "metadata": {},
     "output_type": "display_data"
    },
    {
     "data": {
      "text/html": [
       "<a class=\"ProveItLink\" href=\"../__pv_it/demonstrations/581ea0cc48d3d3c370a17afc864e53aa0f5050140/expr.ipynb\"><img src=\"data:image/png;base64,iVBORw0KGgoAAAANSUhEUgAAAIwAAAAqBAMAAACTq67+AAAAMFBMVEX///8AAAAAAAAAAAAAAAAA\n",
       "AAAAAAAAAAAAAAAAAAAAAAAAAAAAAAAAAAAAAAAAAAAv3aB7AAAAD3RSTlMAMpndq3ZmzYkiRO+7\n",
       "EFRAb64nAAAACXBIWXMAAA7EAAAOxAGVKw4bAAACE0lEQVRIx2NgYGAQYqAKMKGKKazUMUashCrG\n",
       "NFDFGNYJVDFmGgNVjGmgijFsE6hizFQGbMZI/AeCDyQYs8TF5bcHhuhBDBHeDpcL+E3agiHCeABD\n",
       "iImByQC/MX8wRFgWYAjxL+D8iNcUnf+u6ELTsUTFBQLGYAFaDLynUbwgvomBgcOARFN4CxgY2BVQ\n",
       "hP4xMAhfINEYpgfAsHiALML1l4HzLKl+ugzE61HsBnpoEsNMEo1pA+JmFBF2Bc6DgrrEm8AHimpQ\n",
       "WJaE+sEFp7TKP+BGSdVTWqciOTU0Ed2YaGDosgYAQ/n7hfsTYAGzk+E8avCiiHDaMeigJ98bwMTB\n",
       "DHLVXwbuAKjg7QQGdVRlQBFlOIe5gWErw39YJuT9Do7rLwwMqaDIKmDgb2BguA90HIM+A4MFPC2A\n",
       "VUFFoBxUlxqBSf0JDLYQK9YDo5wZlHr2MPD+QlUFE4FysID5CnwNDOBkA7OF9ysDG2qZgSIC5GAB\n",
       "PH/ZQdr5BXi3wdT9Y2ApeIliDIrIN2CQYxjD9fUROI8n8MBzw1GGxwqoWQNFBBhNjZjOqa4EW+ih\n",
       "Bhe5EiHpKoCiBkWEoy0V6P4ZTadQlLx3IKcs5lVgeI+SC9knkFXb/YMkDgoB1y4GfioYAwqNBGqY\n",
       "wmVGDVMYQxyp09pCjSmyAfdfKvhJgIHnH+XG8P+lijHcDlTxFFsCddLNIqVTlBsCALfHjNxNM2Pn\n",
       "AAAAAElFTkSuQmCC\n",
       "\" style=\"display:inline;vertical-align:middle;\" /></a>"
      ],
      "text/plain": [
       "(4 / 3) * sqrt(b) * d^{2} * a * c"
      ]
     },
     "metadata": {},
     "output_type": "display_data"
    }
   ],
   "source": [
    "expr1 = Mult(a, sqrt(b), two, sqrd(d), frac(two, three), c)\n",
    "display(expr1)\n",
    "expr1.canonical_form()"
   ]
  },
  {
   "cell_type": "code",
   "execution_count": 137,
   "metadata": {},
   "outputs": [
    {
     "data": {
      "text/html": [
       "<a class=\"ProveItLink\" href=\"../__pv_it/demonstrations/55f88dec1f4e07c66d0514b2c3898a045d2df7920/expr.ipynb\"><img src=\"data:image/png;base64,iVBORw0KGgoAAAANSUhEUgAAAKUAAAA1BAMAAADSYzaqAAAAMFBMVEX///8AAAAAAAAAAAAAAAAA\n",
       "AAAAAAAAAAAAAAAAAAAAAAAAAAAAAAAAAAAAAAAAAAAv3aB7AAAAD3RSTlMAMs3vmVREEIndIqt2\n",
       "u2aBbGR5AAAACXBIWXMAAA7EAAAOxAGVKw4bAAACbElEQVRYw2NgIAOwP2KgOpA5SX0zGSIHxExG\n",
       "ZQcoq9YSRdyBSDOFTDCV8AfAWCrIwpwbiHXnV0wl+QVYJU8Saybbd0wlnVglGR8RaybHBEwlKlgl\n",
       "OZiINZMJPeC5dhyE+5hpz2l40DKcQjZzdc8aBGeFfg8DspQ8QhPHmYdAMnkBL9zH9ersv+B2PUAy\n",
       "k82K4X4BdjejSHFNZfAF5jM7BhYFmFB8AYMN3EYGJDOLHzB44ggHoJQTIqk0gAxg+QBiAJ0IMhgo\n",
       "+QPGfgUxk/0TSK0/A8MMOAcOwOpQpPzBLma+wFCfALIBFM4zGNi+QtlcB6DunAIibBnYv8E5/P+B\n",
       "gAGmB0XKFmLXAYb3SGmXBRa2bLt377dugBVEfxj4PuAoo5ClgBywmQEMm1gXQMU+gkIHDpjh4cn+\n",
       "lYFbIQq7mShS/4COYWDgPcA6hQUmtI/hCnKWvQBn3mGIdEAkwnUxGxmwSwEjvRFoz57G1QdhQtUt\n",
       "SM5kuf/7AFzihNQeAbjMDobDCGUoUhx9bwrIK+oEEbmZimAe9Y08dID6ZrLfoYHf5QWo7UpDhvUP\n",
       "qO3K6QyPC6htpsSZXQzDAfynOvjAMAqIAYw0CCxeAeq7U5YGft9GfSO5FKhvJksC++UJVDazCEv7\n",
       "jVLgityeplJBPAG5PU0dwPGAgao1cBiovQXE2me2UstIHiMgcQbUHCyoX0AlM8X7gbkSGJys3xmY\n",
       "qVax129g4AMaBmxP8zdQLbn/YuAsADes86mWmri+MERAunv+1EtN9wvUQWYKADsUVAP5R0G5kvsB\n",
       "LxUzJ5MRKA2x7/CjYqJn/U2D8liLFMUAomr1Pr39QbgAAAAASUVORK5CYII=\n",
       "\" style=\"display:inline;vertical-align:middle;\" /></a>"
      ],
      "text/plain": [
       "(d * b * 4 * a * (1 / 3) * d * c) / sqrt(b)"
      ]
     },
     "metadata": {},
     "output_type": "display_data"
    },
    {
     "data": {
      "text/html": [
       "<a class=\"ProveItLink\" href=\"../__pv_it/demonstrations/581ea0cc48d3d3c370a17afc864e53aa0f5050140/expr.ipynb\"><img src=\"data:image/png;base64,iVBORw0KGgoAAAANSUhEUgAAAIwAAAAqBAMAAACTq67+AAAAMFBMVEX///8AAAAAAAAAAAAAAAAA\n",
       "AAAAAAAAAAAAAAAAAAAAAAAAAAAAAAAAAAAAAAAAAAAv3aB7AAAAD3RSTlMAMpndq3ZmzYkiRO+7\n",
       "EFRAb64nAAAACXBIWXMAAA7EAAAOxAGVKw4bAAACE0lEQVRIx2NgYGAQYqAKMKGKKazUMUashCrG\n",
       "NFDFGNYJVDFmGgNVjGmgijFsE6hizFQGbMZI/AeCDyQYs8TF5bcHhuhBDBHeDpcL+E3agiHCeABD\n",
       "iImByQC/MX8wRFgWYAjxL+D8iNcUnf+u6ELTsUTFBQLGYAFaDLynUbwgvomBgcOARFN4CxgY2BVQ\n",
       "hP4xMAhfINEYpgfAsHiALML1l4HzLKl+ugzE61HsBnpoEsNMEo1pA+JmFBF2Bc6DgrrEm8AHimpQ\n",
       "WJaE+sEFp7TKP+BGSdVTWqciOTU0Ed2YaGDosgYAQ/n7hfsTYAGzk+E8avCiiHDaMeigJ98bwMTB\n",
       "DHLVXwbuAKjg7QQGdVRlQBFlOIe5gWErw39YJuT9Do7rLwwMqaDIKmDgb2BguA90HIM+A4MFPC2A\n",
       "VUFFoBxUlxqBSf0JDLYQK9YDo5wZlHr2MPD+QlUFE4FysID5CnwNDOBkA7OF9ysDG2qZgSIC5GAB\n",
       "PH/ZQdr5BXi3wdT9Y2ApeIliDIrIN2CQYxjD9fUROI8n8MBzw1GGxwqoWQNFBBhNjZjOqa4EW+ih\n",
       "Bhe5EiHpKoCiBkWEoy0V6P4ZTadQlLx3IKcs5lVgeI+SC9knkFXb/YMkDgoB1y4GfioYAwqNBGqY\n",
       "wmVGDVMYQxyp09pCjSmyAfdfKvhJgIHnH+XG8P+lijHcDlTxFFsCddLNIqVTlBsCALfHjNxNM2Pn\n",
       "AAAAAElFTkSuQmCC\n",
       "\" style=\"display:inline;vertical-align:middle;\" /></a>"
      ],
      "text/plain": [
       "(4 / 3) * sqrt(b) * d^{2} * a * c"
      ]
     },
     "metadata": {},
     "output_type": "display_data"
    }
   ],
   "source": [
    "expr2 = frac(Mult(d, b, four, a, frac(one, three), d, c), sqrt(b))\n",
    "display(expr2)\n",
    "expr2.canonical_form()"
   ]
  },
  {
   "cell_type": "code",
   "execution_count": 138,
   "metadata": {},
   "outputs": [
    {
     "data": {
      "text/html": [
       "<span style=\"font-size:20px;\"><a class=\"ProveItLink\" href=\"../__pv_it/demonstrations/9c6c52ba5891078b8630ed0cff8bb5268ec7f9270/expr.ipynb\"><img src=\"data:image/png;base64,iVBORw0KGgoAAAANSUhEUgAAAD8AAAAQBAMAAABTi7oPAAAAMFBMVEX///8AAAAAAAAAAAAAAAAA\n",
       "AAAAAAAAAAAAAAAAAAAAAAAAAAAAAAAAAAAAAAAAAAAv3aB7AAAAD3RSTlMAMs3vmVREEIndIqt2\n",
       "u2aBbGR5AAAACXBIWXMAAA7EAAAOxAGVKw4bAAAA6ElEQVQoz2NgwACPbO9r2j5AFmFUdkBRcWE1\n",
       "Q/bbAmQR/gBUBSsYeBk3MMjeBYIFYJH8AnQFLAsUkEU6IdTZmTMV4AouICtQAZNJxxEmcJdvgMty\n",
       "7Tj4FUyrI1khG7QAriB5Ae93EM0EF7qwWPPncbg8ux0DC9hmJiRHvitC2M/ygYGzAcQQngkEFyAK\n",
       "eOsQAcV8gaE+AcSoRTKB0eE6nFd/gOE9mMGJHA6OaxEKAhg2sYLcx3MASUEtD9wO3gOsU1jALFW4\n",
       "giUMfA+uwX2xp3H1QTCr+loBLDZvMdzVD8CM54ybMxUwBAFR3E8MfkUKVQAAAABJRU5ErkJggg==\n",
       "\" style=\"display:inline;vertical-align:middle;\" /></a>, <a class=\"ProveItLink\" href=\"../__pv_it/theorems/885cc228aa47f4d61d07e1691f08d60a4b0eb17d0/expr.ipynb\"><img src=\"data:image/png;base64,iVBORw0KGgoAAAANSUhEUgAAAD0AAAAQBAMAAABXfmoyAAAAMFBMVEX///8AAAAAAAAAAAAAAAAA\n",
       "AAAAAAAAAAAAAAAAAAAAAAAAAAAAAAAAAAAAAAAAAAAv3aB7AAAAD3RSTlMAELvv3c2ZVESJq3Yi\n",
       "MmZ3LnoBAAAACXBIWXMAAA7EAAAOxAGVKw4bAAAA3klEQVQY02NgQAdPjfRDjB7AuYzKDmgKFE4x\n",
       "dD0SgHNZE9DlTzIw8S5guKQEBAcYGPgLMOXZDgTAuf0woza5uATA5RXg8lOgdOtGhH4uwQVw+ajd\n",
       "y0EUTyCS+ZdKD8Dd/1VAHsRhhYsoHA75shGunf0jA/MGkDyS+96JIlzLFsDAPwFIX3YBAgWIPJMc\n",
       "InxYJjD0g3wohKSfN0ERzgN6Px/kQxZk/+ceQshfYLQD0dwbkOSFuOEWcD1gggRwOFz+GAPfAw24\n",
       "/1bmQRhSGgKw+NNhUIovwIjYThWXAAxBAA29OSA7wr9HAAAAAElFTkSuQmCC\n",
       "\" style=\"display:inline;vertical-align:middle;\" /></a>, <a class=\"ProveItLink\" href=\"../__pv_it/theorems/d70a380bc05b43e909cb7708fe500d703d016a270/expr.ipynb\"><img src=\"data:image/png;base64,iVBORw0KGgoAAAANSUhEUgAAAD8AAAAQBAMAAABTi7oPAAAAMFBMVEX///8AAAAAAAAAAAAAAAAA\n",
       "AAAAAAAAAAAAAAAAAAAAAAAAAAAAAAAAAAAAAAAAAAAv3aB7AAAAD3RSTlMAIquJdkTvuxBmmd1U\n",
       "zTKBpmoTAAAACXBIWXMAAA7EAAAOxAGVKw4bAAAA00lEQVQoz2NgwABz0+tvp09gwAMKhBiCpjfg\n",
       "UyDMwM6nwPC8HAgEcCjgEriARcJ99+4LcAUFmPKxHggTmDoU4OKMyo4OYPoGkhXPzyIsDxNg/wGi\n",
       "eeFCBWK3f3vA5TkyGbg2gBUgOXJmL8Jmrg8M3AYgxrPdQFAAUcDeiQgotgKG/gAQox3JBL4FFXBe\n",
       "vwPDfDCDGzkc1okjFBxg0OUBuY/FAUlBOwvcDnYHnl1cYNYduAIpBs4JpXBfqNgJ+YFZTaUNsNgs\n",
       "ZCi/fwAzKIOrd2PGAACVlzd6VBBKDQAAAABJRU5ErkJggg==\n",
       "\" style=\"display:inline;vertical-align:middle;\" /></a>, <a class=\"ProveItLink\" href=\"../__pv_it/demonstrations/d550e8309ef79ca46e4c9fb5617a392ea678789b0/expr.ipynb\"><img src=\"data:image/png;base64,iVBORw0KGgoAAAANSUhEUgAAADEAAAAQBAMAAABNQoq8AAAAMFBMVEX///8AAAAAAAAAAAAAAAAA\n",
       "AAAAAAAAAAAAAAAAAAAAAAAAAAAAAAAAAAAAAAAAAAAv3aB7AAAAD3RSTlMAiXZmMiLdVJm77xBE\n",
       "zatgdeJyAAAACXBIWXMAAA7EAAAOxAGVKw4bAAAAvUlEQVQY02NgQAe2K+dfW2nAgA1MiGM4Z7kB\n",
       "q0wgAyfLAxwyHAEXkEU009IuwGUmIEmc1Ubo4dsNNk1I2QFIst5GMs2zNgDICCvgAGnlDYDLRF37\n",
       "BtafyMClAJJBcoHxXhDN8RvC90oDggkQGc7NIJ9yQV2xE0kPS8NsIL1fAcJnQ/ZPSySQ5gdqPACk\n",
       "mRSQZHYyAUWBDmMEuZrhOlwmgoHZYA6QIWgM8eK+ORtgYT2VYeb9AqRAODgtDTm0ALktNaaWdOV1\n",
       "AAAAAElFTkSuQmCC\n",
       "\" style=\"display:inline;vertical-align:middle;\" /></a> <a class=\"ProveItLink\" href=\"../__pv_it/demonstrations/6d057ccfbe7e3046acd5f9a3d93f19faf99b425a0/proof.ipynb\" style=\"text-decoration: none\">&nbsp;&#x22A2;&nbsp;&nbsp;</a><a class=\"ProveItLink\" href=\"../__pv_it/demonstrations/83b6a9f016fac4ebb51b57d9a90d3e38563b677f0/expr.ipynb\"><img src=\"data:image/png;base64,iVBORw0KGgoAAAANSUhEUgAAAYQAAAA1BAMAAACzcoGEAAAAMFBMVEX///8AAAAAAAAAAAAAAAAA\n",
       "AAAAAAAAAAAAAAAAAAAAAAAAAAAAAAAAAAAAAAAAAAAv3aB7AAAAD3RSTlMAuzKrZonNIu/ddhCZ\n",
       "VERetuGgAAAACXBIWXMAAA7EAAAOxAGVKw4bAAAFuElEQVRo3tVaW4gbVRj+c50kkxv7pFVoXFCx\n",
       "PqS4rtUFzaKllr5sKN0HFyERHxRWMVIvVArdutpVEQy0Pki3NF7bbpGNFIuCkBSkWIxuXkQrYvIk\n",
       "9WmXbd2FjTGemcycOTNzzsxkchLYHzabOZf/nP/8t+/MH4BtQOI+2O6068K2FwGu247wpAaw7Ffl\n",
       "YYrw4CBOznua1XPP+1jMd3Uzqg5F0Bio5MsOWftt/O0Fsjm82ymrtnEAD38Xas8YrTHA2lG8Rd/L\n",
       "BaciEAyU1Rc4iPAyBP4ztp1ijA0UqXvx7nMqgsZA1V+Jgwh7AN4xtv3GcOhglbqXQNCpCEGj0+zn\n",
       "YfgflCFTAJuVZDo8k67jEROf4u9wjhBBGD9HHOyrL80wGMDMZ5L9vs1DhEcAMkZniG/SHGEBdmLt\n",
       "VGZFPEaYJES4UfC0WJ5EMjhSjyYBIi1OEeisqeVZyqhvJuEqfmiU4T1sR6CJIL4F0SJjGR2DDyFU\n",
       "sgplPeaBLVNTg+IMK9K6kgLy6APt5R/1+5NdEcQN9BFdg3BWfdCg0gbBoDuue/xpTqmZchQVSqA4\n",
       "DqIcusJV+RDjbeW7UFK0sIj+QkmoNNUHSHQQ4SeVgTJOooeZxyrNXHMswhUKcDEbg7gF/jUiLURV\n",
       "M46PjWXms5rsUyzUSjJQzmjeJXISp8dIO/FT7NFv9mexDb78r+rTumTZmEKYRaUOD8UK9GVJBgk0\n",
       "uwneW6w93mV96lG9x/0CgmlNkcJ7B1yvVjVwdifRlUji0yvFFqNaxyu/P0BngMJRIAWRTdYeH7MW\n",
       "IdEU1gmry0LE7LwUDV/6/N4JrN5LTxNKiO68qfqOOHHw8CdazzicZzCY3nsRCTzHQj15axH8ZVKE\n",
       "I7XaNfOY2/lEilF4yqo7lGQZStOOMwkPznY6G+YROV6o95RVZ4UF0i+DeBuxx6NXR4yQ/T7bS81U\n",
       "k48EX1jCuDSr9ycdyBGSkGvqIbtwh+3S6RIfEcQdVr2NOmMW0kBC6/MVIDSnh+xH4XW7pZkq7pUs\n",
       "8+8UozOAYsWqZimhFvg2dX4gjIz+aLdyggt4Ed+EY5MW/cuUDPKnlPTRHxEHfEXwreuAdMhB6k4k\n",
       "uejgNOy3crtcWQHhb+CmyAn0sSQhzaVHSRC0RofsVB0uPS7rLs9FhLuX9lh1r5RNIPz+HDKuogQG\n",
       "y5UCzTd1o6k55UwXMoW7Ie3aRxKdHNRbpowKwonMVNkNfrTfWEtG4yqdpEN2KmrNdu8B4blhvCjL\n",
       "gBGEo6y2CWF0ytE8JLJaYxLDfBXzayBexsMdDdMrOjKL0B3IlZTVSBCO7OBfhNrks1yt48YnAMN8\n",
       "dTRoU/SPx1VtFIehhVzBhOIBWfosyGlhBZt8LIvTgHE0DdMroTg/DF9YTplQPEoIX0qHnUihOyyO\n",
       "CgAXqZifRghkx/U3gEFSN7XpUDyK+ick3fgmPbhNWKzVilTMz7jBHZQtv5/snFbvm3bUaJpAOLKa\n",
       "m/Jpj3+vxRjELk+F7NS0cOiAbIGVft7WjjiWlZq6n+t1PWH6SpMvzPM6zux96Vqj7yDWdo4hnZDP\n",
       "MVAP88EAy3VxwxkAc0qvOReWTwK90YQNVt50Rz8bCigWV2Be7yNjt2jvvdwj7LyhgGLhNW1OIvxt\n",
       "jgvClnt20TqlmMOgeT4S7BpLOXkV5pi+pRRzWPQDL0Myn5mvD4h0iFLMYdEqp7cMUpXEGLDdpYWY\n",
       "tKOioYBiGVW5JIZRhA1N6025Kz2fR54cKekLKEMISZ0yRQR32NT79Xr36k4WUKyJS6FqnmJIcZfe\n",
       "LCKEdgBwAcUJVuXxS4O9lLzgcQu1Vwog/XRAKaA4oCCP4n+8ZoZ5q27P5lg1Ju2JKKDY2d4CDIbO\n",
       "uJ3oaQUl6fUFFEv6eDASBFxf2eJbf0j/9AUUa6Q3mJ+R/OV+6vPyfUVXQLGhFwchgXfW/dxGzwr0\n",
       "pAYgwuU+Al2wl3vG/8k5900NWCPoAAAAAElFTkSuQmCC\n",
       "\" style=\"display:inline;vertical-align:middle;\" /></a></span>"
      ],
      "text/plain": [
       "{d in RealNeg, b in RealNeg, a in RealNeg, c in Real} |- (a * sqrt(b) * 2 * d^{2} * (2 / 3) * c) = ((d * b * 4 * a * (1 / 3) * d * c) / sqrt(b))"
      ]
     },
     "metadata": {},
     "output_type": "display_data"
    }
   ],
   "source": [
    "Equals(expr1, expr2).prove()"
   ]
  },
  {
   "cell_type": "code",
   "execution_count": 139,
   "metadata": {},
   "outputs": [
    {
     "data": {
      "text/html": [
       "<span style=\"font-size:20px;\"><a class=\"ProveItLink\" href=\"../__pv_it/theorems/d70a380bc05b43e909cb7708fe500d703d016a270/expr.ipynb\"><img src=\"data:image/png;base64,iVBORw0KGgoAAAANSUhEUgAAAD8AAAAQBAMAAABTi7oPAAAAMFBMVEX///8AAAAAAAAAAAAAAAAA\n",
       "AAAAAAAAAAAAAAAAAAAAAAAAAAAAAAAAAAAAAAAAAAAv3aB7AAAAD3RSTlMAIquJdkTvuxBmmd1U\n",
       "zTKBpmoTAAAACXBIWXMAAA7EAAAOxAGVKw4bAAAA00lEQVQoz2NgwABz0+tvp09gwAMKhBiCpjfg\n",
       "UyDMwM6nwPC8HAgEcCjgEriARcJ99+4LcAUFmPKxHggTmDoU4OKMyo4OYPoGkhXPzyIsDxNg/wGi\n",
       "eeFCBWK3f3vA5TkyGbg2gBUgOXJmL8Jmrg8M3AYgxrPdQFAAUcDeiQgotgKG/gAQox3JBL4FFXBe\n",
       "vwPDfDCDGzkc1okjFBxg0OUBuY/FAUlBOwvcDnYHnl1cYNYduAIpBs4JpXBfqNgJ+YFZTaUNsNgs\n",
       "ZCi/fwAzKIOrd2PGAACVlzd6VBBKDQAAAABJRU5ErkJggg==\n",
       "\" style=\"display:inline;vertical-align:middle;\" /></a>, <a class=\"ProveItLink\" href=\"../__pv_it/theorems/885cc228aa47f4d61d07e1691f08d60a4b0eb17d0/expr.ipynb\"><img src=\"data:image/png;base64,iVBORw0KGgoAAAANSUhEUgAAAD0AAAAQBAMAAABXfmoyAAAAMFBMVEX///8AAAAAAAAAAAAAAAAA\n",
       "AAAAAAAAAAAAAAAAAAAAAAAAAAAAAAAAAAAAAAAAAAAv3aB7AAAAD3RSTlMAELvv3c2ZVESJq3Yi\n",
       "MmZ3LnoBAAAACXBIWXMAAA7EAAAOxAGVKw4bAAAA3klEQVQY02NgQAdPjfRDjB7AuYzKDmgKFE4x\n",
       "dD0SgHNZE9DlTzIw8S5guKQEBAcYGPgLMOXZDgTAuf0woza5uATA5RXg8lOgdOtGhH4uwQVw+ajd\n",
       "y0EUTyCS+ZdKD8Dd/1VAHsRhhYsoHA75shGunf0jA/MGkDyS+96JIlzLFsDAPwFIX3YBAgWIPJMc\n",
       "InxYJjD0g3wohKSfN0ERzgN6Px/kQxZk/+ceQshfYLQD0dwbkOSFuOEWcD1gggRwOFz+GAPfAw24\n",
       "/1bmQRhSGgKw+NNhUIovwIjYThWXAAxBAA29OSA7wr9HAAAAAElFTkSuQmCC\n",
       "\" style=\"display:inline;vertical-align:middle;\" /></a>, <a class=\"ProveItLink\" href=\"../__pv_it/demonstrations/9c6c52ba5891078b8630ed0cff8bb5268ec7f9270/expr.ipynb\"><img src=\"data:image/png;base64,iVBORw0KGgoAAAANSUhEUgAAAD8AAAAQBAMAAABTi7oPAAAAMFBMVEX///8AAAAAAAAAAAAAAAAA\n",
       "AAAAAAAAAAAAAAAAAAAAAAAAAAAAAAAAAAAAAAAAAAAv3aB7AAAAD3RSTlMAMs3vmVREEIndIqt2\n",
       "u2aBbGR5AAAACXBIWXMAAA7EAAAOxAGVKw4bAAAA6ElEQVQoz2NgwACPbO9r2j5AFmFUdkBRcWE1\n",
       "Q/bbAmQR/gBUBSsYeBk3MMjeBYIFYJH8AnQFLAsUkEU6IdTZmTMV4AouICtQAZNJxxEmcJdvgMty\n",
       "7Tj4FUyrI1khG7QAriB5Ae93EM0EF7qwWPPncbg8ux0DC9hmJiRHvitC2M/ygYGzAcQQngkEFyAK\n",
       "eOsQAcV8gaE+AcSoRTKB0eE6nFd/gOE9mMGJHA6OaxEKAhg2sYLcx3MASUEtD9wO3gOsU1jALFW4\n",
       "giUMfA+uwX2xp3H1QTCr+loBLDZvMdzVD8CM54ybMxUwBAFR3E8MfkUKVQAAAABJRU5ErkJggg==\n",
       "\" style=\"display:inline;vertical-align:middle;\" /></a>, <a class=\"ProveItLink\" href=\"../__pv_it/demonstrations/d550e8309ef79ca46e4c9fb5617a392ea678789b0/expr.ipynb\"><img src=\"data:image/png;base64,iVBORw0KGgoAAAANSUhEUgAAADEAAAAQBAMAAABNQoq8AAAAMFBMVEX///8AAAAAAAAAAAAAAAAA\n",
       "AAAAAAAAAAAAAAAAAAAAAAAAAAAAAAAAAAAAAAAAAAAv3aB7AAAAD3RSTlMAiXZmMiLdVJm77xBE\n",
       "zatgdeJyAAAACXBIWXMAAA7EAAAOxAGVKw4bAAAAvUlEQVQY02NgQAe2K+dfW2nAgA1MiGM4Z7kB\n",
       "q0wgAyfLAxwyHAEXkEU009IuwGUmIEmc1Ubo4dsNNk1I2QFIst5GMs2zNgDICCvgAGnlDYDLRF37\n",
       "BtafyMClAJJBcoHxXhDN8RvC90oDggkQGc7NIJ9yQV2xE0kPS8NsIL1fAcJnQ/ZPSySQ5gdqPACk\n",
       "mRSQZHYyAUWBDmMEuZrhOlwmgoHZYA6QIWgM8eK+ORtgYT2VYeb9AqRAODgtDTm0ALktNaaWdOV1\n",
       "AAAAAElFTkSuQmCC\n",
       "\" style=\"display:inline;vertical-align:middle;\" /></a> <a class=\"ProveItLink\" href=\"../__pv_it/demonstrations/3421ee71734effd66e3b8e7314036bcc5c1325ac0/proof.ipynb\" style=\"text-decoration: none\">&nbsp;&#x22A2;&nbsp;&nbsp;</a><a class=\"ProveItLink\" href=\"../__pv_it/demonstrations/1ed7f58ab8e3499a0aee392a45b2b7e5d10a46e20/expr.ipynb\"><img src=\"data:image/png;base64,iVBORw0KGgoAAAANSUhEUgAAAOEAAAAVBAMAAABCnpRGAAAAMFBMVEX///8AAAAAAAAAAAAAAAAA\n",
       "AAAAAAAAAAAAAAAAAAAAAAAAAAAAAAAAAAAAAAAAAAAv3aB7AAAAD3RSTlMAInZUiRDNmWbv3US7\n",
       "qzJazP2FAAAACXBIWXMAAA7EAAAOxAGVKw4bAAACSUlEQVRIx5WUPWjbUBDHz5ZV+dumY8DgpC1k\n",
       "MgqUDJ1MyBRI8VQIpMhLSDoUNJRisthbu9mZWkgHQwKBQoPplimqt0wpicmsLhmyxMQ4S5bek6yP\n",
       "d3oKeTfIfnfv9z/dvXsCgDI83UR7E7J8Upcgfgt8L2T517xPPeuHl8UPZniZ7ERElDp7Xn8T88QY\n",
       "rzaJ8xmXAkp8C7YiIu/cn0kMTwx5jb41SXHa4JZfIhot55mbxvDEkM9QH0mxxkczDbq/5zxT/Rge\n",
       "Ivwy9ZEU26TntCVKk/Ry7dHRQf4Tm+/RfNX3fVy4DAZ/VJsEu1cWbUj9JRIaG5zKyq0u4h3E12JJ\n",
       "kN/BxUk57x+Det8w/FsXDsCcrlmQdkra/cnsl1d0bg/OGyLeQTgt5A9w03fQ/GNQppDxCmaBYJQP\n",
       "WUDpkRqzWNxGBz6LeBcJtDAJ8vvYmDFk687rsS41oVT3/s8CBkurOdUWx3QUBgBtpi3ip7OyAy3k\n",
       "MWPGAmPAQkfsnetwqs/+e4Gs6S7YLegJMv4A9SGGB+C1kMeuGlXohq9j2zsTLmA4/VH65Byxq+od\n",
       "pMcxfBjvuvwQFzpcKd5pl2zsuLeLC+CIDCBtkRrzVVAnUGguCXgX4bSQX2eQcqR5uwqdvBmohQI4\n",
       "dSnbvQxhY9dlCG9MU8C7CKeF/A2e7MXbSs2/HaNW8FUPB2D16yts4oBkLGKb37/8d2ELeBfhtJDP\n",
       "2iBjcxHPsSyfNqWIlujbLMn/kQESVsSVL8vymzIZBfKqJcsnqhLEvMD3XI7/D5GkpUGCEpi+AAAA\n",
       "AElFTkSuQmCC\n",
       "\" style=\"display:inline;vertical-align:middle;\" /></a></span>"
      ],
      "text/plain": [
       "{a in RealNeg, b in RealNeg, d in RealNeg, c in Real} |- (a * b * d * c) = (d * b * c * a)"
      ]
     },
     "metadata": {},
     "output_type": "display_data"
    }
   ],
   "source": [
    "Equals(Mult(a, b, d, c), Mult(d, b, c, a)).prove()"
   ]
  },
  {
   "cell_type": "code",
   "execution_count": 140,
   "metadata": {},
   "outputs": [
    {
     "data": {
      "text/html": [
       "<span style=\"font-size:20px;\"><a class=\"ProveItLink\" href=\"../__pv_it/demonstrations/9c6c52ba5891078b8630ed0cff8bb5268ec7f9270/expr.ipynb\"><img src=\"data:image/png;base64,iVBORw0KGgoAAAANSUhEUgAAAD8AAAAQBAMAAABTi7oPAAAAMFBMVEX///8AAAAAAAAAAAAAAAAA\n",
       "AAAAAAAAAAAAAAAAAAAAAAAAAAAAAAAAAAAAAAAAAAAv3aB7AAAAD3RSTlMAMs3vmVREEIndIqt2\n",
       "u2aBbGR5AAAACXBIWXMAAA7EAAAOxAGVKw4bAAAA6ElEQVQoz2NgwACPbO9r2j5AFmFUdkBRcWE1\n",
       "Q/bbAmQR/gBUBSsYeBk3MMjeBYIFYJH8AnQFLAsUkEU6IdTZmTMV4AouICtQAZNJxxEmcJdvgMty\n",
       "7Tj4FUyrI1khG7QAriB5Ae93EM0EF7qwWPPncbg8ux0DC9hmJiRHvitC2M/ygYGzAcQQngkEFyAK\n",
       "eOsQAcV8gaE+AcSoRTKB0eE6nFd/gOE9mMGJHA6OaxEKAhg2sYLcx3MASUEtD9wO3gOsU1jALFW4\n",
       "giUMfA+uwX2xp3H1QTCr+loBLDZvMdzVD8CM54ybMxUwBAFR3E8MfkUKVQAAAABJRU5ErkJggg==\n",
       "\" style=\"display:inline;vertical-align:middle;\" /></a>, <a class=\"ProveItLink\" href=\"../__pv_it/theorems/885cc228aa47f4d61d07e1691f08d60a4b0eb17d0/expr.ipynb\"><img src=\"data:image/png;base64,iVBORw0KGgoAAAANSUhEUgAAAD0AAAAQBAMAAABXfmoyAAAAMFBMVEX///8AAAAAAAAAAAAAAAAA\n",
       "AAAAAAAAAAAAAAAAAAAAAAAAAAAAAAAAAAAAAAAAAAAv3aB7AAAAD3RSTlMAELvv3c2ZVESJq3Yi\n",
       "MmZ3LnoBAAAACXBIWXMAAA7EAAAOxAGVKw4bAAAA3klEQVQY02NgQAdPjfRDjB7AuYzKDmgKFE4x\n",
       "dD0SgHNZE9DlTzIw8S5guKQEBAcYGPgLMOXZDgTAuf0woza5uATA5RXg8lOgdOtGhH4uwQVw+ajd\n",
       "y0EUTyCS+ZdKD8Dd/1VAHsRhhYsoHA75shGunf0jA/MGkDyS+96JIlzLFsDAPwFIX3YBAgWIPJMc\n",
       "InxYJjD0g3wohKSfN0ERzgN6Px/kQxZk/+ceQshfYLQD0dwbkOSFuOEWcD1gggRwOFz+GAPfAw24\n",
       "/1bmQRhSGgKw+NNhUIovwIjYThWXAAxBAA29OSA7wr9HAAAAAElFTkSuQmCC\n",
       "\" style=\"display:inline;vertical-align:middle;\" /></a>, <a class=\"ProveItLink\" href=\"../__pv_it/theorems/d70a380bc05b43e909cb7708fe500d703d016a270/expr.ipynb\"><img src=\"data:image/png;base64,iVBORw0KGgoAAAANSUhEUgAAAD8AAAAQBAMAAABTi7oPAAAAMFBMVEX///8AAAAAAAAAAAAAAAAA\n",
       "AAAAAAAAAAAAAAAAAAAAAAAAAAAAAAAAAAAAAAAAAAAv3aB7AAAAD3RSTlMAIquJdkTvuxBmmd1U\n",
       "zTKBpmoTAAAACXBIWXMAAA7EAAAOxAGVKw4bAAAA00lEQVQoz2NgwABz0+tvp09gwAMKhBiCpjfg\n",
       "UyDMwM6nwPC8HAgEcCjgEriARcJ99+4LcAUFmPKxHggTmDoU4OKMyo4OYPoGkhXPzyIsDxNg/wGi\n",
       "eeFCBWK3f3vA5TkyGbg2gBUgOXJmL8Jmrg8M3AYgxrPdQFAAUcDeiQgotgKG/gAQox3JBL4FFXBe\n",
       "vwPDfDCDGzkc1okjFBxg0OUBuY/FAUlBOwvcDnYHnl1cYNYduAIpBs4JpXBfqNgJ+YFZTaUNsNgs\n",
       "ZCi/fwAzKIOrd2PGAACVlzd6VBBKDQAAAABJRU5ErkJggg==\n",
       "\" style=\"display:inline;vertical-align:middle;\" /></a>, <a class=\"ProveItLink\" href=\"../__pv_it/demonstrations/d550e8309ef79ca46e4c9fb5617a392ea678789b0/expr.ipynb\"><img src=\"data:image/png;base64,iVBORw0KGgoAAAANSUhEUgAAADEAAAAQBAMAAABNQoq8AAAAMFBMVEX///8AAAAAAAAAAAAAAAAA\n",
       "AAAAAAAAAAAAAAAAAAAAAAAAAAAAAAAAAAAAAAAAAAAv3aB7AAAAD3RSTlMAiXZmMiLdVJm77xBE\n",
       "zatgdeJyAAAACXBIWXMAAA7EAAAOxAGVKw4bAAAAvUlEQVQY02NgQAe2K+dfW2nAgA1MiGM4Z7kB\n",
       "q0wgAyfLAxwyHAEXkEU009IuwGUmIEmc1Ubo4dsNNk1I2QFIst5GMs2zNgDICCvgAGnlDYDLRF37\n",
       "BtafyMClAJJBcoHxXhDN8RvC90oDggkQGc7NIJ9yQV2xE0kPS8NsIL1fAcJnQ/ZPSySQ5gdqPACk\n",
       "mRSQZHYyAUWBDmMEuZrhOlwmgoHZYA6QIWgM8eK+ORtgYT2VYeb9AqRAODgtDTm0ALktNaaWdOV1\n",
       "AAAAAElFTkSuQmCC\n",
       "\" style=\"display:inline;vertical-align:middle;\" /></a> <a class=\"ProveItLink\" href=\"../__pv_it/demonstrations/47e45ad749879bbcdea192fc6978290f9e2d23de0/proof.ipynb\" style=\"text-decoration: none\">&nbsp;&#x22A2;&nbsp;&nbsp;</a><a class=\"ProveItLink\" href=\"../__pv_it/demonstrations/9f4fa76de02d9035c15265b5af8e60d7a2b3d9e90/expr.ipynb\"><img src=\"data:image/png;base64,iVBORw0KGgoAAAANSUhEUgAAAOEAAAAVBAMAAABCnpRGAAAAMFBMVEX///8AAAAAAAAAAAAAAAAA\n",
       "AAAAAAAAAAAAAAAAAAAAAAAAAAAAAAAAAAAAAAAAAAAv3aB7AAAAD3RSTlMAInZUiRDNmWbv3US7\n",
       "qzJazP2FAAAACXBIWXMAAA7EAAAOxAGVKw4bAAACWklEQVRIx5WUQUgbQRSGX9xdN4kxCR6FQrQU\n",
       "vFT2ULwqIigBJSehYNlcpO1ByEFEimDopZ5UeirqIaAQEJTgrSe3vUhvxYbSY8492dqUnsQ3Ozsz\n",
       "O7OT1JnDMv97872ZefPeAkARHj50a1Om/IBnQFxobI9N+Wfkk39di2zOl0YfYqCeMFkzklw5iCsR\n",
       "V/BONZwW+E0Ha/0OuZqwLCv6paQKXoJ36akvK73WyONdwrKp6FtJibicz9BZuecaeWQS3n1ZDnUl\n",
       "WU7yU2ouyn2fflB9SKsqa7vRJ8chv07quz0pcrE2/k0UfnusJFbPTnTA/qqEcEnh2OO7POT1U0/g\n",
       "sbg0FvKvUHws5ngunL8Vn3dd3AGjnhtAOrzSm1MyztilU8ewxVb5q84vLU4F8se4yQdweW6sLmTY\n",
       "vYhDJOmEOCzl2SCLN8rOwHumpyt8LsWNYiF/iIm5IQy5HslSFQoofLKUOagIj5u/UUuhBbBdAYbD\n",
       "BsAfFkqKSwXyuGMmAL9FVjchPO8lOTbpSuZggpTivmbHIzpt0kwM3UZzKW4kkMes+iXYi7fsNusA\n",
       "yeGHubYayjtiVp3fUju63R74HuU/o/Dgu8WqpdDBjLNVkgNLpAXpQLljDg/yD8/O9B08r+vwSCC/\n",
       "SCCr6TJiuJ6riWgxBxaq3aHNIPUftgsW6hLTP+BKi0cC+Z/4stdLjyZ5TbXFb0tywNzOE0xiS9kx\n",
       "j2m2F97yX9GL+boWjwTy2Q6YjNGE5dyUT9eMiM0H/Nv/x38yAVJBwpQrmvIrJjtqwjuBKZ8qGRBj\n",
       "GtuIGX8PIYKh25VufZgAAAAASUVORK5CYII=\n",
       "\" style=\"display:inline;vertical-align:middle;\" /></a></span>"
      ],
      "text/plain": [
       "{d in RealNeg, b in RealNeg, a in RealNeg, c in Real} |- (d * b * a * c) = (c * b * d * a)"
      ]
     },
     "metadata": {},
     "output_type": "display_data"
    }
   ],
   "source": [
    "Equals(Mult(d, b, a, c), Mult(c, b, d, a)).prove()"
   ]
  },
  {
   "cell_type": "code",
   "execution_count": 141,
   "metadata": {},
   "outputs": [
    {
     "data": {
      "text/html": [
       "<span style=\"font-size:20px;\"><a class=\"ProveItLink\" href=\"../__pv_it/theorems/885cc228aa47f4d61d07e1691f08d60a4b0eb17d0/expr.ipynb\"><img src=\"data:image/png;base64,iVBORw0KGgoAAAANSUhEUgAAAD0AAAAQBAMAAABXfmoyAAAAMFBMVEX///8AAAAAAAAAAAAAAAAA\n",
       "AAAAAAAAAAAAAAAAAAAAAAAAAAAAAAAAAAAAAAAAAAAv3aB7AAAAD3RSTlMAELvv3c2ZVESJq3Yi\n",
       "MmZ3LnoBAAAACXBIWXMAAA7EAAAOxAGVKw4bAAAA3klEQVQY02NgQAdPjfRDjB7AuYzKDmgKFE4x\n",
       "dD0SgHNZE9DlTzIw8S5guKQEBAcYGPgLMOXZDgTAuf0woza5uATA5RXg8lOgdOtGhH4uwQVw+ajd\n",
       "y0EUTyCS+ZdKD8Dd/1VAHsRhhYsoHA75shGunf0jA/MGkDyS+96JIlzLFsDAPwFIX3YBAgWIPJMc\n",
       "InxYJjD0g3wohKSfN0ERzgN6Px/kQxZk/+ceQshfYLQD0dwbkOSFuOEWcD1gggRwOFz+GAPfAw24\n",
       "/1bmQRhSGgKw+NNhUIovwIjYThWXAAxBAA29OSA7wr9HAAAAAElFTkSuQmCC\n",
       "\" style=\"display:inline;vertical-align:middle;\" /></a>, <a class=\"ProveItLink\" href=\"../__pv_it/theorems/d70a380bc05b43e909cb7708fe500d703d016a270/expr.ipynb\"><img src=\"data:image/png;base64,iVBORw0KGgoAAAANSUhEUgAAAD8AAAAQBAMAAABTi7oPAAAAMFBMVEX///8AAAAAAAAAAAAAAAAA\n",
       "AAAAAAAAAAAAAAAAAAAAAAAAAAAAAAAAAAAAAAAAAAAv3aB7AAAAD3RSTlMAIquJdkTvuxBmmd1U\n",
       "zTKBpmoTAAAACXBIWXMAAA7EAAAOxAGVKw4bAAAA00lEQVQoz2NgwABz0+tvp09gwAMKhBiCpjfg\n",
       "UyDMwM6nwPC8HAgEcCjgEriARcJ99+4LcAUFmPKxHggTmDoU4OKMyo4OYPoGkhXPzyIsDxNg/wGi\n",
       "eeFCBWK3f3vA5TkyGbg2gBUgOXJmL8Jmrg8M3AYgxrPdQFAAUcDeiQgotgKG/gAQox3JBL4FFXBe\n",
       "vwPDfDCDGzkc1okjFBxg0OUBuY/FAUlBOwvcDnYHnl1cYNYduAIpBs4JpXBfqNgJ+YFZTaUNsNgs\n",
       "ZCi/fwAzKIOrd2PGAACVlzd6VBBKDQAAAABJRU5ErkJggg==\n",
       "\" style=\"display:inline;vertical-align:middle;\" /></a>, <a class=\"ProveItLink\" href=\"../__pv_it/demonstrations/9c6c52ba5891078b8630ed0cff8bb5268ec7f9270/expr.ipynb\"><img src=\"data:image/png;base64,iVBORw0KGgoAAAANSUhEUgAAAD8AAAAQBAMAAABTi7oPAAAAMFBMVEX///8AAAAAAAAAAAAAAAAA\n",
       "AAAAAAAAAAAAAAAAAAAAAAAAAAAAAAAAAAAAAAAAAAAv3aB7AAAAD3RSTlMAMs3vmVREEIndIqt2\n",
       "u2aBbGR5AAAACXBIWXMAAA7EAAAOxAGVKw4bAAAA6ElEQVQoz2NgwACPbO9r2j5AFmFUdkBRcWE1\n",
       "Q/bbAmQR/gBUBSsYeBk3MMjeBYIFYJH8AnQFLAsUkEU6IdTZmTMV4AouICtQAZNJxxEmcJdvgMty\n",
       "7Tj4FUyrI1khG7QAriB5Ae93EM0EF7qwWPPncbg8ux0DC9hmJiRHvitC2M/ygYGzAcQQngkEFyAK\n",
       "eOsQAcV8gaE+AcSoRTKB0eE6nFd/gOE9mMGJHA6OaxEKAhg2sYLcx3MASUEtD9wO3gOsU1jALFW4\n",
       "giUMfA+uwX2xp3H1QTCr+loBLDZvMdzVD8CM54ybMxUwBAFR3E8MfkUKVQAAAABJRU5ErkJggg==\n",
       "\" style=\"display:inline;vertical-align:middle;\" /></a>, <a class=\"ProveItLink\" href=\"../__pv_it/demonstrations/d550e8309ef79ca46e4c9fb5617a392ea678789b0/expr.ipynb\"><img src=\"data:image/png;base64,iVBORw0KGgoAAAANSUhEUgAAADEAAAAQBAMAAABNQoq8AAAAMFBMVEX///8AAAAAAAAAAAAAAAAA\n",
       "AAAAAAAAAAAAAAAAAAAAAAAAAAAAAAAAAAAAAAAAAAAv3aB7AAAAD3RSTlMAiXZmMiLdVJm77xBE\n",
       "zatgdeJyAAAACXBIWXMAAA7EAAAOxAGVKw4bAAAAvUlEQVQY02NgQAe2K+dfW2nAgA1MiGM4Z7kB\n",
       "q0wgAyfLAxwyHAEXkEU009IuwGUmIEmc1Ubo4dsNNk1I2QFIst5GMs2zNgDICCvgAGnlDYDLRF37\n",
       "BtafyMClAJJBcoHxXhDN8RvC90oDggkQGc7NIJ9yQV2xE0kPS8NsIL1fAcJnQ/ZPSySQ5gdqPACk\n",
       "mRSQZHYyAUWBDmMEuZrhOlwmgoHZYA6QIWgM8eK+ORtgYT2VYeb9AqRAODgtDTm0ALktNaaWdOV1\n",
       "AAAAAElFTkSuQmCC\n",
       "\" style=\"display:inline;vertical-align:middle;\" /></a> <a class=\"ProveItLink\" href=\"../__pv_it/demonstrations/008191f41560f110e7200b2eea0ed52098d7fbfc0/proof.ipynb\" style=\"text-decoration: none\">&nbsp;&#x22A2;&nbsp;&nbsp;</a><a class=\"ProveItLink\" href=\"../__pv_it/demonstrations/8f16efbc7cef556086ce6584c3269a6eb5b621be0/expr.ipynb\"><img src=\"data:image/png;base64,iVBORw0KGgoAAAANSUhEUgAAAOEAAAAVBAMAAABCnpRGAAAAMFBMVEX///8AAAAAAAAAAAAAAAAA\n",
       "AAAAAAAAAAAAAAAAAAAAAAAAAAAAAAAAAAAAAAAAAAAv3aB7AAAAD3RSTlMAInZUiRDNmWbv3US7\n",
       "qzJazP2FAAAACXBIWXMAAA7EAAAOxAGVKw4bAAACN0lEQVRIx5WUPUgjQRTH/3GzbhKjCZaCEL/A\n",
       "SiKIhVUQK0FJJRycJI2ohbCFSLAxndddrBTuioCCICjhuqvcs7vKwxPrveYKG4OSa67xzX5l5yOQ\n",
       "ecXuvtn3+8+892YGQB79myo2ocsPFDWIb4qxKV1+AebPZs+QkV077g7UpQijxJ5/TxWwLMx4swoM\n",
       "2r1XleNLsCUFbPivNxUsCxNv1SVVzm7LnHssBdS851Cnj+X6fFpW5WyVd9NSaMN7Jpt9LNfnF2VV\n",
       "zraFOomNNKo96gelMPH79Nqb/N3d648ThZgzF+vP8qyL5C9BwmIbZ3z5pciFBSYLE79Dm+dfuRId\n",
       "tO/5bLclnDNWtBykvJQOr5hdh0kPneC+zIUFe1UWJv6cCtNBOszLPIMVtYQ51WjGCxZlNIQcM5Tc\n",
       "hzoO+LCg4rIw8V/AVHMltiJWpDYyJQhOhU1redmOtMWt0AKO2Dwh0wnSg1KYeJqRvm5ZGy6ZgINK\n",
       "C4KTsX2HnYKGYsavMP/HGITfCmHiz71TcxS2oVLA50hNdFihmkIfqarmK1JtPiw6jqIw8Xf0w6Ui\n",
       "hz+KeDLyKidHW6SFlCPkmC3AfMNwdZ4LC75lYeLXgOF61u4KGJeW0qEdmHT9wxA3dlzusGTbXJhv\n",
       "CmHin6mzj7Xu5fuwPj6ndLDyaYaK2BKveirz5vSfB5cLC3hZmPiMCx0bk0ZudPmUrUXUoLibNfkf\n",
       "OkDCkYayeV3+o86MCnnT0eUTBQ1iQjE2qse/A4B2pUFF0wVoAAAAAElFTkSuQmCC\n",
       "\" style=\"display:inline;vertical-align:middle;\" /></a></span>"
      ],
      "text/plain": [
       "{b in RealNeg, a in RealNeg, d in RealNeg, c in Real} |- (b * a * d * c) = (d * c * b * a)"
      ]
     },
     "metadata": {},
     "output_type": "display_data"
    }
   ],
   "source": [
    "Equals(Mult(b, a, d, c), Mult(d, c, b, a)).prove()"
   ]
  },
  {
   "cell_type": "markdown",
   "metadata": {},
   "source": [
    "This even works in a nested manner"
   ]
  },
  {
   "cell_type": "code",
   "execution_count": 142,
   "metadata": {},
   "outputs": [
    {
     "data": {
      "text/html": [
       "<span style=\"font-size:20px;\"><a class=\"ProveItLink\" href=\"../__pv_it/demonstrations/9c6c52ba5891078b8630ed0cff8bb5268ec7f9270/expr.ipynb\"><img src=\"data:image/png;base64,iVBORw0KGgoAAAANSUhEUgAAAD8AAAAQBAMAAABTi7oPAAAAMFBMVEX///8AAAAAAAAAAAAAAAAA\n",
       "AAAAAAAAAAAAAAAAAAAAAAAAAAAAAAAAAAAAAAAAAAAv3aB7AAAAD3RSTlMAMs3vmVREEIndIqt2\n",
       "u2aBbGR5AAAACXBIWXMAAA7EAAAOxAGVKw4bAAAA6ElEQVQoz2NgwACPbO9r2j5AFmFUdkBRcWE1\n",
       "Q/bbAmQR/gBUBSsYeBk3MMjeBYIFYJH8AnQFLAsUkEU6IdTZmTMV4AouICtQAZNJxxEmcJdvgMty\n",
       "7Tj4FUyrI1khG7QAriB5Ae93EM0EF7qwWPPncbg8ux0DC9hmJiRHvitC2M/ygYGzAcQQngkEFyAK\n",
       "eOsQAcV8gaE+AcSoRTKB0eE6nFd/gOE9mMGJHA6OaxEKAhg2sYLcx3MASUEtD9wO3gOsU1jALFW4\n",
       "giUMfA+uwX2xp3H1QTCr+loBLDZvMdzVD8CM54ybMxUwBAFR3E8MfkUKVQAAAABJRU5ErkJggg==\n",
       "\" style=\"display:inline;vertical-align:middle;\" /></a>, <a class=\"ProveItLink\" href=\"../__pv_it/demonstrations/d550e8309ef79ca46e4c9fb5617a392ea678789b0/expr.ipynb\"><img src=\"data:image/png;base64,iVBORw0KGgoAAAANSUhEUgAAADEAAAAQBAMAAABNQoq8AAAAMFBMVEX///8AAAAAAAAAAAAAAAAA\n",
       "AAAAAAAAAAAAAAAAAAAAAAAAAAAAAAAAAAAAAAAAAAAv3aB7AAAAD3RSTlMAiXZmMiLdVJm77xBE\n",
       "zatgdeJyAAAACXBIWXMAAA7EAAAOxAGVKw4bAAAAvUlEQVQY02NgQAe2K+dfW2nAgA1MiGM4Z7kB\n",
       "q0wgAyfLAxwyHAEXkEU009IuwGUmIEmc1Ubo4dsNNk1I2QFIst5GMs2zNgDICCvgAGnlDYDLRF37\n",
       "BtafyMClAJJBcoHxXhDN8RvC90oDggkQGc7NIJ9yQV2xE0kPS8NsIL1fAcJnQ/ZPSySQ5gdqPACk\n",
       "mRSQZHYyAUWBDmMEuZrhOlwmgoHZYA6QIWgM8eK+ORtgYT2VYeb9AqRAODgtDTm0ALktNaaWdOV1\n",
       "AAAAAElFTkSuQmCC\n",
       "\" style=\"display:inline;vertical-align:middle;\" /></a>, <a class=\"ProveItLink\" href=\"../__pv_it/theorems/d70a380bc05b43e909cb7708fe500d703d016a270/expr.ipynb\"><img src=\"data:image/png;base64,iVBORw0KGgoAAAANSUhEUgAAAD8AAAAQBAMAAABTi7oPAAAAMFBMVEX///8AAAAAAAAAAAAAAAAA\n",
       "AAAAAAAAAAAAAAAAAAAAAAAAAAAAAAAAAAAAAAAAAAAv3aB7AAAAD3RSTlMAIquJdkTvuxBmmd1U\n",
       "zTKBpmoTAAAACXBIWXMAAA7EAAAOxAGVKw4bAAAA00lEQVQoz2NgwABz0+tvp09gwAMKhBiCpjfg\n",
       "UyDMwM6nwPC8HAgEcCjgEriARcJ99+4LcAUFmPKxHggTmDoU4OKMyo4OYPoGkhXPzyIsDxNg/wGi\n",
       "eeFCBWK3f3vA5TkyGbg2gBUgOXJmL8Jmrg8M3AYgxrPdQFAAUcDeiQgotgKG/gAQox3JBL4FFXBe\n",
       "vwPDfDCDGzkc1okjFBxg0OUBuY/FAUlBOwvcDnYHnl1cYNYduAIpBs4JpXBfqNgJ+YFZTaUNsNgs\n",
       "ZCi/fwAzKIOrd2PGAACVlzd6VBBKDQAAAABJRU5ErkJggg==\n",
       "\" style=\"display:inline;vertical-align:middle;\" /></a>, <a class=\"ProveItLink\" href=\"../__pv_it/theorems/885cc228aa47f4d61d07e1691f08d60a4b0eb17d0/expr.ipynb\"><img src=\"data:image/png;base64,iVBORw0KGgoAAAANSUhEUgAAAD0AAAAQBAMAAABXfmoyAAAAMFBMVEX///8AAAAAAAAAAAAAAAAA\n",
       "AAAAAAAAAAAAAAAAAAAAAAAAAAAAAAAAAAAAAAAAAAAv3aB7AAAAD3RSTlMAELvv3c2ZVESJq3Yi\n",
       "MmZ3LnoBAAAACXBIWXMAAA7EAAAOxAGVKw4bAAAA3klEQVQY02NgQAdPjfRDjB7AuYzKDmgKFE4x\n",
       "dD0SgHNZE9DlTzIw8S5guKQEBAcYGPgLMOXZDgTAuf0woza5uATA5RXg8lOgdOtGhH4uwQVw+ajd\n",
       "y0EUTyCS+ZdKD8Dd/1VAHsRhhYsoHA75shGunf0jA/MGkDyS+96JIlzLFsDAPwFIX3YBAgWIPJMc\n",
       "InxYJjD0g3wohKSfN0ERzgN6Px/kQxZk/+ceQshfYLQD0dwbkOSFuOEWcD1gggRwOFz+GAPfAw24\n",
       "/1bmQRhSGgKw+NNhUIovwIjYThWXAAxBAA29OSA7wr9HAAAAAElFTkSuQmCC\n",
       "\" style=\"display:inline;vertical-align:middle;\" /></a> <a class=\"ProveItLink\" href=\"../__pv_it/demonstrations/ba17b82ca7d63d443b1d10f17250825cb4aa24150/proof.ipynb\" style=\"text-decoration: none\">&nbsp;&#x22A2;&nbsp;&nbsp;</a><a class=\"ProveItLink\" href=\"../__pv_it/demonstrations/ff44a60599d3727a64e0972a0c3794d5a909b9bf0/expr.ipynb\"><img src=\"data:image/png;base64,iVBORw0KGgoAAAANSUhEUgAAAUoAAAAVBAMAAADSqLqgAAAAMFBMVEX///8AAAAAAAAAAAAAAAAA\n",
       "AAAAAAAAAAAAAAAAAAAAAAAAAAAAAAAAAAAAAAAAAAAv3aB7AAAAD3RSTlMAInZUiRDNmWbv3US7\n",
       "qzJazP2FAAAACXBIWXMAAA7EAAAOxAGVKw4bAAADbUlEQVRIx5VWQWgTQRT96TbdpJu2ocdiIa0e\n",
       "vFhiEcFeDL0oQktOgtCSXor1IORQpBShwYO9iEahqLWHQAvFiBI81VPTXsSTpRbxWC8evLQaUwRB\n",
       "/H9ndmZndyZZFyY7+/77M+//+ZkZAEiD+YmZDOm2APeO/e/IemZHtgXjtMnwti3AvU0jOJmoKl3m\n",
       "Ber13irqCFZOA8Y/VDC2UgANAcwb29SqdvKzyte3p2aZyIzPuL0+bUava726KKLZIDqr9aZ2Uz9K\n",
       "XvlsmFUi02Y52M7r7AvK1xZ/uxEtB7nLWu8FnwBHSXdCWT2naVaJzCTrXdPay8rXKH+7ESWDYYUA\n",
       "17vsE2Cppbji/+istKjMFbjIOtpVsWa0Kt2IuoJ1GALIm5oQEFA5F6oi0zMH8/RfPxiRZdE5/NDr\n",
       "2jnXOJRRVd4e/oS0PblVuAwfIL2pde2fy6oqB8f78XdCUgfHj7I6AYJJEb1Lp0RZxNbhrpIeaeQq\n",
       "4yf5QhoSMs+MwYDFKj2vPW9qhdn4D0Wl8xg+Ynncl0XJgLAAwVzHaZ+BLebszsET0c8yY0VRaTUh\n",
       "mQFL1CxnWOVALsmb2uU8H9FTeaMEi/i6JJgI3AGdAMF8gctyTCYMmqQusaDcfrImjZik5yxJGFFf\n",
       "DnqPPRZnuIDyd6qxhgJ+IatafblarVJZLAFs4OtIzMOB+AkIAbzvMVFlsg6FGkVBFbzGIyp683Cj\n",
       "zCVK2s6CUxYsxnDKBpUb4DSUXK5B/A8VCsg5XQA2QQrYVJi44oUMPBLL9zOwZj7jqNguMV5LbB2c\n",
       "wQBfXXor3gC76VeJUyQo72O+ORPHOgGSuYvTZOGz5d0WfmNWPFYqoxg9lYdYiZCoC5WMIQGfN7W/\n",
       "VF5+lQ3omTkP8ECI4UBIgGRO0FDWpu2R8P81KfaEPcXIVfaUUkW+S3E1LsMOnvnkTe0LvFf3y10Y\n",
       "K+II84LJgbAAwfyOkvcnB0fE2FfviU2ht6IYvZ3ogI697ppIBWNIwOdNbfpKSVU5febr/iHAK8Hk\n",
       "QFiAYHYfttj032jPHvcZCHIHtN7+EdSzJ1aJfMGsBA79ljeILfNFRAe43v4R1NuGXYqqkpg7Lewp\n",
       "4z0+Vm8HMG/zCKciX9aJOdXCHq9H1q+RQ97mEXYiqyRmrNXVvt9kGGoLcG/TCB3pqCKR+Q9uM/Qs\n",
       "GhtlOgAAAABJRU5ErkJggg==\n",
       "\" style=\"display:inline;vertical-align:middle;\" /></a></span>"
      ],
      "text/plain": [
       "{d in RealNeg, c in Real, a in RealNeg, b in RealNeg} |- (d * c * (a + b) * a) = ((b + a) * d * c * a)"
      ]
     },
     "metadata": {},
     "output_type": "display_data"
    }
   ],
   "source": [
    "Equals(Mult(d, c, Add(a, b), a), Mult(Add(b, a), d, c, a)).prove()"
   ]
  },
  {
   "cell_type": "code",
   "execution_count": 143,
   "metadata": {},
   "outputs": [],
   "source": [
    "%end demonstrations"
   ]
  },
  {
   "cell_type": "code",
   "execution_count": null,
   "metadata": {},
   "outputs": [],
   "source": []
  }
 ],
 "metadata": {
  "kernelspec": {
   "display_name": "Python 3",
   "language": "python",
   "name": "python3"
  }
 },
 "nbformat": 4,
 "nbformat_minor": 0
}