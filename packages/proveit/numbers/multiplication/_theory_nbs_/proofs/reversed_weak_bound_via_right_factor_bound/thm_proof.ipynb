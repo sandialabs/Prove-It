{
 "cells": [
  {
   "cell_type": "markdown",
   "metadata": {},
   "source": [
    "Proof of <a class=\"ProveItLink\" href=\"../../../../../_theory_nbs_/theory.ipynb\">proveit</a>.<a class=\"ProveItLink\" href=\"../../../../_theory_nbs_/theory.ipynb\">numbers</a>.<a class=\"ProveItLink\" href=\"../../theory.ipynb\">multiplication</a>.<a class=\"ProveItLink\" href=\"../../theorems.ipynb#reversed_weak_bound_via_right_factor_bound\">reversed_weak_bound_via_right_factor_bound</a> theorem\n",
    "========"
   ]
  },
  {
   "cell_type": "code",
   "execution_count": 1,
   "metadata": {},
   "outputs": [],
   "source": [
    "import proveit\n",
    "theory = proveit.Theory() # the theorem's theory"
   ]
  },
  {
   "cell_type": "code",
   "execution_count": 2,
   "metadata": {},
   "outputs": [
    {
     "data": {
      "text/html": [
       "With these <a href=\"allowed_presumptions.txt\">allowed</a>/<a href=\"disallowed_presumptions.txt\">disallowed</a> theorem/theory presumptions (e.g., to avoid circular dependencies), we begin our proof of<br><strong id=\"reversed_weak_bound_via_right_factor_bound\">reversed_weak_bound_via_right_factor_bound:</strong> <a class=\"ProveItLink\" href=\"../../../__pv_it/theorems/7f1ebae5192fa9b6dfed9764487b1117533d5cb30/expr.ipynb\"><img src=\"data:image/png;base64,iVBORw0KGgoAAAANSUhEUgAAATwAAAAXBAMAAABkN+50AAAAMFBMVEX///8AAAAAAAAAAAAAAAAA\n",
       "AAAAAAAAAAAAAAAAAAAAAAAAAAAAAAAAAAAAAAAAAAAv3aB7AAAAD3RSTlMAq1RmmUTNIjK7EInv\n",
       "3XZ/CtNrAAAACXBIWXMAAA7EAAAOxAGVKw4bAAAEGElEQVRIx8VWXWgcVRg9s7uTnb272SwIlaYQ\n",
       "FloUoZGlFKWFxoVUo5XUSjVQK7pYQVSQyWO0hu2TDwYTW2JIH+IoRaFp49hipQHDUpC2iiUPFgsl\n",
       "ZWIjRaMhWGokD+J3f2Zndu4sVFjpB2du9tuzc0++v3uB/8XSCprZTch3/YKW2M8Kmr3UhBw105Mo\n",
       "8A+bW6wu4Uroli/FknW7KfE4//u1Fsv7TCHG3pCEUiNZtzZH4AhP8liL5fUqxNh28WTfeA1k3ZJl\n",
       "Aa4yW2yxvJpCjOUcuf4xGybH2HcCSQpzW6tLryIRmzQ/rbtmA3KcHZL4YWHh+xbLS7kSGJwbrjvZ\n",
       "Suf7ZyhTBd/xQF+d3ECc6QUj0pcQeBI4fhc7/hd5PEIc5kV87ARvWPT6qZ6CYA10+uQGorsVyVXg\n",
       "EQgMIl1omqXrr26QNZxp9E9ozAlk5/wJ0V6UOFVCf53xKB5z7iNiUGoDx31ymGgV+2FQr26FQMbJ\n",
       "7ovV9sHGcXhu9h1dXmJKU0eeHhzwy3+fxDPAdf75Cx6xKp4Qu6/Wk3t/nayI7C/+wBXkKCajEEh4\n",
       "8Z2RoqzD85IzmrzkMW0KcM8ldNiN8i6D3REBKgv3FXEc+NHbtScg+8QfBWMdo1XgRUhUeugx3fM1\n",
       "/2qlb4m2MBdhiLFN8vInQvLyS8N9yB8Vp1NBHDjs7LItPel15IoNyWX/iCKqn1NrOEnRmI8MFo2Y\n",
       "quB3WroVztAgZz9Za3x7e2MbvXqmwxlhYlR77tDNkLxbxtgr1gXRh966xeNw2h61pcdaR7saGhlP\n",
       "gP0Jo/Kg37jjRg1UnMmxyFiOEpEp4ENadigcpiikymKzJKYsWt7uxq+m2Mp76jxC8koZr4qH+P+d\n",
       "/nQ+zzfajRFID8nLqT358OCYQne57Ffn3ydqZlHNkfChFiUiVTBv0/K0glHlBZCX7bsmnpvQlXx9\n",
       "cvIoJferYrj2RHUd4GoM1+BivsWi8lByO1RyrXmJT5bf66r60dvrbdnGcxntwygRbNMSV3FVQfSW\n",
       "ndnJB49VE5esq7hkubL2np8NyxsRF7YjfXybHL2QreHYSeUJWgPXFGLsXc2jE7PU6el5Cdk+9uh+\n",
       "ZxqHs5UUpukX5qqc1TRYQq2Rrp2DyMFgJ9qrL4O5uGjd2ak8K3g2fO5vb35biLskBHYOp3gRlCRk\n",
       "V/U+fBYjxdQvc7/Rgi07Khii4Jhvvcl2V4Lo7T244qhLb6L3I1BPPLdtuaQ82bk99eq2JWJuwfJy\n",
       "dHqB27U6OWw3qLaAIYWQqdIpMjtTAjs/OR58lYnu8zlo1iWanDa87VnsLS1GdJS4eYmX54RCaDA5\n",
       "ajG8Ae21UUeXSVF9odlpOKyg2a0mZO1WbUuEZ7+/mD1uc3nWJNkE9i/zQRP23EtL35tt/wXZOSd3\n",
       "E9qERwAAAABJRU5ErkJggg==\n",
       "\" style=\"display:inline;vertical-align:middle;\" /></a><br>(see <a class=\"ProveItLink\" href=\"../../../__pv_it/theorems/710e2ea8e38702c25fb681f94f3c6ba97b528f7d0/dependencies.ipynb\">dependencies</a>)<br>"
      ],
      "text/plain": [
       "<IPython.core.display.HTML object>"
      ]
     },
     "metadata": {},
     "output_type": "display_data"
    }
   ],
   "source": [
    "%proving reversed_weak_bound_via_right_factor_bound"
   ]
  },
  {
   "cell_type": "code",
   "execution_count": null,
   "metadata": {},
   "outputs": [],
   "source": []
  }
 ],
 "metadata": {
  "kernelspec": {
   "display_name": "Python 3",
   "language": "python",
   "name": "python3"
  }
 },
 "nbformat": 4,
 "nbformat_minor": 0
}