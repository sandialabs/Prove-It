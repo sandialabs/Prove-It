{
 "cells": [
  {
   "cell_type": "markdown",
   "metadata": {},
   "source": [
    "Proof of <a class=\"ProveItLink\" href=\"../../../../../_theory_nbs_/theory.ipynb\">proveit</a>.<a class=\"ProveItLink\" href=\"../../../../_theory_nbs_/theory.ipynb\">numbers</a>.<a class=\"ProveItLink\" href=\"../../theory.ipynb\">multiplication</a>.<a class=\"ProveItLink\" href=\"../../theorems.ipynb#mult_real_neg_from_right_neg\">mult_real_neg_from_right_neg</a> theorem\n",
    "========"
   ]
  },
  {
   "cell_type": "code",
   "execution_count": 1,
   "metadata": {},
   "outputs": [],
   "source": [
    "import proveit\n",
    "theory = proveit.Theory() # the theorem's theory"
   ]
  },
  {
   "cell_type": "code",
   "execution_count": 2,
   "metadata": {},
   "outputs": [
    {
     "data": {
      "text/html": [
       "With these <a href=\"allowed_presumptions.txt\">allowed</a>/<a href=\"disallowed_presumptions.txt\">disallowed</a> theorem/theory presumptions (e.g., to avoid circular dependencies), we begin our proof of<br><strong id=\"mult_real_neg_from_right_neg\">mult_real_neg_from_right_neg:</strong> <a class=\"ProveItLink\" href=\"../../../__pv_it/theorems/adb73b298e5d342312325bb43ffd3a555a14d3530/expr.ipynb\"><img src=\"data:image/png;base64,iVBORw0KGgoAAAANSUhEUgAAAOkAAAAZBAMAAAAmixTJAAAAMFBMVEX///8AAAAAAAAAAAAAAAAA\n",
       "AAAAAAAAAAAAAAAAAAAAAAAAAAAAAAAAAAAAAAAAAAAv3aB7AAAAD3RSTlMAq1RmmUTNIjK7EInv\n",
       "3XZ/CtNrAAAACXBIWXMAAA7EAAAOxAGVKw4bAAADf0lEQVRIx7VWXUgUURQ+ujvu/OgkCYI+iNBD\n",
       "L1kLlpCErLhZEtKS1IMFGQqRhWwQgRS6guRD0C6a2RjZCBKIkVNWog8hPvSL4UP/tjVm9FApIqRl\n",
       "EJ07s3tndnZbYRYvzOXcM/fe755zvnPuBbDfdtha5YSUWrrH1jJXKCXUm9oeCbZdY11ZSqhdpPsc\n",
       "r2fU2LHjlLT8ocsYZ8kA2UTYZMdTE8TLSqxycAq7OctMzpXN5PTSoYiQu4lw3A4rlKiXza0BvwzZ\n",
       "iqpAqA1YCVsPAL8K0GY3wBt82FVYtUvEpZ541D0ZxrheP5hQaAM1SCyasMZ0lfTPIq68Hn5NUTlj\n",
       "UhUezI3Idsg0T8JaZ1EK0xFjyAmaZMPW/H5j0g/8psLh53ZQc6OxPf2whSozCmbRb3c0+axseJjt\n",
       "NFHnKP7YC9Abv6ewJqpEQNBRzGO4Qekz3MivAJRADEU516NPH00MCwbwqODKtlO3jpHUQ8NuuaGa\n",
       "KrfJ8AJgiybXGagjpeZQtCIPOVnwmVRFD8qbDNQLEXanzzTkWpL/JX6ZuHI/wAyK/DJRVgL8QWOI\n",
       "yGLowu8iHu4tNq0cxlXpKiUTOyv5RAFGFYqaRgJ3Ka8bVEU4F28rQX0K/M/oKRCfwdw5QkQ+ZMqc\n",
       "ds7k4dYA8QQtjF4ciiKUqoK32quVj0zUODHyoKqO23DG6/X6LB7m/4Jj0ZSuTsydIk2eNqE6O0wl\n",
       "IejH7m4jdkNloyC6QUP95qG2Bhfy9QKnquJArK15ZD8V+CVIq9scVf4iYYadmrxgQuVDc7EchvNI\n",
       "Jv4NuwKDWmoLrj43RZ2Xv+ieUpVmS3klWSfg0j4o8tBilAOXsd+nZ1EhRfVAMWeQZ5cWO+JFDzsB\n",
       "NRqq81rIYFMXlDBuDbVqzMJhcmIWvdj/vaMgEFX23yOzX2kyn1cbvXN++7krS3RleVTI9OFNUILV\n",
       "uVAUhQNGvj6BcscJSepED9+3lE3CJHib8DaKRJQZ0yuitdVTMvu5UvmiZqvIHDb4tgiTrKLH9eB4\n",
       "gjtne8LbyJ000flVenB/sEbW2I2ZMx4JE6/Ae0dIr1yYORY2saTyc/4E2zYnLy8OWpSYiq0j4LqK\n",
       "0qGvykBlZN9JaEciNgdIJT/Jey2lfmNMUppaT3LULMtJhyTJF/Me000ek7r/+25qideL/tTeTbXJ\n",
       "34jK+rwR3evyHkb2/AOGTuNI2e8xNQAAAABJRU5ErkJggg==\n",
       "\" style=\"display:inline;vertical-align:middle;\" /></a><br>(see <a class=\"ProveItLink\" href=\"../../../__pv_it/theorems/18a06a0ac528ee19d415344f26395881b1f5d57b0/dependencies.ipynb\">dependencies</a>)<br>"
      ],
      "text/plain": [
       "<IPython.core.display.HTML object>"
      ]
     },
     "metadata": {},
     "output_type": "display_data"
    },
    {
     "name": "stdout",
     "output_type": "stream",
     "text": [
      "mult_real_neg_from_right_neg may now be readily provable (assuming required theorems are usable).  Simply execute \"%qed\".\n"
     ]
    }
   ],
   "source": [
    "%proving mult_real_neg_from_right_neg"
   ]
  },
  {
   "cell_type": "code",
   "execution_count": null,
   "metadata": {},
   "outputs": [],
   "source": []
  }
 ],
 "metadata": {
  "kernelspec": {
   "display_name": "Python 3",
   "language": "python",
   "name": "python3"
  }
 },
 "nbformat": 4,
 "nbformat_minor": 0
}