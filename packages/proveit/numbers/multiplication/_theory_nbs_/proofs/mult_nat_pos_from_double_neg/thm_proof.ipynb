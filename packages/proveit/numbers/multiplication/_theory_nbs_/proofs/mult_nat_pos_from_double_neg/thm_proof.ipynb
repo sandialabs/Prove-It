{
 "cells": [
  {
   "cell_type": "markdown",
   "metadata": {},
   "source": [
    "Proof of <a class=\"ProveItLink\" href=\"../../../../../_theory_nbs_/theory.ipynb\">proveit</a>.<a class=\"ProveItLink\" href=\"../../../../_theory_nbs_/theory.ipynb\">numbers</a>.<a class=\"ProveItLink\" href=\"../../theory.ipynb\">multiplication</a>.<a class=\"ProveItLink\" href=\"../../theorems.ipynb#mult_nat_pos_from_double_neg\">mult_nat_pos_from_double_neg</a> theorem\n",
    "========"
   ]
  },
  {
   "cell_type": "code",
   "execution_count": 1,
   "metadata": {},
   "outputs": [],
   "source": [
    "import proveit\n",
    "theory = proveit.Theory() # the theorem's theory"
   ]
  },
  {
   "cell_type": "code",
   "execution_count": 2,
   "metadata": {},
   "outputs": [
    {
     "data": {
      "text/html": [
       "With these <a href=\"allowed_presumptions.txt\">allowed</a>/<a href=\"disallowed_presumptions.txt\">disallowed</a> theorem/theory presumptions (e.g., to avoid circular dependencies), we begin our proof of<br><strong id=\"mult_nat_pos_from_double_neg\">mult_nat_pos_from_double_neg:</strong> <a class=\"ProveItLink\" href=\"../../../__pv_it/theorems/bc9d63cd57648ade7f35ade5ba39831622a008420/expr.ipynb\"><img src=\"data:image/png;base64,iVBORw0KGgoAAAANSUhEUgAAALcAAAAXBAMAAAC7XMNCAAAAMFBMVEX///8AAAAAAAAAAAAAAAAA\n",
       "AAAAAAAAAAAAAAAAAAAAAAAAAAAAAAAAAAAAAAAAAAAv3aB7AAAAD3RSTlMAq1RmmUTNIjK7EInv\n",
       "3XZ/CtNrAAAACXBIWXMAAA7EAAAOxAGVKw4bAAACzklEQVRIx7WVT2gTQRTGX7K7SXazaWIPBg3K\n",
       "giCKIBFE0EMNJAVB0EBvInbVg+hBtgqeFKKIFxUXD9X4j/FYg020gloUCiIoIgQRxUJge2qhUHJS\n",
       "LEWcNzNJs9OE7EEffMnMj5dvZt+82QAEDkeoC+6VHjgGLC45jknzp7/HCbxZKSJPIdgSwHyHUEcY\n",
       "D+p0wayUeFtLgdFkfBjnp/p7GzaXLyI5+nFGgpucKYAZxi/TadTtb65muXyRxDLtluCgG3GgzniE\n",
       "AMSt/uamkC9GCVLCz+Rh4xsbpIeiNppTrtDdRAKUfKuQL96y2rDn0c4SAdOh0iKaI//caHwKYH5Q\n",
       "KJqZ99rw+NIgfW7WExda3pAGVy/WOT8AcC+A+Umho46+3D7kn6TqgGL7eyINV41Zao58DKKpAOZf\n",
       "uIx3oNZbLLwMpgfhGRzbHeaKtZ0y5DqJF1s8dloMQh9f3M/5zN9zqU1I1OiwimaqDckaxJr4S1rd\n",
       "xg9hDhtD1Bh52Os4zwzmzZWLCSc+SbqZmy5UcS8JXJouM2qBhjs33I6dw2ODPh3j9tCqxQeqQonW\n",
       "C66ch2ihUBiWylL1YH9nmx8mEGZlqneaxzy6FuPP8YpVhl7ipv/MEXGdc/6qwCOuqgXrw613UrJE\n",
       "jwAUtumlduZdqgVX8Iv0PI3vsV94EWYHchMsQzlX8ps/49K98Fe1xUJZnW5BrbFub1/EE/w0OA9R\n",
       "GzUXwwrpWcUeYRmTcalbbnIZm1+NLbRbMZPHyrN+MDYc4fDaisvfQolWn5jFAexHs6Sm9pTLZQtq\n",
       "0/DEZ54oca2NS/xLey2uv8RpKR19H+2OJJjWdZa5LQvTvlQlx7U28j1uRpubzq0RUoEE2Uv7ns7j\n",
       "Kmh1f+4dITl6vVJXuZbfOQU3rNghD6J42rvWLY5L93ZCSA69x/+ZzPmBV8rlYredeFxyzPeoisQ1\n",
       "Av8vlH9t+Bcjg7AdO+7fnwAAAABJRU5ErkJggg==\n",
       "\" style=\"display:inline;vertical-align:middle;\" /></a><br>(see <a class=\"ProveItLink\" href=\"../../../__pv_it/theorems/7c26058c1816794c542b0ead91d065c25dbf9fd50/dependencies.ipynb\">dependencies</a>)<br>"
      ],
      "text/plain": [
       "<IPython.core.display.HTML object>"
      ]
     },
     "metadata": {},
     "output_type": "display_data"
    },
    {
     "name": "stdout",
     "output_type": "stream",
     "text": [
      "mult_nat_pos_from_double_neg may now be readily provable (assuming required theorems are usable).  Simply execute \"%qed\".\n"
     ]
    }
   ],
   "source": [
    "%proving mult_nat_pos_from_double_neg"
   ]
  },
  {
   "cell_type": "code",
   "execution_count": null,
   "metadata": {},
   "outputs": [],
   "source": []
  }
 ],
 "metadata": {
  "kernelspec": {
   "display_name": "Python 3",
   "language": "python",
   "name": "python3"
  }
 },
 "nbformat": 4,
 "nbformat_minor": 0
}