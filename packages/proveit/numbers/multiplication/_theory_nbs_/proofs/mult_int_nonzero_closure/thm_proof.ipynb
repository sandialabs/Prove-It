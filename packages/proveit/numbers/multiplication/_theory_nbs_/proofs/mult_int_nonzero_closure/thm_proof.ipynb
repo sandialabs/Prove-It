{
 "cells": [
  {
   "cell_type": "markdown",
   "metadata": {},
   "source": [
    "Proof of <a class=\"ProveItLink\" href=\"../../../../../_theory_nbs_/theory.ipynb\">proveit</a>.<a class=\"ProveItLink\" href=\"../../../../_theory_nbs_/theory.ipynb\">numbers</a>.<a class=\"ProveItLink\" href=\"../../theory.ipynb\">multiplication</a>.<a class=\"ProveItLink\" href=\"../../theorems.ipynb#mult_int_nonzero_closure\">mult_int_nonzero_closure</a> theorem\n",
    "========"
   ]
  },
  {
   "cell_type": "code",
   "execution_count": 1,
   "metadata": {},
   "outputs": [],
   "source": [
    "import proveit\n",
    "theory = proveit.Theory() # the theorem's theory"
   ]
  },
  {
   "cell_type": "code",
   "execution_count": 2,
   "metadata": {},
   "outputs": [
    {
     "data": {
      "text/html": [
       "With these <a href=\"allowed_presumptions.txt\">allowed</a>/<a href=\"disallowed_presumptions.txt\">disallowed</a> theorem/theory presumptions (e.g., to avoid circular dependencies), we begin our proof of<br><strong id=\"mult_int_nonzero_closure\">mult_int_nonzero_closure:</strong> <a class=\"ProveItLink\" href=\"../../../__pv_it/theorems/8d2b67fe156383df8c2289319dde4ac1b7bbbce60/expr.ipynb\"><img src=\"data:image/png;base64,iVBORw0KGgoAAAANSUhEUgAAAboAAAAbCAMAAAA9HrpIAAAARVBMVEX///8AAAAAAAAAAAAAAAAA\n",
       "AAAAAAAAAAAAAAAAAAAAAAAAAAAAAAAAAAAAAAAAAAAAAAAAAAAAAAAAAAAAAAAAAAAAAAAeYafp\n",
       "AAAAFnRSTlMAq1RmmUTNIjK7EInv3Xah18O17eXJ8+7nKwAAAAlwSFlzAAAOxAAADsQBlSsOGwAA\n",
       "BXVJREFUaN7tWomSpCgQlUtuZndm1///1OUmUdQ6rBi3Yohuw6YTTPLlrdP0Z9x6qD8i+J8OzeJV\n",
       "O33ptshay+96ZsK+ATmO4lncNDHpb2iedl7y+J195xufGdOvMDoUTcMIf1n8LZdNNcmXQqcqbzdx\n",
       "C6+xwaKb5EsIeAZn+/ty6GQ5mMP3YIi5Uz8xm8XM0lppPPNUhvHL/5JJROhsPJJVDTrU1pIXoHtj\n",
       "+Sd13BSm9F1YcmficRKJJNR5tSZBZyL4DjXoaA3nM38BujeWf3BQvfabv3/MJ2k+pRktXRyFypEt\n",
       "OcwlTqtFVehEgRGEwCege2P5B8eSFYreyBMQ+kBG4tFKgAWH+c+/MjrMlqYEoZMW64o2aPwKdG8s\n",
       "/9wQRTXNneKvUSsH6TN8O/e1NxVTdJsTtIrJheIg/0Vlg66kKs/7lhlmOnfKWZwtkf9O0M3QBbDZ\n",
       "DRyoR0tU45SNwJfkNP/lDMgwTUDfGv0adK8v/2A1NPchz1e22nF3Vv2e0zxaRw930giQjCOfR6sC\n",
       "hse8sOxRInRUrDB+DrqXl3+wNJC9njPj44RcDll8hObBOmBnJwJ8wDin8/lwK9zmvWAgGnSx2cLR\n",
       "rg5ZGhppxKAxdCfLP1h2B5viDruNGObMTW4WKRM1NHpRRcYiATRKa4RehxA+rQfGnJXEsDDAO408\n",
       "nlOwFKiCxegtpXBISj+N0aQ9BVU7JfnO8uvdoJGa+p+aTZcsaSMHm2lM4ooucVLHMzkgU7XUpYCG\n",
       "QskDkmPAKh3YaW0v7TZFGT9gXu5wlqM6fBCELnjVeVBniFJru3AcvddNGS+/MF/MKhRa3VrV6B77\n",
       "y8psU7dmdRk6I8GRsR1g3NGEC1/EhuR4VLruab0jbfIfVVJ+MldY6KBE5tBhBsFnF0so8XpJ++of\n",
       "C8x81N2Fri3/THldVMgzJDAPbGlK6Y+/KGXemwepiUOHqZbAHck6j+1YlxsNURC6p/0l3KmJc/Xk\n",
       "ERO+KkiYqeWw8OEQOo1TwqMIC446hFmgF1h4ZcdsH7qyPIQJ4jTfBqXR7Dh8bSi7BhKdeneZrW69\n",
       "N8rMS5ckgVPWifkBdJDGH8m+HOraTkCcUdjA1NxW131VwNKh0NHDuwwztPySmnLlAhzhn4xA6Lyg\n",
       "nNyFriyflPdpRSvAYYazw2NvKTvXQjiOxuCt7u+fNFhd5GHjrUvtk9PxgCC2GfYxdD3NJKw6CGfb\n",
       "m/FOQJxdqRJlhweFQbQALvFRY4rAui7Zar5x2SeTObauJU7Q+Wxu3oWuLg9tOGFSW0x1zbk4y7Cj\n",
       "7KyNJ/oOCFChSTWvrYr1+QyT8D3NFAkmhZwWHDlxAF1Hw8elTg1n25udnao4IzHrqCRTfSSUs/EC\n",
       "N4vPxo5khHroWrNGRAGKSejO6oLY96Grq1lubQsM1LbOmhM33ihhMVRVyOMWMl0VdqbHyXvOT7ZR\n",
       "cBe6LhPwgPBLmulVnLHIWumXll0j7MmezBo6vsTzBrCa4qVPBRw6hU4FXydJlG2Drs3yjU3trSeU\n",
       "kfS+BqgQwyLmKOr864XimwYt33PouBRC0CtaDECcV7XC4ZuDXhMCPk6TdIAcPm0q/dEDVhdCFSMN\n",
       "ulg1g9lJsjI7ulRKHCKrXXXydAxE7JEEomqIXBkP1/OiT9Jhs4RxhZyBOK96s0LA+7qDbC84Knba\n",
       "CIOsUoIzpwk6Ed7Kg9mU58dZYXh/6Sh99ORzsYHCNPJRRM4P9W0QPiigfk9z7prXmfU7rs994FAc\n",
       "ZpdIeV/ntrPTgNKGqoCpx1RopHc1+3X3QM5dg9znv00RzqT3d10WNXs/ZDezxWJVl3+FXuw7zOE7\n",
       "vcm4bFz3Rdj5d5jk4dmr32d/x3eY6/SrvLSz1pD/AFFTLsFa2To+AAAAAElFTkSuQmCC\n",
       "\" style=\"display:inline;vertical-align:middle;\" /></a><br>(see <a class=\"ProveItLink\" href=\"../../../__pv_it/theorems/622f739b613ef0d4489b551257badb526aeacb930/dependencies.ipynb\">dependencies</a>)<br>"
      ],
      "text/plain": [
       "<IPython.core.display.HTML object>"
      ]
     },
     "metadata": {},
     "output_type": "display_data"
    }
   ],
   "source": [
    "%proving mult_int_nonzero_closure"
   ]
  },
  {
   "cell_type": "code",
   "execution_count": null,
   "metadata": {},
   "outputs": [],
   "source": []
  }
 ],
 "metadata": {
  "kernelspec": {
   "display_name": "Python 3",
   "language": "python",
   "name": "python3"
  }
 },
 "nbformat": 4,
 "nbformat_minor": 0
}