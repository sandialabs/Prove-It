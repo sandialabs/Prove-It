{
 "cells": [
  {
   "cell_type": "markdown",
   "metadata": {},
   "source": [
    "Proof of <a class=\"ProveItLink\" href=\"../../../../../_theory_nbs_/theory.ipynb\">proveit</a>.<a class=\"ProveItLink\" href=\"../../../../_theory_nbs_/theory.ipynb\">numbers</a>.<a class=\"ProveItLink\" href=\"../../theory.ipynb\">multiplication</a>.<a class=\"ProveItLink\" href=\"../../theorems.ipynb#mult_int_closure\">mult_int_closure</a> theorem\n",
    "========"
   ]
  },
  {
   "cell_type": "code",
   "execution_count": 1,
   "metadata": {},
   "outputs": [],
   "source": [
    "import proveit\n",
    "theory = proveit.Theory() # the theorem's theory"
   ]
  },
  {
   "cell_type": "code",
   "execution_count": 2,
   "metadata": {},
   "outputs": [
    {
     "data": {
      "text/html": [
       "With these <a href=\"allowed_presumptions.txt\">allowed</a>/<a href=\"disallowed_presumptions.txt\">disallowed</a> theorem/theory presumptions (e.g., to avoid circular dependencies), we begin our proof of<br><strong id=\"mult_int_closure\">mult_int_closure:</strong> <a class=\"ProveItLink\" href=\"../../../__pv_it/theorems/7b5ce20c0d7f6fa07cc9d4f3bb657d12e6eeb86b0/expr.ipynb\"><img src=\"data:image/png;base64,iVBORw0KGgoAAAANSUhEUgAAAYsAAAAWBAMAAADDQa2RAAAAMFBMVEX///8AAAAAAAAAAAAAAAAA\n",
       "AAAAAAAAAAAAAAAAAAAAAAAAAAAAAAAAAAAAAAAAAAAv3aB7AAAAD3RSTlMAq1RmmUTNIjK7EInv\n",
       "3XZ/CtNrAAAACXBIWXMAAA7EAAAOxAGVKw4bAAAExklEQVRYw8VXf2gbVRz/JrnLXe6SLPvHdYgl\n",
       "ItaM2RC1KzpkBtrBUMRI/UuHBPxDFNGryqRTZzYEBbs2KHVe5/Smf3XRNq4OXQdjWrRWEYvU6XCB\n",
       "zIlzVEcQ5mSo9fve9+7ykvWalRv4he+777279+Pzvj8fwDIUrxTANxk2+yTFe/pW29Rz/pePJ4n9\n",
       "klxt6uj45vN9J6bhQdpngnVd5wUjwB7BjI/l19vsm043vZ9tgzDkIZ7hMDazroe9YEhMH2EfNqHl\n",
       "if1T2Gp870VkOqr5UQ5jJ7O7ohcMlSlrwMfiUobYP4Wyje9rQCuO4bOLw2Ag9aSnbyBWOOhj8ajN\n",
       "V4C+tJ1tX+U4e1ogFdrY7BbbZwiPKuzt4rfgw49NdNh8BeghcvXHXePaqTIFhTM8FH1dqXzlDSNa\n",
       "qZws+1j7LpuVq880hZr+ozsuI8wKwz7g7ba6i4xGmKwnOIwt+O4NQypAxPJ5hIy3GpGLjQF0Bt5u\n",
       "PbE4rBsao1GwvIn7TJ7D6AclIeKfPwS3J1wY+K1/pVsPzH641/HHb4m1aZDmQOuu//ReBu4G7cjq\n",
       "ZaHQMJtu5G3dwsMkB49xGBGrnuWG1o7AtbolWfX0NwqHVgJBPWXmYoY+7uzuM2KpBrEyDP3O+ybY\n",
       "8vcA/AgS7VL789KJ+E80zKZhPj/6QOUEf/8Jt6dhT43vM1h1PVzawlJhNasLWTy9Mg/vxbogBLue\n",
       "gkYY0SJM4GSdvC/GVDUL2nlYlVP+Yj3zl07Ef7KH2QbG9ePmBq2IiSBggEzagDyaWKhn6Gc7Uaau\n",
       "3yHCCIfQx7TJBScFCmKdSps+sqMhpYisG+Nto5qowh3gwODT/AuhGoQsguFFNKzr1nNZd7BrY4HC\n",
       "GvwB1TBHMA5ibnh3ayZqENKU/s4DAgy9A+3jfWPY2bsg1vf0vXqBpDHKVE+6tdpbxBNJuCpoiDD+\n",
       "gED+Bpx+blkYbNj2DdMwgy+38a5zzrcXZcR2DS5WJBjPoUNv/wVWWTI/yhRkzwowlE944h/EZG6B\n",
       "LcrpzY2pOqseI6mPt+M6iFESOVINzkuiNhBbJ9PZbtfFuYPwZsI1Yz5MGc/DRTtuo3U4qXoUE/fA\n",
       "Oly8TDAC7Oja0fRCj5jmqwijFBYr3DZu3adA7bTAFqNMmWKqzsXt2NZtmmYSylNwwP60m1hr/7j/\n",
       "1wYY+xdeai+AIsT6eaeJuSZJwwJVmZ3Sd9S19n4K2LOPmW/+vRf/zgmV+BfQq6pl0oacbirUtQvw\n",
       "2gGIWY6oMOWIujciG62uPixkX+ErpDIw5XhqgZios9lqnoZnLqOgKUhZRGybn3yYihGHnhcuFEoN\n",
       "fkhRGtwAeN5N940Z9fxGBkMrkwgjTCxRU4KoMdxnpYsxoFSpSyDPCQVdvahrhqG88fKdrWG8ALFd\n",
       "Bc8Cs0fYp5yAhQwM4LGpxw0INMO472b8ijDUT0nE3I7ioKHOYDOYlHvSk2ib29i+8O+bVi+87mbU\n",
       "PTYzevaJo03nvLhYaw3jXohPetbZrDpvut5ph80R79sfM6ogiVNxV0Qip4vBabTakmk2zjnmxi+f\n",
       "tGfp7ojR8paqi5dc9Tcs2Mm9wov/OCLTJAWb/bB+KbUrVWLfl2GPu9sZ/HRypZftzBJiCP5/+g/v\n",
       "60bbFxr3VgAAAABJRU5ErkJggg==\n",
       "\" style=\"display:inline;vertical-align:middle;\" /></a><br>(see <a class=\"ProveItLink\" href=\"../../../__pv_it/theorems/34b9bef747bc8d4e40e45cee54af43d51640e71c0/dependencies.ipynb\">dependencies</a>)<br>"
      ],
      "text/plain": [
       "<IPython.core.display.HTML object>"
      ]
     },
     "metadata": {},
     "output_type": "display_data"
    }
   ],
   "source": [
    "%proving mult_int_closure"
   ]
  },
  {
   "cell_type": "code",
   "execution_count": null,
   "metadata": {},
   "outputs": [],
   "source": []
  }
 ],
 "metadata": {
  "kernelspec": {
   "display_name": "Python 3",
   "language": "python",
   "name": "python3"
  }
 },
 "nbformat": 4,
 "nbformat_minor": 0
}