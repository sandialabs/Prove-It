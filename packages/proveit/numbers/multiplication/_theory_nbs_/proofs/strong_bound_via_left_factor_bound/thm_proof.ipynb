{
 "cells": [
  {
   "cell_type": "markdown",
   "metadata": {},
   "source": [
    "Proof of <a class=\"ProveItLink\" href=\"../../../../../_theory_nbs_/theory.ipynb\">proveit</a>.<a class=\"ProveItLink\" href=\"../../../../_theory_nbs_/theory.ipynb\">numbers</a>.<a class=\"ProveItLink\" href=\"../../theory.ipynb\">multiplication</a>.<a class=\"ProveItLink\" href=\"../../theorems.ipynb#strong_bound_via_left_factor_bound\">strong_bound_via_left_factor_bound</a> theorem\n",
    "========"
   ]
  },
  {
   "cell_type": "code",
   "execution_count": 1,
   "metadata": {},
   "outputs": [],
   "source": [
    "import proveit\n",
    "theory = proveit.Theory() # the theorem's theory"
   ]
  },
  {
   "cell_type": "code",
   "execution_count": 2,
   "metadata": {},
   "outputs": [
    {
     "data": {
      "text/html": [
       "With these <a href=\"allowed_presumptions.txt\">allowed</a>/<a href=\"disallowed_presumptions.txt\">disallowed</a> theorem/theory presumptions (e.g., to avoid circular dependencies), we begin our proof of<br><strong id=\"strong_bound_via_left_factor_bound\">strong_bound_via_left_factor_bound:</strong> <a class=\"ProveItLink\" href=\"../../../__pv_it/theorems/682b5aaba6816ece9f2bc012e44bc6bdd28431810/expr.ipynb\"><img src=\"data:image/png;base64,iVBORw0KGgoAAAANSUhEUgAAATwAAAAXBAMAAABkN+50AAAAMFBMVEX///8AAAAAAAAAAAAAAAAA\n",
       "AAAAAAAAAAAAAAAAAAAAAAAAAAAAAAAAAAAAAAAAAAAv3aB7AAAAD3RSTlMAq1RmmUTNIjK7EInv\n",
       "3XZ/CtNrAAAACXBIWXMAAA7EAAAOxAGVKw4bAAAERklEQVRIx81WX2hbVRj/3dx7m5uTNI0Ik61Q\n",
       "Ahv4skoYQ9keukqnc8pmZCpUZQYVigpyC3upzpI9+WCxtbOO+lCvMhTsbK8bTreHEhTppigBOxTK\n",
       "yqmrVK2UosxIHsTvnHNzc5t7wyZE9INfzr0nX8755fsP/CsS9xASu4nyTR/QEvnBQ0iONlFuFJMr\n",
       "ZMTL9hazi7kKYUnnIpXDck3hHvE80GJ673mIkOcilcPS5kicEE4eazG9Pg8RsjtSOSx6r4Rgmcy2\n",
       "mF7JQ4SknLpXB3zlCPlSQqdgaGt16BUUIp3mB5++4NSUo+Rpha+vXv2qxfQMV4Gtb3v1bL1WdK5S\n",
       "KiYztSRZdHzlmT6wjK84ODdMnx8p3Ae8dRM3/hN6wkICBpb5IX/3CTtRJZt5xppeCii7O6Fv+DVl\n",
       "Hm8T8zshMYh4pqmXFp/ZwuVT4sakknO1CtGeVbgL+5xba1+zz2GU6UgVase+RV3Zyh6C5qfnmRzE\n",
       "f9qpkHCS+cjrXts6Ae4mX4qi5wRfmHrrQX8t/PMKRdwr32eFxYwNtBN/S1pJe6qeK3kwfIMUmYH9\n",
       "ITYeBBZpGVWI8ejMMMjr4FyfiaB3bNumBvSGbFWX0GFvpge6VhqoV2yOYZb2zFKYHswqRov0vCA2\n",
       "LoNdF7HgodAjQqHnE/HV+oEVusJchibLNtFLnw7QS68MH6DlxG3UnTKy4bBzazasW+hH8SpS2c3O\n",
       "hVnBBzUasxz7RLyUw86FUcCvvi/+UnHY7eEsFXL2nVUR19tb20h7psMZYTIWuDt0LUBvVRujv91P\n",
       "FBmvWsIOH9qjgtrdRVhVtHtFI8El2IRWgt+xZrPYErOhjzWkhlTO4HWf3m/QCrcDe6BwnKxg9MrL\n",
       "dExZtLzYjZ9NeRU/eAEBerkEL6L/onDou+W0uGg/RuSZB/NEL8W9JMlIxP48XTL9ip/gsQVD1REp\n",
       "M0uOr2xkzN99b0+hu5ei4QEoaEURAGmVvhX52Yku/dnJyXFy7sfZYOxRdFmfySfN1QSZL7Csauw8\n",
       "ObfD42KVJdhhvmNXPYG6Ph38iXzp56GuCp9QZp0rFV/xnbVXuojSFShIy9uJvULZKskh6wouWa6K\n",
       "vUcuBumN0MA2PS5DJp+iM1gFJ0V0xaaCqYHvPUTIy4G2OuArI9nYO+JlBZU+9ugRZxrHkwUD0/QL\n",
       "c0PVaiosgdSIl86DzJ4+KegVnwRzMW9d30sXiQ60joeCfX9382khNCScx5nGtm/kFFSl7rvjHEay\n",
       "xo9zv9CCHXsKGCLjmC88z/YX6tY7/Pi6sLFO/GJ9bwo/P7xrLYf0uCrL9/txZitETMHh4YgUlyic\n",
       "GmTIQ0C8f5BldiIHdmFyInDG5m5yCu9DcFShNt54tkh7FjmlRZAmxe0roc5wykNggHa8ReOPho5t\n",
       "3OgyyaqPNWtwwx5CstpEOTRV2wrBCbC2mD3uDekdWROFBv8Tif831/4N0c8eRSdgHhIAAAAASUVO\n",
       "RK5CYII=\n",
       "\" style=\"display:inline;vertical-align:middle;\" /></a><br>(see <a class=\"ProveItLink\" href=\"../../../__pv_it/theorems/efc26c38ef541c6ccbf06d7782c734e4a3a43bb30/dependencies.ipynb\">dependencies</a>)<br>"
      ],
      "text/plain": [
       "<IPython.core.display.HTML object>"
      ]
     },
     "metadata": {},
     "output_type": "display_data"
    }
   ],
   "source": [
    "%proving strong_bound_via_left_factor_bound"
   ]
  },
  {
   "cell_type": "code",
   "execution_count": null,
   "metadata": {},
   "outputs": [],
   "source": []
  }
 ],
 "metadata": {
  "kernelspec": {
   "display_name": "Python 3",
   "language": "python",
   "name": "python3"
  }
 },
 "nbformat": 4,
 "nbformat_minor": 0
}