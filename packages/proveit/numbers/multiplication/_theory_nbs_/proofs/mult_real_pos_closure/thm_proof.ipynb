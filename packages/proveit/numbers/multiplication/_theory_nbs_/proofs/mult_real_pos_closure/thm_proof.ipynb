{
 "cells": [
  {
   "cell_type": "markdown",
   "metadata": {},
   "source": [
    "Proof of <a class=\"ProveItLink\" href=\"../../../../../_theory_nbs_/theory.ipynb\">proveit</a>.<a class=\"ProveItLink\" href=\"../../../../_theory_nbs_/theory.ipynb\">numbers</a>.<a class=\"ProveItLink\" href=\"../../theory.ipynb\">multiplication</a>.<a class=\"ProveItLink\" href=\"../../theorems.ipynb#mult_real_pos_closure\">mult_real_pos_closure</a> theorem\n",
    "========"
   ]
  },
  {
   "cell_type": "code",
   "execution_count": 1,
   "metadata": {},
   "outputs": [],
   "source": [
    "import proveit\n",
    "theory = proveit.Theory() # the theorem's theory"
   ]
  },
  {
   "cell_type": "code",
   "execution_count": 2,
   "metadata": {},
   "outputs": [
    {
     "data": {
      "text/html": [
       "With these <a href=\"allowed_presumptions.txt\">allowed</a>/<a href=\"disallowed_presumptions.txt\">disallowed</a> theorem/theory presumptions (e.g., to avoid circular dependencies), we begin our proof of<br><strong id=\"mult_real_pos_closure\">mult_real_pos_closure:</strong> <a class=\"ProveItLink\" href=\"../../../__pv_it/theorems/3c89d183306358003df1bead1965f6c2cd3f77d30/expr.ipynb\"><img src=\"data:image/png;base64,iVBORw0KGgoAAAANSUhEUgAAAa0AAAAZBAMAAABwVGzTAAAAMFBMVEX///8AAAAAAAAAAAAAAAAA\n",
       "AAAAAAAAAAAAAAAAAAAAAAAAAAAAAAAAAAAAAAAAAAAv3aB7AAAAD3RSTlMAq1RmmUTNIjK7EInv\n",
       "3XZ/CtNrAAAACXBIWXMAAA7EAAAOxAGVKw4bAAAFE0lEQVRYw8WYb2hbVRTAT5KXvJeXJgt+KE6h\n",
       "RETtF0ucrWiRGWgKnTDM8M8HVzSKIE6mr+CXrrOrQ1ChtMFRJKLuzQ5hqy7RuukGSnCMWIaYD8GO\n",
       "zcDVibOrG0Wok8qs99z73st9SfOSurd5IDcv99z38n7nnHvuuRfASTyVeXBLeuB6i4RNgn4uVWLO\n",
       "IwPu/ak3cd25gtgMY+OL3zCuj7CRXXiQ5szlIzeWax82P7vwoKdqft83t3/nXNzigrOcK4rXtzfm\n",
       "ctS3LnIBYzHvAlek1heZIdj2gG5x/cS5+vH6+cZcjvp1zOm8GYvXLDtquUYgqERhS/a9bJYy53TG\n",
       "9RoaM9OYy1HfumxI0abPFa7uei5JS1v+CsQZV4DihWKNuRz1rcskBkrBFa42nX8vVCppiytjcUkZ\n",
       "xoWpI+CQNxz1rcslnF5pV7gCfII9cbHqL8/hqMUVKfCX/q5SOe2UD530rUu7OceGvh6tySi3XiDN\n",
       "044wKMRSmbxDiMO37tQsLv8K5xoAeNeJy0nfRIT0lzUM7S/Cft02aFALrjR9kjjIx9wesNaxzO6d\n",
       "Vy9a9QYof3GuIZCjomXKR+HBqMBVo1+PCCXGM/QTptP04zhsBZiuRqR6EqQSzHx6i9OD+CCzcinY\n",
       "l9bMyL1iopWXOVdQD6XMvomNU3BbSJd0gUvUt1oznXuundi5yjjh6XMeATgHymX2kuqfaOQlCOfp\n",
       "yK3Yk6ufgcIgQ5QlbMcrVDKcKzgtrGmqweUlFro0gGswSYTEOBT0LQnahuRDI/X+Qq459r/eUhU2\n",
       "A7kULMOeMfToGkVkdZAhfuavQ4K/lIQwU2QjDiG9mV70TfwCcB77O+8YtXEx/ToWYLQNIb4j8Hmy\n",
       "nEzVxKH6D/iWLC7mIgIPAfRyrkbCB3Xffxm5+c1hcf0aGK6OVa4YXJ/RzDI9GG/TVObWztCH221c\n",
       "qIeZzV+Yfp5drC89q53MNoREDtr9tREjmoD6B3jSd9m4YtDupfd+5WQsNmhXz0koYt5grxkhAtch\n",
       "obgy8yHspmlh16+wQfczZSckFmxcqFfn0QxMPtEm67msTm4bkh8+b+f63UjQH8DdiYTIFSTeMk1k\n",
       "ytkqRNqYVaypDpKPpGHFXC4AnrW4XqEcU9btPmP9Ag9GQAcMgu+FbPZtyjUTsHGhXkooBZBZFCdh\n",
       "HPxd/XYu7OTWYrYhW47X5MOnaSpSKM2BxTc6xkQutePLod/otqma/NkkK5tTSxjkIWxqhXlwH5jS\n",
       "zXr+Hci+bJVEUlTcp3wLSUXJc3/5u+r2KW2pSBT2MpueohVzG+TsXKdYGY3WYrYh5GjMvn5hzoAz\n",
       "VsIs1a67CVlrXkCNSQlq41eNn9vfr6QblCMWl7wEZzr5+tsD5jsKXDkt2KuzrY16BfYdlk33mPbE\n",
       "Tl//pjxw2xDy+Ik16vnuhlzDb76uN+XaA+G9Y02rZ6OeN8InCotxGKZ3KT9o4Kn3lzb5KHKpeSgq\n",
       "y70ANJ5n8Bc2Rqd3AUpGbULz/EH7vykYQUHDJ/Kxv2tKp+9XV5un2m0QmW2+ubinfr+sHs9Orb1f\n",
       "9vd1zeJWVPkGHttELSBRC4zHlCKMa0rR7LxZpnGBtvG/9KKarImRm6ykcq2nGE0Cdn795wA0Dr38\n",
       "6kSENtZUNTpLkR693jbi+caoC1wXnNX/4Xxj4nQMnuT9q1epV6wZwTvVqHfWobZy4wygBWntPKru\n",
       "/FC4wbdW5/95fsjkYdzs/Rj/F5GTcB71xGbHAAAAAElFTkSuQmCC\n",
       "\" style=\"display:inline;vertical-align:middle;\" /></a><br>(see <a class=\"ProveItLink\" href=\"../../../__pv_it/theorems/17f702e5db436113ac93ce7a6a075c1987f821980/dependencies.ipynb\">dependencies</a>)<br>"
      ],
      "text/plain": [
       "<IPython.core.display.HTML object>"
      ]
     },
     "metadata": {},
     "output_type": "display_data"
    }
   ],
   "source": [
    "%proving mult_real_pos_closure"
   ]
  },
  {
   "cell_type": "code",
   "execution_count": null,
   "metadata": {},
   "outputs": [],
   "source": []
  }
 ],
 "metadata": {
  "kernelspec": {
   "display_name": "Python 3",
   "language": "python",
   "name": "python3"
  }
 },
 "nbformat": 4,
 "nbformat_minor": 0
}