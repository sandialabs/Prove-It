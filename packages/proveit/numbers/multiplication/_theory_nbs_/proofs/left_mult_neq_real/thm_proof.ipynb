{
 "cells": [
  {
   "cell_type": "markdown",
   "metadata": {},
   "source": [
    "Proof of <a class=\"ProveItLink\" href=\"../../../../../_theory_nbs_/theory.ipynb\">proveit</a>.<a class=\"ProveItLink\" href=\"../../../../_theory_nbs_/theory.ipynb\">numbers</a>.<a class=\"ProveItLink\" href=\"../../theory.ipynb\">multiplication</a>.<a class=\"ProveItLink\" href=\"../../theorems.ipynb#left_mult_neq_real\">left_mult_neq_real</a> theorem\n",
    "========"
   ]
  },
  {
   "cell_type": "code",
   "execution_count": 1,
   "metadata": {},
   "outputs": [],
   "source": [
    "import proveit\n",
    "theory = proveit.Theory() # the theorem's theory"
   ]
  },
  {
   "cell_type": "code",
   "execution_count": 2,
   "metadata": {},
   "outputs": [
    {
     "data": {
      "text/html": [
       "With these <a href=\"allowed_presumptions.txt\">allowed</a>/<a href=\"disallowed_presumptions.txt\">disallowed</a> theorem/theory presumptions (e.g., to avoid circular dependencies), we begin our proof of<br><strong id=\"left_mult_neq_real\">left_mult_neq_real:</strong> <a class=\"ProveItLink\" href=\"../../../__pv_it/theorems/760238c482ef65f82faaa056a0d348e880f1fb340/expr.ipynb\"><img src=\"data:image/png;base64,iVBORw0KGgoAAAANSUhEUgAAATsAAAAXCAMAAABDGxgMAAAARVBMVEX///8AAAAAAAAAAAAAAAAA\n",
       "AAAAAAAAAAAAAAAAAAAAAAAAAAAAAAAAAAAAAAAAAAAAAAAAAAAAAAAAAAAAAAAAAAAAAAAeYafp\n",
       "AAAAFnRSTlMAq1RmmUTNIjK7EInv3Xbt5cnn9enzas/lfgAAAAlwSFlzAAAOxAAADsQBlSsOGwAA\n",
       "A+9JREFUWMPlmOmSpCAMgDnlzt6+/6MuhyhBVKyaH721zEyndMJHE5IQIORfaqqT0x2+Wk+Rf60B\n",
       "w/K5SRi/F3YInuYVSff3jH+46ZjDcsrcw0lpMwS/4GUpZH29fLgj2gXLubbYwUujR+BXvCR1dTxl\n",
       "PtztBMdyrnExcDs6BL/iZVkN6diH2853crbb2fGMGoLf8ZLkm9WXDzcdW7CcDrKTV0k6BL/kZelD\n",
       "at59esg6LImiDtRoH7UA1Gq3BZKjp9mrIfgSaCFHtaWIl6XIidPYr5nhbbaf2RGm1jt5j48mMKsd\n",
       "fgegQEQoiWl3K5GdJPz8lT7pCXwJdISlsOYr4mWpaP14HUbBLYIu7VLdbThOPiOLjnNwCoPAkLQ+\n",
       "VwlhkM1VmqcltNiE+Xu3ewRqVt5Sg3hFJpebmVeDA2pM7AFxTYhTbsp2M8tTdHhcDdmTvERSZC8I\n",
       "dWi77u6VwkgcOUyvXbYTY3AHPIjROj65hwfEK5LBy51CiK0+gvhDuIUp29GJ+rHo+IRf1a3tvMnz\n",
       "25c8IJP44ytJf+92V8CGKFMg61Uj3iaXvNLZxo6D2+EAQsXfegyh2zHkqNWz7cCKse1QdyJdhxkM\n",
       "WHRUzjme3cWsXeFIQeejUzK8tVtiQfnu95+S9WgHvgNmL4YaqwFJx7YizwYV7VunAirF+LKlAyBx\n",
       "SjoC7GGfFLPKtOeexnZ7d2FS+xb/eIPBA7Y6OtsudLWFgVbaNX0tuhDWu5GNyYT6nOJL+jMP54wn\n",
       "YNSg9aPhbVJ5WoORHPMiPHO38FQ2GRpiB8kb2wnj0HdrHlD36qwHZjDgplNs57tqAdUGZcYshtVp\n",
       "Y2ertiIiJetKkPLfcyHwBIwImlyZj2slqo/Qhzalt0mHRmWa8tuSfcSwErNOsst99uh+OGvFnAes\n",
       "OiVm1y5mdUDSUnBaUdCnIkcARBPx2j3Ih+PtEzD9y4Goc6k8zI1+myocbnd+col9+kk5ZXHtSJvv\n",
       "pHT2wnZb9xSP33+YHI8HBg+IdIZ7BQkay8kbt/B4YzIFdAvmqb6Y8Sn7SG5jCk+RnDsIkp/yEHLF\n",
       "ZXSpUcZ7xdEdn74rJkP3AZEOwOng1J/CX98g3NyqPAHTNGzdui5vJGR0dXA8eUxUFSAdgN2eUhyY\n",
       "pdy4bAslF1hcDJKmmmr8bu+OTy0Vk6H7gFgn1sbi+ghvXlyW4dshPj54PgADlEzT8m5vnVj/ZHN4\n",
       "bYVFCq5hNT1GsiPvNxh2pXN1XDN97nxu2CzB3oKvTMFhv+WcWT9p+6eY3+VzBT3+Fk2/A4OHmKnO\n",
       "60FdwazpAE9RP4CneXDnqfz0JDlMXLUMbccaFz0w/FLnP23qP5rrX6L4JMZnrzsvAAAAAElFTkSu\n",
       "QmCC\n",
       "\" style=\"display:inline;vertical-align:middle;\" /></a><br>(see <a class=\"ProveItLink\" href=\"../../../__pv_it/theorems/1789c9e78814d6e98585355c49696b34295d83190/dependencies.ipynb\">dependencies</a>)<br>"
      ],
      "text/plain": [
       "<IPython.core.display.HTML object>"
      ]
     },
     "metadata": {},
     "output_type": "display_data"
    }
   ],
   "source": [
    "%proving left_mult_neq_real"
   ]
  },
  {
   "cell_type": "code",
   "execution_count": null,
   "metadata": {},
   "outputs": [],
   "source": []
  }
 ],
 "metadata": {
  "kernelspec": {
   "display_name": "Python 3",
   "language": "python",
   "name": "python3"
  }
 },
 "nbformat": 4,
 "nbformat_minor": 0
}