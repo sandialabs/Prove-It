{
 "cells": [
  {
   "cell_type": "markdown",
   "metadata": {},
   "source": [
    "Proof of <a class=\"ProveItLink\" href=\"../../../../../_theory_nbs_/theory.ipynb\">proveit</a>.<a class=\"ProveItLink\" href=\"../../../../_theory_nbs_/theory.ipynb\">numbers</a>.<a class=\"ProveItLink\" href=\"../../theory.ipynb\">multiplication</a>.<a class=\"ProveItLink\" href=\"../../theorems.ipynb#weak_bound_via_left_factor_bound\">weak_bound_via_left_factor_bound</a> theorem\n",
    "========"
   ]
  },
  {
   "cell_type": "code",
   "execution_count": 1,
   "metadata": {},
   "outputs": [],
   "source": [
    "import proveit\n",
    "theory = proveit.Theory() # the theorem's theory"
   ]
  },
  {
   "cell_type": "code",
   "execution_count": 2,
   "metadata": {},
   "outputs": [
    {
     "data": {
      "text/html": [
       "With these <a href=\"allowed_presumptions.txt\">allowed</a>/<a href=\"disallowed_presumptions.txt\">disallowed</a> theorem/theory presumptions (e.g., to avoid circular dependencies), we begin our proof of<br><strong id=\"weak_bound_via_left_factor_bound\">weak_bound_via_left_factor_bound:</strong> <a class=\"ProveItLink\" href=\"../../../__pv_it/theorems/4e8307e3d299a4059d1d13ca31c50968652f57870/expr.ipynb\"><img src=\"data:image/png;base64,iVBORw0KGgoAAAANSUhEUgAAATwAAAAXBAMAAABkN+50AAAAMFBMVEX///8AAAAAAAAAAAAAAAAA\n",
       "AAAAAAAAAAAAAAAAAAAAAAAAAAAAAAAAAAAAAAAAAAAv3aB7AAAAD3RSTlMAq1RmmUTNIjK7EInv\n",
       "3XZ/CtNrAAAACXBIWXMAAA7EAAAOxAGVKw4bAAAEVUlEQVRIx8VWXWgcVRT+ZmcmO3t3s1lRCm0g\n",
       "LLQgQlOWUpT2IV1JNf7QGqkKrVKXKtQfkAn4Eq1h++SDwcSWGOJDnEpQaNpkbLHaPoRFkdSKsmCK\n",
       "hZAysZGokRCUurIP4rn3zs7OzsxChZUe+PbOnP1m7jfnnnPuBf4Xi7sImdmEfNsvaIn95CJkR5qQ\n",
       "g6Y7Ehl+s7XF6mK2RNjSuUhy2G5KPMSvj7VY3scuIuwVn65jHjlsbZbACb7Ioy2W1+siwnZ5V+qC\n",
       "5ZHDpuYFuMpktsXySi4iLGXVlnnRqpMj7KqASsnQ1urUK0hELpqbfNM3fOQoe0Hiu6Wlb1ssT7Ml\n",
       "2PqWd87Xe0XnKpViUtQipn7wk2d6wTIecWBuiH4/lXgE+OA2Zvwv8niEODQsO/s973Nmokr5JIJ1\n",
       "+mgD2d4OdcPrKfP4kNb9fggMIJ5pukqLL25yxFWi0T/uvzPGxJCcq3WI9qzEA9hr3V1jsa+glelR\n",
       "kWpKXR4Rjex+KF55ns2Bf9N2iYSV7I/U9u7mMTh28s2wvNhkI3P6JP/twaFa+vdLFPGwuJ/lEdM2\n",
       "0E76DRml173FJSLD90hRGNhf3PEEsEjDiETMia4MjVYdjqPOhOSpp0LNlnuuoMNslAeaVgQoz52j\n",
       "mCWfXgqUBifqVYwU6XqBO74Bu8VzwUWhh7N7Pud/rfet0BT6MhTRtkleesonL70y1Ie0iNWRjNhw\n",
       "2IU1rkmdRLyKVLZxcaFXcKb2CbMO9vLIlwONhRO1An73kuAfmYfdLs5TI2c/GhX+iLm5jdgzHdYw\n",
       "E7ng2IM3ffJWldGjxpfiJU7V4HE4Z46IkKnzRhXtbtNIOAJsTCnB27Fms9gUM6GOBtqyIGfwnifv\n",
       "DyiFe4HdkDhOUdDyYjIVkwYNb3TjV11M5Tx6CT55uYRTxH2XeZf4qJzmE+3DsHjnpX6Sl5JlJJoH\n",
       "Ifb3VEn3On7CiS1oso/UUvilGlnL6H967kl05ykbHoeEUuQJkJblWxG/nehSX56YOEmL+1nWn3si\n",
       "uw5xfYqtcDFfY5mLfbDIF7fD1WKUBdgBZ9tOb1bW9cXAL7SWwTrkZNa5UvEcp9fe7iJJ1yAhIm8m\n",
       "9vBQGyVxyLqGK4Ytc+/py355w+LAdqKPT5Oid7AKTp1B/K5iQ2nguosIeyvkEcRkcO+IlyVk+Zgj\n",
       "B61pHE8WNEzTE/qG7NXUWHylES9dRF709S1oLz4PZmPeuLWH3SNkreNJ/76/q/lpIXRIuIizwW1f\n",
       "y0nITt274wKGs9rPc7/RgG27CxikiOivvcr2FerRO/DsuuUeemO974Oq5KmdazlmuW35MS/PTImI\n",
       "U7CsjHNL3K7XyDconQI26MJn7hdkmZnIUbZPjNX/SgQf/wTU62JNdhte9izylBYhmohbV0I7w7gL\n",
       "3wHacgfFeSb02qCjS6eoHm62Gw65CNlqE3Ko0ZsS/t2gNug9dnN5xgTZOA6u8Ubj99xJi9+Zaf8F\n",
       "Nbgqx5VxEc8AAAAASUVORK5CYII=\n",
       "\" style=\"display:inline;vertical-align:middle;\" /></a><br>(see <a class=\"ProveItLink\" href=\"../../../__pv_it/theorems/347c878956f8ac014f9082be4b9404804d3f6d960/dependencies.ipynb\">dependencies</a>)<br>"
      ],
      "text/plain": [
       "<IPython.core.display.HTML object>"
      ]
     },
     "metadata": {},
     "output_type": "display_data"
    }
   ],
   "source": [
    "%proving weak_bound_via_left_factor_bound"
   ]
  },
  {
   "cell_type": "code",
   "execution_count": null,
   "metadata": {},
   "outputs": [],
   "source": []
  }
 ],
 "metadata": {
  "kernelspec": {
   "display_name": "Python 3",
   "language": "python",
   "name": "python3"
  }
 },
 "nbformat": 4,
 "nbformat_minor": 0
}