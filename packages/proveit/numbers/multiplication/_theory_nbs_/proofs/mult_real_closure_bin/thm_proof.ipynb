{
 "cells": [
  {
   "cell_type": "markdown",
   "metadata": {},
   "source": [
    "Proof of <a class=\"ProveItLink\" href=\"../../../../../_theory_nbs_/theory.ipynb\">proveit</a>.<a class=\"ProveItLink\" href=\"../../../../_theory_nbs_/theory.ipynb\">numbers</a>.<a class=\"ProveItLink\" href=\"../../theory.ipynb\">multiplication</a>.<a class=\"ProveItLink\" href=\"../../theorems.ipynb#mult_real_closure_bin\">mult_real_closure_bin</a> theorem\n",
    "========"
   ]
  },
  {
   "cell_type": "code",
   "execution_count": 1,
   "metadata": {},
   "outputs": [],
   "source": [
    "import proveit\n",
    "theory = proveit.Theory() # the theorem's theory"
   ]
  },
  {
   "cell_type": "code",
   "execution_count": 2,
   "metadata": {},
   "outputs": [
    {
     "data": {
      "text/html": [
       "With these <a href=\"allowed_presumptions.txt\">allowed</a>/<a href=\"disallowed_presumptions.txt\">disallowed</a> theorem/theory presumptions (e.g., to avoid circular dependencies), we begin our proof of<br><strong id=\"mult_real_closure_bin\">mult_real_closure_bin:</strong> <a class=\"ProveItLink\" href=\"../../../__pv_it/theorems/c5c8e4da0aaa10651cc639bde9d639263507f9a90/expr.ipynb\"><img src=\"data:image/png;base64,iVBORw0KGgoAAAANSUhEUgAAAKsAAAAWBAMAAABNknGBAAAAMFBMVEX///8AAAAAAAAAAAAAAAAA\n",
       "AAAAAAAAAAAAAAAAAAAAAAAAAAAAAAAAAAAAAAAAAAAv3aB7AAAAD3RSTlMAq1RmmUTNIjK7EInv\n",
       "3XZ/CtNrAAAACXBIWXMAAA7EAAAOxAGVKw4bAAACuElEQVQ4y61VT2jTUBj/mqRN0qZp8eClIAFh\n",
       "F1EKymA7zEhVBoJWB14mLupBHMyl4EWcUI/ixFzGjH9mRBFqD60KTgRBEMEhwpCBIASyi9MdZCeF\n",
       "geL7lyxJl7CDP/ilfb/3+L3vfd/3EoAtwGTcRE5avgWoGmUcp2Pj/oUHEwtVqpexsDPVdhdjCPl7\n",
       "i2iramyh1YDjAw7RD+Hx+TTXvEEZQU5Hj/G47RWQpTLRr6GhaKXZClXKCEo4Kft6bQXTIHrOASho\n",
       "abYKYwRjDlYdOvjhukZgaxGdR3HkUlPbxxjBG5IJeoaTqxvRZp6Wqf7JdT+m2h5hFCsrXiCe+bkN\n",
       "nZLUWxwPJeF6n0n1YYA7qbbnGE+Z8npQxl9OxwSeHD0X9Kk1NfEHR471BohlX5cusD+7Xx646Iuf\n",
       "KfPvQFj0NW4dFA+4t8Q2VLK9T8gs0mWnUA8mKth72a6rBZjvMu09pbAGxS4JFHeHAaUuSGt4ftpF\n",
       "sKit/AinG+ucF6rYB8SDTdTpKgx6UVvFgg7ZfwkRbTCmQZZE2wpFK+k4oUQ3htCjPTSPt/m77JC7\n",
       "g2xX9WgSOh7sD7ftMQc4kpRiuG+HL+MkYP05qmT+i/Qbu31VdbK5WhDn/BswR9nRYDvnV6fURKkG\n",
       "nhxd9UK2LRwV0adQxQRdwoHLVd4YIUuFu8HNe0Ype9yS4GuZqowOI9D0nw1sL6FrMMP0DMqlUldx\n",
       "OyhNodxv27amqoUT/uKblPkdrxrfgwar1PDxaa0fzjj+G2wW7EnN19EJTXkQzZVA0W6QaNXsKLuZ\n",
       "UGxS9uIq+x297xqb6aCYt0acNhSdAdRwJLfw2i8Zr1P2opZwgQI9W9vzAqY16agH4m18zb91Hx/2\n",
       "J2cZ40h68cV1+iJr23Y9IrcizbkBOeHrEtOzTsLuHmUcKwk5iOk8/Df8A3qfs5QizmuxAAAAAElF\n",
       "TkSuQmCC\n",
       "\" style=\"display:inline;vertical-align:middle;\" /></a><br>(see <a class=\"ProveItLink\" href=\"../../../__pv_it/theorems/cab86d4f65fef57faca17858d18d7fa2a36d044c0/dependencies.ipynb\">dependencies</a>)<br>"
      ],
      "text/plain": [
       "<IPython.core.display.HTML object>"
      ]
     },
     "metadata": {},
     "output_type": "display_data"
    },
    {
     "name": "stdout",
     "output_type": "stream",
     "text": [
      "mult_real_closure_bin may now be readily provable (assuming required theorems are usable).  Simply execute \"%qed\".\n"
     ]
    }
   ],
   "source": [
    "%proving mult_real_closure_bin"
   ]
  },
  {
   "cell_type": "code",
   "execution_count": null,
   "metadata": {},
   "outputs": [],
   "source": []
  }
 ],
 "metadata": {
  "kernelspec": {
   "display_name": "Python 3",
   "language": "python",
   "name": "python3"
  }
 },
 "nbformat": 4,
 "nbformat_minor": 0
}