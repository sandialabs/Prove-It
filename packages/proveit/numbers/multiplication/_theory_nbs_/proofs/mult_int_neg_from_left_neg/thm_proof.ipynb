{
 "cells": [
  {
   "cell_type": "markdown",
   "metadata": {},
   "source": [
    "Proof of <a class=\"ProveItLink\" href=\"../../../../../_theory_nbs_/theory.ipynb\">proveit</a>.<a class=\"ProveItLink\" href=\"../../../../_theory_nbs_/theory.ipynb\">numbers</a>.<a class=\"ProveItLink\" href=\"../../theory.ipynb\">multiplication</a>.<a class=\"ProveItLink\" href=\"../../theorems.ipynb#mult_int_neg_from_left_neg\">mult_int_neg_from_left_neg</a> theorem\n",
    "========"
   ]
  },
  {
   "cell_type": "code",
   "execution_count": 1,
   "metadata": {},
   "outputs": [],
   "source": [
    "import proveit\n",
    "theory = proveit.Theory() # the theorem's theory"
   ]
  },
  {
   "cell_type": "code",
   "execution_count": 2,
   "metadata": {},
   "outputs": [
    {
     "data": {
      "text/html": [
       "With these <a href=\"allowed_presumptions.txt\">allowed</a>/<a href=\"disallowed_presumptions.txt\">disallowed</a> theorem/theory presumptions (e.g., to avoid circular dependencies), we begin our proof of<br><strong id=\"mult_int_neg_from_left_neg\">mult_int_neg_from_left_neg:</strong> <a class=\"ProveItLink\" href=\"../../../__pv_it/theorems/699a558916cd681c1578a405c6b73ee234d13fd90/expr.ipynb\"><img src=\"data:image/png;base64,iVBORw0KGgoAAAANSUhEUgAAAOcAAAAZBAMAAAA4QiR6AAAAMFBMVEX///8AAAAAAAAAAAAAAAAA\n",
       "AAAAAAAAAAAAAAAAAAAAAAAAAAAAAAAAAAAAAAAAAAAv3aB7AAAAD3RSTlMAq1RmmUTNIjK7EInv\n",
       "3XZ/CtNrAAAACXBIWXMAAA7EAAAOxAGVKw4bAAADa0lEQVRIx7VWS2gTQRj+s5tkN69t9KBCQRZ8\n",
       "IBQkggiK1EgjVIsarOjBoqs9lBYPW722GIu3tjQKtqZWWY+10K5VUQJCRQSLiEUKghDYnuoL6UWF\n",
       "IuI/s5vZR0KwGzqQzcw3/+z3v3cAfA8+6+dUEOoa232dEvL1cEYV8lQrN9Ta55rrIY2k8CHJlRvn\n",
       "PWvu8p/u0kSqvExoAEky2eaDtI88mjzWTyygIik3KN3MgRK2l8h4hEy6fJC2MRc7RjiNjx5P6qRR\n",
       "j1kQCzjG8MwqwHW/wf1J3ucxChqIu/e6sYAKk1EHQyfqhi6OyWvnFFFhiHvRCxpBNXPxpVQinogC\n",
       "tAZytsxRrDZUNuzDUAmjBzu96AvqY9P+M1+ZgskbDpnv+HtXKr31QRpQrLgKjcsGQy/+2IiOo8kp\n",
       "2KGNaOMeb7QCjP8vU8xRMXkzPNChRlZZ9v7SZlTgaXqF7Xpt4g3HS0bQ1b0gJH30sDA59AF5XkFw\n",
       "gZXkKsQN4OaogC2ruOJ3LUtsjzmbaGD+yd00C0a3Nelvy/IvXaQJIvQaoRVI6NRIopQCDTqIK0Rg\n",
       "qISDJq0kPwXQ2MkZpOMMpoe4VMgm1Ni0LdBooVyyCMcqLUXSeJ6+BWCRaKLDBRlC1NJJJjpJSnKz\n",
       "bSnJZIV1wwwueRi4CkImk6Fd442Fcs1B0GOZ4ybqdO+MAYecZXpSA466O8HQLVip0RU7piTYsyTN\n",
       "ppqflftXOm0X498ljaLcwFlDd1kaIJ67j6QybOLKOdOQwxADbzq1nDxi+jSKL7hruQ91jn4Uf1sO\n",
       "4a/YhSx9ktIU5XLFHW5SifjwEaaEwS0yOJCKoMZBnS4usYLpAeGW3ZIOUskc6Y/iHLRTbNpZFyle\n",
       "aTdJg1LeRRoidTKM6m593vuZlUxjC3GsmZgPbpu50TE6X3g/r7OTh8uTeBab/z7syDLoRXjI4Fww\n",
       "SVEuF9UVV52SJIJErlph9Vv/5+6VlCrbnSyN1cgBbZBasCsFRZYYEJcHTUvhlFH5leHT1Uhban/8\n",
       "WSuJqyPtWoS4IxaEkBX0Kfzg7geK4n1I8rSQIfIYW/uFhGfvCbXsfgzCHZzt2fBt1IKHZPGEYaLD\n",
       "Xdbn3pG+sqsYHYlQ+76S8GxPFQquG55cFXXekQSjcmO5rjtSSKu53bQut0F+Xe69aMk/GPDPAc67\n",
       "5AgAAAAASUVORK5CYII=\n",
       "\" style=\"display:inline;vertical-align:middle;\" /></a><br>(see <a class=\"ProveItLink\" href=\"../../../__pv_it/theorems/5f92eeeae0340d266bff8a6c36a4582d7d4e9dac0/dependencies.ipynb\">dependencies</a>)<br>"
      ],
      "text/plain": [
       "<IPython.core.display.HTML object>"
      ]
     },
     "metadata": {},
     "output_type": "display_data"
    },
    {
     "name": "stdout",
     "output_type": "stream",
     "text": [
      "mult_int_neg_from_left_neg may now be readily provable (assuming required theorems are usable).  Simply execute \"%qed\".\n"
     ]
    }
   ],
   "source": [
    "%proving mult_int_neg_from_left_neg"
   ]
  },
  {
   "cell_type": "code",
   "execution_count": null,
   "metadata": {},
   "outputs": [],
   "source": []
  }
 ],
 "metadata": {
  "kernelspec": {
   "display_name": "Python 3",
   "language": "python",
   "name": "python3"
  }
 },
 "nbformat": 4,
 "nbformat_minor": 0
}