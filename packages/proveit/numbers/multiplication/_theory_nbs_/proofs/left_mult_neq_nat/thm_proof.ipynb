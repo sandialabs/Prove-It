{
 "cells": [
  {
   "cell_type": "markdown",
   "metadata": {},
   "source": [
    "Proof of <a class=\"ProveItLink\" href=\"../../../../../_theory_nbs_/theory.ipynb\">proveit</a>.<a class=\"ProveItLink\" href=\"../../../../_theory_nbs_/theory.ipynb\">numbers</a>.<a class=\"ProveItLink\" href=\"../../theory.ipynb\">multiplication</a>.<a class=\"ProveItLink\" href=\"../../theorems.ipynb#left_mult_neq_nat\">left_mult_neq_nat</a> theorem\n",
    "========"
   ]
  },
  {
   "cell_type": "code",
   "execution_count": 1,
   "metadata": {},
   "outputs": [],
   "source": [
    "import proveit\n",
    "theory = proveit.Theory() # the theorem's theory"
   ]
  },
  {
   "cell_type": "code",
   "execution_count": 2,
   "metadata": {},
   "outputs": [
    {
     "data": {
      "text/html": [
       "With these <a href=\"allowed_presumptions.txt\">allowed</a>/<a href=\"disallowed_presumptions.txt\">disallowed</a> theorem/theory presumptions (e.g., to avoid circular dependencies), we begin our proof of<br><strong id=\"left_mult_neq_nat\">left_mult_neq_nat:</strong> <a class=\"ProveItLink\" href=\"../../../__pv_it/theorems/0717707a56521a8f633027c59c20a6906d3cf8e40/expr.ipynb\"><img src=\"data:image/png;base64,iVBORw0KGgoAAAANSUhEUgAAATsAAAAXCAMAAABDGxgMAAAARVBMVEX///8AAAAAAAAAAAAAAAAA\n",
       "AAAAAAAAAAAAAAAAAAAAAAAAAAAAAAAAAAAAAAAAAAAAAAAAAAAAAAAAAAAAAAAAAAAAAAAeYafp\n",
       "AAAAFnRSTlMAq1RmmUTNIjK7EInv3Xbt5cnn9enzas/lfgAAAAlwSFlzAAAOxAAADsQBlSsOGwAA\n",
       "A+5JREFUWMPlWNmypCAMlU32zO7/f+qwiBBExar70FNDzXSqveHQOZ6EwLL8S0N2dnrCV/vJ5V8b\n",
       "QLF9HgLGz7kZAk/jZUuO55R9OHXUYjtF9zAopYfAL/CS5aI8Xj9ciGbFdm6sZvBQqxHwK7xoVRGe\n",
       "1B8uO86wnRuMD2RHhsCv8JItRFr64dy5zs5OOwtPyyHwO7xo2c76+uHU0RXb6SQ7qUqQIfBLvGSd\n",
       "j8PZT09Zi+0iiQU52kcNADHK7olkySl6OQS+BDSQstoQhJcsT4VTm6+J8Lbaz+wIU+87qscFCvRm\n",
       "hr8BCCzc58J0yIonkfifv+InOQFfAtqFxrRmG8JLVpLy8bpV9dyGbZq5Ovluw7HiGTL7WAunNPAU\n",
       "WeNSl+AH1VzGOM1CMifU3cvuEVDR/JRohJdtlNxMXA0cEK3DDEoWa1CnecPdzOvJPiwkjuiRnECW\n",
       "JxX4QrHZDnnFNOK1hqmtq3Z8DNwBVsQQnIuZ7ADhZUvh5U7BuSrtNMQMaTRywx2Z6B+zj4vwm7zl\n",
       "zukU3/HKPaLE1bIl3L3srgAbRBETWW0K4e12TW86cWwZ2AMcgMvwrxxDyH4Mqb06VVSE6nrBHZq+\n",
       "CNvBDBbMPjLVHEfvctZsUEvQ+egUiTc5G6hH9e73n1z1SAd8B5hUDCVXPbKW7k2e8TLwW0IBGXN8\n",
       "3csBLCEkFQBM5YeqkLNUjLk7pnMdx7fwnzUweMHWRyXufNdbaGit2eLPIutCexmZUEyIW45sYPrh\n",
       "nPEEGDxI+WjwditLsedBpkdcC0u4e3pKE4mGMEGwlruQs6CH3KHpRawVZrDg7pO5c123gHqDHDEN\n",
       "aXXa2OmmDA+QgnYtSP7ruRF4AgwQJEqZjXslomrqQ1vS26JDgnPY+sPmnDSiaebO2LZY4pdcp1ex\n",
       "FpjzgsUn5+zW5azyyBoCVkkC6tTkcIBAESvTvXg43j4Bxj9Z4CWWgodxg25jh8PMgR8lcYQfnWMV\n",
       "VxbpLrxguOBunx7z8fsPnfKxwuAFkc9wr1i8wna2j3q8MZkCtCvGk30z42L1EcxEMYVMThN4klZe\n",
       "Qmy4jWaJ+1aplbs6HZ++C0wCPRZEPgCng1N/Cn99g3Bzq/IEGMMwZeu6vJEQQepgWVRMcOUgLIDZ\n",
       "v8U80Gu+cVFF7XnDH3JXp+NTS4FJoMeC2Cf0xvz6CK9fXJbh2yE2Png+AHrIlabFu711ov03k9Jr\n",
       "byxicg276TFkk9UNDL3yuTqu6b52Pg9Mize3wFdUMDhuOWfenzD9t1DfxXMHPf4VzbwKg5eY6c7L\n",
       "QV3CLHWAQ1QPwNN4cKdUdvomGExctQy5o41EKwy79PlPh/yPYv0LcfEkJyx0snIAAAAASUVORK5C\n",
       "YII=\n",
       "\" style=\"display:inline;vertical-align:middle;\" /></a><br>(see <a class=\"ProveItLink\" href=\"../../../__pv_it/theorems/9374d9c2f2d2c7c1697baa687a5874bd57e09b510/dependencies.ipynb\">dependencies</a>)<br>"
      ],
      "text/plain": [
       "<IPython.core.display.HTML object>"
      ]
     },
     "metadata": {},
     "output_type": "display_data"
    }
   ],
   "source": [
    "%proving left_mult_neq_nat"
   ]
  },
  {
   "cell_type": "code",
   "execution_count": null,
   "metadata": {},
   "outputs": [],
   "source": []
  }
 ],
 "metadata": {
  "kernelspec": {
   "display_name": "Python 3",
   "language": "python",
   "name": "python3"
  }
 },
 "nbformat": 4,
 "nbformat_minor": 0
}