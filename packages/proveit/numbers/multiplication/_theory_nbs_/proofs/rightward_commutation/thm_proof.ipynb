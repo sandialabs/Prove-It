{
 "cells": [
  {
   "cell_type": "markdown",
   "metadata": {},
   "source": [
    "Proof of <a class=\"ProveItLink\" href=\"../../../../../_theory_nbs_/theory.ipynb\">proveit</a>.<a class=\"ProveItLink\" href=\"../../../../_theory_nbs_/theory.ipynb\">numbers</a>.<a class=\"ProveItLink\" href=\"../../theory.ipynb\">multiplication</a>.<a class=\"ProveItLink\" href=\"../../theorems.ipynb#rightward_commutation\">rightward_commutation</a> theorem\n",
    "========"
   ]
  },
  {
   "cell_type": "code",
   "execution_count": 1,
   "metadata": {},
   "outputs": [],
   "source": [
    "import proveit\n",
    "theory = proveit.Theory() # the theorem's theory"
   ]
  },
  {
   "cell_type": "code",
   "execution_count": 2,
   "metadata": {},
   "outputs": [
    {
     "data": {
      "text/html": [
       "With these <a href=\"allowed_presumptions.txt\">allowed</a>/<a href=\"disallowed_presumptions.txt\">disallowed</a> theorem/theory presumptions (e.g., to avoid circular dependencies), we begin our proof of<br><strong id=\"rightward_commutation\">rightward_commutation:</strong> <a class=\"ProveItLink\" href=\"../../../__pv_it/theorems/fa694e1e8b769b7c48af37cf88e65f6a8838e8a60/expr.ipynb\"><img src=\"data:image/png;base64,iVBORw0KGgoAAAANSUhEUgAAA6sAAAAzBAMAAACDEYMFAAAAMFBMVEX///8AAAAAAAAAAAAAAAAA\n",
       "AAAAAAAAAAAAAAAAAAAAAAAAAAAAAAAAAAAAAAAAAAAv3aB7AAAAD3RSTlMAq1RmmUTNIjK7EInv\n",
       "3XZ/CtNrAAAACXBIWXMAAA7EAAAOxAGVKw4bAAAJ5UlEQVR42u1cfYwcZRl/dmZ2Z3Z27wNN/Ko5\n",
       "VwEN6JWLJaQ08bqkRSmGsAGjhqAsQdP4EZkSElOgZUVFE7e9jaSRJVjHkDT2DrhNLwKWUA6UnA2R\n",
       "rNioOT2zLRdLWznOQr3mjD3fj/l433dmd2Zhtg7jvX/MvfPs8zzzzvzej+d95ncDEK7o4+MmrJZ3\n",
       "QukGqr6VlWKsb+bBVTz3UzSzKyu10LCW4n1LqZFVWLVZqyInBtY1/KmaYPSMtr8MJw1WucyfH0sw\n",
       "rF9u+0tuMGGw3sN3YakRWfzxcDP6yfKbYphy/2+6MOtvv978IWGw/o0/3Red50wPIsWBgig53Y3Z\n",
       "19tqfMJMFKzyNH++qZcQvP1yi7gBSS93Y3Z5UB9MCqx5YdKd7iEEEZRnPItisxuzfNsmpZcSBevr\n",
       "/I1K5R5CEEH5ylub6W2zTPvF9dZEwfp7/lTBg3fboZ2CllfiU0SlWxfe5Z4ceqXCj7KF9cEeBSN1\n",
       "zaunxUuOBc/0jJkd8PqUy8wEwaqdFTo/6s7pGfgZP4a9Er9pjCjpTmCt/8ucdE52FBTugakvw5bA\n",
       "xlEjF9mbjexy9+1izehu7ro5XIQOPdlKEKwpYS3tQ53/0RG4DuARZjomEv3pCzo+QmqWaznz+TLk\n",
       "nZO/oLp+BXOdBrwU5JAYAfzZ6Se/BqUMrBd0yU8HtouaySTil9qHDtlmgmDNC7NSHjX2evxAtYUm\n",
       "HXL4SCQKKE1HIvT0sq1kD1Q8n5dhoGHX8XDZ/RqjjJAIcqi4Q5M6WcS9gfMSpl3UDF4gk9Ni+y3B\n",
       "UoJgHRvxwnoY9DOoY9MQ8wg+EMlAST3rSIRbLNpKVjlCB+QtBaueJ09rmFWGQId55hFbTiZLgpcQ\n",
       "7aJmKgE03X606m8kCNbXDc8krJ8DedGBldwxkcimerbTXEeU0kfZbev1JrdwDbPKEOSQGunzBeZ8\n",
       "o+gluF2WmVzb2bBvyndthecSBOvD4grTAv00pMof42Clks57RKr0+ICzzg1U0Kpm19GkUGIAATQ0\n",
       "0kGbTmKkuFuuyQK8RzJYWMO0yzJLHb90pjNqP00QrIfF3T1aa/fCcLHIwmpJYJfJrXV45WJWNKJ0\n",
       "l/vQUyNZZ0+JItpchYUVhcFPeRw6Xhmj8VzR7XLSEYUdrd52uW1y3VCz/DEcUisdMt7PWrCSaOPC\n",
       "MLCmSBQWw/ea+pvihgeB+fNTPxiqcLBSifoQv9aRleuIoLTX9b2GSUQ+ve4kB0huatT0OHS9MkZu\n",
       "BkEfemrbq5wXb7ucNrluqNm9mysBQ2xjicJ6NT7ZGgZWBVtkjBhuW8+JEmc7IXlmtjvh28H9ZLnS\n",
       "/sfht+AQBowAL+HcXJluIkc7OkWPLQrrd/C2uhYGVg0P7O0xnIMlz/uPy9vCqj74w2uDHZaLoWEN\n",
       "5RCqQZ0jnJshrdno/CJjskhhzaApPVcIAyt5IXQghrDKnhgyaw0O9Yl/t4S9z8rKYvBoHWo/J919\n",
       "+6HuHcLRAC8h3fwE3l3pPAgHBimsMpr1M+FCpnXobzmGsPYveXCpxayJt0XoK9tpHRyoWZHw7+bm\n",
       "XgwHa35u7q+NGMKa876t3BmrBma+OB2ht+MdE25lC9ZrAFAQZiW3K51gVSqQNWMIq7IM8S7K/Hl7\n",
       "bH1NC9ZtoA46yW0cQn7KXo52fLYkP8fAivS2dXOJ+7udCp91elXOL+XCCU9cddxuZ2oRVouN07QF\n",
       "a9bM8fsgnFEF7Wi9JA0ehGvZdMRD8MtuLpHqdsa+1w0M/ZCyhbvfvwf2vxcuaazC2h5WqZXxebh4\n",
       "3yuNKtBgYV3bXcSUr3TZphNuFOQ30C2hgpYNONgCufFOmYTPJ6z2JAzlUbCS2zQjfaV6ipIWpfu+\n",
       "0OJgzcho3tOnTtmh2MTok17HrnBs4QP4z6FR+ye35hZXNjH6LTuQnfp7y7vrsIWv4JP1JZcHnVvy\n",
       "DuwEI2eECpngANqP0uQ2zUgP3fGosZ/syisHL+ZgzX0UaT1mjFmO9T9p3gfKCF8z54ll1fFR9QnF\n",
       "qq6hvXaiS3gHOhFusTYv0h3MzfV7F+L/T/o3WK+eCaz3oBpNbtOM9EsFDW6ksCrOZEhgVXEAtRmn\n",
       "TLaTXlDUpuGGeX5lJkIgZg8A5gBsgV9QdVxLr72abwb+lS7gyHDRyoxuhjHwaGIhXIQmFjyRyI+Y\n",
       "ndIRUrz2YQKHvHf0b7RvLdqwpvDIoMltnJFW30Rr1xX1er0gVfRGmYUV3gf4Bf1R0IZNElv1D8K0\n",
       "vigEXP02V+G3cBXRt9RxLQ+TfDNeYA1rcN8sFZ7w0zxB8mby1+r1H2vfZ4azdEa8uX0xG2ACs7Bn\n",
       "9G+AyQYwL+as5DbOSMu1L6nwIzpa4YYWByvWXIIHxqEP4zRpZDeYhsZvtYnw48RsEZ5HRzwlE3Vc\n",
       "U8XsKP51XdEyPGnCLL3E3nFRkwhh686WRkYiCpnAHrDaG+LNbYoZrAKOPaN/u6l+q8OXi3oDZ6Qn\n",
       "INXalaNpB7kEzshzXwbNaGc2YJwmIG+M3WhCtoSqyNg6EOFHivhkVq6h41chh9WtGuwBV53K1LvK\n",
       "QA2/i2FFwhnt7Aas6Xq1hUuX1oDM03d/huGRiS/moqR/R1IEHHtG/wa4rMCN1iFDex5npKuFrJFa\n",
       "Dyr+L+BdWwG8sH7uk6dGME7VQnrT2imSpaoWtBmoGvhAhdkKIHffW8DHO9edxOpWTakw6pYM71Rs\n",
       "b7NYkVxCIT6oV8MSav9Ed7QdTyz6E/VrnHv5o7i0lmMGq4Bj7+jflP/DsSMkkpG2pouJer0kJg/Z\n",
       "U9PWzJktxwjs2mMScQf2EavT2sF+YNSpLFVyZbO2kGhKwGv2PzlrgP6r+h7+Xj4oJusipH9HQvlm\n",
       "OeQ9pX/Dh0CE9SackU63GeA8rNo/Dtiat680GSOrlj2J3FGntjqtZVb+A4w61elzDXe/WLCERPMm\n",
       "4DUVY8rvAWwUGh0h/TsSyjfHIY+K/u1fDntgHcEZaRnCwEps/aqMcIQ58jWZlx27yM+wrbVfnCBg\n",
       "HSH9OxLKN8sh7y39Wz3ngbVzUqp3FLUPF9+uh17SvyOhfLMc8lX6d9iiTHthjYj+HQnlW+CQ95D+\n",
       "nUrSP2ukz3gm4ajo35FQvgUOeTT0b/8NcitBsIp9PEr6dxSUb5ZD3lv6Nw0ekwKrEApHSP8OpHz7\n",
       "cbVFyjfLIe8t/Zv+70ZCPzIQIf07mPLtw9X2UL4ZDnlP6d8J+8iALORUo6Z/R0P57uQxGvp3djBR\n",
       "sMI3+NOo6d/RUL47wRoN/dvKPScG1io/MiKmf0dD+e7kMSL698uQLFgF7lMs6N+39chve/p34j6O\n",
       "J37K8n9P/46W8s2W9vTvz0PXsG6I92eiM4W4Zb7mz/vz0ihtQh9/PDysq5+Jjn3ZRzsS/kz0fwHH\n",
       "yB8ukeYYuAAAAABJRU5ErkJggg==\n",
       "\" style=\"display:inline;vertical-align:middle;\" /></a><br>(see <a class=\"ProveItLink\" href=\"../../../__pv_it/theorems/38b2c6a292d55d75cf7de1ef204d57d38cab209a0/dependencies.ipynb\">dependencies</a>)<br>"
      ],
      "text/plain": [
       "<IPython.core.display.HTML object>"
      ]
     },
     "metadata": {},
     "output_type": "display_data"
    },
    {
     "name": "stdout",
     "output_type": "stream",
     "text": [
      "rightward_commutation may now be readily provable (assuming required theorems are usable).  Simply execute \"%qed\".\n"
     ]
    }
   ],
   "source": [
    "%proving rightward_commutation"
   ]
  },
  {
   "cell_type": "code",
   "execution_count": null,
   "metadata": {},
   "outputs": [],
   "source": []
  }
 ],
 "metadata": {
  "kernelspec": {
   "display_name": "Python 3",
   "language": "python",
   "name": "python3"
  }
 },
 "nbformat": 4,
 "nbformat_minor": 0
}