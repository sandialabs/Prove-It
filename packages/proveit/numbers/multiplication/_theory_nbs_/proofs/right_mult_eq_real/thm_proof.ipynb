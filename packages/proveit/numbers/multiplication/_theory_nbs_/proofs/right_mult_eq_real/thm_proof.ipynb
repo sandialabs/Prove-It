{
 "cells": [
  {
   "cell_type": "markdown",
   "metadata": {},
   "source": [
    "Proof of <a class=\"ProveItLink\" href=\"../../../../../_theory_nbs_/theory.ipynb\">proveit</a>.<a class=\"ProveItLink\" href=\"../../../../_theory_nbs_/theory.ipynb\">numbers</a>.<a class=\"ProveItLink\" href=\"../../theory.ipynb\">multiplication</a>.<a class=\"ProveItLink\" href=\"../../theorems.ipynb#right_mult_eq_real\">right_mult_eq_real</a> theorem\n",
    "========"
   ]
  },
  {
   "cell_type": "code",
   "execution_count": 1,
   "metadata": {},
   "outputs": [],
   "source": [
    "import proveit\n",
    "theory = proveit.Theory() # the theorem's theory"
   ]
  },
  {
   "cell_type": "code",
   "execution_count": 2,
   "metadata": {},
   "outputs": [
    {
     "data": {
      "text/html": [
       "With these <a href=\"allowed_presumptions.txt\">allowed</a>/<a href=\"disallowed_presumptions.txt\">disallowed</a> theorem/theory presumptions (e.g., to avoid circular dependencies), we begin our proof of<br><strong id=\"right_mult_eq_real\">right_mult_eq_real:</strong> <a class=\"ProveItLink\" href=\"../../../__pv_it/theorems/a81b0b76de7ad4ac7230f65f2819444be6f33f270/expr.ipynb\"><img src=\"data:image/png;base64,iVBORw0KGgoAAAANSUhEUgAAARkAAAAXBAMAAADNQybgAAAAMFBMVEX///8AAAAAAAAAAAAAAAAA\n",
       "AAAAAAAAAAAAAAAAAAAAAAAAAAAAAAAAAAAAAAAAAAAv3aB7AAAAD3RSTlMAq1RmmUTNIjK7EInv\n",
       "3XZ/CtNrAAAACXBIWXMAAA7EAAAOxAGVKw4bAAADdElEQVRIx71WTWgTQRR+STZNspuuOQmlEgKK\n",
       "HrSagxTaQ0yprYpKQwu9KDbQg+BBtkelSvUiaKXxVKNQt9CDIdKkCq0olKCIfyhFLApS2GK1WqEE\n",
       "QSo9iDPzJpvt7sQWI37w7SQzX2a+zHtvdgD+BTROO3yVxBud4G+gRpAOeA2x2IETnCH6ZWt1bnZy\n",
       "OvFRLHZajCLb6JeTVZmRk0gBanSRWIBTyAs0vKmq3EhRpACeuEgswF4kda9EqnIT5BThhUgsmkNn\n",
       "9BCvNdWlzXZOEXpFYlFIo8hXc3Mvq3NzmHN8/vbD8i73TZ8nzwmBWF6Iwmj5FKhfJJWnhJAHAW5s\n",
       "YMl45aFezrgalmbM4n4Kt8juN7JcmWMIcbHiLsA+89fHtcAqSbAksg98oYoLNUy2nMZPf0j0N0iP\n",
       "5ll1mTl6JwpHSbNLIL5IPNeZNfYY6F8gBhkDupIQLuKfTydUBaby67l5gvSDhNWbo00HwAfSDAnE\n",
       "etCA1yWdVIRasoK/iHQbFZJ4/wA5kVRoNjbohhQFSmtpVJ+D/IPGQSTu0f0/S7pgCnJkN7wFJCRj\n",
       "5JGNTVHt8oEF8rrwzoOLHY3UzVLc4gbHWV5QzZpIkVU0uXTayb/AU6ShtucNFbaDWii5yxksh9wz\n",
       "SLhLzkD5nX+FLq7V1ZCqGN+kD0KGndiKbyRadsPGD6UJokyDGEFmEltAMdPhO7iSOwCa7HtDxdcg\n",
       "YKZqLgKb3Rp4yPyU0E9GpLifuvXAiJ80ZxvgK3Sx5aWbKUsW83EoaRATyD2Xj0CnZdWGeBwrfw2o\n",
       "uAV6zGwPGO63EjGQR4KL5EcwoaLbFfashzA0kh2IqKrSuaamVsxpqQZxFTm27G4tHzej3y6FycSz\n",
       "djdUPDrdYV4f5PD9vi8khxJI3C8t0ExD7i+wK8ksPIMrbG9U7zHd4oaOY6SYBlE7gBRdcGbsPSic\n",
       "tHef48TXhDbUpWehX0lKkAV47y2Symd5Aw8sWczGOaim/Gr0xCu+UB3vUSUpP7J3t3JihbTuvgeD\n",
       "EenT9BJpYFtTEnzXSX/35/xYe9kNG+egGo5hTifOOLuGodZw5e17mHLeJHjUI7IWIP8pm05bjkX7\n",
       "eYMaRIZTtLQDGXDH2uydAQ1pvTfqvHEZ3Y5J7G6sGp+BdF7pBHddoXCR0xrSUuON5dd1I9L8P2j/\n",
       "Y5HfYo7yc3JERfkAAAAASUVORK5CYII=\n",
       "\" style=\"display:inline;vertical-align:middle;\" /></a><br>(see <a class=\"ProveItLink\" href=\"../../../__pv_it/theorems/a440736b76ebc1006fd18c5e9f4ee1ba859c6b4f0/dependencies.ipynb\">dependencies</a>)<br>"
      ],
      "text/plain": [
       "<IPython.core.display.HTML object>"
      ]
     },
     "metadata": {},
     "output_type": "display_data"
    }
   ],
   "source": [
    "%proving right_mult_eq_real"
   ]
  },
  {
   "cell_type": "code",
   "execution_count": null,
   "metadata": {},
   "outputs": [],
   "source": []
  }
 ],
 "metadata": {
  "kernelspec": {
   "display_name": "Python 3",
   "language": "python",
   "name": "python3"
  }
 },
 "nbformat": 4,
 "nbformat_minor": 0
}