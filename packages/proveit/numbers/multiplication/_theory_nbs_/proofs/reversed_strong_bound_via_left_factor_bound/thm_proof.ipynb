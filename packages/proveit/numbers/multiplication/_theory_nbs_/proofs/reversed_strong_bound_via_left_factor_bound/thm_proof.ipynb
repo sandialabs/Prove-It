{
 "cells": [
  {
   "cell_type": "markdown",
   "metadata": {},
   "source": [
    "Proof of <a class=\"ProveItLink\" href=\"../../../../../_theory_nbs_/theory.ipynb\">proveit</a>.<a class=\"ProveItLink\" href=\"../../../../_theory_nbs_/theory.ipynb\">numbers</a>.<a class=\"ProveItLink\" href=\"../../theory.ipynb\">multiplication</a>.<a class=\"ProveItLink\" href=\"../../theorems.ipynb#reversed_strong_bound_via_left_factor_bound\">reversed_strong_bound_via_left_factor_bound</a> theorem\n",
    "========"
   ]
  },
  {
   "cell_type": "code",
   "execution_count": 1,
   "metadata": {},
   "outputs": [],
   "source": [
    "import proveit\n",
    "theory = proveit.Theory() # the theorem's theory"
   ]
  },
  {
   "cell_type": "code",
   "execution_count": 2,
   "metadata": {},
   "outputs": [
    {
     "data": {
      "text/html": [
       "With these <a href=\"allowed_presumptions.txt\">allowed</a>/<a href=\"disallowed_presumptions.txt\">disallowed</a> theorem/theory presumptions (e.g., to avoid circular dependencies), we begin our proof of<br><strong id=\"reversed_strong_bound_via_left_factor_bound\">reversed_strong_bound_via_left_factor_bound:</strong> <a class=\"ProveItLink\" href=\"../../../__pv_it/theorems/2ace9e2ec733986c1d82c72216eccd5aaed5043a0/expr.ipynb\"><img src=\"data:image/png;base64,iVBORw0KGgoAAAANSUhEUgAAATwAAAAXBAMAAABkN+50AAAAMFBMVEX///8AAAAAAAAAAAAAAAAA\n",
       "AAAAAAAAAAAAAAAAAAAAAAAAAAAAAAAAAAAAAAAAAAAv3aB7AAAAD3RSTlMAq1RmmUTNIjK7EInv\n",
       "3XZ/CtNrAAAACXBIWXMAAA7EAAAOxAGVKw4bAAAEO0lEQVRIx81WXWgcVRT+ZncmO3t3s1kQWppA\n",
       "WGjRl0aWUpQWmgZSjVZaI9VAVOqihaKCTMCXaA3bJx8MJrbEkj7UUYpC0yZji9UWDIsibRVlH1os\n",
       "lJaJjUSNDUGpK/sgnvszs7M7s7TCih745s6c+Xbut+ece+4F/hVLKITMakK+6w+0xH5QCNneJuRG\n",
       "M1yJLH9Y32J1MUcibJl8JDlsNyUe4vf7WyzvQ4UIeymSHLY2W+AgT/Jki+X1K0TY5khy2OJ9Alxl\n",
       "KtdieSWFCEvbImL5enKEfS0QJ2Jbq0uvIBGZNCGMfe4GyVH2gsS3169/02J5uiPBVjrfOl3rFV1L\n",
       "pCmVlU+3zgfIs/1gWZ84Mj9G148lHgGO3sWM/0QejxCHjgV3l+991kpWqZ68YG3bWSM7GxFf9XvK\n",
       "BbxHFfAABEaQyDbN0rV9a2QWkncWlZr3OkR7TuJBbLfv8V6zL6GX6ZN+qd074JHN3C5o/vI8mQf/\n",
       "TxslknZqMHK6t9dNwXVSr0fJs0NsG70Y9sp/UKKIh8XzHI+Yvop20m/6UcJQpyIzfIc0hYH9wR2P\n",
       "A9domJCIudErQ6esw3XjsxHyXu1sZJPnIjqsenmgaUWA+rhzEnPkM2oLdeioRzaqmCjS/WXuuAR2\n",
       "m9eCQqGXLjO9n/JXKwOLNIWxAE20bZKXOR6Ql1kc4xk5uJZ2p6zYcNiZZUt6ElWkc/XJhVHBCU/M\n",
       "nIvtvF7KfnLX+mS9gF/9IvhL1mGPwmlq5Ox7s8Knt9a1EXu2wx5nohZcZ/RmQN6SNvk8MEwSmVs1\n",
       "eRxOWROW9JhVtKtulnQF2JRWgr9jzeWwJmYh7tXYtoEAOYt3fHm/QSvcB2yBxAGKgt4nJovjmEnD\n",
       "az342RBTuY+eQ0BePukWMcxbQuKDcoZPtAPjkB6Sl1bNjDcPQuzP4yXD7/hJN3ZZl32krrFwsp41\n",
       "fvdzfgw9fVQNj0FCK/ICyMjlWxHXLnTHX5yePkTJ/SQXrD2qLvMLcac5GhfzFRaUh5LbobSYZQG2\n",
       "292wyZ+VdX828hPlUtQku+W3ZU5mXYsVn/j+8pvdJOkKJETkreRWvhrNkjhkXcFF05G199T5oLxx\n",
       "OrDNHBIlM5imb7AKDp9QntrSwFWFCHtDXE8FNjVBTDXuHYmyhFxr1sQeewYHUgUdM/QLY1X2amos\n",
       "gaWRKJ0FhT1zmMsrPgfm4IJ5e6vyrOCJ4L6/uflpIXRIOIuTjdu+npeQnbr//jMYz+k/zv9CAzZs\n",
       "KWCUgmO88jLbUahFb/czKzzGcVIT63+XZ/XJTct55UnN7/TrzJKIOAWHD0dEvEHl1GCjCgFT/yDH\n",
       "rGQe7Nz0VOAb9bvJEXwErjHoCRhf9izylBYhmojrF0M7wxGFwAHaVoPmDoU+2+joNiiqTzfb4MYU\n",
       "QrbUhBw6VVsSwROgNxi9zh3l7VnmjQb/E0v8N9P+DRafHJNEE9lOAAAAAElFTkSuQmCC\n",
       "\" style=\"display:inline;vertical-align:middle;\" /></a><br>(see <a class=\"ProveItLink\" href=\"../../../__pv_it/theorems/76ed951688ad3b3041b3e21a213e6cd8a44c622d0/dependencies.ipynb\">dependencies</a>)<br>"
      ],
      "text/plain": [
       "<IPython.core.display.HTML object>"
      ]
     },
     "metadata": {},
     "output_type": "display_data"
    }
   ],
   "source": [
    "%proving reversed_strong_bound_via_left_factor_bound"
   ]
  },
  {
   "cell_type": "code",
   "execution_count": null,
   "metadata": {},
   "outputs": [],
   "source": []
  }
 ],
 "metadata": {
  "kernelspec": {
   "display_name": "Python 3",
   "language": "python",
   "name": "python3"
  }
 },
 "nbformat": 4,
 "nbformat_minor": 0
}