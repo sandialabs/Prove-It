{
 "cells": [
  {
   "cell_type": "markdown",
   "metadata": {},
   "source": [
    "Proof of <a class=\"ProveItLink\" href=\"../../../../../_theory_nbs_/theory.ipynb\">proveit</a>.<a class=\"ProveItLink\" href=\"../../../../_theory_nbs_/theory.ipynb\">numbers</a>.<a class=\"ProveItLink\" href=\"../../theory.ipynb\">multiplication</a>.<a class=\"ProveItLink\" href=\"../../theorems.ipynb#right_mult_eq\">right_mult_eq</a> theorem\n",
    "========"
   ]
  },
  {
   "cell_type": "code",
   "execution_count": 1,
   "metadata": {},
   "outputs": [],
   "source": [
    "import proveit\n",
    "theory = proveit.Theory() # the theorem's theory"
   ]
  },
  {
   "cell_type": "code",
   "execution_count": 2,
   "metadata": {},
   "outputs": [
    {
     "data": {
      "text/html": [
       "With these <a href=\"allowed_presumptions.txt\">allowed</a>/<a href=\"disallowed_presumptions.txt\">disallowed</a> theorem/theory presumptions (e.g., to avoid circular dependencies), we begin our proof of<br><strong id=\"right_mult_eq\">right_mult_eq:</strong> <a class=\"ProveItLink\" href=\"../../../__pv_it/theorems/b24e2b32177fd2c3c2be97c535e2779fc1bfdea90/expr.ipynb\"><img src=\"data:image/png;base64,iVBORw0KGgoAAAANSUhEUgAAAQMAAAAXBAMAAAD9zzfBAAAAMFBMVEX///8AAAAAAAAAAAAAAAAA\n",
       "AAAAAAAAAAAAAAAAAAAAAAAAAAAAAAAAAAAAAAAAAAAv3aB7AAAAD3RSTlMAq1RmmUTNIjK7EInv\n",
       "3XZ/CtNrAAAACXBIWXMAAA7EAAAOxAGVKw4bAAADJUlEQVRIx71WTWgTQRR+2d202d025iSUSggo\n",
       "etBoDiLUQ4yU+oNKg4InsQs9CJ62R6VK9SJIpfVU9FC34MFSaaKCCkIJiviHUqRFQQpbrNQfKEXQ\n",
       "Sg/im32zs3F3om0O/eDbSd57O/PtvDc/AHXD5gyjsVbwSjtYMZIZYgRxVx4cwUnOFPuzsQ4JWzmj\n",
       "+CgPjurKETvYn1OrV2BYRAkaHFmwBKeJF1j2BlcvQcsRJVALsmAJdhKZZDOzeglNnDK8lAXL+nA8\n",
       "qiiwoY5S2MwpQ7csWJaxHPH1zMyrOiQc4hyfvfUomMSeifP4vCMJNuZyMBIs3NZ5XDdmingA4Hqt\n",
       "cQq1JXRzFpJpbVKsx2dwAyd3l5f/GQ8pHmwqFdgj3j5h68tYNBaxBxpTtcb5R5m+Jaq2uhwTxXY7\n",
       "B0ew2SYJvohCW8QKeQJMN6ryqDtmsQ4JT4kJ0GjBlVjTCfABmwFJsNPkwhs2+k82Q4vQXMaXF4mK\n",
       "W7sa/y8BS5o2w2aWtBdg/GDTLAvuchK/2O8p9s4glPC74xUiWHl8jOUfMP/C/jncteOzEKuSQEYv\n",
       "175DJAK7tg1/KzJ+g4ofBdlwLbDAfZCs+JJKrlcXyiQR7uIGZbxLLLEt025pwPIeX+f0BxI848Fr\n",
       "iJxwAAwTR4sbwBQp/g4xawtAW3gWWPBV0EXNlTKwXrFBxf4ZoRc9WiHBJKownMDmbBa+BBK4Eaod\n",
       "tPCQOy4fhqNVQ2ULBVqsf4EF74UuUba6q0xpOGqZCLE+TE4xSRKXvGcrpKtrYUn05TsArhBvLijt\n",
       "wbYw8u1SGnubDktgwSMTneJkNtIPez5j/RSJNDO2vptlNFHxTvtpeF4lgRkpEcKBr/YRZReGybCF\n",
       "Au+Hzec4abe2B445Y9BrWhqMAbyPLwYSPCOH76CzSC3UPMEiB5dpGY/D5nZOKvX27fegP6N9mviK\n",
       "DWxqswIJnpHDdyCGOKM4EzUNQbMbK4dnazB6SPOkZgxbz0n3BeFAjHLKxotgFJR8R9io28TqG5fD\n",
       "m5h7XL41CQf7BpcYvQxJ7oPSwHnO6oz5TTxflksQjrWDvRaD/AFw7tvDidcYtAAAAABJRU5ErkJg\n",
       "gg==\n",
       "\" style=\"display:inline;vertical-align:middle;\" /></a><br>(see <a class=\"ProveItLink\" href=\"../../../__pv_it/theorems/8c7788620c5bb71b36b7a1fbbbe039cb6c1fcdcf0/dependencies.ipynb\">dependencies</a>)<br>"
      ],
      "text/plain": [
       "<IPython.core.display.HTML object>"
      ]
     },
     "metadata": {},
     "output_type": "display_data"
    }
   ],
   "source": [
    "%proving right_mult_eq"
   ]
  },
  {
   "cell_type": "code",
   "execution_count": null,
   "metadata": {},
   "outputs": [],
   "source": []
  }
 ],
 "metadata": {
  "kernelspec": {
   "display_name": "Python 3",
   "language": "python",
   "name": "python3"
  }
 },
 "nbformat": 4,
 "nbformat_minor": 0
}