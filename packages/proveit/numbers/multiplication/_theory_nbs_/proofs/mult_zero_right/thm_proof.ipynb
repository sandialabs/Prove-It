{
 "cells": [
  {
   "cell_type": "markdown",
   "metadata": {},
   "source": [
    "Proof of <a class=\"ProveItLink\" href=\"../../../../../_theory_nbs_/theory.ipynb\">proveit</a>.<a class=\"ProveItLink\" href=\"../../../../_theory_nbs_/theory.ipynb\">numbers</a>.<a class=\"ProveItLink\" href=\"../../theory.ipynb\">multiplication</a>.<a class=\"ProveItLink\" href=\"../../theorems.ipynb#mult_zero_right\">mult_zero_right</a> theorem\n",
    "========"
   ]
  },
  {
   "cell_type": "code",
   "execution_count": 1,
   "metadata": {},
   "outputs": [],
   "source": [
    "import proveit\n",
    "theory = proveit.Theory() # the theorem's theory"
   ]
  },
  {
   "cell_type": "code",
   "execution_count": 2,
   "metadata": {},
   "outputs": [
    {
     "data": {
      "text/html": [
       "With these <a href=\"allowed_presumptions.txt\">allowed</a>/<a href=\"disallowed_presumptions.txt\">disallowed</a> theorem/theory presumptions (e.g., to avoid circular dependencies), we begin our proof of<br><strong id=\"mult_zero_right\">mult_zero_right:</strong> <a class=\"ProveItLink\" href=\"../../../__pv_it/theorems/3076c43b4aca00fc912d70999ee6ef99a5f4e75e0/expr.ipynb\"><img src=\"data:image/png;base64,iVBORw0KGgoAAAANSUhEUgAAAJ8AAAAVBAMAAACqHiFtAAAAMFBMVEX///8AAAAAAAAAAAAAAAAA\n",
       "AAAAAAAAAAAAAAAAAAAAAAAAAAAAAAAAAAAAAAAAAAAv3aB7AAAAD3RSTlMAq1RmmUTNIjK7EInv\n",
       "3XZ/CtNrAAAACXBIWXMAAA7EAAAOxAGVKw4bAAACHklEQVQ4y42VT2jUQBTGvyYxySbd0KsgJSC0\n",
       "Bw+bg3io/xaqrVCFpV486YIH0VO8V1kPgijSFgoahRKwhy6FWsVLKZS9FAQRqhdPC1moCB6KB0HQ\n",
       "izM7s0kmmVn94Ftmfpl5M5n3JgsMVcgt4/+PM3k+c0nX5eMpHqON44qAJ7gF7RyE8AKo8EXauSWP\n",
       "5zSZBZm+8wW4AxV+QDrWkjygETALOgtsAyehwmYMuL484Ci3oGWgFmM0VmGd7MBUHOEEt6CfwKIP\n",
       "M1Dij93uB0XAOe7N3vrO4CUcOjOAO1Y47gxfAl4oAt7krnvjxj5n1h8yM4Hez9WVLtUnEd+FJazm\n",
       "rYzf583PzHqo/x4J8gG3oHXEtXO4ErsNTu1e1HCWQ+0l7+8x2zBY7bymZURm3khg/yi8coa1JM3J\n",
       "hRbJ+CZwWgxIUp30+9U6O/2ajyOdclIGuHmO/BzOHoT98n/1kOxffGWyduikZRIB52No++IZ5vFb\n",
       "Ut5eeNT02/TB5GS26ipzu3EMbgrPADPkXIt3IYcXSE50rNq4Sh9MTWWD3jDXHl/GfAqrvvOeXKCt\n",
       "QsAcHmlR8As4FUWR/+haNugp89qhNp3dJWeuRyZUG8V7X8B2x8IT2qBJcQartpgluofheMFtGqSA\n",
       "aEG9C7HLqV5nlmgaw7Hxdfc7rOe0uXF7Jd3UM+6SFN+nIt6IIvFo2twlVeQf+8q//gOshLmkb/Lx\n",
       "BP8FxGCZ4oa++IsAAAAASUVORK5CYII=\n",
       "\" style=\"display:inline;vertical-align:middle;\" /></a><br>(see <a class=\"ProveItLink\" href=\"../../../__pv_it/theorems/5cb9fc3330148d88a2e8ebcc4de955374a2cca3b0/dependencies.ipynb\">dependencies</a>)<br>"
      ],
      "text/plain": [
       "<IPython.core.display.HTML object>"
      ]
     },
     "metadata": {},
     "output_type": "display_data"
    },
    {
     "name": "stdout",
     "output_type": "stream",
     "text": [
      "mult_zero_right may now be readily provable (assuming required theorems are usable).  Simply execute \"%qed\".\n"
     ]
    }
   ],
   "source": [
    "%proving mult_zero_right"
   ]
  },
  {
   "cell_type": "code",
   "execution_count": null,
   "metadata": {},
   "outputs": [],
   "source": []
  }
 ],
 "metadata": {
  "kernelspec": {
   "display_name": "Python 3",
   "language": "python",
   "name": "python3"
  }
 },
 "nbformat": 4,
 "nbformat_minor": 0
}