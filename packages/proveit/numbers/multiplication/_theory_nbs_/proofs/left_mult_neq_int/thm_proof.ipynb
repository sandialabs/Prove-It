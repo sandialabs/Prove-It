{
 "cells": [
  {
   "cell_type": "markdown",
   "metadata": {},
   "source": [
    "Proof of <a class=\"ProveItLink\" href=\"../../../../../_theory_nbs_/theory.ipynb\">proveit</a>.<a class=\"ProveItLink\" href=\"../../../../_theory_nbs_/theory.ipynb\">numbers</a>.<a class=\"ProveItLink\" href=\"../../theory.ipynb\">multiplication</a>.<a class=\"ProveItLink\" href=\"../../theorems.ipynb#left_mult_neq_int\">left_mult_neq_int</a> theorem\n",
    "========"
   ]
  },
  {
   "cell_type": "code",
   "execution_count": 1,
   "metadata": {},
   "outputs": [],
   "source": [
    "import proveit\n",
    "theory = proveit.Theory() # the theorem's theory"
   ]
  },
  {
   "cell_type": "code",
   "execution_count": 2,
   "metadata": {},
   "outputs": [
    {
     "data": {
      "text/html": [
       "With these <a href=\"allowed_presumptions.txt\">allowed</a>/<a href=\"disallowed_presumptions.txt\">disallowed</a> theorem/theory presumptions (e.g., to avoid circular dependencies), we begin our proof of<br><strong id=\"left_mult_neq_int\">left_mult_neq_int:</strong> <a class=\"ProveItLink\" href=\"../../../__pv_it/theorems/2943823c5aa817e2dd05e1fa0229fb469e873a3e0/expr.ipynb\"><img src=\"data:image/png;base64,iVBORw0KGgoAAAANSUhEUgAAATsAAAAXCAMAAABDGxgMAAAARVBMVEX///8AAAAAAAAAAAAAAAAA\n",
       "AAAAAAAAAAAAAAAAAAAAAAAAAAAAAAAAAAAAAAAAAAAAAAAAAAAAAAAAAAAAAAAAAAAAAAAeYafp\n",
       "AAAAFnRSTlMAq1RmmUTNIjK7EInv3Xbt5cnn9enzas/lfgAAAAlwSFlzAAAOxAAADsQBlSsOGwAA\n",
       "A+tJREFUWMPlmOmSpCAMgOWSO3v7/o+6BEQNomLV/OitpWY6ZXf4kJCEwDT9Q003crjDlym+foNP\n",
       "acCpfG4KLn6QrkseBhbJtu+5+GzTcU/lkLn7czK2S34BzFKq+vX82Y7oZirH2ux631rTI78CojTV\n",
       "8bT9bLeTgsqxJmTP7ViX/AqYZTWk559tu9DI0W4dx7O6S34HRClWq8+fbTo+UzkcY2enUqxLfgnM\n",
       "MkRswX94yHoqJ8086N4+6gCYM36NI8/Os9dd8iXRQY5qxwgwS5kTp3VfM8XbdD+yJYwsNzpPSBaw\n",
       "i+u+AjCYZCx5afcqmZ0k/vyFn+xEviT6iWNYi4UAs9SsfrxuLFgv098hldxoe/VMLDreQxsGkRPp\n",
       "Qi4SYieZa5ymm1gxCQ8PbvdINLx8yywBFokuNzKvAw6YtalHTK/hHbgh240sT9ERKXBUQwqKSJmd\n",
       "IG4Wdkv1L4wiuTubWdps14bGEzHNLmAkByDAIjm83CmkXOsjgauij9n4xnZsoH4sOgHxi76zXbB5\n",
       "evuKx6NJwp61VHhwuwGiwkA2iyHAVc55pbONvQC/wQGkTn/1GMLWYwgp1iVNcUfbke6T8g2mM2DR\n",
       "0TnnBH4Ts26BPQOdN1K0uyvRwCPNd7//lKzHGvIdMbsx1FiNRHq+FnkuBaHZFhw0xvi8pgOY0pRM\n",
       "AjhLsgs3F7bbukuL7Vv6FwcMHfCoY7LtIi0uLBylW/Ct2Dzx1otcyiUs5AxfXtA+HTSeiEmD1Y8D\n",
       "cJU6sBqM0z4vjMjEXU2jHRoaUgcljtv3RJP64U1J9+qsO6Yz4KpTbBdotUBKgzJhHuV5X+eLcTIR\n",
       "FW8qkPXncyHwREwMhr4s+sUSM3vowzGlH5MOS8pp70+bc/YRy/PiereFxznf7d13Z62Y84BVp8Ts\n",
       "QmPWRCIdA280A3OqcSRAspCovaN6Ot8+EfEnD7LOpQIbsMPfrdhNgS6xTR+VMYubfSUVN7ga/sJ2\n",
       "a3eMx+8/bI7HHUMHJDq9vWKKhsrBC7f4fGMyRPQzBeq2mAmYfZRwKYVjJOcOcspPeQi10DLaZw9X\n",
       "sReze3d6+q6YDN0GJDoAp4NTcwh/fYNwd63yRMRpuLp1XV5JqOTr4LHyQFUJygMWb/kJA8HO5cal\n",
       "liiMJUe3M+vmu607PbVUTIZuA1KdVBtLd3WCty/uyprLIdE/eD4QI5RMcwTe3jrx9snl8FoLCwyu\n",
       "bjXdR/I97x8w/Ern4rRm29T53BqrRHdLvjKFgO2Wc2QBlWufUn5XzxV0/y0O/XYMHWKgOq/ndA2j\n",
       "poNmhuaBPAyEO08VpyclYOCqpWs7fnDRHSMudf7Tpv+juf4Fo8EkIexZEkIAAAAASUVORK5CYII=\n",
       "\" style=\"display:inline;vertical-align:middle;\" /></a><br>(see <a class=\"ProveItLink\" href=\"../../../__pv_it/theorems/0aa1f153ebe2b0af72246d557176fdac30b9b8f60/dependencies.ipynb\">dependencies</a>)<br>"
      ],
      "text/plain": [
       "<IPython.core.display.HTML object>"
      ]
     },
     "metadata": {},
     "output_type": "display_data"
    }
   ],
   "source": [
    "%proving left_mult_neq_int"
   ]
  },
  {
   "cell_type": "code",
   "execution_count": null,
   "metadata": {},
   "outputs": [],
   "source": []
  }
 ],
 "metadata": {
  "kernelspec": {
   "display_name": "Python 3",
   "language": "python",
   "name": "python3"
  }
 },
 "nbformat": 4,
 "nbformat_minor": 0
}