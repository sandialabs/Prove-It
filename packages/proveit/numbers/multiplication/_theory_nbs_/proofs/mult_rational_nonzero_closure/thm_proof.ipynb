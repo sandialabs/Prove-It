{
 "cells": [
  {
   "cell_type": "markdown",
   "metadata": {},
   "source": [
    "Proof of <a class=\"ProveItLink\" href=\"../../../../../_theory_nbs_/theory.ipynb\">proveit</a>.<a class=\"ProveItLink\" href=\"../../../../_theory_nbs_/theory.ipynb\">numbers</a>.<a class=\"ProveItLink\" href=\"../../theory.ipynb\">multiplication</a>.<a class=\"ProveItLink\" href=\"../../theorems.ipynb#mult_rational_nonzero_closure\">mult_rational_nonzero_closure</a> theorem\n",
    "========"
   ]
  },
  {
   "cell_type": "code",
   "execution_count": 1,
   "metadata": {},
   "outputs": [],
   "source": [
    "import proveit\n",
    "theory = proveit.Theory() # the theorem's theory"
   ]
  },
  {
   "cell_type": "code",
   "execution_count": 2,
   "metadata": {},
   "outputs": [
    {
     "data": {
      "text/html": [
       "With these <a href=\"allowed_presumptions.txt\">allowed</a>/<a href=\"disallowed_presumptions.txt\">disallowed</a> theorem/theory presumptions (e.g., to avoid circular dependencies), we begin our proof of<br><strong id=\"mult_rational_nonzero_closure\">mult_rational_nonzero_closure:</strong> <a class=\"ProveItLink\" href=\"../../../__pv_it/theorems/a4b47a6893c6fae2fc747d823fb5a37a612d7b9c0/expr.ipynb\"><img src=\"data:image/png;base64,iVBORw0KGgoAAAANSUhEUgAAAb4AAAAbCAMAAAA09RoyAAAARVBMVEX///8AAAAAAAAAAAAAAAAA\n",
       "AAAAAAAAAAAAAAAAAAAAAAAAAAAAAAAAAAAAAAAAAAAAAAAAAAAAAAAAAAAAAAAAAAAAAAAeYafp\n",
       "AAAAFnRSTlMAq1RmmUTNIjK7EInv3Xah18O17eXJ8+7nKwAAAAlwSFlzAAAOxAAADsQBlSsOGwAA\n",
       "BalJREFUaN7tWomS5CYMNZe5tclu4v//1HAa4Xu627XO1FI1PR4GaNCTng48DH/a05v5I4L/cbMi\n",
       "fVqwn12XeO/lY0/NxPdAT5J0GhgGoeMTL/0QpE/fWXh88qkp/ybGR5KFOBU+pvgoddNQ9l3hM21z\n",
       "DyGIF7chEmXKKTpAR6shfnf49HwyoM/YkYALSmd1aDwjzeOz/hV+2KASfD4fypsGH2l0w16A743p\n",
       "t6q6m7dln7InOBUQkMiR0hO7nJThc1CGNfj47OFH+QJ8b0y/s3G7JtHf3saTDMAym8ASXFT/ZspD\n",
       "Js8pE4mZzAyfqlAil/gF+N6YfmebqlbxB3ECO46mlK3uSCf/Fsnzn391Ik8UukTBs+b7qk5Y+gp8\n",
       "b0y/samqn4N7klK53vxAh9jfz/SgjSm2YFUBcjaOAWLiUP/iusFXw5evs8yIo59HxTHgq+d71LZG\n",
       "TAVihA7NwJOqRDeUDlxlRBuzWuD1L3Ao8nRRB7yzr8H3+vQ7c6Vx6QMlsSDhJD8+HXI91d5cyhI0\n",
       "ZOkJA3eKAm/4zSKZ0Z3diEIuCb4V0F+D7+Xpd6YNeqHvwgW3oaejTV4YcjlH2FmKIS5YRXohsWDF\n",
       "AQUrTHH8uOsbVIMvVWUk2dUkz2PVjTmyDd/J9DtT82haEiisYt6xbqeUlYxLepoo1bBNqaAhxlpC\n",
       "3oARf1tfCXIHSbO0c+4VrA+CyOle2U+WyCw7rmg5dj1UAdE6rkIGG0Zws5O270y/Ay7NCWlY8Ro6\n",
       "rUTha4zn8r74lHptOhUguZppptk2hHfCb0OON9eGoaWWVtMes88JbY7Ye99nDr8Lwxcpdr1Fnlkx\n",
       "5uMQT2T3qi7b0z8YRhY1ktam5KiGuKkmbdw6okPWV+BzGh2a+k2g25D4IQs/4SHHrQ3rvq0nVRyo\n",
       "rBjfyGXkuWt9ChfNxlpHY5wF7eR9jYAqKoIf3oWvTb8nA69qZCVN3MfkYDnnP/7iXARqj5JTx+Rp\n",
       "prg/VnSf+k2FbkOY6eD7MkngpZpAF9+83oTAeR89zoskhs/SHAYZJiJtR8eLtIOqQJ5U7MNXp0d6\n",
       "Y2DlmvS2erfpcTVyViOlaPoPDNCos1jfcnFSd68hC5TmcDStsAMfHhLO5F/n+LYUEmgSNzI5WGs8\n",
       "r1UXIo5rIF3kGSuEWVulgQhJ/KdgGL4gK9C78NXpg/Fy1gx0nM3ezYOvRzY1YiZvKcIXrO/vnzxa\n",
       "X9rEimlqYlRD9YgiDezGd62vHzIob47c2/y06RjbUkigXRqTpEc3EotS8zyha4bzvqgqlSkIFIZm\n",
       "Y6p3a5rhM3aDjeeeOp3z6JNzCc0g9iu9ggIXxzxZ5zdFazcHxeoyjZt6whB5MrmnngGGLGUCVkkC\n",
       "ah++bojczoOae5ufthwjXmoWaBosulFaLL9F8mkcJ37G25z08LWyjkpCVDGJxNYXRb8P34AChVQO\n",
       "VxRp79zrorYeFpUEKqfXVKmqkejIkx8H9q4Kyq9FQU95UQZM5Gcq8LNAUwq2dHYaF82qJZwHErjm\n",
       "2Yc06cQRsKZ/+a0DIKfwmch7mpl0NWXWvXJlW3vzGRcs3/QgNUKhy+mbEDNNbZSJT+GTWinFP1KH\n",
       "QAK9WD4P5gqEKnEoJ7MNXyqKQnKg4QyVf3KBgFywvui6BGvwpcQa9Q5a1N6tj3kkjZ7WD305RyUN\n",
       "spfuFZuaaLnMjsfJHuu3m2L7iPEhgV69k6FEj04fHZKh+76jJFmnfOukaIY3yxkte83wqXi9j3oz\n",
       "q6de5WT/0Y0MHCLHagptR56P5FpAT+h+gvW7KnmfuhCd3w+772WJSp5deGVNCT+2spquz8eMQZil\n",
       "GlmpLu64XdNKeAZ68Cn07n/XRYHL939dbDUGSvKr3mq5povK4lsOG5vjlHG4VKCjj7oC+WD73Jtm\n",
       "5+95ssu9F3eigF0sh3yX9zxXGlz0HLx37D9DUzAcfK2A1QAAAABJRU5ErkJggg==\n",
       "\" style=\"display:inline;vertical-align:middle;\" /></a><br>(see <a class=\"ProveItLink\" href=\"../../../__pv_it/theorems/cc0fc0cba349bcacceb4b49126c25c5de6cf734b0/dependencies.ipynb\">dependencies</a>)<br>"
      ],
      "text/plain": [
       "<IPython.core.display.HTML object>"
      ]
     },
     "metadata": {},
     "output_type": "display_data"
    }
   ],
   "source": [
    "%proving mult_rational_nonzero_closure"
   ]
  },
  {
   "cell_type": "code",
   "execution_count": null,
   "metadata": {},
   "outputs": [],
   "source": []
  }
 ],
 "metadata": {
  "kernelspec": {
   "display_name": "Python 3",
   "language": "python",
   "name": "python3"
  }
 },
 "nbformat": 4,
 "nbformat_minor": 0
}