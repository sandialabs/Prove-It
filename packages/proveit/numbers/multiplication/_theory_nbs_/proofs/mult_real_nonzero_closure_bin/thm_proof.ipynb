{
 "cells": [
  {
   "cell_type": "markdown",
   "metadata": {},
   "source": [
    "Proof of <a class=\"ProveItLink\" href=\"../../../../../_theory_nbs_/theory.ipynb\">proveit</a>.<a class=\"ProveItLink\" href=\"../../../../_theory_nbs_/theory.ipynb\">numbers</a>.<a class=\"ProveItLink\" href=\"../../theory.ipynb\">multiplication</a>.<a class=\"ProveItLink\" href=\"../../theorems.ipynb#mult_real_nonzero_closure_bin\">mult_real_nonzero_closure_bin</a> theorem\n",
    "========"
   ]
  },
  {
   "cell_type": "code",
   "execution_count": 1,
   "metadata": {},
   "outputs": [],
   "source": [
    "import proveit\n",
    "theory = proveit.Theory() # the theorem's theory"
   ]
  },
  {
   "cell_type": "code",
   "execution_count": 2,
   "metadata": {},
   "outputs": [
    {
     "data": {
      "text/html": [
       "With these <a href=\"allowed_presumptions.txt\">allowed</a>/<a href=\"disallowed_presumptions.txt\">disallowed</a> theorem/theory presumptions (e.g., to avoid circular dependencies), we begin our proof of<br><strong id=\"mult_real_nonzero_closure_bin\">mult_real_nonzero_closure_bin:</strong> <a class=\"ProveItLink\" href=\"../../../__pv_it/theorems/e2c9b529d5753900bc138ee2e21963a787488bc60/expr.ipynb\"><img src=\"data:image/png;base64,iVBORw0KGgoAAAANSUhEUgAAANcAAAAbCAMAAADYiepIAAAARVBMVEX///8AAAAAAAAAAAAAAAAA\n",
       "AAAAAAAAAAAAAAAAAAAAAAAAAAAAAAAAAAAAAAAAAAAAAAAAAAAAAAAAAAAAAAAAAAAAAAAeYafp\n",
       "AAAAFnRSTlMAq1RmmUTNIjK7EInv3Xah18O17eXJ8+7nKwAAAAlwSFlzAAAOxAAADsQBlSsOGwAA\n",
       "A5NJREFUWMPdWFl25CAMNCAWsc3O/Y86CDCmvSfP6Y84L26n7QAlVZWEp+kbHHb6loeT5eyie9OE\n",
       "Qr5jFs3KXHGaJOYL+PIJObwlekzT2Zt8SvlS41ezXvWI3ov756aRhX06kcg8b5n7ygNFu4j83gKv\n",
       "1iOUR0wq+DYyIB1/8q+YTMEVyo1Al2yhjXiW9n4e91zOFn1o+C8XgEVMkgnsFtj+qeLyJTSRMEHX\n",
       "ttKP4gK3puPRoWYdKnuNy5UPw3pUWhQLrlSYYem6P/G03lILGFxmIc08FXAPF+hJNR7+/YeFh4tv\n",
       "UHzEECTHH4VViUHcuNRV6mnyrwmLGPKh9nC1JPSsTJF8vv0FdFe0eKpn0xWbaPjluC4sjBxzK1W0\n",
       "+/li1jYEi86oLkP7K5ZYegpK8A8Xa6ZeZZYV76LeszzFYmSVLI4NvrOjtorLIG9ewOMJA8CskD/j\n",
       "8viaAunzUjBtZ7EpA7BVGWJI7p6NZVxehRTmRKojDZi5D9HsU6WXkqEjj3onC/Uz1ExYT/gg7HQl\n",
       "g0PzQYzqwDeE6A7LD/o0XT2LUuV2HjFqZZE8OAVMLcmH2Z23iwjN23wdGFL50g1ZmscoF8nVQC+T\n",
       "V3nkA1c8RCsuLNZWXMTS3YyyeRkmMsT8bJzyN067sa+1fmtkQ74aLo/LfC+4K1ZZvV76oVwf+byB\n",
       "K9HowkMCtd9TedNCCu0i5p9J2HxyAPDjJ+SqrolbwZzz0CaaQKSj6gVVeHzgaTisX2Auaq1pdczx\n",
       "2XusE9HpfjsblR37m4IrWhhY2PK1ERhrU2OsuHj1SL55kGJb1ZeBD+uN8QhXTuV5yzVXRO1bcG3Q\n",
       "HSyVIDtFGBlBPNRIg+Z8/foNlK9C4S2NY6NUs26CxzP3th0Fy6MhrIpCyTjfwwW15OLZ1k7MdGad\n",
       "cCTYsSHPzivFgAvQNZhz1sgPhT6Mmal8siw6o1k0W5Ez11utIF9uoLTbfh6pXqBKJ+0RrM2dRB7Z\n",
       "KK/8iFBlP4C88tDJOiJcFLxmGDvSO9Z7WG+t8LWPunkosfZHioWwbcWp7tSMm0Z9SensnT3+zClx\n",
       "f9cMz+yU7Kb6e5KXFLYW3CyvIuRhs1N83t5aaecz3t3/PLWjEJseQ4Lg0QlaVCabgepJGk3vRJXL\n",
       "woJb1Gg9334l2m29HtoAhrNx+Eu7RPr66Mul3u7oey8c4kOwTt9vyAfaYP6u93kfYPMjCn7P+8O1\n",
       "+ZSM/AdKUx0GHMlBcQAAAABJRU5ErkJggg==\n",
       "\" style=\"display:inline;vertical-align:middle;\" /></a><br>(see <a class=\"ProveItLink\" href=\"../../../__pv_it/theorems/2b2f605ef969bfca289eaad02053c55ef1eacd750/dependencies.ipynb\">dependencies</a>)<br>"
      ],
      "text/plain": [
       "<IPython.core.display.HTML object>"
      ]
     },
     "metadata": {},
     "output_type": "display_data"
    },
    {
     "name": "stdout",
     "output_type": "stream",
     "text": [
      "mult_real_nonzero_closure_bin may now be readily provable (assuming required theorems are usable).  Simply execute \"%qed\".\n"
     ]
    }
   ],
   "source": [
    "%proving mult_real_nonzero_closure_bin"
   ]
  },
  {
   "cell_type": "code",
   "execution_count": null,
   "metadata": {},
   "outputs": [],
   "source": []
  }
 ],
 "metadata": {
  "kernelspec": {
   "display_name": "Python 3",
   "language": "python",
   "name": "python3"
  }
 },
 "nbformat": 4,
 "nbformat_minor": 0
}