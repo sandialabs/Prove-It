{
 "cells": [
  {
   "cell_type": "markdown",
   "metadata": {},
   "source": [
    "Proof of <a class=\"ProveItLink\" href=\"../../../../../_theory_nbs_/theory.ipynb\">proveit</a>.<a class=\"ProveItLink\" href=\"../../../../_theory_nbs_/theory.ipynb\">numbers</a>.<a class=\"ProveItLink\" href=\"../../theory.ipynb\">multiplication</a>.<a class=\"ProveItLink\" href=\"../../theorems.ipynb#mult_complex_nonzero_closure\">mult_complex_nonzero_closure</a> theorem\n",
    "========"
   ]
  },
  {
   "cell_type": "code",
   "execution_count": 1,
   "metadata": {},
   "outputs": [],
   "source": [
    "import proveit\n",
    "theory = proveit.Theory() # the theorem's theory"
   ]
  },
  {
   "cell_type": "code",
   "execution_count": 2,
   "metadata": {},
   "outputs": [
    {
     "data": {
      "text/html": [
       "With these <a href=\"allowed_presumptions.txt\">allowed</a>/<a href=\"disallowed_presumptions.txt\">disallowed</a> theorem/theory presumptions (e.g., to avoid circular dependencies), we begin our proof of<br><strong id=\"mult_complex_nonzero_closure\">mult_complex_nonzero_closure:</strong> <a class=\"ProveItLink\" href=\"../../../__pv_it/theorems/69d91bff4a29a2e83e0984f7b462ffd122990f940/expr.ipynb\"><img src=\"data:image/png;base64,iVBORw0KGgoAAAANSUhEUgAAAbwAAAAbCAMAAAAwAMoPAAAARVBMVEX///8AAAAAAAAAAAAAAAAA\n",
       "AAAAAAAAAAAAAAAAAAAAAAAAAAAAAAAAAAAAAAAAAAAAAAAAAAAAAAAAAAAAAAAAAAAAAAAeYafp\n",
       "AAAAFnRSTlMAq1RmmUTNIjK7EInv3Xah18O17eXJ8+7nKwAAAAlwSFlzAAAOxAAADsQBlSsOGwAA\n",
       "BXJJREFUaN7tWgmy4yYQFdCInUlmEt3/qGEVIKHFtlSjuIaq75L5DYZ+zesFDcOf9vAm/6jgf9sU\n",
       "DZ/KqkunRcYY9thNE/oV2DEUNmOHgQr3AKnbOt3jT+Ydn7xpDN9x8FA4Hpq7j8k9MlGsk3wreHJe\n",
       "3EO44c1l0ECWbPKOT+N0Br8dPJF3ZvEzFkTtGZNTwoyjZdxBBsK3X+6PDDyAZ8KejCzgoUI05A3w\n",
       "Phh+q53rvCr1lCXZY/1YpJ2QhElAOyiCp20UKuDB7NdH9gZ4Hwy/s4Fasufvb+NRzA82kuRAMngy\n",
       "ebhIm1MgETnJGTyegaxc4QvgfTD8zjYlm4IH0QE5CKE4DCLhgiDS5j//ikCbJWDxaifF52WDUPgd\n",
       "8D4YfmPj2Tr1kyxKt0fPChfum0INSA75AMjElrNTsj5VSN9AFPBy0PI6wYx1zPOo6MWa5PEetaqx\n",
       "pgE62gWNioEtzqYoEi5Jh/TN6ira1N4AjFbvgff+8DuTo7F1fS7VVZbZg2z4UOR8Yt2dSqFKZOUB\n",
       "XTbOWyXi/mpoopUAHvAFyq+B9/bwOxMF0do61c5diGlvjSdETmcFG1ORigfW4Z1DjpIzqRifeAEv\n",
       "FGAY2jQjA768RjTqg3cw/MY83Nsps9iuw9wxLSdVkKQORmqiO+nqpBKRSiH0AYj1r7UnSe8B4ziz\n",
       "zQXxRn2PpWgsOix/atRaklskhOvGaFBOAuRGkr4x/A5XJgAVPoIcL60VYZLz0HFZMIVOFTZlK63K\n",
       "KY+tRKBRfRHZR6yIVVMtj0x5jM7GNVH7PHXup2rwPLeuVwiRD332bf2G1FaFpT/8wtAxGZEUvs6H\n",
       "RVpIKDxLvY7iqpOXwNOi2jM2HZRrEf/BEjXVIvutiDW/1tJpAaCTWIkSbe571Jo2vepTxYwAcaYJ\n",
       "bUEAc0yduW+CV4bfk29nI1Iy/ApRgwKAH38BUMfpXm98nzbl5AeSZPfYdK25iBDZgPcya9ZTFX0u\n",
       "frmzCFryvIHu5kGsBk/hGPtIQj1fe39bmQbmTm+YboOXh3t3Qaxia+fU6+27sZXkbESS8LglVkgz\n",
       "nbzV3CitXtioThwjUMy2watF3JbM+y6vTFXpMxZOqm3ZboUlp3J7TNZEm74SGAcxaf0o/88q8HHg\n",
       "OVVZsQleHj5Iw2a7qHbT7e3uey1ZjAgznP/jTt7fP8GfvLCG9U5zKpSCc48hdrwGmyevFRm4kXt+\n",
       "bf3Qn6rSZ5O4BOXhnk8fgQ0S7zM1qfM8byeZJJBN1EzGUNQWOILnIrtxE7x5OIB3xbFYJiveS70U\n",
       "W6D7DJnHFzObjYhIUuaUeXsu2iRs0zh5BEoiqzhDlm+D14iwjcRnVur6YWOqWZ9BmDZSgso18wg9\n",
       "Gdg3dEAteKWCw4MKeZ0vevC84rfBm0fTVPTmuDLduVd7U92tH9GqaJ5zo2xEnNPih+AglE+RSscd\n",
       "boC3CNoHdk2ZfdZnyLkWFqZEUx57tVCzBI9NYcMermJ88X0Ciw7Bk57xBJHh7kmue9nqXG2NJ0BJ\n",
       "vMypjCgFLP6FnMNXHDJDdYrBh+AxwTmHS4oOlT4vK5LXtwqtMXiErCJxCym4MbEagE6cPO+yKCng\n",
       "hTy66h0Ezb29j1kSew9rFvU9pgKfqDOR7WwkYnGCmBqngxn05Nsliq70edm1C6nu83YiP09X9LA8\n",
       "1gS7BKelRvC4v7mvemPUH3q5Zu1HI+m8KBvzOSgrchwK52J4hLcTqt9UsrvovnN+5+u+1yAybTYx\n",
       "lZKDXfcOHUnjcwQqzxlR1/TmUNg+Azt7EXb3v8PCrY73e01ANTo2MqvefGplE4r5Fxg+Whx+1DXH\n",
       "Ze26t8eO39skp3svv/L+kvc2l5FYvtQzRpP/ALa8LqL9TiO2AAAAAElFTkSuQmCC\n",
       "\" style=\"display:inline;vertical-align:middle;\" /></a><br>(see <a class=\"ProveItLink\" href=\"../../../__pv_it/theorems/32bc43e41234888329899abec0dd7f043ee907fa0/dependencies.ipynb\">dependencies</a>)<br>"
      ],
      "text/plain": [
       "<IPython.core.display.HTML object>"
      ]
     },
     "metadata": {},
     "output_type": "display_data"
    }
   ],
   "source": [
    "%proving mult_complex_nonzero_closure"
   ]
  },
  {
   "cell_type": "code",
   "execution_count": null,
   "metadata": {},
   "outputs": [],
   "source": []
  }
 ],
 "metadata": {
  "kernelspec": {
   "display_name": "Python 3",
   "language": "python",
   "name": "python3"
  }
 },
 "nbformat": 4,
 "nbformat_minor": 0
}