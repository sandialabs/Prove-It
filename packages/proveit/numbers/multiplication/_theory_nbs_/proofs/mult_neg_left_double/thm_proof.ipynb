{
 "cells": [
  {
   "cell_type": "markdown",
   "metadata": {},
   "source": [
    "Proof of <a class=\"ProveItLink\" href=\"../../../../../_theory_nbs_/theory.ipynb\">proveit</a>.<a class=\"ProveItLink\" href=\"../../../../_theory_nbs_/theory.ipynb\">numbers</a>.<a class=\"ProveItLink\" href=\"../../theory.ipynb\">multiplication</a>.<a class=\"ProveItLink\" href=\"../../theorems.ipynb#mult_neg_left_double\">mult_neg_left_double</a> theorem\n",
    "========"
   ]
  },
  {
   "cell_type": "code",
   "execution_count": 1,
   "metadata": {},
   "outputs": [],
   "source": [
    "import proveit\n",
    "theory = proveit.Theory() # the theorem's theory"
   ]
  },
  {
   "cell_type": "code",
   "execution_count": 2,
   "metadata": {},
   "outputs": [
    {
     "data": {
      "text/html": [
       "With these <a href=\"allowed_presumptions.txt\">allowed</a>/<a href=\"disallowed_presumptions.txt\">disallowed</a> theorem/theory presumptions (e.g., to avoid circular dependencies), we begin our proof of<br><strong id=\"mult_neg_left_double\">mult_neg_left_double:</strong> <a class=\"ProveItLink\" href=\"../../../__pv_it/theorems/90ef0ffdb5e6bb1522aa64a5042eda603b083ba50/expr.ipynb\"><img src=\"data:image/png;base64,iVBORw0KGgoAAAANSUhEUgAAAR0AAAAWBAMAAAAP9FU/AAAAMFBMVEX///8AAAAAAAAAAAAAAAAA\n",
       "AAAAAAAAAAAAAAAAAAAAAAAAAAAAAAAAAAAAAAAAAAAv3aB7AAAAD3RSTlMAq1RmmUTNIjK7EInv\n",
       "3XZ/CtNrAAAACXBIWXMAAA7EAAAOxAGVKw4bAAADSklEQVRIx8WWXUgUURTH//vlfoxu+yqGLBj5\n",
       "kNI+hKCBGfYFFS0F0YPkgA9REEyPhoUFQZSiglBbICv1kBjLGuFLIBIEYSQiCb0YK21EESIEGT51\n",
       "7z13d9y5d6++9Yf/7Mxv55w5M/fOuQPsRo60iSDsjQrrINTAagmrKp4kmwgQKkAFCoQaKHRZOsEP\n",
       "msz1HJA2EaavOvBVn04tMkU+zg+uGMuJ2WQT4arJaoACNYFC18h3+CCPGusJpsgmwhXo0gAFagKF\n",
       "DpF5/VbSWE+ttIkILejAgi6d7ipZ4QCrtsY8ffZLm4hQnw706dJpVJMif1xd/WCu57R0dZJbe/GG\n",
       "PeMZF3QjliAwo0snA2g+FVOYZIOUIJ8CnpjrUe/SS7rijcEloK0M8i0IbBAQMLgqlCgFywAhyz+P\n",
       "I2yi2eQbCCd079944225uyztykMCTmDLxx51SwlEkmfhGyXQ4s287AYI3WWV1QOsKuFo1kpXBkTW\n",
       "MunYmON/Ko/fkWPXxT0OqiSCoHiHR/jT/8M3WERtgcCItx4WWAoQJ2fZmYuMbZD9Be90PsYuaeWA\n",
       "w5X1VKasJLWiDffwzSfRmrcwMkigR1NPKYBO7s1G/rKQeTLsTrZZP1lkq0doDT7RJfHsnrv27Dhe\n",
       "LKUTY69rq9tjbPwCgVbv/Fl2A0gnEOdjtUTGK9YV4059DZvvuT3ZIUzxc5qb3YtNSFclU+m9sNhv\n",
       "e5lEExiToN37fCbcANIYPx2BUTIG+AEmImz3Zit+4AI/p6PDTaC+tR5y8MEZnK9oAcFE6Le2U1Bg\n",
       "KYB0FL283+fJ8PEZik3xVwMa0ZbJZJL3L7kJhqWrkufr/m7eTVbcNaqhuCnBireeYTeANDl3js2V\n",
       "ujRZvlPzYras4D0eiqaQ428JqW6Q7Eol4ntnaduBZROogOVgj2aZb0kLDVh2ENPA59AGawA892sH\n",
       "c1WXxR0Xylm8TO522bXs2Fv20y1Nqb7N/cRQEvvabYQfczJ9dbx8H4+kXamEqd/d/cJGnkC/2mo9\n",
       "gXUFX56+MbzfGcmYE2W3M53JVHbIKWkTqbxOUzFdrWol0N/Jv8GiDnn792XWV7ioW8DCBbKJ8J4B\n",
       "FcQdfTpF36W3DyxCnXn8X/0DP1X1DKT3pi4AAAAASUVORK5CYII=\n",
       "\" style=\"display:inline;vertical-align:middle;\" /></a><br>(see <a class=\"ProveItLink\" href=\"../../../__pv_it/theorems/fb14b513c72dbfe7f2c92ed9ed4fa92a9427773e0/dependencies.ipynb\">dependencies</a>)<br>"
      ],
      "text/plain": [
       "<IPython.core.display.HTML object>"
      ]
     },
     "metadata": {},
     "output_type": "display_data"
    },
    {
     "name": "stdout",
     "output_type": "stream",
     "text": [
      "mult_neg_left_double may now be readily provable (assuming required theorems are usable).  Simply execute \"%qed\".\n"
     ]
    }
   ],
   "source": [
    "%proving mult_neg_left_double"
   ]
  },
  {
   "cell_type": "code",
   "execution_count": null,
   "metadata": {},
   "outputs": [],
   "source": []
  }
 ],
 "metadata": {
  "kernelspec": {
   "display_name": "Python 3",
   "language": "python",
   "name": "python3"
  }
 },
 "nbformat": 4,
 "nbformat_minor": 0
}