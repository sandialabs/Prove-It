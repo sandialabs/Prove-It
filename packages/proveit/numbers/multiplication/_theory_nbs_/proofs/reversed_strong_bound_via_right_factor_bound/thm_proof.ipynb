{
 "cells": [
  {
   "cell_type": "markdown",
   "metadata": {},
   "source": [
    "Proof of <a class=\"ProveItLink\" href=\"../../../../../_theory_nbs_/theory.ipynb\">proveit</a>.<a class=\"ProveItLink\" href=\"../../../../_theory_nbs_/theory.ipynb\">numbers</a>.<a class=\"ProveItLink\" href=\"../../theory.ipynb\">multiplication</a>.<a class=\"ProveItLink\" href=\"../../theorems.ipynb#reversed_strong_bound_via_right_factor_bound\">reversed_strong_bound_via_right_factor_bound</a> theorem\n",
    "========"
   ]
  },
  {
   "cell_type": "code",
   "execution_count": 1,
   "metadata": {},
   "outputs": [],
   "source": [
    "import proveit\n",
    "theory = proveit.Theory() # the theorem's theory"
   ]
  },
  {
   "cell_type": "code",
   "execution_count": 2,
   "metadata": {},
   "outputs": [
    {
     "data": {
      "text/html": [
       "With these <a href=\"allowed_presumptions.txt\">allowed</a>/<a href=\"disallowed_presumptions.txt\">disallowed</a> theorem/theory presumptions (e.g., to avoid circular dependencies), we begin our proof of<br><strong id=\"reversed_strong_bound_via_right_factor_bound\">reversed_strong_bound_via_right_factor_bound:</strong> <a class=\"ProveItLink\" href=\"../../../__pv_it/theorems/12fe08a4ee29e66f855b7d59a7f17885477420ad0/expr.ipynb\"><img src=\"data:image/png;base64,iVBORw0KGgoAAAANSUhEUgAAATwAAAAXBAMAAABkN+50AAAAMFBMVEX///8AAAAAAAAAAAAAAAAA\n",
       "AAAAAAAAAAAAAAAAAAAAAAAAAAAAAAAAAAAAAAAAAAAv3aB7AAAAD3RSTlMAq1RmmUTNIjK7EInv\n",
       "3XZ/CtNrAAAACXBIWXMAAA7EAAAOxAGVKw4bAAAEFElEQVRIx81WX4hUVRz+7s7cnTtnxtmBQHGF\n",
       "ZUCpFzcGkULBbWCtLWNtw1rYihwqiAriCr1s2TI+9dDSmrLJ+mC3kAJXt5uSodAyCKEVyj4kCmLc\n",
       "zQ3RzWVJbGMfot/5c++cmXsmDSbqB989c8/95pyP379zgH/FUgoxc5uQ73mBltjPCjF7sQm50exA\n",
       "Is9f1rZYXZsvEbdc0UiO2zWJR/nvV1ss7zMFg71uJMet3RPYw4O8t8XyehUMttFIjluiJMBVZgot\n",
       "lldVMFjWEx4r1pMN9r1AgojtrU69soQxaEIY+ybQySZ7WeL81as/tFhe0pfArumRaJItdL5/nCKV\n",
       "l6+3TmvkOuJULxiRvoTA48DBe9jxn8jjHuKwz+Jjr7bCbNBP+RQ6a8u2GrmO6K9HYhF4CAK7kMo3\n",
       "jdKVV1bKKKTvLiozHXaIFQWJo0X0R58fxiPefbRklGr390VknegU+mFRra6HQNrLDBi3+2D1OAI/\n",
       "845Jnhdje+jBUJj+AxJPAVf4+xfcYxU8JnZfjP4y2BmSFZH9zh+4gCz5ZAwCbYG5MpIUdQRBYsog\n",
       "763ORjbNnEOHWy/vO7A7wkElMX1BHAe1Qh08GJJD4o+CsYyxCvACJMo99Jjs+Zp/Wuiboy3sWVii\n",
       "bZO83GFNXm5uhEdkzyo6nfLiwGEn5l05k1pGtlAXXPanSKLonFrCEfLGTBTcVSG5npgs41cauhWO\n",
       "UyNnl5wlvr27up2WnurwRplo1YE/fE2Td93a+xIwRBJZsOxwPxxzx1w54yxjhepm6UCA/Qar/EBY\n",
       "uONWFZScifAI2NIXkeuISOfxIQ2bFHaTF5IlsVkChxwa3u7GDVtsFTxxCpq8YjqoYIi3hNSnMzm+\n",
       "0VaMQs6QvKxqZrx5cBxCd6kUVtkfh6t2QfURvbE0EpHM27dpeFLBqvAEyMnyXRLPNehKvDYxsY+C\n",
       "+1VBzz3KLueM+GX5FhfzLWbVDAW3QwXXmZH4ZP69rkrove3Bug08lqIO2a2oLTcSwdbMcRUXFURt\n",
       "uenNvBqdqrhkXcQ5x5e59+xpXd4oXdgm94mUGcjSgmwJ+4+omVpp4LKCwd4Vz2PaoRYnZqjSUzMS\n",
       "stbcsR3eJHZnyklM0j/sRdmrqbFopZGqngTFILefy6vsBPNx1rmzWc0s4Gn93N/Y/Lbw95eEkzjK\n",
       "k6AoIauq98ETGC0kf5m+SQPWbSpjmJxjv/kG21queW/78wvcxwlS09b7EY/qMxvmi2omM70tym5X\n",
       "wnALjl+OGok/UW4BwwqaqdQpMDddBDs1Ma6tUX+aHMDn4Br1Gc142TPjLc0gupG4do6n5wEFrTF5\n",
       "arCCwdiyjRNdNnn1uWYH3IhCzK43Icdu1a6EfgMMB7vHv6u8HfO80eB/Yqn/Ztu/ABh5HBvcdoNf\n",
       "AAAAAElFTkSuQmCC\n",
       "\" style=\"display:inline;vertical-align:middle;\" /></a><br>(see <a class=\"ProveItLink\" href=\"../../../__pv_it/theorems/d2d179fe044c416aa0763d67e470d30b544023470/dependencies.ipynb\">dependencies</a>)<br>"
      ],
      "text/plain": [
       "<IPython.core.display.HTML object>"
      ]
     },
     "metadata": {},
     "output_type": "display_data"
    }
   ],
   "source": [
    "%proving reversed_strong_bound_via_right_factor_bound"
   ]
  },
  {
   "cell_type": "code",
   "execution_count": null,
   "metadata": {},
   "outputs": [],
   "source": []
  }
 ],
 "metadata": {
  "kernelspec": {
   "display_name": "Python 3",
   "language": "python",
   "name": "python3"
  }
 },
 "nbformat": 4,
 "nbformat_minor": 0
}