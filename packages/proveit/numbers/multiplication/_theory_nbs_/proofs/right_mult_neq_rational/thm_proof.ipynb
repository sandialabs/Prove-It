{
 "cells": [
  {
   "cell_type": "markdown",
   "metadata": {},
   "source": [
    "Proof of <a class=\"ProveItLink\" href=\"../../../../../_theory_nbs_/theory.ipynb\">proveit</a>.<a class=\"ProveItLink\" href=\"../../../../_theory_nbs_/theory.ipynb\">numbers</a>.<a class=\"ProveItLink\" href=\"../../theory.ipynb\">multiplication</a>.<a class=\"ProveItLink\" href=\"../../theorems.ipynb#right_mult_neq_rational\">right_mult_neq_rational</a> theorem\n",
    "========"
   ]
  },
  {
   "cell_type": "code",
   "execution_count": 1,
   "metadata": {},
   "outputs": [],
   "source": [
    "import proveit\n",
    "theory = proveit.Theory() # the theorem's theory"
   ]
  },
  {
   "cell_type": "code",
   "execution_count": 2,
   "metadata": {},
   "outputs": [
    {
     "data": {
      "text/html": [
       "With these <a href=\"allowed_presumptions.txt\">allowed</a>/<a href=\"disallowed_presumptions.txt\">disallowed</a> theorem/theory presumptions (e.g., to avoid circular dependencies), we begin our proof of<br><strong id=\"right_mult_neq_rational\">right_mult_neq_rational:</strong> <a class=\"ProveItLink\" href=\"../../../__pv_it/theorems/06791d488265e8bdb07162ff60ffe61d0bd3eb8a0/expr.ipynb\"><img src=\"data:image/png;base64,iVBORw0KGgoAAAANSUhEUgAAATwAAAAXCAMAAAChxwN1AAAARVBMVEX///8AAAAAAAAAAAAAAAAA\n",
       "AAAAAAAAAAAAAAAAAAAAAAAAAAAAAAAAAAAAAAAAAAAAAAAAAAAAAAAAAAAAAAAAAAAAAAAeYafp\n",
       "AAAAFnRSTlMAq1RmmUTNIjK7EInv3Xbt5cnn9enzas/lfgAAAAlwSFlzAAAOxAAADsQBlSsOGwAA\n",
       "A+pJREFUWMPlmOuypCgMgLkKBMzszuz6/o+6EEAFscWq+dFbQ53TKbvhw4QkBBj7PzXTyekBv63j\n",
       "6zf4moailc9N480PCobkaWCWfP9eyC+3nfCtnLL3WCnrhuQXQJJK16+XL3dFWFo51xYYfevsiPwK\n",
       "mKStrmfclzuekq2ca1KNHI8Pya+AJKslvfhy44VOzg4buJ4zQ/I7YJKymH35ctuJpZXTYXZ1K82H\n",
       "5JdAkmFNLfhvj1rfSkDkYP0wYAz3aMq+6PlVfTMiA1L4Ap8EklSUPB38Jh0/5vyZfWFmwfNEyJGp\n",
       "dVBPhGgdt2WSPPxKkZusP3+lT96TPRMpfuU2CSRpeP14vwF6pzhv1vHTtuP1MzL38R77SFhFI6VJ\n",
       "egLj16iEQGVEsaoID45XiFbkIdxNArNMTjej17FZIXcuDjA+aeilmDPezALlPjJGiO5IQTcyhYs6\n",
       "JyvY6pMi31mL9W3vSboPjkyMRggpMAP2vBtglgLfbRdKlSrJm2Q2kNJMGY9PFJK5T0gTbOaT8dhJ\n",
       "z+JA1SjBke66htyD4+1EneLSbrbn3QCLXGipcxxK9DscUZn4Vw8kPB9I9qLdWkG/IcOx8ZrxTPuW\n",
       "M5ox9zGUXYL4FLakbBwHlxwJG55Tl1jbnPfPvznz8QuZHBmvdcsNsEgvSrEHq4mmr6qgSQlgEWUv\n",
       "YlElGxjs5pGQzXhnvH28cqn9iP/y4LB2xnMfS8Zb22zm8Cwhpg0eKM1fdU1vzBeWl1a6pyPHTub1\n",
       "YwpYpAm8BiQ79GKSuMWLDSRLo2N616kaDc8anF61GV8ddueMZix9svHaoGwrBCY2CyqO04NKJRlD\n",
       "xKBTTWlT/eZaDlSy4smb5SywSm6P6Mez6c95h8fOsTaQC/mIE0w/he15/OGwhTOYsfbJYbu1drHr\n",
       "WYJCjIaQoyoPOHprOGalVv101q1kiMWc2swssANDGunkkUaST+yw1Dlmcnus5OOGUcankPzrb0ch\n",
       "uXO6GZs+ow2DrbaVkxdw6/P9yYnol1mg6QvMkBKQlhDTeApmQilGTzSF3ppy2pLP+OYu6zDeMb49\n",
       "ilcOUfcZmz6IlzNUdyJ/fZ3w6ZIlE9PLQhCzwMttgo5xgF4ml4kQhdojQnlKQeKoqD7uc8CvauH2\n",
       "pkjex7cHmMoh6j5j2ycWyQrujvPuxd1Zd1ckx4dQIq6YU8oc8OMllOifgAKsnCscFckUubbbFMe0\n",
       "IysenH4OfDrPuD59PrfO0Cvck4VEpaeBn1ZQQ/8Uc7weJAQlZPSwJ+OdBh6cdo6JOr0ezQ3O2g47\n",
       "Fe0DeRqIn7xfXp60RD8+q0n75HniZN2DI2/7/KnN/EG6/geL+iTSpdveuwAAAABJRU5ErkJggg==\n",
       "\" style=\"display:inline;vertical-align:middle;\" /></a><br>(see <a class=\"ProveItLink\" href=\"../../../__pv_it/theorems/6f0e7653f560331766d404bf4933b8b0ddee9b250/dependencies.ipynb\">dependencies</a>)<br>"
      ],
      "text/plain": [
       "<IPython.core.display.HTML object>"
      ]
     },
     "metadata": {},
     "output_type": "display_data"
    }
   ],
   "source": [
    "%proving right_mult_neq_rational"
   ]
  },
  {
   "cell_type": "code",
   "execution_count": null,
   "metadata": {},
   "outputs": [],
   "source": []
  }
 ],
 "metadata": {
  "kernelspec": {
   "display_name": "Python 3",
   "language": "python",
   "name": "python3"
  }
 },
 "nbformat": 4,
 "nbformat_minor": 0
}