{
 "cells": [
  {
   "cell_type": "markdown",
   "metadata": {},
   "source": [
    "Proof of <a class=\"ProveItLink\" href=\"../../../../../_theory_nbs_/theory.ipynb\">proveit</a>.<a class=\"ProveItLink\" href=\"../../../../_theory_nbs_/theory.ipynb\">numbers</a>.<a class=\"ProveItLink\" href=\"../../theory.ipynb\">multiplication</a>.<a class=\"ProveItLink\" href=\"../../theorems.ipynb#mult_rational_nonzero_closure_bin\">mult_rational_nonzero_closure_bin</a> theorem\n",
    "========"
   ]
  },
  {
   "cell_type": "code",
   "execution_count": 1,
   "metadata": {},
   "outputs": [],
   "source": [
    "import proveit\n",
    "theory = proveit.Theory() # the theorem's theory"
   ]
  },
  {
   "cell_type": "code",
   "execution_count": 2,
   "metadata": {},
   "outputs": [
    {
     "data": {
      "text/html": [
       "With these <a href=\"allowed_presumptions.txt\">allowed</a>/<a href=\"disallowed_presumptions.txt\">disallowed</a> theorem/theory presumptions (e.g., to avoid circular dependencies), we begin our proof of<br><strong id=\"mult_rational_nonzero_closure_bin\">mult_rational_nonzero_closure_bin:</strong> <a class=\"ProveItLink\" href=\"../../../__pv_it/theorems/28daf99080485d685a4637d59c6e230bcb4db80c0/expr.ipynb\"><img src=\"data:image/png;base64,iVBORw0KGgoAAAANSUhEUgAAANkAAAAbCAMAAADGQNr7AAAARVBMVEX///8AAAAAAAAAAAAAAAAA\n",
       "AAAAAAAAAAAAAAAAAAAAAAAAAAAAAAAAAAAAAAAAAAAAAAAAAAAAAAAAAAAAAAAAAAAAAAAeYafp\n",
       "AAAAFnRSTlMAq1RmmUTNIjK7EInv3Xah18O17eXJ8+7nKwAAAAlwSFlzAAAOxAAADsQBlSsOGwAA\n",
       "A71JREFUWMPdWNmS6ygMNSB20N1m/P+fOgiwwcbbdLnzcF3VCek4gHQWCU/TX3G56S+9vMyvHv2n\n",
       "VhTyI8tolhfDaZI2DeD7V+TwmQQyTa/BpJc5DbX9dvKrNanPUv/FdWTmoJ5JbIFX9L71sqIOkD/b\n",
       "4ZMNOW/TBSULQGP7J/2JyeTIYl4z0pA17oiX2R+Wia917WyINQP3O0BGpNORtTnrr0pkActdFPYq\n",
       "cqXfjQz8npRnl1r0qO7c2wuf45Ag7ZqYmsgc2Zzp4WhsFtBe191ccwa3SMwLW8WN5Rg/1TTZLCZi\n",
       "4z//2szG5iCUItHlyfN3AyvsIILc6mteoQpb0NDGdDXMrXMVCG9qjCsyE5Lr109AMImaUvUyZFjF\n",
       "w28n9rHxssdXKnQ7RU6mugznE5gSbJvHI9RPmNMZKC8xvF2+mdrKLdVTj/rI/hRDZIUxnnUONKgu\n",
       "kVHW0NO7oJ9wvKDBEPtLnm+3MMiQJGDncRk3pxBcEYjoAB4dLZUFUTWTsMters6kYJbeRLOvFWMC\n",
       "RCNHfYBEeY9lLy7QRiAedCqdXfNOlOOmtV9LU8IMk0Pxk/ZNF/siuPzBLUbZgzoJjLUwYPHqcRux\n",
       "+lwoM8Oc/+k7pJY58mD2Jddt9aKSdLVdbHV2wTJXIiOuHqK6lkODzFpJSfO5qPC+43VhNLUOsxpZ\n",
       "sG3BTeQlWlmcX4beLkaGO733xjPMTMX9uNMKpmYV6sBrWt8JoScPAD9+Qir0mhgWzTUb3UwriPms\n",
       "mkERIO/YGg87xFbP+GXJ0bWULTbkvECv16+TZ7mu6TGG5+9wwsbFitkgNFZzbrFExotf8uFGSm9R\n",
       "YQq9AwoPsg1LD8KkfVIidaj5dVGv4VJFchNCRwvhyvoUWcLs128gzHIaR2pgJVY1cgqQJwaOXQZL\n",
       "k1rYlYiM+gEqfukbr7sVsbCarbQj5fa9erJhuVbPBasUF6VhmTx5o9CnaTOFVY6hN5qhGdXO/NqA\n",
       "Rbn5wspBvhpmpWYwNz3r3upJ7ch6maVbhMpnBcsnuWEj3FTAah0HEjwXftzrym66qwWG2wOYEnuv\n",
       "pGIqXN3yXE5ypjGkc5D7JwELs8TzkzU8OkixlFnGjbwy/X3WA8lMClcqcJJZVnRrT0wG1D87ya20\n",
       "tk+PR0+PG5xZFezFJsTQd0gQHMl9DJ26DRR70ta0Sh1BsYf0qr3gYWU6bsjeOiHGq4n4cEKXlZDm\n",
       "6dl7PXLqZ88l8K3ALmUoT+0BuAB89rSNf+zx3/8g9QUuBsVTt/vQ88Z97jMq/wERaBz6ITIFpQAA\n",
       "AABJRU5ErkJggg==\n",
       "\" style=\"display:inline;vertical-align:middle;\" /></a><br>(see <a class=\"ProveItLink\" href=\"../../../__pv_it/theorems/1d5417cc753c7da09c142596b06a8ce07169ea620/dependencies.ipynb\">dependencies</a>)<br>"
      ],
      "text/plain": [
       "<IPython.core.display.HTML object>"
      ]
     },
     "metadata": {},
     "output_type": "display_data"
    },
    {
     "name": "stdout",
     "output_type": "stream",
     "text": [
      "mult_rational_nonzero_closure_bin may now be readily provable (assuming required theorems are usable).  Simply execute \"%qed\".\n"
     ]
    }
   ],
   "source": [
    "%proving mult_rational_nonzero_closure_bin"
   ]
  },
  {
   "cell_type": "code",
   "execution_count": null,
   "metadata": {},
   "outputs": [],
   "source": []
  }
 ],
 "metadata": {
  "kernelspec": {
   "display_name": "Python 3",
   "language": "python",
   "name": "python3"
  }
 },
 "nbformat": 4,
 "nbformat_minor": 0
}