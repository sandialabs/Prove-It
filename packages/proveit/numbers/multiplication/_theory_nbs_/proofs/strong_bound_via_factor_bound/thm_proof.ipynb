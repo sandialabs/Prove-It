{
 "cells": [
  {
   "cell_type": "markdown",
   "metadata": {},
   "source": [
    "Proof of <a class=\"ProveItLink\" href=\"../../../../../_theory_nbs_/theory.ipynb\">proveit</a>.<a class=\"ProveItLink\" href=\"../../../../_theory_nbs_/theory.ipynb\">numbers</a>.<a class=\"ProveItLink\" href=\"../../theory.ipynb\">multiplication</a>.<a class=\"ProveItLink\" href=\"../../theorems.ipynb#strong_bound_via_factor_bound\">strong_bound_via_factor_bound</a> theorem\n",
    "========"
   ]
  },
  {
   "cell_type": "code",
   "execution_count": 1,
   "metadata": {},
   "outputs": [],
   "source": [
    "import proveit\n",
    "theory = proveit.Theory() # the theorem's theory"
   ]
  },
  {
   "cell_type": "code",
   "execution_count": 2,
   "metadata": {},
   "outputs": [
    {
     "data": {
      "text/html": [
       "With these <a href=\"allowed_presumptions.txt\">allowed</a>/<a href=\"disallowed_presumptions.txt\">disallowed</a> theorem/theory presumptions (e.g., to avoid circular dependencies), we begin our proof of<br><strong id=\"strong_bound_via_factor_bound\">strong_bound_via_factor_bound:</strong> <a class=\"ProveItLink\" href=\"../../../__pv_it/theorems/7c1c4fc6602a5886185b727d7e6af66bd54d73d80/expr.ipynb\"><img src=\"data:image/png;base64,iVBORw0KGgoAAAANSUhEUgAABCgAAAAZBAMAAAABLwLUAAAAMFBMVEX///8AAAAAAAAAAAAAAAAA\n",
       "AAAAAAAAAAAAAAAAAAAAAAAAAAAAAAAAAAAAAAAAAAAv3aB7AAAAD3RSTlMAq1RmmUTNIjK7EInv\n",
       "3XZ/CtNrAAAACXBIWXMAAA7EAAAOxAGVKw4bAAAI+0lEQVRo3u1bfYwbxRV/Xq/t9drnM18tTaST\n",
       "ITREogkWpFQEBNtegAiUcCIVAoISQ6kQ+QMcKRIKLalBlUDiSAwhgAGFDUTQ5GjOfCThQ0QGVAWE\n",
       "gBM9lSrpRXtwIm3TRtFV+dAhcZ2v3Z2ZnfXah3y6IJ707PHMe29/u/ObNx+2ASIkNvLFFJp+kFNS\n",
       "ciOfE42S5JSaplvKTGeaqDClZihOgvVipt8DUuQKVGecrFTUfTlDca70SZHHxTnNej6G37SikhRR\n",
       "3tMkFzDtgJjPDYkV2z+JdvJscsHHptU7gjMAq22cBCslxVW47s5mpND78FtZSYoo7+kRs0S1I5K0\n",
       "pIo7WnDybFYHml7qEM474LviXO2R4gE8y1WbkcLA6WCdevqI8p4e0YtUOyLd8rQ03oKTZ7Mw0NTb\n",
       "IZzj8F1xLvRIkbQBMoWmCwfMoNfUTVHe0yNZph2RVbb4OTER7ePbZH1vjWbURmdgBmC1jxMrJUW8\n",
       "2HzFmKSGJXVTlPf0yFymHZF3pc+ZoWgf3ybpJbD4MOGH1qFpLgCrfZxY2e7jk5GRj5uTIjsy8o96\n",
       "yO4jwnt65DqmqdmHHGn7F6hR7RElI/PIrEf8zHjbkdPFu+4ZjUyNvk0m7y7lDtCcoeMnuWbv+ing\n",
       "lN129oKZD4XVPk6sjBRLAJ5pTgq9Amk7hBQR3tMjv2F6azkt5cxgjUJkIx1GnaUeQ47bg8Iie3C1\n",
       "eSIqom8TZ4lh4CA3JBP74Hm7fZyyW/1nED8aCqt9nFgZKdZACjHEpDdeUfU8al8Tdk5BvTsoGbdg\n",
       "hdt8TtX8AHQxZwZrVHsXavSyV/ELuNI+w1sJTEBWGMQX2vBpVEhqY2B3uoRY+1e3qQsNzVeKsLR9\n",
       "nMzNdClqFJZCrBoKq32cWBkp0nYG7Tkz9Mb/TpPZ8C64PO/3/DOwK4wU1LtlMe4KllStSObv/uXd\n",
       "ZNgyabLH+QtV/Sh01cG8hA4CPERpzcCrs8iQV/DhuGcEez2vClzNhShBd52Pidq+Md85zQ4J6dmg\n",
       "/kdDzCBDOXa7vyhGj+t6gAMAL5YkCBQnjaDAydxIT2EbE3Vo1hEuyYXkcSoiqnBiZaTQHHGluOEn\n",
       "m+GcjK3bfs8vUK4zSZPsHSWzFaVgqzFa68tlYE89lBS2ghTZKgz2wYb/0hGJMwutsei4HFZccNgz\n",
       "At8L2BAjH1BnrSrwMQ9AYlxnA1sR0rNhKb+hIMVHYB4D48iQBIHh7LLUOKkbdxW0d9hY4S/Jh+Rx\n",
       "qiIqcCb8TAGlK4QJdQk+o3SsDNfzybgTRgrJO1I+VJSCrYvRveZysMgJI8XaWYrpY9CBK3GK4YYD\n",
       "qTkGf6g0m1ipGz95n4Ad3DHF9TYfcxz0ie6+1Mnm23+dLRG0oeD0YX5L1gLaUHs4mRvXVSX4j3hJ\n",
       "LuQUcGJ1SfHaavQYRsllxwrwFS7M++l6nhSZuWhg5sbWX4PKK/OQ50mBvWHgij3udbiifzuvH2YT\n",
       "ofHtqC2XuOmD1ZEDV0SKf1uZxUsXX8WRgoF44McCkC1UBwvwI60skILULIogBTFa6S2NzM2xBni7\n",
       "re4KmvD5mCfR3B63mz9sbAM7f4UXcFVpoZl2wByHWOl8gRSt4KRutKdoqDw8Jl6SJ0X7OLG6pPg9\n",
       "ehw7u3Fv6FrJJDcxL/PCCq7nU++hl0OxKkqCpjNhNHhSYG/zC8Nd6HJFX/5c3shIkdufs+SSL27d\n",
       "dvIhk9pSlDMFBXHzNSKQV6mmHW1YFzqQ1XBnDWQyPi7Ms8QIhfOWlie3NRLebi5WTFtCzDPgCWGH\n",
       "70fzQxIba667AyX7x4O2t/fbAvMti+9BNU4frMt95EZ7imaKfOJ/IiyeFKE4uYgiTqwuKWKInveR\n",
       "u96RsRLksGUeWP/ie/5spMW0gwxTLwzlqnwT9tYt1D8psjUlxRvGxMXnYuhHN07uvhgvUUNcku1w\n",
       "HaDFzHJCCv3ZamChSUDc/DaIQB6lava8ueafQgeyGmO/OJUOC/MsMULhvM/LnPMu8kPM7hWnpK1v\n",
       "4Ef0qC3M93T5YfE2pv0GrvPuME4PKgx0na2HH+qp8D0YgtMDy6Jit/vmc9DGToiweFKE4xwGNU6s\n",
       "wlfnW9gmOn5XrfY4IsVAku95mkjJaI/VY47clO3L5eHB/V6xYR6VdgduzstW9DwzRCXZDtfh90tq\n",
       "tVohl8vcENx9IBDG+yABwcvnLi/zzg9kqnV29GIn3fTwSI6ZauVwBh+d3O9/jN/JbfBA7MHWcbKe\n",
       "Yvt1aQMQCNkWzvtBJIU5UaGP3KjTTJFYECBFP/kZRldftiI3DZbTi2zY7xXLhnDAb56ATTs0suXr\n",
       "hmyBGuKSZEfq4gsBHiGZIpdYYXPnFFUPxMDjIAKJW1RDSJGyUtE/wBn8UzukWAv3Rj9sPIyDX38t\n",
       "DO/BVnCynsKyG14pRJCiLZy9Eim0kmXW8SOn55M/B29suz2fauwGbNNVWQWBTFHeuJyQYoAV032o\n",
       "iIzxC3rbZxxbpJ2Hm7vsS4EakhKyY1bohdbd+xLQ81O0JX2bX3VUXRCoaRNJDx4QeIqpmhTrHv5j\n",
       "9BCcq7dBitTTD18bfSbTUH6DnC6H9WBLOFFPucWDgW29HLItnASrkCl6yjgrIyaswycZfyvTn9bw\n",
       "Pb9sxREb2Wi9TwZIkehd8Drp6/4CLS7BRWMf9JeNfcjn1xcdLsLTpG6ZwwxJCdmhZmyFXljdZfhe\n",
       "UNAbv65vu1oiBQGBUwNiBQeErEy3s/Lv7tkr3fVnk5PRw2XroSaNcszs5OTRyIhoHvUZwA11xpPU\n",
       "7m+cKeBEPeUW50hLsmDItnASrPLP8TQyu5hv1TYHDiM4m5dhk7qJzAo0nWVsxy3SuPhmhgpunWdI\n",
       "7DQvAG09C2/garXAOakw5rSneCCQcqjOKMHfcqiYtn6G4iRYZVLckrypEXJC5dtAT6KkbtrwcQES\n",
       "NP3dMznkFokPXSDZrM43xHZuM7geYd8ByImYAzIj5bf9cEqIiFMmRVEfs6NIUYTlh0OayIpPVSwq\n",
       "6uIQbCZ1uXOtFknBAZmRsuzaU4MUIs4Wf80d/ueOZAf+96GdGdZShh+k05Ib+QDr/wEfSA2ua8rV\n",
       "DwAAAABJRU5ErkJggg==\n",
       "\" style=\"display:inline;vertical-align:middle;\" /></a><br>(see <a class=\"ProveItLink\" href=\"../../../__pv_it/theorems/f9af19bac7bb9e6111dac7e822bce8b7bc437d020/dependencies.ipynb\">dependencies</a>)<br>"
      ],
      "text/plain": [
       "<IPython.core.display.HTML object>"
      ]
     },
     "metadata": {},
     "output_type": "display_data"
    }
   ],
   "source": [
    "%proving strong_bound_via_factor_bound"
   ]
  },
  {
   "cell_type": "code",
   "execution_count": null,
   "metadata": {},
   "outputs": [],
   "source": []
  }
 ],
 "metadata": {
  "kernelspec": {
   "display_name": "Python 3",
   "language": "python",
   "name": "python3"
  }
 },
 "nbformat": 4,
 "nbformat_minor": 0
}