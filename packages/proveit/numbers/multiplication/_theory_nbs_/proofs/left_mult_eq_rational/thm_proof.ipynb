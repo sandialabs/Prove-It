{
 "cells": [
  {
   "cell_type": "markdown",
   "metadata": {},
   "source": [
    "Proof of <a class=\"ProveItLink\" href=\"../../../../../_theory_nbs_/theory.ipynb\">proveit</a>.<a class=\"ProveItLink\" href=\"../../../../_theory_nbs_/theory.ipynb\">numbers</a>.<a class=\"ProveItLink\" href=\"../../theory.ipynb\">multiplication</a>.<a class=\"ProveItLink\" href=\"../../theorems.ipynb#left_mult_eq_rational\">left_mult_eq_rational</a> theorem\n",
    "========"
   ]
  },
  {
   "cell_type": "code",
   "execution_count": 1,
   "metadata": {},
   "outputs": [],
   "source": [
    "import proveit\n",
    "theory = proveit.Theory() # the theorem's theory"
   ]
  },
  {
   "cell_type": "code",
   "execution_count": 2,
   "metadata": {},
   "outputs": [
    {
     "data": {
      "text/html": [
       "With these <a href=\"allowed_presumptions.txt\">allowed</a>/<a href=\"disallowed_presumptions.txt\">disallowed</a> theorem/theory presumptions (e.g., to avoid circular dependencies), we begin our proof of<br><strong id=\"left_mult_eq_rational\">left_mult_eq_rational:</strong> <a class=\"ProveItLink\" href=\"../../../__pv_it/theorems/0546a6aeb6e9493fff0a352d5bb0922fdfc9e4e70/expr.ipynb\"><img src=\"data:image/png;base64,iVBORw0KGgoAAAANSUhEUgAAARkAAAAXBAMAAADNQybgAAAAMFBMVEX///8AAAAAAAAAAAAAAAAA\n",
       "AAAAAAAAAAAAAAAAAAAAAAAAAAAAAAAAAAAAAAAAAAAv3aB7AAAAD3RSTlMAq1RmmUTNIjK7EInv\n",
       "3XZ/CtNrAAAACXBIWXMAAA7EAAAOxAGVKw4bAAADc0lEQVRIx71WXUgUURQ+uzuzP7OrbQSBCTKg\n",
       "5EMUS0U/PqyGaUWoC0L0ELnRQ9DT2GOYbPVQoJVBUduDjRCBbeRmkEEgSxEVkUgYBSGMYdgPyBKU\n",
       "0kN0z713ZnfvzJSx4oFvZ+fcj7nfnL87AMthAQ6baf/h02CZ7COHzQ7bXZWqCw8RxZva8sR4swwO\n",
       "W8dsrg1uPEQL3hwrT81tDgc7LjqUpCuP4DSmfKA8Nc0cDrZVdEgxVx6BXwcIq+WpyXE4WEQXHe48\n",
       "Ah/R6i+zbJIMTuYXQ7HenYd4PT39qjw1UpYBusd7C/Uxv65vlIQ9KpD3Y2VUzxkWbzYGQ4yH2Atw\n",
       "YwlbNrkvme8lP4ebVmIkmDHaAHwYM2maGhV2lOCQFvpl8sLeHDQyHqIbAlH3nTJXVrOp9JdCr1AZ\n",
       "7sagzXJuh0Z9DcmgWE9vSDiegjRp3p8hf6sYDxHSwwnHTYIz6UTgMYQ3/0tNJMHQAfABY/8TnSlo\n",
       "pQ/JC+RnJFR5qMiaRD1iwATjIbyGSxHvTpE4ngBli7ZENS9B+YH3U8w9gT9yzq4mMgAjCYvYpQcX\n",
       "GY9yk3HMSHwMl+b3zJK95RnwsDF6vh7AMApq2DrdBjklmVJ+g68oEvIC3CHvOinUDcnUiIGVYlor\n",
       "VOYYj3JHyQxU3gUXcEBrVX7y6Hur9H4YRmpDrEQNXd+XJhajHGYhg0L5Dp5kvdkqVz05IOnwiTEd\n",
       "JGpUWOu1zsjLEIoyHuX2kBupKYhh8sFgkFxOboQv0IlUVGJkLTV8HUwObwvenYOwsclsPe/irZys\n",
       "8s4vtvuo3DslWY5d0BUrmhKeFKa9kjXWAv2thhrYRiKgHhQyxddNDi/3SYahb+dqUmZs2o06LP8K\n",
       "sUMukLWaR92fLcfQeIfGeBZ3RAs14KgI5uhnylt4AX30tYUqxnWWKcrh9p7DwU7ZxkHKxnnIeRY3\n",
       "ol3q1DPQE05KkCGPlvOk82mXQ7i20OF03ZQg54Ujz+1ALTGfMEbDSeWJePDKzZseQL8qfRr/Si5Q\n",
       "tzMJget0+k0dSRXU0HVuyDHLWGNw+Ci0D4ZrQqwMT5bxRC4/ylVFC5HCyqTTJJFjZ8Fx+jEO/z/A\n",
       "YDcHjcPCkRtvcX4fWecXj3GgcCTWtiec1BRzoJfDZnMO4TJceALXZ17keFFfXtzhGJsSzoqbthKb\n",
       "/AHtHf2wCDot5gAAAABJRU5ErkJggg==\n",
       "\" style=\"display:inline;vertical-align:middle;\" /></a><br>(see <a class=\"ProveItLink\" href=\"../../../__pv_it/theorems/5ebc7fbb69c01fb5a88f62fb1d62a88d817f5fd40/dependencies.ipynb\">dependencies</a>)<br>"
      ],
      "text/plain": [
       "<IPython.core.display.HTML object>"
      ]
     },
     "metadata": {},
     "output_type": "display_data"
    }
   ],
   "source": [
    "%proving left_mult_eq_rational"
   ]
  },
  {
   "cell_type": "code",
   "execution_count": null,
   "metadata": {},
   "outputs": [],
   "source": []
  }
 ],
 "metadata": {
  "kernelspec": {
   "display_name": "Python 3",
   "language": "python",
   "name": "python3"
  }
 },
 "nbformat": 4,
 "nbformat_minor": 0
}