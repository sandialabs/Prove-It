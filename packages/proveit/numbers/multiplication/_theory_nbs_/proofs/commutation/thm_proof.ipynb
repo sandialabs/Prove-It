{
 "cells": [
  {
   "cell_type": "markdown",
   "metadata": {},
   "source": [
    "Proof of <a class=\"ProveItLink\" href=\"../../../../../_theory_nbs_/theory.ipynb\">proveit</a>.<a class=\"ProveItLink\" href=\"../../../../_theory_nbs_/theory.ipynb\">numbers</a>.<a class=\"ProveItLink\" href=\"../../theory.ipynb\">multiplication</a>.<a class=\"ProveItLink\" href=\"../../theorems.ipynb#commutation\">commutation</a> theorem\n",
    "========"
   ]
  },
  {
   "cell_type": "code",
   "execution_count": 1,
   "metadata": {},
   "outputs": [],
   "source": [
    "import proveit\n",
    "theory = proveit.Theory() # the theorem's theory"
   ]
  },
  {
   "cell_type": "code",
   "execution_count": 2,
   "metadata": {},
   "outputs": [
    {
     "data": {
      "text/html": [
       "With these <a href=\"allowed_presumptions.txt\">allowed</a>/<a href=\"disallowed_presumptions.txt\">disallowed</a> theorem/theory presumptions (e.g., to avoid circular dependencies), we begin our proof of<br><strong id=\"commutation\">commutation:</strong> <a class=\"ProveItLink\" href=\"../../../__pv_it/theorems/0a0123d3fbec63701d64ff1653dd57fc1f98f5750/expr.ipynb\"><img src=\"data:image/png;base64,iVBORw0KGgoAAAANSUhEUgAAANEAAAAWBAMAAACs+WTQAAAAMFBMVEX///8AAAAAAAAAAAAAAAAA\n",
       "AAAAAAAAAAAAAAAAAAAAAAAAAAAAAAAAAAAAAAAAAAAv3aB7AAAAD3RSTlMAq1RmmUTNIjK7EInv\n",
       "3XZ/CtNrAAAACXBIWXMAAA7EAAAOxAGVKw4bAAACyUlEQVRIx7WVTYjTQBTH36bpR9L0AwUvhRIQ\n",
       "3IOgOSyCFdZCVQRRC3vxIG5FQban7F2lHgRBxRUKGhWJeCoVW3VBL8qCCIKs1GVBUArpaT3J4kFl\n",
       "BXFeZjLbTKdhLz74p83L782bvHkzAdiC2UwS9xZ8Y6JlljWpRDsjR2UYKo83OyMz7WYaMv1Bjwxr\n",
       "ydDWspjdojqMNxeiEuk1qpAlyuRSl6FwXvTWqa6Qn+RCVCbVogpZDss0JUPhh+idokq4AGkzKpPB\n",
       "FLJZF72uBI1vjAzg+oqRaSQil2kXU8he+yW0JGi6J7KIoZb7/Q+RmY4xJQtrHnee/b6NDJqXoIni\n",
       "gJeIhiCGOgpwLzLTOabTtsYLo/90OzbE/D453kf7FKCduv4rwGgIYqh5SPKppeZ4azaLl9nfFSr9\n",
       "Lai8MMoGGB4oS8KkEN3rwsdgPjQEMZTmpqscLWC6gVPVb9vKfeZ7R6WuQ6aLc8YXUWuQ60JqXciE\n",
       "6BGAP/jSwEMQQyneUEO8JzrUIGV9CnAgnMlYgA5OKYM7iQwwa0J8SZLpK8Sxz1eBhyDmo7VpcmlP\n",
       "v8TX+Ttw/Z3/+CpZznD1Oh4cHN5OJ11QesI6rfjbSQ2Wk4Ug5qPPyf7VP6dwGbNfsuUWMpOTmxN9\n",
       "SNUxYYcSnJS5BlkDiIk7HtHf8CRofhaCmI9eJA2hllP4epoVq80gUypthj+j0jxlVQ18E5ZGiqh2\n",
       "hUyIbodmcMtCEPPRCbIuRjWLDWg01Pw+x3HMa6c2w29S6cVX8994lxcquFpVIROijxb5fmYhiHG0\n",
       "Y2slcmbkwDCv4z12hM6eZRpUo3ZJdIzHOGrYt2bcNmTc/aTrcXMv2vCGPYuVqUatIjrGYxyNV/a8\n",
       "gBtm6oQHybvoaM81+fzuMIkm+QSMw0SUnldtxwnXv8Ukmjb6zR6HCWjclR98SY9KtDU5KsMENAb/\n",
       "0/4B3UvFVuu0bpEAAAAASUVORK5CYII=\n",
       "\" style=\"display:inline;vertical-align:middle;\" /></a><br>(see <a class=\"ProveItLink\" href=\"../../../__pv_it/theorems/fad2da1841388f693427c5951a20f83cb77645ed0/dependencies.ipynb\">dependencies</a>)<br>"
      ],
      "text/plain": [
       "<IPython.core.display.HTML object>"
      ]
     },
     "metadata": {},
     "output_type": "display_data"
    },
    {
     "name": "stdout",
     "output_type": "stream",
     "text": [
      "commutation may now be readily provable (assuming required theorems are usable).  Simply execute \"%qed\".\n"
     ]
    }
   ],
   "source": [
    "%proving commutation"
   ]
  },
  {
   "cell_type": "code",
   "execution_count": null,
   "metadata": {},
   "outputs": [],
   "source": []
  }
 ],
 "metadata": {
  "kernelspec": {
   "display_name": "Python 3",
   "language": "python",
   "name": "python3"
  }
 },
 "nbformat": 4,
 "nbformat_minor": 0
}