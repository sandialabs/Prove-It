{
 "cells": [
  {
   "cell_type": "markdown",
   "metadata": {},
   "source": [
    "Proof of <a class=\"ProveItLink\" href=\"../../../../../_theory_nbs_/theory.ipynb\">proveit</a>.<a class=\"ProveItLink\" href=\"../../../../_theory_nbs_/theory.ipynb\">numbers</a>.<a class=\"ProveItLink\" href=\"../../theory.ipynb\">multiplication</a>.<a class=\"ProveItLink\" href=\"../../theorems.ipynb#right_mult_eq_nat\">right_mult_eq_nat</a> theorem\n",
    "========"
   ]
  },
  {
   "cell_type": "code",
   "execution_count": 1,
   "metadata": {},
   "outputs": [],
   "source": [
    "import proveit\n",
    "theory = proveit.Theory() # the theorem's theory"
   ]
  },
  {
   "cell_type": "code",
   "execution_count": 2,
   "metadata": {},
   "outputs": [
    {
     "data": {
      "text/html": [
       "With these <a href=\"allowed_presumptions.txt\">allowed</a>/<a href=\"disallowed_presumptions.txt\">disallowed</a> theorem/theory presumptions (e.g., to avoid circular dependencies), we begin our proof of<br><strong id=\"right_mult_eq_nat\">right_mult_eq_nat:</strong> <a class=\"ProveItLink\" href=\"../../../__pv_it/theorems/e00819962ce237fc5dd2a51a7d752c5c22b6f3f10/expr.ipynb\"><img src=\"data:image/png;base64,iVBORw0KGgoAAAANSUhEUgAAARkAAAAXBAMAAADNQybgAAAAMFBMVEX///8AAAAAAAAAAAAAAAAA\n",
       "AAAAAAAAAAAAAAAAAAAAAAAAAAAAAAAAAAAAAAAAAAAv3aB7AAAAD3RSTlMAq1RmmUTNIjK7EInv\n",
       "3XZ/CtNrAAAACXBIWXMAAA7EAAAOxAGVKw4bAAADdElEQVRIx71WTWgTQRR+2d00yaaJOQmlEgL+\n",
       "HbSagxTqIUZq/avS0IJexC70UPC0PSpVYi+CVhpPNR7qFjwYIk2qoFKhREX8QymiKEhhi5X6A6UI\n",
       "UulBnJk32Wx3J7YY6QffTrLz7cy3b968HYD/AZ3TCV818WoH+BeEY0gXvKZY7MJJzgj9s7E2N9s4\n",
       "3fgkFrstxpFt9E9vTWZUDSlAnSESC3AKeZ4ub6YmN0ocKYCcFIkF2IWk7oOxmtzUc4rwQiQWjWEw\n",
       "ysRrXW1ps4VThB6RWLSkceSr6emXtblp5xybufmgEuW+yXPkOi4Qq7NxGK1UgcY5svOCEeRBgGur\n",
       "mDJZvauHMxmOKlPW5n4K10n0m1muTDNEuDgolWCP9fQJPbBEEkxD9oEvUnWis+0p+SH79ZdEf4OU\n",
       "dXnJY+XorTgcJc12gXiAeG6w9thjoK9ADDIGjGBKOIl/JpuSIhNweCU3T5B+UHD3FmjTAfCRNEMC\n",
       "sVFvwuuyTlmAUJE8vICUzCpJvC9NOhMKFFfphmwKLL0huqrPQf1J10Ek7jb8v8q6+gwUSDS8JSRo\n",
       "CXLJJ+5R7fyBWfK58M6Ah5VGkAaOm3Y32M/ygmqWrRSZRVfL1U79DTJ5VWhy5g0V7odwqeyuYLIc\n",
       "kqaQcJvUQPW9f5EWaL2hjuyKsXXGIOSoVkpPbLa5Yf2HsgRxpkGMIHOpDRC00uEHeLStAC3O2FDx\n",
       "FQhYqVqIwXpJB5mMTwn9pEdJ+qlbGUb8pDnTBF+hC90o4UzFDe+HsgYxjtx58Qh02mZtSiZx5y8D\n",
       "Fe+FbivbA6b0ViEGikjwkPyoT4XR7SK7NkIUmkkEYlJaLWr2vFm0hqUaxGXkjXmptVJuRr9fiJKB\n",
       "3zndUPHoZId1fFCj9/u+kBxKITFeemA3XXJ/iR1J3sEzuISxgU7T5ob240oxDSKURooOOFPOOyi8\n",
       "6yolnPiZ0Ie6jDz0BzUF8gAfvAtk59OlSQEPGnPD+jmopvJplJNVP6iu72hQUx85b7dy4g5p3XEH\n",
       "BmPK58lvpIFNLRr4rtK49vITELph/RxUwzHM6cZp961hCJmeojOGGfdJgq96TNUD5J3y2aytLDrr\n",
       "DWoQOU7R1C7kSBFrc94M6Ej7udHgjcc85hrE6cau8ZlI95FOcNYVCuc47UtabryJ4opuRJq1g74W\n",
       "k/wBy0vzh4v/0lcAAAAASUVORK5CYII=\n",
       "\" style=\"display:inline;vertical-align:middle;\" /></a><br>(see <a class=\"ProveItLink\" href=\"../../../__pv_it/theorems/580d0d51a846535a7bb253f009e031c9093e1b3a0/dependencies.ipynb\">dependencies</a>)<br>"
      ],
      "text/plain": [
       "<IPython.core.display.HTML object>"
      ]
     },
     "metadata": {},
     "output_type": "display_data"
    }
   ],
   "source": [
    "%proving right_mult_eq_nat"
   ]
  },
  {
   "cell_type": "code",
   "execution_count": null,
   "metadata": {},
   "outputs": [],
   "source": []
  }
 ],
 "metadata": {
  "kernelspec": {
   "display_name": "Python 3",
   "language": "python",
   "name": "python3"
  }
 },
 "nbformat": 4,
 "nbformat_minor": 0
}