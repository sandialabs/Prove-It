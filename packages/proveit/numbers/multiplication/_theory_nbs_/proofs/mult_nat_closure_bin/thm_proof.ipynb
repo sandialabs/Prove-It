{
 "cells": [
  {
   "cell_type": "markdown",
   "metadata": {},
   "source": [
    "Proof of <a class=\"ProveItLink\" href=\"../../../../../_theory_nbs_/theory.ipynb\">proveit</a>.<a class=\"ProveItLink\" href=\"../../../../_theory_nbs_/theory.ipynb\">numbers</a>.<a class=\"ProveItLink\" href=\"../../theory.ipynb\">multiplication</a>.<a class=\"ProveItLink\" href=\"../../theorems.ipynb#mult_nat_closure_bin\">mult_nat_closure_bin</a> theorem\n",
    "========"
   ]
  },
  {
   "cell_type": "code",
   "execution_count": 1,
   "metadata": {},
   "outputs": [],
   "source": [
    "import proveit\n",
    "theory = proveit.Theory() # the theorem's theory"
   ]
  },
  {
   "cell_type": "code",
   "execution_count": 2,
   "metadata": {},
   "outputs": [
    {
     "data": {
      "text/html": [
       "With these <a href=\"allowed_presumptions.txt\">allowed</a>/<a href=\"disallowed_presumptions.txt\">disallowed</a> theorem/theory presumptions (e.g., to avoid circular dependencies), we begin our proof of<br><strong id=\"mult_nat_closure_bin\">mult_nat_closure_bin:</strong> <a class=\"ProveItLink\" href=\"../../../__pv_it/theorems/8119f3d392468ec70cf55690e7c63b7872dc8e7d0/expr.ipynb\"><img src=\"data:image/png;base64,iVBORw0KGgoAAAANSUhEUgAAAKsAAAAWBAMAAABNknGBAAAAMFBMVEX///8AAAAAAAAAAAAAAAAA\n",
       "AAAAAAAAAAAAAAAAAAAAAAAAAAAAAAAAAAAAAAAAAAAv3aB7AAAAD3RSTlMAq1RmmUTNIjK7EInv\n",
       "3XZ/CtNrAAAACXBIWXMAAA7EAAAOxAGVKw4bAAACv0lEQVQ4y62VT2jTUBzHf03SpsnSP+xgwaIE\n",
       "REEE6UEEPdRCFcSBBgd6UFydh6Gn7O4ginhxwyD4p6KSHUeRVndQhsJEBEGEIgNhEMhOmwrSk+IY\n",
       "4u/9SdpkS9jBH3zbvk/C9/3e7/3eK8A2wuTaAse9vo3I60zRuBQZP//zwIE3GwbhRQL2JNoe4BoI\n",
       "9UkXp6pEXryXLoLao/wEGU8kuaoNplBkavhxLQJ3mfMAi5TfwKFsJ9lKFaZQFEhRDkXgsJ0xoUt5\n",
       "xgEY0pNsNa5QjDmEOmzwzXXpakpVuUFskYuYRyaxtPu4QvGWVoKt4dx3Dksp6wexJfyz635KtB3h\n",
       "ksurXgAv/xzGVdL9loMSl8BWjC7jJwEeJ9pe4bpoKuvBNv5y2iaIdOkZs297S11GW8InQS76PHuV\n",
       "/5gaMcR3/PcXJvU9SF3/RWEdNA+ERWoLfVtR34+McMUZMoIHZeK90jSE4gKc4uwDk9SDXIcmSrqj\n",
       "AYUOZHvk+bSLYTNb2JlCS8IFb2DHPqKOWwirEnTCtpoNbTr/EgonGNMhTbOdG8gWZlVcEeWNKn60\n",
       "qq9Ion9XHHp2hJvnvU64CG0Pjg227RkHBFqU3KBt1sO8KX+JO6l+zf4mp385X6OTC9bCXt/2GVNb\n",
       "hx2CvzsFC0sNIl16PuiPR6g1m/PruGNSLUsSVypiY5TZSnn/6L1gUjxhSfINUhUFT6/EZh736Tir\n",
       "OuMprKVm5Ek7aJZUPNxsNnXBUjv+NTDDpO5+PbkWNFi5TpbP9nr2Pjtttzdsdnvk/B5om8pRfFYA\n",
       "Tb/DsoWz/tpyFtPmmOLfF566ja04aObdUacFOecINhyORQPyfjeLNabNUY85QAFP1w/Ow7SePe2B\n",
       "TAo/M8FvYhIPuaIRd/FFObvIWs2mEcJzoebshxLz7xLhaSdmdo8pGqsxNYhwEf5b/APtTLFjASAk\n",
       "dwAAAABJRU5ErkJggg==\n",
       "\" style=\"display:inline;vertical-align:middle;\" /></a><br>(see <a class=\"ProveItLink\" href=\"../../../__pv_it/theorems/8f14e4636988ea78442e581b619da66b16de4f810/dependencies.ipynb\">dependencies</a>)<br>"
      ],
      "text/plain": [
       "<IPython.core.display.HTML object>"
      ]
     },
     "metadata": {},
     "output_type": "display_data"
    },
    {
     "name": "stdout",
     "output_type": "stream",
     "text": [
      "mult_nat_closure_bin may now be readily provable (assuming required theorems are usable).  Simply execute \"%qed\".\n"
     ]
    }
   ],
   "source": [
    "%proving mult_nat_closure_bin"
   ]
  },
  {
   "cell_type": "code",
   "execution_count": null,
   "metadata": {},
   "outputs": [],
   "source": []
  }
 ],
 "metadata": {
  "kernelspec": {
   "display_name": "Python 3",
   "language": "python",
   "name": "python3"
  }
 },
 "nbformat": 4,
 "nbformat_minor": 0
}