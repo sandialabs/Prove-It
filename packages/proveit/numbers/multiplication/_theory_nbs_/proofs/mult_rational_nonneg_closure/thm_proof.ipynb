{
 "cells": [
  {
   "cell_type": "markdown",
   "metadata": {},
   "source": [
    "Proof of <a class=\"ProveItLink\" href=\"../../../../../_theory_nbs_/theory.ipynb\">proveit</a>.<a class=\"ProveItLink\" href=\"../../../../_theory_nbs_/theory.ipynb\">numbers</a>.<a class=\"ProveItLink\" href=\"../../theory.ipynb\">multiplication</a>.<a class=\"ProveItLink\" href=\"../../theorems.ipynb#mult_rational_nonneg_closure\">mult_rational_nonneg_closure</a> theorem\n",
    "========"
   ]
  },
  {
   "cell_type": "code",
   "execution_count": 1,
   "metadata": {},
   "outputs": [],
   "source": [
    "import proveit\n",
    "theory = proveit.Theory() # the theorem's theory"
   ]
  },
  {
   "cell_type": "code",
   "execution_count": 2,
   "metadata": {},
   "outputs": [
    {
     "data": {
      "text/html": [
       "With these <a href=\"allowed_presumptions.txt\">allowed</a>/<a href=\"disallowed_presumptions.txt\">disallowed</a> theorem/theory presumptions (e.g., to avoid circular dependencies), we begin our proof of<br><strong id=\"mult_rational_nonneg_closure\">mult_rational_nonneg_closure:</strong> <a class=\"ProveItLink\" href=\"../../../__pv_it/theorems/b15ecd9f08b5eb50b5085817d19e9be17beb4fa70/expr.ipynb\"><img src=\"data:image/png;base64,iVBORw0KGgoAAAANSUhEUgAAAcAAAAAaBAMAAADS2ZG9AAAAMFBMVEX///8AAAAAAAAAAAAAAAAA\n",
       "AAAAAAAAAAAAAAAAAAAAAAAAAAAAAAAAAAAAAAAAAAAv3aB7AAAAD3RSTlMAq1RmmUTNIjK7EInv\n",
       "3XZ/CtNrAAAACXBIWXMAAA7EAAAOxAGVKw4bAAAFkUlEQVRYw91YXWgcVRQ+2d3ZmZ3djEv9Sy2E\n",
       "1SoGxLDGFDGWuJpEi0G6EPHBBgk+KIoPE/DBaJuuRdFi2CzWPKSgTgwINkq2TbXVUgktIdWiLhpN\n",
       "qSysNlpjQEIxRiIaz7n3zmRmfya7uI3ggblz5565P9/5vfcC/K9of5y9TiyU+X9Ndraq83vjlxmg\n",
       "+lGEpslJKYhhRct+5f6/v8rz33j5dTgfBQglYBn62OftGwpQ7cFCrsJAugvvzhzsNeAUqnHjAQZQ\n",
       "uvBDFQZ6tIhtDr8uYG/XBw34GuA8Bxim19bSAF35FdJufDzpKgykRfNbvj8De7aw2tgQIMAvsIkD\n",
       "7KDXE6UBuvIrpE583qnKSE/lfQfvioLUkcLaM3VAJnoJYNxgAF8gt0iVBujKr5CW8GmrykjNed+v\n",
       "kjOlWgF6ER8PMuCPMoB+xBmMlAboyq+MlBUsJqsyVMgQMTObpcAFB0ewOO6HkfuZBeck9CxfigH0\n",
       "Rl1iCTJc+RV6TgZdsKcqQ/m5Ez78iwgxqSSWN/gSh/j3iTkUgDbJo+jn2exZtyjqxq+MahCcj2JM\n",
       "7yf9To685WJu/f62bkEW+2TTFZV0F5ZdXoelSSsc4A5UsBtAN36FWSLFRS9Nw1uGg9OtB1bW7W7v\n",
       "5mWG4DfzoZRrwjLpcQRX5Q8OsBfksF2YMx/A9rANYB6/grTeScvpb7Sysh/HqUUhvxeFBwFG14xV\n",
       "PQ2+DIwdvs51PN6Nk2fSkablNCWyLi2+fxhJTCgvcYABI2jtEJObh+D6oOEzbADt/PK3hPdcizMc\n",
       "1SmgW0BqcXsYwrF2AnwHyq8Z9ufvWPgWoTaNm0e2/vFCL2U/8W6mdhapHMgisQgvfNBhF6oA6MlZ\n",
       "gvDtoKSeiwXtJmrjl0UkpOfTMIGqUufi6iR8ZtcgAfyUze1hAGGGYmIKxuOYRPYmhBjyiX4S3YRN\n",
       "Mg2+a/1wsJdHUYdjCxOFHkwf3rbkHMAFam+4qd8BkPHLJyakYxEYvYPm+EbOwLk8E1X/Bu+iBZAp\n",
       "LQd3A7RwgCWtgnXjCxWday3mLpYHm5xZaVkAPIKxaLQ7GtJVpu2G4Nu7HACJD2Otx8yJJhYK97pr\n",
       "jSQkZZ8OmobvTgM1OG1FURw/kAP1EsbTmx0AI3CNB/ufdDV71o0tFBWS4vnOEivtZK527kfMKAq7\n",
       "UbDP/QRXGBILQg0Qm3cAJL46y+RB9L4+WAjQamRC8o4CAZSuJP2v+SAlJorvb8KtsZgdYCDnmfGh\n",
       "PM47vY68kbsfI9aNLVRkG4DHLOZh3ItelXf4FHkQasgw6qEbvE8OD7+GAMf8DoDE98WUSZBZumiH\n",
       "AZAaO5yDUSMXGwmJtKcF1U3U0L9Vt4tUQVgjCy/XJ+wA1frjvT8D9BlOr2PeOGM18W60UGTxuDcy\n",
       "ZHaRdz7+W56B+8L249IZaFeUNNeg1FhwXArFtTDsYxKewm16CMadg03xvTtwIUnCRPNpCh/LI20A\n",
       "xRpjsr6+j9NCAfaYvvdGVhhITaK12G7HBCgvwrkGntC3gblYG8BxPdBisBOWugwHDsmmwkwVUKO3\n",
       "oykNXEgsyMjt7e0dBaeJ5pIA+1550VgXH19osS17vbbpJUeDOE0I6wnDQhT6UMnKtzrUFGpQH+wi\n",
       "gGoappWlFoAhqo5ZBTV65iEjdj3JMByJFq6BpBIw0/CHf+btzr5cXV1fgXyhxY43ns1PH3A03FZ4\n",
       "osdj8VDxE73U1jhBZ2TlFDzUhDP4ElQd0JVpKkRjnYzmQkIC9eR9dcU2oxERhf71pq8MW4bZyq8s\n",
       "0EQ9vPaxZlXBqmW0bYYQUvDZaKk7mf4qALxYzg1e5XcyybMReIS3r/4FokrEa2rYM2E13dv8Y5Hx\n",
       "btnAK9LybtUK7kWjxapFtKVcSPwX96I2eoDdi57+B0n9hK3xajF3AAAAAElFTkSuQmCC\n",
       "\" style=\"display:inline;vertical-align:middle;\" /></a><br>(see <a class=\"ProveItLink\" href=\"../../../__pv_it/theorems/c0169a70e80165433ad4f8b950326007bc48a9020/dependencies.ipynb\">dependencies</a>)<br>"
      ],
      "text/plain": [
       "<IPython.core.display.HTML object>"
      ]
     },
     "metadata": {},
     "output_type": "display_data"
    }
   ],
   "source": [
    "%proving mult_rational_nonneg_closure"
   ]
  },
  {
   "cell_type": "code",
   "execution_count": null,
   "metadata": {},
   "outputs": [],
   "source": []
  }
 ],
 "metadata": {
  "kernelspec": {
   "display_name": "Python 3",
   "language": "python",
   "name": "python3"
  }
 },
 "nbformat": 4,
 "nbformat_minor": 0
}