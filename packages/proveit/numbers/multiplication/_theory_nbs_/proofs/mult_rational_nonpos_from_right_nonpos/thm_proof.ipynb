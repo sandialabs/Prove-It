{
 "cells": [
  {
   "cell_type": "markdown",
   "metadata": {},
   "source": [
    "Proof of <a class=\"ProveItLink\" href=\"../../../../../_theory_nbs_/theory.ipynb\">proveit</a>.<a class=\"ProveItLink\" href=\"../../../../_theory_nbs_/theory.ipynb\">numbers</a>.<a class=\"ProveItLink\" href=\"../../theory.ipynb\">multiplication</a>.<a class=\"ProveItLink\" href=\"../../theorems.ipynb#mult_rational_nonpos_from_right_nonpos\">mult_rational_nonpos_from_right_nonpos</a> theorem\n",
    "========"
   ]
  },
  {
   "cell_type": "code",
   "execution_count": 1,
   "metadata": {},
   "outputs": [],
   "source": [
    "import proveit\n",
    "theory = proveit.Theory() # the theorem's theory"
   ]
  },
  {
   "cell_type": "code",
   "execution_count": 2,
   "metadata": {},
   "outputs": [
    {
     "data": {
      "text/html": [
       "With these <a href=\"allowed_presumptions.txt\">allowed</a>/<a href=\"disallowed_presumptions.txt\">disallowed</a> theorem/theory presumptions (e.g., to avoid circular dependencies), we begin our proof of<br><strong id=\"mult_rational_nonpos_from_right_nonpos\">mult_rational_nonpos_from_right_nonpos:</strong> <a class=\"ProveItLink\" href=\"../../../__pv_it/theorems/7cc36f36acaa4faf72c1b65bd979a10e32b67cfc0/expr.ipynb\"><img src=\"data:image/png;base64,iVBORw0KGgoAAAANSUhEUgAAAQMAAAAaBAMAAABBUSQfAAAAMFBMVEX///8AAAAAAAAAAAAAAAAA\n",
       "AAAAAAAAAAAAAAAAAAAAAAAAAAAAAAAAAAAAAAAAAAAv3aB7AAAAD3RSTlMAq1RmmUTNIjK7EInv\n",
       "3XZ/CtNrAAAACXBIWXMAAA7EAAAOxAGVKw4bAAAEXklEQVRIx8VXf2hVZRh+vOfenXPPufc6kWhK\n",
       "yJEJKqldSmZJyNY2Z0a1oX84CTUWRPujjjEimc5rSQXGJv5oXSG7QymmklcnDBfKGIRaKAuyrBjc\n",
       "adIf1RDBjAXR+37nnm/n18B1L/TBOfvO+93vO8/3vM/7fGfA/9MivTAu5su2nNI8cwRHgTVoRbRM\n",
       "EBbNHPRBul3GbEvdXxYE+ja6qcG4Ou2M1AEenkTCJCrK0eJput0MxmOFQOhkNtsEaCPc1yaRTCOZ\n",
       "Ayr5sboUCDs5tz5l9V+l263A7h/JqN/SL5cO2RASBaTo/Y089mopEJ6j6zN/8BW6KnK+4MAAsLGV\n",
       "Oq1DIhGzTeiTwB5OS0miuEdXvT94l0VX641peVJNXOH87Gmy5Qi02VANswQERCgw7NcBB/F1kf9P\n",
       "xr4XojlBrBsZVi+2z8cEWqjzLEElMVWUQkJqlKSwzRc0RvneZsN5vZiQfo0IiJjrxINF1rSe/v5O\n",
       "19WxsW9KgTCLXh9lNW6/2CWDFQvGidkzov+WI4l9MdpuLP24Z/pWGiVQR2bqBJ6aJCFV8NqX8KnU\n",
       "3+l2/T5QA4/WtygESyt4y68nQ+ChVgZecpzLRr35a7i3VaFrhSU3TLOTtPapNJ6XP3ksh2vAMtGX\n",
       "SeqMCBZua1lqvcXgbnL3eM7wePzJQ3No+c4mVqoQyXtOvejn6x7mHxBv7VMLJ0n3CVrhReBnQQCP\n",
       "rAX+ph0KuVKmx34UfNlaWO/Zz2maGilINWrj2Wb1SxicrS8acQoJZnYWJ7p73mF05jFgomOQwAw7\n",
       "ardZYAhXoN9zIBGYGJXlSwK4rPj451MVIdvuDBMlfbqBHo03oT/BLO9q3oUkjyfoFmUZD5o4tkq9\n",
       "zikaxQ1fIvR/oNxx2UKUynK56I/KSrV9wesAPfyus+3M7ppBpNjsP1gMFIiwvUPMAo/3TMwXXqu9\n",
       "YyGVgvKQYOGSrAjaZbwA/S7VxmIn+BdLA0+J/oR8XT25Y0srAhWBnbQN/QftPvo5tDotILQIuxAp\n",
       "+iP3iyBTOQaGgMhclpikM0W2ZNASR7G8VtrhXBwqWjctI7dt8Bnhs8ynxTaY6FptGBv4iRko5PtM\n",
       "URGrOHIQNVzQ4vUpg+loRFe15TZCjcju++39BRkn2HeOZ1y3VTxvsxPu+PONdb7yqnM6iWY6smqo\n",
       "VsxNxURMtcuoU17LZg/E7EQE2ld03QgrXrWogth526CpVSn+E7xNloYVX53bJ8gScuxoaGhwSvUO\n",
       "RjRxFttypJHGwEm5MgxCNB200sL4Eo8F6JOSBatnQy6eE4UJw+Vfeh4/Kftt/+yuxNngqviQ680K\n",
       "gbAjJLbwoyueJRRpi7H6FQNQPxbW9N3LGdc5OIK9JOkdHNIvrK0KOyRMd/G7Wu8DeH3SCnxXEUuD\n",
       "73q+dYvGmD1MSXo7Pd23Y1fIEWo9AITwb8do9QuudG12Dz2z8nbIhEf/+zE73cdS95OuB8++tVuZ\n",
       "8vwfIbdL8vsX3eYQ4v5ySRIAAAAASUVORK5CYII=\n",
       "\" style=\"display:inline;vertical-align:middle;\" /></a><br>(see <a class=\"ProveItLink\" href=\"../../../__pv_it/theorems/ad93800ffc11b569cc6641f647efab5841e309270/dependencies.ipynb\">dependencies</a>)<br>"
      ],
      "text/plain": [
       "<IPython.core.display.HTML object>"
      ]
     },
     "metadata": {},
     "output_type": "display_data"
    },
    {
     "name": "stdout",
     "output_type": "stream",
     "text": [
      "mult_rational_nonpos_from_right_nonpos may now be readily provable (assuming required theorems are usable).  Simply execute \"%qed\".\n"
     ]
    }
   ],
   "source": [
    "%proving mult_rational_nonpos_from_right_nonpos"
   ]
  },
  {
   "cell_type": "code",
   "execution_count": null,
   "metadata": {},
   "outputs": [],
   "source": []
  }
 ],
 "metadata": {
  "kernelspec": {
   "display_name": "Python 3",
   "language": "python",
   "name": "python3"
  }
 },
 "nbformat": 4,
 "nbformat_minor": 0
}