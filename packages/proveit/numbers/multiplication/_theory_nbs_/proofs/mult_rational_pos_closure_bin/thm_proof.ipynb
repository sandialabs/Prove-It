{
 "cells": [
  {
   "cell_type": "markdown",
   "metadata": {},
   "source": [
    "Proof of <a class=\"ProveItLink\" href=\"../../../../../_theory_nbs_/theory.ipynb\">proveit</a>.<a class=\"ProveItLink\" href=\"../../../../_theory_nbs_/theory.ipynb\">numbers</a>.<a class=\"ProveItLink\" href=\"../../theory.ipynb\">multiplication</a>.<a class=\"ProveItLink\" href=\"../../theorems.ipynb#mult_rational_pos_closure_bin\">mult_rational_pos_closure_bin</a> theorem\n",
    "========"
   ]
  },
  {
   "cell_type": "code",
   "execution_count": 1,
   "metadata": {},
   "outputs": [],
   "source": [
    "import proveit\n",
    "theory = proveit.Theory() # the theorem's theory"
   ]
  },
  {
   "cell_type": "code",
   "execution_count": 2,
   "metadata": {},
   "outputs": [
    {
     "data": {
      "text/html": [
       "With these <a href=\"allowed_presumptions.txt\">allowed</a>/<a href=\"disallowed_presumptions.txt\">disallowed</a> theorem/theory presumptions (e.g., to avoid circular dependencies), we begin our proof of<br><strong id=\"mult_rational_pos_closure_bin\">mult_rational_pos_closure_bin:</strong> <a class=\"ProveItLink\" href=\"../../../__pv_it/theorems/698f475ffa584052908af9a694b5220b2a7833ec0/expr.ipynb\"><img src=\"data:image/png;base64,iVBORw0KGgoAAAANSUhEUgAAAMkAAAAZBAMAAABp1hcZAAAAMFBMVEX///8AAAAAAAAAAAAAAAAA\n",
       "AAAAAAAAAAAAAAAAAAAAAAAAAAAAAAAAAAAAAAAAAAAv3aB7AAAAD3RSTlMAq1RmmUTNIjK7EInv\n",
       "3XZ/CtNrAAAACXBIWXMAAA7EAAAOxAGVKw4bAAADYklEQVRIx6VWXWjTUBQ+TdIl6e/0QYSJRCYq\n",
       "DKRMER0yK504FWZlIg5l69yD6IuZ+ObEii/Cpiv4G1GJTzL30OqECSIMRHCIMGUgCIXsQaYishcn\n",
       "7EE85ya5zdK6tXohaXLuvfnO952fW4Cqh5iGWkcSL6m2LetrBoEcXnKulh2hDN318gl9aRRorQVF\n",
       "TeAtppVPdJdZRg1jbwklagLU00NjFSgDdGvy8bs3hcgJ38rYmqz8vsBRYgixhx5OVoFygKvmGXUU\n",
       "39M+49gYwOEukAxj0riOmxYALlUboJ+UL36346Tg1sU2pYC+qKLlcoE+9AZVC2vLgyjoEUT81h6T\n",
       "rKb98rVYJK7qY5QonM1wlH1YBeheXRVUYhgB2OC3vmSy2QyPfLNtIwrSELR2jvIdr3fF4tsqUAIZ\n",
       "JzZyw6zFrb0/VqLfLINkNzyDQUQNJpo5ChFGzLt//XahlMg5W2E4rqsLPMfmzbwOIsuJOrduukUM\n",
       "gGI1OrUPMJwF6Ae5fskW4WQTLfqAH34F0pRrFBYgYoEwwRa4xvMC4/KZb72IrUk1w7xBKad4Yd1Y\n",
       "oS9CidLja0yzOYgSwzwRkDIQL4AyRwuGijiIsGrHZT/fmsfvC5Yn+A0ENWOk5RcQbi7ngiiRHNtl\n",
       "oyJejwZBxmWEa/uI55jDBRWDjKfRvMGrDY3hsxDaoj9rm25L+xTLW7DLWy4HTRCYglHXGLTrpVQd\n",
       "w6TKU0qO0dZxovF7xmQN48pGAMvycgmQGA8QRYNVghvoeBbDBKLdSHjmpbD2D3X5imoAvQx9VH7R\n",
       "yk+xJGPekvCjxEiWJ+ikJUzzIyOQUHGFZGfiCdcapj5W2gk72VJUSEoqE6zviplOshGCVfCiBCl9\n",
       "r6I/a5/3f+GZ3JAirWxVH950egCcmz/T7knU3e5DJE2dEyJZqX6bYRjaUUexUr1Q5CGarZTuF5zf\n",
       "Y/eLTshXi5Znvo8nm662oCdxiGiDjDSLfllPFpOVUFLljcKa2cTLI8SLOKIPd5qjeODswPph2Qxh\n",
       "36EzRLfbFUAqdfR1tyZ5+xZ50QdTm8dgSFM6LJDvsKqc7vWpE9C8ReE9RPWlO2DUN6+55ymyHb9c\n",
       "6dyXrfKvzC7TZ33nftD0vEiNHb5/Rk3wT8MvqLjo7dr2//8/xtxF3/8AHibNFz0dcFAAAAAASUVO\n",
       "RK5CYII=\n",
       "\" style=\"display:inline;vertical-align:middle;\" /></a><br>(see <a class=\"ProveItLink\" href=\"../../../__pv_it/theorems/8ed59cb5c427c07160df6d7804fd1c5b129b315b0/dependencies.ipynb\">dependencies</a>)<br>"
      ],
      "text/plain": [
       "<IPython.core.display.HTML object>"
      ]
     },
     "metadata": {},
     "output_type": "display_data"
    },
    {
     "name": "stdout",
     "output_type": "stream",
     "text": [
      "mult_rational_pos_closure_bin may now be readily provable (assuming required theorems are usable).  Simply execute \"%qed\".\n"
     ]
    }
   ],
   "source": [
    "%proving mult_rational_pos_closure_bin"
   ]
  },
  {
   "cell_type": "code",
   "execution_count": null,
   "metadata": {},
   "outputs": [],
   "source": []
  }
 ],
 "metadata": {
  "kernelspec": {
   "display_name": "Python 3",
   "language": "python",
   "name": "python3"
  }
 },
 "nbformat": 4,
 "nbformat_minor": 0
}