{
 "cells": [
  {
   "cell_type": "markdown",
   "metadata": {},
   "source": [
    "Proof of <a class=\"ProveItLink\" href=\"../../../../../_theory_nbs_/theory.ipynb\">proveit</a>.<a class=\"ProveItLink\" href=\"../../../../_theory_nbs_/theory.ipynb\">numbers</a>.<a class=\"ProveItLink\" href=\"../../theory.ipynb\">multiplication</a>.<a class=\"ProveItLink\" href=\"../../theorems.ipynb#mult_neg_any\">mult_neg_any</a> theorem\n",
    "========"
   ]
  },
  {
   "cell_type": "code",
   "execution_count": 1,
   "metadata": {},
   "outputs": [],
   "source": [
    "import proveit\n",
    "theory = proveit.Theory() # the theorem's theory"
   ]
  },
  {
   "cell_type": "code",
   "execution_count": 2,
   "metadata": {},
   "outputs": [
    {
     "data": {
      "text/html": [
       "With these <a href=\"allowed_presumptions.txt\">allowed</a>/<a href=\"disallowed_presumptions.txt\">disallowed</a> theorem/theory presumptions (e.g., to avoid circular dependencies), we begin our proof of<br><strong id=\"mult_neg_any\">mult_neg_any:</strong> <a class=\"ProveItLink\" href=\"../../../__pv_it/theorems/b9ae0bbc18dd378e06790681641326fa593e958c0/expr.ipynb\"><img src=\"data:image/png;base64,iVBORw0KGgoAAAANSUhEUgAAA/cAAAAZBAMAAACGDsOTAAAAMFBMVEX///8AAAAAAAAAAAAAAAAA\n",
       "AAAAAAAAAAAAAAAAAAAAAAAAAAAAAAAAAAAAAAAAAAAv3aB7AAAAD3RSTlMAq1RmmUTNIjK7EInv\n",
       "3XZ/CtNrAAAACXBIWXMAAA7EAAAOxAGVKw4bAAAH7klEQVRo3u1afWwURRR/vdv2rntHW+NH/Eia\n",
       "8wtIpHgRJFoMniIGIepF/YMgIU2AGEgM14SEVAXPBJXEQqtA4DDBBRIEqlz5MiixqRhTxaANKUqQ\n",
       "JlfbBBXbNDUIKdE6b2Z3Z2Zv76O98aSGl7y9N7NvZt+b33y8mTmAHFTS/SNcp/8h9XeHcuqUFd2q\n",
       "mMmKyJclVaiZ2fNi1xzgPoHBG772wK8IMVZFP0up0pSqehe7m54pdU0Qem8xgl+FmXdnA78Efzzh\n",
       "Yhl4n8mKyNNqi/tOkUevsk4adjU9U6oQooYroV6BCfhzMO+lbOBrUfwp1hym1zFWRXsEeSk6Yqiq\n",
       "eYWb6ZlShdFSVRWh9xYT8N/AJaA5G/h+nBwaijXwtTBjVTRbkIewv0dU1TzdzfRMqcJoSFVF6L3N\n",
       "YdoHAqGsaz528UPFAj9osipqF1a8YXyeVGap4WJ6plRhS/WwsqpOcibgY8xXlj3gm0Z+6ooF/kST\n",
       "VS35guGBTnwuUTaFhl1Mz5QqiJjhSmgJZ0T+VHf3t9nBD3Z3n28tFvjzTfbdccERmNe3rc1jM+Mo\n",
       "pgmGl1X3kCnuoNCoAw/Jpdt647mRsAoFqlxMl1OKnGCGF2K0rXOQM4I/F2B7dvC1OJQbxQLf6pqL\n",
       "YuXyZFfaAR/ktsJZTByeyRX6ZYAZvI1Pw1NS4TUhrTknMHYhL04qWjelqvQ5RaETzPACjOY6Mzgj\n",
       "+PXgI6brLJqPu4FP3tcXbSt6mrH+JWjyZPdRGJ7OvVdgxT60MyYI4cz9BnwHMIW/a8W0QD9BMOcx\n",
       "ACvkxxWl3cV0KaXKCWZ4AUYzHQR3CmcEv9wIkL1cgFVwlvWurqPwSBU/5NkOR0eD31vNo0W8YnO1\n",
       "NRt+xVgbRDd1NkyTOMaeRR/04zfgwNH/dGkyzGPFoM3WCRLf9tDBeRaeBLgK0MRrxKp21/HCONxa\n",
       "Dt5uK7h8gBWCCaQh/YMOBWK2/jL9VnysTlClNCeY4cL3mdFMOQ+jtWEb3CbOCL4nJcd7G2/bAncG\n",
       "DM3g4E8dXbxXMpoAwd+TiOrvxjzvy+AHmyEZhY39rLfj9uwb0C+BZg6lLpeaMI8V42kKPu//pWTP\n",
       "tEiokXx+oFMsDBBhQ3NCxP0DtJA5hbengy+nRu8EVUpzghnOv28abSnnNDrIR+MizvR4t26WFCHN\n",
       "xRO/VCTAp30o86ZGA34wPgrlJ4hy4ADATHnaT6bgUSLV8C78N3gHoTLqu5KtNrMYuE77Q3QI1Ag1\n",
       "4uTdKRYGuASvZzOfFQK7pLjmp037qpwYssbuGI1OcvhqOFPwD5F9fGkPrbkvxI4/J9+7VgQ/MJFM\n",
       "A/rhi9YpnyAKzWJnNg3QSajN7lSB3vTOY+bRQ9Ldb/Iblx2MkyG4xRMT220ISuomeY0c7UaLLeZx\n",
       "eLnw5Su45MLDdvoP4rfYjpXkbbQ2ezuyQgcex4DPubrtcKZUOcEMH7vRVAfBZd6bTMF/jXzlQCXO\n",
       "8pqnTqceTQ7selEA3/cFeXwca7IQF0ROPLPf6MMxF220Xp3xt6epm3n78DFpEs839yHlKU+XJg4a\n",
       "0pg1kYi058Uljq5pfK2jxfQUj5XF/diNsFnakJGo+ZjYjiQiDpA2/FxeMO2vCIUiEx27SNt0KaXK\n",
       "CWZ4nkbbFXKjqY5Gjzzmc6bgl5Cyr1AD9wcipbSLTYbIrwL4cCvOz0DAbKCRAIqlU+c45m98X47S\n",
       "JrqZeAr2mupasx5/ri8qH4WSPCBxxfOYqK3lLzYw1quP1f8itdvOi29XE0s3GPIC2SWtdbSYbxdv\n",
       "G78Qbe88gs6d4R3j8CxDbEc4Pu03UuKcvGDaX+GFdOMI7d0O8Dc4U6qcYIbnaTS3t0vSIeCa3pvM\n",
       "r3R3mLti7/JE4j0CfkuZCD4LYHrAX2NYYhCSznCnx5S+hsdYwGOqY9DVrsuxsRWIzUgkEqH1C4RF\n",
       "Os6YL1HyNnt7HnGEONefdVbgOC3zOE/PGvI50sBN/Jq0aC3unircibRzy7EYjUce6L3FNvj6MDW1\n",
       "MuZvZSO/dKoDfP0ybNoPEwxL9EGjvORjpge3JzAIJ8gTjyWoOqkVIOaY+THPOx3gHdqbScCnO64e\n",
       "MrTbKlid283kXi47r1+c9y3OdvRFfHlcYKJzs52Z8p2RSidygZ+X0djk1rUZsg2+py6iE9gbzdO+\n",
       "B8EexvbI7/BfqkU0iR4VYQuKLfYDMz33oHTO20yeyyBAwW+Bsii0QnlU0GV5q/cAOzr0HYnRXS2l\n",
       "rSa7tptv2/p5edwPaMIAcrRKQ452bFi/Lvcowp7schW61T1VuBOgwuhG03uL+civjvlPUMQb8Pji\n",
       "hxj7C4cI/gsPXAwjmkSPilocxcaYvwMfZuY2zFs3gM9VZJ1B8BtDvtlkmZqLEtPtsPJmYkNg3S3L\n",
       "N9uT5D4rDCT06so2xy5yZGQwd7vtvCDMSM3ZAALfJ1fl6fX7kZE8DqWq0nuVYLacUuAEqDC6RxhZ\n",
       "W8HxNy4PXcr0TxNbHMe74kJmUD2kzypsESxJ7wyZksdWB7rTDhgpU6LEpJsR90RCDpx8KcaqSL5I\n",
       "qVDypxRcPl2wkc1W6YSiWxP03mIZ/IVlC9pdL3aE6e73Q0SP5Y/8ZYm0sBk3Gqa00FYvpRPSypFO\n",
       "U6KHY0zqhPFJyxrHn83p4Ergh7U+Iwf4TM9NdEo87c0kVdwVGafgPzNv/NmcDm4+/9791/6377kJ\n",
       "rtN/R/3nw/8AdKjM2N95P18AAAAASUVORK5CYII=\n",
       "\" style=\"display:inline;vertical-align:middle;\" /></a><br>(see <a class=\"ProveItLink\" href=\"../../../__pv_it/theorems/43bd53ccd8cc1d554e6db93e300a6e2cc46a1cc40/dependencies.ipynb\">dependencies</a>)<br>"
      ],
      "text/plain": [
       "<IPython.core.display.HTML object>"
      ]
     },
     "metadata": {},
     "output_type": "display_data"
    }
   ],
   "source": [
    "%proving mult_neg_any"
   ]
  },
  {
   "cell_type": "code",
   "execution_count": null,
   "metadata": {},
   "outputs": [],
   "source": []
  }
 ],
 "metadata": {
  "kernelspec": {
   "display_name": "Python 3",
   "language": "python",
   "name": "python3"
  }
 },
 "nbformat": 4,
 "nbformat_minor": 0
}