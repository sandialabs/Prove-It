{
 "cells": [
  {
   "cell_type": "markdown",
   "metadata": {},
   "source": [
    "Proof of <a class=\"ProveItLink\" href=\"../../../../../_theory_nbs_/theory.ipynb\">proveit</a>.<a class=\"ProveItLink\" href=\"../../../../_theory_nbs_/theory.ipynb\">numbers</a>.<a class=\"ProveItLink\" href=\"../../theory.ipynb\">multiplication</a>.<a class=\"ProveItLink\" href=\"../../theorems.ipynb#mult_rational_nonneg_from_double_nonpos\">mult_rational_nonneg_from_double_nonpos</a> theorem\n",
    "========"
   ]
  },
  {
   "cell_type": "code",
   "execution_count": 1,
   "metadata": {},
   "outputs": [],
   "source": [
    "import proveit\n",
    "theory = proveit.Theory() # the theorem's theory"
   ]
  },
  {
   "cell_type": "code",
   "execution_count": 2,
   "metadata": {},
   "outputs": [
    {
     "data": {
      "text/html": [
       "With these <a href=\"allowed_presumptions.txt\">allowed</a>/<a href=\"disallowed_presumptions.txt\">disallowed</a> theorem/theory presumptions (e.g., to avoid circular dependencies), we begin our proof of<br><strong id=\"mult_rational_nonneg_from_double_nonpos\">mult_rational_nonneg_from_double_nonpos:</strong> <a class=\"ProveItLink\" href=\"../../../__pv_it/theorems/a82c80c0e7e87beb9b15421ba326f63f2aeca3540/expr.ipynb\"><img src=\"data:image/png;base64,iVBORw0KGgoAAAANSUhEUgAAANkAAAAaBAMAAADI7ORfAAAAMFBMVEX///8AAAAAAAAAAAAAAAAA\n",
       "AAAAAAAAAAAAAAAAAAAAAAAAAAAAAAAAAAAAAAAAAAAv3aB7AAAAD3RSTlMAq1RmmUTNIjK7EInv\n",
       "3XZ/CtNrAAAACXBIWXMAAA7EAAAOxAGVKw4bAAADxElEQVRIx7VWW2gTQRS9Nkl3s5ukFf1QlJJS\n",
       "oYJW4wNfiKQ0alWsEf2wIhqpIPqhqxRBfK0oKFisaLVGsKY/Sm2hagURQfojtopSwbcENhXxQxER\n",
       "tFJBPDP7YHeTSlJ0YCabuzt77j33njtL9F+HeJ7/yPdvjGa3J17ghs6zbF1C9eQtHG1KwTtC57D0\n",
       "UYkinCl0q5TAImTbhb/R0UbCMAXCCLDA4Y9gGcy2+7RsCpPJ5QbcQ3GYghEKpohKmaEiT7SDmEWu\n",
       "hHc8wfI+i8DJqvCMPyndjQMtoFEIUEuZZXueaKswr7qN2zCLUy5jTw/R+npGcrXKmCwJkzRMdJRZ\n",
       "8k3gd8wat/EbYyvqqvwbyLDfo5EwVjWqhKhB90oO56keeEe97pwxIz0yCLycfskTfB20yWpCGq+w\n",
       "v19oLdYV8AqJL863mgeQtoTLKA+wtUFH3mUw2iGiborCtVLKUPdKrJ8xn6TTj/NEGwMkL0v9nvuH\n",
       "LWNxWQbU3OTX+8z0nfIhCF9ktmP7FtytJbr0FwR7+v3IbzF7zUO6Ytm7d0pDRPPIUW2bPfBA1Jy1\n",
       "3owU7iGhdGSwWaow+NEKAw8G8ZquCK22npiZoqdE0/m1xfKBIh7bBzGJ0WoYj6Dt+VOy1fzEHZY4\n",
       "W8Yiv9JtFWVkpTWIygvg4TVE73hY7O3LiH7Bb74dWUm/4SzoeVvp8LwbW4s0W5FMYnsyybhwj+TZ\n",
       "JKwCYhcFUrbYGFo/Sd9NdOD6oIFNXMiWkvzX9Jp0oB1hYkjYGlgfZgxGeS9Jc5RDLOhDFFSdTEq/\n",
       "yfPVJjcvNFDFrwcsWeh6cyqrmanh1k7G3JI7LKzfmVSI9cKTlUSaRrPiPDbFrEn47tdI+obqrDTf\n",
       "8ZOlkRaSritz1KCXrK2nrJqkg/BYeiUOMUG9DUU72I1FEY5G5RGI0WI6BGXLeLqNqqJW8xhHLUZP\n",
       "Q/BWMDLrk64Gs5h7DKK8UbGX93hPYh2zMSSNKet4XBicb28bIthq/3SizGSX2m8zMl7oJ9LEjaa5\n",
       "8cfuWld9V5sXgTjr0BRQvaXzULPhDTqT7vEA83UuoQhGxnx39c6FMcHj3t9gFafiXwRWS3DqneJE\n",
       "8CppjMVicfcZMDcXmjeS3Xi0zFTHZmnYik1pXpfqxIG3EPrjKiA5x6HXxNhWcqDtz2Erv9Dv8MFj\n",
       "NRFfzYweagqLdTgjLnJ1P9+q5miUYbuobKM1jy4bdLkZNs94MHDn2EjfJYdzHA5KHmiu7xKfvQN7\n",
       "K+pyfM1NG/2npfvI9jj+nV7wL74nbe4jlj8HmuYwFpfKdQAAAABJRU5ErkJggg==\n",
       "\" style=\"display:inline;vertical-align:middle;\" /></a><br>(see <a class=\"ProveItLink\" href=\"../../../__pv_it/theorems/1436f5d0160a431ef7b234f9fb932de91ee97b020/dependencies.ipynb\">dependencies</a>)<br>"
      ],
      "text/plain": [
       "<IPython.core.display.HTML object>"
      ]
     },
     "metadata": {},
     "output_type": "display_data"
    },
    {
     "name": "stdout",
     "output_type": "stream",
     "text": [
      "mult_rational_nonneg_from_double_nonpos may now be readily provable (assuming required theorems are usable).  Simply execute \"%qed\".\n"
     ]
    }
   ],
   "source": [
    "%proving mult_rational_nonneg_from_double_nonpos"
   ]
  },
  {
   "cell_type": "code",
   "execution_count": null,
   "metadata": {},
   "outputs": [],
   "source": []
  }
 ],
 "metadata": {
  "kernelspec": {
   "display_name": "Python 3",
   "language": "python",
   "name": "python3"
  }
 },
 "nbformat": 4,
 "nbformat_minor": 0
}