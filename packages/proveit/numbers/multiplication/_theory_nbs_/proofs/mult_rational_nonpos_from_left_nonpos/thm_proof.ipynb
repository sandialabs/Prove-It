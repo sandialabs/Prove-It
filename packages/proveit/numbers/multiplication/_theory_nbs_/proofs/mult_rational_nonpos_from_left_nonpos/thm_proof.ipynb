{
 "cells": [
  {
   "cell_type": "markdown",
   "metadata": {},
   "source": [
    "Proof of <a class=\"ProveItLink\" href=\"../../../../../_theory_nbs_/theory.ipynb\">proveit</a>.<a class=\"ProveItLink\" href=\"../../../../_theory_nbs_/theory.ipynb\">numbers</a>.<a class=\"ProveItLink\" href=\"../../theory.ipynb\">multiplication</a>.<a class=\"ProveItLink\" href=\"../../theorems.ipynb#mult_rational_nonpos_from_left_nonpos\">mult_rational_nonpos_from_left_nonpos</a> theorem\n",
    "========"
   ]
  },
  {
   "cell_type": "code",
   "execution_count": 1,
   "metadata": {},
   "outputs": [],
   "source": [
    "import proveit\n",
    "theory = proveit.Theory() # the theorem's theory"
   ]
  },
  {
   "cell_type": "code",
   "execution_count": 2,
   "metadata": {},
   "outputs": [
    {
     "data": {
      "text/html": [
       "With these <a href=\"allowed_presumptions.txt\">allowed</a>/<a href=\"disallowed_presumptions.txt\">disallowed</a> theorem/theory presumptions (e.g., to avoid circular dependencies), we begin our proof of<br><strong id=\"mult_rational_nonpos_from_left_nonpos\">mult_rational_nonpos_from_left_nonpos:</strong> <a class=\"ProveItLink\" href=\"../../../__pv_it/theorems/5783df8b86b145c5e71544c2b1c6b94893cde0380/expr.ipynb\"><img src=\"data:image/png;base64,iVBORw0KGgoAAAANSUhEUgAAAQMAAAAaBAMAAABBUSQfAAAAMFBMVEX///8AAAAAAAAAAAAAAAAA\n",
       "AAAAAAAAAAAAAAAAAAAAAAAAAAAAAAAAAAAAAAAAAAAv3aB7AAAAD3RSTlMAq1RmmUTNIjK7EInv\n",
       "3XZ/CtNrAAAACXBIWXMAAA7EAAAOxAGVKw4bAAAEZElEQVRIx8VXb2hVZRj/uXPvzrnn3Hud+iGV\n",
       "kCsLLFK7mqySkK3NPzmqK/bBSagxIdqHOoZEos5jSQXGJv5p3SA7IhRTweUGQ0MZA1ETY0GmFoOz\n",
       "qfShGiKYsSB6nvfc83r+DWb3Qi+cd+953vu+7/P8nt/ze8+A/6dVdcE411Ox7ZTCw3twGFiGFiQq\n",
       "5MJjD+/0AeouYqqp7quIB/om6tSoXZ1wRXY/T48jnSMoKtFSeepGo/akEzEdLxZXAtogj7VxZPLI\n",
       "2EANv9aW48IOzm2IWd1XqLsZif5RS/2BfvnEGdeFtIMsnb+c594ox4Vmer4KGzfTU22HjL29wKst\n",
       "NGg5IxIxNQd9HNjNaSmLFPfoaQwb7zLp6oM2rYdYk1I4P7tXunQEWl1XjVwZHhCgwECYB2zEdyX8\n",
       "vxj+SZDmGKFuWMxebJmNMayhwYvkKpGpuhwQskNEhU0hozHEfavrzlulhHRrBEBVbpV4MUmaVtPf\n",
       "3+m5Mjx8uRwXptDxCWbjlnPt0lg9Z4SQ/UaM3/UosTdJ4SbziwPLN9IsOfV57N72JGuSiFTNe1/A\n",
       "l3LJyTb9PlCHANc3KOSW5gTLr9Mi56HWxG29yFJHf40RomY+p32hKQOm1Rna+0QeL8lfPWXje2C+\n",
       "GMskba8SKNzWitS6SsZdpO4p2who/PGD02h7vc8ipgqSfOjVi3664REqnz6abnuwcYZ4n6YdXgF+\n",
       "EQDwzArgb4pQ0JUyPXxD4OVyYXUgpJO0tMqRbNRGigX1WxiLoTbTOSeQ5oincKI7Zh3C9h70Urj6\n",
       "rYI+4LHdRYFduAT9nucSOZOksnxNOC4rPvX1g4qQbZfFQEmdbqJX4x3oT5s7GZidyPB8mroE07g/\n",
       "h6PPsIxcVYdwPZQI/R8od3yykKCyXCDGQ7JSXV0IKkAnZ/RUG8O/rB9ZFvuP5wGOg0UFgQLPd47N\n",
       "FlqrvW8im6W/zTahcEFWBEWZcqDfpdqY5xn/YmrgOTEek8c1kjquaUGkIrCDwtCvaffRzaaleeEC\n",
       "5uZJLkSK/rBvCTCVo2AXkjMExSScWZIlg7Y4jAX1Ug5n4GBJugkmGbbBd0RIMp8XYTDQ9doA1vIb\n",
       "H+9w9vcU1FGGHQdQxwUtEMga+nS2tdeafiHUCOwjv300x/KMR/p4xVWXxbPWe+atf769KlRhDd4g\n",
       "XaArq45qJbfOTYSvXUSD8maxuD9ZSkS4nafnelxZqyUWJE+7Ak1tphK+wVtlaZippfZeAZag49am\n",
       "piavVO9gUBN3saCjSjPLIzflkjgXEvmolDojjwckQB+XKJida+2ULQoThk+/9B78rOxz9bOjBqei\n",
       "u+ITrjczxoVtMba5n14KbKFIWUw2LuyF+pmQph9ft3z34CD2EKW3sUk/u2Jm3CWR8xe/r3VNQt4z\n",
       "ZuS7ilDq/yDwrVsSxuIhStJ7+Ym+HdtjrlBzEi7Efzsmal/2pWu9f+qFJbdjFjz536/ZiT6WOp71\n",
       "vQTi1m5alfk/QoZL9PsXj/oSDs8Z+v8AAAAASUVORK5CYII=\n",
       "\" style=\"display:inline;vertical-align:middle;\" /></a><br>(see <a class=\"ProveItLink\" href=\"../../../__pv_it/theorems/64d3297adaf70679b5c2cf5e816f47e152a628940/dependencies.ipynb\">dependencies</a>)<br>"
      ],
      "text/plain": [
       "<IPython.core.display.HTML object>"
      ]
     },
     "metadata": {},
     "output_type": "display_data"
    },
    {
     "name": "stdout",
     "output_type": "stream",
     "text": [
      "mult_rational_nonpos_from_left_nonpos may now be readily provable (assuming required theorems are usable).  Simply execute \"%qed\".\n"
     ]
    }
   ],
   "source": [
    "%proving mult_rational_nonpos_from_left_nonpos"
   ]
  },
  {
   "cell_type": "code",
   "execution_count": null,
   "metadata": {},
   "outputs": [],
   "source": []
  }
 ],
 "metadata": {
  "kernelspec": {
   "display_name": "Python 3",
   "language": "python",
   "name": "python3"
  }
 },
 "nbformat": 4,
 "nbformat_minor": 0
}