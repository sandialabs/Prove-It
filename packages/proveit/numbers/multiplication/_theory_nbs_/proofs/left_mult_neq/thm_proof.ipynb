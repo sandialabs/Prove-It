{
 "cells": [
  {
   "cell_type": "markdown",
   "metadata": {},
   "source": [
    "Proof of <a class=\"ProveItLink\" href=\"../../../../../_theory_nbs_/theory.ipynb\">proveit</a>.<a class=\"ProveItLink\" href=\"../../../../_theory_nbs_/theory.ipynb\">numbers</a>.<a class=\"ProveItLink\" href=\"../../theory.ipynb\">multiplication</a>.<a class=\"ProveItLink\" href=\"../../theorems.ipynb#left_mult_neq\">left_mult_neq</a> theorem\n",
    "========"
   ]
  },
  {
   "cell_type": "code",
   "execution_count": 1,
   "metadata": {},
   "outputs": [],
   "source": [
    "import proveit\n",
    "theory = proveit.Theory() # the theorem's theory"
   ]
  },
  {
   "cell_type": "code",
   "execution_count": 2,
   "metadata": {},
   "outputs": [
    {
     "data": {
      "text/html": [
       "With these <a href=\"allowed_presumptions.txt\">allowed</a>/<a href=\"disallowed_presumptions.txt\">disallowed</a> theorem/theory presumptions (e.g., to avoid circular dependencies), we begin our proof of<br><strong id=\"left_mult_neq\">left_mult_neq:</strong> <a class=\"ProveItLink\" href=\"../../../__pv_it/theorems/1a61f5650e914b2ee4f6466b60b77db7b52c1c970/expr.ipynb\"><img src=\"data:image/png;base64,iVBORw0KGgoAAAANSUhEUgAAATsAAAAXCAMAAABDGxgMAAAARVBMVEX///8AAAAAAAAAAAAAAAAA\n",
       "AAAAAAAAAAAAAAAAAAAAAAAAAAAAAAAAAAAAAAAAAAAAAAAAAAAAAAAAAAAAAAAAAAAAAAAeYafp\n",
       "AAAAFnRSTlMAq1RmmUTNIjK7EInv3Xbt5cnn9enzas/lfgAAAAlwSFlzAAAOxAAADsQBlSsOGwAA\n",
       "A+pJREFUWMPlmNnSnSAMgGUTCJDuvv+jlkXUICp2enE6ZdqT0T98SEhCYJr+paYbOdzhb+vp6V9r\n",
       "yKl8bgr77yV0wcO8Itn2nosPNx13VA6ZuzspY7vgF7wspaqv5w93RJipHGszdF5a0wO/4iVpquNp\n",
       "++FuJwWVY03IjtuxLvgVL8tqSMc/3Ha+kaPdzo5ndRf8jpekWK0+f7jp+EzlcJCdvEqxLvglL0sf\n",
       "UvPu00PWUTlp5lD39lFAZGDcGkiOnWavu+BLIGCOamCEl6XMidPC35nhbbYf2RGG1jt5j48msAt0\n",
       "vwEZTjKUxLS5lcxOEr7/SL/sBL4EuomnsBYL4WWpWf35k5LLSnZcrLsNx6lnXtFxDk9hEDiR4HOV\n",
       "EDrZXKd5wsSKTbi/d7tHoOHlLbOEV2RyuZF5HXDIrI09wLL4Idy6EduNLE/REXEtVEvyikiZvSDU\n",
       "kWHZ3CuFkdxzmFmabCf74Aa4E6N1fHIOj4RXJMeXO4WUa33kIPPEkO3YQP1YdHzCL/rWdt7m+W1L\n",
       "HohJ/B4Jyt+73RXwQFQpkM1iCG+Vc17pbGMn0G1wRKnjv3oMYesxZKvVQRjVHO+OtiPdJ+UaTGfA\n",
       "oqNzzvH8LmZhwT0FnY9OyfBQMhcPJN/9/FWyHmvAd8DsxVhjNRDp+FrkQdDRvnUqqFOMz2s6wClO\n",
       "yfgUqNvurnm7iAfbbd2lTe1L/C8OGDrgUcdk24WmtrB4lLCkz2LzdPoCiMmE+ZziS/qzD+eMJ2DU\n",
       "YPXnwFul9qwG47TPaxKZu4anhmRojB3UNikBAq5tR7pXZ90xnQFXnWI731QLpDYoM+YxrE4bO18M\n",
       "yIhUvClByl/PhcATMCJYcmXRr5WY2UMfjyn9mHRYVI5bf9ycs49YPhmjzLXtSPfdWSvmPGDVKTG7\n",
       "NDFrApHA0BnN0JyKHIkYTSRq96AejrdPwPQnh7LOpfIoN/ptqnAEbPzkEtv0k3LK4mZfyHWvOBRl\n",
       "xHZr9xSPX7/ZHI87hg5IdLp7xRQMlYM3buHxxmQI6GbK020x41P2UTEQwaVIzh3klJ/yEGqhZbR2\n",
       "eStwvfpu705P3xWToduARAfxdHBqT+GvbxBublWegGkaULeuyxsJFV0dnUgeE1UlKocI61OKAzuX\n",
       "Gxezb5MxgKXpxuzWnZ5aKiZDtwGpTqyN5fUR3r64LKO3Q6J/8HwABiyZ5si7vXXi7RPk8FotloKr\n",
       "W033kXx3zAOGX+lcHddsmzufGzVLgFvwlSkEbrecI+unoH2K+V09V9D9rzj02zF0iJHqvJ79NI6a\n",
       "DukUzQN4mId3nipOT0rgwFVL13b84KI7Rlzq/KdN/0dz/Q03CCRJ4bXCWAAAAABJRU5ErkJggg==\n",
       "\" style=\"display:inline;vertical-align:middle;\" /></a><br>(see <a class=\"ProveItLink\" href=\"../../../__pv_it/theorems/2ec42432bf80a9038b587ab192d65d16308c8ade0/dependencies.ipynb\">dependencies</a>)<br>"
      ],
      "text/plain": [
       "<IPython.core.display.HTML object>"
      ]
     },
     "metadata": {},
     "output_type": "display_data"
    }
   ],
   "source": [
    "%proving left_mult_neq"
   ]
  },
  {
   "cell_type": "code",
   "execution_count": null,
   "metadata": {},
   "outputs": [],
   "source": []
  }
 ],
 "metadata": {
  "kernelspec": {
   "display_name": "Python 3",
   "language": "python",
   "name": "python3"
  }
 },
 "nbformat": 4,
 "nbformat_minor": 0
}