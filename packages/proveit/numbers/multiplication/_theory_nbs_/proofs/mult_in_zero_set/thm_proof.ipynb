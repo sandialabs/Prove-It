{
 "cells": [
  {
   "cell_type": "markdown",
   "metadata": {},
   "source": [
    "Proof of <a class=\"ProveItLink\" href=\"../../../../../_theory_nbs_/theory.ipynb\">proveit</a>.<a class=\"ProveItLink\" href=\"../../../../_theory_nbs_/theory.ipynb\">numbers</a>.<a class=\"ProveItLink\" href=\"../../theory.ipynb\">multiplication</a>.<a class=\"ProveItLink\" href=\"../../theorems.ipynb#mult_in_zero_set\">mult_in_zero_set</a> theorem\n",
    "========"
   ]
  },
  {
   "cell_type": "code",
   "execution_count": 1,
   "metadata": {},
   "outputs": [],
   "source": [
    "import proveit\n",
    "theory = proveit.Theory() # the theorem's theory"
   ]
  },
  {
   "cell_type": "code",
   "execution_count": 2,
   "metadata": {},
   "outputs": [
    {
     "data": {
      "text/html": [
       "With these <a href=\"allowed_presumptions.txt\">allowed</a>/<a href=\"disallowed_presumptions.txt\">disallowed</a> theorem/theory presumptions (e.g., to avoid circular dependencies), we begin our proof of<br><strong id=\"mult_in_zero_set\">mult_in_zero_set:</strong> <a class=\"ProveItLink\" href=\"../../../__pv_it/theorems/4a226692c421be8a6ccfaeb966a93133550504900/expr.ipynb\"><img src=\"data:image/png;base64,iVBORw0KGgoAAAANSUhEUgAAAoAAAAAZBAMAAABTFYKyAAAAMFBMVEX///8AAAAAAAAAAAAAAAAA\n",
       "AAAAAAAAAAAAAAAAAAAAAAAAAAAAAAAAAAAAAAAAAAAv3aB7AAAAD3RSTlMAq1RmmUTNIjK7EInv\n",
       "3XZ/CtNrAAAACXBIWXMAAA7EAAAOxAGVKw4bAAAGuElEQVRYw+1Zb2wURRR/vT/dvd27a/UDQkzI\n",
       "EVFqkHpyYJAYPANY/sRYgn6g5UMjIUY+6NUQTJXAQWKUBNpTQrQk6iJ+QcA72viHIg2BmKpE02AB\n",
       "/+SSIxC0KZKmBjA1gjPzZnZnb/f2Sg7DaXzJzG3n9+Z19rfvzXuzC+AlNfmz8L+Ulmj+lLdC7b/x\n",
       "rlK8VSiKc0h7hkMzTDzx3yMwGsNWqQQLjqGLLfxiy26BJ6Ce/txTmkBPvBplJm8Vy/niAd846fT+\n",
       "JtK/KfAELKY/z5Um0BOvQtHasFUutUbRgD5IumfhINkfjgo8AVtoOGdKE+iJV6EE4tgqF3/ShUD/\n",
       "IOgZJJDhCcajHitNoCdehRLm7RbIN3xTfTd/xiQwVM8i+ajAE+CPe+QKAnjiVSj38XYLZA0mkxcM\n",
       "yQPrkqCOcQLXYBb+Np8/6ZWFvfAqlOW8KXf/UpRG2/s3TaB4kaYdYv0GQw7hLCHwd07gISRwCcBu\n",
       "LwK98CqUNbytToXG7WXJALxvlJ0uT3sY7Ak0QHLT5hyo1wEuCZwQ2A5KvReBXnj5LZ0XAG6FreUg\n",
       "rnDU3aKrrqR8Cpt2AgKDNpUDcXiyfA6Xpz3Aeiujb4wjgX+SnxjHCYEhQ2+WfXjoE3i0XiKwCJ+Y\n",
       "DD+OkRDCP+cW43p/TpDrBsOREYCkq2Wnrl35S2yBUYjkQEMnylISngL4GbQjd1Av1K46rTAlnMal\n",
       "i3Yq2cLyP7ItYC3VykGQeKA2KYY4IdBXsHJE55RdME03AoZEoIxPRKiNfXfB/TmLQM3hwgtgFQSR\n",
       "wxoX2F8IZqCVw5Izu+kKZTuB4Qxkm6HzNzYWofR+DdoVYgQdbMi5bqaE00Q4s7WbJZy61GBJxEeS\n",
       "iL6W4/Qo17bAXOMSeuooJHXbUc7CJxS01EZfAfwSgQGHC38FdSlYBz4SFK0ucDgN10gBhbCI3RK6\n",
       "QtkewtkCPEauZlnBeR38o1DXrPzhtXo+DQUnWxsBKWEglAE/2SQfNDhOCexZR57iws4L/HDScO8m\n",
       "O4EUh/0LPhMr6R1xbkPWILWhzWvm53kkMFI8SxmHcAx6ADI0Qzlg2GzAcVp9ZuQEJnSltdiUUd7D\n",
       "lo3BJLJdSgSOQU3bDL9RhkA2bc68y9QdH2FDl+2F9DGWS74AjlMCNxJi966Oh1PorQ36B602Aimu\n",
       "nVWv8bGDqS4ngeYgs+F7SWgggRsshUA3kZ3qOETiMJ0eskkgSzAspXi8y4DvwZdEWIjQtdZiV7Zq\n",
       "D9JCBd9QQPZAwuqsZJKfx3CpV0WXNRMFm6bNPQEDvBoiHMRsR7lTcCDNy5jlnMAaMvDKRagzguwE\n",
       "1ADJYRuBFA8k1WOgMG9YBNsh2LjYTiAdxGKB2vDvNWwEruIKHWKYEBgu0OEQyVEClowSTr4DsrMx\n",
       "2Lw5rsvWIolQRtmBTZv6efuvNgL3jLw+ldzJDsvgkOgiZgpi05SP24DWMqdxaEqLTOCH/ZOBE3ha\n",
       "fp01lWyJ/ue7u98iBO6vdbzOCjdH62HrT7hLnyNnpaydQDqIOzq1ob6WthE4DRXUWYYVwnUx2EbP\n",
       "Oa0mLBklUTkGagZhM1lwXbYWewgzZZ4L0tjkbUwuMiZS09YUguQRKdxXg4eloxwXSiDDE9auvkhV\n",
       "c+iBwUYHgdlUaL4BlEDtGuz8SBEOJx4cHfQvnk2KJGaDJBEwLAK3oQJEDB7CmESm0wy124SZUYxK\n",
       "lhdoVLbJ94u6uJY5K2c6lM1XANZrAAeB6+HlCZyn04Fk2vlKoohAhgsClVH4oQE3bFJonXN6YKpr\n",
       "JSVQy8GAemU+wC56ud/s6KBvmGYsZuPVJtALtiTCZkXM8LkMK3B7fihnwcSoqIsLwXrSIcz/i6nL\n",
       "1tKYiTiUUd7mzZVA5Z03lpUncDNEtqahw1GtWzvHE6R1yG+kyRJG4tBBXF89k7JqL5PA4MLGXiAE\n",
       "qsfh6dlEM5Cml9tT6gDt+OBkhWzG1AZon3YvkUI4lEIFi0C9fxneJi0/BBxIW7XxBYMOM5j/F1OX\n",
       "raUmvcGhjLKPN/YgX+wv8q0bN0bLE7gCor3SUzDZH5MOLBy3v9LXDnfv8nqlT0LYh1d9UfMSzKvB\n",
       "6FyjyAYSKFJpxHYWNUtUAffZT2/7XF+0C1NwvsVdWSlgq/jTgLPWWH8n/xeHYgK/qW8inSdjgKuu\n",
       "vfEXgHUDLfy84estNsCPck2Yey/12Epuc4VNllFJmlyXxEf3wMx4eeV/Xm76o1Lc7bL0C2BOoG54\n",
       "nmpdYb/7CdxVt5Ty7Sew0u/C4tug210brpdWhJcw6Uqgdnvoi+ZP/A3wphFXJM5/SAAAAABJRU5E\n",
       "rkJggg==\n",
       "\" style=\"display:inline;vertical-align:middle;\" /></a><br>(see <a class=\"ProveItLink\" href=\"../../../__pv_it/theorems/f33fe9a25ef701bbd2097f6421271372df779bfd0/dependencies.ipynb\">dependencies</a>)<br>"
      ],
      "text/plain": [
       "<IPython.core.display.HTML object>"
      ]
     },
     "metadata": {},
     "output_type": "display_data"
    }
   ],
   "source": [
    "%proving mult_in_zero_set"
   ]
  },
  {
   "cell_type": "code",
   "execution_count": null,
   "metadata": {},
   "outputs": [],
   "source": []
  }
 ],
 "metadata": {
  "kernelspec": {
   "display_name": "Python 3",
   "language": "python",
   "name": "python3"
  }
 },
 "nbformat": 4,
 "nbformat_minor": 0
}