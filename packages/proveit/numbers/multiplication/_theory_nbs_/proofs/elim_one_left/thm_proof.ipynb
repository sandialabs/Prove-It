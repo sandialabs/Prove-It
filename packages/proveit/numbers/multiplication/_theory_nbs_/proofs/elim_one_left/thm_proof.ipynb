{
 "cells": [
  {
   "cell_type": "markdown",
   "metadata": {},
   "source": [
    "Proof of <a class=\"ProveItLink\" href=\"../../../../../_theory_nbs_/theory.ipynb\">proveit</a>.<a class=\"ProveItLink\" href=\"../../../../_theory_nbs_/theory.ipynb\">numbers</a>.<a class=\"ProveItLink\" href=\"../../theory.ipynb\">multiplication</a>.<a class=\"ProveItLink\" href=\"../../theorems.ipynb#elim_one_left\">elim_one_left</a> theorem\n",
    "========"
   ]
  },
  {
   "cell_type": "code",
   "execution_count": 1,
   "metadata": {},
   "outputs": [],
   "source": [
    "import proveit\n",
    "theory = proveit.Theory() # the theorem's theory"
   ]
  },
  {
   "cell_type": "code",
   "execution_count": 2,
   "metadata": {},
   "outputs": [
    {
     "data": {
      "text/html": [
       "With these <a href=\"allowed_presumptions.txt\">allowed</a>/<a href=\"disallowed_presumptions.txt\">disallowed</a> theorem/theory presumptions (e.g., to avoid circular dependencies), we begin our proof of<br><strong id=\"elim_one_left\">elim_one_left:</strong> <a class=\"ProveItLink\" href=\"../../../__pv_it/theorems/a1303cd3cbbc06c5e6e7c6763d03ac850a7c066e0/expr.ipynb\"><img src=\"data:image/png;base64,iVBORw0KGgoAAAANSUhEUgAAAKEAAAAVBAMAAADcJJPmAAAAMFBMVEX///8AAAAAAAAAAAAAAAAA\n",
       "AAAAAAAAAAAAAAAAAAAAAAAAAAAAAAAAAAAAAAAAAAAv3aB7AAAAD3RSTlMAq1RmmUTNIjK7EInv\n",
       "3XZ/CtNrAAAACXBIWXMAAA7EAAAOxAGVKw4bAAACSElEQVQ4y2NgwAsKoBgdsONRjxfwKUAwBmB9\n",
       "gF1DHBALgBjKOEzUhuLeBegyj3E4wYCBwRXESMcuz5UAxlwi+Rgmsi3AriWLgaERFCoTsEuzGEAw\n",
       "w3sM/cwO2LWYQCzjVsAuzQPFWExkOIVDywIGZqAb2HAEoxoUYzMxGbsWNqBxZ+/ePY3DRG8oRjFx\n",
       "3cMVu4F+2oge5u+kujcBvQuMaQ8Ghlk4TEyGuQXZRAc+OZYLDAxmILbvXRC4CA5zhocPfIHhC4zM\n",
       "QgZ2AZQEMEWuDsq8BMXIJjIXMP9iBHpNB812cwb7BcIMDEwHGBg4F3AHQEU5Hs4M4JpYwDQbyj8K\n",
       "xVAT1yeA1DCwgCiGfjQTGxjcwEZ8AJr6AB4xLg3AgFjHwGCN3UReSIrhAeeXGIwwOgfOTEA3MiTY\n",
       "AYl37k8KQAmeYXErItdi8zUDQ3wBF5CrixaODKzfGVYB3QcMYoZNwHTOVyDJprASJKGujtA7D4qR\n",
       "TVwZIMPADaQt0aJ6KuMBhg3AYAZllhpgxDAzzONgCAZJWVkhlG2EYob9iDJFv8uHIQiWqhCA6ceS\n",
       "A6zARMUCNJWBsQEk9B2YIGbOnKnQEYFQ1gvFgucTDWBiS94xOYOy2FU0N/o9UDEChTUslhk4DrAz\n",
       "dIMYoJjhggryNkAwtgLyAvYkXAtj1HAnsADTEUjplgKGfUjFAY4igcUAu4nOcAVP971iYJ8BYq7O\n",
       "nAJ31nQoxgSV2A1EL8VWz5wZgCKwEooxAXZ7GDgJVQvsDyAYs6zGofM5AwMAS4qRO4MKIAgAAAAA\n",
       "SUVORK5CYII=\n",
       "\" style=\"display:inline;vertical-align:middle;\" /></a><br>(see <a class=\"ProveItLink\" href=\"../../../__pv_it/theorems/6474055fc8f411ed3ab15f4c2c542b2c246522440/dependencies.ipynb\">dependencies</a>)<br>"
      ],
      "text/plain": [
       "<IPython.core.display.HTML object>"
      ]
     },
     "metadata": {},
     "output_type": "display_data"
    },
    {
     "name": "stdout",
     "output_type": "stream",
     "text": [
      "elim_one_left may now be readily provable (assuming required theorems are usable).  Simply execute \"%qed\".\n"
     ]
    }
   ],
   "source": [
    "%proving elim_one_left"
   ]
  },
  {
   "cell_type": "code",
   "execution_count": null,
   "metadata": {},
   "outputs": [],
   "source": []
  }
 ],
 "metadata": {
  "kernelspec": {
   "display_name": "Python 3",
   "language": "python",
   "name": "python3"
  }
 },
 "nbformat": 4,
 "nbformat_minor": 0
}