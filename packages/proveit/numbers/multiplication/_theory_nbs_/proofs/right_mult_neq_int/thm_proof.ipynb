{
 "cells": [
  {
   "cell_type": "markdown",
   "metadata": {},
   "source": [
    "Proof of <a class=\"ProveItLink\" href=\"../../../../../_theory_nbs_/theory.ipynb\">proveit</a>.<a class=\"ProveItLink\" href=\"../../../../_theory_nbs_/theory.ipynb\">numbers</a>.<a class=\"ProveItLink\" href=\"../../theory.ipynb\">multiplication</a>.<a class=\"ProveItLink\" href=\"../../theorems.ipynb#right_mult_neq_int\">right_mult_neq_int</a> theorem\n",
    "========"
   ]
  },
  {
   "cell_type": "code",
   "execution_count": 1,
   "metadata": {},
   "outputs": [],
   "source": [
    "import proveit\n",
    "theory = proveit.Theory() # the theorem's theory"
   ]
  },
  {
   "cell_type": "code",
   "execution_count": 2,
   "metadata": {},
   "outputs": [
    {
     "data": {
      "text/html": [
       "With these <a href=\"allowed_presumptions.txt\">allowed</a>/<a href=\"disallowed_presumptions.txt\">disallowed</a> theorem/theory presumptions (e.g., to avoid circular dependencies), we begin our proof of<br><strong id=\"right_mult_neq_int\">right_mult_neq_int:</strong> <a class=\"ProveItLink\" href=\"../../../__pv_it/theorems/43f92262328bd9530d16ede7674e0d4788c171eb0/expr.ipynb\"><img src=\"data:image/png;base64,iVBORw0KGgoAAAANSUhEUgAAATsAAAAXCAMAAABDGxgMAAAARVBMVEX///8AAAAAAAAAAAAAAAAA\n",
       "AAAAAAAAAAAAAAAAAAAAAAAAAAAAAAAAAAAAAAAAAAAAAAAAAAAAAAAAAAAAAAAAAAAAAAAeYafp\n",
       "AAAAFnRSTlMAq1RmmUTNIjK7EInv3Xbt5cnn9enzas/lfgAAAAlwSFlzAAAOxAAADsQBlSsOGwAA\n",
       "A+BJREFUWMPlmOmSpCAMgOWSO3v7/o+6hEMBUbFqfvTWUj2dsgc+TEhCYFn+oSY7OT3gyzq+foNP\n",
       "aUBb+dwEXPyDmyF5Gpgk2X+n7LNNR20rp8w91knpIfkFMEouys/rZzuiWVs511Yz+lWrEfkVEKUq\n",
       "jif1Z7sdZ62ca4yP3I4Mya+AURZDWvrZtnOdnB02cDwth+R3QJQsW339bNPRtZXTMXZ2KkGG5JfA\n",
       "KJ3H5uyHh6xtpQEgRtlhtEhiQeYd0ZKz9nJENhBj15BJYJQ8Jk5tvkbF23Q/syXMLHeaCAgs3A8K\n",
       "CReMo7dEYodX8egk/ucv/CY92S4Ug5dtk8AoJSlfrxtx2vLwqVLJTW8rnompj7XQh4GnjWQS1TQL\n",
       "OYekcbF+yEal7sHtMlHRNIToSWCS6HIzelUbFRCtwwgfXsMaMFO2m1me1IeF8BAdyYlGYqzwOlGZ\n",
       "rTzx6Dk+G1/1fiT60EjEoIPDqHQwCUySwsudgvNcHzFcL1kv/Y3tyET9mPo4xG/yznZLrWZyn2IT\n",
       "p6PmosTbg9vtRIFBqTY1CcxyjSsdjW0Z2B0OwGX4lGMIyceQpljnbYqrbdcMX4TtMIMJUx8ZM4uj\n",
       "dzEbdQ3jzCk/mg3qtEV9m+9+/0lZj5zI0Y3hXLBcALO0NBd5JgSh2hccJEb/SvM2tASVVECb2j5M\n",
       "UnVhu30419i+hT9WYdoJ6z4q2s63mUxDLU3IGMTFDH9WFV+YrAuNejD9dNDYyaR8TQGzlI6UYFwO\n",
       "vTAiAzebRho0NIQBolIqmKJ9++pNm+HFWQ/MYMLcJ9mujci2NFjopgwP48SgREFbUF/igbfvR8+F\n",
       "QCFzgr7MZoFFEnWEPtSWr5MOCZ1DVRA25+gjmsZlt6YJnHaVj+GHsxbMecLSJ8Xs1ppF+VoaDhDs\n",
       "wEbVnSFglSSQdPLi6XxbyCYUcXyTs8AObHCkZocp0CV2GHbGLK6OlRRU4TrZC9vl4RiP33/oGI8H\n",
       "pp2w6TPaKxavWjl54eafb0wqol1ngbIvLB1mH8FMSOEYyRHFl/gUpxBbW0bb6MfCj2L2GN6evgsm\n",
       "QvcJmz4Ap4NTdwh/fYNwd62SiPiyxtFZ4OkCQYQoAIuVB0I4CAtYvMUnDBG9phuXUqIQEtxZr2SY\n",
       "7/bh7amlYCJ0n7DtE2pjbq5O8PrFXVl3OcTGB89I9JDyyRzw9taJ9k8mhlcuLDC4htX0GEmPvF9h\n",
       "6FWfi9Oa7lPnc+vs7M01mTLgYhp4t4DC9E8hv4vnCnqsVzXuwLRTTFTn5TQuYdZ00GmoHsjTQLjz\n",
       "fXZ6EgwmrlqGtqPVeh4YdtnnP23yP9L1L58CJCHm/XcJAAAAAElFTkSuQmCC\n",
       "\" style=\"display:inline;vertical-align:middle;\" /></a><br>(see <a class=\"ProveItLink\" href=\"../../../__pv_it/theorems/f70315985c4b06e6a4a5347573a20e7b87a0b4b30/dependencies.ipynb\">dependencies</a>)<br>"
      ],
      "text/plain": [
       "<IPython.core.display.HTML object>"
      ]
     },
     "metadata": {},
     "output_type": "display_data"
    }
   ],
   "source": [
    "%proving right_mult_neq_int"
   ]
  },
  {
   "cell_type": "code",
   "execution_count": null,
   "metadata": {},
   "outputs": [],
   "source": []
  }
 ],
 "metadata": {
  "kernelspec": {
   "display_name": "Python 3",
   "language": "python",
   "name": "python3"
  }
 },
 "nbformat": 4,
 "nbformat_minor": 0
}