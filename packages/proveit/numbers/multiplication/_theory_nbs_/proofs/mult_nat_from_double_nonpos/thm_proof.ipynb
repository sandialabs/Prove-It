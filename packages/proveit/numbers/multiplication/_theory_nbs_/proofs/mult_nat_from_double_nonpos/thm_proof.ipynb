{
 "cells": [
  {
   "cell_type": "markdown",
   "metadata": {},
   "source": [
    "Proof of <a class=\"ProveItLink\" href=\"../../../../../_theory_nbs_/theory.ipynb\">proveit</a>.<a class=\"ProveItLink\" href=\"../../../../_theory_nbs_/theory.ipynb\">numbers</a>.<a class=\"ProveItLink\" href=\"../../theory.ipynb\">multiplication</a>.<a class=\"ProveItLink\" href=\"../../theorems.ipynb#mult_nat_from_double_nonpos\">mult_nat_from_double_nonpos</a> theorem\n",
    "========"
   ]
  },
  {
   "cell_type": "code",
   "execution_count": 1,
   "metadata": {},
   "outputs": [],
   "source": [
    "import proveit\n",
    "theory = proveit.Theory() # the theorem's theory"
   ]
  },
  {
   "cell_type": "code",
   "execution_count": 2,
   "metadata": {},
   "outputs": [
    {
     "data": {
      "text/html": [
       "With these <a href=\"allowed_presumptions.txt\">allowed</a>/<a href=\"disallowed_presumptions.txt\">disallowed</a> theorem/theory presumptions (e.g., to avoid circular dependencies), we begin our proof of<br><strong id=\"mult_nat_from_double_nonpos\">mult_nat_from_double_nonpos:</strong> <a class=\"ProveItLink\" href=\"../../../__pv_it/theorems/a70a7fdf463d3e9ad08c7e601b9484f9febb433b0/expr.ipynb\"><img src=\"data:image/png;base64,iVBORw0KGgoAAAANSUhEUgAAAL4AAAAXBAMAAABHSeiIAAAAMFBMVEX///8AAAAAAAAAAAAAAAAA\n",
       "AAAAAAAAAAAAAAAAAAAAAAAAAAAAAAAAAAAAAAAAAAAv3aB7AAAAD3RSTlMAq1RmmUTNIjK7EInv\n",
       "3XZ/CtNrAAAACXBIWXMAAA7EAAAOxAGVKw4bAAADFUlEQVRIx7VVTWgTQRh9ySbdbP5VlEJFAgVR\n",
       "1BJFCvVQA02lIGik4MVioz2Ivbi1Ighaojex2l6qRqusF6GGNqkKlYJQkKJVxCCWihDc4qH+gPSk\n",
       "0IP4zc7udnfTlPTQD14yMzv75u33vZkB1hKyjhWGVwoRa4twjMMZJx19/9dsNwIfpr0qEGUD9dXx\n",
       "79JhpRou0ppxx0QpdgzIA9+AVtY/UxW9P81hi5oE/XQ7Bl1zgTiC9FDBVZanwar4PXEOW0RYvvY7\n",
       "+XeS5BAgJNgSCMSq4g/qsEWnwkYV3vlRKmnf5+pVLzJ+vIVAgmqqS/92HbZ4qSWJf9Xxn4Z+uTZc\n",
       "YPxdwPtS6V11/Id1iHULqjl46vdGSoDmEtEsg0uWMMT4x4E24N4qNbW0u3R0yNKS+fyPkpchaFmp\n",
       "kZf5fYnRUWo0Aj0QoxXphVr0NRivfeTwv4KnaExwLyGowj2l8S/XV8Y+9zA1dpNXlUDKGPedNSbM\n",
       "PL9Pxsu1Me8Zlpzm8CwiVNCkM0+lESnAt8ie95coBnV+l7KVGgOkQLWUt44tMp9NheTAmIILE8Qy\n",
       "RSaw8QcHkdcUfSLQSp0xeDX9I1b9/ijLTwch3bzM/4aQzFBecK0X4iwrWhGf7fnJqzhotf9RBW4t\n",
       "XyErP25J1NhDeMrKnmueYNL/zSv6Zk9QeoTNmv7X+lsPOfIxbHEbNYlkqBwQtKyETVdJJDF8nRpN\n",
       "hMtUXv+c7y+b8SWc4F8pnM+w6m2izzPzP84hqe5PHlNpXCIhnoLWOW0eGmzDHtLt7CImT8LHUijF\n",
       "hXS7NmMswAveir56Q+tNDv+2Fz3fTX/WtbDMcIc8GuL72Hduhn4fE2aNrZ8KM5MGM55oYzabjaEw\n",
       "iSdOs4YyHOVxRf8/8aBkO/9Ew8d5WTpAa0cQjN1gfe+OOCbFZDLZat0MCY7yaFnlROT65YF2JYeQ\n",
       "0kT7gfoBD7zFsul3dJTdU5XO30tGw9vS8Az9Md8RFeJd6u/d8Ot2+a4esZnccp1UuiAdYvgxnctm\n",
       "UxXuU5XDGQuV7lP7ul4F6xrCOnD+B06AtNCX7BzxAAAAAElFTkSuQmCC\n",
       "\" style=\"display:inline;vertical-align:middle;\" /></a><br>(see <a class=\"ProveItLink\" href=\"../../../__pv_it/theorems/c4efca9303925e86b4dd8a2ff317de70f80b4cee0/dependencies.ipynb\">dependencies</a>)<br>"
      ],
      "text/plain": [
       "<IPython.core.display.HTML object>"
      ]
     },
     "metadata": {},
     "output_type": "display_data"
    },
    {
     "name": "stdout",
     "output_type": "stream",
     "text": [
      "mult_nat_from_double_nonpos may now be readily provable (assuming required theorems are usable).  Simply execute \"%qed\".\n"
     ]
    }
   ],
   "source": [
    "%proving mult_nat_from_double_nonpos"
   ]
  },
  {
   "cell_type": "code",
   "execution_count": null,
   "metadata": {},
   "outputs": [],
   "source": []
  }
 ],
 "metadata": {
  "kernelspec": {
   "display_name": "Python 3",
   "language": "python",
   "name": "python3"
  }
 },
 "nbformat": 4,
 "nbformat_minor": 0
}