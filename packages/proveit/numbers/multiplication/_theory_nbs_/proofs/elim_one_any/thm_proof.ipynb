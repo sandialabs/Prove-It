{
 "cells": [
  {
   "cell_type": "markdown",
   "metadata": {},
   "source": [
    "Proof of <a class=\"ProveItLink\" href=\"../../../../../_theory_nbs_/theory.ipynb\">proveit</a>.<a class=\"ProveItLink\" href=\"../../../../_theory_nbs_/theory.ipynb\">numbers</a>.<a class=\"ProveItLink\" href=\"../../theory.ipynb\">multiplication</a>.<a class=\"ProveItLink\" href=\"../../theorems.ipynb#elim_one_any\">elim_one_any</a> theorem\n",
    "========"
   ]
  },
  {
   "cell_type": "code",
   "execution_count": 1,
   "metadata": {},
   "outputs": [],
   "source": [
    "import proveit\n",
    "theory = proveit.Theory() # the theorem's theory"
   ]
  },
  {
   "cell_type": "code",
   "execution_count": 2,
   "metadata": {},
   "outputs": [
    {
     "data": {
      "text/html": [
       "With these <a href=\"allowed_presumptions.txt\">allowed</a>/<a href=\"disallowed_presumptions.txt\">disallowed</a> theorem/theory presumptions (e.g., to avoid circular dependencies), we begin our proof of<br><strong id=\"elim_one_any\">elim_one_any:</strong> <a class=\"ProveItLink\" href=\"../../../__pv_it/theorems/84d2d3b8ef25ec48277259f742623fca8e1ac5e60/expr.ipynb\"><img src=\"data:image/png;base64,iVBORw0KGgoAAAANSUhEUgAAA5AAAAAZBAMAAAC1NdyaAAAAMFBMVEX///8AAAAAAAAAAAAAAAAA\n",
       "AAAAAAAAAAAAAAAAAAAAAAAAAAAAAAAAAAAAAAAAAAAv3aB7AAAAD3RSTlMAq1RmmUTNIjK7EInv\n",
       "3XZ/CtNrAAAACXBIWXMAAA7EAAAOxAGVKw4bAAAHWklEQVRo3u1abYhUVRh+d+bO153ZDyv6UFhG\n",
       "ss2ItaE1CYm6ZpYY5v7oR1ToSEbkH2cjiNW0Caz8sX6QSa6EXRUqs9zRVPog25TYIsxNhhJtYDTB\n",
       "xNyWBVNWajvvOXfuPefeM/fO1ZmYBQ+c2XfOee57nnOe8/XeHQCP1FD4Fa6nOk9NhWOemPD/RyeC\n",
       "H5n6G6ZMOa71QY3S66gnIU/j3ErWn5ALy3CtE2oLmZAt+Od2NyEb8E8gVXNSgRz5uLt6/tbqpqm+\n",
       "NyjW7Tzi/byJaUrJuVYlOZj4pkbpdcAc/P6Cm5BKJ/6p/Zb3AY54ulre1JuW6VwvNFv1kgpcmJil\n",
       "Uq5VSkvgWqktpUK+jhv+Bjcho7hou2u/TcwmWaniwv+LE7LZvmOPVODAxEyXcq1SGoFrpTadChkm\n",
       "3Y0nXc9IVHxv7YXsJzkBtRFykS7WhUa9n7cwCV3GtTrJwcQ/NcwdEEy5X2jC7EaUrrmOAWyirUZC\n",
       "fm2riw96P29hwikZ1+okBxP/1DATjY4UCj+6C5koFH7L1VxIBZt4HDf6SWeLYlXXwVXezztAvJCL\n",
       "h24Qe9V6yvN6bGHiLTKujgadxGVxiw3kYOKfGmYi5FyALe5CKlmI6TUXkk7750h+NhMTd5fQALzv\n",
       "2b4TxAmp/q33Cbe1vqXqJS+PFiZIF+D8AqafS1ydDTqIy5Id5GDinxpmImQXRIiiKutnViYkqe+q\n",
       "/RHZiHPsGGFyGBRxd/kkBfM9H2cgNSMVMjAKCWEd3KPDT14eGSaKj/dLuDpYOYnLLtMM9GF5Jv6p\n",
       "YSZCxvQ4iS/irJ/H2fLP74cHWqwXAltgvx9J3tzgtGS1mM7NKu00CYxyviPrfxgac6DOYFMP18IC\n",
       "gJOgfjVBp2tLMj9NEOuGgWFC0kolDc055pJVPgpwxcsjYohmZG5Hh231yJU1uCNtOmXEd+2ZaHqw\n",
       "aWiB4KDYCueFpyZxIqOGmQgZKIp3nXW3bYLJcV3RLSGn+bvrNOSclqQWG9p5C9yVE4VMbIC+Tlh3\n",
       "gU19jP9+APUiKMZ0z0vWsgkyUp4TklaSsVuUNFzSypMQGvHyiBhj2+6XCEkbjA4Nmk4ZcY2t00bN\n",
       "6dUC2VrhvfDUZE4k1EL9xoX0QeEcn4tveopanHtFFw4W/QiZyDotZy1t6MsiBHPi1tpXhIeI1W7N\n",
       "5H8hOAzNnZHLblsWBZU7I0kYuUDnXJI4TBn18Egxxs48aDsjCVejwYC1mTLiF+G1rNvpxnpna4Xz\n",
       "chXUMKOQe0mcGDpFR+NMEn5HY+odq3gh421kTNTPzpcOIM7khtIsXD80EeyWlUpl2JB6f6f5TjqG\n",
       "k2Ur6WoSbg5keCFHoCF9Z1B3F5KCWDckQmbJ2cQLeZkccR4eKQZ2P4w3CvsJQbiyBgUhKfGZHkJS\n",
       "0MIWsRVeSP/UMKOQrxKvu5ux10ogrVLOU+Pbn+GEjHxLPj7NrC+px5lWsgov6GfAblnJKKMNBV6y\n",
       "/NA7/h4cpEBeEUZ9K7RrGh880cOEHhbWKUJBrBtG+sby3ZCKaYLLG+EdkHrkTkyK0dpK0YYQx7WU\n",
       "WHESGMS5mNV0aHmlILU4KrbCC+mfGmYUsoHMoOW0kx/HtRCNfaeCdo4TEm4l+RHoAeimA4VmaNoc\n",
       "sXO0PobWRphhAInlwGEtzAPaUHCHNfBRpL6W8G39vOsPYdS3nX+rNSu8BM+bh58mgJZzT004utiM\n",
       "49VJs0F0uS8Fco95AaPq+7Ci0yYkcmWsOAkM4tET4nmWF85hCopsHxSZ8EL6p4a5w5rQLD4Kvtjb\n",
       "+zYRcleYFxLoPeQURNv1kpmAPrFzWMjS9zDLABLLgSNlNADChqJvcNsQ3pgbze/tjkh6SwXH81a3\n",
       "yvar8YiR7UpH6XEzsHEEHN0VhNwx253D4cUXtZVgCamO0hFszkRzbEWGptmEJBHoxo+hUS+ZEVyA\n",
       "/CGFhQF6rR6GQwyIlh1Hazs0YA2Ryw7o3PvfoFZWyJfhFc+uGd2oUMhKPMIl6Svy6eUl0CLe/yjq\n",
       "+8hDSF/UZnNCBtKaSka2x3jLcx+Yy8tckQPRizNRH4KjJmxCc5f5gYWBKWidIKcvA6JFcBaKlUWW\n",
       "p42GVjxWimDJNMUBeLfs8tm8Zl4F72u1yoWsyGO0X/rPoVimnATda1Z7L8k2xV1IX9QoPXNFtmai\n",
       "h6h63Rhl/pJh/07mhXzy3vMp1IfgqKlk0ezJRAfwwyjcjGWrh8AAokVw0JNkqAGjDEMObAjUA71z\n",
       "zeWEhHYaX1YsO2iLWsbGhr1XZKvLarC7rMhjUwunGteQoW3kwBXbLnl0bMx7LW07K+pm9+KLGqXH\n",
       "/9QjQHdd9YveTbZXdHw4qlMc3RWbTBNKljqYNCwLiDhIiriGTmdDAPgOOuIrYq19wreqZyXlq+qH\n",
       "GqXHC/l0+Kl+6UtzbjX/uZfgWPnYPyWTPmxcNnRmWUCKC+kirhHGSXq+Z5xQ44VMKWd0DyEZTma6\n",
       "W0Gx7PSU8SLkE/PGCbUKfkVXg9+1Ttbgeqpmaioc/g9FlLHUrPJcbgAAAABJRU5ErkJggg==\n",
       "\" style=\"display:inline;vertical-align:middle;\" /></a><br>(see <a class=\"ProveItLink\" href=\"../../../__pv_it/theorems/6579b7959884828e9a424d0c9e0ea992ed836f750/dependencies.ipynb\">dependencies</a>)<br>"
      ],
      "text/plain": [
       "<IPython.core.display.HTML object>"
      ]
     },
     "metadata": {},
     "output_type": "display_data"
    },
    {
     "name": "stdout",
     "output_type": "stream",
     "text": [
      "elim_one_any may now be readily provable (assuming required theorems are usable).  Simply execute \"%qed\".\n"
     ]
    }
   ],
   "source": [
    "%proving elim_one_any"
   ]
  },
  {
   "cell_type": "code",
   "execution_count": null,
   "metadata": {},
   "outputs": [],
   "source": []
  }
 ],
 "metadata": {
  "kernelspec": {
   "display_name": "Python 3",
   "language": "python",
   "name": "python3"
  }
 },
 "nbformat": 4,
 "nbformat_minor": 0
}