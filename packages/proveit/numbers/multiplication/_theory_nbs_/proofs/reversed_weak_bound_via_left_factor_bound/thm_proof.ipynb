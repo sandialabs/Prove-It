{
 "cells": [
  {
   "cell_type": "markdown",
   "metadata": {},
   "source": [
    "Proof of <a class=\"ProveItLink\" href=\"../../../../../_theory_nbs_/theory.ipynb\">proveit</a>.<a class=\"ProveItLink\" href=\"../../../../_theory_nbs_/theory.ipynb\">numbers</a>.<a class=\"ProveItLink\" href=\"../../theory.ipynb\">multiplication</a>.<a class=\"ProveItLink\" href=\"../../theorems.ipynb#reversed_weak_bound_via_left_factor_bound\">reversed_weak_bound_via_left_factor_bound</a> theorem\n",
    "========"
   ]
  },
  {
   "cell_type": "code",
   "execution_count": 1,
   "metadata": {},
   "outputs": [],
   "source": [
    "import proveit\n",
    "theory = proveit.Theory() # the theorem's theory"
   ]
  },
  {
   "cell_type": "code",
   "execution_count": 2,
   "metadata": {},
   "outputs": [
    {
     "data": {
      "text/html": [
       "With these <a href=\"allowed_presumptions.txt\">allowed</a>/<a href=\"disallowed_presumptions.txt\">disallowed</a> theorem/theory presumptions (e.g., to avoid circular dependencies), we begin our proof of<br><strong id=\"reversed_weak_bound_via_left_factor_bound\">reversed_weak_bound_via_left_factor_bound:</strong> <a class=\"ProveItLink\" href=\"../../../__pv_it/theorems/063895d22911304461ef7f0452c0d96aab96a1120/expr.ipynb\"><img src=\"data:image/png;base64,iVBORw0KGgoAAAANSUhEUgAAATwAAAAXBAMAAABkN+50AAAAMFBMVEX///8AAAAAAAAAAAAAAAAA\n",
       "AAAAAAAAAAAAAAAAAAAAAAAAAAAAAAAAAAAAAAAAAAAv3aB7AAAAD3RSTlMAq1RmmUTNIjK7EInv\n",
       "3XZ/CtNrAAAACXBIWXMAAA7EAAAOxAGVKw4bAAAEP0lEQVRIx8VWXWgcVRT+ZncmO3t3s1kQKk0g\n",
       "LLRUhEaWUpQWmi6kGq20VqqBquiigqggk8doDdsnHwwmtsSQPsRVikLTJmuL1QYMiyKtirIPLRZK\n",
       "ZGIjUaMhKHVlH8Rzf+ZnZ2ahwkoPfHN3znw755tzzz33Av+LJRRCZrUg3/IL2mI/KoTs6RbkoBm2\n",
       "RJbfbGmzulhFImyZfCQ5bDck7ue/X2izvA8UIuwlScg3k8PWURY4xid5os3yBhQibKe4ss/sJnLY\n",
       "4gUBrjKVa7O8qkKEpcty/H3BT46wrwXilOaOdpdeUSJy0pxp3bPgkaPsOYlvl5a+abM8vSLB1rvf\n",
       "POf1ip5VmtFU1rnfNuiS5wbAXD+GF0fp+pHEg8DJW4j4X+TxDHHoWLYPuN6nrGSD6slL1lC3Q65s\n",
       "R3zD7SmX8C5VwL0QGEYi23KWrj+/SdZwstk/FWJOIbXodIjOnMR92Fu+w2GwL6DXiOiV2tBJRTZz\n",
       "B6C5y/NMHvybtksky6lDkdre2jwJu5J6LSwvNhNSR55+HHHK/5BECQ+I+3meMX0DnaTfdLO07U6H\n",
       "zPAd0pQG9hd3PAJcp2FcImZHrwydZh22HZ8LyYufCHUB7rmMLqtZHiisSFCBOycwTz7Dyd6e/R7Z\n",
       "aGC8RL+vcMdXYDd5LSgU++ky2/8Jf7Q+uEIhjGVoom2TvMwpn7zMyuggMsfF7pQVGw47v2ZJT6KB\n",
       "dK55cmHUcdr5hHkbe3mea4HGwol6Eb+5RfCPrMM+hXPUyNn3Zp2HtzZ3EHuuqzzGRC3YlZEbPnmr\n",
       "2sSz5ufiJXbD5Hk4a41b0mM20KmaRtIWYJNaFe6ONZ/DppiF+ESgLQtyFm+78v6AVrwL2AWJo5QF\n",
       "vSCCxTFj0vBqH34xRCj7oYvwycsn7RLu5t+deL+W4YH2YQzSQ/LSKiZvHoTY36eqRs6TEbuiyz7S\n",
       "tKlxsp41/nQdM+grUDU8DAmtxAsgI5dvXVx70Bt/cXr6OE3uxzl/7YnqOsLVaBWNi/kSy8pDk9ul\n",
       "tJg1AXbQ3rrDjcp6Px3+meYyuA45mfWs1F3He2tv9JKkq5AQmbeSu/luY1bFIesqLpsVWXuPL/jl\n",
       "jYkD27FBHiZN72B1nDitPN7SwDWFCHs95BHEVHDvSNQk5PKxxg+XZ3E0VdQxS/8wNmSvpsbiWxqJ\n",
       "6gUURF/vRmfpGbAKLpk3dyvPOh717/s7W58WQoeECzgT3Pb1vITs1AP3nMdYTv9p8VcasHVXESOU\n",
       "HOOVl9m+ope9g0+ul9WhNzbwDmhNPLZjLa88qcX9bp1ZEhGnYNl9zy5xu+aQf6ByCtiIgs/UF+SY\n",
       "lcyDXZye9B4lg3//ENTrYi12G77sWeQpLUI0EbeshHaGKQXfAbqsBs0eCr026Og1KKtPtNoNRxVC\n",
       "ttqCHDpVWxL+3u8MRn+ltTxzmmwKh9d4o/F7bqclbk/YfwHXXyfvdZEMjQAAAABJRU5ErkJggg==\n",
       "\" style=\"display:inline;vertical-align:middle;\" /></a><br>(see <a class=\"ProveItLink\" href=\"../../../__pv_it/theorems/c341d1a028aa8ee7588b9e15efd4df5f286e0dda0/dependencies.ipynb\">dependencies</a>)<br>"
      ],
      "text/plain": [
       "<IPython.core.display.HTML object>"
      ]
     },
     "metadata": {},
     "output_type": "display_data"
    }
   ],
   "source": [
    "%proving reversed_weak_bound_via_left_factor_bound"
   ]
  },
  {
   "cell_type": "code",
   "execution_count": null,
   "metadata": {},
   "outputs": [],
   "source": []
  }
 ],
 "metadata": {
  "kernelspec": {
   "display_name": "Python 3",
   "language": "python",
   "name": "python3"
  }
 },
 "nbformat": 4,
 "nbformat_minor": 0
}