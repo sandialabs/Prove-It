{
 "cells": [
  {
   "cell_type": "markdown",
   "metadata": {},
   "source": [
    "Proof of <a class=\"ProveItLink\" href=\"../../../../../_theory_nbs_/theory.ipynb\">proveit</a>.<a class=\"ProveItLink\" href=\"../../../../_theory_nbs_/theory.ipynb\">numbers</a>.<a class=\"ProveItLink\" href=\"../../theory.ipynb\">multiplication</a>.<a class=\"ProveItLink\" href=\"../../theorems.ipynb#mult_rational_pos_closure\">mult_rational_pos_closure</a> theorem\n",
    "========"
   ]
  },
  {
   "cell_type": "code",
   "execution_count": 1,
   "metadata": {},
   "outputs": [],
   "source": [
    "import proveit\n",
    "theory = proveit.Theory() # the theorem's theory"
   ]
  },
  {
   "cell_type": "code",
   "execution_count": 2,
   "metadata": {},
   "outputs": [
    {
     "data": {
      "text/html": [
       "With these <a href=\"allowed_presumptions.txt\">allowed</a>/<a href=\"disallowed_presumptions.txt\">disallowed</a> theorem/theory presumptions (e.g., to avoid circular dependencies), we begin our proof of<br><strong id=\"mult_rational_pos_closure\">mult_rational_pos_closure:</strong> <a class=\"ProveItLink\" href=\"../../../__pv_it/theorems/05061e828c66c8d55114ed6bf25c4ea2f76955a90/expr.ipynb\"><img src=\"data:image/png;base64,iVBORw0KGgoAAAANSUhEUgAAAa8AAAAZBAMAAAB0obzuAAAAMFBMVEX///8AAAAAAAAAAAAAAAAA\n",
       "AAAAAAAAAAAAAAAAAAAAAAAAAAAAAAAAAAAAAAAAAAAv3aB7AAAAD3RSTlMAq1RmmUTNIjK7EInv\n",
       "3XZ/CtNrAAAACXBIWXMAAA7EAAAOxAGVKw4bAAAFOElEQVRYw71YfWhbVRQ/SV7yXt5Lsih+bAxK\n",
       "/MKCtsSyTZwyo21lKmOFin/Y/hEUFEXwFQSdm6UORMGaBmfRDD/eLAg6JXFFtimOooxOh5A/qh1q\n",
       "oHN+1VIoYrdR0HrOfffdvJs0LwlmPfBu8s657777O+fc3z33AXiJrzQLrZJAH1xqUahJ4bVYSnj3\n",
       "DLXwrddfclwQpmYP82Jy3YDpaWzUFgyk1gEWmFtfYGF61c8tGCg4V+Wz47nXTQEMfrCBxen/dbWB\n",
       "edqbkH14+QutcNG5SsXZU/D85jKwszawXvr/WG1gnvYm5H683m9J7EOWfG/cnoRgbxbuzb2Vy2Fe\n",
       "5C0G7AVK22xtYJ72JmQZr+7W0GtKvn+FFkx2h4hYKMmAEX4jURuYp71x0VawmWrNcv3G/pkvlYiQ\n",
       "4OAhbI6FBDAly4ARf4Q8yMPT3rjEirjE0q0B9ghrH/yTU0c2g+21yogDLDZlz/rbUum0Fyt62RsX\n",
       "H4JSiDvUzb9X0NrQieH6z7s7fcJY/wknFwr92PYHEg6w4IoNbCcG0wuYl72OGC62z9rJD4NmeEWm\n",
       "72l416rL8e5O29jUTEH/Xdhm/EleeYB20QY2BGrcvf/NfAp3xF3AKuxNlzh8JBwjik7VvwKlCPq2\n",
       "suWjJOwC/fPLPMGxTo7cLG2xaoE2o/6YqNjUZRtY2DKELrNpHK4xLMVyAXPbGy4zjt91tQwsilQW\n",
       "wXGUJYgWILPIep2ndjfAj9gT4ToaWfJpp5MjY9SMllAYW/M1Jhyjc2D+OQFe2Umb8VzKcKeiy96Q\n",
       "kHP2FmAyURUxAhbJQh5/OphyhpqvaSYb+tSLQiMLucTu5MggNR+I24NDDivyiPFUhDRuAYHuzC98\n",
       "T2+/YVgCxuxNpB8552gCJm41enb19FamYn4O7gQHGPPvvxBYgoBlA6uVAXYnNkn+cFQYB9g+1lXe\n",
       "WS5wYEeQXyYGkxFTZ5FtN94bkICRHQ7vOOq8ZHLBrH6zUJJztP0mxGJSxHw4dhjpMJ+Aq/ymG9hf\n",
       "yJg3ItEUvYCxTmySeHcbI3XBrQpVHleWawiHFWEfOvO532CDFWQlcTuk5iVgZNdnyQ9MPjbHqoEJ\n",
       "JXNOYAIqgdHmYsQJnH9GcUcM3oGOFGbbq+U1ct5ZWfm01IlNkldnAA+X6R9rxStclQnfx8CHWxu0\n",
       "YeYGHs/lXkNgh0MSMLIrKW0KVEb7PTAKwc5eGRgpbXfRiAQqZkjAyI0aBkVvOzb0hwTs0MJLbSN8\n",
       "bBBLj62saEru1GYvr+9s1bjjCnX3o3+PuBZD3H1sOQU9mlawIxbsrDq2RPpicdhPBwI4ieVzBPIy\n",
       "sJOspiZ3kXOCPBUNqQfAGXHXURnyp+GZ+uuXJok4eNIOvF3iEfWNuGmA14oc9BKcabc34q3gTNIF\n",
       "LG+Gt1vspKNfgAMfqk6AnOwhZaC3qwC2cxh5VFf3W2oCU998+b76R0w2SVCqD5FtsctfLO8PlgtY\n",
       "MA4LSdiDAdW+N8FXHTFzrJ+A6QWY1pa3A4wjn9AdNVzpn4cir1IycThS8XryRNhZnHufOiFbI6ur\n",
       "S/WPmGyS9tlfFv+mJw+Im1uqT9B4FB1f+wQd7O6cpLOp9iU80IWjU8k5mtCmYdTUph3lRhVTg5wD\n",
       "+hf3bKwsFhOcWf63vFHHPtv8pwFMRb/97zNcQSAOM1xZjG21uHOMZ5NrffMYbgGumFnnuNb8N4/M\n",
       "6QQ8ZOtX/8EoCoK2lXrcPyn63r3l14qxboL1kca+UlV9V3Q9EFhLKbb/cyPr/12RCZHQ4k/J/wBj\n",
       "JVVow5FCLgAAAABJRU5ErkJggg==\n",
       "\" style=\"display:inline;vertical-align:middle;\" /></a><br>(see <a class=\"ProveItLink\" href=\"../../../__pv_it/theorems/179eae3bd3d4a21cc93f0313c64b0bce5df6cb270/dependencies.ipynb\">dependencies</a>)<br>"
      ],
      "text/plain": [
       "<IPython.core.display.HTML object>"
      ]
     },
     "metadata": {},
     "output_type": "display_data"
    }
   ],
   "source": [
    "%proving mult_rational_pos_closure"
   ]
  },
  {
   "cell_type": "code",
   "execution_count": null,
   "metadata": {},
   "outputs": [],
   "source": []
  }
 ],
 "metadata": {
  "kernelspec": {
   "display_name": "Python 3",
   "language": "python",
   "name": "python3"
  }
 },
 "nbformat": 4,
 "nbformat_minor": 0
}