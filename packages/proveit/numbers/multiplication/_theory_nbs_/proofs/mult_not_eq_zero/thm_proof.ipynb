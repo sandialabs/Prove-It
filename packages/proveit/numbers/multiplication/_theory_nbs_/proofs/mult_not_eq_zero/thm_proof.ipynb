{
 "cells": [
  {
   "cell_type": "markdown",
   "metadata": {},
   "source": [
    "Proof of <a class=\"ProveItLink\" href=\"../../../../../_theory_nbs_/theory.ipynb\">proveit</a>.<a class=\"ProveItLink\" href=\"../../../../_theory_nbs_/theory.ipynb\">numbers</a>.<a class=\"ProveItLink\" href=\"../../theory.ipynb\">multiplication</a>.<a class=\"ProveItLink\" href=\"../../theorems.ipynb#mult_not_eq_zero\">mult_not_eq_zero</a> theorem\n",
    "========"
   ]
  },
  {
   "cell_type": "code",
   "execution_count": 1,
   "metadata": {},
   "outputs": [],
   "source": [
    "import proveit\n",
    "theory = proveit.Theory() # the theorem's theory"
   ]
  },
  {
   "cell_type": "code",
   "execution_count": 2,
   "metadata": {},
   "outputs": [
    {
     "data": {
      "text/html": [
       "With these <a href=\"allowed_presumptions.txt\">allowed</a>/<a href=\"disallowed_presumptions.txt\">disallowed</a> theorem/theory presumptions (e.g., to avoid circular dependencies), we begin our proof of<br><strong id=\"mult_not_eq_zero\">mult_not_eq_zero:</strong> <a class=\"ProveItLink\" href=\"../../../__pv_it/theorems/a12666991bde2183d002141acdce93ca4c0d92cf0/expr.ipynb\"><img src=\"data:image/png;base64,iVBORw0KGgoAAAANSUhEUgAAAaEAAAAZCAMAAACvmGFcAAAASFBMVEX///8AAAAAAAAAAAAAAAAA\n",
       "AAAAAAAAAAAAAAAAAAAAAAAAAAAAAAAAAAAAAAAAAAAAAAAAAAAAAAAAAAAAAAAAAAAAAAAAAACC\n",
       "gUnDAAAAF3RSTlMAq1RmmUTNIjK7EInv3Xah18O15/Xp87zmPDoAAAAJcEhZcwAADsQAAA7EAZUr\n",
       "DhsAAATJSURBVGje7VrndtwsEBVNNEGSr0Tv/6ahMwhUrLWO9+SYH2LN3mFh7jSQp+l+Q8YYPn23\n",
       "x5p1CsavTDB/6/DxRshfyxDf9G+ynI+i/16GLG77r27M7nxB1SHaMYTKMCZ3GHpB/sGGddu/gcmM\n",
       "tSMk/EtrS3mDdgxRVhTO7zD0gvxzTc1t/w5tHjnLJAWEOIdXsfjKaMeQyE7A5a0o94L8c42Stn+L\n",
       "nE9HLoQgwgQ/khDt81BmS+NbDL0g/1xbNv17LGrgRBLGHRnowqsCaM9QrhY+HhDmptp4o4CC57Z/\n",
       "kzDXOzSDLjStwW/EigE6aHcxvi36JkP35Z8LcrrtJ4605fakwr2AuVgrj2fSqNcgdCGVGSIAHRii\n",
       "IVlJdZeh2/KPW2vu2eI0IdfDFV7BXCysd2Yi1aNpMGrz73/+WRL5qiNDFqADQxzlx9giDNWuXiML\n",
       "2mHoRP65gs1viFtsuxoyX5WkXi3BEEMeVmQc+QBGaY3Qfabgr7Wxdzl0ocqQBuiYQ7z5a9bXGRZJ\n",
       "6YYxmrQaHa3yXnfkHzhTSIpq/KC5Tul0vrCmp2ugS4c9WQPjShEFGAoVDCDHvBQcmGmjz3XrbHQz\n",
       "RZBh0YcSOjKE7SjPUyrySdT6VevdO4Wx/Ke1bClKImdzWKaFEBYMdlQkbRhaZNh//AND4zZFRwDj\n",
       "H3wVHeS4FVzza230O3ShXCngWCkw6ENOvcSmmp04K6PtGRgLzJzh7jNU5R9J+9lStIoBWk+aUvrj\n",
       "J3WHZe71bcRhlFPBKEmyYGzGLlAxREGGPhzk4ExVne0vhzz0/++YjUp+kPEkFDNYQieGNI6HGkWY\n",
       "D6I+06l6/sTCKQezA4ayvI/hxGreJYzB4E5q6ZDFUhQR0S55jXHJh7ZzSwt7FYwSzRPmBwxBjNuR\n",
       "uZ2G6kxAnUHZ8uSSgQS3oTNEJ4Z4qgK4sv5rTyIjkCGnDyv3Gcry4cpCrBuFDQfHu+uR1VIwx/kb\n",
       "50O//qHeh8Ia5r26NvWeKOyiEN33oRYzCaMOUk3/YTwTUGdT+6f99OHT+7xaBETn0ybKPo1sioBk\n",
       "lqHhyJCrm+Z9hoo8db8qlngHpGqYSoMMW8qOA1oWr8G7WApRpKpN5e25Wo505AvT9ApZLTiy4oCh\n",
       "BsPHR4eSavoPOzMVdQYwO7unU1TbrMqE7t4+eAKdnsQkdONDXrsHDMEUbb3hClytsAwu3uoO70Uy\n",
       "Eh4isqUIwWpuoMfVcM5Mps8m+Dx+cad3/inXwEWd4dTSruP4hJ/RW4b4GrblOalmFIqmreaGDCkf\n",
       "oSRRXrQwVAd55yF74oQyErcALCVVCpPKSzq/pRzcVp4zxKUQgn7GARyos7vFndWlu98tQ+GeyGoS\n",
       "15lDRawK0RUf8nmEkcJQOFSCwUmyPDp6FCT2Wc9M7V0F1+Hdib5SNuYbSblxBa7n9WyCZfXtM1wI\n",
       "qHN79U9OXCijj96xKu2jCzu/9WnOYASnFQWGxIKbwVg4h1Gx8PbRIF005nO26LoiF/LopTI4Fxjq\n",
       "bV6JbGzFqGvoB9+CpyU0ryS0mmw/msNPI+3LbKauWcrQCG3bf3XbXk2Ji+jHGBJ2Ce+LGDSV2QWP\n",
       "ELrYwICaMYV8Kn2j129f1l5k6Pz/5cjl0W86Bq5kzEL+AMlbKxGGqs7bAAAAAElFTkSuQmCC\n",
       "\" style=\"display:inline;vertical-align:middle;\" /></a><br>(see <a class=\"ProveItLink\" href=\"../../../__pv_it/theorems/640428bf455b578061a0fc9ec69a81d617b6ccbe0/dependencies.ipynb\">dependencies</a>)<br>"
      ],
      "text/plain": [
       "<IPython.core.display.HTML object>"
      ]
     },
     "metadata": {},
     "output_type": "display_data"
    }
   ],
   "source": [
    "%proving mult_not_eq_zero"
   ]
  },
  {
   "cell_type": "code",
   "execution_count": null,
   "metadata": {},
   "outputs": [],
   "source": []
  }
 ],
 "metadata": {
  "kernelspec": {
   "display_name": "Python 3",
   "language": "python",
   "name": "python3"
  }
 },
 "nbformat": 4,
 "nbformat_minor": 0
}