{
 "cells": [
  {
   "cell_type": "markdown",
   "metadata": {},
   "source": [
    "Proof of <a class=\"ProveItLink\" href=\"../../../../../_theory_nbs_/theory.ipynb\">proveit</a>.<a class=\"ProveItLink\" href=\"../../../../_theory_nbs_/theory.ipynb\">numbers</a>.<a class=\"ProveItLink\" href=\"../../theory.ipynb\">multiplication</a>.<a class=\"ProveItLink\" href=\"../../theorems.ipynb#distribute_through_sum\">distribute_through_sum</a> theorem\n",
    "========"
   ]
  },
  {
   "cell_type": "code",
   "execution_count": 1,
   "metadata": {},
   "outputs": [],
   "source": [
    "import proveit\n",
    "theory = proveit.Theory() # the theorem's theory"
   ]
  },
  {
   "cell_type": "code",
   "execution_count": 2,
   "metadata": {},
   "outputs": [
    {
     "data": {
      "text/html": [
       "With these <a href=\"allowed_presumptions.txt\">allowed</a>/<a href=\"disallowed_presumptions.txt\">disallowed</a> theorem/theory presumptions (e.g., to avoid circular dependencies), we begin our proof of<br><strong id=\"distribute_through_sum\">distribute_through_sum:</strong> <a class=\"ProveItLink\" href=\"../../../__pv_it/theorems/0e4731362cd0ed815f791fd5d38f69730f96e7810/expr.ipynb\"><img src=\"data:image/png;base64,iVBORw0KGgoAAAANSUhEUgAABOcAAABMBAMAAADU2M68AAAAMFBMVEX///8AAAAAAAAAAAAAAAAA\n",
       "AAAAAAAAAAAAAAAAAAAAAAAAAAAAAAAAAAAAAAAAAAAv3aB7AAAAD3RSTlMAq1RmmUTNIjK7EInv\n",
       "3XZ/CtNrAAAACXBIWXMAAA7EAAAOxAGVKw4bAAANiElEQVR42u1de4xUVxn/dh4779lV1D9EtxOt\n",
       "kLTZZePSplBdJkJNBdtOiolNo2W1NKT800GbNFSBsfFBInS3EQNUi4MktZTKDkJsQyNdNHWttbiS\n",
       "NTa0a4aWBC2RLiu4dYmM53Hv3PO4d+beO2c3O53zJTtz9txzvvl95/zmPO69vzsALm2wUrkE2rQ1\n",
       "ZqlKpeK+9ODRvpt0m2lr0IJ9fdd5IF1et5g2FbZCk05bM5CuE798Uredtjkk3W34ZYNuO21zSLrv\n",
       "oL/IkG47bXNIuvYiQCKj207bHJIu2IuIp5tO25zuXl+bmHhVN522OSXd7QBP6qbTNqek2wSRTg+f\n",
       "EX1QTtkd9WTpXV1bdfe1EOlixUTOy4cstElBzbzaJD67Nxd/Ih/4ie6+FiJdoOxtH/EHmxTUzKtp\n",
       "qwpo93wY4FbdfS1EOhjoRy+H+p83/2eSVYsfvWBUiF47WxRTzLhl5SXeLpu5J/plAEZeGm2e4cD3\n",
       "ACK6+1qJdL/aiEj1t+i0yS8radkv82aF9Jl0VkwxizMr76/RESOVyu2QHOK8L6D3g/ifxYt137UY\n",
       "6b6N9hGhLKJIhOxiSfLuc/w6bxUg3sTIErA3OEAL4pRYDudBCA92oaF4gZZD5Hom3HMb//koD65H\n",
       "72vxP8uX675rMdK1oVVVMpfuhMfO4H9JciQ+yRV/Gc4aqWQh1GkURCmxHM4zUoiNtByqDEkYBsEh\n",
       "wEr0d/PevXsz2+/RfddipMM2nI8tL8KZajJfnRvplDsNP3o2cAInOyCZoQVxSihH8oJLSQp/ACXd\n",
       "NF6xCTMsnsE3bC3DD8nyD20k4rr7Wo10yfzgWkK6Q0YylkPJeIm8oLfR6JXlgevx4VRxGdCCJMWW\n",
       "M/IeeRofbc9BCZdD2Q9AAuDHTCkjb/qGIYjhqThyLA8ndPe1GunCK3uOEi7tyNDk7TgZHYUd+eho\n",
       "9LfwpU9f6IU9JO/OslGQpNhyZt6tOC+ysp+wGFV+uO8dCBVwipbK07zoJUS4yB6yYX5wV0F3X6uR\n",
       "jhqeDTP0fEexbCaRBegcO5Yx86oF+XJG6sPAlqOVj6fNVNVh+vkzCMShvXtzuudal3SPv5qBcJEk\n",
       "H6qMmUlk99K3fUUjzyrIlzNSY8CUo5XbK/+rujEdhvJHM7rPWn6kQxa0S/ba5Dmm0p/Icm56a6a0\n",
       "adIpsMCHdEdo0rkhXUyv47W5s/iTqki3QDemNpe2s6iGdG0l/qjCuVfxhfz8PPTUYhYYU0O6m/mD\n",
       "aYW7yrfURnzfPPTUanZEJJ1b7TRHusgof/BGhV+LEhx8zW5l8NMxL26qPtLKNr5pvYX2aalegXRu\n",
       "tdMc6VJlnhAD6gA+jf7W2x1oz3ryU/WxURm0jZo+PgeSPwqkc6ud5kj3Gf5YSOEYgO8kmWIzwobz\n",
       "Dm4KX+tU3zxQ9bFUGbSlmj4+bb1AOrfaaY50ggQxqRDfCKLZDPc1MUbVddweqMepvnHA8pEsqoKm\n",
       "zlOr2bo8Tzq32mmWdOkZ/tgihSMxmqkTY3ak+w14IZ3lo13ZMNyuF3V+W65T2L261E6zpEsJEsQ1\n",
       "eIpeeJ5f6MGmEy5UgmK1UAlB7DqbkUn3tYsf9EA6y0eCAXvi7QJXOHHxlvoQq5USnZo+PoeSGYF0\n",
       "VDsdp5wquCLdoFDsfvT3lXyMH//Co/Cz+vMRrfYLbjQZ3hiflkgX/09xOO+edNRHFKWC1i5nSybE\n",
       "rV4jp4nsorZZlainOyaw/UUzyYPFrwmko9rpBO3a19HfZ82hZ8uaXPCkHek+Jvg8jdz+DkJjEGfO\n",
       "3z3XC3dA/MUP1CQercbckJlC49OSIpyCAwM86dCXJVk+dOSjLklHfEAKfTsCI9VjbyAXLMRUCU7V\n",
       "Q0gqBf9OIIxo+vi0pwTSSdppLFYgkuZA53FYbeYeYLrmpODyZTQtTuIufPxfdJjBhLkL91eIcAoN\n",
       "UzIOUohWM4Yy88M/D3A1epEsykITE2+i+R8rgQago5RFPKaDzZ9sBxvrAPZB86KTpvMQHoo5iCim\n",
       "GgitSkShQT1p82MrmCHrm2Cjnd6GX1bhMaI/BCWbkS76b5l0ySEYRnzppiNIFr28AvEr0JGLvIdz\n",
       "xmUcpJBRDaplMOnegPCUde3EGOkQN9dlrsC2gruRjvig0/yI6TxJpkkOItRCaFWKTFqetPmw4V5+\n",
       "pCPa6TDRbsXP4cX3ssgFevY98NiXy3akS0/L0+twmTjrZqfx4CQEi7RLHcGQavd1ctPrFB5eRNJ1\n",
       "ZNDAtNw16YiPw58D9srfcBlEiOAGISo0tLVketJrOj9nmzoF0mHt9OEOPHuG8AkL6PrGc3kiaQ4U\n",
       "jn/KjnQx8Ru/D/VNBj4SyLM9OgVtA4vF8x9Sl+Jqj5atLUgM9fF7eD0oka6A1n/WiZN6pCM+sosI\n",
       "YcxDHeiblGMgAhqxw/UQkkpt528YZT1p82ixMYF0WDv9KOmKZxN40jmVidLz+oFCKD1kQ7qk2PhH\n",
       "MFkC4yF2GEFM7M5mufta8DqKrJOGByyOoWqRn1uQ8GmJBbALJNK19caQt+gZnltVd9U1mXEA+4gX\n",
       "jxknYYzTMUOQKLAQ0db1hXoISaXkW3hfHypp9vi0xKRAOqydxoOVccIicvl2Q9IcKMRLAzakG84K\n",
       "Lneirup6YdM/ONLtv/CDroLxEABmFTduJihpSLWYdaouiri2/1ivTLr4QnyBbHNRGOnGWb/MAeKD\n",
       "nMtJWdukF/ve4SAmjvYX6yEklbbhJS7rSZs3C14RSEe6dIaslbDgOTj01QiVNAcKcHfZhnSDZXFP\n",
       "UD1v1y1+2sPwiItl5jNW+nWTawLp6Im1bCTvbnqlhhefW4QC3T4QLguP5WVP2lxb9JoN6QID2Tia\n",
       "PHbAIWgr70xQSXMwB+lOG9ItyYg8zjr1aGTP9tX1IS0KWemlIunCzMZn8/bvGkNd3Qv+JFS8+FxZ\n",
       "m3SuEHZFx0qyJ22uLX7ZbqTrwoJmOAs7MrF82y1U0rxzg3G7nUC6FQXR527j/VsPCbr7ZKXi4uTW\n",
       "/vPMkpN+TuTXV8tywT97+TUzIF8Z8Q4aEaIrhLthQUH/jkEjdsmGdGRsIWsgYxSTJM0M6d6Vbtw+\n",
       "qPA7obBr8RI1puwu85i+X92//deBdPe23zMC4aJDLYZ0L0llImV18NQ9S/gB/Aye88rcndfU8W+/\n",
       "dyBdb+hckRU9O5LurmJzBHrnat3Z88UmHEhX2xjSXafbUJtHe1OTTlvTka5Zpldt76Pp9SV5G5eH\n",
       "+StGzrvKmq9QlZSd6xjyrjcSrkn3bkE8iMXWKgXXSk0WSTcRVEeb1zHIcZxslHTyyeEbQaXg2lZs\n",
       "7d9kkXQTQXW0eR2DHMflRkm3RLzwjcXWKgXX69V+9zbawG0SqI42z2OQmvxqo6QbFHmMxdYqBddT\n",
       "alvBvJxrXsVtIqiSrYWmiEHUpdte8PdEuo6scCwJSgXX4Rm1rWCKpM37VZoIqmQ90BQxiLr0wFSj\n",
       "pEuJQ/siUCq4ToypbQVTJG32ZBNBdSTdPI9B1KWzCgefv5gzIhxbA0oF17zYGpsakbTZk/ZQ5Rwl\n",
       "UOUML1AdSTenMbhpbqsMjkHUpbdNNkq6oDge3w9KBde82BoUiaStnrSFapOjAqqc4QmqI+mUxxBt\n",
       "rLmZMjiGoDAZsgoHf6SLiivP06BUcM2LrUGZSNrsSVuoNMdSc7uHyiERoZKMOl5rQHUkneIY2Lu/\n",
       "fTU3LmPI9HEMoi59W7lR0tmJrVUKrhmxtS+RNPUqiKQt2bY9VJpjqLmH5RMSFIkFlZbBUFkkElSS\n",
       "Qb261nMzUHljROZ1Y3D+NLsYpJajbqkTN81NLo0SmT6JQdSls2Jrn6T7oj3pVAmuWbG1H5G06VUU\n",
       "SZvDhy1UmmOouVNZ2eu4AJWUwVBZJBJUkmF49aDnrjvS1Y+hxqfJMUgtZ7glTtw09ytkPAMzBlGX\n",
       "/nFomHTrcrbTqyrBNS+2ViWS5qZXCaqRY6m53UNlkYhQaUZ9r05Qa02vKmOgunT/zU2fkINl+jQG\n",
       "4dnWcK1x0okDwT5QKrjmxdbqRNJmT9pBNXOEx+C5gsogkaDSjNpea0B1JJ3qGLKLGmtuUgbL9GkM\n",
       "gi49ONM46cTt6xFQKrjmxdYuRNLEYX2RtNmTtlCNnKqa2wNUBokElWbU9loDqlS6B2YlBqpL99Lc\n",
       "xKHllZTBMn0ag6BLT3U2Tjrx8a87QangmhdbgwuR9DiAC5G02ZO2UI2czUXvUFkkIlSaUdtrDahS\n",
       "6R6YnRjIORgvzU0cWl5xGSLTpzEIunTx8a++SLeC3z7j7bZKwTWAvCpQIJKu9qQzVEvN7QGqhKTb\n",
       "h1d7qI7Tq+oYYLrx5iYyfRqDoEt/AhSQrp0fPbHYWqXg2g3pfIikzavozlAZNbd7qDKSbh9e7aFK\n",
       "thZmJQYQfuXeV3MTmT6Ngdel81d3/ZIuKvx4yW5QKrgGG7G1SpG0I1R3am4BqoREcuvGq1c9t9oY\n",
       "mEc5+G9uItMnMQhx4Oe/NU46+Cd/8CAoFVyrtdhsasNnG6qjKY5B3ZPjcQxCHNLPNPkjnfCDdJGy\n",
       "WsG1UpNF0k0E1dHUxkB06epi4OMID6ghHXwdtL2PbFZ16d8v+iZdpXKJHUQLuqe0ubI4e+96quLl\n",
       "GUgH+vpu0g2orUEL9vX1wf8B7lHSgYJggBwAAAAASUVORK5CYII=\n",
       "\" style=\"display:inline;vertical-align:middle;\" /></a><br>(see <a class=\"ProveItLink\" href=\"../../../__pv_it/theorems/566144a208ada3b46d3dc1ae5bf09454f731277f0/dependencies.ipynb\">dependencies</a>)<br>"
      ],
      "text/plain": [
       "<IPython.core.display.HTML object>"
      ]
     },
     "metadata": {},
     "output_type": "display_data"
    }
   ],
   "source": [
    "%proving distribute_through_sum"
   ]
  },
  {
   "cell_type": "code",
   "execution_count": null,
   "metadata": {},
   "outputs": [],
   "source": []
  }
 ],
 "metadata": {
  "kernelspec": {
   "display_name": "Python 3",
   "language": "python",
   "name": "python3"
  }
 },
 "nbformat": 4,
 "nbformat_minor": 0
}