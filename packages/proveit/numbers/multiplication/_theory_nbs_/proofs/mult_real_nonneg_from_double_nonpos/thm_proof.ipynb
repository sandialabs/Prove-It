{
 "cells": [
  {
   "cell_type": "markdown",
   "metadata": {},
   "source": [
    "Proof of <a class=\"ProveItLink\" href=\"../../../../../_theory_nbs_/theory.ipynb\">proveit</a>.<a class=\"ProveItLink\" href=\"../../../../_theory_nbs_/theory.ipynb\">numbers</a>.<a class=\"ProveItLink\" href=\"../../theory.ipynb\">multiplication</a>.<a class=\"ProveItLink\" href=\"../../theorems.ipynb#mult_real_nonneg_from_double_nonpos\">mult_real_nonneg_from_double_nonpos</a> theorem\n",
    "========"
   ]
  },
  {
   "cell_type": "code",
   "execution_count": 1,
   "metadata": {},
   "outputs": [],
   "source": [
    "import proveit\n",
    "theory = proveit.Theory() # the theorem's theory"
   ]
  },
  {
   "cell_type": "code",
   "execution_count": 2,
   "metadata": {},
   "outputs": [
    {
     "data": {
      "text/html": [
       "With these <a href=\"allowed_presumptions.txt\">allowed</a>/<a href=\"disallowed_presumptions.txt\">disallowed</a> theorem/theory presumptions (e.g., to avoid circular dependencies), we begin our proof of<br><strong id=\"mult_real_nonneg_from_double_nonpos\">mult_real_nonneg_from_double_nonpos:</strong> <a class=\"ProveItLink\" href=\"../../../__pv_it/theorems/d83ef3050b06cde5abd03a136522ca29b396926d0/expr.ipynb\"><img src=\"data:image/png;base64,iVBORw0KGgoAAAANSUhEUgAAANcAAAAaBAMAAADWJdTsAAAAMFBMVEX///8AAAAAAAAAAAAAAAAA\n",
       "AAAAAAAAAAAAAAAAAAAAAAAAAAAAAAAAAAAAAAAAAAAv3aB7AAAAD3RSTlMAq1RmmUTNIjK7EInv\n",
       "3XZ/CtNrAAAACXBIWXMAAA7EAAAOxAGVKw4bAAADmklEQVRIx7VWb0hTURQ/uj9v7217Wlb0B2Qg\n",
       "1IfSBpKghEya9o9qJQRh0MogkogJfQlCFwR+yHBoZjOyJ0QQBs6MpD6IX0orDImkqFYTIcj+EEJa\n",
       "C6Rz7rbn874tN6kL5777Dvfe3znn/s65F+B/Nks7+1gHQ0tZvSXD+T2t1JfDITBmjJXtynSF3Ibd\n",
       "COT4hECmS29R59PrhdRLDF0gRMHmQPcybGSm7NDrTREO4VRw5l1bfDxsiYLdCXYFIJcUBelhCUPY\n",
       "beSUt0exm+SUopBryuukkfTAg2C2CMiIVEmaE+mBGZFUkpfXHkcxKzxYCALnyb4KP4UxxwFSFIBp\n",
       "0jy8HA8COnntNMXKpQfbbsadl/njBAGojdlkdaQH1oJzbbrzilL/NPbzKRz2qmAiSCsYm77Bfux3\n",
       "ok1oqTlNfnxFWc8rrWPU17LxwSmNZ2u7QVLiSb0L+y8oo+HwszTBVqHspkH9YIOqNOdPYGD6GIHq\n",
       "NGG0tHJMOILIOwA6U+8vaX+CcRdMw3BDZURvnTQLUMJwffNgjz+850jTgsdXD0Ju6pRcDQ1F6hZH\n",
       "UV6g3HHCHnXKZgWeA2xiYBqC9Jfh4VmC2Driukakl6hYPWrhPBkfFN6vOE2lDd2uA5XsL1EeoewD\n",
       "eEtez5CyCuA3mk3D5jC2QDyMncWc4b0Ikx3R8GMdIU4EPbIVBkJwZgB3HEowLeYZgT0B6UcCHGFN\n",
       "SP7DLL+11L8gcmFspCzwaqrWCIoblbIMZRFhnA59DF5zYZTmwPBdk2ZGJH8hDe1aMGMTl70tdBx3\n",
       "iUM95QPk1NyEIlPWItiUCwwrmWfDielrULpQNQ1Z3g0J5U86QihlJT6iAZMCk3o2wjnkh/TKMkuz\n",
       "38guFgvZKnThFtl56Pj8mVGm9DHAQpdaMvLgciIj4Ng8mAuKRc8CsK3UZWHYjC4LFVnRafBWMzDj\n",
       "NRYESyU0FPi0tl3Cb/fnpnx/Qtl9j0IxHhu3K4mq/8snXpleAFaRGNg8VJTB5jfmliBbHbJsPaBP\n",
       "BBuaavcnvQ/GYt+a62FvqjSqVWnpE8vQqBy85S4yz2RTjSK43e5Kvuobkl7W+vKsLw9R1WZfS7XS\n",
       "gxdcKTDGIvUf6ndloe5IttPZxWudQS0dpm1F/dDssOyNgHCVKurH0M0q/YLlC5JJ0zoWB7Nzz4nY\n",
       "TdMTDHr+8gYRIkmeNb7Fwbg3iElZ9HW1pPdfjEJcihv+/btRQyH05A8W7t3NPaT0igAAAABJRU5E\n",
       "rkJggg==\n",
       "\" style=\"display:inline;vertical-align:middle;\" /></a><br>(see <a class=\"ProveItLink\" href=\"../../../__pv_it/theorems/c42c6f078adca429a131d05a555881c0267fe2790/dependencies.ipynb\">dependencies</a>)<br>"
      ],
      "text/plain": [
       "<IPython.core.display.HTML object>"
      ]
     },
     "metadata": {},
     "output_type": "display_data"
    },
    {
     "name": "stdout",
     "output_type": "stream",
     "text": [
      "mult_real_nonneg_from_double_nonpos may now be readily provable (assuming required theorems are usable).  Simply execute \"%qed\".\n"
     ]
    }
   ],
   "source": [
    "%proving mult_real_nonneg_from_double_nonpos"
   ]
  },
  {
   "cell_type": "code",
   "execution_count": null,
   "metadata": {},
   "outputs": [],
   "source": []
  }
 ],
 "metadata": {
  "kernelspec": {
   "display_name": "Python 3",
   "language": "python",
   "name": "python3"
  }
 },
 "nbformat": 4,
 "nbformat_minor": 0
}