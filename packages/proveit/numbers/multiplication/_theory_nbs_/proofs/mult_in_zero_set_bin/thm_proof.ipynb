{
 "cells": [
  {
   "cell_type": "markdown",
   "metadata": {},
   "source": [
    "Proof of <a class=\"ProveItLink\" href=\"../../../../../_theory_nbs_/theory.ipynb\">proveit</a>.<a class=\"ProveItLink\" href=\"../../../../_theory_nbs_/theory.ipynb\">numbers</a>.<a class=\"ProveItLink\" href=\"../../theory.ipynb\">multiplication</a>.<a class=\"ProveItLink\" href=\"../../theorems.ipynb#mult_in_zero_set_bin\">mult_in_zero_set_bin</a> theorem\n",
    "========"
   ]
  },
  {
   "cell_type": "code",
   "execution_count": 1,
   "metadata": {},
   "outputs": [],
   "source": [
    "import proveit\n",
    "theory = proveit.Theory() # the theorem's theory"
   ]
  },
  {
   "cell_type": "code",
   "execution_count": 2,
   "metadata": {},
   "outputs": [
    {
     "data": {
      "text/html": [
       "With these <a href=\"allowed_presumptions.txt\">allowed</a>/<a href=\"disallowed_presumptions.txt\">disallowed</a> theorem/theory presumptions (e.g., to avoid circular dependencies), we begin our proof of<br><strong id=\"mult_in_zero_set_bin\">mult_in_zero_set_bin:</strong> <a class=\"ProveItLink\" href=\"../../../__pv_it/theorems/d06ea3ed5642705c018b4492f228830eac8acc830/expr.ipynb\"><img src=\"data:image/png;base64,iVBORw0KGgoAAAANSUhEUgAAAS0AAAAXBAMAAACsWwSiAAAAMFBMVEX///8AAAAAAAAAAAAAAAAA\n",
       "AAAAAAAAAAAAAAAAAAAAAAAAAAAAAAAAAAAAAAAAAAAv3aB7AAAAD3RSTlMAq1RmmUTNIjK7EInv\n",
       "3XZ/CtNrAAAACXBIWXMAAA7EAAAOxAGVKw4bAAAEAElEQVRIx71WXWgUVxQ+2b/Zmf3J4oMgARkR\n",
       "zINgtqBCU6tbUk1LwC4IokTMVilFn9Y++GKtW1CwNJIVFN1oywTxIUS62yr+IEowCAGxhCoIwsIE\n",
       "BLUtIiIKCqXn3HP3ztyZjS92+8HZO/d+58x+c8+5ZwagkyhLa7McwPkij98sEPKfImuzBbEz7PmV\n",
       "wxfJJQ7zOZot74yuldJ8sM7OoYp80LOPZF1/hBtl5pjfSMtfd0SWVWLTkCjgz96g6w1ibOsBQGqO\n",
       "+e9xMKod0RXLs2nopryubqfrY4BrUhfyCdzBlN0RXWlpGkYoY2lZTU+bzZLSdVykU+hCPooPlOhM\n",
       "ea2QFtoZSPAubv3Tv/oSYMxmXcTfbTbvdEbXkDSj57GrFr98tggTJE6bsdev1iJdedZF/GcA4++o\n",
       "ER4iwZaSVVdBymN2S9tRNt+os/DKqZchKrKX8CI3ocq3qMuF7DROid8HRq5FJ/eou59Y+h2NJk/X\n",
       "aH99/S+AQmuyxhelM3+wWTMQm1NP8QbSLkSmhS4VZsxIXQ0wXpAX8qaTKiqHHhI3Xytax8uRM54u\n",
       "K+eXFXXjVRgWW9klqJ4AI3GbLfYcMg2xVbT/JehuQPI58aNNBLUCYzEqsFDXCOZ7YhcIPuL6yn4W\n",
       "7dMKJvgXgI88XbGids4q8BrPcQSLc1hQswFG15WuQl3E30dDhSM2xMV+Tao7Hh7nuu/DxnAZfQVf\n",
       "Wo8/U+uv0Fb9M++IZnzuCD6FpyujPAiHHLhFvaVKlZnhKJ3R8lh3YYO/fX3hQGSudVcJ7BFQA9jg\n",
       "UKKB+d/wWFgPkq+pqh5mC+IpentlAOvaLz0+ryHyYw7cg0gB317xBlEUpTOMn9nqNixWh6O7guUG\n",
       "UdHIs67WPdaJ8k+Juif+W6yQWCFJczMfLW0hv/5+Tdd25UHAf/8dsJBMrE2iKEpnGL+ymW7kfqwl\n",
       "oCtvouxYQ0x2aboytjUr+73gu7Ce0sVsTtRHLLcWH9w+uk3TtUx5yGy9gGQVW/IwUxilM4xjbNbS\n",
       "q/ueqD7RM0ASuF4nTjo+XdbQfEXqyrTquV42+9GnG9L2jzSnurc8XT9ID86WqG7KVmlcUBQVYLgq\n",
       "K2xhHJTj8E++9xBD6DqoDlJ5bIszBRnnQ8oN1vylMtzU6l54yN7mxnOiOD5oCIqiAgx3jQJbGANt\n",
       "306eLsXHB1ZdhFE7udkF4zQtTO05UfF0mWX2aHXPRw4tiY6AI0UFGMYpaUGEv1/+9l4wpTDPB3yq\n",
       "VvPaFeuKN0L3bjWfMDWpXU220WWGPpQPqS+aC/kQH3fa3IKHwRAxGLoILxguWxCPwzv4iRR2YFGY\n",
       "j8KCulJByVG1pUEqWoT/AYYcg7os79JZkHkP/Av1AiXqF35b0wAAAABJRU5ErkJggg==\n",
       "\" style=\"display:inline;vertical-align:middle;\" /></a><br>(see <a class=\"ProveItLink\" href=\"../../../__pv_it/theorems/50ae38265ec6a8295fc2b8ea1edee82cdfc608da0/dependencies.ipynb\">dependencies</a>)<br>"
      ],
      "text/plain": [
       "<IPython.core.display.HTML object>"
      ]
     },
     "metadata": {},
     "output_type": "display_data"
    }
   ],
   "source": [
    "%proving mult_in_zero_set_bin"
   ]
  },
  {
   "cell_type": "code",
   "execution_count": null,
   "metadata": {},
   "outputs": [],
   "source": []
  }
 ],
 "metadata": {
  "kernelspec": {
   "display_name": "Python 3",
   "language": "python",
   "name": "python3"
  }
 },
 "nbformat": 4,
 "nbformat_minor": 0
}