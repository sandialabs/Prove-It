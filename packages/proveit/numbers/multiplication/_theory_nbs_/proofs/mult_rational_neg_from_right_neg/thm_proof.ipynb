{
 "cells": [
  {
   "cell_type": "markdown",
   "metadata": {},
   "source": [
    "Proof of <a class=\"ProveItLink\" href=\"../../../../../_theory_nbs_/theory.ipynb\">proveit</a>.<a class=\"ProveItLink\" href=\"../../../../_theory_nbs_/theory.ipynb\">numbers</a>.<a class=\"ProveItLink\" href=\"../../theory.ipynb\">multiplication</a>.<a class=\"ProveItLink\" href=\"../../theorems.ipynb#mult_rational_neg_from_right_neg\">mult_rational_neg_from_right_neg</a> theorem\n",
    "========"
   ]
  },
  {
   "cell_type": "code",
   "execution_count": 1,
   "metadata": {},
   "outputs": [],
   "source": [
    "import proveit\n",
    "theory = proveit.Theory() # the theorem's theory"
   ]
  },
  {
   "cell_type": "code",
   "execution_count": 2,
   "metadata": {},
   "outputs": [
    {
     "data": {
      "text/html": [
       "With these <a href=\"allowed_presumptions.txt\">allowed</a>/<a href=\"disallowed_presumptions.txt\">disallowed</a> theorem/theory presumptions (e.g., to avoid circular dependencies), we begin our proof of<br><strong id=\"mult_rational_neg_from_right_neg\">mult_rational_neg_from_right_neg:</strong> <a class=\"ProveItLink\" href=\"../../../__pv_it/theorems/37625efdb0cdac8a166ed6c687d34e3447e357f50/expr.ipynb\"><img src=\"data:image/png;base64,iVBORw0KGgoAAAANSUhEUgAAAO0AAAAZBAMAAAAvYLSzAAAAMFBMVEX///8AAAAAAAAAAAAAAAAA\n",
       "AAAAAAAAAAAAAAAAAAAAAAAAAAAAAAAAAAAAAAAAAAAv3aB7AAAAD3RSTlMAq1RmmUTNIjK7EInv\n",
       "3XZ/CtNrAAAACXBIWXMAAA7EAAAOxAGVKw4bAAADdElEQVRIx6VWXUgUURQ+ujv7M7NuZj8ggiz5\n",
       "4EvWYiVpIRuuUUS6sC9RQStGkUSsEUFQakRUGLqgUCtU40sgBq4lmAThW1YYPtivLMzWYz+EFIaB\n",
       "dM7szp07sxMLswfu2Tvf3nPPPb/3AhRBu+yJOaE4Kg3Zk3MnitP7UN3EYt9Cgs3F6R0i9jkfFxQz\n",
       "Is4kh+P6Z5kMUE6TGlvumiVfp4zg2DyyL+almTm4UqV/+lFpK01O20qPlOZrnk7icMlGTNoTBKE1\n",
       "AbeSSGi3uApw1Xag10WQtZjRZRwOU8L1u5AluKh2Zs8mBezoHSSrZs2xXSX+KufPe+l39Dsyiuyp\n",
       "S191EM8WRN220uo7hTdmAqWFnD10hnNZf4uJAeRbnH1s1Tcc8+n0a1t6N2sx7n7ew0BXdQadN6nO\n",
       "L+bC7ElFkUcduldP4D8H0A8Wu6YK6k2SGvSW8AIesESa6BJXABqAz1ZBqUc+UBrUQ4Smd4O73GLX\n",
       "wr2ogyoRbXgUhMMM3C7DG4Ct6lyLgTtFdRr1R9iqXpx6ZSnCbzc+vD7O9HrOmGCOFnH4ULQdYEk1\n",
       "lfTsB/iL9qiyGMH0R5rl4qtX1wSKlSosrTyZZMT9DKR63d4qE2yyl/S+BPG32oVIZAkErKTj2XTS\n",
       "Vo50m/K5l1IsxgorjJ/SeRB3xKfCi2HVC3MG+EI4HI6Y/CyugeMnV75OrKQ6db6ggcfU+uWOPUiu\n",
       "e9xFbmyeBj8F/mYtgKIwP69lZAPMUSUOrwLiMpTEajXwD4UbGtX5D9bZqF9t4poT5TNcxrQS33tW\n",
       "YIygpiCv1//JHzLAHFERSih7H+pCLAs3wDDyQ9maYoUzif15Iye6l1gJutEZ8swCVZm6uZLS9HqD\n",
       "jpgBBuOhPejL0a83qllLGJ0i77zN9ovKo1pGt5/61ceJ7tMmvgjeEQ3YtQNHcg7N6vD1OcsNMEeU\n",
       "U/DB8qbKRVaYyfZJss1w53ayxI57m+R+tdGpCcR6P/gCFrB+H+20vKmCeVC1v+K6fh2vsrPHB6Oy\n",
       "V1aLBiTtOh7HG7oR8mCt6uhO8MYt9F6yeBNVnh1iHw7WqISWbU/AfVdVttihheJ2wNOm5MMaVRiK\n",
       "lKM7BTpdmemw48kkxmz6GgMC1jD/vurJ39Yft/W+cta05XqDIFvCzHcpW/fYf58ZA7u1OFjDRb+f\n",
       "0Zx/WuLqMX0BQlEAAAAASUVORK5CYII=\n",
       "\" style=\"display:inline;vertical-align:middle;\" /></a><br>(see <a class=\"ProveItLink\" href=\"../../../__pv_it/theorems/e2528cf03a7626146ced6dcc1596a6d8f53479660/dependencies.ipynb\">dependencies</a>)<br>"
      ],
      "text/plain": [
       "<IPython.core.display.HTML object>"
      ]
     },
     "metadata": {},
     "output_type": "display_data"
    },
    {
     "name": "stdout",
     "output_type": "stream",
     "text": [
      "mult_rational_neg_from_right_neg may now be readily provable (assuming required theorems are usable).  Simply execute \"%qed\".\n"
     ]
    }
   ],
   "source": [
    "%proving mult_rational_neg_from_right_neg"
   ]
  },
  {
   "cell_type": "code",
   "execution_count": null,
   "metadata": {},
   "outputs": [],
   "source": []
  }
 ],
 "metadata": {
  "kernelspec": {
   "display_name": "Python 3",
   "language": "python",
   "name": "python3"
  }
 },
 "nbformat": 4,
 "nbformat_minor": 0
}