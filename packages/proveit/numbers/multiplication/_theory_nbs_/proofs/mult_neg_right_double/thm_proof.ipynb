{
 "cells": [
  {
   "cell_type": "markdown",
   "metadata": {},
   "source": [
    "Proof of <a class=\"ProveItLink\" href=\"../../../../../_theory_nbs_/theory.ipynb\">proveit</a>.<a class=\"ProveItLink\" href=\"../../../../_theory_nbs_/theory.ipynb\">numbers</a>.<a class=\"ProveItLink\" href=\"../../theory.ipynb\">multiplication</a>.<a class=\"ProveItLink\" href=\"../../theorems.ipynb#mult_neg_right_double\">mult_neg_right_double</a> theorem\n",
    "========"
   ]
  },
  {
   "cell_type": "code",
   "execution_count": 1,
   "metadata": {},
   "outputs": [],
   "source": [
    "import proveit\n",
    "theory = proveit.Theory() # the theorem's theory"
   ]
  },
  {
   "cell_type": "code",
   "execution_count": 2,
   "metadata": {},
   "outputs": [
    {
     "data": {
      "text/html": [
       "With these <a href=\"allowed_presumptions.txt\">allowed</a>/<a href=\"disallowed_presumptions.txt\">disallowed</a> theorem/theory presumptions (e.g., to avoid circular dependencies), we begin our proof of<br><strong id=\"mult_neg_right_double\">mult_neg_right_double:</strong> <a class=\"ProveItLink\" href=\"../../../__pv_it/theorems/6e44eef2151636c29ddadbbfb199eef7b88b064e0/expr.ipynb\"><img src=\"data:image/png;base64,iVBORw0KGgoAAAANSUhEUgAAAR0AAAAWBAMAAAAP9FU/AAAAMFBMVEX///8AAAAAAAAAAAAAAAAA\n",
       "AAAAAAAAAAAAAAAAAAAAAAAAAAAAAAAAAAAAAAAAAAAv3aB7AAAAD3RSTlMAq1RmmUTNIjK7EInv\n",
       "3XZ/CtNrAAAACXBIWXMAAA7EAAAOxAGVKw4bAAADLElEQVRIx8WWXUgUURTH//vl7s7qtq9SyICR\n",
       "DyntQwgamGFfYNFSED1ELvQQBcH0WFhYEEQZKgi2BbJSRGIsW4QvgUgQRJFIJPhirLQRRYgQVPjU\n",
       "uR/rnTu7e6e3Dvx25v7nnDvn7v04A/yLORJdMQlRF/DxrfOK+pa0BboCkxApKeDjy+2MJMUareZ8\n",
       "dkp0xSx8duHny5NMCw6wxjljOlZWoCswCmjIK/x8uV0QXGeTPGrMJ5wW6AqMAkK9Cj9fbrsFLP+E\n",
       "bcynUaIrZgF468LPl8t5ToiybTAvnx0SXTELwFkXfr58gtOC9ysr78z59Et0pbD65KXtFipW6INF\n",
       "u+QZFMZgq5zGFE1SSnAYuG/Op3qUrNWbbAkvuoWKFdsRWgc6oUB4hVuqVnAiOI+9tNCygkuIpmrt\n",
       "v/GWa/L2g0QZtUJOaCOQdgkVi9lHEaAN0g6FMfgGZdYMUFaceD6R0QNiq7mMNeYEH8j2a4F1kY9x\n",
       "SLRiCPN9a/2quDzmj5ctLKCRTsERKDTzBufJe4G0dUGw5F3O++mViQKwR89H7xL8pWQf4Xkc2cAI\n",
       "9XAaCnPwQD72h8LmBcj20M/aoTJVj8gqAvyUxMObqvbUnC/qxrHyNeaLDf0HXTpcaOunKvggkmyu\n",
       "FgV4Tqdi0mluoPVe2JIfxjTzaWtTL5iUaMp0ZhsSmkvF4imM0aXLhTl4jIUgNCrAIGtgMka3Vzrw\n",
       "DSeYT3e36qB611Jr1+0jOK65bP4/qchP1ynR782nKngfBlgFKAoQYCsUv/mjrWhBZy6Xs2+dUh3c\n",
       "lWjKo7Vgn625bNanrWXW2ZILc/DU3DFaK00ZgdxT83y1LOEN7vBDgdazJZ81DQmU6a0qIUGbJ7qo\n",
       "MPlymyWuSrgNJrJhzADLkXU6AFiJfeFgzlMa9WKJesIsntqqCNeutHr21iu69EnEnH+Z+45hG9u7\n",
       "sojeY8rM+fHNcUxIlE14X+ISPtGsA5dd1Pfl/1cpUBTfGN7vDNty4jScmVxOPyGnJbpST2gtZ1xj\n",
       "mKjOxxMc7GHfYHFH4D7I8oHSyVoFLFoS6ApMQtJRwMeX21eJe2IR6Sni/9pfWB31k0GWFRcAAAAA\n",
       "SUVORK5CYII=\n",
       "\" style=\"display:inline;vertical-align:middle;\" /></a><br>(see <a class=\"ProveItLink\" href=\"../../../__pv_it/theorems/3ffd9eff84f5bb8f479f6a267f4a9f1bd707bc6f0/dependencies.ipynb\">dependencies</a>)<br>"
      ],
      "text/plain": [
       "<IPython.core.display.HTML object>"
      ]
     },
     "metadata": {},
     "output_type": "display_data"
    },
    {
     "name": "stdout",
     "output_type": "stream",
     "text": [
      "mult_neg_right_double may now be readily provable (assuming required theorems are usable).  Simply execute \"%qed\".\n"
     ]
    }
   ],
   "source": [
    "%proving mult_neg_right_double"
   ]
  },
  {
   "cell_type": "code",
   "execution_count": null,
   "metadata": {},
   "outputs": [],
   "source": []
  }
 ],
 "metadata": {
  "kernelspec": {
   "display_name": "Python 3",
   "language": "python",
   "name": "python3"
  }
 },
 "nbformat": 4,
 "nbformat_minor": 0
}