{
 "cells": [
  {
   "cell_type": "markdown",
   "metadata": {},
   "source": [
    "Proof of <a class=\"ProveItLink\" href=\"../../../../../_theory_nbs_/theory.ipynb\">proveit</a>.<a class=\"ProveItLink\" href=\"../../../../_theory_nbs_/theory.ipynb\">numbers</a>.<a class=\"ProveItLink\" href=\"../../theory.ipynb\">multiplication</a>.<a class=\"ProveItLink\" href=\"../../theorems.ipynb#distribute_through_subtract\">distribute_through_subtract</a> theorem\n",
    "========"
   ]
  },
  {
   "cell_type": "code",
   "execution_count": 1,
   "metadata": {},
   "outputs": [],
   "source": [
    "import proveit\n",
    "theory = proveit.Theory() # the theorem's theory"
   ]
  },
  {
   "cell_type": "code",
   "execution_count": 2,
   "metadata": {},
   "outputs": [
    {
     "data": {
      "text/html": [
       "With these <a href=\"allowed_presumptions.txt\">allowed</a>/<a href=\"disallowed_presumptions.txt\">disallowed</a> theorem/theory presumptions (e.g., to avoid circular dependencies), we begin our proof of<br><strong id=\"distribute_through_subtract\">distribute_through_subtract:</strong> <a class=\"ProveItLink\" href=\"../../../__pv_it/theorems/f54775d75e29b865004be2f92ced83822dedbe490/expr.ipynb\"><img src=\"data:image/png;base64,iVBORw0KGgoAAAANSUhEUgAABBAAAAAzBAMAAADcPOZIAAAAMFBMVEX///8AAAAAAAAAAAAAAAAA\n",
       "AAAAAAAAAAAAAAAAAAAAAAAAAAAAAAAAAAAAAAAAAAAv3aB7AAAAD3RSTlMAq1RmmUTNIjK7EInv\n",
       "3XZ/CtNrAAAACXBIWXMAAA7EAAAOxAGVKw4bAAAL5ElEQVR42u1de4xUVxn/5nnv3HnsaNXYouso\n",
       "FUjahUlFTGlTRim1aV3YWP9oaMOOBWPYxHRITBqq0rHxQVJgwYLtoi4XalpZKrsgJT4CndYoWlJc\n",
       "69Y0267etZsgoSJuweURu57HfZxz7p25d4a7yx2yX3KZ757Hd76d8zvnfOfc+xsA3KSvrw9m5NoW\n",
       "T33898lzV8/DRHmml6ZQlJ30c9fkRffCr19NT6+b6awplc2qrtwabCCEBvj7kn+mpao5vjVSCj4Q\n",
       "woPNAYRF/G0m55/pf1TNWeVXE6uaYEo40BRAkI7x9zf5OBQGqmZl8tYa+uNBPm/vqx4WXqMSYyiw\n",
       "ks43AxDSGv8NF/0z/WyNvC5LjReEvDUebJuVuppgbXilGYBwO38b9XGELa2Rt9BSW8TFaNyDbbPS\n",
       "wiZYG9Y0AxCO87cpH01XauSlVFPtVPms2CUPts1KKTX4QOgsBR8IGeFbn+PjjFhrlYlbM88RISs5\n",
       "6MH4EQdDgZV4NvhASGf5+3tx/DjrJB84wLqjGzyEnUK1KIoVlTM3PHGQD0LG8rAb9bbV7pfPvJ//\n",
       "2lpH3XcuZqVktgmChEvBB0J3mb9fja4HSwl+nogdg13uMzCt9hw36KMwqrXz4z1cgSUAEXO6UP6r\n",
       "9nOnAf1dyoTrroFWKhuG2kew/DmgQFDeCz4QPiLcv4bc/i1EB0Fhzheez0M7KL95X00w0Gpw1Jps\n",
       "0Lj+DCxR+ZPLx1Gh69EgqTDDJaWxrS1Q4YRbY6QSwBusoQDLT4IPhJeE+9+hUXwW0gOw5V90eOIB\n",
       "twLgTTS4cT+jsWg3QgrRavp4JWFcBx6yd9GdJBmxqN9ARR14AkA+a5SLFqFlgG0N1bjs2hiuRG6J\n",
       "oaDLklLQgSC/awdCaiv0oz5so8Ma79f/CMp5aOmQLuCUIYdAAxfSq4FZJkXuTtjjfRnZiVWMcgg9\n",
       "nTm2tTchNu7WGK1Elq1mmBH680EHQmbCvjT0a3gR17tGX+IiZyGi0r6p+seSaquy3NIAsQkQnr7e\n",
       "BZkKcwCPTwRWqExrMA7RS26NkUrKWM4wFOwYAVLZoAMhIY6nXtSjOfhQuMQCYRxCxblu+zpS7VHN\n",
       "CjMTGig7QhUQDpq3QQJ9LZGtZp+WUXTBAuECjklcGiOVoniDahkKsCQGgw6ElPg1HsAdGB6Kcl3T\n",
       "C22FAvM8lS7UZAHvL1r9jqpJe6z+Qxu78IWfVmLCXvCz0Jmne0sqoXyiwLV2HWwHtjHSjtAYqdSX\n",
       "LLCGAizJsxQIZGKYXRMIIRILT/vhSH9BSNiMvvPWX677J9c1u09/v7UM0k5hoR4yFNpfpFrCOkqQ\n",
       "0dZjuXbjLUILu4+uQKFTusOsN2sp8K0dQl8D29gQ2BsjlfAG1TIUYImcp0BYhj++WhMIUfz3xKf9\n",
       "6Xq3JoZi5rlCm1j26/CIB2T9zNLfqFLmMLq+JaS1NdJYS8luKJAiv0eB8G187ra1JhBkPGusn3YP\n",
       "F4hneJFCta6Rnt54j7vBOVFLd3welCwqL4P9gVRbI41tgtpPtoJzonSOAiGO1rtkrnaMgB+nHpz+\n",
       "DW5ZTHlK//zGw0eFcGJy0sOWffdJJkRymuDSGn4lShwWYmveGht1GV/Bkf9QIETQWhZ3CRY/hT6K\n",
       "0+7gv219tdfHceDUSeE7llXDSN2y2i9DUy4X9V3DqyMjx12AkBoZeWv6A+AXVTFF0vyzXv1J1Ukf\n",
       "rMfvr/hjaBrk9zoQ7gZAUbBC0Vt2BEK0DAl12h1coULTSnSseZwf0YGwDiQUDCY1JpiWhl6A27MW\n",
       "EFCBdVcQlq61a065WDLbW82h+jGYkemQt3QgJNQkt93dcv0O+HhSjarMgdJOeOEKWprloNlz5dGe\n",
       "DmVbKfyjGSBcHSCENS5WjKKlAmZrhSSzNMD8K4oV/+Cg2XPvRMtScj/AbdfC0tBMYiwNULwDIDZK\n",
       "QumxHLyNlXmf3MABIR5BK4fyi9NGGMyoTCBuJmbGNnweyEOeLDmxGFWNs4tR1X6eQdPIu9/PfJdh\n",
       "nrxob6IEwaSNlDwlXW2RwJHXYwSLcLALYH8L7o1ouEi3VfOSex5ggZCcg7J/Xuo2/jpGtcRKPBna\n",
       "+hAChnZJruAuHs7oJ0GWxkQFehrZGs6dy24fbZErJrj4SXLxTexUliC6GdPoJchLBhC+iYbto+T0\n",
       "rC9ZiJFHCvOgcIoFgoQL34lPy9aT4YvV2PxlvEGSn8BaPqGhTpT2DGYwrBL5SJEez2Pti2P8ATxO\n",
       "AxSQ3IdvFi+ueaB0E/hKcuGms0aoLGYZO5VlitwUvbK5XbPS2/rFyzkDCCH8hffS7W8+sran5wcI\n",
       "CPviLBDgw4DfCxkFuY0AAasp6OcN4kRdWsjUEBoIYfylytHs48OgaxWFP5bDafhzUU9PT27j/UzO\n",
       "AvGRDSa4+Ely4Xf+4lzlhcpilulycHVKZI2b27Uq4VPkuLg4K5cNIJC7S2XagfIAnRFi8zkg4CIT\n",
       "8GQfpFVDlchxOmMQJ4bpaewmskSmO1LYagukckCAgLUSWS4swWmRhQBP4BscLCpGTrc4zDDBJTpV\n",
       "D0EborKYZRY6uDolMu7mdq1K+GFNpGAL0lgghIsFZYA8KSFz+KfBGt3m+wjH5POLMRBQQaLCDqzu\n",
       "M//BieEbkSZVDgM2ly53AspKq6iVYVNLdDB1aNojzwI9sZIOlaw3TFtEl1PgL8mFk0aoLFYZkcoy\n",
       "VW7avOpU66n0in6xEh7nZoTWkvwy6f31aBDLfy3RlxA4IHzpltN5DARUkKjRMlY3leRj+B898Wmc\n",
       "tvyBMyr6CC/9IcJWTl6uESDo2t1EO6ZXpGm34Wd6uI19a7ebkUFanF7ngK8kF14aobJYZUQqy1S5\n",
       "afPqSF2VVusXF9ZOsEAg0CCFlF/17OAK8m8o4aUhTNVfZ0wVDE0ZzBlpYXgOnkSfdO4aNrSkqhlp\n",
       "YOZ+EGOgp4cPCkIVweV7wVeSC09waYTKYpVJeuLi2FM8uLl/KSjZql6Jbtd28wBYRHjzaz4rAmEl\n",
       "eVJiEw4I8jvoq1tJzU/+z1BJbfrRqxraSmiNoTEdI3PXluM5XXt4clDXyKxFNcfRFxGnQQPPPpFc\n",
       "OIJLQ1QWWkYGlhNjuWpz0yHFg5sDN+PXc6t4ZXO7tpuLwPabE/obgSwQ8s5PSuzvLOadVJuWh/tO\n",
       "46/I6thqWuYTjqGvLAZGr4GvJBeO4NIQlQWXoS9OiVQWRzdpyr4DN9Tjppxrh9BWrsVnLNQRt10s\n",
       "Mm7eDPRi5TFNBEIVmfqXV8MfcE53ILg0RnKhZBWR5GIQXCxWCrVJc71QWXAZvbsIJ+Zr5MX1cjU3\n",
       "aUoB2s2U2m7S13BRJ2LilNWifGbQKo3ddrHIuNmtX6wEn+ACX3AGQv0kF5JmI7kYBBeGldJm5Xqh\n",
       "suAy+uJUsblqd5OmnIfHysC+7FrdTVIGxfzdZa5FnXdhMnBcLDJuPqhfrHwUAg+Ezg7HpcEvkgtH\n",
       "cGmIyoLLwP7PAcuJMV21uamnLKbd5tlNNOjf4VtkGiNuu1hk3GwD+/ueTUCCFSHeC36SXHiCS0NU\n",
       "FlKmgLeKIpXFyU0jpfaWz87FycI2vkUWCMRtl02k5eat9i6PNAEtXtw26Jsfn0guPMHFG5WFWLNM\n",
       "4jKKegjsVBZHN/UUebgeNyGajb3Le8UAgbotWLTMim4aG3B2tDXBD2WIP52zGfwkufAEF29UFhpO\n",
       "FLgyZKsoUlkc3dRT1qv1uIk8G5vgvWKAQN0WLZpmRTdft/dnM/x0Dtre8eAt+0tysUtDVBbcTSKV\n",
       "pYabUkEq1edmUtgOiAGJJ4vYTWmQXqzoy06wgRDnJ1z+mcmVk1xcgeDJJHmIJlJZqrsJ6zd+R63H\n",
       "zcPwfK42EDxZxG46PLUznkMEGwiy8IObT4GvJBebNERlyWSdqCxV3YQ/TU7W5ebfxDc9pcOXtfot\n",
       "YjcxW01grKVzzQAEOMXf7gVfSS4+TVt5JyqLf27OHuvwy012IDEBeBMAQfhRbknzl+Tih3wFv5Vh\n",
       "n2aC6GamRC92ZSh6B8JfruZ/3PEQBF2W3wPNIFXc/B4NLvr6TrmbmPmPO65dUfRX7HZNXvw/cM5H\n",
       "07k7mWkAAAAASUVORK5CYII=\n",
       "\" style=\"display:inline;vertical-align:middle;\" /></a><br>(see <a class=\"ProveItLink\" href=\"../../../__pv_it/theorems/22ad0e3d9df21a516da25d7e458f8ec34dc54e1e0/dependencies.ipynb\">dependencies</a>)<br>"
      ],
      "text/plain": [
       "<IPython.core.display.HTML object>"
      ]
     },
     "metadata": {},
     "output_type": "display_data"
    }
   ],
   "source": [
    "%proving distribute_through_subtract"
   ]
  },
  {
   "cell_type": "code",
   "execution_count": null,
   "metadata": {},
   "outputs": [],
   "source": []
  }
 ],
 "metadata": {
  "kernelspec": {
   "display_name": "Python 3",
   "language": "python",
   "name": "python3"
  }
 },
 "nbformat": 4,
 "nbformat_minor": 0
}