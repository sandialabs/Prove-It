{
 "cells": [
  {
   "cell_type": "markdown",
   "metadata": {},
   "source": [
    "Proof of <a class=\"ProveItLink\" href=\"../../../../../_theory_nbs_/theory.ipynb\">proveit</a>.<a class=\"ProveItLink\" href=\"../../../../_theory_nbs_/theory.ipynb\">numbers</a>.<a class=\"ProveItLink\" href=\"../../theory.ipynb\">multiplication</a>.<a class=\"ProveItLink\" href=\"../../theorems.ipynb#mult_real_pos_from_double_neg\">mult_real_pos_from_double_neg</a> theorem\n",
    "========"
   ]
  },
  {
   "cell_type": "code",
   "execution_count": 1,
   "metadata": {},
   "outputs": [],
   "source": [
    "import proveit\n",
    "theory = proveit.Theory() # the theorem's theory"
   ]
  },
  {
   "cell_type": "code",
   "execution_count": 2,
   "metadata": {},
   "outputs": [
    {
     "data": {
      "text/html": [
       "With these <a href=\"allowed_presumptions.txt\">allowed</a>/<a href=\"disallowed_presumptions.txt\">disallowed</a> theorem/theory presumptions (e.g., to avoid circular dependencies), we begin our proof of<br><strong id=\"mult_real_pos_from_double_neg\">mult_real_pos_from_double_neg:</strong> <a class=\"ProveItLink\" href=\"../../../__pv_it/theorems/aace6015f0e5427f3c0086e3a89bbacdc7d02b040/expr.ipynb\"><img src=\"data:image/png;base64,iVBORw0KGgoAAAANSUhEUgAAAMcAAAAZBAMAAAB3HyeqAAAAMFBMVEX///8AAAAAAAAAAAAAAAAA\n",
       "AAAAAAAAAAAAAAAAAAAAAAAAAAAAAAAAAAAAAAAAAAAv3aB7AAAAD3RSTlMAq1RmmUTNIjK7EInv\n",
       "3XZ/CtNrAAAACXBIWXMAAA7EAAAOxAGVKw4bAAADMElEQVRIx61WXUgUURQ+ujM7szO700JPEchC\n",
       "UQ9lDRSCErLiKkpUW0IPFbRgEAnaChFIottTRILzUNj0oyNFYAbaD0k9hC9RFoYv/bOwW9CDRYQg\n",
       "hpF07t3Zu7N3t3U2unCGM2fuvd/5PwPgenmiUOYSbCpjbSwXA3xIklHOCSVGjhTKpdIgUF+WWjo+\n",
       "PhXKxRQnqJkZ6ZzRGUjAAggSZoMLkF6kysl82dgsPj7zO41u2F9rZUE0RGgizHEXILuRbvHCY0he\n",
       "iwc5Az45CK3mNdPUQVkGOOs2OItIjbxwgWRduBBEiMeylkB7Rg81tDqGjArBNB8PIoQXmRftevJN\n",
       "DsRgIK2oB4bI68IQbQ5DEuOE6pytKgHssnKWVNwOMpBvSLPJ5EsXIBUIIJC4dz/pY0JvVRqdcJfy\n",
       "py2Hu85vijOQo/ihBeCKmwxG+71otfgMRth1Ex3KEuYs5CeP0dv5ex5YtQ8mUDOQgi5AvLgpgGrf\n",
       "0WEPE2634BXAVsrHHIHf4UzDfmxHPktlTUk+YTPVDxu68kECmEN+3LgP4CM1glzaDPALVaVH0e3J\n",
       "9zaI74aeOzmBpypTjrivJ9vTZlRTYWqywBICMgPKYhYU4URM4iO06xgOS+SwIwL9CWKno7s8R4qg\n",
       "UNOgLiVFIpEmzl3KCnh+OMpEwCSupvycs05aenJ3DpIcuNeBj/H6KWLEStrSiKUIMp9fYxWoqS8F\n",
       "ygLm2eas8CcJEdRS/rsTZEzL+YtkF/SijspbeYnc/UELj9GqUKVhPb9OsBBV3DkM1WEGvxYu2g0H\n",
       "TWUVbZzC6rvETu6iOqJ7hLA8TTutJ9ZGrxSuGoXFLaNLRr+eq0pkhaMPiCavM6Ng3SHWhYfAPMkw\n",
       "G7KMP0qaJfgTQrDGNM2QpqkHuBx+ivSuWHJLdjTER3Zb4VY7S7O4rw5dtwb8oQvUEk08bBV24Z1F\n",
       "h6xeetgtM0vig23WOA6YWqwbGhN4zDXXAeLOeJFbelb5NWClLjZuuw8DIXlvCqTL+H7wy+TNZq55\n",
       "hfKKIbeGSoMEOMUysRo3zejfZnxfkfYcLw3CzXjRKrl7C/zL4gei53//d9G0QM3/ACHsvZ7p1PMi\n",
       "AAAAAElFTkSuQmCC\n",
       "\" style=\"display:inline;vertical-align:middle;\" /></a><br>(see <a class=\"ProveItLink\" href=\"../../../__pv_it/theorems/3b98d5960093d90daa2ecb9271027339a12fc54b0/dependencies.ipynb\">dependencies</a>)<br>"
      ],
      "text/plain": [
       "<IPython.core.display.HTML object>"
      ]
     },
     "metadata": {},
     "output_type": "display_data"
    },
    {
     "name": "stdout",
     "output_type": "stream",
     "text": [
      "mult_real_pos_from_double_neg may now be readily provable (assuming required theorems are usable).  Simply execute \"%qed\".\n"
     ]
    }
   ],
   "source": [
    "%proving mult_real_pos_from_double_neg"
   ]
  },
  {
   "cell_type": "code",
   "execution_count": null,
   "metadata": {},
   "outputs": [],
   "source": []
  }
 ],
 "metadata": {
  "kernelspec": {
   "display_name": "Python 3",
   "language": "python",
   "name": "python3"
  }
 },
 "nbformat": 4,
 "nbformat_minor": 0
}