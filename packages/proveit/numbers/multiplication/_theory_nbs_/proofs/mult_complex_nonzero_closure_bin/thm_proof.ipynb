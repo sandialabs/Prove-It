{
 "cells": [
  {
   "cell_type": "markdown",
   "metadata": {},
   "source": [
    "Proof of <a class=\"ProveItLink\" href=\"../../../../../_theory_nbs_/theory.ipynb\">proveit</a>.<a class=\"ProveItLink\" href=\"../../../../_theory_nbs_/theory.ipynb\">numbers</a>.<a class=\"ProveItLink\" href=\"../../theory.ipynb\">multiplication</a>.<a class=\"ProveItLink\" href=\"../../theorems.ipynb#mult_complex_nonzero_closure_bin\">mult_complex_nonzero_closure_bin</a> theorem\n",
    "========"
   ]
  },
  {
   "cell_type": "code",
   "execution_count": 1,
   "metadata": {},
   "outputs": [],
   "source": [
    "import proveit\n",
    "theory = proveit.Theory() # the theorem's theory"
   ]
  },
  {
   "cell_type": "code",
   "execution_count": 2,
   "metadata": {},
   "outputs": [
    {
     "data": {
      "text/html": [
       "With these <a href=\"allowed_presumptions.txt\">allowed</a>/<a href=\"disallowed_presumptions.txt\">disallowed</a> theorem/theory presumptions (e.g., to avoid circular dependencies), we begin our proof of<br><strong id=\"mult_complex_nonzero_closure_bin\">mult_complex_nonzero_closure_bin:</strong> <a class=\"ProveItLink\" href=\"../../../__pv_it/theorems/825cd77db6a2d869eab1d7a1a46c9145c9c598370/expr.ipynb\"><img src=\"data:image/png;base64,iVBORw0KGgoAAAANSUhEUgAAANcAAAAbCAMAAADYiepIAAAARVBMVEX///8AAAAAAAAAAAAAAAAA\n",
       "AAAAAAAAAAAAAAAAAAAAAAAAAAAAAAAAAAAAAAAAAAAAAAAAAAAAAAAAAAAAAAAAAAAAAAAeYafp\n",
       "AAAAFnRSTlMAq1RmmUTNIjK7EInv3Xah18O17eXJ8+7nKwAAAAlwSFlzAAAOxAAADsQBlSsOGwAA\n",
       "A5JJREFUWMPdWNmS4yAM5BA3aPb0/3/qIg4bH7G9U548DFVxSEIASd0tAWPfoHn2LVtQ5RkwvGlB\n",
       "qd6xiuFlLWRMudyBL19QwFu8xw09o82PKXeN+2rU69mj9/z+uWVUQZ+ZiGRRtMh9ZXOydVDc2+Cd\n",
       "/fjgktZobLYGHLXf+SWZLXalsmSiLl9gI5+FfezzntPZu5ia/dcbQB7zIA+T6xhvf6p2RayDiGYz\n",
       "t7V51C4IWzi+arrvUV8JNmBFHZPdLt/YVHE4FWR46tsesKf5NjWHwWUUpo5TeSE0FphrpnOoOPzz\n",
       "1xUcLrpB/pGDk4J41KwKDMLGJa+mOUxxHTB0Kbcl3tyz7nzf4DfTCEnn2yegUbL5Uz8bLmykEZfz\n",
       "hrQgcoyt0rjBpWNmE1G3jMh5GdonLL6M5JQUH07WXK9pltNnQHMkeZoj8gqWwAfd2bEtJ2C73qXA\n",
       "EwSA3Vj+jMq7dQhUzNh3034VP2UDfGWGHIK7l7FslFqTVb/igO11iOGfSr3kPoMCzUEU6nuqkfCk\n",
       "zwzSQVUyKLSIZ3vOIFznOPGiTjNVsyhU4WCI1XuJRAd8gRN0dd5vIjUmxDoxTOXLMESpz1E6U6iO\n",
       "Xhav9MjNjfy6xRZf7SKUHkaU91kscucUZQsqxoQLQ13r417Ihng1u6Jb1lvZXW1VVetVHNL1AbYX\n",
       "PTwvCQoOyajjmira5lJoneDLOBlYAICPH5CzuiFsJXuOQz/RH+X0KntBJZ4YcHoAWbXkL6ZOc4xp\n",
       "qatrjw8Sg5l/zkLlh/rGS6uGEhUac8gDO4Lx5lmH1S5RNVLsBpJvK/uojBgQj4f1Bh/Re5ERTWyj\n",
       "fTKzsZSCPEMYECHMvK0cr5+/gOJVILxfBRukmnSTeSJjb19R8GxSr4pgpI8+KBTQaTDMi3RamcgO\n",
       "Zz4Djgg7FuRZeRdtlV4uPPJ96qyH0rz0ma148hyDNRztnuQ8zKVWUqsfnPIH9XycEpyXsrAVdyI5\n",
       "8pFeeYjU5TzgBLNWLfuCi4TXBOOAeq/5nrZHK7eqo+42Lbf6SLlT+rbjqZ7UhhzfdIMuSi7P+B1T\n",
       "8v6pGZ45Kfld9o9EL5XBVhJuplch8lKKmFAQEO6cAGc8u7vnn6dOFJLvhVQKDJI2JehYUDXJOLvA\n",
       "O4MS7iGr1XyHmei49HroAJjO5hFrsrqSlz93v2HuXTjgQ2ad3m+oB8pg8a77vP9A8yMMfs/94VZ8\n",
       "SkT+ATXKG4DUohmhAAAAAElFTkSuQmCC\n",
       "\" style=\"display:inline;vertical-align:middle;\" /></a><br>(see <a class=\"ProveItLink\" href=\"../../../__pv_it/theorems/a573f515e5a51b295ccaaf3c0dc3e7b0cbf7029d0/dependencies.ipynb\">dependencies</a>)<br>"
      ],
      "text/plain": [
       "<IPython.core.display.HTML object>"
      ]
     },
     "metadata": {},
     "output_type": "display_data"
    },
    {
     "name": "stdout",
     "output_type": "stream",
     "text": [
      "mult_complex_nonzero_closure_bin may now be readily provable (assuming required theorems are usable).  Simply execute \"%qed\".\n"
     ]
    }
   ],
   "source": [
    "%proving mult_complex_nonzero_closure_bin"
   ]
  },
  {
   "cell_type": "code",
   "execution_count": null,
   "metadata": {},
   "outputs": [],
   "source": []
  }
 ],
 "metadata": {
  "kernelspec": {
   "display_name": "Python 3",
   "language": "python",
   "name": "python3"
  }
 },
 "nbformat": 4,
 "nbformat_minor": 0
}