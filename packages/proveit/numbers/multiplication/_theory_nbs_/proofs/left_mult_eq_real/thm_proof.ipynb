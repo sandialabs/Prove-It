{
 "cells": [
  {
   "cell_type": "markdown",
   "metadata": {},
   "source": [
    "Proof of <a class=\"ProveItLink\" href=\"../../../../../_theory_nbs_/theory.ipynb\">proveit</a>.<a class=\"ProveItLink\" href=\"../../../../_theory_nbs_/theory.ipynb\">numbers</a>.<a class=\"ProveItLink\" href=\"../../theory.ipynb\">multiplication</a>.<a class=\"ProveItLink\" href=\"../../theorems.ipynb#left_mult_eq_real\">left_mult_eq_real</a> theorem\n",
    "========"
   ]
  },
  {
   "cell_type": "code",
   "execution_count": 1,
   "metadata": {},
   "outputs": [],
   "source": [
    "import proveit\n",
    "theory = proveit.Theory() # the theorem's theory"
   ]
  },
  {
   "cell_type": "code",
   "execution_count": 2,
   "metadata": {},
   "outputs": [
    {
     "data": {
      "text/html": [
       "With these <a href=\"allowed_presumptions.txt\">allowed</a>/<a href=\"disallowed_presumptions.txt\">disallowed</a> theorem/theory presumptions (e.g., to avoid circular dependencies), we begin our proof of<br><strong id=\"left_mult_eq_real\">left_mult_eq_real:</strong> <a class=\"ProveItLink\" href=\"../../../__pv_it/theorems/5b4325f56ce08f26f338042c0b94cc130f641bd50/expr.ipynb\"><img src=\"data:image/png;base64,iVBORw0KGgoAAAANSUhEUgAAARkAAAAXBAMAAADNQybgAAAAMFBMVEX///8AAAAAAAAAAAAAAAAA\n",
       "AAAAAAAAAAAAAAAAAAAAAAAAAAAAAAAAAAAAAAAAAAAv3aB7AAAAD3RSTlMAq1RmmUTNIjK7EInv\n",
       "3XZ/CtNrAAAACXBIWXMAAA7EAAAOxAGVKw4bAAADRElEQVRIx71WQUgUURj+d3fW3ZnZnfYUiCEL\n",
       "RZey9hCCHrYVy4qCFgUvSS54CDrEeCwMrGMZbqfaAhnBQ7LgrgUaBSJFEEUhodRFGMkyPYinDE/9\n",
       "7/1v3dmZtypt+ME3b2fet/O+ee////cA/gdMQTdC1cR7fcG/wIgTPQjacrEHVwVj7OZwbW6OCXrx\n",
       "XS72WkwQz7KbazWZ0TJECeosmViC68Q7bHmzNblREkQJAimZWIJTROZej9fkJiIowweZWPYOizOA\n",
       "XutqC5ujgjL0ycSyJU0QPy0ufqzNzUXBUMNKOYcmlp69ximflImdQm05AaO4PDHieYAnexgyVb2r\n",
       "T7DHVLfKeqNRmQNo5rGyyBEDiVD3z8JpDLAMsR9CsaoDNU213aBfOwT6F6L2Ftj4InzNwJYPZ/64\n",
       "RFwhvIs/6wHQE6dq6WnpIOGlXNrQYbq4m5t3RGUDokyr/WZ/BoWn8rBEXCG0IjZ8Rv0G0W9XCeIz\n",
       "g1iRDGi19+gmkoUC/655yhL+vx6JuFLYa4X/YNWeJUImiZd8cpp1rZ9bxu0iuAQ+XhqZm7WUww31\n",
       "86LPNBUrVbBZAGyj19Qwa5vcceMRdoDBVmmOCM+xBmpfw5tscLO+DhNh4oA1BOO8YuuhkUTZDe+/\n",
       "kEMkuIYwQizE4aC/tPWNpw+Bjm2Le27cQngIKtoMZIkwgDdKKsymKQAjYWxuNcEqdPHhladZRxSL\n",
       "fihpCJNE1fbPK6UxTt67BJ0ioSvgFkIb9LJaXiSCD+MjkjYosTb5tQEaoRlnIG4YemdFTm1uv4Vp\n",
       "CA+IWuPL/l+l3rF1fzur8AtuN24hjM5cxnmKpokcBVNtZRtceJYfSRbgPdznc2MEr1gON6yfVopr\n",
       "CNFBouyAM+d+IhFOIW8LUgKYw11WHgb0jAJ5gG/BDcx8HjfwyhHFvF+AacpbYyBVdUPdeR/VM9ob\n",
       "bNoFKUPaT7yAobjyY2YNGzjSkoHQY3ze/bM41lF2w/sFmEbgkaAXN72PXMKo7SvSKcJ9khBbeVwz\n",
       "VfymfC7nKIvuekMakUCCuw4NXqE/yU5Yqkl0nhst0fjsbs9L3G6cmpBN9B7pJGddqXBF0LmkpSaY\n",
       "LO7qRqbZP5j7Mchfs5Dz23mhKCcAAAAASUVORK5CYII=\n",
       "\" style=\"display:inline;vertical-align:middle;\" /></a><br>(see <a class=\"ProveItLink\" href=\"../../../__pv_it/theorems/fa96787d597ad4c5a5f2870981c6361100af37fc0/dependencies.ipynb\">dependencies</a>)<br>"
      ],
      "text/plain": [
       "<IPython.core.display.HTML object>"
      ]
     },
     "metadata": {},
     "output_type": "display_data"
    }
   ],
   "source": [
    "%proving left_mult_eq_real"
   ]
  },
  {
   "cell_type": "code",
   "execution_count": null,
   "metadata": {},
   "outputs": [],
   "source": []
  }
 ],
 "metadata": {
  "kernelspec": {
   "display_name": "Python 3",
   "language": "python",
   "name": "python3"
  }
 },
 "nbformat": 4,
 "nbformat_minor": 0
}