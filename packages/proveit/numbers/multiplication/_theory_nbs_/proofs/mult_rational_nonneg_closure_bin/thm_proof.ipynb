{
 "cells": [
  {
   "cell_type": "markdown",
   "metadata": {},
   "source": [
    "Proof of <a class=\"ProveItLink\" href=\"../../../../../_theory_nbs_/theory.ipynb\">proveit</a>.<a class=\"ProveItLink\" href=\"../../../../_theory_nbs_/theory.ipynb\">numbers</a>.<a class=\"ProveItLink\" href=\"../../theory.ipynb\">multiplication</a>.<a class=\"ProveItLink\" href=\"../../theorems.ipynb#mult_rational_nonneg_closure_bin\">mult_rational_nonneg_closure_bin</a> theorem\n",
    "========"
   ]
  },
  {
   "cell_type": "code",
   "execution_count": 1,
   "metadata": {},
   "outputs": [],
   "source": [
    "import proveit\n",
    "theory = proveit.Theory() # the theorem's theory"
   ]
  },
  {
   "cell_type": "code",
   "execution_count": 2,
   "metadata": {},
   "outputs": [
    {
     "data": {
      "text/html": [
       "With these <a href=\"allowed_presumptions.txt\">allowed</a>/<a href=\"disallowed_presumptions.txt\">disallowed</a> theorem/theory presumptions (e.g., to avoid circular dependencies), we begin our proof of<br><strong id=\"mult_rational_nonneg_closure_bin\">mult_rational_nonneg_closure_bin:</strong> <a class=\"ProveItLink\" href=\"../../../__pv_it/theorems/ed8841db66e9ccf6fb0f91d81d97229925a98d230/expr.ipynb\"><img src=\"data:image/png;base64,iVBORw0KGgoAAAANSUhEUgAAANkAAAAaBAMAAADI7ORfAAAAMFBMVEX///8AAAAAAAAAAAAAAAAA\n",
       "AAAAAAAAAAAAAAAAAAAAAAAAAAAAAAAAAAAAAAAAAAAv3aB7AAAAD3RSTlMAq1RmmUTNIjK7EInv\n",
       "3XZ/CtNrAAAACXBIWXMAAA7EAAAOxAGVKw4bAAADwklEQVRIx7VWb0gUURCfvDt3b/fuVOpDUciG\n",
       "gUFZR4WlhChqmpGd2IeMqAuDyA91hgThv4uCAiWjLDPITojClLIMRAPxS6iFYdD/EPaM6EMRIZhh\n",
       "IM282112987Yk3rw3u3Nvvdm5jfzm1mA/zr4q+xHHOpdzGmbL84D3ZdpzYEKsMevbU3cJzxXcBmF\n",
       "pAB3Kd6jgh8XLlrO/Q2ODuDmwCWhg3EOpxeXqWi5Q46GsL29SFE3ws+B2wvuEEAyCdIsaqvDmWAK\n",
       "eNc4Lp+iAFwV5F6yncKAD7W5ZPCgqkKSHLWobRfOO2bhEZyJIZOwrw9gbwWBnBckJJMkEOYAzpDE\n",
       "agBncOabhdOEVq4p83sxwk6bDFxKUMkSgMqIVaJkkT1oHQybY0ZCeKYAeHPyDQvwPYRNDPqFZQH6\n",
       "+x3KcN2JVmHgE61m8wSGzW8SihO0VkY0H1cQ7eIxbxKkYiGksLsE1284xycnn1vUtgQ12Sn01UMN\n",
       "mjAxNYzQPGTPp9TwNTnQCYd3k+H4IXxbDHDDKgEwvol0zQjc0tLiQZUwC5AJhmw7aEMLeNmY6y0Y\n",
       "wmrgkhe4/fYgpdDUF80N3OjGa3q8sFvbtDEELwDWs2cN5doE5ttnvh1HmyJsxLLnDIla8eOPaeRs\n",
       "TcH41hZRGmlhdWPmuXDzHoCPzC26fQfAb7SbHceoTL5nKETiVmIw/gEeTZB1SbKSzoTbfdwTEAn0\n",
       "+4XQA66QzjfSNgbCjKod9TqQAwcYkTUmOe9GctKgrZHI4NcVsFGcBSgUT4KwmZK33lcP7qARSWEe\n",
       "bD90dLMjBzLY84RGiwjfjMxqoQsfVRFyOf3k1nw45KFaeCEdQEYwzg2SbwE1J9F2pwzCNGZnunrH\n",
       "LwojZEGEV+rIx1pSVgFROQl1aLHwlp8lQn3w5HbRi2wv01bGyKgh7UFmi7i7AzJyteKxFFqVmoZ7\n",
       "NWdEqpOmArOdWYxA2XP5YVbjbf5ykpFfcm+nxHJyq75s8IhW59fzqSq60PmYwHgd6Ugr9qvimp8n\n",
       "ik0pnqc+uHxUocEVtCdnYs5K+xQkTeMpznexuMIpEXMMRCoXjuU28/lKLTkDzmxENQm7XhMDgmVJ\n",
       "TUFBgc/cA7bE0mb3RhceObzWcFiY03wLtJSHurHhZSH/GAtAjNH0mgntQAxtp2PIVl8bM9hg04qI\n",
       "I39DHzRLfCn2iOuM3a8OB2MUSklPKt1os1D33CYzJbXHIwL9Zxf6LmmI0RwCFrSZvksc+gZsTyuN\n",
       "8TW3bvGfluaWbTP8u7jtX3xP6sxHX/4A7yDmzNKBENMAAAAASUVORK5CYII=\n",
       "\" style=\"display:inline;vertical-align:middle;\" /></a><br>(see <a class=\"ProveItLink\" href=\"../../../__pv_it/theorems/542b9756ee677372321f3f4b48622309a0c977290/dependencies.ipynb\">dependencies</a>)<br>"
      ],
      "text/plain": [
       "<IPython.core.display.HTML object>"
      ]
     },
     "metadata": {},
     "output_type": "display_data"
    },
    {
     "name": "stdout",
     "output_type": "stream",
     "text": [
      "mult_rational_nonneg_closure_bin may now be readily provable (assuming required theorems are usable).  Simply execute \"%qed\".\n"
     ]
    }
   ],
   "source": [
    "%proving mult_rational_nonneg_closure_bin"
   ]
  },
  {
   "cell_type": "code",
   "execution_count": null,
   "metadata": {},
   "outputs": [],
   "source": []
  }
 ],
 "metadata": {
  "kernelspec": {
   "display_name": "Python 3",
   "language": "python",
   "name": "python3"
  }
 },
 "nbformat": 4,
 "nbformat_minor": 0
}