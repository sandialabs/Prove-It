{
 "cells": [
  {
   "cell_type": "markdown",
   "metadata": {},
   "source": [
    "Proof of <a class=\"ProveItLink\" href=\"../../../../../_theory_nbs_/theory.ipynb\">proveit</a>.<a class=\"ProveItLink\" href=\"../../../../_theory_nbs_/theory.ipynb\">numbers</a>.<a class=\"ProveItLink\" href=\"../../theory.ipynb\">multiplication</a>.<a class=\"ProveItLink\" href=\"../../theorems.ipynb#mult_zero_any\">mult_zero_any</a> theorem\n",
    "========"
   ]
  },
  {
   "cell_type": "code",
   "execution_count": 1,
   "metadata": {},
   "outputs": [],
   "source": [
    "import proveit\n",
    "theory = proveit.Theory() # the theorem's theory"
   ]
  },
  {
   "cell_type": "code",
   "execution_count": 2,
   "metadata": {},
   "outputs": [
    {
     "data": {
      "text/html": [
       "With these <a href=\"allowed_presumptions.txt\">allowed</a>/<a href=\"disallowed_presumptions.txt\">disallowed</a> theorem/theory presumptions (e.g., to avoid circular dependencies), we begin our proof of<br><strong id=\"mult_zero_any\">mult_zero_any:</strong> <a class=\"ProveItLink\" href=\"../../../__pv_it/theorems/39fe99ddbce8654b434e13f1981d29be88dab0010/expr.ipynb\"><img src=\"data:image/png;base64,iVBORw0KGgoAAAANSUhEUgAAAoIAAAAZBAMAAABX4FKPAAAAMFBMVEX///8AAAAAAAAAAAAAAAAA\n",
       "AAAAAAAAAAAAAAAAAAAAAAAAAAAAAAAAAAAAAAAAAAAv3aB7AAAAD3RSTlMAq1RmmUTNIjK7EInv\n",
       "3XZ/CtNrAAAACXBIWXMAAA7EAAAOxAGVKw4bAAAGkklEQVRYw+1ZfYhUVRQ/++bNzJs3szPbJ5aw\n",
       "vL5UiNWhKSG1fGWWKOpQ/SEVOn0R+o+zEIiVtkEfQutXKjkW9rSodNWZTCGTlk2RNcKYZMnQBmZp\n",
       "wcKUZcuSlXa75973ce+bjzcbO7JGB+6b88499+y7v3vuOefeBfCihsIp+J8qULRw0lspcAU/KG22\n",
       "MUbpKuLEmEIwqrE21mhxFXECmvDntqoINuCPFK//l95pttGhcOcjNq++nxc7d53wNmDrREvnfrgv\n",
       "zcQJmI3vL1RFUE7iT/13l5pibZToGdjrfHNAd/U+V4MFW2dZCSiaeoqJE/AaeQY3VEVQQT9dWX8X\n",
       "lOOsjQ758hB25hVzB4eBGkzYOne7e+4DOMTECQgYxN+16nEQsd5ffwQjZhsdCjWBNGi/LTHEXv+g\n",
       "twVHJ+IaDRsBphhUnABf3CNZBFi+SdUfwQlmGx2K6aA4jvaVO0jmawiktk7AvTP+AFivUTHB5kSh\n",
       "8K0HgpFC4adc/RGcZ7bg+LNFsae1c7X3cNewLEHwd/vt6QvXirNq7vVM+o5OuMkVsRHBOBUTBOcA\n",
       "bPNAUG6DkFF/BJ8121PpkLjH/N3wgfffdw17NQfKkD3lP42skAqzy9S/vAw6Oj66A+cXkL7HxbpM\n",
       "ECxSMUGwFYIESpXZbyuLIFFovQJl10nW1KMgi3tsTxzme2dyNuwTHsHL1guJiBHBr0kU+87LItNR\n",
       "cHiXy90RwRwVEwRDRphUK2Fm/0em0HMQZjRxFfU2ODgSKN60c6CytLRXlEU3N1s79Bhrcj805kCd\n",
       "yvwAV38hwBlQD19jUG8q4yyoxIZBp6WTzYF/yO5MQSzHm3wY4LKXRdQBaCRepfS7VovIlxSpmCAo\n",
       "FcVEsu6mLXBL2JANDsHJI0skDU7QHF+m25IpvZmkujEtvSciGNkA2SSsO09ljVjHfQPqRZBNz+wp\n",
       "NUiV2DBGPSyTSANWJ8F2icabPAP+AS+LqGOGka7STDJFo2KaZe8XirI5eEYp6mH+VBfwFUdUljjB\n",
       "4HiZbkv2EFEL7wOYLu7ibBFmEq7FWfEh8PVDLBm8VDVqsWFONbMBfINcObjQ4EySUk8e9LKIOmYQ\n",
       "yItxEDIAMw0qRgT3k3LP30s/tU+Dn5GZdMdqAcHwBOKR6ufnrGDMsZxr28L1F2623GyotyQFWDJ6\n",
       "KPrwDRI0zI7trGU1uFFK8wgOQENqos/wQJAOW2xnTV8X7l0LwTYSJnkEL5Hg6mURdWDfg2jLfeSY\n",
       "Qfc4ihHBV8gf3RfDSclSSqW6k8I7n+QRDH5NHnvT6y3YONYhR3je6LOi3OmoXnJ/YMp24WPiRKfj\n",
       "M9ZCRalHFqa7HVp0na/PaOhi0c4GiQ5Ti4NcYtpj74WGeEgXTF4Hm6HEIjXmWKQ6OlaosruWa9TU\n",
       "40yMCDaQv/MSNb47rPtp7TgJ9F+Fu5lxuOmgnRzuqPsg6588W7RK+0PIbYKppmIo7ks92pcUDwtE\n",
       "BiTMPoYv06Y5HWtZU5u/aP1FmO6Oc281k49c67hzj/VotBeIDgvudLL4R53jHDcePwtEkwdwoi6L\n",
       "LGTqvI5qHEBZ0r3f5vW2MXECuB2EtbdvaSbzDkGwI1Byu3UMekFpMSw2AlnRKgqtQPeAqRhpk5u6\n",
       "1H5XlJTpVpuayWS0NYu4hW1jjVFLScW8rZazXLWA3fJvLGKFuqp81yruflAdpF8eSys55oP+yW4E\n",
       "SXW5aTc0GhYbRJfjlwWFEhYT0A9HmCLEIKKlFTGTocxHDuVv02qfZBLVilw6axUQfBFWeM83++kI\n",
       "EKzJIhbVs8p3zeIQlFK6SrBrN88n94DtT44PdisXpyEwRJGysAXZDvuBQul25E6TEIsIdpDnvcQv\n",
       "kpwWk634GNgxJ3ggTUs4Su+arbzDbF0zt4aztVw7gjVZxOWvcHdFxbYPNqeVIxS2lVhA/pBm16oC\n",
       "go/fdS6OwBBFypKzHmHb00o3PkzhVpS9fgEogu2asqBIz42E6zZVmWw6TgCtdizdbG/cXVZ+IfTy\n",
       "8k5XiTQ83O+N4I6zlfvcJmuyGCURJ1T+bpSK+Vt+ie559VBmS5VbfgRGYuyXUZsFi1PzmsnRXUwP\n",
       "5mGjaHKUGHcDgpfJiBE6WGRtLBHev1RYlbPgQvCJwKKu8jcLnE//tp8oMvnw3xZLR5sZyWAcVfTT\n",
       "WLh8OG9ytLxnXB6uDnq+3UOBRzAu9xleCDLFcmw5zleJi96qXyUILpg7AgQruXEd/l8sXQ//DYoW\n",
       "jv4DEM7vNS2HghIAAAAASUVORK5CYII=\n",
       "\" style=\"display:inline;vertical-align:middle;\" /></a><br>(see <a class=\"ProveItLink\" href=\"../../../__pv_it/theorems/9d00afcfdb9e59ddb538ab61c5becbe046f2d27e0/dependencies.ipynb\">dependencies</a>)<br>"
      ],
      "text/plain": [
       "<IPython.core.display.HTML object>"
      ]
     },
     "metadata": {},
     "output_type": "display_data"
    },
    {
     "name": "stdout",
     "output_type": "stream",
     "text": [
      "mult_zero_any may now be readily provable (assuming required theorems are usable).  Simply execute \"%qed\".\n"
     ]
    }
   ],
   "source": [
    "%proving mult_zero_any"
   ]
  },
  {
   "cell_type": "code",
   "execution_count": null,
   "metadata": {},
   "outputs": [],
   "source": []
  }
 ],
 "metadata": {
  "kernelspec": {
   "display_name": "Python 3",
   "language": "python",
   "name": "python3"
  }
 },
 "nbformat": 4,
 "nbformat_minor": 0
}