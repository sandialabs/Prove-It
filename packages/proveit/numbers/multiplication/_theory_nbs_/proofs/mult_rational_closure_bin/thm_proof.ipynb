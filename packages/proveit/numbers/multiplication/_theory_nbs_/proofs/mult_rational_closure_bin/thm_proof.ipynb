{
 "cells": [
  {
   "cell_type": "markdown",
   "metadata": {},
   "source": [
    "Proof of <a class=\"ProveItLink\" href=\"../../../../../_theory_nbs_/theory.ipynb\">proveit</a>.<a class=\"ProveItLink\" href=\"../../../../_theory_nbs_/theory.ipynb\">numbers</a>.<a class=\"ProveItLink\" href=\"../../theory.ipynb\">multiplication</a>.<a class=\"ProveItLink\" href=\"../../theorems.ipynb#mult_rational_closure_bin\">mult_rational_closure_bin</a> theorem\n",
    "========"
   ]
  },
  {
   "cell_type": "code",
   "execution_count": 1,
   "metadata": {},
   "outputs": [],
   "source": [
    "import proveit\n",
    "theory = proveit.Theory() # the theorem's theory"
   ]
  },
  {
   "cell_type": "code",
   "execution_count": 2,
   "metadata": {},
   "outputs": [
    {
     "data": {
      "text/html": [
       "With these <a href=\"allowed_presumptions.txt\">allowed</a>/<a href=\"disallowed_presumptions.txt\">disallowed</a> theorem/theory presumptions (e.g., to avoid circular dependencies), we begin our proof of<br><strong id=\"mult_rational_closure_bin\">mult_rational_closure_bin:</strong> <a class=\"ProveItLink\" href=\"../../../__pv_it/theorems/d5012511c3e4d46c637001649e3b6374eb45cd7c0/expr.ipynb\"><img src=\"data:image/png;base64,iVBORw0KGgoAAAANSUhEUgAAAK0AAAAWBAMAAABAjAHGAAAAMFBMVEX///8AAAAAAAAAAAAAAAAA\n",
       "AAAAAAAAAAAAAAAAAAAAAAAAAAAAAAAAAAAAAAAAAAAv3aB7AAAAD3RSTlMAq1RmmUTNIjK7EInv\n",
       "3XZ/CtNrAAAACXBIWXMAAA7EAAAOxAGVKw4bAAAC+0lEQVQ4y6VVXUgUURT+3NnZn9l1sr8HEWTJ\n",
       "B1+yFhNJA1kwI4h0YV+iIjaKIolYewiClI2IAkMXEmqFanwJxMC1ApMgessKwwf7lYXZeughCJHK\n",
       "KJDOmTszzuzqInTgO3vv4e65937nO3eAdZjfxCrhVS2F9dlnE0Um68URZSo7REmP0bCK53Vl03py\n",
       "Ak4bnSH3pXhlYRq9NYAaBTp4frps3vsmXHaS4NPcsdCeKOSODNANXGaiMmXztptw2SJBirlj/T5y\n",
       "mTagSewZipTN+9yEi9s/7F+JiXon/45/h0fIPaHkYQ0SceErT29SwH3lWfYnxB7nBB9KZoD8Nm8a\n",
       "Pko6k8+/LpvXmxNAz7M+O+irLdAlJ4zxBZPmQC5BPiFFECI17Kfzl83LmzPkF7hnF2q8W1kCmuGs\n",
       "uqw3kh/wRCHR9Xrgr7JWB85Yo7GhjZa6KyMCD6I4aG+2U8MbYLsxtjjy51ivCTUOD5UjqIXi9vIa\n",
       "Tl7Ixv1PEWo0Y+G4QBcwzyz+4uA+4C8waByGmMx/5JHJr4bAApVEd5RtmrA3TWU5D2VXyp33JZSf\n",
       "PJ9jNw+ZlHZUlMv693CPqQeZ5ZNs43u3TfLWywWNmwXX6wFdd/GgLENacMjXS0prMMazVvCIoV+6\n",
       "p4dDD6k7lPeBJRbiJzU2yitaoyt5g7oBZREVyXorxW+mGy3G+LutHO63rXR8ia9wicrmjQX46MGo\n",
       "lGStGDl180lg0TDuoiFmN9hmDJE/IARjt9UEvQ9bTGmiIs38qSyKcNpb1ZzNZiOHHDwEZgVGvl2r\n",
       "TVsZRh4zXW9FP1QfthTRdeoHL6m0lDCeCraSNjcgHOk3zuioGz6YKH2ATWblKdHHfEYuFnqtFeHU\n",
       "YEIbQ6XWQroztIaQ/Xg2mSjtxGhJqFbddNXxSsntOx7hRiTQqcN/2+iLueP2nYMpgRK7uMpjUn32\n",
       "Zsn7KPgfy2aJnskrK1+BjFOkDru1RucXHUJ2PtPeuk67DftMFJm61nfsq3squWYDu/Ef9g/zfLkY\n",
       "n4i89gAAAABJRU5ErkJggg==\n",
       "\" style=\"display:inline;vertical-align:middle;\" /></a><br>(see <a class=\"ProveItLink\" href=\"../../../__pv_it/theorems/f676743fe2b513baef34c290fb6ad124098696b40/dependencies.ipynb\">dependencies</a>)<br>"
      ],
      "text/plain": [
       "<IPython.core.display.HTML object>"
      ]
     },
     "metadata": {},
     "output_type": "display_data"
    },
    {
     "name": "stdout",
     "output_type": "stream",
     "text": [
      "mult_rational_closure_bin may now be readily provable (assuming required theorems are usable).  Simply execute \"%qed\".\n"
     ]
    }
   ],
   "source": [
    "%proving mult_rational_closure_bin"
   ]
  },
  {
   "cell_type": "code",
   "execution_count": null,
   "metadata": {},
   "outputs": [],
   "source": []
  }
 ],
 "metadata": {
  "kernelspec": {
   "display_name": "Python 3",
   "language": "python",
   "name": "python3"
  }
 },
 "nbformat": 4,
 "nbformat_minor": 0
}