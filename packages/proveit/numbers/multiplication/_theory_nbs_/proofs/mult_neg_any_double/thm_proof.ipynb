{
 "cells": [
  {
   "cell_type": "markdown",
   "metadata": {},
   "source": [
    "Proof of <a class=\"ProveItLink\" href=\"../../../../../_theory_nbs_/theory.ipynb\">proveit</a>.<a class=\"ProveItLink\" href=\"../../../../_theory_nbs_/theory.ipynb\">numbers</a>.<a class=\"ProveItLink\" href=\"../../theory.ipynb\">multiplication</a>.<a class=\"ProveItLink\" href=\"../../theorems.ipynb#mult_neg_any_double\">mult_neg_any_double</a> theorem\n",
    "========"
   ]
  },
  {
   "cell_type": "code",
   "execution_count": 1,
   "metadata": {},
   "outputs": [],
   "source": [
    "import proveit\n",
    "theory = proveit.Theory() # the theorem's theory"
   ]
  },
  {
   "cell_type": "code",
   "execution_count": 2,
   "metadata": {},
   "outputs": [
    {
     "data": {
      "text/html": [
       "With these <a href=\"allowed_presumptions.txt\">allowed</a>/<a href=\"disallowed_presumptions.txt\">disallowed</a> theorem/theory presumptions (e.g., to avoid circular dependencies), we begin our proof of<br><strong id=\"mult_neg_any_double\">mult_neg_any_double:</strong> <a class=\"ProveItLink\" href=\"../../../__pv_it/theorems/212bad0f0a375192d3a9295df25e544526b5fe870/expr.ipynb\"><img src=\"data:image/png;base64,iVBORw0KGgoAAAANSUhEUgAAA/cAAAAZBAMAAACGDsOTAAAAMFBMVEX///8AAAAAAAAAAAAAAAAA\n",
       "AAAAAAAAAAAAAAAAAAAAAAAAAAAAAAAAAAAAAAAAAAAv3aB7AAAAD3RSTlMAq1RmmUTNIjK7EInv\n",
       "3XZ/CtNrAAAACXBIWXMAAA7EAAAOxAGVKw4bAAAHh0lEQVRo3u1afWwURRR/vdu7ve4ebY0f8SNp\n",
       "zi8gkWIjSKQYPIMY0Bgu6h8EiWkCxkBiuCYkpH7gmaCSWGgVCBwmuECCQpW2fBiU2FSMqWDQhhQl\n",
       "SJOrbYKKbZoahEC0zpuZ3Z3Zu95eYTiB8JLZe/v2zdvfvt/O5x6Aj5T0/Aw35DqUgZ6Yr0+46KiS\n",
       "vMgWRaLnObvMsPpoD3N1iQM1WH31kV8WY0W2qJJfpbNQRlFYDJQrmEroqqES8ivQcG8+8kvwJ1Bd\n",
       "LHAP8CJbFEmg1VF3HiWHPlWB+3IHUwedwlUKlZA/G89fzke+lsCfYvVfRi0rskWV7BD0xfhYlqLA\n",
       "GCg7mEroi0ExVEL+WzgENOUjP4KdQ32xGr5WzYpsUSWzBH0Y3/64osAYKDuYSujDoBgqIR/fATOW\n",
       "d8xfSn72FIv8KC+yRZV0CGPfBTweURX5SK5gCqEzuCqhEvJxzhfOP+GbQn5qi0X+eF5ki6ohX3gM\n",
       "swuPi1SFXpQrmELoDK5KqMj80Z6e7/OTH+3pOdVaLPKf5kW26Hed9syl69pXFrCs8VTThMcIV/aS\n",
       "Dq9NSO/gI3Lt9r6U7x0cnzaQgimHzuCqhIrkzwHYnJ98LQWlVrHIz25BeLYwWSp3e6FO+Mgfk7da\n",
       "WBiDW5Ya5wCmudk+BnOlym/EtCa/G7g+03gBrYdKhWLoDK5KqEh+HegEqMFm86lc5JPrdUVbhh7j\n",
       "RbIY34Amd3ufVsMz/isHVu1jxzBOmNw8aMEPAJPca614LsgvEPXdBmA+mLVJIAZTD53BVQkVyS+1\n",
       "TLKWM1nlE+zN6t4Pj1a4mzybYf9Y+HunaayMl62vtHvCb1kxXqHtJ8XOtCF8YIM10xYcuOfh0xgH\n",
       "b8ImZPydHZE6sWrQ7vhEyZPuoIFPwJMAFwEanWvzMNR2OimgBg0bXnPbnU40DzuOD8taIy+SKITO\n",
       "4GZBZc6XBBXJD2Tk+d7aOzbA3aalWS75k8c23ysZywQh0ptOGO8nAx/K5MsZjDZBSwLWDrD3HldU\n",
       "h8E4CxpvVN3ZYakTq8ak2ybfbQkhsnpa6Fw7jGAGuxznKL7CcdZIx+VYETo+vJvm5UpBZ3CzoNrO\n",
       "lwCVbu/WzpTmRHNwxy8TN91uH8LBzFjIj6bG4PwEcTZ3A8zI1+23ZOAxolW5L/O/EByC8oR+Pl9s\n",
       "Xg1ydvvDtDFUCRFxOdAlVgY4C2+m8t/AliobnzjmK4Q+bLddZVAp+XvIOj7US6P2x9ge5cT7V4rk\n",
       "m+NJN2DsPWPv8gmq0Lk4xsZB2gG1Oy+V2Zf98nBbGSLY/rb7WWQLL66Qs5YY3BZIihkchpLaCUHL\n",
       "J4O02osVjqFUwHEeB1+Y7pz/RbIgZrScXE3U5M8o9cGssUDTvdcVQmdwVUKl5L9O7rC7HHt5LVBr\n",
       "0N5horntBYF8/Wty+CzZaDMuqK64xgGrH1tZosG+dDzSkeXObTvxMGGCa89eMrUhaYFuTWw+JK1V\n",
       "8bi4+qUDGz24ox6tZmTcWbPpJhNuhvXSqpLMnw+IGSVzY5Nk8ytpLHbv4vpodPcge4laMHQ3ch7o\n",
       "DK5KqJT8ElLvVQpulxkP0ddrIsR/F8iH27F/BkJmPZ0JoBqaPNvTf+P1UtTW0cXEXPiEu2tNRurZ\n",
       "/oS88UlsQOYVz+FJTY17YQ0vksWoPFD3m5TBrWferSS411jSwEYP7qhHq+nb3CxFhHn31n34qMfd\n",
       "F2PvTEvMKByc8gepcVIei7vlgRp9SNZ4oONe8guE7kTOA53BVQnV/aS7ha+Dg0vS6Q8I+c1hkXw2\n",
       "eemFSJVlq1Fo8U5uern2HTzOJjvcHadZHcaQPC/g78K0dDodWz1fGJZTrMgWd7CSd0I2FzCrEPv6\n",
       "E94Ann2zgHcfrb6ADQ7cPcBAetYmnEroWbuVlwvVId+4QGGWJyOtrOWHJnvIN87Bul0wzrJVHRrk\n",
       "IR+NAVyawBAcIkfckqDuJCpA0tPzoy04FeA9+iaTCZ/h+ewgf4gYJYPLYYX/A7d84upTPde8X168\n",
       "GdXjuv/nTHyW7O9RqqH7kT9mqA75gdq4QWhv4Lt9D4PTjJ2W3xk5W4NsEj+qwgZUm50DGgP3oXYy\n",
       "2ESOL4FJyW+GcAJaoTQh+DLbih3Atg71fUm6oqWykRdXNo6WQX3T6qcK+FqgCU3Jk596n4zWr17l\n",
       "354aeKAcXz4VQgfVUN2WX5mMHKKM15MuIPJTkv2FQyT/+YfOVCObxI+qWgrVhmSkEw/cuAltqwbx\n",
       "uJyMMUh+Q0yfRYaoOagx307bNgOTgLGbl6x3Osid9jQQRAvKa8vaPWvKkZEh/wxuPS30T02jkMMp\n",
       "+fyi3NH+ODLif4PenK+sauigGqr0N64A3Ys2vkhv8GzvioOYRf1QvixzVLA1oyvGtYDjDnRtbVoZ\n",
       "rlFh2q3IezotTwX1DCuyRZXIn1TKlPxFZRELlCuYSuiqoUrkLwjP78j5YUfYjvtzD/Fj9pF/bJVW\n",
       "5vNGi2sLHPcQ7YyWjXRxjX7bYFoXXAeSM2vXAlSJ/Gqt3/Ihn/nlUr2aex4cTSu7J349kJ8za9cC\n",
       "1EL+vXvF/rcfuAVuyP8nA6eq/wMSU8/VXbzITQAAAABJRU5ErkJggg==\n",
       "\" style=\"display:inline;vertical-align:middle;\" /></a><br>(see <a class=\"ProveItLink\" href=\"../../../__pv_it/theorems/dce9c36eb19ca21cc02980a0af21c293adcc6dc60/dependencies.ipynb\">dependencies</a>)<br>"
      ],
      "text/plain": [
       "<IPython.core.display.HTML object>"
      ]
     },
     "metadata": {},
     "output_type": "display_data"
    },
    {
     "name": "stdout",
     "output_type": "stream",
     "text": [
      "mult_neg_any_double may now be readily provable (assuming required theorems are usable).  Simply execute \"%qed\".\n"
     ]
    }
   ],
   "source": [
    "%proving mult_neg_any_double"
   ]
  },
  {
   "cell_type": "code",
   "execution_count": null,
   "metadata": {},
   "outputs": [],
   "source": []
  }
 ],
 "metadata": {
  "kernelspec": {
   "display_name": "Python 3",
   "language": "python",
   "name": "python3"
  }
 },
 "nbformat": 4,
 "nbformat_minor": 0
}