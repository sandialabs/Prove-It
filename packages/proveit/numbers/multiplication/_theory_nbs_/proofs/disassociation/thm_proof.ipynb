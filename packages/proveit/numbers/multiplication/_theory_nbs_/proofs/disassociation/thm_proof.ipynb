{
 "cells": [
  {
   "cell_type": "markdown",
   "metadata": {},
   "source": [
    "Proof of <a class=\"ProveItLink\" href=\"../../../../../_theory_nbs_/theory.ipynb\">proveit</a>.<a class=\"ProveItLink\" href=\"../../../../_theory_nbs_/theory.ipynb\">numbers</a>.<a class=\"ProveItLink\" href=\"../../theory.ipynb\">multiplication</a>.<a class=\"ProveItLink\" href=\"../../theorems.ipynb#disassociation\">disassociation</a> theorem\n",
    "========"
   ]
  },
  {
   "cell_type": "code",
   "execution_count": 1,
   "metadata": {},
   "outputs": [],
   "source": [
    "import proveit\n",
    "theory = proveit.Theory() # the theorem's theory"
   ]
  },
  {
   "cell_type": "code",
   "execution_count": 2,
   "metadata": {},
   "outputs": [
    {
     "data": {
      "text/html": [
       "With these <a href=\"allowed_presumptions.txt\">allowed</a>/<a href=\"disallowed_presumptions.txt\">disallowed</a> theorem/theory presumptions (e.g., to avoid circular dependencies), we begin our proof of<br><strong id=\"disassociation\">disassociation:</strong> <a class=\"ProveItLink\" href=\"../../../__pv_it/theorems/86c8ed0ed769064cb33932d16e9baa884d8cfa5e0/expr.ipynb\"><img src=\"data:image/png;base64,iVBORw0KGgoAAAANSUhEUgAAA40AAAAzBAMAAADBUvCSAAAAMFBMVEX///8AAAAAAAAAAAAAAAAA\n",
       "AAAAAAAAAAAAAAAAAAAAAAAAAAAAAAAAAAAAAAAAAAAv3aB7AAAAD3RSTlMAq1RmmUTNIjK7EInv\n",
       "3XZ/CtNrAAAACXBIWXMAAA7EAAAOxAGVKw4bAAAKTklEQVR42u1cfYxcVRU/8/nevPlaJfGDmnVU\n",
       "rFHcsqGkKU3cDi4IlAATMGqMyhhtiPgH04aEFGg7GlQSp+xEbGAI1kdI0O5Cd2gRscS6YEhtDLhW\n",
       "/Ai4ZvqRVLuybArLNkvseL/evHvvm5n3dt/dMn30Jjt7351zfnPf/d17zrn3nRkAb8UYHTXhfOnJ\n",
       "shhu0s1mvidv4qH3MIG7KX2JZrPqmcdCb95KaPA9zKP+KqtEznkeV4iXmkLo0ruq7glpICg8Rori\n",
       "9VF10JmcP/1vKOtJZ6RkX0B4vEecq+G6OuiLwXhkUvJHL3nwWZZMRpnF74L0l4Dw+C/x8nGFQSBa\n",
       "6XE5tPu2B8WWzG3K+tIZ6bNmIHiMTIjXw+qgo2gRZGXTesqDYkvmMmV96YzEZtq5zmNKsqMTCqHR\n",
       "3y3Stiy24K5ny6SUbbg7I8XmA8HjG+INhovqoFeiv9/KYcWku54tE1fmILsgfTMQPP5ZsoV4eW46\n",
       "sE3ai6w40XCHktWuw4M0835xPPuPuAaxtowVTOJy4FhZZHtmrXuXWko8klQuMQPAo37aOW9jB+Hn\n",
       "4ir9Winhbg+pmmGHv99Coc7b5rgQD4/fZsy7AVEZXdwTbc1FhZHWDsO1rl2ylSjS9VO4SFN3vBEA\n",
       "HkOSP0yjlfDEIFwP8Jg9hsbvIToJY09d2BWKqiXthXsYmekFSDWMNcLkf9l47n1d/R6WQT1BKyls\n",
       "9+41CShddwciShESkIc7+/3EZAB4TEn2JoU6eSMeAH2G3J7xNja2s3jY8pgmNH3beFDSRtS4a3gR\n",
       "aRYhW7//dbvxCwDvRPGsYNDtgLAMsxazrS5ge8AD3YgY7AJkK+FuMKQOEft8AHgcGXTyeAiMOTSD\n",
       "abTxCm6swngB5mA7djbpfJtbw21Uzb7GA4jovyXHzr5I42sQO5UtaKct6HZAWIaZ6gmuCwA80CH0\n",
       "1wXIVtJmbaT229w3A8DjGyWHXTXOQGS2xSPzIOsB1lEeOw4HUYsdAd6uou0jWjgD/NYwuhAxtdPd\n",
       "t49oIe35PPB9oE5sgP80NPYuQEQpUt1Wt5Da+kd4PgA8PiI7iwYYpyBU/JTAYw4+EC45NxEij0Rt\n",
       "T9b2WLsQj2XkW3keT2M36rL7IDL5lcLgZpFWgQdCiyjmBkSUQic+c7A7TT8LAI+H5L1bHx7/gXye\n",
       "5zHRCL8S5Z7xMPeD/RTnm4jaXdxQP4WfiSXyAo8XwE/R6w7TAcT5XSxjmE9buyC6H6pCsswDoWD1\n",
       "WR7I7o0NRJRSR6HMIznL7xiPJFT4hBceQyR06qHnfcZb8j4Esffo9I/6yzyPRv+zm/4NsMUU3Q/x\n",
       "U7Zvomq7bJkdSHPFsGAO4dGn0d1rD7cBsv0ukcG7Fn7qP7f6pACU3DdkCkCt3nAOHCttv7LssojW\n",
       "FyiPV+GLW73wGMUa8VLv8KifkVv+0TrZkU2Wltfce24s2D40bVUHJKE74E73ruEocqvUthSgy2OT\n",
       "JSeSEOtRNwrfwzdZ9cKjjpfulh4yq2HHsfVlHXncct+9pjtg0V4NkXz74dceum+D+wzDAeZwdx49\n",
       "AfXrk/Xux//jecpjHN1eMueFR/L4ZG8P8RhxxHsJtua0Z96RjuL+1Gx6MNT93Jp9kP67+/YD4t6m\n",
       "2Zx1Bcr0ORfHkoAehAvK3ZdZto/yGEHmPO4tzlmN/hd7iMeM45DMqKpD3+1DFx8QJpR5oK5I2SqL\n",
       "V1+amvqjNx5TU1P/rPcQj0nnsek2dehaY8mqGyvo5YSynnRFShUZj9cAoMCJnRCXu/EYLUPC7CEe\n",
       "owvQm+WGDWfvs9KTjMdNoPW1TohxwPc5ayJuva4QeZ7jEcltWsxH/LDqrLV7d1HlP1ecsPoXmoXz\n",
       "JT3BeEyYSXF7gk8pQT9SK4T79sMG/hzgYfjVYj4iVHfW2r3rtdz/4Z2w+4Pw6fp5HtvwGG5IYc52\n",
       "/IL3n+GhKNR5HlctLsxJlZ21du96NaPIA8D+BkTqvW5XzyqPll2F4hCwE2LjON6AXK5N01S78Pe/\n",
       "3BB4jEeQSTP2TVvx09jQr53AduPIzIWOGreBtdsODDlrXDhzjBrSY7iHawt2Xm7S+VBXCxJFngLe\n",
       "VpwDe9G+kJ4QR0mCS//mJ0ok6A6X939S4DG5Ekk9WRphH2D8XXeOJNf4unncUbOL3ZYuVBw1rvxV\n",
       "n8APxsmeIryZu7mM83nB0SDx6CmTOdVn8XgPqtET4tEkPhx4OafDzZTHaKbK86jhqOdKqLDTymhe\n",
       "n4CbjovelTQCUXsA1rBjTVSLrbpK7AB+l7rfa+GXTA7VHHLRqlEOo37FsImIPGZ2OwdQl4fsLwdZ\n",
       "0f7Yy1l2Nm/xGMKOaldr/6q9hfzQmlqtlguXjXqR5xE+BPgB6xHQB0wSEGX6YMKYlaKkjPWU/g9w\n",
       "BRXEtRSMix1Abaz2IjBAXHPI4bALJ5NGvlOr/UT/AedVw3PyTSnMQ/aXg6ymeMlkHq8D99yKnRBn\n",
       "S7jt6xr8mK5HuKkh8Igl5+GBUUjjYR8vJdaZJXKWyOHixouJ2iy8QAVxTQPJZOJ3V5PBwnaYys1j\n",
       "DyfJ4T7F75wBnaw1FOeAtST1N+WbUpiH7C8HWU3xkslsnZOzqV3MG2icKjAGocaOJN3vRwrQWlv2\n",
       "o5OD+tw6POxjkCqN3GxCooCqSJm9kMaP5/HFqwgeCbIa7OSkaJt2VxHXNkKSyeEakhMA4wWoZzfv\n",
       "JqcVAHdfzSVDyc+tVOYh+8tBVlO8ZDJfkhPWY39JfwGQxazkEqXQWtDw10N33Arg5PGLl04P4mGv\n",
       "5GLDq/aR86BKTj8IlRJ+oY2JMiC4e2fIOmO1KGmjUiXWhrYQqHbH6pNMDteQnACoDQ+ZIzi03YJN\n",
       "hvFM7ZrWPfxNdo9FdWPoLwdZkW334CBJbouQDxAmjz+ZORmr1QryuRx/aVqSSbPRUgKr9mSYwDFB\n",
       "WtufsWrsw7BrLrSXkwGnt/4CUfib2k7xHj4i7zAV5iH7y0Fu7aOWK/+4VT4KMo9fjX9lAmIdlrLI\n",
       "o/7fvZbk7c1JTonVEicRnCVIa/Hm/1iNfhhFhfZyMuDVyUvbdWq96Zy/ivKQfeYgWyebKvKPu5dD\n",
       "Dh4Ho8dNiIAXHoluuyrXOOheO3pRh3fbArbx8dLsV5iH7DMHmZXlyz9uzYwzDh67H/8sR57Vx/I+\n",
       "44Dly0P2mYO8tPxj+sme8o9b8zwIecjRCSePivKQfeYgLy3/mMh4yz+2SigI3wuIzTnsqqo8ZJ85\n",
       "yK2PBv/5x923uY0A8CjPaYV5yD5zkBnIMuYfC6Heuc6jFLAqzEP2mYNsHQ0vX/4xK/RrAgH7XrnC\n",
       "PGSfOcisLGP+MfMswfheeUTaGCrMQwbRtdHiOQfZL4h7/jEzNn2B4BG+2+Fg2X8ecjsKvOcg+wVx\n",
       "zz+mhZ0Cn/M8VsRFpjIPGXzkIPsGcc8/puUwBIPHjHgDKvOQl1rU/UyHeyZzYH6XTP6dwG3veoc2\n",
       "VpRBuWcyfwkWzeO63vwd3Xiuxzp0NnOQdZowYIzu8c7j+d/R7b3yOF1a+Hd0/w+EkO2mSCFImgAA\n",
       "AABJRU5ErkJggg==\n",
       "\" style=\"display:inline;vertical-align:middle;\" /></a><br>(see <a class=\"ProveItLink\" href=\"../../../__pv_it/theorems/c0736ccda4ca00ff8a2dd9365e36362a7a7ae2810/dependencies.ipynb\">dependencies</a>)<br>"
      ],
      "text/plain": [
       "<IPython.core.display.HTML object>"
      ]
     },
     "metadata": {},
     "output_type": "display_data"
    },
    {
     "name": "stdout",
     "output_type": "stream",
     "text": [
      "disassociation may now be readily provable (assuming required theorems are usable).  Simply execute \"%qed\".\n"
     ]
    }
   ],
   "source": [
    "%proving disassociation"
   ]
  },
  {
   "cell_type": "code",
   "execution_count": null,
   "metadata": {},
   "outputs": [],
   "source": []
  }
 ],
 "metadata": {
  "kernelspec": {
   "display_name": "Python 3",
   "language": "python",
   "name": "python3"
  }
 },
 "nbformat": 4,
 "nbformat_minor": 0
}