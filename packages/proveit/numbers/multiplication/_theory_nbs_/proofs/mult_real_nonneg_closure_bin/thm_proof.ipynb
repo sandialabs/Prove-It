{
 "cells": [
  {
   "cell_type": "markdown",
   "metadata": {},
   "source": [
    "Proof of <a class=\"ProveItLink\" href=\"../../../../../_theory_nbs_/theory.ipynb\">proveit</a>.<a class=\"ProveItLink\" href=\"../../../../_theory_nbs_/theory.ipynb\">numbers</a>.<a class=\"ProveItLink\" href=\"../../theory.ipynb\">multiplication</a>.<a class=\"ProveItLink\" href=\"../../theorems.ipynb#mult_real_nonneg_closure_bin\">mult_real_nonneg_closure_bin</a> theorem\n",
    "========"
   ]
  },
  {
   "cell_type": "code",
   "execution_count": 1,
   "metadata": {},
   "outputs": [],
   "source": [
    "import proveit\n",
    "theory = proveit.Theory() # the theorem's theory"
   ]
  },
  {
   "cell_type": "code",
   "execution_count": 2,
   "metadata": {},
   "outputs": [
    {
     "data": {
      "text/html": [
       "With these <a href=\"allowed_presumptions.txt\">allowed</a>/<a href=\"disallowed_presumptions.txt\">disallowed</a> theorem/theory presumptions (e.g., to avoid circular dependencies), we begin our proof of<br><strong id=\"mult_real_nonneg_closure_bin\">mult_real_nonneg_closure_bin:</strong> <a class=\"ProveItLink\" href=\"../../../__pv_it/theorems/21e860a61dc876977428eaeafd951ee4ee623dcb0/expr.ipynb\"><img src=\"data:image/png;base64,iVBORw0KGgoAAAANSUhEUgAAANcAAAAaBAMAAADWJdTsAAAAMFBMVEX///8AAAAAAAAAAAAAAAAA\n",
       "AAAAAAAAAAAAAAAAAAAAAAAAAAAAAAAAAAAAAAAAAAAv3aB7AAAAD3RSTlMAq1RmmUTNIjK7EInv\n",
       "3XZ/CtNrAAAACXBIWXMAAA7EAAAOxAGVKw4bAAADmElEQVRIx7VWb0hTURQ/us2397a9LY2gAhkI\n",
       "9aG0gSQoIZOm/ZHqlRCEQSuDSCLmxyB0QeCHjA3LbEb2hAhigZqS1AfxS2mFIZEU1WpiBNkfQkhr\n",
       "gXTO2/Z83jfbJvXgnJ0d7r2/c8/9nXMvwP/8zB3Kj2W4byWzt2Y5PtxOuhIOgTFrrFx3tjPES6jG\n",
       "wO7jgtlOvUXKp/dzy08xdAMXA6sTt5flR2GKTr3fFGUQToXm3l5K2KPmGNhcYJMBHOQoygyLG0G1\n",
       "iXHeHkc1zTh5zmEq6CJLuC8hmDUKIiJVk+dEZmBGJJXgZb3HUfJkFqwPgucovio/pdHuBCEGoHgy\n",
       "PDy7hIAu1jtLuXLrwXbk4cqr/AmCADTEY7I4MwML4Fir7rxipJ/E/3yKRLwqGA/CaoVN32A/6l0Y\n",
       "E0aalyE/vqJsYJ2WCdINin1wRrOzdT0gyImi3o36C8p4JPI0Q7A1KLVkNA03q868wilMTL9CoEZN\n",
       "Gs3tDBOOIPJOgK4MwUKJLZhG4YbKiN5GYR6gTMH1LYI9ev+OIU0Aj68JOEfqtYVaGt5coi5xFOU5\n",
       "yh0X7FFHbZHhGcBmBUxDkIEKPDxzCL/OhK8F6cXLFkltnCcTRvG9qtOYlkHEaQSV7C9QHqLsA3hD\n",
       "wcyRswbgN4ZNZlsEv2AijV2lTOy9CJMb1fBjPSFOhSTRAkNUVB8kYSTJtPjOCOwxCD+S4AhrQvIf\n",
       "VupbS/3zPJPGFqoCr6ZrjaF40CmKUEEtiJvkJuAVk0ZhAQzfNWVmRPIXk2nTghlbmeoN0HHcJQ6F\n",
       "K4doUwtTskhVi2AzWKfmWhl3NpocvhalG8FmIce7Men8SUcI5UqLj2rAhOC0no1wFvkhvDTP0+jX\n",
       "olvJhWjhul1gKqCNL54ZVUq/AljsVltGAVxOVgQcWwRzQykvLQHbRioH02Z0m6nJ8i6Dt04BM14L\n",
       "gpBPZnORTxvbRfzt+dxa6E86ewYpFZNxu0NOdv1fPv7K7BKwqqRhlagpg9VvdJQhW52iaDmgrwUr\n",
       "hmrzp7wPJuK/9dcj3uWqtEGlpY+vwKDseMtdUHYmmuplzuPxVLNd35Dysta3Z33VxtSYfYE6OYwX\n",
       "XDkojEXqP9CvqqS6M9VKZ9K3H4PaOkzbSwagzWneGwXuKnXUj303a/QT8pcUk+brTA9mY54T8Zsm\n",
       "HApJf3mDcNEUzxpfejDmDWKS076uVvT+i1OIKXHDv383aiiEO/kDUPfflYxWlZAAAAAASUVORK5C\n",
       "YII=\n",
       "\" style=\"display:inline;vertical-align:middle;\" /></a><br>(see <a class=\"ProveItLink\" href=\"../../../__pv_it/theorems/5d0662d319bc75bec6d59e8d2acbd8970816763f0/dependencies.ipynb\">dependencies</a>)<br>"
      ],
      "text/plain": [
       "<IPython.core.display.HTML object>"
      ]
     },
     "metadata": {},
     "output_type": "display_data"
    },
    {
     "name": "stdout",
     "output_type": "stream",
     "text": [
      "mult_real_nonneg_closure_bin may now be readily provable (assuming required theorems are usable).  Simply execute \"%qed\".\n"
     ]
    }
   ],
   "source": [
    "%proving mult_real_nonneg_closure_bin"
   ]
  },
  {
   "cell_type": "code",
   "execution_count": null,
   "metadata": {},
   "outputs": [],
   "source": []
  }
 ],
 "metadata": {
  "kernelspec": {
   "display_name": "Python 3",
   "language": "python",
   "name": "python3"
  }
 },
 "nbformat": 4,
 "nbformat_minor": 0
}