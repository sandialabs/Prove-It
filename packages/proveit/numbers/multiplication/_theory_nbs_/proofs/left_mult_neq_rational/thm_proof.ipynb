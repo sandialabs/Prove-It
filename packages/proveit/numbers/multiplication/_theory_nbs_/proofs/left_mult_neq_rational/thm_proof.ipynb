{
 "cells": [
  {
   "cell_type": "markdown",
   "metadata": {},
   "source": [
    "Proof of <a class=\"ProveItLink\" href=\"../../../../../_theory_nbs_/theory.ipynb\">proveit</a>.<a class=\"ProveItLink\" href=\"../../../../_theory_nbs_/theory.ipynb\">numbers</a>.<a class=\"ProveItLink\" href=\"../../theory.ipynb\">multiplication</a>.<a class=\"ProveItLink\" href=\"../../theorems.ipynb#left_mult_neq_rational\">left_mult_neq_rational</a> theorem\n",
    "========"
   ]
  },
  {
   "cell_type": "code",
   "execution_count": 1,
   "metadata": {},
   "outputs": [],
   "source": [
    "import proveit\n",
    "theory = proveit.Theory() # the theorem's theory"
   ]
  },
  {
   "cell_type": "code",
   "execution_count": 2,
   "metadata": {},
   "outputs": [
    {
     "data": {
      "text/html": [
       "With these <a href=\"allowed_presumptions.txt\">allowed</a>/<a href=\"disallowed_presumptions.txt\">disallowed</a> theorem/theory presumptions (e.g., to avoid circular dependencies), we begin our proof of<br><strong id=\"left_mult_neq_rational\">left_mult_neq_rational:</strong> <a class=\"ProveItLink\" href=\"../../../__pv_it/theorems/798a0177488b0e9de6b2466b2fead23e84d85e810/expr.ipynb\"><img src=\"data:image/png;base64,iVBORw0KGgoAAAANSUhEUgAAATwAAAAXCAMAAAChxwN1AAAARVBMVEX///8AAAAAAAAAAAAAAAAA\n",
       "AAAAAAAAAAAAAAAAAAAAAAAAAAAAAAAAAAAAAAAAAAAAAAAAAAAAAAAAAAAAAAAAAAAAAAAeYafp\n",
       "AAAAFnRSTlMAq1RmmUTNIjK7EInv3Xbt5cnn9enzas/lfgAAAAlwSFlzAAAOxAAADsQBlSsOGwAA\n",
       "A/JJREFUWMPlWNuypSgM5Sr39Ez3jP//qcNFxCBusKof9lRT5+yUGhZmmYQEQv5PQ3VyecJvU3z9\n",
       "Bl8zgGE5HxIeHgg7RF4GLJKe9xn/cu6Yw3KJ77FR2gyRXwBmKWS9vX25K9oNy7Wx2dFdo0fIrwCT\n",
       "1NX1lPlyxxMcy7XBxcjx6BD5FWCWlUnHvpw838nVaQPXM2qI/A4wSX7Qvn05d2zDcjnM7m4l6RD5\n",
       "JWCWPqTh3bdHrcOSKOpAjXZTC0CtdkcoOXo3Xw2RHxEt5MC2FAFmKXLyNPY32fgx56/sCysfPLmP\n",
       "jxSY3Q5fASgQEUpuan4lspuEn7/SL70hPyI6wlJk8x0BZqlo/Xm/ATojKEXf8dO24+Qcsug4B30k\n",
       "BIak9blWCIOMrpKdltDCCfMTx5sialbuUoMAi0xOt2JXQwNqTJygXLLQcbZG3soHKjo8xo7skLxE\n",
       "UmQ3CCfFdq8elgJJNHfTe5/x+uAYIzbASI9PwewBARbJ4N12IcRRJTmVaLOcqyXy6EIhWXR8WmBX\n",
       "n8jzJhvYvnm4cuJb5pJ+4nhPiBdAmWJZ7xoBHnLLn7rEIQd3ggMIFf9qQ0JLQ3IW7Vqz/AwIjMlD\n",
       "84l0GGe0YtFROe949iFs7Q4tC92300S8LcmLBZzz/vm3ZD7aIX9CzI4MNVwDko4dxZ4NKhJcTQGV\n",
       "wnw7MgKQaJL2xJ70cFtofCLvnC9MGj/iP284BK941dGZvIBrDANXaff0WnQjrPcjGxMK9TnNl7c0\n",
       "s5Zjhhg1aP25AB5SeVoDkjS7CM+4R4gqm5gGQ+RpUyUNiBuSh+ZXhz1xRiseOoU8j4sGVCEUi1mM\n",
       "rNvuznZtRUSUrCtEjsf3cmCGGDFo8mY+rpmobtEP17R+zTs0KscKgG/ZRwwjcha21/nNYQ+cwYpV\n",
       "p4TtjsNWByQtBacVBX2rAARApOjcxYKc9bozxPTIgai2VMAO2KbnhtsTP/nEaX5Sjplcty853TCO\n",
       "+Skk//rb5JA8cboVkc5owyBBY7l4ABfm5ydLiG7DgKqvaXxKQJLbmMZTMOcJguSrvITcUTmts884\n",
       "dJbVyGvzcStecTLquSLSAbj1UF1H/vo44dMhywwxmWHr/vV4PiGjt4PjyWWiqgDpAOxxlULB5KK6\n",
       "nedYF8RG9UORfM7HDUzFyajnilgnFsnCPrXz5sXZWXdWxMdN6AQxQEk2V8CPh1Csv7I5wI6+wuQi\n",
       "OUeu7jbFMVrLig2nXwNm/Yzp0+d8dLQE+xH5iQsO57HnyheUtr+KOV4OSmnBePSwGXmXiQ0Hr7FQ\n",
       "p9emXcEqd9CZqCfIy4DwyVf57UpycONejeuZ57ELuw2HP+r8qUP9Qbb+B5C5JNKRR1XDAAAAAElF\n",
       "TkSuQmCC\n",
       "\" style=\"display:inline;vertical-align:middle;\" /></a><br>(see <a class=\"ProveItLink\" href=\"../../../__pv_it/theorems/4d90806af63536377084114bb9fdcc9776293e830/dependencies.ipynb\">dependencies</a>)<br>"
      ],
      "text/plain": [
       "<IPython.core.display.HTML object>"
      ]
     },
     "metadata": {},
     "output_type": "display_data"
    }
   ],
   "source": [
    "%proving left_mult_neq_rational"
   ]
  },
  {
   "cell_type": "code",
   "execution_count": null,
   "metadata": {},
   "outputs": [],
   "source": []
  }
 ],
 "metadata": {
  "kernelspec": {
   "display_name": "Python 3",
   "language": "python",
   "name": "python3"
  }
 },
 "nbformat": 4,
 "nbformat_minor": 0
}