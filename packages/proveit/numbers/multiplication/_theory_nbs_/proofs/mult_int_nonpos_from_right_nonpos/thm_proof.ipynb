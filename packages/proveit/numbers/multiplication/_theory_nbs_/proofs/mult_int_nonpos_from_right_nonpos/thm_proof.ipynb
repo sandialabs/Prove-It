{
 "cells": [
  {
   "cell_type": "markdown",
   "metadata": {},
   "source": [
    "Proof of <a class=\"ProveItLink\" href=\"../../../../../_theory_nbs_/theory.ipynb\">proveit</a>.<a class=\"ProveItLink\" href=\"../../../../_theory_nbs_/theory.ipynb\">numbers</a>.<a class=\"ProveItLink\" href=\"../../theory.ipynb\">multiplication</a>.<a class=\"ProveItLink\" href=\"../../theorems.ipynb#mult_int_nonpos_from_right_nonpos\">mult_int_nonpos_from_right_nonpos</a> theorem\n",
    "========"
   ]
  },
  {
   "cell_type": "code",
   "execution_count": 1,
   "metadata": {},
   "outputs": [],
   "source": [
    "import proveit\n",
    "theory = proveit.Theory() # the theorem's theory"
   ]
  },
  {
   "cell_type": "code",
   "execution_count": 2,
   "metadata": {},
   "outputs": [
    {
     "data": {
      "text/html": [
       "With these <a href=\"allowed_presumptions.txt\">allowed</a>/<a href=\"disallowed_presumptions.txt\">disallowed</a> theorem/theory presumptions (e.g., to avoid circular dependencies), we begin our proof of<br><strong id=\"mult_int_nonpos_from_right_nonpos\">mult_int_nonpos_from_right_nonpos:</strong> <a class=\"ProveItLink\" href=\"../../../__pv_it/theorems/95365c3698771e8e4a5dd333bae2f9dd5c09407a0/expr.ipynb\"><img src=\"data:image/png;base64,iVBORw0KGgoAAAANSUhEUgAAAOsAAAAaBAMAAACk6rZaAAAAMFBMVEX///8AAAAAAAAAAAAAAAAA\n",
       "AAAAAAAAAAAAAAAAAAAAAAAAAAAAAAAAAAAAAAAAAAAv3aB7AAAAD3RSTlMAq1RmmUTNIjK7EInv\n",
       "3XZ/CtNrAAAACXBIWXMAAA7EAAAOxAGVKw4bAAAD7klEQVRIx71WWWgTURQ9mUw6k8nS6Ic7MqKi\n",
       "UpARSgWRGmnF1n4YFxCLS0o/pCKSggiC1ajFH5fWikvcmC+hVGhwQRtQakVQROyHuEEgVqEiWvqj\n",
       "QvHD+94kz2Q6tk1FB2a7M+/ed889574H/L9DugDfg+Tf+XBHio56DajEVsh/E3ZB0fM8S5cnKI0p\n",
       "7ZOPqkXpojh8iP1hQLCDDRiBX6eUJ314DboMOHzYYYd2z8+m9BVD7WMv6ggCBgImEGKv84sOe5B5\n",
       "tNFDu9JPWRm2LM/EES0BlqSssP4MghRzDfu2q+iwdXRetxtLwnTZXWiTwzSTm/SwNcVBLtWhjQBH\n",
       "GOTFF/kbnVV2I7kEygttrhg6Ne7/yFqLUkAjzZCA9unFRiW0gF67dSf5gt+0wL2afsWRB2pccW5q\n",
       "noUhbKCHWuI11aKk6GSDVEUparfe50jz4nr2mmKKoVbBct+DdXT/QufzdPpZ0WFdFFJmjFJmD2aE\n",
       "tWFoKkHHSbrf/E1685IDKjXApQmFMvP1055Na1vMOyKY/N3sjsEdtZG0zJ2xeWoj0JuhhCYSdVlc\n",
       "GRgUnKUhAWKE9ghyv5Aol4fES55XACYfqAk6LmQthyMMA19+e22pi7gf0v14jt1zLtfeJv+348Q+\n",
       "QYIAScVPw+RhBBjW3SyMHEVpEuowi0KlS7+1aKDfKUSK/qaRUkY4U98nIlIoBVZ2F/N2euY5vEbq\n",
       "M5Q64v2NHEutbFlYfzv3wafBJrBTh4dlq/2WZCeT5/SCsIcZs6OiR1bTq1Qpg0X007NMdYehLjLQ\n",
       "wny3IBC3gdydwap82a43IXHQBfKYQcrVhgtryxr3TdZXuirvWn1NOrolw8K2Dc3CB6vPsJVqWYRn\n",
       "m2v0LsrAS0zp1jFNyhlL41RquHmiQwLB8Gb6vX+0vg/SzLXX6g90cl7EUwtZ2K/mxyxSyxez6zyD\n",
       "5C3KEey1lOLNSC/F+ukyvOGsrlCiC/nshtJR2AZX8r8ZnGG1F5ussHKQ/XQWFR4ufC1jdfzWiDKw\n",
       "PDfQQ6pRKQVt7r3mT0JAs1m7DHCCajPrLeO2808TL54WLhqrcw/+CC0LFcRxXYpryShfkFe7mxKJ\n",
       "Dvh8pmaOktNjOt84Cq0lO7Eeqzk6HY2C0jHvCvOElS02MnkPo0/lc9x4DD5zX3V1dcS+ApU7+qwa\n",
       "f4sgGow/1rbJ9JrWHikY0pJ4R9Tg3SsZxvbRQ0+ysjntJCawmrlFe/JULb0F5SI9naK2FqK9QCtx\n",
       "8QBV3T1lbk+DQ1PWC8SZ1zZj44YN2H7pSiSySEoWGj2Jc2PtpQ45fBgcv83+eS9VP+7Ysklvw8Yo\n",
       "g/EP9slim0MU+gXqce/SZXQ06QAAAABJRU5ErkJggg==\n",
       "\" style=\"display:inline;vertical-align:middle;\" /></a><br>(see <a class=\"ProveItLink\" href=\"../../../__pv_it/theorems/4cca60b2485843ce1f10ab2cf677a9c2c21d745b0/dependencies.ipynb\">dependencies</a>)<br>"
      ],
      "text/plain": [
       "<IPython.core.display.HTML object>"
      ]
     },
     "metadata": {},
     "output_type": "display_data"
    },
    {
     "name": "stdout",
     "output_type": "stream",
     "text": [
      "mult_int_nonpos_from_right_nonpos may now be readily provable (assuming required theorems are usable).  Simply execute \"%qed\".\n"
     ]
    }
   ],
   "source": [
    "%proving mult_int_nonpos_from_right_nonpos"
   ]
  },
  {
   "cell_type": "code",
   "execution_count": null,
   "metadata": {},
   "outputs": [],
   "source": []
  }
 ],
 "metadata": {
  "kernelspec": {
   "display_name": "Python 3",
   "language": "python",
   "name": "python3"
  }
 },
 "nbformat": 4,
 "nbformat_minor": 0
}