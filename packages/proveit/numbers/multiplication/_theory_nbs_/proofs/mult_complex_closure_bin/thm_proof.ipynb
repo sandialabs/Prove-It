{
 "cells": [
  {
   "cell_type": "markdown",
   "metadata": {},
   "source": [
    "Proof of <a class=\"ProveItLink\" href=\"../../../../../_theory_nbs_/theory.ipynb\">proveit</a>.<a class=\"ProveItLink\" href=\"../../../../_theory_nbs_/theory.ipynb\">numbers</a>.<a class=\"ProveItLink\" href=\"../../theory.ipynb\">multiplication</a>.<a class=\"ProveItLink\" href=\"../../theorems.ipynb#mult_complex_closure_bin\">mult_complex_closure_bin</a> theorem\n",
    "========"
   ]
  },
  {
   "cell_type": "code",
   "execution_count": 1,
   "metadata": {},
   "outputs": [],
   "source": [
    "import proveit\n",
    "theory = proveit.Theory() # the theorem's theory"
   ]
  },
  {
   "cell_type": "code",
   "execution_count": 2,
   "metadata": {},
   "outputs": [
    {
     "data": {
      "text/html": [
       "With these <a href=\"allowed_presumptions.txt\">allowed</a>/<a href=\"disallowed_presumptions.txt\">disallowed</a> theorem/theory presumptions (e.g., to avoid circular dependencies), we begin our proof of<br><strong id=\"mult_complex_closure_bin\">mult_complex_closure_bin:</strong> <a class=\"ProveItLink\" href=\"../../../__pv_it/theorems/277fe1e8f31ccffe3a0ffaae280d8068889a11190/expr.ipynb\"><img src=\"data:image/png;base64,iVBORw0KGgoAAAANSUhEUgAAAKsAAAAWBAMAAABNknGBAAAAMFBMVEX///8AAAAAAAAAAAAAAAAA\n",
       "AAAAAAAAAAAAAAAAAAAAAAAAAAAAAAAAAAAAAAAAAAAv3aB7AAAAD3RSTlMAq1RmmUTNIjK7EInv\n",
       "3XZ/CtNrAAAACXBIWXMAAA7EAAAOxAGVKw4bAAACs0lEQVQ4y62VSWgTURjHv8ySWTpZEPESKQOC\n",
       "PYiSgwhGqANRKwhppCBCxUYFpZ4m4FElHgQhFSPEZWorT3oqARMX0IsiiCCIUKQgCAPTU9WD9FSh\n",
       "oPi2mWQmzdCDH/wnmd+bfO/b3gRgC2ZzbYIHPb4FS5tMUTvbR1rzF1frlGfJ7a5Yt3u4ekyfW8Jb\n",
       "5aP778zr403Kj5L7S3Fe9QpTyJIWvlyOwNIkgNik/Aa+VRpxbqU8U8gypCj7w0y1ZvF1O+VJBDBk\n",
       "xrk1uEI2hQhF7OaH65JsEoiEt0C5iONIxpZ2N1fI3tBKsBxO/WRMUyxeIcw/u+6nWLcnuJTcqhfA\n",
       "c7+24SxpvxW/xFW1w74QfhxgNtbtBa4ztrYRtHEdtW0QaSOT/pzWZd4BwqugZIOiTwez0hy+zr9+\n",
       "YdLfg7TkLwsbYHggvKNufXhF5tkQrqGhchBZjvheccr6XVt4xNkHJmkNUh0aKJmOCmQ6oK6R9RkX\n",
       "W4PWlheBcMHr6dhHrCM1XJ2nAIfCbo0GtOn+y1h4gykTZBrtov9jDfFBpbwySo7d6Cuyzd8VRM/O\n",
       "wk3cinAR2h4c7h3bcQQCLUrKhzKdWxkYf447qX9Vf5OKfktbdPORkW4Gj5naJuwQ/O5karjUINLo\n",
       "0sF8lE7iyzHOr+KOSZZKAtfyYmWCPFAodN0+Y9I8YVnyWSKv4RmVWC3PB32+P6bv9XkC19Iop8k4\n",
       "GDUpe8BxHPPW6a7b20z68Ovq92DAckWSPuv1k3vIf4PN/RnrcpyhrRXwWgYMs04HGrdM52upGlO/\n",
       "XeOfk/NuZTMOhn1nArUghQ7ifpKT89KGt3xNtJj6rTjgAAVcLu57ATOmWvJAeUjTmW4GAT7gitqg\n",
       "F1+UsxdZy3HKIbzYO5w9pg34d4lwGQ3Y3WOK2uqAGkS4CP/N/gHaFqVWNkGlvgAAAABJRU5ErkJg\n",
       "gg==\n",
       "\" style=\"display:inline;vertical-align:middle;\" /></a><br>(see <a class=\"ProveItLink\" href=\"../../../__pv_it/theorems/c404257f91b6ca40896fb4455abfa48c506792620/dependencies.ipynb\">dependencies</a>)<br>"
      ],
      "text/plain": [
       "<IPython.core.display.HTML object>"
      ]
     },
     "metadata": {},
     "output_type": "display_data"
    },
    {
     "name": "stdout",
     "output_type": "stream",
     "text": [
      "mult_complex_closure_bin may now be readily provable (assuming required theorems are usable).  Simply execute \"%qed\".\n"
     ]
    }
   ],
   "source": [
    "%proving mult_complex_closure_bin"
   ]
  },
  {
   "cell_type": "code",
   "execution_count": null,
   "metadata": {},
   "outputs": [],
   "source": []
  }
 ],
 "metadata": {
  "kernelspec": {
   "display_name": "Python 3",
   "language": "python",
   "name": "python3"
  }
 },
 "nbformat": 4,
 "nbformat_minor": 0
}