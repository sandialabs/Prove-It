{
 "cells": [
  {
   "cell_type": "markdown",
   "metadata": {},
   "source": [
    "Proof of <a class=\"ProveItLink\" href=\"../../../../../_theory_nbs_/theory.ipynb\">proveit</a>.<a class=\"ProveItLink\" href=\"../../../../_theory_nbs_/theory.ipynb\">numbers</a>.<a class=\"ProveItLink\" href=\"../../theory.ipynb\">multiplication</a>.<a class=\"ProveItLink\" href=\"../../theorems.ipynb#mult_neg_left\">mult_neg_left</a> theorem\n",
    "========"
   ]
  },
  {
   "cell_type": "code",
   "execution_count": 1,
   "metadata": {},
   "outputs": [],
   "source": [
    "import proveit\n",
    "theory = proveit.Theory() # the theorem's theory"
   ]
  },
  {
   "cell_type": "code",
   "execution_count": 2,
   "metadata": {},
   "outputs": [
    {
     "data": {
      "text/html": [
       "With these <a href=\"allowed_presumptions.txt\">allowed</a>/<a href=\"disallowed_presumptions.txt\">disallowed</a> theorem/theory presumptions (e.g., to avoid circular dependencies), we begin our proof of<br><strong id=\"mult_neg_left\">mult_neg_left:</strong> <a class=\"ProveItLink\" href=\"../../../__pv_it/theorems/4c49e90845c2c010933e8618f4f4822f1ab47c440/expr.ipynb\"><img src=\"data:image/png;base64,iVBORw0KGgoAAAANSUhEUgAAAR0AAAAWBAMAAAAP9FU/AAAAMFBMVEX///8AAAAAAAAAAAAAAAAA\n",
       "AAAAAAAAAAAAAAAAAAAAAAAAAAAAAAAAAAAAAAAAAAAv3aB7AAAAD3RSTlMAq1RmmUTNIjK7EInv\n",
       "3XZ/CtNrAAAACXBIWXMAAA7EAAAOxAGVKw4bAAADUUlEQVRIx8VWTWgTQRR+STY/3W3jXkulLFTs\n",
       "wRZzKIVWqJVYFVQMCuJB7EIPoiCsR6WWKAiilbZQ0CiULYpYKjEV6UUoQRBEsQSx4KWSakQUKQXB\n",
       "Sk/O7E/e28km680Pvs3m2/lm3ux7M7MA/wKDkCAutovXMwe38Om+LpIakiJahgABRNNnv/7PEKpc\n",
       "6Ggczy5CD74ECoIpXPCdbwo5xIWzDcORdaQXMTNIEEyP/Ec4j7zKkzrZMB4phfQiMhgkCKa0/wg9\n",
       "SD4jRWsYTzOhgDeBgtdUrDOCWWWExR9rXD47CQWMBAoeU1j3HyGWQr5bXX3bOJ7DhC7ya49fsLe6\n",
       "gEIaZJUKxIzJK6DVrq5KCmZZglTkIYB7jeMZIXQxmGyXSgC9VaHQBZENR5BWLag1L4zP37VaUMJF\n",
       "2MvKTkdehLjqtwan28ec2/eEbt0aka0Q67zLFRLaUQhNEgGIuYoWDa0WrrHIWlkei8gmU8l4u0is\n",
       "5TLylBG+7/x/hZQvWDPPJkCySmGCX57yvQCWobnsCBTExOqVjeRa5d/sYjLPMtM2kOGyWM77mVPJ\n",
       "A+ypjYcsCWsrPm3Nmi/y6BZMZB1BiIeYMmiFD/wybCb+MHMRCfoAu6wfrLDTI7oGIWuXhAfX8azx\n",
       "yRfryJDZAu3GUtXhJzgCrZ+afLlWGwcgyfNUQsIztismjdYYa5vfZo7DHG/X2Ym9zBA6mMtsB4X9\n",
       "9lWVJhWmPAIxY6MyWm1McSNEJpEwygWYSbDby93wHU7wdv392MsCoYPdN4/Acc9qltToL3F5Awgb\n",
       "AF/PrtXGPhhO2fuASwhl+YNN63EbtENvLpfTbpzCXm4TOni4Hk7zd7+C51RbZdMjEDOulBJabcwu\n",
       "HWN10pJBOi2LVrWswGu4Zc0kz9eMk/UsUvjeKdHJ64JQNSM+1m4si4xXCC2MKroE86x9dINtAHyk\n",
       "5wYskUPSZd3DchGeaMFHbo/wVNHll84xm6bHrfR16QeMa7CjT4f4Xa7Mn5uuzuwOoQeX8PYTy7VH\n",
       "oGYsaOETsKUcKtjfFy4pNNloYhOcz+W8O+QcYb2xOioZv4gFkyyMGB4YcqJ0Sb82zVD5pN8BFi8j\n",
       "PWeK+MGbNPzNiDG//r8R0lRDdKAA/xd/AT5z9RsmR3fUAAAAAElFTkSuQmCC\n",
       "\" style=\"display:inline;vertical-align:middle;\" /></a><br>(see <a class=\"ProveItLink\" href=\"../../../__pv_it/theorems/e02108d2fb684ef04e8c9be9dc9f647b656690690/dependencies.ipynb\">dependencies</a>)<br>"
      ],
      "text/plain": [
       "<IPython.core.display.HTML object>"
      ]
     },
     "metadata": {},
     "output_type": "display_data"
    }
   ],
   "source": [
    "%proving mult_neg_left"
   ]
  },
  {
   "cell_type": "code",
   "execution_count": null,
   "metadata": {},
   "outputs": [],
   "source": []
  }
 ],
 "metadata": {
  "kernelspec": {
   "display_name": "Python 3",
   "language": "python",
   "name": "python3"
  }
 },
 "nbformat": 4,
 "nbformat_minor": 0
}