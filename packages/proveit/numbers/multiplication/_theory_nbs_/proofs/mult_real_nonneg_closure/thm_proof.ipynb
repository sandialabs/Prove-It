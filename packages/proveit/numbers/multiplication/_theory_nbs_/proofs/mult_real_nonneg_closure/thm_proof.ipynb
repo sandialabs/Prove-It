{
 "cells": [
  {
   "cell_type": "markdown",
   "metadata": {},
   "source": [
    "Proof of <a class=\"ProveItLink\" href=\"../../../../../_theory_nbs_/theory.ipynb\">proveit</a>.<a class=\"ProveItLink\" href=\"../../../../_theory_nbs_/theory.ipynb\">numbers</a>.<a class=\"ProveItLink\" href=\"../../theory.ipynb\">multiplication</a>.<a class=\"ProveItLink\" href=\"../../theorems.ipynb#mult_real_nonneg_closure\">mult_real_nonneg_closure</a> theorem\n",
    "========"
   ]
  },
  {
   "cell_type": "code",
   "execution_count": 1,
   "metadata": {},
   "outputs": [],
   "source": [
    "import proveit\n",
    "theory = proveit.Theory() # the theorem's theory"
   ]
  },
  {
   "cell_type": "code",
   "execution_count": 2,
   "metadata": {},
   "outputs": [
    {
     "data": {
      "text/html": [
       "With these <a href=\"allowed_presumptions.txt\">allowed</a>/<a href=\"disallowed_presumptions.txt\">disallowed</a> theorem/theory presumptions (e.g., to avoid circular dependencies), we begin our proof of<br><strong id=\"mult_real_nonneg_closure\">mult_real_nonneg_closure:</strong> <a class=\"ProveItLink\" href=\"../../../__pv_it/theorems/a78d485818b17e787f02c2482bce7d7eb188a79e0/expr.ipynb\"><img src=\"data:image/png;base64,iVBORw0KGgoAAAANSUhEUgAAAb4AAAAaBAMAAAA6WSSWAAAAMFBMVEX///8AAAAAAAAAAAAAAAAA\n",
       "AAAAAAAAAAAAAAAAAAAAAAAAAAAAAAAAAAAAAAAAAAAv3aB7AAAAD3RSTlMAq1RmmUTNIjK7EInv\n",
       "3XZ/CtNrAAAACXBIWXMAAA7EAAAOxAGVKw4bAAAFXElEQVRYw91Yb2gcVRCf3O1m9/7kevghNArl\n",
       "RCwBbThbE20odaEXGhUhQf2iBU8URKXtBoJwTWvO0g8GanJYQriCurVBaKK9q6HUpCihIcRa1KCx\n",
       "0crBqsUaY0sR0kigxHl/bm//XDZ35poPDuzbtzNz795vZt68eQ/g/0Q9bfR1fr5E/arcbEX/v/EO\n",
       "4/OPRrD16mIKFOyEct+561dX9u89yh334FwUIJiERUjQz23riu8j0qhrH0dykW3XoVuDC+jE9cd3\n",
       "jMRMZO3jiLqN0XTxg70Xo6y/Q+3T4HuAKwxfmLzuWxmfq7xMs49j80AlRvrNzkh1QPt2jfSG+wHx\n",
       "fQPwC8PXQl6vrIzPVV4eCVnMAPFKjFSt2fF1gU8mrujcCCQ+/wbIaBTfW8SwqZXxucrLow2YvYVo\n",
       "JUbyKk58goqm60B4LL9AdZTiI6YIRFbG5yovjzBuIFiZlfwVe4Xey10u4EvBid2Uq4voSiFF8Xmj\n",
       "LmkEBa7y8ug6PpsrM9RLLM/s0wr+qxoKwxD7On8V+aFxlj+/zuUuueVPN3l5VIvPkyTc77lmS4BO\n",
       "TrH0ZFI6Q9s3NFN89my27jziEsPXCnDcDZ+bvDxKc8PvUX1LVomTU4TMSk1gTXupg3tv/2lVl/9h\n",
       "+DpACputNHMWdoRN+Gzy0mlwjAz36zWD8SI+WDD5J0CYBn+TqayinOEzd7vWXlSJ04O0jZvyyzZS\n",
       "PPSkkbgbpQWGz6cF2vJqvXX9cG9AEzQTPrO81Drs55drMZS6dpP0VFi8M/hM4sK/CTVZ6L1OeRky\n",
       "R8ZR4CkC41YRaLcMpXyqoh7CpZP7iePznbRlZj/H59GNGQitZC/XlYA5Pk3ykojYSM8GurB7ugU+\n",
       "hqBm9h/iC6YggxbbQnk1JNMzzgJ0J7kV7DRjKOVjlSJImfwnK7ZVJPH4hPhOzJK7eq/ysqD+/jct\n",
       "+Ki8jE2c2EjXvafJx6G2Q1CTtMVnRofHII+POZFymhm+lYgpPfzoDcX48bR5/2tN2NbfIsf36WsA\n",
       "J/dEgyqzR33gw+ct+Igchneey/t9ZN5ZIheY1Ea6HhrE15Ex4j9Duw6f93GiEaj1qBZ8jAOfuxmO\n",
       "Kh1onIApUkVT1g0zvlOhaNH8CQcxfRz4HTZoIlWoB2XOgo/I/bPUHIQ+Ufuc+Awms5GeTSDOdrp1\n",
       "FqL7L5bYfbpnRrD4j3PkKwUwcb7qMnGLknQ6Dkt8m8HBjboj1Ykbdb+1xuH7H1SRqNiEIe19NZ1+\n",
       "F/ENV1vwEbmgyOMg0QiPwVEQG1qs+AiTWY3aSH98FOBEhObPRwylF3AlvoPz3vRZxx8WfJyTKFSV\n",
       "dFnO5DsmpSpdJPP+gbHqnjPODwOQ3m8ps4Sw+Xz0JcRkOcv8JzY4zkfBtlAYDlP7TmJlHoSMFd8k\n",
       "K9eB20jXzxYp6YKYHgqrcYtj/1ak1c+GwaSgJEHiK08c5fVZsb07asIn3YQf69k+3gj5uZrwZVRf\n",
       "s0aPVP5FODYk5d2Vty1helu2ZoHZSNefHYPOWCzWZj8/FCpjB77E20e0VfF1Q83hZElVOj8/cEOE\n",
       "YT4KCTSufFmFKqf/1L6nCT5/FqbkhWaAftIdNhrC9MyRhHacrb/AoPMfZRJZA/yja/8XNvG3y8ur\n",
       "z7odQiMAiRIS+UPO87t/NN1f/Pwu7moYIUdi+QI8sxUtISRJ96gqT5GGMzdKmAyIjcR9r/tjRQ56\n",
       "d+FzqhKV3kAJOrPl309gfHpYbyxkdMHoTYcaNaeNbPcvkr52eKES7nD+w/1L76UIsIRVvXwbeJcQ\n",
       "6/nDnpFV6rbs+l2FlnZ/5rj/jBbrlnwmb1w/fE/Q+8+JfwF/9ovCRPEpzAAAAABJRU5ErkJggg==\n",
       "\" style=\"display:inline;vertical-align:middle;\" /></a><br>(see <a class=\"ProveItLink\" href=\"../../../__pv_it/theorems/f927d15caa49d85e850f98500f5a6240505facef0/dependencies.ipynb\">dependencies</a>)<br>"
      ],
      "text/plain": [
       "<IPython.core.display.HTML object>"
      ]
     },
     "metadata": {},
     "output_type": "display_data"
    }
   ],
   "source": [
    "%proving mult_real_nonneg_closure"
   ]
  },
  {
   "cell_type": "code",
   "execution_count": null,
   "metadata": {},
   "outputs": [],
   "source": []
  }
 ],
 "metadata": {
  "kernelspec": {
   "display_name": "Python 3",
   "language": "python",
   "name": "python3"
  }
 },
 "nbformat": 4,
 "nbformat_minor": 0
}