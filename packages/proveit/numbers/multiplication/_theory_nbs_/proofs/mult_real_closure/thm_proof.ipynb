{
 "cells": [
  {
   "cell_type": "markdown",
   "metadata": {},
   "source": [
    "Proof of <a class=\"ProveItLink\" href=\"../../../../../_theory_nbs_/theory.ipynb\">proveit</a>.<a class=\"ProveItLink\" href=\"../../../../_theory_nbs_/theory.ipynb\">numbers</a>.<a class=\"ProveItLink\" href=\"../../theory.ipynb\">multiplication</a>.<a class=\"ProveItLink\" href=\"../../theorems.ipynb#mult_real_closure\">mult_real_closure</a> theorem\n",
    "========"
   ]
  },
  {
   "cell_type": "code",
   "execution_count": 1,
   "metadata": {},
   "outputs": [],
   "source": [
    "import proveit\n",
    "theory = proveit.Theory() # the theorem's theory"
   ]
  },
  {
   "cell_type": "code",
   "execution_count": 2,
   "metadata": {},
   "outputs": [
    {
     "data": {
      "text/html": [
       "With these <a href=\"allowed_presumptions.txt\">allowed</a>/<a href=\"disallowed_presumptions.txt\">disallowed</a> theorem/theory presumptions (e.g., to avoid circular dependencies), we begin our proof of<br><strong id=\"mult_real_closure\">mult_real_closure:</strong> <a class=\"ProveItLink\" href=\"../../../__pv_it/theorems/df8ec7309781ca73d153791a726a4f9202d7a0fb0/expr.ipynb\"><img src=\"data:image/png;base64,iVBORw0KGgoAAAANSUhEUgAAAY0AAAAWBAMAAADOX93WAAAAMFBMVEX///8AAAAAAAAAAAAAAAAA\n",
       "AAAAAAAAAAAAAAAAAAAAAAAAAAAAAAAAAAAAAAAAAAAv3aB7AAAAD3RSTlMAq1RmmUTNIjK7EInv\n",
       "3XZ/CtNrAAAACXBIWXMAAA7EAAAOxAGVKw4bAAAEpUlEQVRYw81XXWgcVRQ+uzu7Oz+76z4VfyCs\n",
       "iDVQuixtKhqkDiSF+CCmVH1ogyxSECutsyDC9iddRVAhtIuySALaiSmFdrVZG6K2oKilxCBiHkJb\n",
       "bAdGI9Y2UoIQC5Uaz7l3ZufupJMlTB48cGbOnnv3zP3u+bnnAqxAGasCoSnpcFgygvXt1qn1r8H3\n",
       "f3U4LL3g+/3o9LG90wWux4VmSfdQEI4IvaKFEJ+PNjiHpox/FdUSbH/cZHrEsY1ULwXhkMgjCSPE\n",
       "5084HJ72+HEcAEXOMj3ieIPCtxqEg+ZBOczXexwOT13LcUhGkekRR8LEVy4wP2gTzoT5+jcOh6eU\n",
       "yd/XLavYxFFlelxoDMMrEZznm/FVDJMeRc5rQAmeIM/f8PwROZVleipIP1rWD8E4UpZ1NUyWSg3O\n",
       "UPp60FePH7hmty/awiSNlaTkHiGu3l1vMD3h6AMYCcYhVUAxQ24icXwKjrXaGTCU223/Lk6KMbd6\n",
       "Rad6cO+dG1xPOEqQzIo7MDsJT2SbOHCstOpYurJ7nbuL6RznTwrwNMCYF2HqeZBmoP7Z/StZ4pNc\n",
       "syzNEkKebz7h6AmHYnrH3ZH7avCgZkqmdw6OwOSqQJAJu6EdcJOzn/MzAFdAvskWpf5NAbcA6Qbo\n",
       "hA5gfHkGCZMckhfoOWQhVTkOZazA9bTQqN2EKPXRmWjrmnCe51eX5syEbcdO+3BMg7qI3+KbO0sD\n",
       "VRjvh0U4TC1FWl9uyZvkUJz546TgD1kf4XrmieJWjLGeI78BzNFw58ODIo5EDENEnZh3w1IQPapv\n",
       "/cKRmAnbzhxvjSv1X4gtNHEwF9jwJEA3xxFEfFLXYzcJJ/9zWjw/+spcz3CcwQowNlBIGSpzV6f2\n",
       "8S4Bh7Yeg+xT46i7eEH0YuCSfMuRmAm7UZ5zhhSbsfoXRIqPtODIwbooWvpqJe+ySfu3nIcpymdm\n",
       "O2MLOE5SU4J6huMgZvX+3+EeM84KdCfo1wUcyW9R6IUhPNZZ1pAYz29rDSZddo46bsJ+6qxYLIk/\n",
       "go26LuJQ7OishMH9s7foovNgqeFNSp4uwm2nhCO92MTxGh5+NaZnOCLk2Q4YgNjLw8PvIY56Qux3\n",
       "70W+AL+AvJHhIDEF460nbX/GqXDchG1Puh2CPMN5dP7tjoqIQ+34svSHuzk8BHX3Mds6KWKz1Ejz\n",
       "TBmtmW6/+wEMv5ojvVepvodeWW5wf8Tzvr5dvQXvn4K06YpJco/ofkPpNrt2bMAlN3h+PHfOHbvs\n",
       "MC+dM/5zTk+2b0JTFUnHvT7k/Nz1odVSeg4JF4zkAlzu5OfhFsAd990/puTFbsKhNrgINRLr/FGH\n",
       "lHF0h5mvUgqO8PzQjovdXVcgjvI7b7U/ZQ9D+s1KcLfZIyw0noX5ApRxtnzRgIgfx7ObcBRxyN9x\n",
       "EU95FIcMeQofQ7l4T34Cw/N1WhiaiO97Re11t0wxOLPd+vwfXyvy09JS+1q+HTITwU056X0XPvXs\n",
       "cC34PkhxFeXiuUxTROK5kIa5nctNsAqmVtegTVSMYH2bi6sm3nvlP7F/38mbpqU7rki+5JExChvu\n",
       "em8cdDgsXQvWZ66u9gJeuIsYg/8B/QcF1WExMpysugAAAABJRU5ErkJggg==\n",
       "\" style=\"display:inline;vertical-align:middle;\" /></a><br>(see <a class=\"ProveItLink\" href=\"../../../__pv_it/theorems/9b7482710fe78e8089de0b01a56711750d33df330/dependencies.ipynb\">dependencies</a>)<br>"
      ],
      "text/plain": [
       "<IPython.core.display.HTML object>"
      ]
     },
     "metadata": {},
     "output_type": "display_data"
    }
   ],
   "source": [
    "%proving mult_real_closure"
   ]
  },
  {
   "cell_type": "code",
   "execution_count": null,
   "metadata": {},
   "outputs": [],
   "source": []
  }
 ],
 "metadata": {
  "kernelspec": {
   "display_name": "Python 3",
   "language": "python",
   "name": "python3"
  }
 },
 "nbformat": 4,
 "nbformat_minor": 0
}