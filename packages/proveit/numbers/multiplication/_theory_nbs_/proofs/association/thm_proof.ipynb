{
 "cells": [
  {
   "cell_type": "markdown",
   "metadata": {},
   "source": [
    "Proof of <a class=\"ProveItLink\" href=\"../../../../../_theory_nbs_/theory.ipynb\">proveit</a>.<a class=\"ProveItLink\" href=\"../../../../_theory_nbs_/theory.ipynb\">numbers</a>.<a class=\"ProveItLink\" href=\"../../theory.ipynb\">multiplication</a>.<a class=\"ProveItLink\" href=\"../../theorems.ipynb#association\">association</a> theorem\n",
    "========"
   ]
  },
  {
   "cell_type": "code",
   "execution_count": 1,
   "metadata": {},
   "outputs": [],
   "source": [
    "import proveit\n",
    "theory = proveit.Theory() # the theorem's theory"
   ]
  },
  {
   "cell_type": "code",
   "execution_count": 2,
   "metadata": {},
   "outputs": [
    {
     "data": {
      "text/html": [
       "With these <a href=\"allowed_presumptions.txt\">allowed</a>/<a href=\"disallowed_presumptions.txt\">disallowed</a> theorem/theory presumptions (e.g., to avoid circular dependencies), we begin our proof of<br><strong id=\"association\">association:</strong> <a class=\"ProveItLink\" href=\"../../../__pv_it/theorems/181afd61fce84100a093f5d08665cb25a7b79a360/expr.ipynb\"><img src=\"data:image/png;base64,iVBORw0KGgoAAAANSUhEUgAAA30AAAAzBAMAAADRHnwLAAAAMFBMVEX///8AAAAAAAAAAAAAAAAA\n",
       "AAAAAAAAAAAAAAAAAAAAAAAAAAAAAAAAAAAAAAAAAAAv3aB7AAAAD3RSTlMAq1RmmUTNIjK7EInv\n",
       "3XZ/CtNrAAAACXBIWXMAAA7EAAAOxAGVKw4bAAAKKUlEQVR42u1cf4wcVR3/7s7szuzs3u4piT+o\n",
       "OVdFjOKVC22a0sTr4oFACbABo8YoLBFCrH+wbUhIgbarQSXxym3EBpZgHUKC3h30lhYRS6wHhtTG\n",
       "FM9afwQ8s/2RnPbkuBTOa47Y9f2Y3XnvzezO3M07up12/th78+b7/e577/Pe+36/bz63AP4uY2TE\n",
       "hAtXR12LwaSrXs91ZCcePw+BG6awJer1sm/88p3ZlUjfeYif/oZVUM55/Fbwt1qYYCq2fNIbFvyU\n",
       "An9/LEz43dbySbI7JPg9yM/RaFVabPDkhOBzDvnwS4ekdi7d2jf8OST4/ZO/fUae5bgYrt3pQ+lO\n",
       "ub3b2PLJ581Q4KeM8/cD8kxnskLFKR9Kp+R2b7XX7DrX8UsJ++W4PNO3C6lVbMFbx4/MorrXMr2L\n",
       "zYcCv7f5DkYL8kz/RgwZJrx1/Mgsag9v7QDvCAV+f+JvVbwcN+3fJuQUK6Zq3qZEtTtmPsiPZc/R\n",
       "rOd4O2T2Hy/xCM+s9W5KU6kRZrpcl5shwE8/7ZyvsQPwM35VfqOY8N7XqJrRDGeN/5pjXGw7ttGY\n",
       "9zJCZXS7YmtW5UZYOwzXezbFVqLZ0Y2T+BKm6lgtBPhFBH/XhWb/s31wI8DT9k5q/A7UCRh9/uK2\n",
       "pqhasrlQowuQqhlruAn/uvHyB8x2RrAMaoW95N4UjHRVvY0QJYUE1tHW/jwxEQL8UsL+kkKNvBkP\n",
       "gD4zQRcR3lRn8bDlMDxo2rp4SFJH1Jh7tQCZ6iNv2RVfAnhPxTPBMutmBMs01y82gtc9a+RmhJyX\n",
       "EaIEr5H9ZbZ15D0fAvyG+pz4HQRjDs1cGkkcwZVlGMvDHGzHy6Ir59I1XEfV7HsE+e1Z65yKVLwJ\n",
       "sVOZvHa6YdbNCJZpVFhfDcAaOYgTEw8jREkjyMVarz/jnRDg93bRsX8aZ0CZbeJneYr1AOsofi2H\n",
       "g6jFjrLpH1osvWxqpy4opna6ffqHFs/uLwpOqpf9FjTmHkaIklLeVm30wtX/wSshwO9J0SnUwDgF\n",
       "kcJnOPyy8KFo0ZkQ8PgRtd2ZpmfKlJDfZPE7jV2kR4ZAZHKX2pMAaeRZI2jRxLyMEKXI1OcOtIfn\n",
       "pyHA76CYfyF/uAt6czkWv0QtekRl3rlYrgf7GsYHEbX77aGO9CVyHH4XwU/Q5w7TYYTxqVjGMF+w\n",
       "85kyJEusERR8vsQasVthGyFKqWNQsvKhFtdvLfxICPApP/hFSEjUQe/bjHfFfAKh9tT0D3tKLH5G\n",
       "z0ub/gWwhQn6jjR8je2DqNouW2vFALf1wVMvoJ5rT7gYsX0qkYFv2TIvrzrJGUnu7Tc5I81WMI4Z\n",
       "K22/uuSxaNbnKX7X4Ju7/eCnYo14sYPSvzNizd+b4b+4RWk5zbvlxoLgI3sFgXvhPu9miWniUoxc\n",
       "GZtAzd3aLnajbhK+iztX9oOfjpfqlg7aPqOO4+LVLfHb8vBDprfBQq7t0GuPP7zBe1aNQ3AjPfpE\n",
       "tf1x/FiO4hdH3Upm/eBHXmfs6SD8FEccl7DWmPbie8KR2R/rdR8bcg+/Rh+4Zz+fn9Trs55G0kJS\n",
       "uiQjj8FFpfbLKtNN8VPQlh33F7+sQn8LHYRf2nGgZZTPfqvi0iKERLsdP1O24s9Dk5N/8IdfanLy\n",
       "H9UOwi/pPNbcdtYbddegNFNTbc+eChZ+1wGggMg6uS21w08tQcLsIPzUBei866YN78/3dE1Y+G0C\n",
       "rbt5cosDuC80XMfWG/LKKwx+SG7TYr7iB2Vnye3poq5/XzXVaF9kFs7fq2vcwi9hJvk0A58ign60\n",
       "ko9274MNbP7+BPxyMV8RqTpLbk/9Xo98dCcMfxg+W72AH4NftCaEL9vxB84fo/0qVFn8Vi4ufEmV\n",
       "nCW3p363S7TTw74aKNVO3j/fN/wa+ycU+sE6uTVO4ETiSm2aUtei3/tqjcMvrqCty9g73YiLRvt/\n",
       "5TRsVw7NXOwoMQmoXbe/31liwpTjdMM8jlu4Nm/zWpPOF6oy+bvFs6ruZakZv8AelNfRk1uVEEh6\n",
       "Nj9bHCbpbGnfpzn8kpciqeeKQ5ZB42+6cwSZyrfME46Sfdl1XflBR4m5/qKP4xfSJDeIbmY6k3ae\n",
       "40vk76azwfRvk9YSV0up7gZ+D6ISPbkdSeKk/vWsDrdS/NR0mcVPw9HM1TBonSaqOX0cbjnBe09S\n",
       "CUTtUVhjHTuiUmzlNXwD8FPqXq+HX1hyqOSQU8tGKYraFcNbgvK02S5/j0pMby4LyOFNS8sDXS1l\n",
       "cg38ItgR7Wrmntq7yM+sqVQq2WjJqBZY/OAjgN8MHwW91ySBTrobxo1ZIfppHkD8Hq6igriUgjG+\n",
       "AajOKr0GlkFccsjhcEpF7VK+Xan8WP8+4zWjc2KnJPJ3jUJQDu9GaW1xszRWBeb9kXVymynium9q\n",
       "8CO6/uCWGocflpyHR0egCw/3WDGxziwK532k8jKiNguvUkFc0kDYGvHTVWSA8H5L5eaxBxPkcJvi\n",
       "982ATtYWil+gsQT1d8ROSeTv4ikTjMO7Wlpb3Cw1zq+tqVzIGWh8BmEUIrUdSZqnK3n7MM9+lXFA\n",
       "n1uHh3sUUsWhW01I5FERKVsfpPKTOXzzBjKPBK0S7GSkaJ12fwGX7oKkJYdLSI4zGM9DNbN5mJwy\n",
       "ADxwLUMyEt8fyeTvpiAohzcl7azDzdLlWW799RT1VwHtjIPZRDGyFjT8b5E77gZw4vflK6b78HAP\n",
       "ZmMDK/eS85vBrH4ABov4g1YmSoDMPTRD1pVVUkkdlSpadSgVQKV7V5205HAJyXEGtYF+cwiHqlvw\n",
       "FmG8WLmu2Ye/iu6vIA8//BY9GIdX3kGomyXCHeHev0fJq0dryxitVPLi+Rl7azYkk2atqQSN0nNR\n",
       "Ys4SpKV96UbJ+jLsevPucqLB6a0/R9D9urKT78PHxD1PIn/3BgjK4WXZt/J5vB8HEb+vx782DjGz\n",
       "9fmnfen/2dOQvKc+wShZpcRJZK4hSEvx+v+sEv0yahXc5USD1yavcGvUetM5TyXxd/FUDsjhVezd\n",
       "QAqPl78OOvDrU0+YoIAf/IiuW5Gp7PMuHbukxVNXgy4+XFgNEvm7cDgwh5dh38rn8WpnHPi1P65Z\n",
       "Dv7SJ3IB/fry8XdxKhOQw0vYt0vi8dpKLXm8oeDvquNO/CTxd/HABeTwUvbtUni8tlJLHm8kDPz5\n",
       "2Jxj/5TF38X7Z0AOr90GOTxePiuuhQA/ce5K5O/iA6mAHF57cJeBx0tDt3MdPyEAlcjfhecDc3ht\n",
       "9u0y8HgpnT5k/z8tkb8LOwJzeJkhk87jDcn/TytCYieRv9v8L74lc3hF9q1MHm+iOxT4wXdaHPQG\n",
       "5+8qOfdh98/hHWiPXyAer3Uye87jN8gvKpn83cfonyVzeEX2rVQe72EIB35pvgMy+bvDAXTxQV5C\n",
       "GoHCaSk0v58l/n6dRP6uVluyKuHwTklridPSV2DR+K3rzN9vjWc7sFHLzeHV6Qt5Y2S3f/wu/H5r\n",
       "51zP0KWEf7/1/8ky7aZ1VD+GAAAAAElFTkSuQmCC\n",
       "\" style=\"display:inline;vertical-align:middle;\" /></a><br>(see <a class=\"ProveItLink\" href=\"../../../__pv_it/theorems/2131ee6e25a81280393bad76051ef72f025dc0d30/dependencies.ipynb\">dependencies</a>)<br>"
      ],
      "text/plain": [
       "<IPython.core.display.HTML object>"
      ]
     },
     "metadata": {},
     "output_type": "display_data"
    },
    {
     "name": "stdout",
     "output_type": "stream",
     "text": [
      "association may now be readily provable (assuming required theorems are usable).  Simply execute \"%qed\".\n"
     ]
    }
   ],
   "source": [
    "%proving association"
   ]
  },
  {
   "cell_type": "code",
   "execution_count": null,
   "metadata": {},
   "outputs": [],
   "source": []
  }
 ],
 "metadata": {
  "kernelspec": {
   "display_name": "Python 3",
   "language": "python",
   "name": "python3"
  }
 },
 "nbformat": 4,
 "nbformat_minor": 0
}