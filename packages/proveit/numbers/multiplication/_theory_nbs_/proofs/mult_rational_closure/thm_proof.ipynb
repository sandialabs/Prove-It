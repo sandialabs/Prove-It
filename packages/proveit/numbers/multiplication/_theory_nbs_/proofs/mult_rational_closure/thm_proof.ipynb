{
 "cells": [
  {
   "cell_type": "markdown",
   "metadata": {},
   "source": [
    "Proof of <a class=\"ProveItLink\" href=\"../../../../../_theory_nbs_/theory.ipynb\">proveit</a>.<a class=\"ProveItLink\" href=\"../../../../_theory_nbs_/theory.ipynb\">numbers</a>.<a class=\"ProveItLink\" href=\"../../theory.ipynb\">multiplication</a>.<a class=\"ProveItLink\" href=\"../../theorems.ipynb#mult_rational_closure\">mult_rational_closure</a> theorem\n",
    "========"
   ]
  },
  {
   "cell_type": "code",
   "execution_count": 1,
   "metadata": {},
   "outputs": [],
   "source": [
    "import proveit\n",
    "theory = proveit.Theory() # the theorem's theory"
   ]
  },
  {
   "cell_type": "code",
   "execution_count": 2,
   "metadata": {},
   "outputs": [
    {
     "data": {
      "text/html": [
       "With these <a href=\"allowed_presumptions.txt\">allowed</a>/<a href=\"disallowed_presumptions.txt\">disallowed</a> theorem/theory presumptions (e.g., to avoid circular dependencies), we begin our proof of<br><strong id=\"mult_rational_closure\">mult_rational_closure:</strong> <a class=\"ProveItLink\" href=\"../../../__pv_it/theorems/dd75da0e737ffd009e204b2ccf87dc38da7305080/expr.ipynb\"><img src=\"data:image/png;base64,iVBORw0KGgoAAAANSUhEUgAAAY8AAAAWBAMAAADKqg3rAAAAMFBMVEX///8AAAAAAAAAAAAAAAAA\n",
       "AAAAAAAAAAAAAAAAAAAAAAAAAAAAAAAAAAAAAAAAAAAv3aB7AAAAD3RSTlMAq1RmmUTNIjK7EInv\n",
       "3XZ/CtNrAAAACXBIWXMAAA7EAAAOxAGVKw4bAAAE8klEQVRYw71Xf2gbdRR/yV2Sy+WSRfHHxiBE\n",
       "xVmoDcesE6fUaFcZiiwQ8Y+1SFBQHIIXEHXOjSiIgl0anGW2oF4tCLNKYsvYpjiqIp2KUKTqwAUy\n",
       "q85ZhSDOiaD1ve/37nJ35BrKBR/k3bvvffP9vs/7vl9fgDUoUS+Bb4oQ07q0TjvSOisay/nfH74n\n",
       "i6T9rxNquEfkExOvIIr7uaZJGrrGC0iAHkHVx/7BGrLeLhgElt0DZ0/B/s1oJZUBGaKhh72AiHQm\n",
       "YT+O8RaZrtANIGHdpd0tKoSGKgB7GJBnyf0qXkAkOrC9frYfxJ+odgOIkHW+vxRGVhkA6GdACGcs\n",
       "7RkjiBZm/Ww/jz8FukKf88f5ep2d8OQUsuOIRtFJUwGtFfYO9hvw4ccxgvTnLd0B8iDj9/1ihHql\n",
       "jPxqsQRhlaWlL+v1L7yBKPX6mZqPzUX6893kvpvPudJO8eSBzv+3T3qPZeE9xptUyyPPC2mIJRmQ\n",
       "nXhI3kAQcFT3E6GqYcoRLfq3M50uwBsdV3ZM2gb2zBNqbEVexpQqFBiQIkSS9rqzdBRuTVpA8Ftx\n",
       "3drLJ26/0hDjFH5f4dAnIC6CvK016R0V7gH5g0vWBMMmmXQ9A2IpWqOikU/kIDjPgET1Vt0rbxqH\n",
       "q2K6qLcK4iQcXRcIWmJfDeaM/KHQ2p+iizUhXoPybwznn8R3AXwHIsEzR5xULZiTTBojNlpHYlnW\n",
       "iBEdpCbTNNiwQIo7qTg2sjFbZc+sL9bZEsfSMH2TE4hSgSqKfWxwidhnIF+ADbnIX9aIk+JZc5JJ\n",
       "I8SOWK+TRSNrhfiJQAFTsTBY/sGonT3XHrADCQsYo/LciumaNrFFMwPHbOVXek6DRMLpWtUG3AYm\n",
       "ELbOvyA0QdA5EC8f5ZOYcsaf49bHYVZHMFCCixzILOaB6RFV0WR2Yj2xN4dtQGJb0M/e1cZM7W1i\n",
       "a79vpYtmTqTKNQ0WkCilqtcRSBquCGp2IL9DoHAdrr+4FhA2iSmHbzezRtbKfSJV9stxQ6HCgTyD\n",
       "of30T7BBD7EC3APZ8zYgkY9Q2AGjWOBZ5JAYygw5/SkrzRuphJYgEAnjVGNJnjejjeCSaD8RRNeX\n",
       "Re85aAU7CxQWGdWCYxJTzsjiAA+00jH2WpfxFM+ABKgFTqEHCo9MTLyMQGbC9u53I3PysyD1sS1J\n",
       "VKDqAKLkEkaeY0uEbK4lkcEPopap48WfHUCmVl5IlSBiS/1LZmTEs85JKR4eX/OhcRN6ZNdDf5Du\n",
       "8ZytTz8FOySpxk8klHG18fJFOPQ2xHVTjNAB2ROMFt2u9+d7qUqBM9jhNO1k3Rb63M7zODzZOYOQ\n",
       "cqi34YTDr9WNEwuUBuix33bhiDThdA8vjDdif+y+jyxIF7YTELnGRRgncYazGVC0sbyeqVAcsiXK\n",
       "SZg1+8R+R7vnBhJ59cW7Ol+pmHLtWs9U4tLnWV9qaRpKwooKe9Fy0jcaBNxA7t2KXxGI9DEXsd6j\n",
       "OKpJC8hG06HBzBya5wnqlMn48od3bjT3ilKYHjZe9j120qmJsrra7HylYsq1a8KDmx49xHp31xUQ\n",
       "r1zj3jdEcq0gF99PWCISr31xWN5tLhF7yrIey2NHutEzHvYYJ1N1uMvG7Fdh6Vds53fzBmr1H1Mk\n",
       "g/Hgm4Le1tnf0f+jKVLTF2n4x5Hwut6dw29n1nspV9uIQpt50nIJ/l/6DzhhTZK72taxAAAAAElF\n",
       "TkSuQmCC\n",
       "\" style=\"display:inline;vertical-align:middle;\" /></a><br>(see <a class=\"ProveItLink\" href=\"../../../__pv_it/theorems/9eceba9c6075c7dbb2143be9392beee974505f230/dependencies.ipynb\">dependencies</a>)<br>"
      ],
      "text/plain": [
       "<IPython.core.display.HTML object>"
      ]
     },
     "metadata": {},
     "output_type": "display_data"
    }
   ],
   "source": [
    "%proving mult_rational_closure"
   ]
  },
  {
   "cell_type": "code",
   "execution_count": null,
   "metadata": {},
   "outputs": [],
   "source": []
  }
 ],
 "metadata": {
  "kernelspec": {
   "display_name": "Python 3",
   "language": "python",
   "name": "python3"
  }
 },
 "nbformat": 4,
 "nbformat_minor": 0
}