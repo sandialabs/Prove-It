{
 "cells": [
  {
   "cell_type": "markdown",
   "metadata": {},
   "source": [
    "Proof of <a class=\"ProveItLink\" href=\"../../../../../_theory_nbs_/theory.ipynb\">proveit</a>.<a class=\"ProveItLink\" href=\"../../../../_theory_nbs_/theory.ipynb\">numbers</a>.<a class=\"ProveItLink\" href=\"../../theory.ipynb\">multiplication</a>.<a class=\"ProveItLink\" href=\"../../theorems.ipynb#mult_real_pos_closure_bin\">mult_real_pos_closure_bin</a> theorem\n",
    "========"
   ]
  },
  {
   "cell_type": "code",
   "execution_count": 1,
   "metadata": {},
   "outputs": [],
   "source": [
    "import proveit\n",
    "theory = proveit.Theory() # the theorem's theory"
   ]
  },
  {
   "cell_type": "code",
   "execution_count": 2,
   "metadata": {},
   "outputs": [
    {
     "data": {
      "text/html": [
       "With these <a href=\"allowed_presumptions.txt\">allowed</a>/<a href=\"disallowed_presumptions.txt\">disallowed</a> theorem/theory presumptions (e.g., to avoid circular dependencies), we begin our proof of<br><strong id=\"mult_real_pos_closure_bin\">mult_real_pos_closure_bin:</strong> <a class=\"ProveItLink\" href=\"../../../__pv_it/theorems/e91b565e6085f8633840c36744beeb8c666856df0/expr.ipynb\"><img src=\"data:image/png;base64,iVBORw0KGgoAAAANSUhEUgAAAMcAAAAZBAMAAAB3HyeqAAAAMFBMVEX///8AAAAAAAAAAAAAAAAA\n",
       "AAAAAAAAAAAAAAAAAAAAAAAAAAAAAAAAAAAAAAAAAAAv3aB7AAAAD3RSTlMAq1RmmUTNIjK7EInv\n",
       "3XZ/CtNrAAAACXBIWXMAAA7EAAAOxAGVKw4bAAADN0lEQVRIx61WXUgUURQ+ujPOzsw6LgmBBbLQ\n",
       "Qy9ZC5aghIz4UxHWktBDBW0YSBKyvQRB6AqBDwUuGdUY2QgRiIFbRlIP4VNlYfjQv22tBT30RyyU\n",
       "ZSCdc3fnd3XdjS7cw7ln7r3f+b8DkPfYAoUOFSdX0IlitWCQGE4hVsiJa0SEbLmQGwTqCwEZIPI+\n",
       "W84nnWvPUe3nmwELpFQH8BOzbmUMYZJcFncKR6aRfHDtFAU/Xz5ogiiI0ExMx8ogXNxwmX0cxlmi\n",
       "u0HiEOsFTtOmNLRIWgDozTM4ZSEkjW5pivyjZoNsKzEtgfa0HnJgZZB+0nfSHY8Foo/SC+Vy4rkJ\n",
       "IlogO1CPIALlEfevFJKwSyjPZFQlwC7dsmTNsAXyBed0IvE4D5DVRlyO3es2hSWVc+iEG4w/rlvu\n",
       "8p7tsEAO4oftAIPL3SxbrEZ3otX8A7hiRnqsU5oHqAFH8ojC/XdvdaPi0dFR1AwE/7IpZbGHKOVR\n",
       "7etBaDWFm3R4ArCB8WELZLzO7tceTBlRl0PG2nskw1TdbuhygjzF6cONuwFmmRF0TwvAH1SVHUW3\n",
       "J15l3DVYbQMZw1PFSVvc19L2OS2kyDARz7KEQKZA+sEKmXwxCzwm8QFaSzFbCp8SbbXTEyU7bd3l\n",
       "Ic4mFCoK1CXlptamZpe7pEXwfLeVCYdJXMX4GRsI12ervP4IkpudSEbrJ8iIxTldCQID+aQ6LKmg\n",
       "40mQUlAUXm8If1GIoJbx32wgUszWayi74CTGXXrhnae7XyvqCCssWRgKOkAo22XcOQRVqlni5XAO\n",
       "6c50OgdMEBWqRTPOsJVIEbqHU71UzWLQE25jINylmDPwpI8XXTL8ua8yagiHb5HZzxgvVewzuvDv\n",
       "iHg+ZZ5sMBhfiJol+KKcv0bTtICiyHucdUJBh5dL9udMNPg76bbiHu1mmkXEOlS1DHyB08wShd+v\n",
       "Z3fhzUsWUzBnq5AWTD0j/W36KD4wtcCyD1P4rrO5pt0ZWeKWE7n7kccsdb5x4zicCXh3JUG4iOu9\n",
       "H+NXW5ybVzmKwTYu5AYpdSmWzo9RTQst98Z3Z8uVSG4Q1xvP6zn/VuLwL8P9IHr+938XSwvU/C8l\n",
       "dcGKP8DLnAAAAABJRU5ErkJggg==\n",
       "\" style=\"display:inline;vertical-align:middle;\" /></a><br>(see <a class=\"ProveItLink\" href=\"../../../__pv_it/theorems/37241b0002a38e4c636513cfcd09ce58ac6486af0/dependencies.ipynb\">dependencies</a>)<br>"
      ],
      "text/plain": [
       "<IPython.core.display.HTML object>"
      ]
     },
     "metadata": {},
     "output_type": "display_data"
    },
    {
     "name": "stdout",
     "output_type": "stream",
     "text": [
      "mult_real_pos_closure_bin may now be readily provable (assuming required theorems are usable).  Simply execute \"%qed\".\n"
     ]
    }
   ],
   "source": [
    "%proving mult_real_pos_closure_bin"
   ]
  },
  {
   "cell_type": "code",
   "execution_count": null,
   "metadata": {},
   "outputs": [],
   "source": []
  }
 ],
 "metadata": {
  "kernelspec": {
   "display_name": "Python 3",
   "language": "python",
   "name": "python3"
  }
 },
 "nbformat": 4,
 "nbformat_minor": 0
}