{
 "cells": [
  {
   "cell_type": "markdown",
   "metadata": {},
   "source": [
    "Proof of <a class=\"ProveItLink\" href=\"../../../../../_theory_nbs_/theory.ipynb\">proveit</a>.<a class=\"ProveItLink\" href=\"../../../../_theory_nbs_/theory.ipynb\">numbers</a>.<a class=\"ProveItLink\" href=\"../../theory.ipynb\">multiplication</a>.<a class=\"ProveItLink\" href=\"../../theorems.ipynb#mult_real_neg_from_left_neg\">mult_real_neg_from_left_neg</a> theorem\n",
    "========"
   ]
  },
  {
   "cell_type": "code",
   "execution_count": 1,
   "metadata": {},
   "outputs": [],
   "source": [
    "import proveit\n",
    "theory = proveit.Theory() # the theorem's theory"
   ]
  },
  {
   "cell_type": "code",
   "execution_count": 2,
   "metadata": {},
   "outputs": [
    {
     "data": {
      "text/html": [
       "With these <a href=\"allowed_presumptions.txt\">allowed</a>/<a href=\"disallowed_presumptions.txt\">disallowed</a> theorem/theory presumptions (e.g., to avoid circular dependencies), we begin our proof of<br><strong id=\"mult_real_neg_from_left_neg\">mult_real_neg_from_left_neg:</strong> <a class=\"ProveItLink\" href=\"../../../__pv_it/theorems/651e7a3e50c1fdb74aa4d22045e0b85cafb45af10/expr.ipynb\"><img src=\"data:image/png;base64,iVBORw0KGgoAAAANSUhEUgAAAOkAAAAZBAMAAAAmixTJAAAAMFBMVEX///8AAAAAAAAAAAAAAAAA\n",
       "AAAAAAAAAAAAAAAAAAAAAAAAAAAAAAAAAAAAAAAAAAAv3aB7AAAAD3RSTlMAq1RmmUTNIjK7EInv\n",
       "3XZ/CtNrAAAACXBIWXMAAA7EAAAOxAGVKw4bAAADfklEQVRIx7VWXUgUURQ+ujvuzKxOkiDogyz0\n",
       "0EvWgiUkIStulkS0JPVgQYZCZCHbSyCFriD5ELSLZjZGNoIEYuSUluhDiA/9Yvhgv7Y1ZvTQj4iQ\n",
       "lkF07szuzJ3ZbZMRL+zl3LNz73d+vnPuBbA/dtja5YQ1jXSfrW2uyJpQb6pnJDn2P/tK14TaQaaP\n",
       "iXpGMa8dp8Wldx3GOksCyCbCJjuRGidRls3K/kmc5ixfcq5sJqdbXwoIuZsIJ+ywQo5HmR51+MuQ\n",
       "rKgyRFqAFXF0AfArAC12E7whgFO5VbtIQupLRN2TYaxrNcPcHhuoYeLRuDWnK2R+Ggvl9ehLHZUz\n",
       "PqpEw7yIbIdM30laayxK91TMGWJBg2T4mt9rfPQNf5PR6DM7qLnx3J550KQrMwpmMW53VPmsZESY\n",
       "baeocwz/2AvQvWooirIiAcFAMY/ghk6fwXp+GaAYTBTlXA8/vKcYFg6hqeDKXjUqxZPjpPTQsVte\n",
       "2K8rt0nwHGCLKtcYqEMldCqakYec5A5QqsL7ZQ3G6kKM3ekzdbmKGXUaf5m48wDADIr8ElFWAPxG\n",
       "Z4jIYuqib2IR7i6iIAZxV7qik4mdFQOCG0aMOKYR8VJeJyiy+1yirwT1CfA/4lYgPoO1c5SIfISq\n",
       "nFaOinBziERCb4x+XAoClCguv9+vto9M1Dgx86Aojtsw7J/2BywR5v+AY4EqVyfWTqEqT1Gozjaq\n",
       "JYSDON2tx2mgdAQEL6ioXwyPwvP5WoNTFKHP7GseOU8BfhHSajbHlT9JmmGnKs9TqHxkzsxhOI9k\n",
       "4l+xy9Cvlrbb1eM1ilL6pEVKkRvnzKik6ty4tQcKfbo6By7jvE+rIo+O6oMiziDPLjV3JIo+dhyq\n",
       "VFTntQh9rxQzqg1K5aiFw8RiFqPY+7WtIBRX9g6Tr1+oMp9XHb9zfgW5K4v6zrK4kBnAm6AYu7NH\n",
       "ENwHjaMfQ5njpCi2Y4Tvecz1SpgEr5PeRrGMMqNaR7SOWp3MQa5Euqj6KjBHDL4twAQra3k9NJbk\n",
       "ztme9Dbypqx5fkU3PBiuklR2Y+WMxeLIy/DWEdE6F1ZOn3kzSzo/F0xybGPqTuPQmxJTvnUIXFdR\n",
       "OvxZ7quInTsBrUjExhDp5Kd4v6XVbzQVJTW6UqNmWSwdEMWA6T2muTwqdv7z3dSUqBeCa3s3Vad+\n",
       "I8rr80b0rst7GNnzF2c35r2AunVNAAAAAElFTkSuQmCC\n",
       "\" style=\"display:inline;vertical-align:middle;\" /></a><br>(see <a class=\"ProveItLink\" href=\"../../../__pv_it/theorems/eec9cfdfe099ac74067411c658d6b7457a2f3c840/dependencies.ipynb\">dependencies</a>)<br>"
      ],
      "text/plain": [
       "<IPython.core.display.HTML object>"
      ]
     },
     "metadata": {},
     "output_type": "display_data"
    },
    {
     "name": "stdout",
     "output_type": "stream",
     "text": [
      "mult_real_neg_from_left_neg may now be readily provable (assuming required theorems are usable).  Simply execute \"%qed\".\n"
     ]
    }
   ],
   "source": [
    "%proving mult_real_neg_from_left_neg"
   ]
  },
  {
   "cell_type": "code",
   "execution_count": null,
   "metadata": {},
   "outputs": [],
   "source": []
  }
 ],
 "metadata": {
  "kernelspec": {
   "display_name": "Python 3",
   "language": "python",
   "name": "python3"
  }
 },
 "nbformat": 4,
 "nbformat_minor": 0
}