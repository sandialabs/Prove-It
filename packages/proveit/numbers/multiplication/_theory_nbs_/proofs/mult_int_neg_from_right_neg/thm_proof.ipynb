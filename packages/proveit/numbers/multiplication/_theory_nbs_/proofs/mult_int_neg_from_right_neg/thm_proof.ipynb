{
 "cells": [
  {
   "cell_type": "markdown",
   "metadata": {},
   "source": [
    "Proof of <a class=\"ProveItLink\" href=\"../../../../../_theory_nbs_/theory.ipynb\">proveit</a>.<a class=\"ProveItLink\" href=\"../../../../_theory_nbs_/theory.ipynb\">numbers</a>.<a class=\"ProveItLink\" href=\"../../theory.ipynb\">multiplication</a>.<a class=\"ProveItLink\" href=\"../../theorems.ipynb#mult_int_neg_from_right_neg\">mult_int_neg_from_right_neg</a> theorem\n",
    "========"
   ]
  },
  {
   "cell_type": "code",
   "execution_count": 1,
   "metadata": {},
   "outputs": [],
   "source": [
    "import proveit\n",
    "theory = proveit.Theory() # the theorem's theory"
   ]
  },
  {
   "cell_type": "code",
   "execution_count": 2,
   "metadata": {},
   "outputs": [
    {
     "data": {
      "text/html": [
       "With these <a href=\"allowed_presumptions.txt\">allowed</a>/<a href=\"disallowed_presumptions.txt\">disallowed</a> theorem/theory presumptions (e.g., to avoid circular dependencies), we begin our proof of<br><strong id=\"mult_int_neg_from_right_neg\">mult_int_neg_from_right_neg:</strong> <a class=\"ProveItLink\" href=\"../../../__pv_it/theorems/cacbe8d9a1ac7824460309de88794c94ffd0a77f0/expr.ipynb\"><img src=\"data:image/png;base64,iVBORw0KGgoAAAANSUhEUgAAAOcAAAAZBAMAAAA4QiR6AAAAMFBMVEX///8AAAAAAAAAAAAAAAAA\n",
       "AAAAAAAAAAAAAAAAAAAAAAAAAAAAAAAAAAAAAAAAAAAv3aB7AAAAD3RSTlMAq1RmmUTNIjK7EInv\n",
       "3XZ/CtNrAAAACXBIWXMAAA7EAAAOxAGVKw4bAAADgklEQVRIx7VWXUgUURQ+O7M/s7M/bj30Z8hC\n",
       "vyDEPoRBhK24gSbRolFQlmM+iNLDCr0ESltJL1luhtmYxfQoPjhZUQqBGUISkYQgBAsTBZaU7EsF\n",
       "0kPn3tm9szNrhrN4YWfn3nvO/c7fd+YC2B583I6WE4oaO21peVLFYIoSeSYKNxKr61UWA+qN4CMY\n",
       "Ltw4Z5lzF/60pYciuWlAAQiRlx02QDvJo9zi/dAsGhIxLwZvJ0FyG1NEPEJeWm2A1rEQ5w13FB/t\n",
       "ltKJoh1jIMg4BlBnGeCK3eT+JOdZnIISEu795jVHAobFPIQWtA1D7AuvHVNAg8FvXW1SyKqiT76l\n",
       "0yQSIkCNI2nI1CLb0Fi3DUeDmD3YbV19SWOs+39ykRkY6s6T+Y6/d+n0WxugDimbV0/pgsZWm5c2\n",
       "YuBocXqM1HqVQUs0agAGC8/0/ZcxKT090JjwLrPq/aWMJoCn5eU2+FrOa3mavRjqDvCEbHQrN1H6\n",
       "gDivwTnLKLkMfg24SSpgyEqm/F2OE999+U20qy7Ov2Kg13NVt/1+7VMTaICQYxoFMxBQqZPEVAlK\n",
       "VBAyRKAnjYOqB8PPABSmOYpwnMbsED7JcS40AUcZqIOcd2trP8zDxGKhpwjqT9FTAOaIJSo0hcFF\n",
       "PR1mosOEkpsNT0klS6wbxnDKVTpB9cWOxWjX8OOKE7MOEWFPBC7GYrG4JbyjGhzOp+lxBTga7gBb\n",
       "3YJMFTNGTkmyx0iZjVQ+1/sXd/WUpjJPe5e2wWc9yZYsO0jkHiJoGDZxuZopSWKKgdeDmiseIXoC\n",
       "xWfNXO5Em8V54bceEC45scsA/aF8yTaTA3stPCUxfIwloXFzzB5HxIupdqp0cp4Rph08fUZLOkQl\n",
       "SQijwiQ06KDOYIqB3oEKF6W6qKlmUBfhyU3cKHvR8ZVRprSaBFZPwaN+vXga787I72cM9arciz+O\n",
       "zb8CO3KYS4qqxHj6Bqr4NlnuA59PERUT6jQ5PrkSm7qy/2cepKUVtltYGSe8B5UbuqdQb1A5A1MC\n",
       "tbH+GviUgq8MH10JtHr1jz9rJf5Eb4PiVfSbTzDbLEQVPmJR0H6lRuGsWbmHPAbWfiHhWStyVe97\n",
       "Ap57JE2t2Q87lt0UdC8BXMIY8hvKxpst5Rs2kTGvQa5+XwlYtkdk2XTD43SHx+X+f92RPFrhxkJx\n",
       "d6TTq+6Wr89tMLIe914snL8Y8tI6/Y16UwAAAABJRU5ErkJggg==\n",
       "\" style=\"display:inline;vertical-align:middle;\" /></a><br>(see <a class=\"ProveItLink\" href=\"../../../__pv_it/theorems/a00a3f1fe88a44ac57d9ecb0b0b04b22bf8855d90/dependencies.ipynb\">dependencies</a>)<br>"
      ],
      "text/plain": [
       "<IPython.core.display.HTML object>"
      ]
     },
     "metadata": {},
     "output_type": "display_data"
    },
    {
     "name": "stdout",
     "output_type": "stream",
     "text": [
      "mult_int_neg_from_right_neg may now be readily provable (assuming required theorems are usable).  Simply execute \"%qed\".\n"
     ]
    }
   ],
   "source": [
    "%proving mult_int_neg_from_right_neg"
   ]
  },
  {
   "cell_type": "code",
   "execution_count": null,
   "metadata": {},
   "outputs": [],
   "source": []
  }
 ],
 "metadata": {
  "kernelspec": {
   "display_name": "Python 3",
   "language": "python",
   "name": "python3"
  }
 },
 "nbformat": 4,
 "nbformat_minor": 0
}