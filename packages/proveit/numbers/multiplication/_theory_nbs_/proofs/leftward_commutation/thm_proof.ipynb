{
 "cells": [
  {
   "cell_type": "markdown",
   "metadata": {},
   "source": [
    "Proof of <a class=\"ProveItLink\" href=\"../../../../../_theory_nbs_/theory.ipynb\">proveit</a>.<a class=\"ProveItLink\" href=\"../../../../_theory_nbs_/theory.ipynb\">numbers</a>.<a class=\"ProveItLink\" href=\"../../theory.ipynb\">multiplication</a>.<a class=\"ProveItLink\" href=\"../../theorems.ipynb#leftward_commutation\">leftward_commutation</a> theorem\n",
    "========"
   ]
  },
  {
   "cell_type": "code",
   "execution_count": 1,
   "metadata": {},
   "outputs": [],
   "source": [
    "import proveit\n",
    "theory = proveit.Theory() # the theorem's theory"
   ]
  },
  {
   "cell_type": "code",
   "execution_count": 2,
   "metadata": {},
   "outputs": [
    {
     "data": {
      "text/html": [
       "With these <a href=\"allowed_presumptions.txt\">allowed</a>/<a href=\"disallowed_presumptions.txt\">disallowed</a> theorem/theory presumptions (e.g., to avoid circular dependencies), we begin our proof of<br><strong id=\"leftward_commutation\">leftward_commutation:</strong> <a class=\"ProveItLink\" href=\"../../../__pv_it/theorems/904672c7b3b81838d4690c6670180b5a9380b4cc0/expr.ipynb\"><img src=\"data:image/png;base64,iVBORw0KGgoAAAANSUhEUgAAA6oAAAAzBAMAAABs0+g7AAAAMFBMVEX///8AAAAAAAAAAAAAAAAA\n",
       "AAAAAAAAAAAAAAAAAAAAAAAAAAAAAAAAAAAAAAAAAAAv3aB7AAAAD3RSTlMAq1RmmUTNIjK7EInv\n",
       "3XZ/CtNrAAAACXBIWXMAAA7EAAAOxAGVKw4bAAAKHklEQVR42u1cDYwcVR3/78x+zt4XmvhB9bJ+\n",
       "QYxe3VDT0EtoFwuCJcoGSDBEwxohxGpk25CQAm1XxUrilVvFRrbBdggJ2j3gti2illAPFCsY8Ezq\n",
       "R4AzW2iE9uRYzx69XiPr+5qZN29mduaaN3ad3ktu9z9v/+///u/93ud/f7cAwZJWr+uwlP4fUr1e\n",
       "D6ra224Xurot95/zaGo76fvu9qnAqBa7u0mx/NIk3W6spquiguoy+2Mquth5N02ZjBiqasn+/Gp0\n",
       "UU00PT/aGzFU7yrbR21D2mb1wKQ9Y88L/oV8dNLfEI8o234bwBVD6TVvkPLRQvXv9seH5VlOigjc\n",
       "FKCQj05/TsyZDeIKU0p6XkaU5yOFqjphf14rz7QDgdng/e+VbhRxSSwEWXqZklrwG00RQbVHWHEn\n",
       "5JkWEQgCgJ/OU2JGdjKAJ6bS897OlqOE6lv2rldK8kw/dQYA+Onc5LvMd9wLvuqtMhAlVP9kf4zj\n",
       "qbvh4BbhSrDs9aa/KbHYV2beZe+4wSM53/536Bx8rWK58casWOVoLoBfptJe77vNQoRQTc8LvYrO\n",
       "golDsNs+g79UzvivnrSYZh6ptbf1cdv5eny9dtLPCNVJWxmbc/GqpxtOTz39omklGblTJA3YT+zv\n",
       "RAjVmLCP9qJR/UgePg/wkLUWa7+B+CSM7T2/oylaLNvkRn9PU1tpKXxKhxe1J8/rCAPWQV6Y0xNe\n",
       "RkY4N0rAW0RVfhb8TBIluIRY+aS32k8ihGrPgPCMnL0a92V6ZpJOODy4W9DbgAIGDc0ml52X5JFi\n",
       "3DNCoL9x75tWBurb03E8PphZNyNYx5zr2MgCCG7wFkmVfiapXz0EhVHvnlhTjg6qo3knqs+BNmcG\n",
       "0Q7jzCqMF2EOtuIp1OtyPCF5tJj1jBC4MQdDVsbLkJjtL6bmDbNuRrCOkcGqFtzgLZIq/UxSv7bS\n",
       "NbzD2p+PDqpvlR0rMNph1BYXGkUNbsIagGGKqmcoiRRLHOGvq1frDAN2FY0vqHpqvvN1Fc3Oxz7D\n",
       "Vy24wVmkVfqYZM1ZlZo2yrruq2zVigaqDwjPmSZosxArXWhDNQfvUcoul0Vb75Fij/Wbe1x/BW2E\n",
       "PKrzeIvzubsQncIF1tBAJYp2N4aEKn1MMqXBjY+UO4KWmYwOqs+J90U0YnfBUKHAo5ppKofj6GT6\n",
       "ktVVb7Ndi9vNSLE7rD6P5TMFG6rvhh8B96WXZYTbq7GOpj9u3bSqkK3Y3eAsUk99TFKlF3P4YH1V\n",
       "h5tyi6JKpuxHgqAaI2fCLvweUzsh3nQQlg9Of2+wwqOqDf5ywxsAm7ij5mFj17J2M1psl1Vq2Vrb\n",
       "egkPPo56ILXTxYi1VxMdPljw5Irjghu8RVKln0mslDpxJZb/7N0V6hxF9XL8dksQVON4uibLXXhd\n",
       "fUfM+Zt5MRGXtVQh5d8CbUHYe4cEhdvgdn+3Ol5rRYuBTKrVL6dQEyb9umIVfAs3tRoE1TSe1pu6\n",
       "cAFWHMH0T3uiuumeu3V/g6VCRwxS99+zzn+sTSwG1UAmY83tWbSe5/2WrVXke51sLgiqsB697+tC\n",
       "VFXH6THD5mPqidNCkPCP7XaAJX3QPp/vvPWg/aTZbrd8jfQNdPhQtBjMZKYcu9hnYv2Loqoi5JPB\n",
       "Tksr0HupC1Htc6x1WvXse5UM6wTy404fnmJn4Bempv4QDNWeqalXGl2IatYZ3t1y1p26eSSsMdzx\n",
       "XPA7hio6VqHjF4tnVzqhGq9ARu9CVOMLXejUF9adlWqnGKobIDVgxrPx4fESYyvafFVRfZpDFelt\n",
       "WEwN26pOye1Tc87Nu4lW+jU/5o5d+rrhZ6wFS4mlVxiqGT1rjzCQEHL6SK2oDByAdXwUYif8fDE1\n",
       "xBpOye1T8xzYchOttJW93/v+HbDnvfDxxhKqnqgqzaRL512G5oWyOg4NHtXlizss9VScktun5o5R\n",
       "dRO56ckWXHwVP9AEtdHNK/BZSsYKDKXVwOLZ2lF8xcEh5D58gFO+fX3ThmpSRYuetn/a2K/HVv/C\n",
       "adfKHJ053yFZics7uBpXvv8fxpLKibzdb1IBMye1i5E/hhtZ533/nGR586cl2IfuoTSeHSeEHxxC\n",
       "3kMu45UDH7Ohmr0AaT1aHmXdqf017exPLvNN/ahDspKV11vE50Vk15i9nMjbnccBVXprUTZyJ8E+\n",
       "5yZ8brK8UXraQPUudFii8ex6FsdUcAj5Wopq3FwJCaopXOYyGGHR1HghPQHXHLXvyiQTSLH7YCUL\n",
       "uyIpsfxye/34U7ptfw5+RuyOGlFaLIr6yG4LFORfAi8j6kN6pyiEEsoFTBbjOzSWN0onDFRjeF7s\n",
       "Mm/OJIS8slar5ZSK1ijxqML70N+zcATSQzo5VvUNwITWEs5aZlDl93ApVcRSD4zb60d5THqWvR5j\n",
       "doko6iO7VRIsU79Wq/0w/V1uMitzYtseDmeayGJ8h8XyRgPvtIEqeaLx7P4yCyF/n85VuKZpQxVr\n",
       "noT76tCLLY+XM8N6WYh3ksxPkGIteIYqYikFwrUcf7qCdNNJZncXs0tEUR/ZPa4nb5+BNJmH6LQE\n",
       "RuvS/xYbtzYcVGUxvkNjeZvRfTbcSwUN9dYIjNEQMok2qEUrmGl9v3ooPTeMe38Mesqj1+qQKSIR\n",
       "FWYvJPPDBfzwklrFikyCHZwWzUvdUcLSzZBFr4fS88NMnYg2fWL3O3r/xj0kZgJw5xUcZUz8Jk4m\n",
       "y7sTGmfK+A6N5c2+6DDn6mA5/QygtXUkR0LIKfxPvttvAXCiet1F03nc+yO5xNrl+0lsaiSXPgQj\n",
       "ZfxCMzMVQObungGsyKQ4yaNaZZaHLidIum3FcfRq2DVEmz6zO4qPzZvwsqI9UbvSbMtfxLaVwkFV\n",
       "FuM7NJY3C4nzXAiF6LNFZqxWK4oRQ/5RNzSzetMsBIb0qELMMUUqHegzJFYZ3tKLhqSAoC7oU7vT\n",
       "m3+KAP1VbYe9LR8QQ4gSWd48QVsK4ztMljcLyPCo3pD84gQkPLZiO6rpf+4zNG9tT3KFmJQ5jswZ\n",
       "ilRKtv/DJFoZtWpKN4BdXdBndq/IXuTm3BrBaYksb56gLYfxLYnl7RH4qYqo5uNHdVAhCKpk03YT\n",
       "ucy8v/TqR828vFtBS1Q7Nlkc6hJZ3jxBWwrjO1yW99amiGrHFAob7UMFOXbCZHkvcLIUxvcSyztg\n",
       "ik84UZXE8mYEbamM7xBZ3h+E6KCamHOswLJY3jxBWxbjWwrL2z1F6b+nxBEuk+XNEbSlML5DZXmr\n",
       "UfpPR/EQLJHlzRO0pTC+Q2V590bqv5KFXxCQyPK2EbRlML5DZXlH6xcEVOEiKpvlzSc5jO9wWN4/\n",
       "gCihCl+3P8pmeXfA4wwZ36GwvI2Yc1RQHbFPQMksbz7JYXyHw/LuzUULVYHn1A0sbzGEKS15s7yj\n",
       "9ot34q9Tbukq56Qyvr1Z3onSolEd7u5ffU7muti5/xHjextFqF4/FhjVpV997vakrafvu9un/gsC\n",
       "KC5UlHjWMgAAAABJRU5ErkJggg==\n",
       "\" style=\"display:inline;vertical-align:middle;\" /></a><br>(see <a class=\"ProveItLink\" href=\"../../../__pv_it/theorems/c4b76504728ae01b21bfbe0c216df0b34b0495330/dependencies.ipynb\">dependencies</a>)<br>"
      ],
      "text/plain": [
       "<IPython.core.display.HTML object>"
      ]
     },
     "metadata": {},
     "output_type": "display_data"
    },
    {
     "name": "stdout",
     "output_type": "stream",
     "text": [
      "leftward_commutation may now be readily provable (assuming required theorems are usable).  Simply execute \"%qed\".\n"
     ]
    }
   ],
   "source": [
    "%proving leftward_commutation"
   ]
  },
  {
   "cell_type": "code",
   "execution_count": null,
   "metadata": {},
   "outputs": [],
   "source": []
  }
 ],
 "metadata": {
  "kernelspec": {
   "display_name": "Python 3",
   "language": "python",
   "name": "python3"
  }
 },
 "nbformat": 4,
 "nbformat_minor": 0
}