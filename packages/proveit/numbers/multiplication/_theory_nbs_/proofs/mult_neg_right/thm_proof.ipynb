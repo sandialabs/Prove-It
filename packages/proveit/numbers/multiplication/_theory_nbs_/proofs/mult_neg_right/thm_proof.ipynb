{
 "cells": [
  {
   "cell_type": "markdown",
   "metadata": {},
   "source": [
    "Proof of <a class=\"ProveItLink\" href=\"../../../../../_theory_nbs_/theory.ipynb\">proveit</a>.<a class=\"ProveItLink\" href=\"../../../../_theory_nbs_/theory.ipynb\">numbers</a>.<a class=\"ProveItLink\" href=\"../../theory.ipynb\">multiplication</a>.<a class=\"ProveItLink\" href=\"../../theorems.ipynb#mult_neg_right\">mult_neg_right</a> theorem\n",
    "========"
   ]
  },
  {
   "cell_type": "code",
   "execution_count": 1,
   "metadata": {},
   "outputs": [],
   "source": [
    "import proveit\n",
    "theory = proveit.Theory() # the theorem's theory"
   ]
  },
  {
   "cell_type": "code",
   "execution_count": 2,
   "metadata": {},
   "outputs": [
    {
     "data": {
      "text/html": [
       "With these <a href=\"allowed_presumptions.txt\">allowed</a>/<a href=\"disallowed_presumptions.txt\">disallowed</a> theorem/theory presumptions (e.g., to avoid circular dependencies), we begin our proof of<br><strong id=\"mult_neg_right\">mult_neg_right:</strong> <a class=\"ProveItLink\" href=\"../../../__pv_it/theorems/7dd98e00bab205d8c7af0c76507183d8fcb3ac520/expr.ipynb\"><img src=\"data:image/png;base64,iVBORw0KGgoAAAANSUhEUgAAAR0AAAAWBAMAAAAP9FU/AAAAMFBMVEX///8AAAAAAAAAAAAAAAAA\n",
       "AAAAAAAAAAAAAAAAAAAAAAAAAAAAAAAAAAAAAAAAAAAv3aB7AAAAD3RSTlMAq1RmmUTNIjK7EInv\n",
       "3XZ/CtNrAAAACXBIWXMAAA7EAAAOxAGVKw4bAAADYUlEQVRIx8WWT2gTQRTGX5JNk+y2NddSKYGK\n",
       "PdhiDqXQClWJVUHFoCAexAY8iIKwHpVaqiCItrSFQo1C2aIUSyVEES9CCYIgiiUUC71UUo2IIqUg\n",
       "qPTkm53ZzLzd7NKbH/yS7Ox8L2/2zZ8F2I5MAVHMexnzM/uZaHgTtqfmFIfqM72MVjj1zL4mrvMK\n",
       "SdbQHpzPHgFRuOhq+CKoY/Y38ZTTkgHWcDEwHT3HoZpzNzRYHK85wMR1WXKTFXUiMB8tzaHKuBsi\n",
       "Bzhec4CJq1vCRmSkAvNpFFCVPC3vBB5zkIl3smpEMP+G4OmzW0Cnj6eAcEHgMQeZeKnTkg9ra++D\n",
       "8zkmKKw/eVV7kpoyMwsZ0HFdPAOOxwzEpIbRq2mYxQIlJUcBHgTn44z7QHObVlaH5KjYCZFNgB7g\n",
       "gLZmKwnuB2ab1DBGuAT7cdrlJFchlqy3BqfahsXPZU7EjGyFalk0yTkXT52AEC6JTuAQLasXzETC\n",
       "3MLMWrCOJUnCMrI0RHw9n9UnzfBDcf2GEwfNLr/+256CaJqzH8OqDkvQiDvhOHCI0KhfsfuNcBMJ\n",
       "Y6FvCds2JeGKezofQqdRANhH8wH7T1EfnXxqW/MWjKPnHHDc+SjrKOsOM2jF/2KAkgRy/fixcaSK\n",
       "p0d0HUL2LgmPbsuzZtl57IOmbtWpFxvwT/zqEpD546kXDXMYmlmdyhJ4jrtis9nSgH0LO6xRmGf9\n",
       "OjpklBnOfHYnGLXGhHJUJZIwiV+9AqIZ9YKZaJhJZobIhASGWAPMxPHn9S74DqdZv74+GUWs4713\n",
       "j8OpWqOhLAItGf2l7AtEZANgJhrmIAym+T7gAKERduOPfbsV2qAnn8+n7pyVUcY4jzfCGWVRlZUz\n",
       "qrXK7CsCojGyUsruMLOLJ3GeNGUlomfJni0r8Bbu2SPB+aw7VR/hUK2SgeOSiZU5VNS46t1YXiI3\n",
       "FGwNGTkNFrB/dBM3AHbEvjBhMfCg7FZDPk35HbvU2O26a+T01+KYzajHrfZ18QeMpmBXbw5i91nL\n",
       "wqWp2simBUQJ+Tb3CesMcE3g0rSPiT+9SqjI3y8cVKV0M4EDXMjn6Q45L6AvNtLcXs36Ze0y6q5/\n",
       "DPcPiCwd1DdOK1Q5U+8Ai1U4VMOuA8bk1DP7mri+Kailhmh/Ef6v/gGnePXtDJCNIAAAAABJRU5E\n",
       "rkJggg==\n",
       "\" style=\"display:inline;vertical-align:middle;\" /></a><br>(see <a class=\"ProveItLink\" href=\"../../../__pv_it/theorems/683e2492022bf8f66cdd4096af7d2ebd02f343110/dependencies.ipynb\">dependencies</a>)<br>"
      ],
      "text/plain": [
       "<IPython.core.display.HTML object>"
      ]
     },
     "metadata": {},
     "output_type": "display_data"
    }
   ],
   "source": [
    "%proving mult_neg_right"
   ]
  },
  {
   "cell_type": "code",
   "execution_count": null,
   "metadata": {},
   "outputs": [],
   "source": []
  }
 ],
 "metadata": {
  "kernelspec": {
   "display_name": "Python 3",
   "language": "python",
   "name": "python3"
  }
 },
 "nbformat": 4,
 "nbformat_minor": 0
}