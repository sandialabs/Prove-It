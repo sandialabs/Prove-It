{
 "cells": [
  {
   "cell_type": "markdown",
   "metadata": {},
   "source": [
    "Proof of <a class=\"ProveItLink\" href=\"../../../../../_theory_nbs_/theory.ipynb\">proveit</a>.<a class=\"ProveItLink\" href=\"../../../../_theory_nbs_/theory.ipynb\">numbers</a>.<a class=\"ProveItLink\" href=\"../../theory.ipynb\">multiplication</a>.<a class=\"ProveItLink\" href=\"../../theorems.ipynb#mult_real_nonpos_from_right_nonpos\">mult_real_nonpos_from_right_nonpos</a> theorem\n",
    "========"
   ]
  },
  {
   "cell_type": "code",
   "execution_count": 1,
   "metadata": {},
   "outputs": [],
   "source": [
    "import proveit\n",
    "theory = proveit.Theory() # the theorem's theory"
   ]
  },
  {
   "cell_type": "code",
   "execution_count": 2,
   "metadata": {},
   "outputs": [
    {
     "data": {
      "text/html": [
       "With these <a href=\"allowed_presumptions.txt\">allowed</a>/<a href=\"disallowed_presumptions.txt\">disallowed</a> theorem/theory presumptions (e.g., to avoid circular dependencies), we begin our proof of<br><strong id=\"mult_real_nonpos_from_right_nonpos\">mult_real_nonpos_from_right_nonpos:</strong> <a class=\"ProveItLink\" href=\"../../../__pv_it/theorems/19644e5a6e657313ce4a8e73417591bb57346acc0/expr.ipynb\"><img src=\"data:image/png;base64,iVBORw0KGgoAAAANSUhEUgAAAQEAAAAaBAMAAABFpPQiAAAAMFBMVEX///8AAAAAAAAAAAAAAAAA\n",
       "AAAAAAAAAAAAAAAAAAAAAAAAAAAAAAAAAAAAAAAAAAAv3aB7AAAAD3RSTlMAq1RmmUTNIjK7EInv\n",
       "3XZ/CtNrAAAACXBIWXMAAA7EAAAOxAGVKw4bAAAENklEQVRIx8VXf2gcRRT+7sdm9/buNrVKQQty\n",
       "UilIsZwokRapCblKS/7wtOgfVuy1FcRK6wb6T2jSnFCEYjSHEuq1WkcMQq2YVVtrW4SQUmwVJWhF\n",
       "UQ7WGoxGDUHQQqDQ92az42b3ai+9iAO3dzvz5s033/vemzngf2l32Dj926J5SxQXDsBFwtUqSC4O\n",
       "gtsXPGNNHsiUcQl6ZTEAmCV+2tEB+2ozfs3Ro19gDFi3GAhStCFYuejAE6H3tvNv7DxPxgPSdlDg\n",
       "ayArgCX8uqIJBL38WBXi5bVxQpUPWVa68dAagfgh4SH4kmxo+fU89lQTCLpUJAKtpZ0eO8II9iBl\n",
       "0JIaQ6Ao/EkTZ4HnaKgpQfxFn2R4u63M9D1RBEmbsRo32Z4Sge2ElvCkc9cPwKBdIBPu3cJEZ8Sc\n",
       "8mq1kkIgN6vfICxXYwFspGwm+C1NUGBRxLEy3PuJDIXHzKNT/3AQe0fqDjpweoIB/k6fL2q1z5tA\n",
       "ECvNaUFfPumq3q3TS4lauZq+IxCF/SvtKFkbgIMLXFUEk7HiRROP26lZlQt/ixEbCcl9i1qz0rvz\n",
       "8lTI1WAZ6Ia+JFJluniRvavrF5W7yvrFSaV6nvwVTTmD5LjfGZ9FxkV8VBoElHj32/S1v0rN99xP\n",
       "JT0l0sHCfudHHbuIumM2Z5PcxPNzmRL/4cllxLN5rEzyVX6znHdnKR1mkHXk9jk3Smh1YMywwUCN\n",
       "WsVDkHornDQjtHbcVd6MH6tFK40T5MmcKJqj+ExGmh2/dPMQXCe9B3oXYXtX6dzjgBBkKtIbcIFh\n",
       "OdiSgyY5OBLgwGgPB7yfooCSKs4FerUsrGVF6d/o4/iOeylzkSS1wHUT76GPl+lDthyKwoiL+4Pl\n",
       "4EEqfjIq2WA92NAT1gGH4wMW69F1J7wySgimiFijSxAHn0qj6VvwEyQCa5hUUJQc+IGMMcGHCUEO\n",
       "y+J+Z2uZZIGE5N5yAwiOhEu1LBy9tAvzW+OSx5eV1g/nod3I5Hg6+ENMmNKX6/QwktvypC4VOYup\n",
       "fp/k5MYvqOM+lk/RLpKOfNmmEOym6jM0H8F90pxZbjdGsUl6TB6qwFzKP/eukHt6BW2aRO5uPCln\n",
       "7SvqF+/1XWicgi/SHm79uPsXlUvLO5l/T+FvDgn/bDyA6rPz62+H/yNTpFOqjbIkZ1nph+fDPIeO\n",
       "xNPV6ssUheN1yvdZXqtcL2v75r43v14rXa20bFdJYafWihckB5a2WeiFQmG9PzaDMcPxdPDIKeym\n",
       "oWL4bEy01/Pe2cD1RhWxjD24SaSE1AFOBfyZDr4nRR30dJAejjoZ4MeBOt4bOXETqhhqnas/hP4q\n",
       "nyM/O8MPBI6+MeybBnqIZm3XM2YhSmcsNy/pA/XavjaCbMjmaLUauffGPSpOVof+7Z6ou9GByQZO\n",
       "mEbuiY9d02LV9R+sDV2N8v/F/wW/JUl5VwBECReRTuIziQAAAABJRU5ErkJggg==\n",
       "\" style=\"display:inline;vertical-align:middle;\" /></a><br>(see <a class=\"ProveItLink\" href=\"../../../__pv_it/theorems/5d6a7820ba7c343f2292aa3832fe939109adf2350/dependencies.ipynb\">dependencies</a>)<br>"
      ],
      "text/plain": [
       "<IPython.core.display.HTML object>"
      ]
     },
     "metadata": {},
     "output_type": "display_data"
    },
    {
     "name": "stdout",
     "output_type": "stream",
     "text": [
      "mult_real_nonpos_from_right_nonpos may now be readily provable (assuming required theorems are usable).  Simply execute \"%qed\".\n"
     ]
    }
   ],
   "source": [
    "%proving mult_real_nonpos_from_right_nonpos"
   ]
  },
  {
   "cell_type": "code",
   "execution_count": null,
   "metadata": {},
   "outputs": [],
   "source": []
  }
 ],
 "metadata": {
  "kernelspec": {
   "display_name": "Python 3",
   "language": "python",
   "name": "python3"
  }
 },
 "nbformat": 4,
 "nbformat_minor": 0
}