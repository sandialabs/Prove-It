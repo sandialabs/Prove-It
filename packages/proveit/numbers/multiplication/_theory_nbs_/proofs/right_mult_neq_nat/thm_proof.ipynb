{
 "cells": [
  {
   "cell_type": "markdown",
   "metadata": {},
   "source": [
    "Proof of <a class=\"ProveItLink\" href=\"../../../../../_theory_nbs_/theory.ipynb\">proveit</a>.<a class=\"ProveItLink\" href=\"../../../../_theory_nbs_/theory.ipynb\">numbers</a>.<a class=\"ProveItLink\" href=\"../../theory.ipynb\">multiplication</a>.<a class=\"ProveItLink\" href=\"../../theorems.ipynb#right_mult_neq_nat\">right_mult_neq_nat</a> theorem\n",
    "========"
   ]
  },
  {
   "cell_type": "code",
   "execution_count": 1,
   "metadata": {},
   "outputs": [],
   "source": [
    "import proveit\n",
    "theory = proveit.Theory() # the theorem's theory"
   ]
  },
  {
   "cell_type": "code",
   "execution_count": 2,
   "metadata": {},
   "outputs": [
    {
     "data": {
      "text/html": [
       "With these <a href=\"allowed_presumptions.txt\">allowed</a>/<a href=\"disallowed_presumptions.txt\">disallowed</a> theorem/theory presumptions (e.g., to avoid circular dependencies), we begin our proof of<br><strong id=\"right_mult_neq_nat\">right_mult_neq_nat:</strong> <a class=\"ProveItLink\" href=\"../../../__pv_it/theorems/cac08b07559d9d49e36ab7c32a2d3408498432d20/expr.ipynb\"><img src=\"data:image/png;base64,iVBORw0KGgoAAAANSUhEUgAAATsAAAAXCAMAAABDGxgMAAAARVBMVEX///8AAAAAAAAAAAAAAAAA\n",
       "AAAAAAAAAAAAAAAAAAAAAAAAAAAAAAAAAAAAAAAAAAAAAAAAAAAAAAAAAAAAAAAAAAAAAAAeYafp\n",
       "AAAAFnRSTlMAq1RmmUTNIjK7EInv3Xbt5cnn9enzas/lfgAAAAlwSFlzAAAOxAAADsQBlSsOGwAA\n",
       "A+VJREFUWMPlWNmOpDAMJBc58d78/6euc0EMAYI0D73aaKYtWnGlXZQdJ9P0Lw19sMMOXz1PT//a\n",
       "AE7t81DQ/166LvAwXrZs+56LD6eOe2qH6O4GZWwX+AVeslLVr+cPF6KbqR0bs+t8aU0P+BVetKYK\n",
       "T9sPl50U1I4NITuyY13gV3jJViI9/3DuwsGOup2FZ3UX+B1etKKwPn84dXymdjjJTqpSrAv8Ei/Z\n",
       "sMQR/KenrKfWATBnfDddNPOgy5bo2Sl63QN2kHLXsUG8ZGUqnNZ9TYS31X5kRxh633klYDDJpdNJ\n",
       "BGTHrhlKbLKSSSTLz1/xkx2B/cRj8op1EC9ZzerH61Z1kR63aRF257sNx6tnyDzHezilwcKJFTrG\n",
       "6SZ2LvQupAaikMrDvewKoOHZg9lBvGyj5EbiajYqYNaiB2eTd6TTvOFu5PXkOQLTQx2RgiI2Jots\n",
       "KpVbd30l6SyFfXMQkpJdYAwhxKwMcALs42XL4eVOIaWp7TTE3Gk0csMdG+gf85wQ4Vd9y93Uxpli\n",
       "2zgJNoWuasLdy24DVDEpzWpOgH28Yuf0phPZXoDfwAGkxr96DGHlGLL36txwhTX0gjviPil/gOks\n",
       "mOfoVFkCv83ZFCw6ulOBdCu0dYsvpN79/pOrHjsBJxXDuWG5wCvW89LkuUUj8zUU0DH7Z162oQlD\n",
       "Mgjtdn64wZzlqs/d5i5tHN/wXzQwdMF2jkncLYdCZqG1DksGCxPR/BZr/MVsnngKRNiHc8YGzOrH\n",
       "EF6xuhZ7iTLd4ppEwi0a1i4SDeigRMsd5izYLnfEvYp1h+ksWOZk7sLhGE96g4mvxkl0VJ0WJZLB\n",
       "MeMk6WnKLz43AhVYsihlMYpXLTN76kPLfFt0GE7GpgA356QRyzN3zrfFkr7k3X0Xa4U5L1jn5Jxd\n",
       "D6yYpbVOAiARotfdOQbeaAY5qEU9HG8rsMMmTq56FI/iojpjHyP2EhIlsYHFybGKG090h68eLrgr\n",
       "7jEfv/+wKR93GLogmdPdK6bFUDvaRz3emDSAfh7F08e+MsTqo4SLYsJMTlAySSsvoVbaRovEfavU\n",
       "nbvdnZ6+K0wC3RYkcwBOB6fjKfz1DcLNrUoGjD/WBT6Kd7pAUJgE4EVUDIJIUB7AlaeYIXbONy6m\n",
       "qj1v+F3udnd6aqkwCXRbkM7B3lheH+Hti8syejsk+gfPBLhAridjeLe3Tvz45FJ6lcYiJle3m+5D\n",
       "NlndwPCrOVfHNXusnc+D8ry4a2DsVaUaxrt7f8odn7C+q+cOuh9W47fD0CVGuvN6HNcwSh3QEM0D\n",
       "8DAe3ElfnJ6UgIGrli53vHmfO4y4nPOfDv0fxfoXbTIkJ8giuXcAAAAASUVORK5CYII=\n",
       "\" style=\"display:inline;vertical-align:middle;\" /></a><br>(see <a class=\"ProveItLink\" href=\"../../../__pv_it/theorems/47d863835e75bbb90c3b4b8948bd0b41997b6e770/dependencies.ipynb\">dependencies</a>)<br>"
      ],
      "text/plain": [
       "<IPython.core.display.HTML object>"
      ]
     },
     "metadata": {},
     "output_type": "display_data"
    }
   ],
   "source": [
    "%proving right_mult_neq_nat"
   ]
  },
  {
   "cell_type": "code",
   "execution_count": null,
   "metadata": {},
   "outputs": [],
   "source": []
  }
 ],
 "metadata": {
  "kernelspec": {
   "display_name": "Python 3",
   "language": "python",
   "name": "python3"
  }
 },
 "nbformat": 4,
 "nbformat_minor": 0
}