{
 "cells": [
  {
   "cell_type": "markdown",
   "metadata": {},
   "source": [
    "Proof of <a class=\"ProveItLink\" href=\"../../../../../_theory_nbs_/theory.ipynb\">proveit</a>.<a class=\"ProveItLink\" href=\"../../../../_theory_nbs_/theory.ipynb\">numbers</a>.<a class=\"ProveItLink\" href=\"../../theory.ipynb\">multiplication</a>.<a class=\"ProveItLink\" href=\"../../theorems.ipynb#unary_mult_reduction\">unary_mult_reduction</a> theorem\n",
    "========"
   ]
  },
  {
   "cell_type": "code",
   "execution_count": 1,
   "metadata": {},
   "outputs": [],
   "source": [
    "import proveit\n",
    "theory = proveit.Theory() # the theorem's theory"
   ]
  },
  {
   "cell_type": "code",
   "execution_count": 2,
   "metadata": {},
   "outputs": [
    {
     "data": {
      "text/html": [
       "With these <a href=\"allowed_presumptions.txt\">allowed</a>/<a href=\"disallowed_presumptions.txt\">disallowed</a> theorem/theory presumptions (e.g., to avoid circular dependencies), we begin our proof of<br><strong id=\"unary_mult_reduction\">unary_mult_reduction:</strong> <a class=\"ProveItLink\" href=\"../../../__pv_it/theorems/fc4e66c3f47a581df87b12f09fbca49b2ab33ca50/expr.ipynb\"><img src=\"data:image/png;base64,iVBORw0KGgoAAAANSUhEUgAAAIUAAAAVBAMAAACakjBMAAAAMFBMVEX///8AAAAAAAAAAAAAAAAA\n",
       "AAAAAAAAAAAAAAAAAAAAAAAAAAAAAAAAAAAAAAAAAAAv3aB7AAAAD3RSTlMAq1RmmUTNIjK7EInv\n",
       "3XZ/CtNrAAAACXBIWXMAAA7EAAAOxAGVKw4bAAACB0lEQVQ4y3WUTShEURTH/2befLw3H1nZqGlK\n",
       "sfDRLKRYMCWlJMpWmrJQVm+WCrGyktkpizE2StT4SGxIaRJSElGaerGgpKRQFnLu+5p7n+vU3Hfn\n",
       "nPd+957zP/cCf03H6x09zAEIgX9IXpZZPIldc2KND5Y3YMgZI/SrZpM63tsInuHbtN2PckY8BfSw\n",
       "yRjn1DICY9XxBwtyyDgwy3LNcT4lJTC6Hb8/LWe0WvhIkvNFITCO3MCZnBEtwE/LBnlfvcDwZdzA\n",
       "qJwRJMBFuXzO+/oEhsJKmj2cpnHL+3Wo9onEipAqvcASHxkVGGyVwAmWKeM2s1pl00w1h3X1m+pE\n",
       "O80iVM0zrgRGjEq1kUI/TZs829COoVxStlQxtRAZ5EMl82vt02JEKTYA3NN0wcNQ3hCjTMNvxDGE\n",
       "ktoMXFcYp9A+2Na9guRQpGiAKZfppGG9c++/XLQf+GktNHvqUTTQxZSjfLBNnabdhr9sRl5gqAa0\n",
       "d1RlGoB2zz6KSdT4dPhZg04SVEmHnWbaEhhMuTya02lLdN5Uw3et2OpXzbC044448wIjTDtdeZlL\n",
       "0Ds3Xl0S+9lnytZRpKirHfaZis0IvX7ndtSlvE+n3BrrC0OFytniGK38WZSZeygD3S07znxRYKjO\n",
       "RTUhRwhn3rU1gaHlKmiZqdLLMGTgwLxPS+bfafu+kl+ceAJ+AfxSjNYY8rfVAAAAAElFTkSuQmCC\n",
       "\" style=\"display:inline;vertical-align:middle;\" /></a><br>(see <a class=\"ProveItLink\" href=\"../../../__pv_it/theorems/4b0b2d83883c6dc174f7c556b84c3e883451c4ac0/dependencies.ipynb\">dependencies</a>)<br>"
      ],
      "text/plain": [
       "<IPython.core.display.HTML object>"
      ]
     },
     "metadata": {},
     "output_type": "display_data"
    },
    {
     "name": "stdout",
     "output_type": "stream",
     "text": [
      "unary_mult_reduction may now be readily provable (assuming required theorems are usable).  Simply execute \"%qed\".\n"
     ]
    }
   ],
   "source": [
    "%proving unary_mult_reduction"
   ]
  },
  {
   "cell_type": "code",
   "execution_count": null,
   "metadata": {},
   "outputs": [],
   "source": []
  }
 ],
 "metadata": {
  "kernelspec": {
   "display_name": "Python 3",
   "language": "python",
   "name": "python3"
  }
 },
 "nbformat": 4,
 "nbformat_minor": 0
}