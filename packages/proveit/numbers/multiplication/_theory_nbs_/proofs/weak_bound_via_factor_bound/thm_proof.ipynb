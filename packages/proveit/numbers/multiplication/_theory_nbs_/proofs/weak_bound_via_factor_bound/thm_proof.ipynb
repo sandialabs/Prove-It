{
 "cells": [
  {
   "cell_type": "markdown",
   "metadata": {},
   "source": [
    "Proof of <a class=\"ProveItLink\" href=\"../../../../../_theory_nbs_/theory.ipynb\">proveit</a>.<a class=\"ProveItLink\" href=\"../../../../_theory_nbs_/theory.ipynb\">numbers</a>.<a class=\"ProveItLink\" href=\"../../theory.ipynb\">multiplication</a>.<a class=\"ProveItLink\" href=\"../../theorems.ipynb#weak_bound_via_factor_bound\">weak_bound_via_factor_bound</a> theorem\n",
    "========"
   ]
  },
  {
   "cell_type": "code",
   "execution_count": 1,
   "metadata": {},
   "outputs": [],
   "source": [
    "import proveit\n",
    "theory = proveit.Theory() # the theorem's theory"
   ]
  },
  {
   "cell_type": "code",
   "execution_count": 2,
   "metadata": {},
   "outputs": [
    {
     "data": {
      "text/html": [
       "With these <a href=\"allowed_presumptions.txt\">allowed</a>/<a href=\"disallowed_presumptions.txt\">disallowed</a> theorem/theory presumptions (e.g., to avoid circular dependencies), we begin our proof of<br><strong id=\"weak_bound_via_factor_bound\">weak_bound_via_factor_bound:</strong> <a class=\"ProveItLink\" href=\"../../../__pv_it/theorems/e4ac89bc2c826f4774c179df3608d14e66a121860/expr.ipynb\"><img src=\"data:image/png;base64,iVBORw0KGgoAAAANSUhEUgAABDAAAAAaBAMAAACzwrFmAAAAMFBMVEX///8AAAAAAAAAAAAAAAAA\n",
       "AAAAAAAAAAAAAAAAAAAAAAAAAAAAAAAAAAAAAAAAAAAv3aB7AAAAD3RSTlMAq1RmmUTNIjK7EInv\n",
       "3XZ/CtNrAAAACXBIWXMAAA7EAAAOxAGVKw4bAAAJIElEQVRo3u1bf4wcVR3/7uzs7uzs3txi0Wib\n",
       "XFaLWAKtG0SM1cDoHdDQtFyoMUhJu4IE6R8yTUhI/XEuxkQSjvak1rLVnFNsxPagd5RSpIRmlZhT\n",
       "CbCBQ8iVJXPxYtXapqkpbY6E8/2amTczb35s4y1b02/y3X37fd/vdz877zPvve+bO4AYSbXeOo+u\n",
       "i3LByolWGbTW67F+2fPq+jDEYNptYiS0fciSYwrpCnr53P8PMbQy1a6TDWKs3SYZi6pNjBI2Lo0a\n",
       "/RR+kypCYsRFd1CuZLoAsveVOENUkFYRYu0ATvWXzTaC/saUEeMGbLsnihjyIH4zhMSIi+6cqFWq\n",
       "CyLfijVEBW1ybdI9NtaO4MzqbQRlTaqMGA/ipWUkihgKnha2iJeSuOjOiVyhuiByOtYQFXSNY0pP\n",
       "mTbWjuDsLbcRlNaZUmJgjhTKkRsJzPgD4q646M5JkemCLL9zcYbIoKJpLypHTQdrR3BuNNsJ+gtV\n",
       "Rgz8lo3efOIdalXcFRfdObmc6UJIoRlniAzKsgli7F0Oa0dwvthW0F1U7arklVbr5WhiFFutdyZC\n",
       "qpKY6M7Jaqa5Jccsb8/mI0MJijVfmHpy8cPOLJntm/HOigGD6Oo4PgWyRYc9b/BYgziDlgQ49/eD\n",
       "WgqF9c2TH4HkOJ+mahNjFcCuaGLINcibIcSIie6cMLrDHUbeO6FmJuFX8TOqP0yGGWuN/WF8k3rW\n",
       "4x0wCMT1SZPpdvedHqwBnAJLApwTV0H6VBgs9T1z3EiO81qqNjE2Qw5RTqUJaqLRR/2bw84xaHQX\n",
       "yOtU1ZdA9k6oT1ZgTXxNQ8OecAxfgOvNRfaHz5rwqsc9YBAI9VFwKdLAn1N38liDOIOWBDiV8hpI\n",
       "jYTBkuagaCXHeRVVmxh5s4Dq0QJN8Dadr6aehS+X3NHfBc+GEYNGL1wRuhrf7EMrDHYbh8sfqcqn\n",
       "oGcC1GvpzYBv1VsAjoL6wiUmuYUEdwx2omFwxPGpwY1uL2q+D7+ugtOLDSzleDUkJQmCHnSrKfSW\n",
       "vv8NDmsQJ7WMPb0YxFnJN3M4iY+KBpWMvRCnXIXeiZiMHM5tQNQmhmR5d49bP7EDPlkwZdMd/RXC\n",
       "vSfp8kfHiHJvsCXqRbL80Fe+gzh60MBlEf3+vMdb2ikgRnEExgdh6wli68Fl/J9BPYMoRe/GqeCX\n",
       "EicaRoX5vOr2HoXMaeVk0+3FBpayRw9JiX3YYtbwbT6FOKlFp9ObKOuUDyfxQTXFtloYTsShjeWY\n",
       "jBzOO6g6R+LV6zyL6yp8lmnpBW70s2krjBi+6FhZImgFe5WZ+qBWgOfQzaHODqoNUkn5iCGNipaS\n",
       "cQuux6xyb4sP8CLcO5g7F7nQ0jB+a3IW9rmVvjwHUpMv/eW5uJQkiCJt+spVEU5mOQM/rLWDE00K\n",
       "/4YwnL1luMWMycjhXE7VIcaBTegyzJCLOFsmh6Kw7NNDPDEKl6MfpM0O3YTaG0pQ4olxYFNbxPiT\n",
       "oBXsHUA/RdNgJeZj7s1cky1xPDHS272ho1THy/AxyeCJcRpS1c+kzRhikLANznZJ3ZFqgFOJncMb\n",
       "FZ4Y2BCXkgTt/yqGOuI74BLhZJaVMcTw4YR8CX4KYTh7a2hPEpORw/lFqg4xvo++Zn8vRixLVZX8\n",
       "iGWFx9dzo5/7PXo5lhpB2yfVmlMaPDFwNIxd95z9PVzTHZxnjrPNsfLBjOlvcUsJs5GnC4gY/0LT\n",
       "n7LaRDPGJEcMwlDtUfCylNVaeUuakj134igs13W+XCdLK3lx110Shn6bMx2d29PIOKXfIvgZeIhB\n",
       "DP6UZM1/z+uj4yML2a31pW9DGE5m4c4enIThOEEuZf4DYThTlbweyBiOk1X8DjFSiFDfJQj3FfQM\n",
       "OYxZBvo/+dH/ONJK3kKOuceb2gjfhaPVtxS7TOKarjxlbGPE0KY13d9yxbbtJR8KudEKZBaR0zV+\n",
       "j4EZqvyBfBnH0keoqn2/2/wPzwXfffwnfQjjI6Z3aZ3yrLskDP025/Na67Kr3RQHK15iEIM/Jck2\n",
       "5fFRzYO4w789F+JkFmXau1WJxgnqktmzoTjVJf0QzBiK802q3sfuo+yMLn1vvf4oIsZYlh99OjGR\n",
       "wU1NpCx/l6yj8cntcpq3znovxQAMs1HNV9JV6ohbfj9sA7TrXUeIIf9iBFRyQDO01OCIQRh6xWHw\n",
       "shRvq3ucOXN54GAoyWlLPqq2k5rnkxIfWfwgsDkNxwlbzDZxFqoxOJNkxDjRik3UQwx1rkbHXpmg\n",
       "M0ZmRYAYw+TPS3oGizV/V3FQK8GPpp1mQz3lKyVnbM+aXGKOqOX3wzZy0lKv18uaVrjVf0E4hn7j\n",
       "sJel9iOgkAt+PzwQf3XGf9sOMRKlxLdzv98YgTOn54x2cB6CJ8vROBNlxDjtx5AeYkhVXZ3AY0/P\n",
       "MT8PzlDao59rHALs01PbCH5ijBv5lSZMO03DmeAp687C9n0Sqb17oVimjrjl8yO29DUAD5MZQ8us\n",
       "N3MDAwM3+IlBGfrgTR6Wwk6mwguee+yhmxM8b5HbIEailPgHsqfPT7WwvO1gFRNjy0M/NtvB+W6g\n",
       "uvPjTJQR48QP0LF6Z4w+Ay/biA1b8InMXw365zn86K9df9JEPlL/zwPEKBrb1hFijLFmfhA1EYvw\n",
       "C3qbVM6slC7D3T0m2vZOOy3kx7zQC7U98BugB/CoXD2sC2YMwlDyDGQxz1KyMdnL2t+774g3sjg/\n",
       "fyqeGLuPRTykOPS+1X5KNH1CPnjDhuKE1+bn28K51LcaB3Emyohx2ndW4E/7JLLSqM/XdwQOKzif\n",
       "J2B7oCvTv+IZMt7DZdpchZvKJAwbyiQi09euPl6Bx4htrcUcSQv5oW7shV6Y7Uv4ZkRJv/73iT03\n",
       "ipYSzFDSMHiWQs6i2lWCH6wK2NaNODXEX6xBYtyeva0Rcorl+kBfpiruIisEXe8KpmU3KeHwnNQs\n",
       "2zbHkfhJTgLa+1Fc89brooP2vN/AsbQr5e5huCDEgzNAjIo8a8YRowLrjod0bX25DBma4L75pt0k\n",
       "ZKJ1j8lsriP2s7vBjoh4kBQgBsfSrpS1N18YxPDgTPpX4uH/PBLsSouaFYEtDcFuYtM+pSchhoLq\n",
       "lvpOnqUX5X8kJ95By0rrpW6DJV0a0Zm7OGwdk/8Cj60eJGGwK0wAAAAASUVORK5CYII=\n",
       "\" style=\"display:inline;vertical-align:middle;\" /></a><br>(see <a class=\"ProveItLink\" href=\"../../../__pv_it/theorems/e1ba5371b3602e5b7870c644ad2eef5c35f596fe0/dependencies.ipynb\">dependencies</a>)<br>"
      ],
      "text/plain": [
       "<IPython.core.display.HTML object>"
      ]
     },
     "metadata": {},
     "output_type": "display_data"
    }
   ],
   "source": [
    "%proving weak_bound_via_factor_bound"
   ]
  },
  {
   "cell_type": "code",
   "execution_count": null,
   "metadata": {},
   "outputs": [],
   "source": []
  }
 ],
 "metadata": {
  "kernelspec": {
   "display_name": "Python 3",
   "language": "python",
   "name": "python3"
  }
 },
 "nbformat": 4,
 "nbformat_minor": 0
}