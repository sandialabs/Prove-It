{
 "cells": [
  {
   "cell_type": "markdown",
   "metadata": {},
   "source": [
    "Proof of <a class=\"ProveItLink\" href=\"../../../../../_theory_nbs_/theory.ipynb\">proveit</a>.<a class=\"ProveItLink\" href=\"../../../../_theory_nbs_/theory.ipynb\">numbers</a>.<a class=\"ProveItLink\" href=\"../../theory.ipynb\">multiplication</a>.<a class=\"ProveItLink\" href=\"../../theorems.ipynb#mult_nat_pos_closure\">mult_nat_pos_closure</a> theorem\n",
    "========"
   ]
  },
  {
   "cell_type": "code",
   "execution_count": 1,
   "metadata": {},
   "outputs": [],
   "source": [
    "import proveit\n",
    "theory = proveit.Theory() # the theorem's theory"
   ]
  },
  {
   "cell_type": "code",
   "execution_count": 2,
   "metadata": {},
   "outputs": [
    {
     "data": {
      "text/html": [
       "With these <a href=\"allowed_presumptions.txt\">allowed</a>/<a href=\"disallowed_presumptions.txt\">disallowed</a> theorem/theory presumptions (e.g., to avoid circular dependencies), we begin our proof of<br><strong id=\"mult_nat_pos_closure\">mult_nat_pos_closure:</strong> <a class=\"ProveItLink\" href=\"../../../__pv_it/theorems/e31b91ff03569913fe28fe6aa74739b8f101fefc0/expr.ipynb\"><img src=\"data:image/png;base64,iVBORw0KGgoAAAANSUhEUgAAAa0AAAAZBAMAAABwVGzTAAAAMFBMVEX///8AAAAAAAAAAAAAAAAA\n",
       "AAAAAAAAAAAAAAAAAAAAAAAAAAAAAAAAAAAAAAAAAAAv3aB7AAAAD3RSTlMAq1RmmUTNIjK7EInv\n",
       "3XZ/CtNrAAAACXBIWXMAAA7EAAAOxAGVKw4bAAAE9ElEQVRYw8WYX2hbVRzHv0lucm9umiz4sLqJ\n",
       "JSJi92CJowUpUgNtYQrDiOKDKxr3Ivp0+9ihXRxDfSht2KgY8c+tA0GrJhr/oxIcI8oQ8xDsqAbi\n",
       "H9xq3ShCndZpPX/un5Pc5iZ1d/MHOb33/M69vZ/f+f1+53cO4Ca++hK8kiFcaZFokyK/8/WE+8iQ\n",
       "d//Un7riXGHaTNEmkLxqXK/SRvbgRZo7V6BxdbmO0+YHD170YMv9m38+q+OTS2mDC8ucK06vb2zP\n",
       "5arvXuQy9cWiB1yx1rk4FoxDXTPnC99zrnF6/Uh7Llf9NmK6aPriZctjLffXayWgjDvzL+TzhLmg\n",
       "M64nqTFz7blc9d3LDuInGPWEa7Dl/ppcSEPVmq9QknGFCF4k0Z7LVd+9zJHXoOwJV4/O/67U6xn6\n",
       "t3dEzghcUo5x0dQRcskbrvru5TwNr4wnXCEeYPf/Ytz3+rKrAleszD/6q3r9tFs+dNN3LzvNGJv8\n",
       "bLolo1x3ttE57QiDIiyVyVaY9SIXTttcwQ3OtQ943o3LTd9BhPSXNwwdrOBlvWnQhBbe6PgmcVCA\n",
       "TXtIs7mOqstVs96A8gfnmoQcFy1Tew+3xwWuFv12RCgxHia/KAnTN5LYD5ywPVI9CamKxbd3u72I\n",
       "DzIrl3Lz0tqLQGKPHbryOucK65G02Te7ax43RHRJF7hEfbeLlWEbgatGA568527gWygX2Eeqv1Mj\n",
       "ryFaJCP3056CMwKFQYYodK3CTJ1IjnNht8/mUg0uf8NCl/bRNbiRioh+KOi7EsE2LfNFub5k/9df\n",
       "tWFzKKSxjsNZOqNbFJH2IEOCjOE1Yb6woFZtoxp+iMwIuRid/Qn4kfb33zTdxMX021iALdu8O1Yb\n",
       "S7f4ofoPAmsWF5uiBu4AhjlXO+GDBm+7QLn5w1GRS2nYK6xy0eB6h2SWExPJHk1lyv7IKweauKge\n",
       "iyMfmPNcWnWWnnanaBvB+ruoRzeg/gZf5uYmrgR2+smzn7oZiw06NHQSFZo32GfGrPz4HPmds7nM\n",
       "fIjHSSQc+hk79CBbGPqRWmnionp1iZqB15nanJPL6myyjcD1q5GgX8ItqZTIFW74aySRKcs2RMaI\n",
       "KtbYg+S3MtgwlwvgoKmkF5IdmAFj/YKPekAfJhB4NJ8/RrgWQ01cVC+llDJklu/HMIPgwHgzF+3k\n",
       "1hJtI3A9RMJNITQLq0/3ZUUute/DyXNk22QnfxZkNTO0hEG+BgutKHfuhXn+yFOXiClVm0uKi/uU\n",
       "LzCmKEX+TcEBxz6lJx2L4wiz6SlSMfeg0Mx1ipXR1FqibYT1i+YMnLFSdbU1g6ZkrXMBlZVSxMZP\n",
       "GLcHXqxn2pQjFpe8hjP9fP0dgvmNAldBCw/rbGujXsTx12Vzekx70s7A+N4inLYR6vnBtlxTzxzV\n",
       "O3IdRvRItmP1bNTzhvvEsZrEFHlK+UaDzzlf2ty9lEstoqKsDwPzJJXQO9oYnf4VWqU5bGNkKepB\n",
       "YWNO5Pf/aimdvt7c7Jxq70Gs1Hlzcatzv6x+lJ/fer8cHB0o0a2o8jnu20ssIBELzCSUCmY0pWJ2\n",
       "XkvqaqdtzN2ElVQu9xSjg8Mubf8cgPihn199HCONtXsxOquxId1pG/F8Y9oDrrPu6v9wvjF7OoEH\n",
       "eP/m32QOrYjgnWrcX3I5j/LiDKAL6e48ynF+KDwQ2Krz/zw/ZHIX3ex9l/wXsa5hNoAiNo8AAAAA\n",
       "SUVORK5CYII=\n",
       "\" style=\"display:inline;vertical-align:middle;\" /></a><br>(see <a class=\"ProveItLink\" href=\"../../../__pv_it/theorems/1f36cb37a40c4f531c531c20f5932caa85a697ca0/dependencies.ipynb\">dependencies</a>)<br>"
      ],
      "text/plain": [
       "<IPython.core.display.HTML object>"
      ]
     },
     "metadata": {},
     "output_type": "display_data"
    }
   ],
   "source": [
    "%proving mult_nat_pos_closure"
   ]
  },
  {
   "cell_type": "code",
   "execution_count": null,
   "metadata": {},
   "outputs": [],
   "source": []
  }
 ],
 "metadata": {
  "kernelspec": {
   "display_name": "Python 3",
   "language": "python",
   "name": "python3"
  }
 },
 "nbformat": 4,
 "nbformat_minor": 0
}