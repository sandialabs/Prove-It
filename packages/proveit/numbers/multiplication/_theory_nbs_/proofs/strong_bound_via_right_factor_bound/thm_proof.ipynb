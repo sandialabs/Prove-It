{
 "cells": [
  {
   "cell_type": "markdown",
   "metadata": {},
   "source": [
    "Proof of <a class=\"ProveItLink\" href=\"../../../../../_theory_nbs_/theory.ipynb\">proveit</a>.<a class=\"ProveItLink\" href=\"../../../../_theory_nbs_/theory.ipynb\">numbers</a>.<a class=\"ProveItLink\" href=\"../../theory.ipynb\">multiplication</a>.<a class=\"ProveItLink\" href=\"../../theorems.ipynb#strong_bound_via_right_factor_bound\">strong_bound_via_right_factor_bound</a> theorem\n",
    "========"
   ]
  },
  {
   "cell_type": "code",
   "execution_count": 1,
   "metadata": {},
   "outputs": [],
   "source": [
    "import proveit\n",
    "theory = proveit.Theory() # the theorem's theory"
   ]
  },
  {
   "cell_type": "code",
   "execution_count": 2,
   "metadata": {},
   "outputs": [
    {
     "data": {
      "text/html": [
       "With these <a href=\"allowed_presumptions.txt\">allowed</a>/<a href=\"disallowed_presumptions.txt\">disallowed</a> theorem/theory presumptions (e.g., to avoid circular dependencies), we begin our proof of<br><strong id=\"strong_bound_via_right_factor_bound\">strong_bound_via_right_factor_bound:</strong> <a class=\"ProveItLink\" href=\"../../../__pv_it/theorems/365a7f35034250a285e270e94403be9898e5c71a0/expr.ipynb\"><img src=\"data:image/png;base64,iVBORw0KGgoAAAANSUhEUgAAATwAAAAXBAMAAABkN+50AAAAMFBMVEX///8AAAAAAAAAAAAAAAAA\n",
       "AAAAAAAAAAAAAAAAAAAAAAAAAAAAAAAAAAAAAAAAAAAv3aB7AAAAD3RSTlMAq1RmmUTNIjK7EInv\n",
       "3XZ/CtNrAAAACXBIWXMAAA7EAAAOxAGVKw4bAAAEIUlEQVRIx81WXWgcVRg9k9nJzt7dblYEpS2E\n",
       "hRZ8aWQpRWkf4kqqtUpqpCpEpS4qBBVkCn2J1rB98sFgYmos8SGOUhSaGscWK+1DWAqSarEEbFEI\n",
       "DRMbKRoJQamRPIjf/ZnZ2Zm7tsKKfnD27uyevd/Z7+9e4F+xtELCnCbkW96gJfaDQsIONCHHzfIl\n",
       "CvxhS4vVtXkSScuXtOSkXZN4gL8faLG8jxQ09pKWnLR2V+AIT/Joi+X1KGhsh5acNLMswFVmiy2W\n",
       "V1PQWM6tZ3UgJGvsawGTiqG91aVXkdAmLSw+87IbkHX2vMQ3V69ebLG8lCeBgzND4YdsZdObpyhT\n",
       "haBJ5t2Q3ECc7gEj0mcQeAh47xY8/hN5PEIc1ized+s7LPq9FDMVrKmFCLmB6G2DuQrcA4GDSBea\n",
       "Zmn+hTt88S5zc1HZmWBCbChKnCyhN/z6Xtzn3k5bylI79C0i5CjRLvbCoF7dBoGMm+3Tuntr4zh8\n",
       "L/uaTp4bfWDyqRv9Qfn3STwKzPPnT3nEqnhQeF/lr8Zz9V6pE9nv/AWXkKOYjECgzdd3RoqyDt83\n",
       "pzXyDm1qOIDeEUfVBXQ4jfK+ArshAlQWH18Sx0FNIy8gXhaMdYxUgWcgUenmpdD9Bf9qZc8SubAW\n",
       "YYixTfLyxyPy8ktDe2g5ciedTgVx4LDTyw7s2+hH6XXkig3JZX+KIgrPqTWcoGjMJZPbSExV8Ast\n",
       "XQqnaJCz7+w17t7Z2E5bT3e4w0yMat8bvBaRd90Ypb/dTxKZv27zOHzijHBp91dhr2ODGhoZX4D9\n",
       "CqNyV1AB40YNVJzmaKw14kRkCniblp0KhykKqbJwZmLSpuXVLvxkCVf+3rOIyCtl/Cr6z/GEfjiX\n",
       "5452Y1g439tH8nK+apKCxCS6yuWgy/44XrOKao6I+bHghuQoEamC9RstjygYVV4Aedm+a+J1MzrN\n",
       "Fycmxii5nxejtUfVZZ8X7wzP4GK+xKKcsbOU3A6VXHtO4oPlNzqrQfT2+Vu381yGfWjKwRcngm1e\n",
       "4iquKIjecjK7ONmuiUvWFVywPVl7T5yLyhumC9vUmCiZvhxtyNZw9ASPzWS0NfC9gsZejxyrAyE5\n",
       "NqKo09NzErJ9nJH97hQOZyspTNEvrFU5q2mwRFojXTsDykH+KJdXfRbMw6x9Yxc54ifQCh6Lnvs7\n",
       "mt8W/v6ScAYneRGUJGRX9dx9GsPF1I8zP9OCrTsrGKTgWK+8zHZX6tHb9/QKj7FJ+tp63uV5fnz7\n",
       "cgn5MTmWHw6r25HQ3IKTl6M4cYFqCxhUiJgqnSJzMiWwsxPjkT0aT5Nj+Bhcoyy1sbhH3vZMe0vT\n",
       "iI4Ttyzx8jymEBlMrloM/8nEtvEPOi2K6lPNDrghhYRdb0JO3KodiegNMFisbu+m8vYv80GD/4ml\n",
       "/xu3fwHTqR3NRL5y/wAAAABJRU5ErkJggg==\n",
       "\" style=\"display:inline;vertical-align:middle;\" /></a><br>(see <a class=\"ProveItLink\" href=\"../../../__pv_it/theorems/3ba70e85cb9b0d2ac84d5173ba4682866af664c40/dependencies.ipynb\">dependencies</a>)<br>"
      ],
      "text/plain": [
       "<IPython.core.display.HTML object>"
      ]
     },
     "metadata": {},
     "output_type": "display_data"
    }
   ],
   "source": [
    "%proving strong_bound_via_right_factor_bound"
   ]
  },
  {
   "cell_type": "code",
   "execution_count": null,
   "metadata": {},
   "outputs": [],
   "source": []
  }
 ],
 "metadata": {
  "kernelspec": {
   "display_name": "Python 3",
   "language": "python",
   "name": "python3"
  }
 },
 "nbformat": 4,
 "nbformat_minor": 0
}