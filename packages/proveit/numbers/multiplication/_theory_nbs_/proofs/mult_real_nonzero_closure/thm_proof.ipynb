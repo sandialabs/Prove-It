{
 "cells": [
  {
   "cell_type": "markdown",
   "metadata": {},
   "source": [
    "Proof of <a class=\"ProveItLink\" href=\"../../../../../_theory_nbs_/theory.ipynb\">proveit</a>.<a class=\"ProveItLink\" href=\"../../../../_theory_nbs_/theory.ipynb\">numbers</a>.<a class=\"ProveItLink\" href=\"../../theory.ipynb\">multiplication</a>.<a class=\"ProveItLink\" href=\"../../theorems.ipynb#mult_real_nonzero_closure\">mult_real_nonzero_closure</a> theorem\n",
    "========"
   ]
  },
  {
   "cell_type": "code",
   "execution_count": 1,
   "metadata": {},
   "outputs": [],
   "source": [
    "import proveit\n",
    "theory = proveit.Theory() # the theorem's theory"
   ]
  },
  {
   "cell_type": "code",
   "execution_count": 2,
   "metadata": {},
   "outputs": [
    {
     "data": {
      "text/html": [
       "With these <a href=\"allowed_presumptions.txt\">allowed</a>/<a href=\"disallowed_presumptions.txt\">disallowed</a> theorem/theory presumptions (e.g., to avoid circular dependencies), we begin our proof of<br><strong id=\"mult_real_nonzero_closure\">mult_real_nonzero_closure:</strong> <a class=\"ProveItLink\" href=\"../../../__pv_it/theorems/794fb4e9de1be8ad3cef53f0c1922dfc3fde7edf0/expr.ipynb\"><img src=\"data:image/png;base64,iVBORw0KGgoAAAANSUhEUgAAAbwAAAAbCAMAAAAwAMoPAAAARVBMVEX///8AAAAAAAAAAAAAAAAA\n",
       "AAAAAAAAAAAAAAAAAAAAAAAAAAAAAAAAAAAAAAAAAAAAAAAAAAAAAAAAAAAAAAAAAAAAAAAeYafp\n",
       "AAAAFnRSTlMAq1RmmUTNIjK7EInv3Xah18O17eXJ8+7nKwAAAAlwSFlzAAAOxAAADsQBlSsOGwAA\n",
       "BXpJREFUaN7tWom2nCgQlX0nM8mM//+pQ7EIqGgv9onTJ+bE149X2FC36taC0/Tnuvml/6jgf3sZ\n",
       "Fu/Gm0sfi5xz4rabJuwrsBMobsZPE1PhA83DPugev/NcfudNY/odjoeie1gZbnP4KFS1TvKt4Oll\n",
       "cTfhhheXwSJZihkCn8XZB78dPFV25vE9FsT8Gc1zq9TMnc1LpwquX+E/mWQEz8U/OF3BQ5VoyAvg\n",
       "vTH9o3Zuy6rMXZbkT/WjYoBjiCi9mpTAsxF/jyp4dInrXLwA3hvTP3lRs2bP339xfQ6eiT9kwUfn\n",
       "CJdoc44kome9gLcINqHwCfDemP7Ja842RW9EB4Q+Bh4VyS0CYf7zr4q0WRMWUDupMa8YhMGvgPfG\n",
       "9A9eslinvZNF2d71vArpvuN74GVHWDxj8lAq5N+oquCVpOV5guFtznOr7MW7HPFutSre0gDjXu97\n",
       "HtI6w1RjHxTpNP/mbZNtWjAAZ81r4L0+/ZPFEe9DX8gEjBf+pBo+FXm8sN59lEGNyE4ETOBJhXP6\n",
       "gPdXwzKtRPCoXKH8HHgvT/9koaB6W2c2qEPNR2t8QOThqmDwKNLwwF56F8Cz3M2uuCQfxQRZwYsN\n",
       "GIGGZuQotNeIRfvgnUz/YB0ObiU89ls98Lyc3EHSNhpp5FJNdnXSiGhjEHoDxPbb+qaPPa6RwfMI\n",
       "WRJkPOjviZyNpYAFXmO2ktIjpcIwRpMJElQPivTB9Mv7Xc5winilElrypa0iXE7sbFoWneOgiZvy\n",
       "jVb1XOY2IrRTfRU5RqyKNY9au0z9mIJNuNSKNpU+65zoDjzg1u0KaeJDqL49bMiMOiz70y9MHbMR\n",
       "eViCEWUdsfGs7TaLazwvg2dVs2fsdlBuReAmMjW1IsdXFeu+rafTCoAalQqSnoUg0dImqD53zAgl\n",
       "wTRp3xDAEjPhx+DV6Z+pt4sR+fBvIjrcDKX0x1+UssDpoDd5TJt6huWRedqCV625ihDdgfc0a7aP\n",
       "qvpcfbMb1nlUnpTMMtd7GTyDU+6jCQO+hnjbmAaWgTYxG4NXpkO4IN6IbXDaG90PYxvJakQRPK9p\n",
       "Q5rZ8zbPRnn1yid14pSBYjEGrxUJW3Kvh7z6qEafUdsNKN6PwAuaP+6kddkmdAKTpQrtARD4IyMt\n",
       "eEFVXg3BK9Mn7cRiF81udkd3972VbIwInF8o2FjwvL9/UvC8uIYtZ5dSKCfngCEOvEaHnteLTNLp\n",
       "o7i2/bD/qEafXeESlYf3wKMJFHWUQpC2zgM7KSSBfKZmwmNTW+EEXsjs+BC8ZTqlEIpTs0w3vJdH\n",
       "GfaUHTNkmV/NjDTgUWUylsX/INskYmicMgGlkTdSIC/H4HUiYhB1lri2/TB41KLPKMw6KcV0X0jA\n",
       "qYKCKkPx+aBfRVEPXu3gyKhCOUnTeR4ofgzeMpvlprfEjekuoxZM9bB/xJqmednSYkRAm4alXdGT\n",
       "VD5nKjvhcABelxEERMQ1bfZFn7HmWlmYUX177MlGzRo8MccNA1zV+NL7BB6dgqeB8RTR8exJb0fF\n",
       "xq9G8wllJB3mNEYE4DEGVcv5Kw6FoXaawafgCSWlpJc0HRp9XtYkb08VemMAhLwhaQs5uXGpG4Ae\n",
       "8DwIWYxU8GId3YwmMo+je7dFEkOEdav+XioV9EOZ+2IkauVBwvDZHOfGdobrEkU3+rzs2IU053kH\n",
       "mR/QFTttj7VrpQTnpSbwJJzcN6Mp64+j0or+1kmGKCp48YOlk8tNCHb0IaJB+KCg+j0tu4vOO5d3\n",
       "vj73GkShzS7wBsrz29FpR9JBjcD0Y0a0a3pLKuzvgZ2/CLvPv8MivU3ne11CxQMbuc1o8VrdpWLw\n",
       "AsNbi8O3Oua47Lru7bHz9zbJw6OXH3l/yXub60ysHOo5Z8l/dXwwKJpgj8EAAAAASUVORK5CYII=\n",
       "\" style=\"display:inline;vertical-align:middle;\" /></a><br>(see <a class=\"ProveItLink\" href=\"../../../__pv_it/theorems/42bccba902268943b1fca6ed53386e4c670c6dd90/dependencies.ipynb\">dependencies</a>)<br>"
      ],
      "text/plain": [
       "<IPython.core.display.HTML object>"
      ]
     },
     "metadata": {},
     "output_type": "display_data"
    }
   ],
   "source": [
    "%proving mult_real_nonzero_closure"
   ]
  },
  {
   "cell_type": "code",
   "execution_count": null,
   "metadata": {},
   "outputs": [],
   "source": []
  }
 ],
 "metadata": {
  "kernelspec": {
   "display_name": "Python 3",
   "language": "python",
   "name": "python3"
  }
 },
 "nbformat": 4,
 "nbformat_minor": 0
}