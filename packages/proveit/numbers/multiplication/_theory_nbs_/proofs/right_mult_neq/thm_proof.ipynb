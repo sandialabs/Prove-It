{
 "cells": [
  {
   "cell_type": "markdown",
   "metadata": {},
   "source": [
    "Proof of <a class=\"ProveItLink\" href=\"../../../../../_theory_nbs_/theory.ipynb\">proveit</a>.<a class=\"ProveItLink\" href=\"../../../../_theory_nbs_/theory.ipynb\">numbers</a>.<a class=\"ProveItLink\" href=\"../../theory.ipynb\">multiplication</a>.<a class=\"ProveItLink\" href=\"../../theorems.ipynb#right_mult_neq\">right_mult_neq</a> theorem\n",
    "========"
   ]
  },
  {
   "cell_type": "code",
   "execution_count": 1,
   "metadata": {},
   "outputs": [],
   "source": [
    "import proveit\n",
    "theory = proveit.Theory() # the theorem's theory"
   ]
  },
  {
   "cell_type": "code",
   "execution_count": 2,
   "metadata": {},
   "outputs": [
    {
     "data": {
      "text/html": [
       "With these <a href=\"allowed_presumptions.txt\">allowed</a>/<a href=\"disallowed_presumptions.txt\">disallowed</a> theorem/theory presumptions (e.g., to avoid circular dependencies), we begin our proof of<br><strong id=\"right_mult_neq\">right_mult_neq:</strong> <a class=\"ProveItLink\" href=\"../../../__pv_it/theorems/fd0de3a876d97473a9ca3d3e87678680c90467200/expr.ipynb\"><img src=\"data:image/png;base64,iVBORw0KGgoAAAANSUhEUgAAATsAAAAXCAMAAABDGxgMAAAARVBMVEX///8AAAAAAAAAAAAAAAAA\n",
       "AAAAAAAAAAAAAAAAAAAAAAAAAAAAAAAAAAAAAAAAAAAAAAAAAAAAAAAAAAAAAAAAAAAAAAAeYafp\n",
       "AAAAFnRSTlMAq1RmmUTNIjK7EInv3Xbt5cnn9enzas/lfgAAAAlwSFlzAAAOxAAADsQBlSsOGwAA\n",
       "A99JREFUWMPlmOmynSAMgFllNd19/0ctu2wqdvrjdMrcezI68GFCEgII/UtNdHJ5wN/uJ9C/1oC0\n",
       "8rlxmL9negpe5kWJy3tCP9x0xLRyydxTpaSagl/wgmQ8v94+3BH11sq1tunJSyVn4Fc8L2V2PKE+\n",
       "3O0YbeVao2zidngKfsULMhvSkA+3ne3k6rDR8ZSYgt/xvKTJ6tuHm45srVwOssGrOJ6CX/KCtLtv\n",
       "1nx6yJpWagCspZmGi8AGRNoSDR60FzOwhhC7Gi/ygmQhcSr9dzS8zfYrO8LSeseZAANi+6SSsM46\n",
       "6ogoWtyKBSfZv//wv7gHG0R88NJjkRekwPnnT0ouxXBZEr8EN30Nf+bFPsbAEAY7aSQVXk+N8Jjo\n",
       "tQ0FRDIqsfdul4CSxBFYLfKi9C63ole1UQFWyo3QCrsPIcqs2G5leWIf6taC9yTLG+mDhVWZSh+n\n",
       "fwXX2dNHyc6ROJuCnQ2sdwELA3DOi5LAy52CsVQfGR1moku2wwv1Y+xjPf4Qt7ZDtZ5Bt2ITq4Lq\n",
       "PAfcvdsVIPdBKQ85AOe8JLew0sHYhoIpcAAm3F8+huB0DCm1uqaSd8e72nbNcMRNh5lMGPuIkFks\n",
       "uY3ZoKwbqIcEqQ+o8xbZm3z381fMengABy+GsWC54CVpSCry9C6c5bMqIHz0byRtQ8ipJK0P1LK7\n",
       "C9IvYmW7Mpwp3764f1ph2gnrPjLYbu8SmYJaapcysA0pftTVfzHeUPw4qh7OGQWM888SL0lhcQ5G\n",
       "dOqFaOAmHxbaGxrcAF6Uoprqa9s1w7OznpjJhKlPtJ3tjvFNbYDIITVzA/mkRPHGIC7iWFPTpOUe\n",
       "C4EMZti7Ml3lZYnlGfpQW75OOth1dkWB25yDjyiCpOTy2nbN8NNZM2acMPeJMXt0VpF7LTUDcIag\n",
       "s+pOYzBSYIjftvOH420Ga1fEsUOs8lqu805fx9AzhXiXKDDf2WdxeS5k2iuqoqyxXRru4/HrNxXi\n",
       "8cS0EzZ9pnsF2mUrF2/c9scbkwpotlWe6OtK67MPd4GojY/kgGIoPIUp+NGW0cKErcDM6rtzeHv6\n",
       "zpgALRM2fQCGg1N/Cn99g3BzqxKB/mO1Jau84QKBuyAAQ73HOAgDbgB0evIRorZ44yLPbdIFMJPT\n",
       "mC3D21NLxgRombDt42pjdn2EVy8uy9rbITo/eAbgDjGfrPFub51I/6RDeCWL+eCaVtNzJDkds8KQ\n",
       "qz5XxzXV587n1tp519dgQoHxZd7d+nHdP7n8zp8r6Lla1bgT006xUp3ns5+AVdNBq6J8AC/z4M71\n",
       "6fDEKSxctUxtR6r1PDH0ss9/2sR/pOtvMkkkSUJLX54AAAAASUVORK5CYII=\n",
       "\" style=\"display:inline;vertical-align:middle;\" /></a><br>(see <a class=\"ProveItLink\" href=\"../../../__pv_it/theorems/9f0c98ae9a20263d56ed8bcaf58e6032f49fb4490/dependencies.ipynb\">dependencies</a>)<br>"
      ],
      "text/plain": [
       "<IPython.core.display.HTML object>"
      ]
     },
     "metadata": {},
     "output_type": "display_data"
    }
   ],
   "source": [
    "%proving right_mult_neq"
   ]
  },
  {
   "cell_type": "code",
   "execution_count": null,
   "metadata": {},
   "outputs": [],
   "source": []
  }
 ],
 "metadata": {
  "kernelspec": {
   "display_name": "Python 3",
   "language": "python",
   "name": "python3"
  }
 },
 "nbformat": 4,
 "nbformat_minor": 0
}