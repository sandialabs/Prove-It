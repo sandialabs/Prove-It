{
 "cells": [
  {
   "cell_type": "markdown",
   "metadata": {},
   "source": [
    "Proof of <a class=\"ProveItLink\" href=\"../../../../../_theory_nbs_/theory.ipynb\">proveit</a>.<a class=\"ProveItLink\" href=\"../../../../_theory_nbs_/theory.ipynb\">numbers</a>.<a class=\"ProveItLink\" href=\"../../theory.ipynb\">multiplication</a>.<a class=\"ProveItLink\" href=\"../../theorems.ipynb#mult_real_nonpos_from_left_nonpos\">mult_real_nonpos_from_left_nonpos</a> theorem\n",
    "========"
   ]
  },
  {
   "cell_type": "code",
   "execution_count": 1,
   "metadata": {},
   "outputs": [],
   "source": [
    "import proveit\n",
    "theory = proveit.Theory() # the theorem's theory"
   ]
  },
  {
   "cell_type": "code",
   "execution_count": 2,
   "metadata": {},
   "outputs": [
    {
     "data": {
      "text/html": [
       "With these <a href=\"allowed_presumptions.txt\">allowed</a>/<a href=\"disallowed_presumptions.txt\">disallowed</a> theorem/theory presumptions (e.g., to avoid circular dependencies), we begin our proof of<br><strong id=\"mult_real_nonpos_from_left_nonpos\">mult_real_nonpos_from_left_nonpos:</strong> <a class=\"ProveItLink\" href=\"../../../__pv_it/theorems/a04319f9800a7deb77d22972003a49a02f4c7c460/expr.ipynb\"><img src=\"data:image/png;base64,iVBORw0KGgoAAAANSUhEUgAAAQEAAAAaBAMAAABFpPQiAAAAMFBMVEX///8AAAAAAAAAAAAAAAAA\n",
       "AAAAAAAAAAAAAAAAAAAAAAAAAAAAAAAAAAAAAAAAAAAv3aB7AAAAD3RSTlMAq1RmmUTNIjK7EInv\n",
       "3XZ/CtNrAAAACXBIWXMAAA7EAAAOxAGVKw4bAAAEMUlEQVRIx8VXbWgcVRQ9O7OTmf2atFZLtSAL\n",
       "lYIUS8ASaZG6IRtN6Q+3Fv1hxa62ILa0TiB/QpJmhSIUY7MooW4/pxiEGmlGRWNThBApWkUJtVKx\n",
       "LIy1GI01BEELAcF732Sek9mt3XYjDux8vHfffeede+59b4H/5brfwtlfF82bmrt1AC5UVysiujgI\n",
       "7rvlEeubgGQB16EXFwNAPM93q7LDutGIX9J067MxAWxcDAQxWhDMdGXHs6Hv5vMn9pwn435hO2Dj\n",
       "GyBlA0v4c1UdCHr4tibEy9FJQtUUsix2YMt6G8oR20PwNdnQ9G3c90IdCDbLSASuhgzddoURdCNm\n",
       "0JQaQ6Ao/E4D54CXqasuQfxBv2h4uY3M9LpKBFGLsRp3Wp4SgR2ElvAk0rcPwKBVIBlu3c5EJ+15\n",
       "5ZXLeYlALFZfapuuxgLYRNlM8BvqoMCkiGN1uPUTEQqPmaem/+Eg8o7QHXTg7FUGeI1+X5XLX9aB\n",
       "IJKf14K+csqVrc/N3EHUitn0XYEoHFhtVZLVDhyumuc1JmPRiyaesWJzcuyf9ogFVXDfIOcs9uz5\n",
       "azo0fKAAdEBfUq3WrsC+tVWKytAYr+vKlFQ9D75Ak36K6KTfqMwh6UIZFwYBJT74Nj0OlOjyPfdR\n",
       "SY/ZiWBhf+Cjlr30GG7nbBKLeGU+U5TLO5cTz92PsXyl3xTn3TlKh1mkHLF8zo08Gh0Ys2zQX6ar\n",
       "6CGIvRVOmhGaW3GlN+OHUs5MYNRB5yj5GscXItLs+ODdg3CdRDe9nm7Du1LnHgeEIFkU3oCLDMvB\n",
       "9jQ0wcGpAAdGJhzwPooC8rI4Z+nTNLHB1b9lqifxHbdS5iJKlMB11dPc0JvrRaoQisKIi0eC5eBx\n",
       "Kn4iKqlgPWjvCuuAw/E+i3V446hXRgnBdAbqXYKDz4TRzD34EQKBOUSP/WPMgR/ICBN8nBCksVzx\n",
       "GxsLJAuognvTDSA4FS7VonD00Cril4zrHl9mQj9OVsoyIsfTwW/21bjw5TpdhGSLKCAyciZT/R7J\n",
       "yVUuyu0+0hQjeUQd8fG8RNBJ1WdwIYKHhTmznDHGsVV4jB4R0xlt2LdKrOkNNGsCubvpDHAyLXLh\n",
       "Id+Fxin4Gq3h3o87fpbZuLKV+fcUfnLQ9vfGQyi9tLD+tvgvyRztUs2UJWnTTDyxEObnaFFfLJVe\n",
       "pyh8WKV8n+O5CtVKRe/8c9uxcv5G5WSHTAortsF+VXBgattsPZvNtvl9s5gwHE8HT46hk7py4b1R\n",
       "zVTz3lrD8UYWsaQ1sNWO2UIHGAv4izv4nhR12NNBYqjSST/fDlXxXsuOq8piqLWu/QD6m7yP/OQM\n",
       "PRrY+iawfwboIpq1vbvj2Uo6I+kFSR+o19bNEaRCNsOlUsW5V/GoOFMa/Ldzou5WdkzVsKvUck58\n",
       "+qYWa25/Y63paNT0X/xf8K8oKe9vY6gWZYDXwHMAAAAASUVORK5CYII=\n",
       "\" style=\"display:inline;vertical-align:middle;\" /></a><br>(see <a class=\"ProveItLink\" href=\"../../../__pv_it/theorems/c7657ba6037b36fe71b7ffeffda78b10058d7c3c0/dependencies.ipynb\">dependencies</a>)<br>"
      ],
      "text/plain": [
       "<IPython.core.display.HTML object>"
      ]
     },
     "metadata": {},
     "output_type": "display_data"
    },
    {
     "name": "stdout",
     "output_type": "stream",
     "text": [
      "mult_real_nonpos_from_left_nonpos may now be readily provable (assuming required theorems are usable).  Simply execute \"%qed\".\n"
     ]
    }
   ],
   "source": [
    "%proving mult_real_nonpos_from_left_nonpos"
   ]
  },
  {
   "cell_type": "code",
   "execution_count": null,
   "metadata": {},
   "outputs": [],
   "source": []
  }
 ],
 "metadata": {
  "kernelspec": {
   "display_name": "Python 3",
   "language": "python",
   "name": "python3"
  }
 },
 "nbformat": 4,
 "nbformat_minor": 0
}