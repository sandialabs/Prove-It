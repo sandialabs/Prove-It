{
 "cells": [
  {
   "cell_type": "markdown",
   "metadata": {},
   "source": [
    "Proof of <a class=\"ProveItLink\" href=\"../../../../../_theory_nbs_/theory.ipynb\">proveit</a>.<a class=\"ProveItLink\" href=\"../../../../_theory_nbs_/theory.ipynb\">numbers</a>.<a class=\"ProveItLink\" href=\"../../theory.ipynb\">multiplication</a>.<a class=\"ProveItLink\" href=\"../../theorems.ipynb#mult_int_nonpos_from_left_nonpos\">mult_int_nonpos_from_left_nonpos</a> theorem\n",
    "========"
   ]
  },
  {
   "cell_type": "code",
   "execution_count": 1,
   "metadata": {},
   "outputs": [],
   "source": [
    "import proveit\n",
    "theory = proveit.Theory() # the theorem's theory"
   ]
  },
  {
   "cell_type": "code",
   "execution_count": 2,
   "metadata": {},
   "outputs": [
    {
     "data": {
      "text/html": [
       "With these <a href=\"allowed_presumptions.txt\">allowed</a>/<a href=\"disallowed_presumptions.txt\">disallowed</a> theorem/theory presumptions (e.g., to avoid circular dependencies), we begin our proof of<br><strong id=\"mult_int_nonpos_from_left_nonpos\">mult_int_nonpos_from_left_nonpos:</strong> <a class=\"ProveItLink\" href=\"../../../__pv_it/theorems/2fe56656e3f8af86543c8c132e32514b03748dc60/expr.ipynb\"><img src=\"data:image/png;base64,iVBORw0KGgoAAAANSUhEUgAAAOsAAAAaBAMAAACk6rZaAAAAMFBMVEX///8AAAAAAAAAAAAAAAAA\n",
       "AAAAAAAAAAAAAAAAAAAAAAAAAAAAAAAAAAAAAAAAAAAv3aB7AAAAD3RSTlMAq1RmmUTNIjK7EInv\n",
       "3XZ/CtNrAAAACXBIWXMAAA7EAAAOxAGVKw4bAAAD4UlEQVRIx71WbYhMURh+5t47M3fufOwgn1u6\n",
       "haItjZIirdHuZlEMq7QSIz82ku4iv1hD/iGLwvjq/lJry0w+whQtEkuyP3zX1OUPRdv+QW2S95w7\n",
       "c9y57tqdJbfunTPve855v57nPQf4f490CuE7+b/bQ05VbfUCUI9WKH9jdnrVfp6gzyPUGMHO0VvV\n",
       "0vQJeiiMIRbEjrMFg4joFPKon1CCPu89FBvcqd32fUvxXEK9x/6og4gmEDWBOPs7rWqze9iOLnho\n",
       "5/ooqoQrymMZpAPArIJtNmIhRjabmK6tarPL6b3oFgaS9NlaKVOS5MkVGrQWeJJrdGiDwH6W8uqL\n",
       "/IXeBreQtgTmVsp8Bro0vv/+JTakgM3kISU6rFdrlbIF9LilG2kvREw7ueeLL3nmgWZfhovap6Af\n",
       "q2iwlHBNtQhUHWyMqiil3dLbPNO8uP7tpnAxflCgPHxnGf1+pvdpsfikarM+MqkwRAVrP1hCuql/\n",
       "LKWOg3S3+Qv05hmPrDQDZzyZ+Uf+dJbCWm+EBsWKr2bOgJx2gbROtlyrj1LS2xGMezWVSeiYPRT3\n",
       "EaAlUUKEdh9Kn6Aop4fES+4oAKMP1Cw9p0qSfSmWg7Czvfp6r50lHnQ3MyqwxeqWkmbv8pR8tzSO\n",
       "0pQILVMGEGW5zrGZSho1eagDbBGVrvjGhoF+HTArnM7RSskSiFLfZVNRI3zZxK4bFEkPHjNpbUkj\n",
       "xQtY5oiWmY108j24G8yBjTr8LFrtFyW7GD0nVpjdx5CdFj2ykf7KOLATwRcMLX14Dd6+bY1UryDv\n",
       "SnLOwiInbVeakHjSReYxiZirDVTWlhXvCusr3fU3yn0tSZ7L43m0D1mgP96ZXCMdWGuVzfooghAh\n",
       "JadjglRGQE2GSg2ZB9ovMphcQ9P7fuf3HvJce6V+Q5eNpR0sBdI4BgtWsdjbWJJrpExhRtlsrMdm\n",
       "SsiSnovz05cIJUu8QkAX9NmK4PHKNriQz86wzqn2oIXLLodtL5vQMc3gZ42cbrHNKrHycj+xRqUQ\n",
       "tKk32z8KAtWydhnlANUmr7OF60/2Zp/1Vh4ai8uDSIqOhXmEcR35Ai4550QySpxrpIyWF7x4QO9r\n",
       "T27tLTl2y26OXs9mAWkjtMA8xKfPTKAQbGxsbCpXjE7mQ3a0WG05T6C5nns2DH9FEA0mYhxtMUOs\n",
       "0mEFfgcAuulQng+uodtTTDSWwyz9Xt1kBKeZLHbxN8y+iuBpGs0Z8+mko2sd1tUVlq050la6FHBA\n",
       "6BXkdLRNY1izUdeU7mz2t/ug7q3hd6kOjz0/DH+OjOAu5TeHUNSN+ho2kkuF/O/uyeKaQ5H8BNrx\n",
       "68cOIrBlAAAAAElFTkSuQmCC\n",
       "\" style=\"display:inline;vertical-align:middle;\" /></a><br>(see <a class=\"ProveItLink\" href=\"../../../__pv_it/theorems/f74142ef57287b2f74a89797d9d7d50f340f13b00/dependencies.ipynb\">dependencies</a>)<br>"
      ],
      "text/plain": [
       "<IPython.core.display.HTML object>"
      ]
     },
     "metadata": {},
     "output_type": "display_data"
    },
    {
     "name": "stdout",
     "output_type": "stream",
     "text": [
      "mult_int_nonpos_from_left_nonpos may now be readily provable (assuming required theorems are usable).  Simply execute \"%qed\".\n"
     ]
    }
   ],
   "source": [
    "%proving mult_int_nonpos_from_left_nonpos"
   ]
  },
  {
   "cell_type": "code",
   "execution_count": null,
   "metadata": {},
   "outputs": [],
   "source": []
  }
 ],
 "metadata": {
  "kernelspec": {
   "display_name": "Python 3",
   "language": "python",
   "name": "python3"
  }
 },
 "nbformat": 4,
 "nbformat_minor": 0
}