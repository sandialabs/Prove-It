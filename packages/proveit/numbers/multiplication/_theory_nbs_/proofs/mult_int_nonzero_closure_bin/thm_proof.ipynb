{
 "cells": [
  {
   "cell_type": "markdown",
   "metadata": {},
   "source": [
    "Proof of <a class=\"ProveItLink\" href=\"../../../../../_theory_nbs_/theory.ipynb\">proveit</a>.<a class=\"ProveItLink\" href=\"../../../../_theory_nbs_/theory.ipynb\">numbers</a>.<a class=\"ProveItLink\" href=\"../../theory.ipynb\">multiplication</a>.<a class=\"ProveItLink\" href=\"../../theorems.ipynb#mult_int_nonzero_closure_bin\">mult_int_nonzero_closure_bin</a> theorem\n",
    "========"
   ]
  },
  {
   "cell_type": "code",
   "execution_count": 1,
   "metadata": {},
   "outputs": [],
   "source": [
    "import proveit\n",
    "theory = proveit.Theory() # the theorem's theory"
   ]
  },
  {
   "cell_type": "code",
   "execution_count": 2,
   "metadata": {},
   "outputs": [
    {
     "data": {
      "text/html": [
       "With these <a href=\"allowed_presumptions.txt\">allowed</a>/<a href=\"disallowed_presumptions.txt\">disallowed</a> theorem/theory presumptions (e.g., to avoid circular dependencies), we begin our proof of<br><strong id=\"mult_int_nonzero_closure_bin\">mult_int_nonzero_closure_bin:</strong> <a class=\"ProveItLink\" href=\"../../../__pv_it/theorems/c0bd3f442411f609721ab1b33983cbbf77346cef0/expr.ipynb\"><img src=\"data:image/png;base64,iVBORw0KGgoAAAANSUhEUgAAANUAAAAbCAMAAADcfDp1AAAARVBMVEX///8AAAAAAAAAAAAAAAAA\n",
       "AAAAAAAAAAAAAAAAAAAAAAAAAAAAAAAAAAAAAAAAAAAAAAAAAAAAAAAAAAAAAAAAAAAAAAAeYafp\n",
       "AAAAFnRSTlMAq1RmmUTNIjK7EInv3Xah18O17eXJ8+7nKwAAAAlwSFlzAAAOxAAADsQBlSsOGwAA\n",
       "A5pJREFUWMPdWIdy2zAMFUlwj27+/6cW4NK0pLSK71qe4zCOLBLAG6Cm6Z8fbvoPh5fl3Sf/nvWE\n",
       "fMMimpWl0jRJixP47PU4vCN1TNN7MPiWcartJ8NdjXTezPqfrCIL7nQmcgXeqvaJw4o2SfzmBq/2\n",
       "w1XIQdkYbcB7g6XxA3/EZEpUsawYacrmL4lH8R76bS9Y7GyILfyLDSTLCGiqvFZfqVGFkpZEEcGg\n",
       "tNJPRgV+C8SXQ3UCqnORBmiBeD4y0lJYosrlY0dz04v1MM9yyxZcIyD3TQq4FgYMpMZCCPz5yxYE\n",
       "zmpBuRGLBHn+ZFAVEwSLaz7lUaLg1oiLONTabsFMBYdlkUGfRMre/gIKWrRkqkdLlWJn+LWNxhmL\n",
       "i8JKlQ4AiYGYUVE7X4AuDO2vVBIZKCMxPGvNTK3pRXbpkz6SOcVSYhUoftYufUwyDGTEwtNJ7cFs\n",
       "4n5E1+0m+zIg6m3er+Iy7t9VToi5ssfahYI6G5J6BX7Tew7N/shpqRI68aT3Bai/Y2OrI4uZIB5s\n",
       "dKHKfGbh8ZaXqs5fNGS6ChWVyR9cYtRWFlmwHvA1tLbr8W4PsV0TuhTm8qmfCzTuUWbZ1zSPtSsv\n",
       "cCz3gIZeN3oGLFejInwepob1TZjErMVrI9bEu8Hi0r66sBOvRa16VMHO6y2jbpHKqu4yTBsn2hh2\n",
       "9x924q06m1bX4+4pmG5/bYIoMlwTljwAfPkK6OGaUBXNOQJdpgVEfuVWUAnHZ4TGoyybFo7Lp6ai\n",
       "m1V1wXFeJK/Hv1Gc3KaTgWmNv1arbe5Yy7VNLSpehZHvkkyZrazDsOcKpX2eUdJlXZPFG/6nQ8us\n",
       "Q4j1UMlz3JRgDQaheSkL1urbd6BaFfDuAJwalrpWU3Q8wsH5h2FAFrY+gLfkB6pesq8tP+uDRJhL\n",
       "OzotE5ZdN2qtXJTKpWkQvm8QNVDoVwkzLauOJW80S2ZPFuZHVxXl8nMrV2yVwaqADRI27vbMXGEr\n",
       "58TtxJa0wkuEKj2/pdx5FAtcsNjcucF1mYjmA31+3Jyd7KpjujmU2GoiOaVwbb+5nsTMnBjJTZEK\n",
       "d31872ASHzgRwxNnIbdz+kC0ksJVe0VaFfrObYcvvJDxTnvbgWxvH3CeOTWIXT8hQfDkSb/ptGyg\n",
       "CpG2XdgZQ3pYdasPYfzEeY67rEcOePHsLnzVGBGvPvjEaBwX9c0nCemRoE6fW8i/b3b5mx7QfQDF\n",
       "T/D2Lc8Dt4JTqvEbQCgbn4NHYV8AAAAASUVORK5CYII=\n",
       "\" style=\"display:inline;vertical-align:middle;\" /></a><br>(see <a class=\"ProveItLink\" href=\"../../../__pv_it/theorems/14c3a93a9e369a577b986e16b92bbfb8d5742d6b0/dependencies.ipynb\">dependencies</a>)<br>"
      ],
      "text/plain": [
       "<IPython.core.display.HTML object>"
      ]
     },
     "metadata": {},
     "output_type": "display_data"
    },
    {
     "name": "stdout",
     "output_type": "stream",
     "text": [
      "mult_int_nonzero_closure_bin may now be readily provable (assuming required theorems are usable).  Simply execute \"%qed\".\n"
     ]
    }
   ],
   "source": [
    "%proving mult_int_nonzero_closure_bin"
   ]
  },
  {
   "cell_type": "code",
   "execution_count": null,
   "metadata": {},
   "outputs": [],
   "source": []
  }
 ],
 "metadata": {
  "kernelspec": {
   "display_name": "Python 3",
   "language": "python",
   "name": "python3"
  }
 },
 "nbformat": 4,
 "nbformat_minor": 0
}