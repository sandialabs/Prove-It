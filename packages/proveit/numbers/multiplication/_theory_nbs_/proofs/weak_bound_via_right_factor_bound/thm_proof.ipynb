{
 "cells": [
  {
   "cell_type": "markdown",
   "metadata": {},
   "source": [
    "Proof of <a class=\"ProveItLink\" href=\"../../../../../_theory_nbs_/theory.ipynb\">proveit</a>.<a class=\"ProveItLink\" href=\"../../../../_theory_nbs_/theory.ipynb\">numbers</a>.<a class=\"ProveItLink\" href=\"../../theory.ipynb\">multiplication</a>.<a class=\"ProveItLink\" href=\"../../theorems.ipynb#weak_bound_via_right_factor_bound\">weak_bound_via_right_factor_bound</a> theorem\n",
    "========"
   ]
  },
  {
   "cell_type": "code",
   "execution_count": 1,
   "metadata": {},
   "outputs": [],
   "source": [
    "import proveit\n",
    "theory = proveit.Theory() # the theorem's theory"
   ]
  },
  {
   "cell_type": "code",
   "execution_count": 2,
   "metadata": {},
   "outputs": [
    {
     "data": {
      "text/html": [
       "With these <a href=\"allowed_presumptions.txt\">allowed</a>/<a href=\"disallowed_presumptions.txt\">disallowed</a> theorem/theory presumptions (e.g., to avoid circular dependencies), we begin our proof of<br><strong id=\"weak_bound_via_right_factor_bound\">weak_bound_via_right_factor_bound:</strong> <a class=\"ProveItLink\" href=\"../../../__pv_it/theorems/9151ce3bd7980622b76372ebfe3e87b021a6f0ea0/expr.ipynb\"><img src=\"data:image/png;base64,iVBORw0KGgoAAAANSUhEUgAAATwAAAAXBAMAAABkN+50AAAAMFBMVEX///8AAAAAAAAAAAAAAAAA\n",
       "AAAAAAAAAAAAAAAAAAAAAAAAAAAAAAAAAAAAAAAAAAAv3aB7AAAAD3RSTlMAq1RmmUTNIjK7EInv\n",
       "3XZ/CtNrAAAACXBIWXMAAA7EAAAOxAGVKw4bAAAEJ0lEQVRIx8VWXWgcVRg9s7OTnZ3dbFYUoS2E\n",
       "hRZEaGQpRWkf4kqq8YfUSFWolbpUoa1CmYAv0Rq2Tz4YTGyJIT7EqQSFpo1ji5X2ISxCSW2xBGyx\n",
       "EFImNlI0JQRLG8mDeO93787enR+osNIPztyZO2fmHr6/e4H/xVISIbNjyPf9g6bYbxIh2xtDDprh\n",
       "CeT5w8Ymq0u4AmHLFSPJYbsp8Cy/399keV9LRNi7iq79PjlsLQ7hCA/ycJPldUlE2Fb/Tr/q+OSw\n",
       "6SUCV5kpNFleVSLCsk4tzHNOnRxhlwg6S4aWZqdeWSAyaDL5Jm8o5Ch7W+Dn+fnLTZaXdAXQNz3g\n",
       "T1rL6z85zSJFtYiJX1RyA3GqCxYjfQfC88AX97Hif5HHPcRhzOBLp/6HBa+H5RM56/i+BnID0d0M\n",
       "fQV4EoQ+pPKxUZp751GP7tKN86PqkzlCQ2a61iFaCwIni+jxWU/haedh9imlmlaXFySahR5orFY3\n",
       "g5B2Mr2R2j5dNwLPzXwYlpcYb2ROHuXXTuyupX+vwMvAHH/+lnusgudo9RWivO8HVyFa9/gFV5Bl\n",
       "PhkCIeFFV0aSRR2ep0+F5OnHQs2Wz1xEm90o7ydYd8lBJZq+QttBNVAaKvEqMdYwVAHehEC5k7M7\n",
       "f+CvlrsX2RLGAjRq20xebkKRl1sc6EaOfLU3TxuOdWaJa9LHkVpDttAQXOsfSiJ/n1rFCeaN2UBj\n",
       "CRGTZdxmQ4fEadbIrV/NVf6Jva6F/XqqzRm0qFV7bv9NRd4tbXif+SPVobdmcj+csofIZfqMuYZW\n",
       "2TTSHsH6C1r5sVrhjmhVsOTUhwNtOUhEOo/P2LBN4jDzQrJEi+kYN9nwQQf+MGgp74VzUOQV014F\n",
       "j5/nG81Xszm+0A4M0uLnepm8rCgjah4c4+golWr5+vdE1SjIPiKnDtTIKhHJvHGHDS9JaBWeADlR\n",
       "vqt03YB2/eDY2FEW3O8Lau5Rdu3m+jRX42IuYIGLfabCg9smg2vOChxf+ri9UvPeTm/TFh7LYB0G\n",
       "ibA2LHIV1ySotuz0du5qs0qHrGu4aLoi9147r8obpAPbkW6+TJb90FrFsRNIPVRpKA1cl4iwj0Iz\n",
       "YWKGVXpqVkCUjz20y5nE4Uw5iUn2hbEiejVrLEpppKpnQTHoW4/WyluwXMyYd7dbj5CsZbyi7vtb\n",
       "408LcYcEYWdxkidBUUBUVdcTZzBYSP4+/ScbsGlbGf3MI8ah96wd5br3du5ZduShN9H1OViVvLpl\n",
       "qWg5si2/6Ge3LRBxChaVcWqe23WfrNoNlltAv4RiMnUKlp0usmwfG6m/SgfX+Qas1yVidhte9lbk\n",
       "KS1CdJC4cZGn56iE0pgcOWje66HfBifaDebVN+J2wwGJkN2KIYcavS2g7ga1weh04+WZY8xGsWuJ\n",
       "Nxp15kFa6sEs+y83kipPW0LzXwAAAABJRU5ErkJggg==\n",
       "\" style=\"display:inline;vertical-align:middle;\" /></a><br>(see <a class=\"ProveItLink\" href=\"../../../__pv_it/theorems/3eb03eb503c9f27bf1f555791f665b48ef51a8a60/dependencies.ipynb\">dependencies</a>)<br>"
      ],
      "text/plain": [
       "<IPython.core.display.HTML object>"
      ]
     },
     "metadata": {},
     "output_type": "display_data"
    }
   ],
   "source": [
    "%proving weak_bound_via_right_factor_bound"
   ]
  },
  {
   "cell_type": "code",
   "execution_count": null,
   "metadata": {},
   "outputs": [],
   "source": []
  }
 ],
 "metadata": {
  "kernelspec": {
   "display_name": "Python 3",
   "language": "python",
   "name": "python3"
  }
 },
 "nbformat": 4,
 "nbformat_minor": 0
}