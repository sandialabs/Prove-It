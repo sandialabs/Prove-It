{
 "cells": [
  {
   "cell_type": "markdown",
   "metadata": {},
   "source": [
    "Proof of <a class=\"ProveItLink\" href=\"../../../../../_theory_nbs_/theory.ipynb\">proveit</a>.<a class=\"ProveItLink\" href=\"../../../../_theory_nbs_/theory.ipynb\">numbers</a>.<a class=\"ProveItLink\" href=\"../../theory.ipynb\">multiplication</a>.<a class=\"ProveItLink\" href=\"../../theorems.ipynb#mult_rational_neg_from_left_neg\">mult_rational_neg_from_left_neg</a> theorem\n",
    "========"
   ]
  },
  {
   "cell_type": "code",
   "execution_count": 1,
   "metadata": {},
   "outputs": [],
   "source": [
    "import proveit\n",
    "theory = proveit.Theory() # the theorem's theory"
   ]
  },
  {
   "cell_type": "code",
   "execution_count": 2,
   "metadata": {},
   "outputs": [
    {
     "data": {
      "text/html": [
       "With these <a href=\"allowed_presumptions.txt\">allowed</a>/<a href=\"disallowed_presumptions.txt\">disallowed</a> theorem/theory presumptions (e.g., to avoid circular dependencies), we begin our proof of<br><strong id=\"mult_rational_neg_from_left_neg\">mult_rational_neg_from_left_neg:</strong> <a class=\"ProveItLink\" href=\"../../../__pv_it/theorems/868b4533e9efa97f67790524cc57aebcefed74bd0/expr.ipynb\"><img src=\"data:image/png;base64,iVBORw0KGgoAAAANSUhEUgAAAO0AAAAZBAMAAAAvYLSzAAAAMFBMVEX///8AAAAAAAAAAAAAAAAA\n",
       "AAAAAAAAAAAAAAAAAAAAAAAAAAAAAAAAAAAAAAAAAAAv3aB7AAAAD3RSTlMAq1RmmUTNIjK7EInv\n",
       "3XZ/CtNrAAAACXBIWXMAAA7EAAAOxAGVKw4bAAADsElEQVRIx61Wa0gUURQ+uTvu7IxNZk8LRPKH\n",
       "f3osZvYktNYoolrYP1FBRlEkEWtEJJXauwh2lzJqhGokCKLASQOTKKQ/vTD60VsW1qxfpYgUhkF0\n",
       "zt2dO49dKEYv3Ltnzt57zz3f+c65F2AMbZG7ZV4YW8updLfOFx+b3Vtskyz7/mvhyrHZvUTD50y9\n",
       "kHRqpC61OWJ+TtQA8kkocQVXN2Gt25W3e3Dod07tewbHZpufChqtJmGPK3roBtbWtgt7rmbXycsD\n",
       "IFTH4byKDf2WRgGOuw70pBAOq53aYeweB+Eu5OIQt0R1Z+pscrEbuzHyqtsZ21EaX6TxvJZ4R78t\n",
       "rTg8yDVnrcOzBdC2K1oNUHhrHEr5ddofOsP+FN5SPIrjHG8Tn/Ude08i8dKV3elGjOseN3BlblEf\n",
       "gnePyYfSYRb1MI5hj4nqdvxnLeLw/8ZkU1TJDKIlPIUbnEhttdIIQAVY2Soky3CM5gTMEKHrdeDL\n",
       "d1XjdlAmog93A7CBKxdo8ApgLpONGPh0ytOwEuKzGlH0a3LIuvOd5smWFD8T56lfNcNu9w32PFy6\n",
       "CaCXuUp21gD8Rn8YvBjBxEeS0vE1s6sNl+UkOa3EPjXkewhymbn5BApgtPAyHNGhozjDX7L7HKSf\n",
       "rApR9vSCgJm0LUUnY2ZLnYPPjUSxGp5YQfyUD4C0MHIwGAwyFPJQ5UUKQGcx3FwsBzcEqx04S3/A\n",
       "M2RJXy9m0jwmvzaUW1n+WryJEaLttYTuyk5QKPDnSgGSZoGNDc5iZU88EQFFsflbiN2fBGkYJtSU\n",
       "GspfFG5YyuRBTgqqV9MsxYn4DEeRVtJ7cQRuk2pZwGZ3QPvC8PLcBKddSkIZ116HeZW8QE2BZhzX\n",
       "p3KKJ849rM9TLRxawUJIUFaK3UBZxmwmdcudUyEQDGRTkW126dAiYtn67WwRLwmt92n22xQVC7cY\n",
       "jN60+0eTxW6VIeSF8I6owKpdvNmO8zOo8uxV1YtCGmdL/hKn4EPWmyodWaErVSfJN9udu5MTO+Jf\n",
       "pl1ghYHxis8Ygici857xKvM+Ks+a5IEMVZFScNq8jkf52SOxsObXWC6BbFzHkg6fPPFUOYvmQ7t9\n",
       "O5HuBH8ki936LG+iwn2X+IeHFyph9fwO8F1ldePNDiMU4hM4haSsp2/p0ZqZjr0KbElqaVf+UfQm\n",
       "Og57R1UxZp0nzVMar5TLGIDDgWzvq4bMbZWIq/eVt2SjUTi3WPWryr86sNPH9z0ZXWJINg/F/qZx\n",
       "ej8jj/4C+cDkRldETJcAAAAASUVORK5CYII=\n",
       "\" style=\"display:inline;vertical-align:middle;\" /></a><br>(see <a class=\"ProveItLink\" href=\"../../../__pv_it/theorems/f0c5ee1c5f368523b2c883dd2e1a1c869df695c80/dependencies.ipynb\">dependencies</a>)<br>"
      ],
      "text/plain": [
       "<IPython.core.display.HTML object>"
      ]
     },
     "metadata": {},
     "output_type": "display_data"
    },
    {
     "name": "stdout",
     "output_type": "stream",
     "text": [
      "mult_rational_neg_from_left_neg may now be readily provable (assuming required theorems are usable).  Simply execute \"%qed\".\n"
     ]
    }
   ],
   "source": [
    "%proving mult_rational_neg_from_left_neg"
   ]
  },
  {
   "cell_type": "code",
   "execution_count": null,
   "metadata": {},
   "outputs": [],
   "source": []
  }
 ],
 "metadata": {
  "kernelspec": {
   "display_name": "Python 3",
   "language": "python",
   "name": "python3"
  }
 },
 "nbformat": 4,
 "nbformat_minor": 0
}