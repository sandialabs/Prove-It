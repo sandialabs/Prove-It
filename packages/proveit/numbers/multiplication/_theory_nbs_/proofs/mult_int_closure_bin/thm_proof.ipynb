{
 "cells": [
  {
   "cell_type": "markdown",
   "metadata": {},
   "source": [
    "Proof of <a class=\"ProveItLink\" href=\"../../../../../_theory_nbs_/theory.ipynb\">proveit</a>.<a class=\"ProveItLink\" href=\"../../../../_theory_nbs_/theory.ipynb\">numbers</a>.<a class=\"ProveItLink\" href=\"../../theory.ipynb\">multiplication</a>.<a class=\"ProveItLink\" href=\"../../theorems.ipynb#mult_int_closure_bin\">mult_int_closure_bin</a> theorem\n",
    "========"
   ]
  },
  {
   "cell_type": "code",
   "execution_count": 1,
   "metadata": {},
   "outputs": [],
   "source": [
    "import proveit\n",
    "theory = proveit.Theory() # the theorem's theory"
   ]
  },
  {
   "cell_type": "code",
   "execution_count": 2,
   "metadata": {},
   "outputs": [
    {
     "data": {
      "text/html": [
       "With these <a href=\"allowed_presumptions.txt\">allowed</a>/<a href=\"disallowed_presumptions.txt\">disallowed</a> theorem/theory presumptions (e.g., to avoid circular dependencies), we begin our proof of<br><strong id=\"mult_int_closure_bin\">mult_int_closure_bin:</strong> <a class=\"ProveItLink\" href=\"../../../__pv_it/theorems/9eeae2d464b9d169dcd94b8265b407c3cb28791a0/expr.ipynb\"><img src=\"data:image/png;base64,iVBORw0KGgoAAAANSUhEUgAAAKkAAAAWBAMAAABJZ6G8AAAAMFBMVEX///8AAAAAAAAAAAAAAAAA\n",
       "AAAAAAAAAAAAAAAAAAAAAAAAAAAAAAAAAAAAAAAAAAAv3aB7AAAAD3RSTlMAq1RmmUTNIjK7EInv\n",
       "3XZ/CtNrAAAACXBIWXMAAA7EAAAOxAGVKw4bAAAC20lEQVQ4y61VTWgTURD+0s2mySaNEQ+tiCUg\n",
       "+ANWI5RCPZRAVQRRA72JSEBBLCKpglDQkorgQaE5iLqt1e1FiJE2akHsQQRBrVLtRW0tgUQPIgUp\n",
       "BamoFGf2vd1m86cHB7598ybvzZv3zcwL8Hepl6hgriQJ/JN8kigRNV9i2Pj2+fDsMxwhNcTzDbWc\n",
       "1mUFiiU9RZ/PJQu/NsGDOIIRYDfPj9fyekfCIccIHsNp20UH+cNAN9DPDKVqee2UcMgiQYk6bY3Q\n",
       "UmkaW8WBfEB1eSrh4PQnf1+JSXA4955HA+5kE40BAwqx4KlJa1zAIf5p/h4VJ5yymej3cvgecjmV\n",
       "y72u5dWdFUDPkz7b6Gku0P3um/rZFXoHfaz7qQL20qSWVz6Zob7AbXv/WLe2BLTBmeq6bAcPCt2s\n",
       "B/Uhy+w9IRXX5PiQzEVDWOBeBPvt/dsNvAG2mvoKOx6h11EWfIY/ZtvXseuCHmtI+EdlYIGYwEFg\n",
       "zgyTd+4BfgEDZiREYW5WtAt50siyQJ7zRcl6yWWXpEvgwhk4vU5C+27GzneYg0q1dZjnml2WWqqX\n",
       "bpmAyhUTZzIyHY/43OWCwa1BErWKUTKgLUNZKCpXN9VWi6lPW0ZXspGuQnGy5QH1gvbBu8SV9zEY\n",
       "TZsrlNNJudaXN6EtwhXfZDn4wTSj3dS/WcaLKkWynvZy9OcoWe6ol8P2RZR4l7li1G+XZkjgFlrs\n",
       "+LEGV+m7T+TI6qFB6qjeLbIOXUkmLsiFEEi6Q226roeRncBdWRfTAiPzl5qt+DEyzjy9E3SuPSS6\n",
       "YfKkfvP3EPFlZX8s4dtJOV+FQPiyuWJzBBPytxmJ8gdWMqo+Fh1ryXlLCSQGuowMGox2iPZwQ7Wy\n",
       "0CpR3nWR6s+ROK5z20NcCXsP5FF/g+Y7Vs9fs3rDlxAok94qfx0lL6CgPaPrsWIrF6RW6a28Xtlr\n",
       "SQSqUXlZn0SJBKv8QX1xThX8L/kDUEyrLCrKq78AAAAASUVORK5CYII=\n",
       "\" style=\"display:inline;vertical-align:middle;\" /></a><br>(see <a class=\"ProveItLink\" href=\"../../../__pv_it/theorems/3f4e5b043071cdf87d36a7a74dc03869149aa50e0/dependencies.ipynb\">dependencies</a>)<br>"
      ],
      "text/plain": [
       "<IPython.core.display.HTML object>"
      ]
     },
     "metadata": {},
     "output_type": "display_data"
    },
    {
     "name": "stdout",
     "output_type": "stream",
     "text": [
      "mult_int_closure_bin may now be readily provable (assuming required theorems are usable).  Simply execute \"%qed\".\n"
     ]
    }
   ],
   "source": [
    "%proving mult_int_closure_bin"
   ]
  },
  {
   "cell_type": "code",
   "execution_count": null,
   "metadata": {},
   "outputs": [],
   "source": []
  }
 ],
 "metadata": {
  "kernelspec": {
   "display_name": "Python 3",
   "language": "python",
   "name": "python3"
  }
 },
 "nbformat": 4,
 "nbformat_minor": 0
}