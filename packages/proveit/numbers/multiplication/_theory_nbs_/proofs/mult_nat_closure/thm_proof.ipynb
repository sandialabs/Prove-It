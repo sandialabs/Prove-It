{
 "cells": [
  {
   "cell_type": "markdown",
   "metadata": {},
   "source": [
    "Proof of <a class=\"ProveItLink\" href=\"../../../../../_theory_nbs_/theory.ipynb\">proveit</a>.<a class=\"ProveItLink\" href=\"../../../../_theory_nbs_/theory.ipynb\">numbers</a>.<a class=\"ProveItLink\" href=\"../../theory.ipynb\">multiplication</a>.<a class=\"ProveItLink\" href=\"../../theorems.ipynb#mult_nat_closure\">mult_nat_closure</a> theorem\n",
    "========"
   ]
  },
  {
   "cell_type": "code",
   "execution_count": 1,
   "metadata": {},
   "outputs": [],
   "source": [
    "import proveit\n",
    "theory = proveit.Theory() # the theorem's theory"
   ]
  },
  {
   "cell_type": "code",
   "execution_count": 2,
   "metadata": {},
   "outputs": [
    {
     "data": {
      "text/html": [
       "With these <a href=\"allowed_presumptions.txt\">allowed</a>/<a href=\"disallowed_presumptions.txt\">disallowed</a> theorem/theory presumptions (e.g., to avoid circular dependencies), we begin our proof of<br><strong id=\"mult_nat_closure\">mult_nat_closure:</strong> <a class=\"ProveItLink\" href=\"../../../__pv_it/theorems/24d8ee182a04d9bb3467430956476a61290f96f70/expr.ipynb\"><img src=\"data:image/png;base64,iVBORw0KGgoAAAANSUhEUgAAAY0AAAAWBAMAAADOX93WAAAAMFBMVEX///8AAAAAAAAAAAAAAAAA\n",
       "AAAAAAAAAAAAAAAAAAAAAAAAAAAAAAAAAAAAAAAAAAAv3aB7AAAAD3RSTlMAq1RmmUTNIjK7EInv\n",
       "3XZ/CtNrAAAACXBIWXMAAA7EAAAOxAGVKw4bAAAEhklEQVRYw81XXWgcVRQ+uzu787M/Lj64WjGs\n",
       "iBopXRZNQYLEgbTQF3Gl4kMbyuCL6NPkpZBi01WK+hDapRIxBXViQdC1Zm2of6hEi0QRcR+CltqB\n",
       "7Q+2NVIWIRZrNZ5z752du7OdLGHy4IEzc+bMnTP3u+fnnguwBuXcKkQmVXBUssP1/eaZrmzA/88L\n",
       "jkp7As/H/3rNgc9vVPbwieZJd08Yjhjd4uUIv483OEemXHAWR5J5MNpMjzi2k+qZMBwKeSRlR/j9\n",
       "O4Kj03OB57vseYAFpkccL1D41sJwaOSuiSh/HxUcnYYCz7fWcIGbTI84Ug7eiqH5QYtwIsrfFwRH\n",
       "p4zD71dc16J7YUS1CAfqcaIJDK9UeJ4/hDcrSnpYnDeAUjxBnvpNPBdi1WXCgXoqSD+47vfhODKu\n",
       "ezZKlioNzjD+5WSgHt95qdW/aEuD0qwkqZ00KUBNrzSZnnDsADgajkOpgu5EXETi5CK81W1nzNav\n",
       "9/1cHpRgbvWLTgEOGmeaTE84xkHNyyuwdBIeyXdw4Lvxde98kolskfP7ZXgM4JgfYcYpUJpQ/3DT\n",
       "Wpb4IC9EWZr5OVCARPGBBaYnHLrjb3eH7piGu9OO4vj74FE4uS4QAROZCufHAX4B7SqblPEnBVwb\n",
       "sg0wCR3AXG8GSYMEaW26TrlINY4DNsUWmJ4mGm91ICo7aE9smWlpPy+tL82DJjwc34Gxgv/ii7tE\n",
       "L2owV4EVOEAtRdbsteQPEpRk/nhX8gfMGk2mZ56wRjDGRg9dBLhArwfvnZRxpBKYaMb8sheWkuhT\n",
       "feRjIQVNiLgy/oVEu4ODuaAFjwIMcxxhxAcNPXyVcPKPszIOrVVjeobjBFaAY2PljG0wdw2m394t\n",
       "4UjfhxFy3D7sTV4S/Rj4WbsmpKAJvcXY+ANi1v1dOIpwWxwtfbGWd9mgfVtPwSLlObOd69Sv15Ev\n",
       "15ie4XgeU3Lfr3CLk2QFehDMKxIO9SsUtsEUbuss5ElMlrZ3B5Opia2u10Se85uwxTRlHHorvqTg\n",
       "ip7xJ22JC0sNf5D6gQXXRQlHetp7SYJiMT3DESPPDsAYJJ6dmTmCk6in5H73duRv4BxoWxgOEjMw\n",
       "173TVnKiPPWY0JqcZ5dfHqjKOIyBT8Yve4vDQ9D0Lkvdg2ItlhpZnimz0/yTl26gLwyL6f1K9S1s\n",
       "07QGX8xkKdC3G9fg1fcg63iiSu6R3W/rw87Qzs045aAJOC2Yl85msESbav8mNFNVTFzr/eJx9xtu\n",
       "V+nZLx0w1DacHuT74VbAFQ+cPxa1lWHCYTS4CNMk1vmlDhn78E6nVKMUDJpg3d1QKI6JVw7232UP\n",
       "QPbFani3OSpNFFv55TJM4GjtJxtiQRxPPohvEYf2NRdxl0dxytYW8TJVTI6W5jE899LEAiZAtzmz\n",
       "1fro70Ar8uPqav9a/gTk5sObctIHDnzGpzPT4edBiqs4Fz/LdUQk3i1n4cKuXhOsghm1DWgTdTtc\n",
       "3+fgmpbPvdrv2L/v4k3T6j+eSL7kkTELm296bpwUHJUuhetzZ9d7AC/fREzA/4D+A67UUknlI8fN\n",
       "AAAAAElFTkSuQmCC\n",
       "\" style=\"display:inline;vertical-align:middle;\" /></a><br>(see <a class=\"ProveItLink\" href=\"../../../__pv_it/theorems/ee1666252a0705cf245b470a766f58b181669f9f0/dependencies.ipynb\">dependencies</a>)<br>"
      ],
      "text/plain": [
       "<IPython.core.display.HTML object>"
      ]
     },
     "metadata": {},
     "output_type": "display_data"
    }
   ],
   "source": [
    "%proving mult_nat_closure"
   ]
  },
  {
   "cell_type": "code",
   "execution_count": null,
   "metadata": {},
   "outputs": [],
   "source": []
  }
 ],
 "metadata": {
  "kernelspec": {
   "display_name": "Python 3",
   "language": "python",
   "name": "python3"
  }
 },
 "nbformat": 4,
 "nbformat_minor": 0
}