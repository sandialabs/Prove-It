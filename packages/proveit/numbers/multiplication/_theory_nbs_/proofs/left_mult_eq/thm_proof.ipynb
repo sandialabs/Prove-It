{
 "cells": [
  {
   "cell_type": "markdown",
   "metadata": {},
   "source": [
    "Proof of <a class=\"ProveItLink\" href=\"../../../../../_theory_nbs_/theory.ipynb\">proveit</a>.<a class=\"ProveItLink\" href=\"../../../../_theory_nbs_/theory.ipynb\">numbers</a>.<a class=\"ProveItLink\" href=\"../../theory.ipynb\">multiplication</a>.<a class=\"ProveItLink\" href=\"../../theorems.ipynb#left_mult_eq\">left_mult_eq</a> theorem\n",
    "========"
   ]
  },
  {
   "cell_type": "code",
   "execution_count": 1,
   "metadata": {},
   "outputs": [],
   "source": [
    "import proveit\n",
    "theory = proveit.Theory() # the theorem's theory"
   ]
  },
  {
   "cell_type": "code",
   "execution_count": 2,
   "metadata": {},
   "outputs": [
    {
     "data": {
      "text/html": [
       "With these <a href=\"allowed_presumptions.txt\">allowed</a>/<a href=\"disallowed_presumptions.txt\">disallowed</a> theorem/theory presumptions (e.g., to avoid circular dependencies), we begin our proof of<br><strong id=\"left_mult_eq\">left_mult_eq:</strong> <a class=\"ProveItLink\" href=\"../../../__pv_it/theorems/f5febcefec18d1f7d40c5e484021c633b53c794e0/expr.ipynb\"><img src=\"data:image/png;base64,iVBORw0KGgoAAAANSUhEUgAAARkAAAAXBAMAAADNQybgAAAAMFBMVEX///8AAAAAAAAAAAAAAAAA\n",
       "AAAAAAAAAAAAAAAAAAAAAAAAAAAAAAAAAAAAAAAAAAAv3aB7AAAAD3RSTlMAq1RmmUTNIjK7EInv\n",
       "3XZ/CtNrAAAACXBIWXMAAA7EAAAOxAGVKw4bAAADQklEQVRIx71WTWgTQRR+2Wya7ObHnIRSCQHF\n",
       "HrSagxRaIUbqLwoGC+Kh2EAPUk/bo1KlCoJopS0UNAplix4sgSZVUUEoRRFEUYq06KWwxUrVQ+nJ\n",
       "Sk++mTdrsruTthjpB18mm/ft7peZ994MwP+AIehGsJp4ow/4F8SSRA8CllzswTnBOLvYXpubXYJe\n",
       "fJWLvRZTxMPs4nxNZvQcUYI6UyaW4ALxKlvewZrcqCmiBP6MTCzBPiJzH07W5CYiKMM7mVj2DJPT\n",
       "j17rakubnYIydMnEsiVNET/Mzb2vzc0JwWDDYrmGxucfvcQpn5CJK4X6QgpGcXnixGMA9zbwykz1\n",
       "UJdgh6GtlvWxhDoN0MxzZY4jDhJhWJmCA5hgOWIPBONrtJLhxBX+ZY1E/0TUXwN7v0hfw7/qw5nf\n",
       "LRE7hNfwaz0AeuLUzHBW+pLQfD6rDxnK/fXcvCGqyxAtsbn/xW4GlZfygETsEJoRCz6ifpmoWFWS\n",
       "+FAfzuM4wP4NuokMQpH/rxmqEp4aHRKxU9hphn5j154iQi6NH4X0cxZaOrqA20VgHny8NcKD6/Zm\n",
       "Q24ozps+0zhWqmixBPiLTkPHqm1y541HeARibJWmifAYe6D+ObTCssSor8NCGN9i9sMYkzY22jdx\n",
       "Nzx+PI9IcQ1hhFhMwlbF3vrGstsgjGOLe27cQhgCDW36B4nQixdqJsSmyQ8jIRwuNcEPaGfS1laH\n",
       "GxEHW0OYIGqWMqPa8r03T8JpUdAOuIVwEDpZLy8RwYf5EcnGqLBW+GcDJKAZZyB546zDjR23NYTb\n",
       "RD3xoue7HX24pLSxDj/rduMWwujkKZynaJbIUTS0VrbBhaZ4lszCW7jFuwFmsV7hhsVppbiGEO0j\n",
       "yg440+5fJMJnyMuCVADGQLtZgN5wToUCwJfAMlY+e9pTAybLbnhcgGnKW6M/U3VDXXsfDef0Vzi0\n",
       "CVKFtO15Av1J9dvkTxxgR0sOgndZoNA93Fd2w+MCTCNwR9CLi96fXMKo5SvRKcJ9khBbeVI3NPxP\n",
       "hXy+oi26+w1pRAEJrvtq8AqVNDthaQax8txoisFnnfE8xO2mUhO0iN59RXLWlQoXBSuX1B4C6dK6\n",
       "bmSazYOxGS/5Azhi8iMDTq4EAAAAAElFTkSuQmCC\n",
       "\" style=\"display:inline;vertical-align:middle;\" /></a><br>(see <a class=\"ProveItLink\" href=\"../../../__pv_it/theorems/ad09335acd06911b509090dee4063b8e6514fb0c0/dependencies.ipynb\">dependencies</a>)<br>"
      ],
      "text/plain": [
       "<IPython.core.display.HTML object>"
      ]
     },
     "metadata": {},
     "output_type": "display_data"
    }
   ],
   "source": [
    "%proving left_mult_eq"
   ]
  },
  {
   "cell_type": "code",
   "execution_count": null,
   "metadata": {},
   "outputs": [],
   "source": []
  }
 ],
 "metadata": {
  "kernelspec": {
   "display_name": "Python 3",
   "language": "python",
   "name": "python3"
  }
 },
 "nbformat": 4,
 "nbformat_minor": 0
}