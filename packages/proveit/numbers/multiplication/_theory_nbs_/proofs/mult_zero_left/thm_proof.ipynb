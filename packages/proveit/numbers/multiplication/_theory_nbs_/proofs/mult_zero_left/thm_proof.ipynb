{
 "cells": [
  {
   "cell_type": "markdown",
   "metadata": {},
   "source": [
    "Proof of <a class=\"ProveItLink\" href=\"../../../../../_theory_nbs_/theory.ipynb\">proveit</a>.<a class=\"ProveItLink\" href=\"../../../../_theory_nbs_/theory.ipynb\">numbers</a>.<a class=\"ProveItLink\" href=\"../../theory.ipynb\">multiplication</a>.<a class=\"ProveItLink\" href=\"../../theorems.ipynb#mult_zero_left\">mult_zero_left</a> theorem\n",
    "========"
   ]
  },
  {
   "cell_type": "code",
   "execution_count": 1,
   "metadata": {},
   "outputs": [],
   "source": [
    "import proveit\n",
    "theory = proveit.Theory() # the theorem's theory"
   ]
  },
  {
   "cell_type": "code",
   "execution_count": 2,
   "metadata": {},
   "outputs": [
    {
     "data": {
      "text/html": [
       "With these <a href=\"allowed_presumptions.txt\">allowed</a>/<a href=\"disallowed_presumptions.txt\">disallowed</a> theorem/theory presumptions (e.g., to avoid circular dependencies), we begin our proof of<br><strong id=\"mult_zero_left\">mult_zero_left:</strong> <a class=\"ProveItLink\" href=\"../../../__pv_it/theorems/04e2387b6ddb40ae7fbb49f90af34a0a3d40b38a0/expr.ipynb\"><img src=\"data:image/png;base64,iVBORw0KGgoAAAANSUhEUgAAAJ8AAAAVBAMAAACqHiFtAAAAMFBMVEX///8AAAAAAAAAAAAAAAAA\n",
       "AAAAAAAAAAAAAAAAAAAAAAAAAAAAAAAAAAAAAAAAAAAv3aB7AAAAD3RSTlMAq1RmmUTNIjK7EInv\n",
       "3XZ/CtNrAAAACXBIWXMAAA7EAAAOxAGVKw4bAAACVUlEQVQ4y42VTWgTQRTH/93dZDeJjQEv6kEW\n",
       "FHvw0CCiUL8CflQolYAXTxr0IHpa71XXgyAUsYWKrkJZsJdaNbF4ESHsRRBEqb14CmygIngookLF\n",
       "gnTezGTjzm6iD/7LzG9e3sx7b3YD9DVHKo3/P+5a0RZK2Ll0f8IlGuzsEXCPUKE5qu5UTvi+XnE4\n",
       "PkGTS+nx8jWhC3imJnNF9c3a+U8c32QTcyo9oFHm0pdQUD32qb6HgVccZ32Wkp0ecJNQrgTtt7rk\n",
       "K2AaGPYJ6+wU2R4l3C20uQLru5qhWsSfwF2b4/et1rseAceE6izgj6iuq9snF1lSJaXcFLDM8Sng\n",
       "YY+AF4VuNGD9ieqKdjgO6DWajLfIPlIb1lnAkOOrMGO7FWd2XJfDZSEKuN5ZPoCj/hZAC+J784AN\n",
       "jnN+oSqp1faq+WlHeyTnb4TqDWTohHU6lYuT3PWbkjILeD7kWAujnhx3WXGeAwfjAVlTNGrKYIXT\n",
       "D/TIBMmmDNsC146wx+roisOv/+Nb7PzxlHNT0LvXJrOGJ+wYS/EawgOrhcCL7HoXnW1Ze54Whoa6\n",
       "u84K6QGMWie1ewMBGoypN/0QqBYcT7Ce6Ji1cIYWRka6Ti+klvHUlUj7NRdk2HtgNJSAg3b+rcQD\n",
       "3HkN2O95nn37bNfpjtRcc2tU/NPhrr30+6r63o+13b+xFZiYpAE1Jd/Z1RVKsWvojycKNYNdILpQ\n",
       "Lx00JdUrQil2DP2x8bn5FeYDGi5cnokOdV8qYT2+Type8Lx4aealEpZL/9jn/vUfYIZCCfuS7s/w\n",
       "BlnvnGexN9kBAAAAAElFTkSuQmCC\n",
       "\" style=\"display:inline;vertical-align:middle;\" /></a><br>(see <a class=\"ProveItLink\" href=\"../../../__pv_it/theorems/f6b01ce5b1867d7e35ffe0de848629babd245bfa0/dependencies.ipynb\">dependencies</a>)<br>"
      ],
      "text/plain": [
       "<IPython.core.display.HTML object>"
      ]
     },
     "metadata": {},
     "output_type": "display_data"
    },
    {
     "name": "stdout",
     "output_type": "stream",
     "text": [
      "mult_zero_left may now be readily provable (assuming required theorems are usable).  Simply execute \"%qed\".\n"
     ]
    }
   ],
   "source": [
    "%proving mult_zero_left"
   ]
  },
  {
   "cell_type": "code",
   "execution_count": null,
   "metadata": {},
   "outputs": [],
   "source": []
  }
 ],
 "metadata": {
  "kernelspec": {
   "display_name": "Python 3",
   "language": "python",
   "name": "python3"
  }
 },
 "nbformat": 4,
 "nbformat_minor": 0
}