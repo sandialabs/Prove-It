{
 "cells": [
  {
   "cell_type": "markdown",
   "metadata": {},
   "source": [
    "Proof of <a class=\"ProveItLink\" href=\"../../../../../_theory_nbs_/theory.ipynb\">proveit</a>.<a class=\"ProveItLink\" href=\"../../../../_theory_nbs_/theory.ipynb\">numbers</a>.<a class=\"ProveItLink\" href=\"../../theory.ipynb\">multiplication</a>.<a class=\"ProveItLink\" href=\"../../theorems.ipynb#mult_nat_pos_closure_bin\">mult_nat_pos_closure_bin</a> theorem\n",
    "========"
   ]
  },
  {
   "cell_type": "code",
   "execution_count": 1,
   "metadata": {},
   "outputs": [],
   "source": [
    "import proveit\n",
    "theory = proveit.Theory() # the theorem's theory"
   ]
  },
  {
   "cell_type": "code",
   "execution_count": 2,
   "metadata": {},
   "outputs": [
    {
     "data": {
      "text/html": [
       "With these <a href=\"allowed_presumptions.txt\">allowed</a>/<a href=\"disallowed_presumptions.txt\">disallowed</a> theorem/theory presumptions (e.g., to avoid circular dependencies), we begin our proof of<br><strong id=\"mult_nat_pos_closure_bin\">mult_nat_pos_closure_bin:</strong> <a class=\"ProveItLink\" href=\"../../../__pv_it/theorems/95d7527ffb92844bca71b90be3c406640075d8fd0/expr.ipynb\"><img src=\"data:image/png;base64,iVBORw0KGgoAAAANSUhEUgAAAMcAAAAZBAMAAAB3HyeqAAAAMFBMVEX///8AAAAAAAAAAAAAAAAA\n",
       "AAAAAAAAAAAAAAAAAAAAAAAAAAAAAAAAAAAAAAAAAAAv3aB7AAAAD3RSTlMAq1RmmUTNIjK7EInv\n",
       "3XZ/CtNrAAAACXBIWXMAAA7EAAAOxAGVKw4bAAADQklEQVRIx61WS2gTYRCeTTZNsptug4JYlBIQ\n",
       "EcFqEC1UpET6QC3VaA+CCEYqFHvQFaEgaI1eRHw0oKIrPrYXodTS9QFiD1IPolWqPahVS3CrRx9I\n",
       "QSoVijP/Zp9p00Qc+H/mn+z837z/ABRN66FUSuDiS9LwJUoGyeAKZkrRuE1bMF8eLAwCdaWAXKTt\n",
       "c748oLvPwielA8TXT02QchUgSsyy+TGCQxQyzS3sHcHti+fLcGwHwIDliYQIjcS0zw/Ca2bInLQf\n",
       "V5nqlnFjYhwiwCvKsILuC9MAJ4tMTkUSt3qvdBKX31MR3Eo0utzyBNoMO8TY/CDdZO+QNx/TtL8w\n",
       "DtKN7DsGckTvdIJsQTviCFRE3r9TSlIeoTiaM5UAD+bCxsmLJc0B8g3XSDb7sgiQRWZeDj/usoRl\n",
       "VRMYhLuM7zRTw8lhuOwA2Ys/bAa4NtfNos0qdCd6HXgGt6xMD3QIUwA14CoeTg4l+vvNjsdAp9Ey\n",
       "CEbnLCmb3Uclj2bfiUOLJVyjwiuAVYxP2SCw1nfd1jyBJRNWxaR5Dh3IMcebk/4nLpA3uCL44XaA\n",
       "ceYEXdoE8AdNZaoY9uyHHAinLrU1B1DLpzvyvoQ+n1CSvuggbM3zhECGQfjFGpliMQ4BLOI9rNEz\n",
       "Dk+EaL/DkzT56Zguz3E1oNBXx4MmNrQ0NHrCJcyA/6ejTXgs4mrGjzpA4ELYUfx4hnsduPXVPSQn\n",
       "ZiZUKU7FemqXrrk8qaSBoYMwCVxqhSn8TSmCWsb/sMYKGimdsTWpuuAY5l0YC01RP32UEr1srqcH\n",
       "l7tBqNpF/PImVCesFl8Il3BvNsrZ7GjGNNmaG5l7iMwnQtTN4bg/1WqA8FLGBUL2hDAkPV9PV6VN\n",
       "Yc8DcvutMX0rdxvFc2jYPeU2mUwkScMSImk+WqMoSsyXFrSUq08o6fB+1vmcy0bgkTFWvNRmlZkc\n",
       "3oCmVkAkdtbwBHbq+VN43azNFC84KoRpy065u1XtwwemFvuGJmuSvQMOMsIpz3LL0cLzyG/dE6hf\n",
       "fR/OxULbdAhexfP59txzZtMCVzM46EphkHKPYUZ99ClKcq43vitfLsmFQTxvfEAt+G9Fg38h74Po\n",
       "/9//u1hZoOV/AXy+uyGCTM3cAAAAAElFTkSuQmCC\n",
       "\" style=\"display:inline;vertical-align:middle;\" /></a><br>(see <a class=\"ProveItLink\" href=\"../../../__pv_it/theorems/f719141527173326611d1383633f098b7d7ad1060/dependencies.ipynb\">dependencies</a>)<br>"
      ],
      "text/plain": [
       "<IPython.core.display.HTML object>"
      ]
     },
     "metadata": {},
     "output_type": "display_data"
    },
    {
     "name": "stdout",
     "output_type": "stream",
     "text": [
      "mult_nat_pos_closure_bin may now be readily provable (assuming required theorems are usable).  Simply execute \"%qed\".\n"
     ]
    }
   ],
   "source": [
    "%proving mult_nat_pos_closure_bin"
   ]
  },
  {
   "cell_type": "code",
   "execution_count": null,
   "metadata": {},
   "outputs": [],
   "source": []
  }
 ],
 "metadata": {
  "kernelspec": {
   "display_name": "Python 3",
   "language": "python",
   "name": "python3"
  }
 },
 "nbformat": 4,
 "nbformat_minor": 0
}