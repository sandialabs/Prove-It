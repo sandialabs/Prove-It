{
 "cells": [
  {
   "cell_type": "markdown",
   "metadata": {},
   "source": [
    "Proof of <a class=\"ProveItLink\" href=\"../../../../../_theory_nbs_/theory.ipynb\">proveit</a>.<a class=\"ProveItLink\" href=\"../../../../_theory_nbs_/theory.ipynb\">numbers</a>.<a class=\"ProveItLink\" href=\"../../theory.ipynb\">multiplication</a>.<a class=\"ProveItLink\" href=\"../../theorems.ipynb#mult_def_rev\">mult_def_rev</a> theorem\n",
    "========"
   ]
  },
  {
   "cell_type": "code",
   "execution_count": 1,
   "metadata": {},
   "outputs": [],
   "source": [
    "import proveit\n",
    "theory = proveit.Theory() # the theorem's theory"
   ]
  },
  {
   "cell_type": "code",
   "execution_count": 2,
   "metadata": {},
   "outputs": [
    {
     "data": {
      "text/html": [
       "With these <a href=\"allowed_presumptions.txt\">allowed</a>/<a href=\"disallowed_presumptions.txt\">disallowed</a> theorem/theory presumptions (e.g., to avoid circular dependencies), we begin our proof of<br><strong id=\"mult_def_rev\">mult_def_rev:</strong> <a class=\"ProveItLink\" href=\"../../../__pv_it/theorems/9d1e0de99dd38d5166acd66388b95095929924180/expr.ipynb\"><img src=\"data:image/png;base64,iVBORw0KGgoAAAANSUhEUgAAAg4AAAAZBAMAAACr2bsAAAAAMFBMVEX///8AAAAAAAAAAAAAAAAA\n",
       "AAAAAAAAAAAAAAAAAAAAAAAAAAAAAAAAAAAAAAAAAAAv3aB7AAAAD3RSTlMAq1RmmUTNIjK7EInv\n",
       "3XZ/CtNrAAAACXBIWXMAAA7EAAAOxAGVKw4bAAAF1klEQVRYw91Za2gcVRQ+Ozu7Mzv7yP6StmpY\n",
       "EdOAJl2yTdEoupCEFrS6Pn6IrXXRH1pBmfxMrem2+Cga21QbdCvE0YgYtybbpi0+MESDxFdxlShV\n",
       "u7CxsTFGQhCiEtF47mNmZ2dny46stPTCt3Nz58yZO98959xzbgCctcvzKlx0LZT/2ukjSbgoW+y8\n",
       "8iBx1LjZqlQrDarnn4cfOWrcPAUb04/YSW7jQB7C5HKlAx5c5CJEazBfIctQ83amfOhq+8AQZUAe\n",
       "OsnfDzrgQUzgxVuLaPkGR82bV7OOKBXs+GGOGOwmDtXngAeZWFB3LabbzmGxantTu7OSFpsb7rh1\n",
       "RKxgv+s5YpQ7f8RJfCD8Ha0FD+McFm8p2Ao3V9Jid+Mz60CgwsMBjSEGbmTK6yhOxmoULoUkw//A\n",
       "wwPWgYZKHhRlwG86mc9/7oiHQD5/uhbRTcwyQNdYjw0P0qWzBSc8mOWPWIVuRgxPv/m+Yfjb1jw2\n",
       "h+L+MAPysAngkCMexBT4NMdf7R6lF/mYZl0LzyS8opXzsFX1LTvhwSy/gfKcpy2sG0g8VC/mdIns\n",
       "gYLyB84qyYA8dIEUNichU8fhhnDp7nKwvsfEA4p3OV/9Xn71G7qDEYbDUdgMMJgs5UGZAJx15sia\n",
       "Knlg8rxdYxXCvNmtupdderj0JL4D6U982TgD8uDT/AldfN/qfrjCr4nG8sjT6YRyQBVeNudRh+C4\n",
       "IwqIVsNDixEhkGC4DeAHkBdyfA1Pn6RrKC5CMAtxQhHA5nz+i3z+q3LVxRtMnrf9VrmP8VNApK9W\n",
       "fic/yhIIaD7yIkOM8G+ESXETyakKcb/xfEcKV3AY4HozD83OwiTVeg4ePgWcFAi5UnsI9MFIApZg\n",
       "V6o6e2Dyuo/Y8IAiTPMUfcsiuHAmnnEGGvtvRKNp3zfD87DGq3ooDwsbZ1Saaw0+aUrZyVd43ahQ\n",
       "GZ3XcylT15S5GINn9IgdmunZaOKB+4XyD7gXy3kYKcBNAG1V88Dk11+7QHKHJmt8oPXkfapiGDqS\n",
       "UBfV6FsJCA9HMSEY3BoNqApNpxr9r20hQUFd7Y0MkYG1ay31hb8B1b2t7tc/3tQtNmOQaSWha9bV\n",
       "dz94DCf2FSiU33BSa8t5iMAlAmr4oMr4QOV3tE7AJP5xnVVoAGAocRkUDT2QhXVaFtw4OQLCw05k\n",
       "bMdZqNNYJtcI8TkS32FAZrlaW5uFB+lD4jEk8nVTfknX09xZ+uYOPTIyrfJDAFFfARf3Uc0UMQkG\n",
       "oCkeL+PBVxCmRHzue0s4JN49ktR/ijeovDSchGW+TZY03EjXPXML3GEMoJmddaeMvZvw4CKWV48+\n",
       "5d6eTj+PPGRYwMBtZUM6nY7svdtab66iHjcNcpMGvBuAEatHTvMNk2rdTeJ+HbGQBn2Xl3MMr84/\n",
       "XZ8q40Gpf6frZ51pkz0Q7w7G9R8TQVTeVSDeDt9YeXgO4PUFob2YN9+L721BJQkGo+7+BDpkOcvs\n",
       "wUNVy+MSPEvXDeOkYq27cfN94S0IanpXMjZG0313Z0sWmFbKSi8W+1Ixkz7FwT4/Z5dPSnFJdZJP\n",
       "BlJiPAVSzioUTNk//DiHzoO0CKcaWT7VSuacgZ3+pMjyJemYCmNl5w+T8lIb4UHJsi70k27G+CGD\n",
       "whzk9CytARk4gfugKZPWi5xSHkrqrO69T2hO6qxdENyTsqmqyiuv0lJP58EThvkodCNr8rcquKA3\n",
       "Iv409gtIL5Gbme0HU2U83NWCDyAP8kesi1kmdntVeZL88MFVEsp3p/h+ceuWBc3Mg09loAtx4i+7\n",
       "uuLLlRVHqcrtEBq1rYZftD+56uPFdul5lPJuup93uSdl0unEOc6jiF8IrPteyOiC0cuFWjWutTx/\n",
       "oDuJ0ge1bzYfPWQraKxEpXM5j1bNuZz8K9bf97BiYeVvvUsa6ylhYdQUmKw8QA9HrY+fbQ6JJNsq\n",
       "dpajIg/u6s8no3bd8mMPL5/IUxG4AJvjc9pH/vP/L/awdUldgCyE8hP/AqP2szWxrJHrAAAAAElF\n",
       "TkSuQmCC\n",
       "\" style=\"display:inline;vertical-align:middle;\" /></a><br>(see <a class=\"ProveItLink\" href=\"../../../__pv_it/theorems/6727f4ae0b780714aa7b16bba50900109d1990a30/dependencies.ipynb\">dependencies</a>)<br>"
      ],
      "text/plain": [
       "<IPython.core.display.HTML object>"
      ]
     },
     "metadata": {},
     "output_type": "display_data"
    }
   ],
   "source": [
    "%proving mult_def_rev"
   ]
  },
  {
   "cell_type": "code",
   "execution_count": null,
   "metadata": {},
   "outputs": [],
   "source": []
  }
 ],
 "metadata": {
  "kernelspec": {
   "display_name": "Python 3",
   "language": "python",
   "name": "python3"
  }
 },
 "nbformat": 4,
 "nbformat_minor": 0
}