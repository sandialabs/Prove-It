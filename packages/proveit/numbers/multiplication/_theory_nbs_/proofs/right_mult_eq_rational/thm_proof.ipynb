{
 "cells": [
  {
   "cell_type": "markdown",
   "metadata": {},
   "source": [
    "Proof of <a class=\"ProveItLink\" href=\"../../../../../_theory_nbs_/theory.ipynb\">proveit</a>.<a class=\"ProveItLink\" href=\"../../../../_theory_nbs_/theory.ipynb\">numbers</a>.<a class=\"ProveItLink\" href=\"../../theory.ipynb\">multiplication</a>.<a class=\"ProveItLink\" href=\"../../theorems.ipynb#right_mult_eq_rational\">right_mult_eq_rational</a> theorem\n",
    "========"
   ]
  },
  {
   "cell_type": "code",
   "execution_count": 1,
   "metadata": {},
   "outputs": [],
   "source": [
    "import proveit\n",
    "theory = proveit.Theory() # the theorem's theory"
   ]
  },
  {
   "cell_type": "code",
   "execution_count": 2,
   "metadata": {},
   "outputs": [
    {
     "data": {
      "text/html": [
       "With these <a href=\"allowed_presumptions.txt\">allowed</a>/<a href=\"disallowed_presumptions.txt\">disallowed</a> theorem/theory presumptions (e.g., to avoid circular dependencies), we begin our proof of<br><strong id=\"right_mult_eq_rational\">right_mult_eq_rational:</strong> <a class=\"ProveItLink\" href=\"../../../__pv_it/theorems/212243dce32ec2210f449821b04e0edf8c1c0ea30/expr.ipynb\"><img src=\"data:image/png;base64,iVBORw0KGgoAAAANSUhEUgAAARkAAAAXBAMAAADNQybgAAAAMFBMVEX///8AAAAAAAAAAAAAAAAA\n",
       "AAAAAAAAAAAAAAAAAAAAAAAAAAAAAAAAAAAAAAAAAAAv3aB7AAAAD3RSTlMAq1RmmUTNIjK7EInv\n",
       "3XZ/CtNrAAAACXBIWXMAAA7EAAAOxAGVKw4bAAADQklEQVRIx72WS2gTURSGTyYzSWaS1ogg1EIJ\n",
       "tOhClFDFRxdppdYHYg0UxIXYiAvB1dSlVIm6EVq1gqJxUaYgQg2YWMEKQhkUQRClSEU3hYlUqi5K\n",
       "Vra48txHks6dO7WS0gN/JrnnI/fPOfcRgLWIMJcnzP8YM2GN4huXJ854hxoTPhxRnHxorc+MUmSS\n",
       "TJ30DG3344h6yIfz9bl5zCWJC+KAkfHlUFdJy0fqc9PNJYnd4oCa9OVQIQsgmqjPjc0liZglDvhz\n",
       "qCB6DdW5bDJMsgiJpdjqzxF9mJ19X58btchkLGwZmqjt+uZ5B8seF+BjyM0lYUzCER0BeLiKKbv8\n",
       "U5XfpULJOV4dPW3qfwCCpGbqLA1q7BzOqtjQKeGIBiAc958pf3cjO5VWWOgNCaa90Gltqu6dN6BO\n",
       "YwfF9fQJ4BommiQckW5F09JJIqVcOvwKou3/chNLM2XhEP1coPUoQwN2L1IW4LcAVsyBj8TIbzdH\n",
       "pDg+i/hgFot6EYxd5irdAJ0D60S6GhuBAo5pttcN9FuRJfJ+xs1RNpMiHUlNkvzC4TmcWytBgB2j\n",
       "N7YBOE7NDcuToIy7U6AtwpPKrAWHrg1lWlg32CksYaMt4Sg7gWeg8SWySA5osymEX/t0gzUM44Tt\n",
       "SLrc0PzRHEaSMix0h8q4F7Chej8UErBZMSEo1nQUdQf0uISj7CBm1K4IcRuE0Qg+Lu2An9BHWOLE\n",
       "KVbd8DxUGBZ8dypLj2yteo7qjjKjsp3vimeoA9CflHCUDWRJ2xuZ20X62gwtsAcrkDgldIrnKwxf\n",
       "7tNURq/T1l67j1peDvzADoo75CZqbOqEKeGqbMHUO8gZHrHp35TP8A6G6M8WVjHJs05RhsdXLklc\n",
       "9hwHWfL6QsZV2Zh5u8/Kw2A0o0Iev1or486nuxyirbUdTvMVC1pZuPL8LlRXBLsgmjFer3jxat07\n",
       "n8NwQv0+9Qsf0LY/A+EH9PSbOZutuaF5HoSp9N5kkvwp9B4M96HBCRQlnMjyJZgwTB1XWT6Xw0ZO\n",
       "Xgfp6ccY/n6EyRsSj+OgpHpknMBqFn8EnJO1K7G1Ny1zs5yBK1yemJeUy/HhBDZYeWipZZW8tU9a\n",
       "Gxez7mGuxyR/AXRe/bB5bR1EAAAAAElFTkSuQmCC\n",
       "\" style=\"display:inline;vertical-align:middle;\" /></a><br>(see <a class=\"ProveItLink\" href=\"../../../__pv_it/theorems/69b07084e228a82a41a41913f37cff15cd9132ba0/dependencies.ipynb\">dependencies</a>)<br>"
      ],
      "text/plain": [
       "<IPython.core.display.HTML object>"
      ]
     },
     "metadata": {},
     "output_type": "display_data"
    }
   ],
   "source": [
    "%proving right_mult_eq_rational"
   ]
  },
  {
   "cell_type": "code",
   "execution_count": null,
   "metadata": {},
   "outputs": [],
   "source": []
  }
 ],
 "metadata": {
  "kernelspec": {
   "display_name": "Python 3",
   "language": "python",
   "name": "python3"
  }
 },
 "nbformat": 4,
 "nbformat_minor": 0
}