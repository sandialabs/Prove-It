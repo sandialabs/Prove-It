{
 "cells": [
  {
   "cell_type": "markdown",
   "metadata": {},
   "source": [
    "Proof of <a class=\"ProveItLink\" href=\"../../../../../_theory_nbs_/theory.ipynb\">proveit</a>.<a class=\"ProveItLink\" href=\"../../../../_theory_nbs_/theory.ipynb\">numbers</a>.<a class=\"ProveItLink\" href=\"../../theory.ipynb\">multiplication</a>.<a class=\"ProveItLink\" href=\"../../theorems.ipynb#repeated_addition_to_mult\">repeated_addition_to_mult</a> theorem\n",
    "========"
   ]
  },
  {
   "cell_type": "code",
   "execution_count": 1,
   "metadata": {},
   "outputs": [],
   "source": [
    "import proveit\n",
    "theory = proveit.Theory() # the theorem's theory"
   ]
  },
  {
   "cell_type": "code",
   "execution_count": 2,
   "metadata": {},
   "outputs": [
    {
     "data": {
      "text/html": [
       "With these <a href=\"allowed_presumptions.txt\">allowed</a>/<a href=\"disallowed_presumptions.txt\">disallowed</a> theorem/theory presumptions (e.g., to avoid circular dependencies), we begin our proof of<br><strong id=\"repeated_addition_to_mult\">repeated_addition_to_mult:</strong> <a class=\"ProveItLink\" href=\"../../../__pv_it/theorems/3126a53ff05412ca25e1b0c986af31bfa84319140/expr.ipynb\"><img src=\"data:image/png;base64,iVBORw0KGgoAAAANSUhEUgAAAbAAAAAWBAMAAABTUtReAAAAMFBMVEX///8AAAAAAAAAAAAAAAAA\n",
       "AAAAAAAAAAAAAAAAAAAAAAAAAAAAAAAAAAAAAAAAAAAv3aB7AAAAD3RSTlMAq1RmmUTNIjK7EInv\n",
       "3XZ/CtNrAAAACXBIWXMAAA7EAAAOxAGVKw4bAAAEuUlEQVRYw9VYXWgcVRQ+uzOb2czsbhYKaouE\n",
       "FbUNVN2laNUqurBRC7WyqAXBWhf6IPVpfBFim7g+iGJtm0pDHIUw2lKNgWZb2gcRwr4EpD8Saysr\n",
       "uDCrtaUKIVS0JU+ec+duZu/8JHejL14yw50753znfmfOPedsALocJl7aapRCh/avIMz/bIMAmRze\n",
       "flmNUuhIOLIYu2Rhd3HYLD3cLb3HjXjFa10S2xi6uvf0GMCv0s4pSMIyQYR9ih5ek4XXK3g73iUv\n",
       "phRcLUI+Bz22LMrrcrCuIMK+QyE5KouukjtKwtILwfgqhCgFPXsDpiugFCNt+WAeDN1LyCBBhCWX\n",
       "GTlZYim61YWlBwJCcSdEKbjvWehDn5+NtOWDSdkgA8sFz4KCvHuko2o9Gax0SWx9FFoebe9ms9vx\n",
       "GloepqcAcrBMEGEvNJvnpIltoxDA3KHPr9t/SiR2ovXlN7lQYqiUaH0xMxH4Zj/g7SSbDldBa0QQ\n",
       "47aMbMhePKOUD9ftve5wQYTdCvCJNLHd3CMqtJztIrFipl+dCyWGSkZvP0z7yk6ydQfeN7v1rEHc\n",
       "wolxWwoFitpkI9vei2cUR+2wo9/kggj7BmidvtAunYHHRedkjvSP8OlFvNLooofhSXuNQEwxlcVY\n",
       "IZQYKu1Ij8Lb1UAoItJ97nT4vUZURHNb8ToEYDuMYgCUfwLtFhdE2F7bKLdlD64dg7sMW7U9r1pl\n",
       "/bAZ/5Q/z9LhRPEqPM2etzeb55vN70kSVHb20Kc/X+A+9ZTs6TLkCfU48zgnkVoEOMT92RRpd8Bw\n",
       "W8kFH7FZzyjlV9D1vyC+yAUPkWOWcoe6lYq1UzSWlAfRnHEC4DEfMYDvAskj5UQkD1LKA9zmi8Qq\n",
       "9N4A2BlOTIBhthL1ILElo2mqGvEFiFW4IMFWnsBvWjp4hbcBA/eOMGLzz1wxWRU/+q7XfLVDERI3\n",
       "4SsfsVdN3Y4KRWL1py6s9i0yYvevGIrcVnzOd8YuCkZxIKu+gu0KEuwpLNVHdxZSps7q9IDx+ct0\n",
       "sMy1PblJWtiwwTNGma3XAX0sVoeaQGyyfCcY4V+MlM5hlBhiucmyUHx0peTRtqX4u4gJwSgh1jDc\n",
       "a64gwe5D/m9dhT7bLfUDULxOyQAmkm5XsWWLB0bJGdNp/NaxeiInEMt/8Cw8LxLDwKfYJyU81JnK\n",
       "I8K+sIBSHdsmpnv9b/rrhGnbUv0d6knBKA7MTleVqitIsDFyVT9GpbLHsj5CYlPuocPMudmyrNz7\n",
       "L3lgB+hwzIH+nHPPJvGMHZuPl3IiMQx8FvuolECdNb7+5sVBbILhMptT4n+TzS6xv84vxm2lyz5i\n",
       "BwSjOF4B+GwTF7zcXvwWBpPJmvvFEmyvyboG+2lCyaN9PNLkhEaXnUe6Gl0YtTnZlmrY/z4KdrgT\n",
       "VluAxoBbqB8CaMEU7DMqKpYCenfahJl2/BQD7ejKTfAyjW5kJxuEKfnfR8GWOmETWfijAEPog+SP\n",
       "JsTgw5z628zvoH1ML6f2HFlyzjhlD7PL3y3j0a+GZDFCfoGMRwv6YPWvrTE+5ZE7ZVliaFOe1Ee7\n",
       "JDa5Ks7iCPHmZLRgJGwi6vefRoE/0iUxLfIfABnpj39NFvbasrAK/N/HPyHCVW+lU7MiAAAAAElF\n",
       "TkSuQmCC\n",
       "\" style=\"display:inline;vertical-align:middle;\" /></a><br>(see <a class=\"ProveItLink\" href=\"../../../__pv_it/theorems/343135257455eaebf5260eac29fddfff841161da0/dependencies.ipynb\">dependencies</a>)<br>"
      ],
      "text/plain": [
       "<IPython.core.display.HTML object>"
      ]
     },
     "metadata": {},
     "output_type": "display_data"
    }
   ],
   "source": [
    "%proving repeated_addition_to_mult"
   ]
  },
  {
   "cell_type": "code",
   "execution_count": null,
   "metadata": {},
   "outputs": [],
   "source": []
  }
 ],
 "metadata": {
  "kernelspec": {
   "display_name": "Python 3",
   "language": "python",
   "name": "python3"
  }
 },
 "nbformat": 4,
 "nbformat_minor": 0
}