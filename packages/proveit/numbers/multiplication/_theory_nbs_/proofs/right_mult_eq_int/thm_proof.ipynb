{
 "cells": [
  {
   "cell_type": "markdown",
   "metadata": {},
   "source": [
    "Proof of <a class=\"ProveItLink\" href=\"../../../../../_theory_nbs_/theory.ipynb\">proveit</a>.<a class=\"ProveItLink\" href=\"../../../../_theory_nbs_/theory.ipynb\">numbers</a>.<a class=\"ProveItLink\" href=\"../../theory.ipynb\">multiplication</a>.<a class=\"ProveItLink\" href=\"../../theorems.ipynb#right_mult_eq_int\">right_mult_eq_int</a> theorem\n",
    "========"
   ]
  },
  {
   "cell_type": "code",
   "execution_count": 1,
   "metadata": {},
   "outputs": [],
   "source": [
    "import proveit\n",
    "theory = proveit.Theory() # the theorem's theory"
   ]
  },
  {
   "cell_type": "code",
   "execution_count": 2,
   "metadata": {},
   "outputs": [
    {
     "data": {
      "text/html": [
       "With these <a href=\"allowed_presumptions.txt\">allowed</a>/<a href=\"disallowed_presumptions.txt\">disallowed</a> theorem/theory presumptions (e.g., to avoid circular dependencies), we begin our proof of<br><strong id=\"right_mult_eq_int\">right_mult_eq_int:</strong> <a class=\"ProveItLink\" href=\"../../../__pv_it/theorems/4adcd66bf16bf93441d21b0eaa33cb16d2779e2e0/expr.ipynb\"><img src=\"data:image/png;base64,iVBORw0KGgoAAAANSUhEUgAAARcAAAAXBAMAAADTihZTAAAAMFBMVEX///8AAAAAAAAAAAAAAAAA\n",
       "AAAAAAAAAAAAAAAAAAAAAAAAAAAAAAAAAAAAAAAAAAAv3aB7AAAAD3RSTlMAq1RmmUTNIjK7EInv\n",
       "3XZ/CtNrAAAACXBIWXMAAA7EAAAOxAGVKw4bAAADRElEQVRIx72WTWgTQRTHX7K7abJJ64ogaKEs\n",
       "tIjgB1FE0UMbqJ9IJVDwJBLwIHja6k2qRK+tNB78iELZgwgaSWIVlR4kIIIiSiwVvVQ2UqlflIBg\n",
       "pCfffGRjZmdbJaUP/tndmd/OvLw3b2YBlsHauDxm/UebBctjn7g8dtzb1GH6cEQGeehuyZdgkUky\n",
       "c9zTtMmPI9pHHk625MxtLomdEhv0lC+HukDynWnJmX4uie0QG9S4L4cK2QBRsyVnSlwSi9ligz+H\n",
       "UtDVUGtLJsUks5AYiA3+HNHrmZlXLTmjFpn0+fUjE41y75xzMOaGAB9G5ftBN7wc0UGAG0vPmPDv\n",
       "qv8rFSrOgNt6zIosACg0YgMzxN6S2xOo4mZQql6OaAjaDN+JAi8f3qR+LLLE202mXdBnr3Gr5hmo\n",
       "ZUyfuJamAMLmAAQyXo4oYkeT0knClWyy3Yrm7SWciSWZ0rCfPhdINNQqtGPqwlUBfo7zwxuIYWr0\n",
       "X80cUdDxWb970xg6uHgG/tEZwElopEgoYxkoYJtW8joD2gKM4dgw3cxRNtWLP7nex4SdPzCLZ4RW\n",
       "gUB990wk/nKGdROjSHOaQKvB3fqkBQf6SKWVhTUzRaKRgh8SjrITuPXp78M1si1b60I4bH6VPQp3\n",
       "KKycTjecod2HsmhxijCLOFT6lUAJ3EOhYMLaoAWKGNFx8oIBlyUcZYdx/aqJMAmSAuNhvJzdAl9h\n",
       "kML5KDSc4d1QR5jxsgz+vlXS3N0z4gSnVVbyTXafRMbQfko4ygbSJOcdrKRq9LcTumAnBsCE4iQL\n",
       "Pf+HNXdUgvCFXqbSjzg92xtnUNeToS+YPrE2LpG+ztmahHPZghXZQ6omXKLfJe/gBYzQpbExDpMN\n",
       "Z0g3SxNFuH3gktg5zz5Asx5NSTiXjVljg3YOhqMpFXI4tFbFkidvqaCVXWdod90DrSqccn5naJMp\n",
       "WA+P4J652Fmr9W99AKOm+vnpN7xAz+4UtF3H9m2rv181XGdoNzeC1PNuMUk+Ab07wjWAj5hjLyey\n",
       "3F9TtyJY17lstpFxcVSG8PsMk9ckLmKRds8mJZzAaja/BJyj4hjiXE3IeS6PzUmC5fhwAqvUL1pv\n",
       "cSlnJMjKmbUSk/wBj1/1cNf+gJkAAAAASUVORK5CYII=\n",
       "\" style=\"display:inline;vertical-align:middle;\" /></a><br>(see <a class=\"ProveItLink\" href=\"../../../__pv_it/theorems/b8844f7a18e6f0af983f2cf76ad8b2b0ea5fe47d0/dependencies.ipynb\">dependencies</a>)<br>"
      ],
      "text/plain": [
       "<IPython.core.display.HTML object>"
      ]
     },
     "metadata": {},
     "output_type": "display_data"
    }
   ],
   "source": [
    "%proving right_mult_eq_int"
   ]
  },
  {
   "cell_type": "code",
   "execution_count": null,
   "metadata": {},
   "outputs": [],
   "source": []
  }
 ],
 "metadata": {
  "kernelspec": {
   "display_name": "Python 3",
   "language": "python",
   "name": "python3"
  }
 },
 "nbformat": 4,
 "nbformat_minor": 0
}