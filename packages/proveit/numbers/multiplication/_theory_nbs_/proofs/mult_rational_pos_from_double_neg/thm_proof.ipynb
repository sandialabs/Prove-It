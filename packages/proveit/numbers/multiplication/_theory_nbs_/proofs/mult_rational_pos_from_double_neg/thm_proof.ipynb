{
 "cells": [
  {
   "cell_type": "markdown",
   "metadata": {},
   "source": [
    "Proof of <a class=\"ProveItLink\" href=\"../../../../../_theory_nbs_/theory.ipynb\">proveit</a>.<a class=\"ProveItLink\" href=\"../../../../_theory_nbs_/theory.ipynb\">numbers</a>.<a class=\"ProveItLink\" href=\"../../theory.ipynb\">multiplication</a>.<a class=\"ProveItLink\" href=\"../../theorems.ipynb#mult_rational_pos_from_double_neg\">mult_rational_pos_from_double_neg</a> theorem\n",
    "========"
   ]
  },
  {
   "cell_type": "code",
   "execution_count": 1,
   "metadata": {},
   "outputs": [],
   "source": [
    "import proveit\n",
    "theory = proveit.Theory() # the theorem's theory"
   ]
  },
  {
   "cell_type": "code",
   "execution_count": 2,
   "metadata": {},
   "outputs": [
    {
     "data": {
      "text/html": [
       "With these <a href=\"allowed_presumptions.txt\">allowed</a>/<a href=\"disallowed_presumptions.txt\">disallowed</a> theorem/theory presumptions (e.g., to avoid circular dependencies), we begin our proof of<br><strong id=\"mult_rational_pos_from_double_neg\">mult_rational_pos_from_double_neg:</strong> <a class=\"ProveItLink\" href=\"../../../__pv_it/theorems/807434bb9b8a35e68b98178895738f421959c1c80/expr.ipynb\"><img src=\"data:image/png;base64,iVBORw0KGgoAAAANSUhEUgAAAMkAAAAZBAMAAABp1hcZAAAAMFBMVEX///8AAAAAAAAAAAAAAAAA\n",
       "AAAAAAAAAAAAAAAAAAAAAAAAAAAAAAAAAAAAAAAAAAAv3aB7AAAAD3RSTlMAq1RmmUTNIjK7EInv\n",
       "3XZ/CtNrAAAACXBIWXMAAA7EAAAOxAGVKw4bAAADUklEQVRIx6VWXWjTUBQ+S9oladIf9zCUiUQG\n",
       "KghS5g86ZFZacSrMykQcyta6B9EXM9mbihVfhE038DeiEl+UuYdV9zBBhIEIDhGmDAShkD3IVFT2\n",
       "NGEP4rk3zV16U2aqF06bnNyb75zv/AUg+NoKta4USqi2I0KqZpRhFGm4piOPyI/h1xvLo0BbTSjX\n",
       "UWK6X9/t04ya5t4llKgFkCAXzQFApEn82Vipi9ybRuQktzO2uiC9LzKUGELsIRcnA6CE8Fwkxynr\n",
       "SaxOc8rxcYDDXRAyzSkTCYgsAlwKGqB4FpF4s+OEwS2VOrmItiii7foCvWgNsqbqAVCGcKPGK3tQ\n",
       "CZrl3HwtlYivyhOkSC3kGMo+ABHNqw8S/B8o63jlS0qb4+GRb45uREY3BL2doXxHeVcqvQ2C0ohy\n",
       "gNDbNGczZf5nA9pNM0hywzMQRtRwsoWhEIcR824QFNNhGI4byiLLsQVrzACR5kS9WzfdIgZAtpvL\n",
       "tY9cFwD6QEoEQcmjfMAXv4LQNGsHi6DZIExSFFd5TqC+fGYnL2LeKJaaZelxihXWjRVcTc+gvMY0\n",
       "m4dokbpBsjsH8SLI8+T5YAkXoUhx4rKfnRzD9wu2J/hNBGrWzEovQG3x+4Io2jA95aAiXo8OYerL\n",
       "iLtRecxyrOwLMgY5T6N5g5JBpXoWIpuN/kwmk+UYG7Nhl7dcDlogUAajrjLs1MtSdQwRVp6R5Bht\n",
       "myBu/J61aMO4sh7Atit8WYXyAFF0aBRcMuMFDBOITiNh29NY+4e6uKI6jw5GPsq/yM5PsRT1vDXp\n",
       "QyFZ/xSNtIUZNjLqkkrK6T24TrhalfQxz5jYSbciQ6GUTMhVkmKuk+gIgl30lflVtGfN874vLJOb\n",
       "0oQrh9WHN8s9APoXzrR7Tu52L7Qs6ZygFUKJbaZp6kf9jGn4rmihWo5fKP8fu18qh3yl6D3by5LN\n",
       "UFrRkjho+gB1mkbf15PFquMy7dPU2bMbWNpEWBFrxlCnNYoDZwfWD81mULmhQym9XW3wVOnoa29N\n",
       "sfYtsqIPpzeNw6Aud9gg3aFVOZPn2WnwFoVnKcbyTSPKPdfdeYreTlyuNvcl2/+Wub+0Jm7uhy1v\n",
       "GJo7stw3TBH+ZfGEihV317b///cYNRdt/wPKrcxkZTcL9AAAAABJRU5ErkJggg==\n",
       "\" style=\"display:inline;vertical-align:middle;\" /></a><br>(see <a class=\"ProveItLink\" href=\"../../../__pv_it/theorems/1cc66197b3eb3e3f9c76712afc1d0924f536aa720/dependencies.ipynb\">dependencies</a>)<br>"
      ],
      "text/plain": [
       "<IPython.core.display.HTML object>"
      ]
     },
     "metadata": {},
     "output_type": "display_data"
    },
    {
     "name": "stdout",
     "output_type": "stream",
     "text": [
      "mult_rational_pos_from_double_neg may now be readily provable (assuming required theorems are usable).  Simply execute \"%qed\".\n"
     ]
    }
   ],
   "source": [
    "%proving mult_rational_pos_from_double_neg"
   ]
  },
  {
   "cell_type": "code",
   "execution_count": null,
   "metadata": {},
   "outputs": [],
   "source": []
  }
 ],
 "metadata": {
  "kernelspec": {
   "display_name": "Python 3",
   "language": "python",
   "name": "python3"
  }
 },
 "nbformat": 4,
 "nbformat_minor": 0
}