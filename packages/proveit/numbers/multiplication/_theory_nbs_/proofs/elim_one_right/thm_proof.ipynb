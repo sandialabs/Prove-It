{
 "cells": [
  {
   "cell_type": "markdown",
   "metadata": {},
   "source": [
    "Proof of <a class=\"ProveItLink\" href=\"../../../../../_theory_nbs_/theory.ipynb\">proveit</a>.<a class=\"ProveItLink\" href=\"../../../../_theory_nbs_/theory.ipynb\">numbers</a>.<a class=\"ProveItLink\" href=\"../../theory.ipynb\">multiplication</a>.<a class=\"ProveItLink\" href=\"../../theorems.ipynb#elim_one_right\">elim_one_right</a> theorem\n",
    "========"
   ]
  },
  {
   "cell_type": "code",
   "execution_count": 1,
   "metadata": {},
   "outputs": [],
   "source": [
    "import proveit\n",
    "theory = proveit.Theory() # the theorem's theory"
   ]
  },
  {
   "cell_type": "code",
   "execution_count": 2,
   "metadata": {},
   "outputs": [
    {
     "data": {
      "text/html": [
       "With these <a href=\"allowed_presumptions.txt\">allowed</a>/<a href=\"disallowed_presumptions.txt\">disallowed</a> theorem/theory presumptions (e.g., to avoid circular dependencies), we begin our proof of<br><strong id=\"elim_one_right\">elim_one_right:</strong> <a class=\"ProveItLink\" href=\"../../../__pv_it/theorems/a04649efb1625eca15432cfef667ddaa683ef23b0/expr.ipynb\"><img src=\"data:image/png;base64,iVBORw0KGgoAAAANSUhEUgAAAKEAAAAVBAMAAADcJJPmAAAAMFBMVEX///8AAAAAAAAAAAAAAAAA\n",
       "AAAAAAAAAAAAAAAAAAAAAAAAAAAAAAAAAAAAAAAAAAAv3aB7AAAAD3RSTlMAq1RmmUTNIjK7EInv\n",
       "3XZ/CtNrAAAACXBIWXMAAA7EAAAOxAGVKw4bAAACKklEQVQ4y2NgwAsKoBibOAMJ4nDApwDBGCAO\n",
       "hwaQuACIoYxDgTYUowCOW0BrDHA4ASjuCmKkY5fnSoBgFLDQ7ReQzMLhBqB4I5Bin4BdmsUAgtHc\n",
       "ATLRBIeJQHG2BQwM3ArYpXmgGIuJPAtwaFnAwAx0AxsOC9WgGIuJbDgCEiR+9u7d0zhM9IbidQ9X\n",
       "7FZANZFbAD3M30l1b4KIezAwzMJhYjIUO/DJsVxANZEZHGG+d0HgIjjMGR4+8IWIFzKwo9jHN0Wu\n",
       "Dsq8BMHMBcy/GA1QTWQ6gGa7OYP9AmGIOOcC7gBYSns4M4BrYgHTbCj/KARzMLBAktD6BLiJHB/Q\n",
       "TGxgcGOAijM9gEeMSwMwINYxMFijmgiMwQdgPq8D3ETWAxhhdI4BJp5gByTeuT8pAGeExa3A9Inq\n",
       "awaG+AKuBWi+voAWjgys3xlWQcU3AdM5X4Ekm8JKkIS6OsLWeRC8MkCGgRst9TCjZQquqYwHGDZA\n",
       "xWuAEcPMMI+DIRgkZWWFULYRgvW7fBiCEKLc30FRuwHVRKYfSw6wKkDFGRtAQkBlZjNnzlToiEAo\n",
       "64XgJe+YnBHJkVHmGzBOeQPQ3Oj3QMWIAVmc4wA7QzfYBcCY4YIK8jZAMBZQiyMJw8VruBNYgOkI\n",
       "VGpsKWDYBxVldoBgLMAZh4lwcZan+14xsM8AMVdnToE7azoUYwBcpRW6+OqZM1GDZyUUYwBOHMU/\n",
       "J6Fqgf0BBGOA5zg0AMUB7RKMmlzVt6wAAAAASUVORK5CYII=\n",
       "\" style=\"display:inline;vertical-align:middle;\" /></a><br>(see <a class=\"ProveItLink\" href=\"../../../__pv_it/theorems/5da17bcafeebb59a2927e5462be9ad84b2834c7a0/dependencies.ipynb\">dependencies</a>)<br>"
      ],
      "text/plain": [
       "<IPython.core.display.HTML object>"
      ]
     },
     "metadata": {},
     "output_type": "display_data"
    },
    {
     "name": "stdout",
     "output_type": "stream",
     "text": [
      "elim_one_right may now be readily provable (assuming required theorems are usable).  Simply execute \"%qed\".\n"
     ]
    }
   ],
   "source": [
    "%proving elim_one_right"
   ]
  },
  {
   "cell_type": "code",
   "execution_count": null,
   "metadata": {},
   "outputs": [],
   "source": []
  }
 ],
 "metadata": {
  "kernelspec": {
   "display_name": "Python 3",
   "language": "python",
   "name": "python3"
  }
 },
 "nbformat": 4,
 "nbformat_minor": 0
}