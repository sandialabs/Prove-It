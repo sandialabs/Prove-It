{
 "cells": [
  {
   "cell_type": "markdown",
   "metadata": {},
   "source": [
    "Proof of <a class=\"ProveItLink\" href=\"../../../../../_theory_nbs_/theory.ipynb\">proveit</a>.<a class=\"ProveItLink\" href=\"../../../../_theory_nbs_/theory.ipynb\">numbers</a>.<a class=\"ProveItLink\" href=\"../../theory.ipynb\">multiplication</a>.<a class=\"ProveItLink\" href=\"../../theorems.ipynb#mult_complex_closure\">mult_complex_closure</a> theorem\n",
    "========"
   ]
  },
  {
   "cell_type": "code",
   "execution_count": 1,
   "metadata": {},
   "outputs": [],
   "source": [
    "import proveit\n",
    "theory = proveit.Theory() # the theorem's theory"
   ]
  },
  {
   "cell_type": "code",
   "execution_count": 2,
   "metadata": {},
   "outputs": [
    {
     "data": {
      "text/html": [
       "With these <a href=\"allowed_presumptions.txt\">allowed</a>/<a href=\"disallowed_presumptions.txt\">disallowed</a> theorem/theory presumptions (e.g., to avoid circular dependencies), we begin our proof of<br><strong id=\"mult_complex_closure\">mult_complex_closure:</strong> <a class=\"ProveItLink\" href=\"../../../__pv_it/theorems/be035bf9f521811966c62ea3f8062f5ffaa7634c0/expr.ipynb\"><img src=\"data:image/png;base64,iVBORw0KGgoAAAANSUhEUgAAAY0AAAAWBAMAAADOX93WAAAAMFBMVEX///8AAAAAAAAAAAAAAAAA\n",
       "AAAAAAAAAAAAAAAAAAAAAAAAAAAAAAAAAAAAAAAAAAAv3aB7AAAAD3RSTlMAq1RmmUTNIjK7EInv\n",
       "3XZ/CtNrAAAACXBIWXMAAA7EAAAOxAGVKw4bAAAEpUlEQVRYw81XXWgcVRQ+u7O787M/5qH4T4iU\n",
       "2pWSsGgKJUgdSWvyYrulxYcmyOKDok+zRYRUm66iKDS0izZCgtWJAaGumm1Day1Y1CJRpDQPQYvt\n",
       "wNSKMUZKEGKhUuM5987P3UknS5g8eODcOXPmzr3nu/ecc88FWIFyVgUik+xwVDLC9c3sTBfXYP5f\n",
       "HI5KTy/T1I49O3uI6dHQFtKsD8MRo0e8EGH6eJ1zZMoFrcjdX9B2HmV6xLGdVM+F4UjQjqSMCNN/\n",
       "5HB0eiHwvqMPQDrK9IjjVXLfahgOhbZrIMrs3Q5Hp87GV0UfxXYd0yOOlImPttD4oEU4GWX2rxyO\n",
       "ThmTP+csq4SPmEmrP870aKiE7pUKj/NH8FGKEh4lzmtAKR4gT/3BX1VZ9/SUkC5Y1g/hODKWdSVK\n",
       "lCbqnKF8bjCQj++btZsnbaFTmqUk2Q2TslL39ISjF2A0HEeiAqoZcRGJk1PwQeM4/YZ6s+nvYieJ\n",
       "bauXdA4lC56ecJRBbhFXYOYUPNri4cBv5dVbP/e4u4zZNs6fFOBJ9Gbfw7TzkJiG2ol7VxqHd3Jd\n",
       "lIWZFwMvJm1PTzhU0z/uDt8zDA+kzYTpn4OjcGpVEGiI43fBQ86mZ4qcdwJcBuU6M0r7mxxuAbJ1\n",
       "0AkdwMTyCBI6uQlqgdohC6nK4qPu6cnQuO1BTPTSmWjraeE871hdmLMhztogBXB8D9oizsUXd4Y+\n",
       "VGGiCItwkEqKrL58JL+TQ0m2H8fdV9Wsenq2E6Wt6GPdh38FuEbq/IZBEUdKwu3TJuddtxREoULY\n",
       "+rkj0RDalqJXDjl+pf0L0oKHg22BDY8BdHEcYcQ7dW65Tjj5z1kPFjs/kkzPcJzEDDDeX8gYGgOY\n",
       "T3/YJ+BIP4hO9qlxxDVeEH0f+Em54Ug0RHyf30O1GWt/Qay0sQFHG9wZx35frrS7rNP+zedhiuKZ\n",
       "mZfz8teOXdg8wfQMxysY1ft/gztMngDyoM8JOOSvUdgGQ3iss6ghMdmxvdGZdMU56tgQ0rifmShZ\n",
       "Er8P7bou4lDt+EwCnftn3+iS07DQ8DvJn5XgppPCkZ7x6qt3e7R2nekZjhjtbCv0g/T8yMjbiKOW\n",
       "Euvdu5G/haugtDPrSMzARONJW8w5GY4Nobzh+4oyzXls/s3WiohDaz1T/t1dHO6CutvMNHaK2Sw0\n",
       "sjxSxobdX2rv3erhej9TfQfbFH6w5HG5A3W7dgPe+RiypivKtD3i9htql9m5exOazIbAOAd3sksO\n",
       "8xQ5HTzndLl5EZqpJHRcmQPOa98xqyH1HBAuGPICXMrz83Az4IoH7h9TymIX4dDqXIRhEmu8qUHG\n",
       "OLLb7KhSCLIhXu6BtC1Ud52hOAbeer35KXsQsq9VwqvNbsHQZAvMF2AAeys/GhAL4tjzMH5FHMo3\n",
       "XMRTHsUhQ5nCZqgt2d0xie75EhlGLqWdHun1XNzgzFbr9D+BUuTi0lLzXL4LcpPhRTnpAxc+7YuR\n",
       "4fD7IPlVnItnc56IxKvlLFzbu3wIlsG06hqUiaoRrm9ycU2L917lT6zf9/KiaemWK9Jecs8Yg023\n",
       "vTcOOhyVZsP1uSurvYAXbiNK8D+g/wAr304WMT7VbgAAAABJRU5ErkJggg==\n",
       "\" style=\"display:inline;vertical-align:middle;\" /></a><br>(see <a class=\"ProveItLink\" href=\"../../../__pv_it/theorems/b111b03be9294d208877a0ca2804295526ea995d0/dependencies.ipynb\">dependencies</a>)<br>"
      ],
      "text/plain": [
       "<IPython.core.display.HTML object>"
      ]
     },
     "metadata": {},
     "output_type": "display_data"
    }
   ],
   "source": [
    "%proving mult_complex_closure"
   ]
  },
  {
   "cell_type": "code",
   "execution_count": null,
   "metadata": {},
   "outputs": [],
   "source": []
  }
 ],
 "metadata": {
  "kernelspec": {
   "display_name": "Python 3",
   "language": "python",
   "name": "python3"
  }
 },
 "nbformat": 4,
 "nbformat_minor": 0
}