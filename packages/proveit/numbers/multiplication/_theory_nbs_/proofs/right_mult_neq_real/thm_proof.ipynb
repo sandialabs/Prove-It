{
 "cells": [
  {
   "cell_type": "markdown",
   "metadata": {},
   "source": [
    "Proof of <a class=\"ProveItLink\" href=\"../../../../../_theory_nbs_/theory.ipynb\">proveit</a>.<a class=\"ProveItLink\" href=\"../../../../_theory_nbs_/theory.ipynb\">numbers</a>.<a class=\"ProveItLink\" href=\"../../theory.ipynb\">multiplication</a>.<a class=\"ProveItLink\" href=\"../../theorems.ipynb#right_mult_neq_real\">right_mult_neq_real</a> theorem\n",
    "========"
   ]
  },
  {
   "cell_type": "code",
   "execution_count": 1,
   "metadata": {},
   "outputs": [],
   "source": [
    "import proveit\n",
    "theory = proveit.Theory() # the theorem's theory"
   ]
  },
  {
   "cell_type": "code",
   "execution_count": 2,
   "metadata": {},
   "outputs": [
    {
     "data": {
      "text/html": [
       "With these <a href=\"allowed_presumptions.txt\">allowed</a>/<a href=\"disallowed_presumptions.txt\">disallowed</a> theorem/theory presumptions (e.g., to avoid circular dependencies), we begin our proof of<br><strong id=\"right_mult_neq_real\">right_mult_neq_real:</strong> <a class=\"ProveItLink\" href=\"../../../__pv_it/theorems/03569da0187f26ef73a33072f51c9585034e5eb20/expr.ipynb\"><img src=\"data:image/png;base64,iVBORw0KGgoAAAANSUhEUgAAATsAAAAXCAMAAABDGxgMAAAARVBMVEX///8AAAAAAAAAAAAAAAAA\n",
       "AAAAAAAAAAAAAAAAAAAAAAAAAAAAAAAAAAAAAAAAAAAAAAAAAAAAAAAAAAAAAAAAAAAAAAAeYafp\n",
       "AAAAFnRSTlMAq1RmmUTNIjK7EInv3Xbt5cnn9enzas/lfgAAAAlwSFlzAAAOxAAADsQBlSsOGwAA\n",
       "A+VJREFUWMPlmOmynSAMgFllNd19/0ctBFAQVJy5P06ntPdkdODDhCQECPmXmjrJ6QFf3U+Rf60B\n",
       "a+VzkzB+L+wQPM1Lku7vGf9w0zHXyilzD5XSZgh+wUMpZHm9fLgj2qWVc22xg5dGj8CveFHq4njK\n",
       "fLjbCd7KucbFwO3oEPyKh7IY0rEPt50/ydlhveMZNQS/40XJs9WXDzcdW1o5HWSdV0k6BL/kofRr\n",
       "bN59esi6VloAarUbhouiDlTeEh3ttFcjsAWMXUsneSgFJk5jv0bD22w/syNMrXeaCSgQsQ4qCR+s\n",
       "Y7aE4rtbCXSS9eev+EvPYEdYDF6+TfJQKlp+XofR6hZBl7qGuttwnHxGpj7OQRcGK2skV1FPS2if\n",
       "6K3HAiIblfl7t8tAzdIIaiZ5SUaXm9Gr2qiAGhNGQFgt4pSbst3M8qQ+PKyGPJO8bGQMFlFlKrsd\n",
       "/oWus+av0idHkmIIDjbw0Qk8dMAxL0kGL3cKIXJ9BOEf4RambEcn6sfUx0f8pm5tR2o9UbfdJt6g\n",
       "6rIE3L3b7UAZg1JvugOOeVkuuNJobMfB7XAAocL/cgyh+Rhy1OpoO7BibLtmOJHuhBlMmPoozCye\n",
       "3cYsKhsG2i5B2g3qvMXWJt/9/pOyHu3A6MXQFywXvCwdy0WeXVWwfFEFVIz+heVtiASVdEDbwz4x\n",
       "ZpWpzz2V7fbhwsT2LfzxCtNOWPfRaLv1lMgM1NKGlEE9pvhe1/jFdCEMFeHm4Zyxg2n5meJlqTwt\n",
       "wUgOvQhHbvZhZaOhIQyQvLKdMK75tuqhGV6c9cAMJsx9ku386Rjf1AaEbdqKMFAOSpRoDBYiTjQ1\n",
       "TfaWvhAoYEGjK/NZXpFUH6EPteXrpENDZxrz24I+YliKWdd8frvIx/DDWQumn7D0STG7nayi11pa\n",
       "ARAMwUfVnaXgtKKQlFrlw/G2gG0o4sSmZnktN3hnrGP4kUKiS+yw2Dlmce1Ine+kdPbCdnl4jMfv\n",
       "PwzG44FpJ2z6DPcKsupWTt64rY83JhXQLbM8da4rfcw+ktuQwmMkI0oQfMIp5NaW0alGGe8Vx/D2\n",
       "9F0wCN0nbPoAdAen8yn89Q3Cza1KAsaPtZ7N8roLBBmCAByPHhMgAqQDsPkpRohZ0o1LXii5wOJC\n",
       "+FR1VuV3+/D21FIwCN0nbPuE2lhcH+HNi8uy9naIjw+eCFwh5ZM53u2tEzs/WQyvXFjE4BpW02Mk\n",
       "O/J+hWFXfa6Oa+acO59ba+fVXoMZByGneXfrJ+35KeR3+VxBj9Wqxh2YdoqZ6rwcxxXMmg5aFfUD\n",
       "eJoHd67PuyfJYeKqZWg7Vq3ngeGXff7Tpv4jXf8CnjkkxmrjuYoAAAAASUVORK5CYII=\n",
       "\" style=\"display:inline;vertical-align:middle;\" /></a><br>(see <a class=\"ProveItLink\" href=\"../../../__pv_it/theorems/602057eeb180dffb6d931638c03d07fb6285a2de0/dependencies.ipynb\">dependencies</a>)<br>"
      ],
      "text/plain": [
       "<IPython.core.display.HTML object>"
      ]
     },
     "metadata": {},
     "output_type": "display_data"
    }
   ],
   "source": [
    "%proving right_mult_neq_real"
   ]
  },
  {
   "cell_type": "code",
   "execution_count": null,
   "metadata": {},
   "outputs": [],
   "source": []
  }
 ],
 "metadata": {
  "kernelspec": {
   "display_name": "Python 3",
   "language": "python",
   "name": "python3"
  }
 },
 "nbformat": 4,
 "nbformat_minor": 0
}