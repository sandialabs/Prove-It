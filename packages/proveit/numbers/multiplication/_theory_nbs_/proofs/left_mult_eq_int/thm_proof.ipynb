{
 "cells": [
  {
   "cell_type": "markdown",
   "metadata": {},
   "source": [
    "Proof of <a class=\"ProveItLink\" href=\"../../../../../_theory_nbs_/theory.ipynb\">proveit</a>.<a class=\"ProveItLink\" href=\"../../../../_theory_nbs_/theory.ipynb\">numbers</a>.<a class=\"ProveItLink\" href=\"../../theory.ipynb\">multiplication</a>.<a class=\"ProveItLink\" href=\"../../theorems.ipynb#left_mult_eq_int\">left_mult_eq_int</a> theorem\n",
    "========"
   ]
  },
  {
   "cell_type": "code",
   "execution_count": 1,
   "metadata": {},
   "outputs": [],
   "source": [
    "import proveit\n",
    "theory = proveit.Theory() # the theorem's theory"
   ]
  },
  {
   "cell_type": "code",
   "execution_count": 2,
   "metadata": {},
   "outputs": [
    {
     "data": {
      "text/html": [
       "With these <a href=\"allowed_presumptions.txt\">allowed</a>/<a href=\"disallowed_presumptions.txt\">disallowed</a> theorem/theory presumptions (e.g., to avoid circular dependencies), we begin our proof of<br><strong id=\"left_mult_eq_int\">left_mult_eq_int:</strong> <a class=\"ProveItLink\" href=\"../../../__pv_it/theorems/464cead3ca40bf45988770d884a51b650080a1c60/expr.ipynb\"><img src=\"data:image/png;base64,iVBORw0KGgoAAAANSUhEUgAAARcAAAAXBAMAAADTihZTAAAAMFBMVEX///8AAAAAAAAAAAAAAAAA\n",
       "AAAAAAAAAAAAAAAAAAAAAAAAAAAAAAAAAAAAAAAAAAAv3aB7AAAAD3RSTlMAq1RmmUTNIjK7EInv\n",
       "3XZ/CtNrAAAACXBIWXMAAA7EAAAOxAGVKw4bAAADR0lEQVRIx72WTWgTQRTH/0l202ST1oinKpSA\n",
       "RQWpRBFFD22ktipSWyh4tAEPgqet3qSW2IuHVqwHP6JQtyBCjdRYRaGHEgTRIpYoioIUtlIRLZQi\n",
       "aHoS52uT7OyuVVL64L8fMz9m3r43b2aBVbAaIYfp/9GmY3Xss5DDTjib6uIeHFWMvmyuyhd/jstl\n",
       "5oSjabsXR9VGX05V5cxdIRc7LTdoKU+O6ALN93BVzrQKudhuuUFJeHJEQQOIxKtyJi/kYlFDbvDm\n",
       "iALE1WB1SybF5WZBORBbvDmq17Ozr6pyRslxoXeqv7w2FjcOTpCYxyT4KOygNp/AKOeoDgM3V54x\n",
       "6d1lfZX6ArdLWVEwZ3YAARaxjllqb+jjSdjBiD+PFs5R9aIm5jmRb/rxLebHX5Z4bZzrfgIdpca9\n",
       "aDE2kPTJa+kt7OCAUkA956jCRqTLdZLQXKarVo+MGys4E+3i6gQ+0cD/oo1ptLMxliT4OeygETUx\n",
       "wzkqv+mxfg+mSegwcBb/6Mw0tJ/0/R1vnqEXNe/ijA3sMULLnGNsqplcss1PadfioXlyRqhz8Fm7\n",
       "ZzJZ4QzvZrNQxJYm7TcCFXFQi7hHvrQgrRmSJjvYjro85xg7QbY+7UOoSLdlvT5Ihh5fZwxhjLGB\n",
       "M+myM6z7SIZYgiHcwiaT9gO+1FarSK768iAVFpAjOgI7iCsIxzjH2D7yoiRDNEgBjITI7VwTvqGb\n",
       "seMRlJ0R3bAQURCiLEfQlLSKzr98J6/GRclX2kPYQRxAT6Jie/Clac7reEkV2XUTGrCHBCCO3CSN\n",
       "dmnNFEujUkQs9ALX6MLFhrQVmWNm4y6aQrk2LsEOYnSqU+dciX2gh/fTqgnl2X/Je7zEIMv8tgQm\n",
       "y87Qbp4mhgj7KORi5x37QNrBPBFciY3ql7uNLPoiKQVZMrS6REqepkCBWig5w7otD9Ql6ZTzOkNt\n",
       "FpB2z0hKeyaftWrrjkcYiitfpr6TGxr3pVBzg7TvXL9wLVZyhnULo4i1gnUul19A545wXYqU6ctx\n",
       "TmbF4R3X9DBZVNlMppxxeVSOiOdhLqe5uDgmnbLNbe6foxri5jOPy2PIc9mQfiGHfXUJlunBSWzA\n",
       "uqnNuZWccUHWzvS1mOQPey31UrVp0VYAAAAASUVORK5CYII=\n",
       "\" style=\"display:inline;vertical-align:middle;\" /></a><br>(see <a class=\"ProveItLink\" href=\"../../../__pv_it/theorems/e2ee743e2daf5bee1b65c425d330847a8423d0cf0/dependencies.ipynb\">dependencies</a>)<br>"
      ],
      "text/plain": [
       "<IPython.core.display.HTML object>"
      ]
     },
     "metadata": {},
     "output_type": "display_data"
    }
   ],
   "source": [
    "%proving left_mult_eq_int"
   ]
  },
  {
   "cell_type": "code",
   "execution_count": null,
   "metadata": {},
   "outputs": [],
   "source": []
  }
 ],
 "metadata": {
  "kernelspec": {
   "display_name": "Python 3",
   "language": "python",
   "name": "python3"
  }
 },
 "nbformat": 4,
 "nbformat_minor": 0
}