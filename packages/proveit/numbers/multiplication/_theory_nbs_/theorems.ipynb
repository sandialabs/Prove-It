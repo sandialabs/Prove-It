{
 "cells": [
  {
   "cell_type": "markdown",
   "metadata": {},
   "source": [
    "Theorems (or conjectures) for the theory of <a class=\"ProveItLink\" href=\"theory.ipynb\">proveit.numbers.multiplication</a>\n",
    "========"
   ]
  },
  {
   "cell_type": "code",
   "execution_count": null,
   "metadata": {},
   "outputs": [],
   "source": [
    "import proveit\n",
    "## 72 spaces ===========================================================\n",
    "\n",
    "# Prepare this notebook for defining the theorems of a theory:\n",
    "%theorems_notebook # Keep this at the top following 'import proveit'.\n",
    "theory = proveit.Theory('.') # adds theory root to sys.path if necessary\n",
    "from proveit import ExprRange, IndexedVar\n",
    "\n",
    "from proveit import a, b, c, d, i, j, k, n, x, y, P, Q, S\n",
    "from proveit.core_expr_types import (\n",
    "    a_1_to_i, a_1_to_n, b_1_to_j, c_1_to_j, c_1_to_k, d_1_to_k)\n",
    "\n",
    "from proveit.logic import Forall, Set, InSet, Equals, NotEquals, Implies, Boolean\n",
    "from proveit.numbers import (Natural, NaturalPos, Integer, Real, \n",
    "                            RealNonNeg, RealPos, Complex, ComplexNonZero)\n",
    "from proveit.numbers import (Mult, Neg, Add, subtract, Sum, num, zero, one, two, Exp,\n",
    "                            Less, LessEq, greater, greater_eq)\n",
    "from proveit._core_.expression.operation import Function"
   ]
  },
  {
   "cell_type": "code",
   "execution_count": null,
   "metadata": {},
   "outputs": [],
   "source": [
    "%begin theorems"
   ]
  },
  {
   "cell_type": "code",
   "execution_count": null,
   "metadata": {},
   "outputs": [],
   "source": [
    "mult_def_rev = \\\n",
    "    Forall((n, x), Forall(a_1_to_n, \n",
    "                          Equals(Add(a_1_to_n), Mult(n, x)),\n",
    "                          domain=Set(x)),\n",
    "           domains=(Natural, Complex))"
   ]
  },
  {
   "cell_type": "code",
   "execution_count": null,
   "metadata": {},
   "outputs": [],
   "source": [
    "repeated_addition_to_mult = Forall((n, x), Equals(Add(ExprRange(k, x, one, n)), \n",
    "                                                  Mult(n, x)),\n",
    "                                   domains=(Natural, Complex))"
   ]
  },
  {
   "cell_type": "code",
   "execution_count": null,
   "metadata": {},
   "outputs": [],
   "source": [
    "mult_nat_closure_bin = Forall((a, b), InSet(Mult(a, b), Natural), domain=Natural)"
   ]
  },
  {
   "cell_type": "code",
   "execution_count": null,
   "metadata": {},
   "outputs": [],
   "source": [
    "mult_nat_closure = \\\n",
    "    Forall(n, Forall(a_1_to_n, InSet(Mult(a_1_to_n), Natural), \n",
    "                     domain=Natural), \n",
    "           domain=Natural)"
   ]
  },
  {
   "cell_type": "code",
   "execution_count": null,
   "metadata": {},
   "outputs": [],
   "source": [
    "mult_nat_pos_closure_bin = Forall((a, b), InSet(Mult(a, b), NaturalPos), domain=NaturalPos)"
   ]
  },
  {
   "cell_type": "code",
   "execution_count": null,
   "metadata": {},
   "outputs": [],
   "source": [
    "mult_nat_pos_closure = \\\n",
    "    Forall(n, Forall(a_1_to_n, \n",
    "                     InSet(Mult(a_1_to_n), NaturalPos), \n",
    "                     domain=NaturalPos), \n",
    "           domain=Natural)"
   ]
  },
  {
   "cell_type": "code",
   "execution_count": null,
   "metadata": {},
   "outputs": [],
   "source": [
    "mult_int_closure_bin = Forall((a, b), InSet(Mult(a, b), Integer), domain=Integer)"
   ]
  },
  {
   "cell_type": "code",
   "execution_count": null,
   "metadata": {},
   "outputs": [],
   "source": [
    "mult_int_closure = \\\n",
    "    Forall(n, Forall(a_1_to_n, InSet(Mult(a_1_to_n), Integer), \n",
    "                     domain=Integer), \n",
    "           domain=Natural)"
   ]
  },
  {
   "cell_type": "code",
   "execution_count": null,
   "metadata": {},
   "outputs": [],
   "source": [
    "mult_real_closure_bin = Forall((a, b), InSet(Mult(a, b), Real), domain=Real)"
   ]
  },
  {
   "cell_type": "code",
   "execution_count": null,
   "metadata": {},
   "outputs": [],
   "source": [
    "mult_real_closure = \\\n",
    "    Forall(n, Forall(a_1_to_n, \n",
    "                     InSet(Mult(a_1_to_n), Real), \n",
    "                     domain=Real), \n",
    "           domain=Natural)"
   ]
  },
  {
   "cell_type": "code",
   "execution_count": null,
   "metadata": {},
   "outputs": [],
   "source": [
    "mult_real_pos_closure_bin = Forall((a, b), InSet(Mult(a, b), RealPos), domain=RealPos)"
   ]
  },
  {
   "cell_type": "code",
   "execution_count": null,
   "metadata": {},
   "outputs": [],
   "source": [
    "mult_real_pos_closure = \\\n",
    "    Forall(n, Forall(a_1_to_n, InSet(Mult(a_1_to_n), RealPos), \n",
    "                     domain=RealPos), \n",
    "           domain=Natural)"
   ]
  },
  {
   "cell_type": "code",
   "execution_count": null,
   "metadata": {},
   "outputs": [],
   "source": [
    "mult_real_non_neg_closure_bin = Forall((a, b), InSet(Mult(a, b), RealNonNeg), domain=RealNonNeg)"
   ]
  },
  {
   "cell_type": "code",
   "execution_count": null,
   "metadata": {},
   "outputs": [],
   "source": [
    "mult_real_non_neg_closure = Forall(n, Forall(a_1_to_n, InSet(Mult(a_1_to_n), RealNonNeg), \n",
    "                                         domain=RealNonNeg), \n",
    "                               domain=Natural)"
   ]
  },
  {
   "cell_type": "code",
   "execution_count": null,
   "metadata": {},
   "outputs": [],
   "source": [
    "mult_complex_closure_bin = Forall((a, b), InSet(Mult(a, b), Complex), domain=Complex)"
   ]
  },
  {
   "cell_type": "code",
   "execution_count": null,
   "metadata": {},
   "outputs": [],
   "source": [
    "mult_complex_closure = \\\n",
    "    Forall(n, Forall(a_1_to_n, InSet(Mult(a_1_to_n),Complex), \n",
    "                     domain=Complex), \n",
    "           domain=Natural)"
   ]
  },
  {
   "cell_type": "code",
   "execution_count": null,
   "metadata": {},
   "outputs": [],
   "source": [
    "mult_not_eq_zero = \\\n",
    "    Forall(n, Forall(a_1_to_n, \n",
    "                     NotEquals(Mult(a_1_to_n), zero), \n",
    "                     domain=ComplexNonZero), \n",
    "           domain=Natural)"
   ]
  },
  {
   "cell_type": "code",
   "execution_count": null,
   "metadata": {},
   "outputs": [],
   "source": [
    "elim_one_left = Forall(x, Equals(Mult(one, x), x), domain=Complex)"
   ]
  },
  {
   "cell_type": "code",
   "execution_count": null,
   "metadata": {},
   "outputs": [],
   "source": [
    "elim_one_right = Forall(x, Equals(Mult(x, one), x), domain=Complex)"
   ]
  },
  {
   "cell_type": "code",
   "execution_count": null,
   "metadata": {},
   "outputs": [],
   "source": [
    "elim_one_any = \\\n",
    "    Forall((i, j), \n",
    "           Forall((a_1_to_i, b_1_to_j), \n",
    "                  Equals(Mult(a_1_to_i, one, b_1_to_j), \n",
    "                         Mult(a_1_to_i, b_1_to_j)), \n",
    "                  domain=Complex),\n",
    "           domain=Natural)"
   ]
  },
  {
   "cell_type": "code",
   "execution_count": null,
   "metadata": {},
   "outputs": [],
   "source": [
    "mult_zero_left = Forall(x, Equals(Mult(zero, x), zero), domain=Complex)"
   ]
  },
  {
   "cell_type": "code",
   "execution_count": null,
   "metadata": {},
   "outputs": [],
   "source": [
    "mult_zero_right = Forall(x, Equals(Mult(x, zero), zero), domain=Complex)"
   ]
  },
  {
   "cell_type": "code",
   "execution_count": null,
   "metadata": {},
   "outputs": [],
   "source": [
    "mult_zero_any = \\\n",
    "    Forall((i, j), \n",
    "           Forall((a_1_to_i, b_1_to_j), \n",
    "                  Equals(Mult(a_1_to_i, zero, b_1_to_j), zero), \n",
    "                  domain=Complex),\n",
    "           domain=Natural)"
   ]
  },
  {
   "cell_type": "code",
   "execution_count": null,
   "metadata": {},
   "outputs": [],
   "source": [
    "mult_neg_left = Forall((x, y), Equals(Mult(Neg(x), y), Neg(Mult(x, y))), domain=Complex)"
   ]
  },
  {
   "cell_type": "code",
   "execution_count": null,
   "metadata": {},
   "outputs": [],
   "source": [
    "mult_neg_right = Forall((x, y), Equals(Mult(x, Neg(y)), Neg(Mult(x, y))), domain=Complex)"
   ]
  },
  {
   "cell_type": "code",
   "execution_count": null,
   "metadata": {},
   "outputs": [],
   "source": [
    "mult_neg_left_double = Forall((x, y), Equals(Neg(Mult(Neg(x), y)), Mult(x, y)), domain=Complex)"
   ]
  },
  {
   "cell_type": "code",
   "execution_count": null,
   "metadata": {},
   "outputs": [],
   "source": [
    "mult_neg_right_double = Forall((x, y), Equals(Neg(Mult(x, Neg(y))), Mult(x, y)), domain=Complex)"
   ]
  },
  {
   "cell_type": "markdown",
   "metadata": {},
   "source": [
    "### Theorems for the NumberRelation class"
   ]
  },
  {
   "cell_type": "code",
   "execution_count": null,
   "metadata": {},
   "outputs": [],
   "source": [
    "left_mult_eq = Forall((a, x, y), Equals(Mult(a, x), Mult(a, y)), condition=Equals(x, y), domain=Complex)"
   ]
  },
  {
   "cell_type": "code",
   "execution_count": null,
   "metadata": {},
   "outputs": [],
   "source": [
    "right_mult_eq = Forall((a, x, y), Equals(Mult(x, a), Mult(y, a)), condition=Equals(x, y), domain=Complex)"
   ]
  },
  {
   "cell_type": "markdown",
   "metadata": {},
   "source": [
    "Note: proving left_mult_neq and right_mult_neq for the complex domain is a bit more challenging than just real numbers, but should still be applicable.  Using a polar coordinate representations, such as $r \\textrm{exp}(i \\theta)$, makes it more clear.  Suppose $x = x_r \\textrm{exp}(x_{\\theta})$ and $y = y_r \\textrm{exp}(y_{\\theta})$; if $x \\neq y$, either $x_r \\neq y_r$ or $x_{\\theta} \\neq y_{\\theta}$ (or both), so either the length or angle (or both) will differ on either side. "
   ]
  },
  {
   "cell_type": "code",
   "execution_count": null,
   "metadata": {},
   "outputs": [],
   "source": [
    "left_mult_neq = Forall((a, x, y), NotEquals(Mult(a, x), Mult(a, y)),\n",
    "                       conditions=[NotEquals(x, y), NotEquals(a, zero)], domain=Complex)"
   ]
  },
  {
   "cell_type": "code",
   "execution_count": null,
   "metadata": {},
   "outputs": [],
   "source": [
    "right_mult_neq = Forall((a, x, y), NotEquals(Mult(x, a), Mult(y, a)), \n",
    "                        conditions=[NotEquals(x, y), NotEquals(a, zero)], domain=Complex)"
   ]
  },
  {
   "cell_type": "code",
   "execution_count": null,
   "metadata": {},
   "outputs": [],
   "source": [
    "left_mult_pos_less = Forall((a, x, y), Less(Mult(a, x), Mult(a, y)), conditions=[Less(x, y), greater(a, zero)], \n",
    "                        domain=Real)"
   ]
  },
  {
   "cell_type": "code",
   "execution_count": null,
   "metadata": {},
   "outputs": [],
   "source": [
    "left_mult_nonneg_less = Forall((a, x, y), LessEq(Mult(a, x), Mult(a, y)), \n",
    "                               conditions=[Less(x, y), greater_eq(a, zero)], domain=Real)"
   ]
  },
  {
   "cell_type": "code",
   "execution_count": null,
   "metadata": {},
   "outputs": [],
   "source": [
    "right_mult_pos_less = Forall((a, x, y), Less(Mult(x, a), Mult(y, a)), \n",
    "                             conditions=[Less(x, y), greater(a, zero)], domain=Real)"
   ]
  },
  {
   "cell_type": "code",
   "execution_count": null,
   "metadata": {},
   "outputs": [],
   "source": [
    "right_mult_nonneg_less = Forall((a, x, y), LessEq(Mult(x, a), Mult(y, a)), \n",
    "                                conditions=[Less(x, y), greater_eq(a, zero)], domain=Real)"
   ]
  },
  {
   "cell_type": "code",
   "execution_count": null,
   "metadata": {},
   "outputs": [],
   "source": [
    "left_mult_pos_lesseq = Forall((a, x, y), LessEq(Mult(a, x), Mult(a, y)), \n",
    "                              conditions=[LessEq(x, y), greater_eq(a, zero)], domain=Real)"
   ]
  },
  {
   "cell_type": "code",
   "execution_count": null,
   "metadata": {},
   "outputs": [],
   "source": [
    "right_mult_pos_lesseq = Forall((a, x, y), LessEq(Mult(x, a), Mult(y, a)), conditions=[LessEq(x, y), greater_eq(a, zero)], \n",
    "                               domain=Real)"
   ]
  },
  {
   "cell_type": "code",
   "execution_count": null,
   "metadata": {},
   "outputs": [],
   "source": [
    "left_mult_neg_less = Forall((a, x, y), greater(Mult(a, x), Mult(a, y)), \n",
    "                            conditions=[Less(x, y), Less(a, zero)], domain=Real)"
   ]
  },
  {
   "cell_type": "code",
   "execution_count": null,
   "metadata": {},
   "outputs": [],
   "source": [
    "left_mult_nonpos_less = Forall((a, x, y), greater_eq(Mult(a, x), Mult(a, y)), \n",
    "                               conditions=[Less(x, y), LessEq(a, zero)], domain=Real)"
   ]
  },
  {
   "cell_type": "code",
   "execution_count": null,
   "metadata": {},
   "outputs": [],
   "source": [
    "right_mult_neg_less = Forall((a, x, y), greater(Mult(x, a), Mult(y, a)), \n",
    "                             conditions=[Less(x, y), Less(a, zero)], domain=Real)"
   ]
  },
  {
   "cell_type": "code",
   "execution_count": null,
   "metadata": {},
   "outputs": [],
   "source": [
    "right_mult_nonpos_less = Forall((a, x, y), greater_eq(Mult(x, a), Mult(y, a)), \n",
    "                                conditions=[Less(x, y), LessEq(a, zero)], domain=Real)"
   ]
  },
  {
   "cell_type": "code",
   "execution_count": null,
   "metadata": {},
   "outputs": [],
   "source": [
    "left_mult_neg_lesseq = Forall((a, x, y), greater_eq(Mult(a, x), Mult(a, y)), \n",
    "                              conditions=[LessEq(x, y), LessEq(a, zero)], domain=Real)"
   ]
  },
  {
   "cell_type": "code",
   "execution_count": null,
   "metadata": {},
   "outputs": [],
   "source": [
    "right_mult_neg_lesseq = Forall((a, x, y), greater_eq(Mult(x, a), Mult(y, a)), \n",
    "                               conditions=[LessEq(x, y), LessEq(a, zero)], domain=Real)"
   ]
  },
  {
   "cell_type": "code",
   "execution_count": null,
   "metadata": {},
   "outputs": [],
   "source": [
    "mult_neg_any = \\\n",
    "    Forall((i, j), \n",
    "           Forall((a_1_to_i, b, c_1_to_j), \n",
    "                  Equals(Mult(a_1_to_i, Neg(b), c_1_to_j), \n",
    "                         Neg(Mult(a_1_to_i, b, c_1_to_j))), \n",
    "                  domain=Complex),\n",
    "           domain=Natural)"
   ]
  },
  {
   "cell_type": "code",
   "execution_count": null,
   "metadata": {},
   "outputs": [],
   "source": [
    "mult_neg_any_double = \\\n",
    "    Forall((i, j), \n",
    "           Forall((a_1_to_i, b, c_1_to_j), \n",
    "                  Equals(Neg(Mult(a_1_to_i, Neg(b), c_1_to_j)), \n",
    "                         Mult(a_1_to_i, b, c_1_to_j)), \n",
    "                  domain=Complex),\n",
    "           domain=Natural)"
   ]
  },
  {
   "cell_type": "code",
   "execution_count": null,
   "metadata": {},
   "outputs": [],
   "source": [
    "distribute_through_sum =  \\\n",
    "    Forall((i,j,k),\n",
    "           Forall((a_1_to_i, b_1_to_j, c_1_to_k),\n",
    "                  Equals(\n",
    "                        Mult(a_1_to_i, Add(b_1_to_j), c_1_to_k),\n",
    "                        Add(ExprRange(n,Mult(a_1_to_i, \n",
    "                                             IndexedVar(b, n), \n",
    "                                             c_1_to_k), \n",
    "                                 one, j))).with_wrapping_at(2),\n",
    "                  domain=Complex),\n",
    "           domain=Natural)"
   ]
  },
  {
   "cell_type": "code",
   "execution_count": null,
   "metadata": {},
   "outputs": [],
   "source": [
    "distribute_through_subtract =  \\\n",
    "    Forall((i,j),\n",
    "           Forall((a_1_to_i, x, y, b_1_to_j),\n",
    "                  Equals(\n",
    "                        Mult(a_1_to_i, subtract(x, y), b_1_to_j),\n",
    "                        subtract(Mult(a_1_to_i, x, b_1_to_j),\n",
    "                                 Mult(a_1_to_i, y, b_1_to_j)))\\\n",
    "                  .with_wrapping_at(2), \n",
    "                  domain=Complex),\n",
    "           domain=Natural)"
   ]
  },
  {
   "cell_type": "code",
   "execution_count": null,
   "metadata": {},
   "outputs": [],
   "source": [
    "distribute_through_summation = \\\n",
    "    Forall((i,j,k), \n",
    "           Forall((P, Q),\n",
    "                  Implies(Forall(b_1_to_j, \n",
    "                                 InSet(Function(P, b_1_to_j), Complex), \n",
    "                                 condition=Function(Q, b_1_to_j)),\n",
    "                          Forall((a_1_to_i, c_1_to_k),\n",
    "                                 Equals(Mult(a_1_to_i, \n",
    "                                             Sum(b_1_to_j, \n",
    "                                                 Function(P, b_1_to_j), \n",
    "                                                 condition=Function(Q, b_1_to_j)), \n",
    "                                             c_1_to_k),\n",
    "                                        Sum(b_1_to_j, \n",
    "                                            Mult(a_1_to_i,\n",
    "                                                 Function(P, b_1_to_j), \n",
    "                                                 c_1_to_k), \n",
    "                                            condition=Function(Q, b_1_to_j)))\\\n",
    "                                 .with_wrapping_at(2),\n",
    "                                 domain=Complex))), \n",
    "           domain=Natural)"
   ]
  },
  {
   "cell_type": "code",
   "execution_count": null,
   "metadata": {},
   "outputs": [],
   "source": [
    "commutation = Forall((a, b), Equals(Mult(a, b), Mult(b, a)), domain=Complex)"
   ]
  },
  {
   "cell_type": "code",
   "execution_count": null,
   "metadata": {},
   "outputs": [],
   "source": [
    "rightward_commutation = \\\n",
    "    Forall((i,j,k),\n",
    "           Forall((a_1_to_i,b,c_1_to_j,d_1_to_k), \n",
    "                  Equals(Mult(a_1_to_i, b, c_1_to_j, d_1_to_k), \n",
    "                         Mult(a_1_to_i, c_1_to_j, b, d_1_to_k)) \\\n",
    "                  .with_wrapping_at(2), \n",
    "                  domain=Complex),\n",
    "           domain=Natural)"
   ]
  },
  {
   "cell_type": "code",
   "execution_count": null,
   "metadata": {},
   "outputs": [],
   "source": [
    "leftward_commutation = \\\n",
    "    Forall((i,j,k),\n",
    "           Forall((a_1_to_i,b_1_to_j,c,d_1_to_k), \n",
    "                  Equals(Mult(a_1_to_i, b_1_to_j, c, d_1_to_k), \n",
    "                         Mult(a_1_to_i, c, b_1_to_j, d_1_to_k)) \\\n",
    "                  .with_wrapping_at(2), \n",
    "                  domain=Complex), \n",
    "           domain=Natural)"
   ]
  },
  {
   "cell_type": "code",
   "execution_count": null,
   "metadata": {},
   "outputs": [],
   "source": [
    "association = \\\n",
    "    Forall((i,j,k), \n",
    "           Forall((a_1_to_i,b_1_to_j,c_1_to_k), \n",
    "                  Equals(Mult(a_1_to_i, b_1_to_j, c_1_to_k), \n",
    "                         Mult(a_1_to_i, Mult(b_1_to_j), c_1_to_k)) \\\n",
    "                  .with_wrapping_at(2),\n",
    "                  domain=Complex),\n",
    "           domain=Natural)"
   ]
  },
  {
   "cell_type": "code",
   "execution_count": null,
   "metadata": {},
   "outputs": [],
   "source": [
    "disassociation = \\\n",
    "    Forall((i,j,k), \n",
    "           Forall((a_1_to_i,b_1_to_j,c_1_to_k), \n",
    "                  Equals(Mult(a_1_to_i, Mult(b_1_to_j), c_1_to_k),\n",
    "                         Mult(a_1_to_i, b_1_to_j, c_1_to_k)) \\\n",
    "                  .with_wrapping_at(2),\n",
    "                  domain=Complex),\n",
    "           domain=Natural)"
   ]
  },
  {
   "cell_type": "code",
   "execution_count": null,
   "metadata": {},
   "outputs": [],
   "source": [
    "%end theorems"
   ]
  }
 ],
 "metadata": {
  "kernelspec": {
   "display_name": "Python 3",
   "language": "python",
   "name": "python3"
  }
 },
 "nbformat": 4,
 "nbformat_minor": 0
}
