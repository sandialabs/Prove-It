{
 "cells": [
  {
   "cell_type": "markdown",
   "metadata": {},
   "source": [
    "Theorems (or conjectures) for the theory of <a class=\"ProveItLink\" href=\"theory.ipynb\">proveit.numbers.multiplication</a>\n",
    "========"
   ]
  },
  {
   "cell_type": "code",
   "execution_count": 1,
   "metadata": {},
   "outputs": [],
   "source": [
    "import proveit\n",
    "## 72 spaces ===========================================================\n",
    "\n",
    "# Prepare this notebook for defining the theorems of a theory:\n",
    "%theorems_notebook # Keep this at the top following 'import proveit'.\n",
    "theory = proveit.Theory('.') # adds theory root to sys.path if necessary\n",
    "from proveit import ExprTuple, ExprRange, IndexedVar\n",
    "\n",
    "from proveit import a, b, c, d, f, i, j, k, n, x, y, Q, S\n",
    "from proveit.core_expr_types import (\n",
    "    a_1_to_i, a_1_to_n, b_1_to_j, c_1_to_j, c_1_to_k, d_1_to_k)\n",
    "\n",
    "from proveit.logic import Or, Forall, Set, InSet, Equals, NotEquals, Implies, Boolean\n",
    "from proveit.numbers import (ZeroSet, Natural, NaturalPos, Integer, IntegerNonZero, IntegerNeg, IntegerNonPos,\n",
    "                             Rational, RationalPos, RationalNeg, RationalNonNeg, RationalNonPos, RationalNonZero,\n",
    "                             Real, RealPos, RealNeg, RealNonNeg, RealNonPos, RealNonZero,\n",
    "                             Complex, ComplexNonZero)\n",
    "from proveit.numbers import (Mult, Neg, Add, subtract, Abs, Sum, num, zero, one, two, Exp,\n",
    "                            Less, LessEq, greater, greater_eq)\n",
    "from proveit.numbers.summation import summation_b1toj_fQ\n",
    "from proveit._core_.expression.operation import Function"
   ]
  },
  {
   "cell_type": "code",
   "execution_count": 2,
   "metadata": {},
   "outputs": [
    {
     "name": "stdout",
     "output_type": "stream",
     "text": [
      "Defining theorems for theory 'proveit.numbers.multiplication'\n",
      "Subsequent end-of-cell assignments will define theorems\n",
      "'%end theorems' will finalize the definitions\n"
     ]
    }
   ],
   "source": [
    "%begin theorems"
   ]
  },
  {
   "cell_type": "code",
   "execution_count": 3,
   "metadata": {},
   "outputs": [
    {
     "data": {
      "text/html": [
       "<strong id=\"unary_mult_reduction\"><a class=\"ProveItLink\" href=\"proofs/unary_mult_reduction/thm_proof.ipynb\">unary_mult_reduction</a> (conjecture without proof):<br></strong> <a class=\"ProveItLink\" href=\"../__pv_it/theorems/4b0b2d83883c6dc174f7c556b84c3e883451c4ac0/theorem_expr.ipynb\"><img src=\"data:image/png;base64,iVBORw0KGgoAAAANSUhEUgAAAIUAAAAVBAMAAACakjBMAAAAMFBMVEX///8AAAAAAAAAAAAAAAAA\n",
       "AAAAAAAAAAAAAAAAAAAAAAAAAAAAAAAAAAAAAAAAAAAv3aB7AAAAD3RSTlMAq1RmmUTNIjK7EInv\n",
       "3XZ/CtNrAAAACXBIWXMAAA7EAAAOxAGVKw4bAAACB0lEQVQ4y3WUTShEURTH/2befLw3H1nZqGlK\n",
       "sfDRLKRYMCWlJMpWmrJQVm+WCrGyktkpizE2StT4SGxIaRJSElGaerGgpKRQFnLu+5p7n+vU3Hfn\n",
       "nPd+957zP/cCf03H6x09zAEIgX9IXpZZPIldc2KND5Y3YMgZI/SrZpM63tsInuHbtN2PckY8BfSw\n",
       "yRjn1DICY9XxBwtyyDgwy3LNcT4lJTC6Hb8/LWe0WvhIkvNFITCO3MCZnBEtwE/LBnlfvcDwZdzA\n",
       "qJwRJMBFuXzO+/oEhsJKmj2cpnHL+3Wo9onEipAqvcASHxkVGGyVwAmWKeM2s1pl00w1h3X1m+pE\n",
       "O80iVM0zrgRGjEq1kUI/TZs829COoVxStlQxtRAZ5EMl82vt02JEKTYA3NN0wcNQ3hCjTMNvxDGE\n",
       "ktoMXFcYp9A+2Na9guRQpGiAKZfppGG9c++/XLQf+GktNHvqUTTQxZSjfLBNnabdhr9sRl5gqAa0\n",
       "d1RlGoB2zz6KSdT4dPhZg04SVEmHnWbaEhhMuTya02lLdN5Uw3et2OpXzbC044448wIjTDtdeZlL\n",
       "0Ds3Xl0S+9lnytZRpKirHfaZis0IvX7ndtSlvE+n3BrrC0OFytniGK38WZSZeygD3S07znxRYKjO\n",
       "RTUhRwhn3rU1gaHlKmiZqdLLMGTgwLxPS+bfafu+kl+ceAJ+AfxSjNYY8rfVAAAAAElFTkSuQmCC\n",
       "\" style=\"display:inline;vertical-align:middle;\" /></a><br>"
      ],
      "text/plain": [
       "<IPython.core.display.HTML object>"
      ]
     },
     "metadata": {},
     "output_type": "display_data"
    }
   ],
   "source": [
    "unary_mult_reduction = Forall(a, Equals(Mult(a), a))"
   ]
  },
  {
   "cell_type": "code",
   "execution_count": 4,
   "metadata": {},
   "outputs": [
    {
     "data": {
      "text/html": [
       "<strong id=\"mult_def_rev\"><a class=\"ProveItLink\" href=\"proofs/mult_def_rev/thm_proof.ipynb\">mult_def_rev</a> (conjecture without proof):<br></strong> <a class=\"ProveItLink\" href=\"../__pv_it/theorems/6727f4ae0b780714aa7b16bba50900109d1990a30/theorem_expr.ipynb\"><img src=\"data:image/png;base64,iVBORw0KGgoAAAANSUhEUgAAAg4AAAAZBAMAAACr2bsAAAAAMFBMVEX///8AAAAAAAAAAAAAAAAA\n",
       "AAAAAAAAAAAAAAAAAAAAAAAAAAAAAAAAAAAAAAAAAAAv3aB7AAAAD3RSTlMAq1RmmUTNIjK7EInv\n",
       "3XZ/CtNrAAAACXBIWXMAAA7EAAAOxAGVKw4bAAAF1klEQVRYw91Za2gcVRQ+Ozu7Mzv7yP6StmpY\n",
       "EdOAJl2yTdEoupCEFrS6Pn6IrXXRH1pBmfxMrem2+Cga21QbdCvE0YgYtybbpi0+MESDxFdxlShV\n",
       "u7CxsTFGQhCiEtF47mNmZ2dny46stPTCt3Nz58yZO98959xzbgCctcvzKlx0LZT/2ukjSbgoW+y8\n",
       "8iBx1LjZqlQrDarnn4cfOWrcPAUb04/YSW7jQB7C5HKlAx5c5CJEazBfIctQ83amfOhq+8AQZUAe\n",
       "OsnfDzrgQUzgxVuLaPkGR82bV7OOKBXs+GGOGOwmDtXngAeZWFB3LabbzmGxantTu7OSFpsb7rh1\n",
       "RKxgv+s5YpQ7f8RJfCD8Ha0FD+McFm8p2Ao3V9Jid+Mz60CgwsMBjSEGbmTK6yhOxmoULoUkw//A\n",
       "wwPWgYZKHhRlwG86mc9/7oiHQD5/uhbRTcwyQNdYjw0P0qWzBSc8mOWPWIVuRgxPv/m+Yfjb1jw2\n",
       "h+L+MAPysAngkCMexBT4NMdf7R6lF/mYZl0LzyS8opXzsFX1LTvhwSy/gfKcpy2sG0g8VC/mdIns\n",
       "gYLyB84qyYA8dIEUNichU8fhhnDp7nKwvsfEA4p3OV/9Xn71G7qDEYbDUdgMMJgs5UGZAJx15sia\n",
       "Knlg8rxdYxXCvNmtupdderj0JL4D6U982TgD8uDT/AldfN/qfrjCr4nG8sjT6YRyQBVeNudRh+C4\n",
       "IwqIVsNDixEhkGC4DeAHkBdyfA1Pn6RrKC5CMAtxQhHA5nz+i3z+q3LVxRtMnrf9VrmP8VNApK9W\n",
       "fic/yhIIaD7yIkOM8G+ESXETyakKcb/xfEcKV3AY4HozD83OwiTVeg4ePgWcFAi5UnsI9MFIApZg\n",
       "V6o6e2Dyuo/Y8IAiTPMUfcsiuHAmnnEGGvtvRKNp3zfD87DGq3ooDwsbZ1Saaw0+aUrZyVd43ahQ\n",
       "GZ3XcylT15S5GINn9IgdmunZaOKB+4XyD7gXy3kYKcBNAG1V88Dk11+7QHKHJmt8oPXkfapiGDqS\n",
       "UBfV6FsJCA9HMSEY3BoNqApNpxr9r20hQUFd7Y0MkYG1ay31hb8B1b2t7tc/3tQtNmOQaSWha9bV\n",
       "dz94DCf2FSiU33BSa8t5iMAlAmr4oMr4QOV3tE7AJP5xnVVoAGAocRkUDT2QhXVaFtw4OQLCw05k\n",
       "bMdZqNNYJtcI8TkS32FAZrlaW5uFB+lD4jEk8nVTfknX09xZ+uYOPTIyrfJDAFFfARf3Uc0UMQkG\n",
       "oCkeL+PBVxCmRHzue0s4JN49ktR/ijeovDSchGW+TZY03EjXPXML3GEMoJmddaeMvZvw4CKWV48+\n",
       "5d6eTj+PPGRYwMBtZUM6nY7svdtab66iHjcNcpMGvBuAEatHTvMNk2rdTeJ+HbGQBn2Xl3MMr84/\n",
       "XZ8q40Gpf6frZ51pkz0Q7w7G9R8TQVTeVSDeDt9YeXgO4PUFob2YN9+L721BJQkGo+7+BDpkOcvs\n",
       "wUNVy+MSPEvXDeOkYq27cfN94S0IanpXMjZG0313Z0sWmFbKSi8W+1Ixkz7FwT4/Z5dPSnFJdZJP\n",
       "BlJiPAVSzioUTNk//DiHzoO0CKcaWT7VSuacgZ3+pMjyJemYCmNl5w+T8lIb4UHJsi70k27G+CGD\n",
       "whzk9CytARk4gfugKZPWi5xSHkrqrO69T2hO6qxdENyTsqmqyiuv0lJP58EThvkodCNr8rcquKA3\n",
       "Iv409gtIL5Gbme0HU2U83NWCDyAP8kesi1kmdntVeZL88MFVEsp3p/h+ceuWBc3Mg09loAtx4i+7\n",
       "uuLLlRVHqcrtEBq1rYZftD+56uPFdul5lPJuup93uSdl0unEOc6jiF8IrPteyOiC0cuFWjWutTx/\n",
       "oDuJ0ge1bzYfPWQraKxEpXM5j1bNuZz8K9bf97BiYeVvvUsa6ylhYdQUmKw8QA9HrY+fbQ6JJNsq\n",
       "dpajIg/u6s8no3bd8mMPL5/IUxG4AJvjc9pH/vP/L/awdUldgCyE8hP/AqP2szWxrJHrAAAAAElF\n",
       "TkSuQmCC\n",
       "\" style=\"display:inline;vertical-align:middle;\" /></a><br>"
      ],
      "text/plain": [
       "<IPython.core.display.HTML object>"
      ]
     },
     "metadata": {},
     "output_type": "display_data"
    }
   ],
   "source": [
    "mult_def_rev = \\\n",
    "    Forall((n, x), Forall(a_1_to_n, \n",
    "                          Equals(Add(a_1_to_n), Mult(x, n)),\n",
    "                          domain=Set(x)),\n",
    "           domains=(Natural, Complex))"
   ]
  },
  {
   "cell_type": "code",
   "execution_count": 5,
   "metadata": {},
   "outputs": [
    {
     "data": {
      "text/html": [
       "<strong id=\"repeated_addition_to_mult\"><a class=\"ProveItLink\" href=\"proofs/repeated_addition_to_mult/thm_proof.ipynb\">repeated_addition_to_mult</a> (conjecture without proof):<br></strong> <a class=\"ProveItLink\" href=\"../__pv_it/theorems/343135257455eaebf5260eac29fddfff841161da0/theorem_expr.ipynb\"><img src=\"data:image/png;base64,iVBORw0KGgoAAAANSUhEUgAAAbAAAAAWBAMAAABTUtReAAAAMFBMVEX///8AAAAAAAAAAAAAAAAA\n",
       "AAAAAAAAAAAAAAAAAAAAAAAAAAAAAAAAAAAAAAAAAAAv3aB7AAAAD3RSTlMAq1RmmUTNIjK7EInv\n",
       "3XZ/CtNrAAAACXBIWXMAAA7EAAAOxAGVKw4bAAAEuUlEQVRYw9VYXWgcVRQ+uzOb2czsbhYKaouE\n",
       "FbUNVN2laNUqurBRC7WyqAXBWhf6IPVpfBFim7g+iGJtm0pDHIUw2lKNgWZb2gcRwr4EpD8Saysr\n",
       "uDCrtaUKIVS0JU+ec+duZu/8JHejL14yw50753znfmfOPedsALocJl7aapRCh/avIMz/bIMAmRze\n",
       "flmNUuhIOLIYu2Rhd3HYLD3cLb3HjXjFa10S2xi6uvf0GMCv0s4pSMIyQYR9ih5ek4XXK3g73iUv\n",
       "phRcLUI+Bz22LMrrcrCuIMK+QyE5KouukjtKwtILwfgqhCgFPXsDpiugFCNt+WAeDN1LyCBBhCWX\n",
       "GTlZYim61YWlBwJCcSdEKbjvWehDn5+NtOWDSdkgA8sFz4KCvHuko2o9Gax0SWx9FFoebe9ms9vx\n",
       "GloepqcAcrBMEGEvNJvnpIltoxDA3KHPr9t/SiR2ovXlN7lQYqiUaH0xMxH4Zj/g7SSbDldBa0QQ\n",
       "47aMbMhePKOUD9ftve5wQYTdCvCJNLHd3CMqtJztIrFipl+dCyWGSkZvP0z7yk6ydQfeN7v1rEHc\n",
       "wolxWwoFitpkI9vei2cUR+2wo9/kggj7BmidvtAunYHHRedkjvSP8OlFvNLooofhSXuNQEwxlcVY\n",
       "IZQYKu1Ij8Lb1UAoItJ97nT4vUZURHNb8ToEYDuMYgCUfwLtFhdE2F7bKLdlD64dg7sMW7U9r1pl\n",
       "/bAZ/5Q/z9LhRPEqPM2etzeb55vN70kSVHb20Kc/X+A+9ZTs6TLkCfU48zgnkVoEOMT92RRpd8Bw\n",
       "W8kFH7FZzyjlV9D1vyC+yAUPkWOWcoe6lYq1UzSWlAfRnHEC4DEfMYDvAskj5UQkD1LKA9zmi8Qq\n",
       "9N4A2BlOTIBhthL1ILElo2mqGvEFiFW4IMFWnsBvWjp4hbcBA/eOMGLzz1wxWRU/+q7XfLVDERI3\n",
       "4SsfsVdN3Y4KRWL1py6s9i0yYvevGIrcVnzOd8YuCkZxIKu+gu0KEuwpLNVHdxZSps7q9IDx+ct0\n",
       "sMy1PblJWtiwwTNGma3XAX0sVoeaQGyyfCcY4V+MlM5hlBhiucmyUHx0peTRtqX4u4gJwSgh1jDc\n",
       "a64gwe5D/m9dhT7bLfUDULxOyQAmkm5XsWWLB0bJGdNp/NaxeiInEMt/8Cw8LxLDwKfYJyU81JnK\n",
       "I8K+sIBSHdsmpnv9b/rrhGnbUv0d6knBKA7MTleVqitIsDFyVT9GpbLHsj5CYlPuocPMudmyrNz7\n",
       "L3lgB+hwzIH+nHPPJvGMHZuPl3IiMQx8FvuolECdNb7+5sVBbILhMptT4n+TzS6xv84vxm2lyz5i\n",
       "BwSjOF4B+GwTF7zcXvwWBpPJmvvFEmyvyboG+2lCyaN9PNLkhEaXnUe6Gl0YtTnZlmrY/z4KdrgT\n",
       "VluAxoBbqB8CaMEU7DMqKpYCenfahJl2/BQD7ejKTfAyjW5kJxuEKfnfR8GWOmETWfijAEPog+SP\n",
       "JsTgw5z628zvoH1ML6f2HFlyzjhlD7PL3y3j0a+GZDFCfoGMRwv6YPWvrTE+5ZE7ZVliaFOe1Ee7\n",
       "JDa5Ks7iCPHmZLRgJGwi6vefRoE/0iUxLfIfABnpj39NFvbasrAK/N/HPyHCVW+lU7MiAAAAAElF\n",
       "TkSuQmCC\n",
       "\" style=\"display:inline;vertical-align:middle;\" /></a><br>"
      ],
      "text/plain": [
       "<IPython.core.display.HTML object>"
      ]
     },
     "metadata": {},
     "output_type": "display_data"
    }
   ],
   "source": [
    "repeated_addition_to_mult = Forall((n, x), Equals(Add(ExprRange(k, x, one, n)), \n",
    "                                                  Mult(x, n)),\n",
    "                                   domains=(Natural, Complex))"
   ]
  },
  {
   "cell_type": "code",
   "execution_count": 6,
   "metadata": {},
   "outputs": [
    {
     "data": {
      "text/html": [
       "<strong id=\"mult_in_zero_set_bin\"><a class=\"ProveItLink\" href=\"proofs/mult_in_zero_set_bin/thm_proof.ipynb\">mult_in_zero_set_bin</a> (conjecture without proof):<br></strong> <a class=\"ProveItLink\" href=\"../__pv_it/theorems/50ae38265ec6a8295fc2b8ea1edee82cdfc608da0/theorem_expr.ipynb\"><img src=\"data:image/png;base64,iVBORw0KGgoAAAANSUhEUgAAAS0AAAAXBAMAAACsWwSiAAAAMFBMVEX///8AAAAAAAAAAAAAAAAA\n",
       "AAAAAAAAAAAAAAAAAAAAAAAAAAAAAAAAAAAAAAAAAAAv3aB7AAAAD3RSTlMAq1RmmUTNIjK7EInv\n",
       "3XZ/CtNrAAAACXBIWXMAAA7EAAAOxAGVKw4bAAAEAElEQVRIx71WXWgUVxQ+2b/Zmf3J4oMgARkR\n",
       "zINgtqBCU6tbUk1LwC4IokTMVilFn9Y++GKtW1CwNJIVFN1oywTxIUS62yr+IEowCAGxhCoIwsIE\n",
       "BLUtIiIKCqXn3HP3ztyZjS92+8HZO/d+58x+c8+5ZwagkyhLa7McwPkij98sEPKfImuzBbEz7PmV\n",
       "wxfJJQ7zOZot74yuldJ8sM7OoYp80LOPZF1/hBtl5pjfSMtfd0SWVWLTkCjgz96g6w1ibOsBQGqO\n",
       "+e9xMKod0RXLs2nopryubqfrY4BrUhfyCdzBlN0RXWlpGkYoY2lZTU+bzZLSdVykU+hCPooPlOhM\n",
       "ea2QFtoZSPAubv3Tv/oSYMxmXcTfbTbvdEbXkDSj57GrFr98tggTJE6bsdev1iJdedZF/GcA4++o\n",
       "ER4iwZaSVVdBymN2S9tRNt+os/DKqZchKrKX8CI3ocq3qMuF7DROid8HRq5FJ/eou59Y+h2NJk/X\n",
       "aH99/S+AQmuyxhelM3+wWTMQm1NP8QbSLkSmhS4VZsxIXQ0wXpAX8qaTKiqHHhI3Xytax8uRM54u\n",
       "K+eXFXXjVRgWW9klqJ4AI3GbLfYcMg2xVbT/JehuQPI58aNNBLUCYzEqsFDXCOZ7YhcIPuL6yn4W\n",
       "7dMKJvgXgI88XbGids4q8BrPcQSLc1hQswFG15WuQl3E30dDhSM2xMV+Tao7Hh7nuu/DxnAZfQVf\n",
       "Wo8/U+uv0Fb9M++IZnzuCD6FpyujPAiHHLhFvaVKlZnhKJ3R8lh3YYO/fX3hQGSudVcJ7BFQA9jg\n",
       "UKKB+d/wWFgPkq+pqh5mC+IpentlAOvaLz0+ryHyYw7cg0gB317xBlEUpTOMn9nqNixWh6O7guUG\n",
       "UdHIs67WPdaJ8k+Juif+W6yQWCFJczMfLW0hv/5+Tdd25UHAf/8dsJBMrE2iKEpnGL+ymW7kfqwl\n",
       "oCtvouxYQ0x2aboytjUr+73gu7Ce0sVsTtRHLLcWH9w+uk3TtUx5yGy9gGQVW/IwUxilM4xjbNbS\n",
       "q/ueqD7RM0ASuF4nTjo+XdbQfEXqyrTquV42+9GnG9L2jzSnurc8XT9ID86WqG7KVmlcUBQVYLgq\n",
       "K2xhHJTj8E++9xBD6DqoDlJ5bIszBRnnQ8oN1vylMtzU6l54yN7mxnOiOD5oCIqiAgx3jQJbGANt\n",
       "306eLsXHB1ZdhFE7udkF4zQtTO05UfF0mWX2aHXPRw4tiY6AI0UFGMYpaUGEv1/+9l4wpTDPB3yq\n",
       "VvPaFeuKN0L3bjWfMDWpXU220WWGPpQPqS+aC/kQH3fa3IKHwRAxGLoILxguWxCPwzv4iRR2YFGY\n",
       "j8KCulJByVG1pUEqWoT/AYYcg7os79JZkHkP/Av1AiXqF35b0wAAAABJRU5ErkJggg==\n",
       "\" style=\"display:inline;vertical-align:middle;\" /></a><br>"
      ],
      "text/plain": [
       "<IPython.core.display.HTML object>"
      ]
     },
     "metadata": {},
     "output_type": "display_data"
    }
   ],
   "source": [
    "mult_in_zero_set_bin = Forall((a, b), InSet(Mult(a, b), ZeroSet), domain=Complex,\n",
    "                              condition=Or(Equals(a, zero), Equals(b, zero)))"
   ]
  },
  {
   "cell_type": "code",
   "execution_count": 7,
   "metadata": {},
   "outputs": [
    {
     "data": {
      "text/html": [
       "<strong id=\"mult_in_zero_set\"><a class=\"ProveItLink\" href=\"proofs/mult_in_zero_set/thm_proof.ipynb\">mult_in_zero_set</a> (conjecture without proof):<br></strong> <a class=\"ProveItLink\" href=\"../__pv_it/theorems/f33fe9a25ef701bbd2097f6421271372df779bfd0/theorem_expr.ipynb\"><img src=\"data:image/png;base64,iVBORw0KGgoAAAANSUhEUgAAAoAAAAAZBAMAAABTFYKyAAAAMFBMVEX///8AAAAAAAAAAAAAAAAA\n",
       "AAAAAAAAAAAAAAAAAAAAAAAAAAAAAAAAAAAAAAAAAAAv3aB7AAAAD3RSTlMAq1RmmUTNIjK7EInv\n",
       "3XZ/CtNrAAAACXBIWXMAAA7EAAAOxAGVKw4bAAAGuElEQVRYw+1Zb2wURRR/vT/dvd27a/UDQkzI\n",
       "EVFqkHpyYJAYPANY/sRYgn6g5UMjIUY+6NUQTJXAQWKUBNpTQrQk6iJ+QcA72viHIg2BmKpE02AB\n",
       "/+SSIxC0KZKmBjA1gjPzZnZnb/f2Sg7DaXzJzG3n9+Z19rfvzXuzC+AlNfmz8L+Ulmj+lLdC7b/x\n",
       "rlK8VSiKc0h7hkMzTDzx3yMwGsNWqQQLjqGLLfxiy26BJ6Ce/txTmkBPvBplJm8Vy/niAd846fT+\n",
       "JtK/KfAELKY/z5Um0BOvQtHasFUutUbRgD5IumfhINkfjgo8AVtoOGdKE+iJV6EE4tgqF3/ShUD/\n",
       "IOgZJJDhCcajHitNoCdehRLm7RbIN3xTfTd/xiQwVM8i+ajAE+CPe+QKAnjiVSj38XYLZA0mkxcM\n",
       "yQPrkqCOcQLXYBb+Np8/6ZWFvfAqlOW8KXf/UpRG2/s3TaB4kaYdYv0GQw7hLCHwd07gISRwCcBu\n",
       "LwK98CqUNbytToXG7WXJALxvlJ0uT3sY7Ak0QHLT5hyo1wEuCZwQ2A5KvReBXnj5LZ0XAG6FreUg\n",
       "rnDU3aKrrqR8Cpt2AgKDNpUDcXiyfA6Xpz3Aeiujb4wjgX+SnxjHCYEhQ2+WfXjoE3i0XiKwCJ+Y\n",
       "DD+OkRDCP+cW43p/TpDrBsOREYCkq2Wnrl35S2yBUYjkQEMnylISngL4GbQjd1Av1K46rTAlnMal\n",
       "i3Yq2cLyP7ItYC3VykGQeKA2KYY4IdBXsHJE55RdME03AoZEoIxPRKiNfXfB/TmLQM3hwgtgFQSR\n",
       "wxoX2F8IZqCVw5Izu+kKZTuB4Qxkm6HzNzYWofR+DdoVYgQdbMi5bqaE00Q4s7WbJZy61GBJxEeS\n",
       "iL6W4/Qo17bAXOMSeuooJHXbUc7CJxS01EZfAfwSgQGHC38FdSlYBz4SFK0ucDgN10gBhbCI3RK6\n",
       "QtkewtkCPEauZlnBeR38o1DXrPzhtXo+DQUnWxsBKWEglAE/2SQfNDhOCexZR57iws4L/HDScO8m\n",
       "O4EUh/0LPhMr6R1xbkPWILWhzWvm53kkMFI8SxmHcAx6ADI0Qzlg2GzAcVp9ZuQEJnSltdiUUd7D\n",
       "lo3BJLJdSgSOQU3bDL9RhkA2bc68y9QdH2FDl+2F9DGWS74AjlMCNxJi966Oh1PorQ36B602Aimu\n",
       "nVWv8bGDqS4ngeYgs+F7SWgggRsshUA3kZ3qOETiMJ0eskkgSzAspXi8y4DvwZdEWIjQtdZiV7Zq\n",
       "D9JCBd9QQPZAwuqsZJKfx3CpV0WXNRMFm6bNPQEDvBoiHMRsR7lTcCDNy5jlnMAaMvDKRagzguwE\n",
       "1ADJYRuBFA8k1WOgMG9YBNsh2LjYTiAdxGKB2vDvNWwEruIKHWKYEBgu0OEQyVEClowSTr4DsrMx\n",
       "2Lw5rsvWIolQRtmBTZv6efuvNgL3jLw+ldzJDsvgkOgiZgpi05SP24DWMqdxaEqLTOCH/ZOBE3ha\n",
       "fp01lWyJ/ue7u98iBO6vdbzOCjdH62HrT7hLnyNnpaydQDqIOzq1ob6WthE4DRXUWYYVwnUx2EbP\n",
       "Oa0mLBklUTkGagZhM1lwXbYWewgzZZ4L0tjkbUwuMiZS09YUguQRKdxXg4eloxwXSiDDE9auvkhV\n",
       "c+iBwUYHgdlUaL4BlEDtGuz8SBEOJx4cHfQvnk2KJGaDJBEwLAK3oQJEDB7CmESm0wy124SZUYxK\n",
       "lhdoVLbJ94u6uJY5K2c6lM1XANZrAAeB6+HlCZyn04Fk2vlKoohAhgsClVH4oQE3bFJonXN6YKpr\n",
       "JSVQy8GAemU+wC56ud/s6KBvmGYsZuPVJtALtiTCZkXM8LkMK3B7fihnwcSoqIsLwXrSIcz/i6nL\n",
       "1tKYiTiUUd7mzZVA5Z03lpUncDNEtqahw1GtWzvHE6R1yG+kyRJG4tBBXF89k7JqL5PA4MLGXiAE\n",
       "qsfh6dlEM5Cml9tT6gDt+OBkhWzG1AZon3YvkUI4lEIFi0C9fxneJi0/BBxIW7XxBYMOM5j/F1OX\n",
       "raUmvcGhjLKPN/YgX+wv8q0bN0bLE7gCor3SUzDZH5MOLBy3v9LXDnfv8nqlT0LYh1d9UfMSzKvB\n",
       "6FyjyAYSKFJpxHYWNUtUAffZT2/7XF+0C1NwvsVdWSlgq/jTgLPWWH8n/xeHYgK/qW8inSdjgKuu\n",
       "vfEXgHUDLfy84estNsCPck2Yey/12Epuc4VNllFJmlyXxEf3wMx4eeV/Xm76o1Lc7bL0C2BOoG54\n",
       "nmpdYb/7CdxVt5Ty7Sew0u/C4tug210brpdWhJcw6Uqgdnvoi+ZP/A3wphFXJM5/SAAAAABJRU5E\n",
       "rkJggg==\n",
       "\" style=\"display:inline;vertical-align:middle;\" /></a><br>"
      ],
      "text/plain": [
       "<IPython.core.display.HTML object>"
      ]
     },
     "metadata": {},
     "output_type": "display_data"
    }
   ],
   "source": [
    "mult_in_zero_set = Forall(\n",
    "    n, Forall(a_1_to_n, InSet(Mult(a_1_to_n), ZeroSet), domain=Complex,\n",
    "              condition=Or(*ExprTuple(a_1_to_n).map_elements(lambda x : Equals(x, zero)))),\n",
    "    domain=Natural)"
   ]
  },
  {
   "cell_type": "code",
   "execution_count": 8,
   "metadata": {},
   "outputs": [
    {
     "data": {
      "text/html": [
       "<strong id=\"mult_nat_closure_bin\"><a class=\"ProveItLink\" href=\"proofs/mult_nat_closure_bin/thm_proof.ipynb\">mult_nat_closure_bin</a> (conjecture without proof):<br></strong> <a class=\"ProveItLink\" href=\"../__pv_it/theorems/8f14e4636988ea78442e581b619da66b16de4f810/theorem_expr.ipynb\"><img src=\"data:image/png;base64,iVBORw0KGgoAAAANSUhEUgAAAKsAAAAWBAMAAABNknGBAAAAMFBMVEX///8AAAAAAAAAAAAAAAAA\n",
       "AAAAAAAAAAAAAAAAAAAAAAAAAAAAAAAAAAAAAAAAAAAv3aB7AAAAD3RSTlMAq1RmmUTNIjK7EInv\n",
       "3XZ/CtNrAAAACXBIWXMAAA7EAAAOxAGVKw4bAAACv0lEQVQ4y62VT2jTUBzHf03SpsnSP+xgwaIE\n",
       "REEE6UEEPdRCFcSBBgd6UFydh6Gn7O4ginhxwyD4p6KSHUeRVndQhsJEBEGEIgNhEMhOmwrSk+IY\n",
       "4u/9SdpkS9jBH3zbvk/C9/3e7/3eK8A2wuTaAse9vo3I60zRuBQZP//zwIE3GwbhRQL2JNoe4BoI\n",
       "9UkXp6pEXryXLoLao/wEGU8kuaoNplBkavhxLQJ3mfMAi5TfwKFsJ9lKFaZQFEhRDkXgsJ0xoUt5\n",
       "xgEY0pNsNa5QjDmEOmzwzXXpakpVuUFskYuYRyaxtPu4QvGWVoKt4dx3Dksp6wexJfyz635KtB3h\n",
       "ksurXgAv/xzGVdL9loMSl8BWjC7jJwEeJ9pe4bpoKuvBNv5y2iaIdOkZs297S11GW8InQS76PHuV\n",
       "/5gaMcR3/PcXJvU9SF3/RWEdNA+ERWoLfVtR34+McMUZMoIHZeK90jSE4gKc4uwDk9SDXIcmSrqj\n",
       "AYUOZHvk+bSLYTNb2JlCS8IFb2DHPqKOWwirEnTCtpoNbTr/EgonGNMhTbOdG8gWZlVcEeWNKn60\n",
       "qq9Ion9XHHp2hJvnvU64CG0Pjg227RkHBFqU3KBt1sO8KX+JO6l+zf4mp385X6OTC9bCXt/2GVNb\n",
       "hx2CvzsFC0sNIl16PuiPR6g1m/PruGNSLUsSVypiY5TZSnn/6L1gUjxhSfINUhUFT6/EZh736Tir\n",
       "OuMprKVm5Ek7aJZUPNxsNnXBUjv+NTDDpO5+PbkWNFi5TpbP9nr2Pjtttzdsdnvk/B5om8pRfFYA\n",
       "Tb/DsoWz/tpyFtPmmOLfF566ja04aObdUacFOecINhyORQPyfjeLNabNUY85QAFP1w/Ow7SePe2B\n",
       "TAo/M8FvYhIPuaIRd/FFObvIWs2mEcJzoebshxLz7xLhaSdmdo8pGqsxNYhwEf5b/APtTLFjASAk\n",
       "dwAAAABJRU5ErkJggg==\n",
       "\" style=\"display:inline;vertical-align:middle;\" /></a><br>"
      ],
      "text/plain": [
       "<IPython.core.display.HTML object>"
      ]
     },
     "metadata": {},
     "output_type": "display_data"
    }
   ],
   "source": [
    "mult_nat_closure_bin = Forall((a, b), InSet(Mult(a, b), Natural), domain=Natural)"
   ]
  },
  {
   "cell_type": "code",
   "execution_count": 9,
   "metadata": {},
   "outputs": [
    {
     "data": {
      "text/html": [
       "<strong id=\"mult_nat_from_double_nonpos\"><a class=\"ProveItLink\" href=\"proofs/mult_nat_from_double_nonpos/thm_proof.ipynb\">mult_nat_from_double_nonpos</a> (conjecture without proof):<br></strong> <a class=\"ProveItLink\" href=\"../__pv_it/theorems/c4efca9303925e86b4dd8a2ff317de70f80b4cee0/theorem_expr.ipynb\"><img src=\"data:image/png;base64,iVBORw0KGgoAAAANSUhEUgAAAL4AAAAXBAMAAABHSeiIAAAAMFBMVEX///8AAAAAAAAAAAAAAAAA\n",
       "AAAAAAAAAAAAAAAAAAAAAAAAAAAAAAAAAAAAAAAAAAAv3aB7AAAAD3RSTlMAq1RmmUTNIjK7EInv\n",
       "3XZ/CtNrAAAACXBIWXMAAA7EAAAOxAGVKw4bAAADFUlEQVRIx7VVTWgTQRh9ySbdbP5VlEJFAgVR\n",
       "1BJFCvVQA02lIGik4MVioz2Ivbi1Ighaojex2l6qRqusF6GGNqkKlYJQkKJVxCCWihDc4qH+gPSk\n",
       "0IP4zc7udnfTlPTQD14yMzv75u33vZkB1hKyjhWGVwoRa4twjMMZJx19/9dsNwIfpr0qEGUD9dXx\n",
       "79JhpRou0ppxx0QpdgzIA9+AVtY/UxW9P81hi5oE/XQ7Bl1zgTiC9FDBVZanwar4PXEOW0RYvvY7\n",
       "+XeS5BAgJNgSCMSq4g/qsEWnwkYV3vlRKmnf5+pVLzJ+vIVAgmqqS/92HbZ4qSWJf9Xxn4Z+uTZc\n",
       "YPxdwPtS6V11/Id1iHULqjl46vdGSoDmEtEsg0uWMMT4x4E24N4qNbW0u3R0yNKS+fyPkpchaFmp\n",
       "kZf5fYnRUWo0Aj0QoxXphVr0NRivfeTwv4KnaExwLyGowj2l8S/XV8Y+9zA1dpNXlUDKGPedNSbM\n",
       "PL9Pxsu1Me8Zlpzm8CwiVNCkM0+lESnAt8ie95coBnV+l7KVGgOkQLWUt44tMp9NheTAmIILE8Qy\n",
       "RSaw8QcHkdcUfSLQSp0xeDX9I1b9/ijLTwch3bzM/4aQzFBecK0X4iwrWhGf7fnJqzhotf9RBW4t\n",
       "XyErP25J1NhDeMrKnmueYNL/zSv6Zk9QeoTNmv7X+lsPOfIxbHEbNYlkqBwQtKyETVdJJDF8nRpN\n",
       "hMtUXv+c7y+b8SWc4F8pnM+w6m2izzPzP84hqe5PHlNpXCIhnoLWOW0eGmzDHtLt7CImT8LHUijF\n",
       "hXS7NmMswAveir56Q+tNDv+2Fz3fTX/WtbDMcIc8GuL72Hduhn4fE2aNrZ8KM5MGM55oYzabjaEw\n",
       "iSdOs4YyHOVxRf8/8aBkO/9Ew8d5WTpAa0cQjN1gfe+OOCbFZDLZat0MCY7yaFnlROT65YF2JYeQ\n",
       "0kT7gfoBD7zFsul3dJTdU5XO30tGw9vS8Az9Md8RFeJd6u/d8Ot2+a4esZnccp1UuiAdYvgxnctm\n",
       "UxXuU5XDGQuV7lP7ul4F6xrCOnD+B06AtNCX7BzxAAAAAElFTkSuQmCC\n",
       "\" style=\"display:inline;vertical-align:middle;\" /></a><br>"
      ],
      "text/plain": [
       "<IPython.core.display.HTML object>"
      ]
     },
     "metadata": {},
     "output_type": "display_data"
    }
   ],
   "source": [
    "mult_nat_from_double_nonpos = Forall((a, b), InSet(Mult(a, b), Natural),\n",
    "                                     domain=IntegerNonPos)"
   ]
  },
  {
   "cell_type": "code",
   "execution_count": 10,
   "metadata": {},
   "outputs": [
    {
     "data": {
      "text/html": [
       "<strong id=\"mult_nat_closure\"><a class=\"ProveItLink\" href=\"proofs/mult_nat_closure/thm_proof.ipynb\">mult_nat_closure</a> (conjecture without proof):<br></strong> <a class=\"ProveItLink\" href=\"../__pv_it/theorems/ee1666252a0705cf245b470a766f58b181669f9f0/theorem_expr.ipynb\"><img src=\"data:image/png;base64,iVBORw0KGgoAAAANSUhEUgAAAY0AAAAWBAMAAADOX93WAAAAMFBMVEX///8AAAAAAAAAAAAAAAAA\n",
       "AAAAAAAAAAAAAAAAAAAAAAAAAAAAAAAAAAAAAAAAAAAv3aB7AAAAD3RSTlMAq1RmmUTNIjK7EInv\n",
       "3XZ/CtNrAAAACXBIWXMAAA7EAAAOxAGVKw4bAAAEhklEQVRYw81XXWgcVRQ+uzu787M/Lj64WjGs\n",
       "iBopXRZNQYLEgbTQF3Gl4kMbyuCL6NPkpZBi01WK+hDapRIxBXViQdC1Zm2of6hEi0QRcR+CltqB\n",
       "7Q+2NVIWIRZrNZ5z752du7OdLGHy4IEzc+bMnTP3u+fnnguwBuXcKkQmVXBUssP1/eaZrmzA/88L\n",
       "jkp7As/H/3rNgc9vVPbwieZJd08Yjhjd4uUIv483OEemXHAWR5J5MNpMjzi2k+qZMBwKeSRlR/j9\n",
       "O4Kj03OB57vseYAFpkccL1D41sJwaOSuiSh/HxUcnYYCz7fWcIGbTI84Ug7eiqH5QYtwIsrfFwRH\n",
       "p4zD71dc16J7YUS1CAfqcaIJDK9UeJ4/hDcrSnpYnDeAUjxBnvpNPBdi1WXCgXoqSD+47vfhODKu\n",
       "ezZKlioNzjD+5WSgHt95qdW/aEuD0qwkqZ00KUBNrzSZnnDsADgajkOpgu5EXETi5CK81W1nzNav\n",
       "9/1cHpRgbvWLTgEOGmeaTE84xkHNyyuwdBIeyXdw4Lvxde98kolskfP7ZXgM4JgfYcYpUJpQ/3DT\n",
       "Wpb4IC9EWZr5OVCARPGBBaYnHLrjb3eH7piGu9OO4vj74FE4uS4QAROZCufHAX4B7SqblPEnBVwb\n",
       "sg0wCR3AXG8GSYMEaW26TrlINY4DNsUWmJ4mGm91ICo7aE9smWlpPy+tL82DJjwc34Gxgv/ii7tE\n",
       "L2owV4EVOEAtRdbsteQPEpRk/nhX8gfMGk2mZ56wRjDGRg9dBLhArwfvnZRxpBKYaMb8sheWkuhT\n",
       "feRjIQVNiLgy/oVEu4ODuaAFjwIMcxxhxAcNPXyVcPKPszIOrVVjeobjBFaAY2PljG0wdw2m394t\n",
       "4UjfhxFy3D7sTV4S/Rj4WbsmpKAJvcXY+ANi1v1dOIpwWxwtfbGWd9mgfVtPwSLlObOd69Sv15Ev\n",
       "15ie4XgeU3Lfr3CLk2QFehDMKxIO9SsUtsEUbuss5ElMlrZ3B5Opia2u10Se85uwxTRlHHorvqTg\n",
       "ip7xJ22JC0sNf5D6gQXXRQlHetp7SYJiMT3DESPPDsAYJJ6dmTmCk6in5H73duRv4BxoWxgOEjMw\n",
       "173TVnKiPPWY0JqcZ5dfHqjKOIyBT8Yve4vDQ9D0Lkvdg2ItlhpZnimz0/yTl26gLwyL6f1K9S1s\n",
       "07QGX8xkKdC3G9fg1fcg63iiSu6R3W/rw87Qzs045aAJOC2Yl85msESbav8mNFNVTFzr/eJx9xtu\n",
       "V+nZLx0w1DacHuT74VbAFQ+cPxa1lWHCYTS4CNMk1vmlDhn78E6nVKMUDJpg3d1QKI6JVw7232UP\n",
       "QPbFani3OSpNFFv55TJM4GjtJxtiQRxPPohvEYf2NRdxl0dxytYW8TJVTI6W5jE899LEAiZAtzmz\n",
       "1fro70Ar8uPqav9a/gTk5sObctIHDnzGpzPT4edBiqs4Fz/LdUQk3i1n4cKuXhOsghm1DWgTdTtc\n",
       "3+fgmpbPvdrv2L/v4k3T6j+eSL7kkTELm296bpwUHJUuhetzZ9d7AC/fREzA/4D+A67UUknlI8fN\n",
       "AAAAAElFTkSuQmCC\n",
       "\" style=\"display:inline;vertical-align:middle;\" /></a><br>"
      ],
      "text/plain": [
       "<IPython.core.display.HTML object>"
      ]
     },
     "metadata": {},
     "output_type": "display_data"
    }
   ],
   "source": [
    "mult_nat_closure = \\\n",
    "    Forall(n, Forall(a_1_to_n, InSet(Mult(a_1_to_n), Natural), \n",
    "                     domain=Natural), \n",
    "           domain=Natural)"
   ]
  },
  {
   "cell_type": "code",
   "execution_count": 11,
   "metadata": {},
   "outputs": [
    {
     "data": {
      "text/html": [
       "<strong id=\"mult_nat_pos_closure_bin\"><a class=\"ProveItLink\" href=\"proofs/mult_nat_pos_closure_bin/thm_proof.ipynb\">mult_nat_pos_closure_bin</a> (conjecture without proof):<br></strong> <a class=\"ProveItLink\" href=\"../__pv_it/theorems/f719141527173326611d1383633f098b7d7ad1060/theorem_expr.ipynb\"><img src=\"data:image/png;base64,iVBORw0KGgoAAAANSUhEUgAAAMcAAAAZBAMAAAB3HyeqAAAAMFBMVEX///8AAAAAAAAAAAAAAAAA\n",
       "AAAAAAAAAAAAAAAAAAAAAAAAAAAAAAAAAAAAAAAAAAAv3aB7AAAAD3RSTlMAq1RmmUTNIjK7EInv\n",
       "3XZ/CtNrAAAACXBIWXMAAA7EAAAOxAGVKw4bAAADQklEQVRIx61WS2gTYRCeTTZNsptug4JYlBIQ\n",
       "EcFqEC1UpET6QC3VaA+CCEYqFHvQFaEgaI1eRHw0oKIrPrYXodTS9QFiD1IPolWqPahVS3CrRx9I\n",
       "QSoVijP/Zp9p00Qc+H/mn+z837z/ABRN66FUSuDiS9LwJUoGyeAKZkrRuE1bMF8eLAwCdaWAXKTt\n",
       "c748oLvPwielA8TXT02QchUgSsyy+TGCQxQyzS3sHcHti+fLcGwHwIDliYQIjcS0zw/Ca2bInLQf\n",
       "V5nqlnFjYhwiwCvKsILuC9MAJ4tMTkUSt3qvdBKX31MR3Eo0utzyBNoMO8TY/CDdZO+QNx/TtL8w\n",
       "DtKN7DsGckTvdIJsQTviCFRE3r9TSlIeoTiaM5UAD+bCxsmLJc0B8g3XSDb7sgiQRWZeDj/usoRl\n",
       "VRMYhLuM7zRTw8lhuOwA2Ys/bAa4NtfNos0qdCd6HXgGt6xMD3QIUwA14CoeTg4l+vvNjsdAp9Ey\n",
       "CEbnLCmb3Uclj2bfiUOLJVyjwiuAVYxP2SCw1nfd1jyBJRNWxaR5Dh3IMcebk/4nLpA3uCL44XaA\n",
       "ceYEXdoE8AdNZaoY9uyHHAinLrU1B1DLpzvyvoQ+n1CSvuggbM3zhECGQfjFGpliMQ4BLOI9rNEz\n",
       "Dk+EaL/DkzT56Zguz3E1oNBXx4MmNrQ0NHrCJcyA/6ejTXgs4mrGjzpA4ELYUfx4hnsduPXVPSQn\n",
       "ZiZUKU7FemqXrrk8qaSBoYMwCVxqhSn8TSmCWsb/sMYKGimdsTWpuuAY5l0YC01RP32UEr1srqcH\n",
       "l7tBqNpF/PImVCesFl8Il3BvNsrZ7GjGNNmaG5l7iMwnQtTN4bg/1WqA8FLGBUL2hDAkPV9PV6VN\n",
       "Yc8DcvutMX0rdxvFc2jYPeU2mUwkScMSImk+WqMoSsyXFrSUq08o6fB+1vmcy0bgkTFWvNRmlZkc\n",
       "3oCmVkAkdtbwBHbq+VN43azNFC84KoRpy065u1XtwwemFvuGJmuSvQMOMsIpz3LL0cLzyG/dE6hf\n",
       "fR/OxULbdAhexfP59txzZtMCVzM46EphkHKPYUZ99ClKcq43vitfLsmFQTxvfEAt+G9Fg38h74Po\n",
       "/9//u1hZoOV/AXy+uyGCTM3cAAAAAElFTkSuQmCC\n",
       "\" style=\"display:inline;vertical-align:middle;\" /></a><br>"
      ],
      "text/plain": [
       "<IPython.core.display.HTML object>"
      ]
     },
     "metadata": {},
     "output_type": "display_data"
    }
   ],
   "source": [
    "mult_nat_pos_closure_bin = Forall((a, b), InSet(Mult(a, b), NaturalPos), domain=NaturalPos)"
   ]
  },
  {
   "cell_type": "code",
   "execution_count": 12,
   "metadata": {},
   "outputs": [
    {
     "data": {
      "text/html": [
       "<strong id=\"mult_nat_pos_from_double_neg\"><a class=\"ProveItLink\" href=\"proofs/mult_nat_pos_from_double_neg/thm_proof.ipynb\">mult_nat_pos_from_double_neg</a> (conjecture without proof):<br></strong> <a class=\"ProveItLink\" href=\"../__pv_it/theorems/7c26058c1816794c542b0ead91d065c25dbf9fd50/theorem_expr.ipynb\"><img src=\"data:image/png;base64,iVBORw0KGgoAAAANSUhEUgAAALcAAAAXBAMAAAC7XMNCAAAAMFBMVEX///8AAAAAAAAAAAAAAAAA\n",
       "AAAAAAAAAAAAAAAAAAAAAAAAAAAAAAAAAAAAAAAAAAAv3aB7AAAAD3RSTlMAq1RmmUTNIjK7EInv\n",
       "3XZ/CtNrAAAACXBIWXMAAA7EAAAOxAGVKw4bAAACzklEQVRIx7WVT2gTQRTGX7K7SXazaWIPBg3K\n",
       "giCKIBFE0EMNJAVB0EBvInbVg+hBtgqeFKKIFxUXD9X4j/FYg020gloUCiIoIgQRxUJge2qhUHJS\n",
       "LEWcNzNJs9OE7EEffMnMj5dvZt+82QAEDkeoC+6VHjgGLC45jknzp7/HCbxZKSJPIdgSwHyHUEcY\n",
       "D+p0wayUeFtLgdFkfBjnp/p7GzaXLyI5+nFGgpucKYAZxi/TadTtb65muXyRxDLtluCgG3GgzniE\n",
       "AMSt/uamkC9GCVLCz+Rh4xsbpIeiNppTrtDdRAKUfKuQL96y2rDn0c4SAdOh0iKaI//caHwKYH5Q\n",
       "KJqZ99rw+NIgfW7WExda3pAGVy/WOT8AcC+A+Umho46+3D7kn6TqgGL7eyINV41Zao58DKKpAOZf\n",
       "uIx3oNZbLLwMpgfhGRzbHeaKtZ0y5DqJF1s8dloMQh9f3M/5zN9zqU1I1OiwimaqDckaxJr4S1rd\n",
       "xg9hDhtD1Bh52Os4zwzmzZWLCSc+SbqZmy5UcS8JXJouM2qBhjs33I6dw2ODPh3j9tCqxQeqQonW\n",
       "C66ch2ihUBiWylL1YH9nmx8mEGZlqneaxzy6FuPP8YpVhl7ipv/MEXGdc/6qwCOuqgXrw613UrJE\n",
       "jwAUtumlduZdqgVX8Iv0PI3vsV94EWYHchMsQzlX8ps/49K98Fe1xUJZnW5BrbFub1/EE/w0OA9R\n",
       "GzUXwwrpWcUeYRmTcalbbnIZm1+NLbRbMZPHyrN+MDYc4fDaisvfQolWn5jFAexHs6Sm9pTLZQtq\n",
       "0/DEZ54oca2NS/xLey2uv8RpKR19H+2OJJjWdZa5LQvTvlQlx7U28j1uRpubzq0RUoEE2Uv7ns7j\n",
       "Kmh1f+4dITl6vVJXuZbfOQU3rNghD6J42rvWLY5L93ZCSA69x/+ZzPmBV8rlYredeFxyzPeoisQ1\n",
       "Av8vlH9t+Bcjg7AdO+7fnwAAAABJRU5ErkJggg==\n",
       "\" style=\"display:inline;vertical-align:middle;\" /></a><br>"
      ],
      "text/plain": [
       "<IPython.core.display.HTML object>"
      ]
     },
     "metadata": {},
     "output_type": "display_data"
    }
   ],
   "source": [
    "mult_nat_pos_from_double_neg = Forall((a, b), InSet(Mult(a, b), Natural),\n",
    "                                      domain=IntegerNeg)"
   ]
  },
  {
   "cell_type": "code",
   "execution_count": 13,
   "metadata": {},
   "outputs": [
    {
     "data": {
      "text/html": [
       "<strong id=\"mult_nat_pos_closure\"><a class=\"ProveItLink\" href=\"proofs/mult_nat_pos_closure/thm_proof.ipynb\">mult_nat_pos_closure</a> (conjecture without proof):<br></strong> <a class=\"ProveItLink\" href=\"../__pv_it/theorems/1f36cb37a40c4f531c531c20f5932caa85a697ca0/theorem_expr.ipynb\"><img src=\"data:image/png;base64,iVBORw0KGgoAAAANSUhEUgAAAa0AAAAZBAMAAABwVGzTAAAAMFBMVEX///8AAAAAAAAAAAAAAAAA\n",
       "AAAAAAAAAAAAAAAAAAAAAAAAAAAAAAAAAAAAAAAAAAAv3aB7AAAAD3RSTlMAq1RmmUTNIjK7EInv\n",
       "3XZ/CtNrAAAACXBIWXMAAA7EAAAOxAGVKw4bAAAE9ElEQVRYw8WYX2hbVRzHv0lucm9umiz4sLqJ\n",
       "JSJi92CJowUpUgNtYQrDiOKDKxr3Ivp0+9ihXRxDfSht2KgY8c+tA0GrJhr/oxIcI8oQ8xDsqAbi\n",
       "H9xq3ShCndZpPX/un5Pc5iZ1d/MHOb33/M69vZ/f+f1+53cO4Ca++hK8kiFcaZFokyK/8/WE+8iQ\n",
       "d//Un7riXGHaTNEmkLxqXK/SRvbgRZo7V6BxdbmO0+YHD170YMv9m38+q+OTS2mDC8ucK06vb2zP\n",
       "5arvXuQy9cWiB1yx1rk4FoxDXTPnC99zrnF6/Uh7Llf9NmK6aPriZctjLffXayWgjDvzL+TzhLmg\n",
       "M64nqTFz7blc9d3LDuInGPWEa7Dl/ppcSEPVmq9QknGFCF4k0Z7LVd+9zJHXoOwJV4/O/67U6xn6\n",
       "t3dEzghcUo5x0dQRcskbrvru5TwNr4wnXCEeYPf/Ytz3+rKrAleszD/6q3r9tFs+dNN3LzvNGJv8\n",
       "bLolo1x3ttE57QiDIiyVyVaY9SIXTttcwQ3OtQ943o3LTd9BhPSXNwwdrOBlvWnQhBbe6PgmcVCA\n",
       "TXtIs7mOqstVs96A8gfnmoQcFy1Tew+3xwWuFv12RCgxHia/KAnTN5LYD5ywPVI9CamKxbd3u72I\n",
       "DzIrl3Lz0tqLQGKPHbryOucK65G02Te7ax43RHRJF7hEfbeLlWEbgatGA568527gWygX2Eeqv1Mj\n",
       "ryFaJCP3056CMwKFQYYodK3CTJ1IjnNht8/mUg0uf8NCl/bRNbiRioh+KOi7EsE2LfNFub5k/9df\n",
       "tWFzKKSxjsNZOqNbFJH2IEOCjOE1Yb6woFZtoxp+iMwIuRid/Qn4kfb33zTdxMX021iALdu8O1Yb\n",
       "S7f4ofoPAmsWF5uiBu4AhjlXO+GDBm+7QLn5w1GRS2nYK6xy0eB6h2SWExPJHk1lyv7IKweauKge\n",
       "iyMfmPNcWnWWnnanaBvB+ruoRzeg/gZf5uYmrgR2+smzn7oZiw06NHQSFZo32GfGrPz4HPmds7nM\n",
       "fIjHSSQc+hk79CBbGPqRWmnionp1iZqB15nanJPL6myyjcD1q5GgX8ItqZTIFW74aySRKcs2RMaI\n",
       "KtbYg+S3MtgwlwvgoKmkF5IdmAFj/YKPekAfJhB4NJ8/RrgWQ01cVC+llDJklu/HMIPgwHgzF+3k\n",
       "1hJtI3A9RMJNITQLq0/3ZUUute/DyXNk22QnfxZkNTO0hEG+BgutKHfuhXn+yFOXiClVm0uKi/uU\n",
       "LzCmKEX+TcEBxz6lJx2L4wiz6SlSMfeg0Mx1ipXR1FqibYT1i+YMnLFSdbU1g6ZkrXMBlZVSxMZP\n",
       "GLcHXqxn2pQjFpe8hjP9fP0dgvmNAldBCw/rbGujXsTx12Vzekx70s7A+N4inLYR6vnBtlxTzxzV\n",
       "O3IdRvRItmP1bNTzhvvEsZrEFHlK+UaDzzlf2ty9lEstoqKsDwPzJJXQO9oYnf4VWqU5bGNkKepB\n",
       "YWNO5Pf/aimdvt7c7Jxq70Gs1Hlzcatzv6x+lJ/fer8cHB0o0a2o8jnu20ssIBELzCSUCmY0pWJ2\n",
       "XkvqaqdtzN2ElVQu9xSjg8Mubf8cgPihn199HCONtXsxOquxId1pG/F8Y9oDrrPu6v9wvjF7OoEH\n",
       "eP/m32QOrYjgnWrcX3I5j/LiDKAL6e48ynF+KDwQ2Krz/zw/ZHIX3ex9l/wXsa5hNoAiNo8AAAAA\n",
       "SUVORK5CYII=\n",
       "\" style=\"display:inline;vertical-align:middle;\" /></a><br>"
      ],
      "text/plain": [
       "<IPython.core.display.HTML object>"
      ]
     },
     "metadata": {},
     "output_type": "display_data"
    }
   ],
   "source": [
    "mult_nat_pos_closure = \\\n",
    "    Forall(n, Forall(a_1_to_n, \n",
    "                     InSet(Mult(a_1_to_n), NaturalPos), \n",
    "                     domain=NaturalPos), \n",
    "           domain=Natural)"
   ]
  },
  {
   "cell_type": "code",
   "execution_count": 14,
   "metadata": {},
   "outputs": [
    {
     "data": {
      "text/html": [
       "<strong id=\"mult_int_closure_bin\"><a class=\"ProveItLink\" href=\"proofs/mult_int_closure_bin/thm_proof.ipynb\">mult_int_closure_bin</a> (conjecture without proof):<br></strong> <a class=\"ProveItLink\" href=\"../__pv_it/theorems/3f4e5b043071cdf87d36a7a74dc03869149aa50e0/theorem_expr.ipynb\"><img src=\"data:image/png;base64,iVBORw0KGgoAAAANSUhEUgAAAKkAAAAWBAMAAABJZ6G8AAAAMFBMVEX///8AAAAAAAAAAAAAAAAA\n",
       "AAAAAAAAAAAAAAAAAAAAAAAAAAAAAAAAAAAAAAAAAAAv3aB7AAAAD3RSTlMAq1RmmUTNIjK7EInv\n",
       "3XZ/CtNrAAAACXBIWXMAAA7EAAAOxAGVKw4bAAAC20lEQVQ4y61VTWgTURD+0s2mySaNEQ+tiCUg\n",
       "+ANWI5RCPZRAVQRRA72JSEBBLCKpglDQkorgQaE5iLqt1e1FiJE2akHsQQRBrVLtRW0tgUQPIgUp\n",
       "BamoFGf2vd1m86cHB7598ybvzZv3zcwL8Hepl6hgriQJ/JN8kigRNV9i2Pj2+fDsMxwhNcTzDbWc\n",
       "1mUFiiU9RZ/PJQu/NsGDOIIRYDfPj9fyekfCIccIHsNp20UH+cNAN9DPDKVqee2UcMgiQYk6bY3Q\n",
       "UmkaW8WBfEB1eSrh4PQnf1+JSXA4955HA+5kE40BAwqx4KlJa1zAIf5p/h4VJ5yymej3cvgecjmV\n",
       "y72u5dWdFUDPkz7b6Gku0P3um/rZFXoHfaz7qQL20qSWVz6Zob7AbXv/WLe2BLTBmeq6bAcPCt2s\n",
       "B/Uhy+w9IRXX5PiQzEVDWOBeBPvt/dsNvAG2mvoKOx6h11EWfIY/ZtvXseuCHmtI+EdlYIGYwEFg\n",
       "zgyTd+4BfgEDZiREYW5WtAt50siyQJ7zRcl6yWWXpEvgwhk4vU5C+27GzneYg0q1dZjnml2WWqqX\n",
       "bpmAyhUTZzIyHY/43OWCwa1BErWKUTKgLUNZKCpXN9VWi6lPW0ZXspGuQnGy5QH1gvbBu8SV9zEY\n",
       "TZsrlNNJudaXN6EtwhXfZDn4wTSj3dS/WcaLKkWynvZy9OcoWe6ol8P2RZR4l7li1G+XZkjgFlrs\n",
       "+LEGV+m7T+TI6qFB6qjeLbIOXUkmLsiFEEi6Q226roeRncBdWRfTAiPzl5qt+DEyzjy9E3SuPSS6\n",
       "YfKkfvP3EPFlZX8s4dtJOV+FQPiyuWJzBBPytxmJ8gdWMqo+Fh1ryXlLCSQGuowMGox2iPZwQ7Wy\n",
       "0CpR3nWR6s+ROK5z20NcCXsP5FF/g+Y7Vs9fs3rDlxAok94qfx0lL6CgPaPrsWIrF6RW6a28Xtlr\n",
       "SQSqUXlZn0SJBKv8QX1xThX8L/kDUEyrLCrKq78AAAAASUVORK5CYII=\n",
       "\" style=\"display:inline;vertical-align:middle;\" /></a><br>"
      ],
      "text/plain": [
       "<IPython.core.display.HTML object>"
      ]
     },
     "metadata": {},
     "output_type": "display_data"
    }
   ],
   "source": [
    "mult_int_closure_bin = Forall((a, b), InSet(Mult(a, b), Integer), domain=Integer)"
   ]
  },
  {
   "cell_type": "code",
   "execution_count": 15,
   "metadata": {},
   "outputs": [
    {
     "data": {
      "text/html": [
       "<strong id=\"mult_int_neg_from_left_neg\"><a class=\"ProveItLink\" href=\"proofs/mult_int_neg_from_left_neg/thm_proof.ipynb\">mult_int_neg_from_left_neg</a> (conjecture without proof):<br></strong> <a class=\"ProveItLink\" href=\"../__pv_it/theorems/5f92eeeae0340d266bff8a6c36a4582d7d4e9dac0/theorem_expr.ipynb\"><img src=\"data:image/png;base64,iVBORw0KGgoAAAANSUhEUgAAAOcAAAAZBAMAAAA4QiR6AAAAMFBMVEX///8AAAAAAAAAAAAAAAAA\n",
       "AAAAAAAAAAAAAAAAAAAAAAAAAAAAAAAAAAAAAAAAAAAv3aB7AAAAD3RSTlMAq1RmmUTNIjK7EInv\n",
       "3XZ/CtNrAAAACXBIWXMAAA7EAAAOxAGVKw4bAAADa0lEQVRIx7VWS2gTQRj+s5tkN69t9KBCQRZ8\n",
       "IBQkggiK1EgjVIsarOjBoqs9lBYPW722GIu3tjQKtqZWWY+10K5VUQJCRQSLiEUKghDYnuoL6UWF\n",
       "IuI/s5vZR0KwGzqQzcw3/+z3v3cAfA8+6+dUEOoa232dEvL1cEYV8lQrN9Ta55rrIY2k8CHJlRvn\n",
       "PWvu8p/u0kSqvExoAEky2eaDtI88mjzWTyygIik3KN3MgRK2l8h4hEy6fJC2MRc7RjiNjx5P6qRR\n",
       "j1kQCzjG8MwqwHW/wf1J3ucxChqIu/e6sYAKk1EHQyfqhi6OyWvnFFFhiHvRCxpBNXPxpVQinogC\n",
       "tAZytsxRrDZUNuzDUAmjBzu96AvqY9P+M1+ZgskbDpnv+HtXKr31QRpQrLgKjcsGQy/+2IiOo8kp\n",
       "2KGNaOMeb7QCjP8vU8xRMXkzPNChRlZZ9v7SZlTgaXqF7Xpt4g3HS0bQ1b0gJH30sDA59AF5XkFw\n",
       "gZXkKsQN4OaogC2ruOJ3LUtsjzmbaGD+yd00C0a3Nelvy/IvXaQJIvQaoRVI6NRIopQCDTqIK0Rg\n",
       "qISDJq0kPwXQ2MkZpOMMpoe4VMgm1Ni0LdBooVyyCMcqLUXSeJ6+BWCRaKLDBRlC1NJJJjpJSnKz\n",
       "bSnJZIV1wwwueRi4CkImk6Fd442Fcs1B0GOZ4ybqdO+MAYecZXpSA466O8HQLVip0RU7piTYsyTN\n",
       "ppqflftXOm0X498ljaLcwFlDd1kaIJ67j6QybOLKOdOQwxADbzq1nDxi+jSKL7hruQ91jn4Uf1sO\n",
       "4a/YhSx9ktIU5XLFHW5SifjwEaaEwS0yOJCKoMZBnS4usYLpAeGW3ZIOUskc6Y/iHLRTbNpZFyle\n",
       "aTdJg1LeRRoidTKM6m593vuZlUxjC3GsmZgPbpu50TE6X3g/r7OTh8uTeBab/z7syDLoRXjI4Fww\n",
       "SVEuF9UVV52SJIJErlph9Vv/5+6VlCrbnSyN1cgBbZBasCsFRZYYEJcHTUvhlFH5leHT1Uhban/8\n",
       "WSuJqyPtWoS4IxaEkBX0Kfzg7geK4n1I8rSQIfIYW/uFhGfvCbXsfgzCHZzt2fBt1IKHZPGEYaLD\n",
       "Xdbn3pG+sqsYHYlQ+76S8GxPFQquG55cFXXekQSjcmO5rjtSSKu53bQut0F+Xe69aMk/GPDPAc67\n",
       "5AgAAAAASUVORK5CYII=\n",
       "\" style=\"display:inline;vertical-align:middle;\" /></a><br>"
      ],
      "text/plain": [
       "<IPython.core.display.HTML object>"
      ]
     },
     "metadata": {},
     "output_type": "display_data"
    }
   ],
   "source": [
    "mult_int_neg_from_left_neg = Forall((a, b), InSet(Mult(a, b), IntegerNeg),\n",
    "                                    domains=(IntegerNeg, NaturalPos))"
   ]
  },
  {
   "cell_type": "code",
   "execution_count": 16,
   "metadata": {},
   "outputs": [
    {
     "data": {
      "text/html": [
       "<strong id=\"mult_int_neg_from_right_neg\"><a class=\"ProveItLink\" href=\"proofs/mult_int_neg_from_right_neg/thm_proof.ipynb\">mult_int_neg_from_right_neg</a> (conjecture without proof):<br></strong> <a class=\"ProveItLink\" href=\"../__pv_it/theorems/a00a3f1fe88a44ac57d9ecb0b0b04b22bf8855d90/theorem_expr.ipynb\"><img src=\"data:image/png;base64,iVBORw0KGgoAAAANSUhEUgAAAOcAAAAZBAMAAAA4QiR6AAAAMFBMVEX///8AAAAAAAAAAAAAAAAA\n",
       "AAAAAAAAAAAAAAAAAAAAAAAAAAAAAAAAAAAAAAAAAAAv3aB7AAAAD3RSTlMAq1RmmUTNIjK7EInv\n",
       "3XZ/CtNrAAAACXBIWXMAAA7EAAAOxAGVKw4bAAADgklEQVRIx7VWXUgUURQ+O7M/s7M/bj30Z8hC\n",
       "vyDEPoRBhK24gSbRolFQlmM+iNLDCr0ESltJL1luhtmYxfQoPjhZUQqBGUISkYQgBAsTBZaU7EsF\n",
       "0kPn3tm9szNrhrN4YWfn3nvO/c7fd+YC2B583I6WE4oaO21peVLFYIoSeSYKNxKr61UWA+qN4CMY\n",
       "Ltw4Z5lzF/60pYciuWlAAQiRlx02QDvJo9zi/dAsGhIxLwZvJ0FyG1NEPEJeWm2A1rEQ5w13FB/t\n",
       "ltKJoh1jIMg4BlBnGeCK3eT+JOdZnIISEu795jVHAobFPIQWtA1D7AuvHVNAg8FvXW1SyKqiT76l\n",
       "0yQSIkCNI2nI1CLb0Fi3DUeDmD3YbV19SWOs+39ykRkY6s6T+Y6/d+n0WxugDimbV0/pgsZWm5c2\n",
       "YuBocXqM1HqVQUs0agAGC8/0/ZcxKT090JjwLrPq/aWMJoCn5eU2+FrOa3mavRjqDvCEbHQrN1H6\n",
       "gDivwTnLKLkMfg24SSpgyEqm/F2OE999+U20qy7Ov2Kg13NVt/1+7VMTaICQYxoFMxBQqZPEVAlK\n",
       "VBAyRKAnjYOqB8PPABSmOYpwnMbsED7JcS40AUcZqIOcd2trP8zDxGKhpwjqT9FTAOaIJSo0hcFF\n",
       "PR1mosOEkpsNT0klS6wbxnDKVTpB9cWOxWjX8OOKE7MOEWFPBC7GYrG4JbyjGhzOp+lxBTga7gBb\n",
       "3YJMFTNGTkmyx0iZjVQ+1/sXd/WUpjJPe5e2wWc9yZYsO0jkHiJoGDZxuZopSWKKgdeDmiseIXoC\n",
       "xWfNXO5Em8V54bceEC45scsA/aF8yTaTA3stPCUxfIwloXFzzB5HxIupdqp0cp4Rph08fUZLOkQl\n",
       "SQijwiQ06KDOYIqB3oEKF6W6qKlmUBfhyU3cKHvR8ZVRprSaBFZPwaN+vXga787I72cM9arciz+O\n",
       "zb8CO3KYS4qqxHj6Bqr4NlnuA59PERUT6jQ5PrkSm7qy/2cepKUVtltYGSe8B5UbuqdQb1A5A1MC\n",
       "tbH+GviUgq8MH10JtHr1jz9rJf5Eb4PiVfSbTzDbLEQVPmJR0H6lRuGsWbmHPAbWfiHhWStyVe97\n",
       "Ap57JE2t2Q87lt0UdC8BXMIY8hvKxpst5Rs2kTGvQa5+XwlYtkdk2XTD43SHx+X+f92RPFrhxkJx\n",
       "d6TTq+6Wr89tMLIe914snL8Y8tI6/Y16UwAAAABJRU5ErkJggg==\n",
       "\" style=\"display:inline;vertical-align:middle;\" /></a><br>"
      ],
      "text/plain": [
       "<IPython.core.display.HTML object>"
      ]
     },
     "metadata": {},
     "output_type": "display_data"
    }
   ],
   "source": [
    "mult_int_neg_from_right_neg = Forall((a, b), InSet(Mult(a, b), IntegerNeg),\n",
    "                                     domains=(NaturalPos, IntegerNeg))"
   ]
  },
  {
   "cell_type": "code",
   "execution_count": 17,
   "metadata": {},
   "outputs": [
    {
     "data": {
      "text/html": [
       "<strong id=\"mult_int_nonpos_from_left_nonpos\"><a class=\"ProveItLink\" href=\"proofs/mult_int_nonpos_from_left_nonpos/thm_proof.ipynb\">mult_int_nonpos_from_left_nonpos</a> (conjecture without proof):<br></strong> <a class=\"ProveItLink\" href=\"../__pv_it/theorems/f74142ef57287b2f74a89797d9d7d50f340f13b00/theorem_expr.ipynb\"><img src=\"data:image/png;base64,iVBORw0KGgoAAAANSUhEUgAAAOsAAAAaBAMAAACk6rZaAAAAMFBMVEX///8AAAAAAAAAAAAAAAAA\n",
       "AAAAAAAAAAAAAAAAAAAAAAAAAAAAAAAAAAAAAAAAAAAv3aB7AAAAD3RSTlMAq1RmmUTNIjK7EInv\n",
       "3XZ/CtNrAAAACXBIWXMAAA7EAAAOxAGVKw4bAAAD4UlEQVRIx71WbYhMURh+5t47M3fufOwgn1u6\n",
       "haItjZIirdHuZlEMq7QSIz82ku4iv1hD/iGLwvjq/lJry0w+whQtEkuyP3zX1OUPRdv+QW2S95w7\n",
       "c9y57tqdJbfunTPve855v57nPQf4f490CuE7+b/bQ05VbfUCUI9WKH9jdnrVfp6gzyPUGMHO0VvV\n",
       "0vQJeiiMIRbEjrMFg4joFPKon1CCPu89FBvcqd32fUvxXEK9x/6og4gmEDWBOPs7rWqze9iOLnho\n",
       "5/ooqoQrymMZpAPArIJtNmIhRjabmK6tarPL6b3oFgaS9NlaKVOS5MkVGrQWeJJrdGiDwH6W8uqL\n",
       "/IXeBreQtgTmVsp8Bro0vv/+JTakgM3kISU6rFdrlbIF9LilG2kvREw7ueeLL3nmgWZfhovap6Af\n",
       "q2iwlHBNtQhUHWyMqiil3dLbPNO8uP7tpnAxflCgPHxnGf1+pvdpsfikarM+MqkwRAVrP1hCuql/\n",
       "LKWOg3S3+Qv05hmPrDQDZzyZ+Uf+dJbCWm+EBsWKr2bOgJx2gbROtlyrj1LS2xGMezWVSeiYPRT3\n",
       "EaAlUUKEdh9Kn6Aop4fES+4oAKMP1Cw9p0qSfSmWg7Czvfp6r50lHnQ3MyqwxeqWkmbv8pR8tzSO\n",
       "0pQILVMGEGW5zrGZSho1eagDbBGVrvjGhoF+HTArnM7RSskSiFLfZVNRI3zZxK4bFEkPHjNpbUkj\n",
       "xQtY5oiWmY108j24G8yBjTr8LFrtFyW7GD0nVpjdx5CdFj2ykf7KOLATwRcMLX14Dd6+bY1UryDv\n",
       "SnLOwiInbVeakHjSReYxiZirDVTWlhXvCusr3fU3yn0tSZ7L43m0D1mgP96ZXCMdWGuVzfooghAh\n",
       "JadjglRGQE2GSg2ZB9ovMphcQ9P7fuf3HvJce6V+Q5eNpR0sBdI4BgtWsdjbWJJrpExhRtlsrMdm\n",
       "SsiSnovz05cIJUu8QkAX9NmK4PHKNriQz86wzqn2oIXLLodtL5vQMc3gZ42cbrHNKrHycj+xRqUQ\n",
       "tKk32z8KAtWydhnlANUmr7OF60/2Zp/1Vh4ai8uDSIqOhXmEcR35Ai4550QySpxrpIyWF7x4QO9r\n",
       "T27tLTl2y26OXs9mAWkjtMA8xKfPTKAQbGxsbCpXjE7mQ3a0WG05T6C5nns2DH9FEA0mYhxtMUOs\n",
       "0mEFfgcAuulQng+uodtTTDSWwyz9Xt1kBKeZLHbxN8y+iuBpGs0Z8+mko2sd1tUVlq050la6FHBA\n",
       "6BXkdLRNY1izUdeU7mz2t/ug7q3hd6kOjz0/DH+OjOAu5TeHUNSN+ho2kkuF/O/uyeKaQ5H8BNrx\n",
       "68cOIrBlAAAAAElFTkSuQmCC\n",
       "\" style=\"display:inline;vertical-align:middle;\" /></a><br>"
      ],
      "text/plain": [
       "<IPython.core.display.HTML object>"
      ]
     },
     "metadata": {},
     "output_type": "display_data"
    }
   ],
   "source": [
    "mult_int_nonpos_from_left_nonpos = Forall((a, b), InSet(Mult(a, b), IntegerNonPos),\n",
    "                                          domains=(IntegerNonPos, Natural))"
   ]
  },
  {
   "cell_type": "code",
   "execution_count": 18,
   "metadata": {},
   "outputs": [
    {
     "data": {
      "text/html": [
       "<strong id=\"mult_int_nonpos_from_right_nonpos\"><a class=\"ProveItLink\" href=\"proofs/mult_int_nonpos_from_right_nonpos/thm_proof.ipynb\">mult_int_nonpos_from_right_nonpos</a> (conjecture without proof):<br></strong> <a class=\"ProveItLink\" href=\"../__pv_it/theorems/4cca60b2485843ce1f10ab2cf677a9c2c21d745b0/theorem_expr.ipynb\"><img src=\"data:image/png;base64,iVBORw0KGgoAAAANSUhEUgAAAOsAAAAaBAMAAACk6rZaAAAAMFBMVEX///8AAAAAAAAAAAAAAAAA\n",
       "AAAAAAAAAAAAAAAAAAAAAAAAAAAAAAAAAAAAAAAAAAAv3aB7AAAAD3RSTlMAq1RmmUTNIjK7EInv\n",
       "3XZ/CtNrAAAACXBIWXMAAA7EAAAOxAGVKw4bAAAD7klEQVRIx71WWWgTURQ9mUw6k8nS6Ic7MqKi\n",
       "UpARSgWRGmnF1n4YFxCLS0o/pCKSggiC1ajFH5fWikvcmC+hVGhwQRtQakVQROyHuEEgVqEiWvqj\n",
       "QvHD+94kz2Q6tk1FB2a7M+/ed889574H/L9DugDfg+Tf+XBHio56DajEVsh/E3ZB0fM8S5cnKI0p\n",
       "7ZOPqkXpojh8iP1hQLCDDRiBX6eUJ314DboMOHzYYYd2z8+m9BVD7WMv6ggCBgImEGKv84sOe5B5\n",
       "tNFDu9JPWRm2LM/EES0BlqSssP4MghRzDfu2q+iwdXRetxtLwnTZXWiTwzSTm/SwNcVBLtWhjQBH\n",
       "GOTFF/kbnVV2I7kEygttrhg6Ne7/yFqLUkAjzZCA9unFRiW0gF67dSf5gt+0wL2afsWRB2pccW5q\n",
       "noUhbKCHWuI11aKk6GSDVEUparfe50jz4nr2mmKKoVbBct+DdXT/QufzdPpZ0WFdFFJmjFJmD2aE\n",
       "tWFoKkHHSbrf/E1685IDKjXApQmFMvP1055Na1vMOyKY/N3sjsEdtZG0zJ2xeWoj0JuhhCYSdVlc\n",
       "GRgUnKUhAWKE9ghyv5Aol4fES55XACYfqAk6LmQthyMMA19+e22pi7gf0v14jt1zLtfeJv+348Q+\n",
       "QYIAScVPw+RhBBjW3SyMHEVpEuowi0KlS7+1aKDfKUSK/qaRUkY4U98nIlIoBVZ2F/N2euY5vEbq\n",
       "M5Q64v2NHEutbFlYfzv3wafBJrBTh4dlq/2WZCeT5/SCsIcZs6OiR1bTq1Qpg0X007NMdYehLjLQ\n",
       "wny3IBC3gdydwap82a43IXHQBfKYQcrVhgtryxr3TdZXuirvWn1NOrolw8K2Dc3CB6vPsJVqWYRn\n",
       "m2v0LsrAS0zp1jFNyhlL41RquHmiQwLB8Gb6vX+0vg/SzLXX6g90cl7EUwtZ2K/mxyxSyxez6zyD\n",
       "5C3KEey1lOLNSC/F+ukyvOGsrlCiC/nshtJR2AZX8r8ZnGG1F5ussHKQ/XQWFR4ufC1jdfzWiDKw\n",
       "PDfQQ6pRKQVt7r3mT0JAs1m7DHCCajPrLeO2808TL54WLhqrcw/+CC0LFcRxXYpryShfkFe7mxKJ\n",
       "Dvh8pmaOktNjOt84Cq0lO7Eeqzk6HY2C0jHvCvOElS02MnkPo0/lc9x4DD5zX3V1dcS+ApU7+qwa\n",
       "f4sgGow/1rbJ9JrWHikY0pJ4R9Tg3SsZxvbRQ0+ysjntJCawmrlFe/JULb0F5SI9naK2FqK9QCtx\n",
       "8QBV3T1lbk+DQ1PWC8SZ1zZj44YN2H7pSiSySEoWGj2Jc2PtpQ45fBgcv83+eS9VP+7Ysklvw8Yo\n",
       "g/EP9slim0MU+gXqce/SZXQ06QAAAABJRU5ErkJggg==\n",
       "\" style=\"display:inline;vertical-align:middle;\" /></a><br>"
      ],
      "text/plain": [
       "<IPython.core.display.HTML object>"
      ]
     },
     "metadata": {},
     "output_type": "display_data"
    }
   ],
   "source": [
    "mult_int_nonpos_from_right_nonpos = Forall((a, b), InSet(Mult(a, b), IntegerNonPos),\n",
    "                                           domains=(Natural, IntegerNonPos))"
   ]
  },
  {
   "cell_type": "code",
   "execution_count": 19,
   "metadata": {},
   "outputs": [
    {
     "data": {
      "text/html": [
       "<strong id=\"mult_int_closure\"><a class=\"ProveItLink\" href=\"proofs/mult_int_closure/thm_proof.ipynb\">mult_int_closure</a> (conjecture without proof):<br></strong> <a class=\"ProveItLink\" href=\"../__pv_it/theorems/34b9bef747bc8d4e40e45cee54af43d51640e71c0/theorem_expr.ipynb\"><img src=\"data:image/png;base64,iVBORw0KGgoAAAANSUhEUgAAAYsAAAAWBAMAAADDQa2RAAAAMFBMVEX///8AAAAAAAAAAAAAAAAA\n",
       "AAAAAAAAAAAAAAAAAAAAAAAAAAAAAAAAAAAAAAAAAAAv3aB7AAAAD3RSTlMAq1RmmUTNIjK7EInv\n",
       "3XZ/CtNrAAAACXBIWXMAAA7EAAAOxAGVKw4bAAAExklEQVRYw8VXf2gbVRz/JrnLXe6SLPvHdYgl\n",
       "ItaM2RC1KzpkBtrBUMRI/UuHBPxDFNGryqRTZzYEBbs2KHVe5/Smf3XRNq4OXQdjWrRWEYvU6XCB\n",
       "zIlzVEcQ5mSo9fve9+7ykvWalRv4he+777279+Pzvj8fwDIUrxTANxk2+yTFe/pW29Rz/pePJ4n9\n",
       "klxt6uj45vN9J6bhQdpngnVd5wUjwB7BjI/l19vsm043vZ9tgzDkIZ7hMDazroe9YEhMH2EfNqHl\n",
       "if1T2Gp870VkOqr5UQ5jJ7O7ohcMlSlrwMfiUobYP4Wyje9rQCuO4bOLw2Ag9aSnbyBWOOhj8ajN\n",
       "V4C+tJ1tX+U4e1ogFdrY7BbbZwiPKuzt4rfgw49NdNh8BeghcvXHXePaqTIFhTM8FH1dqXzlDSNa\n",
       "qZws+1j7LpuVq880hZr+ozsuI8wKwz7g7ba6i4xGmKwnOIwt+O4NQypAxPJ5hIy3GpGLjQF0Bt5u\n",
       "PbE4rBsao1GwvIn7TJ7D6AclIeKfPwS3J1wY+K1/pVsPzH641/HHb4m1aZDmQOuu//ReBu4G7cjq\n",
       "ZaHQMJtu5G3dwsMkB49xGBGrnuWG1o7AtbolWfX0NwqHVgJBPWXmYoY+7uzuM2KpBrEyDP3O+ybY\n",
       "8vcA/AgS7VL789KJ+E80zKZhPj/6QOUEf/8Jt6dhT43vM1h1PVzawlJhNasLWTy9Mg/vxbogBLue\n",
       "gkYY0SJM4GSdvC/GVDUL2nlYlVP+Yj3zl07Ef7KH2QbG9ePmBq2IiSBggEzagDyaWKhn6Gc7Uaau\n",
       "3yHCCIfQx7TJBScFCmKdSps+sqMhpYisG+Nto5qowh3gwODT/AuhGoQsguFFNKzr1nNZd7BrY4HC\n",
       "GvwB1TBHMA5ibnh3ayZqENKU/s4DAgy9A+3jfWPY2bsg1vf0vXqBpDHKVE+6tdpbxBNJuCpoiDD+\n",
       "gED+Bpx+blkYbNj2DdMwgy+38a5zzrcXZcR2DS5WJBjPoUNv/wVWWTI/yhRkzwowlE944h/EZG6B\n",
       "LcrpzY2pOqseI6mPt+M6iFESOVINzkuiNhBbJ9PZbtfFuYPwZsI1Yz5MGc/DRTtuo3U4qXoUE/fA\n",
       "Oly8TDAC7Oja0fRCj5jmqwijFBYr3DZu3adA7bTAFqNMmWKqzsXt2NZtmmYSylNwwP60m1hr/7j/\n",
       "1wYY+xdeai+AIsT6eaeJuSZJwwJVmZ3Sd9S19n4K2LOPmW/+vRf/zgmV+BfQq6pl0oacbirUtQvw\n",
       "2gGIWY6oMOWIujciG62uPixkX+ErpDIw5XhqgZios9lqnoZnLqOgKUhZRGybn3yYihGHnhcuFEoN\n",
       "fkhRGtwAeN5N940Z9fxGBkMrkwgjTCxRU4KoMdxnpYsxoFSpSyDPCQVdvahrhqG88fKdrWG8ALFd\n",
       "Bc8Cs0fYp5yAhQwM4LGpxw0INMO472b8ijDUT0nE3I7ioKHOYDOYlHvSk2ib29i+8O+bVi+87mbU\n",
       "PTYzevaJo03nvLhYaw3jXohPetbZrDpvut5ph80R79sfM6ogiVNxV0Qip4vBabTakmk2zjnmxi+f\n",
       "tGfp7ojR8paqi5dc9Tcs2Mm9wov/OCLTJAWb/bB+KbUrVWLfl2GPu9sZ/HRypZftzBJiCP5/+g/v\n",
       "60bbFxr3VgAAAABJRU5ErkJggg==\n",
       "\" style=\"display:inline;vertical-align:middle;\" /></a><br>"
      ],
      "text/plain": [
       "<IPython.core.display.HTML object>"
      ]
     },
     "metadata": {},
     "output_type": "display_data"
    }
   ],
   "source": [
    "mult_int_closure = \\\n",
    "    Forall(n, Forall(a_1_to_n, InSet(Mult(a_1_to_n), Integer), \n",
    "                     domain=Integer), \n",
    "           domain=Natural)"
   ]
  },
  {
   "cell_type": "code",
   "execution_count": 20,
   "metadata": {},
   "outputs": [
    {
     "data": {
      "text/html": [
       "<strong id=\"mult_int_nonzero_closure_bin\"><a class=\"ProveItLink\" href=\"proofs/mult_int_nonzero_closure_bin/thm_proof.ipynb\">mult_int_nonzero_closure_bin</a> (conjecture without proof):<br></strong> <a class=\"ProveItLink\" href=\"../__pv_it/theorems/14c3a93a9e369a577b986e16b92bbfb8d5742d6b0/theorem_expr.ipynb\"><img src=\"data:image/png;base64,iVBORw0KGgoAAAANSUhEUgAAANUAAAAbCAMAAADcfDp1AAAARVBMVEX///8AAAAAAAAAAAAAAAAA\n",
       "AAAAAAAAAAAAAAAAAAAAAAAAAAAAAAAAAAAAAAAAAAAAAAAAAAAAAAAAAAAAAAAAAAAAAAAeYafp\n",
       "AAAAFnRSTlMAq1RmmUTNIjK7EInv3Xah18O17eXJ8+7nKwAAAAlwSFlzAAAOxAAADsQBlSsOGwAA\n",
       "A5pJREFUWMPdWIdy2zAMFUlwj27+/6cW4NK0pLSK71qe4zCOLBLAG6Cm6Z8fbvoPh5fl3Sf/nvWE\n",
       "fMMimpWl0jRJixP47PU4vCN1TNN7MPiWcartJ8NdjXTezPqfrCIL7nQmcgXeqvaJw4o2SfzmBq/2\n",
       "w1XIQdkYbcB7g6XxA3/EZEpUsawYacrmL4lH8R76bS9Y7GyILfyLDSTLCGiqvFZfqVGFkpZEEcGg\n",
       "tNJPRgV+C8SXQ3UCqnORBmiBeD4y0lJYosrlY0dz04v1MM9yyxZcIyD3TQq4FgYMpMZCCPz5yxYE\n",
       "zmpBuRGLBHn+ZFAVEwSLaz7lUaLg1oiLONTabsFMBYdlkUGfRMre/gIKWrRkqkdLlWJn+LWNxhmL\n",
       "i8JKlQ4AiYGYUVE7X4AuDO2vVBIZKCMxPGvNTK3pRXbpkz6SOcVSYhUoftYufUwyDGTEwtNJ7cFs\n",
       "4n5E1+0m+zIg6m3er+Iy7t9VToi5ssfahYI6G5J6BX7Tew7N/shpqRI68aT3Bai/Y2OrI4uZIB5s\n",
       "dKHKfGbh8ZaXqs5fNGS6ChWVyR9cYtRWFlmwHvA1tLbr8W4PsV0TuhTm8qmfCzTuUWbZ1zSPtSsv\n",
       "cCz3gIZeN3oGLFejInwepob1TZjErMVrI9bEu8Hi0r66sBOvRa16VMHO6y2jbpHKqu4yTBsn2hh2\n",
       "9x924q06m1bX4+4pmG5/bYIoMlwTljwAfPkK6OGaUBXNOQJdpgVEfuVWUAnHZ4TGoyybFo7Lp6ai\n",
       "m1V1wXFeJK/Hv1Gc3KaTgWmNv1arbe5Yy7VNLSpehZHvkkyZrazDsOcKpX2eUdJlXZPFG/6nQ8us\n",
       "Q4j1UMlz3JRgDQaheSkL1urbd6BaFfDuAJwalrpWU3Q8wsH5h2FAFrY+gLfkB6pesq8tP+uDRJhL\n",
       "OzotE5ZdN2qtXJTKpWkQvm8QNVDoVwkzLauOJW80S2ZPFuZHVxXl8nMrV2yVwaqADRI27vbMXGEr\n",
       "58TtxJa0wkuEKj2/pdx5FAtcsNjcucF1mYjmA31+3Jyd7KpjujmU2GoiOaVwbb+5nsTMnBjJTZEK\n",
       "d31872ASHzgRwxNnIbdz+kC0ksJVe0VaFfrObYcvvJDxTnvbgWxvH3CeOTWIXT8hQfDkSb/ptGyg\n",
       "CpG2XdgZQ3pYdasPYfzEeY67rEcOePHsLnzVGBGvPvjEaBwX9c0nCemRoE6fW8i/b3b5mx7QfQDF\n",
       "T/D2Lc8Dt4JTqvEbQCgbn4NHYV8AAAAASUVORK5CYII=\n",
       "\" style=\"display:inline;vertical-align:middle;\" /></a><br>"
      ],
      "text/plain": [
       "<IPython.core.display.HTML object>"
      ]
     },
     "metadata": {},
     "output_type": "display_data"
    }
   ],
   "source": [
    "mult_int_nonzero_closure_bin = Forall((a, b), InSet(Mult(a, b), IntegerNonZero), \n",
    "                                      domain=IntegerNonZero)"
   ]
  },
  {
   "cell_type": "code",
   "execution_count": 21,
   "metadata": {},
   "outputs": [
    {
     "data": {
      "text/html": [
       "<strong id=\"mult_int_nonzero_closure\"><a class=\"ProveItLink\" href=\"proofs/mult_int_nonzero_closure/thm_proof.ipynb\">mult_int_nonzero_closure</a> (conjecture without proof):<br></strong> <a class=\"ProveItLink\" href=\"../__pv_it/theorems/622f739b613ef0d4489b551257badb526aeacb930/theorem_expr.ipynb\"><img src=\"data:image/png;base64,iVBORw0KGgoAAAANSUhEUgAAAboAAAAbCAMAAAA9HrpIAAAARVBMVEX///8AAAAAAAAAAAAAAAAA\n",
       "AAAAAAAAAAAAAAAAAAAAAAAAAAAAAAAAAAAAAAAAAAAAAAAAAAAAAAAAAAAAAAAAAAAAAAAeYafp\n",
       "AAAAFnRSTlMAq1RmmUTNIjK7EInv3Xah18O17eXJ8+7nKwAAAAlwSFlzAAAOxAAADsQBlSsOGwAA\n",
       "BXVJREFUaN7tWomSpCgQlUtuZndm1///1OUmUdQ6rBi3Yohuw6YTTPLlrdP0Z9x6qD8i+J8OzeJV\n",
       "O33ptshay+96ZsK+ATmO4lncNDHpb2iedl7y+J195xufGdOvMDoUTcMIf1n8LZdNNcmXQqcqbzdx\n",
       "C6+xwaKb5EsIeAZn+/ty6GQ5mMP3YIi5Uz8xm8XM0lppPPNUhvHL/5JJROhsPJJVDTrU1pIXoHtj\n",
       "+Sd13BSm9F1YcmficRKJJNR5tSZBZyL4DjXoaA3nM38BujeWf3BQvfabv3/MJ2k+pRktXRyFypEt\n",
       "OcwlTqtFVehEgRGEwCege2P5B8eSFYreyBMQ+kBG4tFKgAWH+c+/MjrMlqYEoZMW64o2aPwKdG8s\n",
       "/9wQRTXNneKvUSsH6TN8O/e1NxVTdJsTtIrJheIg/0Vlg66kKs/7lhlmOnfKWZwtkf9O0M3QBbDZ\n",
       "DRyoR0tU45SNwJfkNP/lDMgwTUDfGv0adK8v/2A1NPchz1e22nF3Vv2e0zxaRw930giQjCOfR6sC\n",
       "hse8sOxRInRUrDB+DrqXl3+wNJC9njPj44RcDll8hObBOmBnJwJ8wDin8/lwK9zmvWAgGnSx2cLR\n",
       "rg5ZGhppxKAxdCfLP1h2B5viDruNGObMTW4WKRM1NHpRRcYiATRKa4RehxA+rQfGnJXEsDDAO408\n",
       "nlOwFKiCxegtpXBISj+N0aQ9BVU7JfnO8uvdoJGa+p+aTZcsaSMHm2lM4ooucVLHMzkgU7XUpYCG\n",
       "QskDkmPAKh3YaW0v7TZFGT9gXu5wlqM6fBCELnjVeVBniFJru3AcvddNGS+/MF/MKhRa3VrV6B77\n",
       "y8psU7dmdRk6I8GRsR1g3NGEC1/EhuR4VLruab0jbfIfVVJ+MldY6KBE5tBhBsFnF0so8XpJ++of\n",
       "C8x81N2Fri3/THldVMgzJDAPbGlK6Y+/KGXemwepiUOHqZbAHck6j+1YlxsNURC6p/0l3KmJc/Xk\n",
       "ERO+KkiYqeWw8OEQOo1TwqMIC446hFmgF1h4ZcdsH7qyPIQJ4jTfBqXR7Dh8bSi7BhKdeneZrW69\n",
       "N8rMS5ckgVPWifkBdJDGH8m+HOraTkCcUdjA1NxW131VwNKh0NHDuwwztPySmnLlAhzhn4xA6Lyg\n",
       "nNyFriyflPdpRSvAYYazw2NvKTvXQjiOxuCt7u+fNFhd5GHjrUvtk9PxgCC2GfYxdD3NJKw6CGfb\n",
       "m/FOQJxdqRJlhweFQbQALvFRY4rAui7Zar5x2SeTObauJU7Q+Wxu3oWuLg9tOGFSW0x1zbk4y7Cj\n",
       "7KyNJ/oOCFChSTWvrYr1+QyT8D3NFAkmhZwWHDlxAF1Hw8elTg1n25udnao4IzHrqCRTfSSUs/EC\n",
       "N4vPxo5khHroWrNGRAGKSejO6oLY96Grq1lubQsM1LbOmhM33ihhMVRVyOMWMl0VdqbHyXvOT7ZR\n",
       "cBe6LhPwgPBLmulVnLHIWumXll0j7MmezBo6vsTzBrCa4qVPBRw6hU4FXydJlG2Drs3yjU3trSeU\n",
       "kfS+BqgQwyLmKOr864XimwYt33PouBRC0CtaDECcV7XC4ZuDXhMCPk6TdIAcPm0q/dEDVhdCFSMN\n",
       "ulg1g9lJsjI7ulRKHCKrXXXydAxE7JEEomqIXBkP1/OiT9Jhs4RxhZyBOK96s0LA+7qDbC84Knba\n",
       "CIOsUoIzpwk6Ed7Kg9mU58dZYXh/6Sh99ORzsYHCNPJRRM4P9W0QPiigfk9z7prXmfU7rs994FAc\n",
       "ZpdIeV/ntrPTgNKGqoCpx1RopHc1+3X3QM5dg9znv00RzqT3d10WNXs/ZDezxWJVl3+FXuw7zOE7\n",
       "vcm4bFz3Rdj5d5jk4dmr32d/x3eY6/SrvLSz1pD/AFFTLsFa2To+AAAAAElFTkSuQmCC\n",
       "\" style=\"display:inline;vertical-align:middle;\" /></a><br>"
      ],
      "text/plain": [
       "<IPython.core.display.HTML object>"
      ]
     },
     "metadata": {},
     "output_type": "display_data"
    }
   ],
   "source": [
    "mult_int_nonzero_closure = \\\n",
    "    Forall(n, Forall(a_1_to_n, InSet(Mult(a_1_to_n), IntegerNonZero), \n",
    "                     domain=IntegerNonZero), \n",
    "           domain=Natural)"
   ]
  },
  {
   "cell_type": "code",
   "execution_count": 22,
   "metadata": {},
   "outputs": [
    {
     "data": {
      "text/html": [
       "<strong id=\"mult_rational_closure_bin\"><a class=\"ProveItLink\" href=\"proofs/mult_rational_closure_bin/thm_proof.ipynb\">mult_rational_closure_bin</a> (conjecture without proof):<br></strong> <a class=\"ProveItLink\" href=\"../__pv_it/theorems/f676743fe2b513baef34c290fb6ad124098696b40/theorem_expr.ipynb\"><img src=\"data:image/png;base64,iVBORw0KGgoAAAANSUhEUgAAAK0AAAAWBAMAAABAjAHGAAAAMFBMVEX///8AAAAAAAAAAAAAAAAA\n",
       "AAAAAAAAAAAAAAAAAAAAAAAAAAAAAAAAAAAAAAAAAAAv3aB7AAAAD3RSTlMAq1RmmUTNIjK7EInv\n",
       "3XZ/CtNrAAAACXBIWXMAAA7EAAAOxAGVKw4bAAAC+0lEQVQ4y6VVXUgUURT+3NnZn9l1sr8HEWTJ\n",
       "B1+yFhNJA1kwI4h0YV+iIjaKIolYewiClI2IAkMXEmqFanwJxMC1ApMgessKwwf7lYXZeughCJHK\n",
       "KJDOmTszzuzqInTgO3vv4e65937nO3eAdZjfxCrhVS2F9dlnE0Um68URZSo7REmP0bCK53Vl03py\n",
       "Ak4bnSH3pXhlYRq9NYAaBTp4frps3vsmXHaS4NPcsdCeKOSODNANXGaiMmXztptw2SJBirlj/T5y\n",
       "mTagSewZipTN+9yEi9s/7F+JiXon/45/h0fIPaHkYQ0SceErT29SwH3lWfYnxB7nBB9KZoD8Nm8a\n",
       "Pko6k8+/LpvXmxNAz7M+O+irLdAlJ4zxBZPmQC5BPiFFECI17Kfzl83LmzPkF7hnF2q8W1kCmuGs\n",
       "uqw3kh/wRCHR9Xrgr7JWB85Yo7GhjZa6KyMCD6I4aG+2U8MbYLsxtjjy51ivCTUOD5UjqIXi9vIa\n",
       "Tl7Ixv1PEWo0Y+G4QBcwzyz+4uA+4C8waByGmMx/5JHJr4bAApVEd5RtmrA3TWU5D2VXyp33JZSf\n",
       "PJ9jNw+ZlHZUlMv693CPqQeZ5ZNs43u3TfLWywWNmwXX6wFdd/GgLENacMjXS0prMMazVvCIoV+6\n",
       "p4dDD6k7lPeBJRbiJzU2yitaoyt5g7oBZREVyXorxW+mGy3G+LutHO63rXR8ia9wicrmjQX46MGo\n",
       "lGStGDl180lg0TDuoiFmN9hmDJE/IARjt9UEvQ9bTGmiIs38qSyKcNpb1ZzNZiOHHDwEZgVGvl2r\n",
       "TVsZRh4zXW9FP1QfthTRdeoHL6m0lDCeCraSNjcgHOk3zuioGz6YKH2ATWblKdHHfEYuFnqtFeHU\n",
       "YEIbQ6XWQroztIaQ/Xg2mSjtxGhJqFbddNXxSsntOx7hRiTQqcN/2+iLueP2nYMpgRK7uMpjUn32\n",
       "Zsn7KPgfy2aJnskrK1+BjFOkDru1RucXHUJ2PtPeuk67DftMFJm61nfsq3squWYDu/Ef9g/zfLkY\n",
       "n4i89gAAAABJRU5ErkJggg==\n",
       "\" style=\"display:inline;vertical-align:middle;\" /></a><br>"
      ],
      "text/plain": [
       "<IPython.core.display.HTML object>"
      ]
     },
     "metadata": {},
     "output_type": "display_data"
    }
   ],
   "source": [
    "mult_rational_closure_bin = Forall((a, b), InSet(Mult(a, b), Rational), \n",
    "                                   domain=Rational)"
   ]
  },
  {
   "cell_type": "code",
   "execution_count": 23,
   "metadata": {},
   "outputs": [
    {
     "data": {
      "text/html": [
       "<strong id=\"mult_rational_closure\"><a class=\"ProveItLink\" href=\"proofs/mult_rational_closure/thm_proof.ipynb\">mult_rational_closure</a> (conjecture without proof):<br></strong> <a class=\"ProveItLink\" href=\"../__pv_it/theorems/9eceba9c6075c7dbb2143be9392beee974505f230/theorem_expr.ipynb\"><img src=\"data:image/png;base64,iVBORw0KGgoAAAANSUhEUgAAAY8AAAAWBAMAAADKqg3rAAAAMFBMVEX///8AAAAAAAAAAAAAAAAA\n",
       "AAAAAAAAAAAAAAAAAAAAAAAAAAAAAAAAAAAAAAAAAAAv3aB7AAAAD3RSTlMAq1RmmUTNIjK7EInv\n",
       "3XZ/CtNrAAAACXBIWXMAAA7EAAAOxAGVKw4bAAAE8klEQVRYw71Xf2gbdRR/yV2Sy+WSRfHHxiBE\n",
       "xVmoDcesE6fUaFcZiiwQ8Y+1SFBQHIIXEHXOjSiIgl0anGW2oF4tCLNKYsvYpjiqIp2KUKTqwAUy\n",
       "q85ZhSDOiaD1ve/37nJ35BrKBR/k3bvvffP9vs/7vl9fgDUoUS+Bb4oQ07q0TjvSOisay/nfH74n\n",
       "i6T9rxNquEfkExOvIIr7uaZJGrrGC0iAHkHVx/7BGrLeLhgElt0DZ0/B/s1oJZUBGaKhh72AiHQm\n",
       "YT+O8RaZrtANIGHdpd0tKoSGKgB7GJBnyf0qXkAkOrC9frYfxJ+odgOIkHW+vxRGVhkA6GdACGcs\n",
       "7RkjiBZm/Ww/jz8FukKf88f5ep2d8OQUsuOIRtFJUwGtFfYO9hvw4ccxgvTnLd0B8iDj9/1ihHql\n",
       "jPxqsQRhlaWlL+v1L7yBKPX6mZqPzUX6893kvpvPudJO8eSBzv+3T3qPZeE9xptUyyPPC2mIJRmQ\n",
       "nXhI3kAQcFT3E6GqYcoRLfq3M50uwBsdV3ZM2gb2zBNqbEVexpQqFBiQIkSS9rqzdBRuTVpA8Ftx\n",
       "3drLJ26/0hDjFH5f4dAnIC6CvK016R0V7gH5g0vWBMMmmXQ9A2IpWqOikU/kIDjPgET1Vt0rbxqH\n",
       "q2K6qLcK4iQcXRcIWmJfDeaM/KHQ2p+iizUhXoPybwznn8R3AXwHIsEzR5xULZiTTBojNlpHYlnW\n",
       "iBEdpCbTNNiwQIo7qTg2sjFbZc+sL9bZEsfSMH2TE4hSgSqKfWxwidhnIF+ADbnIX9aIk+JZc5JJ\n",
       "I8SOWK+TRSNrhfiJQAFTsTBY/sGonT3XHrADCQsYo/LciumaNrFFMwPHbOVXek6DRMLpWtUG3AYm\n",
       "ELbOvyA0QdA5EC8f5ZOYcsaf49bHYVZHMFCCixzILOaB6RFV0WR2Yj2xN4dtQGJb0M/e1cZM7W1i\n",
       "a79vpYtmTqTKNQ0WkCilqtcRSBquCGp2IL9DoHAdrr+4FhA2iSmHbzezRtbKfSJV9stxQ6HCgTyD\n",
       "of30T7BBD7EC3APZ8zYgkY9Q2AGjWOBZ5JAYygw5/SkrzRuphJYgEAnjVGNJnjejjeCSaD8RRNeX\n",
       "Re85aAU7CxQWGdWCYxJTzsjiAA+00jH2WpfxFM+ABKgFTqEHCo9MTLyMQGbC9u53I3PysyD1sS1J\n",
       "VKDqAKLkEkaeY0uEbK4lkcEPopap48WfHUCmVl5IlSBiS/1LZmTEs85JKR4eX/OhcRN6ZNdDf5Du\n",
       "8ZytTz8FOySpxk8klHG18fJFOPQ2xHVTjNAB2ROMFt2u9+d7qUqBM9jhNO1k3Rb63M7zODzZOYOQ\n",
       "cqi34YTDr9WNEwuUBuix33bhiDThdA8vjDdif+y+jyxIF7YTELnGRRgncYazGVC0sbyeqVAcsiXK\n",
       "SZg1+8R+R7vnBhJ59cW7Ol+pmHLtWs9U4tLnWV9qaRpKwooKe9Fy0jcaBNxA7t2KXxGI9DEXsd6j\n",
       "OKpJC8hG06HBzBya5wnqlMn48od3bjT3ilKYHjZe9j120qmJsrra7HylYsq1a8KDmx49xHp31xUQ\n",
       "r1zj3jdEcq0gF99PWCISr31xWN5tLhF7yrIey2NHutEzHvYYJ1N1uMvG7Fdh6Vds53fzBmr1H1Mk\n",
       "g/Hgm4Le1tnf0f+jKVLTF2n4x5Hwut6dw29n1nspV9uIQpt50nIJ/l/6DzhhTZK72taxAAAAAElF\n",
       "TkSuQmCC\n",
       "\" style=\"display:inline;vertical-align:middle;\" /></a><br>"
      ],
      "text/plain": [
       "<IPython.core.display.HTML object>"
      ]
     },
     "metadata": {},
     "output_type": "display_data"
    }
   ],
   "source": [
    "mult_rational_closure = \\\n",
    "    Forall(n, Forall(a_1_to_n, \n",
    "                     InSet(Mult(a_1_to_n), Rational), \n",
    "                     domain=Rational), \n",
    "           domain=Natural)"
   ]
  },
  {
   "cell_type": "code",
   "execution_count": 24,
   "metadata": {},
   "outputs": [
    {
     "data": {
      "text/html": [
       "<strong id=\"mult_rational_pos_closure_bin\"><a class=\"ProveItLink\" href=\"proofs/mult_rational_pos_closure_bin/thm_proof.ipynb\">mult_rational_pos_closure_bin</a> (conjecture without proof):<br></strong> <a class=\"ProveItLink\" href=\"../__pv_it/theorems/8ed59cb5c427c07160df6d7804fd1c5b129b315b0/theorem_expr.ipynb\"><img src=\"data:image/png;base64,iVBORw0KGgoAAAANSUhEUgAAAMkAAAAZBAMAAABp1hcZAAAAMFBMVEX///8AAAAAAAAAAAAAAAAA\n",
       "AAAAAAAAAAAAAAAAAAAAAAAAAAAAAAAAAAAAAAAAAAAv3aB7AAAAD3RSTlMAq1RmmUTNIjK7EInv\n",
       "3XZ/CtNrAAAACXBIWXMAAA7EAAAOxAGVKw4bAAADYklEQVRIx6VWXWjTUBQ+TdIl6e/0QYSJRCYq\n",
       "DKRMER0yK504FWZlIg5l69yD6IuZ+ObEii/Cpiv4G1GJTzL30OqECSIMRHCIMGUgCIXsQaYishcn\n",
       "7EE85ya5zdK6tXohaXLuvfnO952fW4Cqh5iGWkcSL6m2LetrBoEcXnKulh2hDN318gl9aRRorQVF\n",
       "TeAtppVPdJdZRg1jbwklagLU00NjFSgDdGvy8bs3hcgJ38rYmqz8vsBRYgixhx5OVoFygKvmGXUU\n",
       "39M+49gYwOEukAxj0riOmxYALlUboJ+UL36346Tg1sU2pYC+qKLlcoE+9AZVC2vLgyjoEUT81h6T\n",
       "rKb98rVYJK7qY5QonM1wlH1YBeheXRVUYhgB2OC3vmSy2QyPfLNtIwrSELR2jvIdr3fF4tsqUAIZ\n",
       "JzZyw6zFrb0/VqLfLINkNzyDQUQNJpo5ChFGzLt//XahlMg5W2E4rqsLPMfmzbwOIsuJOrduukUM\n",
       "gGI1OrUPMJwF6Ae5fskW4WQTLfqAH34F0pRrFBYgYoEwwRa4xvMC4/KZb72IrUk1w7xBKad4Yd1Y\n",
       "oS9CidLja0yzOYgSwzwRkDIQL4AyRwuGijiIsGrHZT/fmsfvC5Yn+A0ENWOk5RcQbi7ngiiRHNtl\n",
       "oyJejwZBxmWEa/uI55jDBRWDjKfRvMGrDY3hsxDaoj9rm25L+xTLW7DLWy4HTRCYglHXGLTrpVQd\n",
       "w6TKU0qO0dZxovF7xmQN48pGAMvycgmQGA8QRYNVghvoeBbDBKLdSHjmpbD2D3X5imoAvQx9VH7R\n",
       "yk+xJGPekvCjxEiWJ+ikJUzzIyOQUHGFZGfiCdcapj5W2gk72VJUSEoqE6zviplOshGCVfCiBCl9\n",
       "r6I/a5/3f+GZ3JAirWxVH950egCcmz/T7knU3e5DJE2dEyJZqX6bYRjaUUexUr1Q5CGarZTuF5zf\n",
       "Y/eLTshXi5Znvo8nm662oCdxiGiDjDSLfllPFpOVUFLljcKa2cTLI8SLOKIPd5qjeODswPph2Qxh\n",
       "36EzRLfbFUAqdfR1tyZ5+xZ50QdTm8dgSFM6LJDvsKqc7vWpE9C8ReE9RPWlO2DUN6+55ymyHb9c\n",
       "6dyXrfKvzC7TZ33nftD0vEiNHb5/Rk3wT8MvqLjo7dr2//8/xtxF3/8AHibNFz0dcFAAAAAASUVO\n",
       "RK5CYII=\n",
       "\" style=\"display:inline;vertical-align:middle;\" /></a><br>"
      ],
      "text/plain": [
       "<IPython.core.display.HTML object>"
      ]
     },
     "metadata": {},
     "output_type": "display_data"
    }
   ],
   "source": [
    "mult_rational_pos_closure_bin = Forall((a, b), InSet(Mult(a, b), RationalPos), \n",
    "                                       domain=RationalPos)"
   ]
  },
  {
   "cell_type": "code",
   "execution_count": 25,
   "metadata": {},
   "outputs": [
    {
     "data": {
      "text/html": [
       "<strong id=\"mult_rational_pos_from_double_neg\"><a class=\"ProveItLink\" href=\"proofs/mult_rational_pos_from_double_neg/thm_proof.ipynb\">mult_rational_pos_from_double_neg</a> (conjecture without proof):<br></strong> <a class=\"ProveItLink\" href=\"../__pv_it/theorems/1cc66197b3eb3e3f9c76712afc1d0924f536aa720/theorem_expr.ipynb\"><img src=\"data:image/png;base64,iVBORw0KGgoAAAANSUhEUgAAAMkAAAAZBAMAAABp1hcZAAAAMFBMVEX///8AAAAAAAAAAAAAAAAA\n",
       "AAAAAAAAAAAAAAAAAAAAAAAAAAAAAAAAAAAAAAAAAAAv3aB7AAAAD3RSTlMAq1RmmUTNIjK7EInv\n",
       "3XZ/CtNrAAAACXBIWXMAAA7EAAAOxAGVKw4bAAADUklEQVRIx6VWXWjTUBQ+S9oladIf9zCUiUQG\n",
       "KghS5g86ZFZacSrMykQcyta6B9EXM9mbihVfhE038DeiEl+UuYdV9zBBhIEIDhGmDAShkD3IVFT2\n",
       "NGEP4rk3zV16U2aqF06bnNyb75zv/AUg+NoKta4USqi2I0KqZpRhFGm4piOPyI/h1xvLo0BbTSjX\n",
       "UWK6X9/t04ya5t4llKgFkCAXzQFApEn82Vipi9ybRuQktzO2uiC9LzKUGELsIRcnA6CE8Fwkxynr\n",
       "SaxOc8rxcYDDXRAyzSkTCYgsAlwKGqB4FpF4s+OEwS2VOrmItiii7foCvWgNsqbqAVCGcKPGK3tQ\n",
       "CZrl3HwtlYivyhOkSC3kGMo+ABHNqw8S/B8o63jlS0qb4+GRb45uREY3BL2doXxHeVcqvQ2C0ohy\n",
       "gNDbNGczZf5nA9pNM0hywzMQRtRwsoWhEIcR824QFNNhGI4byiLLsQVrzACR5kS9WzfdIgZAtpvL\n",
       "tY9cFwD6QEoEQcmjfMAXv4LQNGsHi6DZIExSFFd5TqC+fGYnL2LeKJaaZelxihXWjRVcTc+gvMY0\n",
       "m4dokbpBsjsH8SLI8+T5YAkXoUhx4rKfnRzD9wu2J/hNBGrWzEovQG3x+4Io2jA95aAiXo8OYerL\n",
       "iLtRecxyrOwLMgY5T6N5g5JBpXoWIpuN/kwmk+UYG7Nhl7dcDlogUAajrjLs1MtSdQwRVp6R5Bht\n",
       "myBu/J61aMO4sh7Atit8WYXyAFF0aBRcMuMFDBOITiNh29NY+4e6uKI6jw5GPsq/yM5PsRT1vDXp\n",
       "QyFZ/xSNtIUZNjLqkkrK6T24TrhalfQxz5jYSbciQ6GUTMhVkmKuk+gIgl30lflVtGfN874vLJOb\n",
       "0oQrh9WHN8s9APoXzrR7Tu52L7Qs6ZygFUKJbaZp6kf9jGn4rmihWo5fKP8fu18qh3yl6D3by5LN\n",
       "UFrRkjho+gB1mkbf15PFquMy7dPU2bMbWNpEWBFrxlCnNYoDZwfWD81mULmhQym9XW3wVOnoa29N\n",
       "sfYtsqIPpzeNw6Aud9gg3aFVOZPn2WnwFoVnKcbyTSPKPdfdeYreTlyuNvcl2/+Wub+0Jm7uhy1v\n",
       "GJo7stw3TBH+ZfGEihV317b///cYNRdt/wPKrcxkZTcL9AAAAABJRU5ErkJggg==\n",
       "\" style=\"display:inline;vertical-align:middle;\" /></a><br>"
      ],
      "text/plain": [
       "<IPython.core.display.HTML object>"
      ]
     },
     "metadata": {},
     "output_type": "display_data"
    }
   ],
   "source": [
    "mult_rational_pos_from_double_neg = Forall((a, b), InSet(Mult(a, b), RationalPos), \n",
    "                                           domain=RationalNeg)"
   ]
  },
  {
   "cell_type": "code",
   "execution_count": 26,
   "metadata": {},
   "outputs": [
    {
     "data": {
      "text/html": [
       "<strong id=\"mult_rational_neg_from_left_neg\"><a class=\"ProveItLink\" href=\"proofs/mult_rational_neg_from_left_neg/thm_proof.ipynb\">mult_rational_neg_from_left_neg</a> (conjecture without proof):<br></strong> <a class=\"ProveItLink\" href=\"../__pv_it/theorems/f0c5ee1c5f368523b2c883dd2e1a1c869df695c80/theorem_expr.ipynb\"><img src=\"data:image/png;base64,iVBORw0KGgoAAAANSUhEUgAAAO0AAAAZBAMAAAAvYLSzAAAAMFBMVEX///8AAAAAAAAAAAAAAAAA\n",
       "AAAAAAAAAAAAAAAAAAAAAAAAAAAAAAAAAAAAAAAAAAAv3aB7AAAAD3RSTlMAq1RmmUTNIjK7EInv\n",
       "3XZ/CtNrAAAACXBIWXMAAA7EAAAOxAGVKw4bAAADsElEQVRIx61Wa0gUURQ+uTvu7IxNZk8LRPKH\n",
       "f3osZvYktNYoolrYP1FBRlEkEWtEJJXauwh2lzJqhGokCKLASQOTKKQ/vTD60VsW1qxfpYgUhkF0\n",
       "zt2dO49dKEYv3Ltnzt57zz3f+c65F2AMbZG7ZV4YW8updLfOFx+b3Vtskyz7/mvhyrHZvUTD50y9\n",
       "kHRqpC61OWJ+TtQA8kkocQVXN2Gt25W3e3Dod07tewbHZpufChqtJmGPK3roBtbWtgt7rmbXycsD\n",
       "IFTH4byKDf2WRgGOuw70pBAOq53aYeweB+Eu5OIQt0R1Z+pscrEbuzHyqtsZ21EaX6TxvJZ4R78t\n",
       "rTg8yDVnrcOzBdC2K1oNUHhrHEr5ddofOsP+FN5SPIrjHG8Tn/Ude08i8dKV3elGjOseN3BlblEf\n",
       "gnePyYfSYRb1MI5hj4nqdvxnLeLw/8ZkU1TJDKIlPIUbnEhttdIIQAVY2Soky3CM5gTMEKHrdeDL\n",
       "d1XjdlAmog93A7CBKxdo8ApgLpONGPh0ytOwEuKzGlH0a3LIuvOd5smWFD8T56lfNcNu9w32PFy6\n",
       "CaCXuUp21gD8Rn8YvBjBxEeS0vE1s6sNl+UkOa3EPjXkewhymbn5BApgtPAyHNGhozjDX7L7HKSf\n",
       "rApR9vSCgJm0LUUnY2ZLnYPPjUSxGp5YQfyUD4C0MHIwGAwyFPJQ5UUKQGcx3FwsBzcEqx04S3/A\n",
       "M2RJXy9m0jwmvzaUW1n+WryJEaLttYTuyk5QKPDnSgGSZoGNDc5iZU88EQFFsflbiN2fBGkYJtSU\n",
       "GspfFG5YyuRBTgqqV9MsxYn4DEeRVtJ7cQRuk2pZwGZ3QPvC8PLcBKddSkIZ116HeZW8QE2BZhzX\n",
       "p3KKJ849rM9TLRxawUJIUFaK3UBZxmwmdcudUyEQDGRTkW126dAiYtn67WwRLwmt92n22xQVC7cY\n",
       "jN60+0eTxW6VIeSF8I6owKpdvNmO8zOo8uxV1YtCGmdL/hKn4EPWmyodWaErVSfJN9udu5MTO+Jf\n",
       "pl1ghYHxis8Ygici857xKvM+Ks+a5IEMVZFScNq8jkf52SOxsObXWC6BbFzHkg6fPPFUOYvmQ7t9\n",
       "O5HuBH8ki936LG+iwn2X+IeHFyph9fwO8F1ldePNDiMU4hM4haSsp2/p0ZqZjr0KbElqaVf+UfQm\n",
       "Og57R1UxZp0nzVMar5TLGIDDgWzvq4bMbZWIq/eVt2SjUTi3WPWryr86sNPH9z0ZXWJINg/F/qZx\n",
       "ej8jj/4C+cDkRldETJcAAAAASUVORK5CYII=\n",
       "\" style=\"display:inline;vertical-align:middle;\" /></a><br>"
      ],
      "text/plain": [
       "<IPython.core.display.HTML object>"
      ]
     },
     "metadata": {},
     "output_type": "display_data"
    }
   ],
   "source": [
    "mult_rational_neg_from_left_neg = Forall((a, b), InSet(Mult(a, b), RationalNeg), \n",
    "                                         domains=(RationalNeg, RationalPos))"
   ]
  },
  {
   "cell_type": "code",
   "execution_count": 27,
   "metadata": {},
   "outputs": [
    {
     "data": {
      "text/html": [
       "<strong id=\"mult_rational_neg_from_right_neg\"><a class=\"ProveItLink\" href=\"proofs/mult_rational_neg_from_right_neg/thm_proof.ipynb\">mult_rational_neg_from_right_neg</a> (conjecture without proof):<br></strong> <a class=\"ProveItLink\" href=\"../__pv_it/theorems/e2528cf03a7626146ced6dcc1596a6d8f53479660/theorem_expr.ipynb\"><img src=\"data:image/png;base64,iVBORw0KGgoAAAANSUhEUgAAAO0AAAAZBAMAAAAvYLSzAAAAMFBMVEX///8AAAAAAAAAAAAAAAAA\n",
       "AAAAAAAAAAAAAAAAAAAAAAAAAAAAAAAAAAAAAAAAAAAv3aB7AAAAD3RSTlMAq1RmmUTNIjK7EInv\n",
       "3XZ/CtNrAAAACXBIWXMAAA7EAAAOxAGVKw4bAAADdElEQVRIx6VWXUgUURQ+ujv7M7NuZj8ggiz5\n",
       "4EvWYiVpIRuuUUS6sC9RQStGkUSsEUFQakRUGLqgUCtU40sgBq4lmAThW1YYPtivLMzWYz+EFIaB\n",
       "dM7szp07sxMLswfu2Tvf3nPPPb/3AhRBu+yJOaE4Kg3Zk3MnitP7UN3EYt9Cgs3F6R0i9jkfFxQz\n",
       "Is4kh+P6Z5kMUE6TGlvumiVfp4zg2DyyL+almTm4UqV/+lFpK01O20qPlOZrnk7icMlGTNoTBKE1\n",
       "AbeSSGi3uApw1Xag10WQtZjRZRwOU8L1u5AluKh2Zs8mBezoHSSrZs2xXSX+KufPe+l39Dsyiuyp\n",
       "S191EM8WRN220uo7hTdmAqWFnD10hnNZf4uJAeRbnH1s1Tcc8+n0a1t6N2sx7n7ew0BXdQadN6nO\n",
       "L+bC7ElFkUcduldP4D8H0A8Wu6YK6k2SGvSW8AIesESa6BJXABqAz1ZBqUc+UBrUQ4Smd4O73GLX\n",
       "wr2ogyoRbXgUhMMM3C7DG4Ct6lyLgTtFdRr1R9iqXpx6ZSnCbzc+vD7O9HrOmGCOFnH4ULQdYEk1\n",
       "lfTsB/iL9qiyGMH0R5rl4qtX1wSKlSosrTyZZMT9DKR63d4qE2yyl/S+BPG32oVIZAkErKTj2XTS\n",
       "Vo50m/K5l1IsxgorjJ/SeRB3xKfCi2HVC3MG+EI4HI6Y/CyugeMnV75OrKQ6db6ggcfU+uWOPUiu\n",
       "e9xFbmyeBj8F/mYtgKIwP69lZAPMUSUOrwLiMpTEajXwD4UbGtX5D9bZqF9t4poT5TNcxrQS33tW\n",
       "YIygpiCv1//JHzLAHFERSih7H+pCLAs3wDDyQ9maYoUzif15Iye6l1gJutEZ8swCVZm6uZLS9HqD\n",
       "jpgBBuOhPejL0a83qllLGJ0i77zN9ovKo1pGt5/61ceJ7tMmvgjeEQ3YtQNHcg7N6vD1OcsNMEeU\n",
       "U/DB8qbKRVaYyfZJss1w53ayxI57m+R+tdGpCcR6P/gCFrB+H+20vKmCeVC1v+K6fh2vsrPHB6Oy\n",
       "V1aLBiTtOh7HG7oR8mCt6uhO8MYt9F6yeBNVnh1iHw7WqISWbU/AfVdVttihheJ2wNOm5MMaVRiK\n",
       "lKM7BTpdmemw48kkxmz6GgMC1jD/vurJ39Yft/W+cta05XqDIFvCzHcpW/fYf58ZA7u1OFjDRb+f\n",
       "0Zx/WuLqMX0BQlEAAAAASUVORK5CYII=\n",
       "\" style=\"display:inline;vertical-align:middle;\" /></a><br>"
      ],
      "text/plain": [
       "<IPython.core.display.HTML object>"
      ]
     },
     "metadata": {},
     "output_type": "display_data"
    }
   ],
   "source": [
    "mult_rational_neg_from_right_neg = Forall((a, b), InSet(Mult(a, b), RationalNeg), \n",
    "                                          domains=(RationalPos, RationalNeg))"
   ]
  },
  {
   "cell_type": "code",
   "execution_count": 28,
   "metadata": {},
   "outputs": [
    {
     "data": {
      "text/html": [
       "<strong id=\"mult_rational_pos_closure\"><a class=\"ProveItLink\" href=\"proofs/mult_rational_pos_closure/thm_proof.ipynb\">mult_rational_pos_closure</a> (conjecture without proof):<br></strong> <a class=\"ProveItLink\" href=\"../__pv_it/theorems/179eae3bd3d4a21cc93f0313c64b0bce5df6cb270/theorem_expr.ipynb\"><img src=\"data:image/png;base64,iVBORw0KGgoAAAANSUhEUgAAAa8AAAAZBAMAAAB0obzuAAAAMFBMVEX///8AAAAAAAAAAAAAAAAA\n",
       "AAAAAAAAAAAAAAAAAAAAAAAAAAAAAAAAAAAAAAAAAAAv3aB7AAAAD3RSTlMAq1RmmUTNIjK7EInv\n",
       "3XZ/CtNrAAAACXBIWXMAAA7EAAAOxAGVKw4bAAAFOElEQVRYw71YfWhbVRQ/SV7yXt5Lsih+bAxK\n",
       "/MKCtsSyTZwyo21lKmOFin/Y/hEUFEXwFQSdm6UORMGaBmfRDD/eLAg6JXFFtimOooxOh5A/qh1q\n",
       "oHN+1VIoYrdR0HrOfffdvJs0LwlmPfBu8s657777O+fc3z33AXiJrzQLrZJAH1xqUahJ4bVYSnj3\n",
       "DLXwrddfclwQpmYP82Jy3YDpaWzUFgyk1gEWmFtfYGF61c8tGCg4V+Wz47nXTQEMfrCBxen/dbWB\n",
       "edqbkH14+QutcNG5SsXZU/D85jKwszawXvr/WG1gnvYm5H683m9J7EOWfG/cnoRgbxbuzb2Vy2Fe\n",
       "5C0G7AVK22xtYJ72JmQZr+7W0GtKvn+FFkx2h4hYKMmAEX4jURuYp71x0VawmWrNcv3G/pkvlYiQ\n",
       "4OAhbI6FBDAly4ARf4Q8yMPT3rjEirjE0q0B9ghrH/yTU0c2g+21yogDLDZlz/rbUum0Fyt62RsX\n",
       "H4JSiDvUzb9X0NrQieH6z7s7fcJY/wknFwr92PYHEg6w4IoNbCcG0wuYl72OGC62z9rJD4NmeEWm\n",
       "72l416rL8e5O29jUTEH/Xdhm/EleeYB20QY2BGrcvf/NfAp3xF3AKuxNlzh8JBwjik7VvwKlCPq2\n",
       "suWjJOwC/fPLPMGxTo7cLG2xaoE2o/6YqNjUZRtY2DKELrNpHK4xLMVyAXPbGy4zjt91tQwsilQW\n",
       "wXGUJYgWILPIep2ndjfAj9gT4ToaWfJpp5MjY9SMllAYW/M1Jhyjc2D+OQFe2Umb8VzKcKeiy96Q\n",
       "kHP2FmAyURUxAhbJQh5/OphyhpqvaSYb+tSLQiMLucTu5MggNR+I24NDDivyiPFUhDRuAYHuzC98\n",
       "T2+/YVgCxuxNpB8552gCJm41enb19FamYn4O7gQHGPPvvxBYgoBlA6uVAXYnNkn+cFQYB9g+1lXe\n",
       "WS5wYEeQXyYGkxFTZ5FtN94bkICRHQ7vOOq8ZHLBrH6zUJJztP0mxGJSxHw4dhjpMJ+Aq/ymG9hf\n",
       "yJg3ItEUvYCxTmySeHcbI3XBrQpVHleWawiHFWEfOvO532CDFWQlcTuk5iVgZNdnyQ9MPjbHqoEJ\n",
       "JXNOYAIqgdHmYsQJnH9GcUcM3oGOFGbbq+U1ct5ZWfm01IlNkldnAA+X6R9rxStclQnfx8CHWxu0\n",
       "YeYGHs/lXkNgh0MSMLIrKW0KVEb7PTAKwc5eGRgpbXfRiAQqZkjAyI0aBkVvOzb0hwTs0MJLbSN8\n",
       "bBBLj62saEru1GYvr+9s1bjjCnX3o3+PuBZD3H1sOQU9mlawIxbsrDq2RPpicdhPBwI4ieVzBPIy\n",
       "sJOspiZ3kXOCPBUNqQfAGXHXURnyp+GZ+uuXJok4eNIOvF3iEfWNuGmA14oc9BKcabc34q3gTNIF\n",
       "LG+Gt1vspKNfgAMfqk6AnOwhZaC3qwC2cxh5VFf3W2oCU998+b76R0w2SVCqD5FtsctfLO8PlgtY\n",
       "MA4LSdiDAdW+N8FXHTFzrJ+A6QWY1pa3A4wjn9AdNVzpn4cir1IycThS8XryRNhZnHufOiFbI6ur\n",
       "S/WPmGyS9tlfFv+mJw+Im1uqT9B4FB1f+wQd7O6cpLOp9iU80IWjU8k5mtCmYdTUph3lRhVTg5wD\n",
       "+hf3bKwsFhOcWf63vFHHPtv8pwFMRb/97zNcQSAOM1xZjG21uHOMZ5NrffMYbgGumFnnuNb8N4/M\n",
       "6QQ8ZOtX/8EoCoK2lXrcPyn63r3l14qxboL1kca+UlV9V3Q9EFhLKbb/cyPr/12RCZHQ4k/J/wBj\n",
       "JVVow5FCLgAAAABJRU5ErkJggg==\n",
       "\" style=\"display:inline;vertical-align:middle;\" /></a><br>"
      ],
      "text/plain": [
       "<IPython.core.display.HTML object>"
      ]
     },
     "metadata": {},
     "output_type": "display_data"
    }
   ],
   "source": [
    "mult_rational_pos_closure = \\\n",
    "    Forall(n, Forall(a_1_to_n, InSet(Mult(a_1_to_n), RationalPos), \n",
    "                     domain=RationalPos), \n",
    "           domain=Natural)"
   ]
  },
  {
   "cell_type": "code",
   "execution_count": 29,
   "metadata": {},
   "outputs": [
    {
     "data": {
      "text/html": [
       "<strong id=\"mult_rational_nonneg_closure_bin\"><a class=\"ProveItLink\" href=\"proofs/mult_rational_nonneg_closure_bin/thm_proof.ipynb\">mult_rational_nonneg_closure_bin</a> (conjecture without proof):<br></strong> <a class=\"ProveItLink\" href=\"../__pv_it/theorems/542b9756ee677372321f3f4b48622309a0c977290/theorem_expr.ipynb\"><img src=\"data:image/png;base64,iVBORw0KGgoAAAANSUhEUgAAANkAAAAaBAMAAADI7ORfAAAAMFBMVEX///8AAAAAAAAAAAAAAAAA\n",
       "AAAAAAAAAAAAAAAAAAAAAAAAAAAAAAAAAAAAAAAAAAAv3aB7AAAAD3RSTlMAq1RmmUTNIjK7EInv\n",
       "3XZ/CtNrAAAACXBIWXMAAA7EAAAOxAGVKw4bAAADwklEQVRIx7VWb0gUURCfvDt3b/fuVOpDUciG\n",
       "gUFZR4WlhChqmpGd2IeMqAuDyA91hgThv4uCAiWjLDPITojClLIMRAPxS6iFYdD/EPaM6EMRIZhh\n",
       "IM282112987Yk3rw3u3Nvvdm5jfzm1mA/zr4q+xHHOpdzGmbL84D3ZdpzYEKsMevbU3cJzxXcBmF\n",
       "pAB3Kd6jgh8XLlrO/Q2ODuDmwCWhg3EOpxeXqWi5Q46GsL29SFE3ws+B2wvuEEAyCdIsaqvDmWAK\n",
       "eNc4Lp+iAFwV5F6yncKAD7W5ZPCgqkKSHLWobRfOO2bhEZyJIZOwrw9gbwWBnBckJJMkEOYAzpDE\n",
       "agBncOabhdOEVq4p83sxwk6bDFxKUMkSgMqIVaJkkT1oHQybY0ZCeKYAeHPyDQvwPYRNDPqFZQH6\n",
       "+x3KcN2JVmHgE61m8wSGzW8SihO0VkY0H1cQ7eIxbxKkYiGksLsE1284xycnn1vUtgQ12Sn01UMN\n",
       "mjAxNYzQPGTPp9TwNTnQCYd3k+H4IXxbDHDDKgEwvol0zQjc0tLiQZUwC5AJhmw7aEMLeNmY6y0Y\n",
       "wmrgkhe4/fYgpdDUF80N3OjGa3q8sFvbtDEELwDWs2cN5doE5ttnvh1HmyJsxLLnDIla8eOPaeRs\n",
       "TcH41hZRGmlhdWPmuXDzHoCPzC26fQfAb7SbHceoTL5nKETiVmIw/gEeTZB1SbKSzoTbfdwTEAn0\n",
       "+4XQA66QzjfSNgbCjKod9TqQAwcYkTUmOe9GctKgrZHI4NcVsFGcBSgUT4KwmZK33lcP7qARSWEe\n",
       "bD90dLMjBzLY84RGiwjfjMxqoQsfVRFyOf3k1nw45KFaeCEdQEYwzg2SbwE1J9F2pwzCNGZnunrH\n",
       "LwojZEGEV+rIx1pSVgFROQl1aLHwlp8lQn3w5HbRi2wv01bGyKgh7UFmi7i7AzJyteKxFFqVmoZ7\n",
       "NWdEqpOmArOdWYxA2XP5YVbjbf5ykpFfcm+nxHJyq75s8IhW59fzqSq60PmYwHgd6Ugr9qvimp8n\n",
       "ik0pnqc+uHxUocEVtCdnYs5K+xQkTeMpznexuMIpEXMMRCoXjuU28/lKLTkDzmxENQm7XhMDgmVJ\n",
       "TUFBgc/cA7bE0mb3RhceObzWcFiY03wLtJSHurHhZSH/GAtAjNH0mgntQAxtp2PIVl8bM9hg04qI\n",
       "I39DHzRLfCn2iOuM3a8OB2MUSklPKt1os1D33CYzJbXHIwL9Zxf6LmmI0RwCFrSZvksc+gZsTyuN\n",
       "8TW3bvGfluaWbTP8u7jtX3xP6sxHX/4A7yDmzNKBENMAAAAASUVORK5CYII=\n",
       "\" style=\"display:inline;vertical-align:middle;\" /></a><br>"
      ],
      "text/plain": [
       "<IPython.core.display.HTML object>"
      ]
     },
     "metadata": {},
     "output_type": "display_data"
    }
   ],
   "source": [
    "mult_rational_nonneg_closure_bin = Forall((a, b), InSet(Mult(a, b), RationalNonNeg), \n",
    "                                          domain=RationalNonNeg)"
   ]
  },
  {
   "cell_type": "code",
   "execution_count": 30,
   "metadata": {},
   "outputs": [
    {
     "data": {
      "text/html": [
       "<strong id=\"mult_rational_nonneg_from_double_nonpos\"><a class=\"ProveItLink\" href=\"proofs/mult_rational_nonneg_from_double_nonpos/thm_proof.ipynb\">mult_rational_nonneg_from_double_nonpos</a> (conjecture without proof):<br></strong> <a class=\"ProveItLink\" href=\"../__pv_it/theorems/1436f5d0160a431ef7b234f9fb932de91ee97b020/theorem_expr.ipynb\"><img src=\"data:image/png;base64,iVBORw0KGgoAAAANSUhEUgAAANkAAAAaBAMAAADI7ORfAAAAMFBMVEX///8AAAAAAAAAAAAAAAAA\n",
       "AAAAAAAAAAAAAAAAAAAAAAAAAAAAAAAAAAAAAAAAAAAv3aB7AAAAD3RSTlMAq1RmmUTNIjK7EInv\n",
       "3XZ/CtNrAAAACXBIWXMAAA7EAAAOxAGVKw4bAAADxElEQVRIx7VWW2gTQRS9Nkl3s5ukFf1QlJJS\n",
       "oYJW4wNfiKQ0alWsEf2wIhqpIPqhqxRBfK0oKFisaLVGsKY/Sm2hagURQfojtopSwbcENhXxQxER\n",
       "tFJBPDP7YHeTSlJ0YCabuzt77j33njtL9F+HeJ7/yPdvjGa3J17ghs6zbF1C9eQtHG1KwTtC57D0\n",
       "UYkinCl0q5TAImTbhb/R0UbCMAXCCLDA4Y9gGcy2+7RsCpPJ5QbcQ3GYghEKpohKmaEiT7SDmEWu\n",
       "hHc8wfI+i8DJqvCMPyndjQMtoFEIUEuZZXueaKswr7qN2zCLUy5jTw/R+npGcrXKmCwJkzRMdJRZ\n",
       "8k3gd8wat/EbYyvqqvwbyLDfo5EwVjWqhKhB90oO56keeEe97pwxIz0yCLycfskTfB20yWpCGq+w\n",
       "v19oLdYV8AqJL863mgeQtoTLKA+wtUFH3mUw2iGiborCtVLKUPdKrJ8xn6TTj/NEGwMkL0v9nvuH\n",
       "LWNxWQbU3OTX+8z0nfIhCF9ktmP7FtytJbr0FwR7+v3IbzF7zUO6Ytm7d0pDRPPIUW2bPfBA1Jy1\n",
       "3owU7iGhdGSwWaow+NEKAw8G8ZquCK22npiZoqdE0/m1xfKBIh7bBzGJ0WoYj6Dt+VOy1fzEHZY4\n",
       "W8Yiv9JtFWVkpTWIygvg4TVE73hY7O3LiH7Bb74dWUm/4SzoeVvp8LwbW4s0W5FMYnsyybhwj+TZ\n",
       "JKwCYhcFUrbYGFo/Sd9NdOD6oIFNXMiWkvzX9Jp0oB1hYkjYGlgfZgxGeS9Jc5RDLOhDFFSdTEq/\n",
       "yfPVJjcvNFDFrwcsWeh6cyqrmanh1k7G3JI7LKzfmVSI9cKTlUSaRrPiPDbFrEn47tdI+obqrDTf\n",
       "8ZOlkRaSritz1KCXrK2nrJqkg/BYeiUOMUG9DUU72I1FEY5G5RGI0WI6BGXLeLqNqqJW8xhHLUZP\n",
       "Q/BWMDLrk64Gs5h7DKK8UbGX93hPYh2zMSSNKet4XBicb28bIthq/3SizGSX2m8zMl7oJ9LEjaa5\n",
       "8cfuWld9V5sXgTjr0BRQvaXzULPhDTqT7vEA83UuoQhGxnx39c6FMcHj3t9gFafiXwRWS3DqneJE\n",
       "8CppjMVicfcZMDcXmjeS3Xi0zFTHZmnYik1pXpfqxIG3EPrjKiA5x6HXxNhWcqDtz2Erv9Dv8MFj\n",
       "NRFfzYweagqLdTgjLnJ1P9+q5miUYbuobKM1jy4bdLkZNs94MHDn2EjfJYdzHA5KHmiu7xKfvQN7\n",
       "K+pyfM1NG/2npfvI9jj+nV7wL74nbe4jlj8HmuYwFpfKdQAAAABJRU5ErkJggg==\n",
       "\" style=\"display:inline;vertical-align:middle;\" /></a><br>"
      ],
      "text/plain": [
       "<IPython.core.display.HTML object>"
      ]
     },
     "metadata": {},
     "output_type": "display_data"
    }
   ],
   "source": [
    "mult_rational_nonneg_from_double_nonpos = Forall((a, b), InSet(Mult(a, b), RationalNonNeg), domain=RationalNonPos)"
   ]
  },
  {
   "cell_type": "code",
   "execution_count": 31,
   "metadata": {},
   "outputs": [
    {
     "data": {
      "text/html": [
       "<strong id=\"mult_rational_nonpos_from_left_nonpos\"><a class=\"ProveItLink\" href=\"proofs/mult_rational_nonpos_from_left_nonpos/thm_proof.ipynb\">mult_rational_nonpos_from_left_nonpos</a> (conjecture without proof):<br></strong> <a class=\"ProveItLink\" href=\"../__pv_it/theorems/64d3297adaf70679b5c2cf5e816f47e152a628940/theorem_expr.ipynb\"><img src=\"data:image/png;base64,iVBORw0KGgoAAAANSUhEUgAAAQMAAAAaBAMAAABBUSQfAAAAMFBMVEX///8AAAAAAAAAAAAAAAAA\n",
       "AAAAAAAAAAAAAAAAAAAAAAAAAAAAAAAAAAAAAAAAAAAv3aB7AAAAD3RSTlMAq1RmmUTNIjK7EInv\n",
       "3XZ/CtNrAAAACXBIWXMAAA7EAAAOxAGVKw4bAAAEZElEQVRIx8VXb2hVZRj/uXPvzrnn3Hud+iGV\n",
       "kCsLLFK7mqySkK3NPzmqK/bBSagxIdqHOoZEos5jSQXGJv5p3SA7IhRTweUGQ0MZA1ETY0GmFoOz\n",
       "qfShGiKYsSB6nvfc83r+DWb3Qi+cd+953vu+7/P8nt/ze8+A/6dVdcE411Ox7ZTCw3twGFiGFiQq\n",
       "5MJjD+/0AeouYqqp7quIB/om6tSoXZ1wRXY/T48jnSMoKtFSeepGo/akEzEdLxZXAtogj7VxZPLI\n",
       "2EANv9aW48IOzm2IWd1XqLsZif5RS/2BfvnEGdeFtIMsnb+c594ox4Vmer4KGzfTU22HjL29wKst\n",
       "NGg5IxIxNQd9HNjNaSmLFPfoaQwb7zLp6oM2rYdYk1I4P7tXunQEWl1XjVwZHhCgwECYB2zEdyX8\n",
       "vxj+SZDmGKFuWMxebJmNMayhwYvkKpGpuhwQskNEhU0hozHEfavrzlulhHRrBEBVbpV4MUmaVtPf\n",
       "3+m5Mjx8uRwXptDxCWbjlnPt0lg9Z4SQ/UaM3/UosTdJ4SbziwPLN9IsOfV57N72JGuSiFTNe1/A\n",
       "l3LJyTb9PlCHANc3KOSW5gTLr9Mi56HWxG29yFJHf40RomY+p32hKQOm1Rna+0QeL8lfPWXje2C+\n",
       "GMskba8SKNzWitS6SsZdpO4p2who/PGD02h7vc8ipgqSfOjVi3664REqnz6abnuwcYZ4n6YdXgF+\n",
       "EQDwzArgb4pQ0JUyPXxD4OVyYXUgpJO0tMqRbNRGigX1WxiLoTbTOSeQ5oincKI7Zh3C9h70Urj6\n",
       "rYI+4LHdRYFduAT9nucSOZOksnxNOC4rPvX1g4qQbZfFQEmdbqJX4x3oT5s7GZidyPB8mroE07g/\n",
       "h6PPsIxcVYdwPZQI/R8od3yykKCyXCDGQ7JSXV0IKkAnZ/RUG8O/rB9ZFvuP5wGOg0UFgQLPd47N\n",
       "FlqrvW8im6W/zTahcEFWBEWZcqDfpdqY5xn/YmrgOTEek8c1kjquaUGkIrCDwtCvaffRzaaleeEC\n",
       "5uZJLkSK/rBvCTCVo2AXkjMExSScWZIlg7Y4jAX1Ug5n4GBJugkmGbbBd0RIMp8XYTDQ9doA1vIb\n",
       "H+9w9vcU1FGGHQdQxwUtEMga+nS2tdeafiHUCOwjv300x/KMR/p4xVWXxbPWe+atf769KlRhDd4g\n",
       "XaArq45qJbfOTYSvXUSD8maxuD9ZSkS4nafnelxZqyUWJE+7Ak1tphK+wVtlaZippfZeAZag49am\n",
       "piavVO9gUBN3saCjSjPLIzflkjgXEvmolDojjwckQB+XKJida+2ULQoThk+/9B78rOxz9bOjBqei\n",
       "u+ITrjczxoVtMba5n14KbKFIWUw2LuyF+pmQph9ft3z34CD2EKW3sUk/u2Jm3CWR8xe/r3VNQt4z\n",
       "ZuS7ilDq/yDwrVsSxuIhStJ7+Ym+HdtjrlBzEi7Efzsmal/2pWu9f+qFJbdjFjz536/ZiT6WOp71\n",
       "vQTi1m5alfk/QoZL9PsXj/oSDs8Z+v8AAAAASUVORK5CYII=\n",
       "\" style=\"display:inline;vertical-align:middle;\" /></a><br>"
      ],
      "text/plain": [
       "<IPython.core.display.HTML object>"
      ]
     },
     "metadata": {},
     "output_type": "display_data"
    }
   ],
   "source": [
    "mult_rational_nonpos_from_left_nonpos = Forall((a, b), InSet(Mult(a, b), RationalNonPos), \n",
    "                                               domains=(RationalNonPos, RationalNonNeg))"
   ]
  },
  {
   "cell_type": "code",
   "execution_count": 32,
   "metadata": {},
   "outputs": [
    {
     "data": {
      "text/html": [
       "<strong id=\"mult_rational_nonpos_from_right_nonpos\"><a class=\"ProveItLink\" href=\"proofs/mult_rational_nonpos_from_right_nonpos/thm_proof.ipynb\">mult_rational_nonpos_from_right_nonpos</a> (conjecture without proof):<br></strong> <a class=\"ProveItLink\" href=\"../__pv_it/theorems/ad93800ffc11b569cc6641f647efab5841e309270/theorem_expr.ipynb\"><img src=\"data:image/png;base64,iVBORw0KGgoAAAANSUhEUgAAAQMAAAAaBAMAAABBUSQfAAAAMFBMVEX///8AAAAAAAAAAAAAAAAA\n",
       "AAAAAAAAAAAAAAAAAAAAAAAAAAAAAAAAAAAAAAAAAAAv3aB7AAAAD3RSTlMAq1RmmUTNIjK7EInv\n",
       "3XZ/CtNrAAAACXBIWXMAAA7EAAAOxAGVKw4bAAAEXklEQVRIx8VXf2hVZRh+vOfenXPPufc6kWhK\n",
       "yJEJKqldSmZJyNY2Z0a1oX84CTUWRPujjjEimc5rSQXGJv5oXSG7QymmklcnDBfKGIRaKAuyrBjc\n",
       "adIf1RDBjAXR+37nnm/n18B1L/TBOfvO+93vO8/3vM/7fGfA/9MivTAu5su2nNI8cwRHgTVoRbRM\n",
       "EBbNHPRBul3GbEvdXxYE+ja6qcG4Ou2M1AEenkTCJCrK0eJput0MxmOFQOhkNtsEaCPc1yaRTCOZ\n",
       "Ayr5sboUCDs5tz5l9V+l263A7h/JqN/SL5cO2RASBaTo/Y089mopEJ6j6zN/8BW6KnK+4MAAsLGV\n",
       "Oq1DIhGzTeiTwB5OS0miuEdXvT94l0VX641peVJNXOH87Gmy5Qi02VANswQERCgw7NcBB/F1kf9P\n",
       "xr4XojlBrBsZVi+2z8cEWqjzLEElMVWUQkJqlKSwzRc0RvneZsN5vZiQfo0IiJjrxINF1rSe/v5O\n",
       "19WxsW9KgTCLXh9lNW6/2CWDFQvGidkzov+WI4l9MdpuLP24Z/pWGiVQR2bqBJ6aJCFV8NqX8KnU\n",
       "3+l2/T5QA4/WtygESyt4y68nQ+ChVgZecpzLRr35a7i3VaFrhSU3TLOTtPapNJ6XP3ksh2vAMtGX\n",
       "SeqMCBZua1lqvcXgbnL3eM7wePzJQ3No+c4mVqoQyXtOvejn6x7mHxBv7VMLJ0n3CVrhReBnQQCP\n",
       "rAX+ph0KuVKmx34UfNlaWO/Zz2maGilINWrj2Wb1SxicrS8acQoJZnYWJ7p73mF05jFgomOQwAw7\n",
       "ardZYAhXoN9zIBGYGJXlSwK4rPj451MVIdvuDBMlfbqBHo03oT/BLO9q3oUkjyfoFmUZD5o4tkq9\n",
       "zikaxQ1fIvR/oNxx2UKUynK56I/KSrV9wesAPfyus+3M7ppBpNjsP1gMFIiwvUPMAo/3TMwXXqu9\n",
       "YyGVgvKQYOGSrAjaZbwA/S7VxmIn+BdLA0+J/oR8XT25Y0srAhWBnbQN/QftPvo5tDotILQIuxAp\n",
       "+iP3iyBTOQaGgMhclpikM0W2ZNASR7G8VtrhXBwqWjctI7dt8Bnhs8ynxTaY6FptGBv4iRko5PtM\n",
       "URGrOHIQNVzQ4vUpg+loRFe15TZCjcju++39BRkn2HeOZ1y3VTxvsxPu+PONdb7yqnM6iWY6smqo\n",
       "VsxNxURMtcuoU17LZg/E7EQE2ld03QgrXrWogth526CpVSn+E7xNloYVX53bJ8gScuxoaGhwSvUO\n",
       "RjRxFttypJHGwEm5MgxCNB200sL4Eo8F6JOSBatnQy6eE4UJw+Vfeh4/Kftt/+yuxNngqviQ680K\n",
       "gbAjJLbwoyueJRRpi7H6FQNQPxbW9N3LGdc5OIK9JOkdHNIvrK0KOyRMd/G7Wu8DeH3SCnxXEUuD\n",
       "73q+dYvGmD1MSXo7Pd23Y1fIEWo9AITwb8do9QuudG12Dz2z8nbIhEf/+zE73cdS95OuB8++tVuZ\n",
       "8vwfIbdL8vsX3eYQ4v5ySRIAAAAASUVORK5CYII=\n",
       "\" style=\"display:inline;vertical-align:middle;\" /></a><br>"
      ],
      "text/plain": [
       "<IPython.core.display.HTML object>"
      ]
     },
     "metadata": {},
     "output_type": "display_data"
    }
   ],
   "source": [
    "mult_rational_nonpos_from_right_nonpos = Forall((a, b), InSet(Mult(a, b), RationalNonPos), \n",
    "                                                domains=(RationalNonNeg, RationalNonPos))"
   ]
  },
  {
   "cell_type": "code",
   "execution_count": 33,
   "metadata": {},
   "outputs": [
    {
     "data": {
      "text/html": [
       "<strong id=\"mult_rational_nonneg_closure\"><a class=\"ProveItLink\" href=\"proofs/mult_rational_nonneg_closure/thm_proof.ipynb\">mult_rational_nonneg_closure</a> (conjecture without proof):<br></strong> <a class=\"ProveItLink\" href=\"../__pv_it/theorems/c0169a70e80165433ad4f8b950326007bc48a9020/theorem_expr.ipynb\"><img src=\"data:image/png;base64,iVBORw0KGgoAAAANSUhEUgAAAcAAAAAaBAMAAADS2ZG9AAAAMFBMVEX///8AAAAAAAAAAAAAAAAA\n",
       "AAAAAAAAAAAAAAAAAAAAAAAAAAAAAAAAAAAAAAAAAAAv3aB7AAAAD3RSTlMAq1RmmUTNIjK7EInv\n",
       "3XZ/CtNrAAAACXBIWXMAAA7EAAAOxAGVKw4bAAAFkUlEQVRYw91YXWgcVRQ+2d3ZmZ3djEv9Sy2E\n",
       "1SoGxLDGFDGWuJpEi0G6EPHBBgk+KIoPE/DBaJuuRdFi2CzWPKSgTgwINkq2TbXVUgktIdWiLhpN\n",
       "qSysNlpjQEIxRiIaz7n3zmRmfya7uI3ggblz5565P9/5vfcC/K9of5y9TiyU+X9Ndraq83vjlxmg\n",
       "+lGEpslJKYhhRct+5f6/v8rz33j5dTgfBQglYBn62OftGwpQ7cFCrsJAugvvzhzsNeAUqnHjAQZQ\n",
       "uvBDFQZ6tIhtDr8uYG/XBw34GuA8Bxim19bSAF35FdJufDzpKgykRfNbvj8De7aw2tgQIMAvsIkD\n",
       "7KDXE6UBuvIrpE583qnKSE/lfQfvioLUkcLaM3VAJnoJYNxgAF8gt0iVBujKr5CW8GmrykjNed+v\n",
       "kjOlWgF6ER8PMuCPMoB+xBmMlAboyq+MlBUsJqsyVMgQMTObpcAFB0ewOO6HkfuZBeck9CxfigH0\n",
       "Rl1iCTJc+RV6TgZdsKcqQ/m5Ez78iwgxqSSWN/gSh/j3iTkUgDbJo+jn2exZtyjqxq+MahCcj2JM\n",
       "7yf9To685WJu/f62bkEW+2TTFZV0F5ZdXoelSSsc4A5UsBtAN36FWSLFRS9Nw1uGg9OtB1bW7W7v\n",
       "5mWG4DfzoZRrwjLpcQRX5Q8OsBfksF2YMx/A9rANYB6/grTeScvpb7Sysh/HqUUhvxeFBwFG14xV\n",
       "PQ2+DIwdvs51PN6Nk2fSkablNCWyLi2+fxhJTCgvcYABI2jtEJObh+D6oOEzbADt/PK3hPdcizMc\n",
       "1SmgW0BqcXsYwrF2AnwHyq8Z9ufvWPgWoTaNm0e2/vFCL2U/8W6mdhapHMgisQgvfNBhF6oA6MlZ\n",
       "gvDtoKSeiwXtJmrjl0UkpOfTMIGqUufi6iR8ZtcgAfyUze1hAGGGYmIKxuOYRPYmhBjyiX4S3YRN\n",
       "Mg2+a/1wsJdHUYdjCxOFHkwf3rbkHMAFam+4qd8BkPHLJyakYxEYvYPm+EbOwLk8E1X/Bu+iBZAp\n",
       "LQd3A7RwgCWtgnXjCxWday3mLpYHm5xZaVkAPIKxaLQ7GtJVpu2G4Nu7HACJD2Otx8yJJhYK97pr\n",
       "jSQkZZ8OmobvTgM1OG1FURw/kAP1EsbTmx0AI3CNB/ufdDV71o0tFBWS4vnOEivtZK527kfMKAq7\n",
       "UbDP/QRXGBILQg0Qm3cAJL46y+RB9L4+WAjQamRC8o4CAZSuJP2v+SAlJorvb8KtsZgdYCDnmfGh\n",
       "PM47vY68kbsfI9aNLVRkG4DHLOZh3ItelXf4FHkQasgw6qEbvE8OD7+GAMf8DoDE98WUSZBZumiH\n",
       "AZAaO5yDUSMXGwmJtKcF1U3U0L9Vt4tUQVgjCy/XJ+wA1frjvT8D9BlOr2PeOGM18W60UGTxuDcy\n",
       "ZHaRdz7+W56B+8L249IZaFeUNNeg1FhwXArFtTDsYxKewm16CMadg03xvTtwIUnCRPNpCh/LI20A\n",
       "xRpjsr6+j9NCAfaYvvdGVhhITaK12G7HBCgvwrkGntC3gblYG8BxPdBisBOWugwHDsmmwkwVUKO3\n",
       "oykNXEgsyMjt7e0dBaeJ5pIA+1550VgXH19osS17vbbpJUeDOE0I6wnDQhT6UMnKtzrUFGpQH+wi\n",
       "gGoappWlFoAhqo5ZBTV65iEjdj3JMByJFq6BpBIw0/CHf+btzr5cXV1fgXyhxY43ns1PH3A03FZ4\n",
       "osdj8VDxE73U1jhBZ2TlFDzUhDP4ElQd0JVpKkRjnYzmQkIC9eR9dcU2oxERhf71pq8MW4bZyq8s\n",
       "0EQ9vPaxZlXBqmW0bYYQUvDZaKk7mf4qALxYzg1e5XcyybMReIS3r/4FokrEa2rYM2E13dv8Y5Hx\n",
       "btnAK9LybtUK7kWjxapFtKVcSPwX96I2eoDdi57+B0n9hK3xajF3AAAAAElFTkSuQmCC\n",
       "\" style=\"display:inline;vertical-align:middle;\" /></a><br>"
      ],
      "text/plain": [
       "<IPython.core.display.HTML object>"
      ]
     },
     "metadata": {},
     "output_type": "display_data"
    }
   ],
   "source": [
    "mult_rational_nonneg_closure = Forall(n, Forall(a_1_to_n, InSet(Mult(a_1_to_n), \n",
    "                                                                RationalNonNeg), \n",
    "                                                domain=RationalNonNeg), domain=Natural)"
   ]
  },
  {
   "cell_type": "code",
   "execution_count": 34,
   "metadata": {},
   "outputs": [
    {
     "data": {
      "text/html": [
       "<strong id=\"mult_rational_nonzero_closure_bin\"><a class=\"ProveItLink\" href=\"proofs/mult_rational_nonzero_closure_bin/thm_proof.ipynb\">mult_rational_nonzero_closure_bin</a> (conjecture without proof):<br></strong> <a class=\"ProveItLink\" href=\"../__pv_it/theorems/1d5417cc753c7da09c142596b06a8ce07169ea620/theorem_expr.ipynb\"><img src=\"data:image/png;base64,iVBORw0KGgoAAAANSUhEUgAAANkAAAAbCAMAAADGQNr7AAAARVBMVEX///8AAAAAAAAAAAAAAAAA\n",
       "AAAAAAAAAAAAAAAAAAAAAAAAAAAAAAAAAAAAAAAAAAAAAAAAAAAAAAAAAAAAAAAAAAAAAAAeYafp\n",
       "AAAAFnRSTlMAq1RmmUTNIjK7EInv3Xah18O17eXJ8+7nKwAAAAlwSFlzAAAOxAAADsQBlSsOGwAA\n",
       "A71JREFUWMPdWNmS6ygMNSB20N1m/P+fOgiwwcbbdLnzcF3VCek4gHQWCU/TX3G56S+9vMyvHv2n\n",
       "VhTyI8tolhfDaZI2DeD7V+TwmQQyTa/BpJc5DbX9dvKrNanPUv/FdWTmoJ5JbIFX9L71sqIOkD/b\n",
       "4ZMNOW/TBSULQGP7J/2JyeTIYl4z0pA17oiX2R+Wia917WyINQP3O0BGpNORtTnrr0pkActdFPYq\n",
       "cqXfjQz8npRnl1r0qO7c2wuf45Ag7ZqYmsgc2Zzp4WhsFtBe191ccwa3SMwLW8WN5Rg/1TTZLCZi\n",
       "4z//2szG5iCUItHlyfN3AyvsIILc6mteoQpb0NDGdDXMrXMVCG9qjCsyE5Lr109AMImaUvUyZFjF\n",
       "w28n9rHxssdXKnQ7RU6mugznE5gSbJvHI9RPmNMZKC8xvF2+mdrKLdVTj/rI/hRDZIUxnnUONKgu\n",
       "kVHW0NO7oJ9wvKDBEPtLnm+3MMiQJGDncRk3pxBcEYjoAB4dLZUFUTWTsMters6kYJbeRLOvFWMC\n",
       "RCNHfYBEeY9lLy7QRiAedCqdXfNOlOOmtV9LU8IMk0Pxk/ZNF/siuPzBLUbZgzoJjLUwYPHqcRux\n",
       "+lwoM8Oc/+k7pJY58mD2Jddt9aKSdLVdbHV2wTJXIiOuHqK6lkODzFpJSfO5qPC+43VhNLUOsxpZ\n",
       "sG3BTeQlWlmcX4beLkaGO733xjPMTMX9uNMKpmYV6sBrWt8JoScPAD9+Qir0mhgWzTUb3UwriPms\n",
       "mkERIO/YGg87xFbP+GXJ0bWULTbkvECv16+TZ7mu6TGG5+9wwsbFitkgNFZzbrFExotf8uFGSm9R\n",
       "YQq9AwoPsg1LD8KkfVIidaj5dVGv4VJFchNCRwvhyvoUWcLs128gzHIaR2pgJVY1cgqQJwaOXQZL\n",
       "k1rYlYiM+gEqfukbr7sVsbCarbQj5fa9erJhuVbPBasUF6VhmTx5o9CnaTOFVY6hN5qhGdXO/NqA\n",
       "Rbn5wspBvhpmpWYwNz3r3upJ7ch6maVbhMpnBcsnuWEj3FTAah0HEjwXftzrym66qwWG2wOYEnuv\n",
       "pGIqXN3yXE5ypjGkc5D7JwELs8TzkzU8OkixlFnGjbwy/X3WA8lMClcqcJJZVnRrT0wG1D87ya20\n",
       "tk+PR0+PG5xZFezFJsTQd0gQHMl9DJ26DRR70ta0Sh1BsYf0qr3gYWU6bsjeOiHGq4n4cEKXlZDm\n",
       "6dl7PXLqZ88l8K3ALmUoT+0BuAB89rSNf+zx3/8g9QUuBsVTt/vQ88Z97jMq/wERaBz6ITIFpQAA\n",
       "AABJRU5ErkJggg==\n",
       "\" style=\"display:inline;vertical-align:middle;\" /></a><br>"
      ],
      "text/plain": [
       "<IPython.core.display.HTML object>"
      ]
     },
     "metadata": {},
     "output_type": "display_data"
    }
   ],
   "source": [
    "mult_rational_nonzero_closure_bin = Forall((a, b), InSet(Mult(a, b), RationalNonZero), \n",
    "                                          domain=RationalNonZero)"
   ]
  },
  {
   "cell_type": "code",
   "execution_count": 35,
   "metadata": {},
   "outputs": [
    {
     "data": {
      "text/html": [
       "<strong id=\"mult_rational_nonzero_closure\"><a class=\"ProveItLink\" href=\"proofs/mult_rational_nonzero_closure/thm_proof.ipynb\">mult_rational_nonzero_closure</a> (conjecture without proof):<br></strong> <a class=\"ProveItLink\" href=\"../__pv_it/theorems/cc0fc0cba349bcacceb4b49126c25c5de6cf734b0/theorem_expr.ipynb\"><img src=\"data:image/png;base64,iVBORw0KGgoAAAANSUhEUgAAAb4AAAAbCAMAAAA09RoyAAAARVBMVEX///8AAAAAAAAAAAAAAAAA\n",
       "AAAAAAAAAAAAAAAAAAAAAAAAAAAAAAAAAAAAAAAAAAAAAAAAAAAAAAAAAAAAAAAAAAAAAAAeYafp\n",
       "AAAAFnRSTlMAq1RmmUTNIjK7EInv3Xah18O17eXJ8+7nKwAAAAlwSFlzAAAOxAAADsQBlSsOGwAA\n",
       "BalJREFUaN7tWomS5CYMNZe5tclu4v//1HAa4Xu627XO1FI1PR4GaNCTng48DH/a05v5I4L/cbMi\n",
       "fVqwn12XeO/lY0/NxPdAT5J0GhgGoeMTL/0QpE/fWXh88qkp/ybGR5KFOBU+pvgoddNQ9l3hM21z\n",
       "DyGIF7chEmXKKTpAR6shfnf49HwyoM/YkYALSmd1aDwjzeOz/hV+2KASfD4fypsGH2l0w16A743p\n",
       "t6q6m7dln7InOBUQkMiR0hO7nJThc1CGNfj47OFH+QJ8b0y/s3G7JtHf3saTDMAym8ASXFT/ZspD\n",
       "Js8pE4mZzAyfqlAil/gF+N6YfmebqlbxB3ECO46mlK3uSCf/Fsnzn391Ik8UukTBs+b7qk5Y+gp8\n",
       "b0y/samqn4N7klK53vxAh9jfz/SgjSm2YFUBcjaOAWLiUP/iusFXw5evs8yIo59HxTHgq+d71LZG\n",
       "TAVihA7NwJOqRDeUDlxlRBuzWuD1L3Ao8nRRB7yzr8H3+vQ7c6Vx6QMlsSDhJD8+HXI91d5cyhI0\n",
       "ZOkJA3eKAm/4zSKZ0Z3diEIuCb4V0F+D7+Xpd6YNeqHvwgW3oaejTV4YcjlH2FmKIS5YRXohsWDF\n",
       "AQUrTHH8uOsbVIMvVWUk2dUkz2PVjTmyDd/J9DtT82haEiisYt6xbqeUlYxLepoo1bBNqaAhxlpC\n",
       "3oARf1tfCXIHSbO0c+4VrA+CyOle2U+WyCw7rmg5dj1UAdE6rkIGG0Zws5O270y/Ay7NCWlY8Ro6\n",
       "rUTha4zn8r74lHptOhUguZppptk2hHfCb0OON9eGoaWWVtMes88JbY7Ye99nDr8Lwxcpdr1Fnlkx\n",
       "5uMQT2T3qi7b0z8YRhY1ktam5KiGuKkmbdw6okPWV+BzGh2a+k2g25D4IQs/4SHHrQ3rvq0nVRyo\n",
       "rBjfyGXkuWt9ChfNxlpHY5wF7eR9jYAqKoIf3oWvTb8nA69qZCVN3MfkYDnnP/7iXARqj5JTx+Rp\n",
       "prg/VnSf+k2FbkOY6eD7MkngpZpAF9+83oTAeR89zoskhs/SHAYZJiJtR8eLtIOqQJ5U7MNXp0d6\n",
       "Y2DlmvS2erfpcTVyViOlaPoPDNCos1jfcnFSd68hC5TmcDStsAMfHhLO5F/n+LYUEmgSNzI5WGs8\n",
       "r1UXIo5rIF3kGSuEWVulgQhJ/KdgGL4gK9C78NXpg/Fy1gx0nM3ezYOvRzY1YiZvKcIXrO/vnzxa\n",
       "X9rEimlqYlRD9YgiDezGd62vHzIob47c2/y06RjbUkigXRqTpEc3EotS8zyha4bzvqgqlSkIFIZm\n",
       "Y6p3a5rhM3aDjeeeOp3z6JNzCc0g9iu9ggIXxzxZ5zdFazcHxeoyjZt6whB5MrmnngGGLGUCVkkC\n",
       "ah++bojczoOae5ufthwjXmoWaBosulFaLL9F8mkcJ37G25z08LWyjkpCVDGJxNYXRb8P34AChVQO\n",
       "VxRp79zrorYeFpUEKqfXVKmqkejIkx8H9q4Kyq9FQU95UQZM5Gcq8LNAUwq2dHYaF82qJZwHErjm\n",
       "2Yc06cQRsKZ/+a0DIKfwmch7mpl0NWXWvXJlW3vzGRcs3/QgNUKhy+mbEDNNbZSJT+GTWinFP1KH\n",
       "QAK9WD4P5gqEKnEoJ7MNXyqKQnKg4QyVf3KBgFywvui6BGvwpcQa9Q5a1N6tj3kkjZ7WD305RyUN\n",
       "spfuFZuaaLnMjsfJHuu3m2L7iPEhgV69k6FEj04fHZKh+76jJFmnfOukaIY3yxkte83wqXi9j3oz\n",
       "q6de5WT/0Y0MHCLHagptR56P5FpAT+h+gvW7KnmfuhCd3w+772WJSp5deGVNCT+2spquz8eMQZil\n",
       "GlmpLu64XdNKeAZ68Cn07n/XRYHL939dbDUGSvKr3mq5povK4lsOG5vjlHG4VKCjj7oC+WD73Jtm\n",
       "5+95ssu9F3eigF0sh3yX9zxXGlz0HLx37D9DUzAcfK2A1QAAAABJRU5ErkJggg==\n",
       "\" style=\"display:inline;vertical-align:middle;\" /></a><br>"
      ],
      "text/plain": [
       "<IPython.core.display.HTML object>"
      ]
     },
     "metadata": {},
     "output_type": "display_data"
    }
   ],
   "source": [
    "mult_rational_nonzero_closure = Forall(n, Forall(a_1_to_n, InSet(Mult(a_1_to_n), \n",
    "                                                                RationalNonZero), \n",
    "                                                domain=RationalNonZero), \n",
    "                                       domain=Natural)"
   ]
  },
  {
   "cell_type": "code",
   "execution_count": 36,
   "metadata": {},
   "outputs": [
    {
     "data": {
      "text/html": [
       "<strong id=\"mult_real_closure_bin\"><a class=\"ProveItLink\" href=\"proofs/mult_real_closure_bin/thm_proof.ipynb\">mult_real_closure_bin</a> (conjecture without proof):<br></strong> <a class=\"ProveItLink\" href=\"../__pv_it/theorems/cab86d4f65fef57faca17858d18d7fa2a36d044c0/theorem_expr.ipynb\"><img src=\"data:image/png;base64,iVBORw0KGgoAAAANSUhEUgAAAKsAAAAWBAMAAABNknGBAAAAMFBMVEX///8AAAAAAAAAAAAAAAAA\n",
       "AAAAAAAAAAAAAAAAAAAAAAAAAAAAAAAAAAAAAAAAAAAv3aB7AAAAD3RSTlMAq1RmmUTNIjK7EInv\n",
       "3XZ/CtNrAAAACXBIWXMAAA7EAAAOxAGVKw4bAAACuElEQVQ4y61VT2jTUBj/mqRN0qZp8eClIAFh\n",
       "F1EKymA7zEhVBoJWB14mLupBHMyl4EWcUI/ixFzGjH9mRBFqD60KTgRBEMEhwpCBIASyi9MdZCeF\n",
       "geL7lyxJl7CDP/ilfb/3+L3vfd/3EoAtwGTcRE5avgWoGmUcp2Pj/oUHEwtVqpexsDPVdhdjCPl7\n",
       "i2iramyh1YDjAw7RD+Hx+TTXvEEZQU5Hj/G47RWQpTLRr6GhaKXZClXKCEo4Kft6bQXTIHrOASho\n",
       "abYKYwRjDlYdOvjhukZgaxGdR3HkUlPbxxjBG5IJeoaTqxvRZp6Wqf7JdT+m2h5hFCsrXiCe+bkN\n",
       "nZLUWxwPJeF6n0n1YYA7qbbnGE+Z8npQxl9OxwSeHD0X9Kk1NfEHR471BohlX5cusD+7Xx646Iuf\n",
       "KfPvQFj0NW4dFA+4t8Q2VLK9T8gs0mWnUA8mKth72a6rBZjvMu09pbAGxS4JFHeHAaUuSGt4ftpF\n",
       "sKit/AinG+ucF6rYB8SDTdTpKgx6UVvFgg7ZfwkRbTCmQZZE2wpFK+k4oUQ3htCjPTSPt/m77JC7\n",
       "g2xX9WgSOh7sD7ftMQc4kpRiuG+HL+MkYP05qmT+i/Qbu31VdbK5WhDn/BswR9nRYDvnV6fURKkG\n",
       "nhxd9UK2LRwV0adQxQRdwoHLVd4YIUuFu8HNe0Ype9yS4GuZqowOI9D0nw1sL6FrMMP0DMqlUldx\n",
       "OyhNodxv27amqoUT/uKblPkdrxrfgwar1PDxaa0fzjj+G2wW7EnN19EJTXkQzZVA0W6QaNXsKLuZ\n",
       "UGxS9uIq+x297xqb6aCYt0acNhSdAdRwJLfw2i8Zr1P2opZwgQI9W9vzAqY16agH4m18zb91Hx/2\n",
       "J2cZ40h68cV1+iJr23Y9IrcizbkBOeHrEtOzTsLuHmUcKwk5iOk8/Df8A3qfs5QizmuxAAAAAElF\n",
       "TkSuQmCC\n",
       "\" style=\"display:inline;vertical-align:middle;\" /></a><br>"
      ],
      "text/plain": [
       "<IPython.core.display.HTML object>"
      ]
     },
     "metadata": {},
     "output_type": "display_data"
    }
   ],
   "source": [
    "mult_real_closure_bin = Forall((a, b), InSet(Mult(a, b), Real), domain=Real)"
   ]
  },
  {
   "cell_type": "code",
   "execution_count": 37,
   "metadata": {},
   "outputs": [
    {
     "data": {
      "text/html": [
       "<strong id=\"mult_real_closure\"><a class=\"ProveItLink\" href=\"proofs/mult_real_closure/thm_proof.ipynb\">mult_real_closure</a> (conjecture without proof):<br></strong> <a class=\"ProveItLink\" href=\"../__pv_it/theorems/9b7482710fe78e8089de0b01a56711750d33df330/theorem_expr.ipynb\"><img src=\"data:image/png;base64,iVBORw0KGgoAAAANSUhEUgAAAY0AAAAWBAMAAADOX93WAAAAMFBMVEX///8AAAAAAAAAAAAAAAAA\n",
       "AAAAAAAAAAAAAAAAAAAAAAAAAAAAAAAAAAAAAAAAAAAv3aB7AAAAD3RSTlMAq1RmmUTNIjK7EInv\n",
       "3XZ/CtNrAAAACXBIWXMAAA7EAAAOxAGVKw4bAAAEpUlEQVRYw81XXWgcVRQ+uzu7Oz+76z4VfyCs\n",
       "iDVQuixtKhqkDiSF+CCmVH1ogyxSECutsyDC9iddRVAhtIuySALaiSmFdrVZG6K2oKilxCBiHkJb\n",
       "bAdGI9Y2UoIQC5Uaz7l3ZufupJMlTB48cGbOnnv3zP3u+bnnAqxAGasCoSnpcFgygvXt1qn1r8H3\n",
       "f3U4LL3g+/3o9LG90wWux4VmSfdQEI4IvaKFEJ+PNjiHpox/FdUSbH/cZHrEsY1ULwXhkMgjCSPE\n",
       "5084HJ72+HEcAEXOMj3ieIPCtxqEg+ZBOczXexwOT13LcUhGkekRR8LEVy4wP2gTzoT5+jcOh6eU\n",
       "yd/XLavYxFFlelxoDMMrEZznm/FVDJMeRc5rQAmeIM/f8PwROZVleipIP1rWD8E4UpZ1NUyWSg3O\n",
       "UPp60FePH7hmty/awiSNlaTkHiGu3l1vMD3h6AMYCcYhVUAxQ24icXwKjrXaGTCU223/Lk6KMbd6\n",
       "Rad6cO+dG1xPOEqQzIo7MDsJT2SbOHCstOpYurJ7nbuL6RznTwrwNMCYF2HqeZBmoP7Z/StZ4pNc\n",
       "syzNEkKebz7h6AmHYnrH3ZH7avCgZkqmdw6OwOSqQJAJu6EdcJOzn/MzAFdAvskWpf5NAbcA6Qbo\n",
       "hA5gfHkGCZMckhfoOWQhVTkOZazA9bTQqN2EKPXRmWjrmnCe51eX5syEbcdO+3BMg7qI3+KbO0sD\n",
       "VRjvh0U4TC1FWl9uyZvkUJz546TgD1kf4XrmieJWjLGeI78BzNFw58ODIo5EDENEnZh3w1IQPapv\n",
       "/cKRmAnbzhxvjSv1X4gtNHEwF9jwJEA3xxFEfFLXYzcJJ/9zWjw/+spcz3CcwQowNlBIGSpzV6f2\n",
       "8S4Bh7Yeg+xT46i7eEH0YuCSfMuRmAm7UZ5zhhSbsfoXRIqPtODIwbooWvpqJe+ySfu3nIcpymdm\n",
       "O2MLOE5SU4J6huMgZvX+3+EeM84KdCfo1wUcyW9R6IUhPNZZ1pAYz29rDSZddo46bsJ+6qxYLIk/\n",
       "go26LuJQ7OishMH9s7foovNgqeFNSp4uwm2nhCO92MTxGh5+NaZnOCLk2Q4YgNjLw8PvIY56Qux3\n",
       "70W+AL+AvJHhIDEF460nbX/GqXDchG1Puh2CPMN5dP7tjoqIQ+34svSHuzk8BHX3Mds6KWKz1Ejz\n",
       "TBmtmW6/+wEMv5ojvVepvodeWW5wf8Tzvr5dvQXvn4K06YpJco/ofkPpNrt2bMAlN3h+PHfOHbvs\n",
       "MC+dM/5zTk+2b0JTFUnHvT7k/Nz1odVSeg4JF4zkAlzu5OfhFsAd990/puTFbsKhNrgINRLr/FGH\n",
       "lHF0h5mvUgqO8PzQjovdXVcgjvI7b7U/ZQ9D+s1KcLfZIyw0noX5ApRxtnzRgIgfx7ObcBRxyN9x\n",
       "EU95FIcMeQofQ7l4T34Cw/N1WhiaiO97Re11t0wxOLPd+vwfXyvy09JS+1q+HTITwU056X0XPvXs\n",
       "cC34PkhxFeXiuUxTROK5kIa5nctNsAqmVtegTVSMYH2bi6sm3nvlP7F/38mbpqU7rki+5JExChvu\n",
       "em8cdDgsXQvWZ66u9gJeuIsYg/8B/QcF1WExMpysugAAAABJRU5ErkJggg==\n",
       "\" style=\"display:inline;vertical-align:middle;\" /></a><br>"
      ],
      "text/plain": [
       "<IPython.core.display.HTML object>"
      ]
     },
     "metadata": {},
     "output_type": "display_data"
    }
   ],
   "source": [
    "mult_real_closure = \\\n",
    "    Forall(n, Forall(a_1_to_n, \n",
    "                     InSet(Mult(a_1_to_n), Real), \n",
    "                     domain=Real), \n",
    "           domain=Natural)"
   ]
  },
  {
   "cell_type": "code",
   "execution_count": 38,
   "metadata": {},
   "outputs": [
    {
     "data": {
      "text/html": [
       "<strong id=\"mult_real_pos_closure_bin\"><a class=\"ProveItLink\" href=\"proofs/mult_real_pos_closure_bin/thm_proof.ipynb\">mult_real_pos_closure_bin</a> (conjecture without proof):<br></strong> <a class=\"ProveItLink\" href=\"../__pv_it/theorems/37241b0002a38e4c636513cfcd09ce58ac6486af0/theorem_expr.ipynb\"><img src=\"data:image/png;base64,iVBORw0KGgoAAAANSUhEUgAAAMcAAAAZBAMAAAB3HyeqAAAAMFBMVEX///8AAAAAAAAAAAAAAAAA\n",
       "AAAAAAAAAAAAAAAAAAAAAAAAAAAAAAAAAAAAAAAAAAAv3aB7AAAAD3RSTlMAq1RmmUTNIjK7EInv\n",
       "3XZ/CtNrAAAACXBIWXMAAA7EAAAOxAGVKw4bAAADN0lEQVRIx61WXUgUURQ+ujPOzsw6LgmBBbLQ\n",
       "Qy9ZC5aghIz4UxHWktBDBW0YSBKyvQRB6AqBDwUuGdUY2QgRiIFbRlIP4VNlYfjQv22tBT30RyyU\n",
       "ZSCdc3fnd3XdjS7cw7ln7r3f+b8DkPfYAoUOFSdX0IlitWCQGE4hVsiJa0SEbLmQGwTqCwEZIPI+\n",
       "W84nnWvPUe3nmwELpFQH8BOzbmUMYZJcFncKR6aRfHDtFAU/Xz5ogiiI0ExMx8ogXNxwmX0cxlmi\n",
       "u0HiEOsFTtOmNLRIWgDozTM4ZSEkjW5pivyjZoNsKzEtgfa0HnJgZZB+0nfSHY8Foo/SC+Vy4rkJ\n",
       "IlogO1CPIALlEfevFJKwSyjPZFQlwC7dsmTNsAXyBed0IvE4D5DVRlyO3es2hSWVc+iEG4w/rlvu\n",
       "8p7tsEAO4oftAIPL3SxbrEZ3otX8A7hiRnqsU5oHqAFH8ojC/XdvdaPi0dFR1AwE/7IpZbGHKOVR\n",
       "7etBaDWFm3R4ArCB8WELZLzO7tceTBlRl0PG2nskw1TdbuhygjzF6cONuwFmmRF0TwvAH1SVHUW3\n",
       "J15l3DVYbQMZw1PFSVvc19L2OS2kyDARz7KEQKZA+sEKmXwxCzwm8QFaSzFbCp8SbbXTEyU7bd3l\n",
       "Ic4mFCoK1CXlptamZpe7pEXwfLeVCYdJXMX4GRsI12ervP4IkpudSEbrJ8iIxTldCQID+aQ6LKmg\n",
       "40mQUlAUXm8If1GIoJbx32wgUszWayi74CTGXXrhnae7XyvqCCssWRgKOkAo22XcOQRVqlni5XAO\n",
       "6c50OgdMEBWqRTPOsJVIEbqHU71UzWLQE25jINylmDPwpI8XXTL8ua8yagiHb5HZzxgvVewzuvDv\n",
       "iHg+ZZ5sMBhfiJol+KKcv0bTtICiyHucdUJBh5dL9udMNPg76bbiHu1mmkXEOlS1DHyB08wShd+v\n",
       "Z3fhzUsWUzBnq5AWTD0j/W36KD4wtcCyD1P4rrO5pt0ZWeKWE7n7kccsdb5x4zicCXh3JUG4iOu9\n",
       "H+NXW5ybVzmKwTYu5AYpdSmWzo9RTQst98Z3Z8uVSG4Q1xvP6zn/VuLwL8P9IHr+938XSwvU/C8l\n",
       "dcGKP8DLnAAAAABJRU5ErkJggg==\n",
       "\" style=\"display:inline;vertical-align:middle;\" /></a><br>"
      ],
      "text/plain": [
       "<IPython.core.display.HTML object>"
      ]
     },
     "metadata": {},
     "output_type": "display_data"
    }
   ],
   "source": [
    "mult_real_pos_closure_bin = Forall((a, b), InSet(Mult(a, b), RealPos), domain=RealPos)"
   ]
  },
  {
   "cell_type": "code",
   "execution_count": 39,
   "metadata": {},
   "outputs": [
    {
     "data": {
      "text/html": [
       "<strong id=\"mult_real_pos_from_double_neg\"><a class=\"ProveItLink\" href=\"proofs/mult_real_pos_from_double_neg/thm_proof.ipynb\">mult_real_pos_from_double_neg</a> (conjecture without proof):<br></strong> <a class=\"ProveItLink\" href=\"../__pv_it/theorems/3b98d5960093d90daa2ecb9271027339a12fc54b0/theorem_expr.ipynb\"><img src=\"data:image/png;base64,iVBORw0KGgoAAAANSUhEUgAAAMcAAAAZBAMAAAB3HyeqAAAAMFBMVEX///8AAAAAAAAAAAAAAAAA\n",
       "AAAAAAAAAAAAAAAAAAAAAAAAAAAAAAAAAAAAAAAAAAAv3aB7AAAAD3RSTlMAq1RmmUTNIjK7EInv\n",
       "3XZ/CtNrAAAACXBIWXMAAA7EAAAOxAGVKw4bAAADMElEQVRIx61WXUgUURQ+ujM7szO700JPEchC\n",
       "UQ9lDRSCErLiKkpUW0IPFbRgEAnaChFIottTRILzUNj0oyNFYAbaD0k9hC9RFoYv/bOwW9CDRYQg\n",
       "hpF07t3Zu7N3t3U2unCGM2fuvd/5PwPgenmiUOYSbCpjbSwXA3xIklHOCSVGjhTKpdIgUF+WWjo+\n",
       "PhXKxRQnqJkZ6ZzRGUjAAggSZoMLkF6kysl82dgsPj7zO41u2F9rZUE0RGgizHEXILuRbvHCY0he\n",
       "iwc5Az45CK3mNdPUQVkGOOs2OItIjbxwgWRduBBEiMeylkB7Rg81tDqGjArBNB8PIoQXmRftevJN\n",
       "DsRgIK2oB4bI68IQbQ5DEuOE6pytKgHssnKWVNwOMpBvSLPJ5EsXIBUIIJC4dz/pY0JvVRqdcJfy\n",
       "py2Hu85vijOQo/ihBeCKmwxG+71otfgMRth1Ex3KEuYs5CeP0dv5ex5YtQ8mUDOQgi5AvLgpgGrf\n",
       "0WEPE2634BXAVsrHHIHf4UzDfmxHPktlTUk+YTPVDxu68kECmEN+3LgP4CM1glzaDPALVaVH0e3J\n",
       "9zaI74aeOzmBpypTjrivJ9vTZlRTYWqywBICMgPKYhYU4URM4iO06xgOS+SwIwL9CWKno7s8R4qg\n",
       "UNOgLiVFIpEmzl3KCnh+OMpEwCSupvycs05aenJ3DpIcuNeBj/H6KWLEStrSiKUIMp9fYxWoqS8F\n",
       "ygLm2eas8CcJEdRS/rsTZEzL+YtkF/SijspbeYnc/UELj9GqUKVhPb9OsBBV3DkM1WEGvxYu2g0H\n",
       "TWUVbZzC6rvETu6iOqJ7hLA8TTutJ9ZGrxSuGoXFLaNLRr+eq0pkhaMPiCavM6Ng3SHWhYfAPMkw\n",
       "G7KMP0qaJfgTQrDGNM2QpqkHuBx+ivSuWHJLdjTER3Zb4VY7S7O4rw5dtwb8oQvUEk08bBV24Z1F\n",
       "h6xeetgtM0vig23WOA6YWqwbGhN4zDXXAeLOeJFbelb5NWClLjZuuw8DIXlvCqTL+H7wy+TNZq55\n",
       "hfKKIbeGSoMEOMUysRo3zejfZnxfkfYcLw3CzXjRKrl7C/zL4gei53//d9G0QM3/ACHsvZ7p1PMi\n",
       "AAAAAElFTkSuQmCC\n",
       "\" style=\"display:inline;vertical-align:middle;\" /></a><br>"
      ],
      "text/plain": [
       "<IPython.core.display.HTML object>"
      ]
     },
     "metadata": {},
     "output_type": "display_data"
    }
   ],
   "source": [
    "mult_real_pos_from_double_neg = Forall((a, b), InSet(Mult(a, b), RealPos), domain=RealNeg)"
   ]
  },
  {
   "cell_type": "code",
   "execution_count": 40,
   "metadata": {},
   "outputs": [
    {
     "data": {
      "text/html": [
       "<strong id=\"mult_real_neg_from_left_neg\"><a class=\"ProveItLink\" href=\"proofs/mult_real_neg_from_left_neg/thm_proof.ipynb\">mult_real_neg_from_left_neg</a> (conjecture without proof):<br></strong> <a class=\"ProveItLink\" href=\"../__pv_it/theorems/eec9cfdfe099ac74067411c658d6b7457a2f3c840/theorem_expr.ipynb\"><img src=\"data:image/png;base64,iVBORw0KGgoAAAANSUhEUgAAAOkAAAAZBAMAAAAmixTJAAAAMFBMVEX///8AAAAAAAAAAAAAAAAA\n",
       "AAAAAAAAAAAAAAAAAAAAAAAAAAAAAAAAAAAAAAAAAAAv3aB7AAAAD3RSTlMAq1RmmUTNIjK7EInv\n",
       "3XZ/CtNrAAAACXBIWXMAAA7EAAAOxAGVKw4bAAADfklEQVRIx7VWXUgUURQ+ujvuzKxOkiDogyz0\n",
       "0EvWgiUkIStulkS0JPVgQYZCZCHbSyCFriD5ELSLZjZGNoIEYuSUluhDiA/9Yvhgv7Y1ZvTQj4iQ\n",
       "lkF07szuzJ3ZbZMRL+zl3LNz73d+vnPuBbA/dtja5YQ1jXSfrW2uyJpQb6pnJDn2P/tK14TaQaaP\n",
       "iXpGMa8dp8Wldx3GOksCyCbCJjuRGidRls3K/kmc5ixfcq5sJqdbXwoIuZsIJ+ywQo5HmR51+MuQ\n",
       "rKgyRFqAFXF0AfArAC12E7whgFO5VbtIQupLRN2TYaxrNcPcHhuoYeLRuDWnK2R+Ggvl9ehLHZUz\n",
       "PqpEw7yIbIdM30laayxK91TMGWJBg2T4mt9rfPQNf5PR6DM7qLnx3J550KQrMwpmMW53VPmsZESY\n",
       "baeocwz/2AvQvWooirIiAcFAMY/ghk6fwXp+GaAYTBTlXA8/vKcYFg6hqeDKXjUqxZPjpPTQsVte\n",
       "2K8rt0nwHGCLKtcYqEMldCqakYec5A5QqsL7ZQ3G6kKM3ekzdbmKGXUaf5m48wDADIr8ElFWAPxG\n",
       "Z4jIYuqib2IR7i6iIAZxV7qik4mdFQOCG0aMOKYR8VJeJyiy+1yirwT1CfA/4lYgPoO1c5SIfISq\n",
       "nFaOinBziERCb4x+XAoClCguv9+vto9M1Dgx86Aojtsw7J/2BywR5v+AY4EqVyfWTqEqT1Gozjaq\n",
       "JYSDON2tx2mgdAQEL6ioXwyPwvP5WoNTFKHP7GseOU8BfhHSajbHlT9JmmGnKs9TqHxkzsxhOI9k\n",
       "4l+xy9Cvlrbb1eM1ilL6pEVKkRvnzKik6ty4tQcKfbo6By7jvE+rIo+O6oMiziDPLjV3JIo+dhyq\n",
       "VFTntQh9rxQzqg1K5aiFw8RiFqPY+7WtIBRX9g6Tr1+oMp9XHb9zfgW5K4v6zrK4kBnAm6AYu7NH\n",
       "ENwHjaMfQ5njpCi2Y4Tvecz1SpgEr5PeRrGMMqNaR7SOWp3MQa5Euqj6KjBHDL4twAQra3k9NJbk\n",
       "ztme9Dbypqx5fkU3PBiuklR2Y+WMxeLIy/DWEdE6F1ZOn3kzSzo/F0xybGPqTuPQmxJTvnUIXFdR\n",
       "OvxZ7quInTsBrUjExhDp5Kd4v6XVbzQVJTW6UqNmWSwdEMWA6T2muTwqdv7z3dSUqBeCa3s3Vad+\n",
       "I8rr80b0rst7GNnzF2c35r2AunVNAAAAAElFTkSuQmCC\n",
       "\" style=\"display:inline;vertical-align:middle;\" /></a><br>"
      ],
      "text/plain": [
       "<IPython.core.display.HTML object>"
      ]
     },
     "metadata": {},
     "output_type": "display_data"
    }
   ],
   "source": [
    "mult_real_neg_from_left_neg = Forall((a, b), InSet(Mult(a, b), RealNeg), domains=(RealNeg, RealPos))"
   ]
  },
  {
   "cell_type": "code",
   "execution_count": 41,
   "metadata": {},
   "outputs": [
    {
     "data": {
      "text/html": [
       "<strong id=\"mult_real_neg_from_right_neg\"><a class=\"ProveItLink\" href=\"proofs/mult_real_neg_from_right_neg/thm_proof.ipynb\">mult_real_neg_from_right_neg</a> (conjecture without proof):<br></strong> <a class=\"ProveItLink\" href=\"../__pv_it/theorems/18a06a0ac528ee19d415344f26395881b1f5d57b0/theorem_expr.ipynb\"><img src=\"data:image/png;base64,iVBORw0KGgoAAAANSUhEUgAAAOkAAAAZBAMAAAAmixTJAAAAMFBMVEX///8AAAAAAAAAAAAAAAAA\n",
       "AAAAAAAAAAAAAAAAAAAAAAAAAAAAAAAAAAAAAAAAAAAv3aB7AAAAD3RSTlMAq1RmmUTNIjK7EInv\n",
       "3XZ/CtNrAAAACXBIWXMAAA7EAAAOxAGVKw4bAAADf0lEQVRIx7VWXUgUURQ+ujvu/OgkCYI+iNBD\n",
       "L1kLlpCErLhZEtKS1IMFGQqRhWwQgRS6guRD0C6a2RjZCBKIkVNWog8hPvSL4UP/tjVm9FApIqRl\n",
       "EJ07s3tndnZbYRYvzOXcM/fe755zvnPuBbDfdtha5YSUWrrH1jJXKCXUm9oeCbZdY11ZSqhdpPsc\n",
       "r2fU2LHjlLT8ocsYZ8kA2UTYZMdTE8TLSqxycAq7OctMzpXN5PTSoYiQu4lw3A4rlKiXza0BvwzZ\n",
       "iqpAqA1YCVsPAL8K0GY3wBt82FVYtUvEpZ541D0ZxrheP5hQaAM1SCyasMZ0lfTPIq68Hn5NUTlj\n",
       "UhUezI3Idsg0T8JaZ1EK0xFjyAmaZMPW/H5j0g/8psLh53ZQc6OxPf2whSozCmbRb3c0+axseJjt\n",
       "NFHnKP7YC9Abv6ewJqpEQNBRzGO4Qekz3MivAJRADEU516NPH00MCwbwqODKtlO3jpHUQ8NuuaGa\n",
       "KrfJ8AJgiybXGagjpeZQtCIPOVnwmVRFD8qbDNQLEXanzzTkWpL/JX6ZuHI/wAyK/DJRVgL8QWOI\n",
       "yGLowu8iHu4tNq0cxlXpKiUTOyv5RAFGFYqaRgJ3Ka8bVEU4F28rQX0K/M/oKRCfwdw5QkQ+ZMqc\n",
       "ds7k4dYA8QQtjF4ciiKUqoK32quVj0zUODHyoKqO23DG6/X6LB7m/4Jj0ZSuTsydIk2eNqE6O0wl\n",
       "IejH7m4jdkNloyC6QUP95qG2Bhfy9QKnquJArK15ZD8V+CVIq9scVf4iYYadmrxgQuVDc7EchvNI\n",
       "Jv4NuwKDWmoLrj43RZ2Xv+ieUpVmS3klWSfg0j4o8tBilAOXsd+nZ1EhRfVAMWeQZ5cWO+JFDzsB\n",
       "NRqq81rIYFMXlDBuDbVqzMJhcmIWvdj/vaMgEFX23yOzX2kyn1cbvXN++7krS3RleVTI9OFNUILV\n",
       "uVAUhQNGvj6BcscJSepED9+3lE3CJHib8DaKRJQZ0yuitdVTMvu5UvmiZqvIHDb4tgiTrKLH9eB4\n",
       "gjtne8LbyJ000flVenB/sEbW2I2ZMx4JE6/Ae0dIr1yYORY2saTyc/4E2zYnLy8OWpSYiq0j4LqK\n",
       "0qGvykBlZN9JaEciNgdIJT/Jey2lfmNMUppaT3LULMtJhyTJF/Me000ek7r/+25qideL/tTeTbXJ\n",
       "34jK+rwR3evyHkb2/AOGTuNI2e8xNQAAAABJRU5ErkJggg==\n",
       "\" style=\"display:inline;vertical-align:middle;\" /></a><br>"
      ],
      "text/plain": [
       "<IPython.core.display.HTML object>"
      ]
     },
     "metadata": {},
     "output_type": "display_data"
    }
   ],
   "source": [
    "mult_real_neg_from_right_neg = Forall((a, b), InSet(Mult(a, b), RealNeg), domains=(RealPos, RealNeg))"
   ]
  },
  {
   "cell_type": "code",
   "execution_count": 42,
   "metadata": {},
   "outputs": [
    {
     "data": {
      "text/html": [
       "<strong id=\"mult_real_pos_closure\"><a class=\"ProveItLink\" href=\"proofs/mult_real_pos_closure/thm_proof.ipynb\">mult_real_pos_closure</a> (conjecture without proof):<br></strong> <a class=\"ProveItLink\" href=\"../__pv_it/theorems/17f702e5db436113ac93ce7a6a075c1987f821980/theorem_expr.ipynb\"><img src=\"data:image/png;base64,iVBORw0KGgoAAAANSUhEUgAAAa0AAAAZBAMAAABwVGzTAAAAMFBMVEX///8AAAAAAAAAAAAAAAAA\n",
       "AAAAAAAAAAAAAAAAAAAAAAAAAAAAAAAAAAAAAAAAAAAv3aB7AAAAD3RSTlMAq1RmmUTNIjK7EInv\n",
       "3XZ/CtNrAAAACXBIWXMAAA7EAAAOxAGVKw4bAAAFE0lEQVRYw8WYb2hbVRTAT5KXvJeXJgt+KE6h\n",
       "RETtF0ucrWiRGWgKnTDM8M8HVzSKIE6mr+CXrrOrQ1ChtMFRJKLuzQ5hqy7RuukGSnCMWIaYD8GO\n",
       "zcDVibOrG0Wok8qs99z73st9SfOSurd5IDcv99z38n7nnHvuuRfASTyVeXBLeuB6i4RNgn4uVWLO\n",
       "IwPu/ak3cd25gtgMY+OL3zCuj7CRXXiQ5szlIzeWax82P7vwoKdqft83t3/nXNzigrOcK4rXtzfm\n",
       "ctS3LnIBYzHvAlek1heZIdj2gG5x/cS5+vH6+cZcjvp1zOm8GYvXLDtquUYgqERhS/a9bJYy53TG\n",
       "9RoaM9OYy1HfumxI0abPFa7uei5JS1v+CsQZV4DihWKNuRz1rcskBkrBFa42nX8vVCppiytjcUkZ\n",
       "xoWpI+CQNxz1rcslnF5pV7gCfII9cbHqL8/hqMUVKfCX/q5SOe2UD530rUu7OceGvh6tySi3XiDN\n",
       "044wKMRSmbxDiMO37tQsLv8K5xoAeNeJy0nfRIT0lzUM7S/Cft02aFALrjR9kjjIx9wesNaxzO6d\n",
       "Vy9a9QYof3GuIZCjomXKR+HBqMBVo1+PCCXGM/QTptP04zhsBZiuRqR6EqQSzHx6i9OD+CCzcinY\n",
       "l9bMyL1iopWXOVdQD6XMvomNU3BbSJd0gUvUt1oznXuundi5yjjh6XMeATgHymX2kuqfaOQlCOfp\n",
       "yK3Yk6ufgcIgQ5QlbMcrVDKcKzgtrGmqweUlFro0gGswSYTEOBT0LQnahuRDI/X+Qq459r/eUhU2\n",
       "A7kULMOeMfToGkVkdZAhfuavQ4K/lIQwU2QjDiG9mV70TfwCcB77O+8YtXEx/ToWYLQNIb4j8Hmy\n",
       "nEzVxKH6D/iWLC7mIgIPAfRyrkbCB3Xffxm5+c1hcf0aGK6OVa4YXJ/RzDI9GG/TVObWztCH221c\n",
       "qIeZzV+Yfp5drC89q53MNoREDtr9tREjmoD6B3jSd9m4YtDupfd+5WQsNmhXz0koYt5grxkhAtch\n",
       "obgy8yHspmlh16+wQfczZSckFmxcqFfn0QxMPtEm67msTm4bkh8+b+f63UjQH8DdiYTIFSTeMk1k\n",
       "ytkqRNqYVaypDpKPpGHFXC4AnrW4XqEcU9btPmP9Ag9GQAcMgu+FbPZtyjUTsHGhXkooBZBZFCdh\n",
       "HPxd/XYu7OTWYrYhW47X5MOnaSpSKM2BxTc6xkQutePLod/otqma/NkkK5tTSxjkIWxqhXlwH5jS\n",
       "zXr+Hci+bJVEUlTcp3wLSUXJc3/5u+r2KW2pSBT2MpueohVzG+TsXKdYGY3WYrYh5GjMvn5hzoAz\n",
       "VsIs1a67CVlrXkCNSQlq41eNn9vfr6QblCMWl7wEZzr5+tsD5jsKXDkt2KuzrY16BfYdlk33mPbE\n",
       "Tl//pjxw2xDy+Ik16vnuhlzDb76uN+XaA+G9Y02rZ6OeN8InCotxGKZ3KT9o4Kn3lzb5KHKpeSgq\n",
       "y70ANJ5n8Bc2Rqd3AUpGbULz/EH7vykYQUHDJ/Kxv2tKp+9XV5un2m0QmW2+ubinfr+sHs9Orb1f\n",
       "9vd1zeJWVPkGHttELSBRC4zHlCKMa0rR7LxZpnGBtvG/9KKarImRm6ykcq2nGE0Cdn795wA0Dr38\n",
       "6kSENtZUNTpLkR693jbi+caoC1wXnNX/4Xxj4nQMnuT9q1epV6wZwTvVqHfWobZy4wygBWntPKru\n",
       "/FC4wbdW5/95fsjkYdzs/Rj/F5GTcB71xGbHAAAAAElFTkSuQmCC\n",
       "\" style=\"display:inline;vertical-align:middle;\" /></a><br>"
      ],
      "text/plain": [
       "<IPython.core.display.HTML object>"
      ]
     },
     "metadata": {},
     "output_type": "display_data"
    }
   ],
   "source": [
    "mult_real_pos_closure = \\\n",
    "    Forall(n, Forall(a_1_to_n, InSet(Mult(a_1_to_n), RealPos), \n",
    "                     domain=RealPos), \n",
    "           domain=Natural)"
   ]
  },
  {
   "cell_type": "code",
   "execution_count": 43,
   "metadata": {},
   "outputs": [
    {
     "data": {
      "text/html": [
       "<strong id=\"mult_real_nonneg_closure_bin\"><a class=\"ProveItLink\" href=\"proofs/mult_real_nonneg_closure_bin/thm_proof.ipynb\">mult_real_nonneg_closure_bin</a> (conjecture without proof):<br></strong> <a class=\"ProveItLink\" href=\"../__pv_it/theorems/5d0662d319bc75bec6d59e8d2acbd8970816763f0/theorem_expr.ipynb\"><img src=\"data:image/png;base64,iVBORw0KGgoAAAANSUhEUgAAANcAAAAaBAMAAADWJdTsAAAAMFBMVEX///8AAAAAAAAAAAAAAAAA\n",
       "AAAAAAAAAAAAAAAAAAAAAAAAAAAAAAAAAAAAAAAAAAAv3aB7AAAAD3RSTlMAq1RmmUTNIjK7EInv\n",
       "3XZ/CtNrAAAACXBIWXMAAA7EAAAOxAGVKw4bAAADmElEQVRIx7VWb0hTURQ/us2397a9LY2gAhkI\n",
       "9aG0gSQoIZOm/ZHqlRCEQSuDSCLmxyB0QeCHjA3LbEb2hAhigZqS1AfxS2mFIZEU1WpiBNkfQkhr\n",
       "gXTO2/Z83jfbJvXgnJ0d7r2/c8/9nXMvwP/8zB3Kj2W4byWzt2Y5PtxOuhIOgTFrrFx3tjPES6jG\n",
       "wO7jgtlOvUXKp/dzy08xdAMXA6sTt5flR2GKTr3fFGUQToXm3l5K2KPmGNhcYJMBHOQoygyLG0G1\n",
       "iXHeHkc1zTh5zmEq6CJLuC8hmDUKIiJVk+dEZmBGJJXgZb3HUfJkFqwPgucovio/pdHuBCEGoHgy\n",
       "PDy7hIAu1jtLuXLrwXbk4cqr/AmCADTEY7I4MwML4Fir7rxipJ/E/3yKRLwqGA/CaoVN32A/6l0Y\n",
       "E0aalyE/vqJsYJ2WCdINin1wRrOzdT0gyImi3o36C8p4JPI0Q7A1KLVkNA03q868wilMTL9CoEZN\n",
       "Gs3tDBOOIPJOgK4MwUKJLZhG4YbKiN5GYR6gTMH1LYI9ev+OIU0Aj68JOEfqtYVaGt5coi5xFOU5\n",
       "yh0X7FFHbZHhGcBmBUxDkIEKPDxzCL/OhK8F6cXLFkltnCcTRvG9qtOYlkHEaQSV7C9QHqLsA3hD\n",
       "wcyRswbgN4ZNZlsEv2AijV2lTOy9CJMb1fBjPSFOhSTRAkNUVB8kYSTJtPjOCOwxCD+S4AhrQvIf\n",
       "VupbS/3zPJPGFqoCr6ZrjaF40CmKUEEtiJvkJuAVk0ZhAQzfNWVmRPIXk2nTghlbmeoN0HHcJQ6F\n",
       "K4doUwtTskhVi2AzWKfmWhl3NpocvhalG8FmIce7Men8SUcI5UqLj2rAhOC0no1wFvkhvDTP0+jX\n",
       "olvJhWjhul1gKqCNL54ZVUq/AljsVltGAVxOVgQcWwRzQykvLQHbRioH02Z0m6nJ8i6Dt04BM14L\n",
       "gpBPZnORTxvbRfzt+dxa6E86ewYpFZNxu0NOdv1fPv7K7BKwqqRhlagpg9VvdJQhW52iaDmgrwUr\n",
       "hmrzp7wPJuK/9dcj3uWqtEGlpY+vwKDseMtdUHYmmuplzuPxVLNd35Dysta3Z33VxtSYfYE6OYwX\n",
       "XDkojEXqP9CvqqS6M9VKZ9K3H4PaOkzbSwagzWneGwXuKnXUj303a/QT8pcUk+brTA9mY54T8Zsm\n",
       "HApJf3mDcNEUzxpfejDmDWKS076uVvT+i1OIKXHDv383aiiEO/kDUPfflYxWlZAAAAAASUVORK5C\n",
       "YII=\n",
       "\" style=\"display:inline;vertical-align:middle;\" /></a><br>"
      ],
      "text/plain": [
       "<IPython.core.display.HTML object>"
      ]
     },
     "metadata": {},
     "output_type": "display_data"
    }
   ],
   "source": [
    "mult_real_nonneg_closure_bin = Forall((a, b), InSet(Mult(a, b), RealNonNeg), domain=RealNonNeg)"
   ]
  },
  {
   "cell_type": "code",
   "execution_count": 44,
   "metadata": {},
   "outputs": [
    {
     "data": {
      "text/html": [
       "<strong id=\"mult_real_nonneg_from_double_nonpos\"><a class=\"ProveItLink\" href=\"proofs/mult_real_nonneg_from_double_nonpos/thm_proof.ipynb\">mult_real_nonneg_from_double_nonpos</a> (conjecture without proof):<br></strong> <a class=\"ProveItLink\" href=\"../__pv_it/theorems/c42c6f078adca429a131d05a555881c0267fe2790/theorem_expr.ipynb\"><img src=\"data:image/png;base64,iVBORw0KGgoAAAANSUhEUgAAANcAAAAaBAMAAADWJdTsAAAAMFBMVEX///8AAAAAAAAAAAAAAAAA\n",
       "AAAAAAAAAAAAAAAAAAAAAAAAAAAAAAAAAAAAAAAAAAAv3aB7AAAAD3RSTlMAq1RmmUTNIjK7EInv\n",
       "3XZ/CtNrAAAACXBIWXMAAA7EAAAOxAGVKw4bAAADmklEQVRIx7VWb0hTURQ/uj9v7217Wlb0B2Qg\n",
       "1IfSBpKghEya9o9qJQRh0MogkogJfQlCFwR+yHBoZjOyJ0QQBs6MpD6IX0orDImkqFYTIcj+EEJa\n",
       "C6Rz7rbn874tN6kL5777Dvfe3znn/s65F+B/Nks7+1gHQ0tZvSXD+T2t1JfDITBmjJXtynSF3Ibd\n",
       "COT4hECmS29R59PrhdRLDF0gRMHmQPcybGSm7NDrTREO4VRw5l1bfDxsiYLdCXYFIJcUBelhCUPY\n",
       "beSUt0exm+SUopBryuukkfTAg2C2CMiIVEmaE+mBGZFUkpfXHkcxKzxYCALnyb4KP4UxxwFSFIBp\n",
       "0jy8HA8COnntNMXKpQfbbsadl/njBAGojdlkdaQH1oJzbbrzilL/NPbzKRz2qmAiSCsYm77Bfux3\n",
       "ok1oqTlNfnxFWc8rrWPU17LxwSmNZ2u7QVLiSb0L+y8oo+HwszTBVqHspkH9YIOqNOdPYGD6GIHq\n",
       "NGG0tHJMOILIOwA6U+8vaX+CcRdMw3BDZURvnTQLUMJwffNgjz+850jTgsdXD0Ju6pRcDQ1F6hZH\n",
       "UV6g3HHCHnXKZgWeA2xiYBqC9Jfh4VmC2Driukakl6hYPWrhPBkfFN6vOE2lDd2uA5XsL1EeoewD\n",
       "eEtez5CyCuA3mk3D5jC2QDyMncWc4b0Ikx3R8GMdIU4EPbIVBkJwZgB3HEowLeYZgT0B6UcCHGFN\n",
       "SP7DLL+11L8gcmFspCzwaqrWCIoblbIMZRFhnA59DF5zYZTmwPBdk2ZGJH8hDe1aMGMTl70tdBx3\n",
       "iUM95QPk1NyEIlPWItiUCwwrmWfDielrULpQNQ1Z3g0J5U86QihlJT6iAZMCk3o2wjnkh/TKMkuz\n",
       "38guFgvZKnThFtl56Pj8mVGm9DHAQpdaMvLgciIj4Ng8mAuKRc8CsK3UZWHYjC4LFVnRafBWMzDj\n",
       "NRYESyU0FPi0tl3Cb/fnpnx/Qtl9j0IxHhu3K4mq/8snXpleAFaRGNg8VJTB5jfmliBbHbJsPaBP\n",
       "BBuaavcnvQ/GYt+a62FvqjSqVWnpE8vQqBy85S4yz2RTjSK43e5Kvuobkl7W+vKsLw9R1WZfS7XS\n",
       "gxdcKTDGIvUf6ndloe5IttPZxWudQS0dpm1F/dDssOyNgHCVKurH0M0q/YLlC5JJ0zoWB7Nzz4nY\n",
       "TdMTDHr+8gYRIkmeNb7Fwbg3iElZ9HW1pPdfjEJcihv+/btRQyH05A8W7t3NPaT0igAAAABJRU5E\n",
       "rkJggg==\n",
       "\" style=\"display:inline;vertical-align:middle;\" /></a><br>"
      ],
      "text/plain": [
       "<IPython.core.display.HTML object>"
      ]
     },
     "metadata": {},
     "output_type": "display_data"
    }
   ],
   "source": [
    "mult_real_nonneg_from_double_nonpos = Forall((a, b), InSet(Mult(a, b), RealNonNeg), domain=RealNonPos)"
   ]
  },
  {
   "cell_type": "code",
   "execution_count": 45,
   "metadata": {},
   "outputs": [
    {
     "data": {
      "text/html": [
       "<strong id=\"mult_real_nonpos_from_left_nonpos\"><a class=\"ProveItLink\" href=\"proofs/mult_real_nonpos_from_left_nonpos/thm_proof.ipynb\">mult_real_nonpos_from_left_nonpos</a> (conjecture without proof):<br></strong> <a class=\"ProveItLink\" href=\"../__pv_it/theorems/c7657ba6037b36fe71b7ffeffda78b10058d7c3c0/theorem_expr.ipynb\"><img src=\"data:image/png;base64,iVBORw0KGgoAAAANSUhEUgAAAQEAAAAaBAMAAABFpPQiAAAAMFBMVEX///8AAAAAAAAAAAAAAAAA\n",
       "AAAAAAAAAAAAAAAAAAAAAAAAAAAAAAAAAAAAAAAAAAAv3aB7AAAAD3RSTlMAq1RmmUTNIjK7EInv\n",
       "3XZ/CtNrAAAACXBIWXMAAA7EAAAOxAGVKw4bAAAEMUlEQVRIx8VXbWgcVRQ9O7OTmf2atFZLtSAL\n",
       "lYIUS8ASaZG6IRtN6Q+3Fv1hxa62ILa0TiB/QpJmhSIUY7MooW4/pxiEGmlGRWNThBApWkUJtVKx\n",
       "LIy1GI01BEELAcF732Sek9mt3XYjDux8vHfffeede+59b4H/5brfwtlfF82bmrt1AC5UVysiujgI\n",
       "7rvlEeubgGQB16EXFwNAPM93q7LDutGIX9J067MxAWxcDAQxWhDMdGXHs6Hv5vMn9pwn435hO2Dj\n",
       "GyBlA0v4c1UdCHr4tibEy9FJQtUUsix2YMt6G8oR20PwNdnQ9G3c90IdCDbLSASuhgzddoURdCNm\n",
       "0JQaQ6Ao/E4D54CXqasuQfxBv2h4uY3M9LpKBFGLsRp3Wp4SgR2ElvAk0rcPwKBVIBlu3c5EJ+15\n",
       "5ZXLeYlALFZfapuuxgLYRNlM8BvqoMCkiGN1uPUTEQqPmaem/+Eg8o7QHXTg7FUGeI1+X5XLX9aB\n",
       "IJKf14K+csqVrc/N3EHUitn0XYEoHFhtVZLVDhyumuc1JmPRiyaesWJzcuyf9ogFVXDfIOcs9uz5\n",
       "azo0fKAAdEBfUq3WrsC+tVWKytAYr+vKlFQ9D75Ak36K6KTfqMwh6UIZFwYBJT74Nj0OlOjyPfdR\n",
       "SY/ZiWBhf+Cjlr30GG7nbBKLeGU+U5TLO5cTz92PsXyl3xTn3TlKh1mkHLF8zo08Gh0Ys2zQX6ar\n",
       "6CGIvRVOmhGaW3GlN+OHUs5MYNRB5yj5GscXItLs+ODdg3CdRDe9nm7Du1LnHgeEIFkU3oCLDMvB\n",
       "9jQ0wcGpAAdGJhzwPooC8rI4Z+nTNLHB1b9lqifxHbdS5iJKlMB11dPc0JvrRaoQisKIi0eC5eBx\n",
       "Kn4iKqlgPWjvCuuAw/E+i3V446hXRgnBdAbqXYKDz4TRzD34EQKBOUSP/WPMgR/ICBN8nBCksVzx\n",
       "GxsLJAuognvTDSA4FS7VonD00Cril4zrHl9mQj9OVsoyIsfTwW/21bjw5TpdhGSLKCAyciZT/R7J\n",
       "yVUuyu0+0hQjeUQd8fG8RNBJ1WdwIYKHhTmznDHGsVV4jB4R0xlt2LdKrOkNNGsCubvpDHAyLXLh\n",
       "Id+Fxin4Gq3h3o87fpbZuLKV+fcUfnLQ9vfGQyi9tLD+tvgvyRztUs2UJWnTTDyxEObnaFFfLJVe\n",
       "pyh8WKV8n+O5CtVKRe/8c9uxcv5G5WSHTAortsF+VXBgattsPZvNtvl9s5gwHE8HT46hk7py4b1R\n",
       "zVTz3lrD8UYWsaQ1sNWO2UIHGAv4izv4nhR12NNBYqjSST/fDlXxXsuOq8piqLWu/QD6m7yP/OQM\n",
       "PRrY+iawfwboIpq1vbvj2Uo6I+kFSR+o19bNEaRCNsOlUsW5V/GoOFMa/Ldzou5WdkzVsKvUck58\n",
       "+qYWa25/Y63paNT0X/xf8K8oKe9vY6gWZYDXwHMAAAAASUVORK5CYII=\n",
       "\" style=\"display:inline;vertical-align:middle;\" /></a><br>"
      ],
      "text/plain": [
       "<IPython.core.display.HTML object>"
      ]
     },
     "metadata": {},
     "output_type": "display_data"
    }
   ],
   "source": [
    "mult_real_nonpos_from_left_nonpos = Forall((a, b), InSet(Mult(a, b), RealNonPos), domains=(RealNonPos, RealNonNeg))"
   ]
  },
  {
   "cell_type": "code",
   "execution_count": 46,
   "metadata": {},
   "outputs": [
    {
     "data": {
      "text/html": [
       "<strong id=\"mult_real_nonpos_from_right_nonpos\"><a class=\"ProveItLink\" href=\"proofs/mult_real_nonpos_from_right_nonpos/thm_proof.ipynb\">mult_real_nonpos_from_right_nonpos</a> (conjecture without proof):<br></strong> <a class=\"ProveItLink\" href=\"../__pv_it/theorems/5d6a7820ba7c343f2292aa3832fe939109adf2350/theorem_expr.ipynb\"><img src=\"data:image/png;base64,iVBORw0KGgoAAAANSUhEUgAAAQEAAAAaBAMAAABFpPQiAAAAMFBMVEX///8AAAAAAAAAAAAAAAAA\n",
       "AAAAAAAAAAAAAAAAAAAAAAAAAAAAAAAAAAAAAAAAAAAv3aB7AAAAD3RSTlMAq1RmmUTNIjK7EInv\n",
       "3XZ/CtNrAAAACXBIWXMAAA7EAAAOxAGVKw4bAAAENklEQVRIx8VXf2gcRRT+7sdm9/buNrVKQQty\n",
       "UilIsZwokRapCblKS/7wtOgfVuy1FcRK6wb6T2jSnFCEYjSHEuq1WkcMQq2YVVtrW4SQUmwVJWhF\n",
       "UQ7WGoxGDUHQQqDQ92az42b3ai+9iAO3dzvz5s033/vemzngf2l32Dj926J5SxQXDsBFwtUqSC4O\n",
       "gtsXPGNNHsiUcQl6ZTEAmCV+2tEB+2ozfs3Ro19gDFi3GAhStCFYuejAE6H3tvNv7DxPxgPSdlDg\n",
       "ayArgCX8uqIJBL38WBXi5bVxQpUPWVa68dAagfgh4SH4kmxo+fU89lQTCLpUJAKtpZ0eO8II9iBl\n",
       "0JIaQ6Ao/EkTZ4HnaKgpQfxFn2R4u63M9D1RBEmbsRo32Z4Sge2ElvCkc9cPwKBdIBPu3cJEZ8Sc\n",
       "8mq1kkIgN6vfICxXYwFspGwm+C1NUGBRxLEy3PuJDIXHzKNT/3AQe0fqDjpweoIB/k6fL2q1z5tA\n",
       "ECvNaUFfPumq3q3TS4lauZq+IxCF/SvtKFkbgIMLXFUEk7HiRROP26lZlQt/ixEbCcl9i1qz0rvz\n",
       "8lTI1WAZ6Ia+JFJluniRvavrF5W7yvrFSaV6nvwVTTmD5LjfGZ9FxkV8VBoElHj32/S1v0rN99xP\n",
       "JT0l0sHCfudHHbuIumM2Z5PcxPNzmRL/4cllxLN5rEzyVX6znHdnKR1mkHXk9jk3Smh1YMywwUCN\n",
       "WsVDkHornDQjtHbcVd6MH6tFK40T5MmcKJqj+ExGmh2/dPMQXCe9B3oXYXtX6dzjgBBkKtIbcIFh\n",
       "OdiSgyY5OBLgwGgPB7yfooCSKs4FerUsrGVF6d/o4/iOeylzkSS1wHUT76GPl+lDthyKwoiL+4Pl\n",
       "4EEqfjIq2WA92NAT1gGH4wMW69F1J7wySgimiFijSxAHn0qj6VvwEyQCa5hUUJQc+IGMMcGHCUEO\n",
       "y+J+Z2uZZIGE5N5yAwiOhEu1LBy9tAvzW+OSx5eV1g/nod3I5Hg6+ENMmNKX6/QwktvypC4VOYup\n",
       "fp/k5MYvqOM+lk/RLpKOfNmmEOym6jM0H8F90pxZbjdGsUl6TB6qwFzKP/eukHt6BW2aRO5uPCln\n",
       "7SvqF+/1XWicgi/SHm79uPsXlUvLO5l/T+FvDgn/bDyA6rPz62+H/yNTpFOqjbIkZ1nph+fDPIeO\n",
       "xNPV6ssUheN1yvdZXqtcL2v75r43v14rXa20bFdJYafWihckB5a2WeiFQmG9PzaDMcPxdPDIKeym\n",
       "oWL4bEy01/Pe2cD1RhWxjD24SaSE1AFOBfyZDr4nRR30dJAejjoZ4MeBOt4bOXETqhhqnas/hP4q\n",
       "nyM/O8MPBI6+MeybBnqIZm3XM2YhSmcsNy/pA/XavjaCbMjmaLUauffGPSpOVof+7Z6ou9GByQZO\n",
       "mEbuiY9d02LV9R+sDV2N8v/F/wW/JUl5VwBECReRTuIziQAAAABJRU5ErkJggg==\n",
       "\" style=\"display:inline;vertical-align:middle;\" /></a><br>"
      ],
      "text/plain": [
       "<IPython.core.display.HTML object>"
      ]
     },
     "metadata": {},
     "output_type": "display_data"
    }
   ],
   "source": [
    "mult_real_nonpos_from_right_nonpos = Forall((a, b), InSet(Mult(a, b), RealNonPos), domains=(RealNonNeg, RealNonPos))"
   ]
  },
  {
   "cell_type": "code",
   "execution_count": 47,
   "metadata": {},
   "outputs": [
    {
     "data": {
      "text/html": [
       "<strong id=\"mult_real_nonneg_closure\"><a class=\"ProveItLink\" href=\"proofs/mult_real_nonneg_closure/thm_proof.ipynb\">mult_real_nonneg_closure</a> (conjecture without proof):<br></strong> <a class=\"ProveItLink\" href=\"../__pv_it/theorems/f927d15caa49d85e850f98500f5a6240505facef0/theorem_expr.ipynb\"><img src=\"data:image/png;base64,iVBORw0KGgoAAAANSUhEUgAAAb4AAAAaBAMAAAA6WSSWAAAAMFBMVEX///8AAAAAAAAAAAAAAAAA\n",
       "AAAAAAAAAAAAAAAAAAAAAAAAAAAAAAAAAAAAAAAAAAAv3aB7AAAAD3RSTlMAq1RmmUTNIjK7EInv\n",
       "3XZ/CtNrAAAACXBIWXMAAA7EAAAOxAGVKw4bAAAFXElEQVRYw91Yb2gcVRCf3O1m9/7kevghNArl\n",
       "RCwBbThbE20odaEXGhUhQf2iBU8URKXtBoJwTWvO0g8GanJYQriCurVBaKK9q6HUpCihIcRa1KCx\n",
       "0crBqsUaY0sR0kigxHl/bm//XDZ35poPDuzbtzNz795vZt68eQ/g/0Q9bfR1fr5E/arcbEX/v/EO\n",
       "4/OPRrD16mIKFOyEct+561dX9u89yh334FwUIJiERUjQz23riu8j0qhrH0dykW3XoVuDC+jE9cd3\n",
       "jMRMZO3jiLqN0XTxg70Xo6y/Q+3T4HuAKwxfmLzuWxmfq7xMs49j80AlRvrNzkh1QPt2jfSG+wHx\n",
       "fQPwC8PXQl6vrIzPVV4eCVnMAPFKjFSt2fF1gU8mrujcCCQ+/wbIaBTfW8SwqZXxucrLow2YvYVo\n",
       "JUbyKk58goqm60B4LL9AdZTiI6YIRFbG5yovjzBuIFiZlfwVe4Xey10u4EvBid2Uq4voSiFF8Xmj\n",
       "LmkEBa7y8ug6PpsrM9RLLM/s0wr+qxoKwxD7On8V+aFxlj+/zuUuueVPN3l5VIvPkyTc77lmS4BO\n",
       "TrH0ZFI6Q9s3NFN89my27jziEsPXCnDcDZ+bvDxKc8PvUX1LVomTU4TMSk1gTXupg3tv/2lVl/9h\n",
       "+DpACputNHMWdoRN+Gzy0mlwjAz36zWD8SI+WDD5J0CYBn+TqayinOEzd7vWXlSJ04O0jZvyyzZS\n",
       "PPSkkbgbpQWGz6cF2vJqvXX9cG9AEzQTPrO81Drs55drMZS6dpP0VFi8M/hM4sK/CTVZ6L1OeRky\n",
       "R8ZR4CkC41YRaLcMpXyqoh7CpZP7iePznbRlZj/H59GNGQitZC/XlYA5Pk3ykojYSM8GurB7ugU+\n",
       "hqBm9h/iC6YggxbbQnk1JNMzzgJ0J7kV7DRjKOVjlSJImfwnK7ZVJPH4hPhOzJK7eq/ysqD+/jct\n",
       "+Ki8jE2c2EjXvafJx6G2Q1CTtMVnRofHII+POZFymhm+lYgpPfzoDcX48bR5/2tN2NbfIsf36WsA\n",
       "J/dEgyqzR33gw+ct+Igchneey/t9ZN5ZIheY1Ea6HhrE15Ex4j9Duw6f93GiEaj1qBZ8jAOfuxmO\n",
       "Kh1onIApUkVT1g0zvlOhaNH8CQcxfRz4HTZoIlWoB2XOgo/I/bPUHIQ+Ufuc+Awms5GeTSDOdrp1\n",
       "FqL7L5bYfbpnRrD4j3PkKwUwcb7qMnGLknQ6Dkt8m8HBjboj1Ykbdb+1xuH7H1SRqNiEIe19NZ1+\n",
       "F/ENV1vwEbmgyOMg0QiPwVEQG1qs+AiTWY3aSH98FOBEhObPRwylF3AlvoPz3vRZxx8WfJyTKFSV\n",
       "dFnO5DsmpSpdJPP+gbHqnjPODwOQ3m8ps4Sw+Xz0JcRkOcv8JzY4zkfBtlAYDlP7TmJlHoSMFd8k\n",
       "K9eB20jXzxYp6YKYHgqrcYtj/1ak1c+GwaSgJEHiK08c5fVZsb07asIn3YQf69k+3gj5uZrwZVRf\n",
       "s0aPVP5FODYk5d2Vty1helu2ZoHZSNefHYPOWCzWZj8/FCpjB77E20e0VfF1Q83hZElVOj8/cEOE\n",
       "YT4KCTSufFmFKqf/1L6nCT5/FqbkhWaAftIdNhrC9MyRhHacrb/AoPMfZRJZA/yja/8XNvG3y8ur\n",
       "z7odQiMAiRIS+UPO87t/NN1f/Pwu7moYIUdi+QI8sxUtISRJ96gqT5GGMzdKmAyIjcR9r/tjRQ56\n",
       "d+FzqhKV3kAJOrPl309gfHpYbyxkdMHoTYcaNaeNbPcvkr52eKES7nD+w/1L76UIsIRVvXwbeJcQ\n",
       "6/nDnpFV6rbs+l2FlnZ/5rj/jBbrlnwmb1w/fE/Q+8+JfwF/9ovCRPEpzAAAAABJRU5ErkJggg==\n",
       "\" style=\"display:inline;vertical-align:middle;\" /></a><br>"
      ],
      "text/plain": [
       "<IPython.core.display.HTML object>"
      ]
     },
     "metadata": {},
     "output_type": "display_data"
    }
   ],
   "source": [
    "mult_real_nonneg_closure = Forall(n, Forall(a_1_to_n, InSet(Mult(a_1_to_n), \n",
    "                                                            RealNonNeg), \n",
    "                                            domain=RealNonNeg), \n",
    "                                  domain=Natural)"
   ]
  },
  {
   "cell_type": "code",
   "execution_count": 48,
   "metadata": {},
   "outputs": [
    {
     "data": {
      "text/html": [
       "<strong id=\"mult_real_nonzero_closure\"><a class=\"ProveItLink\" href=\"proofs/mult_real_nonzero_closure/thm_proof.ipynb\">mult_real_nonzero_closure</a> (conjecture without proof):<br></strong> <a class=\"ProveItLink\" href=\"../__pv_it/theorems/42bccba902268943b1fca6ed53386e4c670c6dd90/theorem_expr.ipynb\"><img src=\"data:image/png;base64,iVBORw0KGgoAAAANSUhEUgAAAbwAAAAbCAMAAAAwAMoPAAAARVBMVEX///8AAAAAAAAAAAAAAAAA\n",
       "AAAAAAAAAAAAAAAAAAAAAAAAAAAAAAAAAAAAAAAAAAAAAAAAAAAAAAAAAAAAAAAAAAAAAAAeYafp\n",
       "AAAAFnRSTlMAq1RmmUTNIjK7EInv3Xah18O17eXJ8+7nKwAAAAlwSFlzAAAOxAAADsQBlSsOGwAA\n",
       "BXpJREFUaN7tWom2nCgQlX0nM8mM//+pQ7EIqGgv9onTJ+bE149X2FC36taC0/Tnuvml/6jgf3sZ\n",
       "Fu/Gm0sfi5xz4rabJuwrsBMobsZPE1PhA83DPugev/NcfudNY/odjoeie1gZbnP4KFS1TvKt4Oll\n",
       "cTfhhheXwSJZihkCn8XZB78dPFV25vE9FsT8Gc1zq9TMnc1LpwquX+E/mWQEz8U/OF3BQ5VoyAvg\n",
       "vTH9o3Zuy6rMXZbkT/WjYoBjiCi9mpTAsxF/jyp4dInrXLwA3hvTP3lRs2bP339xfQ6eiT9kwUfn\n",
       "CJdoc44kome9gLcINqHwCfDemP7Ja842RW9EB4Q+Bh4VyS0CYf7zr4q0WRMWUDupMa8YhMGvgPfG\n",
       "9A9eslinvZNF2d71vArpvuN74GVHWDxj8lAq5N+oquCVpOV5guFtznOr7MW7HPFutSre0gDjXu97\n",
       "HtI6w1RjHxTpNP/mbZNtWjAAZ81r4L0+/ZPFEe9DX8gEjBf+pBo+FXm8sN59lEGNyE4ETOBJhXP6\n",
       "gPdXwzKtRPCoXKH8HHgvT/9koaB6W2c2qEPNR2t8QOThqmDwKNLwwF56F8Cz3M2uuCQfxQRZwYsN\n",
       "GIGGZuQotNeIRfvgnUz/YB0ObiU89ls98Lyc3EHSNhpp5FJNdnXSiGhjEHoDxPbb+qaPPa6RwfMI\n",
       "WRJkPOjviZyNpYAFXmO2ktIjpcIwRpMJElQPivTB9Mv7Xc5winilElrypa0iXE7sbFoWneOgiZvy\n",
       "jVb1XOY2IrRTfRU5RqyKNY9au0z9mIJNuNSKNpU+65zoDjzg1u0KaeJDqL49bMiMOiz70y9MHbMR\n",
       "eViCEWUdsfGs7TaLazwvg2dVs2fsdlBuReAmMjW1IsdXFeu+rafTCoAalQqSnoUg0dImqD53zAgl\n",
       "wTRp3xDAEjPhx+DV6Z+pt4sR+fBvIjrcDKX0x1+UssDpoDd5TJt6huWRedqCV625ihDdgfc0a7aP\n",
       "qvpcfbMb1nlUnpTMMtd7GTyDU+6jCQO+hnjbmAaWgTYxG4NXpkO4IN6IbXDaG90PYxvJakQRPK9p\n",
       "Q5rZ8zbPRnn1yid14pSBYjEGrxUJW3Kvh7z6qEafUdsNKN6PwAuaP+6kddkmdAKTpQrtARD4IyMt\n",
       "eEFVXg3BK9Mn7cRiF81udkd3972VbIwInF8o2FjwvL9/UvC8uIYtZ5dSKCfngCEOvEaHnteLTNLp\n",
       "o7i2/bD/qEafXeESlYf3wKMJFHWUQpC2zgM7KSSBfKZmwmNTW+EEXsjs+BC8ZTqlEIpTs0w3vJdH\n",
       "GfaUHTNkmV/NjDTgUWUylsX/INskYmicMgGlkTdSIC/H4HUiYhB1lri2/TB41KLPKMw6KcV0X0jA\n",
       "qYKCKkPx+aBfRVEPXu3gyKhCOUnTeR4ofgzeMpvlprfEjekuoxZM9bB/xJqmednSYkRAm4alXdGT\n",
       "VD5nKjvhcABelxEERMQ1bfZFn7HmWlmYUX177MlGzRo8MccNA1zV+NL7BB6dgqeB8RTR8exJb0fF\n",
       "xq9G8wllJB3mNEYE4DEGVcv5Kw6FoXaawafgCSWlpJc0HRp9XtYkb08VemMAhLwhaQs5uXGpG4Ae\n",
       "8DwIWYxU8GId3YwmMo+je7dFEkOEdav+XioV9EOZ+2IkauVBwvDZHOfGdobrEkU3+rzs2IU053kH\n",
       "mR/QFTttj7VrpQTnpSbwJJzcN6Mp64+j0or+1kmGKCp48YOlk8tNCHb0IaJB+KCg+j0tu4vOO5d3\n",
       "vj73GkShzS7wBsrz29FpR9JBjcD0Y0a0a3pLKuzvgZ2/CLvPv8MivU3ne11CxQMbuc1o8VrdpWLw\n",
       "AsNbi8O3Oua47Lru7bHz9zbJw6OXH3l/yXub60ysHOo5Z8l/dXwwKJpgj8EAAAAASUVORK5CYII=\n",
       "\" style=\"display:inline;vertical-align:middle;\" /></a><br>"
      ],
      "text/plain": [
       "<IPython.core.display.HTML object>"
      ]
     },
     "metadata": {},
     "output_type": "display_data"
    }
   ],
   "source": [
    "mult_real_nonzero_closure = Forall(n, Forall(a_1_to_n, InSet(Mult(a_1_to_n), \n",
    "                                                             RealNonZero), \n",
    "                                             domain=RealNonZero), \n",
    "                                   domain=Natural)"
   ]
  },
  {
   "cell_type": "code",
   "execution_count": 49,
   "metadata": {},
   "outputs": [
    {
     "data": {
      "text/html": [
       "<strong id=\"mult_real_nonzero_closure_bin\"><a class=\"ProveItLink\" href=\"proofs/mult_real_nonzero_closure_bin/thm_proof.ipynb\">mult_real_nonzero_closure_bin</a> (conjecture without proof):<br></strong> <a class=\"ProveItLink\" href=\"../__pv_it/theorems/2b2f605ef969bfca289eaad02053c55ef1eacd750/theorem_expr.ipynb\"><img src=\"data:image/png;base64,iVBORw0KGgoAAAANSUhEUgAAANcAAAAbCAMAAADYiepIAAAARVBMVEX///8AAAAAAAAAAAAAAAAA\n",
       "AAAAAAAAAAAAAAAAAAAAAAAAAAAAAAAAAAAAAAAAAAAAAAAAAAAAAAAAAAAAAAAAAAAAAAAeYafp\n",
       "AAAAFnRSTlMAq1RmmUTNIjK7EInv3Xah18O17eXJ8+7nKwAAAAlwSFlzAAAOxAAADsQBlSsOGwAA\n",
       "A5NJREFUWMPdWFl25CAMNCAWsc3O/Y86CDCmvSfP6Y84L26n7QAlVZWEp+kbHHb6loeT5eyie9OE\n",
       "Qr5jFs3KXHGaJOYL+PIJObwlekzT2Zt8SvlS41ezXvWI3ov756aRhX06kcg8b5n7ygNFu4j83gKv\n",
       "1iOUR0wq+DYyIB1/8q+YTMEVyo1Al2yhjXiW9n4e91zOFn1o+C8XgEVMkgnsFtj+qeLyJTSRMEHX\n",
       "ttKP4gK3puPRoWYdKnuNy5UPw3pUWhQLrlSYYem6P/G03lILGFxmIc08FXAPF+hJNR7+/YeFh4tv\n",
       "UHzEECTHH4VViUHcuNRV6mnyrwmLGPKh9nC1JPSsTJF8vv0FdFe0eKpn0xWbaPjluC4sjBxzK1W0\n",
       "+/li1jYEi86oLkP7K5ZYegpK8A8Xa6ZeZZYV76LeszzFYmSVLI4NvrOjtorLIG9ewOMJA8CskD/j\n",
       "8viaAunzUjBtZ7EpA7BVGWJI7p6NZVxehRTmRKojDZi5D9HsU6WXkqEjj3onC/Uz1ExYT/gg7HQl\n",
       "g0PzQYzqwDeE6A7LD/o0XT2LUuV2HjFqZZE8OAVMLcmH2Z23iwjN23wdGFL50g1ZmscoF8nVQC+T\n",
       "V3nkA1c8RCsuLNZWXMTS3YyyeRkmMsT8bJzyN067sa+1fmtkQ74aLo/LfC+4K1ZZvV76oVwf+byB\n",
       "K9HowkMCtd9TedNCCu0i5p9J2HxyAPDjJ+SqrolbwZzz0CaaQKSj6gVVeHzgaTisX2Auaq1pdczx\n",
       "2XusE9HpfjsblR37m4IrWhhY2PK1ERhrU2OsuHj1SL55kGJb1ZeBD+uN8QhXTuV5yzVXRO1bcG3Q\n",
       "HSyVIDtFGBlBPNRIg+Z8/foNlK9C4S2NY6NUs26CxzP3th0Fy6MhrIpCyTjfwwW15OLZ1k7MdGad\n",
       "cCTYsSHPzivFgAvQNZhz1sgPhT6Mmal8siw6o1k0W5Ez11utIF9uoLTbfh6pXqBKJ+0RrM2dRB7Z\n",
       "KK/8iFBlP4C88tDJOiJcFLxmGDvSO9Z7WG+t8LWPunkosfZHioWwbcWp7tSMm0Z9SensnT3+zClx\n",
       "f9cMz+yU7Kb6e5KXFLYW3CyvIuRhs1N83t5aaecz3t3/PLWjEJseQ4Lg0QlaVCabgepJGk3vRJXL\n",
       "woJb1Gg9334l2m29HtoAhrNx+Eu7RPr66Mul3u7oey8c4kOwTt9vyAfaYP6u93kfYPMjCn7P+8O1\n",
       "+ZSM/AdKUx0GHMlBcQAAAABJRU5ErkJggg==\n",
       "\" style=\"display:inline;vertical-align:middle;\" /></a><br>"
      ],
      "text/plain": [
       "<IPython.core.display.HTML object>"
      ]
     },
     "metadata": {},
     "output_type": "display_data"
    }
   ],
   "source": [
    "mult_real_nonzero_closure_bin = Forall((a, b), InSet(Mult(a, b), RealNonZero), \n",
    "                                          domain=RealNonZero)"
   ]
  },
  {
   "cell_type": "code",
   "execution_count": 50,
   "metadata": {},
   "outputs": [
    {
     "data": {
      "text/html": [
       "<strong id=\"mult_complex_closure_bin\"><a class=\"ProveItLink\" href=\"proofs/mult_complex_closure_bin/thm_proof.ipynb\">mult_complex_closure_bin</a> (conjecture without proof):<br></strong> <a class=\"ProveItLink\" href=\"../__pv_it/theorems/c404257f91b6ca40896fb4455abfa48c506792620/theorem_expr.ipynb\"><img src=\"data:image/png;base64,iVBORw0KGgoAAAANSUhEUgAAAKsAAAAWBAMAAABNknGBAAAAMFBMVEX///8AAAAAAAAAAAAAAAAA\n",
       "AAAAAAAAAAAAAAAAAAAAAAAAAAAAAAAAAAAAAAAAAAAv3aB7AAAAD3RSTlMAq1RmmUTNIjK7EInv\n",
       "3XZ/CtNrAAAACXBIWXMAAA7EAAAOxAGVKw4bAAACs0lEQVQ4y62VSWgTURjHv8ySWTpZEPESKQOC\n",
       "PYiSgwhGqANRKwhppCBCxUYFpZ4m4FElHgQhFSPEZWorT3oqARMX0IsiiCCIUKQgCAPTU9WD9FSh\n",
       "oPi2mWQmzdCDH/wnmd+bfO/b3gRgC2ZzbYIHPb4FS5tMUTvbR1rzF1frlGfJ7a5Yt3u4ekyfW8Jb\n",
       "5aP778zr403Kj5L7S3Fe9QpTyJIWvlyOwNIkgNik/Aa+VRpxbqU8U8gypCj7w0y1ZvF1O+VJBDBk\n",
       "xrk1uEI2hQhF7OaH65JsEoiEt0C5iONIxpZ2N1fI3tBKsBxO/WRMUyxeIcw/u+6nWLcnuJTcqhfA\n",
       "c7+24SxpvxW/xFW1w74QfhxgNtbtBa4ztrYRtHEdtW0QaSOT/pzWZd4BwqugZIOiTwez0hy+zr9+\n",
       "YdLfg7TkLwsbYHggvKNufXhF5tkQrqGhchBZjvheccr6XVt4xNkHJmkNUh0aKJmOCmQ6oK6R9RkX\n",
       "W4PWlheBcMHr6dhHrCM1XJ2nAIfCbo0GtOn+y1h4gykTZBrtov9jDfFBpbwySo7d6Cuyzd8VRM/O\n",
       "wk3cinAR2h4c7h3bcQQCLUrKhzKdWxkYf447qX9Vf5OKfktbdPORkW4Gj5naJuwQ/O5karjUINLo\n",
       "0sF8lE7iyzHOr+KOSZZKAtfyYmWCPFAodN0+Y9I8YVnyWSKv4RmVWC3PB32+P6bv9XkC19Iop8k4\n",
       "GDUpe8BxHPPW6a7b20z68Ovq92DAckWSPuv1k3vIf4PN/RnrcpyhrRXwWgYMs04HGrdM52upGlO/\n",
       "XeOfk/NuZTMOhn1nArUghQ7ifpKT89KGt3xNtJj6rTjgAAVcLu57ATOmWvJAeUjTmW4GAT7gitqg\n",
       "F1+UsxdZy3HKIbzYO5w9pg34d4lwGQ3Y3WOK2uqAGkS4CP/N/gHaFqVWNkGlvgAAAABJRU5ErkJg\n",
       "gg==\n",
       "\" style=\"display:inline;vertical-align:middle;\" /></a><br>"
      ],
      "text/plain": [
       "<IPython.core.display.HTML object>"
      ]
     },
     "metadata": {},
     "output_type": "display_data"
    }
   ],
   "source": [
    "mult_complex_closure_bin = Forall((a, b), InSet(Mult(a, b), Complex), domain=Complex)"
   ]
  },
  {
   "cell_type": "code",
   "execution_count": 51,
   "metadata": {},
   "outputs": [
    {
     "data": {
      "text/html": [
       "<strong id=\"mult_complex_closure\"><a class=\"ProveItLink\" href=\"proofs/mult_complex_closure/thm_proof.ipynb\">mult_complex_closure</a> (conjecture without proof):<br></strong> <a class=\"ProveItLink\" href=\"../__pv_it/theorems/b111b03be9294d208877a0ca2804295526ea995d0/theorem_expr.ipynb\"><img src=\"data:image/png;base64,iVBORw0KGgoAAAANSUhEUgAAAY0AAAAWBAMAAADOX93WAAAAMFBMVEX///8AAAAAAAAAAAAAAAAA\n",
       "AAAAAAAAAAAAAAAAAAAAAAAAAAAAAAAAAAAAAAAAAAAv3aB7AAAAD3RSTlMAq1RmmUTNIjK7EInv\n",
       "3XZ/CtNrAAAACXBIWXMAAA7EAAAOxAGVKw4bAAAEpUlEQVRYw81XXWgcVRQ+u7O787M/5qH4T4iU\n",
       "2pWSsGgKJUgdSWvyYrulxYcmyOKDok+zRYRUm66iKDS0izZCgtWJAaGumm1Day1Y1CJRpDQPQYvt\n",
       "wNSKMUZKEGKhUuM5987P3UknS5g8eODcOXPmzr3nu/ecc88FWIFyVgUik+xwVDLC9c3sTBfXYP5f\n",
       "HI5KTy/T1I49O3uI6dHQFtKsD8MRo0e8EGH6eJ1zZMoFrcjdX9B2HmV6xLGdVM+F4UjQjqSMCNN/\n",
       "5HB0eiHwvqMPQDrK9IjjVXLfahgOhbZrIMrs3Q5Hp87GV0UfxXYd0yOOlImPttD4oEU4GWX2rxyO\n",
       "ThmTP+csq4SPmEmrP870aKiE7pUKj/NH8FGKEh4lzmtAKR4gT/3BX1VZ9/SUkC5Y1g/hODKWdSVK\n",
       "lCbqnKF8bjCQj++btZsnbaFTmqUk2Q2TslL39ISjF2A0HEeiAqoZcRGJk1PwQeM4/YZ6s+nvYieJ\n",
       "bauXdA4lC56ecJRBbhFXYOYUPNri4cBv5dVbP/e4u4zZNs6fFOBJ9Gbfw7TzkJiG2ol7VxqHd3Jd\n",
       "lIWZFwMvJm1PTzhU0z/uDt8zDA+kzYTpn4OjcGpVEGiI43fBQ86mZ4qcdwJcBuU6M0r7mxxuAbJ1\n",
       "0AkdwMTyCBI6uQlqgdohC6nK4qPu6cnQuO1BTPTSmWjraeE871hdmLMhztogBXB8D9oizsUXd4Y+\n",
       "VGGiCItwkEqKrL58JL+TQ0m2H8fdV9Wsenq2E6Wt6GPdh38FuEbq/IZBEUdKwu3TJuddtxREoULY\n",
       "+rkj0RDalqJXDjl+pf0L0oKHg22BDY8BdHEcYcQ7dW65Tjj5z1kPFjs/kkzPcJzEDDDeX8gYGgOY\n",
       "T3/YJ+BIP4hO9qlxxDVeEH0f+Em54Ug0RHyf30O1GWt/Qay0sQFHG9wZx35frrS7rNP+zedhiuKZ\n",
       "mZfz8teOXdg8wfQMxysY1ft/gztMngDyoM8JOOSvUdgGQ3iss6ghMdmxvdGZdMU56tgQ0rifmShZ\n",
       "Er8P7bou4lDt+EwCnftn3+iS07DQ8DvJn5XgppPCkZ7x6qt3e7R2nekZjhjtbCv0g/T8yMjbiKOW\n",
       "Euvdu5G/haugtDPrSMzARONJW8w5GY4Nobzh+4oyzXls/s3WiohDaz1T/t1dHO6CutvMNHaK2Sw0\n",
       "sjxSxobdX2rv3erhej9TfQfbFH6w5HG5A3W7dgPe+RiypivKtD3i9htql9m5exOazIbAOAd3sksO\n",
       "8xQ5HTzndLl5EZqpJHRcmQPOa98xqyH1HBAuGPICXMrz83Az4IoH7h9TymIX4dDqXIRhEmu8qUHG\n",
       "OLLb7KhSCLIhXu6BtC1Ud52hOAbeer35KXsQsq9VwqvNbsHQZAvMF2AAeys/GhAL4tjzMH5FHMo3\n",
       "XMRTHsUhQ5nCZqgt2d0xie75EhlGLqWdHun1XNzgzFbr9D+BUuTi0lLzXL4LcpPhRTnpAxc+7YuR\n",
       "4fD7IPlVnItnc56IxKvlLFzbu3wIlsG06hqUiaoRrm9ycU2L917lT6zf9/KiaemWK9Jecs8Yg023\n",
       "vTcOOhyVZsP1uSurvYAXbiNK8D+g/wAr304WMT7VbgAAAABJRU5ErkJggg==\n",
       "\" style=\"display:inline;vertical-align:middle;\" /></a><br>"
      ],
      "text/plain": [
       "<IPython.core.display.HTML object>"
      ]
     },
     "metadata": {},
     "output_type": "display_data"
    }
   ],
   "source": [
    "mult_complex_closure = \\\n",
    "    Forall(n, Forall(a_1_to_n, InSet(Mult(a_1_to_n),Complex), \n",
    "                     domain=Complex), \n",
    "           domain=Natural)"
   ]
  },
  {
   "cell_type": "code",
   "execution_count": 52,
   "metadata": {},
   "outputs": [
    {
     "data": {
      "text/html": [
       "<strong id=\"mult_complex_nonzero_closure_bin\"><a class=\"ProveItLink\" href=\"proofs/mult_complex_nonzero_closure_bin/thm_proof.ipynb\">mult_complex_nonzero_closure_bin</a> (conjecture without proof):<br></strong> <a class=\"ProveItLink\" href=\"../__pv_it/theorems/a573f515e5a51b295ccaaf3c0dc3e7b0cbf7029d0/theorem_expr.ipynb\"><img src=\"data:image/png;base64,iVBORw0KGgoAAAANSUhEUgAAANcAAAAbCAMAAADYiepIAAAARVBMVEX///8AAAAAAAAAAAAAAAAA\n",
       "AAAAAAAAAAAAAAAAAAAAAAAAAAAAAAAAAAAAAAAAAAAAAAAAAAAAAAAAAAAAAAAAAAAAAAAeYafp\n",
       "AAAAFnRSTlMAq1RmmUTNIjK7EInv3Xah18O17eXJ8+7nKwAAAAlwSFlzAAAOxAAADsQBlSsOGwAA\n",
       "A5JJREFUWMPdWNmS4yAM5BA3aPb0/3/qIg4bH7G9U548DFVxSEIASd0tAWPfoHn2LVtQ5RkwvGlB\n",
       "qd6xiuFlLWRMudyBL19QwFu8xw09o82PKXeN+2rU69mj9/z+uWVUQZ+ZiGRRtMh9ZXOydVDc2+Cd\n",
       "/fjgktZobLYGHLXf+SWZLXalsmSiLl9gI5+FfezzntPZu5ia/dcbQB7zIA+T6xhvf6p2RayDiGYz\n",
       "t7V51C4IWzi+arrvUV8JNmBFHZPdLt/YVHE4FWR46tsesKf5NjWHwWUUpo5TeSE0FphrpnOoOPzz\n",
       "1xUcLrpB/pGDk4J41KwKDMLGJa+mOUxxHTB0Kbcl3tyz7nzf4DfTCEnn2yegUbL5Uz8bLmykEZfz\n",
       "hrQgcoyt0rjBpWNmE1G3jMh5GdonLL6M5JQUH07WXK9pltNnQHMkeZoj8gqWwAfd2bEtJ2C73qXA\n",
       "EwSA3Vj+jMq7dQhUzNh3034VP2UDfGWGHIK7l7FslFqTVb/igO11iOGfSr3kPoMCzUEU6nuqkfCk\n",
       "zwzSQVUyKLSIZ3vOIFznOPGiTjNVsyhU4WCI1XuJRAd8gRN0dd5vIjUmxDoxTOXLMESpz1E6U6iO\n",
       "Xhav9MjNjfy6xRZf7SKUHkaU91kscucUZQsqxoQLQ13r417Ihng1u6Jb1lvZXW1VVetVHNL1AbYX\n",
       "PTwvCQoOyajjmira5lJoneDLOBlYAICPH5CzuiFsJXuOQz/RH+X0KntBJZ4YcHoAWbXkL6ZOc4xp\n",
       "qatrjw8Sg5l/zkLlh/rGS6uGEhUac8gDO4Lx5lmH1S5RNVLsBpJvK/uojBgQj4f1Bh/Re5ERTWyj\n",
       "fTKzsZSCPEMYECHMvK0cr5+/gOJVILxfBRukmnSTeSJjb19R8GxSr4pgpI8+KBTQaTDMi3RamcgO\n",
       "Zz4Djgg7FuRZeRdtlV4uPPJ96qyH0rz0ma148hyDNRztnuQ8zKVWUqsfnPIH9XycEpyXsrAVdyI5\n",
       "8pFeeYjU5TzgBLNWLfuCi4TXBOOAeq/5nrZHK7eqo+42Lbf6SLlT+rbjqZ7UhhzfdIMuSi7P+B1T\n",
       "8v6pGZ45Kfld9o9EL5XBVhJuplch8lKKmFAQEO6cAGc8u7vnn6dOFJLvhVQKDJI2JehYUDXJOLvA\n",
       "O4MS7iGr1XyHmei49HroAJjO5hFrsrqSlz93v2HuXTjgQ2ad3m+oB8pg8a77vP9A8yMMfs/94VZ8\n",
       "SkT+ATXKG4DUohmhAAAAAElFTkSuQmCC\n",
       "\" style=\"display:inline;vertical-align:middle;\" /></a><br>"
      ],
      "text/plain": [
       "<IPython.core.display.HTML object>"
      ]
     },
     "metadata": {},
     "output_type": "display_data"
    }
   ],
   "source": [
    "mult_complex_nonzero_closure_bin = Forall((a, b), InSet(Mult(a, b), ComplexNonZero), \n",
    "                                          domain=ComplexNonZero)"
   ]
  },
  {
   "cell_type": "code",
   "execution_count": 53,
   "metadata": {},
   "outputs": [
    {
     "data": {
      "text/html": [
       "<strong id=\"mult_complex_nonzero_closure\"><a class=\"ProveItLink\" href=\"proofs/mult_complex_nonzero_closure/thm_proof.ipynb\">mult_complex_nonzero_closure</a> (conjecture without proof):<br></strong> <a class=\"ProveItLink\" href=\"../__pv_it/theorems/32bc43e41234888329899abec0dd7f043ee907fa0/theorem_expr.ipynb\"><img src=\"data:image/png;base64,iVBORw0KGgoAAAANSUhEUgAAAbwAAAAbCAMAAAAwAMoPAAAARVBMVEX///8AAAAAAAAAAAAAAAAA\n",
       "AAAAAAAAAAAAAAAAAAAAAAAAAAAAAAAAAAAAAAAAAAAAAAAAAAAAAAAAAAAAAAAAAAAAAAAeYafp\n",
       "AAAAFnRSTlMAq1RmmUTNIjK7EInv3Xah18O17eXJ8+7nKwAAAAlwSFlzAAAOxAAADsQBlSsOGwAA\n",
       "BXJJREFUaN7tWgmy4yYQFdCInUlmEt3/qGEVIKHFtlSjuIaq75L5DYZ+zesFDcOf9vAm/6jgf9sU\n",
       "DZ/KqkunRcYY9thNE/oV2DEUNmOHgQr3AKnbOt3jT+Ydn7xpDN9x8FA4Hpq7j8k9MlGsk3wreHJe\n",
       "3EO44c1l0ECWbPKOT+N0Br8dPJF3ZvEzFkTtGZNTwoyjZdxBBsK3X+6PDDyAZ8KejCzgoUI05A3w\n",
       "Phh+q53rvCr1lCXZY/1YpJ2QhElAOyiCp20UKuDB7NdH9gZ4Hwy/s4Fasufvb+NRzA82kuRAMngy\n",
       "ebhIm1MgETnJGTyegaxc4QvgfTD8zjYlm4IH0QE5CKE4DCLhgiDS5j//ikCbJWDxaifF52WDUPgd\n",
       "8D4YfmPj2Tr1kyxKt0fPChfum0INSA75AMjElrNTsj5VSN9AFPBy0PI6wYx1zPOo6MWa5PEetaqx\n",
       "pgE62gWNioEtzqYoEi5Jh/TN6ira1N4AjFbvgff+8DuTo7F1fS7VVZbZg2z4UOR8Yt2dSqFKZOUB\n",
       "XTbOWyXi/mpoopUAHvAFyq+B9/bwOxMF0do61c5diGlvjSdETmcFG1ORigfW4Z1DjpIzqRifeAEv\n",
       "FGAY2jQjA768RjTqg3cw/MY83Nsps9iuw9wxLSdVkKQORmqiO+nqpBKRSiH0AYj1r7UnSe8B4ziz\n",
       "zQXxRn2PpWgsOix/atRaklskhOvGaFBOAuRGkr4x/A5XJgAVPoIcL60VYZLz0HFZMIVOFTZlK63K\n",
       "KY+tRKBRfRHZR6yIVVMtj0x5jM7GNVH7PHXup2rwPLeuVwiRD332bf2G1FaFpT/8wtAxGZEUvs6H\n",
       "RVpIKDxLvY7iqpOXwNOi2jM2HZRrEf/BEjXVIvutiDW/1tJpAaCTWIkSbe571Jo2vepTxYwAcaYJ\n",
       "bUEAc0yduW+CV4bfk29nI1Iy/ApRgwKAH38BUMfpXm98nzbl5AeSZPfYdK25iBDZgPcya9ZTFX0u\n",
       "frmzCFryvIHu5kGsBk/hGPtIQj1fe39bmQbmTm+YboOXh3t3Qaxia+fU6+27sZXkbESS8LglVkgz\n",
       "nbzV3CitXtioThwjUMy2watF3JbM+y6vTFXpMxZOqm3ZboUlp3J7TNZEm74SGAcxaf0o/88q8HHg\n",
       "OVVZsQleHj5Iw2a7qHbT7e3uey1ZjAgznP/jTt7fP8GfvLCG9U5zKpSCc48hdrwGmyevFRm4kXt+\n",
       "bf3Qn6rSZ5O4BOXhnk8fgQ0S7zM1qfM8byeZJJBN1EzGUNQWOILnIrtxE7x5OIB3xbFYJiveS70U\n",
       "W6D7DJnHFzObjYhIUuaUeXsu2iRs0zh5BEoiqzhDlm+D14iwjcRnVur6YWOqWZ9BmDZSgso18wg9\n",
       "Gdg3dEAteKWCw4MKeZ0vevC84rfBm0fTVPTmuDLduVd7U92tH9GqaJ5zo2xEnNPih+AglE+RSscd\n",
       "boC3CNoHdk2ZfdZnyLkWFqZEUx57tVCzBI9NYcMermJ88X0Ciw7Bk57xBJHh7kmue9nqXG2NJ0BJ\n",
       "vMypjCgFLP6FnMNXHDJDdYrBh+AxwTmHS4oOlT4vK5LXtwqtMXiErCJxCym4MbEagE6cPO+yKCng\n",
       "hTy66h0Ezb29j1kSew9rFvU9pgKfqDOR7WwkYnGCmBqngxn05Nsliq70edm1C6nu83YiP09X9LA8\n",
       "1gS7BKelRvC4v7mvemPUH3q5Zu1HI+m8KBvzOSgrchwK52J4hLcTqt9UsrvovnN+5+u+1yAybTYx\n",
       "lZKDXfcOHUnjcwQqzxlR1/TmUNg+Azt7EXb3v8PCrY73e01ANTo2MqvefGplE4r5Fxg+Whx+1DXH\n",
       "Ze26t8eO39skp3svv/L+kvc2l5FYvtQzRpP/ALa8LqL9TiO2AAAAAElFTkSuQmCC\n",
       "\" style=\"display:inline;vertical-align:middle;\" /></a><br>"
      ],
      "text/plain": [
       "<IPython.core.display.HTML object>"
      ]
     },
     "metadata": {},
     "output_type": "display_data"
    }
   ],
   "source": [
    "mult_complex_nonzero_closure = \\\n",
    "    Forall(n, Forall(a_1_to_n, InSet(Mult(a_1_to_n),ComplexNonZero), \n",
    "                     domain=ComplexNonZero), \n",
    "           domain=Natural)"
   ]
  },
  {
   "cell_type": "code",
   "execution_count": 54,
   "metadata": {},
   "outputs": [
    {
     "data": {
      "text/html": [
       "<strong id=\"mult_not_eq_zero\"><a class=\"ProveItLink\" href=\"proofs/mult_not_eq_zero/thm_proof.ipynb\">mult_not_eq_zero</a> (conjecture without proof):<br></strong> <a class=\"ProveItLink\" href=\"../__pv_it/theorems/640428bf455b578061a0fc9ec69a81d617b6ccbe0/theorem_expr.ipynb\"><img src=\"data:image/png;base64,iVBORw0KGgoAAAANSUhEUgAAAaEAAAAZCAMAAACvmGFcAAAASFBMVEX///8AAAAAAAAAAAAAAAAA\n",
       "AAAAAAAAAAAAAAAAAAAAAAAAAAAAAAAAAAAAAAAAAAAAAAAAAAAAAAAAAAAAAAAAAAAAAAAAAACC\n",
       "gUnDAAAAF3RSTlMAq1RmmUTNIjK7EInv3Xah18O15/Xp87zmPDoAAAAJcEhZcwAADsQAAA7EAZUr\n",
       "DhsAAATJSURBVGje7VrndtwsEBVNNEGSr0Tv/6ahMwhUrLWO9+SYH2LN3mFh7jSQp+l+Q8YYPn23\n",
       "x5p1CsavTDB/6/DxRshfyxDf9G+ynI+i/16GLG77r27M7nxB1SHaMYTKMCZ3GHpB/sGGddu/gcmM\n",
       "tSMk/EtrS3mDdgxRVhTO7zD0gvxzTc1t/w5tHjnLJAWEOIdXsfjKaMeQyE7A5a0o94L8c42Stn+L\n",
       "nE9HLoQgwgQ/khDt81BmS+NbDL0g/1xbNv17LGrgRBLGHRnowqsCaM9QrhY+HhDmptp4o4CC57Z/\n",
       "kzDXOzSDLjStwW/EigE6aHcxvi36JkP35Z8LcrrtJ4605fakwr2AuVgrj2fSqNcgdCGVGSIAHRii\n",
       "IVlJdZeh2/KPW2vu2eI0IdfDFV7BXCysd2Yi1aNpMGrz73/+WRL5qiNDFqADQxzlx9giDNWuXiML\n",
       "2mHoRP65gs1viFtsuxoyX5WkXi3BEEMeVmQc+QBGaY3Qfabgr7Wxdzl0ocqQBuiYQ7z5a9bXGRZJ\n",
       "6YYxmrQaHa3yXnfkHzhTSIpq/KC5Tul0vrCmp2ugS4c9WQPjShEFGAoVDCDHvBQcmGmjz3XrbHQz\n",
       "RZBh0YcSOjKE7SjPUyrySdT6VevdO4Wx/Ke1bClKImdzWKaFEBYMdlQkbRhaZNh//AND4zZFRwDj\n",
       "H3wVHeS4FVzza230O3ShXCngWCkw6ENOvcSmmp04K6PtGRgLzJzh7jNU5R9J+9lStIoBWk+aUvrj\n",
       "J3WHZe71bcRhlFPBKEmyYGzGLlAxREGGPhzk4ExVne0vhzz0/++YjUp+kPEkFDNYQieGNI6HGkWY\n",
       "D6I+06l6/sTCKQezA4ayvI/hxGreJYzB4E5q6ZDFUhQR0S55jXHJh7ZzSwt7FYwSzRPmBwxBjNuR\n",
       "uZ2G6kxAnUHZ8uSSgQS3oTNEJ4Z4qgK4sv5rTyIjkCGnDyv3Gcry4cpCrBuFDQfHu+uR1VIwx/kb\n",
       "50O//qHeh8Ia5r26NvWeKOyiEN33oRYzCaMOUk3/YTwTUGdT+6f99OHT+7xaBETn0ybKPo1sioBk\n",
       "lqHhyJCrm+Z9hoo8db8qlngHpGqYSoMMW8qOA1oWr8G7WApRpKpN5e25Wo505AvT9ApZLTiy4oCh\n",
       "BsPHR4eSavoPOzMVdQYwO7unU1TbrMqE7t4+eAKdnsQkdONDXrsHDMEUbb3hClytsAwu3uoO70Uy\n",
       "Eh4isqUIwWpuoMfVcM5Mps8m+Dx+cad3/inXwEWd4dTSruP4hJ/RW4b4GrblOalmFIqmreaGDCkf\n",
       "oSRRXrQwVAd55yF74oQyErcALCVVCpPKSzq/pRzcVp4zxKUQgn7GARyos7vFndWlu98tQ+GeyGoS\n",
       "15lDRawK0RUf8nmEkcJQOFSCwUmyPDp6FCT2Wc9M7V0F1+Hdib5SNuYbSblxBa7n9WyCZfXtM1wI\n",
       "qHN79U9OXCijj96xKu2jCzu/9WnOYASnFQWGxIKbwVg4h1Gx8PbRIF005nO26LoiF/LopTI4Fxjq\n",
       "bV6JbGzFqGvoB9+CpyU0ryS0mmw/msNPI+3LbKauWcrQCG3bf3XbXk2Ji+jHGBJ2Ce+LGDSV2QWP\n",
       "ELrYwICaMYV8Kn2j129f1l5k6Pz/5cjl0W86Bq5kzEL+AMlbKxGGqs7bAAAAAElFTkSuQmCC\n",
       "\" style=\"display:inline;vertical-align:middle;\" /></a><br>"
      ],
      "text/plain": [
       "<IPython.core.display.HTML object>"
      ]
     },
     "metadata": {},
     "output_type": "display_data"
    }
   ],
   "source": [
    "mult_not_eq_zero = \\\n",
    "    Forall(n, Forall(a_1_to_n, \n",
    "                     NotEquals(Mult(a_1_to_n), zero), \n",
    "                     domain=ComplexNonZero), \n",
    "           domain=Natural)"
   ]
  },
  {
   "cell_type": "code",
   "execution_count": 55,
   "metadata": {},
   "outputs": [
    {
     "data": {
      "text/html": [
       "<strong id=\"elim_one_left\"><a class=\"ProveItLink\" href=\"proofs/elim_one_left/thm_proof.ipynb\">elim_one_left</a> (conjecture without proof):<br></strong> <a class=\"ProveItLink\" href=\"../__pv_it/theorems/6474055fc8f411ed3ab15f4c2c542b2c246522440/theorem_expr.ipynb\"><img src=\"data:image/png;base64,iVBORw0KGgoAAAANSUhEUgAAAKEAAAAVBAMAAADcJJPmAAAAMFBMVEX///8AAAAAAAAAAAAAAAAA\n",
       "AAAAAAAAAAAAAAAAAAAAAAAAAAAAAAAAAAAAAAAAAAAv3aB7AAAAD3RSTlMAq1RmmUTNIjK7EInv\n",
       "3XZ/CtNrAAAACXBIWXMAAA7EAAAOxAGVKw4bAAACSElEQVQ4y2NgwAsKoBgdsONRjxfwKUAwBmB9\n",
       "gF1DHBALgBjKOEzUhuLeBegyj3E4wYCBwRXESMcuz5UAxlwi+Rgmsi3AriWLgaERFCoTsEuzGEAw\n",
       "w3sM/cwO2LWYQCzjVsAuzQPFWExkOIVDywIGZqAb2HAEoxoUYzMxGbsWNqBxZ+/ePY3DRG8oRjFx\n",
       "3cMVu4F+2oge5u+kujcBvQuMaQ8Ghlk4TEyGuQXZRAc+OZYLDAxmILbvXRC4CA5zhocPfIHhC4zM\n",
       "QgZ2AZQEMEWuDsq8BMXIJjIXMP9iBHpNB812cwb7BcIMDEwHGBg4F3AHQEU5Hs4M4JpYwDQbyj8K\n",
       "xVAT1yeA1DCwgCiGfjQTGxjcwEZ8AJr6AB4xLg3AgFjHwGCN3UReSIrhAeeXGIwwOgfOTEA3MiTY\n",
       "AYl37k8KQAmeYXErItdi8zUDQ3wBF5CrixaODKzfGVYB3QcMYoZNwHTOVyDJprASJKGujtA7D4qR\n",
       "TVwZIMPADaQt0aJ6KuMBhg3AYAZllhpgxDAzzONgCAZJWVkhlG2EYob9iDJFv8uHIQiWqhCA6ceS\n",
       "A6zARMUCNJWBsQEk9B2YIGbOnKnQEYFQ1gvFgucTDWBiS94xOYOy2FU0N/o9UDEChTUslhk4DrAz\n",
       "dIMYoJjhggryNkAwtgLyAvYkXAtj1HAnsADTEUjplgKGfUjFAY4igcUAu4nOcAVP971iYJ8BYq7O\n",
       "nAJ31nQoxgSV2A1EL8VWz5wZgCKwEooxAXZ7GDgJVQvsDyAYs6zGofM5AwMAS4qRO4MKIAgAAAAA\n",
       "SUVORK5CYII=\n",
       "\" style=\"display:inline;vertical-align:middle;\" /></a><br>"
      ],
      "text/plain": [
       "<IPython.core.display.HTML object>"
      ]
     },
     "metadata": {},
     "output_type": "display_data"
    }
   ],
   "source": [
    "elim_one_left = Forall(x, Equals(Mult(one, x), x), domain=Complex)"
   ]
  },
  {
   "cell_type": "code",
   "execution_count": 56,
   "metadata": {},
   "outputs": [
    {
     "data": {
      "text/html": [
       "<strong id=\"elim_one_right\"><a class=\"ProveItLink\" href=\"proofs/elim_one_right/thm_proof.ipynb\">elim_one_right</a> (conjecture without proof):<br></strong> <a class=\"ProveItLink\" href=\"../__pv_it/theorems/5da17bcafeebb59a2927e5462be9ad84b2834c7a0/theorem_expr.ipynb\"><img src=\"data:image/png;base64,iVBORw0KGgoAAAANSUhEUgAAAKEAAAAVBAMAAADcJJPmAAAAMFBMVEX///8AAAAAAAAAAAAAAAAA\n",
       "AAAAAAAAAAAAAAAAAAAAAAAAAAAAAAAAAAAAAAAAAAAv3aB7AAAAD3RSTlMAq1RmmUTNIjK7EInv\n",
       "3XZ/CtNrAAAACXBIWXMAAA7EAAAOxAGVKw4bAAACKklEQVQ4y2NgwAsKoBibOAMJ4nDApwDBGCAO\n",
       "hwaQuACIoYxDgTYUowCOW0BrDHA4ASjuCmKkY5fnSoBgFLDQ7ReQzMLhBqB4I5Bin4BdmsUAgtHc\n",
       "ATLRBIeJQHG2BQwM3ArYpXmgGIuJPAtwaFnAwAx0AxsOC9WgGIuJbDgCEiR+9u7d0zhM9IbidQ9X\n",
       "7FZANZFbAD3M30l1b4KIezAwzMJhYjIUO/DJsVxANZEZHGG+d0HgIjjMGR4+8IWIFzKwo9jHN0Wu\n",
       "Dsq8BMHMBcy/GA1QTWQ6gGa7OYP9AmGIOOcC7gBYSns4M4BrYgHTbCj/KARzMLBAktD6BLiJHB/Q\n",
       "TGxgcGOAijM9gEeMSwMwINYxMFijmgiMwQdgPq8D3ETWAxhhdI4BJp5gByTeuT8pAGeExa3A9Inq\n",
       "awaG+AKuBWi+voAWjgys3xlWQcU3AdM5X4Ekm8JKkIS6OsLWeRC8MkCGgRst9TCjZQquqYwHGDZA\n",
       "xWuAEcPMMI+DIRgkZWWFULYRgvW7fBiCEKLc30FRuwHVRKYfSw6wKkDFGRtAQkBlZjNnzlToiEAo\n",
       "64XgJe+YnBHJkVHmGzBOeQPQ3Oj3QMWIAVmc4wA7QzfYBcCY4YIK8jZAMBZQiyMJw8VruBNYgOkI\n",
       "VGpsKWDYBxVldoBgLMAZh4lwcZan+14xsM8AMVdnToE7azoUYwBcpRW6+OqZM1GDZyUUYwBOHMU/\n",
       "J6Fqgf0BBGOA5zg0AMUB7RKMmlzVt6wAAAAASUVORK5CYII=\n",
       "\" style=\"display:inline;vertical-align:middle;\" /></a><br>"
      ],
      "text/plain": [
       "<IPython.core.display.HTML object>"
      ]
     },
     "metadata": {},
     "output_type": "display_data"
    }
   ],
   "source": [
    "elim_one_right = Forall(x, Equals(Mult(x, one), x), domain=Complex)"
   ]
  },
  {
   "cell_type": "code",
   "execution_count": 57,
   "metadata": {},
   "outputs": [
    {
     "data": {
      "text/html": [
       "<strong id=\"elim_one_any\"><a class=\"ProveItLink\" href=\"proofs/elim_one_any/thm_proof.ipynb\">elim_one_any</a> (conjecture without proof):<br></strong> <a class=\"ProveItLink\" href=\"../__pv_it/theorems/6579b7959884828e9a424d0c9e0ea992ed836f750/theorem_expr.ipynb\"><img src=\"data:image/png;base64,iVBORw0KGgoAAAANSUhEUgAAA5AAAAAZBAMAAAC1NdyaAAAAMFBMVEX///8AAAAAAAAAAAAAAAAA\n",
       "AAAAAAAAAAAAAAAAAAAAAAAAAAAAAAAAAAAAAAAAAAAv3aB7AAAAD3RSTlMAq1RmmUTNIjK7EInv\n",
       "3XZ/CtNrAAAACXBIWXMAAA7EAAAOxAGVKw4bAAAHWklEQVRo3u1abYhUVRh+d+bO153ZDyv6UFhG\n",
       "ss2ItaE1CYm6ZpYY5v7oR1ToSEbkH2cjiNW0Caz8sX6QSa6EXRUqs9zRVPog25TYIsxNhhJtYDTB\n",
       "xNyWBVNWajvvOXfuPefeM/fO1ZmYBQ+c2XfOee57nnOe8/XeHQCP1FD4Fa6nOk9NhWOemPD/RyeC\n",
       "H5n6G6ZMOa71QY3S66gnIU/j3ErWn5ALy3CtE2oLmZAt+Od2NyEb8E8gVXNSgRz5uLt6/tbqpqm+\n",
       "NyjW7Tzi/byJaUrJuVYlOZj4pkbpdcAc/P6Cm5BKJ/6p/Zb3AY54ulre1JuW6VwvNFv1kgpcmJil\n",
       "Uq5VSkvgWqktpUK+jhv+Bjcho7hou2u/TcwmWaniwv+LE7LZvmOPVODAxEyXcq1SGoFrpTadChkm\n",
       "3Y0nXc9IVHxv7YXsJzkBtRFykS7WhUa9n7cwCV3GtTrJwcQ/NcwdEEy5X2jC7EaUrrmOAWyirUZC\n",
       "fm2riw96P29hwikZ1+okBxP/1DATjY4UCj+6C5koFH7L1VxIBZt4HDf6SWeLYlXXwVXezztAvJCL\n",
       "h24Qe9V6yvN6bGHiLTKujgadxGVxiw3kYOKfGmYi5FyALe5CKlmI6TUXkk7750h+NhMTd5fQALzv\n",
       "2b4TxAmp/q33Cbe1vqXqJS+PFiZIF+D8AqafS1ydDTqIy5Id5GDinxpmImQXRIiiKutnViYkqe+q\n",
       "/RHZiHPsGGFyGBRxd/kkBfM9H2cgNSMVMjAKCWEd3KPDT14eGSaKj/dLuDpYOYnLLtMM9GF5Jv6p\n",
       "YSZCxvQ4iS/irJ/H2fLP74cHWqwXAltgvx9J3tzgtGS1mM7NKu00CYxyviPrfxgac6DOYFMP18IC\n",
       "gJOgfjVBp2tLMj9NEOuGgWFC0kolDc055pJVPgpwxcsjYohmZG5Hh231yJU1uCNtOmXEd+2ZaHqw\n",
       "aWiB4KDYCueFpyZxIqOGmQgZKIp3nXW3bYLJcV3RLSGn+bvrNOSclqQWG9p5C9yVE4VMbIC+Tlh3\n",
       "gU19jP9+APUiKMZ0z0vWsgkyUp4TklaSsVuUNFzSypMQGvHyiBhj2+6XCEkbjA4Nmk4ZcY2t00bN\n",
       "6dUC2VrhvfDUZE4k1EL9xoX0QeEcn4tveopanHtFFw4W/QiZyDotZy1t6MsiBHPi1tpXhIeI1W7N\n",
       "5H8hOAzNnZHLblsWBZU7I0kYuUDnXJI4TBn18Egxxs48aDsjCVejwYC1mTLiF+G1rNvpxnpna4Xz\n",
       "chXUMKOQe0mcGDpFR+NMEn5HY+odq3gh421kTNTPzpcOIM7khtIsXD80EeyWlUpl2JB6f6f5TjqG\n",
       "k2Ur6WoSbg5keCFHoCF9Z1B3F5KCWDckQmbJ2cQLeZkccR4eKQZ2P4w3CvsJQbiyBgUhKfGZHkJS\n",
       "0MIWsRVeSP/UMKOQrxKvu5ux10ogrVLOU+Pbn+GEjHxLPj7NrC+px5lWsgov6GfAblnJKKMNBV6y\n",
       "/NA7/h4cpEBeEUZ9K7RrGh880cOEHhbWKUJBrBtG+sby3ZCKaYLLG+EdkHrkTkyK0dpK0YYQx7WU\n",
       "WHESGMS5mNV0aHmlILU4KrbCC+mfGmYUsoHMoOW0kx/HtRCNfaeCdo4TEm4l+RHoAeimA4VmaNoc\n",
       "sXO0PobWRphhAInlwGEtzAPaUHCHNfBRpL6W8G39vOsPYdS3nX+rNSu8BM+bh58mgJZzT004utiM\n",
       "49VJs0F0uS8Fco95AaPq+7Ci0yYkcmWsOAkM4tET4nmWF85hCopsHxSZ8EL6p4a5w5rQLD4Kvtjb\n",
       "+zYRcleYFxLoPeQURNv1kpmAPrFzWMjS9zDLABLLgSNlNADChqJvcNsQ3pgbze/tjkh6SwXH81a3\n",
       "yvar8YiR7UpH6XEzsHEEHN0VhNwx253D4cUXtZVgCamO0hFszkRzbEWGptmEJBHoxo+hUS+ZEVyA\n",
       "/CGFhQF6rR6GQwyIlh1Hazs0YA2Ryw7o3PvfoFZWyJfhFc+uGd2oUMhKPMIl6Svy6eUl0CLe/yjq\n",
       "+8hDSF/UZnNCBtKaSka2x3jLcx+Yy8tckQPRizNRH4KjJmxCc5f5gYWBKWidIKcvA6JFcBaKlUWW\n",
       "p42GVjxWimDJNMUBeLfs8tm8Zl4F72u1yoWsyGO0X/rPoVimnATda1Z7L8k2xV1IX9QoPXNFtmai\n",
       "h6h63Rhl/pJh/07mhXzy3vMp1IfgqKlk0ezJRAfwwyjcjGWrh8AAokVw0JNkqAGjDEMObAjUA71z\n",
       "zeWEhHYaX1YsO2iLWsbGhr1XZKvLarC7rMhjUwunGteQoW3kwBXbLnl0bMx7LW07K+pm9+KLGqXH\n",
       "/9QjQHdd9YveTbZXdHw4qlMc3RWbTBNKljqYNCwLiDhIiriGTmdDAPgOOuIrYq19wreqZyXlq+qH\n",
       "GqXHC/l0+Kl+6UtzbjX/uZfgWPnYPyWTPmxcNnRmWUCKC+kirhHGSXq+Z5xQ44VMKWd0DyEZTma6\n",
       "W0Gx7PSU8SLkE/PGCbUKfkVXg9+1Ttbgeqpmaioc/g9FlLHUrPJcbgAAAABJRU5ErkJggg==\n",
       "\" style=\"display:inline;vertical-align:middle;\" /></a><br>"
      ],
      "text/plain": [
       "<IPython.core.display.HTML object>"
      ]
     },
     "metadata": {},
     "output_type": "display_data"
    }
   ],
   "source": [
    "elim_one_any = \\\n",
    "    Forall((i, j), \n",
    "           Forall((a_1_to_i, b_1_to_j), \n",
    "                  Equals(Mult(a_1_to_i, one, b_1_to_j), \n",
    "                         Mult(a_1_to_i, b_1_to_j)), \n",
    "                  domain=Complex),\n",
    "           domain=Natural)"
   ]
  },
  {
   "cell_type": "code",
   "execution_count": 58,
   "metadata": {},
   "outputs": [
    {
     "data": {
      "text/html": [
       "<strong id=\"mult_zero_left\"><a class=\"ProveItLink\" href=\"proofs/mult_zero_left/thm_proof.ipynb\">mult_zero_left</a> (conjecture without proof):<br></strong> <a class=\"ProveItLink\" href=\"../__pv_it/theorems/f6b01ce5b1867d7e35ffe0de848629babd245bfa0/theorem_expr.ipynb\"><img src=\"data:image/png;base64,iVBORw0KGgoAAAANSUhEUgAAAJ8AAAAVBAMAAACqHiFtAAAAMFBMVEX///8AAAAAAAAAAAAAAAAA\n",
       "AAAAAAAAAAAAAAAAAAAAAAAAAAAAAAAAAAAAAAAAAAAv3aB7AAAAD3RSTlMAq1RmmUTNIjK7EInv\n",
       "3XZ/CtNrAAAACXBIWXMAAA7EAAAOxAGVKw4bAAACVUlEQVQ4y42VTWgTQRTH/93dZDeJjQEv6kEW\n",
       "FHvw0CCiUL8CflQolYAXTxr0IHpa71XXgyAUsYWKrkJZsJdaNbF4ESHsRRBEqb14CmygIngookLF\n",
       "gnTezGTjzm6iD/7LzG9e3sx7b3YD9DVHKo3/P+5a0RZK2Ll0f8IlGuzsEXCPUKE5qu5UTvi+XnE4\n",
       "PkGTS+nx8jWhC3imJnNF9c3a+U8c32QTcyo9oFHm0pdQUD32qb6HgVccZ32Wkp0ecJNQrgTtt7rk\n",
       "K2AaGPYJ6+wU2R4l3C20uQLru5qhWsSfwF2b4/et1rseAceE6izgj6iuq9snF1lSJaXcFLDM8Sng\n",
       "YY+AF4VuNGD9ieqKdjgO6DWajLfIPlIb1lnAkOOrMGO7FWd2XJfDZSEKuN5ZPoCj/hZAC+J784AN\n",
       "jnN+oSqp1faq+WlHeyTnb4TqDWTohHU6lYuT3PWbkjILeD7kWAujnhx3WXGeAwfjAVlTNGrKYIXT\n",
       "D/TIBMmmDNsC146wx+roisOv/+Nb7PzxlHNT0LvXJrOGJ+wYS/EawgOrhcCL7HoXnW1Ze54Whoa6\n",
       "u84K6QGMWie1ewMBGoypN/0QqBYcT7Ce6Ji1cIYWRka6Ti+klvHUlUj7NRdk2HtgNJSAg3b+rcQD\n",
       "3HkN2O95nn37bNfpjtRcc2tU/NPhrr30+6r63o+13b+xFZiYpAE1Jd/Z1RVKsWvojycKNYNdILpQ\n",
       "Lx00JdUrQil2DP2x8bn5FeYDGi5cnokOdV8qYT2+Type8Lx4aealEpZL/9jn/vUfYIZCCfuS7s/w\n",
       "BlnvnGexN9kBAAAAAElFTkSuQmCC\n",
       "\" style=\"display:inline;vertical-align:middle;\" /></a><br>"
      ],
      "text/plain": [
       "<IPython.core.display.HTML object>"
      ]
     },
     "metadata": {},
     "output_type": "display_data"
    }
   ],
   "source": [
    "mult_zero_left = Forall(x, Equals(Mult(zero, x), zero), domain=Complex)"
   ]
  },
  {
   "cell_type": "code",
   "execution_count": 59,
   "metadata": {},
   "outputs": [
    {
     "data": {
      "text/html": [
       "<strong id=\"mult_zero_right\"><a class=\"ProveItLink\" href=\"proofs/mult_zero_right/thm_proof.ipynb\">mult_zero_right</a> (conjecture without proof):<br></strong> <a class=\"ProveItLink\" href=\"../__pv_it/theorems/5cb9fc3330148d88a2e8ebcc4de955374a2cca3b0/theorem_expr.ipynb\"><img src=\"data:image/png;base64,iVBORw0KGgoAAAANSUhEUgAAAJ8AAAAVBAMAAACqHiFtAAAAMFBMVEX///8AAAAAAAAAAAAAAAAA\n",
       "AAAAAAAAAAAAAAAAAAAAAAAAAAAAAAAAAAAAAAAAAAAv3aB7AAAAD3RSTlMAq1RmmUTNIjK7EInv\n",
       "3XZ/CtNrAAAACXBIWXMAAA7EAAAOxAGVKw4bAAACHklEQVQ4y42VT2jUQBTGvyYxySbd0KsgJSC0\n",
       "Bw+bg3io/xaqrVCFpV486YIH0VO8V1kPgijSFgoahRKwhy6FWsVLKZS9FAQRqhdPC1moCB6KB0HQ\n",
       "izM7s0kmmVn94Ftmfpl5M5n3JgsMVcgt4/+PM3k+c0nX5eMpHqON44qAJ7gF7RyE8AKo8EXauSWP\n",
       "5zSZBZm+8wW4AxV+QDrWkjygETALOgtsAyehwmYMuL484Ci3oGWgFmM0VmGd7MBUHOEEt6CfwKIP\n",
       "M1Dij93uB0XAOe7N3vrO4CUcOjOAO1Y47gxfAl4oAt7krnvjxj5n1h8yM4Hez9WVLtUnEd+FJazm\n",
       "rYzf583PzHqo/x4J8gG3oHXEtXO4ErsNTu1e1HCWQ+0l7+8x2zBY7bymZURm3khg/yi8coa1JM3J\n",
       "hRbJ+CZwWgxIUp30+9U6O/2ajyOdclIGuHmO/BzOHoT98n/1kOxffGWyduikZRIB52No++IZ5vFb\n",
       "Ut5eeNT02/TB5GS26ipzu3EMbgrPADPkXIt3IYcXSE50rNq4Sh9MTWWD3jDXHl/GfAqrvvOeXKCt\n",
       "QsAcHmlR8As4FUWR/+haNugp89qhNp3dJWeuRyZUG8V7X8B2x8IT2qBJcQartpgluofheMFtGqSA\n",
       "aEG9C7HLqV5nlmgaw7Hxdfc7rOe0uXF7Jd3UM+6SFN+nIt6IIvFo2twlVeQf+8q//gOshLmkb/Lx\n",
       "BP8FxGCZ4oa++IsAAAAASUVORK5CYII=\n",
       "\" style=\"display:inline;vertical-align:middle;\" /></a><br>"
      ],
      "text/plain": [
       "<IPython.core.display.HTML object>"
      ]
     },
     "metadata": {},
     "output_type": "display_data"
    }
   ],
   "source": [
    "mult_zero_right = Forall(x, Equals(Mult(x, zero), zero), domain=Complex)"
   ]
  },
  {
   "cell_type": "code",
   "execution_count": 60,
   "metadata": {},
   "outputs": [
    {
     "data": {
      "text/html": [
       "<strong id=\"mult_zero_any\"><a class=\"ProveItLink\" href=\"proofs/mult_zero_any/thm_proof.ipynb\">mult_zero_any</a> (conjecture without proof):<br></strong> <a class=\"ProveItLink\" href=\"../__pv_it/theorems/9d00afcfdb9e59ddb538ab61c5becbe046f2d27e0/theorem_expr.ipynb\"><img src=\"data:image/png;base64,iVBORw0KGgoAAAANSUhEUgAAAoIAAAAZBAMAAABX4FKPAAAAMFBMVEX///8AAAAAAAAAAAAAAAAA\n",
       "AAAAAAAAAAAAAAAAAAAAAAAAAAAAAAAAAAAAAAAAAAAv3aB7AAAAD3RSTlMAq1RmmUTNIjK7EInv\n",
       "3XZ/CtNrAAAACXBIWXMAAA7EAAAOxAGVKw4bAAAGkklEQVRYw+1ZfYhUVRQ/++bNzJs3szPbJ5aw\n",
       "vL5UiNWhKSG1fGWWKOpQ/SEVOn0R+o+zEIiVtkEfQutXKjkW9rSodNWZTCGTlk2RNcKYZMnQBmZp\n",
       "wcKUZcuSlXa75973ce+bjzcbO7JGB+6b88499+y7v3vuOefeBfCihsIp+J8qULRw0lspcAU/KG22\n",
       "MUbpKuLEmEIwqrE21mhxFXECmvDntqoINuCPFK//l95pttGhcOcjNq++nxc7d53wNmDrREvnfrgv\n",
       "zcQJmI3vL1RFUE7iT/13l5pibZToGdjrfHNAd/U+V4MFW2dZCSiaeoqJE/AaeQY3VEVQQT9dWX8X\n",
       "lOOsjQ758hB25hVzB4eBGkzYOne7e+4DOMTECQgYxN+16nEQsd5ffwQjZhsdCjWBNGi/LTHEXv+g\n",
       "twVHJ+IaDRsBphhUnABf3CNZBFi+SdUfwQlmGx2K6aA4jvaVO0jmawiktk7AvTP+AFivUTHB5kSh\n",
       "8K0HgpFC4adc/RGcZ7bg+LNFsae1c7X3cNewLEHwd/vt6QvXirNq7vVM+o5OuMkVsRHBOBUTBOcA\n",
       "bPNAUG6DkFF/BJ8121PpkLjH/N3wgfffdw17NQfKkD3lP42skAqzy9S/vAw6Oj66A+cXkL7HxbpM\n",
       "ECxSMUGwFYIESpXZbyuLIFFovQJl10nW1KMgi3tsTxzme2dyNuwTHsHL1guJiBHBr0kU+87LItNR\n",
       "cHiXy90RwRwVEwRDRphUK2Fm/0em0HMQZjRxFfU2ODgSKN60c6CytLRXlEU3N1s79Bhrcj805kCd\n",
       "yvwAV38hwBlQD19jUG8q4yyoxIZBp6WTzYF/yO5MQSzHm3wY4LKXRdQBaCRepfS7VovIlxSpmCAo\n",
       "FcVEsu6mLXBL2JANDsHJI0skDU7QHF+m25IpvZmkujEtvSciGNkA2SSsO09ljVjHfQPqRZBNz+wp\n",
       "NUiV2DBGPSyTSANWJ8F2icabPAP+AS+LqGOGka7STDJFo2KaZe8XirI5eEYp6mH+VBfwFUdUljjB\n",
       "4HiZbkv2EFEL7wOYLu7ibBFmEq7FWfEh8PVDLBm8VDVqsWFONbMBfINcObjQ4EySUk8e9LKIOmYQ\n",
       "yItxEDIAMw0qRgT3k3LP30s/tU+Dn5GZdMdqAcHwBOKR6ufnrGDMsZxr28L1F2623GyotyQFWDJ6\n",
       "KPrwDRI0zI7trGU1uFFK8wgOQENqos/wQJAOW2xnTV8X7l0LwTYSJnkEL5Hg6mURdWDfg2jLfeSY\n",
       "Qfc4ihHBV8gf3RfDSclSSqW6k8I7n+QRDH5NHnvT6y3YONYhR3je6LOi3OmoXnJ/YMp24WPiRKfj\n",
       "M9ZCRalHFqa7HVp0na/PaOhi0c4GiQ5Ti4NcYtpj74WGeEgXTF4Hm6HEIjXmWKQ6OlaosruWa9TU\n",
       "40yMCDaQv/MSNb47rPtp7TgJ9F+Fu5lxuOmgnRzuqPsg6588W7RK+0PIbYKppmIo7ks92pcUDwtE\n",
       "BiTMPoYv06Y5HWtZU5u/aP1FmO6Oc281k49c67hzj/VotBeIDgvudLL4R53jHDcePwtEkwdwoi6L\n",
       "LGTqvI5qHEBZ0r3f5vW2MXECuB2EtbdvaSbzDkGwI1Byu3UMekFpMSw2AlnRKgqtQPeAqRhpk5u6\n",
       "1H5XlJTpVpuayWS0NYu4hW1jjVFLScW8rZazXLWA3fJvLGKFuqp81yruflAdpF8eSys55oP+yW4E\n",
       "SXW5aTc0GhYbRJfjlwWFEhYT0A9HmCLEIKKlFTGTocxHDuVv02qfZBLVilw6axUQfBFWeM83++kI\n",
       "EKzJIhbVs8p3zeIQlFK6SrBrN88n94DtT44PdisXpyEwRJGysAXZDvuBQul25E6TEIsIdpDnvcQv\n",
       "kpwWk634GNgxJ3ggTUs4Su+arbzDbF0zt4aztVw7gjVZxOWvcHdFxbYPNqeVIxS2lVhA/pBm16oC\n",
       "go/fdS6OwBBFypKzHmHb00o3PkzhVpS9fgEogu2asqBIz42E6zZVmWw6TgCtdizdbG/cXVZ+IfTy\n",
       "8k5XiTQ83O+N4I6zlfvcJmuyGCURJ1T+bpSK+Vt+ie559VBmS5VbfgRGYuyXUZsFi1PzmsnRXUwP\n",
       "5mGjaHKUGHcDgpfJiBE6WGRtLBHev1RYlbPgQvCJwKKu8jcLnE//tp8oMvnw3xZLR5sZyWAcVfTT\n",
       "WLh8OG9ytLxnXB6uDnq+3UOBRzAu9xleCDLFcmw5zleJi96qXyUILpg7AgQruXEd/l8sXQ//DYoW\n",
       "jv4DEM7vNS2HghIAAAAASUVORK5CYII=\n",
       "\" style=\"display:inline;vertical-align:middle;\" /></a><br>"
      ],
      "text/plain": [
       "<IPython.core.display.HTML object>"
      ]
     },
     "metadata": {},
     "output_type": "display_data"
    }
   ],
   "source": [
    "mult_zero_any = \\\n",
    "    Forall((i, j), \n",
    "           Forall((a_1_to_i, b_1_to_j), \n",
    "                  Equals(Mult(a_1_to_i, zero, b_1_to_j), zero), \n",
    "                  domain=Complex),\n",
    "           domain=Natural)"
   ]
  },
  {
   "cell_type": "code",
   "execution_count": 61,
   "metadata": {},
   "outputs": [
    {
     "data": {
      "text/html": [
       "<strong id=\"mult_neg_left\"><a class=\"ProveItLink\" href=\"proofs/mult_neg_left/thm_proof.ipynb\">mult_neg_left</a> (conjecture without proof):<br></strong> <a class=\"ProveItLink\" href=\"../__pv_it/theorems/e02108d2fb684ef04e8c9be9dc9f647b656690690/theorem_expr.ipynb\"><img src=\"data:image/png;base64,iVBORw0KGgoAAAANSUhEUgAAAR0AAAAWBAMAAAAP9FU/AAAAMFBMVEX///8AAAAAAAAAAAAAAAAA\n",
       "AAAAAAAAAAAAAAAAAAAAAAAAAAAAAAAAAAAAAAAAAAAv3aB7AAAAD3RSTlMAq1RmmUTNIjK7EInv\n",
       "3XZ/CtNrAAAACXBIWXMAAA7EAAAOxAGVKw4bAAADUUlEQVRIx8VWTWgTQRR+STY/3W3jXkulLFTs\n",
       "wRZzKIVWqJVYFVQMCuJB7EIPoiCsR6WWKAiilbZQ0CiULYpYKjEV6UUoQRBEsQSx4KWSakQUKQXB\n",
       "Sk/O7E/e28km680Pvs3m2/lm3ux7M7MA/wKDkCAutovXMwe38Om+LpIakiJahgABRNNnv/7PEKpc\n",
       "6Ggczy5CD74ECoIpXPCdbwo5xIWzDcORdaQXMTNIEEyP/Ec4j7zKkzrZMB4phfQiMhgkCKa0/wg9\n",
       "SD4jRWsYTzOhgDeBgtdUrDOCWWWExR9rXD47CQWMBAoeU1j3HyGWQr5bXX3bOJ7DhC7ya49fsLe6\n",
       "gEIaZJUKxIzJK6DVrq5KCmZZglTkIYB7jeMZIXQxmGyXSgC9VaHQBZENR5BWLag1L4zP37VaUMJF\n",
       "2MvKTkdehLjqtwan28ec2/eEbt0aka0Q67zLFRLaUQhNEgGIuYoWDa0WrrHIWlkei8gmU8l4u0is\n",
       "5TLylBG+7/x/hZQvWDPPJkCySmGCX57yvQCWobnsCBTExOqVjeRa5d/sYjLPMtM2kOGyWM77mVPJ\n",
       "A+ypjYcsCWsrPm3Nmi/y6BZMZB1BiIeYMmiFD/wybCb+MHMRCfoAu6wfrLDTI7oGIWuXhAfX8azx\n",
       "yRfryJDZAu3GUtXhJzgCrZ+afLlWGwcgyfNUQsIztismjdYYa5vfZo7DHG/X2Ym9zBA6mMtsB4X9\n",
       "9lWVJhWmPAIxY6MyWm1McSNEJpEwygWYSbDby93wHU7wdv392MsCoYPdN4/Acc9qltToL3F5Awgb\n",
       "AF/PrtXGPhhO2fuASwhl+YNN63EbtENvLpfTbpzCXm4TOni4Hk7zd7+C51RbZdMjEDOulBJabcwu\n",
       "HWN10pJBOi2LVrWswGu4Zc0kz9eMk/UsUvjeKdHJ64JQNSM+1m4si4xXCC2MKroE86x9dINtAHyk\n",
       "5wYskUPSZd3DchGeaMFHbo/wVNHll84xm6bHrfR16QeMa7CjT4f4Xa7Mn5uuzuwOoQeX8PYTy7VH\n",
       "oGYsaOETsKUcKtjfFy4pNNloYhOcz+W8O+QcYb2xOioZv4gFkyyMGB4YcqJ0Sb82zVD5pN8BFi8j\n",
       "PWeK+MGbNPzNiDG//r8R0lRDdKAA/xd/AT5z9RsmR3fUAAAAAElFTkSuQmCC\n",
       "\" style=\"display:inline;vertical-align:middle;\" /></a><br>"
      ],
      "text/plain": [
       "<IPython.core.display.HTML object>"
      ]
     },
     "metadata": {},
     "output_type": "display_data"
    }
   ],
   "source": [
    "mult_neg_left = Forall((x, y), Equals(Mult(Neg(x), y), Neg(Mult(x, y))), domain=Complex)"
   ]
  },
  {
   "cell_type": "code",
   "execution_count": 62,
   "metadata": {},
   "outputs": [
    {
     "data": {
      "text/html": [
       "<strong id=\"mult_neg_right\"><a class=\"ProveItLink\" href=\"proofs/mult_neg_right/thm_proof.ipynb\">mult_neg_right</a> (conjecture without proof):<br></strong> <a class=\"ProveItLink\" href=\"../__pv_it/theorems/683e2492022bf8f66cdd4096af7d2ebd02f343110/theorem_expr.ipynb\"><img src=\"data:image/png;base64,iVBORw0KGgoAAAANSUhEUgAAAR0AAAAWBAMAAAAP9FU/AAAAMFBMVEX///8AAAAAAAAAAAAAAAAA\n",
       "AAAAAAAAAAAAAAAAAAAAAAAAAAAAAAAAAAAAAAAAAAAv3aB7AAAAD3RSTlMAq1RmmUTNIjK7EInv\n",
       "3XZ/CtNrAAAACXBIWXMAAA7EAAAOxAGVKw4bAAADYUlEQVRIx8WWT2gTQRTGX5JNk+y2NddSKYGK\n",
       "PdhiDqXQClWJVUHFoCAexAY8iIKwHpVaqiCItrSFQo1C2aIUSyVEES9CCYIgiiUUC71UUo2IIqUg\n",
       "qPTkm53ZzLzd7NKbH/yS7Ox8L2/2zZ8F2I5MAVHMexnzM/uZaHgTtqfmFIfqM72MVjj1zL4mrvMK\n",
       "SdbQHpzPHgFRuOhq+CKoY/Y38ZTTkgHWcDEwHT3HoZpzNzRYHK85wMR1WXKTFXUiMB8tzaHKuBsi\n",
       "Bzhec4CJq1vCRmSkAvNpFFCVPC3vBB5zkIl3smpEMP+G4OmzW0Cnj6eAcEHgMQeZeKnTkg9ra++D\n",
       "8zkmKKw/eVV7kpoyMwsZ0HFdPAOOxwzEpIbRq2mYxQIlJUcBHgTn44z7QHObVlaH5KjYCZFNgB7g\n",
       "gLZmKwnuB2ab1DBGuAT7cdrlJFchlqy3BqfahsXPZU7EjGyFalk0yTkXT52AEC6JTuAQLasXzETC\n",
       "3MLMWrCOJUnCMrI0RHw9n9UnzfBDcf2GEwfNLr/+256CaJqzH8OqDkvQiDvhOHCI0KhfsfuNcBMJ\n",
       "Y6FvCds2JeGKezofQqdRANhH8wH7T1EfnXxqW/MWjKPnHHDc+SjrKOsOM2jF/2KAkgRy/fixcaSK\n",
       "p0d0HUL2LgmPbsuzZtl57IOmbtWpFxvwT/zqEpD546kXDXMYmlmdyhJ4jrtis9nSgH0LO6xRmGf9\n",
       "OjpklBnOfHYnGLXGhHJUJZIwiV+9AqIZ9YKZaJhJZobIhASGWAPMxPHn9S74DqdZv74+GUWs4713\n",
       "j8OpWqOhLAItGf2l7AtEZANgJhrmIAym+T7gAKERduOPfbsV2qAnn8+n7pyVUcY4jzfCGWVRlZUz\n",
       "qrXK7CsCojGyUsruMLOLJ3GeNGUlomfJni0r8Bbu2SPB+aw7VR/hUK2SgeOSiZU5VNS46t1YXiI3\n",
       "FGwNGTkNFrB/dBM3AHbEvjBhMfCg7FZDPk35HbvU2O26a+T01+KYzajHrfZ18QeMpmBXbw5i91nL\n",
       "wqWp2simBUQJ+Tb3CesMcE3g0rSPiT+9SqjI3y8cVKV0M4EDXMjn6Q45L6AvNtLcXs36Ze0y6q5/\n",
       "DPcPiCwd1DdOK1Q5U+8Ai1U4VMOuA8bk1DP7mri+Kailhmh/Ef6v/gGnePXtDJCNIAAAAABJRU5E\n",
       "rkJggg==\n",
       "\" style=\"display:inline;vertical-align:middle;\" /></a><br>"
      ],
      "text/plain": [
       "<IPython.core.display.HTML object>"
      ]
     },
     "metadata": {},
     "output_type": "display_data"
    }
   ],
   "source": [
    "mult_neg_right = Forall((x, y), Equals(Mult(x, Neg(y)), Neg(Mult(x, y))), domain=Complex)"
   ]
  },
  {
   "cell_type": "code",
   "execution_count": 63,
   "metadata": {},
   "outputs": [
    {
     "data": {
      "text/html": [
       "<strong id=\"mult_neg_left_double\"><a class=\"ProveItLink\" href=\"proofs/mult_neg_left_double/thm_proof.ipynb\">mult_neg_left_double</a> (conjecture without proof):<br></strong> <a class=\"ProveItLink\" href=\"../__pv_it/theorems/fb14b513c72dbfe7f2c92ed9ed4fa92a9427773e0/theorem_expr.ipynb\"><img src=\"data:image/png;base64,iVBORw0KGgoAAAANSUhEUgAAAR0AAAAWBAMAAAAP9FU/AAAAMFBMVEX///8AAAAAAAAAAAAAAAAA\n",
       "AAAAAAAAAAAAAAAAAAAAAAAAAAAAAAAAAAAAAAAAAAAv3aB7AAAAD3RSTlMAq1RmmUTNIjK7EInv\n",
       "3XZ/CtNrAAAACXBIWXMAAA7EAAAOxAGVKw4bAAADSklEQVRIx8WWXUgUURTH//vlfoxu+yqGLBj5\n",
       "kNI+hKCBGfYFFS0F0YPkgA9REEyPhoUFQZSiglBbICv1kBjLGuFLIBIEYSQiCb0YK21EESIEGT51\n",
       "7z13d9y5d6++9Yf/7Mxv55w5M/fOuQPsRo60iSDsjQrrINTAagmrKp4kmwgQKkAFCoQaKHRZOsEP\n",
       "msz1HJA2EaavOvBVn04tMkU+zg+uGMuJ2WQT4arJaoACNYFC18h3+CCPGusJpsgmwhXo0gAFagKF\n",
       "DpF5/VbSWE+ttIkILejAgi6d7ipZ4QCrtsY8ffZLm4hQnw706dJpVJMif1xd/WCu57R0dZJbe/GG\n",
       "PeMZF3QjliAwo0snA2g+FVOYZIOUIJ8CnpjrUe/SS7rijcEloK0M8i0IbBAQMLgqlCgFywAhyz+P\n",
       "I2yi2eQbCCd079944225uyztykMCTmDLxx51SwlEkmfhGyXQ4s287AYI3WWV1QOsKuFo1kpXBkTW\n",
       "MunYmON/Ko/fkWPXxT0OqiSCoHiHR/jT/8M3WERtgcCItx4WWAoQJ2fZmYuMbZD9Be90PsYuaeWA\n",
       "w5X1VKasJLWiDffwzSfRmrcwMkigR1NPKYBO7s1G/rKQeTLsTrZZP1lkq0doDT7RJfHsnrv27Dhe\n",
       "LKUTY69rq9tjbPwCgVbv/Fl2A0gnEOdjtUTGK9YV4059DZvvuT3ZIUzxc5qb3YtNSFclU+m9sNhv\n",
       "e5lEExiToN37fCbcANIYPx2BUTIG+AEmImz3Zit+4AI/p6PDTaC+tR5y8MEZnK9oAcFE6Le2U1Bg\n",
       "KYB0FL283+fJ8PEZik3xVwMa0ZbJZJL3L7kJhqWrkufr/m7eTVbcNaqhuCnBireeYTeANDl3js2V\n",
       "ujRZvlPzYras4D0eiqaQ428JqW6Q7Eol4ntnaduBZROogOVgj2aZb0kLDVh2ENPA59AGawA892sH\n",
       "c1WXxR0Xylm8TO522bXs2Fv20y1Nqb7N/cRQEvvabYQfczJ9dbx8H4+kXamEqd/d/cJGnkC/2mo9\n",
       "gXUFX56+MbzfGcmYE2W3M53JVHbIKWkTqbxOUzFdrWol0N/Jv8GiDnn792XWV7ioW8DCBbKJ8J4B\n",
       "FcQdfTpF36W3DyxCnXn8X/0DP1X1DKT3pi4AAAAASUVORK5CYII=\n",
       "\" style=\"display:inline;vertical-align:middle;\" /></a><br>"
      ],
      "text/plain": [
       "<IPython.core.display.HTML object>"
      ]
     },
     "metadata": {},
     "output_type": "display_data"
    }
   ],
   "source": [
    "mult_neg_left_double = Forall((x, y), Equals(Neg(Mult(Neg(x), y)), Mult(x, y)), domain=Complex)"
   ]
  },
  {
   "cell_type": "code",
   "execution_count": 64,
   "metadata": {},
   "outputs": [
    {
     "data": {
      "text/html": [
       "<strong id=\"mult_neg_right_double\"><a class=\"ProveItLink\" href=\"proofs/mult_neg_right_double/thm_proof.ipynb\">mult_neg_right_double</a> (conjecture without proof):<br></strong> <a class=\"ProveItLink\" href=\"../__pv_it/theorems/3ffd9eff84f5bb8f479f6a267f4a9f1bd707bc6f0/theorem_expr.ipynb\"><img src=\"data:image/png;base64,iVBORw0KGgoAAAANSUhEUgAAAR0AAAAWBAMAAAAP9FU/AAAAMFBMVEX///8AAAAAAAAAAAAAAAAA\n",
       "AAAAAAAAAAAAAAAAAAAAAAAAAAAAAAAAAAAAAAAAAAAv3aB7AAAAD3RSTlMAq1RmmUTNIjK7EInv\n",
       "3XZ/CtNrAAAACXBIWXMAAA7EAAAOxAGVKw4bAAADLElEQVRIx8WWXUgUURTH//vl7s7qtq9SyICR\n",
       "DyntQwgamGFfYNFSED1ELvQQBcH0WFhYEEQZKgi2BbJSRGIsW4QvgUgQRJFIJPhirLQRRYgQVPjU\n",
       "uR/rnTu7e6e3Dvx25v7nnDvn7v04A/yLORJdMQlRF/DxrfOK+pa0BboCkxApKeDjy+2MJMUareZ8\n",
       "dkp0xSx8duHny5NMCw6wxjljOlZWoCswCmjIK/x8uV0QXGeTPGrMJ5wW6AqMAkK9Cj9fbrsFLP+E\n",
       "bcynUaIrZgF468LPl8t5ToiybTAvnx0SXTELwFkXfr58gtOC9ysr78z59Et0pbD65KXtFipW6INF\n",
       "u+QZFMZgq5zGFE1SSnAYuG/Op3qUrNWbbAkvuoWKFdsRWgc6oUB4hVuqVnAiOI+9tNCygkuIpmrt\n",
       "v/GWa/L2g0QZtUJOaCOQdgkVi9lHEaAN0g6FMfgGZdYMUFaceD6R0QNiq7mMNeYEH8j2a4F1kY9x\n",
       "SLRiCPN9a/2quDzmj5ctLKCRTsERKDTzBufJe4G0dUGw5F3O++mViQKwR89H7xL8pWQf4Xkc2cAI\n",
       "9XAaCnPwQD72h8LmBcj20M/aoTJVj8gqAvyUxMObqvbUnC/qxrHyNeaLDf0HXTpcaOunKvggkmyu\n",
       "FgV4Tqdi0mluoPVe2JIfxjTzaWtTL5iUaMp0ZhsSmkvF4imM0aXLhTl4jIUgNCrAIGtgMka3Vzrw\n",
       "DSeYT3e36qB611Jr1+0jOK65bP4/qchP1ynR782nKngfBlgFKAoQYCsUv/mjrWhBZy6Xs2+dUh3c\n",
       "lWjKo7Vgn625bNanrWXW2ZILc/DU3DFaK00ZgdxT83y1LOEN7vBDgdazJZ81DQmU6a0qIUGbJ7qo\n",
       "MPlymyWuSrgNJrJhzADLkXU6AFiJfeFgzlMa9WKJesIsntqqCNeutHr21iu69EnEnH+Z+45hG9u7\n",
       "sojeY8rM+fHNcUxIlE14X+ISPtGsA5dd1Pfl/1cpUBTfGN7vDNty4jScmVxOPyGnJbpST2gtZ1xj\n",
       "mKjOxxMc7GHfYHFH4D7I8oHSyVoFLFoS6ApMQtJRwMeX21eJe2IR6Sni/9pfWB31k0GWFRcAAAAA\n",
       "SUVORK5CYII=\n",
       "\" style=\"display:inline;vertical-align:middle;\" /></a><br>"
      ],
      "text/plain": [
       "<IPython.core.display.HTML object>"
      ]
     },
     "metadata": {},
     "output_type": "display_data"
    }
   ],
   "source": [
    "mult_neg_right_double = Forall((x, y), Equals(Neg(Mult(x, Neg(y))), Mult(x, y)), domain=Complex)"
   ]
  },
  {
   "cell_type": "markdown",
   "metadata": {},
   "source": [
    "### Theorems for number relations"
   ]
  },
  {
   "cell_type": "code",
   "execution_count": 65,
   "metadata": {},
   "outputs": [
    {
     "data": {
      "text/html": [
       "<strong id=\"left_mult_eq\"><a class=\"ProveItLink\" href=\"proofs/left_mult_eq/thm_proof.ipynb\">left_mult_eq</a> (conjecture without proof):<br></strong> <a class=\"ProveItLink\" href=\"../__pv_it/theorems/53f6febf729a7507ffaa0d37216beef712e326800/theorem_expr.ipynb\"><img src=\"data:image/png;base64,iVBORw0KGgoAAAANSUhEUgAAARkAAAAXBAMAAADNQybgAAAAMFBMVEX///8AAAAAAAAAAAAAAAAA\n",
       "AAAAAAAAAAAAAAAAAAAAAAAAAAAAAAAAAAAAAAAAAAAv3aB7AAAAD3RSTlMAq1RmmUTNIjK7EInv\n",
       "3XZ/CtNrAAAACXBIWXMAAA7EAAAOxAGVKw4bAAADQ0lEQVRIx71WTWgTQRR+2d002c2POQmlUgL+\n",
       "XLSagxTqIUbqfwWXFvRSbKAHwdP2qFSIPWql8aTxULbgwRJoUgWVCqUqgihKkRa9FLZYqXooPVnp\n",
       "yTfzJs1md9IWI/3gyySZLztf3rz3ZgD+ByxBL0L1xNt9wL8gniT6EHTkYh+uCCbYh72NuTko6Mc3\n",
       "udhvMUU8xT5cbciMkSVK0GTLxBJcI95i25tvyI2WIkqgZmRiCY4SmftIsiE3UUEZ3svEsmfYnCp6\n",
       "bWosbQ4IytAvE8u2NEX8uLDwoTE3XYKhluVqDU0sPn6JIZ+Uid1CYykFY7g9CeJZgIfbWDJTf6pf\n",
       "sNfS16v6eKs2C9DOc2WBIwESYUSZgeOYYFniAIQSdRe62WWqr/i7TRL9M9F4A2x9kb6Wuh7AyB+S\n",
       "iGuEQ/i2GQA9cep2xJQuEl4smEpiCs5v5eYtUVuFWJnF/jf7MWi8lEck4hqhHXXgE+pXiYpTJ4lP\n",
       "5nAyrUF5m26ieSjx/zVHVcJTo1cirhX22eE/2LVniJBN40sx/ZxNrZxZwuMiuAgB3hpBGbrsuN3Q\n",
       "PG/6TFOzUyWHJcAG+iwDq7bNmzc+4WmIs12aJcIT7IHGl/Aaa9BWcxMWwsQuexjGmVTJTe13ueHz\n",
       "5wqIFNcQRomlJOxWKkffuLkHIjh2eGPjFcI90NGmmifCIH7QMmEWJhVGwzjcaIOf0ENutHi+6kbM\n",
       "Q0VDmCTqjjKnVdY4cvsCdIuCroFXCCegj/XyMhECmB9RM06FtcZfW6AV2jECSSVnlLPuvFnbeArT\n",
       "EO4SjdYXAz8qs49WlE7W4ee9brxCGJu+iHGKmUSOkqUfYwdceIZfSebhHdyh2EC343LD5mmnuIYQ\n",
       "yxFlF5xZ7zcS4TPWSgSpAKyRHrsIg5GsBkWAr8FVrHy2NSaIoHE3fF6AaapHo5qpe6Bufo5GssZr\n",
       "HDoFqUI6Dz+F4aT2ffoXDrCvIwuhByyuV8UNiNzweQGmEbgv6Md1/1ceYcwJlOkW4b1JiKM8aVg6\n",
       "/qdioeBqi95+QxpRQIJbLg1+oZJmNyzdIrrvjbYYAs4l30O8btyakEP0X+kkd12pcFnQvaWVIZgu\n",
       "b+lGptk5WDuxyF8cXPTvsZfI9QAAAABJRU5ErkJggg==\n",
       "\" style=\"display:inline;vertical-align:middle;\" /></a><br>"
      ],
      "text/plain": [
       "<IPython.core.display.HTML object>"
      ]
     },
     "metadata": {},
     "output_type": "display_data"
    }
   ],
   "source": [
    "left_mult_eq = Forall((a, x, y), Equals(Mult(a, x), Mult(a, y)), condition=Equals(x, y), domain=Natural)"
   ]
  },
  {
   "cell_type": "code",
   "execution_count": 66,
   "metadata": {},
   "outputs": [
    {
     "data": {
      "text/html": [
       "<strong id=\"left_mult_eq_int\"><a class=\"ProveItLink\" href=\"proofs/left_mult_eq_int/thm_proof.ipynb\">left_mult_eq_int</a> (conjecture without proof):<br></strong> <a class=\"ProveItLink\" href=\"../__pv_it/theorems/e2ee743e2daf5bee1b65c425d330847a8423d0cf0/theorem_expr.ipynb\"><img src=\"data:image/png;base64,iVBORw0KGgoAAAANSUhEUgAAARcAAAAXBAMAAADTihZTAAAAMFBMVEX///8AAAAAAAAAAAAAAAAA\n",
       "AAAAAAAAAAAAAAAAAAAAAAAAAAAAAAAAAAAAAAAAAAAv3aB7AAAAD3RSTlMAq1RmmUTNIjK7EInv\n",
       "3XZ/CtNrAAAACXBIWXMAAA7EAAAOxAGVKw4bAAADR0lEQVRIx72WTWgTQRTH/0l202ST1oinKpSA\n",
       "RQWpRBFFD22ktipSWyh4tAEPgqet3qSW2IuHVqwHP6JQtyBCjdRYRaGHEgTRIpYoioIUtlIRLZQi\n",
       "aHoS52uT7OyuVVL64L8fMz9m3r43b2aBVbAaIYfp/9GmY3Xss5DDTjib6uIeHFWMvmyuyhd/jstl\n",
       "5oSjabsXR9VGX05V5cxdIRc7LTdoKU+O6ALN93BVzrQKudhuuUFJeHJEQQOIxKtyJi/kYlFDbvDm\n",
       "iALE1WB1SybF5WZBORBbvDmq17Ozr6pyRslxoXeqv7w2FjcOTpCYxyT4KOygNp/AKOeoDgM3V54x\n",
       "6d1lfZX6ArdLWVEwZ3YAARaxjllqb+jjSdjBiD+PFs5R9aIm5jmRb/rxLebHX5Z4bZzrfgIdpca9\n",
       "aDE2kPTJa+kt7OCAUkA956jCRqTLdZLQXKarVo+MGys4E+3i6gQ+0cD/oo1ptLMxliT4OeygETUx\n",
       "wzkqv+mxfg+mSegwcBb/6Mw0tJ/0/R1vnqEXNe/ijA3sMULLnGNsqplcss1PadfioXlyRqhz8Fm7\n",
       "ZzJZ4QzvZrNQxJYm7TcCFXFQi7hHvrQgrRmSJjvYjro85xg7QbY+7UOoSLdlvT5Ihh5fZwxhjLGB\n",
       "M+myM6z7SIZYgiHcwiaT9gO+1FarSK768iAVFpAjOgI7iCsIxzjH2D7yoiRDNEgBjITI7VwTvqGb\n",
       "seMRlJ0R3bAQURCiLEfQlLSKzr98J6/GRclX2kPYQRxAT6Jie/Clac7reEkV2XUTGrCHBCCO3CSN\n",
       "dmnNFEujUkQs9ALX6MLFhrQVmWNm4y6aQrk2LsEOYnSqU+dciX2gh/fTqgnl2X/Je7zEIMv8tgQm\n",
       "y87Qbp4mhgj7KORi5x37QNrBPBFciY3ql7uNLPoiKQVZMrS6REqepkCBWig5w7otD9Ql6ZTzOkNt\n",
       "FpB2z0hKeyaftWrrjkcYiitfpr6TGxr3pVBzg7TvXL9wLVZyhnULo4i1gnUul19A545wXYqU6ctx\n",
       "TmbF4R3X9DBZVNlMppxxeVSOiOdhLqe5uDgmnbLNbe6foxri5jOPy2PIc9mQfiGHfXUJlunBSWzA\n",
       "uqnNuZWccUHWzvS1mOQPey31UrVp0VYAAAAASUVORK5CYII=\n",
       "\" style=\"display:inline;vertical-align:middle;\" /></a><br>"
      ],
      "text/plain": [
       "<IPython.core.display.HTML object>"
      ]
     },
     "metadata": {},
     "output_type": "display_data"
    }
   ],
   "source": [
    "left_mult_eq_int = Forall((a, x, y), Equals(Mult(a, x), Mult(a, y)), condition=Equals(x, y), domain=Integer)"
   ]
  },
  {
   "cell_type": "code",
   "execution_count": 67,
   "metadata": {},
   "outputs": [
    {
     "data": {
      "text/html": [
       "<strong id=\"left_mult_eq_rational\"><a class=\"ProveItLink\" href=\"proofs/left_mult_eq_rational/thm_proof.ipynb\">left_mult_eq_rational</a> (conjecture without proof):<br></strong> <a class=\"ProveItLink\" href=\"../__pv_it/theorems/5ebc7fbb69c01fb5a88f62fb1d62a88d817f5fd40/theorem_expr.ipynb\"><img src=\"data:image/png;base64,iVBORw0KGgoAAAANSUhEUgAAARkAAAAXBAMAAADNQybgAAAAMFBMVEX///8AAAAAAAAAAAAAAAAA\n",
       "AAAAAAAAAAAAAAAAAAAAAAAAAAAAAAAAAAAAAAAAAAAv3aB7AAAAD3RSTlMAq1RmmUTNIjK7EInv\n",
       "3XZ/CtNrAAAACXBIWXMAAA7EAAAOxAGVKw4bAAADc0lEQVRIx71WXUgUURQ+uzuzP7OrbQSBCTKg\n",
       "5EMUS0U/PqyGaUWoC0L0ELnRQ9DT2GOYbPVQoJVBUduDjRCBbeRmkEEgSxEVkUgYBSGMYdgPyBKU\n",
       "0kN0z713ZnfvzJSx4oFvZ+fcj7nfnL87AMthAQ6baf/h02CZ7COHzQ7bXZWqCw8RxZva8sR4swwO\n",
       "W8dsrg1uPEQL3hwrT81tDgc7LjqUpCuP4DSmfKA8Nc0cDrZVdEgxVx6BXwcIq+WpyXE4WEQXHe48\n",
       "Ah/R6i+zbJIMTuYXQ7HenYd4PT39qjw1UpYBusd7C/Uxv65vlIQ9KpD3Y2VUzxkWbzYGQ4yH2Atw\n",
       "YwlbNrkvme8lP4ebVmIkmDHaAHwYM2maGhV2lOCQFvpl8sLeHDQyHqIbAlH3nTJXVrOp9JdCr1AZ\n",
       "7sagzXJuh0Z9DcmgWE9vSDiegjRp3p8hf6sYDxHSwwnHTYIz6UTgMYQ3/0tNJMHQAfABY/8TnSlo\n",
       "pQ/JC+RnJFR5qMiaRD1iwATjIbyGSxHvTpE4ngBli7ZENS9B+YH3U8w9gT9yzq4mMgAjCYvYpQcX\n",
       "GY9yk3HMSHwMl+b3zJK95RnwsDF6vh7AMApq2DrdBjklmVJ+g68oEvIC3CHvOinUDcnUiIGVYlor\n",
       "VOYYj3JHyQxU3gUXcEBrVX7y6Hur9H4YRmpDrEQNXd+XJhajHGYhg0L5Dp5kvdkqVz05IOnwiTEd\n",
       "JGpUWOu1zsjLEIoyHuX2kBupKYhh8sFgkFxOboQv0IlUVGJkLTV8HUwObwvenYOwsclsPe/irZys\n",
       "8s4vtvuo3DslWY5d0BUrmhKeFKa9kjXWAv2thhrYRiKgHhQyxddNDi/3SYahb+dqUmZs2o06LP8K\n",
       "sUMukLWaR92fLcfQeIfGeBZ3RAs14KgI5uhnylt4AX30tYUqxnWWKcrh9p7DwU7ZxkHKxnnIeRY3\n",
       "ol3q1DPQE05KkCGPlvOk82mXQ7i20OF03ZQg54Ujz+1ALTGfMEbDSeWJePDKzZseQL8qfRr/Si5Q\n",
       "tzMJget0+k0dSRXU0HVuyDHLWGNw+Ci0D4ZrQqwMT5bxRC4/ylVFC5HCyqTTJJFjZ8Fx+jEO/z/A\n",
       "YDcHjcPCkRtvcX4fWecXj3GgcCTWtiec1BRzoJfDZnMO4TJceALXZ17keFFfXtzhGJsSzoqbthKb\n",
       "/AHtHf2wCDot5gAAAABJRU5ErkJggg==\n",
       "\" style=\"display:inline;vertical-align:middle;\" /></a><br>"
      ],
      "text/plain": [
       "<IPython.core.display.HTML object>"
      ]
     },
     "metadata": {},
     "output_type": "display_data"
    }
   ],
   "source": [
    "left_mult_eq_rational = Forall((a, x, y), Equals(Mult(a, x), Mult(a, y)), condition=Equals(x, y), domain=Rational)"
   ]
  },
  {
   "cell_type": "code",
   "execution_count": 68,
   "metadata": {},
   "outputs": [
    {
     "data": {
      "text/html": [
       "<strong id=\"left_mult_eq_real\"><a class=\"ProveItLink\" href=\"proofs/left_mult_eq_real/thm_proof.ipynb\">left_mult_eq_real</a> (conjecture without proof):<br></strong> <a class=\"ProveItLink\" href=\"../__pv_it/theorems/fa96787d597ad4c5a5f2870981c6361100af37fc0/theorem_expr.ipynb\"><img src=\"data:image/png;base64,iVBORw0KGgoAAAANSUhEUgAAARkAAAAXBAMAAADNQybgAAAAMFBMVEX///8AAAAAAAAAAAAAAAAA\n",
       "AAAAAAAAAAAAAAAAAAAAAAAAAAAAAAAAAAAAAAAAAAAv3aB7AAAAD3RSTlMAq1RmmUTNIjK7EInv\n",
       "3XZ/CtNrAAAACXBIWXMAAA7EAAAOxAGVKw4bAAADRElEQVRIx71WQUgUURj+d3fW3ZnZnfYUiCEL\n",
       "RZey9hCCHrYVy4qCFgUvSS54CDrEeCwMrGMZbqfaAhnBQ7LgrgUaBSJFEEUhodRFGMkyPYinDE/9\n",
       "7/1v3dmZtypt+ME3b2fet/O+ee////cA/gdMQTdC1cR7fcG/wIgTPQjacrEHVwVj7OZwbW6OCXrx\n",
       "XS72WkwQz7KbazWZ0TJECeosmViC68Q7bHmzNblREkQJAimZWIJTROZej9fkJiIowweZWPYOizOA\n",
       "XutqC5ujgjL0ycSyJU0QPy0ufqzNzUXBUMNKOYcmlp69ximflImdQm05AaO4PDHieYAnexgyVb2r\n",
       "T7DHVLfKeqNRmQNo5rGyyBEDiVD3z8JpDLAMsR9CsaoDNU213aBfOwT6F6L2Ftj4InzNwJYPZ/64\n",
       "RFwhvIs/6wHQE6dq6WnpIOGlXNrQYbq4m5t3RGUDokyr/WZ/BoWn8rBEXCG0IjZ8Rv0G0W9XCeIz\n",
       "g1iRDGi19+gmkoUC/655yhL+vx6JuFLYa4X/YNWeJUImiZd8cpp1rZ9bxu0iuAQ+XhqZm7WUww31\n",
       "86LPNBUrVbBZAGyj19Qwa5vcceMRdoDBVmmOCM+xBmpfw5tscLO+DhNh4oA1BOO8YuuhkUTZDe+/\n",
       "kEMkuIYwQizE4aC/tPWNpw+Bjm2Le27cQngIKtoMZIkwgDdKKsymKQAjYWxuNcEqdPHhladZRxSL\n",
       "fihpCJNE1fbPK6UxTt67BJ0ioSvgFkIb9LJaXiSCD+MjkjYosTb5tQEaoRlnIG4YemdFTm1uv4Vp\n",
       "CA+IWuPL/l+l3rF1fzur8AtuN24hjM5cxnmKpokcBVNtZRtceJYfSRbgPdznc2MEr1gON6yfVopr\n",
       "CNFBouyAM+d+IhFOIW8LUgKYw11WHgb0jAJ5gG/BDcx8HjfwyhHFvF+AacpbYyBVdUPdeR/VM9ob\n",
       "bNoFKUPaT7yAobjyY2YNGzjSkoHQY3ze/bM41lF2w/sFmEbgkaAXN72PXMKo7SvSKcJ9khBbeVwz\n",
       "VfymfC7nKIvuekMakUCCuw4NXqE/yU5Yqkl0nhst0fjsbs9L3G6cmpBN9B7pJGddqXBF0LmkpSaY\n",
       "LO7qRqbZP5j7Mchfs5Dz23mhKCcAAAAASUVORK5CYII=\n",
       "\" style=\"display:inline;vertical-align:middle;\" /></a><br>"
      ],
      "text/plain": [
       "<IPython.core.display.HTML object>"
      ]
     },
     "metadata": {},
     "output_type": "display_data"
    }
   ],
   "source": [
    "left_mult_eq_real = Forall((a, x, y), Equals(Mult(a, x), Mult(a, y)), condition=Equals(x, y), domain=Real)"
   ]
  },
  {
   "cell_type": "code",
   "execution_count": 69,
   "metadata": {},
   "outputs": [
    {
     "name": "stdout",
     "output_type": "stream",
     "text": [
      "WARNING: Redefining left_mult_eq\n"
     ]
    },
    {
     "data": {
      "text/html": [
       "<strong id=\"left_mult_eq\"><a class=\"ProveItLink\" href=\"proofs/left_mult_eq/thm_proof.ipynb\">left_mult_eq</a> (conjecture without proof):<br></strong> <a class=\"ProveItLink\" href=\"../__pv_it/theorems/ad09335acd06911b509090dee4063b8e6514fb0c0/theorem_expr.ipynb\"><img src=\"data:image/png;base64,iVBORw0KGgoAAAANSUhEUgAAARkAAAAXBAMAAADNQybgAAAAMFBMVEX///8AAAAAAAAAAAAAAAAA\n",
       "AAAAAAAAAAAAAAAAAAAAAAAAAAAAAAAAAAAAAAAAAAAv3aB7AAAAD3RSTlMAq1RmmUTNIjK7EInv\n",
       "3XZ/CtNrAAAACXBIWXMAAA7EAAAOxAGVKw4bAAADQklEQVRIx71WTWgTQRR+2Wya7ObHnIRSCQHF\n",
       "HrSagxRaIUbqLwoGC+Kh2EAPUk/bo1KlCoJopS0UNAplix4sgSZVUUEoRRFEUYq06KWwxUrVQ+nJ\n",
       "Sk++mTdrsruTthjpB18mm/ft7peZ994MwP+AIehGsJp4ow/4F8SSRA8CllzswTnBOLvYXpubXYJe\n",
       "fJWLvRZTxMPs4nxNZvQcUYI6UyaW4ALxKlvewZrcqCmiBP6MTCzBPiJzH07W5CYiKMM7mVj2DJPT\n",
       "j17rakubnYIydMnEsiVNET/Mzb2vzc0JwWDDYrmGxucfvcQpn5CJK4X6QgpGcXnixGMA9zbwykz1\n",
       "UJdgh6GtlvWxhDoN0MxzZY4jDhJhWJmCA5hgOWIPBONrtJLhxBX+ZY1E/0TUXwN7v0hfw7/qw5nf\n",
       "LRE7hNfwaz0AeuLUzHBW+pLQfD6rDxnK/fXcvCGqyxAtsbn/xW4GlZfygETsEJoRCz6ifpmoWFWS\n",
       "+FAfzuM4wP4NuokMQpH/rxmqEp4aHRKxU9hphn5j154iQi6NH4X0cxZaOrqA20VgHny8NcKD6/Zm\n",
       "Q24ozps+0zhWqmixBPiLTkPHqm1y541HeARibJWmifAYe6D+ObTCssSor8NCGN9i9sMYkzY22jdx\n",
       "Nzx+PI9IcQ1hhFhMwlbF3vrGstsgjGOLe27cQhgCDW36B4nQixdqJsSmyQ8jIRwuNcEPaGfS1laH\n",
       "GxEHW0OYIGqWMqPa8r03T8JpUdAOuIVwEDpZLy8RwYf5EcnGqLBW+GcDJKAZZyB546zDjR23NYTb\n",
       "RD3xoue7HX24pLSxDj/rduMWwujkKZynaJbIUTS0VrbBhaZ4lszCW7jFuwFmsV7hhsVppbiGEO0j\n",
       "yg440+5fJMJnyMuCVADGQLtZgN5wToUCwJfAMlY+e9pTAybLbnhcgGnKW6M/U3VDXXsfDef0Vzi0\n",
       "CVKFtO15Av1J9dvkTxxgR0sOgndZoNA93Fd2w+MCTCNwR9CLi96fXMKo5SvRKcJ9khBbeVI3NPxP\n",
       "hXy+oi26+w1pRAEJrvtq8AqVNDthaQax8txoisFnnfE8xO2mUhO0iN59RXLWlQoXBSuX1B4C6dK6\n",
       "bmSazYOxGS/5Azhi8iMDTq4EAAAAAElFTkSuQmCC\n",
       "\" style=\"display:inline;vertical-align:middle;\" /></a><br>"
      ],
      "text/plain": [
       "<IPython.core.display.HTML object>"
      ]
     },
     "metadata": {},
     "output_type": "display_data"
    }
   ],
   "source": [
    "left_mult_eq = Forall((a, x, y), Equals(Mult(a, x), Mult(a, y)), condition=Equals(x, y), domain=Complex)"
   ]
  },
  {
   "cell_type": "code",
   "execution_count": 70,
   "metadata": {},
   "outputs": [
    {
     "data": {
      "text/html": [
       "<strong id=\"right_mult_eq_nat\"><a class=\"ProveItLink\" href=\"proofs/right_mult_eq_nat/thm_proof.ipynb\">right_mult_eq_nat</a> (conjecture without proof):<br></strong> <a class=\"ProveItLink\" href=\"../__pv_it/theorems/580d0d51a846535a7bb253f009e031c9093e1b3a0/theorem_expr.ipynb\"><img src=\"data:image/png;base64,iVBORw0KGgoAAAANSUhEUgAAARkAAAAXBAMAAADNQybgAAAAMFBMVEX///8AAAAAAAAAAAAAAAAA\n",
       "AAAAAAAAAAAAAAAAAAAAAAAAAAAAAAAAAAAAAAAAAAAv3aB7AAAAD3RSTlMAq1RmmUTNIjK7EInv\n",
       "3XZ/CtNrAAAACXBIWXMAAA7EAAAOxAGVKw4bAAADdElEQVRIx71WTWgTQRR+2d00yaaJOQmlEgL+\n",
       "HbSagxTqIUZq/avS0IJexC70UPC0PSpVYi+CVhpPNR7qFjwYIk2qoFKhREX8QymiKEhhi5X6A6UI\n",
       "UulBnJk32Wx3J7YY6QffTrLz7cy3b968HYD/AZ3TCV818WoH+BeEY0gXvKZY7MJJzgj9s7E2N9s4\n",
       "3fgkFrstxpFt9E9vTWZUDSlAnSESC3AKeZ4ub6YmN0ocKYCcFIkF2IWk7oOxmtzUc4rwQiQWjWEw\n",
       "ysRrXW1ps4VThB6RWLSkceSr6emXtblp5xybufmgEuW+yXPkOi4Qq7NxGK1UgcY5svOCEeRBgGur\n",
       "mDJZvauHMxmOKlPW5n4K10n0m1muTDNEuDgolWCP9fQJPbBEEkxD9oEvUnWis+0p+SH79ZdEf4OU\n",
       "dXnJY+XorTgcJc12gXiAeG6w9thjoK9ADDIGjGBKOIl/JpuSIhNweCU3T5B+UHD3FmjTAfCRNEMC\n",
       "sVFvwuuyTlmAUJE8vICUzCpJvC9NOhMKFFfphmwKLL0huqrPQf1J10Ek7jb8v8q6+gwUSDS8JSRo\n",
       "CXLJJ+5R7fyBWfK58M6Ah5VGkAaOm3Y32M/ygmqWrRSZRVfL1U79DTJ5VWhy5g0V7odwqeyuYLIc\n",
       "kqaQcJvUQPW9f5EWaL2hjuyKsXXGIOSoVkpPbLa5Yf2HsgRxpkGMIHOpDRC00uEHeLStAC3O2FDx\n",
       "FQhYqVqIwXpJB5mMTwn9pEdJ+qlbGUb8pDnTBF+hC90o4UzFDe+HsgYxjtx58Qh02mZtSiZx5y8D\n",
       "Fe+FbivbA6b0ViEGikjwkPyoT4XR7SK7NkIUmkkEYlJaLWr2vFm0hqUaxGXkjXmptVJuRr9fiJKB\n",
       "3zndUPHoZId1fFCj9/u+kBxKITFeemA3XXJ/iR1J3sEzuISxgU7T5ob240oxDSKURooOOFPOOyi8\n",
       "6yolnPiZ0Ie6jDz0BzUF8gAfvAtk59OlSQEPGnPD+jmopvJplJNVP6iu72hQUx85b7dy4g5p3XEH\n",
       "BmPK58lvpIFNLRr4rtK49vITELph/RxUwzHM6cZp961hCJmeojOGGfdJgq96TNUD5J3y2aytLDrr\n",
       "DWoQOU7R1C7kSBFrc94M6Ej7udHgjcc85hrE6cau8ZlI95FOcNYVCuc47UtabryJ4opuRJq1g74W\n",
       "k/wBy0vzh4v/0lcAAAAASUVORK5CYII=\n",
       "\" style=\"display:inline;vertical-align:middle;\" /></a><br>"
      ],
      "text/plain": [
       "<IPython.core.display.HTML object>"
      ]
     },
     "metadata": {},
     "output_type": "display_data"
    }
   ],
   "source": [
    "right_mult_eq_nat = Forall((a, x, y), Equals(Mult(x, a), Mult(y, a)), condition=Equals(x, y), domain=Natural)"
   ]
  },
  {
   "cell_type": "code",
   "execution_count": 71,
   "metadata": {},
   "outputs": [
    {
     "data": {
      "text/html": [
       "<strong id=\"right_mult_eq_int\"><a class=\"ProveItLink\" href=\"proofs/right_mult_eq_int/thm_proof.ipynb\">right_mult_eq_int</a> (conjecture without proof):<br></strong> <a class=\"ProveItLink\" href=\"../__pv_it/theorems/b8844f7a18e6f0af983f2cf76ad8b2b0ea5fe47d0/theorem_expr.ipynb\"><img src=\"data:image/png;base64,iVBORw0KGgoAAAANSUhEUgAAARcAAAAXBAMAAADTihZTAAAAMFBMVEX///8AAAAAAAAAAAAAAAAA\n",
       "AAAAAAAAAAAAAAAAAAAAAAAAAAAAAAAAAAAAAAAAAAAv3aB7AAAAD3RSTlMAq1RmmUTNIjK7EInv\n",
       "3XZ/CtNrAAAACXBIWXMAAA7EAAAOxAGVKw4bAAADRElEQVRIx72WTWgTQRTHX7K7abJJ64ogaKEs\n",
       "tIjgB1FE0UMbqJ9IJVDwJBLwIHja6k2qRK+tNB78iELZgwgaSWIVlR4kIIIiSiwVvVQ2UqlflIBg\n",
       "pCfffGRjZmdbJaUP/tndmd/OvLw3b2YBlsHauDxm/UebBctjn7g8dtzb1GH6cEQGeehuyZdgkUky\n",
       "c9zTtMmPI9pHHk625MxtLomdEhv0lC+HukDynWnJmX4uie0QG9S4L4cK2QBRsyVnSlwSi9ligz+H\n",
       "UtDVUGtLJsUks5AYiA3+HNHrmZlXLTmjFpn0+fUjE41y75xzMOaGAB9G5ftBN7wc0UGAG0vPmPDv\n",
       "qv8rFSrOgNt6zIosACg0YgMzxN6S2xOo4mZQql6OaAjaDN+JAi8f3qR+LLLE202mXdBnr3Gr5hmo\n",
       "ZUyfuJamAMLmAAQyXo4oYkeT0knClWyy3Yrm7SWciSWZ0rCfPhdINNQqtGPqwlUBfo7zwxuIYWr0\n",
       "X80cUdDxWb970xg6uHgG/tEZwElopEgoYxkoYJtW8joD2gKM4dgw3cxRNtWLP7nex4SdPzCLZ4RW\n",
       "gUB990wk/nKGdROjSHOaQKvB3fqkBQf6SKWVhTUzRaKRgh8SjrITuPXp78M1si1b60I4bH6VPQp3\n",
       "KKycTjecod2HsmhxijCLOFT6lUAJ3EOhYMLaoAWKGNFx8oIBlyUcZYdx/aqJMAmSAuNhvJzdAl9h\n",
       "kML5KDSc4d1QR5jxsgz+vlXS3N0z4gSnVVbyTXafRMbQfko4ygbSJOcdrKRq9LcTumAnBsCE4iQL\n",
       "Pf+HNXdUgvCFXqbSjzg92xtnUNeToS+YPrE2LpG+ztmahHPZghXZQ6omXKLfJe/gBYzQpbExDpMN\n",
       "Z0g3SxNFuH3gktg5zz5Asx5NSTiXjVljg3YOhqMpFXI4tFbFkidvqaCVXWdod90DrSqccn5naJMp\n",
       "WA+P4J652Fmr9W99AKOm+vnpN7xAz+4UtF3H9m2rv181XGdoNzeC1PNuMUk+Ab07wjWAj5hjLyey\n",
       "3F9TtyJY17lstpFxcVSG8PsMk9ckLmKRds8mJZzAaja/BJyj4hjiXE3IeS6PzUmC5fhwAqvUL1pv\n",
       "cSlnJMjKmbUSk/wBj1/1cNf+gJkAAAAASUVORK5CYII=\n",
       "\" style=\"display:inline;vertical-align:middle;\" /></a><br>"
      ],
      "text/plain": [
       "<IPython.core.display.HTML object>"
      ]
     },
     "metadata": {},
     "output_type": "display_data"
    }
   ],
   "source": [
    "right_mult_eq_int = Forall((a, x, y), Equals(Mult(x, a), Mult(y, a)), condition=Equals(x, y), domain=Integer)"
   ]
  },
  {
   "cell_type": "code",
   "execution_count": 72,
   "metadata": {},
   "outputs": [
    {
     "data": {
      "text/html": [
       "<strong id=\"right_mult_eq_rational\"><a class=\"ProveItLink\" href=\"proofs/right_mult_eq_rational/thm_proof.ipynb\">right_mult_eq_rational</a> (conjecture without proof):<br></strong> <a class=\"ProveItLink\" href=\"../__pv_it/theorems/69b07084e228a82a41a41913f37cff15cd9132ba0/theorem_expr.ipynb\"><img src=\"data:image/png;base64,iVBORw0KGgoAAAANSUhEUgAAARkAAAAXBAMAAADNQybgAAAAMFBMVEX///8AAAAAAAAAAAAAAAAA\n",
       "AAAAAAAAAAAAAAAAAAAAAAAAAAAAAAAAAAAAAAAAAAAv3aB7AAAAD3RSTlMAq1RmmUTNIjK7EInv\n",
       "3XZ/CtNrAAAACXBIWXMAAA7EAAAOxAGVKw4bAAADQklEQVRIx72WS2gTURSGTyYzSWaS1ogg1EIJ\n",
       "tOhClFDFRxdppdYHYg0UxIXYiAvB1dSlVIm6EVq1gqJxUaYgQg2YWMEKQhkUQRClSEU3hYlUqi5K\n",
       "Vra48txHks6dO7WS0gN/JrnnI/fPOfcRgLWIMJcnzP8YM2GN4huXJ854hxoTPhxRnHxorc+MUmSS\n",
       "TJ30DG3344h6yIfz9bl5zCWJC+KAkfHlUFdJy0fqc9PNJYnd4oCa9OVQIQsgmqjPjc0liZglDvhz\n",
       "qCB6DdW5bDJMsgiJpdjqzxF9mJ19X58btchkLGwZmqjt+uZ5B8seF+BjyM0lYUzCER0BeLiKKbv8\n",
       "U5XfpULJOV4dPW3qfwCCpGbqLA1q7BzOqtjQKeGIBiAc958pf3cjO5VWWOgNCaa90Gltqu6dN6BO\n",
       "YwfF9fQJ4BommiQckW5F09JJIqVcOvwKou3/chNLM2XhEP1coPUoQwN2L1IW4LcAVsyBj8TIbzdH\n",
       "pDg+i/hgFot6EYxd5irdAJ0D60S6GhuBAo5pttcN9FuRJfJ+xs1RNpMiHUlNkvzC4TmcWytBgB2j\n",
       "N7YBOE7NDcuToIy7U6AtwpPKrAWHrg1lWlg32CksYaMt4Sg7gWeg8SWySA5osymEX/t0gzUM44Tt\n",
       "SLrc0PzRHEaSMix0h8q4F7Chej8UErBZMSEo1nQUdQf0uISj7CBm1K4IcRuE0Qg+Lu2An9BHWOLE\n",
       "KVbd8DxUGBZ8dypLj2yteo7qjjKjsp3vimeoA9CflHCUDWRJ2xuZ20X62gwtsAcrkDgldIrnKwxf\n",
       "7tNURq/T1l67j1peDvzADoo75CZqbOqEKeGqbMHUO8gZHrHp35TP8A6G6M8WVjHJs05RhsdXLklc\n",
       "9hwHWfL6QsZV2Zh5u8/Kw2A0o0Iev1or486nuxyirbUdTvMVC1pZuPL8LlRXBLsgmjFer3jxat07\n",
       "n8NwQv0+9Qsf0LY/A+EH9PSbOZutuaF5HoSp9N5kkvwp9B4M96HBCRQlnMjyJZgwTB1XWT6Xw0ZO\n",
       "Xgfp6ccY/n6EyRsSj+OgpHpknMBqFn8EnJO1K7G1Ny1zs5yBK1yemJeUy/HhBDZYeWipZZW8tU9a\n",
       "Gxez7mGuxyR/AXRe/bB5bR1EAAAAAElFTkSuQmCC\n",
       "\" style=\"display:inline;vertical-align:middle;\" /></a><br>"
      ],
      "text/plain": [
       "<IPython.core.display.HTML object>"
      ]
     },
     "metadata": {},
     "output_type": "display_data"
    }
   ],
   "source": [
    "right_mult_eq_rational = Forall((a, x, y), Equals(Mult(x, a), Mult(y, a)), condition=Equals(x, y), domain=Rational)"
   ]
  },
  {
   "cell_type": "code",
   "execution_count": 73,
   "metadata": {},
   "outputs": [
    {
     "data": {
      "text/html": [
       "<strong id=\"right_mult_eq_real\"><a class=\"ProveItLink\" href=\"proofs/right_mult_eq_real/thm_proof.ipynb\">right_mult_eq_real</a> (conjecture without proof):<br></strong> <a class=\"ProveItLink\" href=\"../__pv_it/theorems/a440736b76ebc1006fd18c5e9f4ee1ba859c6b4f0/theorem_expr.ipynb\"><img src=\"data:image/png;base64,iVBORw0KGgoAAAANSUhEUgAAARkAAAAXBAMAAADNQybgAAAAMFBMVEX///8AAAAAAAAAAAAAAAAA\n",
       "AAAAAAAAAAAAAAAAAAAAAAAAAAAAAAAAAAAAAAAAAAAv3aB7AAAAD3RSTlMAq1RmmUTNIjK7EInv\n",
       "3XZ/CtNrAAAACXBIWXMAAA7EAAAOxAGVKw4bAAADdElEQVRIx71WTWgTQRR+STZNspuuOQmlEgKK\n",
       "HrSagxTaQ0yprYpKQwu9KDbQg+BBtkelSvUiaKXxVKNQt9CDIdKkCq0olKCIfyhFLApS2GK1WqEE\n",
       "QSo9iDPzJpvt7sQWI37w7SQzX2a+zHtvdgD+BTROO3yVxBud4G+gRpAOeA2x2IETnCH6ZWt1bnZy\n",
       "OvFRLHZajCLb6JeTVZmRk0gBanSRWIBTyAs0vKmq3EhRpACeuEgswF4kda9EqnIT5BThhUgsmkNn\n",
       "9BCvNdWlzXZOEXpFYlFIo8hXc3Mvq3NzmHN8/vbD8i73TZ8nzwmBWF6Iwmj5FKhfJJWnhJAHAW5s\n",
       "YMl45aFezrgalmbM4n4Kt8juN7JcmWMIcbHiLsA+89fHtcAqSbAksg98oYoLNUy2nMZPf0j0N0iP\n",
       "5ll1mTl6JwpHSbNLIL5IPNeZNfYY6F8gBhkDupIQLuKfTydUBaby67l5gvSDhNWbo00HwAfSDAnE\n",
       "etCA1yWdVIRasoK/iHQbFZJ4/wA5kVRoNjbohhQFSmtpVJ+D/IPGQSTu0f0/S7pgCnJkN7wFJCRj\n",
       "5JGNTVHt8oEF8rrwzoOLHY3UzVLc4gbHWV5QzZpIkVU0uXTayb/AU6ShtucNFbaDWii5yxksh9wz\n",
       "SLhLzkD5nX+FLq7V1ZCqGN+kD0KGndiKbyRadsPGD6UJokyDGEFmEltAMdPhO7iSOwCa7HtDxdcg\n",
       "YKZqLgKb3Rp4yPyU0E9GpLifuvXAiJ80ZxvgK3Sx5aWbKUsW83EoaRATyD2Xj0CnZdWGeBwrfw2o\n",
       "uAV6zGwPGO63EjGQR4KL5EcwoaLbFfashzA0kh2IqKrSuaamVsxpqQZxFTm27G4tHzej3y6FycSz\n",
       "djdUPDrdYV4f5PD9vi8khxJI3C8t0ExD7i+wK8ksPIMrbG9U7zHd4oaOY6SYBlE7gBRdcGbsPSic\n",
       "tHef48TXhDbUpWehX0lKkAV47y2Symd5Aw8sWczGOaim/Gr0xCu+UB3vUSUpP7J3t3JihbTuvgeD\n",
       "EenT9BJpYFtTEnzXSX/35/xYe9kNG+egGo5hTifOOLuGodZw5e17mHLeJHjUI7IWIP8pm05bjkX7\n",
       "eYMaRIZTtLQDGXDH2uydAQ1pvTfqvHEZ3Y5J7G6sGp+BdF7pBHddoXCR0xrSUuON5dd1I9L8P2j/\n",
       "Y5HfYo7yc3JERfkAAAAASUVORK5CYII=\n",
       "\" style=\"display:inline;vertical-align:middle;\" /></a><br>"
      ],
      "text/plain": [
       "<IPython.core.display.HTML object>"
      ]
     },
     "metadata": {},
     "output_type": "display_data"
    }
   ],
   "source": [
    "right_mult_eq_real = Forall((a, x, y), Equals(Mult(x, a), Mult(y, a)), condition=Equals(x, y), domain=Real)"
   ]
  },
  {
   "cell_type": "code",
   "execution_count": 74,
   "metadata": {},
   "outputs": [
    {
     "data": {
      "text/html": [
       "<strong id=\"right_mult_eq\"><a class=\"ProveItLink\" href=\"proofs/right_mult_eq/thm_proof.ipynb\">right_mult_eq</a> (conjecture without proof):<br></strong> <a class=\"ProveItLink\" href=\"../__pv_it/theorems/8c7788620c5bb71b36b7a1fbbbe039cb6c1fcdcf0/theorem_expr.ipynb\"><img src=\"data:image/png;base64,iVBORw0KGgoAAAANSUhEUgAAAQMAAAAXBAMAAAD9zzfBAAAAMFBMVEX///8AAAAAAAAAAAAAAAAA\n",
       "AAAAAAAAAAAAAAAAAAAAAAAAAAAAAAAAAAAAAAAAAAAv3aB7AAAAD3RSTlMAq1RmmUTNIjK7EInv\n",
       "3XZ/CtNrAAAACXBIWXMAAA7EAAAOxAGVKw4bAAADJUlEQVRIx71WTWgTQRR+2d202d025iSUSggo\n",
       "etBoDiLUQ4yU+oNKg4InsQs9CJ62R6VK9SJIpfVU9FC34MFSaaKCCkIJiviHUqRFQQpbrNQfKEXQ\n",
       "Sg/im32zs3F3om0O/eDbSd57O/PtvDc/AHXD5gyjsVbwSjtYMZIZYgRxVx4cwUnOFPuzsQ4JWzmj\n",
       "+CgPjurKETvYn1OrV2BYRAkaHFmwBKeJF1j2BlcvQcsRJVALsmAJdhKZZDOzeglNnDK8lAXL+nA8\n",
       "qiiwoY5S2MwpQ7csWJaxHPH1zMyrOiQc4hyfvfUomMSeifP4vCMJNuZyMBIs3NZ5XDdmingA4Hqt\n",
       "cQq1JXRzFpJpbVKsx2dwAyd3l5f/GQ8pHmwqFdgj3j5h68tYNBaxBxpTtcb5R5m+Jaq2uhwTxXY7\n",
       "B0ew2SYJvohCW8QKeQJMN6ryqDtmsQ4JT4kJ0GjBlVjTCfABmwFJsNPkwhs2+k82Q4vQXMaXF4mK\n",
       "W7sa/y8BS5o2w2aWtBdg/GDTLAvuchK/2O8p9s4glPC74xUiWHl8jOUfMP/C/jncteOzEKuSQEYv\n",
       "175DJAK7tg1/KzJ+g4ofBdlwLbDAfZCs+JJKrlcXyiQR7uIGZbxLLLEt025pwPIeX+f0BxI848Fr\n",
       "iJxwAAwTR4sbwBQp/g4xawtAW3gWWPBV0EXNlTKwXrFBxf4ZoRc9WiHBJKownMDmbBa+BBK4Eaod\n",
       "tPCQOy4fhqNVQ2ULBVqsf4EF74UuUba6q0xpOGqZCLE+TE4xSRKXvGcrpKtrYUn05TsArhBvLijt\n",
       "wbYw8u1SGnubDktgwSMTneJkNtIPez5j/RSJNDO2vptlNFHxTvtpeF4lgRkpEcKBr/YRZReGybCF\n",
       "Au+Hzec4abe2B445Y9BrWhqMAbyPLwYSPCOH76CzSC3UPMEiB5dpGY/D5nZOKvX27fegP6N9mviK\n",
       "DWxqswIJnpHDdyCGOKM4EzUNQbMbK4dnazB6SPOkZgxbz0n3BeFAjHLKxotgFJR8R9io28TqG5fD\n",
       "m5h7XL41CQf7BpcYvQxJ7oPSwHnO6oz5TTxflksQjrWDvRaD/AFw7tvDidcYtAAAAABJRU5ErkJg\n",
       "gg==\n",
       "\" style=\"display:inline;vertical-align:middle;\" /></a><br>"
      ],
      "text/plain": [
       "<IPython.core.display.HTML object>"
      ]
     },
     "metadata": {},
     "output_type": "display_data"
    }
   ],
   "source": [
    "right_mult_eq = Forall((a, x, y), Equals(Mult(x, a), Mult(y, a)), condition=Equals(x, y))"
   ]
  },
  {
   "cell_type": "markdown",
   "metadata": {},
   "source": [
    "Note: proving left_mult_neq and right_mult_neq for the complex domain is a bit more challenging than just real numbers, but should still be applicable.  Using a polar coordinate representations, such as $r \\textrm{exp}(i \\theta)$, makes it more clear.  Suppose $x = x_r \\textrm{exp}(i \\cdot x_{\\theta})$ and $y = y_r \\textrm{exp}(i \\cdot y_{\\theta})$; if $x \\neq y$, either $x_r \\neq y_r$ or $x_{\\theta} \\neq y_{\\theta}$ (or both), so either the length or angle (or both) will differ on either side. "
   ]
  },
  {
   "cell_type": "code",
   "execution_count": 75,
   "metadata": {},
   "outputs": [
    {
     "data": {
      "text/html": [
       "<strong id=\"left_mult_neq_nat\"><a class=\"ProveItLink\" href=\"proofs/left_mult_neq_nat/thm_proof.ipynb\">left_mult_neq_nat</a> (conjecture without proof):<br></strong> <a class=\"ProveItLink\" href=\"../__pv_it/theorems/9374d9c2f2d2c7c1697baa687a5874bd57e09b510/theorem_expr.ipynb\"><img src=\"data:image/png;base64,iVBORw0KGgoAAAANSUhEUgAAATsAAAAXCAMAAABDGxgMAAAARVBMVEX///8AAAAAAAAAAAAAAAAA\n",
       "AAAAAAAAAAAAAAAAAAAAAAAAAAAAAAAAAAAAAAAAAAAAAAAAAAAAAAAAAAAAAAAAAAAAAAAeYafp\n",
       "AAAAFnRSTlMAq1RmmUTNIjK7EInv3Xbt5cnn9enzas/lfgAAAAlwSFlzAAAOxAAADsQBlSsOGwAA\n",
       "A+5JREFUWMPlWNmypCAMlU32zO7/f+qwiBBExar70FNDzXSqveHQOZ6EwLL8S0N2dnrCV/vJ5V8b\n",
       "QLF9HgLGz7kZAk/jZUuO55R9OHXUYjtF9zAopYfAL/CS5aI8Xj9ciGbFdm6sZvBQqxHwK7xoVRGe\n",
       "1B8uO86wnRuMD2RHhsCv8JItRFr64dy5zs5OOwtPyyHwO7xo2c76+uHU0RXb6SQ7qUqQIfBLvGSd\n",
       "j8PZT09Zi+0iiQU52kcNADHK7olkySl6OQS+BDSQstoQhJcsT4VTm6+J8Lbaz+wIU+87qscFCvRm\n",
       "hr8BCCzc58J0yIonkfifv+InOQFfAtqFxrRmG8JLVpLy8bpV9dyGbZq5Ovluw7HiGTL7WAunNPAU\n",
       "WeNSl+AH1VzGOM1CMifU3cvuEVDR/JRohJdtlNxMXA0cEK3DDEoWa1CnecPdzOvJPiwkjuiRnECW\n",
       "JxX4QrHZDnnFNOK1hqmtq3Z8DNwBVsQQnIuZ7ADhZUvh5U7BuSrtNMQMaTRywx2Z6B+zj4vwm7zl\n",
       "zukU3/HKPaLE1bIl3L3srgAbRBETWW0K4e12TW86cWwZ2AMcgMvwrxxDyH4Mqb06VVSE6nrBHZq+\n",
       "CNvBDBbMPjLVHEfvctZsUEvQ+egUiTc5G6hH9e73n1z1SAd8B5hUDCVXPbKW7k2e8TLwW0IBGXN8\n",
       "3csBLCEkFQBM5YeqkLNUjLk7pnMdx7fwnzUweMHWRyXufNdbaGit2eLPIutCexmZUEyIW45sYPrh\n",
       "nPEEGDxI+WjwditLsedBpkdcC0u4e3pKE4mGMEGwlruQs6CH3KHpRawVZrDg7pO5c123gHqDHDEN\n",
       "aXXa2OmmDA+QgnYtSP7ruRF4AgwQJEqZjXslomrqQ1vS26JDgnPY+sPmnDSiaebO2LZY4pdcp1ex\n",
       "FpjzgsUn5+zW5azyyBoCVkkC6tTkcIBAESvTvXg43j4Bxj9Z4CWWgodxg25jh8PMgR8lcYQfnWMV\n",
       "VxbpLrxguOBunx7z8fsPnfKxwuAFkc9wr1i8wna2j3q8MZkCtCvGk30z42L1EcxEMYVMThN4klZe\n",
       "Qmy4jWaJ+1aplbs6HZ++C0wCPRZEPgCng1N/Cn99g3Bzq/IEGMMwZeu6vJEQQepgWVRMcOUgLIDZ\n",
       "v8U80Gu+cVFF7XnDH3JXp+NTS4FJoMeC2Cf0xvz6CK9fXJbh2yE2Png+AHrIlabFu711ov03k9Jr\n",
       "byxicg276TFkk9UNDL3yuTqu6b52Pg9Mize3wFdUMDhuOWfenzD9t1DfxXMHPf4VzbwKg5eY6c7L\n",
       "QV3CLHWAQ1QPwNN4cKdUdvomGExctQy5o41EKwy79PlPh/yPYv0LcfEkJyx0snIAAAAASUVORK5C\n",
       "YII=\n",
       "\" style=\"display:inline;vertical-align:middle;\" /></a><br>"
      ],
      "text/plain": [
       "<IPython.core.display.HTML object>"
      ]
     },
     "metadata": {},
     "output_type": "display_data"
    }
   ],
   "source": [
    "left_mult_neq_nat = Forall((a, x, y), NotEquals(Mult(a, x), Mult(a, y)),\n",
    "                           conditions=[NotEquals(x, y), NotEquals(a, zero)], domain=Natural)"
   ]
  },
  {
   "cell_type": "code",
   "execution_count": 76,
   "metadata": {},
   "outputs": [
    {
     "data": {
      "text/html": [
       "<strong id=\"left_mult_neq_int\"><a class=\"ProveItLink\" href=\"proofs/left_mult_neq_int/thm_proof.ipynb\">left_mult_neq_int</a> (conjecture without proof):<br></strong> <a class=\"ProveItLink\" href=\"../__pv_it/theorems/0aa1f153ebe2b0af72246d557176fdac30b9b8f60/theorem_expr.ipynb\"><img src=\"data:image/png;base64,iVBORw0KGgoAAAANSUhEUgAAATsAAAAXCAMAAABDGxgMAAAARVBMVEX///8AAAAAAAAAAAAAAAAA\n",
       "AAAAAAAAAAAAAAAAAAAAAAAAAAAAAAAAAAAAAAAAAAAAAAAAAAAAAAAAAAAAAAAAAAAAAAAeYafp\n",
       "AAAAFnRSTlMAq1RmmUTNIjK7EInv3Xbt5cnn9enzas/lfgAAAAlwSFlzAAAOxAAADsQBlSsOGwAA\n",
       "A+tJREFUWMPlmOmSpCAMgOWSO3v7/o+6BEQNomLV/OitpWY6ZXf4kJCEwDT9Q003crjDlym+foNP\n",
       "acCpfG4KLn6QrkseBhbJtu+5+GzTcU/lkLn7czK2S34BzFKq+vX82Y7oZirH2ux631rTI78CojTV\n",
       "8bT9bLeTgsqxJmTP7ViX/AqYZTWk559tu9DI0W4dx7O6S34HRClWq8+fbTo+UzkcY2enUqxLfgnM\n",
       "MkRswX94yHoqJ8086N4+6gCYM36NI8/Os9dd8iXRQY5qxwgwS5kTp3VfM8XbdD+yJYwsNzpPSBaw\n",
       "i+u+AjCYZCx5afcqmZ0k/vyFn+xEviT6iWNYi4UAs9SsfrxuLFgv098hldxoe/VMLDreQxsGkRPp\n",
       "Qi4SYieZa5ymm1gxCQ8PbvdINLx8yywBFokuNzKvAw6YtalHTK/hHbgh240sT9ERKXBUQwqKSJmd\n",
       "IG4Wdkv1L4wiuTubWdps14bGEzHNLmAkByDAIjm83CmkXOsjgauij9n4xnZsoH4sOgHxi76zXbB5\n",
       "evuKx6NJwp61VHhwuwGiwkA2iyHAVc55pbONvQC/wQGkTn/1GMLWYwgp1iVNcUfbke6T8g2mM2DR\n",
       "0TnnBH4Ts26BPQOdN1K0uyvRwCPNd7//lKzHGvIdMbsx1FiNRHq+FnkuBaHZFhw0xvi8pgOY0pRM\n",
       "AjhLsgs3F7bbukuL7Vv6FwcMHfCoY7LtIi0uLBylW/Ct2Dzx1otcyiUs5AxfXtA+HTSeiEmD1Y8D\n",
       "cJU6sBqM0z4vjMjEXU2jHRoaUgcljtv3RJP64U1J9+qsO6Yz4KpTbBdotUBKgzJhHuV5X+eLcTIR\n",
       "FW8qkPXncyHwREwMhr4s+sUSM3vowzGlH5MOS8pp70+bc/YRy/PiereFxznf7d13Z62Y84BVp8Ts\n",
       "QmPWRCIdA280A3OqcSRAspCovaN6Ot8+EfEnD7LOpQIbsMPfrdhNgS6xTR+VMYubfSUVN7ga/sJ2\n",
       "a3eMx+8/bI7HHUMHJDq9vWKKhsrBC7f4fGMyRPQzBeq2mAmYfZRwKYVjJOcOcspPeQi10DLaZw9X\n",
       "sReze3d6+q6YDN0GJDoAp4NTcwh/fYNwd63yRMRpuLp1XV5JqOTr4LHyQFUJygMWb/kJA8HO5cal\n",
       "liiMJUe3M+vmu607PbVUTIZuA1KdVBtLd3WCty/uyprLIdE/eD4QI5RMcwTe3jrx9snl8FoLCwyu\n",
       "bjXdR/I97x8w/Ern4rRm29T53BqrRHdLvjKFgO2Wc2QBlWufUn5XzxV0/y0O/XYMHWKgOq/ndA2j\n",
       "poNmhuaBPAyEO08VpyclYOCqpWs7fnDRHSMudf7Tpv+juf4Fo8EkIexZEkIAAAAASUVORK5CYII=\n",
       "\" style=\"display:inline;vertical-align:middle;\" /></a><br>"
      ],
      "text/plain": [
       "<IPython.core.display.HTML object>"
      ]
     },
     "metadata": {},
     "output_type": "display_data"
    }
   ],
   "source": [
    "left_mult_neq_int = Forall((a, x, y), NotEquals(Mult(a, x), Mult(a, y)),\n",
    "                           conditions=[NotEquals(x, y), NotEquals(a, zero)], domain=Integer)"
   ]
  },
  {
   "cell_type": "code",
   "execution_count": 77,
   "metadata": {},
   "outputs": [
    {
     "data": {
      "text/html": [
       "<strong id=\"left_mult_neq_rational\"><a class=\"ProveItLink\" href=\"proofs/left_mult_neq_rational/thm_proof.ipynb\">left_mult_neq_rational</a> (conjecture without proof):<br></strong> <a class=\"ProveItLink\" href=\"../__pv_it/theorems/4d90806af63536377084114bb9fdcc9776293e830/theorem_expr.ipynb\"><img src=\"data:image/png;base64,iVBORw0KGgoAAAANSUhEUgAAATwAAAAXCAMAAAChxwN1AAAARVBMVEX///8AAAAAAAAAAAAAAAAA\n",
       "AAAAAAAAAAAAAAAAAAAAAAAAAAAAAAAAAAAAAAAAAAAAAAAAAAAAAAAAAAAAAAAAAAAAAAAeYafp\n",
       "AAAAFnRSTlMAq1RmmUTNIjK7EInv3Xbt5cnn9enzas/lfgAAAAlwSFlzAAAOxAAADsQBlSsOGwAA\n",
       "A/JJREFUWMPlWNuypSgM5Sr39Ez3jP//qcNFxCBusKof9lRT5+yUGhZmmYQEQv5PQ3VyecJvU3z9\n",
       "Bl8zgGE5HxIeHgg7RF4GLJKe9xn/cu6Yw3KJ77FR2gyRXwBmKWS9vX25K9oNy7Wx2dFdo0fIrwCT\n",
       "1NX1lPlyxxMcy7XBxcjx6BD5FWCWlUnHvpw838nVaQPXM2qI/A4wSX7Qvn05d2zDcjnM7m4l6RD5\n",
       "JWCWPqTh3bdHrcOSKOpAjXZTC0CtdkcoOXo3Xw2RHxEt5MC2FAFmKXLyNPY32fgx56/sCysfPLmP\n",
       "jxSY3Q5fASgQEUpuan4lspuEn7/SL70hPyI6wlJk8x0BZqlo/Xm/ATojKEXf8dO24+Qcsug4B30k\n",
       "BIak9blWCIOMrpKdltDCCfMTx5sialbuUoMAi0xOt2JXQwNqTJygXLLQcbZG3soHKjo8xo7skLxE\n",
       "UmQ3CCfFdq8elgJJNHfTe5/x+uAYIzbASI9PwewBARbJ4N12IcRRJTmVaLOcqyXy6EIhWXR8WmBX\n",
       "n8jzJhvYvnm4cuJb5pJ+4nhPiBdAmWJZ7xoBHnLLn7rEIQd3ggMIFf9qQ0JLQ3IW7Vqz/AwIjMlD\n",
       "84l0GGe0YtFROe949iFs7Q4tC92300S8LcmLBZzz/vm3ZD7aIX9CzI4MNVwDko4dxZ4NKhJcTQGV\n",
       "wnw7MgKQaJL2xJ70cFtofCLvnC9MGj/iP284BK941dGZvIBrDANXaff0WnQjrPcjGxMK9TnNl7c0\n",
       "s5Zjhhg1aP25AB5SeVoDkjS7CM+4R4gqm5gGQ+RpUyUNiBuSh+ZXhz1xRiseOoU8j4sGVCEUi1mM\n",
       "rNvuznZtRUSUrCtEjsf3cmCGGDFo8mY+rpmobtEP17R+zTs0KscKgG/ZRwwjcha21/nNYQ+cwYpV\n",
       "p4TtjsNWByQtBacVBX2rAARApOjcxYKc9bozxPTIgai2VMAO2KbnhtsTP/nEaX5Sjplcty853TCO\n",
       "+Skk//rb5JA8cboVkc5owyBBY7l4ABfm5ydLiG7DgKqvaXxKQJLbmMZTMOcJguSrvITcUTmts884\n",
       "dJbVyGvzcStecTLquSLSAbj1UF1H/vo44dMhywwxmWHr/vV4PiGjt4PjyWWiqgDpAOxxlULB5KK6\n",
       "nedYF8RG9UORfM7HDUzFyajnilgnFsnCPrXz5sXZWXdWxMdN6AQxQEk2V8CPh1Csv7I5wI6+wuQi\n",
       "OUeu7jbFMVrLig2nXwNm/Yzp0+d8dLQE+xH5iQsO57HnyheUtr+KOV4OSmnBePSwGXmXiQ0Hr7FQ\n",
       "p9emXcEqd9CZqCfIy4DwyVf57UpycONejeuZ57ELuw2HP+r8qUP9Qbb+B5C5JNKRR1XDAAAAAElF\n",
       "TkSuQmCC\n",
       "\" style=\"display:inline;vertical-align:middle;\" /></a><br>"
      ],
      "text/plain": [
       "<IPython.core.display.HTML object>"
      ]
     },
     "metadata": {},
     "output_type": "display_data"
    }
   ],
   "source": [
    "left_mult_neq_rational = Forall((a, x, y), NotEquals(Mult(a, x), Mult(a, y)),\n",
    "                                conditions=[NotEquals(x, y), NotEquals(a, zero)], domain=Rational)"
   ]
  },
  {
   "cell_type": "code",
   "execution_count": 78,
   "metadata": {},
   "outputs": [
    {
     "data": {
      "text/html": [
       "<strong id=\"left_mult_neq_real\"><a class=\"ProveItLink\" href=\"proofs/left_mult_neq_real/thm_proof.ipynb\">left_mult_neq_real</a> (conjecture without proof):<br></strong> <a class=\"ProveItLink\" href=\"../__pv_it/theorems/1789c9e78814d6e98585355c49696b34295d83190/theorem_expr.ipynb\"><img src=\"data:image/png;base64,iVBORw0KGgoAAAANSUhEUgAAATsAAAAXCAMAAABDGxgMAAAARVBMVEX///8AAAAAAAAAAAAAAAAA\n",
       "AAAAAAAAAAAAAAAAAAAAAAAAAAAAAAAAAAAAAAAAAAAAAAAAAAAAAAAAAAAAAAAAAAAAAAAeYafp\n",
       "AAAAFnRSTlMAq1RmmUTNIjK7EInv3Xbt5cnn9enzas/lfgAAAAlwSFlzAAAOxAAADsQBlSsOGwAA\n",
       "A+9JREFUWMPlmOmSpCAMgDnlzt6+/6MuhyhBVKyaH721zEyndMJHE5IQIORfaqqT0x2+Wk+Rf60B\n",
       "w/K5SRi/F3YInuYVSff3jH+46ZjDcsrcw0lpMwS/4GUpZH29fLgj2gXLubbYwUujR+BXvCR1dTxl\n",
       "PtztBMdyrnExcDs6BL/iZVkN6diH2853crbb2fGMGoLf8ZLkm9WXDzcdW7CcDrKTV0k6BL/kZelD\n",
       "at59esg6LImiDtRoH7UA1Gq3BZKjp9mrIfgSaCFHtaWIl6XIidPYr5nhbbaf2RGm1jt5j48mMKsd\n",
       "fgegQEQoiWl3K5GdJPz8lT7pCXwJdISlsOYr4mWpaP14HUbBLYIu7VLdbThOPiOLjnNwCoPAkLQ+\n",
       "VwlhkM1VmqcltNiE+Xu3ewRqVt5Sg3hFJpebmVeDA2pM7AFxTYhTbsp2M8tTdHhcDdmTvERSZC8I\n",
       "dWi77u6VwkgcOUyvXbYTY3AHPIjROj65hwfEK5LBy51CiK0+gvhDuIUp29GJ+rHo+IRf1a3tvMnz\n",
       "25c8IJP44ytJf+92V8CGKFMg61Uj3iaXvNLZxo6D2+EAQsXfegyh2zHkqNWz7cCKse1QdyJdhxkM\n",
       "WHRUzjme3cWsXeFIQeejUzK8tVtiQfnu95+S9WgHvgNmL4YaqwFJx7YizwYV7VunAirF+LKlAyBx\n",
       "SjoC7GGfFLPKtOeexnZ7d2FS+xb/eIPBA7Y6OtsudLWFgVbaNX0tuhDWu5GNyYT6nOJL+jMP54wn\n",
       "YNSg9aPhbVJ5WoORHPMiPHO38FQ2GRpiB8kb2wnj0HdrHlD36qwHZjDgplNs57tqAdUGZcYshtVp\n",
       "Y2ertiIiJetKkPLfcyHwBIwImlyZj2slqo/Qhzalt0mHRmWa8tuSfcSwErNOsst99uh+OGvFnAes\n",
       "OiVm1y5mdUDSUnBaUdCnIkcARBPx2j3Ih+PtEzD9y4Goc6k8zI1+myocbnd+col9+kk5ZXHtSJvv\n",
       "pHT2wnZb9xSP33+YHI8HBg+IdIZ7BQkay8kbt/B4YzIFdAvmqb6Y8Sn7SG5jCk+RnDsIkp/yEHLF\n",
       "ZXSpUcZ7xdEdn74rJkP3AZEOwOng1J/CX98g3NyqPAHTNGzdui5vJGR0dXA8eUxUFSAdgN2eUhyY\n",
       "pdy4bAslF1hcDJKmmmr8bu+OTy0Vk6H7gFgn1sbi+ghvXlyW4dshPj54PgADlEzT8m5vnVj/ZHN4\n",
       "bYVFCq5hNT1GsiPvNxh2pXN1XDN97nxu2CzB3oKvTMFhv+WcWT9p+6eY3+VzBT3+Fk2/A4OHmKnO\n",
       "60FdwazpAE9RP4CneXDnqfz0JDlMXLUMbccaFz0w/FLnP23qP5rrX6L4JMZnrzsvAAAAAElFTkSu\n",
       "QmCC\n",
       "\" style=\"display:inline;vertical-align:middle;\" /></a><br>"
      ],
      "text/plain": [
       "<IPython.core.display.HTML object>"
      ]
     },
     "metadata": {},
     "output_type": "display_data"
    }
   ],
   "source": [
    "left_mult_neq_real = Forall((a, x, y), NotEquals(Mult(a, x), Mult(a, y)),\n",
    "                            conditions=[NotEquals(x, y), NotEquals(a, zero)], domain=Real)"
   ]
  },
  {
   "cell_type": "code",
   "execution_count": 79,
   "metadata": {},
   "outputs": [
    {
     "data": {
      "text/html": [
       "<strong id=\"left_mult_neq\"><a class=\"ProveItLink\" href=\"proofs/left_mult_neq/thm_proof.ipynb\">left_mult_neq</a> (conjecture without proof):<br></strong> <a class=\"ProveItLink\" href=\"../__pv_it/theorems/2ec42432bf80a9038b587ab192d65d16308c8ade0/theorem_expr.ipynb\"><img src=\"data:image/png;base64,iVBORw0KGgoAAAANSUhEUgAAATsAAAAXCAMAAABDGxgMAAAARVBMVEX///8AAAAAAAAAAAAAAAAA\n",
       "AAAAAAAAAAAAAAAAAAAAAAAAAAAAAAAAAAAAAAAAAAAAAAAAAAAAAAAAAAAAAAAAAAAAAAAeYafp\n",
       "AAAAFnRSTlMAq1RmmUTNIjK7EInv3Xbt5cnn9enzas/lfgAAAAlwSFlzAAAOxAAADsQBlSsOGwAA\n",
       "A+pJREFUWMPlmNnSnSAMgGUTCJDuvv+jlkXUICp2enE6ZdqT0T98SEhCYJr+paYbOdzhb+vp6V9r\n",
       "yKl8bgr77yV0wcO8Itn2nosPNx13VA6ZuzspY7vgF7wspaqv5w93RJipHGszdF5a0wO/4iVpquNp\n",
       "++FuJwWVY03IjtuxLvgVL8tqSMc/3Ha+kaPdzo5ndRf8jpekWK0+f7jp+EzlcJCdvEqxLvglL0sf\n",
       "UvPu00PWUTlp5lD39lFAZGDcGkiOnWavu+BLIGCOamCEl6XMidPC35nhbbYf2RGG1jt5j48msAt0\n",
       "vwEZTjKUxLS5lcxOEr7/SL/sBL4EuomnsBYL4WWpWf35k5LLSnZcrLsNx6lnXtFxDk9hEDiR4HOV\n",
       "EDrZXKd5wsSKTbi/d7tHoOHlLbOEV2RyuZF5HXDIrI09wLL4Idy6EduNLE/REXEtVEvyikiZvSDU\n",
       "kWHZ3CuFkdxzmFmabCf74Aa4E6N1fHIOj4RXJMeXO4WUa33kIPPEkO3YQP1YdHzCL/rWdt7m+W1L\n",
       "HohJ/B4Jyt+73RXwQFQpkM1iCG+Vc17pbGMn0G1wRKnjv3oMYesxZKvVQRjVHO+OtiPdJ+UaTGfA\n",
       "oqNzzvH8LmZhwT0FnY9OyfBQMhcPJN/9/FWyHmvAd8DsxVhjNRDp+FrkQdDRvnUqqFOMz2s6wClO\n",
       "yfgUqNvurnm7iAfbbd2lTe1L/C8OGDrgUcdk24WmtrB4lLCkz2LzdPoCiMmE+ZziS/qzD+eMJ2DU\n",
       "YPXnwFul9qwG47TPaxKZu4anhmRojB3UNikBAq5tR7pXZ90xnQFXnWI731QLpDYoM+YxrE4bO18M\n",
       "yIhUvClByl/PhcATMCJYcmXRr5WY2UMfjyn9mHRYVI5bf9ycs49YPhmjzLXtSPfdWSvmPGDVKTG7\n",
       "NDFrApHA0BnN0JyKHIkYTSRq96AejrdPwPQnh7LOpfIoN/ptqnAEbPzkEtv0k3LK4mZfyHWvOBRl\n",
       "xHZr9xSPX7/ZHI87hg5IdLp7xRQMlYM3buHxxmQI6GbK020x41P2UTEQwaVIzh3klJ/yEGqhZbR2\n",
       "eStwvfpu705P3xWToduARAfxdHBqT+GvbxBublWegGkaULeuyxsJFV0dnUgeE1UlKocI61OKAzuX\n",
       "Gxezb5MxgKXpxuzWnZ5aKiZDtwGpTqyN5fUR3r64LKO3Q6J/8HwABiyZ5si7vXXi7RPk8FotloKr\n",
       "W033kXx3zAOGX+lcHddsmzufGzVLgFvwlSkEbrecI+unoH2K+V09V9D9rzj02zF0iJHqvJ79NI6a\n",
       "DukUzQN4mId3nipOT0rgwFVL13b84KI7Rlzq/KdN/0dz/Q03CCRJ4bXCWAAAAABJRU5ErkJggg==\n",
       "\" style=\"display:inline;vertical-align:middle;\" /></a><br>"
      ],
      "text/plain": [
       "<IPython.core.display.HTML object>"
      ]
     },
     "metadata": {},
     "output_type": "display_data"
    }
   ],
   "source": [
    "left_mult_neq = Forall((a, x, y), NotEquals(Mult(a, x), Mult(a, y)),\n",
    "                       conditions=[NotEquals(x, y), NotEquals(a, zero)], domain=Complex)"
   ]
  },
  {
   "cell_type": "code",
   "execution_count": 80,
   "metadata": {},
   "outputs": [
    {
     "data": {
      "text/html": [
       "<strong id=\"right_mult_neq_nat\"><a class=\"ProveItLink\" href=\"proofs/right_mult_neq_nat/thm_proof.ipynb\">right_mult_neq_nat</a> (conjecture without proof):<br></strong> <a class=\"ProveItLink\" href=\"../__pv_it/theorems/47d863835e75bbb90c3b4b8948bd0b41997b6e770/theorem_expr.ipynb\"><img src=\"data:image/png;base64,iVBORw0KGgoAAAANSUhEUgAAATsAAAAXCAMAAABDGxgMAAAARVBMVEX///8AAAAAAAAAAAAAAAAA\n",
       "AAAAAAAAAAAAAAAAAAAAAAAAAAAAAAAAAAAAAAAAAAAAAAAAAAAAAAAAAAAAAAAAAAAAAAAeYafp\n",
       "AAAAFnRSTlMAq1RmmUTNIjK7EInv3Xbt5cnn9enzas/lfgAAAAlwSFlzAAAOxAAADsQBlSsOGwAA\n",
       "A+VJREFUWMPlWNmOpDAMJBc58d78/6euc0EMAYI0D73aaKYtWnGlXZQdJ9P0Lw19sMMOXz1PT//a\n",
       "AE7t81DQ/166LvAwXrZs+56LD6eOe2qH6O4GZWwX+AVeslLVr+cPF6KbqR0bs+t8aU0P+BVetKYK\n",
       "T9sPl50U1I4NITuyY13gV3jJViI9/3DuwsGOup2FZ3UX+B1etKKwPn84dXymdjjJTqpSrAv8Ei/Z\n",
       "sMQR/KenrKfWATBnfDddNPOgy5bo2Sl63QN2kHLXsUG8ZGUqnNZ9TYS31X5kRxh633klYDDJpdNJ\n",
       "BGTHrhlKbLKSSSTLz1/xkx2B/cRj8op1EC9ZzerH61Z1kR63aRF257sNx6tnyDzHezilwcKJFTrG\n",
       "6SZ2LvQupAaikMrDvewKoOHZg9lBvGyj5EbiajYqYNaiB2eTd6TTvOFu5PXkOQLTQx2RgiI2Jots\n",
       "KpVbd30l6SyFfXMQkpJdYAwhxKwMcALs42XL4eVOIaWp7TTE3Gk0csMdG+gf85wQ4Vd9y93Uxpli\n",
       "2zgJNoWuasLdy24DVDEpzWpOgH28Yuf0phPZXoDfwAGkxr96DGHlGLL36txwhTX0gjviPil/gOks\n",
       "mOfoVFkCv83ZFCw6ulOBdCu0dYsvpN79/pOrHjsBJxXDuWG5wCvW89LkuUUj8zUU0DH7Z162oQlD\n",
       "Mgjtdn64wZzlqs/d5i5tHN/wXzQwdMF2jkncLYdCZqG1DksGCxPR/BZr/MVsnngKRNiHc8YGzOrH\n",
       "EF6xuhZ7iTLd4ppEwi0a1i4SDeigRMsd5izYLnfEvYp1h+ksWOZk7sLhGE96g4mvxkl0VJ0WJZLB\n",
       "MeMk6WnKLz43AhVYsihlMYpXLTN76kPLfFt0GE7GpgA356QRyzN3zrfFkr7k3X0Xa4U5L1jn5Jxd\n",
       "D6yYpbVOAiARotfdOQbeaAY5qEU9HG8rsMMmTq56FI/iojpjHyP2EhIlsYHFybGKG090h68eLrgr\n",
       "7jEfv/+wKR93GLogmdPdK6bFUDvaRz3emDSAfh7F08e+MsTqo4SLYsJMTlAySSsvoVbaRovEfavU\n",
       "nbvdnZ6+K0wC3RYkcwBOB6fjKfz1DcLNrUoGjD/WBT6Kd7pAUJgE4EVUDIJIUB7AlaeYIXbONy6m\n",
       "qj1v+F3udnd6aqkwCXRbkM7B3lheH+Hti8syejsk+gfPBLhAridjeLe3Tvz45FJ6lcYiJle3m+5D\n",
       "NlndwPCrOVfHNXusnc+D8ry4a2DsVaUaxrt7f8odn7C+q+cOuh9W47fD0CVGuvN6HNcwSh3QEM0D\n",
       "8DAe3ElfnJ6UgIGrli53vHmfO4y4nPOfDv0fxfoXbTIkJ8giuXcAAAAASUVORK5CYII=\n",
       "\" style=\"display:inline;vertical-align:middle;\" /></a><br>"
      ],
      "text/plain": [
       "<IPython.core.display.HTML object>"
      ]
     },
     "metadata": {},
     "output_type": "display_data"
    }
   ],
   "source": [
    "right_mult_neq_nat = Forall((a, x, y), NotEquals(Mult(x, a), Mult(y, a)), \n",
    "                            conditions=[NotEquals(x, y), NotEquals(a, zero)], domain=Natural)"
   ]
  },
  {
   "cell_type": "code",
   "execution_count": 81,
   "metadata": {},
   "outputs": [
    {
     "data": {
      "text/html": [
       "<strong id=\"right_mult_neq_int\"><a class=\"ProveItLink\" href=\"proofs/right_mult_neq_int/thm_proof.ipynb\">right_mult_neq_int</a> (conjecture without proof):<br></strong> <a class=\"ProveItLink\" href=\"../__pv_it/theorems/f70315985c4b06e6a4a5347573a20e7b87a0b4b30/theorem_expr.ipynb\"><img src=\"data:image/png;base64,iVBORw0KGgoAAAANSUhEUgAAATsAAAAXCAMAAABDGxgMAAAARVBMVEX///8AAAAAAAAAAAAAAAAA\n",
       "AAAAAAAAAAAAAAAAAAAAAAAAAAAAAAAAAAAAAAAAAAAAAAAAAAAAAAAAAAAAAAAAAAAAAAAeYafp\n",
       "AAAAFnRSTlMAq1RmmUTNIjK7EInv3Xbt5cnn9enzas/lfgAAAAlwSFlzAAAOxAAADsQBlSsOGwAA\n",
       "A+BJREFUWMPlmOmSpCAMgOWSO3v7/o+6hEMBUbFqfvTWUj2dsgc+TEhCYFn+oSY7OT3gyzq+foNP\n",
       "aUBb+dwEXPyDmyF5Gpgk2X+n7LNNR20rp8w91knpIfkFMEouys/rZzuiWVs511Yz+lWrEfkVEKUq\n",
       "jif1Z7sdZ62ca4yP3I4Mya+AURZDWvrZtnOdnB02cDwth+R3QJQsW339bNPRtZXTMXZ2KkGG5JfA\n",
       "KJ3H5uyHh6xtpQEgRtlhtEhiQeYd0ZKz9nJENhBj15BJYJQ8Jk5tvkbF23Q/syXMLHeaCAgs3A8K\n",
       "CReMo7dEYodX8egk/ucv/CY92S4Ug5dtk8AoJSlfrxtx2vLwqVLJTW8rnompj7XQh4GnjWQS1TQL\n",
       "OYekcbF+yEal7sHtMlHRNIToSWCS6HIzelUbFRCtwwgfXsMaMFO2m1me1IeF8BAdyYlGYqzwOlGZ\n",
       "rTzx6Dk+G1/1fiT60EjEoIPDqHQwCUySwsudgvNcHzFcL1kv/Y3tyET9mPo4xG/yznZLrWZyn2IT\n",
       "p6PmosTbg9vtRIFBqTY1CcxyjSsdjW0Z2B0OwGX4lGMIyceQpljnbYqrbdcMX4TtMIMJUx8ZM4uj\n",
       "dzEbdQ3jzCk/mg3qtEV9m+9+/0lZj5zI0Y3hXLBcALO0NBd5JgSh2hccJEb/SvM2tASVVECb2j5M\n",
       "UnVhu30419i+hT9WYdoJ6z4q2s63mUxDLU3IGMTFDH9WFV+YrAuNejD9dNDYyaR8TQGzlI6UYFwO\n",
       "vTAiAzebRho0NIQBolIqmKJ9++pNm+HFWQ/MYMLcJ9mujci2NFjopgwP48SgREFbUF/igbfvR8+F\n",
       "QCFzgr7MZoFFEnWEPtSWr5MOCZ1DVRA25+gjmsZlt6YJnHaVj+GHsxbMecLSJ8Xs1ppF+VoaDhDs\n",
       "wEbVnSFglSSQdPLi6XxbyCYUcXyTs8AObHCkZocp0CV2GHbGLK6OlRRU4TrZC9vl4RiP33/oGI8H\n",
       "pp2w6TPaKxavWjl54eafb0wqol1ngbIvLB1mH8FMSOEYyRHFl/gUpxBbW0bb6MfCj2L2GN6evgsm\n",
       "QvcJmz4Ap4NTdwh/fYNwd62SiPiyxtFZ4OkCQYQoAIuVB0I4CAtYvMUnDBG9phuXUqIQEtxZr2SY\n",
       "7/bh7amlYCJ0n7DtE2pjbq5O8PrFXVl3OcTGB89I9JDyyRzw9taJ9k8mhlcuLDC4htX0GEmPvF9h\n",
       "6FWfi9Oa7lPnc+vs7M01mTLgYhp4t4DC9E8hv4vnCnqsVzXuwLRTTFTn5TQuYdZ00GmoHsjTQLjz\n",
       "fXZ6EgwmrlqGtqPVeh4YdtnnP23yP9L1L58CJCHm/XcJAAAAAElFTkSuQmCC\n",
       "\" style=\"display:inline;vertical-align:middle;\" /></a><br>"
      ],
      "text/plain": [
       "<IPython.core.display.HTML object>"
      ]
     },
     "metadata": {},
     "output_type": "display_data"
    }
   ],
   "source": [
    "right_mult_neq_int = Forall((a, x, y), NotEquals(Mult(x, a), Mult(y, a)), \n",
    "                            conditions=[NotEquals(x, y), NotEquals(a, zero)], domain=Integer)"
   ]
  },
  {
   "cell_type": "code",
   "execution_count": 82,
   "metadata": {},
   "outputs": [
    {
     "data": {
      "text/html": [
       "<strong id=\"right_mult_neq_rational\"><a class=\"ProveItLink\" href=\"proofs/right_mult_neq_rational/thm_proof.ipynb\">right_mult_neq_rational</a> (conjecture without proof):<br></strong> <a class=\"ProveItLink\" href=\"../__pv_it/theorems/6f0e7653f560331766d404bf4933b8b0ddee9b250/theorem_expr.ipynb\"><img src=\"data:image/png;base64,iVBORw0KGgoAAAANSUhEUgAAATwAAAAXCAMAAAChxwN1AAAARVBMVEX///8AAAAAAAAAAAAAAAAA\n",
       "AAAAAAAAAAAAAAAAAAAAAAAAAAAAAAAAAAAAAAAAAAAAAAAAAAAAAAAAAAAAAAAAAAAAAAAeYafp\n",
       "AAAAFnRSTlMAq1RmmUTNIjK7EInv3Xbt5cnn9enzas/lfgAAAAlwSFlzAAAOxAAADsQBlSsOGwAA\n",
       "A+pJREFUWMPlmOuypCgMgLkKBMzszuz6/o+6EEAFscWq+dFbQ53TKbvhw4QkBBj7PzXTyekBv63j\n",
       "6zf4moailc9N480PCobkaWCWfP9eyC+3nfCtnLL3WCnrhuQXQJJK16+XL3dFWFo51xYYfevsiPwK\n",
       "mKStrmfclzuekq2ca1KNHI8Pya+AJKslvfhy44VOzg4buJ4zQ/I7YJKymH35ctuJpZXTYXZ1K82H\n",
       "5JdAkmFNLfhvj1rfSkDkYP0wYAz3aMq+6PlVfTMiA1L4Ap8EklSUPB38Jh0/5vyZfWFmwfNEyJGp\n",
       "dVBPhGgdt2WSPPxKkZusP3+lT96TPRMpfuU2CSRpeP14vwF6pzhv1vHTtuP1MzL38R77SFhFI6VJ\n",
       "egLj16iEQGVEsaoID45XiFbkIdxNArNMTjej17FZIXcuDjA+aeilmDPezALlPjJGiO5IQTcyhYs6\n",
       "JyvY6pMi31mL9W3vSboPjkyMRggpMAP2vBtglgLfbRdKlSrJm2Q2kNJMGY9PFJK5T0gTbOaT8dhJ\n",
       "z+JA1SjBke66htyD4+1EneLSbrbn3QCLXGipcxxK9DscUZn4Vw8kPB9I9qLdWkG/IcOx8ZrxTPuW\n",
       "M5ox9zGUXYL4FLakbBwHlxwJG55Tl1jbnPfPvznz8QuZHBmvdcsNsEgvSrEHq4mmr6qgSQlgEWUv\n",
       "YlElGxjs5pGQzXhnvH28cqn9iP/y4LB2xnMfS8Zb22zm8Cwhpg0eKM1fdU1vzBeWl1a6pyPHTub1\n",
       "YwpYpAm8BiQ79GKSuMWLDSRLo2N616kaDc8anF61GV8ddueMZix9svHaoGwrBCY2CyqO04NKJRlD\n",
       "xKBTTWlT/eZaDlSy4smb5SywSm6P6Mez6c95h8fOsTaQC/mIE0w/he15/OGwhTOYsfbJYbu1drHr\n",
       "WYJCjIaQoyoPOHprOGalVv101q1kiMWc2swssANDGunkkUaST+yw1Dlmcnus5OOGUcankPzrb0ch\n",
       "uXO6GZs+ow2DrbaVkxdw6/P9yYnol1mg6QvMkBKQlhDTeApmQilGTzSF3ppy2pLP+OYu6zDeMb49\n",
       "ilcOUfcZmz6IlzNUdyJ/fZ3w6ZIlE9PLQhCzwMttgo5xgF4ml4kQhdojQnlKQeKoqD7uc8CvauH2\n",
       "pkjex7cHmMoh6j5j2ycWyQrujvPuxd1Zd1ckx4dQIq6YU8oc8OMllOifgAKsnCscFckUubbbFMe0\n",
       "IysenH4OfDrPuD59PrfO0Cvck4VEpaeBn1ZQQ/8Uc7weJAQlZPSwJ+OdBh6cdo6JOr0ezQ3O2g47\n",
       "Fe0DeRqIn7xfXp60RD8+q0n75HniZN2DI2/7/KnN/EG6/geL+iTSpdveuwAAAABJRU5ErkJggg==\n",
       "\" style=\"display:inline;vertical-align:middle;\" /></a><br>"
      ],
      "text/plain": [
       "<IPython.core.display.HTML object>"
      ]
     },
     "metadata": {},
     "output_type": "display_data"
    }
   ],
   "source": [
    "right_mult_neq_rational = Forall((a, x, y), NotEquals(Mult(x, a), Mult(y, a)), \n",
    "                                 conditions=[NotEquals(x, y), NotEquals(a, zero)], domain=Rational)"
   ]
  },
  {
   "cell_type": "code",
   "execution_count": 83,
   "metadata": {},
   "outputs": [
    {
     "data": {
      "text/html": [
       "<strong id=\"right_mult_neq_real\"><a class=\"ProveItLink\" href=\"proofs/right_mult_neq_real/thm_proof.ipynb\">right_mult_neq_real</a> (conjecture without proof):<br></strong> <a class=\"ProveItLink\" href=\"../__pv_it/theorems/602057eeb180dffb6d931638c03d07fb6285a2de0/theorem_expr.ipynb\"><img src=\"data:image/png;base64,iVBORw0KGgoAAAANSUhEUgAAATsAAAAXCAMAAABDGxgMAAAARVBMVEX///8AAAAAAAAAAAAAAAAA\n",
       "AAAAAAAAAAAAAAAAAAAAAAAAAAAAAAAAAAAAAAAAAAAAAAAAAAAAAAAAAAAAAAAAAAAAAAAeYafp\n",
       "AAAAFnRSTlMAq1RmmUTNIjK7EInv3Xbt5cnn9enzas/lfgAAAAlwSFlzAAAOxAAADsQBlSsOGwAA\n",
       "A+VJREFUWMPlmOmynSAMgFllNd19/0ctBFAQVJy5P06ntPdkdODDhCQECPmXmjrJ6QFf3U+Rf60B\n",
       "a+VzkzB+L+wQPM1Lku7vGf9w0zHXyilzD5XSZgh+wUMpZHm9fLgj2qWVc22xg5dGj8CveFHq4njK\n",
       "fLjbCd7KucbFwO3oEPyKh7IY0rEPt50/ydlhveMZNQS/40XJs9WXDzcdW1o5HWSdV0k6BL/kofRr\n",
       "bN59esi6VloAarUbhouiDlTeEh3ttFcjsAWMXUsneSgFJk5jv0bD22w/syNMrXeaCSgQsQ4qCR+s\n",
       "Y7aE4rtbCXSS9eev+EvPYEdYDF6+TfJQKlp+XofR6hZBl7qGuttwnHxGpj7OQRcGK2skV1FPS2if\n",
       "6K3HAiIblfl7t8tAzdIIaiZ5SUaXm9Gr2qiAGhNGQFgt4pSbst3M8qQ+PKyGPJO8bGQMFlFlKrsd\n",
       "/oWus+av0idHkmIIDjbw0Qk8dMAxL0kGL3cKIXJ9BOEf4RambEcn6sfUx0f8pm5tR2o9UbfdJt6g\n",
       "6rIE3L3b7UAZg1JvugOOeVkuuNJobMfB7XAAocL/cgyh+Rhy1OpoO7BibLtmOJHuhBlMmPoozCye\n",
       "3cYsKhsG2i5B2g3qvMXWJt/9/pOyHu3A6MXQFywXvCwdy0WeXVWwfFEFVIz+heVtiASVdEDbwz4x\n",
       "ZpWpzz2V7fbhwsT2LfzxCtNOWPfRaLv1lMgM1NKGlEE9pvhe1/jFdCEMFeHm4Zyxg2n5meJlqTwt\n",
       "wUgOvQhHbvZhZaOhIQyQvLKdMK75tuqhGV6c9cAMJsx9ku386Rjf1AaEbdqKMFAOSpRoDBYiTjQ1\n",
       "TfaWvhAoYEGjK/NZXpFUH6EPteXrpENDZxrz24I+YliKWdd8frvIx/DDWQumn7D0STG7nayi11pa\n",
       "ARAMwUfVnaXgtKKQlFrlw/G2gG0o4sSmZnktN3hnrGP4kUKiS+yw2Dlmce1Ine+kdPbCdnl4jMfv\n",
       "PwzG44FpJ2z6DPcKsupWTt64rY83JhXQLbM8da4rfcw+ktuQwmMkI0oQfMIp5NaW0alGGe8Vx/D2\n",
       "9F0wCN0nbPoAdAen8yn89Q3Cza1KAsaPtZ7N8roLBBmCAByPHhMgAqQDsPkpRohZ0o1LXii5wOJC\n",
       "+FR1VuV3+/D21FIwCN0nbPuE2lhcH+HNi8uy9naIjw+eCFwh5ZM53u2tEzs/WQyvXFjE4BpW02Mk\n",
       "O/J+hWFXfa6Oa+acO59ba+fVXoMZByGneXfrJ+35KeR3+VxBj9Wqxh2YdoqZ6rwcxxXMmg5aFfUD\n",
       "eJoHd67PuyfJYeKqZWg7Vq3ngeGXff7Tpv4jXf8CnjkkxmrjuYoAAAAASUVORK5CYII=\n",
       "\" style=\"display:inline;vertical-align:middle;\" /></a><br>"
      ],
      "text/plain": [
       "<IPython.core.display.HTML object>"
      ]
     },
     "metadata": {},
     "output_type": "display_data"
    }
   ],
   "source": [
    "right_mult_neq_real = Forall((a, x, y), NotEquals(Mult(x, a), Mult(y, a)), \n",
    "                             conditions=[NotEquals(x, y), NotEquals(a, zero)], domain=Real)"
   ]
  },
  {
   "cell_type": "code",
   "execution_count": 84,
   "metadata": {},
   "outputs": [
    {
     "data": {
      "text/html": [
       "<strong id=\"right_mult_neq\"><a class=\"ProveItLink\" href=\"proofs/right_mult_neq/thm_proof.ipynb\">right_mult_neq</a> (conjecture without proof):<br></strong> <a class=\"ProveItLink\" href=\"../__pv_it/theorems/9f0c98ae9a20263d56ed8bcaf58e6032f49fb4490/theorem_expr.ipynb\"><img src=\"data:image/png;base64,iVBORw0KGgoAAAANSUhEUgAAATsAAAAXCAMAAABDGxgMAAAARVBMVEX///8AAAAAAAAAAAAAAAAA\n",
       "AAAAAAAAAAAAAAAAAAAAAAAAAAAAAAAAAAAAAAAAAAAAAAAAAAAAAAAAAAAAAAAAAAAAAAAeYafp\n",
       "AAAAFnRSTlMAq1RmmUTNIjK7EInv3Xbt5cnn9enzas/lfgAAAAlwSFlzAAAOxAAADsQBlSsOGwAA\n",
       "A99JREFUWMPlmOmynSAMgFllNd19/0ctu2wqdvrjdMrcezI68GFCEgII/UtNdHJ5wN/uJ9C/1oC0\n",
       "8rlxmL9negpe5kWJy3tCP9x0xLRyydxTpaSagl/wgmQ8v94+3BH11sq1tunJSyVn4Fc8L2V2PKE+\n",
       "3O0YbeVao2zidngKfsULMhvSkA+3ne3k6rDR8ZSYgt/xvKTJ6tuHm45srVwOssGrOJ6CX/KCtLtv\n",
       "1nx6yJpWagCspZmGi8AGRNoSDR60FzOwhhC7Gi/ygmQhcSr9dzS8zfYrO8LSeseZAANi+6SSsM46\n",
       "6ogoWtyKBSfZv//wv7gHG0R88NJjkRekwPnnT0ouxXBZEr8EN30Nf+bFPsbAEAY7aSQVXk+N8Jjo\n",
       "tQ0FRDIqsfdul4CSxBFYLfKi9C63ole1UQFWyo3QCrsPIcqs2G5leWIf6taC9yTLG+mDhVWZSh+n\n",
       "fwXX2dNHyc6ROJuCnQ2sdwELA3DOi5LAy52CsVQfGR1moku2wwv1Y+xjPf4Qt7ZDtZ5Bt2ITq4Lq\n",
       "PAfcvdsVIPdBKQ85AOe8JLew0sHYhoIpcAAm3F8+huB0DCm1uqaSd8e72nbNcMRNh5lMGPuIkFks\n",
       "uY3ZoKwbqIcEqQ+o8xbZm3z381fMengABy+GsWC54CVpSCry9C6c5bMqIHz0byRtQ8ipJK0P1LK7\n",
       "C9IvYmW7Mpwp3764f1ph2gnrPjLYbu8SmYJaapcysA0pftTVfzHeUPw4qh7OGQWM888SL0lhcQ5G\n",
       "dOqFaOAmHxbaGxrcAF6Uoprqa9s1w7OznpjJhKlPtJ3tjvFNbYDIITVzA/mkRPHGIC7iWFPTpOUe\n",
       "C4EMZti7Ml3lZYnlGfpQW75OOth1dkWB25yDjyiCpOTy2nbN8NNZM2acMPeJMXt0VpF7LTUDcIag\n",
       "s+pOYzBSYIjftvOH420Ga1fEsUOs8lqu805fx9AzhXiXKDDf2WdxeS5k2iuqoqyxXRru4/HrNxXi\n",
       "8cS0EzZ9pnsF2mUrF2/c9scbkwpotlWe6OtK67MPd4GojY/kgGIoPIUp+NGW0cKErcDM6rtzeHv6\n",
       "zpgALRM2fQCGg1N/Cn99g3BzqxKB/mO1Jau84QKBuyAAQ73HOAgDbgB0evIRorZ44yLPbdIFMJPT\n",
       "mC3D21NLxgRombDt42pjdn2EVy8uy9rbITo/eAbgDjGfrPFub51I/6RDeCWL+eCaVtNzJDkds8KQ\n",
       "qz5XxzXV587n1tp519dgQoHxZd7d+nHdP7n8zp8r6Lla1bgT006xUp3ns5+AVdNBq6J8AC/z4M71\n",
       "6fDEKSxctUxtR6r1PDH0ss9/2sR/pOtvMkkkSUJLX54AAAAASUVORK5CYII=\n",
       "\" style=\"display:inline;vertical-align:middle;\" /></a><br>"
      ],
      "text/plain": [
       "<IPython.core.display.HTML object>"
      ]
     },
     "metadata": {},
     "output_type": "display_data"
    }
   ],
   "source": [
    "right_mult_neq = Forall((a, x, y), NotEquals(Mult(x, a), Mult(y, a)), \n",
    "                        conditions=[NotEquals(x, y), NotEquals(a, zero)], domain=Complex)"
   ]
  },
  {
   "cell_type": "code",
   "execution_count": 85,
   "metadata": {},
   "outputs": [
    {
     "data": {
      "text/html": [
       "<strong id=\"strong_bound_via_right_factor_bound\"><a class=\"ProveItLink\" href=\"proofs/strong_bound_via_right_factor_bound/thm_proof.ipynb\">strong_bound_via_right_factor_bound</a> (conjecture without proof):<br></strong> <a class=\"ProveItLink\" href=\"../__pv_it/theorems/3ba70e85cb9b0d2ac84d5173ba4682866af664c40/theorem_expr.ipynb\"><img src=\"data:image/png;base64,iVBORw0KGgoAAAANSUhEUgAAATwAAAAXBAMAAABkN+50AAAAMFBMVEX///8AAAAAAAAAAAAAAAAA\n",
       "AAAAAAAAAAAAAAAAAAAAAAAAAAAAAAAAAAAAAAAAAAAv3aB7AAAAD3RSTlMAq1RmmUTNIjK7EInv\n",
       "3XZ/CtNrAAAACXBIWXMAAA7EAAAOxAGVKw4bAAAEIUlEQVRIx81WXWgcVRg9k9nJzt7dblYEpS2E\n",
       "hRZ8aWQpRWkf4kqqtUpqpCpEpS4qBBVkCn2J1rB98sFgYmos8SGOUhSaGscWK+1DWAqSarEEbFEI\n",
       "DRMbKRoJQamRPIjf/ZnZ2Zm7tsKKfnD27uyevd/Z7+9e4F+xtELCnCbkW96gJfaDQsIONCHHzfIl\n",
       "CvxhS4vVtXkSScuXtOSkXZN4gL8faLG8jxQ09pKWnLR2V+AIT/Joi+X1KGhsh5acNLMswFVmiy2W\n",
       "V1PQWM6tZ3UgJGvsawGTiqG91aVXkdAmLSw+87IbkHX2vMQ3V69ebLG8lCeBgzND4YdsZdObpyhT\n",
       "haBJ5t2Q3ECc7gEj0mcQeAh47xY8/hN5PEIc1ized+s7LPq9FDMVrKmFCLmB6G2DuQrcA4GDSBea\n",
       "Zmn+hTt88S5zc1HZmWBCbChKnCyhN/z6Xtzn3k5bylI79C0i5CjRLvbCoF7dBoGMm+3Tuntr4zh8\n",
       "L/uaTp4bfWDyqRv9Qfn3STwKzPPnT3nEqnhQeF/lr8Zz9V6pE9nv/AWXkKOYjECgzdd3RoqyDt83\n",
       "pzXyDm1qOIDeEUfVBXQ4jfK+ArshAlQWH18Sx0FNIy8gXhaMdYxUgWcgUenmpdD9Bf9qZc8SubAW\n",
       "YYixTfLyxyPy8ktDe2g5ciedTgVx4LDTyw7s2+hH6XXkig3JZX+KIgrPqTWcoGjMJZPbSExV8Ast\n",
       "XQqnaJCz7+w17t7Z2E5bT3e4w0yMat8bvBaRd90Ypb/dTxKZv27zOHzijHBp91dhr2ODGhoZX4D9\n",
       "CqNyV1AB40YNVJzmaKw14kRkCniblp0KhykKqbJwZmLSpuXVLvxkCVf+3rOIyCtl/Cr6z/GEfjiX\n",
       "5452Y1g439tH8nK+apKCxCS6yuWgy/44XrOKao6I+bHghuQoEamC9RstjygYVV4Aedm+a+J1MzrN\n",
       "Fycmxii5nxejtUfVZZ8X7wzP4GK+xKKcsbOU3A6VXHtO4oPlNzqrQfT2+Vu381yGfWjKwRcngm1e\n",
       "4iquKIjecjK7ONmuiUvWFVywPVl7T5yLyhumC9vUmCiZvhxtyNZw9ASPzWS0NfC9gsZejxyrAyE5\n",
       "NqKo09NzErJ9nJH97hQOZyspTNEvrFU5q2mwRFojXTsDykH+KJdXfRbMw6x9Yxc54ifQCh6Lnvs7\n",
       "mt8W/v6ScAYneRGUJGRX9dx9GsPF1I8zP9OCrTsrGKTgWK+8zHZX6tHb9/QKj7FJ+tp63uV5fnz7\n",
       "cgn5MTmWHw6r25HQ3IKTl6M4cYFqCxhUiJgqnSJzMiWwsxPjkT0aT5Nj+Bhcoyy1sbhH3vZMe0vT\n",
       "iI4Ttyzx8jymEBlMrloM/8nEtvEPOi2K6lPNDrghhYRdb0JO3KodiegNMFisbu+m8vYv80GD/4ml\n",
       "/xu3fwHTqR3NRL5y/wAAAABJRU5ErkJggg==\n",
       "\" style=\"display:inline;vertical-align:middle;\" /></a><br>"
      ],
      "text/plain": [
       "<IPython.core.display.HTML object>"
      ]
     },
     "metadata": {},
     "output_type": "display_data"
    }
   ],
   "source": [
    "strong_bound_via_right_factor_bound = (\n",
    "    Forall((a, x, y), Less(Mult(a, x), Mult(a, y)), \n",
    "           conditions=[Less(x, y), greater(a, zero)], domain=Real))"
   ]
  },
  {
   "cell_type": "code",
   "execution_count": 86,
   "metadata": {},
   "outputs": [
    {
     "data": {
      "text/html": [
       "<strong id=\"strong_bound_via_left_factor_bound\"><a class=\"ProveItLink\" href=\"proofs/strong_bound_via_left_factor_bound/thm_proof.ipynb\">strong_bound_via_left_factor_bound</a> (conjecture without proof):<br></strong> <a class=\"ProveItLink\" href=\"../__pv_it/theorems/efc26c38ef541c6ccbf06d7782c734e4a3a43bb30/theorem_expr.ipynb\"><img src=\"data:image/png;base64,iVBORw0KGgoAAAANSUhEUgAAATwAAAAXBAMAAABkN+50AAAAMFBMVEX///8AAAAAAAAAAAAAAAAA\n",
       "AAAAAAAAAAAAAAAAAAAAAAAAAAAAAAAAAAAAAAAAAAAv3aB7AAAAD3RSTlMAq1RmmUTNIjK7EInv\n",
       "3XZ/CtNrAAAACXBIWXMAAA7EAAAOxAGVKw4bAAAERklEQVRIx81WX2hbVRj/3dx7m5uTNI0Ik61Q\n",
       "Ahv4skoYQ9keukqnc8pmZCpUZQYVigpyC3upzpI9+WCxtbOO+lCvMhTsbK8bTreHEhTppigBOxTK\n",
       "yqmrVK2UosxIHsTvnHNzc5t7wyZE9INfzr0nX8755fsP/CsS9xASu4nyTR/QEvnBQ0iONlFuFJMr\n",
       "ZMTL9hazi7kKYUnnIpXDck3hHvE80GJ673mIkOcilcPS5kicEE4eazG9Pg8RsjtSOSx6r4Rgmcy2\n",
       "mF7JQ4SknLpXB3zlCPlSQqdgaGt16BUUIp3mB5++4NSUo+Rpha+vXv2qxfQMV4Gtb3v1bL1WdK5S\n",
       "KiYztSRZdHzlmT6wjK84ODdMnx8p3Ae8dRM3/hN6wkICBpb5IX/3CTtRJZt5xppeCii7O6Fv+DVl\n",
       "Hm8T8zshMYh4pqmXFp/ZwuVT4sakknO1CtGeVbgL+5xba1+zz2GU6UgVase+RV3Zyh6C5qfnmRzE\n",
       "f9qpkHCS+cjrXts6Ae4mX4qi5wRfmHrrQX8t/PMKRdwr32eFxYwNtBN/S1pJe6qeK3kwfIMUmYH9\n",
       "ITYeBBZpGVWI8ejMMMjr4FyfiaB3bNumBvSGbFWX0GFvpge6VhqoV2yOYZb2zFKYHswqRov0vCA2\n",
       "LoNdF7HgodAjQqHnE/HV+oEVusJchibLNtFLnw7QS68MH6DlxG3UnTKy4bBzazasW+hH8SpS2c3O\n",
       "hVnBBzUasxz7RLyUw86FUcCvvi/+UnHY7eEsFXL2nVUR19tb20h7psMZYTIWuDt0LUBvVRujv91P\n",
       "FBmvWsIOH9qjgtrdRVhVtHtFI8El2IRWgt+xZrPYErOhjzWkhlTO4HWf3m/QCrcDe6BwnKxg9MrL\n",
       "dExZtLzYjZ9NeRU/eAEBerkEL6L/onDou+W0uGg/RuSZB/NEL8W9JMlIxP48XTL9ip/gsQVD1REp\n",
       "M0uOr2xkzN99b0+hu5ei4QEoaEURAGmVvhX52Yku/dnJyXFy7sfZYOxRdFmfySfN1QSZL7Csauw8\n",
       "ObfD42KVJdhhvmNXPYG6Ph38iXzp56GuCp9QZp0rFV/xnbVXuojSFShIy9uJvULZKskh6wouWa6K\n",
       "vUcuBumN0MA2PS5DJp+iM1gFJ0V0xaaCqYHvPUTIy4G2OuArI9nYO+JlBZU+9ugRZxrHkwUD0/QL\n",
       "c0PVaiosgdSIl86DzJ4+KegVnwRzMW9d30sXiQ60joeCfX9382khNCScx5nGtm/kFFSl7rvjHEay\n",
       "xo9zv9CCHXsKGCLjmC88z/YX6tY7/Pi6sLFO/GJ9bwo/P7xrLYf0uCrL9/txZitETMHh4YgUlyic\n",
       "GmTIQ0C8f5BldiIHdmFyInDG5m5yCu9DcFShNt54tkh7FjmlRZAmxe0roc5wykNggHa8ReOPho5t\n",
       "3OgyyaqPNWtwwx5CstpEOTRV2wrBCbC2mD3uDekdWROFBv8Tif831/4N0c8eRSdgHhIAAAAASUVO\n",
       "RK5CYII=\n",
       "\" style=\"display:inline;vertical-align:middle;\" /></a><br>"
      ],
      "text/plain": [
       "<IPython.core.display.HTML object>"
      ]
     },
     "metadata": {},
     "output_type": "display_data"
    }
   ],
   "source": [
    "strong_bound_via_left_factor_bound = (\n",
    "    Forall((a, x, y), Less(Mult(x, a), Mult(y, a)),\n",
    "           conditions=[Less(x, y), greater(a, zero)], domain=Real))"
   ]
  },
  {
   "cell_type": "code",
   "execution_count": 87,
   "metadata": {},
   "outputs": [
    {
     "data": {
      "text/html": [
       "<strong id=\"strong_bound_via_factor_bound\"><a class=\"ProveItLink\" href=\"proofs/strong_bound_via_factor_bound/thm_proof.ipynb\">strong_bound_via_factor_bound</a> (conjecture without proof):<br></strong> <a class=\"ProveItLink\" href=\"../__pv_it/theorems/f9af19bac7bb9e6111dac7e822bce8b7bc437d020/theorem_expr.ipynb\"><img src=\"data:image/png;base64,iVBORw0KGgoAAAANSUhEUgAABCgAAAAZBAMAAAABLwLUAAAAMFBMVEX///8AAAAAAAAAAAAAAAAA\n",
       "AAAAAAAAAAAAAAAAAAAAAAAAAAAAAAAAAAAAAAAAAAAv3aB7AAAAD3RSTlMAq1RmmUTNIjK7EInv\n",
       "3XZ/CtNrAAAACXBIWXMAAA7EAAAOxAGVKw4bAAAI+0lEQVRo3u1bfYwbxRV/Xq/t9drnM18tTaST\n",
       "ITREogkWpFQEBNtegAiUcCIVAoISQ6kQ+QMcKRIKLalBlUDiSAwhgAGFDUTQ5GjOfCThQ0QGVAWE\n",
       "gBM9lSrpRXtwIm3TRtFV+dAhcZ2v3Z2ZnfXah3y6IJ707PHMe29/u/ObNx+2ASIkNvLFFJp+kFNS\n",
       "ciOfE42S5JSaplvKTGeaqDClZihOgvVipt8DUuQKVGecrFTUfTlDca70SZHHxTnNej6G37SikhRR\n",
       "3tMkFzDtgJjPDYkV2z+JdvJscsHHptU7gjMAq22cBCslxVW47s5mpND78FtZSYoo7+kRs0S1I5K0\n",
       "pIo7WnDybFYHml7qEM474LviXO2R4gE8y1WbkcLA6WCdevqI8p4e0YtUOyLd8rQ03oKTZ7Mw0NTb\n",
       "IZzj8F1xLvRIkbQBMoWmCwfMoNfUTVHe0yNZph2RVbb4OTER7ePbZH1vjWbURmdgBmC1jxMrJUW8\n",
       "2HzFmKSGJXVTlPf0yFymHZF3pc+ZoWgf3ybpJbD4MOGH1qFpLgCrfZxY2e7jk5GRj5uTIjsy8o96\n",
       "yO4jwnt65DqmqdmHHGn7F6hR7RElI/PIrEf8zHjbkdPFu+4ZjUyNvk0m7y7lDtCcoeMnuWbv+ing\n",
       "lN129oKZD4XVPk6sjBRLAJ5pTgq9Amk7hBQR3tMjv2F6azkt5cxgjUJkIx1GnaUeQ47bg8Iie3C1\n",
       "eSIqom8TZ4lh4CA3JBP74Hm7fZyyW/1nED8aCqt9nFgZKdZACjHEpDdeUfU8al8Tdk5BvTsoGbdg\n",
       "hdt8TtX8AHQxZwZrVHsXavSyV/ELuNI+w1sJTEBWGMQX2vBpVEhqY2B3uoRY+1e3qQsNzVeKsLR9\n",
       "nMzNdClqFJZCrBoKq32cWBkp0nYG7Tkz9Mb/TpPZ8C64PO/3/DOwK4wU1LtlMe4KllStSObv/uXd\n",
       "ZNgyabLH+QtV/Sh01cG8hA4CPERpzcCrs8iQV/DhuGcEez2vClzNhShBd52Pidq+Md85zQ4J6dmg\n",
       "/kdDzCBDOXa7vyhGj+t6gAMAL5YkCBQnjaDAydxIT2EbE3Vo1hEuyYXkcSoiqnBiZaTQHHGluOEn\n",
       "m+GcjK3bfs8vUK4zSZPsHSWzFaVgqzFa68tlYE89lBS2ghTZKgz2wYb/0hGJMwutsei4HFZccNgz\n",
       "At8L2BAjH1BnrSrwMQ9AYlxnA1sR0rNhKb+hIMVHYB4D48iQBIHh7LLUOKkbdxW0d9hY4S/Jh+Rx\n",
       "qiIqcCb8TAGlK4QJdQk+o3SsDNfzybgTRgrJO1I+VJSCrYvRveZysMgJI8XaWYrpY9CBK3GK4YYD\n",
       "qTkGf6g0m1ipGz95n4Ad3DHF9TYfcxz0ie6+1Mnm23+dLRG0oeD0YX5L1gLaUHs4mRvXVSX4j3hJ\n",
       "LuQUcGJ1SfHaavQYRsllxwrwFS7M++l6nhSZuWhg5sbWX4PKK/OQ50mBvWHgij3udbiifzuvH2YT\n",
       "ofHtqC2XuOmD1ZEDV0SKf1uZxUsXX8WRgoF44McCkC1UBwvwI60skILULIogBTFa6S2NzM2xBni7\n",
       "re4KmvD5mCfR3B63mz9sbAM7f4UXcFVpoZl2wByHWOl8gRSt4KRutKdoqDw8Jl6SJ0X7OLG6pPg9\n",
       "ehw7u3Fv6FrJJDcxL/PCCq7nU++hl0OxKkqCpjNhNHhSYG/zC8Nd6HJFX/5c3shIkdufs+SSL27d\n",
       "dvIhk9pSlDMFBXHzNSKQV6mmHW1YFzqQ1XBnDWQyPi7Ms8QIhfOWlie3NRLebi5WTFtCzDPgCWGH\n",
       "70fzQxIba667AyX7x4O2t/fbAvMti+9BNU4frMt95EZ7imaKfOJ/IiyeFKE4uYgiTqwuKWKInveR\n",
       "u96RsRLksGUeWP/ie/5spMW0gwxTLwzlqnwT9tYt1D8psjUlxRvGxMXnYuhHN07uvhgvUUNcku1w\n",
       "HaDFzHJCCv3ZamChSUDc/DaIQB6lava8ueafQgeyGmO/OJUOC/MsMULhvM/LnPMu8kPM7hWnpK1v\n",
       "4Ef0qC3M93T5YfE2pv0GrvPuME4PKgx0na2HH+qp8D0YgtMDy6Jit/vmc9DGToiweFKE4xwGNU6s\n",
       "wlfnW9gmOn5XrfY4IsVAku95mkjJaI/VY47clO3L5eHB/V6xYR6VdgduzstW9DwzRCXZDtfh90tq\n",
       "tVohl8vcENx9IBDG+yABwcvnLi/zzg9kqnV29GIn3fTwSI6ZauVwBh+d3O9/jN/JbfBA7MHWcbKe\n",
       "Yvt1aQMQCNkWzvtBJIU5UaGP3KjTTJFYECBFP/kZRldftiI3DZbTi2zY7xXLhnDAb56ATTs0suXr\n",
       "hmyBGuKSZEfq4gsBHiGZIpdYYXPnFFUPxMDjIAKJW1RDSJGyUtE/wBn8UzukWAv3Rj9sPIyDX38t\n",
       "DO/BVnCynsKyG14pRJCiLZy9Eim0kmXW8SOn55M/B29suz2fauwGbNNVWQWBTFHeuJyQYoAV032o\n",
       "iIzxC3rbZxxbpJ2Hm7vsS4EakhKyY1bohdbd+xLQ81O0JX2bX3VUXRCoaRNJDx4QeIqpmhTrHv5j\n",
       "9BCcq7dBitTTD18bfSbTUH6DnC6H9WBLOFFPucWDgW29HLItnASrkCl6yjgrIyaswycZfyvTn9bw\n",
       "Pb9sxREb2Wi9TwZIkehd8Drp6/4CLS7BRWMf9JeNfcjn1xcdLsLTpG6ZwwxJCdmhZmyFXljdZfhe\n",
       "UNAbv65vu1oiBQGBUwNiBQeErEy3s/Lv7tkr3fVnk5PRw2XroSaNcszs5OTRyIhoHvUZwA11xpPU\n",
       "7m+cKeBEPeUW50hLsmDItnASrPLP8TQyu5hv1TYHDiM4m5dhk7qJzAo0nWVsxy3SuPhmhgpunWdI\n",
       "7DQvAG09C2/garXAOakw5rSneCCQcqjOKMHfcqiYtn6G4iRYZVLckrypEXJC5dtAT6KkbtrwcQES\n",
       "NP3dMznkFokPXSDZrM43xHZuM7geYd8ByImYAzIj5bf9cEqIiFMmRVEfs6NIUYTlh0OayIpPVSwq\n",
       "6uIQbCZ1uXOtFknBAZmRsuzaU4MUIs4Wf80d/ueOZAf+96GdGdZShh+k05Ib+QDr/wEfSA2ua8rV\n",
       "DwAAAABJRU5ErkJggg==\n",
       "\" style=\"display:inline;vertical-align:middle;\" /></a><br>"
      ],
      "text/plain": [
       "<IPython.core.display.HTML object>"
      ]
     },
     "metadata": {},
     "output_type": "display_data"
    }
   ],
   "source": [
    "strong_bound_via_factor_bound = (\n",
    "    Forall((i, j), Forall((x, y), Forall((a_1_to_i, b_1_to_j),\n",
    "                                         Less(Mult(a_1_to_i, x, b_1_to_j), Mult(a_1_to_i, y, b_1_to_j)),\n",
    "                                         domain=RealPos, condition=Less(x, y))),\n",
    "           domain=Natural))"
   ]
  },
  {
   "cell_type": "code",
   "execution_count": 88,
   "metadata": {},
   "outputs": [
    {
     "data": {
      "text/html": [
       "<strong id=\"weak_bound_via_right_factor_bound\"><a class=\"ProveItLink\" href=\"proofs/weak_bound_via_right_factor_bound/thm_proof.ipynb\">weak_bound_via_right_factor_bound</a> (conjecture without proof):<br></strong> <a class=\"ProveItLink\" href=\"../__pv_it/theorems/3eb03eb503c9f27bf1f555791f665b48ef51a8a60/theorem_expr.ipynb\"><img src=\"data:image/png;base64,iVBORw0KGgoAAAANSUhEUgAAATwAAAAXBAMAAABkN+50AAAAMFBMVEX///8AAAAAAAAAAAAAAAAA\n",
       "AAAAAAAAAAAAAAAAAAAAAAAAAAAAAAAAAAAAAAAAAAAv3aB7AAAAD3RSTlMAq1RmmUTNIjK7EInv\n",
       "3XZ/CtNrAAAACXBIWXMAAA7EAAAOxAGVKw4bAAAEJ0lEQVRIx8VWXWgcVRg9s7OTnZ3dbFYUoS2E\n",
       "hRZEaGQpRWkf4kqq8YfUSFWolbpUoa1CmYAv0Rq2Tz4YTGyJIT7EqQSFpo1ji5X2ISxCSW2xBGyx\n",
       "EFImNlI0JQRLG8mDeO93787enR+osNIPztyZO2fmHr6/e4H/xVISIbNjyPf9g6bYbxIh2xtDDprh\n",
       "CeT5w8Ymq0u4AmHLFSPJYbsp8Cy/399keV9LRNi7iq79PjlsLQ7hCA/ycJPldUlE2Fb/Tr/q+OSw\n",
       "6SUCV5kpNFleVSLCsk4tzHNOnRxhlwg6S4aWZqdeWSAyaDL5Jm8o5Ch7W+Dn+fnLTZaXdAXQNz3g\n",
       "T1rL6z85zSJFtYiJX1RyA3GqCxYjfQfC88AX97Hif5HHPcRhzOBLp/6HBa+H5RM56/i+BnID0d0M\n",
       "fQV4EoQ+pPKxUZp751GP7tKN86PqkzlCQ2a61iFaCwIni+jxWU/haedh9imlmlaXFySahR5orFY3\n",
       "g5B2Mr2R2j5dNwLPzXwYlpcYb2ROHuXXTuyupX+vwMvAHH/+lnusgudo9RWivO8HVyFa9/gFV5Bl\n",
       "PhkCIeFFV0aSRR2ep0+F5OnHQs2Wz1xEm90o7ydYd8lBJZq+QttBNVAaKvEqMdYwVAHehEC5k7M7\n",
       "f+CvlrsX2RLGAjRq20xebkKRl1sc6EaOfLU3TxuOdWaJa9LHkVpDttAQXOsfSiJ/n1rFCeaN2UBj\n",
       "CRGTZdxmQ4fEadbIrV/NVf6Jva6F/XqqzRm0qFV7bv9NRd4tbXif+SPVobdmcj+csofIZfqMuYZW\n",
       "2TTSHsH6C1r5sVrhjmhVsOTUhwNtOUhEOo/P2LBN4jDzQrJEi+kYN9nwQQf+MGgp74VzUOQV014F\n",
       "j5/nG81Xszm+0A4M0uLnepm8rCgjah4c4+golWr5+vdE1SjIPiKnDtTIKhHJvHGHDS9JaBWeADlR\n",
       "vqt03YB2/eDY2FEW3O8Lau5Rdu3m+jRX42IuYIGLfabCg9smg2vOChxf+ri9UvPeTm/TFh7LYB0G\n",
       "ibA2LHIV1ySotuz0du5qs0qHrGu4aLoi9147r8obpAPbkW6+TJb90FrFsRNIPVRpKA1cl4iwj0Iz\n",
       "YWKGVXpqVkCUjz20y5nE4Uw5iUn2hbEiejVrLEpppKpnQTHoW4/WyluwXMyYd7dbj5CsZbyi7vtb\n",
       "408LcYcEYWdxkidBUUBUVdcTZzBYSP4+/ScbsGlbGf3MI8ah96wd5br3du5ZduShN9H1OViVvLpl\n",
       "qWg5si2/6Ge3LRBxChaVcWqe23WfrNoNlltAv4RiMnUKlp0usmwfG6m/SgfX+Qas1yVidhte9lbk\n",
       "KS1CdJC4cZGn56iE0pgcOWje66HfBifaDebVN+J2wwGJkN2KIYcavS2g7ga1weh04+WZY8xGsWuJ\n",
       "Nxp15kFa6sEs+y83kipPW0LzXwAAAABJRU5ErkJggg==\n",
       "\" style=\"display:inline;vertical-align:middle;\" /></a><br>"
      ],
      "text/plain": [
       "<IPython.core.display.HTML object>"
      ]
     },
     "metadata": {},
     "output_type": "display_data"
    }
   ],
   "source": [
    "weak_bound_via_right_factor_bound = (\n",
    "    Forall((a, x, y), LessEq(Mult(a, x), Mult(a, y)),\n",
    "           conditions=[LessEq(x, y), greater_eq(a, zero)], domain=Real))"
   ]
  },
  {
   "cell_type": "code",
   "execution_count": 89,
   "metadata": {},
   "outputs": [
    {
     "data": {
      "text/html": [
       "<strong id=\"weak_bound_via_left_factor_bound\"><a class=\"ProveItLink\" href=\"proofs/weak_bound_via_left_factor_bound/thm_proof.ipynb\">weak_bound_via_left_factor_bound</a> (conjecture without proof):<br></strong> <a class=\"ProveItLink\" href=\"../__pv_it/theorems/347c878956f8ac014f9082be4b9404804d3f6d960/theorem_expr.ipynb\"><img src=\"data:image/png;base64,iVBORw0KGgoAAAANSUhEUgAAATwAAAAXBAMAAABkN+50AAAAMFBMVEX///8AAAAAAAAAAAAAAAAA\n",
       "AAAAAAAAAAAAAAAAAAAAAAAAAAAAAAAAAAAAAAAAAAAv3aB7AAAAD3RSTlMAq1RmmUTNIjK7EInv\n",
       "3XZ/CtNrAAAACXBIWXMAAA7EAAAOxAGVKw4bAAAEVUlEQVRIx8VWXWgcVRT+ZmcmO3t3s1lRCm0g\n",
       "LLQgQlOWUpT2IV1JNf7QGqkKrVKXKtQfkAn4Eq1h++SDwcSWGOJDnEpQaNpkbLHaPoRFkdSKsmCK\n",
       "hZAysZGokRCUurIP4rn3zs7OzsxChZUe+PbOnP1m7jfnnnPuBf4Xi7sImdmEfNsvaIn95CJkR5qQ\n",
       "g6Y7Ehl+s7XF6mK2RNjSuUhy2G5KPMSvj7VY3scuIuwVn65jHjlsbZbACb7Ioy2W1+siwnZ5V+qC\n",
       "5ZHDpuYFuMpktsXySi4iLGXVlnnRqpMj7KqASsnQ1urUK0hELpqbfNM3fOQoe0Hiu6Wlb1ssT7Ml\n",
       "2PqWd87Xe0XnKpViUtQipn7wk2d6wTIecWBuiH4/lXgE+OA2Zvwv8niEODQsO/s973Nmokr5JIJ1\n",
       "+mgD2d4OdcPrKfP4kNb9fggMIJ5pukqLL25yxFWi0T/uvzPGxJCcq3WI9qzEA9hr3V1jsa+glelR\n",
       "kWpKXR4Rjex+KF55ns2Bf9N2iYSV7I/U9u7mMTh28s2wvNhkI3P6JP/twaFa+vdLFPGwuJ/lEdM2\n",
       "0E76DRml173FJSLD90hRGNhf3PEEsEjDiETMia4MjVYdjqPOhOSpp0LNlnuuoMNslAeaVgQoz52j\n",
       "mCWfXgqUBifqVYwU6XqBO74Bu8VzwUWhh7N7Pud/rfet0BT6MhTRtkleesonL70y1Ie0iNWRjNhw\n",
       "2IU1rkmdRLyKVLZxcaFXcKb2CbMO9vLIlwONhRO1An73kuAfmYfdLs5TI2c/GhX+iLm5jdgzHdYw\n",
       "E7ng2IM3ffJWldGjxpfiJU7V4HE4Z46IkKnzRhXtbtNIOAJsTCnB27Fms9gUM6GOBtqyIGfwnifv\n",
       "DyiFe4HdkDhOUdDyYjIVkwYNb3TjV11M5Tx6CT55uYRTxH2XeZf4qJzmE+3DsHjnpX6Sl5JlJJoH\n",
       "Ifb3VEn3On7CiS1oso/UUvilGlnL6H967kl05ykbHoeEUuQJkJblWxG/nehSX56YOEmL+1nWn3si\n",
       "uw5xfYqtcDFfY5mLfbDIF7fD1WKUBdgBZ9tOb1bW9cXAL7SWwTrkZNa5UvEcp9fe7iJJ1yAhIm8m\n",
       "9vBQGyVxyLqGK4Ytc+/py355w+LAdqKPT5Oid7AKTp1B/K5iQ2nguosIeyvkEcRkcO+IlyVk+Zgj\n",
       "B61pHE8WNEzTE/qG7NXUWHylES9dRF709S1oLz4PZmPeuLWH3SNkreNJ/76/q/lpIXRIuIizwW1f\n",
       "y0nITt274wKGs9rPc7/RgG27CxikiOivvcr2FerRO/DsuuUeemO974Oq5KmdazlmuW35MS/PTImI\n",
       "U7CsjHNL3K7XyDconQI26MJn7hdkmZnIUbZPjNX/SgQf/wTU62JNdhte9izylBYhmohbV0I7w7gL\n",
       "3wHacgfFeSb02qCjS6eoHm62Gw65CNlqE3Ko0ZsS/t2gNug9dnN5xgTZOA6u8Ubj99xJi9+Zaf8F\n",
       "Nbgqx5VxEc8AAAAASUVORK5CYII=\n",
       "\" style=\"display:inline;vertical-align:middle;\" /></a><br>"
      ],
      "text/plain": [
       "<IPython.core.display.HTML object>"
      ]
     },
     "metadata": {},
     "output_type": "display_data"
    }
   ],
   "source": [
    "weak_bound_via_left_factor_bound = (\n",
    "    Forall((a, x, y), LessEq(Mult(x, a), Mult(y, a)),\n",
    "           conditions=[LessEq(x, y), greater_eq(a, zero)],\n",
    "           domain=Real))"
   ]
  },
  {
   "cell_type": "code",
   "execution_count": 90,
   "metadata": {},
   "outputs": [
    {
     "data": {
      "text/html": [
       "<strong id=\"weak_bound_via_factor_bound\"><a class=\"ProveItLink\" href=\"proofs/weak_bound_via_factor_bound/thm_proof.ipynb\">weak_bound_via_factor_bound</a> (conjecture without proof):<br></strong> <a class=\"ProveItLink\" href=\"../__pv_it/theorems/e1ba5371b3602e5b7870c644ad2eef5c35f596fe0/theorem_expr.ipynb\"><img src=\"data:image/png;base64,iVBORw0KGgoAAAANSUhEUgAABDAAAAAaBAMAAACzwrFmAAAAMFBMVEX///8AAAAAAAAAAAAAAAAA\n",
       "AAAAAAAAAAAAAAAAAAAAAAAAAAAAAAAAAAAAAAAAAAAv3aB7AAAAD3RSTlMAq1RmmUTNIjK7EInv\n",
       "3XZ/CtNrAAAACXBIWXMAAA7EAAAOxAGVKw4bAAAJIElEQVRo3u1bf4wcVR3/7uzs7uzs3txi0Wib\n",
       "XFaLWAKtG0SM1cDoHdDQtFyoMUhJu4IE6R8yTUhI/XEuxkQSjvak1rLVnFNsxPagd5RSpIRmlZhT\n",
       "CbCBQ8iVJXPxYtXapqkpbY6E8/2amTczb35s4y1b02/y3X37fd/vdz877zPvve+bO4AYSbXeOo+u\n",
       "i3LByolWGbTW67F+2fPq+jDEYNptYiS0fciSYwrpCnr53P8PMbQy1a6TDWKs3SYZi6pNjBI2Lo0a\n",
       "/RR+kypCYsRFd1CuZLoAsveVOENUkFYRYu0ATvWXzTaC/saUEeMGbLsnihjyIH4zhMSIi+6cqFWq\n",
       "CyLfijVEBW1ybdI9NtaO4MzqbQRlTaqMGA/ipWUkihgKnha2iJeSuOjOiVyhuiByOtYQFXSNY0pP\n",
       "mTbWjuDsLbcRlNaZUmJgjhTKkRsJzPgD4q646M5JkemCLL9zcYbIoKJpLypHTQdrR3BuNNsJ+gtV\n",
       "Rgz8lo3efOIdalXcFRfdObmc6UJIoRlniAzKsgli7F0Oa0dwvthW0F1U7arklVbr5WhiFFutdyZC\n",
       "qpKY6M7Jaqa5Jccsb8/mI0MJijVfmHpy8cPOLJntm/HOigGD6Oo4PgWyRYc9b/BYgziDlgQ49/eD\n",
       "WgqF9c2TH4HkOJ+mahNjFcCuaGLINcibIcSIie6cMLrDHUbeO6FmJuFX8TOqP0yGGWuN/WF8k3rW\n",
       "4x0wCMT1SZPpdvedHqwBnAJLApwTV0H6VBgs9T1z3EiO81qqNjE2Qw5RTqUJaqLRR/2bw84xaHQX\n",
       "yOtU1ZdA9k6oT1ZgTXxNQ8OecAxfgOvNRfaHz5rwqsc9YBAI9VFwKdLAn1N38liDOIOWBDiV8hpI\n",
       "jYTBkuagaCXHeRVVmxh5s4Dq0QJN8Dadr6aehS+X3NHfBc+GEYNGL1wRuhrf7EMrDHYbh8sfqcqn\n",
       "oGcC1GvpzYBv1VsAjoL6wiUmuYUEdwx2omFwxPGpwY1uL2q+D7+ugtOLDSzleDUkJQmCHnSrKfSW\n",
       "vv8NDmsQJ7WMPb0YxFnJN3M4iY+KBpWMvRCnXIXeiZiMHM5tQNQmhmR5d49bP7EDPlkwZdMd/RXC\n",
       "vSfp8kfHiHJvsCXqRbL80Fe+gzh60MBlEf3+vMdb2ikgRnEExgdh6wli68Fl/J9BPYMoRe/GqeCX\n",
       "EicaRoX5vOr2HoXMaeVk0+3FBpayRw9JiX3YYtbwbT6FOKlFp9ObKOuUDyfxQTXFtloYTsShjeWY\n",
       "jBzOO6g6R+LV6zyL6yp8lmnpBW70s2krjBi+6FhZImgFe5WZ+qBWgOfQzaHODqoNUkn5iCGNipaS\n",
       "cQuux6xyb4sP8CLcO5g7F7nQ0jB+a3IW9rmVvjwHUpMv/eW5uJQkiCJt+spVEU5mOQM/rLWDE00K\n",
       "/4YwnL1luMWMycjhXE7VIcaBTegyzJCLOFsmh6Kw7NNDPDEKl6MfpM0O3YTaG0pQ4olxYFNbxPiT\n",
       "oBXsHUA/RdNgJeZj7s1cky1xPDHS272ho1THy/AxyeCJcRpS1c+kzRhikLANznZJ3ZFqgFOJncMb\n",
       "FZ4Y2BCXkgTt/yqGOuI74BLhZJaVMcTw4YR8CX4KYTh7a2hPEpORw/lFqg4xvo++Zn8vRixLVZX8\n",
       "iGWFx9dzo5/7PXo5lhpB2yfVmlMaPDFwNIxd95z9PVzTHZxnjrPNsfLBjOlvcUsJs5GnC4gY/0LT\n",
       "n7LaRDPGJEcMwlDtUfCylNVaeUuakj134igs13W+XCdLK3lx110Shn6bMx2d29PIOKXfIvgZeIhB\n",
       "DP6UZM1/z+uj4yML2a31pW9DGE5m4c4enIThOEEuZf4DYThTlbweyBiOk1X8DjFSiFDfJQj3FfQM\n",
       "OYxZBvo/+dH/ONJK3kKOuceb2gjfhaPVtxS7TOKarjxlbGPE0KY13d9yxbbtJR8KudEKZBaR0zV+\n",
       "j4EZqvyBfBnH0keoqn2/2/wPzwXfffwnfQjjI6Z3aZ3yrLskDP025/Na67Kr3RQHK15iEIM/Jck2\n",
       "5fFRzYO4w789F+JkFmXau1WJxgnqktmzoTjVJf0QzBiK802q3sfuo+yMLn1vvf4oIsZYlh99OjGR\n",
       "wU1NpCx/l6yj8cntcpq3znovxQAMs1HNV9JV6ohbfj9sA7TrXUeIIf9iBFRyQDO01OCIQRh6xWHw\n",
       "shRvq3ucOXN54GAoyWlLPqq2k5rnkxIfWfwgsDkNxwlbzDZxFqoxOJNkxDjRik3UQwx1rkbHXpmg\n",
       "M0ZmRYAYw+TPS3oGizV/V3FQK8GPpp1mQz3lKyVnbM+aXGKOqOX3wzZy0lKv18uaVrjVf0E4hn7j\n",
       "sJel9iOgkAt+PzwQf3XGf9sOMRKlxLdzv98YgTOn54x2cB6CJ8vROBNlxDjtx5AeYkhVXZ3AY0/P\n",
       "MT8PzlDao59rHALs01PbCH5ijBv5lSZMO03DmeAp687C9n0Sqb17oVimjrjl8yO29DUAD5MZQ8us\n",
       "N3MDAwM3+IlBGfrgTR6Wwk6mwguee+yhmxM8b5HbIEailPgHsqfPT7WwvO1gFRNjy0M/NtvB+W6g\n",
       "uvPjTJQR48QP0LF6Z4w+Ay/biA1b8InMXw365zn86K9df9JEPlL/zwPEKBrb1hFijLFmfhA1EYvw\n",
       "C3qbVM6slC7D3T0m2vZOOy3kx7zQC7U98BugB/CoXD2sC2YMwlDyDGQxz1KyMdnL2t+774g3sjg/\n",
       "fyqeGLuPRTykOPS+1X5KNH1CPnjDhuKE1+bn28K51LcaB3Emyohx2ndW4E/7JLLSqM/XdwQOKzif\n",
       "J2B7oCvTv+IZMt7DZdpchZvKJAwbyiQi09euPl6Bx4htrcUcSQv5oW7shV6Y7Uv4ZkRJv/73iT03\n",
       "ipYSzFDSMHiWQs6i2lWCH6wK2NaNODXEX6xBYtyeva0Rcorl+kBfpiruIisEXe8KpmU3KeHwnNQs\n",
       "2zbHkfhJTgLa+1Fc89brooP2vN/AsbQr5e5huCDEgzNAjIo8a8YRowLrjod0bX25DBma4L75pt0k\n",
       "ZKJ1j8lsriP2s7vBjoh4kBQgBsfSrpS1N18YxPDgTPpX4uH/PBLsSouaFYEtDcFuYtM+pSchhoLq\n",
       "lvpOnqUX5X8kJ95By0rrpW6DJV0a0Zm7OGwdk/8Cj60eJGGwK0wAAAAASUVORK5CYII=\n",
       "\" style=\"display:inline;vertical-align:middle;\" /></a><br>"
      ],
      "text/plain": [
       "<IPython.core.display.HTML object>"
      ]
     },
     "metadata": {},
     "output_type": "display_data"
    }
   ],
   "source": [
    "weak_bound_via_factor_bound = (\n",
    "    Forall((i, j), Forall((x, y), Forall((a_1_to_i, b_1_to_j),\n",
    "                                         LessEq(Mult(a_1_to_i, x, b_1_to_j), Mult(a_1_to_i, y, b_1_to_j)),\n",
    "                                         domain=RealNonNeg, condition=LessEq(x, y))),\n",
    "           domain=Natural))"
   ]
  },
  {
   "cell_type": "code",
   "execution_count": 91,
   "metadata": {},
   "outputs": [
    {
     "data": {
      "text/html": [
       "<strong id=\"reversed_strong_bound_via_right_factor_bound\"><a class=\"ProveItLink\" href=\"proofs/reversed_strong_bound_via_right_factor_bound/thm_proof.ipynb\">reversed_strong_bound_via_right_factor_bound</a> (conjecture without proof):<br></strong> <a class=\"ProveItLink\" href=\"../__pv_it/theorems/d2d179fe044c416aa0763d67e470d30b544023470/theorem_expr.ipynb\"><img src=\"data:image/png;base64,iVBORw0KGgoAAAANSUhEUgAAATwAAAAXBAMAAABkN+50AAAAMFBMVEX///8AAAAAAAAAAAAAAAAA\n",
       "AAAAAAAAAAAAAAAAAAAAAAAAAAAAAAAAAAAAAAAAAAAv3aB7AAAAD3RSTlMAq1RmmUTNIjK7EInv\n",
       "3XZ/CtNrAAAACXBIWXMAAA7EAAAOxAGVKw4bAAAEFElEQVRIx81WX4hUVRz+7s7cnTtnxtmBQHGF\n",
       "ZUCpFzcGkULBbWCtLWNtw1rYihwqiAriCr1s2TI+9dDSmrLJ+mC3kAJXt5uSodAyCKEVyj4kCmLc\n",
       "zQ3RzWVJbGMfot/5c++cmXsmDSbqB989c8/95pyP379zgH/FUgoxc5uQ73mBltjPCjF7sQm50exA\n",
       "Is9f1rZYXZsvEbdc0UiO2zWJR/nvV1ss7zMFg71uJMet3RPYw4O8t8XyehUMttFIjluiJMBVZgot\n",
       "lldVMFjWEx4r1pMN9r1AgojtrU69soQxaEIY+ybQySZ7WeL81as/tFhe0pfArumRaJItdL5/nCKV\n",
       "l6+3TmvkOuJULxiRvoTA48DBe9jxn8jjHuKwz+Jjr7bCbNBP+RQ6a8u2GrmO6K9HYhF4CAK7kMo3\n",
       "jdKVV1bKKKTvLiozHXaIFQWJo0X0R58fxiPefbRklGr390VknegU+mFRra6HQNrLDBi3+2D1OAI/\n",
       "845Jnhdje+jBUJj+AxJPAVf4+xfcYxU8JnZfjP4y2BmSFZH9zh+4gCz5ZAwCbYG5MpIUdQRBYsog\n",
       "763ORjbNnEOHWy/vO7A7wkElMX1BHAe1Qh08GJJD4o+CsYyxCvACJMo99Jjs+Zp/Wuiboy3sWVii\n",
       "bZO83GFNXm5uhEdkzyo6nfLiwGEn5l05k1pGtlAXXPanSKLonFrCEfLGTBTcVSG5npgs41cauhWO\n",
       "UyNnl5wlvr27up2WnurwRplo1YE/fE2Td93a+xIwRBJZsOxwPxxzx1w54yxjhepm6UCA/Qar/EBY\n",
       "uONWFZScifAI2NIXkeuISOfxIQ2bFHaTF5IlsVkChxwa3u7GDVtsFTxxCpq8YjqoYIi3hNSnMzm+\n",
       "0VaMQs6QvKxqZrx5cBxCd6kUVtkfh6t2QfURvbE0EpHM27dpeFLBqvAEyMnyXRLPNehKvDYxsY+C\n",
       "+1VBzz3KLueM+GX5FhfzLWbVDAW3QwXXmZH4ZP69rkrove3Bug08lqIO2a2oLTcSwdbMcRUXFURt\n",
       "uenNvBqdqrhkXcQ5x5e59+xpXd4oXdgm94mUGcjSgmwJ+4+omVpp4LKCwd4Vz2PaoRYnZqjSUzMS\n",
       "stbcsR3eJHZnyklM0j/sRdmrqbFopZGqngTFILefy6vsBPNx1rmzWc0s4Gn93N/Y/Lbw95eEkzjK\n",
       "k6AoIauq98ETGC0kf5m+SQPWbSpjmJxjv/kG21queW/78wvcxwlS09b7EY/qMxvmi2omM70tym5X\n",
       "wnALjl+OGok/UW4BwwqaqdQpMDddBDs1Ma6tUX+aHMDn4Br1Gc142TPjLc0gupG4do6n5wEFrTF5\n",
       "arCCwdiyjRNdNnn1uWYH3IhCzK43Icdu1a6EfgMMB7vHv6u8HfO80eB/Yqn/Ztu/ABh5HBvcdoNf\n",
       "AAAAAElFTkSuQmCC\n",
       "\" style=\"display:inline;vertical-align:middle;\" /></a><br>"
      ],
      "text/plain": [
       "<IPython.core.display.HTML object>"
      ]
     },
     "metadata": {},
     "output_type": "display_data"
    }
   ],
   "source": [
    "reversed_strong_bound_via_right_factor_bound = (\n",
    "    Forall((a, x, y), greater(Mult(a, x), Mult(a, y)), \n",
    "           conditions=[Less(x, y), Less(a, zero)], domain=Real))"
   ]
  },
  {
   "cell_type": "code",
   "execution_count": 92,
   "metadata": {},
   "outputs": [
    {
     "data": {
      "text/html": [
       "<strong id=\"reversed_weak_bound_via_right_factor_bound\"><a class=\"ProveItLink\" href=\"proofs/reversed_weak_bound_via_right_factor_bound/thm_proof.ipynb\">reversed_weak_bound_via_right_factor_bound</a> (conjecture without proof):<br></strong> <a class=\"ProveItLink\" href=\"../__pv_it/theorems/710e2ea8e38702c25fb681f94f3c6ba97b528f7d0/theorem_expr.ipynb\"><img src=\"data:image/png;base64,iVBORw0KGgoAAAANSUhEUgAAATwAAAAXBAMAAABkN+50AAAAMFBMVEX///8AAAAAAAAAAAAAAAAA\n",
       "AAAAAAAAAAAAAAAAAAAAAAAAAAAAAAAAAAAAAAAAAAAv3aB7AAAAD3RSTlMAq1RmmUTNIjK7EInv\n",
       "3XZ/CtNrAAAACXBIWXMAAA7EAAAOxAGVKw4bAAAEGElEQVRIx8VWXWgcVRg9s7uTnb272SwIlaYQ\n",
       "FloUoZGlFKWFxoVUo5XUSjVQK7pYQVSQyWO0hu2TDwYTW2JIH+IoRaFp49hipQHDUpC2iiUPFgsl\n",
       "ZWIjRaMhWGokD+J3f2Zndu4sVFjpB2du9tuzc0++v3uB/8XSCprZTch3/YKW2M8Kmr3UhBw105Mo\n",
       "8A+bW6wu4Uroli/FknW7KfE4//u1Fsv7TCHG3pCEUiNZtzZH4AhP8liL5fUqxNh28WTfeA1k3ZJl\n",
       "Aa4yW2yxvJpCjOUcuf4xGybH2HcCSQpzW6tLryIRmzQ/rbtmA3KcHZL4YWHh+xbLS7kSGJwbrjvZ\n",
       "Suf7ZyhTBd/xQF+d3ECc6QUj0pcQeBI4fhc7/hd5PEIc5kV87ARvWPT6qZ6CYA10+uQGorsVyVXg\n",
       "EQgMIl1omqXrr26QNZxp9E9ozAlk5/wJ0V6UOFVCf53xKB5z7iNiUGoDx31ymGgV+2FQr26FQMbJ\n",
       "7ovV9sHGcXhu9h1dXmJKU0eeHhzwy3+fxDPAdf75Cx6xKp4Qu6/Wk3t/nayI7C/+wBXkKCajEEh4\n",
       "8Z2RoqzD85IzmrzkMW0KcM8ldNiN8i6D3REBKgv3FXEc+NHbtScg+8QfBWMdo1XgRUhUeugx3fM1\n",
       "/2qlb4m2MBdhiLFN8vInQvLyS8N9yB8Vp1NBHDjs7LItPel15IoNyWX/iCKqn1NrOEnRmI8MFo2Y\n",
       "quB3WroVztAgZz9Za3x7e2MbvXqmwxlhYlR77tDNkLxbxtgr1gXRh966xeNw2h61pcdaR7saGhlP\n",
       "gP0Jo/Kg37jjRg1UnMmxyFiOEpEp4ENadigcpiikymKzJKYsWt7uxq+m2Mp76jxC8koZr4qH+P+d\n",
       "/nQ+zzfajRFID8nLqT358OCYQne57Ffn3ydqZlHNkfChFiUiVTBv0/K0glHlBZCX7bsmnpvQlXx9\n",
       "cvIoJferYrj2RHUd4GoM1+BivsWi8lByO1RyrXmJT5bf66r60dvrbdnGcxntwygRbNMSV3FVQfSW\n",
       "ndnJB49VE5esq7hkubL2np8NyxsRF7YjfXybHL2QreHYSeUJWgPXFGLsXc2jE7PU6el5Cdk+9uh+\n",
       "ZxqHs5UUpukX5qqc1TRYQq2Rrp2DyMFgJ9qrL4O5uGjd2ak8K3g2fO5vb35biLskBHYOp3gRlCRk\n",
       "V/U+fBYjxdQvc7/Rgi07Khii4Jhvvcl2V4Lo7T244qhLb6L3I1BPPLdtuaQ82bk99eq2JWJuwfJy\n",
       "dHqB27U6OWw3qLaAIYWQqdIpMjtTAjs/OR58lYnu8zlo1iWanDa87VnsLS1GdJS4eYmX54RCaDA5\n",
       "ajG8Ae21UUeXSVF9odlpOKyg2a0mZO1WbUuEZ7+/mD1uc3nWJNkE9i/zQRP23EtL35tt/wXZOSd3\n",
       "E9qERwAAAABJRU5ErkJggg==\n",
       "\" style=\"display:inline;vertical-align:middle;\" /></a><br>"
      ],
      "text/plain": [
       "<IPython.core.display.HTML object>"
      ]
     },
     "metadata": {},
     "output_type": "display_data"
    }
   ],
   "source": [
    "reversed_weak_bound_via_right_factor_bound = (\n",
    "    Forall((a, x, y), greater_eq(Mult(a, x), Mult(a, y)),\n",
    "           conditions=[LessEq(x, y), LessEq(a, zero)], domain=Real))"
   ]
  },
  {
   "cell_type": "code",
   "execution_count": 93,
   "metadata": {},
   "outputs": [
    {
     "data": {
      "text/html": [
       "<strong id=\"reversed_strong_bound_via_left_factor_bound\"><a class=\"ProveItLink\" href=\"proofs/reversed_strong_bound_via_left_factor_bound/thm_proof.ipynb\">reversed_strong_bound_via_left_factor_bound</a> (conjecture without proof):<br></strong> <a class=\"ProveItLink\" href=\"../__pv_it/theorems/76ed951688ad3b3041b3e21a213e6cd8a44c622d0/theorem_expr.ipynb\"><img src=\"data:image/png;base64,iVBORw0KGgoAAAANSUhEUgAAATwAAAAXBAMAAABkN+50AAAAMFBMVEX///8AAAAAAAAAAAAAAAAA\n",
       "AAAAAAAAAAAAAAAAAAAAAAAAAAAAAAAAAAAAAAAAAAAv3aB7AAAAD3RSTlMAq1RmmUTNIjK7EInv\n",
       "3XZ/CtNrAAAACXBIWXMAAA7EAAAOxAGVKw4bAAAEO0lEQVRIx81WXWgcVRT+ZncmO3t3s1kQWppA\n",
       "WGjRl0aWUpQWmgZSjVZaI9VAVOqihaKCTMCXaA3bJx8MJrbEkj7UUYpC0yZji9UWDIsibRVlH1os\n",
       "lJaJjUSNDUGpK/sgnvszs7M7s7TCih745s6c+Xbut+ece+4F/hVLKITMakK+6w+0xH5QCNneJuRG\n",
       "M1yJLH9Y32J1MUcibJl8JDlsNyUe4vf7WyzvQ4UIeymSHLY2W+AgT/Jki+X1K0TY5khy2OJ9Alxl\n",
       "KtdieSWFCEvbImL5enKEfS0QJ2Jbq0uvIBGZNCGMfe4GyVH2gsS3169/02J5uiPBVjrfOl3rFV1L\n",
       "pCmVlU+3zgfIs/1gWZ84Mj9G148lHgGO3sWM/0QejxCHjgV3l+991kpWqZ68YG3bWSM7GxFf9XvK\n",
       "BbxHFfAABEaQyDbN0rV9a2QWkncWlZr3OkR7TuJBbLfv8V6zL6GX6ZN+qd074JHN3C5o/vI8mQf/\n",
       "TxslknZqMHK6t9dNwXVSr0fJs0NsG70Y9sp/UKKIh8XzHI+Yvop20m/6UcJQpyIzfIc0hYH9wR2P\n",
       "A9domJCIudErQ6esw3XjsxHyXu1sZJPnIjqsenmgaUWA+rhzEnPkM2oLdeioRzaqmCjS/WXuuAR2\n",
       "m9eCQqGXLjO9n/JXKwOLNIWxAE20bZKXOR6Ql1kc4xk5uJZ2p6zYcNiZZUt6ElWkc/XJhVHBCU/M\n",
       "nIvtvF7KfnLX+mS9gF/9IvhL1mGPwmlq5Ox7s8Knt9a1EXu2wx5nohZcZ/RmQN6SNvk8MEwSmVs1\n",
       "eRxOWROW9JhVtKtulnQF2JRWgr9jzeWwJmYh7tXYtoEAOYt3fHm/QSvcB2yBxAGKgt4nJovjmEnD\n",
       "az342RBTuY+eQ0BePukWMcxbQuKDcoZPtAPjkB6Sl1bNjDcPQuzP4yXD7/hJN3ZZl32krrFwsp41\n",
       "fvdzfgw9fVQNj0FCK/ICyMjlWxHXLnTHX5yePkTJ/SQXrD2qLvMLcac5GhfzFRaUh5LbobSYZQG2\n",
       "292wyZ+VdX828hPlUtQku+W3ZU5mXYsVn/j+8pvdJOkKJETkreRWvhrNkjhkXcFF05G199T5oLxx\n",
       "OrDNHBIlM5imb7AKDp9QntrSwFWFCHtDXE8FNjVBTDXuHYmyhFxr1sQeewYHUgUdM/QLY1X2amos\n",
       "gaWRKJ0FhT1zmMsrPgfm4IJ5e6vyrOCJ4L6/uflpIXRIOIuTjdu+npeQnbr//jMYz+k/zv9CAzZs\n",
       "KWCUgmO88jLbUahFb/czKzzGcVIT63+XZ/XJTct55UnN7/TrzJKIOAWHD0dEvEHl1GCjCgFT/yDH\n",
       "rGQe7Nz0VOAb9bvJEXwErjHoCRhf9izylBYhmojrF0M7wxGFwAHaVoPmDoU+2+joNiiqTzfb4MYU\n",
       "QrbUhBw6VVsSwROgNxi9zh3l7VnmjQb/E0v8N9P+DRafHJNEE9lOAAAAAElFTkSuQmCC\n",
       "\" style=\"display:inline;vertical-align:middle;\" /></a><br>"
      ],
      "text/plain": [
       "<IPython.core.display.HTML object>"
      ]
     },
     "metadata": {},
     "output_type": "display_data"
    }
   ],
   "source": [
    "reversed_strong_bound_via_left_factor_bound = (\n",
    "    Forall((a, x, y), greater(Mult(x, a), Mult(y, a)),\n",
    "           conditions=[Less(x, y), Less(a, zero)], domain=Real))"
   ]
  },
  {
   "cell_type": "code",
   "execution_count": 94,
   "metadata": {},
   "outputs": [
    {
     "data": {
      "text/html": [
       "<strong id=\"reversed_weak_bound_via_left_factor_bound\"><a class=\"ProveItLink\" href=\"proofs/reversed_weak_bound_via_left_factor_bound/thm_proof.ipynb\">reversed_weak_bound_via_left_factor_bound</a> (conjecture without proof):<br></strong> <a class=\"ProveItLink\" href=\"../__pv_it/theorems/c341d1a028aa8ee7588b9e15efd4df5f286e0dda0/theorem_expr.ipynb\"><img src=\"data:image/png;base64,iVBORw0KGgoAAAANSUhEUgAAATwAAAAXBAMAAABkN+50AAAAMFBMVEX///8AAAAAAAAAAAAAAAAA\n",
       "AAAAAAAAAAAAAAAAAAAAAAAAAAAAAAAAAAAAAAAAAAAv3aB7AAAAD3RSTlMAq1RmmUTNIjK7EInv\n",
       "3XZ/CtNrAAAACXBIWXMAAA7EAAAOxAGVKw4bAAAEP0lEQVRIx8VWXWgcVRT+ZncmO3t3s1kQKk0g\n",
       "LLRUhEaWUpQWmi6kGq20VqqBquiigqggk8doDdsnHwwmtsSQPsRVikLTJmuL1QYMiyKtirIPLRZK\n",
       "ZGIjUaMhKHVlH8Rzf+ZnZ2ahwkoPfHN3znw755tzzz33Av+LJRRCZrUg3/IL2mI/KoTs6RbkoBm2\n",
       "RJbfbGmzulhFImyZfCQ5bDck7ue/X2izvA8UIuwlScg3k8PWURY4xid5os3yBhQibKe4ss/sJnLY\n",
       "4gUBrjKVa7O8qkKEpcty/H3BT46wrwXilOaOdpdeUSJy0pxp3bPgkaPsOYlvl5a+abM8vSLB1rvf\n",
       "POf1ip5VmtFU1rnfNuiS5wbAXD+GF0fp+pHEg8DJW4j4X+TxDHHoWLYPuN6nrGSD6slL1lC3Q65s\n",
       "R3zD7SmX8C5VwL0QGEYi23KWrj+/SdZwstk/FWJOIbXodIjOnMR92Fu+w2GwL6DXiOiV2tBJRTZz\n",
       "B6C5y/NMHvybtksky6lDkdre2jwJu5J6LSwvNhNSR55+HHHK/5BECQ+I+3meMX0DnaTfdLO07U6H\n",
       "zPAd0pQG9hd3PAJcp2FcImZHrwydZh22HZ8LyYufCHUB7rmMLqtZHiisSFCBOycwTz7Dyd6e/R7Z\n",
       "aGC8RL+vcMdXYDd5LSgU++ky2/8Jf7Q+uEIhjGVoom2TvMwpn7zMyuggMsfF7pQVGw47v2ZJT6KB\n",
       "dK55cmHUcdr5hHkbe3mea4HGwol6Eb+5RfCPrMM+hXPUyNn3Zp2HtzZ3EHuuqzzGRC3YlZEbPnmr\n",
       "2sSz5ufiJXbD5Hk4a41b0mM20KmaRtIWYJNaFe6ONZ/DppiF+ESgLQtyFm+78v6AVrwL2AWJo5QF\n",
       "vSCCxTFj0vBqH34xRCj7oYvwycsn7RLu5t+deL+W4YH2YQzSQ/LSKiZvHoTY36eqRs6TEbuiyz7S\n",
       "tKlxsp41/nQdM+grUDU8DAmtxAsgI5dvXVx70Bt/cXr6OE3uxzl/7YnqOsLVaBWNi/kSy8pDk9ul\n",
       "tJg1AXbQ3rrDjcp6Px3+meYyuA45mfWs1F3He2tv9JKkq5AQmbeSu/luY1bFIesqLpsVWXuPL/jl\n",
       "jYkD27FBHiZN72B1nDitPN7SwDWFCHs95BHEVHDvSNQk5PKxxg+XZ3E0VdQxS/8wNmSvpsbiWxqJ\n",
       "6gUURF/vRmfpGbAKLpk3dyvPOh717/s7W58WQoeECzgT3Pb1vITs1AP3nMdYTv9p8VcasHVXESOU\n",
       "HOOVl9m+ope9g0+ul9WhNzbwDmhNPLZjLa88qcX9bp1ZEhGnYNl9zy5xu+aQf6ByCtiIgs/UF+SY\n",
       "lcyDXZye9B4lg3//ENTrYi12G77sWeQpLUI0EbeshHaGKQXfAbqsBs0eCr026Og1KKtPtNoNRxVC\n",
       "ttqCHDpVWxL+3u8MRn+ltTxzmmwKh9d4o/F7bqclbk/YfwHXXyfvdZEMjQAAAABJRU5ErkJggg==\n",
       "\" style=\"display:inline;vertical-align:middle;\" /></a><br>"
      ],
      "text/plain": [
       "<IPython.core.display.HTML object>"
      ]
     },
     "metadata": {},
     "output_type": "display_data"
    }
   ],
   "source": [
    "reversed_weak_bound_via_left_factor_bound = (\n",
    "    Forall((a, x, y), greater_eq(Mult(x, a), Mult(y, a)),\n",
    "           conditions=[LessEq(x, y), LessEq(a, zero)], domain=Real))"
   ]
  },
  {
   "cell_type": "code",
   "execution_count": 95,
   "metadata": {},
   "outputs": [
    {
     "data": {
      "text/html": [
       "<strong id=\"mult_neg_any\"><a class=\"ProveItLink\" href=\"proofs/mult_neg_any/thm_proof.ipynb\">mult_neg_any</a> (conjecture without proof):<br></strong> <a class=\"ProveItLink\" href=\"../__pv_it/theorems/43bd53ccd8cc1d554e6db93e300a6e2cc46a1cc40/theorem_expr.ipynb\"><img src=\"data:image/png;base64,iVBORw0KGgoAAAANSUhEUgAAA/cAAAAZBAMAAACGDsOTAAAAMFBMVEX///8AAAAAAAAAAAAAAAAA\n",
       "AAAAAAAAAAAAAAAAAAAAAAAAAAAAAAAAAAAAAAAAAAAv3aB7AAAAD3RSTlMAq1RmmUTNIjK7EInv\n",
       "3XZ/CtNrAAAACXBIWXMAAA7EAAAOxAGVKw4bAAAH7klEQVRo3u1afWwURRR/vdv2rntHW+NH/Eia\n",
       "8wtIpHgRJFoMniIGIepF/YMgIU2AGEgM14SEVAXPBJXEQqtA4DDBBRIEqlz5MiixqRhTxaANKUqQ\n",
       "JlfbBBXbNDUIKdE6b2Z3Z2Zv76O98aSGl7y9N7NvZt+b33y8mTmAHFTS/SNcp/8h9XeHcuqUFd2q\n",
       "mMmKyJclVaiZ2fNi1xzgPoHBG772wK8IMVZFP0up0pSqehe7m54pdU0Qem8xgl+FmXdnA78Efzzh\n",
       "Yhl4n8mKyNNqi/tOkUevsk4adjU9U6oQooYroV6BCfhzMO+lbOBrUfwp1hym1zFWRXsEeSk6Yqiq\n",
       "eYWb6ZlShdFSVRWh9xYT8N/AJaA5G/h+nBwaijXwtTBjVTRbkIewv0dU1TzdzfRMqcJoSFVF6L3N\n",
       "YdoHAqGsaz528UPFAj9osipqF1a8YXyeVGap4WJ6plRhS/WwsqpOcibgY8xXlj3gm0Z+6ooF/kST\n",
       "VS35guGBTnwuUTaFhl1Mz5QqiJjhSmgJZ0T+VHf3t9nBD3Z3n28tFvjzTfbdccERmNe3rc1jM+Mo\n",
       "pgmGl1X3kCnuoNCoAw/Jpdt647mRsAoFqlxMl1OKnGCGF2K0rXOQM4I/F2B7dvC1OJQbxQLf6pqL\n",
       "YuXyZFfaAR/ktsJZTByeyRX6ZYAZvI1Pw1NS4TUhrTknMHYhL04qWjelqvQ5RaETzPACjOY6Mzgj\n",
       "+PXgI6brLJqPu4FP3tcXbSt6mrH+JWjyZPdRGJ7OvVdgxT60MyYI4cz9BnwHMIW/a8W0QD9BMOcx\n",
       "ACvkxxWl3cV0KaXKCWZ4AUYzHQR3CmcEv9wIkL1cgFVwlvWurqPwSBU/5NkOR0eD31vNo0W8YnO1\n",
       "NRt+xVgbRDd1NkyTOMaeRR/04zfgwNH/dGkyzGPFoM3WCRLf9tDBeRaeBLgK0MRrxKp21/HCONxa\n",
       "Dt5uK7h8gBWCCaQh/YMOBWK2/jL9VnysTlClNCeY4cL3mdFMOQ+jtWEb3CbOCL4nJcd7G2/bAncG\n",
       "DM3g4E8dXbxXMpoAwd+TiOrvxjzvy+AHmyEZhY39rLfj9uwb0C+BZg6lLpeaMI8V42kKPu//pWTP\n",
       "tEiokXx+oFMsDBBhQ3NCxP0DtJA5hbengy+nRu8EVUpzghnOv28abSnnNDrIR+MizvR4t26WFCHN\n",
       "xRO/VCTAp30o86ZGA34wPgrlJ4hy4ADATHnaT6bgUSLV8C78N3gHoTLqu5KtNrMYuE77Q3QI1Ag1\n",
       "4uTdKRYGuASvZzOfFQK7pLjmp037qpwYssbuGI1OcvhqOFPwD5F9fGkPrbkvxI4/J9+7VgQ/MJFM\n",
       "A/rhi9YpnyAKzWJnNg3QSajN7lSB3vTOY+bRQ9Ldb/Iblx2MkyG4xRMT220ISuomeY0c7UaLLeZx\n",
       "eLnw5Su45MLDdvoP4rfYjpXkbbQ2ezuyQgcex4DPubrtcKZUOcEMH7vRVAfBZd6bTMF/jXzlQCXO\n",
       "8pqnTqceTQ7selEA3/cFeXwca7IQF0ROPLPf6MMxF220Xp3xt6epm3n78DFpEs839yHlKU+XJg4a\n",
       "0pg1kYi058Uljq5pfK2jxfQUj5XF/diNsFnakJGo+ZjYjiQiDpA2/FxeMO2vCIUiEx27SNt0KaXK\n",
       "CWZ4nkbbFXKjqY5Gjzzmc6bgl5Cyr1AD9wcipbSLTYbIrwL4cCvOz0DAbKCRAIqlU+c45m98X47S\n",
       "JrqZeAr2mupasx5/ri8qH4WSPCBxxfOYqK3lLzYw1quP1f8itdvOi29XE0s3GPIC2SWtdbSYbxdv\n",
       "G78Qbe88gs6d4R3j8CxDbEc4Pu03UuKcvGDaX+GFdOMI7d0O8Dc4U6qcYIbnaTS3t0vSIeCa3pvM\n",
       "r3R3mLti7/JE4j0CfkuZCD4LYHrAX2NYYhCSznCnx5S+hsdYwGOqY9DVrsuxsRWIzUgkEqH1C4RF\n",
       "Os6YL1HyNnt7HnGEONefdVbgOC3zOE/PGvI50sBN/Jq0aC3unircibRzy7EYjUce6L3FNvj6MDW1\n",
       "MuZvZSO/dKoDfP0ybNoPEwxL9EGjvORjpge3JzAIJ8gTjyWoOqkVIOaY+THPOx3gHdqbScCnO64e\n",
       "MrTbKlid283kXi47r1+c9y3OdvRFfHlcYKJzs52Z8p2RSidygZ+X0djk1rUZsg2+py6iE9gbzdO+\n",
       "B8EexvbI7/BfqkU0iR4VYQuKLfYDMz33oHTO20yeyyBAwW+Bsii0QnlU0GV5q/cAOzr0HYnRXS2l\n",
       "rSa7tptv2/p5edwPaMIAcrRKQ452bFi/Lvcowp7schW61T1VuBOgwuhG03uL+civjvlPUMQb8Pji\n",
       "hxj7C4cI/gsPXAwjmkSPilocxcaYvwMfZuY2zFs3gM9VZJ1B8BtDvtlkmZqLEtPtsPJmYkNg3S3L\n",
       "N9uT5D4rDCT06so2xy5yZGQwd7vtvCDMSM3ZAALfJ1fl6fX7kZE8DqWq0nuVYLacUuAEqDC6RxhZ\n",
       "W8HxNy4PXcr0TxNbHMe74kJmUD2kzypsESxJ7wyZksdWB7rTDhgpU6LEpJsR90RCDpx8KcaqSL5I\n",
       "qVDypxRcPl2wkc1W6YSiWxP03mIZ/IVlC9pdL3aE6e73Q0SP5Y/8ZYm0sBk3Gqa00FYvpRPSypFO\n",
       "U6KHY0zqhPFJyxrHn83p4Ergh7U+Iwf4TM9NdEo87c0kVdwVGafgPzNv/NmcDm4+/9791/6377kJ\n",
       "rtN/R/3nw/8AdKjM2N95P18AAAAASUVORK5CYII=\n",
       "\" style=\"display:inline;vertical-align:middle;\" /></a><br>"
      ],
      "text/plain": [
       "<IPython.core.display.HTML object>"
      ]
     },
     "metadata": {},
     "output_type": "display_data"
    }
   ],
   "source": [
    "mult_neg_any = \\\n",
    "    Forall((i, j), \n",
    "           Forall((a_1_to_i, b, c_1_to_j), \n",
    "                  Equals(Mult(a_1_to_i, Neg(b), c_1_to_j), \n",
    "                         Neg(Mult(a_1_to_i, b, c_1_to_j))), \n",
    "                  domain=Complex),\n",
    "           domain=Natural)"
   ]
  },
  {
   "cell_type": "code",
   "execution_count": 96,
   "metadata": {},
   "outputs": [
    {
     "data": {
      "text/html": [
       "<strong id=\"mult_neg_any_double\"><a class=\"ProveItLink\" href=\"proofs/mult_neg_any_double/thm_proof.ipynb\">mult_neg_any_double</a> (conjecture without proof):<br></strong> <a class=\"ProveItLink\" href=\"../__pv_it/theorems/dce9c36eb19ca21cc02980a0af21c293adcc6dc60/theorem_expr.ipynb\"><img src=\"data:image/png;base64,iVBORw0KGgoAAAANSUhEUgAAA/cAAAAZBAMAAACGDsOTAAAAMFBMVEX///8AAAAAAAAAAAAAAAAA\n",
       "AAAAAAAAAAAAAAAAAAAAAAAAAAAAAAAAAAAAAAAAAAAv3aB7AAAAD3RSTlMAq1RmmUTNIjK7EInv\n",
       "3XZ/CtNrAAAACXBIWXMAAA7EAAAOxAGVKw4bAAAHh0lEQVRo3u1afWwURRR/vdu7ve4ebY0f8SNp\n",
       "zi8gkWIjSKQYPIMY0Bgu6h8EiWkCxkBiuCYkpH7gmaCSWGgVCBwmuECCQpW2fBiU2FSMqWDQhhQl\n",
       "SJOrbYKKbZoahEC0zpuZ3Z3Zu95eYTiB8JLZe/v2zdvfvt/O5x6Aj5T0/Aw35DqUgZ6Yr0+46KiS\n",
       "vMgWRaLnObvMsPpoD3N1iQM1WH31kV8WY0W2qJJfpbNQRlFYDJQrmEroqqES8ivQcG8+8kvwJ1Bd\n",
       "LHAP8CJbFEmg1VF3HiWHPlWB+3IHUwedwlUKlZA/G89fzke+lsCfYvVfRi0rskWV7BD0xfhYlqLA\n",
       "GCg7mEroi0ExVEL+WzgENOUjP4KdQ32xGr5WzYpsUSWzBH0Y3/64osAYKDuYSujDoBgqIR/fATOW\n",
       "d8xfSn72FIv8KC+yRZV0CGPfBTweURX5SK5gCqEzuCqhEvJxzhfOP+GbQn5qi0X+eF5ki6ohX3gM\n",
       "swuPi1SFXpQrmELoDK5KqMj80Z6e7/OTH+3pOdVaLPKf5kW26Hed9syl69pXFrCs8VTThMcIV/aS\n",
       "Dq9NSO/gI3Lt9r6U7x0cnzaQgimHzuCqhIrkzwHYnJ98LQWlVrHIz25BeLYwWSp3e6FO+Mgfk7da\n",
       "WBiDW5Ya5wCmudk+BnOlym/EtCa/G7g+03gBrYdKhWLoDK5KqEh+HegEqMFm86lc5JPrdUVbhh7j\n",
       "RbIY34Amd3ufVsMz/isHVu1jxzBOmNw8aMEPAJPca614LsgvEPXdBmA+mLVJIAZTD53BVQkVyS+1\n",
       "TLKWM1nlE+zN6t4Pj1a4mzybYf9Y+HunaayMl62vtHvCb1kxXqHtJ8XOtCF8YIM10xYcuOfh0xgH\n",
       "b8ImZPydHZE6sWrQ7vhEyZPuoIFPwJMAFwEanWvzMNR2OimgBg0bXnPbnU40DzuOD8taIy+SKITO\n",
       "4GZBZc6XBBXJD2Tk+d7aOzbA3aalWS75k8c23ysZywQh0ptOGO8nAx/K5MsZjDZBSwLWDrD3HldU\n",
       "h8E4CxpvVN3ZYakTq8ak2ybfbQkhsnpa6Fw7jGAGuxznKL7CcdZIx+VYETo+vJvm5UpBZ3CzoNrO\n",
       "lwCVbu/WzpTmRHNwxy8TN91uH8LBzFjIj6bG4PwEcTZ3A8zI1+23ZOAxolW5L/O/EByC8oR+Pl9s\n",
       "Xg1ydvvDtDFUCRFxOdAlVgY4C2+m8t/AliobnzjmK4Q+bLddZVAp+XvIOj7US6P2x9ge5cT7V4rk\n",
       "m+NJN2DsPWPv8gmq0Lk4xsZB2gG1Oy+V2Zf98nBbGSLY/rb7WWQLL66Qs5YY3BZIihkchpLaCUHL\n",
       "J4O02osVjqFUwHEeB1+Y7pz/RbIgZrScXE3U5M8o9cGssUDTvdcVQmdwVUKl5L9O7rC7HHt5LVBr\n",
       "0N5horntBYF8/Wty+CzZaDMuqK64xgGrH1tZosG+dDzSkeXObTvxMGGCa89eMrUhaYFuTWw+JK1V\n",
       "8bi4+qUDGz24ox6tZmTcWbPpJhNuhvXSqpLMnw+IGSVzY5Nk8ytpLHbv4vpodPcge4laMHQ3ch7o\n",
       "DK5KqJT8ElLvVQpulxkP0ddrIsR/F8iH27F/BkJmPZ0JoBqaPNvTf+P1UtTW0cXEXPiEu2tNRurZ\n",
       "/oS88UlsQOYVz+FJTY17YQ0vksWoPFD3m5TBrWferSS411jSwEYP7qhHq+nb3CxFhHn31n34qMfd\n",
       "F2PvTEvMKByc8gepcVIei7vlgRp9SNZ4oONe8guE7kTOA53BVQnV/aS7ha+Dg0vS6Q8I+c1hkXw2\n",
       "eemFSJVlq1Fo8U5uern2HTzOJjvcHadZHcaQPC/g78K0dDodWz1fGJZTrMgWd7CSd0I2FzCrEPv6\n",
       "E94Ann2zgHcfrb6ADQ7cPcBAetYmnEroWbuVlwvVId+4QGGWJyOtrOWHJnvIN87Bul0wzrJVHRrk\n",
       "IR+NAVyawBAcIkfckqDuJCpA0tPzoy04FeA9+iaTCZ/h+ewgf4gYJYPLYYX/A7d84upTPde8X168\n",
       "GdXjuv/nTHyW7O9RqqH7kT9mqA75gdq4QWhv4Lt9D4PTjJ2W3xk5W4NsEj+qwgZUm50DGgP3oXYy\n",
       "2ESOL4FJyW+GcAJaoTQh+DLbih3Atg71fUm6oqWykRdXNo6WQX3T6qcK+FqgCU3Jk596n4zWr17l\n",
       "354aeKAcXz4VQgfVUN2WX5mMHKKM15MuIPJTkv2FQyT/+YfOVCObxI+qWgrVhmSkEw/cuAltqwbx\n",
       "uJyMMUh+Q0yfRYaoOagx307bNgOTgLGbl6x3Osid9jQQRAvKa8vaPWvKkZEh/wxuPS30T02jkMMp\n",
       "+fyi3NH+ODLif4PenK+sauigGqr0N64A3Ys2vkhv8GzvioOYRf1QvixzVLA1oyvGtYDjDnRtbVoZ\n",
       "rlFh2q3IezotTwX1DCuyRZXIn1TKlPxFZRELlCuYSuiqoUrkLwjP78j5YUfYjvtzD/Fj9pF/bJVW\n",
       "5vNGi2sLHPcQ7YyWjXRxjX7bYFoXXAeSM2vXAlSJ/Gqt3/Ihn/nlUr2aex4cTSu7J349kJ8za9cC\n",
       "1EL+vXvF/rcfuAVuyP8nA6eq/wMSU8/VXbzITQAAAABJRU5ErkJggg==\n",
       "\" style=\"display:inline;vertical-align:middle;\" /></a><br>"
      ],
      "text/plain": [
       "<IPython.core.display.HTML object>"
      ]
     },
     "metadata": {},
     "output_type": "display_data"
    }
   ],
   "source": [
    "mult_neg_any_double = \\\n",
    "    Forall((i, j), \n",
    "           Forall((a_1_to_i, b, c_1_to_j), \n",
    "                  Equals(Neg(Mult(a_1_to_i, Neg(b), c_1_to_j)), \n",
    "                         Mult(a_1_to_i, b, c_1_to_j)), \n",
    "                  domain=Complex),\n",
    "           domain=Natural)"
   ]
  },
  {
   "cell_type": "code",
   "execution_count": 97,
   "metadata": {},
   "outputs": [
    {
     "data": {
      "text/html": [
       "<strong id=\"distribute_through_sum\"><a class=\"ProveItLink\" href=\"proofs/distribute_through_sum/thm_proof.ipynb\">distribute_through_sum</a> (conjecture without proof):<br></strong> <a class=\"ProveItLink\" href=\"../__pv_it/theorems/566144a208ada3b46d3dc1ae5bf09454f731277f0/theorem_expr.ipynb\"><img src=\"data:image/png;base64,iVBORw0KGgoAAAANSUhEUgAABOcAAABMBAMAAADU2M68AAAAMFBMVEX///8AAAAAAAAAAAAAAAAA\n",
       "AAAAAAAAAAAAAAAAAAAAAAAAAAAAAAAAAAAAAAAAAAAv3aB7AAAAD3RSTlMAq1RmmUTNIjK7EInv\n",
       "3XZ/CtNrAAAACXBIWXMAAA7EAAAOxAGVKw4bAAANiElEQVR42u1de4xUVxn/dh4779lV1D9EtxOt\n",
       "kLTZZePSplBdJkJNBdtOiolNo2W1NKT800GbNFSBsfFBInS3EQNUi4MktZTKDkJsQyNdNHWttbiS\n",
       "NTa0a4aWBC2RLiu4dYmM53Hv3PO4d+beO2c3O53zJTtz9txzvvl95/zmPO69vzsALm2wUrkE2rQ1\n",
       "ZqlKpeK+9ODRvpt0m2lr0IJ9fdd5IF1et5g2FbZCk05bM5CuE798Uredtjkk3W34ZYNuO21zSLrv\n",
       "oL/IkG47bXNIuvYiQCKj207bHJIu2IuIp5tO25zuXl+bmHhVN522OSXd7QBP6qbTNqek2wSRTg+f\n",
       "EX1QTtkd9WTpXV1bdfe1EOlixUTOy4cstElBzbzaJD67Nxd/Ih/4ie6+FiJdoOxtH/EHmxTUzKtp\n",
       "qwpo93wY4FbdfS1EOhjoRy+H+p83/2eSVYsfvWBUiF47WxRTzLhl5SXeLpu5J/plAEZeGm2e4cD3\n",
       "ACK6+1qJdL/aiEj1t+i0yS8radkv82aF9Jl0VkwxizMr76/RESOVyu2QHOK8L6D3g/ifxYt137UY\n",
       "6b6N9hGhLKJIhOxiSfLuc/w6bxUg3sTIErA3OEAL4pRYDudBCA92oaF4gZZD5Hom3HMb//koD65H\n",
       "72vxP8uX675rMdK1oVVVMpfuhMfO4H9JciQ+yRV/Gc4aqWQh1GkURCmxHM4zUoiNtByqDEkYBsEh\n",
       "wEr0d/PevXsz2+/RfddipMM2nI8tL8KZajJfnRvplDsNP3o2cAInOyCZoQVxSihH8oJLSQp/ACXd\n",
       "NF6xCTMsnsE3bC3DD8nyD20k4rr7Wo10yfzgWkK6Q0YylkPJeIm8oLfR6JXlgevx4VRxGdCCJMWW\n",
       "M/IeeRofbc9BCZdD2Q9AAuDHTCkjb/qGIYjhqThyLA8ndPe1GunCK3uOEi7tyNDk7TgZHYUd+eho\n",
       "9LfwpU9f6IU9JO/OslGQpNhyZt6tOC+ysp+wGFV+uO8dCBVwipbK07zoJUS4yB6yYX5wV0F3X6uR\n",
       "jhqeDTP0fEexbCaRBegcO5Yx86oF+XJG6sPAlqOVj6fNVNVh+vkzCMShvXtzuudal3SPv5qBcJEk\n",
       "H6qMmUlk99K3fUUjzyrIlzNSY8CUo5XbK/+rujEdhvJHM7rPWn6kQxa0S/ba5Dmm0p/Icm56a6a0\n",
       "adIpsMCHdEdo0rkhXUyv47W5s/iTqki3QDemNpe2s6iGdG0l/qjCuVfxhfz8PPTUYhYYU0O6m/mD\n",
       "aYW7yrfURnzfPPTUanZEJJ1b7TRHusgof/BGhV+LEhx8zW5l8NMxL26qPtLKNr5pvYX2aalegXRu\n",
       "tdMc6VJlnhAD6gA+jf7W2x1oz3ryU/WxURm0jZo+PgeSPwqkc6ud5kj3Gf5YSOEYgO8kmWIzwobz\n",
       "Dm4KX+tU3zxQ9bFUGbSlmj4+bb1AOrfaaY50ggQxqRDfCKLZDPc1MUbVddweqMepvnHA8pEsqoKm\n",
       "zlOr2bo8Tzq32mmWdOkZ/tgihSMxmqkTY3ak+w14IZ3lo13ZMNyuF3V+W65T2L261E6zpEsJEsQ1\n",
       "eIpeeJ5f6MGmEy5UgmK1UAlB7DqbkUn3tYsf9EA6y0eCAXvi7QJXOHHxlvoQq5USnZo+PoeSGYF0\n",
       "VDsdp5wquCLdoFDsfvT3lXyMH//Co/Cz+vMRrfYLbjQZ3hiflkgX/09xOO+edNRHFKWC1i5nSybE\n",
       "rV4jp4nsorZZlainOyaw/UUzyYPFrwmko9rpBO3a19HfZ82hZ8uaXPCkHek+Jvg8jdz+DkJjEGfO\n",
       "3z3XC3dA/MUP1CQercbckJlC49OSIpyCAwM86dCXJVk+dOSjLklHfEAKfTsCI9VjbyAXLMRUCU7V\n",
       "Q0gqBf9OIIxo+vi0pwTSSdppLFYgkuZA53FYbeYeYLrmpODyZTQtTuIufPxfdJjBhLkL91eIcAoN\n",
       "UzIOUohWM4Yy88M/D3A1epEsykITE2+i+R8rgQago5RFPKaDzZ9sBxvrAPZB86KTpvMQHoo5iCim\n",
       "GgitSkShQT1p82MrmCHrm2Cjnd6GX1bhMaI/BCWbkS76b5l0ySEYRnzppiNIFr28AvEr0JGLvIdz\n",
       "xmUcpJBRDaplMOnegPCUde3EGOkQN9dlrsC2gruRjvig0/yI6TxJpkkOItRCaFWKTFqetPmw4V5+\n",
       "pCPa6TDRbsXP4cX3ssgFevY98NiXy3akS0/L0+twmTjrZqfx4CQEi7RLHcGQavd1ctPrFB5eRNJ1\n",
       "ZNDAtNw16YiPw58D9srfcBlEiOAGISo0tLVketJrOj9nmzoF0mHt9OEOPHuG8AkL6PrGc3kiaQ4U\n",
       "jn/KjnQx8Ru/D/VNBj4SyLM9OgVtA4vF8x9Sl+Jqj5atLUgM9fF7eD0oka6A1n/WiZN6pCM+sosI\n",
       "YcxDHeiblGMgAhqxw/UQkkpt528YZT1p82ixMYF0WDv9KOmKZxN40jmVidLz+oFCKD1kQ7qk2PhH\n",
       "MFkC4yF2GEFM7M5mufta8DqKrJOGByyOoWqRn1uQ8GmJBbALJNK19caQt+gZnltVd9U1mXEA+4gX\n",
       "jxknYYzTMUOQKLAQ0db1hXoISaXkW3hfHypp9vi0xKRAOqydxoOVccIicvl2Q9IcKMRLAzakG84K\n",
       "Lneirup6YdM/ONLtv/CDroLxEABmFTduJihpSLWYdaouiri2/1ivTLr4QnyBbHNRGOnGWb/MAeKD\n",
       "nMtJWdukF/ve4SAmjvYX6yEklbbhJS7rSZs3C14RSEe6dIaslbDgOTj01QiVNAcKcHfZhnSDZXFP\n",
       "UD1v1y1+2sPwiItl5jNW+nWTawLp6Im1bCTvbnqlhhefW4QC3T4QLguP5WVP2lxb9JoN6QID2Tia\n",
       "PHbAIWgr70xQSXMwB+lOG9ItyYg8zjr1aGTP9tX1IS0KWemlIunCzMZn8/bvGkNd3Qv+JFS8+FxZ\n",
       "m3SuEHZFx0qyJ22uLX7ZbqTrwoJmOAs7MrF82y1U0rxzg3G7nUC6FQXR527j/VsPCbr7ZKXi4uTW\n",
       "/vPMkpN+TuTXV8tywT97+TUzIF8Z8Q4aEaIrhLthQUH/jkEjdsmGdGRsIWsgYxSTJM0M6d6Vbtw+\n",
       "qPA7obBr8RI1puwu85i+X92//deBdPe23zMC4aJDLYZ0L0llImV18NQ9S/gB/Aye88rcndfU8W+/\n",
       "dyBdb+hckRU9O5LurmJzBHrnat3Z88UmHEhX2xjSXafbUJtHe1OTTlvTka5Zpldt76Pp9SV5G5eH\n",
       "+StGzrvKmq9QlZSd6xjyrjcSrkn3bkE8iMXWKgXXSk0WSTcRVEeb1zHIcZxslHTyyeEbQaXg2lZs\n",
       "7d9kkXQTQXW0eR2DHMflRkm3RLzwjcXWKgXX69V+9zbawG0SqI42z2OQmvxqo6QbFHmMxdYqBddT\n",
       "alvBvJxrXsVtIqiSrYWmiEHUpdte8PdEuo6scCwJSgXX4Rm1rWCKpM37VZoIqmQ90BQxiLr0wFSj\n",
       "pEuJQ/siUCq4ToypbQVTJG32ZBNBdSTdPI9B1KWzCgefv5gzIhxbA0oF17zYGpsakbTZk/ZQ5Rwl\n",
       "UOUML1AdSTenMbhpbqsMjkHUpbdNNkq6oDge3w9KBde82BoUiaStnrSFapOjAqqc4QmqI+mUxxBt\n",
       "rLmZMjiGoDAZsgoHf6SLiivP06BUcM2LrUGZSNrsSVuoNMdSc7uHyiERoZKMOl5rQHUkneIY2Lu/\n",
       "fTU3LmPI9HEMoi59W7lR0tmJrVUKrhmxtS+RNPUqiKQt2bY9VJpjqLmH5RMSFIkFlZbBUFkkElSS\n",
       "Qb261nMzUHljROZ1Y3D+NLsYpJajbqkTN81NLo0SmT6JQdSls2Jrn6T7oj3pVAmuWbG1H5G06VUU\n",
       "SZvDhy1UmmOouVNZ2eu4AJWUwVBZJBJUkmF49aDnrjvS1Y+hxqfJMUgtZ7glTtw09ytkPAMzBlGX\n",
       "/nFomHTrcrbTqyrBNS+2ViWS5qZXCaqRY6m53UNlkYhQaUZ9r05Qa02vKmOgunT/zU2fkINl+jQG\n",
       "4dnWcK1x0okDwT5QKrjmxdbqRNJmT9pBNXOEx+C5gsogkaDSjNpea0B1JJ3qGLKLGmtuUgbL9GkM\n",
       "gi49ONM46cTt6xFQKrjmxdYuRNLEYX2RtNmTtlCNnKqa2wNUBokElWbU9loDqlS6B2YlBqpL99Lc\n",
       "xKHllZTBMn0ag6BLT3U2Tjrx8a87QangmhdbgwuR9DiAC5G02ZO2UI2czUXvUFkkIlSaUdtrDahS\n",
       "6R6YnRjIORgvzU0cWl5xGSLTpzEIunTx8a++SLeC3z7j7bZKwTWAvCpQIJKu9qQzVEvN7QGqhKTb\n",
       "h1d7qI7Tq+oYYLrx5iYyfRqDoEt/AhSQrp0fPbHYWqXg2g3pfIikzavozlAZNbd7qDKSbh9e7aFK\n",
       "thZmJQYQfuXeV3MTmT6Ngdel81d3/ZIuKvx4yW5QKrgGG7G1SpG0I1R3am4BqoREcuvGq1c9t9oY\n",
       "mEc5+G9uItMnMQhx4Oe/NU46+Cd/8CAoFVyrtdhsasNnG6qjKY5B3ZPjcQxCHNLPNPkjnfCDdJGy\n",
       "WsG1UpNF0k0E1dHUxkB06epi4OMID6ghHXwdtL2PbFZ16d8v+iZdpXKJHUQLuqe0ubI4e+96quLl\n",
       "GUgH+vpu0g2orUEL9vX1wf8B7lHSgYJggBwAAAAASUVORK5CYII=\n",
       "\" style=\"display:inline;vertical-align:middle;\" /></a><br>"
      ],
      "text/plain": [
       "<IPython.core.display.HTML object>"
      ]
     },
     "metadata": {},
     "output_type": "display_data"
    }
   ],
   "source": [
    "distribute_through_sum =  \\\n",
    "    Forall((i,j,k),\n",
    "           Forall((a_1_to_i, b_1_to_j, c_1_to_k),\n",
    "                  Equals(\n",
    "                        Mult(a_1_to_i, Add(b_1_to_j), c_1_to_k),\n",
    "                        Add(ExprRange(n,Mult(a_1_to_i, \n",
    "                                             IndexedVar(b, n), \n",
    "                                             c_1_to_k), \n",
    "                                 one, j))).with_wrapping_at(2),\n",
    "                  domain=Complex).with_wrapping(),\n",
    "           domain=Natural)"
   ]
  },
  {
   "cell_type": "code",
   "execution_count": 98,
   "metadata": {},
   "outputs": [
    {
     "data": {
      "text/html": [
       "<strong id=\"distribute_through_abs_sum\"><a class=\"ProveItLink\" href=\"proofs/distribute_through_abs_sum/thm_proof.ipynb\">distribute_through_abs_sum</a> (conjecture without proof):<br></strong> <a class=\"ProveItLink\" href=\"../__pv_it/theorems/72615738d6844463c5eaeb1577c5ead41b82d5e70/theorem_expr.ipynb\"><img src=\"data:image/png;base64,iVBORw0KGgoAAAANSUhEUgAABRMAAABlCAMAAADpooRgAAAAP1BMVEX///8AAAAAAAAAAAAAAAAA\n",
       "AAAAAAAAAAAAAAAAAAAAAAAAAAAAAAAAAAAAAAAAAAAAAAAAAAAAAAAAAAAAAADFBd4eAAAAFHRS\n",
       "TlMAq1RmmUTNIjK7EInv3XYgpUAwfPQKB84AAAAJcEhZcwAADsQAAA7EAZUrDhsAAA//SURBVHja\n",
       "7V2JlqQoEERRUVD28v+/dVUULy6VqsbpiPe2t5vJSjHRKM4MQiKj7idkBAAA4D3oFHXFd1z3gg4o\n",
       "EWIAAF6Ekbdo9hFOZIguAADvJEZwIgAAwJc5cZ1azCliDgDAb+fEQs8tVuhCAgDw6zmxXjqKrEHI\n",
       "AQD49ZxIKq7+L3KEHAAAcCKdpxErRBwAAHAiIW03ohWIOAAA4ERCinr82XBEHAAAcCIhLFt+vBS8\n",
       "EAuhM5lLLJ8DADjxCSdOXUTxtuN+eSeqIqukokJRqPsaF4wwMQoA4MRHnJjLNxFJLbOmGRhcEjFQ\n",
       "OZunQbkcN1rydvi1xSwAAIATn3DiQIhUviUqhZr+HDlxqDPluuKsK4f/hl+6Gs8OAIATn3CiyJdN\n",
       "ilxQKU4m5lIDzIZCninXVGbC0U7qA4gTJ0pezDc2zSmqfiImFAEAnPiIE1k7r7DwjhlMzKUmSjQa\n",
       "Dv23ug0oM+Fox9fDNuPYmTWKI8tss8kS84kAAE58xokkq5eBKTFwlbnUOK41GBYDjfHaX2Z0ONsV\n",
       "CxWWdMOJRSOmcp7pIzhM5hTdRAAAJz7kxAXtuHYx9RnZZr+iLi1zWZRBHyfNrtDkMcCf/mxeLDGp\n",
       "mgm5GjuLEgcSAQCc+DFO5OO/NpRzUucdP5e24x8hH99ivuLW41Lm8aftSLF0D2ux6SdKUpbjLCIr\n",
       "FJA9HADAiZH7ieN8YElH8lIMxsW2lM1D46l0/2NvmAupP12NVCX2HueyxZ/V4fLZijGpllrWzqba\n",
       "i7OssQAAAE6Mz4llQXMppk6ZYrC6zXelZNwZqErrlm1+7A1zNdidCllBqeR7j7pM+bM6XOx6ls+r\n",
       "K6yZpyHLSlaC8KLAkgoAgBM/xYkbLCPd/YTdsjnQMI23K2oMdiaPiz+3w7rP1pG8GOcTMUwGAHDi\n",
       "j3BiuZscFJzIc+nZkHeK0XaFBo+LP49DKVjHsZwMAODEH+PEWrYqx+xOo6Xq+747lc613f3VqJEx\n",
       "dXvU/jwOC0YExQozAIATv8aJtRKUzhB1AAB+EE5t++9yohglpTFNBwDAj3YFXdr23+VETNcBAJD2\n",
       "GBmcCAAAODEVTlynFnOKNgIA4Ldz4npSrkIXEgCAX8+J9dJRZA2aCACAX8+JZEkzK7AxEAAAcCKh\n",
       "mzStAAAAv50TSduNaAVaCAAAcOKSn6GBCh4AAODEASxbfpC6Oi+0mMqMrh12sikyySSeAQAAfoYT\n",
       "//r7r3CuHLuIQm3JyQwj6CxwVH2yWxSaeZMNV80bjM4BAAjgvn/+/tl+IsmlXmFpDYJSbaCO8tFO\n",
       "KzQLJc5MwYkAALxg7DwS4iyuXPdSZvz4kXOZ2fXeTis0c1qrTij2hAMA8ApOFPm8SVF2nMiD8omp\n",
       "zISD3arQnLMcbAgAwIs4kbXzYZaGjjKiez3SucyrR7p8dhg0jx9eFZopp1jTBgDgEifGzsRwMS9O\n",
       "Ns/8jVOCRbbXI53LvHqks52+K63QXNdljdYHAOAKJ8bOxHAzV9hYw1FHj2w1mlWZ1iP1fZZSpeW3\n",
       "rqjMaywEvUUAAAI5MXYmhpucOFAhbQjZaTTrMqVHapBo3tkxxtUa9jr8ZqIYryqwPxEAgEBOjJ2J\n",
       "4SYn1sUsOb/RaNZlamuNQaL5YDfvudEKzSNnDgPpAgNoAACCOTFyJoanebYNGs1aj9TE2tuyrFyY\n",
       "EArNAADc5MTImRiecaLWI91oL2s9UoNE80HfGU0NAMBjTtxlYtgJv98Zc0bSY6GXy2SeF2hqAAAe\n",
       "c+ImE8NhOaKbSZF2x0UK1hXjOWXanvSa/+n/jcGJ15FnoEQAAB5x4n+qfJOJwYK2XAe3KrtCno3T\n",
       "fGqTdIx+YoN1EAAAooG7cxB6zrFsMjGYwfTndXaFnEoy9MtEpLFzBuU+AAAiou74fU5cMzGUch0L\n",
       "c1ksa7q0IUyO9KezK5C8zksmY3GiJylYgoeWUz9HzVAh4Jcj7x5w4pKJgUvSa24tSL50HjPJct6y\n",
       "TXaFgROHsXNexuFE6t4HJBPUsBKJ7/RJrn4l9s0D334JsvucuGRiYHylVs6JWBYt2pGV6m12hZET\n",
       "B9aUTQxOZK2zE5GnmP1w4hzetKHbfy6YXofBeXqcLTE9AnwZHb3NiToTA2m23+bV7JH18zTiml1h\n",
       "4kQuDNOQNzixc3YheJKyfjPnVOFr3dUnl8VPzhPsx1Y4dQ58efTc8tucqPmn55v134XFaEPKbkrF\n",
       "IHb9xDGLVwROpM4ED6RIsn8xc05vHdaXx2rbTc+2/pEo9ThPkBMp9koB3/4eLh5zYl6Ni8lcUd+Y\n",
       "jGb6NZOk7qbllHV5m07vnMwicKLnBE2b5lTFdP9lb/0eOn5dOExJfnmu7fCJs/MU5ztbdBSB76K0\n",
       "98SC+4mZXBIrKMKbfm3YuFlm7Bjq7Ap1pzKLReBE2TtflTzJofPMOaIL5jmH6XNOPDtPkRMrzCgC\n",
       "337msqecqF+59RHeD8r82RUuc2KXuYfOSy+SZcIrShpiEwafJ8U5VSZllgfxnMP0OSeenVs4UUhJ\n",
       "nbvjvQbBXxpnRyLDOwp8F7mtx3WVE0tOqlLlcS2vjneucmLd10Gdi3JcnG7cfcoQm8A+98YTZzZO\n",
       "5H3Fhx8sgLVcpo85cee8tnMi6wbeLBx5Mr0GwV8pJkebLVdFtwGoEvgUeC/jcOJAQ4VUx/YuD3eu\n",
       "cmLmmS/sVPeHt3R6labfLfsZNzZciCy7z43bq5kz0k6co76EWmmq0oHntKmpZk85ca0HWQ6pGzmx\n",
       "E9bq7g0ehm9zpe1R+bzFOwp8GU0Xaez8CcK2yEW1nl7CfNS66PWrVkvZ7fpIuvOx2hQrpe1MPN8p\n",
       "1dmT8d9nzimmv3uxr5LqA7Xtrg+kTXc1M9u65xIMn9DODWPnXXzmJrBFUBvsKxkYP9OVtkflh69F\n",
       "vKLAl0EtfTH2xcnti/3EuqdBnNg201un/tgd2un0cvvGZvzB9Ki8C9wFou12VzNdSnHORJrltA/m\n",
       "dI7o0PfTpvuaxeknbupx4sRjfIgjgtrgUMnA+JmuxPrthAReUeDrg2f64/3Ei5wofSnE1NhZTQss\n",
       "9TUfZNzajJ1S1te347h6KqWx+zZxzsRCqk/k40RtaqrZU05c66EPqRvGztupFWMEV4Nn4dteSR+V\n",
       "318U84nAl2AZiCbMiY2v76BO1vDptc8qMonY2zhxa+Pe/eJ7p7Wn3RHwEyfWy9SjnxNX03PNHnOi\n",
       "dq4PqZvmE+dvzNIawY3Bk/BtHS1H5Wd+BIAvwzKhmDAntr73ZN7AMVJjPgzOCns/cW9jThWk57zO\n",
       "v5g9bY+AnzhxzHDWFCSEEzem55qd16h9ldx/QjtfD6mbOFGtA4vaGsGNgSd8nvitjpaj8lOpwBsK\n",
       "fBuifxkn8t43VVWrt5dnUtQsk7WDE3c2zJxSUs95nX+xeGqklRN5JpaThz5O3Jiea3bsJ/orediL\n",
       "szpf9i4Z152FoFRyRwRXA1/43PHTjvRR+ckSqmHA10H78l2cWPfeYWN3ntbK/cM6VoyCzxHuZ38E\n",
       "fM+JripZx8OGmj3es70dtjI7J4ZHMFb49FH50SckxIDvw0Ix6XJi3ntzIxpSB/g5kTV1XRcxzteq\n",
       "I+DXOdGW18FUs+c5INYwtyQCJ0YL33pUPtVkHsAfDstQNF1OpAGLm83hg0xUvfD0rNp+RJSQTkfA\n",
       "PZwYUqXoNTNiWSV3cqK3utEquR6VH3gW7yfwA+izd3GiDFDz4ym+TKnm2V6OQqZXvwbqA8CPcGLz\n",
       "Lk4UIYeTWYJp62WKOoPLIfUU6ydBicCPoK3exYlFj5x68bAcUgcAYEHXvYsTMxyBBQDgk5zYghMB\n",
       "AADeyokYOwMAgLHzCuFdd2aG34AQsIhWwKfjhXa4Fy5/3N62xiK9+xP1phKZ40m4hCCVeUT1E1G9\n",
       "DrTDzWbwbzprX7Y/kQZzYorK9x8Vso/wnvkPjiCqn4jqdaAd7jaDnxPfdo4l7323NN9zmsr3nxWy\n",
       "f14732QtovqJqN6gH7TD3WbwciLvxbs40Ztme7nnRA/L9kkPeY5HxU+npBHVCFG9flwd7RCvGbyc\n",
       "+LocEMSbK2y+5zTT1peJL5sfVOZP2XQQ1QhRvZ7WCO0Qrxm8nGhJM5MwJ3a+UYO65zzNwYVIPP3V\n",
       "QWX++C4iqjGi+pwT0Q73m8HLiZaUCglzok/KdL5nnaI5QNU+nvC915VLyH6pf0Iq88d38UpUI4b1\n",
       "D4vqc0587dPtj3KsdrA2g5cTs7fl2R6qwEM4cflqDlC1jyd8v3NlUr53Ctmrxy4ZlXnTu3ghqhHD\n",
       "+qdF9TknvuDprm9FOVY7OJrBy4kWdZOEObH2zeOqe1bqfTsteotuezzh+93ViCnfoEvzfp4aSEpl\n",
       "/qRxEBzViGENj6r1QmlF9Tknpv50E2O2e38zRGsHRzP4OJFZMvknzIlezXt1z7PK80aL3q7brk2e\n",
       "K7drVxYDo+Z9iirzSju0bffaoeFRtYY1sKbmBrIYLFG1xeTDUTU5MkfVElYHnrbD06fb2w6mp9sX\n",
       "HMdDE+fpdjWDjxNtmvcpc2LRXuDEnRa9Q7fdJHx/U7mdn3ZQbnSazJr3yarMH/sn4VG1hzWwpsYG\n",
       "MhvoqNpi8umomq7kiOrzfuIXn25vOxifbk9wnA9NhKfb1Qw+Tsw68jpOLD27trdj560WvVO3PYbw\n",
       "/c6VWfnepXm/evDWNlpdlSezyrx9zBYQ1YhhvRBVy4VSi2qssXO6TzeXRX794Y7WDs5m8HGiTQQv\n",
       "ZU70fWmoe1aContVe8tTE0v4fuvKonzv0rxXBmmpzB/fxeCoRgzrpaiaL5RYVJ9zYupPd2HcLeRt\n",
       "hmjt4GoGDyda13CT5kTPyrO653n7w07V3twQAcL3IaLye1cW5XuX5r2aGEhLZf74LoZHNSSsH4iq\n",
       "+ULPoxpa16ConqS8vb7vt8OPPN2cE1HcaIYLT/f9ZvBwonWWN2lOJK3wc2Ktgr5Ttbf0aAKE7wNE\n",
       "5Y+uGmm8ll3zfq59Uirzx3cxPKpBYY0fVcuFnkc1sK5BUT0PhX2+77fDDz3dp23qYc1w4em+3Qxu\n",
       "TiytrJM2J7o7ivM9G/YCBKg8xxK+Jxbl+wuVSUFl/jTIuxXVeGH1RdV/oRSiGuFsX+pPN/GkOfVW\n",
       "NlJdDc3g5sQmI6/kRFIJPyfS4kZDRBO+H+dTio9y4ldU5k+5B+5ENWJYPVENuFAKUY2QAyL1p7tu\n",
       "H37hR6qroRmcnOg4sZ04J9Yt83LiSR44QGY+orz8MNBwfct5K5OqyvyNqEYMqyeq3gulGtV7/pN9\n",
       "ugmRzr2X/srGqquhGZyc2NkPhCTOiUQ2fk5MUvk+bQSozCOqn4jqDVZKux0qmmwzuDhROKg8dU4k\n",
       "mX30rMXbmcT7eAlBKvOI6ieieh0Jt0NV1m26zSDtM6Gl67hM8pxIKshRAECSKGTxSnHN2pkQ/buc\n",
       "OCELLV+6wjUePgAAok1HWCmx683Tm7by51WhE8rQcgAAgC9CMRG1lv8PSqfeaO3ojc8AAAAASUVO\n",
       "RK5CYII=\n",
       "\" style=\"display:inline;vertical-align:middle;\" /></a><br>"
      ],
      "text/plain": [
       "<IPython.core.display.HTML object>"
      ]
     },
     "metadata": {},
     "output_type": "display_data"
    }
   ],
   "source": [
    "distribute_through_abs_sum =  \\\n",
    "    Forall((i,j,k),\n",
    "           Forall((a_1_to_i, c_1_to_k), \n",
    "                  Forall(b_1_to_j,\n",
    "                         Equals(\n",
    "                            Mult(a_1_to_i, Abs(Add(b_1_to_j)), c_1_to_k),\n",
    "                            Abs(Add(ExprRange(n, Mult(a_1_to_i, IndexedVar(b, n), c_1_to_k), \n",
    "                                              one, j)))).with_wrapping_at(2),\n",
    "                         domain=Complex).with_wrapping(),\n",
    "                  domain=RealNonNeg).with_wrapping(),\n",
    "           domain=Natural)"
   ]
  },
  {
   "cell_type": "code",
   "execution_count": 99,
   "metadata": {},
   "outputs": [
    {
     "data": {
      "text/html": [
       "<strong id=\"distribute_through_subtract\"><a class=\"ProveItLink\" href=\"proofs/distribute_through_subtract/thm_proof.ipynb\">distribute_through_subtract</a> (conjecture without proof):<br></strong> <a class=\"ProveItLink\" href=\"../__pv_it/theorems/22ad0e3d9df21a516da25d7e458f8ec34dc54e1e0/theorem_expr.ipynb\"><img src=\"data:image/png;base64,iVBORw0KGgoAAAANSUhEUgAABBAAAAAzBAMAAADcPOZIAAAAMFBMVEX///8AAAAAAAAAAAAAAAAA\n",
       "AAAAAAAAAAAAAAAAAAAAAAAAAAAAAAAAAAAAAAAAAAAv3aB7AAAAD3RSTlMAq1RmmUTNIjK7EInv\n",
       "3XZ/CtNrAAAACXBIWXMAAA7EAAAOxAGVKw4bAAAL5ElEQVR42u1de4xUVxn/5nnv3HnsaNXYouso\n",
       "FUjahUlFTGlTRim1aV3YWP9oaMOOBWPYxHRITBqq0rHxQVJgwYLtoi4XalpZKrsgJT4CndYoWlJc\n",
       "69Y0267etZsgoSJuweURu57HfZxz7p25d4a7yx2yX3KZ757Hd76d8zvnfOfc+xsA3KSvrw9m5NoW\n",
       "T33898lzV8/DRHmml6ZQlJ30c9fkRffCr19NT6+b6awplc2qrtwabCCEBvj7kn+mpao5vjVSCj4Q\n",
       "woPNAYRF/G0m55/pf1TNWeVXE6uaYEo40BRAkI7x9zf5OBQGqmZl8tYa+uNBPm/vqx4WXqMSYyiw\n",
       "ks43AxDSGv8NF/0z/WyNvC5LjReEvDUebJuVuppgbXilGYBwO38b9XGELa2Rt9BSW8TFaNyDbbPS\n",
       "wiZYG9Y0AxCO87cpH01XauSlVFPtVPms2CUPts1KKTX4QOgsBR8IGeFbn+PjjFhrlYlbM88RISs5\n",
       "6MH4EQdDgZV4NvhASGf5+3tx/DjrJB84wLqjGzyEnUK1KIoVlTM3PHGQD0LG8rAb9bbV7pfPvJ//\n",
       "2lpH3XcuZqVktgmChEvBB0J3mb9fja4HSwl+nogdg13uMzCt9hw36KMwqrXz4z1cgSUAEXO6UP6r\n",
       "9nOnAf1dyoTrroFWKhuG2kew/DmgQFDeCz4QPiLcv4bc/i1EB0Fhzheez0M7KL95X00w0Gpw1Jps\n",
       "0Lj+DCxR+ZPLx1Gh69EgqTDDJaWxrS1Q4YRbY6QSwBusoQDLT4IPhJeE+9+hUXwW0gOw5V90eOIB\n",
       "twLgTTS4cT+jsWg3QgrRavp4JWFcBx6yd9GdJBmxqN9ARR14AkA+a5SLFqFlgG0N1bjs2hiuRG6J\n",
       "oaDLklLQgSC/awdCaiv0oz5so8Ma79f/CMp5aOmQLuCUIYdAAxfSq4FZJkXuTtjjfRnZiVWMcgg9\n",
       "nTm2tTchNu7WGK1Elq1mmBH680EHQmbCvjT0a3gR17tGX+IiZyGi0r6p+seSaquy3NIAsQkQnr7e\n",
       "BZkKcwCPTwRWqExrMA7RS26NkUrKWM4wFOwYAVLZoAMhIY6nXtSjOfhQuMQCYRxCxblu+zpS7VHN\n",
       "CjMTGig7QhUQDpq3QQJ9LZGtZp+WUXTBAuECjklcGiOVoniDahkKsCQGgw6ElPg1HsAdGB6Kcl3T\n",
       "C22FAvM8lS7UZAHvL1r9jqpJe6z+Qxu78IWfVmLCXvCz0Jmne0sqoXyiwLV2HWwHtjHSjtAYqdSX\n",
       "LLCGAizJsxQIZGKYXRMIIRILT/vhSH9BSNiMvvPWX677J9c1u09/v7UM0k5hoR4yFNpfpFrCOkqQ\n",
       "0dZjuXbjLUILu4+uQKFTusOsN2sp8K0dQl8D29gQ2BsjlfAG1TIUYImcp0BYhj++WhMIUfz3xKf9\n",
       "6Xq3JoZi5rlCm1j26/CIB2T9zNLfqFLmMLq+JaS1NdJYS8luKJAiv0eB8G187ra1JhBkPGusn3YP\n",
       "F4hneJFCta6Rnt54j7vBOVFLd3welCwqL4P9gVRbI41tgtpPtoJzonSOAiGO1rtkrnaMgB+nHpz+\n",
       "DW5ZTHlK//zGw0eFcGJy0sOWffdJJkRymuDSGn4lShwWYmveGht1GV/Bkf9QIETQWhZ3CRY/hT6K\n",
       "0+7gv219tdfHceDUSeE7llXDSN2y2i9DUy4X9V3DqyMjx12AkBoZeWv6A+AXVTFF0vyzXv1J1Ukf\n",
       "rMfvr/hjaBrk9zoQ7gZAUbBC0Vt2BEK0DAl12h1coULTSnSseZwf0YGwDiQUDCY1JpiWhl6A27MW\n",
       "EFCBdVcQlq61a065WDLbW82h+jGYkemQt3QgJNQkt93dcv0O+HhSjarMgdJOeOEKWprloNlz5dGe\n",
       "DmVbKfyjGSBcHSCENS5WjKKlAmZrhSSzNMD8K4oV/+Cg2XPvRMtScj/AbdfC0tBMYiwNULwDIDZK\n",
       "QumxHLyNlXmf3MABIR5BK4fyi9NGGMyoTCBuJmbGNnweyEOeLDmxGFWNs4tR1X6eQdPIu9/PfJdh\n",
       "nrxob6IEwaSNlDwlXW2RwJHXYwSLcLALYH8L7o1ouEi3VfOSex5ggZCcg7J/Xuo2/jpGtcRKPBna\n",
       "+hAChnZJruAuHs7oJ0GWxkQFehrZGs6dy24fbZErJrj4SXLxTexUliC6GdPoJchLBhC+iYbto+T0\n",
       "rC9ZiJFHCvOgcIoFgoQL34lPy9aT4YvV2PxlvEGSn8BaPqGhTpT2DGYwrBL5SJEez2Pti2P8ATxO\n",
       "AxSQ3IdvFi+ueaB0E/hKcuGms0aoLGYZO5VlitwUvbK5XbPS2/rFyzkDCCH8hffS7W8+sran5wcI\n",
       "CPviLBDgw4DfCxkFuY0AAasp6OcN4kRdWsjUEBoIYfylytHs48OgaxWFP5bDafhzUU9PT27j/UzO\n",
       "AvGRDSa4+Ely4Xf+4lzlhcpilulycHVKZI2b27Uq4VPkuLg4K5cNIJC7S2XagfIAnRFi8zkg4CIT\n",
       "8GQfpFVDlchxOmMQJ4bpaewmskSmO1LYagukckCAgLUSWS4swWmRhQBP4BscLCpGTrc4zDDBJTpV\n",
       "D0EborKYZRY6uDolMu7mdq1K+GFNpGAL0lgghIsFZYA8KSFz+KfBGt3m+wjH5POLMRBQQaLCDqzu\n",
       "M//BieEbkSZVDgM2ly53AspKq6iVYVNLdDB1aNojzwI9sZIOlaw3TFtEl1PgL8mFk0aoLFYZkcoy\n",
       "VW7avOpU66n0in6xEh7nZoTWkvwy6f31aBDLfy3RlxA4IHzpltN5DARUkKjRMlY3leRj+B898Wmc\n",
       "tvyBMyr6CC/9IcJWTl6uESDo2t1EO6ZXpGm34Wd6uI19a7ebkUFanF7ngK8kF14aobJYZUQqy1S5\n",
       "afPqSF2VVusXF9ZOsEAg0CCFlF/17OAK8m8o4aUhTNVfZ0wVDE0ZzBlpYXgOnkSfdO4aNrSkqhlp\n",
       "YOZ+EGOgp4cPCkIVweV7wVeSC09waYTKYpVJeuLi2FM8uLl/KSjZql6Jbtd28wBYRHjzaz4rAmEl\n",
       "eVJiEw4I8jvoq1tJzU/+z1BJbfrRqxraSmiNoTEdI3PXluM5XXt4clDXyKxFNcfRFxGnQQPPPpFc\n",
       "OIJLQ1QWWkYGlhNjuWpz0yHFg5sDN+PXc6t4ZXO7tpuLwPabE/obgSwQ8s5PSuzvLOadVJuWh/tO\n",
       "46/I6thqWuYTjqGvLAZGr4GvJBeO4NIQlQWXoS9OiVQWRzdpyr4DN9Tjppxrh9BWrsVnLNQRt10s\n",
       "Mm7eDPRi5TFNBEIVmfqXV8MfcE53ILg0RnKhZBWR5GIQXCxWCrVJc71QWXAZvbsIJ+Zr5MX1cjU3\n",
       "aUoB2s2U2m7S13BRJ2LilNWifGbQKo3ddrHIuNmtX6wEn+ACX3AGQv0kF5JmI7kYBBeGldJm5Xqh\n",
       "suAy+uJUsblqd5OmnIfHysC+7FrdTVIGxfzdZa5FnXdhMnBcLDJuPqhfrHwUAg+Ezg7HpcEvkgtH\n",
       "cGmIyoLLwP7PAcuJMV21uamnLKbd5tlNNOjf4VtkGiNuu1hk3GwD+/ueTUCCFSHeC36SXHiCS0NU\n",
       "FlKmgLeKIpXFyU0jpfaWz87FycI2vkUWCMRtl02k5eat9i6PNAEtXtw26Jsfn0guPMHFG5WFWLNM\n",
       "4jKKegjsVBZHN/UUebgeNyGajb3Le8UAgbotWLTMim4aG3B2tDXBD2WIP52zGfwkufAEF29UFhpO\n",
       "FLgyZKsoUlkc3dRT1qv1uIk8G5vgvWKAQN0WLZpmRTdft/dnM/x0Dtre8eAt+0tysUtDVBbcTSKV\n",
       "pYabUkEq1edmUtgOiAGJJ4vYTWmQXqzoy06wgRDnJ1z+mcmVk1xcgeDJJHmIJlJZqrsJ6zd+R63H\n",
       "zcPwfK42EDxZxG46PLUznkMEGwiy8IObT4GvJBebNERlyWSdqCxV3YQ/TU7W5ebfxDc9pcOXtfot\n",
       "YjcxW01grKVzzQAEOMXf7gVfSS4+TVt5JyqLf27OHuvwy012IDEBeBMAQfhRbknzl+Tih3wFv5Vh\n",
       "n2aC6GamRC92ZSh6B8JfruZ/3PEQBF2W3wPNIFXc/B4NLvr6TrmbmPmPO65dUfRX7HZNXvw/cM5H\n",
       "07k7mWkAAAAASUVORK5CYII=\n",
       "\" style=\"display:inline;vertical-align:middle;\" /></a><br>"
      ],
      "text/plain": [
       "<IPython.core.display.HTML object>"
      ]
     },
     "metadata": {},
     "output_type": "display_data"
    }
   ],
   "source": [
    "distribute_through_subtract =  \\\n",
    "    Forall((i,j),\n",
    "           Forall((a_1_to_i, x, y, b_1_to_j),\n",
    "                  Equals(\n",
    "                        Mult(a_1_to_i, subtract(x, y), b_1_to_j),\n",
    "                        subtract(Mult(a_1_to_i, x, b_1_to_j),\n",
    "                                 Mult(a_1_to_i, y, b_1_to_j)))\\\n",
    "                  .with_wrapping_at(2), \n",
    "                  domain=Complex),\n",
    "           domain=Natural)"
   ]
  },
  {
   "cell_type": "code",
   "execution_count": 100,
   "metadata": {},
   "outputs": [
    {
     "data": {
      "text/html": [
       "<strong id=\"distribute_through_summation\"><a class=\"ProveItLink\" href=\"proofs/distribute_through_summation/thm_proof.ipynb\">distribute_through_summation</a> (conjecture without proof):<br></strong> <a class=\"ProveItLink\" href=\"../__pv_it/theorems/eb53f8ab73f825f66a19f4707314f76e4883679a0/theorem_expr.ipynb\"><img src=\"data:image/png;base64,iVBORw0KGgoAAAANSUhEUgAABGUAAAB+CAMAAAC6alwnAAAARVBMVEX///8AAAAAAAAAAAAAAAAA\n",
       "AAAAAAAAAAAAAAAAAAAAAAAAAAAAAAAAAAAAAAAAAAAAAAAAAAAAAAAAAAAAAAAAAAAAAAAeYafp\n",
       "AAAAFnRSTlMAq1RmmUTNIjK7EInv3XZAMGxgr1B87yJkDgAAAAlwSFlzAAAOxAAADsQBlSsOGwAA\n",
       "HWRJREFUeNrtfYmWraqypSCN0t1Xdev5/59aNiCNdKmu3C6TGOPk2AcjgAXEJAia6Lo/REBKSbtG\n",
       "jyY1dxJszdDoEzRMK4HLGRGc/tSa+Suo71sbfB9RycIkuSn1k1CG9zPhq/mgDE79CZShP0z/9YqU\n",
       "+RvKfCVxcJwuZgKPQplb1AAK9rdRRsGfpX+OsCrzMD5KQhQduMvfUOY7SUT7rX8dyjCRG6AryljA\n",
       "hS8czJC7dh3nzE1no5DJlst8q2r5o7wqtq8CS38xNI3I5W8o852Eozr8PpQBWXNl/Yj2RRl5nyeY\n",
       "Ec+CHQT00wnKtA66VvZRnrDC6lbhDRT7FWV2/oYyX0pg/AsoM0y4iDKDMWbo+L5uRq5+CohH5qdP\n",
       "mXXTdHFNdZTv87g1oM7UDyCXv6HMlxKNjaHXoQzJe16IN8PyF+6XCs9+ZWG6m3Q0d9lFc/koHzjJ\n",
       "1Chn2vsIsM4APetd/hTKjKwp8rNplO9HGZg3ZTTKmDH8Ql8w9BZM8pDOM64XLq+VHZMnLlxgonyU\n",
       "GDuKovwplBnGpsfPpmFSr0cZUlAUrWtimVGl4C9cMNnf1AMhAQrSCVAKJEy43Leqxo/Iu3ubNPTS\n",
       "UNANPMqfXDH1vCnyw40Z8XaUiQFpDGXQ8Fbz27MdnNbQ6WyaNZ3FGzr3rYY8+cEMMMe2OvjaZ4jB\n",
       "AZz05IgySDo0oabIz7amI965d6EMKHkWyD6J6j8fsScyXXDvptYRU92j+XQawnS4NpBQix+EHIaH\n",
       "/sY4B4CdGF4m76U8XTQUh8Z3KogOR2o0f8b7C0m7ffBomsi7UYZNpWW7aYDFjOGrC2cgR5lYWrTG\n",
       "cb4gUXGl0PbTloPNUaGzJR4ATWBX7Q/paG2AiXeDUuHicv+GVvvh5+Bq5P1Otf8Uxh4ZHb8M72L8\n",
       "uT0mRgRuuvxcAs7k9kaU6YtbsQZloNr/DSIrfVC5+o/zeUCA13UCFctfBpJCJ0vEPIMyrjdWp8uF\n",
       "H6/NBEMc2b8tHnR6GCpFcvJ2KmhtGXYE0pGFkIyLtgwlvN13fTLhib8aZcbiViyx/+i1rS4i6iQq\n",
       "VSzO5yqO0WW0JG7HAaNCZ0sMHaruimkEh/QVA9DaTAeU2b/17BTK2LyZQjD4/WsdjgPSnpfpsMuf\n",
       "9stI0jDm6Usm8WaUYVPRzN9RhkOtn8OkVOiEiKXFaxzlGyOukbWhZVLodInhkZ/R8XMIdUhfqqPv\n",
       "YOz6b7Jzvhk7qMo5c5RHdkO9dxpDHd1ISGHgrrcMf9KWwW0r+/E0hjPUq1Cmn3g1ylChR7eSrFOB\n",
       "eyOWFqMEn6MI+30HLhZbPyl0ukQYCDk7x9Q9O6TTway921n+HWWY8dY537phvcO/f9r/EUk6yjPW\n",
       "8XAHfWv944JWjQTRjkGJPP4UytD2dMfzSYV6+CqUAROuRpkOaLwd+237lDr72joNQ4WyORrZWTlY\n",
       "HGX2IzkEmHk4VuD5EsO5fXAO4k3HdAa4uWqw2zJSvwrifDN1M586uYPZ/i/7j6O83VCX7s9hYMSh\n",
       "ecT4KCaJqM+fPPs7NCV+PA3hLtOrUEaUfwyJOjoQ6AbovMCj08QyUZecJJHXbFyU6Z3fBkGqwPMl\n",
       "Hg7Dyl0P/ZrJUD+txwSGmr8cyKU0+ilGESbTlTRYw2I+ujcMjraK5k/aMk2Hv8ExE/hH34QyFW6Z\n",
       "CMosDbDeW3aUXqfRZfc125patvcvBTqKv6wglulb9jsixAo8X2K4YjL3DWdE89cnh3uLFmXCdSYd\n",
       "h2HYbKWqna8j0/4j0A9vPRr+dlvym4kEi4o3oQycxhMoM+v65nHclJ5xN60bsUmL/dF8lHrPLXje\n",
       "X0F7pga9gJCRAi+WePSojmsrypGRWPpeMU4mvskydbAJzSOKrOIZqhiTAgavftaFO39DmW8mFBzB\n",
       "fxPKoLLzN4IyA9KKuin9+h7LnrbdRNjSBPX/uHz+7ZrRW3wAtRykpbuiBwVeLHE8tNl2LKVXiMbS\n",
       "Y866jB+vpt0jTMYtM/6wR3f+hjLfTH0w378JZUjF8yiZLQqzgHEy4UyrUCxjNw3gFMqszgik53v/\n",
       "DN2+YrpQYgw6aAIbqPqdfiTYLJjUDzvU8jeU+WYaghMzb0IZUXGQLIkygxLb0RNnE4TM6wYZpFno\n",
       "cNN8h1Co+XQCGlEc+2Iv8FKJ6IHuUKTQ5WuoDWW+mVgQtOBNKDNVPMJEivGY+h+nKRi4YMdjqdja\n",
       "KneW2L/yQo+SUjSU+Waa/An/RShD/1XUFwiC7Zvcz2C3lthejmv0RJK+8+JFKAMnWVfKTbHlGjX6\n",
       "Y9BRHcCN+JtML0IZNZG6Uu6JLdeo0d+iHwRwA/5274tQhk/jL5TSqNGfhpoqwED+WuFFKAPqVkEN\n",
       "ZRo1+jDKcH9d8SKUGetehD2W8u5Qk40a/QOUkS9FGXIWZV4darJRo99HGeUfy3sRysiJnyvl1aEm\n",
       "GzX6fZTp/a2oF6GMOIsyrw412ahRQ5k7UUadLOXFoSYbNfoHKANfjDL92VLeG2qyUaOGMjeizHQe\n",
       "Zd4barJRo3+AMvi5KPOf6X+uocz/OYsynw01+UFSIwLqt150aNSoEjD+499c/t83ocz/PW0x2VCT\n",
       "30CDAuPypB4bwfKa8NhWeo0ayvzWigmeLsUJNfl8Qkhfq+fb21h9Q5lGz0KZwUeZvqHMSjbUJOO9\n",
       "OoZIjafGKMrJVX9c1kQTIxTwKeN+Yv2wmV/tLGGjhjJfgDJ7qEkmaYQlnhoFmRinxJHQBNHECGk+\n",
       "pI8M2jc4IYUNXxo1lPkalNlDTSJk4ny4Udn21GJYNitvn8xbAIINQZw3nVjOUAub9/jwvpPWs77t\n",
       "ijVqKPM1KLOHmhRYx/nww8CZ1HJYNmzjhLhpYY4msSrDFW1MpCIyrgS7YcAt0mKjhjLfgzJmwbN8\n",
       "HXu2tJHFBJtaCstmOSHfnSl7iV6cN2p8KoU4b1qYULoGSRmsr1d7f9u7nI0aynwTynRicavg3qLM\n",
       "GmzNSS2EZds5twfA1zSySPDOj/O2JxYyNHwThZtLxi67KF9DGPB2XqZRQ5lvQhmMeqh4by2PNdia\n",
       "k1oIy2Y518DxaxpFfa8c68hPLGSo+YYJ6H6jNiI94/PyCbVlU6OGMl+FMg5FwsD9ICwbk9v/wkiO\n",
       "J+K8KU4loxpbFr9Me7i4UUOZb0eZWBi4n4Rl68bVUnHSLsV5m9dGvG8vUzRqKPMuW8Y0UXVqbdo1\n",
       "4UaNGsqcpovHP9B/aV0DtKNsjRp9FGXYf//r/i990HT5FFuGlFwe6IkrF7hE5GrGz+8TWhr+aYcJ\n",
       "GDlVIypLYm3FdA/KoNILEOiRT0TAFi3z35F43JGlQZ6qEi+NooYyt6AMLI2Y/pmXtxvKNJTxhum5\n",
       "8SD6D6HMU+IRGf0/WZ97UIaVmnkQzzxq21CmoYxH46l1PS5MwqdR5inxiIz+n6zPPSgDSpYKeehr\n",
       "Lg1lGsoE8+WpSoHxMyjzlHhERv9P1ucWlBmmgusXTg+9NdRQpqGMT+f8hzSvRuf9Mg+JR7Tr/7n6\n",
       "3IIypGTKyKc+TNdQpqFMiBenliaj/AzKPCQe0a7/5+pzB8rAkikzPNWUaSjTUOaAF/ycGqqPoMxD\n",
       "4hFZ/T9VnztQhshrq9Z/jzJk2hpvaT8xPfEox8em7n9Y3jNRphenxEbxGZR5Rjwiq/+n6nMDygzF\n",
       "8JTPPfemUQZPDlAyzKfpj7wLoX57uY/V01GGTqfaBObELqCMF4+IFSeF3FMD/A6UCeIjMYSsciuu\n",
       "FKKfQRlQmvgffD3BrJj4hNxkBuRrgQVxvvcXXB/kGUXq12Y+1dExA9U/HGU6iU6JTeQjKOPFI/If\n",
       "RaISLR964Sz75ZBmCH5XL8OpNJbhRk48Jj8+0tjvT0/idXObChpDmaqob5moT2wqrYeedIgx5Zch\n",
       "gW8JvPXeFgfrAzxb12nFIGm9IuhieYcM7Cn+h6IMOudpBVPajvjfC/GYIvGITGixefQuMwY6tGOc\n",
       "IewJgesztIaCXx9bY6inEzSetmUyKNMXcwDk+ShDJ3/Ms7cumQTE+6LaGLuZHpyuLqkOGfTo4Sij\n",
       "zk2KeOIXUSZxw8DGIzLdZp5gg/MHFFkJJRhQuDSsztBbjjj1gcA8yzLnNqRtiusrprHoKRXg+Sgz\n",
       "N87Y/QHCbm+JSFqG/XJ5Abg89Tz4dO4dxUl8ZMVk4xHh7QF+u+aEA8RUWVBgar2SHGPgCCE5/+dY\n",
       "7P3YUcWzGUb1f6/PlkdoSnDxAZRhU3HlPvEvQJnZ4v0LHl/u9BYkx7QM++XyzFzYPxtlhpP225hG\n",
       "p0soY+IRzeb18t2GFptBYV7gQLyrF1q7NMkQ2DJAUcgEzWUY1X/qWA3IGqZGiIAPoExfxhB3i4kC\n",
       "rmhenStYKqmck4MyTEyvfwu4B0KCfWAgbsaFUiA+DDKfKt0yxwz2G8wplOFK9fmuKHNUYmAsH3Zy\n",
       "S1SlNeHanWwdj4iy1fVhQ4stoDBDhzIowdhssmQYApQRywbjkMswof/ANtm4y5qbjFGkuIwyoHQk\n",
       "z9saxIsHOr/GqmCptdadnBJ7gO6pvGGS3evJNdi0UcGm2QJm0Q7OfKojLwOzcCdZlKESxl2IP+Co\n",
       "nIQS+bhthKRDoKAj5DMoY3VadW5osRUUGHd9w0uXJhlQoJbaHZPNsKD/YgecEW1v4coYRF9GGTGV\n",
       "ZaG1F/q159Z/xx+DcFgY5wCcRxu3sFRgFO/sb7Cd/Uairr0mofZDsHVmi3TJ/ulsV9i8u32XFYos\n",
       "yqy3UaK1CTkujg9bUrCne3aFnz7LeQ/KsGkJl+qEFltAYYmz6lSBZhj8n9WPHZYdLWSY13+2VniN\n",
       "TUQF7ZkaSN99AGUq3DLYWjto2nt3UEp6c96RBVmQ8FhKs+cxpzhDiDIdef27o9AduXonc9u5nVXL\n",
       "7xLvk98V9bRn4I2lI8q4vaZTUwPEclweHyxoCaMTJycbkjTr70EZSNafbM/d9mt5i0+YbS28hUKM\n",
       "MfhtwFe3TDfIFXmK/En938rbjkZQBNQC+p84lQfLWzOOLSPGtZ+3zoDuqN2PQjksyx9n8q08LRXL\n",
       "Kc5wQBn+cVsmUwC8F+HitpvnjNW6teIwXjsJyshsv3wKuuJn5gL2xxiO2TJ+r3WZAWI57hgf2sLr\n",
       "7kAZlNw/uMmWAWo992ZCiw1ye+QFGEXX+BBjCMBh5h7nT2D1ShX5k/pvTiWY/sUofgTkKsqgsnlp\n",
       "UYat3WBaD8roVGNZlnfT6WmXrJsTVokltYcyOADMgUTcYKTOH5DgCxKdI9nrNHJniVFVGd3fq1dM\n",
       "a/dsE3vYJfuns11h89a7rG4hsRUTczQ1OkAcjjvGh1k8bHu6l/wymcMQ977IGQ0tBl1PWzH2GCxn\n",
       "WNb/EWo/8B6biE4g+qbpVZQhZXm6++zZygzINm8nUMZlubKV6uSk9wALKHN8JBpEEBRULtrjfN4w\n",
       "dI9kM3B3iTgmJlToTJyHwLA/dmi6xDSE82nviipHyDEDtG+c72cson4ZPVhwEmVcjktb7TYfs6fr\n",
       "f/gxDckTM59/93dWdIIHUc/9058W0X+u9Giy7UUk/oRfpmL715k0lnENZ5MVpacqjyX+3PO+tLZr\n",
       "7Nii3Oak9wALKEMOv0REfpuonDvjfC7KeEey9XGpO0uMPMhPvfWj3lIG/bZDYKu0t6bzyXTFsfFz\n",
       "3bFnoHdZ19/Lcyiz7fnwIY0yDkft+Ij6bGw+Zk/XNNLJrXs2Tf8MZeZ2Rgqxeu4bUOYHgH4RZWre\n",
       "SBDIWVnygQI1ZAxil4XGb5jvS2u7FI8syt2cRlVEmbEPZ+NhUircw4ilxRssyje6Gu8eyZZJqdMl\n",
       "Rp4z85y/i/NvaydurhqYLpFaeZ1Pe1eYb5FecLrjmMF+Gm+f7uJ7TJzrUOgplHE4qsdH1Gdj8tn3\n",
       "dE1D4tPKNPwrlPkw/U7Ut1QpdKpoioRjARaNXTqPDXqHU3TbA8yijApOE8ywpGZVCZKjaVHna5zP\n",
       "aQnvSDYlSanTJcKjUPDcpBxSXQJZuitgzYCLMOmJiu7dXjr7WxwgN42PfU/XQPFZjZKpKbsugFuL\n",
       "+pYoBdacZEPi5CAah2FAdxxD13uAGZTB5LjcGPvtCJk7Y+o0DBXKznhGNrjg6qCMdyRbO55vLTF0\n",
       "Zs+/lfid3aNUl/BMV1S5iSKH1PUosO+RXEWZu8aH3dO96OohqU2mFo/pEsqomkMKfWxyoJxMPH+P\n",
       "YHu17haDb9sDTKNM4PmFgmhHxzz7D9D5qNPEYh+VnCSRh6pdlHGPZOt63FriEKCMHFnYWSONd8lh\n",
       "O9Lpiqrb6hEmvc3nPH6fR5nyALlrfNg93e1/T1/uBakN14Yyl1CG19xkZtMTg9d6KCMh24jSASuy\n",
       "RbVdenk9h+DovE6jdm5OtKuW7X17wWkt70i2RoRbSwxXTP3xHTOW6L2cclfdMIswabeMA2wPvS15\n",
       "/mVHNIGGMh9AGTDVAP+IHo4ya9Rmj9im6tuuq95d4W5at50vWBP9Py4fpb794Hp/vSPZm5V+a4mq\n",
       "Ag/oL91D33dZXZvymSiDzysUT1n2DWUuocxYdU7y5IPNv2jLxH800oq66fx6YnJP07sSW6Kgzh+f\n",
       "r+cJlPGPZG9T/K0ljg+6LhHdZX0myvDzb67xlJeyocwllCFVKMNO7w3+U5SxHg3d+U5TcWZWBZH2\n",
       "c5MATqHMOnGaI9nBGbobSmSPf5XrmSgjzi/vVepYXkOZSygj6+6vcvLFKDMo/eygc2KSzIuqbd6K\n",
       "HKP0kvzZLdR8eyTb9ZncUiKiDWXOIMUFu7tP+aIbylxCGVF5S14M34syttsrE53QETBwwR7sC3sk\n",
       "m7NbS+zx00HmmShzwZRpKPMxlKlzH/YPNWY+HFsSgvBF59y68tYSvyBs3RNRRl0ZqLChzIdQpnLb\n",
       "jzwz8FuLYNtQxpsFxBVtaijzGZSZalGGyUe6CRrKNJTxRumlk124ocyHUKa2Wyh5og0Pl7MxfVP4\n",
       "Xyf0yGDkY39RFxM/qaEMvlLKNP2/WlWmQ9OtRq8Gvv80lPl3tkxbljT6E4u4Zss0lGnU6OMo011D\n",
       "mZ8LfQXKVG4SXdpjaijT6E+gzEXvL24o01CmUUOZhjKnSF5DGdlQplFDmYYyeSJ1h3fTtyUrxBvK\n",
       "NPoTKAOv3ZYMxF+EMmPdRaT0yw8V4g1lGv0JlOmvvfwQiL8IZUBdIL30K1YV4n8SZWir5bc0y20P\n",
       "a6lrr1gF4i9CGVT12F2ylCpxjTJkEiZInxDTI89+3kcKtlpGfQ/qea3g1OkayiTfp60DjED8RShT\n",
       "9XDvxXd/Ncpg1yBkmE+T6t5KkD+1ZojbJybWWrJRJB/tz32roYi8euB9DlUdVqE0ZaMrKBOIvwhl\n",
       "+olcKaVK3KyYuN+KDMjupcSe+mpXx8Gwv6Biakkyq15y8cnmo/wT77PtdbqGMuO1SCmB+ItQBk/i\n",
       "SilV4rtfhgSXpgDt3knosRcwBcR7rCdTy9z57avhJ47y/QOfmt/rdA1lkkHj6wAjEH8RytBpulJK\n",
       "lfiOMnTye5G9dcn02NfUsesLE5G0HP/V8m7R5A91GLujbuJaBNtA/EUo001V8pk42WVxu8fUT2P3\n",
       "Bwg+d8Ekj7XMxVLk8r7y9in7gYaeqdM1lEnuZ9QBRiD+JpSRVU8/JEupEXd2ssGLPb7Ogsn4fing\n",
       "qhDyqIKl1iwt5tQDIe0boaaWBCgFEqZ+7luV9kbkeXxbkivVZx8HKTLUIl8kH1OnSyhDk+6DKsAI\n",
       "xd+EMqDqikGylBpxB2VY0qh8E5mZES/vO47ZRUcFS+3ixMmJpcaEC/K6lmwibP4Tlch9qyFP3nR8\n",
       "9A1ourxShzKWbpGhFgqi+Zg6XUIZnNwKqQKMUPxNKKOqjuUlS6kRd0/lDZN8P8rodx3ZGgobrT+Y\n",
       "xd9Xd1gY50sMuNMK7RTWpeJLUxfjdS3hCkxCxeq4fztZOZv3Up4uG8ZmfMmTlfAZLjaTLaiXTiOZ\n",
       "Ol1CGZU8CF8FGKH4m1AGV21lJ0upEffO/vIJvR5lxLaKRNM+rAelpDfFm1WLZUEWJDyWkrFwzCnO\n",
       "sGl9pJYrwzzC/Tr63/zK1S8djbw/lo51Q8aaSzeUZrjcTCz4/V6dLqEMSG7IVQFGKP4mlGFVm0zJ\n",
       "UmrE/RsGZPr0/nUGxuC9Zassyoixs3E1oaujct85tSzLH8fWkHVgHMspzrBCvDzWcgUmvI5wKGMT\n",
       "//ItqNyPDAccaA8Wx7oJu4TJNFR3UzNpuy5Sp0soI5ML3yrACMXfhDLzj6NXSqkQ91GG++NiIMe1\n",
       "diwtWqs4X5CouFI60OIaCu3OElFmxcRWJ4gZK1BGMdqy9OyUIkdywip17WMEx3XdigHbFH+o4/7t\n",
       "ZOVs3kwh2CVbgjn+okxD3dVMW0ZjRxUPCr2CMix9dqwGMA7ir0IZXuP+TZdSIe6hDA7VGUQWs6Dy\n",
       "gH6czysBk6XmW5wdBu4uEccroLZhs+gVIJsBlVAel+XKxrGTE1NdalIV6lDLbtHYzamz13GXdr6Z\n",
       "ylWpITvII7u930cAXQ8inGool+HS/rrNBygKmQm/ZOp0BWVg+k5fDWAcxF+FMrjmwmO6lApxF2Wo\n",
       "DPsxFty2NuBtnM8dxWbMrrsKCN9eYvS8vN4XXdQYzrY6Sk7RPks3SJbxKVjnQswbYXOiDCa0kHoL\n",
       "Kl1LMOvdiNzGstk733TljrWJVGv/xy7PmLVhUQSZt00fPiQbymG41Ew2H7FcFR2COl1BmbRbpgow\n",
       "DuKvQplOTJdKKYu7KEOGQ85KhXsGsbR4raJ8o6tXg9Nl8v4SeWxkDVpbgeIDBWpIo4zHQkeW9SlY\n",
       "H0TEG+HmNKrUdBmtJTdXDUwdpVFj55up3P4tVy3D5Mjbw3gydsKK875XLN1QDsOlZtrzoRNCdiya\n",
       "Ol1BmYwi1ADGQfxdKIMqVrmZUsriDsoEYbXmPlXzgFTBaIilxSjB56AMMLMZF0vguaTU6RJhVEge\n",
       "mwQWrXw6Z0Xv8E6zicW7BIF8Lfc6QpauHKxRxAiTGUG00BClhrqpmeY1EpZdWKcLKDNkjPoKwDiK\n",
       "vwtlcMV7d5lSyuIWZQJFXk6qLrgTHpGIpUXXG3E+B2WEqRsBu0vo1hJx1GscuRFYRBk6DsOA7rjj\n",
       "A0nMKz33AoH5Wu515JnKVTmwjkyD8W2WbpIWGuquZgJqMeZ4UKcLKKMyF0srAOMo/i6U6YS4VEpR\n",
       "fEcZTI5OjcXRscyxrh2s0zBUCJecJNv87A07F2V6p/66HreWOMT3psaguSgnE1cFi3mhO4bEvHiK\n",
       "9JYcD+9R+LW0dTzeYrWVq7rhGmEy+140v5lXbKi7mmn57UDfNLB1uoAyJKMGFYBxFH8ZyqjyXaRc\n",
       "KUVxgzKB5xeKZdQvTSlgN0Dno04Ti/Gfy1jzZWyZxfWI54xlbxHh1hLjK6aOPe9WaG+288u1zGl5\n",
       "1ZWrCJNxy4wPfO3D1uk8ygw5k74MGBHxl6FMV94mypZSEjcoIyHbiNIBKzKtu4qzqm/biJvOM27T\n",
       "qLGz10T/j8vX9b7t73p/Be2ZGvQQ32zxW0tUqbP8X3Er9LdqSbBZMKkHgoxTp/MoA3J30cqAERF/\n",
       "G8rw4m29bCklcY0ya7RzjxaxAWlF3XR+fcltT+tGbBMFdf64fJT6awF3hqYIqOXeC7Vz1q0ljm99\n",
       "iOtWQgp9xxvPp1GGZafaImDExN+GMqzowM2WUhKvi2Fg1i/uemTfa4w41tyknqdQZnUHIe0oCM7Q\n",
       "3VAiGxuEvIlOo4zKqmERMGLib0OZ+UeyK6UUxH+EMtjJijO9wsfH/L0kgHMoQyegM/c9EzeUiJop\n",
       "01BmFcwegygCRkz8dShzvMv7s1Ly4jUoMyixHXBz9jnJvKjaXCmRzU8vyd/8PNgXZD8IZt/vv6XE\n",
       "HjfFbChTnmdLgBEVfx/KwEIuhVLy4h+O+qZgsNGTqwu7tUTW9LKhzOozyB8CKgBGXPx9KFN6haxU\n",
       "Slb8wygDwW+/WPP7JTZ6NMqAgnuuABhx8ReizHai5HwpOfEWJ7vRq1EGl8TygJEQfxbKrHRZkYds\n",
       "SxVLyYnDRbRvQ7jRowmdDqosM+45ORUPKx/FK4R+l1i/0nU3JKaXSsFtt6XR3ySWU75NcfqfiRuh\n",
       "/w9vLmS9hsXu5QAAAABJRU5ErkJggg==\n",
       "\" style=\"display:inline;vertical-align:middle;\" /></a><br>"
      ],
      "text/plain": [
       "<IPython.core.display.HTML object>"
      ]
     },
     "metadata": {},
     "output_type": "display_data"
    }
   ],
   "source": [
    "distribute_through_summation = \\\n",
    "    Forall((i,j,k), \n",
    "           Forall((f, Q),\n",
    "                  Implies(Forall(b_1_to_j, \n",
    "                                 InSet(Function(f, b_1_to_j), Complex), \n",
    "                                 condition=Function(Q, b_1_to_j)),\n",
    "                          Forall((a_1_to_i, c_1_to_k),\n",
    "                                 Equals(Mult(a_1_to_i, \n",
    "                                             summation_b1toj_fQ, \n",
    "                                             c_1_to_k),\n",
    "                                        Sum(b_1_to_j, \n",
    "                                            Mult(a_1_to_i,\n",
    "                                                 Function(f, b_1_to_j), \n",
    "                                                 c_1_to_k), \n",
    "                                            condition=Function(Q, b_1_to_j)))\\\n",
    "                                 .with_wrapping_at(2),\n",
    "                                 domain=Complex).with_wrapping())\n",
    "                  .with_wrap_after_operator()), \n",
    "           domains=(Natural, NaturalPos, Natural))"
   ]
  },
  {
   "cell_type": "code",
   "execution_count": 101,
   "metadata": {},
   "outputs": [
    {
     "data": {
      "text/html": [
       "<strong id=\"commutation\"><a class=\"ProveItLink\" href=\"proofs/commutation/thm_proof.ipynb\">commutation</a> (conjecture without proof):<br></strong> <a class=\"ProveItLink\" href=\"../__pv_it/theorems/fad2da1841388f693427c5951a20f83cb77645ed0/theorem_expr.ipynb\"><img src=\"data:image/png;base64,iVBORw0KGgoAAAANSUhEUgAAANEAAAAWBAMAAACs+WTQAAAAMFBMVEX///8AAAAAAAAAAAAAAAAA\n",
       "AAAAAAAAAAAAAAAAAAAAAAAAAAAAAAAAAAAAAAAAAAAv3aB7AAAAD3RSTlMAq1RmmUTNIjK7EInv\n",
       "3XZ/CtNrAAAACXBIWXMAAA7EAAAOxAGVKw4bAAACyUlEQVRIx7WVTYjTQBTH36bpR9L0AwUvhRIQ\n",
       "3IOgOSyCFdZCVQRRC3vxIG5FQban7F2lHgRBxRUKGhWJeCoVW3VBL8qCCIKs1GVBUArpaT3J4kFl\n",
       "BXFeZjLbTKdhLz74p83L782bvHkzAdiC2UwS9xZ8Y6JlljWpRDsjR2UYKo83OyMz7WYaMv1Bjwxr\n",
       "ydDWspjdojqMNxeiEuk1qpAlyuRSl6FwXvTWqa6Qn+RCVCbVogpZDss0JUPhh+idokq4AGkzKpPB\n",
       "FLJZF72uBI1vjAzg+oqRaSQil2kXU8he+yW0JGi6J7KIoZb7/Q+RmY4xJQtrHnee/b6NDJqXoIni\n",
       "gJeIhiCGOgpwLzLTOabTtsYLo/90OzbE/D453kf7FKCduv4rwGgIYqh5SPKppeZ4azaLl9nfFSr9\n",
       "Lai8MMoGGB4oS8KkEN3rwsdgPjQEMZTmpqscLWC6gVPVb9vKfeZ7R6WuQ6aLc8YXUWuQ60JqXciE\n",
       "6BGAP/jSwEMQQyneUEO8JzrUIGV9CnAgnMlYgA5OKYM7iQwwa0J8SZLpK8Sxz1eBhyDmo7VpcmlP\n",
       "v8TX+Ttw/Z3/+CpZznD1Oh4cHN5OJ11QesI6rfjbSQ2Wk4Ug5qPPyf7VP6dwGbNfsuUWMpOTmxN9\n",
       "SNUxYYcSnJS5BlkDiIk7HtHf8CRofhaCmI9eJA2hllP4epoVq80gUypthj+j0jxlVQ18E5ZGiqh2\n",
       "hUyIbodmcMtCEPPRCbIuRjWLDWg01Pw+x3HMa6c2w29S6cVX8994lxcquFpVIROijxb5fmYhiHG0\n",
       "Y2slcmbkwDCv4z12hM6eZRpUo3ZJdIzHOGrYt2bcNmTc/aTrcXMv2vCGPYuVqUatIjrGYxyNV/a8\n",
       "gBtm6oQHybvoaM81+fzuMIkm+QSMw0SUnldtxwnXv8Ukmjb6zR6HCWjclR98SY9KtDU5KsMENAb/\n",
       "0/4B3UvFVuu0bpEAAAAASUVORK5CYII=\n",
       "\" style=\"display:inline;vertical-align:middle;\" /></a><br>"
      ],
      "text/plain": [
       "<IPython.core.display.HTML object>"
      ]
     },
     "metadata": {},
     "output_type": "display_data"
    }
   ],
   "source": [
    "commutation = Forall((a, b), Equals(Mult(a, b), Mult(b, a)), domain=Complex)"
   ]
  },
  {
   "cell_type": "code",
   "execution_count": 102,
   "metadata": {},
   "outputs": [
    {
     "data": {
      "text/html": [
       "<strong id=\"rightward_commutation\"><a class=\"ProveItLink\" href=\"proofs/rightward_commutation/thm_proof.ipynb\">rightward_commutation</a> (conjecture without proof):<br></strong> <a class=\"ProveItLink\" href=\"../__pv_it/theorems/38b2c6a292d55d75cf7de1ef204d57d38cab209a0/theorem_expr.ipynb\"><img src=\"data:image/png;base64,iVBORw0KGgoAAAANSUhEUgAAA6sAAAAzBAMAAACDEYMFAAAAMFBMVEX///8AAAAAAAAAAAAAAAAA\n",
       "AAAAAAAAAAAAAAAAAAAAAAAAAAAAAAAAAAAAAAAAAAAv3aB7AAAAD3RSTlMAq1RmmUTNIjK7EInv\n",
       "3XZ/CtNrAAAACXBIWXMAAA7EAAAOxAGVKw4bAAAJ5UlEQVR42u1cfYwcZRl/dmZ2Z3Z27wNN/Ko5\n",
       "VwEN6JWLJaQ08bqkRSmGsAGjhqAsQdP4EZkSElOgZUVFE7e9jaSRJVjHkDT2DrhNLwKWUA6UnA2R\n",
       "rNioOT2zLRdLWznOQr3mjD3fj/l433dmd2Zhtg7jvX/MvfPs8zzzzvzej+d95ncDEK7o4+MmrJZ3\n",
       "QukGqr6VlWKsb+bBVTz3UzSzKyu10LCW4n1LqZFVWLVZqyInBtY1/KmaYPSMtr8MJw1WucyfH0sw\n",
       "rF9u+0tuMGGw3sN3YakRWfzxcDP6yfKbYphy/2+6MOtvv978IWGw/o0/3Red50wPIsWBgig53Y3Z\n",
       "19tqfMJMFKzyNH++qZcQvP1yi7gBSS93Y3Z5UB9MCqx5YdKd7iEEEZRnPItisxuzfNsmpZcSBevr\n",
       "/I1K5R5CEEH5ylub6W2zTPvF9dZEwfp7/lTBg3fboZ2CllfiU0SlWxfe5Z4ceqXCj7KF9cEeBSN1\n",
       "zaunxUuOBc/0jJkd8PqUy8wEwaqdFTo/6s7pGfgZP4a9Er9pjCjpTmCt/8ucdE52FBTugakvw5bA\n",
       "xlEjF9mbjexy9+1izehu7ro5XIQOPdlKEKwpYS3tQ53/0RG4DuARZjomEv3pCzo+QmqWaznz+TLk\n",
       "nZO/oLp+BXOdBrwU5JAYAfzZ6Se/BqUMrBd0yU8HtouaySTil9qHDtlmgmDNC7NSHjX2evxAtYUm\n",
       "HXL4SCQKKE1HIvT0sq1kD1Q8n5dhoGHX8XDZ/RqjjJAIcqi4Q5M6WcS9gfMSpl3UDF4gk9Ni+y3B\n",
       "UoJgHRvxwnoY9DOoY9MQ8wg+EMlAST3rSIRbLNpKVjlCB+QtBaueJ09rmFWGQId55hFbTiZLgpcQ\n",
       "7aJmKgE03X606m8kCNbXDc8krJ8DedGBldwxkcimerbTXEeU0kfZbev1JrdwDbPKEOSQGunzBeZ8\n",
       "o+gluF2WmVzb2bBvyndthecSBOvD4grTAv00pMof42Clks57RKr0+ICzzg1U0Kpm19GkUGIAATQ0\n",
       "0kGbTmKkuFuuyQK8RzJYWMO0yzJLHb90pjNqP00QrIfF3T1aa/fCcLHIwmpJYJfJrXV45WJWNKJ0\n",
       "l/vQUyNZZ0+JItpchYUVhcFPeRw6Xhmj8VzR7XLSEYUdrd52uW1y3VCz/DEcUisdMt7PWrCSaOPC\n",
       "MLCmSBQWw/ea+pvihgeB+fNTPxiqcLBSifoQv9aRleuIoLTX9b2GSUQ+ve4kB0huatT0OHS9MkZu\n",
       "BkEfemrbq5wXb7ucNrluqNm9mysBQ2xjicJ6NT7ZGgZWBVtkjBhuW8+JEmc7IXlmtjvh28H9ZLnS\n",
       "/sfht+AQBowAL+HcXJluIkc7OkWPLQrrd/C2uhYGVg0P7O0xnIMlz/uPy9vCqj74w2uDHZaLoWEN\n",
       "5RCqQZ0jnJshrdno/CJjskhhzaApPVcIAyt5IXQghrDKnhgyaw0O9Yl/t4S9z8rKYvBoHWo/J919\n",
       "+6HuHcLRAC8h3fwE3l3pPAgHBimsMpr1M+FCpnXobzmGsPYveXCpxayJt0XoK9tpHRyoWZHw7+bm\n",
       "XgwHa35u7q+NGMKa876t3BmrBma+OB2ht+MdE25lC9ZrAFAQZiW3K51gVSqQNWMIq7IM8S7K/Hl7\n",
       "bH1NC9ZtoA46yW0cQn7KXo52fLYkP8fAivS2dXOJ+7udCp91elXOL+XCCU9cddxuZ2oRVouN07QF\n",
       "a9bM8fsgnFEF7Wi9JA0ehGvZdMRD8MtuLpHqdsa+1w0M/ZCyhbvfvwf2vxcuaazC2h5WqZXxebh4\n",
       "3yuNKtBgYV3bXcSUr3TZphNuFOQ30C2hgpYNONgCufFOmYTPJ6z2JAzlUbCS2zQjfaV6ipIWpfu+\n",
       "0OJgzcho3tOnTtmh2MTok17HrnBs4QP4z6FR+ye35hZXNjH6LTuQnfp7y7vrsIWv4JP1JZcHnVvy\n",
       "DuwEI2eECpngANqP0uQ2zUgP3fGosZ/syisHL+ZgzX0UaT1mjFmO9T9p3gfKCF8z54ll1fFR9QnF\n",
       "qq6hvXaiS3gHOhFusTYv0h3MzfV7F+L/T/o3WK+eCaz3oBpNbtOM9EsFDW6ksCrOZEhgVXEAtRmn\n",
       "TLaTXlDUpuGGeX5lJkIgZg8A5gBsgV9QdVxLr72abwb+lS7gyHDRyoxuhjHwaGIhXIQmFjyRyI+Y\n",
       "ndIRUrz2YQKHvHf0b7RvLdqwpvDIoMltnJFW30Rr1xX1er0gVfRGmYUV3gf4Bf1R0IZNElv1D8K0\n",
       "vigEXP02V+G3cBXRt9RxLQ+TfDNeYA1rcN8sFZ7w0zxB8mby1+r1H2vfZ4azdEa8uX0xG2ACs7Bn\n",
       "9G+AyQYwL+as5DbOSMu1L6nwIzpa4YYWByvWXIIHxqEP4zRpZDeYhsZvtYnw48RsEZ5HRzwlE3Vc\n",
       "U8XsKP51XdEyPGnCLL3E3nFRkwhh686WRkYiCpnAHrDaG+LNbYoZrAKOPaN/u6l+q8OXi3oDZ6Qn\n",
       "INXalaNpB7kEzshzXwbNaGc2YJwmIG+M3WhCtoSqyNg6EOFHivhkVq6h41chh9WtGuwBV53K1LvK\n",
       "QA2/i2FFwhnt7Aas6Xq1hUuX1oDM03d/huGRiS/moqR/R1IEHHtG/wa4rMCN1iFDex5npKuFrJFa\n",
       "Dyr+L+BdWwG8sH7uk6dGME7VQnrT2imSpaoWtBmoGvhAhdkKIHffW8DHO9edxOpWTakw6pYM71Rs\n",
       "b7NYkVxCIT6oV8MSav9Ed7QdTyz6E/VrnHv5o7i0lmMGq4Bj7+jflP/DsSMkkpG2pouJer0kJg/Z\n",
       "U9PWzJktxwjs2mMScQf2EavT2sF+YNSpLFVyZbO2kGhKwGv2PzlrgP6r+h7+Xj4oJusipH9HQvlm\n",
       "OeQ9pX/Dh0CE9SackU63GeA8rNo/Dtiat680GSOrlj2J3FGntjqtZVb+A4w61elzDXe/WLCERPMm\n",
       "4DUVY8rvAWwUGh0h/TsSyjfHIY+K/u1fDntgHcEZaRnCwEps/aqMcIQ58jWZlx27yM+wrbVfnCBg\n",
       "HSH9OxLKN8sh7y39Wz3ngbVzUqp3FLUPF9+uh17SvyOhfLMc8lX6d9iiTHthjYj+HQnlW+CQ95D+\n",
       "nUrSP2ukz3gm4ajo35FQvgUOeTT0b/8NcitBsIp9PEr6dxSUb5ZD3lv6Nw0ekwKrEApHSP8OpHz7\n",
       "cbVFyjfLIe8t/Zv+70ZCPzIQIf07mPLtw9X2UL4ZDnlP6d8J+8iALORUo6Z/R0P57uQxGvp3djBR\n",
       "sMI3+NOo6d/RUL47wRoN/dvKPScG1io/MiKmf0dD+e7kMSL698uQLFgF7lMs6N+39chve/p34j6O\n",
       "J37K8n9P/46W8s2W9vTvz0PXsG6I92eiM4W4Zb7mz/vz0ihtQh9/PDysq5+Jjn3ZRzsS/kz0fwHH\n",
       "yB8ukeYYuAAAAABJRU5ErkJggg==\n",
       "\" style=\"display:inline;vertical-align:middle;\" /></a><br>"
      ],
      "text/plain": [
       "<IPython.core.display.HTML object>"
      ]
     },
     "metadata": {},
     "output_type": "display_data"
    }
   ],
   "source": [
    "rightward_commutation = \\\n",
    "    Forall((i,j,k),\n",
    "           Forall((a_1_to_i,b,c_1_to_j,d_1_to_k), \n",
    "                  Equals(Mult(a_1_to_i, b, c_1_to_j, d_1_to_k), \n",
    "                         Mult(a_1_to_i, c_1_to_j, b, d_1_to_k)) \\\n",
    "                  .with_wrapping_at(2), \n",
    "                  domain=Complex),\n",
    "           domain=Natural)"
   ]
  },
  {
   "cell_type": "code",
   "execution_count": 103,
   "metadata": {},
   "outputs": [
    {
     "data": {
      "text/html": [
       "<strong id=\"leftward_commutation\"><a class=\"ProveItLink\" href=\"proofs/leftward_commutation/thm_proof.ipynb\">leftward_commutation</a> (conjecture without proof):<br></strong> <a class=\"ProveItLink\" href=\"../__pv_it/theorems/c4b76504728ae01b21bfbe0c216df0b34b0495330/theorem_expr.ipynb\"><img src=\"data:image/png;base64,iVBORw0KGgoAAAANSUhEUgAAA6oAAAAzBAMAAABs0+g7AAAAMFBMVEX///8AAAAAAAAAAAAAAAAA\n",
       "AAAAAAAAAAAAAAAAAAAAAAAAAAAAAAAAAAAAAAAAAAAv3aB7AAAAD3RSTlMAq1RmmUTNIjK7EInv\n",
       "3XZ/CtNrAAAACXBIWXMAAA7EAAAOxAGVKw4bAAAKHklEQVR42u1cDYwcVR3/78x+zt4XmvhB9bJ+\n",
       "QYxe3VDT0EtoFwuCJcoGSDBEwxohxGpk25CQAm1XxUrilVvFRrbBdggJ2j3gti2illAPFCsY8Ezq\n",
       "R4AzW2iE9uRYzx69XiPr+5qZN29mduaaN3ad3ktu9z9v/+///u/93ud/f7cAwZJWr+uwlP4fUr1e\n",
       "D6ra224Xurot95/zaGo76fvu9qnAqBa7u0mx/NIk3W6spquiguoy+2Mquth5N02ZjBiqasn+/Gp0\n",
       "UU00PT/aGzFU7yrbR21D2mb1wKQ9Y88L/oV8dNLfEI8o234bwBVD6TVvkPLRQvXv9seH5VlOigjc\n",
       "FKCQj05/TsyZDeIKU0p6XkaU5yOFqjphf14rz7QDgdng/e+VbhRxSSwEWXqZklrwG00RQbVHWHEn\n",
       "5JkWEQgCgJ/OU2JGdjKAJ6bS897OlqOE6lv2rldK8kw/dQYA+Onc5LvMd9wLvuqtMhAlVP9kf4zj\n",
       "qbvh4BbhSrDs9aa/KbHYV2beZe+4wSM53/536Bx8rWK58casWOVoLoBfptJe77vNQoRQTc8LvYrO\n",
       "golDsNs+g79UzvivnrSYZh6ptbf1cdv5eny9dtLPCNVJWxmbc/GqpxtOTz39omklGblTJA3YT+zv\n",
       "RAjVmLCP9qJR/UgePg/wkLUWa7+B+CSM7T2/oylaLNvkRn9PU1tpKXxKhxe1J8/rCAPWQV6Y0xNe\n",
       "RkY4N0rAW0RVfhb8TBIluIRY+aS32k8ihGrPgPCMnL0a92V6ZpJOODy4W9DbgAIGDc0ml52X5JFi\n",
       "3DNCoL9x75tWBurb03E8PphZNyNYx5zr2MgCCG7wFkmVfiapXz0EhVHvnlhTjg6qo3knqs+BNmcG\n",
       "0Q7jzCqMF2EOtuIp1OtyPCF5tJj1jBC4MQdDVsbLkJjtL6bmDbNuRrCOkcGqFtzgLZIq/UxSv7bS\n",
       "NbzD2p+PDqpvlR0rMNph1BYXGkUNbsIagGGKqmcoiRRLHOGvq1frDAN2FY0vqHpqvvN1Fc3Oxz7D\n",
       "Vy24wVmkVfqYZM1ZlZo2yrruq2zVigaqDwjPmSZosxArXWhDNQfvUcoul0Vb75Fij/Wbe1x/BW2E\n",
       "PKrzeIvzubsQncIF1tBAJYp2N4aEKn1MMqXBjY+UO4KWmYwOqs+J90U0YnfBUKHAo5ppKofj6GT6\n",
       "ktVVb7Ndi9vNSLE7rD6P5TMFG6rvhh8B96WXZYTbq7GOpj9u3bSqkK3Y3eAsUk99TFKlF3P4YH1V\n",
       "h5tyi6JKpuxHgqAaI2fCLvweUzsh3nQQlg9Of2+wwqOqDf5ywxsAm7ij5mFj17J2M1psl1Vq2Vrb\n",
       "egkPPo56ILXTxYi1VxMdPljw5Irjghu8RVKln0mslDpxJZb/7N0V6hxF9XL8dksQVON4uibLXXhd\n",
       "fUfM+Zt5MRGXtVQh5d8CbUHYe4cEhdvgdn+3Ol5rRYuBTKrVL6dQEyb9umIVfAs3tRoE1TSe1pu6\n",
       "cAFWHMH0T3uiuumeu3V/g6VCRwxS99+zzn+sTSwG1UAmY83tWbSe5/2WrVXke51sLgiqsB697+tC\n",
       "VFXH6THD5mPqidNCkPCP7XaAJX3QPp/vvPWg/aTZbrd8jfQNdPhQtBjMZKYcu9hnYv2Loqoi5JPB\n",
       "Tksr0HupC1Htc6x1WvXse5UM6wTy404fnmJn4Bempv4QDNWeqalXGl2IatYZ3t1y1p26eSSsMdzx\n",
       "XPA7hio6VqHjF4tnVzqhGq9ARu9CVOMLXejUF9adlWqnGKobIDVgxrPx4fESYyvafFVRfZpDFelt\n",
       "WEwN26pOye1Tc87Nu4lW+jU/5o5d+rrhZ6wFS4mlVxiqGT1rjzCQEHL6SK2oDByAdXwUYif8fDE1\n",
       "xBpOye1T8xzYchOttJW93/v+HbDnvfDxxhKqnqgqzaRL512G5oWyOg4NHtXlizss9VScktun5o5R\n",
       "dRO56ckWXHwVP9AEtdHNK/BZSsYKDKXVwOLZ2lF8xcEh5D58gFO+fX3ThmpSRYuetn/a2K/HVv/C\n",
       "adfKHJ053yFZics7uBpXvv8fxpLKibzdb1IBMye1i5E/hhtZ533/nGR586cl2IfuoTSeHSeEHxxC\n",
       "3kMu45UDH7Ohmr0AaT1aHmXdqf017exPLvNN/ahDspKV11vE50Vk15i9nMjbnccBVXprUTZyJ8E+\n",
       "5yZ8brK8UXraQPUudFii8ex6FsdUcAj5Wopq3FwJCaopXOYyGGHR1HghPQHXHLXvyiQTSLH7YCUL\n",
       "uyIpsfxye/34U7ptfw5+RuyOGlFaLIr6yG4LFORfAi8j6kN6pyiEEsoFTBbjOzSWN0onDFRjeF7s\n",
       "Mm/OJIS8slar5ZSK1ijxqML70N+zcATSQzo5VvUNwITWEs5aZlDl93ApVcRSD4zb60d5THqWvR5j\n",
       "doko6iO7VRIsU79Wq/0w/V1uMitzYtseDmeayGJ8h8XyRgPvtIEqeaLx7P4yCyF/n85VuKZpQxVr\n",
       "noT76tCLLY+XM8N6WYh3ksxPkGIteIYqYikFwrUcf7qCdNNJZncXs0tEUR/ZPa4nb5+BNJmH6LQE\n",
       "RuvS/xYbtzYcVGUxvkNjeZvRfTbcSwUN9dYIjNEQMok2qEUrmGl9v3ooPTeMe38Mesqj1+qQKSIR\n",
       "FWYvJPPDBfzwklrFikyCHZwWzUvdUcLSzZBFr4fS88NMnYg2fWL3O3r/xj0kZgJw5xUcZUz8Jk4m\n",
       "y7sTGmfK+A6N5c2+6DDn6mA5/QygtXUkR0LIKfxPvttvAXCiet1F03nc+yO5xNrl+0lsaiSXPgQj\n",
       "ZfxCMzMVQObungGsyKQ4yaNaZZaHLidIum3FcfRq2DVEmz6zO4qPzZvwsqI9UbvSbMtfxLaVwkFV\n",
       "FuM7NJY3C4nzXAiF6LNFZqxWK4oRQ/5RNzSzetMsBIb0qELMMUUqHegzJFYZ3tKLhqSAoC7oU7vT\n",
       "m3+KAP1VbYe9LR8QQ4gSWd48QVsK4ztMljcLyPCo3pD84gQkPLZiO6rpf+4zNG9tT3KFmJQ5jswZ\n",
       "ilRKtv/DJFoZtWpKN4BdXdBndq/IXuTm3BrBaYksb56gLYfxLYnl7RH4qYqo5uNHdVAhCKpk03YT\n",
       "ucy8v/TqR828vFtBS1Q7Nlkc6hJZ3jxBWwrjO1yW99amiGrHFAob7UMFOXbCZHkvcLIUxvcSyztg\n",
       "ik84UZXE8mYEbamM7xBZ3h+E6KCamHOswLJY3jxBWxbjWwrL2z1F6b+nxBEuk+XNEbSlML5DZXmr\n",
       "UfpPR/EQLJHlzRO0pTC+Q2V590bqv5KFXxCQyPK2EbRlML5DZXlH6xcEVOEiKpvlzSc5jO9wWN4/\n",
       "gCihCl+3P8pmeXfA4wwZ36GwvI2Yc1RQHbFPQMksbz7JYXyHw/LuzUULVYHn1A0sbzGEKS15s7yj\n",
       "9ot34q9Tbukq56Qyvr1Z3onSolEd7u5ffU7muti5/xHjextFqF4/FhjVpV997vakrafvu9un/gsC\n",
       "KC5UlHjWMgAAAABJRU5ErkJggg==\n",
       "\" style=\"display:inline;vertical-align:middle;\" /></a><br>"
      ],
      "text/plain": [
       "<IPython.core.display.HTML object>"
      ]
     },
     "metadata": {},
     "output_type": "display_data"
    }
   ],
   "source": [
    "leftward_commutation = \\\n",
    "    Forall((i,j,k),\n",
    "           Forall((a_1_to_i,b_1_to_j,c,d_1_to_k), \n",
    "                  Equals(Mult(a_1_to_i, b_1_to_j, c, d_1_to_k), \n",
    "                         Mult(a_1_to_i, c, b_1_to_j, d_1_to_k)) \\\n",
    "                  .with_wrapping_at(2), \n",
    "                  domain=Complex), \n",
    "           domain=Natural)"
   ]
  },
  {
   "cell_type": "code",
   "execution_count": 104,
   "metadata": {},
   "outputs": [
    {
     "data": {
      "text/html": [
       "<strong id=\"association\"><a class=\"ProveItLink\" href=\"proofs/association/thm_proof.ipynb\">association</a> (conjecture without proof):<br></strong> <a class=\"ProveItLink\" href=\"../__pv_it/theorems/2131ee6e25a81280393bad76051ef72f025dc0d30/theorem_expr.ipynb\"><img src=\"data:image/png;base64,iVBORw0KGgoAAAANSUhEUgAAA30AAAAzBAMAAADRHnwLAAAAMFBMVEX///8AAAAAAAAAAAAAAAAA\n",
       "AAAAAAAAAAAAAAAAAAAAAAAAAAAAAAAAAAAAAAAAAAAv3aB7AAAAD3RSTlMAq1RmmUTNIjK7EInv\n",
       "3XZ/CtNrAAAACXBIWXMAAA7EAAAOxAGVKw4bAAAKKUlEQVR42u1cf4wcVR3/7s7szuzs3u4piT+o\n",
       "OVdFjOKVC22a0sTr4oFACbABo8YoLBFCrH+wbUhIgbarQSXxym3EBpZgHUKC3h30lhYRS6wHhtTG\n",
       "FM9afwQ8s/2RnPbkuBTOa47Y9f2Y3XnvzezO3M07up12/th78+b7/e577/Pe+36/bz63AP4uY2TE\n",
       "hAtXR12LwaSrXs91ZCcePw+BG6awJer1sm/88p3ZlUjfeYif/oZVUM55/Fbwt1qYYCq2fNIbFvyU\n",
       "An9/LEz43dbySbI7JPg9yM/RaFVabPDkhOBzDvnwS4ekdi7d2jf8OST4/ZO/fUae5bgYrt3pQ+lO\n",
       "ub3b2PLJ581Q4KeM8/cD8kxnskLFKR9Kp+R2b7XX7DrX8UsJ++W4PNO3C6lVbMFbx4/MorrXMr2L\n",
       "zYcCv7f5DkYL8kz/RgwZJrx1/Mgsag9v7QDvCAV+f+JvVbwcN+3fJuQUK6Zq3qZEtTtmPsiPZc/R\n",
       "rOd4O2T2Hy/xCM+s9W5KU6kRZrpcl5shwE8/7ZyvsQPwM35VfqOY8N7XqJrRDGeN/5pjXGw7ttGY\n",
       "9zJCZXS7YmtW5UZYOwzXezbFVqLZ0Y2T+BKm6lgtBPhFBH/XhWb/s31wI8DT9k5q/A7UCRh9/uK2\n",
       "pqhasrlQowuQqhlruAn/uvHyB8x2RrAMaoW95N4UjHRVvY0QJYUE1tHW/jwxEQL8UsL+kkKNvBkP\n",
       "gD4zQRcR3lRn8bDlMDxo2rp4SFJH1Jh7tQCZ6iNv2RVfAnhPxTPBMutmBMs01y82gtc9a+RmhJyX\n",
       "EaIEr5H9ZbZ15D0fAvyG+pz4HQRjDs1cGkkcwZVlGMvDHGzHy6Ir59I1XEfV7HsE+e1Z65yKVLwJ\n",
       "sVOZvHa6YdbNCJZpVFhfDcAaOYgTEw8jREkjyMVarz/jnRDg93bRsX8aZ0CZbeJneYr1AOsofi2H\n",
       "g6jFjrLpH1osvWxqpy4opna6ffqHFs/uLwpOqpf9FjTmHkaIklLeVm30wtX/wSshwO9J0SnUwDgF\n",
       "kcJnOPyy8KFo0ZkQ8PgRtd2ZpmfKlJDfZPE7jV2kR4ZAZHKX2pMAaeRZI2jRxLyMEKXI1OcOtIfn\n",
       "pyHA76CYfyF/uAt6czkWv0QtekRl3rlYrgf7GsYHEbX77aGO9CVyHH4XwU/Q5w7TYYTxqVjGMF+w\n",
       "85kyJEusERR8vsQasVthGyFKqWNQsvKhFtdvLfxICPApP/hFSEjUQe/bjHfFfAKh9tT0D3tKLH5G\n",
       "z0ub/gWwhQn6jjR8je2DqNouW2vFALf1wVMvoJ5rT7gYsX0qkYFv2TIvrzrJGUnu7Tc5I81WMI4Z\n",
       "K22/uuSxaNbnKX7X4Ju7/eCnYo14sYPSvzNizd+b4b+4RWk5zbvlxoLgI3sFgXvhPu9miWniUoxc\n",
       "GZtAzd3aLnajbhK+iztX9oOfjpfqlg7aPqOO4+LVLfHb8vBDprfBQq7t0GuPP7zBe1aNQ3AjPfpE\n",
       "tf1x/FiO4hdH3Upm/eBHXmfs6SD8FEccl7DWmPbie8KR2R/rdR8bcg+/Rh+4Zz+fn9Trs55G0kJS\n",
       "uiQjj8FFpfbLKtNN8VPQlh33F7+sQn8LHYRf2nGgZZTPfqvi0iKERLsdP1O24s9Dk5N/8IdfanLy\n",
       "H9UOwi/pPNbcdtYbddegNFNTbc+eChZ+1wGggMg6uS21w08tQcLsIPzUBei866YN78/3dE1Y+G0C\n",
       "rbt5cosDuC80XMfWG/LKKwx+SG7TYr7iB2Vnye3poq5/XzXVaF9kFs7fq2vcwi9hJvk0A58ign60\n",
       "ko9274MNbP7+BPxyMV8RqTpLbk/9Xo98dCcMfxg+W72AH4NftCaEL9vxB84fo/0qVFn8Vi4ufEmV\n",
       "nCW3p363S7TTw74aKNVO3j/fN/wa+ycU+sE6uTVO4ETiSm2aUtei3/tqjcMvrqCty9g73YiLRvt/\n",
       "5TRsVw7NXOwoMQmoXbe/31liwpTjdMM8jlu4Nm/zWpPOF6oy+bvFs6ruZakZv8AelNfRk1uVEEh6\n",
       "Nj9bHCbpbGnfpzn8kpciqeeKQ5ZB42+6cwSZyrfME46Sfdl1XflBR4m5/qKP4xfSJDeIbmY6k3ae\n",
       "40vk76azwfRvk9YSV0up7gZ+D6ISPbkdSeKk/vWsDrdS/NR0mcVPw9HM1TBonSaqOX0cbjnBe09S\n",
       "CUTtUVhjHTuiUmzlNXwD8FPqXq+HX1hyqOSQU8tGKYraFcNbgvK02S5/j0pMby4LyOFNS8sDXS1l\n",
       "cg38ItgR7Wrmntq7yM+sqVQq2WjJqBZY/OAjgN8MHwW91ySBTrobxo1ZIfppHkD8Hq6igriUgjG+\n",
       "AajOKr0GlkFccsjhcEpF7VK+Xan8WP8+4zWjc2KnJPJ3jUJQDu9GaW1xszRWBeb9kXVymynium9q\n",
       "8CO6/uCWGocflpyHR0egCw/3WDGxziwK532k8jKiNguvUkFc0kDYGvHTVWSA8H5L5eaxBxPkcJvi\n",
       "982ATtYWil+gsQT1d8ROSeTv4ikTjMO7Wlpb3Cw1zq+tqVzIGWh8BmEUIrUdSZqnK3n7MM9+lXFA\n",
       "n1uHh3sUUsWhW01I5FERKVsfpPKTOXzzBjKPBK0S7GSkaJ12fwGX7oKkJYdLSI4zGM9DNbN5mJwy\n",
       "ADxwLUMyEt8fyeTvpiAohzcl7azDzdLlWW799RT1VwHtjIPZRDGyFjT8b5E77gZw4vflK6b78HAP\n",
       "ZmMDK/eS85vBrH4ABov4g1YmSoDMPTRD1pVVUkkdlSpadSgVQKV7V5205HAJyXEGtYF+cwiHqlvw\n",
       "FmG8WLmu2Ye/iu6vIA8//BY9GIdX3kGomyXCHeHev0fJq0dryxitVPLi+Rl7azYkk2atqQSN0nNR\n",
       "Ys4SpKV96UbJ+jLsevPucqLB6a0/R9D9urKT78PHxD1PIn/3BgjK4WXZt/J5vB8HEb+vx782DjGz\n",
       "9fmnfen/2dOQvKc+wShZpcRJZK4hSEvx+v+sEv0yahXc5USD1yavcGvUetM5TyXxd/FUDsjhVezd\n",
       "QAqPl78OOvDrU0+YoIAf/IiuW5Gp7PMuHbukxVNXgy4+XFgNEvm7cDgwh5dh38rn8WpnHPi1P65Z\n",
       "Dv7SJ3IB/fry8XdxKhOQw0vYt0vi8dpKLXm8oeDvquNO/CTxd/HABeTwUvbtUni8tlJLHm8kDPz5\n",
       "2Jxj/5TF38X7Z0AOr90GOTxePiuuhQA/ce5K5O/iA6mAHF57cJeBx0tDt3MdPyEAlcjfhecDc3ht\n",
       "9u0y8HgpnT5k/z8tkb8LOwJzeJkhk87jDcn/TytCYieRv9v8L74lc3hF9q1MHm+iOxT4wXdaHPQG\n",
       "5+8qOfdh98/hHWiPXyAer3Uye87jN8gvKpn83cfonyVzeEX2rVQe72EIB35pvgMy+bvDAXTxQV5C\n",
       "GoHCaSk0v58l/n6dRP6uVluyKuHwTklridPSV2DR+K3rzN9vjWc7sFHLzeHV6Qt5Y2S3f/wu/H5r\n",
       "51zP0KWEf7/1/8ky7aZ1VD+GAAAAAElFTkSuQmCC\n",
       "\" style=\"display:inline;vertical-align:middle;\" /></a><br>"
      ],
      "text/plain": [
       "<IPython.core.display.HTML object>"
      ]
     },
     "metadata": {},
     "output_type": "display_data"
    }
   ],
   "source": [
    "association = \\\n",
    "    Forall((i,j,k), \n",
    "           Forall((a_1_to_i,b_1_to_j,c_1_to_k), \n",
    "                  Equals(Mult(a_1_to_i, b_1_to_j, c_1_to_k), \n",
    "                         Mult(a_1_to_i, Mult(b_1_to_j), c_1_to_k)) \\\n",
    "                  .with_wrapping_at(2),\n",
    "                  domain=Complex),\n",
    "           domain=Natural)"
   ]
  },
  {
   "cell_type": "code",
   "execution_count": 105,
   "metadata": {},
   "outputs": [
    {
     "data": {
      "text/html": [
       "<strong id=\"disassociation\"><a class=\"ProveItLink\" href=\"proofs/disassociation/thm_proof.ipynb\">disassociation</a> (conjecture without proof):<br></strong> <a class=\"ProveItLink\" href=\"../__pv_it/theorems/c0736ccda4ca00ff8a2dd9365e36362a7a7ae2810/theorem_expr.ipynb\"><img src=\"data:image/png;base64,iVBORw0KGgoAAAANSUhEUgAAA40AAAAzBAMAAADBUvCSAAAAMFBMVEX///8AAAAAAAAAAAAAAAAA\n",
       "AAAAAAAAAAAAAAAAAAAAAAAAAAAAAAAAAAAAAAAAAAAv3aB7AAAAD3RSTlMAq1RmmUTNIjK7EInv\n",
       "3XZ/CtNrAAAACXBIWXMAAA7EAAAOxAGVKw4bAAAKTklEQVR42u1cfYxcVRU/8/nevPlaJfGDmnVU\n",
       "rFHcsqGkKU3cDi4IlAATMGqMyhhtiPgH04aEFGg7GlQSp+xEbGAI1kdI0O5Cd2gRscS6YEhtDLhW\n",
       "/Ai4ZvqRVLuybArLNkvseL/evHvvm5n3dt/dMn30Jjt7351zfnPf/d17zrn3nRkAb8UYHTXhfOnJ\n",
       "shhu0s1mvidv4qH3MIG7KX2JZrPqmcdCb95KaPA9zKP+KqtEznkeV4iXmkLo0ruq7glpICg8Rori\n",
       "9VF10JmcP/1vKOtJZ6RkX0B4vEecq+G6OuiLwXhkUvJHL3nwWZZMRpnF74L0l4Dw+C/x8nGFQSBa\n",
       "6XE5tPu2B8WWzG3K+tIZ6bNmIHiMTIjXw+qgo2gRZGXTesqDYkvmMmV96YzEZtq5zmNKsqMTCqHR\n",
       "3y3Stiy24K5ny6SUbbg7I8XmA8HjG+INhovqoFeiv9/KYcWku54tE1fmILsgfTMQPP5ZsoV4eW46\n",
       "sE3ai6w40XCHktWuw4M0835xPPuPuAaxtowVTOJy4FhZZHtmrXuXWko8klQuMQPAo37aOW9jB+Hn\n",
       "4ir9Winhbg+pmmGHv99Coc7b5rgQD4/fZsy7AVEZXdwTbc1FhZHWDsO1rl2ylSjS9VO4SFN3vBEA\n",
       "HkOSP0yjlfDEIFwP8Jg9hsbvIToJY09d2BWKqiXthXsYmekFSDWMNcLkf9l47n1d/R6WQT1BKyls\n",
       "9+41CShddwciShESkIc7+/3EZAB4TEn2JoU6eSMeAH2G3J7xNja2s3jY8pgmNH3beFDSRtS4a3gR\n",
       "aRYhW7//dbvxCwDvRPGsYNDtgLAMsxazrS5ge8AD3YgY7AJkK+FuMKQOEft8AHgcGXTyeAiMOTSD\n",
       "abTxCm6swngB5mA7djbpfJtbw21Uzb7GA4jovyXHzr5I42sQO5UtaKct6HZAWIaZ6gmuCwA80CH0\n",
       "1wXIVtJmbaT229w3A8DjGyWHXTXOQGS2xSPzIOsB1lEeOw4HUYsdAd6uou0jWjgD/NYwuhAxtdPd\n",
       "t49oIe35PPB9oE5sgP80NPYuQEQpUt1Wt5Da+kd4PgA8PiI7iwYYpyBU/JTAYw4+EC45NxEij0Rt\n",
       "T9b2WLsQj2XkW3keT2M36rL7IDL5lcLgZpFWgQdCiyjmBkSUQic+c7A7TT8LAI+H5L1bHx7/gXye\n",
       "5zHRCL8S5Z7xMPeD/RTnm4jaXdxQP4WfiSXyAo8XwE/R6w7TAcT5XSxjmE9buyC6H6pCsswDoWD1\n",
       "WR7I7o0NRJRSR6HMIznL7xiPJFT4hBceQyR06qHnfcZb8j4Esffo9I/6yzyPRv+zm/4NsMUU3Q/x\n",
       "U7Zvomq7bJkdSHPFsGAO4dGn0d1rD7cBsv0ukcG7Fn7qP7f6pACU3DdkCkCt3nAOHCttv7LssojW\n",
       "FyiPV+GLW73wGMUa8VLv8KifkVv+0TrZkU2Wltfce24s2D40bVUHJKE74E73ruEocqvUthSgy2OT\n",
       "JSeSEOtRNwrfwzdZ9cKjjpfulh4yq2HHsfVlHXncct+9pjtg0V4NkXz74dceum+D+wzDAeZwdx49\n",
       "AfXrk/Xux//jecpjHN1eMueFR/L4ZG8P8RhxxHsJtua0Z96RjuL+1Gx6MNT93Jp9kP67+/YD4t6m\n",
       "2Zx1Bcr0ORfHkoAehAvK3ZdZto/yGEHmPO4tzlmN/hd7iMeM45DMqKpD3+1DFx8QJpR5oK5I2SqL\n",
       "V1+amvqjNx5TU1P/rPcQj0nnsek2dehaY8mqGyvo5YSynnRFShUZj9cAoMCJnRCXu/EYLUPC7CEe\n",
       "owvQm+WGDWfvs9KTjMdNoPW1TohxwPc5ayJuva4QeZ7jEcltWsxH/LDqrLV7d1HlP1ecsPoXmoXz\n",
       "JT3BeEyYSXF7gk8pQT9SK4T79sMG/hzgYfjVYj4iVHfW2r3rtdz/4Z2w+4Pw6fp5HtvwGG5IYc52\n",
       "/IL3n+GhKNR5HlctLsxJlZ21du96NaPIA8D+BkTqvW5XzyqPll2F4hCwE2LjON6AXK5N01S78Pe/\n",
       "3BB4jEeQSTP2TVvx09jQr53AduPIzIWOGreBtdsODDlrXDhzjBrSY7iHawt2Xm7S+VBXCxJFngLe\n",
       "VpwDe9G+kJ4QR0mCS//mJ0ok6A6X939S4DG5Ekk9WRphH2D8XXeOJNf4unncUbOL3ZYuVBw1rvxV\n",
       "n8APxsmeIryZu7mM83nB0SDx6CmTOdVn8XgPqtET4tEkPhx4OafDzZTHaKbK86jhqOdKqLDTymhe\n",
       "n4CbjovelTQCUXsA1rBjTVSLrbpK7AB+l7rfa+GXTA7VHHLRqlEOo37FsImIPGZ2OwdQl4fsLwdZ\n",
       "0f7Yy1l2Nm/xGMKOaldr/6q9hfzQmlqtlguXjXqR5xE+BPgB6xHQB0wSEGX6YMKYlaKkjPWU/g9w\n",
       "BRXEtRSMix1Abaz2IjBAXHPI4bALJ5NGvlOr/UT/AedVw3PyTSnMQ/aXg6ymeMlkHq8D99yKnRBn\n",
       "S7jt6xr8mK5HuKkh8Igl5+GBUUjjYR8vJdaZJXKWyOHixouJ2iy8QAVxTQPJZOJ3V5PBwnaYys1j\n",
       "DyfJ4T7F75wBnaw1FOeAtST1N+WbUpiH7C8HWU3xkslsnZOzqV3MG2icKjAGocaOJN3vRwrQWlv2\n",
       "o5OD+tw6POxjkCqN3GxCooCqSJm9kMaP5/HFqwgeCbIa7OSkaJt2VxHXNkKSyeEakhMA4wWoZzfv\n",
       "JqcVAHdfzSVDyc+tVOYh+8tBVlO8ZDJfkhPWY39JfwGQxazkEqXQWtDw10N33Arg5PGLl04P4mGv\n",
       "5GLDq/aR86BKTj8IlRJ+oY2JMiC4e2fIOmO1KGmjUiXWhrYQqHbH6pNMDteQnACoDQ+ZIzi03YJN\n",
       "hvFM7ZrWPfxNdo9FdWPoLwdZkW334CBJbouQDxAmjz+ZORmr1QryuRx/aVqSSbPRUgKr9mSYwDFB\n",
       "WtufsWrsw7BrLrSXkwGnt/4CUfib2k7xHj4i7zAV5iH7y0Fu7aOWK/+4VT4KMo9fjX9lAmIdlrLI\n",
       "o/7fvZbk7c1JTonVEicRnCVIa/Hm/1iNfhhFhfZyMuDVyUvbdWq96Zy/ivKQfeYgWyebKvKPu5dD\n",
       "Dh4Ho8dNiIAXHoluuyrXOOheO3pRh3fbArbx8dLsV5iH7DMHmZXlyz9uzYwzDh67H/8sR57Vx/I+\n",
       "44Dly0P2mYO8tPxj+sme8o9b8zwIecjRCSePivKQfeYgLy3/mMh4yz+2SigI3wuIzTnsqqo8ZJ85\n",
       "yK2PBv/5x923uY0A8CjPaYV5yD5zkBnIMuYfC6Heuc6jFLAqzEP2mYNsHQ0vX/4xK/RrAgH7XrnC\n",
       "PGSfOcisLGP+MfMswfheeUTaGCrMQwbRtdHiOQfZL4h7/jEzNn2B4BG+2+Fg2X8ecjsKvOcg+wVx\n",
       "zz+mhZ0Cn/M8VsRFpjIPGXzkIPsGcc8/puUwBIPHjHgDKvOQl1rU/UyHeyZzYH6XTP6dwG3veoc2\n",
       "VpRBuWcyfwkWzeO63vwd3Xiuxzp0NnOQdZowYIzu8c7j+d/R7b3yOF1a+Hd0/w+EkO2mSCFImgAA\n",
       "AABJRU5ErkJggg==\n",
       "\" style=\"display:inline;vertical-align:middle;\" /></a><br>"
      ],
      "text/plain": [
       "<IPython.core.display.HTML object>"
      ]
     },
     "metadata": {},
     "output_type": "display_data"
    }
   ],
   "source": [
    "disassociation = \\\n",
    "    Forall((i,j,k), \n",
    "           Forall((a_1_to_i,b_1_to_j,c_1_to_k), \n",
    "                  Equals(Mult(a_1_to_i, Mult(b_1_to_j), c_1_to_k),\n",
    "                         Mult(a_1_to_i, b_1_to_j, c_1_to_k)) \\\n",
    "                  .with_wrapping_at(2),\n",
    "                  domain=Complex),\n",
    "           domain=Natural)"
   ]
  },
  {
   "cell_type": "code",
   "execution_count": 106,
   "metadata": {},
   "outputs": [
    {
     "name": "stdout",
     "output_type": "stream",
     "text": [
      "These theorems may now be imported from the theory package: proveit.numbers.multiplication\n"
     ]
    }
   ],
   "source": [
    "%end theorems"
   ]
  },
  {
   "cell_type": "code",
   "execution_count": null,
   "metadata": {},
   "outputs": [],
   "source": []
  }
 ],
 "metadata": {
  "kernelspec": {
   "display_name": "Python 3",
   "language": "python",
   "name": "python3"
  }
 },
 "nbformat": 4,
 "nbformat_minor": 0
}