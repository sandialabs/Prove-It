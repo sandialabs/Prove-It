{
 "cells": [
  {
   "cell_type": "markdown",
   "metadata": {},
   "source": [
    "Theorems (or conjectures) for the theory of <a class=\"ProveItLink\" href=\"theory.ipynb\">proveit.numbers.multiplication</a>\n",
    "========"
   ]
  },
  {
   "cell_type": "code",
   "execution_count": null,
   "metadata": {},
   "outputs": [],
   "source": [
    "import proveit\n",
    "## 72 spaces ===========================================================\n",
    "\n",
    "# Prepare this notebook for defining the theorems of a theory:\n",
    "%theorems_notebook # Keep this at the top following 'import proveit'.\n",
    "theory = proveit.Theory('.') # adds theory root to sys.path if necessary\n",
    "from proveit import ExprTuple, ExprRange, IndexedVar\n",
    "\n",
    "from proveit import a, b, c, d, f, i, j, k, n, x, y, Q, S\n",
    "from proveit.core_expr_types import (\n",
    "    a_1_to_i, a_1_to_n, b_1_to_j, c_1_to_j, c_1_to_k, d_1_to_k)\n",
    "\n",
    "from proveit.logic import Or, Forall, Set, InSet, Equals, NotEquals, Implies, Boolean\n",
    "from proveit.numbers import (ZeroSet, Natural, NaturalPos, Integer, IntegerNonZero, IntegerNeg, IntegerNonPos,\n",
    "                             Rational, RationalPos, RationalNeg, RationalNonNeg, RationalNonPos, RationalNonZero,\n",
    "                             Real, RealPos, RealNeg, RealNonNeg, RealNonPos, RealNonZero,\n",
    "                             Complex, ComplexNonZero)\n",
    "from proveit.numbers import (Mult, Neg, Add, subtract, Abs, Sum, num, zero, one, two, Exp,\n",
    "                            Less, LessEq, greater, greater_eq)\n",
    "from proveit.numbers.summation import summation_b1toj_fQ\n",
    "from proveit._core_.expression.operation import Function"
   ]
  },
  {
   "cell_type": "code",
   "execution_count": null,
   "metadata": {},
   "outputs": [],
   "source": [
    "%begin theorems"
   ]
  },
  {
   "cell_type": "code",
   "execution_count": null,
   "metadata": {},
   "outputs": [],
   "source": [
    "unary_mult_reduction = Forall(a, Equals(Mult(a), a))"
   ]
  },
  {
   "cell_type": "code",
   "execution_count": null,
   "metadata": {},
   "outputs": [],
   "source": [
    "mult_to_repeated_addition = \\\n",
    "     Forall((n, x), Equals(Mult(n, x), Add(ExprRange(k, x, one, n))),\n",
    "            domains=(Natural, Complex))"
   ]
  },
  {
   "cell_type": "code",
   "execution_count": null,
   "metadata": {},
   "outputs": [],
   "source": [
    "repeated_addition_to_mult = Forall((n, x), Equals(Add(ExprRange(k, x, one, n)), \n",
    "                                                  Mult(x, n)),\n",
    "                                   domains=(Natural, Complex))"
   ]
  },
  {
   "cell_type": "code",
   "execution_count": null,
   "metadata": {},
   "outputs": [],
   "source": [
    "mult_in_zero_set_bin = Forall((a, b), InSet(Mult(a, b), ZeroSet), domain=Complex,\n",
    "                              condition=Or(Equals(a, zero), Equals(b, zero)))"
   ]
  },
  {
   "cell_type": "code",
   "execution_count": null,
   "metadata": {},
   "outputs": [],
   "source": [
    "mult_in_zero_set = Forall(\n",
    "    n, Forall(a_1_to_n, InSet(Mult(a_1_to_n), ZeroSet), domain=Complex,\n",
    "              condition=Or(*ExprTuple(a_1_to_n).map_elements(lambda x : Equals(x, zero)))),\n",
    "    domain=Natural)"
   ]
  },
  {
   "cell_type": "code",
   "execution_count": null,
   "metadata": {},
   "outputs": [],
   "source": [
    "mult_nat_closure_bin = Forall((a, b), InSet(Mult(a, b), Natural), domain=Natural)"
   ]
  },
  {
   "cell_type": "code",
   "execution_count": null,
   "metadata": {},
   "outputs": [],
   "source": [
    "mult_nat_from_double_nonpos = Forall((a, b), InSet(Mult(a, b), Natural),\n",
    "                                     domain=IntegerNonPos)"
   ]
  },
  {
   "cell_type": "code",
   "execution_count": null,
   "metadata": {},
   "outputs": [],
   "source": [
    "mult_nat_closure = \\\n",
    "    Forall(n, Forall(a_1_to_n, InSet(Mult(a_1_to_n), Natural), \n",
    "                     domain=Natural), \n",
    "           domain=Natural)"
   ]
  },
  {
   "cell_type": "code",
   "execution_count": null,
   "metadata": {},
   "outputs": [],
   "source": [
    "mult_nat_pos_closure_bin = Forall((a, b), InSet(Mult(a, b), NaturalPos), domain=NaturalPos)"
   ]
  },
  {
   "cell_type": "code",
   "execution_count": null,
   "metadata": {},
   "outputs": [],
   "source": [
    "mult_nat_pos_from_double_neg = Forall((a, b), InSet(Mult(a, b), Natural),\n",
    "                                      domain=IntegerNeg)"
   ]
  },
  {
   "cell_type": "code",
   "execution_count": null,
   "metadata": {},
   "outputs": [],
   "source": [
    "mult_nat_pos_closure = \\\n",
    "    Forall(n, Forall(a_1_to_n, \n",
    "                     InSet(Mult(a_1_to_n), NaturalPos), \n",
    "                     domain=NaturalPos), \n",
    "           domain=Natural)"
   ]
  },
  {
   "cell_type": "code",
   "execution_count": null,
   "metadata": {},
   "outputs": [],
   "source": [
    "mult_int_closure_bin = Forall((a, b), InSet(Mult(a, b), Integer), domain=Integer)"
   ]
  },
  {
   "cell_type": "code",
   "execution_count": null,
   "metadata": {},
   "outputs": [],
   "source": [
    "mult_int_neg_from_left_neg = Forall((a, b), InSet(Mult(a, b), IntegerNeg),\n",
    "                                    domains=(IntegerNeg, NaturalPos))"
   ]
  },
  {
   "cell_type": "code",
   "execution_count": null,
   "metadata": {},
   "outputs": [],
   "source": [
    "mult_int_neg_from_right_neg = Forall((a, b), InSet(Mult(a, b), IntegerNeg),\n",
    "                                     domains=(NaturalPos, IntegerNeg))"
   ]
  },
  {
   "cell_type": "code",
   "execution_count": null,
   "metadata": {},
   "outputs": [],
   "source": [
    "mult_int_nonpos_from_left_nonpos = Forall((a, b), InSet(Mult(a, b), IntegerNonPos),\n",
    "                                          domains=(IntegerNonPos, Natural))"
   ]
  },
  {
   "cell_type": "code",
   "execution_count": null,
   "metadata": {},
   "outputs": [],
   "source": [
    "mult_int_nonpos_from_right_nonpos = Forall((a, b), InSet(Mult(a, b), IntegerNonPos),\n",
    "                                           domains=(Natural, IntegerNonPos))"
   ]
  },
  {
   "cell_type": "code",
   "execution_count": null,
   "metadata": {},
   "outputs": [],
   "source": [
    "mult_int_closure = \\\n",
    "    Forall(n, Forall(a_1_to_n, InSet(Mult(a_1_to_n), Integer), \n",
    "                     domain=Integer), \n",
    "           domain=Natural)"
   ]
  },
  {
   "cell_type": "code",
   "execution_count": null,
   "metadata": {},
   "outputs": [],
   "source": [
    "mult_int_nonzero_closure_bin = Forall((a, b), InSet(Mult(a, b), IntegerNonZero), \n",
    "                                      domain=IntegerNonZero)"
   ]
  },
  {
   "cell_type": "code",
   "execution_count": null,
   "metadata": {},
   "outputs": [],
   "source": [
    "mult_int_nonzero_closure = \\\n",
    "    Forall(n, Forall(a_1_to_n, InSet(Mult(a_1_to_n), IntegerNonZero), \n",
    "                     domain=IntegerNonZero), \n",
    "           domain=Natural)"
   ]
  },
  {
   "cell_type": "code",
   "execution_count": null,
   "metadata": {},
   "outputs": [],
   "source": [
    "mult_rational_closure_bin = Forall((a, b), InSet(Mult(a, b), Rational), \n",
    "                                   domain=Rational)"
   ]
  },
  {
   "cell_type": "code",
   "execution_count": null,
   "metadata": {},
   "outputs": [],
   "source": [
    "mult_rational_closure = \\\n",
    "    Forall(n, Forall(a_1_to_n, \n",
    "                     InSet(Mult(a_1_to_n), Rational), \n",
    "                     domain=Rational), \n",
    "           domain=Natural)"
   ]
  },
  {
   "cell_type": "code",
   "execution_count": null,
   "metadata": {},
   "outputs": [],
   "source": [
    "mult_rational_pos_closure_bin = Forall((a, b), InSet(Mult(a, b), RationalPos), \n",
    "                                       domain=RationalPos)"
   ]
  },
  {
   "cell_type": "code",
   "execution_count": null,
   "metadata": {},
   "outputs": [],
   "source": [
    "mult_rational_pos_from_double_neg = Forall((a, b), InSet(Mult(a, b), RationalPos), \n",
    "                                           domain=RationalNeg)"
   ]
  },
  {
   "cell_type": "code",
   "execution_count": null,
   "metadata": {},
   "outputs": [],
   "source": [
    "mult_rational_neg_from_left_neg = Forall((a, b), InSet(Mult(a, b), RationalNeg), \n",
    "                                         domains=(RationalNeg, RationalPos))"
   ]
  },
  {
   "cell_type": "code",
   "execution_count": null,
   "metadata": {},
   "outputs": [],
   "source": [
    "mult_rational_neg_from_right_neg = Forall((a, b), InSet(Mult(a, b), RationalNeg), \n",
    "                                          domains=(RationalPos, RationalNeg))"
   ]
  },
  {
   "cell_type": "code",
   "execution_count": null,
   "metadata": {},
   "outputs": [],
   "source": [
    "mult_rational_pos_closure = \\\n",
    "    Forall(n, Forall(a_1_to_n, InSet(Mult(a_1_to_n), RationalPos), \n",
    "                     domain=RationalPos), \n",
    "           domain=Natural)"
   ]
  },
  {
   "cell_type": "code",
   "execution_count": null,
   "metadata": {},
   "outputs": [],
   "source": [
    "mult_rational_nonneg_closure_bin = Forall((a, b), InSet(Mult(a, b), RationalNonNeg), \n",
    "                                          domain=RationalNonNeg)"
   ]
  },
  {
   "cell_type": "code",
   "execution_count": null,
   "metadata": {},
   "outputs": [],
   "source": [
    "mult_rational_nonneg_from_double_nonpos = Forall((a, b), InSet(Mult(a, b), RationalNonNeg), domain=RationalNonPos)"
   ]
  },
  {
   "cell_type": "code",
   "execution_count": null,
   "metadata": {},
   "outputs": [],
   "source": [
    "mult_rational_nonpos_from_left_nonpos = Forall((a, b), InSet(Mult(a, b), RationalNonPos), \n",
    "                                               domains=(RationalNonPos, RationalNonNeg))"
   ]
  },
  {
   "cell_type": "code",
   "execution_count": null,
   "metadata": {},
   "outputs": [],
   "source": [
    "mult_rational_nonpos_from_right_nonpos = Forall((a, b), InSet(Mult(a, b), RationalNonPos), \n",
    "                                                domains=(RationalNonNeg, RationalNonPos))"
   ]
  },
  {
   "cell_type": "code",
   "execution_count": null,
   "metadata": {},
   "outputs": [],
   "source": [
    "mult_rational_nonneg_closure = Forall(n, Forall(a_1_to_n, InSet(Mult(a_1_to_n), \n",
    "                                                                RationalNonNeg), \n",
    "                                                domain=RationalNonNeg), domain=Natural)"
   ]
  },
  {
   "cell_type": "code",
   "execution_count": null,
   "metadata": {},
   "outputs": [],
   "source": [
    "mult_rational_nonzero_closure_bin = Forall((a, b), InSet(Mult(a, b), RationalNonZero), \n",
    "                                          domain=RationalNonZero)"
   ]
  },
  {
   "cell_type": "code",
   "execution_count": null,
   "metadata": {},
   "outputs": [],
   "source": [
    "mult_rational_nonzero_closure = Forall(n, Forall(a_1_to_n, InSet(Mult(a_1_to_n), \n",
    "                                                                RationalNonZero), \n",
    "                                                domain=RationalNonZero), \n",
    "                                       domain=Natural)"
   ]
  },
  {
   "cell_type": "code",
   "execution_count": null,
   "metadata": {},
   "outputs": [],
   "source": [
    "mult_real_closure_bin = Forall((a, b), InSet(Mult(a, b), Real), domain=Real)"
   ]
  },
  {
   "cell_type": "code",
   "execution_count": null,
   "metadata": {},
   "outputs": [],
   "source": [
    "mult_real_closure = \\\n",
    "    Forall(n, Forall(a_1_to_n, \n",
    "                     InSet(Mult(a_1_to_n), Real), \n",
    "                     domain=Real), \n",
    "           domain=Natural)"
   ]
  },
  {
   "cell_type": "code",
   "execution_count": null,
   "metadata": {},
   "outputs": [],
   "source": [
    "mult_real_pos_closure_bin = Forall((a, b), InSet(Mult(a, b), RealPos), domain=RealPos)"
   ]
  },
  {
   "cell_type": "code",
   "execution_count": null,
   "metadata": {},
   "outputs": [],
   "source": [
    "mult_real_pos_from_double_neg = Forall((a, b), InSet(Mult(a, b), RealPos), domain=RealNeg)"
   ]
  },
  {
   "cell_type": "code",
   "execution_count": null,
   "metadata": {},
   "outputs": [],
   "source": [
    "mult_real_neg_from_left_neg = Forall((a, b), InSet(Mult(a, b), RealNeg), domains=(RealNeg, RealPos))"
   ]
  },
  {
   "cell_type": "code",
   "execution_count": null,
   "metadata": {},
   "outputs": [],
   "source": [
    "mult_real_neg_from_right_neg = Forall((a, b), InSet(Mult(a, b), RealNeg), domains=(RealPos, RealNeg))"
   ]
  },
  {
   "cell_type": "code",
   "execution_count": null,
   "metadata": {},
   "outputs": [],
   "source": [
    "mult_real_pos_closure = \\\n",
    "    Forall(n, Forall(a_1_to_n, InSet(Mult(a_1_to_n), RealPos), \n",
    "                     domain=RealPos), \n",
    "           domain=Natural)"
   ]
  },
  {
   "cell_type": "code",
   "execution_count": null,
   "metadata": {},
   "outputs": [],
   "source": [
    "mult_real_nonneg_closure_bin = Forall((a, b), InSet(Mult(a, b), RealNonNeg), domain=RealNonNeg)"
   ]
  },
  {
   "cell_type": "code",
   "execution_count": null,
   "metadata": {},
   "outputs": [],
   "source": [
    "mult_real_nonneg_from_double_nonpos = Forall((a, b), InSet(Mult(a, b), RealNonNeg), domain=RealNonPos)"
   ]
  },
  {
   "cell_type": "code",
   "execution_count": null,
   "metadata": {},
   "outputs": [],
   "source": [
    "mult_real_nonpos_from_left_nonpos = Forall((a, b), InSet(Mult(a, b), RealNonPos), domains=(RealNonPos, RealNonNeg))"
   ]
  },
  {
   "cell_type": "code",
   "execution_count": null,
   "metadata": {},
   "outputs": [],
   "source": [
    "mult_real_nonpos_from_right_nonpos = Forall((a, b), InSet(Mult(a, b), RealNonPos), domains=(RealNonNeg, RealNonPos))"
   ]
  },
  {
   "cell_type": "code",
   "execution_count": null,
   "metadata": {},
   "outputs": [],
   "source": [
    "mult_real_nonneg_closure = Forall(n, Forall(a_1_to_n, InSet(Mult(a_1_to_n), \n",
    "                                                            RealNonNeg), \n",
    "                                            domain=RealNonNeg), \n",
    "                                  domain=Natural)"
   ]
  },
  {
   "cell_type": "code",
   "execution_count": null,
   "metadata": {},
   "outputs": [],
   "source": [
    "mult_real_nonzero_closure = Forall(n, Forall(a_1_to_n, InSet(Mult(a_1_to_n), \n",
    "                                                             RealNonZero), \n",
    "                                             domain=RealNonZero), \n",
    "                                   domain=Natural)"
   ]
  },
  {
   "cell_type": "code",
   "execution_count": null,
   "metadata": {},
   "outputs": [],
   "source": [
    "mult_real_nonzero_closure_bin = Forall((a, b), InSet(Mult(a, b), RealNonZero), \n",
    "                                          domain=RealNonZero)"
   ]
  },
  {
   "cell_type": "code",
   "execution_count": null,
   "metadata": {},
   "outputs": [],
   "source": [
    "mult_complex_closure_bin = Forall((a, b), InSet(Mult(a, b), Complex), domain=Complex)"
   ]
  },
  {
   "cell_type": "code",
   "execution_count": null,
   "metadata": {},
   "outputs": [],
   "source": [
    "mult_complex_closure = \\\n",
    "    Forall(n, Forall(a_1_to_n, InSet(Mult(a_1_to_n),Complex), \n",
    "                     domain=Complex), \n",
    "           domain=Natural)"
   ]
  },
  {
   "cell_type": "code",
   "execution_count": null,
   "metadata": {},
   "outputs": [],
   "source": [
    "mult_complex_nonzero_closure_bin = Forall((a, b), InSet(Mult(a, b), ComplexNonZero), \n",
    "                                          domain=ComplexNonZero)"
   ]
  },
  {
   "cell_type": "code",
   "execution_count": null,
   "metadata": {},
   "outputs": [],
   "source": [
    "mult_complex_nonzero_closure = \\\n",
    "    Forall(n, Forall(a_1_to_n, InSet(Mult(a_1_to_n),ComplexNonZero), \n",
    "                     domain=ComplexNonZero), \n",
    "           domain=Natural)"
   ]
  },
  {
   "cell_type": "code",
   "execution_count": null,
   "metadata": {},
   "outputs": [],
   "source": [
    "mult_not_eq_zero = \\\n",
    "    Forall(n, Forall(a_1_to_n, \n",
    "                     NotEquals(Mult(a_1_to_n), zero), \n",
    "                     domain=ComplexNonZero), \n",
    "           domain=Natural)"
   ]
  },
  {
   "cell_type": "code",
   "execution_count": null,
   "metadata": {},
   "outputs": [],
   "source": [
    "elim_one_left = Forall(x, Equals(Mult(one, x), x), domain=Complex)"
   ]
  },
  {
   "cell_type": "code",
   "execution_count": null,
   "metadata": {},
   "outputs": [],
   "source": [
    "elim_one_right = Forall(x, Equals(Mult(x, one), x), domain=Complex)"
   ]
  },
  {
   "cell_type": "code",
   "execution_count": null,
   "metadata": {},
   "outputs": [],
   "source": [
    "elim_one_any = \\\n",
    "    Forall((i, j), \n",
    "           Forall((a_1_to_i, b_1_to_j), \n",
    "                  Equals(Mult(a_1_to_i, one, b_1_to_j), \n",
    "                         Mult(a_1_to_i, b_1_to_j)), \n",
    "                  domain=Complex),\n",
    "           domain=Natural)"
   ]
  },
  {
   "cell_type": "code",
   "execution_count": null,
   "metadata": {},
   "outputs": [],
   "source": [
    "mult_zero_left = Forall(x, Equals(Mult(zero, x), zero), domain=Complex)"
   ]
  },
  {
   "cell_type": "code",
   "execution_count": null,
   "metadata": {},
   "outputs": [],
   "source": [
    "mult_zero_right = Forall(x, Equals(Mult(x, zero), zero), domain=Complex)"
   ]
  },
  {
   "cell_type": "code",
   "execution_count": null,
   "metadata": {},
   "outputs": [],
   "source": [
    "mult_zero_any = \\\n",
    "    Forall((i, j), \n",
    "           Forall((a_1_to_i, b_1_to_j), \n",
    "                  Equals(Mult(a_1_to_i, zero, b_1_to_j), zero), \n",
    "                  domain=Complex),\n",
    "           domain=Natural)"
   ]
  },
  {
   "cell_type": "code",
   "execution_count": null,
   "metadata": {},
   "outputs": [],
   "source": [
    "mult_neg_left = Forall((x, y), Equals(Mult(Neg(x), y), Neg(Mult(x, y))), domain=Complex)"
   ]
  },
  {
   "cell_type": "code",
   "execution_count": null,
   "metadata": {},
   "outputs": [],
   "source": [
    "mult_neg_right = Forall((x, y), Equals(Mult(x, Neg(y)), Neg(Mult(x, y))), domain=Complex)"
   ]
  },
  {
   "cell_type": "code",
   "execution_count": null,
   "metadata": {},
   "outputs": [],
   "source": [
    "mult_neg_left_double = Forall((x, y), Equals(Neg(Mult(Neg(x), y)), Mult(x, y)), domain=Complex)"
   ]
  },
  {
   "cell_type": "code",
   "execution_count": null,
   "metadata": {},
   "outputs": [],
   "source": [
    "mult_neg_right_double = Forall((x, y), Equals(Neg(Mult(x, Neg(y))), Mult(x, y)), domain=Complex)"
   ]
  },
  {
   "cell_type": "markdown",
   "metadata": {},
   "source": [
    "### Theorems for number relations"
   ]
  },
  {
   "cell_type": "code",
   "execution_count": null,
   "metadata": {},
   "outputs": [],
   "source": [
    "left_mult_eq = Forall((a, x, y), Equals(Mult(a, x), Mult(a, y)), condition=Equals(x, y), domain=Natural)"
   ]
  },
  {
   "cell_type": "code",
   "execution_count": null,
   "metadata": {},
   "outputs": [],
   "source": [
    "left_mult_eq_int = Forall((a, x, y), Equals(Mult(a, x), Mult(a, y)), condition=Equals(x, y), domain=Integer)"
   ]
  },
  {
   "cell_type": "code",
   "execution_count": null,
   "metadata": {},
   "outputs": [],
   "source": [
    "left_mult_eq_rational = Forall((a, x, y), Equals(Mult(a, x), Mult(a, y)), condition=Equals(x, y), domain=Rational)"
   ]
  },
  {
   "cell_type": "code",
   "execution_count": null,
   "metadata": {},
   "outputs": [],
   "source": [
    "left_mult_eq_real = Forall((a, x, y), Equals(Mult(a, x), Mult(a, y)), condition=Equals(x, y), domain=Real)"
   ]
  },
  {
   "cell_type": "code",
   "execution_count": null,
   "metadata": {},
   "outputs": [],
   "source": [
    "left_mult_eq = Forall((a, x, y), Equals(Mult(a, x), Mult(a, y)), condition=Equals(x, y), domain=Complex)"
   ]
  },
  {
   "cell_type": "code",
   "execution_count": null,
   "metadata": {},
   "outputs": [],
   "source": [
    "right_mult_eq_nat = Forall((a, x, y), Equals(Mult(x, a), Mult(y, a)), condition=Equals(x, y), domain=Natural)"
   ]
  },
  {
   "cell_type": "code",
   "execution_count": null,
   "metadata": {},
   "outputs": [],
   "source": [
    "right_mult_eq_int = Forall((a, x, y), Equals(Mult(x, a), Mult(y, a)), condition=Equals(x, y), domain=Integer)"
   ]
  },
  {
   "cell_type": "code",
   "execution_count": null,
   "metadata": {},
   "outputs": [],
   "source": [
    "right_mult_eq_rational = Forall((a, x, y), Equals(Mult(x, a), Mult(y, a)), condition=Equals(x, y), domain=Rational)"
   ]
  },
  {
   "cell_type": "code",
   "execution_count": null,
   "metadata": {},
   "outputs": [],
   "source": [
    "right_mult_eq_real = Forall((a, x, y), Equals(Mult(x, a), Mult(y, a)), condition=Equals(x, y), domain=Real)"
   ]
  },
  {
   "cell_type": "code",
   "execution_count": null,
   "metadata": {},
   "outputs": [],
   "source": [
    "right_mult_eq = Forall((a, x, y), Equals(Mult(x, a), Mult(y, a)), condition=Equals(x, y))"
   ]
  },
  {
   "cell_type": "markdown",
   "metadata": {},
   "source": [
    "Note: proving left_mult_neq and right_mult_neq for the complex domain is a bit more challenging than just real numbers, but should still be applicable.  Using a polar coordinate representations, such as $r \\textrm{exp}(i \\theta)$, makes it more clear.  Suppose $x = x_r \\textrm{exp}(i \\cdot x_{\\theta})$ and $y = y_r \\textrm{exp}(i \\cdot y_{\\theta})$; if $x \\neq y$, either $x_r \\neq y_r$ or $x_{\\theta} \\neq y_{\\theta}$ (or both), so either the length or angle (or both) will differ on either side. "
   ]
  },
  {
   "cell_type": "code",
   "execution_count": null,
   "metadata": {},
   "outputs": [],
   "source": [
    "left_mult_neq_nat = Forall((a, x, y), NotEquals(Mult(a, x), Mult(a, y)),\n",
    "                           conditions=[NotEquals(x, y), NotEquals(a, zero)], domain=Natural)"
   ]
  },
  {
   "cell_type": "code",
   "execution_count": null,
   "metadata": {},
   "outputs": [],
   "source": [
    "left_mult_neq_int = Forall((a, x, y), NotEquals(Mult(a, x), Mult(a, y)),\n",
    "                           conditions=[NotEquals(x, y), NotEquals(a, zero)], domain=Integer)"
   ]
  },
  {
   "cell_type": "code",
   "execution_count": null,
   "metadata": {},
   "outputs": [],
   "source": [
    "left_mult_neq_rational = Forall((a, x, y), NotEquals(Mult(a, x), Mult(a, y)),\n",
    "                                conditions=[NotEquals(x, y), NotEquals(a, zero)], domain=Rational)"
   ]
  },
  {
   "cell_type": "code",
   "execution_count": null,
   "metadata": {},
   "outputs": [],
   "source": [
    "left_mult_neq_real = Forall((a, x, y), NotEquals(Mult(a, x), Mult(a, y)),\n",
    "                            conditions=[NotEquals(x, y), NotEquals(a, zero)], domain=Real)"
   ]
  },
  {
   "cell_type": "code",
   "execution_count": null,
   "metadata": {},
   "outputs": [],
   "source": [
    "left_mult_neq = Forall((a, x, y), NotEquals(Mult(a, x), Mult(a, y)),\n",
    "                       conditions=[NotEquals(x, y), NotEquals(a, zero)], domain=Complex)"
   ]
  },
  {
   "cell_type": "code",
   "execution_count": null,
   "metadata": {},
   "outputs": [],
   "source": [
    "right_mult_neq_nat = Forall((a, x, y), NotEquals(Mult(x, a), Mult(y, a)), \n",
    "                            conditions=[NotEquals(x, y), NotEquals(a, zero)], domain=Natural)"
   ]
  },
  {
   "cell_type": "code",
   "execution_count": null,
   "metadata": {},
   "outputs": [],
   "source": [
    "right_mult_neq_int = Forall((a, x, y), NotEquals(Mult(x, a), Mult(y, a)), \n",
    "                            conditions=[NotEquals(x, y), NotEquals(a, zero)], domain=Integer)"
   ]
  },
  {
   "cell_type": "code",
   "execution_count": null,
   "metadata": {},
   "outputs": [],
   "source": [
    "right_mult_neq_rational = Forall((a, x, y), NotEquals(Mult(x, a), Mult(y, a)), \n",
    "                                 conditions=[NotEquals(x, y), NotEquals(a, zero)], domain=Rational)"
   ]
  },
  {
   "cell_type": "code",
   "execution_count": null,
   "metadata": {},
   "outputs": [],
   "source": [
    "right_mult_neq_real = Forall((a, x, y), NotEquals(Mult(x, a), Mult(y, a)), \n",
    "                             conditions=[NotEquals(x, y), NotEquals(a, zero)], domain=Real)"
   ]
  },
  {
   "cell_type": "code",
   "execution_count": null,
   "metadata": {},
   "outputs": [],
   "source": [
    "right_mult_neq = Forall((a, x, y), NotEquals(Mult(x, a), Mult(y, a)), \n",
    "                        conditions=[NotEquals(x, y), NotEquals(a, zero)], domain=Complex)"
   ]
  },
  {
   "cell_type": "code",
   "execution_count": null,
   "metadata": {},
   "outputs": [],
   "source": [
    "strong_bound_via_right_factor_bound = (\n",
    "    Forall((a, x, y), Less(Mult(a, x), Mult(a, y)), \n",
    "           conditions=[Less(x, y), greater(a, zero)], domain=Real))"
   ]
  },
  {
   "cell_type": "code",
   "execution_count": null,
   "metadata": {},
   "outputs": [],
   "source": [
    "strong_bound_via_left_factor_bound = (\n",
    "    Forall((a, x, y), Less(Mult(x, a), Mult(y, a)),\n",
    "           conditions=[Less(x, y), greater(a, zero)], domain=Real))"
   ]
  },
  {
   "cell_type": "code",
   "execution_count": null,
   "metadata": {},
   "outputs": [],
   "source": [
    "strong_bound_via_factor_bound = (\n",
    "    Forall((i, j), Forall((x, y), Forall((a_1_to_i, b_1_to_j),\n",
    "                                         Less(Mult(a_1_to_i, x, b_1_to_j), Mult(a_1_to_i, y, b_1_to_j)),\n",
    "                                         domain=RealPos, condition=Less(x, y))),\n",
    "           domain=Natural))"
   ]
  },
  {
   "cell_type": "code",
   "execution_count": null,
   "metadata": {},
   "outputs": [],
   "source": [
    "weak_bound_via_right_factor_bound = (\n",
    "    Forall((a, x, y), LessEq(Mult(a, x), Mult(a, y)),\n",
    "           conditions=[LessEq(x, y), greater_eq(a, zero)], domain=Real))"
   ]
  },
  {
   "cell_type": "code",
   "execution_count": null,
   "metadata": {},
   "outputs": [],
   "source": [
    "weak_bound_via_left_factor_bound = (\n",
    "    Forall((a, x, y), LessEq(Mult(x, a), Mult(y, a)),\n",
    "           conditions=[LessEq(x, y), greater_eq(a, zero)],\n",
    "           domain=Real))"
   ]
  },
  {
   "cell_type": "code",
   "execution_count": null,
   "metadata": {},
   "outputs": [],
   "source": [
    "weak_bound_via_factor_bound = (\n",
    "    Forall((i, j), Forall((x, y), Forall((a_1_to_i, b_1_to_j),\n",
    "                                         LessEq(Mult(a_1_to_i, x, b_1_to_j), Mult(a_1_to_i, y, b_1_to_j)),\n",
    "                                         domain=RealNonNeg, condition=LessEq(x, y))),\n",
    "           domain=Natural))"
   ]
  },
  {
   "cell_type": "code",
   "execution_count": null,
   "metadata": {},
   "outputs": [],
   "source": [
    "reversed_strong_bound_via_right_factor_bound = (\n",
    "    Forall((a, x, y), greater(Mult(a, x), Mult(a, y)), \n",
    "           conditions=[Less(x, y), Less(a, zero)], domain=Real))"
   ]
  },
  {
   "cell_type": "code",
   "execution_count": null,
   "metadata": {},
   "outputs": [],
   "source": [
    "reversed_weak_bound_via_right_factor_bound = (\n",
    "    Forall((a, x, y), greater_eq(Mult(a, x), Mult(a, y)),\n",
    "           conditions=[LessEq(x, y), LessEq(a, zero)], domain=Real))"
   ]
  },
  {
   "cell_type": "code",
   "execution_count": null,
   "metadata": {},
   "outputs": [],
   "source": [
    "reversed_strong_bound_via_left_factor_bound = (\n",
    "    Forall((a, x, y), greater(Mult(x, a), Mult(y, a)),\n",
    "           conditions=[Less(x, y), Less(a, zero)], domain=Real))"
   ]
  },
  {
   "cell_type": "code",
   "execution_count": null,
   "metadata": {},
   "outputs": [],
   "source": [
    "reversed_weak_bound_via_left_factor_bound = (\n",
    "    Forall((a, x, y), greater_eq(Mult(x, a), Mult(y, a)),\n",
    "           conditions=[LessEq(x, y), LessEq(a, zero)], domain=Real))"
   ]
  },
  {
   "cell_type": "code",
   "execution_count": null,
   "metadata": {},
   "outputs": [],
   "source": [
    "mult_neg_any = \\\n",
    "    Forall((i, j), \n",
    "           Forall((a_1_to_i, b, c_1_to_j), \n",
    "                  Equals(Mult(a_1_to_i, Neg(b), c_1_to_j), \n",
    "                         Neg(Mult(a_1_to_i, b, c_1_to_j))), \n",
    "                  domain=Complex),\n",
    "           domain=Natural)"
   ]
  },
  {
   "cell_type": "code",
   "execution_count": null,
   "metadata": {},
   "outputs": [],
   "source": [
    "mult_neg_any_double = \\\n",
    "    Forall((i, j), \n",
    "           Forall((a_1_to_i, b, c_1_to_j), \n",
    "                  Equals(Neg(Mult(a_1_to_i, Neg(b), c_1_to_j)), \n",
    "                         Mult(a_1_to_i, b, c_1_to_j)), \n",
    "                  domain=Complex),\n",
    "           domain=Natural)"
   ]
  },
  {
   "cell_type": "code",
   "execution_count": null,
   "metadata": {},
   "outputs": [],
   "source": [
    "distribute_through_sum =  \\\n",
    "    Forall((i,j,k),\n",
    "           Forall((a_1_to_i, b_1_to_j, c_1_to_k),\n",
    "                  Equals(\n",
    "                        Mult(a_1_to_i, Add(b_1_to_j), c_1_to_k),\n",
    "                        Add(ExprRange(n,Mult(a_1_to_i, \n",
    "                                             IndexedVar(b, n), \n",
    "                                             c_1_to_k), \n",
    "                                 one, j))).with_wrapping_at(2),\n",
    "                  domain=Complex).with_wrapping(),\n",
    "           domain=Natural)"
   ]
  },
  {
   "cell_type": "code",
   "execution_count": null,
   "metadata": {},
   "outputs": [],
   "source": [
    "distribute_through_abs_sum =  \\\n",
    "    Forall((i,j,k),\n",
    "           Forall((a_1_to_i, c_1_to_k), \n",
    "                  Forall(b_1_to_j,\n",
    "                         Equals(\n",
    "                            Mult(a_1_to_i, Abs(Add(b_1_to_j)), c_1_to_k),\n",
    "                            Abs(Add(ExprRange(n, Mult(a_1_to_i, IndexedVar(b, n), c_1_to_k), \n",
    "                                              one, j)))).with_wrapping_at(2),\n",
    "                         domain=Complex).with_wrapping(),\n",
    "                  domain=RealNonNeg).with_wrapping(),\n",
    "           domain=Natural)"
   ]
  },
  {
   "cell_type": "code",
   "execution_count": null,
   "metadata": {},
   "outputs": [],
   "source": [
    "distribute_through_subtract =  \\\n",
    "    Forall((i,j),\n",
    "           Forall((a_1_to_i, x, y, b_1_to_j),\n",
    "                  Equals(\n",
    "                        Mult(a_1_to_i, subtract(x, y), b_1_to_j),\n",
    "                        subtract(Mult(a_1_to_i, x, b_1_to_j),\n",
    "                                 Mult(a_1_to_i, y, b_1_to_j)))\\\n",
    "                  .with_wrapping_at(2), \n",
    "                  domain=Complex),\n",
    "           domain=Natural)"
   ]
  },
  {
   "cell_type": "code",
   "execution_count": null,
   "metadata": {},
   "outputs": [],
   "source": [
    "distribute_through_summation = \\\n",
    "    Forall((i,j,k), \n",
    "           Forall((f, Q),\n",
    "                  Implies(Forall(b_1_to_j, \n",
    "                                 InSet(Function(f, b_1_to_j), Complex), \n",
    "                                 condition=Function(Q, b_1_to_j)),\n",
    "                          Forall((a_1_to_i, c_1_to_k),\n",
    "                                 Equals(Mult(a_1_to_i, \n",
    "                                             summation_b1toj_fQ, \n",
    "                                             c_1_to_k),\n",
    "                                        Sum(b_1_to_j, \n",
    "                                            Mult(a_1_to_i,\n",
    "                                                 Function(f, b_1_to_j), \n",
    "                                                 c_1_to_k), \n",
    "                                            condition=Function(Q, b_1_to_j)))\\\n",
    "                                 .with_wrapping_at(2),\n",
    "                                 domain=Complex).with_wrapping())\n",
    "                  .with_wrap_after_operator()), \n",
    "           domains=(Natural, NaturalPos, Natural))"
   ]
  },
  {
   "cell_type": "code",
   "execution_count": null,
   "metadata": {},
   "outputs": [],
   "source": [
    "commutation = Forall((a, b), Equals(Mult(a, b), Mult(b, a)), domain=Complex)"
   ]
  },
  {
   "cell_type": "code",
   "execution_count": null,
   "metadata": {},
   "outputs": [],
   "source": [
    "rightward_commutation = \\\n",
    "    Forall((i,j,k),\n",
    "           Forall((a_1_to_i,b,c_1_to_j,d_1_to_k), \n",
    "                  Equals(Mult(a_1_to_i, b, c_1_to_j, d_1_to_k), \n",
    "                         Mult(a_1_to_i, c_1_to_j, b, d_1_to_k)) \\\n",
    "                  .with_wrapping_at(2), \n",
    "                  domain=Complex),\n",
    "           domain=Natural)"
   ]
  },
  {
   "cell_type": "code",
   "execution_count": null,
   "metadata": {},
   "outputs": [],
   "source": [
    "leftward_commutation = \\\n",
    "    Forall((i,j,k),\n",
    "           Forall((a_1_to_i,b_1_to_j,c,d_1_to_k), \n",
    "                  Equals(Mult(a_1_to_i, b_1_to_j, c, d_1_to_k), \n",
    "                         Mult(a_1_to_i, c, b_1_to_j, d_1_to_k)) \\\n",
    "                  .with_wrapping_at(2), \n",
    "                  domain=Complex), \n",
    "           domain=Natural)"
   ]
  },
  {
   "cell_type": "code",
   "execution_count": null,
   "metadata": {},
   "outputs": [],
   "source": [
    "association = \\\n",
    "    Forall((i,j,k), \n",
    "           Forall((a_1_to_i,b_1_to_j,c_1_to_k), \n",
    "                  Equals(Mult(a_1_to_i, b_1_to_j, c_1_to_k), \n",
    "                         Mult(a_1_to_i, Mult(b_1_to_j), c_1_to_k)) \\\n",
    "                  .with_wrapping_at(2),\n",
    "                  domain=Complex),\n",
    "           domain=Natural)"
   ]
  },
  {
   "cell_type": "code",
   "execution_count": null,
   "metadata": {},
   "outputs": [],
   "source": [
    "disassociation = \\\n",
    "    Forall((i,j,k), \n",
    "           Forall((a_1_to_i,b_1_to_j,c_1_to_k), \n",
    "                  Equals(Mult(a_1_to_i, Mult(b_1_to_j), c_1_to_k),\n",
    "                         Mult(a_1_to_i, b_1_to_j, c_1_to_k)) \\\n",
    "                  .with_wrapping_at(2),\n",
    "                  domain=Complex),\n",
    "           domain=Natural)"
   ]
  },
  {
   "cell_type": "code",
   "execution_count": null,
   "metadata": {},
   "outputs": [],
   "source": [
    "%end theorems"
   ]
  },
  {
   "cell_type": "code",
   "execution_count": null,
   "metadata": {},
   "outputs": [],
   "source": []
  }
 ],
 "metadata": {
  "kernelspec": {
   "display_name": "Python 3 (ipykernel)",
   "language": "python",
   "name": "python3"
  }
 },
 "nbformat": 4,
 "nbformat_minor": 0
}
