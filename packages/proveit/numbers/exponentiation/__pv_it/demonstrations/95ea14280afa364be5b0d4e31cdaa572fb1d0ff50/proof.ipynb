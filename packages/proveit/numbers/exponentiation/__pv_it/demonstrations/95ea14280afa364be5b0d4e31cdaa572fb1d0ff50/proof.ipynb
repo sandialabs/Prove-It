{
 "cells": [
  {
   "cell_type": "markdown",
   "metadata": {},
   "source": [
    "Show the Proof\n",
    "========"
   ]
  },
  {
   "cell_type": "code",
   "execution_count": 1,
   "metadata": {},
   "outputs": [
    {
     "data": {
      "text/html": [
       "<table><tr><th>&nbsp;</th><th>step type</th><th>requirements</th><th>statement</th></tr>\n",
       "<tr><td><a name=\"proveit.numbers.exponentiation.demonstrations.95ea14280afa364be5b0d4e31cdaa572fb1d0ff50_step0\">0</a></td><td>instantiation</td><td><a href=\"#proveit.numbers.exponentiation.demonstrations.95ea14280afa364be5b0d4e31cdaa572fb1d0ff50_step1\">1</a>, <a href=\"#proveit.numbers.exponentiation.demonstrations.95ea14280afa364be5b0d4e31cdaa572fb1d0ff50_step2\">2</a>, <a href=\"#proveit.numbers.exponentiation.demonstrations.95ea14280afa364be5b0d4e31cdaa572fb1d0ff50_step3\">3</a></td><td><span style=\"font-size:20px;\"><a class=\"ProveItLink\" href=\"../b7153c0033e407b6f25af7375428bbdcf12a6b600/expr.ipynb\"><img src=\"../b7153c0033e407b6f25af7375428bbdcf12a6b600/expr.png\" style=\"display:inline;vertical-align:middle;\" /></a>, <a class=\"ProveItLink\" href=\"../17c23827fca080b752568c5794e0898dfd342a790/expr.ipynb\"><img src=\"../17c23827fca080b752568c5794e0898dfd342a790/expr.png\" style=\"display:inline;vertical-align:middle;\" /></a> <a class=\"ProveItLink\" href=\"proof.ipynb\" style=\"text-decoration: none\">&nbsp;&#x22A2;&nbsp;&nbsp;</a><a class=\"ProveItLink\" href=\"../29d8fb21e46af30a9d0aac02541b3827e74f6b420/expr.ipynb\"><img src=\"../29d8fb21e46af30a9d0aac02541b3827e74f6b420/expr.png\" style=\"display:inline;vertical-align:middle;\" /></a></span></td></tr>\n",
       "<tr><td>&nbsp;</td><td colspan=4 style=\"text-align:left\"><span style=\"font-size:20px;\"><a class=\"ProveItLink\" href=\"../../../../../__pv_it/common/c06c606ec12678c58933ac85412ecadc2ae28be60/expr.ipynb\"><img src=\"../../../../../__pv_it/common/c06c606ec12678c58933ac85412ecadc2ae28be60/expr.png\" style=\"display:inline;vertical-align:middle;\" /></a> : <a class=\"ProveItLink\" href=\"../../../../../__pv_it/common/a0d9d672aa5e272d907247690c152cc2c6daafb70/expr.ipynb\"><img src=\"../../../../../__pv_it/common/a0d9d672aa5e272d907247690c152cc2c6daafb70/expr.png\" style=\"display:inline;vertical-align:middle;\" /></a>, <a class=\"ProveItLink\" href=\"../../../../../__pv_it/common/195236b98c6c564a75b5dbada74b173bc52d5c3e0/expr.ipynb\"><img src=\"../../../../../__pv_it/common/195236b98c6c564a75b5dbada74b173bc52d5c3e0/expr.png\" style=\"display:inline;vertical-align:middle;\" /></a> : <a class=\"ProveItLink\" href=\"../../../../../__pv_it/common/ff7dba4ef0bbe791ab573bf2d9c220a304399ac80/expr.ipynb\"><img src=\"../../../../../__pv_it/common/ff7dba4ef0bbe791ab573bf2d9c220a304399ac80/expr.png\" style=\"display:inline;vertical-align:middle;\" /></a></span></td></tr><tr><td><a name=\"proveit.numbers.exponentiation.demonstrations.95ea14280afa364be5b0d4e31cdaa572fb1d0ff50_step1\">1</a></td><td>theorem</td><td></td><td><span style=\"font-size:20px;\"> <a class=\"ProveItLink\" href=\"../../../_theory_nbs_/proofs/exp_natpos_closure/thm_proof.ipynb\" style=\"text-decoration: none\">&nbsp;&#x22A2;&nbsp;&nbsp;</a><a class=\"ProveItLink\" href=\"../../theorems/c6b2906656deb094c57a1a1d1d504dc08d415e850/expr.ipynb\"><img src=\"../../theorems/c6b2906656deb094c57a1a1d1d504dc08d415e850/expr.png\" style=\"display:inline;vertical-align:middle;\" /></a></span></td></tr>\n",
       "<tr><td>&nbsp;</td><td colspan=4 style-\"text-align:left\"><a class=\"ProveItLink\" href=\"../../../_theory_nbs_/proofs/exp_natpos_closure/thm_proof.ipynb\">proveit.numbers.exponentiation.exp_natpos_closure</a></td></tr><tr><td><a name=\"proveit.numbers.exponentiation.demonstrations.95ea14280afa364be5b0d4e31cdaa572fb1d0ff50_step2\">2</a></td><td>assumption</td><td></td><td><span style=\"font-size:20px;\"><a class=\"ProveItLink\" href=\"../b7153c0033e407b6f25af7375428bbdcf12a6b600/expr.ipynb\"><img src=\"../b7153c0033e407b6f25af7375428bbdcf12a6b600/expr.png\" style=\"display:inline;vertical-align:middle;\" /></a> <a class=\"ProveItLink\" href=\"../99a19a821028c456abff408738c62dcfe2c9de870/proof.ipynb\" style=\"text-decoration: none\">&nbsp;&#x22A2;&nbsp;&nbsp;</a><a class=\"ProveItLink\" href=\"../b7153c0033e407b6f25af7375428bbdcf12a6b600/expr.ipynb\"><img src=\"../b7153c0033e407b6f25af7375428bbdcf12a6b600/expr.png\" style=\"display:inline;vertical-align:middle;\" /></a></span></td></tr>\n",
       "<tr><td><a name=\"proveit.numbers.exponentiation.demonstrations.95ea14280afa364be5b0d4e31cdaa572fb1d0ff50_step3\">3</a></td><td>assumption</td><td></td><td><span style=\"font-size:20px;\"><a class=\"ProveItLink\" href=\"../17c23827fca080b752568c5794e0898dfd342a790/expr.ipynb\"><img src=\"../17c23827fca080b752568c5794e0898dfd342a790/expr.png\" style=\"display:inline;vertical-align:middle;\" /></a> <a class=\"ProveItLink\" href=\"../f5fabf1bb7570aaa609cc35dccb0771a1d0583820/proof.ipynb\" style=\"text-decoration: none\">&nbsp;&#x22A2;&nbsp;&nbsp;</a><a class=\"ProveItLink\" href=\"../17c23827fca080b752568c5794e0898dfd342a790/expr.ipynb\"><img src=\"../17c23827fca080b752568c5794e0898dfd342a790/expr.png\" style=\"display:inline;vertical-align:middle;\" /></a></span></td></tr>\n",
       "</table>"
      ],
      "text/plain": [
       "<proveit._core_.proof._ShowProof at 0x7fa7a02d2eb8>"
      ]
     },
     "execution_count": 1,
     "metadata": {},
     "output_type": "execute_result"
    }
   ],
   "source": [
    "import proveit\n",
    "# Automation is not needed when only showing a stored proof:\n",
    "proveit.defaults.automation = False # This will speed things up.\n",
    "proveit.defaults.inline_pngs = False # Makes files smaller.\n",
    "%show_proof"
   ]
  },
  {
   "cell_type": "code",
   "execution_count": null,
   "metadata": {},
   "outputs": [],
   "source": []
  }
 ],
 "metadata": {
  "kernelspec": {
   "display_name": "Python 3",
   "language": "python",
   "name": "python3"
  }
 },
 "nbformat": 4,
 "nbformat_minor": 0
}