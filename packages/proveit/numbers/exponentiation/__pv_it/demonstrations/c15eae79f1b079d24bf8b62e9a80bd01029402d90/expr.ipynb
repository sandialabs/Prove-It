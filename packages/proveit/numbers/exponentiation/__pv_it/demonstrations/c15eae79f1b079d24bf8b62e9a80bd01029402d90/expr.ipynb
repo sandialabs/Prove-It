{
 "cells": [
  {
   "cell_type": "markdown",
   "metadata": {},
   "source": [
    "Expression of type <a class=\"ProveItLink\" href=\"../../../../../../../doc/html/api/proveit.ExprTuple.html\">ExprTuple</a>\n",
    "=======================\n",
    "# from the theory of <a class=\"ProveItLink\" href=\"../../../_theory_nbs_/theory.ipynb\">proveit.numbers.exponentiation</a>"
   ]
  },
  {
   "cell_type": "code",
   "execution_count": 1,
   "metadata": {},
   "outputs": [],
   "source": [
    "import proveit\n",
    "# Automation is not needed when building an expression:\n",
    "proveit.defaults.automation = False # This will speed things up.\n",
    "proveit.defaults.inline_pngs = False # Makes files smaller.\n",
    "%load_expr # Load the stored expression as 'stored_expr'\n",
    "# import Expression classes needed to build the expression\n",
    "from proveit import ExprTuple, a, b, c, d, u, v, w, x, y, z\n",
    "from proveit.logic import InSet\n",
    "from proveit.numbers import Less, LessEq, Real, greater, greater_eq, one"
   ]
  },
  {
   "cell_type": "code",
   "execution_count": 2,
   "metadata": {},
   "outputs": [
    {
     "data": {
      "text/html": [
       "<strong id=\"expr\">expr:</strong> <a class=\"ProveItLink\" href=\"expr.ipynb\"><img src=\"expr.png\" style=\"display:inline;vertical-align:middle;\" /></a><br>"
      ],
      "text/plain": [
       "<IPython.core.display.HTML object>"
      ]
     },
     "metadata": {},
     "output_type": "display_data"
    }
   ],
   "source": [
    "# build up the expression from sub-expressions\n",
    "expr = ExprTuple(greater(a, one), greater(b, one), greater(c, one), greater(d, one), InSet(a, Real), InSet(b, Real), InSet(c, Real), InSet(d, Real), InSet(u, Real), InSet(v, Real), InSet(w, Real), InSet(x, Real), InSet(y, Real), InSet(z, Real), Less(x, y), LessEq(x, z), greater(x, v), greater_eq(x, w))"
   ]
  },
  {
   "cell_type": "code",
   "execution_count": 3,
   "metadata": {},
   "outputs": [
    {
     "name": "stdout",
     "output_type": "stream",
     "text": [
      "Passed sanity check: expr matches stored_expr\n"
     ]
    }
   ],
   "source": [
    "# check that the built expression is the same as the stored expression\n",
    "assert expr == stored_expr\n",
    "assert expr._style_id == stored_expr._style_id\n",
    "print(\"Passed sanity check: expr matches stored_expr\")"
   ]
  },
  {
   "cell_type": "code",
   "execution_count": 4,
   "metadata": {},
   "outputs": [
    {
     "name": "stdout",
     "output_type": "stream",
     "text": [
      "\\left(a > 1, b > 1, c > 1, d > 1, a \\in \\mathbb{R}, b \\in \\mathbb{R}, c \\in \\mathbb{R}, d \\in \\mathbb{R}, u \\in \\mathbb{R}, v \\in \\mathbb{R}, w \\in \\mathbb{R}, x \\in \\mathbb{R}, y \\in \\mathbb{R}, z \\in \\mathbb{R}, x < y, x \\leq z, x > v, x \\geq w\\right)\n"
     ]
    }
   ],
   "source": [
    "# Show the LaTeX representation of the expression for convenience if you need it.\n",
    "print(stored_expr.latex())"
   ]
  },
  {
   "cell_type": "code",
   "execution_count": 5,
   "metadata": {},
   "outputs": [
    {
     "data": {
      "text/html": [
       "<table>\n",
       "<tr><th>name</th><th>description</th><th>default</th><th>current value</th><th>related methods</th></tr><tr><td>wrap_positions</td><td>position(s) at which wrapping is to occur; 'n' is after the nth comma.</td><td>()</td><td>()</td><td>('with_wrapping_at',)</td></tr>\n",
       "<tr><td>justification</td><td>if any wrap positions are set, justify to the 'left', 'center', or 'right'</td><td>left</td><td>left</td><td>('with_justification',)</td></tr>\n",
       "</table>\n"
      ],
      "text/plain": [
       "style name: wrap_positions\n",
       "description: position(s) at which wrapping is to occur; 'n' is after the nth comma.\n",
       "default: ()\n",
       "current value: ()\n",
       "related methods: ('with_wrapping_at',)\n",
       "style name: justification\n",
       "description: if any wrap positions are set, justify to the 'left', 'center', or 'right'\n",
       "default: left\n",
       "current value: left\n",
       "related methods: ('with_justification',)"
      ]
     },
     "metadata": {},
     "output_type": "display_data"
    }
   ],
   "source": [
    "stored_expr.style_options()"
   ]
  },
  {
   "cell_type": "code",
   "execution_count": 6,
   "metadata": {},
   "outputs": [
    {
     "data": {
      "text/html": [
       "<table><tr><th>&nbsp;</th><th>core type</th><th>sub-expressions</th><th>expression</th></tr>\n",
       "<tr><td>0</td><td>ExprTuple</td><td>1, 2, 3, 4, 5, 6, 7, 8, 9, 10, 11, 12, 13, 14, 15, 16, 17, 18</td><td><a class=\"ProveItLink\" href=\"expr.ipynb\"><img src=\"expr.png\" style=\"display:inline;vertical-align:middle;\" /></a></td></tr>\n",
       "<tr><td>1</td><td>Operation</td><td>operator:&nbsp;36<br>operands:&nbsp;19<br></td><td><a class=\"ProveItLink\" href=\"../e6ed1880d8a5adc965bd31595086d71670c4cffd0/expr.ipynb\"><img src=\"../e6ed1880d8a5adc965bd31595086d71670c4cffd0/expr.png\" style=\"display:inline;vertical-align:middle;\" /></a></td></tr>\n",
       "<tr><td>2</td><td>Operation</td><td>operator:&nbsp;36<br>operands:&nbsp;20<br></td><td><a class=\"ProveItLink\" href=\"../f64a14603d64f095c236ee7a99faacdb44a413ba0/expr.ipynb\"><img src=\"../f64a14603d64f095c236ee7a99faacdb44a413ba0/expr.png\" style=\"display:inline;vertical-align:middle;\" /></a></td></tr>\n",
       "<tr><td>3</td><td>Operation</td><td>operator:&nbsp;36<br>operands:&nbsp;21<br></td><td><a class=\"ProveItLink\" href=\"../218b463001a6dd44bd64bf973d8797c06d976af30/expr.ipynb\"><img src=\"../218b463001a6dd44bd64bf973d8797c06d976af30/expr.png\" style=\"display:inline;vertical-align:middle;\" /></a></td></tr>\n",
       "<tr><td>4</td><td>Operation</td><td>operator:&nbsp;36<br>operands:&nbsp;22<br></td><td><a class=\"ProveItLink\" href=\"../493b346dfaf28d5dea575546bf1490c4870eb26e0/expr.ipynb\"><img src=\"../493b346dfaf28d5dea575546bf1490c4870eb26e0/expr.png\" style=\"display:inline;vertical-align:middle;\" /></a></td></tr>\n",
       "<tr><td>5</td><td>Operation</td><td>operator:&nbsp;32<br>operands:&nbsp;23<br></td><td><a class=\"ProveItLink\" href=\"../../../../ordering/__pv_it/theorems/4aa8d696b1f407d6126de9f51a052e8d90e0848c0/expr.ipynb\"><img src=\"../../../../ordering/__pv_it/theorems/4aa8d696b1f407d6126de9f51a052e8d90e0848c0/expr.png\" style=\"display:inline;vertical-align:middle;\" /></a></td></tr>\n",
       "<tr><td>6</td><td>Operation</td><td>operator:&nbsp;32<br>operands:&nbsp;24<br></td><td><a class=\"ProveItLink\" href=\"../../../../ordering/__pv_it/theorems/6e5cad5b2984ed0d75bd47bd0c542ec447a4f3570/expr.ipynb\"><img src=\"../../../../ordering/__pv_it/theorems/6e5cad5b2984ed0d75bd47bd0c542ec447a4f3570/expr.png\" style=\"display:inline;vertical-align:middle;\" /></a></td></tr>\n",
       "<tr><td>7</td><td>Operation</td><td>operator:&nbsp;32<br>operands:&nbsp;25<br></td><td><a class=\"ProveItLink\" href=\"../../theorems/d550e8309ef79ca46e4c9fb5617a392ea678789b0/expr.ipynb\"><img src=\"../../theorems/d550e8309ef79ca46e4c9fb5617a392ea678789b0/expr.png\" style=\"display:inline;vertical-align:middle;\" /></a></td></tr>\n",
       "<tr><td>8</td><td>Operation</td><td>operator:&nbsp;32<br>operands:&nbsp;26<br></td><td><a class=\"ProveItLink\" href=\"../../theorems/41c3ad9f29c40b69fd61c49f41684c1b813e9e850/expr.ipynb\"><img src=\"../../theorems/41c3ad9f29c40b69fd61c49f41684c1b813e9e850/expr.png\" style=\"display:inline;vertical-align:middle;\" /></a></td></tr>\n",
       "<tr><td>9</td><td>Operation</td><td>operator:&nbsp;32<br>operands:&nbsp;27<br></td><td><a class=\"ProveItLink\" href=\"../1d6852cc83377b6795e77f0bb107f9df1103bf130/expr.ipynb\"><img src=\"../1d6852cc83377b6795e77f0bb107f9df1103bf130/expr.png\" style=\"display:inline;vertical-align:middle;\" /></a></td></tr>\n",
       "<tr><td>10</td><td>Operation</td><td>operator:&nbsp;32<br>operands:&nbsp;28<br></td><td><a class=\"ProveItLink\" href=\"../566226ba560b7bc90e74143ac9386548ed114a360/expr.ipynb\"><img src=\"../566226ba560b7bc90e74143ac9386548ed114a360/expr.png\" style=\"display:inline;vertical-align:middle;\" /></a></td></tr>\n",
       "<tr><td>11</td><td>Operation</td><td>operator:&nbsp;32<br>operands:&nbsp;29<br></td><td><a class=\"ProveItLink\" href=\"../a7c8ff0c12601535056faf6cbd3f54f388d751000/expr.ipynb\"><img src=\"../a7c8ff0c12601535056faf6cbd3f54f388d751000/expr.png\" style=\"display:inline;vertical-align:middle;\" /></a></td></tr>\n",
       "<tr><td>12</td><td>Operation</td><td>operator:&nbsp;32<br>operands:&nbsp;30<br></td><td><a class=\"ProveItLink\" href=\"../../../../ordering/__pv_it/theorems/d1323f34847310a404e8089c2c268d3c2eb89dbf0/expr.ipynb\"><img src=\"../../../../ordering/__pv_it/theorems/d1323f34847310a404e8089c2c268d3c2eb89dbf0/expr.png\" style=\"display:inline;vertical-align:middle;\" /></a></td></tr>\n",
       "<tr><td>13</td><td>Operation</td><td>operator:&nbsp;32<br>operands:&nbsp;31<br></td><td><a class=\"ProveItLink\" href=\"../../../../ordering/__pv_it/theorems/5d76fdd975252a644e3e1cb067a357f9a9c8486a0/expr.ipynb\"><img src=\"../../../../ordering/__pv_it/theorems/5d76fdd975252a644e3e1cb067a357f9a9c8486a0/expr.png\" style=\"display:inline;vertical-align:middle;\" /></a></td></tr>\n",
       "<tr><td>14</td><td>Operation</td><td>operator:&nbsp;32<br>operands:&nbsp;33<br></td><td><a class=\"ProveItLink\" href=\"../4c5fb6064ed81f83132c10d4b7f508806e4b6da20/expr.ipynb\"><img src=\"../4c5fb6064ed81f83132c10d4b7f508806e4b6da20/expr.png\" style=\"display:inline;vertical-align:middle;\" /></a></td></tr>\n",
       "<tr><td>15</td><td>Operation</td><td>operator:&nbsp;36<br>operands:&nbsp;34<br></td><td><a class=\"ProveItLink\" href=\"../../../../ordering/__pv_it/theorems/44d10bba886cb9c03d8c1d01224b9827d41c27660/expr.ipynb\"><img src=\"../../../../ordering/__pv_it/theorems/44d10bba886cb9c03d8c1d01224b9827d41c27660/expr.png\" style=\"display:inline;vertical-align:middle;\" /></a></td></tr>\n",
       "<tr><td>16</td><td>Operation</td><td>operator:&nbsp;38<br>operands:&nbsp;35<br></td><td><a class=\"ProveItLink\" href=\"../50829647483a75a463faf4f86a138ea19ac5a80e0/expr.ipynb\"><img src=\"../50829647483a75a463faf4f86a138ea19ac5a80e0/expr.png\" style=\"display:inline;vertical-align:middle;\" /></a></td></tr>\n",
       "<tr><td>17</td><td>Operation</td><td>operator:&nbsp;36<br>operands:&nbsp;37<br></td><td><a class=\"ProveItLink\" href=\"../7f050f03935fc21cb34ff6fdce6d36336271128c0/expr.ipynb\"><img src=\"../7f050f03935fc21cb34ff6fdce6d36336271128c0/expr.png\" style=\"display:inline;vertical-align:middle;\" /></a></td></tr>\n",
       "<tr><td>18</td><td>Operation</td><td>operator:&nbsp;38<br>operands:&nbsp;39<br></td><td><a class=\"ProveItLink\" href=\"../0ef74d541c646f7e6988bc61b8d81d12faca31ad0/expr.ipynb\"><img src=\"../0ef74d541c646f7e6988bc61b8d81d12faca31ad0/expr.png\" style=\"display:inline;vertical-align:middle;\" /></a></td></tr>\n",
       "<tr><td>19</td><td>ExprTuple</td><td>40, 41</td><td><a class=\"ProveItLink\" href=\"../c6d85f532ec5cb789b4fa75a0272e267fe9ddca70/expr.ipynb\"><img src=\"../c6d85f532ec5cb789b4fa75a0272e267fe9ddca70/expr.png\" style=\"display:inline;vertical-align:middle;\" /></a></td></tr>\n",
       "<tr><td>20</td><td>ExprTuple</td><td>40, 42</td><td><a class=\"ProveItLink\" href=\"../1dca9086266bab5c3c7aab5e31f247dde10e01420/expr.ipynb\"><img src=\"../1dca9086266bab5c3c7aab5e31f247dde10e01420/expr.png\" style=\"display:inline;vertical-align:middle;\" /></a></td></tr>\n",
       "<tr><td>21</td><td>ExprTuple</td><td>40, 43</td><td><a class=\"ProveItLink\" href=\"../33fa5e2b55a2134ecc0deef502ea726609f58eb00/expr.ipynb\"><img src=\"../33fa5e2b55a2134ecc0deef502ea726609f58eb00/expr.png\" style=\"display:inline;vertical-align:middle;\" /></a></td></tr>\n",
       "<tr><td>22</td><td>ExprTuple</td><td>40, 44</td><td><a class=\"ProveItLink\" href=\"../9ba78ae4720e481daec6f576c7bbfdcd6733bf670/expr.ipynb\"><img src=\"../9ba78ae4720e481daec6f576c7bbfdcd6733bf670/expr.png\" style=\"display:inline;vertical-align:middle;\" /></a></td></tr>\n",
       "<tr><td>23</td><td>ExprTuple</td><td>41, 46</td><td><a class=\"ProveItLink\" href=\"../../../../ordering/__pv_it/theorems/4b81e64da1c6f03396560fe07bd4a5be1d27e6ab0/expr.ipynb\"><img src=\"../../../../ordering/__pv_it/theorems/4b81e64da1c6f03396560fe07bd4a5be1d27e6ab0/expr.png\" style=\"display:inline;vertical-align:middle;\" /></a></td></tr>\n",
       "<tr><td>24</td><td>ExprTuple</td><td>42, 46</td><td><a class=\"ProveItLink\" href=\"../../../../ordering/__pv_it/theorems/3cf9b209cada40f4dbeb74780e8d7cfa407b10aa0/expr.ipynb\"><img src=\"../../../../ordering/__pv_it/theorems/3cf9b209cada40f4dbeb74780e8d7cfa407b10aa0/expr.png\" style=\"display:inline;vertical-align:middle;\" /></a></td></tr>\n",
       "<tr><td>25</td><td>ExprTuple</td><td>43, 46</td><td><a class=\"ProveItLink\" href=\"../../theorems/54ad27fbcacfe9ab74eb88f77e3e29beb7c0d0f20/expr.ipynb\"><img src=\"../../theorems/54ad27fbcacfe9ab74eb88f77e3e29beb7c0d0f20/expr.png\" style=\"display:inline;vertical-align:middle;\" /></a></td></tr>\n",
       "<tr><td>26</td><td>ExprTuple</td><td>44, 46</td><td><a class=\"ProveItLink\" href=\"../../theorems/6883c2eae0fb1566a9df13fab529d52f5f3c76330/expr.ipynb\"><img src=\"../../theorems/6883c2eae0fb1566a9df13fab529d52f5f3c76330/expr.png\" style=\"display:inline;vertical-align:middle;\" /></a></td></tr>\n",
       "<tr><td>27</td><td>ExprTuple</td><td>45, 46</td><td><a class=\"ProveItLink\" href=\"../1498203462c9eab4a3247313a38b457501c4791a0/expr.ipynb\"><img src=\"../1498203462c9eab4a3247313a38b457501c4791a0/expr.png\" style=\"display:inline;vertical-align:middle;\" /></a></td></tr>\n",
       "<tr><td>28</td><td>ExprTuple</td><td>49, 46</td><td><a class=\"ProveItLink\" href=\"../4ee25e056f5142b9149cb58c2a8093d9043ef3210/expr.ipynb\"><img src=\"../4ee25e056f5142b9149cb58c2a8093d9043ef3210/expr.png\" style=\"display:inline;vertical-align:middle;\" /></a></td></tr>\n",
       "<tr><td>29</td><td>ExprTuple</td><td>50, 46</td><td><a class=\"ProveItLink\" href=\"../a1e76385ea63f8a3b54ab9592d4fde0de41f20d60/expr.ipynb\"><img src=\"../a1e76385ea63f8a3b54ab9592d4fde0de41f20d60/expr.png\" style=\"display:inline;vertical-align:middle;\" /></a></td></tr>\n",
       "<tr><td>30</td><td>ExprTuple</td><td>51, 46</td><td><a class=\"ProveItLink\" href=\"../../../../ordering/__pv_it/theorems/d87b972e3e29265b9fca1a9cb6e1de56983159ab0/expr.ipynb\"><img src=\"../../../../ordering/__pv_it/theorems/d87b972e3e29265b9fca1a9cb6e1de56983159ab0/expr.png\" style=\"display:inline;vertical-align:middle;\" /></a></td></tr>\n",
       "<tr><td>31</td><td>ExprTuple</td><td>47, 46</td><td><a class=\"ProveItLink\" href=\"../../../../ordering/__pv_it/theorems/bee9e297dbbe7973b768621f1e2595a566af7f1b0/expr.ipynb\"><img src=\"../../../../ordering/__pv_it/theorems/bee9e297dbbe7973b768621f1e2595a566af7f1b0/expr.png\" style=\"display:inline;vertical-align:middle;\" /></a></td></tr>\n",
       "<tr><td>32</td><td>Literal</td><td></td><td><a class=\"ProveItLink\" href=\"../../../../../logic/sets/membership/__pv_it/common/477487d8796864d23d5810f83761435f25167f690/expr.ipynb\"><img src=\"../../../../../logic/sets/membership/__pv_it/common/477487d8796864d23d5810f83761435f25167f690/expr.png\" style=\"display:inline;vertical-align:middle;\" /></a></td></tr>\n",
       "<tr><td>33</td><td>ExprTuple</td><td>48, 46</td><td><a class=\"ProveItLink\" href=\"../70c3066c311248dcb15356e938b2e2f281d2ca220/expr.ipynb\"><img src=\"../70c3066c311248dcb15356e938b2e2f281d2ca220/expr.png\" style=\"display:inline;vertical-align:middle;\" /></a></td></tr>\n",
       "<tr><td>34</td><td>ExprTuple</td><td>51, 47</td><td><a class=\"ProveItLink\" href=\"../../../../ordering/__pv_it/theorems/bbaa48af4605eceb7fbc4af345a1eb6de480e1c50/expr.ipynb\"><img src=\"../../../../ordering/__pv_it/theorems/bbaa48af4605eceb7fbc4af345a1eb6de480e1c50/expr.png\" style=\"display:inline;vertical-align:middle;\" /></a></td></tr>\n",
       "<tr><td>35</td><td>ExprTuple</td><td>51, 48</td><td><a class=\"ProveItLink\" href=\"../../../../../logic/equality/__pv_it/axioms/89a913c4fcce790c0c99d28a431789287fb525c60/expr.ipynb\"><img src=\"../../../../../logic/equality/__pv_it/axioms/89a913c4fcce790c0c99d28a431789287fb525c60/expr.png\" style=\"display:inline;vertical-align:middle;\" /></a></td></tr>\n",
       "<tr><td>36</td><td>Literal</td><td></td><td><a class=\"ProveItLink\" href=\"../../../../ordering/__pv_it/common/fa503ed52033522c609eef1cf3e1b45796489da50/expr.ipynb\"><img src=\"../../../../ordering/__pv_it/common/fa503ed52033522c609eef1cf3e1b45796489da50/expr.png\" style=\"display:inline;vertical-align:middle;\" /></a></td></tr>\n",
       "<tr><td>37</td><td>ExprTuple</td><td>49, 51</td><td><a class=\"ProveItLink\" href=\"../5624d34fe1081d783aa67db8eea55e33cad2b0130/expr.ipynb\"><img src=\"../5624d34fe1081d783aa67db8eea55e33cad2b0130/expr.png\" style=\"display:inline;vertical-align:middle;\" /></a></td></tr>\n",
       "<tr><td>38</td><td>Literal</td><td></td><td><a class=\"ProveItLink\" href=\"../../../../ordering/__pv_it/common/68379698d72b4689bbda4b5c5cca29ee599d70280/expr.ipynb\"><img src=\"../../../../ordering/__pv_it/common/68379698d72b4689bbda4b5c5cca29ee599d70280/expr.png\" style=\"display:inline;vertical-align:middle;\" /></a></td></tr>\n",
       "<tr><td>39</td><td>ExprTuple</td><td>50, 51</td><td><a class=\"ProveItLink\" href=\"../33895ad9474b3d32392990d98446284a10763b300/expr.ipynb\"><img src=\"../33895ad9474b3d32392990d98446284a10763b300/expr.png\" style=\"display:inline;vertical-align:middle;\" /></a></td></tr>\n",
       "<tr><td>40</td><td>Literal</td><td></td><td><a class=\"ProveItLink\" href=\"../../../../numerals/__pv_it/common/682157d4892d216d9e5626ed533aff9b56b9506e0/expr.ipynb\"><img src=\"../../../../numerals/__pv_it/common/682157d4892d216d9e5626ed533aff9b56b9506e0/expr.png\" style=\"display:inline;vertical-align:middle;\" /></a></td></tr>\n",
       "<tr><td>41</td><td>Variable</td><td></td><td><a class=\"ProveItLink\" href=\"../../../../../__pv_it/common/c06c606ec12678c58933ac85412ecadc2ae28be60/expr.ipynb\"><img src=\"../../../../../__pv_it/common/c06c606ec12678c58933ac85412ecadc2ae28be60/expr.png\" style=\"display:inline;vertical-align:middle;\" /></a></td></tr>\n",
       "<tr><td>42</td><td>Variable</td><td></td><td><a class=\"ProveItLink\" href=\"../../../../../__pv_it/common/195236b98c6c564a75b5dbada74b173bc52d5c3e0/expr.ipynb\"><img src=\"../../../../../__pv_it/common/195236b98c6c564a75b5dbada74b173bc52d5c3e0/expr.png\" style=\"display:inline;vertical-align:middle;\" /></a></td></tr>\n",
       "<tr><td>43</td><td>Variable</td><td></td><td><a class=\"ProveItLink\" href=\"../../../../../__pv_it/common/ceef4280a2f1cc604b455b54e735507244cc62cd0/expr.ipynb\"><img src=\"../../../../../__pv_it/common/ceef4280a2f1cc604b455b54e735507244cc62cd0/expr.png\" style=\"display:inline;vertical-align:middle;\" /></a></td></tr>\n",
       "<tr><td>44</td><td>Variable</td><td></td><td><a class=\"ProveItLink\" href=\"../../../../../__pv_it/common/4f5c524ffda87296de1c79b96880123fe2efedd50/expr.ipynb\"><img src=\"../../../../../__pv_it/common/4f5c524ffda87296de1c79b96880123fe2efedd50/expr.png\" style=\"display:inline;vertical-align:middle;\" /></a></td></tr>\n",
       "<tr><td>45</td><td>Variable</td><td></td><td><a class=\"ProveItLink\" href=\"../../../../../__pv_it/common/0d656bb6691dcf7801631ede213504e1b012f3d50/expr.ipynb\"><img src=\"../../../../../__pv_it/common/0d656bb6691dcf7801631ede213504e1b012f3d50/expr.png\" style=\"display:inline;vertical-align:middle;\" /></a></td></tr>\n",
       "<tr><td>46</td><td>Literal</td><td></td><td><a class=\"ProveItLink\" href=\"../../../../number_sets/real_numbers/__pv_it/common/93cac87a1a47e613f7a83b23ef7891599a1a4cca0/expr.ipynb\"><img src=\"../../../../number_sets/real_numbers/__pv_it/common/93cac87a1a47e613f7a83b23ef7891599a1a4cca0/expr.png\" style=\"display:inline;vertical-align:middle;\" /></a></td></tr>\n",
       "<tr><td>47</td><td>Variable</td><td></td><td><a class=\"ProveItLink\" href=\"../../../../../__pv_it/common/ff7dba4ef0bbe791ab573bf2d9c220a304399ac80/expr.ipynb\"><img src=\"../../../../../__pv_it/common/ff7dba4ef0bbe791ab573bf2d9c220a304399ac80/expr.png\" style=\"display:inline;vertical-align:middle;\" /></a></td></tr>\n",
       "<tr><td>48</td><td>Variable</td><td></td><td><a class=\"ProveItLink\" href=\"../../../../../__pv_it/common/95a8f6b9b9f29b83f192ad7fd05708d6be097a3f0/expr.ipynb\"><img src=\"../../../../../__pv_it/common/95a8f6b9b9f29b83f192ad7fd05708d6be097a3f0/expr.png\" style=\"display:inline;vertical-align:middle;\" /></a></td></tr>\n",
       "<tr><td>49</td><td>Variable</td><td></td><td><a class=\"ProveItLink\" href=\"../../../../../__pv_it/common/a4b9661da9b52dcebf59c5559fec8901f4df10750/expr.ipynb\"><img src=\"../../../../../__pv_it/common/a4b9661da9b52dcebf59c5559fec8901f4df10750/expr.png\" style=\"display:inline;vertical-align:middle;\" /></a></td></tr>\n",
       "<tr><td>50</td><td>Variable</td><td></td><td><a class=\"ProveItLink\" href=\"../../../../../__pv_it/common/d365663894822dede40e6e04c77860068334d0820/expr.ipynb\"><img src=\"../../../../../__pv_it/common/d365663894822dede40e6e04c77860068334d0820/expr.png\" style=\"display:inline;vertical-align:middle;\" /></a></td></tr>\n",
       "<tr><td>51</td><td>Variable</td><td></td><td><a class=\"ProveItLink\" href=\"../../../../../__pv_it/common/a0d9d672aa5e272d907247690c152cc2c6daafb70/expr.ipynb\"><img src=\"../../../../../__pv_it/common/a0d9d672aa5e272d907247690c152cc2c6daafb70/expr.png\" style=\"display:inline;vertical-align:middle;\" /></a></td></tr>\n",
       "</table>\n"
      ],
      "text/plain": [
       "0. (a > 1, b > 1, c > 1, d > 1, a in Real, b in Real, c in Real, d in Real, u in Real, v in Real, w in Real, x in Real, y in Real, z in Real, x < y, x <= z, x > v, x >= w)\n",
       "   core type: ExprTuple\n",
       "   sub-expressions: 1, 2, 3, 4, 5, 6, 7, 8, 9, 10, 11, 12, 13, 14, 15, 16, 17, 18\n",
       "1. a > 1\n",
       "   core type: Operation\n",
       "   operator: 36\n",
       "   operands: 19\n",
       "2. b > 1\n",
       "   core type: Operation\n",
       "   operator: 36\n",
       "   operands: 20\n",
       "3. c > 1\n",
       "   core type: Operation\n",
       "   operator: 36\n",
       "   operands: 21\n",
       "4. d > 1\n",
       "   core type: Operation\n",
       "   operator: 36\n",
       "   operands: 22\n",
       "5. a in Real\n",
       "   core type: Operation\n",
       "   operator: 32\n",
       "   operands: 23\n",
       "6. b in Real\n",
       "   core type: Operation\n",
       "   operator: 32\n",
       "   operands: 24\n",
       "7. c in Real\n",
       "   core type: Operation\n",
       "   operator: 32\n",
       "   operands: 25\n",
       "8. d in Real\n",
       "   core type: Operation\n",
       "   operator: 32\n",
       "   operands: 26\n",
       "9. u in Real\n",
       "   core type: Operation\n",
       "   operator: 32\n",
       "   operands: 27\n",
       "10. v in Real\n",
       "    core type: Operation\n",
       "    operator: 32\n",
       "    operands: 28\n",
       "11. w in Real\n",
       "    core type: Operation\n",
       "    operator: 32\n",
       "    operands: 29\n",
       "12. x in Real\n",
       "    core type: Operation\n",
       "    operator: 32\n",
       "    operands: 30\n",
       "13. y in Real\n",
       "    core type: Operation\n",
       "    operator: 32\n",
       "    operands: 31\n",
       "14. z in Real\n",
       "    core type: Operation\n",
       "    operator: 32\n",
       "    operands: 33\n",
       "15. x < y\n",
       "    core type: Operation\n",
       "    operator: 36\n",
       "    operands: 34\n",
       "16. x <= z\n",
       "    core type: Operation\n",
       "    operator: 38\n",
       "    operands: 35\n",
       "17. x > v\n",
       "    core type: Operation\n",
       "    operator: 36\n",
       "    operands: 37\n",
       "18. x >= w\n",
       "    core type: Operation\n",
       "    operator: 38\n",
       "    operands: 39\n",
       "19. (1, a)\n",
       "    core type: ExprTuple\n",
       "    sub-expressions: 40, 41\n",
       "20. (1, b)\n",
       "    core type: ExprTuple\n",
       "    sub-expressions: 40, 42\n",
       "21. (1, c)\n",
       "    core type: ExprTuple\n",
       "    sub-expressions: 40, 43\n",
       "22. (1, d)\n",
       "    core type: ExprTuple\n",
       "    sub-expressions: 40, 44\n",
       "23. (a, Real)\n",
       "    core type: ExprTuple\n",
       "    sub-expressions: 41, 46\n",
       "24. (b, Real)\n",
       "    core type: ExprTuple\n",
       "    sub-expressions: 42, 46\n",
       "25. (c, Real)\n",
       "    core type: ExprTuple\n",
       "    sub-expressions: 43, 46\n",
       "26. (d, Real)\n",
       "    core type: ExprTuple\n",
       "    sub-expressions: 44, 46\n",
       "27. (u, Real)\n",
       "    core type: ExprTuple\n",
       "    sub-expressions: 45, 46\n",
       "28. (v, Real)\n",
       "    core type: ExprTuple\n",
       "    sub-expressions: 49, 46\n",
       "29. (w, Real)\n",
       "    core type: ExprTuple\n",
       "    sub-expressions: 50, 46\n",
       "30. (x, Real)\n",
       "    core type: ExprTuple\n",
       "    sub-expressions: 51, 46\n",
       "31. (y, Real)\n",
       "    core type: ExprTuple\n",
       "    sub-expressions: 47, 46\n",
       "32. in\n",
       "    core type: Literal\n",
       "    sub-expressions: \n",
       "33. (z, Real)\n",
       "    core type: ExprTuple\n",
       "    sub-expressions: 48, 46\n",
       "34. (x, y)\n",
       "    core type: ExprTuple\n",
       "    sub-expressions: 51, 47\n",
       "35. (x, z)\n",
       "    core type: ExprTuple\n",
       "    sub-expressions: 51, 48\n",
       "36. <\n",
       "    core type: Literal\n",
       "    sub-expressions: \n",
       "37. (v, x)\n",
       "    core type: ExprTuple\n",
       "    sub-expressions: 49, 51\n",
       "38. <=\n",
       "    core type: Literal\n",
       "    sub-expressions: \n",
       "39. (w, x)\n",
       "    core type: ExprTuple\n",
       "    sub-expressions: 50, 51\n",
       "40. 1\n",
       "    core type: Literal\n",
       "    sub-expressions: \n",
       "41. a\n",
       "    core type: Variable\n",
       "    sub-expressions: \n",
       "42. b\n",
       "    core type: Variable\n",
       "    sub-expressions: \n",
       "43. c\n",
       "    core type: Variable\n",
       "    sub-expressions: \n",
       "44. d\n",
       "    core type: Variable\n",
       "    sub-expressions: \n",
       "45. u\n",
       "    core type: Variable\n",
       "    sub-expressions: \n",
       "46. Real\n",
       "    core type: Literal\n",
       "    sub-expressions: \n",
       "47. y\n",
       "    core type: Variable\n",
       "    sub-expressions: \n",
       "48. z\n",
       "    core type: Variable\n",
       "    sub-expressions: \n",
       "49. v\n",
       "    core type: Variable\n",
       "    sub-expressions: \n",
       "50. w\n",
       "    core type: Variable\n",
       "    sub-expressions: \n",
       "51. x\n",
       "    core type: Variable\n",
       "    sub-expressions: "
      ]
     },
     "metadata": {},
     "output_type": "display_data"
    }
   ],
   "source": [
    "# display the expression information\n",
    "stored_expr.expr_info()"
   ]
  },
  {
   "cell_type": "code",
   "execution_count": null,
   "metadata": {},
   "outputs": [],
   "source": []
  }
 ],
 "metadata": {
  "kernelspec": {
   "display_name": "Python 3",
   "language": "python",
   "name": "python3"
  }
 },
 "nbformat": 4,
 "nbformat_minor": 0
}