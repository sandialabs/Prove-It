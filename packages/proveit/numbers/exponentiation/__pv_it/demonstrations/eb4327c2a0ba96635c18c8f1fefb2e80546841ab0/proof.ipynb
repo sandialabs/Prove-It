{
 "cells": [
  {
   "cell_type": "markdown",
   "metadata": {},
   "source": [
    "Show the Proof\n",
    "========"
   ]
  },
  {
   "cell_type": "code",
   "execution_count": 1,
   "metadata": {},
   "outputs": [
    {
     "data": {
      "text/html": [
       "<table><tr><th>&nbsp;</th><th>step type</th><th>requirements</th><th>statement</th></tr>\n",
       "<tr><td><a name=\"proveit.numbers.exponentiation.demonstrations.eb4327c2a0ba96635c18c8f1fefb2e80546841ab0_step0\">0</a></td><td>instantiation</td><td><a href=\"#proveit.numbers.exponentiation.demonstrations.eb4327c2a0ba96635c18c8f1fefb2e80546841ab0_step1\">1</a>, <a href=\"#proveit.numbers.exponentiation.demonstrations.eb4327c2a0ba96635c18c8f1fefb2e80546841ab0_step2\">2</a></td><td><span style=\"font-size:20px;\"><a class=\"ProveItLink\" href=\"../ce2475b1f782f81129a4767b565e241c04ec25260/expr.ipynb\"><img src=\"../ce2475b1f782f81129a4767b565e241c04ec25260/expr.png\" style=\"display:inline;vertical-align:middle;\" /></a> <a class=\"ProveItLink\" href=\"proof.ipynb\" style=\"text-decoration: none\">&nbsp;&#x22A2;&nbsp;&nbsp;</a><a class=\"ProveItLink\" href=\"../dddcfd9b5bf852b5a0ba3014e2a4fdc8146e628e0/expr.ipynb\"><img src=\"../dddcfd9b5bf852b5a0ba3014e2a4fdc8146e628e0/expr.png\" style=\"display:inline;vertical-align:middle;\" /></a></span></td></tr>\n",
       "<tr><td>&nbsp;</td><td colspan=4 style=\"text-align:left\"><span style=\"font-size:20px;\"><a class=\"ProveItLink\" href=\"../../../../../__pv_it/common/a0d9d672aa5e272d907247690c152cc2c6daafb70/expr.ipynb\"><img src=\"../../../../../__pv_it/common/a0d9d672aa5e272d907247690c152cc2c6daafb70/expr.png\" style=\"display:inline;vertical-align:middle;\" /></a> : <a class=\"ProveItLink\" href=\"../../../../../__pv_it/common/d365663894822dede40e6e04c77860068334d0820/expr.ipynb\"><img src=\"../../../../../__pv_it/common/d365663894822dede40e6e04c77860068334d0820/expr.png\" style=\"display:inline;vertical-align:middle;\" /></a></span></td></tr><tr><td><a name=\"proveit.numbers.exponentiation.demonstrations.eb4327c2a0ba96635c18c8f1fefb2e80546841ab0_step1\">1</a></td><td>theorem</td><td></td><td><span style=\"font-size:20px;\"> <a class=\"ProveItLink\" href=\"../../../../number_sets/real_numbers/_theory_nbs_/proofs/positive_if_in_real_pos/thm_proof.ipynb\" style=\"text-decoration: none\">&nbsp;&#x22A2;&nbsp;&nbsp;</a><a class=\"ProveItLink\" href=\"../../../../number_sets/real_numbers/__pv_it/theorems/fa0861a4dbbaf1c4d7fc59487e892e46cb79ff190/expr.ipynb\"><img src=\"../../../../number_sets/real_numbers/__pv_it/theorems/fa0861a4dbbaf1c4d7fc59487e892e46cb79ff190/expr.png\" style=\"display:inline;vertical-align:middle;\" /></a></span></td></tr>\n",
       "<tr><td>&nbsp;</td><td colspan=4 style-\"text-align:left\"><a class=\"ProveItLink\" href=\"../../../../number_sets/real_numbers/_theory_nbs_/proofs/positive_if_in_real_pos/thm_proof.ipynb\">proveit.numbers.number_sets.real_numbers.positive_if_in_real_pos</a></td></tr><tr><td><a name=\"proveit.numbers.exponentiation.demonstrations.eb4327c2a0ba96635c18c8f1fefb2e80546841ab0_step2\">2</a></td><td>assumption</td><td></td><td><span style=\"font-size:20px;\"><a class=\"ProveItLink\" href=\"../ce2475b1f782f81129a4767b565e241c04ec25260/expr.ipynb\"><img src=\"../ce2475b1f782f81129a4767b565e241c04ec25260/expr.png\" style=\"display:inline;vertical-align:middle;\" /></a> <a class=\"ProveItLink\" href=\"../623a502744d027cd8641d6b907928659237b5e460/proof.ipynb\" style=\"text-decoration: none\">&nbsp;&#x22A2;&nbsp;&nbsp;</a><a class=\"ProveItLink\" href=\"../ce2475b1f782f81129a4767b565e241c04ec25260/expr.ipynb\"><img src=\"../ce2475b1f782f81129a4767b565e241c04ec25260/expr.png\" style=\"display:inline;vertical-align:middle;\" /></a></span></td></tr>\n",
       "</table>"
      ],
      "text/plain": [
       "<proveit._core_.proof._ShowProof at 0x7f3e46bfe9b0>"
      ]
     },
     "execution_count": 1,
     "metadata": {},
     "output_type": "execute_result"
    }
   ],
   "source": [
    "import proveit\n",
    "# Automation is not needed when only showing a stored proof:\n",
    "proveit.defaults.automation = False # This will speed things up.\n",
    "proveit.defaults.inline_pngs = False # Makes files smaller.\n",
    "%show_proof"
   ]
  },
  {
   "cell_type": "code",
   "execution_count": null,
   "metadata": {},
   "outputs": [],
   "source": []
  }
 ],
 "metadata": {
  "kernelspec": {
   "display_name": "Python 3",
   "language": "python",
   "name": "python3"
  }
 },
 "nbformat": 4,
 "nbformat_minor": 0
}