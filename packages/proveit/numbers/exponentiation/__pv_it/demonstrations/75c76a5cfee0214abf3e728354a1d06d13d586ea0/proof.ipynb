{
 "cells": [
  {
   "cell_type": "markdown",
   "metadata": {},
   "source": [
    "Show the Proof\n",
    "========"
   ]
  },
  {
   "cell_type": "code",
   "execution_count": 1,
   "metadata": {},
   "outputs": [
    {
     "data": {
      "text/html": [
       "<table><tr><th>&nbsp;</th><th>step type</th><th>requirements</th><th>statement</th></tr>\n",
       "<tr><td><a name=\"proveit.numbers.exponentiation.demonstrations.75c76a5cfee0214abf3e728354a1d06d13d586ea0_step0\">0</a></td><td>instantiation</td><td><a href=\"#proveit.numbers.exponentiation.demonstrations.75c76a5cfee0214abf3e728354a1d06d13d586ea0_step1\">1</a>, <a href=\"#proveit.numbers.exponentiation.demonstrations.75c76a5cfee0214abf3e728354a1d06d13d586ea0_step2\">2</a>, <a href=\"#proveit.numbers.exponentiation.demonstrations.75c76a5cfee0214abf3e728354a1d06d13d586ea0_step3\">3</a></td><td><span style=\"font-size:20px;\"><a class=\"ProveItLink\" href=\"../0c63194c87f26ca64603ef5a984a91e27b902bef0/expr.ipynb\"><img src=\"../0c63194c87f26ca64603ef5a984a91e27b902bef0/expr.png\" style=\"display:inline;vertical-align:middle;\" /></a>, <a class=\"ProveItLink\" href=\"../6047dafbc38478dd08f74d0ff64bf4cd5e49db030/expr.ipynb\"><img src=\"../6047dafbc38478dd08f74d0ff64bf4cd5e49db030/expr.png\" style=\"display:inline;vertical-align:middle;\" /></a> <a class=\"ProveItLink\" href=\"proof.ipynb\" style=\"text-decoration: none\">&nbsp;&#x22A2;&nbsp;&nbsp;</a><a class=\"ProveItLink\" href=\"../a986eb95f8cbc898ccf860f054a0ef7ded8872180/expr.ipynb\"><img src=\"../a986eb95f8cbc898ccf860f054a0ef7ded8872180/expr.png\" style=\"display:inline;vertical-align:middle;\" /></a></span></td></tr>\n",
       "<tr><td>&nbsp;</td><td colspan=4 style=\"text-align:left\"><span style=\"font-size:20px;\"><a class=\"ProveItLink\" href=\"../../../../../__pv_it/common/09585084922504426caf1db2ff588a23a0932a960/expr.ipynb\"><img src=\"../../../../../__pv_it/common/09585084922504426caf1db2ff588a23a0932a960/expr.png\" style=\"display:inline;vertical-align:middle;\" /></a> : <a class=\"ProveItLink\" href=\"../0c63194c87f26ca64603ef5a984a91e27b902bef0/expr.ipynb\"><img src=\"../0c63194c87f26ca64603ef5a984a91e27b902bef0/expr.png\" style=\"display:inline;vertical-align:middle;\" /></a>, <a class=\"ProveItLink\" href=\"../../../../../__pv_it/common/a9162d1c3cc0470c02e5daf414500903a7a419230/expr.ipynb\"><img src=\"../../../../../__pv_it/common/a9162d1c3cc0470c02e5daf414500903a7a419230/expr.png\" style=\"display:inline;vertical-align:middle;\" /></a> : <a class=\"ProveItLink\" href=\"../ceab736c96b7de4b3ae35d2c67aa9e259de082510/expr.ipynb\"><img src=\"../ceab736c96b7de4b3ae35d2c67aa9e259de082510/expr.png\" style=\"display:inline;vertical-align:middle;\" /></a></span></td></tr><tr><td><a name=\"proveit.numbers.exponentiation.demonstrations.75c76a5cfee0214abf3e728354a1d06d13d586ea0_step1\">1</a></td><td>theorem</td><td></td><td><span style=\"font-size:20px;\"> <a class=\"ProveItLink\" href=\"../../../../../logic/booleans/conjunction/_theory_nbs_/proofs/and_if_both/thm_proof.ipynb\" style=\"text-decoration: none\">&nbsp;&#x22A2;&nbsp;&nbsp;</a><a class=\"ProveItLink\" href=\"../../../../../logic/booleans/conjunction/__pv_it/theorems/014a7d12c0ce73da40017125d0ac8b3d52f7b2000/expr.ipynb\"><img src=\"../../../../../logic/booleans/conjunction/__pv_it/theorems/014a7d12c0ce73da40017125d0ac8b3d52f7b2000/expr.png\" style=\"display:inline;vertical-align:middle;\" /></a></span></td></tr>\n",
       "<tr><td>&nbsp;</td><td colspan=4 style-\"text-align:left\"><a class=\"ProveItLink\" href=\"../../../../../logic/booleans/conjunction/_theory_nbs_/proofs/and_if_both/thm_proof.ipynb\">proveit.logic.booleans.conjunction.and_if_both</a></td></tr><tr><td><a name=\"proveit.numbers.exponentiation.demonstrations.75c76a5cfee0214abf3e728354a1d06d13d586ea0_step2\">2</a></td><td>assumption</td><td></td><td><span style=\"font-size:20px;\"><a class=\"ProveItLink\" href=\"../0c63194c87f26ca64603ef5a984a91e27b902bef0/expr.ipynb\"><img src=\"../0c63194c87f26ca64603ef5a984a91e27b902bef0/expr.png\" style=\"display:inline;vertical-align:middle;\" /></a> <a class=\"ProveItLink\" href=\"../5bc9a1ea6588438c1fc1b9ad950bf0ade37c90770/proof.ipynb\" style=\"text-decoration: none\">&nbsp;&#x22A2;&nbsp;&nbsp;</a><a class=\"ProveItLink\" href=\"../0c63194c87f26ca64603ef5a984a91e27b902bef0/expr.ipynb\"><img src=\"../0c63194c87f26ca64603ef5a984a91e27b902bef0/expr.png\" style=\"display:inline;vertical-align:middle;\" /></a></span></td></tr>\n",
       "<tr><td><a name=\"proveit.numbers.exponentiation.demonstrations.75c76a5cfee0214abf3e728354a1d06d13d586ea0_step3\">3</a></td><td>instantiation</td><td><a href=\"#proveit.numbers.exponentiation.demonstrations.75c76a5cfee0214abf3e728354a1d06d13d586ea0_step4\">4</a>, <a href=\"#proveit.numbers.exponentiation.demonstrations.75c76a5cfee0214abf3e728354a1d06d13d586ea0_step5\">5</a></td><td><span style=\"font-size:20px;\"><a class=\"ProveItLink\" href=\"../6047dafbc38478dd08f74d0ff64bf4cd5e49db030/expr.ipynb\"><img src=\"../6047dafbc38478dd08f74d0ff64bf4cd5e49db030/expr.png\" style=\"display:inline;vertical-align:middle;\" /></a> <a class=\"ProveItLink\" href=\"../de473514c4bed304c2d2a62331d2f368a87b2de00/proof.ipynb\" style=\"text-decoration: none\">&nbsp;&#x22A2;&nbsp;&nbsp;</a><a class=\"ProveItLink\" href=\"../ceab736c96b7de4b3ae35d2c67aa9e259de082510/expr.ipynb\"><img src=\"../ceab736c96b7de4b3ae35d2c67aa9e259de082510/expr.png\" style=\"display:inline;vertical-align:middle;\" /></a></span></td></tr>\n",
       "<tr><td>&nbsp;</td><td colspan=4 style=\"text-align:left\"><span style=\"font-size:20px;\"><a class=\"ProveItLink\" href=\"../../../../../__pv_it/common/a0d9d672aa5e272d907247690c152cc2c6daafb70/expr.ipynb\"><img src=\"../../../../../__pv_it/common/a0d9d672aa5e272d907247690c152cc2c6daafb70/expr.png\" style=\"display:inline;vertical-align:middle;\" /></a> : <a class=\"ProveItLink\" href=\"../../../../../__pv_it/common/a4b9661da9b52dcebf59c5559fec8901f4df10750/expr.ipynb\"><img src=\"../../../../../__pv_it/common/a4b9661da9b52dcebf59c5559fec8901f4df10750/expr.png\" style=\"display:inline;vertical-align:middle;\" /></a></span></td></tr><tr><td><a name=\"proveit.numbers.exponentiation.demonstrations.75c76a5cfee0214abf3e728354a1d06d13d586ea0_step4\">4</a></td><td>theorem</td><td></td><td><span style=\"font-size:20px;\"> <a class=\"ProveItLink\" href=\"../../../../number_sets/real_numbers/_theory_nbs_/proofs/negative_if_in_real_neg/thm_proof.ipynb\" style=\"text-decoration: none\">&nbsp;&#x22A2;&nbsp;&nbsp;</a><a class=\"ProveItLink\" href=\"../../../../number_sets/real_numbers/__pv_it/theorems/4b2b972cb5c66ca401c95682a8539936cf7aa1470/expr.ipynb\"><img src=\"../../../../number_sets/real_numbers/__pv_it/theorems/4b2b972cb5c66ca401c95682a8539936cf7aa1470/expr.png\" style=\"display:inline;vertical-align:middle;\" /></a></span></td></tr>\n",
       "<tr><td>&nbsp;</td><td colspan=4 style-\"text-align:left\"><a class=\"ProveItLink\" href=\"../../../../number_sets/real_numbers/_theory_nbs_/proofs/negative_if_in_real_neg/thm_proof.ipynb\">proveit.numbers.number_sets.real_numbers.negative_if_in_real_neg</a></td></tr><tr><td><a name=\"proveit.numbers.exponentiation.demonstrations.75c76a5cfee0214abf3e728354a1d06d13d586ea0_step5\">5</a></td><td>assumption</td><td></td><td><span style=\"font-size:20px;\"><a class=\"ProveItLink\" href=\"../6047dafbc38478dd08f74d0ff64bf4cd5e49db030/expr.ipynb\"><img src=\"../6047dafbc38478dd08f74d0ff64bf4cd5e49db030/expr.png\" style=\"display:inline;vertical-align:middle;\" /></a> <a class=\"ProveItLink\" href=\"../81f2c6bd1cc3793d3622039d49f541db8ff4d7300/proof.ipynb\" style=\"text-decoration: none\">&nbsp;&#x22A2;&nbsp;&nbsp;</a><a class=\"ProveItLink\" href=\"../6047dafbc38478dd08f74d0ff64bf4cd5e49db030/expr.ipynb\"><img src=\"../6047dafbc38478dd08f74d0ff64bf4cd5e49db030/expr.png\" style=\"display:inline;vertical-align:middle;\" /></a></span></td></tr>\n",
       "</table>"
      ],
      "text/plain": [
       "<proveit._core_.proof._ShowProof at 0x7ff9c220f128>"
      ]
     },
     "execution_count": 1,
     "metadata": {},
     "output_type": "execute_result"
    }
   ],
   "source": [
    "import proveit\n",
    "# Automation is not needed when only showing a stored proof:\n",
    "proveit.defaults.automation = False # This will speed things up.\n",
    "proveit.defaults.inline_pngs = False # Makes files smaller.\n",
    "%show_proof"
   ]
  },
  {
   "cell_type": "code",
   "execution_count": null,
   "metadata": {},
   "outputs": [],
   "source": []
  }
 ],
 "metadata": {
  "kernelspec": {
   "display_name": "Python 3",
   "language": "python",
   "name": "python3"
  }
 },
 "nbformat": 4,
 "nbformat_minor": 0
}