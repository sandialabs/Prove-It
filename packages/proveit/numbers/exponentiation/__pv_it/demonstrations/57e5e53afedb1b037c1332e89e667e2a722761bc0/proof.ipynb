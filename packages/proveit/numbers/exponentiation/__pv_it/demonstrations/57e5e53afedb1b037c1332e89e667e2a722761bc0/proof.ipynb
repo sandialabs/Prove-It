{
 "cells": [
  {
   "cell_type": "markdown",
   "metadata": {},
   "source": [
    "Show the Proof\n",
    "========"
   ]
  },
  {
   "cell_type": "code",
   "execution_count": 1,
   "metadata": {},
   "outputs": [
    {
     "data": {
      "text/html": [
       "<table><tr><th>&nbsp;</th><th>step type</th><th>requirements</th><th>statement</th></tr>\n",
       "<tr><td><a name=\"proveit.numbers.exponentiation.demonstrations.57e5e53afedb1b037c1332e89e667e2a722761bc0_step0\">0</a></td><td>instantiation</td><td><a href=\"#proveit.numbers.exponentiation.demonstrations.57e5e53afedb1b037c1332e89e667e2a722761bc0_step1\">1</a>, <a href=\"#proveit.numbers.exponentiation.demonstrations.57e5e53afedb1b037c1332e89e667e2a722761bc0_step2\">2</a>, <a href=\"#proveit.numbers.exponentiation.demonstrations.57e5e53afedb1b037c1332e89e667e2a722761bc0_step3\">3</a></td><td><span style=\"font-size:20px;\"><a class=\"ProveItLink\" href=\"../84c2e366269d6004a225d36e609b4ffa702d4c5f0/expr.ipynb\"><img src=\"../84c2e366269d6004a225d36e609b4ffa702d4c5f0/expr.png\" style=\"display:inline;vertical-align:middle;\" /></a>, <a class=\"ProveItLink\" href=\"../1a5270d7d3401e3ec902ebbf86bec5c78898bba20/expr.ipynb\"><img src=\"../1a5270d7d3401e3ec902ebbf86bec5c78898bba20/expr.png\" style=\"display:inline;vertical-align:middle;\" /></a> <a class=\"ProveItLink\" href=\"proof.ipynb\" style=\"text-decoration: none\">&nbsp;&#x22A2;&nbsp;&nbsp;</a><a class=\"ProveItLink\" href=\"../9b1d52cd17b51ee1d7ac334a7bacff52b9163c040/expr.ipynb\"><img src=\"../9b1d52cd17b51ee1d7ac334a7bacff52b9163c040/expr.png\" style=\"display:inline;vertical-align:middle;\" /></a></span></td></tr>\n",
       "<tr><td>&nbsp;</td><td colspan=4 style=\"text-align:left\"><span style=\"font-size:20px;\"><a class=\"ProveItLink\" href=\"../../../../../__pv_it/common/09585084922504426caf1db2ff588a23a0932a960/expr.ipynb\"><img src=\"../../../../../__pv_it/common/09585084922504426caf1db2ff588a23a0932a960/expr.png\" style=\"display:inline;vertical-align:middle;\" /></a> : <a class=\"ProveItLink\" href=\"../../../../number_sets/rational_numbers/__pv_it/common/5962282950539bc60e4868a04e943096e908eacc0/expr.ipynb\"><img src=\"../../../../number_sets/rational_numbers/__pv_it/common/5962282950539bc60e4868a04e943096e908eacc0/expr.png\" style=\"display:inline;vertical-align:middle;\" /></a>, <a class=\"ProveItLink\" href=\"../../../../../__pv_it/common/a9162d1c3cc0470c02e5daf414500903a7a419230/expr.ipynb\"><img src=\"../../../../../__pv_it/common/a9162d1c3cc0470c02e5daf414500903a7a419230/expr.png\" style=\"display:inline;vertical-align:middle;\" /></a> : <a class=\"ProveItLink\" href=\"../../../../number_sets/rational_numbers/__pv_it/common/3de3e316334b6ece430a3f1aee01ae68b192ecb30/expr.ipynb\"><img src=\"../../../../number_sets/rational_numbers/__pv_it/common/3de3e316334b6ece430a3f1aee01ae68b192ecb30/expr.png\" style=\"display:inline;vertical-align:middle;\" /></a>, <a class=\"ProveItLink\" href=\"../../../../../__pv_it/common/a0d9d672aa5e272d907247690c152cc2c6daafb70/expr.ipynb\"><img src=\"../../../../../__pv_it/common/a0d9d672aa5e272d907247690c152cc2c6daafb70/expr.png\" style=\"display:inline;vertical-align:middle;\" /></a> : <a class=\"ProveItLink\" href=\"../b5e08413b9b59527a933ba3c0d66b0a3bb6965700/expr.ipynb\"><img src=\"../b5e08413b9b59527a933ba3c0d66b0a3bb6965700/expr.png\" style=\"display:inline;vertical-align:middle;\" /></a></span></td></tr><tr><td><a name=\"proveit.numbers.exponentiation.demonstrations.57e5e53afedb1b037c1332e89e667e2a722761bc0_step1\">1</a></td><td>theorem</td><td></td><td><span style=\"font-size:20px;\"> <a class=\"ProveItLink\" href=\"../../../../../logic/sets/inclusion/_theory_nbs_/proofs/superset_membership_from_proper_subset/thm_proof.ipynb\" style=\"text-decoration: none\">&nbsp;&#x22A2;&nbsp;&nbsp;</a><a class=\"ProveItLink\" href=\"../../../../../logic/sets/inclusion/__pv_it/theorems/8c2c4c3c91efdbf0b7e86e4a2d99545aea54db000/expr.ipynb\"><img src=\"../../../../../logic/sets/inclusion/__pv_it/theorems/8c2c4c3c91efdbf0b7e86e4a2d99545aea54db000/expr.png\" style=\"display:inline;vertical-align:middle;\" /></a></span></td></tr>\n",
       "<tr><td>&nbsp;</td><td colspan=4 style-\"text-align:left\"><a class=\"ProveItLink\" href=\"../../../../../logic/sets/inclusion/_theory_nbs_/proofs/superset_membership_from_proper_subset/thm_proof.ipynb\">proveit.logic.sets.inclusion.superset_membership_from_proper_subset</a></td></tr><tr><td><a name=\"proveit.numbers.exponentiation.demonstrations.57e5e53afedb1b037c1332e89e667e2a722761bc0_step2\">2</a></td><td>theorem</td><td></td><td><span style=\"font-size:20px;\"> <a class=\"ProveItLink\" href=\"../../../../number_sets/rational_numbers/_theory_nbs_/proofs/rational_nonzero_within_rational/thm_proof.ipynb\" style=\"text-decoration: none\">&nbsp;&#x22A2;&nbsp;&nbsp;</a><a class=\"ProveItLink\" href=\"../../../../number_sets/rational_numbers/__pv_it/theorems/67cbac24ebe231bd30cc8103aa1b7444e2bced3c0/expr.ipynb\"><img src=\"../../../../number_sets/rational_numbers/__pv_it/theorems/67cbac24ebe231bd30cc8103aa1b7444e2bced3c0/expr.png\" style=\"display:inline;vertical-align:middle;\" /></a></span></td></tr>\n",
       "<tr><td>&nbsp;</td><td colspan=4 style-\"text-align:left\"><a class=\"ProveItLink\" href=\"../../../../number_sets/rational_numbers/_theory_nbs_/proofs/rational_nonzero_within_rational/thm_proof.ipynb\">proveit.numbers.number_sets.rational_numbers.rational_nonzero_within_rational</a></td></tr><tr><td><a name=\"proveit.numbers.exponentiation.demonstrations.57e5e53afedb1b037c1332e89e667e2a722761bc0_step3\">3</a></td><td>instantiation</td><td><a href=\"#proveit.numbers.exponentiation.demonstrations.57e5e53afedb1b037c1332e89e667e2a722761bc0_step4\">4</a>, <a href=\"#proveit.numbers.exponentiation.demonstrations.57e5e53afedb1b037c1332e89e667e2a722761bc0_step5\">5</a>, <a href=\"#proveit.numbers.exponentiation.demonstrations.57e5e53afedb1b037c1332e89e667e2a722761bc0_step6\">6</a></td><td><span style=\"font-size:20px;\"><a class=\"ProveItLink\" href=\"../84c2e366269d6004a225d36e609b4ffa702d4c5f0/expr.ipynb\"><img src=\"../84c2e366269d6004a225d36e609b4ffa702d4c5f0/expr.png\" style=\"display:inline;vertical-align:middle;\" /></a>, <a class=\"ProveItLink\" href=\"../1a5270d7d3401e3ec902ebbf86bec5c78898bba20/expr.ipynb\"><img src=\"../1a5270d7d3401e3ec902ebbf86bec5c78898bba20/expr.png\" style=\"display:inline;vertical-align:middle;\" /></a> <a class=\"ProveItLink\" href=\"../708e652b613dde0866d35b413dcd921c978d88e60/proof.ipynb\" style=\"text-decoration: none\">&nbsp;&#x22A2;&nbsp;&nbsp;</a><a class=\"ProveItLink\" href=\"../681d898629f95ed3b34a66c156db26b2af0bd7530/expr.ipynb\"><img src=\"../681d898629f95ed3b34a66c156db26b2af0bd7530/expr.png\" style=\"display:inline;vertical-align:middle;\" /></a></span></td></tr>\n",
       "<tr><td>&nbsp;</td><td colspan=4 style=\"text-align:left\"><span style=\"font-size:20px;\"><a class=\"ProveItLink\" href=\"../../../../../__pv_it/common/c06c606ec12678c58933ac85412ecadc2ae28be60/expr.ipynb\"><img src=\"../../../../../__pv_it/common/c06c606ec12678c58933ac85412ecadc2ae28be60/expr.png\" style=\"display:inline;vertical-align:middle;\" /></a> : <a class=\"ProveItLink\" href=\"../../../../../__pv_it/common/a0d9d672aa5e272d907247690c152cc2c6daafb70/expr.ipynb\"><img src=\"../../../../../__pv_it/common/a0d9d672aa5e272d907247690c152cc2c6daafb70/expr.png\" style=\"display:inline;vertical-align:middle;\" /></a>, <a class=\"ProveItLink\" href=\"../../../../../__pv_it/common/195236b98c6c564a75b5dbada74b173bc52d5c3e0/expr.ipynb\"><img src=\"../../../../../__pv_it/common/195236b98c6c564a75b5dbada74b173bc52d5c3e0/expr.png\" style=\"display:inline;vertical-align:middle;\" /></a> : <a class=\"ProveItLink\" href=\"../../../../../__pv_it/common/ff7dba4ef0bbe791ab573bf2d9c220a304399ac80/expr.ipynb\"><img src=\"../../../../../__pv_it/common/ff7dba4ef0bbe791ab573bf2d9c220a304399ac80/expr.png\" style=\"display:inline;vertical-align:middle;\" /></a></span></td></tr><tr><td><a name=\"proveit.numbers.exponentiation.demonstrations.57e5e53afedb1b037c1332e89e667e2a722761bc0_step4\">4</a></td><td>theorem</td><td></td><td><span style=\"font-size:20px;\"> <a class=\"ProveItLink\" href=\"../../../_theory_nbs_/proofs/exp_rational_nonzero_closure/thm_proof.ipynb\" style=\"text-decoration: none\">&nbsp;&#x22A2;&nbsp;&nbsp;</a><a class=\"ProveItLink\" href=\"../../theorems/8d8f2adc958de03f0d5ef9813a1926b1496b14a40/expr.ipynb\"><img src=\"../../theorems/8d8f2adc958de03f0d5ef9813a1926b1496b14a40/expr.png\" style=\"display:inline;vertical-align:middle;\" /></a></span></td></tr>\n",
       "<tr><td>&nbsp;</td><td colspan=4 style-\"text-align:left\"><a class=\"ProveItLink\" href=\"../../../_theory_nbs_/proofs/exp_rational_nonzero_closure/thm_proof.ipynb\">proveit.numbers.exponentiation.exp_rational_nonzero_closure</a></td></tr><tr><td><a name=\"proveit.numbers.exponentiation.demonstrations.57e5e53afedb1b037c1332e89e667e2a722761bc0_step5\">5</a></td><td>assumption</td><td></td><td><span style=\"font-size:20px;\"><a class=\"ProveItLink\" href=\"../84c2e366269d6004a225d36e609b4ffa702d4c5f0/expr.ipynb\"><img src=\"../84c2e366269d6004a225d36e609b4ffa702d4c5f0/expr.png\" style=\"display:inline;vertical-align:middle;\" /></a> <a class=\"ProveItLink\" href=\"../4ca3e3a441e05d056a349176d6f367eae2cc7ee20/proof.ipynb\" style=\"text-decoration: none\">&nbsp;&#x22A2;&nbsp;&nbsp;</a><a class=\"ProveItLink\" href=\"../84c2e366269d6004a225d36e609b4ffa702d4c5f0/expr.ipynb\"><img src=\"../84c2e366269d6004a225d36e609b4ffa702d4c5f0/expr.png\" style=\"display:inline;vertical-align:middle;\" /></a></span></td></tr>\n",
       "<tr><td><a name=\"proveit.numbers.exponentiation.demonstrations.57e5e53afedb1b037c1332e89e667e2a722761bc0_step6\">6</a></td><td>assumption</td><td></td><td><span style=\"font-size:20px;\"><a class=\"ProveItLink\" href=\"../1a5270d7d3401e3ec902ebbf86bec5c78898bba20/expr.ipynb\"><img src=\"../1a5270d7d3401e3ec902ebbf86bec5c78898bba20/expr.png\" style=\"display:inline;vertical-align:middle;\" /></a> <a class=\"ProveItLink\" href=\"../9f9356bd0e6afe0a69f01a2c647fe8df5e0a52180/proof.ipynb\" style=\"text-decoration: none\">&nbsp;&#x22A2;&nbsp;&nbsp;</a><a class=\"ProveItLink\" href=\"../1a5270d7d3401e3ec902ebbf86bec5c78898bba20/expr.ipynb\"><img src=\"../1a5270d7d3401e3ec902ebbf86bec5c78898bba20/expr.png\" style=\"display:inline;vertical-align:middle;\" /></a></span></td></tr>\n",
       "</table>"
      ],
      "text/plain": [
       "<proveit._core_.proof._ShowProof at 0x7f3e60728438>"
      ]
     },
     "execution_count": 1,
     "metadata": {},
     "output_type": "execute_result"
    }
   ],
   "source": [
    "import proveit\n",
    "# Automation is not needed when only showing a stored proof:\n",
    "proveit.defaults.automation = False # This will speed things up.\n",
    "proveit.defaults.inline_pngs = False # Makes files smaller.\n",
    "%show_proof"
   ]
  },
  {
   "cell_type": "code",
   "execution_count": null,
   "metadata": {},
   "outputs": [],
   "source": []
  }
 ],
 "metadata": {
  "kernelspec": {
   "display_name": "Python 3",
   "language": "python",
   "name": "python3"
  }
 },
 "nbformat": 4,
 "nbformat_minor": 0
}