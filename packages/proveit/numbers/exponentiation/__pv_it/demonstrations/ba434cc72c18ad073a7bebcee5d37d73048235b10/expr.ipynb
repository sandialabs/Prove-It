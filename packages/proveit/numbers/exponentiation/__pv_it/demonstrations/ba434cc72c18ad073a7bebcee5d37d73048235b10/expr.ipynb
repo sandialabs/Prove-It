{
 "cells": [
  {
   "cell_type": "markdown",
   "metadata": {},
   "source": [
    "Expression of type <a class=\"ProveItLink\" href=\"../../../../../../../doc/html/api/proveit.ExprTuple.html\">ExprTuple</a>\n",
    "=======================\n",
    "# from the theory of <a class=\"ProveItLink\" href=\"../../../_theory_nbs_/theory.ipynb\">proveit.numbers.exponentiation</a>"
   ]
  },
  {
   "cell_type": "code",
   "execution_count": 1,
   "metadata": {},
   "outputs": [],
   "source": [
    "import proveit\n",
    "# Automation is not needed when building an expression:\n",
    "proveit.defaults.automation = False # This will speed things up.\n",
    "proveit.defaults.inline_pngs = False # Makes files smaller.\n",
    "%load_expr # Load the stored expression as 'stored_expr'\n",
    "# import Expression classes needed to build the expression\n",
    "from proveit import ExprTuple, a, b, c, d, u, v, w, x, y, z\n",
    "from proveit.logic import InSet\n",
    "from proveit.numbers import Less, LessEq, Real, RealNeg, RealNonNeg, RealNonPos, RealPos, greater, zero"
   ]
  },
  {
   "cell_type": "code",
   "execution_count": 2,
   "metadata": {},
   "outputs": [
    {
     "data": {
      "text/html": [
       "<strong id=\"expr\">expr:</strong> <a class=\"ProveItLink\" href=\"expr.ipynb\"><img src=\"expr.png\" style=\"display:inline;vertical-align:middle;\" /></a><br>"
      ],
      "text/plain": [
       "<IPython.core.display.HTML object>"
      ]
     },
     "metadata": {},
     "output_type": "display_data"
    }
   ],
   "source": [
    "# build up the expression from sub-expressions\n",
    "expr = ExprTuple(InSet(a, RealPos), InSet(b, RealNonNeg), InSet(c, RealNeg), InSet(d, RealNonPos), InSet(u, RealNeg), InSet(v, RealNeg), InSet(x, Real), InSet(y, Real), InSet(z, Real), InSet(w, RealPos), Less(u, v), LessEq(u, c), greater(x, zero), greater(y, x), LessEq(x, z))"
   ]
  },
  {
   "cell_type": "code",
   "execution_count": 3,
   "metadata": {},
   "outputs": [
    {
     "name": "stdout",
     "output_type": "stream",
     "text": [
      "Passed sanity check: expr matches stored_expr\n"
     ]
    }
   ],
   "source": [
    "# check that the built expression is the same as the stored expression\n",
    "assert expr == stored_expr\n",
    "assert expr._style_id == stored_expr._style_id\n",
    "print(\"Passed sanity check: expr matches stored_expr\")"
   ]
  },
  {
   "cell_type": "code",
   "execution_count": 4,
   "metadata": {},
   "outputs": [
    {
     "name": "stdout",
     "output_type": "stream",
     "text": [
      "\\left(a \\in \\mathbb{R}^+, b \\in \\mathbb{R}^{\\ge 0}, c \\in \\mathbb{R}^-, d \\in \\mathbb{R}^{\\le 0}, u \\in \\mathbb{R}^-, v \\in \\mathbb{R}^-, x \\in \\mathbb{R}, y \\in \\mathbb{R}, z \\in \\mathbb{R}, w \\in \\mathbb{R}^+, u < v, u \\leq c, x > 0, y > x, x \\leq z\\right)\n"
     ]
    }
   ],
   "source": [
    "# Show the LaTeX representation of the expression for convenience if you need it.\n",
    "print(stored_expr.latex())"
   ]
  },
  {
   "cell_type": "code",
   "execution_count": 5,
   "metadata": {},
   "outputs": [
    {
     "data": {
      "text/html": [
       "<table>\n",
       "<tr><th>name</th><th>description</th><th>default</th><th>current value</th><th>related methods</th></tr><tr><td>wrap_positions</td><td>position(s) at which wrapping is to occur; 'n' is after the nth comma.</td><td>()</td><td>()</td><td>('with_wrapping_at',)</td></tr>\n",
       "<tr><td>justification</td><td>if any wrap positions are set, justify to the 'left', 'center', or 'right'</td><td>left</td><td>left</td><td>('with_justification',)</td></tr>\n",
       "</table>\n"
      ],
      "text/plain": [
       "style name: wrap_positions\n",
       "description: position(s) at which wrapping is to occur; 'n' is after the nth comma.\n",
       "default: ()\n",
       "current value: ()\n",
       "related methods: ('with_wrapping_at',)\n",
       "style name: justification\n",
       "description: if any wrap positions are set, justify to the 'left', 'center', or 'right'\n",
       "default: left\n",
       "current value: left\n",
       "related methods: ('with_justification',)"
      ]
     },
     "metadata": {},
     "output_type": "display_data"
    }
   ],
   "source": [
    "stored_expr.style_options()"
   ]
  },
  {
   "cell_type": "code",
   "execution_count": 6,
   "metadata": {},
   "outputs": [
    {
     "data": {
      "text/html": [
       "<table><tr><th>&nbsp;</th><th>core type</th><th>sub-expressions</th><th>expression</th></tr>\n",
       "<tr><td>0</td><td>ExprTuple</td><td>1, 2, 3, 4, 5, 6, 7, 8, 9, 10, 11, 12, 13, 14, 15</td><td><a class=\"ProveItLink\" href=\"expr.ipynb\"><img src=\"expr.png\" style=\"display:inline;vertical-align:middle;\" /></a></td></tr>\n",
       "<tr><td>1</td><td>Operation</td><td>operator:&nbsp;25<br>operands:&nbsp;16<br></td><td><a class=\"ProveItLink\" href=\"../../theorems/5a0c211ed8c0f89e15d717d80d4627baae693acb0/expr.ipynb\"><img src=\"../../theorems/5a0c211ed8c0f89e15d717d80d4627baae693acb0/expr.png\" style=\"display:inline;vertical-align:middle;\" /></a></td></tr>\n",
       "<tr><td>2</td><td>Operation</td><td>operator:&nbsp;25<br>operands:&nbsp;17<br></td><td><a class=\"ProveItLink\" href=\"../5a49c1d91f28aca05c3a7748e24771596ea841e40/expr.ipynb\"><img src=\"../5a49c1d91f28aca05c3a7748e24771596ea841e40/expr.png\" style=\"display:inline;vertical-align:middle;\" /></a></td></tr>\n",
       "<tr><td>3</td><td>Operation</td><td>operator:&nbsp;25<br>operands:&nbsp;18<br></td><td><a class=\"ProveItLink\" href=\"../d37b797075f3cbfcbe6c89399c71a9fea96cf4f90/expr.ipynb\"><img src=\"../d37b797075f3cbfcbe6c89399c71a9fea96cf4f90/expr.png\" style=\"display:inline;vertical-align:middle;\" /></a></td></tr>\n",
       "<tr><td>4</td><td>Operation</td><td>operator:&nbsp;25<br>operands:&nbsp;19<br></td><td><a class=\"ProveItLink\" href=\"../c11edfb8c3790213d064d89b83469fb287a4937b0/expr.ipynb\"><img src=\"../c11edfb8c3790213d064d89b83469fb287a4937b0/expr.png\" style=\"display:inline;vertical-align:middle;\" /></a></td></tr>\n",
       "<tr><td>5</td><td>Operation</td><td>operator:&nbsp;25<br>operands:&nbsp;20<br></td><td><a class=\"ProveItLink\" href=\"../73586126c0d9ccc72d664cd083067455b00bb2fb0/expr.ipynb\"><img src=\"../73586126c0d9ccc72d664cd083067455b00bb2fb0/expr.png\" style=\"display:inline;vertical-align:middle;\" /></a></td></tr>\n",
       "<tr><td>6</td><td>Operation</td><td>operator:&nbsp;25<br>operands:&nbsp;21<br></td><td><a class=\"ProveItLink\" href=\"../6047dafbc38478dd08f74d0ff64bf4cd5e49db030/expr.ipynb\"><img src=\"../6047dafbc38478dd08f74d0ff64bf4cd5e49db030/expr.png\" style=\"display:inline;vertical-align:middle;\" /></a></td></tr>\n",
       "<tr><td>7</td><td>Operation</td><td>operator:&nbsp;25<br>operands:&nbsp;22<br></td><td><a class=\"ProveItLink\" href=\"../../../../ordering/__pv_it/theorems/d1323f34847310a404e8089c2c268d3c2eb89dbf0/expr.ipynb\"><img src=\"../../../../ordering/__pv_it/theorems/d1323f34847310a404e8089c2c268d3c2eb89dbf0/expr.png\" style=\"display:inline;vertical-align:middle;\" /></a></td></tr>\n",
       "<tr><td>8</td><td>Operation</td><td>operator:&nbsp;25<br>operands:&nbsp;23<br></td><td><a class=\"ProveItLink\" href=\"../../../../ordering/__pv_it/theorems/5d76fdd975252a644e3e1cb067a357f9a9c8486a0/expr.ipynb\"><img src=\"../../../../ordering/__pv_it/theorems/5d76fdd975252a644e3e1cb067a357f9a9c8486a0/expr.png\" style=\"display:inline;vertical-align:middle;\" /></a></td></tr>\n",
       "<tr><td>9</td><td>Operation</td><td>operator:&nbsp;25<br>operands:&nbsp;24<br></td><td><a class=\"ProveItLink\" href=\"../4c5fb6064ed81f83132c10d4b7f508806e4b6da20/expr.ipynb\"><img src=\"../4c5fb6064ed81f83132c10d4b7f508806e4b6da20/expr.png\" style=\"display:inline;vertical-align:middle;\" /></a></td></tr>\n",
       "<tr><td>10</td><td>Operation</td><td>operator:&nbsp;25<br>operands:&nbsp;26<br></td><td><a class=\"ProveItLink\" href=\"../ce2475b1f782f81129a4767b565e241c04ec25260/expr.ipynb\"><img src=\"../ce2475b1f782f81129a4767b565e241c04ec25260/expr.png\" style=\"display:inline;vertical-align:middle;\" /></a></td></tr>\n",
       "<tr><td>11</td><td>Operation</td><td>operator:&nbsp;30<br>operands:&nbsp;27<br></td><td><a class=\"ProveItLink\" href=\"../0c63194c87f26ca64603ef5a984a91e27b902bef0/expr.ipynb\"><img src=\"../0c63194c87f26ca64603ef5a984a91e27b902bef0/expr.png\" style=\"display:inline;vertical-align:middle;\" /></a></td></tr>\n",
       "<tr><td>12</td><td>Operation</td><td>operator:&nbsp;32<br>operands:&nbsp;28<br></td><td><a class=\"ProveItLink\" href=\"../d3bff5c4cf69c187ada1d861dcab5bac9a56602b0/expr.ipynb\"><img src=\"../d3bff5c4cf69c187ada1d861dcab5bac9a56602b0/expr.png\" style=\"display:inline;vertical-align:middle;\" /></a></td></tr>\n",
       "<tr><td>13</td><td>Operation</td><td>operator:&nbsp;30<br>operands:&nbsp;29<br></td><td><a class=\"ProveItLink\" href=\"../../../../number_sets/real_numbers/__pv_it/theorems/0c04c146b0f7b92967ed28917fb83981f8ee0b1b0/expr.ipynb\"><img src=\"../../../../number_sets/real_numbers/__pv_it/theorems/0c04c146b0f7b92967ed28917fb83981f8ee0b1b0/expr.png\" style=\"display:inline;vertical-align:middle;\" /></a></td></tr>\n",
       "<tr><td>14</td><td>Operation</td><td>operator:&nbsp;30<br>operands:&nbsp;31<br></td><td><a class=\"ProveItLink\" href=\"../0f3bf2f52b0a42ebbfba310f312a43f9efc42b9e0/expr.ipynb\"><img src=\"../0f3bf2f52b0a42ebbfba310f312a43f9efc42b9e0/expr.png\" style=\"display:inline;vertical-align:middle;\" /></a></td></tr>\n",
       "<tr><td>15</td><td>Operation</td><td>operator:&nbsp;32<br>operands:&nbsp;33<br></td><td><a class=\"ProveItLink\" href=\"../50829647483a75a463faf4f86a138ea19ac5a80e0/expr.ipynb\"><img src=\"../50829647483a75a463faf4f86a138ea19ac5a80e0/expr.png\" style=\"display:inline;vertical-align:middle;\" /></a></td></tr>\n",
       "<tr><td>16</td><td>ExprTuple</td><td>34, 42</td><td><a class=\"ProveItLink\" href=\"../../theorems/caea83d54eb58dbad91ef10a83b3aa6f91eff2820/expr.ipynb\"><img src=\"../../theorems/caea83d54eb58dbad91ef10a83b3aa6f91eff2820/expr.png\" style=\"display:inline;vertical-align:middle;\" /></a></td></tr>\n",
       "<tr><td>17</td><td>ExprTuple</td><td>35, 36</td><td><a class=\"ProveItLink\" href=\"../dc8107b940103ed4192cd890c23701768307e5580/expr.ipynb\"><img src=\"../dc8107b940103ed4192cd890c23701768307e5580/expr.png\" style=\"display:inline;vertical-align:middle;\" /></a></td></tr>\n",
       "<tr><td>18</td><td>ExprTuple</td><td>45, 39</td><td><a class=\"ProveItLink\" href=\"../b6cd6408003cc94c9d47b64c8f06ded4532c4d900/expr.ipynb\"><img src=\"../b6cd6408003cc94c9d47b64c8f06ded4532c4d900/expr.png\" style=\"display:inline;vertical-align:middle;\" /></a></td></tr>\n",
       "<tr><td>19</td><td>ExprTuple</td><td>37, 38</td><td><a class=\"ProveItLink\" href=\"../04e7c265d800cc5e24170fded6f683dec37483600/expr.ipynb\"><img src=\"../04e7c265d800cc5e24170fded6f683dec37483600/expr.png\" style=\"display:inline;vertical-align:middle;\" /></a></td></tr>\n",
       "<tr><td>20</td><td>ExprTuple</td><td>44, 39</td><td><a class=\"ProveItLink\" href=\"../395eb12250c05080259a63a18eabcb6435e303530/expr.ipynb\"><img src=\"../395eb12250c05080259a63a18eabcb6435e303530/expr.png\" style=\"display:inline;vertical-align:middle;\" /></a></td></tr>\n",
       "<tr><td>21</td><td>ExprTuple</td><td>43, 39</td><td><a class=\"ProveItLink\" href=\"../f080494f452b7f0029f2941983ecf57ca7dca5830/expr.ipynb\"><img src=\"../f080494f452b7f0029f2941983ecf57ca7dca5830/expr.png\" style=\"display:inline;vertical-align:middle;\" /></a></td></tr>\n",
       "<tr><td>22</td><td>ExprTuple</td><td>48, 40</td><td><a class=\"ProveItLink\" href=\"../../../../ordering/__pv_it/theorems/d87b972e3e29265b9fca1a9cb6e1de56983159ab0/expr.ipynb\"><img src=\"../../../../ordering/__pv_it/theorems/d87b972e3e29265b9fca1a9cb6e1de56983159ab0/expr.png\" style=\"display:inline;vertical-align:middle;\" /></a></td></tr>\n",
       "<tr><td>23</td><td>ExprTuple</td><td>47, 40</td><td><a class=\"ProveItLink\" href=\"../../../../ordering/__pv_it/theorems/bee9e297dbbe7973b768621f1e2595a566af7f1b0/expr.ipynb\"><img src=\"../../../../ordering/__pv_it/theorems/bee9e297dbbe7973b768621f1e2595a566af7f1b0/expr.png\" style=\"display:inline;vertical-align:middle;\" /></a></td></tr>\n",
       "<tr><td>24</td><td>ExprTuple</td><td>49, 40</td><td><a class=\"ProveItLink\" href=\"../70c3066c311248dcb15356e938b2e2f281d2ca220/expr.ipynb\"><img src=\"../70c3066c311248dcb15356e938b2e2f281d2ca220/expr.png\" style=\"display:inline;vertical-align:middle;\" /></a></td></tr>\n",
       "<tr><td>25</td><td>Literal</td><td></td><td><a class=\"ProveItLink\" href=\"../../../../../logic/sets/membership/__pv_it/common/477487d8796864d23d5810f83761435f25167f690/expr.ipynb\"><img src=\"../../../../../logic/sets/membership/__pv_it/common/477487d8796864d23d5810f83761435f25167f690/expr.png\" style=\"display:inline;vertical-align:middle;\" /></a></td></tr>\n",
       "<tr><td>26</td><td>ExprTuple</td><td>41, 42</td><td><a class=\"ProveItLink\" href=\"../8a3862703d912abbc08eb040599053d85d1deed30/expr.ipynb\"><img src=\"../8a3862703d912abbc08eb040599053d85d1deed30/expr.png\" style=\"display:inline;vertical-align:middle;\" /></a></td></tr>\n",
       "<tr><td>27</td><td>ExprTuple</td><td>44, 43</td><td><a class=\"ProveItLink\" href=\"../34bebb217d6b154a9daa0a153572176c7594e0d20/expr.ipynb\"><img src=\"../34bebb217d6b154a9daa0a153572176c7594e0d20/expr.png\" style=\"display:inline;vertical-align:middle;\" /></a></td></tr>\n",
       "<tr><td>28</td><td>ExprTuple</td><td>44, 45</td><td><a class=\"ProveItLink\" href=\"../2b45bc38143c6a68d34d63db8b67b944770e8f500/expr.ipynb\"><img src=\"../2b45bc38143c6a68d34d63db8b67b944770e8f500/expr.png\" style=\"display:inline;vertical-align:middle;\" /></a></td></tr>\n",
       "<tr><td>29</td><td>ExprTuple</td><td>46, 48</td><td><a class=\"ProveItLink\" href=\"../../../../number_sets/real_numbers/__pv_it/theorems/e1549c2a39fe76392b537ca21abaf0f3eaf19b2d0/expr.ipynb\"><img src=\"../../../../number_sets/real_numbers/__pv_it/theorems/e1549c2a39fe76392b537ca21abaf0f3eaf19b2d0/expr.png\" style=\"display:inline;vertical-align:middle;\" /></a></td></tr>\n",
       "<tr><td>30</td><td>Literal</td><td></td><td><a class=\"ProveItLink\" href=\"../../../../ordering/__pv_it/common/fa503ed52033522c609eef1cf3e1b45796489da50/expr.ipynb\"><img src=\"../../../../ordering/__pv_it/common/fa503ed52033522c609eef1cf3e1b45796489da50/expr.png\" style=\"display:inline;vertical-align:middle;\" /></a></td></tr>\n",
       "<tr><td>31</td><td>ExprTuple</td><td>48, 47</td><td><a class=\"ProveItLink\" href=\"../../../../../__pv_it/common/70b6dfe187a2382408546cc714e0c3bc5c3a48c90/expr.ipynb\"><img src=\"../../../../../__pv_it/common/70b6dfe187a2382408546cc714e0c3bc5c3a48c90/expr.png\" style=\"display:inline;vertical-align:middle;\" /></a></td></tr>\n",
       "<tr><td>32</td><td>Literal</td><td></td><td><a class=\"ProveItLink\" href=\"../../../../ordering/__pv_it/common/68379698d72b4689bbda4b5c5cca29ee599d70280/expr.ipynb\"><img src=\"../../../../ordering/__pv_it/common/68379698d72b4689bbda4b5c5cca29ee599d70280/expr.png\" style=\"display:inline;vertical-align:middle;\" /></a></td></tr>\n",
       "<tr><td>33</td><td>ExprTuple</td><td>48, 49</td><td><a class=\"ProveItLink\" href=\"../../../../../logic/equality/__pv_it/axioms/89a913c4fcce790c0c99d28a431789287fb525c60/expr.ipynb\"><img src=\"../../../../../logic/equality/__pv_it/axioms/89a913c4fcce790c0c99d28a431789287fb525c60/expr.png\" style=\"display:inline;vertical-align:middle;\" /></a></td></tr>\n",
       "<tr><td>34</td><td>Variable</td><td></td><td><a class=\"ProveItLink\" href=\"../../../../../__pv_it/common/c06c606ec12678c58933ac85412ecadc2ae28be60/expr.ipynb\"><img src=\"../../../../../__pv_it/common/c06c606ec12678c58933ac85412ecadc2ae28be60/expr.png\" style=\"display:inline;vertical-align:middle;\" /></a></td></tr>\n",
       "<tr><td>35</td><td>Variable</td><td></td><td><a class=\"ProveItLink\" href=\"../../../../../__pv_it/common/195236b98c6c564a75b5dbada74b173bc52d5c3e0/expr.ipynb\"><img src=\"../../../../../__pv_it/common/195236b98c6c564a75b5dbada74b173bc52d5c3e0/expr.png\" style=\"display:inline;vertical-align:middle;\" /></a></td></tr>\n",
       "<tr><td>36</td><td>Literal</td><td></td><td><a class=\"ProveItLink\" href=\"../../../../number_sets/real_numbers/__pv_it/common/e6ce8d0e09d7926fae58282b7d1defa502e2c9ba0/expr.ipynb\"><img src=\"../../../../number_sets/real_numbers/__pv_it/common/e6ce8d0e09d7926fae58282b7d1defa502e2c9ba0/expr.png\" style=\"display:inline;vertical-align:middle;\" /></a></td></tr>\n",
       "<tr><td>37</td><td>Variable</td><td></td><td><a class=\"ProveItLink\" href=\"../../../../../__pv_it/common/4f5c524ffda87296de1c79b96880123fe2efedd50/expr.ipynb\"><img src=\"../../../../../__pv_it/common/4f5c524ffda87296de1c79b96880123fe2efedd50/expr.png\" style=\"display:inline;vertical-align:middle;\" /></a></td></tr>\n",
       "<tr><td>38</td><td>Literal</td><td></td><td><a class=\"ProveItLink\" href=\"../../../../number_sets/real_numbers/__pv_it/common/ea878150e32a61a5997afc5b4b4b12437d726a470/expr.ipynb\"><img src=\"../../../../number_sets/real_numbers/__pv_it/common/ea878150e32a61a5997afc5b4b4b12437d726a470/expr.png\" style=\"display:inline;vertical-align:middle;\" /></a></td></tr>\n",
       "<tr><td>39</td><td>Literal</td><td></td><td><a class=\"ProveItLink\" href=\"../../../../number_sets/real_numbers/__pv_it/common/22049b0ceade1b5eb1b88ec78deb486d547c9b580/expr.ipynb\"><img src=\"../../../../number_sets/real_numbers/__pv_it/common/22049b0ceade1b5eb1b88ec78deb486d547c9b580/expr.png\" style=\"display:inline;vertical-align:middle;\" /></a></td></tr>\n",
       "<tr><td>40</td><td>Literal</td><td></td><td><a class=\"ProveItLink\" href=\"../../../../number_sets/real_numbers/__pv_it/common/93cac87a1a47e613f7a83b23ef7891599a1a4cca0/expr.ipynb\"><img src=\"../../../../number_sets/real_numbers/__pv_it/common/93cac87a1a47e613f7a83b23ef7891599a1a4cca0/expr.png\" style=\"display:inline;vertical-align:middle;\" /></a></td></tr>\n",
       "<tr><td>41</td><td>Variable</td><td></td><td><a class=\"ProveItLink\" href=\"../../../../../__pv_it/common/d365663894822dede40e6e04c77860068334d0820/expr.ipynb\"><img src=\"../../../../../__pv_it/common/d365663894822dede40e6e04c77860068334d0820/expr.png\" style=\"display:inline;vertical-align:middle;\" /></a></td></tr>\n",
       "<tr><td>42</td><td>Literal</td><td></td><td><a class=\"ProveItLink\" href=\"../../../../number_sets/real_numbers/__pv_it/common/174917e13d50b91c585b7f765a2896383a3ae8010/expr.ipynb\"><img src=\"../../../../number_sets/real_numbers/__pv_it/common/174917e13d50b91c585b7f765a2896383a3ae8010/expr.png\" style=\"display:inline;vertical-align:middle;\" /></a></td></tr>\n",
       "<tr><td>43</td><td>Variable</td><td></td><td><a class=\"ProveItLink\" href=\"../../../../../__pv_it/common/a4b9661da9b52dcebf59c5559fec8901f4df10750/expr.ipynb\"><img src=\"../../../../../__pv_it/common/a4b9661da9b52dcebf59c5559fec8901f4df10750/expr.png\" style=\"display:inline;vertical-align:middle;\" /></a></td></tr>\n",
       "<tr><td>44</td><td>Variable</td><td></td><td><a class=\"ProveItLink\" href=\"../../../../../__pv_it/common/0d656bb6691dcf7801631ede213504e1b012f3d50/expr.ipynb\"><img src=\"../../../../../__pv_it/common/0d656bb6691dcf7801631ede213504e1b012f3d50/expr.png\" style=\"display:inline;vertical-align:middle;\" /></a></td></tr>\n",
       "<tr><td>45</td><td>Variable</td><td></td><td><a class=\"ProveItLink\" href=\"../../../../../__pv_it/common/ceef4280a2f1cc604b455b54e735507244cc62cd0/expr.ipynb\"><img src=\"../../../../../__pv_it/common/ceef4280a2f1cc604b455b54e735507244cc62cd0/expr.png\" style=\"display:inline;vertical-align:middle;\" /></a></td></tr>\n",
       "<tr><td>46</td><td>Literal</td><td></td><td><a class=\"ProveItLink\" href=\"../../../../numerals/__pv_it/common/dd4e19e8b134dfb293470ea55fe3589b0ab9f8040/expr.ipynb\"><img src=\"../../../../numerals/__pv_it/common/dd4e19e8b134dfb293470ea55fe3589b0ab9f8040/expr.png\" style=\"display:inline;vertical-align:middle;\" /></a></td></tr>\n",
       "<tr><td>47</td><td>Variable</td><td></td><td><a class=\"ProveItLink\" href=\"../../../../../__pv_it/common/ff7dba4ef0bbe791ab573bf2d9c220a304399ac80/expr.ipynb\"><img src=\"../../../../../__pv_it/common/ff7dba4ef0bbe791ab573bf2d9c220a304399ac80/expr.png\" style=\"display:inline;vertical-align:middle;\" /></a></td></tr>\n",
       "<tr><td>48</td><td>Variable</td><td></td><td><a class=\"ProveItLink\" href=\"../../../../../__pv_it/common/a0d9d672aa5e272d907247690c152cc2c6daafb70/expr.ipynb\"><img src=\"../../../../../__pv_it/common/a0d9d672aa5e272d907247690c152cc2c6daafb70/expr.png\" style=\"display:inline;vertical-align:middle;\" /></a></td></tr>\n",
       "<tr><td>49</td><td>Variable</td><td></td><td><a class=\"ProveItLink\" href=\"../../../../../__pv_it/common/95a8f6b9b9f29b83f192ad7fd05708d6be097a3f0/expr.ipynb\"><img src=\"../../../../../__pv_it/common/95a8f6b9b9f29b83f192ad7fd05708d6be097a3f0/expr.png\" style=\"display:inline;vertical-align:middle;\" /></a></td></tr>\n",
       "</table>\n"
      ],
      "text/plain": [
       "0. (a in RealPos, b in RealNonNeg, c in RealNeg, d in RealNonPos, u in RealNeg, v in RealNeg, x in Real, y in Real, z in Real, w in RealPos, u < v, u <= c, x > 0, y > x, x <= z)\n",
       "   core type: ExprTuple\n",
       "   sub-expressions: 1, 2, 3, 4, 5, 6, 7, 8, 9, 10, 11, 12, 13, 14, 15\n",
       "1. a in RealPos\n",
       "   core type: Operation\n",
       "   operator: 25\n",
       "   operands: 16\n",
       "2. b in RealNonNeg\n",
       "   core type: Operation\n",
       "   operator: 25\n",
       "   operands: 17\n",
       "3. c in RealNeg\n",
       "   core type: Operation\n",
       "   operator: 25\n",
       "   operands: 18\n",
       "4. d in RealNonPos\n",
       "   core type: Operation\n",
       "   operator: 25\n",
       "   operands: 19\n",
       "5. u in RealNeg\n",
       "   core type: Operation\n",
       "   operator: 25\n",
       "   operands: 20\n",
       "6. v in RealNeg\n",
       "   core type: Operation\n",
       "   operator: 25\n",
       "   operands: 21\n",
       "7. x in Real\n",
       "   core type: Operation\n",
       "   operator: 25\n",
       "   operands: 22\n",
       "8. y in Real\n",
       "   core type: Operation\n",
       "   operator: 25\n",
       "   operands: 23\n",
       "9. z in Real\n",
       "   core type: Operation\n",
       "   operator: 25\n",
       "   operands: 24\n",
       "10. w in RealPos\n",
       "    core type: Operation\n",
       "    operator: 25\n",
       "    operands: 26\n",
       "11. u < v\n",
       "    core type: Operation\n",
       "    operator: 30\n",
       "    operands: 27\n",
       "12. u <= c\n",
       "    core type: Operation\n",
       "    operator: 32\n",
       "    operands: 28\n",
       "13. x > 0\n",
       "    core type: Operation\n",
       "    operator: 30\n",
       "    operands: 29\n",
       "14. y > x\n",
       "    core type: Operation\n",
       "    operator: 30\n",
       "    operands: 31\n",
       "15. x <= z\n",
       "    core type: Operation\n",
       "    operator: 32\n",
       "    operands: 33\n",
       "16. (a, RealPos)\n",
       "    core type: ExprTuple\n",
       "    sub-expressions: 34, 42\n",
       "17. (b, RealNonNeg)\n",
       "    core type: ExprTuple\n",
       "    sub-expressions: 35, 36\n",
       "18. (c, RealNeg)\n",
       "    core type: ExprTuple\n",
       "    sub-expressions: 45, 39\n",
       "19. (d, RealNonPos)\n",
       "    core type: ExprTuple\n",
       "    sub-expressions: 37, 38\n",
       "20. (u, RealNeg)\n",
       "    core type: ExprTuple\n",
       "    sub-expressions: 44, 39\n",
       "21. (v, RealNeg)\n",
       "    core type: ExprTuple\n",
       "    sub-expressions: 43, 39\n",
       "22. (x, Real)\n",
       "    core type: ExprTuple\n",
       "    sub-expressions: 48, 40\n",
       "23. (y, Real)\n",
       "    core type: ExprTuple\n",
       "    sub-expressions: 47, 40\n",
       "24. (z, Real)\n",
       "    core type: ExprTuple\n",
       "    sub-expressions: 49, 40\n",
       "25. in\n",
       "    core type: Literal\n",
       "    sub-expressions: \n",
       "26. (w, RealPos)\n",
       "    core type: ExprTuple\n",
       "    sub-expressions: 41, 42\n",
       "27. (u, v)\n",
       "    core type: ExprTuple\n",
       "    sub-expressions: 44, 43\n",
       "28. (u, c)\n",
       "    core type: ExprTuple\n",
       "    sub-expressions: 44, 45\n",
       "29. (0, x)\n",
       "    core type: ExprTuple\n",
       "    sub-expressions: 46, 48\n",
       "30. <\n",
       "    core type: Literal\n",
       "    sub-expressions: \n",
       "31. (x, y)\n",
       "    core type: ExprTuple\n",
       "    sub-expressions: 48, 47\n",
       "32. <=\n",
       "    core type: Literal\n",
       "    sub-expressions: \n",
       "33. (x, z)\n",
       "    core type: ExprTuple\n",
       "    sub-expressions: 48, 49\n",
       "34. a\n",
       "    core type: Variable\n",
       "    sub-expressions: \n",
       "35. b\n",
       "    core type: Variable\n",
       "    sub-expressions: \n",
       "36. RealNonNeg\n",
       "    core type: Literal\n",
       "    sub-expressions: \n",
       "37. d\n",
       "    core type: Variable\n",
       "    sub-expressions: \n",
       "38. RealNonPos\n",
       "    core type: Literal\n",
       "    sub-expressions: \n",
       "39. RealNeg\n",
       "    core type: Literal\n",
       "    sub-expressions: \n",
       "40. Real\n",
       "    core type: Literal\n",
       "    sub-expressions: \n",
       "41. w\n",
       "    core type: Variable\n",
       "    sub-expressions: \n",
       "42. RealPos\n",
       "    core type: Literal\n",
       "    sub-expressions: \n",
       "43. v\n",
       "    core type: Variable\n",
       "    sub-expressions: \n",
       "44. u\n",
       "    core type: Variable\n",
       "    sub-expressions: \n",
       "45. c\n",
       "    core type: Variable\n",
       "    sub-expressions: \n",
       "46. 0\n",
       "    core type: Literal\n",
       "    sub-expressions: \n",
       "47. y\n",
       "    core type: Variable\n",
       "    sub-expressions: \n",
       "48. x\n",
       "    core type: Variable\n",
       "    sub-expressions: \n",
       "49. z\n",
       "    core type: Variable\n",
       "    sub-expressions: "
      ]
     },
     "metadata": {},
     "output_type": "display_data"
    }
   ],
   "source": [
    "# display the expression information\n",
    "stored_expr.expr_info()"
   ]
  },
  {
   "cell_type": "code",
   "execution_count": null,
   "metadata": {},
   "outputs": [],
   "source": []
  }
 ],
 "metadata": {
  "kernelspec": {
   "display_name": "Python 3",
   "language": "python",
   "name": "python3"
  }
 },
 "nbformat": 4,
 "nbformat_minor": 0
}