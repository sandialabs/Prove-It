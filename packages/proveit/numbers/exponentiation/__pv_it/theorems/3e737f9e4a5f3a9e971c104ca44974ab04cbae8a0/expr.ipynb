{
 "cells": [
  {
   "cell_type": "markdown",
   "metadata": {},
   "source": [
    "Expression of type <a class=\"ProveItLink\" href=\"../../../../../../../doc/html/api/proveit.ExprTuple.html\">ExprTuple</a>\n",
    "=======================\n",
    "# from the theory of <a class=\"ProveItLink\" href=\"../../../_theory_nbs_/theory.ipynb\">proveit.numbers.exponentiation</a>"
   ]
  },
  {
   "cell_type": "code",
   "execution_count": 1,
   "metadata": {},
   "outputs": [],
   "source": [
    "import proveit\n",
    "# Automation is not needed when building an expression:\n",
    "proveit.defaults.automation = False # This will speed things up.\n",
    "proveit.defaults.inline_pngs = False # Makes files smaller.\n",
    "%load_expr # Load the stored expression as 'stored_expr'\n",
    "# import Expression classes needed to build the expression\n",
    "from proveit import Conditional, ExprTuple, Lambda, a, m\n",
    "from proveit.core_expr_types import k_1_to_m\n",
    "from proveit.logic import Equals, Forall, InSet\n",
    "from proveit.numbers import Add, Complex, Exp, NaturalPos\n",
    "from proveit.numbers.exponentiation import prod_a_raise_ki__1_to_m"
   ]
  },
  {
   "cell_type": "code",
   "execution_count": 2,
   "metadata": {},
   "outputs": [
    {
     "data": {
      "text/html": [
       "<strong id=\"expr\">expr:</strong> <a class=\"ProveItLink\" href=\"expr.ipynb\"><img src=\"expr.png\" style=\"display:inline;vertical-align:middle;\" /></a><br>"
      ],
      "text/plain": [
       "<IPython.core.display.HTML object>"
      ]
     },
     "metadata": {},
     "output_type": "display_data"
    }
   ],
   "source": [
    "# build up the expression from sub-expressions\n",
    "expr = ExprTuple(Lambda(m, Conditional(Forall(instance_param_or_params = [a, k_1_to_m], instance_expr = Equals(prod_a_raise_ki__1_to_m, Exp(a, Add(k_1_to_m))), domains = [Complex, NaturalPos]), InSet(m, NaturalPos))))"
   ]
  },
  {
   "cell_type": "code",
   "execution_count": 3,
   "metadata": {},
   "outputs": [
    {
     "name": "stdout",
     "output_type": "stream",
     "text": [
      "Passed sanity check: expr matches stored_expr\n"
     ]
    }
   ],
   "source": [
    "# check that the built expression is the same as the stored expression\n",
    "assert expr == stored_expr\n",
    "assert expr._style_id == stored_expr._style_id\n",
    "print(\"Passed sanity check: expr matches stored_expr\")"
   ]
  },
  {
   "cell_type": "code",
   "execution_count": 4,
   "metadata": {},
   "outputs": [
    {
     "name": "stdout",
     "output_type": "stream",
     "text": [
      "\\left(m \\mapsto \\left\\{\\forall_{a \\in \\mathbb{C},\\left(k_{1} \\in \\mathbb{N}^+\\right), \\left(k_{2} \\in \\mathbb{N}^+\\right), \\ldots, \\left(k_{m} \\in \\mathbb{N}^+\\right)}~\\left(\\left(a^{k_{1}} \\cdot  a^{k_{2}} \\cdot  \\ldots \\cdot  a^{k_{m}}\\right) = a^{k_{1} +  k_{2} +  \\ldots +  k_{m}}\\right) \\textrm{ if } m \\in \\mathbb{N}^+\\right..\\right)\n"
     ]
    }
   ],
   "source": [
    "# Show the LaTeX representation of the expression for convenience if you need it.\n",
    "print(stored_expr.latex())"
   ]
  },
  {
   "cell_type": "code",
   "execution_count": 5,
   "metadata": {},
   "outputs": [
    {
     "data": {
      "text/html": [
       "no style options"
      ],
      "text/plain": [
       "no style options"
      ]
     },
     "metadata": {},
     "output_type": "display_data"
    }
   ],
   "source": [
    "stored_expr.style_options()"
   ]
  },
  {
   "cell_type": "code",
   "execution_count": 6,
   "metadata": {},
   "outputs": [
    {
     "data": {
      "text/html": [
       "<table><tr><th>&nbsp;</th><th>core type</th><th>sub-expressions</th><th>expression</th></tr>\n",
       "<tr><td>0</td><td>ExprTuple</td><td>1</td><td><a class=\"ProveItLink\" href=\"expr.ipynb\"><img src=\"expr.png\" style=\"display:inline;vertical-align:middle;\" /></a></td></tr>\n",
       "<tr><td>1</td><td>Lambda</td><td>parameter:&nbsp;43<br>body:&nbsp;3<br></td><td><a class=\"ProveItLink\" href=\"../0911f807791d6c75727a70aa20381963b614d8200/expr.ipynb\"><img src=\"../0911f807791d6c75727a70aa20381963b614d8200/expr.png\" style=\"display:inline;vertical-align:middle;\" /></a></td></tr>\n",
       "<tr><td>2</td><td>ExprTuple</td><td>43</td><td><a class=\"ProveItLink\" href=\"../2ed45ad9602ac89076225577ef477d88f8c5a1790/expr.ipynb\"><img src=\"../2ed45ad9602ac89076225577ef477d88f8c5a1790/expr.png\" style=\"display:inline;vertical-align:middle;\" /></a></td></tr>\n",
       "<tr><td>3</td><td>Conditional</td><td>value:&nbsp;4<br>condition:&nbsp;5<br></td><td><a class=\"ProveItLink\" href=\"../f5713b7c107dc3c0af13c65cbb0eb5dd4fe45a290/expr.ipynb\"><img src=\"../f5713b7c107dc3c0af13c65cbb0eb5dd4fe45a290/expr.png\" style=\"display:inline;vertical-align:middle;\" /></a></td></tr>\n",
       "<tr><td>4</td><td>Operation</td><td>operator:&nbsp;6<br>operand:&nbsp;9<br></td><td><a class=\"ProveItLink\" href=\"../56a868dfef48be68680bcf376c80e7fa21c6381d0/expr.ipynb\"><img src=\"../56a868dfef48be68680bcf376c80e7fa21c6381d0/expr.png\" style=\"display:inline;vertical-align:middle;\" /></a></td></tr>\n",
       "<tr><td>5</td><td>Operation</td><td>operator:&nbsp;34<br>operands:&nbsp;8<br></td><td><a class=\"ProveItLink\" href=\"../79a768603778550c651661670153c27ee0a505870/expr.ipynb\"><img src=\"../79a768603778550c651661670153c27ee0a505870/expr.png\" style=\"display:inline;vertical-align:middle;\" /></a></td></tr>\n",
       "<tr><td>6</td><td>Literal</td><td></td><td><a class=\"ProveItLink\" href=\"../../../../../logic/booleans/quantification/universality/__pv_it/common/083d2baa0b8ecab1d230f9ec29a15aa1355809fb0/expr.ipynb\"><img src=\"../../../../../logic/booleans/quantification/universality/__pv_it/common/083d2baa0b8ecab1d230f9ec29a15aa1355809fb0/expr.png\" style=\"display:inline;vertical-align:middle;\" /></a></td></tr>\n",
       "<tr><td>7</td><td>ExprTuple</td><td>9</td><td><a class=\"ProveItLink\" href=\"../2839aea2917c18d92bef8288828889c30b57ef4b0/expr.ipynb\"><img src=\"../2839aea2917c18d92bef8288828889c30b57ef4b0/expr.png\" style=\"display:inline;vertical-align:middle;\" /></a></td></tr>\n",
       "<tr><td>8</td><td>ExprTuple</td><td>43, 38</td><td><a class=\"ProveItLink\" href=\"../0aafde61e876ad81c8138546f58d9459d893af050/expr.ipynb\"><img src=\"../0aafde61e876ad81c8138546f58d9459d893af050/expr.png\" style=\"display:inline;vertical-align:middle;\" /></a></td></tr>\n",
       "<tr><td>9</td><td>Lambda</td><td>parameters:&nbsp;10<br>body:&nbsp;11<br></td><td><a class=\"ProveItLink\" href=\"../40135acdd7dc89cf32e2e6d5ac7a20cd9ced4a9c0/expr.ipynb\"><img src=\"../40135acdd7dc89cf32e2e6d5ac7a20cd9ced4a9c0/expr.png\" style=\"display:inline;vertical-align:middle;\" /></a></td></tr>\n",
       "<tr><td>10</td><td>ExprTuple</td><td>44, 37</td><td><a class=\"ProveItLink\" href=\"../d77e194cfabfef77c632c3a972e8bd9e008475800/expr.ipynb\"><img src=\"../d77e194cfabfef77c632c3a972e8bd9e008475800/expr.png\" style=\"display:inline;vertical-align:middle;\" /></a></td></tr>\n",
       "<tr><td>11</td><td>Conditional</td><td>value:&nbsp;12<br>condition:&nbsp;13<br></td><td><a class=\"ProveItLink\" href=\"../d1a27e691dcdf49341861b915e016ed30bc4a6f60/expr.ipynb\"><img src=\"../d1a27e691dcdf49341861b915e016ed30bc4a6f60/expr.png\" style=\"display:inline;vertical-align:middle;\" /></a></td></tr>\n",
       "<tr><td>12</td><td>Operation</td><td>operator:&nbsp;14<br>operands:&nbsp;15<br></td><td><a class=\"ProveItLink\" href=\"../2ee38c922a58947871bc54e33692b71759d961990/expr.ipynb\"><img src=\"../2ee38c922a58947871bc54e33692b71759d961990/expr.png\" style=\"display:inline;vertical-align:middle;\" /></a></td></tr>\n",
       "<tr><td>13</td><td>Operation</td><td>operator:&nbsp;16<br>operands:&nbsp;17<br></td><td><a class=\"ProveItLink\" href=\"../39eb778bcc903d91bb77859c3634f390e0015db50/expr.ipynb\"><img src=\"../39eb778bcc903d91bb77859c3634f390e0015db50/expr.png\" style=\"display:inline;vertical-align:middle;\" /></a></td></tr>\n",
       "<tr><td>14</td><td>Literal</td><td></td><td><a class=\"ProveItLink\" href=\"../../../../../logic/equality/__pv_it/common/fb96dc12b2aa8801dda64d0132b396c63d1502bb0/expr.ipynb\"><img src=\"../../../../../logic/equality/__pv_it/common/fb96dc12b2aa8801dda64d0132b396c63d1502bb0/expr.png\" style=\"display:inline;vertical-align:middle;\" /></a></td></tr>\n",
       "<tr><td>15</td><td>ExprTuple</td><td>18, 19</td><td><a class=\"ProveItLink\" href=\"../2e8abb6d40e85c6eede4c6251d1cd6abc72135f40/expr.ipynb\"><img src=\"../2e8abb6d40e85c6eede4c6251d1cd6abc72135f40/expr.png\" style=\"display:inline;vertical-align:middle;\" /></a></td></tr>\n",
       "<tr><td>16</td><td>Literal</td><td></td><td><a class=\"ProveItLink\" href=\"../../../../../logic/booleans/conjunction/__pv_it/common/42118ff318bd65d98b1393f64ce7c2269feef76e0/expr.ipynb\"><img src=\"../../../../../logic/booleans/conjunction/__pv_it/common/42118ff318bd65d98b1393f64ce7c2269feef76e0/expr.png\" style=\"display:inline;vertical-align:middle;\" /></a></td></tr>\n",
       "<tr><td>17</td><td>ExprTuple</td><td>20, 21</td><td><a class=\"ProveItLink\" href=\"../640d386c370749a265c4e3897d3b3d7bf1829a8b0/expr.ipynb\"><img src=\"../640d386c370749a265c4e3897d3b3d7bf1829a8b0/expr.png\" style=\"display:inline;vertical-align:middle;\" /></a></td></tr>\n",
       "<tr><td>18</td><td>Operation</td><td>operator:&nbsp;22<br>operands:&nbsp;23<br></td><td><a class=\"ProveItLink\" href=\"../../common/50bc4ef207deee5e982ccfe8e58e195b67b975300/expr.ipynb\"><img src=\"../../common/50bc4ef207deee5e982ccfe8e58e195b67b975300/expr.png\" style=\"display:inline;vertical-align:middle;\" /></a></td></tr>\n",
       "<tr><td>19</td><td>Operation</td><td>operator:&nbsp;39<br>operands:&nbsp;24<br></td><td><a class=\"ProveItLink\" href=\"../4e9e1ae8fc618e0f82b9409f8689365026293f6b0/expr.ipynb\"><img src=\"../4e9e1ae8fc618e0f82b9409f8689365026293f6b0/expr.png\" style=\"display:inline;vertical-align:middle;\" /></a></td></tr>\n",
       "<tr><td>20</td><td>Operation</td><td>operator:&nbsp;34<br>operands:&nbsp;25<br></td><td><a class=\"ProveItLink\" href=\"../e9f87a0977d5044ea8daf1040d2f219396bb3d5b0/expr.ipynb\"><img src=\"../e9f87a0977d5044ea8daf1040d2f219396bb3d5b0/expr.png\" style=\"display:inline;vertical-align:middle;\" /></a></td></tr>\n",
       "<tr><td>21</td><td>ExprRange</td><td>lambda_map:&nbsp;26<br>start_index:&nbsp;42<br>end_index:&nbsp;43<br></td><td><a class=\"ProveItLink\" href=\"../bad06ea27a8c06a3b2cca1f0a9e6f919ccd0f3640/expr.ipynb\"><img src=\"../bad06ea27a8c06a3b2cca1f0a9e6f919ccd0f3640/expr.png\" style=\"display:inline;vertical-align:middle;\" /></a></td></tr>\n",
       "<tr><td>22</td><td>Literal</td><td></td><td><a class=\"ProveItLink\" href=\"../../../../multiplication/__pv_it/common/ed719cef37831779c16481533a4d380a2f95ab270/expr.ipynb\"><img src=\"../../../../multiplication/__pv_it/common/ed719cef37831779c16481533a4d380a2f95ab270/expr.png\" style=\"display:inline;vertical-align:middle;\" /></a></td></tr>\n",
       "<tr><td>23</td><td>ExprTuple</td><td>27</td><td><a class=\"ProveItLink\" href=\"../../common/c481eb080ff4a887e1d2d26f57ecb7c2a14b2e5f0/expr.ipynb\"><img src=\"../../common/c481eb080ff4a887e1d2d26f57ecb7c2a14b2e5f0/expr.png\" style=\"display:inline;vertical-align:middle;\" /></a></td></tr>\n",
       "<tr><td>24</td><td>ExprTuple</td><td>44, 28</td><td><a class=\"ProveItLink\" href=\"../97ba5ffa943202ff8f03e8162bdd17b2456ebba70/expr.ipynb\"><img src=\"../97ba5ffa943202ff8f03e8162bdd17b2456ebba70/expr.png\" style=\"display:inline;vertical-align:middle;\" /></a></td></tr>\n",
       "<tr><td>25</td><td>ExprTuple</td><td>44, 29</td><td><a class=\"ProveItLink\" href=\"../f95f1bd17fb8b13a3ef06d06b532b556f249a05f0/expr.ipynb\"><img src=\"../f95f1bd17fb8b13a3ef06d06b532b556f249a05f0/expr.png\" style=\"display:inline;vertical-align:middle;\" /></a></td></tr>\n",
       "<tr><td>26</td><td>Lambda</td><td>parameter:&nbsp;48<br>body:&nbsp;30<br></td><td><a class=\"ProveItLink\" href=\"../663d1bfccedcb9b819f6baced0a7616a09bbd3ad0/expr.ipynb\"><img src=\"../663d1bfccedcb9b819f6baced0a7616a09bbd3ad0/expr.png\" style=\"display:inline;vertical-align:middle;\" /></a></td></tr>\n",
       "<tr><td>27</td><td>ExprRange</td><td>lambda_map:&nbsp;31<br>start_index:&nbsp;42<br>end_index:&nbsp;43<br></td><td><a class=\"ProveItLink\" href=\"../../common/596260d195152af1b0a71046e8cf7eb3844557570/expr.ipynb\"><img src=\"../../common/596260d195152af1b0a71046e8cf7eb3844557570/expr.png\" style=\"display:inline;vertical-align:middle;\" /></a></td></tr>\n",
       "<tr><td>28</td><td>Operation</td><td>operator:&nbsp;32<br>operands:&nbsp;33<br></td><td><a class=\"ProveItLink\" href=\"../95001309c3eaade8d73b5dbac2d4bc61c29d478e0/expr.ipynb\"><img src=\"../95001309c3eaade8d73b5dbac2d4bc61c29d478e0/expr.png\" style=\"display:inline;vertical-align:middle;\" /></a></td></tr>\n",
       "<tr><td>29</td><td>Literal</td><td></td><td><a class=\"ProveItLink\" href=\"../../../../number_sets/complex_numbers/__pv_it/common/d18a028138f659eda00de597c28a3447fe87eb100/expr.ipynb\"><img src=\"../../../../number_sets/complex_numbers/__pv_it/common/d18a028138f659eda00de597c28a3447fe87eb100/expr.png\" style=\"display:inline;vertical-align:middle;\" /></a></td></tr>\n",
       "<tr><td>30</td><td>Operation</td><td>operator:&nbsp;34<br>operands:&nbsp;35<br></td><td><a class=\"ProveItLink\" href=\"../48f33d176c942e2908f9f52fb52c804056f94ac20/expr.ipynb\"><img src=\"../48f33d176c942e2908f9f52fb52c804056f94ac20/expr.png\" style=\"display:inline;vertical-align:middle;\" /></a></td></tr>\n",
       "<tr><td>31</td><td>Lambda</td><td>parameter:&nbsp;48<br>body:&nbsp;36<br></td><td><a class=\"ProveItLink\" href=\"../../common/6759c7aff32ea8022784a6d7a66aa7a645c4a0880/expr.ipynb\"><img src=\"../../common/6759c7aff32ea8022784a6d7a66aa7a645c4a0880/expr.png\" style=\"display:inline;vertical-align:middle;\" /></a></td></tr>\n",
       "<tr><td>32</td><td>Literal</td><td></td><td><a class=\"ProveItLink\" href=\"../../../../addition/__pv_it/common/4b7effaab3619a1c2c38fe2dee8601df8ec714590/expr.ipynb\"><img src=\"../../../../addition/__pv_it/common/4b7effaab3619a1c2c38fe2dee8601df8ec714590/expr.png\" style=\"display:inline;vertical-align:middle;\" /></a></td></tr>\n",
       "<tr><td>33</td><td>ExprTuple</td><td>37</td><td><a class=\"ProveItLink\" href=\"../68800f10c3f7f89f8afbbfa06dee65347f6e2ad50/expr.ipynb\"><img src=\"../68800f10c3f7f89f8afbbfa06dee65347f6e2ad50/expr.png\" style=\"display:inline;vertical-align:middle;\" /></a></td></tr>\n",
       "<tr><td>34</td><td>Literal</td><td></td><td><a class=\"ProveItLink\" href=\"../../../../../logic/sets/membership/__pv_it/common/477487d8796864d23d5810f83761435f25167f690/expr.ipynb\"><img src=\"../../../../../logic/sets/membership/__pv_it/common/477487d8796864d23d5810f83761435f25167f690/expr.png\" style=\"display:inline;vertical-align:middle;\" /></a></td></tr>\n",
       "<tr><td>35</td><td>ExprTuple</td><td>45, 38</td><td><a class=\"ProveItLink\" href=\"../4137b6f04518c23f58e439a208bbac176e9b996a0/expr.ipynb\"><img src=\"../4137b6f04518c23f58e439a208bbac176e9b996a0/expr.png\" style=\"display:inline;vertical-align:middle;\" /></a></td></tr>\n",
       "<tr><td>36</td><td>Operation</td><td>operator:&nbsp;39<br>operands:&nbsp;40<br></td><td><a class=\"ProveItLink\" href=\"../../common/fed409f965100ea779af8a44ac416f499b5ba0a40/expr.ipynb\"><img src=\"../../common/fed409f965100ea779af8a44ac416f499b5ba0a40/expr.png\" style=\"display:inline;vertical-align:middle;\" /></a></td></tr>\n",
       "<tr><td>37</td><td>ExprRange</td><td>lambda_map:&nbsp;41<br>start_index:&nbsp;42<br>end_index:&nbsp;43<br></td><td><a class=\"ProveItLink\" href=\"../../../../../core_expr_types/__pv_it/common/ae6698abaead37a2a92e4666844a997289f8f6b40/expr.ipynb\"><img src=\"../../../../../core_expr_types/__pv_it/common/ae6698abaead37a2a92e4666844a997289f8f6b40/expr.png\" style=\"display:inline;vertical-align:middle;\" /></a></td></tr>\n",
       "<tr><td>38</td><td>Literal</td><td></td><td><a class=\"ProveItLink\" href=\"../../../../number_sets/natural_numbers/__pv_it/common/6111329435c43892c831c4793de96afbf80bdb3e0/expr.ipynb\"><img src=\"../../../../number_sets/natural_numbers/__pv_it/common/6111329435c43892c831c4793de96afbf80bdb3e0/expr.png\" style=\"display:inline;vertical-align:middle;\" /></a></td></tr>\n",
       "<tr><td>39</td><td>Literal</td><td></td><td><a class=\"ProveItLink\" href=\"../../common/0ac37aca1e54c35c5cda09672df32d4f69f1f3020/expr.ipynb\"><img src=\"../../common/0ac37aca1e54c35c5cda09672df32d4f69f1f3020/expr.png\" style=\"display:inline;vertical-align:middle;\" /></a></td></tr>\n",
       "<tr><td>40</td><td>ExprTuple</td><td>44, 45</td><td><a class=\"ProveItLink\" href=\"../../common/f4196701d45259545e330dcbba618cda9c3e21020/expr.ipynb\"><img src=\"../../common/f4196701d45259545e330dcbba618cda9c3e21020/expr.png\" style=\"display:inline;vertical-align:middle;\" /></a></td></tr>\n",
       "<tr><td>41</td><td>Lambda</td><td>parameter:&nbsp;48<br>body:&nbsp;45<br></td><td><a class=\"ProveItLink\" href=\"../../../../../core_expr_types/__pv_it/common/20d8ae5d9e5961c19af9825c4f1c333b1defd6da0/expr.ipynb\"><img src=\"../../../../../core_expr_types/__pv_it/common/20d8ae5d9e5961c19af9825c4f1c333b1defd6da0/expr.png\" style=\"display:inline;vertical-align:middle;\" /></a></td></tr>\n",
       "<tr><td>42</td><td>Literal</td><td></td><td><a class=\"ProveItLink\" href=\"../../../../numerals/__pv_it/common/682157d4892d216d9e5626ed533aff9b56b9506e0/expr.ipynb\"><img src=\"../../../../numerals/__pv_it/common/682157d4892d216d9e5626ed533aff9b56b9506e0/expr.png\" style=\"display:inline;vertical-align:middle;\" /></a></td></tr>\n",
       "<tr><td>43</td><td>Variable</td><td></td><td><a class=\"ProveItLink\" href=\"../../../../../__pv_it/common/674a03b9c3ca221b3aabd5636837b31528ff33830/expr.ipynb\"><img src=\"../../../../../__pv_it/common/674a03b9c3ca221b3aabd5636837b31528ff33830/expr.png\" style=\"display:inline;vertical-align:middle;\" /></a></td></tr>\n",
       "<tr><td>44</td><td>Variable</td><td></td><td><a class=\"ProveItLink\" href=\"../../../../../__pv_it/common/c06c606ec12678c58933ac85412ecadc2ae28be60/expr.ipynb\"><img src=\"../../../../../__pv_it/common/c06c606ec12678c58933ac85412ecadc2ae28be60/expr.png\" style=\"display:inline;vertical-align:middle;\" /></a></td></tr>\n",
       "<tr><td>45</td><td>IndexedVar</td><td>variable:&nbsp;46<br>index:&nbsp;48<br></td><td><a class=\"ProveItLink\" href=\"../../../../../core_expr_types/__pv_it/common/0cb33f99b197f7b5bc4ecabc05bb29df069e199f0/expr.ipynb\"><img src=\"../../../../../core_expr_types/__pv_it/common/0cb33f99b197f7b5bc4ecabc05bb29df069e199f0/expr.png\" style=\"display:inline;vertical-align:middle;\" /></a></td></tr>\n",
       "<tr><td>46</td><td>Variable</td><td></td><td><a class=\"ProveItLink\" href=\"../../../../../__pv_it/common/63b7c64bf9ec7a04ecc396c7a1670f3f12fb59490/expr.ipynb\"><img src=\"../../../../../__pv_it/common/63b7c64bf9ec7a04ecc396c7a1670f3f12fb59490/expr.png\" style=\"display:inline;vertical-align:middle;\" /></a></td></tr>\n",
       "<tr><td>47</td><td>ExprTuple</td><td>48</td><td><a class=\"ProveItLink\" href=\"../../../../../core_expr_types/__pv_it/common/4b0dd6be36d76552eda6a95d5b4a27f5a5b62f900/expr.ipynb\"><img src=\"../../../../../core_expr_types/__pv_it/common/4b0dd6be36d76552eda6a95d5b4a27f5a5b62f900/expr.png\" style=\"display:inline;vertical-align:middle;\" /></a></td></tr>\n",
       "<tr><td>48</td><td>Variable</td><td></td><td><a class=\"ProveItLink\" href=\"../../../../../core_expr_types/__pv_it/common/006c465e50948aa2b52285e2de47974f741255cc0/expr.ipynb\"><img src=\"../../../../../core_expr_types/__pv_it/common/006c465e50948aa2b52285e2de47974f741255cc0/expr.png\" style=\"display:inline;vertical-align:middle;\" /></a></td></tr>\n",
       "</table>\n"
      ],
      "text/plain": [
       "0. (m -> {forall_{a in Complex,(k_{1} in NaturalPos), (k_{2} in NaturalPos), ..., (k_{m} in NaturalPos)} ((a^{k_{1}} *  a^{k_{2}} *  ... *  a^{k_{m}}) = a^{k_{1} +  k_{2} +  ... +  k_{m}}) if m in NaturalPos.)\n",
       "   core type: ExprTuple\n",
       "   sub-expressions: 1\n",
       "1. m -> {forall_{a in Complex,(k_{1} in NaturalPos), (k_{2} in NaturalPos), ..., (k_{m} in NaturalPos)} ((a^{k_{1}} *  a^{k_{2}} *  ... *  a^{k_{m}}) = a^{k_{1} +  k_{2} +  ... +  k_{m}}) if m in NaturalPos.\n",
       "   core type: Lambda\n",
       "   parameter: 43\n",
       "   body: 3\n",
       "2. (m)\n",
       "   core type: ExprTuple\n",
       "   sub-expressions: 43\n",
       "3. {forall_{a in Complex,(k_{1} in NaturalPos), (k_{2} in NaturalPos), ..., (k_{m} in NaturalPos)} ((a^{k_{1}} *  a^{k_{2}} *  ... *  a^{k_{m}}) = a^{k_{1} +  k_{2} +  ... +  k_{m}}) if m in NaturalPos.\n",
       "   core type: Conditional\n",
       "   value: 4\n",
       "   condition: 5\n",
       "4. forall_{a in Complex,(k_{1} in NaturalPos), (k_{2} in NaturalPos), ..., (k_{m} in NaturalPos)} ((a^{k_{1}} *  a^{k_{2}} *  ... *  a^{k_{m}}) = a^{k_{1} +  k_{2} +  ... +  k_{m}})\n",
       "   core type: Operation\n",
       "   operator: 6\n",
       "   operand: 9\n",
       "5. m in NaturalPos\n",
       "   core type: Operation\n",
       "   operator: 34\n",
       "   operands: 8\n",
       "6. forall\n",
       "   core type: Literal\n",
       "   sub-expressions: \n",
       "7. ((a, k_{1}, k_{2}, ..., k_{m}) -> {(a^{k_{1}} *  a^{k_{2}} *  ... *  a^{k_{m}}) = a^{k_{1} +  k_{2} +  ... +  k_{m}} if a in Complex, (k_{1} in NaturalPos) ,  (k_{2} in NaturalPos) ,  ... ,  (k_{m} in NaturalPos).)\n",
       "   core type: ExprTuple\n",
       "   sub-expressions: 9\n",
       "8. (m, NaturalPos)\n",
       "   core type: ExprTuple\n",
       "   sub-expressions: 43, 38\n",
       "9. (a, k_{1}, k_{2}, ..., k_{m}) -> {(a^{k_{1}} *  a^{k_{2}} *  ... *  a^{k_{m}}) = a^{k_{1} +  k_{2} +  ... +  k_{m}} if a in Complex, (k_{1} in NaturalPos) ,  (k_{2} in NaturalPos) ,  ... ,  (k_{m} in NaturalPos).\n",
       "   core type: Lambda\n",
       "   parameters: 10\\n   body: 11\n",
       "10. (a,k_{1}, k_{2}, ..., k_{m})\n",
       "    core type: ExprTuple\n",
       "    sub-expressions: 44, 37\n",
       "11. {(a^{k_{1}} *  a^{k_{2}} *  ... *  a^{k_{m}}) = a^{k_{1} +  k_{2} +  ... +  k_{m}} if a in Complex, (k_{1} in NaturalPos) ,  (k_{2} in NaturalPos) ,  ... ,  (k_{m} in NaturalPos).\n",
       "    core type: Conditional\n",
       "    value: 12\n",
       "    condition: 13\n",
       "12. (a^{k_{1}} *  a^{k_{2}} *  ... *  a^{k_{m}}) = a^{k_{1} +  k_{2} +  ... +  k_{m}}\n",
       "    core type: Operation\n",
       "    operator: 14\n",
       "    operands: 15\n",
       "13. (a in Complex)and (k_{1} in NaturalPos) and  (k_{2} in NaturalPos) and  ... and  (k_{m} in NaturalPos)\n",
       "    core type: Operation\n",
       "    operator: 16\n",
       "    operands: 17\n",
       "14. =\n",
       "    core type: Literal\n",
       "    sub-expressions: \n",
       "15. (a^{k_{1}} *  a^{k_{2}} *  ... *  a^{k_{m}}, a^{k_{1} +  k_{2} +  ... +  k_{m}})\n",
       "    core type: ExprTuple\n",
       "    sub-expressions: 18, 19\n",
       "16. and\n",
       "    core type: Literal\n",
       "    sub-expressions: \n",
       "17. (a in Complex,(k_{1} in NaturalPos), (k_{2} in NaturalPos), ..., (k_{m} in NaturalPos))\n",
       "    core type: ExprTuple\n",
       "    sub-expressions: 20, 21\n",
       "18. a^{k_{1}} *  a^{k_{2}} *  ... *  a^{k_{m}}\n",
       "    core type: Operation\n",
       "    operator: 22\n",
       "    operands: 23\n",
       "19. a^{k_{1} +  k_{2} +  ... +  k_{m}}\n",
       "    core type: Operation\n",
       "    operator: 39\n",
       "    operands: 24\n",
       "20. a in Complex\n",
       "    core type: Operation\n",
       "    operator: 34\n",
       "    operands: 25\n",
       "21. (k_{1} in NaturalPos), (k_{2} in NaturalPos), ..., (k_{m} in NaturalPos)\n",
       "    core type: ExprRange\n",
       "    lambda_map: 26\n",
       "    start_index: 42\n",
       "    end_index: 43\n",
       "22. *\n",
       "    core type: Literal\n",
       "    sub-expressions: \n",
       "23. (a^{k_{1}}, a^{k_{2}}, ..., a^{k_{m}})\n",
       "    core type: ExprTuple\n",
       "    sub-expressions: 27\n",
       "24. (a, k_{1} +  k_{2} +  ... +  k_{m})\n",
       "    core type: ExprTuple\n",
       "    sub-expressions: 44, 28\n",
       "25. (a, Complex)\n",
       "    core type: ExprTuple\n",
       "    sub-expressions: 44, 29\n",
       "26. _a -> (k_{_a} in NaturalPos)\n",
       "    core type: Lambda\n",
       "    parameter: 48\n",
       "    body: 30\n",
       "27. a^{k_{1}}, a^{k_{2}}, ..., a^{k_{m}}\n",
       "    core type: ExprRange\n",
       "    lambda_map: 31\n",
       "    start_index: 42\n",
       "    end_index: 43\n",
       "28. k_{1} +  k_{2} +  ... +  k_{m}\n",
       "    core type: Operation\n",
       "    operator: 32\n",
       "    operands: 33\n",
       "29. Complex\n",
       "    core type: Literal\n",
       "    sub-expressions: \n",
       "30. k_{_a} in NaturalPos\n",
       "    core type: Operation\n",
       "    operator: 34\n",
       "    operands: 35\n",
       "31. _a -> a^{k_{_a}}\n",
       "    core type: Lambda\n",
       "    parameter: 48\n",
       "    body: 36\n",
       "32. +\n",
       "    core type: Literal\n",
       "    sub-expressions: \n",
       "33. (k_{1}, k_{2}, ..., k_{m})\n",
       "    core type: ExprTuple\n",
       "    sub-expressions: 37\n",
       "34. in\n",
       "    core type: Literal\n",
       "    sub-expressions: \n",
       "35. (k_{_a}, NaturalPos)\n",
       "    core type: ExprTuple\n",
       "    sub-expressions: 45, 38\n",
       "36. a^{k_{_a}}\n",
       "    core type: Operation\n",
       "    operator: 39\n",
       "    operands: 40\n",
       "37. k_{1}, k_{2}, ..., k_{m}\n",
       "    core type: ExprRange\n",
       "    lambda_map: 41\n",
       "    start_index: 42\n",
       "    end_index: 43\n",
       "38. NaturalPos\n",
       "    core type: Literal\n",
       "    sub-expressions: \n",
       "39. Exp\n",
       "    core type: Literal\n",
       "    sub-expressions: \n",
       "40. (a, k_{_a})\n",
       "    core type: ExprTuple\n",
       "    sub-expressions: 44, 45\n",
       "41. _a -> k_{_a}\n",
       "    core type: Lambda\n",
       "    parameter: 48\n",
       "    body: 45\n",
       "42. 1\n",
       "    core type: Literal\n",
       "    sub-expressions: \n",
       "43. m\n",
       "    core type: Variable\n",
       "    sub-expressions: \n",
       "44. a\n",
       "    core type: Variable\n",
       "    sub-expressions: \n",
       "45. k_{_a}\n",
       "    core type: IndexedVar\n",
       "variable: 46\n",
       "index: 48\n",
       "46. k\n",
       "    core type: Variable\n",
       "    sub-expressions: \n",
       "47. (_a)\n",
       "    core type: ExprTuple\n",
       "    sub-expressions: 48\n",
       "48. _a\n",
       "    core type: Variable\n",
       "    sub-expressions: "
      ]
     },
     "metadata": {},
     "output_type": "display_data"
    }
   ],
   "source": [
    "# display the expression information\n",
    "stored_expr.expr_info()"
   ]
  },
  {
   "cell_type": "code",
   "execution_count": null,
   "metadata": {},
   "outputs": [],
   "source": []
  }
 ],
 "metadata": {
  "kernelspec": {
   "display_name": "Python 3",
   "language": "python",
   "name": "python3"
  }
 },
 "nbformat": 4,
 "nbformat_minor": 0
}