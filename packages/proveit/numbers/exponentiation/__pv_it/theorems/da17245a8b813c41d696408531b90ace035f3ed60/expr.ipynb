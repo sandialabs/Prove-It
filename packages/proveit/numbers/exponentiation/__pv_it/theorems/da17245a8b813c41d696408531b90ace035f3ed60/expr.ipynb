{
 "cells": [
  {
   "cell_type": "markdown",
   "metadata": {},
   "source": [
    "Expression of type <a class=\"ProveItLink\" href=\"../../../../../../../doc/html/api/proveit.logic.And.html\">And</a>\n",
    "=======================\n",
    "# from the theory of <a class=\"ProveItLink\" href=\"../../../_theory_nbs_/theory.ipynb\">proveit.numbers.exponentiation</a>"
   ]
  },
  {
   "cell_type": "code",
   "execution_count": 1,
   "metadata": {},
   "outputs": [],
   "source": [
    "import proveit\n",
    "# Automation is not needed when building an expression:\n",
    "proveit.defaults.automation = False # This will speed things up.\n",
    "proveit.defaults.inline_pngs = False # Makes files smaller.\n",
    "%load_expr # Load the stored expression as 'stored_expr'\n",
    "# import Expression classes needed to build the expression\n",
    "from proveit import ExprRange, IndexedVar, Variable, a, b, m\n",
    "from proveit.logic import And, InSet\n",
    "from proveit.numbers import Complex, RealPos, one"
   ]
  },
  {
   "cell_type": "code",
   "execution_count": 2,
   "metadata": {},
   "outputs": [
    {
     "data": {
      "text/html": [
       "<strong id=\"expr\">expr:</strong> <a class=\"ProveItLink\" href=\"expr.ipynb\"><img src=\"expr.png\" style=\"display:inline;vertical-align:middle;\" /></a><br>"
      ],
      "text/plain": [
       "<IPython.core.display.HTML object>"
      ]
     },
     "metadata": {},
     "output_type": "display_data"
    }
   ],
   "source": [
    "# build up the expression from sub-expressions\n",
    "sub_expr1 = Variable(\"_a\", latex_format = r\"{_{-}a}\")\n",
    "expr = And(ExprRange(sub_expr1, InSet(IndexedVar(a, sub_expr1), RealPos), one, m), InSet(b, Complex))"
   ]
  },
  {
   "cell_type": "code",
   "execution_count": 3,
   "metadata": {},
   "outputs": [
    {
     "name": "stdout",
     "output_type": "stream",
     "text": [
      "Passed sanity check: expr matches stored_expr\n"
     ]
    }
   ],
   "source": [
    "# check that the built expression is the same as the stored expression\n",
    "assert expr == stored_expr\n",
    "assert expr._style_id == stored_expr._style_id\n",
    "print(\"Passed sanity check: expr matches stored_expr\")"
   ]
  },
  {
   "cell_type": "code",
   "execution_count": 4,
   "metadata": {},
   "outputs": [
    {
     "name": "stdout",
     "output_type": "stream",
     "text": [
      "\\left(a_{1} \\in \\mathbb{R}^+\\right) \\land  \\left(a_{2} \\in \\mathbb{R}^+\\right) \\land  \\ldots \\land  \\left(a_{m} \\in \\mathbb{R}^+\\right) \\land \\left(b \\in \\mathbb{C}\\right)\n"
     ]
    }
   ],
   "source": [
    "# Show the LaTeX representation of the expression for convenience if you need it.\n",
    "print(stored_expr.latex())"
   ]
  },
  {
   "cell_type": "code",
   "execution_count": 5,
   "metadata": {},
   "outputs": [
    {
     "data": {
      "text/html": [
       "<table>\n",
       "<tr><th>name</th><th>description</th><th>default</th><th>current value</th><th>related methods</th></tr><tr><td>operation</td><td>'infix' or 'function' style formatting</td><td>infix</td><td>infix</td><td></td></tr>\n",
       "<tr><td>wrap_positions</td><td>position(s) at which wrapping is to occur; '2 n - 1' is after the nth operand, '2 n' is after the nth operation.</td><td>()</td><td>()</td><td>('with_wrapping_at', 'with_wrap_before_operator', 'with_wrap_after_operator', 'without_wrapping', 'wrap_positions')</td></tr>\n",
       "<tr><td>justification</td><td>if any wrap positions are set, justify to the 'left', 'center', or 'right'</td><td>center</td><td>center</td><td>('with_justification',)</td></tr>\n",
       "</table>\n"
      ],
      "text/plain": [
       "style name: operation\n",
       "description: 'infix' or 'function' style formatting\n",
       "default: infix\n",
       "current value: infix\n",
       "related methods: ()\n",
       "style name: wrap_positions\n",
       "description: position(s) at which wrapping is to occur; '2 n - 1' is after the nth operand, '2 n' is after the nth operation.\n",
       "default: ()\n",
       "current value: ()\n",
       "related methods: ('with_wrapping_at', 'with_wrap_before_operator', 'with_wrap_after_operator', 'without_wrapping', 'wrap_positions')\n",
       "style name: justification\n",
       "description: if any wrap positions are set, justify to the 'left', 'center', or 'right'\n",
       "default: center\n",
       "current value: center\n",
       "related methods: ('with_justification',)"
      ]
     },
     "metadata": {},
     "output_type": "display_data"
    }
   ],
   "source": [
    "stored_expr.style_options()"
   ]
  },
  {
   "cell_type": "code",
   "execution_count": 6,
   "metadata": {},
   "outputs": [
    {
     "data": {
      "text/html": [
       "<table><tr><th>&nbsp;</th><th>core type</th><th>sub-expressions</th><th>expression</th></tr>\n",
       "<tr><td>0</td><td>Operation</td><td>operator:&nbsp;1<br>operands:&nbsp;2<br></td><td><a class=\"ProveItLink\" href=\"expr.ipynb\"><img src=\"expr.png\" style=\"display:inline;vertical-align:middle;\" /></a></td></tr>\n",
       "<tr><td>1</td><td>Literal</td><td></td><td><a class=\"ProveItLink\" href=\"../../../../../logic/booleans/conjunction/__pv_it/common/42118ff318bd65d98b1393f64ce7c2269feef76e0/expr.ipynb\"><img src=\"../../../../../logic/booleans/conjunction/__pv_it/common/42118ff318bd65d98b1393f64ce7c2269feef76e0/expr.png\" style=\"display:inline;vertical-align:middle;\" /></a></td></tr>\n",
       "<tr><td>2</td><td>ExprTuple</td><td>3, 4</td><td><a class=\"ProveItLink\" href=\"../e1c985eb14549b34d06c50b96c279f0589da6fd90/expr.ipynb\"><img src=\"../e1c985eb14549b34d06c50b96c279f0589da6fd90/expr.png\" style=\"display:inline;vertical-align:middle;\" /></a></td></tr>\n",
       "<tr><td>3</td><td>ExprRange</td><td>lambda_map:&nbsp;5<br>start_index:&nbsp;6<br>end_index:&nbsp;7<br></td><td><a class=\"ProveItLink\" href=\"../8fd389fb57cb1edc121850821d6f779eca51ed7a0/expr.ipynb\"><img src=\"../8fd389fb57cb1edc121850821d6f779eca51ed7a0/expr.png\" style=\"display:inline;vertical-align:middle;\" /></a></td></tr>\n",
       "<tr><td>4</td><td>Operation</td><td>operator:&nbsp;12<br>operands:&nbsp;8<br></td><td><a class=\"ProveItLink\" href=\"../a259ec76dfb0a5be60b7c83d797520fa82c1dba60/expr.ipynb\"><img src=\"../a259ec76dfb0a5be60b7c83d797520fa82c1dba60/expr.png\" style=\"display:inline;vertical-align:middle;\" /></a></td></tr>\n",
       "<tr><td>5</td><td>Lambda</td><td>parameter:&nbsp;18<br>body:&nbsp;9<br></td><td><a class=\"ProveItLink\" href=\"../a5096e9161ef7cac2b699b87d36bb8f00e1fb9960/expr.ipynb\"><img src=\"../a5096e9161ef7cac2b699b87d36bb8f00e1fb9960/expr.png\" style=\"display:inline;vertical-align:middle;\" /></a></td></tr>\n",
       "<tr><td>6</td><td>Literal</td><td></td><td><a class=\"ProveItLink\" href=\"../../../../numerals/__pv_it/common/682157d4892d216d9e5626ed533aff9b56b9506e0/expr.ipynb\"><img src=\"../../../../numerals/__pv_it/common/682157d4892d216d9e5626ed533aff9b56b9506e0/expr.png\" style=\"display:inline;vertical-align:middle;\" /></a></td></tr>\n",
       "<tr><td>7</td><td>Variable</td><td></td><td><a class=\"ProveItLink\" href=\"../../../../../__pv_it/common/674a03b9c3ca221b3aabd5636837b31528ff33830/expr.ipynb\"><img src=\"../../../../../__pv_it/common/674a03b9c3ca221b3aabd5636837b31528ff33830/expr.png\" style=\"display:inline;vertical-align:middle;\" /></a></td></tr>\n",
       "<tr><td>8</td><td>ExprTuple</td><td>10, 11</td><td><a class=\"ProveItLink\" href=\"../4a72a986c458b001a667c5069838c28cc69c8d280/expr.ipynb\"><img src=\"../4a72a986c458b001a667c5069838c28cc69c8d280/expr.png\" style=\"display:inline;vertical-align:middle;\" /></a></td></tr>\n",
       "<tr><td>9</td><td>Operation</td><td>operator:&nbsp;12<br>operands:&nbsp;13<br></td><td><a class=\"ProveItLink\" href=\"../3a7d95da32c2e7fe26d84073f12bec6c019a5cf40/expr.ipynb\"><img src=\"../3a7d95da32c2e7fe26d84073f12bec6c019a5cf40/expr.png\" style=\"display:inline;vertical-align:middle;\" /></a></td></tr>\n",
       "<tr><td>10</td><td>Variable</td><td></td><td><a class=\"ProveItLink\" href=\"../../../../../__pv_it/common/195236b98c6c564a75b5dbada74b173bc52d5c3e0/expr.ipynb\"><img src=\"../../../../../__pv_it/common/195236b98c6c564a75b5dbada74b173bc52d5c3e0/expr.png\" style=\"display:inline;vertical-align:middle;\" /></a></td></tr>\n",
       "<tr><td>11</td><td>Literal</td><td></td><td><a class=\"ProveItLink\" href=\"../../../../number_sets/complex_numbers/__pv_it/common/d18a028138f659eda00de597c28a3447fe87eb100/expr.ipynb\"><img src=\"../../../../number_sets/complex_numbers/__pv_it/common/d18a028138f659eda00de597c28a3447fe87eb100/expr.png\" style=\"display:inline;vertical-align:middle;\" /></a></td></tr>\n",
       "<tr><td>12</td><td>Literal</td><td></td><td><a class=\"ProveItLink\" href=\"../../../../../logic/sets/membership/__pv_it/common/477487d8796864d23d5810f83761435f25167f690/expr.ipynb\"><img src=\"../../../../../logic/sets/membership/__pv_it/common/477487d8796864d23d5810f83761435f25167f690/expr.png\" style=\"display:inline;vertical-align:middle;\" /></a></td></tr>\n",
       "<tr><td>13</td><td>ExprTuple</td><td>14, 15</td><td><a class=\"ProveItLink\" href=\"../09eb600a5b41b2f8a2704ef9265f06b77163487b0/expr.ipynb\"><img src=\"../09eb600a5b41b2f8a2704ef9265f06b77163487b0/expr.png\" style=\"display:inline;vertical-align:middle;\" /></a></td></tr>\n",
       "<tr><td>14</td><td>IndexedVar</td><td>variable:&nbsp;16<br>index:&nbsp;18<br></td><td><a class=\"ProveItLink\" href=\"../../../../../core_expr_types/__pv_it/common/3a62c13e156d62d52fe585fa37cc2172fcf685260/expr.ipynb\"><img src=\"../../../../../core_expr_types/__pv_it/common/3a62c13e156d62d52fe585fa37cc2172fcf685260/expr.png\" style=\"display:inline;vertical-align:middle;\" /></a></td></tr>\n",
       "<tr><td>15</td><td>Literal</td><td></td><td><a class=\"ProveItLink\" href=\"../../../../number_sets/real_numbers/__pv_it/common/174917e13d50b91c585b7f765a2896383a3ae8010/expr.ipynb\"><img src=\"../../../../number_sets/real_numbers/__pv_it/common/174917e13d50b91c585b7f765a2896383a3ae8010/expr.png\" style=\"display:inline;vertical-align:middle;\" /></a></td></tr>\n",
       "<tr><td>16</td><td>Variable</td><td></td><td><a class=\"ProveItLink\" href=\"../../../../../__pv_it/common/c06c606ec12678c58933ac85412ecadc2ae28be60/expr.ipynb\"><img src=\"../../../../../__pv_it/common/c06c606ec12678c58933ac85412ecadc2ae28be60/expr.png\" style=\"display:inline;vertical-align:middle;\" /></a></td></tr>\n",
       "<tr><td>17</td><td>ExprTuple</td><td>18</td><td><a class=\"ProveItLink\" href=\"../../../../../core_expr_types/__pv_it/common/4b0dd6be36d76552eda6a95d5b4a27f5a5b62f900/expr.ipynb\"><img src=\"../../../../../core_expr_types/__pv_it/common/4b0dd6be36d76552eda6a95d5b4a27f5a5b62f900/expr.png\" style=\"display:inline;vertical-align:middle;\" /></a></td></tr>\n",
       "<tr><td>18</td><td>Variable</td><td></td><td><a class=\"ProveItLink\" href=\"../../../../../core_expr_types/__pv_it/common/006c465e50948aa2b52285e2de47974f741255cc0/expr.ipynb\"><img src=\"../../../../../core_expr_types/__pv_it/common/006c465e50948aa2b52285e2de47974f741255cc0/expr.png\" style=\"display:inline;vertical-align:middle;\" /></a></td></tr>\n",
       "</table>\n"
      ],
      "text/plain": [
       "0. (a_{1} in RealPos) and  (a_{2} in RealPos) and  ... and  (a_{m} in RealPos) and (b in Complex)\n",
       "   core type: Operation\n",
       "   operator: 1\n",
       "   operands: 2\n",
       "1. and\n",
       "   core type: Literal\n",
       "   sub-expressions: \n",
       "2. ((a_{1} in RealPos), (a_{2} in RealPos), ..., (a_{m} in RealPos), b in Complex)\n",
       "   core type: ExprTuple\n",
       "   sub-expressions: 3, 4\n",
       "3. (a_{1} in RealPos), (a_{2} in RealPos), ..., (a_{m} in RealPos)\n",
       "   core type: ExprRange\n",
       "   lambda_map: 5\n",
       "   start_index: 6\n",
       "   end_index: 7\n",
       "4. b in Complex\n",
       "   core type: Operation\n",
       "   operator: 12\n",
       "   operands: 8\n",
       "5. _a -> (a_{_a} in RealPos)\n",
       "   core type: Lambda\n",
       "   parameter: 18\n",
       "   body: 9\n",
       "6. 1\n",
       "   core type: Literal\n",
       "   sub-expressions: \n",
       "7. m\n",
       "   core type: Variable\n",
       "   sub-expressions: \n",
       "8. (b, Complex)\n",
       "   core type: ExprTuple\n",
       "   sub-expressions: 10, 11\n",
       "9. a_{_a} in RealPos\n",
       "   core type: Operation\n",
       "   operator: 12\n",
       "   operands: 13\n",
       "10. b\n",
       "    core type: Variable\n",
       "    sub-expressions: \n",
       "11. Complex\n",
       "    core type: Literal\n",
       "    sub-expressions: \n",
       "12. in\n",
       "    core type: Literal\n",
       "    sub-expressions: \n",
       "13. (a_{_a}, RealPos)\n",
       "    core type: ExprTuple\n",
       "    sub-expressions: 14, 15\n",
       "14. a_{_a}\n",
       "    core type: IndexedVar\n",
       "variable: 16\n",
       "index: 18\n",
       "15. RealPos\n",
       "    core type: Literal\n",
       "    sub-expressions: \n",
       "16. a\n",
       "    core type: Variable\n",
       "    sub-expressions: \n",
       "17. (_a)\n",
       "    core type: ExprTuple\n",
       "    sub-expressions: 18\n",
       "18. _a\n",
       "    core type: Variable\n",
       "    sub-expressions: "
      ]
     },
     "metadata": {},
     "output_type": "display_data"
    }
   ],
   "source": [
    "# display the expression information\n",
    "stored_expr.expr_info()"
   ]
  },
  {
   "cell_type": "code",
   "execution_count": null,
   "metadata": {},
   "outputs": [],
   "source": []
  }
 ],
 "metadata": {
  "kernelspec": {
   "display_name": "Python 3",
   "language": "python",
   "name": "python3"
  }
 },
 "nbformat": 4,
 "nbformat_minor": 0
}