{
 "cells": [
  {
   "cell_type": "markdown",
   "metadata": {},
   "source": [
    "Expression of type <a class=\"ProveItLink\" href=\"../../../../../../../doc/html/api/proveit.ExprTuple.html\">ExprTuple</a>\n",
    "=======================\n",
    "# from the theory of <a class=\"ProveItLink\" href=\"../../../_theory_nbs_/theory.ipynb\">proveit.numbers.exponentiation</a>"
   ]
  },
  {
   "cell_type": "code",
   "execution_count": 1,
   "metadata": {},
   "outputs": [],
   "source": [
    "import proveit\n",
    "# Automation is not needed when building an expression:\n",
    "proveit.defaults.automation = False # This will speed things up.\n",
    "proveit.defaults.inline_pngs = False # Makes files smaller.\n",
    "%load_expr # Load the stored expression as 'stored_expr'\n",
    "# import Expression classes needed to build the expression\n",
    "from proveit import Conditional, ExprTuple, Lambda, b, m\n",
    "from proveit.core_expr_types import a_1_to_m\n",
    "from proveit.logic import Equals, Forall, InSet\n",
    "from proveit.numbers import Complex, Exp, Mult, NaturalPos, RealPos\n",
    "from proveit.numbers.exponentiation import prod_ai_raise_b__1_to_m"
   ]
  },
  {
   "cell_type": "code",
   "execution_count": 2,
   "metadata": {},
   "outputs": [
    {
     "data": {
      "text/html": [
       "<strong id=\"expr\">expr:</strong> <a class=\"ProveItLink\" href=\"expr.ipynb\"><img src=\"expr.png\" style=\"display:inline;vertical-align:middle;\" /></a><br>"
      ],
      "text/plain": [
       "<IPython.core.display.HTML object>"
      ]
     },
     "metadata": {},
     "output_type": "display_data"
    }
   ],
   "source": [
    "# build up the expression from sub-expressions\n",
    "expr = ExprTuple(Lambda(m, Conditional(Forall(instance_param_or_params = [a_1_to_m, b], instance_expr = Equals(Exp(Mult(a_1_to_m), b), prod_ai_raise_b__1_to_m), domains = [Complex, RealPos]), InSet(m, NaturalPos))))"
   ]
  },
  {
   "cell_type": "code",
   "execution_count": 3,
   "metadata": {},
   "outputs": [
    {
     "name": "stdout",
     "output_type": "stream",
     "text": [
      "Passed sanity check: expr matches stored_expr\n"
     ]
    }
   ],
   "source": [
    "# check that the built expression is the same as the stored expression\n",
    "assert expr == stored_expr\n",
    "assert expr._style_id == stored_expr._style_id\n",
    "print(\"Passed sanity check: expr matches stored_expr\")"
   ]
  },
  {
   "cell_type": "code",
   "execution_count": 4,
   "metadata": {},
   "outputs": [
    {
     "name": "stdout",
     "output_type": "stream",
     "text": [
      "\\left(m \\mapsto \\left\\{\\forall_{\\left(a_{1} \\in \\mathbb{C}\\right), \\left(a_{2} \\in \\mathbb{C}\\right), \\ldots, \\left(a_{m} \\in \\mathbb{C}\\right), b \\in \\mathbb{R}^+}~\\left(\\left(a_{1} \\cdot  a_{2} \\cdot  \\ldots \\cdot  a_{m}\\right)^{b} = \\left(\\left(a_{1}\\right)^{b} \\cdot  \\left(a_{2}\\right)^{b} \\cdot  \\ldots \\cdot  \\left(a_{m}\\right)^{b}\\right)\\right) \\textrm{ if } m \\in \\mathbb{N}^+\\right..\\right)\n"
     ]
    }
   ],
   "source": [
    "# Show the LaTeX representation of the expression for convenience if you need it.\n",
    "print(stored_expr.latex())"
   ]
  },
  {
   "cell_type": "code",
   "execution_count": 5,
   "metadata": {},
   "outputs": [
    {
     "data": {
      "text/html": [
       "no style options"
      ],
      "text/plain": [
       "no style options"
      ]
     },
     "metadata": {},
     "output_type": "display_data"
    }
   ],
   "source": [
    "stored_expr.style_options()"
   ]
  },
  {
   "cell_type": "code",
   "execution_count": 6,
   "metadata": {},
   "outputs": [
    {
     "data": {
      "text/html": [
       "<table><tr><th>&nbsp;</th><th>core type</th><th>sub-expressions</th><th>expression</th></tr>\n",
       "<tr><td>0</td><td>ExprTuple</td><td>1</td><td><a class=\"ProveItLink\" href=\"expr.ipynb\"><img src=\"expr.png\" style=\"display:inline;vertical-align:middle;\" /></a></td></tr>\n",
       "<tr><td>1</td><td>Lambda</td><td>parameter:&nbsp;41<br>body:&nbsp;3<br></td><td><a class=\"ProveItLink\" href=\"../3a98ba0df136e7e3057c2505c46295d985b53ea20/expr.ipynb\"><img src=\"../3a98ba0df136e7e3057c2505c46295d985b53ea20/expr.png\" style=\"display:inline;vertical-align:middle;\" /></a></td></tr>\n",
       "<tr><td>2</td><td>ExprTuple</td><td>41</td><td><a class=\"ProveItLink\" href=\"../2ed45ad9602ac89076225577ef477d88f8c5a1790/expr.ipynb\"><img src=\"../2ed45ad9602ac89076225577ef477d88f8c5a1790/expr.png\" style=\"display:inline;vertical-align:middle;\" /></a></td></tr>\n",
       "<tr><td>3</td><td>Conditional</td><td>value:&nbsp;4<br>condition:&nbsp;5<br></td><td><a class=\"ProveItLink\" href=\"../36dc96f17311acc28c2087e73b8cec84bd3976ac0/expr.ipynb\"><img src=\"../36dc96f17311acc28c2087e73b8cec84bd3976ac0/expr.png\" style=\"display:inline;vertical-align:middle;\" /></a></td></tr>\n",
       "<tr><td>4</td><td>Operation</td><td>operator:&nbsp;6<br>operand:&nbsp;9<br></td><td><a class=\"ProveItLink\" href=\"../2d27b6fc01b01bcb82210590eee0429f8e6e45bd0/expr.ipynb\"><img src=\"../2d27b6fc01b01bcb82210590eee0429f8e6e45bd0/expr.png\" style=\"display:inline;vertical-align:middle;\" /></a></td></tr>\n",
       "<tr><td>5</td><td>Operation</td><td>operator:&nbsp;34<br>operands:&nbsp;8<br></td><td><a class=\"ProveItLink\" href=\"../79a768603778550c651661670153c27ee0a505870/expr.ipynb\"><img src=\"../79a768603778550c651661670153c27ee0a505870/expr.png\" style=\"display:inline;vertical-align:middle;\" /></a></td></tr>\n",
       "<tr><td>6</td><td>Literal</td><td></td><td><a class=\"ProveItLink\" href=\"../../../../../logic/booleans/quantification/universality/__pv_it/common/083d2baa0b8ecab1d230f9ec29a15aa1355809fb0/expr.ipynb\"><img src=\"../../../../../logic/booleans/quantification/universality/__pv_it/common/083d2baa0b8ecab1d230f9ec29a15aa1355809fb0/expr.png\" style=\"display:inline;vertical-align:middle;\" /></a></td></tr>\n",
       "<tr><td>7</td><td>ExprTuple</td><td>9</td><td><a class=\"ProveItLink\" href=\"../06c68f1a5e26a6fcab899297435e13a9adfadfc60/expr.ipynb\"><img src=\"../06c68f1a5e26a6fcab899297435e13a9adfadfc60/expr.png\" style=\"display:inline;vertical-align:middle;\" /></a></td></tr>\n",
       "<tr><td>8</td><td>ExprTuple</td><td>41, 10</td><td><a class=\"ProveItLink\" href=\"../0aafde61e876ad81c8138546f58d9459d893af050/expr.ipynb\"><img src=\"../0aafde61e876ad81c8138546f58d9459d893af050/expr.png\" style=\"display:inline;vertical-align:middle;\" /></a></td></tr>\n",
       "<tr><td>9</td><td>Lambda</td><td>parameters:&nbsp;11<br>body:&nbsp;12<br></td><td><a class=\"ProveItLink\" href=\"../4097f0a5b102cfd029f825efff60175acd11d1cd0/expr.ipynb\"><img src=\"../4097f0a5b102cfd029f825efff60175acd11d1cd0/expr.png\" style=\"display:inline;vertical-align:middle;\" /></a></td></tr>\n",
       "<tr><td>10</td><td>Literal</td><td></td><td><a class=\"ProveItLink\" href=\"../../../../number_sets/natural_numbers/__pv_it/common/6111329435c43892c831c4793de96afbf80bdb3e0/expr.ipynb\"><img src=\"../../../../number_sets/natural_numbers/__pv_it/common/6111329435c43892c831c4793de96afbf80bdb3e0/expr.png\" style=\"display:inline;vertical-align:middle;\" /></a></td></tr>\n",
       "<tr><td>11</td><td>ExprTuple</td><td>36, 45</td><td><a class=\"ProveItLink\" href=\"../19405cf9df803d16ed6fce045569317b6e0f67e20/expr.ipynb\"><img src=\"../19405cf9df803d16ed6fce045569317b6e0f67e20/expr.png\" style=\"display:inline;vertical-align:middle;\" /></a></td></tr>\n",
       "<tr><td>12</td><td>Conditional</td><td>value:&nbsp;13<br>condition:&nbsp;14<br></td><td><a class=\"ProveItLink\" href=\"../f265859341604e6b560727975d848246021b384b0/expr.ipynb\"><img src=\"../f265859341604e6b560727975d848246021b384b0/expr.png\" style=\"display:inline;vertical-align:middle;\" /></a></td></tr>\n",
       "<tr><td>13</td><td>Operation</td><td>operator:&nbsp;15<br>operands:&nbsp;16<br></td><td><a class=\"ProveItLink\" href=\"../98b48950fc30f044ce43f1a7212c8676959fe1b90/expr.ipynb\"><img src=\"../98b48950fc30f044ce43f1a7212c8676959fe1b90/expr.png\" style=\"display:inline;vertical-align:middle;\" /></a></td></tr>\n",
       "<tr><td>14</td><td>Operation</td><td>operator:&nbsp;17<br>operands:&nbsp;18<br></td><td><a class=\"ProveItLink\" href=\"../cd421880deece750ab52659a630e48149792578f0/expr.ipynb\"><img src=\"../cd421880deece750ab52659a630e48149792578f0/expr.png\" style=\"display:inline;vertical-align:middle;\" /></a></td></tr>\n",
       "<tr><td>15</td><td>Literal</td><td></td><td><a class=\"ProveItLink\" href=\"../../../../../logic/equality/__pv_it/common/fb96dc12b2aa8801dda64d0132b396c63d1502bb0/expr.ipynb\"><img src=\"../../../../../logic/equality/__pv_it/common/fb96dc12b2aa8801dda64d0132b396c63d1502bb0/expr.png\" style=\"display:inline;vertical-align:middle;\" /></a></td></tr>\n",
       "<tr><td>16</td><td>ExprTuple</td><td>19, 20</td><td><a class=\"ProveItLink\" href=\"../66d5e173ddb03bf67e18ef7aa91f72c94bb784770/expr.ipynb\"><img src=\"../66d5e173ddb03bf67e18ef7aa91f72c94bb784770/expr.png\" style=\"display:inline;vertical-align:middle;\" /></a></td></tr>\n",
       "<tr><td>17</td><td>Literal</td><td></td><td><a class=\"ProveItLink\" href=\"../../../../../logic/booleans/conjunction/__pv_it/common/42118ff318bd65d98b1393f64ce7c2269feef76e0/expr.ipynb\"><img src=\"../../../../../logic/booleans/conjunction/__pv_it/common/42118ff318bd65d98b1393f64ce7c2269feef76e0/expr.png\" style=\"display:inline;vertical-align:middle;\" /></a></td></tr>\n",
       "<tr><td>18</td><td>ExprTuple</td><td>21, 22</td><td><a class=\"ProveItLink\" href=\"../f9c34f313b8b84b432295e112a6972265459b0330/expr.ipynb\"><img src=\"../f9c34f313b8b84b432295e112a6972265459b0330/expr.png\" style=\"display:inline;vertical-align:middle;\" /></a></td></tr>\n",
       "<tr><td>19</td><td>Operation</td><td>operator:&nbsp;42<br>operands:&nbsp;23<br></td><td><a class=\"ProveItLink\" href=\"../af5667315983541a614c2c2deb90d719229a0a440/expr.ipynb\"><img src=\"../af5667315983541a614c2c2deb90d719229a0a440/expr.png\" style=\"display:inline;vertical-align:middle;\" /></a></td></tr>\n",
       "<tr><td>20</td><td>Operation</td><td>operator:&nbsp;31<br>operands:&nbsp;24<br></td><td><a class=\"ProveItLink\" href=\"../../common/b4ead9ad946dc97a1fb1851eac732c0b938608860/expr.ipynb\"><img src=\"../../common/b4ead9ad946dc97a1fb1851eac732c0b938608860/expr.png\" style=\"display:inline;vertical-align:middle;\" /></a></td></tr>\n",
       "<tr><td>21</td><td>ExprRange</td><td>lambda_map:&nbsp;25<br>start_index:&nbsp;40<br>end_index:&nbsp;41<br></td><td><a class=\"ProveItLink\" href=\"../47171654d49ac5d84249398ece5b1bb47e87284d0/expr.ipynb\"><img src=\"../47171654d49ac5d84249398ece5b1bb47e87284d0/expr.png\" style=\"display:inline;vertical-align:middle;\" /></a></td></tr>\n",
       "<tr><td>22</td><td>Operation</td><td>operator:&nbsp;34<br>operands:&nbsp;26<br></td><td><a class=\"ProveItLink\" href=\"../b9cae19a628b9412bdeba3850806ec1015c9b6ae0/expr.ipynb\"><img src=\"../b9cae19a628b9412bdeba3850806ec1015c9b6ae0/expr.png\" style=\"display:inline;vertical-align:middle;\" /></a></td></tr>\n",
       "<tr><td>23</td><td>ExprTuple</td><td>27, 45</td><td><a class=\"ProveItLink\" href=\"../618c21447fbdf0bc307f2578322b5f03b246cf860/expr.ipynb\"><img src=\"../618c21447fbdf0bc307f2578322b5f03b246cf860/expr.png\" style=\"display:inline;vertical-align:middle;\" /></a></td></tr>\n",
       "<tr><td>24</td><td>ExprTuple</td><td>28</td><td><a class=\"ProveItLink\" href=\"../../common/d0468ee9129d68d9d1dfe75b0339ec2e85f8733f0/expr.ipynb\"><img src=\"../../common/d0468ee9129d68d9d1dfe75b0339ec2e85f8733f0/expr.png\" style=\"display:inline;vertical-align:middle;\" /></a></td></tr>\n",
       "<tr><td>25</td><td>Lambda</td><td>parameter:&nbsp;48<br>body:&nbsp;29<br></td><td><a class=\"ProveItLink\" href=\"../5c5d2db4e62eeb1316594489c9dc78d764404c220/expr.ipynb\"><img src=\"../5c5d2db4e62eeb1316594489c9dc78d764404c220/expr.png\" style=\"display:inline;vertical-align:middle;\" /></a></td></tr>\n",
       "<tr><td>26</td><td>ExprTuple</td><td>45, 30</td><td><a class=\"ProveItLink\" href=\"../4598f62725ee740d437c9ad77c5dd6053b8621080/expr.ipynb\"><img src=\"../4598f62725ee740d437c9ad77c5dd6053b8621080/expr.png\" style=\"display:inline;vertical-align:middle;\" /></a></td></tr>\n",
       "<tr><td>27</td><td>Operation</td><td>operator:&nbsp;31<br>operands:&nbsp;32<br></td><td><a class=\"ProveItLink\" href=\"../5ef641d57c2f1acad32fffebe02df4ad01ccfca10/expr.ipynb\"><img src=\"../5ef641d57c2f1acad32fffebe02df4ad01ccfca10/expr.png\" style=\"display:inline;vertical-align:middle;\" /></a></td></tr>\n",
       "<tr><td>28</td><td>ExprRange</td><td>lambda_map:&nbsp;33<br>start_index:&nbsp;40<br>end_index:&nbsp;41<br></td><td><a class=\"ProveItLink\" href=\"../../common/71d7f669e1eac120b30a9f58e064871916c78d870/expr.ipynb\"><img src=\"../../common/71d7f669e1eac120b30a9f58e064871916c78d870/expr.png\" style=\"display:inline;vertical-align:middle;\" /></a></td></tr>\n",
       "<tr><td>29</td><td>Operation</td><td>operator:&nbsp;34<br>operands:&nbsp;35<br></td><td><a class=\"ProveItLink\" href=\"../99217926884f96534bb8eb1bd6e3cfdfb7161e620/expr.ipynb\"><img src=\"../99217926884f96534bb8eb1bd6e3cfdfb7161e620/expr.png\" style=\"display:inline;vertical-align:middle;\" /></a></td></tr>\n",
       "<tr><td>30</td><td>Literal</td><td></td><td><a class=\"ProveItLink\" href=\"../../../../number_sets/real_numbers/__pv_it/common/174917e13d50b91c585b7f765a2896383a3ae8010/expr.ipynb\"><img src=\"../../../../number_sets/real_numbers/__pv_it/common/174917e13d50b91c585b7f765a2896383a3ae8010/expr.png\" style=\"display:inline;vertical-align:middle;\" /></a></td></tr>\n",
       "<tr><td>31</td><td>Literal</td><td></td><td><a class=\"ProveItLink\" href=\"../../../../multiplication/__pv_it/common/ed719cef37831779c16481533a4d380a2f95ab270/expr.ipynb\"><img src=\"../../../../multiplication/__pv_it/common/ed719cef37831779c16481533a4d380a2f95ab270/expr.png\" style=\"display:inline;vertical-align:middle;\" /></a></td></tr>\n",
       "<tr><td>32</td><td>ExprTuple</td><td>36</td><td><a class=\"ProveItLink\" href=\"../4a3affb8d94ea09e09cb392a1a13d01844a34d250/expr.ipynb\"><img src=\"../4a3affb8d94ea09e09cb392a1a13d01844a34d250/expr.png\" style=\"display:inline;vertical-align:middle;\" /></a></td></tr>\n",
       "<tr><td>33</td><td>Lambda</td><td>parameter:&nbsp;48<br>body:&nbsp;37<br></td><td><a class=\"ProveItLink\" href=\"../../common/8cceb7d5302a8e87bb4095cb78784125bef19fc30/expr.ipynb\"><img src=\"../../common/8cceb7d5302a8e87bb4095cb78784125bef19fc30/expr.png\" style=\"display:inline;vertical-align:middle;\" /></a></td></tr>\n",
       "<tr><td>34</td><td>Literal</td><td></td><td><a class=\"ProveItLink\" href=\"../../../../../logic/sets/membership/__pv_it/common/477487d8796864d23d5810f83761435f25167f690/expr.ipynb\"><img src=\"../../../../../logic/sets/membership/__pv_it/common/477487d8796864d23d5810f83761435f25167f690/expr.png\" style=\"display:inline;vertical-align:middle;\" /></a></td></tr>\n",
       "<tr><td>35</td><td>ExprTuple</td><td>44, 38</td><td><a class=\"ProveItLink\" href=\"../ce93d50dac6e6e7831954e956696a52de96f364a0/expr.ipynb\"><img src=\"../ce93d50dac6e6e7831954e956696a52de96f364a0/expr.png\" style=\"display:inline;vertical-align:middle;\" /></a></td></tr>\n",
       "<tr><td>36</td><td>ExprRange</td><td>lambda_map:&nbsp;39<br>start_index:&nbsp;40<br>end_index:&nbsp;41<br></td><td><a class=\"ProveItLink\" href=\"../../../../../core_expr_types/__pv_it/common/1b82bfd6d142c0dcddaa042c515eb9e5527f4b990/expr.ipynb\"><img src=\"../../../../../core_expr_types/__pv_it/common/1b82bfd6d142c0dcddaa042c515eb9e5527f4b990/expr.png\" style=\"display:inline;vertical-align:middle;\" /></a></td></tr>\n",
       "<tr><td>37</td><td>Operation</td><td>operator:&nbsp;42<br>operands:&nbsp;43<br></td><td><a class=\"ProveItLink\" href=\"../../common/030575de5a669d21f675b85333e4be3ce8c6da2a0/expr.ipynb\"><img src=\"../../common/030575de5a669d21f675b85333e4be3ce8c6da2a0/expr.png\" style=\"display:inline;vertical-align:middle;\" /></a></td></tr>\n",
       "<tr><td>38</td><td>Literal</td><td></td><td><a class=\"ProveItLink\" href=\"../../../../number_sets/complex_numbers/__pv_it/common/d18a028138f659eda00de597c28a3447fe87eb100/expr.ipynb\"><img src=\"../../../../number_sets/complex_numbers/__pv_it/common/d18a028138f659eda00de597c28a3447fe87eb100/expr.png\" style=\"display:inline;vertical-align:middle;\" /></a></td></tr>\n",
       "<tr><td>39</td><td>Lambda</td><td>parameter:&nbsp;48<br>body:&nbsp;44<br></td><td><a class=\"ProveItLink\" href=\"../../../../../core_expr_types/__pv_it/common/1527ad383e12f9c6ed6b371c9a7dd1892d80da1b0/expr.ipynb\"><img src=\"../../../../../core_expr_types/__pv_it/common/1527ad383e12f9c6ed6b371c9a7dd1892d80da1b0/expr.png\" style=\"display:inline;vertical-align:middle;\" /></a></td></tr>\n",
       "<tr><td>40</td><td>Literal</td><td></td><td><a class=\"ProveItLink\" href=\"../../../../numerals/__pv_it/common/682157d4892d216d9e5626ed533aff9b56b9506e0/expr.ipynb\"><img src=\"../../../../numerals/__pv_it/common/682157d4892d216d9e5626ed533aff9b56b9506e0/expr.png\" style=\"display:inline;vertical-align:middle;\" /></a></td></tr>\n",
       "<tr><td>41</td><td>Variable</td><td></td><td><a class=\"ProveItLink\" href=\"../../../../../__pv_it/common/674a03b9c3ca221b3aabd5636837b31528ff33830/expr.ipynb\"><img src=\"../../../../../__pv_it/common/674a03b9c3ca221b3aabd5636837b31528ff33830/expr.png\" style=\"display:inline;vertical-align:middle;\" /></a></td></tr>\n",
       "<tr><td>42</td><td>Literal</td><td></td><td><a class=\"ProveItLink\" href=\"../../common/0ac37aca1e54c35c5cda09672df32d4f69f1f3020/expr.ipynb\"><img src=\"../../common/0ac37aca1e54c35c5cda09672df32d4f69f1f3020/expr.png\" style=\"display:inline;vertical-align:middle;\" /></a></td></tr>\n",
       "<tr><td>43</td><td>ExprTuple</td><td>44, 45</td><td><a class=\"ProveItLink\" href=\"../../common/fdde49ba2f86775a3e2723a81a0baa63c94368a80/expr.ipynb\"><img src=\"../../common/fdde49ba2f86775a3e2723a81a0baa63c94368a80/expr.png\" style=\"display:inline;vertical-align:middle;\" /></a></td></tr>\n",
       "<tr><td>44</td><td>IndexedVar</td><td>variable:&nbsp;46<br>index:&nbsp;48<br></td><td><a class=\"ProveItLink\" href=\"../../common/3a62c13e156d62d52fe585fa37cc2172fcf685260/expr.ipynb\"><img src=\"../../common/3a62c13e156d62d52fe585fa37cc2172fcf685260/expr.png\" style=\"display:inline;vertical-align:middle;\" /></a></td></tr>\n",
       "<tr><td>45</td><td>Variable</td><td></td><td><a class=\"ProveItLink\" href=\"../../../../../__pv_it/common/195236b98c6c564a75b5dbada74b173bc52d5c3e0/expr.ipynb\"><img src=\"../../../../../__pv_it/common/195236b98c6c564a75b5dbada74b173bc52d5c3e0/expr.png\" style=\"display:inline;vertical-align:middle;\" /></a></td></tr>\n",
       "<tr><td>46</td><td>Variable</td><td></td><td><a class=\"ProveItLink\" href=\"../../../../../__pv_it/common/c06c606ec12678c58933ac85412ecadc2ae28be60/expr.ipynb\"><img src=\"../../../../../__pv_it/common/c06c606ec12678c58933ac85412ecadc2ae28be60/expr.png\" style=\"display:inline;vertical-align:middle;\" /></a></td></tr>\n",
       "<tr><td>47</td><td>ExprTuple</td><td>48</td><td><a class=\"ProveItLink\" href=\"../../common/4b0dd6be36d76552eda6a95d5b4a27f5a5b62f900/expr.ipynb\"><img src=\"../../common/4b0dd6be36d76552eda6a95d5b4a27f5a5b62f900/expr.png\" style=\"display:inline;vertical-align:middle;\" /></a></td></tr>\n",
       "<tr><td>48</td><td>Variable</td><td></td><td><a class=\"ProveItLink\" href=\"../../common/006c465e50948aa2b52285e2de47974f741255cc0/expr.ipynb\"><img src=\"../../common/006c465e50948aa2b52285e2de47974f741255cc0/expr.png\" style=\"display:inline;vertical-align:middle;\" /></a></td></tr>\n",
       "</table>\n"
      ],
      "text/plain": [
       "0. (m -> {forall_{(a_{1} in Complex), (a_{2} in Complex), ..., (a_{m} in Complex), b in RealPos} ((a_{1} *  a_{2} *  ... *  a_{m})^{b} = ((a_{1})^{b} *  (a_{2})^{b} *  ... *  (a_{m})^{b})) if m in NaturalPos.)\n",
       "   core type: ExprTuple\n",
       "   sub-expressions: 1\n",
       "1. m -> {forall_{(a_{1} in Complex), (a_{2} in Complex), ..., (a_{m} in Complex), b in RealPos} ((a_{1} *  a_{2} *  ... *  a_{m})^{b} = ((a_{1})^{b} *  (a_{2})^{b} *  ... *  (a_{m})^{b})) if m in NaturalPos.\n",
       "   core type: Lambda\n",
       "   parameter: 41\n",
       "   body: 3\n",
       "2. (m)\n",
       "   core type: ExprTuple\n",
       "   sub-expressions: 41\n",
       "3. {forall_{(a_{1} in Complex), (a_{2} in Complex), ..., (a_{m} in Complex), b in RealPos} ((a_{1} *  a_{2} *  ... *  a_{m})^{b} = ((a_{1})^{b} *  (a_{2})^{b} *  ... *  (a_{m})^{b})) if m in NaturalPos.\n",
       "   core type: Conditional\n",
       "   value: 4\n",
       "   condition: 5\n",
       "4. forall_{(a_{1} in Complex), (a_{2} in Complex), ..., (a_{m} in Complex), b in RealPos} ((a_{1} *  a_{2} *  ... *  a_{m})^{b} = ((a_{1})^{b} *  (a_{2})^{b} *  ... *  (a_{m})^{b}))\n",
       "   core type: Operation\n",
       "   operator: 6\n",
       "   operand: 9\n",
       "5. m in NaturalPos\n",
       "   core type: Operation\n",
       "   operator: 34\n",
       "   operands: 8\n",
       "6. forall\n",
       "   core type: Literal\n",
       "   sub-expressions: \n",
       "7. ((a_{1}, a_{2}, ..., a_{m}, b) -> {(a_{1} *  a_{2} *  ... *  a_{m})^{b} = ((a_{1})^{b} *  (a_{2})^{b} *  ... *  (a_{m})^{b}) if (a_{1} in Complex) ,  (a_{2} in Complex) ,  ... ,  (a_{m} in Complex) ,  b in RealPos.)\n",
       "   core type: ExprTuple\n",
       "   sub-expressions: 9\n",
       "8. (m, NaturalPos)\n",
       "   core type: ExprTuple\n",
       "   sub-expressions: 41, 10\n",
       "9. (a_{1}, a_{2}, ..., a_{m}, b) -> {(a_{1} *  a_{2} *  ... *  a_{m})^{b} = ((a_{1})^{b} *  (a_{2})^{b} *  ... *  (a_{m})^{b}) if (a_{1} in Complex) ,  (a_{2} in Complex) ,  ... ,  (a_{m} in Complex) ,  b in RealPos.\n",
       "   core type: Lambda\n",
       "   parameters: 11\\n   body: 12\n",
       "10. NaturalPos\n",
       "    core type: Literal\n",
       "    sub-expressions: \n",
       "11. (a_{1}, a_{2}, ..., a_{m}, b)\n",
       "    core type: ExprTuple\n",
       "    sub-expressions: 36, 45\n",
       "12. {(a_{1} *  a_{2} *  ... *  a_{m})^{b} = ((a_{1})^{b} *  (a_{2})^{b} *  ... *  (a_{m})^{b}) if (a_{1} in Complex) ,  (a_{2} in Complex) ,  ... ,  (a_{m} in Complex) ,  b in RealPos.\n",
       "    core type: Conditional\n",
       "    value: 13\n",
       "    condition: 14\n",
       "13. (a_{1} *  a_{2} *  ... *  a_{m})^{b} = ((a_{1})^{b} *  (a_{2})^{b} *  ... *  (a_{m})^{b})\n",
       "    core type: Operation\n",
       "    operator: 15\n",
       "    operands: 16\n",
       "14. (a_{1} in Complex) and  (a_{2} in Complex) and  ... and  (a_{m} in Complex) and (b in RealPos)\n",
       "    core type: Operation\n",
       "    operator: 17\n",
       "    operands: 18\n",
       "15. =\n",
       "    core type: Literal\n",
       "    sub-expressions: \n",
       "16. ((a_{1} *  a_{2} *  ... *  a_{m})^{b}, (a_{1})^{b} *  (a_{2})^{b} *  ... *  (a_{m})^{b})\n",
       "    core type: ExprTuple\n",
       "    sub-expressions: 19, 20\n",
       "17. and\n",
       "    core type: Literal\n",
       "    sub-expressions: \n",
       "18. ((a_{1} in Complex), (a_{2} in Complex), ..., (a_{m} in Complex), b in RealPos)\n",
       "    core type: ExprTuple\n",
       "    sub-expressions: 21, 22\n",
       "19. (a_{1} *  a_{2} *  ... *  a_{m})^{b}\n",
       "    core type: Operation\n",
       "    operator: 42\n",
       "    operands: 23\n",
       "20. (a_{1})^{b} *  (a_{2})^{b} *  ... *  (a_{m})^{b}\n",
       "    core type: Operation\n",
       "    operator: 31\n",
       "    operands: 24\n",
       "21. (a_{1} in Complex), (a_{2} in Complex), ..., (a_{m} in Complex)\n",
       "    core type: ExprRange\n",
       "    lambda_map: 25\n",
       "    start_index: 40\n",
       "    end_index: 41\n",
       "22. b in RealPos\n",
       "    core type: Operation\n",
       "    operator: 34\n",
       "    operands: 26\n",
       "23. (a_{1} *  a_{2} *  ... *  a_{m}, b)\n",
       "    core type: ExprTuple\n",
       "    sub-expressions: 27, 45\n",
       "24. ((a_{1})^{b}, (a_{2})^{b}, ..., (a_{m})^{b})\n",
       "    core type: ExprTuple\n",
       "    sub-expressions: 28\n",
       "25. _a -> (a_{_a} in Complex)\n",
       "    core type: Lambda\n",
       "    parameter: 48\n",
       "    body: 29\n",
       "26. (b, RealPos)\n",
       "    core type: ExprTuple\n",
       "    sub-expressions: 45, 30\n",
       "27. a_{1} *  a_{2} *  ... *  a_{m}\n",
       "    core type: Operation\n",
       "    operator: 31\n",
       "    operands: 32\n",
       "28. (a_{1})^{b}, (a_{2})^{b}, ..., (a_{m})^{b}\n",
       "    core type: ExprRange\n",
       "    lambda_map: 33\n",
       "    start_index: 40\n",
       "    end_index: 41\n",
       "29. a_{_a} in Complex\n",
       "    core type: Operation\n",
       "    operator: 34\n",
       "    operands: 35\n",
       "30. RealPos\n",
       "    core type: Literal\n",
       "    sub-expressions: \n",
       "31. *\n",
       "    core type: Literal\n",
       "    sub-expressions: \n",
       "32. (a_{1}, a_{2}, ..., a_{m})\n",
       "    core type: ExprTuple\n",
       "    sub-expressions: 36\n",
       "33. _a -> (a_{_a})^{b}\n",
       "    core type: Lambda\n",
       "    parameter: 48\n",
       "    body: 37\n",
       "34. in\n",
       "    core type: Literal\n",
       "    sub-expressions: \n",
       "35. (a_{_a}, Complex)\n",
       "    core type: ExprTuple\n",
       "    sub-expressions: 44, 38\n",
       "36. a_{1}, a_{2}, ..., a_{m}\n",
       "    core type: ExprRange\n",
       "    lambda_map: 39\n",
       "    start_index: 40\n",
       "    end_index: 41\n",
       "37. (a_{_a})^{b}\n",
       "    core type: Operation\n",
       "    operator: 42\n",
       "    operands: 43\n",
       "38. Complex\n",
       "    core type: Literal\n",
       "    sub-expressions: \n",
       "39. _a -> a_{_a}\n",
       "    core type: Lambda\n",
       "    parameter: 48\n",
       "    body: 44\n",
       "40. 1\n",
       "    core type: Literal\n",
       "    sub-expressions: \n",
       "41. m\n",
       "    core type: Variable\n",
       "    sub-expressions: \n",
       "42. Exp\n",
       "    core type: Literal\n",
       "    sub-expressions: \n",
       "43. (a_{_a}, b)\n",
       "    core type: ExprTuple\n",
       "    sub-expressions: 44, 45\n",
       "44. a_{_a}\n",
       "    core type: IndexedVar\n",
       "variable: 46\n",
       "index: 48\n",
       "45. b\n",
       "    core type: Variable\n",
       "    sub-expressions: \n",
       "46. a\n",
       "    core type: Variable\n",
       "    sub-expressions: \n",
       "47. (_a)\n",
       "    core type: ExprTuple\n",
       "    sub-expressions: 48\n",
       "48. _a\n",
       "    core type: Variable\n",
       "    sub-expressions: "
      ]
     },
     "metadata": {},
     "output_type": "display_data"
    }
   ],
   "source": [
    "# display the expression information\n",
    "stored_expr.expr_info()"
   ]
  },
  {
   "cell_type": "code",
   "execution_count": null,
   "metadata": {},
   "outputs": [],
   "source": []
  }
 ],
 "metadata": {
  "kernelspec": {
   "display_name": "Python 3",
   "language": "python",
   "name": "python3"
  }
 },
 "nbformat": 4,
 "nbformat_minor": 0
}