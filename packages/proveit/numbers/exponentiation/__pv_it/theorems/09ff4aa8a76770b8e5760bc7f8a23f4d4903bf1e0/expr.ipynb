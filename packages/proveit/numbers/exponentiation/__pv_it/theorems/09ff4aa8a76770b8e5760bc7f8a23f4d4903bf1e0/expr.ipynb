{
 "cells": [
  {
   "cell_type": "markdown",
   "metadata": {},
   "source": [
    "Expression of type <a class=\"ProveItLink\" href=\"../../../../../../../doc/html/api/proveit.ExprTuple.html\">ExprTuple</a>\n",
    "=======================\n",
    "# from the theory of <a class=\"ProveItLink\" href=\"../../../_theory_nbs_/theory.ipynb\">proveit.numbers.exponentiation</a>"
   ]
  },
  {
   "cell_type": "code",
   "execution_count": 1,
   "metadata": {},
   "outputs": [],
   "source": [
    "import proveit\n",
    "# Automation is not needed when building an expression:\n",
    "proveit.defaults.automation = False # This will speed things up.\n",
    "proveit.defaults.inline_pngs = False # Makes files smaller.\n",
    "%load_expr # Load the stored expression as 'stored_expr'\n",
    "# import Expression classes needed to build the expression\n",
    "from proveit import Conditional, ExprTuple, Lambda, a, x, y\n",
    "from proveit.logic import And, Equals, InSet\n",
    "from proveit.numbers import Exp, Less, Real, two, zero"
   ]
  },
  {
   "cell_type": "code",
   "execution_count": 2,
   "metadata": {},
   "outputs": [
    {
     "data": {
      "text/html": [
       "<strong id=\"expr\">expr:</strong> <a class=\"ProveItLink\" href=\"expr.ipynb\"><img src=\"expr.png\" style=\"display:inline;vertical-align:middle;\" /></a><br>"
      ],
      "text/plain": [
       "<IPython.core.display.HTML object>"
      ]
     },
     "metadata": {},
     "output_type": "display_data"
    }
   ],
   "source": [
    "# build up the expression from sub-expressions\n",
    "expr = ExprTuple(Lambda([a, x, y], Conditional(Less(Exp(y, a), Exp(x, a)), And(InSet(a, Real), InSet(x, Real), InSet(y, Real), And(Less(x, y), Less(y, zero)).with_total_ordering_style(), Equals(a, two)))))"
   ]
  },
  {
   "cell_type": "code",
   "execution_count": 3,
   "metadata": {},
   "outputs": [
    {
     "name": "stdout",
     "output_type": "stream",
     "text": [
      "Passed sanity check: expr matches stored_expr\n"
     ]
    }
   ],
   "source": [
    "# check that the built expression is the same as the stored expression\n",
    "assert expr == stored_expr\n",
    "assert expr._style_id == stored_expr._style_id\n",
    "print(\"Passed sanity check: expr matches stored_expr\")"
   ]
  },
  {
   "cell_type": "code",
   "execution_count": 4,
   "metadata": {},
   "outputs": [
    {
     "name": "stdout",
     "output_type": "stream",
     "text": [
      "\\left(\\left(a, x, y\\right) \\mapsto \\left\\{y^{a} < x^{a} \\textrm{ if } a \\in \\mathbb{R} ,  x \\in \\mathbb{R} ,  y \\in \\mathbb{R} ,  x < y < 0 ,  a = 2\\right..\\right)\n"
     ]
    }
   ],
   "source": [
    "# Show the LaTeX representation of the expression for convenience if you need it.\n",
    "print(stored_expr.latex())"
   ]
  },
  {
   "cell_type": "code",
   "execution_count": 5,
   "metadata": {},
   "outputs": [
    {
     "data": {
      "text/html": [
       "no style options"
      ],
      "text/plain": [
       "no style options"
      ]
     },
     "metadata": {},
     "output_type": "display_data"
    }
   ],
   "source": [
    "stored_expr.style_options()"
   ]
  },
  {
   "cell_type": "code",
   "execution_count": 6,
   "metadata": {},
   "outputs": [
    {
     "data": {
      "text/html": [
       "<table><tr><th>&nbsp;</th><th>core type</th><th>sub-expressions</th><th>expression</th></tr>\n",
       "<tr><td>0</td><td>ExprTuple</td><td>1</td><td><a class=\"ProveItLink\" href=\"expr.ipynb\"><img src=\"expr.png\" style=\"display:inline;vertical-align:middle;\" /></a></td></tr>\n",
       "<tr><td>1</td><td>Lambda</td><td>parameters:&nbsp;2<br>body:&nbsp;3<br></td><td><a class=\"ProveItLink\" href=\"../78ad99ca292b67acde9e674aaadc99e138add8b70/expr.ipynb\"><img src=\"../78ad99ca292b67acde9e674aaadc99e138add8b70/expr.png\" style=\"display:inline;vertical-align:middle;\" /></a></td></tr>\n",
       "<tr><td>2</td><td>ExprTuple</td><td>29, 34, 35</td><td><a class=\"ProveItLink\" href=\"../30c1d214acb0a05da09968caa7ff905d11d7f4910/expr.ipynb\"><img src=\"../30c1d214acb0a05da09968caa7ff905d11d7f4910/expr.png\" style=\"display:inline;vertical-align:middle;\" /></a></td></tr>\n",
       "<tr><td>3</td><td>Conditional</td><td>value:&nbsp;4<br>condition:&nbsp;5<br></td><td><a class=\"ProveItLink\" href=\"../d88a914b1d5217d4a5dd14fe7ad993ad531a98cc0/expr.ipynb\"><img src=\"../d88a914b1d5217d4a5dd14fe7ad993ad531a98cc0/expr.png\" style=\"display:inline;vertical-align:middle;\" /></a></td></tr>\n",
       "<tr><td>4</td><td>Operation</td><td>operator:&nbsp;32<br>operands:&nbsp;6<br></td><td><a class=\"ProveItLink\" href=\"../d490b6ad267e8634495b21bd7e418859921db2bf0/expr.ipynb\"><img src=\"../d490b6ad267e8634495b21bd7e418859921db2bf0/expr.png\" style=\"display:inline;vertical-align:middle;\" /></a></td></tr>\n",
       "<tr><td>5</td><td>Operation</td><td>operator:&nbsp;22<br>operands:&nbsp;7<br></td><td><a class=\"ProveItLink\" href=\"../6c364a6dc925702c8d5b7cd302279f7b5bc9f5760/expr.ipynb\"><img src=\"../6c364a6dc925702c8d5b7cd302279f7b5bc9f5760/expr.png\" style=\"display:inline;vertical-align:middle;\" /></a></td></tr>\n",
       "<tr><td>6</td><td>ExprTuple</td><td>8, 9</td><td><a class=\"ProveItLink\" href=\"../5a74976aa8e42fcce9fb68db9ee124879600c6ec0/expr.ipynb\"><img src=\"../5a74976aa8e42fcce9fb68db9ee124879600c6ec0/expr.png\" style=\"display:inline;vertical-align:middle;\" /></a></td></tr>\n",
       "<tr><td>7</td><td>ExprTuple</td><td>10, 11, 12, 13, 14</td><td><a class=\"ProveItLink\" href=\"../134e3dae6db243569c953a3389247f385049110e0/expr.ipynb\"><img src=\"../134e3dae6db243569c953a3389247f385049110e0/expr.png\" style=\"display:inline;vertical-align:middle;\" /></a></td></tr>\n",
       "<tr><td>8</td><td>Operation</td><td>operator:&nbsp;16<br>operands:&nbsp;15<br></td><td><a class=\"ProveItLink\" href=\"../31141834703d4dd439a45389846b73102528670c0/expr.ipynb\"><img src=\"../31141834703d4dd439a45389846b73102528670c0/expr.png\" style=\"display:inline;vertical-align:middle;\" /></a></td></tr>\n",
       "<tr><td>9</td><td>Operation</td><td>operator:&nbsp;16<br>operands:&nbsp;17<br></td><td><a class=\"ProveItLink\" href=\"../8e1117a7d81547dad7972e4eaddae00dc2c32dc80/expr.ipynb\"><img src=\"../8e1117a7d81547dad7972e4eaddae00dc2c32dc80/expr.png\" style=\"display:inline;vertical-align:middle;\" /></a></td></tr>\n",
       "<tr><td>10</td><td>Operation</td><td>operator:&nbsp;20<br>operands:&nbsp;18<br></td><td><a class=\"ProveItLink\" href=\"../4aa8d696b1f407d6126de9f51a052e8d90e0848c0/expr.ipynb\"><img src=\"../4aa8d696b1f407d6126de9f51a052e8d90e0848c0/expr.png\" style=\"display:inline;vertical-align:middle;\" /></a></td></tr>\n",
       "<tr><td>11</td><td>Operation</td><td>operator:&nbsp;20<br>operands:&nbsp;19<br></td><td><a class=\"ProveItLink\" href=\"../d1323f34847310a404e8089c2c268d3c2eb89dbf0/expr.ipynb\"><img src=\"../d1323f34847310a404e8089c2c268d3c2eb89dbf0/expr.png\" style=\"display:inline;vertical-align:middle;\" /></a></td></tr>\n",
       "<tr><td>12</td><td>Operation</td><td>operator:&nbsp;20<br>operands:&nbsp;21<br></td><td><a class=\"ProveItLink\" href=\"../5d76fdd975252a644e3e1cb067a357f9a9c8486a0/expr.ipynb\"><img src=\"../5d76fdd975252a644e3e1cb067a357f9a9c8486a0/expr.png\" style=\"display:inline;vertical-align:middle;\" /></a></td></tr>\n",
       "<tr><td>13</td><td>Operation</td><td>operator:&nbsp;22<br>operands:&nbsp;23<br></td><td><a class=\"ProveItLink\" href=\"../b4211827a3e35d9b066e907c730aa468d658c8980/expr.ipynb\"><img src=\"../b4211827a3e35d9b066e907c730aa468d658c8980/expr.png\" style=\"display:inline;vertical-align:middle;\" /></a></td></tr>\n",
       "<tr><td>14</td><td>Operation</td><td>operator:&nbsp;24<br>operands:&nbsp;25<br></td><td><a class=\"ProveItLink\" href=\"../db6adddf22e63f824dbf5e4d2b05d9b6ef9ac8490/expr.ipynb\"><img src=\"../db6adddf22e63f824dbf5e4d2b05d9b6ef9ac8490/expr.png\" style=\"display:inline;vertical-align:middle;\" /></a></td></tr>\n",
       "<tr><td>15</td><td>ExprTuple</td><td>35, 29</td><td><a class=\"ProveItLink\" href=\"../c1142d538383b19753c8eba688e8f040bfc17f590/expr.ipynb\"><img src=\"../c1142d538383b19753c8eba688e8f040bfc17f590/expr.png\" style=\"display:inline;vertical-align:middle;\" /></a></td></tr>\n",
       "<tr><td>16</td><td>Literal</td><td></td><td><a class=\"ProveItLink\" href=\"../../common/0ac37aca1e54c35c5cda09672df32d4f69f1f3020/expr.ipynb\"><img src=\"../../common/0ac37aca1e54c35c5cda09672df32d4f69f1f3020/expr.png\" style=\"display:inline;vertical-align:middle;\" /></a></td></tr>\n",
       "<tr><td>17</td><td>ExprTuple</td><td>34, 29</td><td><a class=\"ProveItLink\" href=\"../e5e785ca3b1a5f8f44e2afa447627f16e9310f8b0/expr.ipynb\"><img src=\"../e5e785ca3b1a5f8f44e2afa447627f16e9310f8b0/expr.png\" style=\"display:inline;vertical-align:middle;\" /></a></td></tr>\n",
       "<tr><td>18</td><td>ExprTuple</td><td>29, 26</td><td><a class=\"ProveItLink\" href=\"../4b81e64da1c6f03396560fe07bd4a5be1d27e6ab0/expr.ipynb\"><img src=\"../4b81e64da1c6f03396560fe07bd4a5be1d27e6ab0/expr.png\" style=\"display:inline;vertical-align:middle;\" /></a></td></tr>\n",
       "<tr><td>19</td><td>ExprTuple</td><td>34, 26</td><td><a class=\"ProveItLink\" href=\"../d87b972e3e29265b9fca1a9cb6e1de56983159ab0/expr.ipynb\"><img src=\"../d87b972e3e29265b9fca1a9cb6e1de56983159ab0/expr.png\" style=\"display:inline;vertical-align:middle;\" /></a></td></tr>\n",
       "<tr><td>20</td><td>Literal</td><td></td><td><a class=\"ProveItLink\" href=\"../../../../../logic/sets/membership/__pv_it/common/477487d8796864d23d5810f83761435f25167f690/expr.ipynb\"><img src=\"../../../../../logic/sets/membership/__pv_it/common/477487d8796864d23d5810f83761435f25167f690/expr.png\" style=\"display:inline;vertical-align:middle;\" /></a></td></tr>\n",
       "<tr><td>21</td><td>ExprTuple</td><td>35, 26</td><td><a class=\"ProveItLink\" href=\"../bee9e297dbbe7973b768621f1e2595a566af7f1b0/expr.ipynb\"><img src=\"../bee9e297dbbe7973b768621f1e2595a566af7f1b0/expr.png\" style=\"display:inline;vertical-align:middle;\" /></a></td></tr>\n",
       "<tr><td>22</td><td>Literal</td><td></td><td><a class=\"ProveItLink\" href=\"../../../../../logic/booleans/conjunction/__pv_it/common/42118ff318bd65d98b1393f64ce7c2269feef76e0/expr.ipynb\"><img src=\"../../../../../logic/booleans/conjunction/__pv_it/common/42118ff318bd65d98b1393f64ce7c2269feef76e0/expr.png\" style=\"display:inline;vertical-align:middle;\" /></a></td></tr>\n",
       "<tr><td>23</td><td>ExprTuple</td><td>27, 28</td><td><a class=\"ProveItLink\" href=\"../fd4642eaf745ec3649e72de9779bdd7395a19cc50/expr.ipynb\"><img src=\"../fd4642eaf745ec3649e72de9779bdd7395a19cc50/expr.png\" style=\"display:inline;vertical-align:middle;\" /></a></td></tr>\n",
       "<tr><td>24</td><td>Literal</td><td></td><td><a class=\"ProveItLink\" href=\"../../../../../logic/equality/__pv_it/common/fb96dc12b2aa8801dda64d0132b396c63d1502bb0/expr.ipynb\"><img src=\"../../../../../logic/equality/__pv_it/common/fb96dc12b2aa8801dda64d0132b396c63d1502bb0/expr.png\" style=\"display:inline;vertical-align:middle;\" /></a></td></tr>\n",
       "<tr><td>25</td><td>ExprTuple</td><td>29, 30</td><td><a class=\"ProveItLink\" href=\"../5e69df9de36578bdc1a430cf64d5d1d331bb50ea0/expr.ipynb\"><img src=\"../5e69df9de36578bdc1a430cf64d5d1d331bb50ea0/expr.png\" style=\"display:inline;vertical-align:middle;\" /></a></td></tr>\n",
       "<tr><td>26</td><td>Literal</td><td></td><td><a class=\"ProveItLink\" href=\"../../../../number_sets/real_numbers/__pv_it/common/93cac87a1a47e613f7a83b23ef7891599a1a4cca0/expr.ipynb\"><img src=\"../../../../number_sets/real_numbers/__pv_it/common/93cac87a1a47e613f7a83b23ef7891599a1a4cca0/expr.png\" style=\"display:inline;vertical-align:middle;\" /></a></td></tr>\n",
       "<tr><td>27</td><td>Operation</td><td>operator:&nbsp;32<br>operands:&nbsp;31<br></td><td><a class=\"ProveItLink\" href=\"../8846042a23bd4715f8e6849c9188a77fefec509b0/expr.ipynb\"><img src=\"../8846042a23bd4715f8e6849c9188a77fefec509b0/expr.png\" style=\"display:inline;vertical-align:middle;\" /></a></td></tr>\n",
       "<tr><td>28</td><td>Operation</td><td>operator:&nbsp;32<br>operands:&nbsp;33<br></td><td><a class=\"ProveItLink\" href=\"../6ad4933f7d5ae94af2751b4563909cd609ca32690/expr.ipynb\"><img src=\"../6ad4933f7d5ae94af2751b4563909cd609ca32690/expr.png\" style=\"display:inline;vertical-align:middle;\" /></a></td></tr>\n",
       "<tr><td>29</td><td>Variable</td><td></td><td><a class=\"ProveItLink\" href=\"../../../../../__pv_it/common/c06c606ec12678c58933ac85412ecadc2ae28be60/expr.ipynb\"><img src=\"../../../../../__pv_it/common/c06c606ec12678c58933ac85412ecadc2ae28be60/expr.png\" style=\"display:inline;vertical-align:middle;\" /></a></td></tr>\n",
       "<tr><td>30</td><td>Literal</td><td></td><td><a class=\"ProveItLink\" href=\"../../../../numerals/__pv_it/common/af4aab8a07465db063742696e006d04670f30cf10/expr.ipynb\"><img src=\"../../../../numerals/__pv_it/common/af4aab8a07465db063742696e006d04670f30cf10/expr.png\" style=\"display:inline;vertical-align:middle;\" /></a></td></tr>\n",
       "<tr><td>31</td><td>ExprTuple</td><td>34, 35</td><td><a class=\"ProveItLink\" href=\"../bbaa48af4605eceb7fbc4af345a1eb6de480e1c50/expr.ipynb\"><img src=\"../bbaa48af4605eceb7fbc4af345a1eb6de480e1c50/expr.png\" style=\"display:inline;vertical-align:middle;\" /></a></td></tr>\n",
       "<tr><td>32</td><td>Literal</td><td></td><td><a class=\"ProveItLink\" href=\"../../../../ordering/__pv_it/common/fa503ed52033522c609eef1cf3e1b45796489da50/expr.ipynb\"><img src=\"../../../../ordering/__pv_it/common/fa503ed52033522c609eef1cf3e1b45796489da50/expr.png\" style=\"display:inline;vertical-align:middle;\" /></a></td></tr>\n",
       "<tr><td>33</td><td>ExprTuple</td><td>35, 36</td><td><a class=\"ProveItLink\" href=\"../30ccd510e4726a63775651957f455c52f587447f0/expr.ipynb\"><img src=\"../30ccd510e4726a63775651957f455c52f587447f0/expr.png\" style=\"display:inline;vertical-align:middle;\" /></a></td></tr>\n",
       "<tr><td>34</td><td>Variable</td><td></td><td><a class=\"ProveItLink\" href=\"../../../../../__pv_it/common/a0d9d672aa5e272d907247690c152cc2c6daafb70/expr.ipynb\"><img src=\"../../../../../__pv_it/common/a0d9d672aa5e272d907247690c152cc2c6daafb70/expr.png\" style=\"display:inline;vertical-align:middle;\" /></a></td></tr>\n",
       "<tr><td>35</td><td>Variable</td><td></td><td><a class=\"ProveItLink\" href=\"../../../../../__pv_it/common/ff7dba4ef0bbe791ab573bf2d9c220a304399ac80/expr.ipynb\"><img src=\"../../../../../__pv_it/common/ff7dba4ef0bbe791ab573bf2d9c220a304399ac80/expr.png\" style=\"display:inline;vertical-align:middle;\" /></a></td></tr>\n",
       "<tr><td>36</td><td>Literal</td><td></td><td><a class=\"ProveItLink\" href=\"../../../../numerals/__pv_it/common/dd4e19e8b134dfb293470ea55fe3589b0ab9f8040/expr.ipynb\"><img src=\"../../../../numerals/__pv_it/common/dd4e19e8b134dfb293470ea55fe3589b0ab9f8040/expr.png\" style=\"display:inline;vertical-align:middle;\" /></a></td></tr>\n",
       "</table>\n"
      ],
      "text/plain": [
       "0. ((a, x, y) -> {y^{a} < x^{a} if a in Real ,  x in Real ,  y in Real ,  x < y < 0 ,  a = 2.)\n",
       "   core type: ExprTuple\n",
       "   sub-expressions: 1\n",
       "1. (a, x, y) -> {y^{a} < x^{a} if a in Real ,  x in Real ,  y in Real ,  x < y < 0 ,  a = 2.\n",
       "   core type: Lambda\n",
       "   parameters: 2\\n   body: 3\n",
       "2. (a, x, y)\n",
       "   core type: ExprTuple\n",
       "   sub-expressions: 29, 34, 35\n",
       "3. {y^{a} < x^{a} if a in Real ,  x in Real ,  y in Real ,  x < y < 0 ,  a = 2.\n",
       "   core type: Conditional\n",
       "   value: 4\n",
       "   condition: 5\n",
       "4. y^{a} < x^{a}\n",
       "   core type: Operation\n",
       "   operator: 32\n",
       "   operands: 6\n",
       "5. (a in Real) and (x in Real) and (y in Real) and (x < y < 0) and (a = 2)\n",
       "   core type: Operation\n",
       "   operator: 22\n",
       "   operands: 7\n",
       "6. (y^{a}, x^{a})\n",
       "   core type: ExprTuple\n",
       "   sub-expressions: 8, 9\n",
       "7. (a in Real, x in Real, y in Real, x < y < 0, a = 2)\n",
       "   core type: ExprTuple\n",
       "   sub-expressions: 10, 11, 12, 13, 14\n",
       "8. y^{a}\n",
       "   core type: Operation\n",
       "   operator: 16\n",
       "   operands: 15\n",
       "9. x^{a}\n",
       "   core type: Operation\n",
       "   operator: 16\n",
       "   operands: 17\n",
       "10. a in Real\n",
       "    core type: Operation\n",
       "    operator: 20\n",
       "    operands: 18\n",
       "11. x in Real\n",
       "    core type: Operation\n",
       "    operator: 20\n",
       "    operands: 19\n",
       "12. y in Real\n",
       "    core type: Operation\n",
       "    operator: 20\n",
       "    operands: 21\n",
       "13. x < y < 0\n",
       "    core type: Operation\n",
       "    operator: 22\n",
       "    operands: 23\n",
       "14. a = 2\n",
       "    core type: Operation\n",
       "    operator: 24\n",
       "    operands: 25\n",
       "15. (y, a)\n",
       "    core type: ExprTuple\n",
       "    sub-expressions: 35, 29\n",
       "16. Exp\n",
       "    core type: Literal\n",
       "    sub-expressions: \n",
       "17. (x, a)\n",
       "    core type: ExprTuple\n",
       "    sub-expressions: 34, 29\n",
       "18. (a, Real)\n",
       "    core type: ExprTuple\n",
       "    sub-expressions: 29, 26\n",
       "19. (x, Real)\n",
       "    core type: ExprTuple\n",
       "    sub-expressions: 34, 26\n",
       "20. in\n",
       "    core type: Literal\n",
       "    sub-expressions: \n",
       "21. (y, Real)\n",
       "    core type: ExprTuple\n",
       "    sub-expressions: 35, 26\n",
       "22. and\n",
       "    core type: Literal\n",
       "    sub-expressions: \n",
       "23. (x < y, y < 0)\n",
       "    core type: ExprTuple\n",
       "    sub-expressions: 27, 28\n",
       "24. =\n",
       "    core type: Literal\n",
       "    sub-expressions: \n",
       "25. (a, 2)\n",
       "    core type: ExprTuple\n",
       "    sub-expressions: 29, 30\n",
       "26. Real\n",
       "    core type: Literal\n",
       "    sub-expressions: \n",
       "27. x < y\n",
       "    core type: Operation\n",
       "    operator: 32\n",
       "    operands: 31\n",
       "28. y < 0\n",
       "    core type: Operation\n",
       "    operator: 32\n",
       "    operands: 33\n",
       "29. a\n",
       "    core type: Variable\n",
       "    sub-expressions: \n",
       "30. 2\n",
       "    core type: Literal\n",
       "    sub-expressions: \n",
       "31. (x, y)\n",
       "    core type: ExprTuple\n",
       "    sub-expressions: 34, 35\n",
       "32. <\n",
       "    core type: Literal\n",
       "    sub-expressions: \n",
       "33. (y, 0)\n",
       "    core type: ExprTuple\n",
       "    sub-expressions: 35, 36\n",
       "34. x\n",
       "    core type: Variable\n",
       "    sub-expressions: \n",
       "35. y\n",
       "    core type: Variable\n",
       "    sub-expressions: \n",
       "36. 0\n",
       "    core type: Literal\n",
       "    sub-expressions: "
      ]
     },
     "metadata": {},
     "output_type": "display_data"
    }
   ],
   "source": [
    "# display the expression information\n",
    "stored_expr.expr_info()"
   ]
  },
  {
   "cell_type": "code",
   "execution_count": null,
   "metadata": {},
   "outputs": [],
   "source": []
  }
 ],
 "metadata": {
  "kernelspec": {
   "display_name": "Python 3",
   "language": "python",
   "name": "python3"
  }
 },
 "nbformat": 4,
 "nbformat_minor": 0
}