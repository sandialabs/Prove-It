{
 "cells": [
  {
   "cell_type": "markdown",
   "metadata": {},
   "source": [
    "Expression of type <a class=\"ProveItLink\" href=\"../../../../../../../doc/html/api/proveit.Lambda.html\">Lambda</a>\n",
    "=======================\n",
    "# from the theory of <a class=\"ProveItLink\" href=\"../../../_theory_nbs_/theory.ipynb\">proveit.numbers.exponentiation</a>"
   ]
  },
  {
   "cell_type": "code",
   "execution_count": 1,
   "metadata": {},
   "outputs": [],
   "source": [
    "import proveit\n",
    "# Automation is not needed when building an expression:\n",
    "proveit.defaults.automation = False # This will speed things up.\n",
    "proveit.defaults.inline_pngs = False # Makes files smaller.\n",
    "%load_expr # Load the stored expression as 'stored_expr'\n",
    "# import Expression classes needed to build the expression\n",
    "from proveit import Conditional, Lambda, a, b, c, d\n",
    "from proveit.logic import And, Equals, InSet\n",
    "from proveit.numbers import Add, Exp, Mult, Real, RealPos"
   ]
  },
  {
   "cell_type": "code",
   "execution_count": 2,
   "metadata": {},
   "outputs": [
    {
     "data": {
      "text/html": [
       "<strong id=\"expr\">expr:</strong> <a class=\"ProveItLink\" href=\"expr.ipynb\"><img src=\"expr.png\" style=\"display:inline;vertical-align:middle;\" /></a><br>"
      ],
      "text/plain": [
       "<IPython.core.display.HTML object>"
      ]
     },
     "metadata": {},
     "output_type": "display_data"
    }
   ],
   "source": [
    "# build up the expression from sub-expressions\n",
    "expr = Lambda([a, b, c, d], Conditional(Equals(Exp(a, b), Mult(Exp(a, c), Exp(a, d))), And(InSet(a, RealPos), InSet(b, Real), InSet(c, Real), InSet(d, Real), Equals(b, Add(c, d)))))"
   ]
  },
  {
   "cell_type": "code",
   "execution_count": 3,
   "metadata": {},
   "outputs": [
    {
     "name": "stdout",
     "output_type": "stream",
     "text": [
      "Passed sanity check: expr matches stored_expr\n"
     ]
    }
   ],
   "source": [
    "# check that the built expression is the same as the stored expression\n",
    "assert expr == stored_expr\n",
    "assert expr._style_id == stored_expr._style_id\n",
    "print(\"Passed sanity check: expr matches stored_expr\")"
   ]
  },
  {
   "cell_type": "code",
   "execution_count": 4,
   "metadata": {},
   "outputs": [
    {
     "name": "stdout",
     "output_type": "stream",
     "text": [
      "\\left(a, b, c, d\\right) \\mapsto \\left\\{a^{b} = \\left(a^{c} \\cdot a^{d}\\right) \\textrm{ if } a \\in \\mathbb{R}^+ ,  b \\in \\mathbb{R} ,  c \\in \\mathbb{R} ,  d \\in \\mathbb{R} ,  b = \\left(c + d\\right)\\right..\n"
     ]
    }
   ],
   "source": [
    "# Show the LaTeX representation of the expression for convenience if you need it.\n",
    "print(stored_expr.latex())"
   ]
  },
  {
   "cell_type": "code",
   "execution_count": 5,
   "metadata": {},
   "outputs": [
    {
     "data": {
      "text/html": [
       "no style options"
      ],
      "text/plain": [
       "no style options"
      ]
     },
     "metadata": {},
     "output_type": "display_data"
    }
   ],
   "source": [
    "stored_expr.style_options()"
   ]
  },
  {
   "cell_type": "code",
   "execution_count": 6,
   "metadata": {},
   "outputs": [
    {
     "data": {
      "text/html": [
       "<table><tr><th>&nbsp;</th><th>core type</th><th>sub-expressions</th><th>expression</th></tr>\n",
       "<tr><td>0</td><td>Lambda</td><td>parameters:&nbsp;1<br>body:&nbsp;2<br></td><td><a class=\"ProveItLink\" href=\"expr.ipynb\"><img src=\"expr.png\" style=\"display:inline;vertical-align:middle;\" /></a></td></tr>\n",
       "<tr><td>1</td><td>ExprTuple</td><td>36, 29, 37, 38</td><td><a class=\"ProveItLink\" href=\"../b9025baedda49f8eb0a4eb7b23501a26c1fde0970/expr.ipynb\"><img src=\"../b9025baedda49f8eb0a4eb7b23501a26c1fde0970/expr.png\" style=\"display:inline;vertical-align:middle;\" /></a></td></tr>\n",
       "<tr><td>2</td><td>Conditional</td><td>value:&nbsp;3<br>condition:&nbsp;4<br></td><td><a class=\"ProveItLink\" href=\"../413678d4e9c0fd0c185a5288d2a4a44a39cf86210/expr.ipynb\"><img src=\"../413678d4e9c0fd0c185a5288d2a4a44a39cf86210/expr.png\" style=\"display:inline;vertical-align:middle;\" /></a></td></tr>\n",
       "<tr><td>3</td><td>Operation</td><td>operator:&nbsp;23<br>operands:&nbsp;5<br></td><td><a class=\"ProveItLink\" href=\"../987198bc3f964dc98c1f766f56ebb12e91b11a400/expr.ipynb\"><img src=\"../987198bc3f964dc98c1f766f56ebb12e91b11a400/expr.png\" style=\"display:inline;vertical-align:middle;\" /></a></td></tr>\n",
       "<tr><td>4</td><td>Operation</td><td>operator:&nbsp;6<br>operands:&nbsp;7<br></td><td><a class=\"ProveItLink\" href=\"../8b3454a20643d0c996625e0fbb8206fe8cc60b260/expr.ipynb\"><img src=\"../8b3454a20643d0c996625e0fbb8206fe8cc60b260/expr.png\" style=\"display:inline;vertical-align:middle;\" /></a></td></tr>\n",
       "<tr><td>5</td><td>ExprTuple</td><td>8, 9</td><td><a class=\"ProveItLink\" href=\"../55e008dc71f8cc2ebc5bdb3aaa7c45ba6fbda8300/expr.ipynb\"><img src=\"../55e008dc71f8cc2ebc5bdb3aaa7c45ba6fbda8300/expr.png\" style=\"display:inline;vertical-align:middle;\" /></a></td></tr>\n",
       "<tr><td>6</td><td>Literal</td><td></td><td><a class=\"ProveItLink\" href=\"../../../../../logic/booleans/conjunction/__pv_it/common/42118ff318bd65d98b1393f64ce7c2269feef76e0/expr.ipynb\"><img src=\"../../../../../logic/booleans/conjunction/__pv_it/common/42118ff318bd65d98b1393f64ce7c2269feef76e0/expr.png\" style=\"display:inline;vertical-align:middle;\" /></a></td></tr>\n",
       "<tr><td>7</td><td>ExprTuple</td><td>10, 11, 12, 13, 14</td><td><a class=\"ProveItLink\" href=\"../f1a90ee10347be59ec4c365feb3e1fd8bb3909ea0/expr.ipynb\"><img src=\"../f1a90ee10347be59ec4c365feb3e1fd8bb3909ea0/expr.png\" style=\"display:inline;vertical-align:middle;\" /></a></td></tr>\n",
       "<tr><td>8</td><td>Operation</td><td>operator:&nbsp;32<br>operands:&nbsp;15<br></td><td><a class=\"ProveItLink\" href=\"../30a87e0fd349eb957cda18d62242a4c55ae3e4ad0/expr.ipynb\"><img src=\"../30a87e0fd349eb957cda18d62242a4c55ae3e4ad0/expr.png\" style=\"display:inline;vertical-align:middle;\" /></a></td></tr>\n",
       "<tr><td>9</td><td>Operation</td><td>operator:&nbsp;16<br>operands:&nbsp;17<br></td><td><a class=\"ProveItLink\" href=\"../2b18160e7304626f04ad38469b5ec6adefeaffa60/expr.ipynb\"><img src=\"../2b18160e7304626f04ad38469b5ec6adefeaffa60/expr.png\" style=\"display:inline;vertical-align:middle;\" /></a></td></tr>\n",
       "<tr><td>10</td><td>Operation</td><td>operator:&nbsp;21<br>operands:&nbsp;18<br></td><td><a class=\"ProveItLink\" href=\"../5a0c211ed8c0f89e15d717d80d4627baae693acb0/expr.ipynb\"><img src=\"../5a0c211ed8c0f89e15d717d80d4627baae693acb0/expr.png\" style=\"display:inline;vertical-align:middle;\" /></a></td></tr>\n",
       "<tr><td>11</td><td>Operation</td><td>operator:&nbsp;21<br>operands:&nbsp;19<br></td><td><a class=\"ProveItLink\" href=\"../6e5cad5b2984ed0d75bd47bd0c542ec447a4f3570/expr.ipynb\"><img src=\"../6e5cad5b2984ed0d75bd47bd0c542ec447a4f3570/expr.png\" style=\"display:inline;vertical-align:middle;\" /></a></td></tr>\n",
       "<tr><td>12</td><td>Operation</td><td>operator:&nbsp;21<br>operands:&nbsp;20<br></td><td><a class=\"ProveItLink\" href=\"../d550e8309ef79ca46e4c9fb5617a392ea678789b0/expr.ipynb\"><img src=\"../d550e8309ef79ca46e4c9fb5617a392ea678789b0/expr.png\" style=\"display:inline;vertical-align:middle;\" /></a></td></tr>\n",
       "<tr><td>13</td><td>Operation</td><td>operator:&nbsp;21<br>operands:&nbsp;22<br></td><td><a class=\"ProveItLink\" href=\"../41c3ad9f29c40b69fd61c49f41684c1b813e9e850/expr.ipynb\"><img src=\"../41c3ad9f29c40b69fd61c49f41684c1b813e9e850/expr.png\" style=\"display:inline;vertical-align:middle;\" /></a></td></tr>\n",
       "<tr><td>14</td><td>Operation</td><td>operator:&nbsp;23<br>operands:&nbsp;24<br></td><td><a class=\"ProveItLink\" href=\"../c72eb6fdaebb3a81188009b26e4f934500df11270/expr.ipynb\"><img src=\"../c72eb6fdaebb3a81188009b26e4f934500df11270/expr.png\" style=\"display:inline;vertical-align:middle;\" /></a></td></tr>\n",
       "<tr><td>15</td><td>ExprTuple</td><td>36, 29</td><td><a class=\"ProveItLink\" href=\"../3dcd5ceea6334d8cb48fe14fdae236293aa9a6050/expr.ipynb\"><img src=\"../3dcd5ceea6334d8cb48fe14fdae236293aa9a6050/expr.png\" style=\"display:inline;vertical-align:middle;\" /></a></td></tr>\n",
       "<tr><td>16</td><td>Literal</td><td></td><td><a class=\"ProveItLink\" href=\"../../../../multiplication/__pv_it/common/ed719cef37831779c16481533a4d380a2f95ab270/expr.ipynb\"><img src=\"../../../../multiplication/__pv_it/common/ed719cef37831779c16481533a4d380a2f95ab270/expr.png\" style=\"display:inline;vertical-align:middle;\" /></a></td></tr>\n",
       "<tr><td>17</td><td>ExprTuple</td><td>25, 26</td><td><a class=\"ProveItLink\" href=\"../a8e5dd1a5b8bbd0c50dc8cefe37e760b23817c3f0/expr.ipynb\"><img src=\"../a8e5dd1a5b8bbd0c50dc8cefe37e760b23817c3f0/expr.png\" style=\"display:inline;vertical-align:middle;\" /></a></td></tr>\n",
       "<tr><td>18</td><td>ExprTuple</td><td>36, 27</td><td><a class=\"ProveItLink\" href=\"../caea83d54eb58dbad91ef10a83b3aa6f91eff2820/expr.ipynb\"><img src=\"../caea83d54eb58dbad91ef10a83b3aa6f91eff2820/expr.png\" style=\"display:inline;vertical-align:middle;\" /></a></td></tr>\n",
       "<tr><td>19</td><td>ExprTuple</td><td>29, 28</td><td><a class=\"ProveItLink\" href=\"../3cf9b209cada40f4dbeb74780e8d7cfa407b10aa0/expr.ipynb\"><img src=\"../3cf9b209cada40f4dbeb74780e8d7cfa407b10aa0/expr.png\" style=\"display:inline;vertical-align:middle;\" /></a></td></tr>\n",
       "<tr><td>20</td><td>ExprTuple</td><td>37, 28</td><td><a class=\"ProveItLink\" href=\"../54ad27fbcacfe9ab74eb88f77e3e29beb7c0d0f20/expr.ipynb\"><img src=\"../54ad27fbcacfe9ab74eb88f77e3e29beb7c0d0f20/expr.png\" style=\"display:inline;vertical-align:middle;\" /></a></td></tr>\n",
       "<tr><td>21</td><td>Literal</td><td></td><td><a class=\"ProveItLink\" href=\"../../../../../logic/sets/membership/__pv_it/common/477487d8796864d23d5810f83761435f25167f690/expr.ipynb\"><img src=\"../../../../../logic/sets/membership/__pv_it/common/477487d8796864d23d5810f83761435f25167f690/expr.png\" style=\"display:inline;vertical-align:middle;\" /></a></td></tr>\n",
       "<tr><td>22</td><td>ExprTuple</td><td>38, 28</td><td><a class=\"ProveItLink\" href=\"../6883c2eae0fb1566a9df13fab529d52f5f3c76330/expr.ipynb\"><img src=\"../6883c2eae0fb1566a9df13fab529d52f5f3c76330/expr.png\" style=\"display:inline;vertical-align:middle;\" /></a></td></tr>\n",
       "<tr><td>23</td><td>Literal</td><td></td><td><a class=\"ProveItLink\" href=\"../../../../../logic/equality/__pv_it/common/fb96dc12b2aa8801dda64d0132b396c63d1502bb0/expr.ipynb\"><img src=\"../../../../../logic/equality/__pv_it/common/fb96dc12b2aa8801dda64d0132b396c63d1502bb0/expr.png\" style=\"display:inline;vertical-align:middle;\" /></a></td></tr>\n",
       "<tr><td>24</td><td>ExprTuple</td><td>29, 30</td><td><a class=\"ProveItLink\" href=\"../9052d06dc29323ef958edddb7612f2ef5201f18e0/expr.ipynb\"><img src=\"../9052d06dc29323ef958edddb7612f2ef5201f18e0/expr.png\" style=\"display:inline;vertical-align:middle;\" /></a></td></tr>\n",
       "<tr><td>25</td><td>Operation</td><td>operator:&nbsp;32<br>operands:&nbsp;31<br></td><td><a class=\"ProveItLink\" href=\"../bad266592f32f1693dbbeadafcfa6739e5b9899a0/expr.ipynb\"><img src=\"../bad266592f32f1693dbbeadafcfa6739e5b9899a0/expr.png\" style=\"display:inline;vertical-align:middle;\" /></a></td></tr>\n",
       "<tr><td>26</td><td>Operation</td><td>operator:&nbsp;32<br>operands:&nbsp;33<br></td><td><a class=\"ProveItLink\" href=\"../d2ef574cc647e450944d943dd5db20beb16eb1d40/expr.ipynb\"><img src=\"../d2ef574cc647e450944d943dd5db20beb16eb1d40/expr.png\" style=\"display:inline;vertical-align:middle;\" /></a></td></tr>\n",
       "<tr><td>27</td><td>Literal</td><td></td><td><a class=\"ProveItLink\" href=\"../../../../number_sets/real_numbers/__pv_it/common/174917e13d50b91c585b7f765a2896383a3ae8010/expr.ipynb\"><img src=\"../../../../number_sets/real_numbers/__pv_it/common/174917e13d50b91c585b7f765a2896383a3ae8010/expr.png\" style=\"display:inline;vertical-align:middle;\" /></a></td></tr>\n",
       "<tr><td>28</td><td>Literal</td><td></td><td><a class=\"ProveItLink\" href=\"../../../../number_sets/real_numbers/__pv_it/common/93cac87a1a47e613f7a83b23ef7891599a1a4cca0/expr.ipynb\"><img src=\"../../../../number_sets/real_numbers/__pv_it/common/93cac87a1a47e613f7a83b23ef7891599a1a4cca0/expr.png\" style=\"display:inline;vertical-align:middle;\" /></a></td></tr>\n",
       "<tr><td>29</td><td>Variable</td><td></td><td><a class=\"ProveItLink\" href=\"../../../../../__pv_it/common/195236b98c6c564a75b5dbada74b173bc52d5c3e0/expr.ipynb\"><img src=\"../../../../../__pv_it/common/195236b98c6c564a75b5dbada74b173bc52d5c3e0/expr.png\" style=\"display:inline;vertical-align:middle;\" /></a></td></tr>\n",
       "<tr><td>30</td><td>Operation</td><td>operator:&nbsp;34<br>operands:&nbsp;35<br></td><td><a class=\"ProveItLink\" href=\"../65aa22d62d64a208662682ae9d721645f757c94b0/expr.ipynb\"><img src=\"../65aa22d62d64a208662682ae9d721645f757c94b0/expr.png\" style=\"display:inline;vertical-align:middle;\" /></a></td></tr>\n",
       "<tr><td>31</td><td>ExprTuple</td><td>36, 37</td><td><a class=\"ProveItLink\" href=\"../2dab7ef3d42b086d5539e852b622c82cd6dc0dac0/expr.ipynb\"><img src=\"../2dab7ef3d42b086d5539e852b622c82cd6dc0dac0/expr.png\" style=\"display:inline;vertical-align:middle;\" /></a></td></tr>\n",
       "<tr><td>32</td><td>Literal</td><td></td><td><a class=\"ProveItLink\" href=\"../../common/0ac37aca1e54c35c5cda09672df32d4f69f1f3020/expr.ipynb\"><img src=\"../../common/0ac37aca1e54c35c5cda09672df32d4f69f1f3020/expr.png\" style=\"display:inline;vertical-align:middle;\" /></a></td></tr>\n",
       "<tr><td>33</td><td>ExprTuple</td><td>36, 38</td><td><a class=\"ProveItLink\" href=\"../e641a8aadb5365964c2a22d5968024292e283c820/expr.ipynb\"><img src=\"../e641a8aadb5365964c2a22d5968024292e283c820/expr.png\" style=\"display:inline;vertical-align:middle;\" /></a></td></tr>\n",
       "<tr><td>34</td><td>Literal</td><td></td><td><a class=\"ProveItLink\" href=\"../../../../addition/__pv_it/common/4b7effaab3619a1c2c38fe2dee8601df8ec714590/expr.ipynb\"><img src=\"../../../../addition/__pv_it/common/4b7effaab3619a1c2c38fe2dee8601df8ec714590/expr.png\" style=\"display:inline;vertical-align:middle;\" /></a></td></tr>\n",
       "<tr><td>35</td><td>ExprTuple</td><td>37, 38</td><td><a class=\"ProveItLink\" href=\"../f336fa46d73583f2c4c9aeb5e26e359cc42790830/expr.ipynb\"><img src=\"../f336fa46d73583f2c4c9aeb5e26e359cc42790830/expr.png\" style=\"display:inline;vertical-align:middle;\" /></a></td></tr>\n",
       "<tr><td>36</td><td>Variable</td><td></td><td><a class=\"ProveItLink\" href=\"../../../../../__pv_it/common/c06c606ec12678c58933ac85412ecadc2ae28be60/expr.ipynb\"><img src=\"../../../../../__pv_it/common/c06c606ec12678c58933ac85412ecadc2ae28be60/expr.png\" style=\"display:inline;vertical-align:middle;\" /></a></td></tr>\n",
       "<tr><td>37</td><td>Variable</td><td></td><td><a class=\"ProveItLink\" href=\"../../../../../__pv_it/common/ceef4280a2f1cc604b455b54e735507244cc62cd0/expr.ipynb\"><img src=\"../../../../../__pv_it/common/ceef4280a2f1cc604b455b54e735507244cc62cd0/expr.png\" style=\"display:inline;vertical-align:middle;\" /></a></td></tr>\n",
       "<tr><td>38</td><td>Variable</td><td></td><td><a class=\"ProveItLink\" href=\"../../../../../__pv_it/common/4f5c524ffda87296de1c79b96880123fe2efedd50/expr.ipynb\"><img src=\"../../../../../__pv_it/common/4f5c524ffda87296de1c79b96880123fe2efedd50/expr.png\" style=\"display:inline;vertical-align:middle;\" /></a></td></tr>\n",
       "</table>\n"
      ],
      "text/plain": [
       "0. (a, b, c, d) -> {a^{b} = (a^{c} * a^{d}) if a in RealPos ,  b in Real ,  c in Real ,  d in Real ,  b = (c + d).\n",
       "   core type: Lambda\n",
       "   parameters: 1\\n   body: 2\n",
       "1. (a, b, c, d)\n",
       "   core type: ExprTuple\n",
       "   sub-expressions: 36, 29, 37, 38\n",
       "2. {a^{b} = (a^{c} * a^{d}) if a in RealPos ,  b in Real ,  c in Real ,  d in Real ,  b = (c + d).\n",
       "   core type: Conditional\n",
       "   value: 3\n",
       "   condition: 4\n",
       "3. a^{b} = (a^{c} * a^{d})\n",
       "   core type: Operation\n",
       "   operator: 23\n",
       "   operands: 5\n",
       "4. (a in RealPos) and (b in Real) and (c in Real) and (d in Real) and (b = (c + d))\n",
       "   core type: Operation\n",
       "   operator: 6\n",
       "   operands: 7\n",
       "5. (a^{b}, a^{c} * a^{d})\n",
       "   core type: ExprTuple\n",
       "   sub-expressions: 8, 9\n",
       "6. and\n",
       "   core type: Literal\n",
       "   sub-expressions: \n",
       "7. (a in RealPos, b in Real, c in Real, d in Real, b = (c + d))\n",
       "   core type: ExprTuple\n",
       "   sub-expressions: 10, 11, 12, 13, 14\n",
       "8. a^{b}\n",
       "   core type: Operation\n",
       "   operator: 32\n",
       "   operands: 15\n",
       "9. a^{c} * a^{d}\n",
       "   core type: Operation\n",
       "   operator: 16\n",
       "   operands: 17\n",
       "10. a in RealPos\n",
       "    core type: Operation\n",
       "    operator: 21\n",
       "    operands: 18\n",
       "11. b in Real\n",
       "    core type: Operation\n",
       "    operator: 21\n",
       "    operands: 19\n",
       "12. c in Real\n",
       "    core type: Operation\n",
       "    operator: 21\n",
       "    operands: 20\n",
       "13. d in Real\n",
       "    core type: Operation\n",
       "    operator: 21\n",
       "    operands: 22\n",
       "14. b = (c + d)\n",
       "    core type: Operation\n",
       "    operator: 23\n",
       "    operands: 24\n",
       "15. (a, b)\n",
       "    core type: ExprTuple\n",
       "    sub-expressions: 36, 29\n",
       "16. *\n",
       "    core type: Literal\n",
       "    sub-expressions: \n",
       "17. (a^{c}, a^{d})\n",
       "    core type: ExprTuple\n",
       "    sub-expressions: 25, 26\n",
       "18. (a, RealPos)\n",
       "    core type: ExprTuple\n",
       "    sub-expressions: 36, 27\n",
       "19. (b, Real)\n",
       "    core type: ExprTuple\n",
       "    sub-expressions: 29, 28\n",
       "20. (c, Real)\n",
       "    core type: ExprTuple\n",
       "    sub-expressions: 37, 28\n",
       "21. in\n",
       "    core type: Literal\n",
       "    sub-expressions: \n",
       "22. (d, Real)\n",
       "    core type: ExprTuple\n",
       "    sub-expressions: 38, 28\n",
       "23. =\n",
       "    core type: Literal\n",
       "    sub-expressions: \n",
       "24. (b, c + d)\n",
       "    core type: ExprTuple\n",
       "    sub-expressions: 29, 30\n",
       "25. a^{c}\n",
       "    core type: Operation\n",
       "    operator: 32\n",
       "    operands: 31\n",
       "26. a^{d}\n",
       "    core type: Operation\n",
       "    operator: 32\n",
       "    operands: 33\n",
       "27. RealPos\n",
       "    core type: Literal\n",
       "    sub-expressions: \n",
       "28. Real\n",
       "    core type: Literal\n",
       "    sub-expressions: \n",
       "29. b\n",
       "    core type: Variable\n",
       "    sub-expressions: \n",
       "30. c + d\n",
       "    core type: Operation\n",
       "    operator: 34\n",
       "    operands: 35\n",
       "31. (a, c)\n",
       "    core type: ExprTuple\n",
       "    sub-expressions: 36, 37\n",
       "32. Exp\n",
       "    core type: Literal\n",
       "    sub-expressions: \n",
       "33. (a, d)\n",
       "    core type: ExprTuple\n",
       "    sub-expressions: 36, 38\n",
       "34. +\n",
       "    core type: Literal\n",
       "    sub-expressions: \n",
       "35. (c, d)\n",
       "    core type: ExprTuple\n",
       "    sub-expressions: 37, 38\n",
       "36. a\n",
       "    core type: Variable\n",
       "    sub-expressions: \n",
       "37. c\n",
       "    core type: Variable\n",
       "    sub-expressions: \n",
       "38. d\n",
       "    core type: Variable\n",
       "    sub-expressions: "
      ]
     },
     "metadata": {},
     "output_type": "display_data"
    }
   ],
   "source": [
    "# display the expression information\n",
    "stored_expr.expr_info()"
   ]
  },
  {
   "cell_type": "code",
   "execution_count": null,
   "metadata": {},
   "outputs": [],
   "source": []
  }
 ],
 "metadata": {
  "kernelspec": {
   "display_name": "Python 3",
   "language": "python",
   "name": "python3"
  }
 },
 "nbformat": 4,
 "nbformat_minor": 0
}