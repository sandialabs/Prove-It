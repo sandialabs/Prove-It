{
 "cells": [
  {
   "cell_type": "markdown",
   "metadata": {},
   "source": [
    "Expression of type <a class=\"ProveItLink\" href=\"../../../../../../../doc/html/api/proveit.logic.Forall.html\">Forall</a>\n",
    "=======================\n",
    "# from the theory of <a class=\"ProveItLink\" href=\"../../../_theory_nbs_/theory.ipynb\">proveit.numbers.exponentiation</a>"
   ]
  },
  {
   "cell_type": "code",
   "execution_count": 1,
   "metadata": {},
   "outputs": [],
   "source": [
    "import proveit\n",
    "# Automation is not needed when building an expression:\n",
    "proveit.defaults.automation = False # This will speed things up.\n",
    "proveit.defaults.inline_pngs = False # Makes files smaller.\n",
    "%load_expr # Load the stored expression as 'stored_expr'\n",
    "# import Expression classes needed to build the expression\n",
    "from proveit import ExprRange, IndexedVar, Variable, a, b, m\n",
    "from proveit.core_expr_types import a_1_to_m\n",
    "from proveit.logic import Equals, Forall, NotEquals\n",
    "from proveit.numbers import Complex, Exp, Mult, Real, one, zero\n",
    "from proveit.numbers.exponentiation import prod_ai_raise_b__1_to_m"
   ]
  },
  {
   "cell_type": "code",
   "execution_count": 2,
   "metadata": {},
   "outputs": [
    {
     "data": {
      "text/html": [
       "<strong id=\"expr\">expr:</strong> <a class=\"ProveItLink\" href=\"expr.ipynb\"><img src=\"expr.png\" style=\"display:inline;vertical-align:middle;\" /></a><br>"
      ],
      "text/plain": [
       "<IPython.core.display.HTML object>"
      ]
     },
     "metadata": {},
     "output_type": "display_data"
    }
   ],
   "source": [
    "# build up the expression from sub-expressions\n",
    "sub_expr1 = Variable(\"_a\", latex_format = r\"{_{-}a}\")\n",
    "expr = Forall(instance_param_or_params = [a_1_to_m, b], instance_expr = Equals(Exp(Mult(a_1_to_m), b), prod_ai_raise_b__1_to_m), domains = [Complex, Real], condition = ExprRange(sub_expr1, NotEquals(IndexedVar(a, sub_expr1), zero), one, m))"
   ]
  },
  {
   "cell_type": "code",
   "execution_count": 3,
   "metadata": {},
   "outputs": [
    {
     "name": "stdout",
     "output_type": "stream",
     "text": [
      "Passed sanity check: expr matches stored_expr\n"
     ]
    }
   ],
   "source": [
    "# check that the built expression is the same as the stored expression\n",
    "assert expr == stored_expr\n",
    "assert expr._style_id == stored_expr._style_id\n",
    "print(\"Passed sanity check: expr matches stored_expr\")"
   ]
  },
  {
   "cell_type": "code",
   "execution_count": 4,
   "metadata": {},
   "outputs": [
    {
     "name": "stdout",
     "output_type": "stream",
     "text": [
      "\\forall_{\\left(a_{1} \\in \\mathbb{C}\\right), \\left(a_{2} \\in \\mathbb{C}\\right), \\ldots, \\left(a_{m} \\in \\mathbb{C}\\right), b \\in \\mathbb{R}~|~\\left(a_{1} \\neq 0\\right), \\left(a_{2} \\neq 0\\right), \\ldots, \\left(a_{m} \\neq 0\\right)}~\\left(\\left(a_{1} \\cdot  a_{2} \\cdot  \\ldots \\cdot  a_{m}\\right)^{b} = \\left(\\left(a_{1}\\right)^{b} \\cdot  \\left(a_{2}\\right)^{b} \\cdot  \\ldots \\cdot  \\left(a_{m}\\right)^{b}\\right)\\right)\n"
     ]
    }
   ],
   "source": [
    "# Show the LaTeX representation of the expression for convenience if you need it.\n",
    "print(stored_expr.latex())"
   ]
  },
  {
   "cell_type": "code",
   "execution_count": 5,
   "metadata": {},
   "outputs": [
    {
     "data": {
      "text/html": [
       "<table>\n",
       "<tr><th>name</th><th>description</th><th>default</th><th>current value</th><th>related methods</th></tr><tr><td>with_wrapping</td><td>If 'True', wrap the Expression after the parameters</td><td>None</td><td>None/False</td><td>('with_wrapping',)</td></tr>\n",
       "<tr><td>condition_wrapping</td><td>Wrap 'before' or 'after' the condition (or None).</td><td>None</td><td>None/False</td><td>('with_wrap_after_condition', 'with_wrap_before_condition')</td></tr>\n",
       "<tr><td>wrap_params</td><td>If 'True', wraps every two parameters AND wraps the Expression after the parameters</td><td>None</td><td>None/False</td><td>('with_params',)</td></tr>\n",
       "<tr><td>justification</td><td>justify to the 'left', 'center', or 'right' in the array cells</td><td>center</td><td>center</td><td>('with_justification',)</td></tr>\n",
       "</table>\n"
      ],
      "text/plain": [
       "style name: with_wrapping\n",
       "description: If 'True', wrap the Expression after the parameters\n",
       "default: None\n",
       "current value: None/False\n",
       "related methods: ('with_wrapping',)\n",
       "style name: condition_wrapping\n",
       "description: Wrap 'before' or 'after' the condition (or None).\n",
       "default: None\n",
       "current value: None/False\n",
       "related methods: ('with_wrap_after_condition', 'with_wrap_before_condition')\n",
       "style name: wrap_params\n",
       "description: If 'True', wraps every two parameters AND wraps the Expression after the parameters\n",
       "default: None\n",
       "current value: None/False\n",
       "related methods: ('with_params',)\n",
       "style name: justification\n",
       "description: justify to the 'left', 'center', or 'right' in the array cells\n",
       "default: center\n",
       "current value: center\n",
       "related methods: ('with_justification',)"
      ]
     },
     "metadata": {},
     "output_type": "display_data"
    }
   ],
   "source": [
    "stored_expr.style_options()"
   ]
  },
  {
   "cell_type": "code",
   "execution_count": 6,
   "metadata": {},
   "outputs": [
    {
     "data": {
      "text/html": [
       "<table><tr><th>&nbsp;</th><th>core type</th><th>sub-expressions</th><th>expression</th></tr>\n",
       "<tr><td>0</td><td>Operation</td><td>operator:&nbsp;1<br>operand:&nbsp;3<br></td><td><a class=\"ProveItLink\" href=\"expr.ipynb\"><img src=\"expr.png\" style=\"display:inline;vertical-align:middle;\" /></a></td></tr>\n",
       "<tr><td>1</td><td>Literal</td><td></td><td><a class=\"ProveItLink\" href=\"../../../../../logic/booleans/quantification/universality/__pv_it/common/083d2baa0b8ecab1d230f9ec29a15aa1355809fb0/expr.ipynb\"><img src=\"../../../../../logic/booleans/quantification/universality/__pv_it/common/083d2baa0b8ecab1d230f9ec29a15aa1355809fb0/expr.png\" style=\"display:inline;vertical-align:middle;\" /></a></td></tr>\n",
       "<tr><td>2</td><td>ExprTuple</td><td>3</td><td><a class=\"ProveItLink\" href=\"../c290fb3e95544d2b4e54736e2f9127facc3742460/expr.ipynb\"><img src=\"../c290fb3e95544d2b4e54736e2f9127facc3742460/expr.png\" style=\"display:inline;vertical-align:middle;\" /></a></td></tr>\n",
       "<tr><td>3</td><td>Lambda</td><td>parameters:&nbsp;4<br>body:&nbsp;5<br></td><td><a class=\"ProveItLink\" href=\"../0bb752c504caa72545bbfb3d1db1e224ffe84bce0/expr.ipynb\"><img src=\"../0bb752c504caa72545bbfb3d1db1e224ffe84bce0/expr.png\" style=\"display:inline;vertical-align:middle;\" /></a></td></tr>\n",
       "<tr><td>4</td><td>ExprTuple</td><td>34, 44</td><td><a class=\"ProveItLink\" href=\"../19405cf9df803d16ed6fce045569317b6e0f67e20/expr.ipynb\"><img src=\"../19405cf9df803d16ed6fce045569317b6e0f67e20/expr.png\" style=\"display:inline;vertical-align:middle;\" /></a></td></tr>\n",
       "<tr><td>5</td><td>Conditional</td><td>value:&nbsp;6<br>condition:&nbsp;7<br></td><td><a class=\"ProveItLink\" href=\"../5f1667675794b71ca991c49ccc8d205b89ee20e30/expr.ipynb\"><img src=\"../5f1667675794b71ca991c49ccc8d205b89ee20e30/expr.png\" style=\"display:inline;vertical-align:middle;\" /></a></td></tr>\n",
       "<tr><td>6</td><td>Operation</td><td>operator:&nbsp;8<br>operands:&nbsp;9<br></td><td><a class=\"ProveItLink\" href=\"../98b48950fc30f044ce43f1a7212c8676959fe1b90/expr.ipynb\"><img src=\"../98b48950fc30f044ce43f1a7212c8676959fe1b90/expr.png\" style=\"display:inline;vertical-align:middle;\" /></a></td></tr>\n",
       "<tr><td>7</td><td>Operation</td><td>operator:&nbsp;10<br>operands:&nbsp;11<br></td><td><a class=\"ProveItLink\" href=\"../419f3072be750c08b2e0789edf46a180963d2fa20/expr.ipynb\"><img src=\"../419f3072be750c08b2e0789edf46a180963d2fa20/expr.png\" style=\"display:inline;vertical-align:middle;\" /></a></td></tr>\n",
       "<tr><td>8</td><td>Literal</td><td></td><td><a class=\"ProveItLink\" href=\"../../../../../logic/equality/__pv_it/common/fb96dc12b2aa8801dda64d0132b396c63d1502bb0/expr.ipynb\"><img src=\"../../../../../logic/equality/__pv_it/common/fb96dc12b2aa8801dda64d0132b396c63d1502bb0/expr.png\" style=\"display:inline;vertical-align:middle;\" /></a></td></tr>\n",
       "<tr><td>9</td><td>ExprTuple</td><td>12, 13</td><td><a class=\"ProveItLink\" href=\"../66d5e173ddb03bf67e18ef7aa91f72c94bb784770/expr.ipynb\"><img src=\"../66d5e173ddb03bf67e18ef7aa91f72c94bb784770/expr.png\" style=\"display:inline;vertical-align:middle;\" /></a></td></tr>\n",
       "<tr><td>10</td><td>Literal</td><td></td><td><a class=\"ProveItLink\" href=\"../../../../../logic/booleans/conjunction/__pv_it/common/42118ff318bd65d98b1393f64ce7c2269feef76e0/expr.ipynb\"><img src=\"../../../../../logic/booleans/conjunction/__pv_it/common/42118ff318bd65d98b1393f64ce7c2269feef76e0/expr.png\" style=\"display:inline;vertical-align:middle;\" /></a></td></tr>\n",
       "<tr><td>11</td><td>ExprTuple</td><td>14, 15, 16</td><td><a class=\"ProveItLink\" href=\"../ad1d4f03f30f8af8f55ac7a2339e019538f529f10/expr.ipynb\"><img src=\"../ad1d4f03f30f8af8f55ac7a2339e019538f529f10/expr.png\" style=\"display:inline;vertical-align:middle;\" /></a></td></tr>\n",
       "<tr><td>12</td><td>Operation</td><td>operator:&nbsp;41<br>operands:&nbsp;17<br></td><td><a class=\"ProveItLink\" href=\"../af5667315983541a614c2c2deb90d719229a0a440/expr.ipynb\"><img src=\"../af5667315983541a614c2c2deb90d719229a0a440/expr.png\" style=\"display:inline;vertical-align:middle;\" /></a></td></tr>\n",
       "<tr><td>13</td><td>Operation</td><td>operator:&nbsp;27<br>operands:&nbsp;18<br></td><td><a class=\"ProveItLink\" href=\"../../common/b4ead9ad946dc97a1fb1851eac732c0b938608860/expr.ipynb\"><img src=\"../../common/b4ead9ad946dc97a1fb1851eac732c0b938608860/expr.png\" style=\"display:inline;vertical-align:middle;\" /></a></td></tr>\n",
       "<tr><td>14</td><td>ExprRange</td><td>lambda_map:&nbsp;19<br>start_index:&nbsp;39<br>end_index:&nbsp;40<br></td><td><a class=\"ProveItLink\" href=\"../47171654d49ac5d84249398ece5b1bb47e87284d0/expr.ipynb\"><img src=\"../47171654d49ac5d84249398ece5b1bb47e87284d0/expr.png\" style=\"display:inline;vertical-align:middle;\" /></a></td></tr>\n",
       "<tr><td>15</td><td>Operation</td><td>operator:&nbsp;30<br>operands:&nbsp;20<br></td><td><a class=\"ProveItLink\" href=\"../6e5cad5b2984ed0d75bd47bd0c542ec447a4f3570/expr.ipynb\"><img src=\"../6e5cad5b2984ed0d75bd47bd0c542ec447a4f3570/expr.png\" style=\"display:inline;vertical-align:middle;\" /></a></td></tr>\n",
       "<tr><td>16</td><td>ExprRange</td><td>lambda_map:&nbsp;21<br>start_index:&nbsp;39<br>end_index:&nbsp;40<br></td><td><a class=\"ProveItLink\" href=\"../../common/cf4d7d678624756b28643e4b65f144e7795e99810/expr.ipynb\"><img src=\"../../common/cf4d7d678624756b28643e4b65f144e7795e99810/expr.png\" style=\"display:inline;vertical-align:middle;\" /></a></td></tr>\n",
       "<tr><td>17</td><td>ExprTuple</td><td>22, 44</td><td><a class=\"ProveItLink\" href=\"../618c21447fbdf0bc307f2578322b5f03b246cf860/expr.ipynb\"><img src=\"../618c21447fbdf0bc307f2578322b5f03b246cf860/expr.png\" style=\"display:inline;vertical-align:middle;\" /></a></td></tr>\n",
       "<tr><td>18</td><td>ExprTuple</td><td>23</td><td><a class=\"ProveItLink\" href=\"../../common/d0468ee9129d68d9d1dfe75b0339ec2e85f8733f0/expr.ipynb\"><img src=\"../../common/d0468ee9129d68d9d1dfe75b0339ec2e85f8733f0/expr.png\" style=\"display:inline;vertical-align:middle;\" /></a></td></tr>\n",
       "<tr><td>19</td><td>Lambda</td><td>parameter:&nbsp;47<br>body:&nbsp;24<br></td><td><a class=\"ProveItLink\" href=\"../5c5d2db4e62eeb1316594489c9dc78d764404c220/expr.ipynb\"><img src=\"../5c5d2db4e62eeb1316594489c9dc78d764404c220/expr.png\" style=\"display:inline;vertical-align:middle;\" /></a></td></tr>\n",
       "<tr><td>20</td><td>ExprTuple</td><td>44, 25</td><td><a class=\"ProveItLink\" href=\"../3cf9b209cada40f4dbeb74780e8d7cfa407b10aa0/expr.ipynb\"><img src=\"../3cf9b209cada40f4dbeb74780e8d7cfa407b10aa0/expr.png\" style=\"display:inline;vertical-align:middle;\" /></a></td></tr>\n",
       "<tr><td>21</td><td>Lambda</td><td>parameter:&nbsp;47<br>body:&nbsp;26<br></td><td><a class=\"ProveItLink\" href=\"../../common/18f13a3bf38680180415ea80d1873bbef0da15760/expr.ipynb\"><img src=\"../../common/18f13a3bf38680180415ea80d1873bbef0da15760/expr.png\" style=\"display:inline;vertical-align:middle;\" /></a></td></tr>\n",
       "<tr><td>22</td><td>Operation</td><td>operator:&nbsp;27<br>operands:&nbsp;28<br></td><td><a class=\"ProveItLink\" href=\"../5ef641d57c2f1acad32fffebe02df4ad01ccfca10/expr.ipynb\"><img src=\"../5ef641d57c2f1acad32fffebe02df4ad01ccfca10/expr.png\" style=\"display:inline;vertical-align:middle;\" /></a></td></tr>\n",
       "<tr><td>23</td><td>ExprRange</td><td>lambda_map:&nbsp;29<br>start_index:&nbsp;39<br>end_index:&nbsp;40<br></td><td><a class=\"ProveItLink\" href=\"../../common/71d7f669e1eac120b30a9f58e064871916c78d870/expr.ipynb\"><img src=\"../../common/71d7f669e1eac120b30a9f58e064871916c78d870/expr.png\" style=\"display:inline;vertical-align:middle;\" /></a></td></tr>\n",
       "<tr><td>24</td><td>Operation</td><td>operator:&nbsp;30<br>operands:&nbsp;31<br></td><td><a class=\"ProveItLink\" href=\"../99217926884f96534bb8eb1bd6e3cfdfb7161e620/expr.ipynb\"><img src=\"../99217926884f96534bb8eb1bd6e3cfdfb7161e620/expr.png\" style=\"display:inline;vertical-align:middle;\" /></a></td></tr>\n",
       "<tr><td>25</td><td>Literal</td><td></td><td><a class=\"ProveItLink\" href=\"../../../../number_sets/real_numbers/__pv_it/common/93cac87a1a47e613f7a83b23ef7891599a1a4cca0/expr.ipynb\"><img src=\"../../../../number_sets/real_numbers/__pv_it/common/93cac87a1a47e613f7a83b23ef7891599a1a4cca0/expr.png\" style=\"display:inline;vertical-align:middle;\" /></a></td></tr>\n",
       "<tr><td>26</td><td>Operation</td><td>operator:&nbsp;32<br>operands:&nbsp;33<br></td><td><a class=\"ProveItLink\" href=\"../../common/5f9081bb6578c47c2bf6e4cf30883993c604c5320/expr.ipynb\"><img src=\"../../common/5f9081bb6578c47c2bf6e4cf30883993c604c5320/expr.png\" style=\"display:inline;vertical-align:middle;\" /></a></td></tr>\n",
       "<tr><td>27</td><td>Literal</td><td></td><td><a class=\"ProveItLink\" href=\"../../../../multiplication/__pv_it/common/ed719cef37831779c16481533a4d380a2f95ab270/expr.ipynb\"><img src=\"../../../../multiplication/__pv_it/common/ed719cef37831779c16481533a4d380a2f95ab270/expr.png\" style=\"display:inline;vertical-align:middle;\" /></a></td></tr>\n",
       "<tr><td>28</td><td>ExprTuple</td><td>34</td><td><a class=\"ProveItLink\" href=\"../4a3affb8d94ea09e09cb392a1a13d01844a34d250/expr.ipynb\"><img src=\"../4a3affb8d94ea09e09cb392a1a13d01844a34d250/expr.png\" style=\"display:inline;vertical-align:middle;\" /></a></td></tr>\n",
       "<tr><td>29</td><td>Lambda</td><td>parameter:&nbsp;47<br>body:&nbsp;35<br></td><td><a class=\"ProveItLink\" href=\"../../common/8cceb7d5302a8e87bb4095cb78784125bef19fc30/expr.ipynb\"><img src=\"../../common/8cceb7d5302a8e87bb4095cb78784125bef19fc30/expr.png\" style=\"display:inline;vertical-align:middle;\" /></a></td></tr>\n",
       "<tr><td>30</td><td>Literal</td><td></td><td><a class=\"ProveItLink\" href=\"../../../../../logic/sets/membership/__pv_it/common/477487d8796864d23d5810f83761435f25167f690/expr.ipynb\"><img src=\"../../../../../logic/sets/membership/__pv_it/common/477487d8796864d23d5810f83761435f25167f690/expr.png\" style=\"display:inline;vertical-align:middle;\" /></a></td></tr>\n",
       "<tr><td>31</td><td>ExprTuple</td><td>43, 36</td><td><a class=\"ProveItLink\" href=\"../ce93d50dac6e6e7831954e956696a52de96f364a0/expr.ipynb\"><img src=\"../ce93d50dac6e6e7831954e956696a52de96f364a0/expr.png\" style=\"display:inline;vertical-align:middle;\" /></a></td></tr>\n",
       "<tr><td>32</td><td>Literal</td><td></td><td><a class=\"ProveItLink\" href=\"../../../../../logic/equality/__pv_it/common/d96270bc9bb1bad54f773b1c04bfb343a739642c0/expr.ipynb\"><img src=\"../../../../../logic/equality/__pv_it/common/d96270bc9bb1bad54f773b1c04bfb343a739642c0/expr.png\" style=\"display:inline;vertical-align:middle;\" /></a></td></tr>\n",
       "<tr><td>33</td><td>ExprTuple</td><td>43, 37</td><td><a class=\"ProveItLink\" href=\"../../common/0c54635249a14351da7a793cba8de41cc7de89ba0/expr.ipynb\"><img src=\"../../common/0c54635249a14351da7a793cba8de41cc7de89ba0/expr.png\" style=\"display:inline;vertical-align:middle;\" /></a></td></tr>\n",
       "<tr><td>34</td><td>ExprRange</td><td>lambda_map:&nbsp;38<br>start_index:&nbsp;39<br>end_index:&nbsp;40<br></td><td><a class=\"ProveItLink\" href=\"../../../../../core_expr_types/__pv_it/common/1b82bfd6d142c0dcddaa042c515eb9e5527f4b990/expr.ipynb\"><img src=\"../../../../../core_expr_types/__pv_it/common/1b82bfd6d142c0dcddaa042c515eb9e5527f4b990/expr.png\" style=\"display:inline;vertical-align:middle;\" /></a></td></tr>\n",
       "<tr><td>35</td><td>Operation</td><td>operator:&nbsp;41<br>operands:&nbsp;42<br></td><td><a class=\"ProveItLink\" href=\"../../common/030575de5a669d21f675b85333e4be3ce8c6da2a0/expr.ipynb\"><img src=\"../../common/030575de5a669d21f675b85333e4be3ce8c6da2a0/expr.png\" style=\"display:inline;vertical-align:middle;\" /></a></td></tr>\n",
       "<tr><td>36</td><td>Literal</td><td></td><td><a class=\"ProveItLink\" href=\"../../../../number_sets/complex_numbers/__pv_it/common/d18a028138f659eda00de597c28a3447fe87eb100/expr.ipynb\"><img src=\"../../../../number_sets/complex_numbers/__pv_it/common/d18a028138f659eda00de597c28a3447fe87eb100/expr.png\" style=\"display:inline;vertical-align:middle;\" /></a></td></tr>\n",
       "<tr><td>37</td><td>Literal</td><td></td><td><a class=\"ProveItLink\" href=\"../../../../numerals/__pv_it/common/dd4e19e8b134dfb293470ea55fe3589b0ab9f8040/expr.ipynb\"><img src=\"../../../../numerals/__pv_it/common/dd4e19e8b134dfb293470ea55fe3589b0ab9f8040/expr.png\" style=\"display:inline;vertical-align:middle;\" /></a></td></tr>\n",
       "<tr><td>38</td><td>Lambda</td><td>parameter:&nbsp;47<br>body:&nbsp;43<br></td><td><a class=\"ProveItLink\" href=\"../../../../../core_expr_types/__pv_it/common/1527ad383e12f9c6ed6b371c9a7dd1892d80da1b0/expr.ipynb\"><img src=\"../../../../../core_expr_types/__pv_it/common/1527ad383e12f9c6ed6b371c9a7dd1892d80da1b0/expr.png\" style=\"display:inline;vertical-align:middle;\" /></a></td></tr>\n",
       "<tr><td>39</td><td>Literal</td><td></td><td><a class=\"ProveItLink\" href=\"../../../../numerals/__pv_it/common/682157d4892d216d9e5626ed533aff9b56b9506e0/expr.ipynb\"><img src=\"../../../../numerals/__pv_it/common/682157d4892d216d9e5626ed533aff9b56b9506e0/expr.png\" style=\"display:inline;vertical-align:middle;\" /></a></td></tr>\n",
       "<tr><td>40</td><td>Variable</td><td></td><td><a class=\"ProveItLink\" href=\"../../../../../__pv_it/common/674a03b9c3ca221b3aabd5636837b31528ff33830/expr.ipynb\"><img src=\"../../../../../__pv_it/common/674a03b9c3ca221b3aabd5636837b31528ff33830/expr.png\" style=\"display:inline;vertical-align:middle;\" /></a></td></tr>\n",
       "<tr><td>41</td><td>Literal</td><td></td><td><a class=\"ProveItLink\" href=\"../../common/0ac37aca1e54c35c5cda09672df32d4f69f1f3020/expr.ipynb\"><img src=\"../../common/0ac37aca1e54c35c5cda09672df32d4f69f1f3020/expr.png\" style=\"display:inline;vertical-align:middle;\" /></a></td></tr>\n",
       "<tr><td>42</td><td>ExprTuple</td><td>43, 44</td><td><a class=\"ProveItLink\" href=\"../../common/fdde49ba2f86775a3e2723a81a0baa63c94368a80/expr.ipynb\"><img src=\"../../common/fdde49ba2f86775a3e2723a81a0baa63c94368a80/expr.png\" style=\"display:inline;vertical-align:middle;\" /></a></td></tr>\n",
       "<tr><td>43</td><td>IndexedVar</td><td>variable:&nbsp;45<br>index:&nbsp;47<br></td><td><a class=\"ProveItLink\" href=\"../../common/3a62c13e156d62d52fe585fa37cc2172fcf685260/expr.ipynb\"><img src=\"../../common/3a62c13e156d62d52fe585fa37cc2172fcf685260/expr.png\" style=\"display:inline;vertical-align:middle;\" /></a></td></tr>\n",
       "<tr><td>44</td><td>Variable</td><td></td><td><a class=\"ProveItLink\" href=\"../../../../../__pv_it/common/195236b98c6c564a75b5dbada74b173bc52d5c3e0/expr.ipynb\"><img src=\"../../../../../__pv_it/common/195236b98c6c564a75b5dbada74b173bc52d5c3e0/expr.png\" style=\"display:inline;vertical-align:middle;\" /></a></td></tr>\n",
       "<tr><td>45</td><td>Variable</td><td></td><td><a class=\"ProveItLink\" href=\"../../../../../__pv_it/common/c06c606ec12678c58933ac85412ecadc2ae28be60/expr.ipynb\"><img src=\"../../../../../__pv_it/common/c06c606ec12678c58933ac85412ecadc2ae28be60/expr.png\" style=\"display:inline;vertical-align:middle;\" /></a></td></tr>\n",
       "<tr><td>46</td><td>ExprTuple</td><td>47</td><td><a class=\"ProveItLink\" href=\"../../common/4b0dd6be36d76552eda6a95d5b4a27f5a5b62f900/expr.ipynb\"><img src=\"../../common/4b0dd6be36d76552eda6a95d5b4a27f5a5b62f900/expr.png\" style=\"display:inline;vertical-align:middle;\" /></a></td></tr>\n",
       "<tr><td>47</td><td>Variable</td><td></td><td><a class=\"ProveItLink\" href=\"../../common/006c465e50948aa2b52285e2de47974f741255cc0/expr.ipynb\"><img src=\"../../common/006c465e50948aa2b52285e2de47974f741255cc0/expr.png\" style=\"display:inline;vertical-align:middle;\" /></a></td></tr>\n",
       "</table>\n"
      ],
      "text/plain": [
       "0. forall_{(a_{1} in Complex), (a_{2} in Complex), ..., (a_{m} in Complex), b in Real | (a_{1} != 0), (a_{2} != 0), ..., (a_{m} != 0)} ((a_{1} *  a_{2} *  ... *  a_{m})^{b} = ((a_{1})^{b} *  (a_{2})^{b} *  ... *  (a_{m})^{b}))\n",
       "   core type: Operation\n",
       "   operator: 1\n",
       "   operand: 3\n",
       "1. forall\n",
       "   core type: Literal\n",
       "   sub-expressions: \n",
       "2. ((a_{1}, a_{2}, ..., a_{m}, b) -> {(a_{1} *  a_{2} *  ... *  a_{m})^{b} = ((a_{1})^{b} *  (a_{2})^{b} *  ... *  (a_{m})^{b}) if (a_{1} in Complex) ,  (a_{2} in Complex) ,  ... ,  (a_{m} in Complex) ,  b in Real, (a_{1} != 0) ,  (a_{2} != 0) ,  ... ,  (a_{m} != 0).)\n",
       "   core type: ExprTuple\n",
       "   sub-expressions: 3\n",
       "3. (a_{1}, a_{2}, ..., a_{m}, b) -> {(a_{1} *  a_{2} *  ... *  a_{m})^{b} = ((a_{1})^{b} *  (a_{2})^{b} *  ... *  (a_{m})^{b}) if (a_{1} in Complex) ,  (a_{2} in Complex) ,  ... ,  (a_{m} in Complex) ,  b in Real, (a_{1} != 0) ,  (a_{2} != 0) ,  ... ,  (a_{m} != 0).\n",
       "   core type: Lambda\n",
       "   parameters: 4\\n   body: 5\n",
       "4. (a_{1}, a_{2}, ..., a_{m}, b)\n",
       "   core type: ExprTuple\n",
       "   sub-expressions: 34, 44\n",
       "5. {(a_{1} *  a_{2} *  ... *  a_{m})^{b} = ((a_{1})^{b} *  (a_{2})^{b} *  ... *  (a_{m})^{b}) if (a_{1} in Complex) ,  (a_{2} in Complex) ,  ... ,  (a_{m} in Complex) ,  b in Real, (a_{1} != 0) ,  (a_{2} != 0) ,  ... ,  (a_{m} != 0).\n",
       "   core type: Conditional\n",
       "   value: 6\n",
       "   condition: 7\n",
       "6. (a_{1} *  a_{2} *  ... *  a_{m})^{b} = ((a_{1})^{b} *  (a_{2})^{b} *  ... *  (a_{m})^{b})\n",
       "   core type: Operation\n",
       "   operator: 8\n",
       "   operands: 9\n",
       "7. (a_{1} in Complex) and  (a_{2} in Complex) and  ... and  (a_{m} in Complex) and (b in Real)and (a_{1} != 0) and  (a_{2} != 0) and  ... and  (a_{m} != 0)\n",
       "   core type: Operation\n",
       "   operator: 10\n",
       "   operands: 11\n",
       "8. =\n",
       "   core type: Literal\n",
       "   sub-expressions: \n",
       "9. ((a_{1} *  a_{2} *  ... *  a_{m})^{b}, (a_{1})^{b} *  (a_{2})^{b} *  ... *  (a_{m})^{b})\n",
       "   core type: ExprTuple\n",
       "   sub-expressions: 12, 13\n",
       "10. and\n",
       "    core type: Literal\n",
       "    sub-expressions: \n",
       "11. ((a_{1} in Complex), (a_{2} in Complex), ..., (a_{m} in Complex), b in Real,(a_{1} != 0), (a_{2} != 0), ..., (a_{m} != 0))\n",
       "    core type: ExprTuple\n",
       "    sub-expressions: 14, 15, 16\n",
       "12. (a_{1} *  a_{2} *  ... *  a_{m})^{b}\n",
       "    core type: Operation\n",
       "    operator: 41\n",
       "    operands: 17\n",
       "13. (a_{1})^{b} *  (a_{2})^{b} *  ... *  (a_{m})^{b}\n",
       "    core type: Operation\n",
       "    operator: 27\n",
       "    operands: 18\n",
       "14. (a_{1} in Complex), (a_{2} in Complex), ..., (a_{m} in Complex)\n",
       "    core type: ExprRange\n",
       "    lambda_map: 19\n",
       "    start_index: 39\n",
       "    end_index: 40\n",
       "15. b in Real\n",
       "    core type: Operation\n",
       "    operator: 30\n",
       "    operands: 20\n",
       "16. (a_{1} != 0), (a_{2} != 0), ..., (a_{m} != 0)\n",
       "    core type: ExprRange\n",
       "    lambda_map: 21\n",
       "    start_index: 39\n",
       "    end_index: 40\n",
       "17. (a_{1} *  a_{2} *  ... *  a_{m}, b)\n",
       "    core type: ExprTuple\n",
       "    sub-expressions: 22, 44\n",
       "18. ((a_{1})^{b}, (a_{2})^{b}, ..., (a_{m})^{b})\n",
       "    core type: ExprTuple\n",
       "    sub-expressions: 23\n",
       "19. _a -> (a_{_a} in Complex)\n",
       "    core type: Lambda\n",
       "    parameter: 47\n",
       "    body: 24\n",
       "20. (b, Real)\n",
       "    core type: ExprTuple\n",
       "    sub-expressions: 44, 25\n",
       "21. _a -> (a_{_a} != 0)\n",
       "    core type: Lambda\n",
       "    parameter: 47\n",
       "    body: 26\n",
       "22. a_{1} *  a_{2} *  ... *  a_{m}\n",
       "    core type: Operation\n",
       "    operator: 27\n",
       "    operands: 28\n",
       "23. (a_{1})^{b}, (a_{2})^{b}, ..., (a_{m})^{b}\n",
       "    core type: ExprRange\n",
       "    lambda_map: 29\n",
       "    start_index: 39\n",
       "    end_index: 40\n",
       "24. a_{_a} in Complex\n",
       "    core type: Operation\n",
       "    operator: 30\n",
       "    operands: 31\n",
       "25. Real\n",
       "    core type: Literal\n",
       "    sub-expressions: \n",
       "26. a_{_a} != 0\n",
       "    core type: Operation\n",
       "    operator: 32\n",
       "    operands: 33\n",
       "27. *\n",
       "    core type: Literal\n",
       "    sub-expressions: \n",
       "28. (a_{1}, a_{2}, ..., a_{m})\n",
       "    core type: ExprTuple\n",
       "    sub-expressions: 34\n",
       "29. _a -> (a_{_a})^{b}\n",
       "    core type: Lambda\n",
       "    parameter: 47\n",
       "    body: 35\n",
       "30. in\n",
       "    core type: Literal\n",
       "    sub-expressions: \n",
       "31. (a_{_a}, Complex)\n",
       "    core type: ExprTuple\n",
       "    sub-expressions: 43, 36\n",
       "32. !=\n",
       "    core type: Literal\n",
       "    sub-expressions: \n",
       "33. (a_{_a}, 0)\n",
       "    core type: ExprTuple\n",
       "    sub-expressions: 43, 37\n",
       "34. a_{1}, a_{2}, ..., a_{m}\n",
       "    core type: ExprRange\n",
       "    lambda_map: 38\n",
       "    start_index: 39\n",
       "    end_index: 40\n",
       "35. (a_{_a})^{b}\n",
       "    core type: Operation\n",
       "    operator: 41\n",
       "    operands: 42\n",
       "36. Complex\n",
       "    core type: Literal\n",
       "    sub-expressions: \n",
       "37. 0\n",
       "    core type: Literal\n",
       "    sub-expressions: \n",
       "38. _a -> a_{_a}\n",
       "    core type: Lambda\n",
       "    parameter: 47\n",
       "    body: 43\n",
       "39. 1\n",
       "    core type: Literal\n",
       "    sub-expressions: \n",
       "40. m\n",
       "    core type: Variable\n",
       "    sub-expressions: \n",
       "41. Exp\n",
       "    core type: Literal\n",
       "    sub-expressions: \n",
       "42. (a_{_a}, b)\n",
       "    core type: ExprTuple\n",
       "    sub-expressions: 43, 44\n",
       "43. a_{_a}\n",
       "    core type: IndexedVar\n",
       "variable: 45\n",
       "index: 47\n",
       "44. b\n",
       "    core type: Variable\n",
       "    sub-expressions: \n",
       "45. a\n",
       "    core type: Variable\n",
       "    sub-expressions: \n",
       "46. (_a)\n",
       "    core type: ExprTuple\n",
       "    sub-expressions: 47\n",
       "47. _a\n",
       "    core type: Variable\n",
       "    sub-expressions: "
      ]
     },
     "metadata": {},
     "output_type": "display_data"
    }
   ],
   "source": [
    "# display the expression information\n",
    "stored_expr.expr_info()"
   ]
  },
  {
   "cell_type": "code",
   "execution_count": null,
   "metadata": {},
   "outputs": [],
   "source": []
  }
 ],
 "metadata": {
  "kernelspec": {
   "display_name": "Python 3",
   "language": "python",
   "name": "python3"
  }
 },
 "nbformat": 4,
 "nbformat_minor": 0
}