{
 "cells": [
  {
   "cell_type": "markdown",
   "metadata": {},
   "source": [
    "Expression of type <a class=\"ProveItLink\" href=\"../../../../../../../doc/html/api/proveit.logic.Forall.html\">Forall</a>\n",
    "=======================\n",
    "# from the theory of <a class=\"ProveItLink\" href=\"../../../_theory_nbs_/theory.ipynb\">proveit.numbers.exponentiation</a>"
   ]
  },
  {
   "cell_type": "code",
   "execution_count": 1,
   "metadata": {},
   "outputs": [],
   "source": [
    "import proveit\n",
    "# Automation is not needed when building an expression:\n",
    "proveit.defaults.automation = False # This will speed things up.\n",
    "proveit.defaults.inline_pngs = False # Makes files smaller.\n",
    "%load_expr # Load the stored expression as 'stored_expr'\n",
    "# import Expression classes needed to build the expression\n",
    "from proveit import a, m\n",
    "from proveit.core_expr_types import b_1_to_m\n",
    "from proveit.logic import Equals, Forall\n",
    "from proveit.numbers import Add, Complex, Exp, NaturalPos, RealPos\n",
    "from proveit.numbers.exponentiation import prod_a_raise_bi__1_to_m"
   ]
  },
  {
   "cell_type": "code",
   "execution_count": 2,
   "metadata": {},
   "outputs": [
    {
     "data": {
      "text/html": [
       "<strong id=\"expr\">expr:</strong> <a class=\"ProveItLink\" href=\"expr.ipynb\"><img src=\"expr.png\" style=\"display:inline;vertical-align:middle;\" /></a><br>"
      ],
      "text/plain": [
       "<IPython.core.display.HTML object>"
      ]
     },
     "metadata": {},
     "output_type": "display_data"
    }
   ],
   "source": [
    "# build up the expression from sub-expressions\n",
    "expr = Forall(instance_param_or_params = [m], instance_expr = Forall(instance_param_or_params = [a, b_1_to_m], instance_expr = Equals(prod_a_raise_bi__1_to_m, Exp(a, Add(b_1_to_m))), domains = [Complex, RealPos]), domain = NaturalPos)"
   ]
  },
  {
   "cell_type": "code",
   "execution_count": 3,
   "metadata": {},
   "outputs": [
    {
     "name": "stdout",
     "output_type": "stream",
     "text": [
      "Passed sanity check: expr matches stored_expr\n"
     ]
    }
   ],
   "source": [
    "# check that the built expression is the same as the stored expression\n",
    "assert expr == stored_expr\n",
    "assert expr._style_id == stored_expr._style_id\n",
    "print(\"Passed sanity check: expr matches stored_expr\")"
   ]
  },
  {
   "cell_type": "code",
   "execution_count": 4,
   "metadata": {},
   "outputs": [
    {
     "name": "stdout",
     "output_type": "stream",
     "text": [
      "\\forall_{m \\in \\mathbb{N}^+}~\\left[\\forall_{a \\in \\mathbb{C},\\left(b_{1} \\in \\mathbb{R}^+\\right), \\left(b_{2} \\in \\mathbb{R}^+\\right), \\ldots, \\left(b_{m} \\in \\mathbb{R}^+\\right)}~\\left(\\left(a^{b_{1}} \\cdot  a^{b_{2}} \\cdot  \\ldots \\cdot  a^{b_{m}}\\right) = a^{b_{1} +  b_{2} +  \\ldots +  b_{m}}\\right)\\right]\n"
     ]
    }
   ],
   "source": [
    "# Show the LaTeX representation of the expression for convenience if you need it.\n",
    "print(stored_expr.latex())"
   ]
  },
  {
   "cell_type": "code",
   "execution_count": 5,
   "metadata": {},
   "outputs": [
    {
     "data": {
      "text/html": [
       "<table>\n",
       "<tr><th>name</th><th>description</th><th>default</th><th>current value</th><th>related methods</th></tr><tr><td>with_wrapping</td><td>If 'True', wrap the Expression after the parameters</td><td>None</td><td>None/False</td><td>('with_wrapping',)</td></tr>\n",
       "<tr><td>condition_wrapping</td><td>Wrap 'before' or 'after' the condition (or None).</td><td>None</td><td>None/False</td><td>('with_wrap_after_condition', 'with_wrap_before_condition')</td></tr>\n",
       "<tr><td>wrap_params</td><td>If 'True', wraps every two parameters AND wraps the Expression after the parameters</td><td>None</td><td>None/False</td><td>('with_params',)</td></tr>\n",
       "<tr><td>justification</td><td>justify to the 'left', 'center', or 'right' in the array cells</td><td>center</td><td>center</td><td>('with_justification',)</td></tr>\n",
       "</table>\n"
      ],
      "text/plain": [
       "style name: with_wrapping\n",
       "description: If 'True', wrap the Expression after the parameters\n",
       "default: None\n",
       "current value: None/False\n",
       "related methods: ('with_wrapping',)\n",
       "style name: condition_wrapping\n",
       "description: Wrap 'before' or 'after' the condition (or None).\n",
       "default: None\n",
       "current value: None/False\n",
       "related methods: ('with_wrap_after_condition', 'with_wrap_before_condition')\n",
       "style name: wrap_params\n",
       "description: If 'True', wraps every two parameters AND wraps the Expression after the parameters\n",
       "default: None\n",
       "current value: None/False\n",
       "related methods: ('with_params',)\n",
       "style name: justification\n",
       "description: justify to the 'left', 'center', or 'right' in the array cells\n",
       "default: center\n",
       "current value: center\n",
       "related methods: ('with_justification',)"
      ]
     },
     "metadata": {},
     "output_type": "display_data"
    }
   ],
   "source": [
    "stored_expr.style_options()"
   ]
  },
  {
   "cell_type": "code",
   "execution_count": 6,
   "metadata": {},
   "outputs": [
    {
     "data": {
      "text/html": [
       "<table><tr><th>&nbsp;</th><th>core type</th><th>sub-expressions</th><th>expression</th></tr>\n",
       "<tr><td>0</td><td>Operation</td><td>operator:&nbsp;7<br>operand:&nbsp;2<br></td><td><a class=\"ProveItLink\" href=\"expr.ipynb\"><img src=\"expr.png\" style=\"display:inline;vertical-align:middle;\" /></a></td></tr>\n",
       "<tr><td>1</td><td>ExprTuple</td><td>2</td><td><a class=\"ProveItLink\" href=\"../4f029c03d1be1d2440d244d882fa2417937986630/expr.ipynb\"><img src=\"../4f029c03d1be1d2440d244d882fa2417937986630/expr.png\" style=\"display:inline;vertical-align:middle;\" /></a></td></tr>\n",
       "<tr><td>2</td><td>Lambda</td><td>parameter:&nbsp;45<br>body:&nbsp;4<br></td><td><a class=\"ProveItLink\" href=\"../1de3c7c4e5be9e9cf1a60dfc847913fee85aeb2e0/expr.ipynb\"><img src=\"../1de3c7c4e5be9e9cf1a60dfc847913fee85aeb2e0/expr.png\" style=\"display:inline;vertical-align:middle;\" /></a></td></tr>\n",
       "<tr><td>3</td><td>ExprTuple</td><td>45</td><td><a class=\"ProveItLink\" href=\"../2ed45ad9602ac89076225577ef477d88f8c5a1790/expr.ipynb\"><img src=\"../2ed45ad9602ac89076225577ef477d88f8c5a1790/expr.png\" style=\"display:inline;vertical-align:middle;\" /></a></td></tr>\n",
       "<tr><td>4</td><td>Conditional</td><td>value:&nbsp;5<br>condition:&nbsp;6<br></td><td><a class=\"ProveItLink\" href=\"../2b4176019bf2c8591777a8ca49005b71b6f517900/expr.ipynb\"><img src=\"../2b4176019bf2c8591777a8ca49005b71b6f517900/expr.png\" style=\"display:inline;vertical-align:middle;\" /></a></td></tr>\n",
       "<tr><td>5</td><td>Operation</td><td>operator:&nbsp;7<br>operand:&nbsp;10<br></td><td><a class=\"ProveItLink\" href=\"../b0b7a3db6161f50de0557898423d08fa810801100/expr.ipynb\"><img src=\"../b0b7a3db6161f50de0557898423d08fa810801100/expr.png\" style=\"display:inline;vertical-align:middle;\" /></a></td></tr>\n",
       "<tr><td>6</td><td>Operation</td><td>operator:&nbsp;36<br>operands:&nbsp;9<br></td><td><a class=\"ProveItLink\" href=\"../79a768603778550c651661670153c27ee0a505870/expr.ipynb\"><img src=\"../79a768603778550c651661670153c27ee0a505870/expr.png\" style=\"display:inline;vertical-align:middle;\" /></a></td></tr>\n",
       "<tr><td>7</td><td>Literal</td><td></td><td><a class=\"ProveItLink\" href=\"../../../../../logic/booleans/quantification/universality/__pv_it/common/083d2baa0b8ecab1d230f9ec29a15aa1355809fb0/expr.ipynb\"><img src=\"../../../../../logic/booleans/quantification/universality/__pv_it/common/083d2baa0b8ecab1d230f9ec29a15aa1355809fb0/expr.png\" style=\"display:inline;vertical-align:middle;\" /></a></td></tr>\n",
       "<tr><td>8</td><td>ExprTuple</td><td>10</td><td><a class=\"ProveItLink\" href=\"../ec0e25e676ad71aab3820408b9053843449d2cfb0/expr.ipynb\"><img src=\"../ec0e25e676ad71aab3820408b9053843449d2cfb0/expr.png\" style=\"display:inline;vertical-align:middle;\" /></a></td></tr>\n",
       "<tr><td>9</td><td>ExprTuple</td><td>45, 11</td><td><a class=\"ProveItLink\" href=\"../0aafde61e876ad81c8138546f58d9459d893af050/expr.ipynb\"><img src=\"../0aafde61e876ad81c8138546f58d9459d893af050/expr.png\" style=\"display:inline;vertical-align:middle;\" /></a></td></tr>\n",
       "<tr><td>10</td><td>Lambda</td><td>parameters:&nbsp;12<br>body:&nbsp;13<br></td><td><a class=\"ProveItLink\" href=\"../8b33bc0a714f3694eba879fe7aedcd54533b481f0/expr.ipynb\"><img src=\"../8b33bc0a714f3694eba879fe7aedcd54533b481f0/expr.png\" style=\"display:inline;vertical-align:middle;\" /></a></td></tr>\n",
       "<tr><td>11</td><td>Literal</td><td></td><td><a class=\"ProveItLink\" href=\"../../../../number_sets/natural_numbers/__pv_it/common/6111329435c43892c831c4793de96afbf80bdb3e0/expr.ipynb\"><img src=\"../../../../number_sets/natural_numbers/__pv_it/common/6111329435c43892c831c4793de96afbf80bdb3e0/expr.png\" style=\"display:inline;vertical-align:middle;\" /></a></td></tr>\n",
       "<tr><td>12</td><td>ExprTuple</td><td>46, 39</td><td><a class=\"ProveItLink\" href=\"../3a0adf0c4635b1fc8e9c6aa093a24af1bd68b2f60/expr.ipynb\"><img src=\"../3a0adf0c4635b1fc8e9c6aa093a24af1bd68b2f60/expr.png\" style=\"display:inline;vertical-align:middle;\" /></a></td></tr>\n",
       "<tr><td>13</td><td>Conditional</td><td>value:&nbsp;14<br>condition:&nbsp;15<br></td><td><a class=\"ProveItLink\" href=\"../603f9c89d9b670345b6e5ae192a886dcf48bb9ee0/expr.ipynb\"><img src=\"../603f9c89d9b670345b6e5ae192a886dcf48bb9ee0/expr.png\" style=\"display:inline;vertical-align:middle;\" /></a></td></tr>\n",
       "<tr><td>14</td><td>Operation</td><td>operator:&nbsp;16<br>operands:&nbsp;17<br></td><td><a class=\"ProveItLink\" href=\"../6181ab74a16fecb399e5de5d4427a0d981b4f69c0/expr.ipynb\"><img src=\"../6181ab74a16fecb399e5de5d4427a0d981b4f69c0/expr.png\" style=\"display:inline;vertical-align:middle;\" /></a></td></tr>\n",
       "<tr><td>15</td><td>Operation</td><td>operator:&nbsp;18<br>operands:&nbsp;19<br></td><td><a class=\"ProveItLink\" href=\"../323c53b6dfe0cd1995321a38d71367f895e51f3c0/expr.ipynb\"><img src=\"../323c53b6dfe0cd1995321a38d71367f895e51f3c0/expr.png\" style=\"display:inline;vertical-align:middle;\" /></a></td></tr>\n",
       "<tr><td>16</td><td>Literal</td><td></td><td><a class=\"ProveItLink\" href=\"../../../../../logic/equality/__pv_it/common/fb96dc12b2aa8801dda64d0132b396c63d1502bb0/expr.ipynb\"><img src=\"../../../../../logic/equality/__pv_it/common/fb96dc12b2aa8801dda64d0132b396c63d1502bb0/expr.png\" style=\"display:inline;vertical-align:middle;\" /></a></td></tr>\n",
       "<tr><td>17</td><td>ExprTuple</td><td>20, 21</td><td><a class=\"ProveItLink\" href=\"../2a7e27de9ec18d90e12726ea87e19de103e4df2e0/expr.ipynb\"><img src=\"../2a7e27de9ec18d90e12726ea87e19de103e4df2e0/expr.png\" style=\"display:inline;vertical-align:middle;\" /></a></td></tr>\n",
       "<tr><td>18</td><td>Literal</td><td></td><td><a class=\"ProveItLink\" href=\"../../../../../logic/booleans/conjunction/__pv_it/common/42118ff318bd65d98b1393f64ce7c2269feef76e0/expr.ipynb\"><img src=\"../../../../../logic/booleans/conjunction/__pv_it/common/42118ff318bd65d98b1393f64ce7c2269feef76e0/expr.png\" style=\"display:inline;vertical-align:middle;\" /></a></td></tr>\n",
       "<tr><td>19</td><td>ExprTuple</td><td>22, 23</td><td><a class=\"ProveItLink\" href=\"../2ab1e0a0b81120b38d601b1c619a688b53b03ffd0/expr.ipynb\"><img src=\"../2ab1e0a0b81120b38d601b1c619a688b53b03ffd0/expr.png\" style=\"display:inline;vertical-align:middle;\" /></a></td></tr>\n",
       "<tr><td>20</td><td>Operation</td><td>operator:&nbsp;24<br>operands:&nbsp;25<br></td><td><a class=\"ProveItLink\" href=\"../../common/ea0c1c13e86b093d0417a95037977726b6d62d360/expr.ipynb\"><img src=\"../../common/ea0c1c13e86b093d0417a95037977726b6d62d360/expr.png\" style=\"display:inline;vertical-align:middle;\" /></a></td></tr>\n",
       "<tr><td>21</td><td>Operation</td><td>operator:&nbsp;41<br>operands:&nbsp;26<br></td><td><a class=\"ProveItLink\" href=\"../a2254590b3e82c37997bb564c482e91fa7777f270/expr.ipynb\"><img src=\"../a2254590b3e82c37997bb564c482e91fa7777f270/expr.png\" style=\"display:inline;vertical-align:middle;\" /></a></td></tr>\n",
       "<tr><td>22</td><td>Operation</td><td>operator:&nbsp;36<br>operands:&nbsp;27<br></td><td><a class=\"ProveItLink\" href=\"../e9f87a0977d5044ea8daf1040d2f219396bb3d5b0/expr.ipynb\"><img src=\"../e9f87a0977d5044ea8daf1040d2f219396bb3d5b0/expr.png\" style=\"display:inline;vertical-align:middle;\" /></a></td></tr>\n",
       "<tr><td>23</td><td>ExprRange</td><td>lambda_map:&nbsp;28<br>start_index:&nbsp;44<br>end_index:&nbsp;45<br></td><td><a class=\"ProveItLink\" href=\"../2894130cc3245b18d97cb415887f90950ff782c40/expr.ipynb\"><img src=\"../2894130cc3245b18d97cb415887f90950ff782c40/expr.png\" style=\"display:inline;vertical-align:middle;\" /></a></td></tr>\n",
       "<tr><td>24</td><td>Literal</td><td></td><td><a class=\"ProveItLink\" href=\"../../../../multiplication/__pv_it/common/ed719cef37831779c16481533a4d380a2f95ab270/expr.ipynb\"><img src=\"../../../../multiplication/__pv_it/common/ed719cef37831779c16481533a4d380a2f95ab270/expr.png\" style=\"display:inline;vertical-align:middle;\" /></a></td></tr>\n",
       "<tr><td>25</td><td>ExprTuple</td><td>29</td><td><a class=\"ProveItLink\" href=\"../../common/342b0e457f70ed3915a37e1966228a9a5c6f5f550/expr.ipynb\"><img src=\"../../common/342b0e457f70ed3915a37e1966228a9a5c6f5f550/expr.png\" style=\"display:inline;vertical-align:middle;\" /></a></td></tr>\n",
       "<tr><td>26</td><td>ExprTuple</td><td>46, 30</td><td><a class=\"ProveItLink\" href=\"../51932993d42fc5d02f5743c0685305268d9b860f0/expr.ipynb\"><img src=\"../51932993d42fc5d02f5743c0685305268d9b860f0/expr.png\" style=\"display:inline;vertical-align:middle;\" /></a></td></tr>\n",
       "<tr><td>27</td><td>ExprTuple</td><td>46, 31</td><td><a class=\"ProveItLink\" href=\"../f95f1bd17fb8b13a3ef06d06b532b556f249a05f0/expr.ipynb\"><img src=\"../f95f1bd17fb8b13a3ef06d06b532b556f249a05f0/expr.png\" style=\"display:inline;vertical-align:middle;\" /></a></td></tr>\n",
       "<tr><td>28</td><td>Lambda</td><td>parameter:&nbsp;50<br>body:&nbsp;32<br></td><td><a class=\"ProveItLink\" href=\"../0fcf533623f33c0d4455d091fd066d59bf1591c20/expr.ipynb\"><img src=\"../0fcf533623f33c0d4455d091fd066d59bf1591c20/expr.png\" style=\"display:inline;vertical-align:middle;\" /></a></td></tr>\n",
       "<tr><td>29</td><td>ExprRange</td><td>lambda_map:&nbsp;33<br>start_index:&nbsp;44<br>end_index:&nbsp;45<br></td><td><a class=\"ProveItLink\" href=\"../../common/720408013ce65b76f960bfc60932ef3c6cad920b0/expr.ipynb\"><img src=\"../../common/720408013ce65b76f960bfc60932ef3c6cad920b0/expr.png\" style=\"display:inline;vertical-align:middle;\" /></a></td></tr>\n",
       "<tr><td>30</td><td>Operation</td><td>operator:&nbsp;34<br>operands:&nbsp;35<br></td><td><a class=\"ProveItLink\" href=\"../a1dfa6c2f33f13fb1b7048c3b4a169fd972b346d0/expr.ipynb\"><img src=\"../a1dfa6c2f33f13fb1b7048c3b4a169fd972b346d0/expr.png\" style=\"display:inline;vertical-align:middle;\" /></a></td></tr>\n",
       "<tr><td>31</td><td>Literal</td><td></td><td><a class=\"ProveItLink\" href=\"../../../../number_sets/complex_numbers/__pv_it/common/d18a028138f659eda00de597c28a3447fe87eb100/expr.ipynb\"><img src=\"../../../../number_sets/complex_numbers/__pv_it/common/d18a028138f659eda00de597c28a3447fe87eb100/expr.png\" style=\"display:inline;vertical-align:middle;\" /></a></td></tr>\n",
       "<tr><td>32</td><td>Operation</td><td>operator:&nbsp;36<br>operands:&nbsp;37<br></td><td><a class=\"ProveItLink\" href=\"../430a57caf36bba92632aa794ff48b5377f8ae84a0/expr.ipynb\"><img src=\"../430a57caf36bba92632aa794ff48b5377f8ae84a0/expr.png\" style=\"display:inline;vertical-align:middle;\" /></a></td></tr>\n",
       "<tr><td>33</td><td>Lambda</td><td>parameter:&nbsp;50<br>body:&nbsp;38<br></td><td><a class=\"ProveItLink\" href=\"../../common/f13c2b011dd7c0c0a3a0a6b6e93d29e5d177179e0/expr.ipynb\"><img src=\"../../common/f13c2b011dd7c0c0a3a0a6b6e93d29e5d177179e0/expr.png\" style=\"display:inline;vertical-align:middle;\" /></a></td></tr>\n",
       "<tr><td>34</td><td>Literal</td><td></td><td><a class=\"ProveItLink\" href=\"../../../../addition/__pv_it/common/4b7effaab3619a1c2c38fe2dee8601df8ec714590/expr.ipynb\"><img src=\"../../../../addition/__pv_it/common/4b7effaab3619a1c2c38fe2dee8601df8ec714590/expr.png\" style=\"display:inline;vertical-align:middle;\" /></a></td></tr>\n",
       "<tr><td>35</td><td>ExprTuple</td><td>39</td><td><a class=\"ProveItLink\" href=\"../7d138dd954d02e8e4197584e74f34daed2bb4a9b0/expr.ipynb\"><img src=\"../7d138dd954d02e8e4197584e74f34daed2bb4a9b0/expr.png\" style=\"display:inline;vertical-align:middle;\" /></a></td></tr>\n",
       "<tr><td>36</td><td>Literal</td><td></td><td><a class=\"ProveItLink\" href=\"../../../../../logic/sets/membership/__pv_it/common/477487d8796864d23d5810f83761435f25167f690/expr.ipynb\"><img src=\"../../../../../logic/sets/membership/__pv_it/common/477487d8796864d23d5810f83761435f25167f690/expr.png\" style=\"display:inline;vertical-align:middle;\" /></a></td></tr>\n",
       "<tr><td>37</td><td>ExprTuple</td><td>47, 40</td><td><a class=\"ProveItLink\" href=\"../3cf6ddfb8470ba25809d8dff4eeed5a2a3b6346e0/expr.ipynb\"><img src=\"../3cf6ddfb8470ba25809d8dff4eeed5a2a3b6346e0/expr.png\" style=\"display:inline;vertical-align:middle;\" /></a></td></tr>\n",
       "<tr><td>38</td><td>Operation</td><td>operator:&nbsp;41<br>operands:&nbsp;42<br></td><td><a class=\"ProveItLink\" href=\"../../common/6832704100de79d110f72e4152581dd43cf97d880/expr.ipynb\"><img src=\"../../common/6832704100de79d110f72e4152581dd43cf97d880/expr.png\" style=\"display:inline;vertical-align:middle;\" /></a></td></tr>\n",
       "<tr><td>39</td><td>ExprRange</td><td>lambda_map:&nbsp;43<br>start_index:&nbsp;44<br>end_index:&nbsp;45<br></td><td><a class=\"ProveItLink\" href=\"../../../../../core_expr_types/__pv_it/common/6eefced2bf89c9506c31ed6f9f76970894a7c8d00/expr.ipynb\"><img src=\"../../../../../core_expr_types/__pv_it/common/6eefced2bf89c9506c31ed6f9f76970894a7c8d00/expr.png\" style=\"display:inline;vertical-align:middle;\" /></a></td></tr>\n",
       "<tr><td>40</td><td>Literal</td><td></td><td><a class=\"ProveItLink\" href=\"../../../../number_sets/real_numbers/__pv_it/common/174917e13d50b91c585b7f765a2896383a3ae8010/expr.ipynb\"><img src=\"../../../../number_sets/real_numbers/__pv_it/common/174917e13d50b91c585b7f765a2896383a3ae8010/expr.png\" style=\"display:inline;vertical-align:middle;\" /></a></td></tr>\n",
       "<tr><td>41</td><td>Literal</td><td></td><td><a class=\"ProveItLink\" href=\"../../common/0ac37aca1e54c35c5cda09672df32d4f69f1f3020/expr.ipynb\"><img src=\"../../common/0ac37aca1e54c35c5cda09672df32d4f69f1f3020/expr.png\" style=\"display:inline;vertical-align:middle;\" /></a></td></tr>\n",
       "<tr><td>42</td><td>ExprTuple</td><td>46, 47</td><td><a class=\"ProveItLink\" href=\"../../common/144a7b898f74546c13306a8906c32ddb912f83c70/expr.ipynb\"><img src=\"../../common/144a7b898f74546c13306a8906c32ddb912f83c70/expr.png\" style=\"display:inline;vertical-align:middle;\" /></a></td></tr>\n",
       "<tr><td>43</td><td>Lambda</td><td>parameter:&nbsp;50<br>body:&nbsp;47<br></td><td><a class=\"ProveItLink\" href=\"../../../../../core_expr_types/__pv_it/common/d763764ede9c88a33f4b750791da02d1a21cb6820/expr.ipynb\"><img src=\"../../../../../core_expr_types/__pv_it/common/d763764ede9c88a33f4b750791da02d1a21cb6820/expr.png\" style=\"display:inline;vertical-align:middle;\" /></a></td></tr>\n",
       "<tr><td>44</td><td>Literal</td><td></td><td><a class=\"ProveItLink\" href=\"../../../../numerals/__pv_it/common/682157d4892d216d9e5626ed533aff9b56b9506e0/expr.ipynb\"><img src=\"../../../../numerals/__pv_it/common/682157d4892d216d9e5626ed533aff9b56b9506e0/expr.png\" style=\"display:inline;vertical-align:middle;\" /></a></td></tr>\n",
       "<tr><td>45</td><td>Variable</td><td></td><td><a class=\"ProveItLink\" href=\"../../../../../__pv_it/common/674a03b9c3ca221b3aabd5636837b31528ff33830/expr.ipynb\"><img src=\"../../../../../__pv_it/common/674a03b9c3ca221b3aabd5636837b31528ff33830/expr.png\" style=\"display:inline;vertical-align:middle;\" /></a></td></tr>\n",
       "<tr><td>46</td><td>Variable</td><td></td><td><a class=\"ProveItLink\" href=\"../../../../../__pv_it/common/c06c606ec12678c58933ac85412ecadc2ae28be60/expr.ipynb\"><img src=\"../../../../../__pv_it/common/c06c606ec12678c58933ac85412ecadc2ae28be60/expr.png\" style=\"display:inline;vertical-align:middle;\" /></a></td></tr>\n",
       "<tr><td>47</td><td>IndexedVar</td><td>variable:&nbsp;48<br>index:&nbsp;50<br></td><td><a class=\"ProveItLink\" href=\"../../../../../core_expr_types/__pv_it/common/8542342c36565a593724a99f9c08d995c1c21af20/expr.ipynb\"><img src=\"../../../../../core_expr_types/__pv_it/common/8542342c36565a593724a99f9c08d995c1c21af20/expr.png\" style=\"display:inline;vertical-align:middle;\" /></a></td></tr>\n",
       "<tr><td>48</td><td>Variable</td><td></td><td><a class=\"ProveItLink\" href=\"../../../../../__pv_it/common/195236b98c6c564a75b5dbada74b173bc52d5c3e0/expr.ipynb\"><img src=\"../../../../../__pv_it/common/195236b98c6c564a75b5dbada74b173bc52d5c3e0/expr.png\" style=\"display:inline;vertical-align:middle;\" /></a></td></tr>\n",
       "<tr><td>49</td><td>ExprTuple</td><td>50</td><td><a class=\"ProveItLink\" href=\"../../../../../core_expr_types/__pv_it/common/4b0dd6be36d76552eda6a95d5b4a27f5a5b62f900/expr.ipynb\"><img src=\"../../../../../core_expr_types/__pv_it/common/4b0dd6be36d76552eda6a95d5b4a27f5a5b62f900/expr.png\" style=\"display:inline;vertical-align:middle;\" /></a></td></tr>\n",
       "<tr><td>50</td><td>Variable</td><td></td><td><a class=\"ProveItLink\" href=\"../../../../../core_expr_types/__pv_it/common/006c465e50948aa2b52285e2de47974f741255cc0/expr.ipynb\"><img src=\"../../../../../core_expr_types/__pv_it/common/006c465e50948aa2b52285e2de47974f741255cc0/expr.png\" style=\"display:inline;vertical-align:middle;\" /></a></td></tr>\n",
       "</table>\n"
      ],
      "text/plain": [
       "0. forall_{m in NaturalPos} [forall_{a in Complex,(b_{1} in RealPos), (b_{2} in RealPos), ..., (b_{m} in RealPos)} ((a^{b_{1}} *  a^{b_{2}} *  ... *  a^{b_{m}}) = a^{b_{1} +  b_{2} +  ... +  b_{m}})]\n",
       "   core type: Operation\n",
       "   operator: 7\n",
       "   operand: 2\n",
       "1. (m -> {forall_{a in Complex,(b_{1} in RealPos), (b_{2} in RealPos), ..., (b_{m} in RealPos)} ((a^{b_{1}} *  a^{b_{2}} *  ... *  a^{b_{m}}) = a^{b_{1} +  b_{2} +  ... +  b_{m}}) if m in NaturalPos.)\n",
       "   core type: ExprTuple\n",
       "   sub-expressions: 2\n",
       "2. m -> {forall_{a in Complex,(b_{1} in RealPos), (b_{2} in RealPos), ..., (b_{m} in RealPos)} ((a^{b_{1}} *  a^{b_{2}} *  ... *  a^{b_{m}}) = a^{b_{1} +  b_{2} +  ... +  b_{m}}) if m in NaturalPos.\n",
       "   core type: Lambda\n",
       "   parameter: 45\n",
       "   body: 4\n",
       "3. (m)\n",
       "   core type: ExprTuple\n",
       "   sub-expressions: 45\n",
       "4. {forall_{a in Complex,(b_{1} in RealPos), (b_{2} in RealPos), ..., (b_{m} in RealPos)} ((a^{b_{1}} *  a^{b_{2}} *  ... *  a^{b_{m}}) = a^{b_{1} +  b_{2} +  ... +  b_{m}}) if m in NaturalPos.\n",
       "   core type: Conditional\n",
       "   value: 5\n",
       "   condition: 6\n",
       "5. forall_{a in Complex,(b_{1} in RealPos), (b_{2} in RealPos), ..., (b_{m} in RealPos)} ((a^{b_{1}} *  a^{b_{2}} *  ... *  a^{b_{m}}) = a^{b_{1} +  b_{2} +  ... +  b_{m}})\n",
       "   core type: Operation\n",
       "   operator: 7\n",
       "   operand: 10\n",
       "6. m in NaturalPos\n",
       "   core type: Operation\n",
       "   operator: 36\n",
       "   operands: 9\n",
       "7. forall\n",
       "   core type: Literal\n",
       "   sub-expressions: \n",
       "8. ((a, b_{1}, b_{2}, ..., b_{m}) -> {(a^{b_{1}} *  a^{b_{2}} *  ... *  a^{b_{m}}) = a^{b_{1} +  b_{2} +  ... +  b_{m}} if a in Complex, (b_{1} in RealPos) ,  (b_{2} in RealPos) ,  ... ,  (b_{m} in RealPos).)\n",
       "   core type: ExprTuple\n",
       "   sub-expressions: 10\n",
       "9. (m, NaturalPos)\n",
       "   core type: ExprTuple\n",
       "   sub-expressions: 45, 11\n",
       "10. (a, b_{1}, b_{2}, ..., b_{m}) -> {(a^{b_{1}} *  a^{b_{2}} *  ... *  a^{b_{m}}) = a^{b_{1} +  b_{2} +  ... +  b_{m}} if a in Complex, (b_{1} in RealPos) ,  (b_{2} in RealPos) ,  ... ,  (b_{m} in RealPos).\n",
       "    core type: Lambda\n",
       "    parameters: 12\\n    body: 13\n",
       "11. NaturalPos\n",
       "    core type: Literal\n",
       "    sub-expressions: \n",
       "12. (a,b_{1}, b_{2}, ..., b_{m})\n",
       "    core type: ExprTuple\n",
       "    sub-expressions: 46, 39\n",
       "13. {(a^{b_{1}} *  a^{b_{2}} *  ... *  a^{b_{m}}) = a^{b_{1} +  b_{2} +  ... +  b_{m}} if a in Complex, (b_{1} in RealPos) ,  (b_{2} in RealPos) ,  ... ,  (b_{m} in RealPos).\n",
       "    core type: Conditional\n",
       "    value: 14\n",
       "    condition: 15\n",
       "14. (a^{b_{1}} *  a^{b_{2}} *  ... *  a^{b_{m}}) = a^{b_{1} +  b_{2} +  ... +  b_{m}}\n",
       "    core type: Operation\n",
       "    operator: 16\n",
       "    operands: 17\n",
       "15. (a in Complex)and (b_{1} in RealPos) and  (b_{2} in RealPos) and  ... and  (b_{m} in RealPos)\n",
       "    core type: Operation\n",
       "    operator: 18\n",
       "    operands: 19\n",
       "16. =\n",
       "    core type: Literal\n",
       "    sub-expressions: \n",
       "17. (a^{b_{1}} *  a^{b_{2}} *  ... *  a^{b_{m}}, a^{b_{1} +  b_{2} +  ... +  b_{m}})\n",
       "    core type: ExprTuple\n",
       "    sub-expressions: 20, 21\n",
       "18. and\n",
       "    core type: Literal\n",
       "    sub-expressions: \n",
       "19. (a in Complex,(b_{1} in RealPos), (b_{2} in RealPos), ..., (b_{m} in RealPos))\n",
       "    core type: ExprTuple\n",
       "    sub-expressions: 22, 23\n",
       "20. a^{b_{1}} *  a^{b_{2}} *  ... *  a^{b_{m}}\n",
       "    core type: Operation\n",
       "    operator: 24\n",
       "    operands: 25\n",
       "21. a^{b_{1} +  b_{2} +  ... +  b_{m}}\n",
       "    core type: Operation\n",
       "    operator: 41\n",
       "    operands: 26\n",
       "22. a in Complex\n",
       "    core type: Operation\n",
       "    operator: 36\n",
       "    operands: 27\n",
       "23. (b_{1} in RealPos), (b_{2} in RealPos), ..., (b_{m} in RealPos)\n",
       "    core type: ExprRange\n",
       "    lambda_map: 28\n",
       "    start_index: 44\n",
       "    end_index: 45\n",
       "24. *\n",
       "    core type: Literal\n",
       "    sub-expressions: \n",
       "25. (a^{b_{1}}, a^{b_{2}}, ..., a^{b_{m}})\n",
       "    core type: ExprTuple\n",
       "    sub-expressions: 29\n",
       "26. (a, b_{1} +  b_{2} +  ... +  b_{m})\n",
       "    core type: ExprTuple\n",
       "    sub-expressions: 46, 30\n",
       "27. (a, Complex)\n",
       "    core type: ExprTuple\n",
       "    sub-expressions: 46, 31\n",
       "28. _a -> (b_{_a} in RealPos)\n",
       "    core type: Lambda\n",
       "    parameter: 50\n",
       "    body: 32\n",
       "29. a^{b_{1}}, a^{b_{2}}, ..., a^{b_{m}}\n",
       "    core type: ExprRange\n",
       "    lambda_map: 33\n",
       "    start_index: 44\n",
       "    end_index: 45\n",
       "30. b_{1} +  b_{2} +  ... +  b_{m}\n",
       "    core type: Operation\n",
       "    operator: 34\n",
       "    operands: 35\n",
       "31. Complex\n",
       "    core type: Literal\n",
       "    sub-expressions: \n",
       "32. b_{_a} in RealPos\n",
       "    core type: Operation\n",
       "    operator: 36\n",
       "    operands: 37\n",
       "33. _a -> a^{b_{_a}}\n",
       "    core type: Lambda\n",
       "    parameter: 50\n",
       "    body: 38\n",
       "34. +\n",
       "    core type: Literal\n",
       "    sub-expressions: \n",
       "35. (b_{1}, b_{2}, ..., b_{m})\n",
       "    core type: ExprTuple\n",
       "    sub-expressions: 39\n",
       "36. in\n",
       "    core type: Literal\n",
       "    sub-expressions: \n",
       "37. (b_{_a}, RealPos)\n",
       "    core type: ExprTuple\n",
       "    sub-expressions: 47, 40\n",
       "38. a^{b_{_a}}\n",
       "    core type: Operation\n",
       "    operator: 41\n",
       "    operands: 42\n",
       "39. b_{1}, b_{2}, ..., b_{m}\n",
       "    core type: ExprRange\n",
       "    lambda_map: 43\n",
       "    start_index: 44\n",
       "    end_index: 45\n",
       "40. RealPos\n",
       "    core type: Literal\n",
       "    sub-expressions: \n",
       "41. Exp\n",
       "    core type: Literal\n",
       "    sub-expressions: \n",
       "42. (a, b_{_a})\n",
       "    core type: ExprTuple\n",
       "    sub-expressions: 46, 47\n",
       "43. _a -> b_{_a}\n",
       "    core type: Lambda\n",
       "    parameter: 50\n",
       "    body: 47\n",
       "44. 1\n",
       "    core type: Literal\n",
       "    sub-expressions: \n",
       "45. m\n",
       "    core type: Variable\n",
       "    sub-expressions: \n",
       "46. a\n",
       "    core type: Variable\n",
       "    sub-expressions: \n",
       "47. b_{_a}\n",
       "    core type: IndexedVar\n",
       "variable: 48\n",
       "index: 50\n",
       "48. b\n",
       "    core type: Variable\n",
       "    sub-expressions: \n",
       "49. (_a)\n",
       "    core type: ExprTuple\n",
       "    sub-expressions: 50\n",
       "50. _a\n",
       "    core type: Variable\n",
       "    sub-expressions: "
      ]
     },
     "metadata": {},
     "output_type": "display_data"
    }
   ],
   "source": [
    "# display the expression information\n",
    "stored_expr.expr_info()"
   ]
  },
  {
   "cell_type": "code",
   "execution_count": null,
   "metadata": {},
   "outputs": [],
   "source": []
  }
 ],
 "metadata": {
  "kernelspec": {
   "display_name": "Python 3",
   "language": "python",
   "name": "python3"
  }
 },
 "nbformat": 4,
 "nbformat_minor": 0
}