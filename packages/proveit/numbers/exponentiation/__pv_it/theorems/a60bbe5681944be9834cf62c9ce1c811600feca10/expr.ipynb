{
 "cells": [
  {
   "cell_type": "markdown",
   "metadata": {},
   "source": [
    "Expression of type <a class=\"ProveItLink\" href=\"../../../../../../../doc/html/api/proveit.logic.Forall.html\">Forall</a>\n",
    "=======================\n",
    "# from the theory of <a class=\"ProveItLink\" href=\"../../../_theory_nbs_/theory.ipynb\">proveit.numbers.exponentiation</a>"
   ]
  },
  {
   "cell_type": "code",
   "execution_count": 1,
   "metadata": {},
   "outputs": [],
   "source": [
    "import proveit\n",
    "# Automation is not needed when building an expression:\n",
    "proveit.defaults.automation = False # This will speed things up.\n",
    "proveit.defaults.inline_pngs = False # Makes files smaller.\n",
    "%load_expr # Load the stored expression as 'stored_expr'\n",
    "# import Expression classes needed to build the expression\n",
    "from proveit import a, b, n\n",
    "from proveit.logic import Equals, Forall, NotEquals\n",
    "from proveit.numbers import Complex, Exp, Integer, Mult, zero"
   ]
  },
  {
   "cell_type": "code",
   "execution_count": 2,
   "metadata": {},
   "outputs": [
    {
     "data": {
      "text/html": [
       "<strong id=\"expr\">expr:</strong> <a class=\"ProveItLink\" href=\"expr.ipynb\"><img src=\"expr.png\" style=\"display:inline;vertical-align:middle;\" /></a><br>"
      ],
      "text/plain": [
       "<IPython.core.display.HTML object>"
      ]
     },
     "metadata": {},
     "output_type": "display_data"
    }
   ],
   "source": [
    "# build up the expression from sub-expressions\n",
    "expr = Forall(instance_param_or_params = [n], instance_expr = Forall(instance_param_or_params = [a, b], instance_expr = Equals(Exp(Exp(a, b), n), Exp(a, Mult(b, n))), domain = Complex, condition = NotEquals(a, zero)), domain = Integer)"
   ]
  },
  {
   "cell_type": "code",
   "execution_count": 3,
   "metadata": {},
   "outputs": [
    {
     "name": "stdout",
     "output_type": "stream",
     "text": [
      "Passed sanity check: expr matches stored_expr\n"
     ]
    }
   ],
   "source": [
    "# check that the built expression is the same as the stored expression\n",
    "assert expr == stored_expr\n",
    "assert expr._style_id == stored_expr._style_id\n",
    "print(\"Passed sanity check: expr matches stored_expr\")"
   ]
  },
  {
   "cell_type": "code",
   "execution_count": 4,
   "metadata": {},
   "outputs": [
    {
     "name": "stdout",
     "output_type": "stream",
     "text": [
      "\\forall_{n \\in \\mathbb{Z}}~\\left[\\forall_{a, b \\in \\mathbb{C}~|~a \\neq 0}~\\left((a^{b})^{n} = a^{b \\cdot n}\\right)\\right]\n"
     ]
    }
   ],
   "source": [
    "# Show the LaTeX representation of the expression for convenience if you need it.\n",
    "print(stored_expr.latex())"
   ]
  },
  {
   "cell_type": "code",
   "execution_count": 5,
   "metadata": {},
   "outputs": [
    {
     "data": {
      "text/html": [
       "<table>\n",
       "<tr><th>name</th><th>description</th><th>default</th><th>current value</th><th>related methods</th></tr><tr><td>with_wrapping</td><td>If 'True', wrap the Expression after the parameters</td><td>None</td><td>None/False</td><td>('with_wrapping',)</td></tr>\n",
       "<tr><td>condition_wrapping</td><td>Wrap 'before' or 'after' the condition (or None).</td><td>None</td><td>None/False</td><td>('with_wrap_after_condition', 'with_wrap_before_condition')</td></tr>\n",
       "<tr><td>wrap_params</td><td>If 'True', wraps every two parameters AND wraps the Expression after the parameters</td><td>None</td><td>None/False</td><td>('with_params',)</td></tr>\n",
       "<tr><td>justification</td><td>justify to the 'left', 'center', or 'right' in the array cells</td><td>center</td><td>center</td><td>('with_justification',)</td></tr>\n",
       "</table>\n"
      ],
      "text/plain": [
       "style name: with_wrapping\n",
       "description: If 'True', wrap the Expression after the parameters\n",
       "default: None\n",
       "current value: None/False\n",
       "related methods: ('with_wrapping',)\n",
       "style name: condition_wrapping\n",
       "description: Wrap 'before' or 'after' the condition (or None).\n",
       "default: None\n",
       "current value: None/False\n",
       "related methods: ('with_wrap_after_condition', 'with_wrap_before_condition')\n",
       "style name: wrap_params\n",
       "description: If 'True', wraps every two parameters AND wraps the Expression after the parameters\n",
       "default: None\n",
       "current value: None/False\n",
       "related methods: ('with_params',)\n",
       "style name: justification\n",
       "description: justify to the 'left', 'center', or 'right' in the array cells\n",
       "default: center\n",
       "current value: center\n",
       "related methods: ('with_justification',)"
      ]
     },
     "metadata": {},
     "output_type": "display_data"
    }
   ],
   "source": [
    "stored_expr.style_options()"
   ]
  },
  {
   "cell_type": "code",
   "execution_count": 6,
   "metadata": {},
   "outputs": [
    {
     "data": {
      "text/html": [
       "<table><tr><th>&nbsp;</th><th>core type</th><th>sub-expressions</th><th>expression</th></tr>\n",
       "<tr><td>0</td><td>Operation</td><td>operator:&nbsp;7<br>operand:&nbsp;2<br></td><td><a class=\"ProveItLink\" href=\"expr.ipynb\"><img src=\"expr.png\" style=\"display:inline;vertical-align:middle;\" /></a></td></tr>\n",
       "<tr><td>1</td><td>ExprTuple</td><td>2</td><td><a class=\"ProveItLink\" href=\"../635c3acfab221a4f156910074309e61a5d27793a0/expr.ipynb\"><img src=\"../635c3acfab221a4f156910074309e61a5d27793a0/expr.png\" style=\"display:inline;vertical-align:middle;\" /></a></td></tr>\n",
       "<tr><td>2</td><td>Lambda</td><td>parameter:&nbsp;41<br>body:&nbsp;4<br></td><td><a class=\"ProveItLink\" href=\"../e42719e8ac890e1613610827917acb8917da12e30/expr.ipynb\"><img src=\"../e42719e8ac890e1613610827917acb8917da12e30/expr.png\" style=\"display:inline;vertical-align:middle;\" /></a></td></tr>\n",
       "<tr><td>3</td><td>ExprTuple</td><td>41</td><td><a class=\"ProveItLink\" href=\"../ca565dff2751ea9a3b48fe855133b9e0c2eca83f0/expr.ipynb\"><img src=\"../ca565dff2751ea9a3b48fe855133b9e0c2eca83f0/expr.png\" style=\"display:inline;vertical-align:middle;\" /></a></td></tr>\n",
       "<tr><td>4</td><td>Conditional</td><td>value:&nbsp;5<br>condition:&nbsp;6<br></td><td><a class=\"ProveItLink\" href=\"../de9947f1b32ae7c57ac570204217fd758fc920a60/expr.ipynb\"><img src=\"../de9947f1b32ae7c57ac570204217fd758fc920a60/expr.png\" style=\"display:inline;vertical-align:middle;\" /></a></td></tr>\n",
       "<tr><td>5</td><td>Operation</td><td>operator:&nbsp;7<br>operand:&nbsp;10<br></td><td><a class=\"ProveItLink\" href=\"../7e9df593868b4675e68c0d5309ddde337f5d5c700/expr.ipynb\"><img src=\"../7e9df593868b4675e68c0d5309ddde337f5d5c700/expr.png\" style=\"display:inline;vertical-align:middle;\" /></a></td></tr>\n",
       "<tr><td>6</td><td>Operation</td><td>operator:&nbsp;27<br>operands:&nbsp;9<br></td><td><a class=\"ProveItLink\" href=\"../4f87c8c2c4a39857c751c4c71492097b5d6c38b70/expr.ipynb\"><img src=\"../4f87c8c2c4a39857c751c4c71492097b5d6c38b70/expr.png\" style=\"display:inline;vertical-align:middle;\" /></a></td></tr>\n",
       "<tr><td>7</td><td>Literal</td><td></td><td><a class=\"ProveItLink\" href=\"../../../../../logic/booleans/quantification/universality/__pv_it/common/083d2baa0b8ecab1d230f9ec29a15aa1355809fb0/expr.ipynb\"><img src=\"../../../../../logic/booleans/quantification/universality/__pv_it/common/083d2baa0b8ecab1d230f9ec29a15aa1355809fb0/expr.png\" style=\"display:inline;vertical-align:middle;\" /></a></td></tr>\n",
       "<tr><td>8</td><td>ExprTuple</td><td>10</td><td><a class=\"ProveItLink\" href=\"../0328de3e8b850db16c350fb714112345e1f94d720/expr.ipynb\"><img src=\"../0328de3e8b850db16c350fb714112345e1f94d720/expr.png\" style=\"display:inline;vertical-align:middle;\" /></a></td></tr>\n",
       "<tr><td>9</td><td>ExprTuple</td><td>41, 11</td><td><a class=\"ProveItLink\" href=\"../43d692e0edc91f2bc944d41c97e1d92db754da9c0/expr.ipynb\"><img src=\"../43d692e0edc91f2bc944d41c97e1d92db754da9c0/expr.png\" style=\"display:inline;vertical-align:middle;\" /></a></td></tr>\n",
       "<tr><td>10</td><td>Lambda</td><td>parameters:&nbsp;36<br>body:&nbsp;12<br></td><td><a class=\"ProveItLink\" href=\"../493250170b99f33020691c374ba2771fd23399f10/expr.ipynb\"><img src=\"../493250170b99f33020691c374ba2771fd23399f10/expr.png\" style=\"display:inline;vertical-align:middle;\" /></a></td></tr>\n",
       "<tr><td>11</td><td>Literal</td><td></td><td><a class=\"ProveItLink\" href=\"../../../../number_sets/integers/__pv_it/common/e6b4e90f9467053e055a4fd2f735c0bb79cb79300/expr.ipynb\"><img src=\"../../../../number_sets/integers/__pv_it/common/e6b4e90f9467053e055a4fd2f735c0bb79cb79300/expr.png\" style=\"display:inline;vertical-align:middle;\" /></a></td></tr>\n",
       "<tr><td>12</td><td>Conditional</td><td>value:&nbsp;13<br>condition:&nbsp;14<br></td><td><a class=\"ProveItLink\" href=\"../30252785376e06903d55ad020197b94d7edd024e0/expr.ipynb\"><img src=\"../30252785376e06903d55ad020197b94d7edd024e0/expr.png\" style=\"display:inline;vertical-align:middle;\" /></a></td></tr>\n",
       "<tr><td>13</td><td>Operation</td><td>operator:&nbsp;15<br>operands:&nbsp;16<br></td><td><a class=\"ProveItLink\" href=\"../ac5837adb73c1f488ef94fc4ac6b7a7466b6a4960/expr.ipynb\"><img src=\"../ac5837adb73c1f488ef94fc4ac6b7a7466b6a4960/expr.png\" style=\"display:inline;vertical-align:middle;\" /></a></td></tr>\n",
       "<tr><td>14</td><td>Operation</td><td>operator:&nbsp;17<br>operands:&nbsp;18<br></td><td><a class=\"ProveItLink\" href=\"../8ca1c4944488ffb49074df4179ae96377599f0c60/expr.ipynb\"><img src=\"../8ca1c4944488ffb49074df4179ae96377599f0c60/expr.png\" style=\"display:inline;vertical-align:middle;\" /></a></td></tr>\n",
       "<tr><td>15</td><td>Literal</td><td></td><td><a class=\"ProveItLink\" href=\"../../../../../logic/equality/__pv_it/common/fb96dc12b2aa8801dda64d0132b396c63d1502bb0/expr.ipynb\"><img src=\"../../../../../logic/equality/__pv_it/common/fb96dc12b2aa8801dda64d0132b396c63d1502bb0/expr.png\" style=\"display:inline;vertical-align:middle;\" /></a></td></tr>\n",
       "<tr><td>16</td><td>ExprTuple</td><td>19, 20</td><td><a class=\"ProveItLink\" href=\"../284cd66110bf29f3caf91286151e4c663ab71f7d0/expr.ipynb\"><img src=\"../284cd66110bf29f3caf91286151e4c663ab71f7d0/expr.png\" style=\"display:inline;vertical-align:middle;\" /></a></td></tr>\n",
       "<tr><td>17</td><td>Literal</td><td></td><td><a class=\"ProveItLink\" href=\"../../../../../logic/booleans/conjunction/__pv_it/common/42118ff318bd65d98b1393f64ce7c2269feef76e0/expr.ipynb\"><img src=\"../../../../../logic/booleans/conjunction/__pv_it/common/42118ff318bd65d98b1393f64ce7c2269feef76e0/expr.png\" style=\"display:inline;vertical-align:middle;\" /></a></td></tr>\n",
       "<tr><td>18</td><td>ExprTuple</td><td>21, 22, 23</td><td><a class=\"ProveItLink\" href=\"../60fdd73babedaa8f488f8a00da66f9d73df02e5b0/expr.ipynb\"><img src=\"../60fdd73babedaa8f488f8a00da66f9d73df02e5b0/expr.png\" style=\"display:inline;vertical-align:middle;\" /></a></td></tr>\n",
       "<tr><td>19</td><td>Operation</td><td>operator:&nbsp;35<br>operands:&nbsp;24<br></td><td><a class=\"ProveItLink\" href=\"../8b5d099c6c2f34a7be3822887a17b504007122a80/expr.ipynb\"><img src=\"../8b5d099c6c2f34a7be3822887a17b504007122a80/expr.png\" style=\"display:inline;vertical-align:middle;\" /></a></td></tr>\n",
       "<tr><td>20</td><td>Operation</td><td>operator:&nbsp;35<br>operands:&nbsp;25<br></td><td><a class=\"ProveItLink\" href=\"../616864f404fd0a3a47707423d0dd014d60e0efc90/expr.ipynb\"><img src=\"../616864f404fd0a3a47707423d0dd014d60e0efc90/expr.png\" style=\"display:inline;vertical-align:middle;\" /></a></td></tr>\n",
       "<tr><td>21</td><td>Operation</td><td>operator:&nbsp;27<br>operands:&nbsp;26<br></td><td><a class=\"ProveItLink\" href=\"../e9f87a0977d5044ea8daf1040d2f219396bb3d5b0/expr.ipynb\"><img src=\"../e9f87a0977d5044ea8daf1040d2f219396bb3d5b0/expr.png\" style=\"display:inline;vertical-align:middle;\" /></a></td></tr>\n",
       "<tr><td>22</td><td>Operation</td><td>operator:&nbsp;27<br>operands:&nbsp;28<br></td><td><a class=\"ProveItLink\" href=\"../a259ec76dfb0a5be60b7c83d797520fa82c1dba60/expr.ipynb\"><img src=\"../a259ec76dfb0a5be60b7c83d797520fa82c1dba60/expr.png\" style=\"display:inline;vertical-align:middle;\" /></a></td></tr>\n",
       "<tr><td>23</td><td>Operation</td><td>operator:&nbsp;29<br>operands:&nbsp;30<br></td><td><a class=\"ProveItLink\" href=\"../1759e791f6052d2463eefaaf9e2fa309cc3375160/expr.ipynb\"><img src=\"../1759e791f6052d2463eefaaf9e2fa309cc3375160/expr.png\" style=\"display:inline;vertical-align:middle;\" /></a></td></tr>\n",
       "<tr><td>24</td><td>ExprTuple</td><td>31, 41</td><td><a class=\"ProveItLink\" href=\"../60a41079090fa524f228cabce9dd563b9e06eaf80/expr.ipynb\"><img src=\"../60a41079090fa524f228cabce9dd563b9e06eaf80/expr.png\" style=\"display:inline;vertical-align:middle;\" /></a></td></tr>\n",
       "<tr><td>25</td><td>ExprTuple</td><td>39, 32</td><td><a class=\"ProveItLink\" href=\"../6dfe28db081db7f52bf4471df66ec27eb1e5157a0/expr.ipynb\"><img src=\"../6dfe28db081db7f52bf4471df66ec27eb1e5157a0/expr.png\" style=\"display:inline;vertical-align:middle;\" /></a></td></tr>\n",
       "<tr><td>26</td><td>ExprTuple</td><td>39, 33</td><td><a class=\"ProveItLink\" href=\"../f95f1bd17fb8b13a3ef06d06b532b556f249a05f0/expr.ipynb\"><img src=\"../f95f1bd17fb8b13a3ef06d06b532b556f249a05f0/expr.png\" style=\"display:inline;vertical-align:middle;\" /></a></td></tr>\n",
       "<tr><td>27</td><td>Literal</td><td></td><td><a class=\"ProveItLink\" href=\"../../../../../logic/sets/membership/__pv_it/common/477487d8796864d23d5810f83761435f25167f690/expr.ipynb\"><img src=\"../../../../../logic/sets/membership/__pv_it/common/477487d8796864d23d5810f83761435f25167f690/expr.png\" style=\"display:inline;vertical-align:middle;\" /></a></td></tr>\n",
       "<tr><td>28</td><td>ExprTuple</td><td>40, 33</td><td><a class=\"ProveItLink\" href=\"../4a72a986c458b001a667c5069838c28cc69c8d280/expr.ipynb\"><img src=\"../4a72a986c458b001a667c5069838c28cc69c8d280/expr.png\" style=\"display:inline;vertical-align:middle;\" /></a></td></tr>\n",
       "<tr><td>29</td><td>Literal</td><td></td><td><a class=\"ProveItLink\" href=\"../../../../../logic/equality/__pv_it/common/d96270bc9bb1bad54f773b1c04bfb343a739642c0/expr.ipynb\"><img src=\"../../../../../logic/equality/__pv_it/common/d96270bc9bb1bad54f773b1c04bfb343a739642c0/expr.png\" style=\"display:inline;vertical-align:middle;\" /></a></td></tr>\n",
       "<tr><td>30</td><td>ExprTuple</td><td>39, 34</td><td><a class=\"ProveItLink\" href=\"../745cdb9639e5d503f09801a74d735cc5ccdc0d2a0/expr.ipynb\"><img src=\"../745cdb9639e5d503f09801a74d735cc5ccdc0d2a0/expr.png\" style=\"display:inline;vertical-align:middle;\" /></a></td></tr>\n",
       "<tr><td>31</td><td>Operation</td><td>operator:&nbsp;35<br>operands:&nbsp;36<br></td><td><a class=\"ProveItLink\" href=\"../30a87e0fd349eb957cda18d62242a4c55ae3e4ad0/expr.ipynb\"><img src=\"../30a87e0fd349eb957cda18d62242a4c55ae3e4ad0/expr.png\" style=\"display:inline;vertical-align:middle;\" /></a></td></tr>\n",
       "<tr><td>32</td><td>Operation</td><td>operator:&nbsp;37<br>operands:&nbsp;38<br></td><td><a class=\"ProveItLink\" href=\"../3d9fd0cdd44f0ba51eeecfcaa367fcb0c7bbffcb0/expr.ipynb\"><img src=\"../3d9fd0cdd44f0ba51eeecfcaa367fcb0c7bbffcb0/expr.png\" style=\"display:inline;vertical-align:middle;\" /></a></td></tr>\n",
       "<tr><td>33</td><td>Literal</td><td></td><td><a class=\"ProveItLink\" href=\"../../../../number_sets/complex_numbers/__pv_it/common/d18a028138f659eda00de597c28a3447fe87eb100/expr.ipynb\"><img src=\"../../../../number_sets/complex_numbers/__pv_it/common/d18a028138f659eda00de597c28a3447fe87eb100/expr.png\" style=\"display:inline;vertical-align:middle;\" /></a></td></tr>\n",
       "<tr><td>34</td><td>Literal</td><td></td><td><a class=\"ProveItLink\" href=\"../../../../numerals/__pv_it/common/dd4e19e8b134dfb293470ea55fe3589b0ab9f8040/expr.ipynb\"><img src=\"../../../../numerals/__pv_it/common/dd4e19e8b134dfb293470ea55fe3589b0ab9f8040/expr.png\" style=\"display:inline;vertical-align:middle;\" /></a></td></tr>\n",
       "<tr><td>35</td><td>Literal</td><td></td><td><a class=\"ProveItLink\" href=\"../../common/0ac37aca1e54c35c5cda09672df32d4f69f1f3020/expr.ipynb\"><img src=\"../../common/0ac37aca1e54c35c5cda09672df32d4f69f1f3020/expr.png\" style=\"display:inline;vertical-align:middle;\" /></a></td></tr>\n",
       "<tr><td>36</td><td>ExprTuple</td><td>39, 40</td><td><a class=\"ProveItLink\" href=\"../3dcd5ceea6334d8cb48fe14fdae236293aa9a6050/expr.ipynb\"><img src=\"../3dcd5ceea6334d8cb48fe14fdae236293aa9a6050/expr.png\" style=\"display:inline;vertical-align:middle;\" /></a></td></tr>\n",
       "<tr><td>37</td><td>Literal</td><td></td><td><a class=\"ProveItLink\" href=\"../../../../multiplication/__pv_it/common/ed719cef37831779c16481533a4d380a2f95ab270/expr.ipynb\"><img src=\"../../../../multiplication/__pv_it/common/ed719cef37831779c16481533a4d380a2f95ab270/expr.png\" style=\"display:inline;vertical-align:middle;\" /></a></td></tr>\n",
       "<tr><td>38</td><td>ExprTuple</td><td>40, 41</td><td><a class=\"ProveItLink\" href=\"../67cb58b0a13c8179d0f0fdf4b5fbe1ee6081842d0/expr.ipynb\"><img src=\"../67cb58b0a13c8179d0f0fdf4b5fbe1ee6081842d0/expr.png\" style=\"display:inline;vertical-align:middle;\" /></a></td></tr>\n",
       "<tr><td>39</td><td>Variable</td><td></td><td><a class=\"ProveItLink\" href=\"../../../../../__pv_it/common/c06c606ec12678c58933ac85412ecadc2ae28be60/expr.ipynb\"><img src=\"../../../../../__pv_it/common/c06c606ec12678c58933ac85412ecadc2ae28be60/expr.png\" style=\"display:inline;vertical-align:middle;\" /></a></td></tr>\n",
       "<tr><td>40</td><td>Variable</td><td></td><td><a class=\"ProveItLink\" href=\"../../../../../__pv_it/common/195236b98c6c564a75b5dbada74b173bc52d5c3e0/expr.ipynb\"><img src=\"../../../../../__pv_it/common/195236b98c6c564a75b5dbada74b173bc52d5c3e0/expr.png\" style=\"display:inline;vertical-align:middle;\" /></a></td></tr>\n",
       "<tr><td>41</td><td>Variable</td><td></td><td><a class=\"ProveItLink\" href=\"../../../../../__pv_it/common/8968bb04eb3f7dfa02353397ce929b025bbd79c20/expr.ipynb\"><img src=\"../../../../../__pv_it/common/8968bb04eb3f7dfa02353397ce929b025bbd79c20/expr.png\" style=\"display:inline;vertical-align:middle;\" /></a></td></tr>\n",
       "</table>\n"
      ],
      "text/plain": [
       "0. forall_{n in Integer} [forall_{a, b in Complex | a != 0} ((a^{b})^{n} = a^{b * n})]\n",
       "   core type: Operation\n",
       "   operator: 7\n",
       "   operand: 2\n",
       "1. (n -> {forall_{a, b in Complex | a != 0} ((a^{b})^{n} = a^{b * n}) if n in Integer.)\n",
       "   core type: ExprTuple\n",
       "   sub-expressions: 2\n",
       "2. n -> {forall_{a, b in Complex | a != 0} ((a^{b})^{n} = a^{b * n}) if n in Integer.\n",
       "   core type: Lambda\n",
       "   parameter: 41\n",
       "   body: 4\n",
       "3. (n)\n",
       "   core type: ExprTuple\n",
       "   sub-expressions: 41\n",
       "4. {forall_{a, b in Complex | a != 0} ((a^{b})^{n} = a^{b * n}) if n in Integer.\n",
       "   core type: Conditional\n",
       "   value: 5\n",
       "   condition: 6\n",
       "5. forall_{a, b in Complex | a != 0} ((a^{b})^{n} = a^{b * n})\n",
       "   core type: Operation\n",
       "   operator: 7\n",
       "   operand: 10\n",
       "6. n in Integer\n",
       "   core type: Operation\n",
       "   operator: 27\n",
       "   operands: 9\n",
       "7. forall\n",
       "   core type: Literal\n",
       "   sub-expressions: \n",
       "8. ((a, b) -> {(a^{b})^{n} = a^{b * n} if a in Complex ,  b in Complex ,  a != 0.)\n",
       "   core type: ExprTuple\n",
       "   sub-expressions: 10\n",
       "9. (n, Integer)\n",
       "   core type: ExprTuple\n",
       "   sub-expressions: 41, 11\n",
       "10. (a, b) -> {(a^{b})^{n} = a^{b * n} if a in Complex ,  b in Complex ,  a != 0.\n",
       "    core type: Lambda\n",
       "    parameters: 36\\n    body: 12\n",
       "11. Integer\n",
       "    core type: Literal\n",
       "    sub-expressions: \n",
       "12. {(a^{b})^{n} = a^{b * n} if a in Complex ,  b in Complex ,  a != 0.\n",
       "    core type: Conditional\n",
       "    value: 13\n",
       "    condition: 14\n",
       "13. (a^{b})^{n} = a^{b * n}\n",
       "    core type: Operation\n",
       "    operator: 15\n",
       "    operands: 16\n",
       "14. (a in Complex) and (b in Complex) and (a != 0)\n",
       "    core type: Operation\n",
       "    operator: 17\n",
       "    operands: 18\n",
       "15. =\n",
       "    core type: Literal\n",
       "    sub-expressions: \n",
       "16. ((a^{b})^{n}, a^{b * n})\n",
       "    core type: ExprTuple\n",
       "    sub-expressions: 19, 20\n",
       "17. and\n",
       "    core type: Literal\n",
       "    sub-expressions: \n",
       "18. (a in Complex, b in Complex, a != 0)\n",
       "    core type: ExprTuple\n",
       "    sub-expressions: 21, 22, 23\n",
       "19. (a^{b})^{n}\n",
       "    core type: Operation\n",
       "    operator: 35\n",
       "    operands: 24\n",
       "20. a^{b * n}\n",
       "    core type: Operation\n",
       "    operator: 35\n",
       "    operands: 25\n",
       "21. a in Complex\n",
       "    core type: Operation\n",
       "    operator: 27\n",
       "    operands: 26\n",
       "22. b in Complex\n",
       "    core type: Operation\n",
       "    operator: 27\n",
       "    operands: 28\n",
       "23. a != 0\n",
       "    core type: Operation\n",
       "    operator: 29\n",
       "    operands: 30\n",
       "24. (a^{b}, n)\n",
       "    core type: ExprTuple\n",
       "    sub-expressions: 31, 41\n",
       "25. (a, b * n)\n",
       "    core type: ExprTuple\n",
       "    sub-expressions: 39, 32\n",
       "26. (a, Complex)\n",
       "    core type: ExprTuple\n",
       "    sub-expressions: 39, 33\n",
       "27. in\n",
       "    core type: Literal\n",
       "    sub-expressions: \n",
       "28. (b, Complex)\n",
       "    core type: ExprTuple\n",
       "    sub-expressions: 40, 33\n",
       "29. !=\n",
       "    core type: Literal\n",
       "    sub-expressions: \n",
       "30. (a, 0)\n",
       "    core type: ExprTuple\n",
       "    sub-expressions: 39, 34\n",
       "31. a^{b}\n",
       "    core type: Operation\n",
       "    operator: 35\n",
       "    operands: 36\n",
       "32. b * n\n",
       "    core type: Operation\n",
       "    operator: 37\n",
       "    operands: 38\n",
       "33. Complex\n",
       "    core type: Literal\n",
       "    sub-expressions: \n",
       "34. 0\n",
       "    core type: Literal\n",
       "    sub-expressions: \n",
       "35. Exp\n",
       "    core type: Literal\n",
       "    sub-expressions: \n",
       "36. (a, b)\n",
       "    core type: ExprTuple\n",
       "    sub-expressions: 39, 40\n",
       "37. *\n",
       "    core type: Literal\n",
       "    sub-expressions: \n",
       "38. (b, n)\n",
       "    core type: ExprTuple\n",
       "    sub-expressions: 40, 41\n",
       "39. a\n",
       "    core type: Variable\n",
       "    sub-expressions: \n",
       "40. b\n",
       "    core type: Variable\n",
       "    sub-expressions: \n",
       "41. n\n",
       "    core type: Variable\n",
       "    sub-expressions: "
      ]
     },
     "metadata": {},
     "output_type": "display_data"
    }
   ],
   "source": [
    "# display the expression information\n",
    "stored_expr.expr_info()"
   ]
  },
  {
   "cell_type": "code",
   "execution_count": null,
   "metadata": {},
   "outputs": [],
   "source": []
  }
 ],
 "metadata": {
  "kernelspec": {
   "display_name": "Python 3",
   "language": "python",
   "name": "python3"
  }
 },
 "nbformat": 4,
 "nbformat_minor": 0
}