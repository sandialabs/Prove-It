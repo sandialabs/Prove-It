{
 "cells": [
  {
   "cell_type": "markdown",
   "metadata": {},
   "source": [
    "Expression of type <a class=\"ProveItLink\" href=\"../../../../../../../doc/html/api/proveit.logic.Forall.html\">Forall</a>\n",
    "=======================\n",
    "# from the theory of <a class=\"ProveItLink\" href=\"../../../_theory_nbs_/theory.ipynb\">proveit.numbers.exponentiation</a>"
   ]
  },
  {
   "cell_type": "code",
   "execution_count": 1,
   "metadata": {},
   "outputs": [],
   "source": [
    "import proveit\n",
    "# Automation is not needed when building an expression:\n",
    "proveit.defaults.automation = False # This will speed things up.\n",
    "proveit.defaults.inline_pngs = False # Makes files smaller.\n",
    "%load_expr # Load the stored expression as 'stored_expr'\n",
    "# import Expression classes needed to build the expression\n",
    "from proveit import a\n",
    "from proveit.core_expr_types import b_1_to_m\n",
    "from proveit.logic import Equals, Forall, NotEquals\n",
    "from proveit.numbers import Add, Complex, Exp, Real, zero\n",
    "from proveit.numbers.exponentiation import prod_a_raise_bi__1_to_m"
   ]
  },
  {
   "cell_type": "code",
   "execution_count": 2,
   "metadata": {},
   "outputs": [
    {
     "data": {
      "text/html": [
       "<strong id=\"expr\">expr:</strong> <a class=\"ProveItLink\" href=\"expr.ipynb\"><img src=\"expr.png\" style=\"display:inline;vertical-align:middle;\" /></a><br>"
      ],
      "text/plain": [
       "<IPython.core.display.HTML object>"
      ]
     },
     "metadata": {},
     "output_type": "display_data"
    }
   ],
   "source": [
    "# build up the expression from sub-expressions\n",
    "expr = Forall(instance_param_or_params = [a, b_1_to_m], instance_expr = Equals(prod_a_raise_bi__1_to_m, Exp(a, Add(b_1_to_m))), domains = [Complex, Real], condition = NotEquals(a, zero))"
   ]
  },
  {
   "cell_type": "code",
   "execution_count": 3,
   "metadata": {},
   "outputs": [
    {
     "name": "stdout",
     "output_type": "stream",
     "text": [
      "Passed sanity check: expr matches stored_expr\n"
     ]
    }
   ],
   "source": [
    "# check that the built expression is the same as the stored expression\n",
    "assert expr == stored_expr\n",
    "assert expr._style_id == stored_expr._style_id\n",
    "print(\"Passed sanity check: expr matches stored_expr\")"
   ]
  },
  {
   "cell_type": "code",
   "execution_count": 4,
   "metadata": {},
   "outputs": [
    {
     "name": "stdout",
     "output_type": "stream",
     "text": [
      "\\forall_{a \\in \\mathbb{C},\\left(b_{1} \\in \\mathbb{R}\\right), \\left(b_{2} \\in \\mathbb{R}\\right), \\ldots, \\left(b_{m} \\in \\mathbb{R}\\right)~|~a \\neq 0}~\\left(\\left(a^{b_{1}} \\cdot  a^{b_{2}} \\cdot  \\ldots \\cdot  a^{b_{m}}\\right) = a^{b_{1} +  b_{2} +  \\ldots +  b_{m}}\\right)\n"
     ]
    }
   ],
   "source": [
    "# Show the LaTeX representation of the expression for convenience if you need it.\n",
    "print(stored_expr.latex())"
   ]
  },
  {
   "cell_type": "code",
   "execution_count": 5,
   "metadata": {},
   "outputs": [
    {
     "data": {
      "text/html": [
       "<table>\n",
       "<tr><th>name</th><th>description</th><th>default</th><th>current value</th><th>related methods</th></tr><tr><td>with_wrapping</td><td>If 'True', wrap the Expression after the parameters</td><td>None</td><td>None/False</td><td>('with_wrapping',)</td></tr>\n",
       "<tr><td>condition_wrapping</td><td>Wrap 'before' or 'after' the condition (or None).</td><td>None</td><td>None/False</td><td>('with_wrap_after_condition', 'with_wrap_before_condition')</td></tr>\n",
       "<tr><td>wrap_params</td><td>If 'True', wraps every two parameters AND wraps the Expression after the parameters</td><td>None</td><td>None/False</td><td>('with_params',)</td></tr>\n",
       "<tr><td>justification</td><td>justify to the 'left', 'center', or 'right' in the array cells</td><td>center</td><td>center</td><td>('with_justification',)</td></tr>\n",
       "</table>\n"
      ],
      "text/plain": [
       "style name: with_wrapping\n",
       "description: If 'True', wrap the Expression after the parameters\n",
       "default: None\n",
       "current value: None/False\n",
       "related methods: ('with_wrapping',)\n",
       "style name: condition_wrapping\n",
       "description: Wrap 'before' or 'after' the condition (or None).\n",
       "default: None\n",
       "current value: None/False\n",
       "related methods: ('with_wrap_after_condition', 'with_wrap_before_condition')\n",
       "style name: wrap_params\n",
       "description: If 'True', wraps every two parameters AND wraps the Expression after the parameters\n",
       "default: None\n",
       "current value: None/False\n",
       "related methods: ('with_params',)\n",
       "style name: justification\n",
       "description: justify to the 'left', 'center', or 'right' in the array cells\n",
       "default: center\n",
       "current value: center\n",
       "related methods: ('with_justification',)"
      ]
     },
     "metadata": {},
     "output_type": "display_data"
    }
   ],
   "source": [
    "stored_expr.style_options()"
   ]
  },
  {
   "cell_type": "code",
   "execution_count": 6,
   "metadata": {},
   "outputs": [
    {
     "data": {
      "text/html": [
       "<table><tr><th>&nbsp;</th><th>core type</th><th>sub-expressions</th><th>expression</th></tr>\n",
       "<tr><td>0</td><td>Operation</td><td>operator:&nbsp;1<br>operand:&nbsp;3<br></td><td><a class=\"ProveItLink\" href=\"expr.ipynb\"><img src=\"expr.png\" style=\"display:inline;vertical-align:middle;\" /></a></td></tr>\n",
       "<tr><td>1</td><td>Literal</td><td></td><td><a class=\"ProveItLink\" href=\"../../../../../logic/booleans/quantification/universality/__pv_it/common/083d2baa0b8ecab1d230f9ec29a15aa1355809fb0/expr.ipynb\"><img src=\"../../../../../logic/booleans/quantification/universality/__pv_it/common/083d2baa0b8ecab1d230f9ec29a15aa1355809fb0/expr.png\" style=\"display:inline;vertical-align:middle;\" /></a></td></tr>\n",
       "<tr><td>2</td><td>ExprTuple</td><td>3</td><td><a class=\"ProveItLink\" href=\"../7407ac121462fb89a00b95f21ecfed5bec22287e0/expr.ipynb\"><img src=\"../7407ac121462fb89a00b95f21ecfed5bec22287e0/expr.png\" style=\"display:inline;vertical-align:middle;\" /></a></td></tr>\n",
       "<tr><td>3</td><td>Lambda</td><td>parameters:&nbsp;4<br>body:&nbsp;5<br></td><td><a class=\"ProveItLink\" href=\"../7e216fee19fe57e3a95a5b1a79c949e5437c40790/expr.ipynb\"><img src=\"../7e216fee19fe57e3a95a5b1a79c949e5437c40790/expr.png\" style=\"display:inline;vertical-align:middle;\" /></a></td></tr>\n",
       "<tr><td>4</td><td>ExprTuple</td><td>42, 35</td><td><a class=\"ProveItLink\" href=\"../3a0adf0c4635b1fc8e9c6aa093a24af1bd68b2f60/expr.ipynb\"><img src=\"../3a0adf0c4635b1fc8e9c6aa093a24af1bd68b2f60/expr.png\" style=\"display:inline;vertical-align:middle;\" /></a></td></tr>\n",
       "<tr><td>5</td><td>Conditional</td><td>value:&nbsp;6<br>condition:&nbsp;7<br></td><td><a class=\"ProveItLink\" href=\"../65c4cfdc62401595dc636fae6f6ce08ab42427d40/expr.ipynb\"><img src=\"../65c4cfdc62401595dc636fae6f6ce08ab42427d40/expr.png\" style=\"display:inline;vertical-align:middle;\" /></a></td></tr>\n",
       "<tr><td>6</td><td>Operation</td><td>operator:&nbsp;8<br>operands:&nbsp;9<br></td><td><a class=\"ProveItLink\" href=\"../6181ab74a16fecb399e5de5d4427a0d981b4f69c0/expr.ipynb\"><img src=\"../6181ab74a16fecb399e5de5d4427a0d981b4f69c0/expr.png\" style=\"display:inline;vertical-align:middle;\" /></a></td></tr>\n",
       "<tr><td>7</td><td>Operation</td><td>operator:&nbsp;10<br>operands:&nbsp;11<br></td><td><a class=\"ProveItLink\" href=\"../18c39c8f1e493ae3f249511e4c103cb678daa7ef0/expr.ipynb\"><img src=\"../18c39c8f1e493ae3f249511e4c103cb678daa7ef0/expr.png\" style=\"display:inline;vertical-align:middle;\" /></a></td></tr>\n",
       "<tr><td>8</td><td>Literal</td><td></td><td><a class=\"ProveItLink\" href=\"../../../../../logic/equality/__pv_it/common/fb96dc12b2aa8801dda64d0132b396c63d1502bb0/expr.ipynb\"><img src=\"../../../../../logic/equality/__pv_it/common/fb96dc12b2aa8801dda64d0132b396c63d1502bb0/expr.png\" style=\"display:inline;vertical-align:middle;\" /></a></td></tr>\n",
       "<tr><td>9</td><td>ExprTuple</td><td>12, 13</td><td><a class=\"ProveItLink\" href=\"../2a7e27de9ec18d90e12726ea87e19de103e4df2e0/expr.ipynb\"><img src=\"../2a7e27de9ec18d90e12726ea87e19de103e4df2e0/expr.png\" style=\"display:inline;vertical-align:middle;\" /></a></td></tr>\n",
       "<tr><td>10</td><td>Literal</td><td></td><td><a class=\"ProveItLink\" href=\"../../../../../logic/booleans/conjunction/__pv_it/common/42118ff318bd65d98b1393f64ce7c2269feef76e0/expr.ipynb\"><img src=\"../../../../../logic/booleans/conjunction/__pv_it/common/42118ff318bd65d98b1393f64ce7c2269feef76e0/expr.png\" style=\"display:inline;vertical-align:middle;\" /></a></td></tr>\n",
       "<tr><td>11</td><td>ExprTuple</td><td>14, 15, 16</td><td><a class=\"ProveItLink\" href=\"../251dbe9f595086bb4cfc955459f204cea83f1abe0/expr.ipynb\"><img src=\"../251dbe9f595086bb4cfc955459f204cea83f1abe0/expr.png\" style=\"display:inline;vertical-align:middle;\" /></a></td></tr>\n",
       "<tr><td>12</td><td>Operation</td><td>operator:&nbsp;17<br>operands:&nbsp;18<br></td><td><a class=\"ProveItLink\" href=\"../../common/ea0c1c13e86b093d0417a95037977726b6d62d360/expr.ipynb\"><img src=\"../../common/ea0c1c13e86b093d0417a95037977726b6d62d360/expr.png\" style=\"display:inline;vertical-align:middle;\" /></a></td></tr>\n",
       "<tr><td>13</td><td>Operation</td><td>operator:&nbsp;37<br>operands:&nbsp;19<br></td><td><a class=\"ProveItLink\" href=\"../a2254590b3e82c37997bb564c482e91fa7777f270/expr.ipynb\"><img src=\"../a2254590b3e82c37997bb564c482e91fa7777f270/expr.png\" style=\"display:inline;vertical-align:middle;\" /></a></td></tr>\n",
       "<tr><td>14</td><td>Operation</td><td>operator:&nbsp;32<br>operands:&nbsp;20<br></td><td><a class=\"ProveItLink\" href=\"../e9f87a0977d5044ea8daf1040d2f219396bb3d5b0/expr.ipynb\"><img src=\"../e9f87a0977d5044ea8daf1040d2f219396bb3d5b0/expr.png\" style=\"display:inline;vertical-align:middle;\" /></a></td></tr>\n",
       "<tr><td>15</td><td>ExprRange</td><td>lambda_map:&nbsp;21<br>start_index:&nbsp;40<br>end_index:&nbsp;41<br></td><td><a class=\"ProveItLink\" href=\"../ad354f7b83ecb4f8128c006b24363bec52b0521b0/expr.ipynb\"><img src=\"../ad354f7b83ecb4f8128c006b24363bec52b0521b0/expr.png\" style=\"display:inline;vertical-align:middle;\" /></a></td></tr>\n",
       "<tr><td>16</td><td>Operation</td><td>operator:&nbsp;22<br>operands:&nbsp;23<br></td><td><a class=\"ProveItLink\" href=\"../1759e791f6052d2463eefaaf9e2fa309cc3375160/expr.ipynb\"><img src=\"../1759e791f6052d2463eefaaf9e2fa309cc3375160/expr.png\" style=\"display:inline;vertical-align:middle;\" /></a></td></tr>\n",
       "<tr><td>17</td><td>Literal</td><td></td><td><a class=\"ProveItLink\" href=\"../../../../multiplication/__pv_it/common/ed719cef37831779c16481533a4d380a2f95ab270/expr.ipynb\"><img src=\"../../../../multiplication/__pv_it/common/ed719cef37831779c16481533a4d380a2f95ab270/expr.png\" style=\"display:inline;vertical-align:middle;\" /></a></td></tr>\n",
       "<tr><td>18</td><td>ExprTuple</td><td>24</td><td><a class=\"ProveItLink\" href=\"../../common/342b0e457f70ed3915a37e1966228a9a5c6f5f550/expr.ipynb\"><img src=\"../../common/342b0e457f70ed3915a37e1966228a9a5c6f5f550/expr.png\" style=\"display:inline;vertical-align:middle;\" /></a></td></tr>\n",
       "<tr><td>19</td><td>ExprTuple</td><td>42, 25</td><td><a class=\"ProveItLink\" href=\"../51932993d42fc5d02f5743c0685305268d9b860f0/expr.ipynb\"><img src=\"../51932993d42fc5d02f5743c0685305268d9b860f0/expr.png\" style=\"display:inline;vertical-align:middle;\" /></a></td></tr>\n",
       "<tr><td>20</td><td>ExprTuple</td><td>42, 26</td><td><a class=\"ProveItLink\" href=\"../f95f1bd17fb8b13a3ef06d06b532b556f249a05f0/expr.ipynb\"><img src=\"../f95f1bd17fb8b13a3ef06d06b532b556f249a05f0/expr.png\" style=\"display:inline;vertical-align:middle;\" /></a></td></tr>\n",
       "<tr><td>21</td><td>Lambda</td><td>parameter:&nbsp;46<br>body:&nbsp;27<br></td><td><a class=\"ProveItLink\" href=\"../6ab7f12a26a0b49c17f993ad31c50f2de133641f0/expr.ipynb\"><img src=\"../6ab7f12a26a0b49c17f993ad31c50f2de133641f0/expr.png\" style=\"display:inline;vertical-align:middle;\" /></a></td></tr>\n",
       "<tr><td>22</td><td>Literal</td><td></td><td><a class=\"ProveItLink\" href=\"../../../../../logic/equality/__pv_it/common/d96270bc9bb1bad54f773b1c04bfb343a739642c0/expr.ipynb\"><img src=\"../../../../../logic/equality/__pv_it/common/d96270bc9bb1bad54f773b1c04bfb343a739642c0/expr.png\" style=\"display:inline;vertical-align:middle;\" /></a></td></tr>\n",
       "<tr><td>23</td><td>ExprTuple</td><td>42, 28</td><td><a class=\"ProveItLink\" href=\"../745cdb9639e5d503f09801a74d735cc5ccdc0d2a0/expr.ipynb\"><img src=\"../745cdb9639e5d503f09801a74d735cc5ccdc0d2a0/expr.png\" style=\"display:inline;vertical-align:middle;\" /></a></td></tr>\n",
       "<tr><td>24</td><td>ExprRange</td><td>lambda_map:&nbsp;29<br>start_index:&nbsp;40<br>end_index:&nbsp;41<br></td><td><a class=\"ProveItLink\" href=\"../../common/720408013ce65b76f960bfc60932ef3c6cad920b0/expr.ipynb\"><img src=\"../../common/720408013ce65b76f960bfc60932ef3c6cad920b0/expr.png\" style=\"display:inline;vertical-align:middle;\" /></a></td></tr>\n",
       "<tr><td>25</td><td>Operation</td><td>operator:&nbsp;30<br>operands:&nbsp;31<br></td><td><a class=\"ProveItLink\" href=\"../a1dfa6c2f33f13fb1b7048c3b4a169fd972b346d0/expr.ipynb\"><img src=\"../a1dfa6c2f33f13fb1b7048c3b4a169fd972b346d0/expr.png\" style=\"display:inline;vertical-align:middle;\" /></a></td></tr>\n",
       "<tr><td>26</td><td>Literal</td><td></td><td><a class=\"ProveItLink\" href=\"../../../../number_sets/complex_numbers/__pv_it/common/d18a028138f659eda00de597c28a3447fe87eb100/expr.ipynb\"><img src=\"../../../../number_sets/complex_numbers/__pv_it/common/d18a028138f659eda00de597c28a3447fe87eb100/expr.png\" style=\"display:inline;vertical-align:middle;\" /></a></td></tr>\n",
       "<tr><td>27</td><td>Operation</td><td>operator:&nbsp;32<br>operands:&nbsp;33<br></td><td><a class=\"ProveItLink\" href=\"../1e8819d0f4c49a87e09bd54a8ebef1bffb8af0ea0/expr.ipynb\"><img src=\"../1e8819d0f4c49a87e09bd54a8ebef1bffb8af0ea0/expr.png\" style=\"display:inline;vertical-align:middle;\" /></a></td></tr>\n",
       "<tr><td>28</td><td>Literal</td><td></td><td><a class=\"ProveItLink\" href=\"../../../../numerals/__pv_it/common/dd4e19e8b134dfb293470ea55fe3589b0ab9f8040/expr.ipynb\"><img src=\"../../../../numerals/__pv_it/common/dd4e19e8b134dfb293470ea55fe3589b0ab9f8040/expr.png\" style=\"display:inline;vertical-align:middle;\" /></a></td></tr>\n",
       "<tr><td>29</td><td>Lambda</td><td>parameter:&nbsp;46<br>body:&nbsp;34<br></td><td><a class=\"ProveItLink\" href=\"../../common/f13c2b011dd7c0c0a3a0a6b6e93d29e5d177179e0/expr.ipynb\"><img src=\"../../common/f13c2b011dd7c0c0a3a0a6b6e93d29e5d177179e0/expr.png\" style=\"display:inline;vertical-align:middle;\" /></a></td></tr>\n",
       "<tr><td>30</td><td>Literal</td><td></td><td><a class=\"ProveItLink\" href=\"../../../../addition/__pv_it/common/4b7effaab3619a1c2c38fe2dee8601df8ec714590/expr.ipynb\"><img src=\"../../../../addition/__pv_it/common/4b7effaab3619a1c2c38fe2dee8601df8ec714590/expr.png\" style=\"display:inline;vertical-align:middle;\" /></a></td></tr>\n",
       "<tr><td>31</td><td>ExprTuple</td><td>35</td><td><a class=\"ProveItLink\" href=\"../7d138dd954d02e8e4197584e74f34daed2bb4a9b0/expr.ipynb\"><img src=\"../7d138dd954d02e8e4197584e74f34daed2bb4a9b0/expr.png\" style=\"display:inline;vertical-align:middle;\" /></a></td></tr>\n",
       "<tr><td>32</td><td>Literal</td><td></td><td><a class=\"ProveItLink\" href=\"../../../../../logic/sets/membership/__pv_it/common/477487d8796864d23d5810f83761435f25167f690/expr.ipynb\"><img src=\"../../../../../logic/sets/membership/__pv_it/common/477487d8796864d23d5810f83761435f25167f690/expr.png\" style=\"display:inline;vertical-align:middle;\" /></a></td></tr>\n",
       "<tr><td>33</td><td>ExprTuple</td><td>43, 36</td><td><a class=\"ProveItLink\" href=\"../4027fb4405fe773de55cfd888c3d04a03bbb1f7e0/expr.ipynb\"><img src=\"../4027fb4405fe773de55cfd888c3d04a03bbb1f7e0/expr.png\" style=\"display:inline;vertical-align:middle;\" /></a></td></tr>\n",
       "<tr><td>34</td><td>Operation</td><td>operator:&nbsp;37<br>operands:&nbsp;38<br></td><td><a class=\"ProveItLink\" href=\"../../common/6832704100de79d110f72e4152581dd43cf97d880/expr.ipynb\"><img src=\"../../common/6832704100de79d110f72e4152581dd43cf97d880/expr.png\" style=\"display:inline;vertical-align:middle;\" /></a></td></tr>\n",
       "<tr><td>35</td><td>ExprRange</td><td>lambda_map:&nbsp;39<br>start_index:&nbsp;40<br>end_index:&nbsp;41<br></td><td><a class=\"ProveItLink\" href=\"../../../../../core_expr_types/__pv_it/common/6eefced2bf89c9506c31ed6f9f76970894a7c8d00/expr.ipynb\"><img src=\"../../../../../core_expr_types/__pv_it/common/6eefced2bf89c9506c31ed6f9f76970894a7c8d00/expr.png\" style=\"display:inline;vertical-align:middle;\" /></a></td></tr>\n",
       "<tr><td>36</td><td>Literal</td><td></td><td><a class=\"ProveItLink\" href=\"../../../../number_sets/real_numbers/__pv_it/common/93cac87a1a47e613f7a83b23ef7891599a1a4cca0/expr.ipynb\"><img src=\"../../../../number_sets/real_numbers/__pv_it/common/93cac87a1a47e613f7a83b23ef7891599a1a4cca0/expr.png\" style=\"display:inline;vertical-align:middle;\" /></a></td></tr>\n",
       "<tr><td>37</td><td>Literal</td><td></td><td><a class=\"ProveItLink\" href=\"../../common/0ac37aca1e54c35c5cda09672df32d4f69f1f3020/expr.ipynb\"><img src=\"../../common/0ac37aca1e54c35c5cda09672df32d4f69f1f3020/expr.png\" style=\"display:inline;vertical-align:middle;\" /></a></td></tr>\n",
       "<tr><td>38</td><td>ExprTuple</td><td>42, 43</td><td><a class=\"ProveItLink\" href=\"../../common/144a7b898f74546c13306a8906c32ddb912f83c70/expr.ipynb\"><img src=\"../../common/144a7b898f74546c13306a8906c32ddb912f83c70/expr.png\" style=\"display:inline;vertical-align:middle;\" /></a></td></tr>\n",
       "<tr><td>39</td><td>Lambda</td><td>parameter:&nbsp;46<br>body:&nbsp;43<br></td><td><a class=\"ProveItLink\" href=\"../../../../../core_expr_types/__pv_it/common/d763764ede9c88a33f4b750791da02d1a21cb6820/expr.ipynb\"><img src=\"../../../../../core_expr_types/__pv_it/common/d763764ede9c88a33f4b750791da02d1a21cb6820/expr.png\" style=\"display:inline;vertical-align:middle;\" /></a></td></tr>\n",
       "<tr><td>40</td><td>Literal</td><td></td><td><a class=\"ProveItLink\" href=\"../../../../numerals/__pv_it/common/682157d4892d216d9e5626ed533aff9b56b9506e0/expr.ipynb\"><img src=\"../../../../numerals/__pv_it/common/682157d4892d216d9e5626ed533aff9b56b9506e0/expr.png\" style=\"display:inline;vertical-align:middle;\" /></a></td></tr>\n",
       "<tr><td>41</td><td>Variable</td><td></td><td><a class=\"ProveItLink\" href=\"../../../../../__pv_it/common/674a03b9c3ca221b3aabd5636837b31528ff33830/expr.ipynb\"><img src=\"../../../../../__pv_it/common/674a03b9c3ca221b3aabd5636837b31528ff33830/expr.png\" style=\"display:inline;vertical-align:middle;\" /></a></td></tr>\n",
       "<tr><td>42</td><td>Variable</td><td></td><td><a class=\"ProveItLink\" href=\"../../../../../__pv_it/common/c06c606ec12678c58933ac85412ecadc2ae28be60/expr.ipynb\"><img src=\"../../../../../__pv_it/common/c06c606ec12678c58933ac85412ecadc2ae28be60/expr.png\" style=\"display:inline;vertical-align:middle;\" /></a></td></tr>\n",
       "<tr><td>43</td><td>IndexedVar</td><td>variable:&nbsp;44<br>index:&nbsp;46<br></td><td><a class=\"ProveItLink\" href=\"../../../../../core_expr_types/__pv_it/common/8542342c36565a593724a99f9c08d995c1c21af20/expr.ipynb\"><img src=\"../../../../../core_expr_types/__pv_it/common/8542342c36565a593724a99f9c08d995c1c21af20/expr.png\" style=\"display:inline;vertical-align:middle;\" /></a></td></tr>\n",
       "<tr><td>44</td><td>Variable</td><td></td><td><a class=\"ProveItLink\" href=\"../../../../../__pv_it/common/195236b98c6c564a75b5dbada74b173bc52d5c3e0/expr.ipynb\"><img src=\"../../../../../__pv_it/common/195236b98c6c564a75b5dbada74b173bc52d5c3e0/expr.png\" style=\"display:inline;vertical-align:middle;\" /></a></td></tr>\n",
       "<tr><td>45</td><td>ExprTuple</td><td>46</td><td><a class=\"ProveItLink\" href=\"../../../../../core_expr_types/__pv_it/common/4b0dd6be36d76552eda6a95d5b4a27f5a5b62f900/expr.ipynb\"><img src=\"../../../../../core_expr_types/__pv_it/common/4b0dd6be36d76552eda6a95d5b4a27f5a5b62f900/expr.png\" style=\"display:inline;vertical-align:middle;\" /></a></td></tr>\n",
       "<tr><td>46</td><td>Variable</td><td></td><td><a class=\"ProveItLink\" href=\"../../../../../core_expr_types/__pv_it/common/006c465e50948aa2b52285e2de47974f741255cc0/expr.ipynb\"><img src=\"../../../../../core_expr_types/__pv_it/common/006c465e50948aa2b52285e2de47974f741255cc0/expr.png\" style=\"display:inline;vertical-align:middle;\" /></a></td></tr>\n",
       "</table>\n"
      ],
      "text/plain": [
       "0. forall_{a in Complex,(b_{1} in Real), (b_{2} in Real), ..., (b_{m} in Real) | a != 0} ((a^{b_{1}} *  a^{b_{2}} *  ... *  a^{b_{m}}) = a^{b_{1} +  b_{2} +  ... +  b_{m}})\n",
       "   core type: Operation\n",
       "   operator: 1\n",
       "   operand: 3\n",
       "1. forall\n",
       "   core type: Literal\n",
       "   sub-expressions: \n",
       "2. ((a, b_{1}, b_{2}, ..., b_{m}) -> {(a^{b_{1}} *  a^{b_{2}} *  ... *  a^{b_{m}}) = a^{b_{1} +  b_{2} +  ... +  b_{m}} if a in Complex, (b_{1} in Real) ,  (b_{2} in Real) ,  ... ,  (b_{m} in Real) ,  a != 0.)\n",
       "   core type: ExprTuple\n",
       "   sub-expressions: 3\n",
       "3. (a, b_{1}, b_{2}, ..., b_{m}) -> {(a^{b_{1}} *  a^{b_{2}} *  ... *  a^{b_{m}}) = a^{b_{1} +  b_{2} +  ... +  b_{m}} if a in Complex, (b_{1} in Real) ,  (b_{2} in Real) ,  ... ,  (b_{m} in Real) ,  a != 0.\n",
       "   core type: Lambda\n",
       "   parameters: 4\\n   body: 5\n",
       "4. (a,b_{1}, b_{2}, ..., b_{m})\n",
       "   core type: ExprTuple\n",
       "   sub-expressions: 42, 35\n",
       "5. {(a^{b_{1}} *  a^{b_{2}} *  ... *  a^{b_{m}}) = a^{b_{1} +  b_{2} +  ... +  b_{m}} if a in Complex, (b_{1} in Real) ,  (b_{2} in Real) ,  ... ,  (b_{m} in Real) ,  a != 0.\n",
       "   core type: Conditional\n",
       "   value: 6\n",
       "   condition: 7\n",
       "6. (a^{b_{1}} *  a^{b_{2}} *  ... *  a^{b_{m}}) = a^{b_{1} +  b_{2} +  ... +  b_{m}}\n",
       "   core type: Operation\n",
       "   operator: 8\n",
       "   operands: 9\n",
       "7. (a in Complex)and (b_{1} in Real) and  (b_{2} in Real) and  ... and  (b_{m} in Real) and (a != 0)\n",
       "   core type: Operation\n",
       "   operator: 10\n",
       "   operands: 11\n",
       "8. =\n",
       "   core type: Literal\n",
       "   sub-expressions: \n",
       "9. (a^{b_{1}} *  a^{b_{2}} *  ... *  a^{b_{m}}, a^{b_{1} +  b_{2} +  ... +  b_{m}})\n",
       "   core type: ExprTuple\n",
       "   sub-expressions: 12, 13\n",
       "10. and\n",
       "    core type: Literal\n",
       "    sub-expressions: \n",
       "11. (a in Complex,(b_{1} in Real), (b_{2} in Real), ..., (b_{m} in Real), a != 0)\n",
       "    core type: ExprTuple\n",
       "    sub-expressions: 14, 15, 16\n",
       "12. a^{b_{1}} *  a^{b_{2}} *  ... *  a^{b_{m}}\n",
       "    core type: Operation\n",
       "    operator: 17\n",
       "    operands: 18\n",
       "13. a^{b_{1} +  b_{2} +  ... +  b_{m}}\n",
       "    core type: Operation\n",
       "    operator: 37\n",
       "    operands: 19\n",
       "14. a in Complex\n",
       "    core type: Operation\n",
       "    operator: 32\n",
       "    operands: 20\n",
       "15. (b_{1} in Real), (b_{2} in Real), ..., (b_{m} in Real)\n",
       "    core type: ExprRange\n",
       "    lambda_map: 21\n",
       "    start_index: 40\n",
       "    end_index: 41\n",
       "16. a != 0\n",
       "    core type: Operation\n",
       "    operator: 22\n",
       "    operands: 23\n",
       "17. *\n",
       "    core type: Literal\n",
       "    sub-expressions: \n",
       "18. (a^{b_{1}}, a^{b_{2}}, ..., a^{b_{m}})\n",
       "    core type: ExprTuple\n",
       "    sub-expressions: 24\n",
       "19. (a, b_{1} +  b_{2} +  ... +  b_{m})\n",
       "    core type: ExprTuple\n",
       "    sub-expressions: 42, 25\n",
       "20. (a, Complex)\n",
       "    core type: ExprTuple\n",
       "    sub-expressions: 42, 26\n",
       "21. _a -> (b_{_a} in Real)\n",
       "    core type: Lambda\n",
       "    parameter: 46\n",
       "    body: 27\n",
       "22. !=\n",
       "    core type: Literal\n",
       "    sub-expressions: \n",
       "23. (a, 0)\n",
       "    core type: ExprTuple\n",
       "    sub-expressions: 42, 28\n",
       "24. a^{b_{1}}, a^{b_{2}}, ..., a^{b_{m}}\n",
       "    core type: ExprRange\n",
       "    lambda_map: 29\n",
       "    start_index: 40\n",
       "    end_index: 41\n",
       "25. b_{1} +  b_{2} +  ... +  b_{m}\n",
       "    core type: Operation\n",
       "    operator: 30\n",
       "    operands: 31\n",
       "26. Complex\n",
       "    core type: Literal\n",
       "    sub-expressions: \n",
       "27. b_{_a} in Real\n",
       "    core type: Operation\n",
       "    operator: 32\n",
       "    operands: 33\n",
       "28. 0\n",
       "    core type: Literal\n",
       "    sub-expressions: \n",
       "29. _a -> a^{b_{_a}}\n",
       "    core type: Lambda\n",
       "    parameter: 46\n",
       "    body: 34\n",
       "30. +\n",
       "    core type: Literal\n",
       "    sub-expressions: \n",
       "31. (b_{1}, b_{2}, ..., b_{m})\n",
       "    core type: ExprTuple\n",
       "    sub-expressions: 35\n",
       "32. in\n",
       "    core type: Literal\n",
       "    sub-expressions: \n",
       "33. (b_{_a}, Real)\n",
       "    core type: ExprTuple\n",
       "    sub-expressions: 43, 36\n",
       "34. a^{b_{_a}}\n",
       "    core type: Operation\n",
       "    operator: 37\n",
       "    operands: 38\n",
       "35. b_{1}, b_{2}, ..., b_{m}\n",
       "    core type: ExprRange\n",
       "    lambda_map: 39\n",
       "    start_index: 40\n",
       "    end_index: 41\n",
       "36. Real\n",
       "    core type: Literal\n",
       "    sub-expressions: \n",
       "37. Exp\n",
       "    core type: Literal\n",
       "    sub-expressions: \n",
       "38. (a, b_{_a})\n",
       "    core type: ExprTuple\n",
       "    sub-expressions: 42, 43\n",
       "39. _a -> b_{_a}\n",
       "    core type: Lambda\n",
       "    parameter: 46\n",
       "    body: 43\n",
       "40. 1\n",
       "    core type: Literal\n",
       "    sub-expressions: \n",
       "41. m\n",
       "    core type: Variable\n",
       "    sub-expressions: \n",
       "42. a\n",
       "    core type: Variable\n",
       "    sub-expressions: \n",
       "43. b_{_a}\n",
       "    core type: IndexedVar\n",
       "variable: 44\n",
       "index: 46\n",
       "44. b\n",
       "    core type: Variable\n",
       "    sub-expressions: \n",
       "45. (_a)\n",
       "    core type: ExprTuple\n",
       "    sub-expressions: 46\n",
       "46. _a\n",
       "    core type: Variable\n",
       "    sub-expressions: "
      ]
     },
     "metadata": {},
     "output_type": "display_data"
    }
   ],
   "source": [
    "# display the expression information\n",
    "stored_expr.expr_info()"
   ]
  },
  {
   "cell_type": "code",
   "execution_count": null,
   "metadata": {},
   "outputs": [],
   "source": []
  }
 ],
 "metadata": {
  "kernelspec": {
   "display_name": "Python 3",
   "language": "python",
   "name": "python3"
  }
 },
 "nbformat": 4,
 "nbformat_minor": 0
}