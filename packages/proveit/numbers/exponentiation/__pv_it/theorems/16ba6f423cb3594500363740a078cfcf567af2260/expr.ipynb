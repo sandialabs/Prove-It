{
 "cells": [
  {
   "cell_type": "markdown",
   "metadata": {},
   "source": [
    "Expression of type <a class=\"ProveItLink\" href=\"../../../../../../../doc/html/api/proveit.Lambda.html\">Lambda</a>\n",
    "=======================\n",
    "# from the theory of <a class=\"ProveItLink\" href=\"../../../_theory_nbs_/theory.ipynb\">proveit.numbers.exponentiation</a>"
   ]
  },
  {
   "cell_type": "code",
   "execution_count": 1,
   "metadata": {},
   "outputs": [],
   "source": [
    "import proveit\n",
    "# Automation is not needed when building an expression:\n",
    "proveit.defaults.automation = False # This will speed things up.\n",
    "proveit.defaults.inline_pngs = False # Makes files smaller.\n",
    "%load_expr # Load the stored expression as 'stored_expr'\n",
    "# import Expression classes needed to build the expression\n",
    "from proveit import Conditional, ExprRange, IndexedVar, Lambda, Variable, a, n\n",
    "from proveit.core_expr_types import a_1_to_n\n",
    "from proveit.logic import And, Equals, InSet\n",
    "from proveit.numbers import Complex, Mult, one, sqrt"
   ]
  },
  {
   "cell_type": "code",
   "execution_count": 2,
   "metadata": {},
   "outputs": [
    {
     "data": {
      "text/html": [
       "<strong id=\"expr\">expr:</strong> <a class=\"ProveItLink\" href=\"expr.ipynb\"><img src=\"expr.png\" style=\"display:inline;vertical-align:middle;\" /></a><br>"
      ],
      "text/plain": [
       "<IPython.core.display.HTML object>"
      ]
     },
     "metadata": {},
     "output_type": "display_data"
    }
   ],
   "source": [
    "# build up the expression from sub-expressions\n",
    "sub_expr1 = Variable(\"_a\", latex_format = r\"{_{-}a}\")\n",
    "sub_expr2 = IndexedVar(a, sub_expr1)\n",
    "expr = Lambda([a_1_to_n], Conditional(Equals(sqrt(Mult(a_1_to_n)), Mult(ExprRange(sub_expr1, sqrt(sub_expr2), one, n))), And(ExprRange(sub_expr1, InSet(sub_expr2, Complex), one, n))))"
   ]
  },
  {
   "cell_type": "code",
   "execution_count": 3,
   "metadata": {},
   "outputs": [
    {
     "name": "stdout",
     "output_type": "stream",
     "text": [
      "Passed sanity check: expr matches stored_expr\n"
     ]
    }
   ],
   "source": [
    "# check that the built expression is the same as the stored expression\n",
    "assert expr == stored_expr\n",
    "assert expr._style_id == stored_expr._style_id\n",
    "print(\"Passed sanity check: expr matches stored_expr\")"
   ]
  },
  {
   "cell_type": "code",
   "execution_count": 4,
   "metadata": {},
   "outputs": [
    {
     "name": "stdout",
     "output_type": "stream",
     "text": [
      "\\left(a_{1}, a_{2}, \\ldots, a_{n}\\right) \\mapsto \\left\\{\\sqrt{\\left(a_{1} \\cdot  a_{2} \\cdot  \\ldots \\cdot  a_{n}\\right)} = \\left(\\sqrt{\\left(a_{1}\\right)} \\cdot  \\sqrt{\\left(a_{2}\\right)} \\cdot  \\ldots \\cdot  \\sqrt{\\left(a_{n}\\right)}\\right) \\textrm{ if } \\left(a_{1} \\in \\mathbb{C}\\right) \\land  \\left(a_{2} \\in \\mathbb{C}\\right) \\land  \\ldots \\land  \\left(a_{n} \\in \\mathbb{C}\\right)\\right..\n"
     ]
    }
   ],
   "source": [
    "# Show the LaTeX representation of the expression for convenience if you need it.\n",
    "print(stored_expr.latex())"
   ]
  },
  {
   "cell_type": "code",
   "execution_count": 5,
   "metadata": {},
   "outputs": [
    {
     "data": {
      "text/html": [
       "no style options"
      ],
      "text/plain": [
       "no style options"
      ]
     },
     "metadata": {},
     "output_type": "display_data"
    }
   ],
   "source": [
    "stored_expr.style_options()"
   ]
  },
  {
   "cell_type": "code",
   "execution_count": 6,
   "metadata": {},
   "outputs": [
    {
     "data": {
      "text/html": [
       "<table><tr><th>&nbsp;</th><th>core type</th><th>sub-expressions</th><th>expression</th></tr>\n",
       "<tr><td>0</td><td>Lambda</td><td>parameters:&nbsp;18<br>body:&nbsp;1<br></td><td><a class=\"ProveItLink\" href=\"expr.ipynb\"><img src=\"expr.png\" style=\"display:inline;vertical-align:middle;\" /></a></td></tr>\n",
       "<tr><td>1</td><td>Conditional</td><td>value:&nbsp;2<br>condition:&nbsp;3<br></td><td><a class=\"ProveItLink\" href=\"../a20a6a62551d43bf78c531df2e64a78f90876f420/expr.ipynb\"><img src=\"../a20a6a62551d43bf78c531df2e64a78f90876f420/expr.png\" style=\"display:inline;vertical-align:middle;\" /></a></td></tr>\n",
       "<tr><td>2</td><td>Operation</td><td>operator:&nbsp;4<br>operands:&nbsp;5<br></td><td><a class=\"ProveItLink\" href=\"../0f6c44051ab73f660d98be1f317fa6738ba790a70/expr.ipynb\"><img src=\"../0f6c44051ab73f660d98be1f317fa6738ba790a70/expr.png\" style=\"display:inline;vertical-align:middle;\" /></a></td></tr>\n",
       "<tr><td>3</td><td>Operation</td><td>operator:&nbsp;6<br>operands:&nbsp;7<br></td><td><a class=\"ProveItLink\" href=\"../b98aff08e4dd57f4dc75605abfe58ec2a9cfaf890/expr.ipynb\"><img src=\"../b98aff08e4dd57f4dc75605abfe58ec2a9cfaf890/expr.png\" style=\"display:inline;vertical-align:middle;\" /></a></td></tr>\n",
       "<tr><td>4</td><td>Literal</td><td></td><td><a class=\"ProveItLink\" href=\"../../../../../logic/equality/__pv_it/common/fb96dc12b2aa8801dda64d0132b396c63d1502bb0/expr.ipynb\"><img src=\"../../../../../logic/equality/__pv_it/common/fb96dc12b2aa8801dda64d0132b396c63d1502bb0/expr.png\" style=\"display:inline;vertical-align:middle;\" /></a></td></tr>\n",
       "<tr><td>5</td><td>ExprTuple</td><td>8, 9</td><td><a class=\"ProveItLink\" href=\"../0f7b1d4eb9af3eec9d0d40cbf7b68840dcf81f3e0/expr.ipynb\"><img src=\"../0f7b1d4eb9af3eec9d0d40cbf7b68840dcf81f3e0/expr.png\" style=\"display:inline;vertical-align:middle;\" /></a></td></tr>\n",
       "<tr><td>6</td><td>Literal</td><td></td><td><a class=\"ProveItLink\" href=\"../../../../../logic/booleans/conjunction/__pv_it/common/42118ff318bd65d98b1393f64ce7c2269feef76e0/expr.ipynb\"><img src=\"../../../../../logic/booleans/conjunction/__pv_it/common/42118ff318bd65d98b1393f64ce7c2269feef76e0/expr.png\" style=\"display:inline;vertical-align:middle;\" /></a></td></tr>\n",
       "<tr><td>7</td><td>ExprTuple</td><td>10</td><td><a class=\"ProveItLink\" href=\"../d896c45587bac5a74412f79fdbeb6bf8a51bc6e20/expr.ipynb\"><img src=\"../d896c45587bac5a74412f79fdbeb6bf8a51bc6e20/expr.png\" style=\"display:inline;vertical-align:middle;\" /></a></td></tr>\n",
       "<tr><td>8</td><td>Operation</td><td>operator:&nbsp;27<br>operands:&nbsp;11<br></td><td><a class=\"ProveItLink\" href=\"../a3e3549b2b07f007533d94b27f90d80858f72de20/expr.ipynb\"><img src=\"../a3e3549b2b07f007533d94b27f90d80858f72de20/expr.png\" style=\"display:inline;vertical-align:middle;\" /></a></td></tr>\n",
       "<tr><td>9</td><td>Operation</td><td>operator:&nbsp;17<br>operands:&nbsp;12<br></td><td><a class=\"ProveItLink\" href=\"../e6278f981b1ba0a85a7452ab11f67317979860cc0/expr.ipynb\"><img src=\"../e6278f981b1ba0a85a7452ab11f67317979860cc0/expr.png\" style=\"display:inline;vertical-align:middle;\" /></a></td></tr>\n",
       "<tr><td>10</td><td>ExprRange</td><td>lambda_map:&nbsp;13<br>start_index:&nbsp;36<br>end_index:&nbsp;26<br></td><td><a class=\"ProveItLink\" href=\"../47c9da5a76bc9f6adaa8683e62b23c00962632280/expr.ipynb\"><img src=\"../47c9da5a76bc9f6adaa8683e62b23c00962632280/expr.png\" style=\"display:inline;vertical-align:middle;\" /></a></td></tr>\n",
       "<tr><td>11</td><td>ExprTuple</td><td>14, 30</td><td><a class=\"ProveItLink\" href=\"../1e0adb7c19cc328e32458977888556312dd511080/expr.ipynb\"><img src=\"../1e0adb7c19cc328e32458977888556312dd511080/expr.png\" style=\"display:inline;vertical-align:middle;\" /></a></td></tr>\n",
       "<tr><td>12</td><td>ExprTuple</td><td>15</td><td><a class=\"ProveItLink\" href=\"../3ddb189d67486ca8bc108c8f8845667c6529c82e0/expr.ipynb\"><img src=\"../3ddb189d67486ca8bc108c8f8845667c6529c82e0/expr.png\" style=\"display:inline;vertical-align:middle;\" /></a></td></tr>\n",
       "<tr><td>13</td><td>Lambda</td><td>parameter:&nbsp;35<br>body:&nbsp;16<br></td><td><a class=\"ProveItLink\" href=\"../5c5d2db4e62eeb1316594489c9dc78d764404c220/expr.ipynb\"><img src=\"../5c5d2db4e62eeb1316594489c9dc78d764404c220/expr.png\" style=\"display:inline;vertical-align:middle;\" /></a></td></tr>\n",
       "<tr><td>14</td><td>Operation</td><td>operator:&nbsp;17<br>operands:&nbsp;18<br></td><td><a class=\"ProveItLink\" href=\"../3c0ff8db3b6f299987ae84bd1834872b784161db0/expr.ipynb\"><img src=\"../3c0ff8db3b6f299987ae84bd1834872b784161db0/expr.png\" style=\"display:inline;vertical-align:middle;\" /></a></td></tr>\n",
       "<tr><td>15</td><td>ExprRange</td><td>lambda_map:&nbsp;19<br>start_index:&nbsp;36<br>end_index:&nbsp;26<br></td><td><a class=\"ProveItLink\" href=\"../b3368c89a4e546374f639e9610ed268d3f4e06970/expr.ipynb\"><img src=\"../b3368c89a4e546374f639e9610ed268d3f4e06970/expr.png\" style=\"display:inline;vertical-align:middle;\" /></a></td></tr>\n",
       "<tr><td>16</td><td>Operation</td><td>operator:&nbsp;20<br>operands:&nbsp;21<br></td><td><a class=\"ProveItLink\" href=\"../99217926884f96534bb8eb1bd6e3cfdfb7161e620/expr.ipynb\"><img src=\"../99217926884f96534bb8eb1bd6e3cfdfb7161e620/expr.png\" style=\"display:inline;vertical-align:middle;\" /></a></td></tr>\n",
       "<tr><td>17</td><td>Literal</td><td></td><td><a class=\"ProveItLink\" href=\"../../../../multiplication/__pv_it/common/ed719cef37831779c16481533a4d380a2f95ab270/expr.ipynb\"><img src=\"../../../../multiplication/__pv_it/common/ed719cef37831779c16481533a4d380a2f95ab270/expr.png\" style=\"display:inline;vertical-align:middle;\" /></a></td></tr>\n",
       "<tr><td>18</td><td>ExprTuple</td><td>22</td><td><a class=\"ProveItLink\" href=\"../7b420e2a84f53537bd285f3baa95d83c0ea120860/expr.ipynb\"><img src=\"../7b420e2a84f53537bd285f3baa95d83c0ea120860/expr.png\" style=\"display:inline;vertical-align:middle;\" /></a></td></tr>\n",
       "<tr><td>19</td><td>Lambda</td><td>parameter:&nbsp;35<br>body:&nbsp;23<br></td><td><a class=\"ProveItLink\" href=\"../eb1e6f921e3d7617160e6c07ff8d91f7cb7a994e0/expr.ipynb\"><img src=\"../eb1e6f921e3d7617160e6c07ff8d91f7cb7a994e0/expr.png\" style=\"display:inline;vertical-align:middle;\" /></a></td></tr>\n",
       "<tr><td>20</td><td>Literal</td><td></td><td><a class=\"ProveItLink\" href=\"../../../../../logic/sets/membership/__pv_it/common/477487d8796864d23d5810f83761435f25167f690/expr.ipynb\"><img src=\"../../../../../logic/sets/membership/__pv_it/common/477487d8796864d23d5810f83761435f25167f690/expr.png\" style=\"display:inline;vertical-align:middle;\" /></a></td></tr>\n",
       "<tr><td>21</td><td>ExprTuple</td><td>29, 24</td><td><a class=\"ProveItLink\" href=\"../ce93d50dac6e6e7831954e956696a52de96f364a0/expr.ipynb\"><img src=\"../ce93d50dac6e6e7831954e956696a52de96f364a0/expr.png\" style=\"display:inline;vertical-align:middle;\" /></a></td></tr>\n",
       "<tr><td>22</td><td>ExprRange</td><td>lambda_map:&nbsp;25<br>start_index:&nbsp;36<br>end_index:&nbsp;26<br></td><td><a class=\"ProveItLink\" href=\"../../../../../core_expr_types/__pv_it/common/7ee2dd28754734e63298daa7955625a3d904698e0/expr.ipynb\"><img src=\"../../../../../core_expr_types/__pv_it/common/7ee2dd28754734e63298daa7955625a3d904698e0/expr.png\" style=\"display:inline;vertical-align:middle;\" /></a></td></tr>\n",
       "<tr><td>23</td><td>Operation</td><td>operator:&nbsp;27<br>operands:&nbsp;28<br></td><td><a class=\"ProveItLink\" href=\"../3af3978ffee0da666067cf07b6fcaa4990c660260/expr.ipynb\"><img src=\"../3af3978ffee0da666067cf07b6fcaa4990c660260/expr.png\" style=\"display:inline;vertical-align:middle;\" /></a></td></tr>\n",
       "<tr><td>24</td><td>Literal</td><td></td><td><a class=\"ProveItLink\" href=\"../../../../number_sets/complex_numbers/__pv_it/common/d18a028138f659eda00de597c28a3447fe87eb100/expr.ipynb\"><img src=\"../../../../number_sets/complex_numbers/__pv_it/common/d18a028138f659eda00de597c28a3447fe87eb100/expr.png\" style=\"display:inline;vertical-align:middle;\" /></a></td></tr>\n",
       "<tr><td>25</td><td>Lambda</td><td>parameter:&nbsp;35<br>body:&nbsp;29<br></td><td><a class=\"ProveItLink\" href=\"../../../../../core_expr_types/__pv_it/common/1527ad383e12f9c6ed6b371c9a7dd1892d80da1b0/expr.ipynb\"><img src=\"../../../../../core_expr_types/__pv_it/common/1527ad383e12f9c6ed6b371c9a7dd1892d80da1b0/expr.png\" style=\"display:inline;vertical-align:middle;\" /></a></td></tr>\n",
       "<tr><td>26</td><td>Variable</td><td></td><td><a class=\"ProveItLink\" href=\"../../../../../__pv_it/common/8968bb04eb3f7dfa02353397ce929b025bbd79c20/expr.ipynb\"><img src=\"../../../../../__pv_it/common/8968bb04eb3f7dfa02353397ce929b025bbd79c20/expr.png\" style=\"display:inline;vertical-align:middle;\" /></a></td></tr>\n",
       "<tr><td>27</td><td>Literal</td><td></td><td><a class=\"ProveItLink\" href=\"../../common/0ac37aca1e54c35c5cda09672df32d4f69f1f3020/expr.ipynb\"><img src=\"../../common/0ac37aca1e54c35c5cda09672df32d4f69f1f3020/expr.png\" style=\"display:inline;vertical-align:middle;\" /></a></td></tr>\n",
       "<tr><td>28</td><td>ExprTuple</td><td>29, 30</td><td><a class=\"ProveItLink\" href=\"../b4fc5844878edbcfd03931ae16891bf94f8e69010/expr.ipynb\"><img src=\"../b4fc5844878edbcfd03931ae16891bf94f8e69010/expr.png\" style=\"display:inline;vertical-align:middle;\" /></a></td></tr>\n",
       "<tr><td>29</td><td>IndexedVar</td><td>variable:&nbsp;31<br>index:&nbsp;35<br></td><td><a class=\"ProveItLink\" href=\"../../../../../core_expr_types/__pv_it/common/3a62c13e156d62d52fe585fa37cc2172fcf685260/expr.ipynb\"><img src=\"../../../../../core_expr_types/__pv_it/common/3a62c13e156d62d52fe585fa37cc2172fcf685260/expr.png\" style=\"display:inline;vertical-align:middle;\" /></a></td></tr>\n",
       "<tr><td>30</td><td>Operation</td><td>operator:&nbsp;33<br>operands:&nbsp;34<br></td><td><a class=\"ProveItLink\" href=\"../41c7e8d55de04e24c56503fbffe6ac0318a53f990/expr.ipynb\"><img src=\"../41c7e8d55de04e24c56503fbffe6ac0318a53f990/expr.png\" style=\"display:inline;vertical-align:middle;\" /></a></td></tr>\n",
       "<tr><td>31</td><td>Variable</td><td></td><td><a class=\"ProveItLink\" href=\"../../../../../__pv_it/common/c06c606ec12678c58933ac85412ecadc2ae28be60/expr.ipynb\"><img src=\"../../../../../__pv_it/common/c06c606ec12678c58933ac85412ecadc2ae28be60/expr.png\" style=\"display:inline;vertical-align:middle;\" /></a></td></tr>\n",
       "<tr><td>32</td><td>ExprTuple</td><td>35</td><td><a class=\"ProveItLink\" href=\"../../../../../core_expr_types/__pv_it/common/4b0dd6be36d76552eda6a95d5b4a27f5a5b62f900/expr.ipynb\"><img src=\"../../../../../core_expr_types/__pv_it/common/4b0dd6be36d76552eda6a95d5b4a27f5a5b62f900/expr.png\" style=\"display:inline;vertical-align:middle;\" /></a></td></tr>\n",
       "<tr><td>33</td><td>Literal</td><td></td><td><a class=\"ProveItLink\" href=\"../../../../division/__pv_it/common/a2a633e1e3c749fb1f2692466b287b6348c5de840/expr.ipynb\"><img src=\"../../../../division/__pv_it/common/a2a633e1e3c749fb1f2692466b287b6348c5de840/expr.png\" style=\"display:inline;vertical-align:middle;\" /></a></td></tr>\n",
       "<tr><td>34</td><td>ExprTuple</td><td>36, 37</td><td><a class=\"ProveItLink\" href=\"../../../../numerals/decimals/__pv_it/theorems/df23a04353373623cccbfda09b61e0f594aa791a0/expr.ipynb\"><img src=\"../../../../numerals/decimals/__pv_it/theorems/df23a04353373623cccbfda09b61e0f594aa791a0/expr.png\" style=\"display:inline;vertical-align:middle;\" /></a></td></tr>\n",
       "<tr><td>35</td><td>Variable</td><td></td><td><a class=\"ProveItLink\" href=\"../../../../../core_expr_types/__pv_it/common/006c465e50948aa2b52285e2de47974f741255cc0/expr.ipynb\"><img src=\"../../../../../core_expr_types/__pv_it/common/006c465e50948aa2b52285e2de47974f741255cc0/expr.png\" style=\"display:inline;vertical-align:middle;\" /></a></td></tr>\n",
       "<tr><td>36</td><td>Literal</td><td></td><td><a class=\"ProveItLink\" href=\"../../../../numerals/__pv_it/common/682157d4892d216d9e5626ed533aff9b56b9506e0/expr.ipynb\"><img src=\"../../../../numerals/__pv_it/common/682157d4892d216d9e5626ed533aff9b56b9506e0/expr.png\" style=\"display:inline;vertical-align:middle;\" /></a></td></tr>\n",
       "<tr><td>37</td><td>Literal</td><td></td><td><a class=\"ProveItLink\" href=\"../../../../numerals/__pv_it/common/af4aab8a07465db063742696e006d04670f30cf10/expr.ipynb\"><img src=\"../../../../numerals/__pv_it/common/af4aab8a07465db063742696e006d04670f30cf10/expr.png\" style=\"display:inline;vertical-align:middle;\" /></a></td></tr>\n",
       "</table>\n"
      ],
      "text/plain": [
       "0. (a_{1}, a_{2}, ..., a_{n}) -> {sqrt((a_{1} *  a_{2} *  ... *  a_{n})) = (sqrt((a_{1})) *  sqrt((a_{2})) *  ... *  sqrt((a_{n}))) if (a_{1} in Complex) and  (a_{2} in Complex) and  ... and  (a_{n} in Complex).\n",
       "   core type: Lambda\n",
       "   parameters: 18\\n   body: 1\n",
       "1. {sqrt((a_{1} *  a_{2} *  ... *  a_{n})) = (sqrt((a_{1})) *  sqrt((a_{2})) *  ... *  sqrt((a_{n}))) if (a_{1} in Complex) and  (a_{2} in Complex) and  ... and  (a_{n} in Complex).\n",
       "   core type: Conditional\n",
       "   value: 2\n",
       "   condition: 3\n",
       "2. sqrt((a_{1} *  a_{2} *  ... *  a_{n})) = (sqrt((a_{1})) *  sqrt((a_{2})) *  ... *  sqrt((a_{n})))\n",
       "   core type: Operation\n",
       "   operator: 4\n",
       "   operands: 5\n",
       "3. (a_{1} in Complex) and  (a_{2} in Complex) and  ... and  (a_{n} in Complex)\n",
       "   core type: Operation\n",
       "   operator: 6\n",
       "   operands: 7\n",
       "4. =\n",
       "   core type: Literal\n",
       "   sub-expressions: \n",
       "5. (sqrt((a_{1} *  a_{2} *  ... *  a_{n})), sqrt((a_{1})) *  sqrt((a_{2})) *  ... *  sqrt((a_{n})))\n",
       "   core type: ExprTuple\n",
       "   sub-expressions: 8, 9\n",
       "6. and\n",
       "   core type: Literal\n",
       "   sub-expressions: \n",
       "7. ((a_{1} in Complex), (a_{2} in Complex), ..., (a_{n} in Complex))\n",
       "   core type: ExprTuple\n",
       "   sub-expressions: 10\n",
       "8. sqrt((a_{1} *  a_{2} *  ... *  a_{n}))\n",
       "   core type: Operation\n",
       "   operator: 27\n",
       "   operands: 11\n",
       "9. sqrt((a_{1})) *  sqrt((a_{2})) *  ... *  sqrt((a_{n}))\n",
       "   core type: Operation\n",
       "   operator: 17\n",
       "   operands: 12\n",
       "10. (a_{1} in Complex), (a_{2} in Complex), ..., (a_{n} in Complex)\n",
       "    core type: ExprRange\n",
       "    lambda_map: 13\n",
       "    start_index: 36\n",
       "    end_index: 26\n",
       "11. (a_{1} *  a_{2} *  ... *  a_{n}, 1 / 2)\n",
       "    core type: ExprTuple\n",
       "    sub-expressions: 14, 30\n",
       "12. (sqrt((a_{1})), sqrt((a_{2})), ..., sqrt((a_{n})))\n",
       "    core type: ExprTuple\n",
       "    sub-expressions: 15\n",
       "13. _a -> (a_{_a} in Complex)\n",
       "    core type: Lambda\n",
       "    parameter: 35\n",
       "    body: 16\n",
       "14. a_{1} *  a_{2} *  ... *  a_{n}\n",
       "    core type: Operation\n",
       "    operator: 17\n",
       "    operands: 18\n",
       "15. sqrt((a_{1})), sqrt((a_{2})), ..., sqrt((a_{n}))\n",
       "    core type: ExprRange\n",
       "    lambda_map: 19\n",
       "    start_index: 36\n",
       "    end_index: 26\n",
       "16. a_{_a} in Complex\n",
       "    core type: Operation\n",
       "    operator: 20\n",
       "    operands: 21\n",
       "17. *\n",
       "    core type: Literal\n",
       "    sub-expressions: \n",
       "18. (a_{1}, a_{2}, ..., a_{n})\n",
       "    core type: ExprTuple\n",
       "    sub-expressions: 22\n",
       "19. _a -> sqrt((a_{_a}))\n",
       "    core type: Lambda\n",
       "    parameter: 35\n",
       "    body: 23\n",
       "20. in\n",
       "    core type: Literal\n",
       "    sub-expressions: \n",
       "21. (a_{_a}, Complex)\n",
       "    core type: ExprTuple\n",
       "    sub-expressions: 29, 24\n",
       "22. a_{1}, a_{2}, ..., a_{n}\n",
       "    core type: ExprRange\n",
       "    lambda_map: 25\n",
       "    start_index: 36\n",
       "    end_index: 26\n",
       "23. sqrt((a_{_a}))\n",
       "    core type: Operation\n",
       "    operator: 27\n",
       "    operands: 28\n",
       "24. Complex\n",
       "    core type: Literal\n",
       "    sub-expressions: \n",
       "25. _a -> a_{_a}\n",
       "    core type: Lambda\n",
       "    parameter: 35\n",
       "    body: 29\n",
       "26. n\n",
       "    core type: Variable\n",
       "    sub-expressions: \n",
       "27. Exp\n",
       "    core type: Literal\n",
       "    sub-expressions: \n",
       "28. (a_{_a}, 1 / 2)\n",
       "    core type: ExprTuple\n",
       "    sub-expressions: 29, 30\n",
       "29. a_{_a}\n",
       "    core type: IndexedVar\n",
       "variable: 31\n",
       "index: 35\n",
       "30. 1 / 2\n",
       "    core type: Operation\n",
       "    operator: 33\n",
       "    operands: 34\n",
       "31. a\n",
       "    core type: Variable\n",
       "    sub-expressions: \n",
       "32. (_a)\n",
       "    core type: ExprTuple\n",
       "    sub-expressions: 35\n",
       "33. /\n",
       "    core type: Literal\n",
       "    sub-expressions: \n",
       "34. (1, 2)\n",
       "    core type: ExprTuple\n",
       "    sub-expressions: 36, 37\n",
       "35. _a\n",
       "    core type: Variable\n",
       "    sub-expressions: \n",
       "36. 1\n",
       "    core type: Literal\n",
       "    sub-expressions: \n",
       "37. 2\n",
       "    core type: Literal\n",
       "    sub-expressions: "
      ]
     },
     "metadata": {},
     "output_type": "display_data"
    }
   ],
   "source": [
    "# display the expression information\n",
    "stored_expr.expr_info()"
   ]
  },
  {
   "cell_type": "code",
   "execution_count": null,
   "metadata": {},
   "outputs": [],
   "source": []
  }
 ],
 "metadata": {
  "kernelspec": {
   "display_name": "Python 3",
   "language": "python",
   "name": "python3"
  }
 },
 "nbformat": 4,
 "nbformat_minor": 0
}