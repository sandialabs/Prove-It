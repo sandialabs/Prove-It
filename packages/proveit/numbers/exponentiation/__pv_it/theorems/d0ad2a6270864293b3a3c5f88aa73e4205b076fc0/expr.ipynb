{
 "cells": [
  {
   "cell_type": "markdown",
   "metadata": {},
   "source": [
    "Expression of type <a class=\"ProveItLink\" href=\"../../../../../../../doc/html/api/proveit.logic.Forall.html\">Forall</a>\n",
    "=======================\n",
    "# from the theory of <a class=\"ProveItLink\" href=\"../../../_theory_nbs_/theory.ipynb\">proveit.numbers.exponentiation</a>"
   ]
  },
  {
   "cell_type": "code",
   "execution_count": 1,
   "metadata": {},
   "outputs": [],
   "source": [
    "import proveit\n",
    "# Automation is not needed when building an expression:\n",
    "proveit.defaults.automation = False # This will speed things up.\n",
    "proveit.defaults.inline_pngs = False # Makes files smaller.\n",
    "%load_expr # Load the stored expression as 'stored_expr'\n",
    "# import Expression classes needed to build the expression\n",
    "from proveit import b, m\n",
    "from proveit.core_expr_types import a_1_to_m\n",
    "from proveit.logic import Equals, Forall\n",
    "from proveit.numbers import Complex, Exp, Mult, NaturalPos, RealPos\n",
    "from proveit.numbers.exponentiation import prod_ai_raise_b__1_to_m"
   ]
  },
  {
   "cell_type": "code",
   "execution_count": 2,
   "metadata": {},
   "outputs": [
    {
     "data": {
      "text/html": [
       "<strong id=\"expr\">expr:</strong> <a class=\"ProveItLink\" href=\"expr.ipynb\"><img src=\"expr.png\" style=\"display:inline;vertical-align:middle;\" /></a><br>"
      ],
      "text/plain": [
       "<IPython.core.display.HTML object>"
      ]
     },
     "metadata": {},
     "output_type": "display_data"
    }
   ],
   "source": [
    "# build up the expression from sub-expressions\n",
    "expr = Forall(instance_param_or_params = [m], instance_expr = Forall(instance_param_or_params = [a_1_to_m, b], instance_expr = Equals(Exp(Mult(a_1_to_m), b), prod_ai_raise_b__1_to_m), domains = [RealPos, Complex]), domain = NaturalPos)"
   ]
  },
  {
   "cell_type": "code",
   "execution_count": 3,
   "metadata": {},
   "outputs": [
    {
     "name": "stdout",
     "output_type": "stream",
     "text": [
      "Passed sanity check: expr matches stored_expr\n"
     ]
    }
   ],
   "source": [
    "# check that the built expression is the same as the stored expression\n",
    "assert expr == stored_expr\n",
    "assert expr._style_id == stored_expr._style_id\n",
    "print(\"Passed sanity check: expr matches stored_expr\")"
   ]
  },
  {
   "cell_type": "code",
   "execution_count": 4,
   "metadata": {},
   "outputs": [
    {
     "name": "stdout",
     "output_type": "stream",
     "text": [
      "\\forall_{m \\in \\mathbb{N}^+}~\\left[\\forall_{\\left(a_{1} \\in \\mathbb{R}^+\\right), \\left(a_{2} \\in \\mathbb{R}^+\\right), \\ldots, \\left(a_{m} \\in \\mathbb{R}^+\\right), b \\in \\mathbb{C}}~\\left(\\left(a_{1} \\cdot  a_{2} \\cdot  \\ldots \\cdot  a_{m}\\right)^{b} = \\left(\\left(a_{1}\\right)^{b} \\cdot  \\left(a_{2}\\right)^{b} \\cdot  \\ldots \\cdot  \\left(a_{m}\\right)^{b}\\right)\\right)\\right]\n"
     ]
    }
   ],
   "source": [
    "# Show the LaTeX representation of the expression for convenience if you need it.\n",
    "print(stored_expr.latex())"
   ]
  },
  {
   "cell_type": "code",
   "execution_count": 5,
   "metadata": {},
   "outputs": [
    {
     "data": {
      "text/html": [
       "<table>\n",
       "<tr><th>name</th><th>description</th><th>default</th><th>current value</th><th>related methods</th></tr><tr><td>with_wrapping</td><td>If 'True', wrap the Expression after the parameters</td><td>None</td><td>None/False</td><td>('with_wrapping',)</td></tr>\n",
       "<tr><td>condition_wrapping</td><td>Wrap 'before' or 'after' the condition (or None).</td><td>None</td><td>None/False</td><td>('with_wrap_after_condition', 'with_wrap_before_condition')</td></tr>\n",
       "<tr><td>wrap_params</td><td>If 'True', wraps every two parameters AND wraps the Expression after the parameters</td><td>None</td><td>None/False</td><td>('with_params',)</td></tr>\n",
       "<tr><td>justification</td><td>justify to the 'left', 'center', or 'right' in the array cells</td><td>center</td><td>center</td><td>('with_justification',)</td></tr>\n",
       "</table>\n"
      ],
      "text/plain": [
       "style name: with_wrapping\n",
       "description: If 'True', wrap the Expression after the parameters\n",
       "default: None\n",
       "current value: None/False\n",
       "related methods: ('with_wrapping',)\n",
       "style name: condition_wrapping\n",
       "description: Wrap 'before' or 'after' the condition (or None).\n",
       "default: None\n",
       "current value: None/False\n",
       "related methods: ('with_wrap_after_condition', 'with_wrap_before_condition')\n",
       "style name: wrap_params\n",
       "description: If 'True', wraps every two parameters AND wraps the Expression after the parameters\n",
       "default: None\n",
       "current value: None/False\n",
       "related methods: ('with_params',)\n",
       "style name: justification\n",
       "description: justify to the 'left', 'center', or 'right' in the array cells\n",
       "default: center\n",
       "current value: center\n",
       "related methods: ('with_justification',)"
      ]
     },
     "metadata": {},
     "output_type": "display_data"
    }
   ],
   "source": [
    "stored_expr.style_options()"
   ]
  },
  {
   "cell_type": "code",
   "execution_count": 6,
   "metadata": {},
   "outputs": [
    {
     "data": {
      "text/html": [
       "<table><tr><th>&nbsp;</th><th>core type</th><th>sub-expressions</th><th>expression</th></tr>\n",
       "<tr><td>0</td><td>Operation</td><td>operator:&nbsp;7<br>operand:&nbsp;2<br></td><td><a class=\"ProveItLink\" href=\"expr.ipynb\"><img src=\"expr.png\" style=\"display:inline;vertical-align:middle;\" /></a></td></tr>\n",
       "<tr><td>1</td><td>ExprTuple</td><td>2</td><td><a class=\"ProveItLink\" href=\"../1185d30b74601598761d2c043196bc4c4a61b6210/expr.ipynb\"><img src=\"../1185d30b74601598761d2c043196bc4c4a61b6210/expr.png\" style=\"display:inline;vertical-align:middle;\" /></a></td></tr>\n",
       "<tr><td>2</td><td>Lambda</td><td>parameter:&nbsp;42<br>body:&nbsp;4<br></td><td><a class=\"ProveItLink\" href=\"../9f306fe2a4e8ead9d5a46bea95b8c44951097e2f0/expr.ipynb\"><img src=\"../9f306fe2a4e8ead9d5a46bea95b8c44951097e2f0/expr.png\" style=\"display:inline;vertical-align:middle;\" /></a></td></tr>\n",
       "<tr><td>3</td><td>ExprTuple</td><td>42</td><td><a class=\"ProveItLink\" href=\"../2ed45ad9602ac89076225577ef477d88f8c5a1790/expr.ipynb\"><img src=\"../2ed45ad9602ac89076225577ef477d88f8c5a1790/expr.png\" style=\"display:inline;vertical-align:middle;\" /></a></td></tr>\n",
       "<tr><td>4</td><td>Conditional</td><td>value:&nbsp;5<br>condition:&nbsp;6<br></td><td><a class=\"ProveItLink\" href=\"../33b3f62d8f37e0fb8d846d47ff638f79398337b40/expr.ipynb\"><img src=\"../33b3f62d8f37e0fb8d846d47ff638f79398337b40/expr.png\" style=\"display:inline;vertical-align:middle;\" /></a></td></tr>\n",
       "<tr><td>5</td><td>Operation</td><td>operator:&nbsp;7<br>operand:&nbsp;10<br></td><td><a class=\"ProveItLink\" href=\"../f2726d866ec656fb58edac75d67ac8af503e2c6b0/expr.ipynb\"><img src=\"../f2726d866ec656fb58edac75d67ac8af503e2c6b0/expr.png\" style=\"display:inline;vertical-align:middle;\" /></a></td></tr>\n",
       "<tr><td>6</td><td>Operation</td><td>operator:&nbsp;35<br>operands:&nbsp;9<br></td><td><a class=\"ProveItLink\" href=\"../79a768603778550c651661670153c27ee0a505870/expr.ipynb\"><img src=\"../79a768603778550c651661670153c27ee0a505870/expr.png\" style=\"display:inline;vertical-align:middle;\" /></a></td></tr>\n",
       "<tr><td>7</td><td>Literal</td><td></td><td><a class=\"ProveItLink\" href=\"../../../../../logic/booleans/quantification/universality/__pv_it/common/083d2baa0b8ecab1d230f9ec29a15aa1355809fb0/expr.ipynb\"><img src=\"../../../../../logic/booleans/quantification/universality/__pv_it/common/083d2baa0b8ecab1d230f9ec29a15aa1355809fb0/expr.png\" style=\"display:inline;vertical-align:middle;\" /></a></td></tr>\n",
       "<tr><td>8</td><td>ExprTuple</td><td>10</td><td><a class=\"ProveItLink\" href=\"../7b39238d5dfcc0c2a31ec11c364ae4d53dbc833f0/expr.ipynb\"><img src=\"../7b39238d5dfcc0c2a31ec11c364ae4d53dbc833f0/expr.png\" style=\"display:inline;vertical-align:middle;\" /></a></td></tr>\n",
       "<tr><td>9</td><td>ExprTuple</td><td>42, 11</td><td><a class=\"ProveItLink\" href=\"../0aafde61e876ad81c8138546f58d9459d893af050/expr.ipynb\"><img src=\"../0aafde61e876ad81c8138546f58d9459d893af050/expr.png\" style=\"display:inline;vertical-align:middle;\" /></a></td></tr>\n",
       "<tr><td>10</td><td>Lambda</td><td>parameters:&nbsp;12<br>body:&nbsp;13<br></td><td><a class=\"ProveItLink\" href=\"../57ab26594899f4e7b679bd98e670fd5b5a6e98eb0/expr.ipynb\"><img src=\"../57ab26594899f4e7b679bd98e670fd5b5a6e98eb0/expr.png\" style=\"display:inline;vertical-align:middle;\" /></a></td></tr>\n",
       "<tr><td>11</td><td>Literal</td><td></td><td><a class=\"ProveItLink\" href=\"../../../../number_sets/natural_numbers/__pv_it/common/6111329435c43892c831c4793de96afbf80bdb3e0/expr.ipynb\"><img src=\"../../../../number_sets/natural_numbers/__pv_it/common/6111329435c43892c831c4793de96afbf80bdb3e0/expr.png\" style=\"display:inline;vertical-align:middle;\" /></a></td></tr>\n",
       "<tr><td>12</td><td>ExprTuple</td><td>37, 46</td><td><a class=\"ProveItLink\" href=\"../19405cf9df803d16ed6fce045569317b6e0f67e20/expr.ipynb\"><img src=\"../19405cf9df803d16ed6fce045569317b6e0f67e20/expr.png\" style=\"display:inline;vertical-align:middle;\" /></a></td></tr>\n",
       "<tr><td>13</td><td>Conditional</td><td>value:&nbsp;14<br>condition:&nbsp;15<br></td><td><a class=\"ProveItLink\" href=\"../7c214e9b103eaf2d292d590495cf2356e4c8d3920/expr.ipynb\"><img src=\"../7c214e9b103eaf2d292d590495cf2356e4c8d3920/expr.png\" style=\"display:inline;vertical-align:middle;\" /></a></td></tr>\n",
       "<tr><td>14</td><td>Operation</td><td>operator:&nbsp;16<br>operands:&nbsp;17<br></td><td><a class=\"ProveItLink\" href=\"../98b48950fc30f044ce43f1a7212c8676959fe1b90/expr.ipynb\"><img src=\"../98b48950fc30f044ce43f1a7212c8676959fe1b90/expr.png\" style=\"display:inline;vertical-align:middle;\" /></a></td></tr>\n",
       "<tr><td>15</td><td>Operation</td><td>operator:&nbsp;18<br>operands:&nbsp;19<br></td><td><a class=\"ProveItLink\" href=\"../da17245a8b813c41d696408531b90ace035f3ed60/expr.ipynb\"><img src=\"../da17245a8b813c41d696408531b90ace035f3ed60/expr.png\" style=\"display:inline;vertical-align:middle;\" /></a></td></tr>\n",
       "<tr><td>16</td><td>Literal</td><td></td><td><a class=\"ProveItLink\" href=\"../../../../../logic/equality/__pv_it/common/fb96dc12b2aa8801dda64d0132b396c63d1502bb0/expr.ipynb\"><img src=\"../../../../../logic/equality/__pv_it/common/fb96dc12b2aa8801dda64d0132b396c63d1502bb0/expr.png\" style=\"display:inline;vertical-align:middle;\" /></a></td></tr>\n",
       "<tr><td>17</td><td>ExprTuple</td><td>20, 21</td><td><a class=\"ProveItLink\" href=\"../66d5e173ddb03bf67e18ef7aa91f72c94bb784770/expr.ipynb\"><img src=\"../66d5e173ddb03bf67e18ef7aa91f72c94bb784770/expr.png\" style=\"display:inline;vertical-align:middle;\" /></a></td></tr>\n",
       "<tr><td>18</td><td>Literal</td><td></td><td><a class=\"ProveItLink\" href=\"../../../../../logic/booleans/conjunction/__pv_it/common/42118ff318bd65d98b1393f64ce7c2269feef76e0/expr.ipynb\"><img src=\"../../../../../logic/booleans/conjunction/__pv_it/common/42118ff318bd65d98b1393f64ce7c2269feef76e0/expr.png\" style=\"display:inline;vertical-align:middle;\" /></a></td></tr>\n",
       "<tr><td>19</td><td>ExprTuple</td><td>22, 23</td><td><a class=\"ProveItLink\" href=\"../e1c985eb14549b34d06c50b96c279f0589da6fd90/expr.ipynb\"><img src=\"../e1c985eb14549b34d06c50b96c279f0589da6fd90/expr.png\" style=\"display:inline;vertical-align:middle;\" /></a></td></tr>\n",
       "<tr><td>20</td><td>Operation</td><td>operator:&nbsp;43<br>operands:&nbsp;24<br></td><td><a class=\"ProveItLink\" href=\"../af5667315983541a614c2c2deb90d719229a0a440/expr.ipynb\"><img src=\"../af5667315983541a614c2c2deb90d719229a0a440/expr.png\" style=\"display:inline;vertical-align:middle;\" /></a></td></tr>\n",
       "<tr><td>21</td><td>Operation</td><td>operator:&nbsp;32<br>operands:&nbsp;25<br></td><td><a class=\"ProveItLink\" href=\"../../common/b4ead9ad946dc97a1fb1851eac732c0b938608860/expr.ipynb\"><img src=\"../../common/b4ead9ad946dc97a1fb1851eac732c0b938608860/expr.png\" style=\"display:inline;vertical-align:middle;\" /></a></td></tr>\n",
       "<tr><td>22</td><td>ExprRange</td><td>lambda_map:&nbsp;26<br>start_index:&nbsp;41<br>end_index:&nbsp;42<br></td><td><a class=\"ProveItLink\" href=\"../8fd389fb57cb1edc121850821d6f779eca51ed7a0/expr.ipynb\"><img src=\"../8fd389fb57cb1edc121850821d6f779eca51ed7a0/expr.png\" style=\"display:inline;vertical-align:middle;\" /></a></td></tr>\n",
       "<tr><td>23</td><td>Operation</td><td>operator:&nbsp;35<br>operands:&nbsp;27<br></td><td><a class=\"ProveItLink\" href=\"../a259ec76dfb0a5be60b7c83d797520fa82c1dba60/expr.ipynb\"><img src=\"../a259ec76dfb0a5be60b7c83d797520fa82c1dba60/expr.png\" style=\"display:inline;vertical-align:middle;\" /></a></td></tr>\n",
       "<tr><td>24</td><td>ExprTuple</td><td>28, 46</td><td><a class=\"ProveItLink\" href=\"../618c21447fbdf0bc307f2578322b5f03b246cf860/expr.ipynb\"><img src=\"../618c21447fbdf0bc307f2578322b5f03b246cf860/expr.png\" style=\"display:inline;vertical-align:middle;\" /></a></td></tr>\n",
       "<tr><td>25</td><td>ExprTuple</td><td>29</td><td><a class=\"ProveItLink\" href=\"../../common/d0468ee9129d68d9d1dfe75b0339ec2e85f8733f0/expr.ipynb\"><img src=\"../../common/d0468ee9129d68d9d1dfe75b0339ec2e85f8733f0/expr.png\" style=\"display:inline;vertical-align:middle;\" /></a></td></tr>\n",
       "<tr><td>26</td><td>Lambda</td><td>parameter:&nbsp;49<br>body:&nbsp;30<br></td><td><a class=\"ProveItLink\" href=\"../a5096e9161ef7cac2b699b87d36bb8f00e1fb9960/expr.ipynb\"><img src=\"../a5096e9161ef7cac2b699b87d36bb8f00e1fb9960/expr.png\" style=\"display:inline;vertical-align:middle;\" /></a></td></tr>\n",
       "<tr><td>27</td><td>ExprTuple</td><td>46, 31</td><td><a class=\"ProveItLink\" href=\"../4a72a986c458b001a667c5069838c28cc69c8d280/expr.ipynb\"><img src=\"../4a72a986c458b001a667c5069838c28cc69c8d280/expr.png\" style=\"display:inline;vertical-align:middle;\" /></a></td></tr>\n",
       "<tr><td>28</td><td>Operation</td><td>operator:&nbsp;32<br>operands:&nbsp;33<br></td><td><a class=\"ProveItLink\" href=\"../5ef641d57c2f1acad32fffebe02df4ad01ccfca10/expr.ipynb\"><img src=\"../5ef641d57c2f1acad32fffebe02df4ad01ccfca10/expr.png\" style=\"display:inline;vertical-align:middle;\" /></a></td></tr>\n",
       "<tr><td>29</td><td>ExprRange</td><td>lambda_map:&nbsp;34<br>start_index:&nbsp;41<br>end_index:&nbsp;42<br></td><td><a class=\"ProveItLink\" href=\"../../common/71d7f669e1eac120b30a9f58e064871916c78d870/expr.ipynb\"><img src=\"../../common/71d7f669e1eac120b30a9f58e064871916c78d870/expr.png\" style=\"display:inline;vertical-align:middle;\" /></a></td></tr>\n",
       "<tr><td>30</td><td>Operation</td><td>operator:&nbsp;35<br>operands:&nbsp;36<br></td><td><a class=\"ProveItLink\" href=\"../3a7d95da32c2e7fe26d84073f12bec6c019a5cf40/expr.ipynb\"><img src=\"../3a7d95da32c2e7fe26d84073f12bec6c019a5cf40/expr.png\" style=\"display:inline;vertical-align:middle;\" /></a></td></tr>\n",
       "<tr><td>31</td><td>Literal</td><td></td><td><a class=\"ProveItLink\" href=\"../../../../number_sets/complex_numbers/__pv_it/common/d18a028138f659eda00de597c28a3447fe87eb100/expr.ipynb\"><img src=\"../../../../number_sets/complex_numbers/__pv_it/common/d18a028138f659eda00de597c28a3447fe87eb100/expr.png\" style=\"display:inline;vertical-align:middle;\" /></a></td></tr>\n",
       "<tr><td>32</td><td>Literal</td><td></td><td><a class=\"ProveItLink\" href=\"../../../../multiplication/__pv_it/common/ed719cef37831779c16481533a4d380a2f95ab270/expr.ipynb\"><img src=\"../../../../multiplication/__pv_it/common/ed719cef37831779c16481533a4d380a2f95ab270/expr.png\" style=\"display:inline;vertical-align:middle;\" /></a></td></tr>\n",
       "<tr><td>33</td><td>ExprTuple</td><td>37</td><td><a class=\"ProveItLink\" href=\"../4a3affb8d94ea09e09cb392a1a13d01844a34d250/expr.ipynb\"><img src=\"../4a3affb8d94ea09e09cb392a1a13d01844a34d250/expr.png\" style=\"display:inline;vertical-align:middle;\" /></a></td></tr>\n",
       "<tr><td>34</td><td>Lambda</td><td>parameter:&nbsp;49<br>body:&nbsp;38<br></td><td><a class=\"ProveItLink\" href=\"../../common/8cceb7d5302a8e87bb4095cb78784125bef19fc30/expr.ipynb\"><img src=\"../../common/8cceb7d5302a8e87bb4095cb78784125bef19fc30/expr.png\" style=\"display:inline;vertical-align:middle;\" /></a></td></tr>\n",
       "<tr><td>35</td><td>Literal</td><td></td><td><a class=\"ProveItLink\" href=\"../../../../../logic/sets/membership/__pv_it/common/477487d8796864d23d5810f83761435f25167f690/expr.ipynb\"><img src=\"../../../../../logic/sets/membership/__pv_it/common/477487d8796864d23d5810f83761435f25167f690/expr.png\" style=\"display:inline;vertical-align:middle;\" /></a></td></tr>\n",
       "<tr><td>36</td><td>ExprTuple</td><td>45, 39</td><td><a class=\"ProveItLink\" href=\"../09eb600a5b41b2f8a2704ef9265f06b77163487b0/expr.ipynb\"><img src=\"../09eb600a5b41b2f8a2704ef9265f06b77163487b0/expr.png\" style=\"display:inline;vertical-align:middle;\" /></a></td></tr>\n",
       "<tr><td>37</td><td>ExprRange</td><td>lambda_map:&nbsp;40<br>start_index:&nbsp;41<br>end_index:&nbsp;42<br></td><td><a class=\"ProveItLink\" href=\"../../../../../core_expr_types/__pv_it/common/1b82bfd6d142c0dcddaa042c515eb9e5527f4b990/expr.ipynb\"><img src=\"../../../../../core_expr_types/__pv_it/common/1b82bfd6d142c0dcddaa042c515eb9e5527f4b990/expr.png\" style=\"display:inline;vertical-align:middle;\" /></a></td></tr>\n",
       "<tr><td>38</td><td>Operation</td><td>operator:&nbsp;43<br>operands:&nbsp;44<br></td><td><a class=\"ProveItLink\" href=\"../../common/030575de5a669d21f675b85333e4be3ce8c6da2a0/expr.ipynb\"><img src=\"../../common/030575de5a669d21f675b85333e4be3ce8c6da2a0/expr.png\" style=\"display:inline;vertical-align:middle;\" /></a></td></tr>\n",
       "<tr><td>39</td><td>Literal</td><td></td><td><a class=\"ProveItLink\" href=\"../../../../number_sets/real_numbers/__pv_it/common/174917e13d50b91c585b7f765a2896383a3ae8010/expr.ipynb\"><img src=\"../../../../number_sets/real_numbers/__pv_it/common/174917e13d50b91c585b7f765a2896383a3ae8010/expr.png\" style=\"display:inline;vertical-align:middle;\" /></a></td></tr>\n",
       "<tr><td>40</td><td>Lambda</td><td>parameter:&nbsp;49<br>body:&nbsp;45<br></td><td><a class=\"ProveItLink\" href=\"../../../../../core_expr_types/__pv_it/common/1527ad383e12f9c6ed6b371c9a7dd1892d80da1b0/expr.ipynb\"><img src=\"../../../../../core_expr_types/__pv_it/common/1527ad383e12f9c6ed6b371c9a7dd1892d80da1b0/expr.png\" style=\"display:inline;vertical-align:middle;\" /></a></td></tr>\n",
       "<tr><td>41</td><td>Literal</td><td></td><td><a class=\"ProveItLink\" href=\"../../../../numerals/__pv_it/common/682157d4892d216d9e5626ed533aff9b56b9506e0/expr.ipynb\"><img src=\"../../../../numerals/__pv_it/common/682157d4892d216d9e5626ed533aff9b56b9506e0/expr.png\" style=\"display:inline;vertical-align:middle;\" /></a></td></tr>\n",
       "<tr><td>42</td><td>Variable</td><td></td><td><a class=\"ProveItLink\" href=\"../../../../../__pv_it/common/674a03b9c3ca221b3aabd5636837b31528ff33830/expr.ipynb\"><img src=\"../../../../../__pv_it/common/674a03b9c3ca221b3aabd5636837b31528ff33830/expr.png\" style=\"display:inline;vertical-align:middle;\" /></a></td></tr>\n",
       "<tr><td>43</td><td>Literal</td><td></td><td><a class=\"ProveItLink\" href=\"../../common/0ac37aca1e54c35c5cda09672df32d4f69f1f3020/expr.ipynb\"><img src=\"../../common/0ac37aca1e54c35c5cda09672df32d4f69f1f3020/expr.png\" style=\"display:inline;vertical-align:middle;\" /></a></td></tr>\n",
       "<tr><td>44</td><td>ExprTuple</td><td>45, 46</td><td><a class=\"ProveItLink\" href=\"../../common/fdde49ba2f86775a3e2723a81a0baa63c94368a80/expr.ipynb\"><img src=\"../../common/fdde49ba2f86775a3e2723a81a0baa63c94368a80/expr.png\" style=\"display:inline;vertical-align:middle;\" /></a></td></tr>\n",
       "<tr><td>45</td><td>IndexedVar</td><td>variable:&nbsp;47<br>index:&nbsp;49<br></td><td><a class=\"ProveItLink\" href=\"../../common/3a62c13e156d62d52fe585fa37cc2172fcf685260/expr.ipynb\"><img src=\"../../common/3a62c13e156d62d52fe585fa37cc2172fcf685260/expr.png\" style=\"display:inline;vertical-align:middle;\" /></a></td></tr>\n",
       "<tr><td>46</td><td>Variable</td><td></td><td><a class=\"ProveItLink\" href=\"../../../../../__pv_it/common/195236b98c6c564a75b5dbada74b173bc52d5c3e0/expr.ipynb\"><img src=\"../../../../../__pv_it/common/195236b98c6c564a75b5dbada74b173bc52d5c3e0/expr.png\" style=\"display:inline;vertical-align:middle;\" /></a></td></tr>\n",
       "<tr><td>47</td><td>Variable</td><td></td><td><a class=\"ProveItLink\" href=\"../../../../../__pv_it/common/c06c606ec12678c58933ac85412ecadc2ae28be60/expr.ipynb\"><img src=\"../../../../../__pv_it/common/c06c606ec12678c58933ac85412ecadc2ae28be60/expr.png\" style=\"display:inline;vertical-align:middle;\" /></a></td></tr>\n",
       "<tr><td>48</td><td>ExprTuple</td><td>49</td><td><a class=\"ProveItLink\" href=\"../../common/4b0dd6be36d76552eda6a95d5b4a27f5a5b62f900/expr.ipynb\"><img src=\"../../common/4b0dd6be36d76552eda6a95d5b4a27f5a5b62f900/expr.png\" style=\"display:inline;vertical-align:middle;\" /></a></td></tr>\n",
       "<tr><td>49</td><td>Variable</td><td></td><td><a class=\"ProveItLink\" href=\"../../common/006c465e50948aa2b52285e2de47974f741255cc0/expr.ipynb\"><img src=\"../../common/006c465e50948aa2b52285e2de47974f741255cc0/expr.png\" style=\"display:inline;vertical-align:middle;\" /></a></td></tr>\n",
       "</table>\n"
      ],
      "text/plain": [
       "0. forall_{m in NaturalPos} [forall_{(a_{1} in RealPos), (a_{2} in RealPos), ..., (a_{m} in RealPos), b in Complex} ((a_{1} *  a_{2} *  ... *  a_{m})^{b} = ((a_{1})^{b} *  (a_{2})^{b} *  ... *  (a_{m})^{b}))]\n",
       "   core type: Operation\n",
       "   operator: 7\n",
       "   operand: 2\n",
       "1. (m -> {forall_{(a_{1} in RealPos), (a_{2} in RealPos), ..., (a_{m} in RealPos), b in Complex} ((a_{1} *  a_{2} *  ... *  a_{m})^{b} = ((a_{1})^{b} *  (a_{2})^{b} *  ... *  (a_{m})^{b})) if m in NaturalPos.)\n",
       "   core type: ExprTuple\n",
       "   sub-expressions: 2\n",
       "2. m -> {forall_{(a_{1} in RealPos), (a_{2} in RealPos), ..., (a_{m} in RealPos), b in Complex} ((a_{1} *  a_{2} *  ... *  a_{m})^{b} = ((a_{1})^{b} *  (a_{2})^{b} *  ... *  (a_{m})^{b})) if m in NaturalPos.\n",
       "   core type: Lambda\n",
       "   parameter: 42\n",
       "   body: 4\n",
       "3. (m)\n",
       "   core type: ExprTuple\n",
       "   sub-expressions: 42\n",
       "4. {forall_{(a_{1} in RealPos), (a_{2} in RealPos), ..., (a_{m} in RealPos), b in Complex} ((a_{1} *  a_{2} *  ... *  a_{m})^{b} = ((a_{1})^{b} *  (a_{2})^{b} *  ... *  (a_{m})^{b})) if m in NaturalPos.\n",
       "   core type: Conditional\n",
       "   value: 5\n",
       "   condition: 6\n",
       "5. forall_{(a_{1} in RealPos), (a_{2} in RealPos), ..., (a_{m} in RealPos), b in Complex} ((a_{1} *  a_{2} *  ... *  a_{m})^{b} = ((a_{1})^{b} *  (a_{2})^{b} *  ... *  (a_{m})^{b}))\n",
       "   core type: Operation\n",
       "   operator: 7\n",
       "   operand: 10\n",
       "6. m in NaturalPos\n",
       "   core type: Operation\n",
       "   operator: 35\n",
       "   operands: 9\n",
       "7. forall\n",
       "   core type: Literal\n",
       "   sub-expressions: \n",
       "8. ((a_{1}, a_{2}, ..., a_{m}, b) -> {(a_{1} *  a_{2} *  ... *  a_{m})^{b} = ((a_{1})^{b} *  (a_{2})^{b} *  ... *  (a_{m})^{b}) if (a_{1} in RealPos) ,  (a_{2} in RealPos) ,  ... ,  (a_{m} in RealPos) ,  b in Complex.)\n",
       "   core type: ExprTuple\n",
       "   sub-expressions: 10\n",
       "9. (m, NaturalPos)\n",
       "   core type: ExprTuple\n",
       "   sub-expressions: 42, 11\n",
       "10. (a_{1}, a_{2}, ..., a_{m}, b) -> {(a_{1} *  a_{2} *  ... *  a_{m})^{b} = ((a_{1})^{b} *  (a_{2})^{b} *  ... *  (a_{m})^{b}) if (a_{1} in RealPos) ,  (a_{2} in RealPos) ,  ... ,  (a_{m} in RealPos) ,  b in Complex.\n",
       "    core type: Lambda\n",
       "    parameters: 12\\n    body: 13\n",
       "11. NaturalPos\n",
       "    core type: Literal\n",
       "    sub-expressions: \n",
       "12. (a_{1}, a_{2}, ..., a_{m}, b)\n",
       "    core type: ExprTuple\n",
       "    sub-expressions: 37, 46\n",
       "13. {(a_{1} *  a_{2} *  ... *  a_{m})^{b} = ((a_{1})^{b} *  (a_{2})^{b} *  ... *  (a_{m})^{b}) if (a_{1} in RealPos) ,  (a_{2} in RealPos) ,  ... ,  (a_{m} in RealPos) ,  b in Complex.\n",
       "    core type: Conditional\n",
       "    value: 14\n",
       "    condition: 15\n",
       "14. (a_{1} *  a_{2} *  ... *  a_{m})^{b} = ((a_{1})^{b} *  (a_{2})^{b} *  ... *  (a_{m})^{b})\n",
       "    core type: Operation\n",
       "    operator: 16\n",
       "    operands: 17\n",
       "15. (a_{1} in RealPos) and  (a_{2} in RealPos) and  ... and  (a_{m} in RealPos) and (b in Complex)\n",
       "    core type: Operation\n",
       "    operator: 18\n",
       "    operands: 19\n",
       "16. =\n",
       "    core type: Literal\n",
       "    sub-expressions: \n",
       "17. ((a_{1} *  a_{2} *  ... *  a_{m})^{b}, (a_{1})^{b} *  (a_{2})^{b} *  ... *  (a_{m})^{b})\n",
       "    core type: ExprTuple\n",
       "    sub-expressions: 20, 21\n",
       "18. and\n",
       "    core type: Literal\n",
       "    sub-expressions: \n",
       "19. ((a_{1} in RealPos), (a_{2} in RealPos), ..., (a_{m} in RealPos), b in Complex)\n",
       "    core type: ExprTuple\n",
       "    sub-expressions: 22, 23\n",
       "20. (a_{1} *  a_{2} *  ... *  a_{m})^{b}\n",
       "    core type: Operation\n",
       "    operator: 43\n",
       "    operands: 24\n",
       "21. (a_{1})^{b} *  (a_{2})^{b} *  ... *  (a_{m})^{b}\n",
       "    core type: Operation\n",
       "    operator: 32\n",
       "    operands: 25\n",
       "22. (a_{1} in RealPos), (a_{2} in RealPos), ..., (a_{m} in RealPos)\n",
       "    core type: ExprRange\n",
       "    lambda_map: 26\n",
       "    start_index: 41\n",
       "    end_index: 42\n",
       "23. b in Complex\n",
       "    core type: Operation\n",
       "    operator: 35\n",
       "    operands: 27\n",
       "24. (a_{1} *  a_{2} *  ... *  a_{m}, b)\n",
       "    core type: ExprTuple\n",
       "    sub-expressions: 28, 46\n",
       "25. ((a_{1})^{b}, (a_{2})^{b}, ..., (a_{m})^{b})\n",
       "    core type: ExprTuple\n",
       "    sub-expressions: 29\n",
       "26. _a -> (a_{_a} in RealPos)\n",
       "    core type: Lambda\n",
       "    parameter: 49\n",
       "    body: 30\n",
       "27. (b, Complex)\n",
       "    core type: ExprTuple\n",
       "    sub-expressions: 46, 31\n",
       "28. a_{1} *  a_{2} *  ... *  a_{m}\n",
       "    core type: Operation\n",
       "    operator: 32\n",
       "    operands: 33\n",
       "29. (a_{1})^{b}, (a_{2})^{b}, ..., (a_{m})^{b}\n",
       "    core type: ExprRange\n",
       "    lambda_map: 34\n",
       "    start_index: 41\n",
       "    end_index: 42\n",
       "30. a_{_a} in RealPos\n",
       "    core type: Operation\n",
       "    operator: 35\n",
       "    operands: 36\n",
       "31. Complex\n",
       "    core type: Literal\n",
       "    sub-expressions: \n",
       "32. *\n",
       "    core type: Literal\n",
       "    sub-expressions: \n",
       "33. (a_{1}, a_{2}, ..., a_{m})\n",
       "    core type: ExprTuple\n",
       "    sub-expressions: 37\n",
       "34. _a -> (a_{_a})^{b}\n",
       "    core type: Lambda\n",
       "    parameter: 49\n",
       "    body: 38\n",
       "35. in\n",
       "    core type: Literal\n",
       "    sub-expressions: \n",
       "36. (a_{_a}, RealPos)\n",
       "    core type: ExprTuple\n",
       "    sub-expressions: 45, 39\n",
       "37. a_{1}, a_{2}, ..., a_{m}\n",
       "    core type: ExprRange\n",
       "    lambda_map: 40\n",
       "    start_index: 41\n",
       "    end_index: 42\n",
       "38. (a_{_a})^{b}\n",
       "    core type: Operation\n",
       "    operator: 43\n",
       "    operands: 44\n",
       "39. RealPos\n",
       "    core type: Literal\n",
       "    sub-expressions: \n",
       "40. _a -> a_{_a}\n",
       "    core type: Lambda\n",
       "    parameter: 49\n",
       "    body: 45\n",
       "41. 1\n",
       "    core type: Literal\n",
       "    sub-expressions: \n",
       "42. m\n",
       "    core type: Variable\n",
       "    sub-expressions: \n",
       "43. Exp\n",
       "    core type: Literal\n",
       "    sub-expressions: \n",
       "44. (a_{_a}, b)\n",
       "    core type: ExprTuple\n",
       "    sub-expressions: 45, 46\n",
       "45. a_{_a}\n",
       "    core type: IndexedVar\n",
       "variable: 47\n",
       "index: 49\n",
       "46. b\n",
       "    core type: Variable\n",
       "    sub-expressions: \n",
       "47. a\n",
       "    core type: Variable\n",
       "    sub-expressions: \n",
       "48. (_a)\n",
       "    core type: ExprTuple\n",
       "    sub-expressions: 49\n",
       "49. _a\n",
       "    core type: Variable\n",
       "    sub-expressions: "
      ]
     },
     "metadata": {},
     "output_type": "display_data"
    }
   ],
   "source": [
    "# display the expression information\n",
    "stored_expr.expr_info()"
   ]
  },
  {
   "cell_type": "code",
   "execution_count": null,
   "metadata": {},
   "outputs": [],
   "source": []
  }
 ],
 "metadata": {
  "kernelspec": {
   "display_name": "Python 3",
   "language": "python",
   "name": "python3"
  }
 },
 "nbformat": 4,
 "nbformat_minor": 0
}