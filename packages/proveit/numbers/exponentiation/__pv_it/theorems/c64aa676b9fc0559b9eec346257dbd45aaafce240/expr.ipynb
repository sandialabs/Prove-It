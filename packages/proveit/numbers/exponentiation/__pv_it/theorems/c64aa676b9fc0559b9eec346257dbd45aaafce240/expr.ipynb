{
 "cells": [
  {
   "cell_type": "markdown",
   "metadata": {},
   "source": [
    "Expression of type <a class=\"ProveItLink\" href=\"../../../../../../../doc/html/api/proveit.Lambda.html\">Lambda</a>\n",
    "=======================\n",
    "# from the theory of <a class=\"ProveItLink\" href=\"../../../_theory_nbs_/theory.ipynb\">proveit.numbers.exponentiation</a>"
   ]
  },
  {
   "cell_type": "code",
   "execution_count": 1,
   "metadata": {},
   "outputs": [],
   "source": [
    "import proveit\n",
    "# Automation is not needed when building an expression:\n",
    "proveit.defaults.automation = False # This will speed things up.\n",
    "proveit.defaults.inline_pngs = False # Makes files smaller.\n",
    "%load_expr # Load the stored expression as 'stored_expr'\n",
    "# import Expression classes needed to build the expression\n",
    "from proveit import Conditional, Lambda, a, b, c, d\n",
    "from proveit.logic import And, Equals, InSet, NotEquals\n",
    "from proveit.numbers import Add, Exp, Integer, Mult, Real, zero"
   ]
  },
  {
   "cell_type": "code",
   "execution_count": 2,
   "metadata": {},
   "outputs": [
    {
     "data": {
      "text/html": [
       "<strong id=\"expr\">expr:</strong> <a class=\"ProveItLink\" href=\"expr.ipynb\"><img src=\"expr.png\" style=\"display:inline;vertical-align:middle;\" /></a><br>"
      ],
      "text/plain": [
       "<IPython.core.display.HTML object>"
      ]
     },
     "metadata": {},
     "output_type": "display_data"
    }
   ],
   "source": [
    "# build up the expression from sub-expressions\n",
    "expr = Lambda([a, b, c, d], Conditional(Equals(Exp(a, b), Mult(Exp(a, c), Exp(a, d))), And(InSet(a, Real), InSet(b, Integer), InSet(c, Integer), InSet(d, Integer), NotEquals(a, zero), Equals(b, Add(c, d)))))"
   ]
  },
  {
   "cell_type": "code",
   "execution_count": 3,
   "metadata": {},
   "outputs": [
    {
     "name": "stdout",
     "output_type": "stream",
     "text": [
      "Passed sanity check: expr matches stored_expr\n"
     ]
    }
   ],
   "source": [
    "# check that the built expression is the same as the stored expression\n",
    "assert expr == stored_expr\n",
    "assert expr._style_id == stored_expr._style_id\n",
    "print(\"Passed sanity check: expr matches stored_expr\")"
   ]
  },
  {
   "cell_type": "code",
   "execution_count": 4,
   "metadata": {},
   "outputs": [
    {
     "name": "stdout",
     "output_type": "stream",
     "text": [
      "\\left(a, b, c, d\\right) \\mapsto \\left\\{a^{b} = \\left(a^{c} \\cdot a^{d}\\right) \\textrm{ if } a \\in \\mathbb{R} ,  b \\in \\mathbb{Z} ,  c \\in \\mathbb{Z} ,  d \\in \\mathbb{Z} ,  a \\neq 0 ,  b = \\left(c + d\\right)\\right..\n"
     ]
    }
   ],
   "source": [
    "# Show the LaTeX representation of the expression for convenience if you need it.\n",
    "print(stored_expr.latex())"
   ]
  },
  {
   "cell_type": "code",
   "execution_count": 5,
   "metadata": {},
   "outputs": [
    {
     "data": {
      "text/html": [
       "no style options"
      ],
      "text/plain": [
       "no style options"
      ]
     },
     "metadata": {},
     "output_type": "display_data"
    }
   ],
   "source": [
    "stored_expr.style_options()"
   ]
  },
  {
   "cell_type": "code",
   "execution_count": 6,
   "metadata": {},
   "outputs": [
    {
     "data": {
      "text/html": [
       "<table><tr><th>&nbsp;</th><th>core type</th><th>sub-expressions</th><th>expression</th></tr>\n",
       "<tr><td>0</td><td>Lambda</td><td>parameters:&nbsp;1<br>body:&nbsp;2<br></td><td><a class=\"ProveItLink\" href=\"expr.ipynb\"><img src=\"expr.png\" style=\"display:inline;vertical-align:middle;\" /></a></td></tr>\n",
       "<tr><td>1</td><td>ExprTuple</td><td>40, 33, 41, 42</td><td><a class=\"ProveItLink\" href=\"../b9025baedda49f8eb0a4eb7b23501a26c1fde0970/expr.ipynb\"><img src=\"../b9025baedda49f8eb0a4eb7b23501a26c1fde0970/expr.png\" style=\"display:inline;vertical-align:middle;\" /></a></td></tr>\n",
       "<tr><td>2</td><td>Conditional</td><td>value:&nbsp;3<br>condition:&nbsp;4<br></td><td><a class=\"ProveItLink\" href=\"../eec8711607968b0a0adae8a6167a73d697f9d88d0/expr.ipynb\"><img src=\"../eec8711607968b0a0adae8a6167a73d697f9d88d0/expr.png\" style=\"display:inline;vertical-align:middle;\" /></a></td></tr>\n",
       "<tr><td>3</td><td>Operation</td><td>operator:&nbsp;26<br>operands:&nbsp;5<br></td><td><a class=\"ProveItLink\" href=\"../987198bc3f964dc98c1f766f56ebb12e91b11a400/expr.ipynb\"><img src=\"../987198bc3f964dc98c1f766f56ebb12e91b11a400/expr.png\" style=\"display:inline;vertical-align:middle;\" /></a></td></tr>\n",
       "<tr><td>4</td><td>Operation</td><td>operator:&nbsp;6<br>operands:&nbsp;7<br></td><td><a class=\"ProveItLink\" href=\"../61c981a0d5edb50fea7f5920f1cc25bd25200d2b0/expr.ipynb\"><img src=\"../61c981a0d5edb50fea7f5920f1cc25bd25200d2b0/expr.png\" style=\"display:inline;vertical-align:middle;\" /></a></td></tr>\n",
       "<tr><td>5</td><td>ExprTuple</td><td>8, 9</td><td><a class=\"ProveItLink\" href=\"../55e008dc71f8cc2ebc5bdb3aaa7c45ba6fbda8300/expr.ipynb\"><img src=\"../55e008dc71f8cc2ebc5bdb3aaa7c45ba6fbda8300/expr.png\" style=\"display:inline;vertical-align:middle;\" /></a></td></tr>\n",
       "<tr><td>6</td><td>Literal</td><td></td><td><a class=\"ProveItLink\" href=\"../../../../../logic/booleans/conjunction/__pv_it/common/42118ff318bd65d98b1393f64ce7c2269feef76e0/expr.ipynb\"><img src=\"../../../../../logic/booleans/conjunction/__pv_it/common/42118ff318bd65d98b1393f64ce7c2269feef76e0/expr.png\" style=\"display:inline;vertical-align:middle;\" /></a></td></tr>\n",
       "<tr><td>7</td><td>ExprTuple</td><td>10, 11, 12, 13, 14, 15</td><td><a class=\"ProveItLink\" href=\"../a9f1a8e1e89bf52ecda0e96885a66026de81211c0/expr.ipynb\"><img src=\"../a9f1a8e1e89bf52ecda0e96885a66026de81211c0/expr.png\" style=\"display:inline;vertical-align:middle;\" /></a></td></tr>\n",
       "<tr><td>8</td><td>Operation</td><td>operator:&nbsp;36<br>operands:&nbsp;16<br></td><td><a class=\"ProveItLink\" href=\"../30a87e0fd349eb957cda18d62242a4c55ae3e4ad0/expr.ipynb\"><img src=\"../30a87e0fd349eb957cda18d62242a4c55ae3e4ad0/expr.png\" style=\"display:inline;vertical-align:middle;\" /></a></td></tr>\n",
       "<tr><td>9</td><td>Operation</td><td>operator:&nbsp;17<br>operands:&nbsp;18<br></td><td><a class=\"ProveItLink\" href=\"../2b18160e7304626f04ad38469b5ec6adefeaffa60/expr.ipynb\"><img src=\"../2b18160e7304626f04ad38469b5ec6adefeaffa60/expr.png\" style=\"display:inline;vertical-align:middle;\" /></a></td></tr>\n",
       "<tr><td>10</td><td>Operation</td><td>operator:&nbsp;22<br>operands:&nbsp;19<br></td><td><a class=\"ProveItLink\" href=\"../4aa8d696b1f407d6126de9f51a052e8d90e0848c0/expr.ipynb\"><img src=\"../4aa8d696b1f407d6126de9f51a052e8d90e0848c0/expr.png\" style=\"display:inline;vertical-align:middle;\" /></a></td></tr>\n",
       "<tr><td>11</td><td>Operation</td><td>operator:&nbsp;22<br>operands:&nbsp;20<br></td><td><a class=\"ProveItLink\" href=\"../035e0ae7bd8c0fe127ee5d2062443d6c874adcdd0/expr.ipynb\"><img src=\"../035e0ae7bd8c0fe127ee5d2062443d6c874adcdd0/expr.png\" style=\"display:inline;vertical-align:middle;\" /></a></td></tr>\n",
       "<tr><td>12</td><td>Operation</td><td>operator:&nbsp;22<br>operands:&nbsp;21<br></td><td><a class=\"ProveItLink\" href=\"../ab9efd361cdf04a40e51b5b0d3fd587cd7505e5a0/expr.ipynb\"><img src=\"../ab9efd361cdf04a40e51b5b0d3fd587cd7505e5a0/expr.png\" style=\"display:inline;vertical-align:middle;\" /></a></td></tr>\n",
       "<tr><td>13</td><td>Operation</td><td>operator:&nbsp;22<br>operands:&nbsp;23<br></td><td><a class=\"ProveItLink\" href=\"../281ba5ce706314e3783f416248e235040ec067e70/expr.ipynb\"><img src=\"../281ba5ce706314e3783f416248e235040ec067e70/expr.png\" style=\"display:inline;vertical-align:middle;\" /></a></td></tr>\n",
       "<tr><td>14</td><td>Operation</td><td>operator:&nbsp;24<br>operands:&nbsp;25<br></td><td><a class=\"ProveItLink\" href=\"../1759e791f6052d2463eefaaf9e2fa309cc3375160/expr.ipynb\"><img src=\"../1759e791f6052d2463eefaaf9e2fa309cc3375160/expr.png\" style=\"display:inline;vertical-align:middle;\" /></a></td></tr>\n",
       "<tr><td>15</td><td>Operation</td><td>operator:&nbsp;26<br>operands:&nbsp;27<br></td><td><a class=\"ProveItLink\" href=\"../c72eb6fdaebb3a81188009b26e4f934500df11270/expr.ipynb\"><img src=\"../c72eb6fdaebb3a81188009b26e4f934500df11270/expr.png\" style=\"display:inline;vertical-align:middle;\" /></a></td></tr>\n",
       "<tr><td>16</td><td>ExprTuple</td><td>40, 33</td><td><a class=\"ProveItLink\" href=\"../3dcd5ceea6334d8cb48fe14fdae236293aa9a6050/expr.ipynb\"><img src=\"../3dcd5ceea6334d8cb48fe14fdae236293aa9a6050/expr.png\" style=\"display:inline;vertical-align:middle;\" /></a></td></tr>\n",
       "<tr><td>17</td><td>Literal</td><td></td><td><a class=\"ProveItLink\" href=\"../../../../multiplication/__pv_it/common/ed719cef37831779c16481533a4d380a2f95ab270/expr.ipynb\"><img src=\"../../../../multiplication/__pv_it/common/ed719cef37831779c16481533a4d380a2f95ab270/expr.png\" style=\"display:inline;vertical-align:middle;\" /></a></td></tr>\n",
       "<tr><td>18</td><td>ExprTuple</td><td>28, 29</td><td><a class=\"ProveItLink\" href=\"../a8e5dd1a5b8bbd0c50dc8cefe37e760b23817c3f0/expr.ipynb\"><img src=\"../a8e5dd1a5b8bbd0c50dc8cefe37e760b23817c3f0/expr.png\" style=\"display:inline;vertical-align:middle;\" /></a></td></tr>\n",
       "<tr><td>19</td><td>ExprTuple</td><td>40, 30</td><td><a class=\"ProveItLink\" href=\"../4b81e64da1c6f03396560fe07bd4a5be1d27e6ab0/expr.ipynb\"><img src=\"../4b81e64da1c6f03396560fe07bd4a5be1d27e6ab0/expr.png\" style=\"display:inline;vertical-align:middle;\" /></a></td></tr>\n",
       "<tr><td>20</td><td>ExprTuple</td><td>33, 31</td><td><a class=\"ProveItLink\" href=\"../7a5273c178c04cb3ce78308074ba517705b130f80/expr.ipynb\"><img src=\"../7a5273c178c04cb3ce78308074ba517705b130f80/expr.png\" style=\"display:inline;vertical-align:middle;\" /></a></td></tr>\n",
       "<tr><td>21</td><td>ExprTuple</td><td>41, 31</td><td><a class=\"ProveItLink\" href=\"../91f20416e9a6ab1a27769f4eed666e1a275fd1b40/expr.ipynb\"><img src=\"../91f20416e9a6ab1a27769f4eed666e1a275fd1b40/expr.png\" style=\"display:inline;vertical-align:middle;\" /></a></td></tr>\n",
       "<tr><td>22</td><td>Literal</td><td></td><td><a class=\"ProveItLink\" href=\"../../../../../logic/sets/membership/__pv_it/common/477487d8796864d23d5810f83761435f25167f690/expr.ipynb\"><img src=\"../../../../../logic/sets/membership/__pv_it/common/477487d8796864d23d5810f83761435f25167f690/expr.png\" style=\"display:inline;vertical-align:middle;\" /></a></td></tr>\n",
       "<tr><td>23</td><td>ExprTuple</td><td>42, 31</td><td><a class=\"ProveItLink\" href=\"../73f6f5c03bd8dd7b40182bd63fabc1ad99ca30a90/expr.ipynb\"><img src=\"../73f6f5c03bd8dd7b40182bd63fabc1ad99ca30a90/expr.png\" style=\"display:inline;vertical-align:middle;\" /></a></td></tr>\n",
       "<tr><td>24</td><td>Literal</td><td></td><td><a class=\"ProveItLink\" href=\"../../../../../logic/equality/__pv_it/common/d96270bc9bb1bad54f773b1c04bfb343a739642c0/expr.ipynb\"><img src=\"../../../../../logic/equality/__pv_it/common/d96270bc9bb1bad54f773b1c04bfb343a739642c0/expr.png\" style=\"display:inline;vertical-align:middle;\" /></a></td></tr>\n",
       "<tr><td>25</td><td>ExprTuple</td><td>40, 32</td><td><a class=\"ProveItLink\" href=\"../745cdb9639e5d503f09801a74d735cc5ccdc0d2a0/expr.ipynb\"><img src=\"../745cdb9639e5d503f09801a74d735cc5ccdc0d2a0/expr.png\" style=\"display:inline;vertical-align:middle;\" /></a></td></tr>\n",
       "<tr><td>26</td><td>Literal</td><td></td><td><a class=\"ProveItLink\" href=\"../../../../../logic/equality/__pv_it/common/fb96dc12b2aa8801dda64d0132b396c63d1502bb0/expr.ipynb\"><img src=\"../../../../../logic/equality/__pv_it/common/fb96dc12b2aa8801dda64d0132b396c63d1502bb0/expr.png\" style=\"display:inline;vertical-align:middle;\" /></a></td></tr>\n",
       "<tr><td>27</td><td>ExprTuple</td><td>33, 34</td><td><a class=\"ProveItLink\" href=\"../9052d06dc29323ef958edddb7612f2ef5201f18e0/expr.ipynb\"><img src=\"../9052d06dc29323ef958edddb7612f2ef5201f18e0/expr.png\" style=\"display:inline;vertical-align:middle;\" /></a></td></tr>\n",
       "<tr><td>28</td><td>Operation</td><td>operator:&nbsp;36<br>operands:&nbsp;35<br></td><td><a class=\"ProveItLink\" href=\"../bad266592f32f1693dbbeadafcfa6739e5b9899a0/expr.ipynb\"><img src=\"../bad266592f32f1693dbbeadafcfa6739e5b9899a0/expr.png\" style=\"display:inline;vertical-align:middle;\" /></a></td></tr>\n",
       "<tr><td>29</td><td>Operation</td><td>operator:&nbsp;36<br>operands:&nbsp;37<br></td><td><a class=\"ProveItLink\" href=\"../d2ef574cc647e450944d943dd5db20beb16eb1d40/expr.ipynb\"><img src=\"../d2ef574cc647e450944d943dd5db20beb16eb1d40/expr.png\" style=\"display:inline;vertical-align:middle;\" /></a></td></tr>\n",
       "<tr><td>30</td><td>Literal</td><td></td><td><a class=\"ProveItLink\" href=\"../../../../number_sets/real_numbers/__pv_it/common/93cac87a1a47e613f7a83b23ef7891599a1a4cca0/expr.ipynb\"><img src=\"../../../../number_sets/real_numbers/__pv_it/common/93cac87a1a47e613f7a83b23ef7891599a1a4cca0/expr.png\" style=\"display:inline;vertical-align:middle;\" /></a></td></tr>\n",
       "<tr><td>31</td><td>Literal</td><td></td><td><a class=\"ProveItLink\" href=\"../../../../number_sets/integers/__pv_it/common/e6b4e90f9467053e055a4fd2f735c0bb79cb79300/expr.ipynb\"><img src=\"../../../../number_sets/integers/__pv_it/common/e6b4e90f9467053e055a4fd2f735c0bb79cb79300/expr.png\" style=\"display:inline;vertical-align:middle;\" /></a></td></tr>\n",
       "<tr><td>32</td><td>Literal</td><td></td><td><a class=\"ProveItLink\" href=\"../../../../numerals/__pv_it/common/dd4e19e8b134dfb293470ea55fe3589b0ab9f8040/expr.ipynb\"><img src=\"../../../../numerals/__pv_it/common/dd4e19e8b134dfb293470ea55fe3589b0ab9f8040/expr.png\" style=\"display:inline;vertical-align:middle;\" /></a></td></tr>\n",
       "<tr><td>33</td><td>Variable</td><td></td><td><a class=\"ProveItLink\" href=\"../../../../../__pv_it/common/195236b98c6c564a75b5dbada74b173bc52d5c3e0/expr.ipynb\"><img src=\"../../../../../__pv_it/common/195236b98c6c564a75b5dbada74b173bc52d5c3e0/expr.png\" style=\"display:inline;vertical-align:middle;\" /></a></td></tr>\n",
       "<tr><td>34</td><td>Operation</td><td>operator:&nbsp;38<br>operands:&nbsp;39<br></td><td><a class=\"ProveItLink\" href=\"../65aa22d62d64a208662682ae9d721645f757c94b0/expr.ipynb\"><img src=\"../65aa22d62d64a208662682ae9d721645f757c94b0/expr.png\" style=\"display:inline;vertical-align:middle;\" /></a></td></tr>\n",
       "<tr><td>35</td><td>ExprTuple</td><td>40, 41</td><td><a class=\"ProveItLink\" href=\"../2dab7ef3d42b086d5539e852b622c82cd6dc0dac0/expr.ipynb\"><img src=\"../2dab7ef3d42b086d5539e852b622c82cd6dc0dac0/expr.png\" style=\"display:inline;vertical-align:middle;\" /></a></td></tr>\n",
       "<tr><td>36</td><td>Literal</td><td></td><td><a class=\"ProveItLink\" href=\"../../common/0ac37aca1e54c35c5cda09672df32d4f69f1f3020/expr.ipynb\"><img src=\"../../common/0ac37aca1e54c35c5cda09672df32d4f69f1f3020/expr.png\" style=\"display:inline;vertical-align:middle;\" /></a></td></tr>\n",
       "<tr><td>37</td><td>ExprTuple</td><td>40, 42</td><td><a class=\"ProveItLink\" href=\"../e641a8aadb5365964c2a22d5968024292e283c820/expr.ipynb\"><img src=\"../e641a8aadb5365964c2a22d5968024292e283c820/expr.png\" style=\"display:inline;vertical-align:middle;\" /></a></td></tr>\n",
       "<tr><td>38</td><td>Literal</td><td></td><td><a class=\"ProveItLink\" href=\"../../../../addition/__pv_it/common/4b7effaab3619a1c2c38fe2dee8601df8ec714590/expr.ipynb\"><img src=\"../../../../addition/__pv_it/common/4b7effaab3619a1c2c38fe2dee8601df8ec714590/expr.png\" style=\"display:inline;vertical-align:middle;\" /></a></td></tr>\n",
       "<tr><td>39</td><td>ExprTuple</td><td>41, 42</td><td><a class=\"ProveItLink\" href=\"../f336fa46d73583f2c4c9aeb5e26e359cc42790830/expr.ipynb\"><img src=\"../f336fa46d73583f2c4c9aeb5e26e359cc42790830/expr.png\" style=\"display:inline;vertical-align:middle;\" /></a></td></tr>\n",
       "<tr><td>40</td><td>Variable</td><td></td><td><a class=\"ProveItLink\" href=\"../../../../../__pv_it/common/c06c606ec12678c58933ac85412ecadc2ae28be60/expr.ipynb\"><img src=\"../../../../../__pv_it/common/c06c606ec12678c58933ac85412ecadc2ae28be60/expr.png\" style=\"display:inline;vertical-align:middle;\" /></a></td></tr>\n",
       "<tr><td>41</td><td>Variable</td><td></td><td><a class=\"ProveItLink\" href=\"../../../../../__pv_it/common/ceef4280a2f1cc604b455b54e735507244cc62cd0/expr.ipynb\"><img src=\"../../../../../__pv_it/common/ceef4280a2f1cc604b455b54e735507244cc62cd0/expr.png\" style=\"display:inline;vertical-align:middle;\" /></a></td></tr>\n",
       "<tr><td>42</td><td>Variable</td><td></td><td><a class=\"ProveItLink\" href=\"../../../../../__pv_it/common/4f5c524ffda87296de1c79b96880123fe2efedd50/expr.ipynb\"><img src=\"../../../../../__pv_it/common/4f5c524ffda87296de1c79b96880123fe2efedd50/expr.png\" style=\"display:inline;vertical-align:middle;\" /></a></td></tr>\n",
       "</table>\n"
      ],
      "text/plain": [
       "0. (a, b, c, d) -> {a^{b} = (a^{c} * a^{d}) if a in Real ,  b in Integer ,  c in Integer ,  d in Integer ,  a != 0 ,  b = (c + d).\n",
       "   core type: Lambda\n",
       "   parameters: 1\\n   body: 2\n",
       "1. (a, b, c, d)\n",
       "   core type: ExprTuple\n",
       "   sub-expressions: 40, 33, 41, 42\n",
       "2. {a^{b} = (a^{c} * a^{d}) if a in Real ,  b in Integer ,  c in Integer ,  d in Integer ,  a != 0 ,  b = (c + d).\n",
       "   core type: Conditional\n",
       "   value: 3\n",
       "   condition: 4\n",
       "3. a^{b} = (a^{c} * a^{d})\n",
       "   core type: Operation\n",
       "   operator: 26\n",
       "   operands: 5\n",
       "4. (a in Real) and (b in Integer) and (c in Integer) and (d in Integer) and (a != 0) and (b = (c + d))\n",
       "   core type: Operation\n",
       "   operator: 6\n",
       "   operands: 7\n",
       "5. (a^{b}, a^{c} * a^{d})\n",
       "   core type: ExprTuple\n",
       "   sub-expressions: 8, 9\n",
       "6. and\n",
       "   core type: Literal\n",
       "   sub-expressions: \n",
       "7. (a in Real, b in Integer, c in Integer, d in Integer, a != 0, b = (c + d))\n",
       "   core type: ExprTuple\n",
       "   sub-expressions: 10, 11, 12, 13, 14, 15\n",
       "8. a^{b}\n",
       "   core type: Operation\n",
       "   operator: 36\n",
       "   operands: 16\n",
       "9. a^{c} * a^{d}\n",
       "   core type: Operation\n",
       "   operator: 17\n",
       "   operands: 18\n",
       "10. a in Real\n",
       "    core type: Operation\n",
       "    operator: 22\n",
       "    operands: 19\n",
       "11. b in Integer\n",
       "    core type: Operation\n",
       "    operator: 22\n",
       "    operands: 20\n",
       "12. c in Integer\n",
       "    core type: Operation\n",
       "    operator: 22\n",
       "    operands: 21\n",
       "13. d in Integer\n",
       "    core type: Operation\n",
       "    operator: 22\n",
       "    operands: 23\n",
       "14. a != 0\n",
       "    core type: Operation\n",
       "    operator: 24\n",
       "    operands: 25\n",
       "15. b = (c + d)\n",
       "    core type: Operation\n",
       "    operator: 26\n",
       "    operands: 27\n",
       "16. (a, b)\n",
       "    core type: ExprTuple\n",
       "    sub-expressions: 40, 33\n",
       "17. *\n",
       "    core type: Literal\n",
       "    sub-expressions: \n",
       "18. (a^{c}, a^{d})\n",
       "    core type: ExprTuple\n",
       "    sub-expressions: 28, 29\n",
       "19. (a, Real)\n",
       "    core type: ExprTuple\n",
       "    sub-expressions: 40, 30\n",
       "20. (b, Integer)\n",
       "    core type: ExprTuple\n",
       "    sub-expressions: 33, 31\n",
       "21. (c, Integer)\n",
       "    core type: ExprTuple\n",
       "    sub-expressions: 41, 31\n",
       "22. in\n",
       "    core type: Literal\n",
       "    sub-expressions: \n",
       "23. (d, Integer)\n",
       "    core type: ExprTuple\n",
       "    sub-expressions: 42, 31\n",
       "24. !=\n",
       "    core type: Literal\n",
       "    sub-expressions: \n",
       "25. (a, 0)\n",
       "    core type: ExprTuple\n",
       "    sub-expressions: 40, 32\n",
       "26. =\n",
       "    core type: Literal\n",
       "    sub-expressions: \n",
       "27. (b, c + d)\n",
       "    core type: ExprTuple\n",
       "    sub-expressions: 33, 34\n",
       "28. a^{c}\n",
       "    core type: Operation\n",
       "    operator: 36\n",
       "    operands: 35\n",
       "29. a^{d}\n",
       "    core type: Operation\n",
       "    operator: 36\n",
       "    operands: 37\n",
       "30. Real\n",
       "    core type: Literal\n",
       "    sub-expressions: \n",
       "31. Integer\n",
       "    core type: Literal\n",
       "    sub-expressions: \n",
       "32. 0\n",
       "    core type: Literal\n",
       "    sub-expressions: \n",
       "33. b\n",
       "    core type: Variable\n",
       "    sub-expressions: \n",
       "34. c + d\n",
       "    core type: Operation\n",
       "    operator: 38\n",
       "    operands: 39\n",
       "35. (a, c)\n",
       "    core type: ExprTuple\n",
       "    sub-expressions: 40, 41\n",
       "36. Exp\n",
       "    core type: Literal\n",
       "    sub-expressions: \n",
       "37. (a, d)\n",
       "    core type: ExprTuple\n",
       "    sub-expressions: 40, 42\n",
       "38. +\n",
       "    core type: Literal\n",
       "    sub-expressions: \n",
       "39. (c, d)\n",
       "    core type: ExprTuple\n",
       "    sub-expressions: 41, 42\n",
       "40. a\n",
       "    core type: Variable\n",
       "    sub-expressions: \n",
       "41. c\n",
       "    core type: Variable\n",
       "    sub-expressions: \n",
       "42. d\n",
       "    core type: Variable\n",
       "    sub-expressions: "
      ]
     },
     "metadata": {},
     "output_type": "display_data"
    }
   ],
   "source": [
    "# display the expression information\n",
    "stored_expr.expr_info()"
   ]
  },
  {
   "cell_type": "code",
   "execution_count": null,
   "metadata": {},
   "outputs": [],
   "source": []
  }
 ],
 "metadata": {
  "kernelspec": {
   "display_name": "Python 3",
   "language": "python",
   "name": "python3"
  }
 },
 "nbformat": 4,
 "nbformat_minor": 0
}