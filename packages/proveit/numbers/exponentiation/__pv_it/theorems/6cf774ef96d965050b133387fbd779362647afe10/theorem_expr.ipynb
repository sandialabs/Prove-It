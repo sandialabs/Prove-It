{
 "cells": [
  {
   "cell_type": "markdown",
   "metadata": {},
   "source": [
    "Theorem <a class=\"ProveItLink\" href=\"../../../_theorems_.ipynb#posnat_power_of_product\">posnat_power_of_product</a> of type <a class=\"ProveItLink\" href=\"../../../../../../../doc/html/api/proveit.logic.Forall.html\">Forall</a>\n",
    "=======================\n",
    "# from the theory of <a class=\"ProveItLink\" href=\"../../../_theory_nbs_/theory.ipynb\">proveit.numbers.exponentiation</a>\n",
    "*** see <a class=\"ProveItLink\" href=\"dependencies.ipynb\">dependencies</a> ***"
   ]
  },
  {
   "cell_type": "code",
   "execution_count": 1,
   "metadata": {},
   "outputs": [],
   "source": [
    "import proveit\n",
    "# Automation is not needed when only building an expression:\n",
    "proveit.defaults.automation = False # This will speed things up.\n",
    "proveit.defaults.inline_pngs = False # Makes files smaller.\n",
    "%load_theorem_expr # Load the stored theorem expression as 'stored_expr'\n",
    "# import the special expression\n",
    "from proveit.numbers.exponentiation import posnat_power_of_product"
   ]
  },
  {
   "cell_type": "code",
   "execution_count": 2,
   "metadata": {},
   "outputs": [
    {
     "name": "stdout",
     "output_type": "stream",
     "text": [
      "Passed sanity check: posnat_power_of_product matches stored_expr\n"
     ]
    }
   ],
   "source": [
    "# check that the built expression is the same as the stored expression\n",
    "assert posnat_power_of_product.expr == stored_expr\n",
    "assert posnat_power_of_product.expr._style_id == stored_expr._style_id\n",
    "print(\"Passed sanity check: posnat_power_of_product matches stored_expr\")"
   ]
  },
  {
   "cell_type": "code",
   "execution_count": 3,
   "metadata": {},
   "outputs": [
    {
     "name": "stdout",
     "output_type": "stream",
     "text": [
      "\\forall_{a \\in \\mathbb{C}, b \\in \\mathbb{C}, n \\in \\mathbb{N}^+}~\\left(\\left(a \\cdot b\\right)^{n} = \\left(a^{n} \\cdot b^{n}\\right)\\right)\n"
     ]
    }
   ],
   "source": [
    "# Show the LaTeX representation of the expression for convenience if you need it.\n",
    "print(stored_expr.latex())"
   ]
  },
  {
   "cell_type": "code",
   "execution_count": 4,
   "metadata": {},
   "outputs": [
    {
     "data": {
      "text/html": [
       "<table>\n",
       "<tr><th>name</th><th>description</th><th>default</th><th>current value</th><th>related methods</th></tr><tr><td>with_wrapping</td><td>If 'True', wrap the Expression after the parameters</td><td>None</td><td>None/False</td><td>('with_wrapping',)</td></tr>\n",
       "<tr><td>condition_wrapping</td><td>Wrap 'before' or 'after' the condition (or None).</td><td>None</td><td>None/False</td><td>('with_wrap_after_condition', 'with_wrap_before_condition')</td></tr>\n",
       "<tr><td>wrap_params</td><td>If 'True', wraps every two parameters AND wraps the Expression after the parameters</td><td>None</td><td>None/False</td><td>('with_params',)</td></tr>\n",
       "<tr><td>justification</td><td>justify to the 'left', 'center', or 'right' in the array cells</td><td>center</td><td>center</td><td>('with_justification',)</td></tr>\n",
       "</table>\n"
      ],
      "text/plain": [
       "style name: with_wrapping\n",
       "description: If 'True', wrap the Expression after the parameters\n",
       "default: None\n",
       "current value: None/False\n",
       "related methods: ('with_wrapping',)\n",
       "style name: condition_wrapping\n",
       "description: Wrap 'before' or 'after' the condition (or None).\n",
       "default: None\n",
       "current value: None/False\n",
       "related methods: ('with_wrap_after_condition', 'with_wrap_before_condition')\n",
       "style name: wrap_params\n",
       "description: If 'True', wraps every two parameters AND wraps the Expression after the parameters\n",
       "default: None\n",
       "current value: None/False\n",
       "related methods: ('with_params',)\n",
       "style name: justification\n",
       "description: justify to the 'left', 'center', or 'right' in the array cells\n",
       "default: center\n",
       "current value: center\n",
       "related methods: ('with_justification',)"
      ]
     },
     "metadata": {},
     "output_type": "display_data"
    }
   ],
   "source": [
    "stored_expr.style_options()"
   ]
  },
  {
   "cell_type": "code",
   "execution_count": 5,
   "metadata": {},
   "outputs": [
    {
     "data": {
      "text/html": [
       "<table><tr><th>&nbsp;</th><th>core type</th><th>sub-expressions</th><th>expression</th></tr>\n",
       "<tr><td>0</td><td>Operation</td><td>operator:&nbsp;1<br>operand:&nbsp;3<br></td><td><a class=\"ProveItLink\" href=\"../7a30a082bb6036650adc7b34880723666f0bd7a40/expr.ipynb\"><img src=\"../7a30a082bb6036650adc7b34880723666f0bd7a40/expr.png\" style=\"display:inline;vertical-align:middle;\" /></a></td></tr>\n",
       "<tr><td>1</td><td>Literal</td><td></td><td><a class=\"ProveItLink\" href=\"../../../../../logic/booleans/quantification/universality/__pv_it/common/083d2baa0b8ecab1d230f9ec29a15aa1355809fb0/expr.ipynb\"><img src=\"../../../../../logic/booleans/quantification/universality/__pv_it/common/083d2baa0b8ecab1d230f9ec29a15aa1355809fb0/expr.png\" style=\"display:inline;vertical-align:middle;\" /></a></td></tr>\n",
       "<tr><td>2</td><td>ExprTuple</td><td>3</td><td><a class=\"ProveItLink\" href=\"../0691412eab1cafc0b21c5248d8bc6a514bbec1a00/expr.ipynb\"><img src=\"../0691412eab1cafc0b21c5248d8bc6a514bbec1a00/expr.png\" style=\"display:inline;vertical-align:middle;\" /></a></td></tr>\n",
       "<tr><td>3</td><td>Lambda</td><td>parameters:&nbsp;4<br>body:&nbsp;5<br></td><td><a class=\"ProveItLink\" href=\"../117d1de10628a2e944abc0c8d66d5ce20d02e8160/expr.ipynb\"><img src=\"../117d1de10628a2e944abc0c8d66d5ce20d02e8160/expr.png\" style=\"display:inline;vertical-align:middle;\" /></a></td></tr>\n",
       "<tr><td>4</td><td>ExprTuple</td><td>33, 34, 35</td><td><a class=\"ProveItLink\" href=\"../e3710f566e8c5f421e3a6d836f1cf95e81dfec060/expr.ipynb\"><img src=\"../e3710f566e8c5f421e3a6d836f1cf95e81dfec060/expr.png\" style=\"display:inline;vertical-align:middle;\" /></a></td></tr>\n",
       "<tr><td>5</td><td>Conditional</td><td>value:&nbsp;6<br>condition:&nbsp;7<br></td><td><a class=\"ProveItLink\" href=\"../af5262374dd20355733bfac71214c325a3fb22040/expr.ipynb\"><img src=\"../af5262374dd20355733bfac71214c325a3fb22040/expr.png\" style=\"display:inline;vertical-align:middle;\" /></a></td></tr>\n",
       "<tr><td>6</td><td>Operation</td><td>operator:&nbsp;8<br>operands:&nbsp;9<br></td><td><a class=\"ProveItLink\" href=\"../836e7490f37fefd51fc84051a3e759d34ec09f170/expr.ipynb\"><img src=\"../836e7490f37fefd51fc84051a3e759d34ec09f170/expr.png\" style=\"display:inline;vertical-align:middle;\" /></a></td></tr>\n",
       "<tr><td>7</td><td>Operation</td><td>operator:&nbsp;10<br>operands:&nbsp;11<br></td><td><a class=\"ProveItLink\" href=\"../2b8e488ff2995fb5cfca863129160e4da40cab1d0/expr.ipynb\"><img src=\"../2b8e488ff2995fb5cfca863129160e4da40cab1d0/expr.png\" style=\"display:inline;vertical-align:middle;\" /></a></td></tr>\n",
       "<tr><td>8</td><td>Literal</td><td></td><td><a class=\"ProveItLink\" href=\"../../../../../logic/equality/__pv_it/common/fb96dc12b2aa8801dda64d0132b396c63d1502bb0/expr.ipynb\"><img src=\"../../../../../logic/equality/__pv_it/common/fb96dc12b2aa8801dda64d0132b396c63d1502bb0/expr.png\" style=\"display:inline;vertical-align:middle;\" /></a></td></tr>\n",
       "<tr><td>9</td><td>ExprTuple</td><td>12, 13</td><td><a class=\"ProveItLink\" href=\"../61773befaccc56603811c53efbae2fc7127fcd540/expr.ipynb\"><img src=\"../61773befaccc56603811c53efbae2fc7127fcd540/expr.png\" style=\"display:inline;vertical-align:middle;\" /></a></td></tr>\n",
       "<tr><td>10</td><td>Literal</td><td></td><td><a class=\"ProveItLink\" href=\"../../../../../logic/booleans/conjunction/__pv_it/common/42118ff318bd65d98b1393f64ce7c2269feef76e0/expr.ipynb\"><img src=\"../../../../../logic/booleans/conjunction/__pv_it/common/42118ff318bd65d98b1393f64ce7c2269feef76e0/expr.png\" style=\"display:inline;vertical-align:middle;\" /></a></td></tr>\n",
       "<tr><td>11</td><td>ExprTuple</td><td>14, 15, 16</td><td><a class=\"ProveItLink\" href=\"../10de84cef1aa93b323e4484470e1fdcaed2c3b940/expr.ipynb\"><img src=\"../10de84cef1aa93b323e4484470e1fdcaed2c3b940/expr.png\" style=\"display:inline;vertical-align:middle;\" /></a></td></tr>\n",
       "<tr><td>12</td><td>Operation</td><td>operator:&nbsp;31<br>operands:&nbsp;17<br></td><td><a class=\"ProveItLink\" href=\"../8f6c6d053d011ee5f26ab54762638aada0e88a930/expr.ipynb\"><img src=\"../8f6c6d053d011ee5f26ab54762638aada0e88a930/expr.png\" style=\"display:inline;vertical-align:middle;\" /></a></td></tr>\n",
       "<tr><td>13</td><td>Operation</td><td>operator:&nbsp;28<br>operands:&nbsp;18<br></td><td><a class=\"ProveItLink\" href=\"../fb9a676f220061b5acb6aeda2a0867dc8670168c0/expr.ipynb\"><img src=\"../fb9a676f220061b5acb6aeda2a0867dc8670168c0/expr.png\" style=\"display:inline;vertical-align:middle;\" /></a></td></tr>\n",
       "<tr><td>14</td><td>Operation</td><td>operator:&nbsp;21<br>operands:&nbsp;19<br></td><td><a class=\"ProveItLink\" href=\"../e9f87a0977d5044ea8daf1040d2f219396bb3d5b0/expr.ipynb\"><img src=\"../e9f87a0977d5044ea8daf1040d2f219396bb3d5b0/expr.png\" style=\"display:inline;vertical-align:middle;\" /></a></td></tr>\n",
       "<tr><td>15</td><td>Operation</td><td>operator:&nbsp;21<br>operands:&nbsp;20<br></td><td><a class=\"ProveItLink\" href=\"../a259ec76dfb0a5be60b7c83d797520fa82c1dba60/expr.ipynb\"><img src=\"../a259ec76dfb0a5be60b7c83d797520fa82c1dba60/expr.png\" style=\"display:inline;vertical-align:middle;\" /></a></td></tr>\n",
       "<tr><td>16</td><td>Operation</td><td>operator:&nbsp;21<br>operands:&nbsp;22<br></td><td><a class=\"ProveItLink\" href=\"../c3c0a0522590e024022c8052cabac138164190560/expr.ipynb\"><img src=\"../c3c0a0522590e024022c8052cabac138164190560/expr.png\" style=\"display:inline;vertical-align:middle;\" /></a></td></tr>\n",
       "<tr><td>17</td><td>ExprTuple</td><td>23, 35</td><td><a class=\"ProveItLink\" href=\"../11e8e78dc40b7d2ed4ccf337b8ccc426e07c63310/expr.ipynb\"><img src=\"../11e8e78dc40b7d2ed4ccf337b8ccc426e07c63310/expr.png\" style=\"display:inline;vertical-align:middle;\" /></a></td></tr>\n",
       "<tr><td>18</td><td>ExprTuple</td><td>24, 25</td><td><a class=\"ProveItLink\" href=\"../9d7fc8444b63090fbd3ae2ed5d3be7cb298aa2bc0/expr.ipynb\"><img src=\"../9d7fc8444b63090fbd3ae2ed5d3be7cb298aa2bc0/expr.png\" style=\"display:inline;vertical-align:middle;\" /></a></td></tr>\n",
       "<tr><td>19</td><td>ExprTuple</td><td>33, 26</td><td><a class=\"ProveItLink\" href=\"../f95f1bd17fb8b13a3ef06d06b532b556f249a05f0/expr.ipynb\"><img src=\"../f95f1bd17fb8b13a3ef06d06b532b556f249a05f0/expr.png\" style=\"display:inline;vertical-align:middle;\" /></a></td></tr>\n",
       "<tr><td>20</td><td>ExprTuple</td><td>34, 26</td><td><a class=\"ProveItLink\" href=\"../4a72a986c458b001a667c5069838c28cc69c8d280/expr.ipynb\"><img src=\"../4a72a986c458b001a667c5069838c28cc69c8d280/expr.png\" style=\"display:inline;vertical-align:middle;\" /></a></td></tr>\n",
       "<tr><td>21</td><td>Literal</td><td></td><td><a class=\"ProveItLink\" href=\"../../../../../logic/sets/membership/__pv_it/common/477487d8796864d23d5810f83761435f25167f690/expr.ipynb\"><img src=\"../../../../../logic/sets/membership/__pv_it/common/477487d8796864d23d5810f83761435f25167f690/expr.png\" style=\"display:inline;vertical-align:middle;\" /></a></td></tr>\n",
       "<tr><td>22</td><td>ExprTuple</td><td>35, 27</td><td><a class=\"ProveItLink\" href=\"../4459dda147b56e10026c83203ced1bc32b9704ab0/expr.ipynb\"><img src=\"../4459dda147b56e10026c83203ced1bc32b9704ab0/expr.png\" style=\"display:inline;vertical-align:middle;\" /></a></td></tr>\n",
       "<tr><td>23</td><td>Operation</td><td>operator:&nbsp;28<br>operands:&nbsp;29<br></td><td><a class=\"ProveItLink\" href=\"../f170ec8a818639fe0c82537df52a378e693acb270/expr.ipynb\"><img src=\"../f170ec8a818639fe0c82537df52a378e693acb270/expr.png\" style=\"display:inline;vertical-align:middle;\" /></a></td></tr>\n",
       "<tr><td>24</td><td>Operation</td><td>operator:&nbsp;31<br>operands:&nbsp;30<br></td><td><a class=\"ProveItLink\" href=\"../4eb0995e2e905a3ec7f7e698c99755337d7f0dc10/expr.ipynb\"><img src=\"../4eb0995e2e905a3ec7f7e698c99755337d7f0dc10/expr.png\" style=\"display:inline;vertical-align:middle;\" /></a></td></tr>\n",
       "<tr><td>25</td><td>Operation</td><td>operator:&nbsp;31<br>operands:&nbsp;32<br></td><td><a class=\"ProveItLink\" href=\"../c073b1ebeab0c50a319178931f81b54b5dbe9b9b0/expr.ipynb\"><img src=\"../c073b1ebeab0c50a319178931f81b54b5dbe9b9b0/expr.png\" style=\"display:inline;vertical-align:middle;\" /></a></td></tr>\n",
       "<tr><td>26</td><td>Literal</td><td></td><td><a class=\"ProveItLink\" href=\"../../../../number_sets/complex_numbers/__pv_it/common/d18a028138f659eda00de597c28a3447fe87eb100/expr.ipynb\"><img src=\"../../../../number_sets/complex_numbers/__pv_it/common/d18a028138f659eda00de597c28a3447fe87eb100/expr.png\" style=\"display:inline;vertical-align:middle;\" /></a></td></tr>\n",
       "<tr><td>27</td><td>Literal</td><td></td><td><a class=\"ProveItLink\" href=\"../../../../number_sets/natural_numbers/__pv_it/common/6111329435c43892c831c4793de96afbf80bdb3e0/expr.ipynb\"><img src=\"../../../../number_sets/natural_numbers/__pv_it/common/6111329435c43892c831c4793de96afbf80bdb3e0/expr.png\" style=\"display:inline;vertical-align:middle;\" /></a></td></tr>\n",
       "<tr><td>28</td><td>Literal</td><td></td><td><a class=\"ProveItLink\" href=\"../../../../multiplication/__pv_it/common/ed719cef37831779c16481533a4d380a2f95ab270/expr.ipynb\"><img src=\"../../../../multiplication/__pv_it/common/ed719cef37831779c16481533a4d380a2f95ab270/expr.png\" style=\"display:inline;vertical-align:middle;\" /></a></td></tr>\n",
       "<tr><td>29</td><td>ExprTuple</td><td>33, 34</td><td><a class=\"ProveItLink\" href=\"../3dcd5ceea6334d8cb48fe14fdae236293aa9a6050/expr.ipynb\"><img src=\"../3dcd5ceea6334d8cb48fe14fdae236293aa9a6050/expr.png\" style=\"display:inline;vertical-align:middle;\" /></a></td></tr>\n",
       "<tr><td>30</td><td>ExprTuple</td><td>33, 35</td><td><a class=\"ProveItLink\" href=\"../ca026ac53bdbacea613db7b846f4dc02f53c7efe0/expr.ipynb\"><img src=\"../ca026ac53bdbacea613db7b846f4dc02f53c7efe0/expr.png\" style=\"display:inline;vertical-align:middle;\" /></a></td></tr>\n",
       "<tr><td>31</td><td>Literal</td><td></td><td><a class=\"ProveItLink\" href=\"../../common/0ac37aca1e54c35c5cda09672df32d4f69f1f3020/expr.ipynb\"><img src=\"../../common/0ac37aca1e54c35c5cda09672df32d4f69f1f3020/expr.png\" style=\"display:inline;vertical-align:middle;\" /></a></td></tr>\n",
       "<tr><td>32</td><td>ExprTuple</td><td>34, 35</td><td><a class=\"ProveItLink\" href=\"../67cb58b0a13c8179d0f0fdf4b5fbe1ee6081842d0/expr.ipynb\"><img src=\"../67cb58b0a13c8179d0f0fdf4b5fbe1ee6081842d0/expr.png\" style=\"display:inline;vertical-align:middle;\" /></a></td></tr>\n",
       "<tr><td>33</td><td>Variable</td><td></td><td><a class=\"ProveItLink\" href=\"../../../../../__pv_it/common/c06c606ec12678c58933ac85412ecadc2ae28be60/expr.ipynb\"><img src=\"../../../../../__pv_it/common/c06c606ec12678c58933ac85412ecadc2ae28be60/expr.png\" style=\"display:inline;vertical-align:middle;\" /></a></td></tr>\n",
       "<tr><td>34</td><td>Variable</td><td></td><td><a class=\"ProveItLink\" href=\"../../../../../__pv_it/common/195236b98c6c564a75b5dbada74b173bc52d5c3e0/expr.ipynb\"><img src=\"../../../../../__pv_it/common/195236b98c6c564a75b5dbada74b173bc52d5c3e0/expr.png\" style=\"display:inline;vertical-align:middle;\" /></a></td></tr>\n",
       "<tr><td>35</td><td>Variable</td><td></td><td><a class=\"ProveItLink\" href=\"../../../../../__pv_it/common/8968bb04eb3f7dfa02353397ce929b025bbd79c20/expr.ipynb\"><img src=\"../../../../../__pv_it/common/8968bb04eb3f7dfa02353397ce929b025bbd79c20/expr.png\" style=\"display:inline;vertical-align:middle;\" /></a></td></tr>\n",
       "</table>\n"
      ],
      "text/plain": [
       "0. forall_{a in Complex, b in Complex, n in NaturalPos} ((a * b)^{n} = (a^{n} * b^{n}))\n",
       "   core type: Operation\n",
       "   operator: 1\n",
       "   operand: 3\n",
       "1. forall\n",
       "   core type: Literal\n",
       "   sub-expressions: \n",
       "2. ((a, b, n) -> {(a * b)^{n} = (a^{n} * b^{n}) if a in Complex ,  b in Complex ,  n in NaturalPos.)\n",
       "   core type: ExprTuple\n",
       "   sub-expressions: 3\n",
       "3. (a, b, n) -> {(a * b)^{n} = (a^{n} * b^{n}) if a in Complex ,  b in Complex ,  n in NaturalPos.\n",
       "   core type: Lambda\n",
       "   parameters: 4\\n   body: 5\n",
       "4. (a, b, n)\n",
       "   core type: ExprTuple\n",
       "   sub-expressions: 33, 34, 35\n",
       "5. {(a * b)^{n} = (a^{n} * b^{n}) if a in Complex ,  b in Complex ,  n in NaturalPos.\n",
       "   core type: Conditional\n",
       "   value: 6\n",
       "   condition: 7\n",
       "6. (a * b)^{n} = (a^{n} * b^{n})\n",
       "   core type: Operation\n",
       "   operator: 8\n",
       "   operands: 9\n",
       "7. (a in Complex) and (b in Complex) and (n in NaturalPos)\n",
       "   core type: Operation\n",
       "   operator: 10\n",
       "   operands: 11\n",
       "8. =\n",
       "   core type: Literal\n",
       "   sub-expressions: \n",
       "9. ((a * b)^{n}, a^{n} * b^{n})\n",
       "   core type: ExprTuple\n",
       "   sub-expressions: 12, 13\n",
       "10. and\n",
       "    core type: Literal\n",
       "    sub-expressions: \n",
       "11. (a in Complex, b in Complex, n in NaturalPos)\n",
       "    core type: ExprTuple\n",
       "    sub-expressions: 14, 15, 16\n",
       "12. (a * b)^{n}\n",
       "    core type: Operation\n",
       "    operator: 31\n",
       "    operands: 17\n",
       "13. a^{n} * b^{n}\n",
       "    core type: Operation\n",
       "    operator: 28\n",
       "    operands: 18\n",
       "14. a in Complex\n",
       "    core type: Operation\n",
       "    operator: 21\n",
       "    operands: 19\n",
       "15. b in Complex\n",
       "    core type: Operation\n",
       "    operator: 21\n",
       "    operands: 20\n",
       "16. n in NaturalPos\n",
       "    core type: Operation\n",
       "    operator: 21\n",
       "    operands: 22\n",
       "17. (a * b, n)\n",
       "    core type: ExprTuple\n",
       "    sub-expressions: 23, 35\n",
       "18. (a^{n}, b^{n})\n",
       "    core type: ExprTuple\n",
       "    sub-expressions: 24, 25\n",
       "19. (a, Complex)\n",
       "    core type: ExprTuple\n",
       "    sub-expressions: 33, 26\n",
       "20. (b, Complex)\n",
       "    core type: ExprTuple\n",
       "    sub-expressions: 34, 26\n",
       "21. in\n",
       "    core type: Literal\n",
       "    sub-expressions: \n",
       "22. (n, NaturalPos)\n",
       "    core type: ExprTuple\n",
       "    sub-expressions: 35, 27\n",
       "23. a * b\n",
       "    core type: Operation\n",
       "    operator: 28\n",
       "    operands: 29\n",
       "24. a^{n}\n",
       "    core type: Operation\n",
       "    operator: 31\n",
       "    operands: 30\n",
       "25. b^{n}\n",
       "    core type: Operation\n",
       "    operator: 31\n",
       "    operands: 32\n",
       "26. Complex\n",
       "    core type: Literal\n",
       "    sub-expressions: \n",
       "27. NaturalPos\n",
       "    core type: Literal\n",
       "    sub-expressions: \n",
       "28. *\n",
       "    core type: Literal\n",
       "    sub-expressions: \n",
       "29. (a, b)\n",
       "    core type: ExprTuple\n",
       "    sub-expressions: 33, 34\n",
       "30. (a, n)\n",
       "    core type: ExprTuple\n",
       "    sub-expressions: 33, 35\n",
       "31. Exp\n",
       "    core type: Literal\n",
       "    sub-expressions: \n",
       "32. (b, n)\n",
       "    core type: ExprTuple\n",
       "    sub-expressions: 34, 35\n",
       "33. a\n",
       "    core type: Variable\n",
       "    sub-expressions: \n",
       "34. b\n",
       "    core type: Variable\n",
       "    sub-expressions: \n",
       "35. n\n",
       "    core type: Variable\n",
       "    sub-expressions: "
      ]
     },
     "metadata": {},
     "output_type": "display_data"
    }
   ],
   "source": [
    "# display the expression information\n",
    "stored_expr.expr_info()"
   ]
  },
  {
   "cell_type": "code",
   "execution_count": null,
   "metadata": {},
   "outputs": [],
   "source": []
  }
 ],
 "metadata": {
  "kernelspec": {
   "display_name": "Python 3",
   "language": "python",
   "name": "python3"
  }
 },
 "nbformat": 4,
 "nbformat_minor": 0
}