{
 "cells": [
  {
   "cell_type": "markdown",
   "metadata": {},
   "source": [
    "Show the Proof\n",
    "========"
   ]
  },
  {
   "cell_type": "code",
   "execution_count": 1,
   "metadata": {},
   "outputs": [
    {
     "data": {
      "text/html": [
       "<table><tr><th>&nbsp;</th><th>step type</th><th>requirements</th><th>statement</th></tr>\n",
       "<tr><td><a name=\"proveit.numbers.exponentiation._proof_sqrt2_is_not_rational.6b2a60c834089ad7cfd2f6ecf9da25eee47e845e0_step0\">0</a></td><td>instantiation</td><td><a href=\"#proveit.numbers.exponentiation._proof_sqrt2_is_not_rational.6b2a60c834089ad7cfd2f6ecf9da25eee47e845e0_step1\">1</a>, <a href=\"#proveit.numbers.exponentiation._proof_sqrt2_is_not_rational.6b2a60c834089ad7cfd2f6ecf9da25eee47e845e0_step2\">2</a></td><td><span style=\"font-size:20px;\"><a class=\"ProveItLink\" href=\"../4071a8894b1d6bb90c0496c7d4ef7c27f4e761980/expr.ipynb\"><img src=\"../4071a8894b1d6bb90c0496c7d4ef7c27f4e761980/expr.png\" style=\"display:inline;vertical-align:middle;\" /></a> <a class=\"ProveItLink\" href=\"proof.ipynb\" style=\"text-decoration: none\">&nbsp;&#x22A2;&nbsp;&nbsp;</a><a class=\"ProveItLink\" href=\"../6f59a08a73d3b024c3c7c476470e2bd5f295af8e0/expr.ipynb\"><img src=\"../6f59a08a73d3b024c3c7c476470e2bd5f295af8e0/expr.png\" style=\"display:inline;vertical-align:middle;\" /></a></span></td></tr>\n",
       "<tr><td>&nbsp;</td><td colspan=4 style=\"text-align:left\"><span style=\"font-size:20px;\"><a class=\"ProveItLink\" href=\"../../../../../__pv_it/common/09585084922504426caf1db2ff588a23a0932a960/expr.ipynb\"><img src=\"../../../../../__pv_it/common/09585084922504426caf1db2ff588a23a0932a960/expr.png\" style=\"display:inline;vertical-align:middle;\" /></a> : <a class=\"ProveItLink\" href=\"../2d5758ce0d8e8d47a526223df85e3e905d556ef10/expr.ipynb\"><img src=\"../2d5758ce0d8e8d47a526223df85e3e905d556ef10/expr.png\" style=\"display:inline;vertical-align:middle;\" /></a>, <a class=\"ProveItLink\" href=\"../../../../../__pv_it/common/a9162d1c3cc0470c02e5daf414500903a7a419230/expr.ipynb\"><img src=\"../../../../../__pv_it/common/a9162d1c3cc0470c02e5daf414500903a7a419230/expr.png\" style=\"display:inline;vertical-align:middle;\" /></a> : <a class=\"ProveItLink\" href=\"../6f59a08a73d3b024c3c7c476470e2bd5f295af8e0/expr.ipynb\"><img src=\"../6f59a08a73d3b024c3c7c476470e2bd5f295af8e0/expr.png\" style=\"display:inline;vertical-align:middle;\" /></a></span></td></tr><tr><td><a name=\"proveit.numbers.exponentiation._proof_sqrt2_is_not_rational.6b2a60c834089ad7cfd2f6ecf9da25eee47e845e0_step1\">1</a></td><td>theorem</td><td></td><td><span style=\"font-size:20px;\"> <a class=\"ProveItLink\" href=\"../../../../../logic/booleans/conjunction/_theory_nbs_/proofs/right_from_and/thm_proof.ipynb\" style=\"text-decoration: none\">&nbsp;&#x22A2;&nbsp;&nbsp;</a><a class=\"ProveItLink\" href=\"../../../../../logic/booleans/conjunction/__pv_it/theorems/53f934d959ef00a2d007db63433e676c9774b52c0/expr.ipynb\"><img src=\"../../../../../logic/booleans/conjunction/__pv_it/theorems/53f934d959ef00a2d007db63433e676c9774b52c0/expr.png\" style=\"display:inline;vertical-align:middle;\" /></a></span></td></tr>\n",
       "<tr><td>&nbsp;</td><td colspan=4 style-\"text-align:left\"><a class=\"ProveItLink\" href=\"../../../../../logic/booleans/conjunction/_theory_nbs_/proofs/right_from_and/thm_proof.ipynb\">proveit.logic.booleans.conjunction.right_from_and</a></td></tr><tr><td><a name=\"proveit.numbers.exponentiation._proof_sqrt2_is_not_rational.6b2a60c834089ad7cfd2f6ecf9da25eee47e845e0_step2\">2</a></td><td>assumption</td><td></td><td><span style=\"font-size:20px;\"><a class=\"ProveItLink\" href=\"../4071a8894b1d6bb90c0496c7d4ef7c27f4e761980/expr.ipynb\"><img src=\"../4071a8894b1d6bb90c0496c7d4ef7c27f4e761980/expr.png\" style=\"display:inline;vertical-align:middle;\" /></a> <a class=\"ProveItLink\" href=\"../d68119bcbdc08db93a6d419c6374b96e72db774d0/proof.ipynb\" style=\"text-decoration: none\">&nbsp;&#x22A2;&nbsp;&nbsp;</a><a class=\"ProveItLink\" href=\"../4071a8894b1d6bb90c0496c7d4ef7c27f4e761980/expr.ipynb\"><img src=\"../4071a8894b1d6bb90c0496c7d4ef7c27f4e761980/expr.png\" style=\"display:inline;vertical-align:middle;\" /></a></span></td></tr>\n",
       "</table>"
      ],
      "text/plain": [
       "<proveit._core_.proof._ShowProof at 0x7fa27ed9d5f8>"
      ]
     },
     "execution_count": 1,
     "metadata": {},
     "output_type": "execute_result"
    }
   ],
   "source": [
    "import proveit\n",
    "# Automation is not needed when only showing a stored proof:\n",
    "proveit.defaults.automation = False # This will speed things up.\n",
    "proveit.defaults.inline_pngs = False # Makes files smaller.\n",
    "%show_proof"
   ]
  },
  {
   "cell_type": "code",
   "execution_count": null,
   "metadata": {},
   "outputs": [],
   "source": []
  }
 ],
 "metadata": {
  "kernelspec": {
   "display_name": "Python 3",
   "language": "python",
   "name": "python3"
  }
 },
 "nbformat": 4,
 "nbformat_minor": 0
}