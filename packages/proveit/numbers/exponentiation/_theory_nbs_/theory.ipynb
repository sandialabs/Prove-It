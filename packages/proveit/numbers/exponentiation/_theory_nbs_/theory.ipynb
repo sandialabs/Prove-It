{
 "cells": [
  {
   "cell_type": "markdown",
   "metadata": {},
   "source": [
    "Theory of <a class=\"ProveItLink\" href=\"../../../_theory_nbs_/theory.ipynb\">proveit</a>.<a class=\"ProveItLink\" href=\"../../_theory_nbs_/theory.ipynb\">numbers</a>.exponentiation\n",
    "========\n",
    "\n",
    "Provide description here."
   ]
  },
  {
   "cell_type": "code",
   "execution_count": 1,
   "metadata": {},
   "outputs": [
    {
     "data": {
      "text/html": [
       "<h3>Local content of this theory</h3>"
      ],
      "text/plain": [
       "<IPython.core.display.HTML object>"
      ]
     },
     "metadata": {},
     "output_type": "display_data"
    },
    {
     "data": {
      "text/html": [
       "<table><tr>\n",
       "<th><a class=\"ProveItLink\" href=\"common.ipynb\">common expressions</a></th>\n",
       "<th><a class=\"ProveItLink\" href=\"axioms.ipynb\">axioms</a></th>\n",
       "<th><a class=\"ProveItLink\" href=\"theorems.ipynb\">theorems</a></th>\n",
       "<th><a class=\"ProveItLink\" href=\"demonstrations.ipynb\">demonstrations</a></th>\n",
       "</tr></table>\n",
       "<h3>Sub-theories</h3>\n"
      ],
      "text/plain": [
       "<IPython.core.display.HTML object>"
      ]
     },
     "metadata": {},
     "output_type": "display_data"
    },
    {
     "data": {
      "text/html": [
       "<h3>All axioms contained within this theory</h3>"
      ],
      "text/plain": [
       "<IPython.core.display.HTML object>"
      ]
     },
     "metadata": {},
     "output_type": "display_data"
    },
    {
     "data": {
      "text/html": [
       "<dt><a class=\"ProveItLink\" href=\"axioms.ipynb#nat_exp_def\">proveit.numbers.exponentiation.nat_exp_def</a></dt><dd><a class=\"ProveItLink\" href=\"../__pv_it/axioms/6d47ab1332566898f17e2e8eb5976189ece78a0c0/expr.ipynb\"><img src=\"data:image/png;base64,iVBORw0KGgoAAAANSUhEUgAAAXEAAAAWBAMAAADEL7HBAAAAMFBMVEX///8AAAAAAAAAAAAAAAAA\n",
       "AAAAAAAAAAAAAAAAAAAAAAAAAAAAAAAAAAAAAAAAAAAv3aB7AAAAD3RSTlMAq1RmmUTNIjK7EInv\n",
       "3XZ/CtNrAAAACXBIWXMAAA7EAAAOxAGVKw4bAAAD9klEQVRIx8VXTWgTURCe7G6adNPEiieLlIB/\n",
       "Bw8WrT9UqIHW36pEPSiiNeChWBDWs027FoRiUVqoaBRqxCJWocafk4JERTyIWqSHeihsRS16qKKo\n",
       "pRedefvT3c1m+9aLD1528+Z7X76dNzM7AQg4Isa1fuN0qtSqBOL4t/0K9+84x3v9Iq97Bi9KjIlk\n",
       "EA6P0cqxu9WY1fRlKbdwoWC4bSQDsyXWVYE4XAfxaEcaEnXzbycMzS30pY1b+Q3zJqSFi26jnAnG\n",
       "4RhDIHwHaOfY367P0/S4fdzKm8ybKlVKqS6jVBeMwzG+JuVfmD4c++v1WZEHiCW5lVt+7oJ4t1t5\n",
       "VUAOxzicBlRelZ9/P2FwiuinCv4wt+JhLyTuu60rAnK4DT9QCju2kOIXCISh+Wpi4iW3cgmTS56u\n",
       "6b3naW3BOTJ585F1hJ5Q4mitOfVZcxuOoJoYqxiRcYCsWsJv0BGG5naAy9zK6VElmNR2z+mYYIP9\n",
       "4DGcqUStNGoZHVAbR6Ffk3+71s8vRK2ifiBZlcSXPLNORxiaJyFS7Sg6A7WdDny2JS0+Me7j6M4N\n",
       "sDm/yPO53iKjIs6GrET1hCJHOP0OIjMl0YK1RdCTIDLu4XKTjjA0K/OxtGGJTubScr8iXLGwtCJU\n",
       "P4SdZnIgVIWtZU7kOW4ASffaHbqYUKoacwmWBln+CQK9DuQT7MQMlW/yEP1muMvlcjsdYWgKmpWg\n",
       "zcgQGwHYBPYVoVGCgk05wOvyyhGix29c7w0M6JhTOQjfIORK1B6Aq3gaRW/ldjrCMFymET+mt31Q\n",
       "2Avs+hm9r2B9CVsRug9oBVu0QPg33PKM87f0cVSR5yqbA2rjQNkL6pwF8E+elAujPtFi0BGG4e7h\n",
       "+yihLK5IDpNx5UpbX8JWBPXhclN5pQbyhVARPN/fMAgwnF4CMasWeEKRA6oKsDrvtDxh0SL2lc9Q\n",
       "k44wDNeB/hJhMAr7ydzQYOtL9uvKpYRZW7EYCTNDxbD3q+suwOqzu2CflXIOKAY7i3cqaF0qfBKd\n",
       "Xl3L6rlUcFZFjO87GRcdYRguxCBYo9bncrlkz0FbX8JWBFUumJujoyDv0Zat8Y7zc9h9TAtNc1qd\n",
       "0DE93pEDjgBcc5GEm7HjgjhLJJIUyRjxHU+56OIWjkkqRqCXeRUzVDb7kl7d57DPemuM+1X7uMr1\n",
       "UvDjyHLsz9pxHbGMhPWRDuqBAo/lgt6XsBURm89qe7dTdogpLuX1gbuxUoyFkz4+/gKRS3R7+/iA\n",
       "Gn2q9yVs5Vyb0cWz9PL9N3KRS7kPB0/XShg37nYuZ4SPULJixpov9TCXch+OSoXvwcvjDpXd1+nr\n",
       "Do1LenmOKY7dU744vr8I/3X8BaGXJHX3G48lAAAAAElFTkSuQmCC\n",
       "\" style=\"display:inline;vertical-align:middle;\" /></a></dd>"
      ],
      "text/plain": [
       "<IPython.core.display.HTML object>"
      ]
     },
     "metadata": {},
     "output_type": "display_data"
    }
   ],
   "source": [
    "import proveit\n",
    "%theory"
   ]
  }
 ],
 "metadata": {
  "kernelspec": {
   "display_name": "Python 3",
   "language": "python",
   "name": "python3"
  }
 },
 "nbformat": 4,
 "nbformat_minor": 0
}