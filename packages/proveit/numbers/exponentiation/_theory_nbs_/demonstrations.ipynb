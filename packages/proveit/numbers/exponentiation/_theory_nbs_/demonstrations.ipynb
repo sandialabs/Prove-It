{
 "cells": [
  {
   "cell_type": "markdown",
   "metadata": {},
   "source": [
    "Demonstrations for the theory of <a class=\"ProveItLink\" href=\"theory.ipynb\">proveit.numbers.exponentiation</a>\n",
    "========"
   ]
  },
  {
   "cell_type": "code",
   "execution_count": null,
   "metadata": {},
   "outputs": [],
   "source": [
    "import proveit\n",
    "from proveit import Literal, used_vars, free_vars\n",
    "from proveit import a, b, c, d, f, n, x, y\n",
    "from proveit.logic import And, Boolean, InSet, NotEquals\n",
    "from proveit.numbers import zero, one, two, three, frac, num\n",
    "from proveit.numbers import (Integer, Natural, NaturalPos,\n",
    "                             Rational, RationalNonZero, RationalPos, Real,\n",
    "                             RealNonNeg, RealNonPos, RealPos, Complex, ComplexNonZero)\n",
    "from proveit.numbers import Add, Div, Exp, greater, greater_eq, Mult, sqrt, subtract\n",
    "from proveit.numbers.exponentiation import sqrt_of_prod\n",
    "%begin demonstrations"
   ]
  },
  {
   "cell_type": "markdown",
   "metadata": {},
   "source": [
    "# Exponentiation (Exp) $x^{y}$"
   ]
  },
  {
   "cell_type": "markdown",
   "metadata": {},
   "source": [
    "<div style=\"line-height:1.4; font-size:14pt\">\n",
    "\n",
    "<a href='#introduction'>Introduction</a><br>\n",
    "<a href='#simple_expressions'>Simple Expressions involving Exponentiation $x^y$</a><br>\n",
    "<a href='#common_attributes'>Common Attributes of the Exp $x^y$ Expression</a><br>\n",
    "<a href='#axioms'>Axioms</a><br>\n",
    "<a href='#theorems'>Theorems</a><br>\n",
    "<a href='#further_demonstrations'>Further Demonstrations</a><br>\n",
    "    <ol>\n",
    "        <li><a href='#demo01'>TBA</a></li>\n",
    "        <li><a href='#demo02'>TBA</a></li>\n",
    "        <li><a href='#demo03'>TBA</a></li>\n",
    "    </ol>\n",
    "\n",
    "</div>\n"
   ]
  },
  {
   "cell_type": "markdown",
   "metadata": {},
   "source": [
    "## Introduction <a id='introduction'></a>"
   ]
  },
  {
   "cell_type": "markdown",
   "metadata": {},
   "source": [
    "<font size=4>The `Exp` class allows us to represent exponentiation expressions such as $2^3$, $x^y$, or $(x-3)^2$. This ``_demonstrations_`` notebook explores the `Exp` (exponentiation) class, its axioms and common theorems, and related methods.</font>"
   ]
  },
  {
   "cell_type": "markdown",
   "metadata": {},
   "source": [
    "## Simple Expressions Involving Exponentiation $x^y$<a id='simple_expressions'></a>"
   ]
  },
  {
   "cell_type": "markdown",
   "metadata": {},
   "source": [
    "<font size=4>It is straightforward to construct expressions involving exponentiation. Here are some basic examples of such expressions:</font>"
   ]
  },
  {
   "cell_type": "code",
   "execution_count": null,
   "metadata": {},
   "outputs": [],
   "source": [
    "# basic expression with exponent\n",
    "Exp(x, y)"
   ]
  },
  {
   "cell_type": "code",
   "execution_count": null,
   "metadata": {},
   "outputs": [],
   "source": [
    "# exponentials involving variables and numbers\n",
    "example1, example2, example3 = Exp(x, two), Exp(two, three), subtract(one, Exp(a, two))"
   ]
  },
  {
   "cell_type": "code",
   "execution_count": null,
   "metadata": {},
   "outputs": [],
   "source": [
    "# A sqrt portrayed with a radical is produced using the special sqrt() call,\n",
    "# which invokes the Exp() class behind the scenes with special formatting\n",
    "sqrt(Add(x, two))"
   ]
  },
  {
   "cell_type": "markdown",
   "metadata": {},
   "source": [
    "## Common Attributes of a Subset expression <a id='common_attributes'></a>"
   ]
  },
  {
   "cell_type": "markdown",
   "metadata": {},
   "source": [
    "<font size=4>Let's define a simple example exponential expression, $(x-y)^2$, and look at some of its attributes.</font>"
   ]
  },
  {
   "cell_type": "code",
   "execution_count": null,
   "metadata": {},
   "outputs": [],
   "source": [
    "x_minus_y_quantity_squared = Exp(subtract(x,y), two)"
   ]
  },
  {
   "cell_type": "code",
   "execution_count": null,
   "metadata": {},
   "outputs": [],
   "source": [
    "x_minus_y_quantity_squared.expr_info()"
   ]
  },
  {
   "cell_type": "markdown",
   "metadata": {},
   "source": [
    "<font size=4>We can access the base and exponent separately, and identify the `Exp` operator as the outermost operation:</font>"
   ]
  },
  {
   "cell_type": "code",
   "execution_count": null,
   "metadata": {},
   "outputs": [],
   "source": [
    "x_minus_y_quantity_squared.base"
   ]
  },
  {
   "cell_type": "code",
   "execution_count": null,
   "metadata": {},
   "outputs": [],
   "source": [
    "x_minus_y_quantity_squared.exponent"
   ]
  },
  {
   "cell_type": "code",
   "execution_count": null,
   "metadata": {},
   "outputs": [],
   "source": [
    "x_minus_y_quantity_squared.operator"
   ]
  },
  {
   "cell_type": "markdown",
   "metadata": {},
   "source": [
    "<font size=4>We can grab all the components (base and exponent) of the expression simultaneously as a tuple of expressions. We can also get a list of the variables and a separate list of the *free* variables in the expression (of course, in this expression, all the variables are also free variables):</font>"
   ]
  },
  {
   "cell_type": "code",
   "execution_count": null,
   "metadata": {},
   "outputs": [],
   "source": [
    "x_minus_y_quantity_squared.operands"
   ]
  },
  {
   "cell_type": "code",
   "execution_count": null,
   "metadata": {},
   "outputs": [],
   "source": [
    "used_vars(x_minus_y_quantity_squared)"
   ]
  },
  {
   "cell_type": "code",
   "execution_count": null,
   "metadata": {},
   "outputs": [],
   "source": [
    "free_vars(x_minus_y_quantity_squared)"
   ]
  },
  {
   "cell_type": "markdown",
   "metadata": {},
   "source": [
    "## Axioms <a id='axioms'></a>"
   ]
  },
  {
   "cell_type": "markdown",
   "metadata": {},
   "source": [
    "<font size=4>The ``axioms`` for the exponentiation theory establish the basic definitions of exponentiation … Actually, right now we have no separate axioms for the exponentiation theory.</font>"
   ]
  },
  {
   "cell_type": "markdown",
   "metadata": {},
   "source": [
    "## Theorems <a id='theorems'></a>"
   ]
  },
  {
   "cell_type": "markdown",
   "metadata": {},
   "source": [
    "<font size=4>The ``theorems`` for the exponentiation theory establish many of the basic laws of exponentiation as well as some closure principles.</font>"
   ]
  },
  {
   "cell_type": "markdown",
   "metadata": {},
   "source": [
    "## Demonstrations (TBA) <a id='further_demonstrations'></a>"
   ]
  },
  {
   "cell_type": "markdown",
   "metadata": {},
   "source": [
    "<a id='demo01'></a><font size=4>1. TBA.<br><br>\n",
    "We begin with something simple …</font>"
   ]
  },
  {
   "cell_type": "markdown",
   "metadata": {},
   "source": [
    "<a id='demo02'></a><font size=4><br>2. TBA.<br><br>\n",
    "Something else relatively simple …</font>"
   ]
  },
  {
   "cell_type": "markdown",
   "metadata": {},
   "source": [
    "<a id='demo03'></a><font size=4><br>3. TBA.<br><br>\n",
    "Something more complex …</font>"
   ]
  },
  {
   "cell_type": "markdown",
   "metadata": {},
   "source": [
    "## Misc To Be Integrated Into the Demonstration Page"
   ]
  },
  {
   "cell_type": "code",
   "execution_count": null,
   "metadata": {},
   "outputs": [],
   "source": [
    "# Some example test expressions involving Exp or sqrt()\n",
    "exp_test_01, exp_test_02, exp_test_03 = Exp(x, y), Exp(two, three), sqrt(two)"
   ]
  },
  {
   "cell_type": "markdown",
   "metadata": {},
   "source": [
    "### Evaluations"
   ]
  },
  {
   "cell_type": "code",
   "execution_count": null,
   "metadata": {},
   "outputs": [],
   "source": [
    "Exp(three, three).evaluation()"
   ]
  },
  {
   "cell_type": "markdown",
   "metadata": {},
   "source": [
    "Some testing of closure theorems."
   ]
  },
  {
   "cell_type": "code",
   "execution_count": null,
   "metadata": {},
   "outputs": [],
   "source": [
    "InSet(exp_test_01, NaturalPos).prove(assumptions=[InSet(x, Natural), InSet(y, Natural)])"
   ]
  },
  {
   "cell_type": "code",
   "execution_count": null,
   "metadata": {},
   "outputs": [],
   "source": [
    "InSet(exp_test_01, Natural).prove(assumptions=[InSet(x, Natural), InSet(y, Natural)])"
   ]
  },
  {
   "cell_type": "code",
   "execution_count": null,
   "metadata": {},
   "outputs": [],
   "source": [
    "InSet(exp_test_01, Integer).prove(assumptions=[InSet(x, Integer), InSet(y, Natural)])"
   ]
  },
  {
   "cell_type": "code",
   "execution_count": null,
   "metadata": {},
   "outputs": [],
   "source": [
    "InSet(exp_test_01, Rational).prove(assumptions=[InSet(x, Rational), InSet(y, Natural)])"
   ]
  },
  {
   "cell_type": "code",
   "execution_count": null,
   "metadata": {},
   "outputs": [],
   "source": [
    "InSet(exp_test_01, Rational).prove(assumptions=[InSet(x, RationalNonZero), InSet(y, Integer)])"
   ]
  },
  {
   "cell_type": "code",
   "execution_count": null,
   "metadata": {},
   "outputs": [],
   "source": [
    "InSet(exp_test_01, RationalNonZero).prove(assumptions=[InSet(x, RationalNonZero), InSet(y, Integer)])"
   ]
  },
  {
   "cell_type": "code",
   "execution_count": null,
   "metadata": {},
   "outputs": [],
   "source": [
    "InSet(exp_test_01, RationalPos).prove(assumptions=[InSet(x, RationalPos), InSet(y, Integer)])"
   ]
  },
  {
   "cell_type": "code",
   "execution_count": null,
   "metadata": {},
   "outputs": [],
   "source": [
    "InSet(exp_test_01, Real).prove(assumptions=[InSet(x, Real), InSet(y, Natural)])"
   ]
  },
  {
   "cell_type": "code",
   "execution_count": null,
   "metadata": {},
   "outputs": [],
   "source": [
    "InSet(exp_test_01, Real).prove(assumptions=[InSet(x, RealPos), InSet(y, Integer)])"
   ]
  },
  {
   "cell_type": "code",
   "execution_count": null,
   "metadata": {},
   "outputs": [],
   "source": [
    "InSet(exp_test_01, RealPos).prove(assumptions=[InSet(x, RealPos), InSet(y, Integer)])"
   ]
  },
  {
   "cell_type": "code",
   "execution_count": null,
   "metadata": {},
   "outputs": [],
   "source": [
    "InSet(exp_test_01, RealNonNeg).prove(assumptions=[InSet(x, RealNonNeg), InSet(y, Integer)])"
   ]
  },
  {
   "cell_type": "code",
   "execution_count": null,
   "metadata": {},
   "outputs": [],
   "source": [
    "InSet(Exp(x, frac(one, two)), RealNonNeg).prove(assumptions=[InSet(x, RealNonNeg)])"
   ]
  },
  {
   "cell_type": "code",
   "execution_count": null,
   "metadata": {},
   "outputs": [],
   "source": [
    "InSet(exp_test_01, Complex).prove(assumptions=[InSet(x, Complex), InSet(y, Complex)])"
   ]
  },
  {
   "cell_type": "code",
   "execution_count": null,
   "metadata": {},
   "outputs": [],
   "source": [
    "InSet(exp_test_01, ComplexNonZero).prove(assumptions=[InSet(x, ComplexNonZero), InSet(y, Complex)])"
   ]
  },
  {
   "cell_type": "code",
   "execution_count": null,
   "metadata": {},
   "outputs": [],
   "source": [
    "InSet(Exp(three, two), RealPos).prove()"
   ]
  },
  {
   "cell_type": "code",
   "execution_count": null,
   "metadata": {},
   "outputs": [],
   "source": [
    "exp_test_03"
   ]
  },
  {
   "cell_type": "code",
   "execution_count": null,
   "metadata": {},
   "outputs": [],
   "source": [
    "InSet(exp_test_03, RealPos).prove()"
   ]
  },
  {
   "cell_type": "code",
   "execution_count": null,
   "metadata": {},
   "outputs": [],
   "source": [
    "InSet(two, RealPos).prove()"
   ]
  },
  {
   "cell_type": "code",
   "execution_count": null,
   "metadata": {},
   "outputs": [],
   "source": [
    "two_in_real_k_t = InSet(two, Real).prove()"
   ]
  },
  {
   "cell_type": "code",
   "execution_count": null,
   "metadata": {},
   "outputs": [],
   "source": [
    "two_in_real_k_t.proof()"
   ]
  },
  {
   "cell_type": "code",
   "execution_count": null,
   "metadata": {},
   "outputs": [],
   "source": [
    "sqrt2_is_complex = InSet(exp_test_03, Complex).prove()"
   ]
  },
  {
   "cell_type": "code",
   "execution_count": null,
   "metadata": {},
   "outputs": [],
   "source": [
    "t_ = Literal('t')\n",
    "two_to_power_t = Exp(two, t_)"
   ]
  },
  {
   "cell_type": "code",
   "execution_count": null,
   "metadata": {},
   "outputs": [],
   "source": [
    "InSet(two_to_power_t, NaturalPos).prove(assumptions=[InSet(t_, NaturalPos)])"
   ]
  },
  {
   "cell_type": "markdown",
   "metadata": {},
   "source": [
    "Testing the formatting of some Exp() and sqrt() outputs"
   ]
  },
  {
   "cell_type": "code",
   "execution_count": null,
   "metadata": {},
   "outputs": [],
   "source": [
    "InSet(exp_test_03, RealPos).prove()"
   ]
  },
  {
   "cell_type": "code",
   "execution_count": null,
   "metadata": {},
   "outputs": [],
   "source": [
    "Exp(x, frac(one, two))"
   ]
  },
  {
   "cell_type": "code",
   "execution_count": null,
   "metadata": {},
   "outputs": [],
   "source": [
    "sqrt_test = sqrt(Add(one, frac(a, b)))"
   ]
  },
  {
   "cell_type": "code",
   "execution_count": null,
   "metadata": {},
   "outputs": [],
   "source": [
    "print(\"sqrt_test = {}\".format(sqrt_test))"
   ]
  },
  {
   "cell_type": "code",
   "execution_count": null,
   "metadata": {},
   "outputs": [],
   "source": [
    "sqrt_test"
   ]
  },
  {
   "cell_type": "code",
   "execution_count": null,
   "metadata": {},
   "outputs": [],
   "source": [
    "Add(two, sqrt_test)"
   ]
  },
  {
   "cell_type": "markdown",
   "metadata": {},
   "source": [
    "Testing the Mult.exponent_combination() method (after eliminating Sqrt class)"
   ]
  },
  {
   "cell_type": "code",
   "execution_count": null,
   "metadata": {},
   "outputs": [],
   "source": [
    "mult_of_exps_test_01 = Mult(Exp(a, b), Exp(a, c))"
   ]
  },
  {
   "cell_type": "code",
   "execution_count": null,
   "metadata": {},
   "outputs": [],
   "source": [
    "mult_of_exps_test_02 = Mult(sqrt(two), sqrt(two))"
   ]
  },
  {
   "cell_type": "code",
   "execution_count": null,
   "metadata": {},
   "outputs": [],
   "source": [
    "mult_of_exps_test_03 = Mult(Exp(two, b), sqrt(two))"
   ]
  },
  {
   "cell_type": "code",
   "execution_count": null,
   "metadata": {},
   "outputs": [],
   "source": [
    "mult_of_exps_test_01.exponent_combination(assumptions=[InSet(a, RealPos), InSet(b, Complex), InSet(c, Complex), NotEquals(a, zero)])"
   ]
  },
  {
   "cell_type": "code",
   "execution_count": null,
   "metadata": {},
   "outputs": [],
   "source": [
    "mult_of_exps_test_02.expr_info()"
   ]
  },
  {
   "cell_type": "code",
   "execution_count": null,
   "metadata": {},
   "outputs": [],
   "source": [
    "mult_of_exps_test_02.exponent_combination(auto_simplify=False)"
   ]
  },
  {
   "cell_type": "code",
   "execution_count": null,
   "metadata": {},
   "outputs": [],
   "source": [
    "mult_of_exps_test_02.exponent_combination()"
   ]
  },
  {
   "cell_type": "code",
   "execution_count": null,
   "metadata": {},
   "outputs": [],
   "source": [
    "mult_of_exps_test_03.exponent_combination(assumptions=[InSet(b, Complex), InSet(frac(one, two), Complex), NotEquals(two, zero)])"
   ]
  },
  {
   "cell_type": "markdown",
   "metadata": {},
   "source": [
    "## Testing Exp.exponent_separation()"
   ]
  },
  {
   "cell_type": "code",
   "execution_count": null,
   "metadata": {},
   "outputs": [],
   "source": [
    "expr_01, expr_02, expr_03, expr_04 = (\n",
    "    Exp(a, b), Exp(a, Add(b, c)), Exp(a, Add(b, c, d)), Exp(two, Add(one, two, c)))"
   ]
  },
  {
   "cell_type": "code",
   "execution_count": null,
   "metadata": {},
   "outputs": [],
   "source": [
    "# some general assumptions\n",
    "temp_assumptions = [InSet(a, RealPos), InSet(b, RealPos),\n",
    "                    InSet(c, RealPos), InSet(d, RealPos)]"
   ]
  },
  {
   "cell_type": "code",
   "execution_count": null,
   "metadata": {},
   "outputs": [],
   "source": [
    "# nothing to do if the exponent is not a sum:\n",
    "try:\n",
    "    expr_01.exponent_separation()\n",
    "except Exception as the_exception:\n",
    "    print(\"Error: {}\".format(the_exception))"
   ]
  },
  {
   "cell_type": "code",
   "execution_count": null,
   "metadata": {},
   "outputs": [],
   "source": [
    "# a 2-addend exponent\n",
    "expr_02.exponent_separation(assumptions=temp_assumptions)"
   ]
  },
  {
   "cell_type": "code",
   "execution_count": null,
   "metadata": {},
   "outputs": [],
   "source": [
    "# a 3-addend exponent\n",
    "expr_03.exponent_separation(assumptions=temp_assumptions)"
   ]
  },
  {
   "cell_type": "code",
   "execution_count": null,
   "metadata": {},
   "outputs": [],
   "source": [
    "# a 3-addend exponent\n",
    "expr_04.exponent_separation(assumptions=temp_assumptions)"
   ]
  },
  {
   "cell_type": "markdown",
   "metadata": {},
   "source": [
    "### Testing Exp.distribution()"
   ]
  },
  {
   "cell_type": "code",
   "execution_count": null,
   "metadata": {},
   "outputs": [],
   "source": [
    "expr_mult_02, expr_mult_03 = (\n",
    "    Exp(Mult(a, b), f),\n",
    "    Exp(Mult(a, b, c), f))"
   ]
  },
  {
   "cell_type": "code",
   "execution_count": null,
   "metadata": {},
   "outputs": [],
   "source": [
    "# some general assumptions\n",
    "temp_assumptions = [InSet(a, RealPos), InSet(b, NaturalPos), InSet(c, RealPos),\n",
    "                    InSet(d, RealPos), InSet(f, Complex),\n",
    "                    NotEquals(a, zero), NotEquals(b, zero), NotEquals(c, zero)]"
   ]
  },
  {
   "cell_type": "code",
   "execution_count": null,
   "metadata": {},
   "outputs": [],
   "source": [
    "expr_mult_02.distribution(assumptions=temp_assumptions)"
   ]
  },
  {
   "cell_type": "code",
   "execution_count": null,
   "metadata": {},
   "outputs": [],
   "source": [
    "expr_mult_03.distribution(assumptions=temp_assumptions)"
   ]
  },
  {
   "cell_type": "code",
   "execution_count": null,
   "metadata": {},
   "outputs": [],
   "source": [
    "expr_div_02 = Exp(Div(a, b), f)"
   ]
  },
  {
   "cell_type": "code",
   "execution_count": null,
   "metadata": {},
   "outputs": [],
   "source": [
    "expr_div_02.distribution(assumptions=temp_assumptions)"
   ]
  },
  {
   "cell_type": "code",
   "execution_count": null,
   "metadata": {},
   "outputs": [],
   "source": [
    "expr_exp_02 = Exp(Exp(a, b), f)"
   ]
  },
  {
   "cell_type": "code",
   "execution_count": null,
   "metadata": {},
   "outputs": [],
   "source": [
    "expr_exp_02.distribution(assumptions=temp_assumptions)"
   ]
  },
  {
   "cell_type": "markdown",
   "metadata": {},
   "source": [
    "### Testing Exp.bound_via_operand_bound()"
   ]
  },
  {
   "cell_type": "code",
   "execution_count": null,
   "metadata": {},
   "outputs": [],
   "source": [
    "from proveit import a, b, c, d, u, v, w, x, y, z, defaults\n",
    "from proveit.numbers import greater, greater_eq, Less, LessEq, RealNeg, RealNonNeg\n",
    "defaults.assumptions = [InSet(a, RealPos), InSet(b, RealNonNeg), InSet(c, RealNeg),\n",
    "                        InSet(d, RealNonPos), InSet(u, RealNeg), InSet(v, RealNeg),\n",
    "                        InSet(x, Real), InSet(y, Real), InSet(z, Real),\n",
    "                        InSet(w, RealPos), Less(u, v), LessEq(u, c),\n",
    "                        greater(x, zero), greater(y, x), LessEq(x, z)]"
   ]
  },
  {
   "cell_type": "code",
   "execution_count": null,
   "metadata": {},
   "outputs": [],
   "source": [
    "exp_x_a, exp_x_b, exp_x_c, exp_x_d, exp_u_2 = Exp(x, a), Exp(x, b), Exp(x, c), Exp(x, d), Exp(u, two)"
   ]
  },
  {
   "cell_type": "code",
   "execution_count": null,
   "metadata": {},
   "outputs": [],
   "source": [
    "InSet(x, RealNonNeg).prove()"
   ]
  },
  {
   "cell_type": "code",
   "execution_count": null,
   "metadata": {},
   "outputs": [],
   "source": [
    "# Case (1): pos exponent, Less relation\n",
    "exp_x_a.bound_via_operand_bound(Less(x, y))"
   ]
  },
  {
   "cell_type": "code",
   "execution_count": null,
   "metadata": {},
   "outputs": [],
   "source": [
    "# Case (2): pos exponent, LessEq relation\n",
    "exp_x_a.bound_via_operand_bound(LessEq(x, z))"
   ]
  },
  {
   "cell_type": "code",
   "execution_count": null,
   "metadata": {},
   "outputs": [],
   "source": [
    "# Case (3): non-neg exponent, Less relation\n",
    "exp_x_b.bound_via_operand_bound(Less(x, y))"
   ]
  },
  {
   "cell_type": "code",
   "execution_count": null,
   "metadata": {},
   "outputs": [],
   "source": [
    "# Case (4): non-neg exponent, LessEq relation\n",
    "exp_x_b.bound_via_operand_bound(LessEq(x, z))"
   ]
  },
  {
   "cell_type": "code",
   "execution_count": null,
   "metadata": {},
   "outputs": [],
   "source": [
    "# Case (5): neg exponent, Less relation\n",
    "exp_x_c.bound_via_operand_bound(Less(x, y))"
   ]
  },
  {
   "cell_type": "code",
   "execution_count": null,
   "metadata": {},
   "outputs": [],
   "source": [
    "# Case (6): neg exponent, LessEq relation\n",
    "exp_x_c.bound_via_operand_bound(LessEq(x, z))"
   ]
  },
  {
   "cell_type": "code",
   "execution_count": null,
   "metadata": {},
   "outputs": [],
   "source": [
    "# Case (7): non-pos exponent, Less relation\n",
    "exp_x_d.bound_via_operand_bound(Less(x, y))"
   ]
  },
  {
   "cell_type": "code",
   "execution_count": null,
   "metadata": {},
   "outputs": [],
   "source": [
    "# Case (8): non-pos exponent, LessEq relation\n",
    "exp_x_d.bound_via_operand_bound(LessEq(x, z))"
   ]
  },
  {
   "cell_type": "code",
   "execution_count": null,
   "metadata": {},
   "outputs": [],
   "source": [
    "# Case (9): exponent = 2, Less relation, negative base\n",
    "exp_u_2.bound_via_operand_bound(Less(u, v))"
   ]
  },
  {
   "cell_type": "code",
   "execution_count": null,
   "metadata": {},
   "outputs": [],
   "source": [
    "# Case (10): exponent = 2, LessEq relation, negative base\n",
    "exp_u_2.bound_via_operand_bound(LessEq(u, c))"
   ]
  },
  {
   "cell_type": "code",
   "execution_count": null,
   "metadata": {},
   "outputs": [],
   "source": [
    "# more concrete case\n",
    "Exp(w, two).bound_via_operand_bound(LessEq(w, two),\n",
    "            assumptions = defaults.assumptions + (LessEq(w, two),))"
   ]
  },
  {
   "cell_type": "code",
   "execution_count": null,
   "metadata": {},
   "outputs": [],
   "source": [
    "# more concrete case\n",
    "from proveit.numbers import four\n",
    "Exp(w, frac(one, two)).bound_via_operand_bound(LessEq(w, four),\n",
    "            assumptions = defaults.assumptions + \n",
    "                (LessEq(w, four), greater(frac(one, two), zero)))"
   ]
  },
  {
   "cell_type": "code",
   "execution_count": null,
   "metadata": {},
   "outputs": [],
   "source": [
    "# more concrete case\n",
    "from proveit.numbers import four\n",
    "Exp(w, three).bound_via_operand_bound(greater(w, four),\n",
    "            assumptions = defaults.assumptions + \n",
    "                (greater(w, four),))"
   ]
  },
  {
   "cell_type": "code",
   "execution_count": null,
   "metadata": {},
   "outputs": [],
   "source": [
    "%end demonstrations"
   ]
  },
  {
   "cell_type": "code",
   "execution_count": null,
   "metadata": {},
   "outputs": [],
   "source": []
  }
 ],
 "metadata": {
  "kernelspec": {
   "display_name": "Python 3",
   "language": "python",
   "name": "python3"
  }
 },
 "nbformat": 4,
 "nbformat_minor": 0
}
